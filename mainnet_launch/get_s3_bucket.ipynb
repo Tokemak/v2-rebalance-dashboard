{
 "cells": [
  {
   "cell_type": "code",
   "execution_count": 8,
   "metadata": {},
   "outputs": [
    {
     "name": "stdout",
     "output_type": "stream",
     "text": [
      "got  rebalance_plan_1726540976_0x0A2b94F6871c1D7A32Fe58E1ab5e6deA2f114E56.json\n",
      "got  rebalance_plan_1726602027_0x0A2b94F6871c1D7A32Fe58E1ab5e6deA2f114E56.json\n",
      "got  rebalance_plan_1726632022_0x0A2b94F6871c1D7A32Fe58E1ab5e6deA2f114E56.json\n",
      "got  rebalance_plan_1726676459_0x0A2b94F6871c1D7A32Fe58E1ab5e6deA2f114E56.json\n",
      "got  rebalance_plan_1726714560_0x0A2b94F6871c1D7A32Fe58E1ab5e6deA2f114E56.json\n",
      "got  rebalance_plan_1726752261_0x0A2b94F6871c1D7A32Fe58E1ab5e6deA2f114E56.json\n",
      "got  rebalance_plan_1726783084_0x0A2b94F6871c1D7A32Fe58E1ab5e6deA2f114E56.json\n",
      "got  rebalance_plan_1726812082_0x0A2b94F6871c1D7A32Fe58E1ab5e6deA2f114E56.json\n",
      "got  rebalance_plan_1726864739_0x0A2b94F6871c1D7A32Fe58E1ab5e6deA2f114E56.json\n",
      "got  rebalance_plan_1726894380_0x0A2b94F6871c1D7A32Fe58E1ab5e6deA2f114E56.json\n",
      "got  rebalance_plan_1726930400_0x0A2b94F6871c1D7A32Fe58E1ab5e6deA2f114E56.json\n",
      "got  rebalance_plan_1726961283_0x0A2b94F6871c1D7A32Fe58E1ab5e6deA2f114E56.json\n",
      "got  rebalance_plan_1726992015_0x0A2b94F6871c1D7A32Fe58E1ab5e6deA2f114E56.json\n",
      "got  rebalance_plan_1727025705_0x0A2b94F6871c1D7A32Fe58E1ab5e6deA2f114E56.json\n",
      "got  rebalance_plan_1727058063_0x0A2b94F6871c1D7A32Fe58E1ab5e6deA2f114E56.json\n",
      "got  rebalance_plan_1727096209_0x0A2b94F6871c1D7A32Fe58E1ab5e6deA2f114E56.json\n",
      "got  rebalance_plan_1727128850_0x0A2b94F6871c1D7A32Fe58E1ab5e6deA2f114E56.json\n",
      "got  rebalance_plan_1727158388_0x0A2b94F6871c1D7A32Fe58E1ab5e6deA2f114E56.json\n",
      "got  rebalance_plan_1727193280_0x0A2b94F6871c1D7A32Fe58E1ab5e6deA2f114E56.json\n",
      "got  rebalance_plan_1727198978_0x0A2b94F6871c1D7A32Fe58E1ab5e6deA2f114E56.json\n",
      "got  rebalance_plan_1727200884_0x0A2b94F6871c1D7A32Fe58E1ab5e6deA2f114E56.json\n",
      "got  rebalance_plan_1727220282_0x0A2b94F6871c1D7A32Fe58E1ab5e6deA2f114E56.json\n",
      "got  rebalance_plan_1727238820_0x0A2b94F6871c1D7A32Fe58E1ab5e6deA2f114E56.json\n",
      "got  rebalance_plan_1727274315_0x0A2b94F6871c1D7A32Fe58E1ab5e6deA2f114E56.json\n",
      "got  rebalance_plan_1727304396_0x0A2b94F6871c1D7A32Fe58E1ab5e6deA2f114E56.json\n",
      "got  rebalance_plan_1727363600_0x0A2b94F6871c1D7A32Fe58E1ab5e6deA2f114E56.json\n",
      "got  rebalance_plan_1727406707_0x0A2b94F6871c1D7A32Fe58E1ab5e6deA2f114E56.json\n",
      "got  rebalance_plan_1727451690_0x0A2b94F6871c1D7A32Fe58E1ab5e6deA2f114E56.json\n",
      "got  rebalance_plan_1727490111_0x0A2b94F6871c1D7A32Fe58E1ab5e6deA2f114E56.json\n",
      "got  rebalance_plan_1727543114_0x0A2b94F6871c1D7A32Fe58E1ab5e6deA2f114E56.json\n",
      "got  rebalance_plan_1727578106_0x0A2b94F6871c1D7A32Fe58E1ab5e6deA2f114E56.json\n",
      "got  rebalance_plan_1727623332_0x0A2b94F6871c1D7A32Fe58E1ab5e6deA2f114E56.json\n",
      "got  rebalance_plan_1727655535_0x0A2b94F6871c1D7A32Fe58E1ab5e6deA2f114E56.json\n",
      "got  rebalance_plan_1727702366_0x0A2b94F6871c1D7A32Fe58E1ab5e6deA2f114E56.json\n"
     ]
    }
   ],
   "source": [
    "import boto3\n",
    "from botocore import UNSIGNED\n",
    "from botocore.client import Config\n",
    "\n",
    "from mainnet_launch.constants import AutopoolConstants, SOLVER_REBALANCE_PLANS_DIR, ALL_AUTOPOOLS\n",
    "import os\n",
    "\n",
    "\n",
    "def enusure_all_rebalance_plans_are_loaded():\n",
    "    for autopool in ALL_AUTOPOOLS:\n",
    "        s3_client = boto3.client(\"s3\", config=Config(signature_version=UNSIGNED))\n",
    "        response = s3_client.list_objects_v2(Bucket=autopool.solver_rebalance_plans_bucket)\n",
    "        all_rebalance_plans = [o[\"Key\"] for o in response[\"Contents\"]]\n",
    "        local_rebalance_plans = [str(path).split(\"/\")[-1] for path in SOLVER_REBALANCE_PLANS_DIR.glob(\"*.json\")]\n",
    "        rebalance_plans_to_fetch = [\n",
    "            json_path for json_path in all_rebalance_plans if json_path not in local_rebalance_plans\n",
    "        ]\n",
    "        for json_key in rebalance_plans_to_fetch:\n",
    "            s3_client.download_file(\n",
    "                autopool.solver_rebalance_plans_bucket, json_key, SOLVER_REBALANCE_PLANS_DIR / json_key\n",
    "            )\n",
    "            print(\"got \", json_key)\n",
    "\n",
    "\n",
    "enusure_all_rebalance_plans_are_loaded(ALL_AUTOPOOLS)"
   ]
  },
  {
   "cell_type": "code",
   "execution_count": null,
   "metadata": {},
   "outputs": [],
   "source": [
    "def download_rebalance_plans(bucket_name: str, file_keys: list, download_dir: str):\n",
    "    s3_client = boto3.client(\"s3\", config=Config(signature_version=UNSIGNED))\n",
    "\n",
    "    # Ensure the download directory exists\n",
    "    if not os.path.exists(download_dir):\n",
    "        os.makedirs(download_dir)\n",
    "\n",
    "    for key in file_keys:\n",
    "        if key.startswith(\"rebalance_plan_\") and key.endswith(\".json\"):\n",
    "            file_path = os.path.join(download_dir, key)\n",
    "            print(f\"Downloading {key} to {file_path}\")\n",
    "            s3_client.download_file(bucket_name, key, file_path)\n",
    "\n",
    "    print(\"Download complete!\")"
   ]
  }
 ],
 "metadata": {
  "kernelspec": {
   "display_name": ".venv",
   "language": "python",
   "name": "python3"
  },
  "language_info": {
   "codemirror_mode": {
    "name": "ipython",
    "version": 3
   },
   "file_extension": ".py",
   "mimetype": "text/x-python",
   "name": "python",
   "nbconvert_exporter": "python",
   "pygments_lexer": "ipython3",
   "version": "3.10.6"
  },
  "orig_nbformat": 4
 },
 "nbformat": 4,
 "nbformat_minor": 2
}
