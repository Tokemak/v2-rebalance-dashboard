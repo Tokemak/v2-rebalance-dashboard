{
 "cells": [
  {
   "cell_type": "code",
   "execution_count": 3,
   "metadata": {},
   "outputs": [],
   "source": [
    "\"\"\"These are assumed to be ran after the production database is updated\"\"\"\n",
    "\n",
    "import pandas as pd\n",
    "\n",
    "from mainnet_launch.database.postgres_operations import (\n",
    "    _exec_sql_and_cache,\n",
    "    get_full_table_as_df_with_tx_hash,\n",
    "    get_full_table_as_df_with_block,\n",
    "    ENGINE,\n",
    "    get_full_table_as_df,\n",
    ")\n",
    "from mainnet_launch.database.schema.full import *\n",
    "\n",
    "from mainnet_launch.slack_messages.post_message import post_slack_message, post_message_with_table\n",
    "from mainnet_launch.constants import ALL_CHAINS, ALL_AUTOPOOLS\n",
    "\n",
    "# add destination vault liquidations\n",
    "# todo simply this to fewer sql queries\n",
    "ENGINE.echo = False"
   ]
  },
  {
   "cell_type": "code",
   "execution_count": 4,
   "metadata": {},
   "outputs": [
    {
     "data": {
      "text/plain": [
       "(                     destination_vault_address exchange_name  \\\n",
       " 0   0x4eeDC6d6126ae9C6D92D03bB355eEAe5E47d2b03        morpho   \n",
       " 1   0xFd70A9b4cE03Dc07Fe7Ba5e4D39fac11eE8d8615        morpho   \n",
       " 2   0xCc68b840Bd7567363855e1e5050803EC7Ea8C25c        morpho   \n",
       " 3   0x16cbe611AF0E01ec6988b59aD3690327aD496Eb7        morpho   \n",
       " 4   0xD7B1F55E0CcfFa849b35aA1c39B94eb415DB00cE        morpho   \n",
       " 5   0xAC8e9bbEFEAf5971c32E40b9b35DaD0B026a49fa        morpho   \n",
       " 6   0xab3DA8995D5FeA17913c3D12A5B199F1cCC9Bf0b        morpho   \n",
       " 7   0xE4545f9dBC30Ccb6Cda6930DDFd69f3D419FcB61         fluid   \n",
       " 8   0x06993Ecd8d8a16204bf7f86B00A0575aB69548DD         fluid   \n",
       " 9   0x071b90e1e322F5F94F74BA7ADd453BBE8D25032B         fluid   \n",
       " 10  0x310CCB9eC996A228cd6F4Eb2E70769ccDbeD163D         curve   \n",
       " 11  0xC253ef426519c700914DA4b2325dD0F4B7E8ffDc    balancerV3   \n",
       " \n",
       "                                            name                       symbol  \\\n",
       " 0          Tokemak-USD Coin-Gauntlet USDC Prime            toke-USDC-gtUSDCp   \n",
       " 1       Tokemak-USD Coin-Moonwell Flagship USDC             toke-USDC-mwUSDC   \n",
       " 2           Tokemak-USD Coin-Gauntlet USDC Core            toke-USDC-gtUSDCc   \n",
       " 3          Tokemak-USD Coin-Seamless USDC Vault             toke-USDC-smUSDC   \n",
       " 4           Tokemak-USD Coin-Gauntlet USDC Core            toke-USDC-gtUSDCc   \n",
       " 5          Tokemak-USD Coin-Gauntlet USDC Prime            toke-USDC-gtUSDCp   \n",
       " 6   Tokemak-USD Coin-Steakhouse High Yield USDC            toke-USDC-bbqUSDC   \n",
       " 7             Tokemak-USD Coin-Fluid Tether USD              toke-USDC-fUSDT   \n",
       " 8                       Tokemak-EURC-Fluid EURC              toke-EURC-fEURC   \n",
       " 9               Tokemak-USD Coin-Fluid USD Coin              toke-USDC-fUSDC   \n",
       " 10      Tokemak-Bridged USDC (Sonic Labs)-2Pool             toke-USDC.e-2CRV   \n",
       " 11     Tokemak-USDT0-Ethena Surge sUSDe-waUSDT0  toke-USDT0-sUSDe-waPlaUSDT0   \n",
       " \n",
       "      pool_type  incentive_apr  owned_shares   chain  \n",
       " 0   metaMorpho       0.008552  5.613512e+06    base  \n",
       " 1   metaMorpho       0.008552  2.011150e+06    base  \n",
       " 2   metaMorpho       0.008552  1.617163e+06    base  \n",
       " 3   metaMorpho       0.014045  8.403816e+06    base  \n",
       " 4   metaMorpho       0.046294  3.397023e+06     arb  \n",
       " 5   metaMorpho       0.022254  4.068709e+06     arb  \n",
       " 6   metaMorpho       0.065931  3.908504e+06     arb  \n",
       " 7       fToken       0.021500  7.713244e+05     eth  \n",
       " 8       fToken       0.037200  1.703435e+06    base  \n",
       " 9       fToken       0.030200  9.494574e+06    base  \n",
       " 10     curveNG       0.072625  9.821959e+04   sonic  \n",
       " 11       balV3       0.060645  4.257919e+06  plasma  ,\n",
       "                       destination_vault_address  \\\n",
       " 0    0x9828b1a3742457D70cE428ddd3Aa51f84ffb37F2   \n",
       " 1    0xF4CeDDf4e2AEc1aa6b4ef2c64739eCaC5C948fA2   \n",
       " 2    0x9828b1a3742457D70cE428ddd3Aa51f84ffb37F2   \n",
       " 3    0xF4CeDDf4e2AEc1aa6b4ef2c64739eCaC5C948fA2   \n",
       " 4    0x65efCF2cce562DCBf07e805eEbeDeF21Dbd8Ea3D   \n",
       " ..                                          ...   \n",
       " 443  0x1EfC63fA8718cac1Df88273B08616cF1e9FF03DD   \n",
       " 444  0x1EfC63fA8718cac1Df88273B08616cF1e9FF03DD   \n",
       " 445  0xC3337192143EB496eed206C8c4249F7Cdee19078   \n",
       " 446  0x945a4f719018edBa445ca67bDa43663C815835Ad   \n",
       " 447  0xC3337192143EB496eed206C8c4249F7Cdee19078   \n",
       " \n",
       "                                                tx_hash  log_index  chain_id  \\\n",
       " 0    0x3864994382e0e1306ab8816ae2ccb5c25289cd47e1e0...        595         1   \n",
       " 1    0x3864994382e0e1306ab8816ae2ccb5c25289cd47e1e0...        604         1   \n",
       " 2    0x3864994382e0e1306ab8816ae2ccb5c25289cd47e1e0...        595         1   \n",
       " 3    0x3864994382e0e1306ab8816ae2ccb5c25289cd47e1e0...        604         1   \n",
       " 4    0xed99da4f621095b5be7dfd6dda3979c8cd779998ccae...        440         1   \n",
       " ..                                                 ...        ...       ...   \n",
       " 443  0xa8d7fffb2402cc99e924ac7728195ce1c26e42caf46f...        128      8453   \n",
       " 444  0xa8d7fffb2402cc99e924ac7728195ce1c26e42caf46f...        128      8453   \n",
       " 445  0x6151fcbdb8fd625440249ac8803b6c1d1264bab1ac17...        269      8453   \n",
       " 446  0x6151fcbdb8fd625440249ac8803b6c1d1264bab1ac17...        259      8453   \n",
       " 447  0x6151fcbdb8fd625440249ac8803b6c1d1264bab1ac17...        269      8453   \n",
       " \n",
       "                                   token_address  amount_claimed  \\\n",
       " 0    0x4e3FBD56CD56c3e72c1403e103b45Db9da5B9D2B    8.378106e+17   \n",
       " 1    0x4e3FBD56CD56c3e72c1403e103b45Db9da5B9D2B    6.744550e+16   \n",
       " 2    0xD533a949740bb3306d119CC777fa900bA034cd52    8.378106e+20   \n",
       " 3    0xD533a949740bb3306d119CC777fa900bA034cd52    6.744550e+19   \n",
       " 4    0xD533a949740bb3306d119CC777fa900bA034cd52    2.024691e+20   \n",
       " ..                                          ...             ...   \n",
       " 443  0x6Bb7a212910682DCFdbd5BCBb3e28FB4E8da10Ee    4.123395e+20   \n",
       " 444  0x1509706a6c66CA549ff0cB464de88231DDBe213B    1.526369e+20   \n",
       " 445  0x4158734D47Fc9692176B5085E0F52ee0Da5d47F1    2.502281e+19   \n",
       " 446  0x940181a94A35A4569E4529A3CDfB74e38FD98631    1.221615e+19   \n",
       " 447  0x1509706a6c66CA549ff0cB464de88231DDBe213B    4.825846e+19   \n",
       " \n",
       "                                            pool                  datetime  \\\n",
       " 0    0x48d670D189B4b48757992D36897bCa6E3f889040 2025-10-20 13:58:59+00:00   \n",
       " 1    0x76A962BA6770068bCF454D34dDE17175611e6637 2025-10-20 13:58:59+00:00   \n",
       " 2    0x48d670D189B4b48757992D36897bCa6E3f889040 2025-10-20 13:58:59+00:00   \n",
       " 3    0x76A962BA6770068bCF454D34dDE17175611e6637 2025-10-20 13:58:59+00:00   \n",
       " 4    0x4DEcE678ceceb27446b35C672dC7d61F30bAD69E 2025-10-20 13:58:11+00:00   \n",
       " ..                                          ...                       ...   \n",
       " 443  0x7AB124EC4029316c2A42F713828ddf2a192B36db 2025-10-12 12:55:51+00:00   \n",
       " 444  0x7AB124EC4029316c2A42F713828ddf2a192B36db 2025-10-12 12:55:51+00:00   \n",
       " 445  0xB7B8B3AfC010169779C5C2385ec0eB0477FE3347 2025-10-12 12:55:25+00:00   \n",
       " 446  0x91F0f34916Ca4E2cCe120116774b0e4fA0cdcaA8 2025-10-12 12:55:25+00:00   \n",
       " 447  0xB7B8B3AfC010169779C5C2385ec0eB0477FE3347 2025-10-12 12:55:25+00:00   \n",
       " \n",
       "         block  \n",
       " 0    23619263  \n",
       " 1    23619263  \n",
       " 2    23619263  \n",
       " 3    23619263  \n",
       " 4    23619259  \n",
       " ..        ...  \n",
       " 443  36742202  \n",
       " 444  36742202  \n",
       " 445  36742189  \n",
       " 446  36742189  \n",
       " 447  36742189  \n",
       " \n",
       " [448 rows x 9 columns],\n",
       "                       destination_vault_address  chain_id  \\\n",
       " 0    0x84844d8A8a13337b31CF01DC384c74C862FCd903         1   \n",
       " 1    0x7F3a7F6dae744ef03E9e0E555c16434dDE2Bf8F1         1   \n",
       " 2    0x6DcB6797b1C0442587c2ad79745ef7BB487Fc2E2         1   \n",
       " 3    0x53C8C211350b635269e02B2C2f1077b850C657dB         1   \n",
       " 4    0xd100c932801390fdeBcE11F26f611D4898b44236         1   \n",
       " ..                                          ...       ...   \n",
       " 271  0x4Ec8f8b0F144ce1fa280B84F01Df9e353e83EC80      9745   \n",
       " 272  0x07Ed7ef81d7dD79fB6043D0a37c11d78f3B8F95b      9745   \n",
       " 273  0x868C33a2515cE3011796107d63cA825be804b672      9745   \n",
       " 274  0x3DB1fe3B1839798aA22fA0143D326D3693728915         1   \n",
       " 275  0xb5F780EC144A0f06ca1820E14A5611EA7E464491      8453   \n",
       " \n",
       "                          autopool_vault_address autopool_name  \n",
       " 0    0x0A2b94F6871c1D7A32Fe58E1ab5e6deA2f114E56       autoETH  \n",
       " 1    0xa7569A44f348d3D70d8ad5889e50F78E33d80D35       autoUSD  \n",
       " 2    0x0A2b94F6871c1D7A32Fe58E1ab5e6deA2f114E56       autoETH  \n",
       " 3    0xa7569A44f348d3D70d8ad5889e50F78E33d80D35       autoUSD  \n",
       " 4    0x0A2b94F6871c1D7A32Fe58E1ab5e6deA2f114E56       autoETH  \n",
       " ..                                          ...           ...  \n",
       " 271  0x4Ec8f8b0F144ce1fa280B84F01Df9e353e83EC80     plasmaUSD  \n",
       " 272  0x4Ec8f8b0F144ce1fa280B84F01Df9e353e83EC80     plasmaUSD  \n",
       " 273  0x4Ec8f8b0F144ce1fa280B84F01Df9e353e83EC80     plasmaUSD  \n",
       " 274  0x79eB84B5E30Ef2481c8f00fD0Aa7aAd6Ac0AA54d      autoDOLA  \n",
       " 275  0x9c6864105AEC23388C89600046213a44C384c831       baseUSD  \n",
       " \n",
       " [276 rows x 4 columns])"
      ]
     },
     "execution_count": 4,
     "metadata": {},
     "output_type": "execute_result"
    }
   ],
   "source": [
    "def fetch_recent_vault_claimed_reward_event_data(n: int) -> pd.DataFrame:\n",
    "\n",
    "    chain_id_to_name = {c.chain_id: c.name for c in ALL_CHAINS}\n",
    "\n",
    "    n_days_ago = pd.Timestamp.now() - pd.Timedelta(days=n)\n",
    "\n",
    "    get_recent_vault_claimed_reward_events_query = f\"\"\"\n",
    "\n",
    "                SELECT\n",
    "                  claim_vault_rewards.*,\n",
    "                  destinations.pool as pool,\n",
    "                  blocks.datetime,\n",
    "                  blocks.block\n",
    "              FROM claim_vault_rewards\n",
    "              JOIN transactions\n",
    "                ON claim_vault_rewards.tx_hash = transactions.tx_hash\n",
    "              JOIN blocks\n",
    "                ON transactions.block = blocks.block\n",
    "              AND transactions.chain_id = blocks.chain_id\n",
    "              JOIN destinations\n",
    "                ON claim_vault_rewards.destination_vault_address = destinations.destination_vault_address\n",
    "                AND claim_vault_rewards.chain_id = destinations.chain_id\n",
    "              \n",
    "              WHERE blocks.datetime > '{n_days_ago}'\n",
    "              ORDER BY blocks.datetime DESC\n",
    "  \"\"\"\n",
    "\n",
    "    get_recent_autopool_destination_states_query = f\"\"\"\n",
    "\n",
    "              SELECT\n",
    "                  autopool_destination_states.*,\n",
    "                  destinations.pool as pool,\n",
    "                  blocks.datetime\n",
    "              FROM autopool_destination_states\n",
    "              JOIN blocks\n",
    "                ON autopool_destination_states.block = blocks.block\n",
    "              AND autopool_destination_states.chain_id = blocks.chain_id\n",
    "              JOIN destinations\n",
    "                ON autopool_destination_states.destination_vault_address = destinations.destination_vault_address\n",
    "                AND autopool_destination_states.chain_id = destinations.chain_id\n",
    "\n",
    "              WHERE blocks.datetime > '{n_days_ago}'\n",
    "              ORDER BY blocks.datetime DESC\n",
    "  \"\"\"\n",
    "\n",
    "    get_recent_destination_states_query = f\"\"\"\n",
    "\n",
    "          SELECT\n",
    "          destination_states.*,\n",
    "          destinations.pool as pool,\n",
    "          blocks.datetime\n",
    "          FROM destination_states\n",
    "          JOIN blocks\n",
    "          ON destination_states.block = blocks.block\n",
    "          AND destination_states.chain_id = blocks.chain_id\n",
    "\n",
    "          JOIN destinations\n",
    "          ON destination_states.destination_vault_address = destinations.destination_vault_address\n",
    "          AND destination_states.chain_id = destinations.chain_id\n",
    "\n",
    "          WHERE blocks.datetime > '{n_days_ago}'\n",
    "          ORDER BY blocks.datetime DESC           \n",
    "\n",
    "  \"\"\"\n",
    "\n",
    "    claim_vault_rewards = _exec_sql_and_cache(\n",
    "        get_recent_vault_claimed_reward_events_query,\n",
    "    )\n",
    "\n",
    "    autopool_destination_states = _exec_sql_and_cache(\n",
    "        get_recent_autopool_destination_states_query,\n",
    "    )\n",
    "\n",
    "    destination_states = _exec_sql_and_cache(\n",
    "        get_recent_destination_states_query,\n",
    "    )\n",
    "    autopool_destinations = get_full_table_as_df(AutopoolDestinations)\n",
    "    autopool_destinations[\"autopool_name\"] = autopool_destinations[\"autopool_vault_address\"].map(\n",
    "        {a.autopool_eth_addr: a.name for a in ALL_AUTOPOOLS}\n",
    "    )\n",
    "    destinations = get_full_table_as_df(Destinations)\n",
    "\n",
    "    # add the highest incentive APR and the most number of owned shares in the period\n",
    "    destinations[\"incentive_apr\"] = destinations[\"pool\"].map(destination_states.groupby(\"pool\")[\"incentive_apr\"].max())\n",
    "    destinations[\"owned_shares\"] = destinations[\"pool\"].map(\n",
    "        autopool_destination_states.groupby(\"pool\")[\"owned_shares\"].max()\n",
    "    )\n",
    "    destinations[\"chain\"] = destinations[\"chain_id\"].map(chain_id_to_name)\n",
    "    return claim_vault_rewards, autopool_destination_states, destination_states, destinations, autopool_destinations\n",
    "\n",
    "\n",
    "def determine_what_pools_are_missing_rewards_claimed_events(\n",
    "    claim_vault_rewards: pd.DataFrame, autopool_destination_states: pd.DataFrame, destination_states: pd.DataFrame\n",
    ") -> set[str]:\n",
    "    pool_with_recent_claim_rewards = claim_vault_rewards[\"pool\"].unique().tolist()\n",
    "    pools_with_some_owned_shares = (\n",
    "        autopool_destination_states[autopool_destination_states[\"owned_shares\"] > 1][\"pool\"].unique().tolist()\n",
    "    )\n",
    "    pools_with_some_incentive_apr = (\n",
    "        destination_states[destination_states[\"incentive_apr\"] > 0.005][\"pool\"].unique().tolist()\n",
    "    )\n",
    "    pools_with_expected_vault_liquidations = set(pools_with_some_owned_shares) & (set(pools_with_some_incentive_apr))\n",
    "    pools_missing_vault_liquidations = pools_with_expected_vault_liquidations - set(pool_with_recent_claim_rewards)\n",
    "    return pools_missing_vault_liquidations\n",
    "\n",
    "\n",
    "def get_suspect_pools_missing_vault_liquidations():\n",
    "\n",
    "    claim_vault_rewards, autopool_destination_states, destination_states, destinations, autopool_destinations = (\n",
    "        fetch_recent_vault_claimed_reward_event_data(n=8)\n",
    "    )\n",
    "    all_claim_vault_rewards = claim_vault_rewards.copy()\n",
    "\n",
    "    pools_missing_vault_liquidations = determine_what_pools_are_missing_rewards_claimed_events(\n",
    "        claim_vault_rewards, autopool_destination_states, destination_states\n",
    "    )\n",
    "\n",
    "    suspect = destinations[destinations[\"pool\"].isin(pools_missing_vault_liquidations)].drop_duplicates(\"pool\").copy()\n",
    "    suspect_morpho = suspect[suspect[\"exchange_name\"] == \"morpho\"][\n",
    "        [\n",
    "            \"destination_vault_address\",\n",
    "            \"exchange_name\",\n",
    "            \"name\",\n",
    "            \"symbol\",\n",
    "            \"pool_type\",\n",
    "            \"incentive_apr\",\n",
    "            \"owned_shares\",\n",
    "            \"chain\",\n",
    "        ]\n",
    "    ]\n",
    "\n",
    "    claim_vault_rewards, autopool_destination_states, destination_states, destinations, autopool_destinations = (\n",
    "        fetch_recent_vault_claimed_reward_event_data(n=2)\n",
    "    )\n",
    "\n",
    "    pools_missing_vault_liquidations = determine_what_pools_are_missing_rewards_claimed_events(\n",
    "        claim_vault_rewards, autopool_destination_states, destination_states\n",
    "    )\n",
    "\n",
    "    suspect = destinations[destinations[\"pool\"].isin(pools_missing_vault_liquidations)].drop_duplicates(\"pool\").copy()\n",
    "    suspect_not_morpho = suspect[suspect[\"exchange_name\"] != \"morpho\"][\n",
    "        [\n",
    "            \"destination_vault_address\",\n",
    "            \"exchange_name\",\n",
    "            \"name\",\n",
    "            \"symbol\",\n",
    "            \"pool_type\",\n",
    "            \"incentive_apr\",\n",
    "            \"owned_shares\",\n",
    "            \"chain\",\n",
    "        ]\n",
    "    ]\n",
    "\n",
    "    all_suspect = pd.concat([suspect_morpho, suspect_not_morpho], ignore_index=True)\n",
    "\n",
    "    return all_suspect, all_claim_vault_rewards, autopool_destinations\n",
    "\n",
    "\n",
    "all_suspect, all_claim_vault_rewards, autopool_destinations = get_suspect_pools_missing_vault_liquidations()\n",
    "\n",
    "all_suspect, all_claim_vault_rewards, autopool_destinations"
   ]
  },
  {
   "cell_type": "code",
   "execution_count": null,
   "metadata": {},
   "outputs": [
    {
     "data": {
      "application/vnd.microsoft.datawrangler.viewer.v0+json": {
       "columns": [
        {
         "name": "pool",
         "rawType": "object",
         "type": "string"
        },
        {
         "name": "datetime",
         "rawType": "datetime64[ns, UTC]",
         "type": "unknown"
        }
       ],
       "ref": "985061c1-7945-4874-a35d-d2b02b6327dd",
       "rows": [
        [
         "0x1943FA26360f038230442525Cf1B9125b5DCB401",
         "2025-10-17 18:55:47+00:00"
        ],
        [
         "0x19B001e6Bc2d89154c18e2216eec5C8c6047b6d8",
         "2025-10-20 03:37:09+00:00"
        ],
        [
         "0x1DD4b13fcAE900C60a350589BE8052959D2Ed27B",
         "2025-10-19 22:49:58+00:00"
        ],
        [
         "0x390f3595bCa2Df7d23783dFd126427CCeb997BF4",
         "2025-10-20 13:58:11+00:00"
        ],
        [
         "0x42ED016F826165C2e5976fe5bC3df540C5aD0Af7",
         "2025-10-20 13:57:11+00:00"
        ],
        [
         "0x48d670D189B4b48757992D36897bCa6E3f889040",
         "2025-10-20 13:58:59+00:00"
        ],
        [
         "0x4DEcE678ceceb27446b35C672dC7d61F30bAD69E",
         "2025-10-20 13:58:11+00:00"
        ],
        [
         "0x57064F49Ad7123C92560882a45518374ad982e85",
         "2025-10-20 13:58:11+00:00"
        ],
        [
         "0x57c23c58B1D8C3292c15BEcF07c62C5c52457A42",
         "2025-10-20 13:57:11+00:00"
        ],
        [
         "0x58AAdFB1Afac0ad7fca1148f3cdE6aEDF5236B6D",
         "2025-10-20 13:57:11+00:00"
        ],
        [
         "0x596192bB6e41802428Ac943D2f1476C1Af25CC0E",
         "2025-10-20 13:57:11+00:00"
        ],
        [
         "0x59Ab5a5b5d617E478a2479B0cAD80DA7e2831492",
         "2025-10-20 13:57:11+00:00"
        ],
        [
         "0x6951bDC4734b9f7F3E1B74afeBC670c736A0EDB6",
         "2025-10-13 07:02:59+00:00"
        ],
        [
         "0x6b31a94029fd7840d780191B6D63Fa0D269bd883",
         "2025-10-20 13:57:11+00:00"
        ],
        [
         "0x76A962BA6770068bCF454D34dDE17175611e6637",
         "2025-10-20 13:58:59+00:00"
        ],
        [
         "0x7AB124EC4029316c2A42F713828ddf2a192B36db",
         "2025-10-20 11:14:31+00:00"
        ],
        [
         "0x85B2b559bC2D21104C4DEFdd6EFcA8A20343361D",
         "2025-10-20 13:58:11+00:00"
        ],
        [
         "0x91F0f34916Ca4E2cCe120116774b0e4fA0cdcaA8",
         "2025-10-20 11:14:03+00:00"
        ],
        [
         "0x9Fb7b4477576Fe5B32be4C1843aFB1e55F251B33",
         "2025-10-19 07:02:35+00:00"
        ],
        [
         "0xB7B8B3AfC010169779C5C2385ec0eB0477FE3347",
         "2025-10-20 11:14:03+00:00"
        ],
        [
         "0xC8Eb2Cf2f792F77AF0Cd9e203305a585E588179D",
         "2025-10-20 13:57:11+00:00"
        ],
        [
         "0xDB74dfDD3BB46bE8Ce6C33dC9D82777BCFc3dEd5",
         "2025-10-20 13:57:11+00:00"
        ],
        [
         "0xe080027Bd47353b5D1639772b4a75E9Ed3658A0d",
         "2025-10-20 13:57:11+00:00"
        ],
        [
         "0xf42f5795D9ac7e9D757dB633D693cD548Cfd9169",
         "2025-10-17 18:55:33+00:00"
        ]
       ],
       "shape": {
        "columns": 1,
        "rows": 24
       }
      },
      "text/plain": [
       "pool\n",
       "0x1943FA26360f038230442525Cf1B9125b5DCB401   2025-10-17 18:55:47+00:00\n",
       "0x19B001e6Bc2d89154c18e2216eec5C8c6047b6d8   2025-10-20 03:37:09+00:00\n",
       "0x1DD4b13fcAE900C60a350589BE8052959D2Ed27B   2025-10-19 22:49:58+00:00\n",
       "0x390f3595bCa2Df7d23783dFd126427CCeb997BF4   2025-10-20 13:58:11+00:00\n",
       "0x42ED016F826165C2e5976fe5bC3df540C5aD0Af7   2025-10-20 13:57:11+00:00\n",
       "0x48d670D189B4b48757992D36897bCa6E3f889040   2025-10-20 13:58:59+00:00\n",
       "0x4DEcE678ceceb27446b35C672dC7d61F30bAD69E   2025-10-20 13:58:11+00:00\n",
       "0x57064F49Ad7123C92560882a45518374ad982e85   2025-10-20 13:58:11+00:00\n",
       "0x57c23c58B1D8C3292c15BEcF07c62C5c52457A42   2025-10-20 13:57:11+00:00\n",
       "0x58AAdFB1Afac0ad7fca1148f3cdE6aEDF5236B6D   2025-10-20 13:57:11+00:00\n",
       "0x596192bB6e41802428Ac943D2f1476C1Af25CC0E   2025-10-20 13:57:11+00:00\n",
       "0x59Ab5a5b5d617E478a2479B0cAD80DA7e2831492   2025-10-20 13:57:11+00:00\n",
       "0x6951bDC4734b9f7F3E1B74afeBC670c736A0EDB6   2025-10-13 07:02:59+00:00\n",
       "0x6b31a94029fd7840d780191B6D63Fa0D269bd883   2025-10-20 13:57:11+00:00\n",
       "0x76A962BA6770068bCF454D34dDE17175611e6637   2025-10-20 13:58:59+00:00\n",
       "0x7AB124EC4029316c2A42F713828ddf2a192B36db   2025-10-20 11:14:31+00:00\n",
       "0x85B2b559bC2D21104C4DEFdd6EFcA8A20343361D   2025-10-20 13:58:11+00:00\n",
       "0x91F0f34916Ca4E2cCe120116774b0e4fA0cdcaA8   2025-10-20 11:14:03+00:00\n",
       "0x9Fb7b4477576Fe5B32be4C1843aFB1e55F251B33   2025-10-19 07:02:35+00:00\n",
       "0xB7B8B3AfC010169779C5C2385ec0eB0477FE3347   2025-10-20 11:14:03+00:00\n",
       "0xC8Eb2Cf2f792F77AF0Cd9e203305a585E588179D   2025-10-20 13:57:11+00:00\n",
       "0xDB74dfDD3BB46bE8Ce6C33dC9D82777BCFc3dEd5   2025-10-20 13:57:11+00:00\n",
       "0xe080027Bd47353b5D1639772b4a75E9Ed3658A0d   2025-10-20 13:57:11+00:00\n",
       "0xf42f5795D9ac7e9D757dB633D693cD548Cfd9169   2025-10-17 18:55:33+00:00\n",
       "Name: datetime, dtype: datetime64[ns, UTC]"
      ]
     },
     "execution_count": 10,
     "metadata": {},
     "output_type": "execute_result"
    }
   ],
   "source": [
    "most_recent_vault_claimed_event = all_claim_vault_rewards.groupby(\"pool\")[\"datetime\"].max()\n",
    "\n",
    "pool_to_most_recent_vault_claimed_event"
   ]
  },
  {
   "cell_type": "code",
   "execution_count": 11,
   "metadata": {},
   "outputs": [
    {
     "data": {
      "application/vnd.microsoft.datawrangler.viewer.v0+json": {
       "columns": [
        {
         "name": "index",
         "rawType": "int64",
         "type": "integer"
        },
        {
         "name": "destination_vault_address",
         "rawType": "object",
         "type": "string"
        },
        {
         "name": "chain_id",
         "rawType": "int64",
         "type": "integer"
        },
        {
         "name": "autopool_vault_address",
         "rawType": "object",
         "type": "string"
        },
        {
         "name": "autopool_name",
         "rawType": "object",
         "type": "string"
        }
       ],
       "ref": "57fe80f1-d4d2-4a85-97b1-929704130e92",
       "rows": [
        [
         "0",
         "0x84844d8A8a13337b31CF01DC384c74C862FCd903",
         "1",
         "0x0A2b94F6871c1D7A32Fe58E1ab5e6deA2f114E56",
         "autoETH"
        ],
        [
         "1",
         "0x7F3a7F6dae744ef03E9e0E555c16434dDE2Bf8F1",
         "1",
         "0xa7569A44f348d3D70d8ad5889e50F78E33d80D35",
         "autoUSD"
        ],
        [
         "2",
         "0x6DcB6797b1C0442587c2ad79745ef7BB487Fc2E2",
         "1",
         "0x0A2b94F6871c1D7A32Fe58E1ab5e6deA2f114E56",
         "autoETH"
        ],
        [
         "3",
         "0x53C8C211350b635269e02B2C2f1077b850C657dB",
         "1",
         "0xa7569A44f348d3D70d8ad5889e50F78E33d80D35",
         "autoUSD"
        ],
        [
         "4",
         "0xd100c932801390fdeBcE11F26f611D4898b44236",
         "1",
         "0x0A2b94F6871c1D7A32Fe58E1ab5e6deA2f114E56",
         "autoETH"
        ],
        [
         "5",
         "0x6643834A8b4985514F83101597e2dCd2ae3b0ce7",
         "1",
         "0x52F0D57Fb5D4780a37164f918746f9BD51c684a3",
         "siloETH"
        ],
        [
         "6",
         "0x3B2C87Ed95483059b950155a68E906d543193d5C",
         "1",
         "0xE800e3760FC20aA98c5df6A9816147f190455AF3",
         "autoLRT"
        ],
        [
         "7",
         "0xe4433D00Cf48BFE0C672d9949F2cd2c008bffC04",
         "1",
         "0x35911af1B570E26f668905595dEd133D01CD3E5a",
         "dineroETH"
        ],
        [
         "8",
         "0xCADe3658eCEA14e4da22ef81BE335E9783E68848",
         "1",
         "0xa7569A44f348d3D70d8ad5889e50F78E33d80D35",
         "autoUSD"
        ],
        [
         "9",
         "0xc4Eb861e7b66f593482a3D7E8adc314f6eEDA30B",
         "1",
         "0x35911af1B570E26f668905595dEd133D01CD3E5a",
         "dineroETH"
        ],
        [
         "10",
         "0x366C094C5563CD12AF27b9AfFF2200B0E0D056E0",
         "1",
         "0xa7569A44f348d3D70d8ad5889e50F78E33d80D35",
         "autoUSD"
        ],
        [
         "11",
         "0x867991C7737Ccbb152aE5a7E6EDB05cA0670717E",
         "1",
         "0x0A2b94F6871c1D7A32Fe58E1ab5e6deA2f114E56",
         "autoETH"
        ],
        [
         "12",
         "0xE4545f9dBC30Ccb6Cda6930DDFd69f3D419FcB61",
         "1",
         "0xa7569A44f348d3D70d8ad5889e50F78E33d80D35",
         "autoUSD"
        ],
        [
         "13",
         "0x4F4bE87cFe874db2e248A787669a0D6E77f1F149",
         "1",
         "0x6dC3ce9C57b20131347FDc9089D740DAf6eB34c5",
         "balETH"
        ],
        [
         "14",
         "0x1416BfE53520a71553230c3FdeeEce30d5470bA7",
         "1",
         "0x6dC3ce9C57b20131347FDc9089D740DAf6eB34c5",
         "balETH"
        ],
        [
         "15",
         "0x40219bBda953ca811d2D0168Dc806a96b84791d9",
         "1",
         "0x6dC3ce9C57b20131347FDc9089D740DAf6eB34c5",
         "balETH"
        ],
        [
         "16",
         "0x5A4B544B9734930DDC587c9a2f093dC5058A4f4D",
         "1",
         "0x6dC3ce9C57b20131347FDc9089D740DAf6eB34c5",
         "balETH"
        ],
        [
         "17",
         "0xB580f62dd031c63F083CBdC4f9e5C5653036cb1B",
         "1",
         "0xa7569A44f348d3D70d8ad5889e50F78E33d80D35",
         "autoUSD"
        ],
        [
         "18",
         "0x003aD6a060a1082B7A6F85d24dDF9E9E196B8426",
         "1",
         "0x0A2b94F6871c1D7A32Fe58E1ab5e6deA2f114E56",
         "autoETH"
        ],
        [
         "19",
         "0xc4Eb861e7b66f593482a3D7E8adc314f6eEDA30B",
         "1",
         "0x6dC3ce9C57b20131347FDc9089D740DAf6eB34c5",
         "balETH"
        ],
        [
         "20",
         "0x7677569e823D24c15050f7d3d036Ba053785066b",
         "1",
         "0xa7569A44f348d3D70d8ad5889e50F78E33d80D35",
         "autoUSD"
        ],
        [
         "21",
         "0xbA1462f43c6f60ebD1C62735c94E428aD073E01A",
         "1",
         "0x35911af1B570E26f668905595dEd133D01CD3E5a",
         "dineroETH"
        ],
        [
         "22",
         "0x1E581AD9ef141C3037991806383B7990c1f68312",
         "1",
         "0x6dC3ce9C57b20131347FDc9089D740DAf6eB34c5",
         "balETH"
        ],
        [
         "23",
         "0xD6e262094FFa407068b0BEf6bdBcd16DB982b59E",
         "1",
         "0xa7569A44f348d3D70d8ad5889e50F78E33d80D35",
         "autoUSD"
        ],
        [
         "24",
         "0xe3AE2Ab9AE8ADe1B4940dd893C9339401bEe61A1",
         "1",
         "0x6dC3ce9C57b20131347FDc9089D740DAf6eB34c5",
         "balETH"
        ],
        [
         "25",
         "0x396B775aCe948326D03A9a73E95c29a335E9aB02",
         "1",
         "0x408b6A3E2Daf288864968454AAe786a2A042Df36",
         "siloUSD"
        ],
        [
         "26",
         "0x2f2CC1bf461413014741dD68481dB4a3686DAC3D",
         "1",
         "0x6dC3ce9C57b20131347FDc9089D740DAf6eB34c5",
         "balETH"
        ],
        [
         "27",
         "0x676B34c2C2294eF070c1e9E0FCD4091Dd06393FE",
         "1",
         "0xE800e3760FC20aA98c5df6A9816147f190455AF3",
         "autoLRT"
        ],
        [
         "28",
         "0xFDa49984eb4eA4075b8b451032849347C633E94b",
         "1",
         "0x6dC3ce9C57b20131347FDc9089D740DAf6eB34c5",
         "balETH"
        ],
        [
         "29",
         "0x87F46aa699840705F587761d9cfF290fCe1F84aE",
         "1",
         "0x0A2b94F6871c1D7A32Fe58E1ab5e6deA2f114E56",
         "autoETH"
        ],
        [
         "30",
         "0x148Ca723BefeA7b021C399413b8b7426A4701500",
         "1",
         "0x6dC3ce9C57b20131347FDc9089D740DAf6eB34c5",
         "balETH"
        ],
        [
         "31",
         "0x92294A62D6D9F0FbE30Ba3B543edb1806561baD7",
         "1",
         "0x0A2b94F6871c1D7A32Fe58E1ab5e6deA2f114E56",
         "autoETH"
        ],
        [
         "32",
         "0xa767F35BF1d51f4ab7432188DfE6324934c9CCbD",
         "1",
         "0xa7569A44f348d3D70d8ad5889e50F78E33d80D35",
         "autoUSD"
        ],
        [
         "33",
         "0x5996333aDf54e3aC8C0Fc3De0fe51de0B75BC00d",
         "1",
         "0xa7569A44f348d3D70d8ad5889e50F78E33d80D35",
         "autoUSD"
        ],
        [
         "34",
         "0x77fa99c62e746C98a7c24d0EFA2120F4eee9a993",
         "1",
         "0xa7569A44f348d3D70d8ad5889e50F78E33d80D35",
         "autoUSD"
        ],
        [
         "35",
         "0x614a7d3b4e287555B9D6050fC59655C51961112B",
         "1",
         "0x408b6A3E2Daf288864968454AAe786a2A042Df36",
         "siloUSD"
        ],
        [
         "36",
         "0xC5c95fCad37E466E25e6ecA1977bbF75C0E1004a",
         "1",
         "0xa7569A44f348d3D70d8ad5889e50F78E33d80D35",
         "autoUSD"
        ],
        [
         "37",
         "0x7fC82BAC65A6C61072eF8FA812b4c4694fd175E3",
         "1",
         "0xa7569A44f348d3D70d8ad5889e50F78E33d80D35",
         "autoUSD"
        ],
        [
         "38",
         "0x5593882d517886D190F47967168D2d68D8960F48",
         "1",
         "0x6dC3ce9C57b20131347FDc9089D740DAf6eB34c5",
         "balETH"
        ],
        [
         "39",
         "0xd96E943098B2AE81155e98D7DC8BeaB34C539f01",
         "1",
         "0x0A2b94F6871c1D7A32Fe58E1ab5e6deA2f114E56",
         "autoETH"
        ],
        [
         "40",
         "0xfB6f99FdF12E37Bfe3c4Cf81067faB10c465fb24",
         "1",
         "0x6dC3ce9C57b20131347FDc9089D740DAf6eB34c5",
         "balETH"
        ],
        [
         "41",
         "0xB6d68122428Dc1141467cB96791618615Ab9F746",
         "1",
         "0xE800e3760FC20aA98c5df6A9816147f190455AF3",
         "autoLRT"
        ],
        [
         "42",
         "0x4E12227b350E8f8fEEc41A58D36cE2fB2e2d4575",
         "1",
         "0xE800e3760FC20aA98c5df6A9816147f190455AF3",
         "autoLRT"
        ],
        [
         "43",
         "0x5C62984c84e0d24463F4C316D371d1FBb0A8080d",
         "1",
         "0x0A2b94F6871c1D7A32Fe58E1ab5e6deA2f114E56",
         "autoETH"
        ],
        [
         "44",
         "0x689dc7B5CE8e23061a8223E97701E9345764B8B7",
         "1",
         "0xE800e3760FC20aA98c5df6A9816147f190455AF3",
         "autoLRT"
        ],
        [
         "45",
         "0xEeEE628a00B0EDa99D1bc78a72Fa2F2Df4AdE2F4",
         "1",
         "0xa7569A44f348d3D70d8ad5889e50F78E33d80D35",
         "autoUSD"
        ],
        [
         "46",
         "0x90300b02b162F902B9629963830BcCCdeEd71113",
         "1",
         "0x6dC3ce9C57b20131347FDc9089D740DAf6eB34c5",
         "balETH"
        ],
        [
         "47",
         "0xE54173ba36b507fd6487D21d1d78762B03303f18",
         "1",
         "0xa7569A44f348d3D70d8ad5889e50F78E33d80D35",
         "autoUSD"
        ],
        [
         "48",
         "0x4686CEe2B3b1Da28a1db926443d5DDd674462b29",
         "1",
         "0xa7569A44f348d3D70d8ad5889e50F78E33d80D35",
         "autoUSD"
        ],
        [
         "49",
         "0x4F4bE87cFe874db2e248A787669a0D6E77f1F149",
         "1",
         "0x0A2b94F6871c1D7A32Fe58E1ab5e6deA2f114E56",
         "autoETH"
        ]
       ],
       "shape": {
        "columns": 4,
        "rows": 276
       }
      },
      "text/html": [
       "<div>\n",
       "<style scoped>\n",
       "    .dataframe tbody tr th:only-of-type {\n",
       "        vertical-align: middle;\n",
       "    }\n",
       "\n",
       "    .dataframe tbody tr th {\n",
       "        vertical-align: top;\n",
       "    }\n",
       "\n",
       "    .dataframe thead th {\n",
       "        text-align: right;\n",
       "    }\n",
       "</style>\n",
       "<table border=\"1\" class=\"dataframe\">\n",
       "  <thead>\n",
       "    <tr style=\"text-align: right;\">\n",
       "      <th></th>\n",
       "      <th>destination_vault_address</th>\n",
       "      <th>chain_id</th>\n",
       "      <th>autopool_vault_address</th>\n",
       "      <th>autopool_name</th>\n",
       "    </tr>\n",
       "  </thead>\n",
       "  <tbody>\n",
       "    <tr>\n",
       "      <th>0</th>\n",
       "      <td>0x84844d8A8a13337b31CF01DC384c74C862FCd903</td>\n",
       "      <td>1</td>\n",
       "      <td>0x0A2b94F6871c1D7A32Fe58E1ab5e6deA2f114E56</td>\n",
       "      <td>autoETH</td>\n",
       "    </tr>\n",
       "    <tr>\n",
       "      <th>1</th>\n",
       "      <td>0x7F3a7F6dae744ef03E9e0E555c16434dDE2Bf8F1</td>\n",
       "      <td>1</td>\n",
       "      <td>0xa7569A44f348d3D70d8ad5889e50F78E33d80D35</td>\n",
       "      <td>autoUSD</td>\n",
       "    </tr>\n",
       "    <tr>\n",
       "      <th>2</th>\n",
       "      <td>0x6DcB6797b1C0442587c2ad79745ef7BB487Fc2E2</td>\n",
       "      <td>1</td>\n",
       "      <td>0x0A2b94F6871c1D7A32Fe58E1ab5e6deA2f114E56</td>\n",
       "      <td>autoETH</td>\n",
       "    </tr>\n",
       "    <tr>\n",
       "      <th>3</th>\n",
       "      <td>0x53C8C211350b635269e02B2C2f1077b850C657dB</td>\n",
       "      <td>1</td>\n",
       "      <td>0xa7569A44f348d3D70d8ad5889e50F78E33d80D35</td>\n",
       "      <td>autoUSD</td>\n",
       "    </tr>\n",
       "    <tr>\n",
       "      <th>4</th>\n",
       "      <td>0xd100c932801390fdeBcE11F26f611D4898b44236</td>\n",
       "      <td>1</td>\n",
       "      <td>0x0A2b94F6871c1D7A32Fe58E1ab5e6deA2f114E56</td>\n",
       "      <td>autoETH</td>\n",
       "    </tr>\n",
       "    <tr>\n",
       "      <th>...</th>\n",
       "      <td>...</td>\n",
       "      <td>...</td>\n",
       "      <td>...</td>\n",
       "      <td>...</td>\n",
       "    </tr>\n",
       "    <tr>\n",
       "      <th>271</th>\n",
       "      <td>0x4Ec8f8b0F144ce1fa280B84F01Df9e353e83EC80</td>\n",
       "      <td>9745</td>\n",
       "      <td>0x4Ec8f8b0F144ce1fa280B84F01Df9e353e83EC80</td>\n",
       "      <td>plasmaUSD</td>\n",
       "    </tr>\n",
       "    <tr>\n",
       "      <th>272</th>\n",
       "      <td>0x07Ed7ef81d7dD79fB6043D0a37c11d78f3B8F95b</td>\n",
       "      <td>9745</td>\n",
       "      <td>0x4Ec8f8b0F144ce1fa280B84F01Df9e353e83EC80</td>\n",
       "      <td>plasmaUSD</td>\n",
       "    </tr>\n",
       "    <tr>\n",
       "      <th>273</th>\n",
       "      <td>0x868C33a2515cE3011796107d63cA825be804b672</td>\n",
       "      <td>9745</td>\n",
       "      <td>0x4Ec8f8b0F144ce1fa280B84F01Df9e353e83EC80</td>\n",
       "      <td>plasmaUSD</td>\n",
       "    </tr>\n",
       "    <tr>\n",
       "      <th>274</th>\n",
       "      <td>0x3DB1fe3B1839798aA22fA0143D326D3693728915</td>\n",
       "      <td>1</td>\n",
       "      <td>0x79eB84B5E30Ef2481c8f00fD0Aa7aAd6Ac0AA54d</td>\n",
       "      <td>autoDOLA</td>\n",
       "    </tr>\n",
       "    <tr>\n",
       "      <th>275</th>\n",
       "      <td>0xb5F780EC144A0f06ca1820E14A5611EA7E464491</td>\n",
       "      <td>8453</td>\n",
       "      <td>0x9c6864105AEC23388C89600046213a44C384c831</td>\n",
       "      <td>baseUSD</td>\n",
       "    </tr>\n",
       "  </tbody>\n",
       "</table>\n",
       "<p>276 rows × 4 columns</p>\n",
       "</div>"
      ],
      "text/plain": [
       "                      destination_vault_address  chain_id  \\\n",
       "0    0x84844d8A8a13337b31CF01DC384c74C862FCd903         1   \n",
       "1    0x7F3a7F6dae744ef03E9e0E555c16434dDE2Bf8F1         1   \n",
       "2    0x6DcB6797b1C0442587c2ad79745ef7BB487Fc2E2         1   \n",
       "3    0x53C8C211350b635269e02B2C2f1077b850C657dB         1   \n",
       "4    0xd100c932801390fdeBcE11F26f611D4898b44236         1   \n",
       "..                                          ...       ...   \n",
       "271  0x4Ec8f8b0F144ce1fa280B84F01Df9e353e83EC80      9745   \n",
       "272  0x07Ed7ef81d7dD79fB6043D0a37c11d78f3B8F95b      9745   \n",
       "273  0x868C33a2515cE3011796107d63cA825be804b672      9745   \n",
       "274  0x3DB1fe3B1839798aA22fA0143D326D3693728915         1   \n",
       "275  0xb5F780EC144A0f06ca1820E14A5611EA7E464491      8453   \n",
       "\n",
       "                         autopool_vault_address autopool_name  \n",
       "0    0x0A2b94F6871c1D7A32Fe58E1ab5e6deA2f114E56       autoETH  \n",
       "1    0xa7569A44f348d3D70d8ad5889e50F78E33d80D35       autoUSD  \n",
       "2    0x0A2b94F6871c1D7A32Fe58E1ab5e6deA2f114E56       autoETH  \n",
       "3    0xa7569A44f348d3D70d8ad5889e50F78E33d80D35       autoUSD  \n",
       "4    0x0A2b94F6871c1D7A32Fe58E1ab5e6deA2f114E56       autoETH  \n",
       "..                                          ...           ...  \n",
       "271  0x4Ec8f8b0F144ce1fa280B84F01Df9e353e83EC80     plasmaUSD  \n",
       "272  0x4Ec8f8b0F144ce1fa280B84F01Df9e353e83EC80     plasmaUSD  \n",
       "273  0x4Ec8f8b0F144ce1fa280B84F01Df9e353e83EC80     plasmaUSD  \n",
       "274  0x79eB84B5E30Ef2481c8f00fD0Aa7aAd6Ac0AA54d      autoDOLA  \n",
       "275  0x9c6864105AEC23388C89600046213a44C384c831       baseUSD  \n",
       "\n",
       "[276 rows x 4 columns]"
      ]
     },
     "execution_count": 11,
     "metadata": {},
     "output_type": "execute_result"
    }
   ],
   "source": [
    "autopool_destinations"
   ]
  },
  {
   "cell_type": "code",
   "execution_count": 5,
   "metadata": {},
   "outputs": [],
   "source": [
    "dest_to_autopool_vault_address = (\n",
    "    autopool_destinations[\"destination_vault_address\"],\n",
    "    autopool_destinations[\"autopool_vault_address\"],\n",
    ")"
   ]
  },
  {
   "cell_type": "code",
   "execution_count": 6,
   "metadata": {},
   "outputs": [
    {
     "data": {
      "application/vnd.microsoft.datawrangler.viewer.v0+json": {
       "columns": [
        {
         "name": "index",
         "rawType": "int64",
         "type": "integer"
        },
        {
         "name": "destination_vault_address",
         "rawType": "object",
         "type": "string"
        },
        {
         "name": "exchange_name",
         "rawType": "object",
         "type": "string"
        },
        {
         "name": "name",
         "rawType": "object",
         "type": "string"
        },
        {
         "name": "symbol",
         "rawType": "object",
         "type": "string"
        },
        {
         "name": "pool_type",
         "rawType": "object",
         "type": "string"
        },
        {
         "name": "incentive_apr",
         "rawType": "float64",
         "type": "float"
        },
        {
         "name": "owned_shares",
         "rawType": "float64",
         "type": "float"
        },
        {
         "name": "chain",
         "rawType": "object",
         "type": "string"
        }
       ],
       "ref": "a77cf4b7-7969-4b65-b2b4-68dd2e29aa97",
       "rows": [
        [
         "0",
         "0x4eeDC6d6126ae9C6D92D03bB355eEAe5E47d2b03",
         "morpho",
         "Tokemak-USD Coin-Gauntlet USDC Prime",
         "toke-USDC-gtUSDCp",
         "metaMorpho",
         "0.008552383284734746",
         "5613512.131825117",
         "base"
        ],
        [
         "1",
         "0xFd70A9b4cE03Dc07Fe7Ba5e4D39fac11eE8d8615",
         "morpho",
         "Tokemak-USD Coin-Moonwell Flagship USDC",
         "toke-USDC-mwUSDC",
         "metaMorpho",
         "0.00855238328473474",
         "2011150.4132447767",
         "base"
        ],
        [
         "2",
         "0xCc68b840Bd7567363855e1e5050803EC7Ea8C25c",
         "morpho",
         "Tokemak-USD Coin-Gauntlet USDC Core",
         "toke-USDC-gtUSDCc",
         "metaMorpho",
         "0.008552383284734746",
         "1617163.4411552583",
         "base"
        ],
        [
         "3",
         "0x16cbe611AF0E01ec6988b59aD3690327aD496Eb7",
         "morpho",
         "Tokemak-USD Coin-Seamless USDC Vault",
         "toke-USDC-smUSDC",
         "metaMorpho",
         "0.014045458253579314",
         "8403816.469969649",
         "base"
        ],
        [
         "4",
         "0xD7B1F55E0CcfFa849b35aA1c39B94eb415DB00cE",
         "morpho",
         "Tokemak-USD Coin-Gauntlet USDC Core",
         "toke-USDC-gtUSDCc",
         "metaMorpho",
         "0.0462941750686817",
         "3397023.075849239",
         "arb"
        ],
        [
         "5",
         "0xAC8e9bbEFEAf5971c32E40b9b35DaD0B026a49fa",
         "morpho",
         "Tokemak-USD Coin-Gauntlet USDC Prime",
         "toke-USDC-gtUSDCp",
         "metaMorpho",
         "0.022253675779297183",
         "4068709.3162331115",
         "arb"
        ],
        [
         "6",
         "0xab3DA8995D5FeA17913c3D12A5B199F1cCC9Bf0b",
         "morpho",
         "Tokemak-USD Coin-Steakhouse High Yield USDC",
         "toke-USDC-bbqUSDC",
         "metaMorpho",
         "0.06593091867654946",
         "3908503.671189568",
         "arb"
        ],
        [
         "7",
         "0xE4545f9dBC30Ccb6Cda6930DDFd69f3D419FcB61",
         "fluid",
         "Tokemak-USD Coin-Fluid Tether USD",
         "toke-USDC-fUSDT",
         "fToken",
         "0.0215",
         "771324.359259",
         "eth"
        ],
        [
         "8",
         "0x06993Ecd8d8a16204bf7f86B00A0575aB69548DD",
         "fluid",
         "Tokemak-EURC-Fluid EURC",
         "toke-EURC-fEURC",
         "fToken",
         "0.0372",
         "1703435.497937",
         "base"
        ],
        [
         "9",
         "0x071b90e1e322F5F94F74BA7ADd453BBE8D25032B",
         "fluid",
         "Tokemak-USD Coin-Fluid USD Coin",
         "toke-USDC-fUSDC",
         "fToken",
         "0.0302",
         "9494574.3968",
         "base"
        ],
        [
         "10",
         "0x310CCB9eC996A228cd6F4Eb2E70769ccDbeD163D",
         "curve",
         "Tokemak-Bridged USDC (Sonic Labs)-2Pool",
         "toke-USDC.e-2CRV",
         "curveNG",
         "0.07262546453710576",
         "98219.58637408982",
         "sonic"
        ],
        [
         "11",
         "0xC253ef426519c700914DA4b2325dD0F4B7E8ffDc",
         "balancerV3",
         "Tokemak-USDT0-Ethena Surge sUSDe-waUSDT0",
         "toke-USDT0-sUSDe-waPlaUSDT0",
         "balV3",
         "0.06064500718181035",
         "4257918.606013869",
         "plasma"
        ]
       ],
       "shape": {
        "columns": 8,
        "rows": 12
       }
      },
      "text/html": [
       "<div>\n",
       "<style scoped>\n",
       "    .dataframe tbody tr th:only-of-type {\n",
       "        vertical-align: middle;\n",
       "    }\n",
       "\n",
       "    .dataframe tbody tr th {\n",
       "        vertical-align: top;\n",
       "    }\n",
       "\n",
       "    .dataframe thead th {\n",
       "        text-align: right;\n",
       "    }\n",
       "</style>\n",
       "<table border=\"1\" class=\"dataframe\">\n",
       "  <thead>\n",
       "    <tr style=\"text-align: right;\">\n",
       "      <th></th>\n",
       "      <th>destination_vault_address</th>\n",
       "      <th>exchange_name</th>\n",
       "      <th>name</th>\n",
       "      <th>symbol</th>\n",
       "      <th>pool_type</th>\n",
       "      <th>incentive_apr</th>\n",
       "      <th>owned_shares</th>\n",
       "      <th>chain</th>\n",
       "    </tr>\n",
       "  </thead>\n",
       "  <tbody>\n",
       "    <tr>\n",
       "      <th>0</th>\n",
       "      <td>0x4eeDC6d6126ae9C6D92D03bB355eEAe5E47d2b03</td>\n",
       "      <td>morpho</td>\n",
       "      <td>Tokemak-USD Coin-Gauntlet USDC Prime</td>\n",
       "      <td>toke-USDC-gtUSDCp</td>\n",
       "      <td>metaMorpho</td>\n",
       "      <td>0.008552</td>\n",
       "      <td>5.613512e+06</td>\n",
       "      <td>base</td>\n",
       "    </tr>\n",
       "    <tr>\n",
       "      <th>1</th>\n",
       "      <td>0xFd70A9b4cE03Dc07Fe7Ba5e4D39fac11eE8d8615</td>\n",
       "      <td>morpho</td>\n",
       "      <td>Tokemak-USD Coin-Moonwell Flagship USDC</td>\n",
       "      <td>toke-USDC-mwUSDC</td>\n",
       "      <td>metaMorpho</td>\n",
       "      <td>0.008552</td>\n",
       "      <td>2.011150e+06</td>\n",
       "      <td>base</td>\n",
       "    </tr>\n",
       "    <tr>\n",
       "      <th>2</th>\n",
       "      <td>0xCc68b840Bd7567363855e1e5050803EC7Ea8C25c</td>\n",
       "      <td>morpho</td>\n",
       "      <td>Tokemak-USD Coin-Gauntlet USDC Core</td>\n",
       "      <td>toke-USDC-gtUSDCc</td>\n",
       "      <td>metaMorpho</td>\n",
       "      <td>0.008552</td>\n",
       "      <td>1.617163e+06</td>\n",
       "      <td>base</td>\n",
       "    </tr>\n",
       "    <tr>\n",
       "      <th>3</th>\n",
       "      <td>0x16cbe611AF0E01ec6988b59aD3690327aD496Eb7</td>\n",
       "      <td>morpho</td>\n",
       "      <td>Tokemak-USD Coin-Seamless USDC Vault</td>\n",
       "      <td>toke-USDC-smUSDC</td>\n",
       "      <td>metaMorpho</td>\n",
       "      <td>0.014045</td>\n",
       "      <td>8.403816e+06</td>\n",
       "      <td>base</td>\n",
       "    </tr>\n",
       "    <tr>\n",
       "      <th>4</th>\n",
       "      <td>0xD7B1F55E0CcfFa849b35aA1c39B94eb415DB00cE</td>\n",
       "      <td>morpho</td>\n",
       "      <td>Tokemak-USD Coin-Gauntlet USDC Core</td>\n",
       "      <td>toke-USDC-gtUSDCc</td>\n",
       "      <td>metaMorpho</td>\n",
       "      <td>0.046294</td>\n",
       "      <td>3.397023e+06</td>\n",
       "      <td>arb</td>\n",
       "    </tr>\n",
       "    <tr>\n",
       "      <th>5</th>\n",
       "      <td>0xAC8e9bbEFEAf5971c32E40b9b35DaD0B026a49fa</td>\n",
       "      <td>morpho</td>\n",
       "      <td>Tokemak-USD Coin-Gauntlet USDC Prime</td>\n",
       "      <td>toke-USDC-gtUSDCp</td>\n",
       "      <td>metaMorpho</td>\n",
       "      <td>0.022254</td>\n",
       "      <td>4.068709e+06</td>\n",
       "      <td>arb</td>\n",
       "    </tr>\n",
       "    <tr>\n",
       "      <th>6</th>\n",
       "      <td>0xab3DA8995D5FeA17913c3D12A5B199F1cCC9Bf0b</td>\n",
       "      <td>morpho</td>\n",
       "      <td>Tokemak-USD Coin-Steakhouse High Yield USDC</td>\n",
       "      <td>toke-USDC-bbqUSDC</td>\n",
       "      <td>metaMorpho</td>\n",
       "      <td>0.065931</td>\n",
       "      <td>3.908504e+06</td>\n",
       "      <td>arb</td>\n",
       "    </tr>\n",
       "    <tr>\n",
       "      <th>7</th>\n",
       "      <td>0xE4545f9dBC30Ccb6Cda6930DDFd69f3D419FcB61</td>\n",
       "      <td>fluid</td>\n",
       "      <td>Tokemak-USD Coin-Fluid Tether USD</td>\n",
       "      <td>toke-USDC-fUSDT</td>\n",
       "      <td>fToken</td>\n",
       "      <td>0.021500</td>\n",
       "      <td>7.713244e+05</td>\n",
       "      <td>eth</td>\n",
       "    </tr>\n",
       "    <tr>\n",
       "      <th>8</th>\n",
       "      <td>0x06993Ecd8d8a16204bf7f86B00A0575aB69548DD</td>\n",
       "      <td>fluid</td>\n",
       "      <td>Tokemak-EURC-Fluid EURC</td>\n",
       "      <td>toke-EURC-fEURC</td>\n",
       "      <td>fToken</td>\n",
       "      <td>0.037200</td>\n",
       "      <td>1.703435e+06</td>\n",
       "      <td>base</td>\n",
       "    </tr>\n",
       "    <tr>\n",
       "      <th>9</th>\n",
       "      <td>0x071b90e1e322F5F94F74BA7ADd453BBE8D25032B</td>\n",
       "      <td>fluid</td>\n",
       "      <td>Tokemak-USD Coin-Fluid USD Coin</td>\n",
       "      <td>toke-USDC-fUSDC</td>\n",
       "      <td>fToken</td>\n",
       "      <td>0.030200</td>\n",
       "      <td>9.494574e+06</td>\n",
       "      <td>base</td>\n",
       "    </tr>\n",
       "    <tr>\n",
       "      <th>10</th>\n",
       "      <td>0x310CCB9eC996A228cd6F4Eb2E70769ccDbeD163D</td>\n",
       "      <td>curve</td>\n",
       "      <td>Tokemak-Bridged USDC (Sonic Labs)-2Pool</td>\n",
       "      <td>toke-USDC.e-2CRV</td>\n",
       "      <td>curveNG</td>\n",
       "      <td>0.072625</td>\n",
       "      <td>9.821959e+04</td>\n",
       "      <td>sonic</td>\n",
       "    </tr>\n",
       "    <tr>\n",
       "      <th>11</th>\n",
       "      <td>0xC253ef426519c700914DA4b2325dD0F4B7E8ffDc</td>\n",
       "      <td>balancerV3</td>\n",
       "      <td>Tokemak-USDT0-Ethena Surge sUSDe-waUSDT0</td>\n",
       "      <td>toke-USDT0-sUSDe-waPlaUSDT0</td>\n",
       "      <td>balV3</td>\n",
       "      <td>0.060645</td>\n",
       "      <td>4.257919e+06</td>\n",
       "      <td>plasma</td>\n",
       "    </tr>\n",
       "  </tbody>\n",
       "</table>\n",
       "</div>"
      ],
      "text/plain": [
       "                     destination_vault_address exchange_name  \\\n",
       "0   0x4eeDC6d6126ae9C6D92D03bB355eEAe5E47d2b03        morpho   \n",
       "1   0xFd70A9b4cE03Dc07Fe7Ba5e4D39fac11eE8d8615        morpho   \n",
       "2   0xCc68b840Bd7567363855e1e5050803EC7Ea8C25c        morpho   \n",
       "3   0x16cbe611AF0E01ec6988b59aD3690327aD496Eb7        morpho   \n",
       "4   0xD7B1F55E0CcfFa849b35aA1c39B94eb415DB00cE        morpho   \n",
       "5   0xAC8e9bbEFEAf5971c32E40b9b35DaD0B026a49fa        morpho   \n",
       "6   0xab3DA8995D5FeA17913c3D12A5B199F1cCC9Bf0b        morpho   \n",
       "7   0xE4545f9dBC30Ccb6Cda6930DDFd69f3D419FcB61         fluid   \n",
       "8   0x06993Ecd8d8a16204bf7f86B00A0575aB69548DD         fluid   \n",
       "9   0x071b90e1e322F5F94F74BA7ADd453BBE8D25032B         fluid   \n",
       "10  0x310CCB9eC996A228cd6F4Eb2E70769ccDbeD163D         curve   \n",
       "11  0xC253ef426519c700914DA4b2325dD0F4B7E8ffDc    balancerV3   \n",
       "\n",
       "                                           name                       symbol  \\\n",
       "0          Tokemak-USD Coin-Gauntlet USDC Prime            toke-USDC-gtUSDCp   \n",
       "1       Tokemak-USD Coin-Moonwell Flagship USDC             toke-USDC-mwUSDC   \n",
       "2           Tokemak-USD Coin-Gauntlet USDC Core            toke-USDC-gtUSDCc   \n",
       "3          Tokemak-USD Coin-Seamless USDC Vault             toke-USDC-smUSDC   \n",
       "4           Tokemak-USD Coin-Gauntlet USDC Core            toke-USDC-gtUSDCc   \n",
       "5          Tokemak-USD Coin-Gauntlet USDC Prime            toke-USDC-gtUSDCp   \n",
       "6   Tokemak-USD Coin-Steakhouse High Yield USDC            toke-USDC-bbqUSDC   \n",
       "7             Tokemak-USD Coin-Fluid Tether USD              toke-USDC-fUSDT   \n",
       "8                       Tokemak-EURC-Fluid EURC              toke-EURC-fEURC   \n",
       "9               Tokemak-USD Coin-Fluid USD Coin              toke-USDC-fUSDC   \n",
       "10      Tokemak-Bridged USDC (Sonic Labs)-2Pool             toke-USDC.e-2CRV   \n",
       "11     Tokemak-USDT0-Ethena Surge sUSDe-waUSDT0  toke-USDT0-sUSDe-waPlaUSDT0   \n",
       "\n",
       "     pool_type  incentive_apr  owned_shares   chain  \n",
       "0   metaMorpho       0.008552  5.613512e+06    base  \n",
       "1   metaMorpho       0.008552  2.011150e+06    base  \n",
       "2   metaMorpho       0.008552  1.617163e+06    base  \n",
       "3   metaMorpho       0.014045  8.403816e+06    base  \n",
       "4   metaMorpho       0.046294  3.397023e+06     arb  \n",
       "5   metaMorpho       0.022254  4.068709e+06     arb  \n",
       "6   metaMorpho       0.065931  3.908504e+06     arb  \n",
       "7       fToken       0.021500  7.713244e+05     eth  \n",
       "8       fToken       0.037200  1.703435e+06    base  \n",
       "9       fToken       0.030200  9.494574e+06    base  \n",
       "10     curveNG       0.072625  9.821959e+04   sonic  \n",
       "11       balV3       0.060645  4.257919e+06  plasma  "
      ]
     },
     "execution_count": 6,
     "metadata": {},
     "output_type": "execute_result"
    }
   ],
   "source": [
    "all_suspect"
   ]
  },
  {
   "cell_type": "code",
   "execution_count": 7,
   "metadata": {},
   "outputs": [
    {
     "data": {
      "text/plain": [
       "[<Function MAX_PCT()>,\n",
       " <Function accessController()>,\n",
       " <Function addToWhitelist(address)>,\n",
       " <Function balanceOf(address,address)>,\n",
       " <Function calculateFee(uint256)>,\n",
       " <Function claimsVaultRewards(address[])>,\n",
       " <Function feeBps()>,\n",
       " <Function feeReceiver()>,\n",
       " <Function getSystemRegistry()>,\n",
       " <Function getTokens()>,\n",
       " <Function getVaultsForToken(address)>,\n",
       " <Function isWhitelisted(address)>,\n",
       " <Function liquidateVaultsForToken(tuple)>,\n",
       " <Function liquidateVaultsForTokens(tuple[])>,\n",
       " <Function priceMarginBps()>,\n",
       " <Function removeFromWhitelist(address)>,\n",
       " <Function setFeeAndReceiver(address,uint256)>,\n",
       " <Function setPriceMarginBps(uint256)>,\n",
       " <Function totalBalanceOf(address)>]"
      ]
     },
     "execution_count": 7,
     "metadata": {},
     "output_type": "execute_result"
    }
   ],
   "source": [
    "# claim vault rewards on the liqudation row contract\n",
    "from mainnet_launch.abis import TOKEMAK_LIQUIDATION_ROW_ABI\n",
    "from mainnet_launch.constants import LIQUIDATION_ROW2, ETH_CHAIN\n",
    "\n",
    "contract = ETH_CHAIN.client.eth.contract(address=LIQUIDATION_ROW2(ETH_CHAIN), abi=TOKEMAK_LIQUIDATION_ROW_ABI)\n",
    "\n",
    "[a for a in contract.all_functions()]"
   ]
  },
  {
   "cell_type": "code",
   "execution_count": 8,
   "metadata": {},
   "outputs": [
    {
     "ename": "SyntaxError",
     "evalue": "'break' outside loop (668683560.py, line 1)",
     "output_type": "error",
     "traceback": [
      "\u001b[0;36m  Cell \u001b[0;32mIn[8], line 1\u001b[0;36m\u001b[0m\n\u001b[0;31m    break\u001b[0m\n\u001b[0m    ^\u001b[0m\n\u001b[0;31mSyntaxError\u001b[0m\u001b[0;31m:\u001b[0m 'break' outside loop\n"
     ]
    }
   ],
   "source": [
    "break"
   ]
  },
  {
   "cell_type": "code",
   "execution_count": null,
   "metadata": {},
   "outputs": [],
   "source": [
    "# 0x5c0C306Aaa9F877de636f4d5822cA9F2E81563BA need to see the collect rewards call"
   ]
  },
  {
   "cell_type": "code",
   "execution_count": null,
   "metadata": {},
   "outputs": [],
   "source": [
    "# function claimsVaultRewards(\n",
    "#     IDestinationVault[] memory vaults\n",
    "# ) external nonReentrant hasRole(Roles.REWARD_LIQUIDATION_EXECUTOR) {\n",
    "#     if (vaults.length == 0) revert Errors.InvalidParam(\"vaults\");\n",
    "\n",
    "#     for (uint256 i = 0; i < vaults.length; ++i) {\n",
    "#         uint256 gasBefore = gasleft();\n",
    "#         IDestinationVault vault = vaults[i];\n",
    "\n",
    "#         destinationVaultRegistry.verifyIsRegistered(address(vault));\n",
    "\n",
    "#         (uint256[] memory amounts, address[] memory tokens) = vault.collectRewards();\n",
    "\n",
    "#         uint256 tokensLength = tokens.length;\n",
    "#         for (uint256 j = 0; j < tokensLength; ++j) {\n",
    "#             address token = tokens[j];\n",
    "#             uint256 amount = amounts[j];\n",
    "#             if (amount > 0 && token != address(0)) {\n",
    "#                 // slither-disable-next-line reentrancy-no-eth\n",
    "#                 _increaseBalance(address(token), address(vault), amount);\n",
    "#             }\n",
    "#         }\n",
    "#         uint256 gasUsed = gasBefore - gasleft();\n",
    "#         emit GasUsedForVault(address(vault), gasUsed, bytes32(\"claim\"));\n",
    "#     }\n",
    "# }\n",
    "\n",
    "\n",
    "# https://vscode.blockscan.com/ethereum/0xf570ea70106b8e109222297f9a90da477658d481\n",
    "# check with cody about claiming USDT rewards"
   ]
  },
  {
   "cell_type": "code",
   "execution_count": null,
   "metadata": {},
   "outputs": [],
   "source": [
    "destinations[destinations[\"pool\"].isin(pools_missing_vault_liquidations)].drop_duplicates(\"pool\")"
   ]
  },
  {
   "cell_type": "code",
   "execution_count": null,
   "metadata": {},
   "outputs": [],
   "source": [
    "# the fluid lending has claimFromFluidMerkleDistributor"
   ]
  },
  {
   "cell_type": "code",
   "execution_count": null,
   "metadata": {},
   "outputs": [],
   "source": [
    "claim_vault_rewards[claim_vault_rewards[\"destination_vault_address\"] == \"0x4142e3a17391676C66DDf1285E43889F168EE237\"]"
   ]
  },
  {
   "cell_type": "code",
   "execution_count": null,
   "metadata": {},
   "outputs": [],
   "source": [
    "break"
   ]
  },
  {
   "cell_type": "code",
   "execution_count": null,
   "metadata": {},
   "outputs": [],
   "source": [
    "claim_vault_rewards = get_full_table_as_df_with_tx_hash(ClaimVaultRewards, Blocks.datetime > three_days_ago)\n",
    "destination_states = get_full_table_as_df_with_block(DestinationStates, Blocks.datetime > three_days_ago).reset_index()\n",
    "autopool_destination_states = get_full_table_as_df_with_block(\n",
    "    AutopoolDestinationStates, Blocks.datetime > three_days_ago\n",
    ").reset_index()\n",
    "destinations = get_full_table_as_df(Destinations)\n",
    "\n",
    "claim_vault_rewards[\"pool\"] = claim_vault_rewards[\"destination_vault_address\"].map(\n",
    "    destinations.set_index(\"destination_vault_address\")[\"pool\"]\n",
    ")\n",
    "autopool_destination_states[\"pool\"] = autopool_destination_states[\"destination_vault_address\"].map(\n",
    "    destinations.set_index(\"destination_vault_address\")[\"pool\"]\n",
    ")\n",
    "destination_states[\"pool\"] = destination_states[\"destination_vault_address\"].map(\n",
    "    destinations.set_index(\"destination_vault_address\")[\"pool\"]\n",
    ")\n",
    "\n",
    "destinations[\"incentive_apr\"] = destinations[\"pool\"].map(destination_states.groupby(\"pool\")[\"incentive_apr\"].max())\n",
    "destinations[\"owned_shares\"] = destinations[\"pool\"].map(\n",
    "    autopool_destination_states.groupby(\"pool\")[\"owned_shares\"].max()\n",
    ")\n",
    "\n",
    "taget_pool = \"0x6951bDC4734b9f7F3E1B74afeBC670c736A0EDB6\"\n",
    "\n",
    "# claim_vault_rewards = claim_vault_rewards[claim_vault_rewards['pool'] != taget_pool].copy()\n",
    "\n",
    "# all claim events in the last 3 days\n",
    "pool_with_recent_claim_rewards = claim_vault_rewards[\"pool\"].unique().tolist()\n",
    "# any autopool owns shares > 1 in the last 3 days\n",
    "pools_with_some_owned_shares = (\n",
    "    autopool_destination_states[autopool_destination_states[\"owned_shares\"] > 1][\"pool\"].unique().tolist()\n",
    ")\n",
    "# >.5% apr within the last 3 days\n",
    "pools_with_some_incentive_apr = (\n",
    "    destination_states[destination_states[\"incentive_apr\"] > 0.005][\"pool\"].unique().tolist()\n",
    ")"
   ]
  },
  {
   "cell_type": "code",
   "execution_count": null,
   "metadata": {},
   "outputs": [],
   "source": [
    "# taget_pool in pools_with_some_incentive_apr, taget_pool in pools_with_some_owned_shares, taget_pool in pool_with_recent_claim_rewards\n",
    "\n",
    "expected = set(pools_with_some_incentive_apr) & set(pools_with_some_owned_shares)\n",
    "missing = expected - set(pool_with_recent_claim_rewards)\n",
    "missing"
   ]
  },
  {
   "cell_type": "code",
   "execution_count": null,
   "metadata": {},
   "outputs": [],
   "source": []
  },
  {
   "cell_type": "code",
   "execution_count": null,
   "metadata": {},
   "outputs": [],
   "source": [
    "destinations[destinations[\"pool\"].isin(missing)]"
   ]
  },
  {
   "cell_type": "code",
   "execution_count": null,
   "metadata": {},
   "outputs": [],
   "source": [
    "all_vault_claimed_events = get_full_table_as_df_with_tx_hash(ClaimVaultRewards)\n",
    "all_vault_claimed_events[\"pool\"] = all_vault_claimed_events[\"destination_vault_address\"].map(\n",
    "    destinations.set_index(\"destination_vault_address\")[\"pool\"]\n",
    ")\n",
    "all_vault_claimed_events"
   ]
  },
  {
   "cell_type": "code",
   "execution_count": null,
   "metadata": {},
   "outputs": [],
   "source": [
    "fluid_tether_pool = \"0x5C20B550819128074FD538Edf79791733ccEdd18\"\n",
    "all_vault_claimed_events[all_vault_claimed_events[\"pool\"] == fluid_tether_pool]"
   ]
  },
  {
   "cell_type": "code",
   "execution_count": null,
   "metadata": {},
   "outputs": [],
   "source": [
    "destinations[destinations[\"pool\"].isin(missing)][\n",
    "    [\n",
    "        \"pool\",\n",
    "        \"exchange_name\",\n",
    "        \"underlying_name\",\n",
    "        \"chain_id\",\n",
    "        \"incentive_apr\",\n",
    "        \"owned_shares\",\n",
    "        \"destination_vault_address\",\n",
    "    ]\n",
    "].drop_duplicates()"
   ]
  },
  {
   "cell_type": "code",
   "execution_count": null,
   "metadata": {},
   "outputs": [],
   "source": [
    "destinations[\n",
    "    [\n",
    "        \"pool\",\n",
    "        \"exchange_name\",\n",
    "        \"underlying_name\",\n",
    "        \"chain_id\",\n",
    "        \"incentive_apr\",\n",
    "        \"owned_shares\",\n",
    "        \"destination_vault_address\",\n",
    "    ]\n",
    "].drop_duplicates()"
   ]
  },
  {
   "cell_type": "code",
   "execution_count": null,
   "metadata": {},
   "outputs": [],
   "source": [
    "# usdc Fluid Tether USD should have some incentive apr\n",
    "\n",
    "\n",
    "# 0x6f40d4A6237C257fff2dB00FA0510DeEECd303eb autoUSD has 750k in this pool"
   ]
  },
  {
   "cell_type": "code",
   "execution_count": null,
   "metadata": {},
   "outputs": [],
   "source": []
  },
  {
   "cell_type": "code",
   "execution_count": null,
   "metadata": {},
   "outputs": [],
   "source": [
    "# # is there a way to manually check if rewards are claimable? a function call?\n",
    "# post_message_with_table(\n",
    "#     \"Pools with incentives and owned shares but no recent claims\",\n",
    "#     destinations[destinations['pool'].isin(missing)][['pool', 'exchange_name', 'chain_id', 'incentive_apr', 'owned_shares']]\n",
    "# )"
   ]
  },
  {
   "cell_type": "code",
   "execution_count": null,
   "metadata": {},
   "outputs": [],
   "source": [
    "destinations[destinations[\"pool\"].isin(missing)]"
   ]
  },
  {
   "cell_type": "code",
   "execution_count": null,
   "metadata": {},
   "outputs": [],
   "source": []
  },
  {
   "cell_type": "code",
   "execution_count": null,
   "metadata": {},
   "outputs": [],
   "source": [
    "destinations[destinations[\"pool\"] == \"0x6951bDC4734b9f7F3E1B74afeBC670c736A0EDB6\"]  # there are 4 destiantions here,"
   ]
  },
  {
   "cell_type": "code",
   "execution_count": null,
   "metadata": {},
   "outputs": [],
   "source": []
  },
  {
   "cell_type": "code",
   "execution_count": null,
   "metadata": {},
   "outputs": [],
   "source": [
    "# 0x6951bDC4734b9f7F3E1B74afeBC670c736A0EDB6 had incentive APR go to zero on oct 14th\n",
    "\n",
    "# need to not point at old destination vaults\n",
    "# have the agg entity by the pool it self"
   ]
  },
  {
   "attachments": {
    "image.png": {
     "image/png": "[encoded data removed]"
    }
   },
   "cell_type": "markdown",
   "metadata": {},
   "source": [
    "![image.png](attachment:image.png)"
   ]
  },
  {
   "cell_type": "code",
   "execution_count": null,
   "metadata": {},
   "outputs": [],
   "source": [
    "# can I manually check if rewards are claimable?"
   ]
  },
  {
   "cell_type": "code",
   "execution_count": null,
   "metadata": {},
   "outputs": [],
   "source": [
    "didnt_have_expected_liquidation"
   ]
  },
  {
   "cell_type": "code",
   "execution_count": null,
   "metadata": {},
   "outputs": [],
   "source": [
    "destinations[destinations[\"destination_vault_address\"].isin(didnt_have_expected_liquidation)]"
   ]
  },
  {
   "cell_type": "code",
   "execution_count": null,
   "metadata": {},
   "outputs": [],
   "source": [
    "destination_states[destination_states[\"destination_vault_address\"].isin(didnt_have_expected_liquidation)]"
   ]
  },
  {
   "cell_type": "code",
   "execution_count": null,
   "metadata": {},
   "outputs": [],
   "source": [
    "owned_shares_by_destination = (\n",
    "    autopool_destination_states[[\"destination_vault_address\", \"owned_shares\"]]\n",
    "    .groupby(\"destination_vault_address\")\n",
    "    .max()\n",
    "    .reset_index()\n",
    ")"
   ]
  },
  {
   "cell_type": "code",
   "execution_count": null,
   "metadata": {},
   "outputs": [],
   "source": [
    "def get_list_of_suspect_destinations():\n",
    "    # a suspect_destination is a destiantion\n",
    "    # where, the owned shares in the last 3 days is > 1\n",
    "    # and the incentive apr is > .5\n",
    "    # and there have been no claim vault rewards in the last 3 days\n",
    "    pass"
   ]
  }
 ],
 "metadata": {
  "kernelspec": {
   "display_name": "mainnet-launch-py3.10",
   "language": "python",
   "name": "python3"
  },
  "language_info": {
   "codemirror_mode": {
    "name": "ipython",
    "version": 3
   },
   "file_extension": ".py",
   "mimetype": "text/x-python",
   "name": "python",
   "nbconvert_exporter": "python",
   "pygments_lexer": "ipython3",
   "version": "3.10.14"
  }
 },
 "nbformat": 4,
 "nbformat_minor": 2
}
