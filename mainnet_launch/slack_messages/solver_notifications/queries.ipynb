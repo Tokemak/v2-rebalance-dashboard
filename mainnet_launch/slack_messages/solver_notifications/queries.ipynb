{
 "cells": [
  {
   "cell_type": "code",
   "execution_count": null,
   "metadata": {},
   "outputs": [],
   "source": [
    "\"\"\"These are assumed to be ran after the production database is updated\"\"\"\n",
    "\n",
    "import pandas as pd\n",
    "\n",
    "from mainnet_launch.database.postgres_operations import _exec_sql_and_cache\n",
    "from mainnet_launch.database.schema.full import *\n",
    "\n",
    "from mainnet_launch.slack_messages.post_message import post_slack_message, post_message_with_table\n",
    "\n",
    "\n",
    "# add destination vault liquidations"
   ]
  }
 ],
 "metadata": {
  "kernelspec": {
   "display_name": "mainnet-launch-py3.10",
   "language": "python",
   "name": "python3"
  },
  "language_info": {
   "name": "python",
   "version": "3.10.14"
  }
 },
 "nbformat": 4,
 "nbformat_minor": 2
}
