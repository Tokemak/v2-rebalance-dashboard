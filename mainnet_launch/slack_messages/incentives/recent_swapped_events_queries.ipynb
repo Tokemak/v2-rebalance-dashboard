{
 "cells": [
  {
   "cell_type": "code",
   "execution_count": 1,
   "metadata": {},
   "outputs": [
    {
     "name": "stderr",
     "output_type": "stream",
     "text": [
      "/Users/pb/Library/Caches/pypoetry/virtualenvs/mainnet-launch-FtycU18g-py3.10/lib/python3.10/site-packages/web3/__init__.py:4: UserWarning: pkg_resources is deprecated as an API. See https://setuptools.pypa.io/en/latest/pkg_resources.html. The pkg_resources package is slated for removal as early as 2025-11-30. Refrain from using this package or pin to Setuptools<81.\n",
      "  import pkg_resources\n"
     ]
    }
   ],
   "source": [
    "import pandas as pd\n",
    "\n",
    "from mainnet_launch.database.postgres_operations import (\n",
    "    _exec_sql_and_cache,\n",
    "    get_full_table_as_df_with_tx_hash,\n",
    ")\n",
    "\n",
    "from mainnet_launch.database.views import fetch_rich_autopool_destinations_table\n",
    "from mainnet_launch.database.schema.full import *\n",
    "from mainnet_launch.slack_messages.post_message import post_slack_message, post_message_with_table, SlackChannel\n",
    "from mainnet_launch.constants import *\n",
    "\n",
    "from datetime import datetime, timedelta\n",
    "\n",
    "two_days_ago = datetime.utcnow() - timedelta(days=2)\n",
    "swapped_df = get_full_table_as_df_with_tx_hash(IncentiveTokenSwapped, where_clause=Blocks.datetime > two_days_ago)"
   ]
  },
  {
   "cell_type": "code",
   "execution_count": 3,
   "metadata": {},
   "outputs": [
    {
     "data": {
      "application/vnd.microsoft.datawrangler.viewer.v0+json": {
       "columns": [
        {
         "name": "liquidation_row",
         "rawType": "object",
         "type": "string"
        },
        {
         "name": "count",
         "rawType": "int64",
         "type": "integer"
        }
       ],
       "ref": "a0ad35a7-8c57-47d7-ba7a-8a91968eab29",
       "rows": [
        [
         "0xF570EA70106B8e109222297f9a90dA477658d481",
         "30"
        ],
        [
         "0x7571dE594A92379c0A053E2A5004514057c10B5D",
         "28"
        ],
        [
         "0x610Ffeb00B8312B0540DED300c683227CB3E3AB5",
         "23"
        ],
        [
         "0xf3b137219325466004AEb91CAa0A0Bdd2A8afc8e",
         "4"
        ],
        [
         "0xD3132ce50e7471cC6130Ac5Aa553149dc3B2A018",
         "2"
        ]
       ],
       "shape": {
        "columns": 1,
        "rows": 5
       }
      },
      "text/plain": [
       "liquidation_row\n",
       "0xF570EA70106B8e109222297f9a90dA477658d481    30\n",
       "0x7571dE594A92379c0A053E2A5004514057c10B5D    28\n",
       "0x610Ffeb00B8312B0540DED300c683227CB3E3AB5    23\n",
       "0xf3b137219325466004AEb91CAa0A0Bdd2A8afc8e     4\n",
       "0xD3132ce50e7471cC6130Ac5Aa553149dc3B2A018     2\n",
       "Name: count, dtype: int64"
      ]
     },
     "execution_count": 3,
     "metadata": {},
     "output_type": "execute_result"
    }
   ],
   "source": [
    "swapped_df[\"liquidation_row\"].value_counts()"
   ]
  },
  {
   "cell_type": "code",
   "execution_count": 8,
   "metadata": {},
   "outputs": [
    {
     "data": {
      "text/plain": [
       "'0xD3132ce50e7471cC6130Ac5Aa553149dc3B2A018'"
      ]
     },
     "execution_count": 8,
     "metadata": {},
     "output_type": "execute_result"
    }
   ],
   "source": [
    "LIQUIDATION_ROW(PLASMA_CHAIN)"
   ]
  },
  {
   "cell_type": "code",
   "execution_count": 9,
   "metadata": {},
   "outputs": [
    {
     "data": {
      "text/plain": [
       "'0x7571dE594A92379c0A053E2A5004514057c10B5D'"
      ]
     },
     "execution_count": 9,
     "metadata": {},
     "output_type": "execute_result"
    }
   ],
   "source": [
    "LIQUIDATION_ROW2(BASE_CHAIN)"
   ]
  },
  {
   "cell_type": "code",
   "execution_count": null,
   "metadata": {},
   "outputs": [],
   "source": [
    "for chain in ALL_CHAINS:\n",
    "    #\n",
    "    LIQUIDATION_ROW(chain)\n",
    "\n",
    "# maybe https://www.alchemy.com/docs/data/token-api/token-api-endpoints/alchemy-get-token-balances"
   ]
  },
  {
   "cell_type": "code",
   "execution_count": null,
   "metadata": {},
   "outputs": [],
   "source": [
    "# maybe,\n",
    "\n",
    "# https://www.alchemy.com/docs/data/prices-api/prices-api-endpoints/prices-api-endpoints/get-token-prices-by-address\n",
    "\n",
    "\n",
    "# flag if there is more than > $100 in any of them?\n",
    "\n",
    "# flag if a liqudation row has not had at least one liqudation in the last 2 days.\n",
    "\n",
    "# Either works"
   ]
  }
 ],
 "metadata": {
  "kernelspec": {
   "display_name": "mainnet-launch-py3.10",
   "language": "python",
   "name": "python3"
  },
  "language_info": {
   "codemirror_mode": {
    "name": "ipython",
    "version": 3
   },
   "file_extension": ".py",
   "mimetype": "text/x-python",
   "name": "python",
   "nbconvert_exporter": "python",
   "pygments_lexer": "ipython3",
   "version": "3.10.14"
  }
 },
 "nbformat": 4,
 "nbformat_minor": 2
}
