{
 "cells": [
  {
   "cell_type": "code",
   "execution_count": 1,
   "metadata": {},
   "outputs": [
    {
     "name": "stderr",
     "output_type": "stream",
     "text": [
      "/Users/pb/Library/Caches/pypoetry/virtualenvs/mainnet-launch-FtycU18g-py3.10/lib/python3.10/site-packages/web3/__init__.py:4: UserWarning: pkg_resources is deprecated as an API. See https://setuptools.pypa.io/en/latest/pkg_resources.html. The pkg_resources package is slated for removal as early as 2025-11-30. Refrain from using this package or pin to Setuptools<81.\n",
      "  import pkg_resources\n"
     ]
    }
   ],
   "source": [
    "\"\"\"These are assumed to be ran after the production database is updated\"\"\"\n",
    "\n",
    "import pandas as pd\n",
    "import plotly.express as px\n",
    "\n",
    "from mainnet_launch.database.postgres_operations import (\n",
    "    _exec_sql_and_cache,\n",
    "    get_full_table_as_df_with_tx_hash,\n",
    "    get_full_table_as_df_with_block,\n",
    "    get_full_table_as_df,\n",
    ")\n",
    "from mainnet_launch.database.schema.full import *\n",
    "\n",
    "from mainnet_launch.slack_messages.post_message import post_slack_message, post_message_with_table\n",
    "from mainnet_launch.constants import *\n",
    "\n",
    "from mainnet_launch.data_fetching.get_events import fetch_events\n",
    "from mainnet_launch.data_fetching.get_state_by_block import get_raw_state_by_blocks\n",
    "\n",
    "\n",
    "def fetch_all_balance_updated_events() -> str:\n",
    "    all_balance_updated_df = get_full_table_as_df_with_tx_hash(IncentiveTokenBalanceUpdated)\n",
    "    return all_balance_updated_df\n",
    "\n",
    "\n",
    "def fetch_recent_vault_claimed_reward_events(n: int) -> str:\n",
    "    balance_updated_events = fetch_all_balance_updated_events()  # todo switch to recent only\n",
    "\n",
    "    n_days_ago = pd.Timestamp.now() - pd.Timedelta(days=n)\n",
    "\n",
    "    get_recent_autopool_destination_states_query = f\"\"\"\n",
    "              SELECT\n",
    "                  autopool_destination_states.*,\n",
    "                  destinations.pool as pool,\n",
    "                  blocks.datetime\n",
    "              FROM autopool_destination_states\n",
    "              JOIN blocks\n",
    "                ON autopool_destination_states.block = blocks.block\n",
    "              AND autopool_destination_states.chain_id = blocks.chain_id\n",
    "              JOIN destinations\n",
    "                ON autopool_destination_states.destination_vault_address = destinations.destination_vault_address\n",
    "                AND autopool_destination_states.chain_id = destinations.chain_id\n",
    "\n",
    "              WHERE blocks.datetime > '{n_days_ago}'\n",
    "              ORDER BY blocks.datetime DESC\n",
    "    \"\"\"\n",
    "\n",
    "    get_recent_destination_states_query = f\"\"\"\n",
    "\n",
    "          SELECT\n",
    "          destination_states.*,\n",
    "          destinations.pool as pool,\n",
    "          blocks.datetime\n",
    "          FROM destination_states\n",
    "          JOIN blocks\n",
    "          ON destination_states.block = blocks.block\n",
    "          AND destination_states.chain_id = blocks.chain_id\n",
    "\n",
    "          JOIN destinations\n",
    "          ON destination_states.destination_vault_address = destinations.destination_vault_address\n",
    "          AND destination_states.chain_id = destinations.chain_id\n",
    "\n",
    "          WHERE blocks.datetime > '{n_days_ago}'\n",
    "          ORDER BY blocks.datetime DESC           \n",
    "\n",
    "    \"\"\"\n",
    "    destination_states = _exec_sql_and_cache(get_recent_destination_states_query)\n",
    "\n",
    "    autopool_destination_states = _exec_sql_and_cache(get_recent_autopool_destination_states_query)\n",
    "\n",
    "    autopool_destinations = get_full_table_as_df(AutopoolDestinations)\n",
    "    autopool_destinations[\"autopool_name\"] = autopool_destinations[\"autopool_vault_address\"].map(\n",
    "        {a.autopool_eth_addr: a.name for a in ALL_AUTOPOOLS}\n",
    "    )\n",
    "    destinations = get_full_table_as_df(Destinations)\n",
    "    autopool_destinations = pd.merge(\n",
    "        autopool_destinations, destinations, on=[\"destination_vault_address\", \"chain_id\"], how=\"left\"\n",
    "    )\n",
    "    return balance_updated_events, destination_states, autopool_destination_states, autopool_destinations\n",
    "\n",
    "\n",
    "# 8 days to catch morpho\n",
    "balance_updated_events, destination_states, autopool_destination_states, autopool_destinations = (\n",
    "    fetch_recent_vault_claimed_reward_events(n=8)\n",
    ")"
   ]
  },
  {
   "cell_type": "code",
   "execution_count": 6,
   "metadata": {},
   "outputs": [],
   "source": [
    "balance_updated_events.reset_index(inplace=True)"
   ]
  },
  {
   "cell_type": "code",
   "execution_count": 8,
   "metadata": {},
   "outputs": [
    {
     "data": {
      "application/vnd.microsoft.datawrangler.viewer.v0+json": {
       "columns": [
        {
         "name": "destination_vault_address",
         "rawType": "object",
         "type": "string"
        },
        {
         "name": "datetime",
         "rawType": "datetime64[ns, UTC]",
         "type": "unknown"
        }
       ],
       "ref": "e29c5eb4-7bc9-4f4f-a746-7304f1591ca0",
       "rows": [
        [
         "0x0091Fec1B75013D1b83f4Bb82f0BEC4E256758CB",
         "2025-09-22 08:02:23+00:00"
        ],
        [
         "0x06993Ecd8d8a16204bf7f86B00A0575aB69548DD",
         "2025-10-23 18:56:21+00:00"
        ],
        [
         "0x071b90e1e322F5F94F74BA7ADd453BBE8D25032B",
         "2025-10-23 18:55:59+00:00"
        ],
        [
         "0x0f170e37E5E0C617148517B831A49292c38c363d",
         "2025-06-10 00:08:11+00:00"
        ],
        [
         "0x148Ca723BefeA7b021C399413b8b7426A4701500",
         "2024-10-15 16:51:23+00:00"
        ],
        [
         "0x16cbe611AF0E01ec6988b59aD3690327aD496Eb7",
         "2025-10-24 18:55:57+00:00"
        ],
        [
         "0x1Ea622fa030e4a78F4CC2f305dd3c08DA3F08573",
         "2025-10-24 08:01:35+00:00"
        ],
        [
         "0x1EfC63fA8718cac1Df88273B08616cF1e9FF03DD",
         "2025-10-24 18:55:57+00:00"
        ],
        [
         "0x23032a1ef0c082e619E3e64725E9D3b39c4e9d8C",
         "2025-09-17 07:02:47+00:00"
        ],
        [
         "0x28109255F49f0A02BB31358B3e0b5cb7512EB4eC",
         "2025-05-28 04:07:23+00:00"
        ],
        [
         "0x2B08137BeABd2454AD3631DEB754F97C5c93eB78",
         "2024-11-03 04:17:35+00:00"
        ],
        [
         "0x2E0E2AB6505A1182367DFB1e3c66648bF3EEA020",
         "2025-10-13 07:02:59+00:00"
        ],
        [
         "0x2F7e096a400ded5D02762120b39A3aA4ABA072a4",
         "2024-10-15 16:51:23+00:00"
        ],
        [
         "0x2f2CC1bf461413014741dD68481dB4a3686DAC3D",
         "2025-10-24 08:01:35+00:00"
        ],
        [
         "0x2fE75AEd0E1EFA62e47CE356814D16D9eb6450d1",
         "2025-07-19 14:53:28+00:00"
        ],
        [
         "0x2fa4C8a4aCda7746778dbd2f3B2Fc5ca41D9b171",
         "2025-09-22 08:02:23+00:00"
        ],
        [
         "0x30Ff0dBBd64A86C8F5Bfe905A53f0B78cBb6Fe5b",
         "2025-08-09 12:56:01+00:00"
        ],
        [
         "0x310CCB9eC996A228cd6F4Eb2E70769ccDbeD163D",
         "2025-10-08 08:53:33+00:00"
        ],
        [
         "0x366C094C5563CD12AF27b9AfFF2200B0E0D056E0",
         "2025-10-24 07:01:47+00:00"
        ],
        [
         "0x3772973f8F399D74488D5cF3276C032E0afC8A6f",
         "2025-07-01 00:07:11+00:00"
        ],
        [
         "0x3D35b1E0Fe434848490427CE4DE13b6839365Bd2",
         "2025-06-21 20:53:38+00:00"
        ],
        [
         "0x3Ee3F7A0B244004B0678EBa98bA091eC101513Ee",
         "2025-09-28 07:03:11+00:00"
        ],
        [
         "0x3F3565C5A2AA05F76830A5a51c2F32018De856A3",
         "2025-06-10 00:08:11+00:00"
        ],
        [
         "0x3F55eedDe51504E6Ed0ec30E8289b4Da11EdB7F9",
         "2025-10-24 08:01:35+00:00"
        ],
        [
         "0x40219bBda953ca811d2D0168Dc806a96b84791d9",
         "2025-09-28 07:01:59+00:00"
        ],
        [
         "0x4142e3a17391676C66DDf1285E43889F168EE237",
         "2025-10-24 08:01:35+00:00"
        ],
        [
         "0x43D99d04985ef2231f7d9b5D9111D2189d9FD971",
         "2025-10-24 08:01:35+00:00"
        ],
        [
         "0x4827788F01D7533710cbfa7C0b5991E8b99E277F",
         "2025-06-19 18:47:23+00:00"
        ],
        [
         "0x4E12227b350E8f8fEEc41A58D36cE2fB2e2d4575",
         "2024-10-15 16:51:23+00:00"
        ],
        [
         "0x4eeDC6d6126ae9C6D92D03bB355eEAe5E47d2b03",
         "2025-10-24 18:55:57+00:00"
        ],
        [
         "0x53C8C211350b635269e02B2C2f1077b850C657dB",
         "2025-09-28 07:03:11+00:00"
        ],
        [
         "0x5b39015f01A7b68093889678ee4e566959872A4A",
         "2025-10-24 08:01:35+00:00"
        ],
        [
         "0x5c6aeb9ef0d5BbA4E6691f381003503FD0D45126",
         "2025-10-24 08:01:35+00:00"
        ],
        [
         "0x60339056EC88996e41757E05a798310E46972cca",
         "2024-11-29 20:24:23+00:00"
        ],
        [
         "0x628d6D62Ca1d40a80bfc28bd29e16B9735FaBB37",
         "2025-10-05 18:55:59+00:00"
        ],
        [
         "0x65efCF2cce562DCBf07e805eEbeDeF21Dbd8Ea3D",
         "2025-10-24 07:01:47+00:00"
        ],
        [
         "0x6DcB6797b1C0442587c2ad79745ef7BB487Fc2E2",
         "2024-10-15 16:51:23+00:00"
        ],
        [
         "0x6F628dcCD275feA4277722D177265741031E09d7",
         "2025-04-08 22:15:35+00:00"
        ],
        [
         "0x6a8C6ff78082a2ae494EB9291DdC7254117298Ff",
         "2024-10-05 05:32:11+00:00"
        ],
        [
         "0x737f2e3a0958EF0fA77aEC405db60f13CB7f004b",
         "2025-08-05 07:04:35+00:00"
        ],
        [
         "0x7583b1589aDD33320366A48A92794D77763FAE9e",
         "2025-10-24 07:01:47+00:00"
        ],
        [
         "0x7876F91BB22148345b3De16af9448081E9853830",
         "2025-10-24 07:01:47+00:00"
        ],
        [
         "0x87E25fFe5C3A2720Cd43F5Eb8ec41Ac0CE699D07",
         "2025-10-24 08:01:35+00:00"
        ],
        [
         "0x88d0e045d91847a81e60f65073E4bC4FDEF90aB0",
         "2025-09-17 07:02:47+00:00"
        ],
        [
         "0x896eCc16Ab4AFfF6cE0765A5B924BaECd7Fa455a",
         "2024-10-05 17:31:59+00:00"
        ],
        [
         "0x8cA2201BC34780f14Bca452913ecAc8e9928d4cA",
         "2024-10-15 16:51:23+00:00"
        ],
        [
         "0x90300b02b162F902B9629963830BcCCdeEd71113",
         "2024-10-15 16:51:23+00:00"
        ],
        [
         "0x945a4f719018edBa445ca67bDa43663C815835Ad",
         "2025-10-24 18:55:27+00:00"
        ],
        [
         "0x97c98De076cc8d3880c932DdaD4E4748eF8212c9",
         "2025-07-19 12:55:21+00:00"
        ],
        [
         "0x9828b1a3742457D70cE428ddd3Aa51f84ffb37F2",
         "2025-10-24 07:02:23+00:00"
        ]
       ],
       "shape": {
        "columns": 1,
        "rows": 78
       }
      },
      "text/plain": [
       "destination_vault_address\n",
       "0x0091Fec1B75013D1b83f4Bb82f0BEC4E256758CB   2025-09-22 08:02:23+00:00\n",
       "0x06993Ecd8d8a16204bf7f86B00A0575aB69548DD   2025-10-23 18:56:21+00:00\n",
       "0x071b90e1e322F5F94F74BA7ADd453BBE8D25032B   2025-10-23 18:55:59+00:00\n",
       "0x0f170e37E5E0C617148517B831A49292c38c363d   2025-06-10 00:08:11+00:00\n",
       "0x148Ca723BefeA7b021C399413b8b7426A4701500   2024-10-15 16:51:23+00:00\n",
       "                                                        ...           \n",
       "0xd96E943098B2AE81155e98D7DC8BeaB34C539f01   2024-10-15 16:51:23+00:00\n",
       "0xdfE3fA7027E84f59b266459C567278C79fe86f0C   2025-05-30 19:27:35+00:00\n",
       "0xe4433D00Cf48BFE0C672d9949F2cd2c008bffC04   2025-10-13 07:02:59+00:00\n",
       "0xf9779aEF9f77e78C857CB4A068c65CcBee25BAAc   2025-10-24 08:01:35+00:00\n",
       "0xfB6f99FdF12E37Bfe3c4Cf81067faB10c465fb24   2024-10-15 16:51:23+00:00\n",
       "Name: datetime, Length: 78, dtype: datetime64[ns, UTC]"
      ]
     },
     "execution_count": 8,
     "metadata": {},
     "output_type": "execute_result"
    }
   ],
   "source": [
    "def determine_destinations_that_should_have_some_claims(destination_states, autopool_destination_states):\n",
    "\n",
    "    destinations_with_any_incentive_apr_recent_past = destination_states[(destination_states[\"incentive_apr\"] > 0)][\n",
    "        \"destination_vault_address\"\n",
    "    ].unique()\n",
    "\n",
    "    destinations_with_any_owned_shares = autopool_destination_states[(autopool_destination_states[\"owned_shares\"] > 0)][\n",
    "        \"destination_vault_address\"\n",
    "    ].unique()\n",
    "\n",
    "    destinations_that_should_have_some_claims = [\n",
    "        d for d in destinations_with_any_incentive_apr_recent_past if d in destinations_with_any_owned_shares\n",
    "    ]\n",
    "    return destinations_that_should_have_some_claims\n",
    "\n",
    "\n",
    "destinations_that_should_have_some_claims = determine_destinations_that_should_have_some_claims(\n",
    "    destination_states, autopool_destination_states\n",
    ")\n",
    "most_recent_balance_updated = balance_updated_events.groupby(\"destination_vault_address\")[\"datetime\"].max()\n",
    "most_recent_balance_updated"
   ]
  },
  {
   "cell_type": "code",
   "execution_count": null,
   "metadata": {},
   "outputs": [],
   "source": [
    "highest_recent_incentive_apr = (\n",
    "    destination_states.groupby(\"destination_vault_address\")[\"incentive_apr\"].max() * 100\n",
    ").to_dict()\n",
    "highest_recent_owned_shares = (\n",
    "    autopool_destination_states.groupby(\"destination_vault_address\")[\"owned_shares\"].max()\n",
    ").to_dict()\n",
    "most_recent_claims_by_destination = (\n",
    "    balance_updated_events.groupby(\"destination_vault_address\")[\"datetime\"].max().to_dict()\n",
    ")\n",
    "autopool_destinations[\"most_recent_claim\"] = autopool_destinations[\"destination_vault_address\"].map(\n",
    "    most_recent_claims_by_destination\n",
    ")\n",
    "\n",
    "autopool_destinations[\"time_since_last_claim\"] = pd.Timestamp.now(tz=\"UTC\") - autopool_destinations[\"most_recent_claim\"]\n",
    "autopool_destinations[\"days_since_last_claim\"] = (\n",
    "    autopool_destinations[\"time_since_last_claim\"].dt.total_seconds() / 86400\n",
    ")\n",
    "autopool_destinations[\"highest_recent_incentive_apr\"] = autopool_destinations[\"destination_vault_address\"].map(\n",
    "    highest_recent_incentive_apr\n",
    ")\n",
    "autopool_destinations[\"highest_recent_owned_shares\"] = autopool_destinations[\"destination_vault_address\"].map(\n",
    "    highest_recent_owned_shares\n",
    ")\n",
    "\n",
    "cols = [\n",
    "    \"autopool_name\",\n",
    "    \"underlying_name\",\n",
    "    \"time_since_last_claim\",\n",
    "    \"highest_recent_incentive_apr\",\n",
    "    \"highest_recent_owned_shares\",\n",
    "]\n",
    "missing_dfs = []\n",
    "sub_dfs = []\n",
    "\n",
    "for autopool in ALL_AUTOPOOLS:\n",
    "    sub_df = autopool_destinations[\n",
    "        (autopool_destinations[\"destination_vault_address\"].isin(destinations_that_should_have_some_claims))\n",
    "        & (autopool_destinations[\"autopool_name\"] == autopool.name)\n",
    "    ].drop_duplicates()\n",
    "    sub_dfs.append(sub_df)\n",
    "\n",
    "    missing_claims_df = sub_df[\n",
    "        (sub_df[\"time_since_last_claim\"] > pd.Timedelta(days=7)) | (sub_df[\"time_since_last_claim\"].isna())\n",
    "    ]\n",
    "    if missing_claims_df.empty:\n",
    "        continue\n",
    "\n",
    "    else:\n",
    "        missing_dfs.append(missing_claims_df)\n",
    "\n",
    "missing_df = pd.concat(missing_dfs, ignore_index=True)\n",
    "missing_df[\"time_since_last_claim\"] = missing_df[\"time_since_last_claim\"].dt.floor(\"min\")\n",
    "full_sub_df = pd.concat(sub_dfs, ignore_index=True)\n",
    "\n",
    "full_sub_df[\"days_since_last_claim\"] = full_sub_df[\"time_since_last_claim\"].dt.total_seconds() / 86400\n",
    "few_columns_df = full_sub_df[\n",
    "    [\n",
    "        \"days_since_last_claim\",\n",
    "        \"underlying_name\",\n",
    "        \"autopool_name\",\n",
    "        \"destination_vault_address\",\n",
    "        \"highest_recent_owned_shares\",\n",
    "        \"highest_recent_incentive_apr\",\n",
    "        \"underlying\",\n",
    "        \"exchange_name\",\n",
    "    ]\n",
    "]\n",
    "few_columns_df[few_columns_df[\"days_since_last_claim\"] > 2]  # post this as a table"
   ]
  },
  {
   "cell_type": "markdown",
   "metadata": {},
   "source": [
    "# Plasma and Arb look like they are not claiming rewards getting no Balance Updated events for those autopools\n",
    "\n",
    "\n"
   ]
  },
  {
   "cell_type": "code",
   "execution_count": null,
   "metadata": {},
   "outputs": [
    {
     "data": {
      "application/vnd.microsoft.datawrangler.viewer.v0+json": {
       "columns": [
        {
         "name": "index",
         "rawType": "int64",
         "type": "integer"
        },
        {
         "name": "days_since_last_claim",
         "rawType": "float64",
         "type": "float"
        },
        {
         "name": "underlying_name",
         "rawType": "object",
         "type": "string"
        },
        {
         "name": "autopool_name",
         "rawType": "object",
         "type": "string"
        },
        {
         "name": "destination_vault_address",
         "rawType": "object",
         "type": "string"
        },
        {
         "name": "highest_recent_owned_shares",
         "rawType": "float64",
         "type": "float"
        },
        {
         "name": "highest_recent_incentive_apr",
         "rawType": "float64",
         "type": "float"
        },
        {
         "name": "underlying",
         "rawType": "object",
         "type": "string"
        },
        {
         "name": "exchange_name",
         "rawType": "object",
         "type": "string"
        }
       ],
       "ref": "8dce6cf9-b915-4604-aa09-367279433043",
       "rows": [
        [
         "25",
         "2.027620934861111",
         "Moonwell Flagship USDC",
         "baseUSD",
         "0xFd70A9b4cE03Dc07Fe7Ba5e4D39fac11eE8d8615",
         "490924.01505615725",
         "0.8552383284734739",
         "0xc1256Ae5FF1cf2719D4937adb3bbCCab2E00A2Ca",
         "morpho"
        ],
        [
         "29",
         "16.445954268194445",
         "2Pool",
         "sonicUSD",
         "0x310CCB9eC996A228cd6F4Eb2E70769ccDbeD163D",
         "98219.58637408982",
         "7.435013150177869",
         "0xD3Dc6b2c947F1BCa4D4a85114b34a71985606cd2",
         "curve"
        ]
       ],
       "shape": {
        "columns": 8,
        "rows": 2
       }
      },
      "text/html": [
       "<div>\n",
       "<style scoped>\n",
       "    .dataframe tbody tr th:only-of-type {\n",
       "        vertical-align: middle;\n",
       "    }\n",
       "\n",
       "    .dataframe tbody tr th {\n",
       "        vertical-align: top;\n",
       "    }\n",
       "\n",
       "    .dataframe thead th {\n",
       "        text-align: right;\n",
       "    }\n",
       "</style>\n",
       "<table border=\"1\" class=\"dataframe\">\n",
       "  <thead>\n",
       "    <tr style=\"text-align: right;\">\n",
       "      <th></th>\n",
       "      <th>days_since_last_claim</th>\n",
       "      <th>underlying_name</th>\n",
       "      <th>autopool_name</th>\n",
       "      <th>destination_vault_address</th>\n",
       "      <th>highest_recent_owned_shares</th>\n",
       "      <th>highest_recent_incentive_apr</th>\n",
       "      <th>underlying</th>\n",
       "      <th>exchange_name</th>\n",
       "    </tr>\n",
       "  </thead>\n",
       "  <tbody>\n",
       "    <tr>\n",
       "      <th>25</th>\n",
       "      <td>2.027621</td>\n",
       "      <td>Moonwell Flagship USDC</td>\n",
       "      <td>baseUSD</td>\n",
       "      <td>0xFd70A9b4cE03Dc07Fe7Ba5e4D39fac11eE8d8615</td>\n",
       "      <td>490924.015056</td>\n",
       "      <td>0.855238</td>\n",
       "      <td>0xc1256Ae5FF1cf2719D4937adb3bbCCab2E00A2Ca</td>\n",
       "      <td>morpho</td>\n",
       "    </tr>\n",
       "    <tr>\n",
       "      <th>29</th>\n",
       "      <td>16.445954</td>\n",
       "      <td>2Pool</td>\n",
       "      <td>sonicUSD</td>\n",
       "      <td>0x310CCB9eC996A228cd6F4Eb2E70769ccDbeD163D</td>\n",
       "      <td>98219.586374</td>\n",
       "      <td>7.435013</td>\n",
       "      <td>0xD3Dc6b2c947F1BCa4D4a85114b34a71985606cd2</td>\n",
       "      <td>curve</td>\n",
       "    </tr>\n",
       "  </tbody>\n",
       "</table>\n",
       "</div>"
      ],
      "text/plain": [
       "    days_since_last_claim         underlying_name autopool_name  \\\n",
       "25               2.027621  Moonwell Flagship USDC       baseUSD   \n",
       "29              16.445954                   2Pool      sonicUSD   \n",
       "\n",
       "                     destination_vault_address  highest_recent_owned_shares  \\\n",
       "25  0xFd70A9b4cE03Dc07Fe7Ba5e4D39fac11eE8d8615                490924.015056   \n",
       "29  0x310CCB9eC996A228cd6F4Eb2E70769ccDbeD163D                 98219.586374   \n",
       "\n",
       "    highest_recent_incentive_apr                                  underlying  \\\n",
       "25                      0.855238  0xc1256Ae5FF1cf2719D4937adb3bbCCab2E00A2Ca   \n",
       "29                      7.435013  0xD3Dc6b2c947F1BCa4D4a85114b34a71985606cd2   \n",
       "\n",
       "   exchange_name  \n",
       "25        morpho  \n",
       "29         curve  "
      ]
     },
     "execution_count": 23,
     "metadata": {},
     "output_type": "execute_result"
    }
   ],
   "source": []
  },
  {
   "cell_type": "code",
   "execution_count": 24,
   "metadata": {},
   "outputs": [
    {
     "data": {
      "application/vnd.microsoft.datawrangler.viewer.v0+json": {
       "columns": [
        {
         "name": "index",
         "rawType": "int64",
         "type": "integer"
        },
        {
         "name": "datetime",
         "rawType": "datetime64[ns, UTC]",
         "type": "unknown"
        },
        {
         "name": "tx_hash",
         "rawType": "object",
         "type": "string"
        },
        {
         "name": "log_index",
         "rawType": "int64",
         "type": "integer"
        },
        {
         "name": "chain_id",
         "rawType": "int64",
         "type": "integer"
        },
        {
         "name": "liquidation_row",
         "rawType": "object",
         "type": "string"
        },
        {
         "name": "token_address",
         "rawType": "object",
         "type": "string"
        },
        {
         "name": "destination_vault_address",
         "rawType": "object",
         "type": "string"
        },
        {
         "name": "new_balance",
         "rawType": "float64",
         "type": "float"
        },
        {
         "name": "block",
         "rawType": "int64",
         "type": "integer"
        }
       ],
       "ref": "b7753787-78b6-429d-958f-3308aebf3ab8",
       "rows": [
        [
         "0",
         "2025-10-24 18:55:57+00:00",
         "0x6f16c8e495d9b55927b5efd6fc5689af09003bb87fe37488a5223ded02dd142b",
         "504",
         "8453",
         "0x7571dE594A92379c0A053E2A5004514057c10B5D",
         "0x1C7a460413dD4e964f96D8dFC56E7223cE88CD85",
         "0x16cbe611AF0E01ec6988b59aD3690327aD496Eb7",
         "630.1470327515275",
         "37271405"
        ],
        [
         "1",
         "2025-10-24 18:55:57+00:00",
         "0x6f16c8e495d9b55927b5efd6fc5689af09003bb87fe37488a5223ded02dd142b",
         "517",
         "8453",
         "0x7571dE594A92379c0A053E2A5004514057c10B5D",
         "0x1509706a6c66CA549ff0cB464de88231DDBe213B",
         "0x1EfC63fA8718cac1Df88273B08616cF1e9FF03DD",
         "132.64848260618936",
         "37271405"
        ],
        [
         "2",
         "2025-10-24 18:55:57+00:00",
         "0x6f16c8e495d9b55927b5efd6fc5689af09003bb87fe37488a5223ded02dd142b",
         "496",
         "8453",
         "0x7571dE594A92379c0A053E2A5004514057c10B5D",
         "0xBAa5CC21fd487B8Fcc2F632f3F4E8D37262a0842",
         "0x4eeDC6d6126ae9C6D92D03bB355eEAe5E47d2b03",
         "59.24712911723794",
         "37271405"
        ],
        [
         "3",
         "2025-10-24 18:55:57+00:00",
         "0x6f16c8e495d9b55927b5efd6fc5689af09003bb87fe37488a5223ded02dd142b",
         "503",
         "8453",
         "0x7571dE594A92379c0A053E2A5004514057c10B5D",
         "0xBAa5CC21fd487B8Fcc2F632f3F4E8D37262a0842",
         "0x16cbe611AF0E01ec6988b59aD3690327aD496Eb7",
         "80.82242767298128",
         "37271405"
        ],
        [
         "4",
         "2025-10-24 18:55:57+00:00",
         "0x6f16c8e495d9b55927b5efd6fc5689af09003bb87fe37488a5223ded02dd142b",
         "519",
         "8453",
         "0x7571dE594A92379c0A053E2A5004514057c10B5D",
         "0x4158734D47Fc9692176B5085E0F52ee0Da5d47F1",
         "0x1EfC63fA8718cac1Df88273B08616cF1e9FF03DD",
         "1244.7526957393634",
         "37271405"
        ],
        [
         "5",
         "2025-10-24 18:55:57+00:00",
         "0x6f16c8e495d9b55927b5efd6fc5689af09003bb87fe37488a5223ded02dd142b",
         "499",
         "8453",
         "0x7571dE594A92379c0A053E2A5004514057c10B5D",
         "0xBAa5CC21fd487B8Fcc2F632f3F4E8D37262a0842",
         "0xCc68b840Bd7567363855e1e5050803EC7Ea8C25c",
         "22.88736770384903",
         "37271405"
        ],
        [
         "6",
         "2025-10-24 18:55:57+00:00",
         "0x6f16c8e495d9b55927b5efd6fc5689af09003bb87fe37488a5223ded02dd142b",
         "518",
         "8453",
         "0x7571dE594A92379c0A053E2A5004514057c10B5D",
         "0x6Bb7a212910682DCFdbd5BCBb3e28FB4E8da10Ee",
         "0x1EfC63fA8718cac1Df88273B08616cF1e9FF03DD",
         "343.9564581599373",
         "37271405"
        ],
        [
         "7",
         "2025-10-24 18:55:27+00:00",
         "0x284575564ea8c92a70d9aae19b29888cf5f4fe1a86c8de1c1d6cf94ee6977620",
         "75",
         "8453",
         "0x7571dE594A92379c0A053E2A5004514057c10B5D",
         "0x4158734D47Fc9692176B5085E0F52ee0Da5d47F1",
         "0xC3337192143EB496eed206C8c4249F7Cdee19078",
         "20.780470398274257",
         "37271390"
        ],
        [
         "8",
         "2025-10-24 18:55:27+00:00",
         "0x284575564ea8c92a70d9aae19b29888cf5f4fe1a86c8de1c1d6cf94ee6977620",
         "74",
         "8453",
         "0x7571dE594A92379c0A053E2A5004514057c10B5D",
         "0x1509706a6c66CA549ff0cB464de88231DDBe213B",
         "0xC3337192143EB496eed206C8c4249F7Cdee19078",
         "49.32361054656613",
         "37271390"
        ],
        [
         "9",
         "2025-10-24 18:55:27+00:00",
         "0x284575564ea8c92a70d9aae19b29888cf5f4fe1a86c8de1c1d6cf94ee6977620",
         "64",
         "8453",
         "0x7571dE594A92379c0A053E2A5004514057c10B5D",
         "0x940181a94A35A4569E4529A3CDfB74e38FD98631",
         "0x945a4f719018edBa445ca67bDa43663C815835Ad",
         "8.510401681895829",
         "37271390"
        ],
        [
         "10",
         "2025-10-24 08:01:35+00:00",
         "0x2ee5b13bd50fa2efe328b2d9a5be67886d605f46f5c301a9a506e43c30db2330",
         "489",
         "1",
         "0xF570EA70106B8e109222297f9a90dA477658d481",
         "0xba100000625a3754423978a60c9317c58a424e3D",
         "0x2f2CC1bf461413014741dD68481dB4a3686DAC3D",
         "6.333782604931732",
         "23646002"
        ],
        [
         "11",
         "2025-10-24 08:01:35+00:00",
         "0x2ee5b13bd50fa2efe328b2d9a5be67886d605f46f5c301a9a506e43c30db2330",
         "535",
         "1",
         "0xF570EA70106B8e109222297f9a90dA477658d481",
         "0xC0c293ce456fF0ED870ADd98a0828Dd4d2903DBF",
         "0x9b163e15121816BE53F8d5c85fbefD6e6D9bebCd",
         "81.55999460207467",
         "23646002"
        ],
        [
         "12",
         "2025-10-24 08:01:35+00:00",
         "0x2ee5b13bd50fa2efe328b2d9a5be67886d605f46f5c301a9a506e43c30db2330",
         "572",
         "1",
         "0xF570EA70106B8e109222297f9a90dA477658d481",
         "0xD533a949740bb3306d119CC777fa900bA034cd52",
         "0x1Ea622fa030e4a78F4CC2f305dd3c08DA3F08573",
         "322.98321522035576",
         "23646002"
        ],
        [
         "13",
         "2025-10-24 08:01:35+00:00",
         "0x2ee5b13bd50fa2efe328b2d9a5be67886d605f46f5c301a9a506e43c30db2330",
         "522",
         "1",
         "0xF570EA70106B8e109222297f9a90dA477658d481",
         "0x48C3399719B582dD63eB5AADf12A40B4C3f52FA2",
         "0x87E25fFe5C3A2720Cd43F5Eb8ec41Ac0CE699D07",
         "8209.052887390566",
         "23646002"
        ],
        [
         "14",
         "2025-10-24 08:01:35+00:00",
         "0x2ee5b13bd50fa2efe328b2d9a5be67886d605f46f5c301a9a506e43c30db2330",
         "505",
         "1",
         "0xF570EA70106B8e109222297f9a90dA477658d481",
         "0xC0c293ce456fF0ED870ADd98a0828Dd4d2903DBF",
         "0x4142e3a17391676C66DDf1285E43889F168EE237",
         "1.057962537319567",
         "23646002"
        ],
        [
         "15",
         "2025-10-24 08:01:35+00:00",
         "0x2ee5b13bd50fa2efe328b2d9a5be67886d605f46f5c301a9a506e43c30db2330",
         "553",
         "1",
         "0xF570EA70106B8e109222297f9a90dA477658d481",
         "0xA0b86991c6218b36c1d19D4a2e9Eb0cE3606eB48",
         "0xf9779aEF9f77e78C857CB4A068c65CcBee25BAAc",
         "16.081276",
         "23646002"
        ],
        [
         "16",
         "2025-10-24 08:01:35+00:00",
         "0x2ee5b13bd50fa2efe328b2d9a5be67886d605f46f5c301a9a506e43c30db2330",
         "571",
         "1",
         "0xF570EA70106B8e109222297f9a90dA477658d481",
         "0x4e3FBD56CD56c3e72c1403e103b45Db9da5B9D2B",
         "0x1Ea622fa030e4a78F4CC2f305dd3c08DA3F08573",
         "0.3229832152203557",
         "23646002"
        ],
        [
         "17",
         "2025-10-24 08:01:35+00:00",
         "0x2ee5b13bd50fa2efe328b2d9a5be67886d605f46f5c301a9a506e43c30db2330",
         "525",
         "1",
         "0xF570EA70106B8e109222297f9a90dA477658d481",
         "0xba100000625a3754423978a60c9317c58a424e3D",
         "0x87E25fFe5C3A2720Cd43F5Eb8ec41Ac0CE699D07",
         "71.27112001239428",
         "23646002"
        ],
        [
         "18",
         "2025-10-24 08:01:35+00:00",
         "0x2ee5b13bd50fa2efe328b2d9a5be67886d605f46f5c301a9a506e43c30db2330",
         "580",
         "1",
         "0xF570EA70106B8e109222297f9a90dA477658d481",
         "0x4e3FBD56CD56c3e72c1403e103b45Db9da5B9D2B",
         "0x5c6aeb9ef0d5BbA4E6691f381003503FD0D45126",
         "0.5515383722427115",
         "23646002"
        ],
        [
         "19",
         "2025-10-24 08:01:35+00:00",
         "0x2ee5b13bd50fa2efe328b2d9a5be67886d605f46f5c301a9a506e43c30db2330",
         "524",
         "1",
         "0xF570EA70106B8e109222297f9a90dA477658d481",
         "0xC0c293ce456fF0ED870ADd98a0828Dd4d2903DBF",
         "0x87E25fFe5C3A2720Cd43F5Eb8ec41Ac0CE699D07",
         "172.3604117533727",
         "23646002"
        ],
        [
         "20",
         "2025-10-24 08:01:35+00:00",
         "0x2ee5b13bd50fa2efe328b2d9a5be67886d605f46f5c301a9a506e43c30db2330",
         "488",
         "1",
         "0xF570EA70106B8e109222297f9a90dA477658d481",
         "0xC0c293ce456fF0ED870ADd98a0828Dd4d2903DBF",
         "0x2f2CC1bf461413014741dD68481dB4a3686DAC3D",
         "19.301905578772743",
         "23646002"
        ],
        [
         "21",
         "2025-10-24 08:01:35+00:00",
         "0x2ee5b13bd50fa2efe328b2d9a5be67886d605f46f5c301a9a506e43c30db2330",
         "504",
         "1",
         "0xF570EA70106B8e109222297f9a90dA477658d481",
         "0x48C3399719B582dD63eB5AADf12A40B4C3f52FA2",
         "0x4142e3a17391676C66DDf1285E43889F168EE237",
         "50.387849120256575",
         "23646002"
        ],
        [
         "22",
         "2025-10-24 08:01:35+00:00",
         "0x2ee5b13bd50fa2efe328b2d9a5be67886d605f46f5c301a9a506e43c30db2330",
         "546",
         "1",
         "0xF570EA70106B8e109222297f9a90dA477658d481",
         "0xC0c293ce456fF0ED870ADd98a0828Dd4d2903DBF",
         "0x5b39015f01A7b68093889678ee4e566959872A4A",
         "288.1809873187978",
         "23646002"
        ],
        [
         "23",
         "2025-10-24 08:01:35+00:00",
         "0x2ee5b13bd50fa2efe328b2d9a5be67886d605f46f5c301a9a506e43c30db2330",
         "563",
         "1",
         "0xF570EA70106B8e109222297f9a90dA477658d481",
         "0xf1C9acDc66974dFB6dEcB12aA385b9cD01190E38",
         "0x3F55eedDe51504E6Ed0ec30E8289b4Da11EdB7F9",
         "0.03244014544099442",
         "23646002"
        ],
        [
         "24",
         "2025-10-24 08:01:35+00:00",
         "0x2ee5b13bd50fa2efe328b2d9a5be67886d605f46f5c301a9a506e43c30db2330",
         "506",
         "1",
         "0xF570EA70106B8e109222297f9a90dA477658d481",
         "0xba100000625a3754423978a60c9317c58a424e3D",
         "0x4142e3a17391676C66DDf1285E43889F168EE237",
         "0.43746806008917866",
         "23646002"
        ],
        [
         "25",
         "2025-10-24 08:01:35+00:00",
         "0x2ee5b13bd50fa2efe328b2d9a5be67886d605f46f5c301a9a506e43c30db2330",
         "581",
         "1",
         "0xF570EA70106B8e109222297f9a90dA477658d481",
         "0xD533a949740bb3306d119CC777fa900bA034cd52",
         "0x5c6aeb9ef0d5BbA4E6691f381003503FD0D45126",
         "551.5383722427115",
         "23646002"
        ],
        [
         "26",
         "2025-10-24 08:01:35+00:00",
         "0x2ee5b13bd50fa2efe328b2d9a5be67886d605f46f5c301a9a506e43c30db2330",
         "536",
         "1",
         "0xF570EA70106B8e109222297f9a90dA477658d481",
         "0xba100000625a3754423978a60c9317c58a424e3D",
         "0x9b163e15121816BE53F8d5c85fbefD6e6D9bebCd",
         "74.8804432974887",
         "23646002"
        ],
        [
         "27",
         "2025-10-24 08:01:35+00:00",
         "0x2ee5b13bd50fa2efe328b2d9a5be67886d605f46f5c301a9a506e43c30db2330",
         "523",
         "1",
         "0xF570EA70106B8e109222297f9a90dA477658d481",
         "0xf1C9acDc66974dFB6dEcB12aA385b9cD01190E38",
         "0x87E25fFe5C3A2720Cd43F5Eb8ec41Ac0CE699D07",
         "0.15622381629863555",
         "23646002"
        ],
        [
         "28",
         "2025-10-24 08:01:35+00:00",
         "0x2ee5b13bd50fa2efe328b2d9a5be67886d605f46f5c301a9a506e43c30db2330",
         "547",
         "1",
         "0xF570EA70106B8e109222297f9a90dA477658d481",
         "0xba100000625a3754423978a60c9317c58a424e3D",
         "0x5b39015f01A7b68093889678ee4e566959872A4A",
         "139.47212398094865",
         "23646002"
        ],
        [
         "29",
         "2025-10-24 08:01:35+00:00",
         "0x2ee5b13bd50fa2efe328b2d9a5be67886d605f46f5c301a9a506e43c30db2330",
         "562",
         "1",
         "0xF570EA70106B8e109222297f9a90dA477658d481",
         "0x48C3399719B582dD63eB5AADf12A40B4C3f52FA2",
         "0x3F55eedDe51504E6Ed0ec30E8289b4Da11EdB7F9",
         "1655.1094612768077",
         "23646002"
        ],
        [
         "30",
         "2025-10-24 08:01:35+00:00",
         "0x2ee5b13bd50fa2efe328b2d9a5be67886d605f46f5c301a9a506e43c30db2330",
         "589",
         "1",
         "0xF570EA70106B8e109222297f9a90dA477658d481",
         "0x4e3FBD56CD56c3e72c1403e103b45Db9da5B9D2B",
         "0x43D99d04985ef2231f7d9b5D9111D2189d9FD971",
         "0.01716907127483801",
         "23646002"
        ],
        [
         "31",
         "2025-10-24 08:01:35+00:00",
         "0x2ee5b13bd50fa2efe328b2d9a5be67886d605f46f5c301a9a506e43c30db2330",
         "590",
         "1",
         "0xF570EA70106B8e109222297f9a90dA477658d481",
         "0xD533a949740bb3306d119CC777fa900bA034cd52",
         "0x43D99d04985ef2231f7d9b5D9111D2189d9FD971",
         "17.16907127483801",
         "23646002"
        ],
        [
         "32",
         "2025-10-24 07:02:23+00:00",
         "0x66c95125c50c00736388d1df898b87193ab15710a04481e2e1f8d7b15c3a739d",
         "354",
         "1",
         "0xF570EA70106B8e109222297f9a90dA477658d481",
         "0xD533a949740bb3306d119CC777fa900bA034cd52",
         "0xF4CeDDf4e2AEc1aa6b4ef2c64739eCaC5C948fA2",
         "104.6648336165187",
         "23645709"
        ],
        [
         "33",
         "2025-10-24 07:02:23+00:00",
         "0x66c95125c50c00736388d1df898b87193ab15710a04481e2e1f8d7b15c3a739d",
         "345",
         "1",
         "0xF570EA70106B8e109222297f9a90dA477658d481",
         "0xD533a949740bb3306d119CC777fa900bA034cd52",
         "0x9828b1a3742457D70cE428ddd3Aa51f84ffb37F2",
         "1300.1505307118455",
         "23645709"
        ],
        [
         "34",
         "2025-10-24 07:02:23+00:00",
         "0x66c95125c50c00736388d1df898b87193ab15710a04481e2e1f8d7b15c3a739d",
         "344",
         "1",
         "0xF570EA70106B8e109222297f9a90dA477658d481",
         "0x4e3FBD56CD56c3e72c1403e103b45Db9da5B9D2B",
         "0x9828b1a3742457D70cE428ddd3Aa51f84ffb37F2",
         "1.3001505307118455",
         "23645709"
        ],
        [
         "35",
         "2025-10-24 07:02:23+00:00",
         "0x66c95125c50c00736388d1df898b87193ab15710a04481e2e1f8d7b15c3a739d",
         "353",
         "1",
         "0xF570EA70106B8e109222297f9a90dA477658d481",
         "0x4e3FBD56CD56c3e72c1403e103b45Db9da5B9D2B",
         "0xF4CeDDf4e2AEc1aa6b4ef2c64739eCaC5C948fA2",
         "0.1046648336165187",
         "23645709"
        ],
        [
         "36",
         "2025-10-24 07:01:47+00:00",
         "0x77d2c6bffeb96e4eb6e59d429b31c1748879756ac31601281fb6135b6f4defad",
         "516",
         "1",
         "0xF570EA70106B8e109222297f9a90dA477658d481",
         "0xD533a949740bb3306d119CC777fa900bA034cd52",
         "0x65efCF2cce562DCBf07e805eEbeDeF21Dbd8Ea3D",
         "144.5328025113837",
         "23645706"
        ],
        [
         "37",
         "2025-10-24 07:01:47+00:00",
         "0x77d2c6bffeb96e4eb6e59d429b31c1748879756ac31601281fb6135b6f4defad",
         "544",
         "1",
         "0xF570EA70106B8e109222297f9a90dA477658d481",
         "0x6f40d4A6237C257fff2dB00FA0510DeEECd303eb",
         "0xE4545f9dBC30Ccb6Cda6930DDFd69f3D419FcB61",
         "58.29021236160387",
         "23645706"
        ],
        [
         "38",
         "2025-10-24 07:01:47+00:00",
         "0x77d2c6bffeb96e4eb6e59d429b31c1748879756ac31601281fb6135b6f4defad",
         "534",
         "1",
         "0xF570EA70106B8e109222297f9a90dA477658d481",
         "0xD533a949740bb3306d119CC777fa900bA034cd52",
         "0xC099899d0278CE83976218Cbe58D01dD382dcA32",
         "107.7191125936349",
         "23645706"
        ],
        [
         "39",
         "2025-10-24 07:01:47+00:00",
         "0x77d2c6bffeb96e4eb6e59d429b31c1748879756ac31601281fb6135b6f4defad",
         "515",
         "1",
         "0xF570EA70106B8e109222297f9a90dA477658d481",
         "0x4e3FBD56CD56c3e72c1403e103b45Db9da5B9D2B",
         "0x65efCF2cce562DCBf07e805eEbeDeF21Dbd8Ea3D",
         "0.14453280251138367",
         "23645706"
        ],
        [
         "40",
         "2025-10-24 07:01:47+00:00",
         "0x77d2c6bffeb96e4eb6e59d429b31c1748879756ac31601281fb6135b6f4defad",
         "559",
         "1",
         "0xF570EA70106B8e109222297f9a90dA477658d481",
         "0xba100000625a3754423978a60c9317c58a424e3D",
         "0x366C094C5563CD12AF27b9AfFF2200B0E0D056E0",
         "47.74317230679327",
         "23645706"
        ],
        [
         "41",
         "2025-10-24 07:01:47+00:00",
         "0x77d2c6bffeb96e4eb6e59d429b31c1748879756ac31601281fb6135b6f4defad",
         "557",
         "1",
         "0xF570EA70106B8e109222297f9a90dA477658d481",
         "0xC0c293ce456fF0ED870ADd98a0828Dd4d2903DBF",
         "0x366C094C5563CD12AF27b9AfFF2200B0E0D056E0",
         "110.09534786938937",
         "23645706"
        ],
        [
         "42",
         "2025-10-24 07:01:47+00:00",
         "0x77d2c6bffeb96e4eb6e59d429b31c1748879756ac31601281fb6135b6f4defad",
         "524",
         "1",
         "0xF570EA70106B8e109222297f9a90dA477658d481",
         "0x4e3FBD56CD56c3e72c1403e103b45Db9da5B9D2B",
         "0x7583b1589aDD33320366A48A92794D77763FAE9e",
         "0.052261103455215896",
         "23645706"
        ],
        [
         "43",
         "2025-10-24 07:01:47+00:00",
         "0x77d2c6bffeb96e4eb6e59d429b31c1748879756ac31601281fb6135b6f4defad",
         "539",
         "1",
         "0xF570EA70106B8e109222297f9a90dA477658d481",
         "0x6f40d4A6237C257fff2dB00FA0510DeEECd303eb",
         "0x7876F91BB22148345b3De16af9448081E9853830",
         "84.81702084055658",
         "23645706"
        ],
        [
         "44",
         "2025-10-24 07:01:47+00:00",
         "0x77d2c6bffeb96e4eb6e59d429b31c1748879756ac31601281fb6135b6f4defad",
         "558",
         "1",
         "0xF570EA70106B8e109222297f9a90dA477658d481",
         "0x40D16FC0246aD3160Ccc09B8D0D3A2cD28aE6C2f",
         "0x366C094C5563CD12AF27b9AfFF2200B0E0D056E0",
         "471.9536960288952",
         "23645706"
        ],
        [
         "45",
         "2025-10-24 07:01:47+00:00",
         "0x77d2c6bffeb96e4eb6e59d429b31c1748879756ac31601281fb6135b6f4defad",
         "525",
         "1",
         "0xF570EA70106B8e109222297f9a90dA477658d481",
         "0xD533a949740bb3306d119CC777fa900bA034cd52",
         "0x7583b1589aDD33320366A48A92794D77763FAE9e",
         "52.261103455215896",
         "23645706"
        ],
        [
         "46",
         "2025-10-24 07:01:47+00:00",
         "0x77d2c6bffeb96e4eb6e59d429b31c1748879756ac31601281fb6135b6f4defad",
         "533",
         "1",
         "0xF570EA70106B8e109222297f9a90dA477658d481",
         "0x4e3FBD56CD56c3e72c1403e103b45Db9da5B9D2B",
         "0xC099899d0278CE83976218Cbe58D01dD382dcA32",
         "0.10771911259363491",
         "23645706"
        ],
        [
         "47",
         "2025-10-24 06:55:53+00:00",
         "0x35664dc991168172940390c295c20e4a07b7974daf53de78edea668a3541c48f",
         "497",
         "8453",
         "0x7571dE594A92379c0A053E2A5004514057c10B5D",
         "0x4158734D47Fc9692176B5085E0F52ee0Da5d47F1",
         "0x1EfC63fA8718cac1Df88273B08616cF1e9FF03DD",
         "1176.8764108647847",
         "37249803"
        ],
        [
         "48",
         "2025-10-24 06:55:53+00:00",
         "0x35664dc991168172940390c295c20e4a07b7974daf53de78edea668a3541c48f",
         "495",
         "8453",
         "0x7571dE594A92379c0A053E2A5004514057c10B5D",
         "0x1509706a6c66CA549ff0cB464de88231DDBe213B",
         "0x1EfC63fA8718cac1Df88273B08616cF1e9FF03DD",
         "134.73699974640704",
         "37249803"
        ],
        [
         "49",
         "2025-10-24 06:55:53+00:00",
         "0x35664dc991168172940390c295c20e4a07b7974daf53de78edea668a3541c48f",
         "496",
         "8453",
         "0x7571dE594A92379c0A053E2A5004514057c10B5D",
         "0x6Bb7a212910682DCFdbd5BCBb3e28FB4E8da10Ee",
         "0x1EfC63fA8718cac1Df88273B08616cF1e9FF03DD",
         "344.1821369546936",
         "37249803"
        ]
       ],
       "shape": {
        "columns": 9,
        "rows": 25402
       }
      },
      "text/html": [
       "<div>\n",
       "<style scoped>\n",
       "    .dataframe tbody tr th:only-of-type {\n",
       "        vertical-align: middle;\n",
       "    }\n",
       "\n",
       "    .dataframe tbody tr th {\n",
       "        vertical-align: top;\n",
       "    }\n",
       "\n",
       "    .dataframe thead th {\n",
       "        text-align: right;\n",
       "    }\n",
       "</style>\n",
       "<table border=\"1\" class=\"dataframe\">\n",
       "  <thead>\n",
       "    <tr style=\"text-align: right;\">\n",
       "      <th></th>\n",
       "      <th>datetime</th>\n",
       "      <th>tx_hash</th>\n",
       "      <th>log_index</th>\n",
       "      <th>chain_id</th>\n",
       "      <th>liquidation_row</th>\n",
       "      <th>token_address</th>\n",
       "      <th>destination_vault_address</th>\n",
       "      <th>new_balance</th>\n",
       "      <th>block</th>\n",
       "    </tr>\n",
       "  </thead>\n",
       "  <tbody>\n",
       "    <tr>\n",
       "      <th>0</th>\n",
       "      <td>2025-10-24 18:55:57+00:00</td>\n",
       "      <td>0x6f16c8e495d9b55927b5efd6fc5689af09003bb87fe3...</td>\n",
       "      <td>504</td>\n",
       "      <td>8453</td>\n",
       "      <td>0x7571dE594A92379c0A053E2A5004514057c10B5D</td>\n",
       "      <td>0x1C7a460413dD4e964f96D8dFC56E7223cE88CD85</td>\n",
       "      <td>0x16cbe611AF0E01ec6988b59aD3690327aD496Eb7</td>\n",
       "      <td>630.147033</td>\n",
       "      <td>37271405</td>\n",
       "    </tr>\n",
       "    <tr>\n",
       "      <th>1</th>\n",
       "      <td>2025-10-24 18:55:57+00:00</td>\n",
       "      <td>0x6f16c8e495d9b55927b5efd6fc5689af09003bb87fe3...</td>\n",
       "      <td>517</td>\n",
       "      <td>8453</td>\n",
       "      <td>0x7571dE594A92379c0A053E2A5004514057c10B5D</td>\n",
       "      <td>0x1509706a6c66CA549ff0cB464de88231DDBe213B</td>\n",
       "      <td>0x1EfC63fA8718cac1Df88273B08616cF1e9FF03DD</td>\n",
       "      <td>132.648483</td>\n",
       "      <td>37271405</td>\n",
       "    </tr>\n",
       "    <tr>\n",
       "      <th>2</th>\n",
       "      <td>2025-10-24 18:55:57+00:00</td>\n",
       "      <td>0x6f16c8e495d9b55927b5efd6fc5689af09003bb87fe3...</td>\n",
       "      <td>496</td>\n",
       "      <td>8453</td>\n",
       "      <td>0x7571dE594A92379c0A053E2A5004514057c10B5D</td>\n",
       "      <td>0xBAa5CC21fd487B8Fcc2F632f3F4E8D37262a0842</td>\n",
       "      <td>0x4eeDC6d6126ae9C6D92D03bB355eEAe5E47d2b03</td>\n",
       "      <td>59.247129</td>\n",
       "      <td>37271405</td>\n",
       "    </tr>\n",
       "    <tr>\n",
       "      <th>3</th>\n",
       "      <td>2025-10-24 18:55:57+00:00</td>\n",
       "      <td>0x6f16c8e495d9b55927b5efd6fc5689af09003bb87fe3...</td>\n",
       "      <td>503</td>\n",
       "      <td>8453</td>\n",
       "      <td>0x7571dE594A92379c0A053E2A5004514057c10B5D</td>\n",
       "      <td>0xBAa5CC21fd487B8Fcc2F632f3F4E8D37262a0842</td>\n",
       "      <td>0x16cbe611AF0E01ec6988b59aD3690327aD496Eb7</td>\n",
       "      <td>80.822428</td>\n",
       "      <td>37271405</td>\n",
       "    </tr>\n",
       "    <tr>\n",
       "      <th>4</th>\n",
       "      <td>2025-10-24 18:55:57+00:00</td>\n",
       "      <td>0x6f16c8e495d9b55927b5efd6fc5689af09003bb87fe3...</td>\n",
       "      <td>519</td>\n",
       "      <td>8453</td>\n",
       "      <td>0x7571dE594A92379c0A053E2A5004514057c10B5D</td>\n",
       "      <td>0x4158734D47Fc9692176B5085E0F52ee0Da5d47F1</td>\n",
       "      <td>0x1EfC63fA8718cac1Df88273B08616cF1e9FF03DD</td>\n",
       "      <td>1244.752696</td>\n",
       "      <td>37271405</td>\n",
       "    </tr>\n",
       "    <tr>\n",
       "      <th>...</th>\n",
       "      <td>...</td>\n",
       "      <td>...</td>\n",
       "      <td>...</td>\n",
       "      <td>...</td>\n",
       "      <td>...</td>\n",
       "      <td>...</td>\n",
       "      <td>...</td>\n",
       "      <td>...</td>\n",
       "      <td>...</td>\n",
       "    </tr>\n",
       "    <tr>\n",
       "      <th>25397</th>\n",
       "      <td>2024-09-18 15:25:59+00:00</td>\n",
       "      <td>0x2ca9da5c091439e2180d2e0ac07446369a20eb4fad45...</td>\n",
       "      <td>292</td>\n",
       "      <td>1</td>\n",
       "      <td>0xBf58810BB1946429830C1f12205331608c470ff5</td>\n",
       "      <td>0xba100000625a3754423978a60c9317c58a424e3D</td>\n",
       "      <td>0x6DcB6797b1C0442587c2ad79745ef7BB487Fc2E2</td>\n",
       "      <td>18.233236</td>\n",
       "      <td>20778361</td>\n",
       "    </tr>\n",
       "    <tr>\n",
       "      <th>25398</th>\n",
       "      <td>2024-09-18 15:25:59+00:00</td>\n",
       "      <td>0x2ca9da5c091439e2180d2e0ac07446369a20eb4fad45...</td>\n",
       "      <td>291</td>\n",
       "      <td>1</td>\n",
       "      <td>0xBf58810BB1946429830C1f12205331608c470ff5</td>\n",
       "      <td>0xC0c293ce456fF0ED870ADd98a0828Dd4d2903DBF</td>\n",
       "      <td>0x6DcB6797b1C0442587c2ad79745ef7BB487Fc2E2</td>\n",
       "      <td>41.397743</td>\n",
       "      <td>20778361</td>\n",
       "    </tr>\n",
       "    <tr>\n",
       "      <th>25399</th>\n",
       "      <td>2024-09-18 15:25:59+00:00</td>\n",
       "      <td>0x2ca9da5c091439e2180d2e0ac07446369a20eb4fad45...</td>\n",
       "      <td>308</td>\n",
       "      <td>1</td>\n",
       "      <td>0xBf58810BB1946429830C1f12205331608c470ff5</td>\n",
       "      <td>0xC0c293ce456fF0ED870ADd98a0828Dd4d2903DBF</td>\n",
       "      <td>0x2F7e096a400ded5D02762120b39A3aA4ABA072a4</td>\n",
       "      <td>162.030156</td>\n",
       "      <td>20778361</td>\n",
       "    </tr>\n",
       "    <tr>\n",
       "      <th>25400</th>\n",
       "      <td>2024-09-18 15:25:59+00:00</td>\n",
       "      <td>0x2ca9da5c091439e2180d2e0ac07446369a20eb4fad45...</td>\n",
       "      <td>317</td>\n",
       "      <td>1</td>\n",
       "      <td>0xBf58810BB1946429830C1f12205331608c470ff5</td>\n",
       "      <td>0x4e3FBD56CD56c3e72c1403e103b45Db9da5B9D2B</td>\n",
       "      <td>0xE382BBd32C4E202185762eA433278f4ED9E6151E</td>\n",
       "      <td>1.620996</td>\n",
       "      <td>20778361</td>\n",
       "    </tr>\n",
       "    <tr>\n",
       "      <th>25401</th>\n",
       "      <td>2024-09-18 15:25:59+00:00</td>\n",
       "      <td>0x2ca9da5c091439e2180d2e0ac07446369a20eb4fad45...</td>\n",
       "      <td>298</td>\n",
       "      <td>1</td>\n",
       "      <td>0xBf58810BB1946429830C1f12205331608c470ff5</td>\n",
       "      <td>0xA0b86991c6218b36c1d19D4a2e9Eb0cE3606eB48</td>\n",
       "      <td>0x4E12227b350E8f8fEEc41A58D36cE2fB2e2d4575</td>\n",
       "      <td>87.393607</td>\n",
       "      <td>20778361</td>\n",
       "    </tr>\n",
       "  </tbody>\n",
       "</table>\n",
       "<p>25402 rows × 9 columns</p>\n",
       "</div>"
      ],
      "text/plain": [
       "                       datetime  \\\n",
       "0     2025-10-24 18:55:57+00:00   \n",
       "1     2025-10-24 18:55:57+00:00   \n",
       "2     2025-10-24 18:55:57+00:00   \n",
       "3     2025-10-24 18:55:57+00:00   \n",
       "4     2025-10-24 18:55:57+00:00   \n",
       "...                         ...   \n",
       "25397 2024-09-18 15:25:59+00:00   \n",
       "25398 2024-09-18 15:25:59+00:00   \n",
       "25399 2024-09-18 15:25:59+00:00   \n",
       "25400 2024-09-18 15:25:59+00:00   \n",
       "25401 2024-09-18 15:25:59+00:00   \n",
       "\n",
       "                                                 tx_hash  log_index  chain_id  \\\n",
       "0      0x6f16c8e495d9b55927b5efd6fc5689af09003bb87fe3...        504      8453   \n",
       "1      0x6f16c8e495d9b55927b5efd6fc5689af09003bb87fe3...        517      8453   \n",
       "2      0x6f16c8e495d9b55927b5efd6fc5689af09003bb87fe3...        496      8453   \n",
       "3      0x6f16c8e495d9b55927b5efd6fc5689af09003bb87fe3...        503      8453   \n",
       "4      0x6f16c8e495d9b55927b5efd6fc5689af09003bb87fe3...        519      8453   \n",
       "...                                                  ...        ...       ...   \n",
       "25397  0x2ca9da5c091439e2180d2e0ac07446369a20eb4fad45...        292         1   \n",
       "25398  0x2ca9da5c091439e2180d2e0ac07446369a20eb4fad45...        291         1   \n",
       "25399  0x2ca9da5c091439e2180d2e0ac07446369a20eb4fad45...        308         1   \n",
       "25400  0x2ca9da5c091439e2180d2e0ac07446369a20eb4fad45...        317         1   \n",
       "25401  0x2ca9da5c091439e2180d2e0ac07446369a20eb4fad45...        298         1   \n",
       "\n",
       "                                  liquidation_row  \\\n",
       "0      0x7571dE594A92379c0A053E2A5004514057c10B5D   \n",
       "1      0x7571dE594A92379c0A053E2A5004514057c10B5D   \n",
       "2      0x7571dE594A92379c0A053E2A5004514057c10B5D   \n",
       "3      0x7571dE594A92379c0A053E2A5004514057c10B5D   \n",
       "4      0x7571dE594A92379c0A053E2A5004514057c10B5D   \n",
       "...                                           ...   \n",
       "25397  0xBf58810BB1946429830C1f12205331608c470ff5   \n",
       "25398  0xBf58810BB1946429830C1f12205331608c470ff5   \n",
       "25399  0xBf58810BB1946429830C1f12205331608c470ff5   \n",
       "25400  0xBf58810BB1946429830C1f12205331608c470ff5   \n",
       "25401  0xBf58810BB1946429830C1f12205331608c470ff5   \n",
       "\n",
       "                                    token_address  \\\n",
       "0      0x1C7a460413dD4e964f96D8dFC56E7223cE88CD85   \n",
       "1      0x1509706a6c66CA549ff0cB464de88231DDBe213B   \n",
       "2      0xBAa5CC21fd487B8Fcc2F632f3F4E8D37262a0842   \n",
       "3      0xBAa5CC21fd487B8Fcc2F632f3F4E8D37262a0842   \n",
       "4      0x4158734D47Fc9692176B5085E0F52ee0Da5d47F1   \n",
       "...                                           ...   \n",
       "25397  0xba100000625a3754423978a60c9317c58a424e3D   \n",
       "25398  0xC0c293ce456fF0ED870ADd98a0828Dd4d2903DBF   \n",
       "25399  0xC0c293ce456fF0ED870ADd98a0828Dd4d2903DBF   \n",
       "25400  0x4e3FBD56CD56c3e72c1403e103b45Db9da5B9D2B   \n",
       "25401  0xA0b86991c6218b36c1d19D4a2e9Eb0cE3606eB48   \n",
       "\n",
       "                        destination_vault_address  new_balance     block  \n",
       "0      0x16cbe611AF0E01ec6988b59aD3690327aD496Eb7   630.147033  37271405  \n",
       "1      0x1EfC63fA8718cac1Df88273B08616cF1e9FF03DD   132.648483  37271405  \n",
       "2      0x4eeDC6d6126ae9C6D92D03bB355eEAe5E47d2b03    59.247129  37271405  \n",
       "3      0x16cbe611AF0E01ec6988b59aD3690327aD496Eb7    80.822428  37271405  \n",
       "4      0x1EfC63fA8718cac1Df88273B08616cF1e9FF03DD  1244.752696  37271405  \n",
       "...                                           ...          ...       ...  \n",
       "25397  0x6DcB6797b1C0442587c2ad79745ef7BB487Fc2E2    18.233236  20778361  \n",
       "25398  0x6DcB6797b1C0442587c2ad79745ef7BB487Fc2E2    41.397743  20778361  \n",
       "25399  0x2F7e096a400ded5D02762120b39A3aA4ABA072a4   162.030156  20778361  \n",
       "25400  0xE382BBd32C4E202185762eA433278f4ED9E6151E     1.620996  20778361  \n",
       "25401  0x4E12227b350E8f8fEEc41A58D36cE2fB2e2d4575    87.393607  20778361  \n",
       "\n",
       "[25402 rows x 9 columns]"
      ]
     },
     "execution_count": 24,
     "metadata": {},
     "output_type": "execute_result"
    }
   ],
   "source": [
    "balance_updated_events"
   ]
  },
  {
   "cell_type": "code",
   "execution_count": 14,
   "metadata": {},
   "outputs": [
    {
     "data": {
      "application/vnd.plotly.v1+json": {
       "config": {
        "plotlyServerURL": "https://plot.ly"
       },
       "data": [
        {
         "alignmentgroup": "True",
         "customdata": [
          [
           0.756574224133771,
           3404.1802382378214,
           "autoETH"
          ],
          [
           3.9970331484502166,
           390.98097789291865,
           "autoETH"
          ],
          [
           1.9887674496766445,
           759.8587242411278,
           "autoETH"
          ],
          [
           1.650669689375435,
           769.4065032784403,
           "autoETH"
          ],
          [
           2.4913585979077295,
           22.73436608729124,
           "autoETH"
          ],
          [
           2.4913585979077295,
           3703.8217909731247,
           "autoETH"
          ],
          [
           0.1442982347683842,
           625.3809299074915,
           "autoETH"
          ],
          [
           0.280685784352247,
           3225.2188595444563,
           "autoETH"
          ],
          [
           1.2957647133943946,
           58.952327201733155,
           "balETH"
          ],
          [
           4.9256287575153745,
           38.720208054399954,
           "balETH"
          ],
          [
           0.756574224133771,
           3404.1802382378214,
           "autoLRT"
          ],
          [
           4.9256287575153745,
           38.720208054399954,
           "autoLRT"
          ],
          [
           1.2957647133943946,
           58.952327201733155,
           "autoLRT"
          ],
          [
           2.405393379897728,
           27.246679646375288,
           "baseETH"
          ],
          [
           1.5108276265741787,
           372.52643699316974,
           "baseETH"
          ],
          [
           8.840464776569661,
           3274560.4356444664,
           "autoUSD"
          ],
          [
           2.27,
           771324.359259,
           "autoUSD"
          ],
          [
           6.4339772923211385,
           506257.2565478544,
           "autoUSD"
          ],
          [
           2.31,
           5551202.754066,
           "autoUSD"
          ],
          [
           5.849267605254631,
           365728.82621997374,
           "autoUSD"
          ],
          [
           5.588353520887068,
           218696.1809094217,
           "autoUSD"
          ],
          [
           6.262728360649178,
           5102109.349357587,
           "baseUSD"
          ],
          [
           0.8552383284734746,
           5613512.131825117,
           "baseUSD"
          ],
          [
           0.8552383284734746,
           2203251.7793456893,
           "baseUSD"
          ],
          [
           1.4045458253579315,
           8403816.469969649,
           "baseUSD"
          ],
          [
           0.8552383284734739,
           490924.01505615725,
           "baseUSD"
          ],
          [
           3.2300000000000004,
           9494574.3968,
           "baseUSD"
          ],
          [
           1.947680901284302,
           485928.7227193687,
           "autoDOLA"
          ],
          [
           6.657401695174263,
           1904613.4246501548,
           "autoDOLA"
          ],
          [
           7.435013150177869,
           98219.58637408982,
           "sonicUSD"
          ],
          [
           4.1000000000000005,
           1754266.25238,
           "baseEUR"
          ],
          [
           11.12589179612497,
           1185009.6876356078,
           "arbUSD"
          ],
          [
           3.4215322623579985,
           3397023.075849239,
           "arbUSD"
          ],
          [
           1.796049823714954,
           3438538.114720791,
           "arbUSD"
          ],
          [
           5.108580631277367,
           3851298.916178644,
           "arbUSD"
          ],
          [
           5.76,
           3235641.186782,
           "plasmaUSD"
          ],
          [
           6.191004254391214,
           4554687.083976086,
           "plasmaUSD"
          ]
         ],
         "hovertemplate": "underlying_name=%{x}<br>days_since_last_claim=%{y}<br>highest_recent_incentive_apr=%{customdata[0]}<br>highest_recent_owned_shares=%{customdata[1]}<br>autopool_name=%{customdata[2]}<extra></extra>",
         "legendgroup": "",
         "marker": {
          "color": "#636efa",
          "pattern": {
           "shape": ""
          }
         },
         "name": "",
         "offsetgroup": "",
         "orientation": "v",
         "showlegend": false,
         "textposition": "auto",
         "type": "bar",
         "x": [
          "weETH/WETH-ng",
          "wstETH-rETH-sfrxETH-BPT",
          "Curve.fi Factory Pool: ETHx-ETH",
          "osETH/rETH",
          "Balancer osETH-waWETH",
          "Balancer osETH-waWETH",
          "pxETH/wETH",
          "Balancer Surge Fluid wstETH-wETH",
          "Balancer ezETH-WETH Stable Pool",
          "Balancer rsETH-WETH Stable Pool",
          "weETH/WETH-ng",
          "Balancer rsETH-WETH Stable Pool",
          "Balancer ezETH-WETH Stable Pool",
          "Volatile AMM - weETH.base/WETH",
          "Balancer rETH-Aave wETH",
          "Balancer Aave GHO/USDT/USDC",
          "Fluid Tether USD",
          "Curve.fi Factory Plain Pool: crvUSD/USDC",
          "Fluid USD Coin",
          "sUSDe/crvUSD",
          "Curve.fi Factory Plain Pool: crvUSD/USDT",
          "Balancer Aave USDC-Aave GHO",
          "Gauntlet USDC Prime",
          "Gauntlet USDC Core",
          "Seamless USDC Vault",
          "Moonwell Flagship USDC",
          "Fluid USD Coin",
          "SaveDola",
          "reUSD/sDola",
          "2Pool",
          "Fluid EURC",
          "Balancer Aave GHO/USDT/USDC",
          "Gauntlet USDC Core",
          "Gauntlet USDC Prime",
          "Steakhouse High Yield USDC",
          "Fluid USDT0",
          "Ethena Surge sUSDe-waUSDT0"
         ],
         "xaxis": "x",
         "y": [
          0.48204223115740746,
          0.48204223115740746,
          0.48204223115740746,
          0.48204223115740746,
          0.48204223115740746,
          0.48204223115740746,
          0.48204223115740746,
          0.48204223115740746,
          0.48204223115740746,
          0.48204223115740746,
          0.48204223115740746,
          0.48204223115740746,
          0.48204223115740746,
          0.027968157083333337,
          0.027968157083333337,
          0.5235700089351852,
          0.5235700089351852,
          0.5235700089351852,
          0.5235700089351852,
          0.5235700089351852,
          0.5235700089351852,
          0.027620934861111113,
          0.027620934861111113,
          0.027620934861111113,
          0.027620934861111113,
          2.027620934861111,
          1.027597786712963,
          0.5231533422685185,
          0.5231533422685185,
          16.445954268194445,
          1.0273431570833333,
          null,
          null,
          null,
          null,
          null,
          null
         ],
         "yaxis": "y"
        }
       ],
       "layout": {
        "barmode": "relative",
        "legend": {
         "tracegroupgap": 0
        },
        "template": {
         "data": {
          "bar": [
           {
            "error_x": {
             "color": "#2a3f5f"
            },
            "error_y": {
             "color": "#2a3f5f"
            },
            "marker": {
             "line": {
              "color": "#E5ECF6",
              "width": 0.5
             },
             "pattern": {
              "fillmode": "overlay",
              "size": 10,
              "solidity": 0.2
             }
            },
            "type": "bar"
           }
          ],
          "barpolar": [
           {
            "marker": {
             "line": {
              "color": "#E5ECF6",
              "width": 0.5
             },
             "pattern": {
              "fillmode": "overlay",
              "size": 10,
              "solidity": 0.2
             }
            },
            "type": "barpolar"
           }
          ],
          "carpet": [
           {
            "aaxis": {
             "endlinecolor": "#2a3f5f",
             "gridcolor": "white",
             "linecolor": "white",
             "minorgridcolor": "white",
             "startlinecolor": "#2a3f5f"
            },
            "baxis": {
             "endlinecolor": "#2a3f5f",
             "gridcolor": "white",
             "linecolor": "white",
             "minorgridcolor": "white",
             "startlinecolor": "#2a3f5f"
            },
            "type": "carpet"
           }
          ],
          "choropleth": [
           {
            "colorbar": {
             "outlinewidth": 0,
             "ticks": ""
            },
            "type": "choropleth"
           }
          ],
          "contour": [
           {
            "colorbar": {
             "outlinewidth": 0,
             "ticks": ""
            },
            "colorscale": [
             [
              0,
              "#0d0887"
             ],
             [
              0.1111111111111111,
              "#46039f"
             ],
             [
              0.2222222222222222,
              "#7201a8"
             ],
             [
              0.3333333333333333,
              "#9c179e"
             ],
             [
              0.4444444444444444,
              "#bd3786"
             ],
             [
              0.5555555555555556,
              "#d8576b"
             ],
             [
              0.6666666666666666,
              "#ed7953"
             ],
             [
              0.7777777777777778,
              "#fb9f3a"
             ],
             [
              0.8888888888888888,
              "#fdca26"
             ],
             [
              1,
              "#f0f921"
             ]
            ],
            "type": "contour"
           }
          ],
          "contourcarpet": [
           {
            "colorbar": {
             "outlinewidth": 0,
             "ticks": ""
            },
            "type": "contourcarpet"
           }
          ],
          "heatmap": [
           {
            "colorbar": {
             "outlinewidth": 0,
             "ticks": ""
            },
            "colorscale": [
             [
              0,
              "#0d0887"
             ],
             [
              0.1111111111111111,
              "#46039f"
             ],
             [
              0.2222222222222222,
              "#7201a8"
             ],
             [
              0.3333333333333333,
              "#9c179e"
             ],
             [
              0.4444444444444444,
              "#bd3786"
             ],
             [
              0.5555555555555556,
              "#d8576b"
             ],
             [
              0.6666666666666666,
              "#ed7953"
             ],
             [
              0.7777777777777778,
              "#fb9f3a"
             ],
             [
              0.8888888888888888,
              "#fdca26"
             ],
             [
              1,
              "#f0f921"
             ]
            ],
            "type": "heatmap"
           }
          ],
          "heatmapgl": [
           {
            "colorbar": {
             "outlinewidth": 0,
             "ticks": ""
            },
            "colorscale": [
             [
              0,
              "#0d0887"
             ],
             [
              0.1111111111111111,
              "#46039f"
             ],
             [
              0.2222222222222222,
              "#7201a8"
             ],
             [
              0.3333333333333333,
              "#9c179e"
             ],
             [
              0.4444444444444444,
              "#bd3786"
             ],
             [
              0.5555555555555556,
              "#d8576b"
             ],
             [
              0.6666666666666666,
              "#ed7953"
             ],
             [
              0.7777777777777778,
              "#fb9f3a"
             ],
             [
              0.8888888888888888,
              "#fdca26"
             ],
             [
              1,
              "#f0f921"
             ]
            ],
            "type": "heatmapgl"
           }
          ],
          "histogram": [
           {
            "marker": {
             "pattern": {
              "fillmode": "overlay",
              "size": 10,
              "solidity": 0.2
             }
            },
            "type": "histogram"
           }
          ],
          "histogram2d": [
           {
            "colorbar": {
             "outlinewidth": 0,
             "ticks": ""
            },
            "colorscale": [
             [
              0,
              "#0d0887"
             ],
             [
              0.1111111111111111,
              "#46039f"
             ],
             [
              0.2222222222222222,
              "#7201a8"
             ],
             [
              0.3333333333333333,
              "#9c179e"
             ],
             [
              0.4444444444444444,
              "#bd3786"
             ],
             [
              0.5555555555555556,
              "#d8576b"
             ],
             [
              0.6666666666666666,
              "#ed7953"
             ],
             [
              0.7777777777777778,
              "#fb9f3a"
             ],
             [
              0.8888888888888888,
              "#fdca26"
             ],
             [
              1,
              "#f0f921"
             ]
            ],
            "type": "histogram2d"
           }
          ],
          "histogram2dcontour": [
           {
            "colorbar": {
             "outlinewidth": 0,
             "ticks": ""
            },
            "colorscale": [
             [
              0,
              "#0d0887"
             ],
             [
              0.1111111111111111,
              "#46039f"
             ],
             [
              0.2222222222222222,
              "#7201a8"
             ],
             [
              0.3333333333333333,
              "#9c179e"
             ],
             [
              0.4444444444444444,
              "#bd3786"
             ],
             [
              0.5555555555555556,
              "#d8576b"
             ],
             [
              0.6666666666666666,
              "#ed7953"
             ],
             [
              0.7777777777777778,
              "#fb9f3a"
             ],
             [
              0.8888888888888888,
              "#fdca26"
             ],
             [
              1,
              "#f0f921"
             ]
            ],
            "type": "histogram2dcontour"
           }
          ],
          "mesh3d": [
           {
            "colorbar": {
             "outlinewidth": 0,
             "ticks": ""
            },
            "type": "mesh3d"
           }
          ],
          "parcoords": [
           {
            "line": {
             "colorbar": {
              "outlinewidth": 0,
              "ticks": ""
             }
            },
            "type": "parcoords"
           }
          ],
          "pie": [
           {
            "automargin": true,
            "type": "pie"
           }
          ],
          "scatter": [
           {
            "fillpattern": {
             "fillmode": "overlay",
             "size": 10,
             "solidity": 0.2
            },
            "type": "scatter"
           }
          ],
          "scatter3d": [
           {
            "line": {
             "colorbar": {
              "outlinewidth": 0,
              "ticks": ""
             }
            },
            "marker": {
             "colorbar": {
              "outlinewidth": 0,
              "ticks": ""
             }
            },
            "type": "scatter3d"
           }
          ],
          "scattercarpet": [
           {
            "marker": {
             "colorbar": {
              "outlinewidth": 0,
              "ticks": ""
             }
            },
            "type": "scattercarpet"
           }
          ],
          "scattergeo": [
           {
            "marker": {
             "colorbar": {
              "outlinewidth": 0,
              "ticks": ""
             }
            },
            "type": "scattergeo"
           }
          ],
          "scattergl": [
           {
            "marker": {
             "colorbar": {
              "outlinewidth": 0,
              "ticks": ""
             }
            },
            "type": "scattergl"
           }
          ],
          "scattermapbox": [
           {
            "marker": {
             "colorbar": {
              "outlinewidth": 0,
              "ticks": ""
             }
            },
            "type": "scattermapbox"
           }
          ],
          "scatterpolar": [
           {
            "marker": {
             "colorbar": {
              "outlinewidth": 0,
              "ticks": ""
             }
            },
            "type": "scatterpolar"
           }
          ],
          "scatterpolargl": [
           {
            "marker": {
             "colorbar": {
              "outlinewidth": 0,
              "ticks": ""
             }
            },
            "type": "scatterpolargl"
           }
          ],
          "scatterternary": [
           {
            "marker": {
             "colorbar": {
              "outlinewidth": 0,
              "ticks": ""
             }
            },
            "type": "scatterternary"
           }
          ],
          "surface": [
           {
            "colorbar": {
             "outlinewidth": 0,
             "ticks": ""
            },
            "colorscale": [
             [
              0,
              "#0d0887"
             ],
             [
              0.1111111111111111,
              "#46039f"
             ],
             [
              0.2222222222222222,
              "#7201a8"
             ],
             [
              0.3333333333333333,
              "#9c179e"
             ],
             [
              0.4444444444444444,
              "#bd3786"
             ],
             [
              0.5555555555555556,
              "#d8576b"
             ],
             [
              0.6666666666666666,
              "#ed7953"
             ],
             [
              0.7777777777777778,
              "#fb9f3a"
             ],
             [
              0.8888888888888888,
              "#fdca26"
             ],
             [
              1,
              "#f0f921"
             ]
            ],
            "type": "surface"
           }
          ],
          "table": [
           {
            "cells": {
             "fill": {
              "color": "#EBF0F8"
             },
             "line": {
              "color": "white"
             }
            },
            "header": {
             "fill": {
              "color": "#C8D4E3"
             },
             "line": {
              "color": "white"
             }
            },
            "type": "table"
           }
          ]
         },
         "layout": {
          "annotationdefaults": {
           "arrowcolor": "#2a3f5f",
           "arrowhead": 0,
           "arrowwidth": 1
          },
          "autotypenumbers": "strict",
          "coloraxis": {
           "colorbar": {
            "outlinewidth": 0,
            "ticks": ""
           }
          },
          "colorscale": {
           "diverging": [
            [
             0,
             "#8e0152"
            ],
            [
             0.1,
             "#c51b7d"
            ],
            [
             0.2,
             "#de77ae"
            ],
            [
             0.3,
             "#f1b6da"
            ],
            [
             0.4,
             "#fde0ef"
            ],
            [
             0.5,
             "#f7f7f7"
            ],
            [
             0.6,
             "#e6f5d0"
            ],
            [
             0.7,
             "#b8e186"
            ],
            [
             0.8,
             "#7fbc41"
            ],
            [
             0.9,
             "#4d9221"
            ],
            [
             1,
             "#276419"
            ]
           ],
           "sequential": [
            [
             0,
             "#0d0887"
            ],
            [
             0.1111111111111111,
             "#46039f"
            ],
            [
             0.2222222222222222,
             "#7201a8"
            ],
            [
             0.3333333333333333,
             "#9c179e"
            ],
            [
             0.4444444444444444,
             "#bd3786"
            ],
            [
             0.5555555555555556,
             "#d8576b"
            ],
            [
             0.6666666666666666,
             "#ed7953"
            ],
            [
             0.7777777777777778,
             "#fb9f3a"
            ],
            [
             0.8888888888888888,
             "#fdca26"
            ],
            [
             1,
             "#f0f921"
            ]
           ],
           "sequentialminus": [
            [
             0,
             "#0d0887"
            ],
            [
             0.1111111111111111,
             "#46039f"
            ],
            [
             0.2222222222222222,
             "#7201a8"
            ],
            [
             0.3333333333333333,
             "#9c179e"
            ],
            [
             0.4444444444444444,
             "#bd3786"
            ],
            [
             0.5555555555555556,
             "#d8576b"
            ],
            [
             0.6666666666666666,
             "#ed7953"
            ],
            [
             0.7777777777777778,
             "#fb9f3a"
            ],
            [
             0.8888888888888888,
             "#fdca26"
            ],
            [
             1,
             "#f0f921"
            ]
           ]
          },
          "colorway": [
           "#636efa",
           "#EF553B",
           "#00cc96",
           "#ab63fa",
           "#FFA15A",
           "#19d3f3",
           "#FF6692",
           "#B6E880",
           "#FF97FF",
           "#FECB52"
          ],
          "font": {
           "color": "#2a3f5f"
          },
          "geo": {
           "bgcolor": "white",
           "lakecolor": "white",
           "landcolor": "#E5ECF6",
           "showlakes": true,
           "showland": true,
           "subunitcolor": "white"
          },
          "hoverlabel": {
           "align": "left"
          },
          "hovermode": "closest",
          "mapbox": {
           "style": "light"
          },
          "paper_bgcolor": "white",
          "plot_bgcolor": "#E5ECF6",
          "polar": {
           "angularaxis": {
            "gridcolor": "white",
            "linecolor": "white",
            "ticks": ""
           },
           "bgcolor": "#E5ECF6",
           "radialaxis": {
            "gridcolor": "white",
            "linecolor": "white",
            "ticks": ""
           }
          },
          "scene": {
           "xaxis": {
            "backgroundcolor": "#E5ECF6",
            "gridcolor": "white",
            "gridwidth": 2,
            "linecolor": "white",
            "showbackground": true,
            "ticks": "",
            "zerolinecolor": "white"
           },
           "yaxis": {
            "backgroundcolor": "#E5ECF6",
            "gridcolor": "white",
            "gridwidth": 2,
            "linecolor": "white",
            "showbackground": true,
            "ticks": "",
            "zerolinecolor": "white"
           },
           "zaxis": {
            "backgroundcolor": "#E5ECF6",
            "gridcolor": "white",
            "gridwidth": 2,
            "linecolor": "white",
            "showbackground": true,
            "ticks": "",
            "zerolinecolor": "white"
           }
          },
          "shapedefaults": {
           "line": {
            "color": "#2a3f5f"
           }
          },
          "ternary": {
           "aaxis": {
            "gridcolor": "white",
            "linecolor": "white",
            "ticks": ""
           },
           "baxis": {
            "gridcolor": "white",
            "linecolor": "white",
            "ticks": ""
           },
           "bgcolor": "#E5ECF6",
           "caxis": {
            "gridcolor": "white",
            "linecolor": "white",
            "ticks": ""
           }
          },
          "title": {
           "x": 0.05
          },
          "xaxis": {
           "automargin": true,
           "gridcolor": "white",
           "linecolor": "white",
           "ticks": "",
           "title": {
            "standoff": 15
           },
           "zerolinecolor": "white",
           "zerolinewidth": 2
          },
          "yaxis": {
           "automargin": true,
           "gridcolor": "white",
           "linecolor": "white",
           "ticks": "",
           "title": {
            "standoff": 15
           },
           "zerolinecolor": "white",
           "zerolinewidth": 2
          }
         }
        },
        "title": {
         "text": "Time Since Last Claim by Autopool Destination Vault"
        },
        "xaxis": {
         "anchor": "y",
         "domain": [
          0,
          1
         ],
         "title": {
          "text": "underlying_name"
         }
        },
        "yaxis": {
         "anchor": "x",
         "domain": [
          0,
          1
         ],
         "title": {
          "text": "days_since_last_claim"
         }
        }
       }
      }
     },
     "metadata": {},
     "output_type": "display_data"
    }
   ],
   "source": [
    "px.bar(\n",
    "    full_sub_df,\n",
    "    x=\"underlying_name\",\n",
    "    y=\"days_since_last_claim\",\n",
    "    title=f\"Time Since Last Claim by Autopool Destination Vault\",\n",
    "    hover_data=[\"highest_recent_incentive_apr\", \"highest_recent_owned_shares\", \"autopool_name\"],\n",
    ").show()"
   ]
  },
  {
   "cell_type": "code",
   "execution_count": null,
   "metadata": {},
   "outputs": [],
   "source": [
    "break"
   ]
  },
  {
   "cell_type": "code",
   "execution_count": 15,
   "metadata": {},
   "outputs": [
    {
     "data": {
      "application/vnd.plotly.v1+json": {
       "config": {
        "plotlyServerURL": "https://plot.ly"
       },
       "data": [
        {
         "alignmentgroup": "True",
         "hovertemplate": "underlying_name=weETH/WETH-ng<br>autopool_name=%{x}<br>days_since_last_claim=%{y}<extra></extra>",
         "legendgroup": "weETH/WETH-ng",
         "marker": {
          "color": "#636efa",
          "pattern": {
           "shape": ""
          }
         },
         "name": "weETH/WETH-ng",
         "offsetgroup": "weETH/WETH-ng",
         "orientation": "v",
         "showlegend": true,
         "textposition": "auto",
         "type": "bar",
         "x": [
          "autoETH",
          "autoLRT"
         ],
         "xaxis": "x",
         "y": [
          0.48204223115740746,
          0.48204223115740746
         ],
         "yaxis": "y"
        },
        {
         "alignmentgroup": "True",
         "hovertemplate": "underlying_name=wstETH-rETH-sfrxETH-BPT<br>autopool_name=%{x}<br>days_since_last_claim=%{y}<extra></extra>",
         "legendgroup": "wstETH-rETH-sfrxETH-BPT",
         "marker": {
          "color": "#EF553B",
          "pattern": {
           "shape": ""
          }
         },
         "name": "wstETH-rETH-sfrxETH-BPT",
         "offsetgroup": "wstETH-rETH-sfrxETH-BPT",
         "orientation": "v",
         "showlegend": true,
         "textposition": "auto",
         "type": "bar",
         "x": [
          "autoETH"
         ],
         "xaxis": "x",
         "y": [
          0.48204223115740746
         ],
         "yaxis": "y"
        },
        {
         "alignmentgroup": "True",
         "hovertemplate": "underlying_name=Curve.fi Factory Pool: ETHx-ETH<br>autopool_name=%{x}<br>days_since_last_claim=%{y}<extra></extra>",
         "legendgroup": "Curve.fi Factory Pool: ETHx-ETH",
         "marker": {
          "color": "#00cc96",
          "pattern": {
           "shape": ""
          }
         },
         "name": "Curve.fi Factory Pool: ETHx-ETH",
         "offsetgroup": "Curve.fi Factory Pool: ETHx-ETH",
         "orientation": "v",
         "showlegend": true,
         "textposition": "auto",
         "type": "bar",
         "x": [
          "autoETH"
         ],
         "xaxis": "x",
         "y": [
          0.48204223115740746
         ],
         "yaxis": "y"
        },
        {
         "alignmentgroup": "True",
         "hovertemplate": "underlying_name=osETH/rETH<br>autopool_name=%{x}<br>days_since_last_claim=%{y}<extra></extra>",
         "legendgroup": "osETH/rETH",
         "marker": {
          "color": "#ab63fa",
          "pattern": {
           "shape": ""
          }
         },
         "name": "osETH/rETH",
         "offsetgroup": "osETH/rETH",
         "orientation": "v",
         "showlegend": true,
         "textposition": "auto",
         "type": "bar",
         "x": [
          "autoETH"
         ],
         "xaxis": "x",
         "y": [
          0.48204223115740746
         ],
         "yaxis": "y"
        },
        {
         "alignmentgroup": "True",
         "hovertemplate": "underlying_name=Balancer osETH-waWETH<br>autopool_name=%{x}<br>days_since_last_claim=%{y}<extra></extra>",
         "legendgroup": "Balancer osETH-waWETH",
         "marker": {
          "color": "#FFA15A",
          "pattern": {
           "shape": ""
          }
         },
         "name": "Balancer osETH-waWETH",
         "offsetgroup": "Balancer osETH-waWETH",
         "orientation": "v",
         "showlegend": true,
         "textposition": "auto",
         "type": "bar",
         "x": [
          "autoETH",
          "autoETH"
         ],
         "xaxis": "x",
         "y": [
          0.48204223115740746,
          0.48204223115740746
         ],
         "yaxis": "y"
        },
        {
         "alignmentgroup": "True",
         "hovertemplate": "underlying_name=pxETH/wETH<br>autopool_name=%{x}<br>days_since_last_claim=%{y}<extra></extra>",
         "legendgroup": "pxETH/wETH",
         "marker": {
          "color": "#19d3f3",
          "pattern": {
           "shape": ""
          }
         },
         "name": "pxETH/wETH",
         "offsetgroup": "pxETH/wETH",
         "orientation": "v",
         "showlegend": true,
         "textposition": "auto",
         "type": "bar",
         "x": [
          "autoETH"
         ],
         "xaxis": "x",
         "y": [
          0.48204223115740746
         ],
         "yaxis": "y"
        },
        {
         "alignmentgroup": "True",
         "hovertemplate": "underlying_name=Balancer Surge Fluid wstETH-wETH<br>autopool_name=%{x}<br>days_since_last_claim=%{y}<extra></extra>",
         "legendgroup": "Balancer Surge Fluid wstETH-wETH",
         "marker": {
          "color": "#FF6692",
          "pattern": {
           "shape": ""
          }
         },
         "name": "Balancer Surge Fluid wstETH-wETH",
         "offsetgroup": "Balancer Surge Fluid wstETH-wETH",
         "orientation": "v",
         "showlegend": true,
         "textposition": "auto",
         "type": "bar",
         "x": [
          "autoETH"
         ],
         "xaxis": "x",
         "y": [
          0.48204223115740746
         ],
         "yaxis": "y"
        },
        {
         "alignmentgroup": "True",
         "hovertemplate": "underlying_name=Balancer ezETH-WETH Stable Pool<br>autopool_name=%{x}<br>days_since_last_claim=%{y}<extra></extra>",
         "legendgroup": "Balancer ezETH-WETH Stable Pool",
         "marker": {
          "color": "#B6E880",
          "pattern": {
           "shape": ""
          }
         },
         "name": "Balancer ezETH-WETH Stable Pool",
         "offsetgroup": "Balancer ezETH-WETH Stable Pool",
         "orientation": "v",
         "showlegend": true,
         "textposition": "auto",
         "type": "bar",
         "x": [
          "balETH",
          "autoLRT"
         ],
         "xaxis": "x",
         "y": [
          0.48204223115740746,
          0.48204223115740746
         ],
         "yaxis": "y"
        },
        {
         "alignmentgroup": "True",
         "hovertemplate": "underlying_name=Balancer rsETH-WETH Stable Pool<br>autopool_name=%{x}<br>days_since_last_claim=%{y}<extra></extra>",
         "legendgroup": "Balancer rsETH-WETH Stable Pool",
         "marker": {
          "color": "#FF97FF",
          "pattern": {
           "shape": ""
          }
         },
         "name": "Balancer rsETH-WETH Stable Pool",
         "offsetgroup": "Balancer rsETH-WETH Stable Pool",
         "orientation": "v",
         "showlegend": true,
         "textposition": "auto",
         "type": "bar",
         "x": [
          "balETH",
          "autoLRT"
         ],
         "xaxis": "x",
         "y": [
          0.48204223115740746,
          0.48204223115740746
         ],
         "yaxis": "y"
        },
        {
         "alignmentgroup": "True",
         "hovertemplate": "underlying_name=Volatile AMM - weETH.base/WETH<br>autopool_name=%{x}<br>days_since_last_claim=%{y}<extra></extra>",
         "legendgroup": "Volatile AMM - weETH.base/WETH",
         "marker": {
          "color": "#FECB52",
          "pattern": {
           "shape": ""
          }
         },
         "name": "Volatile AMM - weETH.base/WETH",
         "offsetgroup": "Volatile AMM - weETH.base/WETH",
         "orientation": "v",
         "showlegend": true,
         "textposition": "auto",
         "type": "bar",
         "x": [
          "baseETH"
         ],
         "xaxis": "x",
         "y": [
          0.027968157083333337
         ],
         "yaxis": "y"
        },
        {
         "alignmentgroup": "True",
         "hovertemplate": "underlying_name=Balancer rETH-Aave wETH<br>autopool_name=%{x}<br>days_since_last_claim=%{y}<extra></extra>",
         "legendgroup": "Balancer rETH-Aave wETH",
         "marker": {
          "color": "#636efa",
          "pattern": {
           "shape": ""
          }
         },
         "name": "Balancer rETH-Aave wETH",
         "offsetgroup": "Balancer rETH-Aave wETH",
         "orientation": "v",
         "showlegend": true,
         "textposition": "auto",
         "type": "bar",
         "x": [
          "baseETH"
         ],
         "xaxis": "x",
         "y": [
          0.027968157083333337
         ],
         "yaxis": "y"
        },
        {
         "alignmentgroup": "True",
         "hovertemplate": "underlying_name=Balancer Aave GHO/USDT/USDC<br>autopool_name=%{x}<br>days_since_last_claim=%{y}<extra></extra>",
         "legendgroup": "Balancer Aave GHO/USDT/USDC",
         "marker": {
          "color": "#EF553B",
          "pattern": {
           "shape": ""
          }
         },
         "name": "Balancer Aave GHO/USDT/USDC",
         "offsetgroup": "Balancer Aave GHO/USDT/USDC",
         "orientation": "v",
         "showlegend": true,
         "textposition": "auto",
         "type": "bar",
         "x": [
          "autoUSD",
          "arbUSD"
         ],
         "xaxis": "x",
         "y": [
          0.5235700089351852,
          null
         ],
         "yaxis": "y"
        },
        {
         "alignmentgroup": "True",
         "hovertemplate": "underlying_name=Fluid Tether USD<br>autopool_name=%{x}<br>days_since_last_claim=%{y}<extra></extra>",
         "legendgroup": "Fluid Tether USD",
         "marker": {
          "color": "#00cc96",
          "pattern": {
           "shape": ""
          }
         },
         "name": "Fluid Tether USD",
         "offsetgroup": "Fluid Tether USD",
         "orientation": "v",
         "showlegend": true,
         "textposition": "auto",
         "type": "bar",
         "x": [
          "autoUSD"
         ],
         "xaxis": "x",
         "y": [
          0.5235700089351852
         ],
         "yaxis": "y"
        },
        {
         "alignmentgroup": "True",
         "hovertemplate": "underlying_name=Curve.fi Factory Plain Pool: crvUSD/USDC<br>autopool_name=%{x}<br>days_since_last_claim=%{y}<extra></extra>",
         "legendgroup": "Curve.fi Factory Plain Pool: crvUSD/USDC",
         "marker": {
          "color": "#ab63fa",
          "pattern": {
           "shape": ""
          }
         },
         "name": "Curve.fi Factory Plain Pool: crvUSD/USDC",
         "offsetgroup": "Curve.fi Factory Plain Pool: crvUSD/USDC",
         "orientation": "v",
         "showlegend": true,
         "textposition": "auto",
         "type": "bar",
         "x": [
          "autoUSD"
         ],
         "xaxis": "x",
         "y": [
          0.5235700089351852
         ],
         "yaxis": "y"
        },
        {
         "alignmentgroup": "True",
         "hovertemplate": "underlying_name=Fluid USD Coin<br>autopool_name=%{x}<br>days_since_last_claim=%{y}<extra></extra>",
         "legendgroup": "Fluid USD Coin",
         "marker": {
          "color": "#FFA15A",
          "pattern": {
           "shape": ""
          }
         },
         "name": "Fluid USD Coin",
         "offsetgroup": "Fluid USD Coin",
         "orientation": "v",
         "showlegend": true,
         "textposition": "auto",
         "type": "bar",
         "x": [
          "autoUSD",
          "baseUSD"
         ],
         "xaxis": "x",
         "y": [
          0.5235700089351852,
          1.027597786712963
         ],
         "yaxis": "y"
        },
        {
         "alignmentgroup": "True",
         "hovertemplate": "underlying_name=sUSDe/crvUSD<br>autopool_name=%{x}<br>days_since_last_claim=%{y}<extra></extra>",
         "legendgroup": "sUSDe/crvUSD",
         "marker": {
          "color": "#19d3f3",
          "pattern": {
           "shape": ""
          }
         },
         "name": "sUSDe/crvUSD",
         "offsetgroup": "sUSDe/crvUSD",
         "orientation": "v",
         "showlegend": true,
         "textposition": "auto",
         "type": "bar",
         "x": [
          "autoUSD"
         ],
         "xaxis": "x",
         "y": [
          0.5235700089351852
         ],
         "yaxis": "y"
        },
        {
         "alignmentgroup": "True",
         "hovertemplate": "underlying_name=Curve.fi Factory Plain Pool: crvUSD/USDT<br>autopool_name=%{x}<br>days_since_last_claim=%{y}<extra></extra>",
         "legendgroup": "Curve.fi Factory Plain Pool: crvUSD/USDT",
         "marker": {
          "color": "#FF6692",
          "pattern": {
           "shape": ""
          }
         },
         "name": "Curve.fi Factory Plain Pool: crvUSD/USDT",
         "offsetgroup": "Curve.fi Factory Plain Pool: crvUSD/USDT",
         "orientation": "v",
         "showlegend": true,
         "textposition": "auto",
         "type": "bar",
         "x": [
          "autoUSD"
         ],
         "xaxis": "x",
         "y": [
          0.5235700089351852
         ],
         "yaxis": "y"
        },
        {
         "alignmentgroup": "True",
         "hovertemplate": "underlying_name=Balancer Aave USDC-Aave GHO<br>autopool_name=%{x}<br>days_since_last_claim=%{y}<extra></extra>",
         "legendgroup": "Balancer Aave USDC-Aave GHO",
         "marker": {
          "color": "#B6E880",
          "pattern": {
           "shape": ""
          }
         },
         "name": "Balancer Aave USDC-Aave GHO",
         "offsetgroup": "Balancer Aave USDC-Aave GHO",
         "orientation": "v",
         "showlegend": true,
         "textposition": "auto",
         "type": "bar",
         "x": [
          "baseUSD"
         ],
         "xaxis": "x",
         "y": [
          0.027620934861111113
         ],
         "yaxis": "y"
        },
        {
         "alignmentgroup": "True",
         "hovertemplate": "underlying_name=Gauntlet USDC Prime<br>autopool_name=%{x}<br>days_since_last_claim=%{y}<extra></extra>",
         "legendgroup": "Gauntlet USDC Prime",
         "marker": {
          "color": "#FF97FF",
          "pattern": {
           "shape": ""
          }
         },
         "name": "Gauntlet USDC Prime",
         "offsetgroup": "Gauntlet USDC Prime",
         "orientation": "v",
         "showlegend": true,
         "textposition": "auto",
         "type": "bar",
         "x": [
          "baseUSD",
          "arbUSD"
         ],
         "xaxis": "x",
         "y": [
          0.027620934861111113,
          null
         ],
         "yaxis": "y"
        },
        {
         "alignmentgroup": "True",
         "hovertemplate": "underlying_name=Gauntlet USDC Core<br>autopool_name=%{x}<br>days_since_last_claim=%{y}<extra></extra>",
         "legendgroup": "Gauntlet USDC Core",
         "marker": {
          "color": "#FECB52",
          "pattern": {
           "shape": ""
          }
         },
         "name": "Gauntlet USDC Core",
         "offsetgroup": "Gauntlet USDC Core",
         "orientation": "v",
         "showlegend": true,
         "textposition": "auto",
         "type": "bar",
         "x": [
          "baseUSD",
          "arbUSD"
         ],
         "xaxis": "x",
         "y": [
          0.027620934861111113,
          null
         ],
         "yaxis": "y"
        },
        {
         "alignmentgroup": "True",
         "hovertemplate": "underlying_name=Seamless USDC Vault<br>autopool_name=%{x}<br>days_since_last_claim=%{y}<extra></extra>",
         "legendgroup": "Seamless USDC Vault",
         "marker": {
          "color": "#636efa",
          "pattern": {
           "shape": ""
          }
         },
         "name": "Seamless USDC Vault",
         "offsetgroup": "Seamless USDC Vault",
         "orientation": "v",
         "showlegend": true,
         "textposition": "auto",
         "type": "bar",
         "x": [
          "baseUSD"
         ],
         "xaxis": "x",
         "y": [
          0.027620934861111113
         ],
         "yaxis": "y"
        },
        {
         "alignmentgroup": "True",
         "hovertemplate": "underlying_name=Moonwell Flagship USDC<br>autopool_name=%{x}<br>days_since_last_claim=%{y}<extra></extra>",
         "legendgroup": "Moonwell Flagship USDC",
         "marker": {
          "color": "#EF553B",
          "pattern": {
           "shape": ""
          }
         },
         "name": "Moonwell Flagship USDC",
         "offsetgroup": "Moonwell Flagship USDC",
         "orientation": "v",
         "showlegend": true,
         "textposition": "auto",
         "type": "bar",
         "x": [
          "baseUSD"
         ],
         "xaxis": "x",
         "y": [
          2.027620934861111
         ],
         "yaxis": "y"
        },
        {
         "alignmentgroup": "True",
         "hovertemplate": "underlying_name=SaveDola<br>autopool_name=%{x}<br>days_since_last_claim=%{y}<extra></extra>",
         "legendgroup": "SaveDola",
         "marker": {
          "color": "#00cc96",
          "pattern": {
           "shape": ""
          }
         },
         "name": "SaveDola",
         "offsetgroup": "SaveDola",
         "orientation": "v",
         "showlegend": true,
         "textposition": "auto",
         "type": "bar",
         "x": [
          "autoDOLA"
         ],
         "xaxis": "x",
         "y": [
          0.5231533422685185
         ],
         "yaxis": "y"
        },
        {
         "alignmentgroup": "True",
         "hovertemplate": "underlying_name=reUSD/sDola<br>autopool_name=%{x}<br>days_since_last_claim=%{y}<extra></extra>",
         "legendgroup": "reUSD/sDola",
         "marker": {
          "color": "#ab63fa",
          "pattern": {
           "shape": ""
          }
         },
         "name": "reUSD/sDola",
         "offsetgroup": "reUSD/sDola",
         "orientation": "v",
         "showlegend": true,
         "textposition": "auto",
         "type": "bar",
         "x": [
          "autoDOLA"
         ],
         "xaxis": "x",
         "y": [
          0.5231533422685185
         ],
         "yaxis": "y"
        },
        {
         "alignmentgroup": "True",
         "hovertemplate": "underlying_name=2Pool<br>autopool_name=%{x}<br>days_since_last_claim=%{y}<extra></extra>",
         "legendgroup": "2Pool",
         "marker": {
          "color": "#FFA15A",
          "pattern": {
           "shape": ""
          }
         },
         "name": "2Pool",
         "offsetgroup": "2Pool",
         "orientation": "v",
         "showlegend": true,
         "textposition": "auto",
         "type": "bar",
         "x": [
          "sonicUSD"
         ],
         "xaxis": "x",
         "y": [
          16.445954268194445
         ],
         "yaxis": "y"
        },
        {
         "alignmentgroup": "True",
         "hovertemplate": "underlying_name=Fluid EURC<br>autopool_name=%{x}<br>days_since_last_claim=%{y}<extra></extra>",
         "legendgroup": "Fluid EURC",
         "marker": {
          "color": "#19d3f3",
          "pattern": {
           "shape": ""
          }
         },
         "name": "Fluid EURC",
         "offsetgroup": "Fluid EURC",
         "orientation": "v",
         "showlegend": true,
         "textposition": "auto",
         "type": "bar",
         "x": [
          "baseEUR"
         ],
         "xaxis": "x",
         "y": [
          1.0273431570833333
         ],
         "yaxis": "y"
        },
        {
         "alignmentgroup": "True",
         "hovertemplate": "underlying_name=Steakhouse High Yield USDC<br>autopool_name=%{x}<br>days_since_last_claim=%{y}<extra></extra>",
         "legendgroup": "Steakhouse High Yield USDC",
         "marker": {
          "color": "#FF6692",
          "pattern": {
           "shape": ""
          }
         },
         "name": "Steakhouse High Yield USDC",
         "offsetgroup": "Steakhouse High Yield USDC",
         "orientation": "v",
         "showlegend": true,
         "textposition": "auto",
         "type": "bar",
         "x": [
          "arbUSD"
         ],
         "xaxis": "x",
         "y": [
          null
         ],
         "yaxis": "y"
        },
        {
         "alignmentgroup": "True",
         "hovertemplate": "underlying_name=Fluid USDT0<br>autopool_name=%{x}<br>days_since_last_claim=%{y}<extra></extra>",
         "legendgroup": "Fluid USDT0",
         "marker": {
          "color": "#B6E880",
          "pattern": {
           "shape": ""
          }
         },
         "name": "Fluid USDT0",
         "offsetgroup": "Fluid USDT0",
         "orientation": "v",
         "showlegend": true,
         "textposition": "auto",
         "type": "bar",
         "x": [
          "plasmaUSD"
         ],
         "xaxis": "x",
         "y": [
          null
         ],
         "yaxis": "y"
        },
        {
         "alignmentgroup": "True",
         "hovertemplate": "underlying_name=Ethena Surge sUSDe-waUSDT0<br>autopool_name=%{x}<br>days_since_last_claim=%{y}<extra></extra>",
         "legendgroup": "Ethena Surge sUSDe-waUSDT0",
         "marker": {
          "color": "#FF97FF",
          "pattern": {
           "shape": ""
          }
         },
         "name": "Ethena Surge sUSDe-waUSDT0",
         "offsetgroup": "Ethena Surge sUSDe-waUSDT0",
         "orientation": "v",
         "showlegend": true,
         "textposition": "auto",
         "type": "bar",
         "x": [
          "plasmaUSD"
         ],
         "xaxis": "x",
         "y": [
          null
         ],
         "yaxis": "y"
        }
       ],
       "layout": {
        "barmode": "relative",
        "legend": {
         "title": {
          "text": "underlying_name"
         },
         "tracegroupgap": 0
        },
        "template": {
         "data": {
          "bar": [
           {
            "error_x": {
             "color": "#2a3f5f"
            },
            "error_y": {
             "color": "#2a3f5f"
            },
            "marker": {
             "line": {
              "color": "#E5ECF6",
              "width": 0.5
             },
             "pattern": {
              "fillmode": "overlay",
              "size": 10,
              "solidity": 0.2
             }
            },
            "type": "bar"
           }
          ],
          "barpolar": [
           {
            "marker": {
             "line": {
              "color": "#E5ECF6",
              "width": 0.5
             },
             "pattern": {
              "fillmode": "overlay",
              "size": 10,
              "solidity": 0.2
             }
            },
            "type": "barpolar"
           }
          ],
          "carpet": [
           {
            "aaxis": {
             "endlinecolor": "#2a3f5f",
             "gridcolor": "white",
             "linecolor": "white",
             "minorgridcolor": "white",
             "startlinecolor": "#2a3f5f"
            },
            "baxis": {
             "endlinecolor": "#2a3f5f",
             "gridcolor": "white",
             "linecolor": "white",
             "minorgridcolor": "white",
             "startlinecolor": "#2a3f5f"
            },
            "type": "carpet"
           }
          ],
          "choropleth": [
           {
            "colorbar": {
             "outlinewidth": 0,
             "ticks": ""
            },
            "type": "choropleth"
           }
          ],
          "contour": [
           {
            "colorbar": {
             "outlinewidth": 0,
             "ticks": ""
            },
            "colorscale": [
             [
              0,
              "#0d0887"
             ],
             [
              0.1111111111111111,
              "#46039f"
             ],
             [
              0.2222222222222222,
              "#7201a8"
             ],
             [
              0.3333333333333333,
              "#9c179e"
             ],
             [
              0.4444444444444444,
              "#bd3786"
             ],
             [
              0.5555555555555556,
              "#d8576b"
             ],
             [
              0.6666666666666666,
              "#ed7953"
             ],
             [
              0.7777777777777778,
              "#fb9f3a"
             ],
             [
              0.8888888888888888,
              "#fdca26"
             ],
             [
              1,
              "#f0f921"
             ]
            ],
            "type": "contour"
           }
          ],
          "contourcarpet": [
           {
            "colorbar": {
             "outlinewidth": 0,
             "ticks": ""
            },
            "type": "contourcarpet"
           }
          ],
          "heatmap": [
           {
            "colorbar": {
             "outlinewidth": 0,
             "ticks": ""
            },
            "colorscale": [
             [
              0,
              "#0d0887"
             ],
             [
              0.1111111111111111,
              "#46039f"
             ],
             [
              0.2222222222222222,
              "#7201a8"
             ],
             [
              0.3333333333333333,
              "#9c179e"
             ],
             [
              0.4444444444444444,
              "#bd3786"
             ],
             [
              0.5555555555555556,
              "#d8576b"
             ],
             [
              0.6666666666666666,
              "#ed7953"
             ],
             [
              0.7777777777777778,
              "#fb9f3a"
             ],
             [
              0.8888888888888888,
              "#fdca26"
             ],
             [
              1,
              "#f0f921"
             ]
            ],
            "type": "heatmap"
           }
          ],
          "heatmapgl": [
           {
            "colorbar": {
             "outlinewidth": 0,
             "ticks": ""
            },
            "colorscale": [
             [
              0,
              "#0d0887"
             ],
             [
              0.1111111111111111,
              "#46039f"
             ],
             [
              0.2222222222222222,
              "#7201a8"
             ],
             [
              0.3333333333333333,
              "#9c179e"
             ],
             [
              0.4444444444444444,
              "#bd3786"
             ],
             [
              0.5555555555555556,
              "#d8576b"
             ],
             [
              0.6666666666666666,
              "#ed7953"
             ],
             [
              0.7777777777777778,
              "#fb9f3a"
             ],
             [
              0.8888888888888888,
              "#fdca26"
             ],
             [
              1,
              "#f0f921"
             ]
            ],
            "type": "heatmapgl"
           }
          ],
          "histogram": [
           {
            "marker": {
             "pattern": {
              "fillmode": "overlay",
              "size": 10,
              "solidity": 0.2
             }
            },
            "type": "histogram"
           }
          ],
          "histogram2d": [
           {
            "colorbar": {
             "outlinewidth": 0,
             "ticks": ""
            },
            "colorscale": [
             [
              0,
              "#0d0887"
             ],
             [
              0.1111111111111111,
              "#46039f"
             ],
             [
              0.2222222222222222,
              "#7201a8"
             ],
             [
              0.3333333333333333,
              "#9c179e"
             ],
             [
              0.4444444444444444,
              "#bd3786"
             ],
             [
              0.5555555555555556,
              "#d8576b"
             ],
             [
              0.6666666666666666,
              "#ed7953"
             ],
             [
              0.7777777777777778,
              "#fb9f3a"
             ],
             [
              0.8888888888888888,
              "#fdca26"
             ],
             [
              1,
              "#f0f921"
             ]
            ],
            "type": "histogram2d"
           }
          ],
          "histogram2dcontour": [
           {
            "colorbar": {
             "outlinewidth": 0,
             "ticks": ""
            },
            "colorscale": [
             [
              0,
              "#0d0887"
             ],
             [
              0.1111111111111111,
              "#46039f"
             ],
             [
              0.2222222222222222,
              "#7201a8"
             ],
             [
              0.3333333333333333,
              "#9c179e"
             ],
             [
              0.4444444444444444,
              "#bd3786"
             ],
             [
              0.5555555555555556,
              "#d8576b"
             ],
             [
              0.6666666666666666,
              "#ed7953"
             ],
             [
              0.7777777777777778,
              "#fb9f3a"
             ],
             [
              0.8888888888888888,
              "#fdca26"
             ],
             [
              1,
              "#f0f921"
             ]
            ],
            "type": "histogram2dcontour"
           }
          ],
          "mesh3d": [
           {
            "colorbar": {
             "outlinewidth": 0,
             "ticks": ""
            },
            "type": "mesh3d"
           }
          ],
          "parcoords": [
           {
            "line": {
             "colorbar": {
              "outlinewidth": 0,
              "ticks": ""
             }
            },
            "type": "parcoords"
           }
          ],
          "pie": [
           {
            "automargin": true,
            "type": "pie"
           }
          ],
          "scatter": [
           {
            "fillpattern": {
             "fillmode": "overlay",
             "size": 10,
             "solidity": 0.2
            },
            "type": "scatter"
           }
          ],
          "scatter3d": [
           {
            "line": {
             "colorbar": {
              "outlinewidth": 0,
              "ticks": ""
             }
            },
            "marker": {
             "colorbar": {
              "outlinewidth": 0,
              "ticks": ""
             }
            },
            "type": "scatter3d"
           }
          ],
          "scattercarpet": [
           {
            "marker": {
             "colorbar": {
              "outlinewidth": 0,
              "ticks": ""
             }
            },
            "type": "scattercarpet"
           }
          ],
          "scattergeo": [
           {
            "marker": {
             "colorbar": {
              "outlinewidth": 0,
              "ticks": ""
             }
            },
            "type": "scattergeo"
           }
          ],
          "scattergl": [
           {
            "marker": {
             "colorbar": {
              "outlinewidth": 0,
              "ticks": ""
             }
            },
            "type": "scattergl"
           }
          ],
          "scattermapbox": [
           {
            "marker": {
             "colorbar": {
              "outlinewidth": 0,
              "ticks": ""
             }
            },
            "type": "scattermapbox"
           }
          ],
          "scatterpolar": [
           {
            "marker": {
             "colorbar": {
              "outlinewidth": 0,
              "ticks": ""
             }
            },
            "type": "scatterpolar"
           }
          ],
          "scatterpolargl": [
           {
            "marker": {
             "colorbar": {
              "outlinewidth": 0,
              "ticks": ""
             }
            },
            "type": "scatterpolargl"
           }
          ],
          "scatterternary": [
           {
            "marker": {
             "colorbar": {
              "outlinewidth": 0,
              "ticks": ""
             }
            },
            "type": "scatterternary"
           }
          ],
          "surface": [
           {
            "colorbar": {
             "outlinewidth": 0,
             "ticks": ""
            },
            "colorscale": [
             [
              0,
              "#0d0887"
             ],
             [
              0.1111111111111111,
              "#46039f"
             ],
             [
              0.2222222222222222,
              "#7201a8"
             ],
             [
              0.3333333333333333,
              "#9c179e"
             ],
             [
              0.4444444444444444,
              "#bd3786"
             ],
             [
              0.5555555555555556,
              "#d8576b"
             ],
             [
              0.6666666666666666,
              "#ed7953"
             ],
             [
              0.7777777777777778,
              "#fb9f3a"
             ],
             [
              0.8888888888888888,
              "#fdca26"
             ],
             [
              1,
              "#f0f921"
             ]
            ],
            "type": "surface"
           }
          ],
          "table": [
           {
            "cells": {
             "fill": {
              "color": "#EBF0F8"
             },
             "line": {
              "color": "white"
             }
            },
            "header": {
             "fill": {
              "color": "#C8D4E3"
             },
             "line": {
              "color": "white"
             }
            },
            "type": "table"
           }
          ]
         },
         "layout": {
          "annotationdefaults": {
           "arrowcolor": "#2a3f5f",
           "arrowhead": 0,
           "arrowwidth": 1
          },
          "autotypenumbers": "strict",
          "coloraxis": {
           "colorbar": {
            "outlinewidth": 0,
            "ticks": ""
           }
          },
          "colorscale": {
           "diverging": [
            [
             0,
             "#8e0152"
            ],
            [
             0.1,
             "#c51b7d"
            ],
            [
             0.2,
             "#de77ae"
            ],
            [
             0.3,
             "#f1b6da"
            ],
            [
             0.4,
             "#fde0ef"
            ],
            [
             0.5,
             "#f7f7f7"
            ],
            [
             0.6,
             "#e6f5d0"
            ],
            [
             0.7,
             "#b8e186"
            ],
            [
             0.8,
             "#7fbc41"
            ],
            [
             0.9,
             "#4d9221"
            ],
            [
             1,
             "#276419"
            ]
           ],
           "sequential": [
            [
             0,
             "#0d0887"
            ],
            [
             0.1111111111111111,
             "#46039f"
            ],
            [
             0.2222222222222222,
             "#7201a8"
            ],
            [
             0.3333333333333333,
             "#9c179e"
            ],
            [
             0.4444444444444444,
             "#bd3786"
            ],
            [
             0.5555555555555556,
             "#d8576b"
            ],
            [
             0.6666666666666666,
             "#ed7953"
            ],
            [
             0.7777777777777778,
             "#fb9f3a"
            ],
            [
             0.8888888888888888,
             "#fdca26"
            ],
            [
             1,
             "#f0f921"
            ]
           ],
           "sequentialminus": [
            [
             0,
             "#0d0887"
            ],
            [
             0.1111111111111111,
             "#46039f"
            ],
            [
             0.2222222222222222,
             "#7201a8"
            ],
            [
             0.3333333333333333,
             "#9c179e"
            ],
            [
             0.4444444444444444,
             "#bd3786"
            ],
            [
             0.5555555555555556,
             "#d8576b"
            ],
            [
             0.6666666666666666,
             "#ed7953"
            ],
            [
             0.7777777777777778,
             "#fb9f3a"
            ],
            [
             0.8888888888888888,
             "#fdca26"
            ],
            [
             1,
             "#f0f921"
            ]
           ]
          },
          "colorway": [
           "#636efa",
           "#EF553B",
           "#00cc96",
           "#ab63fa",
           "#FFA15A",
           "#19d3f3",
           "#FF6692",
           "#B6E880",
           "#FF97FF",
           "#FECB52"
          ],
          "font": {
           "color": "#2a3f5f"
          },
          "geo": {
           "bgcolor": "white",
           "lakecolor": "white",
           "landcolor": "#E5ECF6",
           "showlakes": true,
           "showland": true,
           "subunitcolor": "white"
          },
          "hoverlabel": {
           "align": "left"
          },
          "hovermode": "closest",
          "mapbox": {
           "style": "light"
          },
          "paper_bgcolor": "white",
          "plot_bgcolor": "#E5ECF6",
          "polar": {
           "angularaxis": {
            "gridcolor": "white",
            "linecolor": "white",
            "ticks": ""
           },
           "bgcolor": "#E5ECF6",
           "radialaxis": {
            "gridcolor": "white",
            "linecolor": "white",
            "ticks": ""
           }
          },
          "scene": {
           "xaxis": {
            "backgroundcolor": "#E5ECF6",
            "gridcolor": "white",
            "gridwidth": 2,
            "linecolor": "white",
            "showbackground": true,
            "ticks": "",
            "zerolinecolor": "white"
           },
           "yaxis": {
            "backgroundcolor": "#E5ECF6",
            "gridcolor": "white",
            "gridwidth": 2,
            "linecolor": "white",
            "showbackground": true,
            "ticks": "",
            "zerolinecolor": "white"
           },
           "zaxis": {
            "backgroundcolor": "#E5ECF6",
            "gridcolor": "white",
            "gridwidth": 2,
            "linecolor": "white",
            "showbackground": true,
            "ticks": "",
            "zerolinecolor": "white"
           }
          },
          "shapedefaults": {
           "line": {
            "color": "#2a3f5f"
           }
          },
          "ternary": {
           "aaxis": {
            "gridcolor": "white",
            "linecolor": "white",
            "ticks": ""
           },
           "baxis": {
            "gridcolor": "white",
            "linecolor": "white",
            "ticks": ""
           },
           "bgcolor": "#E5ECF6",
           "caxis": {
            "gridcolor": "white",
            "linecolor": "white",
            "ticks": ""
           }
          },
          "title": {
           "x": 0.05
          },
          "xaxis": {
           "automargin": true,
           "gridcolor": "white",
           "linecolor": "white",
           "ticks": "",
           "title": {
            "standoff": 15
           },
           "zerolinecolor": "white",
           "zerolinewidth": 2
          },
          "yaxis": {
           "automargin": true,
           "gridcolor": "white",
           "linecolor": "white",
           "ticks": "",
           "title": {
            "standoff": 15
           },
           "zerolinecolor": "white",
           "zerolinewidth": 2
          }
         }
        },
        "title": {
         "text": "Time Since Last Claim by Autopool Destination Vault"
        },
        "xaxis": {
         "anchor": "y",
         "domain": [
          0,
          1
         ],
         "title": {
          "text": "autopool_name"
         }
        },
        "yaxis": {
         "anchor": "x",
         "domain": [
          0,
          1
         ],
         "title": {
          "text": "days_since_last_claim"
         }
        }
       }
      }
     },
     "metadata": {},
     "output_type": "display_data"
    }
   ],
   "source": [
    "px.bar(\n",
    "    full_sub_df,\n",
    "    x=\"autopool_name\",\n",
    "    y=\"days_since_last_claim\",\n",
    "    color=\"underlying_name\",\n",
    "    title=\"Time Since Last Claim by Autopool Destination Vault\",\n",
    ")"
   ]
  },
  {
   "cell_type": "code",
   "execution_count": null,
   "metadata": {},
   "outputs": [],
   "source": [
    "base_usd_destinations"
   ]
  },
  {
   "cell_type": "code",
   "execution_count": null,
   "metadata": {},
   "outputs": [
    {
     "data": {
      "application/vnd.microsoft.datawrangler.viewer.v0+json": {
       "columns": [
        {
         "name": "index",
         "rawType": "int64",
         "type": "integer"
        },
        {
         "name": "autopool_name",
         "rawType": "object",
         "type": "string"
        },
        {
         "name": "underlying_name",
         "rawType": "object",
         "type": "string"
        },
        {
         "name": "time_since_last_claim",
         "rawType": "timedelta64[ns]",
         "type": "unknown"
        },
        {
         "name": "highest_recent_incentive_apr",
         "rawType": "float64",
         "type": "float"
        },
        {
         "name": "highest_recent_owned_shares",
         "rawType": "float64",
         "type": "float"
        }
       ],
       "ref": "9c769deb-6105-4830-b9a5-b0f28915fd23",
       "rows": [
        [
         "260",
         "plasmaUSD",
         "Fluid USDT0",
         null,
         "5.76",
         "2081381.610353"
        ],
        [
         "268",
         "plasmaUSD",
         "Ethena Surge sUSDe-waUSDT0",
         null,
         "6.413608416336112",
         "4697664.110860647"
        ]
       ],
       "shape": {
        "columns": 5,
        "rows": 2
       }
      },
      "text/html": [
       "<div>\n",
       "<style scoped>\n",
       "    .dataframe tbody tr th:only-of-type {\n",
       "        vertical-align: middle;\n",
       "    }\n",
       "\n",
       "    .dataframe tbody tr th {\n",
       "        vertical-align: top;\n",
       "    }\n",
       "\n",
       "    .dataframe thead th {\n",
       "        text-align: right;\n",
       "    }\n",
       "</style>\n",
       "<table border=\"1\" class=\"dataframe\">\n",
       "  <thead>\n",
       "    <tr style=\"text-align: right;\">\n",
       "      <th></th>\n",
       "      <th>autopool_name</th>\n",
       "      <th>underlying_name</th>\n",
       "      <th>time_since_last_claim</th>\n",
       "      <th>highest_recent_incentive_apr</th>\n",
       "      <th>highest_recent_owned_shares</th>\n",
       "    </tr>\n",
       "  </thead>\n",
       "  <tbody>\n",
       "    <tr>\n",
       "      <th>260</th>\n",
       "      <td>plasmaUSD</td>\n",
       "      <td>Fluid USDT0</td>\n",
       "      <td>NaT</td>\n",
       "      <td>5.760000</td>\n",
       "      <td>2.081382e+06</td>\n",
       "    </tr>\n",
       "    <tr>\n",
       "      <th>268</th>\n",
       "      <td>plasmaUSD</td>\n",
       "      <td>Ethena Surge sUSDe-waUSDT0</td>\n",
       "      <td>NaT</td>\n",
       "      <td>6.413608</td>\n",
       "      <td>4.697664e+06</td>\n",
       "    </tr>\n",
       "  </tbody>\n",
       "</table>\n",
       "</div>"
      ],
      "text/plain": [
       "    autopool_name             underlying_name time_since_last_claim  \\\n",
       "260     plasmaUSD                 Fluid USDT0                   NaT   \n",
       "268     plasmaUSD  Ethena Surge sUSDe-waUSDT0                   NaT   \n",
       "\n",
       "     highest_recent_incentive_apr  highest_recent_owned_shares  \n",
       "260                      5.760000                 2.081382e+06  \n",
       "268                      6.413608                 4.697664e+06  "
      ]
     },
     "execution_count": 26,
     "metadata": {},
     "output_type": "execute_result"
    }
   ],
   "source": []
  },
  {
   "cell_type": "code",
   "execution_count": null,
   "metadata": {},
   "outputs": [],
   "source": []
  },
  {
   "cell_type": "code",
   "execution_count": null,
   "metadata": {},
   "outputs": [],
   "source": [
    "# for each autopool, show a chart (say bar chart) for all destinations (with allocation)\n",
    "# where the dests with incentives have bars showing length of time since last claim, for dest with no incentives,\n",
    "# the bar height can be fixed to 0."
   ]
  },
  {
   "cell_type": "code",
   "execution_count": null,
   "metadata": {},
   "outputs": [],
   "source": [
    "break"
   ]
  },
  {
   "cell_type": "code",
   "execution_count": null,
   "metadata": {},
   "outputs": [],
   "source": []
  },
  {
   "cell_type": "code",
   "execution_count": null,
   "metadata": {},
   "outputs": [],
   "source": [
    "tokens = get_full_table_as_df(Tokens)\n",
    "token_address_to_symbol = tokens.set_index(\"token_address\")[\"symbol\"].to_dict()\n",
    "\n",
    "destinations = get_full_table_as_df(Destinations)\n",
    "destination_address_to_name = destinations.set_index(\"destination_vault_address\")[\"underlying_name\"].to_dict()"
   ]
  },
  {
   "cell_type": "code",
   "execution_count": null,
   "metadata": {},
   "outputs": [],
   "source": [
    "from mainnet_launch.data_fetching.get_state_by_block import get_raw_state_by_blocks\n",
    "\n",
    "datetimes = get_raw_state_by_blocks(\n",
    "    calls=[],\n",
    "    chain=ETH_CHAIN,\n",
    "    blocks=balance_updated[\"block\"].unique().tolist(),\n",
    ")\n",
    "datetimes"
   ]
  },
  {
   "cell_type": "code",
   "execution_count": null,
   "metadata": {},
   "outputs": [],
   "source": [
    "balance_updated[\"token_symbol\"] = balance_updated.apply(\n",
    "    lambda x: token_address_to_symbol.get(x[\"token\"], \"UNKNOWN\"), axis=1\n",
    ")\n",
    "balance_updated[\"destination_name\"] = balance_updated.apply(\n",
    "    lambda x: destination_address_to_name.get(x[\"vault\"], \"UNKNOWN\"), axis=1\n",
    ")"
   ]
  },
  {
   "cell_type": "code",
   "execution_count": null,
   "metadata": {},
   "outputs": [],
   "source": []
  },
  {
   "cell_type": "code",
   "execution_count": null,
   "metadata": {},
   "outputs": [],
   "source": []
  },
  {
   "cell_type": "code",
   "execution_count": null,
   "metadata": {},
   "outputs": [],
   "source": [
    "most_recent_balance_updated = balance_updated.groupby(\"vault\")[\"datetime\"].max().to_dict()\n",
    "autopool_destinations[\"most_recent_balance_update\"] = autopool_destinations[\"destination_vault_address\"].map(\n",
    "    most_recent_balance_updated\n",
    ")\n",
    "\n",
    "autopool_destinations"
   ]
  },
  {
   "cell_type": "code",
   "execution_count": null,
   "metadata": {},
   "outputs": [],
   "source": [
    "destinations_with_any_incentive_apr_recent_past = destination_states[(destination_states[\"incentive_apr\"] > 0)][\n",
    "    \"destination_vault_address\"\n",
    "].unique()\n",
    "\n",
    "destinations_with_any_owned_shares = autopool_destination_states[(autopool_destination_states[\"owned_shares\"] > 0)][\n",
    "    \"destination_vault_address\"\n",
    "].unique()\n",
    "\n",
    "destinations_that_should_have_some_claims = [\n",
    "    d for d in destinations_with_any_incentive_apr_recent_past if d in destinations_with_any_owned_shares\n",
    "]\n",
    "\n",
    "cols = [\"autopool_name\", \"underlying_name\", \"most_recent_balance_update\"]\n",
    "\n",
    "for autopool in ALL_AUTOPOOLS:\n",
    "    sub_df = autopool_destinations[\n",
    "        (autopool_destinations[\"destination_vault_address\"].isin(destinations_that_should_have_some_claims))\n",
    "        & (autopool_destinations[\"autopool_name\"] == autopool.name)\n",
    "    ][cols]\n",
    "    post_message_with_table(\n",
    "        f\"Recent claims for destinations in autopool {autopool.name} that should have some claims\", sub_df\n",
    "    )"
   ]
  },
  {
   "cell_type": "code",
   "execution_count": null,
   "metadata": {},
   "outputs": [],
   "source": []
  },
  {
   "cell_type": "code",
   "execution_count": null,
   "metadata": {},
   "outputs": [],
   "source": [
    "balance_updated.groupby([\"destination_name\", \"token_symbol\"])[\"datetime\"].max().reset_index()"
   ]
  },
  {
   "cell_type": "code",
   "execution_count": null,
   "metadata": {},
   "outputs": [],
   "source": [
    "balance_updated"
   ]
  },
  {
   "cell_type": "code",
   "execution_count": null,
   "metadata": {},
   "outputs": [],
   "source": [
    "balanceUpdated_1"
   ]
  },
  {
   "cell_type": "code",
   "execution_count": null,
   "metadata": {},
   "outputs": [],
   "source": []
  },
  {
   "cell_type": "code",
   "execution_count": null,
   "metadata": {},
   "outputs": [],
   "source": [
    "reward_token_balance_events"
   ]
  },
  {
   "cell_type": "code",
   "execution_count": null,
   "metadata": {},
   "outputs": [],
   "source": [
    "autoUSD_destination_vaults = autopool_destinations[autopool_destinations[\"autopool_name\"] == \"autoUSD\"][\n",
    "    \"destination_vault_address\"\n",
    "].unique()"
   ]
  },
  {
   "cell_type": "code",
   "execution_count": null,
   "metadata": {},
   "outputs": [],
   "source": [
    "morpho = \"0x58D97B57BB95320F9a05dC918Aef65434969c2B2\"\n",
    "old_morpho = \"0x9994E35Db50125E0DF82e4c2dde62496CE330999\"\n",
    "\n",
    "from mainnet_launch.abis import ERC_20_ABI\n",
    "\n",
    "morpho_contract = ETH_CHAIN.client.eth.contract(address=morpho, abi=ERC_20_ABI)\n",
    "\n",
    "morpho_transfers = fetch_events(\n",
    "    event=morpho_contract.events.Transfer, chain=ETH_CHAIN, argument_filters={\"to\": autoUSD_destination_vaults.tolist()}\n",
    ")\n",
    "\n",
    "morpho_transfers"
   ]
  },
  {
   "cell_type": "code",
   "execution_count": null,
   "metadata": {},
   "outputs": [],
   "source": [
    "autopool_destinations"
   ]
  },
  {
   "cell_type": "code",
   "execution_count": null,
   "metadata": {},
   "outputs": [],
   "source": [
    "morpho = \"0x58D97B57BB95320F9a05dC918Aef65434969c2B2\"\n",
    "from mainnet_launch.abis import ERC_20_ABI\n",
    "\n",
    "morpho_contract = ETH_CHAIN.client.eth.contract(address=morpho, abi=ERC_20_ABI)\n",
    "\n",
    "morpho_transfers = fetch_events(\n",
    "    event=morpho_contract.events.Transfer, chain=ETH_CHAIN, argument_filters={\"to\": LIQUIDATION_ROW(ETH_CHAIN)}\n",
    ")"
   ]
  },
  {
   "cell_type": "code",
   "execution_count": null,
   "metadata": {},
   "outputs": [],
   "source": [
    "# from mainnet_launch.database.schema.full import\n",
    "\n",
    "# full_df = get_full_table_as_df_with_tx_hash(Va)"
   ]
  },
  {
   "cell_type": "code",
   "execution_count": null,
   "metadata": {},
   "outputs": [],
   "source": [
    "reward_token_balance_events[\"block\"].value_counts()"
   ]
  },
  {
   "cell_type": "code",
   "execution_count": null,
   "metadata": {},
   "outputs": [],
   "source": [
    "break"
   ]
  },
  {
   "cell_type": "code",
   "execution_count": null,
   "metadata": {},
   "outputs": [],
   "source": [
    "# 0x5c0C306Aaa9F877de636f4d5822cA9F2E81563BA need to see the collect rewards call"
   ]
  },
  {
   "cell_type": "code",
   "execution_count": null,
   "metadata": {},
   "outputs": [],
   "source": [
    "# function claimsVaultRewards(\n",
    "#     IDestinationVault[] memory vaults\n",
    "# ) external nonReentrant hasRole(Roles.REWARD_LIQUIDATION_EXECUTOR) {\n",
    "#     if (vaults.length == 0) revert Errors.InvalidParam(\"vaults\");\n",
    "\n",
    "#     for (uint256 i = 0; i < vaults.length; ++i) {\n",
    "#         uint256 gasBefore = gasleft();\n",
    "#         IDestinationVault vault = vaults[i];\n",
    "\n",
    "#         destinationVaultRegistry.verifyIsRegistered(address(vault));\n",
    "\n",
    "#         (uint256[] memory amounts, address[] memory tokens) = vault.collectRewards();\n",
    "\n",
    "#         uint256 tokensLength = tokens.length;\n",
    "#         for (uint256 j = 0; j < tokensLength; ++j) {\n",
    "#             address token = tokens[j];\n",
    "#             uint256 amount = amounts[j];\n",
    "#             if (amount > 0 && token != address(0)) {\n",
    "#                 // slither-disable-next-line reentrancy-no-eth\n",
    "#                 _increaseBalance(address(token), address(vault), amount);\n",
    "#             }\n",
    "#         }\n",
    "#         uint256 gasUsed = gasBefore - gasleft();\n",
    "#         emit GasUsedForVault(address(vault), gasUsed, bytes32(\"claim\"));\n",
    "#     }\n",
    "# }\n",
    "\n",
    "\n",
    "# https://vscode.blockscan.com/ethereum/0xf570ea70106b8e109222297f9a90da477658d481\n",
    "# check with cody about claiming USDT rewards"
   ]
  },
  {
   "cell_type": "code",
   "execution_count": null,
   "metadata": {},
   "outputs": [],
   "source": [
    "destinations[destinations[\"pool\"].isin(pools_missing_vault_liquidations)].drop_duplicates(\"pool\")"
   ]
  },
  {
   "cell_type": "code",
   "execution_count": null,
   "metadata": {},
   "outputs": [],
   "source": [
    "# the fluid lending has claimFromFluidMerkleDistributor"
   ]
  },
  {
   "cell_type": "code",
   "execution_count": null,
   "metadata": {},
   "outputs": [],
   "source": [
    "claim_vault_rewards[claim_vault_rewards[\"destination_vault_address\"] == \"0x4142e3a17391676C66DDf1285E43889F168EE237\"]"
   ]
  },
  {
   "cell_type": "code",
   "execution_count": null,
   "metadata": {},
   "outputs": [],
   "source": [
    "break"
   ]
  },
  {
   "cell_type": "code",
   "execution_count": null,
   "metadata": {},
   "outputs": [],
   "source": [
    "claim_vault_rewards = get_full_table_as_df_with_tx_hash(ClaimVaultRewards, Blocks.datetime > three_days_ago)\n",
    "destination_states = get_full_table_as_df_with_block(DestinationStates, Blocks.datetime > three_days_ago).reset_index()\n",
    "autopool_destination_states = get_full_table_as_df_with_block(\n",
    "    AutopoolDestinationStates, Blocks.datetime > three_days_ago\n",
    ").reset_index()\n",
    "destinations = get_full_table_as_df(Destinations)\n",
    "\n",
    "claim_vault_rewards[\"pool\"] = claim_vault_rewards[\"destination_vault_address\"].map(\n",
    "    destinations.set_index(\"destination_vault_address\")[\"pool\"]\n",
    ")\n",
    "autopool_destination_states[\"pool\"] = autopool_destination_states[\"destination_vault_address\"].map(\n",
    "    destinations.set_index(\"destination_vault_address\")[\"pool\"]\n",
    ")\n",
    "destination_states[\"pool\"] = destination_states[\"destination_vault_address\"].map(\n",
    "    destinations.set_index(\"destination_vault_address\")[\"pool\"]\n",
    ")\n",
    "\n",
    "destinations[\"incentive_apr\"] = destinations[\"pool\"].map(destination_states.groupby(\"pool\")[\"incentive_apr\"].max())\n",
    "destinations[\"owned_shares\"] = destinations[\"pool\"].map(\n",
    "    autopool_destination_states.groupby(\"pool\")[\"owned_shares\"].max()\n",
    ")\n",
    "\n",
    "taget_pool = \"0x6951bDC4734b9f7F3E1B74afeBC670c736A0EDB6\"\n",
    "\n",
    "# claim_vault_rewards = claim_vault_rewards[claim_vault_rewards['pool'] != taget_pool].copy()\n",
    "\n",
    "# all claim events in the last 3 days\n",
    "pool_with_recent_claim_rewards = claim_vault_rewards[\"pool\"].unique().tolist()\n",
    "# any autopool owns shares > 1 in the last 3 days\n",
    "pools_with_some_owned_shares = (\n",
    "    autopool_destination_states[autopool_destination_states[\"owned_shares\"] > 1][\"pool\"].unique().tolist()\n",
    ")\n",
    "# >.5% apr within the last 3 days\n",
    "pools_with_some_incentive_apr = (\n",
    "    destination_states[destination_states[\"incentive_apr\"] > 0.005][\"pool\"].unique().tolist()\n",
    ")"
   ]
  },
  {
   "cell_type": "code",
   "execution_count": null,
   "metadata": {},
   "outputs": [],
   "source": [
    "# taget_pool in pools_with_some_incentive_apr, taget_pool in pools_with_some_owned_shares, taget_pool in pool_with_recent_claim_rewards\n",
    "\n",
    "expected = set(pools_with_some_incentive_apr) & set(pools_with_some_owned_shares)\n",
    "missing = expected - set(pool_with_recent_claim_rewards)\n",
    "missing"
   ]
  },
  {
   "cell_type": "code",
   "execution_count": null,
   "metadata": {},
   "outputs": [],
   "source": []
  },
  {
   "cell_type": "code",
   "execution_count": null,
   "metadata": {},
   "outputs": [],
   "source": [
    "destinations[destinations[\"pool\"].isin(missing)]"
   ]
  },
  {
   "cell_type": "code",
   "execution_count": null,
   "metadata": {},
   "outputs": [],
   "source": [
    "all_vault_claimed_events = get_full_table_as_df_with_tx_hash(ClaimVaultRewards)\n",
    "all_vault_claimed_events[\"pool\"] = all_vault_claimed_events[\"destination_vault_address\"].map(\n",
    "    destinations.set_index(\"destination_vault_address\")[\"pool\"]\n",
    ")\n",
    "all_vault_claimed_events"
   ]
  },
  {
   "cell_type": "code",
   "execution_count": null,
   "metadata": {},
   "outputs": [],
   "source": [
    "fluid_tether_pool = \"0x5C20B550819128074FD538Edf79791733ccEdd18\"\n",
    "all_vault_claimed_events[all_vault_claimed_events[\"pool\"] == fluid_tether_pool]"
   ]
  },
  {
   "cell_type": "code",
   "execution_count": null,
   "metadata": {},
   "outputs": [],
   "source": [
    "destinations[destinations[\"pool\"].isin(missing)][\n",
    "    [\n",
    "        \"pool\",\n",
    "        \"exchange_name\",\n",
    "        \"underlying_name\",\n",
    "        \"chain_id\",\n",
    "        \"incentive_apr\",\n",
    "        \"owned_shares\",\n",
    "        \"destination_vault_address\",\n",
    "    ]\n",
    "].drop_duplicates()"
   ]
  },
  {
   "cell_type": "code",
   "execution_count": null,
   "metadata": {},
   "outputs": [],
   "source": [
    "destinations[\n",
    "    [\n",
    "        \"pool\",\n",
    "        \"exchange_name\",\n",
    "        \"underlying_name\",\n",
    "        \"chain_id\",\n",
    "        \"incentive_apr\",\n",
    "        \"owned_shares\",\n",
    "        \"destination_vault_address\",\n",
    "    ]\n",
    "].drop_duplicates()"
   ]
  },
  {
   "cell_type": "code",
   "execution_count": null,
   "metadata": {},
   "outputs": [],
   "source": [
    "# usdc Fluid Tether USD should have some incentive apr\n",
    "\n",
    "\n",
    "# 0x6f40d4A6237C257fff2dB00FA0510DeEECd303eb autoUSD has 750k in this pool"
   ]
  },
  {
   "cell_type": "code",
   "execution_count": null,
   "metadata": {},
   "outputs": [],
   "source": []
  },
  {
   "cell_type": "code",
   "execution_count": null,
   "metadata": {},
   "outputs": [],
   "source": [
    "# # is there a way to manually check if rewards are claimable? a function call?\n",
    "# post_message_with_table(\n",
    "#     \"Pools with incentives and owned shares but no recent claims\",\n",
    "#     destinations[destinations['pool'].isin(missing)][['pool', 'exchange_name', 'chain_id', 'incentive_apr', 'owned_shares']]\n",
    "# )"
   ]
  },
  {
   "cell_type": "code",
   "execution_count": null,
   "metadata": {},
   "outputs": [],
   "source": [
    "destinations[destinations[\"pool\"].isin(missing)]"
   ]
  },
  {
   "cell_type": "code",
   "execution_count": null,
   "metadata": {},
   "outputs": [],
   "source": []
  },
  {
   "cell_type": "code",
   "execution_count": null,
   "metadata": {},
   "outputs": [],
   "source": [
    "destinations[destinations[\"pool\"] == \"0x6951bDC4734b9f7F3E1B74afeBC670c736A0EDB6\"]  # there are 4 destiantions here,"
   ]
  },
  {
   "cell_type": "code",
   "execution_count": null,
   "metadata": {},
   "outputs": [],
   "source": []
  },
  {
   "cell_type": "code",
   "execution_count": null,
   "metadata": {},
   "outputs": [],
   "source": [
    "# 0x6951bDC4734b9f7F3E1B74afeBC670c736A0EDB6 had incentive APR go to zero on oct 14th\n",
    "\n",
    "# need to not point at old destination vaults\n",
    "# have the agg entity by the pool it self"
   ]
  },
  {
   "attachments": {
    "image.png": {
     "image/png": "[encoded data removed]"
    }
   },
   "cell_type": "markdown",
   "metadata": {},
   "source": [
    "![image.png](attachment:image.png)"
   ]
  },
  {
   "cell_type": "code",
   "execution_count": null,
   "metadata": {},
   "outputs": [],
   "source": [
    "# can I manually check if rewards are claimable?"
   ]
  },
  {
   "cell_type": "code",
   "execution_count": null,
   "metadata": {},
   "outputs": [],
   "source": [
    "didnt_have_expected_liquidation"
   ]
  },
  {
   "cell_type": "code",
   "execution_count": null,
   "metadata": {},
   "outputs": [],
   "source": [
    "destinations[destinations[\"destination_vault_address\"].isin(didnt_have_expected_liquidation)]"
   ]
  },
  {
   "cell_type": "code",
   "execution_count": null,
   "metadata": {},
   "outputs": [],
   "source": [
    "destination_states[destination_states[\"destination_vault_address\"].isin(didnt_have_expected_liquidation)]"
   ]
  },
  {
   "cell_type": "code",
   "execution_count": null,
   "metadata": {},
   "outputs": [],
   "source": [
    "owned_shares_by_destination = (\n",
    "    autopool_destination_states[[\"destination_vault_address\", \"owned_shares\"]]\n",
    "    .groupby(\"destination_vault_address\")\n",
    "    .max()\n",
    "    .reset_index()\n",
    ")"
   ]
  },
  {
   "cell_type": "code",
   "execution_count": null,
   "metadata": {},
   "outputs": [],
   "source": [
    "def get_list_of_suspect_destinations():\n",
    "    # a suspect_destination is a destiantion\n",
    "    # where, the owned shares in the last 3 days is > 1\n",
    "    # and the incentive apr is > .5\n",
    "    # and there have been no claim vault rewards in the last 3 days\n",
    "    pass"
   ]
  }
 ],
 "metadata": {
  "kernelspec": {
   "display_name": "mainnet-launch-py3.10",
   "language": "python",
   "name": "python3"
  },
  "language_info": {
   "codemirror_mode": {
    "name": "ipython",
    "version": 3
   },
   "file_extension": ".py",
   "mimetype": "text/x-python",
   "name": "python",
   "nbconvert_exporter": "python",
   "pygments_lexer": "ipython3",
   "version": "3.10.14"
  }
 },
 "nbformat": 4,
 "nbformat_minor": 2
}
