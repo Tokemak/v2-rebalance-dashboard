{
 "cells": [
  {
   "cell_type": "code",
   "execution_count": 1,
   "metadata": {},
   "outputs": [
    {
     "name": "stderr",
     "output_type": "stream",
     "text": [
      "/Users/pb/Library/Caches/pypoetry/virtualenvs/mainnet-launch-FtycU18g-py3.10/lib/python3.10/site-packages/web3/__init__.py:4: UserWarning: pkg_resources is deprecated as an API. See https://setuptools.pypa.io/en/latest/pkg_resources.html. The pkg_resources package is slated for removal as early as 2025-11-30. Refrain from using this package or pin to Setuptools<81.\n",
      "  import pkg_resources\n"
     ]
    },
    {
     "name": "stdout",
     "output_type": "stream",
     "text": [
      "Fetched 8,360 logs for <class 'web3._utils.datatypes.BalanceUpdated'> from 20,722,908 to 23,649,079 (2,926,172 blocks)\n"
     ]
    },
    {
     "name": "stderr",
     "output_type": "stream",
     "text": [
      "/Users/pb/Library/Caches/pypoetry/virtualenvs/mainnet-launch-FtycU18g-py3.10/lib/python3.10/site-packages/web3/__init__.py:4: UserWarning: pkg_resources is deprecated as an API. See https://setuptools.pypa.io/en/latest/pkg_resources.html. The pkg_resources package is slated for removal as early as 2025-11-30. Refrain from using this package or pin to Setuptools<81.\n",
      "  import pkg_resources\n",
      "/Users/pb/Library/Caches/pypoetry/virtualenvs/mainnet-launch-FtycU18g-py3.10/lib/python3.10/site-packages/web3/__init__.py:4: UserWarning: pkg_resources is deprecated as an API. See https://setuptools.pypa.io/en/latest/pkg_resources.html. The pkg_resources package is slated for removal as early as 2025-11-30. Refrain from using this package or pin to Setuptools<81.\n",
      "  import pkg_resources\n",
      "/Users/pb/Library/Caches/pypoetry/virtualenvs/mainnet-launch-FtycU18g-py3.10/lib/python3.10/site-packages/web3/__init__.py:4: UserWarning: pkg_resources is deprecated as an API. See https://setuptools.pypa.io/en/latest/pkg_resources.html. The pkg_resources package is slated for removal as early as 2025-11-30. Refrain from using this package or pin to Setuptools<81.\n",
      "  import pkg_resources\n",
      "/Users/pb/Library/Caches/pypoetry/virtualenvs/mainnet-launch-FtycU18g-py3.10/lib/python3.10/site-packages/web3/__init__.py:4: UserWarning: pkg_resources is deprecated as an API. See https://setuptools.pypa.io/en/latest/pkg_resources.html. The pkg_resources package is slated for removal as early as 2025-11-30. Refrain from using this package or pin to Setuptools<81.\n",
      "  import pkg_resources\n"
     ]
    },
    {
     "name": "stdout",
     "output_type": "stream",
     "text": [
      "Retryable failure when fetching logs for <class 'web3._utils.datatypes.BalanceUpdated'> on chain.name='eth'from 20,722,908 to 23,649,079 (2,926,172 blocks), splitting into:\n",
      "  - 20,722,908 to 22,185,993 (1,463,086 blocks)\n",
      "  - 22,185,994 to 23,649,079 (1,463,086 blocks)\n",
      "Fetched 0 logs for <class 'web3._utils.datatypes.BalanceUpdated'> from 20,722,908 to 22,185,993 (1,463,086 blocks)\n",
      "Retryable failure when fetching logs for <class 'web3._utils.datatypes.BalanceUpdated'> on chain.name='eth'from 22,185,994 to 23,649,079 (1,463,086 blocks), splitting into:\n",
      "  - 22,185,994 to 22,917,536 (731,543 blocks)\n",
      "  - 22,917,537 to 23,649,079 (731,543 blocks)\n",
      "Fetched 8,468 logs for <class 'web3._utils.datatypes.BalanceUpdated'> from 22,185,994 to 22,917,536 (731,543 blocks)\n",
      "Fetched 4,751 logs for <class 'web3._utils.datatypes.BalanceUpdated'> from 22,917,537 to 23,649,079 (731,543 blocks)\n"
     ]
    },
    {
     "name": "stderr",
     "output_type": "stream",
     "text": [
      "/Users/pb/Library/Caches/pypoetry/virtualenvs/mainnet-launch-FtycU18g-py3.10/lib/python3.10/site-packages/web3/__init__.py:4: UserWarning: pkg_resources is deprecated as an API. See https://setuptools.pypa.io/en/latest/pkg_resources.html. The pkg_resources package is slated for removal as early as 2025-11-30. Refrain from using this package or pin to Setuptools<81.\n",
      "  import pkg_resources\n",
      "/Users/pb/Library/Caches/pypoetry/virtualenvs/mainnet-launch-FtycU18g-py3.10/lib/python3.10/site-packages/web3/__init__.py:4: UserWarning: pkg_resources is deprecated as an API. See https://setuptools.pypa.io/en/latest/pkg_resources.html. The pkg_resources package is slated for removal as early as 2025-11-30. Refrain from using this package or pin to Setuptools<81.\n",
      "  import pkg_resources\n",
      "/Users/pb/Library/Caches/pypoetry/virtualenvs/mainnet-launch-FtycU18g-py3.10/lib/python3.10/site-packages/web3/__init__.py:4: UserWarning: pkg_resources is deprecated as an API. See https://setuptools.pypa.io/en/latest/pkg_resources.html. The pkg_resources package is slated for removal as early as 2025-11-30. Refrain from using this package or pin to Setuptools<81.\n",
      "  import pkg_resources\n",
      "/Users/pb/Library/Caches/pypoetry/virtualenvs/mainnet-launch-FtycU18g-py3.10/lib/python3.10/site-packages/web3/__init__.py:4: UserWarning: pkg_resources is deprecated as an API. See https://setuptools.pypa.io/en/latest/pkg_resources.html. The pkg_resources package is slated for removal as early as 2025-11-30. Refrain from using this package or pin to Setuptools<81.\n",
      "  import pkg_resources\n"
     ]
    },
    {
     "name": "stdout",
     "output_type": "stream",
     "text": [
      "Fetched 1,214 logs for <class 'web3._utils.datatypes.BalanceUpdated'> from 21,241,103 to 37,270,395 (16,029,293 blocks)\n",
      "Fetched 2,286 logs for <class 'web3._utils.datatypes.BalanceUpdated'> from 21,241,103 to 37,270,395 (16,029,293 blocks)\n",
      "Fetching pre split sonic chunk from 31,593,624 to 33,593,623Fetching pre split sonic chunk from 33,593,624 to 35,593,623\n",
      "Fetching pre split sonic chunk from 35,593,624 to 37,593,623\n",
      "\n",
      "Fetching pre split sonic chunk from 37,593,624 to 39,593,623\n",
      "Fetching pre split sonic chunk from 39,593,624 to 41,593,623\n",
      "Fetching pre split sonic chunk from 41,593,624 to 43,593,623\n",
      "Fetching pre split sonic chunk from 43,593,624 to 45,593,623\n",
      "Fetching pre split sonic chunk from 45,593,624 to 47,593,623\n",
      "Fetched 1 logs for <class 'web3._utils.datatypes.BalanceUpdated'> from 39,593,624 to 41,593,623 (2,000,000 blocks)\n",
      "Fetching pre split sonic chunk from 47,593,624 to 49,593,623\n",
      "Fetched 14 logs for <class 'web3._utils.datatypes.BalanceUpdated'> from 41,593,624 to 43,593,623 (2,000,000 blocks)\n",
      "Fetching pre split sonic chunk from 49,593,624 to 51,593,623\n",
      "Fetched 75 logs for <class 'web3._utils.datatypes.BalanceUpdated'> from 45,593,624 to 47,593,623 (2,000,000 blocks)\n",
      "Fetching pre split sonic chunk from 51,593,624 to 51,775,148\n",
      "Fetched 53 logs for <class 'web3._utils.datatypes.BalanceUpdated'> from 37,593,624 to 39,593,623 (2,000,000 blocks)\n",
      "Fetched 55 logs for <class 'web3._utils.datatypes.BalanceUpdated'> from 43,593,624 to 45,593,623 (2,000,000 blocks)\n",
      "Fetched 89 logs for <class 'web3._utils.datatypes.BalanceUpdated'> from 33,593,624 to 35,593,623 (2,000,000 blocks)\n",
      "Fetched 0 logs for <class 'web3._utils.datatypes.BalanceUpdated'> from 31,593,624 to 33,593,623 (2,000,000 blocks)\n",
      "Fetched 24 logs for <class 'web3._utils.datatypes.BalanceUpdated'> from 35,593,624 to 37,593,623 (2,000,000 blocks)\n",
      "Fetched 25 logs for <class 'web3._utils.datatypes.BalanceUpdated'> from 49,593,624 to 51,593,623 (2,000,000 blocks)\n",
      "Fetched 2 logs for <class 'web3._utils.datatypes.BalanceUpdated'> from 51,593,624 to 51,775,148 (181,525 blocks)\n",
      "Fetched 62 logs for <class 'web3._utils.datatypes.BalanceUpdated'> from 47,593,624 to 49,593,623 (2,000,000 blocks)\n",
      "Fetching pre split sonic chunk from 31,593,624 to 33,593,623\n",
      "Fetching pre split sonic chunk from 33,593,624 to 35,593,623\n",
      "Fetching pre split sonic chunk from 35,593,624 to 37,593,623\n",
      "Fetching pre split sonic chunk from 37,593,624 to 39,593,623\n",
      "Fetching pre split sonic chunk from 39,593,624 to 41,593,623\n",
      "Fetching pre split sonic chunk from 41,593,624 to 43,593,623\n",
      "Fetching pre split sonic chunk from 43,593,624 to 45,593,623\n",
      "Fetching pre split sonic chunk from 45,593,624 to 47,593,623\n",
      "Fetched 0 logs for <class 'web3._utils.datatypes.BalanceUpdated'> from 39,593,624 to 41,593,623 (2,000,000 blocks)\n",
      "Fetching pre split sonic chunk from 47,593,624 to 49,593,623\n",
      "Fetched 0 logs for <class 'web3._utils.datatypes.BalanceUpdated'> from 45,593,624 to 47,593,623 (2,000,000 blocks)\n",
      "Fetching pre split sonic chunk from 49,593,624 to 51,593,623\n",
      "Fetched 0 logs for <class 'web3._utils.datatypes.BalanceUpdated'> from 41,593,624 to 43,593,623 (2,000,000 blocks)\n",
      "Fetching pre split sonic chunk from 51,593,624 to 51,775,148\n",
      "Fetched 0 logs for <class 'web3._utils.datatypes.BalanceUpdated'> from 33,593,624 to 35,593,623 (2,000,000 blocks)\n",
      "Fetched 0 logs for <class 'web3._utils.datatypes.BalanceUpdated'> from 37,593,624 to 39,593,623 (2,000,000 blocks)\n",
      "Fetched 0 logs for <class 'web3._utils.datatypes.BalanceUpdated'> from 35,593,624 to 37,593,623 (2,000,000 blocks)\n",
      "Fetched 0 logs for <class 'web3._utils.datatypes.BalanceUpdated'> from 43,593,624 to 45,593,623 (2,000,000 blocks)\n",
      "Fetched 0 logs for <class 'web3._utils.datatypes.BalanceUpdated'> from 31,593,624 to 33,593,623 (2,000,000 blocks)\n",
      "Fetched 0 logs for <class 'web3._utils.datatypes.BalanceUpdated'> from 47,593,624 to 49,593,623 (2,000,000 blocks)\n",
      "Fetched 0 logs for <class 'web3._utils.datatypes.BalanceUpdated'> from 51,593,624 to 51,775,148 (181,525 blocks)\n",
      "Fetched 0 logs for <class 'web3._utils.datatypes.BalanceUpdated'> from 49,593,624 to 51,593,623 (2,000,000 blocks)\n",
      "Fetched 0 logs for <class 'web3._utils.datatypes.BalanceUpdated'> from 377,406,050 to 392,984,981 (15,578,932 blocks)\n",
      "Fetched 0 logs for <class 'web3._utils.datatypes.BalanceUpdated'> from 377,406,050 to 392,984,981 (15,578,932 blocks)\n",
      "Fetching pre split plasma chunk from 1,385,809 to 1,485,808\n",
      "Fetching pre split plasma chunk from 1,485,809 to 1,585,808\n",
      "Fetching pre split plasma chunk from 1,585,809 to 1,685,808\n",
      "Fetching pre split plasma chunk from 1,685,809 to 1,785,808\n",
      "Fetching pre split plasma chunk from 1,785,809 to 1,885,808\n",
      "Fetching pre split plasma chunk from 1,885,809 to 1,985,808\n",
      "Fetching pre split plasma chunk from 1,985,809 to 2,085,808\n",
      "Fetching pre split plasma chunk from 2,085,809 to 2,185,808\n",
      "Fetched 0 logs for <class 'web3._utils.datatypes.BalanceUpdated'> from 2,085,809 to 2,185,808 (100,000 blocks)\n",
      "Fetching pre split plasma chunk from 2,185,809 to 2,285,808\n",
      "Fetched 0 logs for <class 'web3._utils.datatypes.BalanceUpdated'> from 1,585,809 to 1,685,808 (100,000 blocks)\n",
      "Fetching pre split plasma chunk from 2,285,809 to 2,385,808\n",
      "Fetched 0 logs for <class 'web3._utils.datatypes.BalanceUpdated'> from 1,385,809 to 1,485,808 (100,000 blocks)\n",
      "Fetching pre split plasma chunk from 2,385,809 to 2,485,808\n",
      "Fetched 0 logs for <class 'web3._utils.datatypes.BalanceUpdated'> from 1,785,809 to 1,885,808 (100,000 blocks)\n",
      "Fetching pre split plasma chunk from 2,485,809 to 2,585,808\n",
      "Fetched 0 logs for <class 'web3._utils.datatypes.BalanceUpdated'> from 1,485,809 to 1,585,808 (100,000 blocks)\n",
      "Fetching pre split plasma chunk from 2,585,809 to 2,685,808\n",
      "Fetched 0 logs for <class 'web3._utils.datatypes.BalanceUpdated'> from 1,885,809 to 1,985,808 (100,000 blocks)\n",
      "Fetching pre split plasma chunk from 2,685,809 to 2,785,808\n",
      "Fetched 0 logs for <class 'web3._utils.datatypes.BalanceUpdated'> from 1,985,809 to 2,085,808 (100,000 blocks)\n",
      "Fetching pre split plasma chunk from 2,785,809 to 2,885,808\n",
      "Fetched 0 logs for <class 'web3._utils.datatypes.BalanceUpdated'> from 1,685,809 to 1,785,808 (100,000 blocks)\n",
      "Fetching pre split plasma chunk from 2,885,809 to 2,985,808\n",
      "Fetched 0 logs for <class 'web3._utils.datatypes.BalanceUpdated'> from 2,185,809 to 2,285,808 (100,000 blocks)\n",
      "Fetching pre split plasma chunk from 2,985,809 to 3,085,808\n",
      "Fetched 0 logs for <class 'web3._utils.datatypes.BalanceUpdated'> from 2,385,809 to 2,485,808 (100,000 blocks)\n",
      "Fetching pre split plasma chunk from 3,085,809 to 3,185,808\n",
      "Fetched 0 logs for <class 'web3._utils.datatypes.BalanceUpdated'> from 2,285,809 to 2,385,808 (100,000 blocks)\n",
      "Fetching pre split plasma chunk from 3,185,809 to 3,285,808\n",
      "Fetched 0 logs for <class 'web3._utils.datatypes.BalanceUpdated'> from 2,585,809 to 2,685,808 (100,000 blocks)\n",
      "Fetching pre split plasma chunk from 3,285,809 to 3,385,808\n",
      "Fetched 0 logs for <class 'web3._utils.datatypes.BalanceUpdated'> from 2,485,809 to 2,585,808 (100,000 blocks)\n",
      "Fetching pre split plasma chunk from 3,385,809 to 3,485,808\n",
      "Fetched 0 logs for <class 'web3._utils.datatypes.BalanceUpdated'> from 2,685,809 to 2,785,808 (100,000 blocks)\n",
      "Fetching pre split plasma chunk from 3,485,809 to 3,585,808\n",
      "Fetched 0 logs for <class 'web3._utils.datatypes.BalanceUpdated'> from 2,885,809 to 2,985,808 (100,000 blocks)\n",
      "Fetching pre split plasma chunk from 3,585,809 to 3,685,808\n",
      "Fetched 0 logs for <class 'web3._utils.datatypes.BalanceUpdated'> from 2,785,809 to 2,885,808 (100,000 blocks)\n",
      "Fetching pre split plasma chunk from 3,685,809 to 3,785,808\n",
      "Fetched 0 logs for <class 'web3._utils.datatypes.BalanceUpdated'> from 2,985,809 to 3,085,808 (100,000 blocks)\n",
      "Fetching pre split plasma chunk from 3,785,809 to 3,885,808\n",
      "Fetched 0 logs for <class 'web3._utils.datatypes.BalanceUpdated'> from 3,085,809 to 3,185,808 (100,000 blocks)\n",
      "Fetching pre split plasma chunk from 3,885,809 to 3,985,808\n",
      "Fetched 0 logs for <class 'web3._utils.datatypes.BalanceUpdated'> from 3,185,809 to 3,285,808 (100,000 blocks)\n",
      "Fetching pre split plasma chunk from 3,985,809 to 4,085,808\n",
      "Fetched 0 logs for <class 'web3._utils.datatypes.BalanceUpdated'> from 3,285,809 to 3,385,808 (100,000 blocks)\n",
      "Fetching pre split plasma chunk from 4,085,809 to 4,185,808\n",
      "Fetched 0 logs for <class 'web3._utils.datatypes.BalanceUpdated'> from 3,485,809 to 3,585,808 (100,000 blocks)\n",
      "Fetching pre split plasma chunk from 4,185,809 to 4,285,808\n",
      "Fetched 0 logs for <class 'web3._utils.datatypes.BalanceUpdated'> from 3,585,809 to 3,685,808 (100,000 blocks)\n",
      "Fetching pre split plasma chunk from 4,285,809 to 4,385,808\n",
      "Fetched 0 logs for <class 'web3._utils.datatypes.BalanceUpdated'> from 3,385,809 to 3,485,808 (100,000 blocks)\n",
      "Fetching pre split plasma chunk from 4,385,809 to 4,400,748\n",
      "Fetched 0 logs for <class 'web3._utils.datatypes.BalanceUpdated'> from 3,685,809 to 3,785,808 (100,000 blocks)\n",
      "Fetched 0 logs for <class 'web3._utils.datatypes.BalanceUpdated'> from 3,885,809 to 3,985,808 (100,000 blocks)\n",
      "Fetched 0 logs for <class 'web3._utils.datatypes.BalanceUpdated'> from 4,385,809 to 4,400,748 (14,940 blocks)\n",
      "Fetched 0 logs for <class 'web3._utils.datatypes.BalanceUpdated'> from 3,785,809 to 3,885,808 (100,000 blocks)\n",
      "Fetched 0 logs for <class 'web3._utils.datatypes.BalanceUpdated'> from 3,985,809 to 4,085,808 (100,000 blocks)\n",
      "Fetched 0 logs for <class 'web3._utils.datatypes.BalanceUpdated'> from 4,285,809 to 4,385,808 (100,000 blocks)\n",
      "Fetched 0 logs for <class 'web3._utils.datatypes.BalanceUpdated'> from 4,085,809 to 4,185,808 (100,000 blocks)\n",
      "Fetched 0 logs for <class 'web3._utils.datatypes.BalanceUpdated'> from 4,185,809 to 4,285,808 (100,000 blocks)\n",
      "Fetching pre split plasma chunk from 1,385,809 to 1,485,808\n",
      "Fetching pre split plasma chunk from 1,485,809 to 1,585,808\n",
      "Fetching pre split plasma chunk from 1,585,809 to 1,685,808\n",
      "Fetching pre split plasma chunk from 1,685,809 to 1,785,808\n",
      "Fetching pre split plasma chunk from 1,785,809 to 1,885,808\n",
      "Fetching pre split plasma chunk from 1,885,809 to 1,985,808\n",
      "Fetching pre split plasma chunk from 1,985,809 to 2,085,808\n",
      "Fetching pre split plasma chunk from 2,085,809 to 2,185,808\n",
      "Fetched 0 logs for <class 'web3._utils.datatypes.BalanceUpdated'> from 1,685,809 to 1,785,808 (100,000 blocks)\n",
      "Fetching pre split plasma chunk from 2,185,809 to 2,285,808\n",
      "Fetched 0 logs for <class 'web3._utils.datatypes.BalanceUpdated'> from 1,985,809 to 2,085,808 (100,000 blocks)\n",
      "Fetching pre split plasma chunk from 2,285,809 to 2,385,808\n",
      "Fetched 0 logs for <class 'web3._utils.datatypes.BalanceUpdated'> from 2,085,809 to 2,185,808 (100,000 blocks)\n",
      "Fetching pre split plasma chunk from 2,385,809 to 2,485,808\n",
      "Fetched 0 logs for <class 'web3._utils.datatypes.BalanceUpdated'> from 1,885,809 to 1,985,808 (100,000 blocks)\n",
      "Fetching pre split plasma chunk from 2,485,809 to 2,585,808\n",
      "Fetched 0 logs for <class 'web3._utils.datatypes.BalanceUpdated'> from 1,485,809 to 1,585,808 (100,000 blocks)\n",
      "Fetching pre split plasma chunk from 2,585,809 to 2,685,808\n",
      "Fetched 0 logs for <class 'web3._utils.datatypes.BalanceUpdated'> from 1,585,809 to 1,685,808 (100,000 blocks)\n",
      "Fetching pre split plasma chunk from 2,685,809 to 2,785,808\n",
      "Fetched 0 logs for <class 'web3._utils.datatypes.BalanceUpdated'> from 1,785,809 to 1,885,808 (100,000 blocks)\n",
      "Fetching pre split plasma chunk from 2,785,809 to 2,885,808\n",
      "Fetched 0 logs for <class 'web3._utils.datatypes.BalanceUpdated'> from 1,385,809 to 1,485,808 (100,000 blocks)\n",
      "Fetching pre split plasma chunk from 2,885,809 to 2,985,808\n",
      "Fetched 0 logs for <class 'web3._utils.datatypes.BalanceUpdated'> from 2,185,809 to 2,285,808 (100,000 blocks)\n",
      "Fetching pre split plasma chunk from 2,985,809 to 3,085,808\n",
      "Fetched 0 logs for <class 'web3._utils.datatypes.BalanceUpdated'> from 2,385,809 to 2,485,808 (100,000 blocks)\n",
      "Fetching pre split plasma chunk from 3,085,809 to 3,185,808\n",
      "Fetched 0 logs for <class 'web3._utils.datatypes.BalanceUpdated'> from 2,285,809 to 2,385,808 (100,000 blocks)\n",
      "Fetching pre split plasma chunk from 3,185,809 to 3,285,808\n",
      "Fetched 0 logs for <class 'web3._utils.datatypes.BalanceUpdated'> from 2,485,809 to 2,585,808 (100,000 blocks)\n",
      "Fetching pre split plasma chunk from 3,285,809 to 3,385,808\n",
      "Fetched 0 logs for <class 'web3._utils.datatypes.BalanceUpdated'> from 2,885,809 to 2,985,808 (100,000 blocks)\n",
      "Fetching pre split plasma chunk from 3,385,809 to 3,485,808\n",
      "Fetched 0 logs for <class 'web3._utils.datatypes.BalanceUpdated'> from 2,585,809 to 2,685,808 (100,000 blocks)\n",
      "Fetching pre split plasma chunk from 3,485,809 to 3,585,808\n",
      "Fetched 0 logs for <class 'web3._utils.datatypes.BalanceUpdated'> from 2,785,809 to 2,885,808 (100,000 blocks)\n",
      "Fetching pre split plasma chunk from 3,585,809 to 3,685,808\n",
      "Fetched 0 logs for <class 'web3._utils.datatypes.BalanceUpdated'> from 2,685,809 to 2,785,808 (100,000 blocks)\n",
      "Fetching pre split plasma chunk from 3,685,809 to 3,785,808\n",
      "Fetched 0 logs for <class 'web3._utils.datatypes.BalanceUpdated'> from 3,185,809 to 3,285,808 (100,000 blocks)\n",
      "Fetching pre split plasma chunk from 3,785,809 to 3,885,808\n",
      "Fetched 0 logs for <class 'web3._utils.datatypes.BalanceUpdated'> from 2,985,809 to 3,085,808 (100,000 blocks)\n",
      "Fetching pre split plasma chunk from 3,885,809 to 3,985,808\n",
      "Fetched 0 logs for <class 'web3._utils.datatypes.BalanceUpdated'> from 3,085,809 to 3,185,808 (100,000 blocks)\n",
      "Fetching pre split plasma chunk from 3,985,809 to 4,085,808\n",
      "Fetched 0 logs for <class 'web3._utils.datatypes.BalanceUpdated'> from 3,285,809 to 3,385,808 (100,000 blocks)\n",
      "Fetching pre split plasma chunk from 4,085,809 to 4,185,808\n",
      "Fetched 0 logs for <class 'web3._utils.datatypes.BalanceUpdated'> from 3,585,809 to 3,685,808 (100,000 blocks)\n",
      "Fetching pre split plasma chunk from 4,185,809 to 4,285,808\n",
      "Fetched 0 logs for <class 'web3._utils.datatypes.BalanceUpdated'> from 3,485,809 to 3,585,808 (100,000 blocks)\n",
      "Fetching pre split plasma chunk from 4,285,809 to 4,385,808\n",
      "Fetched 0 logs for <class 'web3._utils.datatypes.BalanceUpdated'> from 3,385,809 to 3,485,808 (100,000 blocks)\n",
      "Fetching pre split plasma chunk from 4,385,809 to 4,400,748\n",
      "Fetched 0 logs for <class 'web3._utils.datatypes.BalanceUpdated'> from 3,685,809 to 3,785,808 (100,000 blocks)\n",
      "Fetched 0 logs for <class 'web3._utils.datatypes.BalanceUpdated'> from 3,885,809 to 3,985,808 (100,000 blocks)\n",
      "Fetched 0 logs for <class 'web3._utils.datatypes.BalanceUpdated'> from 3,785,809 to 3,885,808 (100,000 blocks)\n",
      "Fetched 0 logs for <class 'web3._utils.datatypes.BalanceUpdated'> from 4,385,809 to 4,400,748 (14,940 blocks)\n",
      "Fetched 0 logs for <class 'web3._utils.datatypes.BalanceUpdated'> from 4,185,809 to 4,285,808 (100,000 blocks)\n",
      "Fetched 0 logs for <class 'web3._utils.datatypes.BalanceUpdated'> from 4,085,809 to 4,185,808 (100,000 blocks)\n",
      "Fetched 0 logs for <class 'web3._utils.datatypes.BalanceUpdated'> from 3,985,809 to 4,085,808 (100,000 blocks)\n",
      "Fetched 0 logs for <class 'web3._utils.datatypes.BalanceUpdated'> from 4,285,809 to 4,385,808 (100,000 blocks)\n"
     ]
    }
   ],
   "source": [
    "\"\"\"These are assumed to be ran after the production database is updated\"\"\"\n",
    "\n",
    "import pandas as pd\n",
    "import plotly.express as px\n",
    "\n",
    "from mainnet_launch.database.postgres_operations import (\n",
    "    _exec_sql_and_cache,\n",
    "    get_full_table_as_df_with_tx_hash,\n",
    "    get_full_table_as_df_with_block,\n",
    "    get_full_table_as_df,\n",
    ")\n",
    "from mainnet_launch.database.schema.full import *\n",
    "\n",
    "from mainnet_launch.slack_messages.post_message import post_slack_message, post_message_with_table\n",
    "from mainnet_launch.constants import *\n",
    "\n",
    "\n",
    "# claim vault rewards on the liqudation row contract\n",
    "from mainnet_launch.abis import TOKEMAK_LIQUIDATION_ROW_ABI\n",
    "from mainnet_launch.constants import LIQUIDATION_ROW2, LIQUIDATION_ROW\n",
    "\n",
    "from mainnet_launch.data_fetching.get_events import fetch_events\n",
    "from mainnet_launch.data_fetching.get_state_by_block import get_raw_state_by_blocks\n",
    "\n",
    "\n",
    "def fetch_all_balance_updated_events() -> str:\n",
    "\n",
    "    all_balance_updated = []\n",
    "    for chain in ALL_CHAINS:\n",
    "\n",
    "        liquidation_row1_contract = chain.client.eth.contract(\n",
    "            address=LIQUIDATION_ROW(chain), abi=TOKEMAK_LIQUIDATION_ROW_ABI\n",
    "        )\n",
    "\n",
    "        liquidation_row2_contract = chain.client.eth.contract(\n",
    "            address=LIQUIDATION_ROW2(chain), abi=TOKEMAK_LIQUIDATION_ROW_ABI\n",
    "        )\n",
    "\n",
    "        balanceUpdated_1 = fetch_events(\n",
    "            event=liquidation_row1_contract.events.BalanceUpdated,\n",
    "            chain=chain,\n",
    "        )\n",
    "\n",
    "        balance_updated_2 = fetch_events(\n",
    "            event=liquidation_row2_contract.events.BalanceUpdated,\n",
    "            chain=chain,\n",
    "        )\n",
    "\n",
    "        balance_updated = pd.concat([balanceUpdated_1, balance_updated_2], ignore_index=True)\n",
    "        blocks = balance_updated[\"block\"].unique().tolist()\n",
    "        if not blocks:\n",
    "            continue\n",
    "\n",
    "        block_datetimes = get_raw_state_by_blocks(calls=[], chain=chain, blocks=blocks, include_block_number=True)\n",
    "\n",
    "        block_to_datetime = block_datetimes.reset_index().set_index(\"block\")[\"timestamp\"].to_dict()\n",
    "        balance_updated[\"datetime\"] = balance_updated[\"block\"].map(block_to_datetime)\n",
    "        all_balance_updated.append(balance_updated)\n",
    "\n",
    "    df = pd.concat(all_balance_updated, ignore_index=True)\n",
    "    df.rename(columns={\"token\": \"token_address\", \"vault\": \"destination_vault_address\"}, inplace=True)\n",
    "    return df\n",
    "\n",
    "\n",
    "def fetch_recent_vault_claimed_reward_events(n: int) -> str:\n",
    "    balance_updated_events = fetch_all_balance_updated_events()\n",
    "\n",
    "    n_days_ago = pd.Timestamp.now() - pd.Timedelta(days=n)\n",
    "\n",
    "    get_recent_autopool_destination_states_query = f\"\"\"\n",
    "              SELECT\n",
    "                  autopool_destination_states.*,\n",
    "                  destinations.pool as pool,\n",
    "                  blocks.datetime\n",
    "              FROM autopool_destination_states\n",
    "              JOIN blocks\n",
    "                ON autopool_destination_states.block = blocks.block\n",
    "              AND autopool_destination_states.chain_id = blocks.chain_id\n",
    "              JOIN destinations\n",
    "                ON autopool_destination_states.destination_vault_address = destinations.destination_vault_address\n",
    "                AND autopool_destination_states.chain_id = destinations.chain_id\n",
    "\n",
    "              WHERE blocks.datetime > '{n_days_ago}'\n",
    "              ORDER BY blocks.datetime DESC\n",
    "    \"\"\"\n",
    "\n",
    "    get_recent_destination_states_query = f\"\"\"\n",
    "\n",
    "          SELECT\n",
    "          destination_states.*,\n",
    "          destinations.pool as pool,\n",
    "          blocks.datetime\n",
    "          FROM destination_states\n",
    "          JOIN blocks\n",
    "          ON destination_states.block = blocks.block\n",
    "          AND destination_states.chain_id = blocks.chain_id\n",
    "\n",
    "          JOIN destinations\n",
    "          ON destination_states.destination_vault_address = destinations.destination_vault_address\n",
    "          AND destination_states.chain_id = destinations.chain_id\n",
    "\n",
    "          WHERE blocks.datetime > '{n_days_ago}'\n",
    "          ORDER BY blocks.datetime DESC           \n",
    "\n",
    "    \"\"\"\n",
    "    destination_states = _exec_sql_and_cache(get_recent_destination_states_query)\n",
    "\n",
    "    autopool_destination_states = _exec_sql_and_cache(get_recent_autopool_destination_states_query)\n",
    "\n",
    "    autopool_destinations = get_full_table_as_df(AutopoolDestinations)\n",
    "    autopool_destinations[\"autopool_name\"] = autopool_destinations[\"autopool_vault_address\"].map(\n",
    "        {a.autopool_eth_addr: a.name for a in ALL_AUTOPOOLS}\n",
    "    )\n",
    "    destinations = get_full_table_as_df(Destinations)\n",
    "    autopool_destinations = pd.merge(\n",
    "        autopool_destinations, destinations, on=[\"destination_vault_address\", \"chain_id\"], how=\"left\"\n",
    "    )\n",
    "    return balance_updated_events, destination_states, autopool_destination_states, autopool_destinations\n",
    "\n",
    "\n",
    "# 8 days to catch morpho\n",
    "balance_updated_events, destination_states, autopool_destination_states, autopool_destinations = (\n",
    "    fetch_recent_vault_claimed_reward_events(n=8)\n",
    ")"
   ]
  },
  {
   "cell_type": "code",
   "execution_count": 2,
   "metadata": {},
   "outputs": [
    {
     "data": {
      "application/vnd.microsoft.datawrangler.viewer.v0+json": {
       "columns": [
        {
         "name": "index",
         "rawType": "int64",
         "type": "integer"
        },
        {
         "name": "event",
         "rawType": "object",
         "type": "string"
        },
        {
         "name": "block",
         "rawType": "object",
         "type": "unknown"
        },
        {
         "name": "transaction_index",
         "rawType": "object",
         "type": "unknown"
        },
        {
         "name": "log_index",
         "rawType": "object",
         "type": "unknown"
        },
        {
         "name": "hash",
         "rawType": "object",
         "type": "string"
        },
        {
         "name": "token_address",
         "rawType": "object",
         "type": "string"
        },
        {
         "name": "destination_vault_address",
         "rawType": "object",
         "type": "string"
        },
        {
         "name": "balance",
         "rawType": "object",
         "type": "unknown"
        },
        {
         "name": "datetime",
         "rawType": "datetime64[ns, UTC]",
         "type": "unknown"
        }
       ],
       "ref": "258f7690-b924-4f31-be4e-ca543548e51c",
       "rows": [
        [
         "0",
         "BalanceUpdated",
         "20778361",
         "110",
         "291",
         "0x2ca9da5c091439e2180d2e0ac07446369a20eb4fad451d747c3862c2f40e7c0a",
         "0xC0c293ce456fF0ED870ADd98a0828Dd4d2903DBF",
         "0x6DcB6797b1C0442587c2ad79745ef7BB487Fc2E2",
         "41397742589802445921",
         "2024-09-18 15:25:59+00:00"
        ],
        [
         "1",
         "BalanceUpdated",
         "20778361",
         "110",
         "292",
         "0x2ca9da5c091439e2180d2e0ac07446369a20eb4fad451d747c3862c2f40e7c0a",
         "0xba100000625a3754423978a60c9317c58a424e3D",
         "0x6DcB6797b1C0442587c2ad79745ef7BB487Fc2E2",
         "18233236064321120743",
         "2024-09-18 15:25:59+00:00"
        ],
        [
         "2",
         "BalanceUpdated",
         "20778361",
         "110",
         "298",
         "0x2ca9da5c091439e2180d2e0ac07446369a20eb4fad451d747c3862c2f40e7c0a",
         "0xA0b86991c6218b36c1d19D4a2e9Eb0cE3606eB48",
         "0x4E12227b350E8f8fEEc41A58D36cE2fB2e2d4575",
         "87393607",
         "2024-09-18 15:25:59+00:00"
        ],
        [
         "3",
         "BalanceUpdated",
         "20778361",
         "110",
         "308",
         "0x2ca9da5c091439e2180d2e0ac07446369a20eb4fad451d747c3862c2f40e7c0a",
         "0xC0c293ce456fF0ED870ADd98a0828Dd4d2903DBF",
         "0x2F7e096a400ded5D02762120b39A3aA4ABA072a4",
         "162030155527041797584",
         "2024-09-18 15:25:59+00:00"
        ],
        [
         "4",
         "BalanceUpdated",
         "20778361",
         "110",
         "309",
         "0x2ca9da5c091439e2180d2e0ac07446369a20eb4fad451d747c3862c2f40e7c0a",
         "0xba100000625a3754423978a60c9317c58a424e3D",
         "0x2F7e096a400ded5D02762120b39A3aA4ABA072a4",
         "31533671624096353080",
         "2024-09-18 15:25:59+00:00"
        ],
        [
         "5",
         "BalanceUpdated",
         "20778361",
         "110",
         "317",
         "0x2ca9da5c091439e2180d2e0ac07446369a20eb4fad451d747c3862c2f40e7c0a",
         "0x4e3FBD56CD56c3e72c1403e103b45Db9da5B9D2B",
         "0xE382BBd32C4E202185762eA433278f4ED9E6151E",
         "1620996181963588093",
         "2024-09-18 15:25:59+00:00"
        ],
        [
         "6",
         "BalanceUpdated",
         "20778361",
         "110",
         "318",
         "0x2ca9da5c091439e2180d2e0ac07446369a20eb4fad451d747c3862c2f40e7c0a",
         "0xD533a949740bb3306d119CC777fa900bA034cd52",
         "0xE382BBd32C4E202185762eA433278f4ED9E6151E",
         "540332060654529364369",
         "2024-09-18 15:25:59+00:00"
        ],
        [
         "7",
         "BalanceUpdated",
         "20778989",
         "144",
         "341",
         "0xc6fca5b7896540c9f33b87b6035075eddd67eb25afbc30e6200524b792c008db",
         "0xC0c293ce456fF0ED870ADd98a0828Dd4d2903DBF",
         "0x6DcB6797b1C0442587c2ad79745ef7BB487Fc2E2",
         "44166969371664363390",
         "2024-09-18 17:31:59+00:00"
        ],
        [
         "8",
         "BalanceUpdated",
         "20778989",
         "144",
         "342",
         "0xc6fca5b7896540c9f33b87b6035075eddd67eb25afbc30e6200524b792c008db",
         "0xba100000625a3754423978a60c9317c58a424e3D",
         "0x6DcB6797b1C0442587c2ad79745ef7BB487Fc2E2",
         "19452915265905565936",
         "2024-09-18 17:31:59+00:00"
        ],
        [
         "9",
         "BalanceUpdated",
         "20778989",
         "144",
         "348",
         "0xc6fca5b7896540c9f33b87b6035075eddd67eb25afbc30e6200524b792c008db",
         "0xA0b86991c6218b36c1d19D4a2e9Eb0cE3606eB48",
         "0x4E12227b350E8f8fEEc41A58D36cE2fB2e2d4575",
         "101491596",
         "2024-09-18 17:31:59+00:00"
        ],
        [
         "10",
         "BalanceUpdated",
         "20778989",
         "144",
         "358",
         "0xc6fca5b7896540c9f33b87b6035075eddd67eb25afbc30e6200524b792c008db",
         "0xC0c293ce456fF0ED870ADd98a0828Dd4d2903DBF",
         "0x2F7e096a400ded5D02762120b39A3aA4ABA072a4",
         "175534660969535412722",
         "2024-09-18 17:31:59+00:00"
        ],
        [
         "11",
         "BalanceUpdated",
         "20778989",
         "144",
         "359",
         "0xc6fca5b7896540c9f33b87b6035075eddd67eb25afbc30e6200524b792c008db",
         "0xba100000625a3754423978a60c9317c58a424e3D",
         "0x2F7e096a400ded5D02762120b39A3aA4ABA072a4",
         "34161865361763565154",
         "2024-09-18 17:31:59+00:00"
        ],
        [
         "12",
         "BalanceUpdated",
         "20778989",
         "144",
         "367",
         "0xc6fca5b7896540c9f33b87b6035075eddd67eb25afbc30e6200524b792c008db",
         "0x4e3FBD56CD56c3e72c1403e103b45Db9da5B9D2B",
         "0xd96E943098B2AE81155e98D7DC8BeaB34C539f01",
         "19321256671255581",
         "2024-09-18 17:31:59+00:00"
        ],
        [
         "13",
         "BalanceUpdated",
         "20778989",
         "144",
         "368",
         "0xc6fca5b7896540c9f33b87b6035075eddd67eb25afbc30e6200524b792c008db",
         "0xD533a949740bb3306d119CC777fa900bA034cd52",
         "0xd96E943098B2AE81155e98D7DC8BeaB34C539f01",
         "6440418890418527194",
         "2024-09-18 17:31:59+00:00"
        ],
        [
         "14",
         "BalanceUpdated",
         "20778989",
         "144",
         "376",
         "0xc6fca5b7896540c9f33b87b6035075eddd67eb25afbc30e6200524b792c008db",
         "0x4e3FBD56CD56c3e72c1403e103b45Db9da5B9D2B",
         "0xE382BBd32C4E202185762eA433278f4ED9E6151E",
         "1873184757358109893",
         "2024-09-18 17:31:59+00:00"
        ],
        [
         "15",
         "BalanceUpdated",
         "20778989",
         "144",
         "377",
         "0xc6fca5b7896540c9f33b87b6035075eddd67eb25afbc30e6200524b792c008db",
         "0xD533a949740bb3306d119CC777fa900bA034cd52",
         "0xE382BBd32C4E202185762eA433278f4ED9E6151E",
         "624394919119369964423",
         "2024-09-18 17:31:59+00:00"
        ],
        [
         "16",
         "BalanceUpdated",
         "20780776",
         "124",
         "431",
         "0x0f921031276095ddc3a9aa6af36424080260bb9b800c346bd554c93c30b9023e",
         "0xC0c293ce456fF0ED870ADd98a0828Dd4d2903DBF",
         "0x6DcB6797b1C0442587c2ad79745ef7BB487Fc2E2",
         "52073470214919742063",
         "2024-09-18 23:31:59+00:00"
        ],
        [
         "17",
         "BalanceUpdated",
         "20780776",
         "124",
         "432",
         "0x0f921031276095ddc3a9aa6af36424080260bb9b800c346bd554c93c30b9023e",
         "0xba100000625a3754423978a60c9317c58a424e3D",
         "0x6DcB6797b1C0442587c2ad79745ef7BB487Fc2E2",
         "22937712984718266735",
         "2024-09-18 23:31:59+00:00"
        ],
        [
         "18",
         "BalanceUpdated",
         "20780776",
         "124",
         "438",
         "0x0f921031276095ddc3a9aa6af36424080260bb9b800c346bd554c93c30b9023e",
         "0xA0b86991c6218b36c1d19D4a2e9Eb0cE3606eB48",
         "0x4E12227b350E8f8fEEc41A58D36cE2fB2e2d4575",
         "151234093",
         "2024-09-18 23:31:59+00:00"
        ],
        [
         "19",
         "BalanceUpdated",
         "20780776",
         "124",
         "448",
         "0x0f921031276095ddc3a9aa6af36424080260bb9b800c346bd554c93c30b9023e",
         "0xC0c293ce456fF0ED870ADd98a0828Dd4d2903DBF",
         "0x2F7e096a400ded5D02762120b39A3aA4ABA072a4",
         "214088925733943832803",
         "2024-09-18 23:31:59+00:00"
        ],
        [
         "20",
         "BalanceUpdated",
         "20780776",
         "124",
         "449",
         "0x0f921031276095ddc3a9aa6af36424080260bb9b800c346bd554c93c30b9023e",
         "0xba100000625a3754423978a60c9317c58a424e3D",
         "0x2F7e096a400ded5D02762120b39A3aA4ABA072a4",
         "41670990326527028834",
         "2024-09-18 23:31:59+00:00"
        ],
        [
         "21",
         "BalanceUpdated",
         "20780776",
         "124",
         "457",
         "0x0f921031276095ddc3a9aa6af36424080260bb9b800c346bd554c93c30b9023e",
         "0x4e3FBD56CD56c3e72c1403e103b45Db9da5B9D2B",
         "0xd96E943098B2AE81155e98D7DC8BeaB34C539f01",
         "223166722685146663",
         "2024-09-18 23:31:59+00:00"
        ],
        [
         "22",
         "BalanceUpdated",
         "20780776",
         "124",
         "458",
         "0x0f921031276095ddc3a9aa6af36424080260bb9b800c346bd554c93c30b9023e",
         "0xD533a949740bb3306d119CC777fa900bA034cd52",
         "0xd96E943098B2AE81155e98D7DC8BeaB34C539f01",
         "74388907561715554833",
         "2024-09-18 23:31:59+00:00"
        ],
        [
         "23",
         "BalanceUpdated",
         "20780776",
         "124",
         "466",
         "0x0f921031276095ddc3a9aa6af36424080260bb9b800c346bd554c93c30b9023e",
         "0x4e3FBD56CD56c3e72c1403e103b45Db9da5B9D2B",
         "0xE382BBd32C4E202185762eA433278f4ED9E6151E",
         "2593723544199600752",
         "2024-09-18 23:31:59+00:00"
        ],
        [
         "24",
         "BalanceUpdated",
         "20780776",
         "124",
         "467",
         "0x0f921031276095ddc3a9aa6af36424080260bb9b800c346bd554c93c30b9023e",
         "0xD533a949740bb3306d119CC777fa900bA034cd52",
         "0xE382BBd32C4E202185762eA433278f4ED9E6151E",
         "864574514733200251063",
         "2024-09-18 23:31:59+00:00"
        ],
        [
         "25",
         "BalanceUpdated",
         "20782567",
         "111",
         "295",
         "0x434eb02d4e3d7e44a5b7595bde7b3d0b2f6e9ad2dfb2d7ff474839266fe8e962",
         "0xC0c293ce456fF0ED870ADd98a0828Dd4d2903DBF",
         "0x6DcB6797b1C0442587c2ad79745ef7BB487Fc2E2",
         "59975578557706645600",
         "2024-09-19 05:31:47+00:00"
        ],
        [
         "26",
         "BalanceUpdated",
         "20782567",
         "111",
         "296",
         "0x434eb02d4e3d7e44a5b7595bde7b3d0b2f6e9ad2dfb2d7ff474839266fe8e962",
         "0xba100000625a3754423978a60c9317c58a424e3D",
         "0x6DcB6797b1C0442587c2ad79745ef7BB487Fc2E2",
         "26420574704798293910",
         "2024-09-19 05:31:47+00:00"
        ],
        [
         "27",
         "BalanceUpdated",
         "20782567",
         "111",
         "302",
         "0x434eb02d4e3d7e44a5b7595bde7b3d0b2f6e9ad2dfb2d7ff474839266fe8e962",
         "0xA0b86991c6218b36c1d19D4a2e9Eb0cE3606eB48",
         "0x4E12227b350E8f8fEEc41A58D36cE2fB2e2d4575",
         "212643369",
         "2024-09-19 05:31:47+00:00"
        ],
        [
         "28",
         "BalanceUpdated",
         "20782567",
         "111",
         "312",
         "0x434eb02d4e3d7e44a5b7595bde7b3d0b2f6e9ad2dfb2d7ff474839266fe8e962",
         "0xC0c293ce456fF0ED870ADd98a0828Dd4d2903DBF",
         "0x2F7e096a400ded5D02762120b39A3aA4ABA072a4",
         "252621771462372026082",
         "2024-09-19 05:31:47+00:00"
        ],
        [
         "29",
         "BalanceUpdated",
         "20782567",
         "111",
         "313",
         "0x434eb02d4e3d7e44a5b7595bde7b3d0b2f6e9ad2dfb2d7ff474839266fe8e962",
         "0xba100000625a3754423978a60c9317c58a424e3D",
         "0x2F7e096a400ded5D02762120b39A3aA4ABA072a4",
         "49175943555198957296",
         "2024-09-19 05:31:47+00:00"
        ],
        [
         "30",
         "BalanceUpdated",
         "20782567",
         "111",
         "321",
         "0x434eb02d4e3d7e44a5b7595bde7b3d0b2f6e9ad2dfb2d7ff474839266fe8e962",
         "0x4e3FBD56CD56c3e72c1403e103b45Db9da5B9D2B",
         "0xd96E943098B2AE81155e98D7DC8BeaB34C539f01",
         "503448673326235613",
         "2024-09-19 05:31:47+00:00"
        ],
        [
         "31",
         "BalanceUpdated",
         "20782567",
         "111",
         "322",
         "0x434eb02d4e3d7e44a5b7595bde7b3d0b2f6e9ad2dfb2d7ff474839266fe8e962",
         "0xD533a949740bb3306d119CC777fa900bA034cd52",
         "0xd96E943098B2AE81155e98D7DC8BeaB34C539f01",
         "167816224442078538342",
         "2024-09-19 05:31:47+00:00"
        ],
        [
         "32",
         "BalanceUpdated",
         "20782567",
         "111",
         "330",
         "0x434eb02d4e3d7e44a5b7595bde7b3d0b2f6e9ad2dfb2d7ff474839266fe8e962",
         "0x4e3FBD56CD56c3e72c1403e103b45Db9da5B9D2B",
         "0xE382BBd32C4E202185762eA433278f4ED9E6151E",
         "3313862031715068561",
         "2024-09-19 05:31:47+00:00"
        ],
        [
         "33",
         "BalanceUpdated",
         "20782567",
         "111",
         "331",
         "0x434eb02d4e3d7e44a5b7595bde7b3d0b2f6e9ad2dfb2d7ff474839266fe8e962",
         "0xD533a949740bb3306d119CC777fa900bA034cd52",
         "0xE382BBd32C4E202185762eA433278f4ED9E6151E",
         "1104620677238356187562",
         "2024-09-19 05:31:47+00:00"
        ],
        [
         "34",
         "BalanceUpdated",
         "20784361",
         "184",
         "367",
         "0x8ee31dcfa9ff33d78b893a976c205de050c44b9b6859c27f1d98abe159f2707e",
         "0xC0c293ce456fF0ED870ADd98a0828Dd4d2903DBF",
         "0x6DcB6797b1C0442587c2ad79745ef7BB487Fc2E2",
         "67890864401898974694",
         "2024-09-19 11:32:11+00:00"
        ],
        [
         "35",
         "BalanceUpdated",
         "20784361",
         "184",
         "368",
         "0x8ee31dcfa9ff33d78b893a976c205de050c44b9b6859c27f1d98abe159f2707e",
         "0xba100000625a3754423978a60c9317c58a424e3D",
         "0x6DcB6797b1C0442587c2ad79745ef7BB487Fc2E2",
         "29909244421076342222",
         "2024-09-19 11:32:11+00:00"
        ],
        [
         "36",
         "BalanceUpdated",
         "20784361",
         "184",
         "374",
         "0x8ee31dcfa9ff33d78b893a976c205de050c44b9b6859c27f1d98abe159f2707e",
         "0xA0b86991c6218b36c1d19D4a2e9Eb0cE3606eB48",
         "0x4E12227b350E8f8fEEc41A58D36cE2fB2e2d4575",
         "286996923",
         "2024-09-19 11:32:11+00:00"
        ],
        [
         "37",
         "BalanceUpdated",
         "20784361",
         "184",
         "384",
         "0x8ee31dcfa9ff33d78b893a976c205de050c44b9b6859c27f1d98abe159f2707e",
         "0xC0c293ce456fF0ED870ADd98a0828Dd4d2903DBF",
         "0x2F7e096a400ded5D02762120b39A3aA4ABA072a4",
         "291218874298740899772",
         "2024-09-19 11:32:11+00:00"
        ],
        [
         "38",
         "BalanceUpdated",
         "20784361",
         "184",
         "385",
         "0x8ee31dcfa9ff33d78b893a976c205de050c44b9b6859c27f1d98abe159f2707e",
         "0xba100000625a3754423978a60c9317c58a424e3D",
         "0x2F7e096a400ded5D02762120b39A3aA4ABA072a4",
         "56693411992145491414",
         "2024-09-19 11:32:11+00:00"
        ],
        [
         "39",
         "BalanceUpdated",
         "20784361",
         "184",
         "393",
         "0x8ee31dcfa9ff33d78b893a976c205de050c44b9b6859c27f1d98abe159f2707e",
         "0x4e3FBD56CD56c3e72c1403e103b45Db9da5B9D2B",
         "0xd96E943098B2AE81155e98D7DC8BeaB34C539f01",
         "884375173274303446",
         "2024-09-19 11:32:11+00:00"
        ],
        [
         "40",
         "BalanceUpdated",
         "20784361",
         "184",
         "394",
         "0x8ee31dcfa9ff33d78b893a976c205de050c44b9b6859c27f1d98abe159f2707e",
         "0xD533a949740bb3306d119CC777fa900bA034cd52",
         "0xd96E943098B2AE81155e98D7DC8BeaB34C539f01",
         "294791724424767816057",
         "2024-09-19 11:32:11+00:00"
        ],
        [
         "41",
         "BalanceUpdated",
         "20784361",
         "184",
         "402",
         "0x8ee31dcfa9ff33d78b893a976c205de050c44b9b6859c27f1d98abe159f2707e",
         "0x4e3FBD56CD56c3e72c1403e103b45Db9da5B9D2B",
         "0xE382BBd32C4E202185762eA433278f4ED9E6151E",
         "4035201417208605521",
         "2024-09-19 11:32:11+00:00"
        ],
        [
         "42",
         "BalanceUpdated",
         "20784361",
         "184",
         "403",
         "0x8ee31dcfa9ff33d78b893a976c205de050c44b9b6859c27f1d98abe159f2707e",
         "0xD533a949740bb3306d119CC777fa900bA034cd52",
         "0xE382BBd32C4E202185762eA433278f4ED9E6151E",
         "1345067139069535174484",
         "2024-09-19 11:32:11+00:00"
        ],
        [
         "43",
         "BalanceUpdated",
         "20786151",
         "149",
         "378",
         "0xfdeb6b46c7605a9d777428acd7c91721a6011a8f07b185efccdb385e838a994a",
         "0xC0c293ce456fF0ED870ADd98a0828Dd4d2903DBF",
         "0x6DcB6797b1C0442587c2ad79745ef7BB487Fc2E2",
         "75792972744685878231",
         "2024-09-19 17:31:59+00:00"
        ],
        [
         "44",
         "BalanceUpdated",
         "20786151",
         "149",
         "379",
         "0xfdeb6b46c7605a9d777428acd7c91721a6011a8f07b185efccdb385e838a994a",
         "0xba100000625a3754423978a60c9317c58a424e3D",
         "0x6DcB6797b1C0442587c2ad79745ef7BB487Fc2E2",
         "33392106141156369397",
         "2024-09-19 17:31:59+00:00"
        ],
        [
         "45",
         "BalanceUpdated",
         "20786151",
         "149",
         "385",
         "0xfdeb6b46c7605a9d777428acd7c91721a6011a8f07b185efccdb385e838a994a",
         "0xA0b86991c6218b36c1d19D4a2e9Eb0cE3606eB48",
         "0x4E12227b350E8f8fEEc41A58D36cE2fB2e2d4575",
         "305110013",
         "2024-09-19 17:31:59+00:00"
        ],
        [
         "46",
         "BalanceUpdated",
         "20786151",
         "149",
         "395",
         "0xfdeb6b46c7605a9d777428acd7c91721a6011a8f07b185efccdb385e838a994a",
         "0xC0c293ce456fF0ED870ADd98a0828Dd4d2903DBF",
         "0x2F7e096a400ded5D02762120b39A3aA4ABA072a4",
         "330092591856292804982",
         "2024-09-19 17:31:59+00:00"
        ],
        [
         "47",
         "BalanceUpdated",
         "20786151",
         "149",
         "396",
         "0xfdeb6b46c7605a9d777428acd7c91721a6011a8f07b185efccdb385e838a994a",
         "0xba100000625a3754423978a60c9317c58a424e3D",
         "0x2F7e096a400ded5D02762120b39A3aA4ABA072a4",
         "64264756038474002444",
         "2024-09-19 17:31:59+00:00"
        ],
        [
         "48",
         "BalanceUpdated",
         "20786151",
         "149",
         "404",
         "0xfdeb6b46c7605a9d777428acd7c91721a6011a8f07b185efccdb385e838a994a",
         "0x4e3FBD56CD56c3e72c1403e103b45Db9da5B9D2B",
         "0xd96E943098B2AE81155e98D7DC8BeaB34C539f01",
         "1264667500358972720",
         "2024-09-19 17:31:59+00:00"
        ],
        [
         "49",
         "BalanceUpdated",
         "20786151",
         "149",
         "405",
         "0xfdeb6b46c7605a9d777428acd7c91721a6011a8f07b185efccdb385e838a994a",
         "0xD533a949740bb3306d119CC777fa900bA034cd52",
         "0xd96E943098B2AE81155e98D7DC8BeaB34C539f01",
         "421555833452990907432",
         "2024-09-19 17:31:59+00:00"
        ]
       ],
       "shape": {
        "columns": 9,
        "rows": 25479
       }
      },
      "text/html": [
       "<div>\n",
       "<style scoped>\n",
       "    .dataframe tbody tr th:only-of-type {\n",
       "        vertical-align: middle;\n",
       "    }\n",
       "\n",
       "    .dataframe tbody tr th {\n",
       "        vertical-align: top;\n",
       "    }\n",
       "\n",
       "    .dataframe thead th {\n",
       "        text-align: right;\n",
       "    }\n",
       "</style>\n",
       "<table border=\"1\" class=\"dataframe\">\n",
       "  <thead>\n",
       "    <tr style=\"text-align: right;\">\n",
       "      <th></th>\n",
       "      <th>event</th>\n",
       "      <th>block</th>\n",
       "      <th>transaction_index</th>\n",
       "      <th>log_index</th>\n",
       "      <th>hash</th>\n",
       "      <th>token_address</th>\n",
       "      <th>destination_vault_address</th>\n",
       "      <th>balance</th>\n",
       "      <th>datetime</th>\n",
       "    </tr>\n",
       "  </thead>\n",
       "  <tbody>\n",
       "    <tr>\n",
       "      <th>0</th>\n",
       "      <td>BalanceUpdated</td>\n",
       "      <td>20778361</td>\n",
       "      <td>110</td>\n",
       "      <td>291</td>\n",
       "      <td>0x2ca9da5c091439e2180d2e0ac07446369a20eb4fad45...</td>\n",
       "      <td>0xC0c293ce456fF0ED870ADd98a0828Dd4d2903DBF</td>\n",
       "      <td>0x6DcB6797b1C0442587c2ad79745ef7BB487Fc2E2</td>\n",
       "      <td>41397742589802445921</td>\n",
       "      <td>2024-09-18 15:25:59+00:00</td>\n",
       "    </tr>\n",
       "    <tr>\n",
       "      <th>1</th>\n",
       "      <td>BalanceUpdated</td>\n",
       "      <td>20778361</td>\n",
       "      <td>110</td>\n",
       "      <td>292</td>\n",
       "      <td>0x2ca9da5c091439e2180d2e0ac07446369a20eb4fad45...</td>\n",
       "      <td>0xba100000625a3754423978a60c9317c58a424e3D</td>\n",
       "      <td>0x6DcB6797b1C0442587c2ad79745ef7BB487Fc2E2</td>\n",
       "      <td>18233236064321120743</td>\n",
       "      <td>2024-09-18 15:25:59+00:00</td>\n",
       "    </tr>\n",
       "    <tr>\n",
       "      <th>2</th>\n",
       "      <td>BalanceUpdated</td>\n",
       "      <td>20778361</td>\n",
       "      <td>110</td>\n",
       "      <td>298</td>\n",
       "      <td>0x2ca9da5c091439e2180d2e0ac07446369a20eb4fad45...</td>\n",
       "      <td>0xA0b86991c6218b36c1d19D4a2e9Eb0cE3606eB48</td>\n",
       "      <td>0x4E12227b350E8f8fEEc41A58D36cE2fB2e2d4575</td>\n",
       "      <td>87393607</td>\n",
       "      <td>2024-09-18 15:25:59+00:00</td>\n",
       "    </tr>\n",
       "    <tr>\n",
       "      <th>3</th>\n",
       "      <td>BalanceUpdated</td>\n",
       "      <td>20778361</td>\n",
       "      <td>110</td>\n",
       "      <td>308</td>\n",
       "      <td>0x2ca9da5c091439e2180d2e0ac07446369a20eb4fad45...</td>\n",
       "      <td>0xC0c293ce456fF0ED870ADd98a0828Dd4d2903DBF</td>\n",
       "      <td>0x2F7e096a400ded5D02762120b39A3aA4ABA072a4</td>\n",
       "      <td>162030155527041797584</td>\n",
       "      <td>2024-09-18 15:25:59+00:00</td>\n",
       "    </tr>\n",
       "    <tr>\n",
       "      <th>4</th>\n",
       "      <td>BalanceUpdated</td>\n",
       "      <td>20778361</td>\n",
       "      <td>110</td>\n",
       "      <td>309</td>\n",
       "      <td>0x2ca9da5c091439e2180d2e0ac07446369a20eb4fad45...</td>\n",
       "      <td>0xba100000625a3754423978a60c9317c58a424e3D</td>\n",
       "      <td>0x2F7e096a400ded5D02762120b39A3aA4ABA072a4</td>\n",
       "      <td>31533671624096353080</td>\n",
       "      <td>2024-09-18 15:25:59+00:00</td>\n",
       "    </tr>\n",
       "    <tr>\n",
       "      <th>...</th>\n",
       "      <td>...</td>\n",
       "      <td>...</td>\n",
       "      <td>...</td>\n",
       "      <td>...</td>\n",
       "      <td>...</td>\n",
       "      <td>...</td>\n",
       "      <td>...</td>\n",
       "      <td>...</td>\n",
       "      <td>...</td>\n",
       "    </tr>\n",
       "    <tr>\n",
       "      <th>25474</th>\n",
       "      <td>BalanceUpdated</td>\n",
       "      <td>51321307</td>\n",
       "      <td>0</td>\n",
       "      <td>8</td>\n",
       "      <td>0xb344a1313590dd568f15376aa5b578c39d5fafdd35fb...</td>\n",
       "      <td>0x2D0E0814E62D80056181F5cd932274405966e4f0</td>\n",
       "      <td>0xA9d35198aCF60EfD4EEab5CB81454aE9c265C6ac</td>\n",
       "      <td>2973535604767306074</td>\n",
       "      <td>2025-10-20 14:53:25+00:00</td>\n",
       "    </tr>\n",
       "    <tr>\n",
       "      <th>25475</th>\n",
       "      <td>BalanceUpdated</td>\n",
       "      <td>51513065</td>\n",
       "      <td>1</td>\n",
       "      <td>16</td>\n",
       "      <td>0x51dd2e4f4501a13c69b520484aa6793db72d5c554006...</td>\n",
       "      <td>0x2D0E0814E62D80056181F5cd932274405966e4f0</td>\n",
       "      <td>0xF628a2A6eA34c0f36cD331Cb2174627728E92768</td>\n",
       "      <td>1063231372998530270</td>\n",
       "      <td>2025-10-22 08:53:22+00:00</td>\n",
       "    </tr>\n",
       "    <tr>\n",
       "      <th>25476</th>\n",
       "      <td>BalanceUpdated</td>\n",
       "      <td>51513065</td>\n",
       "      <td>1</td>\n",
       "      <td>21</td>\n",
       "      <td>0x51dd2e4f4501a13c69b520484aa6793db72d5c554006...</td>\n",
       "      <td>0x2D0E0814E62D80056181F5cd932274405966e4f0</td>\n",
       "      <td>0xA9d35198aCF60EfD4EEab5CB81454aE9c265C6ac</td>\n",
       "      <td>4163696666159758733</td>\n",
       "      <td>2025-10-22 08:53:22+00:00</td>\n",
       "    </tr>\n",
       "    <tr>\n",
       "      <th>25477</th>\n",
       "      <td>BalanceUpdated</td>\n",
       "      <td>51659754</td>\n",
       "      <td>0</td>\n",
       "      <td>3</td>\n",
       "      <td>0x5ed7ac6d943e58514b1bf0fe78bb930e42a6f442c7ed...</td>\n",
       "      <td>0x2D0E0814E62D80056181F5cd932274405966e4f0</td>\n",
       "      <td>0xF628a2A6eA34c0f36cD331Cb2174627728E92768</td>\n",
       "      <td>763737392776689865</td>\n",
       "      <td>2025-10-23 14:53:22+00:00</td>\n",
       "    </tr>\n",
       "    <tr>\n",
       "      <th>25478</th>\n",
       "      <td>BalanceUpdated</td>\n",
       "      <td>51659754</td>\n",
       "      <td>0</td>\n",
       "      <td>8</td>\n",
       "      <td>0x5ed7ac6d943e58514b1bf0fe78bb930e42a6f442c7ed...</td>\n",
       "      <td>0x2D0E0814E62D80056181F5cd932274405966e4f0</td>\n",
       "      <td>0xA9d35198aCF60EfD4EEab5CB81454aE9c265C6ac</td>\n",
       "      <td>2827305674535284781</td>\n",
       "      <td>2025-10-23 14:53:22+00:00</td>\n",
       "    </tr>\n",
       "  </tbody>\n",
       "</table>\n",
       "<p>25479 rows × 9 columns</p>\n",
       "</div>"
      ],
      "text/plain": [
       "                event     block transaction_index log_index  \\\n",
       "0      BalanceUpdated  20778361               110       291   \n",
       "1      BalanceUpdated  20778361               110       292   \n",
       "2      BalanceUpdated  20778361               110       298   \n",
       "3      BalanceUpdated  20778361               110       308   \n",
       "4      BalanceUpdated  20778361               110       309   \n",
       "...               ...       ...               ...       ...   \n",
       "25474  BalanceUpdated  51321307                 0         8   \n",
       "25475  BalanceUpdated  51513065                 1        16   \n",
       "25476  BalanceUpdated  51513065                 1        21   \n",
       "25477  BalanceUpdated  51659754                 0         3   \n",
       "25478  BalanceUpdated  51659754                 0         8   \n",
       "\n",
       "                                                    hash  \\\n",
       "0      0x2ca9da5c091439e2180d2e0ac07446369a20eb4fad45...   \n",
       "1      0x2ca9da5c091439e2180d2e0ac07446369a20eb4fad45...   \n",
       "2      0x2ca9da5c091439e2180d2e0ac07446369a20eb4fad45...   \n",
       "3      0x2ca9da5c091439e2180d2e0ac07446369a20eb4fad45...   \n",
       "4      0x2ca9da5c091439e2180d2e0ac07446369a20eb4fad45...   \n",
       "...                                                  ...   \n",
       "25474  0xb344a1313590dd568f15376aa5b578c39d5fafdd35fb...   \n",
       "25475  0x51dd2e4f4501a13c69b520484aa6793db72d5c554006...   \n",
       "25476  0x51dd2e4f4501a13c69b520484aa6793db72d5c554006...   \n",
       "25477  0x5ed7ac6d943e58514b1bf0fe78bb930e42a6f442c7ed...   \n",
       "25478  0x5ed7ac6d943e58514b1bf0fe78bb930e42a6f442c7ed...   \n",
       "\n",
       "                                    token_address  \\\n",
       "0      0xC0c293ce456fF0ED870ADd98a0828Dd4d2903DBF   \n",
       "1      0xba100000625a3754423978a60c9317c58a424e3D   \n",
       "2      0xA0b86991c6218b36c1d19D4a2e9Eb0cE3606eB48   \n",
       "3      0xC0c293ce456fF0ED870ADd98a0828Dd4d2903DBF   \n",
       "4      0xba100000625a3754423978a60c9317c58a424e3D   \n",
       "...                                           ...   \n",
       "25474  0x2D0E0814E62D80056181F5cd932274405966e4f0   \n",
       "25475  0x2D0E0814E62D80056181F5cd932274405966e4f0   \n",
       "25476  0x2D0E0814E62D80056181F5cd932274405966e4f0   \n",
       "25477  0x2D0E0814E62D80056181F5cd932274405966e4f0   \n",
       "25478  0x2D0E0814E62D80056181F5cd932274405966e4f0   \n",
       "\n",
       "                        destination_vault_address                balance  \\\n",
       "0      0x6DcB6797b1C0442587c2ad79745ef7BB487Fc2E2   41397742589802445921   \n",
       "1      0x6DcB6797b1C0442587c2ad79745ef7BB487Fc2E2   18233236064321120743   \n",
       "2      0x4E12227b350E8f8fEEc41A58D36cE2fB2e2d4575               87393607   \n",
       "3      0x2F7e096a400ded5D02762120b39A3aA4ABA072a4  162030155527041797584   \n",
       "4      0x2F7e096a400ded5D02762120b39A3aA4ABA072a4   31533671624096353080   \n",
       "...                                           ...                    ...   \n",
       "25474  0xA9d35198aCF60EfD4EEab5CB81454aE9c265C6ac    2973535604767306074   \n",
       "25475  0xF628a2A6eA34c0f36cD331Cb2174627728E92768    1063231372998530270   \n",
       "25476  0xA9d35198aCF60EfD4EEab5CB81454aE9c265C6ac    4163696666159758733   \n",
       "25477  0xF628a2A6eA34c0f36cD331Cb2174627728E92768     763737392776689865   \n",
       "25478  0xA9d35198aCF60EfD4EEab5CB81454aE9c265C6ac    2827305674535284781   \n",
       "\n",
       "                       datetime  \n",
       "0     2024-09-18 15:25:59+00:00  \n",
       "1     2024-09-18 15:25:59+00:00  \n",
       "2     2024-09-18 15:25:59+00:00  \n",
       "3     2024-09-18 15:25:59+00:00  \n",
       "4     2024-09-18 15:25:59+00:00  \n",
       "...                         ...  \n",
       "25474 2025-10-20 14:53:25+00:00  \n",
       "25475 2025-10-22 08:53:22+00:00  \n",
       "25476 2025-10-22 08:53:22+00:00  \n",
       "25477 2025-10-23 14:53:22+00:00  \n",
       "25478 2025-10-23 14:53:22+00:00  \n",
       "\n",
       "[25479 rows x 9 columns]"
      ]
     },
     "execution_count": 2,
     "metadata": {},
     "output_type": "execute_result"
    }
   ],
   "source": [
    "balance_updated_events"
   ]
  },
  {
   "cell_type": "code",
   "execution_count": 5,
   "metadata": {},
   "outputs": [],
   "source": [
    "def determine_destinations_that_should_have_some_claims(destination_states, autopool_destination_states):\n",
    "\n",
    "    destinations_with_any_incentive_apr_recent_past = destination_states[(destination_states[\"incentive_apr\"] > 0)][\n",
    "        \"destination_vault_address\"\n",
    "    ].unique()\n",
    "\n",
    "    destinations_with_any_owned_shares = autopool_destination_states[(autopool_destination_states[\"owned_shares\"] > 0)][\n",
    "        \"destination_vault_address\"\n",
    "    ].unique()\n",
    "\n",
    "    destinations_that_should_have_some_claims = [\n",
    "        d for d in destinations_with_any_incentive_apr_recent_past if d in destinations_with_any_owned_shares\n",
    "    ]\n",
    "    return destinations_that_should_have_some_claims\n",
    "\n",
    "\n",
    "destinations_that_should_have_some_claims = determine_destinations_that_should_have_some_claims(\n",
    "    destination_states, autopool_destination_states\n",
    ")\n",
    "most_recent_balance_updated = balance_updated_events.groupby(\"destination_vault_address\")[\"datetime\"].max()"
   ]
  },
  {
   "cell_type": "code",
   "execution_count": null,
   "metadata": {},
   "outputs": [],
   "source": [
    "highest_recent_incentive_apr = (\n",
    "    destination_states.groupby(\"destination_vault_address\")[\"incentive_apr\"].max() * 100\n",
    ").to_dict()\n",
    "highest_recent_owned_shares = (\n",
    "    autopool_destination_states.groupby(\"destination_vault_address\")[\"owned_shares\"].max()\n",
    ").to_dict()\n",
    "most_recent_claims_by_destination = (\n",
    "    balance_updated_events.groupby(\"destination_vault_address\")[\"datetime\"].max().to_dict()\n",
    ")\n",
    "autopool_destinations[\"most_recent_claim\"] = autopool_destinations[\"destination_vault_address\"].map(\n",
    "    most_recent_claims_by_destination\n",
    ")\n",
    "\n",
    "autopool_destinations[\"time_since_last_claim\"] = pd.Timestamp.now(tz=\"UTC\") - autopool_destinations[\"most_recent_claim\"]\n",
    "autopool_destinations[\"days_since_last_claim\"] = (\n",
    "    autopool_destinations[\"time_since_last_claim\"].dt.total_seconds() / 86400\n",
    ")\n",
    "autopool_destinations[\"highest_recent_incentive_apr\"] = autopool_destinations[\"destination_vault_address\"].map(\n",
    "    highest_recent_incentive_apr\n",
    ")\n",
    "autopool_destinations[\"highest_recent_owned_shares\"] = autopool_destinations[\"destination_vault_address\"].map(\n",
    "    highest_recent_owned_shares\n",
    ")"
   ]
  },
  {
   "cell_type": "markdown",
   "metadata": {},
   "source": [
    "# Plasma and Arb look like they are not claiming rewards getting no Balance Updated events for those autopools\n",
    "\n",
    "\n"
   ]
  },
  {
   "cell_type": "code",
   "execution_count": null,
   "metadata": {},
   "outputs": [],
   "source": [
    "cols = [\n",
    "    \"autopool_name\",\n",
    "    \"underlying_name\",\n",
    "    \"time_since_last_claim\",\n",
    "    \"highest_recent_incentive_apr\",\n",
    "    \"highest_recent_owned_shares\",\n",
    "]\n",
    "missing_dfs = []\n",
    "sub_dfs = []\n",
    "\n",
    "for autopool in ALL_AUTOPOOLS:\n",
    "    sub_df = autopool_destinations[\n",
    "        (autopool_destinations[\"destination_vault_address\"].isin(destinations_that_should_have_some_claims))\n",
    "        & (autopool_destinations[\"autopool_name\"] == autopool.name)\n",
    "    ].drop_duplicates()\n",
    "    sub_dfs.append(sub_df)\n",
    "\n",
    "    missing_claims_df = sub_df[\n",
    "        (sub_df[\"time_since_last_claim\"] > pd.Timedelta(days=7)) | (sub_df[\"time_since_last_claim\"].isna())\n",
    "    ]\n",
    "    if missing_claims_df.empty:\n",
    "        continue\n",
    "\n",
    "    else:\n",
    "        missing_dfs.append(missing_claims_df)\n",
    "\n",
    "missing_df = pd.concat(missing_dfs, ignore_index=True)\n",
    "missing_df[\"time_since_last_claim\"] = missing_df[\"time_since_last_claim\"].dt.floor(\"min\")\n",
    "# post_message_with_table(\n",
    "#     f\"Missing Expected LiqudatorRow.BalanceUpdated events\", missing_df\n",
    "# )\n",
    "\n",
    "full_sub_df = pd.concat(sub_dfs, ignore_index=True)"
   ]
  },
  {
   "cell_type": "code",
   "execution_count": null,
   "metadata": {},
   "outputs": [],
   "source": [
    "full_sub_df[\"days_since_last_claim\"] = full_sub_df[\"time_since_last_claim\"].dt.total_seconds() / 86400"
   ]
  },
  {
   "cell_type": "code",
   "execution_count": 46,
   "metadata": {},
   "outputs": [
    {
     "data": {
      "application/vnd.microsoft.datawrangler.viewer.v0+json": {
       "columns": [
        {
         "name": "index",
         "rawType": "int64",
         "type": "integer"
        },
        {
         "name": "highest_recent_owned_shares",
         "rawType": "float64",
         "type": "float"
        },
        {
         "name": "highest_recent_incentive_apr",
         "rawType": "float64",
         "type": "float"
        },
        {
         "name": "underlying_name",
         "rawType": "object",
         "type": "string"
        },
        {
         "name": "autopool_name",
         "rawType": "object",
         "type": "string"
        }
       ],
       "ref": "cb9e098e-63cd-4f3b-b362-0a432460f994",
       "rows": [
        [
         "0",
         "136.75252712179224",
         "1.067908688621674",
         "pxETH/stETH",
         "autoETH"
        ],
        [
         "1",
         "861.5476733087961",
         "1.067908688621674",
         "pxETH/stETH",
         "autoETH"
        ],
        [
         "2",
         "3404.1802382378214",
         "0.7659871258765975",
         "weETH/WETH-ng",
         "autoETH"
        ],
        [
         "3",
         "390.98097789291865",
         "4.161843147817238",
         "wstETH-rETH-sfrxETH-BPT",
         "autoETH"
        ],
        [
         "4",
         "759.8587242411278",
         "1.9885062572974663",
         "Curve.fi Factory Pool: ETHx-ETH",
         "autoETH"
        ],
        [
         "5",
         "769.4065032784403",
         "1.650669689375435",
         "osETH/rETH",
         "autoETH"
        ],
        [
         "6",
         "22.73436608729124",
         "2.6422279095336023",
         "Balancer osETH-waWETH",
         "autoETH"
        ],
        [
         "7",
         "3703.8217909731247",
         "2.6422279095336023",
         "Balancer osETH-waWETH",
         "autoETH"
        ],
        [
         "8",
         "625.3809299074915",
         "0.1460604450363557",
         "pxETH/wETH",
         "autoETH"
        ],
        [
         "9",
         "3225.2188595444563",
         "0.3405801286302184",
         "Balancer Surge Fluid wstETH-wETH",
         "autoETH"
        ],
        [
         "10",
         "58.952327201733155",
         "1.3032073870432384",
         "Balancer ezETH-WETH Stable Pool",
         "balETH"
        ],
        [
         "11",
         "34.70497649587133",
         "6.288206653082875",
         "Balancer rsETH-WETH Stable Pool",
         "balETH"
        ],
        [
         "12",
         "3404.1802382378214",
         "0.7659871258765975",
         "weETH/WETH-ng",
         "autoLRT"
        ],
        [
         "13",
         "34.70497649587133",
         "6.288206653082875",
         "Balancer rsETH-WETH Stable Pool",
         "autoLRT"
        ],
        [
         "14",
         "58.952327201733155",
         "1.3032073870432384",
         "Balancer ezETH-WETH Stable Pool",
         "autoLRT"
        ],
        [
         "15",
         "27.246679646375288",
         "2.6153873470278937",
         "Volatile AMM - weETH.base/WETH",
         "baseETH"
        ],
        [
         "16",
         "379.3259226379655",
         "1.5108276265741787",
         "Balancer rETH-Aave wETH",
         "baseETH"
        ],
        [
         "17",
         "861.5476733087961",
         "1.067908688621674",
         "pxETH/stETH",
         "dineroETH"
        ],
        [
         "18",
         "3274560.4356444664",
         "8.840464776569661",
         "Balancer Aave GHO/USDT/USDC",
         "autoUSD"
        ],
        [
         "19",
         "771324.359259",
         "2.54",
         "Fluid Tether USD",
         "autoUSD"
        ],
        [
         "20",
         "506257.2565478544",
         "6.595678599231516",
         "Curve.fi Factory Plain Pool: crvUSD/USDC",
         "autoUSD"
        ],
        [
         "21",
         "5551202.754066",
         "2.4699999999999998",
         "Fluid USD Coin",
         "autoUSD"
        ],
        [
         "22",
         "365728.82621997374",
         "5.849267605254631",
         "sUSDe/crvUSD",
         "autoUSD"
        ],
        [
         "23",
         "188503.18287172203",
         "6.292782078423224",
         "Curve.fi Factory Plain Pool: crvUSD/USDT",
         "autoUSD"
        ],
        [
         "24",
         "5102109.349357587",
         "6.8901111249850375",
         "Balancer Aave USDC-Aave GHO",
         "baseUSD"
        ],
        [
         "25",
         "5613512.131825117",
         "0.8552383284734746",
         "Gauntlet USDC Prime",
         "baseUSD"
        ],
        [
         "26",
         "1840699.3736265767",
         "0.8552383284734746",
         "Gauntlet USDC Core",
         "baseUSD"
        ],
        [
         "27",
         "8403816.469969649",
         "1.4045458253579315",
         "Seamless USDC Vault",
         "baseUSD"
        ],
        [
         "28",
         "2011150.4132447767",
         "0.8552383284734739",
         "Moonwell Flagship USDC",
         "baseUSD"
        ],
        [
         "29",
         "9494574.3968",
         "3.4099999999999997",
         "Fluid USD Coin",
         "baseUSD"
        ],
        [
         "30",
         "98219.58637408982",
         "8.111292427224635",
         "2Pool",
         "sonicUSD"
        ],
        [
         "31",
         "1754266.25238",
         "3.92",
         "Fluid EURC",
         "baseEUR"
        ],
        [
         "32",
         "1303135.0375526117",
         "11.12589179612497",
         "Balancer Aave GHO/USDT/USDC",
         "arbUSD"
        ],
        [
         "33",
         "3397023.075849239",
         "4.054262100913435",
         "Gauntlet USDC Core",
         "arbUSD"
        ],
        [
         "34",
         "3682361.2867072695",
         "2.225367577929718",
         "Gauntlet USDC Prime",
         "arbUSD"
        ],
        [
         "35",
         "3908503.671189568",
         "6.593091867654946",
         "Steakhouse High Yield USDC",
         "arbUSD"
        ],
        [
         "36",
         "2081381.610353",
         "5.76",
         "Fluid USDT0",
         "plasmaUSD"
        ],
        [
         "37",
         "4697664.110860647",
         "6.413608416336112",
         "Ethena Surge sUSDe-waUSDT0",
         "plasmaUSD"
        ]
       ],
       "shape": {
        "columns": 4,
        "rows": 38
       }
      },
      "text/html": [
       "<div>\n",
       "<style scoped>\n",
       "    .dataframe tbody tr th:only-of-type {\n",
       "        vertical-align: middle;\n",
       "    }\n",
       "\n",
       "    .dataframe tbody tr th {\n",
       "        vertical-align: top;\n",
       "    }\n",
       "\n",
       "    .dataframe thead th {\n",
       "        text-align: right;\n",
       "    }\n",
       "</style>\n",
       "<table border=\"1\" class=\"dataframe\">\n",
       "  <thead>\n",
       "    <tr style=\"text-align: right;\">\n",
       "      <th></th>\n",
       "      <th>highest_recent_owned_shares</th>\n",
       "      <th>highest_recent_incentive_apr</th>\n",
       "      <th>underlying_name</th>\n",
       "      <th>autopool_name</th>\n",
       "    </tr>\n",
       "  </thead>\n",
       "  <tbody>\n",
       "    <tr>\n",
       "      <th>0</th>\n",
       "      <td>1.367525e+02</td>\n",
       "      <td>1.067909</td>\n",
       "      <td>pxETH/stETH</td>\n",
       "      <td>autoETH</td>\n",
       "    </tr>\n",
       "    <tr>\n",
       "      <th>1</th>\n",
       "      <td>8.615477e+02</td>\n",
       "      <td>1.067909</td>\n",
       "      <td>pxETH/stETH</td>\n",
       "      <td>autoETH</td>\n",
       "    </tr>\n",
       "    <tr>\n",
       "      <th>2</th>\n",
       "      <td>3.404180e+03</td>\n",
       "      <td>0.765987</td>\n",
       "      <td>weETH/WETH-ng</td>\n",
       "      <td>autoETH</td>\n",
       "    </tr>\n",
       "    <tr>\n",
       "      <th>3</th>\n",
       "      <td>3.909810e+02</td>\n",
       "      <td>4.161843</td>\n",
       "      <td>wstETH-rETH-sfrxETH-BPT</td>\n",
       "      <td>autoETH</td>\n",
       "    </tr>\n",
       "    <tr>\n",
       "      <th>4</th>\n",
       "      <td>7.598587e+02</td>\n",
       "      <td>1.988506</td>\n",
       "      <td>Curve.fi Factory Pool: ETHx-ETH</td>\n",
       "      <td>autoETH</td>\n",
       "    </tr>\n",
       "    <tr>\n",
       "      <th>5</th>\n",
       "      <td>7.694065e+02</td>\n",
       "      <td>1.650670</td>\n",
       "      <td>osETH/rETH</td>\n",
       "      <td>autoETH</td>\n",
       "    </tr>\n",
       "    <tr>\n",
       "      <th>6</th>\n",
       "      <td>2.273437e+01</td>\n",
       "      <td>2.642228</td>\n",
       "      <td>Balancer osETH-waWETH</td>\n",
       "      <td>autoETH</td>\n",
       "    </tr>\n",
       "    <tr>\n",
       "      <th>7</th>\n",
       "      <td>3.703822e+03</td>\n",
       "      <td>2.642228</td>\n",
       "      <td>Balancer osETH-waWETH</td>\n",
       "      <td>autoETH</td>\n",
       "    </tr>\n",
       "    <tr>\n",
       "      <th>8</th>\n",
       "      <td>6.253809e+02</td>\n",
       "      <td>0.146060</td>\n",
       "      <td>pxETH/wETH</td>\n",
       "      <td>autoETH</td>\n",
       "    </tr>\n",
       "    <tr>\n",
       "      <th>9</th>\n",
       "      <td>3.225219e+03</td>\n",
       "      <td>0.340580</td>\n",
       "      <td>Balancer Surge Fluid wstETH-wETH</td>\n",
       "      <td>autoETH</td>\n",
       "    </tr>\n",
       "    <tr>\n",
       "      <th>10</th>\n",
       "      <td>5.895233e+01</td>\n",
       "      <td>1.303207</td>\n",
       "      <td>Balancer ezETH-WETH Stable Pool</td>\n",
       "      <td>balETH</td>\n",
       "    </tr>\n",
       "    <tr>\n",
       "      <th>11</th>\n",
       "      <td>3.470498e+01</td>\n",
       "      <td>6.288207</td>\n",
       "      <td>Balancer rsETH-WETH Stable Pool</td>\n",
       "      <td>balETH</td>\n",
       "    </tr>\n",
       "    <tr>\n",
       "      <th>12</th>\n",
       "      <td>3.404180e+03</td>\n",
       "      <td>0.765987</td>\n",
       "      <td>weETH/WETH-ng</td>\n",
       "      <td>autoLRT</td>\n",
       "    </tr>\n",
       "    <tr>\n",
       "      <th>13</th>\n",
       "      <td>3.470498e+01</td>\n",
       "      <td>6.288207</td>\n",
       "      <td>Balancer rsETH-WETH Stable Pool</td>\n",
       "      <td>autoLRT</td>\n",
       "    </tr>\n",
       "    <tr>\n",
       "      <th>14</th>\n",
       "      <td>5.895233e+01</td>\n",
       "      <td>1.303207</td>\n",
       "      <td>Balancer ezETH-WETH Stable Pool</td>\n",
       "      <td>autoLRT</td>\n",
       "    </tr>\n",
       "    <tr>\n",
       "      <th>15</th>\n",
       "      <td>2.724668e+01</td>\n",
       "      <td>2.615387</td>\n",
       "      <td>Volatile AMM - weETH.base/WETH</td>\n",
       "      <td>baseETH</td>\n",
       "    </tr>\n",
       "    <tr>\n",
       "      <th>16</th>\n",
       "      <td>3.793259e+02</td>\n",
       "      <td>1.510828</td>\n",
       "      <td>Balancer rETH-Aave wETH</td>\n",
       "      <td>baseETH</td>\n",
       "    </tr>\n",
       "    <tr>\n",
       "      <th>17</th>\n",
       "      <td>8.615477e+02</td>\n",
       "      <td>1.067909</td>\n",
       "      <td>pxETH/stETH</td>\n",
       "      <td>dineroETH</td>\n",
       "    </tr>\n",
       "    <tr>\n",
       "      <th>18</th>\n",
       "      <td>3.274560e+06</td>\n",
       "      <td>8.840465</td>\n",
       "      <td>Balancer Aave GHO/USDT/USDC</td>\n",
       "      <td>autoUSD</td>\n",
       "    </tr>\n",
       "    <tr>\n",
       "      <th>19</th>\n",
       "      <td>7.713244e+05</td>\n",
       "      <td>2.540000</td>\n",
       "      <td>Fluid Tether USD</td>\n",
       "      <td>autoUSD</td>\n",
       "    </tr>\n",
       "    <tr>\n",
       "      <th>20</th>\n",
       "      <td>5.062573e+05</td>\n",
       "      <td>6.595679</td>\n",
       "      <td>Curve.fi Factory Plain Pool: crvUSD/USDC</td>\n",
       "      <td>autoUSD</td>\n",
       "    </tr>\n",
       "    <tr>\n",
       "      <th>21</th>\n",
       "      <td>5.551203e+06</td>\n",
       "      <td>2.470000</td>\n",
       "      <td>Fluid USD Coin</td>\n",
       "      <td>autoUSD</td>\n",
       "    </tr>\n",
       "    <tr>\n",
       "      <th>22</th>\n",
       "      <td>3.657288e+05</td>\n",
       "      <td>5.849268</td>\n",
       "      <td>sUSDe/crvUSD</td>\n",
       "      <td>autoUSD</td>\n",
       "    </tr>\n",
       "    <tr>\n",
       "      <th>23</th>\n",
       "      <td>1.885032e+05</td>\n",
       "      <td>6.292782</td>\n",
       "      <td>Curve.fi Factory Plain Pool: crvUSD/USDT</td>\n",
       "      <td>autoUSD</td>\n",
       "    </tr>\n",
       "    <tr>\n",
       "      <th>24</th>\n",
       "      <td>5.102109e+06</td>\n",
       "      <td>6.890111</td>\n",
       "      <td>Balancer Aave USDC-Aave GHO</td>\n",
       "      <td>baseUSD</td>\n",
       "    </tr>\n",
       "    <tr>\n",
       "      <th>25</th>\n",
       "      <td>5.613512e+06</td>\n",
       "      <td>0.855238</td>\n",
       "      <td>Gauntlet USDC Prime</td>\n",
       "      <td>baseUSD</td>\n",
       "    </tr>\n",
       "    <tr>\n",
       "      <th>26</th>\n",
       "      <td>1.840699e+06</td>\n",
       "      <td>0.855238</td>\n",
       "      <td>Gauntlet USDC Core</td>\n",
       "      <td>baseUSD</td>\n",
       "    </tr>\n",
       "    <tr>\n",
       "      <th>27</th>\n",
       "      <td>8.403816e+06</td>\n",
       "      <td>1.404546</td>\n",
       "      <td>Seamless USDC Vault</td>\n",
       "      <td>baseUSD</td>\n",
       "    </tr>\n",
       "    <tr>\n",
       "      <th>28</th>\n",
       "      <td>2.011150e+06</td>\n",
       "      <td>0.855238</td>\n",
       "      <td>Moonwell Flagship USDC</td>\n",
       "      <td>baseUSD</td>\n",
       "    </tr>\n",
       "    <tr>\n",
       "      <th>29</th>\n",
       "      <td>9.494574e+06</td>\n",
       "      <td>3.410000</td>\n",
       "      <td>Fluid USD Coin</td>\n",
       "      <td>baseUSD</td>\n",
       "    </tr>\n",
       "    <tr>\n",
       "      <th>30</th>\n",
       "      <td>9.821959e+04</td>\n",
       "      <td>8.111292</td>\n",
       "      <td>2Pool</td>\n",
       "      <td>sonicUSD</td>\n",
       "    </tr>\n",
       "    <tr>\n",
       "      <th>31</th>\n",
       "      <td>1.754266e+06</td>\n",
       "      <td>3.920000</td>\n",
       "      <td>Fluid EURC</td>\n",
       "      <td>baseEUR</td>\n",
       "    </tr>\n",
       "    <tr>\n",
       "      <th>32</th>\n",
       "      <td>1.303135e+06</td>\n",
       "      <td>11.125892</td>\n",
       "      <td>Balancer Aave GHO/USDT/USDC</td>\n",
       "      <td>arbUSD</td>\n",
       "    </tr>\n",
       "    <tr>\n",
       "      <th>33</th>\n",
       "      <td>3.397023e+06</td>\n",
       "      <td>4.054262</td>\n",
       "      <td>Gauntlet USDC Core</td>\n",
       "      <td>arbUSD</td>\n",
       "    </tr>\n",
       "    <tr>\n",
       "      <th>34</th>\n",
       "      <td>3.682361e+06</td>\n",
       "      <td>2.225368</td>\n",
       "      <td>Gauntlet USDC Prime</td>\n",
       "      <td>arbUSD</td>\n",
       "    </tr>\n",
       "    <tr>\n",
       "      <th>35</th>\n",
       "      <td>3.908504e+06</td>\n",
       "      <td>6.593092</td>\n",
       "      <td>Steakhouse High Yield USDC</td>\n",
       "      <td>arbUSD</td>\n",
       "    </tr>\n",
       "    <tr>\n",
       "      <th>36</th>\n",
       "      <td>2.081382e+06</td>\n",
       "      <td>5.760000</td>\n",
       "      <td>Fluid USDT0</td>\n",
       "      <td>plasmaUSD</td>\n",
       "    </tr>\n",
       "    <tr>\n",
       "      <th>37</th>\n",
       "      <td>4.697664e+06</td>\n",
       "      <td>6.413608</td>\n",
       "      <td>Ethena Surge sUSDe-waUSDT0</td>\n",
       "      <td>plasmaUSD</td>\n",
       "    </tr>\n",
       "  </tbody>\n",
       "</table>\n",
       "</div>"
      ],
      "text/plain": [
       "    highest_recent_owned_shares  highest_recent_incentive_apr  \\\n",
       "0                  1.367525e+02                      1.067909   \n",
       "1                  8.615477e+02                      1.067909   \n",
       "2                  3.404180e+03                      0.765987   \n",
       "3                  3.909810e+02                      4.161843   \n",
       "4                  7.598587e+02                      1.988506   \n",
       "5                  7.694065e+02                      1.650670   \n",
       "6                  2.273437e+01                      2.642228   \n",
       "7                  3.703822e+03                      2.642228   \n",
       "8                  6.253809e+02                      0.146060   \n",
       "9                  3.225219e+03                      0.340580   \n",
       "10                 5.895233e+01                      1.303207   \n",
       "11                 3.470498e+01                      6.288207   \n",
       "12                 3.404180e+03                      0.765987   \n",
       "13                 3.470498e+01                      6.288207   \n",
       "14                 5.895233e+01                      1.303207   \n",
       "15                 2.724668e+01                      2.615387   \n",
       "16                 3.793259e+02                      1.510828   \n",
       "17                 8.615477e+02                      1.067909   \n",
       "18                 3.274560e+06                      8.840465   \n",
       "19                 7.713244e+05                      2.540000   \n",
       "20                 5.062573e+05                      6.595679   \n",
       "21                 5.551203e+06                      2.470000   \n",
       "22                 3.657288e+05                      5.849268   \n",
       "23                 1.885032e+05                      6.292782   \n",
       "24                 5.102109e+06                      6.890111   \n",
       "25                 5.613512e+06                      0.855238   \n",
       "26                 1.840699e+06                      0.855238   \n",
       "27                 8.403816e+06                      1.404546   \n",
       "28                 2.011150e+06                      0.855238   \n",
       "29                 9.494574e+06                      3.410000   \n",
       "30                 9.821959e+04                      8.111292   \n",
       "31                 1.754266e+06                      3.920000   \n",
       "32                 1.303135e+06                     11.125892   \n",
       "33                 3.397023e+06                      4.054262   \n",
       "34                 3.682361e+06                      2.225368   \n",
       "35                 3.908504e+06                      6.593092   \n",
       "36                 2.081382e+06                      5.760000   \n",
       "37                 4.697664e+06                      6.413608   \n",
       "\n",
       "                             underlying_name autopool_name  \n",
       "0                                pxETH/stETH       autoETH  \n",
       "1                                pxETH/stETH       autoETH  \n",
       "2                              weETH/WETH-ng       autoETH  \n",
       "3                    wstETH-rETH-sfrxETH-BPT       autoETH  \n",
       "4            Curve.fi Factory Pool: ETHx-ETH       autoETH  \n",
       "5                                 osETH/rETH       autoETH  \n",
       "6                      Balancer osETH-waWETH       autoETH  \n",
       "7                      Balancer osETH-waWETH       autoETH  \n",
       "8                                 pxETH/wETH       autoETH  \n",
       "9           Balancer Surge Fluid wstETH-wETH       autoETH  \n",
       "10           Balancer ezETH-WETH Stable Pool        balETH  \n",
       "11           Balancer rsETH-WETH Stable Pool        balETH  \n",
       "12                             weETH/WETH-ng       autoLRT  \n",
       "13           Balancer rsETH-WETH Stable Pool       autoLRT  \n",
       "14           Balancer ezETH-WETH Stable Pool       autoLRT  \n",
       "15            Volatile AMM - weETH.base/WETH       baseETH  \n",
       "16                   Balancer rETH-Aave wETH       baseETH  \n",
       "17                               pxETH/stETH     dineroETH  \n",
       "18               Balancer Aave GHO/USDT/USDC       autoUSD  \n",
       "19                          Fluid Tether USD       autoUSD  \n",
       "20  Curve.fi Factory Plain Pool: crvUSD/USDC       autoUSD  \n",
       "21                            Fluid USD Coin       autoUSD  \n",
       "22                              sUSDe/crvUSD       autoUSD  \n",
       "23  Curve.fi Factory Plain Pool: crvUSD/USDT       autoUSD  \n",
       "24               Balancer Aave USDC-Aave GHO       baseUSD  \n",
       "25                       Gauntlet USDC Prime       baseUSD  \n",
       "26                        Gauntlet USDC Core       baseUSD  \n",
       "27                       Seamless USDC Vault       baseUSD  \n",
       "28                    Moonwell Flagship USDC       baseUSD  \n",
       "29                            Fluid USD Coin       baseUSD  \n",
       "30                                     2Pool      sonicUSD  \n",
       "31                                Fluid EURC       baseEUR  \n",
       "32               Balancer Aave GHO/USDT/USDC        arbUSD  \n",
       "33                        Gauntlet USDC Core        arbUSD  \n",
       "34                       Gauntlet USDC Prime        arbUSD  \n",
       "35                Steakhouse High Yield USDC        arbUSD  \n",
       "36                               Fluid USDT0     plasmaUSD  \n",
       "37                Ethena Surge sUSDe-waUSDT0     plasmaUSD  "
      ]
     },
     "execution_count": 46,
     "metadata": {},
     "output_type": "execute_result"
    }
   ],
   "source": [
    "full_sub_df[[\"highest_recent_owned_shares\", \"highest_recent_incentive_apr\", \"underlying_name\", \"autopool_name\"]]"
   ]
  },
  {
   "cell_type": "code",
   "execution_count": 56,
   "metadata": {},
   "outputs": [
    {
     "data": {
      "application/vnd.plotly.v1+json": {
       "config": {
        "plotlyServerURL": "https://plot.ly"
       },
       "data": [
        {
         "alignmentgroup": "True",
         "customdata": [
          [
           1.067908688621674,
           136.75252712179224,
           "autoETH"
          ],
          [
           1.067908688621674,
           861.5476733087961,
           "autoETH"
          ],
          [
           0.7659871258765975,
           3404.1802382378214,
           "autoETH"
          ],
          [
           4.161843147817238,
           390.98097789291865,
           "autoETH"
          ],
          [
           1.9885062572974663,
           759.8587242411278,
           "autoETH"
          ],
          [
           1.650669689375435,
           769.4065032784403,
           "autoETH"
          ],
          [
           2.6422279095336023,
           22.73436608729124,
           "autoETH"
          ],
          [
           2.6422279095336023,
           3703.8217909731247,
           "autoETH"
          ],
          [
           0.1460604450363557,
           625.3809299074915,
           "autoETH"
          ],
          [
           0.3405801286302184,
           3225.2188595444563,
           "autoETH"
          ],
          [
           1.3032073870432384,
           58.952327201733155,
           "balETH"
          ],
          [
           6.288206653082875,
           34.70497649587133,
           "balETH"
          ],
          [
           0.7659871258765975,
           3404.1802382378214,
           "autoLRT"
          ],
          [
           6.288206653082875,
           34.70497649587133,
           "autoLRT"
          ],
          [
           1.3032073870432384,
           58.952327201733155,
           "autoLRT"
          ],
          [
           2.6153873470278937,
           27.246679646375288,
           "baseETH"
          ],
          [
           1.5108276265741787,
           379.3259226379655,
           "baseETH"
          ],
          [
           1.067908688621674,
           861.5476733087961,
           "dineroETH"
          ],
          [
           8.840464776569661,
           3274560.4356444664,
           "autoUSD"
          ],
          [
           2.54,
           771324.359259,
           "autoUSD"
          ],
          [
           6.595678599231516,
           506257.2565478544,
           "autoUSD"
          ],
          [
           2.4699999999999998,
           5551202.754066,
           "autoUSD"
          ],
          [
           5.849267605254631,
           365728.82621997374,
           "autoUSD"
          ],
          [
           6.292782078423224,
           188503.18287172203,
           "autoUSD"
          ],
          [
           6.8901111249850375,
           5102109.349357587,
           "baseUSD"
          ],
          [
           0.8552383284734746,
           5613512.131825117,
           "baseUSD"
          ],
          [
           0.8552383284734746,
           1840699.3736265767,
           "baseUSD"
          ],
          [
           1.4045458253579315,
           8403816.469969649,
           "baseUSD"
          ],
          [
           0.8552383284734739,
           2011150.4132447767,
           "baseUSD"
          ],
          [
           3.4099999999999997,
           9494574.3968,
           "baseUSD"
          ],
          [
           8.111292427224635,
           98219.58637408982,
           "sonicUSD"
          ],
          [
           3.92,
           1754266.25238,
           "baseEUR"
          ],
          [
           11.12589179612497,
           1303135.0375526117,
           "arbUSD"
          ],
          [
           4.054262100913435,
           3397023.075849239,
           "arbUSD"
          ],
          [
           2.225367577929718,
           3682361.2867072695,
           "arbUSD"
          ],
          [
           6.593091867654946,
           3908503.671189568,
           "arbUSD"
          ],
          [
           5.76,
           2081381.610353,
           "plasmaUSD"
          ],
          [
           6.413608416336112,
           4697664.110860647,
           "plasmaUSD"
          ]
         ],
         "hovertemplate": "underlying_name=%{x}<br>days_since_last_claim=%{y}<br>highest_recent_incentive_apr=%{customdata[0]}<br>highest_recent_owned_shares=%{customdata[1]}<br>autopool_name=%{customdata[2]}<extra></extra>",
         "legendgroup": "",
         "marker": {
          "color": "#636efa",
          "pattern": {
           "shape": ""
          }
         },
         "name": "",
         "offsetgroup": "",
         "orientation": "v",
         "showlegend": false,
         "textposition": "auto",
         "type": "bar",
         "x": [
          "pxETH/stETH",
          "pxETH/stETH",
          "weETH/WETH-ng",
          "wstETH-rETH-sfrxETH-BPT",
          "Curve.fi Factory Pool: ETHx-ETH",
          "osETH/rETH",
          "Balancer osETH-waWETH",
          "Balancer osETH-waWETH",
          "pxETH/wETH",
          "Balancer Surge Fluid wstETH-wETH",
          "Balancer ezETH-WETH Stable Pool",
          "Balancer rsETH-WETH Stable Pool",
          "weETH/WETH-ng",
          "Balancer rsETH-WETH Stable Pool",
          "Balancer ezETH-WETH Stable Pool",
          "Volatile AMM - weETH.base/WETH",
          "Balancer rETH-Aave wETH",
          "pxETH/stETH",
          "Balancer Aave GHO/USDT/USDC",
          "Fluid Tether USD",
          "Curve.fi Factory Plain Pool: crvUSD/USDC",
          "Fluid USD Coin",
          "sUSDe/crvUSD",
          "Curve.fi Factory Plain Pool: crvUSD/USDT",
          "Balancer Aave USDC-Aave GHO",
          "Gauntlet USDC Prime",
          "Gauntlet USDC Core",
          "Seamless USDC Vault",
          "Moonwell Flagship USDC",
          "Fluid USD Coin",
          "2Pool",
          "Fluid EURC",
          "Balancer Aave GHO/USDT/USDC",
          "Gauntlet USDC Core",
          "Gauntlet USDC Prime",
          "Steakhouse High Yield USDC",
          "Fluid USDT0",
          "Ethena Surge sUSDe-waUSDT0"
         ],
         "xaxis": "x",
         "y": [
          8.54847489957176,
          8.54847489957176,
          0.5495860106828704,
          0.5495860106828704,
          0.5495860106828704,
          0.5495860106828704,
          0.5495860106828704,
          0.5495860106828704,
          0.5495860106828704,
          0.5495860106828704,
          0.5495860106828704,
          0.5495860106828704,
          0.5495860106828704,
          0.5495860106828704,
          0.5495860106828704,
          0.5537295292013888,
          0.5537295292013888,
          8.54847489957176,
          0.9291693440162037,
          0.9291693440162037,
          0.9291693440162037,
          2.5487526773495373,
          0.9291693440162037,
          0.9291693440162037,
          0.553428603275463,
          0.8036369366087963,
          0.8036369366087963,
          0.8036369366087963,
          0.8036369366087963,
          4.053636936608796,
          13.471692492164353,
          4.053474899571759,
          null,
          null,
          null,
          null,
          null,
          null
         ],
         "yaxis": "y"
        }
       ],
       "layout": {
        "barmode": "relative",
        "legend": {
         "tracegroupgap": 0
        },
        "template": {
         "data": {
          "bar": [
           {
            "error_x": {
             "color": "#2a3f5f"
            },
            "error_y": {
             "color": "#2a3f5f"
            },
            "marker": {
             "line": {
              "color": "#E5ECF6",
              "width": 0.5
             },
             "pattern": {
              "fillmode": "overlay",
              "size": 10,
              "solidity": 0.2
             }
            },
            "type": "bar"
           }
          ],
          "barpolar": [
           {
            "marker": {
             "line": {
              "color": "#E5ECF6",
              "width": 0.5
             },
             "pattern": {
              "fillmode": "overlay",
              "size": 10,
              "solidity": 0.2
             }
            },
            "type": "barpolar"
           }
          ],
          "carpet": [
           {
            "aaxis": {
             "endlinecolor": "#2a3f5f",
             "gridcolor": "white",
             "linecolor": "white",
             "minorgridcolor": "white",
             "startlinecolor": "#2a3f5f"
            },
            "baxis": {
             "endlinecolor": "#2a3f5f",
             "gridcolor": "white",
             "linecolor": "white",
             "minorgridcolor": "white",
             "startlinecolor": "#2a3f5f"
            },
            "type": "carpet"
           }
          ],
          "choropleth": [
           {
            "colorbar": {
             "outlinewidth": 0,
             "ticks": ""
            },
            "type": "choropleth"
           }
          ],
          "contour": [
           {
            "colorbar": {
             "outlinewidth": 0,
             "ticks": ""
            },
            "colorscale": [
             [
              0,
              "#0d0887"
             ],
             [
              0.1111111111111111,
              "#46039f"
             ],
             [
              0.2222222222222222,
              "#7201a8"
             ],
             [
              0.3333333333333333,
              "#9c179e"
             ],
             [
              0.4444444444444444,
              "#bd3786"
             ],
             [
              0.5555555555555556,
              "#d8576b"
             ],
             [
              0.6666666666666666,
              "#ed7953"
             ],
             [
              0.7777777777777778,
              "#fb9f3a"
             ],
             [
              0.8888888888888888,
              "#fdca26"
             ],
             [
              1,
              "#f0f921"
             ]
            ],
            "type": "contour"
           }
          ],
          "contourcarpet": [
           {
            "colorbar": {
             "outlinewidth": 0,
             "ticks": ""
            },
            "type": "contourcarpet"
           }
          ],
          "heatmap": [
           {
            "colorbar": {
             "outlinewidth": 0,
             "ticks": ""
            },
            "colorscale": [
             [
              0,
              "#0d0887"
             ],
             [
              0.1111111111111111,
              "#46039f"
             ],
             [
              0.2222222222222222,
              "#7201a8"
             ],
             [
              0.3333333333333333,
              "#9c179e"
             ],
             [
              0.4444444444444444,
              "#bd3786"
             ],
             [
              0.5555555555555556,
              "#d8576b"
             ],
             [
              0.6666666666666666,
              "#ed7953"
             ],
             [
              0.7777777777777778,
              "#fb9f3a"
             ],
             [
              0.8888888888888888,
              "#fdca26"
             ],
             [
              1,
              "#f0f921"
             ]
            ],
            "type": "heatmap"
           }
          ],
          "heatmapgl": [
           {
            "colorbar": {
             "outlinewidth": 0,
             "ticks": ""
            },
            "colorscale": [
             [
              0,
              "#0d0887"
             ],
             [
              0.1111111111111111,
              "#46039f"
             ],
             [
              0.2222222222222222,
              "#7201a8"
             ],
             [
              0.3333333333333333,
              "#9c179e"
             ],
             [
              0.4444444444444444,
              "#bd3786"
             ],
             [
              0.5555555555555556,
              "#d8576b"
             ],
             [
              0.6666666666666666,
              "#ed7953"
             ],
             [
              0.7777777777777778,
              "#fb9f3a"
             ],
             [
              0.8888888888888888,
              "#fdca26"
             ],
             [
              1,
              "#f0f921"
             ]
            ],
            "type": "heatmapgl"
           }
          ],
          "histogram": [
           {
            "marker": {
             "pattern": {
              "fillmode": "overlay",
              "size": 10,
              "solidity": 0.2
             }
            },
            "type": "histogram"
           }
          ],
          "histogram2d": [
           {
            "colorbar": {
             "outlinewidth": 0,
             "ticks": ""
            },
            "colorscale": [
             [
              0,
              "#0d0887"
             ],
             [
              0.1111111111111111,
              "#46039f"
             ],
             [
              0.2222222222222222,
              "#7201a8"
             ],
             [
              0.3333333333333333,
              "#9c179e"
             ],
             [
              0.4444444444444444,
              "#bd3786"
             ],
             [
              0.5555555555555556,
              "#d8576b"
             ],
             [
              0.6666666666666666,
              "#ed7953"
             ],
             [
              0.7777777777777778,
              "#fb9f3a"
             ],
             [
              0.8888888888888888,
              "#fdca26"
             ],
             [
              1,
              "#f0f921"
             ]
            ],
            "type": "histogram2d"
           }
          ],
          "histogram2dcontour": [
           {
            "colorbar": {
             "outlinewidth": 0,
             "ticks": ""
            },
            "colorscale": [
             [
              0,
              "#0d0887"
             ],
             [
              0.1111111111111111,
              "#46039f"
             ],
             [
              0.2222222222222222,
              "#7201a8"
             ],
             [
              0.3333333333333333,
              "#9c179e"
             ],
             [
              0.4444444444444444,
              "#bd3786"
             ],
             [
              0.5555555555555556,
              "#d8576b"
             ],
             [
              0.6666666666666666,
              "#ed7953"
             ],
             [
              0.7777777777777778,
              "#fb9f3a"
             ],
             [
              0.8888888888888888,
              "#fdca26"
             ],
             [
              1,
              "#f0f921"
             ]
            ],
            "type": "histogram2dcontour"
           }
          ],
          "mesh3d": [
           {
            "colorbar": {
             "outlinewidth": 0,
             "ticks": ""
            },
            "type": "mesh3d"
           }
          ],
          "parcoords": [
           {
            "line": {
             "colorbar": {
              "outlinewidth": 0,
              "ticks": ""
             }
            },
            "type": "parcoords"
           }
          ],
          "pie": [
           {
            "automargin": true,
            "type": "pie"
           }
          ],
          "scatter": [
           {
            "fillpattern": {
             "fillmode": "overlay",
             "size": 10,
             "solidity": 0.2
            },
            "type": "scatter"
           }
          ],
          "scatter3d": [
           {
            "line": {
             "colorbar": {
              "outlinewidth": 0,
              "ticks": ""
             }
            },
            "marker": {
             "colorbar": {
              "outlinewidth": 0,
              "ticks": ""
             }
            },
            "type": "scatter3d"
           }
          ],
          "scattercarpet": [
           {
            "marker": {
             "colorbar": {
              "outlinewidth": 0,
              "ticks": ""
             }
            },
            "type": "scattercarpet"
           }
          ],
          "scattergeo": [
           {
            "marker": {
             "colorbar": {
              "outlinewidth": 0,
              "ticks": ""
             }
            },
            "type": "scattergeo"
           }
          ],
          "scattergl": [
           {
            "marker": {
             "colorbar": {
              "outlinewidth": 0,
              "ticks": ""
             }
            },
            "type": "scattergl"
           }
          ],
          "scattermapbox": [
           {
            "marker": {
             "colorbar": {
              "outlinewidth": 0,
              "ticks": ""
             }
            },
            "type": "scattermapbox"
           }
          ],
          "scatterpolar": [
           {
            "marker": {
             "colorbar": {
              "outlinewidth": 0,
              "ticks": ""
             }
            },
            "type": "scatterpolar"
           }
          ],
          "scatterpolargl": [
           {
            "marker": {
             "colorbar": {
              "outlinewidth": 0,
              "ticks": ""
             }
            },
            "type": "scatterpolargl"
           }
          ],
          "scatterternary": [
           {
            "marker": {
             "colorbar": {
              "outlinewidth": 0,
              "ticks": ""
             }
            },
            "type": "scatterternary"
           }
          ],
          "surface": [
           {
            "colorbar": {
             "outlinewidth": 0,
             "ticks": ""
            },
            "colorscale": [
             [
              0,
              "#0d0887"
             ],
             [
              0.1111111111111111,
              "#46039f"
             ],
             [
              0.2222222222222222,
              "#7201a8"
             ],
             [
              0.3333333333333333,
              "#9c179e"
             ],
             [
              0.4444444444444444,
              "#bd3786"
             ],
             [
              0.5555555555555556,
              "#d8576b"
             ],
             [
              0.6666666666666666,
              "#ed7953"
             ],
             [
              0.7777777777777778,
              "#fb9f3a"
             ],
             [
              0.8888888888888888,
              "#fdca26"
             ],
             [
              1,
              "#f0f921"
             ]
            ],
            "type": "surface"
           }
          ],
          "table": [
           {
            "cells": {
             "fill": {
              "color": "#EBF0F8"
             },
             "line": {
              "color": "white"
             }
            },
            "header": {
             "fill": {
              "color": "#C8D4E3"
             },
             "line": {
              "color": "white"
             }
            },
            "type": "table"
           }
          ]
         },
         "layout": {
          "annotationdefaults": {
           "arrowcolor": "#2a3f5f",
           "arrowhead": 0,
           "arrowwidth": 1
          },
          "autotypenumbers": "strict",
          "coloraxis": {
           "colorbar": {
            "outlinewidth": 0,
            "ticks": ""
           }
          },
          "colorscale": {
           "diverging": [
            [
             0,
             "#8e0152"
            ],
            [
             0.1,
             "#c51b7d"
            ],
            [
             0.2,
             "#de77ae"
            ],
            [
             0.3,
             "#f1b6da"
            ],
            [
             0.4,
             "#fde0ef"
            ],
            [
             0.5,
             "#f7f7f7"
            ],
            [
             0.6,
             "#e6f5d0"
            ],
            [
             0.7,
             "#b8e186"
            ],
            [
             0.8,
             "#7fbc41"
            ],
            [
             0.9,
             "#4d9221"
            ],
            [
             1,
             "#276419"
            ]
           ],
           "sequential": [
            [
             0,
             "#0d0887"
            ],
            [
             0.1111111111111111,
             "#46039f"
            ],
            [
             0.2222222222222222,
             "#7201a8"
            ],
            [
             0.3333333333333333,
             "#9c179e"
            ],
            [
             0.4444444444444444,
             "#bd3786"
            ],
            [
             0.5555555555555556,
             "#d8576b"
            ],
            [
             0.6666666666666666,
             "#ed7953"
            ],
            [
             0.7777777777777778,
             "#fb9f3a"
            ],
            [
             0.8888888888888888,
             "#fdca26"
            ],
            [
             1,
             "#f0f921"
            ]
           ],
           "sequentialminus": [
            [
             0,
             "#0d0887"
            ],
            [
             0.1111111111111111,
             "#46039f"
            ],
            [
             0.2222222222222222,
             "#7201a8"
            ],
            [
             0.3333333333333333,
             "#9c179e"
            ],
            [
             0.4444444444444444,
             "#bd3786"
            ],
            [
             0.5555555555555556,
             "#d8576b"
            ],
            [
             0.6666666666666666,
             "#ed7953"
            ],
            [
             0.7777777777777778,
             "#fb9f3a"
            ],
            [
             0.8888888888888888,
             "#fdca26"
            ],
            [
             1,
             "#f0f921"
            ]
           ]
          },
          "colorway": [
           "#636efa",
           "#EF553B",
           "#00cc96",
           "#ab63fa",
           "#FFA15A",
           "#19d3f3",
           "#FF6692",
           "#B6E880",
           "#FF97FF",
           "#FECB52"
          ],
          "font": {
           "color": "#2a3f5f"
          },
          "geo": {
           "bgcolor": "white",
           "lakecolor": "white",
           "landcolor": "#E5ECF6",
           "showlakes": true,
           "showland": true,
           "subunitcolor": "white"
          },
          "hoverlabel": {
           "align": "left"
          },
          "hovermode": "closest",
          "mapbox": {
           "style": "light"
          },
          "paper_bgcolor": "white",
          "plot_bgcolor": "#E5ECF6",
          "polar": {
           "angularaxis": {
            "gridcolor": "white",
            "linecolor": "white",
            "ticks": ""
           },
           "bgcolor": "#E5ECF6",
           "radialaxis": {
            "gridcolor": "white",
            "linecolor": "white",
            "ticks": ""
           }
          },
          "scene": {
           "xaxis": {
            "backgroundcolor": "#E5ECF6",
            "gridcolor": "white",
            "gridwidth": 2,
            "linecolor": "white",
            "showbackground": true,
            "ticks": "",
            "zerolinecolor": "white"
           },
           "yaxis": {
            "backgroundcolor": "#E5ECF6",
            "gridcolor": "white",
            "gridwidth": 2,
            "linecolor": "white",
            "showbackground": true,
            "ticks": "",
            "zerolinecolor": "white"
           },
           "zaxis": {
            "backgroundcolor": "#E5ECF6",
            "gridcolor": "white",
            "gridwidth": 2,
            "linecolor": "white",
            "showbackground": true,
            "ticks": "",
            "zerolinecolor": "white"
           }
          },
          "shapedefaults": {
           "line": {
            "color": "#2a3f5f"
           }
          },
          "ternary": {
           "aaxis": {
            "gridcolor": "white",
            "linecolor": "white",
            "ticks": ""
           },
           "baxis": {
            "gridcolor": "white",
            "linecolor": "white",
            "ticks": ""
           },
           "bgcolor": "#E5ECF6",
           "caxis": {
            "gridcolor": "white",
            "linecolor": "white",
            "ticks": ""
           }
          },
          "title": {
           "x": 0.05
          },
          "xaxis": {
           "automargin": true,
           "gridcolor": "white",
           "linecolor": "white",
           "ticks": "",
           "title": {
            "standoff": 15
           },
           "zerolinecolor": "white",
           "zerolinewidth": 2
          },
          "yaxis": {
           "automargin": true,
           "gridcolor": "white",
           "linecolor": "white",
           "ticks": "",
           "title": {
            "standoff": 15
           },
           "zerolinecolor": "white",
           "zerolinewidth": 2
          }
         }
        },
        "title": {
         "text": "Time Since Last Claim by Autopool Destination Vault"
        },
        "xaxis": {
         "anchor": "y",
         "domain": [
          0,
          1
         ],
         "title": {
          "text": "underlying_name"
         }
        },
        "yaxis": {
         "anchor": "x",
         "domain": [
          0,
          1
         ],
         "title": {
          "text": "days_since_last_claim"
         }
        }
       }
      }
     },
     "metadata": {},
     "output_type": "display_data"
    }
   ],
   "source": [
    "px.bar(\n",
    "    full_sub_df,\n",
    "    x=\"underlying_name\",\n",
    "    y=\"days_since_last_claim\",\n",
    "    title=f\"Time Since Last Claim by Autopool Destination Vault\",\n",
    "    hover_data=[\"highest_recent_incentive_apr\", \"highest_recent_owned_shares\", \"autopool_name\"],\n",
    ").show()"
   ]
  },
  {
   "cell_type": "code",
   "execution_count": null,
   "metadata": {},
   "outputs": [],
   "source": [
    "break"
   ]
  },
  {
   "cell_type": "code",
   "execution_count": null,
   "metadata": {},
   "outputs": [
    {
     "ename": "ValueError",
     "evalue": "Value of 'y' is not the name of a column in 'data_frame'. Expected one of ['destination_vault_address', 'chain_id', 'autopool_vault_address', 'autopool_name', 'exchange_name', 'name', 'symbol', 'pool_type', 'pool', 'underlying', 'underlying_symbol', 'underlying_name', 'denominated_in', 'destination_vault_decimals', 'most_recent_claim', 'time_since_last_claim', 'highest_recent_incentive_apr', 'highest_recent_owned_shares'] but received: days_since_last_claim",
     "output_type": "error",
     "traceback": [
      "\u001b[0;31m---------------------------------------------------------------------------\u001b[0m",
      "\u001b[0;31mValueError\u001b[0m                                Traceback (most recent call last)",
      "Cell \u001b[0;32mIn[34], line 1\u001b[0m\n\u001b[0;32m----> 1\u001b[0m \u001b[43mpx\u001b[49m\u001b[38;5;241;43m.\u001b[39;49m\u001b[43mbar\u001b[49m\u001b[43m(\u001b[49m\u001b[43mfull_sub_df\u001b[49m\u001b[43m,\u001b[49m\u001b[43m \u001b[49m\u001b[43mx\u001b[49m\u001b[38;5;241;43m=\u001b[39;49m\u001b[38;5;124;43m'\u001b[39;49m\u001b[38;5;124;43mautopool_name\u001b[39;49m\u001b[38;5;124;43m'\u001b[39;49m\u001b[43m,\u001b[49m\u001b[43m \u001b[49m\u001b[43my\u001b[49m\u001b[38;5;241;43m=\u001b[39;49m\u001b[38;5;124;43m'\u001b[39;49m\u001b[38;5;124;43mdays_since_last_claim\u001b[39;49m\u001b[38;5;124;43m'\u001b[39;49m\u001b[43m,\u001b[49m\u001b[43m \u001b[49m\u001b[43mcolor\u001b[49m\u001b[38;5;241;43m=\u001b[39;49m\u001b[38;5;124;43m'\u001b[39;49m\u001b[38;5;124;43munderlying_name\u001b[39;49m\u001b[38;5;124;43m'\u001b[39;49m\u001b[43m,\u001b[49m\u001b[43m \u001b[49m\u001b[43mtitle\u001b[49m\u001b[38;5;241;43m=\u001b[39;49m\u001b[38;5;124;43m'\u001b[39;49m\u001b[38;5;124;43mTime Since Last Claim by Autopool Destination Vault\u001b[39;49m\u001b[38;5;124;43m'\u001b[39;49m\u001b[43m)\u001b[49m\n",
      "File \u001b[0;32m~/Library/Caches/pypoetry/virtualenvs/mainnet-launch-FtycU18g-py3.10/lib/python3.10/site-packages/plotly/express/_chart_types.py:373\u001b[0m, in \u001b[0;36mbar\u001b[0;34m(data_frame, x, y, color, pattern_shape, facet_row, facet_col, facet_col_wrap, facet_row_spacing, facet_col_spacing, hover_name, hover_data, custom_data, text, base, error_x, error_x_minus, error_y, error_y_minus, animation_frame, animation_group, category_orders, labels, color_discrete_sequence, color_discrete_map, color_continuous_scale, pattern_shape_sequence, pattern_shape_map, range_color, color_continuous_midpoint, opacity, orientation, barmode, log_x, log_y, range_x, range_y, text_auto, title, template, width, height)\u001b[0m\n\u001b[1;32m    325\u001b[0m \u001b[38;5;28;01mdef\u001b[39;00m\u001b[38;5;250m \u001b[39m\u001b[38;5;21mbar\u001b[39m(\n\u001b[1;32m    326\u001b[0m     data_frame\u001b[38;5;241m=\u001b[39m\u001b[38;5;28;01mNone\u001b[39;00m,\n\u001b[1;32m    327\u001b[0m     x\u001b[38;5;241m=\u001b[39m\u001b[38;5;28;01mNone\u001b[39;00m,\n\u001b[0;32m   (...)\u001b[0m\n\u001b[1;32m    367\u001b[0m     height\u001b[38;5;241m=\u001b[39m\u001b[38;5;28;01mNone\u001b[39;00m,\n\u001b[1;32m    368\u001b[0m ) \u001b[38;5;241m-\u001b[39m\u001b[38;5;241m>\u001b[39m go\u001b[38;5;241m.\u001b[39mFigure:\n\u001b[1;32m    369\u001b[0m \u001b[38;5;250m    \u001b[39m\u001b[38;5;124;03m\"\"\"\u001b[39;00m\n\u001b[1;32m    370\u001b[0m \u001b[38;5;124;03m    In a bar plot, each row of `data_frame` is represented as a rectangular\u001b[39;00m\n\u001b[1;32m    371\u001b[0m \u001b[38;5;124;03m    mark.\u001b[39;00m\n\u001b[1;32m    372\u001b[0m \u001b[38;5;124;03m    \"\"\"\u001b[39;00m\n\u001b[0;32m--> 373\u001b[0m     \u001b[38;5;28;01mreturn\u001b[39;00m \u001b[43mmake_figure\u001b[49m\u001b[43m(\u001b[49m\n\u001b[1;32m    374\u001b[0m \u001b[43m        \u001b[49m\u001b[43margs\u001b[49m\u001b[38;5;241;43m=\u001b[39;49m\u001b[38;5;28;43mlocals\u001b[39;49m\u001b[43m(\u001b[49m\u001b[43m)\u001b[49m\u001b[43m,\u001b[49m\n\u001b[1;32m    375\u001b[0m \u001b[43m        \u001b[49m\u001b[43mconstructor\u001b[49m\u001b[38;5;241;43m=\u001b[39;49m\u001b[43mgo\u001b[49m\u001b[38;5;241;43m.\u001b[39;49m\u001b[43mBar\u001b[49m\u001b[43m,\u001b[49m\n\u001b[1;32m    376\u001b[0m \u001b[43m        \u001b[49m\u001b[43mtrace_patch\u001b[49m\u001b[38;5;241;43m=\u001b[39;49m\u001b[38;5;28;43mdict\u001b[39;49m\u001b[43m(\u001b[49m\u001b[43mtextposition\u001b[49m\u001b[38;5;241;43m=\u001b[39;49m\u001b[38;5;124;43m\"\u001b[39;49m\u001b[38;5;124;43mauto\u001b[39;49m\u001b[38;5;124;43m\"\u001b[39;49m\u001b[43m)\u001b[49m\u001b[43m,\u001b[49m\n\u001b[1;32m    377\u001b[0m \u001b[43m        \u001b[49m\u001b[43mlayout_patch\u001b[49m\u001b[38;5;241;43m=\u001b[39;49m\u001b[38;5;28;43mdict\u001b[39;49m\u001b[43m(\u001b[49m\u001b[43mbarmode\u001b[49m\u001b[38;5;241;43m=\u001b[39;49m\u001b[43mbarmode\u001b[49m\u001b[43m)\u001b[49m\u001b[43m,\u001b[49m\n\u001b[1;32m    378\u001b[0m \u001b[43m    \u001b[49m\u001b[43m)\u001b[49m\n",
      "File \u001b[0;32m~/Library/Caches/pypoetry/virtualenvs/mainnet-launch-FtycU18g-py3.10/lib/python3.10/site-packages/plotly/express/_core.py:2117\u001b[0m, in \u001b[0;36mmake_figure\u001b[0;34m(args, constructor, trace_patch, layout_patch)\u001b[0m\n\u001b[1;32m   2114\u001b[0m layout_patch \u001b[38;5;241m=\u001b[39m layout_patch \u001b[38;5;129;01mor\u001b[39;00m {}\n\u001b[1;32m   2115\u001b[0m apply_default_cascade(args)\n\u001b[0;32m-> 2117\u001b[0m args \u001b[38;5;241m=\u001b[39m \u001b[43mbuild_dataframe\u001b[49m\u001b[43m(\u001b[49m\u001b[43margs\u001b[49m\u001b[43m,\u001b[49m\u001b[43m \u001b[49m\u001b[43mconstructor\u001b[49m\u001b[43m)\u001b[49m\n\u001b[1;32m   2118\u001b[0m \u001b[38;5;28;01mif\u001b[39;00m constructor \u001b[38;5;129;01min\u001b[39;00m [go\u001b[38;5;241m.\u001b[39mTreemap, go\u001b[38;5;241m.\u001b[39mSunburst, go\u001b[38;5;241m.\u001b[39mIcicle] \u001b[38;5;129;01mand\u001b[39;00m args[\u001b[38;5;124m\"\u001b[39m\u001b[38;5;124mpath\u001b[39m\u001b[38;5;124m\"\u001b[39m] \u001b[38;5;129;01mis\u001b[39;00m \u001b[38;5;129;01mnot\u001b[39;00m \u001b[38;5;28;01mNone\u001b[39;00m:\n\u001b[1;32m   2119\u001b[0m     args \u001b[38;5;241m=\u001b[39m process_dataframe_hierarchy(args)\n",
      "File \u001b[0;32m~/Library/Caches/pypoetry/virtualenvs/mainnet-launch-FtycU18g-py3.10/lib/python3.10/site-packages/plotly/express/_core.py:1513\u001b[0m, in \u001b[0;36mbuild_dataframe\u001b[0;34m(args, constructor)\u001b[0m\n\u001b[1;32m   1510\u001b[0m     args[\u001b[38;5;124m\"\u001b[39m\u001b[38;5;124mcolor\u001b[39m\u001b[38;5;124m\"\u001b[39m] \u001b[38;5;241m=\u001b[39m \u001b[38;5;28;01mNone\u001b[39;00m\n\u001b[1;32m   1511\u001b[0m \u001b[38;5;66;03m# now that things have been prepped, we do the systematic rewriting of `args`\u001b[39;00m\n\u001b[0;32m-> 1513\u001b[0m df_output, wide_id_vars \u001b[38;5;241m=\u001b[39m \u001b[43mprocess_args_into_dataframe\u001b[49m\u001b[43m(\u001b[49m\n\u001b[1;32m   1514\u001b[0m \u001b[43m    \u001b[49m\u001b[43margs\u001b[49m\u001b[43m,\u001b[49m\u001b[43m \u001b[49m\u001b[43mwide_mode\u001b[49m\u001b[43m,\u001b[49m\u001b[43m \u001b[49m\u001b[43mvar_name\u001b[49m\u001b[43m,\u001b[49m\u001b[43m \u001b[49m\u001b[43mvalue_name\u001b[49m\n\u001b[1;32m   1515\u001b[0m \u001b[43m\u001b[49m\u001b[43m)\u001b[49m\n\u001b[1;32m   1517\u001b[0m \u001b[38;5;66;03m# now that `df_output` exists and `args` contains only references, we complete\u001b[39;00m\n\u001b[1;32m   1518\u001b[0m \u001b[38;5;66;03m# the special-case and wide-mode handling by further rewriting args and/or mutating\u001b[39;00m\n\u001b[1;32m   1519\u001b[0m \u001b[38;5;66;03m# df_output\u001b[39;00m\n\u001b[1;32m   1521\u001b[0m count_name \u001b[38;5;241m=\u001b[39m _escape_col_name(df_output, \u001b[38;5;124m\"\u001b[39m\u001b[38;5;124mcount\u001b[39m\u001b[38;5;124m\"\u001b[39m, [var_name, value_name])\n",
      "File \u001b[0;32m~/Library/Caches/pypoetry/virtualenvs/mainnet-launch-FtycU18g-py3.10/lib/python3.10/site-packages/plotly/express/_core.py:1234\u001b[0m, in \u001b[0;36mprocess_args_into_dataframe\u001b[0;34m(args, wide_mode, var_name, value_name)\u001b[0m\n\u001b[1;32m   1232\u001b[0m         \u001b[38;5;28;01mif\u001b[39;00m argument \u001b[38;5;241m==\u001b[39m \u001b[38;5;124m\"\u001b[39m\u001b[38;5;124mindex\u001b[39m\u001b[38;5;124m\"\u001b[39m:\n\u001b[1;32m   1233\u001b[0m             err_msg \u001b[38;5;241m+\u001b[39m\u001b[38;5;241m=\u001b[39m \u001b[38;5;124m\"\u001b[39m\u001b[38;5;130;01m\\n\u001b[39;00m\u001b[38;5;124m To use the index, pass it in directly as `df.index`.\u001b[39m\u001b[38;5;124m\"\u001b[39m\n\u001b[0;32m-> 1234\u001b[0m         \u001b[38;5;28;01mraise\u001b[39;00m \u001b[38;5;167;01mValueError\u001b[39;00m(err_msg)\n\u001b[1;32m   1235\u001b[0m \u001b[38;5;28;01melif\u001b[39;00m length \u001b[38;5;129;01mand\u001b[39;00m \u001b[38;5;28mlen\u001b[39m(df_input[argument]) \u001b[38;5;241m!=\u001b[39m length:\n\u001b[1;32m   1236\u001b[0m     \u001b[38;5;28;01mraise\u001b[39;00m \u001b[38;5;167;01mValueError\u001b[39;00m(\n\u001b[1;32m   1237\u001b[0m         \u001b[38;5;124m\"\u001b[39m\u001b[38;5;124mAll arguments should have the same length. \u001b[39m\u001b[38;5;124m\"\u001b[39m\n\u001b[1;32m   1238\u001b[0m         \u001b[38;5;124m\"\u001b[39m\u001b[38;5;124mThe length of column argument `df[\u001b[39m\u001b[38;5;132;01m%s\u001b[39;00m\u001b[38;5;124m]` is \u001b[39m\u001b[38;5;132;01m%d\u001b[39;00m\u001b[38;5;124m, whereas the \u001b[39m\u001b[38;5;124m\"\u001b[39m\n\u001b[0;32m   (...)\u001b[0m\n\u001b[1;32m   1245\u001b[0m         )\n\u001b[1;32m   1246\u001b[0m     )\n",
      "\u001b[0;31mValueError\u001b[0m: Value of 'y' is not the name of a column in 'data_frame'. Expected one of ['destination_vault_address', 'chain_id', 'autopool_vault_address', 'autopool_name', 'exchange_name', 'name', 'symbol', 'pool_type', 'pool', 'underlying', 'underlying_symbol', 'underlying_name', 'denominated_in', 'destination_vault_decimals', 'most_recent_claim', 'time_since_last_claim', 'highest_recent_incentive_apr', 'highest_recent_owned_shares'] but received: days_since_last_claim"
     ]
    }
   ],
   "source": [
    "px.bar(\n",
    "    full_sub_df,\n",
    "    x=\"autopool_name\",\n",
    "    y=\"days_since_last_claim\",\n",
    "    color=\"underlying_name\",\n",
    "    title=\"Time Since Last Claim by Autopool Destination Vault\",\n",
    ")"
   ]
  },
  {
   "cell_type": "code",
   "execution_count": null,
   "metadata": {},
   "outputs": [],
   "source": [
    "base_usd_destinations"
   ]
  },
  {
   "cell_type": "code",
   "execution_count": null,
   "metadata": {},
   "outputs": [
    {
     "data": {
      "application/vnd.microsoft.datawrangler.viewer.v0+json": {
       "columns": [
        {
         "name": "index",
         "rawType": "int64",
         "type": "integer"
        },
        {
         "name": "autopool_name",
         "rawType": "object",
         "type": "string"
        },
        {
         "name": "underlying_name",
         "rawType": "object",
         "type": "string"
        },
        {
         "name": "time_since_last_claim",
         "rawType": "timedelta64[ns]",
         "type": "unknown"
        },
        {
         "name": "highest_recent_incentive_apr",
         "rawType": "float64",
         "type": "float"
        },
        {
         "name": "highest_recent_owned_shares",
         "rawType": "float64",
         "type": "float"
        }
       ],
       "ref": "9c769deb-6105-4830-b9a5-b0f28915fd23",
       "rows": [
        [
         "260",
         "plasmaUSD",
         "Fluid USDT0",
         null,
         "5.76",
         "2081381.610353"
        ],
        [
         "268",
         "plasmaUSD",
         "Ethena Surge sUSDe-waUSDT0",
         null,
         "6.413608416336112",
         "4697664.110860647"
        ]
       ],
       "shape": {
        "columns": 5,
        "rows": 2
       }
      },
      "text/html": [
       "<div>\n",
       "<style scoped>\n",
       "    .dataframe tbody tr th:only-of-type {\n",
       "        vertical-align: middle;\n",
       "    }\n",
       "\n",
       "    .dataframe tbody tr th {\n",
       "        vertical-align: top;\n",
       "    }\n",
       "\n",
       "    .dataframe thead th {\n",
       "        text-align: right;\n",
       "    }\n",
       "</style>\n",
       "<table border=\"1\" class=\"dataframe\">\n",
       "  <thead>\n",
       "    <tr style=\"text-align: right;\">\n",
       "      <th></th>\n",
       "      <th>autopool_name</th>\n",
       "      <th>underlying_name</th>\n",
       "      <th>time_since_last_claim</th>\n",
       "      <th>highest_recent_incentive_apr</th>\n",
       "      <th>highest_recent_owned_shares</th>\n",
       "    </tr>\n",
       "  </thead>\n",
       "  <tbody>\n",
       "    <tr>\n",
       "      <th>260</th>\n",
       "      <td>plasmaUSD</td>\n",
       "      <td>Fluid USDT0</td>\n",
       "      <td>NaT</td>\n",
       "      <td>5.760000</td>\n",
       "      <td>2.081382e+06</td>\n",
       "    </tr>\n",
       "    <tr>\n",
       "      <th>268</th>\n",
       "      <td>plasmaUSD</td>\n",
       "      <td>Ethena Surge sUSDe-waUSDT0</td>\n",
       "      <td>NaT</td>\n",
       "      <td>6.413608</td>\n",
       "      <td>4.697664e+06</td>\n",
       "    </tr>\n",
       "  </tbody>\n",
       "</table>\n",
       "</div>"
      ],
      "text/plain": [
       "    autopool_name             underlying_name time_since_last_claim  \\\n",
       "260     plasmaUSD                 Fluid USDT0                   NaT   \n",
       "268     plasmaUSD  Ethena Surge sUSDe-waUSDT0                   NaT   \n",
       "\n",
       "     highest_recent_incentive_apr  highest_recent_owned_shares  \n",
       "260                      5.760000                 2.081382e+06  \n",
       "268                      6.413608                 4.697664e+06  "
      ]
     },
     "execution_count": 26,
     "metadata": {},
     "output_type": "execute_result"
    }
   ],
   "source": []
  },
  {
   "cell_type": "code",
   "execution_count": null,
   "metadata": {},
   "outputs": [],
   "source": []
  },
  {
   "cell_type": "code",
   "execution_count": null,
   "metadata": {},
   "outputs": [],
   "source": [
    "# for each autopool, show a chart (say bar chart) for all destinations (with allocation)\n",
    "# where the dests with incentives have bars showing length of time since last claim, for dest with no incentives,\n",
    "# the bar height can be fixed to 0."
   ]
  },
  {
   "cell_type": "code",
   "execution_count": null,
   "metadata": {},
   "outputs": [],
   "source": [
    "break"
   ]
  },
  {
   "cell_type": "code",
   "execution_count": null,
   "metadata": {},
   "outputs": [],
   "source": []
  },
  {
   "cell_type": "code",
   "execution_count": null,
   "metadata": {},
   "outputs": [],
   "source": [
    "tokens = get_full_table_as_df(Tokens)\n",
    "token_address_to_symbol = tokens.set_index(\"token_address\")[\"symbol\"].to_dict()\n",
    "\n",
    "destinations = get_full_table_as_df(Destinations)\n",
    "destination_address_to_name = destinations.set_index(\"destination_vault_address\")[\"underlying_name\"].to_dict()"
   ]
  },
  {
   "cell_type": "code",
   "execution_count": null,
   "metadata": {},
   "outputs": [],
   "source": [
    "from mainnet_launch.data_fetching.get_state_by_block import get_raw_state_by_blocks\n",
    "\n",
    "datetimes = get_raw_state_by_blocks(\n",
    "    calls=[],\n",
    "    chain=ETH_CHAIN,\n",
    "    blocks=balance_updated[\"block\"].unique().tolist(),\n",
    ")\n",
    "datetimes"
   ]
  },
  {
   "cell_type": "code",
   "execution_count": null,
   "metadata": {},
   "outputs": [],
   "source": [
    "balance_updated[\"token_symbol\"] = balance_updated.apply(\n",
    "    lambda x: token_address_to_symbol.get(x[\"token\"], \"UNKNOWN\"), axis=1\n",
    ")\n",
    "balance_updated[\"destination_name\"] = balance_updated.apply(\n",
    "    lambda x: destination_address_to_name.get(x[\"vault\"], \"UNKNOWN\"), axis=1\n",
    ")"
   ]
  },
  {
   "cell_type": "code",
   "execution_count": null,
   "metadata": {},
   "outputs": [],
   "source": []
  },
  {
   "cell_type": "code",
   "execution_count": null,
   "metadata": {},
   "outputs": [],
   "source": []
  },
  {
   "cell_type": "code",
   "execution_count": null,
   "metadata": {},
   "outputs": [],
   "source": [
    "most_recent_balance_updated = balance_updated.groupby(\"vault\")[\"datetime\"].max().to_dict()\n",
    "autopool_destinations[\"most_recent_balance_update\"] = autopool_destinations[\"destination_vault_address\"].map(\n",
    "    most_recent_balance_updated\n",
    ")\n",
    "\n",
    "autopool_destinations"
   ]
  },
  {
   "cell_type": "code",
   "execution_count": null,
   "metadata": {},
   "outputs": [],
   "source": [
    "destinations_with_any_incentive_apr_recent_past = destination_states[(destination_states[\"incentive_apr\"] > 0)][\n",
    "    \"destination_vault_address\"\n",
    "].unique()\n",
    "\n",
    "destinations_with_any_owned_shares = autopool_destination_states[(autopool_destination_states[\"owned_shares\"] > 0)][\n",
    "    \"destination_vault_address\"\n",
    "].unique()\n",
    "\n",
    "destinations_that_should_have_some_claims = [\n",
    "    d for d in destinations_with_any_incentive_apr_recent_past if d in destinations_with_any_owned_shares\n",
    "]\n",
    "\n",
    "cols = [\"autopool_name\", \"underlying_name\", \"most_recent_balance_update\"]\n",
    "\n",
    "for autopool in ALL_AUTOPOOLS:\n",
    "    sub_df = autopool_destinations[\n",
    "        (autopool_destinations[\"destination_vault_address\"].isin(destinations_that_should_have_some_claims))\n",
    "        & (autopool_destinations[\"autopool_name\"] == autopool.name)\n",
    "    ][cols]\n",
    "    post_message_with_table(\n",
    "        f\"Recent claims for destinations in autopool {autopool.name} that should have some claims\", sub_df\n",
    "    )"
   ]
  },
  {
   "cell_type": "code",
   "execution_count": null,
   "metadata": {},
   "outputs": [],
   "source": []
  },
  {
   "cell_type": "code",
   "execution_count": null,
   "metadata": {},
   "outputs": [],
   "source": [
    "balance_updated.groupby([\"destination_name\", \"token_symbol\"])[\"datetime\"].max().reset_index()"
   ]
  },
  {
   "cell_type": "code",
   "execution_count": null,
   "metadata": {},
   "outputs": [],
   "source": [
    "balance_updated"
   ]
  },
  {
   "cell_type": "code",
   "execution_count": null,
   "metadata": {},
   "outputs": [],
   "source": [
    "balanceUpdated_1"
   ]
  },
  {
   "cell_type": "code",
   "execution_count": null,
   "metadata": {},
   "outputs": [],
   "source": []
  },
  {
   "cell_type": "code",
   "execution_count": null,
   "metadata": {},
   "outputs": [],
   "source": [
    "reward_token_balance_events"
   ]
  },
  {
   "cell_type": "code",
   "execution_count": null,
   "metadata": {},
   "outputs": [],
   "source": [
    "autoUSD_destination_vaults = autopool_destinations[autopool_destinations[\"autopool_name\"] == \"autoUSD\"][\n",
    "    \"destination_vault_address\"\n",
    "].unique()"
   ]
  },
  {
   "cell_type": "code",
   "execution_count": null,
   "metadata": {},
   "outputs": [],
   "source": [
    "morpho = \"0x58D97B57BB95320F9a05dC918Aef65434969c2B2\"\n",
    "old_morpho = \"0x9994E35Db50125E0DF82e4c2dde62496CE330999\"\n",
    "\n",
    "from mainnet_launch.abis import ERC_20_ABI\n",
    "\n",
    "morpho_contract = ETH_CHAIN.client.eth.contract(address=morpho, abi=ERC_20_ABI)\n",
    "\n",
    "morpho_transfers = fetch_events(\n",
    "    event=morpho_contract.events.Transfer, chain=ETH_CHAIN, argument_filters={\"to\": autoUSD_destination_vaults.tolist()}\n",
    ")\n",
    "\n",
    "morpho_transfers"
   ]
  },
  {
   "cell_type": "code",
   "execution_count": null,
   "metadata": {},
   "outputs": [],
   "source": [
    "autopool_destinations"
   ]
  },
  {
   "cell_type": "code",
   "execution_count": null,
   "metadata": {},
   "outputs": [],
   "source": [
    "morpho = \"0x58D97B57BB95320F9a05dC918Aef65434969c2B2\"\n",
    "from mainnet_launch.abis import ERC_20_ABI\n",
    "\n",
    "morpho_contract = ETH_CHAIN.client.eth.contract(address=morpho, abi=ERC_20_ABI)\n",
    "\n",
    "morpho_transfers = fetch_events(\n",
    "    event=morpho_contract.events.Transfer, chain=ETH_CHAIN, argument_filters={\"to\": LIQUIDATION_ROW(ETH_CHAIN)}\n",
    ")"
   ]
  },
  {
   "cell_type": "code",
   "execution_count": null,
   "metadata": {},
   "outputs": [],
   "source": [
    "# from mainnet_launch.database.schema.full import\n",
    "\n",
    "# full_df = get_full_table_as_df_with_tx_hash(Va)"
   ]
  },
  {
   "cell_type": "code",
   "execution_count": null,
   "metadata": {},
   "outputs": [],
   "source": [
    "reward_token_balance_events[\"block\"].value_counts()"
   ]
  },
  {
   "cell_type": "code",
   "execution_count": null,
   "metadata": {},
   "outputs": [],
   "source": [
    "break"
   ]
  },
  {
   "cell_type": "code",
   "execution_count": null,
   "metadata": {},
   "outputs": [],
   "source": [
    "# 0x5c0C306Aaa9F877de636f4d5822cA9F2E81563BA need to see the collect rewards call"
   ]
  },
  {
   "cell_type": "code",
   "execution_count": null,
   "metadata": {},
   "outputs": [],
   "source": [
    "# function claimsVaultRewards(\n",
    "#     IDestinationVault[] memory vaults\n",
    "# ) external nonReentrant hasRole(Roles.REWARD_LIQUIDATION_EXECUTOR) {\n",
    "#     if (vaults.length == 0) revert Errors.InvalidParam(\"vaults\");\n",
    "\n",
    "#     for (uint256 i = 0; i < vaults.length; ++i) {\n",
    "#         uint256 gasBefore = gasleft();\n",
    "#         IDestinationVault vault = vaults[i];\n",
    "\n",
    "#         destinationVaultRegistry.verifyIsRegistered(address(vault));\n",
    "\n",
    "#         (uint256[] memory amounts, address[] memory tokens) = vault.collectRewards();\n",
    "\n",
    "#         uint256 tokensLength = tokens.length;\n",
    "#         for (uint256 j = 0; j < tokensLength; ++j) {\n",
    "#             address token = tokens[j];\n",
    "#             uint256 amount = amounts[j];\n",
    "#             if (amount > 0 && token != address(0)) {\n",
    "#                 // slither-disable-next-line reentrancy-no-eth\n",
    "#                 _increaseBalance(address(token), address(vault), amount);\n",
    "#             }\n",
    "#         }\n",
    "#         uint256 gasUsed = gasBefore - gasleft();\n",
    "#         emit GasUsedForVault(address(vault), gasUsed, bytes32(\"claim\"));\n",
    "#     }\n",
    "# }\n",
    "\n",
    "\n",
    "# https://vscode.blockscan.com/ethereum/0xf570ea70106b8e109222297f9a90da477658d481\n",
    "# check with cody about claiming USDT rewards"
   ]
  },
  {
   "cell_type": "code",
   "execution_count": null,
   "metadata": {},
   "outputs": [],
   "source": [
    "destinations[destinations[\"pool\"].isin(pools_missing_vault_liquidations)].drop_duplicates(\"pool\")"
   ]
  },
  {
   "cell_type": "code",
   "execution_count": null,
   "metadata": {},
   "outputs": [],
   "source": [
    "# the fluid lending has claimFromFluidMerkleDistributor"
   ]
  },
  {
   "cell_type": "code",
   "execution_count": null,
   "metadata": {},
   "outputs": [],
   "source": [
    "claim_vault_rewards[claim_vault_rewards[\"destination_vault_address\"] == \"0x4142e3a17391676C66DDf1285E43889F168EE237\"]"
   ]
  },
  {
   "cell_type": "code",
   "execution_count": null,
   "metadata": {},
   "outputs": [],
   "source": [
    "break"
   ]
  },
  {
   "cell_type": "code",
   "execution_count": null,
   "metadata": {},
   "outputs": [],
   "source": [
    "claim_vault_rewards = get_full_table_as_df_with_tx_hash(ClaimVaultRewards, Blocks.datetime > three_days_ago)\n",
    "destination_states = get_full_table_as_df_with_block(DestinationStates, Blocks.datetime > three_days_ago).reset_index()\n",
    "autopool_destination_states = get_full_table_as_df_with_block(\n",
    "    AutopoolDestinationStates, Blocks.datetime > three_days_ago\n",
    ").reset_index()\n",
    "destinations = get_full_table_as_df(Destinations)\n",
    "\n",
    "claim_vault_rewards[\"pool\"] = claim_vault_rewards[\"destination_vault_address\"].map(\n",
    "    destinations.set_index(\"destination_vault_address\")[\"pool\"]\n",
    ")\n",
    "autopool_destination_states[\"pool\"] = autopool_destination_states[\"destination_vault_address\"].map(\n",
    "    destinations.set_index(\"destination_vault_address\")[\"pool\"]\n",
    ")\n",
    "destination_states[\"pool\"] = destination_states[\"destination_vault_address\"].map(\n",
    "    destinations.set_index(\"destination_vault_address\")[\"pool\"]\n",
    ")\n",
    "\n",
    "destinations[\"incentive_apr\"] = destinations[\"pool\"].map(destination_states.groupby(\"pool\")[\"incentive_apr\"].max())\n",
    "destinations[\"owned_shares\"] = destinations[\"pool\"].map(\n",
    "    autopool_destination_states.groupby(\"pool\")[\"owned_shares\"].max()\n",
    ")\n",
    "\n",
    "taget_pool = \"0x6951bDC4734b9f7F3E1B74afeBC670c736A0EDB6\"\n",
    "\n",
    "# claim_vault_rewards = claim_vault_rewards[claim_vault_rewards['pool'] != taget_pool].copy()\n",
    "\n",
    "# all claim events in the last 3 days\n",
    "pool_with_recent_claim_rewards = claim_vault_rewards[\"pool\"].unique().tolist()\n",
    "# any autopool owns shares > 1 in the last 3 days\n",
    "pools_with_some_owned_shares = (\n",
    "    autopool_destination_states[autopool_destination_states[\"owned_shares\"] > 1][\"pool\"].unique().tolist()\n",
    ")\n",
    "# >.5% apr within the last 3 days\n",
    "pools_with_some_incentive_apr = (\n",
    "    destination_states[destination_states[\"incentive_apr\"] > 0.005][\"pool\"].unique().tolist()\n",
    ")"
   ]
  },
  {
   "cell_type": "code",
   "execution_count": null,
   "metadata": {},
   "outputs": [],
   "source": [
    "# taget_pool in pools_with_some_incentive_apr, taget_pool in pools_with_some_owned_shares, taget_pool in pool_with_recent_claim_rewards\n",
    "\n",
    "expected = set(pools_with_some_incentive_apr) & set(pools_with_some_owned_shares)\n",
    "missing = expected - set(pool_with_recent_claim_rewards)\n",
    "missing"
   ]
  },
  {
   "cell_type": "code",
   "execution_count": null,
   "metadata": {},
   "outputs": [],
   "source": []
  },
  {
   "cell_type": "code",
   "execution_count": null,
   "metadata": {},
   "outputs": [],
   "source": [
    "destinations[destinations[\"pool\"].isin(missing)]"
   ]
  },
  {
   "cell_type": "code",
   "execution_count": null,
   "metadata": {},
   "outputs": [],
   "source": [
    "all_vault_claimed_events = get_full_table_as_df_with_tx_hash(ClaimVaultRewards)\n",
    "all_vault_claimed_events[\"pool\"] = all_vault_claimed_events[\"destination_vault_address\"].map(\n",
    "    destinations.set_index(\"destination_vault_address\")[\"pool\"]\n",
    ")\n",
    "all_vault_claimed_events"
   ]
  },
  {
   "cell_type": "code",
   "execution_count": null,
   "metadata": {},
   "outputs": [],
   "source": [
    "fluid_tether_pool = \"0x5C20B550819128074FD538Edf79791733ccEdd18\"\n",
    "all_vault_claimed_events[all_vault_claimed_events[\"pool\"] == fluid_tether_pool]"
   ]
  },
  {
   "cell_type": "code",
   "execution_count": null,
   "metadata": {},
   "outputs": [],
   "source": [
    "destinations[destinations[\"pool\"].isin(missing)][\n",
    "    [\n",
    "        \"pool\",\n",
    "        \"exchange_name\",\n",
    "        \"underlying_name\",\n",
    "        \"chain_id\",\n",
    "        \"incentive_apr\",\n",
    "        \"owned_shares\",\n",
    "        \"destination_vault_address\",\n",
    "    ]\n",
    "].drop_duplicates()"
   ]
  },
  {
   "cell_type": "code",
   "execution_count": null,
   "metadata": {},
   "outputs": [],
   "source": [
    "destinations[\n",
    "    [\n",
    "        \"pool\",\n",
    "        \"exchange_name\",\n",
    "        \"underlying_name\",\n",
    "        \"chain_id\",\n",
    "        \"incentive_apr\",\n",
    "        \"owned_shares\",\n",
    "        \"destination_vault_address\",\n",
    "    ]\n",
    "].drop_duplicates()"
   ]
  },
  {
   "cell_type": "code",
   "execution_count": null,
   "metadata": {},
   "outputs": [],
   "source": [
    "# usdc Fluid Tether USD should have some incentive apr\n",
    "\n",
    "\n",
    "# 0x6f40d4A6237C257fff2dB00FA0510DeEECd303eb autoUSD has 750k in this pool"
   ]
  },
  {
   "cell_type": "code",
   "execution_count": null,
   "metadata": {},
   "outputs": [],
   "source": []
  },
  {
   "cell_type": "code",
   "execution_count": null,
   "metadata": {},
   "outputs": [],
   "source": [
    "# # is there a way to manually check if rewards are claimable? a function call?\n",
    "# post_message_with_table(\n",
    "#     \"Pools with incentives and owned shares but no recent claims\",\n",
    "#     destinations[destinations['pool'].isin(missing)][['pool', 'exchange_name', 'chain_id', 'incentive_apr', 'owned_shares']]\n",
    "# )"
   ]
  },
  {
   "cell_type": "code",
   "execution_count": null,
   "metadata": {},
   "outputs": [],
   "source": [
    "destinations[destinations[\"pool\"].isin(missing)]"
   ]
  },
  {
   "cell_type": "code",
   "execution_count": null,
   "metadata": {},
   "outputs": [],
   "source": []
  },
  {
   "cell_type": "code",
   "execution_count": null,
   "metadata": {},
   "outputs": [],
   "source": [
    "destinations[destinations[\"pool\"] == \"0x6951bDC4734b9f7F3E1B74afeBC670c736A0EDB6\"]  # there are 4 destiantions here,"
   ]
  },
  {
   "cell_type": "code",
   "execution_count": null,
   "metadata": {},
   "outputs": [],
   "source": []
  },
  {
   "cell_type": "code",
   "execution_count": null,
   "metadata": {},
   "outputs": [],
   "source": [
    "# 0x6951bDC4734b9f7F3E1B74afeBC670c736A0EDB6 had incentive APR go to zero on oct 14th\n",
    "\n",
    "# need to not point at old destination vaults\n",
    "# have the agg entity by the pool it self"
   ]
  },
  {
   "attachments": {
    "image.png": {
     "image/png": "[encoded data removed]"
    }
   },
   "cell_type": "markdown",
   "metadata": {},
   "source": [
    "![image.png](attachment:image.png)"
   ]
  },
  {
   "cell_type": "code",
   "execution_count": null,
   "metadata": {},
   "outputs": [],
   "source": [
    "# can I manually check if rewards are claimable?"
   ]
  },
  {
   "cell_type": "code",
   "execution_count": null,
   "metadata": {},
   "outputs": [],
   "source": [
    "didnt_have_expected_liquidation"
   ]
  },
  {
   "cell_type": "code",
   "execution_count": null,
   "metadata": {},
   "outputs": [],
   "source": [
    "destinations[destinations[\"destination_vault_address\"].isin(didnt_have_expected_liquidation)]"
   ]
  },
  {
   "cell_type": "code",
   "execution_count": null,
   "metadata": {},
   "outputs": [],
   "source": [
    "destination_states[destination_states[\"destination_vault_address\"].isin(didnt_have_expected_liquidation)]"
   ]
  },
  {
   "cell_type": "code",
   "execution_count": null,
   "metadata": {},
   "outputs": [],
   "source": [
    "owned_shares_by_destination = (\n",
    "    autopool_destination_states[[\"destination_vault_address\", \"owned_shares\"]]\n",
    "    .groupby(\"destination_vault_address\")\n",
    "    .max()\n",
    "    .reset_index()\n",
    ")"
   ]
  },
  {
   "cell_type": "code",
   "execution_count": null,
   "metadata": {},
   "outputs": [],
   "source": [
    "def get_list_of_suspect_destinations():\n",
    "    # a suspect_destination is a destiantion\n",
    "    # where, the owned shares in the last 3 days is > 1\n",
    "    # and the incentive apr is > .5\n",
    "    # and there have been no claim vault rewards in the last 3 days\n",
    "    pass"
   ]
  }
 ],
 "metadata": {
  "kernelspec": {
   "display_name": "mainnet-launch-py3.10",
   "language": "python",
   "name": "python3"
  },
  "language_info": {
   "codemirror_mode": {
    "name": "ipython",
    "version": 3
   },
   "file_extension": ".py",
   "mimetype": "text/x-python",
   "name": "python",
   "nbconvert_exporter": "python",
   "pygments_lexer": "ipython3",
   "version": "3.10.14"
  }
 },
 "nbformat": 4,
 "nbformat_minor": 2
}
