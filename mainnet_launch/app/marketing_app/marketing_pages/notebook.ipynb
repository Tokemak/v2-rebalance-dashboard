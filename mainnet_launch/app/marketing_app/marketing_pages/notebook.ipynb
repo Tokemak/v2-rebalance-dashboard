{
 "cells": [
  {
   "cell_type": "code",
   "execution_count": 1,
   "metadata": {},
   "outputs": [
    {
     "name": "stderr",
     "output_type": "stream",
     "text": [
      "2025-08-21 09:59:49.207 WARNING streamlit.runtime.caching.cache_data_api: No runtime found, using MemoryCacheStorageManager\n",
      "2025-08-21 09:59:49.209 WARNING streamlit.runtime.caching.cache_data_api: No runtime found, using MemoryCacheStorageManager\n",
      "2025-08-21 09:59:50.111 WARNING streamlit.runtime.scriptrunner_utils.script_run_context: Thread 'ThreadPoolExecutor-1_2': missing ScriptRunContext! This warning can be ignored when running in bare mode.\n",
      "2025-08-21 09:59:50.206 \n",
      "  \u001b[33m\u001b[1mWarning:\u001b[0m to view this Streamlit app on a browser, run it with the following\n",
      "  command:\n",
      "\n",
      "    streamlit run /Users/pb/Library/Caches/pypoetry/virtualenvs/mainnet-launch-FtycU18g-py3.10/lib/python3.10/site-packages/ipykernel_launcher.py [ARGUMENTS]\n",
      "2025-08-21 09:59:50.206 Thread 'ThreadPoolExecutor-1_2': missing ScriptRunContext! This warning can be ignored when running in bare mode.\n",
      "2025-08-21 09:59:50.206 Thread 'ThreadPoolExecutor-1_2': missing ScriptRunContext! This warning can be ignored when running in bare mode.\n",
      "2025-08-21 09:59:50.207 Thread 'ThreadPoolExecutor-1_2': missing ScriptRunContext! This warning can be ignored when running in bare mode.\n",
      "2025-08-21 09:59:50.207 Thread 'ThreadPoolExecutor-1_2': missing ScriptRunContext! This warning can be ignored when running in bare mode.\n",
      "2025-08-21 09:59:50.207 Thread 'ThreadPoolExecutor-1_2': missing ScriptRunContext! This warning can be ignored when running in bare mode.\n",
      "2025-08-21 09:59:50.207 Thread 'ThreadPoolExecutor-1_2': missing ScriptRunContext! This warning can be ignored when running in bare mode.\n",
      "2025-08-21 09:59:50.208 Thread 'ThreadPoolExecutor-1_2': missing ScriptRunContext! This warning can be ignored when running in bare mode.\n",
      "2025-08-21 09:59:51.445 Thread 'ThreadPoolExecutor-1_0': missing ScriptRunContext! This warning can be ignored when running in bare mode.\n",
      "2025-08-21 09:59:51.445 Thread 'ThreadPoolExecutor-1_0': missing ScriptRunContext! This warning can be ignored when running in bare mode.\n",
      "2025-08-21 09:59:51.446 Thread 'ThreadPoolExecutor-1_0': missing ScriptRunContext! This warning can be ignored when running in bare mode.\n",
      "2025-08-21 09:59:51.446 Thread 'ThreadPoolExecutor-1_0': missing ScriptRunContext! This warning can be ignored when running in bare mode.\n",
      "2025-08-21 09:59:51.446 Thread 'ThreadPoolExecutor-1_0': missing ScriptRunContext! This warning can be ignored when running in bare mode.\n",
      "2025-08-21 09:59:51.446 Thread 'ThreadPoolExecutor-1_0': missing ScriptRunContext! This warning can be ignored when running in bare mode.\n",
      "2025-08-21 09:59:51.446 Thread 'ThreadPoolExecutor-1_0': missing ScriptRunContext! This warning can be ignored when running in bare mode.\n",
      "2025-08-21 09:59:51.447 Thread 'ThreadPoolExecutor-1_0': missing ScriptRunContext! This warning can be ignored when running in bare mode.\n",
      "2025-08-21 09:59:53.541 Thread 'ThreadPoolExecutor-1_1': missing ScriptRunContext! This warning can be ignored when running in bare mode.\n",
      "2025-08-21 09:59:53.541 Thread 'ThreadPoolExecutor-1_1': missing ScriptRunContext! This warning can be ignored when running in bare mode.\n",
      "2025-08-21 09:59:53.541 Thread 'ThreadPoolExecutor-1_1': missing ScriptRunContext! This warning can be ignored when running in bare mode.\n",
      "2025-08-21 09:59:53.542 Thread 'ThreadPoolExecutor-1_1': missing ScriptRunContext! This warning can be ignored when running in bare mode.\n",
      "2025-08-21 09:59:53.542 Thread 'ThreadPoolExecutor-1_1': missing ScriptRunContext! This warning can be ignored when running in bare mode.\n",
      "2025-08-21 09:59:53.542 Thread 'ThreadPoolExecutor-1_1': missing ScriptRunContext! This warning can be ignored when running in bare mode.\n",
      "2025-08-21 09:59:53.543 Thread 'ThreadPoolExecutor-1_1': missing ScriptRunContext! This warning can be ignored when running in bare mode.\n",
      "2025-08-21 09:59:53.543 Thread 'ThreadPoolExecutor-1_1': missing ScriptRunContext! This warning can be ignored when running in bare mode.\n",
      "2025-08-21 09:59:53.543 Thread 'ThreadPoolExecutor-1_1': missing ScriptRunContext! This warning can be ignored when running in bare mode.\n",
      "2025-08-21 09:59:53.544 Thread 'ThreadPoolExecutor-1_1': missing ScriptRunContext! This warning can be ignored when running in bare mode.\n",
      "2025-08-21 09:59:53.544 Thread 'ThreadPoolExecutor-1_1': missing ScriptRunContext! This warning can be ignored when running in bare mode.\n",
      "2025-08-21 09:59:53.544 Thread 'ThreadPoolExecutor-1_1': missing ScriptRunContext! This warning can be ignored when running in bare mode.\n"
     ]
    }
   ],
   "source": [
    "from autopool_cumulative_volume import fetch_all_time_cumulative_usd_volume\n",
    "from mainnet_launch.constants import ALL_AUTOPOOLS, AUTO_USD\n",
    "import plotly.express as px\n",
    "\n",
    "cumulaitive_volume_by_autopool, raw_df = fetch_all_time_cumulative_usd_volume()"
   ]
  },
  {
   "cell_type": "code",
   "execution_count": 13,
   "metadata": {},
   "outputs": [
    {
     "data": {
      "text/plain": [
       "np.int64(3432)"
      ]
     },
     "execution_count": 13,
     "metadata": {},
     "output_type": "execute_result"
    }
   ],
   "source": [
    "raw_df.groupby('autopool_name')['transactionHash'].nunique().round().sum()"
   ]
  },
  {
   "cell_type": "code",
   "execution_count": 12,
   "metadata": {},
   "outputs": [
    {
     "data": {
      "text/plain": [
       "np.float64(458973037.0)"
      ]
     },
     "execution_count": 12,
     "metadata": {},
     "output_type": "execute_result"
    }
   ],
   "source": [
    "raw_df.groupby('autopool_name')['computed_usd_volume'].sum().round().sum()"
   ]
  },
  {
   "cell_type": "code",
   "execution_count": 7,
   "metadata": {},
   "outputs": [
    {
     "data": {
      "text/plain": [
       "Index(['datetime', 'autopool', 'destinationInName', 'destinationOutName',\n",
       "       'timestamp', 'blockNumber', 'transactionHash', 'tokenOutValueInEth',\n",
       "       'tokenOutValueBaseAsset', 'chain_id', 'autopool_name', 'date', 'block',\n",
       "       'tokenOutValueInEth_norm', 'computed_usd_volume'],\n",
       "      dtype='object')"
      ]
     },
     "execution_count": 7,
     "metadata": {},
     "output_type": "execute_result"
    }
   ],
   "source": [
    "raw_df.columns"
   ]
  },
  {
   "cell_type": "code",
   "execution_count": null,
   "metadata": {},
   "outputs": [],
   "source": []
  }
 ],
 "metadata": {
  "kernelspec": {
   "display_name": "mainnet-launch-py3.10",
   "language": "python",
   "name": "python3"
  },
  "language_info": {
   "codemirror_mode": {
    "name": "ipython",
    "version": 3
   },
   "file_extension": ".py",
   "mimetype": "text/x-python",
   "name": "python",
   "nbconvert_exporter": "python",
   "pygments_lexer": "ipython3",
   "version": "3.10.14"
  }
 },
 "nbformat": 4,
 "nbformat_minor": 2
}
