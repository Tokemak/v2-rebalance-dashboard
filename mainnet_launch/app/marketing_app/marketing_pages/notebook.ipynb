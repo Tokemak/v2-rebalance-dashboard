{
 "cells": [
  {
   "cell_type": "code",
   "execution_count": null,
   "metadata": {},
   "outputs": [
    {
     "name": "stderr",
     "output_type": "stream",
     "text": [
      "2025-08-21 10:42:45.157 WARNING streamlit.runtime.caching.cache_data_api: No runtime found, using MemoryCacheStorageManager\n",
      "2025-08-21 10:42:45.158 WARNING streamlit.runtime.caching.cache_data_api: No runtime found, using MemoryCacheStorageManager\n",
      "2025-08-21 10:42:46.032 WARNING streamlit.runtime.scriptrunner_utils.script_run_context: Thread 'ThreadPoolExecutor-1_2': missing ScriptRunContext! This warning can be ignored when running in bare mode.\n",
      "2025-08-21 10:42:46.128 \n",
      "  \u001b[33m\u001b[1mWarning:\u001b[0m to view this Streamlit app on a browser, run it with the following\n",
      "  command:\n",
      "\n",
      "    streamlit run /Users/pb/Library/Caches/pypoetry/virtualenvs/mainnet-launch-FtycU18g-py3.10/lib/python3.10/site-packages/ipykernel_launcher.py [ARGUMENTS]\n",
      "2025-08-21 10:42:46.129 Thread 'ThreadPoolExecutor-1_2': missing ScriptRunContext! This warning can be ignored when running in bare mode.\n",
      "2025-08-21 10:42:46.129 Thread 'ThreadPoolExecutor-1_2': missing ScriptRunContext! This warning can be ignored when running in bare mode.\n",
      "2025-08-21 10:42:46.129 Thread 'ThreadPoolExecutor-1_2': missing ScriptRunContext! This warning can be ignored when running in bare mode.\n",
      "2025-08-21 10:42:46.129 Thread 'ThreadPoolExecutor-1_2': missing ScriptRunContext! This warning can be ignored when running in bare mode.\n",
      "2025-08-21 10:42:46.130 Thread 'ThreadPoolExecutor-1_2': missing ScriptRunContext! This warning can be ignored when running in bare mode.\n",
      "2025-08-21 10:42:46.130 Thread 'ThreadPoolExecutor-1_2': missing ScriptRunContext! This warning can be ignored when running in bare mode.\n",
      "2025-08-21 10:42:46.130 Thread 'ThreadPoolExecutor-1_2': missing ScriptRunContext! This warning can be ignored when running in bare mode.\n",
      "2025-08-21 10:42:47.197 Thread 'ThreadPoolExecutor-1_0': missing ScriptRunContext! This warning can be ignored when running in bare mode.\n",
      "2025-08-21 10:42:47.198 Thread 'ThreadPoolExecutor-1_0': missing ScriptRunContext! This warning can be ignored when running in bare mode.\n",
      "2025-08-21 10:42:47.198 Thread 'ThreadPoolExecutor-1_0': missing ScriptRunContext! This warning can be ignored when running in bare mode.\n",
      "2025-08-21 10:42:47.198 Thread 'ThreadPoolExecutor-1_0': missing ScriptRunContext! This warning can be ignored when running in bare mode.\n",
      "2025-08-21 10:42:47.198 Thread 'ThreadPoolExecutor-1_0': missing ScriptRunContext! This warning can be ignored when running in bare mode.\n",
      "2025-08-21 10:42:47.199 Thread 'ThreadPoolExecutor-1_0': missing ScriptRunContext! This warning can be ignored when running in bare mode.\n",
      "2025-08-21 10:42:47.199 Thread 'ThreadPoolExecutor-1_0': missing ScriptRunContext! This warning can be ignored when running in bare mode.\n",
      "2025-08-21 10:42:47.199 Thread 'ThreadPoolExecutor-1_0': missing ScriptRunContext! This warning can be ignored when running in bare mode.\n",
      "2025-08-21 10:42:48.328 Thread 'ThreadPoolExecutor-1_1': missing ScriptRunContext! This warning can be ignored when running in bare mode.\n",
      "2025-08-21 10:42:48.329 Thread 'ThreadPoolExecutor-1_1': missing ScriptRunContext! This warning can be ignored when running in bare mode.\n",
      "2025-08-21 10:42:48.329 Thread 'ThreadPoolExecutor-1_1': missing ScriptRunContext! This warning can be ignored when running in bare mode.\n",
      "2025-08-21 10:42:48.329 Thread 'ThreadPoolExecutor-1_1': missing ScriptRunContext! This warning can be ignored when running in bare mode.\n",
      "2025-08-21 10:42:48.330 Thread 'ThreadPoolExecutor-1_1': missing ScriptRunContext! This warning can be ignored when running in bare mode.\n",
      "2025-08-21 10:42:48.331 Thread 'ThreadPoolExecutor-1_1': missing ScriptRunContext! This warning can be ignored when running in bare mode.\n",
      "2025-08-21 10:42:48.331 Thread 'ThreadPoolExecutor-1_1': missing ScriptRunContext! This warning can be ignored when running in bare mode.\n",
      "2025-08-21 10:42:48.331 Thread 'ThreadPoolExecutor-1_1': missing ScriptRunContext! This warning can be ignored when running in bare mode.\n",
      "2025-08-21 10:42:48.332 Thread 'ThreadPoolExecutor-1_1': missing ScriptRunContext! This warning can be ignored when running in bare mode.\n",
      "2025-08-21 10:42:48.332 Thread 'ThreadPoolExecutor-1_1': missing ScriptRunContext! This warning can be ignored when running in bare mode.\n",
      "2025-08-21 10:42:48.333 Thread 'ThreadPoolExecutor-1_1': missing ScriptRunContext! This warning can be ignored when running in bare mode.\n",
      "2025-08-21 10:42:48.333 Thread 'ThreadPoolExecutor-1_1': missing ScriptRunContext! This warning can be ignored when running in bare mode.\n"
     ]
    }
   ],
   "source": [
    "from autopool_cumulative_volume import fetch_all_time_cumulative_usd_volume\n",
    "from mainnet_launch.constants.constants import ALL_AUTOPOOLS, AUTO_USD\n",
    "import plotly.express as px\n",
    "\n",
    "cumulaitive_volume_by_autopool, raw_df = fetch_all_time_cumulative_usd_volume()"
   ]
  },
  {
   "cell_type": "code",
   "execution_count": 3,
   "metadata": {},
   "outputs": [
    {
     "data": {
      "application/vnd.microsoft.datawrangler.viewer.v0+json": {
       "columns": [
        {
         "name": "transactionHash",
         "rawType": "object",
         "type": "string"
        },
        {
         "name": "count",
         "rawType": "int64",
         "type": "integer"
        }
       ],
       "ref": "51c934b7-f904-4ac3-b3ab-85ab636b2ca7",
       "rows": [
        [
         "0xbe9e2919f268121cc55f8466e7af702b6c0dd312134ee746e4600878e79efe9b",
         "4"
        ],
        [
         "0x862921210d71bb704a2090218715901800e2ed6b6e33573edb042d7c1aac1980",
         "4"
        ],
        [
         "0xa9b7e57b8202064b6fd48accbcfea54cb08fbb362638aa47681203c5daf7b722",
         "4"
        ],
        [
         "0x5a088e71e51c5b8c05db282989f21975d14e44d9c615aa00e451a68dcbebd0dc",
         "4"
        ],
        [
         "0x084dfee5800acd5bda5e48485e68e87c015fca770376eeef36405654a184e005",
         "4"
        ],
        [
         "0xfd0bbd018b24792dbce75f17221abb20609cd084012f502c8a06c6649bdf4af2",
         "2"
        ],
        [
         "0x901f3ef0de3c985f205b691c5c2e1ec72e52b4484de7c2caacf9692fec1e4efb",
         "2"
        ],
        [
         "0x67618958fa10c91e18218c3c3f7eb57509e70445e898d2d58e2c52c510fa140b",
         "1"
        ],
        [
         "0x264d3f56ce4f9ef4b1ad38d4b314f7037979e82a49d2e2a24fe950e0a3deaf45",
         "1"
        ],
        [
         "0x882133c58782258692f3667bf627aa786123ae681505b1d7010d6c41cd7762f3",
         "1"
        ],
        [
         "0x145454fee3ff163b611ab4f8511772ea796c7b8d4ee26ce647df6c6fc15705f1",
         "1"
        ],
        [
         "0x75d3d832d7af25d3298741fa930d4f0731ee697fcc642b9e48ce44f29f9a5181",
         "1"
        ],
        [
         "0x5c253e39c57e03829d0d976e9e1299b65bc460ff023ca2ea41ebe95b9fb1c75b",
         "1"
        ],
        [
         "0x80ecd8d99b6e333c7c99bec5555287d281202137c6289424967a5b0801761340",
         "1"
        ],
        [
         "0x8bde6581da61b9ec2a3c7bac0fc3a224ff97fab977f15f89f240a5a1aa996f28",
         "1"
        ],
        [
         "0x7fcde36c6dd064c5a4501c6bbe2e0d70759ba3aaf152b7c8449fbe8b91454778",
         "1"
        ],
        [
         "0xc598e54237cd1f28757feee529544e1292e9fcc153ce470034554ec887eaaa23",
         "1"
        ],
        [
         "0x21387902486dbd322da3fbfc1519993c0434dd6db35ea97b4e988d8f1ec5ce4e",
         "1"
        ],
        [
         "0x487eb4db637dd1fab58329fe5bdc543deb63e74cc0828b999848e429d18c1f39",
         "1"
        ],
        [
         "0xf1c14408d90b9343d0f80aa1241a0b24a977772bf6905000ae06b0d194019528",
         "1"
        ],
        [
         "0xa10f5b2c442fc180b8a264b3bb36f37d0c6c1081f778b3a2c7911a07ac868328",
         "1"
        ],
        [
         "0xb0e0fdd231c51c07e9023cc61f1101bf7534ea2733d9093e6d9655886f7804df",
         "1"
        ],
        [
         "0xd3bb09da7ae20c14c2e1fb73510deeadee777e71cfdf51f40403af991110525d",
         "1"
        ],
        [
         "0x428fdf8229654006dd52861f71b9c1f94f05d70a6eefb5e0342fa0580b371519",
         "1"
        ],
        [
         "0x0364c8a0dbcd5dc75c1b36124f65b366de5151ad8558805654b46647e6caa1f3",
         "1"
        ],
        [
         "0x1ed38bf2d0d22f1e806931bc44488da028e964448ee8f700c4e8fc46d98c1be9",
         "1"
        ],
        [
         "0x0f58e4cd2972144f6cd6ecbf296c681e8be1f24b061f4529476773eee9257f5f",
         "1"
        ],
        [
         "0x3ca27ed333bca8191985d6ff96e5686032864e7517a1ba325d9994773a84b4a1",
         "1"
        ],
        [
         "0x0e79184a483d558876a208803527d0e2bca88f42bddd683030c7fcf616183b55",
         "1"
        ],
        [
         "0xe609d1fe815a7f1e79d4729656041360421dd54d581236028f23f9a10a7d4b35",
         "1"
        ],
        [
         "0x2a77d1c843861ae0d698ee4c60d7ed260958d961b0ee45972a2fe013944e4035",
         "1"
        ],
        [
         "0x5513250273bfdbf939553c9ed98ce48b8479bc7396348f0e380e638b1a6b52e3",
         "1"
        ],
        [
         "0xaca4e35e70210294bc8e8fac7032700a22a6dc11f715ccc708cb2d9adfdc613b",
         "1"
        ],
        [
         "0x889ae6771d9e2fcda8b0260ec738f1a41ca8742b97f218e5d91aa259b01fc75c",
         "1"
        ],
        [
         "0xa7f8eafc057695646d26ab343c68277d67ad8be435d64fa55eecc28987fab67a",
         "1"
        ],
        [
         "0x2d6a582dc57c59b7475b649d3f84938a9b9bafdfe622b29bd6beb65938410e5b",
         "1"
        ],
        [
         "0xc65e384e6ba0399ffe943015f429afb9077c2478db28a1e4fee02b0e4fcf2e97",
         "1"
        ],
        [
         "0x2d21fee7a5df8c6395829ff9ad2e7b8e568aeba39f97dd6204d26e4968dafca7",
         "1"
        ],
        [
         "0x91dfad0f06abc34bd41c8bdca00b0cd9e6ac7e9a97a60ed5d045287b0f239164",
         "1"
        ],
        [
         "0x1d98a1012726925339cab01de5792d68992868832a685656776f68eff9d98f42",
         "1"
        ],
        [
         "0x7b8d46c93be59c4ccdea0b2e32707ddf1ecf0a75c75d70d4e60dc4f445fc4f3e",
         "1"
        ],
        [
         "0x1e2d6e19e8803cd370dff5eaf3119f665ba466b3e6db660c4ec50a9cddf4d964",
         "1"
        ],
        [
         "0x7e801982979a0f65a6562bfc46f553c6d480be0ab4ba46291795ed66028f5b35",
         "1"
        ],
        [
         "0x39043242fec4357f8c994ea71f3fa5a777ffb53db0e467cd6cc202af635e2672",
         "1"
        ],
        [
         "0x51af4f5ef143c5f7b628eabb4594854b9ac02d963081d496257c63c66a5036f7",
         "1"
        ],
        [
         "0x5463dc7e5ea288ec206a8bc1a64de6541bdc883ae573d0fa12ebe2429c9fc9c8",
         "1"
        ],
        [
         "0x26f0bee4809adb2362213d2301600ff34d4847558b4813cc66e3dccad5ae2d1c",
         "1"
        ],
        [
         "0xf71b34563c48752644d35533e579fead8fc440b3bf03e4e6fe1215ffb95fa87d",
         "1"
        ],
        [
         "0xa84c04f46fcbcaaf0511167c42f11502cc63de65e1c30d0b0893854e5981a551",
         "1"
        ],
        [
         "0xd759155e55478771122025407dc15622c6c71d98e04156e2b0097c0aa2c35cae",
         "1"
        ]
       ],
       "shape": {
        "columns": 1,
        "rows": 3427
       }
      },
      "text/plain": [
       "transactionHash\n",
       "0xbe9e2919f268121cc55f8466e7af702b6c0dd312134ee746e4600878e79efe9b    4\n",
       "0x862921210d71bb704a2090218715901800e2ed6b6e33573edb042d7c1aac1980    4\n",
       "0xa9b7e57b8202064b6fd48accbcfea54cb08fbb362638aa47681203c5daf7b722    4\n",
       "0x5a088e71e51c5b8c05db282989f21975d14e44d9c615aa00e451a68dcbebd0dc    4\n",
       "0x084dfee5800acd5bda5e48485e68e87c015fca770376eeef36405654a184e005    4\n",
       "                                                                     ..\n",
       "0xc76a1cd2b4a0d087d583ea26b415eb3e12eb7cf68aa7d1d815d12a3745a1df1a    1\n",
       "0x6857e77d39bb4363a559a34ef2d6f15f57cbb8bb842f331cfe8f2ecf32a203fa    1\n",
       "0x6954eb5514b44aff2ec9e7853b131c03d07be6890144e25dc5910fc29ee110e9    1\n",
       "0x03c6c4319a743ed1b4f12cdeb04088eaf244ed5f2350d25d78021242a66e5f07    1\n",
       "0xe38725b70f8e8b7c6aa012dd27e352ea11404d85980d203cd61dab53a80bb4fb    1\n",
       "Name: count, Length: 3427, dtype: int64"
      ]
     },
     "execution_count": 3,
     "metadata": {},
     "output_type": "execute_result"
    }
   ],
   "source": [
    "raw_df[\"transactionHash\"].value_counts()"
   ]
  },
  {
   "cell_type": "code",
   "execution_count": null,
   "metadata": {},
   "outputs": [
    {
     "data": {
      "text/plain": [
       "np.int64(3444)"
      ]
     },
     "execution_count": 2,
     "metadata": {},
     "output_type": "execute_result"
    }
   ],
   "source": [
    "raw_df.groupby(\"autopool_name\")[\"transactionHash\"].count().round().sum()\n",
    "raw_df.groupby(\"autopool_name\")[\"transactionHash\"].nunique().round().sum()\n",
    "raw_df.groupby(\"autopool_name\")[\"computed_usd_volume\"].sum().round().sum()"
   ]
  },
  {
   "cell_type": "code",
   "execution_count": null,
   "metadata": {},
   "outputs": [
    {
     "data": {
      "text/plain": [
       "np.int64(3432)"
      ]
     },
     "execution_count": 13,
     "metadata": {},
     "output_type": "execute_result"
    },
    {
     "ename": "",
     "evalue": "",
     "output_type": "error",
     "traceback": [
      "\u001b[1;31mnotebook controller is DISPOSED. \n",
      "\u001b[1;31mView Jupyter <a href='command:jupyter.viewOutput'>log</a> for further details."
     ]
    },
    {
     "ename": "",
     "evalue": "",
     "output_type": "error",
     "traceback": [
      "\u001b[1;31mnotebook controller is DISPOSED. \n",
      "\u001b[1;31mView Jupyter <a href='command:jupyter.viewOutput'>log</a> for further details."
     ]
    }
   ],
   "source": [
    "raw_df.groupby(\"autopool_name\")[\"transactionHash\"].nunique().round().sum()"
   ]
  },
  {
   "cell_type": "code",
   "execution_count": null,
   "metadata": {},
   "outputs": [
    {
     "data": {
      "text/plain": [
       "np.float64(458973037.0)"
      ]
     },
     "execution_count": 12,
     "metadata": {},
     "output_type": "execute_result"
    },
    {
     "ename": "",
     "evalue": "",
     "output_type": "error",
     "traceback": [
      "\u001b[1;31mnotebook controller is DISPOSED. \n",
      "\u001b[1;31mView Jupyter <a href='command:jupyter.viewOutput'>log</a> for further details."
     ]
    },
    {
     "ename": "",
     "evalue": "",
     "output_type": "error",
     "traceback": [
      "\u001b[1;31mnotebook controller is DISPOSED. \n",
      "\u001b[1;31mView Jupyter <a href='command:jupyter.viewOutput'>log</a> for further details."
     ]
    }
   ],
   "source": [
    "raw_df.groupby(\"autopool_name\")[\"computed_usd_volume\"].sum().round().sum()"
   ]
  },
  {
   "cell_type": "code",
   "execution_count": null,
   "metadata": {},
   "outputs": [
    {
     "data": {
      "text/plain": [
       "Index(['datetime', 'autopool', 'destinationInName', 'destinationOutName',\n",
       "       'timestamp', 'blockNumber', 'transactionHash', 'tokenOutValueInEth',\n",
       "       'tokenOutValueBaseAsset', 'chain_id', 'autopool_name', 'date', 'block',\n",
       "       'tokenOutValueInEth_norm', 'computed_usd_volume'],\n",
       "      dtype='object')"
      ]
     },
     "execution_count": 7,
     "metadata": {},
     "output_type": "execute_result"
    },
    {
     "ename": "",
     "evalue": "",
     "output_type": "error",
     "traceback": [
      "\u001b[1;31mnotebook controller is DISPOSED. \n",
      "\u001b[1;31mView Jupyter <a href='command:jupyter.viewOutput'>log</a> for further details."
     ]
    },
    {
     "ename": "",
     "evalue": "",
     "output_type": "error",
     "traceback": [
      "\u001b[1;31mnotebook controller is DISPOSED. \n",
      "\u001b[1;31mView Jupyter <a href='command:jupyter.viewOutput'>log</a> for further details."
     ]
    }
   ],
   "source": [
    "raw_df.columns"
   ]
  },
  {
   "cell_type": "code",
   "execution_count": null,
   "metadata": {},
   "outputs": [
    {
     "ename": "",
     "evalue": "",
     "output_type": "error",
     "traceback": [
      "\u001b[1;31mnotebook controller is DISPOSED. \n",
      "\u001b[1;31mView Jupyter <a href='command:jupyter.viewOutput'>log</a> for further details."
     ]
    },
    {
     "ename": "",
     "evalue": "",
     "output_type": "error",
     "traceback": [
      "\u001b[1;31mnotebook controller is DISPOSED. \n",
      "\u001b[1;31mView Jupyter <a href='command:jupyter.viewOutput'>log</a> for further details."
     ]
    }
   ],
   "source": []
  }
 ],
 "metadata": {
  "kernelspec": {
   "display_name": "mainnet-launch-py3.10",
   "language": "python",
   "name": "python3"
  },
  "language_info": {
   "codemirror_mode": {
    "name": "ipython",
    "version": 3
   },
   "file_extension": ".py",
   "mimetype": "text/x-python",
   "name": "python",
   "nbconvert_exporter": "python",
   "pygments_lexer": "ipython3",
   "version": "3.10.14"
  }
 },
 "nbformat": 4,
 "nbformat_minor": 2
}
