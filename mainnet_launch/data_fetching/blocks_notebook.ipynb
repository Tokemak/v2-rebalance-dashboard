{
 "cells": [
  {
   "cell_type": "code",
   "execution_count": 20,
   "metadata": {},
   "outputs": [
    {
     "name": "stdout",
     "output_type": "stream",
     "text": [
      "2025-05-22 16:10:59,488 INFO sqlalchemy.engine.Engine BEGIN (implicit)\n",
      "2025-05-22 16:10:59,489 INFO sqlalchemy.engine.Engine SELECT max(blocks.block) AS block \n",
      "FROM blocks \n",
      "WHERE blocks.chain_id = %(chain_id_1)s AND blocks.block >= %(block_1)s AND blocks.block <= %(block_2)s GROUP BY date_trunc(%(date_trunc_1)s, blocks.datetime) ORDER BY date_trunc(%(date_trunc_2)s, blocks.datetime)\n",
      "2025-05-22 16:10:59,489 INFO sqlalchemy.engine.Engine [cached since 953.4s ago] {'chain_id_1': 8453, 'block_1': 21901103, 'block_2': 100000000, 'date_trunc_1': 'day', 'date_trunc_2': 'day'}\n",
      "2025-05-22 16:10:59,680 INFO sqlalchemy.engine.Engine COMMIT\n"
     ]
    },
    {
     "data": {
      "text/plain": [
       "30541326"
      ]
     },
     "execution_count": 20,
     "metadata": {},
     "output_type": "execute_result"
    }
   ],
   "source": [
    "from mainnet_launch.data_fetching.block_timestamp import *\n",
    "\n",
    "from mainnet_launch.data_fetching.get_state_by_block import *\n",
    "from mainnet_launch.constants import *\n",
    "\n",
    "days_without_highest_block = build_blocks_to_use(BASE_CHAIN)\n",
    "days_without_highest_block[-1]"
   ]
  },
  {
   "cell_type": "code",
   "execution_count": null,
   "metadata": {},
   "outputs": [
    {
     "data": {
      "text/plain": [
       "[datetime.datetime(2024, 9, 15, 23, 59, 59, tzinfo=datetime.timezone.utc),\n",
       " datetime.datetime(2024, 9, 16, 23, 59, 59, tzinfo=datetime.timezone.utc),\n",
       " datetime.datetime(2024, 9, 17, 23, 59, 59, tzinfo=datetime.timezone.utc),\n",
       " datetime.datetime(2024, 9, 18, 23, 59, 59, tzinfo=datetime.timezone.utc),\n",
       " datetime.datetime(2024, 9, 19, 23, 59, 59, tzinfo=datetime.timezone.utc),\n",
       " datetime.datetime(2024, 9, 20, 23, 59, 59, tzinfo=datetime.timezone.utc),\n",
       " datetime.datetime(2024, 9, 21, 23, 59, 59, tzinfo=datetime.timezone.utc),\n",
       " datetime.datetime(2024, 9, 22, 23, 59, 59, tzinfo=datetime.timezone.utc),\n",
       " datetime.datetime(2024, 9, 23, 23, 59, 59, tzinfo=datetime.timezone.utc),\n",
       " datetime.datetime(2024, 9, 24, 23, 59, 59, tzinfo=datetime.timezone.utc),\n",
       " datetime.datetime(2024, 9, 25, 23, 59, 59, tzinfo=datetime.timezone.utc),\n",
       " datetime.datetime(2024, 9, 26, 23, 59, 59, tzinfo=datetime.timezone.utc),\n",
       " datetime.datetime(2024, 9, 27, 23, 59, 59, tzinfo=datetime.timezone.utc),\n",
       " datetime.datetime(2024, 9, 28, 23, 59, 59, tzinfo=datetime.timezone.utc),\n",
       " datetime.datetime(2024, 9, 29, 23, 59, 59, tzinfo=datetime.timezone.utc),\n",
       " datetime.datetime(2024, 9, 30, 23, 59, 59, tzinfo=datetime.timezone.utc),\n",
       " datetime.datetime(2024, 10, 1, 23, 59, 59, tzinfo=datetime.timezone.utc),\n",
       " datetime.datetime(2024, 10, 2, 23, 59, 59, tzinfo=datetime.timezone.utc),\n",
       " datetime.datetime(2024, 10, 3, 23, 59, 59, tzinfo=datetime.timezone.utc),\n",
       " datetime.datetime(2024, 10, 4, 23, 59, 59, tzinfo=datetime.timezone.utc),\n",
       " datetime.datetime(2024, 10, 5, 23, 59, 59, tzinfo=datetime.timezone.utc),\n",
       " datetime.datetime(2024, 10, 6, 23, 59, 59, tzinfo=datetime.timezone.utc),\n",
       " datetime.datetime(2024, 10, 7, 23, 59, 59, tzinfo=datetime.timezone.utc),\n",
       " datetime.datetime(2024, 10, 8, 23, 59, 59, tzinfo=datetime.timezone.utc),\n",
       " datetime.datetime(2024, 10, 9, 23, 59, 59, tzinfo=datetime.timezone.utc),\n",
       " datetime.datetime(2024, 10, 10, 23, 59, 59, tzinfo=datetime.timezone.utc),\n",
       " datetime.datetime(2024, 10, 11, 23, 59, 59, tzinfo=datetime.timezone.utc),\n",
       " datetime.datetime(2024, 10, 12, 23, 59, 59, tzinfo=datetime.timezone.utc),\n",
       " datetime.datetime(2024, 10, 13, 23, 59, 59, tzinfo=datetime.timezone.utc),\n",
       " datetime.datetime(2024, 10, 14, 23, 59, 59, tzinfo=datetime.timezone.utc),\n",
       " datetime.datetime(2024, 10, 15, 23, 59, 59, tzinfo=datetime.timezone.utc),\n",
       " datetime.datetime(2024, 10, 16, 23, 59, 59, tzinfo=datetime.timezone.utc),\n",
       " datetime.datetime(2024, 10, 17, 23, 59, 59, tzinfo=datetime.timezone.utc),\n",
       " datetime.datetime(2024, 10, 18, 23, 59, 59, tzinfo=datetime.timezone.utc),\n",
       " datetime.datetime(2024, 10, 19, 23, 59, 59, tzinfo=datetime.timezone.utc),\n",
       " datetime.datetime(2024, 10, 20, 23, 59, 59, tzinfo=datetime.timezone.utc),\n",
       " datetime.datetime(2024, 10, 21, 23, 59, 59, tzinfo=datetime.timezone.utc),\n",
       " datetime.datetime(2024, 10, 22, 23, 59, 59, tzinfo=datetime.timezone.utc),\n",
       " datetime.datetime(2024, 10, 23, 23, 59, 59, tzinfo=datetime.timezone.utc),\n",
       " datetime.datetime(2024, 10, 24, 23, 59, 59, tzinfo=datetime.timezone.utc),\n",
       " datetime.datetime(2024, 10, 25, 23, 59, 59, tzinfo=datetime.timezone.utc),\n",
       " datetime.datetime(2024, 10, 26, 23, 59, 59, tzinfo=datetime.timezone.utc),\n",
       " datetime.datetime(2024, 10, 27, 23, 59, 59, tzinfo=datetime.timezone.utc),\n",
       " datetime.datetime(2024, 10, 28, 23, 59, 59, tzinfo=datetime.timezone.utc),\n",
       " datetime.datetime(2024, 10, 29, 23, 59, 59, tzinfo=datetime.timezone.utc),\n",
       " datetime.datetime(2024, 10, 30, 23, 59, 59, tzinfo=datetime.timezone.utc),\n",
       " datetime.datetime(2024, 10, 31, 23, 59, 59, tzinfo=datetime.timezone.utc),\n",
       " datetime.datetime(2024, 11, 1, 23, 59, 59, tzinfo=datetime.timezone.utc),\n",
       " datetime.datetime(2024, 11, 2, 23, 59, 59, tzinfo=datetime.timezone.utc),\n",
       " datetime.datetime(2024, 11, 3, 23, 59, 59, tzinfo=datetime.timezone.utc),\n",
       " datetime.datetime(2024, 11, 4, 23, 59, 59, tzinfo=datetime.timezone.utc),\n",
       " datetime.datetime(2024, 11, 5, 23, 59, 59, tzinfo=datetime.timezone.utc),\n",
       " datetime.datetime(2024, 11, 6, 23, 59, 59, tzinfo=datetime.timezone.utc),\n",
       " datetime.datetime(2024, 11, 7, 23, 59, 59, tzinfo=datetime.timezone.utc),\n",
       " datetime.datetime(2024, 11, 8, 23, 59, 59, tzinfo=datetime.timezone.utc),\n",
       " datetime.datetime(2024, 11, 9, 23, 59, 59, tzinfo=datetime.timezone.utc),\n",
       " datetime.datetime(2024, 11, 10, 23, 59, 59, tzinfo=datetime.timezone.utc),\n",
       " datetime.datetime(2024, 11, 11, 23, 59, 59, tzinfo=datetime.timezone.utc),\n",
       " datetime.datetime(2024, 11, 12, 23, 59, 59, tzinfo=datetime.timezone.utc),\n",
       " datetime.datetime(2024, 11, 13, 23, 59, 59, tzinfo=datetime.timezone.utc),\n",
       " datetime.datetime(2024, 11, 14, 23, 59, 59, tzinfo=datetime.timezone.utc),\n",
       " datetime.datetime(2024, 11, 15, 23, 59, 59, tzinfo=datetime.timezone.utc),\n",
       " datetime.datetime(2024, 11, 16, 23, 59, 59, tzinfo=datetime.timezone.utc),\n",
       " datetime.datetime(2024, 11, 17, 23, 59, 59, tzinfo=datetime.timezone.utc),\n",
       " datetime.datetime(2024, 11, 18, 23, 59, 59, tzinfo=datetime.timezone.utc),\n",
       " datetime.datetime(2024, 11, 19, 23, 59, 59, tzinfo=datetime.timezone.utc),\n",
       " datetime.datetime(2024, 11, 20, 23, 59, 59, tzinfo=datetime.timezone.utc),\n",
       " datetime.datetime(2024, 11, 21, 23, 59, 59, tzinfo=datetime.timezone.utc),\n",
       " datetime.datetime(2024, 11, 22, 23, 59, 59, tzinfo=datetime.timezone.utc),\n",
       " datetime.datetime(2024, 11, 23, 23, 59, 59, tzinfo=datetime.timezone.utc),\n",
       " datetime.datetime(2024, 11, 24, 23, 59, 59, tzinfo=datetime.timezone.utc),\n",
       " datetime.datetime(2024, 11, 25, 23, 59, 59, tzinfo=datetime.timezone.utc),\n",
       " datetime.datetime(2024, 11, 26, 23, 59, 59, tzinfo=datetime.timezone.utc),\n",
       " datetime.datetime(2024, 11, 27, 23, 59, 59, tzinfo=datetime.timezone.utc),\n",
       " datetime.datetime(2024, 11, 28, 23, 59, 59, tzinfo=datetime.timezone.utc),\n",
       " datetime.datetime(2024, 11, 29, 23, 59, 59, tzinfo=datetime.timezone.utc),\n",
       " datetime.datetime(2024, 11, 30, 23, 59, 59, tzinfo=datetime.timezone.utc),\n",
       " datetime.datetime(2024, 12, 1, 23, 59, 59, tzinfo=datetime.timezone.utc),\n",
       " datetime.datetime(2024, 12, 2, 23, 59, 59, tzinfo=datetime.timezone.utc),\n",
       " datetime.datetime(2024, 12, 3, 23, 59, 59, tzinfo=datetime.timezone.utc),\n",
       " datetime.datetime(2024, 12, 4, 23, 59, 59, tzinfo=datetime.timezone.utc),\n",
       " datetime.datetime(2024, 12, 5, 23, 59, 59, tzinfo=datetime.timezone.utc),\n",
       " datetime.datetime(2024, 12, 6, 23, 59, 59, tzinfo=datetime.timezone.utc),\n",
       " datetime.datetime(2024, 12, 7, 23, 59, 59, tzinfo=datetime.timezone.utc),\n",
       " datetime.datetime(2024, 12, 8, 23, 59, 59, tzinfo=datetime.timezone.utc),\n",
       " datetime.datetime(2024, 12, 9, 23, 59, 59, tzinfo=datetime.timezone.utc),\n",
       " datetime.datetime(2024, 12, 10, 23, 59, 59, tzinfo=datetime.timezone.utc),\n",
       " datetime.datetime(2024, 12, 11, 23, 59, 59, tzinfo=datetime.timezone.utc),\n",
       " datetime.datetime(2024, 12, 12, 23, 59, 59, tzinfo=datetime.timezone.utc),\n",
       " datetime.datetime(2024, 12, 13, 23, 59, 59, tzinfo=datetime.timezone.utc),\n",
       " datetime.datetime(2024, 12, 14, 23, 59, 59, tzinfo=datetime.timezone.utc),\n",
       " datetime.datetime(2024, 12, 15, 23, 59, 59, tzinfo=datetime.timezone.utc),\n",
       " datetime.datetime(2024, 12, 16, 23, 59, 59, tzinfo=datetime.timezone.utc),\n",
       " datetime.datetime(2024, 12, 17, 23, 59, 59, tzinfo=datetime.timezone.utc),\n",
       " datetime.datetime(2024, 12, 18, 23, 59, 59, tzinfo=datetime.timezone.utc),\n",
       " datetime.datetime(2024, 12, 19, 23, 59, 59, tzinfo=datetime.timezone.utc),\n",
       " datetime.datetime(2024, 12, 20, 23, 59, 59, tzinfo=datetime.timezone.utc),\n",
       " datetime.datetime(2024, 12, 21, 23, 59, 59, tzinfo=datetime.timezone.utc),\n",
       " datetime.datetime(2024, 12, 22, 23, 59, 59, tzinfo=datetime.timezone.utc),\n",
       " datetime.datetime(2024, 12, 23, 23, 59, 59, tzinfo=datetime.timezone.utc),\n",
       " datetime.datetime(2024, 12, 24, 23, 59, 59, tzinfo=datetime.timezone.utc),\n",
       " datetime.datetime(2024, 12, 25, 23, 59, 59, tzinfo=datetime.timezone.utc),\n",
       " datetime.datetime(2024, 12, 26, 23, 59, 59, tzinfo=datetime.timezone.utc),\n",
       " datetime.datetime(2024, 12, 27, 23, 59, 59, tzinfo=datetime.timezone.utc),\n",
       " datetime.datetime(2024, 12, 28, 23, 59, 59, tzinfo=datetime.timezone.utc),\n",
       " datetime.datetime(2024, 12, 29, 23, 59, 59, tzinfo=datetime.timezone.utc),\n",
       " datetime.datetime(2024, 12, 30, 23, 59, 59, tzinfo=datetime.timezone.utc),\n",
       " datetime.datetime(2024, 12, 31, 23, 59, 59, tzinfo=datetime.timezone.utc),\n",
       " datetime.datetime(2025, 1, 1, 23, 59, 59, tzinfo=datetime.timezone.utc),\n",
       " datetime.datetime(2025, 1, 2, 23, 59, 59, tzinfo=datetime.timezone.utc),\n",
       " datetime.datetime(2025, 1, 3, 23, 59, 59, tzinfo=datetime.timezone.utc),\n",
       " datetime.datetime(2025, 1, 4, 23, 59, 59, tzinfo=datetime.timezone.utc),\n",
       " datetime.datetime(2025, 1, 5, 23, 59, 59, tzinfo=datetime.timezone.utc),\n",
       " datetime.datetime(2025, 1, 6, 23, 59, 59, tzinfo=datetime.timezone.utc),\n",
       " datetime.datetime(2025, 1, 7, 23, 59, 59, tzinfo=datetime.timezone.utc),\n",
       " datetime.datetime(2025, 1, 8, 23, 59, 59, tzinfo=datetime.timezone.utc),\n",
       " datetime.datetime(2025, 1, 9, 23, 59, 59, tzinfo=datetime.timezone.utc),\n",
       " datetime.datetime(2025, 1, 10, 23, 59, 59, tzinfo=datetime.timezone.utc),\n",
       " datetime.datetime(2025, 1, 11, 23, 59, 59, tzinfo=datetime.timezone.utc),\n",
       " datetime.datetime(2025, 1, 12, 23, 59, 59, tzinfo=datetime.timezone.utc),\n",
       " datetime.datetime(2025, 1, 13, 23, 59, 59, tzinfo=datetime.timezone.utc),\n",
       " datetime.datetime(2025, 1, 14, 23, 59, 59, tzinfo=datetime.timezone.utc),\n",
       " datetime.datetime(2025, 1, 15, 23, 59, 59, tzinfo=datetime.timezone.utc),\n",
       " datetime.datetime(2025, 1, 16, 23, 59, 59, tzinfo=datetime.timezone.utc),\n",
       " datetime.datetime(2025, 1, 17, 23, 59, 59, tzinfo=datetime.timezone.utc),\n",
       " datetime.datetime(2025, 1, 18, 23, 59, 59, tzinfo=datetime.timezone.utc),\n",
       " datetime.datetime(2025, 1, 19, 23, 59, 59, tzinfo=datetime.timezone.utc),\n",
       " datetime.datetime(2025, 1, 20, 23, 59, 59, tzinfo=datetime.timezone.utc),\n",
       " datetime.datetime(2025, 1, 21, 23, 59, 59, tzinfo=datetime.timezone.utc),\n",
       " datetime.datetime(2025, 1, 22, 23, 59, 59, tzinfo=datetime.timezone.utc),\n",
       " datetime.datetime(2025, 1, 23, 23, 59, 59, tzinfo=datetime.timezone.utc),\n",
       " datetime.datetime(2025, 1, 24, 23, 59, 59, tzinfo=datetime.timezone.utc),\n",
       " datetime.datetime(2025, 1, 25, 23, 59, 59, tzinfo=datetime.timezone.utc),\n",
       " datetime.datetime(2025, 1, 26, 23, 59, 59, tzinfo=datetime.timezone.utc),\n",
       " datetime.datetime(2025, 1, 27, 23, 59, 59, tzinfo=datetime.timezone.utc),\n",
       " datetime.datetime(2025, 1, 28, 23, 59, 59, tzinfo=datetime.timezone.utc),\n",
       " datetime.datetime(2025, 1, 29, 23, 59, 59, tzinfo=datetime.timezone.utc),\n",
       " datetime.datetime(2025, 1, 30, 23, 59, 59, tzinfo=datetime.timezone.utc),\n",
       " datetime.datetime(2025, 1, 31, 23, 59, 59, tzinfo=datetime.timezone.utc),\n",
       " datetime.datetime(2025, 2, 1, 23, 59, 59, tzinfo=datetime.timezone.utc),\n",
       " datetime.datetime(2025, 2, 2, 23, 59, 59, tzinfo=datetime.timezone.utc),\n",
       " datetime.datetime(2025, 2, 3, 23, 59, 59, tzinfo=datetime.timezone.utc),\n",
       " datetime.datetime(2025, 2, 4, 23, 59, 59, tzinfo=datetime.timezone.utc),\n",
       " datetime.datetime(2025, 2, 5, 23, 59, 59, tzinfo=datetime.timezone.utc),\n",
       " datetime.datetime(2025, 2, 6, 23, 59, 59, tzinfo=datetime.timezone.utc),\n",
       " datetime.datetime(2025, 2, 7, 23, 59, 59, tzinfo=datetime.timezone.utc),\n",
       " datetime.datetime(2025, 2, 8, 23, 59, 59, tzinfo=datetime.timezone.utc),\n",
       " datetime.datetime(2025, 2, 9, 23, 59, 59, tzinfo=datetime.timezone.utc),\n",
       " datetime.datetime(2025, 2, 10, 23, 59, 59, tzinfo=datetime.timezone.utc),\n",
       " datetime.datetime(2025, 2, 11, 23, 59, 59, tzinfo=datetime.timezone.utc),\n",
       " datetime.datetime(2025, 2, 12, 23, 59, 59, tzinfo=datetime.timezone.utc),\n",
       " datetime.datetime(2025, 2, 13, 23, 59, 59, tzinfo=datetime.timezone.utc),\n",
       " datetime.datetime(2025, 2, 14, 23, 59, 59, tzinfo=datetime.timezone.utc),\n",
       " datetime.datetime(2025, 2, 15, 23, 59, 59, tzinfo=datetime.timezone.utc),\n",
       " datetime.datetime(2025, 2, 16, 23, 59, 59, tzinfo=datetime.timezone.utc),\n",
       " datetime.datetime(2025, 2, 17, 23, 59, 59, tzinfo=datetime.timezone.utc),\n",
       " datetime.datetime(2025, 2, 18, 23, 59, 59, tzinfo=datetime.timezone.utc),\n",
       " datetime.datetime(2025, 2, 19, 23, 59, 59, tzinfo=datetime.timezone.utc),\n",
       " datetime.datetime(2025, 2, 20, 23, 59, 59, tzinfo=datetime.timezone.utc),\n",
       " datetime.datetime(2025, 2, 21, 23, 59, 59, tzinfo=datetime.timezone.utc),\n",
       " datetime.datetime(2025, 2, 22, 23, 59, 59, tzinfo=datetime.timezone.utc),\n",
       " datetime.datetime(2025, 2, 23, 23, 59, 59, tzinfo=datetime.timezone.utc),\n",
       " datetime.datetime(2025, 2, 24, 23, 59, 59, tzinfo=datetime.timezone.utc),\n",
       " datetime.datetime(2025, 2, 25, 23, 59, 59, tzinfo=datetime.timezone.utc),\n",
       " datetime.datetime(2025, 2, 26, 23, 59, 59, tzinfo=datetime.timezone.utc),\n",
       " datetime.datetime(2025, 2, 27, 23, 59, 59, tzinfo=datetime.timezone.utc),\n",
       " datetime.datetime(2025, 2, 28, 23, 59, 59, tzinfo=datetime.timezone.utc),\n",
       " datetime.datetime(2025, 3, 1, 23, 59, 59, tzinfo=datetime.timezone.utc),\n",
       " datetime.datetime(2025, 3, 2, 23, 59, 59, tzinfo=datetime.timezone.utc),\n",
       " datetime.datetime(2025, 3, 3, 23, 59, 59, tzinfo=datetime.timezone.utc),\n",
       " datetime.datetime(2025, 3, 4, 23, 59, 59, tzinfo=datetime.timezone.utc),\n",
       " datetime.datetime(2025, 3, 5, 23, 59, 59, tzinfo=datetime.timezone.utc),\n",
       " datetime.datetime(2025, 3, 6, 23, 59, 59, tzinfo=datetime.timezone.utc),\n",
       " datetime.datetime(2025, 3, 7, 23, 59, 59, tzinfo=datetime.timezone.utc),\n",
       " datetime.datetime(2025, 3, 8, 23, 59, 59, tzinfo=datetime.timezone.utc),\n",
       " datetime.datetime(2025, 3, 9, 23, 59, 59, tzinfo=datetime.timezone.utc),\n",
       " datetime.datetime(2025, 3, 10, 23, 59, 59, tzinfo=datetime.timezone.utc),\n",
       " datetime.datetime(2025, 3, 11, 23, 59, 59, tzinfo=datetime.timezone.utc),\n",
       " datetime.datetime(2025, 3, 12, 23, 59, 59, tzinfo=datetime.timezone.utc),\n",
       " datetime.datetime(2025, 3, 13, 23, 59, 59, tzinfo=datetime.timezone.utc),\n",
       " datetime.datetime(2025, 3, 14, 23, 59, 59, tzinfo=datetime.timezone.utc),\n",
       " datetime.datetime(2025, 3, 15, 23, 59, 59, tzinfo=datetime.timezone.utc),\n",
       " datetime.datetime(2025, 3, 16, 23, 59, 59, tzinfo=datetime.timezone.utc),\n",
       " datetime.datetime(2025, 3, 17, 23, 59, 59, tzinfo=datetime.timezone.utc),\n",
       " datetime.datetime(2025, 3, 18, 23, 59, 59, tzinfo=datetime.timezone.utc),\n",
       " datetime.datetime(2025, 3, 19, 23, 59, 59, tzinfo=datetime.timezone.utc),\n",
       " datetime.datetime(2025, 3, 20, 23, 59, 59, tzinfo=datetime.timezone.utc),\n",
       " datetime.datetime(2025, 3, 21, 23, 59, 59, tzinfo=datetime.timezone.utc),\n",
       " datetime.datetime(2025, 3, 22, 23, 59, 59, tzinfo=datetime.timezone.utc),\n",
       " datetime.datetime(2025, 3, 23, 23, 59, 59, tzinfo=datetime.timezone.utc),\n",
       " datetime.datetime(2025, 3, 24, 23, 59, 59, tzinfo=datetime.timezone.utc),\n",
       " datetime.datetime(2025, 3, 25, 23, 59, 59, tzinfo=datetime.timezone.utc),\n",
       " datetime.datetime(2025, 3, 26, 23, 59, 59, tzinfo=datetime.timezone.utc),\n",
       " datetime.datetime(2025, 3, 27, 23, 59, 59, tzinfo=datetime.timezone.utc),\n",
       " datetime.datetime(2025, 3, 28, 23, 59, 59, tzinfo=datetime.timezone.utc),\n",
       " datetime.datetime(2025, 3, 29, 23, 59, 59, tzinfo=datetime.timezone.utc),\n",
       " datetime.datetime(2025, 3, 30, 23, 59, 59, tzinfo=datetime.timezone.utc),\n",
       " datetime.datetime(2025, 3, 31, 23, 59, 59, tzinfo=datetime.timezone.utc),\n",
       " datetime.datetime(2025, 4, 1, 23, 59, 59, tzinfo=datetime.timezone.utc),\n",
       " datetime.datetime(2025, 4, 2, 23, 59, 59, tzinfo=datetime.timezone.utc),\n",
       " datetime.datetime(2025, 4, 3, 23, 59, 59, tzinfo=datetime.timezone.utc),\n",
       " datetime.datetime(2025, 4, 4, 23, 59, 59, tzinfo=datetime.timezone.utc),\n",
       " datetime.datetime(2025, 4, 5, 23, 59, 59, tzinfo=datetime.timezone.utc),\n",
       " datetime.datetime(2025, 4, 6, 23, 59, 59, tzinfo=datetime.timezone.utc),\n",
       " datetime.datetime(2025, 4, 7, 23, 59, 59, tzinfo=datetime.timezone.utc),\n",
       " datetime.datetime(2025, 4, 8, 23, 59, 59, tzinfo=datetime.timezone.utc),\n",
       " datetime.datetime(2025, 4, 9, 23, 59, 59, tzinfo=datetime.timezone.utc),\n",
       " datetime.datetime(2025, 4, 10, 23, 59, 59, tzinfo=datetime.timezone.utc),\n",
       " datetime.datetime(2025, 4, 11, 23, 59, 59, tzinfo=datetime.timezone.utc),\n",
       " datetime.datetime(2025, 4, 12, 23, 59, 59, tzinfo=datetime.timezone.utc),\n",
       " datetime.datetime(2025, 4, 13, 23, 59, 59, tzinfo=datetime.timezone.utc),\n",
       " datetime.datetime(2025, 4, 14, 23, 59, 59, tzinfo=datetime.timezone.utc),\n",
       " datetime.datetime(2025, 4, 15, 23, 59, 59, tzinfo=datetime.timezone.utc),\n",
       " datetime.datetime(2025, 4, 16, 23, 59, 59, tzinfo=datetime.timezone.utc),\n",
       " datetime.datetime(2025, 4, 17, 23, 59, 59, tzinfo=datetime.timezone.utc),\n",
       " datetime.datetime(2025, 4, 18, 23, 59, 59, tzinfo=datetime.timezone.utc),\n",
       " datetime.datetime(2025, 4, 19, 23, 59, 59, tzinfo=datetime.timezone.utc),\n",
       " datetime.datetime(2025, 4, 20, 23, 59, 59, tzinfo=datetime.timezone.utc),\n",
       " datetime.datetime(2025, 4, 21, 23, 59, 59, tzinfo=datetime.timezone.utc),\n",
       " datetime.datetime(2025, 4, 22, 23, 59, 59, tzinfo=datetime.timezone.utc),\n",
       " datetime.datetime(2025, 4, 23, 23, 59, 59, tzinfo=datetime.timezone.utc),\n",
       " datetime.datetime(2025, 4, 24, 23, 59, 59, tzinfo=datetime.timezone.utc),\n",
       " datetime.datetime(2025, 4, 25, 23, 59, 59, tzinfo=datetime.timezone.utc),\n",
       " datetime.datetime(2025, 4, 26, 23, 59, 59, tzinfo=datetime.timezone.utc),\n",
       " datetime.datetime(2025, 4, 27, 23, 59, 59, tzinfo=datetime.timezone.utc),\n",
       " datetime.datetime(2025, 4, 28, 23, 59, 59, tzinfo=datetime.timezone.utc),\n",
       " datetime.datetime(2025, 4, 29, 23, 59, 59, tzinfo=datetime.timezone.utc),\n",
       " datetime.datetime(2025, 4, 30, 23, 59, 59, tzinfo=datetime.timezone.utc),\n",
       " datetime.datetime(2025, 5, 1, 23, 59, 59, tzinfo=datetime.timezone.utc),\n",
       " datetime.datetime(2025, 5, 2, 23, 59, 59, tzinfo=datetime.timezone.utc),\n",
       " datetime.datetime(2025, 5, 3, 23, 59, 59, tzinfo=datetime.timezone.utc),\n",
       " datetime.datetime(2025, 5, 4, 23, 59, 59, tzinfo=datetime.timezone.utc),\n",
       " datetime.datetime(2025, 5, 5, 23, 59, 59, tzinfo=datetime.timezone.utc),\n",
       " datetime.datetime(2025, 5, 6, 23, 59, 59, tzinfo=datetime.timezone.utc),\n",
       " datetime.datetime(2025, 5, 7, 23, 59, 59, tzinfo=datetime.timezone.utc),\n",
       " datetime.datetime(2025, 5, 8, 23, 59, 59, tzinfo=datetime.timezone.utc),\n",
       " datetime.datetime(2025, 5, 9, 23, 59, 59, tzinfo=datetime.timezone.utc),\n",
       " datetime.datetime(2025, 5, 10, 23, 59, 59, tzinfo=datetime.timezone.utc),\n",
       " datetime.datetime(2025, 5, 11, 23, 59, 59, tzinfo=datetime.timezone.utc),\n",
       " datetime.datetime(2025, 5, 12, 23, 59, 59, tzinfo=datetime.timezone.utc),\n",
       " datetime.datetime(2025, 5, 13, 23, 59, 59, tzinfo=datetime.timezone.utc),\n",
       " datetime.datetime(2025, 5, 14, 23, 59, 59, tzinfo=datetime.timezone.utc),\n",
       " datetime.datetime(2025, 5, 15, 23, 59, 59, tzinfo=datetime.timezone.utc),\n",
       " datetime.datetime(2025, 5, 16, 23, 59, 59, tzinfo=datetime.timezone.utc),\n",
       " datetime.datetime(2025, 5, 17, 23, 59, 59, tzinfo=datetime.timezone.utc),\n",
       " datetime.datetime(2025, 5, 18, 23, 59, 59, tzinfo=datetime.timezone.utc),\n",
       " datetime.datetime(2025, 5, 19, 23, 59, 59, tzinfo=datetime.timezone.utc),\n",
       " datetime.datetime(2025, 5, 20, 23, 59, 59, tzinfo=datetime.timezone.utc),\n",
       " datetime.datetime(2025, 5, 21, 23, 59, 59, tzinfo=datetime.timezone.utc)]"
      ]
     },
     "execution_count": 8,
     "metadata": {},
     "output_type": "execute_result"
    }
   ],
   "source": [
    "last_second_of_each_day_since_inception = build_last_second_of_each_day_since_inception()\n",
    "\n",
    "seconds_to_get = []\n",
    "\n",
    "for last_second in last_second_of_each_day_since_inception:\n",
    "    if last_second.date() in days_without_highest_block[\"timestamp\"].dt.date:\n",
    "        seconds_to_get.append(last_second)\n",
    "seconds_to_get"
   ]
  },
  {
   "cell_type": "code",
   "execution_count": 16,
   "metadata": {},
   "outputs": [
    {
     "data": {
      "application/vnd.microsoft.datawrangler.viewer.v0+json": {
       "columns": [
        {
         "name": "index",
         "rawType": "object",
         "type": "string"
        },
        {
         "name": "0",
         "rawType": "object",
         "type": "unknown"
        }
       ],
       "ref": "eee98f3a-e2d2-47e8-a25a-e3d0f3aa24b8",
       "rows": [
        [
         "timestamp",
         "datetime64[ns, UTC]"
        ],
        [
         "block",
         "int64"
        ],
        [
         "date",
         "object"
        ]
       ],
       "shape": {
        "columns": 1,
        "rows": 3
       }
      },
      "text/plain": [
       "timestamp    datetime64[ns, UTC]\n",
       "block                      int64\n",
       "date                      object\n",
       "dtype: object"
      ]
     },
     "execution_count": 16,
     "metadata": {},
     "output_type": "execute_result"
    }
   ],
   "source": [
    "days_without_highest_block.dtypes"
   ]
  },
  {
   "cell_type": "code",
   "execution_count": null,
   "metadata": {},
   "outputs": [
    {
     "data": {
      "text/plain": [
       "[]"
      ]
     },
     "execution_count": 18,
     "metadata": {},
     "output_type": "execute_result"
    }
   ],
   "source": [
    "s"
   ]
  },
  {
   "cell_type": "code",
   "execution_count": 11,
   "metadata": {},
   "outputs": [
    {
     "data": {
      "text/plain": [
       "array([datetime.date(2025, 5, 22)], dtype=object)"
      ]
     },
     "execution_count": 11,
     "metadata": {},
     "output_type": "execute_result"
    }
   ],
   "source": [
    "days_without_highest_block[\"date\"].values"
   ]
  },
  {
   "cell_type": "code",
   "execution_count": 3,
   "metadata": {},
   "outputs": [],
   "source": [
    "# def ensure_blocks_is_current():\n",
    "#     \"\"\"idempotic function \"\"\"\n",
    "\n",
    "# #     for chain in ALL_CHAINS:\n",
    "\n",
    "\n",
    "# #         highest_datetime = get_highest_value_in_field_where(\n",
    "# #             Blocks, Blocks.datetime, where_clause=Blocks.chain_id == chain.chain_id\n",
    "# #         )\n",
    "\n",
    "# #         if highest_datetime is None:\n",
    "# #             highest_datetime = datetime.fromtimestamp(1726365887, tz=timezone.utc)  # when autoETH was deployed\n",
    "\n",
    "# #         yesterday = datetime.now(tz=timezone.utc) - timedelta(days=1)\n",
    "# #         if highest_datetime.date() < yesterday.date():\n",
    "# #             highest_timestamp = int(highest_datetime.timestamp())\n",
    "# #             new_timestamps = _compute_highest_timestamp_of_each_day(highest_timestamp)\n",
    "# #             blocks_df = _fetch_block_df_from_subgraph(chain, new_timestamps)\n",
    "# #             add_blocks_from_dataframe_to_database(blocks_df)"
   ]
  }
 ],
 "metadata": {
  "kernelspec": {
   "display_name": "mainnet-launch-FtycU18g-py3.10",
   "language": "python",
   "name": "python3"
  },
  "language_info": {
   "codemirror_mode": {
    "name": "ipython",
    "version": 3
   },
   "file_extension": ".py",
   "mimetype": "text/x-python",
   "name": "python",
   "nbconvert_exporter": "python",
   "pygments_lexer": "ipython3",
   "version": "3.10.14"
  }
 },
 "nbformat": 4,
 "nbformat_minor": 2
}
