{
 "cells": [
  {
   "cell_type": "code",
   "execution_count": 7,
   "metadata": {},
   "outputs": [],
   "source": [
    "from fetch_quotes import *\n",
    "\n",
    "\n",
    "def _process_odos_quote(GHO_TO_USDC: dict) -> dict:\n",
    "    processed_quote = {}\n",
    "    processed_quote[\"usdc_out\"] = int(GHO_TO_USDC[\"outAmounts\"]) / 1e6\n",
    "    processed_quote[\"GHO_in\"] = int(GHO_TO_USDC[\"inAmounts\"]) / 1e18\n",
    "    processed_quote[\"price\"] = processed_quote[\"usdc_out\"] / processed_quote[\"GHO_in\"]\n",
    "    return processed_quote"
   ]
  },
  {
   "cell_type": "code",
   "execution_count": null,
   "metadata": {},
   "outputs": [
    {
     "name": "stderr",
     "output_type": "stream",
     "text": [
      "Fetching 3rd-party data from https://api.odos.xyz/sor/quote/v3: 100%|██████████| 1/1 [00:00<00:00,  1.58it/s]\n"
     ]
    }
   ],
   "source": [
    "GHO_TO_USDC = fetch_odos_single_token_raw_quote(\n",
    "    chain_id=BASE_CHAIN.chain_id,\n",
    "    token_in=\"0x6Bb7a212910682DCFdbd5BCBb3e28FB4E8da10Ee\",\n",
    "    token_out=\"0x833589fCD6eDb6E08f4c7C32D4f71b54bdA02913\",\n",
    "    unscaled_amount_in=str(int(10_000e18)),\n",
    ")\n",
    "\n",
    "\n",
    "reference_quote = _process_odos_quote(GHO_TO_USDC)\n",
    "reference_quote"
   ]
  },
  {
   "cell_type": "code",
   "execution_count": null,
   "metadata": {},
   "outputs": [
    {
     "name": "stderr",
     "output_type": "stream",
     "text": [
      "Fetching 3rd-party data from https://api.odos.xyz/sor/quote/v3: 100%|██████████| 1/1 [00:01<00:00,  1.09s/it]\n",
      "Fetching 3rd-party data from https://api.odos.xyz/sor/quote/v3: 100%|██████████| 1/1 [00:00<00:00,  8.54it/s]\n",
      "Fetching 3rd-party data from https://api.odos.xyz/sor/quote/v3: 100%|██████████| 1/1 [00:00<00:00,  9.25it/s]\n",
      "Fetching 3rd-party data from https://api.odos.xyz/sor/quote/v3: 100%|██████████| 1/1 [00:00<00:00, 10.56it/s]\n",
      "Fetching 3rd-party data from https://api.odos.xyz/sor/quote/v3: 100%|██████████| 1/1 [00:00<00:00, 11.28it/s]\n",
      "Fetching 3rd-party data from https://api.odos.xyz/sor/quote/v3: 100%|██████████| 1/1 [00:00<00:00, 10.85it/s]\n",
      "Fetching 3rd-party data from https://api.odos.xyz/sor/quote/v3: 100%|██████████| 1/1 [00:00<00:00,  9.01it/s]\n",
      "Fetching 3rd-party data from https://api.odos.xyz/sor/quote/v3: 100%|██████████| 1/1 [00:00<00:00,  6.78it/s]\n",
      "Fetching 3rd-party data from https://api.odos.xyz/sor/quote/v3: 100%|██████████| 1/1 [00:00<00:00,  8.39it/s]\n",
      "Fetching 3rd-party data from https://api.odos.xyz/sor/quote/v3: 100%|██████████| 1/1 [00:00<00:00,  8.17it/s]\n",
      "Fetching 3rd-party data from https://api.odos.xyz/sor/quote/v3: 100%|██████████| 1/1 [00:00<00:00,  9.33it/s]\n",
      "Fetching 3rd-party data from https://api.odos.xyz/sor/quote/v3: 100%|██████████| 1/1 [00:00<00:00, 11.69it/s]\n",
      "Fetching 3rd-party data from https://api.odos.xyz/sor/quote/v3: 100%|██████████| 1/1 [00:00<00:00, 11.76it/s]\n",
      "Fetching 3rd-party data from https://api.odos.xyz/sor/quote/v3: 100%|██████████| 1/1 [00:00<00:00,  4.76it/s]\n",
      "Fetching 3rd-party data from https://api.odos.xyz/sor/quote/v3: 100%|██████████| 1/1 [00:00<00:00,  7.83it/s]\n",
      "Fetching 3rd-party data from https://api.odos.xyz/sor/quote/v3: 100%|██████████| 1/1 [00:00<00:00, 11.05it/s]\n",
      "Fetching 3rd-party data from https://api.odos.xyz/sor/quote/v3: 100%|██████████| 1/1 [00:00<00:00,  9.82it/s]\n"
     ]
    },
    {
     "data": {
      "application/vnd.microsoft.datawrangler.viewer.v0+json": {
       "columns": [
        {
         "name": "index",
         "rawType": "int64",
         "type": "integer"
        },
        {
         "name": "usdc_out",
         "rawType": "object",
         "type": "unknown"
        },
        {
         "name": "GHO_in",
         "rawType": "object",
         "type": "unknown"
        },
        {
         "name": "price",
         "rawType": "object",
         "type": "unknown"
        },
        {
         "name": "compact",
         "rawType": "bool",
         "type": "boolean"
        },
        {
         "name": "simple",
         "rawType": "bool",
         "type": "boolean"
        },
        {
         "name": "likeAsset",
         "rawType": "bool",
         "type": "boolean"
        },
        {
         "name": "3rd_party_response_success",
         "rawType": "bool",
         "type": "boolean"
        },
        {
         "name": "chainId",
         "rawType": "int64",
         "type": "integer"
        },
        {
         "name": "inputTokens",
         "rawType": "object",
         "type": "unknown"
        },
        {
         "name": "outputTokens",
         "rawType": "object",
         "type": "unknown"
        },
        {
         "name": "method",
         "rawType": "object",
         "type": "string"
        },
        {
         "name": "url",
         "rawType": "object",
         "type": "string"
        }
       ],
       "ref": "0684a5d6-6397-4a1f-8379-f5ca9dbad111",
       "rows": [
        [
         "0",
         null,
         null,
         null,
         "True",
         "True",
         "True",
         "False",
         "8453",
         "[{'tokenAddress': '0x6Bb7a212910682DCFdbd5BCBb3e28FB4E8da10Ee', 'amount': '0'}]",
         "[{'tokenAddress': '0x833589fCD6eDb6E08f4c7C32D4f71b54bdA02913', 'proportion': 1.0}]",
         "POST",
         "https://api.odos.xyz/sor/quote/v3"
        ],
        [
         "1",
         null,
         null,
         null,
         "True",
         "True",
         "False",
         "False",
         "8453",
         "[{'tokenAddress': '0x6Bb7a212910682DCFdbd5BCBb3e28FB4E8da10Ee', 'amount': '0'}]",
         "[{'tokenAddress': '0x833589fCD6eDb6E08f4c7C32D4f71b54bdA02913', 'proportion': 1.0}]",
         "POST",
         "https://api.odos.xyz/sor/quote/v3"
        ],
        [
         "2",
         null,
         null,
         null,
         "True",
         "False",
         "True",
         "False",
         "8453",
         "[{'tokenAddress': '0x6Bb7a212910682DCFdbd5BCBb3e28FB4E8da10Ee', 'amount': '0'}]",
         "[{'tokenAddress': '0x833589fCD6eDb6E08f4c7C32D4f71b54bdA02913', 'proportion': 1.0}]",
         "POST",
         "https://api.odos.xyz/sor/quote/v3"
        ],
        [
         "3",
         null,
         null,
         null,
         "True",
         "False",
         "False",
         "False",
         "8453",
         "[{'tokenAddress': '0x6Bb7a212910682DCFdbd5BCBb3e28FB4E8da10Ee', 'amount': '0'}]",
         "[{'tokenAddress': '0x833589fCD6eDb6E08f4c7C32D4f71b54bdA02913', 'proportion': 1.0}]",
         "POST",
         "https://api.odos.xyz/sor/quote/v3"
        ],
        [
         "4",
         null,
         null,
         null,
         "False",
         "True",
         "True",
         "False",
         "8453",
         "[{'tokenAddress': '0x6Bb7a212910682DCFdbd5BCBb3e28FB4E8da10Ee', 'amount': '0'}]",
         "[{'tokenAddress': '0x833589fCD6eDb6E08f4c7C32D4f71b54bdA02913', 'proportion': 1.0}]",
         "POST",
         "https://api.odos.xyz/sor/quote/v3"
        ],
        [
         "5",
         null,
         null,
         null,
         "False",
         "True",
         "False",
         "False",
         "8453",
         "[{'tokenAddress': '0x6Bb7a212910682DCFdbd5BCBb3e28FB4E8da10Ee', 'amount': '0'}]",
         "[{'tokenAddress': '0x833589fCD6eDb6E08f4c7C32D4f71b54bdA02913', 'proportion': 1.0}]",
         "POST",
         "https://api.odos.xyz/sor/quote/v3"
        ],
        [
         "6",
         null,
         null,
         null,
         "False",
         "False",
         "True",
         "False",
         "8453",
         "[{'tokenAddress': '0x6Bb7a212910682DCFdbd5BCBb3e28FB4E8da10Ee', 'amount': '0'}]",
         "[{'tokenAddress': '0x833589fCD6eDb6E08f4c7C32D4f71b54bdA02913', 'proportion': 1.0}]",
         "POST",
         "https://api.odos.xyz/sor/quote/v3"
        ],
        [
         "7",
         null,
         null,
         null,
         "False",
         "False",
         "False",
         "False",
         "8453",
         "[{'tokenAddress': '0x6Bb7a212910682DCFdbd5BCBb3e28FB4E8da10Ee', 'amount': '0'}]",
         "[{'tokenAddress': '0x833589fCD6eDb6E08f4c7C32D4f71b54bdA02913', 'proportion': 1.0}]",
         "POST",
         "https://api.odos.xyz/sor/quote/v3"
        ],
        [
         "8",
         null,
         null,
         null,
         "True",
         "True",
         "True",
         "False",
         "8453",
         "[{'tokenAddress': '0x6Bb7a212910682DCFdbd5BCBb3e28FB4E8da10Ee', 'amount': '0'}]",
         "[{'tokenAddress': '0x833589fCD6eDb6E08f4c7C32D4f71b54bdA02913', 'proportion': 1.0}]",
         "POST",
         "https://api.odos.xyz/sor/quote/v3"
        ],
        [
         "9",
         null,
         null,
         null,
         "True",
         "True",
         "False",
         "False",
         "8453",
         "[{'tokenAddress': '0x6Bb7a212910682DCFdbd5BCBb3e28FB4E8da10Ee', 'amount': '0'}]",
         "[{'tokenAddress': '0x833589fCD6eDb6E08f4c7C32D4f71b54bdA02913', 'proportion': 1.0}]",
         "POST",
         "https://api.odos.xyz/sor/quote/v3"
        ],
        [
         "10",
         null,
         null,
         null,
         "True",
         "False",
         "True",
         "False",
         "8453",
         "[{'tokenAddress': '0x6Bb7a212910682DCFdbd5BCBb3e28FB4E8da10Ee', 'amount': '0'}]",
         "[{'tokenAddress': '0x833589fCD6eDb6E08f4c7C32D4f71b54bdA02913', 'proportion': 1.0}]",
         "POST",
         "https://api.odos.xyz/sor/quote/v3"
        ],
        [
         "11",
         null,
         null,
         null,
         "True",
         "False",
         "False",
         "False",
         "8453",
         "[{'tokenAddress': '0x6Bb7a212910682DCFdbd5BCBb3e28FB4E8da10Ee', 'amount': '0'}]",
         "[{'tokenAddress': '0x833589fCD6eDb6E08f4c7C32D4f71b54bdA02913', 'proportion': 1.0}]",
         "POST",
         "https://api.odos.xyz/sor/quote/v3"
        ],
        [
         "12",
         null,
         null,
         null,
         "False",
         "True",
         "True",
         "False",
         "8453",
         "[{'tokenAddress': '0x6Bb7a212910682DCFdbd5BCBb3e28FB4E8da10Ee', 'amount': '0'}]",
         "[{'tokenAddress': '0x833589fCD6eDb6E08f4c7C32D4f71b54bdA02913', 'proportion': 1.0}]",
         "POST",
         "https://api.odos.xyz/sor/quote/v3"
        ],
        [
         "13",
         null,
         null,
         null,
         "False",
         "True",
         "False",
         "False",
         "8453",
         "[{'tokenAddress': '0x6Bb7a212910682DCFdbd5BCBb3e28FB4E8da10Ee', 'amount': '0'}]",
         "[{'tokenAddress': '0x833589fCD6eDb6E08f4c7C32D4f71b54bdA02913', 'proportion': 1.0}]",
         "POST",
         "https://api.odos.xyz/sor/quote/v3"
        ],
        [
         "14",
         null,
         null,
         null,
         "False",
         "False",
         "True",
         "False",
         "8453",
         "[{'tokenAddress': '0x6Bb7a212910682DCFdbd5BCBb3e28FB4E8da10Ee', 'amount': '0'}]",
         "[{'tokenAddress': '0x833589fCD6eDb6E08f4c7C32D4f71b54bdA02913', 'proportion': 1.0}]",
         "POST",
         "https://api.odos.xyz/sor/quote/v3"
        ],
        [
         "15",
         null,
         null,
         null,
         "False",
         "False",
         "False",
         "False",
         "8453",
         "[{'tokenAddress': '0x6Bb7a212910682DCFdbd5BCBb3e28FB4E8da10Ee', 'amount': '0'}]",
         "[{'tokenAddress': '0x833589fCD6eDb6E08f4c7C32D4f71b54bdA02913', 'proportion': 1.0}]",
         "POST",
         "https://api.odos.xyz/sor/quote/v3"
        ]
       ],
       "shape": {
        "columns": 12,
        "rows": 16
       }
      },
      "text/html": [
       "<div>\n",
       "<style scoped>\n",
       "    .dataframe tbody tr th:only-of-type {\n",
       "        vertical-align: middle;\n",
       "    }\n",
       "\n",
       "    .dataframe tbody tr th {\n",
       "        vertical-align: top;\n",
       "    }\n",
       "\n",
       "    .dataframe thead th {\n",
       "        text-align: right;\n",
       "    }\n",
       "</style>\n",
       "<table border=\"1\" class=\"dataframe\">\n",
       "  <thead>\n",
       "    <tr style=\"text-align: right;\">\n",
       "      <th></th>\n",
       "      <th>usdc_out</th>\n",
       "      <th>GHO_in</th>\n",
       "      <th>price</th>\n",
       "      <th>compact</th>\n",
       "      <th>simple</th>\n",
       "      <th>likeAsset</th>\n",
       "      <th>3rd_party_response_success</th>\n",
       "      <th>chainId</th>\n",
       "      <th>inputTokens</th>\n",
       "      <th>outputTokens</th>\n",
       "      <th>method</th>\n",
       "      <th>url</th>\n",
       "    </tr>\n",
       "  </thead>\n",
       "  <tbody>\n",
       "    <tr>\n",
       "      <th>0</th>\n",
       "      <td>None</td>\n",
       "      <td>None</td>\n",
       "      <td>None</td>\n",
       "      <td>True</td>\n",
       "      <td>True</td>\n",
       "      <td>True</td>\n",
       "      <td>False</td>\n",
       "      <td>8453</td>\n",
       "      <td>[{'tokenAddress': '0x6Bb7a212910682DCFdbd5BCBb...</td>\n",
       "      <td>[{'tokenAddress': '0x833589fCD6eDb6E08f4c7C32D...</td>\n",
       "      <td>POST</td>\n",
       "      <td>https://api.odos.xyz/sor/quote/v3</td>\n",
       "    </tr>\n",
       "    <tr>\n",
       "      <th>1</th>\n",
       "      <td>None</td>\n",
       "      <td>None</td>\n",
       "      <td>None</td>\n",
       "      <td>True</td>\n",
       "      <td>True</td>\n",
       "      <td>False</td>\n",
       "      <td>False</td>\n",
       "      <td>8453</td>\n",
       "      <td>[{'tokenAddress': '0x6Bb7a212910682DCFdbd5BCBb...</td>\n",
       "      <td>[{'tokenAddress': '0x833589fCD6eDb6E08f4c7C32D...</td>\n",
       "      <td>POST</td>\n",
       "      <td>https://api.odos.xyz/sor/quote/v3</td>\n",
       "    </tr>\n",
       "    <tr>\n",
       "      <th>2</th>\n",
       "      <td>None</td>\n",
       "      <td>None</td>\n",
       "      <td>None</td>\n",
       "      <td>True</td>\n",
       "      <td>False</td>\n",
       "      <td>True</td>\n",
       "      <td>False</td>\n",
       "      <td>8453</td>\n",
       "      <td>[{'tokenAddress': '0x6Bb7a212910682DCFdbd5BCBb...</td>\n",
       "      <td>[{'tokenAddress': '0x833589fCD6eDb6E08f4c7C32D...</td>\n",
       "      <td>POST</td>\n",
       "      <td>https://api.odos.xyz/sor/quote/v3</td>\n",
       "    </tr>\n",
       "    <tr>\n",
       "      <th>3</th>\n",
       "      <td>None</td>\n",
       "      <td>None</td>\n",
       "      <td>None</td>\n",
       "      <td>True</td>\n",
       "      <td>False</td>\n",
       "      <td>False</td>\n",
       "      <td>False</td>\n",
       "      <td>8453</td>\n",
       "      <td>[{'tokenAddress': '0x6Bb7a212910682DCFdbd5BCBb...</td>\n",
       "      <td>[{'tokenAddress': '0x833589fCD6eDb6E08f4c7C32D...</td>\n",
       "      <td>POST</td>\n",
       "      <td>https://api.odos.xyz/sor/quote/v3</td>\n",
       "    </tr>\n",
       "    <tr>\n",
       "      <th>4</th>\n",
       "      <td>None</td>\n",
       "      <td>None</td>\n",
       "      <td>None</td>\n",
       "      <td>False</td>\n",
       "      <td>True</td>\n",
       "      <td>True</td>\n",
       "      <td>False</td>\n",
       "      <td>8453</td>\n",
       "      <td>[{'tokenAddress': '0x6Bb7a212910682DCFdbd5BCBb...</td>\n",
       "      <td>[{'tokenAddress': '0x833589fCD6eDb6E08f4c7C32D...</td>\n",
       "      <td>POST</td>\n",
       "      <td>https://api.odos.xyz/sor/quote/v3</td>\n",
       "    </tr>\n",
       "    <tr>\n",
       "      <th>5</th>\n",
       "      <td>None</td>\n",
       "      <td>None</td>\n",
       "      <td>None</td>\n",
       "      <td>False</td>\n",
       "      <td>True</td>\n",
       "      <td>False</td>\n",
       "      <td>False</td>\n",
       "      <td>8453</td>\n",
       "      <td>[{'tokenAddress': '0x6Bb7a212910682DCFdbd5BCBb...</td>\n",
       "      <td>[{'tokenAddress': '0x833589fCD6eDb6E08f4c7C32D...</td>\n",
       "      <td>POST</td>\n",
       "      <td>https://api.odos.xyz/sor/quote/v3</td>\n",
       "    </tr>\n",
       "    <tr>\n",
       "      <th>6</th>\n",
       "      <td>None</td>\n",
       "      <td>None</td>\n",
       "      <td>None</td>\n",
       "      <td>False</td>\n",
       "      <td>False</td>\n",
       "      <td>True</td>\n",
       "      <td>False</td>\n",
       "      <td>8453</td>\n",
       "      <td>[{'tokenAddress': '0x6Bb7a212910682DCFdbd5BCBb...</td>\n",
       "      <td>[{'tokenAddress': '0x833589fCD6eDb6E08f4c7C32D...</td>\n",
       "      <td>POST</td>\n",
       "      <td>https://api.odos.xyz/sor/quote/v3</td>\n",
       "    </tr>\n",
       "    <tr>\n",
       "      <th>7</th>\n",
       "      <td>None</td>\n",
       "      <td>None</td>\n",
       "      <td>None</td>\n",
       "      <td>False</td>\n",
       "      <td>False</td>\n",
       "      <td>False</td>\n",
       "      <td>False</td>\n",
       "      <td>8453</td>\n",
       "      <td>[{'tokenAddress': '0x6Bb7a212910682DCFdbd5BCBb...</td>\n",
       "      <td>[{'tokenAddress': '0x833589fCD6eDb6E08f4c7C32D...</td>\n",
       "      <td>POST</td>\n",
       "      <td>https://api.odos.xyz/sor/quote/v3</td>\n",
       "    </tr>\n",
       "    <tr>\n",
       "      <th>8</th>\n",
       "      <td>None</td>\n",
       "      <td>None</td>\n",
       "      <td>None</td>\n",
       "      <td>True</td>\n",
       "      <td>True</td>\n",
       "      <td>True</td>\n",
       "      <td>False</td>\n",
       "      <td>8453</td>\n",
       "      <td>[{'tokenAddress': '0x6Bb7a212910682DCFdbd5BCBb...</td>\n",
       "      <td>[{'tokenAddress': '0x833589fCD6eDb6E08f4c7C32D...</td>\n",
       "      <td>POST</td>\n",
       "      <td>https://api.odos.xyz/sor/quote/v3</td>\n",
       "    </tr>\n",
       "    <tr>\n",
       "      <th>9</th>\n",
       "      <td>None</td>\n",
       "      <td>None</td>\n",
       "      <td>None</td>\n",
       "      <td>True</td>\n",
       "      <td>True</td>\n",
       "      <td>False</td>\n",
       "      <td>False</td>\n",
       "      <td>8453</td>\n",
       "      <td>[{'tokenAddress': '0x6Bb7a212910682DCFdbd5BCBb...</td>\n",
       "      <td>[{'tokenAddress': '0x833589fCD6eDb6E08f4c7C32D...</td>\n",
       "      <td>POST</td>\n",
       "      <td>https://api.odos.xyz/sor/quote/v3</td>\n",
       "    </tr>\n",
       "    <tr>\n",
       "      <th>10</th>\n",
       "      <td>None</td>\n",
       "      <td>None</td>\n",
       "      <td>None</td>\n",
       "      <td>True</td>\n",
       "      <td>False</td>\n",
       "      <td>True</td>\n",
       "      <td>False</td>\n",
       "      <td>8453</td>\n",
       "      <td>[{'tokenAddress': '0x6Bb7a212910682DCFdbd5BCBb...</td>\n",
       "      <td>[{'tokenAddress': '0x833589fCD6eDb6E08f4c7C32D...</td>\n",
       "      <td>POST</td>\n",
       "      <td>https://api.odos.xyz/sor/quote/v3</td>\n",
       "    </tr>\n",
       "    <tr>\n",
       "      <th>11</th>\n",
       "      <td>None</td>\n",
       "      <td>None</td>\n",
       "      <td>None</td>\n",
       "      <td>True</td>\n",
       "      <td>False</td>\n",
       "      <td>False</td>\n",
       "      <td>False</td>\n",
       "      <td>8453</td>\n",
       "      <td>[{'tokenAddress': '0x6Bb7a212910682DCFdbd5BCBb...</td>\n",
       "      <td>[{'tokenAddress': '0x833589fCD6eDb6E08f4c7C32D...</td>\n",
       "      <td>POST</td>\n",
       "      <td>https://api.odos.xyz/sor/quote/v3</td>\n",
       "    </tr>\n",
       "    <tr>\n",
       "      <th>12</th>\n",
       "      <td>None</td>\n",
       "      <td>None</td>\n",
       "      <td>None</td>\n",
       "      <td>False</td>\n",
       "      <td>True</td>\n",
       "      <td>True</td>\n",
       "      <td>False</td>\n",
       "      <td>8453</td>\n",
       "      <td>[{'tokenAddress': '0x6Bb7a212910682DCFdbd5BCBb...</td>\n",
       "      <td>[{'tokenAddress': '0x833589fCD6eDb6E08f4c7C32D...</td>\n",
       "      <td>POST</td>\n",
       "      <td>https://api.odos.xyz/sor/quote/v3</td>\n",
       "    </tr>\n",
       "    <tr>\n",
       "      <th>13</th>\n",
       "      <td>None</td>\n",
       "      <td>None</td>\n",
       "      <td>None</td>\n",
       "      <td>False</td>\n",
       "      <td>True</td>\n",
       "      <td>False</td>\n",
       "      <td>False</td>\n",
       "      <td>8453</td>\n",
       "      <td>[{'tokenAddress': '0x6Bb7a212910682DCFdbd5BCBb...</td>\n",
       "      <td>[{'tokenAddress': '0x833589fCD6eDb6E08f4c7C32D...</td>\n",
       "      <td>POST</td>\n",
       "      <td>https://api.odos.xyz/sor/quote/v3</td>\n",
       "    </tr>\n",
       "    <tr>\n",
       "      <th>14</th>\n",
       "      <td>None</td>\n",
       "      <td>None</td>\n",
       "      <td>None</td>\n",
       "      <td>False</td>\n",
       "      <td>False</td>\n",
       "      <td>True</td>\n",
       "      <td>False</td>\n",
       "      <td>8453</td>\n",
       "      <td>[{'tokenAddress': '0x6Bb7a212910682DCFdbd5BCBb...</td>\n",
       "      <td>[{'tokenAddress': '0x833589fCD6eDb6E08f4c7C32D...</td>\n",
       "      <td>POST</td>\n",
       "      <td>https://api.odos.xyz/sor/quote/v3</td>\n",
       "    </tr>\n",
       "    <tr>\n",
       "      <th>15</th>\n",
       "      <td>None</td>\n",
       "      <td>None</td>\n",
       "      <td>None</td>\n",
       "      <td>False</td>\n",
       "      <td>False</td>\n",
       "      <td>False</td>\n",
       "      <td>False</td>\n",
       "      <td>8453</td>\n",
       "      <td>[{'tokenAddress': '0x6Bb7a212910682DCFdbd5BCBb...</td>\n",
       "      <td>[{'tokenAddress': '0x833589fCD6eDb6E08f4c7C32D...</td>\n",
       "      <td>POST</td>\n",
       "      <td>https://api.odos.xyz/sor/quote/v3</td>\n",
       "    </tr>\n",
       "  </tbody>\n",
       "</table>\n",
       "</div>"
      ],
      "text/plain": [
       "   usdc_out GHO_in price  compact  simple  likeAsset  \\\n",
       "0      None   None  None     True    True       True   \n",
       "1      None   None  None     True    True      False   \n",
       "2      None   None  None     True   False       True   \n",
       "3      None   None  None     True   False      False   \n",
       "4      None   None  None    False    True       True   \n",
       "5      None   None  None    False    True      False   \n",
       "6      None   None  None    False   False       True   \n",
       "7      None   None  None    False   False      False   \n",
       "8      None   None  None     True    True       True   \n",
       "9      None   None  None     True    True      False   \n",
       "10     None   None  None     True   False       True   \n",
       "11     None   None  None     True   False      False   \n",
       "12     None   None  None    False    True       True   \n",
       "13     None   None  None    False    True      False   \n",
       "14     None   None  None    False   False       True   \n",
       "15     None   None  None    False   False      False   \n",
       "\n",
       "    3rd_party_response_success  chainId  \\\n",
       "0                        False     8453   \n",
       "1                        False     8453   \n",
       "2                        False     8453   \n",
       "3                        False     8453   \n",
       "4                        False     8453   \n",
       "5                        False     8453   \n",
       "6                        False     8453   \n",
       "7                        False     8453   \n",
       "8                        False     8453   \n",
       "9                        False     8453   \n",
       "10                       False     8453   \n",
       "11                       False     8453   \n",
       "12                       False     8453   \n",
       "13                       False     8453   \n",
       "14                       False     8453   \n",
       "15                       False     8453   \n",
       "\n",
       "                                          inputTokens  \\\n",
       "0   [{'tokenAddress': '0x6Bb7a212910682DCFdbd5BCBb...   \n",
       "1   [{'tokenAddress': '0x6Bb7a212910682DCFdbd5BCBb...   \n",
       "2   [{'tokenAddress': '0x6Bb7a212910682DCFdbd5BCBb...   \n",
       "3   [{'tokenAddress': '0x6Bb7a212910682DCFdbd5BCBb...   \n",
       "4   [{'tokenAddress': '0x6Bb7a212910682DCFdbd5BCBb...   \n",
       "5   [{'tokenAddress': '0x6Bb7a212910682DCFdbd5BCBb...   \n",
       "6   [{'tokenAddress': '0x6Bb7a212910682DCFdbd5BCBb...   \n",
       "7   [{'tokenAddress': '0x6Bb7a212910682DCFdbd5BCBb...   \n",
       "8   [{'tokenAddress': '0x6Bb7a212910682DCFdbd5BCBb...   \n",
       "9   [{'tokenAddress': '0x6Bb7a212910682DCFdbd5BCBb...   \n",
       "10  [{'tokenAddress': '0x6Bb7a212910682DCFdbd5BCBb...   \n",
       "11  [{'tokenAddress': '0x6Bb7a212910682DCFdbd5BCBb...   \n",
       "12  [{'tokenAddress': '0x6Bb7a212910682DCFdbd5BCBb...   \n",
       "13  [{'tokenAddress': '0x6Bb7a212910682DCFdbd5BCBb...   \n",
       "14  [{'tokenAddress': '0x6Bb7a212910682DCFdbd5BCBb...   \n",
       "15  [{'tokenAddress': '0x6Bb7a212910682DCFdbd5BCBb...   \n",
       "\n",
       "                                         outputTokens method  \\\n",
       "0   [{'tokenAddress': '0x833589fCD6eDb6E08f4c7C32D...   POST   \n",
       "1   [{'tokenAddress': '0x833589fCD6eDb6E08f4c7C32D...   POST   \n",
       "2   [{'tokenAddress': '0x833589fCD6eDb6E08f4c7C32D...   POST   \n",
       "3   [{'tokenAddress': '0x833589fCD6eDb6E08f4c7C32D...   POST   \n",
       "4   [{'tokenAddress': '0x833589fCD6eDb6E08f4c7C32D...   POST   \n",
       "5   [{'tokenAddress': '0x833589fCD6eDb6E08f4c7C32D...   POST   \n",
       "6   [{'tokenAddress': '0x833589fCD6eDb6E08f4c7C32D...   POST   \n",
       "7   [{'tokenAddress': '0x833589fCD6eDb6E08f4c7C32D...   POST   \n",
       "8   [{'tokenAddress': '0x833589fCD6eDb6E08f4c7C32D...   POST   \n",
       "9   [{'tokenAddress': '0x833589fCD6eDb6E08f4c7C32D...   POST   \n",
       "10  [{'tokenAddress': '0x833589fCD6eDb6E08f4c7C32D...   POST   \n",
       "11  [{'tokenAddress': '0x833589fCD6eDb6E08f4c7C32D...   POST   \n",
       "12  [{'tokenAddress': '0x833589fCD6eDb6E08f4c7C32D...   POST   \n",
       "13  [{'tokenAddress': '0x833589fCD6eDb6E08f4c7C32D...   POST   \n",
       "14  [{'tokenAddress': '0x833589fCD6eDb6E08f4c7C32D...   POST   \n",
       "15  [{'tokenAddress': '0x833589fCD6eDb6E08f4c7C32D...   POST   \n",
       "\n",
       "                                  url  \n",
       "0   https://api.odos.xyz/sor/quote/v3  \n",
       "1   https://api.odos.xyz/sor/quote/v3  \n",
       "2   https://api.odos.xyz/sor/quote/v3  \n",
       "3   https://api.odos.xyz/sor/quote/v3  \n",
       "4   https://api.odos.xyz/sor/quote/v3  \n",
       "5   https://api.odos.xyz/sor/quote/v3  \n",
       "6   https://api.odos.xyz/sor/quote/v3  \n",
       "7   https://api.odos.xyz/sor/quote/v3  \n",
       "8   https://api.odos.xyz/sor/quote/v3  \n",
       "9   https://api.odos.xyz/sor/quote/v3  \n",
       "10  https://api.odos.xyz/sor/quote/v3  \n",
       "11  https://api.odos.xyz/sor/quote/v3  \n",
       "12  https://api.odos.xyz/sor/quote/v3  \n",
       "13  https://api.odos.xyz/sor/quote/v3  \n",
       "14  https://api.odos.xyz/sor/quote/v3  \n",
       "15  https://api.odos.xyz/sor/quote/v3  "
      ]
     },
     "execution_count": 37,
     "metadata": {},
     "output_type": "execute_result"
    }
   ],
   "source": [
    "sizes = []\n",
    "for _ in range(2):\n",
    "    for compact in [True, False]:\n",
    "        for simple in [True, False]:\n",
    "            for likeAsset in [True, False]:\n",
    "                GHO_TO_USDC = fetch_odos_single_token_raw_quote(\n",
    "                    chain_id=BASE_CHAIN.chain_id,\n",
    "                    token_in=\"0x6Bb7a212910682DCFdbd5BCBb3e28FB4E8da10Ee\",\n",
    "                    token_out=\"0x833589fCD6eDb6E08f4c7C32D4f71b54bdA02913\",\n",
    "                    unscaled_amount_in=str(int(00_000e18)),\n",
    "                    compact=compact,\n",
    "                    simple=simple,\n",
    "                    likeAsset=likeAsset,\n",
    "                )\n",
    "                try:\n",
    "                    quote_at_size = _process_odos_quote(GHO_TO_USDC)\n",
    "                except:\n",
    "                    quote_at_size = {}\n",
    "                    quote_at_size[\"usdc_out\"] = None\n",
    "                    quote_at_size[\"GHO_in\"] = None\n",
    "                    quote_at_size[\"price\"] = None\n",
    "                quote_at_size[\"compact\"] = compact\n",
    "                quote_at_size[\"simple\"] = simple\n",
    "                quote_at_size[\"likeAsset\"] = likeAsset\n",
    "                quote_at_size.update(GHO_TO_USDC)\n",
    "                sizes.append(quote_at_size)\n",
    "\n",
    "\n",
    "df = pd.DataFrame(sizes)\n",
    "\n",
    "df"
   ]
  },
  {
   "cell_type": "code",
   "execution_count": null,
   "metadata": {},
   "outputs": [],
   "source": [
    "# no impact of compact, simple, likeAsset on this pair at this at 100k GHO on base -> USDC"
   ]
  },
  {
   "cell_type": "code",
   "execution_count": 38,
   "metadata": {},
   "outputs": [
    {
     "name": "stderr",
     "output_type": "stream",
     "text": [
      "Fetching 3rd-party data from https://api.odos.xyz/sor/quote/v3: 100%|██████████| 1/1 [00:03<00:00,  3.59s/it]\n"
     ]
    },
    {
     "name": "stdout",
     "output_type": "stream",
     "text": [
      "{'usdc_out': 119145.980938, 'GHO_in': 99999.99999999999, 'price': 1.1914598093800002, 'compact': True, 'simple': True, 'likeAsset': True}\n"
     ]
    },
    {
     "name": "stderr",
     "output_type": "stream",
     "text": [
      "Fetching 3rd-party data from https://api.odos.xyz/sor/quote/v3: 100%|██████████| 1/1 [00:04<00:00,  4.83s/it]\n"
     ]
    },
    {
     "name": "stdout",
     "output_type": "stream",
     "text": [
      "{'usdc_out': 119140.435181, 'GHO_in': 99999.99999999999, 'price': 1.1914043518100002, 'compact': True, 'simple': True, 'likeAsset': False}\n"
     ]
    },
    {
     "name": "stderr",
     "output_type": "stream",
     "text": [
      "Fetching 3rd-party data from https://api.odos.xyz/sor/quote/v3: 100%|██████████| 1/1 [00:05<00:00,  5.45s/it]\n"
     ]
    },
    {
     "name": "stdout",
     "output_type": "stream",
     "text": [
      "{'usdc_out': 119145.980938, 'GHO_in': 99999.99999999999, 'price': 1.1914598093800002, 'compact': True, 'simple': False, 'likeAsset': True}\n"
     ]
    },
    {
     "name": "stderr",
     "output_type": "stream",
     "text": [
      "Fetching 3rd-party data from https://api.odos.xyz/sor/quote/v3: 100%|██████████| 1/1 [00:01<00:00,  1.63s/it]\n"
     ]
    },
    {
     "name": "stdout",
     "output_type": "stream",
     "text": [
      "{'usdc_out': 119145.980938, 'GHO_in': 99999.99999999999, 'price': 1.1914598093800002, 'compact': True, 'simple': False, 'likeAsset': False}\n"
     ]
    },
    {
     "name": "stderr",
     "output_type": "stream",
     "text": [
      "Fetching 3rd-party data from https://api.odos.xyz/sor/quote/v3: 100%|██████████| 1/1 [00:00<00:00,  1.59it/s]\n"
     ]
    },
    {
     "name": "stdout",
     "output_type": "stream",
     "text": [
      "{'usdc_out': 119145.980938, 'GHO_in': 99999.99999999999, 'price': 1.1914598093800002, 'compact': False, 'simple': True, 'likeAsset': True}\n"
     ]
    },
    {
     "name": "stderr",
     "output_type": "stream",
     "text": [
      "Fetching 3rd-party data from https://api.odos.xyz/sor/quote/v3: 100%|██████████| 1/1 [00:00<00:00,  1.89it/s]\n"
     ]
    },
    {
     "name": "stdout",
     "output_type": "stream",
     "text": [
      "{'usdc_out': 119140.358001, 'GHO_in': 99999.99999999999, 'price': 1.1914035800100002, 'compact': False, 'simple': True, 'likeAsset': False}\n"
     ]
    },
    {
     "name": "stderr",
     "output_type": "stream",
     "text": [
      "Fetching 3rd-party data from https://api.odos.xyz/sor/quote/v3: 100%|██████████| 1/1 [00:01<00:00,  1.13s/it]\n"
     ]
    },
    {
     "name": "stdout",
     "output_type": "stream",
     "text": [
      "{'usdc_out': 119145.980938, 'GHO_in': 99999.99999999999, 'price': 1.1914598093800002, 'compact': False, 'simple': False, 'likeAsset': True}\n"
     ]
    },
    {
     "name": "stderr",
     "output_type": "stream",
     "text": [
      "Fetching 3rd-party data from https://api.odos.xyz/sor/quote/v3: 100%|██████████| 1/1 [00:05<00:00,  5.74s/it]\n"
     ]
    },
    {
     "name": "stdout",
     "output_type": "stream",
     "text": [
      "{'usdc_out': 119145.980938, 'GHO_in': 99999.99999999999, 'price': 1.1914598093800002, 'compact': False, 'simple': False, 'likeAsset': False}\n"
     ]
    },
    {
     "name": "stderr",
     "output_type": "stream",
     "text": [
      "Fetching 3rd-party data from https://api.odos.xyz/sor/quote/v3: 100%|██████████| 1/1 [00:01<00:00,  1.51s/it]\n"
     ]
    },
    {
     "name": "stdout",
     "output_type": "stream",
     "text": [
      "{'usdc_out': 119145.980938, 'GHO_in': 99999.99999999999, 'price': 1.1914598093800002, 'compact': True, 'simple': True, 'likeAsset': True}\n"
     ]
    },
    {
     "name": "stderr",
     "output_type": "stream",
     "text": [
      "Fetching 3rd-party data from https://api.odos.xyz/sor/quote/v3: 100%|██████████| 1/1 [00:01<00:00,  1.68s/it]\n"
     ]
    },
    {
     "name": "stdout",
     "output_type": "stream",
     "text": [
      "{'usdc_out': 119140.235375, 'GHO_in': 99999.99999999999, 'price': 1.1914023537500003, 'compact': True, 'simple': True, 'likeAsset': False}\n"
     ]
    },
    {
     "name": "stderr",
     "output_type": "stream",
     "text": [
      "Fetching 3rd-party data from https://api.odos.xyz/sor/quote/v3: 100%|██████████| 1/1 [00:00<00:00,  1.72it/s]\n"
     ]
    },
    {
     "name": "stdout",
     "output_type": "stream",
     "text": [
      "{'usdc_out': 119145.980938, 'GHO_in': 99999.99999999999, 'price': 1.1914598093800002, 'compact': True, 'simple': False, 'likeAsset': True}\n"
     ]
    },
    {
     "name": "stderr",
     "output_type": "stream",
     "text": [
      "Fetching 3rd-party data from https://api.odos.xyz/sor/quote/v3: 100%|██████████| 1/1 [00:01<00:00,  1.34s/it]\n"
     ]
    },
    {
     "name": "stdout",
     "output_type": "stream",
     "text": [
      "{'usdc_out': 119145.980938, 'GHO_in': 99999.99999999999, 'price': 1.1914598093800002, 'compact': True, 'simple': False, 'likeAsset': False}\n"
     ]
    },
    {
     "name": "stderr",
     "output_type": "stream",
     "text": [
      "Fetching 3rd-party data from https://api.odos.xyz/sor/quote/v3: 100%|██████████| 1/1 [00:00<00:00,  1.01it/s]\n"
     ]
    },
    {
     "name": "stdout",
     "output_type": "stream",
     "text": [
      "{'usdc_out': 119145.980938, 'GHO_in': 99999.99999999999, 'price': 1.1914598093800002, 'compact': False, 'simple': True, 'likeAsset': True}\n"
     ]
    },
    {
     "name": "stderr",
     "output_type": "stream",
     "text": [
      "Fetching 3rd-party data from https://api.odos.xyz/sor/quote/v3: 100%|██████████| 1/1 [00:03<00:00,  3.59s/it]\n"
     ]
    },
    {
     "name": "stdout",
     "output_type": "stream",
     "text": [
      "{'usdc_out': 119140.235375, 'GHO_in': 99999.99999999999, 'price': 1.1914023537500003, 'compact': False, 'simple': True, 'likeAsset': False}\n"
     ]
    },
    {
     "name": "stderr",
     "output_type": "stream",
     "text": [
      "Fetching 3rd-party data from https://api.odos.xyz/sor/quote/v3: 100%|██████████| 1/1 [00:01<00:00,  1.53s/it]\n"
     ]
    },
    {
     "name": "stdout",
     "output_type": "stream",
     "text": [
      "{'usdc_out': 119145.980938, 'GHO_in': 99999.99999999999, 'price': 1.1914598093800002, 'compact': False, 'simple': False, 'likeAsset': True}\n"
     ]
    },
    {
     "name": "stderr",
     "output_type": "stream",
     "text": [
      "Fetching 3rd-party data from https://api.odos.xyz/sor/quote/v3: 100%|██████████| 1/1 [00:01<00:00,  1.63s/it]"
     ]
    },
    {
     "name": "stdout",
     "output_type": "stream",
     "text": [
      "{'usdc_out': 119145.980938, 'GHO_in': 99999.99999999999, 'price': 1.1914598093800002, 'compact': False, 'simple': False, 'likeAsset': False}\n"
     ]
    },
    {
     "name": "stderr",
     "output_type": "stream",
     "text": [
      "\n"
     ]
    },
    {
     "data": {
      "application/vnd.microsoft.datawrangler.viewer.v0+json": {
       "columns": [
        {
         "name": "index",
         "rawType": "int64",
         "type": "integer"
        },
        {
         "name": "usdc_out",
         "rawType": "float64",
         "type": "float"
        },
        {
         "name": "GHO_in",
         "rawType": "float64",
         "type": "float"
        },
        {
         "name": "price",
         "rawType": "float64",
         "type": "float"
        },
        {
         "name": "compact",
         "rawType": "bool",
         "type": "boolean"
        },
        {
         "name": "simple",
         "rawType": "bool",
         "type": "boolean"
        },
        {
         "name": "likeAsset",
         "rawType": "bool",
         "type": "boolean"
        }
       ],
       "ref": "c2b5528b-461c-46e5-b692-786ec3e7a512",
       "rows": [
        [
         "0",
         "119145.980938",
         "99999.99999999999",
         "1.1914598093800002",
         "True",
         "True",
         "True"
        ],
        [
         "1",
         "119140.435181",
         "99999.99999999999",
         "1.1914043518100002",
         "True",
         "True",
         "False"
        ],
        [
         "2",
         "119145.980938",
         "99999.99999999999",
         "1.1914598093800002",
         "True",
         "False",
         "True"
        ],
        [
         "3",
         "119145.980938",
         "99999.99999999999",
         "1.1914598093800002",
         "True",
         "False",
         "False"
        ],
        [
         "4",
         "119145.980938",
         "99999.99999999999",
         "1.1914598093800002",
         "False",
         "True",
         "True"
        ],
        [
         "5",
         "119140.358001",
         "99999.99999999999",
         "1.1914035800100002",
         "False",
         "True",
         "False"
        ],
        [
         "6",
         "119145.980938",
         "99999.99999999999",
         "1.1914598093800002",
         "False",
         "False",
         "True"
        ],
        [
         "7",
         "119145.980938",
         "99999.99999999999",
         "1.1914598093800002",
         "False",
         "False",
         "False"
        ],
        [
         "8",
         "119145.980938",
         "99999.99999999999",
         "1.1914598093800002",
         "True",
         "True",
         "True"
        ],
        [
         "9",
         "119140.235375",
         "99999.99999999999",
         "1.1914023537500003",
         "True",
         "True",
         "False"
        ],
        [
         "10",
         "119145.980938",
         "99999.99999999999",
         "1.1914598093800002",
         "True",
         "False",
         "True"
        ],
        [
         "11",
         "119145.980938",
         "99999.99999999999",
         "1.1914598093800002",
         "True",
         "False",
         "False"
        ],
        [
         "12",
         "119145.980938",
         "99999.99999999999",
         "1.1914598093800002",
         "False",
         "True",
         "True"
        ],
        [
         "13",
         "119140.235375",
         "99999.99999999999",
         "1.1914023537500003",
         "False",
         "True",
         "False"
        ],
        [
         "14",
         "119145.980938",
         "99999.99999999999",
         "1.1914598093800002",
         "False",
         "False",
         "True"
        ],
        [
         "15",
         "119145.980938",
         "99999.99999999999",
         "1.1914598093800002",
         "False",
         "False",
         "False"
        ]
       ],
       "shape": {
        "columns": 6,
        "rows": 16
       }
      },
      "text/html": [
       "<div>\n",
       "<style scoped>\n",
       "    .dataframe tbody tr th:only-of-type {\n",
       "        vertical-align: middle;\n",
       "    }\n",
       "\n",
       "    .dataframe tbody tr th {\n",
       "        vertical-align: top;\n",
       "    }\n",
       "\n",
       "    .dataframe thead th {\n",
       "        text-align: right;\n",
       "    }\n",
       "</style>\n",
       "<table border=\"1\" class=\"dataframe\">\n",
       "  <thead>\n",
       "    <tr style=\"text-align: right;\">\n",
       "      <th></th>\n",
       "      <th>usdc_out</th>\n",
       "      <th>GHO_in</th>\n",
       "      <th>price</th>\n",
       "      <th>compact</th>\n",
       "      <th>simple</th>\n",
       "      <th>likeAsset</th>\n",
       "    </tr>\n",
       "  </thead>\n",
       "  <tbody>\n",
       "    <tr>\n",
       "      <th>0</th>\n",
       "      <td>119145.980938</td>\n",
       "      <td>100000.0</td>\n",
       "      <td>1.191460</td>\n",
       "      <td>True</td>\n",
       "      <td>True</td>\n",
       "      <td>True</td>\n",
       "    </tr>\n",
       "    <tr>\n",
       "      <th>1</th>\n",
       "      <td>119140.435181</td>\n",
       "      <td>100000.0</td>\n",
       "      <td>1.191404</td>\n",
       "      <td>True</td>\n",
       "      <td>True</td>\n",
       "      <td>False</td>\n",
       "    </tr>\n",
       "    <tr>\n",
       "      <th>2</th>\n",
       "      <td>119145.980938</td>\n",
       "      <td>100000.0</td>\n",
       "      <td>1.191460</td>\n",
       "      <td>True</td>\n",
       "      <td>False</td>\n",
       "      <td>True</td>\n",
       "    </tr>\n",
       "    <tr>\n",
       "      <th>3</th>\n",
       "      <td>119145.980938</td>\n",
       "      <td>100000.0</td>\n",
       "      <td>1.191460</td>\n",
       "      <td>True</td>\n",
       "      <td>False</td>\n",
       "      <td>False</td>\n",
       "    </tr>\n",
       "    <tr>\n",
       "      <th>4</th>\n",
       "      <td>119145.980938</td>\n",
       "      <td>100000.0</td>\n",
       "      <td>1.191460</td>\n",
       "      <td>False</td>\n",
       "      <td>True</td>\n",
       "      <td>True</td>\n",
       "    </tr>\n",
       "    <tr>\n",
       "      <th>5</th>\n",
       "      <td>119140.358001</td>\n",
       "      <td>100000.0</td>\n",
       "      <td>1.191404</td>\n",
       "      <td>False</td>\n",
       "      <td>True</td>\n",
       "      <td>False</td>\n",
       "    </tr>\n",
       "    <tr>\n",
       "      <th>6</th>\n",
       "      <td>119145.980938</td>\n",
       "      <td>100000.0</td>\n",
       "      <td>1.191460</td>\n",
       "      <td>False</td>\n",
       "      <td>False</td>\n",
       "      <td>True</td>\n",
       "    </tr>\n",
       "    <tr>\n",
       "      <th>7</th>\n",
       "      <td>119145.980938</td>\n",
       "      <td>100000.0</td>\n",
       "      <td>1.191460</td>\n",
       "      <td>False</td>\n",
       "      <td>False</td>\n",
       "      <td>False</td>\n",
       "    </tr>\n",
       "    <tr>\n",
       "      <th>8</th>\n",
       "      <td>119145.980938</td>\n",
       "      <td>100000.0</td>\n",
       "      <td>1.191460</td>\n",
       "      <td>True</td>\n",
       "      <td>True</td>\n",
       "      <td>True</td>\n",
       "    </tr>\n",
       "    <tr>\n",
       "      <th>9</th>\n",
       "      <td>119140.235375</td>\n",
       "      <td>100000.0</td>\n",
       "      <td>1.191402</td>\n",
       "      <td>True</td>\n",
       "      <td>True</td>\n",
       "      <td>False</td>\n",
       "    </tr>\n",
       "    <tr>\n",
       "      <th>10</th>\n",
       "      <td>119145.980938</td>\n",
       "      <td>100000.0</td>\n",
       "      <td>1.191460</td>\n",
       "      <td>True</td>\n",
       "      <td>False</td>\n",
       "      <td>True</td>\n",
       "    </tr>\n",
       "    <tr>\n",
       "      <th>11</th>\n",
       "      <td>119145.980938</td>\n",
       "      <td>100000.0</td>\n",
       "      <td>1.191460</td>\n",
       "      <td>True</td>\n",
       "      <td>False</td>\n",
       "      <td>False</td>\n",
       "    </tr>\n",
       "    <tr>\n",
       "      <th>12</th>\n",
       "      <td>119145.980938</td>\n",
       "      <td>100000.0</td>\n",
       "      <td>1.191460</td>\n",
       "      <td>False</td>\n",
       "      <td>True</td>\n",
       "      <td>True</td>\n",
       "    </tr>\n",
       "    <tr>\n",
       "      <th>13</th>\n",
       "      <td>119140.235375</td>\n",
       "      <td>100000.0</td>\n",
       "      <td>1.191402</td>\n",
       "      <td>False</td>\n",
       "      <td>True</td>\n",
       "      <td>False</td>\n",
       "    </tr>\n",
       "    <tr>\n",
       "      <th>14</th>\n",
       "      <td>119145.980938</td>\n",
       "      <td>100000.0</td>\n",
       "      <td>1.191460</td>\n",
       "      <td>False</td>\n",
       "      <td>False</td>\n",
       "      <td>True</td>\n",
       "    </tr>\n",
       "    <tr>\n",
       "      <th>15</th>\n",
       "      <td>119145.980938</td>\n",
       "      <td>100000.0</td>\n",
       "      <td>1.191460</td>\n",
       "      <td>False</td>\n",
       "      <td>False</td>\n",
       "      <td>False</td>\n",
       "    </tr>\n",
       "  </tbody>\n",
       "</table>\n",
       "</div>"
      ],
      "text/plain": [
       "         usdc_out    GHO_in     price  compact  simple  likeAsset\n",
       "0   119145.980938  100000.0  1.191460     True    True       True\n",
       "1   119140.435181  100000.0  1.191404     True    True      False\n",
       "2   119145.980938  100000.0  1.191460     True   False       True\n",
       "3   119145.980938  100000.0  1.191460     True   False      False\n",
       "4   119145.980938  100000.0  1.191460    False    True       True\n",
       "5   119140.358001  100000.0  1.191404    False    True      False\n",
       "6   119145.980938  100000.0  1.191460    False   False       True\n",
       "7   119145.980938  100000.0  1.191460    False   False      False\n",
       "8   119145.980938  100000.0  1.191460     True    True       True\n",
       "9   119140.235375  100000.0  1.191402     True    True      False\n",
       "10  119145.980938  100000.0  1.191460     True   False       True\n",
       "11  119145.980938  100000.0  1.191460     True   False      False\n",
       "12  119145.980938  100000.0  1.191460    False    True       True\n",
       "13  119140.235375  100000.0  1.191402    False    True      False\n",
       "14  119145.980938  100000.0  1.191460    False   False       True\n",
       "15  119145.980938  100000.0  1.191460    False   False      False"
      ]
     },
     "execution_count": 38,
     "metadata": {},
     "output_type": "execute_result"
    }
   ],
   "source": [
    "sUSDe = \"0x9D39A5DE30e57443BfF2A8307A4256c8797A3497\"\n",
    "\n",
    "sizes = []\n",
    "for _ in range(2):\n",
    "    for compact in [True, False]:\n",
    "        for simple in [True, False]:\n",
    "            for likeAsset in [True, False]:\n",
    "                try:\n",
    "                    quote_at_size = _process_odos_quote(\n",
    "                        fetch_odos_single_token_raw_quote(\n",
    "                            chain_id=ETH_CHAIN.chain_id,\n",
    "                            token_in=sUSDe,\n",
    "                            token_out=USDC(ETH_CHAIN),\n",
    "                            unscaled_amount_in=str(int(100_000e18)),\n",
    "                            compact=compact,\n",
    "                            simple=simple,\n",
    "                            likeAsset=likeAsset,\n",
    "                        )\n",
    "                    )\n",
    "                except:\n",
    "                    quote_at_size = {}\n",
    "                    quote_at_size[\"usdc_out\"] = None\n",
    "                    quote_at_size[\"sUSDe_in\"] = None\n",
    "                    quote_at_size[\"price\"] = None\n",
    "                quote_at_size[\"compact\"] = compact\n",
    "                quote_at_size[\"simple\"] = simple\n",
    "                quote_at_size[\"likeAsset\"] = likeAsset\n",
    "                print(quote_at_size)\n",
    "                sizes.append(quote_at_size)\n",
    "\n",
    "\n",
    "df2 = pd.DataFrame(sizes)\n",
    "\n",
    "df2"
   ]
  },
  {
   "cell_type": "code",
   "execution_count": 36,
   "metadata": {},
   "outputs": [
    {
     "data": {
      "application/vnd.microsoft.datawrangler.viewer.v0+json": {
       "columns": [
        {
         "name": "('compact', 'simple', 'likeAsset')",
         "rawType": "object",
         "type": "unknown"
        },
        {
         "name": "price",
         "rawType": "float64",
         "type": "float"
        }
       ],
       "ref": "2e87cfec-8891-4fd8-b810-7d2006647180",
       "rows": [
        [
         "(np.False_, np.False_, np.False_)",
         "1.19155"
        ],
        [
         "(np.False_, np.False_, np.True_)",
         "1.19145"
        ],
        [
         "(np.False_, np.True_, np.False_)",
         "1.1914"
        ],
        [
         "(np.False_, np.True_, np.True_)",
         "1.19145"
        ],
        [
         "(np.True_, np.False_, np.False_)",
         "1.19145"
        ],
        [
         "(np.True_, np.False_, np.True_)",
         "1.19145"
        ],
        [
         "(np.True_, np.True_, np.False_)",
         "1.1914"
        ],
        [
         "(np.True_, np.True_, np.True_)",
         "1.19145"
        ]
       ],
       "shape": {
        "columns": 1,
        "rows": 8
       }
      },
      "text/plain": [
       "compact  simple  likeAsset\n",
       "False    False   False        1.19155\n",
       "                 True         1.19145\n",
       "         True    False        1.19140\n",
       "                 True         1.19145\n",
       "True     False   False        1.19145\n",
       "                 True         1.19145\n",
       "         True    False        1.19140\n",
       "                 True         1.19145\n",
       "Name: price, dtype: float64"
      ]
     },
     "execution_count": 36,
     "metadata": {},
     "output_type": "execute_result"
    }
   ],
   "source": [
    "df2.groupby([\"compact\", \"simple\", \"likeAsset\"])[\"price\"].median().round(5)"
   ]
  },
  {
   "attachments": {
    "image.png": {
     "image/png": "[encoded data removed]"
    }
   },
   "cell_type": "markdown",
   "metadata": {},
   "source": [
    "![image.png](attachment:image.png)"
   ]
  },
  {
   "cell_type": "code",
   "execution_count": null,
   "metadata": {},
   "outputs": [],
   "source": [
    "# for odos is it important to set like asset = true, n=2, -.00011, and .00031 bps, of price, diff\n",
    "# the other dosn't seem to matter"
   ]
  },
  {
   "cell_type": "code",
   "execution_count": null,
   "metadata": {},
   "outputs": [],
   "source": []
  }
 ],
 "metadata": {
  "kernelspec": {
   "display_name": "mainnet-launch-py3.10",
   "language": "python",
   "name": "python3"
  },
  "language_info": {
   "codemirror_mode": {
    "name": "ipython",
    "version": 3
   },
   "file_extension": ".py",
   "mimetype": "text/x-python",
   "name": "python",
   "nbconvert_exporter": "python",
   "pygments_lexer": "ipython3",
   "version": "3.10.14"
  }
 },
 "nbformat": 4,
 "nbformat_minor": 2
}
