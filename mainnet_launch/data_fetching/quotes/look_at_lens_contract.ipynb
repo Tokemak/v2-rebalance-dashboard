{
 "cells": [
  {
   "cell_type": "code",
   "execution_count": null,
   "metadata": {},
   "outputs": [
    {
     "data": {
      "application/vnd.microsoft.datawrangler.viewer.v0+json": {
       "columns": [
        {
         "name": "index",
         "rawType": "int64",
         "type": "integer"
        },
        {
         "name": "token_address",
         "rawType": "object",
         "type": "string"
        },
        {
         "name": "reserve_amount",
         "rawType": "object",
         "type": "unknown"
        },
        {
         "name": "vault_address",
         "rawType": "object",
         "type": "string"
        },
        {
         "name": "autopool_symbol",
         "rawType": "object",
         "type": "string"
        }
       ],
       "ref": "b747ead4-5af4-4a13-b45d-c2ab3cddb94a",
       "rows": [
        [
         "0",
         "0x04C154b66CB340F3Ae24111CC767e0184Ed00Cc6",
         "477668499845074452480",
         "0xc4eb861e7b66f593482a3d7e8adc314f6eeda30b",
         "autoETH"
        ],
        [
         "1",
         "0x88794C65550DeB6b4087B7552eCf295113794410",
         "720385906514451783620624660824064",
         "0xc4eb861e7b66f593482a3d7e8adc314f6eeda30b",
         "autoETH"
        ],
        [
         "2",
         "0xC02aaA39b223FE8D0A0e5C4F27eAD9083C756Cc2",
         "257108860291401908224",
         "0xc4eb861e7b66f593482a3d7e8adc314f6eeda30b",
         "autoETH"
        ],
        [
         "3",
         "0xC02aaA39b223FE8D0A0e5C4F27eAD9083C756Cc2",
         "581617675762953420800",
         "0x1ea622fa030e4a78f4cc2f305dd3c08da3f08573",
         "autoETH"
        ],
        [
         "4",
         "0xA35b1B31Ce002FBF2058D22F30f95D405200A15b",
         "984277202008518426624",
         "0x1ea622fa030e4a78f4cc2f305dd3c08da3f08573",
         "autoETH"
        ],
        [
         "8",
         "0xC02aaA39b223FE8D0A0e5C4F27eAD9083C756Cc2",
         "397810602273961607168",
         "0xba1462f43c6f60ebd1c62735c94e428ad073e01a",
         "autoETH"
        ],
        [
         "9",
         "0x04C154b66CB340F3Ae24111CC767e0184Ed00Cc6",
         "657600640950121398272",
         "0xba1462f43c6f60ebd1c62735c94e428ad073e01a",
         "autoETH"
        ],
        [
         "10",
         "0x04C154b66CB340F3Ae24111CC767e0184Ed00Cc6",
         "1270999094834193235968",
         "0xe4433d00cf48bfe0c672d9949f2cd2c008bffc04",
         "autoETH"
        ],
        [
         "11",
         "0xae7ab96520DE3A18E5e111B5EaAb095312D7fE84",
         "748983918883327180800",
         "0xe4433d00cf48bfe0c672d9949f2cd2c008bffc04",
         "autoETH"
        ],
        [
         "12",
         "0xC02aaA39b223FE8D0A0e5C4F27eAD9083C756Cc2",
         "1087485510103234248704",
         "0x5c6aeb9ef0d5bba4e6691f381003503fd0d45126",
         "autoETH"
        ],
        [
         "13",
         "0xCd5fE23C85820F7B72D0926FC9b05b43E359b7ee",
         "1224506922470743474176",
         "0x5c6aeb9ef0d5bba4e6691f381003503fd0d45126",
         "autoETH"
        ],
        [
         "14",
         "0x05ff47AFADa98a98982113758878F9A8B9FddA0a",
         "629097718663375158586159212265472",
         "0x40219bbda953ca811d2d0168dc806a96b84791d9",
         "autoETH"
        ],
        [
         "15",
         "0xae78736Cd615f374D3085123A210448E74Fc6393",
         "150208246480720592896",
         "0x40219bbda953ca811d2d0168dc806a96b84791d9",
         "autoETH"
        ],
        [
         "16",
         "0xCd5fE23C85820F7B72D0926FC9b05b43E359b7ee",
         "138096346975219400704",
         "0x40219bbda953ca811d2d0168dc806a96b84791d9",
         "autoETH"
        ],
        [
         "17",
         "0xf1C9acDc66974dFB6dEcB12aA385b9cD01190E38",
         "369781576560471310336",
         "0x3f55eedde51504e6ed0ec30e8289b4da11edb7f9",
         "autoETH"
        ],
        [
         "18",
         "0xae78736Cd615f374D3085123A210448E74Fc6393",
         "367111568727945576448",
         "0x3f55eedde51504e6ed0ec30e8289b4da11edb7f9",
         "autoETH"
        ],
        [
         "23",
         "0xC02aaA39b223FE8D0A0e5C4F27eAD9083C756Cc2",
         "12282908955626387456",
         "0x4142e3a17391676c66ddf1285e43889f168ee237",
         "autoETH"
        ],
        [
         "24",
         "0xf1C9acDc66974dFB6dEcB12aA385b9cD01190E38",
         "10222705185255491584",
         "0x4142e3a17391676c66ddf1285e43889f168ee237",
         "autoETH"
        ],
        [
         "25",
         "0xC02aaA39b223FE8D0A0e5C4F27eAD9083C756Cc2",
         "2001098498709380923392",
         "0x87e25ffe5c3a2720cd43f5eb8ec41ac0ce699d07",
         "autoETH"
        ],
        [
         "26",
         "0xf1C9acDc66974dFB6dEcB12aA385b9cD01190E38",
         "1665455640261248679936",
         "0x87e25ffe5c3a2720cd43f5eb8ec41ac0ce699d07",
         "autoETH"
        ],
        [
         "27",
         "0xA0D3707c569ff8C87FA923d3823eC5D81c98Be78",
         "20159626845610848256",
         "0x2c7120dccf1c14a37a26a4955475d45d34a3d7e7",
         "autoETH"
        ],
        [
         "34",
         "0x596192bB6e41802428Ac943D2f1476C1Af25CC0E",
         "110350233524654222785049454968832",
         "0x2f2cc1bf461413014741dd68481db4a3686dac3d",
         "balETH"
        ],
        [
         "35",
         "0xbf5495Efe5DB9ce00f80364C8B423567e58d2110",
         "80092781459505332224",
         "0x2f2cc1bf461413014741dd68481db4a3686dac3d",
         "balETH"
        ],
        [
         "36",
         "0xC02aaA39b223FE8D0A0e5C4F27eAD9083C756Cc2",
         "47281355643014373376",
         "0x2f2cc1bf461413014741dd68481db4a3686dac3d",
         "balETH"
        ],
        [
         "46",
         "0xC02aaA39b223FE8D0A0e5C4F27eAD9083C756Cc2",
         "26405273686515863552",
         "0x5c6aeb9ef0d5bba4e6691f381003503fd0d45126",
         "autoLRT"
        ],
        [
         "47",
         "0xCd5fE23C85820F7B72D0926FC9b05b43E359b7ee",
         "29732295390127865856",
         "0x5c6aeb9ef0d5bba4e6691f381003503fd0d45126",
         "autoLRT"
        ],
        [
         "51",
         "0x04C154b66CB340F3Ae24111CC767e0184Ed00Cc6",
         "232261660328792588288",
         "0xc4eb861e7b66f593482a3d7e8adc314f6eeda30b",
         "dineroETH"
        ],
        [
         "52",
         "0x88794C65550DeB6b4087B7552eCf295113794410",
         "350280637678172893279620752736256",
         "0xc4eb861e7b66f593482a3d7e8adc314f6eeda30b",
         "dineroETH"
        ],
        [
         "53",
         "0xC02aaA39b223FE8D0A0e5C4F27eAD9083C756Cc2",
         "125016681644054102016",
         "0xc4eb861e7b66f593482a3d7e8adc314f6eeda30b",
         "dineroETH"
        ],
        [
         "54",
         "0x04C154b66CB340F3Ae24111CC767e0184Ed00Cc6",
         "63004851255484039168",
         "0xe4433d00cf48bfe0c672d9949f2cd2c008bffc04",
         "dineroETH"
        ],
        [
         "55",
         "0xae7ab96520DE3A18E5e111B5EaAb095312D7fE84",
         "37127973256463745024",
         "0xe4433d00cf48bfe0c672d9949f2cd2c008bffc04",
         "dineroETH"
        ],
        [
         "69",
         "0x40D16FC0246aD3160Ccc09B8D0D3A2cD28aE6C2f",
         "2046752611211256048648192",
         "0xa345ceeccf8fe6ae33fe1d655b4806492251c2a8",
         "autoUSD"
        ],
        [
         "70",
         "0xf939E0A03FB07F59A73314E73794Be0E57ac1b4E",
         "838341799732747064836096",
         "0xa345ceeccf8fe6ae33fe1d655b4806492251c2a8",
         "autoUSD"
        ],
        [
         "73",
         "0xf939E0A03FB07F59A73314E73794Be0E57ac1b4E",
         "37989309898062368342016",
         "0xc099899d0278ce83976218cbe58d01dd382dca32",
         "autoUSD"
        ],
        [
         "74",
         "0x9D39A5DE30e57443BfF2A8307A4256c8797A3497",
         "74269339778572693274624",
         "0xc099899d0278ce83976218cbe58d01dd382dca32",
         "autoUSD"
        ],
        [
         "75",
         "0x0655977FEb2f289A4aB78af67BAB0d17aAb84367",
         "99862505287876673011712",
         "0x53c8c211350b635269e02b2c2f1077b850c657db",
         "autoUSD"
        ],
        [
         "76",
         "0x9D39A5DE30e57443BfF2A8307A4256c8797A3497",
         "166043535629615926083584",
         "0x53c8c211350b635269e02b2c2f1077b850c657db",
         "autoUSD"
        ],
        [
         "80",
         "0x0655977FEb2f289A4aB78af67BAB0d17aAb84367",
         "2723340294479063661150208",
         "0x3ee3f7a0b244004b0678eba98ba091ec101513ee",
         "autoUSD"
        ],
        [
         "81",
         "0xa3931d71877C0E7a3148CB7Eb4463524FEc27fbD",
         "2736811514585299111903232",
         "0x3ee3f7a0b244004b0678eba98ba091ec101513ee",
         "autoUSD"
        ],
        [
         "90",
         "0xA0b86991c6218b36c1d19D4a2e9Eb0cE3606eB48",
         "6500676051529",
         "0x7876f91bb22148345b3de16af9448081e9853830",
         "autoUSD"
        ],
        [
         "97",
         "0xdAC17F958D2ee523a2206206994597C13D831ec7",
         "553875613287",
         "0x366c094c5563cd12af27b9afff2200b0e0d056e0",
         "autoUSD"
        ],
        [
         "98",
         "0x40D16FC0246aD3160Ccc09B8D0D3A2cD28aE6C2f",
         "2400991440557706112401408",
         "0x366c094c5563cd12af27b9afff2200b0e0d056e0",
         "autoUSD"
        ],
        [
         "99",
         "0xA0b86991c6218b36c1d19D4a2e9Eb0cE3606eB48",
         "937038691412",
         "0x366c094c5563cd12af27b9afff2200b0e0d056e0",
         "autoUSD"
        ],
        [
         "100",
         "0x865377367054516e17014CcdED1e7d814EDC9ce4",
         "123671167088402112708608",
         "0x0091fec1b75013d1b83f4bb82f0bec4e256758cb",
         "autoDOLA"
        ],
        [
         "101",
         "0x9D39A5DE30e57443BfF2A8307A4256c8797A3497",
         "113558825875916195889152",
         "0x0091fec1b75013d1b83f4bb82f0bec4e256758cb",
         "autoDOLA"
        ],
        [
         "108",
         "0x57aB1E0003F623289CD798B1824Be09a793e4Bec",
         "1105629417473955669737472",
         "0x9828b1a3742457d70ce428ddd3aa51f84ffb37f2",
         "autoDOLA"
        ],
        [
         "109",
         "0xb45ad160634c528Cc3D2926d9807104FA3157305",
         "331732874983450731347968",
         "0x9828b1a3742457d70ce428ddd3aa51f84ffb37f2",
         "autoDOLA"
        ],
        [
         "112",
         "0xb45ad160634c528Cc3D2926d9807104FA3157305",
         "33686926755997713170432",
         "0xafd498862d5d0b816d7ce150959ba18f5c706a90",
         "autoDOLA"
        ],
        [
         "113",
         "0xBC6DA0FE9aD5f3b0d58160288917AA56653660E9",
         "92086454463873813577728",
         "0xafd498862d5d0b816d7ce150959ba18f5c706a90",
         "autoDOLA"
        ],
        [
         "114",
         "0x0655977FEb2f289A4aB78af67BAB0d17aAb84367",
         "218357043441232055894016",
         "0xf4ceddf4e2aec1aa6b4ef2c64739ecac5c948fa2",
         "autoDOLA"
        ]
       ],
       "shape": {
        "columns": 4,
        "rows": 52
       }
      },
      "text/html": [
       "<div>\n",
       "<style scoped>\n",
       "    .dataframe tbody tr th:only-of-type {\n",
       "        vertical-align: middle;\n",
       "    }\n",
       "\n",
       "    .dataframe tbody tr th {\n",
       "        vertical-align: top;\n",
       "    }\n",
       "\n",
       "    .dataframe thead th {\n",
       "        text-align: right;\n",
       "    }\n",
       "</style>\n",
       "<table border=\"1\" class=\"dataframe\">\n",
       "  <thead>\n",
       "    <tr style=\"text-align: right;\">\n",
       "      <th></th>\n",
       "      <th>token_address</th>\n",
       "      <th>reserve_amount</th>\n",
       "      <th>vault_address</th>\n",
       "      <th>autopool_symbol</th>\n",
       "    </tr>\n",
       "  </thead>\n",
       "  <tbody>\n",
       "    <tr>\n",
       "      <th>0</th>\n",
       "      <td>0x04C154b66CB340F3Ae24111CC767e0184Ed00Cc6</td>\n",
       "      <td>477668499845074452480</td>\n",
       "      <td>0xc4eb861e7b66f593482a3d7e8adc314f6eeda30b</td>\n",
       "      <td>autoETH</td>\n",
       "    </tr>\n",
       "    <tr>\n",
       "      <th>1</th>\n",
       "      <td>0x88794C65550DeB6b4087B7552eCf295113794410</td>\n",
       "      <td>720385906514451783620624660824064</td>\n",
       "      <td>0xc4eb861e7b66f593482a3d7e8adc314f6eeda30b</td>\n",
       "      <td>autoETH</td>\n",
       "    </tr>\n",
       "    <tr>\n",
       "      <th>2</th>\n",
       "      <td>0xC02aaA39b223FE8D0A0e5C4F27eAD9083C756Cc2</td>\n",
       "      <td>257108860291401908224</td>\n",
       "      <td>0xc4eb861e7b66f593482a3d7e8adc314f6eeda30b</td>\n",
       "      <td>autoETH</td>\n",
       "    </tr>\n",
       "    <tr>\n",
       "      <th>3</th>\n",
       "      <td>0xC02aaA39b223FE8D0A0e5C4F27eAD9083C756Cc2</td>\n",
       "      <td>581617675762953420800</td>\n",
       "      <td>0x1ea622fa030e4a78f4cc2f305dd3c08da3f08573</td>\n",
       "      <td>autoETH</td>\n",
       "    </tr>\n",
       "    <tr>\n",
       "      <th>4</th>\n",
       "      <td>0xA35b1B31Ce002FBF2058D22F30f95D405200A15b</td>\n",
       "      <td>984277202008518426624</td>\n",
       "      <td>0x1ea622fa030e4a78f4cc2f305dd3c08da3f08573</td>\n",
       "      <td>autoETH</td>\n",
       "    </tr>\n",
       "    <tr>\n",
       "      <th>8</th>\n",
       "      <td>0xC02aaA39b223FE8D0A0e5C4F27eAD9083C756Cc2</td>\n",
       "      <td>397810602273961607168</td>\n",
       "      <td>0xba1462f43c6f60ebd1c62735c94e428ad073e01a</td>\n",
       "      <td>autoETH</td>\n",
       "    </tr>\n",
       "    <tr>\n",
       "      <th>9</th>\n",
       "      <td>0x04C154b66CB340F3Ae24111CC767e0184Ed00Cc6</td>\n",
       "      <td>657600640950121398272</td>\n",
       "      <td>0xba1462f43c6f60ebd1c62735c94e428ad073e01a</td>\n",
       "      <td>autoETH</td>\n",
       "    </tr>\n",
       "    <tr>\n",
       "      <th>10</th>\n",
       "      <td>0x04C154b66CB340F3Ae24111CC767e0184Ed00Cc6</td>\n",
       "      <td>1270999094834193235968</td>\n",
       "      <td>0xe4433d00cf48bfe0c672d9949f2cd2c008bffc04</td>\n",
       "      <td>autoETH</td>\n",
       "    </tr>\n",
       "    <tr>\n",
       "      <th>11</th>\n",
       "      <td>0xae7ab96520DE3A18E5e111B5EaAb095312D7fE84</td>\n",
       "      <td>748983918883327180800</td>\n",
       "      <td>0xe4433d00cf48bfe0c672d9949f2cd2c008bffc04</td>\n",
       "      <td>autoETH</td>\n",
       "    </tr>\n",
       "    <tr>\n",
       "      <th>12</th>\n",
       "      <td>0xC02aaA39b223FE8D0A0e5C4F27eAD9083C756Cc2</td>\n",
       "      <td>1087485510103234248704</td>\n",
       "      <td>0x5c6aeb9ef0d5bba4e6691f381003503fd0d45126</td>\n",
       "      <td>autoETH</td>\n",
       "    </tr>\n",
       "    <tr>\n",
       "      <th>13</th>\n",
       "      <td>0xCd5fE23C85820F7B72D0926FC9b05b43E359b7ee</td>\n",
       "      <td>1224506922470743474176</td>\n",
       "      <td>0x5c6aeb9ef0d5bba4e6691f381003503fd0d45126</td>\n",
       "      <td>autoETH</td>\n",
       "    </tr>\n",
       "    <tr>\n",
       "      <th>14</th>\n",
       "      <td>0x05ff47AFADa98a98982113758878F9A8B9FddA0a</td>\n",
       "      <td>629097718663375158586159212265472</td>\n",
       "      <td>0x40219bbda953ca811d2d0168dc806a96b84791d9</td>\n",
       "      <td>autoETH</td>\n",
       "    </tr>\n",
       "    <tr>\n",
       "      <th>15</th>\n",
       "      <td>0xae78736Cd615f374D3085123A210448E74Fc6393</td>\n",
       "      <td>150208246480720592896</td>\n",
       "      <td>0x40219bbda953ca811d2d0168dc806a96b84791d9</td>\n",
       "      <td>autoETH</td>\n",
       "    </tr>\n",
       "    <tr>\n",
       "      <th>16</th>\n",
       "      <td>0xCd5fE23C85820F7B72D0926FC9b05b43E359b7ee</td>\n",
       "      <td>138096346975219400704</td>\n",
       "      <td>0x40219bbda953ca811d2d0168dc806a96b84791d9</td>\n",
       "      <td>autoETH</td>\n",
       "    </tr>\n",
       "    <tr>\n",
       "      <th>17</th>\n",
       "      <td>0xf1C9acDc66974dFB6dEcB12aA385b9cD01190E38</td>\n",
       "      <td>369781576560471310336</td>\n",
       "      <td>0x3f55eedde51504e6ed0ec30e8289b4da11edb7f9</td>\n",
       "      <td>autoETH</td>\n",
       "    </tr>\n",
       "    <tr>\n",
       "      <th>18</th>\n",
       "      <td>0xae78736Cd615f374D3085123A210448E74Fc6393</td>\n",
       "      <td>367111568727945576448</td>\n",
       "      <td>0x3f55eedde51504e6ed0ec30e8289b4da11edb7f9</td>\n",
       "      <td>autoETH</td>\n",
       "    </tr>\n",
       "    <tr>\n",
       "      <th>23</th>\n",
       "      <td>0xC02aaA39b223FE8D0A0e5C4F27eAD9083C756Cc2</td>\n",
       "      <td>12282908955626387456</td>\n",
       "      <td>0x4142e3a17391676c66ddf1285e43889f168ee237</td>\n",
       "      <td>autoETH</td>\n",
       "    </tr>\n",
       "    <tr>\n",
       "      <th>24</th>\n",
       "      <td>0xf1C9acDc66974dFB6dEcB12aA385b9cD01190E38</td>\n",
       "      <td>10222705185255491584</td>\n",
       "      <td>0x4142e3a17391676c66ddf1285e43889f168ee237</td>\n",
       "      <td>autoETH</td>\n",
       "    </tr>\n",
       "    <tr>\n",
       "      <th>25</th>\n",
       "      <td>0xC02aaA39b223FE8D0A0e5C4F27eAD9083C756Cc2</td>\n",
       "      <td>2001098498709380923392</td>\n",
       "      <td>0x87e25ffe5c3a2720cd43f5eb8ec41ac0ce699d07</td>\n",
       "      <td>autoETH</td>\n",
       "    </tr>\n",
       "    <tr>\n",
       "      <th>26</th>\n",
       "      <td>0xf1C9acDc66974dFB6dEcB12aA385b9cD01190E38</td>\n",
       "      <td>1665455640261248679936</td>\n",
       "      <td>0x87e25ffe5c3a2720cd43f5eb8ec41ac0ce699d07</td>\n",
       "      <td>autoETH</td>\n",
       "    </tr>\n",
       "    <tr>\n",
       "      <th>27</th>\n",
       "      <td>0xA0D3707c569ff8C87FA923d3823eC5D81c98Be78</td>\n",
       "      <td>20159626845610848256</td>\n",
       "      <td>0x2c7120dccf1c14a37a26a4955475d45d34a3d7e7</td>\n",
       "      <td>autoETH</td>\n",
       "    </tr>\n",
       "    <tr>\n",
       "      <th>34</th>\n",
       "      <td>0x596192bB6e41802428Ac943D2f1476C1Af25CC0E</td>\n",
       "      <td>110350233524654222785049454968832</td>\n",
       "      <td>0x2f2cc1bf461413014741dd68481db4a3686dac3d</td>\n",
       "      <td>balETH</td>\n",
       "    </tr>\n",
       "    <tr>\n",
       "      <th>35</th>\n",
       "      <td>0xbf5495Efe5DB9ce00f80364C8B423567e58d2110</td>\n",
       "      <td>80092781459505332224</td>\n",
       "      <td>0x2f2cc1bf461413014741dd68481db4a3686dac3d</td>\n",
       "      <td>balETH</td>\n",
       "    </tr>\n",
       "    <tr>\n",
       "      <th>36</th>\n",
       "      <td>0xC02aaA39b223FE8D0A0e5C4F27eAD9083C756Cc2</td>\n",
       "      <td>47281355643014373376</td>\n",
       "      <td>0x2f2cc1bf461413014741dd68481db4a3686dac3d</td>\n",
       "      <td>balETH</td>\n",
       "    </tr>\n",
       "    <tr>\n",
       "      <th>46</th>\n",
       "      <td>0xC02aaA39b223FE8D0A0e5C4F27eAD9083C756Cc2</td>\n",
       "      <td>26405273686515863552</td>\n",
       "      <td>0x5c6aeb9ef0d5bba4e6691f381003503fd0d45126</td>\n",
       "      <td>autoLRT</td>\n",
       "    </tr>\n",
       "    <tr>\n",
       "      <th>47</th>\n",
       "      <td>0xCd5fE23C85820F7B72D0926FC9b05b43E359b7ee</td>\n",
       "      <td>29732295390127865856</td>\n",
       "      <td>0x5c6aeb9ef0d5bba4e6691f381003503fd0d45126</td>\n",
       "      <td>autoLRT</td>\n",
       "    </tr>\n",
       "    <tr>\n",
       "      <th>51</th>\n",
       "      <td>0x04C154b66CB340F3Ae24111CC767e0184Ed00Cc6</td>\n",
       "      <td>232261660328792588288</td>\n",
       "      <td>0xc4eb861e7b66f593482a3d7e8adc314f6eeda30b</td>\n",
       "      <td>dineroETH</td>\n",
       "    </tr>\n",
       "    <tr>\n",
       "      <th>52</th>\n",
       "      <td>0x88794C65550DeB6b4087B7552eCf295113794410</td>\n",
       "      <td>350280637678172893279620752736256</td>\n",
       "      <td>0xc4eb861e7b66f593482a3d7e8adc314f6eeda30b</td>\n",
       "      <td>dineroETH</td>\n",
       "    </tr>\n",
       "    <tr>\n",
       "      <th>53</th>\n",
       "      <td>0xC02aaA39b223FE8D0A0e5C4F27eAD9083C756Cc2</td>\n",
       "      <td>125016681644054102016</td>\n",
       "      <td>0xc4eb861e7b66f593482a3d7e8adc314f6eeda30b</td>\n",
       "      <td>dineroETH</td>\n",
       "    </tr>\n",
       "    <tr>\n",
       "      <th>54</th>\n",
       "      <td>0x04C154b66CB340F3Ae24111CC767e0184Ed00Cc6</td>\n",
       "      <td>63004851255484039168</td>\n",
       "      <td>0xe4433d00cf48bfe0c672d9949f2cd2c008bffc04</td>\n",
       "      <td>dineroETH</td>\n",
       "    </tr>\n",
       "    <tr>\n",
       "      <th>55</th>\n",
       "      <td>0xae7ab96520DE3A18E5e111B5EaAb095312D7fE84</td>\n",
       "      <td>37127973256463745024</td>\n",
       "      <td>0xe4433d00cf48bfe0c672d9949f2cd2c008bffc04</td>\n",
       "      <td>dineroETH</td>\n",
       "    </tr>\n",
       "    <tr>\n",
       "      <th>69</th>\n",
       "      <td>0x40D16FC0246aD3160Ccc09B8D0D3A2cD28aE6C2f</td>\n",
       "      <td>2046752611211256048648192</td>\n",
       "      <td>0xa345ceeccf8fe6ae33fe1d655b4806492251c2a8</td>\n",
       "      <td>autoUSD</td>\n",
       "    </tr>\n",
       "    <tr>\n",
       "      <th>70</th>\n",
       "      <td>0xf939E0A03FB07F59A73314E73794Be0E57ac1b4E</td>\n",
       "      <td>838341799732747064836096</td>\n",
       "      <td>0xa345ceeccf8fe6ae33fe1d655b4806492251c2a8</td>\n",
       "      <td>autoUSD</td>\n",
       "    </tr>\n",
       "    <tr>\n",
       "      <th>73</th>\n",
       "      <td>0xf939E0A03FB07F59A73314E73794Be0E57ac1b4E</td>\n",
       "      <td>37989309898062368342016</td>\n",
       "      <td>0xc099899d0278ce83976218cbe58d01dd382dca32</td>\n",
       "      <td>autoUSD</td>\n",
       "    </tr>\n",
       "    <tr>\n",
       "      <th>74</th>\n",
       "      <td>0x9D39A5DE30e57443BfF2A8307A4256c8797A3497</td>\n",
       "      <td>74269339778572693274624</td>\n",
       "      <td>0xc099899d0278ce83976218cbe58d01dd382dca32</td>\n",
       "      <td>autoUSD</td>\n",
       "    </tr>\n",
       "    <tr>\n",
       "      <th>75</th>\n",
       "      <td>0x0655977FEb2f289A4aB78af67BAB0d17aAb84367</td>\n",
       "      <td>99862505287876673011712</td>\n",
       "      <td>0x53c8c211350b635269e02b2c2f1077b850c657db</td>\n",
       "      <td>autoUSD</td>\n",
       "    </tr>\n",
       "    <tr>\n",
       "      <th>76</th>\n",
       "      <td>0x9D39A5DE30e57443BfF2A8307A4256c8797A3497</td>\n",
       "      <td>166043535629615926083584</td>\n",
       "      <td>0x53c8c211350b635269e02b2c2f1077b850c657db</td>\n",
       "      <td>autoUSD</td>\n",
       "    </tr>\n",
       "    <tr>\n",
       "      <th>80</th>\n",
       "      <td>0x0655977FEb2f289A4aB78af67BAB0d17aAb84367</td>\n",
       "      <td>2723340294479063661150208</td>\n",
       "      <td>0x3ee3f7a0b244004b0678eba98ba091ec101513ee</td>\n",
       "      <td>autoUSD</td>\n",
       "    </tr>\n",
       "    <tr>\n",
       "      <th>81</th>\n",
       "      <td>0xa3931d71877C0E7a3148CB7Eb4463524FEc27fbD</td>\n",
       "      <td>2736811514585299111903232</td>\n",
       "      <td>0x3ee3f7a0b244004b0678eba98ba091ec101513ee</td>\n",
       "      <td>autoUSD</td>\n",
       "    </tr>\n",
       "    <tr>\n",
       "      <th>90</th>\n",
       "      <td>0xA0b86991c6218b36c1d19D4a2e9Eb0cE3606eB48</td>\n",
       "      <td>6500676051529</td>\n",
       "      <td>0x7876f91bb22148345b3de16af9448081e9853830</td>\n",
       "      <td>autoUSD</td>\n",
       "    </tr>\n",
       "    <tr>\n",
       "      <th>97</th>\n",
       "      <td>0xdAC17F958D2ee523a2206206994597C13D831ec7</td>\n",
       "      <td>553875613287</td>\n",
       "      <td>0x366c094c5563cd12af27b9afff2200b0e0d056e0</td>\n",
       "      <td>autoUSD</td>\n",
       "    </tr>\n",
       "    <tr>\n",
       "      <th>98</th>\n",
       "      <td>0x40D16FC0246aD3160Ccc09B8D0D3A2cD28aE6C2f</td>\n",
       "      <td>2400991440557706112401408</td>\n",
       "      <td>0x366c094c5563cd12af27b9afff2200b0e0d056e0</td>\n",
       "      <td>autoUSD</td>\n",
       "    </tr>\n",
       "    <tr>\n",
       "      <th>99</th>\n",
       "      <td>0xA0b86991c6218b36c1d19D4a2e9Eb0cE3606eB48</td>\n",
       "      <td>937038691412</td>\n",
       "      <td>0x366c094c5563cd12af27b9afff2200b0e0d056e0</td>\n",
       "      <td>autoUSD</td>\n",
       "    </tr>\n",
       "    <tr>\n",
       "      <th>100</th>\n",
       "      <td>0x865377367054516e17014CcdED1e7d814EDC9ce4</td>\n",
       "      <td>123671167088402112708608</td>\n",
       "      <td>0x0091fec1b75013d1b83f4bb82f0bec4e256758cb</td>\n",
       "      <td>autoDOLA</td>\n",
       "    </tr>\n",
       "    <tr>\n",
       "      <th>101</th>\n",
       "      <td>0x9D39A5DE30e57443BfF2A8307A4256c8797A3497</td>\n",
       "      <td>113558825875916195889152</td>\n",
       "      <td>0x0091fec1b75013d1b83f4bb82f0bec4e256758cb</td>\n",
       "      <td>autoDOLA</td>\n",
       "    </tr>\n",
       "    <tr>\n",
       "      <th>108</th>\n",
       "      <td>0x57aB1E0003F623289CD798B1824Be09a793e4Bec</td>\n",
       "      <td>1105629417473955669737472</td>\n",
       "      <td>0x9828b1a3742457d70ce428ddd3aa51f84ffb37f2</td>\n",
       "      <td>autoDOLA</td>\n",
       "    </tr>\n",
       "    <tr>\n",
       "      <th>109</th>\n",
       "      <td>0xb45ad160634c528Cc3D2926d9807104FA3157305</td>\n",
       "      <td>331732874983450731347968</td>\n",
       "      <td>0x9828b1a3742457d70ce428ddd3aa51f84ffb37f2</td>\n",
       "      <td>autoDOLA</td>\n",
       "    </tr>\n",
       "    <tr>\n",
       "      <th>112</th>\n",
       "      <td>0xb45ad160634c528Cc3D2926d9807104FA3157305</td>\n",
       "      <td>33686926755997713170432</td>\n",
       "      <td>0xafd498862d5d0b816d7ce150959ba18f5c706a90</td>\n",
       "      <td>autoDOLA</td>\n",
       "    </tr>\n",
       "    <tr>\n",
       "      <th>113</th>\n",
       "      <td>0xBC6DA0FE9aD5f3b0d58160288917AA56653660E9</td>\n",
       "      <td>92086454463873813577728</td>\n",
       "      <td>0xafd498862d5d0b816d7ce150959ba18f5c706a90</td>\n",
       "      <td>autoDOLA</td>\n",
       "    </tr>\n",
       "    <tr>\n",
       "      <th>114</th>\n",
       "      <td>0x0655977FEb2f289A4aB78af67BAB0d17aAb84367</td>\n",
       "      <td>218357043441232055894016</td>\n",
       "      <td>0xf4ceddf4e2aec1aa6b4ef2c64739ecac5c948fa2</td>\n",
       "      <td>autoDOLA</td>\n",
       "    </tr>\n",
       "    <tr>\n",
       "      <th>115</th>\n",
       "      <td>0xb45ad160634c528Cc3D2926d9807104FA3157305</td>\n",
       "      <td>509519669779239362625536</td>\n",
       "      <td>0xf4ceddf4e2aec1aa6b4ef2c64739ecac5c948fa2</td>\n",
       "      <td>autoDOLA</td>\n",
       "    </tr>\n",
       "    <tr>\n",
       "      <th>116</th>\n",
       "      <td>0xb45ad160634c528Cc3D2926d9807104FA3157305</td>\n",
       "      <td>157083000634488580472832</td>\n",
       "      <td>0x116b3e86f2b04c21605c5fc4b95ba6a82dbf8f3e</td>\n",
       "      <td>autoDOLA</td>\n",
       "    </tr>\n",
       "  </tbody>\n",
       "</table>\n",
       "</div>"
      ],
      "text/plain": [
       "                                  token_address  \\\n",
       "0    0x04C154b66CB340F3Ae24111CC767e0184Ed00Cc6   \n",
       "1    0x88794C65550DeB6b4087B7552eCf295113794410   \n",
       "2    0xC02aaA39b223FE8D0A0e5C4F27eAD9083C756Cc2   \n",
       "3    0xC02aaA39b223FE8D0A0e5C4F27eAD9083C756Cc2   \n",
       "4    0xA35b1B31Ce002FBF2058D22F30f95D405200A15b   \n",
       "8    0xC02aaA39b223FE8D0A0e5C4F27eAD9083C756Cc2   \n",
       "9    0x04C154b66CB340F3Ae24111CC767e0184Ed00Cc6   \n",
       "10   0x04C154b66CB340F3Ae24111CC767e0184Ed00Cc6   \n",
       "11   0xae7ab96520DE3A18E5e111B5EaAb095312D7fE84   \n",
       "12   0xC02aaA39b223FE8D0A0e5C4F27eAD9083C756Cc2   \n",
       "13   0xCd5fE23C85820F7B72D0926FC9b05b43E359b7ee   \n",
       "14   0x05ff47AFADa98a98982113758878F9A8B9FddA0a   \n",
       "15   0xae78736Cd615f374D3085123A210448E74Fc6393   \n",
       "16   0xCd5fE23C85820F7B72D0926FC9b05b43E359b7ee   \n",
       "17   0xf1C9acDc66974dFB6dEcB12aA385b9cD01190E38   \n",
       "18   0xae78736Cd615f374D3085123A210448E74Fc6393   \n",
       "23   0xC02aaA39b223FE8D0A0e5C4F27eAD9083C756Cc2   \n",
       "24   0xf1C9acDc66974dFB6dEcB12aA385b9cD01190E38   \n",
       "25   0xC02aaA39b223FE8D0A0e5C4F27eAD9083C756Cc2   \n",
       "26   0xf1C9acDc66974dFB6dEcB12aA385b9cD01190E38   \n",
       "27   0xA0D3707c569ff8C87FA923d3823eC5D81c98Be78   \n",
       "34   0x596192bB6e41802428Ac943D2f1476C1Af25CC0E   \n",
       "35   0xbf5495Efe5DB9ce00f80364C8B423567e58d2110   \n",
       "36   0xC02aaA39b223FE8D0A0e5C4F27eAD9083C756Cc2   \n",
       "46   0xC02aaA39b223FE8D0A0e5C4F27eAD9083C756Cc2   \n",
       "47   0xCd5fE23C85820F7B72D0926FC9b05b43E359b7ee   \n",
       "51   0x04C154b66CB340F3Ae24111CC767e0184Ed00Cc6   \n",
       "52   0x88794C65550DeB6b4087B7552eCf295113794410   \n",
       "53   0xC02aaA39b223FE8D0A0e5C4F27eAD9083C756Cc2   \n",
       "54   0x04C154b66CB340F3Ae24111CC767e0184Ed00Cc6   \n",
       "55   0xae7ab96520DE3A18E5e111B5EaAb095312D7fE84   \n",
       "69   0x40D16FC0246aD3160Ccc09B8D0D3A2cD28aE6C2f   \n",
       "70   0xf939E0A03FB07F59A73314E73794Be0E57ac1b4E   \n",
       "73   0xf939E0A03FB07F59A73314E73794Be0E57ac1b4E   \n",
       "74   0x9D39A5DE30e57443BfF2A8307A4256c8797A3497   \n",
       "75   0x0655977FEb2f289A4aB78af67BAB0d17aAb84367   \n",
       "76   0x9D39A5DE30e57443BfF2A8307A4256c8797A3497   \n",
       "80   0x0655977FEb2f289A4aB78af67BAB0d17aAb84367   \n",
       "81   0xa3931d71877C0E7a3148CB7Eb4463524FEc27fbD   \n",
       "90   0xA0b86991c6218b36c1d19D4a2e9Eb0cE3606eB48   \n",
       "97   0xdAC17F958D2ee523a2206206994597C13D831ec7   \n",
       "98   0x40D16FC0246aD3160Ccc09B8D0D3A2cD28aE6C2f   \n",
       "99   0xA0b86991c6218b36c1d19D4a2e9Eb0cE3606eB48   \n",
       "100  0x865377367054516e17014CcdED1e7d814EDC9ce4   \n",
       "101  0x9D39A5DE30e57443BfF2A8307A4256c8797A3497   \n",
       "108  0x57aB1E0003F623289CD798B1824Be09a793e4Bec   \n",
       "109  0xb45ad160634c528Cc3D2926d9807104FA3157305   \n",
       "112  0xb45ad160634c528Cc3D2926d9807104FA3157305   \n",
       "113  0xBC6DA0FE9aD5f3b0d58160288917AA56653660E9   \n",
       "114  0x0655977FEb2f289A4aB78af67BAB0d17aAb84367   \n",
       "115  0xb45ad160634c528Cc3D2926d9807104FA3157305   \n",
       "116  0xb45ad160634c528Cc3D2926d9807104FA3157305   \n",
       "\n",
       "                        reserve_amount  \\\n",
       "0                477668499845074452480   \n",
       "1    720385906514451783620624660824064   \n",
       "2                257108860291401908224   \n",
       "3                581617675762953420800   \n",
       "4                984277202008518426624   \n",
       "8                397810602273961607168   \n",
       "9                657600640950121398272   \n",
       "10              1270999094834193235968   \n",
       "11               748983918883327180800   \n",
       "12              1087485510103234248704   \n",
       "13              1224506922470743474176   \n",
       "14   629097718663375158586159212265472   \n",
       "15               150208246480720592896   \n",
       "16               138096346975219400704   \n",
       "17               369781576560471310336   \n",
       "18               367111568727945576448   \n",
       "23                12282908955626387456   \n",
       "24                10222705185255491584   \n",
       "25              2001098498709380923392   \n",
       "26              1665455640261248679936   \n",
       "27                20159626845610848256   \n",
       "34   110350233524654222785049454968832   \n",
       "35                80092781459505332224   \n",
       "36                47281355643014373376   \n",
       "46                26405273686515863552   \n",
       "47                29732295390127865856   \n",
       "51               232261660328792588288   \n",
       "52   350280637678172893279620752736256   \n",
       "53               125016681644054102016   \n",
       "54                63004851255484039168   \n",
       "55                37127973256463745024   \n",
       "69           2046752611211256048648192   \n",
       "70            838341799732747064836096   \n",
       "73             37989309898062368342016   \n",
       "74             74269339778572693274624   \n",
       "75             99862505287876673011712   \n",
       "76            166043535629615926083584   \n",
       "80           2723340294479063661150208   \n",
       "81           2736811514585299111903232   \n",
       "90                       6500676051529   \n",
       "97                        553875613287   \n",
       "98           2400991440557706112401408   \n",
       "99                        937038691412   \n",
       "100           123671167088402112708608   \n",
       "101           113558825875916195889152   \n",
       "108          1105629417473955669737472   \n",
       "109           331732874983450731347968   \n",
       "112            33686926755997713170432   \n",
       "113            92086454463873813577728   \n",
       "114           218357043441232055894016   \n",
       "115           509519669779239362625536   \n",
       "116           157083000634488580472832   \n",
       "\n",
       "                                  vault_address autopool_symbol  \n",
       "0    0xc4eb861e7b66f593482a3d7e8adc314f6eeda30b         autoETH  \n",
       "1    0xc4eb861e7b66f593482a3d7e8adc314f6eeda30b         autoETH  \n",
       "2    0xc4eb861e7b66f593482a3d7e8adc314f6eeda30b         autoETH  \n",
       "3    0x1ea622fa030e4a78f4cc2f305dd3c08da3f08573         autoETH  \n",
       "4    0x1ea622fa030e4a78f4cc2f305dd3c08da3f08573         autoETH  \n",
       "8    0xba1462f43c6f60ebd1c62735c94e428ad073e01a         autoETH  \n",
       "9    0xba1462f43c6f60ebd1c62735c94e428ad073e01a         autoETH  \n",
       "10   0xe4433d00cf48bfe0c672d9949f2cd2c008bffc04         autoETH  \n",
       "11   0xe4433d00cf48bfe0c672d9949f2cd2c008bffc04         autoETH  \n",
       "12   0x5c6aeb9ef0d5bba4e6691f381003503fd0d45126         autoETH  \n",
       "13   0x5c6aeb9ef0d5bba4e6691f381003503fd0d45126         autoETH  \n",
       "14   0x40219bbda953ca811d2d0168dc806a96b84791d9         autoETH  \n",
       "15   0x40219bbda953ca811d2d0168dc806a96b84791d9         autoETH  \n",
       "16   0x40219bbda953ca811d2d0168dc806a96b84791d9         autoETH  \n",
       "17   0x3f55eedde51504e6ed0ec30e8289b4da11edb7f9         autoETH  \n",
       "18   0x3f55eedde51504e6ed0ec30e8289b4da11edb7f9         autoETH  \n",
       "23   0x4142e3a17391676c66ddf1285e43889f168ee237         autoETH  \n",
       "24   0x4142e3a17391676c66ddf1285e43889f168ee237         autoETH  \n",
       "25   0x87e25ffe5c3a2720cd43f5eb8ec41ac0ce699d07         autoETH  \n",
       "26   0x87e25ffe5c3a2720cd43f5eb8ec41ac0ce699d07         autoETH  \n",
       "27   0x2c7120dccf1c14a37a26a4955475d45d34a3d7e7         autoETH  \n",
       "34   0x2f2cc1bf461413014741dd68481db4a3686dac3d          balETH  \n",
       "35   0x2f2cc1bf461413014741dd68481db4a3686dac3d          balETH  \n",
       "36   0x2f2cc1bf461413014741dd68481db4a3686dac3d          balETH  \n",
       "46   0x5c6aeb9ef0d5bba4e6691f381003503fd0d45126         autoLRT  \n",
       "47   0x5c6aeb9ef0d5bba4e6691f381003503fd0d45126         autoLRT  \n",
       "51   0xc4eb861e7b66f593482a3d7e8adc314f6eeda30b       dineroETH  \n",
       "52   0xc4eb861e7b66f593482a3d7e8adc314f6eeda30b       dineroETH  \n",
       "53   0xc4eb861e7b66f593482a3d7e8adc314f6eeda30b       dineroETH  \n",
       "54   0xe4433d00cf48bfe0c672d9949f2cd2c008bffc04       dineroETH  \n",
       "55   0xe4433d00cf48bfe0c672d9949f2cd2c008bffc04       dineroETH  \n",
       "69   0xa345ceeccf8fe6ae33fe1d655b4806492251c2a8         autoUSD  \n",
       "70   0xa345ceeccf8fe6ae33fe1d655b4806492251c2a8         autoUSD  \n",
       "73   0xc099899d0278ce83976218cbe58d01dd382dca32         autoUSD  \n",
       "74   0xc099899d0278ce83976218cbe58d01dd382dca32         autoUSD  \n",
       "75   0x53c8c211350b635269e02b2c2f1077b850c657db         autoUSD  \n",
       "76   0x53c8c211350b635269e02b2c2f1077b850c657db         autoUSD  \n",
       "80   0x3ee3f7a0b244004b0678eba98ba091ec101513ee         autoUSD  \n",
       "81   0x3ee3f7a0b244004b0678eba98ba091ec101513ee         autoUSD  \n",
       "90   0x7876f91bb22148345b3de16af9448081e9853830         autoUSD  \n",
       "97   0x366c094c5563cd12af27b9afff2200b0e0d056e0         autoUSD  \n",
       "98   0x366c094c5563cd12af27b9afff2200b0e0d056e0         autoUSD  \n",
       "99   0x366c094c5563cd12af27b9afff2200b0e0d056e0         autoUSD  \n",
       "100  0x0091fec1b75013d1b83f4bb82f0bec4e256758cb        autoDOLA  \n",
       "101  0x0091fec1b75013d1b83f4bb82f0bec4e256758cb        autoDOLA  \n",
       "108  0x9828b1a3742457d70ce428ddd3aa51f84ffb37f2        autoDOLA  \n",
       "109  0x9828b1a3742457d70ce428ddd3aa51f84ffb37f2        autoDOLA  \n",
       "112  0xafd498862d5d0b816d7ce150959ba18f5c706a90        autoDOLA  \n",
       "113  0xafd498862d5d0b816d7ce150959ba18f5c706a90        autoDOLA  \n",
       "114  0xf4ceddf4e2aec1aa6b4ef2c64739ecac5c948fa2        autoDOLA  \n",
       "115  0xf4ceddf4e2aec1aa6b4ef2c64739ecac5c948fa2        autoDOLA  \n",
       "116  0x116b3e86f2b04c21605c5fc4b95ba6a82dbf8f3e        autoDOLA  "
      ]
     },
     "execution_count": 5,
     "metadata": {},
     "output_type": "execute_result"
    }
   ],
   "source": [
    "from mainnet_launch.pages.autopool_diagnostics.lens_contract import *\n",
    "from mainnet_launch.data_fetching.get_state_by_block import *\n",
    "from mainnet_launch.database.schema.full import *\n",
    "from mainnet_launch.database.schema.postgres_operations import *\n",
    "from mainnet_launch.constants import *\n",
    "\n",
    "from pprint import pprint\n",
    "from web3 import Web3\n",
    "\n",
    "\n",
    "def get_eth_value_by_destination_by_autopool(lens_contract_data: dict):\n",
    "    dests = []\n",
    "    autopool_symbol_to_autopool_constant = {a.symbol: a for a in ALL_AUTOPOOLS}\n",
    "\n",
    "    for autopool_len_contract_data, list_of_destinations in zip(\n",
    "        lens_contract_data[\"autopools\"], lens_contract_data[\"destinations\"]\n",
    "    ):\n",
    "        autopool: AutopoolConstants = autopool_symbol_to_autopool_constant[autopool_len_contract_data[\"symbol\"]]\n",
    "        for dest in list_of_destinations:\n",
    "            dest[\"autopool_base_asset_decimals\"] = autopool.base_asset_decimals\n",
    "            dest[\"autopool_symbol\"] = autopool.symbol\n",
    "            dests.append(dest)\n",
    "\n",
    "    return pd.DataFrame(dests)[\n",
    "        [\"vaultAddress\", \"autoPoolOwnsShares\", \"actualLPTotalSupply\", \"autopool_base_asset_decimals\", \"autopool_symbol\"]\n",
    "    ]\n",
    "\n",
    "\n",
    "def get_underlying_reserves_by_block(lens_contract_df: pd.DataFrame, block: int, chain: ChainData) -> dict:\n",
    "    calls = [\n",
    "        Call(\n",
    "            destination_vault_address,\n",
    "            \"underlyingReserves()(address[],uint256[])\",\n",
    "            [\n",
    "                ((destination_vault_address, \"underlyingReserves_tokens\"), identity_with_bool_success),\n",
    "                ((destination_vault_address, \"underlyingReserves_amounts\"), identity_with_bool_success),\n",
    "            ],\n",
    "        )\n",
    "        for destination_vault_address in lens_contract_df[\"vaultAddress\"]\n",
    "    ]\n",
    "\n",
    "    acutal_reserves_state = get_state_by_one_block(calls, block, chain)\n",
    "    return acutal_reserves_state\n",
    "\n",
    "\n",
    "def fetch_raw_amounts_by_destination_by_autopool(block: int, chain: ChainData) -> pd.DataFrame:\n",
    "    data = get_full_destination_pools_and_destinations_at_one_block(chain, block)\n",
    "\n",
    "    lens_contract_df = get_eth_value_by_destination_by_autopool(data)\n",
    "\n",
    "    acutal_reserves_state = get_underlying_reserves_by_block(lens_contract_df, block, chain)\n",
    "\n",
    "    # 'debtValueHeldByVault', might want for sanity check\n",
    "    lens_contract_df[\"portion_ownership\"] = (\n",
    "        lens_contract_df[\"autoPoolOwnsShares\"] / lens_contract_df[\"actualLPTotalSupply\"]\n",
    "    )\n",
    "    lens_contract_df[\"reserve_amounts\"] = lens_contract_df[\"vaultAddress\"].apply(\n",
    "        lambda x: acutal_reserves_state[(x, \"underlyingReserves_amounts\")]\n",
    "    )\n",
    "    lens_contract_df[\"reserve_tokens\"] = lens_contract_df[\"vaultAddress\"].apply(\n",
    "        lambda x: acutal_reserves_state[(x, \"underlyingReserves_tokens\")]\n",
    "    )\n",
    "\n",
    "    raw_base_token_value_by_destination = []\n",
    "\n",
    "    def _extract_proportional_ownership_of_reserve_tokens_in_underlying_pools(row: pd.Series):\n",
    "        for reserve_amount, reserve_token_address in zip(row[\"reserve_amounts\"], row[\"reserve_tokens\"]):\n",
    "            raw_base_token_value_by_destination.append(\n",
    "                {\n",
    "                    \"token_address\": Web3.toChecksumAddress(reserve_token_address),\n",
    "                    \"reserve_amount\": int(int(reserve_amount) * row[\"portion_ownership\"]),\n",
    "                    \"vault_address\": row[\"vaultAddress\"],\n",
    "                    \"autopool_symbol\": row[\"autopool_symbol\"],\n",
    "                }\n",
    "            )\n",
    "\n",
    "    lens_contract_df.apply(\n",
    "        lambda row: _extract_proportional_ownership_of_reserve_tokens_in_underlying_pools(row), axis=1\n",
    "    )\n",
    "    reserve_token_ownership_df = pd.DataFrame.from_records(raw_base_token_value_by_destination)\n",
    "\n",
    "    token_df = get_full_table_as_df(Tokens, where_clause=Tokens.chain_id == chain.chain_id)\n",
    "\n",
    "    reserve_token_ownership_df = reserve_token_ownership_df[reserve_token_ownership_df[\"reserve_amount\"] > 0]\n",
    "    raw_balance_by_token = reserve_token_ownership_df.groupby(\"token_address\")[\"reserve_amount\"].sum()\n",
    "    return lens_contract_df, reserve_token_ownership_df, token_df, raw_balance_by_token"
   ]
  },
  {
   "cell_type": "code",
   "execution_count": 7,
   "metadata": {},
   "outputs": [
    {
     "data": {
      "application/vnd.microsoft.datawrangler.viewer.v0+json": {
       "columns": [
        {
         "name": "index",
         "rawType": "int64",
         "type": "integer"
        },
        {
         "name": "token_address",
         "rawType": "object",
         "type": "string"
        },
        {
         "name": "chain_id",
         "rawType": "int64",
         "type": "integer"
        },
        {
         "name": "symbol",
         "rawType": "object",
         "type": "string"
        },
        {
         "name": "name",
         "rawType": "object",
         "type": "string"
        },
        {
         "name": "decimals",
         "rawType": "int64",
         "type": "integer"
        }
       ],
       "ref": "86ef122e-1268-4b92-b099-27ea3f680d8e",
       "rows": [
        [
         "0",
         "0x38De22a3175708D45E7c7c64CD78479C8B56f76E",
         "1",
         "DOLA/USR",
         "DOLA/USR",
         "18"
        ],
        [
         "1",
         "0xB91159aa527D4769CB9FAf3e4ADB760c7E8C8Ea7",
         "1",
         "ETHx/wstETH",
         "Balancer ETHx/wstETH",
         "18"
        ],
        [
         "2",
         "0x853d955aCEf822Db058eb8505911ED77F175b99e",
         "1",
         "FRAX",
         "Frax",
         "18"
        ],
        [
         "3",
         "0xff17dAb22F1E61078aBa2623c89cE6110E878B3c",
         "1",
         "dola-save",
         "DOLA+scrvUSD",
         "18"
        ],
        [
         "4",
         "0xa3931d71877C0E7a3148CB7Eb4463524FEc27fbD",
         "1",
         "sUSDS",
         "Savings USDS",
         "18"
        ],
        [
         "5",
         "0xBe9895146f7AF43049ca1c1AE358B0541Ea49704",
         "1",
         "cbETH",
         "Coinbase Wrapped Staked ETH",
         "18"
        ],
        [
         "6",
         "0x59Ab5a5b5d617E478a2479B0cAD80DA7e2831492",
         "1",
         "ethx-f",
         "Curve.fi Factory Pool: ETHx-ETH",
         "18"
        ],
        [
         "7",
         "0x57aB1E0003F623289CD798B1824Be09a793e4Bec",
         "1",
         "reUSD",
         "Resupply USD",
         "18"
        ],
        [
         "8",
         "0xC71Ea051a5F82c67ADcF634c36FFE6334793D24C",
         "1",
         "waEthLidoGHO",
         "Wrapped Aave Ethereum Lido GHO",
         "18"
        ],
        [
         "9",
         "0xae7ab96520DE3A18E5e111B5EaAb095312D7fE84",
         "1",
         "stETH",
         "Liquid staked Ether 2.0",
         "18"
        ],
        [
         "10",
         "0x9D39A5DE30e57443BfF2A8307A4256c8797A3497",
         "1",
         "sUSDe",
         "Staked USDe",
         "18"
        ],
        [
         "11",
         "0x57c23c58B1D8C3292c15BEcF07c62C5c52457A42",
         "1",
         "osETH-waWETH",
         "Balancer osETH-waWETH",
         "18"
        ],
        [
         "12",
         "0xdd0f28e19C1780eb6396170735D45153D261490d",
         "1",
         "gtUSDC",
         "Gauntlet USDC Prime",
         "18"
        ],
        [
         "13",
         "0xb819feeF8F0fcDC268AfE14162983A69f6BF179E",
         "1",
         "sUSDe/USDC",
         "Balancer sUSDe/USDC",
         "18"
        ],
        [
         "14",
         "0xc4Ce391d82D164c166dF9c8336DDF84206b2F812",
         "1",
         "Aave Lido wETH-wstETH",
         "Balancer Aave Lido wETH-wstETH",
         "18"
        ],
        [
         "15",
         "0x93d199263632a4EF4Bb438F1feB99e57b4b5f0BD",
         "1",
         "wstETH-WETH-BPT",
         "Balancer wstETH-WETH Stable Pool",
         "18"
        ],
        [
         "16",
         "0xf1C9acDc66974dFB6dEcB12aA385b9cD01190E38",
         "1",
         "osETH",
         "Staked ETH",
         "18"
        ],
        [
         "17",
         "0x0CD6f267b2086bea681E922E19D40512511BE538",
         "1",
         "crvUSDFRAX-f",
         "Curve.fi Factory Plain Pool: crvUSD/Frax",
         "18"
        ],
        [
         "18",
         "0x1E19CF2D73a72Ef1332C882F20534B6519Be0276",
         "1",
         "B-rETH-STABLE",
         "Balancer rETH Stable Pool",
         "18"
        ],
        [
         "19",
         "0xDB74dfDD3BB46bE8Ce6C33dC9D82777BCFc3dEd5",
         "1",
         "weeth-ng",
         "weETH/WETH-ng",
         "18"
        ],
        [
         "20",
         "0x635EF0056A597D13863B73825CcA297236578595",
         "1",
         "GHOcrvUSD",
         "GHO/crvUSD",
         "18"
        ],
        [
         "21",
         "0x94B17476A93b3262d87B9a326965D1E91f9c13E7",
         "1",
         "OETHCRV-f",
         "Curve.fi Factory Pool: OETH",
         "18"
        ],
        [
         "22",
         "0x48d670D189B4b48757992D36897bCa6E3f889040",
         "1",
         "reusdsdola",
         "reUSD/sDola",
         "18"
        ],
        [
         "23",
         "0xD4fa2D31b7968E448877f69A96DE69f5de8cD23E",
         "1",
         "waEthUSDC",
         "Wrapped Aave Ethereum USDC",
         "6"
        ],
        [
         "24",
         "0x58AAdFB1Afac0ad7fca1148f3cdE6aEDF5236B6D",
         "1",
         "rsETH / WETH",
         "Balancer rsETH-WETH Stable Pool",
         "18"
        ],
        [
         "25",
         "0xA1290d69c65A6Fe4DF752f95823fae25cB99e5A7",
         "1",
         "rsETH",
         "rsETH",
         "18"
        ],
        [
         "26",
         "0xb45ad160634c528Cc3D2926d9807104FA3157305",
         "1",
         "sDOLA",
         "Staked Dola",
         "18"
        ],
        [
         "27",
         "0x4f493B7dE8aAC7d55F71853688b1F7C8F0243C85",
         "1",
         "crv2pool",
         "Curve.fi Strategic USD Reserves",
         "18"
        ],
        [
         "28",
         "0x57064F49Ad7123C92560882a45518374ad982e85",
         "1",
         "crvU-sUSDe",
         "sUSDe/crvUSD",
         "18"
        ],
        [
         "29",
         "0xd29f8980852c2c76fC3f6E96a7Aa06E0BedCC1B1",
         "1",
         "llamathena",
         "LlamaThena",
         "18"
        ],
        [
         "30",
         "0x66a1E37c9b0eAddca17d3662D6c05F4DECf3e110",
         "1",
         "USR",
         "Resolv USD",
         "18"
        ],
        [
         "31",
         "0xf939E0A03FB07F59A73314E73794Be0E57ac1b4E",
         "1",
         "crvUSD",
         "Curve.Fi USD Stablecoin",
         "18"
        ],
        [
         "32",
         "0x5B03CcCAb7BA3010fA5CAd23746cbf0794938e96",
         "1",
         "crvUSDe",
         "Curve Strategic Ethena Reserves",
         "18"
        ],
        [
         "33",
         "0x744793B5110f6ca9cC7CDfe1CE16677c3Eb192ef",
         "1",
         "DOLA-sUSDe",
         "DOLA/sUSDe",
         "18"
        ],
        [
         "34",
         "0xA663B02CF0a4b149d2aD41910CB81e23e1c41c32",
         "1",
         "sFRAX",
         "Staked FRAX",
         "18"
        ],
        [
         "35",
         "0xC02aaA39b223FE8D0A0e5C4F27eAD9083C756Cc2",
         "1",
         "WETH",
         "Wrapped Ether",
         "18"
        ],
        [
         "36",
         "0xFAe103DC9cf190eD75350761e95403b7b8aFa6c0",
         "1",
         "rswETH",
         "rswETH",
         "18"
        ],
        [
         "37",
         "0x8b83c4aA949254895507D09365229BC3a8c7f710",
         "1",
         "DOLA-sUSDS",
         "DOLA/sUSDS",
         "18"
        ],
        [
         "38",
         "0x5E8422345238F34275888049021821E8E08CAa1f",
         "1",
         "frxETH",
         "Frax Ether",
         "18"
        ],
        [
         "39",
         "0x4c9EDD5852cd905f086C759E8383e09bff1E68B3",
         "1",
         "USDe",
         "USDe",
         "18"
        ],
        [
         "40",
         "0x390f3595bCa2Df7d23783dFd126427CCeb997BF4",
         "1",
         "crvUSDUSDT-f",
         "Curve.fi Factory Plain Pool: crvUSD/USDT",
         "18"
        ],
        [
         "41",
         "0x81A2612F6dEA269a6Dd1F6DeAb45C5424EE2c4b7",
         "1",
         "frxsUSDS",
         "frxUSD/sUSDS",
         "18"
        ],
        [
         "42",
         "0x76A962BA6770068bCF454D34dDE17175611e6637",
         "1",
         "savedola",
         "SaveDola",
         "18"
        ],
        [
         "43",
         "0x865377367054516e17014CcdED1e7d814EDC9ce4",
         "1",
         "DOLA",
         "Dola USD Stablecoin",
         "18"
        ],
        [
         "44",
         "0x9Fb7b4477576Fe5B32be4C1843aFB1e55F251B33",
         "1",
         "fUSDC",
         "Fluid USD Coin",
         "6"
        ],
        [
         "45",
         "0x0655977FEb2f289A4aB78af67BAB0d17aAb84367",
         "1",
         "scrvUSD",
         "Savings crvUSD",
         "18"
        ],
        [
         "46",
         "0x9Ba021B0a9b958B5E75cE9f6dff97C7eE52cb3E6",
         "1",
         "apxETH",
         "Autocompounding Pirex Ether",
         "18"
        ],
        [
         "47",
         "0x83F20F44975D03b1b09e64809B757c47f942BEeA",
         "1",
         "sDAI",
         "Savings Dai",
         "18"
        ],
        [
         "48",
         "0x85B2b559bC2D21104C4DEFdd6EFcA8A20343361D",
         "1",
         "Aave GHO/USDT/USDC",
         "Balancer Aave GHO/USDT/USDC",
         "18"
        ],
        [
         "49",
         "0x6691DBb44154A9f23f8357C56FC9ff5548A8bdc4",
         "1",
         "deUSD/DOLA",
         "deUSD/DOLA",
         "18"
        ]
       ],
       "shape": {
        "columns": 5,
        "rows": 88
       }
      },
      "text/html": [
       "<div>\n",
       "<style scoped>\n",
       "    .dataframe tbody tr th:only-of-type {\n",
       "        vertical-align: middle;\n",
       "    }\n",
       "\n",
       "    .dataframe tbody tr th {\n",
       "        vertical-align: top;\n",
       "    }\n",
       "\n",
       "    .dataframe thead th {\n",
       "        text-align: right;\n",
       "    }\n",
       "</style>\n",
       "<table border=\"1\" class=\"dataframe\">\n",
       "  <thead>\n",
       "    <tr style=\"text-align: right;\">\n",
       "      <th></th>\n",
       "      <th>token_address</th>\n",
       "      <th>chain_id</th>\n",
       "      <th>symbol</th>\n",
       "      <th>name</th>\n",
       "      <th>decimals</th>\n",
       "    </tr>\n",
       "  </thead>\n",
       "  <tbody>\n",
       "    <tr>\n",
       "      <th>0</th>\n",
       "      <td>0x38De22a3175708D45E7c7c64CD78479C8B56f76E</td>\n",
       "      <td>1</td>\n",
       "      <td>DOLA/USR</td>\n",
       "      <td>DOLA/USR</td>\n",
       "      <td>18</td>\n",
       "    </tr>\n",
       "    <tr>\n",
       "      <th>1</th>\n",
       "      <td>0xB91159aa527D4769CB9FAf3e4ADB760c7E8C8Ea7</td>\n",
       "      <td>1</td>\n",
       "      <td>ETHx/wstETH</td>\n",
       "      <td>Balancer ETHx/wstETH</td>\n",
       "      <td>18</td>\n",
       "    </tr>\n",
       "    <tr>\n",
       "      <th>2</th>\n",
       "      <td>0x853d955aCEf822Db058eb8505911ED77F175b99e</td>\n",
       "      <td>1</td>\n",
       "      <td>FRAX</td>\n",
       "      <td>Frax</td>\n",
       "      <td>18</td>\n",
       "    </tr>\n",
       "    <tr>\n",
       "      <th>3</th>\n",
       "      <td>0xff17dAb22F1E61078aBa2623c89cE6110E878B3c</td>\n",
       "      <td>1</td>\n",
       "      <td>dola-save</td>\n",
       "      <td>DOLA+scrvUSD</td>\n",
       "      <td>18</td>\n",
       "    </tr>\n",
       "    <tr>\n",
       "      <th>4</th>\n",
       "      <td>0xa3931d71877C0E7a3148CB7Eb4463524FEc27fbD</td>\n",
       "      <td>1</td>\n",
       "      <td>sUSDS</td>\n",
       "      <td>Savings USDS</td>\n",
       "      <td>18</td>\n",
       "    </tr>\n",
       "    <tr>\n",
       "      <th>...</th>\n",
       "      <td>...</td>\n",
       "      <td>...</td>\n",
       "      <td>...</td>\n",
       "      <td>...</td>\n",
       "      <td>...</td>\n",
       "    </tr>\n",
       "    <tr>\n",
       "      <th>83</th>\n",
       "      <td>0x9EfE1A1Cbd6Ca51Ee8319AFc4573d253C3B732af</td>\n",
       "      <td>1</td>\n",
       "      <td>wETHrETH</td>\n",
       "      <td>wETH/rETH</td>\n",
       "      <td>18</td>\n",
       "    </tr>\n",
       "    <tr>\n",
       "      <th>84</th>\n",
       "      <td>0x167478921b907422F8E88B43C4Af2B8BEa278d3A</td>\n",
       "      <td>1</td>\n",
       "      <td>MtEthena</td>\n",
       "      <td>sDAI/sUSDe</td>\n",
       "      <td>18</td>\n",
       "    </tr>\n",
       "    <tr>\n",
       "      <th>85</th>\n",
       "      <td>0xC8Eb2Cf2f792F77AF0Cd9e203305a585E588179D</td>\n",
       "      <td>1</td>\n",
       "      <td>pxethweth</td>\n",
       "      <td>pxETH/wETH</td>\n",
       "      <td>18</td>\n",
       "    </tr>\n",
       "    <tr>\n",
       "      <th>86</th>\n",
       "      <td>0x856c4Efb76C1D1AE02e20CEB03A2A6a08b0b8dC3</td>\n",
       "      <td>1</td>\n",
       "      <td>OETH</td>\n",
       "      <td>Origin Ether</td>\n",
       "      <td>18</td>\n",
       "    </tr>\n",
       "    <tr>\n",
       "      <th>87</th>\n",
       "      <td>0xA0b86991c6218b36c1d19D4a2e9Eb0cE3606eB48</td>\n",
       "      <td>1</td>\n",
       "      <td>USDC</td>\n",
       "      <td>USD Coin</td>\n",
       "      <td>6</td>\n",
       "    </tr>\n",
       "  </tbody>\n",
       "</table>\n",
       "<p>88 rows × 5 columns</p>\n",
       "</div>"
      ],
      "text/plain": [
       "                                 token_address  chain_id       symbol  \\\n",
       "0   0x38De22a3175708D45E7c7c64CD78479C8B56f76E         1     DOLA/USR   \n",
       "1   0xB91159aa527D4769CB9FAf3e4ADB760c7E8C8Ea7         1  ETHx/wstETH   \n",
       "2   0x853d955aCEf822Db058eb8505911ED77F175b99e         1         FRAX   \n",
       "3   0xff17dAb22F1E61078aBa2623c89cE6110E878B3c         1    dola-save   \n",
       "4   0xa3931d71877C0E7a3148CB7Eb4463524FEc27fbD         1        sUSDS   \n",
       "..                                         ...       ...          ...   \n",
       "83  0x9EfE1A1Cbd6Ca51Ee8319AFc4573d253C3B732af         1     wETHrETH   \n",
       "84  0x167478921b907422F8E88B43C4Af2B8BEa278d3A         1     MtEthena   \n",
       "85  0xC8Eb2Cf2f792F77AF0Cd9e203305a585E588179D         1    pxethweth   \n",
       "86  0x856c4Efb76C1D1AE02e20CEB03A2A6a08b0b8dC3         1         OETH   \n",
       "87  0xA0b86991c6218b36c1d19D4a2e9Eb0cE3606eB48         1         USDC   \n",
       "\n",
       "                    name  decimals  \n",
       "0               DOLA/USR        18  \n",
       "1   Balancer ETHx/wstETH        18  \n",
       "2                   Frax        18  \n",
       "3           DOLA+scrvUSD        18  \n",
       "4           Savings USDS        18  \n",
       "..                   ...       ...  \n",
       "83             wETH/rETH        18  \n",
       "84            sDAI/sUSDe        18  \n",
       "85            pxETH/wETH        18  \n",
       "86          Origin Ether        18  \n",
       "87              USD Coin         6  \n",
       "\n",
       "[88 rows x 5 columns]"
      ]
     },
     "execution_count": 7,
     "metadata": {},
     "output_type": "execute_result"
    }
   ],
   "source": [
    "token_df"
   ]
  },
  {
   "cell_type": "code",
   "execution_count": null,
   "metadata": {},
   "outputs": [
    {
     "data": {
      "application/vnd.microsoft.datawrangler.viewer.v0+json": {
       "columns": [
        {
         "name": "token_address",
         "rawType": "object",
         "type": "string"
        },
        {
         "name": "reserve_amount",
         "rawType": "object",
         "type": "unknown"
        }
       ],
       "ref": "7f6e721a-2637-44f1-94a8-adc7bc6c3d60",
       "rows": [
        [
         "0x04C154b66CB340F3Ae24111CC767e0184Ed00Cc6",
         "2701534747213665714176"
        ],
        [
         "0x05ff47AFADa98a98982113758878F9A8B9FddA0a",
         "629097718663375158586159212265472"
        ],
        [
         "0x0655977FEb2f289A4aB78af67BAB0d17aAb84367",
         "3041559843208172390055936"
        ],
        [
         "0x40D16FC0246aD3160Ccc09B8D0D3A2cD28aE6C2f",
         "4447744051768962161049600"
        ],
        [
         "0x57aB1E0003F623289CD798B1824Be09a793e4Bec",
         "1105629417473955669737472"
        ],
        [
         "0x596192bB6e41802428Ac943D2f1476C1Af25CC0E",
         "110350233524654222785049454968832"
        ],
        [
         "0x865377367054516e17014CcdED1e7d814EDC9ce4",
         "123671167088402112708608"
        ],
        [
         "0x88794C65550DeB6b4087B7552eCf295113794410",
         "1070666544192624676900245413560320"
        ],
        [
         "0x9D39A5DE30e57443BfF2A8307A4256c8797A3497",
         "353871701284104815247360"
        ],
        [
         "0xA0D3707c569ff8C87FA923d3823eC5D81c98Be78",
         "20159626845610848256"
        ],
        [
         "0xA0b86991c6218b36c1d19D4a2e9Eb0cE3606eB48",
         "7437714742941"
        ],
        [
         "0xA35b1B31Ce002FBF2058D22F30f95D405200A15b",
         "984277202008518426624"
        ],
        [
         "0xBC6DA0FE9aD5f3b0d58160288917AA56653660E9",
         "92086454463873813577728"
        ],
        [
         "0xC02aaA39b223FE8D0A0e5C4F27eAD9083C756Cc2",
         "4536107367070142834688"
        ],
        [
         "0xCd5fE23C85820F7B72D0926FC9b05b43E359b7ee",
         "1392335564836090740736"
        ],
        [
         "0xa3931d71877C0E7a3148CB7Eb4463524FEc27fbD",
         "2736811514585299111903232"
        ],
        [
         "0xae78736Cd615f374D3085123A210448E74Fc6393",
         "517319815208666169344"
        ],
        [
         "0xae7ab96520DE3A18E5e111B5EaAb095312D7fE84",
         "786111892139790925824"
        ],
        [
         "0xb45ad160634c528Cc3D2926d9807104FA3157305",
         "1032022472153176387616768"
        ],
        [
         "0xbf5495Efe5DB9ce00f80364C8B423567e58d2110",
         "80092781459505332224"
        ],
        [
         "0xdAC17F958D2ee523a2206206994597C13D831ec7",
         "553875613287"
        ],
        [
         "0xf1C9acDc66974dFB6dEcB12aA385b9cD01190E38",
         "2045459922006975481856"
        ],
        [
         "0xf939E0A03FB07F59A73314E73794Be0E57ac1b4E",
         "876331109630809433178112"
        ]
       ],
       "shape": {
        "columns": 1,
        "rows": 23
       }
      },
      "text/plain": [
       "token_address\n",
       "0x04C154b66CB340F3Ae24111CC767e0184Ed00Cc6                2701534747213665714176\n",
       "0x05ff47AFADa98a98982113758878F9A8B9FddA0a     629097718663375158586159212265472\n",
       "0x0655977FEb2f289A4aB78af67BAB0d17aAb84367             3041559843208172390055936\n",
       "0x40D16FC0246aD3160Ccc09B8D0D3A2cD28aE6C2f             4447744051768962161049600\n",
       "0x57aB1E0003F623289CD798B1824Be09a793e4Bec             1105629417473955669737472\n",
       "0x596192bB6e41802428Ac943D2f1476C1Af25CC0E     110350233524654222785049454968832\n",
       "0x865377367054516e17014CcdED1e7d814EDC9ce4              123671167088402112708608\n",
       "0x88794C65550DeB6b4087B7552eCf295113794410    1070666544192624676900245413560320\n",
       "0x9D39A5DE30e57443BfF2A8307A4256c8797A3497              353871701284104815247360\n",
       "0xA0D3707c569ff8C87FA923d3823eC5D81c98Be78                  20159626845610848256\n",
       "0xA0b86991c6218b36c1d19D4a2e9Eb0cE3606eB48                         7437714742941\n",
       "0xA35b1B31Ce002FBF2058D22F30f95D405200A15b                 984277202008518426624\n",
       "0xBC6DA0FE9aD5f3b0d58160288917AA56653660E9               92086454463873813577728\n",
       "0xC02aaA39b223FE8D0A0e5C4F27eAD9083C756Cc2                4536107367070142834688\n",
       "0xCd5fE23C85820F7B72D0926FC9b05b43E359b7ee                1392335564836090740736\n",
       "0xa3931d71877C0E7a3148CB7Eb4463524FEc27fbD             2736811514585299111903232\n",
       "0xae78736Cd615f374D3085123A210448E74Fc6393                 517319815208666169344\n",
       "0xae7ab96520DE3A18E5e111B5EaAb095312D7fE84                 786111892139790925824\n",
       "0xb45ad160634c528Cc3D2926d9807104FA3157305             1032022472153176387616768\n",
       "0xbf5495Efe5DB9ce00f80364C8B423567e58d2110                  80092781459505332224\n",
       "0xdAC17F958D2ee523a2206206994597C13D831ec7                          553875613287\n",
       "0xf1C9acDc66974dFB6dEcB12aA385b9cD01190E38                2045459922006975481856\n",
       "0xf939E0A03FB07F59A73314E73794Be0E57ac1b4E              876331109630809433178112\n",
       "Name: reserve_amount, dtype: object"
      ]
     },
     "execution_count": 8,
     "metadata": {},
     "output_type": "execute_result"
    }
   ],
   "source": []
  },
  {
   "cell_type": "code",
   "execution_count": null,
   "metadata": {},
   "outputs": [
    {
     "data": {
      "text/plain": [
       "[{'token_address': '0x6Bb7a212910682DCFdbd5BCBb3e28FB4E8da10Ee',\n",
       "  'reserve_amount': 4320577737669641439805440,\n",
       "  'vault_address': '0x1efc63fa8718cac1df88273b08616cf1e9ff03dd'},\n",
       " {'token_address': '0x833589fCD6eDb6E08f4c7C32D4f71b54bdA02913',\n",
       "  'reserve_amount': 2314278698162,\n",
       "  'vault_address': '0x1efc63fa8718cac1df88273b08616cf1e9ff03dd'}]"
      ]
     },
     "execution_count": 10,
     "metadata": {},
     "output_type": "execute_result"
    }
   ],
   "source": [
    "row = df.iloc[-1]\n",
    "\n",
    "\n",
    "raw_base_token_value_by_destination"
   ]
  },
  {
   "cell_type": "code",
   "execution_count": null,
   "metadata": {},
   "outputs": [
    {
     "data": {
      "application/vnd.microsoft.datawrangler.viewer.v0+json": {
       "columns": [
        {
         "name": "index",
         "rawType": "object",
         "type": "string"
        },
        {
         "name": "18",
         "rawType": "object",
         "type": "unknown"
        }
       ],
       "ref": "1de6db49-2718-41b0-ab68-41db0d546c7f",
       "rows": [
        [
         "vaultAddress",
         "0x1efc63fa8718cac1df88273b08616cf1e9ff03dd"
        ],
        [
         "autoPoolOwnsShares",
         "6559803521499856885190855"
        ],
        [
         "actualLPTotalSupply",
         "34159762272739833940659751"
        ],
        [
         "autopool_base_asset_decimals",
         "6"
        ],
        [
         "autopool_symbol",
         "baseUSD"
        ],
        [
         "portion_ownership",
         "0.19203305541545615"
        ],
        [
         "reserve_amounts",
         "(22499135517696352608063688, 12051460063244)"
        ],
        [
         "reserve_tokens",
         "('0x6bb7a212910682dcfdbd5bcbb3e28fb4e8da10ee', '0x833589fcd6edb6e08f4c7c32d4f71b54bda02913')"
        ]
       ],
       "shape": {
        "columns": 1,
        "rows": 8
       }
      },
      "text/plain": [
       "vaultAddress                           0x1efc63fa8718cac1df88273b08616cf1e9ff03dd\n",
       "autoPoolOwnsShares                                      6559803521499856885190855\n",
       "actualLPTotalSupply                                    34159762272739833940659751\n",
       "autopool_base_asset_decimals                                                    6\n",
       "autopool_symbol                                                           baseUSD\n",
       "portion_ownership                                                        0.192033\n",
       "reserve_amounts                      (22499135517696352608063688, 12051460063244)\n",
       "reserve_tokens                  (0x6bb7a212910682dcfdbd5bcbb3e28fb4e8da10ee, 0...\n",
       "Name: 18, dtype: object"
      ]
     },
     "execution_count": 2,
     "metadata": {},
     "output_type": "execute_result"
    }
   ],
   "source": [
    "# def row_to_token_ownership(row:pd.Series) -> None:\n",
    "\n",
    "\n",
    "# row"
   ]
  },
  {
   "cell_type": "code",
   "execution_count": 3,
   "metadata": {},
   "outputs": [],
   "source": [
    "# you need to run your whole loop again"
   ]
  },
  {
   "cell_type": "code",
   "execution_count": null,
   "metadata": {},
   "outputs": [],
   "source": [
    "from mainnet_launch.database.schema.ensure_tables_are_current.using_onchain.update_token_values_table import (\n",
    "    _build_safe_price_calls,\n",
    ")\n",
    "from mainnet_launch.database.schema.full import *"
   ]
  },
  {
   "cell_type": "code",
   "execution_count": 5,
   "metadata": {},
   "outputs": [
    {
     "ename": "NameError",
     "evalue": "name 'case' is not defined",
     "output_type": "error",
     "traceback": [
      "\u001b[0;31m---------------------------------------------------------------------------\u001b[0m",
      "\u001b[0;31mNameError\u001b[0m                                 Traceback (most recent call last)",
      "Cell \u001b[0;32mIn[5], line 41\u001b[0m\n\u001b[1;32m     30\u001b[0m \u001b[38;5;28;01mdef\u001b[39;00m\u001b[38;5;250m \u001b[39m\u001b[38;5;21mbuild_proxy_get_stats_calls\u001b[39m(chain: ChainData, destination_vault_address: \u001b[38;5;28mstr\u001b[39m):\n\u001b[1;32m     31\u001b[0m     \u001b[38;5;66;03m# (IDexLSTStats.DexLSTStatsData memory queriedStat\u001b[39;00m\n\u001b[1;32m     32\u001b[0m     \u001b[38;5;28;01mreturn\u001b[39;00m Call(\n\u001b[1;32m     33\u001b[0m         LENS_CONTRACT(chain)[\n\u001b[1;32m     34\u001b[0m             \u001b[38;5;124mf\u001b[39m\u001b[38;5;124m\"\u001b[39m\u001b[38;5;124mproxyGetStats(address)((address,uint256,uint256,uint256,uint256,int256,int256,int256,uint256,int256,uint256))\u001b[39m\u001b[38;5;124m\"\u001b[39m,\n\u001b[0;32m   (...)\u001b[0m\n\u001b[1;32m     37\u001b[0m         [(destination_vault_address, _id_with_bool_success)],\n\u001b[1;32m     38\u001b[0m     )\n\u001b[0;32m---> 41\u001b[0m \u001b[38;5;28;43;01mcase\u001b[39;49;00m\n",
      "\u001b[0;31mNameError\u001b[0m: name 'case' is not defined"
     ]
    }
   ],
   "source": [
    "def _id_with_bool_success(success, x):\n",
    "    if success:\n",
    "        return x\n",
    "\n",
    "\n",
    "# struct StakingIncentiveStats {\n",
    "#     // time-weighted average total supply to prevent spikes/attacks from impacting rebalancing\n",
    "#     uint256 safeTotalSupply;\n",
    "#     // rewardTokens, annualizedRewardAmounts, and periodFinishForRewards will match indexes\n",
    "#     // they are split to workaround an issue with forge having nested structs\n",
    "#     // address of the reward tokens\n",
    "#     address[] rewardTokens;\n",
    "#     // the annualized reward rate for the reward token\n",
    "#     uint256[] annualizedRewardAmounts;\n",
    "#     // the timestamp for when the rewards are set to terminate\n",
    "#     uint40[] periodFinishForRewards;\n",
    "#     // incentive rewards score. max 48, min 0\n",
    "#     uint8 incentiveCredits;\n",
    "# }\n",
    "\n",
    "# struct DexLSTStatsData {\n",
    "#     uint256 lastSnapshotTimestamp;\n",
    "#     uint256 feeApr;\n",
    "#     uint256[] reservesInEth;\n",
    "#     StakingIncentiveStats stakingIncentiveStats;\n",
    "#     ILSTStats.LSTStatsData[] lstStatsData;\n",
    "# }\n",
    "\n",
    "\n",
    "def build_proxy_get_stats_calls(chain: ChainData, destination_vault_address: str):\n",
    "    # (IDexLSTStats.DexLSTStatsData memory queriedStat\n",
    "    return Call(\n",
    "        LENS_CONTRACT(chain)[\n",
    "            f\"proxyGetStats(address)((address,uint256,uint256,uint256,uint256,int256,int256,int256,uint256,int256,uint256))\",\n",
    "            destination_vault_address,\n",
    "        ],\n",
    "        [(destination_vault_address, _id_with_bool_success)],\n",
    "    )\n",
    "\n",
    "\n",
    "case"
   ]
  },
  {
   "cell_type": "code",
   "execution_count": null,
   "metadata": {},
   "outputs": [
    {
     "name": "stdout",
     "output_type": "stream",
     "text": [
      "lpTokenName='Balancer rETH-Aave wETH'\n",
      "symbols=[{'symbol': 'rETH'}, {'symbol': 'WETH'}]\n",
      "autoPoolOwnsShares=243982146156687172772\n",
      "actualLPTotalSupply=513002571068356845744\n",
      "underlyingTokenValueHeld=[{'valueHeldInEth': 131222789617967283417}, {'valueHeldInEth': 113942579229296713637}]\n",
      "reservesInEth=(275912108804663976981, 239578333986989015663)\n"
     ]
    }
   ],
   "source": [
    "dests = data[\"destinations\"]\n",
    "\n",
    "#  'autoPoolOwnsShares': 271788422417713608486,\n",
    "#  'actualLPTotalSupply': 293866231429156627032,\n",
    "\n",
    "\n",
    "print(f\"{lpTokenName=}\")\n",
    "print(f\"{symbols=}\")\n",
    "print(f\"{autoPoolOwnsShares=}\")\n",
    "print(f\"{actualLPTotalSupply=}\")\n",
    "print(f\"{underlyingTokenValueHeld=}\")\n",
    "print(f\"{reservesInEth=}\")"
   ]
  },
  {
   "cell_type": "code",
   "execution_count": null,
   "metadata": {},
   "outputs": [
    {
     "data": {
      "text/plain": [
       "{'vaultAddress': '0xc3337192143eb496eed206c8c4249f7cdee19078',\n",
       " 'exchangeName': 'balancerV3',\n",
       " 'totalSupply': 243982146156687172772,\n",
       " 'lastSnapshotTimestamp': 1751472185,\n",
       " 'feeApr': 23096435593060712,\n",
       " 'lastDebtReportTime': 1751443507,\n",
       " 'minDebtValue': 245149865595496825804,\n",
       " 'maxDebtValue': 245160090779875522026,\n",
       " 'debtValueHeldByVault': 245154978187686173915,\n",
       " 'queuedForRemoval': False,\n",
       " 'statsIncomplete': False,\n",
       " 'isShutdown': False,\n",
       " 'shutdownStatus': 0,\n",
       " 'autoPoolOwnsShares': 243982146156687172772,\n",
       " 'actualLPTotalSupply': 513002571068356845744,\n",
       " 'dexPool': '0xb7b8b3afc010169779c5c2385ec0eb0477fe3347',\n",
       " 'lpTokenAddress': '0xb7b8b3afc010169779c5c2385ec0eb0477fe3347',\n",
       " 'lpTokenSymbol': 'Balancer rETH-Aave wETH',\n",
       " 'lpTokenName': 'Balancer rETH-Aave wETH',\n",
       " 'statsSafeLPTotalSupply': 509989208214997104380,\n",
       " 'statsIncentiveCredits': 168,\n",
       " 'compositeReturn': 62145722113027740,\n",
       " 'rewardsTokens': [{'tokenAddress': '0x4158734d47fc9692176b5085e0f52ee0da5d47f1'},\n",
       "  {'tokenAddress': '0x1509706a6c66ca549ff0cb464de88231ddbe213b'},\n",
       "  {'tokenAddress': '0x1509706a6c66ca549ff0cb464de88231ddbe213b'},\n",
       "  {'tokenAddress': '0x994ac01750047b9d35431a7ae4ed312ee955e030'}],\n",
       " 'underlyingTokens': [{'tokenAddress': '0xb6fe221fe9eef5aba221c348ba20a1bf5e73624c'},\n",
       "  {'tokenAddress': '0x4200000000000000000000000000000000000006'}],\n",
       " 'underlyingTokenSymbols': [{'symbol': 'rETH'}, {'symbol': 'WETH'}],\n",
       " 'lstStatsData': [{'lastSnapshotTimestamp': 1751420451,\n",
       "   'baseApr': 0,\n",
       "   'discount': 736584199053434,\n",
       "   'discountHistory': (7318,\n",
       "    6581,\n",
       "    0,\n",
       "    1761,\n",
       "    1713,\n",
       "    6290,\n",
       "    5237,\n",
       "    4895,\n",
       "    4929,\n",
       "    9207),\n",
       "   'discountTimestampByPercent': 0},\n",
       "  {'lastSnapshotTimestamp': 0,\n",
       "   'baseApr': 0,\n",
       "   'discount': 0,\n",
       "   'discountHistory': (0, 0, 0, 0, 0, 0, 0, 0, 0, 0),\n",
       "   'discountTimestampByPercent': 0}],\n",
       " 'underlyingTokenValueHeld': [{'valueHeldInEth': 131222789617967283417},\n",
       "  {'valueHeldInEth': 113942579229296713637}],\n",
       " 'reservesInEth': (275912108804663976981, 239578333986989015663),\n",
       " 'statsPeriodFinishForRewards': (1751786275,\n",
       "  1751786275,\n",
       "  1751516435,\n",
       "  1750940433),\n",
       " 'statsAnnualizedRewardAmounts': (39950054219934985680000,\n",
       "  34841603152853202939761,\n",
       "  59084374999999976640000,\n",
       "  233004359538369792000)}"
      ]
     },
     "execution_count": 31,
     "metadata": {},
     "output_type": "execute_result"
    }
   ],
   "source": [
    "dests[0][-1]"
   ]
  },
  {
   "cell_type": "code",
   "execution_count": null,
   "metadata": {},
   "outputs": [
    {
     "data": {
      "text/plain": [
       "0.47559634184401955"
      ]
     },
     "execution_count": 24,
     "metadata": {},
     "output_type": "execute_result"
    }
   ],
   "source": [
    "243982146156687172772 / 513002571068356845744"
   ]
  },
  {
   "cell_type": "code",
   "execution_count": null,
   "metadata": {},
   "outputs": [
    {
     "data": {
      "text/plain": [
       "113942579229296721920"
      ]
     },
     "execution_count": 26,
     "metadata": {},
     "output_type": "execute_result"
    }
   ],
   "source": [
    "int(239578333986989015663 * 0.47559634184401955)"
   ]
  },
  {
   "cell_type": "code",
   "execution_count": null,
   "metadata": {},
   "outputs": [
    {
     "data": {
      "text/plain": [
       "-8283"
      ]
     },
     "execution_count": 27,
     "metadata": {},
     "output_type": "execute_result"
    }
   ],
   "source": [
    "113942579229296713637 - 113942579229296721920"
   ]
  },
  {
   "cell_type": "code",
   "execution_count": null,
   "metadata": {},
   "outputs": [
    {
     "data": {
      "text/plain": [
       "{'vaultAddress': '0xc3337192143eb496eed206c8c4249f7cdee19078',\n",
       " 'exchangeName': 'balancerV3',\n",
       " 'totalSupply': 243982146156687172772,\n",
       " 'lastSnapshotTimestamp': 1751472185,\n",
       " 'feeApr': 23096435593060712,\n",
       " 'lastDebtReportTime': 1751443507,\n",
       " 'minDebtValue': 245149865595496825804,\n",
       " 'maxDebtValue': 245160090779875522026,\n",
       " 'debtValueHeldByVault': 245154978187686173915,\n",
       " 'queuedForRemoval': False,\n",
       " 'statsIncomplete': False,\n",
       " 'isShutdown': False,\n",
       " 'shutdownStatus': 0,\n",
       " 'autoPoolOwnsShares': 243982146156687172772,\n",
       " 'actualLPTotalSupply': 513002571068356845744,\n",
       " 'dexPool': '0xb7b8b3afc010169779c5c2385ec0eb0477fe3347',\n",
       " 'lpTokenAddress': '0xb7b8b3afc010169779c5c2385ec0eb0477fe3347',\n",
       " 'lpTokenSymbol': 'Balancer rETH-Aave wETH',\n",
       " 'lpTokenName': 'Balancer rETH-Aave wETH',\n",
       " 'statsSafeLPTotalSupply': 509989208214997104380,\n",
       " 'statsIncentiveCredits': 168,\n",
       " 'compositeReturn': 62145722113027740,\n",
       " 'rewardsTokens': [{'tokenAddress': '0x4158734d47fc9692176b5085e0f52ee0da5d47f1'},\n",
       "  {'tokenAddress': '0x1509706a6c66ca549ff0cb464de88231ddbe213b'},\n",
       "  {'tokenAddress': '0x1509706a6c66ca549ff0cb464de88231ddbe213b'},\n",
       "  {'tokenAddress': '0x994ac01750047b9d35431a7ae4ed312ee955e030'}],\n",
       " 'underlyingTokens': [{'tokenAddress': '0xb6fe221fe9eef5aba221c348ba20a1bf5e73624c'},\n",
       "  {'tokenAddress': '0x4200000000000000000000000000000000000006'}],\n",
       " 'underlyingTokenSymbols': [{'symbol': 'rETH'}, {'symbol': 'WETH'}],\n",
       " 'lstStatsData': [{'lastSnapshotTimestamp': 1751420451,\n",
       "   'baseApr': 0,\n",
       "   'discount': 736584199053434,\n",
       "   'discountHistory': (7318,\n",
       "    6581,\n",
       "    0,\n",
       "    1761,\n",
       "    1713,\n",
       "    6290,\n",
       "    5237,\n",
       "    4895,\n",
       "    4929,\n",
       "    9207),\n",
       "   'discountTimestampByPercent': 0},\n",
       "  {'lastSnapshotTimestamp': 0,\n",
       "   'baseApr': 0,\n",
       "   'discount': 0,\n",
       "   'discountHistory': (0, 0, 0, 0, 0, 0, 0, 0, 0, 0),\n",
       "   'discountTimestampByPercent': 0}],\n",
       " 'underlyingTokenValueHeld': [{'valueHeldInEth': 131222789617967283417},\n",
       "  {'valueHeldInEth': 113942579229296713637}],\n",
       " 'reservesInEth': (275912108804663976981, 239578333986989015663),\n",
       " 'statsPeriodFinishForRewards': (1751786275,\n",
       "  1751786275,\n",
       "  1751516435,\n",
       "  1750940433),\n",
       " 'statsAnnualizedRewardAmounts': (39950054219934985680000,\n",
       "  34841603152853202939761,\n",
       "  59084374999999976640000,\n",
       "  233004359538369792000)}"
      ]
     },
     "execution_count": 20,
     "metadata": {},
     "output_type": "execute_result"
    }
   ],
   "source": [
    "dests[0][-1]"
   ]
  },
  {
   "cell_type": "code",
   "execution_count": null,
   "metadata": {},
   "outputs": [],
   "source": []
  }
 ],
 "metadata": {
  "kernelspec": {
   "display_name": "mainnet-launch-py3.10",
   "language": "python",
   "name": "python3"
  },
  "language_info": {
   "codemirror_mode": {
    "name": "ipython",
    "version": 3
   },
   "file_extension": ".py",
   "mimetype": "text/x-python",
   "name": "python",
   "nbconvert_exporter": "python",
   "pygments_lexer": "ipython3",
   "version": "3.10.14"
  }
 },
 "nbformat": 4,
 "nbformat_minor": 2
}
