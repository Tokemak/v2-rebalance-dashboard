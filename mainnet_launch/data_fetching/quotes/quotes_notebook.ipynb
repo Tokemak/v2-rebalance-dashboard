{
 "cells": [
  {
   "cell_type": "code",
   "execution_count": null,
   "metadata": {},
   "outputs": [],
   "source": [
    "import aiohttp\n",
    "import asyncio\n",
    "import nest_asyncio\n",
    "import pandas as pd\n",
    "\n",
    "from mainnet_launch.constants import *\n",
    "from mainnet_launch.database.schema.full import *\n",
    "from mainnet_launch.database.schema.postgres_operations import *\n",
    "import numpy as np\n",
    "\n",
    "# allow nested loops if you ever run this inside Jupyter/debugger\n",
    "\n",
    "nest_asyncio.apply()\n",
    "\n",
    "_rate_limit = asyncio.Semaphore(10)\n",
    "_session: aiohttp.ClientSession | None = None\n",
    "\n",
    "\n",
    "async def get_session() -> aiohttp.ClientSession:\n",
    "    global _session\n",
    "    if _session is None or _session.closed:\n",
    "        _session = aiohttp.ClientSession()\n",
    "    return _session\n",
    "\n",
    "\n",
    "async def fetch_swap_quote(\n",
    "    chain_id: int,\n",
    "    sell_token: str,\n",
    "    buy_token: str,\n",
    "    sell_amount: int,\n",
    "    system_name: str = \"gen3\",\n",
    "    slippage_bps: int = 50,\n",
    "    include_sources: str = \"\",\n",
    "    exclude_sources: str = \"Bebop\",\n",
    "    sell_all: bool = True,\n",
    "    timeout_ms: int = None,\n",
    "    transfer_to_caller: bool = True,\n",
    ") -> dict:\n",
    "    async with _rate_limit:\n",
    "        url = \"https://swaps-pricing.tokemaklabs.com/swap-quote-v2\"\n",
    "        payload = {\n",
    "            \"chainId\": chain_id,\n",
    "            \"systemName\": system_name,\n",
    "            \"slippageBps\": slippage_bps,\n",
    "            \"taker\": DEAD_ADDRESS,\n",
    "            \"sellToken\": sell_token,\n",
    "            \"buyToken\": buy_token,\n",
    "            \"sellAmount\": sell_amount,\n",
    "            \"includeSources\": include_sources,\n",
    "            \"excludeSources\": exclude_sources,\n",
    "            \"sellAll\": sell_all,\n",
    "            \"timeoutMS\": str(timeout_ms) if timeout_ms is not None else \"\",\n",
    "            \"transferToCaller\": str(transfer_to_caller),\n",
    "        }\n",
    "\n",
    "        session = await get_session()\n",
    "        async with session.post(url, json=payload) as resp:\n",
    "            try:\n",
    "                resp.raise_for_status()\n",
    "                data = await resp.json()\n",
    "                data.update(payload)\n",
    "            except Exception as e:\n",
    "                data = {\"error\": str(e), **payload}\n",
    "        return data\n",
    "\n",
    "\n",
    "async def fetch_quote_size_df(\n",
    "    token_orms: list[Tokens], sizes: list[float], autopool: AutopoolConstants\n",
    ") -> pd.DataFrame:\n",
    "\n",
    "    tasks = []\n",
    "\n",
    "    for size in sizes:\n",
    "        for t in token_orms:\n",
    "\n",
    "            tasks.append(\n",
    "                fetch_swap_quote(\n",
    "                    chain_id=t.chain_id,\n",
    "                    sell_token=t.token_address,\n",
    "                    buy_token=autopool.base_asset,\n",
    "                    sell_amount=int(size * 10**t.decimals),\n",
    "                )\n",
    "            )\n",
    "    quotes = await asyncio.gather(*tasks)\n",
    "    quote_df = pd.DataFrame.from_records(quotes)\n",
    "    return quote_df\n",
    "\n",
    "\n",
    "async def fetch_quote_df(\n",
    "    token_orms: list[Tokens], base_sell_amount: float, autopool: AutopoolConstants\n",
    ") -> pd.DataFrame:\n",
    "    # launch all requests in parallel\n",
    "    quotes = await asyncio.gather(\n",
    "        *(\n",
    "            fetch_swap_quote(\n",
    "                chain_id=t.chain_id,\n",
    "                sell_token=t.token_address,\n",
    "                buy_token=autopool.base_asset,\n",
    "                sell_amount=int(base_sell_amount * 10**t.decimals),\n",
    "            )\n",
    "            for t in token_orms\n",
    "        )\n",
    "    )\n",
    "    return pd.DataFrame.from_records(quotes)\n",
    "\n",
    "\n",
    "async def quote_at_scale():\n",
    "    autopool = SONIC_USD\n",
    "    token_orms = get_full_table_as_orm(Tokens, where_clause=Tokens.chain_id == autopool.chain.chain_id)\n",
    "    tokens_df = pd.DataFrame.from_records([t.to_record() for t in token_orms])\n",
    "\n",
    "    # first pass to filter out errors\n",
    "    initial_df = await fetch_quote_df(token_orms, 100, autopool)\n",
    "    merged = pd.merge(initial_df, tokens_df, how=\"left\", left_on=\"sellToken\", right_on=\"token_address\")\n",
    "    tokens_we_can_get_quotes_for = merged[merged[\"error\"].isna()][\"token_address\"].unique().tolist()\n",
    "    quote_able_tokens_orm = [t for t in token_orms if t.token_address in tokens_we_can_get_quotes_for]\n",
    "\n",
    "if __name__ == \"__main__\":\n",
    "    asyncio.run(quote_at_scale())\n"
   ]
  },
  {
   "cell_type": "code",
   "execution_count": 11,
   "metadata": {},
   "outputs": [
    {
     "data": {
      "application/vnd.microsoft.datawrangler.viewer.v0+json": {
       "columns": [
        {
         "name": "sell_amount_scaled",
         "rawType": "float64",
         "type": "float"
        },
        {
         "name": "USDT",
         "rawType": "float64",
         "type": "float"
        },
        {
         "name": "eUSDC.e-2",
         "rawType": "float64",
         "type": "float"
        },
        {
         "name": "eUSDC.e-3",
         "rawType": "float64",
         "type": "float"
        },
        {
         "name": "escUSD-1",
         "rawType": "float64",
         "type": "float"
        },
        {
         "name": "escUSD-2",
         "rawType": "float64",
         "type": "float"
        },
        {
         "name": "frxUSD",
         "rawType": "float64",
         "type": "float"
        },
        {
         "name": "scUSD",
         "rawType": "float64",
         "type": "float"
        },
        {
         "name": "wstkscUSD",
         "rawType": "float64",
         "type": "float"
        }
       ],
       "ref": "5b3a71ca-317d-4df1-93da-961df20eb50f",
       "rows": [
        [
         "100.0",
         "1.00080295",
         "1.0067908",
         "1.0159864299999999",
         "1.00989765",
         "1.01118814",
         "0.99976793",
         "0.99914304",
         "1.00594008"
        ],
        [
         "1000.0",
         "1.0007987409999999",
         "1.0067908",
         "1.015986434",
         "1.009888815",
         "1.011179278",
         null,
         "0.9991343869999999",
         "1.005793298"
        ],
        [
         "10000.0",
         "1.0007584796",
         "1.0067908022",
         "1.0159864377",
         "1.0098551561",
         "1.0111459322",
         null,
         "0.9991014547000001",
         "1.0055347114"
        ],
        [
         "50000.0",
         "1.00066199324",
         "1.00679080426",
         "1.01598644224",
         "1.00983133622",
         "1.01112170782",
         null,
         "0.99907779958",
         "1.00537669454"
        ],
        [
         "100000.0",
         "1.00059302685",
         "1.00679080722",
         "1.0159864437500001",
         "1.00980839926",
         "1.01109871335",
         null,
         "0.9990553047699999",
         "1.00527283226"
        ],
        [
         "200000.0",
         "1.00049285778",
         "1.0067908082099999",
         "1.015986448255",
         null,
         null,
         null,
         null,
         "1.00504811095"
        ],
        [
         "300000.0",
         null,
         "1.0067908111733335",
         "1.01598644976",
         "1.0097170520633334",
         null,
         null,
         null,
         "1.0047498061066666"
        ],
        [
         "400000.0",
         "1.00036796005",
         "1.006790814135",
         "1.01598645577",
         null,
         null,
         null,
         null,
         null
        ],
        [
         "500000.0",
         "1.000315714868",
         "1.006790816112",
         "1.015986458774",
         null,
         null,
         null,
         null,
         "0.031335772614"
        ],
        [
         "1000000.0",
         "1.00009961961",
         "1.0067908180860001",
         "1.015986463281",
         null,
         "1.010558481174",
         null,
         null,
         null
        ],
        [
         "1500000.0",
         null,
         "1.0067908210486667",
         "1.015986466286",
         null,
         null,
         null,
         null,
         "0.9936956120033335"
        ],
        [
         "2000000.0",
         "0.783038572082",
         "1.0067908220365",
         "1.0159864692910001",
         "1.004483559234",
         null,
         null,
         null,
         null
        ],
        [
         "2500000.0",
         "0.6264142230744",
         "1.0067908259836",
         "1.0159864737975999",
         "0.9978252143784",
         null,
         null,
         null,
         null
        ],
        [
         "3000000.0",
         null,
         "1.00679082796",
         "1.0159864768023332",
         null,
         null,
         null,
         "0.9758848338093334",
         "0.005222627459"
        ],
        [
         "4000000.0",
         "0.39153419808374995",
         "1.00679082894775",
         "1.015986479807",
         null,
         "0.906311842093",
         null,
         null,
         null
        ],
        [
         "5000000.0",
         "0.3132287468702",
         "1.0067908319072",
         "1.0159864813094",
         null,
         "0.75011463986",
         null,
         null,
         "0.52940190583"
        ]
       ],
       "shape": {
        "columns": 8,
        "rows": 16
       }
      },
      "text/html": [
       "<div>\n",
       "<style scoped>\n",
       "    .dataframe tbody tr th:only-of-type {\n",
       "        vertical-align: middle;\n",
       "    }\n",
       "\n",
       "    .dataframe tbody tr th {\n",
       "        vertical-align: top;\n",
       "    }\n",
       "\n",
       "    .dataframe thead th {\n",
       "        text-align: right;\n",
       "    }\n",
       "</style>\n",
       "<table border=\"1\" class=\"dataframe\">\n",
       "  <thead>\n",
       "    <tr style=\"text-align: right;\">\n",
       "      <th>symbol</th>\n",
       "      <th>USDT</th>\n",
       "      <th>eUSDC.e-2</th>\n",
       "      <th>eUSDC.e-3</th>\n",
       "      <th>escUSD-1</th>\n",
       "      <th>escUSD-2</th>\n",
       "      <th>frxUSD</th>\n",
       "      <th>scUSD</th>\n",
       "      <th>wstkscUSD</th>\n",
       "    </tr>\n",
       "    <tr>\n",
       "      <th>sell_amount_scaled</th>\n",
       "      <th></th>\n",
       "      <th></th>\n",
       "      <th></th>\n",
       "      <th></th>\n",
       "      <th></th>\n",
       "      <th></th>\n",
       "      <th></th>\n",
       "      <th></th>\n",
       "    </tr>\n",
       "  </thead>\n",
       "  <tbody>\n",
       "    <tr>\n",
       "      <th>100.0</th>\n",
       "      <td>1.000803</td>\n",
       "      <td>1.006791</td>\n",
       "      <td>1.015986</td>\n",
       "      <td>1.009898</td>\n",
       "      <td>1.011188</td>\n",
       "      <td>0.999768</td>\n",
       "      <td>0.999143</td>\n",
       "      <td>1.005940</td>\n",
       "    </tr>\n",
       "    <tr>\n",
       "      <th>1000.0</th>\n",
       "      <td>1.000799</td>\n",
       "      <td>1.006791</td>\n",
       "      <td>1.015986</td>\n",
       "      <td>1.009889</td>\n",
       "      <td>1.011179</td>\n",
       "      <td>NaN</td>\n",
       "      <td>0.999134</td>\n",
       "      <td>1.005793</td>\n",
       "    </tr>\n",
       "    <tr>\n",
       "      <th>10000.0</th>\n",
       "      <td>1.000758</td>\n",
       "      <td>1.006791</td>\n",
       "      <td>1.015986</td>\n",
       "      <td>1.009855</td>\n",
       "      <td>1.011146</td>\n",
       "      <td>NaN</td>\n",
       "      <td>0.999101</td>\n",
       "      <td>1.005535</td>\n",
       "    </tr>\n",
       "    <tr>\n",
       "      <th>50000.0</th>\n",
       "      <td>1.000662</td>\n",
       "      <td>1.006791</td>\n",
       "      <td>1.015986</td>\n",
       "      <td>1.009831</td>\n",
       "      <td>1.011122</td>\n",
       "      <td>NaN</td>\n",
       "      <td>0.999078</td>\n",
       "      <td>1.005377</td>\n",
       "    </tr>\n",
       "    <tr>\n",
       "      <th>100000.0</th>\n",
       "      <td>1.000593</td>\n",
       "      <td>1.006791</td>\n",
       "      <td>1.015986</td>\n",
       "      <td>1.009808</td>\n",
       "      <td>1.011099</td>\n",
       "      <td>NaN</td>\n",
       "      <td>0.999055</td>\n",
       "      <td>1.005273</td>\n",
       "    </tr>\n",
       "    <tr>\n",
       "      <th>200000.0</th>\n",
       "      <td>1.000493</td>\n",
       "      <td>1.006791</td>\n",
       "      <td>1.015986</td>\n",
       "      <td>NaN</td>\n",
       "      <td>NaN</td>\n",
       "      <td>NaN</td>\n",
       "      <td>NaN</td>\n",
       "      <td>1.005048</td>\n",
       "    </tr>\n",
       "    <tr>\n",
       "      <th>300000.0</th>\n",
       "      <td>NaN</td>\n",
       "      <td>1.006791</td>\n",
       "      <td>1.015986</td>\n",
       "      <td>1.009717</td>\n",
       "      <td>NaN</td>\n",
       "      <td>NaN</td>\n",
       "      <td>NaN</td>\n",
       "      <td>1.004750</td>\n",
       "    </tr>\n",
       "    <tr>\n",
       "      <th>400000.0</th>\n",
       "      <td>1.000368</td>\n",
       "      <td>1.006791</td>\n",
       "      <td>1.015986</td>\n",
       "      <td>NaN</td>\n",
       "      <td>NaN</td>\n",
       "      <td>NaN</td>\n",
       "      <td>NaN</td>\n",
       "      <td>NaN</td>\n",
       "    </tr>\n",
       "    <tr>\n",
       "      <th>500000.0</th>\n",
       "      <td>1.000316</td>\n",
       "      <td>1.006791</td>\n",
       "      <td>1.015986</td>\n",
       "      <td>NaN</td>\n",
       "      <td>NaN</td>\n",
       "      <td>NaN</td>\n",
       "      <td>NaN</td>\n",
       "      <td>0.031336</td>\n",
       "    </tr>\n",
       "    <tr>\n",
       "      <th>1000000.0</th>\n",
       "      <td>1.000100</td>\n",
       "      <td>1.006791</td>\n",
       "      <td>1.015986</td>\n",
       "      <td>NaN</td>\n",
       "      <td>1.010558</td>\n",
       "      <td>NaN</td>\n",
       "      <td>NaN</td>\n",
       "      <td>NaN</td>\n",
       "    </tr>\n",
       "    <tr>\n",
       "      <th>1500000.0</th>\n",
       "      <td>NaN</td>\n",
       "      <td>1.006791</td>\n",
       "      <td>1.015986</td>\n",
       "      <td>NaN</td>\n",
       "      <td>NaN</td>\n",
       "      <td>NaN</td>\n",
       "      <td>NaN</td>\n",
       "      <td>0.993696</td>\n",
       "    </tr>\n",
       "    <tr>\n",
       "      <th>2000000.0</th>\n",
       "      <td>0.783039</td>\n",
       "      <td>1.006791</td>\n",
       "      <td>1.015986</td>\n",
       "      <td>1.004484</td>\n",
       "      <td>NaN</td>\n",
       "      <td>NaN</td>\n",
       "      <td>NaN</td>\n",
       "      <td>NaN</td>\n",
       "    </tr>\n",
       "    <tr>\n",
       "      <th>2500000.0</th>\n",
       "      <td>0.626414</td>\n",
       "      <td>1.006791</td>\n",
       "      <td>1.015986</td>\n",
       "      <td>0.997825</td>\n",
       "      <td>NaN</td>\n",
       "      <td>NaN</td>\n",
       "      <td>NaN</td>\n",
       "      <td>NaN</td>\n",
       "    </tr>\n",
       "    <tr>\n",
       "      <th>3000000.0</th>\n",
       "      <td>NaN</td>\n",
       "      <td>1.006791</td>\n",
       "      <td>1.015986</td>\n",
       "      <td>NaN</td>\n",
       "      <td>NaN</td>\n",
       "      <td>NaN</td>\n",
       "      <td>0.975885</td>\n",
       "      <td>0.005223</td>\n",
       "    </tr>\n",
       "    <tr>\n",
       "      <th>4000000.0</th>\n",
       "      <td>0.391534</td>\n",
       "      <td>1.006791</td>\n",
       "      <td>1.015986</td>\n",
       "      <td>NaN</td>\n",
       "      <td>0.906312</td>\n",
       "      <td>NaN</td>\n",
       "      <td>NaN</td>\n",
       "      <td>NaN</td>\n",
       "    </tr>\n",
       "    <tr>\n",
       "      <th>5000000.0</th>\n",
       "      <td>0.313229</td>\n",
       "      <td>1.006791</td>\n",
       "      <td>1.015986</td>\n",
       "      <td>NaN</td>\n",
       "      <td>0.750115</td>\n",
       "      <td>NaN</td>\n",
       "      <td>NaN</td>\n",
       "      <td>0.529402</td>\n",
       "    </tr>\n",
       "  </tbody>\n",
       "</table>\n",
       "</div>"
      ],
      "text/plain": [
       "symbol                  USDT  eUSDC.e-2  eUSDC.e-3  escUSD-1  escUSD-2  \\\n",
       "sell_amount_scaled                                                       \n",
       "100.0               1.000803   1.006791   1.015986  1.009898  1.011188   \n",
       "1000.0              1.000799   1.006791   1.015986  1.009889  1.011179   \n",
       "10000.0             1.000758   1.006791   1.015986  1.009855  1.011146   \n",
       "50000.0             1.000662   1.006791   1.015986  1.009831  1.011122   \n",
       "100000.0            1.000593   1.006791   1.015986  1.009808  1.011099   \n",
       "200000.0            1.000493   1.006791   1.015986       NaN       NaN   \n",
       "300000.0                 NaN   1.006791   1.015986  1.009717       NaN   \n",
       "400000.0            1.000368   1.006791   1.015986       NaN       NaN   \n",
       "500000.0            1.000316   1.006791   1.015986       NaN       NaN   \n",
       "1000000.0           1.000100   1.006791   1.015986       NaN  1.010558   \n",
       "1500000.0                NaN   1.006791   1.015986       NaN       NaN   \n",
       "2000000.0           0.783039   1.006791   1.015986  1.004484       NaN   \n",
       "2500000.0           0.626414   1.006791   1.015986  0.997825       NaN   \n",
       "3000000.0                NaN   1.006791   1.015986       NaN       NaN   \n",
       "4000000.0           0.391534   1.006791   1.015986       NaN  0.906312   \n",
       "5000000.0           0.313229   1.006791   1.015986       NaN  0.750115   \n",
       "\n",
       "symbol                frxUSD     scUSD  wstkscUSD  \n",
       "sell_amount_scaled                                 \n",
       "100.0               0.999768  0.999143   1.005940  \n",
       "1000.0                   NaN  0.999134   1.005793  \n",
       "10000.0                  NaN  0.999101   1.005535  \n",
       "50000.0                  NaN  0.999078   1.005377  \n",
       "100000.0                 NaN  0.999055   1.005273  \n",
       "200000.0                 NaN       NaN   1.005048  \n",
       "300000.0                 NaN       NaN   1.004750  \n",
       "400000.0                 NaN       NaN        NaN  \n",
       "500000.0                 NaN       NaN   0.031336  \n",
       "1000000.0                NaN       NaN        NaN  \n",
       "1500000.0                NaN       NaN   0.993696  \n",
       "2000000.0                NaN       NaN        NaN  \n",
       "2500000.0                NaN       NaN        NaN  \n",
       "3000000.0                NaN  0.975885   0.005223  \n",
       "4000000.0                NaN       NaN        NaN  \n",
       "5000000.0                NaN       NaN   0.529402  "
      ]
     },
     "execution_count": 11,
     "metadata": {},
     "output_type": "execute_result"
    }
   ],
   "source": [
    "import quotes_at_scale\n",
    "import ast\n",
    "\n",
    "import numpy as np\n",
    "import plotly.express as px\n",
    "import pandas as pd\n",
    "import plotly.io as pio\n",
    "\n",
    "pio.templates.default = None\n",
    "\n",
    "df = pd.read_csv(\n",
    "    \"/Users/pb/Documents/Github/Tokemak/v2-rebalance-dashboard/mainnet_launch/data_fetching/quotes/sonicUSD_scale_quotes.csv\"\n",
    ")\n",
    "\n",
    "df[\"min_buy_scaled\"] = df[\"minBuyAmount\"].apply(lambda x: int(x) / 1e6 if x > 0 else np.nan)\n",
    "df[\"buy_scaled\"] = df[\"buyAmount\"].apply(lambda x: int(x) / 1e6 if x > 0 else np.nan)\n",
    "\n",
    "# scale sellAmount by its own per-row decimals\n",
    "df[\"sell_amount_scaled\"] = df.apply(lambda row: int(row[\"sellAmount\"]) / (10 ** row[\"decimals\"]), axis=1)\n",
    "\n",
    "df[\"buy_ratio\"] = df[\"buy_scaled\"] / df[\"sell_amount_scaled\"]\n",
    "df[\"min_buy_ratio\"] = df[\"min_buy_scaled\"] / df[\"sell_amount_scaled\"]\n",
    "\n",
    "price_df = df.pivot(columns=\"symbol\", index=\"sell_amount_scaled\", values=\"buy_scaled\")\n",
    "ratio_df = df.pivot(columns=\"symbol\", index=\"sell_amount_scaled\", values=\"buy_ratio\")\n",
    "ratio_df"
   ]
  },
  {
   "cell_type": "code",
   "execution_count": null,
   "metadata": {},
   "outputs": [],
   "source": [
    "# not symetrical down,\n",
    "\n",
    "# all the near the same time?\n",
    "\n",
    "# not really certian there"
   ]
  },
  {
   "cell_type": "code",
   "execution_count": 12,
   "metadata": {},
   "outputs": [
    {
     "data": {
      "application/vnd.plotly.v1+json": {
       "config": {
        "plotlyServerURL": "https://plot.ly"
       },
       "data": [
        {
         "hovertemplate": "symbol=USDT<br>sell_amount_scaled=%{x}<br>value=%{y}<extra></extra>",
         "legendgroup": "USDT",
         "marker": {
          "color": "#636efa",
          "symbol": "circle"
         },
         "mode": "markers",
         "name": "USDT",
         "orientation": "v",
         "showlegend": true,
         "type": "scatter",
         "x": [
          100,
          1000,
          10000,
          50000,
          100000,
          200000,
          300000,
          400000,
          500000,
          1000000,
          1500000,
          2000000,
          2500000,
          3000000,
          4000000,
          5000000
         ],
         "xaxis": "x",
         "y": [
          1.00080295,
          1.0007987409999999,
          1.0007584796,
          1.00066199324,
          1.00059302685,
          1.00049285778,
          null,
          1.00036796005,
          1.000315714868,
          1.00009961961,
          null,
          0.783038572082,
          0.6264142230744,
          null,
          0.39153419808374995,
          0.3132287468702
         ],
         "yaxis": "y"
        },
        {
         "hovertemplate": "symbol=eUSDC.e-2<br>sell_amount_scaled=%{x}<br>value=%{y}<extra></extra>",
         "legendgroup": "eUSDC.e-2",
         "marker": {
          "color": "#EF553B",
          "symbol": "circle"
         },
         "mode": "markers",
         "name": "eUSDC.e-2",
         "orientation": "v",
         "showlegend": true,
         "type": "scatter",
         "x": [
          100,
          1000,
          10000,
          50000,
          100000,
          200000,
          300000,
          400000,
          500000,
          1000000,
          1500000,
          2000000,
          2500000,
          3000000,
          4000000,
          5000000
         ],
         "xaxis": "x",
         "y": [
          1.0067908,
          1.0067908,
          1.0067908022,
          1.00679080426,
          1.00679080722,
          1.0067908082099999,
          1.0067908111733335,
          1.006790814135,
          1.006790816112,
          1.0067908180860001,
          1.0067908210486667,
          1.0067908220365,
          1.0067908259836,
          1.00679082796,
          1.00679082894775,
          1.0067908319072
         ],
         "yaxis": "y"
        },
        {
         "hovertemplate": "symbol=eUSDC.e-3<br>sell_amount_scaled=%{x}<br>value=%{y}<extra></extra>",
         "legendgroup": "eUSDC.e-3",
         "marker": {
          "color": "#00cc96",
          "symbol": "circle"
         },
         "mode": "markers",
         "name": "eUSDC.e-3",
         "orientation": "v",
         "showlegend": true,
         "type": "scatter",
         "x": [
          100,
          1000,
          10000,
          50000,
          100000,
          200000,
          300000,
          400000,
          500000,
          1000000,
          1500000,
          2000000,
          2500000,
          3000000,
          4000000,
          5000000
         ],
         "xaxis": "x",
         "y": [
          1.0159864299999999,
          1.015986434,
          1.0159864377,
          1.01598644224,
          1.0159864437500001,
          1.015986448255,
          1.01598644976,
          1.01598645577,
          1.015986458774,
          1.015986463281,
          1.015986466286,
          1.0159864692910001,
          1.0159864737975999,
          1.0159864768023332,
          1.015986479807,
          1.0159864813094
         ],
         "yaxis": "y"
        },
        {
         "hovertemplate": "symbol=escUSD-1<br>sell_amount_scaled=%{x}<br>value=%{y}<extra></extra>",
         "legendgroup": "escUSD-1",
         "marker": {
          "color": "#ab63fa",
          "symbol": "circle"
         },
         "mode": "markers",
         "name": "escUSD-1",
         "orientation": "v",
         "showlegend": true,
         "type": "scatter",
         "x": [
          100,
          1000,
          10000,
          50000,
          100000,
          200000,
          300000,
          400000,
          500000,
          1000000,
          1500000,
          2000000,
          2500000,
          3000000,
          4000000,
          5000000
         ],
         "xaxis": "x",
         "y": [
          1.00989765,
          1.009888815,
          1.0098551561,
          1.00983133622,
          1.00980839926,
          null,
          1.0097170520633334,
          null,
          null,
          null,
          null,
          1.004483559234,
          0.9978252143784,
          null,
          null,
          null
         ],
         "yaxis": "y"
        },
        {
         "hovertemplate": "symbol=escUSD-2<br>sell_amount_scaled=%{x}<br>value=%{y}<extra></extra>",
         "legendgroup": "escUSD-2",
         "marker": {
          "color": "#FFA15A",
          "symbol": "circle"
         },
         "mode": "markers",
         "name": "escUSD-2",
         "orientation": "v",
         "showlegend": true,
         "type": "scatter",
         "x": [
          100,
          1000,
          10000,
          50000,
          100000,
          200000,
          300000,
          400000,
          500000,
          1000000,
          1500000,
          2000000,
          2500000,
          3000000,
          4000000,
          5000000
         ],
         "xaxis": "x",
         "y": [
          1.01118814,
          1.011179278,
          1.0111459322,
          1.01112170782,
          1.01109871335,
          null,
          null,
          null,
          null,
          1.010558481174,
          null,
          null,
          null,
          null,
          0.906311842093,
          0.75011463986
         ],
         "yaxis": "y"
        },
        {
         "hovertemplate": "symbol=frxUSD<br>sell_amount_scaled=%{x}<br>value=%{y}<extra></extra>",
         "legendgroup": "frxUSD",
         "marker": {
          "color": "#19d3f3",
          "symbol": "circle"
         },
         "mode": "markers",
         "name": "frxUSD",
         "orientation": "v",
         "showlegend": true,
         "type": "scatter",
         "x": [
          100,
          1000,
          10000,
          50000,
          100000,
          200000,
          300000,
          400000,
          500000,
          1000000,
          1500000,
          2000000,
          2500000,
          3000000,
          4000000,
          5000000
         ],
         "xaxis": "x",
         "y": [
          0.99976793,
          null,
          null,
          null,
          null,
          null,
          null,
          null,
          null,
          null,
          null,
          null,
          null,
          null,
          null,
          null
         ],
         "yaxis": "y"
        },
        {
         "hovertemplate": "symbol=scUSD<br>sell_amount_scaled=%{x}<br>value=%{y}<extra></extra>",
         "legendgroup": "scUSD",
         "marker": {
          "color": "#FF6692",
          "symbol": "circle"
         },
         "mode": "markers",
         "name": "scUSD",
         "orientation": "v",
         "showlegend": true,
         "type": "scatter",
         "x": [
          100,
          1000,
          10000,
          50000,
          100000,
          200000,
          300000,
          400000,
          500000,
          1000000,
          1500000,
          2000000,
          2500000,
          3000000,
          4000000,
          5000000
         ],
         "xaxis": "x",
         "y": [
          0.99914304,
          0.9991343869999999,
          0.9991014547000001,
          0.99907779958,
          0.9990553047699999,
          null,
          null,
          null,
          null,
          null,
          null,
          null,
          null,
          0.9758848338093334,
          null,
          null
         ],
         "yaxis": "y"
        },
        {
         "hovertemplate": "symbol=wstkscUSD<br>sell_amount_scaled=%{x}<br>value=%{y}<extra></extra>",
         "legendgroup": "wstkscUSD",
         "marker": {
          "color": "#B6E880",
          "symbol": "circle"
         },
         "mode": "markers",
         "name": "wstkscUSD",
         "orientation": "v",
         "showlegend": true,
         "type": "scatter",
         "x": [
          100,
          1000,
          10000,
          50000,
          100000,
          200000,
          300000,
          400000,
          500000,
          1000000,
          1500000,
          2000000,
          2500000,
          3000000,
          4000000,
          5000000
         ],
         "xaxis": "x",
         "y": [
          1.00594008,
          1.005793298,
          1.0055347114,
          1.00537669454,
          1.00527283226,
          1.00504811095,
          1.0047498061066666,
          null,
          0.031335772614,
          null,
          0.9936956120033335,
          null,
          null,
          0.005222627459,
          null,
          0.52940190583
         ],
         "yaxis": "y"
        }
       ],
       "layout": {
        "legend": {
         "title": {
          "text": "symbol"
         },
         "tracegroupgap": 0
        },
        "template": {
         "data": {
          "bar": [
           {
            "error_x": {
             "color": "#2a3f5f"
            },
            "error_y": {
             "color": "#2a3f5f"
            },
            "marker": {
             "line": {
              "color": "#E5ECF6",
              "width": 0.5
             },
             "pattern": {
              "fillmode": "overlay",
              "size": 10,
              "solidity": 0.2
             }
            },
            "type": "bar"
           }
          ],
          "barpolar": [
           {
            "marker": {
             "line": {
              "color": "#E5ECF6",
              "width": 0.5
             },
             "pattern": {
              "fillmode": "overlay",
              "size": 10,
              "solidity": 0.2
             }
            },
            "type": "barpolar"
           }
          ],
          "carpet": [
           {
            "aaxis": {
             "endlinecolor": "#2a3f5f",
             "gridcolor": "white",
             "linecolor": "white",
             "minorgridcolor": "white",
             "startlinecolor": "#2a3f5f"
            },
            "baxis": {
             "endlinecolor": "#2a3f5f",
             "gridcolor": "white",
             "linecolor": "white",
             "minorgridcolor": "white",
             "startlinecolor": "#2a3f5f"
            },
            "type": "carpet"
           }
          ],
          "choropleth": [
           {
            "colorbar": {
             "outlinewidth": 0,
             "ticks": ""
            },
            "type": "choropleth"
           }
          ],
          "contour": [
           {
            "colorbar": {
             "outlinewidth": 0,
             "ticks": ""
            },
            "colorscale": [
             [
              0,
              "#0d0887"
             ],
             [
              0.1111111111111111,
              "#46039f"
             ],
             [
              0.2222222222222222,
              "#7201a8"
             ],
             [
              0.3333333333333333,
              "#9c179e"
             ],
             [
              0.4444444444444444,
              "#bd3786"
             ],
             [
              0.5555555555555556,
              "#d8576b"
             ],
             [
              0.6666666666666666,
              "#ed7953"
             ],
             [
              0.7777777777777778,
              "#fb9f3a"
             ],
             [
              0.8888888888888888,
              "#fdca26"
             ],
             [
              1,
              "#f0f921"
             ]
            ],
            "type": "contour"
           }
          ],
          "contourcarpet": [
           {
            "colorbar": {
             "outlinewidth": 0,
             "ticks": ""
            },
            "type": "contourcarpet"
           }
          ],
          "heatmap": [
           {
            "colorbar": {
             "outlinewidth": 0,
             "ticks": ""
            },
            "colorscale": [
             [
              0,
              "#0d0887"
             ],
             [
              0.1111111111111111,
              "#46039f"
             ],
             [
              0.2222222222222222,
              "#7201a8"
             ],
             [
              0.3333333333333333,
              "#9c179e"
             ],
             [
              0.4444444444444444,
              "#bd3786"
             ],
             [
              0.5555555555555556,
              "#d8576b"
             ],
             [
              0.6666666666666666,
              "#ed7953"
             ],
             [
              0.7777777777777778,
              "#fb9f3a"
             ],
             [
              0.8888888888888888,
              "#fdca26"
             ],
             [
              1,
              "#f0f921"
             ]
            ],
            "type": "heatmap"
           }
          ],
          "heatmapgl": [
           {
            "colorbar": {
             "outlinewidth": 0,
             "ticks": ""
            },
            "colorscale": [
             [
              0,
              "#0d0887"
             ],
             [
              0.1111111111111111,
              "#46039f"
             ],
             [
              0.2222222222222222,
              "#7201a8"
             ],
             [
              0.3333333333333333,
              "#9c179e"
             ],
             [
              0.4444444444444444,
              "#bd3786"
             ],
             [
              0.5555555555555556,
              "#d8576b"
             ],
             [
              0.6666666666666666,
              "#ed7953"
             ],
             [
              0.7777777777777778,
              "#fb9f3a"
             ],
             [
              0.8888888888888888,
              "#fdca26"
             ],
             [
              1,
              "#f0f921"
             ]
            ],
            "type": "heatmapgl"
           }
          ],
          "histogram": [
           {
            "marker": {
             "pattern": {
              "fillmode": "overlay",
              "size": 10,
              "solidity": 0.2
             }
            },
            "type": "histogram"
           }
          ],
          "histogram2d": [
           {
            "colorbar": {
             "outlinewidth": 0,
             "ticks": ""
            },
            "colorscale": [
             [
              0,
              "#0d0887"
             ],
             [
              0.1111111111111111,
              "#46039f"
             ],
             [
              0.2222222222222222,
              "#7201a8"
             ],
             [
              0.3333333333333333,
              "#9c179e"
             ],
             [
              0.4444444444444444,
              "#bd3786"
             ],
             [
              0.5555555555555556,
              "#d8576b"
             ],
             [
              0.6666666666666666,
              "#ed7953"
             ],
             [
              0.7777777777777778,
              "#fb9f3a"
             ],
             [
              0.8888888888888888,
              "#fdca26"
             ],
             [
              1,
              "#f0f921"
             ]
            ],
            "type": "histogram2d"
           }
          ],
          "histogram2dcontour": [
           {
            "colorbar": {
             "outlinewidth": 0,
             "ticks": ""
            },
            "colorscale": [
             [
              0,
              "#0d0887"
             ],
             [
              0.1111111111111111,
              "#46039f"
             ],
             [
              0.2222222222222222,
              "#7201a8"
             ],
             [
              0.3333333333333333,
              "#9c179e"
             ],
             [
              0.4444444444444444,
              "#bd3786"
             ],
             [
              0.5555555555555556,
              "#d8576b"
             ],
             [
              0.6666666666666666,
              "#ed7953"
             ],
             [
              0.7777777777777778,
              "#fb9f3a"
             ],
             [
              0.8888888888888888,
              "#fdca26"
             ],
             [
              1,
              "#f0f921"
             ]
            ],
            "type": "histogram2dcontour"
           }
          ],
          "mesh3d": [
           {
            "colorbar": {
             "outlinewidth": 0,
             "ticks": ""
            },
            "type": "mesh3d"
           }
          ],
          "parcoords": [
           {
            "line": {
             "colorbar": {
              "outlinewidth": 0,
              "ticks": ""
             }
            },
            "type": "parcoords"
           }
          ],
          "pie": [
           {
            "automargin": true,
            "type": "pie"
           }
          ],
          "scatter": [
           {
            "fillpattern": {
             "fillmode": "overlay",
             "size": 10,
             "solidity": 0.2
            },
            "type": "scatter"
           }
          ],
          "scatter3d": [
           {
            "line": {
             "colorbar": {
              "outlinewidth": 0,
              "ticks": ""
             }
            },
            "marker": {
             "colorbar": {
              "outlinewidth": 0,
              "ticks": ""
             }
            },
            "type": "scatter3d"
           }
          ],
          "scattercarpet": [
           {
            "marker": {
             "colorbar": {
              "outlinewidth": 0,
              "ticks": ""
             }
            },
            "type": "scattercarpet"
           }
          ],
          "scattergeo": [
           {
            "marker": {
             "colorbar": {
              "outlinewidth": 0,
              "ticks": ""
             }
            },
            "type": "scattergeo"
           }
          ],
          "scattergl": [
           {
            "marker": {
             "colorbar": {
              "outlinewidth": 0,
              "ticks": ""
             }
            },
            "type": "scattergl"
           }
          ],
          "scattermapbox": [
           {
            "marker": {
             "colorbar": {
              "outlinewidth": 0,
              "ticks": ""
             }
            },
            "type": "scattermapbox"
           }
          ],
          "scatterpolar": [
           {
            "marker": {
             "colorbar": {
              "outlinewidth": 0,
              "ticks": ""
             }
            },
            "type": "scatterpolar"
           }
          ],
          "scatterpolargl": [
           {
            "marker": {
             "colorbar": {
              "outlinewidth": 0,
              "ticks": ""
             }
            },
            "type": "scatterpolargl"
           }
          ],
          "scatterternary": [
           {
            "marker": {
             "colorbar": {
              "outlinewidth": 0,
              "ticks": ""
             }
            },
            "type": "scatterternary"
           }
          ],
          "surface": [
           {
            "colorbar": {
             "outlinewidth": 0,
             "ticks": ""
            },
            "colorscale": [
             [
              0,
              "#0d0887"
             ],
             [
              0.1111111111111111,
              "#46039f"
             ],
             [
              0.2222222222222222,
              "#7201a8"
             ],
             [
              0.3333333333333333,
              "#9c179e"
             ],
             [
              0.4444444444444444,
              "#bd3786"
             ],
             [
              0.5555555555555556,
              "#d8576b"
             ],
             [
              0.6666666666666666,
              "#ed7953"
             ],
             [
              0.7777777777777778,
              "#fb9f3a"
             ],
             [
              0.8888888888888888,
              "#fdca26"
             ],
             [
              1,
              "#f0f921"
             ]
            ],
            "type": "surface"
           }
          ],
          "table": [
           {
            "cells": {
             "fill": {
              "color": "#EBF0F8"
             },
             "line": {
              "color": "white"
             }
            },
            "header": {
             "fill": {
              "color": "#C8D4E3"
             },
             "line": {
              "color": "white"
             }
            },
            "type": "table"
           }
          ]
         },
         "layout": {
          "annotationdefaults": {
           "arrowcolor": "#2a3f5f",
           "arrowhead": 0,
           "arrowwidth": 1
          },
          "autotypenumbers": "strict",
          "coloraxis": {
           "colorbar": {
            "outlinewidth": 0,
            "ticks": ""
           }
          },
          "colorscale": {
           "diverging": [
            [
             0,
             "#8e0152"
            ],
            [
             0.1,
             "#c51b7d"
            ],
            [
             0.2,
             "#de77ae"
            ],
            [
             0.3,
             "#f1b6da"
            ],
            [
             0.4,
             "#fde0ef"
            ],
            [
             0.5,
             "#f7f7f7"
            ],
            [
             0.6,
             "#e6f5d0"
            ],
            [
             0.7,
             "#b8e186"
            ],
            [
             0.8,
             "#7fbc41"
            ],
            [
             0.9,
             "#4d9221"
            ],
            [
             1,
             "#276419"
            ]
           ],
           "sequential": [
            [
             0,
             "#0d0887"
            ],
            [
             0.1111111111111111,
             "#46039f"
            ],
            [
             0.2222222222222222,
             "#7201a8"
            ],
            [
             0.3333333333333333,
             "#9c179e"
            ],
            [
             0.4444444444444444,
             "#bd3786"
            ],
            [
             0.5555555555555556,
             "#d8576b"
            ],
            [
             0.6666666666666666,
             "#ed7953"
            ],
            [
             0.7777777777777778,
             "#fb9f3a"
            ],
            [
             0.8888888888888888,
             "#fdca26"
            ],
            [
             1,
             "#f0f921"
            ]
           ],
           "sequentialminus": [
            [
             0,
             "#0d0887"
            ],
            [
             0.1111111111111111,
             "#46039f"
            ],
            [
             0.2222222222222222,
             "#7201a8"
            ],
            [
             0.3333333333333333,
             "#9c179e"
            ],
            [
             0.4444444444444444,
             "#bd3786"
            ],
            [
             0.5555555555555556,
             "#d8576b"
            ],
            [
             0.6666666666666666,
             "#ed7953"
            ],
            [
             0.7777777777777778,
             "#fb9f3a"
            ],
            [
             0.8888888888888888,
             "#fdca26"
            ],
            [
             1,
             "#f0f921"
            ]
           ]
          },
          "colorway": [
           "#636efa",
           "#EF553B",
           "#00cc96",
           "#ab63fa",
           "#FFA15A",
           "#19d3f3",
           "#FF6692",
           "#B6E880",
           "#FF97FF",
           "#FECB52"
          ],
          "font": {
           "color": "#2a3f5f"
          },
          "geo": {
           "bgcolor": "white",
           "lakecolor": "white",
           "landcolor": "#E5ECF6",
           "showlakes": true,
           "showland": true,
           "subunitcolor": "white"
          },
          "hoverlabel": {
           "align": "left"
          },
          "hovermode": "closest",
          "mapbox": {
           "style": "light"
          },
          "paper_bgcolor": "white",
          "plot_bgcolor": "#E5ECF6",
          "polar": {
           "angularaxis": {
            "gridcolor": "white",
            "linecolor": "white",
            "ticks": ""
           },
           "bgcolor": "#E5ECF6",
           "radialaxis": {
            "gridcolor": "white",
            "linecolor": "white",
            "ticks": ""
           }
          },
          "scene": {
           "xaxis": {
            "backgroundcolor": "#E5ECF6",
            "gridcolor": "white",
            "gridwidth": 2,
            "linecolor": "white",
            "showbackground": true,
            "ticks": "",
            "zerolinecolor": "white"
           },
           "yaxis": {
            "backgroundcolor": "#E5ECF6",
            "gridcolor": "white",
            "gridwidth": 2,
            "linecolor": "white",
            "showbackground": true,
            "ticks": "",
            "zerolinecolor": "white"
           },
           "zaxis": {
            "backgroundcolor": "#E5ECF6",
            "gridcolor": "white",
            "gridwidth": 2,
            "linecolor": "white",
            "showbackground": true,
            "ticks": "",
            "zerolinecolor": "white"
           }
          },
          "shapedefaults": {
           "line": {
            "color": "#2a3f5f"
           }
          },
          "ternary": {
           "aaxis": {
            "gridcolor": "white",
            "linecolor": "white",
            "ticks": ""
           },
           "baxis": {
            "gridcolor": "white",
            "linecolor": "white",
            "ticks": ""
           },
           "bgcolor": "#E5ECF6",
           "caxis": {
            "gridcolor": "white",
            "linecolor": "white",
            "ticks": ""
           }
          },
          "title": {
           "x": 0.05
          },
          "xaxis": {
           "automargin": true,
           "gridcolor": "white",
           "linecolor": "white",
           "ticks": "",
           "title": {
            "standoff": 15
           },
           "zerolinecolor": "white",
           "zerolinewidth": 2
          },
          "yaxis": {
           "automargin": true,
           "gridcolor": "white",
           "linecolor": "white",
           "ticks": "",
           "title": {
            "standoff": 15
           },
           "zerolinecolor": "white",
           "zerolinewidth": 2
          }
         }
        },
        "title": {
         "text": "sonic_USD_ratio"
        },
        "xaxis": {
         "anchor": "y",
         "domain": [
          0,
          1
         ],
         "title": {
          "text": "sell_amount_scaled"
         },
         "type": "log"
        },
        "yaxis": {
         "anchor": "x",
         "domain": [
          0,
          1
         ],
         "title": {
          "text": "value"
         }
        }
       }
      }
     },
     "metadata": {},
     "output_type": "display_data"
    }
   ],
   "source": [
    "px.scatter(ratio_df, title=\"sonic_USD_ratio\", log_x=True)"
   ]
  },
  {
   "cell_type": "code",
   "execution_count": null,
   "metadata": {},
   "outputs": [],
   "source": [
    "df[df[\"symbol\"] == \"escUSD1\"]"
   ]
  },
  {
   "cell_type": "code",
   "execution_count": null,
   "metadata": {},
   "outputs": [],
   "source": [
    "price_df"
   ]
  },
  {
   "cell_type": "code",
   "execution_count": null,
   "metadata": {},
   "outputs": [],
   "source": [
    "# quotes fail, for > 100 frxUSD"
   ]
  },
  {
   "cell_type": "code",
   "execution_count": null,
   "metadata": {},
   "outputs": [],
   "source": []
  },
  {
   "cell_type": "code",
   "execution_count": null,
   "metadata": {},
   "outputs": [],
   "source": [
    "df.columns"
   ]
  },
  {
   "cell_type": "code",
   "execution_count": null,
   "metadata": {},
   "outputs": [],
   "source": []
  },
  {
   "cell_type": "code",
   "execution_count": 2,
   "metadata": {},
   "outputs": [
    {
     "data": {
      "application/vnd.microsoft.datawrangler.viewer.v0+json": {
       "columns": [
        {
         "name": "index",
         "rawType": "int64",
         "type": "integer"
        },
        {
         "name": "Unnamed: 0",
         "rawType": "int64",
         "type": "integer"
        },
        {
         "name": "aggregatorName",
         "rawType": "object",
         "type": "string"
        },
        {
         "name": "internal",
         "rawType": "bool",
         "type": "boolean"
        },
        {
         "name": "asyncSwapper",
         "rawType": "object",
         "type": "string"
        },
        {
         "name": "minBuyAmount",
         "rawType": "int64",
         "type": "integer"
        },
        {
         "name": "buyAmount",
         "rawType": "int64",
         "type": "integer"
        },
        {
         "name": "expiration",
         "rawType": "int64",
         "type": "integer"
        },
        {
         "name": "tx",
         "rawType": "object",
         "type": "string"
        },
        {
         "name": "fullQuoteDetails",
         "rawType": "object",
         "type": "string"
        },
        {
         "name": "chainId",
         "rawType": "int64",
         "type": "integer"
        },
        {
         "name": "systemName",
         "rawType": "object",
         "type": "string"
        },
        {
         "name": "slippageBps",
         "rawType": "int64",
         "type": "integer"
        },
        {
         "name": "taker",
         "rawType": "object",
         "type": "string"
        },
        {
         "name": "sellToken",
         "rawType": "object",
         "type": "string"
        },
        {
         "name": "buyToken",
         "rawType": "object",
         "type": "string"
        },
        {
         "name": "sellAmount",
         "rawType": "object",
         "type": "string"
        },
        {
         "name": "includeSources",
         "rawType": "float64",
         "type": "float"
        },
        {
         "name": "excludeSources",
         "rawType": "object",
         "type": "string"
        },
        {
         "name": "sellAll",
         "rawType": "bool",
         "type": "boolean"
        },
        {
         "name": "timeoutMS",
         "rawType": "float64",
         "type": "float"
        },
        {
         "name": "transferToCaller",
         "rawType": "bool",
         "type": "boolean"
        },
        {
         "name": "token_address",
         "rawType": "object",
         "type": "string"
        },
        {
         "name": "chain_id",
         "rawType": "int64",
         "type": "integer"
        },
        {
         "name": "symbol",
         "rawType": "object",
         "type": "string"
        },
        {
         "name": "name",
         "rawType": "object",
         "type": "string"
        },
        {
         "name": "decimals",
         "rawType": "int64",
         "type": "integer"
        },
        {
         "name": "fullQuoteDetails_parsed",
         "rawType": "object",
         "type": "unknown"
        },
        {
         "name": "block",
         "rawType": "float64",
         "type": "float"
        }
       ],
       "ref": "8d65a617-5bba-4313-916d-2374b98aa895",
       "rows": [
        [
         "0",
         "0",
         "OpenOcean",
         "False",
         "0x98b55E07156895814d2503036dC635316F9C9502",
         "19890258868",
         "20010320792",
         "9999999999",
         "{'from': '0x000000000000000000000000000000000000dEaD', 'to': '0x6352a56caadC4F1E25CD6c75970Fa768A3304e64', 'data': '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', 'value': '0', 'gasPrice': '1050000000'}",
         "{'code': 200, 'data': {'inToken': {'address': '0x6047828dc181963ba44974801FF68e538dA5eaF9', 'decimals': 6, 'symbol': 'USDT', 'name': 'Bridged USDT (Sonic Labs)', 'usd': '1.001', 'volume': 20019.999999999996}, 'outToken': {'address': '0x29219dd400f2Bf60E5a23d13Be72B486D4038894', 'decimals': 6, 'symbol': 'USDC.e', 'name': 'Bridged USDC (Sonic Labs)', 'usd': '0.999997', 'volume': 20010.26076103762}, 'inAmount': '20000000000', 'outAmount': '20010320792', 'estimatedGas': 559658, 'minOutAmount': '19890258868', 'from': '0x000000000000000000000000000000000000dEaD', 'to': '0x6352a56caadC4F1E25CD6c75970Fa768A3304e64', 'value': '0', 'gasPrice': '1000000000', 'data': '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', 'chainId': 146, 'rfqDeadline': 0, 'gmxFee': 0, 'blockNumber': 35728501, 'price_impact': '-0.05%'}}",
         "146",
         "gen3",
         "50",
         "0x000000000000000000000000000000000000dEaD",
         "0x6047828dc181963ba44974801FF68e538dA5eaF9",
         "0x29219dd400f2Bf60E5a23d13Be72B486D4038894",
         "20000000000",
         null,
         "Bebop",
         "True",
         null,
         "True",
         "0x6047828dc181963ba44974801FF68e538dA5eaF9",
         "146",
         "USDT",
         "Tether USD",
         "6",
         "{'code': 200, 'data': {'inToken': {'address': '0x6047828dc181963ba44974801FF68e538dA5eaF9', 'decimals': 6, 'symbol': 'USDT', 'name': 'Bridged USDT (Sonic Labs)', 'usd': '1.001', 'volume': 20019.999999999996}, 'outToken': {'address': '0x29219dd400f2Bf60E5a23d13Be72B486D4038894', 'decimals': 6, 'symbol': 'USDC.e', 'name': 'Bridged USDC (Sonic Labs)', 'usd': '0.999997', 'volume': 20010.26076103762}, 'inAmount': '20000000000', 'outAmount': '20010320792', 'estimatedGas': 559658, 'minOutAmount': '19890258868', 'from': '0x000000000000000000000000000000000000dEaD', 'to': '0x6352a56caadC4F1E25CD6c75970Fa768A3304e64', 'value': '0', 'gasPrice': '1000000000', 'data': '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', 'chainId': 146, 'rfqDeadline': 0, 'gmxFee': 0, 'blockNumber': 35728501, 'price_impact': '-0.05%'}}",
         "35728501.0"
        ],
        [
         "1",
         "1",
         "4626",
         "True",
         "0xAb9F53c36B9c82AbBe397742d4A0aD75Df33241c",
         "20035040051",
         "20135718644",
         "9999999999",
         "{'from': '0x000000000000000000000000000000000000dEaD', 'to': '0xAb9F53c36B9c82AbBe397742d4A0aD75Df33241c', 'data': '0x3efe5daa00000000000000000000000000000000000000000000000000000000000000200000000000000000000000003d9e5462a940684073eed7e4a13d19ae0dcd13bc00000000000000000000000000000000000000000000000000000004a817c80000000000000000000000000029219dd400f2bf60e5a23d13be72b486d403889400000000000000000000000000000000000000000000000000000004aa2e733300000000000000000000000000000000000000000000000000000000000000e0000000000000000000000000000000000000000000000000000000000000014000000000000000000000000000000000000000000000000000000000685aee610000000000000000000000000000000000000000000000000000000000000040000000000000000000000000000000000000000000000000000000000000000100000000000000000000000000000000000000000000000000000000000000000000000000000000000000000000000000000000000000000000000000000000', 'value': '0', 'gasPrice': '0'}",
         "{'redeem': True, 'swap': False}",
         "146",
         "gen3",
         "50",
         "0x000000000000000000000000000000000000dEaD",
         "0x3D9e5462A940684073EED7e4a13d19AE0Dcd13bc",
         "0x29219dd400f2Bf60E5a23d13Be72B486D4038894",
         "20000000000",
         null,
         "Bebop",
         "True",
         null,
         "True",
         "0x3D9e5462A940684073EED7e4a13d19AE0Dcd13bc",
         "146",
         "eUSDC.e-2",
         "EVK Vault eUSDC.e-2",
         "6",
         "{'redeem': True, 'swap': False}",
         null
        ],
        [
         "2",
         "2",
         "OpenOcean",
         "False",
         "0x98b55E07156895814d2503036dC635316F9C9502",
         "19859484604",
         "19979360768",
         "9999999999",
         "{'from': '0x000000000000000000000000000000000000dEaD', 'to': '0x6352a56caadC4F1E25CD6c75970Fa768A3304e64', 'data': '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', 'value': '0', 'gasPrice': '1050000000'}",
         "{'code': 200, 'data': {'inToken': {'address': '0xd3DCe716f3eF535C5Ff8d041c1A41C3bd89b97aE', 'decimals': 6, 'symbol': 'scUSD', 'name': 'Sonic USD', 'usd': '0.998976', 'volume': 19979.52}, 'outToken': {'address': '0x29219dd400f2Bf60E5a23d13Be72B486D4038894', 'decimals': 6, 'symbol': 'USDC.e', 'name': 'Bridged USDC (Sonic Labs)', 'usd': '0.999997', 'volume': 19979.300829917695}, 'inAmount': '20000000000', 'outAmount': '19979360768', 'estimatedGas': 819136, 'minOutAmount': '19859484604', 'from': '0x000000000000000000000000000000000000dEaD', 'to': '0x6352a56caadC4F1E25CD6c75970Fa768A3304e64', 'value': '0', 'gasPrice': '1000000000', 'data': '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', 'chainId': 146, 'rfqDeadline': 0, 'gmxFee': 0, 'blockNumber': 35728501, 'price_impact': '-0.01%'}}",
         "146",
         "gen3",
         "50",
         "0x000000000000000000000000000000000000dEaD",
         "0xd3DCe716f3eF535C5Ff8d041c1A41C3bd89b97aE",
         "0x29219dd400f2Bf60E5a23d13Be72B486D4038894",
         "20000000000",
         null,
         "Bebop",
         "True",
         null,
         "True",
         "0xd3DCe716f3eF535C5Ff8d041c1A41C3bd89b97aE",
         "146",
         "scUSD",
         "Sonic USD",
         "6",
         "{'code': 200, 'data': {'inToken': {'address': '0xd3DCe716f3eF535C5Ff8d041c1A41C3bd89b97aE', 'decimals': 6, 'symbol': 'scUSD', 'name': 'Sonic USD', 'usd': '0.998976', 'volume': 19979.52}, 'outToken': {'address': '0x29219dd400f2Bf60E5a23d13Be72B486D4038894', 'decimals': 6, 'symbol': 'USDC.e', 'name': 'Bridged USDC (Sonic Labs)', 'usd': '0.999997', 'volume': 19979.300829917695}, 'inAmount': '20000000000', 'outAmount': '19979360768', 'estimatedGas': 819136, 'minOutAmount': '19859484604', 'from': '0x000000000000000000000000000000000000dEaD', 'to': '0x6352a56caadC4F1E25CD6c75970Fa768A3304e64', 'value': '0', 'gasPrice': '1000000000', 'data': '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', 'chainId': 146, 'rfqDeadline': 0, 'gmxFee': 0, 'blockNumber': 35728501, 'price_impact': '-0.01%'}}",
         "35728501.0"
        ],
        [
         "3",
         "3",
         "4626",
         "True",
         "0xAb9F53c36B9c82AbBe397742d4A0aD75Df33241c",
         "20071817167",
         "20192975018",
         "9999999999",
         "{'from': '0x000000000000000000000000000000000000dEaD', 'to': '0xAb9F53c36B9c82AbBe397742d4A0aD75Df33241c', 'data': '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', 'value': '0', 'gasPrice': '0'}",
         "{'redeem': True, 'swap': True, 'underlyingQuote': {'aggregatorName': 'OpenOcean', 'internal': False, 'asyncSwapper': '0x98b55E07156895814d2503036dC635316F9C9502', 'minBuyAmount': '20071817167', 'buyAmount': '20192975018', 'expiration': 9999999999, 'tx': {'from': '0xAb9F53c36B9c82AbBe397742d4A0aD75Df33241c', 'to': '0x6352a56caadC4F1E25CD6c75970Fa768A3304e64', 'data': '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', 'value': '0', 'gasPrice': '1050000000'}, 'fullQuoteDetails': {'code': 200, 'data': {'inToken': {'address': '0xd3dce716f3ef535c5ff8d041c1a41c3bd89b97ae', 'decimals': 6, 'symbol': 'scUSD', 'name': 'Sonic USD', 'usd': '0.998976', 'volume': 20193.13801792531}, 'outToken': {'address': '0x29219dd400f2Bf60E5a23d13Be72B486D4038894', 'decimals': 6, 'symbol': 'USDC.e', 'name': 'Bridged USDC (Sonic Labs)', 'usd': '0.999997', 'volume': 20192.914439074946}, 'inAmount': '20213836987', 'outAmount': '20192975018', 'estimatedGas': 821094, 'minOutAmount': '20071817167', 'from': '0xAb9F53c36B9c82AbBe397742d4A0aD75Df33241c', 'to': '0x6352a56caadC4F1E25CD6c75970Fa768A3304e64', 'value': '0', 'gasPrice': '1000000000', 'data': '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', 'chainId': 146, 'rfqDeadline': 0, 'gmxFee': 0, 'blockNumber': 35728503, 'price_impact': '-0.01%'}}}}",
         "146",
         "gen3",
         "50",
         "0x000000000000000000000000000000000000dEaD",
         "0xeEb1DC1Ca7ffC5b54aD1cc4c1088Db4E5657Cb6c",
         "0x29219dd400f2Bf60E5a23d13Be72B486D4038894",
         "20000000000",
         null,
         "Bebop",
         "True",
         null,
         "True",
         "0xeEb1DC1Ca7ffC5b54aD1cc4c1088Db4E5657Cb6c",
         "146",
         "escUSD-1",
         "EVK Vault escUSD-1",
         "6",
         "{'redeem': True, 'swap': True, 'underlyingQuote': {'aggregatorName': 'OpenOcean', 'internal': False, 'asyncSwapper': '0x98b55E07156895814d2503036dC635316F9C9502', 'minBuyAmount': '20071817167', 'buyAmount': '20192975018', 'expiration': 9999999999, 'tx': {'from': '0xAb9F53c36B9c82AbBe397742d4A0aD75Df33241c', 'to': '0x6352a56caadC4F1E25CD6c75970Fa768A3304e64', 'data': '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', 'value': '0', 'gasPrice': '1050000000'}, 'fullQuoteDetails': {'code': 200, 'data': {'inToken': {'address': '0xd3dce716f3ef535c5ff8d041c1a41c3bd89b97ae', 'decimals': 6, 'symbol': 'scUSD', 'name': 'Sonic USD', 'usd': '0.998976', 'volume': 20193.13801792531}, 'outToken': {'address': '0x29219dd400f2Bf60E5a23d13Be72B486D4038894', 'decimals': 6, 'symbol': 'USDC.e', 'name': 'Bridged USDC (Sonic Labs)', 'usd': '0.999997', 'volume': 20192.914439074946}, 'inAmount': '20213836987', 'outAmount': '20192975018', 'estimatedGas': 821094, 'minOutAmount': '20071817167', 'from': '0xAb9F53c36B9c82AbBe397742d4A0aD75Df33241c', 'to': '0x6352a56caadC4F1E25CD6c75970Fa768A3304e64', 'value': '0', 'gasPrice': '1000000000', 'data': '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', 'chainId': 146, 'rfqDeadline': 0, 'gmxFee': 0, 'blockNumber': 35728503, 'price_impact': '-0.01%'}}}}",
         null
        ],
        [
         "4",
         "4",
         "4626",
         "True",
         "0xAb9F53c36B9c82AbBe397742d4A0aD75Df33241c",
         "20098725574",
         "20220045849",
         "9999999999",
         "{'from': '0x000000000000000000000000000000000000dEaD', 'to': '0xAb9F53c36B9c82AbBe397742d4A0aD75Df33241c', 'data': '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', 'value': '0', 'gasPrice': '0'}",
         "{'redeem': True, 'swap': True, 'underlyingQuote': {'aggregatorName': 'OpenOcean', 'internal': False, 'asyncSwapper': '0x98b55E07156895814d2503036dC635316F9C9502', 'minBuyAmount': '20098725574', 'buyAmount': '20220045849', 'expiration': 9999999999, 'tx': {'from': '0xAb9F53c36B9c82AbBe397742d4A0aD75Df33241c', 'to': '0x6352a56caadC4F1E25CD6c75970Fa768A3304e64', 'data': '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', 'value': '0', 'gasPrice': '1050000000'}, 'fullQuoteDetails': {'code': 200, 'data': {'inToken': {'address': '0xd3dce716f3ef535c5ff8d041c1a41c3bd89b97ae', 'decimals': 6, 'symbol': 'scUSD', 'name': 'Sonic USD', 'usd': '0.998977', 'volume': 20220.22956942392}, 'outToken': {'address': '0x29219dd400f2Bf60E5a23d13Be72B486D4038894', 'decimals': 6, 'symbol': 'USDC.e', 'name': 'Bridged USDC (Sonic Labs)', 'usd': '0.999997', 'volume': 20219.98518886245}, 'inAmount': '20240936047', 'outAmount': '20220045849', 'estimatedGas': 819642, 'minOutAmount': '20098725574', 'from': '0xAb9F53c36B9c82AbBe397742d4A0aD75Df33241c', 'to': '0x6352a56caadC4F1E25CD6c75970Fa768A3304e64', 'value': '0', 'gasPrice': '1000000000', 'data': '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', 'chainId': 146, 'rfqDeadline': 0, 'gmxFee': 0, 'blockNumber': 35728503, 'price_impact': '-0.01%'}}}}",
         "146",
         "gen3",
         "50",
         "0x000000000000000000000000000000000000dEaD",
         "0xB38D431e932fEa77d1dF0AE0dFE4400c97e597B8",
         "0x29219dd400f2Bf60E5a23d13Be72B486D4038894",
         "20000000000",
         null,
         "Bebop",
         "True",
         null,
         "True",
         "0xB38D431e932fEa77d1dF0AE0dFE4400c97e597B8",
         "146",
         "escUSD-2",
         "EVK Vault escUSD-2",
         "6",
         "{'redeem': True, 'swap': True, 'underlyingQuote': {'aggregatorName': 'OpenOcean', 'internal': False, 'asyncSwapper': '0x98b55E07156895814d2503036dC635316F9C9502', 'minBuyAmount': '20098725574', 'buyAmount': '20220045849', 'expiration': 9999999999, 'tx': {'from': '0xAb9F53c36B9c82AbBe397742d4A0aD75Df33241c', 'to': '0x6352a56caadC4F1E25CD6c75970Fa768A3304e64', 'data': '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', 'value': '0', 'gasPrice': '1050000000'}, 'fullQuoteDetails': {'code': 200, 'data': {'inToken': {'address': '0xd3dce716f3ef535c5ff8d041c1a41c3bd89b97ae', 'decimals': 6, 'symbol': 'scUSD', 'name': 'Sonic USD', 'usd': '0.998977', 'volume': 20220.22956942392}, 'outToken': {'address': '0x29219dd400f2Bf60E5a23d13Be72B486D4038894', 'decimals': 6, 'symbol': 'USDC.e', 'name': 'Bridged USDC (Sonic Labs)', 'usd': '0.999997', 'volume': 20219.98518886245}, 'inAmount': '20240936047', 'outAmount': '20220045849', 'estimatedGas': 819642, 'minOutAmount': '20098725574', 'from': '0xAb9F53c36B9c82AbBe397742d4A0aD75Df33241c', 'to': '0x6352a56caadC4F1E25CD6c75970Fa768A3304e64', 'value': '0', 'gasPrice': '1000000000', 'data': '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', 'chainId': 146, 'rfqDeadline': 0, 'gmxFee': 0, 'blockNumber': 35728503, 'price_impact': '-0.01%'}}}}",
         null
        ],
        [
         "5",
         "5",
         "4626",
         "True",
         "0xAb9F53c36B9c82AbBe397742d4A0aD75Df33241c",
         "20217972860",
         "20319570713",
         "9999999999",
         "{'from': '0x000000000000000000000000000000000000dEaD', 'to': '0xAb9F53c36B9c82AbBe397742d4A0aD75Df33241c', 'data': '0x3efe5daa0000000000000000000000000000000000000000000000000000000000000020000000000000000000000000196f3c7443e940911ee2bb88e019fd71400349d900000000000000000000000000000000000000000000000000000004a817c80000000000000000000000000029219dd400f2bf60e5a23d13be72b486d403889400000000000000000000000000000000000000000000000000000004b515c87c00000000000000000000000000000000000000000000000000000000000000e0000000000000000000000000000000000000000000000000000000000000014000000000000000000000000000000000000000000000000000000000685aee610000000000000000000000000000000000000000000000000000000000000040000000000000000000000000000000000000000000000000000000000000000100000000000000000000000000000000000000000000000000000000000000000000000000000000000000000000000000000000000000000000000000000000', 'value': '0', 'gasPrice': '0'}",
         "{'redeem': True, 'swap': False}",
         "146",
         "gen3",
         "50",
         "0x000000000000000000000000000000000000dEaD",
         "0x196F3C7443E940911EE2Bb88e019Fd71400349D9",
         "0x29219dd400f2Bf60E5a23d13Be72B486D4038894",
         "20000000000",
         null,
         "Bebop",
         "True",
         null,
         "True",
         "0x196F3C7443E940911EE2Bb88e019Fd71400349D9",
         "146",
         "eUSDC.e-3",
         "EVK Vault eUSDC.e-3",
         "6",
         "{'redeem': True, 'swap': False}",
         null
        ],
        [
         "6",
         "6",
         "OpenOcean",
         "False",
         "0x98b55E07156895814d2503036dC635316F9C9502",
         "19993652889",
         "20114338922",
         "9999999999",
         "{'from': '0x000000000000000000000000000000000000dEaD', 'to': '0x6352a56caadC4F1E25CD6c75970Fa768A3304e64', 'data': '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', 'value': '0', 'gasPrice': '1050000000'}",
         "{'code': 200, 'data': {'inToken': {'address': '0x9fb76f7ce5FCeAA2C42887ff441D46095E494206', 'decimals': 6, 'symbol': 'wstkscUSD', 'name': 'Wrapped stkscUSD', 'usd': '1.009857', 'volume': 20197.14}, 'outToken': {'address': '0x29219dd400f2Bf60E5a23d13Be72B486D4038894', 'decimals': 6, 'symbol': 'USDC.e', 'name': 'Bridged USDC (Sonic Labs)', 'usd': '0.999997', 'volume': 20114.278578983234}, 'inAmount': '20000000000', 'outAmount': '20114338922', 'estimatedGas': 1099736, 'minOutAmount': '19993652889', 'from': '0x000000000000000000000000000000000000dEaD', 'to': '0x6352a56caadC4F1E25CD6c75970Fa768A3304e64', 'value': '0', 'gasPrice': '1000000000', 'data': '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', 'chainId': 146, 'rfqDeadline': 0, 'gmxFee': 0, 'blockNumber': 35728501, 'price_impact': '-0.42%'}}",
         "146",
         "gen3",
         "50",
         "0x000000000000000000000000000000000000dEaD",
         "0x9fb76f7ce5FCeAA2C42887ff441D46095E494206",
         "0x29219dd400f2Bf60E5a23d13Be72B486D4038894",
         "20000000000",
         null,
         "Bebop",
         "True",
         null,
         "True",
         "0x9fb76f7ce5FCeAA2C42887ff441D46095E494206",
         "146",
         "wstkscUSD",
         "Wrapped stkscUSD",
         "6",
         "{'code': 200, 'data': {'inToken': {'address': '0x9fb76f7ce5FCeAA2C42887ff441D46095E494206', 'decimals': 6, 'symbol': 'wstkscUSD', 'name': 'Wrapped stkscUSD', 'usd': '1.009857', 'volume': 20197.14}, 'outToken': {'address': '0x29219dd400f2Bf60E5a23d13Be72B486D4038894', 'decimals': 6, 'symbol': 'USDC.e', 'name': 'Bridged USDC (Sonic Labs)', 'usd': '0.999997', 'volume': 20114.278578983234}, 'inAmount': '20000000000', 'outAmount': '20114338922', 'estimatedGas': 1099736, 'minOutAmount': '19993652889', 'from': '0x000000000000000000000000000000000000dEaD', 'to': '0x6352a56caadC4F1E25CD6c75970Fa768A3304e64', 'value': '0', 'gasPrice': '1000000000', 'data': '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', 'chainId': 146, 'rfqDeadline': 0, 'gmxFee': 0, 'blockNumber': 35728501, 'price_impact': '-0.42%'}}",
         "35728501.0"
        ],
        [
         "7",
         "7",
         "OpenOcean",
         "False",
         "0x98b55E07156895814d2503036dC635316F9C9502",
         "19868900217",
         "19988833217",
         "9999999999",
         "{'from': '0x000000000000000000000000000000000000dEaD', 'to': '0x6352a56caadC4F1E25CD6c75970Fa768A3304e64', 'data': '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', 'value': '0', 'gasPrice': '1050000000'}",
         "{'code': 200, 'data': {'inToken': {'address': '0x80Eede496655FB9047dd39d9f418d5483ED600df', 'decimals': 18, 'symbol': 'frxUSD', 'name': 'Frax USD', 'usd': '1.001705', 'volume': 20034.100000000002}, 'outToken': {'address': '0x29219dd400f2Bf60E5a23d13Be72B486D4038894', 'decimals': 6, 'symbol': 'USDC.e', 'name': 'Bridged USDC (Sonic Labs)', 'usd': '0.999997', 'volume': 19988.773250500348}, 'inAmount': '20000000000000000000000', 'outAmount': '19988833217', 'estimatedGas': 1339596, 'minOutAmount': '19868900217', 'from': '0x000000000000000000000000000000000000dEaD', 'to': '0x6352a56caadC4F1E25CD6c75970Fa768A3304e64', 'value': '0', 'gasPrice': '1000000000', 'data': '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', 'chainId': 146, 'rfqDeadline': 0, 'gmxFee': 0, 'blockNumber': 35728505, 'price_impact': '-0.23%'}}",
         "146",
         "gen3",
         "50",
         "0x000000000000000000000000000000000000dEaD",
         "0x80Eede496655FB9047dd39d9f418d5483ED600df",
         "0x29219dd400f2Bf60E5a23d13Be72B486D4038894",
         "20000000000000000000000",
         null,
         "Bebop",
         "True",
         null,
         "True",
         "0x80Eede496655FB9047dd39d9f418d5483ED600df",
         "146",
         "frxUSD",
         "Frax USD",
         "18",
         "{'code': 200, 'data': {'inToken': {'address': '0x80Eede496655FB9047dd39d9f418d5483ED600df', 'decimals': 18, 'symbol': 'frxUSD', 'name': 'Frax USD', 'usd': '1.001705', 'volume': 20034.100000000002}, 'outToken': {'address': '0x29219dd400f2Bf60E5a23d13Be72B486D4038894', 'decimals': 6, 'symbol': 'USDC.e', 'name': 'Bridged USDC (Sonic Labs)', 'usd': '0.999997', 'volume': 19988.773250500348}, 'inAmount': '20000000000000000000000', 'outAmount': '19988833217', 'estimatedGas': 1339596, 'minOutAmount': '19868900217', 'from': '0x000000000000000000000000000000000000dEaD', 'to': '0x6352a56caadC4F1E25CD6c75970Fa768A3304e64', 'value': '0', 'gasPrice': '1000000000', 'data': '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', 'chainId': 146, 'rfqDeadline': 0, 'gmxFee': 0, 'blockNumber': 35728505, 'price_impact': '-0.23%'}}",
         "35728505.0"
        ],
        [
         "8",
         "0",
         "OpenOcean",
         "False",
         "0x98b55E07156895814d2503036dC635316F9C9502",
         "19890258868",
         "20010320792",
         "9999999999",
         "{'from': '0x000000000000000000000000000000000000dEaD', 'to': '0x6352a56caadC4F1E25CD6c75970Fa768A3304e64', 'data': '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', 'value': '0', 'gasPrice': '1050000000'}",
         "{'code': 200, 'data': {'inToken': {'address': '0x6047828dc181963ba44974801FF68e538dA5eaF9', 'decimals': 6, 'symbol': 'USDT', 'name': 'Bridged USDT (Sonic Labs)', 'usd': '1.001', 'volume': 20019.999999999996}, 'outToken': {'address': '0x29219dd400f2Bf60E5a23d13Be72B486D4038894', 'decimals': 6, 'symbol': 'USDC.e', 'name': 'Bridged USDC (Sonic Labs)', 'usd': '0.999997', 'volume': 20010.26076103762}, 'inAmount': '20000000000', 'outAmount': '20010320792', 'estimatedGas': 561824, 'minOutAmount': '19890258868', 'from': '0x000000000000000000000000000000000000dEaD', 'to': '0x6352a56caadC4F1E25CD6c75970Fa768A3304e64', 'value': '0', 'gasPrice': '1000000000', 'data': '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', 'chainId': 146, 'rfqDeadline': 0, 'gmxFee': 0, 'blockNumber': 35728721, 'price_impact': '-0.05%'}}",
         "146",
         "gen3",
         "50",
         "0x000000000000000000000000000000000000dEaD",
         "0x6047828dc181963ba44974801FF68e538dA5eaF9",
         "0x29219dd400f2Bf60E5a23d13Be72B486D4038894",
         "20000000000",
         null,
         "Bebop",
         "True",
         null,
         "True",
         "0x6047828dc181963ba44974801FF68e538dA5eaF9",
         "146",
         "USDT",
         "Tether USD",
         "6",
         "{'code': 200, 'data': {'inToken': {'address': '0x6047828dc181963ba44974801FF68e538dA5eaF9', 'decimals': 6, 'symbol': 'USDT', 'name': 'Bridged USDT (Sonic Labs)', 'usd': '1.001', 'volume': 20019.999999999996}, 'outToken': {'address': '0x29219dd400f2Bf60E5a23d13Be72B486D4038894', 'decimals': 6, 'symbol': 'USDC.e', 'name': 'Bridged USDC (Sonic Labs)', 'usd': '0.999997', 'volume': 20010.26076103762}, 'inAmount': '20000000000', 'outAmount': '20010320792', 'estimatedGas': 561824, 'minOutAmount': '19890258868', 'from': '0x000000000000000000000000000000000000dEaD', 'to': '0x6352a56caadC4F1E25CD6c75970Fa768A3304e64', 'value': '0', 'gasPrice': '1000000000', 'data': '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', 'chainId': 146, 'rfqDeadline': 0, 'gmxFee': 0, 'blockNumber': 35728721, 'price_impact': '-0.05%'}}",
         "35728721.0"
        ],
        [
         "9",
         "1",
         "4626",
         "True",
         "0xAb9F53c36B9c82AbBe397742d4A0aD75Df33241c",
         "20035042264",
         "20135720868",
         "9999999999",
         "{'from': '0x000000000000000000000000000000000000dEaD', 'to': '0xAb9F53c36B9c82AbBe397742d4A0aD75Df33241c', 'data': '0x3efe5daa00000000000000000000000000000000000000000000000000000000000000200000000000000000000000003d9e5462a940684073eed7e4a13d19ae0dcd13bc00000000000000000000000000000000000000000000000000000004a817c80000000000000000000000000029219dd400f2bf60e5a23d13be72b486d403889400000000000000000000000000000000000000000000000000000004aa2e7bd800000000000000000000000000000000000000000000000000000000000000e0000000000000000000000000000000000000000000000000000000000000014000000000000000000000000000000000000000000000000000000000685aeee00000000000000000000000000000000000000000000000000000000000000040000000000000000000000000000000000000000000000000000000000000000100000000000000000000000000000000000000000000000000000000000000000000000000000000000000000000000000000000000000000000000000000000', 'value': '0', 'gasPrice': '0'}",
         "{'redeem': True, 'swap': False}",
         "146",
         "gen3",
         "50",
         "0x000000000000000000000000000000000000dEaD",
         "0x3D9e5462A940684073EED7e4a13d19AE0Dcd13bc",
         "0x29219dd400f2Bf60E5a23d13Be72B486D4038894",
         "20000000000",
         null,
         "Bebop",
         "True",
         null,
         "True",
         "0x3D9e5462A940684073EED7e4a13d19AE0Dcd13bc",
         "146",
         "eUSDC.e-2",
         "EVK Vault eUSDC.e-2",
         "6",
         "{'redeem': True, 'swap': False}",
         null
        ],
        [
         "10",
         "2",
         "Odos",
         "False",
         "0x6D13DB293B4b6B9AA1760f7e093Fb26C24F345B2",
         "19879470650",
         "19979367487",
         "9999999999",
         "{'from': '0x000000000000000000000000000000000000dEaD', 'to': '0xaC041Df48dF9791B0654f1Dbbf2CC8450C5f2e9D', 'data': '0x3b635ce4000000000000000000000000d3dce716f3ef535c5ff8d041c1a41c3bd89b97ae000000000000000000000000000000000000000000000000000000000000000000000000000000000000000046a405160258f071b5db777e0965c98133ea03a300000000000000000000000029219dd400f2bf60e5a23d13be72b486d403889400000000000000000000000000000000000000000000000000000004a6dcf43f00000000000000000000000000000000000000000000000000000004a0e8a639000000000000000000000000000000000000000000000000000000000000dead000000000000000000000000000000000000000000000000000000000000014000000000000000000000000046a405160258f071b5db777e0965c98133ea03a30000000000000000000000000000000000000000000000000000000000000000000000000000000000000000000000000000000000000000000000000000011403020a010700e1630701010102cd4d2b142235d5650ffa6a38787ed0b7d7a51c0c000000000000000000000037011b8d63002101010301020004011781770e2101010501020607011c7f1ee606010108010000060101090100ff000000000000d3dce716f3ef535c5ff8d041c1a41c3bd89b97ae29219dd400f2bf60e5a23d13be72b486d403889443026d483f42fb35efe03c20b251142d022783f27870ddfd5aca4e977b2287e9a212bcbe8fc4135a54ca9aad90324c022bbed0a94b7380c03aa5884ae6605932e4a686534d19005bb9db0fba1f1012726646248971427b80ce531bdd793e2eb859347e55dd35c88b1754879ef86bbf3a24f81fcca5eb6b5d2c13383855377faf5a562f1aef47e4be7a0f12ac000000000000000000000000', 'value': '0', 'gasPrice': '1391006'}",
         "{'quote': {'traceId': 'de5487c2-49b1-471d-a13e-418e4f677199', 'inTokens': ['0xd3dce716f3ef535c5ff8d041c1a41c3bd89b97ae'], 'outTokens': ['0x29219dd400f2bf60e5a23d13be72b486d4038894'], 'inAmounts': ['20000000000'], 'outAmounts': ['19979367487'], 'gasEstimate': 662384, 'dataGasEstimate': 0, 'gweiPerGas': 60, 'gasEstimateValue': 0.013298879961892197, 'inValues': [19983.075529503527], 'outValues': [19979.367487882708], 'netOutValue': 19979.354189002745, 'priceImpact': 0, 'percentDiff': -0.01855591055213779, 'permit2Message': None, 'permit2Hash': None, 'partnerFeePercent': 0, 'pathId': '5554e506ccefb714504590d3a46aa8a6', 'pathViz': None, 'blockNumber': 35728701}, 'tx': {'deprecated': None, 'traceId': 'cb2d1140-0c7e-497b-9dcf-42095e1b1c7c', 'blockNumber': 35728701, 'gasEstimate': 662384, 'gasEstimateValue': 0.013298879961892197, 'inputTokens': [{'tokenAddress': '0xd3dce716f3ef535c5ff8d041c1a41c3bd89b97ae', 'amount': '20000000000'}], 'outputTokens': [{'tokenAddress': '0x29219dd400f2bf60e5a23d13be72b486d4038894', 'amount': '19979367487'}], 'netOutValue': 19979.354189002745, 'outValues': ['19979.367487882708'], 'transaction': {'gas': 1324768, 'gasPrice': 60000000000, 'value': '0', 'to': '0xaC041Df48dF9791B0654f1Dbbf2CC8450C5f2e9D', 'from': '0x000000000000000000000000000000000000dEaD', 'data': '0x3b635ce4000000000000000000000000d3dce716f3ef535c5ff8d041c1a41c3bd89b97ae000000000000000000000000000000000000000000000000000000000000000000000000000000000000000046a405160258f071b5db777e0965c98133ea03a300000000000000000000000029219dd400f2bf60e5a23d13be72b486d403889400000000000000000000000000000000000000000000000000000004a6dcf43f00000000000000000000000000000000000000000000000000000004a0e8a639000000000000000000000000000000000000000000000000000000000000dead000000000000000000000000000000000000000000000000000000000000014000000000000000000000000046a405160258f071b5db777e0965c98133ea03a30000000000000000000000000000000000000000000000000000000000000000000000000000000000000000000000000000000000000000000000000000011403020a010700e1630701010102cd4d2b142235d5650ffa6a38787ed0b7d7a51c0c000000000000000000000037011b8d63002101010301020004011781770e2101010501020607011c7f1ee606010108010000060101090100ff000000000000d3dce716f3ef535c5ff8d041c1a41c3bd89b97ae29219dd400f2bf60e5a23d13be72b486d403889443026d483f42fb35efe03c20b251142d022783f27870ddfd5aca4e977b2287e9a212bcbe8fc4135a54ca9aad90324c022bbed0a94b7380c03aa5884ae6605932e4a686534d19005bb9db0fba1f1012726646248971427b80ce531bdd793e2eb859347e55dd35c88b1754879ef86bbf3a24f81fcca5eb6b5d2c13383855377faf5a562f1aef47e4be7a0f12ac000000000000000000000000', 'nonce': 0, 'chainId': 146}, 'simulation': None}}",
         "146",
         "gen3",
         "50",
         "0x000000000000000000000000000000000000dEaD",
         "0xd3DCe716f3eF535C5Ff8d041c1A41C3bd89b97aE",
         "0x29219dd400f2Bf60E5a23d13Be72B486D4038894",
         "20000000000",
         null,
         "Bebop",
         "True",
         null,
         "True",
         "0xd3DCe716f3eF535C5Ff8d041c1A41C3bd89b97aE",
         "146",
         "scUSD",
         "Sonic USD",
         "6",
         "{'quote': {'traceId': 'de5487c2-49b1-471d-a13e-418e4f677199', 'inTokens': ['0xd3dce716f3ef535c5ff8d041c1a41c3bd89b97ae'], 'outTokens': ['0x29219dd400f2bf60e5a23d13be72b486d4038894'], 'inAmounts': ['20000000000'], 'outAmounts': ['19979367487'], 'gasEstimate': 662384, 'dataGasEstimate': 0, 'gweiPerGas': 60, 'gasEstimateValue': 0.013298879961892197, 'inValues': [19983.075529503527], 'outValues': [19979.367487882708], 'netOutValue': 19979.354189002745, 'priceImpact': 0, 'percentDiff': -0.01855591055213779, 'permit2Message': None, 'permit2Hash': None, 'partnerFeePercent': 0, 'pathId': '5554e506ccefb714504590d3a46aa8a6', 'pathViz': None, 'blockNumber': 35728701}, 'tx': {'deprecated': None, 'traceId': 'cb2d1140-0c7e-497b-9dcf-42095e1b1c7c', 'blockNumber': 35728701, 'gasEstimate': 662384, 'gasEstimateValue': 0.013298879961892197, 'inputTokens': [{'tokenAddress': '0xd3dce716f3ef535c5ff8d041c1a41c3bd89b97ae', 'amount': '20000000000'}], 'outputTokens': [{'tokenAddress': '0x29219dd400f2bf60e5a23d13be72b486d4038894', 'amount': '19979367487'}], 'netOutValue': 19979.354189002745, 'outValues': ['19979.367487882708'], 'transaction': {'gas': 1324768, 'gasPrice': 60000000000, 'value': '0', 'to': '0xaC041Df48dF9791B0654f1Dbbf2CC8450C5f2e9D', 'from': '0x000000000000000000000000000000000000dEaD', 'data': '0x3b635ce4000000000000000000000000d3dce716f3ef535c5ff8d041c1a41c3bd89b97ae000000000000000000000000000000000000000000000000000000000000000000000000000000000000000046a405160258f071b5db777e0965c98133ea03a300000000000000000000000029219dd400f2bf60e5a23d13be72b486d403889400000000000000000000000000000000000000000000000000000004a6dcf43f00000000000000000000000000000000000000000000000000000004a0e8a639000000000000000000000000000000000000000000000000000000000000dead000000000000000000000000000000000000000000000000000000000000014000000000000000000000000046a405160258f071b5db777e0965c98133ea03a30000000000000000000000000000000000000000000000000000000000000000000000000000000000000000000000000000000000000000000000000000011403020a010700e1630701010102cd4d2b142235d5650ffa6a38787ed0b7d7a51c0c000000000000000000000037011b8d63002101010301020004011781770e2101010501020607011c7f1ee606010108010000060101090100ff000000000000d3dce716f3ef535c5ff8d041c1a41c3bd89b97ae29219dd400f2bf60e5a23d13be72b486d403889443026d483f42fb35efe03c20b251142d022783f27870ddfd5aca4e977b2287e9a212bcbe8fc4135a54ca9aad90324c022bbed0a94b7380c03aa5884ae6605932e4a686534d19005bb9db0fba1f1012726646248971427b80ce531bdd793e2eb859347e55dd35c88b1754879ef86bbf3a24f81fcca5eb6b5d2c13383855377faf5a562f1aef47e4be7a0f12ac000000000000000000000000', 'nonce': 0, 'chainId': 146}, 'simulation': None}}",
         "35728701.0"
        ],
        [
         "11",
         "3",
         "4626",
         "True",
         "0xAb9F53c36B9c82AbBe397742d4A0aD75Df33241c",
         "20092016560",
         "20192981467",
         "9999999999",
         "{'from': '0x000000000000000000000000000000000000dEaD', 'to': '0xAb9F53c36B9c82AbBe397742d4A0aD75Df33241c', 'data': '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', 'value': '0', 'gasPrice': '0'}",
         "{'redeem': True, 'swap': True, 'underlyingQuote': {'aggregatorName': 'Odos', 'internal': False, 'asyncSwapper': '0x6D13DB293B4b6B9AA1760f7e093Fb26C24F345B2', 'minBuyAmount': '20092016560', 'buyAmount': '20192981467', 'expiration': 9999999999, 'tx': {'from': '0xAb9F53c36B9c82AbBe397742d4A0aD75Df33241c', 'to': '0xaC041Df48dF9791B0654f1Dbbf2CC8450C5f2e9D', 'data': '0x3b635ce4000000000000000000000000d3dce716f3ef535c5ff8d041c1a41c3bd89b97ae000000000000000000000000000000000000000000000000000000000000000000000000000000000000000046a405160258f071b5db777e0965c98133ea03a300000000000000000000000029219dd400f2bf60e5a23d13be72b486d403889400000000000000000000000000000000000000000000000000000004b39871db00000000000000000000000000000000000000000000000000000004ad93d7af000000000000000000000000ab9f53c36b9c82abbe397742d4a0ad75df33241c000000000000000000000000000000000000000000000000000000000000014000000000000000000000000046a405160258f071b5db777e0965c98133ea03a30000000000000000000000000000000000000000000000000000000000000000000000000000000000000000000000000000000000000000000000000000011403020a0106f2cb4c0701010102cd4d2b142235d5650ffa6a38787ed0b7d7a51c0c000000000000000000000037011b55d6d2210101030102000401175f25f62101010501020607011d12a6a006010108010000060101090100ff000000000000d3dce716f3ef535c5ff8d041c1a41c3bd89b97ae29219dd400f2bf60e5a23d13be72b486d403889443026d483f42fb35efe03c20b251142d022783f27870ddfd5aca4e977b2287e9a212bcbe8fc4135a54ca9aad90324c022bbed0a94b7380c03aa5884ae6605932e4a686534d19005bb9db0fba1f1012726646248971427b80ce531bdd793e2eb859347e55dd35c88b1754879ef86bbf3a24f81fcca5eb6b5d2c13383855377faf5a562f1aef47e4be7a0f12ac000000000000000000000000', 'value': '0', 'gasPrice': '1391056'}, 'fullQuoteDetails': {'quote': {'traceId': '6261683c-b5a2-4814-9574-cabe7af2c526', 'inTokens': ['0xd3dce716f3ef535c5ff8d041c1a41c3bd89b97ae'], 'outTokens': ['0x29219dd400f2bf60e5a23d13be72b486d4038894'], 'inAmounts': ['20213837220'], 'outAmounts': ['20192981467'], 'gasEstimate': 662408, 'dataGasEstimate': 0, 'gweiPerGas': 60, 'gasEstimateValue': 0.013299921306574144, 'inValues': [20196.665406359432], 'outValues': [20192.981467048143], 'netOutValue': 20192.968167126837, 'priceImpact': 0, 'percentDiff': -0.01824033441742756, 'permit2Message': None, 'permit2Hash': None, 'partnerFeePercent': 0, 'pathId': 'efbfecca61002e440cd8225058fcbc85', 'pathViz': None, 'blockNumber': 35728701}, 'tx': {'deprecated': None, 'traceId': '0a6ce6d5-2569-4f8b-8c97-81f505f167c8', 'blockNumber': 35728701, 'gasEstimate': 662408, 'gasEstimateValue': 0.013299921306574144, 'inputTokens': [{'tokenAddress': '0xd3dce716f3ef535c5ff8d041c1a41c3bd89b97ae', 'amount': '20213837220'}], 'outputTokens': [{'tokenAddress': '0x29219dd400f2bf60e5a23d13be72b486d4038894', 'amount': '20192981467'}], 'netOutValue': 20192.968167126837, 'outValues': ['20192.981467048143'], 'transaction': {'gas': 1324816, 'gasPrice': 60000000000, 'value': '0', 'to': '0xaC041Df48dF9791B0654f1Dbbf2CC8450C5f2e9D', 'from': '0xAb9F53c36B9c82AbBe397742d4A0aD75Df33241c', 'data': '0x3b635ce4000000000000000000000000d3dce716f3ef535c5ff8d041c1a41c3bd89b97ae000000000000000000000000000000000000000000000000000000000000000000000000000000000000000046a405160258f071b5db777e0965c98133ea03a300000000000000000000000029219dd400f2bf60e5a23d13be72b486d403889400000000000000000000000000000000000000000000000000000004b39871db00000000000000000000000000000000000000000000000000000004ad93d7af000000000000000000000000ab9f53c36b9c82abbe397742d4a0ad75df33241c000000000000000000000000000000000000000000000000000000000000014000000000000000000000000046a405160258f071b5db777e0965c98133ea03a30000000000000000000000000000000000000000000000000000000000000000000000000000000000000000000000000000000000000000000000000000011403020a0106f2cb4c0701010102cd4d2b142235d5650ffa6a38787ed0b7d7a51c0c000000000000000000000037011b55d6d2210101030102000401175f25f62101010501020607011d12a6a006010108010000060101090100ff000000000000d3dce716f3ef535c5ff8d041c1a41c3bd89b97ae29219dd400f2bf60e5a23d13be72b486d403889443026d483f42fb35efe03c20b251142d022783f27870ddfd5aca4e977b2287e9a212bcbe8fc4135a54ca9aad90324c022bbed0a94b7380c03aa5884ae6605932e4a686534d19005bb9db0fba1f1012726646248971427b80ce531bdd793e2eb859347e55dd35c88b1754879ef86bbf3a24f81fcca5eb6b5d2c13383855377faf5a562f1aef47e4be7a0f12ac000000000000000000000000', 'nonce': 1, 'chainId': 146}, 'simulation': None}}}}",
         "146",
         "gen3",
         "50",
         "0x000000000000000000000000000000000000dEaD",
         "0xeEb1DC1Ca7ffC5b54aD1cc4c1088Db4E5657Cb6c",
         "0x29219dd400f2Bf60E5a23d13Be72B486D4038894",
         "20000000000",
         null,
         "Bebop",
         "True",
         null,
         "True",
         "0xeEb1DC1Ca7ffC5b54aD1cc4c1088Db4E5657Cb6c",
         "146",
         "escUSD-1",
         "EVK Vault escUSD-1",
         "6",
         "{'redeem': True, 'swap': True, 'underlyingQuote': {'aggregatorName': 'Odos', 'internal': False, 'asyncSwapper': '0x6D13DB293B4b6B9AA1760f7e093Fb26C24F345B2', 'minBuyAmount': '20092016560', 'buyAmount': '20192981467', 'expiration': 9999999999, 'tx': {'from': '0xAb9F53c36B9c82AbBe397742d4A0aD75Df33241c', 'to': '0xaC041Df48dF9791B0654f1Dbbf2CC8450C5f2e9D', 'data': '0x3b635ce4000000000000000000000000d3dce716f3ef535c5ff8d041c1a41c3bd89b97ae000000000000000000000000000000000000000000000000000000000000000000000000000000000000000046a405160258f071b5db777e0965c98133ea03a300000000000000000000000029219dd400f2bf60e5a23d13be72b486d403889400000000000000000000000000000000000000000000000000000004b39871db00000000000000000000000000000000000000000000000000000004ad93d7af000000000000000000000000ab9f53c36b9c82abbe397742d4a0ad75df33241c000000000000000000000000000000000000000000000000000000000000014000000000000000000000000046a405160258f071b5db777e0965c98133ea03a30000000000000000000000000000000000000000000000000000000000000000000000000000000000000000000000000000000000000000000000000000011403020a0106f2cb4c0701010102cd4d2b142235d5650ffa6a38787ed0b7d7a51c0c000000000000000000000037011b55d6d2210101030102000401175f25f62101010501020607011d12a6a006010108010000060101090100ff000000000000d3dce716f3ef535c5ff8d041c1a41c3bd89b97ae29219dd400f2bf60e5a23d13be72b486d403889443026d483f42fb35efe03c20b251142d022783f27870ddfd5aca4e977b2287e9a212bcbe8fc4135a54ca9aad90324c022bbed0a94b7380c03aa5884ae6605932e4a686534d19005bb9db0fba1f1012726646248971427b80ce531bdd793e2eb859347e55dd35c88b1754879ef86bbf3a24f81fcca5eb6b5d2c13383855377faf5a562f1aef47e4be7a0f12ac000000000000000000000000', 'value': '0', 'gasPrice': '1391056'}, 'fullQuoteDetails': {'quote': {'traceId': '6261683c-b5a2-4814-9574-cabe7af2c526', 'inTokens': ['0xd3dce716f3ef535c5ff8d041c1a41c3bd89b97ae'], 'outTokens': ['0x29219dd400f2bf60e5a23d13be72b486d4038894'], 'inAmounts': ['20213837220'], 'outAmounts': ['20192981467'], 'gasEstimate': 662408, 'dataGasEstimate': 0, 'gweiPerGas': 60, 'gasEstimateValue': 0.013299921306574144, 'inValues': [20196.665406359432], 'outValues': [20192.981467048143], 'netOutValue': 20192.968167126837, 'priceImpact': 0, 'percentDiff': -0.01824033441742756, 'permit2Message': None, 'permit2Hash': None, 'partnerFeePercent': 0, 'pathId': 'efbfecca61002e440cd8225058fcbc85', 'pathViz': None, 'blockNumber': 35728701}, 'tx': {'deprecated': None, 'traceId': '0a6ce6d5-2569-4f8b-8c97-81f505f167c8', 'blockNumber': 35728701, 'gasEstimate': 662408, 'gasEstimateValue': 0.013299921306574144, 'inputTokens': [{'tokenAddress': '0xd3dce716f3ef535c5ff8d041c1a41c3bd89b97ae', 'amount': '20213837220'}], 'outputTokens': [{'tokenAddress': '0x29219dd400f2bf60e5a23d13be72b486d4038894', 'amount': '20192981467'}], 'netOutValue': 20192.968167126837, 'outValues': ['20192.981467048143'], 'transaction': {'gas': 1324816, 'gasPrice': 60000000000, 'value': '0', 'to': '0xaC041Df48dF9791B0654f1Dbbf2CC8450C5f2e9D', 'from': '0xAb9F53c36B9c82AbBe397742d4A0aD75Df33241c', 'data': '0x3b635ce4000000000000000000000000d3dce716f3ef535c5ff8d041c1a41c3bd89b97ae000000000000000000000000000000000000000000000000000000000000000000000000000000000000000046a405160258f071b5db777e0965c98133ea03a300000000000000000000000029219dd400f2bf60e5a23d13be72b486d403889400000000000000000000000000000000000000000000000000000004b39871db00000000000000000000000000000000000000000000000000000004ad93d7af000000000000000000000000ab9f53c36b9c82abbe397742d4a0ad75df33241c000000000000000000000000000000000000000000000000000000000000014000000000000000000000000046a405160258f071b5db777e0965c98133ea03a30000000000000000000000000000000000000000000000000000000000000000000000000000000000000000000000000000000000000000000000000000011403020a0106f2cb4c0701010102cd4d2b142235d5650ffa6a38787ed0b7d7a51c0c000000000000000000000037011b55d6d2210101030102000401175f25f62101010501020607011d12a6a006010108010000060101090100ff000000000000d3dce716f3ef535c5ff8d041c1a41c3bd89b97ae29219dd400f2bf60e5a23d13be72b486d403889443026d483f42fb35efe03c20b251142d022783f27870ddfd5aca4e977b2287e9a212bcbe8fc4135a54ca9aad90324c022bbed0a94b7380c03aa5884ae6605932e4a686534d19005bb9db0fba1f1012726646248971427b80ce531bdd793e2eb859347e55dd35c88b1754879ef86bbf3a24f81fcca5eb6b5d2c13383855377faf5a562f1aef47e4be7a0f12ac000000000000000000000000', 'nonce': 1, 'chainId': 146}, 'simulation': None}}}}",
         null
        ],
        [
         "12",
         "4",
         "4626",
         "True",
         "0xAb9F53c36B9c82AbBe397742d4A0aD75Df33241c",
         "20118955950",
         "20220056231",
         "9999999999",
         "{'from': '0x000000000000000000000000000000000000dEaD', 'to': '0xAb9F53c36B9c82AbBe397742d4A0aD75Df33241c', 'data': '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', 'value': '0', 'gasPrice': '0'}",
         "{'redeem': True, 'swap': True, 'underlyingQuote': {'aggregatorName': 'Odos', 'internal': False, 'asyncSwapper': '0x6D13DB293B4b6B9AA1760f7e093Fb26C24F345B2', 'minBuyAmount': '20118955950', 'buyAmount': '20220056231', 'expiration': 9999999999, 'tx': {'from': '0xAb9F53c36B9c82AbBe397742d4A0aD75Df33241c', 'to': '0xaC041Df48dF9791B0654f1Dbbf2CC8450C5f2e9D', 'data': '0x3b635ce4000000000000000000000000d3dce716f3ef535c5ff8d041c1a41c3bd89b97ae000000000000000000000000000000000000000000000000000000000000000000000000000000000000000046a405160258f071b5db777e0965c98133ea03a300000000000000000000000029219dd400f2bf60e5a23d13be72b486d403889400000000000000000000000000000000000000000000000000000004b53592a700000000000000000000000000000000000000000000000000000004af2ee7ad000000000000000000000000ab9f53c36b9c82abbe397742d4a0ad75df33241c000000000000000000000000000000000000000000000000000000000000014000000000000000000000000046a405160258f071b5db777e0965c98133ea03a30000000000000000000000000000000000000000000000000000000000000000000000000000000000000000000000000000000000000000000000000000011403020a0106f108620701010102cd4d2b142235d5650ffa6a38787ed0b7d7a51c0c000000000000000000000037011b4ee559210101030102000401175adf182101010501020607011d25111306010108010000060101090100ff000000000000d3dce716f3ef535c5ff8d041c1a41c3bd89b97ae29219dd400f2bf60e5a23d13be72b486d403889443026d483f42fb35efe03c20b251142d022783f27870ddfd5aca4e977b2287e9a212bcbe8fc4135a54ca9aad90324c022bbed0a94b7380c03aa5884ae6605932e4a686534d19005bb9db0fba1f1012726646248971427b80ce531bdd793e2eb859347e55dd35c88b1754879ef86bbf3a24f81fcca5eb6b5d2c13383855377faf5a562f1aef47e4be7a0f12ac000000000000000000000000', 'value': '0', 'gasPrice': '1391056'}, 'fullQuoteDetails': {'quote': {'traceId': '37bed1c3-b9d8-4fa0-9f58-8a0ac44c5ca0', 'inTokens': ['0xd3dce716f3ef535c5ff8d041c1a41c3bd89b97ae'], 'outTokens': ['0x29219dd400f2bf60e5a23d13be72b486d4038894'], 'inAmounts': ['20240940282'], 'outAmounts': ['20220056231'], 'gasEstimate': 662408, 'dataGasEstimate': 0, 'gweiPerGas': 60, 'gasEstimateValue': 0.013299361817008092, 'inValues': [20223.74544409517], 'outValues': [20220.056231388902], 'netOutValue': 20220.042932027085, 'priceImpact': 0, 'percentDiff': -0.018241985474276134, 'permit2Message': None, 'permit2Hash': None, 'partnerFeePercent': 0, 'pathId': '0e2cfa07ad98318da33fbfc29f18255e', 'pathViz': None, 'blockNumber': 35728701}, 'tx': {'deprecated': None, 'traceId': 'ea1babce-2000-44d0-b6b7-10663c7e7a61', 'blockNumber': 35728701, 'gasEstimate': 662408, 'gasEstimateValue': 0.013299361817008092, 'inputTokens': [{'tokenAddress': '0xd3dce716f3ef535c5ff8d041c1a41c3bd89b97ae', 'amount': '20240940282'}], 'outputTokens': [{'tokenAddress': '0x29219dd400f2bf60e5a23d13be72b486d4038894', 'amount': '20220056231'}], 'netOutValue': 20220.042932027085, 'outValues': ['20220.056231388902'], 'transaction': {'gas': 1324816, 'gasPrice': 60000000000, 'value': '0', 'to': '0xaC041Df48dF9791B0654f1Dbbf2CC8450C5f2e9D', 'from': '0xAb9F53c36B9c82AbBe397742d4A0aD75Df33241c', 'data': '0x3b635ce4000000000000000000000000d3dce716f3ef535c5ff8d041c1a41c3bd89b97ae000000000000000000000000000000000000000000000000000000000000000000000000000000000000000046a405160258f071b5db777e0965c98133ea03a300000000000000000000000029219dd400f2bf60e5a23d13be72b486d403889400000000000000000000000000000000000000000000000000000004b53592a700000000000000000000000000000000000000000000000000000004af2ee7ad000000000000000000000000ab9f53c36b9c82abbe397742d4a0ad75df33241c000000000000000000000000000000000000000000000000000000000000014000000000000000000000000046a405160258f071b5db777e0965c98133ea03a30000000000000000000000000000000000000000000000000000000000000000000000000000000000000000000000000000000000000000000000000000011403020a0106f108620701010102cd4d2b142235d5650ffa6a38787ed0b7d7a51c0c000000000000000000000037011b4ee559210101030102000401175adf182101010501020607011d25111306010108010000060101090100ff000000000000d3dce716f3ef535c5ff8d041c1a41c3bd89b97ae29219dd400f2bf60e5a23d13be72b486d403889443026d483f42fb35efe03c20b251142d022783f27870ddfd5aca4e977b2287e9a212bcbe8fc4135a54ca9aad90324c022bbed0a94b7380c03aa5884ae6605932e4a686534d19005bb9db0fba1f1012726646248971427b80ce531bdd793e2eb859347e55dd35c88b1754879ef86bbf3a24f81fcca5eb6b5d2c13383855377faf5a562f1aef47e4be7a0f12ac000000000000000000000000', 'nonce': 1, 'chainId': 146}, 'simulation': None}}}}",
         "146",
         "gen3",
         "50",
         "0x000000000000000000000000000000000000dEaD",
         "0xB38D431e932fEa77d1dF0AE0dFE4400c97e597B8",
         "0x29219dd400f2Bf60E5a23d13Be72B486D4038894",
         "20000000000",
         null,
         "Bebop",
         "True",
         null,
         "True",
         "0xB38D431e932fEa77d1dF0AE0dFE4400c97e597B8",
         "146",
         "escUSD-2",
         "EVK Vault escUSD-2",
         "6",
         "{'redeem': True, 'swap': True, 'underlyingQuote': {'aggregatorName': 'Odos', 'internal': False, 'asyncSwapper': '0x6D13DB293B4b6B9AA1760f7e093Fb26C24F345B2', 'minBuyAmount': '20118955950', 'buyAmount': '20220056231', 'expiration': 9999999999, 'tx': {'from': '0xAb9F53c36B9c82AbBe397742d4A0aD75Df33241c', 'to': '0xaC041Df48dF9791B0654f1Dbbf2CC8450C5f2e9D', 'data': '0x3b635ce4000000000000000000000000d3dce716f3ef535c5ff8d041c1a41c3bd89b97ae000000000000000000000000000000000000000000000000000000000000000000000000000000000000000046a405160258f071b5db777e0965c98133ea03a300000000000000000000000029219dd400f2bf60e5a23d13be72b486d403889400000000000000000000000000000000000000000000000000000004b53592a700000000000000000000000000000000000000000000000000000004af2ee7ad000000000000000000000000ab9f53c36b9c82abbe397742d4a0ad75df33241c000000000000000000000000000000000000000000000000000000000000014000000000000000000000000046a405160258f071b5db777e0965c98133ea03a30000000000000000000000000000000000000000000000000000000000000000000000000000000000000000000000000000000000000000000000000000011403020a0106f108620701010102cd4d2b142235d5650ffa6a38787ed0b7d7a51c0c000000000000000000000037011b4ee559210101030102000401175adf182101010501020607011d25111306010108010000060101090100ff000000000000d3dce716f3ef535c5ff8d041c1a41c3bd89b97ae29219dd400f2bf60e5a23d13be72b486d403889443026d483f42fb35efe03c20b251142d022783f27870ddfd5aca4e977b2287e9a212bcbe8fc4135a54ca9aad90324c022bbed0a94b7380c03aa5884ae6605932e4a686534d19005bb9db0fba1f1012726646248971427b80ce531bdd793e2eb859347e55dd35c88b1754879ef86bbf3a24f81fcca5eb6b5d2c13383855377faf5a562f1aef47e4be7a0f12ac000000000000000000000000', 'value': '0', 'gasPrice': '1391056'}, 'fullQuoteDetails': {'quote': {'traceId': '37bed1c3-b9d8-4fa0-9f58-8a0ac44c5ca0', 'inTokens': ['0xd3dce716f3ef535c5ff8d041c1a41c3bd89b97ae'], 'outTokens': ['0x29219dd400f2bf60e5a23d13be72b486d4038894'], 'inAmounts': ['20240940282'], 'outAmounts': ['20220056231'], 'gasEstimate': 662408, 'dataGasEstimate': 0, 'gweiPerGas': 60, 'gasEstimateValue': 0.013299361817008092, 'inValues': [20223.74544409517], 'outValues': [20220.056231388902], 'netOutValue': 20220.042932027085, 'priceImpact': 0, 'percentDiff': -0.018241985474276134, 'permit2Message': None, 'permit2Hash': None, 'partnerFeePercent': 0, 'pathId': '0e2cfa07ad98318da33fbfc29f18255e', 'pathViz': None, 'blockNumber': 35728701}, 'tx': {'deprecated': None, 'traceId': 'ea1babce-2000-44d0-b6b7-10663c7e7a61', 'blockNumber': 35728701, 'gasEstimate': 662408, 'gasEstimateValue': 0.013299361817008092, 'inputTokens': [{'tokenAddress': '0xd3dce716f3ef535c5ff8d041c1a41c3bd89b97ae', 'amount': '20240940282'}], 'outputTokens': [{'tokenAddress': '0x29219dd400f2bf60e5a23d13be72b486d4038894', 'amount': '20220056231'}], 'netOutValue': 20220.042932027085, 'outValues': ['20220.056231388902'], 'transaction': {'gas': 1324816, 'gasPrice': 60000000000, 'value': '0', 'to': '0xaC041Df48dF9791B0654f1Dbbf2CC8450C5f2e9D', 'from': '0xAb9F53c36B9c82AbBe397742d4A0aD75Df33241c', 'data': '0x3b635ce4000000000000000000000000d3dce716f3ef535c5ff8d041c1a41c3bd89b97ae000000000000000000000000000000000000000000000000000000000000000000000000000000000000000046a405160258f071b5db777e0965c98133ea03a300000000000000000000000029219dd400f2bf60e5a23d13be72b486d403889400000000000000000000000000000000000000000000000000000004b53592a700000000000000000000000000000000000000000000000000000004af2ee7ad000000000000000000000000ab9f53c36b9c82abbe397742d4a0ad75df33241c000000000000000000000000000000000000000000000000000000000000014000000000000000000000000046a405160258f071b5db777e0965c98133ea03a30000000000000000000000000000000000000000000000000000000000000000000000000000000000000000000000000000000000000000000000000000011403020a0106f108620701010102cd4d2b142235d5650ffa6a38787ed0b7d7a51c0c000000000000000000000037011b4ee559210101030102000401175adf182101010501020607011d25111306010108010000060101090100ff000000000000d3dce716f3ef535c5ff8d041c1a41c3bd89b97ae29219dd400f2bf60e5a23d13be72b486d403889443026d483f42fb35efe03c20b251142d022783f27870ddfd5aca4e977b2287e9a212bcbe8fc4135a54ca9aad90324c022bbed0a94b7380c03aa5884ae6605932e4a686534d19005bb9db0fba1f1012726646248971427b80ce531bdd793e2eb859347e55dd35c88b1754879ef86bbf3a24f81fcca5eb6b5d2c13383855377faf5a562f1aef47e4be7a0f12ac000000000000000000000000', 'nonce': 1, 'chainId': 146}, 'simulation': None}}}}",
         null
        ],
        [
         "13",
         "5",
         "4626",
         "True",
         "0xAb9F53c36B9c82AbBe397742d4A0aD75Df33241c",
         "20217976705",
         "20319574577",
         "9999999999",
         "{'from': '0x000000000000000000000000000000000000dEaD', 'to': '0xAb9F53c36B9c82AbBe397742d4A0aD75Df33241c', 'data': '0x3efe5daa0000000000000000000000000000000000000000000000000000000000000020000000000000000000000000196f3c7443e940911ee2bb88e019fd71400349d900000000000000000000000000000000000000000000000000000004a817c80000000000000000000000000029219dd400f2bf60e5a23d13be72b486d403889400000000000000000000000000000000000000000000000000000004b515d78100000000000000000000000000000000000000000000000000000000000000e0000000000000000000000000000000000000000000000000000000000000014000000000000000000000000000000000000000000000000000000000685aeee00000000000000000000000000000000000000000000000000000000000000040000000000000000000000000000000000000000000000000000000000000000100000000000000000000000000000000000000000000000000000000000000000000000000000000000000000000000000000000000000000000000000000000', 'value': '0', 'gasPrice': '0'}",
         "{'redeem': True, 'swap': False}",
         "146",
         "gen3",
         "50",
         "0x000000000000000000000000000000000000dEaD",
         "0x196F3C7443E940911EE2Bb88e019Fd71400349D9",
         "0x29219dd400f2Bf60E5a23d13Be72B486D4038894",
         "20000000000",
         null,
         "Bebop",
         "True",
         null,
         "True",
         "0x196F3C7443E940911EE2Bb88e019Fd71400349D9",
         "146",
         "eUSDC.e-3",
         "EVK Vault eUSDC.e-3",
         "6",
         "{'redeem': True, 'swap': False}",
         null
        ],
        [
         "14",
         "6",
         "OpenOcean",
         "False",
         "0x98b55E07156895814d2503036dC635316F9C9502",
         "19993651367",
         "20114337391",
         "9999999999",
         "{'from': '0x000000000000000000000000000000000000dEaD', 'to': '0x6352a56caadC4F1E25CD6c75970Fa768A3304e64', 'data': '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', 'value': '0', 'gasPrice': '1050000000'}",
         "{'code': 200, 'data': {'inToken': {'address': '0x9fb76f7ce5FCeAA2C42887ff441D46095E494206', 'decimals': 6, 'symbol': 'wstkscUSD', 'name': 'Wrapped stkscUSD', 'usd': '1.009857', 'volume': 20197.14}, 'outToken': {'address': '0x29219dd400f2Bf60E5a23d13Be72B486D4038894', 'decimals': 6, 'symbol': 'USDC.e', 'name': 'Bridged USDC (Sonic Labs)', 'usd': '0.999997', 'volume': 20114.277047987827}, 'inAmount': '20000000000', 'outAmount': '20114337391', 'estimatedGas': 1100648, 'minOutAmount': '19993651367', 'from': '0x000000000000000000000000000000000000dEaD', 'to': '0x6352a56caadC4F1E25CD6c75970Fa768A3304e64', 'value': '0', 'gasPrice': '1000000000', 'data': '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', 'chainId': 146, 'rfqDeadline': 0, 'gmxFee': 0, 'blockNumber': 35728721, 'price_impact': '-0.42%'}}",
         "146",
         "gen3",
         "50",
         "0x000000000000000000000000000000000000dEaD",
         "0x9fb76f7ce5FCeAA2C42887ff441D46095E494206",
         "0x29219dd400f2Bf60E5a23d13Be72B486D4038894",
         "20000000000",
         null,
         "Bebop",
         "True",
         null,
         "True",
         "0x9fb76f7ce5FCeAA2C42887ff441D46095E494206",
         "146",
         "wstkscUSD",
         "Wrapped stkscUSD",
         "6",
         "{'code': 200, 'data': {'inToken': {'address': '0x9fb76f7ce5FCeAA2C42887ff441D46095E494206', 'decimals': 6, 'symbol': 'wstkscUSD', 'name': 'Wrapped stkscUSD', 'usd': '1.009857', 'volume': 20197.14}, 'outToken': {'address': '0x29219dd400f2Bf60E5a23d13Be72B486D4038894', 'decimals': 6, 'symbol': 'USDC.e', 'name': 'Bridged USDC (Sonic Labs)', 'usd': '0.999997', 'volume': 20114.277047987827}, 'inAmount': '20000000000', 'outAmount': '20114337391', 'estimatedGas': 1100648, 'minOutAmount': '19993651367', 'from': '0x000000000000000000000000000000000000dEaD', 'to': '0x6352a56caadC4F1E25CD6c75970Fa768A3304e64', 'value': '0', 'gasPrice': '1000000000', 'data': '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', 'chainId': 146, 'rfqDeadline': 0, 'gmxFee': 0, 'blockNumber': 35728721, 'price_impact': '-0.42%'}}",
         "35728721.0"
        ],
        [
         "15",
         "7",
         "OpenOcean",
         "False",
         "0x98b55E07156895814d2503036dC635316F9C9502",
         "19868898705",
         "19988831695",
         "9999999999",
         "{'from': '0x000000000000000000000000000000000000dEaD', 'to': '0x6352a56caadC4F1E25CD6c75970Fa768A3304e64', 'data': '0x90411a3200000000000000000000000012cfe671e9b186f21d9852d69bdbfe3f8ac9ecb1000000000000000000000000000000000000000000000000000000000000006000000000000000000000000000000000000000000000000000000000000001c000000000000000000000000080eede496655fb9047dd39d9f418d5483ed600df00000000000000000000000029219dd400f2bf60e5a23d13be72b486d403889400000000000000000000000012cfe671e9b186f21d9852d69bdbfe3f8ac9ecb1000000000000000000000000000000000000000000000000000000000000dead00000000000000000000000000000000000000000000043c33c193756480000000000000000000000000000000000000000000000000000000000004a047559100000000000000000000000000000000000000000000000000000004a63c5c700000000000000000000000000000000000000000000000000000000000000002000000000000000000000000514d564dbf278527bf62e1a20d6ee4f0d6b15e4a000000000000000000000000000000000000000000000000000000000000014000000000000000000000000000000000000000000000000000000000000000000000000000000000000000000000000000000000000000000000000000000008000000000000000000000000000000000000000000000000000000000000010000000000000000000000000000000000000000000000000000000000000002c00000000000000000000000000000000000000000000000000000000000000480000000000000000000000000000000000000000000000000000000000000078000000000000000000000000000000000000000000000000000000000000009e00000000000000000000000000000000000000000000000000000000000000ae00000000000000000000000000000000000000000000000000000000000000de00000000000000000000000000000000000000000000000000000000000000f0000000000000000000000000000000000000000000000000000000000000000000000000000000000000000000000000000000000000000000000000000000000000000000000000000000000000000000000000000000000000000000000000000000000000000000000000000000000000000000000000000000000000000800000000000000000000000000000000000000000000000000000000000000104e5b07cdb00000000000000000000000063a66dd60b0f2812249802477ada8a890a030eca00000000000000000000000000000000000000000000000000000000000000010000000000000000000000000000000000000000000002e141ea081ca080000000000000000000000000000012cfe671e9b186f21d9852d69bdbfe3f8ac9ecb100000000000000000000000000000000000000000000000000000000000000a0000000000000000000000000000000000000000000000000000000000000002e80eede496655fb9047dd39d9f418d5483ed600df000000d3dce716f3ef535c5ff8d041c1a41c3bd89b97ae0000340000000000000000000000000000000000000000000000000000000000000000000000000000000000000000000000000000000000000000000000000000000000000000000000000000000000000000000000000000000000000000000000000000000000000000000000000000000000000000000000000000000000000000000000000000000000000000000000000000000000000000000000000000000000000000000000000000000000800000000000000000000000000000000000000000000000000000000000000104e5b07cdb000000000000000000000000f28c748091fdab86d5120ab359fcb471daa6467d000000000000000000000000000000000000000000000000000000000000000100000000000000000000000000000000000000000000015af1d78b58c400000000000000000000000000000012cfe671e9b186f21d9852d69bdbfe3f8ac9ecb100000000000000000000000000000000000000000000000000000000000000a0000000000000000000000000000000000000000000000000000000000000002e80eede496655fb9047dd39d9f418d5483ed600df000001d3dce716f3ef535c5ff8d041c1a41c3bd89b97ae00003300000000000000000000000000000000000000000000000000000000000000000000000000000000000000000000000000000000000000000000000000000000000000000000000000000000000000000000000000000000000000000000000000000000000000000000000000000000000000000000000000000000000000000000000000000000000000000000000000000000000000000000000000000000000000000000000000000000008000000000000000000000000000000000000000000000000000000000000002449f865422000000000000000000000000d3dce716f3ef535c5ff8d041c1a41c3bd89b97ae00000000000000000000000000000015000000000000000000000000000000190000000000000000000000000000000000000000000000000000000000000080000000000000000000000000000000000000000000000000000000000000004400000000000000000000000000000000000000000000000000000000000000000000000000000000000000000000000000000000000000000000000000000000000000000000000000000000000000000000000000000000000000000000000000000000000000000000000000000000000000000000000000000000000000800000000000000000000000000000000000000000000000000000000000000104e5b07cdb0000000000000000000000002c13383855377faf5a562f1aef47e4be7a0f12ac0000000000000000000000000000000000000000000000000000000000000000000000000000000000000000000000000000000000000000000000000000000100000000000000000000000012cfe671e9b186f21d9852d69bdbfe3f8ac9ecb100000000000000000000000000000000000000000000000000000000000000a0000000000000000000000000000000000000000000000000000000000000002ed3dce716f3ef535c5ff8d041c1a41c3bd89b97ae00000529219dd400f2bf60e5a23d13be72b486d40388940000330000000000000000000000000000000000000000000000000000000000000000000000000000000000000000000000000000000000000000000000000000000000000000000000000000000000000000000000000000000000000000000000000000000000000000000000000000000000000000000000000000000000000000000000000000000000000000000000000000000000000000000000000000000000000000000000000000000000000000000000000000000000000000000000000000000000000000008000000000000000000000000000000000000000000000000000000000000001a49f865422000000000000000000000000d3dce716f3ef535c5ff8d041c1a41c3bd89b97ae00000000000000000000000000000003000000000000000000000000000000040000000000000000000000000000000000000000000000000000000000000080000000000000000000000000000000000000000000000000000000000000004400000000000000000000000000000000000000000000000000000000000000000000000000000000000000000000000000000000000000000000000000000000000000000000000000000000000000000000000000000000000000000000000000000000000000000000000000000000000000000000000000000000000000800000000000000000000000000000000000000000000000000000000000000064d1660f99000000000000000000000000d3dce716f3ef535c5ff8d041c1a41c3bd89b97ae0000000000000000000000005015643b8db50a1cb779a3e134176237d14ca67a000000000000000000000000000000000000000000000000000000000000000100000000000000000000000000000000000000000000000000000000000000000000000000000000000000000000000000000000000000000000000000000000000000005015643b8db50a1cb779a3e134176237d14ca67a000000000000000000000000000000000000000000000000000000000000000000000000000000000000000000000000000000000000000000000000000000000000000000000000000000000000000000000000000000000000000000000080000000000000000000000000000000000000000000000000000000000000004453c059a0000000000000000000000000000000000000000000000000000000000000000000000000000000000000000012cfe671e9b186f21d9852d69bdbfe3f8ac9ecb100000000000000000000000000000000000000000000000000000000000000000000000000000000000000000000000000000000000000000000000000000000000000000000000000000000000000000000000000000000000000000000000000000000000000000000000000000000000000000000000000000000000000000000000000000000000000000000000000000000000000000000008000000000000000000000000000000000000000000000000000000000000002449f865422000000000000000000000000d3dce716f3ef535c5ff8d041c1a41c3bd89b97ae00000000000000000000000000000001000000000000000000000000000000010000000000000000000000000000000000000000000000000000000000000080000000000000000000000000000000000000000000000000000000000000004400000000000000000000000000000000000000000000000000000000000000000000000000000000000000000000000000000000000000000000000000000000000000000000000000000000000000000000000000000000000000000000000000000000000000000000000000000000000000000000000000000000000000800000000000000000000000000000000000000000000000000000000000000104e5b07cdb000000000000000000000000dd35c88b1754879ef86bbf3a24f81fcca5eb6b5d0000000000000000000000000000000000000000000000000000000000000000000000000000000000000000000000000000000000000000000000000000000100000000000000000000000012cfe671e9b186f21d9852d69bdbfe3f8ac9ecb100000000000000000000000000000000000000000000000000000000000000a0000000000000000000000000000000000000000000000000000000000000002ed3dce716f3ef535c5ff8d041c1a41c3bd89b97ae00000029219dd400f2bf60e5a23d13be72b486d40388940000340000000000000000000000000000000000000000000000000000000000000000000000000000000000000000000000000000000000000000000000000000000000000000000000000000000000000000000000000000000000000000000000000000000000000000000000000000000000000000000000000000000000000000000000000000000000000000000000000000000000000000000000000000000000000000000000000000000000000000000000000000000000000000000000000000000000000000008000000000000000000000000000000000000000000000000000000000000000648a6a1e8500000000000000000000000029219dd400f2bf60e5a23d13be72b486d4038894000000000000000000000000922164bbbd36acf9e854acbbf32facc949fcaeef000a0000000000000000000000000000000000000000000000000004a76d5dcf00000000000000000000000000000000000000000000000000000000000000000000000000000000000000000000000000000000000000000000000000000000000000000000000000000000000000000000000000000000000000000000000000000000000000000000000000000000000000000000000000000000000000000000000000000000000000000000000000000000000000000000008000000000000000000000000000000000000000000000000000000000000001a49f86542200000000000000000000000029219dd400f2bf60e5a23d13be72b486d403889400000000000000000000000000000001000000000000000000000000000000010000000000000000000000000000000000000000000000000000000000000080000000000000000000000000000000000000000000000000000000000000004400000000000000000000000000000000000000000000000000000000000000000000000000000000000000000000000000000000000000000000000000000000000000000000000000000000000000000000000000000000000000000000000000000000000000000000000000000000000000000000000000000000000000800000000000000000000000000000000000000000000000000000000000000064d1660f9900000000000000000000000029219dd400f2bf60e5a23d13be72b486d4038894000000000000000000000000000000000000000000000000000000000000dead00000000000000000000000000000000000000000000000000000000000000010000000000000000000000000000000000000000000000000000000000000000000000000000000000000000000000000000000000000000', 'value': '0', 'gasPrice': '1050000000'}",
         "{'code': 200, 'data': {'inToken': {'address': '0x80Eede496655FB9047dd39d9f418d5483ED600df', 'decimals': 18, 'symbol': 'frxUSD', 'name': 'Frax USD', 'usd': '1.00372', 'volume': 20074.399999999998}, 'outToken': {'address': '0x29219dd400f2Bf60E5a23d13Be72B486D4038894', 'decimals': 6, 'symbol': 'USDC.e', 'name': 'Bridged USDC (Sonic Labs)', 'usd': '0.999997', 'volume': 19988.771728504915}, 'inAmount': '20000000000000000000000', 'outAmount': '19988831695', 'estimatedGas': 1341018, 'minOutAmount': '19868898705', 'from': '0x000000000000000000000000000000000000dEaD', 'to': '0x6352a56caadC4F1E25CD6c75970Fa768A3304e64', 'value': '0', 'gasPrice': '1000000000', 'data': '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', 'chainId': 146, 'rfqDeadline': 0, 'gmxFee': 0, 'blockNumber': 35728724, 'price_impact': '-0.43%'}}",
         "146",
         "gen3",
         "50",
         "0x000000000000000000000000000000000000dEaD",
         "0x80Eede496655FB9047dd39d9f418d5483ED600df",
         "0x29219dd400f2Bf60E5a23d13Be72B486D4038894",
         "20000000000000000000000",
         null,
         "Bebop",
         "True",
         null,
         "True",
         "0x80Eede496655FB9047dd39d9f418d5483ED600df",
         "146",
         "frxUSD",
         "Frax USD",
         "18",
         "{'code': 200, 'data': {'inToken': {'address': '0x80Eede496655FB9047dd39d9f418d5483ED600df', 'decimals': 18, 'symbol': 'frxUSD', 'name': 'Frax USD', 'usd': '1.00372', 'volume': 20074.399999999998}, 'outToken': {'address': '0x29219dd400f2Bf60E5a23d13Be72B486D4038894', 'decimals': 6, 'symbol': 'USDC.e', 'name': 'Bridged USDC (Sonic Labs)', 'usd': '0.999997', 'volume': 19988.771728504915}, 'inAmount': '20000000000000000000000', 'outAmount': '19988831695', 'estimatedGas': 1341018, 'minOutAmount': '19868898705', 'from': '0x000000000000000000000000000000000000dEaD', 'to': '0x6352a56caadC4F1E25CD6c75970Fa768A3304e64', 'value': '0', 'gasPrice': '1000000000', 'data': '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', 'chainId': 146, 'rfqDeadline': 0, 'gmxFee': 0, 'blockNumber': 35728724, 'price_impact': '-0.43%'}}",
         "35728724.0"
        ],
        [
         "16",
         "0",
         "OpenOcean",
         "False",
         "0x98b55E07156895814d2503036dC635316F9C9502",
         "19890258868",
         "20010320792",
         "9999999999",
         "{'from': '0x000000000000000000000000000000000000dEaD', 'to': '0x6352a56caadC4F1E25CD6c75970Fa768A3304e64', 'data': '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', 'value': '0', 'gasPrice': '1050000000'}",
         "{'code': 200, 'data': {'inToken': {'address': '0x6047828dc181963ba44974801FF68e538dA5eaF9', 'decimals': 6, 'symbol': 'USDT', 'name': 'Bridged USDT (Sonic Labs)', 'usd': '1.001', 'volume': 20019.999999999996}, 'outToken': {'address': '0x29219dd400f2Bf60E5a23d13Be72B486D4038894', 'decimals': 6, 'symbol': 'USDC.e', 'name': 'Bridged USDC (Sonic Labs)', 'usd': '0.999997', 'volume': 20010.26076103762}, 'inAmount': '20000000000', 'outAmount': '20010320792', 'estimatedGas': 560368, 'minOutAmount': '19890258868', 'from': '0x000000000000000000000000000000000000dEaD', 'to': '0x6352a56caadC4F1E25CD6c75970Fa768A3304e64', 'value': '0', 'gasPrice': '1000000000', 'data': '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', 'chainId': 146, 'rfqDeadline': 0, 'gmxFee': 0, 'blockNumber': 35728941, 'price_impact': '-0.05%'}}",
         "146",
         "gen3",
         "50",
         "0x000000000000000000000000000000000000dEaD",
         "0x6047828dc181963ba44974801FF68e538dA5eaF9",
         "0x29219dd400f2Bf60E5a23d13Be72B486D4038894",
         "20000000000",
         null,
         "Bebop",
         "True",
         null,
         "True",
         "0x6047828dc181963ba44974801FF68e538dA5eaF9",
         "146",
         "USDT",
         "Tether USD",
         "6",
         "{'code': 200, 'data': {'inToken': {'address': '0x6047828dc181963ba44974801FF68e538dA5eaF9', 'decimals': 6, 'symbol': 'USDT', 'name': 'Bridged USDT (Sonic Labs)', 'usd': '1.001', 'volume': 20019.999999999996}, 'outToken': {'address': '0x29219dd400f2Bf60E5a23d13Be72B486D4038894', 'decimals': 6, 'symbol': 'USDC.e', 'name': 'Bridged USDC (Sonic Labs)', 'usd': '0.999997', 'volume': 20010.26076103762}, 'inAmount': '20000000000', 'outAmount': '20010320792', 'estimatedGas': 560368, 'minOutAmount': '19890258868', 'from': '0x000000000000000000000000000000000000dEaD', 'to': '0x6352a56caadC4F1E25CD6c75970Fa768A3304e64', 'value': '0', 'gasPrice': '1000000000', 'data': '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', 'chainId': 146, 'rfqDeadline': 0, 'gmxFee': 0, 'blockNumber': 35728941, 'price_impact': '-0.05%'}}",
         "35728941.0"
        ],
        [
         "17",
         "1",
         "4626",
         "True",
         "0xAb9F53c36B9c82AbBe397742d4A0aD75Df33241c",
         "20035044391",
         "20135723006",
         "9999999999",
         "{'from': '0x000000000000000000000000000000000000dEaD', 'to': '0xAb9F53c36B9c82AbBe397742d4A0aD75Df33241c', 'data': '0x3efe5daa00000000000000000000000000000000000000000000000000000000000000200000000000000000000000003d9e5462a940684073eed7e4a13d19ae0dcd13bc00000000000000000000000000000000000000000000000000000004a817c80000000000000000000000000029219dd400f2bf60e5a23d13be72b486d403889400000000000000000000000000000000000000000000000000000004aa2e842700000000000000000000000000000000000000000000000000000000000000e0000000000000000000000000000000000000000000000000000000000000014000000000000000000000000000000000000000000000000000000000685aef5d0000000000000000000000000000000000000000000000000000000000000040000000000000000000000000000000000000000000000000000000000000000100000000000000000000000000000000000000000000000000000000000000000000000000000000000000000000000000000000000000000000000000000000', 'value': '0', 'gasPrice': '0'}",
         "{'redeem': True, 'swap': False}",
         "146",
         "gen3",
         "50",
         "0x000000000000000000000000000000000000dEaD",
         "0x3D9e5462A940684073EED7e4a13d19AE0Dcd13bc",
         "0x29219dd400f2Bf60E5a23d13Be72B486D4038894",
         "20000000000",
         null,
         "Bebop",
         "True",
         null,
         "True",
         "0x3D9e5462A940684073EED7e4a13d19AE0Dcd13bc",
         "146",
         "eUSDC.e-2",
         "EVK Vault eUSDC.e-2",
         "6",
         "{'redeem': True, 'swap': False}",
         null
        ],
        [
         "18",
         "2",
         "Odos",
         "False",
         "0x6D13DB293B4b6B9AA1760f7e093Fb26C24F345B2",
         "19879607207",
         "19979504730",
         "9999999999",
         "{'from': '0x000000000000000000000000000000000000dEaD', 'to': '0xaC041Df48dF9791B0654f1Dbbf2CC8450C5f2e9D', 'data': '0x3b635ce4000000000000000000000000d3dce716f3ef535c5ff8d041c1a41c3bd89b97ae000000000000000000000000000000000000000000000000000000000000000000000000000000000000000046a405160258f071b5db777e0965c98133ea03a300000000000000000000000029219dd400f2bf60e5a23d13be72b486d403889400000000000000000000000000000000000000000000000000000004a6df0c5a00000000000000000000000000000000000000000000000000000004a0eabba6000000000000000000000000000000000000000000000000000000000000dead000000000000000000000000000000000000000000000000000000000000014000000000000000000000000046a405160258f071b5db777e0965c98133ea03a30000000000000000000000000000000000000000000000000000000000000000000000000000000000000000000000000000000000000000000000000000011403020a0108a74c900701010102cd4d2b142235d5650ffa6a38787ed0b7d7a51c0c00000000000000000000003701234d7b452101010301020004013197e0132101010501020607011461b17206010108010000060101090100ff000000000000d3dce716f3ef535c5ff8d041c1a41c3bd89b97ae29219dd400f2bf60e5a23d13be72b486d403889443026d483f42fb35efe03c20b251142d022783f27870ddfd5aca4e977b2287e9a212bcbe8fc4135a54ca9aad90324c022bbed0a94b7380c03aa5884ae6605932e4a686534d19005bb9db0fba1f1012726646248971427b80ce531bdd793e2eb859347e55dd35c88b1754879ef86bbf3a24f81fcca5eb6b5d2c13383855377faf5a562f1aef47e4be7a0f12ac000000000000000000000000', 'value': '0', 'gasPrice': '1391056'}",
         "{'quote': {'traceId': '39aa2864-0c96-4fc6-a32f-3a27b6421dab', 'inTokens': ['0xd3dce716f3ef535c5ff8d041c1a41c3bd89b97ae'], 'outTokens': ['0x29219dd400f2bf60e5a23d13be72b486d4038894'], 'inAmounts': ['20000000000'], 'outAmounts': ['19979504730'], 'gasEstimate': 662408, 'dataGasEstimate': 0, 'gweiPerGas': 60, 'gasEstimateValue': 0.013297602427424912, 'inValues': [19985.590614561715], 'outValues': [19979.504730599707], 'netOutValue': 19979.491432997278, 'priceImpact': 0, 'percentDiff': -0.030451359078540463, 'permit2Message': None, 'permit2Hash': None, 'partnerFeePercent': 0, 'pathId': '281ae4110b7a814025ef86b5602aa2ed', 'pathViz': None, 'blockNumber': 35728934}, 'tx': {'deprecated': None, 'traceId': '6a2d2583-01a9-4c0d-9ddb-e11f3466dd0d', 'blockNumber': 35728934, 'gasEstimate': 662408, 'gasEstimateValue': 0.013297602427424912, 'inputTokens': [{'tokenAddress': '0xd3dce716f3ef535c5ff8d041c1a41c3bd89b97ae', 'amount': '20000000000'}], 'outputTokens': [{'tokenAddress': '0x29219dd400f2bf60e5a23d13be72b486d4038894', 'amount': '19979504730'}], 'netOutValue': 19979.491432997278, 'outValues': ['19979.504730599707'], 'transaction': {'gas': 1324816, 'gasPrice': 60000000000, 'value': '0', 'to': '0xaC041Df48dF9791B0654f1Dbbf2CC8450C5f2e9D', 'from': '0x000000000000000000000000000000000000dEaD', 'data': '0x3b635ce4000000000000000000000000d3dce716f3ef535c5ff8d041c1a41c3bd89b97ae000000000000000000000000000000000000000000000000000000000000000000000000000000000000000046a405160258f071b5db777e0965c98133ea03a300000000000000000000000029219dd400f2bf60e5a23d13be72b486d403889400000000000000000000000000000000000000000000000000000004a6df0c5a00000000000000000000000000000000000000000000000000000004a0eabba6000000000000000000000000000000000000000000000000000000000000dead000000000000000000000000000000000000000000000000000000000000014000000000000000000000000046a405160258f071b5db777e0965c98133ea03a30000000000000000000000000000000000000000000000000000000000000000000000000000000000000000000000000000000000000000000000000000011403020a0108a74c900701010102cd4d2b142235d5650ffa6a38787ed0b7d7a51c0c00000000000000000000003701234d7b452101010301020004013197e0132101010501020607011461b17206010108010000060101090100ff000000000000d3dce716f3ef535c5ff8d041c1a41c3bd89b97ae29219dd400f2bf60e5a23d13be72b486d403889443026d483f42fb35efe03c20b251142d022783f27870ddfd5aca4e977b2287e9a212bcbe8fc4135a54ca9aad90324c022bbed0a94b7380c03aa5884ae6605932e4a686534d19005bb9db0fba1f1012726646248971427b80ce531bdd793e2eb859347e55dd35c88b1754879ef86bbf3a24f81fcca5eb6b5d2c13383855377faf5a562f1aef47e4be7a0f12ac000000000000000000000000', 'nonce': 0, 'chainId': 146}, 'simulation': None}}",
         "146",
         "gen3",
         "50",
         "0x000000000000000000000000000000000000dEaD",
         "0xd3DCe716f3eF535C5Ff8d041c1A41C3bd89b97aE",
         "0x29219dd400f2Bf60E5a23d13Be72B486D4038894",
         "20000000000",
         null,
         "Bebop",
         "True",
         null,
         "True",
         "0xd3DCe716f3eF535C5Ff8d041c1A41C3bd89b97aE",
         "146",
         "scUSD",
         "Sonic USD",
         "6",
         "{'quote': {'traceId': '39aa2864-0c96-4fc6-a32f-3a27b6421dab', 'inTokens': ['0xd3dce716f3ef535c5ff8d041c1a41c3bd89b97ae'], 'outTokens': ['0x29219dd400f2bf60e5a23d13be72b486d4038894'], 'inAmounts': ['20000000000'], 'outAmounts': ['19979504730'], 'gasEstimate': 662408, 'dataGasEstimate': 0, 'gweiPerGas': 60, 'gasEstimateValue': 0.013297602427424912, 'inValues': [19985.590614561715], 'outValues': [19979.504730599707], 'netOutValue': 19979.491432997278, 'priceImpact': 0, 'percentDiff': -0.030451359078540463, 'permit2Message': None, 'permit2Hash': None, 'partnerFeePercent': 0, 'pathId': '281ae4110b7a814025ef86b5602aa2ed', 'pathViz': None, 'blockNumber': 35728934}, 'tx': {'deprecated': None, 'traceId': '6a2d2583-01a9-4c0d-9ddb-e11f3466dd0d', 'blockNumber': 35728934, 'gasEstimate': 662408, 'gasEstimateValue': 0.013297602427424912, 'inputTokens': [{'tokenAddress': '0xd3dce716f3ef535c5ff8d041c1a41c3bd89b97ae', 'amount': '20000000000'}], 'outputTokens': [{'tokenAddress': '0x29219dd400f2bf60e5a23d13be72b486d4038894', 'amount': '19979504730'}], 'netOutValue': 19979.491432997278, 'outValues': ['19979.504730599707'], 'transaction': {'gas': 1324816, 'gasPrice': 60000000000, 'value': '0', 'to': '0xaC041Df48dF9791B0654f1Dbbf2CC8450C5f2e9D', 'from': '0x000000000000000000000000000000000000dEaD', 'data': '0x3b635ce4000000000000000000000000d3dce716f3ef535c5ff8d041c1a41c3bd89b97ae000000000000000000000000000000000000000000000000000000000000000000000000000000000000000046a405160258f071b5db777e0965c98133ea03a300000000000000000000000029219dd400f2bf60e5a23d13be72b486d403889400000000000000000000000000000000000000000000000000000004a6df0c5a00000000000000000000000000000000000000000000000000000004a0eabba6000000000000000000000000000000000000000000000000000000000000dead000000000000000000000000000000000000000000000000000000000000014000000000000000000000000046a405160258f071b5db777e0965c98133ea03a30000000000000000000000000000000000000000000000000000000000000000000000000000000000000000000000000000000000000000000000000000011403020a0108a74c900701010102cd4d2b142235d5650ffa6a38787ed0b7d7a51c0c00000000000000000000003701234d7b452101010301020004013197e0132101010501020607011461b17206010108010000060101090100ff000000000000d3dce716f3ef535c5ff8d041c1a41c3bd89b97ae29219dd400f2bf60e5a23d13be72b486d403889443026d483f42fb35efe03c20b251142d022783f27870ddfd5aca4e977b2287e9a212bcbe8fc4135a54ca9aad90324c022bbed0a94b7380c03aa5884ae6605932e4a686534d19005bb9db0fba1f1012726646248971427b80ce531bdd793e2eb859347e55dd35c88b1754879ef86bbf3a24f81fcca5eb6b5d2c13383855377faf5a562f1aef47e4be7a0f12ac000000000000000000000000', 'nonce': 0, 'chainId': 146}, 'simulation': None}}",
         "35728934.0"
        ],
        [
         "19",
         "3",
         "4626",
         "True",
         "0xAb9F53c36B9c82AbBe397742d4A0aD75Df33241c",
         "20092153807",
         "20193119404",
         "9999999999",
         "{'from': '0x000000000000000000000000000000000000dEaD', 'to': '0xAb9F53c36B9c82AbBe397742d4A0aD75Df33241c', 'data': '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', 'value': '0', 'gasPrice': '0'}",
         "{'redeem': True, 'swap': True, 'underlyingQuote': {'aggregatorName': 'Odos', 'internal': False, 'asyncSwapper': '0x6D13DB293B4b6B9AA1760f7e093Fb26C24F345B2', 'minBuyAmount': '20092153807', 'buyAmount': '20193119404', 'expiration': 9999999999, 'tx': {'from': '0xAb9F53c36B9c82AbBe397742d4A0aD75Df33241c', 'to': '0xaC041Df48dF9791B0654f1Dbbf2CC8450C5f2e9D', 'data': '0x3b635ce4000000000000000000000000d3dce716f3ef535c5ff8d041c1a41c3bd89b97ae000000000000000000000000000000000000000000000000000000000000000000000000000000000000000046a405160258f071b5db777e0965c98133ea03a300000000000000000000000029219dd400f2bf60e5a23d13be72b486d403889400000000000000000000000000000000000000000000000000000004b39a8cac00000000000000000000000000000000000000000000000000000004ad95efce000000000000000000000000ab9f53c36b9c82abbe397742d4a0ad75df33241c000000000000000000000000000000000000000000000000000000000000014000000000000000000000000046a405160258f071b5db777e0965c98133ea03a30000000000000000000000000000000000000000000000000000000000000000000000000000000000000000000000000000000000000000000000000000011403020a010894a9440701010102cd4d2b142235d5650ffa6a38787ed0b7d7a51c0c0000000000000000000000370123007c222101010301020004013121f88d21010105010206070115279c2906010108010000060101090100ff000000000000d3dce716f3ef535c5ff8d041c1a41c3bd89b97ae29219dd400f2bf60e5a23d13be72b486d403889443026d483f42fb35efe03c20b251142d022783f27870ddfd5aca4e977b2287e9a212bcbe8fc4135a54ca9aad90324c022bbed0a94b7380c03aa5884ae6605932e4a686534d19005bb9db0fba1f1012726646248971427b80ce531bdd793e2eb859347e55dd35c88b1754879ef86bbf3a24f81fcca5eb6b5d2c13383855377faf5a562f1aef47e4be7a0f12ac000000000000000000000000', 'value': '0', 'gasPrice': '1391031'}, 'fullQuoteDetails': {'quote': {'traceId': '62a64820-6dea-4fc8-8292-ce3f52de678b', 'inTokens': ['0xd3dce716f3ef535c5ff8d041c1a41c3bd89b97ae'], 'outTokens': ['0x29219dd400f2bf60e5a23d13be72b486d4038894'], 'inAmounts': ['20213837441'], 'outAmounts': ['20193119404'], 'gasEstimate': 662396, 'dataGasEstimate': 0, 'gweiPerGas': 60, 'gasEstimateValue': 0.013296212856726091, 'inValues': [20199.768795200103], 'outValues': [20193.119404221354], 'netOutValue': 20193.1061080085, 'priceImpact': 0, 'percentDiff': -0.03291815389654573, 'permit2Message': None, 'permit2Hash': None, 'partnerFeePercent': 0, 'pathId': 'bba64e2cb3b6d4de71da5f3a08755e57', 'pathViz': None, 'blockNumber': 35728934}, 'tx': {'deprecated': None, 'traceId': '3c656902-ec72-4790-9a8e-fec4b1c9bc29', 'blockNumber': 35728934, 'gasEstimate': 662396, 'gasEstimateValue': 0.013296212856726091, 'inputTokens': [{'tokenAddress': '0xd3dce716f3ef535c5ff8d041c1a41c3bd89b97ae', 'amount': '20213837441'}], 'outputTokens': [{'tokenAddress': '0x29219dd400f2bf60e5a23d13be72b486d4038894', 'amount': '20193119404'}], 'netOutValue': 20193.1061080085, 'outValues': ['20193.119404221354'], 'transaction': {'gas': 1324792, 'gasPrice': 60000000000, 'value': '0', 'to': '0xaC041Df48dF9791B0654f1Dbbf2CC8450C5f2e9D', 'from': '0xAb9F53c36B9c82AbBe397742d4A0aD75Df33241c', 'data': '0x3b635ce4000000000000000000000000d3dce716f3ef535c5ff8d041c1a41c3bd89b97ae000000000000000000000000000000000000000000000000000000000000000000000000000000000000000046a405160258f071b5db777e0965c98133ea03a300000000000000000000000029219dd400f2bf60e5a23d13be72b486d403889400000000000000000000000000000000000000000000000000000004b39a8cac00000000000000000000000000000000000000000000000000000004ad95efce000000000000000000000000ab9f53c36b9c82abbe397742d4a0ad75df33241c000000000000000000000000000000000000000000000000000000000000014000000000000000000000000046a405160258f071b5db777e0965c98133ea03a30000000000000000000000000000000000000000000000000000000000000000000000000000000000000000000000000000000000000000000000000000011403020a010894a9440701010102cd4d2b142235d5650ffa6a38787ed0b7d7a51c0c0000000000000000000000370123007c222101010301020004013121f88d21010105010206070115279c2906010108010000060101090100ff000000000000d3dce716f3ef535c5ff8d041c1a41c3bd89b97ae29219dd400f2bf60e5a23d13be72b486d403889443026d483f42fb35efe03c20b251142d022783f27870ddfd5aca4e977b2287e9a212bcbe8fc4135a54ca9aad90324c022bbed0a94b7380c03aa5884ae6605932e4a686534d19005bb9db0fba1f1012726646248971427b80ce531bdd793e2eb859347e55dd35c88b1754879ef86bbf3a24f81fcca5eb6b5d2c13383855377faf5a562f1aef47e4be7a0f12ac000000000000000000000000', 'nonce': 1, 'chainId': 146}, 'simulation': None}}}}",
         "146",
         "gen3",
         "50",
         "0x000000000000000000000000000000000000dEaD",
         "0xeEb1DC1Ca7ffC5b54aD1cc4c1088Db4E5657Cb6c",
         "0x29219dd400f2Bf60E5a23d13Be72B486D4038894",
         "20000000000",
         null,
         "Bebop",
         "True",
         null,
         "True",
         "0xeEb1DC1Ca7ffC5b54aD1cc4c1088Db4E5657Cb6c",
         "146",
         "escUSD-1",
         "EVK Vault escUSD-1",
         "6",
         "{'redeem': True, 'swap': True, 'underlyingQuote': {'aggregatorName': 'Odos', 'internal': False, 'asyncSwapper': '0x6D13DB293B4b6B9AA1760f7e093Fb26C24F345B2', 'minBuyAmount': '20092153807', 'buyAmount': '20193119404', 'expiration': 9999999999, 'tx': {'from': '0xAb9F53c36B9c82AbBe397742d4A0aD75Df33241c', 'to': '0xaC041Df48dF9791B0654f1Dbbf2CC8450C5f2e9D', 'data': '0x3b635ce4000000000000000000000000d3dce716f3ef535c5ff8d041c1a41c3bd89b97ae000000000000000000000000000000000000000000000000000000000000000000000000000000000000000046a405160258f071b5db777e0965c98133ea03a300000000000000000000000029219dd400f2bf60e5a23d13be72b486d403889400000000000000000000000000000000000000000000000000000004b39a8cac00000000000000000000000000000000000000000000000000000004ad95efce000000000000000000000000ab9f53c36b9c82abbe397742d4a0ad75df33241c000000000000000000000000000000000000000000000000000000000000014000000000000000000000000046a405160258f071b5db777e0965c98133ea03a30000000000000000000000000000000000000000000000000000000000000000000000000000000000000000000000000000000000000000000000000000011403020a010894a9440701010102cd4d2b142235d5650ffa6a38787ed0b7d7a51c0c0000000000000000000000370123007c222101010301020004013121f88d21010105010206070115279c2906010108010000060101090100ff000000000000d3dce716f3ef535c5ff8d041c1a41c3bd89b97ae29219dd400f2bf60e5a23d13be72b486d403889443026d483f42fb35efe03c20b251142d022783f27870ddfd5aca4e977b2287e9a212bcbe8fc4135a54ca9aad90324c022bbed0a94b7380c03aa5884ae6605932e4a686534d19005bb9db0fba1f1012726646248971427b80ce531bdd793e2eb859347e55dd35c88b1754879ef86bbf3a24f81fcca5eb6b5d2c13383855377faf5a562f1aef47e4be7a0f12ac000000000000000000000000', 'value': '0', 'gasPrice': '1391031'}, 'fullQuoteDetails': {'quote': {'traceId': '62a64820-6dea-4fc8-8292-ce3f52de678b', 'inTokens': ['0xd3dce716f3ef535c5ff8d041c1a41c3bd89b97ae'], 'outTokens': ['0x29219dd400f2bf60e5a23d13be72b486d4038894'], 'inAmounts': ['20213837441'], 'outAmounts': ['20193119404'], 'gasEstimate': 662396, 'dataGasEstimate': 0, 'gweiPerGas': 60, 'gasEstimateValue': 0.013296212856726091, 'inValues': [20199.768795200103], 'outValues': [20193.119404221354], 'netOutValue': 20193.1061080085, 'priceImpact': 0, 'percentDiff': -0.03291815389654573, 'permit2Message': None, 'permit2Hash': None, 'partnerFeePercent': 0, 'pathId': 'bba64e2cb3b6d4de71da5f3a08755e57', 'pathViz': None, 'blockNumber': 35728934}, 'tx': {'deprecated': None, 'traceId': '3c656902-ec72-4790-9a8e-fec4b1c9bc29', 'blockNumber': 35728934, 'gasEstimate': 662396, 'gasEstimateValue': 0.013296212856726091, 'inputTokens': [{'tokenAddress': '0xd3dce716f3ef535c5ff8d041c1a41c3bd89b97ae', 'amount': '20213837441'}], 'outputTokens': [{'tokenAddress': '0x29219dd400f2bf60e5a23d13be72b486d4038894', 'amount': '20193119404'}], 'netOutValue': 20193.1061080085, 'outValues': ['20193.119404221354'], 'transaction': {'gas': 1324792, 'gasPrice': 60000000000, 'value': '0', 'to': '0xaC041Df48dF9791B0654f1Dbbf2CC8450C5f2e9D', 'from': '0xAb9F53c36B9c82AbBe397742d4A0aD75Df33241c', 'data': '0x3b635ce4000000000000000000000000d3dce716f3ef535c5ff8d041c1a41c3bd89b97ae000000000000000000000000000000000000000000000000000000000000000000000000000000000000000046a405160258f071b5db777e0965c98133ea03a300000000000000000000000029219dd400f2bf60e5a23d13be72b486d403889400000000000000000000000000000000000000000000000000000004b39a8cac00000000000000000000000000000000000000000000000000000004ad95efce000000000000000000000000ab9f53c36b9c82abbe397742d4a0ad75df33241c000000000000000000000000000000000000000000000000000000000000014000000000000000000000000046a405160258f071b5db777e0965c98133ea03a30000000000000000000000000000000000000000000000000000000000000000000000000000000000000000000000000000000000000000000000000000011403020a010894a9440701010102cd4d2b142235d5650ffa6a38787ed0b7d7a51c0c0000000000000000000000370123007c222101010301020004013121f88d21010105010206070115279c2906010108010000060101090100ff000000000000d3dce716f3ef535c5ff8d041c1a41c3bd89b97ae29219dd400f2bf60e5a23d13be72b486d403889443026d483f42fb35efe03c20b251142d022783f27870ddfd5aca4e977b2287e9a212bcbe8fc4135a54ca9aad90324c022bbed0a94b7380c03aa5884ae6605932e4a686534d19005bb9db0fba1f1012726646248971427b80ce531bdd793e2eb859347e55dd35c88b1754879ef86bbf3a24f81fcca5eb6b5d2c13383855377faf5a562f1aef47e4be7a0f12ac000000000000000000000000', 'nonce': 1, 'chainId': 146}, 'simulation': None}}}}",
         null
        ],
        [
         "20",
         "4",
         "4626",
         "True",
         "0xAb9F53c36B9c82AbBe397742d4A0aD75Df33241c",
         "20119097117",
         "20220198107",
         "9999999999",
         "{'from': '0x000000000000000000000000000000000000dEaD', 'to': '0xAb9F53c36B9c82AbBe397742d4A0aD75Df33241c', 'data': '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', 'value': '0', 'gasPrice': '0'}",
         "{'redeem': True, 'swap': True, 'underlyingQuote': {'aggregatorName': 'Odos', 'internal': False, 'asyncSwapper': '0x6D13DB293B4b6B9AA1760f7e093Fb26C24F345B2', 'minBuyAmount': '20119097117', 'buyAmount': '20220198107', 'expiration': 9999999999, 'tx': {'from': '0xAb9F53c36B9c82AbBe397742d4A0aD75Df33241c', 'to': '0xaC041Df48dF9791B0654f1Dbbf2CC8450C5f2e9D', 'data': '0x3b635ce4000000000000000000000000d3dce716f3ef535c5ff8d041c1a41c3bd89b97ae000000000000000000000000000000000000000000000000000000000000000000000000000000000000000046a405160258f071b5db777e0965c98133ea03a300000000000000000000000029219dd400f2bf60e5a23d13be72b486d403889400000000000000000000000000000000000000000000000000000004b537bcdb00000000000000000000000000000000000000000000000000000004af310f1c000000000000000000000000ab9f53c36b9c82abbe397742d4a0ad75df33241c000000000000000000000000000000000000000000000000000000000000014000000000000000000000000046a405160258f071b5db777e0965c98133ea03a30000000000000000000000000000000000000000000000000000000000000000000000000000000000000000000000000000000000000000000000000000011403020a01089257ea0701010102cd4d2b142235d5650ffa6a38787ed0b7d7a51c0c0000000000000000000000370122f739bd2101010301020004013113a26a21010105010206070115406cc306010108010000060101090100ff000000000000d3dce716f3ef535c5ff8d041c1a41c3bd89b97ae29219dd400f2bf60e5a23d13be72b486d403889443026d483f42fb35efe03c20b251142d022783f27870ddfd5aca4e977b2287e9a212bcbe8fc4135a54ca9aad90324c022bbed0a94b7380c03aa5884ae6605932e4a686534d19005bb9db0fba1f1012726646248971427b80ce531bdd793e2eb859347e55dd35c88b1754879ef86bbf3a24f81fcca5eb6b5d2c13383855377faf5a562f1aef47e4be7a0f12ac000000000000000000000000', 'value': '0', 'gasPrice': '1391056'}, 'fullQuoteDetails': {'quote': {'traceId': '0e29f65c-051a-485f-a2ad-a13555ad619d', 'inTokens': ['0xd3dce716f3ef535c5ff8d041c1a41c3bd89b97ae'], 'outTokens': ['0x29219dd400f2bf60e5a23d13be72b486d4038894'], 'inAmounts': ['20240944386'], 'outAmounts': ['20220198107'], 'gasEstimate': 662408, 'dataGasEstimate': 0, 'gweiPerGas': 60, 'gasEstimateValue': 0.013297602427424912, 'inValues': [20226.361407535387], 'outValues': [20220.19810742888], 'netOutValue': 20220.184809826453, 'priceImpact': 0, 'percentDiff': -0.030471620586240533, 'permit2Message': None, 'permit2Hash': None, 'partnerFeePercent': 0, 'pathId': '6b2e5f0b6c54b757fb0beb2af591c027', 'pathViz': None, 'blockNumber': 35728934}, 'tx': {'deprecated': None, 'traceId': 'ab109ba5-3854-4b8e-b673-1bde7332418e', 'blockNumber': 35728934, 'gasEstimate': 662408, 'gasEstimateValue': 0.013297602427424912, 'inputTokens': [{'tokenAddress': '0xd3dce716f3ef535c5ff8d041c1a41c3bd89b97ae', 'amount': '20240944386'}], 'outputTokens': [{'tokenAddress': '0x29219dd400f2bf60e5a23d13be72b486d4038894', 'amount': '20220198107'}], 'netOutValue': 20220.184809826453, 'outValues': ['20220.19810742888'], 'transaction': {'gas': 1324816, 'gasPrice': 60000000000, 'value': '0', 'to': '0xaC041Df48dF9791B0654f1Dbbf2CC8450C5f2e9D', 'from': '0xAb9F53c36B9c82AbBe397742d4A0aD75Df33241c', 'data': '0x3b635ce4000000000000000000000000d3dce716f3ef535c5ff8d041c1a41c3bd89b97ae000000000000000000000000000000000000000000000000000000000000000000000000000000000000000046a405160258f071b5db777e0965c98133ea03a300000000000000000000000029219dd400f2bf60e5a23d13be72b486d403889400000000000000000000000000000000000000000000000000000004b537bcdb00000000000000000000000000000000000000000000000000000004af310f1c000000000000000000000000ab9f53c36b9c82abbe397742d4a0ad75df33241c000000000000000000000000000000000000000000000000000000000000014000000000000000000000000046a405160258f071b5db777e0965c98133ea03a30000000000000000000000000000000000000000000000000000000000000000000000000000000000000000000000000000000000000000000000000000011403020a01089257ea0701010102cd4d2b142235d5650ffa6a38787ed0b7d7a51c0c0000000000000000000000370122f739bd2101010301020004013113a26a21010105010206070115406cc306010108010000060101090100ff000000000000d3dce716f3ef535c5ff8d041c1a41c3bd89b97ae29219dd400f2bf60e5a23d13be72b486d403889443026d483f42fb35efe03c20b251142d022783f27870ddfd5aca4e977b2287e9a212bcbe8fc4135a54ca9aad90324c022bbed0a94b7380c03aa5884ae6605932e4a686534d19005bb9db0fba1f1012726646248971427b80ce531bdd793e2eb859347e55dd35c88b1754879ef86bbf3a24f81fcca5eb6b5d2c13383855377faf5a562f1aef47e4be7a0f12ac000000000000000000000000', 'nonce': 1, 'chainId': 146}, 'simulation': None}}}}",
         "146",
         "gen3",
         "50",
         "0x000000000000000000000000000000000000dEaD",
         "0xB38D431e932fEa77d1dF0AE0dFE4400c97e597B8",
         "0x29219dd400f2Bf60E5a23d13Be72B486D4038894",
         "20000000000",
         null,
         "Bebop",
         "True",
         null,
         "True",
         "0xB38D431e932fEa77d1dF0AE0dFE4400c97e597B8",
         "146",
         "escUSD-2",
         "EVK Vault escUSD-2",
         "6",
         "{'redeem': True, 'swap': True, 'underlyingQuote': {'aggregatorName': 'Odos', 'internal': False, 'asyncSwapper': '0x6D13DB293B4b6B9AA1760f7e093Fb26C24F345B2', 'minBuyAmount': '20119097117', 'buyAmount': '20220198107', 'expiration': 9999999999, 'tx': {'from': '0xAb9F53c36B9c82AbBe397742d4A0aD75Df33241c', 'to': '0xaC041Df48dF9791B0654f1Dbbf2CC8450C5f2e9D', 'data': '0x3b635ce4000000000000000000000000d3dce716f3ef535c5ff8d041c1a41c3bd89b97ae000000000000000000000000000000000000000000000000000000000000000000000000000000000000000046a405160258f071b5db777e0965c98133ea03a300000000000000000000000029219dd400f2bf60e5a23d13be72b486d403889400000000000000000000000000000000000000000000000000000004b537bcdb00000000000000000000000000000000000000000000000000000004af310f1c000000000000000000000000ab9f53c36b9c82abbe397742d4a0ad75df33241c000000000000000000000000000000000000000000000000000000000000014000000000000000000000000046a405160258f071b5db777e0965c98133ea03a30000000000000000000000000000000000000000000000000000000000000000000000000000000000000000000000000000000000000000000000000000011403020a01089257ea0701010102cd4d2b142235d5650ffa6a38787ed0b7d7a51c0c0000000000000000000000370122f739bd2101010301020004013113a26a21010105010206070115406cc306010108010000060101090100ff000000000000d3dce716f3ef535c5ff8d041c1a41c3bd89b97ae29219dd400f2bf60e5a23d13be72b486d403889443026d483f42fb35efe03c20b251142d022783f27870ddfd5aca4e977b2287e9a212bcbe8fc4135a54ca9aad90324c022bbed0a94b7380c03aa5884ae6605932e4a686534d19005bb9db0fba1f1012726646248971427b80ce531bdd793e2eb859347e55dd35c88b1754879ef86bbf3a24f81fcca5eb6b5d2c13383855377faf5a562f1aef47e4be7a0f12ac000000000000000000000000', 'value': '0', 'gasPrice': '1391056'}, 'fullQuoteDetails': {'quote': {'traceId': '0e29f65c-051a-485f-a2ad-a13555ad619d', 'inTokens': ['0xd3dce716f3ef535c5ff8d041c1a41c3bd89b97ae'], 'outTokens': ['0x29219dd400f2bf60e5a23d13be72b486d4038894'], 'inAmounts': ['20240944386'], 'outAmounts': ['20220198107'], 'gasEstimate': 662408, 'dataGasEstimate': 0, 'gweiPerGas': 60, 'gasEstimateValue': 0.013297602427424912, 'inValues': [20226.361407535387], 'outValues': [20220.19810742888], 'netOutValue': 20220.184809826453, 'priceImpact': 0, 'percentDiff': -0.030471620586240533, 'permit2Message': None, 'permit2Hash': None, 'partnerFeePercent': 0, 'pathId': '6b2e5f0b6c54b757fb0beb2af591c027', 'pathViz': None, 'blockNumber': 35728934}, 'tx': {'deprecated': None, 'traceId': 'ab109ba5-3854-4b8e-b673-1bde7332418e', 'blockNumber': 35728934, 'gasEstimate': 662408, 'gasEstimateValue': 0.013297602427424912, 'inputTokens': [{'tokenAddress': '0xd3dce716f3ef535c5ff8d041c1a41c3bd89b97ae', 'amount': '20240944386'}], 'outputTokens': [{'tokenAddress': '0x29219dd400f2bf60e5a23d13be72b486d4038894', 'amount': '20220198107'}], 'netOutValue': 20220.184809826453, 'outValues': ['20220.19810742888'], 'transaction': {'gas': 1324816, 'gasPrice': 60000000000, 'value': '0', 'to': '0xaC041Df48dF9791B0654f1Dbbf2CC8450C5f2e9D', 'from': '0xAb9F53c36B9c82AbBe397742d4A0aD75Df33241c', 'data': '0x3b635ce4000000000000000000000000d3dce716f3ef535c5ff8d041c1a41c3bd89b97ae000000000000000000000000000000000000000000000000000000000000000000000000000000000000000046a405160258f071b5db777e0965c98133ea03a300000000000000000000000029219dd400f2bf60e5a23d13be72b486d403889400000000000000000000000000000000000000000000000000000004b537bcdb00000000000000000000000000000000000000000000000000000004af310f1c000000000000000000000000ab9f53c36b9c82abbe397742d4a0ad75df33241c000000000000000000000000000000000000000000000000000000000000014000000000000000000000000046a405160258f071b5db777e0965c98133ea03a30000000000000000000000000000000000000000000000000000000000000000000000000000000000000000000000000000000000000000000000000000011403020a01089257ea0701010102cd4d2b142235d5650ffa6a38787ed0b7d7a51c0c0000000000000000000000370122f739bd2101010301020004013113a26a21010105010206070115406cc306010108010000060101090100ff000000000000d3dce716f3ef535c5ff8d041c1a41c3bd89b97ae29219dd400f2bf60e5a23d13be72b486d403889443026d483f42fb35efe03c20b251142d022783f27870ddfd5aca4e977b2287e9a212bcbe8fc4135a54ca9aad90324c022bbed0a94b7380c03aa5884ae6605932e4a686534d19005bb9db0fba1f1012726646248971427b80ce531bdd793e2eb859347e55dd35c88b1754879ef86bbf3a24f81fcca5eb6b5d2c13383855377faf5a562f1aef47e4be7a0f12ac000000000000000000000000', 'nonce': 1, 'chainId': 146}, 'simulation': None}}}}",
         null
        ],
        [
         "21",
         "5",
         "4626",
         "True",
         "0xAb9F53c36B9c82AbBe397742d4A0aD75Df33241c",
         "20217980401",
         "20319578292",
         "9999999999",
         "{'from': '0x000000000000000000000000000000000000dEaD', 'to': '0xAb9F53c36B9c82AbBe397742d4A0aD75Df33241c', 'data': '0x3efe5daa0000000000000000000000000000000000000000000000000000000000000020000000000000000000000000196f3c7443e940911ee2bb88e019fd71400349d900000000000000000000000000000000000000000000000000000004a817c80000000000000000000000000029219dd400f2bf60e5a23d13be72b486d403889400000000000000000000000000000000000000000000000000000004b515e5f100000000000000000000000000000000000000000000000000000000000000e0000000000000000000000000000000000000000000000000000000000000014000000000000000000000000000000000000000000000000000000000685aef5d0000000000000000000000000000000000000000000000000000000000000040000000000000000000000000000000000000000000000000000000000000000100000000000000000000000000000000000000000000000000000000000000000000000000000000000000000000000000000000000000000000000000000000', 'value': '0', 'gasPrice': '0'}",
         "{'redeem': True, 'swap': False}",
         "146",
         "gen3",
         "50",
         "0x000000000000000000000000000000000000dEaD",
         "0x196F3C7443E940911EE2Bb88e019Fd71400349D9",
         "0x29219dd400f2Bf60E5a23d13Be72B486D4038894",
         "20000000000",
         null,
         "Bebop",
         "True",
         null,
         "True",
         "0x196F3C7443E940911EE2Bb88e019Fd71400349D9",
         "146",
         "eUSDC.e-3",
         "EVK Vault eUSDC.e-3",
         "6",
         "{'redeem': True, 'swap': False}",
         null
        ],
        [
         "22",
         "6",
         "OpenOcean",
         "False",
         "0x98b55E07156895814d2503036dC635316F9C9502",
         "19993651367",
         "20114337391",
         "9999999999",
         "{'from': '0x000000000000000000000000000000000000dEaD', 'to': '0x6352a56caadC4F1E25CD6c75970Fa768A3304e64', 'data': '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', 'value': '0', 'gasPrice': '1050000000'}",
         "{'code': 200, 'data': {'inToken': {'address': '0x9fb76f7ce5FCeAA2C42887ff441D46095E494206', 'decimals': 6, 'symbol': 'wstkscUSD', 'name': 'Wrapped stkscUSD', 'usd': '1.010749', 'volume': 20214.98}, 'outToken': {'address': '0x29219dd400f2Bf60E5a23d13Be72B486D4038894', 'decimals': 6, 'symbol': 'USDC.e', 'name': 'Bridged USDC (Sonic Labs)', 'usd': '0.999997', 'volume': 20114.277047987827}, 'inAmount': '20000000000', 'outAmount': '20114337391', 'estimatedGas': 1100938, 'minOutAmount': '19993651367', 'from': '0x000000000000000000000000000000000000dEaD', 'to': '0x6352a56caadC4F1E25CD6c75970Fa768A3304e64', 'value': '0', 'gasPrice': '1000000000', 'data': '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', 'chainId': 146, 'rfqDeadline': 0, 'gmxFee': 0, 'blockNumber': 35728942, 'price_impact': '-0.5%'}}",
         "146",
         "gen3",
         "50",
         "0x000000000000000000000000000000000000dEaD",
         "0x9fb76f7ce5FCeAA2C42887ff441D46095E494206",
         "0x29219dd400f2Bf60E5a23d13Be72B486D4038894",
         "20000000000",
         null,
         "Bebop",
         "True",
         null,
         "True",
         "0x9fb76f7ce5FCeAA2C42887ff441D46095E494206",
         "146",
         "wstkscUSD",
         "Wrapped stkscUSD",
         "6",
         "{'code': 200, 'data': {'inToken': {'address': '0x9fb76f7ce5FCeAA2C42887ff441D46095E494206', 'decimals': 6, 'symbol': 'wstkscUSD', 'name': 'Wrapped stkscUSD', 'usd': '1.010749', 'volume': 20214.98}, 'outToken': {'address': '0x29219dd400f2Bf60E5a23d13Be72B486D4038894', 'decimals': 6, 'symbol': 'USDC.e', 'name': 'Bridged USDC (Sonic Labs)', 'usd': '0.999997', 'volume': 20114.277047987827}, 'inAmount': '20000000000', 'outAmount': '20114337391', 'estimatedGas': 1100938, 'minOutAmount': '19993651367', 'from': '0x000000000000000000000000000000000000dEaD', 'to': '0x6352a56caadC4F1E25CD6c75970Fa768A3304e64', 'value': '0', 'gasPrice': '1000000000', 'data': '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', 'chainId': 146, 'rfqDeadline': 0, 'gmxFee': 0, 'blockNumber': 35728942, 'price_impact': '-0.5%'}}",
         "35728942.0"
        ],
        [
         "23",
         "7",
         "OpenOcean",
         "False",
         "0x98b55E07156895814d2503036dC635316F9C9502",
         "19868898705",
         "19988831695",
         "9999999999",
         "{'from': '0x000000000000000000000000000000000000dEaD', 'to': '0x6352a56caadC4F1E25CD6c75970Fa768A3304e64', 'data': '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', 'value': '0', 'gasPrice': '1050000000'}",
         "{'code': 200, 'data': {'inToken': {'address': '0x80Eede496655FB9047dd39d9f418d5483ED600df', 'decimals': 18, 'symbol': 'frxUSD', 'name': 'Frax USD', 'usd': '1.00372', 'volume': 20074.399999999998}, 'outToken': {'address': '0x29219dd400f2Bf60E5a23d13Be72B486D4038894', 'decimals': 6, 'symbol': 'USDC.e', 'name': 'Bridged USDC (Sonic Labs)', 'usd': '0.999997', 'volume': 19988.771728504915}, 'inAmount': '20000000000000000000000', 'outAmount': '19988831695', 'estimatedGas': 1338642, 'minOutAmount': '19868898705', 'from': '0x000000000000000000000000000000000000dEaD', 'to': '0x6352a56caadC4F1E25CD6c75970Fa768A3304e64', 'value': '0', 'gasPrice': '1000000000', 'data': '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', 'chainId': 146, 'rfqDeadline': 0, 'gmxFee': 0, 'blockNumber': 35728945, 'price_impact': '-0.43%'}}",
         "146",
         "gen3",
         "50",
         "0x000000000000000000000000000000000000dEaD",
         "0x80Eede496655FB9047dd39d9f418d5483ED600df",
         "0x29219dd400f2Bf60E5a23d13Be72B486D4038894",
         "20000000000000000000000",
         null,
         "Bebop",
         "True",
         null,
         "True",
         "0x80Eede496655FB9047dd39d9f418d5483ED600df",
         "146",
         "frxUSD",
         "Frax USD",
         "18",
         "{'code': 200, 'data': {'inToken': {'address': '0x80Eede496655FB9047dd39d9f418d5483ED600df', 'decimals': 18, 'symbol': 'frxUSD', 'name': 'Frax USD', 'usd': '1.00372', 'volume': 20074.399999999998}, 'outToken': {'address': '0x29219dd400f2Bf60E5a23d13Be72B486D4038894', 'decimals': 6, 'symbol': 'USDC.e', 'name': 'Bridged USDC (Sonic Labs)', 'usd': '0.999997', 'volume': 19988.771728504915}, 'inAmount': '20000000000000000000000', 'outAmount': '19988831695', 'estimatedGas': 1338642, 'minOutAmount': '19868898705', 'from': '0x000000000000000000000000000000000000dEaD', 'to': '0x6352a56caadC4F1E25CD6c75970Fa768A3304e64', 'value': '0', 'gasPrice': '1000000000', 'data': '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', 'chainId': 146, 'rfqDeadline': 0, 'gmxFee': 0, 'blockNumber': 35728945, 'price_impact': '-0.43%'}}",
         "35728945.0"
        ]
       ],
       "shape": {
        "columns": 28,
        "rows": 24
       }
      },
      "text/html": [
       "<div>\n",
       "<style scoped>\n",
       "    .dataframe tbody tr th:only-of-type {\n",
       "        vertical-align: middle;\n",
       "    }\n",
       "\n",
       "    .dataframe tbody tr th {\n",
       "        vertical-align: top;\n",
       "    }\n",
       "\n",
       "    .dataframe thead th {\n",
       "        text-align: right;\n",
       "    }\n",
       "</style>\n",
       "<table border=\"1\" class=\"dataframe\">\n",
       "  <thead>\n",
       "    <tr style=\"text-align: right;\">\n",
       "      <th></th>\n",
       "      <th>Unnamed: 0</th>\n",
       "      <th>aggregatorName</th>\n",
       "      <th>internal</th>\n",
       "      <th>asyncSwapper</th>\n",
       "      <th>minBuyAmount</th>\n",
       "      <th>buyAmount</th>\n",
       "      <th>expiration</th>\n",
       "      <th>tx</th>\n",
       "      <th>fullQuoteDetails</th>\n",
       "      <th>chainId</th>\n",
       "      <th>...</th>\n",
       "      <th>sellAll</th>\n",
       "      <th>timeoutMS</th>\n",
       "      <th>transferToCaller</th>\n",
       "      <th>token_address</th>\n",
       "      <th>chain_id</th>\n",
       "      <th>symbol</th>\n",
       "      <th>name</th>\n",
       "      <th>decimals</th>\n",
       "      <th>fullQuoteDetails_parsed</th>\n",
       "      <th>block</th>\n",
       "    </tr>\n",
       "  </thead>\n",
       "  <tbody>\n",
       "    <tr>\n",
       "      <th>0</th>\n",
       "      <td>0</td>\n",
       "      <td>OpenOcean</td>\n",
       "      <td>False</td>\n",
       "      <td>0x98b55E07156895814d2503036dC635316F9C9502</td>\n",
       "      <td>19890258868</td>\n",
       "      <td>20010320792</td>\n",
       "      <td>9999999999</td>\n",
       "      <td>{'from': '0x0000000000000000000000000000000000...</td>\n",
       "      <td>{'code': 200, 'data': {'inToken': {'address': ...</td>\n",
       "      <td>146</td>\n",
       "      <td>...</td>\n",
       "      <td>True</td>\n",
       "      <td>NaN</td>\n",
       "      <td>True</td>\n",
       "      <td>0x6047828dc181963ba44974801FF68e538dA5eaF9</td>\n",
       "      <td>146</td>\n",
       "      <td>USDT</td>\n",
       "      <td>Tether USD</td>\n",
       "      <td>6</td>\n",
       "      <td>{'code': 200, 'data': {'inToken': {'address': ...</td>\n",
       "      <td>35728501.0</td>\n",
       "    </tr>\n",
       "    <tr>\n",
       "      <th>1</th>\n",
       "      <td>1</td>\n",
       "      <td>4626</td>\n",
       "      <td>True</td>\n",
       "      <td>0xAb9F53c36B9c82AbBe397742d4A0aD75Df33241c</td>\n",
       "      <td>20035040051</td>\n",
       "      <td>20135718644</td>\n",
       "      <td>9999999999</td>\n",
       "      <td>{'from': '0x0000000000000000000000000000000000...</td>\n",
       "      <td>{'redeem': True, 'swap': False}</td>\n",
       "      <td>146</td>\n",
       "      <td>...</td>\n",
       "      <td>True</td>\n",
       "      <td>NaN</td>\n",
       "      <td>True</td>\n",
       "      <td>0x3D9e5462A940684073EED7e4a13d19AE0Dcd13bc</td>\n",
       "      <td>146</td>\n",
       "      <td>eUSDC.e-2</td>\n",
       "      <td>EVK Vault eUSDC.e-2</td>\n",
       "      <td>6</td>\n",
       "      <td>{'redeem': True, 'swap': False}</td>\n",
       "      <td>NaN</td>\n",
       "    </tr>\n",
       "    <tr>\n",
       "      <th>2</th>\n",
       "      <td>2</td>\n",
       "      <td>OpenOcean</td>\n",
       "      <td>False</td>\n",
       "      <td>0x98b55E07156895814d2503036dC635316F9C9502</td>\n",
       "      <td>19859484604</td>\n",
       "      <td>19979360768</td>\n",
       "      <td>9999999999</td>\n",
       "      <td>{'from': '0x0000000000000000000000000000000000...</td>\n",
       "      <td>{'code': 200, 'data': {'inToken': {'address': ...</td>\n",
       "      <td>146</td>\n",
       "      <td>...</td>\n",
       "      <td>True</td>\n",
       "      <td>NaN</td>\n",
       "      <td>True</td>\n",
       "      <td>0xd3DCe716f3eF535C5Ff8d041c1A41C3bd89b97aE</td>\n",
       "      <td>146</td>\n",
       "      <td>scUSD</td>\n",
       "      <td>Sonic USD</td>\n",
       "      <td>6</td>\n",
       "      <td>{'code': 200, 'data': {'inToken': {'address': ...</td>\n",
       "      <td>35728501.0</td>\n",
       "    </tr>\n",
       "    <tr>\n",
       "      <th>3</th>\n",
       "      <td>3</td>\n",
       "      <td>4626</td>\n",
       "      <td>True</td>\n",
       "      <td>0xAb9F53c36B9c82AbBe397742d4A0aD75Df33241c</td>\n",
       "      <td>20071817167</td>\n",
       "      <td>20192975018</td>\n",
       "      <td>9999999999</td>\n",
       "      <td>{'from': '0x0000000000000000000000000000000000...</td>\n",
       "      <td>{'redeem': True, 'swap': True, 'underlyingQuot...</td>\n",
       "      <td>146</td>\n",
       "      <td>...</td>\n",
       "      <td>True</td>\n",
       "      <td>NaN</td>\n",
       "      <td>True</td>\n",
       "      <td>0xeEb1DC1Ca7ffC5b54aD1cc4c1088Db4E5657Cb6c</td>\n",
       "      <td>146</td>\n",
       "      <td>escUSD-1</td>\n",
       "      <td>EVK Vault escUSD-1</td>\n",
       "      <td>6</td>\n",
       "      <td>{'redeem': True, 'swap': True, 'underlyingQuot...</td>\n",
       "      <td>NaN</td>\n",
       "    </tr>\n",
       "    <tr>\n",
       "      <th>4</th>\n",
       "      <td>4</td>\n",
       "      <td>4626</td>\n",
       "      <td>True</td>\n",
       "      <td>0xAb9F53c36B9c82AbBe397742d4A0aD75Df33241c</td>\n",
       "      <td>20098725574</td>\n",
       "      <td>20220045849</td>\n",
       "      <td>9999999999</td>\n",
       "      <td>{'from': '0x0000000000000000000000000000000000...</td>\n",
       "      <td>{'redeem': True, 'swap': True, 'underlyingQuot...</td>\n",
       "      <td>146</td>\n",
       "      <td>...</td>\n",
       "      <td>True</td>\n",
       "      <td>NaN</td>\n",
       "      <td>True</td>\n",
       "      <td>0xB38D431e932fEa77d1dF0AE0dFE4400c97e597B8</td>\n",
       "      <td>146</td>\n",
       "      <td>escUSD-2</td>\n",
       "      <td>EVK Vault escUSD-2</td>\n",
       "      <td>6</td>\n",
       "      <td>{'redeem': True, 'swap': True, 'underlyingQuot...</td>\n",
       "      <td>NaN</td>\n",
       "    </tr>\n",
       "    <tr>\n",
       "      <th>5</th>\n",
       "      <td>5</td>\n",
       "      <td>4626</td>\n",
       "      <td>True</td>\n",
       "      <td>0xAb9F53c36B9c82AbBe397742d4A0aD75Df33241c</td>\n",
       "      <td>20217972860</td>\n",
       "      <td>20319570713</td>\n",
       "      <td>9999999999</td>\n",
       "      <td>{'from': '0x0000000000000000000000000000000000...</td>\n",
       "      <td>{'redeem': True, 'swap': False}</td>\n",
       "      <td>146</td>\n",
       "      <td>...</td>\n",
       "      <td>True</td>\n",
       "      <td>NaN</td>\n",
       "      <td>True</td>\n",
       "      <td>0x196F3C7443E940911EE2Bb88e019Fd71400349D9</td>\n",
       "      <td>146</td>\n",
       "      <td>eUSDC.e-3</td>\n",
       "      <td>EVK Vault eUSDC.e-3</td>\n",
       "      <td>6</td>\n",
       "      <td>{'redeem': True, 'swap': False}</td>\n",
       "      <td>NaN</td>\n",
       "    </tr>\n",
       "    <tr>\n",
       "      <th>6</th>\n",
       "      <td>6</td>\n",
       "      <td>OpenOcean</td>\n",
       "      <td>False</td>\n",
       "      <td>0x98b55E07156895814d2503036dC635316F9C9502</td>\n",
       "      <td>19993652889</td>\n",
       "      <td>20114338922</td>\n",
       "      <td>9999999999</td>\n",
       "      <td>{'from': '0x0000000000000000000000000000000000...</td>\n",
       "      <td>{'code': 200, 'data': {'inToken': {'address': ...</td>\n",
       "      <td>146</td>\n",
       "      <td>...</td>\n",
       "      <td>True</td>\n",
       "      <td>NaN</td>\n",
       "      <td>True</td>\n",
       "      <td>0x9fb76f7ce5FCeAA2C42887ff441D46095E494206</td>\n",
       "      <td>146</td>\n",
       "      <td>wstkscUSD</td>\n",
       "      <td>Wrapped stkscUSD</td>\n",
       "      <td>6</td>\n",
       "      <td>{'code': 200, 'data': {'inToken': {'address': ...</td>\n",
       "      <td>35728501.0</td>\n",
       "    </tr>\n",
       "    <tr>\n",
       "      <th>7</th>\n",
       "      <td>7</td>\n",
       "      <td>OpenOcean</td>\n",
       "      <td>False</td>\n",
       "      <td>0x98b55E07156895814d2503036dC635316F9C9502</td>\n",
       "      <td>19868900217</td>\n",
       "      <td>19988833217</td>\n",
       "      <td>9999999999</td>\n",
       "      <td>{'from': '0x0000000000000000000000000000000000...</td>\n",
       "      <td>{'code': 200, 'data': {'inToken': {'address': ...</td>\n",
       "      <td>146</td>\n",
       "      <td>...</td>\n",
       "      <td>True</td>\n",
       "      <td>NaN</td>\n",
       "      <td>True</td>\n",
       "      <td>0x80Eede496655FB9047dd39d9f418d5483ED600df</td>\n",
       "      <td>146</td>\n",
       "      <td>frxUSD</td>\n",
       "      <td>Frax USD</td>\n",
       "      <td>18</td>\n",
       "      <td>{'code': 200, 'data': {'inToken': {'address': ...</td>\n",
       "      <td>35728505.0</td>\n",
       "    </tr>\n",
       "    <tr>\n",
       "      <th>8</th>\n",
       "      <td>0</td>\n",
       "      <td>OpenOcean</td>\n",
       "      <td>False</td>\n",
       "      <td>0x98b55E07156895814d2503036dC635316F9C9502</td>\n",
       "      <td>19890258868</td>\n",
       "      <td>20010320792</td>\n",
       "      <td>9999999999</td>\n",
       "      <td>{'from': '0x0000000000000000000000000000000000...</td>\n",
       "      <td>{'code': 200, 'data': {'inToken': {'address': ...</td>\n",
       "      <td>146</td>\n",
       "      <td>...</td>\n",
       "      <td>True</td>\n",
       "      <td>NaN</td>\n",
       "      <td>True</td>\n",
       "      <td>0x6047828dc181963ba44974801FF68e538dA5eaF9</td>\n",
       "      <td>146</td>\n",
       "      <td>USDT</td>\n",
       "      <td>Tether USD</td>\n",
       "      <td>6</td>\n",
       "      <td>{'code': 200, 'data': {'inToken': {'address': ...</td>\n",
       "      <td>35728721.0</td>\n",
       "    </tr>\n",
       "    <tr>\n",
       "      <th>9</th>\n",
       "      <td>1</td>\n",
       "      <td>4626</td>\n",
       "      <td>True</td>\n",
       "      <td>0xAb9F53c36B9c82AbBe397742d4A0aD75Df33241c</td>\n",
       "      <td>20035042264</td>\n",
       "      <td>20135720868</td>\n",
       "      <td>9999999999</td>\n",
       "      <td>{'from': '0x0000000000000000000000000000000000...</td>\n",
       "      <td>{'redeem': True, 'swap': False}</td>\n",
       "      <td>146</td>\n",
       "      <td>...</td>\n",
       "      <td>True</td>\n",
       "      <td>NaN</td>\n",
       "      <td>True</td>\n",
       "      <td>0x3D9e5462A940684073EED7e4a13d19AE0Dcd13bc</td>\n",
       "      <td>146</td>\n",
       "      <td>eUSDC.e-2</td>\n",
       "      <td>EVK Vault eUSDC.e-2</td>\n",
       "      <td>6</td>\n",
       "      <td>{'redeem': True, 'swap': False}</td>\n",
       "      <td>NaN</td>\n",
       "    </tr>\n",
       "    <tr>\n",
       "      <th>10</th>\n",
       "      <td>2</td>\n",
       "      <td>Odos</td>\n",
       "      <td>False</td>\n",
       "      <td>0x6D13DB293B4b6B9AA1760f7e093Fb26C24F345B2</td>\n",
       "      <td>19879470650</td>\n",
       "      <td>19979367487</td>\n",
       "      <td>9999999999</td>\n",
       "      <td>{'from': '0x0000000000000000000000000000000000...</td>\n",
       "      <td>{'quote': {'traceId': 'de5487c2-49b1-471d-a13e...</td>\n",
       "      <td>146</td>\n",
       "      <td>...</td>\n",
       "      <td>True</td>\n",
       "      <td>NaN</td>\n",
       "      <td>True</td>\n",
       "      <td>0xd3DCe716f3eF535C5Ff8d041c1A41C3bd89b97aE</td>\n",
       "      <td>146</td>\n",
       "      <td>scUSD</td>\n",
       "      <td>Sonic USD</td>\n",
       "      <td>6</td>\n",
       "      <td>{'quote': {'traceId': 'de5487c2-49b1-471d-a13e...</td>\n",
       "      <td>35728701.0</td>\n",
       "    </tr>\n",
       "    <tr>\n",
       "      <th>11</th>\n",
       "      <td>3</td>\n",
       "      <td>4626</td>\n",
       "      <td>True</td>\n",
       "      <td>0xAb9F53c36B9c82AbBe397742d4A0aD75Df33241c</td>\n",
       "      <td>20092016560</td>\n",
       "      <td>20192981467</td>\n",
       "      <td>9999999999</td>\n",
       "      <td>{'from': '0x0000000000000000000000000000000000...</td>\n",
       "      <td>{'redeem': True, 'swap': True, 'underlyingQuot...</td>\n",
       "      <td>146</td>\n",
       "      <td>...</td>\n",
       "      <td>True</td>\n",
       "      <td>NaN</td>\n",
       "      <td>True</td>\n",
       "      <td>0xeEb1DC1Ca7ffC5b54aD1cc4c1088Db4E5657Cb6c</td>\n",
       "      <td>146</td>\n",
       "      <td>escUSD-1</td>\n",
       "      <td>EVK Vault escUSD-1</td>\n",
       "      <td>6</td>\n",
       "      <td>{'redeem': True, 'swap': True, 'underlyingQuot...</td>\n",
       "      <td>NaN</td>\n",
       "    </tr>\n",
       "    <tr>\n",
       "      <th>12</th>\n",
       "      <td>4</td>\n",
       "      <td>4626</td>\n",
       "      <td>True</td>\n",
       "      <td>0xAb9F53c36B9c82AbBe397742d4A0aD75Df33241c</td>\n",
       "      <td>20118955950</td>\n",
       "      <td>20220056231</td>\n",
       "      <td>9999999999</td>\n",
       "      <td>{'from': '0x0000000000000000000000000000000000...</td>\n",
       "      <td>{'redeem': True, 'swap': True, 'underlyingQuot...</td>\n",
       "      <td>146</td>\n",
       "      <td>...</td>\n",
       "      <td>True</td>\n",
       "      <td>NaN</td>\n",
       "      <td>True</td>\n",
       "      <td>0xB38D431e932fEa77d1dF0AE0dFE4400c97e597B8</td>\n",
       "      <td>146</td>\n",
       "      <td>escUSD-2</td>\n",
       "      <td>EVK Vault escUSD-2</td>\n",
       "      <td>6</td>\n",
       "      <td>{'redeem': True, 'swap': True, 'underlyingQuot...</td>\n",
       "      <td>NaN</td>\n",
       "    </tr>\n",
       "    <tr>\n",
       "      <th>13</th>\n",
       "      <td>5</td>\n",
       "      <td>4626</td>\n",
       "      <td>True</td>\n",
       "      <td>0xAb9F53c36B9c82AbBe397742d4A0aD75Df33241c</td>\n",
       "      <td>20217976705</td>\n",
       "      <td>20319574577</td>\n",
       "      <td>9999999999</td>\n",
       "      <td>{'from': '0x0000000000000000000000000000000000...</td>\n",
       "      <td>{'redeem': True, 'swap': False}</td>\n",
       "      <td>146</td>\n",
       "      <td>...</td>\n",
       "      <td>True</td>\n",
       "      <td>NaN</td>\n",
       "      <td>True</td>\n",
       "      <td>0x196F3C7443E940911EE2Bb88e019Fd71400349D9</td>\n",
       "      <td>146</td>\n",
       "      <td>eUSDC.e-3</td>\n",
       "      <td>EVK Vault eUSDC.e-3</td>\n",
       "      <td>6</td>\n",
       "      <td>{'redeem': True, 'swap': False}</td>\n",
       "      <td>NaN</td>\n",
       "    </tr>\n",
       "    <tr>\n",
       "      <th>14</th>\n",
       "      <td>6</td>\n",
       "      <td>OpenOcean</td>\n",
       "      <td>False</td>\n",
       "      <td>0x98b55E07156895814d2503036dC635316F9C9502</td>\n",
       "      <td>19993651367</td>\n",
       "      <td>20114337391</td>\n",
       "      <td>9999999999</td>\n",
       "      <td>{'from': '0x0000000000000000000000000000000000...</td>\n",
       "      <td>{'code': 200, 'data': {'inToken': {'address': ...</td>\n",
       "      <td>146</td>\n",
       "      <td>...</td>\n",
       "      <td>True</td>\n",
       "      <td>NaN</td>\n",
       "      <td>True</td>\n",
       "      <td>0x9fb76f7ce5FCeAA2C42887ff441D46095E494206</td>\n",
       "      <td>146</td>\n",
       "      <td>wstkscUSD</td>\n",
       "      <td>Wrapped stkscUSD</td>\n",
       "      <td>6</td>\n",
       "      <td>{'code': 200, 'data': {'inToken': {'address': ...</td>\n",
       "      <td>35728721.0</td>\n",
       "    </tr>\n",
       "    <tr>\n",
       "      <th>15</th>\n",
       "      <td>7</td>\n",
       "      <td>OpenOcean</td>\n",
       "      <td>False</td>\n",
       "      <td>0x98b55E07156895814d2503036dC635316F9C9502</td>\n",
       "      <td>19868898705</td>\n",
       "      <td>19988831695</td>\n",
       "      <td>9999999999</td>\n",
       "      <td>{'from': '0x0000000000000000000000000000000000...</td>\n",
       "      <td>{'code': 200, 'data': {'inToken': {'address': ...</td>\n",
       "      <td>146</td>\n",
       "      <td>...</td>\n",
       "      <td>True</td>\n",
       "      <td>NaN</td>\n",
       "      <td>True</td>\n",
       "      <td>0x80Eede496655FB9047dd39d9f418d5483ED600df</td>\n",
       "      <td>146</td>\n",
       "      <td>frxUSD</td>\n",
       "      <td>Frax USD</td>\n",
       "      <td>18</td>\n",
       "      <td>{'code': 200, 'data': {'inToken': {'address': ...</td>\n",
       "      <td>35728724.0</td>\n",
       "    </tr>\n",
       "    <tr>\n",
       "      <th>16</th>\n",
       "      <td>0</td>\n",
       "      <td>OpenOcean</td>\n",
       "      <td>False</td>\n",
       "      <td>0x98b55E07156895814d2503036dC635316F9C9502</td>\n",
       "      <td>19890258868</td>\n",
       "      <td>20010320792</td>\n",
       "      <td>9999999999</td>\n",
       "      <td>{'from': '0x0000000000000000000000000000000000...</td>\n",
       "      <td>{'code': 200, 'data': {'inToken': {'address': ...</td>\n",
       "      <td>146</td>\n",
       "      <td>...</td>\n",
       "      <td>True</td>\n",
       "      <td>NaN</td>\n",
       "      <td>True</td>\n",
       "      <td>0x6047828dc181963ba44974801FF68e538dA5eaF9</td>\n",
       "      <td>146</td>\n",
       "      <td>USDT</td>\n",
       "      <td>Tether USD</td>\n",
       "      <td>6</td>\n",
       "      <td>{'code': 200, 'data': {'inToken': {'address': ...</td>\n",
       "      <td>35728941.0</td>\n",
       "    </tr>\n",
       "    <tr>\n",
       "      <th>17</th>\n",
       "      <td>1</td>\n",
       "      <td>4626</td>\n",
       "      <td>True</td>\n",
       "      <td>0xAb9F53c36B9c82AbBe397742d4A0aD75Df33241c</td>\n",
       "      <td>20035044391</td>\n",
       "      <td>20135723006</td>\n",
       "      <td>9999999999</td>\n",
       "      <td>{'from': '0x0000000000000000000000000000000000...</td>\n",
       "      <td>{'redeem': True, 'swap': False}</td>\n",
       "      <td>146</td>\n",
       "      <td>...</td>\n",
       "      <td>True</td>\n",
       "      <td>NaN</td>\n",
       "      <td>True</td>\n",
       "      <td>0x3D9e5462A940684073EED7e4a13d19AE0Dcd13bc</td>\n",
       "      <td>146</td>\n",
       "      <td>eUSDC.e-2</td>\n",
       "      <td>EVK Vault eUSDC.e-2</td>\n",
       "      <td>6</td>\n",
       "      <td>{'redeem': True, 'swap': False}</td>\n",
       "      <td>NaN</td>\n",
       "    </tr>\n",
       "    <tr>\n",
       "      <th>18</th>\n",
       "      <td>2</td>\n",
       "      <td>Odos</td>\n",
       "      <td>False</td>\n",
       "      <td>0x6D13DB293B4b6B9AA1760f7e093Fb26C24F345B2</td>\n",
       "      <td>19879607207</td>\n",
       "      <td>19979504730</td>\n",
       "      <td>9999999999</td>\n",
       "      <td>{'from': '0x0000000000000000000000000000000000...</td>\n",
       "      <td>{'quote': {'traceId': '39aa2864-0c96-4fc6-a32f...</td>\n",
       "      <td>146</td>\n",
       "      <td>...</td>\n",
       "      <td>True</td>\n",
       "      <td>NaN</td>\n",
       "      <td>True</td>\n",
       "      <td>0xd3DCe716f3eF535C5Ff8d041c1A41C3bd89b97aE</td>\n",
       "      <td>146</td>\n",
       "      <td>scUSD</td>\n",
       "      <td>Sonic USD</td>\n",
       "      <td>6</td>\n",
       "      <td>{'quote': {'traceId': '39aa2864-0c96-4fc6-a32f...</td>\n",
       "      <td>35728934.0</td>\n",
       "    </tr>\n",
       "    <tr>\n",
       "      <th>19</th>\n",
       "      <td>3</td>\n",
       "      <td>4626</td>\n",
       "      <td>True</td>\n",
       "      <td>0xAb9F53c36B9c82AbBe397742d4A0aD75Df33241c</td>\n",
       "      <td>20092153807</td>\n",
       "      <td>20193119404</td>\n",
       "      <td>9999999999</td>\n",
       "      <td>{'from': '0x0000000000000000000000000000000000...</td>\n",
       "      <td>{'redeem': True, 'swap': True, 'underlyingQuot...</td>\n",
       "      <td>146</td>\n",
       "      <td>...</td>\n",
       "      <td>True</td>\n",
       "      <td>NaN</td>\n",
       "      <td>True</td>\n",
       "      <td>0xeEb1DC1Ca7ffC5b54aD1cc4c1088Db4E5657Cb6c</td>\n",
       "      <td>146</td>\n",
       "      <td>escUSD-1</td>\n",
       "      <td>EVK Vault escUSD-1</td>\n",
       "      <td>6</td>\n",
       "      <td>{'redeem': True, 'swap': True, 'underlyingQuot...</td>\n",
       "      <td>NaN</td>\n",
       "    </tr>\n",
       "    <tr>\n",
       "      <th>20</th>\n",
       "      <td>4</td>\n",
       "      <td>4626</td>\n",
       "      <td>True</td>\n",
       "      <td>0xAb9F53c36B9c82AbBe397742d4A0aD75Df33241c</td>\n",
       "      <td>20119097117</td>\n",
       "      <td>20220198107</td>\n",
       "      <td>9999999999</td>\n",
       "      <td>{'from': '0x0000000000000000000000000000000000...</td>\n",
       "      <td>{'redeem': True, 'swap': True, 'underlyingQuot...</td>\n",
       "      <td>146</td>\n",
       "      <td>...</td>\n",
       "      <td>True</td>\n",
       "      <td>NaN</td>\n",
       "      <td>True</td>\n",
       "      <td>0xB38D431e932fEa77d1dF0AE0dFE4400c97e597B8</td>\n",
       "      <td>146</td>\n",
       "      <td>escUSD-2</td>\n",
       "      <td>EVK Vault escUSD-2</td>\n",
       "      <td>6</td>\n",
       "      <td>{'redeem': True, 'swap': True, 'underlyingQuot...</td>\n",
       "      <td>NaN</td>\n",
       "    </tr>\n",
       "    <tr>\n",
       "      <th>21</th>\n",
       "      <td>5</td>\n",
       "      <td>4626</td>\n",
       "      <td>True</td>\n",
       "      <td>0xAb9F53c36B9c82AbBe397742d4A0aD75Df33241c</td>\n",
       "      <td>20217980401</td>\n",
       "      <td>20319578292</td>\n",
       "      <td>9999999999</td>\n",
       "      <td>{'from': '0x0000000000000000000000000000000000...</td>\n",
       "      <td>{'redeem': True, 'swap': False}</td>\n",
       "      <td>146</td>\n",
       "      <td>...</td>\n",
       "      <td>True</td>\n",
       "      <td>NaN</td>\n",
       "      <td>True</td>\n",
       "      <td>0x196F3C7443E940911EE2Bb88e019Fd71400349D9</td>\n",
       "      <td>146</td>\n",
       "      <td>eUSDC.e-3</td>\n",
       "      <td>EVK Vault eUSDC.e-3</td>\n",
       "      <td>6</td>\n",
       "      <td>{'redeem': True, 'swap': False}</td>\n",
       "      <td>NaN</td>\n",
       "    </tr>\n",
       "    <tr>\n",
       "      <th>22</th>\n",
       "      <td>6</td>\n",
       "      <td>OpenOcean</td>\n",
       "      <td>False</td>\n",
       "      <td>0x98b55E07156895814d2503036dC635316F9C9502</td>\n",
       "      <td>19993651367</td>\n",
       "      <td>20114337391</td>\n",
       "      <td>9999999999</td>\n",
       "      <td>{'from': '0x0000000000000000000000000000000000...</td>\n",
       "      <td>{'code': 200, 'data': {'inToken': {'address': ...</td>\n",
       "      <td>146</td>\n",
       "      <td>...</td>\n",
       "      <td>True</td>\n",
       "      <td>NaN</td>\n",
       "      <td>True</td>\n",
       "      <td>0x9fb76f7ce5FCeAA2C42887ff441D46095E494206</td>\n",
       "      <td>146</td>\n",
       "      <td>wstkscUSD</td>\n",
       "      <td>Wrapped stkscUSD</td>\n",
       "      <td>6</td>\n",
       "      <td>{'code': 200, 'data': {'inToken': {'address': ...</td>\n",
       "      <td>35728942.0</td>\n",
       "    </tr>\n",
       "    <tr>\n",
       "      <th>23</th>\n",
       "      <td>7</td>\n",
       "      <td>OpenOcean</td>\n",
       "      <td>False</td>\n",
       "      <td>0x98b55E07156895814d2503036dC635316F9C9502</td>\n",
       "      <td>19868898705</td>\n",
       "      <td>19988831695</td>\n",
       "      <td>9999999999</td>\n",
       "      <td>{'from': '0x0000000000000000000000000000000000...</td>\n",
       "      <td>{'code': 200, 'data': {'inToken': {'address': ...</td>\n",
       "      <td>146</td>\n",
       "      <td>...</td>\n",
       "      <td>True</td>\n",
       "      <td>NaN</td>\n",
       "      <td>True</td>\n",
       "      <td>0x80Eede496655FB9047dd39d9f418d5483ED600df</td>\n",
       "      <td>146</td>\n",
       "      <td>frxUSD</td>\n",
       "      <td>Frax USD</td>\n",
       "      <td>18</td>\n",
       "      <td>{'code': 200, 'data': {'inToken': {'address': ...</td>\n",
       "      <td>35728945.0</td>\n",
       "    </tr>\n",
       "  </tbody>\n",
       "</table>\n",
       "<p>24 rows × 28 columns</p>\n",
       "</div>"
      ],
      "text/plain": [
       "    Unnamed: 0 aggregatorName  internal  \\\n",
       "0            0      OpenOcean     False   \n",
       "1            1           4626      True   \n",
       "2            2      OpenOcean     False   \n",
       "3            3           4626      True   \n",
       "4            4           4626      True   \n",
       "5            5           4626      True   \n",
       "6            6      OpenOcean     False   \n",
       "7            7      OpenOcean     False   \n",
       "8            0      OpenOcean     False   \n",
       "9            1           4626      True   \n",
       "10           2           Odos     False   \n",
       "11           3           4626      True   \n",
       "12           4           4626      True   \n",
       "13           5           4626      True   \n",
       "14           6      OpenOcean     False   \n",
       "15           7      OpenOcean     False   \n",
       "16           0      OpenOcean     False   \n",
       "17           1           4626      True   \n",
       "18           2           Odos     False   \n",
       "19           3           4626      True   \n",
       "20           4           4626      True   \n",
       "21           5           4626      True   \n",
       "22           6      OpenOcean     False   \n",
       "23           7      OpenOcean     False   \n",
       "\n",
       "                                  asyncSwapper  minBuyAmount    buyAmount  \\\n",
       "0   0x98b55E07156895814d2503036dC635316F9C9502   19890258868  20010320792   \n",
       "1   0xAb9F53c36B9c82AbBe397742d4A0aD75Df33241c   20035040051  20135718644   \n",
       "2   0x98b55E07156895814d2503036dC635316F9C9502   19859484604  19979360768   \n",
       "3   0xAb9F53c36B9c82AbBe397742d4A0aD75Df33241c   20071817167  20192975018   \n",
       "4   0xAb9F53c36B9c82AbBe397742d4A0aD75Df33241c   20098725574  20220045849   \n",
       "5   0xAb9F53c36B9c82AbBe397742d4A0aD75Df33241c   20217972860  20319570713   \n",
       "6   0x98b55E07156895814d2503036dC635316F9C9502   19993652889  20114338922   \n",
       "7   0x98b55E07156895814d2503036dC635316F9C9502   19868900217  19988833217   \n",
       "8   0x98b55E07156895814d2503036dC635316F9C9502   19890258868  20010320792   \n",
       "9   0xAb9F53c36B9c82AbBe397742d4A0aD75Df33241c   20035042264  20135720868   \n",
       "10  0x6D13DB293B4b6B9AA1760f7e093Fb26C24F345B2   19879470650  19979367487   \n",
       "11  0xAb9F53c36B9c82AbBe397742d4A0aD75Df33241c   20092016560  20192981467   \n",
       "12  0xAb9F53c36B9c82AbBe397742d4A0aD75Df33241c   20118955950  20220056231   \n",
       "13  0xAb9F53c36B9c82AbBe397742d4A0aD75Df33241c   20217976705  20319574577   \n",
       "14  0x98b55E07156895814d2503036dC635316F9C9502   19993651367  20114337391   \n",
       "15  0x98b55E07156895814d2503036dC635316F9C9502   19868898705  19988831695   \n",
       "16  0x98b55E07156895814d2503036dC635316F9C9502   19890258868  20010320792   \n",
       "17  0xAb9F53c36B9c82AbBe397742d4A0aD75Df33241c   20035044391  20135723006   \n",
       "18  0x6D13DB293B4b6B9AA1760f7e093Fb26C24F345B2   19879607207  19979504730   \n",
       "19  0xAb9F53c36B9c82AbBe397742d4A0aD75Df33241c   20092153807  20193119404   \n",
       "20  0xAb9F53c36B9c82AbBe397742d4A0aD75Df33241c   20119097117  20220198107   \n",
       "21  0xAb9F53c36B9c82AbBe397742d4A0aD75Df33241c   20217980401  20319578292   \n",
       "22  0x98b55E07156895814d2503036dC635316F9C9502   19993651367  20114337391   \n",
       "23  0x98b55E07156895814d2503036dC635316F9C9502   19868898705  19988831695   \n",
       "\n",
       "    expiration                                                 tx  \\\n",
       "0   9999999999  {'from': '0x0000000000000000000000000000000000...   \n",
       "1   9999999999  {'from': '0x0000000000000000000000000000000000...   \n",
       "2   9999999999  {'from': '0x0000000000000000000000000000000000...   \n",
       "3   9999999999  {'from': '0x0000000000000000000000000000000000...   \n",
       "4   9999999999  {'from': '0x0000000000000000000000000000000000...   \n",
       "5   9999999999  {'from': '0x0000000000000000000000000000000000...   \n",
       "6   9999999999  {'from': '0x0000000000000000000000000000000000...   \n",
       "7   9999999999  {'from': '0x0000000000000000000000000000000000...   \n",
       "8   9999999999  {'from': '0x0000000000000000000000000000000000...   \n",
       "9   9999999999  {'from': '0x0000000000000000000000000000000000...   \n",
       "10  9999999999  {'from': '0x0000000000000000000000000000000000...   \n",
       "11  9999999999  {'from': '0x0000000000000000000000000000000000...   \n",
       "12  9999999999  {'from': '0x0000000000000000000000000000000000...   \n",
       "13  9999999999  {'from': '0x0000000000000000000000000000000000...   \n",
       "14  9999999999  {'from': '0x0000000000000000000000000000000000...   \n",
       "15  9999999999  {'from': '0x0000000000000000000000000000000000...   \n",
       "16  9999999999  {'from': '0x0000000000000000000000000000000000...   \n",
       "17  9999999999  {'from': '0x0000000000000000000000000000000000...   \n",
       "18  9999999999  {'from': '0x0000000000000000000000000000000000...   \n",
       "19  9999999999  {'from': '0x0000000000000000000000000000000000...   \n",
       "20  9999999999  {'from': '0x0000000000000000000000000000000000...   \n",
       "21  9999999999  {'from': '0x0000000000000000000000000000000000...   \n",
       "22  9999999999  {'from': '0x0000000000000000000000000000000000...   \n",
       "23  9999999999  {'from': '0x0000000000000000000000000000000000...   \n",
       "\n",
       "                                     fullQuoteDetails  chainId  ... sellAll  \\\n",
       "0   {'code': 200, 'data': {'inToken': {'address': ...      146  ...    True   \n",
       "1                     {'redeem': True, 'swap': False}      146  ...    True   \n",
       "2   {'code': 200, 'data': {'inToken': {'address': ...      146  ...    True   \n",
       "3   {'redeem': True, 'swap': True, 'underlyingQuot...      146  ...    True   \n",
       "4   {'redeem': True, 'swap': True, 'underlyingQuot...      146  ...    True   \n",
       "5                     {'redeem': True, 'swap': False}      146  ...    True   \n",
       "6   {'code': 200, 'data': {'inToken': {'address': ...      146  ...    True   \n",
       "7   {'code': 200, 'data': {'inToken': {'address': ...      146  ...    True   \n",
       "8   {'code': 200, 'data': {'inToken': {'address': ...      146  ...    True   \n",
       "9                     {'redeem': True, 'swap': False}      146  ...    True   \n",
       "10  {'quote': {'traceId': 'de5487c2-49b1-471d-a13e...      146  ...    True   \n",
       "11  {'redeem': True, 'swap': True, 'underlyingQuot...      146  ...    True   \n",
       "12  {'redeem': True, 'swap': True, 'underlyingQuot...      146  ...    True   \n",
       "13                    {'redeem': True, 'swap': False}      146  ...    True   \n",
       "14  {'code': 200, 'data': {'inToken': {'address': ...      146  ...    True   \n",
       "15  {'code': 200, 'data': {'inToken': {'address': ...      146  ...    True   \n",
       "16  {'code': 200, 'data': {'inToken': {'address': ...      146  ...    True   \n",
       "17                    {'redeem': True, 'swap': False}      146  ...    True   \n",
       "18  {'quote': {'traceId': '39aa2864-0c96-4fc6-a32f...      146  ...    True   \n",
       "19  {'redeem': True, 'swap': True, 'underlyingQuot...      146  ...    True   \n",
       "20  {'redeem': True, 'swap': True, 'underlyingQuot...      146  ...    True   \n",
       "21                    {'redeem': True, 'swap': False}      146  ...    True   \n",
       "22  {'code': 200, 'data': {'inToken': {'address': ...      146  ...    True   \n",
       "23  {'code': 200, 'data': {'inToken': {'address': ...      146  ...    True   \n",
       "\n",
       "    timeoutMS transferToCaller                               token_address  \\\n",
       "0         NaN             True  0x6047828dc181963ba44974801FF68e538dA5eaF9   \n",
       "1         NaN             True  0x3D9e5462A940684073EED7e4a13d19AE0Dcd13bc   \n",
       "2         NaN             True  0xd3DCe716f3eF535C5Ff8d041c1A41C3bd89b97aE   \n",
       "3         NaN             True  0xeEb1DC1Ca7ffC5b54aD1cc4c1088Db4E5657Cb6c   \n",
       "4         NaN             True  0xB38D431e932fEa77d1dF0AE0dFE4400c97e597B8   \n",
       "5         NaN             True  0x196F3C7443E940911EE2Bb88e019Fd71400349D9   \n",
       "6         NaN             True  0x9fb76f7ce5FCeAA2C42887ff441D46095E494206   \n",
       "7         NaN             True  0x80Eede496655FB9047dd39d9f418d5483ED600df   \n",
       "8         NaN             True  0x6047828dc181963ba44974801FF68e538dA5eaF9   \n",
       "9         NaN             True  0x3D9e5462A940684073EED7e4a13d19AE0Dcd13bc   \n",
       "10        NaN             True  0xd3DCe716f3eF535C5Ff8d041c1A41C3bd89b97aE   \n",
       "11        NaN             True  0xeEb1DC1Ca7ffC5b54aD1cc4c1088Db4E5657Cb6c   \n",
       "12        NaN             True  0xB38D431e932fEa77d1dF0AE0dFE4400c97e597B8   \n",
       "13        NaN             True  0x196F3C7443E940911EE2Bb88e019Fd71400349D9   \n",
       "14        NaN             True  0x9fb76f7ce5FCeAA2C42887ff441D46095E494206   \n",
       "15        NaN             True  0x80Eede496655FB9047dd39d9f418d5483ED600df   \n",
       "16        NaN             True  0x6047828dc181963ba44974801FF68e538dA5eaF9   \n",
       "17        NaN             True  0x3D9e5462A940684073EED7e4a13d19AE0Dcd13bc   \n",
       "18        NaN             True  0xd3DCe716f3eF535C5Ff8d041c1A41C3bd89b97aE   \n",
       "19        NaN             True  0xeEb1DC1Ca7ffC5b54aD1cc4c1088Db4E5657Cb6c   \n",
       "20        NaN             True  0xB38D431e932fEa77d1dF0AE0dFE4400c97e597B8   \n",
       "21        NaN             True  0x196F3C7443E940911EE2Bb88e019Fd71400349D9   \n",
       "22        NaN             True  0x9fb76f7ce5FCeAA2C42887ff441D46095E494206   \n",
       "23        NaN             True  0x80Eede496655FB9047dd39d9f418d5483ED600df   \n",
       "\n",
       "   chain_id     symbol                 name decimals  \\\n",
       "0       146       USDT           Tether USD        6   \n",
       "1       146  eUSDC.e-2  EVK Vault eUSDC.e-2        6   \n",
       "2       146      scUSD            Sonic USD        6   \n",
       "3       146   escUSD-1   EVK Vault escUSD-1        6   \n",
       "4       146   escUSD-2   EVK Vault escUSD-2        6   \n",
       "5       146  eUSDC.e-3  EVK Vault eUSDC.e-3        6   \n",
       "6       146  wstkscUSD     Wrapped stkscUSD        6   \n",
       "7       146     frxUSD             Frax USD       18   \n",
       "8       146       USDT           Tether USD        6   \n",
       "9       146  eUSDC.e-2  EVK Vault eUSDC.e-2        6   \n",
       "10      146      scUSD            Sonic USD        6   \n",
       "11      146   escUSD-1   EVK Vault escUSD-1        6   \n",
       "12      146   escUSD-2   EVK Vault escUSD-2        6   \n",
       "13      146  eUSDC.e-3  EVK Vault eUSDC.e-3        6   \n",
       "14      146  wstkscUSD     Wrapped stkscUSD        6   \n",
       "15      146     frxUSD             Frax USD       18   \n",
       "16      146       USDT           Tether USD        6   \n",
       "17      146  eUSDC.e-2  EVK Vault eUSDC.e-2        6   \n",
       "18      146      scUSD            Sonic USD        6   \n",
       "19      146   escUSD-1   EVK Vault escUSD-1        6   \n",
       "20      146   escUSD-2   EVK Vault escUSD-2        6   \n",
       "21      146  eUSDC.e-3  EVK Vault eUSDC.e-3        6   \n",
       "22      146  wstkscUSD     Wrapped stkscUSD        6   \n",
       "23      146     frxUSD             Frax USD       18   \n",
       "\n",
       "                              fullQuoteDetails_parsed       block  \n",
       "0   {'code': 200, 'data': {'inToken': {'address': ...  35728501.0  \n",
       "1                     {'redeem': True, 'swap': False}         NaN  \n",
       "2   {'code': 200, 'data': {'inToken': {'address': ...  35728501.0  \n",
       "3   {'redeem': True, 'swap': True, 'underlyingQuot...         NaN  \n",
       "4   {'redeem': True, 'swap': True, 'underlyingQuot...         NaN  \n",
       "5                     {'redeem': True, 'swap': False}         NaN  \n",
       "6   {'code': 200, 'data': {'inToken': {'address': ...  35728501.0  \n",
       "7   {'code': 200, 'data': {'inToken': {'address': ...  35728505.0  \n",
       "8   {'code': 200, 'data': {'inToken': {'address': ...  35728721.0  \n",
       "9                     {'redeem': True, 'swap': False}         NaN  \n",
       "10  {'quote': {'traceId': 'de5487c2-49b1-471d-a13e...  35728701.0  \n",
       "11  {'redeem': True, 'swap': True, 'underlyingQuot...         NaN  \n",
       "12  {'redeem': True, 'swap': True, 'underlyingQuot...         NaN  \n",
       "13                    {'redeem': True, 'swap': False}         NaN  \n",
       "14  {'code': 200, 'data': {'inToken': {'address': ...  35728721.0  \n",
       "15  {'code': 200, 'data': {'inToken': {'address': ...  35728724.0  \n",
       "16  {'code': 200, 'data': {'inToken': {'address': ...  35728941.0  \n",
       "17                    {'redeem': True, 'swap': False}         NaN  \n",
       "18  {'quote': {'traceId': '39aa2864-0c96-4fc6-a32f...  35728934.0  \n",
       "19  {'redeem': True, 'swap': True, 'underlyingQuot...         NaN  \n",
       "20  {'redeem': True, 'swap': True, 'underlyingQuot...         NaN  \n",
       "21                    {'redeem': True, 'swap': False}         NaN  \n",
       "22  {'code': 200, 'data': {'inToken': {'address': ...  35728942.0  \n",
       "23  {'code': 200, 'data': {'inToken': {'address': ...  35728945.0  \n",
       "\n",
       "[24 rows x 28 columns]"
      ]
     },
     "execution_count": 2,
     "metadata": {},
     "output_type": "execute_result"
    }
   ],
   "source": [
    "df = pd.read_csv(\"quotes_records2.csv\")\n",
    "df[\"fullQuoteDetails_parsed\"] = df[\"fullQuoteDetails\"].apply(ast.literal_eval)\n",
    "\n",
    "\n",
    "def extract_block(row):\n",
    "\n",
    "    if \"data\" in row[\"fullQuoteDetails_parsed\"]:\n",
    "        return int(row[\"fullQuoteDetails_parsed\"][\"data\"][\"blockNumber\"])\n",
    "    elif \"quote\" in row[\"fullQuoteDetails_parsed\"]:\n",
    "        return int(row[\"fullQuoteDetails_parsed\"][\"quote\"][\"blockNumber\"])\n",
    "\n",
    "\n",
    "df[\"block\"] = df.apply(extract_block, axis=1)\n",
    "df"
   ]
  },
  {
   "cell_type": "code",
   "execution_count": 3,
   "metadata": {},
   "outputs": [
    {
     "data": {
      "application/vnd.microsoft.datawrangler.viewer.v0+json": {
       "columns": [
        {
         "name": "symbol",
         "rawType": "object",
         "type": "string"
        },
        {
         "name": "count",
         "rawType": "int64",
         "type": "integer"
        }
       ],
       "ref": "25b095f9-3b8b-4869-9f77-0c6ca50210df",
       "rows": [
        [
         "USDT",
         "3"
        ],
        [
         "eUSDC.e-2",
         "3"
        ],
        [
         "scUSD",
         "3"
        ],
        [
         "escUSD-1",
         "3"
        ],
        [
         "escUSD-2",
         "3"
        ],
        [
         "eUSDC.e-3",
         "3"
        ],
        [
         "wstkscUSD",
         "3"
        ],
        [
         "frxUSD",
         "3"
        ]
       ],
       "shape": {
        "columns": 1,
        "rows": 8
       }
      },
      "text/plain": [
       "symbol\n",
       "USDT         3\n",
       "eUSDC.e-2    3\n",
       "scUSD        3\n",
       "escUSD-1     3\n",
       "escUSD-2     3\n",
       "eUSDC.e-3    3\n",
       "wstkscUSD    3\n",
       "frxUSD       3\n",
       "Name: count, dtype: int64"
      ]
     },
     "execution_count": 3,
     "metadata": {},
     "output_type": "execute_result"
    }
   ],
   "source": [
    "df[\"symbol\"].value_counts()"
   ]
  },
  {
   "cell_type": "code",
   "execution_count": 4,
   "metadata": {},
   "outputs": [],
   "source": [
    "# did something change this minute with the sell able toekns?"
   ]
  },
  {
   "cell_type": "code",
   "execution_count": 6,
   "metadata": {},
   "outputs": [],
   "source": [
    "df[\"min_buy_scaled\"] = df[\"minBuyAmount\"].apply(lambda x: int(x) / 1e6)\n",
    "df[\"buy_scaled\"] = df[\"buyAmount\"].apply(lambda x: int(x) / 1e6)\n",
    "df[\"sell_amount_scaled\"] = df.apply(lambda row: int(row[\"sellAmount\"]) / (10 ** row[\"decimals\"]), axis=1)"
   ]
  },
  {
   "cell_type": "code",
   "execution_count": 7,
   "metadata": {},
   "outputs": [
    {
     "data": {
      "application/vnd.microsoft.datawrangler.viewer.v0+json": {
       "columns": [
        {
         "name": "index",
         "rawType": "int64",
         "type": "integer"
        },
        {
         "name": "symbol",
         "rawType": "object",
         "type": "string"
        },
        {
         "name": "min_buy_scaled",
         "rawType": "float64",
         "type": "float"
        },
        {
         "name": "buy_scaled",
         "rawType": "float64",
         "type": "float"
        },
        {
         "name": "sell_amount_scaled",
         "rawType": "float64",
         "type": "float"
        }
       ],
       "ref": "b87bbfeb-531f-404b-94a8-4687e47fd700",
       "rows": [
        [
         "0",
         "USDT",
         "19890.258868",
         "20010.320792",
         "20000.0"
        ],
        [
         "1",
         "eUSDC.e-2",
         "20035.040051",
         "20135.718644",
         "20000.0"
        ],
        [
         "2",
         "scUSD",
         "19859.484604",
         "19979.360768",
         "20000.0"
        ],
        [
         "3",
         "escUSD-1",
         "20071.817167",
         "20192.975018",
         "20000.0"
        ],
        [
         "4",
         "escUSD-2",
         "20098.725574",
         "20220.045849",
         "20000.0"
        ],
        [
         "5",
         "eUSDC.e-3",
         "20217.97286",
         "20319.570713",
         "20000.0"
        ],
        [
         "6",
         "wstkscUSD",
         "19993.652889",
         "20114.338922",
         "20000.0"
        ],
        [
         "7",
         "frxUSD",
         "19868.900217",
         "19988.833217",
         "20000.0"
        ],
        [
         "8",
         "USDT",
         "19890.258868",
         "20010.320792",
         "20000.0"
        ],
        [
         "9",
         "eUSDC.e-2",
         "20035.042264",
         "20135.720868",
         "20000.0"
        ],
        [
         "10",
         "scUSD",
         "19879.47065",
         "19979.367487",
         "20000.0"
        ],
        [
         "11",
         "escUSD-1",
         "20092.01656",
         "20192.981467",
         "20000.0"
        ],
        [
         "12",
         "escUSD-2",
         "20118.95595",
         "20220.056231",
         "20000.0"
        ],
        [
         "13",
         "eUSDC.e-3",
         "20217.976705",
         "20319.574577",
         "20000.0"
        ],
        [
         "14",
         "wstkscUSD",
         "19993.651367",
         "20114.337391",
         "20000.0"
        ],
        [
         "15",
         "frxUSD",
         "19868.898705",
         "19988.831695",
         "20000.0"
        ],
        [
         "16",
         "USDT",
         "19890.258868",
         "20010.320792",
         "20000.0"
        ],
        [
         "17",
         "eUSDC.e-2",
         "20035.044391",
         "20135.723006",
         "20000.0"
        ],
        [
         "18",
         "scUSD",
         "19879.607207",
         "19979.50473",
         "20000.0"
        ],
        [
         "19",
         "escUSD-1",
         "20092.153807",
         "20193.119404",
         "20000.0"
        ],
        [
         "20",
         "escUSD-2",
         "20119.097117",
         "20220.198107",
         "20000.0"
        ],
        [
         "21",
         "eUSDC.e-3",
         "20217.980401",
         "20319.578292",
         "20000.0"
        ],
        [
         "22",
         "wstkscUSD",
         "19993.651367",
         "20114.337391",
         "20000.0"
        ],
        [
         "23",
         "frxUSD",
         "19868.898705",
         "19988.831695",
         "20000.0"
        ]
       ],
       "shape": {
        "columns": 4,
        "rows": 24
       }
      },
      "text/html": [
       "<div>\n",
       "<style scoped>\n",
       "    .dataframe tbody tr th:only-of-type {\n",
       "        vertical-align: middle;\n",
       "    }\n",
       "\n",
       "    .dataframe tbody tr th {\n",
       "        vertical-align: top;\n",
       "    }\n",
       "\n",
       "    .dataframe thead th {\n",
       "        text-align: right;\n",
       "    }\n",
       "</style>\n",
       "<table border=\"1\" class=\"dataframe\">\n",
       "  <thead>\n",
       "    <tr style=\"text-align: right;\">\n",
       "      <th></th>\n",
       "      <th>symbol</th>\n",
       "      <th>min_buy_scaled</th>\n",
       "      <th>buy_scaled</th>\n",
       "      <th>sell_amount_scaled</th>\n",
       "    </tr>\n",
       "  </thead>\n",
       "  <tbody>\n",
       "    <tr>\n",
       "      <th>0</th>\n",
       "      <td>USDT</td>\n",
       "      <td>19890.258868</td>\n",
       "      <td>20010.320792</td>\n",
       "      <td>20000.0</td>\n",
       "    </tr>\n",
       "    <tr>\n",
       "      <th>1</th>\n",
       "      <td>eUSDC.e-2</td>\n",
       "      <td>20035.040051</td>\n",
       "      <td>20135.718644</td>\n",
       "      <td>20000.0</td>\n",
       "    </tr>\n",
       "    <tr>\n",
       "      <th>2</th>\n",
       "      <td>scUSD</td>\n",
       "      <td>19859.484604</td>\n",
       "      <td>19979.360768</td>\n",
       "      <td>20000.0</td>\n",
       "    </tr>\n",
       "    <tr>\n",
       "      <th>3</th>\n",
       "      <td>escUSD-1</td>\n",
       "      <td>20071.817167</td>\n",
       "      <td>20192.975018</td>\n",
       "      <td>20000.0</td>\n",
       "    </tr>\n",
       "    <tr>\n",
       "      <th>4</th>\n",
       "      <td>escUSD-2</td>\n",
       "      <td>20098.725574</td>\n",
       "      <td>20220.045849</td>\n",
       "      <td>20000.0</td>\n",
       "    </tr>\n",
       "    <tr>\n",
       "      <th>5</th>\n",
       "      <td>eUSDC.e-3</td>\n",
       "      <td>20217.972860</td>\n",
       "      <td>20319.570713</td>\n",
       "      <td>20000.0</td>\n",
       "    </tr>\n",
       "    <tr>\n",
       "      <th>6</th>\n",
       "      <td>wstkscUSD</td>\n",
       "      <td>19993.652889</td>\n",
       "      <td>20114.338922</td>\n",
       "      <td>20000.0</td>\n",
       "    </tr>\n",
       "    <tr>\n",
       "      <th>7</th>\n",
       "      <td>frxUSD</td>\n",
       "      <td>19868.900217</td>\n",
       "      <td>19988.833217</td>\n",
       "      <td>20000.0</td>\n",
       "    </tr>\n",
       "    <tr>\n",
       "      <th>8</th>\n",
       "      <td>USDT</td>\n",
       "      <td>19890.258868</td>\n",
       "      <td>20010.320792</td>\n",
       "      <td>20000.0</td>\n",
       "    </tr>\n",
       "    <tr>\n",
       "      <th>9</th>\n",
       "      <td>eUSDC.e-2</td>\n",
       "      <td>20035.042264</td>\n",
       "      <td>20135.720868</td>\n",
       "      <td>20000.0</td>\n",
       "    </tr>\n",
       "    <tr>\n",
       "      <th>10</th>\n",
       "      <td>scUSD</td>\n",
       "      <td>19879.470650</td>\n",
       "      <td>19979.367487</td>\n",
       "      <td>20000.0</td>\n",
       "    </tr>\n",
       "    <tr>\n",
       "      <th>11</th>\n",
       "      <td>escUSD-1</td>\n",
       "      <td>20092.016560</td>\n",
       "      <td>20192.981467</td>\n",
       "      <td>20000.0</td>\n",
       "    </tr>\n",
       "    <tr>\n",
       "      <th>12</th>\n",
       "      <td>escUSD-2</td>\n",
       "      <td>20118.955950</td>\n",
       "      <td>20220.056231</td>\n",
       "      <td>20000.0</td>\n",
       "    </tr>\n",
       "    <tr>\n",
       "      <th>13</th>\n",
       "      <td>eUSDC.e-3</td>\n",
       "      <td>20217.976705</td>\n",
       "      <td>20319.574577</td>\n",
       "      <td>20000.0</td>\n",
       "    </tr>\n",
       "    <tr>\n",
       "      <th>14</th>\n",
       "      <td>wstkscUSD</td>\n",
       "      <td>19993.651367</td>\n",
       "      <td>20114.337391</td>\n",
       "      <td>20000.0</td>\n",
       "    </tr>\n",
       "    <tr>\n",
       "      <th>15</th>\n",
       "      <td>frxUSD</td>\n",
       "      <td>19868.898705</td>\n",
       "      <td>19988.831695</td>\n",
       "      <td>20000.0</td>\n",
       "    </tr>\n",
       "    <tr>\n",
       "      <th>16</th>\n",
       "      <td>USDT</td>\n",
       "      <td>19890.258868</td>\n",
       "      <td>20010.320792</td>\n",
       "      <td>20000.0</td>\n",
       "    </tr>\n",
       "    <tr>\n",
       "      <th>17</th>\n",
       "      <td>eUSDC.e-2</td>\n",
       "      <td>20035.044391</td>\n",
       "      <td>20135.723006</td>\n",
       "      <td>20000.0</td>\n",
       "    </tr>\n",
       "    <tr>\n",
       "      <th>18</th>\n",
       "      <td>scUSD</td>\n",
       "      <td>19879.607207</td>\n",
       "      <td>19979.504730</td>\n",
       "      <td>20000.0</td>\n",
       "    </tr>\n",
       "    <tr>\n",
       "      <th>19</th>\n",
       "      <td>escUSD-1</td>\n",
       "      <td>20092.153807</td>\n",
       "      <td>20193.119404</td>\n",
       "      <td>20000.0</td>\n",
       "    </tr>\n",
       "    <tr>\n",
       "      <th>20</th>\n",
       "      <td>escUSD-2</td>\n",
       "      <td>20119.097117</td>\n",
       "      <td>20220.198107</td>\n",
       "      <td>20000.0</td>\n",
       "    </tr>\n",
       "    <tr>\n",
       "      <th>21</th>\n",
       "      <td>eUSDC.e-3</td>\n",
       "      <td>20217.980401</td>\n",
       "      <td>20319.578292</td>\n",
       "      <td>20000.0</td>\n",
       "    </tr>\n",
       "    <tr>\n",
       "      <th>22</th>\n",
       "      <td>wstkscUSD</td>\n",
       "      <td>19993.651367</td>\n",
       "      <td>20114.337391</td>\n",
       "      <td>20000.0</td>\n",
       "    </tr>\n",
       "    <tr>\n",
       "      <th>23</th>\n",
       "      <td>frxUSD</td>\n",
       "      <td>19868.898705</td>\n",
       "      <td>19988.831695</td>\n",
       "      <td>20000.0</td>\n",
       "    </tr>\n",
       "  </tbody>\n",
       "</table>\n",
       "</div>"
      ],
      "text/plain": [
       "       symbol  min_buy_scaled    buy_scaled  sell_amount_scaled\n",
       "0        USDT    19890.258868  20010.320792             20000.0\n",
       "1   eUSDC.e-2    20035.040051  20135.718644             20000.0\n",
       "2       scUSD    19859.484604  19979.360768             20000.0\n",
       "3    escUSD-1    20071.817167  20192.975018             20000.0\n",
       "4    escUSD-2    20098.725574  20220.045849             20000.0\n",
       "5   eUSDC.e-3    20217.972860  20319.570713             20000.0\n",
       "6   wstkscUSD    19993.652889  20114.338922             20000.0\n",
       "7      frxUSD    19868.900217  19988.833217             20000.0\n",
       "8        USDT    19890.258868  20010.320792             20000.0\n",
       "9   eUSDC.e-2    20035.042264  20135.720868             20000.0\n",
       "10      scUSD    19879.470650  19979.367487             20000.0\n",
       "11   escUSD-1    20092.016560  20192.981467             20000.0\n",
       "12   escUSD-2    20118.955950  20220.056231             20000.0\n",
       "13  eUSDC.e-3    20217.976705  20319.574577             20000.0\n",
       "14  wstkscUSD    19993.651367  20114.337391             20000.0\n",
       "15     frxUSD    19868.898705  19988.831695             20000.0\n",
       "16       USDT    19890.258868  20010.320792             20000.0\n",
       "17  eUSDC.e-2    20035.044391  20135.723006             20000.0\n",
       "18      scUSD    19879.607207  19979.504730             20000.0\n",
       "19   escUSD-1    20092.153807  20193.119404             20000.0\n",
       "20   escUSD-2    20119.097117  20220.198107             20000.0\n",
       "21  eUSDC.e-3    20217.980401  20319.578292             20000.0\n",
       "22  wstkscUSD    19993.651367  20114.337391             20000.0\n",
       "23     frxUSD    19868.898705  19988.831695             20000.0"
      ]
     },
     "execution_count": 7,
     "metadata": {},
     "output_type": "execute_result"
    }
   ],
   "source": [
    "df[[\"symbol\", \"min_buy_scaled\", \"buy_scaled\", \"sell_amount_scaled\"]]"
   ]
  },
  {
   "cell_type": "code",
   "execution_count": 8,
   "metadata": {},
   "outputs": [
    {
     "data": {
      "application/vnd.plotly.v1+json": {
       "config": {
        "plotlyServerURL": "https://plot.ly"
       },
       "data": [
        {
         "hovertemplate": "symbol=USDT<br>block=%{x}<br>min_buy_scaled=%{y}<extra></extra>",
         "legendgroup": "USDT",
         "marker": {
          "color": "#636efa",
          "symbol": "circle"
         },
         "mode": "markers",
         "name": "USDT",
         "orientation": "v",
         "showlegend": true,
         "type": "scatter",
         "x": [
          35728501,
          35728721,
          35728941
         ],
         "xaxis": "x",
         "y": [
          19890.258868,
          19890.258868,
          19890.258868
         ],
         "yaxis": "y"
        },
        {
         "hovertemplate": "symbol=eUSDC.e-2<br>block=%{x}<br>min_buy_scaled=%{y}<extra></extra>",
         "legendgroup": "eUSDC.e-2",
         "marker": {
          "color": "#EF553B",
          "symbol": "circle"
         },
         "mode": "markers",
         "name": "eUSDC.e-2",
         "orientation": "v",
         "showlegend": true,
         "type": "scatter",
         "x": [
          null,
          null,
          null
         ],
         "xaxis": "x",
         "y": [
          20035.040051,
          20035.042264,
          20035.044391
         ],
         "yaxis": "y"
        },
        {
         "hovertemplate": "symbol=scUSD<br>block=%{x}<br>min_buy_scaled=%{y}<extra></extra>",
         "legendgroup": "scUSD",
         "marker": {
          "color": "#00cc96",
          "symbol": "circle"
         },
         "mode": "markers",
         "name": "scUSD",
         "orientation": "v",
         "showlegend": true,
         "type": "scatter",
         "x": [
          35728501,
          35728701,
          35728934
         ],
         "xaxis": "x",
         "y": [
          19859.484604,
          19879.47065,
          19879.607207
         ],
         "yaxis": "y"
        },
        {
         "hovertemplate": "symbol=escUSD-1<br>block=%{x}<br>min_buy_scaled=%{y}<extra></extra>",
         "legendgroup": "escUSD-1",
         "marker": {
          "color": "#ab63fa",
          "symbol": "circle"
         },
         "mode": "markers",
         "name": "escUSD-1",
         "orientation": "v",
         "showlegend": true,
         "type": "scatter",
         "x": [
          null,
          null,
          null
         ],
         "xaxis": "x",
         "y": [
          20071.817167,
          20092.01656,
          20092.153807
         ],
         "yaxis": "y"
        },
        {
         "hovertemplate": "symbol=escUSD-2<br>block=%{x}<br>min_buy_scaled=%{y}<extra></extra>",
         "legendgroup": "escUSD-2",
         "marker": {
          "color": "#FFA15A",
          "symbol": "circle"
         },
         "mode": "markers",
         "name": "escUSD-2",
         "orientation": "v",
         "showlegend": true,
         "type": "scatter",
         "x": [
          null,
          null,
          null
         ],
         "xaxis": "x",
         "y": [
          20098.725574,
          20118.95595,
          20119.097117
         ],
         "yaxis": "y"
        },
        {
         "hovertemplate": "symbol=eUSDC.e-3<br>block=%{x}<br>min_buy_scaled=%{y}<extra></extra>",
         "legendgroup": "eUSDC.e-3",
         "marker": {
          "color": "#19d3f3",
          "symbol": "circle"
         },
         "mode": "markers",
         "name": "eUSDC.e-3",
         "orientation": "v",
         "showlegend": true,
         "type": "scatter",
         "x": [
          null,
          null,
          null
         ],
         "xaxis": "x",
         "y": [
          20217.97286,
          20217.976705,
          20217.980401
         ],
         "yaxis": "y"
        },
        {
         "hovertemplate": "symbol=wstkscUSD<br>block=%{x}<br>min_buy_scaled=%{y}<extra></extra>",
         "legendgroup": "wstkscUSD",
         "marker": {
          "color": "#FF6692",
          "symbol": "circle"
         },
         "mode": "markers",
         "name": "wstkscUSD",
         "orientation": "v",
         "showlegend": true,
         "type": "scatter",
         "x": [
          35728501,
          35728721,
          35728942
         ],
         "xaxis": "x",
         "y": [
          19993.652889,
          19993.651367,
          19993.651367
         ],
         "yaxis": "y"
        },
        {
         "hovertemplate": "symbol=frxUSD<br>block=%{x}<br>min_buy_scaled=%{y}<extra></extra>",
         "legendgroup": "frxUSD",
         "marker": {
          "color": "#B6E880",
          "symbol": "circle"
         },
         "mode": "markers",
         "name": "frxUSD",
         "orientation": "v",
         "showlegend": true,
         "type": "scatter",
         "x": [
          35728505,
          35728724,
          35728945
         ],
         "xaxis": "x",
         "y": [
          19868.900217,
          19868.898705,
          19868.898705
         ],
         "yaxis": "y"
        }
       ],
       "layout": {
        "legend": {
         "title": {
          "text": "symbol"
         },
         "tracegroupgap": 0
        },
        "margin": {
         "t": 60
        },
        "template": {
         "data": {
          "bar": [
           {
            "error_x": {
             "color": "#2a3f5f"
            },
            "error_y": {
             "color": "#2a3f5f"
            },
            "marker": {
             "line": {
              "color": "#E5ECF6",
              "width": 0.5
             },
             "pattern": {
              "fillmode": "overlay",
              "size": 10,
              "solidity": 0.2
             }
            },
            "type": "bar"
           }
          ],
          "barpolar": [
           {
            "marker": {
             "line": {
              "color": "#E5ECF6",
              "width": 0.5
             },
             "pattern": {
              "fillmode": "overlay",
              "size": 10,
              "solidity": 0.2
             }
            },
            "type": "barpolar"
           }
          ],
          "carpet": [
           {
            "aaxis": {
             "endlinecolor": "#2a3f5f",
             "gridcolor": "white",
             "linecolor": "white",
             "minorgridcolor": "white",
             "startlinecolor": "#2a3f5f"
            },
            "baxis": {
             "endlinecolor": "#2a3f5f",
             "gridcolor": "white",
             "linecolor": "white",
             "minorgridcolor": "white",
             "startlinecolor": "#2a3f5f"
            },
            "type": "carpet"
           }
          ],
          "choropleth": [
           {
            "colorbar": {
             "outlinewidth": 0,
             "ticks": ""
            },
            "type": "choropleth"
           }
          ],
          "contour": [
           {
            "colorbar": {
             "outlinewidth": 0,
             "ticks": ""
            },
            "colorscale": [
             [
              0,
              "#0d0887"
             ],
             [
              0.1111111111111111,
              "#46039f"
             ],
             [
              0.2222222222222222,
              "#7201a8"
             ],
             [
              0.3333333333333333,
              "#9c179e"
             ],
             [
              0.4444444444444444,
              "#bd3786"
             ],
             [
              0.5555555555555556,
              "#d8576b"
             ],
             [
              0.6666666666666666,
              "#ed7953"
             ],
             [
              0.7777777777777778,
              "#fb9f3a"
             ],
             [
              0.8888888888888888,
              "#fdca26"
             ],
             [
              1,
              "#f0f921"
             ]
            ],
            "type": "contour"
           }
          ],
          "contourcarpet": [
           {
            "colorbar": {
             "outlinewidth": 0,
             "ticks": ""
            },
            "type": "contourcarpet"
           }
          ],
          "heatmap": [
           {
            "colorbar": {
             "outlinewidth": 0,
             "ticks": ""
            },
            "colorscale": [
             [
              0,
              "#0d0887"
             ],
             [
              0.1111111111111111,
              "#46039f"
             ],
             [
              0.2222222222222222,
              "#7201a8"
             ],
             [
              0.3333333333333333,
              "#9c179e"
             ],
             [
              0.4444444444444444,
              "#bd3786"
             ],
             [
              0.5555555555555556,
              "#d8576b"
             ],
             [
              0.6666666666666666,
              "#ed7953"
             ],
             [
              0.7777777777777778,
              "#fb9f3a"
             ],
             [
              0.8888888888888888,
              "#fdca26"
             ],
             [
              1,
              "#f0f921"
             ]
            ],
            "type": "heatmap"
           }
          ],
          "heatmapgl": [
           {
            "colorbar": {
             "outlinewidth": 0,
             "ticks": ""
            },
            "colorscale": [
             [
              0,
              "#0d0887"
             ],
             [
              0.1111111111111111,
              "#46039f"
             ],
             [
              0.2222222222222222,
              "#7201a8"
             ],
             [
              0.3333333333333333,
              "#9c179e"
             ],
             [
              0.4444444444444444,
              "#bd3786"
             ],
             [
              0.5555555555555556,
              "#d8576b"
             ],
             [
              0.6666666666666666,
              "#ed7953"
             ],
             [
              0.7777777777777778,
              "#fb9f3a"
             ],
             [
              0.8888888888888888,
              "#fdca26"
             ],
             [
              1,
              "#f0f921"
             ]
            ],
            "type": "heatmapgl"
           }
          ],
          "histogram": [
           {
            "marker": {
             "pattern": {
              "fillmode": "overlay",
              "size": 10,
              "solidity": 0.2
             }
            },
            "type": "histogram"
           }
          ],
          "histogram2d": [
           {
            "colorbar": {
             "outlinewidth": 0,
             "ticks": ""
            },
            "colorscale": [
             [
              0,
              "#0d0887"
             ],
             [
              0.1111111111111111,
              "#46039f"
             ],
             [
              0.2222222222222222,
              "#7201a8"
             ],
             [
              0.3333333333333333,
              "#9c179e"
             ],
             [
              0.4444444444444444,
              "#bd3786"
             ],
             [
              0.5555555555555556,
              "#d8576b"
             ],
             [
              0.6666666666666666,
              "#ed7953"
             ],
             [
              0.7777777777777778,
              "#fb9f3a"
             ],
             [
              0.8888888888888888,
              "#fdca26"
             ],
             [
              1,
              "#f0f921"
             ]
            ],
            "type": "histogram2d"
           }
          ],
          "histogram2dcontour": [
           {
            "colorbar": {
             "outlinewidth": 0,
             "ticks": ""
            },
            "colorscale": [
             [
              0,
              "#0d0887"
             ],
             [
              0.1111111111111111,
              "#46039f"
             ],
             [
              0.2222222222222222,
              "#7201a8"
             ],
             [
              0.3333333333333333,
              "#9c179e"
             ],
             [
              0.4444444444444444,
              "#bd3786"
             ],
             [
              0.5555555555555556,
              "#d8576b"
             ],
             [
              0.6666666666666666,
              "#ed7953"
             ],
             [
              0.7777777777777778,
              "#fb9f3a"
             ],
             [
              0.8888888888888888,
              "#fdca26"
             ],
             [
              1,
              "#f0f921"
             ]
            ],
            "type": "histogram2dcontour"
           }
          ],
          "mesh3d": [
           {
            "colorbar": {
             "outlinewidth": 0,
             "ticks": ""
            },
            "type": "mesh3d"
           }
          ],
          "parcoords": [
           {
            "line": {
             "colorbar": {
              "outlinewidth": 0,
              "ticks": ""
             }
            },
            "type": "parcoords"
           }
          ],
          "pie": [
           {
            "automargin": true,
            "type": "pie"
           }
          ],
          "scatter": [
           {
            "fillpattern": {
             "fillmode": "overlay",
             "size": 10,
             "solidity": 0.2
            },
            "type": "scatter"
           }
          ],
          "scatter3d": [
           {
            "line": {
             "colorbar": {
              "outlinewidth": 0,
              "ticks": ""
             }
            },
            "marker": {
             "colorbar": {
              "outlinewidth": 0,
              "ticks": ""
             }
            },
            "type": "scatter3d"
           }
          ],
          "scattercarpet": [
           {
            "marker": {
             "colorbar": {
              "outlinewidth": 0,
              "ticks": ""
             }
            },
            "type": "scattercarpet"
           }
          ],
          "scattergeo": [
           {
            "marker": {
             "colorbar": {
              "outlinewidth": 0,
              "ticks": ""
             }
            },
            "type": "scattergeo"
           }
          ],
          "scattergl": [
           {
            "marker": {
             "colorbar": {
              "outlinewidth": 0,
              "ticks": ""
             }
            },
            "type": "scattergl"
           }
          ],
          "scattermapbox": [
           {
            "marker": {
             "colorbar": {
              "outlinewidth": 0,
              "ticks": ""
             }
            },
            "type": "scattermapbox"
           }
          ],
          "scatterpolar": [
           {
            "marker": {
             "colorbar": {
              "outlinewidth": 0,
              "ticks": ""
             }
            },
            "type": "scatterpolar"
           }
          ],
          "scatterpolargl": [
           {
            "marker": {
             "colorbar": {
              "outlinewidth": 0,
              "ticks": ""
             }
            },
            "type": "scatterpolargl"
           }
          ],
          "scatterternary": [
           {
            "marker": {
             "colorbar": {
              "outlinewidth": 0,
              "ticks": ""
             }
            },
            "type": "scatterternary"
           }
          ],
          "surface": [
           {
            "colorbar": {
             "outlinewidth": 0,
             "ticks": ""
            },
            "colorscale": [
             [
              0,
              "#0d0887"
             ],
             [
              0.1111111111111111,
              "#46039f"
             ],
             [
              0.2222222222222222,
              "#7201a8"
             ],
             [
              0.3333333333333333,
              "#9c179e"
             ],
             [
              0.4444444444444444,
              "#bd3786"
             ],
             [
              0.5555555555555556,
              "#d8576b"
             ],
             [
              0.6666666666666666,
              "#ed7953"
             ],
             [
              0.7777777777777778,
              "#fb9f3a"
             ],
             [
              0.8888888888888888,
              "#fdca26"
             ],
             [
              1,
              "#f0f921"
             ]
            ],
            "type": "surface"
           }
          ],
          "table": [
           {
            "cells": {
             "fill": {
              "color": "#EBF0F8"
             },
             "line": {
              "color": "white"
             }
            },
            "header": {
             "fill": {
              "color": "#C8D4E3"
             },
             "line": {
              "color": "white"
             }
            },
            "type": "table"
           }
          ]
         },
         "layout": {
          "annotationdefaults": {
           "arrowcolor": "#2a3f5f",
           "arrowhead": 0,
           "arrowwidth": 1
          },
          "autotypenumbers": "strict",
          "coloraxis": {
           "colorbar": {
            "outlinewidth": 0,
            "ticks": ""
           }
          },
          "colorscale": {
           "diverging": [
            [
             0,
             "#8e0152"
            ],
            [
             0.1,
             "#c51b7d"
            ],
            [
             0.2,
             "#de77ae"
            ],
            [
             0.3,
             "#f1b6da"
            ],
            [
             0.4,
             "#fde0ef"
            ],
            [
             0.5,
             "#f7f7f7"
            ],
            [
             0.6,
             "#e6f5d0"
            ],
            [
             0.7,
             "#b8e186"
            ],
            [
             0.8,
             "#7fbc41"
            ],
            [
             0.9,
             "#4d9221"
            ],
            [
             1,
             "#276419"
            ]
           ],
           "sequential": [
            [
             0,
             "#0d0887"
            ],
            [
             0.1111111111111111,
             "#46039f"
            ],
            [
             0.2222222222222222,
             "#7201a8"
            ],
            [
             0.3333333333333333,
             "#9c179e"
            ],
            [
             0.4444444444444444,
             "#bd3786"
            ],
            [
             0.5555555555555556,
             "#d8576b"
            ],
            [
             0.6666666666666666,
             "#ed7953"
            ],
            [
             0.7777777777777778,
             "#fb9f3a"
            ],
            [
             0.8888888888888888,
             "#fdca26"
            ],
            [
             1,
             "#f0f921"
            ]
           ],
           "sequentialminus": [
            [
             0,
             "#0d0887"
            ],
            [
             0.1111111111111111,
             "#46039f"
            ],
            [
             0.2222222222222222,
             "#7201a8"
            ],
            [
             0.3333333333333333,
             "#9c179e"
            ],
            [
             0.4444444444444444,
             "#bd3786"
            ],
            [
             0.5555555555555556,
             "#d8576b"
            ],
            [
             0.6666666666666666,
             "#ed7953"
            ],
            [
             0.7777777777777778,
             "#fb9f3a"
            ],
            [
             0.8888888888888888,
             "#fdca26"
            ],
            [
             1,
             "#f0f921"
            ]
           ]
          },
          "colorway": [
           "#636efa",
           "#EF553B",
           "#00cc96",
           "#ab63fa",
           "#FFA15A",
           "#19d3f3",
           "#FF6692",
           "#B6E880",
           "#FF97FF",
           "#FECB52"
          ],
          "font": {
           "color": "#2a3f5f"
          },
          "geo": {
           "bgcolor": "white",
           "lakecolor": "white",
           "landcolor": "#E5ECF6",
           "showlakes": true,
           "showland": true,
           "subunitcolor": "white"
          },
          "hoverlabel": {
           "align": "left"
          },
          "hovermode": "closest",
          "mapbox": {
           "style": "light"
          },
          "paper_bgcolor": "white",
          "plot_bgcolor": "#E5ECF6",
          "polar": {
           "angularaxis": {
            "gridcolor": "white",
            "linecolor": "white",
            "ticks": ""
           },
           "bgcolor": "#E5ECF6",
           "radialaxis": {
            "gridcolor": "white",
            "linecolor": "white",
            "ticks": ""
           }
          },
          "scene": {
           "xaxis": {
            "backgroundcolor": "#E5ECF6",
            "gridcolor": "white",
            "gridwidth": 2,
            "linecolor": "white",
            "showbackground": true,
            "ticks": "",
            "zerolinecolor": "white"
           },
           "yaxis": {
            "backgroundcolor": "#E5ECF6",
            "gridcolor": "white",
            "gridwidth": 2,
            "linecolor": "white",
            "showbackground": true,
            "ticks": "",
            "zerolinecolor": "white"
           },
           "zaxis": {
            "backgroundcolor": "#E5ECF6",
            "gridcolor": "white",
            "gridwidth": 2,
            "linecolor": "white",
            "showbackground": true,
            "ticks": "",
            "zerolinecolor": "white"
           }
          },
          "shapedefaults": {
           "line": {
            "color": "#2a3f5f"
           }
          },
          "ternary": {
           "aaxis": {
            "gridcolor": "white",
            "linecolor": "white",
            "ticks": ""
           },
           "baxis": {
            "gridcolor": "white",
            "linecolor": "white",
            "ticks": ""
           },
           "bgcolor": "#E5ECF6",
           "caxis": {
            "gridcolor": "white",
            "linecolor": "white",
            "ticks": ""
           }
          },
          "title": {
           "x": 0.05
          },
          "xaxis": {
           "automargin": true,
           "gridcolor": "white",
           "linecolor": "white",
           "ticks": "",
           "title": {
            "standoff": 15
           },
           "zerolinecolor": "white",
           "zerolinewidth": 2
          },
          "yaxis": {
           "automargin": true,
           "gridcolor": "white",
           "linecolor": "white",
           "ticks": "",
           "title": {
            "standoff": 15
           },
           "zerolinecolor": "white",
           "zerolinewidth": 2
          }
         }
        },
        "xaxis": {
         "anchor": "y",
         "domain": [
          0,
          1
         ],
         "title": {
          "text": "block"
         }
        },
        "yaxis": {
         "anchor": "x",
         "domain": [
          0,
          1
         ],
         "title": {
          "text": "min_buy_scaled"
         }
        }
       }
      }
     },
     "metadata": {},
     "output_type": "display_data"
    }
   ],
   "source": [
    "import plotly.express as px\n",
    "\n",
    "px.scatter(df, x=df[\"block\"], y=\"min_buy_scaled\", color=\"symbol\")"
   ]
  },
  {
   "cell_type": "code",
   "execution_count": null,
   "metadata": {},
   "outputs": [],
   "source": [
    "px.scatter(df, x=df.index, y=\"buy_scaled\", color=\"symbol\")"
   ]
  },
  {
   "cell_type": "code",
   "execution_count": null,
   "metadata": {},
   "outputs": [],
   "source": []
  }
 ],
 "metadata": {
  "kernelspec": {
   "display_name": "mainnet-launch-py3.10",
   "language": "python",
   "name": "python3"
  },
  "language_info": {
   "codemirror_mode": {
    "name": "ipython",
    "version": 3
   },
   "file_extension": ".py",
   "mimetype": "text/x-python",
   "name": "python",
   "nbconvert_exporter": "python",
   "pygments_lexer": "ipython3",
   "version": "3.10.14"
  }
 },
 "nbformat": 4,
 "nbformat_minor": 2
}
