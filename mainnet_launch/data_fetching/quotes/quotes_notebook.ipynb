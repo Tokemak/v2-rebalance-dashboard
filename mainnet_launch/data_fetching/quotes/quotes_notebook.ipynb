{
 "cells": [
  {
   "cell_type": "code",
   "execution_count": null,
   "metadata": {},
   "outputs": [],
   "source": []
  },
  {
   "cell_type": "code",
   "execution_count": 16,
   "metadata": {},
   "outputs": [
    {
     "name": "stdout",
     "output_type": "stream",
     "text": [
      "fetch_raw_amounts_by_destination took 0.7620 seconds.\n"
     ]
    },
    {
     "data": {
      "application/vnd.microsoft.datawrangler.viewer.v0+json": {
       "columns": [
        {
         "name": "index",
         "rawType": "int64",
         "type": "integer"
        },
        {
         "name": "symbol",
         "rawType": "object",
         "type": "string"
        },
        {
         "name": "sell_amount_norm",
         "rawType": "float64",
         "type": "float"
        },
        {
         "name": "buy_amount_norm",
         "rawType": "float64",
         "type": "float"
        },
        {
         "name": "token_price",
         "rawType": "float64",
         "type": "float"
        },
        {
         "name": "reference_quantity",
         "rawType": "int64",
         "type": "integer"
        },
        {
         "name": "token_price_at_reference_quantity",
         "rawType": "object",
         "type": "unknown"
        },
        {
         "name": "highest_sold_amount",
         "rawType": "float64",
         "type": "float"
        },
        {
         "name": "percent_sold",
         "rawType": "float64",
         "type": "float"
        },
        {
         "name": "bps_loss_excess_vs_reference",
         "rawType": "float64",
         "type": "float"
        }
       ],
       "ref": "062fb664-a1ac-4666-93ef-cae8531f69ec",
       "rows": [
        [
         "0",
         "ETHx",
         "5.0",
         "5.3200967326774835",
         "1.0640193465354968",
         "5",
         null,
         "985.5122863194523",
         "0.51",
         null
        ],
        [
         "1",
         "ETHx",
         "98.55122863194525",
         "104.82456397839724",
         "1.0636555772417686",
         "5",
         null,
         "985.5122863194523",
         "10.0",
         null
        ],
        [
         "2",
         "ETHx",
         "985.5122863194523",
         "1046.7276598986016",
         "1.062115281999951",
         "5",
         null,
         "985.5122863194523",
         "100.0",
         null
        ],
        [
         "3",
         "WETH",
         "5.0",
         "5.0",
         "1.0",
         "5",
         null,
         "3672.450422736626",
         "0.14",
         null
        ],
        [
         "4",
         "WETH",
         "367.2450422736626",
         "367.2450422736626",
         "1.0",
         "5",
         null,
         "3672.450422736626",
         "10.0",
         null
        ],
        [
         "5",
         "WETH",
         "3672.450422736626",
         "3672.450422736626",
         "1.0",
         "5",
         null,
         "3672.450422736626",
         "100.0",
         null
        ],
        [
         "6",
         "iETHv2",
         "4.314280001158426",
         "5.052426312623546",
         "1.1710937424707994",
         "5",
         null,
         "43.14280001158426",
         "10.0",
         null
        ],
        [
         "7",
         "iETHv2",
         "5.0",
         "5.855468481611155",
         "1.171093696322231",
         "5",
         null,
         "43.14280001158426",
         "11.59",
         null
        ],
        [
         "8",
         "iETHv2",
         "43.14280001158426",
         "50.5241500057487",
         "1.17109112046929",
         "5",
         null,
         "43.14280001158426",
         "100.0",
         null
        ],
        [
         "9",
         "osETH",
         "5.0",
         "5.252298305333908",
         "1.0504596610667816",
         "5",
         null,
         "2052.0158283908627",
         "0.24",
         null
        ],
        [
         "10",
         "osETH",
         "205.20158283908629",
         "215.54363710730314",
         "1.0503994858379178",
         "5",
         null,
         "2052.0158283908627",
         "10.0",
         null
        ],
        [
         "11",
         "osETH",
         "2052.0158283908627",
         "2154.572014348286",
         "1.049978262613035",
         "5",
         null,
         "2052.0158283908627",
         "100.0",
         null
        ],
        [
         "12",
         "pxETH",
         "5.0",
         "4.990554412482944",
         "0.9981108824965889",
         "5",
         null,
         "1458.8977954994245",
         "0.34",
         null
        ],
        [
         "13",
         "pxETH",
         "145.8897795499425",
         "145.58296098065296",
         "0.997896915258656",
         "5",
         null,
         "1458.8977954994245",
         "10.0",
         null
        ],
        [
         "14",
         "pxETH",
         "1458.8977954994245",
         "1452.0919147072639",
         "0.9953349159802994",
         "5",
         null,
         "1458.8977954994245",
         "100.0",
         null
        ],
        [
         "15",
         "rETH",
         "5.0",
         "5.699543093885982",
         "1.1399086187771963",
         "5",
         null,
         "517.0288004156486",
         "0.97",
         null
        ],
        [
         "16",
         "rETH",
         "51.70288004156487",
         "58.932525118631425",
         "1.1398306065591417",
         "5",
         null,
         "517.0288004156486",
         "10.0",
         null
        ],
        [
         "17",
         "rETH",
         "517.0288004156486",
         "589.2028546339101",
         "1.1395938759315527",
         "5",
         null,
         "517.0288004156486",
         "100.0",
         null
        ],
        [
         "18",
         "stETH",
         "5.0",
         "4.999342991556295",
         "0.9998685983112591",
         "5",
         null,
         "471.97277192959234",
         "1.06",
         null
        ],
        [
         "19",
         "stETH",
         "47.19727719295924",
         "47.19097738087629",
         "0.9998665217051146",
         "5",
         null,
         "471.97277192959234",
         "10.0",
         null
        ],
        [
         "20",
         "stETH",
         "471.97277192959234",
         "471.9017192868723",
         "0.9998494560556331",
         "5",
         null,
         "471.97277192959234",
         "100.0",
         null
        ],
        [
         "21",
         "weETH",
         "5.0",
         "5.357026698167",
         "1.0714053396334",
         "5",
         null,
         "1717.5066309218673",
         "0.29",
         null
        ],
        [
         "22",
         "weETH",
         "171.75066309218676",
         "184.013121230523",
         "1.0713968605277198",
         "5",
         null,
         "1717.5066309218673",
         "10.0",
         null
        ],
        [
         "23",
         "weETH",
         "1717.5066309218673",
         "1839.996226984181",
         "1.0713182667577636",
         "5",
         null,
         "1717.5066309218673",
         "100.0",
         null
        ]
       ],
       "shape": {
        "columns": 9,
        "rows": 24
       }
      },
      "text/html": [
       "<div>\n",
       "<style scoped>\n",
       "    .dataframe tbody tr th:only-of-type {\n",
       "        vertical-align: middle;\n",
       "    }\n",
       "\n",
       "    .dataframe tbody tr th {\n",
       "        vertical-align: top;\n",
       "    }\n",
       "\n",
       "    .dataframe thead th {\n",
       "        text-align: right;\n",
       "    }\n",
       "</style>\n",
       "<table border=\"1\" class=\"dataframe\">\n",
       "  <thead>\n",
       "    <tr style=\"text-align: right;\">\n",
       "      <th></th>\n",
       "      <th>symbol</th>\n",
       "      <th>sell_amount_norm</th>\n",
       "      <th>buy_amount_norm</th>\n",
       "      <th>token_price</th>\n",
       "      <th>reference_quantity</th>\n",
       "      <th>token_price_at_reference_quantity</th>\n",
       "      <th>highest_sold_amount</th>\n",
       "      <th>percent_sold</th>\n",
       "      <th>bps_loss_excess_vs_reference</th>\n",
       "    </tr>\n",
       "  </thead>\n",
       "  <tbody>\n",
       "    <tr>\n",
       "      <th>0</th>\n",
       "      <td>ETHx</td>\n",
       "      <td>5.000000</td>\n",
       "      <td>5.320097</td>\n",
       "      <td>1.064019</td>\n",
       "      <td>5</td>\n",
       "      <td>NaN</td>\n",
       "      <td>985.512286</td>\n",
       "      <td>0.51</td>\n",
       "      <td>NaN</td>\n",
       "    </tr>\n",
       "    <tr>\n",
       "      <th>1</th>\n",
       "      <td>ETHx</td>\n",
       "      <td>98.551229</td>\n",
       "      <td>104.824564</td>\n",
       "      <td>1.063656</td>\n",
       "      <td>5</td>\n",
       "      <td>NaN</td>\n",
       "      <td>985.512286</td>\n",
       "      <td>10.00</td>\n",
       "      <td>NaN</td>\n",
       "    </tr>\n",
       "    <tr>\n",
       "      <th>2</th>\n",
       "      <td>ETHx</td>\n",
       "      <td>985.512286</td>\n",
       "      <td>1046.727660</td>\n",
       "      <td>1.062115</td>\n",
       "      <td>5</td>\n",
       "      <td>NaN</td>\n",
       "      <td>985.512286</td>\n",
       "      <td>100.00</td>\n",
       "      <td>NaN</td>\n",
       "    </tr>\n",
       "    <tr>\n",
       "      <th>3</th>\n",
       "      <td>WETH</td>\n",
       "      <td>5.000000</td>\n",
       "      <td>5.000000</td>\n",
       "      <td>1.000000</td>\n",
       "      <td>5</td>\n",
       "      <td>NaN</td>\n",
       "      <td>3672.450423</td>\n",
       "      <td>0.14</td>\n",
       "      <td>NaN</td>\n",
       "    </tr>\n",
       "    <tr>\n",
       "      <th>4</th>\n",
       "      <td>WETH</td>\n",
       "      <td>367.245042</td>\n",
       "      <td>367.245042</td>\n",
       "      <td>1.000000</td>\n",
       "      <td>5</td>\n",
       "      <td>NaN</td>\n",
       "      <td>3672.450423</td>\n",
       "      <td>10.00</td>\n",
       "      <td>NaN</td>\n",
       "    </tr>\n",
       "    <tr>\n",
       "      <th>5</th>\n",
       "      <td>WETH</td>\n",
       "      <td>3672.450423</td>\n",
       "      <td>3672.450423</td>\n",
       "      <td>1.000000</td>\n",
       "      <td>5</td>\n",
       "      <td>NaN</td>\n",
       "      <td>3672.450423</td>\n",
       "      <td>100.00</td>\n",
       "      <td>NaN</td>\n",
       "    </tr>\n",
       "    <tr>\n",
       "      <th>6</th>\n",
       "      <td>iETHv2</td>\n",
       "      <td>4.314280</td>\n",
       "      <td>5.052426</td>\n",
       "      <td>1.171094</td>\n",
       "      <td>5</td>\n",
       "      <td>NaN</td>\n",
       "      <td>43.142800</td>\n",
       "      <td>10.00</td>\n",
       "      <td>NaN</td>\n",
       "    </tr>\n",
       "    <tr>\n",
       "      <th>7</th>\n",
       "      <td>iETHv2</td>\n",
       "      <td>5.000000</td>\n",
       "      <td>5.855468</td>\n",
       "      <td>1.171094</td>\n",
       "      <td>5</td>\n",
       "      <td>NaN</td>\n",
       "      <td>43.142800</td>\n",
       "      <td>11.59</td>\n",
       "      <td>NaN</td>\n",
       "    </tr>\n",
       "    <tr>\n",
       "      <th>8</th>\n",
       "      <td>iETHv2</td>\n",
       "      <td>43.142800</td>\n",
       "      <td>50.524150</td>\n",
       "      <td>1.171091</td>\n",
       "      <td>5</td>\n",
       "      <td>NaN</td>\n",
       "      <td>43.142800</td>\n",
       "      <td>100.00</td>\n",
       "      <td>NaN</td>\n",
       "    </tr>\n",
       "    <tr>\n",
       "      <th>9</th>\n",
       "      <td>osETH</td>\n",
       "      <td>5.000000</td>\n",
       "      <td>5.252298</td>\n",
       "      <td>1.050460</td>\n",
       "      <td>5</td>\n",
       "      <td>NaN</td>\n",
       "      <td>2052.015828</td>\n",
       "      <td>0.24</td>\n",
       "      <td>NaN</td>\n",
       "    </tr>\n",
       "    <tr>\n",
       "      <th>10</th>\n",
       "      <td>osETH</td>\n",
       "      <td>205.201583</td>\n",
       "      <td>215.543637</td>\n",
       "      <td>1.050399</td>\n",
       "      <td>5</td>\n",
       "      <td>NaN</td>\n",
       "      <td>2052.015828</td>\n",
       "      <td>10.00</td>\n",
       "      <td>NaN</td>\n",
       "    </tr>\n",
       "    <tr>\n",
       "      <th>11</th>\n",
       "      <td>osETH</td>\n",
       "      <td>2052.015828</td>\n",
       "      <td>2154.572014</td>\n",
       "      <td>1.049978</td>\n",
       "      <td>5</td>\n",
       "      <td>NaN</td>\n",
       "      <td>2052.015828</td>\n",
       "      <td>100.00</td>\n",
       "      <td>NaN</td>\n",
       "    </tr>\n",
       "    <tr>\n",
       "      <th>12</th>\n",
       "      <td>pxETH</td>\n",
       "      <td>5.000000</td>\n",
       "      <td>4.990554</td>\n",
       "      <td>0.998111</td>\n",
       "      <td>5</td>\n",
       "      <td>NaN</td>\n",
       "      <td>1458.897795</td>\n",
       "      <td>0.34</td>\n",
       "      <td>NaN</td>\n",
       "    </tr>\n",
       "    <tr>\n",
       "      <th>13</th>\n",
       "      <td>pxETH</td>\n",
       "      <td>145.889780</td>\n",
       "      <td>145.582961</td>\n",
       "      <td>0.997897</td>\n",
       "      <td>5</td>\n",
       "      <td>NaN</td>\n",
       "      <td>1458.897795</td>\n",
       "      <td>10.00</td>\n",
       "      <td>NaN</td>\n",
       "    </tr>\n",
       "    <tr>\n",
       "      <th>14</th>\n",
       "      <td>pxETH</td>\n",
       "      <td>1458.897795</td>\n",
       "      <td>1452.091915</td>\n",
       "      <td>0.995335</td>\n",
       "      <td>5</td>\n",
       "      <td>NaN</td>\n",
       "      <td>1458.897795</td>\n",
       "      <td>100.00</td>\n",
       "      <td>NaN</td>\n",
       "    </tr>\n",
       "    <tr>\n",
       "      <th>15</th>\n",
       "      <td>rETH</td>\n",
       "      <td>5.000000</td>\n",
       "      <td>5.699543</td>\n",
       "      <td>1.139909</td>\n",
       "      <td>5</td>\n",
       "      <td>NaN</td>\n",
       "      <td>517.028800</td>\n",
       "      <td>0.97</td>\n",
       "      <td>NaN</td>\n",
       "    </tr>\n",
       "    <tr>\n",
       "      <th>16</th>\n",
       "      <td>rETH</td>\n",
       "      <td>51.702880</td>\n",
       "      <td>58.932525</td>\n",
       "      <td>1.139831</td>\n",
       "      <td>5</td>\n",
       "      <td>NaN</td>\n",
       "      <td>517.028800</td>\n",
       "      <td>10.00</td>\n",
       "      <td>NaN</td>\n",
       "    </tr>\n",
       "    <tr>\n",
       "      <th>17</th>\n",
       "      <td>rETH</td>\n",
       "      <td>517.028800</td>\n",
       "      <td>589.202855</td>\n",
       "      <td>1.139594</td>\n",
       "      <td>5</td>\n",
       "      <td>NaN</td>\n",
       "      <td>517.028800</td>\n",
       "      <td>100.00</td>\n",
       "      <td>NaN</td>\n",
       "    </tr>\n",
       "    <tr>\n",
       "      <th>18</th>\n",
       "      <td>stETH</td>\n",
       "      <td>5.000000</td>\n",
       "      <td>4.999343</td>\n",
       "      <td>0.999869</td>\n",
       "      <td>5</td>\n",
       "      <td>NaN</td>\n",
       "      <td>471.972772</td>\n",
       "      <td>1.06</td>\n",
       "      <td>NaN</td>\n",
       "    </tr>\n",
       "    <tr>\n",
       "      <th>19</th>\n",
       "      <td>stETH</td>\n",
       "      <td>47.197277</td>\n",
       "      <td>47.190977</td>\n",
       "      <td>0.999867</td>\n",
       "      <td>5</td>\n",
       "      <td>NaN</td>\n",
       "      <td>471.972772</td>\n",
       "      <td>10.00</td>\n",
       "      <td>NaN</td>\n",
       "    </tr>\n",
       "    <tr>\n",
       "      <th>20</th>\n",
       "      <td>stETH</td>\n",
       "      <td>471.972772</td>\n",
       "      <td>471.901719</td>\n",
       "      <td>0.999849</td>\n",
       "      <td>5</td>\n",
       "      <td>NaN</td>\n",
       "      <td>471.972772</td>\n",
       "      <td>100.00</td>\n",
       "      <td>NaN</td>\n",
       "    </tr>\n",
       "    <tr>\n",
       "      <th>21</th>\n",
       "      <td>weETH</td>\n",
       "      <td>5.000000</td>\n",
       "      <td>5.357027</td>\n",
       "      <td>1.071405</td>\n",
       "      <td>5</td>\n",
       "      <td>NaN</td>\n",
       "      <td>1717.506631</td>\n",
       "      <td>0.29</td>\n",
       "      <td>NaN</td>\n",
       "    </tr>\n",
       "    <tr>\n",
       "      <th>22</th>\n",
       "      <td>weETH</td>\n",
       "      <td>171.750663</td>\n",
       "      <td>184.013121</td>\n",
       "      <td>1.071397</td>\n",
       "      <td>5</td>\n",
       "      <td>NaN</td>\n",
       "      <td>1717.506631</td>\n",
       "      <td>10.00</td>\n",
       "      <td>NaN</td>\n",
       "    </tr>\n",
       "    <tr>\n",
       "      <th>23</th>\n",
       "      <td>weETH</td>\n",
       "      <td>1717.506631</td>\n",
       "      <td>1839.996227</td>\n",
       "      <td>1.071318</td>\n",
       "      <td>5</td>\n",
       "      <td>NaN</td>\n",
       "      <td>1717.506631</td>\n",
       "      <td>100.00</td>\n",
       "      <td>NaN</td>\n",
       "    </tr>\n",
       "  </tbody>\n",
       "</table>\n",
       "</div>"
      ],
      "text/plain": [
       "    symbol  sell_amount_norm  buy_amount_norm  token_price  \\\n",
       "0     ETHx          5.000000         5.320097     1.064019   \n",
       "1     ETHx         98.551229       104.824564     1.063656   \n",
       "2     ETHx        985.512286      1046.727660     1.062115   \n",
       "3     WETH          5.000000         5.000000     1.000000   \n",
       "4     WETH        367.245042       367.245042     1.000000   \n",
       "5     WETH       3672.450423      3672.450423     1.000000   \n",
       "6   iETHv2          4.314280         5.052426     1.171094   \n",
       "7   iETHv2          5.000000         5.855468     1.171094   \n",
       "8   iETHv2         43.142800        50.524150     1.171091   \n",
       "9    osETH          5.000000         5.252298     1.050460   \n",
       "10   osETH        205.201583       215.543637     1.050399   \n",
       "11   osETH       2052.015828      2154.572014     1.049978   \n",
       "12   pxETH          5.000000         4.990554     0.998111   \n",
       "13   pxETH        145.889780       145.582961     0.997897   \n",
       "14   pxETH       1458.897795      1452.091915     0.995335   \n",
       "15    rETH          5.000000         5.699543     1.139909   \n",
       "16    rETH         51.702880        58.932525     1.139831   \n",
       "17    rETH        517.028800       589.202855     1.139594   \n",
       "18   stETH          5.000000         4.999343     0.999869   \n",
       "19   stETH         47.197277        47.190977     0.999867   \n",
       "20   stETH        471.972772       471.901719     0.999849   \n",
       "21   weETH          5.000000         5.357027     1.071405   \n",
       "22   weETH        171.750663       184.013121     1.071397   \n",
       "23   weETH       1717.506631      1839.996227     1.071318   \n",
       "\n",
       "    reference_quantity token_price_at_reference_quantity  highest_sold_amount  \\\n",
       "0                    5                               NaN           985.512286   \n",
       "1                    5                               NaN           985.512286   \n",
       "2                    5                               NaN           985.512286   \n",
       "3                    5                               NaN          3672.450423   \n",
       "4                    5                               NaN          3672.450423   \n",
       "5                    5                               NaN          3672.450423   \n",
       "6                    5                               NaN            43.142800   \n",
       "7                    5                               NaN            43.142800   \n",
       "8                    5                               NaN            43.142800   \n",
       "9                    5                               NaN          2052.015828   \n",
       "10                   5                               NaN          2052.015828   \n",
       "11                   5                               NaN          2052.015828   \n",
       "12                   5                               NaN          1458.897795   \n",
       "13                   5                               NaN          1458.897795   \n",
       "14                   5                               NaN          1458.897795   \n",
       "15                   5                               NaN           517.028800   \n",
       "16                   5                               NaN           517.028800   \n",
       "17                   5                               NaN           517.028800   \n",
       "18                   5                               NaN           471.972772   \n",
       "19                   5                               NaN           471.972772   \n",
       "20                   5                               NaN           471.972772   \n",
       "21                   5                               NaN          1717.506631   \n",
       "22                   5                               NaN          1717.506631   \n",
       "23                   5                               NaN          1717.506631   \n",
       "\n",
       "    percent_sold  bps_loss_excess_vs_reference  \n",
       "0           0.51                           NaN  \n",
       "1          10.00                           NaN  \n",
       "2         100.00                           NaN  \n",
       "3           0.14                           NaN  \n",
       "4          10.00                           NaN  \n",
       "5         100.00                           NaN  \n",
       "6          10.00                           NaN  \n",
       "7          11.59                           NaN  \n",
       "8         100.00                           NaN  \n",
       "9           0.24                           NaN  \n",
       "10         10.00                           NaN  \n",
       "11        100.00                           NaN  \n",
       "12          0.34                           NaN  \n",
       "13         10.00                           NaN  \n",
       "14        100.00                           NaN  \n",
       "15          0.97                           NaN  \n",
       "16         10.00                           NaN  \n",
       "17        100.00                           NaN  \n",
       "18          1.06                           NaN  \n",
       "19         10.00                           NaN  \n",
       "20        100.00                           NaN  \n",
       "21          0.29                           NaN  \n",
       "22         10.00                           NaN  \n",
       "23        100.00                           NaN  "
      ]
     },
     "execution_count": 16,
     "metadata": {},
     "output_type": "execute_result"
    }
   ],
   "source": [
    "import streamlit as st\n",
    "import plotly.express as px\n",
    "import pandas as pd\n",
    "import plotly.io as pio\n",
    "import glob\n",
    "\n",
    "from mainnet_launch.pages.exit_liquidity.estimate_exit_liquidity_from_quotes import (\n",
    "    fetch_and_render_exit_liquidity_from_quotes,\n",
    ")\n",
    "from mainnet_launch.constants import AUTO_ETH\n",
    "\n",
    "pio.templates.default = None\n",
    "\n",
    "quote_df, slippage_df2 = fetch_and_render_exit_liquidity_from_quotes(AUTO_ETH, None, None)\n",
    "slippage_df2"
   ]
  },
  {
   "cell_type": "markdown",
   "metadata": {},
   "source": [
    "### This is a method for estimating the excess slippage from moving at size to exit one of our assets. \n",
    "\n",
    "- Get a `reference price` by selling 10k (quantity) of a stable coin, or or 5 quantity of a LST / LRT for the base asset.\n",
    "\n",
    "For example if we sell \n",
    "\n",
    "5 stETH and the best quote we get is for 4.9 ETH\n",
    "\n",
    "then the reference price is 4.9 ETH / 5 stETH = 0.98 ETH/stETH\n",
    "\n",
    "By checking the quotes at larger sizes we can estimate the excess slippage\n",
    "\n",
    "For example\n",
    "\n",
    "Selling 100 stETH -> 97.5 ETH then the reference price = 97.5\n",
    "\n",
    "Therefore the excess slippage is\n",
    "\n",
    "10000 * (0.98 - 0.975) / 0.98 = 51bps\n",
    "\n",
    "This can help inform if we are too exposed for an asset. \n",
    "\n",
    "### Other notes\n",
    "- This uses `buyAmount` instead of `minBuyAmount` to in all calculations.\n",
    "- This looks at the quantity of assets we hold, then sells a percent of them. \n",
    "- For stable coins we also include a check for `[50k, 100k and 200k]` quantity of the stablecoin\n",
    "- This is delibertly slow, because of rate limiting in the swapper API. It uses sevearl different dex aggregators that each have different rate limits. In the past when I didn't make is this slow, some tokens would look like they would lose 50 -90% of the value on the larger sales. This went away after slowing down the speed of requests for quotes. \n",
    "- To avoid outliers, this makes 3 different requests for the same, (with a 12, 24, 36) second delay between them then reports the median.\n",
    "- This doesn't save data, everything is fetched live.\n",
    "\n",
    "### Know issues\n",
    "- This does not take into account that we might be trading against ourselves when we exit an asset. For example, if we are most of the pxETH:ETH liqudity, then by selling a large amount of pxETH, this method \n",
    "will give a quote that looks **better** that is actually would be because it is assuming that there is this large pool we could trade into. "
   ]
  },
  {
   "cell_type": "markdown",
   "metadata": {},
   "source": [
    "# Estimating Excess Slippage on Asset Exits\n",
    "This method helps quantify how much extra slippage we incur when selling larger chunks of an asset.\n",
    "\n",
    "1. Reference Price\n",
    "\n",
    "- Execute a small “reference” sale\n",
    "\n",
    "- For stablecoins: sell 10 000 units\n",
    "\n",
    "- For LSTs/LRTs: sell 5 units\n",
    "\n",
    "Compute the reference price\n",
    "- Example: sell 5 stETH → receive 4.9 ETH\n",
    "- Reference price = 4.9 ETH ÷ 5 stETH = 0.98 ETH/stETH\n",
    "\n",
    "2. Measuring Excess Slippage\n",
    "\n",
    "- Sell a larger quantity (e.g., 100 stETH → receive 97.5 ETH)\n",
    "- New price = 97.5 ETH ÷ 100 stETH = 0.975 ETH/stETH\n",
    "\n",
    "- Excess slippage in basis points (bps):\n",
    "\n",
    " `slippage_bps = 10 000 × (0.98 – 0.975) ÷ 0.98 ≈ 51 bps`\n",
    "\n",
    "- This tells you how far the large-sale price has fallen relative to your reference.\n",
    "\n",
    "3. Key Details\n",
    "\n",
    "- The quote data source is our swapper API at https://swaps-pricing.tokemaklabs.com/swap-quote-v2.\n",
    "\n",
    "- Use buyAmount (not minBuyAmount) in all calculations.\n",
    "\n",
    "- Percent-based scaling: looks at the current balance across each autopool and sells a percentage of it.\n",
    "\n",
    "- Additional stablecoin checks at quantities [50 000, 100 000, 200 000].\n",
    "\n",
    "- Deliberately slow: Because of various DEX-aggregator rate limits we need to be slower to avoid spurious 50–90 % “losses” on large sales.\n",
    "\n",
    "- Outlier mitigation: for each size, perform three quotes (with 12 s, 24 s, and 36 s delays) and report the median.\n",
    "\n",
    "- No data is saved: all data is fetched live each run.\n",
    "\n",
    "4. Known Issues\n",
    "If we are a large share of the pool (e.g. most of pxETH:ETH liquidity), the large-sale quote can look artificially better because in the real world we would be effectively trading against ourselves.\n",
    "\n"
   ]
  },
  {
   "cell_type": "code",
   "execution_count": null,
   "metadata": {},
   "outputs": [
    {
     "data": {
      "application/vnd.microsoft.datawrangler.viewer.v0+json": {
       "columns": [
        {
         "name": "index",
         "rawType": "int64",
         "type": "integer"
        },
        {
         "name": "symbol",
         "rawType": "object",
         "type": "string"
        },
        {
         "name": "sell_amount_norm",
         "rawType": "float64",
         "type": "float"
        },
        {
         "name": "buy_amount_norm",
         "rawType": "float64",
         "type": "float"
        },
        {
         "name": "token_price",
         "rawType": "float64",
         "type": "float"
        },
        {
         "name": "reference_quantity",
         "rawType": "int64",
         "type": "integer"
        },
        {
         "name": "token_price_at_reference_quantity",
         "rawType": "float64",
         "type": "float"
        },
        {
         "name": "highest_sold_amount",
         "rawType": "float64",
         "type": "float"
        },
        {
         "name": "percent_sold",
         "rawType": "float64",
         "type": "float"
        },
        {
         "name": "bps_loss_excess_vs_reference",
         "rawType": "float64",
         "type": "float"
        }
       ],
       "ref": "87aa4a1c-10b2-481f-a620-f5b839051d18",
       "rows": [
        [
         "0",
         "ETHx",
         "5.0",
         "5.3200967326774835",
         "1.0640193465354968",
         "5",
         "1.0640193465354968",
         "985.5122863194523",
         "0.51",
         "0.0"
        ],
        [
         "1",
         "ETHx",
         "98.55122863194525",
         "104.82456397839724",
         "1.0636555772417686",
         "5",
         "1.0640193465354968",
         "985.5122863194523",
         "10.0",
         "3.41999140992124"
        ],
        [
         "2",
         "ETHx",
         "985.5122863194523",
         "1046.7276598986016",
         "1.062115281999951",
         "5",
         "1.0640193465354968",
         "985.5122863194523",
         "100.0",
         "17.92709857220367"
        ],
        [
         "3",
         "WETH",
         "5.0",
         "5.0",
         "1.0",
         "5",
         "1.0",
         "3672.450422736626",
         "0.14",
         "0.0"
        ],
        [
         "4",
         "WETH",
         "367.2450422736626",
         "367.2450422736626",
         "1.0",
         "5",
         "1.0",
         "3672.450422736626",
         "10.0",
         "0.0"
        ],
        [
         "5",
         "WETH",
         "3672.450422736626",
         "3672.450422736626",
         "1.0",
         "5",
         "1.0",
         "3672.450422736626",
         "100.0",
         "0.0"
        ],
        [
         "6",
         "iETHv2",
         "4.314280001158426",
         "5.052426312623546",
         "1.1710937424707994",
         "5",
         "1.171093696322231",
         "43.14280001158426",
         "10.0",
         "-0.00039406382980731"
        ],
        [
         "7",
         "iETHv2",
         "5.0",
         "5.855468481611155",
         "1.171093696322231",
         "5",
         "1.171093696322231",
         "43.14280001158426",
         "11.59",
         "0.0"
        ],
        [
         "8",
         "iETHv2",
         "43.14280001158426",
         "50.5241500057487",
         "1.17109112046929",
         "5",
         "1.171093696322231",
         "43.14280001158426",
         "100.0",
         "0.021995324667072342"
        ],
        [
         "9",
         "osETH",
         "5.0",
         "5.252298305333908",
         "1.0504596610667816",
         "5",
         "1.0504596610667816",
         "2052.0158283908627",
         "0.24",
         "0.0"
        ],
        [
         "10",
         "osETH",
         "205.20158283908629",
         "215.54363710730314",
         "1.0503994858379178",
         "5",
         "1.0504596610667816",
         "2052.0158283908627",
         "10.0",
         "0.5728794584834536"
        ],
        [
         "11",
         "osETH",
         "2052.0158283908627",
         "2154.572014348286",
         "1.049978262613035",
         "5",
         "1.0504596610667816",
         "2052.0158283908627",
         "100.0",
         "4.5848420951933075"
        ],
        [
         "12",
         "pxETH",
         "5.0",
         "4.990554412482944",
         "0.9981108824965889",
         "5",
         "0.9981108824965889",
         "1458.8977954994245",
         "0.34",
         "0.0"
        ],
        [
         "13",
         "pxETH",
         "145.8897795499425",
         "145.58296098065296",
         "0.997896915258656",
         "5",
         "0.9981108824965889",
         "1458.8977954994245",
         "10.0",
         "2.1441817753030796"
        ],
        [
         "14",
         "pxETH",
         "1458.8977954994245",
         "1452.0919147072639",
         "0.9953349159802994",
         "5",
         "0.9981108824965889",
         "1458.8977954994245",
         "100.0",
         "27.889773298622664"
        ],
        [
         "15",
         "rETH",
         "5.0",
         "5.699543093885982",
         "1.1399086187771963",
         "5",
         "1.1399086187771963",
         "517.0288004156486",
         "0.97",
         "0.0"
        ],
        [
         "16",
         "rETH",
         "51.70288004156487",
         "58.932525118631425",
         "1.1398306065591417",
         "5",
         "1.1399086187771963",
         "517.0288004156486",
         "10.0",
         "0.6844194006168126"
        ],
        [
         "17",
         "rETH",
         "517.0288004156486",
         "589.2028546339101",
         "1.1395938759315527",
         "5",
         "1.1399086187771963",
         "517.0288004156486",
         "100.0",
         "2.7618860744254654"
        ],
        [
         "18",
         "stETH",
         "5.0",
         "4.999342991556295",
         "0.9998685983112591",
         "5",
         "0.9998685983112591",
         "471.97277192959234",
         "1.06",
         "0.0"
        ],
        [
         "19",
         "stETH",
         "47.19727719295924",
         "47.19097738087629",
         "0.9998665217051146",
         "5",
         "0.9998685983112591",
         "471.97277192959234",
         "10.0",
         "0.02076883363335474"
        ],
        [
         "20",
         "stETH",
         "471.97277192959234",
         "471.9017192868723",
         "0.9998494560556331",
         "5",
         "0.9998685983112591",
         "471.97277192959234",
         "100.0",
         "0.19145137810498294"
        ],
        [
         "21",
         "weETH",
         "5.0",
         "5.357026698167",
         "1.0714053396334",
         "5",
         "1.0714053396334",
         "1717.5066309218673",
         "0.29",
         "0.0"
        ],
        [
         "22",
         "weETH",
         "171.75066309218676",
         "184.013121230523",
         "1.0713968605277198",
         "5",
         "1.0714053396334",
         "1717.5066309218673",
         "10.0",
         "0.07914066199588826"
        ],
        [
         "23",
         "weETH",
         "1717.5066309218673",
         "1839.996226984181",
         "1.0713182667577636",
         "5",
         "1.0714053396334",
         "1717.5066309218673",
         "100.0",
         "0.8127638474781151"
        ]
       ],
       "shape": {
        "columns": 9,
        "rows": 24
       }
      },
      "text/html": [
       "<div>\n",
       "<style scoped>\n",
       "    .dataframe tbody tr th:only-of-type {\n",
       "        vertical-align: middle;\n",
       "    }\n",
       "\n",
       "    .dataframe tbody tr th {\n",
       "        vertical-align: top;\n",
       "    }\n",
       "\n",
       "    .dataframe thead th {\n",
       "        text-align: right;\n",
       "    }\n",
       "</style>\n",
       "<table border=\"1\" class=\"dataframe\">\n",
       "  <thead>\n",
       "    <tr style=\"text-align: right;\">\n",
       "      <th></th>\n",
       "      <th>symbol</th>\n",
       "      <th>sell_amount_norm</th>\n",
       "      <th>buy_amount_norm</th>\n",
       "      <th>token_price</th>\n",
       "      <th>reference_quantity</th>\n",
       "      <th>token_price_at_reference_quantity</th>\n",
       "      <th>highest_sold_amount</th>\n",
       "      <th>percent_sold</th>\n",
       "      <th>bps_loss_excess_vs_reference</th>\n",
       "    </tr>\n",
       "  </thead>\n",
       "  <tbody>\n",
       "    <tr>\n",
       "      <th>0</th>\n",
       "      <td>ETHx</td>\n",
       "      <td>5.000000</td>\n",
       "      <td>5.320097</td>\n",
       "      <td>1.064019</td>\n",
       "      <td>5</td>\n",
       "      <td>1.064019</td>\n",
       "      <td>985.512286</td>\n",
       "      <td>0.51</td>\n",
       "      <td>0.000000</td>\n",
       "    </tr>\n",
       "    <tr>\n",
       "      <th>1</th>\n",
       "      <td>ETHx</td>\n",
       "      <td>98.551229</td>\n",
       "      <td>104.824564</td>\n",
       "      <td>1.063656</td>\n",
       "      <td>5</td>\n",
       "      <td>1.064019</td>\n",
       "      <td>985.512286</td>\n",
       "      <td>10.00</td>\n",
       "      <td>3.419991</td>\n",
       "    </tr>\n",
       "    <tr>\n",
       "      <th>2</th>\n",
       "      <td>ETHx</td>\n",
       "      <td>985.512286</td>\n",
       "      <td>1046.727660</td>\n",
       "      <td>1.062115</td>\n",
       "      <td>5</td>\n",
       "      <td>1.064019</td>\n",
       "      <td>985.512286</td>\n",
       "      <td>100.00</td>\n",
       "      <td>17.927099</td>\n",
       "    </tr>\n",
       "    <tr>\n",
       "      <th>3</th>\n",
       "      <td>WETH</td>\n",
       "      <td>5.000000</td>\n",
       "      <td>5.000000</td>\n",
       "      <td>1.000000</td>\n",
       "      <td>5</td>\n",
       "      <td>1.000000</td>\n",
       "      <td>3672.450423</td>\n",
       "      <td>0.14</td>\n",
       "      <td>0.000000</td>\n",
       "    </tr>\n",
       "    <tr>\n",
       "      <th>4</th>\n",
       "      <td>WETH</td>\n",
       "      <td>367.245042</td>\n",
       "      <td>367.245042</td>\n",
       "      <td>1.000000</td>\n",
       "      <td>5</td>\n",
       "      <td>1.000000</td>\n",
       "      <td>3672.450423</td>\n",
       "      <td>10.00</td>\n",
       "      <td>0.000000</td>\n",
       "    </tr>\n",
       "    <tr>\n",
       "      <th>5</th>\n",
       "      <td>WETH</td>\n",
       "      <td>3672.450423</td>\n",
       "      <td>3672.450423</td>\n",
       "      <td>1.000000</td>\n",
       "      <td>5</td>\n",
       "      <td>1.000000</td>\n",
       "      <td>3672.450423</td>\n",
       "      <td>100.00</td>\n",
       "      <td>0.000000</td>\n",
       "    </tr>\n",
       "    <tr>\n",
       "      <th>6</th>\n",
       "      <td>iETHv2</td>\n",
       "      <td>4.314280</td>\n",
       "      <td>5.052426</td>\n",
       "      <td>1.171094</td>\n",
       "      <td>5</td>\n",
       "      <td>1.171094</td>\n",
       "      <td>43.142800</td>\n",
       "      <td>10.00</td>\n",
       "      <td>-0.000394</td>\n",
       "    </tr>\n",
       "    <tr>\n",
       "      <th>7</th>\n",
       "      <td>iETHv2</td>\n",
       "      <td>5.000000</td>\n",
       "      <td>5.855468</td>\n",
       "      <td>1.171094</td>\n",
       "      <td>5</td>\n",
       "      <td>1.171094</td>\n",
       "      <td>43.142800</td>\n",
       "      <td>11.59</td>\n",
       "      <td>0.000000</td>\n",
       "    </tr>\n",
       "    <tr>\n",
       "      <th>8</th>\n",
       "      <td>iETHv2</td>\n",
       "      <td>43.142800</td>\n",
       "      <td>50.524150</td>\n",
       "      <td>1.171091</td>\n",
       "      <td>5</td>\n",
       "      <td>1.171094</td>\n",
       "      <td>43.142800</td>\n",
       "      <td>100.00</td>\n",
       "      <td>0.021995</td>\n",
       "    </tr>\n",
       "    <tr>\n",
       "      <th>9</th>\n",
       "      <td>osETH</td>\n",
       "      <td>5.000000</td>\n",
       "      <td>5.252298</td>\n",
       "      <td>1.050460</td>\n",
       "      <td>5</td>\n",
       "      <td>1.050460</td>\n",
       "      <td>2052.015828</td>\n",
       "      <td>0.24</td>\n",
       "      <td>0.000000</td>\n",
       "    </tr>\n",
       "    <tr>\n",
       "      <th>10</th>\n",
       "      <td>osETH</td>\n",
       "      <td>205.201583</td>\n",
       "      <td>215.543637</td>\n",
       "      <td>1.050399</td>\n",
       "      <td>5</td>\n",
       "      <td>1.050460</td>\n",
       "      <td>2052.015828</td>\n",
       "      <td>10.00</td>\n",
       "      <td>0.572879</td>\n",
       "    </tr>\n",
       "    <tr>\n",
       "      <th>11</th>\n",
       "      <td>osETH</td>\n",
       "      <td>2052.015828</td>\n",
       "      <td>2154.572014</td>\n",
       "      <td>1.049978</td>\n",
       "      <td>5</td>\n",
       "      <td>1.050460</td>\n",
       "      <td>2052.015828</td>\n",
       "      <td>100.00</td>\n",
       "      <td>4.584842</td>\n",
       "    </tr>\n",
       "    <tr>\n",
       "      <th>12</th>\n",
       "      <td>pxETH</td>\n",
       "      <td>5.000000</td>\n",
       "      <td>4.990554</td>\n",
       "      <td>0.998111</td>\n",
       "      <td>5</td>\n",
       "      <td>0.998111</td>\n",
       "      <td>1458.897795</td>\n",
       "      <td>0.34</td>\n",
       "      <td>0.000000</td>\n",
       "    </tr>\n",
       "    <tr>\n",
       "      <th>13</th>\n",
       "      <td>pxETH</td>\n",
       "      <td>145.889780</td>\n",
       "      <td>145.582961</td>\n",
       "      <td>0.997897</td>\n",
       "      <td>5</td>\n",
       "      <td>0.998111</td>\n",
       "      <td>1458.897795</td>\n",
       "      <td>10.00</td>\n",
       "      <td>2.144182</td>\n",
       "    </tr>\n",
       "    <tr>\n",
       "      <th>14</th>\n",
       "      <td>pxETH</td>\n",
       "      <td>1458.897795</td>\n",
       "      <td>1452.091915</td>\n",
       "      <td>0.995335</td>\n",
       "      <td>5</td>\n",
       "      <td>0.998111</td>\n",
       "      <td>1458.897795</td>\n",
       "      <td>100.00</td>\n",
       "      <td>27.889773</td>\n",
       "    </tr>\n",
       "    <tr>\n",
       "      <th>15</th>\n",
       "      <td>rETH</td>\n",
       "      <td>5.000000</td>\n",
       "      <td>5.699543</td>\n",
       "      <td>1.139909</td>\n",
       "      <td>5</td>\n",
       "      <td>1.139909</td>\n",
       "      <td>517.028800</td>\n",
       "      <td>0.97</td>\n",
       "      <td>0.000000</td>\n",
       "    </tr>\n",
       "    <tr>\n",
       "      <th>16</th>\n",
       "      <td>rETH</td>\n",
       "      <td>51.702880</td>\n",
       "      <td>58.932525</td>\n",
       "      <td>1.139831</td>\n",
       "      <td>5</td>\n",
       "      <td>1.139909</td>\n",
       "      <td>517.028800</td>\n",
       "      <td>10.00</td>\n",
       "      <td>0.684419</td>\n",
       "    </tr>\n",
       "    <tr>\n",
       "      <th>17</th>\n",
       "      <td>rETH</td>\n",
       "      <td>517.028800</td>\n",
       "      <td>589.202855</td>\n",
       "      <td>1.139594</td>\n",
       "      <td>5</td>\n",
       "      <td>1.139909</td>\n",
       "      <td>517.028800</td>\n",
       "      <td>100.00</td>\n",
       "      <td>2.761886</td>\n",
       "    </tr>\n",
       "    <tr>\n",
       "      <th>18</th>\n",
       "      <td>stETH</td>\n",
       "      <td>5.000000</td>\n",
       "      <td>4.999343</td>\n",
       "      <td>0.999869</td>\n",
       "      <td>5</td>\n",
       "      <td>0.999869</td>\n",
       "      <td>471.972772</td>\n",
       "      <td>1.06</td>\n",
       "      <td>0.000000</td>\n",
       "    </tr>\n",
       "    <tr>\n",
       "      <th>19</th>\n",
       "      <td>stETH</td>\n",
       "      <td>47.197277</td>\n",
       "      <td>47.190977</td>\n",
       "      <td>0.999867</td>\n",
       "      <td>5</td>\n",
       "      <td>0.999869</td>\n",
       "      <td>471.972772</td>\n",
       "      <td>10.00</td>\n",
       "      <td>0.020769</td>\n",
       "    </tr>\n",
       "    <tr>\n",
       "      <th>20</th>\n",
       "      <td>stETH</td>\n",
       "      <td>471.972772</td>\n",
       "      <td>471.901719</td>\n",
       "      <td>0.999849</td>\n",
       "      <td>5</td>\n",
       "      <td>0.999869</td>\n",
       "      <td>471.972772</td>\n",
       "      <td>100.00</td>\n",
       "      <td>0.191451</td>\n",
       "    </tr>\n",
       "    <tr>\n",
       "      <th>21</th>\n",
       "      <td>weETH</td>\n",
       "      <td>5.000000</td>\n",
       "      <td>5.357027</td>\n",
       "      <td>1.071405</td>\n",
       "      <td>5</td>\n",
       "      <td>1.071405</td>\n",
       "      <td>1717.506631</td>\n",
       "      <td>0.29</td>\n",
       "      <td>0.000000</td>\n",
       "    </tr>\n",
       "    <tr>\n",
       "      <th>22</th>\n",
       "      <td>weETH</td>\n",
       "      <td>171.750663</td>\n",
       "      <td>184.013121</td>\n",
       "      <td>1.071397</td>\n",
       "      <td>5</td>\n",
       "      <td>1.071405</td>\n",
       "      <td>1717.506631</td>\n",
       "      <td>10.00</td>\n",
       "      <td>0.079141</td>\n",
       "    </tr>\n",
       "    <tr>\n",
       "      <th>23</th>\n",
       "      <td>weETH</td>\n",
       "      <td>1717.506631</td>\n",
       "      <td>1839.996227</td>\n",
       "      <td>1.071318</td>\n",
       "      <td>5</td>\n",
       "      <td>1.071405</td>\n",
       "      <td>1717.506631</td>\n",
       "      <td>100.00</td>\n",
       "      <td>0.812764</td>\n",
       "    </tr>\n",
       "  </tbody>\n",
       "</table>\n",
       "</div>"
      ],
      "text/plain": [
       "    symbol  sell_amount_norm  buy_amount_norm  token_price  \\\n",
       "0     ETHx          5.000000         5.320097     1.064019   \n",
       "1     ETHx         98.551229       104.824564     1.063656   \n",
       "2     ETHx        985.512286      1046.727660     1.062115   \n",
       "3     WETH          5.000000         5.000000     1.000000   \n",
       "4     WETH        367.245042       367.245042     1.000000   \n",
       "5     WETH       3672.450423      3672.450423     1.000000   \n",
       "6   iETHv2          4.314280         5.052426     1.171094   \n",
       "7   iETHv2          5.000000         5.855468     1.171094   \n",
       "8   iETHv2         43.142800        50.524150     1.171091   \n",
       "9    osETH          5.000000         5.252298     1.050460   \n",
       "10   osETH        205.201583       215.543637     1.050399   \n",
       "11   osETH       2052.015828      2154.572014     1.049978   \n",
       "12   pxETH          5.000000         4.990554     0.998111   \n",
       "13   pxETH        145.889780       145.582961     0.997897   \n",
       "14   pxETH       1458.897795      1452.091915     0.995335   \n",
       "15    rETH          5.000000         5.699543     1.139909   \n",
       "16    rETH         51.702880        58.932525     1.139831   \n",
       "17    rETH        517.028800       589.202855     1.139594   \n",
       "18   stETH          5.000000         4.999343     0.999869   \n",
       "19   stETH         47.197277        47.190977     0.999867   \n",
       "20   stETH        471.972772       471.901719     0.999849   \n",
       "21   weETH          5.000000         5.357027     1.071405   \n",
       "22   weETH        171.750663       184.013121     1.071397   \n",
       "23   weETH       1717.506631      1839.996227     1.071318   \n",
       "\n",
       "    reference_quantity  token_price_at_reference_quantity  \\\n",
       "0                    5                           1.064019   \n",
       "1                    5                           1.064019   \n",
       "2                    5                           1.064019   \n",
       "3                    5                           1.000000   \n",
       "4                    5                           1.000000   \n",
       "5                    5                           1.000000   \n",
       "6                    5                           1.171094   \n",
       "7                    5                           1.171094   \n",
       "8                    5                           1.171094   \n",
       "9                    5                           1.050460   \n",
       "10                   5                           1.050460   \n",
       "11                   5                           1.050460   \n",
       "12                   5                           0.998111   \n",
       "13                   5                           0.998111   \n",
       "14                   5                           0.998111   \n",
       "15                   5                           1.139909   \n",
       "16                   5                           1.139909   \n",
       "17                   5                           1.139909   \n",
       "18                   5                           0.999869   \n",
       "19                   5                           0.999869   \n",
       "20                   5                           0.999869   \n",
       "21                   5                           1.071405   \n",
       "22                   5                           1.071405   \n",
       "23                   5                           1.071405   \n",
       "\n",
       "    highest_sold_amount  percent_sold  bps_loss_excess_vs_reference  \n",
       "0            985.512286          0.51                      0.000000  \n",
       "1            985.512286         10.00                      3.419991  \n",
       "2            985.512286        100.00                     17.927099  \n",
       "3           3672.450423          0.14                      0.000000  \n",
       "4           3672.450423         10.00                      0.000000  \n",
       "5           3672.450423        100.00                      0.000000  \n",
       "6             43.142800         10.00                     -0.000394  \n",
       "7             43.142800         11.59                      0.000000  \n",
       "8             43.142800        100.00                      0.021995  \n",
       "9           2052.015828          0.24                      0.000000  \n",
       "10          2052.015828         10.00                      0.572879  \n",
       "11          2052.015828        100.00                      4.584842  \n",
       "12          1458.897795          0.34                      0.000000  \n",
       "13          1458.897795         10.00                      2.144182  \n",
       "14          1458.897795        100.00                     27.889773  \n",
       "15           517.028800          0.97                      0.000000  \n",
       "16           517.028800         10.00                      0.684419  \n",
       "17           517.028800        100.00                      2.761886  \n",
       "18           471.972772          1.06                      0.000000  \n",
       "19           471.972772         10.00                      0.020769  \n",
       "20           471.972772        100.00                      0.191451  \n",
       "21          1717.506631          0.29                      0.000000  \n",
       "22          1717.506631         10.00                      0.079141  \n",
       "23          1717.506631        100.00                      0.812764  "
      ]
     },
     "execution_count": 21,
     "metadata": {},
     "output_type": "execute_result"
    }
   ],
   "source": []
  },
  {
   "cell_type": "code",
   "execution_count": null,
   "metadata": {},
   "outputs": [],
   "source": [
    "slippage_df = (\n",
    "    quote_df.groupby([\"symbol\", \"sell_amount_norm\"])[\n",
    "        [\"buy_amount_norm\", \"token_price\", \"sellAmount\", \"reference_quantity\"]\n",
    "    ]\n",
    "    .first()\n",
    "    .reset_index()\n",
    ")\n",
    "\n",
    "# slippage_df[['sellAmount', 'reference_quantity']].astype(int)"
   ]
  },
  {
   "cell_type": "code",
   "execution_count": 19,
   "metadata": {},
   "outputs": [],
   "source": [
    "# slippage_df[['sellAmount', 'reference_quantity']]\n",
    "#\n",
    "#  = slippage_df[['sellAmount', 'reference_quantity']].astype(str)\n",
    "# slippage_df[slippage_df[\"sellAmount\"].astype(str) == slippage_df[\"reference_quantity\"].astype(str)]\n",
    "\n",
    "# slippage_df\n",
    "# price_at_reference_quantity = (\n",
    "#     slippage_df[slippage_df[\"sellAmount\"].astype(str) == slippage_df[\"reference_quantity\"].astype(str)]\n",
    "#     .set_index(\"symbol\")[[\"token_price\"]]\n",
    "#     .to_dict()\n",
    "# )\n",
    "# price_at_reference_quantity\n",
    "# # highest_sold_amount = slippage_df.groupby(\"symbol\")[\"sell_amount_norm\"].max().to_dict()\n",
    "\n",
    "# slippage_df[\"token_price_at_reference_quantity\"] = slippage_df[\"symbol\"].map(price_at_reference_quantity)\n",
    "# slippage_df[\"highest_sold_amount\"] = slippage_df[\"symbol\"].map(highest_sold_amount)\n",
    "\n",
    "# slippage_df[\"percent_sold\"] = slippage_df.apply(\n",
    "#     lambda row: round(100 * row[\"sell_amount_norm\"] / row[\"highest_sold_amount\"], 2), axis=1\n",
    "# )\n",
    "# slippage_df[\"bps_loss_excess_vs_reference\"] = slippage_df.apply(\n",
    "#     lambda row: 10_000 * (row[\"token_price_at_reference_quantity\"] - row[\"token_price\"]) / row[\"token_price\"],\n",
    "#     axis=1,\n",
    "# )"
   ]
  },
  {
   "cell_type": "code",
   "execution_count": 22,
   "metadata": {},
   "outputs": [
    {
     "ename": "ValueError",
     "evalue": "Value of 'y' is not the name of a column in 'data_frame'. Expected one of ['symbol', 'sell_amount_norm', 'buy_amount_norm', 'token_price', 'reference_quantity', 'token_price_at_reference_quantity', 'highest_sold_amount', 'percent_sold', 'bps_loss_excess_vs_reference'] but received: ratio",
     "output_type": "error",
     "traceback": [
      "\u001b[0;31m---------------------------------------------------------------------------\u001b[0m",
      "\u001b[0;31mValueError\u001b[0m                                Traceback (most recent call last)",
      "Cell \u001b[0;32mIn[22], line 1\u001b[0m\n\u001b[0;32m----> 1\u001b[0m \u001b[43mpx\u001b[49m\u001b[38;5;241;43m.\u001b[39;49m\u001b[43mscatter\u001b[49m\u001b[43m(\u001b[49m\n\u001b[1;32m      2\u001b[0m \u001b[43m    \u001b[49m\u001b[43mslippage_df\u001b[49m\u001b[43m,\u001b[49m\n\u001b[1;32m      3\u001b[0m \u001b[43m    \u001b[49m\u001b[43mx\u001b[49m\u001b[38;5;241;43m=\u001b[39;49m\u001b[38;5;124;43m\"\u001b[39;49m\u001b[38;5;124;43msell_amount_norm\u001b[39;49m\u001b[38;5;124;43m\"\u001b[39;49m\u001b[43m,\u001b[49m\n\u001b[1;32m      4\u001b[0m \u001b[43m    \u001b[49m\u001b[43my\u001b[49m\u001b[38;5;241;43m=\u001b[39;49m\u001b[38;5;124;43m\"\u001b[39;49m\u001b[38;5;124;43mratio\u001b[39;49m\u001b[38;5;124;43m\"\u001b[39;49m\u001b[43m,\u001b[49m\n\u001b[1;32m      5\u001b[0m \u001b[43m    \u001b[49m\u001b[43mcolor\u001b[49m\u001b[38;5;241;43m=\u001b[39;49m\u001b[38;5;124;43m\"\u001b[39;49m\u001b[38;5;124;43msymbol\u001b[39;49m\u001b[38;5;124;43m\"\u001b[39;49m\u001b[43m,\u001b[49m\n\u001b[1;32m      6\u001b[0m \u001b[43m    \u001b[49m\u001b[43mtitle\u001b[49m\u001b[38;5;241;43m=\u001b[39;49m\u001b[38;5;124;43m\"\u001b[39;49m\u001b[38;5;124;43mSell amount to ratio sell / buy amount ratio\u001b[39;49m\u001b[38;5;124;43m\"\u001b[39;49m\u001b[43m,\u001b[49m\n\u001b[1;32m      7\u001b[0m \u001b[43m)\u001b[49m\n\u001b[1;32m      8\u001b[0m \u001b[38;5;66;03m# selling 1 is not a fair comparison because we some t\u001b[39;00m\n",
      "File \u001b[0;32m~/Library/Caches/pypoetry/virtualenvs/mainnet-launch-FtycU18g-py3.10/lib/python3.10/site-packages/plotly/express/_chart_types.py:66\u001b[0m, in \u001b[0;36mscatter\u001b[0;34m(data_frame, x, y, color, symbol, size, hover_name, hover_data, custom_data, text, facet_row, facet_col, facet_col_wrap, facet_row_spacing, facet_col_spacing, error_x, error_x_minus, error_y, error_y_minus, animation_frame, animation_group, category_orders, labels, orientation, color_discrete_sequence, color_discrete_map, color_continuous_scale, range_color, color_continuous_midpoint, symbol_sequence, symbol_map, opacity, size_max, marginal_x, marginal_y, trendline, trendline_options, trendline_color_override, trendline_scope, log_x, log_y, range_x, range_y, render_mode, title, template, width, height)\u001b[0m\n\u001b[1;32m     12\u001b[0m \u001b[38;5;28;01mdef\u001b[39;00m\u001b[38;5;250m \u001b[39m\u001b[38;5;21mscatter\u001b[39m(\n\u001b[1;32m     13\u001b[0m     data_frame\u001b[38;5;241m=\u001b[39m\u001b[38;5;28;01mNone\u001b[39;00m,\n\u001b[1;32m     14\u001b[0m     x\u001b[38;5;241m=\u001b[39m\u001b[38;5;28;01mNone\u001b[39;00m,\n\u001b[0;32m   (...)\u001b[0m\n\u001b[1;32m     60\u001b[0m     height\u001b[38;5;241m=\u001b[39m\u001b[38;5;28;01mNone\u001b[39;00m,\n\u001b[1;32m     61\u001b[0m ) \u001b[38;5;241m-\u001b[39m\u001b[38;5;241m>\u001b[39m go\u001b[38;5;241m.\u001b[39mFigure:\n\u001b[1;32m     62\u001b[0m \u001b[38;5;250m    \u001b[39m\u001b[38;5;124;03m\"\"\"\u001b[39;00m\n\u001b[1;32m     63\u001b[0m \u001b[38;5;124;03m    In a scatter plot, each row of `data_frame` is represented by a symbol\u001b[39;00m\n\u001b[1;32m     64\u001b[0m \u001b[38;5;124;03m    mark in 2D space.\u001b[39;00m\n\u001b[1;32m     65\u001b[0m \u001b[38;5;124;03m    \"\"\"\u001b[39;00m\n\u001b[0;32m---> 66\u001b[0m     \u001b[38;5;28;01mreturn\u001b[39;00m \u001b[43mmake_figure\u001b[49m\u001b[43m(\u001b[49m\u001b[43margs\u001b[49m\u001b[38;5;241;43m=\u001b[39;49m\u001b[38;5;28;43mlocals\u001b[39;49m\u001b[43m(\u001b[49m\u001b[43m)\u001b[49m\u001b[43m,\u001b[49m\u001b[43m \u001b[49m\u001b[43mconstructor\u001b[49m\u001b[38;5;241;43m=\u001b[39;49m\u001b[43mgo\u001b[49m\u001b[38;5;241;43m.\u001b[39;49m\u001b[43mScatter\u001b[49m\u001b[43m)\u001b[49m\n",
      "File \u001b[0;32m~/Library/Caches/pypoetry/virtualenvs/mainnet-launch-FtycU18g-py3.10/lib/python3.10/site-packages/plotly/express/_core.py:2117\u001b[0m, in \u001b[0;36mmake_figure\u001b[0;34m(args, constructor, trace_patch, layout_patch)\u001b[0m\n\u001b[1;32m   2114\u001b[0m layout_patch \u001b[38;5;241m=\u001b[39m layout_patch \u001b[38;5;129;01mor\u001b[39;00m {}\n\u001b[1;32m   2115\u001b[0m apply_default_cascade(args)\n\u001b[0;32m-> 2117\u001b[0m args \u001b[38;5;241m=\u001b[39m \u001b[43mbuild_dataframe\u001b[49m\u001b[43m(\u001b[49m\u001b[43margs\u001b[49m\u001b[43m,\u001b[49m\u001b[43m \u001b[49m\u001b[43mconstructor\u001b[49m\u001b[43m)\u001b[49m\n\u001b[1;32m   2118\u001b[0m \u001b[38;5;28;01mif\u001b[39;00m constructor \u001b[38;5;129;01min\u001b[39;00m [go\u001b[38;5;241m.\u001b[39mTreemap, go\u001b[38;5;241m.\u001b[39mSunburst, go\u001b[38;5;241m.\u001b[39mIcicle] \u001b[38;5;129;01mand\u001b[39;00m args[\u001b[38;5;124m\"\u001b[39m\u001b[38;5;124mpath\u001b[39m\u001b[38;5;124m\"\u001b[39m] \u001b[38;5;129;01mis\u001b[39;00m \u001b[38;5;129;01mnot\u001b[39;00m \u001b[38;5;28;01mNone\u001b[39;00m:\n\u001b[1;32m   2119\u001b[0m     args \u001b[38;5;241m=\u001b[39m process_dataframe_hierarchy(args)\n",
      "File \u001b[0;32m~/Library/Caches/pypoetry/virtualenvs/mainnet-launch-FtycU18g-py3.10/lib/python3.10/site-packages/plotly/express/_core.py:1513\u001b[0m, in \u001b[0;36mbuild_dataframe\u001b[0;34m(args, constructor)\u001b[0m\n\u001b[1;32m   1510\u001b[0m     args[\u001b[38;5;124m\"\u001b[39m\u001b[38;5;124mcolor\u001b[39m\u001b[38;5;124m\"\u001b[39m] \u001b[38;5;241m=\u001b[39m \u001b[38;5;28;01mNone\u001b[39;00m\n\u001b[1;32m   1511\u001b[0m \u001b[38;5;66;03m# now that things have been prepped, we do the systematic rewriting of `args`\u001b[39;00m\n\u001b[0;32m-> 1513\u001b[0m df_output, wide_id_vars \u001b[38;5;241m=\u001b[39m \u001b[43mprocess_args_into_dataframe\u001b[49m\u001b[43m(\u001b[49m\n\u001b[1;32m   1514\u001b[0m \u001b[43m    \u001b[49m\u001b[43margs\u001b[49m\u001b[43m,\u001b[49m\u001b[43m \u001b[49m\u001b[43mwide_mode\u001b[49m\u001b[43m,\u001b[49m\u001b[43m \u001b[49m\u001b[43mvar_name\u001b[49m\u001b[43m,\u001b[49m\u001b[43m \u001b[49m\u001b[43mvalue_name\u001b[49m\n\u001b[1;32m   1515\u001b[0m \u001b[43m\u001b[49m\u001b[43m)\u001b[49m\n\u001b[1;32m   1517\u001b[0m \u001b[38;5;66;03m# now that `df_output` exists and `args` contains only references, we complete\u001b[39;00m\n\u001b[1;32m   1518\u001b[0m \u001b[38;5;66;03m# the special-case and wide-mode handling by further rewriting args and/or mutating\u001b[39;00m\n\u001b[1;32m   1519\u001b[0m \u001b[38;5;66;03m# df_output\u001b[39;00m\n\u001b[1;32m   1521\u001b[0m count_name \u001b[38;5;241m=\u001b[39m _escape_col_name(df_output, \u001b[38;5;124m\"\u001b[39m\u001b[38;5;124mcount\u001b[39m\u001b[38;5;124m\"\u001b[39m, [var_name, value_name])\n",
      "File \u001b[0;32m~/Library/Caches/pypoetry/virtualenvs/mainnet-launch-FtycU18g-py3.10/lib/python3.10/site-packages/plotly/express/_core.py:1234\u001b[0m, in \u001b[0;36mprocess_args_into_dataframe\u001b[0;34m(args, wide_mode, var_name, value_name)\u001b[0m\n\u001b[1;32m   1232\u001b[0m         \u001b[38;5;28;01mif\u001b[39;00m argument \u001b[38;5;241m==\u001b[39m \u001b[38;5;124m\"\u001b[39m\u001b[38;5;124mindex\u001b[39m\u001b[38;5;124m\"\u001b[39m:\n\u001b[1;32m   1233\u001b[0m             err_msg \u001b[38;5;241m+\u001b[39m\u001b[38;5;241m=\u001b[39m \u001b[38;5;124m\"\u001b[39m\u001b[38;5;130;01m\\n\u001b[39;00m\u001b[38;5;124m To use the index, pass it in directly as `df.index`.\u001b[39m\u001b[38;5;124m\"\u001b[39m\n\u001b[0;32m-> 1234\u001b[0m         \u001b[38;5;28;01mraise\u001b[39;00m \u001b[38;5;167;01mValueError\u001b[39;00m(err_msg)\n\u001b[1;32m   1235\u001b[0m \u001b[38;5;28;01melif\u001b[39;00m length \u001b[38;5;129;01mand\u001b[39;00m \u001b[38;5;28mlen\u001b[39m(df_input[argument]) \u001b[38;5;241m!=\u001b[39m length:\n\u001b[1;32m   1236\u001b[0m     \u001b[38;5;28;01mraise\u001b[39;00m \u001b[38;5;167;01mValueError\u001b[39;00m(\n\u001b[1;32m   1237\u001b[0m         \u001b[38;5;124m\"\u001b[39m\u001b[38;5;124mAll arguments should have the same length. \u001b[39m\u001b[38;5;124m\"\u001b[39m\n\u001b[1;32m   1238\u001b[0m         \u001b[38;5;124m\"\u001b[39m\u001b[38;5;124mThe length of column argument `df[\u001b[39m\u001b[38;5;132;01m%s\u001b[39;00m\u001b[38;5;124m]` is \u001b[39m\u001b[38;5;132;01m%d\u001b[39;00m\u001b[38;5;124m, whereas the \u001b[39m\u001b[38;5;124m\"\u001b[39m\n\u001b[0;32m   (...)\u001b[0m\n\u001b[1;32m   1245\u001b[0m         )\n\u001b[1;32m   1246\u001b[0m     )\n",
      "\u001b[0;31mValueError\u001b[0m: Value of 'y' is not the name of a column in 'data_frame'. Expected one of ['symbol', 'sell_amount_norm', 'buy_amount_norm', 'token_price', 'reference_quantity', 'token_price_at_reference_quantity', 'highest_sold_amount', 'percent_sold', 'bps_loss_excess_vs_reference'] but received: ratio"
     ]
    }
   ],
   "source": [
    "px.scatter(\n",
    "    slippage_df,\n",
    "    x=\"sell_amount_norm\",\n",
    "    y=\"ratio\",\n",
    "    color=\"symbol\",\n",
    "    title=\"Sell amount to ratio sell / buy amount ratio\",\n",
    ")\n",
    "# selling 1 is not a fair comparison because we some t"
   ]
  },
  {
   "cell_type": "code",
   "execution_count": null,
   "metadata": {},
   "outputs": [
    {
     "data": {
      "application/vnd.plotly.v1+json": {
       "config": {
        "plotlyServerURL": "https://plot.ly"
       },
       "data": [
        {
         "hovertemplate": "symbol=GHO<br>sell_amount_norm=%{x}<br>buy_amount_norm=%{y}<extra></extra>",
         "legendgroup": "GHO",
         "marker": {
          "color": "#636efa",
          "symbol": "circle"
         },
         "mode": "markers",
         "name": "GHO",
         "orientation": "v",
         "showlegend": true,
         "type": "scatter",
         "x": [
          1,
          853712.7229079093,
          1707425.4458158186,
          2561138.168723728,
          3414850.8916316372,
          4268563.614539547
         ],
         "xaxis": "x",
         "y": [
          1.000152,
          853217.918701,
          1706415.139501,
          2559580.33675,
          3412705.916171,
          4265739.047936
         ],
         "yaxis": "y"
        },
        {
         "hovertemplate": "symbol=USDC<br>sell_amount_norm=%{x}<br>buy_amount_norm=%{y}<extra></extra>",
         "legendgroup": "USDC",
         "marker": {
          "color": "#EF553B",
          "symbol": "circle"
         },
         "mode": "markers",
         "name": "USDC",
         "orientation": "v",
         "showlegend": true,
         "type": "scatter",
         "x": [
          1,
          1398712.803213,
          2797425.606426,
          4196138.409639,
          5594851.212852,
          6993564.016065
         ],
         "xaxis": "x",
         "y": [
          1,
          1398712.803213,
          2797425.606426,
          4196138.409639,
          5594851.212852,
          6993564.016065
         ],
         "yaxis": "y"
        },
        {
         "hovertemplate": "symbol=USDT<br>sell_amount_norm=%{x}<br>buy_amount_norm=%{y}<extra></extra>",
         "legendgroup": "USDT",
         "marker": {
          "color": "#00cc96",
          "symbol": "circle"
         },
         "mode": "markers",
         "name": "USDT",
         "orientation": "v",
         "showlegend": true,
         "type": "scatter",
         "x": [
          1,
          194655.643823,
          389311.287647,
          583966.931471,
          778622.575295,
          973278.219119
         ],
         "xaxis": "x",
         "y": [
          1.02039,
          194730.680594,
          389460.126846,
          584188.338766,
          778915.316378,
          973641.059658
         ],
         "yaxis": "y"
        },
        {
         "hovertemplate": "symbol=crvUSD<br>sell_amount_norm=%{x}<br>buy_amount_norm=%{y}<extra></extra>",
         "legendgroup": "crvUSD",
         "marker": {
          "color": "#ab63fa",
          "symbol": "circle"
         },
         "mode": "markers",
         "name": "crvUSD",
         "orientation": "v",
         "showlegend": true,
         "type": "scatter",
         "x": [
          1,
          212980.083134481,
          425960.166268962,
          638940.249403443,
          851920.332537924,
          1064900.415672405
         ],
         "xaxis": "x",
         "y": [
          1.055824,
          212927.575889,
          425853.24252,
          638774.386332,
          851691.409426,
          1064604.339419
         ],
         "yaxis": "y"
        },
        {
         "hovertemplate": "symbol=sUSDS<br>sell_amount_norm=%{x}<br>buy_amount_norm=%{y}<extra></extra>",
         "legendgroup": "sUSDS",
         "marker": {
          "color": "#FFA15A",
          "symbol": "circle"
         },
         "mode": "markers",
         "name": "sUSDS",
         "orientation": "v",
         "showlegend": true,
         "type": "scatter",
         "x": [
          1,
          526786.0220112881,
          1053572.0440225762,
          1580358.0660338642,
          2107144.0880451524,
          2633930.1100564403
         ],
         "xaxis": "x",
         "y": [
          1.057742,
          557203.96391,
          1114407.92782,
          1671611.891731,
          2228815.855641,
          2786019.819551
         ],
         "yaxis": "y"
        },
        {
         "hovertemplate": "symbol=sUSDe<br>sell_amount_norm=%{x}<br>buy_amount_norm=%{y}<extra></extra>",
         "legendgroup": "sUSDe",
         "marker": {
          "color": "#19d3f3",
          "symbol": "circle"
         },
         "mode": "markers",
         "name": "sUSDe",
         "orientation": "v",
         "showlegend": true,
         "type": "scatter",
         "x": [
          1,
          50577.204698059526,
          101154.40939611904,
          151731.61409417854,
          202308.8187922381,
          252886.0234902976
         ],
         "xaxis": "x",
         "y": [
          1.180408,
          59700.620504,
          119402.121675,
          179102.019189,
          238800.707817,
          298500.874848
         ],
         "yaxis": "y"
        },
        {
         "hovertemplate": "symbol=scrvUSD<br>sell_amount_norm=%{x}<br>buy_amount_norm=%{y}<extra></extra>",
         "legendgroup": "scrvUSD",
         "marker": {
          "color": "#FF6692",
          "symbol": "circle"
         },
         "mode": "markers",
         "name": "scrvUSD",
         "orientation": "v",
         "showlegend": true,
         "type": "scatter",
         "x": [
          1,
          583603.7617746791,
          1167207.523549358,
          1750811.2853240368,
          2334415.0470987163,
          2918018.808873395
         ],
         "xaxis": "x",
         "y": [
          1.051402,
          613605.414064,
          1227168.740704,
          1840666.523517,
          2454260.783635,
          3067688.161465
         ],
         "yaxis": "y"
        }
       ],
       "layout": {
        "legend": {
         "title": {
          "text": "symbol"
         },
         "tracegroupgap": 0
        },
        "template": {
         "data": {
          "bar": [
           {
            "error_x": {
             "color": "#2a3f5f"
            },
            "error_y": {
             "color": "#2a3f5f"
            },
            "marker": {
             "line": {
              "color": "#E5ECF6",
              "width": 0.5
             },
             "pattern": {
              "fillmode": "overlay",
              "size": 10,
              "solidity": 0.2
             }
            },
            "type": "bar"
           }
          ],
          "barpolar": [
           {
            "marker": {
             "line": {
              "color": "#E5ECF6",
              "width": 0.5
             },
             "pattern": {
              "fillmode": "overlay",
              "size": 10,
              "solidity": 0.2
             }
            },
            "type": "barpolar"
           }
          ],
          "carpet": [
           {
            "aaxis": {
             "endlinecolor": "#2a3f5f",
             "gridcolor": "white",
             "linecolor": "white",
             "minorgridcolor": "white",
             "startlinecolor": "#2a3f5f"
            },
            "baxis": {
             "endlinecolor": "#2a3f5f",
             "gridcolor": "white",
             "linecolor": "white",
             "minorgridcolor": "white",
             "startlinecolor": "#2a3f5f"
            },
            "type": "carpet"
           }
          ],
          "choropleth": [
           {
            "colorbar": {
             "outlinewidth": 0,
             "ticks": ""
            },
            "type": "choropleth"
           }
          ],
          "contour": [
           {
            "colorbar": {
             "outlinewidth": 0,
             "ticks": ""
            },
            "colorscale": [
             [
              0,
              "#0d0887"
             ],
             [
              0.1111111111111111,
              "#46039f"
             ],
             [
              0.2222222222222222,
              "#7201a8"
             ],
             [
              0.3333333333333333,
              "#9c179e"
             ],
             [
              0.4444444444444444,
              "#bd3786"
             ],
             [
              0.5555555555555556,
              "#d8576b"
             ],
             [
              0.6666666666666666,
              "#ed7953"
             ],
             [
              0.7777777777777778,
              "#fb9f3a"
             ],
             [
              0.8888888888888888,
              "#fdca26"
             ],
             [
              1,
              "#f0f921"
             ]
            ],
            "type": "contour"
           }
          ],
          "contourcarpet": [
           {
            "colorbar": {
             "outlinewidth": 0,
             "ticks": ""
            },
            "type": "contourcarpet"
           }
          ],
          "heatmap": [
           {
            "colorbar": {
             "outlinewidth": 0,
             "ticks": ""
            },
            "colorscale": [
             [
              0,
              "#0d0887"
             ],
             [
              0.1111111111111111,
              "#46039f"
             ],
             [
              0.2222222222222222,
              "#7201a8"
             ],
             [
              0.3333333333333333,
              "#9c179e"
             ],
             [
              0.4444444444444444,
              "#bd3786"
             ],
             [
              0.5555555555555556,
              "#d8576b"
             ],
             [
              0.6666666666666666,
              "#ed7953"
             ],
             [
              0.7777777777777778,
              "#fb9f3a"
             ],
             [
              0.8888888888888888,
              "#fdca26"
             ],
             [
              1,
              "#f0f921"
             ]
            ],
            "type": "heatmap"
           }
          ],
          "heatmapgl": [
           {
            "colorbar": {
             "outlinewidth": 0,
             "ticks": ""
            },
            "colorscale": [
             [
              0,
              "#0d0887"
             ],
             [
              0.1111111111111111,
              "#46039f"
             ],
             [
              0.2222222222222222,
              "#7201a8"
             ],
             [
              0.3333333333333333,
              "#9c179e"
             ],
             [
              0.4444444444444444,
              "#bd3786"
             ],
             [
              0.5555555555555556,
              "#d8576b"
             ],
             [
              0.6666666666666666,
              "#ed7953"
             ],
             [
              0.7777777777777778,
              "#fb9f3a"
             ],
             [
              0.8888888888888888,
              "#fdca26"
             ],
             [
              1,
              "#f0f921"
             ]
            ],
            "type": "heatmapgl"
           }
          ],
          "histogram": [
           {
            "marker": {
             "pattern": {
              "fillmode": "overlay",
              "size": 10,
              "solidity": 0.2
             }
            },
            "type": "histogram"
           }
          ],
          "histogram2d": [
           {
            "colorbar": {
             "outlinewidth": 0,
             "ticks": ""
            },
            "colorscale": [
             [
              0,
              "#0d0887"
             ],
             [
              0.1111111111111111,
              "#46039f"
             ],
             [
              0.2222222222222222,
              "#7201a8"
             ],
             [
              0.3333333333333333,
              "#9c179e"
             ],
             [
              0.4444444444444444,
              "#bd3786"
             ],
             [
              0.5555555555555556,
              "#d8576b"
             ],
             [
              0.6666666666666666,
              "#ed7953"
             ],
             [
              0.7777777777777778,
              "#fb9f3a"
             ],
             [
              0.8888888888888888,
              "#fdca26"
             ],
             [
              1,
              "#f0f921"
             ]
            ],
            "type": "histogram2d"
           }
          ],
          "histogram2dcontour": [
           {
            "colorbar": {
             "outlinewidth": 0,
             "ticks": ""
            },
            "colorscale": [
             [
              0,
              "#0d0887"
             ],
             [
              0.1111111111111111,
              "#46039f"
             ],
             [
              0.2222222222222222,
              "#7201a8"
             ],
             [
              0.3333333333333333,
              "#9c179e"
             ],
             [
              0.4444444444444444,
              "#bd3786"
             ],
             [
              0.5555555555555556,
              "#d8576b"
             ],
             [
              0.6666666666666666,
              "#ed7953"
             ],
             [
              0.7777777777777778,
              "#fb9f3a"
             ],
             [
              0.8888888888888888,
              "#fdca26"
             ],
             [
              1,
              "#f0f921"
             ]
            ],
            "type": "histogram2dcontour"
           }
          ],
          "mesh3d": [
           {
            "colorbar": {
             "outlinewidth": 0,
             "ticks": ""
            },
            "type": "mesh3d"
           }
          ],
          "parcoords": [
           {
            "line": {
             "colorbar": {
              "outlinewidth": 0,
              "ticks": ""
             }
            },
            "type": "parcoords"
           }
          ],
          "pie": [
           {
            "automargin": true,
            "type": "pie"
           }
          ],
          "scatter": [
           {
            "fillpattern": {
             "fillmode": "overlay",
             "size": 10,
             "solidity": 0.2
            },
            "type": "scatter"
           }
          ],
          "scatter3d": [
           {
            "line": {
             "colorbar": {
              "outlinewidth": 0,
              "ticks": ""
             }
            },
            "marker": {
             "colorbar": {
              "outlinewidth": 0,
              "ticks": ""
             }
            },
            "type": "scatter3d"
           }
          ],
          "scattercarpet": [
           {
            "marker": {
             "colorbar": {
              "outlinewidth": 0,
              "ticks": ""
             }
            },
            "type": "scattercarpet"
           }
          ],
          "scattergeo": [
           {
            "marker": {
             "colorbar": {
              "outlinewidth": 0,
              "ticks": ""
             }
            },
            "type": "scattergeo"
           }
          ],
          "scattergl": [
           {
            "marker": {
             "colorbar": {
              "outlinewidth": 0,
              "ticks": ""
             }
            },
            "type": "scattergl"
           }
          ],
          "scattermapbox": [
           {
            "marker": {
             "colorbar": {
              "outlinewidth": 0,
              "ticks": ""
             }
            },
            "type": "scattermapbox"
           }
          ],
          "scatterpolar": [
           {
            "marker": {
             "colorbar": {
              "outlinewidth": 0,
              "ticks": ""
             }
            },
            "type": "scatterpolar"
           }
          ],
          "scatterpolargl": [
           {
            "marker": {
             "colorbar": {
              "outlinewidth": 0,
              "ticks": ""
             }
            },
            "type": "scatterpolargl"
           }
          ],
          "scatterternary": [
           {
            "marker": {
             "colorbar": {
              "outlinewidth": 0,
              "ticks": ""
             }
            },
            "type": "scatterternary"
           }
          ],
          "surface": [
           {
            "colorbar": {
             "outlinewidth": 0,
             "ticks": ""
            },
            "colorscale": [
             [
              0,
              "#0d0887"
             ],
             [
              0.1111111111111111,
              "#46039f"
             ],
             [
              0.2222222222222222,
              "#7201a8"
             ],
             [
              0.3333333333333333,
              "#9c179e"
             ],
             [
              0.4444444444444444,
              "#bd3786"
             ],
             [
              0.5555555555555556,
              "#d8576b"
             ],
             [
              0.6666666666666666,
              "#ed7953"
             ],
             [
              0.7777777777777778,
              "#fb9f3a"
             ],
             [
              0.8888888888888888,
              "#fdca26"
             ],
             [
              1,
              "#f0f921"
             ]
            ],
            "type": "surface"
           }
          ],
          "table": [
           {
            "cells": {
             "fill": {
              "color": "#EBF0F8"
             },
             "line": {
              "color": "white"
             }
            },
            "header": {
             "fill": {
              "color": "#C8D4E3"
             },
             "line": {
              "color": "white"
             }
            },
            "type": "table"
           }
          ]
         },
         "layout": {
          "annotationdefaults": {
           "arrowcolor": "#2a3f5f",
           "arrowhead": 0,
           "arrowwidth": 1
          },
          "autotypenumbers": "strict",
          "coloraxis": {
           "colorbar": {
            "outlinewidth": 0,
            "ticks": ""
           }
          },
          "colorscale": {
           "diverging": [
            [
             0,
             "#8e0152"
            ],
            [
             0.1,
             "#c51b7d"
            ],
            [
             0.2,
             "#de77ae"
            ],
            [
             0.3,
             "#f1b6da"
            ],
            [
             0.4,
             "#fde0ef"
            ],
            [
             0.5,
             "#f7f7f7"
            ],
            [
             0.6,
             "#e6f5d0"
            ],
            [
             0.7,
             "#b8e186"
            ],
            [
             0.8,
             "#7fbc41"
            ],
            [
             0.9,
             "#4d9221"
            ],
            [
             1,
             "#276419"
            ]
           ],
           "sequential": [
            [
             0,
             "#0d0887"
            ],
            [
             0.1111111111111111,
             "#46039f"
            ],
            [
             0.2222222222222222,
             "#7201a8"
            ],
            [
             0.3333333333333333,
             "#9c179e"
            ],
            [
             0.4444444444444444,
             "#bd3786"
            ],
            [
             0.5555555555555556,
             "#d8576b"
            ],
            [
             0.6666666666666666,
             "#ed7953"
            ],
            [
             0.7777777777777778,
             "#fb9f3a"
            ],
            [
             0.8888888888888888,
             "#fdca26"
            ],
            [
             1,
             "#f0f921"
            ]
           ],
           "sequentialminus": [
            [
             0,
             "#0d0887"
            ],
            [
             0.1111111111111111,
             "#46039f"
            ],
            [
             0.2222222222222222,
             "#7201a8"
            ],
            [
             0.3333333333333333,
             "#9c179e"
            ],
            [
             0.4444444444444444,
             "#bd3786"
            ],
            [
             0.5555555555555556,
             "#d8576b"
            ],
            [
             0.6666666666666666,
             "#ed7953"
            ],
            [
             0.7777777777777778,
             "#fb9f3a"
            ],
            [
             0.8888888888888888,
             "#fdca26"
            ],
            [
             1,
             "#f0f921"
            ]
           ]
          },
          "colorway": [
           "#636efa",
           "#EF553B",
           "#00cc96",
           "#ab63fa",
           "#FFA15A",
           "#19d3f3",
           "#FF6692",
           "#B6E880",
           "#FF97FF",
           "#FECB52"
          ],
          "font": {
           "color": "#2a3f5f"
          },
          "geo": {
           "bgcolor": "white",
           "lakecolor": "white",
           "landcolor": "#E5ECF6",
           "showlakes": true,
           "showland": true,
           "subunitcolor": "white"
          },
          "hoverlabel": {
           "align": "left"
          },
          "hovermode": "closest",
          "mapbox": {
           "style": "light"
          },
          "paper_bgcolor": "white",
          "plot_bgcolor": "#E5ECF6",
          "polar": {
           "angularaxis": {
            "gridcolor": "white",
            "linecolor": "white",
            "ticks": ""
           },
           "bgcolor": "#E5ECF6",
           "radialaxis": {
            "gridcolor": "white",
            "linecolor": "white",
            "ticks": ""
           }
          },
          "scene": {
           "xaxis": {
            "backgroundcolor": "#E5ECF6",
            "gridcolor": "white",
            "gridwidth": 2,
            "linecolor": "white",
            "showbackground": true,
            "ticks": "",
            "zerolinecolor": "white"
           },
           "yaxis": {
            "backgroundcolor": "#E5ECF6",
            "gridcolor": "white",
            "gridwidth": 2,
            "linecolor": "white",
            "showbackground": true,
            "ticks": "",
            "zerolinecolor": "white"
           },
           "zaxis": {
            "backgroundcolor": "#E5ECF6",
            "gridcolor": "white",
            "gridwidth": 2,
            "linecolor": "white",
            "showbackground": true,
            "ticks": "",
            "zerolinecolor": "white"
           }
          },
          "shapedefaults": {
           "line": {
            "color": "#2a3f5f"
           }
          },
          "ternary": {
           "aaxis": {
            "gridcolor": "white",
            "linecolor": "white",
            "ticks": ""
           },
           "baxis": {
            "gridcolor": "white",
            "linecolor": "white",
            "ticks": ""
           },
           "bgcolor": "#E5ECF6",
           "caxis": {
            "gridcolor": "white",
            "linecolor": "white",
            "ticks": ""
           }
          },
          "title": {
           "x": 0.05
          },
          "xaxis": {
           "automargin": true,
           "gridcolor": "white",
           "linecolor": "white",
           "ticks": "",
           "title": {
            "standoff": 15
           },
           "zerolinecolor": "white",
           "zerolinewidth": 2
          },
          "yaxis": {
           "automargin": true,
           "gridcolor": "white",
           "linecolor": "white",
           "ticks": "",
           "title": {
            "standoff": 15
           },
           "zerolinecolor": "white",
           "zerolinewidth": 2
          }
         }
        },
        "title": {
         "text": "Sell amount to ratio sell / buy amount ratio"
        },
        "xaxis": {
         "anchor": "y",
         "domain": [
          0,
          1
         ],
         "title": {
          "text": "sell_amount_norm"
         }
        },
        "yaxis": {
         "anchor": "x",
         "domain": [
          0,
          1
         ],
         "title": {
          "text": "buy_amount_norm"
         }
        }
       }
      }
     },
     "metadata": {},
     "output_type": "display_data"
    }
   ],
   "source": [
    "px.scatter(\n",
    "    slippage_df,\n",
    "    x=\"sell_amount_norm\",\n",
    "    y=\"buy_amount_norm\",\n",
    "    color=\"symbol\",\n",
    "    title=\"Sell amount to ratio sell / buy amount ratio\",\n",
    ")\n",
    "# selling 1 is not a fair comparison because we some t"
   ]
  },
  {
   "cell_type": "code",
   "execution_count": null,
   "metadata": {},
   "outputs": [
    {
     "data": {
      "text/plain": [
       "2.0"
      ]
     },
     "execution_count": 2,
     "metadata": {},
     "output_type": "execute_result"
    }
   ],
   "source": [
    "1800 / 900"
   ]
  },
  {
   "cell_type": "code",
   "execution_count": null,
   "metadata": {},
   "outputs": [
    {
     "data": {
      "application/vnd.microsoft.datawrangler.viewer.v0+json": {
       "columns": [
        {
         "name": "index",
         "rawType": "int64",
         "type": "integer"
        },
        {
         "name": "aggregatorName",
         "rawType": "object",
         "type": "string"
        },
        {
         "name": "asyncSwapper",
         "rawType": "object",
         "type": "string"
        },
        {
         "name": "internal",
         "rawType": "object",
         "type": "unknown"
        },
        {
         "name": "buyAmount",
         "rawType": "int64",
         "type": "integer"
        },
        {
         "name": "minBuyAmount",
         "rawType": "int64",
         "type": "integer"
        },
        {
         "name": "expiration",
         "rawType": "float64",
         "type": "float"
        },
        {
         "name": "tx",
         "rawType": "object",
         "type": "string"
        },
        {
         "name": "fullQuoteDetails",
         "rawType": "object",
         "type": "string"
        },
        {
         "name": "chainId",
         "rawType": "int64",
         "type": "integer"
        },
        {
         "name": "systemName",
         "rawType": "object",
         "type": "string"
        },
        {
         "name": "slippageBps",
         "rawType": "int64",
         "type": "integer"
        },
        {
         "name": "taker",
         "rawType": "object",
         "type": "string"
        },
        {
         "name": "sellToken",
         "rawType": "object",
         "type": "string"
        },
        {
         "name": "buyToken",
         "rawType": "object",
         "type": "string"
        },
        {
         "name": "sellAmount",
         "rawType": "object",
         "type": "string"
        },
        {
         "name": "includeSources",
         "rawType": "float64",
         "type": "float"
        },
        {
         "name": "excludeSources",
         "rawType": "object",
         "type": "string"
        },
        {
         "name": "sellAll",
         "rawType": "bool",
         "type": "boolean"
        },
        {
         "name": "timeoutMS",
         "rawType": "float64",
         "type": "float"
        },
        {
         "name": "transferToCaller",
         "rawType": "bool",
         "type": "boolean"
        },
        {
         "name": "same_token",
         "rawType": "bool",
         "type": "boolean"
        },
        {
         "name": "token_address",
         "rawType": "object",
         "type": "string"
        },
        {
         "name": "chain_id",
         "rawType": "int64",
         "type": "integer"
        },
        {
         "name": "symbol",
         "rawType": "object",
         "type": "string"
        },
        {
         "name": "name",
         "rawType": "object",
         "type": "string"
        },
        {
         "name": "decimals",
         "rawType": "int64",
         "type": "integer"
        },
        {
         "name": "buy_amount_norm",
         "rawType": "float64",
         "type": "float"
        },
        {
         "name": "min_buy_amount_norm",
         "rawType": "float64",
         "type": "float"
        },
        {
         "name": "sell_amount_norm",
         "rawType": "float64",
         "type": "float"
        },
        {
         "name": "ratio",
         "rawType": "float64",
         "type": "float"
        },
        {
         "name": "min_buy_amount_ratio",
         "rawType": "float64",
         "type": "float"
        }
       ],
       "ref": "90c3412f-cf1c-43c4-88e4-be7742f77abf",
       "rows": [
        [
         "30",
         "Odos",
         "0x8ea340AA42cD1f6e2471a5C4574EA62C9416B859",
         "False",
         "194730680594",
         "193757027192",
         "9999999999.0",
         "{'from': '0x000000000000000000000000000000000000dEaD', 'to': '0xCf5540fFFCdC3d510B18bFcA6d2b9987b0772559', 'data': '0x3b635ce4000000000000000000000000dac17f958d2ee523a2206206994597c13d831ec700000000000000000000000000000000000000000000000000000000000000000000000000000000000000007882570840a97a490a37bd8db9e1ae39165bfbd6000000000000000000000000a0b86991c6218b36c1d19d4a2e9eb0ce3606eb480000000000000000000000000000000000000000000000000000002d56da61120000000000000000000000000000000000000000000000000000002d1cd19b770000000000000000000000008ea340aa42cd1f6e2471a5c4574ea62c9416b85900000000000000000000000000000000000000000000000000000000000001400000000000000000000000007882570840a97a490a37bd8db9e1ae39165bfbd600000000000000000000000000000000000000000000000000000000000000000000000000000000000000000000000000000000000000000000000000000048010203000e010101020000000a00000100ff0000000000000000000000000000dac17f958d2ee523a2206206994597c13d831ec7a0b86991c6218b36c1d19d4a2e9eb0ce3606eb48000000000000000000000000000000000000000000000000', 'value': '0', 'gasPrice': '450508'}",
         "{'quote': {'traceId': 'e72892a0-3333-4cd6-9895-4082463b7eb7', 'inTokens': ['0xdac17f958d2ee523a2206206994597c13d831ec7'], 'outTokens': ['0xa0b86991c6218b36c1d19d4a2e9eb0ce3606eb48'], 'inAmounts': ['194655643823'], 'outAmounts': ['194730680594'], 'gasEstimate': 214528, 'dataGasEstimate': 0, 'gweiPerGas': 4.6, 'gasEstimateValue': 2.552830936286763, 'inValues': [194945.0420998791], 'outValues': [195013.18967985047], 'netOutValue': 195010.63684891418, 'priceImpact': 0, 'percentDiff': 0.03495732912071503, 'permit2Message': None, 'permit2Hash': None, 'partnerFeePercent': 0, 'pathId': '767db67c29482c32d79eb0d966a7c627', 'pathViz': None, 'blockNumber': 22840712}, 'tx': {'deprecated': None, 'traceId': '39395fff-8525-44eb-86d7-f9e412db6319', 'blockNumber': 22840712, 'gasEstimate': 214528, 'gasEstimateValue': 2.552830936286763, 'inputTokens': [{'tokenAddress': '0xdac17f958d2ee523a2206206994597c13d831ec7', 'amount': '194655643823'}], 'outputTokens': [{'tokenAddress': '0xa0b86991c6218b36c1d19d4a2e9eb0ce3606eb48', 'amount': '194730680594'}], 'netOutValue': 195010.63684891418, 'outValues': ['195013.18967985047'], 'transaction': {'gas': 429056, 'gasPrice': 4600000000, 'value': '0', 'to': '0xCf5540fFFCdC3d510B18bFcA6d2b9987b0772559', 'from': '0x8ea340AA42cD1f6e2471a5C4574EA62C9416B859', 'data': '0x3b635ce4000000000000000000000000dac17f958d2ee523a2206206994597c13d831ec700000000000000000000000000000000000000000000000000000000000000000000000000000000000000007882570840a97a490a37bd8db9e1ae39165bfbd6000000000000000000000000a0b86991c6218b36c1d19d4a2e9eb0ce3606eb480000000000000000000000000000000000000000000000000000002d56da61120000000000000000000000000000000000000000000000000000002d1cd19b770000000000000000000000008ea340aa42cd1f6e2471a5c4574ea62c9416b85900000000000000000000000000000000000000000000000000000000000001400000000000000000000000007882570840a97a490a37bd8db9e1ae39165bfbd600000000000000000000000000000000000000000000000000000000000000000000000000000000000000000000000000000000000000000000000000000048010203000e010101020000000a00000100ff0000000000000000000000000000dac17f958d2ee523a2206206994597c13d831ec7a0b86991c6218b36c1d19d4a2e9eb0ce3606eb48000000000000000000000000000000000000000000000000', 'nonce': 1, 'chainId': 1}, 'simulation': None}}",
         "1",
         "gen3",
         "50",
         "0x000000000000000000000000000000000000dEaD",
         "0xdAC17F958D2ee523a2206206994597C13D831ec7",
         "0xA0b86991c6218b36c1d19D4a2e9Eb0cE3606eB48",
         "194655643823",
         null,
         "Bebop",
         "True",
         null,
         "True",
         "False",
         "0xdAC17F958D2ee523a2206206994597C13D831ec7",
         "1",
         "USDT",
         "Tether USD",
         "6",
         "194730.680594",
         "193757.027192",
         "194655.643823",
         "1.0003854846924871",
         "0.995383557274008"
        ],
        [
         "31",
         "0xV2",
         "0x0AB82316aD6e206Cab38EF9D36bD8cAEa86Bc18B",
         "False",
         "389460126846",
         "387512819400",
         "9999999999.0",
         "{'from': '0x000000000000000000000000000000000000dEaD', 'to': '0x0000000000001ff3684f28c67538d4d072c22734', 'data': '0x2213bc0b00000000000000000000000082d88875d64d60cbe9cbea47cb960ae0f04ebd4d000000000000000000000000dac17f958d2ee523a2206206994597c13d831ec70000000000000000000000000000000000000000000000000000005aa4c2d15f00000000000000000000000082d88875d64d60cbe9cbea47cb960ae0f04ebd4d00000000000000000000000000000000000000000000000000000000000000a000000000000000000000000000000000000000000000000000000000000003041fff991f00000000000000000000000000000000000000000000000000000000000000000000000000000000000000000000000000000000000000000000000000000000000000000000000000000000000000000000000000000000000000000000000000000000000000000000000000000000000000000000000000000000000000a032e9dc1e4b12b948ad67579900000000000000000000000000000000000000000000000000000000000000000000000000000000000000000000000000000001000000000000000000000000000000000000000000000000000000000000002000000000000000000000000000000000000000000000000000000000000001e4e15b26bc0000000000000000000000000ab82316ad6e206cab38ef9d36bd8caea86bc18b00000000000000000000000000000000000000000000000000000000000000000000000000000000000000000000000000000000000000000000000000000002000000000000000000000000000000000000000000000000ffffffffffffffc50000000000000000000000000000000000000000000000000000000000000160000000000000000000000000dac17f958d2ee523a2206206994597c13d831ec7ffffffffffffffffffffffffffffffffffffffffffffffffffffffffffffffff0000000000000000000000000000000000000000000000000000000000000000000000000000000000000000000000000000000000000000000000006866d7c800000000000000000000000000000000000000000000000000000000000001c00000000000000000000000000000000000000000000000000000005a39905ec80000000000000000000000000000000000000000000000000000000000000034271001a0b86991c6218b36c1d19d4a2e9eb0ce3606eb4800000a000001000000000000000000000000000000000000000000000000000000000000000000000000000000000000000000000000000000000000000000000000000000000000000000000000000000000000000000000000000000000000000000000000000000000000000000000000000000000000000000000000000000', 'value': '0', 'gasPrice': '2733653186'}",
         "{'blockNumber': '22840713', 'buyAmount': '389460126846', 'buyToken': '0xa0b86991c6218b36c1d19d4a2e9eb0ce3606eb48', 'fees': {'integratorFee': None, 'zeroExFee': None, 'gasFee': None}, 'issues': {'allowance': {'actual': '0', 'spender': '0x0000000000001ff3684f28c67538d4d072c22734'}, 'balance': {'token': '0xdac17f958d2ee523a2206206994597c13d831ec7', 'actual': '0', 'expected': '389311287647'}, 'simulationIncomplete': False, 'invalidSourcesPassed': []}, 'liquidityAvailable': True, 'minBuyAmount': '387512819400', 'route': {'fills': [{'from': '0xdac17f958d2ee523a2206206994597c13d831ec7', 'to': '0xa0b86991c6218b36c1d19d4a2e9eb0ce3606eb48', 'source': 'Uniswap_V4', 'proportionBps': '10000'}], 'tokens': [{'address': '0xdac17f958d2ee523a2206206994597c13d831ec7', 'symbol': 'USDT'}, {'address': '0xa0b86991c6218b36c1d19d4a2e9eb0ce3606eb48', 'symbol': 'USDC'}]}, 'sellAmount': '389311287647', 'sellToken': '0xdac17f958d2ee523a2206206994597c13d831ec7', 'tokenMetadata': {'buyToken': {'buyTaxBps': '0', 'sellTaxBps': '0'}, 'sellToken': {'buyTaxBps': '0', 'sellTaxBps': '0'}}, 'totalNetworkFee': '446681534112475', 'transaction': {'to': '0x0000000000001ff3684f28c67538d4d072c22734', 'data': '0x2213bc0b00000000000000000000000082d88875d64d60cbe9cbea47cb960ae0f04ebd4d000000000000000000000000dac17f958d2ee523a2206206994597c13d831ec70000000000000000000000000000000000000000000000000000005aa4c2d15f00000000000000000000000082d88875d64d60cbe9cbea47cb960ae0f04ebd4d00000000000000000000000000000000000000000000000000000000000000a000000000000000000000000000000000000000000000000000000000000003041fff991f00000000000000000000000000000000000000000000000000000000000000000000000000000000000000000000000000000000000000000000000000000000000000000000000000000000000000000000000000000000000000000000000000000000000000000000000000000000000000000000000000000000000000a032e9dc1e4b12b948ad67579900000000000000000000000000000000000000000000000000000000000000000000000000000000000000000000000000000001000000000000000000000000000000000000000000000000000000000000002000000000000000000000000000000000000000000000000000000000000001e4e15b26bc0000000000000000000000000ab82316ad6e206cab38ef9d36bd8caea86bc18b00000000000000000000000000000000000000000000000000000000000000000000000000000000000000000000000000000000000000000000000000000002000000000000000000000000000000000000000000000000ffffffffffffffc50000000000000000000000000000000000000000000000000000000000000160000000000000000000000000dac17f958d2ee523a2206206994597c13d831ec7ffffffffffffffffffffffffffffffffffffffffffffffffffffffffffffffff0000000000000000000000000000000000000000000000000000000000000000000000000000000000000000000000000000000000000000000000006866d7c800000000000000000000000000000000000000000000000000000000000001c00000000000000000000000000000000000000000000000000000005a39905ec80000000000000000000000000000000000000000000000000000000000000034271001a0b86991c6218b36c1d19d4a2e9eb0ce3606eb4800000a000001000000000000000000000000000000000000000000000000000000000000000000000000000000000000000000000000000000000000000000000000000000000000000000000000000000000000000000000000000000000000000000000000000000000000000000000000000000000000000000000000000000', 'gas': '171571', 'gasPrice': '2603479225', 'value': '0'}, 'zid': '0x32e9dc1e4b12b948ad675799'}",
         "1",
         "gen3",
         "50",
         "0x000000000000000000000000000000000000dEaD",
         "0xdAC17F958D2ee523a2206206994597C13D831ec7",
         "0xA0b86991c6218b36c1d19D4a2e9Eb0cE3606eB48",
         "389311287647",
         null,
         "Bebop",
         "True",
         null,
         "True",
         "False",
         "0xdAC17F958D2ee523a2206206994597C13D831ec7",
         "1",
         "USDT",
         "Tether USD",
         "6",
         "389460.126846",
         "387512.8194",
         "389311.287647",
         "1.0003823141114137",
         "0.995380385043881"
        ],
        [
         "32",
         "0xV2",
         "0x0AB82316aD6e206Cab38EF9D36bD8cAEa86Bc18B",
         "False",
         "584188338766",
         "581267388350",
         "9999999999.0",
         "{'from': '0x000000000000000000000000000000000000dEaD', 'to': '0x0000000000001ff3684f28c67538d4d072c22734', 'data': '0x2213bc0b00000000000000000000000082d88875d64d60cbe9cbea47cb960ae0f04ebd4d000000000000000000000000dac17f958d2ee523a2206206994597c13d831ec700000000000000000000000000000000000000000000000000000087f7243a0f00000000000000000000000082d88875d64d60cbe9cbea47cb960ae0f04ebd4d00000000000000000000000000000000000000000000000000000000000000a000000000000000000000000000000000000000000000000000000000000003041fff991f00000000000000000000000000000000000000000000000000000000000000000000000000000000000000000000000000000000000000000000000000000000000000000000000000000000000000000000000000000000000000000000000000000000000000000000000000000000000000000000000000000000000000a0aa25cd3700cca4a1454a6d9a00000000000000000000000000000000000000000000000000000000000000000000000000000000000000000000000000000001000000000000000000000000000000000000000000000000000000000000002000000000000000000000000000000000000000000000000000000000000001e4e15b26bc0000000000000000000000000ab82316ad6e206cab38ef9d36bd8caea86bc18b00000000000000000000000000000000000000000000000000000000000000000000000000000000000000000000000000000000000000000000000000000002000000000000000000000000000000000000000000000000ffffffffffffffc50000000000000000000000000000000000000000000000000000000000000160000000000000000000000000dac17f958d2ee523a2206206994597c13d831ec7ffffffffffffffffffffffffffffffffffffffffffffffffffffffffffffffff0000000000000000000000000000000000000000000000000000000000000000000000000000000000000000000000000000000000000000000000006866d7c800000000000000000000000000000000000000000000000000000000000001c000000000000000000000000000000000000000000000000000000087563c77be0000000000000000000000000000000000000000000000000000000000000034271001a0b86991c6218b36c1d19d4a2e9eb0ce3606eb4800000a000001000000000000000000000000000000000000000000000000000000000000000000000000000000000000000000000000000000000000000000000000000000000000000000000000000000000000000000000000000000000000000000000000000000000000000000000000000000000000000000000000000000', 'value': '0', 'gasPrice': '2790580142'}",
         "{'blockNumber': '22840713', 'buyAmount': '584188338766', 'buyToken': '0xa0b86991c6218b36c1d19d4a2e9eb0ce3606eb48', 'fees': {'integratorFee': None, 'zeroExFee': None, 'gasFee': None}, 'issues': {'allowance': {'actual': '0', 'spender': '0x0000000000001ff3684f28c67538d4d072c22734'}, 'balance': {'token': '0xdac17f958d2ee523a2206206994597c13d831ec7', 'actual': '0', 'expected': '583966931471'}, 'simulationIncomplete': False, 'invalidSourcesPassed': []}, 'liquidityAvailable': True, 'minBuyAmount': '581267388350', 'route': {'fills': [{'from': '0xdac17f958d2ee523a2206206994597c13d831ec7', 'to': '0xa0b86991c6218b36c1d19d4a2e9eb0ce3606eb48', 'source': 'Uniswap_V4', 'proportionBps': '10000'}], 'tokens': [{'address': '0xdac17f958d2ee523a2206206994597c13d831ec7', 'symbol': 'USDT'}, {'address': '0xa0b86991c6218b36c1d19d4a2e9eb0ce3606eb48', 'symbol': 'USDC'}]}, 'sellAmount': '583966931471', 'sellToken': '0xdac17f958d2ee523a2206206994597c13d831ec7', 'tokenMetadata': {'buyToken': {'buyTaxBps': '0', 'sellTaxBps': '0'}, 'sellToken': {'buyTaxBps': '0', 'sellTaxBps': '0'}}, 'totalNetworkFee': '455951560668066', 'transaction': {'to': '0x0000000000001ff3684f28c67538d4d072c22734', 'data': '0x2213bc0b00000000000000000000000082d88875d64d60cbe9cbea47cb960ae0f04ebd4d000000000000000000000000dac17f958d2ee523a2206206994597c13d831ec700000000000000000000000000000000000000000000000000000087f7243a0f00000000000000000000000082d88875d64d60cbe9cbea47cb960ae0f04ebd4d00000000000000000000000000000000000000000000000000000000000000a000000000000000000000000000000000000000000000000000000000000003041fff991f00000000000000000000000000000000000000000000000000000000000000000000000000000000000000000000000000000000000000000000000000000000000000000000000000000000000000000000000000000000000000000000000000000000000000000000000000000000000000000000000000000000000000a0aa25cd3700cca4a1454a6d9a00000000000000000000000000000000000000000000000000000000000000000000000000000000000000000000000000000001000000000000000000000000000000000000000000000000000000000000002000000000000000000000000000000000000000000000000000000000000001e4e15b26bc0000000000000000000000000ab82316ad6e206cab38ef9d36bd8caea86bc18b00000000000000000000000000000000000000000000000000000000000000000000000000000000000000000000000000000000000000000000000000000002000000000000000000000000000000000000000000000000ffffffffffffffc50000000000000000000000000000000000000000000000000000000000000160000000000000000000000000dac17f958d2ee523a2206206994597c13d831ec7ffffffffffffffffffffffffffffffffffffffffffffffffffffffffffffffff0000000000000000000000000000000000000000000000000000000000000000000000000000000000000000000000000000000000000000000000006866d7c800000000000000000000000000000000000000000000000000000000000001c000000000000000000000000000000000000000000000000000000087563c77be0000000000000000000000000000000000000000000000000000000000000034271001a0b86991c6218b36c1d19d4a2e9eb0ce3606eb4800000a000001000000000000000000000000000000000000000000000000000000000000000000000000000000000000000000000000000000000000000000000000000000000000000000000000000000000000000000000000000000000000000000000000000000000000000000000000000000000000000000000000000000', 'gas': '171559', 'gasPrice': '2657695374', 'value': '0'}, 'zid': '0xaa25cd3700cca4a1454a6d9a'}",
         "1",
         "gen3",
         "50",
         "0x000000000000000000000000000000000000dEaD",
         "0xdAC17F958D2ee523a2206206994597C13D831ec7",
         "0xA0b86991c6218b36c1d19D4a2e9Eb0cE3606eB48",
         "583966931471",
         null,
         "Bebop",
         "True",
         null,
         "True",
         "False",
         "0xdAC17F958D2ee523a2206206994597C13D831ec7",
         "1",
         "USDT",
         "Tether USD",
         "6",
         "584188.338766",
         "581267.38835",
         "583966.931471",
         "1.0003791435491771",
         "0.9953772328953632"
        ],
        [
         "33",
         "Odos",
         "0x8ea340AA42cD1f6e2471a5C4574EA62C9416B859",
         "False",
         "778915316378",
         "775020739797",
         "9999999999.0",
         "{'from': '0x000000000000000000000000000000000000dEaD', 'to': '0xCf5540fFFCdC3d510B18bFcA6d2b9987b0772559', 'data': '0x3b635ce4000000000000000000000000dac17f958d2ee523a2206206994597c13d831ec700000000000000000000000000000000000000000000000000000000000000000000000000000000000000007882570840a97a490a37bd8db9e1ae39165bfbd6000000000000000000000000a0b86991c6218b36c1d19d4a2e9eb0ce3606eb48000000000000000000000000000000000000000000000000000000b55af8829a000000000000000000000000000000000000000000000000000000b472d5fcd40000000000000000000000008ea340aa42cd1f6e2471a5c4574ea62c9416b85900000000000000000000000000000000000000000000000000000000000001400000000000000000000000007882570840a97a490a37bd8db9e1ae39165bfbd600000000000000000000000000000000000000000000000000000000000000000000000000000000000000000000000000000000000000000000000000000048010203000e010101020000000a00000100ff0000000000000000000000000000dac17f958d2ee523a2206206994597c13d831ec7a0b86991c6218b36c1d19d4a2e9eb0ce3606eb48000000000000000000000000000000000000000000000000', 'value': '0', 'gasPrice': '450508'}",
         "{'quote': {'traceId': 'ef5d4d58-e6a0-4159-af93-695e74e9641b', 'inTokens': ['0xdac17f958d2ee523a2206206994597c13d831ec7'], 'outTokens': ['0xa0b86991c6218b36c1d19d4a2e9eb0ce3606eb48'], 'inAmounts': ['778622575295'], 'outAmounts': ['778915316378'], 'gasEstimate': 214528, 'dataGasEstimate': 0, 'gweiPerGas': 4.6, 'gasEstimateValue': 2.552830936286763, 'inValues': [779780.168402521], 'outValues': [780052.1249329101], 'netOutValue': 780049.5721019738, 'priceImpact': 0, 'percentDiff': 0.034876051149936416, 'permit2Message': None, 'permit2Hash': None, 'partnerFeePercent': 0, 'pathId': '27ed72f8a43c29dcedd98291a63de343', 'pathViz': None, 'blockNumber': 22840712}, 'tx': {'deprecated': None, 'traceId': '7fd18f83-ee1f-4ddc-a047-506763399573', 'blockNumber': 22840712, 'gasEstimate': 214528, 'gasEstimateValue': 2.552830936286763, 'inputTokens': [{'tokenAddress': '0xdac17f958d2ee523a2206206994597c13d831ec7', 'amount': '778622575295'}], 'outputTokens': [{'tokenAddress': '0xa0b86991c6218b36c1d19d4a2e9eb0ce3606eb48', 'amount': '778915316378'}], 'netOutValue': 780049.5721019738, 'outValues': ['780052.1249329101'], 'transaction': {'gas': 429056, 'gasPrice': 4600000000, 'value': '0', 'to': '0xCf5540fFFCdC3d510B18bFcA6d2b9987b0772559', 'from': '0x8ea340AA42cD1f6e2471a5C4574EA62C9416B859', 'data': '0x3b635ce4000000000000000000000000dac17f958d2ee523a2206206994597c13d831ec700000000000000000000000000000000000000000000000000000000000000000000000000000000000000007882570840a97a490a37bd8db9e1ae39165bfbd6000000000000000000000000a0b86991c6218b36c1d19d4a2e9eb0ce3606eb48000000000000000000000000000000000000000000000000000000b55af8829a000000000000000000000000000000000000000000000000000000b472d5fcd40000000000000000000000008ea340aa42cd1f6e2471a5c4574ea62c9416b85900000000000000000000000000000000000000000000000000000000000001400000000000000000000000007882570840a97a490a37bd8db9e1ae39165bfbd600000000000000000000000000000000000000000000000000000000000000000000000000000000000000000000000000000000000000000000000000000048010203000e010101020000000a00000100ff0000000000000000000000000000dac17f958d2ee523a2206206994597c13d831ec7a0b86991c6218b36c1d19d4a2e9eb0ce3606eb48000000000000000000000000000000000000000000000000', 'nonce': 1, 'chainId': 1}, 'simulation': None}}",
         "1",
         "gen3",
         "50",
         "0x000000000000000000000000000000000000dEaD",
         "0xdAC17F958D2ee523a2206206994597C13D831ec7",
         "0xA0b86991c6218b36c1d19D4a2e9Eb0cE3606eB48",
         "778622575295",
         null,
         "Bebop",
         "True",
         null,
         "True",
         "False",
         "0xdAC17F958D2ee523a2206206994597C13D831ec7",
         "1",
         "USDT",
         "Tether USD",
         "6",
         "778915.316378",
         "775020.739797",
         "778622.575295",
         "1.0003759730224735",
         "0.9953740931585044"
        ],
        [
         "34",
         "0xV2",
         "0x0AB82316aD6e206Cab38EF9D36bD8cAEa86Bc18B",
         "False",
         "973641059658",
         "968772844750",
         "9999999999.0",
         "{'from': '0x000000000000000000000000000000000000dEaD', 'to': '0x0000000000001ff3684f28c67538d4d072c22734', 'data': '0x2213bc0b00000000000000000000000082d88875d64d60cbe9cbea47cb960ae0f04ebd4d000000000000000000000000dac17f958d2ee523a2206206994597c13d831ec7000000000000000000000000000000000000000000000000000000e29be70b6f00000000000000000000000082d88875d64d60cbe9cbea47cb960ae0f04ebd4d00000000000000000000000000000000000000000000000000000000000000a000000000000000000000000000000000000000000000000000000000000003041fff991f00000000000000000000000000000000000000000000000000000000000000000000000000000000000000000000000000000000000000000000000000000000000000000000000000000000000000000000000000000000000000000000000000000000000000000000000000000000000000000000000000000000000000a054c1af49c7f0641381e2d9cb00000000000000000000000000000000000000000000000000000000000000000000000000000000000000000000000000000001000000000000000000000000000000000000000000000000000000000000002000000000000000000000000000000000000000000000000000000000000001e4e15b26bc0000000000000000000000000ab82316ad6e206cab38ef9d36bd8caea86bc18b00000000000000000000000000000000000000000000000000000000000000000000000000000000000000000000000000000000000000000000000000000002000000000000000000000000000000000000000000000000ffffffffffffffc50000000000000000000000000000000000000000000000000000000000000160000000000000000000000000dac17f958d2ee523a2206206994597c13d831ec7ffffffffffffffffffffffffffffffffffffffffffffffffffffffffffffffff0000000000000000000000000000000000000000000000000000000000000000000000000000000000000000000000000000000000000000000000006866d7c900000000000000000000000000000000000000000000000000000000000001c0000000000000000000000000000000000000000000000000000000e18f5c7cce0000000000000000000000000000000000000000000000000000000000000034271001a0b86991c6218b36c1d19d4a2e9eb0ce3606eb4800000a000001000000000000000000000000000000000000000000000000000000000000000000000000000000000000000000000000000000000000000000000000000000000000000000000000000000000000000000000000000000000000000000000000000000000000000000000000000000000000000000000000000000', 'value': '0', 'gasPrice': '2790580142'}",
         "{'blockNumber': '22840713', 'buyAmount': '973641059658', 'buyToken': '0xa0b86991c6218b36c1d19d4a2e9eb0ce3606eb48', 'fees': {'integratorFee': None, 'zeroExFee': None, 'gasFee': None}, 'issues': {'allowance': {'actual': '0', 'spender': '0x0000000000001ff3684f28c67538d4d072c22734'}, 'balance': {'token': '0xdac17f958d2ee523a2206206994597c13d831ec7', 'actual': '0', 'expected': '973278219119'}, 'simulationIncomplete': False, 'invalidSourcesPassed': []}, 'liquidityAvailable': True, 'minBuyAmount': '968772844750', 'route': {'fills': [{'from': '0xdac17f958d2ee523a2206206994597c13d831ec7', 'to': '0xa0b86991c6218b36c1d19d4a2e9eb0ce3606eb48', 'source': 'Uniswap_V4', 'proportionBps': '10000'}], 'tokens': [{'address': '0xdac17f958d2ee523a2206206994597c13d831ec7', 'symbol': 'USDT'}, {'address': '0xa0b86991c6218b36c1d19d4a2e9eb0ce3606eb48', 'symbol': 'USDC'}]}, 'sellAmount': '973278219119', 'sellToken': '0xdac17f958d2ee523a2206206994597c13d831ec7', 'tokenMetadata': {'buyToken': {'buyTaxBps': '0', 'sellTaxBps': '0'}, 'sellToken': {'buyTaxBps': '0', 'sellTaxBps': '0'}}, 'totalNetworkFee': '455983453012554', 'transaction': {'to': '0x0000000000001ff3684f28c67538d4d072c22734', 'data': '0x2213bc0b00000000000000000000000082d88875d64d60cbe9cbea47cb960ae0f04ebd4d000000000000000000000000dac17f958d2ee523a2206206994597c13d831ec7000000000000000000000000000000000000000000000000000000e29be70b6f00000000000000000000000082d88875d64d60cbe9cbea47cb960ae0f04ebd4d00000000000000000000000000000000000000000000000000000000000000a000000000000000000000000000000000000000000000000000000000000003041fff991f00000000000000000000000000000000000000000000000000000000000000000000000000000000000000000000000000000000000000000000000000000000000000000000000000000000000000000000000000000000000000000000000000000000000000000000000000000000000000000000000000000000000000a054c1af49c7f0641381e2d9cb00000000000000000000000000000000000000000000000000000000000000000000000000000000000000000000000000000001000000000000000000000000000000000000000000000000000000000000002000000000000000000000000000000000000000000000000000000000000001e4e15b26bc0000000000000000000000000ab82316ad6e206cab38ef9d36bd8caea86bc18b00000000000000000000000000000000000000000000000000000000000000000000000000000000000000000000000000000000000000000000000000000002000000000000000000000000000000000000000000000000ffffffffffffffc50000000000000000000000000000000000000000000000000000000000000160000000000000000000000000dac17f958d2ee523a2206206994597c13d831ec7ffffffffffffffffffffffffffffffffffffffffffffffffffffffffffffffff0000000000000000000000000000000000000000000000000000000000000000000000000000000000000000000000000000000000000000000000006866d7c900000000000000000000000000000000000000000000000000000000000001c0000000000000000000000000000000000000000000000000000000e18f5c7cce0000000000000000000000000000000000000000000000000000000000000034271001a0b86991c6218b36c1d19d4a2e9eb0ce3606eb4800000a000001000000000000000000000000000000000000000000000000000000000000000000000000000000000000000000000000000000000000000000000000000000000000000000000000000000000000000000000000000000000000000000000000000000000000000000000000000000000000000000000000000000', 'gas': '171571', 'gasPrice': '2657695374', 'value': '0'}, 'zid': '0x54c1af49c7f0641381e2d9cb'}",
         "1",
         "gen3",
         "50",
         "0x000000000000000000000000000000000000dEaD",
         "0xdAC17F958D2ee523a2206206994597C13D831ec7",
         "0xA0b86991c6218b36c1d19D4a2e9Eb0cE3606eB48",
         "973278219119",
         null,
         "Bebop",
         "True",
         null,
         "True",
         "False",
         "0xdAC17F958D2ee523a2206206994597C13D831ec7",
         "1",
         "USDT",
         "Tether USD",
         "6",
         "973641.059658",
         "968772.84475",
         "973278.219119",
         "1.000372802485325",
         "0.9953709285993494"
        ],
        [
         "35",
         "Odos",
         "0x8ea340AA42cD1f6e2471a5C4574EA62C9416B859",
         "False",
         "1020390",
         "1015289",
         "9999999999.0",
         "{'from': '0x000000000000000000000000000000000000dEaD', 'to': '0xCf5540fFFCdC3d510B18bFcA6d2b9987b0772559', 'data': '0x3b635ce4000000000000000000000000dac17f958d2ee523a2206206994597c13d831ec700000000000000000000000000000000000000000000000000000000000000000000000000000000000000008784a0f6d01a9fe3b1b6e803ceaa7549c655b580000000000000000000000000a0b86991c6218b36c1d19d4a2e9eb0ce3606eb4800000000000000000000000000000000000000000000000000000000000f91e600000000000000000000000000000000000000000000000000000000000f7df80000000000000000000000008ea340aa42cd1f6e2471a5c4574ea62c9416b85900000000000000000000000000000000000000000000000000000000000001400000000000000000000000007882570840a97a490a37bd8db9e1ae39165bfbd60000000000000000000000000000000000000000000000000000000000000000000000000000000000000000000000000000000000000000000000000000007001020500030100000102001e020d0001030400ff0000000000000000000000008784a0f6d01a9fe3b1b6e803ceaa7549c655b580dac17f958d2ee523a2206206994597c13d831ec7831bf48183b999fde45294b14b55199072f0801bc02aaa39b223fe8d0a0e5c4f27ead9083c756cc200000000000000000000000000000000', 'value': '0', 'gasPrice': '579112'}",
         "{'quote': {'traceId': 'ef6eb20d-8cab-4929-bd2b-1499c89c239f', 'inTokens': ['0xdac17f958d2ee523a2206206994597c13d831ec7'], 'outTokens': ['0xa0b86991c6218b36c1d19d4a2e9eb0ce3606eb48'], 'inAmounts': ['1000000'], 'outAmounts': ['1020390'], 'gasEstimate': 275768, 'dataGasEstimate': 0, 'gweiPerGas': 4.5, 'gasEstimateValue': 3.2102334947770848, 'inValues': [1.0014782539218068], 'outValues': [1.0218709071762069], 'netOutValue': -2.188362587600878, 'priceImpact': 0, 'percentDiff': 2.0362552231705706, 'permit2Message': None, 'permit2Hash': None, 'partnerFeePercent': 0, 'pathId': '48aeb16d47065a5406e831a90a5ea6c4', 'pathViz': None, 'blockNumber': 22840712}, 'tx': {'deprecated': None, 'traceId': '67eb70e6-72cb-4a01-86b0-67862d06c28e', 'blockNumber': 22840712, 'gasEstimate': 275768, 'gasEstimateValue': 3.2102334947770848, 'inputTokens': [{'tokenAddress': '0xdac17f958d2ee523a2206206994597c13d831ec7', 'amount': '1000000'}], 'outputTokens': [{'tokenAddress': '0xa0b86991c6218b36c1d19d4a2e9eb0ce3606eb48', 'amount': '1020390'}], 'netOutValue': -2.188362587600878, 'outValues': ['1.0218709071762069'], 'transaction': {'gas': 551536, 'gasPrice': 4500000000, 'value': '0', 'to': '0xCf5540fFFCdC3d510B18bFcA6d2b9987b0772559', 'from': '0x8ea340AA42cD1f6e2471a5C4574EA62C9416B859', 'data': '0x3b635ce4000000000000000000000000dac17f958d2ee523a2206206994597c13d831ec700000000000000000000000000000000000000000000000000000000000000000000000000000000000000008784a0f6d01a9fe3b1b6e803ceaa7549c655b580000000000000000000000000a0b86991c6218b36c1d19d4a2e9eb0ce3606eb4800000000000000000000000000000000000000000000000000000000000f91e600000000000000000000000000000000000000000000000000000000000f7df80000000000000000000000008ea340aa42cd1f6e2471a5c4574ea62c9416b85900000000000000000000000000000000000000000000000000000000000001400000000000000000000000007882570840a97a490a37bd8db9e1ae39165bfbd60000000000000000000000000000000000000000000000000000000000000000000000000000000000000000000000000000000000000000000000000000007001020500030100000102001e020d0001030400ff0000000000000000000000008784a0f6d01a9fe3b1b6e803ceaa7549c655b580dac17f958d2ee523a2206206994597c13d831ec7831bf48183b999fde45294b14b55199072f0801bc02aaa39b223fe8d0a0e5c4f27ead9083c756cc200000000000000000000000000000000', 'nonce': 1, 'chainId': 1}, 'simulation': None}}",
         "1",
         "gen3",
         "50",
         "0x000000000000000000000000000000000000dEaD",
         "0xdAC17F958D2ee523a2206206994597C13D831ec7",
         "0xA0b86991c6218b36c1d19D4a2e9Eb0cE3606eB48",
         "1000000",
         null,
         "Bebop",
         "True",
         null,
         "True",
         "False",
         "0xdAC17F958D2ee523a2206206994597C13D831ec7",
         "1",
         "USDT",
         "Tether USD",
         "6",
         "1.02039",
         "1.015289",
         "1.0",
         "1.02039",
         "1.015289"
        ]
       ],
       "shape": {
        "columns": 31,
        "rows": 6
       }
      },
      "text/html": [
       "<div>\n",
       "<style scoped>\n",
       "    .dataframe tbody tr th:only-of-type {\n",
       "        vertical-align: middle;\n",
       "    }\n",
       "\n",
       "    .dataframe tbody tr th {\n",
       "        vertical-align: top;\n",
       "    }\n",
       "\n",
       "    .dataframe thead th {\n",
       "        text-align: right;\n",
       "    }\n",
       "</style>\n",
       "<table border=\"1\" class=\"dataframe\">\n",
       "  <thead>\n",
       "    <tr style=\"text-align: right;\">\n",
       "      <th></th>\n",
       "      <th>aggregatorName</th>\n",
       "      <th>asyncSwapper</th>\n",
       "      <th>internal</th>\n",
       "      <th>buyAmount</th>\n",
       "      <th>minBuyAmount</th>\n",
       "      <th>expiration</th>\n",
       "      <th>tx</th>\n",
       "      <th>fullQuoteDetails</th>\n",
       "      <th>chainId</th>\n",
       "      <th>systemName</th>\n",
       "      <th>...</th>\n",
       "      <th>token_address</th>\n",
       "      <th>chain_id</th>\n",
       "      <th>symbol</th>\n",
       "      <th>name</th>\n",
       "      <th>decimals</th>\n",
       "      <th>buy_amount_norm</th>\n",
       "      <th>min_buy_amount_norm</th>\n",
       "      <th>sell_amount_norm</th>\n",
       "      <th>ratio</th>\n",
       "      <th>min_buy_amount_ratio</th>\n",
       "    </tr>\n",
       "  </thead>\n",
       "  <tbody>\n",
       "    <tr>\n",
       "      <th>30</th>\n",
       "      <td>Odos</td>\n",
       "      <td>0x8ea340AA42cD1f6e2471a5C4574EA62C9416B859</td>\n",
       "      <td>False</td>\n",
       "      <td>194730680594</td>\n",
       "      <td>193757027192</td>\n",
       "      <td>1.000000e+10</td>\n",
       "      <td>{'from': '0x0000000000000000000000000000000000...</td>\n",
       "      <td>{'quote': {'traceId': 'e72892a0-3333-4cd6-9895...</td>\n",
       "      <td>1</td>\n",
       "      <td>gen3</td>\n",
       "      <td>...</td>\n",
       "      <td>0xdAC17F958D2ee523a2206206994597C13D831ec7</td>\n",
       "      <td>1</td>\n",
       "      <td>USDT</td>\n",
       "      <td>Tether USD</td>\n",
       "      <td>6</td>\n",
       "      <td>194730.680594</td>\n",
       "      <td>193757.027192</td>\n",
       "      <td>194655.643823</td>\n",
       "      <td>1.000385</td>\n",
       "      <td>0.995384</td>\n",
       "    </tr>\n",
       "    <tr>\n",
       "      <th>31</th>\n",
       "      <td>0xV2</td>\n",
       "      <td>0x0AB82316aD6e206Cab38EF9D36bD8cAEa86Bc18B</td>\n",
       "      <td>False</td>\n",
       "      <td>389460126846</td>\n",
       "      <td>387512819400</td>\n",
       "      <td>1.000000e+10</td>\n",
       "      <td>{'from': '0x0000000000000000000000000000000000...</td>\n",
       "      <td>{'blockNumber': '22840713', 'buyAmount': '3894...</td>\n",
       "      <td>1</td>\n",
       "      <td>gen3</td>\n",
       "      <td>...</td>\n",
       "      <td>0xdAC17F958D2ee523a2206206994597C13D831ec7</td>\n",
       "      <td>1</td>\n",
       "      <td>USDT</td>\n",
       "      <td>Tether USD</td>\n",
       "      <td>6</td>\n",
       "      <td>389460.126846</td>\n",
       "      <td>387512.819400</td>\n",
       "      <td>389311.287647</td>\n",
       "      <td>1.000382</td>\n",
       "      <td>0.995380</td>\n",
       "    </tr>\n",
       "    <tr>\n",
       "      <th>32</th>\n",
       "      <td>0xV2</td>\n",
       "      <td>0x0AB82316aD6e206Cab38EF9D36bD8cAEa86Bc18B</td>\n",
       "      <td>False</td>\n",
       "      <td>584188338766</td>\n",
       "      <td>581267388350</td>\n",
       "      <td>1.000000e+10</td>\n",
       "      <td>{'from': '0x0000000000000000000000000000000000...</td>\n",
       "      <td>{'blockNumber': '22840713', 'buyAmount': '5841...</td>\n",
       "      <td>1</td>\n",
       "      <td>gen3</td>\n",
       "      <td>...</td>\n",
       "      <td>0xdAC17F958D2ee523a2206206994597C13D831ec7</td>\n",
       "      <td>1</td>\n",
       "      <td>USDT</td>\n",
       "      <td>Tether USD</td>\n",
       "      <td>6</td>\n",
       "      <td>584188.338766</td>\n",
       "      <td>581267.388350</td>\n",
       "      <td>583966.931471</td>\n",
       "      <td>1.000379</td>\n",
       "      <td>0.995377</td>\n",
       "    </tr>\n",
       "    <tr>\n",
       "      <th>33</th>\n",
       "      <td>Odos</td>\n",
       "      <td>0x8ea340AA42cD1f6e2471a5C4574EA62C9416B859</td>\n",
       "      <td>False</td>\n",
       "      <td>778915316378</td>\n",
       "      <td>775020739797</td>\n",
       "      <td>1.000000e+10</td>\n",
       "      <td>{'from': '0x0000000000000000000000000000000000...</td>\n",
       "      <td>{'quote': {'traceId': 'ef5d4d58-e6a0-4159-af93...</td>\n",
       "      <td>1</td>\n",
       "      <td>gen3</td>\n",
       "      <td>...</td>\n",
       "      <td>0xdAC17F958D2ee523a2206206994597C13D831ec7</td>\n",
       "      <td>1</td>\n",
       "      <td>USDT</td>\n",
       "      <td>Tether USD</td>\n",
       "      <td>6</td>\n",
       "      <td>778915.316378</td>\n",
       "      <td>775020.739797</td>\n",
       "      <td>778622.575295</td>\n",
       "      <td>1.000376</td>\n",
       "      <td>0.995374</td>\n",
       "    </tr>\n",
       "    <tr>\n",
       "      <th>34</th>\n",
       "      <td>0xV2</td>\n",
       "      <td>0x0AB82316aD6e206Cab38EF9D36bD8cAEa86Bc18B</td>\n",
       "      <td>False</td>\n",
       "      <td>973641059658</td>\n",
       "      <td>968772844750</td>\n",
       "      <td>1.000000e+10</td>\n",
       "      <td>{'from': '0x0000000000000000000000000000000000...</td>\n",
       "      <td>{'blockNumber': '22840713', 'buyAmount': '9736...</td>\n",
       "      <td>1</td>\n",
       "      <td>gen3</td>\n",
       "      <td>...</td>\n",
       "      <td>0xdAC17F958D2ee523a2206206994597C13D831ec7</td>\n",
       "      <td>1</td>\n",
       "      <td>USDT</td>\n",
       "      <td>Tether USD</td>\n",
       "      <td>6</td>\n",
       "      <td>973641.059658</td>\n",
       "      <td>968772.844750</td>\n",
       "      <td>973278.219119</td>\n",
       "      <td>1.000373</td>\n",
       "      <td>0.995371</td>\n",
       "    </tr>\n",
       "    <tr>\n",
       "      <th>35</th>\n",
       "      <td>Odos</td>\n",
       "      <td>0x8ea340AA42cD1f6e2471a5C4574EA62C9416B859</td>\n",
       "      <td>False</td>\n",
       "      <td>1020390</td>\n",
       "      <td>1015289</td>\n",
       "      <td>1.000000e+10</td>\n",
       "      <td>{'from': '0x0000000000000000000000000000000000...</td>\n",
       "      <td>{'quote': {'traceId': 'ef6eb20d-8cab-4929-bd2b...</td>\n",
       "      <td>1</td>\n",
       "      <td>gen3</td>\n",
       "      <td>...</td>\n",
       "      <td>0xdAC17F958D2ee523a2206206994597C13D831ec7</td>\n",
       "      <td>1</td>\n",
       "      <td>USDT</td>\n",
       "      <td>Tether USD</td>\n",
       "      <td>6</td>\n",
       "      <td>1.020390</td>\n",
       "      <td>1.015289</td>\n",
       "      <td>1.000000</td>\n",
       "      <td>1.020390</td>\n",
       "      <td>1.015289</td>\n",
       "    </tr>\n",
       "  </tbody>\n",
       "</table>\n",
       "<p>6 rows × 31 columns</p>\n",
       "</div>"
      ],
      "text/plain": [
       "   aggregatorName                                asyncSwapper internal  \\\n",
       "30           Odos  0x8ea340AA42cD1f6e2471a5C4574EA62C9416B859    False   \n",
       "31           0xV2  0x0AB82316aD6e206Cab38EF9D36bD8cAEa86Bc18B    False   \n",
       "32           0xV2  0x0AB82316aD6e206Cab38EF9D36bD8cAEa86Bc18B    False   \n",
       "33           Odos  0x8ea340AA42cD1f6e2471a5C4574EA62C9416B859    False   \n",
       "34           0xV2  0x0AB82316aD6e206Cab38EF9D36bD8cAEa86Bc18B    False   \n",
       "35           Odos  0x8ea340AA42cD1f6e2471a5C4574EA62C9416B859    False   \n",
       "\n",
       "       buyAmount  minBuyAmount    expiration  \\\n",
       "30  194730680594  193757027192  1.000000e+10   \n",
       "31  389460126846  387512819400  1.000000e+10   \n",
       "32  584188338766  581267388350  1.000000e+10   \n",
       "33  778915316378  775020739797  1.000000e+10   \n",
       "34  973641059658  968772844750  1.000000e+10   \n",
       "35       1020390       1015289  1.000000e+10   \n",
       "\n",
       "                                                   tx  \\\n",
       "30  {'from': '0x0000000000000000000000000000000000...   \n",
       "31  {'from': '0x0000000000000000000000000000000000...   \n",
       "32  {'from': '0x0000000000000000000000000000000000...   \n",
       "33  {'from': '0x0000000000000000000000000000000000...   \n",
       "34  {'from': '0x0000000000000000000000000000000000...   \n",
       "35  {'from': '0x0000000000000000000000000000000000...   \n",
       "\n",
       "                                     fullQuoteDetails  chainId systemName  \\\n",
       "30  {'quote': {'traceId': 'e72892a0-3333-4cd6-9895...        1       gen3   \n",
       "31  {'blockNumber': '22840713', 'buyAmount': '3894...        1       gen3   \n",
       "32  {'blockNumber': '22840713', 'buyAmount': '5841...        1       gen3   \n",
       "33  {'quote': {'traceId': 'ef5d4d58-e6a0-4159-af93...        1       gen3   \n",
       "34  {'blockNumber': '22840713', 'buyAmount': '9736...        1       gen3   \n",
       "35  {'quote': {'traceId': 'ef6eb20d-8cab-4929-bd2b...        1       gen3   \n",
       "\n",
       "    ...                               token_address chain_id symbol  \\\n",
       "30  ...  0xdAC17F958D2ee523a2206206994597C13D831ec7        1   USDT   \n",
       "31  ...  0xdAC17F958D2ee523a2206206994597C13D831ec7        1   USDT   \n",
       "32  ...  0xdAC17F958D2ee523a2206206994597C13D831ec7        1   USDT   \n",
       "33  ...  0xdAC17F958D2ee523a2206206994597C13D831ec7        1   USDT   \n",
       "34  ...  0xdAC17F958D2ee523a2206206994597C13D831ec7        1   USDT   \n",
       "35  ...  0xdAC17F958D2ee523a2206206994597C13D831ec7        1   USDT   \n",
       "\n",
       "          name decimals  buy_amount_norm min_buy_amount_norm  \\\n",
       "30  Tether USD        6    194730.680594       193757.027192   \n",
       "31  Tether USD        6    389460.126846       387512.819400   \n",
       "32  Tether USD        6    584188.338766       581267.388350   \n",
       "33  Tether USD        6    778915.316378       775020.739797   \n",
       "34  Tether USD        6    973641.059658       968772.844750   \n",
       "35  Tether USD        6         1.020390            1.015289   \n",
       "\n",
       "    sell_amount_norm     ratio  min_buy_amount_ratio  \n",
       "30     194655.643823  1.000385              0.995384  \n",
       "31     389311.287647  1.000382              0.995380  \n",
       "32     583966.931471  1.000379              0.995377  \n",
       "33     778622.575295  1.000376              0.995374  \n",
       "34     973278.219119  1.000373              0.995371  \n",
       "35          1.000000  1.020390              1.015289  \n",
       "\n",
       "[6 rows x 31 columns]"
      ]
     },
     "execution_count": 10,
     "metadata": {},
     "output_type": "execute_result"
    }
   ],
   "source": [
    "usdt_df = df[df[\"symbol\"] == \"USDT\"].copy()\n",
    "usdt_df"
   ]
  },
  {
   "cell_type": "code",
   "execution_count": null,
   "metadata": {},
   "outputs": [],
   "source": [
    "# usdt quotes are bad"
   ]
  },
  {
   "cell_type": "code",
   "execution_count": null,
   "metadata": {},
   "outputs": [],
   "source": []
  },
  {
   "cell_type": "code",
   "execution_count": null,
   "metadata": {},
   "outputs": [
    {
     "data": {
      "text/plain": [
       "Index(['aggregatorName', 'asyncSwapper', 'internal', 'buyAmount',\n",
       "       'minBuyAmount', 'expiration', 'tx', 'fullQuoteDetails', 'chainId',\n",
       "       'systemName', 'slippageBps', 'taker', 'sellToken', 'buyToken',\n",
       "       'sellAmount', 'includeSources', 'excludeSources', 'sellAll',\n",
       "       'timeoutMS', 'transferToCaller', 'same_token', 'token_address',\n",
       "       'chain_id', 'symbol', 'name', 'decimals', 'buy_amount_norm',\n",
       "       'min_buy_amount_norm', 'sell_amount_norm', 'ratio',\n",
       "       'min_buy_amount_ratio'],\n",
       "      dtype='object')"
      ]
     },
     "execution_count": 11,
     "metadata": {},
     "output_type": "execute_result"
    }
   ],
   "source": [
    "df.columns"
   ]
  },
  {
   "cell_type": "code",
   "execution_count": null,
   "metadata": {},
   "outputs": [
    {
     "data": {
      "application/vnd.microsoft.datawrangler.viewer.v0+json": {
       "columns": [
        {
         "name": "index",
         "rawType": "int64",
         "type": "integer"
        },
        {
         "name": "buy_amount_norm",
         "rawType": "float64",
         "type": "float"
        },
        {
         "name": "sell_amount_norm",
         "rawType": "float64",
         "type": "float"
        },
        {
         "name": "ratio",
         "rawType": "float64",
         "type": "float"
        },
        {
         "name": "symbol",
         "rawType": "object",
         "type": "string"
        },
        {
         "name": "buyToken",
         "rawType": "object",
         "type": "string"
        },
        {
         "name": "sellToken",
         "rawType": "object",
         "type": "string"
        }
       ],
       "ref": "61f10377-3f0e-4d84-9b6e-3e2372055281",
       "rows": [
        [
         "18",
         "29861.36060971612",
         "25263.01790977762",
         "1.1820187404513849",
         "sUSDe",
         "0x865377367054516e17014CcdED1e7d814EDC9ce4",
         "0x9D39A5DE30e57443BfF2A8307A4256c8797A3497"
        ],
        [
         "19",
         "59721.91505055721",
         "50526.03581955524",
         "1.1820027849373227",
         "sUSDe",
         "0x865377367054516e17014CcdED1e7d814EDC9ce4",
         "0x9D39A5DE30e57443BfF2A8307A4256c8797A3497"
        ],
        [
         "20",
         "89581.54575962859",
         "75789.05372933285",
         "1.1819852782375826",
         "sUSDe",
         "0x865377367054516e17014CcdED1e7d814EDC9ce4",
         "0x9D39A5DE30e57443BfF2A8307A4256c8797A3497"
        ],
        [
         "21",
         "119440.49272825404",
         "101052.07163911048",
         "1.181969758668724",
         "sUSDe",
         "0x865377367054516e17014CcdED1e7d814EDC9ce4",
         "0x9D39A5DE30e57443BfF2A8307A4256c8797A3497"
        ],
        [
         "22",
         "149299.35337659426",
         "126315.08954888808",
         "1.181959763554698",
         "sUSDe",
         "0x865377367054516e17014CcdED1e7d814EDC9ce4",
         "0x9D39A5DE30e57443BfF2A8307A4256c8797A3497"
        ],
        [
         "23",
         "1.2326769301353384",
         "1.0",
         "1.2326769301353384",
         "sUSDe",
         "0x865377367054516e17014CcdED1e7d814EDC9ce4",
         "0x9D39A5DE30e57443BfF2A8307A4256c8797A3497"
        ]
       ],
       "shape": {
        "columns": 6,
        "rows": 6
       }
      },
      "text/html": [
       "<div>\n",
       "<style scoped>\n",
       "    .dataframe tbody tr th:only-of-type {\n",
       "        vertical-align: middle;\n",
       "    }\n",
       "\n",
       "    .dataframe tbody tr th {\n",
       "        vertical-align: top;\n",
       "    }\n",
       "\n",
       "    .dataframe thead th {\n",
       "        text-align: right;\n",
       "    }\n",
       "</style>\n",
       "<table border=\"1\" class=\"dataframe\">\n",
       "  <thead>\n",
       "    <tr style=\"text-align: right;\">\n",
       "      <th></th>\n",
       "      <th>buy_amount_norm</th>\n",
       "      <th>sell_amount_norm</th>\n",
       "      <th>ratio</th>\n",
       "      <th>symbol</th>\n",
       "      <th>buyToken</th>\n",
       "      <th>sellToken</th>\n",
       "    </tr>\n",
       "  </thead>\n",
       "  <tbody>\n",
       "    <tr>\n",
       "      <th>18</th>\n",
       "      <td>29861.360610</td>\n",
       "      <td>25263.017910</td>\n",
       "      <td>1.182019</td>\n",
       "      <td>sUSDe</td>\n",
       "      <td>0x865377367054516e17014CcdED1e7d814EDC9ce4</td>\n",
       "      <td>0x9D39A5DE30e57443BfF2A8307A4256c8797A3497</td>\n",
       "    </tr>\n",
       "    <tr>\n",
       "      <th>19</th>\n",
       "      <td>59721.915051</td>\n",
       "      <td>50526.035820</td>\n",
       "      <td>1.182003</td>\n",
       "      <td>sUSDe</td>\n",
       "      <td>0x865377367054516e17014CcdED1e7d814EDC9ce4</td>\n",
       "      <td>0x9D39A5DE30e57443BfF2A8307A4256c8797A3497</td>\n",
       "    </tr>\n",
       "    <tr>\n",
       "      <th>20</th>\n",
       "      <td>89581.545760</td>\n",
       "      <td>75789.053729</td>\n",
       "      <td>1.181985</td>\n",
       "      <td>sUSDe</td>\n",
       "      <td>0x865377367054516e17014CcdED1e7d814EDC9ce4</td>\n",
       "      <td>0x9D39A5DE30e57443BfF2A8307A4256c8797A3497</td>\n",
       "    </tr>\n",
       "    <tr>\n",
       "      <th>21</th>\n",
       "      <td>119440.492728</td>\n",
       "      <td>101052.071639</td>\n",
       "      <td>1.181970</td>\n",
       "      <td>sUSDe</td>\n",
       "      <td>0x865377367054516e17014CcdED1e7d814EDC9ce4</td>\n",
       "      <td>0x9D39A5DE30e57443BfF2A8307A4256c8797A3497</td>\n",
       "    </tr>\n",
       "    <tr>\n",
       "      <th>22</th>\n",
       "      <td>149299.353377</td>\n",
       "      <td>126315.089549</td>\n",
       "      <td>1.181960</td>\n",
       "      <td>sUSDe</td>\n",
       "      <td>0x865377367054516e17014CcdED1e7d814EDC9ce4</td>\n",
       "      <td>0x9D39A5DE30e57443BfF2A8307A4256c8797A3497</td>\n",
       "    </tr>\n",
       "    <tr>\n",
       "      <th>23</th>\n",
       "      <td>1.232677</td>\n",
       "      <td>1.000000</td>\n",
       "      <td>1.232677</td>\n",
       "      <td>sUSDe</td>\n",
       "      <td>0x865377367054516e17014CcdED1e7d814EDC9ce4</td>\n",
       "      <td>0x9D39A5DE30e57443BfF2A8307A4256c8797A3497</td>\n",
       "    </tr>\n",
       "  </tbody>\n",
       "</table>\n",
       "</div>"
      ],
      "text/plain": [
       "    buy_amount_norm  sell_amount_norm     ratio symbol  \\\n",
       "18     29861.360610      25263.017910  1.182019  sUSDe   \n",
       "19     59721.915051      50526.035820  1.182003  sUSDe   \n",
       "20     89581.545760      75789.053729  1.181985  sUSDe   \n",
       "21    119440.492728     101052.071639  1.181970  sUSDe   \n",
       "22    149299.353377     126315.089549  1.181960  sUSDe   \n",
       "23         1.232677          1.000000  1.232677  sUSDe   \n",
       "\n",
       "                                      buyToken  \\\n",
       "18  0x865377367054516e17014CcdED1e7d814EDC9ce4   \n",
       "19  0x865377367054516e17014CcdED1e7d814EDC9ce4   \n",
       "20  0x865377367054516e17014CcdED1e7d814EDC9ce4   \n",
       "21  0x865377367054516e17014CcdED1e7d814EDC9ce4   \n",
       "22  0x865377367054516e17014CcdED1e7d814EDC9ce4   \n",
       "23  0x865377367054516e17014CcdED1e7d814EDC9ce4   \n",
       "\n",
       "                                     sellToken  \n",
       "18  0x9D39A5DE30e57443BfF2A8307A4256c8797A3497  \n",
       "19  0x9D39A5DE30e57443BfF2A8307A4256c8797A3497  \n",
       "20  0x9D39A5DE30e57443BfF2A8307A4256c8797A3497  \n",
       "21  0x9D39A5DE30e57443BfF2A8307A4256c8797A3497  \n",
       "22  0x9D39A5DE30e57443BfF2A8307A4256c8797A3497  \n",
       "23  0x9D39A5DE30e57443BfF2A8307A4256c8797A3497  "
      ]
     },
     "execution_count": 13,
     "metadata": {},
     "output_type": "execute_result"
    }
   ],
   "source": [
    "sUSDe_df[[\"buy_amount_norm\", \"sell_amount_norm\", \"ratio\", \"symbol\", \"buyToken\", \"sellToken\"]]"
   ]
  },
  {
   "cell_type": "code",
   "execution_count": null,
   "metadata": {},
   "outputs": [],
   "source": []
  }
 ],
 "metadata": {
  "kernelspec": {
   "display_name": "mainnet-launch-py3.10",
   "language": "python",
   "name": "python3"
  },
  "language_info": {
   "codemirror_mode": {
    "name": "ipython",
    "version": 3
   },
   "file_extension": ".py",
   "mimetype": "text/x-python",
   "name": "python",
   "nbconvert_exporter": "python",
   "pygments_lexer": "ipython3",
   "version": "3.10.14"
  }
 },
 "nbformat": 4,
 "nbformat_minor": 2
}
