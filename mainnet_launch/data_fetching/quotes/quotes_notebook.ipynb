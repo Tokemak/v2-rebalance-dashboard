{
 "cells": [
  {
   "cell_type": "code",
   "execution_count": 5,
   "metadata": {},
   "outputs": [],
   "source": [
    "import streamlit as st\n",
    "import plotly.express as px\n",
    "import pandas as pd\n",
    "\n",
    "\n",
    "df = pd.read_csv(\"autoDOLA_quotes.csv\")\n",
    "\n",
    "sUSDe_df = df[df[\"symbol\"] == \"sUSDe\"].copy()"
   ]
  },
  {
   "cell_type": "code",
   "execution_count": 11,
   "metadata": {},
   "outputs": [
    {
     "data": {
      "text/plain": [
       "Index(['aggregatorName', 'asyncSwapper', 'internal', 'buyAmount',\n",
       "       'minBuyAmount', 'expiration', 'tx', 'fullQuoteDetails', 'chainId',\n",
       "       'systemName', 'slippageBps', 'taker', 'sellToken', 'buyToken',\n",
       "       'sellAmount', 'includeSources', 'excludeSources', 'sellAll',\n",
       "       'timeoutMS', 'transferToCaller', 'same_token', 'token_address',\n",
       "       'chain_id', 'symbol', 'name', 'decimals', 'buy_amount_norm',\n",
       "       'min_buy_amount_norm', 'sell_amount_norm', 'ratio',\n",
       "       'min_buy_amount_ratio'],\n",
       "      dtype='object')"
      ]
     },
     "execution_count": 11,
     "metadata": {},
     "output_type": "execute_result"
    }
   ],
   "source": [
    "df.columns"
   ]
  },
  {
   "cell_type": "code",
   "execution_count": 13,
   "metadata": {},
   "outputs": [
    {
     "data": {
      "application/vnd.microsoft.datawrangler.viewer.v0+json": {
       "columns": [
        {
         "name": "index",
         "rawType": "int64",
         "type": "integer"
        },
        {
         "name": "buy_amount_norm",
         "rawType": "float64",
         "type": "float"
        },
        {
         "name": "sell_amount_norm",
         "rawType": "float64",
         "type": "float"
        },
        {
         "name": "ratio",
         "rawType": "float64",
         "type": "float"
        },
        {
         "name": "symbol",
         "rawType": "object",
         "type": "string"
        },
        {
         "name": "buyToken",
         "rawType": "object",
         "type": "string"
        },
        {
         "name": "sellToken",
         "rawType": "object",
         "type": "string"
        }
       ],
       "ref": "61f10377-3f0e-4d84-9b6e-3e2372055281",
       "rows": [
        [
         "18",
         "29861.36060971612",
         "25263.01790977762",
         "1.1820187404513849",
         "sUSDe",
         "0x865377367054516e17014CcdED1e7d814EDC9ce4",
         "0x9D39A5DE30e57443BfF2A8307A4256c8797A3497"
        ],
        [
         "19",
         "59721.91505055721",
         "50526.03581955524",
         "1.1820027849373227",
         "sUSDe",
         "0x865377367054516e17014CcdED1e7d814EDC9ce4",
         "0x9D39A5DE30e57443BfF2A8307A4256c8797A3497"
        ],
        [
         "20",
         "89581.54575962859",
         "75789.05372933285",
         "1.1819852782375826",
         "sUSDe",
         "0x865377367054516e17014CcdED1e7d814EDC9ce4",
         "0x9D39A5DE30e57443BfF2A8307A4256c8797A3497"
        ],
        [
         "21",
         "119440.49272825404",
         "101052.07163911048",
         "1.181969758668724",
         "sUSDe",
         "0x865377367054516e17014CcdED1e7d814EDC9ce4",
         "0x9D39A5DE30e57443BfF2A8307A4256c8797A3497"
        ],
        [
         "22",
         "149299.35337659426",
         "126315.08954888808",
         "1.181959763554698",
         "sUSDe",
         "0x865377367054516e17014CcdED1e7d814EDC9ce4",
         "0x9D39A5DE30e57443BfF2A8307A4256c8797A3497"
        ],
        [
         "23",
         "1.2326769301353384",
         "1.0",
         "1.2326769301353384",
         "sUSDe",
         "0x865377367054516e17014CcdED1e7d814EDC9ce4",
         "0x9D39A5DE30e57443BfF2A8307A4256c8797A3497"
        ]
       ],
       "shape": {
        "columns": 6,
        "rows": 6
       }
      },
      "text/html": [
       "<div>\n",
       "<style scoped>\n",
       "    .dataframe tbody tr th:only-of-type {\n",
       "        vertical-align: middle;\n",
       "    }\n",
       "\n",
       "    .dataframe tbody tr th {\n",
       "        vertical-align: top;\n",
       "    }\n",
       "\n",
       "    .dataframe thead th {\n",
       "        text-align: right;\n",
       "    }\n",
       "</style>\n",
       "<table border=\"1\" class=\"dataframe\">\n",
       "  <thead>\n",
       "    <tr style=\"text-align: right;\">\n",
       "      <th></th>\n",
       "      <th>buy_amount_norm</th>\n",
       "      <th>sell_amount_norm</th>\n",
       "      <th>ratio</th>\n",
       "      <th>symbol</th>\n",
       "      <th>buyToken</th>\n",
       "      <th>sellToken</th>\n",
       "    </tr>\n",
       "  </thead>\n",
       "  <tbody>\n",
       "    <tr>\n",
       "      <th>18</th>\n",
       "      <td>29861.360610</td>\n",
       "      <td>25263.017910</td>\n",
       "      <td>1.182019</td>\n",
       "      <td>sUSDe</td>\n",
       "      <td>0x865377367054516e17014CcdED1e7d814EDC9ce4</td>\n",
       "      <td>0x9D39A5DE30e57443BfF2A8307A4256c8797A3497</td>\n",
       "    </tr>\n",
       "    <tr>\n",
       "      <th>19</th>\n",
       "      <td>59721.915051</td>\n",
       "      <td>50526.035820</td>\n",
       "      <td>1.182003</td>\n",
       "      <td>sUSDe</td>\n",
       "      <td>0x865377367054516e17014CcdED1e7d814EDC9ce4</td>\n",
       "      <td>0x9D39A5DE30e57443BfF2A8307A4256c8797A3497</td>\n",
       "    </tr>\n",
       "    <tr>\n",
       "      <th>20</th>\n",
       "      <td>89581.545760</td>\n",
       "      <td>75789.053729</td>\n",
       "      <td>1.181985</td>\n",
       "      <td>sUSDe</td>\n",
       "      <td>0x865377367054516e17014CcdED1e7d814EDC9ce4</td>\n",
       "      <td>0x9D39A5DE30e57443BfF2A8307A4256c8797A3497</td>\n",
       "    </tr>\n",
       "    <tr>\n",
       "      <th>21</th>\n",
       "      <td>119440.492728</td>\n",
       "      <td>101052.071639</td>\n",
       "      <td>1.181970</td>\n",
       "      <td>sUSDe</td>\n",
       "      <td>0x865377367054516e17014CcdED1e7d814EDC9ce4</td>\n",
       "      <td>0x9D39A5DE30e57443BfF2A8307A4256c8797A3497</td>\n",
       "    </tr>\n",
       "    <tr>\n",
       "      <th>22</th>\n",
       "      <td>149299.353377</td>\n",
       "      <td>126315.089549</td>\n",
       "      <td>1.181960</td>\n",
       "      <td>sUSDe</td>\n",
       "      <td>0x865377367054516e17014CcdED1e7d814EDC9ce4</td>\n",
       "      <td>0x9D39A5DE30e57443BfF2A8307A4256c8797A3497</td>\n",
       "    </tr>\n",
       "    <tr>\n",
       "      <th>23</th>\n",
       "      <td>1.232677</td>\n",
       "      <td>1.000000</td>\n",
       "      <td>1.232677</td>\n",
       "      <td>sUSDe</td>\n",
       "      <td>0x865377367054516e17014CcdED1e7d814EDC9ce4</td>\n",
       "      <td>0x9D39A5DE30e57443BfF2A8307A4256c8797A3497</td>\n",
       "    </tr>\n",
       "  </tbody>\n",
       "</table>\n",
       "</div>"
      ],
      "text/plain": [
       "    buy_amount_norm  sell_amount_norm     ratio symbol  \\\n",
       "18     29861.360610      25263.017910  1.182019  sUSDe   \n",
       "19     59721.915051      50526.035820  1.182003  sUSDe   \n",
       "20     89581.545760      75789.053729  1.181985  sUSDe   \n",
       "21    119440.492728     101052.071639  1.181970  sUSDe   \n",
       "22    149299.353377     126315.089549  1.181960  sUSDe   \n",
       "23         1.232677          1.000000  1.232677  sUSDe   \n",
       "\n",
       "                                      buyToken  \\\n",
       "18  0x865377367054516e17014CcdED1e7d814EDC9ce4   \n",
       "19  0x865377367054516e17014CcdED1e7d814EDC9ce4   \n",
       "20  0x865377367054516e17014CcdED1e7d814EDC9ce4   \n",
       "21  0x865377367054516e17014CcdED1e7d814EDC9ce4   \n",
       "22  0x865377367054516e17014CcdED1e7d814EDC9ce4   \n",
       "23  0x865377367054516e17014CcdED1e7d814EDC9ce4   \n",
       "\n",
       "                                     sellToken  \n",
       "18  0x9D39A5DE30e57443BfF2A8307A4256c8797A3497  \n",
       "19  0x9D39A5DE30e57443BfF2A8307A4256c8797A3497  \n",
       "20  0x9D39A5DE30e57443BfF2A8307A4256c8797A3497  \n",
       "21  0x9D39A5DE30e57443BfF2A8307A4256c8797A3497  \n",
       "22  0x9D39A5DE30e57443BfF2A8307A4256c8797A3497  \n",
       "23  0x9D39A5DE30e57443BfF2A8307A4256c8797A3497  "
      ]
     },
     "execution_count": 13,
     "metadata": {},
     "output_type": "execute_result"
    }
   ],
   "source": [
    "sUSDe_df[[\"buy_amount_norm\", \"sell_amount_norm\", \"ratio\", \"symbol\", \"buyToken\", \"sellToken\"]]"
   ]
  },
  {
   "cell_type": "code",
   "execution_count": null,
   "metadata": {},
   "outputs": [],
   "source": []
  }
 ],
 "metadata": {
  "kernelspec": {
   "display_name": "mainnet-launch-py3.10",
   "language": "python",
   "name": "python3"
  },
  "language_info": {
   "codemirror_mode": {
    "name": "ipython",
    "version": 3
   },
   "file_extension": ".py",
   "mimetype": "text/x-python",
   "name": "python",
   "nbconvert_exporter": "python",
   "pygments_lexer": "ipython3",
   "version": "3.10.14"
  }
 },
 "nbformat": 4,
 "nbformat_minor": 2
}
