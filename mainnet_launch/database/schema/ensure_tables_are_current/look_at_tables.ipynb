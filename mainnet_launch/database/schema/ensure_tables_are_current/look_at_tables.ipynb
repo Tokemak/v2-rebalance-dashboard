{
 "cells": [
  {
   "cell_type": "code",
   "execution_count": null,
   "metadata": {},
   "outputs": [],
   "source": [
    "import plotly.express as px\n",
    "import plotly.graph_objects as go\n",
    "import pandas as pd\n",
    "import streamlit as st\n",
    "import psutil\n",
    "\n",
    "from mainnet_launch.constants import *\n",
    "\n",
    "from mainnet_launch.database.schema.full import *\n",
    "from mainnet_launch.database.schema.postgres_operations import *\n",
    "from mainnet_launch.database.schema.views import *\n",
    "\n",
    "\n",
    "# for autopool in ALL_AUTOPOOLS:\n",
    "#     df = fetch_autopool_destination_state_df(autopool)\n",
    "#     print(f\"{autopool.name} has {len(df)} destination states {df['datetime'].max()}\")"
   ]
  },
  {
   "cell_type": "code",
   "execution_count": null,
   "metadata": {},
   "outputs": [],
   "source": [
    "# this tells me that the destination states table is curret"
   ]
  },
  {
   "cell_type": "code",
   "execution_count": 14,
   "metadata": {},
   "outputs": [
    {
     "data": {
      "application/vnd.microsoft.datawrangler.viewer.v0+json": {
       "columns": [
        {
         "name": "index",
         "rawType": "int64",
         "type": "integer"
        },
        {
         "name": "destination_vault_address",
         "rawType": "object",
         "type": "string"
        },
        {
         "name": "autopool_vault_address",
         "rawType": "object",
         "type": "string"
        },
        {
         "name": "underlying_name",
         "rawType": "object",
         "type": "string"
        }
       ],
       "ref": "a755dfa0-b194-4805-8e26-1f8fd46bf4bb",
       "rows": [
        [
         "0",
         "0xe3AE2Ab9AE8ADe1B4940dd893C9339401bEe61A1",
         "0x0A2b94F6871c1D7A32Fe58E1ab5e6deA2f114E56",
         "Gyroscope ECLP wstETH/cbETH"
        ],
        [
         "1",
         "0x90300b02b162F902B9629963830BcCCdeEd71113",
         "0x6dC3ce9C57b20131347FDc9089D740DAf6eB34c5",
         "Balancer weETH/ezETH/rswETH"
        ],
        [
         "2",
         "0x60339056EC88996e41757E05a798310E46972cca",
         "0x6dC3ce9C57b20131347FDc9089D740DAf6eB34c5",
         "Balancer rsETH / ETHx"
        ],
        [
         "3",
         "0x0A2b94F6871c1D7A32Fe58E1ab5e6deA2f114E56",
         "0x0A2b94F6871c1D7A32Fe58E1ab5e6deA2f114E56",
         "autoETH"
        ],
        [
         "4",
         "0x6DcB6797b1C0442587c2ad79745ef7BB487Fc2E2",
         "0x0A2b94F6871c1D7A32Fe58E1ab5e6deA2f114E56",
         "Gyroscope ECLP wstETH/wETH"
        ],
        [
         "5",
         "0xbA1462f43c6f60ebD1C62735c94E428aD073E01A",
         "0x35911af1B570E26f668905595dEd133D01CD3E5a",
         "pxETH/wETH"
        ],
        [
         "6",
         "0x60339056EC88996e41757E05a798310E46972cca",
         "0xE800e3760FC20aA98c5df6A9816147f190455AF3",
         "Balancer rsETH / ETHx"
        ],
        [
         "7",
         "0xe4433D00Cf48BFE0C672d9949F2cd2c008bffC04",
         "0x0A2b94F6871c1D7A32Fe58E1ab5e6deA2f114E56",
         "pxETH/stETH"
        ],
        [
         "8",
         "0x4F4bE87cFe874db2e248A787669a0D6E77f1F149",
         "0x6dC3ce9C57b20131347FDc9089D740DAf6eB34c5",
         "Gyroscope ECLP wstETH/cbETH"
        ],
        [
         "9",
         "0xaD70ed6A904d38acD0BbE2D922279149cFEDb190",
         "0x0A2b94F6871c1D7A32Fe58E1ab5e6deA2f114E56",
         "Curve.fi Factory Plain Pool: frxETH/WETH"
        ],
        [
         "10",
         "0x1E581AD9ef141C3037991806383B7990c1f68312",
         "0x6dC3ce9C57b20131347FDc9089D740DAf6eB34c5",
         "Balancer rETH Stable Pool"
        ],
        [
         "11",
         "0x867991C7737Ccbb152aE5a7E6EDB05cA0670717E",
         "0x6dC3ce9C57b20131347FDc9089D740DAf6eB34c5",
         "Balancer rETH Stable Pool"
        ],
        [
         "12",
         "0x5Ff56531f92f1e3f2bE616760F05e35caE630D91",
         "0x0A2b94F6871c1D7A32Fe58E1ab5e6deA2f114E56",
         "wETH/rETH"
        ],
        [
         "13",
         "0xC9b5D82652a1C8214b0971A004983d0EEeDD751C",
         "0xE800e3760FC20aA98c5df6A9816147f190455AF3",
         "Balancer weETH/ezETH/rswETH"
        ],
        [
         "14",
         "0x8cA2201BC34780f14Bca452913ecAc8e9928d4cA",
         "0x6dC3ce9C57b20131347FDc9089D740DAf6eB34c5",
         "Balancer pxETH/wETH StablePool"
        ],
        [
         "15",
         "0x1Ea622fa030e4a78F4CC2f305dd3c08DA3F08573",
         "0x0A2b94F6871c1D7A32Fe58E1ab5e6deA2f114E56",
         "Curve.fi Factory Pool: ETHx-ETH"
        ],
        [
         "16",
         "0x689dc7B5CE8e23061a8223E97701E9345764B8B7",
         "0x6dC3ce9C57b20131347FDc9089D740DAf6eB34c5",
         "Balancer ezETH-WETH Stable Pool"
        ],
        [
         "17",
         "0x2C7120dCCF1c14A37A26A4955475d45d34a3d7E7",
         "0x0A2b94F6871c1D7A32Fe58E1ab5e6deA2f114E56",
         "Instadapp ETH v2"
        ],
        [
         "18",
         "0x5C62984c84e0d24463F4C316D371d1FBb0A8080d",
         "0x0A2b94F6871c1D7A32Fe58E1ab5e6deA2f114E56",
         "Autocompounding Pirex Ether"
        ],
        [
         "19",
         "0x4F4bE87cFe874db2e248A787669a0D6E77f1F149",
         "0x0A2b94F6871c1D7A32Fe58E1ab5e6deA2f114E56",
         "Gyroscope ECLP wstETH/cbETH"
        ],
        [
         "20",
         "0xc4Eb861e7b66f593482a3D7E8adc314f6eEDA30B",
         "0x6dC3ce9C57b20131347FDc9089D740DAf6eB34c5",
         "Balancer pxETH/wETH StablePool"
        ],
        [
         "21",
         "0x2899143298FECa3a36DAfDDcddAF167f1D673254",
         "0x6dC3ce9C57b20131347FDc9089D740DAf6eB34c5",
         "Balancer ETHx/wstETH"
        ],
        [
         "22",
         "0x1E581AD9ef141C3037991806383B7990c1f68312",
         "0x0A2b94F6871c1D7A32Fe58E1ab5e6deA2f114E56",
         "Balancer rETH Stable Pool"
        ],
        [
         "23",
         "0xE800e3760FC20aA98c5df6A9816147f190455AF3",
         "0xE800e3760FC20aA98c5df6A9816147f190455AF3",
         "autoLRT"
        ],
        [
         "24",
         "0x903F21CBC0cFd49817dB219Cd216325fD4132034",
         "0x0A2b94F6871c1D7A32Fe58E1ab5e6deA2f114E56",
         "Curve.fi Factory Pool: OETH"
        ],
        [
         "25",
         "0xdfE3fA7027E84f59b266459C567278C79fe86f0C",
         "0x0A2b94F6871c1D7A32Fe58E1ab5e6deA2f114E56",
         "Balancer ETHx/wstETH"
        ],
        [
         "26",
         "0x84844d8A8a13337b31CF01DC384c74C862FCd903",
         "0x0A2b94F6871c1D7A32Fe58E1ab5e6deA2f114E56",
         "Balancer wstETH-WETH Stable Pool"
        ],
        [
         "27",
         "0x1416BfE53520a71553230c3FdeeEce30d5470bA7",
         "0x6dC3ce9C57b20131347FDc9089D740DAf6eB34c5",
         "Balancer weETH/ezETH/rswETH"
        ],
        [
         "28",
         "0x013D82483C968cdbB4a8384754f5a5028b85dB6d",
         "0x0A2b94F6871c1D7A32Fe58E1ab5e6deA2f114E56",
         "Balancer osETH/wETH StablePool"
        ],
        [
         "29",
         "0x35911af1B570E26f668905595dEd133D01CD3E5a",
         "0x35911af1B570E26f668905595dEd133D01CD3E5a",
         "dineroETH"
        ],
        [
         "30",
         "0x4E12227b350E8f8fEEc41A58D36cE2fB2e2d4575",
         "0xE800e3760FC20aA98c5df6A9816147f190455AF3",
         "Balancer rsETH-WETH Stable Pool"
        ],
        [
         "31",
         "0x148Ca723BefeA7b021C399413b8b7426A4701500",
         "0xE800e3760FC20aA98c5df6A9816147f190455AF3",
         "Balancer weETH/rETH StablePool"
        ],
        [
         "32",
         "0xB6d68122428Dc1141467cB96791618615Ab9F746",
         "0x6dC3ce9C57b20131347FDc9089D740DAf6eB34c5",
         "Balancer rsETH / ETHx"
        ],
        [
         "33",
         "0x5593882d517886D190F47967168D2d68D8960F48",
         "0x6dC3ce9C57b20131347FDc9089D740DAf6eB34c5",
         "Balancer pxETH/wETH StablePool"
        ],
        [
         "34",
         "0x17216C32B9134343258B05807405db02BE030acd",
         "0xE800e3760FC20aA98c5df6A9816147f190455AF3",
         "weETH/WETH-ng"
        ],
        [
         "35",
         "0xB6d68122428Dc1141467cB96791618615Ab9F746",
         "0xE800e3760FC20aA98c5df6A9816147f190455AF3",
         "Balancer rsETH / ETHx"
        ],
        [
         "36",
         "0xfB6f99FdF12E37Bfe3c4Cf81067faB10c465fb24",
         "0x0A2b94F6871c1D7A32Fe58E1ab5e6deA2f114E56",
         "Balancer ETHx/wstETH"
        ],
        [
         "37",
         "0x5c6aeb9ef0d5BbA4E6691f381003503FD0D45126",
         "0xE800e3760FC20aA98c5df6A9816147f190455AF3",
         "weETH/WETH-ng"
        ],
        [
         "38",
         "0x49895f72fd9d0BF6BBb485C70CE38556de62b070",
         "0x0A2b94F6871c1D7A32Fe58E1ab5e6deA2f114E56",
         "osETH/rETH"
        ],
        [
         "39",
         "0xd100c932801390fdeBcE11F26f611D4898b44236",
         "0x0A2b94F6871c1D7A32Fe58E1ab5e6deA2f114E56",
         "Wrapped liquid staked Ether 2.0"
        ],
        [
         "40",
         "0x5A4B544B9734930DDC587c9a2f093dC5058A4f4D",
         "0x6dC3ce9C57b20131347FDc9089D740DAf6eB34c5",
         "Balancer wstETH-WETH Stable Pool"
        ],
        [
         "41",
         "0xE93f9C1f6436c7dCb3FE094E13E58742E16ae848",
         "0x0A2b94F6871c1D7A32Fe58E1ab5e6deA2f114E56",
         "Curve.fi Factory Pool: ETHx-ETH"
        ],
        [
         "42",
         "0x8E0991e398F9e2F165A2e081F404754d283aE332",
         "0x0A2b94F6871c1D7A32Fe58E1ab5e6deA2f114E56",
         "Balancer Aave Lido wETH-wstETH"
        ],
        [
         "43",
         "0x87E25fFe5C3A2720Cd43F5Eb8ec41Ac0CE699D07",
         "0x0A2b94F6871c1D7A32Fe58E1ab5e6deA2f114E56",
         "Balancer osETH-waWETH"
        ],
        [
         "44",
         "0x5c6aeb9ef0d5BbA4E6691f381003503FD0D45126",
         "0x0A2b94F6871c1D7A32Fe58E1ab5e6deA2f114E56",
         "weETH/WETH-ng"
        ],
        [
         "45",
         "0x92294A62D6D9F0FbE30Ba3B543edb1806561baD7",
         "0x6dC3ce9C57b20131347FDc9089D740DAf6eB34c5",
         "Gyroscope ECLP wstETH/cbETH"
        ],
        [
         "46",
         "0x90300b02b162F902B9629963830BcCCdeEd71113",
         "0xE800e3760FC20aA98c5df6A9816147f190455AF3",
         "Balancer weETH/ezETH/rswETH"
        ],
        [
         "47",
         "0x865e59D439BF7310c9BC6117E6020B8C87De4065",
         "0x0A2b94F6871c1D7A32Fe58E1ab5e6deA2f114E56",
         "Balancer osETH/wETH StablePool"
        ],
        [
         "48",
         "0x5A4B544B9734930DDC587c9a2f093dC5058A4f4D",
         "0x0A2b94F6871c1D7A32Fe58E1ab5e6deA2f114E56",
         "Balancer wstETH-WETH Stable Pool"
        ],
        [
         "49",
         "0xf9779aEF9f77e78C857CB4A068c65CcBee25BAAc",
         "0x6dC3ce9C57b20131347FDc9089D740DAf6eB34c5",
         "Balancer rsETH-WETH Stable Pool"
        ]
       ],
       "shape": {
        "columns": 3,
        "rows": 114
       }
      },
      "text/html": [
       "<div>\n",
       "<style scoped>\n",
       "    .dataframe tbody tr th:only-of-type {\n",
       "        vertical-align: middle;\n",
       "    }\n",
       "\n",
       "    .dataframe tbody tr th {\n",
       "        vertical-align: top;\n",
       "    }\n",
       "\n",
       "    .dataframe thead th {\n",
       "        text-align: right;\n",
       "    }\n",
       "</style>\n",
       "<table border=\"1\" class=\"dataframe\">\n",
       "  <thead>\n",
       "    <tr style=\"text-align: right;\">\n",
       "      <th></th>\n",
       "      <th>destination_vault_address</th>\n",
       "      <th>autopool_vault_address</th>\n",
       "      <th>underlying_name</th>\n",
       "    </tr>\n",
       "  </thead>\n",
       "  <tbody>\n",
       "    <tr>\n",
       "      <th>0</th>\n",
       "      <td>0xe3AE2Ab9AE8ADe1B4940dd893C9339401bEe61A1</td>\n",
       "      <td>0x0A2b94F6871c1D7A32Fe58E1ab5e6deA2f114E56</td>\n",
       "      <td>Gyroscope ECLP wstETH/cbETH</td>\n",
       "    </tr>\n",
       "    <tr>\n",
       "      <th>1</th>\n",
       "      <td>0x90300b02b162F902B9629963830BcCCdeEd71113</td>\n",
       "      <td>0x6dC3ce9C57b20131347FDc9089D740DAf6eB34c5</td>\n",
       "      <td>Balancer weETH/ezETH/rswETH</td>\n",
       "    </tr>\n",
       "    <tr>\n",
       "      <th>2</th>\n",
       "      <td>0x60339056EC88996e41757E05a798310E46972cca</td>\n",
       "      <td>0x6dC3ce9C57b20131347FDc9089D740DAf6eB34c5</td>\n",
       "      <td>Balancer rsETH / ETHx</td>\n",
       "    </tr>\n",
       "    <tr>\n",
       "      <th>3</th>\n",
       "      <td>0x0A2b94F6871c1D7A32Fe58E1ab5e6deA2f114E56</td>\n",
       "      <td>0x0A2b94F6871c1D7A32Fe58E1ab5e6deA2f114E56</td>\n",
       "      <td>autoETH</td>\n",
       "    </tr>\n",
       "    <tr>\n",
       "      <th>4</th>\n",
       "      <td>0x6DcB6797b1C0442587c2ad79745ef7BB487Fc2E2</td>\n",
       "      <td>0x0A2b94F6871c1D7A32Fe58E1ab5e6deA2f114E56</td>\n",
       "      <td>Gyroscope ECLP wstETH/wETH</td>\n",
       "    </tr>\n",
       "    <tr>\n",
       "      <th>...</th>\n",
       "      <td>...</td>\n",
       "      <td>...</td>\n",
       "      <td>...</td>\n",
       "    </tr>\n",
       "    <tr>\n",
       "      <th>109</th>\n",
       "      <td>0xe3AE2Ab9AE8ADe1B4940dd893C9339401bEe61A1</td>\n",
       "      <td>0x6dC3ce9C57b20131347FDc9089D740DAf6eB34c5</td>\n",
       "      <td>Gyroscope ECLP wstETH/cbETH</td>\n",
       "    </tr>\n",
       "    <tr>\n",
       "      <th>110</th>\n",
       "      <td>0x4142e3a17391676C66DDf1285E43889F168EE237</td>\n",
       "      <td>0x0A2b94F6871c1D7A32Fe58E1ab5e6deA2f114E56</td>\n",
       "      <td>Balancer osETH-waWETH</td>\n",
       "    </tr>\n",
       "    <tr>\n",
       "      <th>111</th>\n",
       "      <td>0x40219bBda953ca811d2D0168Dc806a96b84791d9</td>\n",
       "      <td>0x0A2b94F6871c1D7A32Fe58E1ab5e6deA2f114E56</td>\n",
       "      <td>Balancer weETH/rETH StablePool</td>\n",
       "    </tr>\n",
       "    <tr>\n",
       "      <th>112</th>\n",
       "      <td>0xFDa49984eb4eA4075b8b451032849347C633E94b</td>\n",
       "      <td>0x0A2b94F6871c1D7A32Fe58E1ab5e6deA2f114E56</td>\n",
       "      <td>Balancer osETH/wETH StablePool</td>\n",
       "    </tr>\n",
       "    <tr>\n",
       "      <th>113</th>\n",
       "      <td>0x865e59D439BF7310c9BC6117E6020B8C87De4065</td>\n",
       "      <td>0x6dC3ce9C57b20131347FDc9089D740DAf6eB34c5</td>\n",
       "      <td>Balancer osETH/wETH StablePool</td>\n",
       "    </tr>\n",
       "  </tbody>\n",
       "</table>\n",
       "<p>114 rows × 3 columns</p>\n",
       "</div>"
      ],
      "text/plain": [
       "                      destination_vault_address  \\\n",
       "0    0xe3AE2Ab9AE8ADe1B4940dd893C9339401bEe61A1   \n",
       "1    0x90300b02b162F902B9629963830BcCCdeEd71113   \n",
       "2    0x60339056EC88996e41757E05a798310E46972cca   \n",
       "3    0x0A2b94F6871c1D7A32Fe58E1ab5e6deA2f114E56   \n",
       "4    0x6DcB6797b1C0442587c2ad79745ef7BB487Fc2E2   \n",
       "..                                          ...   \n",
       "109  0xe3AE2Ab9AE8ADe1B4940dd893C9339401bEe61A1   \n",
       "110  0x4142e3a17391676C66DDf1285E43889F168EE237   \n",
       "111  0x40219bBda953ca811d2D0168Dc806a96b84791d9   \n",
       "112  0xFDa49984eb4eA4075b8b451032849347C633E94b   \n",
       "113  0x865e59D439BF7310c9BC6117E6020B8C87De4065   \n",
       "\n",
       "                         autopool_vault_address  \\\n",
       "0    0x0A2b94F6871c1D7A32Fe58E1ab5e6deA2f114E56   \n",
       "1    0x6dC3ce9C57b20131347FDc9089D740DAf6eB34c5   \n",
       "2    0x6dC3ce9C57b20131347FDc9089D740DAf6eB34c5   \n",
       "3    0x0A2b94F6871c1D7A32Fe58E1ab5e6deA2f114E56   \n",
       "4    0x0A2b94F6871c1D7A32Fe58E1ab5e6deA2f114E56   \n",
       "..                                          ...   \n",
       "109  0x6dC3ce9C57b20131347FDc9089D740DAf6eB34c5   \n",
       "110  0x0A2b94F6871c1D7A32Fe58E1ab5e6deA2f114E56   \n",
       "111  0x0A2b94F6871c1D7A32Fe58E1ab5e6deA2f114E56   \n",
       "112  0x0A2b94F6871c1D7A32Fe58E1ab5e6deA2f114E56   \n",
       "113  0x6dC3ce9C57b20131347FDc9089D740DAf6eB34c5   \n",
       "\n",
       "                    underlying_name  \n",
       "0       Gyroscope ECLP wstETH/cbETH  \n",
       "1       Balancer weETH/ezETH/rswETH  \n",
       "2             Balancer rsETH / ETHx  \n",
       "3                           autoETH  \n",
       "4        Gyroscope ECLP wstETH/wETH  \n",
       "..                              ...  \n",
       "109     Gyroscope ECLP wstETH/cbETH  \n",
       "110           Balancer osETH-waWETH  \n",
       "111  Balancer weETH/rETH StablePool  \n",
       "112  Balancer osETH/wETH StablePool  \n",
       "113  Balancer osETH/wETH StablePool  \n",
       "\n",
       "[114 rows x 3 columns]"
      ]
     },
     "execution_count": 14,
     "metadata": {},
     "output_type": "execute_result"
    }
   ],
   "source": [
    "chain = ETH_CHAIN\n",
    "autopool_and_destinations_df = merge_tables_as_df(\n",
    "    selectors=[\n",
    "        TableSelector(\n",
    "            AutopoolDestinations,\n",
    "            [\n",
    "                AutopoolDestinations.destination_vault_address,\n",
    "                AutopoolDestinations.autopool_vault_address,\n",
    "            ],\n",
    "        ),\n",
    "        TableSelector(\n",
    "            Destinations,\n",
    "            Destinations.underlying_name,\n",
    "            join_on=AutopoolDestinations.destination_vault_address == Destinations.destination_vault_address,\n",
    "        ),\n",
    "    ],\n",
    "    where_clause=(Destinations.chain_id == chain.chain_id)\n",
    "    & (AutopoolDestinations.autopool_vault_address.in_([a.autopool_eth_addr for a in ALL_AUTOPOOLS_DATA_ON_CHAIN])),\n",
    ")\n",
    "\n",
    "autopool_and_destinations_df"
   ]
  },
  {
   "cell_type": "code",
   "execution_count": 15,
   "metadata": {},
   "outputs": [
    {
     "data": {
      "application/vnd.microsoft.datawrangler.viewer.v0+json": {
       "columns": [
        {
         "name": "index",
         "rawType": "int64",
         "type": "integer"
        },
        {
         "name": "block",
         "rawType": "int64",
         "type": "integer"
        },
        {
         "name": "chain_id",
         "rawType": "int64",
         "type": "integer"
        },
        {
         "name": "token_address",
         "rawType": "object",
         "type": "string"
        },
        {
         "name": "destination_vault_address",
         "rawType": "object",
         "type": "string"
        },
        {
         "name": "denominated_in",
         "rawType": "object",
         "type": "string"
        },
        {
         "name": "spot_price",
         "rawType": "float64",
         "type": "float"
        },
        {
         "name": "quantity",
         "rawType": "float64",
         "type": "float"
        }
       ],
       "ref": "3cef752a-b055-481b-8e7c-9c9bdcd275d3",
       "rows": [
        [
         "0",
         "22196950",
         "1",
         "0xdAC17F958D2ee523a2206206994597C13D831ec7",
         "0xd7900d87069C815a299bdA7aFDcd7eEe98fe4b6c",
         "0xA0b86991c6218b36c1d19D4a2e9Eb0cE3606eB48",
         "0.999781",
         "799505.098887"
        ],
        [
         "1",
         "22859279",
         "1",
         "0xf939E0A03FB07F59A73314E73794Be0E57ac1b4E",
         "0xa345ceECCF8fe6aE33fe1D655B4806492251c2A8",
         "0xA0b86991c6218b36c1d19D4a2e9Eb0cE3606eB48",
         "0.999883",
         "1161877.6861258193"
        ],
        [
         "2",
         "22644092",
         "1",
         "0xA0b86991c6218b36c1d19D4a2e9Eb0cE3606eB48",
         "0x7876F91BB22148345b3De16af9448081E9853830",
         "0xA0b86991c6218b36c1d19D4a2e9Eb0cE3606eB48",
         "1.000176",
         "193289836.057182"
        ],
        [
         "3",
         "22308953",
         "1",
         "0xf939E0A03FB07F59A73314E73794Be0E57ac1b4E",
         "0xa345ceECCF8fe6aE33fe1D655B4806492251c2A8",
         "0xA0b86991c6218b36c1d19D4a2e9Eb0cE3606eB48",
         "1.00008",
         "720992.5322171252"
        ],
        [
         "4",
         "22321187",
         "1",
         "0x83F20F44975D03b1b09e64809B757c47f942BEeA",
         "0xAd7b8dB1efEe849c67060c6b10BC7D6D3C607aa5",
         "0xA0b86991c6218b36c1d19D4a2e9Eb0cE3606eB48",
         "1.157446",
         "6964176.523550069"
        ],
        [
         "5",
         "22343577",
         "1",
         "0xdAC17F958D2ee523a2206206994597C13D831ec7",
         "0xbB2d2dd491204a86ec10a1a6972F940B34fE060e",
         "0xA0b86991c6218b36c1d19D4a2e9Eb0cE3606eB48",
         "1.00033",
         "1325517.476022"
        ],
        [
         "6",
         "22706909",
         "1",
         "0xA0b86991c6218b36c1d19D4a2e9Eb0cE3606eB48",
         "0xa7569A44f348d3D70d8ad5889e50F78E33d80D35",
         "0xA0b86991c6218b36c1d19D4a2e9Eb0cE3606eB48",
         "1.0",
         "1470.032018"
        ],
        [
         "7",
         "22764460",
         "1",
         "0x83F20F44975D03b1b09e64809B757c47f942BEeA",
         "0xAd7b8dB1efEe849c67060c6b10BC7D6D3C607aa5",
         "0xA0b86991c6218b36c1d19D4a2e9Eb0cE3606eB48",
         "1.161971",
         "6888911.5572223775"
        ],
        [
         "8",
         "22764385",
         "1",
         "0xA0b86991c6218b36c1d19D4a2e9Eb0cE3606eB48",
         "0x366C094C5563CD12AF27b9AfFF2200B0E0D056E0",
         "0xA0b86991c6218b36c1d19D4a2e9Eb0cE3606eB48",
         "0.999737",
         "6071798.713085024"
        ],
        [
         "9",
         "22452627",
         "1",
         "0x9D39A5DE30e57443BfF2A8307A4256c8797A3497",
         "0xCADe3658eCEA14e4da22ef81BE335E9783E68848",
         "0xA0b86991c6218b36c1d19D4a2e9Eb0cE3606eB48",
         "1.17034",
         "293068.91537313507"
        ],
        [
         "10",
         "22412411",
         "1",
         "0x0655977FEb2f289A4aB78af67BAB0d17aAb84367",
         "0x8acA8accFb69adeff607431E0F25466B7b76a8Ad",
         "0xA0b86991c6218b36c1d19D4a2e9Eb0cE3606eB48",
         "1.043407",
         "31213314.63427174"
        ],
        [
         "11",
         "22419551",
         "1",
         "0x9D39A5DE30e57443BfF2A8307A4256c8797A3497",
         "0xc73aF8064EcbfcCBF687cF36a8ABaFf011eAB1fC",
         "0xA0b86991c6218b36c1d19D4a2e9Eb0cE3606eB48",
         "1.170509",
         "1734267501.0816917"
        ],
        [
         "12",
         "22246737",
         "1",
         "0xf939E0A03FB07F59A73314E73794Be0E57ac1b4E",
         "0xC099899d0278CE83976218Cbe58D01dD382dcA32",
         "0xA0b86991c6218b36c1d19D4a2e9Eb0cE3606eB48",
         "1.001559",
         "389300.1873364026"
        ],
        [
         "13",
         "22625044",
         "1",
         "0xa3931d71877C0E7a3148CB7Eb4463524FEc27fbD",
         "0x3Ee3F7A0B244004B0678EBa98bA091eC101513Ee",
         "0xA0b86991c6218b36c1d19D4a2e9Eb0cE3606eB48",
         "1.053723",
         "4263032.816918065"
        ],
        [
         "14",
         "22454766",
         "1",
         "0x9D39A5DE30e57443BfF2A8307A4256c8797A3497",
         "0xCADe3658eCEA14e4da22ef81BE335E9783E68848",
         "0xA0b86991c6218b36c1d19D4a2e9Eb0cE3606eB48",
         "1.17034",
         "293068.91537313507"
        ],
        [
         "15",
         "22620804",
         "1",
         "0xA0b86991c6218b36c1d19D4a2e9Eb0cE3606eB48",
         "0xa7569A44f348d3D70d8ad5889e50F78E33d80D35",
         "0xA0b86991c6218b36c1d19D4a2e9Eb0cE3606eB48",
         "1.0",
         "19.073139"
        ],
        [
         "16",
         "22313100",
         "1",
         "0xA0b86991c6218b36c1d19D4a2e9Eb0cE3606eB48",
         "0xa7569A44f348d3D70d8ad5889e50F78E33d80D35",
         "0xA0b86991c6218b36c1d19D4a2e9Eb0cE3606eB48",
         "1.0",
         "1808322.397456"
        ],
        [
         "17",
         "22843103",
         "1",
         "0xA0b86991c6218b36c1d19D4a2e9Eb0cE3606eB48",
         "0xbB2d2dd491204a86ec10a1a6972F940B34fE060e",
         "0xA0b86991c6218b36c1d19D4a2e9Eb0cE3606eB48",
         "0.999941",
         "3989139.561644"
        ],
        [
         "18",
         "22422262",
         "1",
         "0xA0b86991c6218b36c1d19D4a2e9Eb0cE3606eB48",
         "0xC5c95fCad37E466E25e6ecA1977bbF75C0E1004a",
         "0xA0b86991c6218b36c1d19D4a2e9Eb0cE3606eB48",
         "0.999977",
         "120364508.5006013"
        ],
        [
         "19",
         "22843477",
         "1",
         "0x40D16FC0246aD3160Ccc09B8D0D3A2cD28aE6C2f",
         "0x366C094C5563CD12AF27b9AfFF2200B0E0D056E0",
         "0xA0b86991c6218b36c1d19D4a2e9Eb0cE3606eB48",
         "0.999517",
         "19143012.574580938"
        ],
        [
         "20",
         "22864942",
         "1",
         "0xdAC17F958D2ee523a2206206994597C13D831ec7",
         "0xd7900d87069C815a299bdA7aFDcd7eEe98fe4b6c",
         "0xA0b86991c6218b36c1d19D4a2e9Eb0cE3606eB48",
         "1.000059",
         "549095.086337"
        ],
        [
         "21",
         "22278934",
         "1",
         "0xa3931d71877C0E7a3148CB7Eb4463524FEc27fbD",
         "0x3Ee3F7A0B244004B0678EBa98bA091eC101513Ee",
         "0xA0b86991c6218b36c1d19D4a2e9Eb0cE3606eB48",
         "1.047849",
         "2342418.959334934"
        ],
        [
         "22",
         "22590579",
         "1",
         "0xA0b86991c6218b36c1d19D4a2e9Eb0cE3606eB48",
         "0xa7569A44f348d3D70d8ad5889e50F78E33d80D35",
         "0xA0b86991c6218b36c1d19D4a2e9Eb0cE3606eB48",
         "1.0",
         "2284.407939"
        ],
        [
         "23",
         "22241245",
         "1",
         "0xA0b86991c6218b36c1d19D4a2e9Eb0cE3606eB48",
         "0xCADe3658eCEA14e4da22ef81BE335E9783E68848",
         "0xA0b86991c6218b36c1d19D4a2e9Eb0cE3606eB48",
         "1.001264",
         "514466.334223"
        ],
        [
         "24",
         "22737640",
         "1",
         "0x0655977FEb2f289A4aB78af67BAB0d17aAb84367",
         "0x53C8C211350b635269e02B2C2f1077b850C657dB",
         "0xA0b86991c6218b36c1d19D4a2e9Eb0cE3606eB48",
         "1.05036",
         "2691721.3994959416"
        ],
        [
         "25",
         "22686331",
         "1",
         "0xdAC17F958D2ee523a2206206994597C13D831ec7",
         "0x7583b1589aDD33320366A48A92794D77763FAE9e",
         "0xA0b86991c6218b36c1d19D4a2e9Eb0cE3606eB48",
         "1.000214",
         "4977942.636313001"
        ],
        [
         "26",
         "22665763",
         "1",
         "0xCAcd6fd266aF91b8AeD52aCCc382b4e165586E29",
         "0xb949C40F18fB52747d96850696c954718168fde3",
         "0xA0b86991c6218b36c1d19D4a2e9Eb0cE3606eB48",
         "1.000216",
         "2299182.728982247"
        ],
        [
         "27",
         "22415036",
         "1",
         "0xdAC17F958D2ee523a2206206994597C13D831ec7",
         "0xD6e262094FFa407068b0BEf6bdBcd16DB982b59E",
         "0xA0b86991c6218b36c1d19D4a2e9Eb0cE3606eB48",
         "1.00008",
         "26871557.966121998"
        ],
        [
         "28",
         "22743837",
         "1",
         "0x9D39A5DE30e57443BfF2A8307A4256c8797A3497",
         "0xC099899d0278CE83976218Cbe58D01dD382dcA32",
         "0xA0b86991c6218b36c1d19D4a2e9Eb0cE3606eB48",
         "1.177203",
         "901200.5970968963"
        ],
        [
         "29",
         "22743541",
         "1",
         "0x0655977FEb2f289A4aB78af67BAB0d17aAb84367",
         "0x8acA8accFb69adeff607431E0F25466B7b76a8Ad",
         "0xA0b86991c6218b36c1d19D4a2e9Eb0cE3606eB48",
         "1.048468",
         "40390666.61657576"
        ],
        [
         "30",
         "22609580",
         "1",
         "0xdAC17F958D2ee523a2206206994597C13D831ec7",
         "0xd7900d87069C815a299bdA7aFDcd7eEe98fe4b6c",
         "0xA0b86991c6218b36c1d19D4a2e9Eb0cE3606eB48",
         "1.000323",
         "1196328.0599540002"
        ],
        [
         "31",
         "22799884",
         "1",
         "0xA0b86991c6218b36c1d19D4a2e9Eb0cE3606eB48",
         "0xa7569A44f348d3D70d8ad5889e50F78E33d80D35",
         "0xA0b86991c6218b36c1d19D4a2e9Eb0cE3606eB48",
         "1.0",
         "5419.220508"
        ],
        [
         "32",
         "22405121",
         "1",
         "0xa3931d71877C0E7a3148CB7Eb4463524FEc27fbD",
         "0xE3200B14481916D35D18cDB3bA51044caa01813C",
         "0xA0b86991c6218b36c1d19D4a2e9Eb0cE3606eB48",
         "1.050071",
         "2961721388.070193"
        ],
        [
         "33",
         "22808527",
         "1",
         "0x40D16FC0246aD3160Ccc09B8D0D3A2cD28aE6C2f",
         "0xa345ceECCF8fe6aE33fe1D655B4806492251c2A8",
         "0xA0b86991c6218b36c1d19D4a2e9Eb0cE3606eB48",
         "0.999171",
         "2748869.1320886672"
        ],
        [
         "34",
         "22743016",
         "1",
         "0x40D16FC0246aD3160Ccc09B8D0D3A2cD28aE6C2f",
         "0xa345ceECCF8fe6aE33fe1D655B4806492251c2A8",
         "0xA0b86991c6218b36c1d19D4a2e9Eb0cE3606eB48",
         "0.999475",
         "2864739.6565246317"
        ],
        [
         "35",
         "22428185",
         "1",
         "0xdAC17F958D2ee523a2206206994597C13D831ec7",
         "0x7583b1589aDD33320366A48A92794D77763FAE9e",
         "0xA0b86991c6218b36c1d19D4a2e9Eb0cE3606eB48",
         "0.999865",
         "15425751.133772"
        ],
        [
         "36",
         "22563634",
         "1",
         "0xdAC17F958D2ee523a2206206994597C13D831ec7",
         "0xbB2d2dd491204a86ec10a1a6972F940B34fE060e",
         "0xA0b86991c6218b36c1d19D4a2e9Eb0cE3606eB48",
         "1.00041",
         "697223.997852"
        ],
        [
         "37",
         "22467638",
         "1",
         "0xdAC17F958D2ee523a2206206994597C13D831ec7",
         "0xbB2d2dd491204a86ec10a1a6972F940B34fE060e",
         "0xA0b86991c6218b36c1d19D4a2e9Eb0cE3606eB48",
         "1.00021",
         "1728306.2900490002"
        ],
        [
         "38",
         "22707869",
         "1",
         "0x853d955aCEf822Db058eb8505911ED77F175b99e",
         "0x9906eB64BA32Fb4fD3e5541ecA95e57610084d02",
         "0xA0b86991c6218b36c1d19D4a2e9Eb0cE3606eB48",
         "0.99916",
         "495566.6385996965"
        ],
        [
         "39",
         "22750985",
         "1",
         "0xA0b86991c6218b36c1d19D4a2e9Eb0cE3606eB48",
         "0x65efCF2cce562DCBf07e805eEbeDeF21Dbd8Ea3D",
         "0xA0b86991c6218b36c1d19D4a2e9Eb0cE3606eB48",
         "1.000023",
         "11461553.824288"
        ],
        [
         "40",
         "22625914",
         "1",
         "0xa3931d71877C0E7a3148CB7Eb4463524FEc27fbD",
         "0x6D9b1cF3698Fd5f2E2F5E6344A20A4c062960bC9",
         "0xA0b86991c6218b36c1d19D4a2e9Eb0cE3606eB48",
         "1.053759",
         "7339215.123726018"
        ],
        [
         "41",
         "22850865",
         "1",
         "0xA0b86991c6218b36c1d19D4a2e9Eb0cE3606eB48",
         "0x7876F91BB22148345b3De16af9448081E9853830",
         "0xA0b86991c6218b36c1d19D4a2e9Eb0cE3606eB48",
         "1.000018",
         "199053896.187736"
        ],
        [
         "42",
         "22385666",
         "1",
         "0x9D39A5DE30e57443BfF2A8307A4256c8797A3497",
         "0xAd7b8dB1efEe849c67060c6b10BC7D6D3C607aa5",
         "0xA0b86991c6218b36c1d19D4a2e9Eb0cE3606eB48",
         "1.168331",
         "17987895.954370122"
        ],
        [
         "43",
         "22213154",
         "1",
         "0xf939E0A03FB07F59A73314E73794Be0E57ac1b4E",
         "0xa345ceECCF8fe6aE33fe1D655B4806492251c2A8",
         "0xA0b86991c6218b36c1d19D4a2e9Eb0cE3606eB48",
         "1.000065",
         "850639.9334308546"
        ],
        [
         "44",
         "22765950",
         "1",
         "0x9D39A5DE30e57443BfF2A8307A4256c8797A3497",
         "0xAd7b8dB1efEe849c67060c6b10BC7D6D3C607aa5",
         "0xA0b86991c6218b36c1d19D4a2e9Eb0cE3606eB48",
         "1.177917",
         "11827133.422425719"
        ],
        [
         "45",
         "22800855",
         "1",
         "0x4c9EDD5852cd905f086C759E8383e09bff1E68B3",
         "0xd7900d87069C815a299bdA7aFDcd7eEe98fe4b6c",
         "0xA0b86991c6218b36c1d19D4a2e9Eb0cE3606eB48",
         "0.999556",
         "582877.9405092197"
        ],
        [
         "46",
         "22294028",
         "1",
         "0xa3931d71877C0E7a3148CB7Eb4463524FEc27fbD",
         "0xb949C40F18fB52747d96850696c954718168fde3",
         "0xA0b86991c6218b36c1d19D4a2e9Eb0cE3606eB48",
         "1.046977",
         "11443911.753454179"
        ],
        [
         "47",
         "22405873",
         "1",
         "0xdAC17F958D2ee523a2206206994597C13D831ec7",
         "0xd7900d87069C815a299bdA7aFDcd7eEe98fe4b6c",
         "0xA0b86991c6218b36c1d19D4a2e9Eb0cE3606eB48",
         "1.000216",
         "4229371.268527"
        ],
        [
         "48",
         "22378523",
         "1",
         "0xdAC17F958D2ee523a2206206994597C13D831ec7",
         "0x7583b1589aDD33320366A48A92794D77763FAE9e",
         "0xA0b86991c6218b36c1d19D4a2e9Eb0cE3606eB48",
         "1.000327",
         "13199412.191677999"
        ],
        [
         "49",
         "22656825",
         "1",
         "0xa3931d71877C0E7a3148CB7Eb4463524FEc27fbD",
         "0xE3200B14481916D35D18cDB3bA51044caa01813C",
         "0xA0b86991c6218b36c1d19D4a2e9Eb0cE3606eB48",
         "1.054552",
         "2445430716.311269"
        ]
       ],
       "shape": {
        "columns": 7,
        "rows": 82866
       }
      },
      "text/html": [
       "<div>\n",
       "<style scoped>\n",
       "    .dataframe tbody tr th:only-of-type {\n",
       "        vertical-align: middle;\n",
       "    }\n",
       "\n",
       "    .dataframe tbody tr th {\n",
       "        vertical-align: top;\n",
       "    }\n",
       "\n",
       "    .dataframe thead th {\n",
       "        text-align: right;\n",
       "    }\n",
       "</style>\n",
       "<table border=\"1\" class=\"dataframe\">\n",
       "  <thead>\n",
       "    <tr style=\"text-align: right;\">\n",
       "      <th></th>\n",
       "      <th>block</th>\n",
       "      <th>chain_id</th>\n",
       "      <th>token_address</th>\n",
       "      <th>destination_vault_address</th>\n",
       "      <th>denominated_in</th>\n",
       "      <th>spot_price</th>\n",
       "      <th>quantity</th>\n",
       "    </tr>\n",
       "  </thead>\n",
       "  <tbody>\n",
       "    <tr>\n",
       "      <th>0</th>\n",
       "      <td>22196950</td>\n",
       "      <td>1</td>\n",
       "      <td>0xdAC17F958D2ee523a2206206994597C13D831ec7</td>\n",
       "      <td>0xd7900d87069C815a299bdA7aFDcd7eEe98fe4b6c</td>\n",
       "      <td>0xA0b86991c6218b36c1d19D4a2e9Eb0cE3606eB48</td>\n",
       "      <td>0.999781</td>\n",
       "      <td>7.995051e+05</td>\n",
       "    </tr>\n",
       "    <tr>\n",
       "      <th>1</th>\n",
       "      <td>22859279</td>\n",
       "      <td>1</td>\n",
       "      <td>0xf939E0A03FB07F59A73314E73794Be0E57ac1b4E</td>\n",
       "      <td>0xa345ceECCF8fe6aE33fe1D655B4806492251c2A8</td>\n",
       "      <td>0xA0b86991c6218b36c1d19D4a2e9Eb0cE3606eB48</td>\n",
       "      <td>0.999883</td>\n",
       "      <td>1.161878e+06</td>\n",
       "    </tr>\n",
       "    <tr>\n",
       "      <th>2</th>\n",
       "      <td>22644092</td>\n",
       "      <td>1</td>\n",
       "      <td>0xA0b86991c6218b36c1d19D4a2e9Eb0cE3606eB48</td>\n",
       "      <td>0x7876F91BB22148345b3De16af9448081E9853830</td>\n",
       "      <td>0xA0b86991c6218b36c1d19D4a2e9Eb0cE3606eB48</td>\n",
       "      <td>1.000176</td>\n",
       "      <td>1.932898e+08</td>\n",
       "    </tr>\n",
       "    <tr>\n",
       "      <th>3</th>\n",
       "      <td>22308953</td>\n",
       "      <td>1</td>\n",
       "      <td>0xf939E0A03FB07F59A73314E73794Be0E57ac1b4E</td>\n",
       "      <td>0xa345ceECCF8fe6aE33fe1D655B4806492251c2A8</td>\n",
       "      <td>0xA0b86991c6218b36c1d19D4a2e9Eb0cE3606eB48</td>\n",
       "      <td>1.000080</td>\n",
       "      <td>7.209925e+05</td>\n",
       "    </tr>\n",
       "    <tr>\n",
       "      <th>4</th>\n",
       "      <td>22321187</td>\n",
       "      <td>1</td>\n",
       "      <td>0x83F20F44975D03b1b09e64809B757c47f942BEeA</td>\n",
       "      <td>0xAd7b8dB1efEe849c67060c6b10BC7D6D3C607aa5</td>\n",
       "      <td>0xA0b86991c6218b36c1d19D4a2e9Eb0cE3606eB48</td>\n",
       "      <td>1.157446</td>\n",
       "      <td>6.964177e+06</td>\n",
       "    </tr>\n",
       "    <tr>\n",
       "      <th>...</th>\n",
       "      <td>...</td>\n",
       "      <td>...</td>\n",
       "      <td>...</td>\n",
       "      <td>...</td>\n",
       "      <td>...</td>\n",
       "      <td>...</td>\n",
       "      <td>...</td>\n",
       "    </tr>\n",
       "    <tr>\n",
       "      <th>82861</th>\n",
       "      <td>43163463</td>\n",
       "      <td>146</td>\n",
       "      <td>0x29219dd400f2Bf60E5a23d13Be72B486D4038894</td>\n",
       "      <td>0x3D35b1E0Fe434848490427CE4DE13b6839365Bd2</td>\n",
       "      <td>0x29219dd400f2Bf60E5a23d13Be72B486D4038894</td>\n",
       "      <td>1.000261</td>\n",
       "      <td>4.040410e+05</td>\n",
       "    </tr>\n",
       "    <tr>\n",
       "      <th>82862</th>\n",
       "      <td>43163463</td>\n",
       "      <td>146</td>\n",
       "      <td>0xd3DCe716f3eF535C5Ff8d041c1A41C3bd89b97aE</td>\n",
       "      <td>0x2Af19422D9f81A4c71306a409A540fC63d7f623B</td>\n",
       "      <td>0x29219dd400f2Bf60E5a23d13Be72B486D4038894</td>\n",
       "      <td>0.998037</td>\n",
       "      <td>1.232306e+05</td>\n",
       "    </tr>\n",
       "    <tr>\n",
       "      <th>82863</th>\n",
       "      <td>43163463</td>\n",
       "      <td>146</td>\n",
       "      <td>0x29219dd400f2Bf60E5a23d13Be72B486D4038894</td>\n",
       "      <td>0x310CCB9eC996A228cd6F4Eb2E70769ccDbeD163D</td>\n",
       "      <td>0x29219dd400f2Bf60E5a23d13Be72B486D4038894</td>\n",
       "      <td>0.999939</td>\n",
       "      <td>6.695179e+05</td>\n",
       "    </tr>\n",
       "    <tr>\n",
       "      <th>82864</th>\n",
       "      <td>43163463</td>\n",
       "      <td>146</td>\n",
       "      <td>0x29219dd400f2Bf60E5a23d13Be72B486D4038894</td>\n",
       "      <td>0xD4E59aa6dfFE9Acd541f8B0a827683a6656f62a1</td>\n",
       "      <td>0x29219dd400f2Bf60E5a23d13Be72B486D4038894</td>\n",
       "      <td>1.000261</td>\n",
       "      <td>2.311364e+05</td>\n",
       "    </tr>\n",
       "    <tr>\n",
       "      <th>82865</th>\n",
       "      <td>43163463</td>\n",
       "      <td>146</td>\n",
       "      <td>0x6047828dc181963ba44974801FF68e538dA5eaF9</td>\n",
       "      <td>0x310CCB9eC996A228cd6F4Eb2E70769ccDbeD163D</td>\n",
       "      <td>0x29219dd400f2Bf60E5a23d13Be72B486D4038894</td>\n",
       "      <td>1.000610</td>\n",
       "      <td>2.642977e+05</td>\n",
       "    </tr>\n",
       "  </tbody>\n",
       "</table>\n",
       "<p>82866 rows × 7 columns</p>\n",
       "</div>"
      ],
      "text/plain": [
       "          block  chain_id                               token_address  \\\n",
       "0      22196950         1  0xdAC17F958D2ee523a2206206994597C13D831ec7   \n",
       "1      22859279         1  0xf939E0A03FB07F59A73314E73794Be0E57ac1b4E   \n",
       "2      22644092         1  0xA0b86991c6218b36c1d19D4a2e9Eb0cE3606eB48   \n",
       "3      22308953         1  0xf939E0A03FB07F59A73314E73794Be0E57ac1b4E   \n",
       "4      22321187         1  0x83F20F44975D03b1b09e64809B757c47f942BEeA   \n",
       "...         ...       ...                                         ...   \n",
       "82861  43163463       146  0x29219dd400f2Bf60E5a23d13Be72B486D4038894   \n",
       "82862  43163463       146  0xd3DCe716f3eF535C5Ff8d041c1A41C3bd89b97aE   \n",
       "82863  43163463       146  0x29219dd400f2Bf60E5a23d13Be72B486D4038894   \n",
       "82864  43163463       146  0x29219dd400f2Bf60E5a23d13Be72B486D4038894   \n",
       "82865  43163463       146  0x6047828dc181963ba44974801FF68e538dA5eaF9   \n",
       "\n",
       "                        destination_vault_address  \\\n",
       "0      0xd7900d87069C815a299bdA7aFDcd7eEe98fe4b6c   \n",
       "1      0xa345ceECCF8fe6aE33fe1D655B4806492251c2A8   \n",
       "2      0x7876F91BB22148345b3De16af9448081E9853830   \n",
       "3      0xa345ceECCF8fe6aE33fe1D655B4806492251c2A8   \n",
       "4      0xAd7b8dB1efEe849c67060c6b10BC7D6D3C607aa5   \n",
       "...                                           ...   \n",
       "82861  0x3D35b1E0Fe434848490427CE4DE13b6839365Bd2   \n",
       "82862  0x2Af19422D9f81A4c71306a409A540fC63d7f623B   \n",
       "82863  0x310CCB9eC996A228cd6F4Eb2E70769ccDbeD163D   \n",
       "82864  0xD4E59aa6dfFE9Acd541f8B0a827683a6656f62a1   \n",
       "82865  0x310CCB9eC996A228cd6F4Eb2E70769ccDbeD163D   \n",
       "\n",
       "                                   denominated_in  spot_price      quantity  \n",
       "0      0xA0b86991c6218b36c1d19D4a2e9Eb0cE3606eB48    0.999781  7.995051e+05  \n",
       "1      0xA0b86991c6218b36c1d19D4a2e9Eb0cE3606eB48    0.999883  1.161878e+06  \n",
       "2      0xA0b86991c6218b36c1d19D4a2e9Eb0cE3606eB48    1.000176  1.932898e+08  \n",
       "3      0xA0b86991c6218b36c1d19D4a2e9Eb0cE3606eB48    1.000080  7.209925e+05  \n",
       "4      0xA0b86991c6218b36c1d19D4a2e9Eb0cE3606eB48    1.157446  6.964177e+06  \n",
       "...                                           ...         ...           ...  \n",
       "82861  0x29219dd400f2Bf60E5a23d13Be72B486D4038894    1.000261  4.040410e+05  \n",
       "82862  0x29219dd400f2Bf60E5a23d13Be72B486D4038894    0.998037  1.232306e+05  \n",
       "82863  0x29219dd400f2Bf60E5a23d13Be72B486D4038894    0.999939  6.695179e+05  \n",
       "82864  0x29219dd400f2Bf60E5a23d13Be72B486D4038894    1.000261  2.311364e+05  \n",
       "82865  0x29219dd400f2Bf60E5a23d13Be72B486D4038894    1.000610  2.642977e+05  \n",
       "\n",
       "[82866 rows x 7 columns]"
      ]
     },
     "execution_count": 15,
     "metadata": {},
     "output_type": "execute_result"
    }
   ],
   "source": [
    "several_destination_token_values_df = get_full_table_as_df(\n",
    "    DestinationTokenValues,\n",
    ")\n",
    "# where_clause=DestinationTokenValues.destination_vault_address.in_(\n",
    "#     autopool_and_destinations_df[\"destination_vault_address\"].unique()\n",
    "# ),\n",
    "\n",
    "\n",
    "several_destination_token_values_df"
   ]
  },
  {
   "cell_type": "code",
   "execution_count": 20,
   "metadata": {},
   "outputs": [
    {
     "data": {
      "application/vnd.microsoft.datawrangler.viewer.v0+json": {
       "columns": [
        {
         "name": "destination_vault_address",
         "rawType": "object",
         "type": "string"
        },
        {
         "name": "block",
         "rawType": "int64",
         "type": "integer"
        }
       ],
       "ref": "196fbaa1-fa50-4201-a811-ba4309567a77",
       "rows": [
        [
         "0xa7569A44f348d3D70d8ad5889e50F78E33d80D35",
         "1241"
        ],
        [
         "0xbB2d2dd491204a86ec10a1a6972F940B34fE060e",
         "1235"
        ],
        [
         "0x3Ee3F7A0B244004B0678EBa98bA091eC101513Ee",
         "1235"
        ],
        [
         "0x8acA8accFb69adeff607431E0F25466B7b76a8Ad",
         "1235"
        ],
        [
         "0xc73aF8064EcbfcCBF687cF36a8ABaFf011eAB1fC",
         "1235"
        ],
        [
         "0xC099899d0278CE83976218Cbe58D01dD382dcA32",
         "1235"
        ],
        [
         "0xCADe3658eCEA14e4da22ef81BE335E9783E68848",
         "1235"
        ],
        [
         "0xb949C40F18fB52747d96850696c954718168fde3",
         "1235"
        ],
        [
         "0x7583b1589aDD33320366A48A92794D77763FAE9e",
         "1235"
        ],
        [
         "0xd7900d87069C815a299bdA7aFDcd7eEe98fe4b6c",
         "1235"
        ]
       ],
       "shape": {
        "columns": 1,
        "rows": 10
       }
      },
      "text/plain": [
       "destination_vault_address\n",
       "0xa7569A44f348d3D70d8ad5889e50F78E33d80D35    1241\n",
       "0xbB2d2dd491204a86ec10a1a6972F940B34fE060e    1235\n",
       "0x3Ee3F7A0B244004B0678EBa98bA091eC101513Ee    1235\n",
       "0x8acA8accFb69adeff607431E0F25466B7b76a8Ad    1235\n",
       "0xc73aF8064EcbfcCBF687cF36a8ABaFf011eAB1fC    1235\n",
       "0xC099899d0278CE83976218Cbe58D01dD382dcA32    1235\n",
       "0xCADe3658eCEA14e4da22ef81BE335E9783E68848    1235\n",
       "0xb949C40F18fB52747d96850696c954718168fde3    1235\n",
       "0x7583b1589aDD33320366A48A92794D77763FAE9e    1235\n",
       "0xd7900d87069C815a299bdA7aFDcd7eEe98fe4b6c    1235\n",
       "Name: block, dtype: int64"
      ]
     },
     "execution_count": 20,
     "metadata": {},
     "output_type": "execute_result"
    }
   ],
   "source": [
    "several_destination_token_values_df.groupby(\"destination_vault_address\")[\"block\"].nunique().sort_values(\n",
    "    ascending=False\n",
    ").head(10)"
   ]
  },
  {
   "cell_type": "code",
   "execution_count": 17,
   "metadata": {},
   "outputs": [
    {
     "data": {
      "application/vnd.microsoft.datawrangler.viewer.v0+json": {
       "columns": [
        {
         "name": "index",
         "rawType": "int64",
         "type": "integer"
        },
        {
         "name": "block",
         "rawType": "int64",
         "type": "integer"
        },
        {
         "name": "chain_id",
         "rawType": "int64",
         "type": "integer"
        },
        {
         "name": "token_address",
         "rawType": "object",
         "type": "string"
        },
        {
         "name": "destination_vault_address",
         "rawType": "object",
         "type": "string"
        },
        {
         "name": "denominated_in",
         "rawType": "object",
         "type": "string"
        },
        {
         "name": "spot_price",
         "rawType": "float64",
         "type": "float"
        },
        {
         "name": "quantity",
         "rawType": "float64",
         "type": "float"
        }
       ],
       "ref": "997d3281-9e10-46bd-a054-a26d838f1719",
       "rows": [],
       "shape": {
        "columns": 7,
        "rows": 0
       }
      },
      "text/html": [
       "<div>\n",
       "<style scoped>\n",
       "    .dataframe tbody tr th:only-of-type {\n",
       "        vertical-align: middle;\n",
       "    }\n",
       "\n",
       "    .dataframe tbody tr th {\n",
       "        vertical-align: top;\n",
       "    }\n",
       "\n",
       "    .dataframe thead th {\n",
       "        text-align: right;\n",
       "    }\n",
       "</style>\n",
       "<table border=\"1\" class=\"dataframe\">\n",
       "  <thead>\n",
       "    <tr style=\"text-align: right;\">\n",
       "      <th></th>\n",
       "      <th>block</th>\n",
       "      <th>chain_id</th>\n",
       "      <th>token_address</th>\n",
       "      <th>destination_vault_address</th>\n",
       "      <th>denominated_in</th>\n",
       "      <th>spot_price</th>\n",
       "      <th>quantity</th>\n",
       "    </tr>\n",
       "  </thead>\n",
       "  <tbody>\n",
       "  </tbody>\n",
       "</table>\n",
       "</div>"
      ],
      "text/plain": [
       "Empty DataFrame\n",
       "Columns: [block, chain_id, token_address, destination_vault_address, denominated_in, spot_price, quantity]\n",
       "Index: []"
      ]
     },
     "execution_count": 17,
     "metadata": {},
     "output_type": "execute_result"
    }
   ],
   "source": [
    "several_destination_token_values_df[\n",
    "    several_destination_token_values_df[\"destination_vault_address\"] == \"0x90300b02b162F902B9629963830BcCCdeEd71113\"\n",
    "]"
   ]
  },
  {
   "cell_type": "code",
   "execution_count": null,
   "metadata": {},
   "outputs": [],
   "source": [
    "pass"
   ]
  },
  {
   "cell_type": "code",
   "execution_count": null,
   "metadata": {},
   "outputs": [],
   "source": [
    "several_destination_states_df.groupby(\"destination_vault_address\")[\"block\"].count()"
   ]
  },
  {
   "cell_type": "code",
   "execution_count": null,
   "metadata": {},
   "outputs": [],
   "source": [
    "break"
   ]
  },
  {
   "cell_type": "code",
   "execution_count": null,
   "metadata": {},
   "outputs": [],
   "source": [
    "from mainnet_launch.database.schema.postgres_operations import _exec_sql_and_cache"
   ]
  },
  {
   "cell_type": "code",
   "execution_count": null,
   "metadata": {},
   "outputs": [],
   "source": [
    "query = \"\"\"SELECT DISTINCT ON (DATE_TRUNC('day', datetime))\n",
    "    DATE_TRUNC('day', datetime) AS day,\n",
    "    block AS max_block,\n",
    "    datetime AS datetime_of_max\n",
    "FROM blocks\n",
    "WHERE chain_id = :chain_id\n",
    "  AND block BETWEEN :start_block AND :end_block\n",
    "ORDER BY DATE_TRUNC('day', datetime), block DESC;\"\"\"\n",
    "\n",
    "query = \"\"\"SELECT DISTINCT ON (DATE_TRUNC('day', datetime))\n",
    "    DATE_TRUNC('day', datetime) AS day,\n",
    "    block AS max_block,\n",
    "    datetime AS datetime_of_max\n",
    "FROM blocks\n",
    "WHERE chain_id = 1\n",
    "  AND block BETWEEN 20722908 AND 100000000\n",
    "ORDER BY DATE_TRUNC('day', datetime), block DESC;\"\"\"\n",
    "\n",
    "from mainnet_launch.database.schema.postgres_operations import _exec_sql_and_cache\n",
    "\n",
    "block_df = _exec_sql_and_cache(query)"
   ]
  },
  {
   "cell_type": "code",
   "execution_count": null,
   "metadata": {},
   "outputs": [],
   "source": [
    "block_df"
   ]
  },
  {
   "cell_type": "code",
   "execution_count": null,
   "metadata": {},
   "outputs": [],
   "source": [
    "destination_state_df = merge_tables_as_df(\n",
    "    selectors=[\n",
    "        TableSelector(\n",
    "            DestinationStates,\n",
    "        ),\n",
    "        TableSelector(\n",
    "            Destinations,\n",
    "            select_fields=[\n",
    "                Destinations.underlying_name,\n",
    "                Destinations.exchange_name,\n",
    "                Destinations.pool,\n",
    "            ],\n",
    "            join_on=(Destinations.destination_vault_address == DestinationStates.destination_vault_address)\n",
    "            & (Destinations.chain_id == DestinationStates.chain_id),\n",
    "        ),\n",
    "        TableSelector(\n",
    "            AutopoolDestinations,\n",
    "            select_fields=[\n",
    "                AutopoolDestinations.autopool_vault_address,\n",
    "            ],\n",
    "            join_on=(AutopoolDestinations.destination_vault_address == DestinationStates.destination_vault_address)\n",
    "            & (AutopoolDestinations.chain_id == DestinationStates.chain_id),\n",
    "        ),\n",
    "        TableSelector(\n",
    "            Blocks,\n",
    "            [Blocks.datetime],\n",
    "            (DestinationStates.block == Blocks.block) & (DestinationStates.chain_id == Blocks.chain_id),\n",
    "        ),\n",
    "    ],\n",
    "    where_clause=(AutopoolDestinations.autopool_vault_address == AUTO_USD.autopool_eth_addr),\n",
    "    order_by=Blocks.datetime,\n",
    ")\n",
    "\n",
    "destination_state_df"
   ]
  },
  {
   "cell_type": "code",
   "execution_count": null,
   "metadata": {},
   "outputs": [],
   "source": [
    "a_dest = \"0x7583b1589aDD33320366A48A92794D77763FAE9e\"\n",
    "\n",
    "one_autoUSD_dest = get_full_table_as_df(\n",
    "    DestinationStates, where_clause=DestinationStates.destination_vault_address == a_dest\n",
    ")\n",
    "one_autoUSD_dest"
   ]
  },
  {
   "cell_type": "code",
   "execution_count": null,
   "metadata": {},
   "outputs": [],
   "source": [
    "auto_DOLA_dest = \"0x2fa4C8a4aCda7746778dbd2f3B2Fc5ca41D9b171\"\n",
    "\n",
    "auto_dola_dest_df = get_full_table_as_df(\n",
    "    DestinationStates, where_clause=DestinationStates.destination_vault_address == auto_DOLA_dest\n",
    ")\n",
    "auto_dola_dest_df"
   ]
  },
  {
   "cell_type": "code",
   "execution_count": null,
   "metadata": {},
   "outputs": [],
   "source": [
    "auto_dola_dest_df[\"block\"].max()"
   ]
  },
  {
   "cell_type": "code",
   "execution_count": null,
   "metadata": {},
   "outputs": [],
   "source": [
    "# auto DOLA is current"
   ]
  },
  {
   "cell_type": "code",
   "execution_count": null,
   "metadata": {},
   "outputs": [],
   "source": []
  },
  {
   "cell_type": "code",
   "execution_count": null,
   "metadata": {},
   "outputs": [],
   "source": [
    "# autoUSD destination a_dest does not have any entires after lbock 22865242 july 7ths"
   ]
  },
  {
   "cell_type": "code",
   "execution_count": null,
   "metadata": {},
   "outputs": [],
   "source": [
    "one_autoUSD_dest[\"block\"].max()"
   ]
  },
  {
   "cell_type": "markdown",
   "metadata": {},
   "source": []
  },
  {
   "cell_type": "code",
   "execution_count": null,
   "metadata": {},
   "outputs": [],
   "source": [
    "destination_state_df[\"datetime\"].max()\n",
    "\n",
    "# destination_state_df = merge_tables_as_"
   ]
  },
  {
   "cell_type": "code",
   "execution_count": null,
   "metadata": {},
   "outputs": [],
   "source": []
  }
 ],
 "metadata": {
  "kernelspec": {
   "display_name": "mainnet-launch-py3.10",
   "language": "python",
   "name": "python3"
  },
  "language_info": {
   "codemirror_mode": {
    "name": "ipython",
    "version": 3
   },
   "file_extension": ".py",
   "mimetype": "text/x-python",
   "name": "python",
   "nbconvert_exporter": "python",
   "pygments_lexer": "ipython3",
   "version": "3.10.14"
  }
 },
 "nbformat": 4,
 "nbformat_minor": 2
}
