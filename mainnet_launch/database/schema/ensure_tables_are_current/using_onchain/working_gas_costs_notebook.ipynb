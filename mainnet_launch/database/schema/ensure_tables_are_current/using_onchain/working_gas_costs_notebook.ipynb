{
 "cells": [
  {
   "cell_type": "code",
   "execution_count": null,
   "metadata": {},
   "outputs": [],
   "source": [
    "from mainnet_launch.pages.gas_costs.gas_costs import _fetch_gas_costs_df, fetch_tokemak_address_constants_dfs\n",
    "from mainnet_launch.database.schema.postgres_operations import TableSelector, merge_tables_as_df\n",
    "from mainnet_launch.data_fetching.get_events import fetch_events\n",
    "from mainnet_launch.constants import ETH_CHAIN, ChainData\n",
    "\n",
    "from mainnet_launch.database.schema.full import Transactions, Blocks, ChainlinkGasCosts\n",
    "import pandas as pd\n",
    "import plotly.express as px\n",
    "import plotly.io as pio\n",
    "\n",
    "pio.templates.default = None"
   ]
  },
  {
   "cell_type": "code",
   "execution_count": null,
   "metadata": {},
   "outputs": [
    {
     "data": {
      "application/vnd.microsoft.datawrangler.viewer.v0+json": {
       "columns": [
        {
         "name": "index",
         "rawType": "int64",
         "type": "integer"
        },
        {
         "name": "datetime",
         "rawType": "datetime64[ns, UTC]",
         "type": "unknown"
        },
        {
         "name": "label",
         "rawType": "object",
         "type": "string"
        },
        {
         "name": "category",
         "rawType": "object",
         "type": "string"
        },
        {
         "name": "effective_gas_price",
         "rawType": "int64",
         "type": "integer"
        },
        {
         "name": "gas_used",
         "rawType": "int64",
         "type": "integer"
        },
        {
         "name": "gas_cost_in_eth",
         "rawType": "float64",
         "type": "float"
        }
       ],
       "ref": "d0b1bf47-f66b-42c4-96b9-5b5e0933b31b",
       "rows": [
        [
         "0",
         "2025-07-03 06:44:59+00:00",
         "Incentive Pricing (keeper_network)",
         "keeper_network",
         "498225940",
         "214745",
         "0.00012838983538236"
        ],
        [
         "1",
         "2025-02-10 04:12:11+00:00",
         "Calculators (keeper_network)",
         "keeper_network",
         "1365718489",
         "534860",
         "0.000876561829231848"
        ],
        [
         "2",
         "2025-05-30 12:00:59+00:00",
         "Calculators (keeper_network)",
         "keeper_network",
         "3357016839",
         "1818928",
         "0.007327406309914309"
        ],
        [
         "3",
         "2024-11-30 12:00:23+00:00",
         "Calculators (keeper_network)",
         "keeper_network",
         "7659989110",
         "1703275",
         "0.015656481541602298"
        ],
        [
         "4",
         "2025-01-14 04:22:47+00:00",
         "Calculators (keeper_network)",
         "keeper_network",
         "2841546074",
         "414842",
         "0.0014145511877163696"
        ],
        [
         "5",
         "2024-11-30 06:59:59+00:00",
         "Calculators (keeper_network)",
         "keeper_network",
         "7894045288",
         "609646",
         "0.0057750877603776575"
        ],
        [
         "6",
         "2024-09-10 04:57:35+00:00",
         "Calculators (keeper_network)",
         "keeper_network",
         "2042175309",
         "760725",
         "0.00186424057432683"
        ],
        [
         "7",
         "2024-11-30 20:08:23+00:00",
         "Eth Per Token Sender (keeper_network)",
         "keeper_network",
         "15750583706",
         "333228",
         "0.006298242608619561"
        ],
        [
         "8",
         "2025-04-20 12:00:23+00:00",
         "Calculators (keeper_network)",
         "keeper_network",
         "612966011",
         "1115465",
         "0.000820490557752138"
        ],
        [
         "9",
         "2024-10-03 23:13:11+00:00",
         "Calculators (keeper_network)",
         "keeper_network",
         "4171724046",
         "772478",
         "0.0038670780571271853"
        ],
        [
         "10",
         "2024-10-14 11:48:11+00:00",
         "Calculators (keeper_network)",
         "keeper_network",
         "30097911755",
         "1186150",
         "0.0428407656338319"
        ],
        [
         "11",
         "2025-05-16 03:57:35+00:00",
         "Eth Per Token Sender (keeper_network)",
         "keeper_network",
         "1230484274",
         "241145",
         "0.00035607015630447603"
        ],
        [
         "12",
         "2024-10-01 08:33:35+00:00",
         "Calculators (keeper_network)",
         "keeper_network",
         "18506667444",
         "747710",
         "0.016605144377463885"
        ],
        [
         "13",
         "2025-05-28 19:03:35+00:00",
         "Calculators (keeper_network)",
         "keeper_network",
         "3029869791",
         "1079674",
         "0.00392552596407376"
        ],
        [
         "14",
         "2025-01-29 04:30:23+00:00",
         "Calculators (keeper_network)",
         "keeper_network",
         "1798190637",
         "408979",
         "0.0008825066502355476"
        ],
        [
         "15",
         "2025-06-18 00:37:47+00:00",
         "Eth Per Token Sender (keeper_network)",
         "keeper_network",
         "909500845",
         "333030",
         "0.00036346927969242"
        ],
        [
         "16",
         "2024-12-26 06:00:23+00:00",
         "Calculators (keeper_network)",
         "keeper_network",
         "4872704880",
         "1024487",
         "0.0059904273652758725"
        ],
        [
         "17",
         "2024-10-07 07:30:23+00:00",
         "Calculators (keeper_network)",
         "keeper_network",
         "8526084028",
         "679572",
         "0.00695290557009122"
        ],
        [
         "18",
         "2025-06-13 06:12:11+00:00",
         "Incentive Pricing (keeper_network)",
         "keeper_network",
         "1661903168",
         "755196",
         "0.0015060751498331135"
        ],
        [
         "19",
         "2024-11-30 12:44:23+00:00",
         "Calculators (keeper_network)",
         "keeper_network",
         "8860517720",
         "621223",
         "0.0066052288794858725"
        ],
        [
         "20",
         "2025-05-02 00:00:47+00:00",
         "Calculators (keeper_network)",
         "keeper_network",
         "573870016",
         "634902",
         "0.0004372214650781184"
        ],
        [
         "21",
         "2025-05-18 19:29:23+00:00",
         "Calculators (keeper_network)",
         "keeper_network",
         "1042762339",
         "605035",
         "0.000757089254132238"
        ],
        [
         "22",
         "2024-12-10 01:01:47+00:00",
         "Calculators (keeper_network)",
         "keeper_network",
         "24170346618",
         "1994380",
         "0.0578458270656082"
        ],
        [
         "23",
         "2025-02-06 04:36:23+00:00",
         "Calculators (keeper_network)",
         "keeper_network",
         "1252957742",
         "1490151",
         "0.0022405154786388506"
        ],
        [
         "24",
         "2025-07-09 04:39:59+00:00",
         "Eth Per Token Sender (keeper_network)",
         "keeper_network",
         "754182426",
         "333030",
         "0.00030139844799693597"
        ],
        [
         "25",
         "2025-03-12 20:00:47+00:00",
         "Incentive Pricing (keeper_network)",
         "keeper_network",
         "1170158790",
         "744061",
         "0.0010448034233354279"
        ],
        [
         "26",
         "2024-12-24 07:01:47+00:00",
         "Calculators (keeper_network)",
         "keeper_network",
         "6597655370",
         "1272247",
         "0.010072616701819668"
        ],
        [
         "27",
         "2025-04-04 04:36:47+00:00",
         "Calculators (keeper_network)",
         "keeper_network",
         "920418467",
         "851426",
         "0.0009404018564207303"
        ],
        [
         "28",
         "2024-12-11 02:23:59+00:00",
         "Eth Per Token Sender (keeper_network)",
         "keeper_network",
         "15006518203",
         "333252",
         "0.006001142645023387"
        ],
        [
         "29",
         "2025-05-21 12:00:59+00:00",
         "Calculators (keeper_network)",
         "keeper_network",
         "1329164427",
         "1674742",
         "0.0026712089889634008"
        ],
        [
         "30",
         "2024-09-03 10:44:11+00:00",
         "Calculators (keeper_network)",
         "keeper_network",
         "2246266048",
         "602092",
         "0.0016229505808468992"
        ],
        [
         "31",
         "2025-06-22 04:24:59+00:00",
         "Calculators (keeper_network)",
         "keeper_network",
         "373228617",
         "534543",
         "0.00023940809354043718"
        ],
        [
         "32",
         "2025-03-13 04:00:59+00:00",
         "Eth Per Token Sender (keeper_network)",
         "keeper_network",
         "1050911710",
         "344557",
         "0.000434518783274964"
        ],
        [
         "33",
         "2025-05-01 16:56:35+00:00",
         "Eth Per Token Sender (keeper_network)",
         "keeper_network",
         "3962470155",
         "333030",
         "0.00158354572286358"
        ],
        [
         "34",
         "2025-04-21 07:03:11+00:00",
         "Calculators (keeper_network)",
         "keeper_network",
         "819096084",
         "1577573",
         "0.0015506206398289584"
        ],
        [
         "35",
         "2025-06-22 18:02:59+00:00",
         "Calculators (keeper_network)",
         "keeper_network",
         "1728350240",
         "746052",
         "0.001547326983902976"
        ],
        [
         "36",
         "2024-11-24 07:19:11+00:00",
         "Calculators (keeper_network)",
         "keeper_network",
         "8571095952",
         "633270",
         "0.006513381520227648"
        ],
        [
         "37",
         "2025-03-05 19:03:47+00:00",
         "Calculators (keeper_network)",
         "keeper_network",
         "1191997260",
         "1395774",
         "0.0019965105402950877"
        ],
        [
         "38",
         "2025-07-07 13:00:59+00:00",
         "Calculators (keeper_network)",
         "keeper_network",
         "3741764350",
         "634170",
         "0.0028474976374074"
        ],
        [
         "39",
         "2024-11-22 07:49:47+00:00",
         "Eth Per Token Sender (keeper_network)",
         "keeper_network",
         "10553894864",
         "333240",
         "0.004220375909375232"
        ],
        [
         "40",
         "2024-12-24 13:00:59+00:00",
         "Calculators (keeper_network)",
         "keeper_network",
         "8747842262",
         "610982",
         "0.006413728993105541"
        ],
        [
         "41",
         "2024-11-30 12:08:35+00:00",
         "Calculators (keeper_network)",
         "keeper_network",
         "10126272499",
         "621223",
         "0.007548808056775532"
        ],
        [
         "42",
         "2025-06-14 07:00:35+00:00",
         "Calculators (keeper_network)",
         "keeper_network",
         "1021281736",
         "654655",
         "0.000802304633857296"
        ],
        [
         "43",
         "2024-10-24 01:18:35+00:00",
         "Incentive Pricing (keeper_network)",
         "keeper_network",
         "6264934731",
         "744201",
         "0.005594844830093917"
        ],
        [
         "44",
         "2024-10-09 15:41:59+00:00",
         "Calculators (keeper_network)",
         "keeper_network",
         "41248436317",
         "666914",
         "0.033010991589498884"
        ],
        [
         "45",
         "2025-06-19 04:28:11+00:00",
         "Calculators (keeper_network)",
         "keeper_network",
         "759319524",
         "436787",
         "0.0003979930763152656"
        ],
        [
         "46",
         "2025-01-17 01:01:11+00:00",
         "Calculators (keeper_network)",
         "keeper_network",
         "4938628676",
         "614065",
         "0.003639166821513528"
        ],
        [
         "47",
         "2025-03-27 04:43:23+00:00",
         "Calculators (keeper_network)",
         "keeper_network",
         "662547293",
         "308405",
         "0.00024519947747719795"
        ],
        [
         "48",
         "2024-12-18 04:04:23+00:00",
         "Calculators (keeper_network)",
         "keeper_network",
         "11418711714",
         "563114",
         "0.007716043713740874"
        ],
        [
         "49",
         "2024-10-25 15:03:35+00:00",
         "Calculators (keeper_network)",
         "keeper_network",
         "12887200622",
         "604780",
         "0.009352705430607792"
        ]
       ],
       "shape": {
        "columns": 6,
        "rows": 51050
       }
      },
      "text/html": [
       "<div>\n",
       "<style scoped>\n",
       "    .dataframe tbody tr th:only-of-type {\n",
       "        vertical-align: middle;\n",
       "    }\n",
       "\n",
       "    .dataframe tbody tr th {\n",
       "        vertical-align: top;\n",
       "    }\n",
       "\n",
       "    .dataframe thead th {\n",
       "        text-align: right;\n",
       "    }\n",
       "</style>\n",
       "<table border=\"1\" class=\"dataframe\">\n",
       "  <thead>\n",
       "    <tr style=\"text-align: right;\">\n",
       "      <th></th>\n",
       "      <th>datetime</th>\n",
       "      <th>label</th>\n",
       "      <th>category</th>\n",
       "      <th>effective_gas_price</th>\n",
       "      <th>gas_used</th>\n",
       "      <th>gas_cost_in_eth</th>\n",
       "    </tr>\n",
       "  </thead>\n",
       "  <tbody>\n",
       "    <tr>\n",
       "      <th>0</th>\n",
       "      <td>2025-07-03 06:44:59+00:00</td>\n",
       "      <td>Incentive Pricing (keeper_network)</td>\n",
       "      <td>keeper_network</td>\n",
       "      <td>498225940</td>\n",
       "      <td>214745</td>\n",
       "      <td>0.000128</td>\n",
       "    </tr>\n",
       "    <tr>\n",
       "      <th>1</th>\n",
       "      <td>2025-02-10 04:12:11+00:00</td>\n",
       "      <td>Calculators (keeper_network)</td>\n",
       "      <td>keeper_network</td>\n",
       "      <td>1365718489</td>\n",
       "      <td>534860</td>\n",
       "      <td>0.000877</td>\n",
       "    </tr>\n",
       "    <tr>\n",
       "      <th>2</th>\n",
       "      <td>2025-05-30 12:00:59+00:00</td>\n",
       "      <td>Calculators (keeper_network)</td>\n",
       "      <td>keeper_network</td>\n",
       "      <td>3357016839</td>\n",
       "      <td>1818928</td>\n",
       "      <td>0.007327</td>\n",
       "    </tr>\n",
       "    <tr>\n",
       "      <th>3</th>\n",
       "      <td>2024-11-30 12:00:23+00:00</td>\n",
       "      <td>Calculators (keeper_network)</td>\n",
       "      <td>keeper_network</td>\n",
       "      <td>7659989110</td>\n",
       "      <td>1703275</td>\n",
       "      <td>0.015656</td>\n",
       "    </tr>\n",
       "    <tr>\n",
       "      <th>4</th>\n",
       "      <td>2025-01-14 04:22:47+00:00</td>\n",
       "      <td>Calculators (keeper_network)</td>\n",
       "      <td>keeper_network</td>\n",
       "      <td>2841546074</td>\n",
       "      <td>414842</td>\n",
       "      <td>0.001415</td>\n",
       "    </tr>\n",
       "    <tr>\n",
       "      <th>...</th>\n",
       "      <td>...</td>\n",
       "      <td>...</td>\n",
       "      <td>...</td>\n",
       "      <td>...</td>\n",
       "      <td>...</td>\n",
       "      <td>...</td>\n",
       "    </tr>\n",
       "    <tr>\n",
       "      <th>51045</th>\n",
       "      <td>2025-07-15 00:07:47+00:00</td>\n",
       "      <td>Liquidator (rewards)</td>\n",
       "      <td>rewards</td>\n",
       "      <td>919485883</td>\n",
       "      <td>2537512</td>\n",
       "      <td>0.002333</td>\n",
       "    </tr>\n",
       "    <tr>\n",
       "      <th>51046</th>\n",
       "      <td>2025-07-15 00:07:23+00:00</td>\n",
       "      <td>Liquidator (rewards)</td>\n",
       "      <td>rewards</td>\n",
       "      <td>3950519048</td>\n",
       "      <td>1873497</td>\n",
       "      <td>0.007401</td>\n",
       "    </tr>\n",
       "    <tr>\n",
       "      <th>51047</th>\n",
       "      <td>2025-07-14 23:53:59+00:00</td>\n",
       "      <td>Custom Oracle Executor (pricing)</td>\n",
       "      <td>pricing</td>\n",
       "      <td>2571813534</td>\n",
       "      <td>40641</td>\n",
       "      <td>0.000105</td>\n",
       "    </tr>\n",
       "    <tr>\n",
       "      <th>51048</th>\n",
       "      <td>2025-07-15 00:07:11+00:00</td>\n",
       "      <td>Liquidator (rewards)</td>\n",
       "      <td>rewards</td>\n",
       "      <td>3945998248</td>\n",
       "      <td>2009384</td>\n",
       "      <td>0.007929</td>\n",
       "    </tr>\n",
       "    <tr>\n",
       "      <th>51049</th>\n",
       "      <td>2025-07-15 00:07:59+00:00</td>\n",
       "      <td>Liquidator (rewards)</td>\n",
       "      <td>rewards</td>\n",
       "      <td>3857912840</td>\n",
       "      <td>2297525</td>\n",
       "      <td>0.008864</td>\n",
       "    </tr>\n",
       "  </tbody>\n",
       "</table>\n",
       "<p>51050 rows × 6 columns</p>\n",
       "</div>"
      ],
      "text/plain": [
       "                       datetime                               label  \\\n",
       "0     2025-07-03 06:44:59+00:00  Incentive Pricing (keeper_network)   \n",
       "1     2025-02-10 04:12:11+00:00        Calculators (keeper_network)   \n",
       "2     2025-05-30 12:00:59+00:00        Calculators (keeper_network)   \n",
       "3     2024-11-30 12:00:23+00:00        Calculators (keeper_network)   \n",
       "4     2025-01-14 04:22:47+00:00        Calculators (keeper_network)   \n",
       "...                         ...                                 ...   \n",
       "51045 2025-07-15 00:07:47+00:00                Liquidator (rewards)   \n",
       "51046 2025-07-15 00:07:23+00:00                Liquidator (rewards)   \n",
       "51047 2025-07-14 23:53:59+00:00    Custom Oracle Executor (pricing)   \n",
       "51048 2025-07-15 00:07:11+00:00                Liquidator (rewards)   \n",
       "51049 2025-07-15 00:07:59+00:00                Liquidator (rewards)   \n",
       "\n",
       "             category  effective_gas_price  gas_used  gas_cost_in_eth  \n",
       "0      keeper_network            498225940    214745         0.000128  \n",
       "1      keeper_network           1365718489    534860         0.000877  \n",
       "2      keeper_network           3357016839   1818928         0.007327  \n",
       "3      keeper_network           7659989110   1703275         0.015656  \n",
       "4      keeper_network           2841546074    414842         0.001415  \n",
       "...               ...                  ...       ...              ...  \n",
       "51045         rewards            919485883   2537512         0.002333  \n",
       "51046         rewards           3950519048   1873497         0.007401  \n",
       "51047         pricing           2571813534     40641         0.000105  \n",
       "51048         rewards           3945998248   2009384         0.007929  \n",
       "51049         rewards           3857912840   2297525         0.008864  \n",
       "\n",
       "[51050 rows x 6 columns]"
      ]
     },
     "execution_count": 3,
     "metadata": {},
     "output_type": "execute_result"
    }
   ],
   "source": [
    "def _fetch_chainlink_keeper_network_transactions(chain: ChainData, chainlink_keepers_df: pd.DataFrame) -> pd.DataFrame:\n",
    "    chainlink_gas_costs_df = merge_tables_as_df(\n",
    "        [\n",
    "            TableSelector(ChainlinkGasCosts, select_fields=[ChainlinkGasCosts.chainlink_topic_id]),\n",
    "            TableSelector(\n",
    "                Transactions,\n",
    "                join_on=ChainlinkGasCosts.tx_hash == Transactions.tx_hash,\n",
    "            ),\n",
    "            TableSelector(Blocks, select_fields=Blocks.datetime, join_on=Transactions.block == Blocks.block),\n",
    "        ],\n",
    "        where_clause=Blocks.chain_id == chain.chain_id,\n",
    "    )\n",
    "    chainlink_gas_costs_df[\"gas_cost_in_eth\"] = (\n",
    "        chainlink_gas_costs_df[\"gas_cost_in_eth\"] * 1.2\n",
    "    )  # chainlink charges a 20% premium\n",
    "\n",
    "    keeper_network_topic_ids_to_name = (\n",
    "        chainlink_keepers_df[chainlink_keepers_df[\"chain_id\"] == chain.chain_id].set_index(\"id\")[\"name\"].to_dict()\n",
    "    )\n",
    "\n",
    "    chainlink_gas_costs_df[\"category\"] = \"keeper_network\"\n",
    "    chainlink_gas_costs_df[\"label\"] = chainlink_gas_costs_df[\"chainlink_topic_id\"].map(keeper_network_topic_ids_to_name)\n",
    "    return chainlink_gas_costs_df[\n",
    "        [\"datetime\", \"label\", \"category\", \"effective_gas_price\", \"gas_used\", \"gas_cost_in_eth\"]\n",
    "    ]\n",
    "\n",
    "\n",
    "def _fetch_eoa_transactions(\n",
    "    chain: ChainData, deployers_df: pd.DataFrame, service_accounts_df: pd.DataFrame\n",
    ") -> pd.DataFrame:\n",
    "    address_to_name = service_accounts_df.set_index(\"address\")[\"name\"].to_dict()\n",
    "    address_to_name[deployers_df[\"deployer\"].values[0]] = \"deployer\"\n",
    "\n",
    "    address_to_category = service_accounts_df.set_index(\"address\")[\"type\"].to_dict()\n",
    "    address_to_category[deployers_df[\"deployer\"].values[0]] = \"deployer\"\n",
    "\n",
    "    eoa_tx_df = merge_tables_as_df(\n",
    "        [\n",
    "            TableSelector(\n",
    "                Transactions,\n",
    "                row_filter=Transactions.from_address.in_(list(address_to_name.keys())),\n",
    "            ),\n",
    "            TableSelector(Blocks, select_fields=Blocks.datetime, join_on=Transactions.block == Blocks.block),\n",
    "        ],\n",
    "        where_clause=Blocks.chain_id == chain.chain_id,\n",
    "    )\n",
    "\n",
    "    eoa_tx_df[\"label\"] = eoa_tx_df[\"from_address\"].map(address_to_name)\n",
    "    eoa_tx_df[\"category\"] = eoa_tx_df[\"from_address\"].map(address_to_category)\n",
    "\n",
    "    return eoa_tx_df[[\"datetime\", \"label\", \"category\", \"effective_gas_price\", \"gas_used\", \"gas_cost_in_eth\"]]\n",
    "\n",
    "\n",
    "def fetch_gas_costs_transactions_df() -> pd.DataFrame:\n",
    "    dfs = []\n",
    "    deployers_df, chainlink_keepers_df, service_accounts_df = fetch_tokemak_address_constants_dfs()\n",
    "    for chain in [ETH_CHAIN]:\n",
    "        chainlink_gas_costs_df = _fetch_chainlink_keeper_network_transactions(chain, chainlink_keepers_df)\n",
    "        eoa_tx_df = _fetch_eoa_transactions(chain, deployers_df, service_accounts_df)\n",
    "\n",
    "        full_tx_df = pd.concat([chainlink_gas_costs_df, eoa_tx_df], ignore_index=True)\n",
    "        dfs.append(full_tx_df)\n",
    "\n",
    "    df = pd.concat([chainlink_gas_costs_df, eoa_tx_df], ignore_index=True)\n",
    "\n",
    "    df[\"label\"] = df[\"label\"] + \" (\" + df[\"category\"] + \")\"\n",
    "    return df\n",
    "\n",
    "\n",
    "df = fetch_gas_costs_transactions_df()\n",
    "df"
   ]
  },
  {
   "cell_type": "code",
   "execution_count": null,
   "metadata": {},
   "outputs": [],
   "source": [
    "# df.groupby(['label', 'category']).agg({'effective_gas_price': ['mean', 'median'], 'gas_used': ['sum']}).reset_index().sort_values(('gas_used', 'sum')\n",
    "# )"
   ]
  },
  {
   "cell_type": "code",
   "execution_count": null,
   "metadata": {},
   "outputs": [],
   "source": [
    "break"
   ]
  },
  {
   "cell_type": "code",
   "execution_count": null,
   "metadata": {},
   "outputs": [],
   "source": [
    "import streamlit as st\n",
    "\n",
    "for col in [\"category\", \"label\"]:\n",
    "    st.subheader(f\"Gas Costs in ETH and Gas Used by Expense {col}\")\n",
    "    for value_col in [\"gas_cost_in_eth\", \"gas_used\"]:\n",
    "        daily_sum_df = (\n",
    "            df.groupby([col, \"datetime\"])[value_col]\n",
    "            .sum()\n",
    "            .reset_index()\n",
    "            .pivot(index=\"datetime\", columns=col, values=value_col)\n",
    "            .fillna(0)\n",
    "            .resample(\"1D\")\n",
    "            .sum()\n",
    "        )\n",
    "\n",
    "        st.subheader(f\"{value_col} by {col}\")\n",
    "        for n_days in [1, 7, 30]:\n",
    "            fig = px.bar(\n",
    "                daily_sum_df.rolling(window=n_days).sum(),\n",
    "                title=f\"{n_days}-day rolling sum Mainnet {value_col}\",\n",
    "            )\n",
    "            fig.update_yaxes(title_text=value_col)\n",
    "            st.plotly_chart(fig, use_container_width=True)"
   ]
  },
  {
   "cell_type": "code",
   "execution_count": null,
   "metadata": {},
   "outputs": [],
   "source": [
    "# Ensure datetime column is proper and extract the date\n",
    "df[\"date\"] = pd.to_datetime(df[\"datetime\"]).dt.date\n",
    "\n",
    "# Create weighted value column\n",
    "df[\"weighted_value\"] = df[\"effective_gas_price\"] * df[\"gas_used\"] / 1e9\n",
    "\n",
    "# Group and compute sum of weights and weighted values\n",
    "grouped = df.groupby([\"date\", \"category\"]).agg(weighted_sum=(\"weighted_value\", \"sum\"), total_weight=(\"gas_used\", \"sum\"))\n",
    "\n",
    "# Compute weighted average\n",
    "grouped[\"weighted_avg_effective_gas_price\"] = grouped[\"weighted_sum\"] / grouped[\"total_weight\"]\n",
    "\n",
    "# Optionally drop intermediate columns\n",
    "grouped = (\n",
    "    grouped.drop(columns=[\"weighted_sum\", \"total_weight\"])\n",
    "    .reset_index()\n",
    "    .pivot(index=\"date\", columns=\"category\", values=\"weighted_avg_effective_gas_price\")\n",
    ")\n",
    "\n",
    "px.scatter(\n",
    "    grouped,\n",
    "    title=\"Weighted Average Effective Gas Price by Date and EOA Address\",\n",
    "    labels={\"value\": \"Weighted Average Effective Gas Price\", \"date\": \"Date\"},\n",
    ").update_yaxes(title_text=\"Effective Gas Price (Gwei)\").show()"
   ]
  },
  {
   "cell_type": "code",
   "execution_count": null,
   "metadata": {},
   "outputs": [],
   "source": [
    "px.scatter(\n",
    "    grouped,\n",
    "    title=\"Weighted Average Effective Gas Price by Date and EOA Address\",\n",
    "    labels={\"value\": \"Weighted Average Effective Gas Price\", \"date\": \"Date\"},\n",
    ").update_yaxes(title_text=\"Effective Gas Price (Gwei)\").show()"
   ]
  },
  {
   "cell_type": "code",
   "execution_count": null,
   "metadata": {},
   "outputs": [],
   "source": [
    "# Ensure datetime column is proper and extract the date\n",
    "df[\"date\"] = pd.to_datetime(df[\"datetime\"]).dt.date\n",
    "\n",
    "gas_used_by_day = df.groupby([\"date\", \"category\"]).agg(total_gas_used=(\"gas_used\", \"sum\")).reset_index()\n",
    "\n",
    "# # Compute weighted average}|\n",
    "\n",
    "# Optionally drop intermediate columns\n",
    "gas_used_by_day = gas_used_by_day.pivot(index=\"date\", columns=\"category\", values=\"total_gas_used\")\n",
    "\n",
    "px.bar(\n",
    "    gas_used_by_day,\n",
    "    title=\"Total gas used by category\",\n",
    ").update_yaxes(title_text=\"Total gas used\").show()"
   ]
  },
  {
   "cell_type": "code",
   "execution_count": null,
   "metadata": {},
   "outputs": [],
   "source": [
    "df[\"date\"].value_counts()"
   ]
  },
  {
   "cell_type": "code",
   "execution_count": null,
   "metadata": {},
   "outputs": [],
   "source": [
    "from datetime import datetime\n",
    "\n",
    "df[df[\"date\"] == datetime.date(2025, 6, 12)]"
   ]
  },
  {
   "cell_type": "code",
   "execution_count": null,
   "metadata": {},
   "outputs": [],
   "source": [
    "px.line(\n",
    "    gas_used_by_day.rolling(window=7).sum(),\n",
    "    title=\"Total gas used by category\",\n",
    ").update_yaxes(title_text=\"Total gas used\").show()"
   ]
  },
  {
   "cell_type": "code",
   "execution_count": null,
   "metadata": {},
   "outputs": [],
   "source": [
    "px.box(grouped.\n",
    "    title=\"Weighted Average Effective Gas Price by Date and EOA Address\",\n",
    "    labels={\"value\": \"Weighted Average Effective Gas Price\", \"date\": \"Date\"},\n",
    ").update_yaxes(title_text=\"Effective Gas Price (Gwei)\").show()\n"
   ]
  },
  {
   "cell_type": "code",
   "execution_count": null,
   "metadata": {},
   "outputs": [],
   "source": [
    "px.scatter(\n",
    "    grouped,\n",
    "    title=\"Weighted Average Effective Gas Price by Date and EOA Address\",\n",
    "    labels={\"value\": \"Weighted Average Effective Gas Price\", \"date\": \"Date\"},\n",
    ").update_yaxes(title_text=\"Effective Gas Price (Gwei)\").show()"
   ]
  },
  {
   "cell_type": "code",
   "execution_count": null,
   "metadata": {},
   "outputs": [],
   "source": []
  }
 ],
 "metadata": {
  "kernelspec": {
   "display_name": "mainnet-launch-py3.10",
   "language": "python",
   "name": "python3"
  },
  "language_info": {
   "codemirror_mode": {
    "name": "ipython",
    "version": 3
   },
   "file_extension": ".py",
   "mimetype": "text/x-python",
   "name": "python",
   "nbconvert_exporter": "python",
   "pygments_lexer": "ipython3",
   "version": "3.10.14"
  }
 },
 "nbformat": 4,
 "nbformat_minor": 2
}
