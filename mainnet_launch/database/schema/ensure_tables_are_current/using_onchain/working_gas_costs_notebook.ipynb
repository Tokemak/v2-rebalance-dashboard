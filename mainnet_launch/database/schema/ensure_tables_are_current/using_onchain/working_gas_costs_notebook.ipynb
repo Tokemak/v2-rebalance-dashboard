{
 "cells": [
  {
   "cell_type": "code",
   "execution_count": 37,
   "metadata": {},
   "outputs": [
    {
     "data": {
      "application/vnd.microsoft.datawrangler.viewer.v0+json": {
       "columns": [
        {
         "name": "index",
         "rawType": "int64",
         "type": "integer"
        },
        {
         "name": "chainId",
         "rawType": "object",
         "type": "string"
        },
        {
         "name": "deployer",
         "rawType": "object",
         "type": "string"
        }
       ],
       "ref": "06260ebf-efbe-4f74-ae61-6619886583b1",
       "rows": [
        [
         "0",
         "146",
         "0x5552e8b0BD553C299Fbf9731c92dD6C3B5AB3950"
        ],
        [
         "1",
         "8453",
         "0xba5e4322fe1c3c23Cb74304fE9537bF54a6B781E"
        ],
        [
         "2",
         "1",
         "0x123cC4AFA59160C6328C0152cf333343F510e5A3"
        ]
       ],
       "shape": {
        "columns": 2,
        "rows": 3
       }
      },
      "text/html": [
       "<div>\n",
       "<style scoped>\n",
       "    .dataframe tbody tr th:only-of-type {\n",
       "        vertical-align: middle;\n",
       "    }\n",
       "\n",
       "    .dataframe tbody tr th {\n",
       "        vertical-align: top;\n",
       "    }\n",
       "\n",
       "    .dataframe thead th {\n",
       "        text-align: right;\n",
       "    }\n",
       "</style>\n",
       "<table border=\"1\" class=\"dataframe\">\n",
       "  <thead>\n",
       "    <tr style=\"text-align: right;\">\n",
       "      <th></th>\n",
       "      <th>chainId</th>\n",
       "      <th>deployer</th>\n",
       "    </tr>\n",
       "  </thead>\n",
       "  <tbody>\n",
       "    <tr>\n",
       "      <th>0</th>\n",
       "      <td>146</td>\n",
       "      <td>0x5552e8b0BD553C299Fbf9731c92dD6C3B5AB3950</td>\n",
       "    </tr>\n",
       "    <tr>\n",
       "      <th>1</th>\n",
       "      <td>8453</td>\n",
       "      <td>0xba5e4322fe1c3c23Cb74304fE9537bF54a6B781E</td>\n",
       "    </tr>\n",
       "    <tr>\n",
       "      <th>2</th>\n",
       "      <td>1</td>\n",
       "      <td>0x123cC4AFA59160C6328C0152cf333343F510e5A3</td>\n",
       "    </tr>\n",
       "  </tbody>\n",
       "</table>\n",
       "</div>"
      ],
      "text/plain": [
       "  chainId                                    deployer\n",
       "0     146  0x5552e8b0BD553C299Fbf9731c92dD6C3B5AB3950\n",
       "1    8453  0xba5e4322fe1c3c23Cb74304fE9537bF54a6B781E\n",
       "2       1  0x123cC4AFA59160C6328C0152cf333343F510e5A3"
      ]
     },
     "execution_count": 37,
     "metadata": {},
     "output_type": "execute_result"
    }
   ],
   "source": [
    "import requests\n",
    "import pandas as pd\n",
    "import os\n",
    "import requests\n",
    "from mainnet_launch.constants import ChainData, ETH_CHAIN\n",
    "\n",
    "API_URL = \"https://v2-config.tokemaklabs.com/api/systems\"\n",
    "\n",
    "\n",
    "def fetch_systems() -> list[dict]:\n",
    "    \"\"\"Fetch the raw systems JSON (raises on HTTP errors).\"\"\"\n",
    "    resp = requests.get(API_URL)\n",
    "    resp.raise_for_status()\n",
    "    return resp.json()\n",
    "\n",
    "\n",
    "def build_deployers_df(systems: list[dict]) -> pd.DataFrame:\n",
    "    \"\"\"One row per deployer (chainId, deployer).\"\"\"\n",
    "    rows = []\n",
    "    for sys in systems:\n",
    "        cid = sys[\"chainId\"]  # KeyError if missing\n",
    "        for deployer in sys[\"deployers\"]:  # KeyError if missing\n",
    "            rows.append({\"chainId\": cid, \"deployer\": deployer})\n",
    "    return pd.DataFrame(rows)\n",
    "\n",
    "\n",
    "def build_keepers_df(systems: list[dict]) -> pd.DataFrame:\n",
    "    \"\"\"One row per Chainlink keeper (chainId + keeper fields).\"\"\"\n",
    "    rows = []\n",
    "    for sys in systems:\n",
    "        cid = sys[\"chainId\"]\n",
    "        for keeper in sys[\"chainlinkKeepers\"]:  # KeyError if missing\n",
    "            keeper_row = {\n",
    "                \"chainId\": cid,\n",
    "                \"name\": keeper[\"name\"],\n",
    "                \"id\": keeper[\"id\"],\n",
    "                \"url\": keeper[\"url\"],\n",
    "                \"deprecated\": keeper[\"deprecated\"],\n",
    "            }\n",
    "            rows.append(keeper_row)\n",
    "    return pd.DataFrame(rows)\n",
    "\n",
    "\n",
    "def build_service_accounts_df(systems: list[dict]) -> pd.DataFrame:\n",
    "    \"\"\"One row per service account (chainId + account fields).\"\"\"\n",
    "    rows = []\n",
    "    for sys in systems:\n",
    "        cid = sys[\"chainId\"]\n",
    "        for acct in sys[\"serviceAccounts\"]:  # KeyError if missing\n",
    "            acct_row = {\n",
    "                \"chainId\": cid,\n",
    "                \"name\": acct[\"name\"],\n",
    "                \"address\": acct[\"address\"],\n",
    "                \"type\": acct[\"type\"],\n",
    "            }\n",
    "            rows.append(acct_row)\n",
    "    return pd.DataFrame(rows)\n",
    "\n",
    "\n",
    "def fetch_systems_df():\n",
    "    systems = fetch_systems()\n",
    "    deployers_df = build_deployers_df(systems)\n",
    "    chainlink_keepers_df = build_keepers_df(systems)\n",
    "    service_accounts_df = build_service_accounts_df(systems)\n",
    "    return deployers_df, chainlink_keepers_df, service_accounts_df\n",
    "\n",
    "\n",
    "deployers_df, chainlink_keepers_df, service_accounts_df = fetch_systems_df()\n",
    "deployers_df\n",
    "\n",
    "# for simplicity this only looks at gas costs on mainnet\n",
    "# sonic, and base are near 0 anyway"
   ]
  },
  {
   "cell_type": "code",
   "execution_count": null,
   "metadata": {},
   "outputs": [
    {
     "name": "stdout",
     "output_type": "stream",
     "text": [
      "from_block=20722908, to_block=22884361, EOA_address='0x76fb6D38F28C44a13380220Df21363bD7Af45ee1'\n"
     ]
    },
    {
     "data": {
      "text/plain": [
       "[{'blockNum': '0x1465ef3',\n",
       "  'uniqueId': '0xcbe7e54790ea32adc821bbb3feac6bf06cea3af2c9d771bdcd5653f2d653c2bf:external',\n",
       "  'hash': '0xcbe7e54790ea32adc821bbb3feac6bf06cea3af2c9d771bdcd5653f2d653c2bf',\n",
       "  'from': '0x76fb6d38f28c44a13380220df21363bd7af45ee1',\n",
       "  'to': '0xb8697f7a140a3e4087fa640f978c68b3ecdac688',\n",
       "  'value': 0.01,\n",
       "  'erc721TokenId': None,\n",
       "  'erc1155Metadata': None,\n",
       "  'tokenId': None,\n",
       "  'asset': 'ETH',\n",
       "  'category': 'external',\n",
       "  'rawContract': {'value': '0x2386f26fc10000',\n",
       "   'address': None,\n",
       "   'decimal': '0x12'}}]"
      ]
     },
     "execution_count": 46,
     "metadata": {},
     "output_type": "execute_result"
    }
   ],
   "source": [
    "from mainnet_launch.constants import *\n",
    "\n",
    "\n",
    "def get_outgoing_transactions(\n",
    "    chain: ChainData, address: str, from_block: int, to_block: int, page_key: str | None\n",
    ") -> tuple[pd.DataFrame, str | None]:\n",
    "    \"\"\"\n",
    "    Fetches all transfers sent *from* `address` between `from_block` and `to_block` on chain\n",
    "    by calling Alchemy's JSON-RPC API via HTTP.\n",
    "\n",
    "    page key, if present, can be used to paginate through results.\n",
    "    If no page key is present, all results have been returned.\n",
    "    \"\"\"\n",
    "    categories = [\"external\", \"internal\", \"erc20\", \"erc721\", \"erc1155\", \"specialnft\"]\n",
    "\n",
    "    params = [\n",
    "        {\n",
    "            \"fromBlock\": hex(from_block),\n",
    "            \"toBlock\": hex(to_block),\n",
    "            \"fromAddress\": chain.client.toChecksumAddress(address),\n",
    "            \"category\": categories,  # not totally certain here\n",
    "        }\n",
    "    ]\n",
    "    if page_key is not None:\n",
    "        params[0][\"pageKey\"] = page_key\n",
    "\n",
    "    payload = {\n",
    "        \"jsonrpc\": \"2.0\",\n",
    "        \"id\": 1,\n",
    "        \"method\": \"alchemy_getAssetTransfers\",\n",
    "        \"params\": params,\n",
    "    }\n",
    "\n",
    "    resp = requests.post(chain.client.provider.endpoint_uri, json=payload)\n",
    "    resp.raise_for_status()\n",
    "    data = resp.json()\n",
    "    result = data[\"result\"]\n",
    "    page_key: str | None = result.get(\"pageKey\")\n",
    "\n",
    "    return result[\"transfers\"], page_key\n",
    "\n",
    "\n",
    "def get_all_transactions_sent_by_eoa_address(\n",
    "    chain: ChainData, EOA_address: str, from_block: int, to_block: int\n",
    ") -> pd.DataFrame:\n",
    "    \"\"\"Use pagination, to get all transactions sent by an EOA address on a given chain.\"\"\"\n",
    "    records = []\n",
    "    print(f\"{from_block=}, {to_block=}, {EOA_address=}\")\n",
    "    page_key = None\n",
    "    while True:\n",
    "        transfers, page_key = get_outgoing_transactions(\n",
    "            chain=chain, address=EOA_address, from_block=from_block, to_block=to_block, page_key=page_key\n",
    "        )\n",
    "        records.append(transfers)\n",
    "\n",
    "        if page_key is None:\n",
    "            # if there is no page key, we have all results\n",
    "            break\n",
    "\n",
    "    return transfers\n",
    "\n",
    "\n",
    "mainnet_deployer = \"0x123cC4AFA59160C6328C0152cf333343F510e5A3\"\n",
    "local_wallet = \"0x76fb6D38F28C44a13380220Df21363bD7Af45ee1\"\n",
    "\n",
    "tx_df = get_all_transactions_sent_by_eoa_address(\n",
    "    ETH_CHAIN,\n",
    "    local_wallet,\n",
    "    from_block=ETH_CHAIN.block_autopool_first_deployed,\n",
    "    to_block=ETH_CHAIN.client.eth.block_number,\n",
    ")\n",
    "\n",
    "tx_df"
   ]
  },
  {
   "cell_type": "code",
   "execution_count": null,
   "metadata": {},
   "outputs": [
    {
     "name": "stdout",
     "output_type": "stream",
     "text": [
      "{'module': 'account', 'action': 'txlist', 'chainid': 1, 'address': '0x76fb6d38f28c44a13380220df21363bd7af45ee1', 'startblock': 20722908, 'endblock': 22884420, 'page': 1, 'offset': 1000, 'sort': 'asc', 'apikey': 'U6GVUZZ4DXG6G6FAGCIP7UAM72THP6XDRN'}\n"
     ]
    }
   ],
   "source": [
    "import os\n",
    "import requests\n",
    "import pandas as pd\n",
    "from mainnet_launch.constants import ChainData\n",
    "\n",
    "# You’ll need to have your Etherscan key in env var ETHERSCAN_API_KEY\n",
    "ETHERSCAN_API_URL = \"https://api.etherscan.io/api\"\n",
    "ETHERSCAN_API_KEY = os.getenv(\"ETHERSCAN_API_KEY\")\n",
    "\n",
    "\n",
    "def get_outgoing_transactions(\n",
    "    chain: ChainData,\n",
    "    address: str,\n",
    "    from_block: int,\n",
    "    to_block: int,\n",
    "    page: int = 1,\n",
    "    offset: int = 1000,\n",
    ") -> tuple[list[dict], bool]:\n",
    "    \"\"\"\n",
    "    Fetches up to `offset` internal txns sent *from* `address` between\n",
    "    `from_block` and `to_block` on chain via Etherscan.\n",
    "    Returns (tx_list, has_more) where `has_more` is True if we got a full page.\n",
    "    \"\"\"\n",
    "    params = {\n",
    "        \"module\": \"account\",\n",
    "        \"action\": \"txlist\",\n",
    "        \"chainid\": chain.chain_id,  # e.g. 1 for mainnet\n",
    "        \"address\": str.lower(address),\n",
    "        \"startblock\": from_block,\n",
    "        \"endblock\": to_block,\n",
    "        \"page\": page,\n",
    "        \"offset\": offset,\n",
    "        \"sort\": \"asc\",\n",
    "        \"apikey\": ETHERSCAN_API_KEY,\n",
    "    }\n",
    "    print(params)\n",
    "\n",
    "    resp = requests.get(ETHERSCAN_API_URL, params=params)\n",
    "    resp.raise_for_status()\n",
    "    payload = resp.json()\n",
    "\n",
    "    # Etherscan returns status \"1\" for success with non-empty, \"0\" for empty or error\n",
    "    if payload.get(\"status\") != \"1\":\n",
    "        return [], False\n",
    "\n",
    "    txs = payload.get(\"result\", [])\n",
    "    # if we received exactly `offset` entries, there *may* be more on next page\n",
    "    has_more = len(txs) == offset\n",
    "    return txs, has_more\n",
    "\n",
    "\n",
    "def get_all_transactions_sent_by_eoa_address(\n",
    "    chain: ChainData,\n",
    "    EOA_address: str,\n",
    "    from_block: int,\n",
    "    to_block: int,\n",
    "    page_size: int = 1000,\n",
    ") -> pd.DataFrame:\n",
    "    \"\"\"Use pagination to get *all* internal txns sent by `EOA_address`.\"\"\"\n",
    "    all_txs: list[dict] = []\n",
    "    page = 1\n",
    "\n",
    "    while True:\n",
    "        txs, has_more = get_outgoing_transactions(\n",
    "            chain=chain,\n",
    "            address=EOA_address,\n",
    "            from_block=from_block,\n",
    "            to_block=to_block,\n",
    "            page=page,\n",
    "            offset=page_size,\n",
    "        )\n",
    "        if not txs:\n",
    "            break\n",
    "\n",
    "        all_txs.extend(txs)\n",
    "        if not has_more:\n",
    "            break\n",
    "\n",
    "        page += 1\n",
    "\n",
    "    # convert list of dicts into DataFrame\n",
    "    return pd.DataFrame(all_txs)\n",
    "\n",
    "\n",
    "# — example usage —\n",
    "mainnet_deployer = \"0x123cC4AFA59160C6328C0152cf333343F510e5A3\"\n",
    "# a = get_outgoing_transactions(ETH_CHAIN, local_wallet, ETH_CHAIN.block_autopool_first_deployed, ETH_CHAIN.client.eth.block_number)\n",
    "\n",
    "tx_df = get_all_transactions_sent_by_eoa_address(\n",
    "    ETH_CHAIN,\n",
    "    local_wallet,\n",
    "    from_block=ETH_CHAIN.block_autopool_first_deployed,\n",
    "    to_block=ETH_CHAIN.client.eth.block_number,\n",
    ")\n",
    "\n",
    "# # print(tx_df)"
   ]
  },
  {
   "cell_type": "code",
   "execution_count": 60,
   "metadata": {},
   "outputs": [
    {
     "data": {
      "application/vnd.microsoft.datawrangler.viewer.v0+json": {
       "columns": [
        {
         "name": "index",
         "rawType": "int64",
         "type": "integer"
        },
        {
         "name": "blockNumber",
         "rawType": "object",
         "type": "string"
        },
        {
         "name": "blockHash",
         "rawType": "object",
         "type": "string"
        },
        {
         "name": "timeStamp",
         "rawType": "object",
         "type": "string"
        },
        {
         "name": "hash",
         "rawType": "object",
         "type": "string"
        },
        {
         "name": "nonce",
         "rawType": "object",
         "type": "string"
        },
        {
         "name": "transactionIndex",
         "rawType": "object",
         "type": "string"
        },
        {
         "name": "from",
         "rawType": "object",
         "type": "string"
        },
        {
         "name": "to",
         "rawType": "object",
         "type": "string"
        },
        {
         "name": "value",
         "rawType": "object",
         "type": "string"
        },
        {
         "name": "gas",
         "rawType": "object",
         "type": "string"
        },
        {
         "name": "gasPrice",
         "rawType": "object",
         "type": "string"
        },
        {
         "name": "input",
         "rawType": "object",
         "type": "string"
        },
        {
         "name": "methodId",
         "rawType": "object",
         "type": "string"
        },
        {
         "name": "functionName",
         "rawType": "object",
         "type": "string"
        },
        {
         "name": "contractAddress",
         "rawType": "object",
         "type": "string"
        },
        {
         "name": "cumulativeGasUsed",
         "rawType": "object",
         "type": "string"
        },
        {
         "name": "txreceipt_status",
         "rawType": "object",
         "type": "string"
        },
        {
         "name": "gasUsed",
         "rawType": "object",
         "type": "string"
        },
        {
         "name": "confirmations",
         "rawType": "object",
         "type": "string"
        },
        {
         "name": "isError",
         "rawType": "object",
         "type": "string"
        }
       ],
       "ref": "7343555f-5c72-493b-a75d-d772a0067d18",
       "rows": [
        [
         "0",
         "21389043",
         "0xf7f2acab8044e11ca8ca061a6c138dcc6c615dbae8e0cede0790e843a8e8ad39",
         "1734038039",
         "0xcbe7e54790ea32adc821bbb3feac6bf06cea3af2c9d771bdcd5653f2d653c2bf",
         "82",
         "186",
         "0x76fb6d38f28c44a13380220df21363bd7af45ee1",
         "0xb8697f7a140a3e4087fa640f978c68b3ecdac688",
         "10000000000000000",
         "21000",
         "18584596666",
         "0x",
         "0x",
         "",
         "",
         "16843561",
         "1",
         "21000",
         "1495378",
         "0"
        ]
       ],
       "shape": {
        "columns": 20,
        "rows": 1
       }
      },
      "text/html": [
       "<div>\n",
       "<style scoped>\n",
       "    .dataframe tbody tr th:only-of-type {\n",
       "        vertical-align: middle;\n",
       "    }\n",
       "\n",
       "    .dataframe tbody tr th {\n",
       "        vertical-align: top;\n",
       "    }\n",
       "\n",
       "    .dataframe thead th {\n",
       "        text-align: right;\n",
       "    }\n",
       "</style>\n",
       "<table border=\"1\" class=\"dataframe\">\n",
       "  <thead>\n",
       "    <tr style=\"text-align: right;\">\n",
       "      <th></th>\n",
       "      <th>blockNumber</th>\n",
       "      <th>blockHash</th>\n",
       "      <th>timeStamp</th>\n",
       "      <th>hash</th>\n",
       "      <th>nonce</th>\n",
       "      <th>transactionIndex</th>\n",
       "      <th>from</th>\n",
       "      <th>to</th>\n",
       "      <th>value</th>\n",
       "      <th>gas</th>\n",
       "      <th>gasPrice</th>\n",
       "      <th>input</th>\n",
       "      <th>methodId</th>\n",
       "      <th>functionName</th>\n",
       "      <th>contractAddress</th>\n",
       "      <th>cumulativeGasUsed</th>\n",
       "      <th>txreceipt_status</th>\n",
       "      <th>gasUsed</th>\n",
       "      <th>confirmations</th>\n",
       "      <th>isError</th>\n",
       "    </tr>\n",
       "  </thead>\n",
       "  <tbody>\n",
       "    <tr>\n",
       "      <th>0</th>\n",
       "      <td>21389043</td>\n",
       "      <td>0xf7f2acab8044e11ca8ca061a6c138dcc6c615dbae8e0...</td>\n",
       "      <td>1734038039</td>\n",
       "      <td>0xcbe7e54790ea32adc821bbb3feac6bf06cea3af2c9d7...</td>\n",
       "      <td>82</td>\n",
       "      <td>186</td>\n",
       "      <td>0x76fb6d38f28c44a13380220df21363bd7af45ee1</td>\n",
       "      <td>0xb8697f7a140a3e4087fa640f978c68b3ecdac688</td>\n",
       "      <td>10000000000000000</td>\n",
       "      <td>21000</td>\n",
       "      <td>18584596666</td>\n",
       "      <td>0x</td>\n",
       "      <td>0x</td>\n",
       "      <td></td>\n",
       "      <td></td>\n",
       "      <td>16843561</td>\n",
       "      <td>1</td>\n",
       "      <td>21000</td>\n",
       "      <td>1495378</td>\n",
       "      <td>0</td>\n",
       "    </tr>\n",
       "  </tbody>\n",
       "</table>\n",
       "</div>"
      ],
      "text/plain": [
       "  blockNumber                                          blockHash   timeStamp  \\\n",
       "0    21389043  0xf7f2acab8044e11ca8ca061a6c138dcc6c615dbae8e0...  1734038039   \n",
       "\n",
       "                                                hash nonce transactionIndex  \\\n",
       "0  0xcbe7e54790ea32adc821bbb3feac6bf06cea3af2c9d7...    82              186   \n",
       "\n",
       "                                         from  \\\n",
       "0  0x76fb6d38f28c44a13380220df21363bd7af45ee1   \n",
       "\n",
       "                                           to              value    gas  \\\n",
       "0  0xb8697f7a140a3e4087fa640f978c68b3ecdac688  10000000000000000  21000   \n",
       "\n",
       "      gasPrice input methodId functionName contractAddress cumulativeGasUsed  \\\n",
       "0  18584596666    0x       0x                                       16843561   \n",
       "\n",
       "  txreceipt_status gasUsed confirmations isError  \n",
       "0                1   21000       1495378       0  "
      ]
     },
     "execution_count": 60,
     "metadata": {},
     "output_type": "execute_result"
    }
   ],
   "source": [
    "tx_df"
   ]
  },
  {
   "cell_type": "code",
   "execution_count": 35,
   "metadata": {},
   "outputs": [
    {
     "ename": "NameError",
     "evalue": "name 'deployers_df' is not defined",
     "output_type": "error",
     "traceback": [
      "\u001b[0;31m---------------------------------------------------------------------------\u001b[0m",
      "\u001b[0;31mNameError\u001b[0m                                 Traceback (most recent call last)",
      "Cell \u001b[0;32mIn[35], line 1\u001b[0m\n\u001b[0;32m----> 1\u001b[0m \u001b[43mdeployers_df\u001b[49m\n",
      "\u001b[0;31mNameError\u001b[0m: name 'deployers_df' is not defined"
     ]
    }
   ],
   "source": [
    "deployers_df"
   ]
  },
  {
   "cell_type": "code",
   "execution_count": null,
   "metadata": {},
   "outputs": [],
   "source": []
  },
  {
   "cell_type": "code",
   "execution_count": 4,
   "metadata": {},
   "outputs": [
    {
     "data": {
      "application/vnd.microsoft.datawrangler.viewer.v0+json": {
       "columns": [
        {
         "name": "index",
         "rawType": "int64",
         "type": "integer"
        },
        {
         "name": "chainId",
         "rawType": "object",
         "type": "string"
        },
        {
         "name": "name",
         "rawType": "object",
         "type": "string"
        },
        {
         "name": "id",
         "rawType": "object",
         "type": "string"
        },
        {
         "name": "url",
         "rawType": "object",
         "type": "string"
        },
        {
         "name": "deprecated",
         "rawType": "bool",
         "type": "boolean"
        }
       ],
       "ref": "3a6f5bb1-5229-4fd0-a6c2-e8f9fc353ccf",
       "rows": [
        [
         "0",
         "8453",
         "Incentive Pricing",
         "8188722995180760360617733804019303233643645174085498665881484107135030495306",
         "https://automation.chain.link/base/8188722995180760360617733804019303233643645174085498665881484107135030495306",
         "False"
        ],
        [
         "1",
         "8453",
         "Calculators",
         "76667246830510430093925497232400272099456284210919750268143005578164793034181",
         "https://automation.chain.link/base/76667246830510430093925497232400272099456284210919750268143005578164793034181",
         "False"
        ],
        [
         "2",
         "1",
         "Incentive Pricing",
         "84910810589923801598536031507827941923735631663622593132512932471876788938876",
         "https://automation.chain.link/mainnet/84910810589923801598536031507827941923735631663622593132512932471876788938876",
         "False"
        ],
        [
         "3",
         "1",
         "Eth Per Token Sender",
         "2774403708484311544165440706031341871504925629391958533428545305548524420937",
         "https://automation.chain.link/mainnet/2774403708484311544165440706031341871504925629391958533428545305548524420937",
         "False"
        ],
        [
         "4",
         "1",
         "Calculators",
         "1344461886831441856282597505993515040672606510446374000438363195934269203116",
         "https://automation.chain.link/mainnet/1344461886831441856282597505993515040672606510446374000438363195934269203116",
         "True"
        ],
        [
         "5",
         "1",
         "Calculators",
         "113129673265054907567420460651277872997162644350081440026681710279139531871240",
         "https://automation.chain.link/mainnet/113129673265054907567420460651277872997162644350081440026681710279139531871240",
         "True"
        ],
        [
         "6",
         "1",
         "Calculators",
         "93443706906332180407535184303815616290343141548650473059299738217546322242910",
         "https://automation.chain.link/mainnet/93443706906332180407535184303815616290343141548650473059299738217546322242910",
         "False"
        ]
       ],
       "shape": {
        "columns": 5,
        "rows": 7
       }
      },
      "text/html": [
       "<div>\n",
       "<style scoped>\n",
       "    .dataframe tbody tr th:only-of-type {\n",
       "        vertical-align: middle;\n",
       "    }\n",
       "\n",
       "    .dataframe tbody tr th {\n",
       "        vertical-align: top;\n",
       "    }\n",
       "\n",
       "    .dataframe thead th {\n",
       "        text-align: right;\n",
       "    }\n",
       "</style>\n",
       "<table border=\"1\" class=\"dataframe\">\n",
       "  <thead>\n",
       "    <tr style=\"text-align: right;\">\n",
       "      <th></th>\n",
       "      <th>chainId</th>\n",
       "      <th>name</th>\n",
       "      <th>id</th>\n",
       "      <th>url</th>\n",
       "      <th>deprecated</th>\n",
       "    </tr>\n",
       "  </thead>\n",
       "  <tbody>\n",
       "    <tr>\n",
       "      <th>0</th>\n",
       "      <td>8453</td>\n",
       "      <td>Incentive Pricing</td>\n",
       "      <td>8188722995180760360617733804019303233643645174...</td>\n",
       "      <td>https://automation.chain.link/base/81887229951...</td>\n",
       "      <td>False</td>\n",
       "    </tr>\n",
       "    <tr>\n",
       "      <th>1</th>\n",
       "      <td>8453</td>\n",
       "      <td>Calculators</td>\n",
       "      <td>7666724683051043009392549723240027209945628421...</td>\n",
       "      <td>https://automation.chain.link/base/76667246830...</td>\n",
       "      <td>False</td>\n",
       "    </tr>\n",
       "    <tr>\n",
       "      <th>2</th>\n",
       "      <td>1</td>\n",
       "      <td>Incentive Pricing</td>\n",
       "      <td>8491081058992380159853603150782794192373563166...</td>\n",
       "      <td>https://automation.chain.link/mainnet/84910810...</td>\n",
       "      <td>False</td>\n",
       "    </tr>\n",
       "    <tr>\n",
       "      <th>3</th>\n",
       "      <td>1</td>\n",
       "      <td>Eth Per Token Sender</td>\n",
       "      <td>2774403708484311544165440706031341871504925629...</td>\n",
       "      <td>https://automation.chain.link/mainnet/27744037...</td>\n",
       "      <td>False</td>\n",
       "    </tr>\n",
       "    <tr>\n",
       "      <th>4</th>\n",
       "      <td>1</td>\n",
       "      <td>Calculators</td>\n",
       "      <td>1344461886831441856282597505993515040672606510...</td>\n",
       "      <td>https://automation.chain.link/mainnet/13444618...</td>\n",
       "      <td>True</td>\n",
       "    </tr>\n",
       "    <tr>\n",
       "      <th>5</th>\n",
       "      <td>1</td>\n",
       "      <td>Calculators</td>\n",
       "      <td>1131296732650549075674204606512778729971626443...</td>\n",
       "      <td>https://automation.chain.link/mainnet/11312967...</td>\n",
       "      <td>True</td>\n",
       "    </tr>\n",
       "    <tr>\n",
       "      <th>6</th>\n",
       "      <td>1</td>\n",
       "      <td>Calculators</td>\n",
       "      <td>9344370690633218040753518430381561629034314154...</td>\n",
       "      <td>https://automation.chain.link/mainnet/93443706...</td>\n",
       "      <td>False</td>\n",
       "    </tr>\n",
       "  </tbody>\n",
       "</table>\n",
       "</div>"
      ],
      "text/plain": [
       "  chainId                  name  \\\n",
       "0    8453     Incentive Pricing   \n",
       "1    8453           Calculators   \n",
       "2       1     Incentive Pricing   \n",
       "3       1  Eth Per Token Sender   \n",
       "4       1           Calculators   \n",
       "5       1           Calculators   \n",
       "6       1           Calculators   \n",
       "\n",
       "                                                  id  \\\n",
       "0  8188722995180760360617733804019303233643645174...   \n",
       "1  7666724683051043009392549723240027209945628421...   \n",
       "2  8491081058992380159853603150782794192373563166...   \n",
       "3  2774403708484311544165440706031341871504925629...   \n",
       "4  1344461886831441856282597505993515040672606510...   \n",
       "5  1131296732650549075674204606512778729971626443...   \n",
       "6  9344370690633218040753518430381561629034314154...   \n",
       "\n",
       "                                                 url  deprecated  \n",
       "0  https://automation.chain.link/base/81887229951...       False  \n",
       "1  https://automation.chain.link/base/76667246830...       False  \n",
       "2  https://automation.chain.link/mainnet/84910810...       False  \n",
       "3  https://automation.chain.link/mainnet/27744037...       False  \n",
       "4  https://automation.chain.link/mainnet/13444618...        True  \n",
       "5  https://automation.chain.link/mainnet/11312967...        True  \n",
       "6  https://automation.chain.link/mainnet/93443706...       False  "
      ]
     },
     "execution_count": 4,
     "metadata": {},
     "output_type": "execute_result"
    }
   ],
   "source": [
    "chainlink_keepers_df"
   ]
  },
  {
   "cell_type": "code",
   "execution_count": 3,
   "metadata": {},
   "outputs": [
    {
     "data": {
      "application/vnd.microsoft.datawrangler.viewer.v0+json": {
       "columns": [
        {
         "name": "index",
         "rawType": "int64",
         "type": "integer"
        },
        {
         "name": "chainId",
         "rawType": "object",
         "type": "string"
        },
        {
         "name": "deployer",
         "rawType": "object",
         "type": "string"
        }
       ],
       "ref": "c6f79bc5-f335-442a-a037-2011d2fcd653",
       "rows": [
        [
         "0",
         "146",
         "0x5552e8b0BD553C299Fbf9731c92dD6C3B5AB3950"
        ],
        [
         "1",
         "8453",
         "0xba5e4322fe1c3c23Cb74304fE9537bF54a6B781E"
        ],
        [
         "2",
         "1",
         "0x123cC4AFA59160C6328C0152cf333343F510e5A3"
        ]
       ],
       "shape": {
        "columns": 2,
        "rows": 3
       }
      },
      "text/html": [
       "<div>\n",
       "<style scoped>\n",
       "    .dataframe tbody tr th:only-of-type {\n",
       "        vertical-align: middle;\n",
       "    }\n",
       "\n",
       "    .dataframe tbody tr th {\n",
       "        vertical-align: top;\n",
       "    }\n",
       "\n",
       "    .dataframe thead th {\n",
       "        text-align: right;\n",
       "    }\n",
       "</style>\n",
       "<table border=\"1\" class=\"dataframe\">\n",
       "  <thead>\n",
       "    <tr style=\"text-align: right;\">\n",
       "      <th></th>\n",
       "      <th>chainId</th>\n",
       "      <th>deployer</th>\n",
       "    </tr>\n",
       "  </thead>\n",
       "  <tbody>\n",
       "    <tr>\n",
       "      <th>0</th>\n",
       "      <td>146</td>\n",
       "      <td>0x5552e8b0BD553C299Fbf9731c92dD6C3B5AB3950</td>\n",
       "    </tr>\n",
       "    <tr>\n",
       "      <th>1</th>\n",
       "      <td>8453</td>\n",
       "      <td>0xba5e4322fe1c3c23Cb74304fE9537bF54a6B781E</td>\n",
       "    </tr>\n",
       "    <tr>\n",
       "      <th>2</th>\n",
       "      <td>1</td>\n",
       "      <td>0x123cC4AFA59160C6328C0152cf333343F510e5A3</td>\n",
       "    </tr>\n",
       "  </tbody>\n",
       "</table>\n",
       "</div>"
      ],
      "text/plain": [
       "  chainId                                    deployer\n",
       "0     146  0x5552e8b0BD553C299Fbf9731c92dD6C3B5AB3950\n",
       "1    8453  0xba5e4322fe1c3c23Cb74304fE9537bF54a6B781E\n",
       "2       1  0x123cC4AFA59160C6328C0152cf333343F510e5A3"
      ]
     },
     "execution_count": 3,
     "metadata": {},
     "output_type": "execute_result"
    }
   ],
   "source": [
    "deployers_df"
   ]
  },
  {
   "cell_type": "code",
   "execution_count": null,
   "metadata": {},
   "outputs": [
    {
     "data": {
      "text/plain": [
       "dict_keys(['transfers', 'pageKey'])"
      ]
     },
     "execution_count": 31,
     "metadata": {},
     "output_type": "execute_result"
    }
   ],
   "source": [
    "\n",
    "\n",
    "\n",
    "address = \"0xb5d85CBf7cB3EE0D56b3bB207D5Fc4B82f43F511\"\n",
    ".keys()\n"
   ]
  },
  {
   "cell_type": "code",
   "execution_count": 32,
   "metadata": {},
   "outputs": [
    {
     "data": {
      "text/plain": [
       "dict_keys(['transfers'])"
      ]
     },
     "execution_count": 32,
     "metadata": {},
     "output_type": "execute_result"
    }
   ],
   "source": [
    "address = \"0x76fb6d38f28c44a13380220df21363bd7af45ee1\"\n",
    "get_outgoing_transactions(address, ETH_CHAIN)[\"result\"].keys()"
   ]
  },
  {
   "cell_type": "code",
   "execution_count": null,
   "metadata": {},
   "outputs": [
    {
     "data": {
      "text/plain": [
       "dict_keys(['transfers', 'pageKey'])"
      ]
     },
     "execution_count": 30,
     "metadata": {},
     "output_type": "execute_result"
    }
   ],
   "source": [
    "tx_list"
   ]
  },
  {
   "cell_type": "code",
   "execution_count": null,
   "metadata": {},
   "outputs": [],
   "source": [
    "break"
   ]
  },
  {
   "cell_type": "code",
   "execution_count": 25,
   "metadata": {},
   "outputs": [
    {
     "data": {
      "text/plain": [
       "dict_keys(['jsonrpc', 'id', 'result'])"
      ]
     },
     "execution_count": 25,
     "metadata": {},
     "output_type": "execute_result"
    }
   ],
   "source": [
    "tx_list.keys()"
   ]
  },
  {
   "cell_type": "code",
   "execution_count": 20,
   "metadata": {},
   "outputs": [
    {
     "data": {
      "text/plain": [
       "1000"
      ]
     },
     "execution_count": 20,
     "metadata": {},
     "output_type": "execute_result"
    }
   ],
   "source": [
    "len(tx_list[\"result\"][\"transfers\"])"
   ]
  },
  {
   "cell_type": "code",
   "execution_count": 11,
   "metadata": {},
   "outputs": [
    {
     "data": {
      "text/plain": [
       "'https://eth-mainnet.g.alchemy.com/v2/7dyyKalTzbS0cySjdpnkr'"
      ]
     },
     "execution_count": 11,
     "metadata": {},
     "output_type": "execute_result"
    }
   ],
   "source": [
    "url"
   ]
  },
  {
   "cell_type": "code",
   "execution_count": 5,
   "metadata": {},
   "outputs": [
    {
     "data": {
      "application/vnd.microsoft.datawrangler.viewer.v0+json": {
       "columns": [
        {
         "name": "index",
         "rawType": "int64",
         "type": "integer"
        },
        {
         "name": "chainId",
         "rawType": "object",
         "type": "string"
        },
        {
         "name": "name",
         "rawType": "object",
         "type": "string"
        },
        {
         "name": "address",
         "rawType": "object",
         "type": "string"
        },
        {
         "name": "type",
         "rawType": "object",
         "type": "string"
        }
       ],
       "ref": "e1f0c415-34d6-45c1-9393-b5b84dd1c196",
       "rows": [
        [
         "0",
         "146",
         "Custom Oracle Executor",
         "0x8d096E2b5Fe29B914dB11F3ecE13b6E7F72fA2a2",
         "pricing"
        ],
        [
         "1",
         "146",
         "Solver Exec (autoS)",
         "0x84C75b7C35c121849DA06DF6946A6C9179B5edE2",
         "solver"
        ],
        [
         "2",
         "146",
         "Solver Exec (sonicUSD)",
         "0xE71beF438317dC39c2c946809831A87EcE048857",
         "solver"
        ],
        [
         "3",
         "146",
         "Liquidator",
         "0x28Fa1720cB4e311695CFaA726C2A34b028af0b97",
         "rewards"
        ],
        [
         "4",
         "146",
         "Swap Route Watcher",
         "0x0a3A597058fc2A344cCA32653ca082C775d8925d",
         "swaps"
        ],
        [
         "5",
         "146",
         "Debt Reporting",
         "0x6dE76a011706315bAf1eAad329B961B1B30D33C9",
         "debtReporting"
        ],
        [
         "6",
         "8453",
         "Custom Oracle Executor",
         "0x8CD98E74A5ef4020bcd6D0397EFe42C34Afa5f23",
         "pricing"
        ],
        [
         "7",
         "8453",
         "Debt Reporting",
         "0xb2A71EF7649B95d7d5A3b8084e619C381Fa79413",
         "debtReporting"
        ],
        [
         "8",
         "8453",
         "Swap Route Watcher",
         "0xf772Fcd65aCAE9814e6E4b228e554c1054aE2765",
         "swaps"
        ],
        [
         "9",
         "8453",
         "Incentive Harvester",
         "0xcA7d8b1F4398D11b302853d7fFd5D2b65073dE11",
         "stats"
        ],
        [
         "10",
         "8453",
         "Liquidator",
         "0xdEA337283410bAcC9418e13CbbB3b8F03dD2FBf7",
         "rewards"
        ],
        [
         "11",
         "8453",
         "Solver Exec (baseETH)",
         "0x91517Ba3793394008c461498de4899EEc2DB1658",
         "solver"
        ],
        [
         "12",
         "8453",
         "Solver Exec (baseUSD)",
         "0xBFd49774CbdDAA201a7517938Cd4cEeBED2fe253",
         "solver"
        ],
        [
         "13",
         "8453",
         "ZK Bridge",
         "0x19E613AC726449154d47d5Aa156f6c91C5F1C3CF",
         "stats"
        ],
        [
         "14",
         "1",
         "Custom Oracle Executor",
         "0x1b9841A65c6777fdE03Be97C9A9E70C3d5C01E9c",
         "pricing"
        ],
        [
         "15",
         "1",
         "Debt Reporting",
         "0x241b8f1fA50F1Ce8fb78e7824757280feEb2aea3",
         "debtReporting"
        ],
        [
         "16",
         "1",
         "Swap Route Watcher",
         "0xB17b69B4Cbb288aD2Caee9De2d8C3AD3C80017e6",
         "swaps"
        ],
        [
         "17",
         "1",
         "Liquidator",
         "0x0b1EAA1CF011C80f075958Cf5B6bD49Abc3D7a72",
         "rewards"
        ],
        [
         "18",
         "1",
         "Points Boost",
         "0xa1c56731e180D7F43d06B9f65CecfE7A2F724dBE",
         "stats"
        ],
        [
         "19",
         "1",
         "Solver Exec (autoETH)",
         "0xE08cC4Bc6BD77774fE107f7Ffb48adD75Ae53245",
         "solver"
        ],
        [
         "20",
         "1",
         "Solver Exec (autoLRT)",
         "0x54baDF9b444bd38a2E3909287D7E4E954778AeF2",
         "solver"
        ],
        [
         "21",
         "1",
         "Solver Exec (balETH)",
         "0x3D1f51c23d1586c062B4bECa120bfCAf064e0cdC",
         "solver"
        ],
        [
         "22",
         "1",
         "Solver Exec (dineroETH)",
         "0x6ec140890269992964d98DAe4De023181F4eEAF7",
         "solver"
        ],
        [
         "23",
         "1",
         "Solver Exec (autoUSD)",
         "0x187dD9E0BE80972Ab2D14b5A5F69C1f5540Ace57",
         "solver"
        ],
        [
         "24",
         "1",
         "Solver Exec (autoDOLA)",
         "0x0460aE025d45C570D40c369e06e943cEB931Ac10",
         "solver"
        ],
        [
         "25",
         "1",
         "Incentive Harvester",
         "0xa83b79408d8dfc06dffbbea74a39ebd2769fb6e2",
         "stats"
        ],
        [
         "26",
         "1",
         "Keeper Executor",
         "0x6b9d01f42a4e93aebd412c24d6f3b949eef500be",
         "stats"
        ],
        [
         "27",
         "1",
         "Auto Rewards (Signer/RewardHash)",
         "0x923720b4aa90cdec2c241682f89e6bf02febd509",
         "stoke"
        ],
        [
         "28",
         "1",
         "Auto Rewards Liquidator",
         "0x44a427518a1AFD356dab0f4c521331F2c8771FA7",
         "stoke"
        ],
        [
         "29",
         "1",
         "Fluid Reward Claiming",
         "0x3096a687bafb44d81d294450da4b1cf9a38e401a",
         "rewards"
        ],
        [
         "30",
         "1",
         "Morpho Reward Claiming",
         "0x77601882d70b3a391d2be4204c386d91037ac806",
         "rewards"
        ]
       ],
       "shape": {
        "columns": 4,
        "rows": 31
       }
      },
      "text/html": [
       "<div>\n",
       "<style scoped>\n",
       "    .dataframe tbody tr th:only-of-type {\n",
       "        vertical-align: middle;\n",
       "    }\n",
       "\n",
       "    .dataframe tbody tr th {\n",
       "        vertical-align: top;\n",
       "    }\n",
       "\n",
       "    .dataframe thead th {\n",
       "        text-align: right;\n",
       "    }\n",
       "</style>\n",
       "<table border=\"1\" class=\"dataframe\">\n",
       "  <thead>\n",
       "    <tr style=\"text-align: right;\">\n",
       "      <th></th>\n",
       "      <th>chainId</th>\n",
       "      <th>name</th>\n",
       "      <th>address</th>\n",
       "      <th>type</th>\n",
       "    </tr>\n",
       "  </thead>\n",
       "  <tbody>\n",
       "    <tr>\n",
       "      <th>0</th>\n",
       "      <td>146</td>\n",
       "      <td>Custom Oracle Executor</td>\n",
       "      <td>0x8d096E2b5Fe29B914dB11F3ecE13b6E7F72fA2a2</td>\n",
       "      <td>pricing</td>\n",
       "    </tr>\n",
       "    <tr>\n",
       "      <th>1</th>\n",
       "      <td>146</td>\n",
       "      <td>Solver Exec (autoS)</td>\n",
       "      <td>0x84C75b7C35c121849DA06DF6946A6C9179B5edE2</td>\n",
       "      <td>solver</td>\n",
       "    </tr>\n",
       "    <tr>\n",
       "      <th>2</th>\n",
       "      <td>146</td>\n",
       "      <td>Solver Exec (sonicUSD)</td>\n",
       "      <td>0xE71beF438317dC39c2c946809831A87EcE048857</td>\n",
       "      <td>solver</td>\n",
       "    </tr>\n",
       "    <tr>\n",
       "      <th>3</th>\n",
       "      <td>146</td>\n",
       "      <td>Liquidator</td>\n",
       "      <td>0x28Fa1720cB4e311695CFaA726C2A34b028af0b97</td>\n",
       "      <td>rewards</td>\n",
       "    </tr>\n",
       "    <tr>\n",
       "      <th>4</th>\n",
       "      <td>146</td>\n",
       "      <td>Swap Route Watcher</td>\n",
       "      <td>0x0a3A597058fc2A344cCA32653ca082C775d8925d</td>\n",
       "      <td>swaps</td>\n",
       "    </tr>\n",
       "    <tr>\n",
       "      <th>5</th>\n",
       "      <td>146</td>\n",
       "      <td>Debt Reporting</td>\n",
       "      <td>0x6dE76a011706315bAf1eAad329B961B1B30D33C9</td>\n",
       "      <td>debtReporting</td>\n",
       "    </tr>\n",
       "    <tr>\n",
       "      <th>6</th>\n",
       "      <td>8453</td>\n",
       "      <td>Custom Oracle Executor</td>\n",
       "      <td>0x8CD98E74A5ef4020bcd6D0397EFe42C34Afa5f23</td>\n",
       "      <td>pricing</td>\n",
       "    </tr>\n",
       "    <tr>\n",
       "      <th>7</th>\n",
       "      <td>8453</td>\n",
       "      <td>Debt Reporting</td>\n",
       "      <td>0xb2A71EF7649B95d7d5A3b8084e619C381Fa79413</td>\n",
       "      <td>debtReporting</td>\n",
       "    </tr>\n",
       "    <tr>\n",
       "      <th>8</th>\n",
       "      <td>8453</td>\n",
       "      <td>Swap Route Watcher</td>\n",
       "      <td>0xf772Fcd65aCAE9814e6E4b228e554c1054aE2765</td>\n",
       "      <td>swaps</td>\n",
       "    </tr>\n",
       "    <tr>\n",
       "      <th>9</th>\n",
       "      <td>8453</td>\n",
       "      <td>Incentive Harvester</td>\n",
       "      <td>0xcA7d8b1F4398D11b302853d7fFd5D2b65073dE11</td>\n",
       "      <td>stats</td>\n",
       "    </tr>\n",
       "    <tr>\n",
       "      <th>10</th>\n",
       "      <td>8453</td>\n",
       "      <td>Liquidator</td>\n",
       "      <td>0xdEA337283410bAcC9418e13CbbB3b8F03dD2FBf7</td>\n",
       "      <td>rewards</td>\n",
       "    </tr>\n",
       "    <tr>\n",
       "      <th>11</th>\n",
       "      <td>8453</td>\n",
       "      <td>Solver Exec (baseETH)</td>\n",
       "      <td>0x91517Ba3793394008c461498de4899EEc2DB1658</td>\n",
       "      <td>solver</td>\n",
       "    </tr>\n",
       "    <tr>\n",
       "      <th>12</th>\n",
       "      <td>8453</td>\n",
       "      <td>Solver Exec (baseUSD)</td>\n",
       "      <td>0xBFd49774CbdDAA201a7517938Cd4cEeBED2fe253</td>\n",
       "      <td>solver</td>\n",
       "    </tr>\n",
       "    <tr>\n",
       "      <th>13</th>\n",
       "      <td>8453</td>\n",
       "      <td>ZK Bridge</td>\n",
       "      <td>0x19E613AC726449154d47d5Aa156f6c91C5F1C3CF</td>\n",
       "      <td>stats</td>\n",
       "    </tr>\n",
       "    <tr>\n",
       "      <th>14</th>\n",
       "      <td>1</td>\n",
       "      <td>Custom Oracle Executor</td>\n",
       "      <td>0x1b9841A65c6777fdE03Be97C9A9E70C3d5C01E9c</td>\n",
       "      <td>pricing</td>\n",
       "    </tr>\n",
       "    <tr>\n",
       "      <th>15</th>\n",
       "      <td>1</td>\n",
       "      <td>Debt Reporting</td>\n",
       "      <td>0x241b8f1fA50F1Ce8fb78e7824757280feEb2aea3</td>\n",
       "      <td>debtReporting</td>\n",
       "    </tr>\n",
       "    <tr>\n",
       "      <th>16</th>\n",
       "      <td>1</td>\n",
       "      <td>Swap Route Watcher</td>\n",
       "      <td>0xB17b69B4Cbb288aD2Caee9De2d8C3AD3C80017e6</td>\n",
       "      <td>swaps</td>\n",
       "    </tr>\n",
       "    <tr>\n",
       "      <th>17</th>\n",
       "      <td>1</td>\n",
       "      <td>Liquidator</td>\n",
       "      <td>0x0b1EAA1CF011C80f075958Cf5B6bD49Abc3D7a72</td>\n",
       "      <td>rewards</td>\n",
       "    </tr>\n",
       "    <tr>\n",
       "      <th>18</th>\n",
       "      <td>1</td>\n",
       "      <td>Points Boost</td>\n",
       "      <td>0xa1c56731e180D7F43d06B9f65CecfE7A2F724dBE</td>\n",
       "      <td>stats</td>\n",
       "    </tr>\n",
       "    <tr>\n",
       "      <th>19</th>\n",
       "      <td>1</td>\n",
       "      <td>Solver Exec (autoETH)</td>\n",
       "      <td>0xE08cC4Bc6BD77774fE107f7Ffb48adD75Ae53245</td>\n",
       "      <td>solver</td>\n",
       "    </tr>\n",
       "    <tr>\n",
       "      <th>20</th>\n",
       "      <td>1</td>\n",
       "      <td>Solver Exec (autoLRT)</td>\n",
       "      <td>0x54baDF9b444bd38a2E3909287D7E4E954778AeF2</td>\n",
       "      <td>solver</td>\n",
       "    </tr>\n",
       "    <tr>\n",
       "      <th>21</th>\n",
       "      <td>1</td>\n",
       "      <td>Solver Exec (balETH)</td>\n",
       "      <td>0x3D1f51c23d1586c062B4bECa120bfCAf064e0cdC</td>\n",
       "      <td>solver</td>\n",
       "    </tr>\n",
       "    <tr>\n",
       "      <th>22</th>\n",
       "      <td>1</td>\n",
       "      <td>Solver Exec (dineroETH)</td>\n",
       "      <td>0x6ec140890269992964d98DAe4De023181F4eEAF7</td>\n",
       "      <td>solver</td>\n",
       "    </tr>\n",
       "    <tr>\n",
       "      <th>23</th>\n",
       "      <td>1</td>\n",
       "      <td>Solver Exec (autoUSD)</td>\n",
       "      <td>0x187dD9E0BE80972Ab2D14b5A5F69C1f5540Ace57</td>\n",
       "      <td>solver</td>\n",
       "    </tr>\n",
       "    <tr>\n",
       "      <th>24</th>\n",
       "      <td>1</td>\n",
       "      <td>Solver Exec (autoDOLA)</td>\n",
       "      <td>0x0460aE025d45C570D40c369e06e943cEB931Ac10</td>\n",
       "      <td>solver</td>\n",
       "    </tr>\n",
       "    <tr>\n",
       "      <th>25</th>\n",
       "      <td>1</td>\n",
       "      <td>Incentive Harvester</td>\n",
       "      <td>0xa83b79408d8dfc06dffbbea74a39ebd2769fb6e2</td>\n",
       "      <td>stats</td>\n",
       "    </tr>\n",
       "    <tr>\n",
       "      <th>26</th>\n",
       "      <td>1</td>\n",
       "      <td>Keeper Executor</td>\n",
       "      <td>0x6b9d01f42a4e93aebd412c24d6f3b949eef500be</td>\n",
       "      <td>stats</td>\n",
       "    </tr>\n",
       "    <tr>\n",
       "      <th>27</th>\n",
       "      <td>1</td>\n",
       "      <td>Auto Rewards (Signer/RewardHash)</td>\n",
       "      <td>0x923720b4aa90cdec2c241682f89e6bf02febd509</td>\n",
       "      <td>stoke</td>\n",
       "    </tr>\n",
       "    <tr>\n",
       "      <th>28</th>\n",
       "      <td>1</td>\n",
       "      <td>Auto Rewards Liquidator</td>\n",
       "      <td>0x44a427518a1AFD356dab0f4c521331F2c8771FA7</td>\n",
       "      <td>stoke</td>\n",
       "    </tr>\n",
       "    <tr>\n",
       "      <th>29</th>\n",
       "      <td>1</td>\n",
       "      <td>Fluid Reward Claiming</td>\n",
       "      <td>0x3096a687bafb44d81d294450da4b1cf9a38e401a</td>\n",
       "      <td>rewards</td>\n",
       "    </tr>\n",
       "    <tr>\n",
       "      <th>30</th>\n",
       "      <td>1</td>\n",
       "      <td>Morpho Reward Claiming</td>\n",
       "      <td>0x77601882d70b3a391d2be4204c386d91037ac806</td>\n",
       "      <td>rewards</td>\n",
       "    </tr>\n",
       "  </tbody>\n",
       "</table>\n",
       "</div>"
      ],
      "text/plain": [
       "   chainId                              name  \\\n",
       "0      146            Custom Oracle Executor   \n",
       "1      146               Solver Exec (autoS)   \n",
       "2      146            Solver Exec (sonicUSD)   \n",
       "3      146                        Liquidator   \n",
       "4      146                Swap Route Watcher   \n",
       "5      146                    Debt Reporting   \n",
       "6     8453            Custom Oracle Executor   \n",
       "7     8453                    Debt Reporting   \n",
       "8     8453                Swap Route Watcher   \n",
       "9     8453               Incentive Harvester   \n",
       "10    8453                        Liquidator   \n",
       "11    8453             Solver Exec (baseETH)   \n",
       "12    8453             Solver Exec (baseUSD)   \n",
       "13    8453                         ZK Bridge   \n",
       "14       1            Custom Oracle Executor   \n",
       "15       1                    Debt Reporting   \n",
       "16       1                Swap Route Watcher   \n",
       "17       1                        Liquidator   \n",
       "18       1                      Points Boost   \n",
       "19       1             Solver Exec (autoETH)   \n",
       "20       1             Solver Exec (autoLRT)   \n",
       "21       1              Solver Exec (balETH)   \n",
       "22       1           Solver Exec (dineroETH)   \n",
       "23       1             Solver Exec (autoUSD)   \n",
       "24       1            Solver Exec (autoDOLA)   \n",
       "25       1               Incentive Harvester   \n",
       "26       1                   Keeper Executor   \n",
       "27       1  Auto Rewards (Signer/RewardHash)   \n",
       "28       1           Auto Rewards Liquidator   \n",
       "29       1             Fluid Reward Claiming   \n",
       "30       1            Morpho Reward Claiming   \n",
       "\n",
       "                                       address           type  \n",
       "0   0x8d096E2b5Fe29B914dB11F3ecE13b6E7F72fA2a2        pricing  \n",
       "1   0x84C75b7C35c121849DA06DF6946A6C9179B5edE2         solver  \n",
       "2   0xE71beF438317dC39c2c946809831A87EcE048857         solver  \n",
       "3   0x28Fa1720cB4e311695CFaA726C2A34b028af0b97        rewards  \n",
       "4   0x0a3A597058fc2A344cCA32653ca082C775d8925d          swaps  \n",
       "5   0x6dE76a011706315bAf1eAad329B961B1B30D33C9  debtReporting  \n",
       "6   0x8CD98E74A5ef4020bcd6D0397EFe42C34Afa5f23        pricing  \n",
       "7   0xb2A71EF7649B95d7d5A3b8084e619C381Fa79413  debtReporting  \n",
       "8   0xf772Fcd65aCAE9814e6E4b228e554c1054aE2765          swaps  \n",
       "9   0xcA7d8b1F4398D11b302853d7fFd5D2b65073dE11          stats  \n",
       "10  0xdEA337283410bAcC9418e13CbbB3b8F03dD2FBf7        rewards  \n",
       "11  0x91517Ba3793394008c461498de4899EEc2DB1658         solver  \n",
       "12  0xBFd49774CbdDAA201a7517938Cd4cEeBED2fe253         solver  \n",
       "13  0x19E613AC726449154d47d5Aa156f6c91C5F1C3CF          stats  \n",
       "14  0x1b9841A65c6777fdE03Be97C9A9E70C3d5C01E9c        pricing  \n",
       "15  0x241b8f1fA50F1Ce8fb78e7824757280feEb2aea3  debtReporting  \n",
       "16  0xB17b69B4Cbb288aD2Caee9De2d8C3AD3C80017e6          swaps  \n",
       "17  0x0b1EAA1CF011C80f075958Cf5B6bD49Abc3D7a72        rewards  \n",
       "18  0xa1c56731e180D7F43d06B9f65CecfE7A2F724dBE          stats  \n",
       "19  0xE08cC4Bc6BD77774fE107f7Ffb48adD75Ae53245         solver  \n",
       "20  0x54baDF9b444bd38a2E3909287D7E4E954778AeF2         solver  \n",
       "21  0x3D1f51c23d1586c062B4bECa120bfCAf064e0cdC         solver  \n",
       "22  0x6ec140890269992964d98DAe4De023181F4eEAF7         solver  \n",
       "23  0x187dD9E0BE80972Ab2D14b5A5F69C1f5540Ace57         solver  \n",
       "24  0x0460aE025d45C570D40c369e06e943cEB931Ac10         solver  \n",
       "25  0xa83b79408d8dfc06dffbbea74a39ebd2769fb6e2          stats  \n",
       "26  0x6b9d01f42a4e93aebd412c24d6f3b949eef500be          stats  \n",
       "27  0x923720b4aa90cdec2c241682f89e6bf02febd509          stoke  \n",
       "28  0x44a427518a1AFD356dab0f4c521331F2c8771FA7          stoke  \n",
       "29  0x3096a687bafb44d81d294450da4b1cf9a38e401a        rewards  \n",
       "30  0x77601882d70b3a391d2be4204c386d91037ac806        rewards  "
      ]
     },
     "execution_count": 5,
     "metadata": {},
     "output_type": "execute_result"
    }
   ],
   "source": [
    "service_accounts_df"
   ]
  },
  {
   "cell_type": "code",
   "execution_count": null,
   "metadata": {},
   "outputs": [],
   "source": []
  }
 ],
 "metadata": {
  "kernelspec": {
   "display_name": "mainnet-launch-py3.10",
   "language": "python",
   "name": "python3"
  },
  "language_info": {
   "codemirror_mode": {
    "name": "ipython",
    "version": 3
   },
   "file_extension": ".py",
   "mimetype": "text/x-python",
   "name": "python",
   "nbconvert_exporter": "python",
   "pygments_lexer": "ipython3",
   "version": "3.10.14"
  }
 },
 "nbformat": 4,
 "nbformat_minor": 2
}
