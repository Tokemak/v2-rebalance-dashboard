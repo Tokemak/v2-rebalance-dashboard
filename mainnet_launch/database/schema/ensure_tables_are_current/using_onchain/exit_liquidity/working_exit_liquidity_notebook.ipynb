{
 "cells": [
  {
   "cell_type": "code",
   "execution_count": 1,
   "metadata": {},
   "outputs": [],
   "source": [
    "from update_asset_exposure import fetch_latest_asset_exposure, ensure_asset_exposure_is_current\n",
    "import pandas as pd\n",
    "from mainnet_launch.data_fetching.dex_screener.get_pool_usd_liqudity import get_token_pair_pools, get_dex_sided_liquidity\n",
    "\n",
    "from mainnet_launch.data_fetching.coingecko.get_pools_by_token import fetch_token_prices_from_coingecko, fetch_n_hops_from_tokens_with_coingecko\n",
    "from mainnet_launch.constants import ETH_CHAIN, BASE_CHAIN, SONIC_CHAIN\n",
    "\n",
    "\n",
    "import asyncio\n",
    "import aiohttp\n",
    "\n",
    "# ensure_asset_exposure_is_current()\n",
    "\n",
    "\n",
    "def _fetch_pairs_via_dex_screener():\n",
    "    \"\"\"\n",
    "    Fetch pairs for a given token address using DexScreener.\n",
    "    \"\"\"\n",
    "    df = fetch_latest_asset_exposure()\n",
    "    mainnet_df = df[df['chain_id'] == 1]\n",
    "    pair_df = asyncio.run(get_token_pair_pools('ethereum', mainnet_df['token_address'].unique().tolist()))\n",
    "    large_pairs_df = pair_df[pair_df['liquidity_usd'] > 100_000].copy()\n",
    "    large_pairs_df = pair_df.copy()\n",
    "\n",
    "    tokens = list(set([*large_pairs_df['base_token_address'].unique().tolist(), *large_pairs_df['quote_token_address'].unique().tolist()]))\n",
    "\n",
    "    prices_df = fetch_token_prices_from_coingecko(ETH_CHAIN, tokens)\n",
    "\n",
    "    token_address_to_usd_prices = prices_df.set_index('token_address')['usd_price'].to_dict()\n",
    "    large_pairs_df['usd_quote_liqudity'] = large_pairs_df['quote_token_address'].map(token_address_to_usd_prices) * large_pairs_df['liquidity_quote']\n",
    "    large_pairs_df['usd_base_liqudity'] = large_pairs_df['base_token_address'].map(token_address_to_usd_prices) * large_pairs_df['liquidity_base']\n",
    "    large_pairs_df['total_liquidity_usd'] = large_pairs_df['usd_quote_liqudity'] + large_pairs_df['usd_base_liqudity']\n",
    "    return large_pairs_df"
   ]
  },
  {
   "cell_type": "code",
   "execution_count": 3,
   "metadata": {},
   "outputs": [
    {
     "name": "stdout",
     "output_type": "stream",
     "text": [
      "Checking 21 tokens in this hop. 0\n"
     ]
    },
    {
     "ename": "HTTPError",
     "evalue": "404 Client Error: Not Found for url: https://pro-api.coingecko.com/api/v3/onchain/networks/None/tokens/0xa0d3707c569ff8c87fa923d3823ec5d81c98be78/pools?sort=h24_volume_usd_liquidity_desc&include=base_token&include=quote_token",
     "output_type": "error",
     "traceback": [
      "\u001b[0;31m---------------------------------------------------------------------------\u001b[0m",
      "\u001b[0;31mHTTPError\u001b[0m                                 Traceback (most recent call last)",
      "Cell \u001b[0;32mIn[3], line 21\u001b[0m\n\u001b[1;32m     18\u001b[0m     large_pairs_df[\u001b[38;5;124m'\u001b[39m\u001b[38;5;124mtotal_liquidity_usd\u001b[39m\u001b[38;5;124m'\u001b[39m] \u001b[38;5;241m=\u001b[39m large_pairs_df[\u001b[38;5;124m'\u001b[39m\u001b[38;5;124musd_quote_liqudity\u001b[39m\u001b[38;5;124m'\u001b[39m] \u001b[38;5;241m+\u001b[39m large_pairs_df[\u001b[38;5;124m'\u001b[39m\u001b[38;5;124musd_base_liqudity\u001b[39m\u001b[38;5;124m'\u001b[39m]\n\u001b[1;32m     19\u001b[0m     \u001b[38;5;28;01mreturn\u001b[39;00m large_pairs_df\n\u001b[0;32m---> 21\u001b[0m large_pairs_df \u001b[38;5;241m=\u001b[39m \u001b[43mfetch_large_pairs_df_from_coingecko\u001b[49m\u001b[43m(\u001b[49m\u001b[43m)\u001b[49m\n",
      "Cell \u001b[0;32mIn[3], line 7\u001b[0m, in \u001b[0;36mfetch_large_pairs_df_from_coingecko\u001b[0;34m()\u001b[0m\n\u001b[1;32m      5\u001b[0m df \u001b[38;5;241m=\u001b[39m fetch_latest_asset_exposure()\n\u001b[1;32m      6\u001b[0m mainnet_df \u001b[38;5;241m=\u001b[39m df[df[\u001b[38;5;124m'\u001b[39m\u001b[38;5;124mchain_id\u001b[39m\u001b[38;5;124m'\u001b[39m] \u001b[38;5;241m==\u001b[39m \u001b[38;5;241m1\u001b[39m]\n\u001b[0;32m----> 7\u001b[0m pair_df \u001b[38;5;241m=\u001b[39m asyncio\u001b[38;5;241m.\u001b[39mrun(\u001b[43mfetch_n_hops_from_tokens_with_coingecko\u001b[49m\u001b[43m(\u001b[49m\u001b[43mmainnet_df\u001b[49m\u001b[43m[\u001b[49m\u001b[38;5;124;43m'\u001b[39;49m\u001b[38;5;124;43mtoken_address\u001b[39;49m\u001b[38;5;124;43m'\u001b[39;49m\u001b[43m]\u001b[49m\u001b[38;5;241;43m.\u001b[39;49m\u001b[43munique\u001b[49m\u001b[43m(\u001b[49m\u001b[43m)\u001b[49m\u001b[38;5;241;43m.\u001b[39;49m\u001b[43mtolist\u001b[49m\u001b[43m(\u001b[49m\u001b[43m)\u001b[49m\u001b[43m,\u001b[49m\u001b[43m \u001b[49m\u001b[38;5;124;43m'\u001b[39;49m\u001b[38;5;124;43methereum\u001b[39;49m\u001b[38;5;124;43m'\u001b[39;49m\u001b[43m,\u001b[49m\u001b[43m \u001b[49m\u001b[43mmin_USD_reserves\u001b[49m\u001b[38;5;241;43m=\u001b[39;49m\u001b[38;5;241;43m1\u001b[39;49m\u001b[43m,\u001b[49m\u001b[43m \u001b[49m\u001b[43mn_hops\u001b[49m\u001b[38;5;241;43m=\u001b[39;49m\u001b[38;5;241;43m1\u001b[39;49m\u001b[43m)\u001b[49m)\n\u001b[1;32m      8\u001b[0m large_pairs_df \u001b[38;5;241m=\u001b[39m pair_df[pair_df[\u001b[38;5;124m'\u001b[39m\u001b[38;5;124mliquidity_usd\u001b[39m\u001b[38;5;124m'\u001b[39m] \u001b[38;5;241m>\u001b[39m \u001b[38;5;241m100_000\u001b[39m]\u001b[38;5;241m.\u001b[39mcopy()\n\u001b[1;32m      9\u001b[0m large_pairs_df \u001b[38;5;241m=\u001b[39m pair_df\u001b[38;5;241m.\u001b[39mcopy()\n",
      "File \u001b[0;32m~/Documents/Github/Tokemak/v2-rebalance-dashboard/mainnet_launch/data_fetching/coingecko/get_pools_by_token.py:94\u001b[0m, in \u001b[0;36mfetch_n_hops_from_tokens_with_coingecko\u001b[0;34m(tokens_to_check, chain, min_USD_reserves, n_hops)\u001b[0m\n\u001b[1;32m     92\u001b[0m \u001b[38;5;28;01mfor\u001b[39;00m token \u001b[38;5;129;01min\u001b[39;00m tokens_to_check_this_hop:\n\u001b[1;32m     93\u001b[0m     \u001b[38;5;28;01mif\u001b[39;00m dex_liqudity_df \u001b[38;5;129;01mis\u001b[39;00m \u001b[38;5;28;01mNone\u001b[39;00m:\n\u001b[0;32m---> 94\u001b[0m         dex_liqudity_df \u001b[38;5;241m=\u001b[39m \u001b[43m_fetch_pool_by_token_from_coingecko\u001b[49m\u001b[43m(\u001b[49m\u001b[43mtoken\u001b[49m\u001b[43m,\u001b[49m\u001b[43m \u001b[49m\u001b[43mchain\u001b[49m\u001b[43m,\u001b[49m\u001b[43m \u001b[49m\u001b[43mmin_USD_reserves\u001b[49m\u001b[38;5;241;43m=\u001b[39;49m\u001b[43mmin_USD_reserves\u001b[49m\u001b[43m)\u001b[49m\n\u001b[1;32m     95\u001b[0m     \u001b[38;5;28;01melse\u001b[39;00m:\n\u001b[1;32m     96\u001b[0m         this_token_hops_df \u001b[38;5;241m=\u001b[39m _fetch_pool_by_token_from_coingecko(\n\u001b[1;32m     97\u001b[0m             token, chain, min_USD_reserves\u001b[38;5;241m=\u001b[39mmin_USD_reserves\n\u001b[1;32m     98\u001b[0m         )\n",
      "File \u001b[0;32m~/Documents/Github/Tokemak/v2-rebalance-dashboard/mainnet_launch/data_fetching/coingecko/get_pools_by_token.py:57\u001b[0m, in \u001b[0;36m_fetch_pool_by_token_from_coingecko\u001b[0;34m(start_token, chain, min_USD_reserves)\u001b[0m\n\u001b[1;32m     54\u001b[0m params \u001b[38;5;241m=\u001b[39m {\u001b[38;5;124m\"\u001b[39m\u001b[38;5;124msort\u001b[39m\u001b[38;5;124m\"\u001b[39m: \u001b[38;5;124m\"\u001b[39m\u001b[38;5;124mh24_volume_usd_liquidity_desc\u001b[39m\u001b[38;5;124m\"\u001b[39m, \u001b[38;5;124m\"\u001b[39m\u001b[38;5;124minclude\u001b[39m\u001b[38;5;124m\"\u001b[39m: [\u001b[38;5;124m\"\u001b[39m\u001b[38;5;124mbase_token\u001b[39m\u001b[38;5;124m\"\u001b[39m, \u001b[38;5;124m\"\u001b[39m\u001b[38;5;124mquote_token\u001b[39m\u001b[38;5;124m\"\u001b[39m]}\n\u001b[1;32m     56\u001b[0m resp \u001b[38;5;241m=\u001b[39m requests\u001b[38;5;241m.\u001b[39mget(url, headers\u001b[38;5;241m=\u001b[39mheaders, params\u001b[38;5;241m=\u001b[39mparams, timeout\u001b[38;5;241m=\u001b[39m\u001b[38;5;241m30\u001b[39m)\n\u001b[0;32m---> 57\u001b[0m \u001b[43mresp\u001b[49m\u001b[38;5;241;43m.\u001b[39;49m\u001b[43mraise_for_status\u001b[49m\u001b[43m(\u001b[49m\u001b[43m)\u001b[49m\n\u001b[1;32m     58\u001b[0m pools \u001b[38;5;241m=\u001b[39m resp\u001b[38;5;241m.\u001b[39mjson()[\u001b[38;5;124m\"\u001b[39m\u001b[38;5;124mdata\u001b[39m\u001b[38;5;124m\"\u001b[39m]\n\u001b[1;32m     60\u001b[0m \u001b[38;5;28;01mdef\u001b[39;00m\u001b[38;5;250m \u001b[39m\u001b[38;5;21m_extract_pool_fields_from_coingecko\u001b[39m(pools):\n",
      "File \u001b[0;32m~/Library/Caches/pypoetry/virtualenvs/mainnet-launch-FtycU18g-py3.10/lib/python3.10/site-packages/requests/models.py:1024\u001b[0m, in \u001b[0;36mResponse.raise_for_status\u001b[0;34m(self)\u001b[0m\n\u001b[1;32m   1019\u001b[0m     http_error_msg \u001b[38;5;241m=\u001b[39m (\n\u001b[1;32m   1020\u001b[0m         \u001b[38;5;124mf\u001b[39m\u001b[38;5;124m\"\u001b[39m\u001b[38;5;132;01m{\u001b[39;00m\u001b[38;5;28mself\u001b[39m\u001b[38;5;241m.\u001b[39mstatus_code\u001b[38;5;132;01m}\u001b[39;00m\u001b[38;5;124m Server Error: \u001b[39m\u001b[38;5;132;01m{\u001b[39;00mreason\u001b[38;5;132;01m}\u001b[39;00m\u001b[38;5;124m for url: \u001b[39m\u001b[38;5;132;01m{\u001b[39;00m\u001b[38;5;28mself\u001b[39m\u001b[38;5;241m.\u001b[39murl\u001b[38;5;132;01m}\u001b[39;00m\u001b[38;5;124m\"\u001b[39m\n\u001b[1;32m   1021\u001b[0m     )\n\u001b[1;32m   1023\u001b[0m \u001b[38;5;28;01mif\u001b[39;00m http_error_msg:\n\u001b[0;32m-> 1024\u001b[0m     \u001b[38;5;28;01mraise\u001b[39;00m HTTPError(http_error_msg, response\u001b[38;5;241m=\u001b[39m\u001b[38;5;28mself\u001b[39m)\n",
      "\u001b[0;31mHTTPError\u001b[0m: 404 Client Error: Not Found for url: https://pro-api.coingecko.com/api/v3/onchain/networks/None/tokens/0xa0d3707c569ff8c87fa923d3823ec5d81c98be78/pools?sort=h24_volume_usd_liquidity_desc&include=base_token&include=quote_token"
     ]
    }
   ],
   "source": [
    "def fetch_large_pairs_df_from_coingecko():\n",
    "    \"\"\"\n",
    "    Fetch pairs for a given token address using DexScreener.\n",
    "    \"\"\"\n",
    "    df = fetch_latest_asset_exposure()\n",
    "    mainnet_df = df[df['chain_id'] == 1]\n",
    "    pair_df = asyncio.run(fetch_n_hops_from_tokens_with_coingecko(mainnet_df['token_address'].unique().tolist(), 'ethereum', min_USD_reserves=1, n_hops=1))\n",
    "    large_pairs_df = pair_df[pair_df['liquidity_usd'] > 100_000].copy()\n",
    "    large_pairs_df = pair_df.copy()\n",
    "\n",
    "    tokens = list(set([*large_pairs_df['base_token_address'].unique().tolist(), *large_pairs_df['quote_token_address'].unique().tolist()]))\n",
    "\n",
    "    prices_df = fetch_token_prices_from_coingecko(ETH_CHAIN, tokens)\n",
    "\n",
    "    token_address_to_usd_prices = prices_df.set_index('token_address')['usd_price'].to_dict()\n",
    "    large_pairs_df['usd_quote_liqudity'] = large_pairs_df['quote_token_address'].map(token_address_to_usd_prices) * large_pairs_df['liquidity_quote']\n",
    "    large_pairs_df['usd_base_liqudity'] = large_pairs_df['base_token_address'].map(token_address_to_usd_prices) * large_pairs_df['liquidity_base']\n",
    "    large_pairs_df['total_liquidity_usd'] = large_pairs_df['usd_quote_liqudity'] + large_pairs_df['usd_base_liqudity']\n",
    "    return large_pairs_df\n",
    "\n",
    "large_pairs_df = fetch_large_pairs_df_from_coingecko()"
   ]
  },
  {
   "cell_type": "code",
   "execution_count": null,
   "metadata": {},
   "outputs": [],
   "source": [
    "# some options\n",
    "# maybe coingecko is better at finding pairs?\n"
   ]
  },
  {
   "cell_type": "code",
   "execution_count": null,
   "metadata": {},
   "outputs": [],
   "source": [
    "def build_our_token_to_total_other_token_liquidity(large_pairs_df):\n",
    "\n",
    "    our_tokens = df['token_address'].tolist()\n",
    "\n",
    "    our_token_to_total_other_token_liquidity = {}\n",
    "\n",
    "    token_symol_to_dfs = {}\n",
    "\n",
    "    for token in our_tokens:\n",
    "        # also works by token address\n",
    "        sub_df = large_pairs_df[(large_pairs_df['base_token_address'] == token) | (large_pairs_df['quote_token_address'] == token)]\n",
    "        if sub_df.empty:\n",
    "            continue\n",
    "\n",
    "        quote_token_is_target = sub_df[(sub_df['quote_token_address'] == token)]\n",
    "\n",
    "        quote_liqudity = quote_token_is_target.groupby('base_token_symbol')['usd_base_liqudity'].sum().to_dict()\n",
    "\n",
    "        base_token_is_target = sub_df[(sub_df['base_token_address'] == token)]\n",
    "        base_liqudity = base_token_is_target.groupby('quote_token_symbol')['usd_quote_liqudity'].sum().to_dict()\n",
    "\n",
    "        for k, v in base_liqudity.items():\n",
    "            if k not in quote_liqudity:\n",
    "                quote_liqudity[k] = 0\n",
    "            quote_liqudity[k] += v\n",
    "\n",
    "        our_token_symbol = quote_token_is_target['quote_token_symbol'].iloc[0] if not quote_token_is_target.empty else base_token_is_target['base_token_symbol'].iloc[0]\n",
    "\n",
    "        our_token_to_total_other_token_liquidity[our_token_symbol] = quote_liqudity\n",
    "        token_symol_to_dfs[our_token_symbol] = sub_df\n",
    "\n",
    "    return our_token_to_total_other_token_liquidity, token_symol_to_dfs\n",
    "\n",
    "our_token_to_total_other_token_liquidity, token_symol_to_dfs = build_our_token_to_total_other_token_liquidity(large_pairs_df)# our_token_to_total_other_token_liquidity"
   ]
  },
  {
   "cell_type": "code",
   "execution_count": null,
   "metadata": {},
   "outputs": [
    {
     "data": {
      "application/vnd.microsoft.datawrangler.viewer.v0+json": {
       "columns": [
        {
         "name": "index",
         "rawType": "int64",
         "type": "integer"
        },
        {
         "name": "pairAddress",
         "rawType": "object",
         "type": "string"
        },
        {
         "name": "dexId",
         "rawType": "object",
         "type": "string"
        },
        {
         "name": "base_token_address",
         "rawType": "object",
         "type": "string"
        },
        {
         "name": "base_token_name",
         "rawType": "object",
         "type": "string"
        },
        {
         "name": "base_token_symbol",
         "rawType": "object",
         "type": "string"
        },
        {
         "name": "quote_token_address",
         "rawType": "object",
         "type": "string"
        },
        {
         "name": "quote_token_name",
         "rawType": "object",
         "type": "string"
        },
        {
         "name": "quote_token_symbol",
         "rawType": "object",
         "type": "string"
        },
        {
         "name": "liquidity_usd",
         "rawType": "float64",
         "type": "float"
        },
        {
         "name": "liquidity_base",
         "rawType": "float64",
         "type": "float"
        },
        {
         "name": "liquidity_quote",
         "rawType": "float64",
         "type": "float"
        },
        {
         "name": "usd_quote_liqudity",
         "rawType": "float64",
         "type": "float"
        },
        {
         "name": "usd_base_liqudity",
         "rawType": "float64",
         "type": "float"
        },
        {
         "name": "total_liquidity_usd",
         "rawType": "float64",
         "type": "float"
        }
       ],
       "ref": "3506ced8-64bd-4725-b9cb-e2b12e6946f0",
       "rows": [
        [
         "161",
         "0x5c95d4B1C3321CF898D25949F41D50Be2dB5bc1d",
         "uniswap",
         "0x40D16FC0246aD3160Ccc09B8D0D3A2cD28aE6C2f",
         "Gho Token",
         "GHO",
         "0xA0b86991c6218b36c1d19D4a2e9Eb0cE3606eB48",
         "USD Coin",
         "USDC",
         "816532.65",
         "657212.0",
         "160138.0",
         "160106.759863798",
         "656025.8456600523",
         "816132.6055238503"
        ],
        [
         "162",
         "0x4628f13651eaD6793F8d838B34B8f8522Fb0cc52",
         "curve",
         "0x40D16FC0246aD3160Ccc09B8D0D3A2cD28aE6C2f",
         "Gho Token",
         "GHO",
         "0x66a1E37c9b0eAddca17d3662D6c05F4DECf3e110",
         "Resolv USD",
         "USR",
         "6859967.24",
         "5129077.0",
         "1736551.0",
         "1735430.7089808544",
         "5119819.900398234",
         "6855250.6093790885"
        ],
        [
         "163",
         "0x74345504Eaea3D9408fC69Ae7EB2d14095643c5b",
         "curve",
         "0x40D16FC0246aD3160Ccc09B8D0D3A2cD28aE6C2f",
         "Gho Token",
         "GHO",
         "0x085780639CC2cACd35E474e71f4d000e2405d8f6",
         "f(x) USD",
         "fxUSD",
         "4377779.07",
         "1855197.0",
         "2529798.0",
         "2524977.6399434414",
         "1851848.6892981138",
         "4376826.329241555"
        ],
        [
         "164",
         "0x8a4f252812dFF2A8636E4F7EB249d8FC2E3bd77f-0x40D16FC0246aD3160Ccc09B8D0D3A2cD28aE6C2f-0xC02aaA39b223FE8D0A0e5C4F27eAD9083C756Cc2",
         "curve",
         "0x40D16FC0246aD3160Ccc09B8D0D3A2cD28aE6C2f",
         "Gho Token",
         "GHO",
         "0xC02aaA39b223FE8D0A0e5C4F27eAD9083C756Cc2",
         "Wrapped Ether",
         "WETH",
         "2760977.08",
         "1370162.0",
         "383.6579",
         "1391468.3850967367",
         "1367689.0938407525",
         "2759157.478937489"
        ],
        [
         "165",
         "0x8353157092ED8Be69a9DF8F95af097bbF33Cb2aF-0x40D16FC0246aD3160Ccc09B8D0D3A2cD28aE6C2f-0xdAC17F958D2ee523a2206206994597C13D831ec7",
         "balancer",
         "0x40D16FC0246aD3160Ccc09B8D0D3A2cD28aE6C2f",
         "Gho Token",
         "GHO",
         "0xdAC17F958D2ee523a2206206994597C13D831ec7",
         "Tether USD",
         "USDT",
         "248399.57",
         "153985.0",
         "94727.0",
         "94759.28448734219",
         "153707.08362592763",
         "248466.3681132698"
        ],
        [
         "166",
         "0x670a72e6D22b0956C0D2573288F82DCc5d6E3a61",
         "curve",
         "0x40D16FC0246aD3160Ccc09B8D0D3A2cD28aE6C2f",
         "Gho Token",
         "GHO",
         "0x4c9EDD5852cd905f086C759E8383e09bff1E68B3",
         "USDe",
         "USDe",
         "1813772.49",
         "1452886.0",
         "362476.0",
         "362918.5432042245",
         "1450263.7912844724",
         "1813182.334488697"
        ],
        [
         "167",
         "0x635EF0056A597D13863B73825CcA297236578595",
         "curve",
         "0x40D16FC0246aD3160Ccc09B8D0D3A2cD28aE6C2f",
         "Gho Token",
         "GHO",
         "0xf939E0A03FB07F59A73314E73794Be0E57ac1b4E",
         "Curve.Fi USD Stablecoin",
         "crvUSD",
         "2823995.24",
         "2305739.0",
         "522156.0",
         "522153.9097015923",
         "2301577.5386730055",
         "2823731.448374598"
        ],
        [
         "168",
         "0x8353157092ED8Be69a9DF8F95af097bbF33Cb2aF-0x40D16FC0246aD3160Ccc09B8D0D3A2cD28aE6C2f-0xA0b86991c6218b36c1d19D4a2e9Eb0cE3606eB48",
         "balancer",
         "0x40D16FC0246aD3160Ccc09B8D0D3A2cD28aE6C2f",
         "Gho Token",
         "GHO",
         "0xA0b86991c6218b36c1d19D4a2e9Eb0cE3606eB48",
         "USD Coin",
         "USDC",
         "257733.5",
         "149866.0",
         "108059.0",
         "108037.91957013418",
         "149595.51771070735",
         "257633.43728084152"
        ],
        [
         "169",
         "0x8a4f252812dFF2A8636E4F7EB249d8FC2E3bd77f-0x40D16FC0246aD3160Ccc09B8D0D3A2cD28aE6C2f-0xcbB7C0000aB88B473b1f5aFd9ef808440eed33Bf",
         "curve",
         "0x40D16FC0246aD3160Ccc09B8D0D3A2cD28aE6C2f",
         "Gho Token",
         "GHO",
         "0xcbB7C0000aB88B473b1f5aFd9ef808440eed33Bf",
         "Coinbase Wrapped BTC",
         "cbBTC",
         "2756177.52",
         "1368253.0",
         "11.6831",
         "1387391.9426795742",
         "1365783.5392565923",
         "2753175.4819361665"
        ],
        [
         "170",
         "0x2b3fec4acbfce6ae91d529f88a5d6d438de36a457907c5c41bf755b55b959795",
         "uniswap",
         "0x40D16FC0246aD3160Ccc09B8D0D3A2cD28aE6C2f",
         "Gho Token",
         "GHO",
         "0x0000000000000000000000000000000000000000",
         "Ether",
         "ETH",
         "12916.6",
         "7466.2238",
         "1.4942",
         null,
         "7452.748553407742",
         null
        ],
        [
         "171",
         "0x99e7b15df044e1b62e2e1774fD4469d54D9409aC",
         "balancer",
         "0x40D16FC0246aD3160Ccc09B8D0D3A2cD28aE6C2f",
         "Gho Token",
         "GHO",
         "0xA0b86991c6218b36c1d19D4a2e9Eb0cE3606eB48",
         "USD Coin",
         "USDC",
         "1026.55",
         "412.5894",
         "614.8795",
         "614.7595477130486",
         "411.8447472738988",
         "1026.6042949869475"
        ],
        [
         "172",
         "0x8Cd52ee292313C4D851e71A7064F096504aB3eE9-0x40D16FC0246aD3160Ccc09B8D0D3A2cD28aE6C2f-0x7f39C581F595B53c5cb19bD0b3f8dA6c935E2Ca0",
         "curve",
         "0x7f39C581F595B53c5cb19bD0b3f8dA6c935E2Ca0",
         "Wrapped liquid staked Ether 2.0",
         "wstETH",
         "0x40D16FC0246aD3160Ccc09B8D0D3A2cD28aE6C2f",
         "Gho Token",
         "GHO",
         "3118.59",
         "0.3644",
         "1542.9653",
         "1540.1805136799333",
         "1590.67127502743",
         "3130.851788707363"
        ],
        [
         "255",
         "0x635EF0056A597D13863B73825CcA297236578595",
         "curve",
         "0x40D16FC0246aD3160Ccc09B8D0D3A2cD28aE6C2f",
         "Gho Token",
         "GHO",
         "0xf939E0A03FB07F59A73314E73794Be0E57ac1b4E",
         "Curve.Fi USD Stablecoin",
         "crvUSD",
         "2823995.24",
         "2305739.0",
         "522156.0",
         "522153.9097015923",
         "2301577.5386730055",
         "2823731.448374598"
        ]
       ],
       "shape": {
        "columns": 14,
        "rows": 13
       }
      },
      "text/html": [
       "<div>\n",
       "<style scoped>\n",
       "    .dataframe tbody tr th:only-of-type {\n",
       "        vertical-align: middle;\n",
       "    }\n",
       "\n",
       "    .dataframe tbody tr th {\n",
       "        vertical-align: top;\n",
       "    }\n",
       "\n",
       "    .dataframe thead th {\n",
       "        text-align: right;\n",
       "    }\n",
       "</style>\n",
       "<table border=\"1\" class=\"dataframe\">\n",
       "  <thead>\n",
       "    <tr style=\"text-align: right;\">\n",
       "      <th></th>\n",
       "      <th>pairAddress</th>\n",
       "      <th>dexId</th>\n",
       "      <th>base_token_address</th>\n",
       "      <th>base_token_name</th>\n",
       "      <th>base_token_symbol</th>\n",
       "      <th>quote_token_address</th>\n",
       "      <th>quote_token_name</th>\n",
       "      <th>quote_token_symbol</th>\n",
       "      <th>liquidity_usd</th>\n",
       "      <th>liquidity_base</th>\n",
       "      <th>liquidity_quote</th>\n",
       "      <th>usd_quote_liqudity</th>\n",
       "      <th>usd_base_liqudity</th>\n",
       "      <th>total_liquidity_usd</th>\n",
       "    </tr>\n",
       "  </thead>\n",
       "  <tbody>\n",
       "    <tr>\n",
       "      <th>161</th>\n",
       "      <td>0x5c95d4B1C3321CF898D25949F41D50Be2dB5bc1d</td>\n",
       "      <td>uniswap</td>\n",
       "      <td>0x40D16FC0246aD3160Ccc09B8D0D3A2cD28aE6C2f</td>\n",
       "      <td>Gho Token</td>\n",
       "      <td>GHO</td>\n",
       "      <td>0xA0b86991c6218b36c1d19D4a2e9Eb0cE3606eB48</td>\n",
       "      <td>USD Coin</td>\n",
       "      <td>USDC</td>\n",
       "      <td>816532.65</td>\n",
       "      <td>6.572120e+05</td>\n",
       "      <td>1.601380e+05</td>\n",
       "      <td>1.601068e+05</td>\n",
       "      <td>6.560258e+05</td>\n",
       "      <td>8.161326e+05</td>\n",
       "    </tr>\n",
       "    <tr>\n",
       "      <th>162</th>\n",
       "      <td>0x4628f13651eaD6793F8d838B34B8f8522Fb0cc52</td>\n",
       "      <td>curve</td>\n",
       "      <td>0x40D16FC0246aD3160Ccc09B8D0D3A2cD28aE6C2f</td>\n",
       "      <td>Gho Token</td>\n",
       "      <td>GHO</td>\n",
       "      <td>0x66a1E37c9b0eAddca17d3662D6c05F4DECf3e110</td>\n",
       "      <td>Resolv USD</td>\n",
       "      <td>USR</td>\n",
       "      <td>6859967.24</td>\n",
       "      <td>5.129077e+06</td>\n",
       "      <td>1.736551e+06</td>\n",
       "      <td>1.735431e+06</td>\n",
       "      <td>5.119820e+06</td>\n",
       "      <td>6.855251e+06</td>\n",
       "    </tr>\n",
       "    <tr>\n",
       "      <th>163</th>\n",
       "      <td>0x74345504Eaea3D9408fC69Ae7EB2d14095643c5b</td>\n",
       "      <td>curve</td>\n",
       "      <td>0x40D16FC0246aD3160Ccc09B8D0D3A2cD28aE6C2f</td>\n",
       "      <td>Gho Token</td>\n",
       "      <td>GHO</td>\n",
       "      <td>0x085780639CC2cACd35E474e71f4d000e2405d8f6</td>\n",
       "      <td>f(x) USD</td>\n",
       "      <td>fxUSD</td>\n",
       "      <td>4377779.07</td>\n",
       "      <td>1.855197e+06</td>\n",
       "      <td>2.529798e+06</td>\n",
       "      <td>2.524978e+06</td>\n",
       "      <td>1.851849e+06</td>\n",
       "      <td>4.376826e+06</td>\n",
       "    </tr>\n",
       "    <tr>\n",
       "      <th>164</th>\n",
       "      <td>0x8a4f252812dFF2A8636E4F7EB249d8FC2E3bd77f-0x4...</td>\n",
       "      <td>curve</td>\n",
       "      <td>0x40D16FC0246aD3160Ccc09B8D0D3A2cD28aE6C2f</td>\n",
       "      <td>Gho Token</td>\n",
       "      <td>GHO</td>\n",
       "      <td>0xC02aaA39b223FE8D0A0e5C4F27eAD9083C756Cc2</td>\n",
       "      <td>Wrapped Ether</td>\n",
       "      <td>WETH</td>\n",
       "      <td>2760977.08</td>\n",
       "      <td>1.370162e+06</td>\n",
       "      <td>3.836579e+02</td>\n",
       "      <td>1.391468e+06</td>\n",
       "      <td>1.367689e+06</td>\n",
       "      <td>2.759157e+06</td>\n",
       "    </tr>\n",
       "    <tr>\n",
       "      <th>165</th>\n",
       "      <td>0x8353157092ED8Be69a9DF8F95af097bbF33Cb2aF-0x4...</td>\n",
       "      <td>balancer</td>\n",
       "      <td>0x40D16FC0246aD3160Ccc09B8D0D3A2cD28aE6C2f</td>\n",
       "      <td>Gho Token</td>\n",
       "      <td>GHO</td>\n",
       "      <td>0xdAC17F958D2ee523a2206206994597C13D831ec7</td>\n",
       "      <td>Tether USD</td>\n",
       "      <td>USDT</td>\n",
       "      <td>248399.57</td>\n",
       "      <td>1.539850e+05</td>\n",
       "      <td>9.472700e+04</td>\n",
       "      <td>9.475928e+04</td>\n",
       "      <td>1.537071e+05</td>\n",
       "      <td>2.484664e+05</td>\n",
       "    </tr>\n",
       "    <tr>\n",
       "      <th>166</th>\n",
       "      <td>0x670a72e6D22b0956C0D2573288F82DCc5d6E3a61</td>\n",
       "      <td>curve</td>\n",
       "      <td>0x40D16FC0246aD3160Ccc09B8D0D3A2cD28aE6C2f</td>\n",
       "      <td>Gho Token</td>\n",
       "      <td>GHO</td>\n",
       "      <td>0x4c9EDD5852cd905f086C759E8383e09bff1E68B3</td>\n",
       "      <td>USDe</td>\n",
       "      <td>USDe</td>\n",
       "      <td>1813772.49</td>\n",
       "      <td>1.452886e+06</td>\n",
       "      <td>3.624760e+05</td>\n",
       "      <td>3.629185e+05</td>\n",
       "      <td>1.450264e+06</td>\n",
       "      <td>1.813182e+06</td>\n",
       "    </tr>\n",
       "    <tr>\n",
       "      <th>167</th>\n",
       "      <td>0x635EF0056A597D13863B73825CcA297236578595</td>\n",
       "      <td>curve</td>\n",
       "      <td>0x40D16FC0246aD3160Ccc09B8D0D3A2cD28aE6C2f</td>\n",
       "      <td>Gho Token</td>\n",
       "      <td>GHO</td>\n",
       "      <td>0xf939E0A03FB07F59A73314E73794Be0E57ac1b4E</td>\n",
       "      <td>Curve.Fi USD Stablecoin</td>\n",
       "      <td>crvUSD</td>\n",
       "      <td>2823995.24</td>\n",
       "      <td>2.305739e+06</td>\n",
       "      <td>5.221560e+05</td>\n",
       "      <td>5.221539e+05</td>\n",
       "      <td>2.301578e+06</td>\n",
       "      <td>2.823731e+06</td>\n",
       "    </tr>\n",
       "    <tr>\n",
       "      <th>168</th>\n",
       "      <td>0x8353157092ED8Be69a9DF8F95af097bbF33Cb2aF-0x4...</td>\n",
       "      <td>balancer</td>\n",
       "      <td>0x40D16FC0246aD3160Ccc09B8D0D3A2cD28aE6C2f</td>\n",
       "      <td>Gho Token</td>\n",
       "      <td>GHO</td>\n",
       "      <td>0xA0b86991c6218b36c1d19D4a2e9Eb0cE3606eB48</td>\n",
       "      <td>USD Coin</td>\n",
       "      <td>USDC</td>\n",
       "      <td>257733.50</td>\n",
       "      <td>1.498660e+05</td>\n",
       "      <td>1.080590e+05</td>\n",
       "      <td>1.080379e+05</td>\n",
       "      <td>1.495955e+05</td>\n",
       "      <td>2.576334e+05</td>\n",
       "    </tr>\n",
       "    <tr>\n",
       "      <th>169</th>\n",
       "      <td>0x8a4f252812dFF2A8636E4F7EB249d8FC2E3bd77f-0x4...</td>\n",
       "      <td>curve</td>\n",
       "      <td>0x40D16FC0246aD3160Ccc09B8D0D3A2cD28aE6C2f</td>\n",
       "      <td>Gho Token</td>\n",
       "      <td>GHO</td>\n",
       "      <td>0xcbB7C0000aB88B473b1f5aFd9ef808440eed33Bf</td>\n",
       "      <td>Coinbase Wrapped BTC</td>\n",
       "      <td>cbBTC</td>\n",
       "      <td>2756177.52</td>\n",
       "      <td>1.368253e+06</td>\n",
       "      <td>1.168310e+01</td>\n",
       "      <td>1.387392e+06</td>\n",
       "      <td>1.365784e+06</td>\n",
       "      <td>2.753175e+06</td>\n",
       "    </tr>\n",
       "    <tr>\n",
       "      <th>170</th>\n",
       "      <td>0x2b3fec4acbfce6ae91d529f88a5d6d438de36a457907...</td>\n",
       "      <td>uniswap</td>\n",
       "      <td>0x40D16FC0246aD3160Ccc09B8D0D3A2cD28aE6C2f</td>\n",
       "      <td>Gho Token</td>\n",
       "      <td>GHO</td>\n",
       "      <td>0x0000000000000000000000000000000000000000</td>\n",
       "      <td>Ether</td>\n",
       "      <td>ETH</td>\n",
       "      <td>12916.60</td>\n",
       "      <td>7.466224e+03</td>\n",
       "      <td>1.494200e+00</td>\n",
       "      <td>NaN</td>\n",
       "      <td>7.452749e+03</td>\n",
       "      <td>NaN</td>\n",
       "    </tr>\n",
       "    <tr>\n",
       "      <th>171</th>\n",
       "      <td>0x99e7b15df044e1b62e2e1774fD4469d54D9409aC</td>\n",
       "      <td>balancer</td>\n",
       "      <td>0x40D16FC0246aD3160Ccc09B8D0D3A2cD28aE6C2f</td>\n",
       "      <td>Gho Token</td>\n",
       "      <td>GHO</td>\n",
       "      <td>0xA0b86991c6218b36c1d19D4a2e9Eb0cE3606eB48</td>\n",
       "      <td>USD Coin</td>\n",
       "      <td>USDC</td>\n",
       "      <td>1026.55</td>\n",
       "      <td>4.125894e+02</td>\n",
       "      <td>6.148795e+02</td>\n",
       "      <td>6.147595e+02</td>\n",
       "      <td>4.118447e+02</td>\n",
       "      <td>1.026604e+03</td>\n",
       "    </tr>\n",
       "    <tr>\n",
       "      <th>172</th>\n",
       "      <td>0x8Cd52ee292313C4D851e71A7064F096504aB3eE9-0x4...</td>\n",
       "      <td>curve</td>\n",
       "      <td>0x7f39C581F595B53c5cb19bD0b3f8dA6c935E2Ca0</td>\n",
       "      <td>Wrapped liquid staked Ether 2.0</td>\n",
       "      <td>wstETH</td>\n",
       "      <td>0x40D16FC0246aD3160Ccc09B8D0D3A2cD28aE6C2f</td>\n",
       "      <td>Gho Token</td>\n",
       "      <td>GHO</td>\n",
       "      <td>3118.59</td>\n",
       "      <td>3.644000e-01</td>\n",
       "      <td>1.542965e+03</td>\n",
       "      <td>1.540181e+03</td>\n",
       "      <td>1.590671e+03</td>\n",
       "      <td>3.130852e+03</td>\n",
       "    </tr>\n",
       "    <tr>\n",
       "      <th>255</th>\n",
       "      <td>0x635EF0056A597D13863B73825CcA297236578595</td>\n",
       "      <td>curve</td>\n",
       "      <td>0x40D16FC0246aD3160Ccc09B8D0D3A2cD28aE6C2f</td>\n",
       "      <td>Gho Token</td>\n",
       "      <td>GHO</td>\n",
       "      <td>0xf939E0A03FB07F59A73314E73794Be0E57ac1b4E</td>\n",
       "      <td>Curve.Fi USD Stablecoin</td>\n",
       "      <td>crvUSD</td>\n",
       "      <td>2823995.24</td>\n",
       "      <td>2.305739e+06</td>\n",
       "      <td>5.221560e+05</td>\n",
       "      <td>5.221539e+05</td>\n",
       "      <td>2.301578e+06</td>\n",
       "      <td>2.823731e+06</td>\n",
       "    </tr>\n",
       "  </tbody>\n",
       "</table>\n",
       "</div>"
      ],
      "text/plain": [
       "                                           pairAddress     dexId  \\\n",
       "161         0x5c95d4B1C3321CF898D25949F41D50Be2dB5bc1d   uniswap   \n",
       "162         0x4628f13651eaD6793F8d838B34B8f8522Fb0cc52     curve   \n",
       "163         0x74345504Eaea3D9408fC69Ae7EB2d14095643c5b     curve   \n",
       "164  0x8a4f252812dFF2A8636E4F7EB249d8FC2E3bd77f-0x4...     curve   \n",
       "165  0x8353157092ED8Be69a9DF8F95af097bbF33Cb2aF-0x4...  balancer   \n",
       "166         0x670a72e6D22b0956C0D2573288F82DCc5d6E3a61     curve   \n",
       "167         0x635EF0056A597D13863B73825CcA297236578595     curve   \n",
       "168  0x8353157092ED8Be69a9DF8F95af097bbF33Cb2aF-0x4...  balancer   \n",
       "169  0x8a4f252812dFF2A8636E4F7EB249d8FC2E3bd77f-0x4...     curve   \n",
       "170  0x2b3fec4acbfce6ae91d529f88a5d6d438de36a457907...   uniswap   \n",
       "171         0x99e7b15df044e1b62e2e1774fD4469d54D9409aC  balancer   \n",
       "172  0x8Cd52ee292313C4D851e71A7064F096504aB3eE9-0x4...     curve   \n",
       "255         0x635EF0056A597D13863B73825CcA297236578595     curve   \n",
       "\n",
       "                             base_token_address  \\\n",
       "161  0x40D16FC0246aD3160Ccc09B8D0D3A2cD28aE6C2f   \n",
       "162  0x40D16FC0246aD3160Ccc09B8D0D3A2cD28aE6C2f   \n",
       "163  0x40D16FC0246aD3160Ccc09B8D0D3A2cD28aE6C2f   \n",
       "164  0x40D16FC0246aD3160Ccc09B8D0D3A2cD28aE6C2f   \n",
       "165  0x40D16FC0246aD3160Ccc09B8D0D3A2cD28aE6C2f   \n",
       "166  0x40D16FC0246aD3160Ccc09B8D0D3A2cD28aE6C2f   \n",
       "167  0x40D16FC0246aD3160Ccc09B8D0D3A2cD28aE6C2f   \n",
       "168  0x40D16FC0246aD3160Ccc09B8D0D3A2cD28aE6C2f   \n",
       "169  0x40D16FC0246aD3160Ccc09B8D0D3A2cD28aE6C2f   \n",
       "170  0x40D16FC0246aD3160Ccc09B8D0D3A2cD28aE6C2f   \n",
       "171  0x40D16FC0246aD3160Ccc09B8D0D3A2cD28aE6C2f   \n",
       "172  0x7f39C581F595B53c5cb19bD0b3f8dA6c935E2Ca0   \n",
       "255  0x40D16FC0246aD3160Ccc09B8D0D3A2cD28aE6C2f   \n",
       "\n",
       "                     base_token_name base_token_symbol  \\\n",
       "161                        Gho Token               GHO   \n",
       "162                        Gho Token               GHO   \n",
       "163                        Gho Token               GHO   \n",
       "164                        Gho Token               GHO   \n",
       "165                        Gho Token               GHO   \n",
       "166                        Gho Token               GHO   \n",
       "167                        Gho Token               GHO   \n",
       "168                        Gho Token               GHO   \n",
       "169                        Gho Token               GHO   \n",
       "170                        Gho Token               GHO   \n",
       "171                        Gho Token               GHO   \n",
       "172  Wrapped liquid staked Ether 2.0            wstETH   \n",
       "255                        Gho Token               GHO   \n",
       "\n",
       "                            quote_token_address         quote_token_name  \\\n",
       "161  0xA0b86991c6218b36c1d19D4a2e9Eb0cE3606eB48                 USD Coin   \n",
       "162  0x66a1E37c9b0eAddca17d3662D6c05F4DECf3e110               Resolv USD   \n",
       "163  0x085780639CC2cACd35E474e71f4d000e2405d8f6                 f(x) USD   \n",
       "164  0xC02aaA39b223FE8D0A0e5C4F27eAD9083C756Cc2            Wrapped Ether   \n",
       "165  0xdAC17F958D2ee523a2206206994597C13D831ec7               Tether USD   \n",
       "166  0x4c9EDD5852cd905f086C759E8383e09bff1E68B3                     USDe   \n",
       "167  0xf939E0A03FB07F59A73314E73794Be0E57ac1b4E  Curve.Fi USD Stablecoin   \n",
       "168  0xA0b86991c6218b36c1d19D4a2e9Eb0cE3606eB48                 USD Coin   \n",
       "169  0xcbB7C0000aB88B473b1f5aFd9ef808440eed33Bf     Coinbase Wrapped BTC   \n",
       "170  0x0000000000000000000000000000000000000000                    Ether   \n",
       "171  0xA0b86991c6218b36c1d19D4a2e9Eb0cE3606eB48                 USD Coin   \n",
       "172  0x40D16FC0246aD3160Ccc09B8D0D3A2cD28aE6C2f                Gho Token   \n",
       "255  0xf939E0A03FB07F59A73314E73794Be0E57ac1b4E  Curve.Fi USD Stablecoin   \n",
       "\n",
       "    quote_token_symbol  liquidity_usd  liquidity_base  liquidity_quote  \\\n",
       "161               USDC      816532.65    6.572120e+05     1.601380e+05   \n",
       "162                USR     6859967.24    5.129077e+06     1.736551e+06   \n",
       "163              fxUSD     4377779.07    1.855197e+06     2.529798e+06   \n",
       "164               WETH     2760977.08    1.370162e+06     3.836579e+02   \n",
       "165               USDT      248399.57    1.539850e+05     9.472700e+04   \n",
       "166               USDe     1813772.49    1.452886e+06     3.624760e+05   \n",
       "167             crvUSD     2823995.24    2.305739e+06     5.221560e+05   \n",
       "168               USDC      257733.50    1.498660e+05     1.080590e+05   \n",
       "169              cbBTC     2756177.52    1.368253e+06     1.168310e+01   \n",
       "170                ETH       12916.60    7.466224e+03     1.494200e+00   \n",
       "171               USDC        1026.55    4.125894e+02     6.148795e+02   \n",
       "172                GHO        3118.59    3.644000e-01     1.542965e+03   \n",
       "255             crvUSD     2823995.24    2.305739e+06     5.221560e+05   \n",
       "\n",
       "     usd_quote_liqudity  usd_base_liqudity  total_liquidity_usd  \n",
       "161        1.601068e+05       6.560258e+05         8.161326e+05  \n",
       "162        1.735431e+06       5.119820e+06         6.855251e+06  \n",
       "163        2.524978e+06       1.851849e+06         4.376826e+06  \n",
       "164        1.391468e+06       1.367689e+06         2.759157e+06  \n",
       "165        9.475928e+04       1.537071e+05         2.484664e+05  \n",
       "166        3.629185e+05       1.450264e+06         1.813182e+06  \n",
       "167        5.221539e+05       2.301578e+06         2.823731e+06  \n",
       "168        1.080379e+05       1.495955e+05         2.576334e+05  \n",
       "169        1.387392e+06       1.365784e+06         2.753175e+06  \n",
       "170                 NaN       7.452749e+03                  NaN  \n",
       "171        6.147595e+02       4.118447e+02         1.026604e+03  \n",
       "172        1.540181e+03       1.590671e+03         3.130852e+03  \n",
       "255        5.221539e+05       2.301578e+06         2.823731e+06  "
      ]
     },
     "execution_count": 135,
     "metadata": {},
     "output_type": "execute_result"
    }
   ],
   "source": [
    "token_symol_to_dfs['GHO']"
   ]
  },
  {
   "cell_type": "code",
   "execution_count": null,
   "metadata": {},
   "outputs": [
    {
     "data": {
      "application/vnd.microsoft.datawrangler.viewer.v0+json": {
       "columns": [
        {
         "name": "index",
         "rawType": "int64",
         "type": "integer"
        },
        {
         "name": "pairAddress",
         "rawType": "object",
         "type": "string"
        },
        {
         "name": "dexId",
         "rawType": "object",
         "type": "string"
        },
        {
         "name": "base_token_address",
         "rawType": "object",
         "type": "string"
        },
        {
         "name": "base_token_name",
         "rawType": "object",
         "type": "string"
        },
        {
         "name": "base_token_symbol",
         "rawType": "object",
         "type": "string"
        },
        {
         "name": "quote_token_address",
         "rawType": "object",
         "type": "string"
        },
        {
         "name": "quote_token_name",
         "rawType": "object",
         "type": "string"
        },
        {
         "name": "quote_token_symbol",
         "rawType": "object",
         "type": "string"
        },
        {
         "name": "liquidity_usd",
         "rawType": "float64",
         "type": "float"
        },
        {
         "name": "liquidity_base",
         "rawType": "float64",
         "type": "float"
        },
        {
         "name": "liquidity_quote",
         "rawType": "float64",
         "type": "float"
        },
        {
         "name": "usd_quote_liqudity",
         "rawType": "float64",
         "type": "float"
        },
        {
         "name": "usd_base_liqudity",
         "rawType": "float64",
         "type": "float"
        },
        {
         "name": "total_liquidity_usd",
         "rawType": "float64",
         "type": "float"
        }
       ],
       "ref": "7c603b58-70c8-47e7-9d87-44768f468d10",
       "rows": [
        [
         "161",
         "0x5c95d4B1C3321CF898D25949F41D50Be2dB5bc1d",
         "uniswap",
         "0x40D16FC0246aD3160Ccc09B8D0D3A2cD28aE6C2f",
         "Gho Token",
         "GHO",
         "0xA0b86991c6218b36c1d19D4a2e9Eb0cE3606eB48",
         "USD Coin",
         "USDC",
         "816532.65",
         "657212.0",
         "160138.0",
         "160106.759863798",
         "656025.8456600523",
         "816132.6055238503"
        ],
        [
         "162",
         "0x4628f13651eaD6793F8d838B34B8f8522Fb0cc52",
         "curve",
         "0x40D16FC0246aD3160Ccc09B8D0D3A2cD28aE6C2f",
         "Gho Token",
         "GHO",
         "0x66a1E37c9b0eAddca17d3662D6c05F4DECf3e110",
         "Resolv USD",
         "USR",
         "6859967.24",
         "5129077.0",
         "1736551.0",
         "1735430.7089808544",
         "5119819.900398234",
         "6855250.6093790885"
        ],
        [
         "163",
         "0x74345504Eaea3D9408fC69Ae7EB2d14095643c5b",
         "curve",
         "0x40D16FC0246aD3160Ccc09B8D0D3A2cD28aE6C2f",
         "Gho Token",
         "GHO",
         "0x085780639CC2cACd35E474e71f4d000e2405d8f6",
         "f(x) USD",
         "fxUSD",
         "4377779.07",
         "1855197.0",
         "2529798.0",
         "2524977.6399434414",
         "1851848.6892981138",
         "4376826.329241555"
        ],
        [
         "164",
         "0x8a4f252812dFF2A8636E4F7EB249d8FC2E3bd77f-0x40D16FC0246aD3160Ccc09B8D0D3A2cD28aE6C2f-0xC02aaA39b223FE8D0A0e5C4F27eAD9083C756Cc2",
         "curve",
         "0x40D16FC0246aD3160Ccc09B8D0D3A2cD28aE6C2f",
         "Gho Token",
         "GHO",
         "0xC02aaA39b223FE8D0A0e5C4F27eAD9083C756Cc2",
         "Wrapped Ether",
         "WETH",
         "2760977.08",
         "1370162.0",
         "383.6579",
         "1391468.3850967367",
         "1367689.0938407525",
         "2759157.478937489"
        ],
        [
         "165",
         "0x8353157092ED8Be69a9DF8F95af097bbF33Cb2aF-0x40D16FC0246aD3160Ccc09B8D0D3A2cD28aE6C2f-0xdAC17F958D2ee523a2206206994597C13D831ec7",
         "balancer",
         "0x40D16FC0246aD3160Ccc09B8D0D3A2cD28aE6C2f",
         "Gho Token",
         "GHO",
         "0xdAC17F958D2ee523a2206206994597C13D831ec7",
         "Tether USD",
         "USDT",
         "248399.57",
         "153985.0",
         "94727.0",
         "94759.28448734219",
         "153707.08362592763",
         "248466.3681132698"
        ],
        [
         "166",
         "0x670a72e6D22b0956C0D2573288F82DCc5d6E3a61",
         "curve",
         "0x40D16FC0246aD3160Ccc09B8D0D3A2cD28aE6C2f",
         "Gho Token",
         "GHO",
         "0x4c9EDD5852cd905f086C759E8383e09bff1E68B3",
         "USDe",
         "USDe",
         "1813772.49",
         "1452886.0",
         "362476.0",
         "362918.5432042245",
         "1450263.7912844724",
         "1813182.334488697"
        ],
        [
         "167",
         "0x635EF0056A597D13863B73825CcA297236578595",
         "curve",
         "0x40D16FC0246aD3160Ccc09B8D0D3A2cD28aE6C2f",
         "Gho Token",
         "GHO",
         "0xf939E0A03FB07F59A73314E73794Be0E57ac1b4E",
         "Curve.Fi USD Stablecoin",
         "crvUSD",
         "2823995.24",
         "2305739.0",
         "522156.0",
         "522153.9097015923",
         "2301577.5386730055",
         "2823731.448374598"
        ],
        [
         "168",
         "0x8353157092ED8Be69a9DF8F95af097bbF33Cb2aF-0x40D16FC0246aD3160Ccc09B8D0D3A2cD28aE6C2f-0xA0b86991c6218b36c1d19D4a2e9Eb0cE3606eB48",
         "balancer",
         "0x40D16FC0246aD3160Ccc09B8D0D3A2cD28aE6C2f",
         "Gho Token",
         "GHO",
         "0xA0b86991c6218b36c1d19D4a2e9Eb0cE3606eB48",
         "USD Coin",
         "USDC",
         "257733.5",
         "149866.0",
         "108059.0",
         "108037.91957013418",
         "149595.51771070735",
         "257633.43728084152"
        ],
        [
         "169",
         "0x8a4f252812dFF2A8636E4F7EB249d8FC2E3bd77f-0x40D16FC0246aD3160Ccc09B8D0D3A2cD28aE6C2f-0xcbB7C0000aB88B473b1f5aFd9ef808440eed33Bf",
         "curve",
         "0x40D16FC0246aD3160Ccc09B8D0D3A2cD28aE6C2f",
         "Gho Token",
         "GHO",
         "0xcbB7C0000aB88B473b1f5aFd9ef808440eed33Bf",
         "Coinbase Wrapped BTC",
         "cbBTC",
         "2756177.52",
         "1368253.0",
         "11.6831",
         "1387391.9426795742",
         "1365783.5392565923",
         "2753175.4819361665"
        ],
        [
         "170",
         "0x2b3fec4acbfce6ae91d529f88a5d6d438de36a457907c5c41bf755b55b959795",
         "uniswap",
         "0x40D16FC0246aD3160Ccc09B8D0D3A2cD28aE6C2f",
         "Gho Token",
         "GHO",
         "0x0000000000000000000000000000000000000000",
         "Ether",
         "ETH",
         "12916.6",
         "7466.2238",
         "1.4942",
         null,
         "7452.748553407742",
         null
        ],
        [
         "171",
         "0x99e7b15df044e1b62e2e1774fD4469d54D9409aC",
         "balancer",
         "0x40D16FC0246aD3160Ccc09B8D0D3A2cD28aE6C2f",
         "Gho Token",
         "GHO",
         "0xA0b86991c6218b36c1d19D4a2e9Eb0cE3606eB48",
         "USD Coin",
         "USDC",
         "1026.55",
         "412.5894",
         "614.8795",
         "614.7595477130486",
         "411.8447472738988",
         "1026.6042949869475"
        ],
        [
         "172",
         "0x8Cd52ee292313C4D851e71A7064F096504aB3eE9-0x40D16FC0246aD3160Ccc09B8D0D3A2cD28aE6C2f-0x7f39C581F595B53c5cb19bD0b3f8dA6c935E2Ca0",
         "curve",
         "0x7f39C581F595B53c5cb19bD0b3f8dA6c935E2Ca0",
         "Wrapped liquid staked Ether 2.0",
         "wstETH",
         "0x40D16FC0246aD3160Ccc09B8D0D3A2cD28aE6C2f",
         "Gho Token",
         "GHO",
         "3118.59",
         "0.3644",
         "1542.9653",
         "1540.1805136799333",
         "1590.67127502743",
         "3130.851788707363"
        ],
        [
         "255",
         "0x635EF0056A597D13863B73825CcA297236578595",
         "curve",
         "0x40D16FC0246aD3160Ccc09B8D0D3A2cD28aE6C2f",
         "Gho Token",
         "GHO",
         "0xf939E0A03FB07F59A73314E73794Be0E57ac1b4E",
         "Curve.Fi USD Stablecoin",
         "crvUSD",
         "2823995.24",
         "2305739.0",
         "522156.0",
         "522153.9097015923",
         "2301577.5386730055",
         "2823731.448374598"
        ]
       ],
       "shape": {
        "columns": 14,
        "rows": 13
       }
      },
      "text/html": [
       "<div>\n",
       "<style scoped>\n",
       "    .dataframe tbody tr th:only-of-type {\n",
       "        vertical-align: middle;\n",
       "    }\n",
       "\n",
       "    .dataframe tbody tr th {\n",
       "        vertical-align: top;\n",
       "    }\n",
       "\n",
       "    .dataframe thead th {\n",
       "        text-align: right;\n",
       "    }\n",
       "</style>\n",
       "<table border=\"1\" class=\"dataframe\">\n",
       "  <thead>\n",
       "    <tr style=\"text-align: right;\">\n",
       "      <th></th>\n",
       "      <th>pairAddress</th>\n",
       "      <th>dexId</th>\n",
       "      <th>base_token_address</th>\n",
       "      <th>base_token_name</th>\n",
       "      <th>base_token_symbol</th>\n",
       "      <th>quote_token_address</th>\n",
       "      <th>quote_token_name</th>\n",
       "      <th>quote_token_symbol</th>\n",
       "      <th>liquidity_usd</th>\n",
       "      <th>liquidity_base</th>\n",
       "      <th>liquidity_quote</th>\n",
       "      <th>usd_quote_liqudity</th>\n",
       "      <th>usd_base_liqudity</th>\n",
       "      <th>total_liquidity_usd</th>\n",
       "    </tr>\n",
       "  </thead>\n",
       "  <tbody>\n",
       "    <tr>\n",
       "      <th>161</th>\n",
       "      <td>0x5c95d4B1C3321CF898D25949F41D50Be2dB5bc1d</td>\n",
       "      <td>uniswap</td>\n",
       "      <td>0x40D16FC0246aD3160Ccc09B8D0D3A2cD28aE6C2f</td>\n",
       "      <td>Gho Token</td>\n",
       "      <td>GHO</td>\n",
       "      <td>0xA0b86991c6218b36c1d19D4a2e9Eb0cE3606eB48</td>\n",
       "      <td>USD Coin</td>\n",
       "      <td>USDC</td>\n",
       "      <td>816532.65</td>\n",
       "      <td>6.572120e+05</td>\n",
       "      <td>1.601380e+05</td>\n",
       "      <td>1.601068e+05</td>\n",
       "      <td>6.560258e+05</td>\n",
       "      <td>8.161326e+05</td>\n",
       "    </tr>\n",
       "    <tr>\n",
       "      <th>162</th>\n",
       "      <td>0x4628f13651eaD6793F8d838B34B8f8522Fb0cc52</td>\n",
       "      <td>curve</td>\n",
       "      <td>0x40D16FC0246aD3160Ccc09B8D0D3A2cD28aE6C2f</td>\n",
       "      <td>Gho Token</td>\n",
       "      <td>GHO</td>\n",
       "      <td>0x66a1E37c9b0eAddca17d3662D6c05F4DECf3e110</td>\n",
       "      <td>Resolv USD</td>\n",
       "      <td>USR</td>\n",
       "      <td>6859967.24</td>\n",
       "      <td>5.129077e+06</td>\n",
       "      <td>1.736551e+06</td>\n",
       "      <td>1.735431e+06</td>\n",
       "      <td>5.119820e+06</td>\n",
       "      <td>6.855251e+06</td>\n",
       "    </tr>\n",
       "    <tr>\n",
       "      <th>163</th>\n",
       "      <td>0x74345504Eaea3D9408fC69Ae7EB2d14095643c5b</td>\n",
       "      <td>curve</td>\n",
       "      <td>0x40D16FC0246aD3160Ccc09B8D0D3A2cD28aE6C2f</td>\n",
       "      <td>Gho Token</td>\n",
       "      <td>GHO</td>\n",
       "      <td>0x085780639CC2cACd35E474e71f4d000e2405d8f6</td>\n",
       "      <td>f(x) USD</td>\n",
       "      <td>fxUSD</td>\n",
       "      <td>4377779.07</td>\n",
       "      <td>1.855197e+06</td>\n",
       "      <td>2.529798e+06</td>\n",
       "      <td>2.524978e+06</td>\n",
       "      <td>1.851849e+06</td>\n",
       "      <td>4.376826e+06</td>\n",
       "    </tr>\n",
       "    <tr>\n",
       "      <th>164</th>\n",
       "      <td>0x8a4f252812dFF2A8636E4F7EB249d8FC2E3bd77f-0x4...</td>\n",
       "      <td>curve</td>\n",
       "      <td>0x40D16FC0246aD3160Ccc09B8D0D3A2cD28aE6C2f</td>\n",
       "      <td>Gho Token</td>\n",
       "      <td>GHO</td>\n",
       "      <td>0xC02aaA39b223FE8D0A0e5C4F27eAD9083C756Cc2</td>\n",
       "      <td>Wrapped Ether</td>\n",
       "      <td>WETH</td>\n",
       "      <td>2760977.08</td>\n",
       "      <td>1.370162e+06</td>\n",
       "      <td>3.836579e+02</td>\n",
       "      <td>1.391468e+06</td>\n",
       "      <td>1.367689e+06</td>\n",
       "      <td>2.759157e+06</td>\n",
       "    </tr>\n",
       "    <tr>\n",
       "      <th>165</th>\n",
       "      <td>0x8353157092ED8Be69a9DF8F95af097bbF33Cb2aF-0x4...</td>\n",
       "      <td>balancer</td>\n",
       "      <td>0x40D16FC0246aD3160Ccc09B8D0D3A2cD28aE6C2f</td>\n",
       "      <td>Gho Token</td>\n",
       "      <td>GHO</td>\n",
       "      <td>0xdAC17F958D2ee523a2206206994597C13D831ec7</td>\n",
       "      <td>Tether USD</td>\n",
       "      <td>USDT</td>\n",
       "      <td>248399.57</td>\n",
       "      <td>1.539850e+05</td>\n",
       "      <td>9.472700e+04</td>\n",
       "      <td>9.475928e+04</td>\n",
       "      <td>1.537071e+05</td>\n",
       "      <td>2.484664e+05</td>\n",
       "    </tr>\n",
       "    <tr>\n",
       "      <th>166</th>\n",
       "      <td>0x670a72e6D22b0956C0D2573288F82DCc5d6E3a61</td>\n",
       "      <td>curve</td>\n",
       "      <td>0x40D16FC0246aD3160Ccc09B8D0D3A2cD28aE6C2f</td>\n",
       "      <td>Gho Token</td>\n",
       "      <td>GHO</td>\n",
       "      <td>0x4c9EDD5852cd905f086C759E8383e09bff1E68B3</td>\n",
       "      <td>USDe</td>\n",
       "      <td>USDe</td>\n",
       "      <td>1813772.49</td>\n",
       "      <td>1.452886e+06</td>\n",
       "      <td>3.624760e+05</td>\n",
       "      <td>3.629185e+05</td>\n",
       "      <td>1.450264e+06</td>\n",
       "      <td>1.813182e+06</td>\n",
       "    </tr>\n",
       "    <tr>\n",
       "      <th>167</th>\n",
       "      <td>0x635EF0056A597D13863B73825CcA297236578595</td>\n",
       "      <td>curve</td>\n",
       "      <td>0x40D16FC0246aD3160Ccc09B8D0D3A2cD28aE6C2f</td>\n",
       "      <td>Gho Token</td>\n",
       "      <td>GHO</td>\n",
       "      <td>0xf939E0A03FB07F59A73314E73794Be0E57ac1b4E</td>\n",
       "      <td>Curve.Fi USD Stablecoin</td>\n",
       "      <td>crvUSD</td>\n",
       "      <td>2823995.24</td>\n",
       "      <td>2.305739e+06</td>\n",
       "      <td>5.221560e+05</td>\n",
       "      <td>5.221539e+05</td>\n",
       "      <td>2.301578e+06</td>\n",
       "      <td>2.823731e+06</td>\n",
       "    </tr>\n",
       "    <tr>\n",
       "      <th>168</th>\n",
       "      <td>0x8353157092ED8Be69a9DF8F95af097bbF33Cb2aF-0x4...</td>\n",
       "      <td>balancer</td>\n",
       "      <td>0x40D16FC0246aD3160Ccc09B8D0D3A2cD28aE6C2f</td>\n",
       "      <td>Gho Token</td>\n",
       "      <td>GHO</td>\n",
       "      <td>0xA0b86991c6218b36c1d19D4a2e9Eb0cE3606eB48</td>\n",
       "      <td>USD Coin</td>\n",
       "      <td>USDC</td>\n",
       "      <td>257733.50</td>\n",
       "      <td>1.498660e+05</td>\n",
       "      <td>1.080590e+05</td>\n",
       "      <td>1.080379e+05</td>\n",
       "      <td>1.495955e+05</td>\n",
       "      <td>2.576334e+05</td>\n",
       "    </tr>\n",
       "    <tr>\n",
       "      <th>169</th>\n",
       "      <td>0x8a4f252812dFF2A8636E4F7EB249d8FC2E3bd77f-0x4...</td>\n",
       "      <td>curve</td>\n",
       "      <td>0x40D16FC0246aD3160Ccc09B8D0D3A2cD28aE6C2f</td>\n",
       "      <td>Gho Token</td>\n",
       "      <td>GHO</td>\n",
       "      <td>0xcbB7C0000aB88B473b1f5aFd9ef808440eed33Bf</td>\n",
       "      <td>Coinbase Wrapped BTC</td>\n",
       "      <td>cbBTC</td>\n",
       "      <td>2756177.52</td>\n",
       "      <td>1.368253e+06</td>\n",
       "      <td>1.168310e+01</td>\n",
       "      <td>1.387392e+06</td>\n",
       "      <td>1.365784e+06</td>\n",
       "      <td>2.753175e+06</td>\n",
       "    </tr>\n",
       "    <tr>\n",
       "      <th>170</th>\n",
       "      <td>0x2b3fec4acbfce6ae91d529f88a5d6d438de36a457907...</td>\n",
       "      <td>uniswap</td>\n",
       "      <td>0x40D16FC0246aD3160Ccc09B8D0D3A2cD28aE6C2f</td>\n",
       "      <td>Gho Token</td>\n",
       "      <td>GHO</td>\n",
       "      <td>0x0000000000000000000000000000000000000000</td>\n",
       "      <td>Ether</td>\n",
       "      <td>ETH</td>\n",
       "      <td>12916.60</td>\n",
       "      <td>7.466224e+03</td>\n",
       "      <td>1.494200e+00</td>\n",
       "      <td>NaN</td>\n",
       "      <td>7.452749e+03</td>\n",
       "      <td>NaN</td>\n",
       "    </tr>\n",
       "    <tr>\n",
       "      <th>171</th>\n",
       "      <td>0x99e7b15df044e1b62e2e1774fD4469d54D9409aC</td>\n",
       "      <td>balancer</td>\n",
       "      <td>0x40D16FC0246aD3160Ccc09B8D0D3A2cD28aE6C2f</td>\n",
       "      <td>Gho Token</td>\n",
       "      <td>GHO</td>\n",
       "      <td>0xA0b86991c6218b36c1d19D4a2e9Eb0cE3606eB48</td>\n",
       "      <td>USD Coin</td>\n",
       "      <td>USDC</td>\n",
       "      <td>1026.55</td>\n",
       "      <td>4.125894e+02</td>\n",
       "      <td>6.148795e+02</td>\n",
       "      <td>6.147595e+02</td>\n",
       "      <td>4.118447e+02</td>\n",
       "      <td>1.026604e+03</td>\n",
       "    </tr>\n",
       "    <tr>\n",
       "      <th>172</th>\n",
       "      <td>0x8Cd52ee292313C4D851e71A7064F096504aB3eE9-0x4...</td>\n",
       "      <td>curve</td>\n",
       "      <td>0x7f39C581F595B53c5cb19bD0b3f8dA6c935E2Ca0</td>\n",
       "      <td>Wrapped liquid staked Ether 2.0</td>\n",
       "      <td>wstETH</td>\n",
       "      <td>0x40D16FC0246aD3160Ccc09B8D0D3A2cD28aE6C2f</td>\n",
       "      <td>Gho Token</td>\n",
       "      <td>GHO</td>\n",
       "      <td>3118.59</td>\n",
       "      <td>3.644000e-01</td>\n",
       "      <td>1.542965e+03</td>\n",
       "      <td>1.540181e+03</td>\n",
       "      <td>1.590671e+03</td>\n",
       "      <td>3.130852e+03</td>\n",
       "    </tr>\n",
       "    <tr>\n",
       "      <th>255</th>\n",
       "      <td>0x635EF0056A597D13863B73825CcA297236578595</td>\n",
       "      <td>curve</td>\n",
       "      <td>0x40D16FC0246aD3160Ccc09B8D0D3A2cD28aE6C2f</td>\n",
       "      <td>Gho Token</td>\n",
       "      <td>GHO</td>\n",
       "      <td>0xf939E0A03FB07F59A73314E73794Be0E57ac1b4E</td>\n",
       "      <td>Curve.Fi USD Stablecoin</td>\n",
       "      <td>crvUSD</td>\n",
       "      <td>2823995.24</td>\n",
       "      <td>2.305739e+06</td>\n",
       "      <td>5.221560e+05</td>\n",
       "      <td>5.221539e+05</td>\n",
       "      <td>2.301578e+06</td>\n",
       "      <td>2.823731e+06</td>\n",
       "    </tr>\n",
       "  </tbody>\n",
       "</table>\n",
       "</div>"
      ],
      "text/plain": [
       "                                           pairAddress     dexId  \\\n",
       "161         0x5c95d4B1C3321CF898D25949F41D50Be2dB5bc1d   uniswap   \n",
       "162         0x4628f13651eaD6793F8d838B34B8f8522Fb0cc52     curve   \n",
       "163         0x74345504Eaea3D9408fC69Ae7EB2d14095643c5b     curve   \n",
       "164  0x8a4f252812dFF2A8636E4F7EB249d8FC2E3bd77f-0x4...     curve   \n",
       "165  0x8353157092ED8Be69a9DF8F95af097bbF33Cb2aF-0x4...  balancer   \n",
       "166         0x670a72e6D22b0956C0D2573288F82DCc5d6E3a61     curve   \n",
       "167         0x635EF0056A597D13863B73825CcA297236578595     curve   \n",
       "168  0x8353157092ED8Be69a9DF8F95af097bbF33Cb2aF-0x4...  balancer   \n",
       "169  0x8a4f252812dFF2A8636E4F7EB249d8FC2E3bd77f-0x4...     curve   \n",
       "170  0x2b3fec4acbfce6ae91d529f88a5d6d438de36a457907...   uniswap   \n",
       "171         0x99e7b15df044e1b62e2e1774fD4469d54D9409aC  balancer   \n",
       "172  0x8Cd52ee292313C4D851e71A7064F096504aB3eE9-0x4...     curve   \n",
       "255         0x635EF0056A597D13863B73825CcA297236578595     curve   \n",
       "\n",
       "                             base_token_address  \\\n",
       "161  0x40D16FC0246aD3160Ccc09B8D0D3A2cD28aE6C2f   \n",
       "162  0x40D16FC0246aD3160Ccc09B8D0D3A2cD28aE6C2f   \n",
       "163  0x40D16FC0246aD3160Ccc09B8D0D3A2cD28aE6C2f   \n",
       "164  0x40D16FC0246aD3160Ccc09B8D0D3A2cD28aE6C2f   \n",
       "165  0x40D16FC0246aD3160Ccc09B8D0D3A2cD28aE6C2f   \n",
       "166  0x40D16FC0246aD3160Ccc09B8D0D3A2cD28aE6C2f   \n",
       "167  0x40D16FC0246aD3160Ccc09B8D0D3A2cD28aE6C2f   \n",
       "168  0x40D16FC0246aD3160Ccc09B8D0D3A2cD28aE6C2f   \n",
       "169  0x40D16FC0246aD3160Ccc09B8D0D3A2cD28aE6C2f   \n",
       "170  0x40D16FC0246aD3160Ccc09B8D0D3A2cD28aE6C2f   \n",
       "171  0x40D16FC0246aD3160Ccc09B8D0D3A2cD28aE6C2f   \n",
       "172  0x7f39C581F595B53c5cb19bD0b3f8dA6c935E2Ca0   \n",
       "255  0x40D16FC0246aD3160Ccc09B8D0D3A2cD28aE6C2f   \n",
       "\n",
       "                     base_token_name base_token_symbol  \\\n",
       "161                        Gho Token               GHO   \n",
       "162                        Gho Token               GHO   \n",
       "163                        Gho Token               GHO   \n",
       "164                        Gho Token               GHO   \n",
       "165                        Gho Token               GHO   \n",
       "166                        Gho Token               GHO   \n",
       "167                        Gho Token               GHO   \n",
       "168                        Gho Token               GHO   \n",
       "169                        Gho Token               GHO   \n",
       "170                        Gho Token               GHO   \n",
       "171                        Gho Token               GHO   \n",
       "172  Wrapped liquid staked Ether 2.0            wstETH   \n",
       "255                        Gho Token               GHO   \n",
       "\n",
       "                            quote_token_address         quote_token_name  \\\n",
       "161  0xA0b86991c6218b36c1d19D4a2e9Eb0cE3606eB48                 USD Coin   \n",
       "162  0x66a1E37c9b0eAddca17d3662D6c05F4DECf3e110               Resolv USD   \n",
       "163  0x085780639CC2cACd35E474e71f4d000e2405d8f6                 f(x) USD   \n",
       "164  0xC02aaA39b223FE8D0A0e5C4F27eAD9083C756Cc2            Wrapped Ether   \n",
       "165  0xdAC17F958D2ee523a2206206994597C13D831ec7               Tether USD   \n",
       "166  0x4c9EDD5852cd905f086C759E8383e09bff1E68B3                     USDe   \n",
       "167  0xf939E0A03FB07F59A73314E73794Be0E57ac1b4E  Curve.Fi USD Stablecoin   \n",
       "168  0xA0b86991c6218b36c1d19D4a2e9Eb0cE3606eB48                 USD Coin   \n",
       "169  0xcbB7C0000aB88B473b1f5aFd9ef808440eed33Bf     Coinbase Wrapped BTC   \n",
       "170  0x0000000000000000000000000000000000000000                    Ether   \n",
       "171  0xA0b86991c6218b36c1d19D4a2e9Eb0cE3606eB48                 USD Coin   \n",
       "172  0x40D16FC0246aD3160Ccc09B8D0D3A2cD28aE6C2f                Gho Token   \n",
       "255  0xf939E0A03FB07F59A73314E73794Be0E57ac1b4E  Curve.Fi USD Stablecoin   \n",
       "\n",
       "    quote_token_symbol  liquidity_usd  liquidity_base  liquidity_quote  \\\n",
       "161               USDC      816532.65    6.572120e+05     1.601380e+05   \n",
       "162                USR     6859967.24    5.129077e+06     1.736551e+06   \n",
       "163              fxUSD     4377779.07    1.855197e+06     2.529798e+06   \n",
       "164               WETH     2760977.08    1.370162e+06     3.836579e+02   \n",
       "165               USDT      248399.57    1.539850e+05     9.472700e+04   \n",
       "166               USDe     1813772.49    1.452886e+06     3.624760e+05   \n",
       "167             crvUSD     2823995.24    2.305739e+06     5.221560e+05   \n",
       "168               USDC      257733.50    1.498660e+05     1.080590e+05   \n",
       "169              cbBTC     2756177.52    1.368253e+06     1.168310e+01   \n",
       "170                ETH       12916.60    7.466224e+03     1.494200e+00   \n",
       "171               USDC        1026.55    4.125894e+02     6.148795e+02   \n",
       "172                GHO        3118.59    3.644000e-01     1.542965e+03   \n",
       "255             crvUSD     2823995.24    2.305739e+06     5.221560e+05   \n",
       "\n",
       "     usd_quote_liqudity  usd_base_liqudity  total_liquidity_usd  \n",
       "161        1.601068e+05       6.560258e+05         8.161326e+05  \n",
       "162        1.735431e+06       5.119820e+06         6.855251e+06  \n",
       "163        2.524978e+06       1.851849e+06         4.376826e+06  \n",
       "164        1.391468e+06       1.367689e+06         2.759157e+06  \n",
       "165        9.475928e+04       1.537071e+05         2.484664e+05  \n",
       "166        3.629185e+05       1.450264e+06         1.813182e+06  \n",
       "167        5.221539e+05       2.301578e+06         2.823731e+06  \n",
       "168        1.080379e+05       1.495955e+05         2.576334e+05  \n",
       "169        1.387392e+06       1.365784e+06         2.753175e+06  \n",
       "170                 NaN       7.452749e+03                  NaN  \n",
       "171        6.147595e+02       4.118447e+02         1.026604e+03  \n",
       "172        1.540181e+03       1.590671e+03         3.130852e+03  \n",
       "255        5.221539e+05       2.301578e+06         2.823731e+06  "
      ]
     },
     "execution_count": 124,
     "metadata": {},
     "output_type": "execute_result"
    }
   ],
   "source": [
    "token_symol_to_dfs['GHO']\n",
    "# note this method misses the big pool of \n",
    "# https://balancer.fi/pools/ethereum/v3/0x85b2b559bc2d21104c4defdd6efca8a20343361d\n",
    "\n",
    "# I need a way to get this that is not manual\n",
    "\n",
    "# tokens have aliases"
   ]
  },
  {
   "attachments": {
    "image.png": {
     "image/png": "[encoded data removed]"
    }
   },
   "cell_type": "markdown",
   "metadata": {},
   "source": [
    "![image.png](attachment:image.png)"
   ]
  },
  {
   "attachments": {
    "image.png": {
     "image/png": "[encoded data removed]"
    }
   },
   "cell_type": "markdown",
   "metadata": {},
   "source": [
    "![image.png](attachment:image.png)"
   ]
  },
  {
   "cell_type": "code",
   "execution_count": null,
   "metadata": {},
   "outputs": [],
   "source": [
    "# dex screener is not showing this as accurate it misses the othe rpools\n",
    "\n",
    "# maybe aliaises, GHO -> stGHO, aGHO (manually)"
   ]
  },
  {
   "cell_type": "code",
   "execution_count": null,
   "metadata": {},
   "outputs": [],
   "source": [
    "# it misses these pools "
   ]
  },
  {
   "cell_type": "markdown",
   "metadata": {},
   "source": [
    "# sanity check, this is showing on mainnet that there is only 8.7M total in the other pair, and we currently own, 4.4M GHO,\n",
    "\n",
    "that seems way too high\n",
    "\n",
    "check balancer and curve "
   ]
  },
  {
   "cell_type": "code",
   "execution_count": null,
   "metadata": {},
   "outputs": [
    {
     "data": {
      "text/plain": [
       "np.float64(8810014.0)"
      ]
     },
     "execution_count": 127,
     "metadata": {},
     "output_type": "execute_result"
    }
   ],
   "source": [
    "large_pairs_df[large_pairs_df['base_token_symbol']  == 'GHO']['usd_quote_liqudity'].sum().round()"
   ]
  },
  {
   "cell_type": "code",
   "execution_count": null,
   "metadata": {},
   "outputs": [],
   "source": [
    "large_pairs_df['usd_quote_liqudity_thousands'] = large_pairs_df['usd_quote_liqudity'] / 1000\n",
    "large_pairs_df['usd_base_liqudity_thousands'] = large_pairs_df['usd_base_liqudity'] / 1000\n"
   ]
  },
  {
   "cell_type": "code",
   "execution_count": null,
   "metadata": {},
   "outputs": [
    {
     "data": {
      "text/plain": [
       "np.float64(8810013.762777003)"
      ]
     },
     "execution_count": 129,
     "metadata": {},
     "output_type": "execute_result"
    }
   ],
   "source": [
    "large_pairs_df[large_pairs_df['base_token_symbol']  == 'GHO']['usd_quote_liqudity_thousands'].sum() * 1000\n",
    "# this is "
   ]
  },
  {
   "cell_type": "code",
   "execution_count": null,
   "metadata": {},
   "outputs": [
    {
     "data": {
      "application/vnd.microsoft.datawrangler.viewer.v0+json": {
       "columns": [
        {
         "name": "index",
         "rawType": "int64",
         "type": "integer"
        },
        {
         "name": "pairAddress",
         "rawType": "object",
         "type": "string"
        },
        {
         "name": "dexId",
         "rawType": "object",
         "type": "string"
        },
        {
         "name": "base_token_address",
         "rawType": "object",
         "type": "string"
        },
        {
         "name": "base_token_name",
         "rawType": "object",
         "type": "string"
        },
        {
         "name": "base_token_symbol",
         "rawType": "object",
         "type": "string"
        },
        {
         "name": "quote_token_address",
         "rawType": "object",
         "type": "string"
        },
        {
         "name": "quote_token_name",
         "rawType": "object",
         "type": "string"
        },
        {
         "name": "quote_token_symbol",
         "rawType": "object",
         "type": "string"
        },
        {
         "name": "liquidity_usd",
         "rawType": "float64",
         "type": "float"
        },
        {
         "name": "liquidity_base",
         "rawType": "float64",
         "type": "float"
        },
        {
         "name": "liquidity_quote",
         "rawType": "float64",
         "type": "float"
        },
        {
         "name": "usd_quote_liqudity",
         "rawType": "float64",
         "type": "float"
        },
        {
         "name": "usd_base_liqudity",
         "rawType": "float64",
         "type": "float"
        },
        {
         "name": "total_liquidity_usd",
         "rawType": "float64",
         "type": "float"
        },
        {
         "name": "usd_quote_liqudity_thousands",
         "rawType": "float64",
         "type": "float"
        },
        {
         "name": "usd_base_liqudity_thousands",
         "rawType": "float64",
         "type": "float"
        }
       ],
       "ref": "b6ea4d0f-db9f-4916-8d8a-8f4f9a7c4454",
       "rows": [
        [
         "161",
         "0x5c95d4B1C3321CF898D25949F41D50Be2dB5bc1d",
         "uniswap",
         "0x40D16FC0246aD3160Ccc09B8D0D3A2cD28aE6C2f",
         "Gho Token",
         "GHO",
         "0xA0b86991c6218b36c1d19D4a2e9Eb0cE3606eB48",
         "USD Coin",
         "USDC",
         "816532.65",
         "657212.0",
         "160138.0",
         "160106.759863798",
         "656025.8456600523",
         "816132.6055238503",
         "160.106759863798",
         "656.0258456600523"
        ],
        [
         "162",
         "0x4628f13651eaD6793F8d838B34B8f8522Fb0cc52",
         "curve",
         "0x40D16FC0246aD3160Ccc09B8D0D3A2cD28aE6C2f",
         "Gho Token",
         "GHO",
         "0x66a1E37c9b0eAddca17d3662D6c05F4DECf3e110",
         "Resolv USD",
         "USR",
         "6859967.24",
         "5129077.0",
         "1736551.0",
         "1735430.7089808544",
         "5119819.900398234",
         "6855250.6093790885",
         "1735.4307089808544",
         "5119.819900398234"
        ],
        [
         "163",
         "0x74345504Eaea3D9408fC69Ae7EB2d14095643c5b",
         "curve",
         "0x40D16FC0246aD3160Ccc09B8D0D3A2cD28aE6C2f",
         "Gho Token",
         "GHO",
         "0x085780639CC2cACd35E474e71f4d000e2405d8f6",
         "f(x) USD",
         "fxUSD",
         "4377779.07",
         "1855197.0",
         "2529798.0",
         "2524977.6399434414",
         "1851848.6892981138",
         "4376826.329241555",
         "2524.9776399434413",
         "1851.8486892981139"
        ],
        [
         "164",
         "0x8a4f252812dFF2A8636E4F7EB249d8FC2E3bd77f-0x40D16FC0246aD3160Ccc09B8D0D3A2cD28aE6C2f-0xC02aaA39b223FE8D0A0e5C4F27eAD9083C756Cc2",
         "curve",
         "0x40D16FC0246aD3160Ccc09B8D0D3A2cD28aE6C2f",
         "Gho Token",
         "GHO",
         "0xC02aaA39b223FE8D0A0e5C4F27eAD9083C756Cc2",
         "Wrapped Ether",
         "WETH",
         "2760977.08",
         "1370162.0",
         "383.6579",
         "1391468.3850967367",
         "1367689.0938407525",
         "2759157.478937489",
         "1391.4683850967367",
         "1367.6890938407525"
        ],
        [
         "165",
         "0x8353157092ED8Be69a9DF8F95af097bbF33Cb2aF-0x40D16FC0246aD3160Ccc09B8D0D3A2cD28aE6C2f-0xdAC17F958D2ee523a2206206994597C13D831ec7",
         "balancer",
         "0x40D16FC0246aD3160Ccc09B8D0D3A2cD28aE6C2f",
         "Gho Token",
         "GHO",
         "0xdAC17F958D2ee523a2206206994597C13D831ec7",
         "Tether USD",
         "USDT",
         "248399.57",
         "153985.0",
         "94727.0",
         "94759.28448734219",
         "153707.08362592763",
         "248466.3681132698",
         "94.75928448734219",
         "153.70708362592762"
        ],
        [
         "166",
         "0x670a72e6D22b0956C0D2573288F82DCc5d6E3a61",
         "curve",
         "0x40D16FC0246aD3160Ccc09B8D0D3A2cD28aE6C2f",
         "Gho Token",
         "GHO",
         "0x4c9EDD5852cd905f086C759E8383e09bff1E68B3",
         "USDe",
         "USDe",
         "1813772.49",
         "1452886.0",
         "362476.0",
         "362918.5432042245",
         "1450263.7912844724",
         "1813182.334488697",
         "362.9185432042245",
         "1450.2637912844725"
        ],
        [
         "167",
         "0x635EF0056A597D13863B73825CcA297236578595",
         "curve",
         "0x40D16FC0246aD3160Ccc09B8D0D3A2cD28aE6C2f",
         "Gho Token",
         "GHO",
         "0xf939E0A03FB07F59A73314E73794Be0E57ac1b4E",
         "Curve.Fi USD Stablecoin",
         "crvUSD",
         "2823995.24",
         "2305739.0",
         "522156.0",
         "522153.9097015923",
         "2301577.5386730055",
         "2823731.448374598",
         "522.1539097015923",
         "2301.5775386730056"
        ],
        [
         "168",
         "0x8353157092ED8Be69a9DF8F95af097bbF33Cb2aF-0x40D16FC0246aD3160Ccc09B8D0D3A2cD28aE6C2f-0xA0b86991c6218b36c1d19D4a2e9Eb0cE3606eB48",
         "balancer",
         "0x40D16FC0246aD3160Ccc09B8D0D3A2cD28aE6C2f",
         "Gho Token",
         "GHO",
         "0xA0b86991c6218b36c1d19D4a2e9Eb0cE3606eB48",
         "USD Coin",
         "USDC",
         "257733.5",
         "149866.0",
         "108059.0",
         "108037.91957013418",
         "149595.51771070735",
         "257633.43728084152",
         "108.03791957013418",
         "149.59551771070736"
        ],
        [
         "169",
         "0x8a4f252812dFF2A8636E4F7EB249d8FC2E3bd77f-0x40D16FC0246aD3160Ccc09B8D0D3A2cD28aE6C2f-0xcbB7C0000aB88B473b1f5aFd9ef808440eed33Bf",
         "curve",
         "0x40D16FC0246aD3160Ccc09B8D0D3A2cD28aE6C2f",
         "Gho Token",
         "GHO",
         "0xcbB7C0000aB88B473b1f5aFd9ef808440eed33Bf",
         "Coinbase Wrapped BTC",
         "cbBTC",
         "2756177.52",
         "1368253.0",
         "11.6831",
         "1387391.9426795742",
         "1365783.5392565923",
         "2753175.4819361665",
         "1387.3919426795742",
         "1365.7835392565923"
        ],
        [
         "170",
         "0x2b3fec4acbfce6ae91d529f88a5d6d438de36a457907c5c41bf755b55b959795",
         "uniswap",
         "0x40D16FC0246aD3160Ccc09B8D0D3A2cD28aE6C2f",
         "Gho Token",
         "GHO",
         "0x0000000000000000000000000000000000000000",
         "Ether",
         "ETH",
         "12916.6",
         "7466.2238",
         "1.4942",
         null,
         "7452.748553407742",
         null,
         null,
         "7.4527485534077424"
        ],
        [
         "171",
         "0x99e7b15df044e1b62e2e1774fD4469d54D9409aC",
         "balancer",
         "0x40D16FC0246aD3160Ccc09B8D0D3A2cD28aE6C2f",
         "Gho Token",
         "GHO",
         "0xA0b86991c6218b36c1d19D4a2e9Eb0cE3606eB48",
         "USD Coin",
         "USDC",
         "1026.55",
         "412.5894",
         "614.8795",
         "614.7595477130486",
         "411.8447472738988",
         "1026.6042949869475",
         "0.6147595477130486",
         "0.4118447472738988"
        ],
        [
         "255",
         "0x635EF0056A597D13863B73825CcA297236578595",
         "curve",
         "0x40D16FC0246aD3160Ccc09B8D0D3A2cD28aE6C2f",
         "Gho Token",
         "GHO",
         "0xf939E0A03FB07F59A73314E73794Be0E57ac1b4E",
         "Curve.Fi USD Stablecoin",
         "crvUSD",
         "2823995.24",
         "2305739.0",
         "522156.0",
         "522153.9097015923",
         "2301577.5386730055",
         "2823731.448374598",
         "522.1539097015923",
         "2301.5775386730056"
        ]
       ],
       "shape": {
        "columns": 16,
        "rows": 12
       }
      },
      "text/html": [
       "<div>\n",
       "<style scoped>\n",
       "    .dataframe tbody tr th:only-of-type {\n",
       "        vertical-align: middle;\n",
       "    }\n",
       "\n",
       "    .dataframe tbody tr th {\n",
       "        vertical-align: top;\n",
       "    }\n",
       "\n",
       "    .dataframe thead th {\n",
       "        text-align: right;\n",
       "    }\n",
       "</style>\n",
       "<table border=\"1\" class=\"dataframe\">\n",
       "  <thead>\n",
       "    <tr style=\"text-align: right;\">\n",
       "      <th></th>\n",
       "      <th>pairAddress</th>\n",
       "      <th>dexId</th>\n",
       "      <th>base_token_address</th>\n",
       "      <th>base_token_name</th>\n",
       "      <th>base_token_symbol</th>\n",
       "      <th>quote_token_address</th>\n",
       "      <th>quote_token_name</th>\n",
       "      <th>quote_token_symbol</th>\n",
       "      <th>liquidity_usd</th>\n",
       "      <th>liquidity_base</th>\n",
       "      <th>liquidity_quote</th>\n",
       "      <th>usd_quote_liqudity</th>\n",
       "      <th>usd_base_liqudity</th>\n",
       "      <th>total_liquidity_usd</th>\n",
       "      <th>usd_quote_liqudity_thousands</th>\n",
       "      <th>usd_base_liqudity_thousands</th>\n",
       "    </tr>\n",
       "  </thead>\n",
       "  <tbody>\n",
       "    <tr>\n",
       "      <th>161</th>\n",
       "      <td>0x5c95d4B1C3321CF898D25949F41D50Be2dB5bc1d</td>\n",
       "      <td>uniswap</td>\n",
       "      <td>0x40D16FC0246aD3160Ccc09B8D0D3A2cD28aE6C2f</td>\n",
       "      <td>Gho Token</td>\n",
       "      <td>GHO</td>\n",
       "      <td>0xA0b86991c6218b36c1d19D4a2e9Eb0cE3606eB48</td>\n",
       "      <td>USD Coin</td>\n",
       "      <td>USDC</td>\n",
       "      <td>816532.65</td>\n",
       "      <td>6.572120e+05</td>\n",
       "      <td>1.601380e+05</td>\n",
       "      <td>1.601068e+05</td>\n",
       "      <td>6.560258e+05</td>\n",
       "      <td>8.161326e+05</td>\n",
       "      <td>160.106760</td>\n",
       "      <td>656.025846</td>\n",
       "    </tr>\n",
       "    <tr>\n",
       "      <th>162</th>\n",
       "      <td>0x4628f13651eaD6793F8d838B34B8f8522Fb0cc52</td>\n",
       "      <td>curve</td>\n",
       "      <td>0x40D16FC0246aD3160Ccc09B8D0D3A2cD28aE6C2f</td>\n",
       "      <td>Gho Token</td>\n",
       "      <td>GHO</td>\n",
       "      <td>0x66a1E37c9b0eAddca17d3662D6c05F4DECf3e110</td>\n",
       "      <td>Resolv USD</td>\n",
       "      <td>USR</td>\n",
       "      <td>6859967.24</td>\n",
       "      <td>5.129077e+06</td>\n",
       "      <td>1.736551e+06</td>\n",
       "      <td>1.735431e+06</td>\n",
       "      <td>5.119820e+06</td>\n",
       "      <td>6.855251e+06</td>\n",
       "      <td>1735.430709</td>\n",
       "      <td>5119.819900</td>\n",
       "    </tr>\n",
       "    <tr>\n",
       "      <th>163</th>\n",
       "      <td>0x74345504Eaea3D9408fC69Ae7EB2d14095643c5b</td>\n",
       "      <td>curve</td>\n",
       "      <td>0x40D16FC0246aD3160Ccc09B8D0D3A2cD28aE6C2f</td>\n",
       "      <td>Gho Token</td>\n",
       "      <td>GHO</td>\n",
       "      <td>0x085780639CC2cACd35E474e71f4d000e2405d8f6</td>\n",
       "      <td>f(x) USD</td>\n",
       "      <td>fxUSD</td>\n",
       "      <td>4377779.07</td>\n",
       "      <td>1.855197e+06</td>\n",
       "      <td>2.529798e+06</td>\n",
       "      <td>2.524978e+06</td>\n",
       "      <td>1.851849e+06</td>\n",
       "      <td>4.376826e+06</td>\n",
       "      <td>2524.977640</td>\n",
       "      <td>1851.848689</td>\n",
       "    </tr>\n",
       "    <tr>\n",
       "      <th>164</th>\n",
       "      <td>0x8a4f252812dFF2A8636E4F7EB249d8FC2E3bd77f-0x4...</td>\n",
       "      <td>curve</td>\n",
       "      <td>0x40D16FC0246aD3160Ccc09B8D0D3A2cD28aE6C2f</td>\n",
       "      <td>Gho Token</td>\n",
       "      <td>GHO</td>\n",
       "      <td>0xC02aaA39b223FE8D0A0e5C4F27eAD9083C756Cc2</td>\n",
       "      <td>Wrapped Ether</td>\n",
       "      <td>WETH</td>\n",
       "      <td>2760977.08</td>\n",
       "      <td>1.370162e+06</td>\n",
       "      <td>3.836579e+02</td>\n",
       "      <td>1.391468e+06</td>\n",
       "      <td>1.367689e+06</td>\n",
       "      <td>2.759157e+06</td>\n",
       "      <td>1391.468385</td>\n",
       "      <td>1367.689094</td>\n",
       "    </tr>\n",
       "    <tr>\n",
       "      <th>165</th>\n",
       "      <td>0x8353157092ED8Be69a9DF8F95af097bbF33Cb2aF-0x4...</td>\n",
       "      <td>balancer</td>\n",
       "      <td>0x40D16FC0246aD3160Ccc09B8D0D3A2cD28aE6C2f</td>\n",
       "      <td>Gho Token</td>\n",
       "      <td>GHO</td>\n",
       "      <td>0xdAC17F958D2ee523a2206206994597C13D831ec7</td>\n",
       "      <td>Tether USD</td>\n",
       "      <td>USDT</td>\n",
       "      <td>248399.57</td>\n",
       "      <td>1.539850e+05</td>\n",
       "      <td>9.472700e+04</td>\n",
       "      <td>9.475928e+04</td>\n",
       "      <td>1.537071e+05</td>\n",
       "      <td>2.484664e+05</td>\n",
       "      <td>94.759284</td>\n",
       "      <td>153.707084</td>\n",
       "    </tr>\n",
       "    <tr>\n",
       "      <th>166</th>\n",
       "      <td>0x670a72e6D22b0956C0D2573288F82DCc5d6E3a61</td>\n",
       "      <td>curve</td>\n",
       "      <td>0x40D16FC0246aD3160Ccc09B8D0D3A2cD28aE6C2f</td>\n",
       "      <td>Gho Token</td>\n",
       "      <td>GHO</td>\n",
       "      <td>0x4c9EDD5852cd905f086C759E8383e09bff1E68B3</td>\n",
       "      <td>USDe</td>\n",
       "      <td>USDe</td>\n",
       "      <td>1813772.49</td>\n",
       "      <td>1.452886e+06</td>\n",
       "      <td>3.624760e+05</td>\n",
       "      <td>3.629185e+05</td>\n",
       "      <td>1.450264e+06</td>\n",
       "      <td>1.813182e+06</td>\n",
       "      <td>362.918543</td>\n",
       "      <td>1450.263791</td>\n",
       "    </tr>\n",
       "    <tr>\n",
       "      <th>167</th>\n",
       "      <td>0x635EF0056A597D13863B73825CcA297236578595</td>\n",
       "      <td>curve</td>\n",
       "      <td>0x40D16FC0246aD3160Ccc09B8D0D3A2cD28aE6C2f</td>\n",
       "      <td>Gho Token</td>\n",
       "      <td>GHO</td>\n",
       "      <td>0xf939E0A03FB07F59A73314E73794Be0E57ac1b4E</td>\n",
       "      <td>Curve.Fi USD Stablecoin</td>\n",
       "      <td>crvUSD</td>\n",
       "      <td>2823995.24</td>\n",
       "      <td>2.305739e+06</td>\n",
       "      <td>5.221560e+05</td>\n",
       "      <td>5.221539e+05</td>\n",
       "      <td>2.301578e+06</td>\n",
       "      <td>2.823731e+06</td>\n",
       "      <td>522.153910</td>\n",
       "      <td>2301.577539</td>\n",
       "    </tr>\n",
       "    <tr>\n",
       "      <th>168</th>\n",
       "      <td>0x8353157092ED8Be69a9DF8F95af097bbF33Cb2aF-0x4...</td>\n",
       "      <td>balancer</td>\n",
       "      <td>0x40D16FC0246aD3160Ccc09B8D0D3A2cD28aE6C2f</td>\n",
       "      <td>Gho Token</td>\n",
       "      <td>GHO</td>\n",
       "      <td>0xA0b86991c6218b36c1d19D4a2e9Eb0cE3606eB48</td>\n",
       "      <td>USD Coin</td>\n",
       "      <td>USDC</td>\n",
       "      <td>257733.50</td>\n",
       "      <td>1.498660e+05</td>\n",
       "      <td>1.080590e+05</td>\n",
       "      <td>1.080379e+05</td>\n",
       "      <td>1.495955e+05</td>\n",
       "      <td>2.576334e+05</td>\n",
       "      <td>108.037920</td>\n",
       "      <td>149.595518</td>\n",
       "    </tr>\n",
       "    <tr>\n",
       "      <th>169</th>\n",
       "      <td>0x8a4f252812dFF2A8636E4F7EB249d8FC2E3bd77f-0x4...</td>\n",
       "      <td>curve</td>\n",
       "      <td>0x40D16FC0246aD3160Ccc09B8D0D3A2cD28aE6C2f</td>\n",
       "      <td>Gho Token</td>\n",
       "      <td>GHO</td>\n",
       "      <td>0xcbB7C0000aB88B473b1f5aFd9ef808440eed33Bf</td>\n",
       "      <td>Coinbase Wrapped BTC</td>\n",
       "      <td>cbBTC</td>\n",
       "      <td>2756177.52</td>\n",
       "      <td>1.368253e+06</td>\n",
       "      <td>1.168310e+01</td>\n",
       "      <td>1.387392e+06</td>\n",
       "      <td>1.365784e+06</td>\n",
       "      <td>2.753175e+06</td>\n",
       "      <td>1387.391943</td>\n",
       "      <td>1365.783539</td>\n",
       "    </tr>\n",
       "    <tr>\n",
       "      <th>170</th>\n",
       "      <td>0x2b3fec4acbfce6ae91d529f88a5d6d438de36a457907...</td>\n",
       "      <td>uniswap</td>\n",
       "      <td>0x40D16FC0246aD3160Ccc09B8D0D3A2cD28aE6C2f</td>\n",
       "      <td>Gho Token</td>\n",
       "      <td>GHO</td>\n",
       "      <td>0x0000000000000000000000000000000000000000</td>\n",
       "      <td>Ether</td>\n",
       "      <td>ETH</td>\n",
       "      <td>12916.60</td>\n",
       "      <td>7.466224e+03</td>\n",
       "      <td>1.494200e+00</td>\n",
       "      <td>NaN</td>\n",
       "      <td>7.452749e+03</td>\n",
       "      <td>NaN</td>\n",
       "      <td>NaN</td>\n",
       "      <td>7.452749</td>\n",
       "    </tr>\n",
       "    <tr>\n",
       "      <th>171</th>\n",
       "      <td>0x99e7b15df044e1b62e2e1774fD4469d54D9409aC</td>\n",
       "      <td>balancer</td>\n",
       "      <td>0x40D16FC0246aD3160Ccc09B8D0D3A2cD28aE6C2f</td>\n",
       "      <td>Gho Token</td>\n",
       "      <td>GHO</td>\n",
       "      <td>0xA0b86991c6218b36c1d19D4a2e9Eb0cE3606eB48</td>\n",
       "      <td>USD Coin</td>\n",
       "      <td>USDC</td>\n",
       "      <td>1026.55</td>\n",
       "      <td>4.125894e+02</td>\n",
       "      <td>6.148795e+02</td>\n",
       "      <td>6.147595e+02</td>\n",
       "      <td>4.118447e+02</td>\n",
       "      <td>1.026604e+03</td>\n",
       "      <td>0.614760</td>\n",
       "      <td>0.411845</td>\n",
       "    </tr>\n",
       "    <tr>\n",
       "      <th>255</th>\n",
       "      <td>0x635EF0056A597D13863B73825CcA297236578595</td>\n",
       "      <td>curve</td>\n",
       "      <td>0x40D16FC0246aD3160Ccc09B8D0D3A2cD28aE6C2f</td>\n",
       "      <td>Gho Token</td>\n",
       "      <td>GHO</td>\n",
       "      <td>0xf939E0A03FB07F59A73314E73794Be0E57ac1b4E</td>\n",
       "      <td>Curve.Fi USD Stablecoin</td>\n",
       "      <td>crvUSD</td>\n",
       "      <td>2823995.24</td>\n",
       "      <td>2.305739e+06</td>\n",
       "      <td>5.221560e+05</td>\n",
       "      <td>5.221539e+05</td>\n",
       "      <td>2.301578e+06</td>\n",
       "      <td>2.823731e+06</td>\n",
       "      <td>522.153910</td>\n",
       "      <td>2301.577539</td>\n",
       "    </tr>\n",
       "  </tbody>\n",
       "</table>\n",
       "</div>"
      ],
      "text/plain": [
       "                                           pairAddress     dexId  \\\n",
       "161         0x5c95d4B1C3321CF898D25949F41D50Be2dB5bc1d   uniswap   \n",
       "162         0x4628f13651eaD6793F8d838B34B8f8522Fb0cc52     curve   \n",
       "163         0x74345504Eaea3D9408fC69Ae7EB2d14095643c5b     curve   \n",
       "164  0x8a4f252812dFF2A8636E4F7EB249d8FC2E3bd77f-0x4...     curve   \n",
       "165  0x8353157092ED8Be69a9DF8F95af097bbF33Cb2aF-0x4...  balancer   \n",
       "166         0x670a72e6D22b0956C0D2573288F82DCc5d6E3a61     curve   \n",
       "167         0x635EF0056A597D13863B73825CcA297236578595     curve   \n",
       "168  0x8353157092ED8Be69a9DF8F95af097bbF33Cb2aF-0x4...  balancer   \n",
       "169  0x8a4f252812dFF2A8636E4F7EB249d8FC2E3bd77f-0x4...     curve   \n",
       "170  0x2b3fec4acbfce6ae91d529f88a5d6d438de36a457907...   uniswap   \n",
       "171         0x99e7b15df044e1b62e2e1774fD4469d54D9409aC  balancer   \n",
       "255         0x635EF0056A597D13863B73825CcA297236578595     curve   \n",
       "\n",
       "                             base_token_address base_token_name  \\\n",
       "161  0x40D16FC0246aD3160Ccc09B8D0D3A2cD28aE6C2f       Gho Token   \n",
       "162  0x40D16FC0246aD3160Ccc09B8D0D3A2cD28aE6C2f       Gho Token   \n",
       "163  0x40D16FC0246aD3160Ccc09B8D0D3A2cD28aE6C2f       Gho Token   \n",
       "164  0x40D16FC0246aD3160Ccc09B8D0D3A2cD28aE6C2f       Gho Token   \n",
       "165  0x40D16FC0246aD3160Ccc09B8D0D3A2cD28aE6C2f       Gho Token   \n",
       "166  0x40D16FC0246aD3160Ccc09B8D0D3A2cD28aE6C2f       Gho Token   \n",
       "167  0x40D16FC0246aD3160Ccc09B8D0D3A2cD28aE6C2f       Gho Token   \n",
       "168  0x40D16FC0246aD3160Ccc09B8D0D3A2cD28aE6C2f       Gho Token   \n",
       "169  0x40D16FC0246aD3160Ccc09B8D0D3A2cD28aE6C2f       Gho Token   \n",
       "170  0x40D16FC0246aD3160Ccc09B8D0D3A2cD28aE6C2f       Gho Token   \n",
       "171  0x40D16FC0246aD3160Ccc09B8D0D3A2cD28aE6C2f       Gho Token   \n",
       "255  0x40D16FC0246aD3160Ccc09B8D0D3A2cD28aE6C2f       Gho Token   \n",
       "\n",
       "    base_token_symbol                         quote_token_address  \\\n",
       "161               GHO  0xA0b86991c6218b36c1d19D4a2e9Eb0cE3606eB48   \n",
       "162               GHO  0x66a1E37c9b0eAddca17d3662D6c05F4DECf3e110   \n",
       "163               GHO  0x085780639CC2cACd35E474e71f4d000e2405d8f6   \n",
       "164               GHO  0xC02aaA39b223FE8D0A0e5C4F27eAD9083C756Cc2   \n",
       "165               GHO  0xdAC17F958D2ee523a2206206994597C13D831ec7   \n",
       "166               GHO  0x4c9EDD5852cd905f086C759E8383e09bff1E68B3   \n",
       "167               GHO  0xf939E0A03FB07F59A73314E73794Be0E57ac1b4E   \n",
       "168               GHO  0xA0b86991c6218b36c1d19D4a2e9Eb0cE3606eB48   \n",
       "169               GHO  0xcbB7C0000aB88B473b1f5aFd9ef808440eed33Bf   \n",
       "170               GHO  0x0000000000000000000000000000000000000000   \n",
       "171               GHO  0xA0b86991c6218b36c1d19D4a2e9Eb0cE3606eB48   \n",
       "255               GHO  0xf939E0A03FB07F59A73314E73794Be0E57ac1b4E   \n",
       "\n",
       "            quote_token_name quote_token_symbol  liquidity_usd  \\\n",
       "161                 USD Coin               USDC      816532.65   \n",
       "162               Resolv USD                USR     6859967.24   \n",
       "163                 f(x) USD              fxUSD     4377779.07   \n",
       "164            Wrapped Ether               WETH     2760977.08   \n",
       "165               Tether USD               USDT      248399.57   \n",
       "166                     USDe               USDe     1813772.49   \n",
       "167  Curve.Fi USD Stablecoin             crvUSD     2823995.24   \n",
       "168                 USD Coin               USDC      257733.50   \n",
       "169     Coinbase Wrapped BTC              cbBTC     2756177.52   \n",
       "170                    Ether                ETH       12916.60   \n",
       "171                 USD Coin               USDC        1026.55   \n",
       "255  Curve.Fi USD Stablecoin             crvUSD     2823995.24   \n",
       "\n",
       "     liquidity_base  liquidity_quote  usd_quote_liqudity  usd_base_liqudity  \\\n",
       "161    6.572120e+05     1.601380e+05        1.601068e+05       6.560258e+05   \n",
       "162    5.129077e+06     1.736551e+06        1.735431e+06       5.119820e+06   \n",
       "163    1.855197e+06     2.529798e+06        2.524978e+06       1.851849e+06   \n",
       "164    1.370162e+06     3.836579e+02        1.391468e+06       1.367689e+06   \n",
       "165    1.539850e+05     9.472700e+04        9.475928e+04       1.537071e+05   \n",
       "166    1.452886e+06     3.624760e+05        3.629185e+05       1.450264e+06   \n",
       "167    2.305739e+06     5.221560e+05        5.221539e+05       2.301578e+06   \n",
       "168    1.498660e+05     1.080590e+05        1.080379e+05       1.495955e+05   \n",
       "169    1.368253e+06     1.168310e+01        1.387392e+06       1.365784e+06   \n",
       "170    7.466224e+03     1.494200e+00                 NaN       7.452749e+03   \n",
       "171    4.125894e+02     6.148795e+02        6.147595e+02       4.118447e+02   \n",
       "255    2.305739e+06     5.221560e+05        5.221539e+05       2.301578e+06   \n",
       "\n",
       "     total_liquidity_usd  usd_quote_liqudity_thousands  \\\n",
       "161         8.161326e+05                    160.106760   \n",
       "162         6.855251e+06                   1735.430709   \n",
       "163         4.376826e+06                   2524.977640   \n",
       "164         2.759157e+06                   1391.468385   \n",
       "165         2.484664e+05                     94.759284   \n",
       "166         1.813182e+06                    362.918543   \n",
       "167         2.823731e+06                    522.153910   \n",
       "168         2.576334e+05                    108.037920   \n",
       "169         2.753175e+06                   1387.391943   \n",
       "170                  NaN                           NaN   \n",
       "171         1.026604e+03                      0.614760   \n",
       "255         2.823731e+06                    522.153910   \n",
       "\n",
       "     usd_base_liqudity_thousands  \n",
       "161                   656.025846  \n",
       "162                  5119.819900  \n",
       "163                  1851.848689  \n",
       "164                  1367.689094  \n",
       "165                   153.707084  \n",
       "166                  1450.263791  \n",
       "167                  2301.577539  \n",
       "168                   149.595518  \n",
       "169                  1365.783539  \n",
       "170                     7.452749  \n",
       "171                     0.411845  \n",
       "255                  2301.577539  "
      ]
     },
     "execution_count": 130,
     "metadata": {},
     "output_type": "execute_result"
    }
   ],
   "source": [
    "large_pairs_df[large_pairs_df['base_token_symbol']  == 'GHO']"
   ]
  },
  {
   "cell_type": "code",
   "execution_count": null,
   "metadata": {},
   "outputs": [
    {
     "data": {
      "application/vnd.microsoft.datawrangler.viewer.v0+json": {
       "columns": [
        {
         "name": "index",
         "rawType": "int64",
         "type": "integer"
        },
        {
         "name": "token_address",
         "rawType": "object",
         "type": "string"
        },
        {
         "name": "usd_price",
         "rawType": "float64",
         "type": "float"
        },
        {
         "name": "last_updated_at",
         "rawType": "int64",
         "type": "integer"
        }
       ],
       "ref": "e406080f-8035-4921-ac0a-6cb89cece052",
       "rows": [
        [
         "62",
         "0x40D16FC0246aD3160Ccc09B8D0D3A2cD28aE6C2f",
         "0.9984738646269444",
         "1753314203"
        ]
       ],
       "shape": {
        "columns": 3,
        "rows": 1
       }
      },
      "text/html": [
       "<div>\n",
       "<style scoped>\n",
       "    .dataframe tbody tr th:only-of-type {\n",
       "        vertical-align: middle;\n",
       "    }\n",
       "\n",
       "    .dataframe tbody tr th {\n",
       "        vertical-align: top;\n",
       "    }\n",
       "\n",
       "    .dataframe thead th {\n",
       "        text-align: right;\n",
       "    }\n",
       "</style>\n",
       "<table border=\"1\" class=\"dataframe\">\n",
       "  <thead>\n",
       "    <tr style=\"text-align: right;\">\n",
       "      <th></th>\n",
       "      <th>token_address</th>\n",
       "      <th>usd_price</th>\n",
       "      <th>last_updated_at</th>\n",
       "    </tr>\n",
       "  </thead>\n",
       "  <tbody>\n",
       "    <tr>\n",
       "      <th>62</th>\n",
       "      <td>0x40D16FC0246aD3160Ccc09B8D0D3A2cD28aE6C2f</td>\n",
       "      <td>0.998474</td>\n",
       "      <td>1753314203</td>\n",
       "    </tr>\n",
       "  </tbody>\n",
       "</table>\n",
       "</div>"
      ],
      "text/plain": [
       "                                 token_address  usd_price  last_updated_at\n",
       "62  0x40D16FC0246aD3160Ccc09B8D0D3A2cD28aE6C2f   0.998474       1753314203"
      ]
     },
     "execution_count": 131,
     "metadata": {},
     "output_type": "execute_result"
    }
   ],
   "source": [
    "prices[prices['token_address'] == '0x40D16FC0246aD3160Ccc09B8D0D3A2cD28aE6C2f']\n",
    "\n",
    "# "
   ]
  },
  {
   "cell_type": "code",
   "execution_count": null,
   "metadata": {},
   "outputs": [
    {
     "data": {
      "text/plain": [
       "Index(['pairAddress', 'dexId', 'base_token_address', 'base_token_name',\n",
       "       'base_token_symbol', 'quote_token_address', 'quote_token_name',\n",
       "       'quote_token_symbol', 'liquidity_usd', 'liquidity_base',\n",
       "       'liquidity_quote', 'usd_quote_liqudity', 'usd_base_liqudity',\n",
       "       'total_liquidity_usd'],\n",
       "      dtype='object')"
      ]
     },
     "execution_count": 132,
     "metadata": {},
     "output_type": "execute_result"
    }
   ],
   "source": [
    "sub_df.columns"
   ]
  },
  {
   "cell_type": "code",
   "execution_count": null,
   "metadata": {},
   "outputs": [
    {
     "data": {
      "application/vnd.microsoft.datawrangler.viewer.v0+json": {
       "columns": [
        {
         "name": "from_token",
         "rawType": "object",
         "type": "string"
        },
        {
         "name": "pair_liqudity",
         "rawType": "float64",
         "type": "float"
        }
       ],
       "ref": "d27d6a20-7a10-4419-b6c1-85469aa8bf1f",
       "rows": [
        [
         "WETH",
         "372858441.0"
        ],
        [
         "USDT",
         "298574479.0"
        ],
        [
         "USDC",
         "147661101.0"
        ],
        [
         "scrvUSD",
         "123457919.0"
        ],
        [
         "sUSDe",
         "110992065.0"
        ],
        [
         "sUSDS",
         "57660399.0"
        ],
        [
         "DOLA",
         "54993919.0"
        ],
        [
         "osETH",
         "47222519.0"
        ],
        [
         "rETH",
         "43859893.0"
        ],
        [
         "crvUSD",
         "40858051.0"
        ],
        [
         "reUSD",
         "35485784.0"
        ],
        [
         "stETH",
         "28711131.0"
        ],
        [
         "weETH",
         "21735814.0"
        ],
        [
         "pxETH",
         "19553601.0"
        ],
        [
         "sDOLA",
         "14367567.0"
        ],
        [
         "GHO",
         "8811604.0"
        ],
        [
         "deUSD",
         "7116893.0"
        ],
        [
         "alUSD",
         "6250563.0"
        ],
        [
         "ezETH",
         "1079263.0"
        ],
        [
         "ETHx",
         "216579.0"
        ]
       ],
       "shape": {
        "columns": 1,
        "rows": 20
       }
      },
      "text/plain": [
       "from_token\n",
       "WETH       372858441.0\n",
       "USDT       298574479.0\n",
       "USDC       147661101.0\n",
       "scrvUSD    123457919.0\n",
       "sUSDe      110992065.0\n",
       "sUSDS       57660399.0\n",
       "DOLA        54993919.0\n",
       "osETH       47222519.0\n",
       "rETH        43859893.0\n",
       "crvUSD      40858051.0\n",
       "reUSD       35485784.0\n",
       "stETH       28711131.0\n",
       "weETH       21735814.0\n",
       "pxETH       19553601.0\n",
       "sDOLA       14367567.0\n",
       "GHO          8811604.0\n",
       "deUSD        7116893.0\n",
       "alUSD        6250563.0\n",
       "ezETH        1079263.0\n",
       "ETHx          216579.0\n",
       "Name: pair_liqudity, dtype: float64"
      ]
     },
     "execution_count": 133,
     "metadata": {},
     "output_type": "execute_result"
    }
   ],
   "source": [
    "rows = [\n",
    "    {\"from_token\": outer_k, \"to_token\": inner_k, \"pair_liqudity\": v}\n",
    "    for outer_k, inner_dict in our_token_to_total_other_token_liquidity.items()\n",
    "    for inner_k, v in inner_dict.items()\n",
    "]\n",
    "\n",
    "exit_liqudity_df = pd.DataFrame(rows)\n",
    "exit_liqudity_df = exit_liqudity_df.groupby('from_token')['pair_liqudity'].sum().round().sort_values(ascending=False)\n",
    "exit_liqudity_df"
   ]
  },
  {
   "cell_type": "code",
   "execution_count": null,
   "metadata": {},
   "outputs": [
    {
     "data": {
      "application/vnd.plotly.v1+json": {
       "config": {
        "plotlyServerURL": "https://plot.ly"
       },
       "data": [
        {
         "alignmentgroup": "True",
         "hovertemplate": "variable=pair_liqudity<br>from_token=%{x}<br>value=%{y}<extra></extra>",
         "legendgroup": "pair_liqudity",
         "marker": {
          "color": "#636efa",
          "pattern": {
           "shape": ""
          }
         },
         "name": "pair_liqudity",
         "offsetgroup": "pair_liqudity",
         "orientation": "v",
         "showlegend": true,
         "textposition": "auto",
         "type": "bar",
         "x": [
          "WETH",
          "USDT",
          "USDC",
          "scrvUSD",
          "sUSDe",
          "sUSDS",
          "DOLA",
          "osETH",
          "rETH",
          "crvUSD",
          "reUSD",
          "stETH",
          "weETH",
          "pxETH",
          "sDOLA",
          "GHO",
          "deUSD",
          "alUSD",
          "ezETH",
          "ETHx"
         ],
         "xaxis": "x",
         "y": [
          372858441,
          298574479,
          147661101,
          123457919,
          110992065,
          57660399,
          54993919,
          47222519,
          43859893,
          40858051,
          35485784,
          28711131,
          21735814,
          19553601,
          14367567,
          8811604,
          7116893,
          6250563,
          1079263,
          216579
         ],
         "yaxis": "y"
        },
        {
         "alignmentgroup": "True",
         "hovertemplate": "variable=quantity<br>from_token=%{x}<br>value=%{y}<extra></extra>",
         "legendgroup": "quantity",
         "marker": {
          "color": "#EF553B",
          "pattern": {
           "shape": ""
          }
         },
         "name": "quantity",
         "offsetgroup": "quantity",
         "orientation": "v",
         "showlegend": true,
         "textposition": "auto",
         "type": "bar",
         "x": [
          "WETH",
          "USDT",
          "USDC",
          "scrvUSD",
          "sUSDe",
          "sUSDS",
          "DOLA",
          "osETH",
          "rETH",
          "crvUSD",
          "reUSD",
          "stETH",
          "weETH",
          "pxETH",
          "sDOLA",
          "GHO",
          "deUSD",
          "alUSD",
          "ezETH",
          "ETHx"
         ],
         "xaxis": "x",
         "y": [
          2957.8543676823147,
          1266271.271889,
          20206433.228757,
          3626956.849186952,
          218036.8503386586,
          2553636.495694081,
          305667.4563748959,
          2224.8452870935303,
          580.9810511933888,
          1307911.0968486802,
          1114967.04023712,
          683.6714754555898,
          2210.098009445518,
          1966.5014900622928,
          1391854.2751143256,
          9563565.553459598,
          50597.95474980683,
          550273.2532339104,
          57.789477097784555,
          689.7341259502327
         ],
         "yaxis": "y"
        }
       ],
       "layout": {
        "barmode": "group",
        "legend": {
         "title": {
          "text": "variable"
         },
         "tracegroupgap": 0
        },
        "template": {
         "data": {
          "bar": [
           {
            "error_x": {
             "color": "#2a3f5f"
            },
            "error_y": {
             "color": "#2a3f5f"
            },
            "marker": {
             "line": {
              "color": "white",
              "width": 0.5
             },
             "pattern": {
              "fillmode": "overlay",
              "size": 10,
              "solidity": 0.2
             }
            },
            "type": "bar"
           }
          ],
          "barpolar": [
           {
            "marker": {
             "line": {
              "color": "white",
              "width": 0.5
             },
             "pattern": {
              "fillmode": "overlay",
              "size": 10,
              "solidity": 0.2
             }
            },
            "type": "barpolar"
           }
          ],
          "carpet": [
           {
            "aaxis": {
             "endlinecolor": "#2a3f5f",
             "gridcolor": "#C8D4E3",
             "linecolor": "#C8D4E3",
             "minorgridcolor": "#C8D4E3",
             "startlinecolor": "#2a3f5f"
            },
            "baxis": {
             "endlinecolor": "#2a3f5f",
             "gridcolor": "#C8D4E3",
             "linecolor": "#C8D4E3",
             "minorgridcolor": "#C8D4E3",
             "startlinecolor": "#2a3f5f"
            },
            "type": "carpet"
           }
          ],
          "choropleth": [
           {
            "colorbar": {
             "outlinewidth": 0,
             "ticks": ""
            },
            "type": "choropleth"
           }
          ],
          "contour": [
           {
            "colorbar": {
             "outlinewidth": 0,
             "ticks": ""
            },
            "colorscale": [
             [
              0,
              "#0d0887"
             ],
             [
              0.1111111111111111,
              "#46039f"
             ],
             [
              0.2222222222222222,
              "#7201a8"
             ],
             [
              0.3333333333333333,
              "#9c179e"
             ],
             [
              0.4444444444444444,
              "#bd3786"
             ],
             [
              0.5555555555555556,
              "#d8576b"
             ],
             [
              0.6666666666666666,
              "#ed7953"
             ],
             [
              0.7777777777777778,
              "#fb9f3a"
             ],
             [
              0.8888888888888888,
              "#fdca26"
             ],
             [
              1,
              "#f0f921"
             ]
            ],
            "type": "contour"
           }
          ],
          "contourcarpet": [
           {
            "colorbar": {
             "outlinewidth": 0,
             "ticks": ""
            },
            "type": "contourcarpet"
           }
          ],
          "heatmap": [
           {
            "colorbar": {
             "outlinewidth": 0,
             "ticks": ""
            },
            "colorscale": [
             [
              0,
              "#0d0887"
             ],
             [
              0.1111111111111111,
              "#46039f"
             ],
             [
              0.2222222222222222,
              "#7201a8"
             ],
             [
              0.3333333333333333,
              "#9c179e"
             ],
             [
              0.4444444444444444,
              "#bd3786"
             ],
             [
              0.5555555555555556,
              "#d8576b"
             ],
             [
              0.6666666666666666,
              "#ed7953"
             ],
             [
              0.7777777777777778,
              "#fb9f3a"
             ],
             [
              0.8888888888888888,
              "#fdca26"
             ],
             [
              1,
              "#f0f921"
             ]
            ],
            "type": "heatmap"
           }
          ],
          "heatmapgl": [
           {
            "colorbar": {
             "outlinewidth": 0,
             "ticks": ""
            },
            "colorscale": [
             [
              0,
              "#0d0887"
             ],
             [
              0.1111111111111111,
              "#46039f"
             ],
             [
              0.2222222222222222,
              "#7201a8"
             ],
             [
              0.3333333333333333,
              "#9c179e"
             ],
             [
              0.4444444444444444,
              "#bd3786"
             ],
             [
              0.5555555555555556,
              "#d8576b"
             ],
             [
              0.6666666666666666,
              "#ed7953"
             ],
             [
              0.7777777777777778,
              "#fb9f3a"
             ],
             [
              0.8888888888888888,
              "#fdca26"
             ],
             [
              1,
              "#f0f921"
             ]
            ],
            "type": "heatmapgl"
           }
          ],
          "histogram": [
           {
            "marker": {
             "pattern": {
              "fillmode": "overlay",
              "size": 10,
              "solidity": 0.2
             }
            },
            "type": "histogram"
           }
          ],
          "histogram2d": [
           {
            "colorbar": {
             "outlinewidth": 0,
             "ticks": ""
            },
            "colorscale": [
             [
              0,
              "#0d0887"
             ],
             [
              0.1111111111111111,
              "#46039f"
             ],
             [
              0.2222222222222222,
              "#7201a8"
             ],
             [
              0.3333333333333333,
              "#9c179e"
             ],
             [
              0.4444444444444444,
              "#bd3786"
             ],
             [
              0.5555555555555556,
              "#d8576b"
             ],
             [
              0.6666666666666666,
              "#ed7953"
             ],
             [
              0.7777777777777778,
              "#fb9f3a"
             ],
             [
              0.8888888888888888,
              "#fdca26"
             ],
             [
              1,
              "#f0f921"
             ]
            ],
            "type": "histogram2d"
           }
          ],
          "histogram2dcontour": [
           {
            "colorbar": {
             "outlinewidth": 0,
             "ticks": ""
            },
            "colorscale": [
             [
              0,
              "#0d0887"
             ],
             [
              0.1111111111111111,
              "#46039f"
             ],
             [
              0.2222222222222222,
              "#7201a8"
             ],
             [
              0.3333333333333333,
              "#9c179e"
             ],
             [
              0.4444444444444444,
              "#bd3786"
             ],
             [
              0.5555555555555556,
              "#d8576b"
             ],
             [
              0.6666666666666666,
              "#ed7953"
             ],
             [
              0.7777777777777778,
              "#fb9f3a"
             ],
             [
              0.8888888888888888,
              "#fdca26"
             ],
             [
              1,
              "#f0f921"
             ]
            ],
            "type": "histogram2dcontour"
           }
          ],
          "mesh3d": [
           {
            "colorbar": {
             "outlinewidth": 0,
             "ticks": ""
            },
            "type": "mesh3d"
           }
          ],
          "parcoords": [
           {
            "line": {
             "colorbar": {
              "outlinewidth": 0,
              "ticks": ""
             }
            },
            "type": "parcoords"
           }
          ],
          "pie": [
           {
            "automargin": true,
            "type": "pie"
           }
          ],
          "scatter": [
           {
            "fillpattern": {
             "fillmode": "overlay",
             "size": 10,
             "solidity": 0.2
            },
            "type": "scatter"
           }
          ],
          "scatter3d": [
           {
            "line": {
             "colorbar": {
              "outlinewidth": 0,
              "ticks": ""
             }
            },
            "marker": {
             "colorbar": {
              "outlinewidth": 0,
              "ticks": ""
             }
            },
            "type": "scatter3d"
           }
          ],
          "scattercarpet": [
           {
            "marker": {
             "colorbar": {
              "outlinewidth": 0,
              "ticks": ""
             }
            },
            "type": "scattercarpet"
           }
          ],
          "scattergeo": [
           {
            "marker": {
             "colorbar": {
              "outlinewidth": 0,
              "ticks": ""
             }
            },
            "type": "scattergeo"
           }
          ],
          "scattergl": [
           {
            "marker": {
             "colorbar": {
              "outlinewidth": 0,
              "ticks": ""
             }
            },
            "type": "scattergl"
           }
          ],
          "scattermapbox": [
           {
            "marker": {
             "colorbar": {
              "outlinewidth": 0,
              "ticks": ""
             }
            },
            "type": "scattermapbox"
           }
          ],
          "scatterpolar": [
           {
            "marker": {
             "colorbar": {
              "outlinewidth": 0,
              "ticks": ""
             }
            },
            "type": "scatterpolar"
           }
          ],
          "scatterpolargl": [
           {
            "marker": {
             "colorbar": {
              "outlinewidth": 0,
              "ticks": ""
             }
            },
            "type": "scatterpolargl"
           }
          ],
          "scatterternary": [
           {
            "marker": {
             "colorbar": {
              "outlinewidth": 0,
              "ticks": ""
             }
            },
            "type": "scatterternary"
           }
          ],
          "surface": [
           {
            "colorbar": {
             "outlinewidth": 0,
             "ticks": ""
            },
            "colorscale": [
             [
              0,
              "#0d0887"
             ],
             [
              0.1111111111111111,
              "#46039f"
             ],
             [
              0.2222222222222222,
              "#7201a8"
             ],
             [
              0.3333333333333333,
              "#9c179e"
             ],
             [
              0.4444444444444444,
              "#bd3786"
             ],
             [
              0.5555555555555556,
              "#d8576b"
             ],
             [
              0.6666666666666666,
              "#ed7953"
             ],
             [
              0.7777777777777778,
              "#fb9f3a"
             ],
             [
              0.8888888888888888,
              "#fdca26"
             ],
             [
              1,
              "#f0f921"
             ]
            ],
            "type": "surface"
           }
          ],
          "table": [
           {
            "cells": {
             "fill": {
              "color": "#EBF0F8"
             },
             "line": {
              "color": "white"
             }
            },
            "header": {
             "fill": {
              "color": "#C8D4E3"
             },
             "line": {
              "color": "white"
             }
            },
            "type": "table"
           }
          ]
         },
         "layout": {
          "annotationdefaults": {
           "arrowcolor": "#2a3f5f",
           "arrowhead": 0,
           "arrowwidth": 1
          },
          "autotypenumbers": "strict",
          "coloraxis": {
           "colorbar": {
            "outlinewidth": 0,
            "ticks": ""
           }
          },
          "colorscale": {
           "diverging": [
            [
             0,
             "#8e0152"
            ],
            [
             0.1,
             "#c51b7d"
            ],
            [
             0.2,
             "#de77ae"
            ],
            [
             0.3,
             "#f1b6da"
            ],
            [
             0.4,
             "#fde0ef"
            ],
            [
             0.5,
             "#f7f7f7"
            ],
            [
             0.6,
             "#e6f5d0"
            ],
            [
             0.7,
             "#b8e186"
            ],
            [
             0.8,
             "#7fbc41"
            ],
            [
             0.9,
             "#4d9221"
            ],
            [
             1,
             "#276419"
            ]
           ],
           "sequential": [
            [
             0,
             "#0d0887"
            ],
            [
             0.1111111111111111,
             "#46039f"
            ],
            [
             0.2222222222222222,
             "#7201a8"
            ],
            [
             0.3333333333333333,
             "#9c179e"
            ],
            [
             0.4444444444444444,
             "#bd3786"
            ],
            [
             0.5555555555555556,
             "#d8576b"
            ],
            [
             0.6666666666666666,
             "#ed7953"
            ],
            [
             0.7777777777777778,
             "#fb9f3a"
            ],
            [
             0.8888888888888888,
             "#fdca26"
            ],
            [
             1,
             "#f0f921"
            ]
           ],
           "sequentialminus": [
            [
             0,
             "#0d0887"
            ],
            [
             0.1111111111111111,
             "#46039f"
            ],
            [
             0.2222222222222222,
             "#7201a8"
            ],
            [
             0.3333333333333333,
             "#9c179e"
            ],
            [
             0.4444444444444444,
             "#bd3786"
            ],
            [
             0.5555555555555556,
             "#d8576b"
            ],
            [
             0.6666666666666666,
             "#ed7953"
            ],
            [
             0.7777777777777778,
             "#fb9f3a"
            ],
            [
             0.8888888888888888,
             "#fdca26"
            ],
            [
             1,
             "#f0f921"
            ]
           ]
          },
          "colorway": [
           "#636efa",
           "#EF553B",
           "#00cc96",
           "#ab63fa",
           "#FFA15A",
           "#19d3f3",
           "#FF6692",
           "#B6E880",
           "#FF97FF",
           "#FECB52"
          ],
          "font": {
           "color": "#2a3f5f"
          },
          "geo": {
           "bgcolor": "white",
           "lakecolor": "white",
           "landcolor": "white",
           "showlakes": true,
           "showland": true,
           "subunitcolor": "#C8D4E3"
          },
          "hoverlabel": {
           "align": "left"
          },
          "hovermode": "closest",
          "mapbox": {
           "style": "light"
          },
          "paper_bgcolor": "white",
          "plot_bgcolor": "white",
          "polar": {
           "angularaxis": {
            "gridcolor": "#EBF0F8",
            "linecolor": "#EBF0F8",
            "ticks": ""
           },
           "bgcolor": "white",
           "radialaxis": {
            "gridcolor": "#EBF0F8",
            "linecolor": "#EBF0F8",
            "ticks": ""
           }
          },
          "scene": {
           "xaxis": {
            "backgroundcolor": "white",
            "gridcolor": "#DFE8F3",
            "gridwidth": 2,
            "linecolor": "#EBF0F8",
            "showbackground": true,
            "ticks": "",
            "zerolinecolor": "#EBF0F8"
           },
           "yaxis": {
            "backgroundcolor": "white",
            "gridcolor": "#DFE8F3",
            "gridwidth": 2,
            "linecolor": "#EBF0F8",
            "showbackground": true,
            "ticks": "",
            "zerolinecolor": "#EBF0F8"
           },
           "zaxis": {
            "backgroundcolor": "white",
            "gridcolor": "#DFE8F3",
            "gridwidth": 2,
            "linecolor": "#EBF0F8",
            "showbackground": true,
            "ticks": "",
            "zerolinecolor": "#EBF0F8"
           }
          },
          "shapedefaults": {
           "line": {
            "color": "#2a3f5f"
           }
          },
          "ternary": {
           "aaxis": {
            "gridcolor": "#DFE8F3",
            "linecolor": "#A2B1C6",
            "ticks": ""
           },
           "baxis": {
            "gridcolor": "#DFE8F3",
            "linecolor": "#A2B1C6",
            "ticks": ""
           },
           "bgcolor": "white",
           "caxis": {
            "gridcolor": "#DFE8F3",
            "linecolor": "#A2B1C6",
            "ticks": ""
           }
          },
          "title": {
           "x": 0.05
          },
          "xaxis": {
           "automargin": true,
           "gridcolor": "#EBF0F8",
           "linecolor": "#EBF0F8",
           "ticks": "",
           "title": {
            "standoff": 15
           },
           "zerolinecolor": "#EBF0F8",
           "zerolinewidth": 2
          },
          "yaxis": {
           "automargin": true,
           "gridcolor": "#EBF0F8",
           "linecolor": "#EBF0F8",
           "ticks": "",
           "title": {
            "standoff": 15
           },
           "zerolinecolor": "#EBF0F8",
           "zerolinewidth": 2
          }
         }
        },
        "title": {
         "text": "Exit Liquidity vs Our Exposure"
        },
        "xaxis": {
         "anchor": "y",
         "domain": [
          0,
          1
         ],
         "title": {
          "text": "from_token"
         }
        },
        "yaxis": {
         "anchor": "x",
         "domain": [
          0,
          1
         ],
         "title": {
          "text": "value"
         }
        }
       }
      }
     },
     "metadata": {},
     "output_type": "display_data"
    }
   ],
   "source": [
    "our_exposure = df.groupby('token_symbol')['quantity'].sum()\n",
    "\n",
    "\n",
    "our_exposure_with_liquidity = exit_liqudity_df.to_frame().join(our_exposure, how='left')\n",
    "import plotly.express as px\n",
    "import plotly.io as pio\n",
    "\n",
    "pio.templates.default = \"plotly_white\"\n",
    "\n",
    "fig = px.bar(\n",
    "    our_exposure_with_liquidity,\n",
    "    x=our_exposure_with_liquidity.index,\n",
    "    y=['pair_liqudity', 'quantity'],\n",
    "    title='Exit Liquidity vs Our Exposure'\n",
    ")\n",
    "\n",
    "fig.update_layout(barmode='group')  # Ensures bars are side-by-side\n",
    "fig.show()"
   ]
  },
  {
   "cell_type": "code",
   "execution_count": null,
   "metadata": {},
   "outputs": [],
   "source": []
  }
 ],
 "metadata": {
  "kernelspec": {
   "display_name": "mainnet-launch-py3.10",
   "language": "python",
   "name": "python3"
  },
  "language_info": {
   "codemirror_mode": {
    "name": "ipython",
    "version": 3
   },
   "file_extension": ".py",
   "mimetype": "text/x-python",
   "name": "python",
   "nbconvert_exporter": "python",
   "pygments_lexer": "ipython3",
   "version": "3.10.14"
  }
 },
 "nbformat": 4,
 "nbformat_minor": 2
}
