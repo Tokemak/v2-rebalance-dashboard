{
 "cells": [
  {
   "cell_type": "code",
   "execution_count": 1,
   "metadata": {},
   "outputs": [
    {
     "name": "stdout",
     "output_type": "stream",
     "text": [
      "Fetched 7,502 logs for <class 'web3._utils.datatypes.Transfer'> from 20,722,908 to 23,283,779 (2,560,872 blocks)\n",
      "Fetched 7502 new Autopool transfers for autoETH on eth\n",
      "Fetched 2,892 logs for <class 'web3._utils.datatypes.Transfer'> from 20,722,909 to 23,283,779 (2,560,871 blocks)\n",
      "Fetched 2892 new Autopool transfers for balETH on eth\n",
      "Fetched 2,501 logs for <class 'web3._utils.datatypes.Transfer'> from 20,722,910 to 23,283,779 (2,560,870 blocks)\n",
      "Fetched 2501 new Autopool transfers for autoLRT on eth\n",
      "Fetched 4,094 logs for <class 'web3._utils.datatypes.Transfer'> from 21,241,103 to 35,063,792 (13,822,690 blocks)\n",
      "Fetched 4094 new Autopool transfers for baseETH on base\n",
      "Fetched 1,103 logs for <class 'web3._utils.datatypes.Transfer'> from 21,718,586 to 23,283,779 (1,565,194 blocks)\n",
      "Fetched 1103 new Autopool transfers for dineroETH on eth\n",
      "Fetched 3,801 logs for <class 'web3._utils.datatypes.Transfer'> from 22,032,640 to 23,283,779 (1,251,140 blocks)\n",
      "Fetched 3801 new Autopool transfers for autoUSD on eth\n",
      "Fetched 7,441 logs for <class 'web3._utils.datatypes.Transfer'> from 30,310,652 to 35,063,792 (4,753,141 blocks)\n",
      "Fetched 7441 new Autopool transfers for baseUSD on base\n",
      "Fetched 925 logs for <class 'web3._utils.datatypes.Transfer'> from 22,582,955 to 23,283,779 (700,825 blocks)\n",
      "Fetched 925 new Autopool transfers for autoDOLA on eth\n"
     ]
    },
    {
     "ename": "HTTPError",
     "evalue": "503 Server Error: Service Unavailable for url: https://sonic-mainnet.g.alchemy.com/v2/7dyyKalTzbS0cySjdpnkr",
     "output_type": "error",
     "traceback": [
      "\u001b[0;31m---------------------------------------------------------------------------\u001b[0m",
      "\u001b[0;31mHTTPError\u001b[0m                                 Traceback (most recent call last)",
      "Cell \u001b[0;32mIn[1], line 98\u001b[0m\n\u001b[1;32m     94\u001b[0m     \u001b[38;5;28;01mif\u001b[39;00m new_rows:\n\u001b[1;32m     95\u001b[0m         insert_avoid_conflicts(new_rows, AutopoolDeposit)\n\u001b[0;32m---> 98\u001b[0m df \u001b[38;5;241m=\u001b[39m \u001b[43mensure_autopool_transfers_are_current\u001b[49m\u001b[43m(\u001b[49m\u001b[43m)\u001b[49m\n",
      "Cell \u001b[0;32mIn[1], line 52\u001b[0m, in \u001b[0;36mensure_autopool_transfers_are_current\u001b[0;34m()\u001b[0m\n\u001b[1;32m     46\u001b[0m \u001b[38;5;28;01mfor\u001b[39;00m autopool \u001b[38;5;129;01min\u001b[39;00m ALL_AUTOPOOLS:\n\u001b[1;32m     47\u001b[0m     contract \u001b[38;5;241m=\u001b[39m autopool\u001b[38;5;241m.\u001b[39mchain\u001b[38;5;241m.\u001b[39mclient\u001b[38;5;241m.\u001b[39meth\u001b[38;5;241m.\u001b[39mcontract(\n\u001b[1;32m     48\u001b[0m         address\u001b[38;5;241m=\u001b[39mautopool\u001b[38;5;241m.\u001b[39mautopool_eth_addr,\n\u001b[1;32m     49\u001b[0m         abi\u001b[38;5;241m=\u001b[39mAUTOPOOL_VAULT_ABI,\n\u001b[1;32m     50\u001b[0m     )\n\u001b[0;32m---> 52\u001b[0m     transfer_df \u001b[38;5;241m=\u001b[39m \u001b[43mfetch_events\u001b[49m\u001b[43m(\u001b[49m\n\u001b[1;32m     53\u001b[0m \u001b[43m        \u001b[49m\u001b[43mcontract\u001b[49m\u001b[38;5;241;43m.\u001b[39;49m\u001b[43mevents\u001b[49m\u001b[38;5;241;43m.\u001b[39;49m\u001b[43mTransfer\u001b[49m\u001b[43m,\u001b[49m\n\u001b[1;32m     54\u001b[0m \u001b[43m        \u001b[49m\u001b[43mchain\u001b[49m\u001b[38;5;241;43m=\u001b[39;49m\u001b[43mautopool\u001b[49m\u001b[38;5;241;43m.\u001b[39;49m\u001b[43mchain\u001b[49m\u001b[43m,\u001b[49m\n\u001b[1;32m     55\u001b[0m \u001b[43m        \u001b[49m\u001b[43mstart_block\u001b[49m\u001b[38;5;241;43m=\u001b[39;49m\u001b[43mhighest_block_by_pool\u001b[49m\u001b[43m[\u001b[49m\u001b[43mautopool\u001b[49m\u001b[38;5;241;43m.\u001b[39;49m\u001b[43mautopool_eth_addr\u001b[49m\u001b[43m]\u001b[49m\u001b[43m,\u001b[49m\n\u001b[1;32m     56\u001b[0m \u001b[43m    \u001b[49m\u001b[43m)\u001b[49m\n\u001b[1;32m     57\u001b[0m     transfer_df[\u001b[38;5;124m\"\u001b[39m\u001b[38;5;124mvalue\u001b[39m\u001b[38;5;124m\"\u001b[39m] \u001b[38;5;241m=\u001b[39m transfer_df[\u001b[38;5;124m\"\u001b[39m\u001b[38;5;124mvalue\u001b[39m\u001b[38;5;124m\"\u001b[39m]\u001b[38;5;241m.\u001b[39mapply(\u001b[38;5;28;01mlambda\u001b[39;00m x: \u001b[38;5;28mint\u001b[39m(x) \u001b[38;5;241m/\u001b[39m \u001b[38;5;241m1e18\u001b[39m)  \u001b[38;5;66;03m# always 1e18\u001b[39;00m\n\u001b[1;32m     58\u001b[0m     transfer_df[\u001b[38;5;124m\"\u001b[39m\u001b[38;5;124mautopool_vault_address\u001b[39m\u001b[38;5;124m\"\u001b[39m] \u001b[38;5;241m=\u001b[39m autopool\u001b[38;5;241m.\u001b[39mautopool_eth_addr\n",
      "File \u001b[0;32m~/Documents/Github/Tokemak/v2-rebalance-dashboard/mainnet_launch/data_fetching/get_events.py:22\u001b[0m, in \u001b[0;36mfetch_events\u001b[0;34m(event, chain, start_block, end_block, argument_filters)\u001b[0m\n\u001b[1;32m     12\u001b[0m \u001b[38;5;28;01mdef\u001b[39;00m\u001b[38;5;250m \u001b[39m\u001b[38;5;21mfetch_events\u001b[39m(\n\u001b[1;32m     13\u001b[0m     event: ContractEvent,\n\u001b[1;32m     14\u001b[0m     chain: ChainData,\n\u001b[0;32m   (...)\u001b[0m\n\u001b[1;32m     17\u001b[0m     argument_filters: \u001b[38;5;28mdict\u001b[39m \u001b[38;5;241m|\u001b[39m \u001b[38;5;28;01mNone\u001b[39;00m \u001b[38;5;241m=\u001b[39m \u001b[38;5;28;01mNone\u001b[39;00m,\n\u001b[1;32m     18\u001b[0m ) \u001b[38;5;241m-\u001b[39m\u001b[38;5;241m>\u001b[39m pd\u001b[38;5;241m.\u001b[39mDataFrame:\n\u001b[1;32m     19\u001b[0m \u001b[38;5;250m    \u001b[39m\u001b[38;5;124;03m\"\"\"\u001b[39;00m\n\u001b[1;32m     20\u001b[0m \u001b[38;5;124;03m    Fetch all the `event` events between start_block and end_block into a DataFrame.\u001b[39;00m\n\u001b[1;32m     21\u001b[0m \u001b[38;5;124;03m    \"\"\"\u001b[39;00m\n\u001b[0;32m---> 22\u001b[0m     raw_logs \u001b[38;5;241m=\u001b[39m \u001b[43mfetch_raw_event_logs\u001b[49m\u001b[43m(\u001b[49m\n\u001b[1;32m     23\u001b[0m \u001b[43m        \u001b[49m\u001b[43mevent\u001b[49m\u001b[38;5;241;43m=\u001b[39;49m\u001b[43mevent\u001b[49m\u001b[43m,\u001b[49m\n\u001b[1;32m     24\u001b[0m \u001b[43m        \u001b[49m\u001b[43mchain\u001b[49m\u001b[38;5;241;43m=\u001b[39;49m\u001b[43mchain\u001b[49m\u001b[43m,\u001b[49m\n\u001b[1;32m     25\u001b[0m \u001b[43m        \u001b[49m\u001b[43mstart_block\u001b[49m\u001b[38;5;241;43m=\u001b[39;49m\u001b[43mstart_block\u001b[49m\u001b[43m,\u001b[49m\n\u001b[1;32m     26\u001b[0m \u001b[43m        \u001b[49m\u001b[43mend_block\u001b[49m\u001b[38;5;241;43m=\u001b[39;49m\u001b[43mend_block\u001b[49m\u001b[43m,\u001b[49m\n\u001b[1;32m     27\u001b[0m \u001b[43m        \u001b[49m\u001b[43margument_filters\u001b[49m\u001b[38;5;241;43m=\u001b[39;49m\u001b[43margument_filters\u001b[49m\u001b[43m,\u001b[49m\n\u001b[1;32m     28\u001b[0m \u001b[43m    \u001b[49m\u001b[43m)\u001b[49m\n\u001b[1;32m     30\u001b[0m     df \u001b[38;5;241m=\u001b[39m decode_logs(event, raw_logs)\n\u001b[1;32m     31\u001b[0m     \u001b[38;5;28;01mreturn\u001b[39;00m df\n",
      "File \u001b[0;32m~/Documents/Github/Tokemak/v2-rebalance-dashboard/mainnet_launch/data_fetching/alchemy/fetch_events_with_get_logs.py:150\u001b[0m, in \u001b[0;36mfetch_raw_event_logs\u001b[0;34m(event, chain, start_block, end_block, argument_filters)\u001b[0m\n\u001b[1;32m    148\u001b[0m end_block \u001b[38;5;241m=\u001b[39m chain\u001b[38;5;241m.\u001b[39mget_block_near_top() \u001b[38;5;28;01mif\u001b[39;00m end_block \u001b[38;5;129;01mis\u001b[39;00m \u001b[38;5;28;01mNone\u001b[39;00m \u001b[38;5;28;01melse\u001b[39;00m end_block\n\u001b[1;32m    149\u001b[0m raw_logs \u001b[38;5;241m=\u001b[39m []\n\u001b[0;32m--> 150\u001b[0m \u001b[43m_recursive_make_web3_getLogs_call\u001b[49m\u001b[43m(\u001b[49m\u001b[43mevent\u001b[49m\u001b[43m,\u001b[49m\u001b[43m \u001b[49m\u001b[43mchain\u001b[49m\u001b[43m,\u001b[49m\u001b[43m \u001b[49m\u001b[43mstart_block\u001b[49m\u001b[43m,\u001b[49m\u001b[43m \u001b[49m\u001b[43mend_block\u001b[49m\u001b[43m,\u001b[49m\u001b[43m \u001b[49m\u001b[43margument_filters\u001b[49m\u001b[43m,\u001b[49m\u001b[43m \u001b[49m\u001b[43mraw_logs\u001b[49m\u001b[43m)\u001b[49m\n\u001b[1;32m    151\u001b[0m \u001b[38;5;28;01mreturn\u001b[39;00m raw_logs\n",
      "File \u001b[0;32m~/Documents/Github/Tokemak/v2-rebalance-dashboard/mainnet_launch/data_fetching/alchemy/fetch_events_with_get_logs.py:106\u001b[0m, in \u001b[0;36m_recursive_make_web3_getLogs_call\u001b[0;34m(event, chain, start_block, end_block, argument_filters, global_raw_logs)\u001b[0m\n\u001b[1;32m    102\u001b[0m     \u001b[38;5;28;01mraise\u001b[39;00m AlchemyFetchEventsError(\u001b[38;5;124mf\u001b[39m\u001b[38;5;124m\"\u001b[39m\u001b[38;5;132;01m{\u001b[39;00mend_block\u001b[38;5;132;01m=}\u001b[39;00m\u001b[38;5;124m must be greater than \u001b[39m\u001b[38;5;132;01m{\u001b[39;00mstart_block\u001b[38;5;132;01m=}\u001b[39;00m\u001b[38;5;124m\"\u001b[39m)\n\u001b[1;32m    104\u001b[0m filter_params \u001b[38;5;241m=\u001b[39m _build_address_and_topics_for_event(event, argument_filters, \u001b[38;5;28mhex\u001b[39m(start_block), \u001b[38;5;28mhex\u001b[39m(end_block))\n\u001b[0;32m--> 106\u001b[0m raw_logs, status \u001b[38;5;241m=\u001b[39m \u001b[43m_eth_getlogs_once\u001b[49m\u001b[43m(\u001b[49m\n\u001b[1;32m    107\u001b[0m \u001b[43m    \u001b[49m\u001b[43mrpc_url\u001b[49m\u001b[38;5;241;43m=\u001b[39;49m\u001b[43mchain\u001b[49m\u001b[38;5;241;43m.\u001b[39;49m\u001b[43mclient\u001b[49m\u001b[38;5;241;43m.\u001b[39;49m\u001b[43mprovider\u001b[49m\u001b[38;5;241;43m.\u001b[39;49m\u001b[43mendpoint_uri\u001b[49m\u001b[43m,\u001b[49m\n\u001b[1;32m    108\u001b[0m \u001b[43m    \u001b[49m\u001b[43maddress\u001b[49m\u001b[38;5;241;43m=\u001b[39;49m\u001b[43mfilter_params\u001b[49m\u001b[43m[\u001b[49m\u001b[38;5;124;43m\"\u001b[39;49m\u001b[38;5;124;43maddress\u001b[39;49m\u001b[38;5;124;43m\"\u001b[39;49m\u001b[43m]\u001b[49m\u001b[43m,\u001b[49m\n\u001b[1;32m    109\u001b[0m \u001b[43m    \u001b[49m\u001b[43mtopics\u001b[49m\u001b[38;5;241;43m=\u001b[39;49m\u001b[43mfilter_params\u001b[49m\u001b[43m[\u001b[49m\u001b[38;5;124;43m\"\u001b[39;49m\u001b[38;5;124;43mtopics\u001b[39;49m\u001b[38;5;124;43m\"\u001b[39;49m\u001b[43m]\u001b[49m\u001b[43m,\u001b[49m\n\u001b[1;32m    110\u001b[0m \u001b[43m    \u001b[49m\u001b[43mfrom_block\u001b[49m\u001b[38;5;241;43m=\u001b[39;49m\u001b[43mfilter_params\u001b[49m\u001b[43m[\u001b[49m\u001b[38;5;124;43m\"\u001b[39;49m\u001b[38;5;124;43mfromBlock\u001b[39;49m\u001b[38;5;124;43m\"\u001b[39;49m\u001b[43m]\u001b[49m\u001b[43m,\u001b[49m\n\u001b[1;32m    111\u001b[0m \u001b[43m    \u001b[49m\u001b[43mto_block\u001b[49m\u001b[38;5;241;43m=\u001b[39;49m\u001b[43mfilter_params\u001b[49m\u001b[43m[\u001b[49m\u001b[38;5;124;43m\"\u001b[39;49m\u001b[38;5;124;43mtoBlock\u001b[39;49m\u001b[38;5;124;43m\"\u001b[39;49m\u001b[43m]\u001b[49m\u001b[43m,\u001b[49m\n\u001b[1;32m    112\u001b[0m \u001b[43m\u001b[49m\u001b[43m)\u001b[49m\n\u001b[1;32m    114\u001b[0m \u001b[38;5;28;01mif\u001b[39;00m status \u001b[38;5;241m==\u001b[39m AchemyRequestStatus\u001b[38;5;241m.\u001b[39mSUCCESS:\n\u001b[1;32m    115\u001b[0m     \u001b[38;5;28mprint\u001b[39m(\n\u001b[1;32m    116\u001b[0m         \u001b[38;5;124mf\u001b[39m\u001b[38;5;124m\"\u001b[39m\u001b[38;5;124mFetched \u001b[39m\u001b[38;5;132;01m{\u001b[39;00m\u001b[38;5;28mlen\u001b[39m(raw_logs)\u001b[38;5;132;01m:\u001b[39;00m\u001b[38;5;124m,\u001b[39m\u001b[38;5;132;01m}\u001b[39;00m\u001b[38;5;124m logs for \u001b[39m\u001b[38;5;132;01m{\u001b[39;00mevent\u001b[38;5;132;01m}\u001b[39;00m\u001b[38;5;124m from \u001b[39m\u001b[38;5;132;01m{\u001b[39;00mstart_block\u001b[38;5;132;01m:\u001b[39;00m\u001b[38;5;124m,\u001b[39m\u001b[38;5;132;01m}\u001b[39;00m\u001b[38;5;124m to \u001b[39m\u001b[38;5;132;01m{\u001b[39;00mend_block\u001b[38;5;132;01m:\u001b[39;00m\u001b[38;5;124m,\u001b[39m\u001b[38;5;132;01m}\u001b[39;00m\u001b[38;5;124m (\u001b[39m\u001b[38;5;132;01m{\u001b[39;00mend_block\u001b[38;5;250m \u001b[39m\u001b[38;5;241m-\u001b[39m\u001b[38;5;250m \u001b[39mstart_block\u001b[38;5;250m \u001b[39m\u001b[38;5;241m+\u001b[39m\u001b[38;5;250m \u001b[39m\u001b[38;5;241m1\u001b[39m\u001b[38;5;132;01m:\u001b[39;00m\u001b[38;5;124m,\u001b[39m\u001b[38;5;132;01m}\u001b[39;00m\u001b[38;5;124m blocks)\u001b[39m\u001b[38;5;124m\"\u001b[39m\n\u001b[1;32m    117\u001b[0m     )\n",
      "File \u001b[0;32m~/Documents/Github/Tokemak/v2-rebalance-dashboard/mainnet_launch/data_fetching/alchemy/fetch_events_with_get_logs.py:66\u001b[0m, in \u001b[0;36m_eth_getlogs_once\u001b[0;34m(rpc_url, address, topics, from_block, to_block)\u001b[0m\n\u001b[1;32m     58\u001b[0m     params[\u001b[38;5;124m\"\u001b[39m\u001b[38;5;124mtopics\u001b[39m\u001b[38;5;124m\"\u001b[39m] \u001b[38;5;241m=\u001b[39m topics\n\u001b[1;32m     60\u001b[0m payload \u001b[38;5;241m=\u001b[39m {\n\u001b[1;32m     61\u001b[0m     \u001b[38;5;124m\"\u001b[39m\u001b[38;5;124mjsonrpc\u001b[39m\u001b[38;5;124m\"\u001b[39m: \u001b[38;5;124m\"\u001b[39m\u001b[38;5;124m2.0\u001b[39m\u001b[38;5;124m\"\u001b[39m,\n\u001b[1;32m     62\u001b[0m     \u001b[38;5;124m\"\u001b[39m\u001b[38;5;124mid\u001b[39m\u001b[38;5;124m\"\u001b[39m: \u001b[38;5;241m1\u001b[39m,\n\u001b[1;32m     63\u001b[0m     \u001b[38;5;124m\"\u001b[39m\u001b[38;5;124mmethod\u001b[39m\u001b[38;5;124m\"\u001b[39m: \u001b[38;5;124m\"\u001b[39m\u001b[38;5;124meth_getLogs\u001b[39m\u001b[38;5;124m\"\u001b[39m,\n\u001b[1;32m     64\u001b[0m     \u001b[38;5;124m\"\u001b[39m\u001b[38;5;124mparams\u001b[39m\u001b[38;5;124m\"\u001b[39m: [params],\n\u001b[1;32m     65\u001b[0m }\n\u001b[0;32m---> 66\u001b[0m raw_logs, status \u001b[38;5;241m=\u001b[39m \u001b[43m_rpc_post\u001b[49m\u001b[43m(\u001b[49m\u001b[43mrpc_url\u001b[49m\u001b[43m,\u001b[49m\u001b[43m \u001b[49m\u001b[43mpayload\u001b[49m\u001b[43m)\u001b[49m\n\u001b[1;32m     67\u001b[0m \u001b[38;5;28;01mreturn\u001b[39;00m raw_logs, status\n",
      "File \u001b[0;32m~/Documents/Github/Tokemak/v2-rebalance-dashboard/mainnet_launch/data_fetching/alchemy/fetch_events_with_get_logs.py:33\u001b[0m, in \u001b[0;36m_rpc_post\u001b[0;34m(url, payload)\u001b[0m\n\u001b[1;32m     30\u001b[0m headers \u001b[38;5;241m=\u001b[39m {\u001b[38;5;124m\"\u001b[39m\u001b[38;5;124mContent-Type\u001b[39m\u001b[38;5;124m\"\u001b[39m: \u001b[38;5;124m\"\u001b[39m\u001b[38;5;124mapplication/json\u001b[39m\u001b[38;5;124m\"\u001b[39m}\n\u001b[1;32m     32\u001b[0m r \u001b[38;5;241m=\u001b[39m requests\u001b[38;5;241m.\u001b[39mpost(url, json\u001b[38;5;241m=\u001b[39mpayload, headers\u001b[38;5;241m=\u001b[39mheaders, timeout\u001b[38;5;241m=\u001b[39m\u001b[38;5;241m30\u001b[39m)\n\u001b[0;32m---> 33\u001b[0m \u001b[43mr\u001b[49m\u001b[38;5;241;43m.\u001b[39;49m\u001b[43mraise_for_status\u001b[49m\u001b[43m(\u001b[49m\u001b[43m)\u001b[49m\n\u001b[1;32m     34\u001b[0m out \u001b[38;5;241m=\u001b[39m r\u001b[38;5;241m.\u001b[39mjson()\n\u001b[1;32m     36\u001b[0m \u001b[38;5;28;01mif\u001b[39;00m \u001b[38;5;124m\"\u001b[39m\u001b[38;5;124merror\u001b[39m\u001b[38;5;124m\"\u001b[39m \u001b[38;5;129;01min\u001b[39;00m out:\n",
      "File \u001b[0;32m~/Library/Caches/pypoetry/virtualenvs/mainnet-launch-FtycU18g-py3.10/lib/python3.10/site-packages/requests/models.py:1024\u001b[0m, in \u001b[0;36mResponse.raise_for_status\u001b[0;34m(self)\u001b[0m\n\u001b[1;32m   1019\u001b[0m     http_error_msg \u001b[38;5;241m=\u001b[39m (\n\u001b[1;32m   1020\u001b[0m         \u001b[38;5;124mf\u001b[39m\u001b[38;5;124m\"\u001b[39m\u001b[38;5;132;01m{\u001b[39;00m\u001b[38;5;28mself\u001b[39m\u001b[38;5;241m.\u001b[39mstatus_code\u001b[38;5;132;01m}\u001b[39;00m\u001b[38;5;124m Server Error: \u001b[39m\u001b[38;5;132;01m{\u001b[39;00mreason\u001b[38;5;132;01m}\u001b[39;00m\u001b[38;5;124m for url: \u001b[39m\u001b[38;5;132;01m{\u001b[39;00m\u001b[38;5;28mself\u001b[39m\u001b[38;5;241m.\u001b[39murl\u001b[38;5;132;01m}\u001b[39;00m\u001b[38;5;124m\"\u001b[39m\n\u001b[1;32m   1021\u001b[0m     )\n\u001b[1;32m   1023\u001b[0m \u001b[38;5;28;01mif\u001b[39;00m http_error_msg:\n\u001b[0;32m-> 1024\u001b[0m     \u001b[38;5;28;01mraise\u001b[39;00m HTTPError(http_error_msg, response\u001b[38;5;241m=\u001b[39m\u001b[38;5;28mself\u001b[39m)\n",
      "\u001b[0;31mHTTPError\u001b[0m: 503 Server Error: Service Unavailable for url: https://sonic-mainnet.g.alchemy.com/v2/7dyyKalTzbS0cySjdpnkr"
     ]
    }
   ],
   "source": [
    "import pandas as pd\n",
    "from web3 import Web3\n",
    "\n",
    "from mainnet_launch.constants import ALL_AUTOPOOLS, ALL_CHAINS, profile_function, AutopoolConstants\n",
    "from mainnet_launch.database.schema.full import AutopoolDeposit\n",
    "from mainnet_launch.database.schema.postgres_operations import _exec_sql_and_cache\n",
    "from mainnet_launch.data_fetching.get_events import fetch_events\n",
    "from mainnet_launch.database.schema.ensure_tables_are_current.using_onchain.update_transactions import (\n",
    "    ensure_all_transactions_are_saved_in_db,\n",
    "    insert_avoid_conflicts,\n",
    ")\n",
    "\n",
    "from mainnet_launch.abis import AUTOPOOL_VAULT_ABI\n",
    "\n",
    "\n",
    "def get_highest_already_fetched_autopool_transfer_block() -> dict[str, int]:\n",
    "    query = \"\"\"\n",
    "        WITH autopool_transfers_block AS (\n",
    "            SELECT\n",
    "                autopool_transfers.autopool_vault_address,\n",
    "                transactions.block\n",
    "            FROM autopool_transfers\n",
    "            JOIN transactions\n",
    "              ON autopool_transfers.tx_hash = autopool_transfers.tx_hash\n",
    "        )\n",
    "        SELECT\n",
    "            autopool_vault_address,\n",
    "            MAX(block) AS max_block\n",
    "        FROM autopool_transfers_block\n",
    "        GROUP BY autopool_vault_address;\n",
    "    \"\"\"\n",
    "    df = _exec_sql_and_cache(query)\n",
    "    highest = df.set_index(\"autopool_vault_address\")[\"max_block\"].to_dict() if not df.empty else {}\n",
    "\n",
    "    for ap in ALL_AUTOPOOLS:\n",
    "        if ap.autopool_eth_addr not in highest:\n",
    "            # Default to the deploy block if no rows exist yet\n",
    "            highest[ap.autopool_eth_addr] = ap.block_deployed\n",
    "    return highest\n",
    "\n",
    "\n",
    "def ensure_autopool_transfers_are_current():\n",
    "    highest_block_by_pool = get_highest_already_fetched_autopool_transfer_block()\n",
    "    transfer_dfs: list[pd.DataFrame] = []\n",
    "\n",
    "    for autopool in ALL_AUTOPOOLS:\n",
    "        contract = autopool.chain.client.eth.contract(\n",
    "            address=autopool.autopool_eth_addr,\n",
    "            abi=AUTOPOOL_VAULT_ABI,\n",
    "        )\n",
    "\n",
    "        transfer_df = fetch_events(\n",
    "            contract.events.Transfer,\n",
    "            chain=autopool.chain,\n",
    "            start_block=highest_block_by_pool[autopool.autopool_eth_addr],\n",
    "        )\n",
    "        transfer_df[\"value\"] = transfer_df[\"value\"].apply(lambda x: int(x) / 1e18)  # always 1e18\n",
    "        transfer_df[\"autopool_vault_address\"] = autopool.autopool_eth_addr\n",
    "        transfer_df[\"chain_id\"] = autopool.chain.chain_id\n",
    "        transfer_df[\"from_address\"] = transfer_df[\"from\"].apply(lambda x: Web3.toChecksumAddress(x))\n",
    "        transfer_df[\"to_address\"] = transfer_df[\"to\"].apply(lambda x: Web3.toChecksumAddress(x))\n",
    "\n",
    "        if transfer_df.empty:\n",
    "            continue\n",
    "        print(f\"Fetched {len(transfer_df)} new Autopool transfers for {autopool.name} on {autopool.chain.name}\")\n",
    "        transfer_dfs.append(transfer_df)\n",
    "\n",
    "    if len(transfer_dfs) == 0:\n",
    "        return  # early exit, nothing to do\n",
    "\n",
    "    all_df = pd.concat(transfer_dfs, ignore_index=True)\n",
    "    return all_df\n",
    "\n",
    "    for chain in ALL_CHAINS:\n",
    "        txs = list(all_df.loc[all_df[\"chain_id\"] == chain.chain_id, \"tx_hash\"].drop_duplicates())\n",
    "        if txs:\n",
    "            ensure_all_transactions_are_saved_in_db(txs, chain)\n",
    "\n",
    "    # Build ORM rows\n",
    "    new_rows = all_df.apply(\n",
    "        lambda r: AutopoolDeposit(\n",
    "            tx_hash=r[\"tx_hash\"],\n",
    "            autopool_vault_address=r[\"autopool_vault_address\"],\n",
    "            chain_id=int(r[\"chain_id\"]),\n",
    "            block=int(r[\"block\"]),\n",
    "            shares=float(r[\"shares\"]),\n",
    "            base_asset_amount=float(r[\"base_asset_amount\"]),\n",
    "            user=r[\"user\"],\n",
    "            nav_per_share=str(r[\"nav_per_share\"]),\n",
    "        ),\n",
    "        axis=1,\n",
    "    ).to_list()\n",
    "\n",
    "    if new_rows:\n",
    "        insert_avoid_conflicts(new_rows, AutopoolDeposit)\n",
    "\n",
    "\n",
    "df = ensure_autopool_transfers_are_current()"
   ]
  },
  {
   "cell_type": "code",
   "execution_count": 3,
   "metadata": {},
   "outputs": [],
   "source": [
    "a = {\n",
    "    \"jsonrpc\": \"2.0\",\n",
    "    \"id\": 1,\n",
    "    \"method\": \"eth_getLogs\",\n",
    "    \"params\": [\n",
    "        {\n",
    "            \"address\": \"0xCb119265AA1195ea363D7A243aD56c73EA42Eb59\",\n",
    "            \"fromBlock\": \"0x26bf08a\",\n",
    "            \"toBlock\": \"0x2b83bca\",\n",
    "            \"topics\": [\"0xddf252ad1be2c89b69c2b068fc378daa952ba7f163c4a11628f55a4df523b3ef\"],\n",
    "        }\n",
    "    ],\n",
    "}"
   ]
  },
  {
   "cell_type": "code",
   "execution_count": 7,
   "metadata": {},
   "outputs": [
    {
     "data": {
      "text/plain": [
       "(40628362, 45628362)"
      ]
     },
     "execution_count": 7,
     "metadata": {},
     "output_type": "execute_result"
    }
   ],
   "source": [
    "int(a[\"params\"][0][\"fromBlock\"], 16), int(a[\"params\"][0][\"toBlock\"], 16)"
   ]
  },
  {
   "cell_type": "code",
   "execution_count": null,
   "metadata": {},
   "outputs": [],
   "source": []
  }
 ],
 "metadata": {
  "kernelspec": {
   "display_name": "mainnet-launch-py3.10",
   "language": "python",
   "name": "python3"
  },
  "language_info": {
   "codemirror_mode": {
    "name": "ipython",
    "version": 3
   },
   "file_extension": ".py",
   "mimetype": "text/x-python",
   "name": "python",
   "nbconvert_exporter": "python",
   "pygments_lexer": "ipython3",
   "version": "3.10.14"
  }
 },
 "nbformat": 4,
 "nbformat_minor": 2
}
