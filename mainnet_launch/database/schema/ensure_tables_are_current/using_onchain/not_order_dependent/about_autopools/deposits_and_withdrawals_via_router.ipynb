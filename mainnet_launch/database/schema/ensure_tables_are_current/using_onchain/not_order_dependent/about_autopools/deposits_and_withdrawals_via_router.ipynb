{
 "cells": [
  {
   "cell_type": "code",
   "execution_count": null,
   "metadata": {},
   "outputs": [],
   "source": [
    "import pandas as pd\n",
    "from web3 import Web3\n",
    "\n",
    "from mainnet_launch.constants import *\n",
    "\n",
    "from mainnet_launch.database.schema.full import (\n",
    "    AutopoolDeposit,\n",
    "    AutopoolTransfer,\n",
    "    AutopoolWithdrawal,\n",
    "    Transactions,\n",
    "    Blocks,\n",
    ")\n",
    "from mainnet_launch.database.schema.postgres_operations import get_full_table_as_df\n",
    "\n",
    "\n",
    "deposit_df = get_full_table_as_df(AutopoolDeposit)\n",
    "withdrawal_df = get_full_table_as_df(AutopoolWithdrawal)\n",
    "transfer_df = get_full_table_as_df(AutopoolTransfer)\n",
    "blocks_df = get_full_table_as_df(Blocks)\n",
    "tx_df = get_full_table_as_df(Transactions)\n",
    "\n",
    "tx_hash_to_block = tx_df.set_index(\"tx_hash\")[\"block\"].to_dict()\n",
    "block_number_to_datetime = blocks_df.set_index(\"block\")[\"datetime\"].to_dict()\n",
    "trasactions_has_to_eoa = tx_df.set_index(\"tx_hash\")[\"from_address\"].to_dict()\n",
    "\n",
    "deposit_df[\"block\"] = deposit_df[\"tx_hash\"].map(tx_hash_to_block)\n",
    "deposit_df[\"datetime\"] = deposit_df[\"block\"].map(block_number_to_datetime)\n",
    "deposit_df[\"eoa_from_address\"] = deposit_df[\"tx_hash\"].map(trasactions_has_to_eoa)\n",
    "\n",
    "withdrawal_df[\"block\"] = withdrawal_df[\"tx_hash\"].map(tx_hash_to_block)\n",
    "withdrawal_df[\"datetime\"] = withdrawal_df[\"block\"].map(block_number_to_datetime)\n",
    "withdrawal_df[\"eoa_from_address\"] = withdrawal_df[\"tx_hash\"].map(trasactions_has_to_eoa)"
   ]
  },
  {
   "cell_type": "code",
   "execution_count": 4,
   "metadata": {},
   "outputs": [],
   "source": [
    "# - ~~Autopilot Router:  [`0xC45e939ca8C43822A2A233404Ecf420712084c30`](https://etherscan.io/address/0xC45e939ca8C43822A2A233404Ecf420712084c30)~~\n",
    "# - ~~Autopilot Router:  [`0x37dD409f5e98aB4f151F4259Ea0CC13e97e8aE21`](https://etherscan.io/address/0x37dD409f5e98aB4f151F4259Ea0CC13e97e8aE21)~~\n",
    "# - Autopilot Router:  [`0x39ff6d21204B919441d17bef61D19181870835A2`](https://etherscan.io/address/0x39ff6d21204B919441d17bef61D19181870835A2)\n",
    "\n",
    "from mainnet_launch.constants import ETH_CHAIN\n",
    "from mainnet_launch.abis import AUTOPOOL_ROUTER_ABI\n",
    "from mainnet_launch.data_fetching.get_events import get_each_event_in_contract\n",
    "\n",
    "contract = ETH_CHAIN.client.eth.contract(\"0xC45e939ca8C43822A2A233404Ecf420712084c30\", abi=AUTOPOOL_ROUTER_ABI)\n",
    "\n",
    "events = get_each_event_in_contract(\n",
    "    contract,\n",
    "    ETH_CHAIN,\n",
    "    ETH_CHAIN.block_autopool_first_deployed,\n",
    "    ETH_CHAIN.get_block_near_top(),\n",
    ")\n",
    "\n",
    "for k, v in events.items():\n",
    "    print(k, v.shape)"
   ]
  },
  {
   "cell_type": "code",
   "execution_count": 5,
   "metadata": {},
   "outputs": [
    {
     "data": {
      "text/plain": [
       "{}"
      ]
     },
     "execution_count": 5,
     "metadata": {},
     "output_type": "execute_result"
    }
   ],
   "source": [
    "events"
   ]
  },
  {
   "cell_type": "code",
   "execution_count": null,
   "metadata": {},
   "outputs": [],
   "source": []
  }
 ],
 "metadata": {
  "kernelspec": {
   "display_name": "mainnet-launch-py3.10",
   "language": "python",
   "name": "python3"
  },
  "language_info": {
   "codemirror_mode": {
    "name": "ipython",
    "version": 3
   },
   "file_extension": ".py",
   "mimetype": "text/x-python",
   "name": "python",
   "nbconvert_exporter": "python",
   "pygments_lexer": "ipython3",
   "version": "3.10.14"
  }
 },
 "nbformat": 4,
 "nbformat_minor": 2
}
