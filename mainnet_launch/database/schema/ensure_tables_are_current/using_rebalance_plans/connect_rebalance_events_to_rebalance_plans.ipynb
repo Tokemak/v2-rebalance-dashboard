{
 "cells": [
  {
   "cell_type": "code",
   "execution_count": null,
   "metadata": {},
   "outputs": [
    {
     "ename": "SyntaxError",
     "evalue": "invalid syntax (3614381914.py, line 11)",
     "output_type": "error",
     "traceback": [
      "\u001b[0;36m  Cell \u001b[0;32mIn[2], line 11\u001b[0;36m\u001b[0m\n\u001b[0;31m    from\u001b[0m\n\u001b[0m        ^\u001b[0m\n\u001b[0;31mSyntaxError\u001b[0m\u001b[0;31m:\u001b[0m invalid syntax\n"
     ]
    }
   ],
   "source": [
    "from mainnet_launch.database.schema.full import *\n",
    "from mainnet_launch.database.schema.postgres_operations import *\n",
    "\n",
    "from mainnet_launch.constants import *\n",
    "from mainnet_launch.data_fetching.get_state_by_block import *\n",
    "\n",
    "\n",
    "import plotly.express as px\n",
    "from multicall import Call\n",
    "\n",
    "\n",
    "destinations_df = get_full_table_as_df(Destinations, where_clause=Destinations.chain_id == 1)\n",
    "blocks_df = get_full_table_as_df(Blocks, where_clause=Blocks.chain_id == 1)\n",
    "event_df = get_full_table_as_df(RebalanceEvents)\n",
    "plan_df = get_full_table_as_df(RebalancePlans)\n",
    "trasactions_df = get_full_table_as_df(Transactions)\n",
    "destination_tokens_df = get_full_table_as_df(DestinationTokens)\n",
    "AutopoolDestinations_df = get_full_table_as_df(AutopoolDestinations)\n",
    "\n",
    "\n",
    "\n",
    "\n",
    "# maybe add a tradeable assets table?y\n"
   ]
  },
  {
   "cell_type": "code",
   "execution_count": 3,
   "metadata": {},
   "outputs": [
    {
     "name": "stderr",
     "output_type": "stream",
     "text": [
      "2025-05-30 10:39:25.003 WARNING streamlit.runtime.scriptrunner_utils.script_run_context: Thread 'MainThread': missing ScriptRunContext! This warning can be ignored when running in bare mode.\n",
      "2025-05-30 10:39:25.038 \n",
      "  \u001b[33m\u001b[1mWarning:\u001b[0m to view this Streamlit app on a browser, run it with the following\n",
      "  command:\n",
      "\n",
      "    streamlit run /Users/pb/Library/Caches/pypoetry/virtualenvs/mainnet-launch-FtycU18g-py3.10/lib/python3.10/site-packages/ipykernel_launcher.py [ARGUMENTS]\n",
      "2025-05-30 10:39:25.038 Thread 'MainThread': missing ScriptRunContext! This warning can be ignored when running in bare mode.\n",
      "2025-05-30 10:39:25.038 Thread 'MainThread': missing ScriptRunContext! This warning can be ignored when running in bare mode.\n",
      "2025-05-30 10:39:25.039 No runtime found, using MemoryCacheStorageManager\n"
     ]
    },
    {
     "name": "stdout",
     "output_type": "stream",
     "text": [
      "2025-05-30 10:39:25,179 INFO sqlalchemy.engine.Engine BEGIN (implicit)\n",
      "2025-05-30 10:39:25,180 INFO sqlalchemy.engine.Engine SELECT pg_catalog.pg_class.relname \n",
      "FROM pg_catalog.pg_class JOIN pg_catalog.pg_namespace ON pg_catalog.pg_namespace.oid = pg_catalog.pg_class.relnamespace \n",
      "WHERE pg_catalog.pg_class.relname = %(table_name)s AND pg_catalog.pg_class.relkind = ANY (ARRAY[%(param_1)s, %(param_2)s, %(param_3)s, %(param_4)s, %(param_5)s]) AND pg_catalog.pg_table_is_visible(pg_catalog.pg_class.oid) AND pg_catalog.pg_namespace.nspname != %(nspname_1)s\n",
      "2025-05-30 10:39:25,180 INFO sqlalchemy.engine.Engine [cached since 163.4s ago] {'table_name': <sqlalchemy.sql.elements.TextClause object at 0x11f4e0ac0>, 'param_1': 'r', 'param_2': 'p', 'param_3': 'f', 'param_4': 'v', 'param_5': 'm', 'nspname_1': 'pg_catalog'}\n",
      "2025-05-30 10:39:25,181 INFO sqlalchemy.engine.Engine SELECT\n",
      "    rebalance_events.*,\n",
      "    transactions.*,\n",
      "    blocks.datetime\n",
      "FROM rebalance_events\n",
      "JOIN transactions\n",
      "  ON transactions.tx_hash = rebalance_events.tx_hash\n",
      "JOIN blocks\n",
      "  ON transactions.block = blocks.block AND transactions.chain_id = blocks.chain_id\n",
      "WHERE\n",
      "    (rebalance_events.autopool_vault_address = '0xa7569A44f348d3D70d8ad5889e50F78E33d80D35')\n",
      "ORDER BY\n",
      "    blocks.datetime ASC\n",
      "\n",
      "2025-05-30 10:39:25,181 INFO sqlalchemy.engine.Engine [generated in 0.00029s] {}\n"
     ]
    },
    {
     "name": "stderr",
     "output_type": "stream",
     "text": [
      "2025-05-30 10:39:25.544 Thread 'Thread-26': missing ScriptRunContext! This warning can be ignored when running in bare mode.\n",
      "2025-05-30 10:39:25.545 Thread 'Thread-26': missing ScriptRunContext! This warning can be ignored when running in bare mode.\n"
     ]
    },
    {
     "name": "stdout",
     "output_type": "stream",
     "text": [
      "2025-05-30 10:39:25,837 INFO sqlalchemy.engine.Engine ROLLBACK\n"
     ]
    },
    {
     "name": "stderr",
     "output_type": "stream",
     "text": [
      "2025-05-30 10:39:25.933 Thread 'MainThread': missing ScriptRunContext! This warning can be ignored when running in bare mode.\n",
      "2025-05-30 10:39:25.933 Thread 'MainThread': missing ScriptRunContext! This warning can be ignored when running in bare mode.\n",
      "2025-05-30 10:39:25.934 Thread 'MainThread': missing ScriptRunContext! This warning can be ignored when running in bare mode.\n",
      "2025-05-30 10:39:25.935 Thread 'MainThread': missing ScriptRunContext! This warning can be ignored when running in bare mode.\n",
      "2025-05-30 10:39:25.935 Thread 'MainThread': missing ScriptRunContext! This warning can be ignored when running in bare mode.\n"
     ]
    },
    {
     "name": "stdout",
     "output_type": "stream",
     "text": [
      "2025-05-30 10:39:26,036 INFO sqlalchemy.engine.Engine BEGIN (implicit)\n",
      "2025-05-30 10:39:26,037 INFO sqlalchemy.engine.Engine SELECT pg_catalog.pg_class.relname \n",
      "FROM pg_catalog.pg_class JOIN pg_catalog.pg_namespace ON pg_catalog.pg_namespace.oid = pg_catalog.pg_class.relnamespace \n",
      "WHERE pg_catalog.pg_class.relname = %(table_name)s AND pg_catalog.pg_class.relkind = ANY (ARRAY[%(param_1)s, %(param_2)s, %(param_3)s, %(param_4)s, %(param_5)s]) AND pg_catalog.pg_table_is_visible(pg_catalog.pg_class.oid) AND pg_catalog.pg_namespace.nspname != %(nspname_1)s\n",
      "2025-05-30 10:39:26,037 INFO sqlalchemy.engine.Engine [cached since 164.3s ago] {'table_name': <sqlalchemy.sql.elements.TextClause object at 0x11f649990>, 'param_1': 'r', 'param_2': 'p', 'param_3': 'f', 'param_4': 'v', 'param_5': 'm', 'nspname_1': 'pg_catalog'}\n",
      "2025-05-30 10:39:26,038 INFO sqlalchemy.engine.Engine SELECT\n",
      "    destination_tokens.*,\n",
      "    tokens.symbol\n",
      "FROM destination_tokens\n",
      "JOIN tokens\n",
      "  ON destination_tokens.token_address = tokens.token_address\n",
      "\n",
      "2025-05-30 10:39:26,038 INFO sqlalchemy.engine.Engine [generated in 0.00057s] {}\n",
      "2025-05-30 10:39:26,263 INFO sqlalchemy.engine.Engine ROLLBACK\n"
     ]
    },
    {
     "name": "stderr",
     "output_type": "stream",
     "text": [
      "2025-05-30 10:39:26.362 Thread 'MainThread': missing ScriptRunContext! This warning can be ignored when running in bare mode.\n",
      "2025-05-30 10:39:26.363 Thread 'MainThread': missing ScriptRunContext! This warning can be ignored when running in bare mode.\n"
     ]
    }
   ],
   "source": [
    "rebalance_df = merge_tables_as_df(\n",
    "    selectors=[\n",
    "        TableSelector(\n",
    "            RebalanceEvents,\n",
    "        ),\n",
    "        TableSelector(Transactions, join_on=(Transactions.tx_hash == RebalanceEvents.tx_hash)),\n",
    "        TableSelector(\n",
    "            Blocks,\n",
    "            [Blocks.datetime],\n",
    "            (Transactions.block == Blocks.block) & (Transactions.chain_id == Blocks.chain_id),\n",
    "        ),\n",
    "    ],\n",
    "    where_clause=(RebalanceEvents.autopool_vault_address == AUTO_USD.autopool_eth_addr),\n",
    "    order_by=Blocks.datetime,\n",
    ")\n",
    "\n",
    "tokens_df = merge_tables_as_df(\n",
    "    [\n",
    "        TableSelector(\n",
    "            DestinationTokens,\n",
    "        ),\n",
    "        TableSelector(\n",
    "            table=Tokens,\n",
    "            select_fields=[Tokens.symbol],\n",
    "            join_on=(DestinationTokens.token_address == Tokens.token_address),\n",
    "        ),\n",
    "    ],\n",
    ")\n"
   ]
  },
  {
   "cell_type": "code",
   "execution_count": null,
   "metadata": {},
   "outputs": [],
   "source": []
  },
  {
   "cell_type": "code",
   "execution_count": null,
   "metadata": {},
   "outputs": [],
   "source": [
    "autoUSD_flash_borrow_solver = \"0xD02b50CFc6c2903bF13638B28D081ad11515B6f9\"\n",
    "usdt = \"0xdAC17F958D2ee523a2206206994597C13D831ec7\"\n",
    "flash_borrow_usdt_bal = Call(\n",
    "    usdt,\n",
    "    [\"balanceOf(address)(uint256)\", autoUSD_flash_borrow_solver],\n",
    "    [((\"flash_borrow_usdt_balance\"), safe_normalize_6_with_bool_success)],\n",
    ")\n",
    "before = get_state_by_one_block([flash_borrow_usdt_bal], 22537762 - 1, ETH_CHAIN)\n",
    "after = get_state_by_one_block([flash_borrow_usdt_bal], 22537762, ETH_CHAIN)"
   ]
  }
 ],
 "metadata": {
  "kernelspec": {
   "display_name": "mainnet-launch-FtycU18g-py3.10",
   "language": "python",
   "name": "python3"
  },
  "language_info": {
   "codemirror_mode": {
    "name": "ipython",
    "version": 3
   },
   "file_extension": ".py",
   "mimetype": "text/x-python",
   "name": "python",
   "nbconvert_exporter": "python",
   "pygments_lexer": "ipython3",
   "version": "3.10.14"
  }
 },
 "nbformat": 4,
 "nbformat_minor": 2
}
