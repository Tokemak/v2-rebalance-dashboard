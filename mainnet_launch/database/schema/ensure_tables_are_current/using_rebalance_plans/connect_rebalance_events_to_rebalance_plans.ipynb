{
 "cells": [
  {
   "cell_type": "code",
   "execution_count": 13,
   "metadata": {},
   "outputs": [
    {
     "name": "stdout",
     "output_type": "stream",
     "text": [
      "2025-05-30 11:32:17,747 INFO sqlalchemy.engine.Engine BEGIN (implicit)\n",
      "2025-05-30 11:32:17,747 INFO sqlalchemy.engine.Engine SELECT pg_catalog.pg_class.relname \n",
      "FROM pg_catalog.pg_class JOIN pg_catalog.pg_namespace ON pg_catalog.pg_namespace.oid = pg_catalog.pg_class.relnamespace \n",
      "WHERE pg_catalog.pg_class.relname = %(table_name)s AND pg_catalog.pg_class.relkind = ANY (ARRAY[%(param_1)s, %(param_2)s, %(param_3)s, %(param_4)s, %(param_5)s]) AND pg_catalog.pg_table_is_visible(pg_catalog.pg_class.oid) AND pg_catalog.pg_namespace.nspname != %(nspname_1)s\n",
      "2025-05-30 11:32:17,748 INFO sqlalchemy.engine.Engine [cached since 1520s ago] {'table_name': <sqlalchemy.sql.elements.TextClause object at 0x124502aa0>, 'param_1': 'r', 'param_2': 'p', 'param_3': 'f', 'param_4': 'v', 'param_5': 'm', 'nspname_1': 'pg_catalog'}\n",
      "2025-05-30 11:32:17,748 INFO sqlalchemy.engine.Engine \n",
      "            SELECT *\n",
      "            FROM destinations\n",
      "            WHERE destinations.chain_id = 1\n",
      "        \n",
      "2025-05-30 11:32:17,748 INFO sqlalchemy.engine.Engine [cached since 1520s ago] {}\n",
      "2025-05-30 11:32:18,154 INFO sqlalchemy.engine.Engine ROLLBACK\n",
      "2025-05-30 11:32:18,341 INFO sqlalchemy.engine.Engine BEGIN (implicit)\n",
      "2025-05-30 11:32:18,343 INFO sqlalchemy.engine.Engine SELECT pg_catalog.pg_class.relname \n",
      "FROM pg_catalog.pg_class JOIN pg_catalog.pg_namespace ON pg_catalog.pg_namespace.oid = pg_catalog.pg_class.relnamespace \n",
      "WHERE pg_catalog.pg_class.relname = %(table_name)s AND pg_catalog.pg_class.relkind = ANY (ARRAY[%(param_1)s, %(param_2)s, %(param_3)s, %(param_4)s, %(param_5)s]) AND pg_catalog.pg_table_is_visible(pg_catalog.pg_class.oid) AND pg_catalog.pg_namespace.nspname != %(nspname_1)s\n",
      "2025-05-30 11:32:18,344 INFO sqlalchemy.engine.Engine [cached since 1520s ago] {'table_name': <sqlalchemy.sql.elements.TextClause object at 0x124501bd0>, 'param_1': 'r', 'param_2': 'p', 'param_3': 'f', 'param_4': 'v', 'param_5': 'm', 'nspname_1': 'pg_catalog'}\n",
      "2025-05-30 11:32:18,346 INFO sqlalchemy.engine.Engine \n",
      "            SELECT *\n",
      "            FROM blocks\n",
      "            WHERE blocks.chain_id = 1\n",
      "        \n",
      "2025-05-30 11:32:18,348 INFO sqlalchemy.engine.Engine [cached since 1520s ago] {}\n",
      "2025-05-30 11:32:18,651 INFO sqlalchemy.engine.Engine ROLLBACK\n",
      "2025-05-30 11:32:18,839 INFO sqlalchemy.engine.Engine BEGIN (implicit)\n",
      "2025-05-30 11:32:18,842 INFO sqlalchemy.engine.Engine SELECT pg_catalog.pg_class.relname \n",
      "FROM pg_catalog.pg_class JOIN pg_catalog.pg_namespace ON pg_catalog.pg_namespace.oid = pg_catalog.pg_class.relnamespace \n",
      "WHERE pg_catalog.pg_class.relname = %(table_name)s AND pg_catalog.pg_class.relkind = ANY (ARRAY[%(param_1)s, %(param_2)s, %(param_3)s, %(param_4)s, %(param_5)s]) AND pg_catalog.pg_table_is_visible(pg_catalog.pg_class.oid) AND pg_catalog.pg_namespace.nspname != %(nspname_1)s\n",
      "2025-05-30 11:32:18,843 INFO sqlalchemy.engine.Engine [cached since 1521s ago] {'table_name': <sqlalchemy.sql.elements.TextClause object at 0x12457b6a0>, 'param_1': 'r', 'param_2': 'p', 'param_3': 'f', 'param_4': 'v', 'param_5': 'm', 'nspname_1': 'pg_catalog'}\n",
      "2025-05-30 11:32:18,845 INFO sqlalchemy.engine.Engine \n",
      "            SELECT *\n",
      "            FROM rebalance_events\n",
      "            \n",
      "        \n",
      "2025-05-30 11:32:18,846 INFO sqlalchemy.engine.Engine [cached since 1520s ago] {}\n",
      "2025-05-30 11:32:19,245 INFO sqlalchemy.engine.Engine ROLLBACK\n",
      "2025-05-30 11:32:19,431 INFO sqlalchemy.engine.Engine BEGIN (implicit)\n",
      "2025-05-30 11:32:19,432 INFO sqlalchemy.engine.Engine SELECT pg_catalog.pg_class.relname \n",
      "FROM pg_catalog.pg_class JOIN pg_catalog.pg_namespace ON pg_catalog.pg_namespace.oid = pg_catalog.pg_class.relnamespace \n",
      "WHERE pg_catalog.pg_class.relname = %(table_name)s AND pg_catalog.pg_class.relkind = ANY (ARRAY[%(param_1)s, %(param_2)s, %(param_3)s, %(param_4)s, %(param_5)s]) AND pg_catalog.pg_table_is_visible(pg_catalog.pg_class.oid) AND pg_catalog.pg_namespace.nspname != %(nspname_1)s\n",
      "2025-05-30 11:32:19,433 INFO sqlalchemy.engine.Engine [cached since 1521s ago] {'table_name': <sqlalchemy.sql.elements.TextClause object at 0x124579420>, 'param_1': 'r', 'param_2': 'p', 'param_3': 'f', 'param_4': 'v', 'param_5': 'm', 'nspname_1': 'pg_catalog'}\n",
      "2025-05-30 11:32:19,434 INFO sqlalchemy.engine.Engine \n",
      "            SELECT *\n",
      "            FROM rebalance_plans\n",
      "            \n",
      "        \n",
      "2025-05-30 11:32:19,434 INFO sqlalchemy.engine.Engine [cached since 1520s ago] {}\n",
      "2025-05-30 11:32:19,853 INFO sqlalchemy.engine.Engine ROLLBACK\n",
      "2025-05-30 11:32:20,044 INFO sqlalchemy.engine.Engine BEGIN (implicit)\n",
      "2025-05-30 11:32:20,046 INFO sqlalchemy.engine.Engine SELECT pg_catalog.pg_class.relname \n",
      "FROM pg_catalog.pg_class JOIN pg_catalog.pg_namespace ON pg_catalog.pg_namespace.oid = pg_catalog.pg_class.relnamespace \n",
      "WHERE pg_catalog.pg_class.relname = %(table_name)s AND pg_catalog.pg_class.relkind = ANY (ARRAY[%(param_1)s, %(param_2)s, %(param_3)s, %(param_4)s, %(param_5)s]) AND pg_catalog.pg_table_is_visible(pg_catalog.pg_class.oid) AND pg_catalog.pg_namespace.nspname != %(nspname_1)s\n",
      "2025-05-30 11:32:20,046 INFO sqlalchemy.engine.Engine [cached since 1522s ago] {'table_name': <sqlalchemy.sql.elements.TextClause object at 0x124b524a0>, 'param_1': 'r', 'param_2': 'p', 'param_3': 'f', 'param_4': 'v', 'param_5': 'm', 'nspname_1': 'pg_catalog'}\n",
      "2025-05-30 11:32:20,047 INFO sqlalchemy.engine.Engine \n",
      "            SELECT *\n",
      "            FROM transactions\n",
      "            \n",
      "        \n",
      "2025-05-30 11:32:20,048 INFO sqlalchemy.engine.Engine [cached since 1520s ago] {}\n",
      "2025-05-30 11:32:20,256 INFO sqlalchemy.engine.Engine ROLLBACK\n",
      "2025-05-30 11:32:20,445 INFO sqlalchemy.engine.Engine BEGIN (implicit)\n",
      "2025-05-30 11:32:20,447 INFO sqlalchemy.engine.Engine SELECT pg_catalog.pg_class.relname \n",
      "FROM pg_catalog.pg_class JOIN pg_catalog.pg_namespace ON pg_catalog.pg_namespace.oid = pg_catalog.pg_class.relnamespace \n",
      "WHERE pg_catalog.pg_class.relname = %(table_name)s AND pg_catalog.pg_class.relkind = ANY (ARRAY[%(param_1)s, %(param_2)s, %(param_3)s, %(param_4)s, %(param_5)s]) AND pg_catalog.pg_table_is_visible(pg_catalog.pg_class.oid) AND pg_catalog.pg_namespace.nspname != %(nspname_1)s\n",
      "2025-05-30 11:32:20,448 INFO sqlalchemy.engine.Engine [cached since 1522s ago] {'table_name': <sqlalchemy.sql.elements.TextClause object at 0x124b507c0>, 'param_1': 'r', 'param_2': 'p', 'param_3': 'f', 'param_4': 'v', 'param_5': 'm', 'nspname_1': 'pg_catalog'}\n",
      "2025-05-30 11:32:20,449 INFO sqlalchemy.engine.Engine \n",
      "            SELECT *\n",
      "            FROM destination_tokens\n",
      "            \n",
      "        \n",
      "2025-05-30 11:32:20,451 INFO sqlalchemy.engine.Engine [cached since 1519s ago] {}\n",
      "2025-05-30 11:32:20,655 INFO sqlalchemy.engine.Engine ROLLBACK\n",
      "2025-05-30 11:32:20,841 INFO sqlalchemy.engine.Engine BEGIN (implicit)\n",
      "2025-05-30 11:32:20,844 INFO sqlalchemy.engine.Engine SELECT pg_catalog.pg_class.relname \n",
      "FROM pg_catalog.pg_class JOIN pg_catalog.pg_namespace ON pg_catalog.pg_namespace.oid = pg_catalog.pg_class.relnamespace \n",
      "WHERE pg_catalog.pg_class.relname = %(table_name)s AND pg_catalog.pg_class.relkind = ANY (ARRAY[%(param_1)s, %(param_2)s, %(param_3)s, %(param_4)s, %(param_5)s]) AND pg_catalog.pg_table_is_visible(pg_catalog.pg_class.oid) AND pg_catalog.pg_namespace.nspname != %(nspname_1)s\n",
      "2025-05-30 11:32:20,845 INFO sqlalchemy.engine.Engine [cached since 1523s ago] {'table_name': <sqlalchemy.sql.elements.TextClause object at 0x124b521a0>, 'param_1': 'r', 'param_2': 'p', 'param_3': 'f', 'param_4': 'v', 'param_5': 'm', 'nspname_1': 'pg_catalog'}\n",
      "2025-05-30 11:32:20,847 INFO sqlalchemy.engine.Engine \n",
      "            SELECT *\n",
      "            FROM autopool_destinations\n",
      "            \n",
      "        \n",
      "2025-05-30 11:32:20,848 INFO sqlalchemy.engine.Engine [cached since 1519s ago] {}\n",
      "2025-05-30 11:32:21,058 INFO sqlalchemy.engine.Engine ROLLBACK\n"
     ]
    }
   ],
   "source": [
    "from mainnet_launch.database.schema.full import *\n",
    "from mainnet_launch.database.schema.postgres_operations import *\n",
    "\n",
    "from mainnet_launch.constants import *\n",
    "from mainnet_launch.data_fetching.get_state_by_block import *\n",
    "\n",
    "\n",
    "import plotly.express as px\n",
    "from multicall import Call\n",
    "\n",
    "\n",
    "destinations_df = get_full_table_as_df(Destinations, where_clause=Destinations.chain_id == 1)\n",
    "blocks_df = get_full_table_as_df(Blocks, where_clause=Blocks.chain_id == 1)\n",
    "event_df = get_full_table_as_df(RebalanceEvents)\n",
    "plan_df = get_full_table_as_df(RebalancePlans)\n",
    "trasactions_df = get_full_table_as_df(Transactions)\n",
    "destination_tokens_df = get_full_table_as_df(DestinationTokens)\n",
    "AutopoolDestinations_df = get_full_table_as_df(AutopoolDestinations)\n",
    "\n",
    "\n",
    "autopool = AUTO_USD\n",
    "# maybe add a tradeable assets table?y"
   ]
  },
  {
   "cell_type": "code",
   "execution_count": 6,
   "metadata": {},
   "outputs": [
    {
     "name": "stderr",
     "output_type": "stream",
     "text": [
      "2025-05-30 11:11:59.040 Thread 'MainThread': missing ScriptRunContext! This warning can be ignored when running in bare mode.\n",
      "2025-05-30 11:11:59.041 Thread 'MainThread': missing ScriptRunContext! This warning can be ignored when running in bare mode.\n",
      "2025-05-30 11:11:59.041 Thread 'MainThread': missing ScriptRunContext! This warning can be ignored when running in bare mode.\n",
      "2025-05-30 11:11:59.042 Thread 'MainThread': missing ScriptRunContext! This warning can be ignored when running in bare mode.\n",
      "2025-05-30 11:11:59.043 Thread 'MainThread': missing ScriptRunContext! This warning can be ignored when running in bare mode.\n",
      "2025-05-30 11:11:59.044 Thread 'MainThread': missing ScriptRunContext! This warning can be ignored when running in bare mode.\n",
      "2025-05-30 11:11:59.044 Thread 'MainThread': missing ScriptRunContext! This warning can be ignored when running in bare mode.\n",
      "2025-05-30 11:11:59.044 Thread 'MainThread': missing ScriptRunContext! This warning can be ignored when running in bare mode.\n"
     ]
    },
    {
     "name": "stdout",
     "output_type": "stream",
     "text": [
      "2025-05-30 11:11:59,142 INFO sqlalchemy.engine.Engine BEGIN (implicit)\n",
      "2025-05-30 11:11:59,143 INFO sqlalchemy.engine.Engine SELECT pg_catalog.pg_class.relname \n",
      "FROM pg_catalog.pg_class JOIN pg_catalog.pg_namespace ON pg_catalog.pg_namespace.oid = pg_catalog.pg_class.relnamespace \n",
      "WHERE pg_catalog.pg_class.relname = %(table_name)s AND pg_catalog.pg_class.relkind = ANY (ARRAY[%(param_1)s, %(param_2)s, %(param_3)s, %(param_4)s, %(param_5)s]) AND pg_catalog.pg_table_is_visible(pg_catalog.pg_class.oid) AND pg_catalog.pg_namespace.nspname != %(nspname_1)s\n",
      "2025-05-30 11:11:59,143 INFO sqlalchemy.engine.Engine [cached since 301.1s ago] {'table_name': <sqlalchemy.sql.elements.TextClause object at 0x123f29060>, 'param_1': 'r', 'param_2': 'p', 'param_3': 'f', 'param_4': 'v', 'param_5': 'm', 'nspname_1': 'pg_catalog'}\n",
      "2025-05-30 11:11:59,143 INFO sqlalchemy.engine.Engine SELECT\n",
      "    autopool_destinations.*,\n",
      "    destination_tokens.token_address,\n",
      "    tokens.symbol,\n",
      "    tokens.decimals\n",
      "FROM autopool_destinations\n",
      "JOIN destination_tokens\n",
      "  ON autopool_destinations.destination_vault_address = destination_tokens.destination_vault_address\n",
      "JOIN tokens\n",
      "  ON destination_tokens.token_address = tokens.token_address\n",
      "WHERE\n",
      "    (autopool_destinations.autopool_vault_address = '0xa7569A44f348d3D70d8ad5889e50F78E33d80D35')\n",
      "\n",
      "2025-05-30 11:11:59,144 INFO sqlalchemy.engine.Engine [generated in 0.00034s] {}\n",
      "2025-05-30 11:11:59,422 INFO sqlalchemy.engine.Engine ROLLBACK\n"
     ]
    },
    {
     "name": "stderr",
     "output_type": "stream",
     "text": [
      "2025-05-30 11:11:59.515 Thread 'MainThread': missing ScriptRunContext! This warning can be ignored when running in bare mode.\n",
      "2025-05-30 11:11:59.517 Thread 'MainThread': missing ScriptRunContext! This warning can be ignored when running in bare mode.\n"
     ]
    }
   ],
   "source": [
    "rebalance_df = merge_tables_as_df(\n",
    "    selectors=[\n",
    "        TableSelector(\n",
    "            RebalanceEvents,\n",
    "        ),\n",
    "        TableSelector(Transactions, join_on=(Transactions.tx_hash == RebalanceEvents.tx_hash)),\n",
    "        TableSelector(\n",
    "            Blocks,\n",
    "            [Blocks.datetime],\n",
    "            (Transactions.block == Blocks.block) & (Transactions.chain_id == Blocks.chain_id),\n",
    "        ),\n",
    "    ],\n",
    "    where_clause=(RebalanceEvents.autopool_vault_address == AUTO_USD.autopool_eth_addr),\n",
    "    order_by=Blocks.datetime,\n",
    ")\n",
    "\n",
    "tokens_df = merge_tables_as_df(\n",
    "    [\n",
    "        TableSelector(\n",
    "            AutopoolDestinations,\n",
    "        ),\n",
    "        TableSelector(\n",
    "            DestinationTokens,\n",
    "            [DestinationTokens.token_address],\n",
    "            join_on=AutopoolDestinations.destination_vault_address == DestinationTokens.destination_vault_address,\n",
    "        ),\n",
    "        TableSelector(\n",
    "            table=Tokens,\n",
    "            select_fields=[Tokens.symbol, Tokens.decimals],\n",
    "            join_on=(DestinationTokens.token_address == Tokens.token_address),\n",
    "        ),\n",
    "    ],\n",
    "    where_clause=AutopoolDestinations.autopool_vault_address == autopool.autopool_eth_addr,\n",
    ")"
   ]
  },
  {
   "cell_type": "code",
   "execution_count": 9,
   "metadata": {},
   "outputs": [
    {
     "data": {
      "application/vnd.microsoft.datawrangler.viewer.v0+json": {
       "columns": [
        {
         "name": "index",
         "rawType": "int64",
         "type": "integer"
        },
        {
         "name": "destination_vault_address",
         "rawType": "object",
         "type": "string"
        },
        {
         "name": "chain_id",
         "rawType": "int64",
         "type": "integer"
        },
        {
         "name": "autopool_vault_address",
         "rawType": "object",
         "type": "string"
        },
        {
         "name": "token_address",
         "rawType": "object",
         "type": "string"
        },
        {
         "name": "symbol",
         "rawType": "object",
         "type": "string"
        },
        {
         "name": "decimals",
         "rawType": "int64",
         "type": "integer"
        }
       ],
       "ref": "4241f651-16cf-44fa-9459-2317efbf1777",
       "rows": [
        [
         "0",
         "0x04ee6c666a01018a070925040ea2aF6554d051e4",
         "1",
         "0xa7569A44f348d3D70d8ad5889e50F78E33d80D35",
         "0x83F20F44975D03b1b09e64809B757c47f942BEeA",
         "sDAI",
         "18"
        ],
        [
         "1",
         "0x53C8C211350b635269e02B2C2f1077b850C657dB",
         "1",
         "0xa7569A44f348d3D70d8ad5889e50F78E33d80D35",
         "0x0655977FEb2f289A4aB78af67BAB0d17aAb84367",
         "scrvUSD",
         "18"
        ],
        [
         "2",
         "0x65efCF2cce562DCBf07e805eEbeDeF21Dbd8Ea3D",
         "1",
         "0xa7569A44f348d3D70d8ad5889e50F78E33d80D35",
         "0xf939E0A03FB07F59A73314E73794Be0E57ac1b4E",
         "crvUSD",
         "18"
        ],
        [
         "3",
         "0x9906eB64BA32Fb4fD3e5541ecA95e57610084d02",
         "1",
         "0xa7569A44f348d3D70d8ad5889e50F78E33d80D35",
         "0x853d955aCEf822Db058eb8505911ED77F175b99e",
         "FRAX",
         "18"
        ],
        [
         "4",
         "0x3Ee3F7A0B244004B0678EBa98bA091eC101513Ee",
         "1",
         "0xa7569A44f348d3D70d8ad5889e50F78E33d80D35",
         "0x0655977FEb2f289A4aB78af67BAB0d17aAb84367",
         "scrvUSD",
         "18"
        ],
        [
         "5",
         "0xE0649C82BBfF3C8F5FE000CdA5062c55c051B2EE",
         "1",
         "0xa7569A44f348d3D70d8ad5889e50F78E33d80D35",
         "0x9D39A5DE30e57443BfF2A8307A4256c8797A3497",
         "sUSDe",
         "18"
        ],
        [
         "6",
         "0x3Ee3F7A0B244004B0678EBa98bA091eC101513Ee",
         "1",
         "0xa7569A44f348d3D70d8ad5889e50F78E33d80D35",
         "0xa3931d71877C0E7a3148CB7Eb4463524FEc27fbD",
         "sUSDS",
         "18"
        ],
        [
         "7",
         "0xC064A47894349f3cc75D5edb69A2E91c0A049d4A",
         "1",
         "0xa7569A44f348d3D70d8ad5889e50F78E33d80D35",
         "0xD4fa2D31b7968E448877f69A96DE69f5de8cD23E",
         "waEthUSDC",
         "6"
        ],
        [
         "8",
         "0xbB2d2dd491204a86ec10a1a6972F940B34fE060e",
         "1",
         "0xa7569A44f348d3D70d8ad5889e50F78E33d80D35",
         "0xdAC17F958D2ee523a2206206994597C13D831ec7",
         "USDT",
         "6"
        ],
        [
         "9",
         "0x5996333aDf54e3aC8C0Fc3De0fe51de0B75BC00d",
         "1",
         "0xa7569A44f348d3D70d8ad5889e50F78E33d80D35",
         "0xf939E0A03FB07F59A73314E73794Be0E57ac1b4E",
         "crvUSD",
         "18"
        ],
        [
         "10",
         "0xb6E89d23d1E33537D383622B1955EbDa135c0b5A",
         "1",
         "0xa7569A44f348d3D70d8ad5889e50F78E33d80D35",
         "0x9D39A5DE30e57443BfF2A8307A4256c8797A3497",
         "sUSDe",
         "18"
        ],
        [
         "11",
         "0xE54173ba36b507fd6487D21d1d78762B03303f18",
         "1",
         "0xa7569A44f348d3D70d8ad5889e50F78E33d80D35",
         "0x9D39A5DE30e57443BfF2A8307A4256c8797A3497",
         "sUSDe",
         "18"
        ],
        [
         "12",
         "0xC064A47894349f3cc75D5edb69A2E91c0A049d4A",
         "1",
         "0xa7569A44f348d3D70d8ad5889e50F78E33d80D35",
         "0x7Bc3485026Ac48b6cf9BaF0A377477Fff5703Af8",
         "waEthUSDT",
         "6"
        ],
        [
         "13",
         "0x0f170e37E5E0C617148517B831A49292c38c363d",
         "1",
         "0xa7569A44f348d3D70d8ad5889e50F78E33d80D35",
         "0xA0b86991c6218b36c1d19D4a2e9Eb0cE3606eB48",
         "USDC",
         "6"
        ],
        [
         "14",
         "0x4a712BBFD80480eaEd9999DA8971B78DB2E12230",
         "1",
         "0xa7569A44f348d3D70d8ad5889e50F78E33d80D35",
         "0x9D39A5DE30e57443BfF2A8307A4256c8797A3497",
         "sUSDe",
         "18"
        ],
        [
         "15",
         "0x7677569e823D24c15050f7d3d036Ba053785066b",
         "1",
         "0xa7569A44f348d3D70d8ad5889e50F78E33d80D35",
         "0x9D39A5DE30e57443BfF2A8307A4256c8797A3497",
         "sUSDe",
         "18"
        ],
        [
         "16",
         "0x6F628dcCD275feA4277722D177265741031E09d7",
         "1",
         "0xa7569A44f348d3D70d8ad5889e50F78E33d80D35",
         "0xf939E0A03FB07F59A73314E73794Be0E57ac1b4E",
         "crvUSD",
         "18"
        ],
        [
         "17",
         "0xC5c95fCad37E466E25e6ecA1977bbF75C0E1004a",
         "1",
         "0xa7569A44f348d3D70d8ad5889e50F78E33d80D35",
         "0xA0b86991c6218b36c1d19D4a2e9Eb0cE3606eB48",
         "USDC",
         "6"
        ],
        [
         "18",
         "0x734FE415357c9c585794892405dCD714c5Ae68c5",
         "1",
         "0xa7569A44f348d3D70d8ad5889e50F78E33d80D35",
         "0xA663B02CF0a4b149d2aD41910CB81e23e1c41c32",
         "sFRAX",
         "18"
        ],
        [
         "19",
         "0x3F3565C5A2AA05F76830A5a51c2F32018De856A3",
         "1",
         "0xa7569A44f348d3D70d8ad5889e50F78E33d80D35",
         "0xA0b86991c6218b36c1d19D4a2e9Eb0cE3606eB48",
         "USDC",
         "6"
        ],
        [
         "20",
         "0xD6e262094FFa407068b0BEf6bdBcd16DB982b59E",
         "1",
         "0xa7569A44f348d3D70d8ad5889e50F78E33d80D35",
         "0xdAC17F958D2ee523a2206206994597C13D831ec7",
         "USDT",
         "6"
        ],
        [
         "21",
         "0xC099899d0278CE83976218Cbe58D01dD382dcA32",
         "1",
         "0xa7569A44f348d3D70d8ad5889e50F78E33d80D35",
         "0x9D39A5DE30e57443BfF2A8307A4256c8797A3497",
         "sUSDe",
         "18"
        ],
        [
         "22",
         "0xC064A47894349f3cc75D5edb69A2E91c0A049d4A",
         "1",
         "0xa7569A44f348d3D70d8ad5889e50F78E33d80D35",
         "0xC71Ea051a5F82c67ADcF634c36FFE6334793D24C",
         "waEthLidoGHO",
         "18"
        ],
        [
         "23",
         "0x7fC82BAC65A6C61072eF8FA812b4c4694fd175E3",
         "1",
         "0xa7569A44f348d3D70d8ad5889e50F78E33d80D35",
         "0x83F20F44975D03b1b09e64809B757c47f942BEeA",
         "sDAI",
         "18"
        ],
        [
         "24",
         "0x65efCF2cce562DCBf07e805eEbeDeF21Dbd8Ea3D",
         "1",
         "0xa7569A44f348d3D70d8ad5889e50F78E33d80D35",
         "0xA0b86991c6218b36c1d19D4a2e9Eb0cE3606eB48",
         "USDC",
         "6"
        ],
        [
         "25",
         "0xf0F2Eb4366AE0269022F7706A722F8795CDda0c5",
         "1",
         "0xa7569A44f348d3D70d8ad5889e50F78E33d80D35",
         "0x83F20F44975D03b1b09e64809B757c47f942BEeA",
         "sDAI",
         "18"
        ],
        [
         "26",
         "0xa767F35BF1d51f4ab7432188DfE6324934c9CCbD",
         "1",
         "0xa7569A44f348d3D70d8ad5889e50F78E33d80D35",
         "0xa3931d71877C0E7a3148CB7Eb4463524FEc27fbD",
         "sUSDS",
         "18"
        ],
        [
         "27",
         "0xd7900d87069C815a299bdA7aFDcd7eEe98fe4b6c",
         "1",
         "0xa7569A44f348d3D70d8ad5889e50F78E33d80D35",
         "0x4c9EDD5852cd905f086C759E8383e09bff1E68B3",
         "USDe",
         "18"
        ],
        [
         "28",
         "0xa345ceECCF8fe6aE33fe1D655B4806492251c2A8",
         "1",
         "0xa7569A44f348d3D70d8ad5889e50F78E33d80D35",
         "0x40D16FC0246aD3160Ccc09B8D0D3A2cD28aE6C2f",
         "GHO",
         "18"
        ],
        [
         "29",
         "0x5996333aDf54e3aC8C0Fc3De0fe51de0B75BC00d",
         "1",
         "0xa7569A44f348d3D70d8ad5889e50F78E33d80D35",
         "0xA0b86991c6218b36c1d19D4a2e9Eb0cE3606eB48",
         "USDC",
         "6"
        ],
        [
         "30",
         "0xE4545f9dBC30Ccb6Cda6930DDFd69f3D419FcB61",
         "1",
         "0xa7569A44f348d3D70d8ad5889e50F78E33d80D35",
         "0xdAC17F958D2ee523a2206206994597C13D831ec7",
         "USDT",
         "6"
        ],
        [
         "31",
         "0x4686CEe2B3b1Da28a1db926443d5DDd674462b29",
         "1",
         "0xa7569A44f348d3D70d8ad5889e50F78E33d80D35",
         "0xA663B02CF0a4b149d2aD41910CB81e23e1c41c32",
         "sFRAX",
         "18"
        ],
        [
         "32",
         "0x9906eB64BA32Fb4fD3e5541ecA95e57610084d02",
         "1",
         "0xa7569A44f348d3D70d8ad5889e50F78E33d80D35",
         "0xf939E0A03FB07F59A73314E73794Be0E57ac1b4E",
         "crvUSD",
         "18"
        ],
        [
         "33",
         "0xe6b267103A33f01bbcBbb5C247261fB3c040B387",
         "1",
         "0xa7569A44f348d3D70d8ad5889e50F78E33d80D35",
         "0x9D39A5DE30e57443BfF2A8307A4256c8797A3497",
         "sUSDe",
         "18"
        ],
        [
         "34",
         "0x53C8C211350b635269e02B2C2f1077b850C657dB",
         "1",
         "0xa7569A44f348d3D70d8ad5889e50F78E33d80D35",
         "0x9D39A5DE30e57443BfF2A8307A4256c8797A3497",
         "sUSDe",
         "18"
        ],
        [
         "35",
         "0x4e48f97BaFB554F747c80E3F8F2CD947733fb481",
         "1",
         "0xa7569A44f348d3D70d8ad5889e50F78E33d80D35",
         "0xdAC17F958D2ee523a2206206994597C13D831ec7",
         "USDT",
         "6"
        ],
        [
         "36",
         "0x833813b306a5bD8f372F877713D5dB5186559b3d",
         "1",
         "0xa7569A44f348d3D70d8ad5889e50F78E33d80D35",
         "0x0655977FEb2f289A4aB78af67BAB0d17aAb84367",
         "scrvUSD",
         "18"
        ],
        [
         "37",
         "0x6D9b1cF3698Fd5f2E2F5E6344A20A4c062960bC9",
         "1",
         "0xa7569A44f348d3D70d8ad5889e50F78E33d80D35",
         "0x9D39A5DE30e57443BfF2A8307A4256c8797A3497",
         "sUSDe",
         "18"
        ],
        [
         "38",
         "0x6F628dcCD275feA4277722D177265741031E09d7",
         "1",
         "0xa7569A44f348d3D70d8ad5889e50F78E33d80D35",
         "0xdAC17F958D2ee523a2206206994597C13D831ec7",
         "USDT",
         "6"
        ],
        [
         "39",
         "0x41A8DFc857554aE23A4b31188a3109EA4e2377D3",
         "1",
         "0xa7569A44f348d3D70d8ad5889e50F78E33d80D35",
         "0xdAC17F958D2ee523a2206206994597C13D831ec7",
         "USDT",
         "6"
        ],
        [
         "40",
         "0x7583b1589aDD33320366A48A92794D77763FAE9e",
         "1",
         "0xa7569A44f348d3D70d8ad5889e50F78E33d80D35",
         "0xdAC17F958D2ee523a2206206994597C13D831ec7",
         "USDT",
         "6"
        ],
        [
         "41",
         "0xE54173ba36b507fd6487D21d1d78762B03303f18",
         "1",
         "0xa7569A44f348d3D70d8ad5889e50F78E33d80D35",
         "0xa3931d71877C0E7a3148CB7Eb4463524FEc27fbD",
         "sUSDS",
         "18"
        ],
        [
         "42",
         "0x4e48f97BaFB554F747c80E3F8F2CD947733fb481",
         "1",
         "0xa7569A44f348d3D70d8ad5889e50F78E33d80D35",
         "0xA0b86991c6218b36c1d19D4a2e9Eb0cE3606eB48",
         "USDC",
         "6"
        ],
        [
         "43",
         "0xAd7b8dB1efEe849c67060c6b10BC7D6D3C607aa5",
         "1",
         "0xa7569A44f348d3D70d8ad5889e50F78E33d80D35",
         "0x83F20F44975D03b1b09e64809B757c47f942BEeA",
         "sDAI",
         "18"
        ],
        [
         "44",
         "0x7876F91BB22148345b3De16af9448081E9853830",
         "1",
         "0xa7569A44f348d3D70d8ad5889e50F78E33d80D35",
         "0xA0b86991c6218b36c1d19D4a2e9Eb0cE3606eB48",
         "USDC",
         "6"
        ],
        [
         "45",
         "0x8acA8accFb69adeff607431E0F25466B7b76a8Ad",
         "1",
         "0xa7569A44f348d3D70d8ad5889e50F78E33d80D35",
         "0x0655977FEb2f289A4aB78af67BAB0d17aAb84367",
         "scrvUSD",
         "18"
        ],
        [
         "46",
         "0x77fa99c62e746C98a7c24d0EFA2120F4eee9a993",
         "1",
         "0xa7569A44f348d3D70d8ad5889e50F78E33d80D35",
         "0x83F20F44975D03b1b09e64809B757c47f942BEeA",
         "sDAI",
         "18"
        ],
        [
         "47",
         "0x7583b1589aDD33320366A48A92794D77763FAE9e",
         "1",
         "0xa7569A44f348d3D70d8ad5889e50F78E33d80D35",
         "0xf939E0A03FB07F59A73314E73794Be0E57ac1b4E",
         "crvUSD",
         "18"
        ],
        [
         "48",
         "0x833813b306a5bD8f372F877713D5dB5186559b3d",
         "1",
         "0xa7569A44f348d3D70d8ad5889e50F78E33d80D35",
         "0x9D39A5DE30e57443BfF2A8307A4256c8797A3497",
         "sUSDe",
         "18"
        ],
        [
         "49",
         "0x7677569e823D24c15050f7d3d036Ba053785066b",
         "1",
         "0xa7569A44f348d3D70d8ad5889e50F78E33d80D35",
         "0xa3931d71877C0E7a3148CB7Eb4463524FEc27fbD",
         "sUSDS",
         "18"
        ]
       ],
       "shape": {
        "columns": 6,
        "rows": 82
       }
      },
      "text/html": [
       "<div>\n",
       "<style scoped>\n",
       "    .dataframe tbody tr th:only-of-type {\n",
       "        vertical-align: middle;\n",
       "    }\n",
       "\n",
       "    .dataframe tbody tr th {\n",
       "        vertical-align: top;\n",
       "    }\n",
       "\n",
       "    .dataframe thead th {\n",
       "        text-align: right;\n",
       "    }\n",
       "</style>\n",
       "<table border=\"1\" class=\"dataframe\">\n",
       "  <thead>\n",
       "    <tr style=\"text-align: right;\">\n",
       "      <th></th>\n",
       "      <th>destination_vault_address</th>\n",
       "      <th>chain_id</th>\n",
       "      <th>autopool_vault_address</th>\n",
       "      <th>token_address</th>\n",
       "      <th>symbol</th>\n",
       "      <th>decimals</th>\n",
       "    </tr>\n",
       "  </thead>\n",
       "  <tbody>\n",
       "    <tr>\n",
       "      <th>0</th>\n",
       "      <td>0x04ee6c666a01018a070925040ea2aF6554d051e4</td>\n",
       "      <td>1</td>\n",
       "      <td>0xa7569A44f348d3D70d8ad5889e50F78E33d80D35</td>\n",
       "      <td>0x83F20F44975D03b1b09e64809B757c47f942BEeA</td>\n",
       "      <td>sDAI</td>\n",
       "      <td>18</td>\n",
       "    </tr>\n",
       "    <tr>\n",
       "      <th>1</th>\n",
       "      <td>0x53C8C211350b635269e02B2C2f1077b850C657dB</td>\n",
       "      <td>1</td>\n",
       "      <td>0xa7569A44f348d3D70d8ad5889e50F78E33d80D35</td>\n",
       "      <td>0x0655977FEb2f289A4aB78af67BAB0d17aAb84367</td>\n",
       "      <td>scrvUSD</td>\n",
       "      <td>18</td>\n",
       "    </tr>\n",
       "    <tr>\n",
       "      <th>2</th>\n",
       "      <td>0x65efCF2cce562DCBf07e805eEbeDeF21Dbd8Ea3D</td>\n",
       "      <td>1</td>\n",
       "      <td>0xa7569A44f348d3D70d8ad5889e50F78E33d80D35</td>\n",
       "      <td>0xf939E0A03FB07F59A73314E73794Be0E57ac1b4E</td>\n",
       "      <td>crvUSD</td>\n",
       "      <td>18</td>\n",
       "    </tr>\n",
       "    <tr>\n",
       "      <th>3</th>\n",
       "      <td>0x9906eB64BA32Fb4fD3e5541ecA95e57610084d02</td>\n",
       "      <td>1</td>\n",
       "      <td>0xa7569A44f348d3D70d8ad5889e50F78E33d80D35</td>\n",
       "      <td>0x853d955aCEf822Db058eb8505911ED77F175b99e</td>\n",
       "      <td>FRAX</td>\n",
       "      <td>18</td>\n",
       "    </tr>\n",
       "    <tr>\n",
       "      <th>4</th>\n",
       "      <td>0x3Ee3F7A0B244004B0678EBa98bA091eC101513Ee</td>\n",
       "      <td>1</td>\n",
       "      <td>0xa7569A44f348d3D70d8ad5889e50F78E33d80D35</td>\n",
       "      <td>0x0655977FEb2f289A4aB78af67BAB0d17aAb84367</td>\n",
       "      <td>scrvUSD</td>\n",
       "      <td>18</td>\n",
       "    </tr>\n",
       "    <tr>\n",
       "      <th>...</th>\n",
       "      <td>...</td>\n",
       "      <td>...</td>\n",
       "      <td>...</td>\n",
       "      <td>...</td>\n",
       "      <td>...</td>\n",
       "      <td>...</td>\n",
       "    </tr>\n",
       "    <tr>\n",
       "      <th>77</th>\n",
       "      <td>0x769C6bEA7db25F4c0a52f0dB0960c42F708DBF41</td>\n",
       "      <td>1</td>\n",
       "      <td>0xa7569A44f348d3D70d8ad5889e50F78E33d80D35</td>\n",
       "      <td>0xA0b86991c6218b36c1d19D4a2e9Eb0cE3606eB48</td>\n",
       "      <td>USDC</td>\n",
       "      <td>6</td>\n",
       "    </tr>\n",
       "    <tr>\n",
       "      <th>78</th>\n",
       "      <td>0x9Fe20B75709403723610Fd2995D0f4A9e19C3514</td>\n",
       "      <td>1</td>\n",
       "      <td>0xa7569A44f348d3D70d8ad5889e50F78E33d80D35</td>\n",
       "      <td>0xA0b86991c6218b36c1d19D4a2e9Eb0cE3606eB48</td>\n",
       "      <td>USDC</td>\n",
       "      <td>6</td>\n",
       "    </tr>\n",
       "    <tr>\n",
       "      <th>79</th>\n",
       "      <td>0xEeEE628a00B0EDa99D1bc78a72Fa2F2Df4AdE2F4</td>\n",
       "      <td>1</td>\n",
       "      <td>0xa7569A44f348d3D70d8ad5889e50F78E33d80D35</td>\n",
       "      <td>0xf939E0A03FB07F59A73314E73794Be0E57ac1b4E</td>\n",
       "      <td>crvUSD</td>\n",
       "      <td>18</td>\n",
       "    </tr>\n",
       "    <tr>\n",
       "      <th>80</th>\n",
       "      <td>0x9b18801C9E95f45AD0aDD54ef2Eb4690c44d170d</td>\n",
       "      <td>1</td>\n",
       "      <td>0xa7569A44f348d3D70d8ad5889e50F78E33d80D35</td>\n",
       "      <td>0xcf62F905562626CfcDD2261162a51fd02Fc9c5b6</td>\n",
       "      <td>sfrxUSD</td>\n",
       "      <td>18</td>\n",
       "    </tr>\n",
       "    <tr>\n",
       "      <th>81</th>\n",
       "      <td>0x41A8DFc857554aE23A4b31188a3109EA4e2377D3</td>\n",
       "      <td>1</td>\n",
       "      <td>0xa7569A44f348d3D70d8ad5889e50F78E33d80D35</td>\n",
       "      <td>0xA0b86991c6218b36c1d19D4a2e9Eb0cE3606eB48</td>\n",
       "      <td>USDC</td>\n",
       "      <td>6</td>\n",
       "    </tr>\n",
       "  </tbody>\n",
       "</table>\n",
       "<p>82 rows × 6 columns</p>\n",
       "</div>"
      ],
      "text/plain": [
       "                     destination_vault_address  chain_id  \\\n",
       "0   0x04ee6c666a01018a070925040ea2aF6554d051e4         1   \n",
       "1   0x53C8C211350b635269e02B2C2f1077b850C657dB         1   \n",
       "2   0x65efCF2cce562DCBf07e805eEbeDeF21Dbd8Ea3D         1   \n",
       "3   0x9906eB64BA32Fb4fD3e5541ecA95e57610084d02         1   \n",
       "4   0x3Ee3F7A0B244004B0678EBa98bA091eC101513Ee         1   \n",
       "..                                         ...       ...   \n",
       "77  0x769C6bEA7db25F4c0a52f0dB0960c42F708DBF41         1   \n",
       "78  0x9Fe20B75709403723610Fd2995D0f4A9e19C3514         1   \n",
       "79  0xEeEE628a00B0EDa99D1bc78a72Fa2F2Df4AdE2F4         1   \n",
       "80  0x9b18801C9E95f45AD0aDD54ef2Eb4690c44d170d         1   \n",
       "81  0x41A8DFc857554aE23A4b31188a3109EA4e2377D3         1   \n",
       "\n",
       "                        autopool_vault_address  \\\n",
       "0   0xa7569A44f348d3D70d8ad5889e50F78E33d80D35   \n",
       "1   0xa7569A44f348d3D70d8ad5889e50F78E33d80D35   \n",
       "2   0xa7569A44f348d3D70d8ad5889e50F78E33d80D35   \n",
       "3   0xa7569A44f348d3D70d8ad5889e50F78E33d80D35   \n",
       "4   0xa7569A44f348d3D70d8ad5889e50F78E33d80D35   \n",
       "..                                         ...   \n",
       "77  0xa7569A44f348d3D70d8ad5889e50F78E33d80D35   \n",
       "78  0xa7569A44f348d3D70d8ad5889e50F78E33d80D35   \n",
       "79  0xa7569A44f348d3D70d8ad5889e50F78E33d80D35   \n",
       "80  0xa7569A44f348d3D70d8ad5889e50F78E33d80D35   \n",
       "81  0xa7569A44f348d3D70d8ad5889e50F78E33d80D35   \n",
       "\n",
       "                                 token_address   symbol  decimals  \n",
       "0   0x83F20F44975D03b1b09e64809B757c47f942BEeA     sDAI        18  \n",
       "1   0x0655977FEb2f289A4aB78af67BAB0d17aAb84367  scrvUSD        18  \n",
       "2   0xf939E0A03FB07F59A73314E73794Be0E57ac1b4E   crvUSD        18  \n",
       "3   0x853d955aCEf822Db058eb8505911ED77F175b99e     FRAX        18  \n",
       "4   0x0655977FEb2f289A4aB78af67BAB0d17aAb84367  scrvUSD        18  \n",
       "..                                         ...      ...       ...  \n",
       "77  0xA0b86991c6218b36c1d19D4a2e9Eb0cE3606eB48     USDC         6  \n",
       "78  0xA0b86991c6218b36c1d19D4a2e9Eb0cE3606eB48     USDC         6  \n",
       "79  0xf939E0A03FB07F59A73314E73794Be0E57ac1b4E   crvUSD        18  \n",
       "80  0xcf62F905562626CfcDD2261162a51fd02Fc9c5b6  sfrxUSD        18  \n",
       "81  0xA0b86991c6218b36c1d19D4a2e9Eb0cE3606eB48     USDC         6  \n",
       "\n",
       "[82 rows x 6 columns]"
      ]
     },
     "execution_count": 9,
     "metadata": {},
     "output_type": "execute_result"
    }
   ],
   "source": [
    "tokens_df"
   ]
  },
  {
   "cell_type": "code",
   "execution_count": null,
   "metadata": {},
   "outputs": [
    {
     "ename": "ValueError",
     "evalue": "cannot reindex on an axis with duplicate labels",
     "output_type": "error",
     "traceback": [
      "\u001b[0;31m---------------------------------------------------------------------------\u001b[0m",
      "\u001b[0;31mValueError\u001b[0m                                Traceback (most recent call last)",
      "Cell \u001b[0;32mIn[19], line 1\u001b[0m\n\u001b[0;32m----> 1\u001b[0m \u001b[43mrebalance_df\u001b[49m\u001b[43m[\u001b[49m\u001b[43mrebalance_df\u001b[49m\u001b[43m[\u001b[49m\u001b[38;5;124;43m'\u001b[39;49m\u001b[38;5;124;43mtx_hash\u001b[39;49m\u001b[38;5;124;43m'\u001b[39;49m\u001b[43m]\u001b[49m\u001b[43m \u001b[49m\u001b[38;5;241;43m==\u001b[39;49m\u001b[43m \u001b[49m\u001b[38;5;124;43m'\u001b[39;49m\u001b[38;5;124;43m0xa48c0d19f6e7b4a41c7557a957a6b748075491d5eba08112bf010708b43da7bf\u001b[39;49m\u001b[38;5;124;43m'\u001b[39;49m\u001b[43m]\u001b[49m\u001b[38;5;241m.\u001b[39mT\n",
      "File \u001b[0;32m~/Library/Caches/pypoetry/virtualenvs/mainnet-launch-FtycU18g-py3.10/lib/python3.10/site-packages/pandas/core/frame.py:4089\u001b[0m, in \u001b[0;36mDataFrame.__getitem__\u001b[0;34m(self, key)\u001b[0m\n\u001b[1;32m   4087\u001b[0m \u001b[38;5;66;03m# Do we have a (boolean) DataFrame?\u001b[39;00m\n\u001b[1;32m   4088\u001b[0m \u001b[38;5;28;01mif\u001b[39;00m \u001b[38;5;28misinstance\u001b[39m(key, DataFrame):\n\u001b[0;32m-> 4089\u001b[0m     \u001b[38;5;28;01mreturn\u001b[39;00m \u001b[38;5;28;43mself\u001b[39;49m\u001b[38;5;241;43m.\u001b[39;49m\u001b[43mwhere\u001b[49m\u001b[43m(\u001b[49m\u001b[43mkey\u001b[49m\u001b[43m)\u001b[49m\n\u001b[1;32m   4091\u001b[0m \u001b[38;5;66;03m# Do we have a (boolean) 1d indexer?\u001b[39;00m\n\u001b[1;32m   4092\u001b[0m \u001b[38;5;28;01mif\u001b[39;00m com\u001b[38;5;241m.\u001b[39mis_bool_indexer(key):\n",
      "File \u001b[0;32m~/Library/Caches/pypoetry/virtualenvs/mainnet-launch-FtycU18g-py3.10/lib/python3.10/site-packages/pandas/core/generic.py:10984\u001b[0m, in \u001b[0;36mNDFrame.where\u001b[0;34m(self, cond, other, inplace, axis, level)\u001b[0m\n\u001b[1;32m  10977\u001b[0m             warnings\u001b[38;5;241m.\u001b[39mwarn(\n\u001b[1;32m  10978\u001b[0m                 _chained_assignment_warning_method_msg,\n\u001b[1;32m  10979\u001b[0m                 \u001b[38;5;167;01mFutureWarning\u001b[39;00m,\n\u001b[1;32m  10980\u001b[0m                 stacklevel\u001b[38;5;241m=\u001b[39m\u001b[38;5;241m2\u001b[39m,\n\u001b[1;32m  10981\u001b[0m             )\n\u001b[1;32m  10983\u001b[0m other \u001b[38;5;241m=\u001b[39m common\u001b[38;5;241m.\u001b[39mapply_if_callable(other, \u001b[38;5;28mself\u001b[39m)\n\u001b[0;32m> 10984\u001b[0m \u001b[38;5;28;01mreturn\u001b[39;00m \u001b[38;5;28;43mself\u001b[39;49m\u001b[38;5;241;43m.\u001b[39;49m\u001b[43m_where\u001b[49m\u001b[43m(\u001b[49m\u001b[43mcond\u001b[49m\u001b[43m,\u001b[49m\u001b[43m \u001b[49m\u001b[43mother\u001b[49m\u001b[43m,\u001b[49m\u001b[43m \u001b[49m\u001b[43minplace\u001b[49m\u001b[43m,\u001b[49m\u001b[43m \u001b[49m\u001b[43maxis\u001b[49m\u001b[43m,\u001b[49m\u001b[43m \u001b[49m\u001b[43mlevel\u001b[49m\u001b[43m)\u001b[49m\n",
      "File \u001b[0;32m~/Library/Caches/pypoetry/virtualenvs/mainnet-launch-FtycU18g-py3.10/lib/python3.10/site-packages/pandas/core/generic.py:10685\u001b[0m, in \u001b[0;36mNDFrame._where\u001b[0;34m(self, cond, other, inplace, axis, level, warn)\u001b[0m\n\u001b[1;32m  10682\u001b[0m     cond \u001b[38;5;241m=\u001b[39m cond\u001b[38;5;241m.\u001b[39mastype(\u001b[38;5;28mbool\u001b[39m)\n\u001b[1;32m  10684\u001b[0m cond \u001b[38;5;241m=\u001b[39m \u001b[38;5;241m-\u001b[39mcond \u001b[38;5;28;01mif\u001b[39;00m inplace \u001b[38;5;28;01melse\u001b[39;00m cond\n\u001b[0;32m> 10685\u001b[0m cond \u001b[38;5;241m=\u001b[39m \u001b[43mcond\u001b[49m\u001b[38;5;241;43m.\u001b[39;49m\u001b[43mreindex\u001b[49m\u001b[43m(\u001b[49m\u001b[38;5;28;43mself\u001b[39;49m\u001b[38;5;241;43m.\u001b[39;49m\u001b[43m_info_axis\u001b[49m\u001b[43m,\u001b[49m\u001b[43m \u001b[49m\u001b[43maxis\u001b[49m\u001b[38;5;241;43m=\u001b[39;49m\u001b[38;5;28;43mself\u001b[39;49m\u001b[38;5;241;43m.\u001b[39;49m\u001b[43m_info_axis_number\u001b[49m\u001b[43m,\u001b[49m\u001b[43m \u001b[49m\u001b[43mcopy\u001b[49m\u001b[38;5;241;43m=\u001b[39;49m\u001b[38;5;28;43;01mFalse\u001b[39;49;00m\u001b[43m)\u001b[49m\n\u001b[1;32m  10687\u001b[0m \u001b[38;5;66;03m# try to align with other\u001b[39;00m\n\u001b[1;32m  10688\u001b[0m \u001b[38;5;28;01mif\u001b[39;00m \u001b[38;5;28misinstance\u001b[39m(other, NDFrame):\n\u001b[1;32m  10689\u001b[0m     \u001b[38;5;66;03m# align with me\u001b[39;00m\n",
      "File \u001b[0;32m~/Library/Caches/pypoetry/virtualenvs/mainnet-launch-FtycU18g-py3.10/lib/python3.10/site-packages/pandas/core/frame.py:5378\u001b[0m, in \u001b[0;36mDataFrame.reindex\u001b[0;34m(self, labels, index, columns, axis, method, copy, level, fill_value, limit, tolerance)\u001b[0m\n\u001b[1;32m   5359\u001b[0m \u001b[38;5;129m@doc\u001b[39m(\n\u001b[1;32m   5360\u001b[0m     NDFrame\u001b[38;5;241m.\u001b[39mreindex,\n\u001b[1;32m   5361\u001b[0m     klass\u001b[38;5;241m=\u001b[39m_shared_doc_kwargs[\u001b[38;5;124m\"\u001b[39m\u001b[38;5;124mklass\u001b[39m\u001b[38;5;124m\"\u001b[39m],\n\u001b[0;32m   (...)\u001b[0m\n\u001b[1;32m   5376\u001b[0m     tolerance\u001b[38;5;241m=\u001b[39m\u001b[38;5;28;01mNone\u001b[39;00m,\n\u001b[1;32m   5377\u001b[0m ) \u001b[38;5;241m-\u001b[39m\u001b[38;5;241m>\u001b[39m DataFrame:\n\u001b[0;32m-> 5378\u001b[0m     \u001b[38;5;28;01mreturn\u001b[39;00m \u001b[38;5;28;43msuper\u001b[39;49m\u001b[43m(\u001b[49m\u001b[43m)\u001b[49m\u001b[38;5;241;43m.\u001b[39;49m\u001b[43mreindex\u001b[49m\u001b[43m(\u001b[49m\n\u001b[1;32m   5379\u001b[0m \u001b[43m        \u001b[49m\u001b[43mlabels\u001b[49m\u001b[38;5;241;43m=\u001b[39;49m\u001b[43mlabels\u001b[49m\u001b[43m,\u001b[49m\n\u001b[1;32m   5380\u001b[0m \u001b[43m        \u001b[49m\u001b[43mindex\u001b[49m\u001b[38;5;241;43m=\u001b[39;49m\u001b[43mindex\u001b[49m\u001b[43m,\u001b[49m\n\u001b[1;32m   5381\u001b[0m \u001b[43m        \u001b[49m\u001b[43mcolumns\u001b[49m\u001b[38;5;241;43m=\u001b[39;49m\u001b[43mcolumns\u001b[49m\u001b[43m,\u001b[49m\n\u001b[1;32m   5382\u001b[0m \u001b[43m        \u001b[49m\u001b[43maxis\u001b[49m\u001b[38;5;241;43m=\u001b[39;49m\u001b[43maxis\u001b[49m\u001b[43m,\u001b[49m\n\u001b[1;32m   5383\u001b[0m \u001b[43m        \u001b[49m\u001b[43mmethod\u001b[49m\u001b[38;5;241;43m=\u001b[39;49m\u001b[43mmethod\u001b[49m\u001b[43m,\u001b[49m\n\u001b[1;32m   5384\u001b[0m \u001b[43m        \u001b[49m\u001b[43mcopy\u001b[49m\u001b[38;5;241;43m=\u001b[39;49m\u001b[43mcopy\u001b[49m\u001b[43m,\u001b[49m\n\u001b[1;32m   5385\u001b[0m \u001b[43m        \u001b[49m\u001b[43mlevel\u001b[49m\u001b[38;5;241;43m=\u001b[39;49m\u001b[43mlevel\u001b[49m\u001b[43m,\u001b[49m\n\u001b[1;32m   5386\u001b[0m \u001b[43m        \u001b[49m\u001b[43mfill_value\u001b[49m\u001b[38;5;241;43m=\u001b[39;49m\u001b[43mfill_value\u001b[49m\u001b[43m,\u001b[49m\n\u001b[1;32m   5387\u001b[0m \u001b[43m        \u001b[49m\u001b[43mlimit\u001b[49m\u001b[38;5;241;43m=\u001b[39;49m\u001b[43mlimit\u001b[49m\u001b[43m,\u001b[49m\n\u001b[1;32m   5388\u001b[0m \u001b[43m        \u001b[49m\u001b[43mtolerance\u001b[49m\u001b[38;5;241;43m=\u001b[39;49m\u001b[43mtolerance\u001b[49m\u001b[43m,\u001b[49m\n\u001b[1;32m   5389\u001b[0m \u001b[43m    \u001b[49m\u001b[43m)\u001b[49m\n",
      "File \u001b[0;32m~/Library/Caches/pypoetry/virtualenvs/mainnet-launch-FtycU18g-py3.10/lib/python3.10/site-packages/pandas/core/generic.py:5610\u001b[0m, in \u001b[0;36mNDFrame.reindex\u001b[0;34m(self, labels, index, columns, axis, method, copy, level, fill_value, limit, tolerance)\u001b[0m\n\u001b[1;32m   5607\u001b[0m     \u001b[38;5;28;01mreturn\u001b[39;00m \u001b[38;5;28mself\u001b[39m\u001b[38;5;241m.\u001b[39m_reindex_multi(axes, copy, fill_value)\n\u001b[1;32m   5609\u001b[0m \u001b[38;5;66;03m# perform the reindex on the axes\u001b[39;00m\n\u001b[0;32m-> 5610\u001b[0m \u001b[38;5;28;01mreturn\u001b[39;00m \u001b[38;5;28;43mself\u001b[39;49m\u001b[38;5;241;43m.\u001b[39;49m\u001b[43m_reindex_axes\u001b[49m\u001b[43m(\u001b[49m\n\u001b[1;32m   5611\u001b[0m \u001b[43m    \u001b[49m\u001b[43maxes\u001b[49m\u001b[43m,\u001b[49m\u001b[43m \u001b[49m\u001b[43mlevel\u001b[49m\u001b[43m,\u001b[49m\u001b[43m \u001b[49m\u001b[43mlimit\u001b[49m\u001b[43m,\u001b[49m\u001b[43m \u001b[49m\u001b[43mtolerance\u001b[49m\u001b[43m,\u001b[49m\u001b[43m \u001b[49m\u001b[43mmethod\u001b[49m\u001b[43m,\u001b[49m\u001b[43m \u001b[49m\u001b[43mfill_value\u001b[49m\u001b[43m,\u001b[49m\u001b[43m \u001b[49m\u001b[43mcopy\u001b[49m\n\u001b[1;32m   5612\u001b[0m \u001b[43m\u001b[49m\u001b[43m)\u001b[49m\u001b[38;5;241m.\u001b[39m__finalize__(\u001b[38;5;28mself\u001b[39m, method\u001b[38;5;241m=\u001b[39m\u001b[38;5;124m\"\u001b[39m\u001b[38;5;124mreindex\u001b[39m\u001b[38;5;124m\"\u001b[39m)\n",
      "File \u001b[0;32m~/Library/Caches/pypoetry/virtualenvs/mainnet-launch-FtycU18g-py3.10/lib/python3.10/site-packages/pandas/core/generic.py:5633\u001b[0m, in \u001b[0;36mNDFrame._reindex_axes\u001b[0;34m(self, axes, level, limit, tolerance, method, fill_value, copy)\u001b[0m\n\u001b[1;32m   5630\u001b[0m     \u001b[38;5;28;01mcontinue\u001b[39;00m\n\u001b[1;32m   5632\u001b[0m ax \u001b[38;5;241m=\u001b[39m \u001b[38;5;28mself\u001b[39m\u001b[38;5;241m.\u001b[39m_get_axis(a)\n\u001b[0;32m-> 5633\u001b[0m new_index, indexer \u001b[38;5;241m=\u001b[39m \u001b[43max\u001b[49m\u001b[38;5;241;43m.\u001b[39;49m\u001b[43mreindex\u001b[49m\u001b[43m(\u001b[49m\n\u001b[1;32m   5634\u001b[0m \u001b[43m    \u001b[49m\u001b[43mlabels\u001b[49m\u001b[43m,\u001b[49m\u001b[43m \u001b[49m\u001b[43mlevel\u001b[49m\u001b[38;5;241;43m=\u001b[39;49m\u001b[43mlevel\u001b[49m\u001b[43m,\u001b[49m\u001b[43m \u001b[49m\u001b[43mlimit\u001b[49m\u001b[38;5;241;43m=\u001b[39;49m\u001b[43mlimit\u001b[49m\u001b[43m,\u001b[49m\u001b[43m \u001b[49m\u001b[43mtolerance\u001b[49m\u001b[38;5;241;43m=\u001b[39;49m\u001b[43mtolerance\u001b[49m\u001b[43m,\u001b[49m\u001b[43m \u001b[49m\u001b[43mmethod\u001b[49m\u001b[38;5;241;43m=\u001b[39;49m\u001b[43mmethod\u001b[49m\n\u001b[1;32m   5635\u001b[0m \u001b[43m\u001b[49m\u001b[43m)\u001b[49m\n\u001b[1;32m   5637\u001b[0m axis \u001b[38;5;241m=\u001b[39m \u001b[38;5;28mself\u001b[39m\u001b[38;5;241m.\u001b[39m_get_axis_number(a)\n\u001b[1;32m   5638\u001b[0m obj \u001b[38;5;241m=\u001b[39m obj\u001b[38;5;241m.\u001b[39m_reindex_with_indexers(\n\u001b[1;32m   5639\u001b[0m     {axis: [new_index, indexer]},\n\u001b[1;32m   5640\u001b[0m     fill_value\u001b[38;5;241m=\u001b[39mfill_value,\n\u001b[1;32m   5641\u001b[0m     copy\u001b[38;5;241m=\u001b[39mcopy,\n\u001b[1;32m   5642\u001b[0m     allow_dups\u001b[38;5;241m=\u001b[39m\u001b[38;5;28;01mFalse\u001b[39;00m,\n\u001b[1;32m   5643\u001b[0m )\n",
      "File \u001b[0;32m~/Library/Caches/pypoetry/virtualenvs/mainnet-launch-FtycU18g-py3.10/lib/python3.10/site-packages/pandas/core/indexes/base.py:4429\u001b[0m, in \u001b[0;36mIndex.reindex\u001b[0;34m(self, target, method, level, limit, tolerance)\u001b[0m\n\u001b[1;32m   4426\u001b[0m     \u001b[38;5;28;01mraise\u001b[39;00m \u001b[38;5;167;01mValueError\u001b[39;00m(\u001b[38;5;124m\"\u001b[39m\u001b[38;5;124mcannot handle a non-unique multi-index!\u001b[39m\u001b[38;5;124m\"\u001b[39m)\n\u001b[1;32m   4427\u001b[0m \u001b[38;5;28;01melif\u001b[39;00m \u001b[38;5;129;01mnot\u001b[39;00m \u001b[38;5;28mself\u001b[39m\u001b[38;5;241m.\u001b[39mis_unique:\n\u001b[1;32m   4428\u001b[0m     \u001b[38;5;66;03m# GH#42568\u001b[39;00m\n\u001b[0;32m-> 4429\u001b[0m     \u001b[38;5;28;01mraise\u001b[39;00m \u001b[38;5;167;01mValueError\u001b[39;00m(\u001b[38;5;124m\"\u001b[39m\u001b[38;5;124mcannot reindex on an axis with duplicate labels\u001b[39m\u001b[38;5;124m\"\u001b[39m)\n\u001b[1;32m   4430\u001b[0m \u001b[38;5;28;01melse\u001b[39;00m:\n\u001b[1;32m   4431\u001b[0m     indexer, _ \u001b[38;5;241m=\u001b[39m \u001b[38;5;28mself\u001b[39m\u001b[38;5;241m.\u001b[39mget_indexer_non_unique(target)\n",
      "\u001b[0;31mValueError\u001b[0m: cannot reindex on an axis with duplicate labels"
     ]
    }
   ],
   "source": []
  },
  {
   "cell_type": "code",
   "execution_count": null,
   "metadata": {},
   "outputs": [],
   "source": [
    "# map decimals → normalizer\n",
    "dec_norm = {\n",
    "    6: safe_normalize_6_with_bool_success,\n",
    "    18: safe_normalize_with_bool_success,\n",
    "}\n",
    "\n",
    "autoUSD_flash_borrow_solver = \"0xD02b50CFc6c2903bF13638B28D081ad11515B6f9\"\n",
    "\n",
    "balance_of_calls = [\n",
    "    Call(\n",
    "        row[\"token_address\"],\n",
    "        [\"balanceOf(address)(uint256)\", autoUSD_flash_borrow_solver],\n",
    "        [row[\"token_address\"]],\n",
    "    )\n",
    "    for _, row in tokens_df.iterrows()\n",
    "]\n",
    "\n",
    "\n",
    "before = get_state_by_one_block(balance_of_calls, block_number - 1, ETH_CHAIN)\n",
    "after = get_state_by_one_block(balance_of_calls, block_number, ETH_CHAIN)"
   ]
  },
  {
   "cell_type": "code",
   "execution_count": null,
   "metadata": {},
   "outputs": [],
   "source": [
    "from mainnet_launch.database.schema.ensure_tables_are_current.using_onchain.update_destination_token_values_tables import (\n",
    "    _build_USD_autopool_price_calls,\n",
    "    _build_ETH_autopool_price_calls,\n",
    ")"
   ]
  },
  {
   "cell_type": "code",
   "execution_count": null,
   "metadata": {},
   "outputs": [],
   "source": [
    "autoUSD_flash_borrow_solver = \"0xD02b50CFc6c2903bF13638B28D081ad11515B6f9\"\n",
    "usdt = \"0xdAC17F958D2ee523a2206206994597C13D831ec7\"\n",
    "flash_borrow_usdt_bal = Call(\n",
    "    usdt,\n",
    "    [\"balanceOf(address)(uint256)\", autoUSD_flash_borrow_solver],\n",
    "    [((\"flash_borrow_usdt_balance\"), safe_normalize_6_with_bool_success)],\n",
    ")\n",
    "before = get_state_by_one_block([flash_borrow_usdt_bal], 22537762 - 1, ETH_CHAIN)\n",
    "after = get_state_by_one_block([flash_borrow_usdt_bal], 22537762, ETH_CHAIN)"
   ]
  },
  {
   "cell_type": "code",
   "execution_count": 17,
   "metadata": {},
   "outputs": [
    {
     "data": {
      "text/plain": [
       "Index(['destination_vault_address', 'chain_id', 'autopool_vault_address',\n",
       "       'token_address', 'symbol', 'decimals'],\n",
       "      dtype='object')"
      ]
     },
     "execution_count": 17,
     "metadata": {},
     "output_type": "execute_result"
    }
   ],
   "source": [
    "tokens_df.columns"
   ]
  },
  {
   "cell_type": "code",
   "execution_count": 16,
   "metadata": {},
   "outputs": [
    {
     "data": {
      "text/plain": [
       "Index(['tx_hash', 'autopool_vault_address', 'chain_id', 'rebalance_file_path',\n",
       "       'destination_out', 'destination_in', 'quantity_out', 'quantity_in',\n",
       "       'safe_value_out', 'safe_value_in', 'spot_value_in', 'spot_value_out',\n",
       "       'swap_offset_period', 'tx_hash', 'block', 'chain_id', 'from_address',\n",
       "       'to_address', 'effective_gas_price', 'gas_used', 'gas_cost_in_eth',\n",
       "       'datetime'],\n",
       "      dtype='object')"
      ]
     },
     "execution_count": 16,
     "metadata": {},
     "output_type": "execute_result"
    }
   ],
   "source": [
    "rebalance_df.columns"
   ]
  },
  {
   "cell_type": "code",
   "execution_count": null,
   "metadata": {},
   "outputs": [],
   "source": []
  }
 ],
 "metadata": {
  "kernelspec": {
   "display_name": "mainnet-launch-FtycU18g-py3.10",
   "language": "python",
   "name": "python3"
  },
  "language_info": {
   "codemirror_mode": {
    "name": "ipython",
    "version": 3
   },
   "file_extension": ".py",
   "mimetype": "text/x-python",
   "name": "python",
   "nbconvert_exporter": "python",
   "pygments_lexer": "ipython3",
   "version": "3.10.14"
  }
 },
 "nbformat": 4,
 "nbformat_minor": 2
}
