{
 "cells": [
  {
   "cell_type": "code",
   "execution_count": 1,
   "metadata": {},
   "outputs": [
    {
     "ename": "SyntaxError",
     "evalue": "unterminated string literal (detected at line 4) (2459460644.py, line 4)",
     "output_type": "error",
     "traceback": [
      "\u001b[0;36m  Cell \u001b[0;32mIn[1], line 4\u001b[0;36m\u001b[0m\n\u001b[0;31m    from web3 import Web3\"\u001b[0m\n\u001b[0m                         ^\u001b[0m\n\u001b[0;31mSyntaxError\u001b[0m\u001b[0;31m:\u001b[0m unterminated string literal (detected at line 4)\n"
     ]
    }
   ],
   "source": [
    "import requests\n",
    "import pandas as pd\n",
    "from mainnet_launch.constants import AUTO_ETH\n",
    "from web3 import Web3\"\n",
    "\n",
    "\n",
    "def paginate_query(api_url: str, query: str, variables: dict, data_col: str) -> list[dict]:\n",
    "    \"\"\"\n",
    "    Helper to page through a GraphQL connection using `first`/`skip`.\n",
    "\n",
    "    :param api_url: GraphQL endpoint\n",
    "    :param query: The GraphQL query string, expecting $first and $skip variables\n",
    "    :param variables: Base variables (e.g. {\"autoEthAddress\": \"...\"}).\n",
    "                      first/skip will be merged in each loop.\n",
    "    :param batch_size: Number of items to fetch per request.\n",
    "    :return: List of result dicts\n",
    "    \"\"\"\n",
    "\n",
    "    all_records = []\n",
    "    skip = 0\n",
    "\n",
    "    while True:\n",
    "        vars_with_pagination = {**variables, \"first\": 500, \"skip\": skip}\n",
    "        resp = requests.post(api_url, json={\"query\": query, \"variables\": vars_with_pagination})\n",
    "        resp.raise_for_status()\n",
    "        batch = resp.json()[\"data\"][data_col]\n",
    "\n",
    "        if not batch:\n",
    "            break\n",
    "\n",
    "        all_records.extend(batch)\n",
    "        skip += 500\n",
    "\n",
    "    return all_records\n",
    "\n",
    "\n",
    "def _get_subgraph_api(chain):\n",
    "    if chain == \"eth\":\n",
    "        api_url = \"https://subgraph.satsuma-prod.com/108d48ba91e3/tokemak/v2-gen3-eth-mainnet/api\"\n",
    "    elif chain == \"base\":\n",
    "        api_url = \"https://subgraph.satsuma-prod.com/108d48ba91e3/tokemak/v2-gen3-base-mainnet/api\"\n",
    "    else:\n",
    "        raise ValueError(\"bad chain\", chain)\n",
    "\n",
    "    return api_url\n",
    "\n",
    "\n",
    "def fetch_autopool_rebalance_events_from_subgraph(autopool_eth_addr: str, chain: str) -> list[dict]:\n",
    "    \"\"\"\n",
    "    Fetches all AutopoolRebalances entries for the given autopool.\n",
    "    \"\"\"\n",
    "    subgraph_url = _get_subgraph_api(chain)\n",
    "\n",
    "    query = \"\"\"\n",
    "    query($autoEthAddress: String!, $first: Int!, $skip: Int!) {\n",
    "      autopoolRebalances(\n",
    "        first: $first,\n",
    "        skip: $skip,\n",
    "        orderBy: id,\n",
    "        orderDirection: desc,\n",
    "        where: { autopool: $autoEthAddress }\n",
    "      ) {\n",
    "        transactionHash\n",
    "        timestamp\n",
    "        blockNumber\n",
    "\n",
    "        tokenInAmount\n",
    "        tokenOut {\n",
    "        id\n",
    "        decimals\n",
    "        \n",
    "        }        \n",
    "        destinationInAddress\n",
    "\n",
    "        tokenIn {\n",
    "        id\n",
    "        decimals\n",
    "        \n",
    "        }   \n",
    "\n",
    "        tokenOutAmount\n",
    "        destinationOutAddress\n",
    "        \n",
    "      }\n",
    "    }\n",
    "    \"\"\"\n",
    "\n",
    "    # Adjust `first` as needed; paginate_query will loop over skip increments of `first`\n",
    "    df = pd.DataFrame.from_records(\n",
    "        paginate_query(\n",
    "            subgraph_url,\n",
    "            query,\n",
    "            variables={\"autoEthAddress\": autopool_eth_addr.lower(), \"first\": 1000, \"skip\": 0},\n",
    "            data_col=\"autopoolRebalances\",\n",
    "        )\n",
    "    )\n",
    "\n",
    "    df[\"tokenInAddress\"] = df[\"tokenIn\"].apply(lambda x: x[\"id\"])\n",
    "    df[\"tokenOutAddress\"] = df[\"tokenOut\"].apply(lambda x: x[\"id\"])\n",
    "\n",
    "    df[\"tokenOutAmount\"] = df.apply(\n",
    "        lambda row: int(row[\"tokenOutAmount\"]) / (10 ** int(row[\"tokenOut\"][\"decimals\"])), axis=1\n",
    "    )\n",
    "    df[\"tokenInAmount\"] = df.apply(\n",
    "        lambda row: int(row[\"tokenInAmount\"]) / (10 ** int(row[\"tokenIn\"][\"decimals\"])), axis=1\n",
    "    )\n",
    "\n",
    "    df[\"blockNumber\"] = df[\"blockNumber\"].astype(int)\n",
    "\n",
    "    df[\"destinationInAddress\"] = df[\"destinationInAddress\"].apply(lambda x: Web3.toChecksumAddress(x))\n",
    "    df[\"tokenInAddress\"] = df[\"tokenInAddress\"].apply(lambda x: Web3.toChecksumAddress(x))\n",
    "\n",
    "    df[\"destinationOutAddress\"] = df[\"destinationOutAddress\"].apply(lambda x: Web3.toChecksumAddress(x))\n",
    "    df[\"tokenOutAddress\"] = df[\"tokenOutAddress\"].apply(lambda x: Web3.toChecksumAddress(x))\n",
    "\n",
    "    return df\n",
    "\n",
    "\n",
    "rebalance_event_df = fetch_autopool_rebalance_events_from_subgraph(\"0xa7569A44f348d3D70d8ad5889e50F78E33d80D35\", \"eth\")\n",
    "rebalance_event_df"
   ]
  },
  {
   "cell_type": "code",
   "execution_count": null,
   "metadata": {},
   "outputs": [
    {
     "name": "stdout",
     "output_type": "stream",
     "text": [
      "2025-05-05 16:35:46,889 INFO sqlalchemy.engine.Engine select pg_catalog.version()\n",
      "2025-05-05 16:35:46,890 INFO sqlalchemy.engine.Engine [raw sql] {}\n",
      "2025-05-05 16:35:47,102 INFO sqlalchemy.engine.Engine select current_schema()\n",
      "2025-05-05 16:35:47,105 INFO sqlalchemy.engine.Engine [raw sql] {}\n",
      "2025-05-05 16:35:47,296 INFO sqlalchemy.engine.Engine show standard_conforming_strings\n",
      "2025-05-05 16:35:47,298 INFO sqlalchemy.engine.Engine [raw sql] {}\n",
      "2025-05-05 16:35:47,484 INFO sqlalchemy.engine.Engine BEGIN (implicit)\n",
      "2025-05-05 16:35:47,485 INFO sqlalchemy.engine.Engine \n",
      "            SELECT *\n",
      "            FROM destination_states\n",
      "            WHERE destination_states.chain_id = 1\n",
      "        \n",
      "2025-05-05 16:35:47,486 INFO sqlalchemy.engine.Engine [generated in 0.00089s] {}\n",
      "2025-05-05 16:35:49,331 INFO sqlalchemy.engine.Engine COMMIT\n",
      "2025-05-05 16:35:49,466 INFO sqlalchemy.engine.Engine BEGIN (implicit)\n",
      "2025-05-05 16:35:49,466 INFO sqlalchemy.engine.Engine \n",
      "            SELECT *\n",
      "            FROM blocks\n",
      "            WHERE blocks.chain_id = 1\n",
      "        \n",
      "2025-05-05 16:35:49,466 INFO sqlalchemy.engine.Engine [generated in 0.00029s] {}\n",
      "2025-05-05 16:35:49,673 INFO sqlalchemy.engine.Engine COMMIT\n",
      "2025-05-05 16:35:50,052 INFO sqlalchemy.engine.Engine BEGIN (implicit)\n",
      "2025-05-05 16:35:50,240 INFO sqlalchemy.engine.Engine COMMIT\n",
      "2025-05-05 16:35:50,335 INFO sqlalchemy.engine.Engine BEGIN (implicit)\n",
      "2025-05-05 16:35:50,336 INFO sqlalchemy.engine.Engine \n",
      "            SELECT *\n",
      "            FROM destinations\n",
      "            WHERE destinations.chain_id = 1\n",
      "        \n",
      "2025-05-05 16:35:50,336 INFO sqlalchemy.engine.Engine [generated in 0.00029s] {}\n",
      "2025-05-05 16:35:50,533 INFO sqlalchemy.engine.Engine COMMIT\n",
      "2025-05-05 16:35:50,630 INFO sqlalchemy.engine.Engine BEGIN (implicit)\n",
      "2025-05-05 16:35:50,631 INFO sqlalchemy.engine.Engine \n",
      "            SELECT *\n",
      "            FROM autopools\n",
      "            WHERE autopools.chain_id = 1\n",
      "        \n",
      "2025-05-05 16:35:50,632 INFO sqlalchemy.engine.Engine [generated in 0.00055s] {}\n",
      "2025-05-05 16:35:50,832 INFO sqlalchemy.engine.Engine COMMIT\n",
      "2025-05-05 16:35:52,051 INFO sqlalchemy.engine.Engine BEGIN (implicit)\n",
      "2025-05-05 16:35:52,052 INFO sqlalchemy.engine.Engine \n",
      "            SELECT *\n",
      "            FROM autopools\n",
      "            WHERE autopools.chain_id = 1\n",
      "        \n",
      "2025-05-05 16:35:52,052 INFO sqlalchemy.engine.Engine [cached since 1.421s ago] {}\n",
      "2025-05-05 16:35:52,248 INFO sqlalchemy.engine.Engine COMMIT\n",
      "2025-05-05 16:35:52,742 INFO sqlalchemy.engine.Engine BEGIN (implicit)\n",
      "2025-05-05 16:35:52,743 INFO sqlalchemy.engine.Engine \n",
      "            SELECT *\n",
      "            FROM autopools\n",
      "            WHERE autopools.chain_id = 1\n",
      "        \n",
      "2025-05-05 16:35:52,743 INFO sqlalchemy.engine.Engine [cached since 2.112s ago] {}\n",
      "2025-05-05 16:35:52,935 INFO sqlalchemy.engine.Engine COMMIT\n",
      "2025-05-05 16:35:54,638 INFO sqlalchemy.engine.Engine BEGIN (implicit)\n",
      "2025-05-05 16:35:54,639 INFO sqlalchemy.engine.Engine \n",
      "            SELECT *\n",
      "            FROM destinations\n",
      "            WHERE destinations.chain_id = 1 AND destinations.pool_type = 'idle'\n",
      "        \n",
      "2025-05-05 16:35:54,639 INFO sqlalchemy.engine.Engine [generated in 0.00039s] {}\n",
      "2025-05-05 16:35:54,846 INFO sqlalchemy.engine.Engine COMMIT\n",
      "2025-05-05 16:35:54,942 INFO sqlalchemy.engine.Engine BEGIN (implicit)\n",
      "2025-05-05 16:35:55,191 INFO sqlalchemy.engine.Engine COMMIT\n",
      "2025-05-05 16:35:55,291 INFO sqlalchemy.engine.Engine BEGIN (implicit)\n",
      "2025-05-05 16:35:55,292 INFO sqlalchemy.engine.Engine \n",
      "            SELECT *\n",
      "            FROM autopool_states\n",
      "            WHERE autopool_states.chain_id = 1\n",
      "        \n",
      "2025-05-05 16:35:55,292 INFO sqlalchemy.engine.Engine [generated in 0.00038s] {}\n",
      "2025-05-05 16:35:55,484 INFO sqlalchemy.engine.Engine COMMIT\n",
      "2025-05-05 16:35:55,588 INFO sqlalchemy.engine.Engine BEGIN (implicit)\n",
      "2025-05-05 16:35:55,589 INFO sqlalchemy.engine.Engine \n",
      "            SELECT *\n",
      "            FROM autopools\n",
      "            WHERE autopools.chain_id = 1\n",
      "        \n",
      "2025-05-05 16:35:55,589 INFO sqlalchemy.engine.Engine [cached since 4.958s ago] {}\n",
      "2025-05-05 16:35:55,777 INFO sqlalchemy.engine.Engine COMMIT\n",
      "2025-05-05 16:35:58,495 INFO sqlalchemy.engine.Engine BEGIN (implicit)\n",
      "2025-05-05 16:36:00,046 INFO sqlalchemy.engine.Engine COMMIT\n",
      "2025-05-05 16:36:00,143 INFO sqlalchemy.engine.Engine BEGIN (implicit)\n",
      "2025-05-05 16:36:00,144 INFO sqlalchemy.engine.Engine SELECT pg_catalog.pg_class.relname \n",
      "FROM pg_catalog.pg_class JOIN pg_catalog.pg_namespace ON pg_catalog.pg_namespace.oid = pg_catalog.pg_class.relnamespace \n",
      "WHERE pg_catalog.pg_class.relname = %(table_name)s AND pg_catalog.pg_class.relkind = ANY (ARRAY[%(param_1)s, %(param_2)s, %(param_3)s, %(param_4)s, %(param_5)s]) AND pg_catalog.pg_table_is_visible(pg_catalog.pg_class.oid) AND pg_catalog.pg_namespace.nspname != %(nspname_1)s\n",
      "2025-05-05 16:36:00,144 INFO sqlalchemy.engine.Engine [generated in 0.00065s] {'table_name': <sqlalchemy.sql.elements.TextClause object at 0x11ca98d00>, 'param_1': 'r', 'param_2': 'p', 'param_3': 'f', 'param_4': 'v', 'param_5': 'm', 'nspname_1': 'pg_catalog'}\n",
      "2025-05-05 16:36:00,144 INFO sqlalchemy.engine.Engine SELECT\n",
      "    destination_states.block,\n",
      "    destination_states.lp_token_spot_price,\n",
      "    destinations.destination_vault_address,\n",
      "    destinations.underlying_symbol,\n",
      "    autopool_states.total_nav\n",
      "FROM destination_states\n",
      "JOIN destinations\n",
      "  ON destination_states.chain_id = destination_states.chain_id AND destinations.destination_vault_address = destination_states.destination_vault_address\n",
      "JOIN autopool_states\n",
      "  ON autopool_states.chain_id = destination_states.chain_id AND autopool_states.block = destination_states.block\n",
      "WHERE\n",
      "    (autopool_states.autopool_vault_address = '0xa7569A44f348d3D70d8ad5889e50F78E33d80D35')\n",
      "\n",
      "2025-05-05 16:36:00,145 INFO sqlalchemy.engine.Engine [generated in 0.00030s] {}\n",
      "2025-05-05 16:36:00,994 INFO sqlalchemy.engine.Engine ROLLBACK\n"
     ]
    },
    {
     "data": {
      "application/vnd.microsoft.datawrangler.viewer.v0+json": {
       "columns": [
        {
         "name": "index",
         "rawType": "int64",
         "type": "integer"
        },
        {
         "name": "block",
         "rawType": "int64",
         "type": "integer"
        },
        {
         "name": "lp_token_spot_price",
         "rawType": "float64",
         "type": "float"
        },
        {
         "name": "destination_vault_address",
         "rawType": "object",
         "type": "string"
        },
        {
         "name": "underlying_symbol",
         "rawType": "object",
         "type": "string"
        },
        {
         "name": "total_nav",
         "rawType": "float64",
         "type": "float"
        }
       ],
       "conversionMethod": "pd.DataFrame",
       "ref": "88527028-8ba4-4d42-b80a-cbe4c8e67923",
       "rows": [
        [
         "0",
         "22253035",
         "1.002066207025152",
         "0x3772973f8F399D74488D5cF3276C032E0afC8A6f",
         "OETHCRV-f",
         "7.916050657956e-06"
        ],
        [
         "1",
         "22254021",
         "1.002066176291102",
         "0x3772973f8F399D74488D5cF3276C032E0afC8A6f",
         "OETHCRV-f",
         "7.916251329158e-06"
        ],
        [
         "2",
         "22254610",
         "1.002066176291102",
         "0x3772973f8F399D74488D5cF3276C032E0afC8A6f",
         "OETHCRV-f",
         "7.95816107303e-06"
        ],
        [
         "3",
         "22255051",
         "1.0020661932199735",
         "0x3772973f8F399D74488D5cF3276C032E0afC8A6f",
         "OETHCRV-f",
         "7.958155459272e-06"
        ],
        [
         "4",
         "22255509",
         "1.002066188973705",
         "0x3772973f8F399D74488D5cF3276C032E0afC8A6f",
         "OETHCRV-f",
         "7.978149749459e-06"
        ],
        [
         "5",
         "22255877",
         "1.0020662508367586",
         "0x3772973f8F399D74488D5cF3276C032E0afC8A6f",
         "OETHCRV-f",
         "7.986245906056e-06"
        ],
        [
         "6",
         "22256246",
         "1.0020662663108233",
         "0x3772973f8F399D74488D5cF3276C032E0afC8A6f",
         "OETHCRV-f",
         "7.985489289339e-06"
        ],
        [
         "7",
         "22260359",
         "1.0020733132087565",
         "0x3772973f8F399D74488D5cF3276C032E0afC8A6f",
         "OETHCRV-f",
         "8.008428823819e-06"
        ],
        [
         "8",
         "22260800",
         "1.002073346149938",
         "0x3772973f8F399D74488D5cF3276C032E0afC8A6f",
         "OETHCRV-f",
         "8.02300671504e-06"
        ],
        [
         "9",
         "22262088",
         "1.0020733336973096",
         "0x3772973f8F399D74488D5cF3276C032E0afC8A6f",
         "OETHCRV-f",
         "8.042049303857e-06"
        ],
        [
         "10",
         "22265677",
         "1.0020413619525215",
         "0x3772973f8F399D74488D5cF3276C032E0afC8A6f",
         "OETHCRV-f",
         "8.610101169251e-06"
        ],
        [
         "11",
         "22267467",
         "1.0020412238152452",
         "0x3772973f8F399D74488D5cF3276C032E0afC8A6f",
         "OETHCRV-f",
         "8.811772484137e-06"
        ],
        [
         "12",
         "22268078",
         "1.0020412592821175",
         "0x3772973f8F399D74488D5cF3276C032E0afC8A6f",
         "OETHCRV-f",
         "8.812130777528e-06"
        ],
        [
         "13",
         "22268408",
         "1.0020412810742803",
         "0x3772973f8F399D74488D5cF3276C032E0afC8A6f",
         "OETHCRV-f",
         "9.186872349194e-06"
        ],
        [
         "14",
         "22268729",
         "1.0020413489484734",
         "0x3772973f8F399D74488D5cF3276C032E0afC8A6f",
         "OETHCRV-f",
         "9.18669534164e-06"
        ],
        [
         "15",
         "22269099",
         "1.0020414082773086",
         "0x3772973f8F399D74488D5cF3276C032E0afC8A6f",
         "OETHCRV-f",
         "9.527394747183e-06"
        ],
        [
         "16",
         "22269467",
         "1.0020414204625323",
         "0x3772973f8F399D74488D5cF3276C032E0afC8A6f",
         "OETHCRV-f",
         "9.590866028861e-06"
        ],
        [
         "17",
         "22269995",
         "1.0020414304077363",
         "0x3772973f8F399D74488D5cF3276C032E0afC8A6f",
         "OETHCRV-f",
         "9.730738170493e-06"
        ],
        [
         "18",
         "22270944",
         "1.0020533909881875",
         "0x3772973f8F399D74488D5cF3276C032E0afC8A6f",
         "OETHCRV-f",
         "1.0034658380998e-05"
        ],
        [
         "19",
         "22271256",
         "1.0020534041428935",
         "0x3772973f8F399D74488D5cF3276C032E0afC8A6f",
         "OETHCRV-f",
         "1.0101337754854e-05"
        ],
        [
         "20",
         "22248632",
         "1.002090601337939",
         "0x3772973f8F399D74488D5cF3276C032E0afC8A6f",
         "OETHCRV-f",
         "7.496300542413e-06"
        ],
        [
         "21",
         "22251238",
         "1.002066799256381",
         "0x3772973f8F399D74488D5cF3276C032E0afC8A6f",
         "OETHCRV-f",
         "7.886038667359e-06"
        ],
        [
         "22",
         "22251626",
         "1.0020667613717658",
         "0x3772973f8F399D74488D5cF3276C032E0afC8A6f",
         "OETHCRV-f",
         "7.88627871954e-06"
        ],
        [
         "23",
         "22251996",
         "1.0020667483396015",
         "0x3772973f8F399D74488D5cF3276C032E0afC8A6f",
         "OETHCRV-f",
         "7.886356044876e-06"
        ],
        [
         "24",
         "22252365",
         "1.0020667483396015",
         "0x3772973f8F399D74488D5cF3276C032E0afC8A6f",
         "OETHCRV-f",
         "7.886604592531e-06"
        ],
        [
         "25",
         "22190481",
         "1.0232620169593094",
         "0xdfE3fA7027E84f59b266459C567278C79fe86f0C",
         "ETHx/wstETH",
         "1.02013599031e-07"
        ],
        [
         "26",
         "22191759",
         "1.0232548186522632",
         "0xdfE3fA7027E84f59b266459C567278C79fe86f0C",
         "ETHx/wstETH",
         "1.02013565914e-07"
        ],
        [
         "27",
         "22196597",
         "1.0231027747705137",
         "0xdfE3fA7027E84f59b266459C567278C79fe86f0C",
         "ETHx/wstETH",
         "1.02014465411e-07"
        ],
        [
         "28",
         "22196965",
         "1.0231027704152797",
         "0xdfE3fA7027E84f59b266459C567278C79fe86f0C",
         "ETHx/wstETH",
         "1.02010257434e-07"
        ],
        [
         "29",
         "22197502",
         "1.0233006574442862",
         "0xdfE3fA7027E84f59b266459C567278C79fe86f0C",
         "ETHx/wstETH",
         "1.02011947134e-07"
        ],
        [
         "30",
         "22198433",
         "1.0233016747840056",
         "0xdfE3fA7027E84f59b266459C567278C79fe86f0C",
         "ETHx/wstETH",
         "1.02010636495e-07"
        ],
        [
         "31",
         "22199261",
         "1.0233016747840056",
         "0xdfE3fA7027E84f59b266459C567278C79fe86f0C",
         "ETHx/wstETH",
         "1.02009931979e-07"
        ],
        [
         "32",
         "22200224",
         "1.0233016747840056",
         "0xdfE3fA7027E84f59b266459C567278C79fe86f0C",
         "ETHx/wstETH",
         "1.02015012595e-07"
        ],
        [
         "33",
         "22213896",
         "1.0229433673755768",
         "0xdfE3fA7027E84f59b266459C567278C79fe86f0C",
         "ETHx/wstETH",
         "1.0199306762e-07"
        ],
        [
         "34",
         "22225549",
         "1.022525691638438",
         "0xdfE3fA7027E84f59b266459C567278C79fe86f0C",
         "ETHx/wstETH",
         "1.02000880113e-07"
        ],
        [
         "35",
         "22234004",
         "1.0222548449482494",
         "0xdfE3fA7027E84f59b266459C567278C79fe86f0C",
         "ETHx/wstETH",
         "4.28915325443e-07"
        ],
        [
         "36",
         "22234344",
         "1.0222281812809952",
         "0xdfE3fA7027E84f59b266459C567278C79fe86f0C",
         "ETHx/wstETH",
         "1.152762667287e-06"
        ],
        [
         "37",
         "22234716",
         "1.0222464520290897",
         "0xdfE3fA7027E84f59b266459C567278C79fe86f0C",
         "ETHx/wstETH",
         "1.194708932538e-06"
        ],
        [
         "38",
         "22235038",
         "1.0222612239333495",
         "0xdfE3fA7027E84f59b266459C567278C79fe86f0C",
         "ETHx/wstETH",
         "1.468750622793e-06"
        ],
        [
         "39",
         "22235382",
         "1.0222310915920945",
         "0xdfE3fA7027E84f59b266459C567278C79fe86f0C",
         "ETHx/wstETH",
         "1.470725620201e-06"
        ],
        [
         "40",
         "22235729",
         "1.0222171994809013",
         "0xdfE3fA7027E84f59b266459C567278C79fe86f0C",
         "ETHx/wstETH",
         "3.691729238103e-06"
        ],
        [
         "41",
         "22236076",
         "1.0222244741399724",
         "0xdfE3fA7027E84f59b266459C567278C79fe86f0C",
         "ETHx/wstETH",
         "3.691622467976e-06"
        ],
        [
         "42",
         "22236446",
         "1.0222246059252211",
         "0xdfE3fA7027E84f59b266459C567278C79fe86f0C",
         "ETHx/wstETH",
         "3.931853284128e-06"
        ],
        [
         "43",
         "22236816",
         "1.0222323467724288",
         "0xdfE3fA7027E84f59b266459C567278C79fe86f0C",
         "ETHx/wstETH",
         "4.931765075507e-06"
        ],
        [
         "44",
         "22237185",
         "1.0222323467724288",
         "0xdfE3fA7027E84f59b266459C567278C79fe86f0C",
         "ETHx/wstETH",
         "4.956742214379e-06"
        ],
        [
         "45",
         "22237574",
         "1.0222323467724288",
         "0xdfE3fA7027E84f59b266459C567278C79fe86f0C",
         "ETHx/wstETH",
         "5.253666261234e-06"
        ],
        [
         "46",
         "22237941",
         "1.0222323467724288",
         "0xdfE3fA7027E84f59b266459C567278C79fe86f0C",
         "ETHx/wstETH",
         "5.253590972032e-06"
        ],
        [
         "47",
         "22238312",
         "1.0223788233355233",
         "0xdfE3fA7027E84f59b266459C567278C79fe86f0C",
         "ETHx/wstETH",
         "5.858826919193e-06"
        ],
        [
         "48",
         "22238683",
         "1.0224252315157187",
         "0xdfE3fA7027E84f59b266459C567278C79fe86f0C",
         "ETHx/wstETH",
         "5.858759217859e-06"
        ],
        [
         "49",
         "22239141",
         "1.0224252315157187",
         "0xdfE3fA7027E84f59b266459C567278C79fe86f0C",
         "ETHx/wstETH",
         "6.378719877765e-06"
        ]
       ],
       "shape": {
        "columns": 5,
        "rows": 12684
       }
      },
      "text/html": [
       "<div>\n",
       "<style scoped>\n",
       "    .dataframe tbody tr th:only-of-type {\n",
       "        vertical-align: middle;\n",
       "    }\n",
       "\n",
       "    .dataframe tbody tr th {\n",
       "        vertical-align: top;\n",
       "    }\n",
       "\n",
       "    .dataframe thead th {\n",
       "        text-align: right;\n",
       "    }\n",
       "</style>\n",
       "<table border=\"1\" class=\"dataframe\">\n",
       "  <thead>\n",
       "    <tr style=\"text-align: right;\">\n",
       "      <th></th>\n",
       "      <th>block</th>\n",
       "      <th>lp_token_spot_price</th>\n",
       "      <th>destination_vault_address</th>\n",
       "      <th>underlying_symbol</th>\n",
       "      <th>total_nav</th>\n",
       "    </tr>\n",
       "  </thead>\n",
       "  <tbody>\n",
       "    <tr>\n",
       "      <th>0</th>\n",
       "      <td>22253035</td>\n",
       "      <td>1.002066</td>\n",
       "      <td>0x3772973f8F399D74488D5cF3276C032E0afC8A6f</td>\n",
       "      <td>OETHCRV-f</td>\n",
       "      <td>0.000008</td>\n",
       "    </tr>\n",
       "    <tr>\n",
       "      <th>1</th>\n",
       "      <td>22254021</td>\n",
       "      <td>1.002066</td>\n",
       "      <td>0x3772973f8F399D74488D5cF3276C032E0afC8A6f</td>\n",
       "      <td>OETHCRV-f</td>\n",
       "      <td>0.000008</td>\n",
       "    </tr>\n",
       "    <tr>\n",
       "      <th>2</th>\n",
       "      <td>22254610</td>\n",
       "      <td>1.002066</td>\n",
       "      <td>0x3772973f8F399D74488D5cF3276C032E0afC8A6f</td>\n",
       "      <td>OETHCRV-f</td>\n",
       "      <td>0.000008</td>\n",
       "    </tr>\n",
       "    <tr>\n",
       "      <th>3</th>\n",
       "      <td>22255051</td>\n",
       "      <td>1.002066</td>\n",
       "      <td>0x3772973f8F399D74488D5cF3276C032E0afC8A6f</td>\n",
       "      <td>OETHCRV-f</td>\n",
       "      <td>0.000008</td>\n",
       "    </tr>\n",
       "    <tr>\n",
       "      <th>4</th>\n",
       "      <td>22255509</td>\n",
       "      <td>1.002066</td>\n",
       "      <td>0x3772973f8F399D74488D5cF3276C032E0afC8A6f</td>\n",
       "      <td>OETHCRV-f</td>\n",
       "      <td>0.000008</td>\n",
       "    </tr>\n",
       "    <tr>\n",
       "      <th>...</th>\n",
       "      <td>...</td>\n",
       "      <td>...</td>\n",
       "      <td>...</td>\n",
       "      <td>...</td>\n",
       "      <td>...</td>\n",
       "    </tr>\n",
       "    <tr>\n",
       "      <th>12679</th>\n",
       "      <td>22420454</td>\n",
       "      <td>1.000000</td>\n",
       "      <td>0x0A2b94F6871c1D7A32Fe58E1ab5e6deA2f114E56</td>\n",
       "      <td>autoETH</td>\n",
       "      <td>0.000029</td>\n",
       "    </tr>\n",
       "    <tr>\n",
       "      <th>12680</th>\n",
       "      <td>22420454</td>\n",
       "      <td>1.000000</td>\n",
       "      <td>0x6dC3ce9C57b20131347FDc9089D740DAf6eB34c5</td>\n",
       "      <td>balETH</td>\n",
       "      <td>0.000029</td>\n",
       "    </tr>\n",
       "    <tr>\n",
       "      <th>12681</th>\n",
       "      <td>22420454</td>\n",
       "      <td>1.000000</td>\n",
       "      <td>0xE800e3760FC20aA98c5df6A9816147f190455AF3</td>\n",
       "      <td>autoLRT</td>\n",
       "      <td>0.000029</td>\n",
       "    </tr>\n",
       "    <tr>\n",
       "      <th>12682</th>\n",
       "      <td>22420454</td>\n",
       "      <td>1.000000</td>\n",
       "      <td>0x35911af1B570E26f668905595dEd133D01CD3E5a</td>\n",
       "      <td>dineroETH</td>\n",
       "      <td>0.000029</td>\n",
       "    </tr>\n",
       "    <tr>\n",
       "      <th>12683</th>\n",
       "      <td>22420454</td>\n",
       "      <td>1.000000</td>\n",
       "      <td>0xa7569A44f348d3D70d8ad5889e50F78E33d80D35</td>\n",
       "      <td>autoUSD</td>\n",
       "      <td>0.000029</td>\n",
       "    </tr>\n",
       "  </tbody>\n",
       "</table>\n",
       "<p>12684 rows × 5 columns</p>\n",
       "</div>"
      ],
      "text/plain": [
       "          block  lp_token_spot_price  \\\n",
       "0      22253035             1.002066   \n",
       "1      22254021             1.002066   \n",
       "2      22254610             1.002066   \n",
       "3      22255051             1.002066   \n",
       "4      22255509             1.002066   \n",
       "...         ...                  ...   \n",
       "12679  22420454             1.000000   \n",
       "12680  22420454             1.000000   \n",
       "12681  22420454             1.000000   \n",
       "12682  22420454             1.000000   \n",
       "12683  22420454             1.000000   \n",
       "\n",
       "                        destination_vault_address underlying_symbol  total_nav  \n",
       "0      0x3772973f8F399D74488D5cF3276C032E0afC8A6f         OETHCRV-f   0.000008  \n",
       "1      0x3772973f8F399D74488D5cF3276C032E0afC8A6f         OETHCRV-f   0.000008  \n",
       "2      0x3772973f8F399D74488D5cF3276C032E0afC8A6f         OETHCRV-f   0.000008  \n",
       "3      0x3772973f8F399D74488D5cF3276C032E0afC8A6f         OETHCRV-f   0.000008  \n",
       "4      0x3772973f8F399D74488D5cF3276C032E0afC8A6f         OETHCRV-f   0.000008  \n",
       "...                                           ...               ...        ...  \n",
       "12679  0x0A2b94F6871c1D7A32Fe58E1ab5e6deA2f114E56           autoETH   0.000029  \n",
       "12680  0x6dC3ce9C57b20131347FDc9089D740DAf6eB34c5            balETH   0.000029  \n",
       "12681  0xE800e3760FC20aA98c5df6A9816147f190455AF3           autoLRT   0.000029  \n",
       "12682  0x35911af1B570E26f668905595dEd133D01CD3E5a         dineroETH   0.000029  \n",
       "12683  0xa7569A44f348d3D70d8ad5889e50F78E33d80D35           autoUSD   0.000029  \n",
       "\n",
       "[12684 rows x 5 columns]"
      ]
     },
     "execution_count": 2,
     "metadata": {},
     "output_type": "execute_result"
    }
   ],
   "source": [
    "from mainnet_launch.database.schema.full import DestinationStates, Destinations, AutopoolStates, RebalancePlans\n",
    "from mainnet_launch.database.schema.postgres_operations import (\n",
    "    merge_tables_as_df,\n",
    "    TableSelector,\n",
    ")\n",
    "from mainnet_launch.database.schema.ensure_tables_are_current.update_destinations_states_table import (\n",
    "    _add_new_destination_states_to_db,\n",
    ")\n",
    "\n",
    "from mainnet_launch.database.schema.ensure_tables_are_current.update_autopool_states import (\n",
    "    _add_new_autopool_states_to_db,\n",
    ")\n",
    "\n",
    "_add_new_destination_states_to_db(rebalance_event_df[\"blockNumber\"], AUTO_ETH.chain)\n",
    "_add_new_autopool_states_to_db(rebalance_event_df[\"blockNumber\"], AUTO_ETH.chain)\n",
    "\n",
    "\n",
    "destination_states_df = merge_tables_as_df(\n",
    "    [\n",
    "        TableSelector(DestinationStates, [DestinationStates.block, DestinationStates.lp_token_spot_price]),\n",
    "        TableSelector(\n",
    "            Destinations,\n",
    "            [Destinations.destination_vault_address, Destinations.underlying_symbol],\n",
    "            join_on=(DestinationStates.chain_id == DestinationStates.chain_id)\n",
    "            & (Destinations.destination_vault_address == DestinationStates.destination_vault_address),\n",
    "        ),\n",
    "        TableSelector(\n",
    "            AutopoolStates,\n",
    "            [AutopoolStates.total_nav],\n",
    "            join_on=(AutopoolStates.chain_id == DestinationStates.chain_id)\n",
    "            & (AutopoolStates.block == DestinationStates.block),\n",
    "        ),\n",
    "    ],\n",
    "    where_clause=AutopoolStates.autopool_vault_address == \"0xa7569A44f348d3D70d8ad5889e50F78E33d80D35\",\n",
    ")\n",
    "destination_states_df"
   ]
  },
  {
   "cell_type": "code",
   "execution_count": null,
   "metadata": {},
   "outputs": [],
   "source": [
    "# this works"
   ]
  },
  {
   "cell_type": "code",
   "execution_count": 17,
   "metadata": {},
   "outputs": [
    {
     "data": {
      "application/vnd.microsoft.datawrangler.viewer.v0+json": {
       "columns": [
        {
         "name": "index",
         "rawType": "int64",
         "type": "integer"
        },
        {
         "name": "transactionHash",
         "rawType": "object",
         "type": "string"
        },
        {
         "name": "timestamp",
         "rawType": "object",
         "type": "string"
        },
        {
         "name": "blockNumber",
         "rawType": "int64",
         "type": "integer"
        },
        {
         "name": "tokenInAmount",
         "rawType": "float64",
         "type": "float"
        },
        {
         "name": "tokenOut",
         "rawType": "object",
         "type": "unknown"
        },
        {
         "name": "destinationInAddress",
         "rawType": "object",
         "type": "string"
        },
        {
         "name": "tokenIn",
         "rawType": "object",
         "type": "unknown"
        },
        {
         "name": "tokenOutAmount",
         "rawType": "float64",
         "type": "float"
        },
        {
         "name": "destinationOutAddress",
         "rawType": "object",
         "type": "string"
        },
        {
         "name": "tokenInAddress",
         "rawType": "object",
         "type": "string"
        },
        {
         "name": "tokenOutAddress",
         "rawType": "object",
         "type": "string"
        },
        {
         "name": "lp_token_in_spot_price",
         "rawType": "float64",
         "type": "float"
        },
        {
         "name": "lp_token_out_spot_price",
         "rawType": "float64",
         "type": "float"
        },
        {
         "name": "spot_value_in",
         "rawType": "float64",
         "type": "float"
        },
        {
         "name": "spot_value_out",
         "rawType": "float64",
         "type": "float"
        },
        {
         "name": "swap_cost",
         "rawType": "float64",
         "type": "float"
        },
        {
         "name": "slippage",
         "rawType": "float64",
         "type": "float"
        },
        {
         "name": "block",
         "rawType": "int64",
         "type": "integer"
        },
        {
         "name": "total_nav",
         "rawType": "float64",
         "type": "float"
        }
       ],
       "conversionMethod": "pd.DataFrame",
       "ref": "f60d5d6c-722e-4538-83d6-eaee5eb013a3",
       "rows": [
        [
         "0",
         "0xff8915d0bd9054e7678c4366ae8fd5a0a3cce80943bebe7b3492e9648a28b3cb",
         "1744988327",
         "22296632",
         "148881.1500874422",
         "{'id': '0xa0b86991c6218b36c1d19d4a2e9eb0ce3606eb48', 'decimals': '6'}",
         "0xbB2d2dd491204a86ec10a1a6972F940B34fE060e",
         "{'id': '0x4f493b7de8aac7d55f71853688b1f7c8f0243c85', 'decimals': '18'}",
         "150000.0",
         "0xa7569A44f348d3D70d8ad5889e50F78E33d80D35",
         "0x4f493B7dE8aAC7d55F71853688b1F7C8F0243C85",
         "0xA0b86991c6218b36c1d19D4a2e9Eb0cE3606eB48",
         "1.0069",
         "1.0",
         "149908.43002304554",
         "150000.0",
         "91.56997695445898",
         "0.061046651302972654",
         "22296632",
         "1.7812203205112e-05"
        ],
        [
         "1",
         "0xff3d22a3564c8121f28d7d47feffb8251785ad2c48e40153dbd8b126cbf6a7f5",
         "1744997471",
         "22297389",
         "148885.47447415398",
         "{'id': '0xa0b86991c6218b36c1d19d4a2e9eb0ce3606eb48', 'decimals': '6'}",
         "0xbB2d2dd491204a86ec10a1a6972F940B34fE060e",
         "{'id': '0x4f493b7de8aac7d55f71853688b1f7c8f0243c85', 'decimals': '18'}",
         "150000.0",
         "0xa7569A44f348d3D70d8ad5889e50F78E33d80D35",
         "0x4f493B7dE8aAC7d55F71853688b1F7C8F0243C85",
         "0xA0b86991c6218b36c1d19D4a2e9Eb0cE3606eB48",
         "1.006902",
         "1.0",
         "149913.0820189746",
         "150000.0",
         "86.91798102541361",
         "0.057945320683609074",
         "22297389",
         "2.196482758513e-05"
        ],
        [
         "2",
         "0xfecf659a8d1c06c45010afc47fcefc6405d906a85e8497c52c5c392cbf392326",
         "1746235043",
         "22399927",
         "320651.57585673255",
         "{'id': '0xa0b86991c6218b36c1d19d4a2e9eb0ce3606eb48', 'decimals': '6'}",
         "0xC5c95fCad37E466E25e6ecA1977bbF75C0E1004a",
         "{'id': '0xbeef01735c132ada46aa9aa4c54623caa92a64cb', 'decimals': '18'}",
         "347222.68215",
         "0xa7569A44f348d3D70d8ad5889e50F78E33d80D35",
         "0xBEEF01735c132Ada46AA9aA4c54623cAA92A64CB",
         "0xA0b86991c6218b36c1d19D4a2e9Eb0cE3606eB48",
         "1.082884",
         "1.0",
         "347228.461070042",
         "347222.68215",
         "-5.7789200419792905",
         "-0.001664326767536114",
         "22399927",
         "2.7822113680216e-05"
        ],
        [
         "3",
         "0xfca3e4ad4e6296b2444ed28a8012cda8694ef5d23ce94802a9b00dfd1d56d911",
         "1746116255",
         "22390138",
         "148075.9948",
         "{'id': '0xa0b86991c6218b36c1d19d4a2e9eb0ce3606eb48', 'decimals': '6'}",
         "0x7876F91BB22148345b3De16af9448081E9853830",
         "{'id': '0x9fb7b4477576fe5b32be4c1843afb1e55f251b33', 'decimals': '6'}",
         "170000.0",
         "0xa7569A44f348d3D70d8ad5889e50F78E33d80D35",
         "0x9Fb7b4477576Fe5B32be4C1843aFB1e55F251B33",
         "0xA0b86991c6218b36c1d19D4a2e9Eb0cE3606eB48",
         "1.148038",
         "1.0",
         "169996.86891820238",
         "170000.0",
         "3.1310817976191174",
         "0.0018418128221288927",
         "22390138",
         "2.4501167503153e-05"
        ],
        [
         "4",
         "0xfc37985d3c7182369be30f9dbe69409a8b05d008bde2ebe83aba20d7dff3a150",
         "1745111003",
         "22306807",
         "437134.294459",
         "{'id': '0xa0b86991c6218b36c1d19d4a2e9eb0ce3606eb48', 'decimals': '6'}",
         "0xE4545f9dBC30Ccb6Cda6930DDFd69f3D419FcB61",
         "{'id': '0x5c20b550819128074fd538edf79791733ccedd18', 'decimals': '6'}",
         "500000.0",
         "0xa7569A44f348d3D70d8ad5889e50F78E33d80D35",
         "0x5C20B550819128074FD538Edf79791733ccEdd18",
         "0xA0b86991c6218b36c1d19D4a2e9Eb0cE3606eB48",
         "1.143221",
         "1.0",
         "499741.10524571245",
         "500000.0",
         "258.89475428755395",
         "0.05177895085751079",
         "22306807",
         "2.1837455390644e-05"
        ],
        [
         "5",
         "0xfaa85762af230b125dcc3be6dcf1056e1936e54777bc212e5ee859642f8d3a83",
         "1746121751",
         "22390592",
         "147241.6175169698",
         "{'id': '0x5c20b550819128074fd538edf79791733ccedd18', 'decimals': '6'}",
         "0x65efCF2cce562DCBf07e805eEbeDeF21Dbd8Ea3D",
         "{'id': '0x4dece678ceceb27446b35c672dc7d61f30bad69e', 'decimals': '18'}",
         "131051.17898",
         "0xE4545f9dBC30Ccb6Cda6930DDFd69f3D419FcB61",
         "0x4DEcE678ceceb27446b35C672dC7d61F30bAD69E",
         "0x5C20B550819128074FD538Edf79791733ccEdd18",
         "1.01828",
         "1.144591",
         "149933.19428518",
         "149999.99999989718",
         "66.80571471716394",
         "0.04453714314480649",
         "22390592",
         "2.4505958138794e-05"
        ],
        [
         "6",
         "0xfa9d0b472bdb73fdab2f45a0d83a119da309f4aae540c304386855d364967862",
         "1746008231",
         "22381211",
         "186006.089834",
         "{'id': '0xa0b86991c6218b36c1d19d4a2e9eb0ce3606eb48', 'decimals': '6'}",
         "0x7876F91BB22148345b3De16af9448081E9853830",
         "{'id': '0x9fb7b4477576fe5b32be4c1843afb1e55f251b33', 'decimals': '6'}",
         "213527.8188",
         "0xa7569A44f348d3D70d8ad5889e50F78E33d80D35",
         "0x9Fb7b4477576Fe5B32be4C1843aFB1e55F251B33",
         "0xA0b86991c6218b36c1d19D4a2e9Eb0cE3606eB48",
         "1.148068",
         "1.0",
         "213547.63954354075",
         "213527.8188",
         "-19.820743540738476",
         "-0.00928251112765007",
         "22381211",
         "2.4993407858686e-05"
        ],
        [
         "7",
         "0xf885cd0897d7cc7ef32d839696699861d14d48623aefecd9393cabd2f33f2f52",
         "1746105443",
         "22389245",
         "48776.552443",
         "{'id': '0x8eb67a509616cd6a7c1b3c8c21d48ff57df3d458', 'decimals': '18'}",
         "0x7876F91BB22148345b3De16af9448081E9853830",
         "{'id': '0x9fb7b4477576fe5b32be4c1843afb1e55f251b33', 'decimals': '6'}",
         "51383.68536902502",
         "0x3F3565C5A2AA05F76830A5a51c2F32018De856A3",
         "0x9Fb7b4477576Fe5B32be4C1843aFB1e55F251B33",
         "0x8eB67A509616cd6A7c1B3c8C21D48FF57df3d458",
         "1.148154",
         "1.089898",
         "56002.99379364022",
         "56002.97591632963",
         "-0.01787731058720965",
         "-3.192207252328691e-05",
         "22389245",
         "2.4341933835576e-05"
        ],
        [
         "8",
         "0xf7fbe80352da4ba7beb39cd72cfeafd7cba55ed03a88a6a4323dc9a0c99e3267",
         "1745921855",
         "22374065",
         "67955.77797541124",
         "{'id': '0xa0b86991c6218b36c1d19d4a2e9eb0ce3606eb48', 'decimals': '6'}",
         "0x7583b1589aDD33320366A48A92794D77763FAE9e",
         "{'id': '0x390f3595bca2df7d23783dfd126427cceb997bf4', 'decimals': '18'}",
         "69162.4087",
         "0xa7569A44f348d3D70d8ad5889e50F78E33d80D35",
         "0x390f3595bCa2Df7d23783dFd126427CCeb997BF4",
         "0xA0b86991c6218b36c1d19D4a2e9Eb0cE3606eB48",
         "1.01723",
         "1.0",
         "69126.65602992759",
         "69162.4087",
         "35.752670072412",
         "0.0516937896531241",
         "22374065",
         "2.4287663489716e-05"
        ],
        [
         "9",
         "0xf7ad9f0de99c196346b977387b995628d585fe9071a9126b4e8a9e9fc2fba316",
         "1744289951",
         "22238683",
         "149104.8782625014",
         "{'id': '0xa0b86991c6218b36c1d19d4a2e9eb0ce3606eb48', 'decimals': '6'}",
         "0xd7900d87069C815a299bdA7aFDcd7eEe98fe4b6c",
         "{'id': '0x5b03cccab7ba3010fa5cad23746cbf0794938e96', 'decimals': '18'}",
         "150000.0",
         "0xa7569A44f348d3D70d8ad5889e50F78E33d80D35",
         "0x5B03CcCAb7BA3010fA5CAd23746cbf0794938e96",
         "0xA0b86991c6218b36c1d19D4a2e9Eb0cE3606eB48",
         "1.005508",
         "1.0",
         "149926.1479319713",
         "150000.0",
         "73.8520680287038",
         "0.049234712019135866",
         "22238683",
         "5.858759217859e-06"
        ],
        [
         "10",
         "0xf7641185b3d78280671ee897853174c0d231614d28e8542f0bc4d5fc4e260c74",
         "1745997431",
         "22380318",
         "37280.009209",
         "{'id': '0xdd0f28e19c1780eb6396170735d45153d261490d', 'decimals': '18'}",
         "0x7876F91BB22148345b3De16af9448081E9853830",
         "{'id': '0x9fb7b4477576fe5b32be4c1843afb1e55f251b33', 'decimals': '6'}",
         "39892.996621207945",
         "0x0f170e37E5E0C617148517B831A49292c38c363d",
         "0x9Fb7b4477576Fe5B32be4C1843aFB1e55F251B33",
         "0xdd0f28e19C1780eb6396170735D45153D261490d",
         "1.148125",
         "1.072923",
         "42802.11057308313",
         "42802.1136138163",
         "0.0030407331651076674",
         "7.104165912325729e-06",
         "22380318",
         "2.4566423401683e-05"
        ],
        [
         "11",
         "0xf71cf346c5791115271afad47d745c3836cc646be07f6b4e8b482d657ce37873",
         "1744770623",
         "22278574",
         "33367.24779356881",
         "{'id': '0xa0b86991c6218b36c1d19d4a2e9eb0ce3606eb48', 'decimals': '6'}",
         "0xbB2d2dd491204a86ec10a1a6972F940B34fE060e",
         "{'id': '0x4f493b7de8aac7d55f71853688b1f7c8f0243c85', 'decimals': '18'}",
         "33613.048825",
         "0xa7569A44f348d3D70d8ad5889e50F78E33d80D35",
         "0x4f493B7dE8aAC7d55F71853688b1F7C8F0243C85",
         "0xA0b86991c6218b36c1d19D4a2e9Eb0cE3606eB48",
         "1.006762",
         "1.0",
         "33592.877123148915",
         "33613.048825",
         "20.171701851082616",
         "0.06001152099026417",
         "22278574",
         "1.0649231588878e-05"
        ],
        [
         "12",
         "0xf6e88bc81748952a6e69eb3fe20d5b7ee44f0b1c9e91412cb1a62ce04122184a",
         "1744682315",
         "22271256",
         "145225.65109420655",
         "{'id': '0xa0b86991c6218b36c1d19d4a2e9eb0ce3606eb48', 'decimals': '6'}",
         "0x3Ee3F7A0B244004B0678EBa98bA091eC101513Ee",
         "{'id': '0xfd1627e3f3469c8392c8c3a261d8f0677586e5e1', 'decimals': '18'}",
         "150000.0",
         "0xa7569A44f348d3D70d8ad5889e50F78E33d80D35",
         "0xfD1627E3f3469C8392C8c3A261D8F0677586e5e1",
         "0xA0b86991c6218b36c1d19D4a2e9Eb0cE3606eB48",
         "1.032568",
         "1.0",
         "149955.36009904265",
         "150000.0",
         "44.63990095735062",
         "0.02975993397156708",
         "22271256",
         "1.0101337754854e-05"
        ],
        [
         "13",
         "0xf48ddcdd98ecbf594741e80338a28d1c11271ebe57054f45d410c46da758bd18",
         "1745097863",
         "22305715",
         "73715.43313424606",
         "{'id': '0xa0b86991c6218b36c1d19d4a2e9eb0ce3606eb48', 'decimals': '6'}",
         "0x7583b1589aDD33320366A48A92794D77763FAE9e",
         "{'id': '0x390f3595bca2df7d23783dfd126427cceb997bf4', 'decimals': '18'}",
         "75000.0",
         "0xa7569A44f348d3D70d8ad5889e50F78E33d80D35",
         "0x390f3595bCa2Df7d23783dFd126427CCeb997BF4",
         "0xA0b86991c6218b36c1d19D4a2e9Eb0cE3606eB48",
         "1.017138",
         "1.0",
         "74978.76822730078",
         "75000.0",
         "21.23177269921871",
         "0.028309030265624945",
         "22305715",
         "2.1686508479036e-05"
        ],
        [
         "14",
         "0xf452556a81a9b2b1c3230b0162f64c88fed221dae0f1ac0430a8d09082098c54",
         "1744809407",
         "22281797",
         "26048.877500979615",
         "{'id': '0xa0b86991c6218b36c1d19d4a2e9eb0ce3606eb48', 'decimals': '6'}",
         "0xbB2d2dd491204a86ec10a1a6972F940B34fE060e",
         "{'id': '0x4f493b7de8aac7d55f71853688b1f7c8f0243c85', 'decimals': '18'}",
         "26227.4368",
         "0xa7569A44f348d3D70d8ad5889e50F78E33d80D35",
         "0x4f493B7dE8aAC7d55F71853688b1F7C8F0243C85",
         "0xA0b86991c6218b36c1d19D4a2e9Eb0cE3606eB48",
         "1.006776",
         "1.0",
         "26225.38469492625",
         "26227.4368",
         "2.0521050737479527",
         "0.007824268491795404",
         "22281797",
         "1.0674639213883e-05"
        ],
        [
         "15",
         "0xf4488d8f4099f52ff4664b5342f454e907bcb7897fc831d0f9db6c27c0d0f79f",
         "1744454699",
         "22252365",
         "147328.56706112463",
         "{'id': '0xa0b86991c6218b36c1d19d4a2e9eb0ce3606eb48', 'decimals': '6'}",
         "0x65efCF2cce562DCBf07e805eEbeDeF21Dbd8Ea3D",
         "{'id': '0x4dece678ceceb27446b35c672dc7d61f30bad69e', 'decimals': '18'}",
         "150000.0",
         "0xa7569A44f348d3D70d8ad5889e50F78E33d80D35",
         "0x4DEcE678ceceb27446b35C672dC7d61F30bAD69E",
         "0xA0b86991c6218b36c1d19D4a2e9Eb0cE3606eB48",
         "1.018263",
         "1.0",
         "150019.22868136194",
         "150000.0",
         "-19.228681361943018",
         "-0.012819120907962011",
         "22252365",
         "7.886604592531e-06"
        ],
        [
         "16",
         "0xf42cc7d517395d441b21cc063d55671252d617e98f1c2302158b958752b0b6bf",
         "1744647971",
         "22268408",
         "140027.92494208858",
         "{'id': '0xa0b86991c6218b36c1d19d4a2e9eb0ce3606eb48', 'decimals': '6'}",
         "0xC099899d0278CE83976218Cbe58D01dD382dcA32",
         "{'id': '0x57064f49ad7123c92560882a45518374ad982e85', 'decimals': '18'}",
         "150000.0",
         "0xa7569A44f348d3D70d8ad5889e50F78E33d80D35",
         "0x57064F49Ad7123C92560882a45518374ad982e85",
         "0xA0b86991c6218b36c1d19D4a2e9Eb0cE3606eB48",
         "1.071303",
         "1.0",
         "150012.3360742343",
         "150000.0",
         "-12.33607423430658",
         "-0.00822404948953772",
         "22268408",
         "9.186872349194e-06"
        ],
        [
         "17",
         "0xf2c7bc5f502fdcd1bc2aae6d66fd65a6b71c2eb3175a4cbd3fee958d27feacd2",
         "1746019055",
         "22382106",
         "148087.40068",
         "{'id': '0xa0b86991c6218b36c1d19d4a2e9eb0ce3606eb48', 'decimals': '6'}",
         "0x7876F91BB22148345b3De16af9448081E9853830",
         "{'id': '0x9fb7b4477576fe5b32be4c1843afb1e55f251b33', 'decimals': '6'}",
         "170000.0",
         "0xa7569A44f348d3D70d8ad5889e50F78E33d80D35",
         "0x9Fb7b4477576Fe5B32be4C1843aFB1e55F251B33",
         "0xA0b86991c6218b36c1d19D4a2e9Eb0cE3606eB48",
         "1.148165",
         "1.0",
         "170028.7704017522",
         "170000.0",
         "-28.770401752204634",
         "-0.016923765736590962",
         "22382106",
         "2.4993508537702e-05"
        ],
        [
         "18",
         "0xf29341282b34683083b1587572da943e901a40ac7613a816ce3ee4f116d52134",
         "1745576243",
         "22345385",
         "21986.15211022628",
         "{'id': '0xa0b86991c6218b36c1d19d4a2e9eb0ce3606eb48', 'decimals': '6'}",
         "0xC099899d0278CE83976218Cbe58D01dD382dcA32",
         "{'id': '0x57064f49ad7123c92560882a45518374ad982e85', 'decimals': '18'}",
         "23598.135625",
         "0xa7569A44f348d3D70d8ad5889e50F78E33d80D35",
         "0x57064F49Ad7123C92560882a45518374ad982e85",
         "0xA0b86991c6218b36c1d19D4a2e9Eb0cE3606eB48",
         "1.073209",
         "1.0",
         "23595.73632006384",
         "23598.135625",
         "2.3993049361597514",
         "0.010167349549503877",
         "22345385",
         "2.3148472348441e-05"
        ],
        [
         "19",
         "0xf255a4ea0da9dab82f179e9a4fa0f5b38b57a60c25ab6784e3406f36edffae73",
         "1744841111",
         "22284426",
         "148886.831364442",
         "{'id': '0xa0b86991c6218b36c1d19d4a2e9eb0ce3606eb48', 'decimals': '6'}",
         "0xbB2d2dd491204a86ec10a1a6972F940B34fE060e",
         "{'id': '0x4f493b7de8aac7d55f71853688b1f7c8f0243c85', 'decimals': '18'}",
         "150000.0",
         "0xa7569A44f348d3D70d8ad5889e50F78E33d80D35",
         "0x4f493B7dE8aAC7d55F71853688b1F7C8F0243C85",
         "0xA0b86991c6218b36c1d19D4a2e9Eb0cE3606eB48",
         "1.006832",
         "1.0",
         "149904.02619632386",
         "150000.0",
         "95.97380367614096",
         "0.06398253578409398",
         "22284426",
         "1.2134269019444e-05"
        ],
        [
         "20",
         "0xeeba47ab80f9a05fdd7d6f5a1a5a77776970f075c7531a448bdb07ac4eaae6d0",
         "1745500607",
         "22339107",
         "147294.00167749557",
         "{'id': '0xa0b86991c6218b36c1d19d4a2e9eb0ce3606eb48', 'decimals': '6'}",
         "0x65efCF2cce562DCBf07e805eEbeDeF21Dbd8Ea3D",
         "{'id': '0x4dece678ceceb27446b35c672dc7d61f30bad69e', 'decimals': '18'}",
         "150000.0",
         "0xa7569A44f348d3D70d8ad5889e50F78E33d80D35",
         "0x4DEcE678ceceb27446b35C672dC7d61F30bAD69E",
         "0xA0b86991c6218b36c1d19D4a2e9Eb0cE3606eB48",
         "1.018298",
         "1.0",
         "149989.18732019037",
         "150000.0",
         "10.812679809634574",
         "0.007208453206423049",
         "22339107",
         "2.4547608855124e-05"
        ],
        [
         "21",
         "0xee160b9ad6af81bd1b35cb9e46306181fd60543a0a751d4d271c73e097c47f0c",
         "1744551011",
         "22260359",
         "21675.591863436468",
         "{'id': '0xa0b86991c6218b36c1d19d4a2e9eb0ce3606eb48', 'decimals': '6'}",
         "0x7583b1589aDD33320366A48A92794D77763FAE9e",
         "{'id': '0x390f3595bca2df7d23783dfd126427cceb997bf4', 'decimals': '18'}",
         "22051.8174",
         "0xa7569A44f348d3D70d8ad5889e50F78E33d80D35",
         "0x390f3595bCa2Df7d23783dFd126427CCeb997BF4",
         "0xA0b86991c6218b36c1d19D4a2e9Eb0cE3606eB48",
         "1.017186",
         "1.0",
         "22048.108585201484",
         "22051.8174",
         "3.7088147985159594",
         "0.016818635540288663",
         "22260359",
         "8.008428823819e-06"
        ],
        [
         "22",
         "0xed5682094936febb4e6fd6d2a9c8f317a55442c6cee08427e9908ed1f6610fd4",
         "1745371007",
         "22328373",
         "120973.669012",
         "{'id': '0xa0b86991c6218b36c1d19d4a2e9eb0ce3606eb48', 'decimals': '6'}",
         "0xE4545f9dBC30Ccb6Cda6930DDFd69f3D419FcB61",
         "{'id': '0x5c20b550819128074fd538edf79791733ccedd18', 'decimals': '6'}",
         "138497.406425",
         "0xa7569A44f348d3D70d8ad5889e50F78E33d80D35",
         "0x5C20B550819128074FD538Edf79791733ccEdd18",
         "0xA0b86991c6218b36c1d19D4a2e9Eb0cE3606eB48",
         "1.144239",
         "1.0",
         "138422.79005662186",
         "138497.406425",
         "74.61636837813421",
         "0.05387564309266755",
         "22328373",
         "2.2738005333884e-05"
        ],
        [
         "23",
         "0xeb71acdde761fddfd3d16bfe9bf3d6aba6d09546c1c6f5299f7321b48dc752f6",
         "1744952327",
         "22293648",
         "45431.64654981859",
         "{'id': '0xa0b86991c6218b36c1d19d4a2e9eb0ce3606eb48', 'decimals': '6'}",
         "0xbB2d2dd491204a86ec10a1a6972F940B34fE060e",
         "{'id': '0x4f493b7de8aac7d55f71853688b1f7c8f0243c85', 'decimals': '18'}",
         "45772.805475",
         "0xa7569A44f348d3D70d8ad5889e50F78E33d80D35",
         "0x4f493B7dE8aAC7d55F71853688b1F7C8F0243C85",
         "0xA0b86991c6218b36c1d19D4a2e9Eb0cE3606eB48",
         "1.006908",
         "1.0",
         "45745.488364184734",
         "45772.805475",
         "27.31711081526737",
         "0.05967978263903294",
         "22293648",
         "1.3574422299573e-05"
        ],
        [
         "24",
         "0xeb1d3f3839174cf5b72ed6cd395bba5d40fd6e7591693b1ac93d9ddf8c89b82f",
         "1745813843",
         "22365119",
         "147615.74798992887",
         "{'id': '0x9fb7b4477576fe5b32be4c1843afb1e55f251b33', 'decimals': '6'}",
         "0x65efCF2cce562DCBf07e805eEbeDeF21Dbd8Ea3D",
         "{'id': '0x4dece678ceceb27446b35c672dc7d61f30bad69e', 'decimals': '18'}",
         "130683.763587",
         "0x7876F91BB22148345b3De16af9448081E9853830",
         "0x4DEcE678ceceb27446b35C672dC7d61F30bAD69E",
         "0x9Fb7b4477576Fe5B32be4C1843aFB1e55F251B33",
         "1.018345",
         "1.147809",
         "150323.75888680413",
         "149999.9999990309",
         "-323.75888777323416",
         "-0.2158392585168839",
         "22365119",
         "2.3772316700504e-05"
        ],
        [
         "25",
         "0xea5eaa0e536857aaf76e2137269bffb339edeb2025422a1eb9c6348d1b60fe12",
         "1744713863",
         "22273867",
         "21915.973125928536",
         "{'id': '0xa0b86991c6218b36c1d19d4a2e9eb0ce3606eb48', 'decimals': '6'}",
         "0x3Ee3F7A0B244004B0678EBa98bA091eC101513Ee",
         "{'id': '0xfd1627e3f3469c8392c8c3a261d8f0677586e5e1', 'decimals': '18'}",
         "22635.11275",
         "0xa7569A44f348d3D70d8ad5889e50F78E33d80D35",
         "0xfD1627E3f3469C8392C8c3A261D8F0677586e5e1",
         "0xA0b86991c6218b36c1d19D4a2e9Eb0cE3606eB48",
         "1.032672",
         "1.0",
         "22632.011799898875",
         "22635.11275",
         "3.1009501011249085",
         "0.013699733398168774",
         "22273867",
         "1.0083090021566e-05"
        ],
        [
         "26",
         "0xea111bf4841e70491bd4d1a591ebf8fa41156f31361fb9d48c5f6f3a5dbba271",
         "1744956995",
         "22294037",
         "34109.942001298456",
         "{'id': '0xa0b86991c6218b36c1d19d4a2e9eb0ce3606eb48', 'decimals': '6'}",
         "0xd7900d87069C815a299bdA7aFDcd7eEe98fe4b6c",
         "{'id': '0x5b03cccab7ba3010fa5cad23746cbf0794938e96', 'decimals': '18'}",
         "34329.604099",
         "0xa7569A44f348d3D70d8ad5889e50F78E33d80D35",
         "0x5B03CcCAb7BA3010fA5CAd23746cbf0794938e96",
         "0xA0b86991c6218b36c1d19D4a2e9Eb0cE3606eB48",
         "1.006033",
         "1.0",
         "34315.72728139229",
         "34329.604099",
         "13.87681760770647",
         "0.040422305971511904",
         "22294037",
         "1.3574418876816e-05"
        ],
        [
         "27",
         "0xea053b69475c00a9fa5a51b0b993637d9cf6b94b4efda2995df3782062fdc731",
         "1744355807",
         "22244146",
         "147488.93313498926",
         "{'id': '0xa0b86991c6218b36c1d19d4a2e9eb0ce3606eb48', 'decimals': '6'}",
         "0x7583b1589aDD33320366A48A92794D77763FAE9e",
         "{'id': '0x390f3595bca2df7d23783dfd126427cceb997bf4', 'decimals': '18'}",
         "150000.0",
         "0xa7569A44f348d3D70d8ad5889e50F78E33d80D35",
         "0x390f3595bCa2Df7d23783dFd126427CCeb997BF4",
         "0xA0b86991c6218b36c1d19D4a2e9Eb0cE3606eB48",
         "1.016949",
         "1.0",
         "149988.72306269422",
         "150000.0",
         "11.276937305781757",
         "0.007517958203854505",
         "22244146",
         "7.477387259558e-06"
        ],
        [
         "28",
         "0xe9640e56ae896fa142675229d19514065d39ef1bb6e8b834d99fe1d5820f1b6a",
         "1745716667",
         "22357046",
         "149089.13206443304",
         "{'id': '0x9fb7b4477576fe5b32be4c1843afb1e55f251b33', 'decimals': '6'}",
         "0xa345ceECCF8fe6aE33fe1D655B4806492251c2A8",
         "{'id': '0x635ef0056a597d13863b73825cca297236578595', 'decimals': '18'}",
         "130697.76925",
         "0x7876F91BB22148345b3De16af9448081E9853830",
         "0x635EF0056A597D13863B73825CcA297236578595",
         "0x9Fb7b4477576Fe5B32be4C1843aFB1e55F251B33",
         "1.005844",
         "1.147686",
         "149960.40895221758",
         "149999.9999994555",
         "39.59104723791825",
         "0.02639403149204131",
         "22357046",
         "2.3640148755524e-05"
        ],
        [
         "29",
         "0xe8edad6e352eb0a9755e8b9f55c03d94ea18dab8fc70db0d320667efd09f54df",
         "1745164751",
         "22311261",
         "218628.176391",
         "{'id': '0xa0b86991c6218b36c1d19d4a2e9eb0ce3606eb48', 'decimals': '6'}",
         "0xE4545f9dBC30Ccb6Cda6930DDFd69f3D419FcB61",
         "{'id': '0x5c20b550819128074fd538edf79791733ccedd18', 'decimals': '6'}",
         "250000.0",
         "0xa7569A44f348d3D70d8ad5889e50F78E33d80D35",
         "0x5C20B550819128074FD538Edf79791733ccEdd18",
         "0xA0b86991c6218b36c1d19D4a2e9Eb0cE3606eB48",
         "1.143292",
         "1.0",
         "249955.84504241915",
         "250000.0",
         "44.1549575808458",
         "0.017661983032338322",
         "22311261",
         "2.1945346414388e-05"
        ],
        [
         "30",
         "0xe83c4cb4c6d7b99387a52e9742ba8fe142832b4ff9811e706cb266084438bd5d",
         "1745090219",
         "22305082",
         "74441.17739313151",
         "{'id': '0xa0b86991c6218b36c1d19d4a2e9eb0ce3606eb48', 'decimals': '6'}",
         "0xbB2d2dd491204a86ec10a1a6972F940B34fE060e",
         "{'id': '0x4f493b7de8aac7d55f71853688b1f7c8f0243c85', 'decimals': '18'}",
         "75000.0",
         "0xa7569A44f348d3D70d8ad5889e50F78E33d80D35",
         "0x4f493B7dE8aAC7d55F71853688b1F7C8F0243C85",
         "0xA0b86991c6218b36c1d19D4a2e9Eb0cE3606eB48",
         "1.006895",
         "1.0",
         "74954.44931125717",
         "75000.0",
         "45.55068874283461",
         "0.06073425165711281",
         "22305082",
         "2.1686694938601e-05"
        ],
        [
         "31",
         "0xe703d93d0013967fec68c09fe6577e780e6a2a522eef7e5ab97da8463a6a5702",
         "1744299911",
         "22239508",
         "245827.60436608852",
         "{'id': '0xa0b86991c6218b36c1d19d4a2e9eb0ce3606eb48', 'decimals': '6'}",
         "0x7583b1589aDD33320366A48A92794D77763FAE9e",
         "{'id': '0x390f3595bca2df7d23783dfd126427cceb997bf4', 'decimals': '18'}",
         "250000.0",
         "0xa7569A44f348d3D70d8ad5889e50F78E33d80D35",
         "0x390f3595bCa2Df7d23783dFd126427CCeb997BF4",
         "0xA0b86991c6218b36c1d19D4a2e9Eb0cE3606eB48",
         "1.016746",
         "1.0",
         "249944.233428803",
         "250000.0",
         "55.76657119698939",
         "0.022306628478795755",
         "22239508",
         "6.455182161866e-06"
        ],
        [
         "32",
         "0xe61758442e2ee92d598c6347fb5f7fd0595a29e62ebacf6d0912ea7f7765f569",
         "1745106263",
         "22306415",
         "437321.45995",
         "{'id': '0xa0b86991c6218b36c1d19d4a2e9eb0ce3606eb48', 'decimals': '6'}",
         "0xE4545f9dBC30Ccb6Cda6930DDFd69f3D419FcB61",
         "{'id': '0x5c20b550819128074fd538edf79791733ccedd18', 'decimals': '6'}",
         "500000.0",
         "0xa7569A44f348d3D70d8ad5889e50F78E33d80D35",
         "0x5C20B550819128074FD538Edf79791733ccEdd18",
         "0xA0b86991c6218b36c1d19D4a2e9Eb0cE3606eB48",
         "1.143215",
         "1.0",
         "499952.4528367393",
         "500000.0",
         "47.547163260693196",
         "0.00950943265213864",
         "22306415",
         "2.1688253582395e-05"
        ],
        [
         "33",
         "0xe59412dfb0dad3fbb1a9b9deecc20a1bed4e5da0ced6d59a9107d697c4220bce",
         "1745207099",
         "22314769",
         "134365.1596861054",
         "{'id': '0xa0b86991c6218b36c1d19d4a2e9eb0ce3606eb48', 'decimals': '6'}",
         "0xd7900d87069C815a299bdA7aFDcd7eEe98fe4b6c",
         "{'id': '0x5b03cccab7ba3010fa5cad23746cbf0794938e96', 'decimals': '18'}",
         "135304.32449",
         "0xa7569A44f348d3D70d8ad5889e50F78E33d80D35",
         "0x5B03CcCAb7BA3010fA5CAd23746cbf0794938e96",
         "0xA0b86991c6218b36c1d19D4a2e9Eb0cE3606eB48",
         "1.006077",
         "1.0",
         "135181.6967615179",
         "135304.32449",
         "122.62772848209715",
         "0.09063104889242492",
         "22314769",
         "2.2107481152694e-05"
        ],
        [
         "34",
         "0xe53a317bde38fb25d3341c46b434262e420f8695b547e9a570b66a80f7d61b20",
         "1744474607",
         "22254021",
         "147461.17899423372",
         "{'id': '0xa0b86991c6218b36c1d19d4a2e9eb0ce3606eb48', 'decimals': '6'}",
         "0x7583b1589aDD33320366A48A92794D77763FAE9e",
         "{'id': '0x390f3595bca2df7d23783dfd126427cceb997bf4', 'decimals': '18'}",
         "150000.0",
         "0xa7569A44f348d3D70d8ad5889e50F78E33d80D35",
         "0x390f3595bCa2Df7d23783dFd126427CCeb997BF4",
         "0xA0b86991c6218b36c1d19D4a2e9Eb0cE3606eB48",
         "1.017102",
         "1.0",
         "149983.0600773931",
         "150000.0",
         "16.93992260689265",
         "0.011293281737928434",
         "22254021",
         "7.916251329158e-06"
        ],
        [
         "35",
         "0xe3dfb22e54abc3ea9e3ea5b6528467645c3379f0f6afcabf8be55d061691be28",
         "1744254443",
         "22235729",
         "99400.47187877394",
         "{'id': '0xa0b86991c6218b36c1d19d4a2e9eb0ce3606eb48', 'decimals': '6'}",
         "0xd7900d87069C815a299bdA7aFDcd7eEe98fe4b6c",
         "{'id': '0x5b03cccab7ba3010fa5cad23746cbf0794938e96', 'decimals': '18'}",
         "99999.999999",
         "0xa7569A44f348d3D70d8ad5889e50F78E33d80D35",
         "0x5B03CcCAb7BA3010fA5CAd23746cbf0794938e96",
         "0xA0b86991c6218b36c1d19D4a2e9Eb0cE3606eB48",
         "1.005261",
         "1.0",
         "99923.41776132816",
         "99999.999999",
         "76.58223767184245",
         "0.07658223767260827",
         "22235729",
         "3.691729238103e-06"
        ],
        [
         "36",
         "0xe3a0373db2f1143d47e7e7e944a9a08ee289c437db5a6bc435dca090ef03dc84",
         "1744888607",
         "22288360",
         "148987.8681598175",
         "{'id': '0xa0b86991c6218b36c1d19d4a2e9eb0ce3606eb48', 'decimals': '6'}",
         "0xbB2d2dd491204a86ec10a1a6972F940B34fE060e",
         "{'id': '0x4f493b7de8aac7d55f71853688b1f7c8f0243c85', 'decimals': '18'}",
         "150000.0",
         "0xa7569A44f348d3D70d8ad5889e50F78E33d80D35",
         "0x4f493B7dE8aAC7d55F71853688b1F7C8F0243C85",
         "0xA0b86991c6218b36c1d19D4a2e9Eb0cE3606eB48",
         "1.006825",
         "1.0",
         "150004.71036000826",
         "150000.0",
         "-4.710360008262796",
         "-0.003140240005508531",
         "22288360",
         "1.3306001833731e-05"
        ],
        [
         "37",
         "0xe19e214ad7483c3f757f4eda3c5cf98929d11b84730464e217ab808a29dc6ae9",
         "1746297923",
         "22405134",
         "148057.300848",
         "{'id': '0xa0b86991c6218b36c1d19d4a2e9eb0ce3606eb48', 'decimals': '6'}",
         "0x7876F91BB22148345b3De16af9448081E9853830",
         "{'id': '0x9fb7b4477576fe5b32be4c1843afb1e55f251b33', 'decimals': '6'}",
         "170000.0",
         "0xa7569A44f348d3D70d8ad5889e50F78E33d80D35",
         "0x9Fb7b4477576Fe5B32be4C1843aFB1e55F251B33",
         "0xA0b86991c6218b36c1d19D4a2e9Eb0cE3606eB48",
         "1.148217",
         "1.0",
         "170001.90980778803",
         "170000.0",
         "-1.909807788033504",
         "-0.0011234163459020612",
         "22405134",
         "2.8175388326195e-05"
        ],
        [
         "38",
         "0xe08fab430452304d5a139ee69698fd3cb64b52fe28420f9bb25278bb70791304",
         "1744686995",
         "22271642",
         "135677.18211868283",
         "{'id': '0xa0b86991c6218b36c1d19d4a2e9eb0ce3606eb48', 'decimals': '6'}",
         "0x7583b1589aDD33320366A48A92794D77763FAE9e",
         "{'id': '0x390f3595bca2df7d23783dfd126427cceb997bf4', 'decimals': '18'}",
         "138096.373675",
         "0xa7569A44f348d3D70d8ad5889e50F78E33d80D35",
         "0x390f3595bCa2Df7d23783dFd126427CCeb997BF4",
         "0xA0b86991c6218b36c1d19D4a2e9Eb0cE3606eB48",
         "1.017076",
         "1.0",
         "137994.00568054148",
         "138096.373675",
         "102.36799445853103",
         "0.07412793814517304",
         "22271642",
         "1.0101223239947e-05"
        ],
        [
         "39",
         "0xe0487aed5ee9b0d44783293725bff6ff4b5ce7fac20c29c0490bda4187c07333",
         "1744651835",
         "22268729",
         "143232.57166507747",
         "{'id': '0xa0b86991c6218b36c1d19d4a2e9eb0ce3606eb48', 'decimals': '6'}",
         "0x7583b1589aDD33320366A48A92794D77763FAE9e",
         "{'id': '0x390f3595bca2df7d23783dfd126427cceb997bf4', 'decimals': '18'}",
         "145781.055275",
         "0xa7569A44f348d3D70d8ad5889e50F78E33d80D35",
         "0x390f3595bCa2Df7d23783dFd126427CCeb997BF4",
         "0xA0b86991c6218b36c1d19D4a2e9Eb0cE3606eB48",
         "1.017088",
         "1.0",
         "145680.1298496903",
         "145781.055275",
         "100.92542530968785",
         "0.06923082366175982",
         "22268729",
         "9.18669534164e-06"
        ],
        [
         "40",
         "0xdf7a92e9823333db93718d7828a3ba07ade6ed7b0f5e1ec5c5d133cf305bc407",
         "1744325075",
         "22241595",
         "85742.83886791604",
         "{'id': '0xa0b86991c6218b36c1d19d4a2e9eb0ce3606eb48', 'decimals': '6'}",
         "0xbB2d2dd491204a86ec10a1a6972F940B34fE060e",
         "{'id': '0x4f493b7de8aac7d55f71853688b1f7c8f0243c85', 'decimals': '18'}",
         "86270.928764",
         "0xa7569A44f348d3D70d8ad5889e50F78E33d80D35",
         "0x4f493B7dE8aAC7d55F71853688b1F7C8F0243C85",
         "0xA0b86991c6218b36c1d19D4a2e9Eb0cE3606eB48",
         "1.006055",
         "1.0",
         "86262.01175726127",
         "86270.928764",
         "8.917006738731288",
         "0.0103360504708653",
         "22241595",
         "7.418470777852e-06"
        ],
        [
         "41",
         "0xdab0a1fdc93b71c02751554f1f7f4f61df7b6e4ff1d02a66f8719e69beee9d3b",
         "1746315923",
         "22406620",
         "84464.02847117599",
         "{'id': '0xbeef01735c132ada46aa9aa4c54623caa92a64cb', 'decimals': '18'}",
         "0xa345ceECCF8fe6aE33fe1D655B4806492251c2A8",
         "{'id': '0x635ef0056a597d13863b73825cca297236578595', 'decimals': '18'}",
         "78489.96390385073",
         "0xC5c95fCad37E466E25e6ecA1977bbF75C0E1004a",
         "0x635EF0056A597D13863B73825CcA297236578595",
         "0xBEEF01735c132Ada46AA9aA4c54623cAA92A64CB",
         "1.005739",
         "1.082941",
         "84948.76753057206",
         "85000.00000000001",
         "51.23246942795231",
         "0.060273493444649766",
         "22406620",
         "2.8175849991613e-05"
        ],
        [
         "42",
         "0xda7e2c4d30db874ecb3430fee673beb8b980146c9637cd242816615ca93ba25f",
         "1745146751",
         "22309771",
         "241917.61649261712",
         "{'id': '0xa0b86991c6218b36c1d19d4a2e9eb0ce3606eb48', 'decimals': '6'}",
         "0x3Ee3F7A0B244004B0678EBa98bA091eC101513Ee",
         "{'id': '0xfd1627e3f3469c8392c8c3a261d8f0677586e5e1', 'decimals': '18'}",
         "250000.0",
         "0xa7569A44f348d3D70d8ad5889e50F78E33d80D35",
         "0xfD1627E3f3469C8392C8c3A261D8F0677586e5e1",
         "0xA0b86991c6218b36c1d19D4a2e9Eb0cE3606eB48",
         "1.033165",
         "1.0",
         "249940.81424359474",
         "250000.0",
         "59.18575640526251",
         "0.023674302562105003",
         "22309771",
         "2.1907755589949e-05"
        ],
        [
         "43",
         "0xda38fdcd54000bffb94ad9806c7ed3473d4675d5df36d9609f62e636bfdf8f44",
         "1744337819",
         "22242654",
         "253938.90733594674",
         "{'id': '0xa0b86991c6218b36c1d19d4a2e9eb0ce3606eb48', 'decimals': '6'}",
         "0x7583b1589aDD33320366A48A92794D77763FAE9e",
         "{'id': '0x390f3595bca2df7d23783dfd126427cceb997bf4', 'decimals': '18'}",
         "258350.563857",
         "0xa7569A44f348d3D70d8ad5889e50F78E33d80D35",
         "0x390f3595bCa2Df7d23783dFd126427CCeb997BF4",
         "0xA0b86991c6218b36c1d19D4a2e9Eb0cE3606eB48",
         "1.016959",
         "1.0",
         "258245.45726545705",
         "258350.563857",
         "105.1065915429499",
         "0.04068370897813391",
         "22242654",
         "7.418160410767e-06"
        ],
        [
         "44",
         "0xd9de304fd4440fda361f0f85f3c53a22464445746a81ec77d266f234acfe6dda",
         "1745641043",
         "22350766",
         "39417.400235335444",
         "{'id': '0xa0b86991c6218b36c1d19d4a2e9eb0ce3606eb48', 'decimals': '6'}",
         "0xa345ceECCF8fe6aE33fe1D655B4806492251c2A8",
         "{'id': '0x635ef0056a597d13863b73825cca297236578595', 'decimals': '18'}",
         "39653.215725",
         "0xa7569A44f348d3D70d8ad5889e50F78E33d80D35",
         "0x635EF0056A597D13863B73825CcA297236578595",
         "0xA0b86991c6218b36c1d19D4a2e9Eb0cE3606eB48",
         "1.005955",
         "1.0",
         "39652.13085373687",
         "39653.215725",
         "1.0848712631341186",
         "0.002735897311980537",
         "22350766",
         "2.3635434675171e-05"
        ],
        [
         "45",
         "0xd894d816d0c60aa237e15e30acf34fed021a6fe4fcbf3220d37e0add54864d57",
         "1746343055",
         "22408861",
         "82152.89402126933",
         "{'id': '0xdd0f28e19c1780eb6396170735d45153d261490d', 'decimals': '18'}",
         "0x3Ee3F7A0B244004B0678EBa98bA091eC101513Ee",
         "{'id': '0xfd1627e3f3469c8392c8c3a261d8f0677586e5e1', 'decimals': '18'}",
         "79204.23043771985",
         "0x0f170e37E5E0C617148517B831A49292c38c363d",
         "0xfD1627E3f3469C8392C8c3A261D8F0677586e5e1",
         "0xdd0f28e19C1780eb6396170735D45153D261490d",
         "1.034404",
         "1.073175",
         "84979.28218717709",
         "85000.0",
         "20.7178128229134",
         "0.024373897438721648",
         "22408861",
         "2.8160358673478e-05"
        ],
        [
         "46",
         "0xd09ab4f1d6c0522746542f78b3196b28ae16a8a7e17469510d87ce4a9e6942cb",
         "1744727435",
         "22274989",
         "54668.48149538606",
         "{'id': '0xa0b86991c6218b36c1d19d4a2e9eb0ce3606eb48', 'decimals': '6'}",
         "0x3Ee3F7A0B244004B0678EBa98bA091eC101513Ee",
         "{'id': '0xfd1627e3f3469c8392c8c3a261d8f0677586e5e1', 'decimals': '18'}",
         "56463.64485",
         "0xa7569A44f348d3D70d8ad5889e50F78E33d80D35",
         "0xfD1627E3f3469C8392C8c3A261D8F0677586e5e1",
         "0xA0b86991c6218b36c1d19D4a2e9Eb0cE3606eB48",
         "1.032686",
         "1.0",
         "56455.37548154425",
         "56463.64485",
         "8.26936845574528",
         "0.014645474052752867",
         "22274989",
         "1.0369122207797e-05"
        ],
        [
         "47",
         "0xd0563c451348fa77eea46fa4b17aa32064713f6a054735ef5a2538a7c0c338f0",
         "1745897483",
         "22372047",
         "39892.996621207945",
         "{'id': '0xa0b86991c6218b36c1d19d4a2e9eb0ce3606eb48', 'decimals': '6'}",
         "0x0f170e37E5E0C617148517B831A49292c38c363d",
         "{'id': '0xdd0f28e19c1780eb6396170735d45153d261490d', 'decimals': '18'}",
         "42760.785575",
         "0xa7569A44f348d3D70d8ad5889e50F78E33d80D35",
         "0xdd0f28e19C1780eb6396170735D45153D261490d",
         "0xA0b86991c6218b36c1d19D4a2e9Eb0cE3606eB48",
         "1.072742",
         "1.0",
         "42794.89298142786",
         "42760.785575",
         "-34.10740642785822",
         "-0.07976328303893239",
         "22372047",
         "2.4319585685134e-05"
        ],
        [
         "48",
         "0xcffcea4f72570b1ef5e2ba99f73d1e0b2ece2dd230c2a3fb006c880d404f0aa9",
         "1744883915",
         "22287971",
         "148899.87321697694",
         "{'id': '0xa0b86991c6218b36c1d19d4a2e9eb0ce3606eb48', 'decimals': '6'}",
         "0xbB2d2dd491204a86ec10a1a6972F940B34fE060e",
         "{'id': '0x4f493b7de8aac7d55f71853688b1f7c8f0243c85', 'decimals': '18'}",
         "150000.0",
         "0xa7569A44f348d3D70d8ad5889e50F78E33d80D35",
         "0x4f493B7dE8aAC7d55F71853688b1F7C8F0243C85",
         "0xA0b86991c6218b36c1d19D4a2e9Eb0cE3606eB48",
         "1.006806",
         "1.0",
         "149913.2857540917",
         "150000.0",
         "86.71424590831157",
         "0.05780949727220771",
         "22287971",
         "1.3305101701504e-05"
        ],
        [
         "49",
         "0xcf55f563f6913a9737142ff9de58f7c975ba5e63869aa900d87ad2948715b0eb",
         "1745965043",
         "22377639",
         "369734.1808155267",
         "{'id': '0x9fb7b4477576fe5b32be4c1843afb1e55f251b33', 'decimals': '6'}",
         "0x3F3565C5A2AA05F76830A5a51c2F32018De856A3",
         "{'id': '0x8eb67a509616cd6a7c1b3c8c21d48ff57df3d458', 'decimals': '18'}",
         "350919.302925",
         "0x7876F91BB22148345b3De16af9448081E9853830",
         "0x8eB67A509616cd6A7c1B3c8C21D48FF57df3d458",
         "0x9Fb7b4477576Fe5B32be4C1843aFB1e55F251B33",
         "1.089897",
         "1.148237",
         "402972.1744683001",
         "402938.52763269324",
         "-33.64683560683625",
         "-0.008350364459937597",
         "22377639",
         "2.4566443854348e-05"
        ]
       ],
       "shape": {
        "columns": 19,
        "rows": 270
       }
      },
      "text/html": [
       "<div>\n",
       "<style scoped>\n",
       "    .dataframe tbody tr th:only-of-type {\n",
       "        vertical-align: middle;\n",
       "    }\n",
       "\n",
       "    .dataframe tbody tr th {\n",
       "        vertical-align: top;\n",
       "    }\n",
       "\n",
       "    .dataframe thead th {\n",
       "        text-align: right;\n",
       "    }\n",
       "</style>\n",
       "<table border=\"1\" class=\"dataframe\">\n",
       "  <thead>\n",
       "    <tr style=\"text-align: right;\">\n",
       "      <th></th>\n",
       "      <th>transactionHash</th>\n",
       "      <th>timestamp</th>\n",
       "      <th>blockNumber</th>\n",
       "      <th>tokenInAmount</th>\n",
       "      <th>tokenOut</th>\n",
       "      <th>destinationInAddress</th>\n",
       "      <th>tokenIn</th>\n",
       "      <th>tokenOutAmount</th>\n",
       "      <th>destinationOutAddress</th>\n",
       "      <th>tokenInAddress</th>\n",
       "      <th>tokenOutAddress</th>\n",
       "      <th>lp_token_in_spot_price</th>\n",
       "      <th>lp_token_out_spot_price</th>\n",
       "      <th>spot_value_in</th>\n",
       "      <th>spot_value_out</th>\n",
       "      <th>swap_cost</th>\n",
       "      <th>slippage</th>\n",
       "      <th>block</th>\n",
       "      <th>total_nav</th>\n",
       "    </tr>\n",
       "  </thead>\n",
       "  <tbody>\n",
       "    <tr>\n",
       "      <th>0</th>\n",
       "      <td>0xff8915d0bd9054e7678c4366ae8fd5a0a3cce80943be...</td>\n",
       "      <td>1744988327</td>\n",
       "      <td>22296632</td>\n",
       "      <td>148881.150087</td>\n",
       "      <td>{'id': '0xa0b86991c6218b36c1d19d4a2e9eb0ce3606...</td>\n",
       "      <td>0xbB2d2dd491204a86ec10a1a6972F940B34fE060e</td>\n",
       "      <td>{'id': '0x4f493b7de8aac7d55f71853688b1f7c8f024...</td>\n",
       "      <td>150000.000000</td>\n",
       "      <td>0xa7569A44f348d3D70d8ad5889e50F78E33d80D35</td>\n",
       "      <td>0x4f493B7dE8aAC7d55F71853688b1F7C8F0243C85</td>\n",
       "      <td>0xA0b86991c6218b36c1d19D4a2e9Eb0cE3606eB48</td>\n",
       "      <td>1.006900</td>\n",
       "      <td>1.000000</td>\n",
       "      <td>149908.430023</td>\n",
       "      <td>150000.000000</td>\n",
       "      <td>91.569977</td>\n",
       "      <td>0.061047</td>\n",
       "      <td>22296632</td>\n",
       "      <td>0.000018</td>\n",
       "    </tr>\n",
       "    <tr>\n",
       "      <th>1</th>\n",
       "      <td>0xff3d22a3564c8121f28d7d47feffb8251785ad2c48e4...</td>\n",
       "      <td>1744997471</td>\n",
       "      <td>22297389</td>\n",
       "      <td>148885.474474</td>\n",
       "      <td>{'id': '0xa0b86991c6218b36c1d19d4a2e9eb0ce3606...</td>\n",
       "      <td>0xbB2d2dd491204a86ec10a1a6972F940B34fE060e</td>\n",
       "      <td>{'id': '0x4f493b7de8aac7d55f71853688b1f7c8f024...</td>\n",
       "      <td>150000.000000</td>\n",
       "      <td>0xa7569A44f348d3D70d8ad5889e50F78E33d80D35</td>\n",
       "      <td>0x4f493B7dE8aAC7d55F71853688b1F7C8F0243C85</td>\n",
       "      <td>0xA0b86991c6218b36c1d19D4a2e9Eb0cE3606eB48</td>\n",
       "      <td>1.006902</td>\n",
       "      <td>1.000000</td>\n",
       "      <td>149913.082019</td>\n",
       "      <td>150000.000000</td>\n",
       "      <td>86.917981</td>\n",
       "      <td>0.057945</td>\n",
       "      <td>22297389</td>\n",
       "      <td>0.000022</td>\n",
       "    </tr>\n",
       "    <tr>\n",
       "      <th>2</th>\n",
       "      <td>0xfecf659a8d1c06c45010afc47fcefc6405d906a85e84...</td>\n",
       "      <td>1746235043</td>\n",
       "      <td>22399927</td>\n",
       "      <td>320651.575857</td>\n",
       "      <td>{'id': '0xa0b86991c6218b36c1d19d4a2e9eb0ce3606...</td>\n",
       "      <td>0xC5c95fCad37E466E25e6ecA1977bbF75C0E1004a</td>\n",
       "      <td>{'id': '0xbeef01735c132ada46aa9aa4c54623caa92a...</td>\n",
       "      <td>347222.682150</td>\n",
       "      <td>0xa7569A44f348d3D70d8ad5889e50F78E33d80D35</td>\n",
       "      <td>0xBEEF01735c132Ada46AA9aA4c54623cAA92A64CB</td>\n",
       "      <td>0xA0b86991c6218b36c1d19D4a2e9Eb0cE3606eB48</td>\n",
       "      <td>1.082884</td>\n",
       "      <td>1.000000</td>\n",
       "      <td>347228.461070</td>\n",
       "      <td>347222.682150</td>\n",
       "      <td>-5.778920</td>\n",
       "      <td>-0.001664</td>\n",
       "      <td>22399927</td>\n",
       "      <td>0.000028</td>\n",
       "    </tr>\n",
       "    <tr>\n",
       "      <th>3</th>\n",
       "      <td>0xfca3e4ad4e6296b2444ed28a8012cda8694ef5d23ce9...</td>\n",
       "      <td>1746116255</td>\n",
       "      <td>22390138</td>\n",
       "      <td>148075.994800</td>\n",
       "      <td>{'id': '0xa0b86991c6218b36c1d19d4a2e9eb0ce3606...</td>\n",
       "      <td>0x7876F91BB22148345b3De16af9448081E9853830</td>\n",
       "      <td>{'id': '0x9fb7b4477576fe5b32be4c1843afb1e55f25...</td>\n",
       "      <td>170000.000000</td>\n",
       "      <td>0xa7569A44f348d3D70d8ad5889e50F78E33d80D35</td>\n",
       "      <td>0x9Fb7b4477576Fe5B32be4C1843aFB1e55F251B33</td>\n",
       "      <td>0xA0b86991c6218b36c1d19D4a2e9Eb0cE3606eB48</td>\n",
       "      <td>1.148038</td>\n",
       "      <td>1.000000</td>\n",
       "      <td>169996.868918</td>\n",
       "      <td>170000.000000</td>\n",
       "      <td>3.131082</td>\n",
       "      <td>0.001842</td>\n",
       "      <td>22390138</td>\n",
       "      <td>0.000025</td>\n",
       "    </tr>\n",
       "    <tr>\n",
       "      <th>4</th>\n",
       "      <td>0xfc37985d3c7182369be30f9dbe69409a8b05d008bde2...</td>\n",
       "      <td>1745111003</td>\n",
       "      <td>22306807</td>\n",
       "      <td>437134.294459</td>\n",
       "      <td>{'id': '0xa0b86991c6218b36c1d19d4a2e9eb0ce3606...</td>\n",
       "      <td>0xE4545f9dBC30Ccb6Cda6930DDFd69f3D419FcB61</td>\n",
       "      <td>{'id': '0x5c20b550819128074fd538edf79791733cce...</td>\n",
       "      <td>500000.000000</td>\n",
       "      <td>0xa7569A44f348d3D70d8ad5889e50F78E33d80D35</td>\n",
       "      <td>0x5C20B550819128074FD538Edf79791733ccEdd18</td>\n",
       "      <td>0xA0b86991c6218b36c1d19D4a2e9Eb0cE3606eB48</td>\n",
       "      <td>1.143221</td>\n",
       "      <td>1.000000</td>\n",
       "      <td>499741.105246</td>\n",
       "      <td>500000.000000</td>\n",
       "      <td>258.894754</td>\n",
       "      <td>0.051779</td>\n",
       "      <td>22306807</td>\n",
       "      <td>0.000022</td>\n",
       "    </tr>\n",
       "    <tr>\n",
       "      <th>...</th>\n",
       "      <td>...</td>\n",
       "      <td>...</td>\n",
       "      <td>...</td>\n",
       "      <td>...</td>\n",
       "      <td>...</td>\n",
       "      <td>...</td>\n",
       "      <td>...</td>\n",
       "      <td>...</td>\n",
       "      <td>...</td>\n",
       "      <td>...</td>\n",
       "      <td>...</td>\n",
       "      <td>...</td>\n",
       "      <td>...</td>\n",
       "      <td>...</td>\n",
       "      <td>...</td>\n",
       "      <td>...</td>\n",
       "      <td>...</td>\n",
       "      <td>...</td>\n",
       "      <td>...</td>\n",
       "    </tr>\n",
       "    <tr>\n",
       "      <th>265</th>\n",
       "      <td>0x02a5528289efe28718bed54e9c5b0772f16eba69d609...</td>\n",
       "      <td>1744695875</td>\n",
       "      <td>22272381</td>\n",
       "      <td>76347.504659</td>\n",
       "      <td>{'id': '0xa0b86991c6218b36c1d19d4a2e9eb0ce3606...</td>\n",
       "      <td>0x7583b1589aDD33320366A48A92794D77763FAE9e</td>\n",
       "      <td>{'id': '0x390f3595bca2df7d23783dfd126427cceb99...</td>\n",
       "      <td>77679.210200</td>\n",
       "      <td>0xa7569A44f348d3D70d8ad5889e50F78E33d80D35</td>\n",
       "      <td>0x390f3595bCa2Df7d23783dFd126427CCeb997BF4</td>\n",
       "      <td>0xA0b86991c6218b36c1d19D4a2e9Eb0cE3606eB48</td>\n",
       "      <td>1.017084</td>\n",
       "      <td>1.000000</td>\n",
       "      <td>77651.825428</td>\n",
       "      <td>77679.210200</td>\n",
       "      <td>27.384772</td>\n",
       "      <td>0.035254</td>\n",
       "      <td>22272381</td>\n",
       "      <td>0.000010</td>\n",
       "    </tr>\n",
       "    <tr>\n",
       "      <th>266</th>\n",
       "      <td>0x02065d1b16c7c693afe6358f38647b921a095d6876ec...</td>\n",
       "      <td>1745911055</td>\n",
       "      <td>22373171</td>\n",
       "      <td>26611.724622</td>\n",
       "      <td>{'id': '0xa0b86991c6218b36c1d19d4a2e9eb0ce3606...</td>\n",
       "      <td>0x7583b1589aDD33320366A48A92794D77763FAE9e</td>\n",
       "      <td>{'id': '0x390f3595bca2df7d23783dfd126427cceb99...</td>\n",
       "      <td>27068.157900</td>\n",
       "      <td>0xa7569A44f348d3D70d8ad5889e50F78E33d80D35</td>\n",
       "      <td>0x390f3595bCa2Df7d23783dFd126427CCeb997BF4</td>\n",
       "      <td>0xA0b86991c6218b36c1d19D4a2e9Eb0cE3606eB48</td>\n",
       "      <td>1.017144</td>\n",
       "      <td>1.000000</td>\n",
       "      <td>27067.956028</td>\n",
       "      <td>27068.157900</td>\n",
       "      <td>0.201872</td>\n",
       "      <td>0.000746</td>\n",
       "      <td>22373171</td>\n",
       "      <td>0.000024</td>\n",
       "    </tr>\n",
       "    <tr>\n",
       "      <th>267</th>\n",
       "      <td>0x012e26a2633c10388ffc3ee1a2a95c9569b54ff4f918...</td>\n",
       "      <td>1744556327</td>\n",
       "      <td>22260800</td>\n",
       "      <td>140053.102440</td>\n",
       "      <td>{'id': '0x4f493b7de8aac7d55f71853688b1f7c8f024...</td>\n",
       "      <td>0xC099899d0278CE83976218Cbe58D01dD382dcA32</td>\n",
       "      <td>{'id': '0x57064f49ad7123c92560882a45518374ad98...</td>\n",
       "      <td>149036.479162</td>\n",
       "      <td>0xbB2d2dd491204a86ec10a1a6972F940B34fE060e</td>\n",
       "      <td>0x57064F49Ad7123C92560882a45518374ad982e85</td>\n",
       "      <td>0x4f493B7dE8aAC7d55F71853688b1F7C8F0243C85</td>\n",
       "      <td>1.071202</td>\n",
       "      <td>1.006465</td>\n",
       "      <td>150025.163440</td>\n",
       "      <td>150000.000000</td>\n",
       "      <td>-25.163440</td>\n",
       "      <td>-0.016776</td>\n",
       "      <td>22260800</td>\n",
       "      <td>0.000008</td>\n",
       "    </tr>\n",
       "    <tr>\n",
       "      <th>268</th>\n",
       "      <td>0x00ff23899cd9bb0075ebe5ac23a3faa815088ddd32ab...</td>\n",
       "      <td>1744906595</td>\n",
       "      <td>22289850</td>\n",
       "      <td>148973.430940</td>\n",
       "      <td>{'id': '0xa0b86991c6218b36c1d19d4a2e9eb0ce3606...</td>\n",
       "      <td>0xbB2d2dd491204a86ec10a1a6972F940B34fE060e</td>\n",
       "      <td>{'id': '0x4f493b7de8aac7d55f71853688b1f7c8f024...</td>\n",
       "      <td>150000.000000</td>\n",
       "      <td>0xa7569A44f348d3D70d8ad5889e50F78E33d80D35</td>\n",
       "      <td>0x4f493B7dE8aAC7d55F71853688b1F7C8F0243C85</td>\n",
       "      <td>0xA0b86991c6218b36c1d19D4a2e9Eb0cE3606eB48</td>\n",
       "      <td>1.006858</td>\n",
       "      <td>1.000000</td>\n",
       "      <td>149995.090730</td>\n",
       "      <td>150000.000000</td>\n",
       "      <td>4.909270</td>\n",
       "      <td>0.003273</td>\n",
       "      <td>22289850</td>\n",
       "      <td>0.000013</td>\n",
       "    </tr>\n",
       "    <tr>\n",
       "      <th>269</th>\n",
       "      <td>0x0000f50368b9d54cf50696552d1adeb3d070298ee8a7...</td>\n",
       "      <td>1744678547</td>\n",
       "      <td>22270944</td>\n",
       "      <td>196495.452853</td>\n",
       "      <td>{'id': '0xa0b86991c6218b36c1d19d4a2e9eb0ce3606...</td>\n",
       "      <td>0x7583b1589aDD33320366A48A92794D77763FAE9e</td>\n",
       "      <td>{'id': '0x390f3595bca2df7d23783dfd126427cceb99...</td>\n",
       "      <td>199999.999999</td>\n",
       "      <td>0xa7569A44f348d3D70d8ad5889e50F78E33d80D35</td>\n",
       "      <td>0x390f3595bCa2Df7d23783dFd126427CCeb997BF4</td>\n",
       "      <td>0xA0b86991c6218b36c1d19D4a2e9Eb0cE3606eB48</td>\n",
       "      <td>1.017086</td>\n",
       "      <td>1.000000</td>\n",
       "      <td>199852.774160</td>\n",
       "      <td>199999.999999</td>\n",
       "      <td>147.225839</td>\n",
       "      <td>0.073613</td>\n",
       "      <td>22270944</td>\n",
       "      <td>0.000010</td>\n",
       "    </tr>\n",
       "  </tbody>\n",
       "</table>\n",
       "<p>270 rows × 19 columns</p>\n",
       "</div>"
      ],
      "text/plain": [
       "                                       transactionHash   timestamp  \\\n",
       "0    0xff8915d0bd9054e7678c4366ae8fd5a0a3cce80943be...  1744988327   \n",
       "1    0xff3d22a3564c8121f28d7d47feffb8251785ad2c48e4...  1744997471   \n",
       "2    0xfecf659a8d1c06c45010afc47fcefc6405d906a85e84...  1746235043   \n",
       "3    0xfca3e4ad4e6296b2444ed28a8012cda8694ef5d23ce9...  1746116255   \n",
       "4    0xfc37985d3c7182369be30f9dbe69409a8b05d008bde2...  1745111003   \n",
       "..                                                 ...         ...   \n",
       "265  0x02a5528289efe28718bed54e9c5b0772f16eba69d609...  1744695875   \n",
       "266  0x02065d1b16c7c693afe6358f38647b921a095d6876ec...  1745911055   \n",
       "267  0x012e26a2633c10388ffc3ee1a2a95c9569b54ff4f918...  1744556327   \n",
       "268  0x00ff23899cd9bb0075ebe5ac23a3faa815088ddd32ab...  1744906595   \n",
       "269  0x0000f50368b9d54cf50696552d1adeb3d070298ee8a7...  1744678547   \n",
       "\n",
       "     blockNumber  tokenInAmount  \\\n",
       "0       22296632  148881.150087   \n",
       "1       22297389  148885.474474   \n",
       "2       22399927  320651.575857   \n",
       "3       22390138  148075.994800   \n",
       "4       22306807  437134.294459   \n",
       "..           ...            ...   \n",
       "265     22272381   76347.504659   \n",
       "266     22373171   26611.724622   \n",
       "267     22260800  140053.102440   \n",
       "268     22289850  148973.430940   \n",
       "269     22270944  196495.452853   \n",
       "\n",
       "                                              tokenOut  \\\n",
       "0    {'id': '0xa0b86991c6218b36c1d19d4a2e9eb0ce3606...   \n",
       "1    {'id': '0xa0b86991c6218b36c1d19d4a2e9eb0ce3606...   \n",
       "2    {'id': '0xa0b86991c6218b36c1d19d4a2e9eb0ce3606...   \n",
       "3    {'id': '0xa0b86991c6218b36c1d19d4a2e9eb0ce3606...   \n",
       "4    {'id': '0xa0b86991c6218b36c1d19d4a2e9eb0ce3606...   \n",
       "..                                                 ...   \n",
       "265  {'id': '0xa0b86991c6218b36c1d19d4a2e9eb0ce3606...   \n",
       "266  {'id': '0xa0b86991c6218b36c1d19d4a2e9eb0ce3606...   \n",
       "267  {'id': '0x4f493b7de8aac7d55f71853688b1f7c8f024...   \n",
       "268  {'id': '0xa0b86991c6218b36c1d19d4a2e9eb0ce3606...   \n",
       "269  {'id': '0xa0b86991c6218b36c1d19d4a2e9eb0ce3606...   \n",
       "\n",
       "                           destinationInAddress  \\\n",
       "0    0xbB2d2dd491204a86ec10a1a6972F940B34fE060e   \n",
       "1    0xbB2d2dd491204a86ec10a1a6972F940B34fE060e   \n",
       "2    0xC5c95fCad37E466E25e6ecA1977bbF75C0E1004a   \n",
       "3    0x7876F91BB22148345b3De16af9448081E9853830   \n",
       "4    0xE4545f9dBC30Ccb6Cda6930DDFd69f3D419FcB61   \n",
       "..                                          ...   \n",
       "265  0x7583b1589aDD33320366A48A92794D77763FAE9e   \n",
       "266  0x7583b1589aDD33320366A48A92794D77763FAE9e   \n",
       "267  0xC099899d0278CE83976218Cbe58D01dD382dcA32   \n",
       "268  0xbB2d2dd491204a86ec10a1a6972F940B34fE060e   \n",
       "269  0x7583b1589aDD33320366A48A92794D77763FAE9e   \n",
       "\n",
       "                                               tokenIn  tokenOutAmount  \\\n",
       "0    {'id': '0x4f493b7de8aac7d55f71853688b1f7c8f024...   150000.000000   \n",
       "1    {'id': '0x4f493b7de8aac7d55f71853688b1f7c8f024...   150000.000000   \n",
       "2    {'id': '0xbeef01735c132ada46aa9aa4c54623caa92a...   347222.682150   \n",
       "3    {'id': '0x9fb7b4477576fe5b32be4c1843afb1e55f25...   170000.000000   \n",
       "4    {'id': '0x5c20b550819128074fd538edf79791733cce...   500000.000000   \n",
       "..                                                 ...             ...   \n",
       "265  {'id': '0x390f3595bca2df7d23783dfd126427cceb99...    77679.210200   \n",
       "266  {'id': '0x390f3595bca2df7d23783dfd126427cceb99...    27068.157900   \n",
       "267  {'id': '0x57064f49ad7123c92560882a45518374ad98...   149036.479162   \n",
       "268  {'id': '0x4f493b7de8aac7d55f71853688b1f7c8f024...   150000.000000   \n",
       "269  {'id': '0x390f3595bca2df7d23783dfd126427cceb99...   199999.999999   \n",
       "\n",
       "                          destinationOutAddress  \\\n",
       "0    0xa7569A44f348d3D70d8ad5889e50F78E33d80D35   \n",
       "1    0xa7569A44f348d3D70d8ad5889e50F78E33d80D35   \n",
       "2    0xa7569A44f348d3D70d8ad5889e50F78E33d80D35   \n",
       "3    0xa7569A44f348d3D70d8ad5889e50F78E33d80D35   \n",
       "4    0xa7569A44f348d3D70d8ad5889e50F78E33d80D35   \n",
       "..                                          ...   \n",
       "265  0xa7569A44f348d3D70d8ad5889e50F78E33d80D35   \n",
       "266  0xa7569A44f348d3D70d8ad5889e50F78E33d80D35   \n",
       "267  0xbB2d2dd491204a86ec10a1a6972F940B34fE060e   \n",
       "268  0xa7569A44f348d3D70d8ad5889e50F78E33d80D35   \n",
       "269  0xa7569A44f348d3D70d8ad5889e50F78E33d80D35   \n",
       "\n",
       "                                 tokenInAddress  \\\n",
       "0    0x4f493B7dE8aAC7d55F71853688b1F7C8F0243C85   \n",
       "1    0x4f493B7dE8aAC7d55F71853688b1F7C8F0243C85   \n",
       "2    0xBEEF01735c132Ada46AA9aA4c54623cAA92A64CB   \n",
       "3    0x9Fb7b4477576Fe5B32be4C1843aFB1e55F251B33   \n",
       "4    0x5C20B550819128074FD538Edf79791733ccEdd18   \n",
       "..                                          ...   \n",
       "265  0x390f3595bCa2Df7d23783dFd126427CCeb997BF4   \n",
       "266  0x390f3595bCa2Df7d23783dFd126427CCeb997BF4   \n",
       "267  0x57064F49Ad7123C92560882a45518374ad982e85   \n",
       "268  0x4f493B7dE8aAC7d55F71853688b1F7C8F0243C85   \n",
       "269  0x390f3595bCa2Df7d23783dFd126427CCeb997BF4   \n",
       "\n",
       "                                tokenOutAddress  lp_token_in_spot_price  \\\n",
       "0    0xA0b86991c6218b36c1d19D4a2e9Eb0cE3606eB48                1.006900   \n",
       "1    0xA0b86991c6218b36c1d19D4a2e9Eb0cE3606eB48                1.006902   \n",
       "2    0xA0b86991c6218b36c1d19D4a2e9Eb0cE3606eB48                1.082884   \n",
       "3    0xA0b86991c6218b36c1d19D4a2e9Eb0cE3606eB48                1.148038   \n",
       "4    0xA0b86991c6218b36c1d19D4a2e9Eb0cE3606eB48                1.143221   \n",
       "..                                          ...                     ...   \n",
       "265  0xA0b86991c6218b36c1d19D4a2e9Eb0cE3606eB48                1.017084   \n",
       "266  0xA0b86991c6218b36c1d19D4a2e9Eb0cE3606eB48                1.017144   \n",
       "267  0x4f493B7dE8aAC7d55F71853688b1F7C8F0243C85                1.071202   \n",
       "268  0xA0b86991c6218b36c1d19D4a2e9Eb0cE3606eB48                1.006858   \n",
       "269  0xA0b86991c6218b36c1d19D4a2e9Eb0cE3606eB48                1.017086   \n",
       "\n",
       "     lp_token_out_spot_price  spot_value_in  spot_value_out   swap_cost  \\\n",
       "0                   1.000000  149908.430023   150000.000000   91.569977   \n",
       "1                   1.000000  149913.082019   150000.000000   86.917981   \n",
       "2                   1.000000  347228.461070   347222.682150   -5.778920   \n",
       "3                   1.000000  169996.868918   170000.000000    3.131082   \n",
       "4                   1.000000  499741.105246   500000.000000  258.894754   \n",
       "..                       ...            ...             ...         ...   \n",
       "265                 1.000000   77651.825428    77679.210200   27.384772   \n",
       "266                 1.000000   27067.956028    27068.157900    0.201872   \n",
       "267                 1.006465  150025.163440   150000.000000  -25.163440   \n",
       "268                 1.000000  149995.090730   150000.000000    4.909270   \n",
       "269                 1.000000  199852.774160   199999.999999  147.225839   \n",
       "\n",
       "     slippage     block  total_nav  \n",
       "0    0.061047  22296632   0.000018  \n",
       "1    0.057945  22297389   0.000022  \n",
       "2   -0.001664  22399927   0.000028  \n",
       "3    0.001842  22390138   0.000025  \n",
       "4    0.051779  22306807   0.000022  \n",
       "..        ...       ...        ...  \n",
       "265  0.035254  22272381   0.000010  \n",
       "266  0.000746  22373171   0.000024  \n",
       "267 -0.016776  22260800   0.000008  \n",
       "268  0.003273  22289850   0.000013  \n",
       "269  0.073613  22270944   0.000010  \n",
       "\n",
       "[270 rows x 19 columns]"
      ]
     },
     "execution_count": 17,
     "metadata": {},
     "output_type": "execute_result"
    }
   ],
   "source": [
    "price_df = destination_states_df[[\"block\", \"destination_vault_address\", \"lp_token_spot_price\"]]\n",
    "\n",
    "df1 = rebalance_event_df.merge(\n",
    "    price_df,\n",
    "    left_on=[\"blockNumber\", \"destinationInAddress\"],\n",
    "    right_on=[\"block\", \"destination_vault_address\"],\n",
    "    how=\"left\",\n",
    ")\n",
    "# rename & drop the merge‑helper cols\n",
    "df1.rename(columns={\"lp_token_spot_price\": \"lp_token_in_spot_price\"}, inplace=True)\n",
    "df1.drop(columns=[\"block\", \"destination_vault_address\"], inplace=True)\n",
    "\n",
    "\n",
    "df1 = df1.merge(\n",
    "    price_df,\n",
    "    left_on=[\"blockNumber\", \"destinationOutAddress\"],\n",
    "    right_on=[\"block\", \"destination_vault_address\"],\n",
    "    how=\"left\",\n",
    ")\n",
    "df1.rename(columns={\"lp_token_spot_price\": \"lp_token_out_spot_price\"}, inplace=True)\n",
    "df1.drop(columns=[\"block\", \"destination_vault_address\"], inplace=True)\n",
    "\n",
    "df1[\"spot_value_in\"] = df1[\"tokenInAmount\"] * df1[\"lp_token_in_spot_price\"]\n",
    "df1[\"spot_value_out\"] = df1[\"tokenOutAmount\"] * df1[\"lp_token_out_spot_price\"]\n",
    "\n",
    "\n",
    "df1[\"swap_cost\"] = df1[\"spot_value_out\"] - df1[\"spot_value_in\"]\n",
    "df1[\"slippage\"] = (100 * (df1[\"spot_value_out\"] - df1[\"spot_value_in\"])) / df1[\"spot_value_out\"]\n",
    "\n",
    "block_and_nav = destination_states_df[[\"block\", \"total_nav\"]].drop_duplicates()\n",
    "df1 = pd.merge(df1, block_and_nav, left_on=\"blockNumber\", right_on=[\"block\"])\n",
    "df1"
   ]
  },
  {
   "cell_type": "code",
   "execution_count": 30,
   "metadata": {},
   "outputs": [
    {
     "data": {
      "text/plain": [
       "timestamp\n",
       "2025-04-03 00:00:00+00:00       0.025546\n",
       "2025-04-04 00:00:00+00:00       6.480371\n",
       "2025-04-05 00:00:00+00:00       0.636527\n",
       "2025-04-06 00:00:00+00:00       0.000000\n",
       "2025-04-07 00:00:00+00:00       5.417236\n",
       "2025-04-08 00:00:00+00:00      17.599315\n",
       "2025-04-09 00:00:00+00:00     135.763929\n",
       "2025-04-10 00:00:00+00:00    1583.027775\n",
       "2025-04-11 00:00:00+00:00    1097.118274\n",
       "2025-04-12 00:00:00+00:00     472.475559\n",
       "2025-04-13 00:00:00+00:00     -27.462960\n",
       "2025-04-14 00:00:00+00:00     371.435712\n",
       "2025-04-15 00:00:00+00:00     472.194708\n",
       "2025-04-16 00:00:00+00:00     213.944928\n",
       "2025-04-17 00:00:00+00:00     829.652319\n",
       "2025-04-18 00:00:00+00:00     638.428830\n",
       "2025-04-19 00:00:00+00:00     278.934259\n",
       "2025-04-20 00:00:00+00:00    2363.807435\n",
       "2025-04-21 00:00:00+00:00     418.394710\n",
       "2025-04-22 00:00:00+00:00      40.957225\n",
       "2025-04-23 00:00:00+00:00     143.647117\n",
       "2025-04-24 00:00:00+00:00   -1146.452351\n",
       "2025-04-25 00:00:00+00:00      35.155903\n",
       "2025-04-26 00:00:00+00:00     106.825381\n",
       "2025-04-27 00:00:00+00:00     374.131903\n",
       "2025-04-28 00:00:00+00:00    -285.211174\n",
       "2025-04-29 00:00:00+00:00      20.016412\n",
       "2025-04-30 00:00:00+00:00      84.660701\n",
       "2025-05-01 00:00:00+00:00      80.395465\n",
       "2025-05-02 00:00:00+00:00    -275.341612\n",
       "2025-05-03 00:00:00+00:00     121.558671\n",
       "2025-05-04 00:00:00+00:00     121.356514\n",
       "2025-05-05 00:00:00+00:00     124.715628\n",
       "Freq: D, Name: swap_cost, dtype: float64"
      ]
     },
     "execution_count": 30,
     "metadata": {},
     "output_type": "execute_result"
    }
   ],
   "source": [
    "avg_nav = df1.resample(\"1d\")[\"total_nav\"].mean()\n",
    "total_swap_cost = df1.resample(\"1d\")[\"swap_cost\"].sum()\n",
    "total_swap_cost"
   ]
  },
  {
   "cell_type": "code",
   "execution_count": 33,
   "metadata": {},
   "outputs": [
    {
     "data": {
      "application/vnd.plotly.v1+json": {
       "config": {
        "plotlyServerURL": "https://plot.ly"
       },
       "data": [
        {
         "alignmentgroup": "True",
         "hovertemplate": "variable=0<br>timestamp=%{x}<br>value=%{y}<extra></extra>",
         "legendgroup": "0",
         "marker": {
          "color": "#636efa",
          "pattern": {
           "shape": ""
          }
         },
         "name": "0",
         "offsetgroup": "0",
         "orientation": "v",
         "showlegend": true,
         "textposition": "auto",
         "type": "bar",
         "x": [
          "2025-04-03T00:00:00+00:00",
          "2025-04-04T00:00:00+00:00",
          "2025-04-05T00:00:00+00:00",
          "2025-04-06T00:00:00+00:00",
          "2025-04-07T00:00:00+00:00",
          "2025-04-08T00:00:00+00:00",
          "2025-04-09T00:00:00+00:00",
          "2025-04-10T00:00:00+00:00",
          "2025-04-11T00:00:00+00:00",
          "2025-04-12T00:00:00+00:00",
          "2025-04-13T00:00:00+00:00",
          "2025-04-14T00:00:00+00:00",
          "2025-04-15T00:00:00+00:00",
          "2025-04-16T00:00:00+00:00",
          "2025-04-17T00:00:00+00:00",
          "2025-04-18T00:00:00+00:00",
          "2025-04-19T00:00:00+00:00",
          "2025-04-20T00:00:00+00:00",
          "2025-04-21T00:00:00+00:00",
          "2025-04-22T00:00:00+00:00",
          "2025-04-23T00:00:00+00:00",
          "2025-04-24T00:00:00+00:00",
          "2025-04-25T00:00:00+00:00",
          "2025-04-26T00:00:00+00:00",
          "2025-04-27T00:00:00+00:00",
          "2025-04-28T00:00:00+00:00",
          "2025-04-29T00:00:00+00:00",
          "2025-04-30T00:00:00+00:00",
          "2025-05-01T00:00:00+00:00",
          "2025-05-02T00:00:00+00:00",
          "2025-05-03T00:00:00+00:00",
          "2025-05-04T00:00:00+00:00",
          "2025-05-05T00:00:00+00:00"
         ],
         "xaxis": "x",
         "y": [
          2.5042217882414305e-05,
          0.006352568383512708,
          0.0006239698354573794,
          null,
          0.005311376578541379,
          0.017254081495716996,
          0.014669849615233758,
          0.02975744569690574,
          0.01466194849031179,
          0.005957136495788827,
          -0.00034223910627854563,
          0.004045227888896211,
          0.004610095796837885,
          0.0019314304831723886,
          0.006262883121396812,
          0.004057908536164956,
          0.0012779985705040496,
          0.010764725904265212,
          0.0018906051495151707,
          0.0001846138076942662,
          0.0006723341713615015,
          -0.004767874497851742,
          0.00014960279640224836,
          0.00045230218835352166,
          0.001577639383484502,
          -0.0011833834664515196,
          8.198756091910313e-05,
          0.0003431906212887565,
          0.0003296386100020273,
          -0.001050223847578844,
          0.0004341190405918667,
          0.0004306278847669709,
          0.0004402110177849792
         ],
         "yaxis": "y"
        }
       ],
       "layout": {
        "barmode": "relative",
        "legend": {
         "title": {
          "text": "variable"
         },
         "tracegroupgap": 0
        },
        "margin": {
         "t": 60
        },
        "template": {
         "data": {
          "bar": [
           {
            "error_x": {
             "color": "#2a3f5f"
            },
            "error_y": {
             "color": "#2a3f5f"
            },
            "marker": {
             "line": {
              "color": "#E5ECF6",
              "width": 0.5
             },
             "pattern": {
              "fillmode": "overlay",
              "size": 10,
              "solidity": 0.2
             }
            },
            "type": "bar"
           }
          ],
          "barpolar": [
           {
            "marker": {
             "line": {
              "color": "#E5ECF6",
              "width": 0.5
             },
             "pattern": {
              "fillmode": "overlay",
              "size": 10,
              "solidity": 0.2
             }
            },
            "type": "barpolar"
           }
          ],
          "carpet": [
           {
            "aaxis": {
             "endlinecolor": "#2a3f5f",
             "gridcolor": "white",
             "linecolor": "white",
             "minorgridcolor": "white",
             "startlinecolor": "#2a3f5f"
            },
            "baxis": {
             "endlinecolor": "#2a3f5f",
             "gridcolor": "white",
             "linecolor": "white",
             "minorgridcolor": "white",
             "startlinecolor": "#2a3f5f"
            },
            "type": "carpet"
           }
          ],
          "choropleth": [
           {
            "colorbar": {
             "outlinewidth": 0,
             "ticks": ""
            },
            "type": "choropleth"
           }
          ],
          "contour": [
           {
            "colorbar": {
             "outlinewidth": 0,
             "ticks": ""
            },
            "colorscale": [
             [
              0,
              "#0d0887"
             ],
             [
              0.1111111111111111,
              "#46039f"
             ],
             [
              0.2222222222222222,
              "#7201a8"
             ],
             [
              0.3333333333333333,
              "#9c179e"
             ],
             [
              0.4444444444444444,
              "#bd3786"
             ],
             [
              0.5555555555555556,
              "#d8576b"
             ],
             [
              0.6666666666666666,
              "#ed7953"
             ],
             [
              0.7777777777777778,
              "#fb9f3a"
             ],
             [
              0.8888888888888888,
              "#fdca26"
             ],
             [
              1,
              "#f0f921"
             ]
            ],
            "type": "contour"
           }
          ],
          "contourcarpet": [
           {
            "colorbar": {
             "outlinewidth": 0,
             "ticks": ""
            },
            "type": "contourcarpet"
           }
          ],
          "heatmap": [
           {
            "colorbar": {
             "outlinewidth": 0,
             "ticks": ""
            },
            "colorscale": [
             [
              0,
              "#0d0887"
             ],
             [
              0.1111111111111111,
              "#46039f"
             ],
             [
              0.2222222222222222,
              "#7201a8"
             ],
             [
              0.3333333333333333,
              "#9c179e"
             ],
             [
              0.4444444444444444,
              "#bd3786"
             ],
             [
              0.5555555555555556,
              "#d8576b"
             ],
             [
              0.6666666666666666,
              "#ed7953"
             ],
             [
              0.7777777777777778,
              "#fb9f3a"
             ],
             [
              0.8888888888888888,
              "#fdca26"
             ],
             [
              1,
              "#f0f921"
             ]
            ],
            "type": "heatmap"
           }
          ],
          "heatmapgl": [
           {
            "colorbar": {
             "outlinewidth": 0,
             "ticks": ""
            },
            "colorscale": [
             [
              0,
              "#0d0887"
             ],
             [
              0.1111111111111111,
              "#46039f"
             ],
             [
              0.2222222222222222,
              "#7201a8"
             ],
             [
              0.3333333333333333,
              "#9c179e"
             ],
             [
              0.4444444444444444,
              "#bd3786"
             ],
             [
              0.5555555555555556,
              "#d8576b"
             ],
             [
              0.6666666666666666,
              "#ed7953"
             ],
             [
              0.7777777777777778,
              "#fb9f3a"
             ],
             [
              0.8888888888888888,
              "#fdca26"
             ],
             [
              1,
              "#f0f921"
             ]
            ],
            "type": "heatmapgl"
           }
          ],
          "histogram": [
           {
            "marker": {
             "pattern": {
              "fillmode": "overlay",
              "size": 10,
              "solidity": 0.2
             }
            },
            "type": "histogram"
           }
          ],
          "histogram2d": [
           {
            "colorbar": {
             "outlinewidth": 0,
             "ticks": ""
            },
            "colorscale": [
             [
              0,
              "#0d0887"
             ],
             [
              0.1111111111111111,
              "#46039f"
             ],
             [
              0.2222222222222222,
              "#7201a8"
             ],
             [
              0.3333333333333333,
              "#9c179e"
             ],
             [
              0.4444444444444444,
              "#bd3786"
             ],
             [
              0.5555555555555556,
              "#d8576b"
             ],
             [
              0.6666666666666666,
              "#ed7953"
             ],
             [
              0.7777777777777778,
              "#fb9f3a"
             ],
             [
              0.8888888888888888,
              "#fdca26"
             ],
             [
              1,
              "#f0f921"
             ]
            ],
            "type": "histogram2d"
           }
          ],
          "histogram2dcontour": [
           {
            "colorbar": {
             "outlinewidth": 0,
             "ticks": ""
            },
            "colorscale": [
             [
              0,
              "#0d0887"
             ],
             [
              0.1111111111111111,
              "#46039f"
             ],
             [
              0.2222222222222222,
              "#7201a8"
             ],
             [
              0.3333333333333333,
              "#9c179e"
             ],
             [
              0.4444444444444444,
              "#bd3786"
             ],
             [
              0.5555555555555556,
              "#d8576b"
             ],
             [
              0.6666666666666666,
              "#ed7953"
             ],
             [
              0.7777777777777778,
              "#fb9f3a"
             ],
             [
              0.8888888888888888,
              "#fdca26"
             ],
             [
              1,
              "#f0f921"
             ]
            ],
            "type": "histogram2dcontour"
           }
          ],
          "mesh3d": [
           {
            "colorbar": {
             "outlinewidth": 0,
             "ticks": ""
            },
            "type": "mesh3d"
           }
          ],
          "parcoords": [
           {
            "line": {
             "colorbar": {
              "outlinewidth": 0,
              "ticks": ""
             }
            },
            "type": "parcoords"
           }
          ],
          "pie": [
           {
            "automargin": true,
            "type": "pie"
           }
          ],
          "scatter": [
           {
            "fillpattern": {
             "fillmode": "overlay",
             "size": 10,
             "solidity": 0.2
            },
            "type": "scatter"
           }
          ],
          "scatter3d": [
           {
            "line": {
             "colorbar": {
              "outlinewidth": 0,
              "ticks": ""
             }
            },
            "marker": {
             "colorbar": {
              "outlinewidth": 0,
              "ticks": ""
             }
            },
            "type": "scatter3d"
           }
          ],
          "scattercarpet": [
           {
            "marker": {
             "colorbar": {
              "outlinewidth": 0,
              "ticks": ""
             }
            },
            "type": "scattercarpet"
           }
          ],
          "scattergeo": [
           {
            "marker": {
             "colorbar": {
              "outlinewidth": 0,
              "ticks": ""
             }
            },
            "type": "scattergeo"
           }
          ],
          "scattergl": [
           {
            "marker": {
             "colorbar": {
              "outlinewidth": 0,
              "ticks": ""
             }
            },
            "type": "scattergl"
           }
          ],
          "scattermapbox": [
           {
            "marker": {
             "colorbar": {
              "outlinewidth": 0,
              "ticks": ""
             }
            },
            "type": "scattermapbox"
           }
          ],
          "scatterpolar": [
           {
            "marker": {
             "colorbar": {
              "outlinewidth": 0,
              "ticks": ""
             }
            },
            "type": "scatterpolar"
           }
          ],
          "scatterpolargl": [
           {
            "marker": {
             "colorbar": {
              "outlinewidth": 0,
              "ticks": ""
             }
            },
            "type": "scatterpolargl"
           }
          ],
          "scatterternary": [
           {
            "marker": {
             "colorbar": {
              "outlinewidth": 0,
              "ticks": ""
             }
            },
            "type": "scatterternary"
           }
          ],
          "surface": [
           {
            "colorbar": {
             "outlinewidth": 0,
             "ticks": ""
            },
            "colorscale": [
             [
              0,
              "#0d0887"
             ],
             [
              0.1111111111111111,
              "#46039f"
             ],
             [
              0.2222222222222222,
              "#7201a8"
             ],
             [
              0.3333333333333333,
              "#9c179e"
             ],
             [
              0.4444444444444444,
              "#bd3786"
             ],
             [
              0.5555555555555556,
              "#d8576b"
             ],
             [
              0.6666666666666666,
              "#ed7953"
             ],
             [
              0.7777777777777778,
              "#fb9f3a"
             ],
             [
              0.8888888888888888,
              "#fdca26"
             ],
             [
              1,
              "#f0f921"
             ]
            ],
            "type": "surface"
           }
          ],
          "table": [
           {
            "cells": {
             "fill": {
              "color": "#EBF0F8"
             },
             "line": {
              "color": "white"
             }
            },
            "header": {
             "fill": {
              "color": "#C8D4E3"
             },
             "line": {
              "color": "white"
             }
            },
            "type": "table"
           }
          ]
         },
         "layout": {
          "annotationdefaults": {
           "arrowcolor": "#2a3f5f",
           "arrowhead": 0,
           "arrowwidth": 1
          },
          "autotypenumbers": "strict",
          "coloraxis": {
           "colorbar": {
            "outlinewidth": 0,
            "ticks": ""
           }
          },
          "colorscale": {
           "diverging": [
            [
             0,
             "#8e0152"
            ],
            [
             0.1,
             "#c51b7d"
            ],
            [
             0.2,
             "#de77ae"
            ],
            [
             0.3,
             "#f1b6da"
            ],
            [
             0.4,
             "#fde0ef"
            ],
            [
             0.5,
             "#f7f7f7"
            ],
            [
             0.6,
             "#e6f5d0"
            ],
            [
             0.7,
             "#b8e186"
            ],
            [
             0.8,
             "#7fbc41"
            ],
            [
             0.9,
             "#4d9221"
            ],
            [
             1,
             "#276419"
            ]
           ],
           "sequential": [
            [
             0,
             "#0d0887"
            ],
            [
             0.1111111111111111,
             "#46039f"
            ],
            [
             0.2222222222222222,
             "#7201a8"
            ],
            [
             0.3333333333333333,
             "#9c179e"
            ],
            [
             0.4444444444444444,
             "#bd3786"
            ],
            [
             0.5555555555555556,
             "#d8576b"
            ],
            [
             0.6666666666666666,
             "#ed7953"
            ],
            [
             0.7777777777777778,
             "#fb9f3a"
            ],
            [
             0.8888888888888888,
             "#fdca26"
            ],
            [
             1,
             "#f0f921"
            ]
           ],
           "sequentialminus": [
            [
             0,
             "#0d0887"
            ],
            [
             0.1111111111111111,
             "#46039f"
            ],
            [
             0.2222222222222222,
             "#7201a8"
            ],
            [
             0.3333333333333333,
             "#9c179e"
            ],
            [
             0.4444444444444444,
             "#bd3786"
            ],
            [
             0.5555555555555556,
             "#d8576b"
            ],
            [
             0.6666666666666666,
             "#ed7953"
            ],
            [
             0.7777777777777778,
             "#fb9f3a"
            ],
            [
             0.8888888888888888,
             "#fdca26"
            ],
            [
             1,
             "#f0f921"
            ]
           ]
          },
          "colorway": [
           "#636efa",
           "#EF553B",
           "#00cc96",
           "#ab63fa",
           "#FFA15A",
           "#19d3f3",
           "#FF6692",
           "#B6E880",
           "#FF97FF",
           "#FECB52"
          ],
          "font": {
           "color": "#2a3f5f"
          },
          "geo": {
           "bgcolor": "white",
           "lakecolor": "white",
           "landcolor": "#E5ECF6",
           "showlakes": true,
           "showland": true,
           "subunitcolor": "white"
          },
          "hoverlabel": {
           "align": "left"
          },
          "hovermode": "closest",
          "mapbox": {
           "style": "light"
          },
          "paper_bgcolor": "white",
          "plot_bgcolor": "#E5ECF6",
          "polar": {
           "angularaxis": {
            "gridcolor": "white",
            "linecolor": "white",
            "ticks": ""
           },
           "bgcolor": "#E5ECF6",
           "radialaxis": {
            "gridcolor": "white",
            "linecolor": "white",
            "ticks": ""
           }
          },
          "scene": {
           "xaxis": {
            "backgroundcolor": "#E5ECF6",
            "gridcolor": "white",
            "gridwidth": 2,
            "linecolor": "white",
            "showbackground": true,
            "ticks": "",
            "zerolinecolor": "white"
           },
           "yaxis": {
            "backgroundcolor": "#E5ECF6",
            "gridcolor": "white",
            "gridwidth": 2,
            "linecolor": "white",
            "showbackground": true,
            "ticks": "",
            "zerolinecolor": "white"
           },
           "zaxis": {
            "backgroundcolor": "#E5ECF6",
            "gridcolor": "white",
            "gridwidth": 2,
            "linecolor": "white",
            "showbackground": true,
            "ticks": "",
            "zerolinecolor": "white"
           }
          },
          "shapedefaults": {
           "line": {
            "color": "#2a3f5f"
           }
          },
          "ternary": {
           "aaxis": {
            "gridcolor": "white",
            "linecolor": "white",
            "ticks": ""
           },
           "baxis": {
            "gridcolor": "white",
            "linecolor": "white",
            "ticks": ""
           },
           "bgcolor": "#E5ECF6",
           "caxis": {
            "gridcolor": "white",
            "linecolor": "white",
            "ticks": ""
           }
          },
          "title": {
           "x": 0.05
          },
          "xaxis": {
           "automargin": true,
           "gridcolor": "white",
           "linecolor": "white",
           "ticks": "",
           "title": {
            "standoff": 15
           },
           "zerolinecolor": "white",
           "zerolinewidth": 2
          },
          "yaxis": {
           "automargin": true,
           "gridcolor": "white",
           "linecolor": "white",
           "ticks": "",
           "title": {
            "standoff": 15
           },
           "zerolinecolor": "white",
           "zerolinewidth": 2
          }
         }
        },
        "xaxis": {
         "anchor": "y",
         "domain": [
          0,
          1
         ],
         "title": {
          "text": "timestamp"
         }
        },
        "yaxis": {
         "anchor": "x",
         "domain": [
          0,
          1
         ],
         "title": {
          "text": "value"
         }
        }
       }
      }
     },
     "metadata": {},
     "output_type": "display_data"
    }
   ],
   "source": [
    "avg_nav = df1.resample(\"1d\")[\"total_nav\"].mean() * 1e12\n",
    "total_swap_cost = df1.resample(\"1d\")[\"swap_cost\"].sum()\n",
    "import plotly.express as px\n",
    "\n",
    "percent_of_swap_cost_per_day = 100 * (total_swap_cost) / avg_nav\n",
    "px.bar(percent_of_swap_cost_per_day)"
   ]
  },
  {
   "cell_type": "code",
   "execution_count": 23,
   "metadata": {},
   "outputs": [
    {
     "data": {
      "application/vnd.microsoft.datawrangler.viewer.v0+json": {
       "columns": [
        {
         "name": "index",
         "rawType": "object",
         "type": "string"
        },
        {
         "name": "2025-04-15 00:55:47+00:00",
         "rawType": "object",
         "type": "unknown"
        }
       ],
       "conversionMethod": "pd.DataFrame",
       "ref": "12494497-7734-45d9-8657-891798adf3ce",
       "rows": [
        [
         "transactionHash",
         "0x0000f50368b9d54cf50696552d1adeb3d070298ee8a7efa6ae4a4674020399c0"
        ],
        [
         "timestamp",
         "1744678547"
        ],
        [
         "blockNumber",
         "22270944"
        ],
        [
         "tokenInAmount",
         "196495.45285273195"
        ],
        [
         "tokenOut",
         "{'id': '0xa0b86991c6218b36c1d19d4a2e9eb0ce3606eb48', 'decimals': '6'}"
        ],
        [
         "destinationInAddress",
         "0x7583b1589aDD33320366A48A92794D77763FAE9e"
        ],
        [
         "tokenIn",
         "{'id': '0x390f3595bca2df7d23783dfd126427cceb997bf4', 'decimals': '18'}"
        ],
        [
         "tokenOutAmount",
         "199999.999999"
        ],
        [
         "destinationOutAddress",
         "0xa7569A44f348d3D70d8ad5889e50F78E33d80D35"
        ],
        [
         "tokenInAddress",
         "0x390f3595bCa2Df7d23783dFd126427CCeb997BF4"
        ],
        [
         "tokenOutAddress",
         "0xA0b86991c6218b36c1d19D4a2e9Eb0cE3606eB48"
        ],
        [
         "lp_token_in_spot_price",
         "1.017086"
        ],
        [
         "lp_token_out_spot_price",
         "1.0"
        ],
        [
         "spot_value_in",
         "199852.77416017372"
        ],
        [
         "spot_value_out",
         "199999.999999"
        ],
        [
         "swap_cost",
         "147.22583882627077"
        ],
        [
         "slippage",
         "0.07361291941350345"
        ],
        [
         "block",
         "22270944"
        ],
        [
         "total_nav",
         "1.0034658380998e-05"
        ]
       ],
       "shape": {
        "columns": 1,
        "rows": 19
       }
      },
      "text/html": [
       "<div>\n",
       "<style scoped>\n",
       "    .dataframe tbody tr th:only-of-type {\n",
       "        vertical-align: middle;\n",
       "    }\n",
       "\n",
       "    .dataframe tbody tr th {\n",
       "        vertical-align: top;\n",
       "    }\n",
       "\n",
       "    .dataframe thead th {\n",
       "        text-align: right;\n",
       "    }\n",
       "</style>\n",
       "<table border=\"1\" class=\"dataframe\">\n",
       "  <thead>\n",
       "    <tr style=\"text-align: right;\">\n",
       "      <th>timestamp</th>\n",
       "      <th>2025-04-15 00:55:47+00:00</th>\n",
       "    </tr>\n",
       "  </thead>\n",
       "  <tbody>\n",
       "    <tr>\n",
       "      <th>transactionHash</th>\n",
       "      <td>0x0000f50368b9d54cf50696552d1adeb3d070298ee8a7...</td>\n",
       "    </tr>\n",
       "    <tr>\n",
       "      <th>timestamp</th>\n",
       "      <td>1744678547</td>\n",
       "    </tr>\n",
       "    <tr>\n",
       "      <th>blockNumber</th>\n",
       "      <td>22270944</td>\n",
       "    </tr>\n",
       "    <tr>\n",
       "      <th>tokenInAmount</th>\n",
       "      <td>196495.452853</td>\n",
       "    </tr>\n",
       "    <tr>\n",
       "      <th>tokenOut</th>\n",
       "      <td>{'id': '0xa0b86991c6218b36c1d19d4a2e9eb0ce3606...</td>\n",
       "    </tr>\n",
       "    <tr>\n",
       "      <th>destinationInAddress</th>\n",
       "      <td>0x7583b1589aDD33320366A48A92794D77763FAE9e</td>\n",
       "    </tr>\n",
       "    <tr>\n",
       "      <th>tokenIn</th>\n",
       "      <td>{'id': '0x390f3595bca2df7d23783dfd126427cceb99...</td>\n",
       "    </tr>\n",
       "    <tr>\n",
       "      <th>tokenOutAmount</th>\n",
       "      <td>199999.999999</td>\n",
       "    </tr>\n",
       "    <tr>\n",
       "      <th>destinationOutAddress</th>\n",
       "      <td>0xa7569A44f348d3D70d8ad5889e50F78E33d80D35</td>\n",
       "    </tr>\n",
       "    <tr>\n",
       "      <th>tokenInAddress</th>\n",
       "      <td>0x390f3595bCa2Df7d23783dFd126427CCeb997BF4</td>\n",
       "    </tr>\n",
       "    <tr>\n",
       "      <th>tokenOutAddress</th>\n",
       "      <td>0xA0b86991c6218b36c1d19D4a2e9Eb0cE3606eB48</td>\n",
       "    </tr>\n",
       "    <tr>\n",
       "      <th>lp_token_in_spot_price</th>\n",
       "      <td>1.017086</td>\n",
       "    </tr>\n",
       "    <tr>\n",
       "      <th>lp_token_out_spot_price</th>\n",
       "      <td>1.0</td>\n",
       "    </tr>\n",
       "    <tr>\n",
       "      <th>spot_value_in</th>\n",
       "      <td>199852.77416</td>\n",
       "    </tr>\n",
       "    <tr>\n",
       "      <th>spot_value_out</th>\n",
       "      <td>199999.999999</td>\n",
       "    </tr>\n",
       "    <tr>\n",
       "      <th>swap_cost</th>\n",
       "      <td>147.225839</td>\n",
       "    </tr>\n",
       "    <tr>\n",
       "      <th>slippage</th>\n",
       "      <td>0.073613</td>\n",
       "    </tr>\n",
       "    <tr>\n",
       "      <th>block</th>\n",
       "      <td>22270944</td>\n",
       "    </tr>\n",
       "    <tr>\n",
       "      <th>total_nav</th>\n",
       "      <td>0.00001</td>\n",
       "    </tr>\n",
       "  </tbody>\n",
       "</table>\n",
       "</div>"
      ],
      "text/plain": [
       "timestamp                                        2025-04-15 00:55:47+00:00\n",
       "transactionHash          0x0000f50368b9d54cf50696552d1adeb3d070298ee8a7...\n",
       "timestamp                                                       1744678547\n",
       "blockNumber                                                       22270944\n",
       "tokenInAmount                                                196495.452853\n",
       "tokenOut                 {'id': '0xa0b86991c6218b36c1d19d4a2e9eb0ce3606...\n",
       "destinationInAddress            0x7583b1589aDD33320366A48A92794D77763FAE9e\n",
       "tokenIn                  {'id': '0x390f3595bca2df7d23783dfd126427cceb99...\n",
       "tokenOutAmount                                               199999.999999\n",
       "destinationOutAddress           0xa7569A44f348d3D70d8ad5889e50F78E33d80D35\n",
       "tokenInAddress                  0x390f3595bCa2Df7d23783dFd126427CCeb997BF4\n",
       "tokenOutAddress                 0xA0b86991c6218b36c1d19D4a2e9Eb0cE3606eB48\n",
       "lp_token_in_spot_price                                            1.017086\n",
       "lp_token_out_spot_price                                                1.0\n",
       "spot_value_in                                                 199852.77416\n",
       "spot_value_out                                               199999.999999\n",
       "swap_cost                                                       147.225839\n",
       "slippage                                                          0.073613\n",
       "block                                                             22270944\n",
       "total_nav                                                          0.00001"
      ]
     },
     "execution_count": 23,
     "metadata": {},
     "output_type": "execute_result"
    }
   ],
   "source": [
    "df1.tail(1).T"
   ]
  },
  {
   "cell_type": "code",
   "execution_count": 22,
   "metadata": {},
   "outputs": [],
   "source": [
    "df1.index = pd.to_datetime(df1[\"timestamp\"].astype(int), unit=\"s\", utc=True)\n",
    "\n",
    "df1.sort_index().to_csv(\"autoUSD_slippage_with_nav.csv\")"
   ]
  },
  {
   "cell_type": "code",
   "execution_count": null,
   "metadata": {},
   "outputs": [
    {
     "data": {
      "application/vnd.microsoft.datawrangler.viewer.v0+json": {
       "columns": [
        {
         "name": "index",
         "rawType": "int64",
         "type": "integer"
        },
        {
         "name": "transactionHash",
         "rawType": "object",
         "type": "string"
        },
        {
         "name": "timestamp",
         "rawType": "object",
         "type": "string"
        },
        {
         "name": "blockNumber",
         "rawType": "int64",
         "type": "integer"
        },
        {
         "name": "tokenInAmount",
         "rawType": "float64",
         "type": "float"
        },
        {
         "name": "tokenOut",
         "rawType": "object",
         "type": "unknown"
        },
        {
         "name": "destinationInAddress",
         "rawType": "object",
         "type": "string"
        },
        {
         "name": "tokenIn",
         "rawType": "object",
         "type": "unknown"
        },
        {
         "name": "tokenOutAmount",
         "rawType": "float64",
         "type": "float"
        },
        {
         "name": "destinationOutAddress",
         "rawType": "object",
         "type": "string"
        },
        {
         "name": "tokenInAddress",
         "rawType": "object",
         "type": "string"
        },
        {
         "name": "tokenOutAddress",
         "rawType": "object",
         "type": "string"
        },
        {
         "name": "lp_token_in_spot_price",
         "rawType": "float64",
         "type": "float"
        },
        {
         "name": "lp_token_out_spot_price",
         "rawType": "float64",
         "type": "float"
        },
        {
         "name": "spot_value_in",
         "rawType": "float64",
         "type": "float"
        },
        {
         "name": "spot_value_out",
         "rawType": "float64",
         "type": "float"
        },
        {
         "name": "slippage",
         "rawType": "float64",
         "type": "float"
        }
       ],
       "conversionMethod": "pd.DataFrame",
       "ref": "4b52a7dd-fd6d-4465-a736-43e35942f69d",
       "rows": [
        [
         "240",
         "0x1b154344809534e52c7b7293056c2ec63e61ebffcd2d1b5014556771090bd95a",
         "1746330335",
         "22407809",
         "5474.504202783372",
         "{'id': '0xbeef01735c132ada46aa9aa4c54623caa92a64cb', 'decimals': '18'}",
         "0x65efCF2cce562DCBf07e805eEbeDeF21Dbd8Ea3D",
         "{'id': '0x4dece678ceceb27446b35c672dc7d61f30bad69e', 'decimals': '18'}",
         "5021.109138087278",
         "0xC5c95fCad37E466E25e6ecA1977bbF75C0E1004a",
         "0x4DEcE678ceceb27446b35C672dC7d61F30bAD69E",
         "0xBEEF01735c132Ada46AA9aA4c54623cAA92A64CB",
         "1.018368",
         "1.083027",
         "5575.059895980097",
         "5437.99676649525",
         "-2.520470963302602"
        ],
        [
         "151",
         "0x6ab3f09e6a2ec4ef83c2dbd851f3c92a10f8fd85a611ea66ac962da41ca93d2a",
         "1745457407",
         "22335534",
         "148393.79036556624",
         "{'id': '0xa0b86991c6218b36c1d19d4a2e9eb0ce3606eb48', 'decimals': '6'}",
         "0x65efCF2cce562DCBf07e805eEbeDeF21Dbd8Ea3D",
         "{'id': '0x4dece678ceceb27446b35c672dc7d61f30bad69e', 'decimals': '18'}",
         "150000.0",
         "0xa7569A44f348d3D70d8ad5889e50F78E33d80D35",
         "0x4DEcE678ceceb27446b35C672dC7d61F30bAD69E",
         "0xA0b86991c6218b36c1d19D4a2e9Eb0cE3606eB48",
         "1.018319",
         "1.0",
         "151112.21621127304",
         "150000.0",
         "-0.7414774741820293"
        ],
        [
         "24",
         "0xeb1d3f3839174cf5b72ed6cd395bba5d40fd6e7591693b1ac93d9ddf8c89b82f",
         "1745813843",
         "22365119",
         "147615.74798992887",
         "{'id': '0x9fb7b4477576fe5b32be4c1843afb1e55f251b33', 'decimals': '6'}",
         "0x65efCF2cce562DCBf07e805eEbeDeF21Dbd8Ea3D",
         "{'id': '0x4dece678ceceb27446b35c672dc7d61f30bad69e', 'decimals': '18'}",
         "130683.763587",
         "0x7876F91BB22148345b3De16af9448081E9853830",
         "0x4DEcE678ceceb27446b35C672dC7d61F30bAD69E",
         "0x9Fb7b4477576Fe5B32be4C1843aFB1e55F251B33",
         "1.018345",
         "1.147809",
         "150323.75888680413",
         "149999.9999990309",
         "-0.2158392585168839"
        ],
        [
         "65",
         "0xb4ae4eee0be0b8522433086172131818c1d42868fb9548aa5de04d77a263821f",
         "1746181031",
         "22395473",
         "72565.9176764001",
         "{'id': '0xa0b86991c6218b36c1d19d4a2e9eb0ce3606eb48', 'decimals': '6'}",
         "0x7583b1589aDD33320366A48A92794D77763FAE9e",
         "{'id': '0x390f3595bca2df7d23783dfd126427cceb997bf4', 'decimals': '18'}",
         "73720.2673",
         "0xa7569A44f348d3D70d8ad5889e50F78E33d80D35",
         "0x390f3595bCa2Df7d23783dFd126427CCeb997BF4",
         "0xA0b86991c6218b36c1d19D4a2e9Eb0cE3606eB48",
         "1.017142",
         "1.0",
         "73809.84263720895",
         "73720.2673",
         "-0.12150707056502823"
        ],
        [
         "47",
         "0xd0563c451348fa77eea46fa4b17aa32064713f6a054735ef5a2538a7c0c338f0",
         "1745897483",
         "22372047",
         "39892.996621207945",
         "{'id': '0xa0b86991c6218b36c1d19d4a2e9eb0ce3606eb48', 'decimals': '6'}",
         "0x0f170e37E5E0C617148517B831A49292c38c363d",
         "{'id': '0xdd0f28e19c1780eb6396170735d45153d261490d', 'decimals': '18'}",
         "42760.785575",
         "0xa7569A44f348d3D70d8ad5889e50F78E33d80D35",
         "0xdd0f28e19C1780eb6396170735D45153D261490d",
         "0xA0b86991c6218b36c1d19D4a2e9Eb0cE3606eB48",
         "1.072742",
         "1.0",
         "42794.89298142786",
         "42760.785575",
         "-0.07976328303893239"
        ],
        [
         "86",
         "0x9c5fcfd708013067fb5b06427f542bd0e0638254c7f68999aca5aa12ae6aa8d4",
         "1746364643",
         "22410638",
         "74072.983019",
         "{'id': '0xdd0f28e19c1780eb6396170735d45153d261490d', 'decimals': '18'}",
         "0x7876F91BB22148345b3De16af9448081E9853830",
         "{'id': '0x9fb7b4477576fe5b32be4c1843afb1e55f251b33', 'decimals': '6'}",
         "79197.44108409184",
         "0x0f170e37E5E0C617148517B831A49292c38c363d",
         "0x9Fb7b4477576Fe5B32be4C1843aFB1e55F251B33",
         "0xdd0f28e19C1780eb6396170735D45153D261490d",
         "1.148293",
         "1.073268",
         "85057.48788983657",
         "85000.0791974411",
         "-0.06753957518336397"
        ],
        [
         "75",
         "0xa90d83d019a58b1e63b2862b61c382e34fee6a07c35b6c9cfeb23117e633b000",
         "1746418043",
         "22415049",
         "147555.1702989594",
         "{'id': '0x5c20b550819128074fd538edf79791733ccedd18', 'decimals': '6'}",
         "0x7583b1589aDD33320366A48A92794D77763FAE9e",
         "{'id': '0x390f3595bca2df7d23783dfd126427cceb997bf4', 'decimals': '18'}",
         "131066.06516",
         "0xE4545f9dBC30Ccb6Cda6930DDFd69f3D419FcB61",
         "0x390f3595bCa2Df7d23783dFd126427CCeb997BF4",
         "0x5C20B550819128074FD538Edf79791733ccEdd18",
         "1.017033",
         "1.144461",
         "150068.4775146616",
         "149999.99999907875",
         "-0.04565167705550655"
        ],
        [
         "139",
         "0x72e8381b464a1093e1ca58fb5f379af023cdea488f1bddb16bf2c2fc20ebc550",
         "1745759843",
         "22360636",
         "64663.64586928754",
         "{'id': '0xa0b86991c6218b36c1d19d4a2e9eb0ce3606eb48', 'decimals': '6'}",
         "0xC099899d0278CE83976218Cbe58D01dD382dcA32",
         "{'id': '0x57064f49ad7123c92560882a45518374ad982e85', 'decimals': '18'}",
         "69383.7661",
         "0xa7569A44f348d3D70d8ad5889e50F78E33d80D35",
         "0x57064F49Ad7123C92560882a45518374ad982e85",
         "0xA0b86991c6218b36c1d19D4a2e9Eb0cE3606eB48",
         "1.07332",
         "1.0",
         "69404.7843844237",
         "69383.7661",
         "-0.030292798452912665"
        ],
        [
         "111",
         "0x8a758aeea5974368d180208f401195d8d269f597d80af4eb554ca980d49f2804",
         "1745878667",
         "22370488",
         "39440.59774153538",
         "{'id': '0xa0b86991c6218b36c1d19d4a2e9eb0ce3606eb48', 'decimals': '6'}",
         "0xC099899d0278CE83976218Cbe58D01dD382dcA32",
         "{'id': '0x57064f49ad7123c92560882a45518374ad982e85', 'decimals': '18'}",
         "42332.279375",
         "0xa7569A44f348d3D70d8ad5889e50F78E33d80D35",
         "0x57064F49Ad7123C92560882a45518374ad982e85",
         "0xA0b86991c6218b36c1d19D4a2e9Eb0cE3606eB48",
         "1.073578",
         "1.0",
         "42342.55804216206",
         "42332.279375",
         "-0.024280920644527325"
        ],
        [
         "94",
         "0x95f80d9d8abe78e0a05d98a01e5ff485bb4732d00c9221d03668a5844a4bc727",
         "1744965875",
         "22294774",
         "31598.209107797884",
         "{'id': '0xa0b86991c6218b36c1d19d4a2e9eb0ce3606eb48', 'decimals': '6'}",
         "0xbB2d2dd491204a86ec10a1a6972F940B34fE060e",
         "{'id': '0x4f493b7de8aac7d55f71853688b1f7c8f0243c85', 'decimals': '18'}",
         "31810.4023",
         "0xa7569A44f348d3D70d8ad5889e50F78E33d80D35",
         "0x4f493B7dE8aAC7d55F71853688b1F7C8F0243C85",
         "0xA0b86991c6218b36c1d19D4a2e9Eb0cE3606eB48",
         "1.006929",
         "1.0",
         "31817.153098705814",
         "31810.4023",
         "-0.021221984689619864"
        ],
        [
         "238",
         "0x1bc83bc71af242258d072f1aef707f4cf2663c615744b7b8406a58595fe9ca7f",
         "1746208211",
         "22397713",
         "280865.0044",
         "{'id': '0xa0b86991c6218b36c1d19d4a2e9eb0ce3606eb48', 'decimals': '6'}",
         "0x7876F91BB22148345b3De16af9448081E9853830",
         "{'id': '0x9fb7b4477576fe5b32be4c1843afb1e55f251b33', 'decimals': '6'}",
         "322470.54535",
         "0xa7569A44f348d3D70d8ad5889e50F78E33d80D35",
         "0x9Fb7b4477576Fe5B32be4C1843aFB1e55F251B33",
         "0xA0b86991c6218b36c1d19D4a2e9Eb0cE3606eB48",
         "1.148374",
         "1.0",
         "322538.0685628456",
         "322470.54535",
         "-0.02093934277697337"
        ],
        [
         "82",
         "0xa2c0436d520cc2ae69f9c900a963a814997676705624330f20dc608f00dbab0d",
         "1745533055",
         "22341796",
         "147333.24959414123",
         "{'id': '0x4f493b7de8aac7d55f71853688b1f7c8f0243c85', 'decimals': '18'}",
         "0x65efCF2cce562DCBf07e805eEbeDeF21Dbd8Ea3D",
         "{'id': '0x4dece678ceceb27446b35c672dc7d61f30bad69e', 'decimals': '18'}",
         "148971.5007587615",
         "0xbB2d2dd491204a86ec10a1a6972F940B34fE060e",
         "0x4DEcE678ceceb27446b35C672dC7d61F30bAD69E",
         "0x4f493B7dE8aAC7d55F71853688b1F7C8F0243C85",
         "1.018285",
         "1.006904",
         "150027.23806297014",
         "150000.0",
         "-0.018158708646757685"
        ],
        [
         "219",
         "0x2dea5b79e88ce73eb42cf587578fb8c8d0537d7a99fe596d91f6a62eb5b0cabf",
         "1744571807",
         "22262088",
         "31065.87836220675",
         "{'id': '0xa0b86991c6218b36c1d19d4a2e9eb0ce3606eb48', 'decimals': '6'}",
         "0xC099899d0278CE83976218Cbe58D01dD382dcA32",
         "{'id': '0x57064f49ad7123c92560882a45518374ad982e85', 'decimals': '18'}",
         "33270.4558",
         "0xa7569A44f348d3D70d8ad5889e50F78E33d80D35",
         "0x57064F49Ad7123C92560882a45518374ad982e85",
         "0xA0b86991c6218b36c1d19D4a2e9Eb0cE3606eB48",
         "1.071158",
         "1.0",
         "33276.464134704656",
         "33270.4558",
         "-0.018059069406115416"
        ],
        [
         "162",
         "0x60734ee041af18795fd9a33e22e570927a84445f4b7076c4c4ceca91a4bea8a3",
         "1745969015",
         "22377968",
         "137551.078730993",
         "{'id': '0xa0b86991c6218b36c1d19d4a2e9eb0ce3606eb48', 'decimals': '6'}",
         "0x3F3565C5A2AA05F76830A5a51c2F32018De856A3",
         "{'id': '0x8eb67a509616cd6a7c1b3c8c21d48ff57df3d458', 'decimals': '18'}",
         "149876.5949",
         "0xa7569A44f348d3D70d8ad5889e50F78E33d80D35",
         "0x8eB67A509616cd6A7c1B3c8C21D48FF57df3d458",
         "0xA0b86991c6218b36c1d19D4a2e9Eb0cE3606eB48",
         "1.089792",
         "1.0",
         "149902.06519240633",
         "149876.5949",
         "-0.016994176057526168"
        ],
        [
         "17",
         "0xf2c7bc5f502fdcd1bc2aae6d66fd65a6b71c2eb3175a4cbd3fee958d27feacd2",
         "1746019055",
         "22382106",
         "148087.40068",
         "{'id': '0xa0b86991c6218b36c1d19d4a2e9eb0ce3606eb48', 'decimals': '6'}",
         "0x7876F91BB22148345b3De16af9448081E9853830",
         "{'id': '0x9fb7b4477576fe5b32be4c1843afb1e55f251b33', 'decimals': '6'}",
         "170000.0",
         "0xa7569A44f348d3D70d8ad5889e50F78E33d80D35",
         "0x9Fb7b4477576Fe5B32be4C1843aFB1e55F251B33",
         "0xA0b86991c6218b36c1d19D4a2e9Eb0cE3606eB48",
         "1.148165",
         "1.0",
         "170028.7704017522",
         "170000.0",
         "-0.016923765736590962"
        ],
        [
         "267",
         "0x012e26a2633c10388ffc3ee1a2a95c9569b54ff4f91805204a2ee93ef70799c2",
         "1744556327",
         "22260800",
         "140053.10243995607",
         "{'id': '0x4f493b7de8aac7d55f71853688b1f7c8f0243c85', 'decimals': '18'}",
         "0xC099899d0278CE83976218Cbe58D01dD382dcA32",
         "{'id': '0x57064f49ad7123c92560882a45518374ad982e85', 'decimals': '18'}",
         "149036.4791622163",
         "0xbB2d2dd491204a86ec10a1a6972F940B34fE060e",
         "0x57064F49Ad7123C92560882a45518374ad982e85",
         "0x4f493B7dE8aAC7d55F71853688b1F7C8F0243C85",
         "1.071202",
         "1.006465",
         "150025.16343988583",
         "150000.00000000003",
         "-0.016775626590533645"
        ],
        [
         "155",
         "0x6702ee1fc914c66774cb8689ad2a391c4ea713004bd967dfc73bf19f4a08b69b",
         "1745889455",
         "22371383",
         "29826.757429208483",
         "{'id': '0xa0b86991c6218b36c1d19d4a2e9eb0ce3606eb48', 'decimals': '6'}",
         "0xC099899d0278CE83976218Cbe58D01dD382dcA32",
         "{'id': '0x57064f49ad7123c92560882a45518374ad982e85', 'decimals': '18'}",
         "32014.380775",
         "0xa7569A44f348d3D70d8ad5889e50F78E33d80D35",
         "0x57064F49Ad7123C92560882a45518374ad982e85",
         "0xA0b86991c6218b36c1d19D4a2e9Eb0cE3606eB48",
         "1.073519",
         "1.0",
         "32019.59080864646",
         "32014.380775",
         "-0.016274041603596516"
        ],
        [
         "15",
         "0xf4488d8f4099f52ff4664b5342f454e907bcb7897fc831d0f9db6c27c0d0f79f",
         "1744454699",
         "22252365",
         "147328.56706112463",
         "{'id': '0xa0b86991c6218b36c1d19d4a2e9eb0ce3606eb48', 'decimals': '6'}",
         "0x65efCF2cce562DCBf07e805eEbeDeF21Dbd8Ea3D",
         "{'id': '0x4dece678ceceb27446b35c672dc7d61f30bad69e', 'decimals': '18'}",
         "150000.0",
         "0xa7569A44f348d3D70d8ad5889e50F78E33d80D35",
         "0x4DEcE678ceceb27446b35C672dC7d61F30bAD69E",
         "0xA0b86991c6218b36c1d19D4a2e9Eb0cE3606eB48",
         "1.018263",
         "1.0",
         "150019.22868136194",
         "150000.0",
         "-0.012819120907962011"
        ],
        [
         "188",
         "0x4ea5644c67cd26272d12909b19d19b9fb8148655b4d41cc965ddc706fb0e4459",
         "1745526959",
         "22341290",
         "1150517.994641",
         "{'id': '0xa0b86991c6218b36c1d19d4a2e9eb0ce3606eb48', 'decimals': '6'}",
         "0x7876F91BB22148345b3De16af9448081E9853830",
         "{'id': '0x9fb7b4477576fe5b32be4c1843afb1e55f251b33', 'decimals': '6'}",
         "1320331.5063",
         "0xa7569A44f348d3D70d8ad5889e50F78E33d80D35",
         "0x9Fb7b4477576Fe5B32be4C1843aFB1e55F251B33",
         "0xA0b86991c6218b36c1d19D4a2e9Eb0cE3606eB48",
         "1.147744",
         "1.0",
         "1320500.12524124",
         "1320331.5063",
         "-0.012770954903025678"
        ],
        [
         "233",
         "0x202a199ced71bc6e0cd04bafb65670d85d7e5f2f1e47386bedac3b9afaa686be",
         "1746191855",
         "22396364",
         "1102326.572693",
         "{'id': '0xa0b86991c6218b36c1d19d4a2e9eb0ce3606eb48', 'decimals': '6'}",
         "0x7876F91BB22148345b3De16af9448081E9853830",
         "{'id': '0x9fb7b4477576fe5b32be4c1843afb1e55f251b33', 'decimals': '6'}",
         "1265580.27245",
         "0xa7569A44f348d3D70d8ad5889e50F78E33d80D35",
         "0x9Fb7b4477576Fe5B32be4C1843aFB1e55F251B33",
         "0xA0b86991c6218b36c1d19D4a2e9Eb0cE3606eB48",
         "1.148241",
         "1.0",
         "1265736.5661555831",
         "1265580.27245",
         "-0.012349568730280532"
        ],
        [
         "141",
         "0x726d83d3b6269ddbdce97fc5d724060d3e19824508c7a777869e3b9e78b1e6e5",
         "1744709423",
         "22273498",
         "29984.280432300402",
         "{'id': '0xa0b86991c6218b36c1d19d4a2e9eb0ce3606eb48', 'decimals': '6'}",
         "0xbB2d2dd491204a86ec10a1a6972F940B34fE060e",
         "{'id': '0x4f493b7de8aac7d55f71853688b1f7c8f0243c85', 'decimals': '18'}",
         "30180.15035",
         "0xa7569A44f348d3D70d8ad5889e50F78E33d80D35",
         "0x4f493B7dE8aAC7d55F71853688b1F7C8F0243C85",
         "0xA0b86991c6218b36c1d19D4a2e9Eb0cE3606eB48",
         "1.006654",
         "1.0",
         "30183.79583429693",
         "30180.15035",
         "-0.01207907931091129"
        ],
        [
         "69",
         "0xaf799f9dc101de9749f9b2c3aadc85ffd84ceab7fbbba6b5f27cf836c74da875",
         "1744766195",
         "22278208",
         "44521.77804797654",
         "{'id': '0xa0b86991c6218b36c1d19d4a2e9eb0ce3606eb48', 'decimals': '6'}",
         "0xbB2d2dd491204a86ec10a1a6972F940B34fE060e",
         "{'id': '0x4f493b7de8aac7d55f71853688b1f7c8f0243c85', 'decimals': '18'}",
         "44817.398425",
         "0xa7569A44f348d3D70d8ad5889e50F78E33d80D35",
         "0x4f493B7dE8aAC7d55F71853688b1F7C8F0243C85",
         "0xA0b86991c6218b36c1d19D4a2e9Eb0cE3606eB48",
         "1.006761",
         "1.0",
         "44822.78978935891",
         "44817.398425",
         "-0.012029623647016126"
        ],
        [
         "172",
         "0x5a904f70cc391a18cea288ec9b26ddd4f00a9c6e2e3eee80f042b40177206635",
         "1746289055",
         "22404399",
         "75617.535547",
         "{'id': '0xbeef01735c132ada46aa9aa4c54623caa92a64cb', 'decimals': '18'}",
         "0x7876F91BB22148345b3De16af9448081E9853830",
         "{'id': '0x9fb7b4477576fe5b32be4c1843afb1e55f251b33', 'decimals': '6'}",
         "80162.89396418314",
         "0xC5c95fCad37E466E25e6ecA1977bbF75C0E1004a",
         "0x9Fb7b4477576Fe5B32be4C1843aFB1e55F251B33",
         "0xBEEF01735c132Ada46AA9aA4c54623cAA92A64CB",
         "1.148178",
         "1.082955",
         "86822.39072928336",
         "86812.80683298194",
         "-0.011039726338837501"
        ],
        [
         "245",
         "0x16b9988811e01e7f7afdc2f97e834162bfd11b7aa4270a84a172739228328a20",
         "1744700303",
         "22272747",
         "53307.53913943954",
         "{'id': '0xa0b86991c6218b36c1d19d4a2e9eb0ce3606eb48', 'decimals': '6'}",
         "0xbB2d2dd491204a86ec10a1a6972F940B34fE060e",
         "{'id': '0x4f493b7de8aac7d55f71853688b1f7c8f0243c85', 'decimals': '18'}",
         "53653.600625",
         "0xa7569A44f348d3D70d8ad5889e50F78E33d80D35",
         "0x4f493B7dE8aAC7d55F71853688b1F7C8F0243C85",
         "0xA0b86991c6218b36c1d19D4a2e9Eb0cE3606eB48",
         "1.006598",
         "1.0",
         "53659.26228268157",
         "53653.600625",
         "-0.01055224181717674"
        ],
        [
         "6",
         "0xfa9d0b472bdb73fdab2f45a0d83a119da309f4aae540c304386855d364967862",
         "1746008231",
         "22381211",
         "186006.089834",
         "{'id': '0xa0b86991c6218b36c1d19d4a2e9eb0ce3606eb48', 'decimals': '6'}",
         "0x7876F91BB22148345b3De16af9448081E9853830",
         "{'id': '0x9fb7b4477576fe5b32be4c1843afb1e55f251b33', 'decimals': '6'}",
         "213527.8188",
         "0xa7569A44f348d3D70d8ad5889e50F78E33d80D35",
         "0x9Fb7b4477576Fe5B32be4C1843aFB1e55F251B33",
         "0xA0b86991c6218b36c1d19D4a2e9Eb0cE3606eB48",
         "1.148068",
         "1.0",
         "213547.63954354075",
         "213527.8188",
         "-0.00928251112765007"
        ],
        [
         "110",
         "0x8ac67f7b06d5dcaa032ce596da03410177deaac9028a751e3886142a9cfe5115",
         "1743793139",
         "22197502",
         "14261.65681081928",
         "{'id': '0xa0b86991c6218b36c1d19d4a2e9eb0ce3606eb48', 'decimals': '6'}",
         "0xbB2d2dd491204a86ec10a1a6972F940B34fE060e",
         "{'id': '0x4f493b7de8aac7d55f71853688b1f7c8f0243c85', 'decimals': '18'}",
         "14345.657699",
         "0xa7569A44f348d3D70d8ad5889e50F78E33d80D35",
         "0x4f493B7dE8aAC7d55F71853688b1F7C8F0243C85",
         "0xA0b86991c6218b36c1d19D4a2e9Eb0cE3606eB48",
         "1.005975",
         "1.0",
         "14346.870210263927",
         "14345.657699",
         "-0.00845211345041594"
        ],
        [
         "49",
         "0xcf55f563f6913a9737142ff9de58f7c975ba5e63869aa900d87ad2948715b0eb",
         "1745965043",
         "22377639",
         "369734.1808155267",
         "{'id': '0x9fb7b4477576fe5b32be4c1843afb1e55f251b33', 'decimals': '6'}",
         "0x3F3565C5A2AA05F76830A5a51c2F32018De856A3",
         "{'id': '0x8eb67a509616cd6a7c1b3c8c21d48ff57df3d458', 'decimals': '18'}",
         "350919.302925",
         "0x7876F91BB22148345b3De16af9448081E9853830",
         "0x8eB67A509616cd6A7c1B3c8C21D48FF57df3d458",
         "0x9Fb7b4477576Fe5B32be4C1843aFB1e55F251B33",
         "1.089897",
         "1.148237",
         "402972.1744683001",
         "402938.52763269324",
         "-0.008350364459937597"
        ],
        [
         "140",
         "0x72778d6b5bb3040d942293d839b593125f4a56b2881d967da9de6fb43afe582d",
         "1743826031",
         "22200224",
         "24064.362527912996",
         "{'id': '0xa0b86991c6218b36c1d19d4a2e9eb0ce3606eb48', 'decimals': '6'}",
         "0xbB2d2dd491204a86ec10a1a6972F940B34fE060e",
         "{'id': '0x4f493b7de8aac7d55f71853688b1f7c8f0243c85', 'decimals': '18'}",
         "24208.2974",
         "0xa7569A44f348d3D70d8ad5889e50F78E33d80D35",
         "0x4f493B7dE8aAC7d55F71853688b1F7C8F0243C85",
         "0xA0b86991c6218b36c1d19D4a2e9Eb0cE3606eB48",
         "1.006065",
         "1.0",
         "24210.312886644788",
         "24208.2974",
         "-0.008325602629073472"
        ],
        [
         "16",
         "0xf42cc7d517395d441b21cc063d55671252d617e98f1c2302158b958752b0b6bf",
         "1744647971",
         "22268408",
         "140027.92494208858",
         "{'id': '0xa0b86991c6218b36c1d19d4a2e9eb0ce3606eb48', 'decimals': '6'}",
         "0xC099899d0278CE83976218Cbe58D01dD382dcA32",
         "{'id': '0x57064f49ad7123c92560882a45518374ad982e85', 'decimals': '18'}",
         "150000.0",
         "0xa7569A44f348d3D70d8ad5889e50F78E33d80D35",
         "0x57064F49Ad7123C92560882a45518374ad982e85",
         "0xA0b86991c6218b36c1d19D4a2e9Eb0cE3606eB48",
         "1.071303",
         "1.0",
         "150012.3360742343",
         "150000.0",
         "-0.00822404948953772"
        ],
        [
         "186",
         "0x4fed5b17ea071dcd3170112d9d6bd528ffdeb9fe0a275f2b1846cf80a804f31d",
         "1746201899",
         "22397192",
         "551351.109176",
         "{'id': '0xa0b86991c6218b36c1d19d4a2e9eb0ce3606eb48', 'decimals': '6'}",
         "0x7876F91BB22148345b3De16af9448081E9853830",
         "{'id': '0x9fb7b4477576fe5b32be4c1843afb1e55f251b33', 'decimals': '6'}",
         "633022.040099",
         "0xa7569A44f348d3D70d8ad5889e50F78E33d80D35",
         "0x9Fb7b4477576Fe5B32be4C1843aFB1e55F251B33",
         "0xA0b86991c6218b36c1d19D4a2e9Eb0cE3606eB48",
         "1.148218",
         "1.0",
         "633071.2678758483",
         "633022.040099",
         "-0.007776629205621809"
        ],
        [
         "203",
         "0x3c110b787101343d1056f1fef42131c10fc781418370d63ec99f3c3bfe87ba5a",
         "1745520791",
         "22340778",
         "1167988.720447",
         "{'id': '0xa0b86991c6218b36c1d19d4a2e9eb0ce3606eb48', 'decimals': '6'}",
         "0x7876F91BB22148345b3De16af9448081E9853830",
         "{'id': '0x9fb7b4477576fe5b32be4c1843afb1e55f251b33', 'decimals': '6'}",
         "1340375.22815",
         "0xa7569A44f348d3D70d8ad5889e50F78E33d80D35",
         "0x9Fb7b4477576Fe5B32be4C1843aFB1e55F251B33",
         "0xA0b86991c6218b36c1d19D4a2e9Eb0cE3606eB48",
         "1.147678",
         "1.0",
         "1340474.9587051722",
         "1340375.22815",
         "-0.007440495249209243"
        ],
        [
         "208",
         "0x382ad0f8c95201429f36a4391f53974dbaed2b59b3570ebe901b8d1b2406b43c",
         "1744691435",
         "22272012",
         "102900.85909965877",
         "{'id': '0xa0b86991c6218b36c1d19d4a2e9eb0ce3606eb48', 'decimals': '6'}",
         "0xbB2d2dd491204a86ec10a1a6972F940B34fE060e",
         "{'id': '0x4f493b7de8aac7d55f71853688b1f7c8f0243c85', 'decimals': '18'}",
         "103572.280275",
         "0xa7569A44f348d3D70d8ad5889e50F78E33d80D35",
         "0x4f493B7dE8aAC7d55F71853688b1F7C8F0243C85",
         "0xA0b86991c6218b36c1d19D4a2e9Eb0cE3606eB48",
         "1.006597",
         "1.0",
         "103579.69606713922",
         "103572.280275",
         "-0.007160016289617175"
        ],
        [
         "261",
         "0x04ed09c09d53bec716a2b3ca7ee23f959d334edfd8ded3b7d2aba35b82a71dca",
         "1746245843",
         "22400818",
         "164115.10733920487",
         "{'id': '0xa0b86991c6218b36c1d19d4a2e9eb0ce3606eb48', 'decimals': '6'}",
         "0x0f170e37E5E0C617148517B831A49292c38c363d",
         "{'id': '0xdd0f28e19c1780eb6396170735d45153d261490d', 'decimals': '18'}",
         "176109.9834",
         "0xa7569A44f348d3D70d8ad5889e50F78E33d80D35",
         "0xdd0f28e19C1780eb6396170735D45153D261490d",
         "0xA0b86991c6218b36c1d19D4a2e9Eb0cE3606eB48",
         "1.07316",
         "1.0",
         "176121.76859214107",
         "176109.9834",
         "-0.006691950060723559"
        ],
        [
         "114",
         "0x87bc46579aba1c8f6690384c432ad8ed1e6ea49ee3b632545424f7cb6ee7a4a9",
         "1746029843",
         "22382998",
         "45551.729538",
         "{'id': '0xa0b86991c6218b36c1d19d4a2e9eb0ce3606eb48', 'decimals': '6'}",
         "0x7876F91BB22148345b3De16af9448081E9853830",
         "{'id': '0x9fb7b4477576fe5b32be4c1843afb1e55f251b33', 'decimals': '6'}",
         "52292.503",
         "0xa7569A44f348d3D70d8ad5889e50F78E33d80D35",
         "0x9Fb7b4477576Fe5B32be4C1843aFB1e55F251B33",
         "0xA0b86991c6218b36c1d19D4a2e9Eb0cE3606eB48",
         "1.148054",
         "1.0",
         "52295.84530301905",
         "52292.503",
         "-0.006391552951774676"
        ],
        [
         "182",
         "0x5305af7e9cbd05590c05326d235971e222273a5756cb182f3122cad38e87c3f3",
         "1745597855",
         "22347175",
         "92415.81522041408",
         "{'id': '0xa0b86991c6218b36c1d19d4a2e9eb0ce3606eb48', 'decimals': '6'}",
         "0x65efCF2cce562DCBf07e805eEbeDeF21Dbd8Ea3D",
         "{'id': '0x4dece678ceceb27446b35c672dc7d61f30bad69e', 'decimals': '18'}",
         "94097.045575",
         "0xa7569A44f348d3D70d8ad5889e50F78E33d80D35",
         "0x4DEcE678ceceb27446b35C672dC7d61F30bAD69E",
         "0xA0b86991c6218b36c1d19D4a2e9Eb0cE3606eB48",
         "1.01825",
         "1.0",
         "94102.40384818664",
         "94097.045575",
         "-0.005694411714953728"
        ],
        [
         "126",
         "0x7c0e6c5bc1510f3c840dfdf8ca80e13170e2daee0791756f2036a71dfa8822fe",
         "1744378259",
         "22246013",
         "149096.61264871704",
         "{'id': '0xa0b86991c6218b36c1d19d4a2e9eb0ce3606eb48', 'decimals': '6'}",
         "0xbB2d2dd491204a86ec10a1a6972F940B34fE060e",
         "{'id': '0x4f493b7de8aac7d55f71853688b1f7c8f0243c85', 'decimals': '18'}",
         "150000.0",
         "0xa7569A44f348d3D70d8ad5889e50F78E33d80D35",
         "0x4f493B7dE8aAC7d55F71853688b1F7C8F0243C85",
         "0xA0b86991c6218b36c1d19D4a2e9Eb0cE3606eB48",
         "1.006116",
         "1.0",
         "150008.4875316766",
         "150000.0",
         "-0.005658354451064952"
        ],
        [
         "36",
         "0xe3a0373db2f1143d47e7e7e944a9a08ee289c437db5a6bc435dca090ef03dc84",
         "1744888607",
         "22288360",
         "148987.8681598175",
         "{'id': '0xa0b86991c6218b36c1d19d4a2e9eb0ce3606eb48', 'decimals': '6'}",
         "0xbB2d2dd491204a86ec10a1a6972F940B34fE060e",
         "{'id': '0x4f493b7de8aac7d55f71853688b1f7c8f0243c85', 'decimals': '18'}",
         "150000.0",
         "0xa7569A44f348d3D70d8ad5889e50F78E33d80D35",
         "0x4f493B7dE8aAC7d55F71853688b1F7C8F0243C85",
         "0xA0b86991c6218b36c1d19D4a2e9Eb0cE3606eB48",
         "1.006825",
         "1.0",
         "150004.71036000826",
         "150000.0",
         "-0.003140240005508531"
        ],
        [
         "127",
         "0x7a1beee62cb464bd0fbf039dda51fbd6cab63a99b9585c21b14be6da9dad7816",
         "1744643975",
         "22268078",
         "111526.75467079351",
         "{'id': '0xa0b86991c6218b36c1d19d4a2e9eb0ce3606eb48', 'decimals': '6'}",
         "0xC099899d0278CE83976218Cbe58D01dD382dcA32",
         "{'id': '0x57064f49ad7123c92560882a45518374ad982e85', 'decimals': '18'}",
         "119475.73495",
         "0xa7569A44f348d3D70d8ad5889e50F78E33d80D35",
         "0x57064F49Ad7123C92560882a45518374ad982e85",
         "0xA0b86991c6218b36c1d19D4a2e9Eb0cE3606eB48",
         "1.071298",
         "1.0",
         "119478.38922531175",
         "119475.73495",
         "-0.0022216019954717473"
        ],
        [
         "2",
         "0xfecf659a8d1c06c45010afc47fcefc6405d906a85e8497c52c5c392cbf392326",
         "1746235043",
         "22399927",
         "320651.57585673255",
         "{'id': '0xa0b86991c6218b36c1d19d4a2e9eb0ce3606eb48', 'decimals': '6'}",
         "0xC5c95fCad37E466E25e6ecA1977bbF75C0E1004a",
         "{'id': '0xbeef01735c132ada46aa9aa4c54623caa92a64cb', 'decimals': '18'}",
         "347222.68215",
         "0xa7569A44f348d3D70d8ad5889e50F78E33d80D35",
         "0xBEEF01735c132Ada46AA9aA4c54623cAA92A64CB",
         "0xA0b86991c6218b36c1d19D4a2e9Eb0cE3606eB48",
         "1.082884",
         "1.0",
         "347228.461070042",
         "347222.68215",
         "-0.001664326767536114"
        ],
        [
         "196",
         "0x44a492f30f3a5e0f0fdb850f9c7689286ca7626899a9bf1ab3f8bc07b2076f94",
         "1746040643",
         "22383888",
         "114012.810951",
         "{'id': '0xa0b86991c6218b36c1d19d4a2e9eb0ce3606eb48', 'decimals': '6'}",
         "0x7876F91BB22148345b3De16af9448081E9853830",
         "{'id': '0x9fb7b4477576fe5b32be4c1843afb1e55f251b33', 'decimals': '6'}",
         "130885.6596",
         "0xa7569A44f348d3D70d8ad5889e50F78E33d80D35",
         "0x9Fb7b4477576Fe5B32be4C1843aFB1e55F251B33",
         "0xA0b86991c6218b36c1d19D4a2e9Eb0cE3606eB48",
         "1.148004",
         "1.0",
         "130887.16302299181",
         "130885.6596",
         "-0.0011486537153144335"
        ],
        [
         "37",
         "0xe19e214ad7483c3f757f4eda3c5cf98929d11b84730464e217ab808a29dc6ae9",
         "1746297923",
         "22405134",
         "148057.300848",
         "{'id': '0xa0b86991c6218b36c1d19d4a2e9eb0ce3606eb48', 'decimals': '6'}",
         "0x7876F91BB22148345b3De16af9448081E9853830",
         "{'id': '0x9fb7b4477576fe5b32be4c1843afb1e55f251b33', 'decimals': '6'}",
         "170000.0",
         "0xa7569A44f348d3D70d8ad5889e50F78E33d80D35",
         "0x9Fb7b4477576Fe5B32be4C1843aFB1e55F251B33",
         "0xA0b86991c6218b36c1d19D4a2e9Eb0cE3606eB48",
         "1.148217",
         "1.0",
         "170001.90980778803",
         "170000.0",
         "-0.0011234163459020612"
        ],
        [
         "107",
         "0x8cfd083ce88bcd7c275749d1a101673a0e83cc32c39df716b9eeadc7b24e4d22",
         "1744405139",
         "22248242",
         "147310.73300879842",
         "{'id': '0xa0b86991c6218b36c1d19d4a2e9eb0ce3606eb48', 'decimals': '6'}",
         "0x65efCF2cce562DCBf07e805eEbeDeF21Dbd8Ea3D",
         "{'id': '0x4dece678ceceb27446b35c672dc7d61f30bad69e', 'decimals': '18'}",
         "150000.0",
         "0xa7569A44f348d3D70d8ad5889e50F78E33d80D35",
         "0x4DEcE678ceceb27446b35C672dC7d61F30bAD69E",
         "0xA0b86991c6218b36c1d19D4a2e9Eb0cE3606eB48",
         "1.018266",
         "1.0",
         "150001.5108579371",
         "150000.0",
         "-0.0010072386247338726"
        ],
        [
         "181",
         "0x5392ff8cdb72dd237f47948adc16416d5f8b1442091a453c31c2325e5c44b91f",
         "1744237811",
         "22234344",
         "99379.14916445293",
         "{'id': '0xa0b86991c6218b36c1d19d4a2e9eb0ce3606eb48', 'decimals': '6'}",
         "0xbB2d2dd491204a86ec10a1a6972F940B34fE060e",
         "{'id': '0x4f493b7de8aac7d55f71853688b1f7c8f0243c85', 'decimals': '18'}",
         "99999.999999",
         "0xa7569A44f348d3D70d8ad5889e50F78E33d80D35",
         "0x4f493B7dE8aAC7d55F71853688b1F7C8F0243C85",
         "0xA0b86991c6218b36c1d19D4a2e9Eb0cE3606eB48",
         "1.006248",
         "1.0",
         "100000.07008843243",
         "99999.999999",
         "-7.008943242614863e-05"
        ],
        [
         "7",
         "0xf885cd0897d7cc7ef32d839696699861d14d48623aefecd9393cabd2f33f2f52",
         "1746105443",
         "22389245",
         "48776.552443",
         "{'id': '0x8eb67a509616cd6a7c1b3c8c21d48ff57df3d458', 'decimals': '18'}",
         "0x7876F91BB22148345b3De16af9448081E9853830",
         "{'id': '0x9fb7b4477576fe5b32be4c1843afb1e55f251b33', 'decimals': '6'}",
         "51383.68536902502",
         "0x3F3565C5A2AA05F76830A5a51c2F32018De856A3",
         "0x9Fb7b4477576Fe5B32be4C1843aFB1e55F251B33",
         "0x8eB67A509616cd6A7c1B3c8C21D48FF57df3d458",
         "1.148154",
         "1.089898",
         "56002.99379364022",
         "56002.97591632963",
         "-3.192207252328691e-05"
        ],
        [
         "220",
         "0x2dc6fe88bea0405913caa42f10c1efa4f57022025e5212a3a62a585493c47667",
         "1746062243",
         "22385678",
         "90288.247318",
         "{'id': '0x8eb67a509616cd6a7c1b3c8c21d48ff57df3d458', 'decimals': '18'}",
         "0x7876F91BB22148345b3De16af9448081E9853830",
         "{'id': '0x9fb7b4477576fe5b32be4c1843afb1e55f251b33', 'decimals': '6'}",
         "95115.98616497245",
         "0x3F3565C5A2AA05F76830A5a51c2F32018De856A3",
         "0x9Fb7b4477576Fe5B32be4C1843aFB1e55F251B33",
         "0x8eB67A509616cd6A7c1B3c8C21D48FF57df3d458",
         "1.148146",
         "1.08987",
         "103664.09000517243",
         "103664.05984161851",
         "-2.909740749862927e-05"
        ],
        [
         "207",
         "0x3a38658671d94bd1d0dffbfd16f4a5a7da538abe735cd23f7bddd27be0db11ba",
         "1746073031",
         "22386568",
         "74025.05728",
         "{'id': '0x8eb67a509616cd6a7c1b3c8c21d48ff57df3d458', 'decimals': '18'}",
         "0x7876F91BB22148345b3De16af9448081E9853830",
         "{'id': '0x9fb7b4477576fe5b32be4c1843afb1e55f251b33', 'decimals': '6'}",
         "77982.86762270605",
         "0x3F3565C5A2AA05F76830A5a51c2F32018De856A3",
         "0x9Fb7b4477576Fe5B32be4C1843aFB1e55F251B33",
         "0x8eB67A509616cd6A7c1B3c8C21D48FF57df3d458",
         "1.148258",
         "1.089981",
         "84999.86422221824",
         "84999.84403426477",
         "-2.375057707676336e-05"
        ],
        [
         "10",
         "0xf7641185b3d78280671ee897853174c0d231614d28e8542f0bc4d5fc4e260c74",
         "1745997431",
         "22380318",
         "37280.009209",
         "{'id': '0xdd0f28e19c1780eb6396170735d45153d261490d', 'decimals': '18'}",
         "0x7876F91BB22148345b3De16af9448081E9853830",
         "{'id': '0x9fb7b4477576fe5b32be4c1843afb1e55f251b33', 'decimals': '6'}",
         "39892.996621207945",
         "0x0f170e37E5E0C617148517B831A49292c38c363d",
         "0x9Fb7b4477576Fe5B32be4C1843aFB1e55F251B33",
         "0xdd0f28e19C1780eb6396170735D45153D261490d",
         "1.148125",
         "1.072923",
         "42802.11057308313",
         "42802.1136138163",
         "7.104165912325729e-06"
        ],
        [
         "118",
         "0x8517efef2fc952961801997554b3d22be6e019483e2a96693a1a0992069cb748",
         "1746083831",
         "22387455",
         "74029.413308",
         "{'id': '0x8eb67a509616cd6a7c1b3c8c21d48ff57df3d458', 'decimals': '18'}",
         "0x7876F91BB22148345b3De16af9448081E9853830",
         "{'id': '0x9fb7b4477576fe5b32be4c1843afb1e55f251b33', 'decimals': '6'}",
         "77987.16056088365",
         "0x3F3565C5A2AA05F76830A5a51c2F32018De856A3",
         "0x9Fb7b4477576Fe5B32be4C1843aFB1e55F251B33",
         "0x8eB67A509616cd6A7c1B3c8C21D48FF57df3d458",
         "1.148192",
         "1.089923",
         "84999.98012493915",
         "85000.0",
         "2.3382424534408046e-05"
        ],
        [
         "71",
         "0xae32d86a6fef52bdfe98474d9c182da84e7f4efce7f91eb77353f77c7cc621c2",
         "1746051479",
         "22384784",
         "120383.842126",
         "{'id': '0x8eb67a509616cd6a7c1b3c8c21d48ff57df3d458', 'decimals': '18'}",
         "0x7876F91BB22148345b3De16af9448081E9853830",
         "{'id': '0x9fb7b4477576fe5b32be4c1843afb1e55f251b33', 'decimals': '6'}",
         "126821.31488662993",
         "0x3F3565C5A2AA05F76830A5a51c2F32018De856A3",
         "0x9Fb7b4477576Fe5B32be4C1843aFB1e55F251B33",
         "0x8eB67A509616cd6A7c1B3c8C21D48FF57df3d458",
         "1.14817",
         "1.089889",
         "138221.11601380943",
         "138221.15606047423",
         "2.8972890938159975e-05"
        ],
        [
         "231",
         "0x20ea4541a01be5d7357c442803af2633ca87b00655d8317fa484f8e1cc48369b",
         "1746293483",
         "22404766",
         "74026.959947",
         "{'id': '0xbeef01735c132ada46aa9aa4c54623caa92a64cb', 'decimals': '18'}",
         "0x7876F91BB22148345b3De16af9448081E9853830",
         "{'id': '0x9fb7b4477576fe5b32be4c1843afb1e55f251b33', 'decimals': '6'}",
         "78485.25308262373",
         "0xC5c95fCad37E466E25e6ecA1977bbF75C0E1004a",
         "0x9Fb7b4477576Fe5B32be4C1843aFB1e55F251B33",
         "0xBEEF01735c132Ada46AA9aA4c54623cAA92A64CB",
         "1.148231",
         "1.083007",
         "85000.05024690375",
         "85000.07848525309",
         "3.32215567914945e-05"
        ]
       ],
       "shape": {
        "columns": 16,
        "rows": 270
       }
      },
      "text/html": [
       "<div>\n",
       "<style scoped>\n",
       "    .dataframe tbody tr th:only-of-type {\n",
       "        vertical-align: middle;\n",
       "    }\n",
       "\n",
       "    .dataframe tbody tr th {\n",
       "        vertical-align: top;\n",
       "    }\n",
       "\n",
       "    .dataframe thead th {\n",
       "        text-align: right;\n",
       "    }\n",
       "</style>\n",
       "<table border=\"1\" class=\"dataframe\">\n",
       "  <thead>\n",
       "    <tr style=\"text-align: right;\">\n",
       "      <th></th>\n",
       "      <th>transactionHash</th>\n",
       "      <th>timestamp</th>\n",
       "      <th>blockNumber</th>\n",
       "      <th>tokenInAmount</th>\n",
       "      <th>tokenOut</th>\n",
       "      <th>destinationInAddress</th>\n",
       "      <th>tokenIn</th>\n",
       "      <th>tokenOutAmount</th>\n",
       "      <th>destinationOutAddress</th>\n",
       "      <th>tokenInAddress</th>\n",
       "      <th>tokenOutAddress</th>\n",
       "      <th>lp_token_in_spot_price</th>\n",
       "      <th>lp_token_out_spot_price</th>\n",
       "      <th>spot_value_in</th>\n",
       "      <th>spot_value_out</th>\n",
       "      <th>slippage</th>\n",
       "    </tr>\n",
       "  </thead>\n",
       "  <tbody>\n",
       "    <tr>\n",
       "      <th>240</th>\n",
       "      <td>0x1b154344809534e52c7b7293056c2ec63e61ebffcd2d...</td>\n",
       "      <td>1746330335</td>\n",
       "      <td>22407809</td>\n",
       "      <td>5474.504203</td>\n",
       "      <td>{'id': '0xbeef01735c132ada46aa9aa4c54623caa92a...</td>\n",
       "      <td>0x65efCF2cce562DCBf07e805eEbeDeF21Dbd8Ea3D</td>\n",
       "      <td>{'id': '0x4dece678ceceb27446b35c672dc7d61f30ba...</td>\n",
       "      <td>5021.109138</td>\n",
       "      <td>0xC5c95fCad37E466E25e6ecA1977bbF75C0E1004a</td>\n",
       "      <td>0x4DEcE678ceceb27446b35C672dC7d61F30bAD69E</td>\n",
       "      <td>0xBEEF01735c132Ada46AA9aA4c54623cAA92A64CB</td>\n",
       "      <td>1.018368</td>\n",
       "      <td>1.083027</td>\n",
       "      <td>5575.059896</td>\n",
       "      <td>5437.996766</td>\n",
       "      <td>-2.520471</td>\n",
       "    </tr>\n",
       "    <tr>\n",
       "      <th>151</th>\n",
       "      <td>0x6ab3f09e6a2ec4ef83c2dbd851f3c92a10f8fd85a611...</td>\n",
       "      <td>1745457407</td>\n",
       "      <td>22335534</td>\n",
       "      <td>148393.790366</td>\n",
       "      <td>{'id': '0xa0b86991c6218b36c1d19d4a2e9eb0ce3606...</td>\n",
       "      <td>0x65efCF2cce562DCBf07e805eEbeDeF21Dbd8Ea3D</td>\n",
       "      <td>{'id': '0x4dece678ceceb27446b35c672dc7d61f30ba...</td>\n",
       "      <td>150000.000000</td>\n",
       "      <td>0xa7569A44f348d3D70d8ad5889e50F78E33d80D35</td>\n",
       "      <td>0x4DEcE678ceceb27446b35C672dC7d61F30bAD69E</td>\n",
       "      <td>0xA0b86991c6218b36c1d19D4a2e9Eb0cE3606eB48</td>\n",
       "      <td>1.018319</td>\n",
       "      <td>1.000000</td>\n",
       "      <td>151112.216211</td>\n",
       "      <td>150000.000000</td>\n",
       "      <td>-0.741477</td>\n",
       "    </tr>\n",
       "    <tr>\n",
       "      <th>24</th>\n",
       "      <td>0xeb1d3f3839174cf5b72ed6cd395bba5d40fd6e759169...</td>\n",
       "      <td>1745813843</td>\n",
       "      <td>22365119</td>\n",
       "      <td>147615.747990</td>\n",
       "      <td>{'id': '0x9fb7b4477576fe5b32be4c1843afb1e55f25...</td>\n",
       "      <td>0x65efCF2cce562DCBf07e805eEbeDeF21Dbd8Ea3D</td>\n",
       "      <td>{'id': '0x4dece678ceceb27446b35c672dc7d61f30ba...</td>\n",
       "      <td>130683.763587</td>\n",
       "      <td>0x7876F91BB22148345b3De16af9448081E9853830</td>\n",
       "      <td>0x4DEcE678ceceb27446b35C672dC7d61F30bAD69E</td>\n",
       "      <td>0x9Fb7b4477576Fe5B32be4C1843aFB1e55F251B33</td>\n",
       "      <td>1.018345</td>\n",
       "      <td>1.147809</td>\n",
       "      <td>150323.758887</td>\n",
       "      <td>149999.999999</td>\n",
       "      <td>-0.215839</td>\n",
       "    </tr>\n",
       "    <tr>\n",
       "      <th>65</th>\n",
       "      <td>0xb4ae4eee0be0b8522433086172131818c1d42868fb95...</td>\n",
       "      <td>1746181031</td>\n",
       "      <td>22395473</td>\n",
       "      <td>72565.917676</td>\n",
       "      <td>{'id': '0xa0b86991c6218b36c1d19d4a2e9eb0ce3606...</td>\n",
       "      <td>0x7583b1589aDD33320366A48A92794D77763FAE9e</td>\n",
       "      <td>{'id': '0x390f3595bca2df7d23783dfd126427cceb99...</td>\n",
       "      <td>73720.267300</td>\n",
       "      <td>0xa7569A44f348d3D70d8ad5889e50F78E33d80D35</td>\n",
       "      <td>0x390f3595bCa2Df7d23783dFd126427CCeb997BF4</td>\n",
       "      <td>0xA0b86991c6218b36c1d19D4a2e9Eb0cE3606eB48</td>\n",
       "      <td>1.017142</td>\n",
       "      <td>1.000000</td>\n",
       "      <td>73809.842637</td>\n",
       "      <td>73720.267300</td>\n",
       "      <td>-0.121507</td>\n",
       "    </tr>\n",
       "    <tr>\n",
       "      <th>47</th>\n",
       "      <td>0xd0563c451348fa77eea46fa4b17aa32064713f6a0547...</td>\n",
       "      <td>1745897483</td>\n",
       "      <td>22372047</td>\n",
       "      <td>39892.996621</td>\n",
       "      <td>{'id': '0xa0b86991c6218b36c1d19d4a2e9eb0ce3606...</td>\n",
       "      <td>0x0f170e37E5E0C617148517B831A49292c38c363d</td>\n",
       "      <td>{'id': '0xdd0f28e19c1780eb6396170735d45153d261...</td>\n",
       "      <td>42760.785575</td>\n",
       "      <td>0xa7569A44f348d3D70d8ad5889e50F78E33d80D35</td>\n",
       "      <td>0xdd0f28e19C1780eb6396170735D45153D261490d</td>\n",
       "      <td>0xA0b86991c6218b36c1d19D4a2e9Eb0cE3606eB48</td>\n",
       "      <td>1.072742</td>\n",
       "      <td>1.000000</td>\n",
       "      <td>42794.892981</td>\n",
       "      <td>42760.785575</td>\n",
       "      <td>-0.079763</td>\n",
       "    </tr>\n",
       "    <tr>\n",
       "      <th>...</th>\n",
       "      <td>...</td>\n",
       "      <td>...</td>\n",
       "      <td>...</td>\n",
       "      <td>...</td>\n",
       "      <td>...</td>\n",
       "      <td>...</td>\n",
       "      <td>...</td>\n",
       "      <td>...</td>\n",
       "      <td>...</td>\n",
       "      <td>...</td>\n",
       "      <td>...</td>\n",
       "      <td>...</td>\n",
       "      <td>...</td>\n",
       "      <td>...</td>\n",
       "      <td>...</td>\n",
       "      <td>...</td>\n",
       "    </tr>\n",
       "    <tr>\n",
       "      <th>88</th>\n",
       "      <td>0x998a06402a2d42b4c5b23f2a9089378841c89833bace...</td>\n",
       "      <td>1745943479</td>\n",
       "      <td>22375858</td>\n",
       "      <td>42626.221887</td>\n",
       "      <td>{'id': '0xa0b86991c6218b36c1d19d4a2e9eb0ce3606...</td>\n",
       "      <td>0x7583b1589aDD33320366A48A92794D77763FAE9e</td>\n",
       "      <td>{'id': '0x390f3595bca2df7d23783dfd126427cceb99...</td>\n",
       "      <td>43399.473650</td>\n",
       "      <td>0xa7569A44f348d3D70d8ad5889e50F78E33d80D35</td>\n",
       "      <td>0x390f3595bCa2Df7d23783dFd126427CCeb997BF4</td>\n",
       "      <td>0xA0b86991c6218b36c1d19D4a2e9Eb0cE3606eB48</td>\n",
       "      <td>1.017219</td>\n",
       "      <td>1.000000</td>\n",
       "      <td>43360.202802</td>\n",
       "      <td>43399.473650</td>\n",
       "      <td>0.090487</td>\n",
       "    </tr>\n",
       "    <tr>\n",
       "      <th>33</th>\n",
       "      <td>0xe59412dfb0dad3fbb1a9b9deecc20a1bed4e5da0ced6...</td>\n",
       "      <td>1745207099</td>\n",
       "      <td>22314769</td>\n",
       "      <td>134365.159686</td>\n",
       "      <td>{'id': '0xa0b86991c6218b36c1d19d4a2e9eb0ce3606...</td>\n",
       "      <td>0xd7900d87069C815a299bdA7aFDcd7eEe98fe4b6c</td>\n",
       "      <td>{'id': '0x5b03cccab7ba3010fa5cad23746cbf079493...</td>\n",
       "      <td>135304.324490</td>\n",
       "      <td>0xa7569A44f348d3D70d8ad5889e50F78E33d80D35</td>\n",
       "      <td>0x5B03CcCAb7BA3010fA5CAd23746cbf0794938e96</td>\n",
       "      <td>0xA0b86991c6218b36c1d19D4a2e9Eb0cE3606eB48</td>\n",
       "      <td>1.006077</td>\n",
       "      <td>1.000000</td>\n",
       "      <td>135181.696762</td>\n",
       "      <td>135304.324490</td>\n",
       "      <td>0.090631</td>\n",
       "    </tr>\n",
       "    <tr>\n",
       "      <th>145</th>\n",
       "      <td>0x6eaeb51ad22b87b0ec0f1241c051721ff44258f6c028...</td>\n",
       "      <td>1746483407</td>\n",
       "      <td>22420454</td>\n",
       "      <td>36805.316815</td>\n",
       "      <td>{'id': '0xa0b86991c6218b36c1d19d4a2e9eb0ce3606...</td>\n",
       "      <td>0x7583b1589aDD33320366A48A92794D77763FAE9e</td>\n",
       "      <td>{'id': '0x390f3595bca2df7d23783dfd126427cceb99...</td>\n",
       "      <td>37465.624500</td>\n",
       "      <td>0xa7569A44f348d3D70d8ad5889e50F78E33d80D35</td>\n",
       "      <td>0x390f3595bCa2Df7d23783dFd126427CCeb997BF4</td>\n",
       "      <td>0xA0b86991c6218b36c1d19D4a2e9Eb0cE3606eB48</td>\n",
       "      <td>1.016991</td>\n",
       "      <td>1.000000</td>\n",
       "      <td>37430.675953</td>\n",
       "      <td>37465.624500</td>\n",
       "      <td>0.093282</td>\n",
       "    </tr>\n",
       "    <tr>\n",
       "      <th>259</th>\n",
       "      <td>0x0619a8602841faf599a0b316e83f404fbf3a7bc0c3a1...</td>\n",
       "      <td>1744501463</td>\n",
       "      <td>22256246</td>\n",
       "      <td>172726.439342</td>\n",
       "      <td>{'id': '0xa0b86991c6218b36c1d19d4a2e9eb0ce3606...</td>\n",
       "      <td>0x7583b1589aDD33320366A48A92794D77763FAE9e</td>\n",
       "      <td>{'id': '0x390f3595bca2df7d23783dfd126427cceb99...</td>\n",
       "      <td>175803.150499</td>\n",
       "      <td>0xa7569A44f348d3D70d8ad5889e50F78E33d80D35</td>\n",
       "      <td>0x390f3595bCa2Df7d23783dFd126427CCeb997BF4</td>\n",
       "      <td>0xA0b86991c6218b36c1d19D4a2e9Eb0cE3606eB48</td>\n",
       "      <td>1.016623</td>\n",
       "      <td>1.000000</td>\n",
       "      <td>175597.670943</td>\n",
       "      <td>175803.150499</td>\n",
       "      <td>0.116880</td>\n",
       "    </tr>\n",
       "    <tr>\n",
       "      <th>154</th>\n",
       "      <td>0x67618958fa10c91e18218c3c3f7eb57509e70445e898...</td>\n",
       "      <td>1743708611</td>\n",
       "      <td>22190481</td>\n",
       "      <td>100.008658</td>\n",
       "      <td>{'id': '0x9d39a5de30e57443bff2a8307a4256c8797a...</td>\n",
       "      <td>0xa7569A44f348d3D70d8ad5889e50F78E33d80D35</td>\n",
       "      <td>{'id': '0xa0b86991c6218b36c1d19d4a2e9eb0ce3606...</td>\n",
       "      <td>85.899838</td>\n",
       "      <td>0xb6E89d23d1E33537D383622B1955EbDa135c0b5A</td>\n",
       "      <td>0xA0b86991c6218b36c1d19D4a2e9Eb0cE3606eB48</td>\n",
       "      <td>0x9D39A5DE30e57443BfF2A8307A4256c8797A3497</td>\n",
       "      <td>1.000000</td>\n",
       "      <td>NaN</td>\n",
       "      <td>100.008658</td>\n",
       "      <td>NaN</td>\n",
       "      <td>NaN</td>\n",
       "    </tr>\n",
       "  </tbody>\n",
       "</table>\n",
       "<p>270 rows × 16 columns</p>\n",
       "</div>"
      ],
      "text/plain": [
       "                                       transactionHash   timestamp  \\\n",
       "240  0x1b154344809534e52c7b7293056c2ec63e61ebffcd2d...  1746330335   \n",
       "151  0x6ab3f09e6a2ec4ef83c2dbd851f3c92a10f8fd85a611...  1745457407   \n",
       "24   0xeb1d3f3839174cf5b72ed6cd395bba5d40fd6e759169...  1745813843   \n",
       "65   0xb4ae4eee0be0b8522433086172131818c1d42868fb95...  1746181031   \n",
       "47   0xd0563c451348fa77eea46fa4b17aa32064713f6a0547...  1745897483   \n",
       "..                                                 ...         ...   \n",
       "88   0x998a06402a2d42b4c5b23f2a9089378841c89833bace...  1745943479   \n",
       "33   0xe59412dfb0dad3fbb1a9b9deecc20a1bed4e5da0ced6...  1745207099   \n",
       "145  0x6eaeb51ad22b87b0ec0f1241c051721ff44258f6c028...  1746483407   \n",
       "259  0x0619a8602841faf599a0b316e83f404fbf3a7bc0c3a1...  1744501463   \n",
       "154  0x67618958fa10c91e18218c3c3f7eb57509e70445e898...  1743708611   \n",
       "\n",
       "     blockNumber  tokenInAmount  \\\n",
       "240     22407809    5474.504203   \n",
       "151     22335534  148393.790366   \n",
       "24      22365119  147615.747990   \n",
       "65      22395473   72565.917676   \n",
       "47      22372047   39892.996621   \n",
       "..           ...            ...   \n",
       "88      22375858   42626.221887   \n",
       "33      22314769  134365.159686   \n",
       "145     22420454   36805.316815   \n",
       "259     22256246  172726.439342   \n",
       "154     22190481     100.008658   \n",
       "\n",
       "                                              tokenOut  \\\n",
       "240  {'id': '0xbeef01735c132ada46aa9aa4c54623caa92a...   \n",
       "151  {'id': '0xa0b86991c6218b36c1d19d4a2e9eb0ce3606...   \n",
       "24   {'id': '0x9fb7b4477576fe5b32be4c1843afb1e55f25...   \n",
       "65   {'id': '0xa0b86991c6218b36c1d19d4a2e9eb0ce3606...   \n",
       "47   {'id': '0xa0b86991c6218b36c1d19d4a2e9eb0ce3606...   \n",
       "..                                                 ...   \n",
       "88   {'id': '0xa0b86991c6218b36c1d19d4a2e9eb0ce3606...   \n",
       "33   {'id': '0xa0b86991c6218b36c1d19d4a2e9eb0ce3606...   \n",
       "145  {'id': '0xa0b86991c6218b36c1d19d4a2e9eb0ce3606...   \n",
       "259  {'id': '0xa0b86991c6218b36c1d19d4a2e9eb0ce3606...   \n",
       "154  {'id': '0x9d39a5de30e57443bff2a8307a4256c8797a...   \n",
       "\n",
       "                           destinationInAddress  \\\n",
       "240  0x65efCF2cce562DCBf07e805eEbeDeF21Dbd8Ea3D   \n",
       "151  0x65efCF2cce562DCBf07e805eEbeDeF21Dbd8Ea3D   \n",
       "24   0x65efCF2cce562DCBf07e805eEbeDeF21Dbd8Ea3D   \n",
       "65   0x7583b1589aDD33320366A48A92794D77763FAE9e   \n",
       "47   0x0f170e37E5E0C617148517B831A49292c38c363d   \n",
       "..                                          ...   \n",
       "88   0x7583b1589aDD33320366A48A92794D77763FAE9e   \n",
       "33   0xd7900d87069C815a299bdA7aFDcd7eEe98fe4b6c   \n",
       "145  0x7583b1589aDD33320366A48A92794D77763FAE9e   \n",
       "259  0x7583b1589aDD33320366A48A92794D77763FAE9e   \n",
       "154  0xa7569A44f348d3D70d8ad5889e50F78E33d80D35   \n",
       "\n",
       "                                               tokenIn  tokenOutAmount  \\\n",
       "240  {'id': '0x4dece678ceceb27446b35c672dc7d61f30ba...     5021.109138   \n",
       "151  {'id': '0x4dece678ceceb27446b35c672dc7d61f30ba...   150000.000000   \n",
       "24   {'id': '0x4dece678ceceb27446b35c672dc7d61f30ba...   130683.763587   \n",
       "65   {'id': '0x390f3595bca2df7d23783dfd126427cceb99...    73720.267300   \n",
       "47   {'id': '0xdd0f28e19c1780eb6396170735d45153d261...    42760.785575   \n",
       "..                                                 ...             ...   \n",
       "88   {'id': '0x390f3595bca2df7d23783dfd126427cceb99...    43399.473650   \n",
       "33   {'id': '0x5b03cccab7ba3010fa5cad23746cbf079493...   135304.324490   \n",
       "145  {'id': '0x390f3595bca2df7d23783dfd126427cceb99...    37465.624500   \n",
       "259  {'id': '0x390f3595bca2df7d23783dfd126427cceb99...   175803.150499   \n",
       "154  {'id': '0xa0b86991c6218b36c1d19d4a2e9eb0ce3606...       85.899838   \n",
       "\n",
       "                          destinationOutAddress  \\\n",
       "240  0xC5c95fCad37E466E25e6ecA1977bbF75C0E1004a   \n",
       "151  0xa7569A44f348d3D70d8ad5889e50F78E33d80D35   \n",
       "24   0x7876F91BB22148345b3De16af9448081E9853830   \n",
       "65   0xa7569A44f348d3D70d8ad5889e50F78E33d80D35   \n",
       "47   0xa7569A44f348d3D70d8ad5889e50F78E33d80D35   \n",
       "..                                          ...   \n",
       "88   0xa7569A44f348d3D70d8ad5889e50F78E33d80D35   \n",
       "33   0xa7569A44f348d3D70d8ad5889e50F78E33d80D35   \n",
       "145  0xa7569A44f348d3D70d8ad5889e50F78E33d80D35   \n",
       "259  0xa7569A44f348d3D70d8ad5889e50F78E33d80D35   \n",
       "154  0xb6E89d23d1E33537D383622B1955EbDa135c0b5A   \n",
       "\n",
       "                                 tokenInAddress  \\\n",
       "240  0x4DEcE678ceceb27446b35C672dC7d61F30bAD69E   \n",
       "151  0x4DEcE678ceceb27446b35C672dC7d61F30bAD69E   \n",
       "24   0x4DEcE678ceceb27446b35C672dC7d61F30bAD69E   \n",
       "65   0x390f3595bCa2Df7d23783dFd126427CCeb997BF4   \n",
       "47   0xdd0f28e19C1780eb6396170735D45153D261490d   \n",
       "..                                          ...   \n",
       "88   0x390f3595bCa2Df7d23783dFd126427CCeb997BF4   \n",
       "33   0x5B03CcCAb7BA3010fA5CAd23746cbf0794938e96   \n",
       "145  0x390f3595bCa2Df7d23783dFd126427CCeb997BF4   \n",
       "259  0x390f3595bCa2Df7d23783dFd126427CCeb997BF4   \n",
       "154  0xA0b86991c6218b36c1d19D4a2e9Eb0cE3606eB48   \n",
       "\n",
       "                                tokenOutAddress  lp_token_in_spot_price  \\\n",
       "240  0xBEEF01735c132Ada46AA9aA4c54623cAA92A64CB                1.018368   \n",
       "151  0xA0b86991c6218b36c1d19D4a2e9Eb0cE3606eB48                1.018319   \n",
       "24   0x9Fb7b4477576Fe5B32be4C1843aFB1e55F251B33                1.018345   \n",
       "65   0xA0b86991c6218b36c1d19D4a2e9Eb0cE3606eB48                1.017142   \n",
       "47   0xA0b86991c6218b36c1d19D4a2e9Eb0cE3606eB48                1.072742   \n",
       "..                                          ...                     ...   \n",
       "88   0xA0b86991c6218b36c1d19D4a2e9Eb0cE3606eB48                1.017219   \n",
       "33   0xA0b86991c6218b36c1d19D4a2e9Eb0cE3606eB48                1.006077   \n",
       "145  0xA0b86991c6218b36c1d19D4a2e9Eb0cE3606eB48                1.016991   \n",
       "259  0xA0b86991c6218b36c1d19D4a2e9Eb0cE3606eB48                1.016623   \n",
       "154  0x9D39A5DE30e57443BfF2A8307A4256c8797A3497                1.000000   \n",
       "\n",
       "     lp_token_out_spot_price  spot_value_in  spot_value_out  slippage  \n",
       "240                 1.083027    5575.059896     5437.996766 -2.520471  \n",
       "151                 1.000000  151112.216211   150000.000000 -0.741477  \n",
       "24                  1.147809  150323.758887   149999.999999 -0.215839  \n",
       "65                  1.000000   73809.842637    73720.267300 -0.121507  \n",
       "47                  1.000000   42794.892981    42760.785575 -0.079763  \n",
       "..                       ...            ...             ...       ...  \n",
       "88                  1.000000   43360.202802    43399.473650  0.090487  \n",
       "33                  1.000000  135181.696762   135304.324490  0.090631  \n",
       "145                 1.000000   37430.675953    37465.624500  0.093282  \n",
       "259                 1.000000  175597.670943   175803.150499  0.116880  \n",
       "154                      NaN     100.008658             NaN       NaN  \n",
       "\n",
       "[270 rows x 16 columns]"
      ]
     },
     "execution_count": 4,
     "metadata": {},
     "output_type": "execute_result"
    }
   ],
   "source": [
    "\n",
    "import plotly .express as px\n",
    "\n",
    "\n",
    "\n",
    "df1.sort_values(')"
   ]
  },
  {
   "cell_type": "code",
   "execution_count": 5,
   "metadata": {},
   "outputs": [],
   "source": [
    "df1[\n",
    "    [\n",
    "        \"transactionHash\",\n",
    "        \"timestamp\",\n",
    "        \"blockNumber\",\n",
    "        \"tokenInAmount\",\n",
    "        \"destinationInAddress\",\n",
    "        \"tokenOutAmount\",\n",
    "        \"destinationOutAddress\",\n",
    "        \"tokenInAddress\",\n",
    "        \"tokenOutAddress\",\n",
    "        \"lp_token_in_spot_price\",\n",
    "        \"lp_token_out_spot_price\",\n",
    "        \"spot_value_in\",\n",
    "        \"spot_value_out\",\n",
    "        \"slippage\",\n",
    "    ]\n",
    "].to_csv(\"autoUSD_slippage.csv\")"
   ]
  },
  {
   "cell_type": "code",
   "execution_count": 6,
   "metadata": {},
   "outputs": [
    {
     "data": {
      "text/plain": [
       "0      False\n",
       "1      False\n",
       "2       True\n",
       "3      False\n",
       "4      False\n",
       "       ...  \n",
       "265    False\n",
       "266    False\n",
       "267     True\n",
       "268    False\n",
       "269    False\n",
       "Name: slippage, Length: 270, dtype: bool"
      ]
     },
     "execution_count": 6,
     "metadata": {},
     "output_type": "execute_result"
    }
   ],
   "source": [
    "df1[\"slippage\"] < 0"
   ]
  },
  {
   "cell_type": "code",
   "execution_count": 7,
   "metadata": {},
   "outputs": [
    {
     "data": {
      "text/plain": [
       "0      0.061047\n",
       "1      0.057945\n",
       "2     -0.001664\n",
       "3      0.001842\n",
       "4      0.051779\n",
       "         ...   \n",
       "265    0.035254\n",
       "266    0.000746\n",
       "267   -0.016776\n",
       "268    0.003273\n",
       "269    0.073613\n",
       "Name: slippage, Length: 270, dtype: float64"
      ]
     },
     "execution_count": 7,
     "metadata": {},
     "output_type": "execute_result"
    }
   ],
   "source": [
    "df1[\"slippage\"]"
   ]
  },
  {
   "cell_type": "code",
   "execution_count": 24,
   "metadata": {},
   "outputs": [
    {
     "data": {
      "application/vnd.plotly.v1+json": {
       "config": {
        "plotlyServerURL": "https://plot.ly"
       },
       "data": [
        {
         "alignmentgroup": "True",
         "bingroup": "x",
         "hovertemplate": "variable=swap_cost<br>value=%{x}<br>count=%{y}<extra></extra>",
         "legendgroup": "swap_cost",
         "marker": {
          "color": "#636efa",
          "pattern": {
           "shape": ""
          }
         },
         "name": "swap_cost",
         "offsetgroup": "swap_cost",
         "orientation": "v",
         "showlegend": true,
         "type": "histogram",
         "x": [
          91.56997695445898,
          86.91798102541361,
          -5.7789200419792905,
          3.1310817976191174,
          258.89475428755395,
          66.80571471716394,
          -19.820743540738476,
          -0.01787731058720965,
          35.752670072412,
          73.8520680287038,
          0.0030407331651076674,
          20.171701851082616,
          44.63990095735062,
          21.23177269921871,
          2.0521050737479527,
          -19.228681361943018,
          -12.33607423430658,
          -28.770401752204634,
          2.3993049361597514,
          95.97380367614096,
          10.812679809634574,
          3.7088147985159594,
          74.61636837813421,
          27.31711081526737,
          -323.75888777323416,
          3.1009501011249085,
          13.87681760770647,
          11.276937305781757,
          39.59104723791825,
          44.1549575808458,
          45.55068874283461,
          55.76657119698939,
          47.547163260693196,
          122.62772848209715,
          16.93992260689265,
          76.58223767184245,
          -4.710360008262796,
          -1.909807788033504,
          102.36799445853103,
          100.92542530968785,
          8.917006738731288,
          51.23246942795231,
          59.18575640526251,
          105.1065915429499,
          1.0848712631341186,
          20.7178128229134,
          8.26936845574528,
          -34.10740642785822,
          86.71424590831157,
          -33.64683560683625,
          3.5963479960992117,
          4.219430489189108,
          142.32966819935245,
          18.542428657761775,
          33.59460350262816,
          78.27051835079328,
          5.417235905304551,
          10.73042201242788,
          38.6409998225281,
          81.29437710155617,
          17.821142487518955,
          35.42451846359472,
          15.572261323977727,
          130.91323404412833,
          7.141250757005764,
          -89.57533720893844,
          2.509145440246357,
          3.033039090798411,
          4.944841653603362,
          -5.391364358911233,
          73.54959233375848,
          0.040046664798865095,
          55.00910375226522,
          125.90686218996416,
          45.46533219583216,
          -68.47751558283926,
          108.29020490663243,
          103.79398622692679,
          22.312407442339463,
          8.080872432838078,
          130.53362417098833,
          58.78809258520778,
          -27.238062970136525,
          52.560575550072826,
          32.118441647151485,
          71.24632693530293,
          -57.408692395474645,
          8.161297908460256,
          39.270848162639595,
          140.42662834070507,
          73.513391352084,
          8.256142992686364,
          29.377386229636613,
          0.03030538570601493,
          -6.750798705812485,
          20.27460575872101,
          15.412159733910812,
          3.9009140005073277,
          55.066535846621264,
          96.61384114492103,
          97.86111697182059,
          1.0764470377871476,
          23.531516402596026,
          9.704157090887747,
          125.37305754760746,
          6.824409853172256,
          33.19336709094932,
          -1.510857937100809,
          94.05090113848564,
          88.48782606577151,
          -1.2125112639278086,
          -10.278667162063357,
          4.640680408338085,
          28.632058886600134,
          -3.342303019053361,
          22.8424881023966,
          1.7766130061645526,
          67.41253268146829,
          0.01987506085424684,
          15.470801394607406,
          13.682266267729574,
          85.05014343827497,
          1.8654734867541265,
          30.566068141633878,
          12.093752663233317,
          116.09677418938372,
          -8.487531676597428,
          -2.654275311753736,
          132.98144414066337,
          43.225590745249065,
          89.63010948398733,
          0.00573094877472613,
          10.47671712697047,
          3.2006601362809306,
          132.8686328000913,
          305.83090774482116,
          85.67197081143968,
          18.522908844883204,
          6.615881542893476,
          -21.01828442371334,
          -2.015486644788325,
          -3.645484296928771,
          9.28003354241082,
          35.2609812929004,
          2.9776804808934685,
          34.94854708382627,
          35.428145074576605,
          27.349725085077807,
          68.4351576485933,
          29.887485498707974,
          18.704815151315415,
          -1112.2162112730439,
          24.718954802898224,
          12.96394858477288,
          null,
          -5.210033646457305,
          22.671104218490655,
          58.42361714794242,
          2.6123273529374273,
          25.673874903892283,
          85.99232699925778,
          69.59189890854759,
          -25.470292406331282,
          183.43467435316416,
          106.2023797731963,
          0.32358499900146853,
          44.81595887502772,
          5.091896836645901,
          8.612137537020317,
          7.423013391147833,
          15.273755410307785,
          2.652013700263524,
          -9.58389630142483,
          9.528871518268716,
          6.994301555241691,
          98.86166746981326,
          0.025546463592419855,
          3.57730696057115,
          39.25502168767707,
          10.409383529491606,
          29.54602771543432,
          -0.07008943242544774,
          -5.358273186648148,
          182.63897609591368,
          103.30710348338471,
          145.49286566700903,
          -49.22777684836183,
          163.77576143544866,
          -168.61894124001265,
          190.80843514151638,
          89.45387334338739,
          40.280143986979965,
          33.84320810250938,
          77.41040117575903,
          7.441788984018785,
          10.354953138201381,
          -1.5034229918092024,
          7.633161670739355,
          141.90615224215435,
          83.11277898956905,
          52.787267322448315,
          4.067521866003517,
          1.5178535478589765,
          -99.73055517207831,
          9.635690976676415,
          67.51458446957986,
          10.495494375645649,
          -0.020187953472486697,
          -7.415792139217956,
          6.162487742265512,
          50.29966980507015,
          73.80234816274606,
          131.00979941061814,
          5.74963685424882,
          75.13137103244662,
          3.6982320848946983,
          92.74409362970619,
          87.9315549946914,
          23.40879091474926,
          -6.0083347046529525,
          -0.03016355392173864,
          135.8666742091009,
          3.8871203600974695,
          45.86171046990785,
          58.956788149283966,
          9.225732362712733,
          117.89106544377864,
          57.29396271740552,
          98.50301524822135,
          105.99100766624906,
          8.799996836067294,
          0.028238349346793257,
          7.233088320470415,
          -156.29370558308437,
          9.370364915565006,
          59.53071807420929,
          147.5713751061994,
          98.61719568434637,
          -67.52321284561185,
          114.14578412281116,
          -137.0631294848472,
          27.626074986437743,
          172.44528040871955,
          11.626600521281944,
          7.201276250343653,
          -5.661657681572251,
          0.7355119857384125,
          23.676381318247877,
          75.6731017807906,
          16.45610771109932,
          51.87670853933378,
          3.6471910554573697,
          23.567506144201616,
          7.4751152360549895,
          63.442512339388486,
          8.037341705014114,
          55.26871906942688,
          11.50081656135444,
          96.54553926043445,
          205.4795557942416,
          94.14372450357769,
          -11.78519214107655,
          96.96523108740803,
          8.82307725634746,
          17.59931498104561,
          27.384771913886652,
          0.20187154056839063,
          -25.16343988580047,
          4.9092704239010345,
          147.22583882627077
         ],
         "xaxis": "x",
         "yaxis": "y"
        }
       ],
       "layout": {
        "barmode": "relative",
        "legend": {
         "title": {
          "text": "variable"
         },
         "tracegroupgap": 0
        },
        "template": {
         "data": {
          "bar": [
           {
            "error_x": {
             "color": "#2a3f5f"
            },
            "error_y": {
             "color": "#2a3f5f"
            },
            "marker": {
             "line": {
              "color": "#E5ECF6",
              "width": 0.5
             },
             "pattern": {
              "fillmode": "overlay",
              "size": 10,
              "solidity": 0.2
             }
            },
            "type": "bar"
           }
          ],
          "barpolar": [
           {
            "marker": {
             "line": {
              "color": "#E5ECF6",
              "width": 0.5
             },
             "pattern": {
              "fillmode": "overlay",
              "size": 10,
              "solidity": 0.2
             }
            },
            "type": "barpolar"
           }
          ],
          "carpet": [
           {
            "aaxis": {
             "endlinecolor": "#2a3f5f",
             "gridcolor": "white",
             "linecolor": "white",
             "minorgridcolor": "white",
             "startlinecolor": "#2a3f5f"
            },
            "baxis": {
             "endlinecolor": "#2a3f5f",
             "gridcolor": "white",
             "linecolor": "white",
             "minorgridcolor": "white",
             "startlinecolor": "#2a3f5f"
            },
            "type": "carpet"
           }
          ],
          "choropleth": [
           {
            "colorbar": {
             "outlinewidth": 0,
             "ticks": ""
            },
            "type": "choropleth"
           }
          ],
          "contour": [
           {
            "colorbar": {
             "outlinewidth": 0,
             "ticks": ""
            },
            "colorscale": [
             [
              0,
              "#0d0887"
             ],
             [
              0.1111111111111111,
              "#46039f"
             ],
             [
              0.2222222222222222,
              "#7201a8"
             ],
             [
              0.3333333333333333,
              "#9c179e"
             ],
             [
              0.4444444444444444,
              "#bd3786"
             ],
             [
              0.5555555555555556,
              "#d8576b"
             ],
             [
              0.6666666666666666,
              "#ed7953"
             ],
             [
              0.7777777777777778,
              "#fb9f3a"
             ],
             [
              0.8888888888888888,
              "#fdca26"
             ],
             [
              1,
              "#f0f921"
             ]
            ],
            "type": "contour"
           }
          ],
          "contourcarpet": [
           {
            "colorbar": {
             "outlinewidth": 0,
             "ticks": ""
            },
            "type": "contourcarpet"
           }
          ],
          "heatmap": [
           {
            "colorbar": {
             "outlinewidth": 0,
             "ticks": ""
            },
            "colorscale": [
             [
              0,
              "#0d0887"
             ],
             [
              0.1111111111111111,
              "#46039f"
             ],
             [
              0.2222222222222222,
              "#7201a8"
             ],
             [
              0.3333333333333333,
              "#9c179e"
             ],
             [
              0.4444444444444444,
              "#bd3786"
             ],
             [
              0.5555555555555556,
              "#d8576b"
             ],
             [
              0.6666666666666666,
              "#ed7953"
             ],
             [
              0.7777777777777778,
              "#fb9f3a"
             ],
             [
              0.8888888888888888,
              "#fdca26"
             ],
             [
              1,
              "#f0f921"
             ]
            ],
            "type": "heatmap"
           }
          ],
          "heatmapgl": [
           {
            "colorbar": {
             "outlinewidth": 0,
             "ticks": ""
            },
            "colorscale": [
             [
              0,
              "#0d0887"
             ],
             [
              0.1111111111111111,
              "#46039f"
             ],
             [
              0.2222222222222222,
              "#7201a8"
             ],
             [
              0.3333333333333333,
              "#9c179e"
             ],
             [
              0.4444444444444444,
              "#bd3786"
             ],
             [
              0.5555555555555556,
              "#d8576b"
             ],
             [
              0.6666666666666666,
              "#ed7953"
             ],
             [
              0.7777777777777778,
              "#fb9f3a"
             ],
             [
              0.8888888888888888,
              "#fdca26"
             ],
             [
              1,
              "#f0f921"
             ]
            ],
            "type": "heatmapgl"
           }
          ],
          "histogram": [
           {
            "marker": {
             "pattern": {
              "fillmode": "overlay",
              "size": 10,
              "solidity": 0.2
             }
            },
            "type": "histogram"
           }
          ],
          "histogram2d": [
           {
            "colorbar": {
             "outlinewidth": 0,
             "ticks": ""
            },
            "colorscale": [
             [
              0,
              "#0d0887"
             ],
             [
              0.1111111111111111,
              "#46039f"
             ],
             [
              0.2222222222222222,
              "#7201a8"
             ],
             [
              0.3333333333333333,
              "#9c179e"
             ],
             [
              0.4444444444444444,
              "#bd3786"
             ],
             [
              0.5555555555555556,
              "#d8576b"
             ],
             [
              0.6666666666666666,
              "#ed7953"
             ],
             [
              0.7777777777777778,
              "#fb9f3a"
             ],
             [
              0.8888888888888888,
              "#fdca26"
             ],
             [
              1,
              "#f0f921"
             ]
            ],
            "type": "histogram2d"
           }
          ],
          "histogram2dcontour": [
           {
            "colorbar": {
             "outlinewidth": 0,
             "ticks": ""
            },
            "colorscale": [
             [
              0,
              "#0d0887"
             ],
             [
              0.1111111111111111,
              "#46039f"
             ],
             [
              0.2222222222222222,
              "#7201a8"
             ],
             [
              0.3333333333333333,
              "#9c179e"
             ],
             [
              0.4444444444444444,
              "#bd3786"
             ],
             [
              0.5555555555555556,
              "#d8576b"
             ],
             [
              0.6666666666666666,
              "#ed7953"
             ],
             [
              0.7777777777777778,
              "#fb9f3a"
             ],
             [
              0.8888888888888888,
              "#fdca26"
             ],
             [
              1,
              "#f0f921"
             ]
            ],
            "type": "histogram2dcontour"
           }
          ],
          "mesh3d": [
           {
            "colorbar": {
             "outlinewidth": 0,
             "ticks": ""
            },
            "type": "mesh3d"
           }
          ],
          "parcoords": [
           {
            "line": {
             "colorbar": {
              "outlinewidth": 0,
              "ticks": ""
             }
            },
            "type": "parcoords"
           }
          ],
          "pie": [
           {
            "automargin": true,
            "type": "pie"
           }
          ],
          "scatter": [
           {
            "fillpattern": {
             "fillmode": "overlay",
             "size": 10,
             "solidity": 0.2
            },
            "type": "scatter"
           }
          ],
          "scatter3d": [
           {
            "line": {
             "colorbar": {
              "outlinewidth": 0,
              "ticks": ""
             }
            },
            "marker": {
             "colorbar": {
              "outlinewidth": 0,
              "ticks": ""
             }
            },
            "type": "scatter3d"
           }
          ],
          "scattercarpet": [
           {
            "marker": {
             "colorbar": {
              "outlinewidth": 0,
              "ticks": ""
             }
            },
            "type": "scattercarpet"
           }
          ],
          "scattergeo": [
           {
            "marker": {
             "colorbar": {
              "outlinewidth": 0,
              "ticks": ""
             }
            },
            "type": "scattergeo"
           }
          ],
          "scattergl": [
           {
            "marker": {
             "colorbar": {
              "outlinewidth": 0,
              "ticks": ""
             }
            },
            "type": "scattergl"
           }
          ],
          "scattermapbox": [
           {
            "marker": {
             "colorbar": {
              "outlinewidth": 0,
              "ticks": ""
             }
            },
            "type": "scattermapbox"
           }
          ],
          "scatterpolar": [
           {
            "marker": {
             "colorbar": {
              "outlinewidth": 0,
              "ticks": ""
             }
            },
            "type": "scatterpolar"
           }
          ],
          "scatterpolargl": [
           {
            "marker": {
             "colorbar": {
              "outlinewidth": 0,
              "ticks": ""
             }
            },
            "type": "scatterpolargl"
           }
          ],
          "scatterternary": [
           {
            "marker": {
             "colorbar": {
              "outlinewidth": 0,
              "ticks": ""
             }
            },
            "type": "scatterternary"
           }
          ],
          "surface": [
           {
            "colorbar": {
             "outlinewidth": 0,
             "ticks": ""
            },
            "colorscale": [
             [
              0,
              "#0d0887"
             ],
             [
              0.1111111111111111,
              "#46039f"
             ],
             [
              0.2222222222222222,
              "#7201a8"
             ],
             [
              0.3333333333333333,
              "#9c179e"
             ],
             [
              0.4444444444444444,
              "#bd3786"
             ],
             [
              0.5555555555555556,
              "#d8576b"
             ],
             [
              0.6666666666666666,
              "#ed7953"
             ],
             [
              0.7777777777777778,
              "#fb9f3a"
             ],
             [
              0.8888888888888888,
              "#fdca26"
             ],
             [
              1,
              "#f0f921"
             ]
            ],
            "type": "surface"
           }
          ],
          "table": [
           {
            "cells": {
             "fill": {
              "color": "#EBF0F8"
             },
             "line": {
              "color": "white"
             }
            },
            "header": {
             "fill": {
              "color": "#C8D4E3"
             },
             "line": {
              "color": "white"
             }
            },
            "type": "table"
           }
          ]
         },
         "layout": {
          "annotationdefaults": {
           "arrowcolor": "#2a3f5f",
           "arrowhead": 0,
           "arrowwidth": 1
          },
          "autotypenumbers": "strict",
          "coloraxis": {
           "colorbar": {
            "outlinewidth": 0,
            "ticks": ""
           }
          },
          "colorscale": {
           "diverging": [
            [
             0,
             "#8e0152"
            ],
            [
             0.1,
             "#c51b7d"
            ],
            [
             0.2,
             "#de77ae"
            ],
            [
             0.3,
             "#f1b6da"
            ],
            [
             0.4,
             "#fde0ef"
            ],
            [
             0.5,
             "#f7f7f7"
            ],
            [
             0.6,
             "#e6f5d0"
            ],
            [
             0.7,
             "#b8e186"
            ],
            [
             0.8,
             "#7fbc41"
            ],
            [
             0.9,
             "#4d9221"
            ],
            [
             1,
             "#276419"
            ]
           ],
           "sequential": [
            [
             0,
             "#0d0887"
            ],
            [
             0.1111111111111111,
             "#46039f"
            ],
            [
             0.2222222222222222,
             "#7201a8"
            ],
            [
             0.3333333333333333,
             "#9c179e"
            ],
            [
             0.4444444444444444,
             "#bd3786"
            ],
            [
             0.5555555555555556,
             "#d8576b"
            ],
            [
             0.6666666666666666,
             "#ed7953"
            ],
            [
             0.7777777777777778,
             "#fb9f3a"
            ],
            [
             0.8888888888888888,
             "#fdca26"
            ],
            [
             1,
             "#f0f921"
            ]
           ],
           "sequentialminus": [
            [
             0,
             "#0d0887"
            ],
            [
             0.1111111111111111,
             "#46039f"
            ],
            [
             0.2222222222222222,
             "#7201a8"
            ],
            [
             0.3333333333333333,
             "#9c179e"
            ],
            [
             0.4444444444444444,
             "#bd3786"
            ],
            [
             0.5555555555555556,
             "#d8576b"
            ],
            [
             0.6666666666666666,
             "#ed7953"
            ],
            [
             0.7777777777777778,
             "#fb9f3a"
            ],
            [
             0.8888888888888888,
             "#fdca26"
            ],
            [
             1,
             "#f0f921"
            ]
           ]
          },
          "colorway": [
           "#636efa",
           "#EF553B",
           "#00cc96",
           "#ab63fa",
           "#FFA15A",
           "#19d3f3",
           "#FF6692",
           "#B6E880",
           "#FF97FF",
           "#FECB52"
          ],
          "font": {
           "color": "#2a3f5f"
          },
          "geo": {
           "bgcolor": "white",
           "lakecolor": "white",
           "landcolor": "#E5ECF6",
           "showlakes": true,
           "showland": true,
           "subunitcolor": "white"
          },
          "hoverlabel": {
           "align": "left"
          },
          "hovermode": "closest",
          "mapbox": {
           "style": "light"
          },
          "paper_bgcolor": "white",
          "plot_bgcolor": "#E5ECF6",
          "polar": {
           "angularaxis": {
            "gridcolor": "white",
            "linecolor": "white",
            "ticks": ""
           },
           "bgcolor": "#E5ECF6",
           "radialaxis": {
            "gridcolor": "white",
            "linecolor": "white",
            "ticks": ""
           }
          },
          "scene": {
           "xaxis": {
            "backgroundcolor": "#E5ECF6",
            "gridcolor": "white",
            "gridwidth": 2,
            "linecolor": "white",
            "showbackground": true,
            "ticks": "",
            "zerolinecolor": "white"
           },
           "yaxis": {
            "backgroundcolor": "#E5ECF6",
            "gridcolor": "white",
            "gridwidth": 2,
            "linecolor": "white",
            "showbackground": true,
            "ticks": "",
            "zerolinecolor": "white"
           },
           "zaxis": {
            "backgroundcolor": "#E5ECF6",
            "gridcolor": "white",
            "gridwidth": 2,
            "linecolor": "white",
            "showbackground": true,
            "ticks": "",
            "zerolinecolor": "white"
           }
          },
          "shapedefaults": {
           "line": {
            "color": "#2a3f5f"
           }
          },
          "ternary": {
           "aaxis": {
            "gridcolor": "white",
            "linecolor": "white",
            "ticks": ""
           },
           "baxis": {
            "gridcolor": "white",
            "linecolor": "white",
            "ticks": ""
           },
           "bgcolor": "#E5ECF6",
           "caxis": {
            "gridcolor": "white",
            "linecolor": "white",
            "ticks": ""
           }
          },
          "title": {
           "x": 0.05
          },
          "xaxis": {
           "automargin": true,
           "gridcolor": "white",
           "linecolor": "white",
           "ticks": "",
           "title": {
            "standoff": 15
           },
           "zerolinecolor": "white",
           "zerolinewidth": 2
          },
          "yaxis": {
           "automargin": true,
           "gridcolor": "white",
           "linecolor": "white",
           "ticks": "",
           "title": {
            "standoff": 15
           },
           "zerolinecolor": "white",
           "zerolinewidth": 2
          }
         }
        },
        "title": {
         "text": "autoUSD slippage"
        },
        "xaxis": {
         "anchor": "y",
         "domain": [
          0,
          1
         ],
         "title": {
          "text": "value"
         }
        },
        "yaxis": {
         "anchor": "x",
         "domain": [
          0,
          1
         ],
         "title": {
          "text": "count"
         }
        }
       }
      }
     },
     "metadata": {},
     "output_type": "display_data"
    }
   ],
   "source": [
    "px.histogram(df1[\"swap_cost\"], title=\"autoUSD slippage\")"
   ]
  },
  {
   "cell_type": "code",
   "execution_count": 9,
   "metadata": {},
   "outputs": [
    {
     "data": {
      "application/vnd.microsoft.datawrangler.viewer.v0+json": {
       "columns": [
        {
         "name": "index",
         "rawType": "int64",
         "type": "integer"
        },
        {
         "name": "block",
         "rawType": "int64",
         "type": "integer"
        },
        {
         "name": "lp_token_spot_price",
         "rawType": "float64",
         "type": "float"
        },
        {
         "name": "destination_vault_address",
         "rawType": "object",
         "type": "string"
        },
        {
         "name": "underlying_symbol",
         "rawType": "object",
         "type": "string"
        },
        {
         "name": "total_nav",
         "rawType": "float64",
         "type": "float"
        }
       ],
       "conversionMethod": "pd.DataFrame",
       "ref": "03d2efdf-3457-42d8-8e43-5fc2c7bf80b1",
       "rows": [
        [
         "0",
         "22253035",
         "1.002066207025152",
         "0x3772973f8F399D74488D5cF3276C032E0afC8A6f",
         "OETHCRV-f",
         "7.916050657956e-06"
        ],
        [
         "1",
         "22254021",
         "1.002066176291102",
         "0x3772973f8F399D74488D5cF3276C032E0afC8A6f",
         "OETHCRV-f",
         "7.916251329158e-06"
        ],
        [
         "2",
         "22254610",
         "1.002066176291102",
         "0x3772973f8F399D74488D5cF3276C032E0afC8A6f",
         "OETHCRV-f",
         "7.95816107303e-06"
        ],
        [
         "3",
         "22255051",
         "1.0020661932199735",
         "0x3772973f8F399D74488D5cF3276C032E0afC8A6f",
         "OETHCRV-f",
         "7.958155459272e-06"
        ],
        [
         "4",
         "22255509",
         "1.002066188973705",
         "0x3772973f8F399D74488D5cF3276C032E0afC8A6f",
         "OETHCRV-f",
         "7.978149749459e-06"
        ],
        [
         "5",
         "22255877",
         "1.0020662508367586",
         "0x3772973f8F399D74488D5cF3276C032E0afC8A6f",
         "OETHCRV-f",
         "7.986245906056e-06"
        ],
        [
         "6",
         "22256246",
         "1.0020662663108233",
         "0x3772973f8F399D74488D5cF3276C032E0afC8A6f",
         "OETHCRV-f",
         "7.985489289339e-06"
        ],
        [
         "7",
         "22260359",
         "1.0020733132087565",
         "0x3772973f8F399D74488D5cF3276C032E0afC8A6f",
         "OETHCRV-f",
         "8.008428823819e-06"
        ],
        [
         "8",
         "22260800",
         "1.002073346149938",
         "0x3772973f8F399D74488D5cF3276C032E0afC8A6f",
         "OETHCRV-f",
         "8.02300671504e-06"
        ],
        [
         "9",
         "22262088",
         "1.0020733336973096",
         "0x3772973f8F399D74488D5cF3276C032E0afC8A6f",
         "OETHCRV-f",
         "8.042049303857e-06"
        ],
        [
         "10",
         "22265677",
         "1.0020413619525215",
         "0x3772973f8F399D74488D5cF3276C032E0afC8A6f",
         "OETHCRV-f",
         "8.610101169251e-06"
        ],
        [
         "11",
         "22267467",
         "1.0020412238152452",
         "0x3772973f8F399D74488D5cF3276C032E0afC8A6f",
         "OETHCRV-f",
         "8.811772484137e-06"
        ],
        [
         "12",
         "22268078",
         "1.0020412592821175",
         "0x3772973f8F399D74488D5cF3276C032E0afC8A6f",
         "OETHCRV-f",
         "8.812130777528e-06"
        ],
        [
         "13",
         "22268408",
         "1.0020412810742803",
         "0x3772973f8F399D74488D5cF3276C032E0afC8A6f",
         "OETHCRV-f",
         "9.186872349194e-06"
        ],
        [
         "14",
         "22268729",
         "1.0020413489484734",
         "0x3772973f8F399D74488D5cF3276C032E0afC8A6f",
         "OETHCRV-f",
         "9.18669534164e-06"
        ],
        [
         "15",
         "22269099",
         "1.0020414082773086",
         "0x3772973f8F399D74488D5cF3276C032E0afC8A6f",
         "OETHCRV-f",
         "9.527394747183e-06"
        ],
        [
         "16",
         "22269467",
         "1.0020414204625323",
         "0x3772973f8F399D74488D5cF3276C032E0afC8A6f",
         "OETHCRV-f",
         "9.590866028861e-06"
        ],
        [
         "17",
         "22269995",
         "1.0020414304077363",
         "0x3772973f8F399D74488D5cF3276C032E0afC8A6f",
         "OETHCRV-f",
         "9.730738170493e-06"
        ],
        [
         "18",
         "22270944",
         "1.0020533909881875",
         "0x3772973f8F399D74488D5cF3276C032E0afC8A6f",
         "OETHCRV-f",
         "1.0034658380998e-05"
        ],
        [
         "19",
         "22271256",
         "1.0020534041428935",
         "0x3772973f8F399D74488D5cF3276C032E0afC8A6f",
         "OETHCRV-f",
         "1.0101337754854e-05"
        ],
        [
         "20",
         "22248632",
         "1.002090601337939",
         "0x3772973f8F399D74488D5cF3276C032E0afC8A6f",
         "OETHCRV-f",
         "7.496300542413e-06"
        ],
        [
         "21",
         "22251238",
         "1.002066799256381",
         "0x3772973f8F399D74488D5cF3276C032E0afC8A6f",
         "OETHCRV-f",
         "7.886038667359e-06"
        ],
        [
         "22",
         "22251626",
         "1.0020667613717658",
         "0x3772973f8F399D74488D5cF3276C032E0afC8A6f",
         "OETHCRV-f",
         "7.88627871954e-06"
        ],
        [
         "23",
         "22251996",
         "1.0020667483396015",
         "0x3772973f8F399D74488D5cF3276C032E0afC8A6f",
         "OETHCRV-f",
         "7.886356044876e-06"
        ],
        [
         "24",
         "22252365",
         "1.0020667483396015",
         "0x3772973f8F399D74488D5cF3276C032E0afC8A6f",
         "OETHCRV-f",
         "7.886604592531e-06"
        ],
        [
         "25",
         "22190481",
         "1.0232620169593094",
         "0xdfE3fA7027E84f59b266459C567278C79fe86f0C",
         "ETHx/wstETH",
         "1.02013599031e-07"
        ],
        [
         "26",
         "22191759",
         "1.0232548186522632",
         "0xdfE3fA7027E84f59b266459C567278C79fe86f0C",
         "ETHx/wstETH",
         "1.02013565914e-07"
        ],
        [
         "27",
         "22196597",
         "1.0231027747705137",
         "0xdfE3fA7027E84f59b266459C567278C79fe86f0C",
         "ETHx/wstETH",
         "1.02014465411e-07"
        ],
        [
         "28",
         "22196965",
         "1.0231027704152797",
         "0xdfE3fA7027E84f59b266459C567278C79fe86f0C",
         "ETHx/wstETH",
         "1.02010257434e-07"
        ],
        [
         "29",
         "22197502",
         "1.0233006574442862",
         "0xdfE3fA7027E84f59b266459C567278C79fe86f0C",
         "ETHx/wstETH",
         "1.02011947134e-07"
        ],
        [
         "30",
         "22198433",
         "1.0233016747840056",
         "0xdfE3fA7027E84f59b266459C567278C79fe86f0C",
         "ETHx/wstETH",
         "1.02010636495e-07"
        ],
        [
         "31",
         "22199261",
         "1.0233016747840056",
         "0xdfE3fA7027E84f59b266459C567278C79fe86f0C",
         "ETHx/wstETH",
         "1.02009931979e-07"
        ],
        [
         "32",
         "22200224",
         "1.0233016747840056",
         "0xdfE3fA7027E84f59b266459C567278C79fe86f0C",
         "ETHx/wstETH",
         "1.02015012595e-07"
        ],
        [
         "33",
         "22213896",
         "1.0229433673755768",
         "0xdfE3fA7027E84f59b266459C567278C79fe86f0C",
         "ETHx/wstETH",
         "1.0199306762e-07"
        ],
        [
         "34",
         "22225549",
         "1.022525691638438",
         "0xdfE3fA7027E84f59b266459C567278C79fe86f0C",
         "ETHx/wstETH",
         "1.02000880113e-07"
        ],
        [
         "35",
         "22234004",
         "1.0222548449482494",
         "0xdfE3fA7027E84f59b266459C567278C79fe86f0C",
         "ETHx/wstETH",
         "4.28915325443e-07"
        ],
        [
         "36",
         "22234344",
         "1.0222281812809952",
         "0xdfE3fA7027E84f59b266459C567278C79fe86f0C",
         "ETHx/wstETH",
         "1.152762667287e-06"
        ],
        [
         "37",
         "22234716",
         "1.0222464520290897",
         "0xdfE3fA7027E84f59b266459C567278C79fe86f0C",
         "ETHx/wstETH",
         "1.194708932538e-06"
        ],
        [
         "38",
         "22235038",
         "1.0222612239333495",
         "0xdfE3fA7027E84f59b266459C567278C79fe86f0C",
         "ETHx/wstETH",
         "1.468750622793e-06"
        ],
        [
         "39",
         "22235382",
         "1.0222310915920945",
         "0xdfE3fA7027E84f59b266459C567278C79fe86f0C",
         "ETHx/wstETH",
         "1.470725620201e-06"
        ],
        [
         "40",
         "22235729",
         "1.0222171994809013",
         "0xdfE3fA7027E84f59b266459C567278C79fe86f0C",
         "ETHx/wstETH",
         "3.691729238103e-06"
        ],
        [
         "41",
         "22236076",
         "1.0222244741399724",
         "0xdfE3fA7027E84f59b266459C567278C79fe86f0C",
         "ETHx/wstETH",
         "3.691622467976e-06"
        ],
        [
         "42",
         "22236446",
         "1.0222246059252211",
         "0xdfE3fA7027E84f59b266459C567278C79fe86f0C",
         "ETHx/wstETH",
         "3.931853284128e-06"
        ],
        [
         "43",
         "22236816",
         "1.0222323467724288",
         "0xdfE3fA7027E84f59b266459C567278C79fe86f0C",
         "ETHx/wstETH",
         "4.931765075507e-06"
        ],
        [
         "44",
         "22237185",
         "1.0222323467724288",
         "0xdfE3fA7027E84f59b266459C567278C79fe86f0C",
         "ETHx/wstETH",
         "4.956742214379e-06"
        ],
        [
         "45",
         "22237574",
         "1.0222323467724288",
         "0xdfE3fA7027E84f59b266459C567278C79fe86f0C",
         "ETHx/wstETH",
         "5.253666261234e-06"
        ],
        [
         "46",
         "22237941",
         "1.0222323467724288",
         "0xdfE3fA7027E84f59b266459C567278C79fe86f0C",
         "ETHx/wstETH",
         "5.253590972032e-06"
        ],
        [
         "47",
         "22238312",
         "1.0223788233355233",
         "0xdfE3fA7027E84f59b266459C567278C79fe86f0C",
         "ETHx/wstETH",
         "5.858826919193e-06"
        ],
        [
         "48",
         "22238683",
         "1.0224252315157187",
         "0xdfE3fA7027E84f59b266459C567278C79fe86f0C",
         "ETHx/wstETH",
         "5.858759217859e-06"
        ],
        [
         "49",
         "22239141",
         "1.0224252315157187",
         "0xdfE3fA7027E84f59b266459C567278C79fe86f0C",
         "ETHx/wstETH",
         "6.378719877765e-06"
        ]
       ],
       "shape": {
        "columns": 5,
        "rows": 12684
       }
      },
      "text/html": [
       "<div>\n",
       "<style scoped>\n",
       "    .dataframe tbody tr th:only-of-type {\n",
       "        vertical-align: middle;\n",
       "    }\n",
       "\n",
       "    .dataframe tbody tr th {\n",
       "        vertical-align: top;\n",
       "    }\n",
       "\n",
       "    .dataframe thead th {\n",
       "        text-align: right;\n",
       "    }\n",
       "</style>\n",
       "<table border=\"1\" class=\"dataframe\">\n",
       "  <thead>\n",
       "    <tr style=\"text-align: right;\">\n",
       "      <th></th>\n",
       "      <th>block</th>\n",
       "      <th>lp_token_spot_price</th>\n",
       "      <th>destination_vault_address</th>\n",
       "      <th>underlying_symbol</th>\n",
       "      <th>total_nav</th>\n",
       "    </tr>\n",
       "  </thead>\n",
       "  <tbody>\n",
       "    <tr>\n",
       "      <th>0</th>\n",
       "      <td>22253035</td>\n",
       "      <td>1.002066</td>\n",
       "      <td>0x3772973f8F399D74488D5cF3276C032E0afC8A6f</td>\n",
       "      <td>OETHCRV-f</td>\n",
       "      <td>0.000008</td>\n",
       "    </tr>\n",
       "    <tr>\n",
       "      <th>1</th>\n",
       "      <td>22254021</td>\n",
       "      <td>1.002066</td>\n",
       "      <td>0x3772973f8F399D74488D5cF3276C032E0afC8A6f</td>\n",
       "      <td>OETHCRV-f</td>\n",
       "      <td>0.000008</td>\n",
       "    </tr>\n",
       "    <tr>\n",
       "      <th>2</th>\n",
       "      <td>22254610</td>\n",
       "      <td>1.002066</td>\n",
       "      <td>0x3772973f8F399D74488D5cF3276C032E0afC8A6f</td>\n",
       "      <td>OETHCRV-f</td>\n",
       "      <td>0.000008</td>\n",
       "    </tr>\n",
       "    <tr>\n",
       "      <th>3</th>\n",
       "      <td>22255051</td>\n",
       "      <td>1.002066</td>\n",
       "      <td>0x3772973f8F399D74488D5cF3276C032E0afC8A6f</td>\n",
       "      <td>OETHCRV-f</td>\n",
       "      <td>0.000008</td>\n",
       "    </tr>\n",
       "    <tr>\n",
       "      <th>4</th>\n",
       "      <td>22255509</td>\n",
       "      <td>1.002066</td>\n",
       "      <td>0x3772973f8F399D74488D5cF3276C032E0afC8A6f</td>\n",
       "      <td>OETHCRV-f</td>\n",
       "      <td>0.000008</td>\n",
       "    </tr>\n",
       "    <tr>\n",
       "      <th>...</th>\n",
       "      <td>...</td>\n",
       "      <td>...</td>\n",
       "      <td>...</td>\n",
       "      <td>...</td>\n",
       "      <td>...</td>\n",
       "    </tr>\n",
       "    <tr>\n",
       "      <th>12679</th>\n",
       "      <td>22420454</td>\n",
       "      <td>1.000000</td>\n",
       "      <td>0x0A2b94F6871c1D7A32Fe58E1ab5e6deA2f114E56</td>\n",
       "      <td>autoETH</td>\n",
       "      <td>0.000029</td>\n",
       "    </tr>\n",
       "    <tr>\n",
       "      <th>12680</th>\n",
       "      <td>22420454</td>\n",
       "      <td>1.000000</td>\n",
       "      <td>0x6dC3ce9C57b20131347FDc9089D740DAf6eB34c5</td>\n",
       "      <td>balETH</td>\n",
       "      <td>0.000029</td>\n",
       "    </tr>\n",
       "    <tr>\n",
       "      <th>12681</th>\n",
       "      <td>22420454</td>\n",
       "      <td>1.000000</td>\n",
       "      <td>0xE800e3760FC20aA98c5df6A9816147f190455AF3</td>\n",
       "      <td>autoLRT</td>\n",
       "      <td>0.000029</td>\n",
       "    </tr>\n",
       "    <tr>\n",
       "      <th>12682</th>\n",
       "      <td>22420454</td>\n",
       "      <td>1.000000</td>\n",
       "      <td>0x35911af1B570E26f668905595dEd133D01CD3E5a</td>\n",
       "      <td>dineroETH</td>\n",
       "      <td>0.000029</td>\n",
       "    </tr>\n",
       "    <tr>\n",
       "      <th>12683</th>\n",
       "      <td>22420454</td>\n",
       "      <td>1.000000</td>\n",
       "      <td>0xa7569A44f348d3D70d8ad5889e50F78E33d80D35</td>\n",
       "      <td>autoUSD</td>\n",
       "      <td>0.000029</td>\n",
       "    </tr>\n",
       "  </tbody>\n",
       "</table>\n",
       "<p>12684 rows × 5 columns</p>\n",
       "</div>"
      ],
      "text/plain": [
       "          block  lp_token_spot_price  \\\n",
       "0      22253035             1.002066   \n",
       "1      22254021             1.002066   \n",
       "2      22254610             1.002066   \n",
       "3      22255051             1.002066   \n",
       "4      22255509             1.002066   \n",
       "...         ...                  ...   \n",
       "12679  22420454             1.000000   \n",
       "12680  22420454             1.000000   \n",
       "12681  22420454             1.000000   \n",
       "12682  22420454             1.000000   \n",
       "12683  22420454             1.000000   \n",
       "\n",
       "                        destination_vault_address underlying_symbol  total_nav  \n",
       "0      0x3772973f8F399D74488D5cF3276C032E0afC8A6f         OETHCRV-f   0.000008  \n",
       "1      0x3772973f8F399D74488D5cF3276C032E0afC8A6f         OETHCRV-f   0.000008  \n",
       "2      0x3772973f8F399D74488D5cF3276C032E0afC8A6f         OETHCRV-f   0.000008  \n",
       "3      0x3772973f8F399D74488D5cF3276C032E0afC8A6f         OETHCRV-f   0.000008  \n",
       "4      0x3772973f8F399D74488D5cF3276C032E0afC8A6f         OETHCRV-f   0.000008  \n",
       "...                                           ...               ...        ...  \n",
       "12679  0x0A2b94F6871c1D7A32Fe58E1ab5e6deA2f114E56           autoETH   0.000029  \n",
       "12680  0x6dC3ce9C57b20131347FDc9089D740DAf6eB34c5            balETH   0.000029  \n",
       "12681  0xE800e3760FC20aA98c5df6A9816147f190455AF3           autoLRT   0.000029  \n",
       "12682  0x35911af1B570E26f668905595dEd133D01CD3E5a         dineroETH   0.000029  \n",
       "12683  0xa7569A44f348d3D70d8ad5889e50F78E33d80D35           autoUSD   0.000029  \n",
       "\n",
       "[12684 rows x 5 columns]"
      ]
     },
     "execution_count": 9,
     "metadata": {},
     "output_type": "execute_result"
    }
   ],
   "source": [
    "destination_states_df"
   ]
  },
  {
   "cell_type": "code",
   "execution_count": 10,
   "metadata": {},
   "outputs": [
    {
     "ename": "KeyError",
     "evalue": "'underlying'",
     "output_type": "error",
     "traceback": [
      "\u001b[0;31m---------------------------------------------------------------------------\u001b[0m",
      "\u001b[0;31mKeyError\u001b[0m                                  Traceback (most recent call last)",
      "File \u001b[0;32m~/Library/Caches/pypoetry/virtualenvs/mainnet-launch-FtycU18g-py3.10/lib/python3.10/site-packages/pandas/core/indexes/base.py:3805\u001b[0m, in \u001b[0;36mIndex.get_loc\u001b[0;34m(self, key)\u001b[0m\n\u001b[1;32m   3804\u001b[0m \u001b[38;5;28;01mtry\u001b[39;00m:\n\u001b[0;32m-> 3805\u001b[0m     \u001b[38;5;28;01mreturn\u001b[39;00m \u001b[38;5;28;43mself\u001b[39;49m\u001b[38;5;241;43m.\u001b[39;49m\u001b[43m_engine\u001b[49m\u001b[38;5;241;43m.\u001b[39;49m\u001b[43mget_loc\u001b[49m\u001b[43m(\u001b[49m\u001b[43mcasted_key\u001b[49m\u001b[43m)\u001b[49m\n\u001b[1;32m   3806\u001b[0m \u001b[38;5;28;01mexcept\u001b[39;00m \u001b[38;5;167;01mKeyError\u001b[39;00m \u001b[38;5;28;01mas\u001b[39;00m err:\n",
      "File \u001b[0;32mindex.pyx:167\u001b[0m, in \u001b[0;36mpandas._libs.index.IndexEngine.get_loc\u001b[0;34m()\u001b[0m\n",
      "File \u001b[0;32mindex.pyx:196\u001b[0m, in \u001b[0;36mpandas._libs.index.IndexEngine.get_loc\u001b[0;34m()\u001b[0m\n",
      "File \u001b[0;32mpandas/_libs/hashtable_class_helper.pxi:7081\u001b[0m, in \u001b[0;36mpandas._libs.hashtable.PyObjectHashTable.get_item\u001b[0;34m()\u001b[0m\n",
      "File \u001b[0;32mpandas/_libs/hashtable_class_helper.pxi:7089\u001b[0m, in \u001b[0;36mpandas._libs.hashtable.PyObjectHashTable.get_item\u001b[0;34m()\u001b[0m\n",
      "\u001b[0;31mKeyError\u001b[0m: 'underlying'",
      "\nThe above exception was the direct cause of the following exception:\n",
      "\u001b[0;31mKeyError\u001b[0m                                  Traceback (most recent call last)",
      "Cell \u001b[0;32mIn[10], line 1\u001b[0m\n\u001b[0;32m----> 1\u001b[0m destination_states_df[\u001b[43mdestination_states_df\u001b[49m\u001b[43m[\u001b[49m\u001b[38;5;124;43m\"\u001b[39;49m\u001b[38;5;124;43munderlying\u001b[39;49m\u001b[38;5;124;43m\"\u001b[39;49m\u001b[43m]\u001b[49m \u001b[38;5;241m==\u001b[39m \u001b[38;5;124m\"\u001b[39m\u001b[38;5;124m0xA0b86991c6218b36c1d19D4a2e9Eb0cE3606eB48\u001b[39m\u001b[38;5;124m\"\u001b[39m]\n",
      "File \u001b[0;32m~/Library/Caches/pypoetry/virtualenvs/mainnet-launch-FtycU18g-py3.10/lib/python3.10/site-packages/pandas/core/frame.py:4102\u001b[0m, in \u001b[0;36mDataFrame.__getitem__\u001b[0;34m(self, key)\u001b[0m\n\u001b[1;32m   4100\u001b[0m \u001b[38;5;28;01mif\u001b[39;00m \u001b[38;5;28mself\u001b[39m\u001b[38;5;241m.\u001b[39mcolumns\u001b[38;5;241m.\u001b[39mnlevels \u001b[38;5;241m>\u001b[39m \u001b[38;5;241m1\u001b[39m:\n\u001b[1;32m   4101\u001b[0m     \u001b[38;5;28;01mreturn\u001b[39;00m \u001b[38;5;28mself\u001b[39m\u001b[38;5;241m.\u001b[39m_getitem_multilevel(key)\n\u001b[0;32m-> 4102\u001b[0m indexer \u001b[38;5;241m=\u001b[39m \u001b[38;5;28;43mself\u001b[39;49m\u001b[38;5;241;43m.\u001b[39;49m\u001b[43mcolumns\u001b[49m\u001b[38;5;241;43m.\u001b[39;49m\u001b[43mget_loc\u001b[49m\u001b[43m(\u001b[49m\u001b[43mkey\u001b[49m\u001b[43m)\u001b[49m\n\u001b[1;32m   4103\u001b[0m \u001b[38;5;28;01mif\u001b[39;00m is_integer(indexer):\n\u001b[1;32m   4104\u001b[0m     indexer \u001b[38;5;241m=\u001b[39m [indexer]\n",
      "File \u001b[0;32m~/Library/Caches/pypoetry/virtualenvs/mainnet-launch-FtycU18g-py3.10/lib/python3.10/site-packages/pandas/core/indexes/base.py:3812\u001b[0m, in \u001b[0;36mIndex.get_loc\u001b[0;34m(self, key)\u001b[0m\n\u001b[1;32m   3807\u001b[0m     \u001b[38;5;28;01mif\u001b[39;00m \u001b[38;5;28misinstance\u001b[39m(casted_key, \u001b[38;5;28mslice\u001b[39m) \u001b[38;5;129;01mor\u001b[39;00m (\n\u001b[1;32m   3808\u001b[0m         \u001b[38;5;28misinstance\u001b[39m(casted_key, abc\u001b[38;5;241m.\u001b[39mIterable)\n\u001b[1;32m   3809\u001b[0m         \u001b[38;5;129;01mand\u001b[39;00m \u001b[38;5;28many\u001b[39m(\u001b[38;5;28misinstance\u001b[39m(x, \u001b[38;5;28mslice\u001b[39m) \u001b[38;5;28;01mfor\u001b[39;00m x \u001b[38;5;129;01min\u001b[39;00m casted_key)\n\u001b[1;32m   3810\u001b[0m     ):\n\u001b[1;32m   3811\u001b[0m         \u001b[38;5;28;01mraise\u001b[39;00m InvalidIndexError(key)\n\u001b[0;32m-> 3812\u001b[0m     \u001b[38;5;28;01mraise\u001b[39;00m \u001b[38;5;167;01mKeyError\u001b[39;00m(key) \u001b[38;5;28;01mfrom\u001b[39;00m\u001b[38;5;250m \u001b[39m\u001b[38;5;21;01merr\u001b[39;00m\n\u001b[1;32m   3813\u001b[0m \u001b[38;5;28;01mexcept\u001b[39;00m \u001b[38;5;167;01mTypeError\u001b[39;00m:\n\u001b[1;32m   3814\u001b[0m     \u001b[38;5;66;03m# If we have a listlike key, _check_indexing_error will raise\u001b[39;00m\n\u001b[1;32m   3815\u001b[0m     \u001b[38;5;66;03m#  InvalidIndexError. Otherwise we fall through and re-raise\u001b[39;00m\n\u001b[1;32m   3816\u001b[0m     \u001b[38;5;66;03m#  the TypeError.\u001b[39;00m\n\u001b[1;32m   3817\u001b[0m     \u001b[38;5;28mself\u001b[39m\u001b[38;5;241m.\u001b[39m_check_indexing_error(key)\n",
      "\u001b[0;31mKeyError\u001b[0m: 'underlying'"
     ]
    }
   ],
   "source": [
    "destination_states_df[destination_states_df[\"underlying\"] == \"0xA0b86991c6218b36c1d19D4a2e9Eb0cE3606eB48\"]"
   ]
  },
  {
   "cell_type": "code",
   "execution_count": null,
   "metadata": {},
   "outputs": [],
   "source": [
    "df1[\"tokenOutAddress\"].value_counts()"
   ]
  },
  {
   "cell_type": "code",
   "execution_count": null,
   "metadata": {},
   "outputs": [],
   "source": [
    "destination_states_df"
   ]
  },
  {
   "cell_type": "code",
   "execution_count": null,
   "metadata": {},
   "outputs": [],
   "source": [
    "rebalance_event_df"
   ]
  },
  {
   "cell_type": "code",
   "execution_count": null,
   "metadata": {},
   "outputs": [],
   "source": [
    "rebalance_event_df[[\"blockNumber\", \"destinationInAddress\", \"tokenInAddress\"]]"
   ]
  },
  {
   "cell_type": "code",
   "execution_count": null,
   "metadata": {},
   "outputs": [],
   "source": [
    "destination_states_df"
   ]
  },
  {
   "cell_type": "code",
   "execution_count": null,
   "metadata": {},
   "outputs": [],
   "source": [
    "destination_states_df[[\"block\", \"destination_vault_address\", \"underlying\"]]"
   ]
  },
  {
   "cell_type": "code",
   "execution_count": null,
   "metadata": {},
   "outputs": [],
   "source": [
    "destination_states_df = destination_states_df.drop_duplicates()"
   ]
  },
  {
   "cell_type": "code",
   "execution_count": null,
   "metadata": {},
   "outputs": [],
   "source": []
  },
  {
   "cell_type": "code",
   "execution_count": null,
   "metadata": {},
   "outputs": [],
   "source": [
    "rebalance_event_df.head(1).T"
   ]
  },
  {
   "cell_type": "code",
   "execution_count": null,
   "metadata": {},
   "outputs": [],
   "source": [
    "# 0xA0b86991c6218b36c1d19D4a2e9Eb0cE3606eB48"
   ]
  },
  {
   "cell_type": "code",
   "execution_count": null,
   "metadata": {},
   "outputs": [],
   "source": [
    "token_value_df[\n",
    "    (token_value_df[\"block\"] == 22296632)\n",
    "    & (token_value_df[\"destination_vault_address\"] == \"0xa7569A44f348d3D70d8ad5889e50F78E33d80D35\")\n",
    "    & (token_value_df[\"token_address\"] == \"0xA0b86991c6218b36c1d19D4a2e9Eb0cE3606eB48\")\n",
    "]"
   ]
  },
  {
   "cell_type": "code",
   "execution_count": null,
   "metadata": {},
   "outputs": [],
   "source": [
    "rebalance_event_df"
   ]
  },
  {
   "cell_type": "code",
   "execution_count": null,
   "metadata": {},
   "outputs": [],
   "source": []
  },
  {
   "cell_type": "code",
   "execution_count": null,
   "metadata": {},
   "outputs": [],
   "source": [
    "destination_states_df[\"underlying_symbol\"].value_counts()"
   ]
  },
  {
   "cell_type": "code",
   "execution_count": null,
   "metadata": {},
   "outputs": [],
   "source": []
  }
 ],
 "metadata": {
  "kernelspec": {
   "display_name": "mainnet-launch-FtycU18g-py3.10",
   "language": "python",
   "name": "python3"
  },
  "language_info": {
   "codemirror_mode": {
    "name": "ipython",
    "version": 3
   },
   "file_extension": ".py",
   "mimetype": "text/x-python",
   "name": "python",
   "nbconvert_exporter": "python",
   "pygments_lexer": "ipython3",
   "version": "3.10.14"
  }
 },
 "nbformat": 4,
 "nbformat_minor": 2
}
