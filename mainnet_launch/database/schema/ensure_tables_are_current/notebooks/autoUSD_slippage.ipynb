{
 "cells": [
  {
   "cell_type": "code",
   "execution_count": 1,
   "metadata": {},
   "outputs": [
    {
     "data": {
      "application/vnd.microsoft.datawrangler.viewer.v0+json": {
       "columns": [
        {
         "name": "index",
         "rawType": "int64",
         "type": "integer"
        },
        {
         "name": "transactionHash",
         "rawType": "object",
         "type": "string"
        },
        {
         "name": "timestamp",
         "rawType": "object",
         "type": "string"
        },
        {
         "name": "blockNumber",
         "rawType": "int64",
         "type": "integer"
        },
        {
         "name": "tokenInAmount",
         "rawType": "float64",
         "type": "float"
        },
        {
         "name": "tokenOut",
         "rawType": "object",
         "type": "unknown"
        },
        {
         "name": "destinationInAddress",
         "rawType": "object",
         "type": "string"
        },
        {
         "name": "tokenIn",
         "rawType": "object",
         "type": "unknown"
        },
        {
         "name": "tokenOutAmount",
         "rawType": "float64",
         "type": "float"
        },
        {
         "name": "destinationOutAddress",
         "rawType": "object",
         "type": "string"
        },
        {
         "name": "tokenInAddress",
         "rawType": "object",
         "type": "string"
        },
        {
         "name": "tokenOutAddress",
         "rawType": "object",
         "type": "string"
        }
       ],
       "conversionMethod": "pd.DataFrame",
       "ref": "ca06fd73-0edd-4c66-b48b-fef9bfba2686",
       "rows": [
        [
         "0",
         "0xff8915d0bd9054e7678c4366ae8fd5a0a3cce80943bebe7b3492e9648a28b3cb",
         "1744988327",
         "22296632",
         "148881.1500874422",
         "{'id': '0xa0b86991c6218b36c1d19d4a2e9eb0ce3606eb48', 'decimals': '6'}",
         "0xbB2d2dd491204a86ec10a1a6972F940B34fE060e",
         "{'id': '0x4f493b7de8aac7d55f71853688b1f7c8f0243c85', 'decimals': '18'}",
         "150000.0",
         "0xa7569A44f348d3D70d8ad5889e50F78E33d80D35",
         "0x4f493B7dE8aAC7d55F71853688b1F7C8F0243C85",
         "0xA0b86991c6218b36c1d19D4a2e9Eb0cE3606eB48"
        ],
        [
         "1",
         "0xff3d22a3564c8121f28d7d47feffb8251785ad2c48e40153dbd8b126cbf6a7f5",
         "1744997471",
         "22297389",
         "148885.47447415398",
         "{'id': '0xa0b86991c6218b36c1d19d4a2e9eb0ce3606eb48', 'decimals': '6'}",
         "0xbB2d2dd491204a86ec10a1a6972F940B34fE060e",
         "{'id': '0x4f493b7de8aac7d55f71853688b1f7c8f0243c85', 'decimals': '18'}",
         "150000.0",
         "0xa7569A44f348d3D70d8ad5889e50F78E33d80D35",
         "0x4f493B7dE8aAC7d55F71853688b1F7C8F0243C85",
         "0xA0b86991c6218b36c1d19D4a2e9Eb0cE3606eB48"
        ],
        [
         "2",
         "0xfecf659a8d1c06c45010afc47fcefc6405d906a85e8497c52c5c392cbf392326",
         "1746235043",
         "22399927",
         "320651.57585673255",
         "{'id': '0xa0b86991c6218b36c1d19d4a2e9eb0ce3606eb48', 'decimals': '6'}",
         "0xC5c95fCad37E466E25e6ecA1977bbF75C0E1004a",
         "{'id': '0xbeef01735c132ada46aa9aa4c54623caa92a64cb', 'decimals': '18'}",
         "347222.68215",
         "0xa7569A44f348d3D70d8ad5889e50F78E33d80D35",
         "0xBEEF01735c132Ada46AA9aA4c54623cAA92A64CB",
         "0xA0b86991c6218b36c1d19D4a2e9Eb0cE3606eB48"
        ],
        [
         "3",
         "0xfca3e4ad4e6296b2444ed28a8012cda8694ef5d23ce94802a9b00dfd1d56d911",
         "1746116255",
         "22390138",
         "148075.9948",
         "{'id': '0xa0b86991c6218b36c1d19d4a2e9eb0ce3606eb48', 'decimals': '6'}",
         "0x7876F91BB22148345b3De16af9448081E9853830",
         "{'id': '0x9fb7b4477576fe5b32be4c1843afb1e55f251b33', 'decimals': '6'}",
         "170000.0",
         "0xa7569A44f348d3D70d8ad5889e50F78E33d80D35",
         "0x9Fb7b4477576Fe5B32be4C1843aFB1e55F251B33",
         "0xA0b86991c6218b36c1d19D4a2e9Eb0cE3606eB48"
        ],
        [
         "4",
         "0xfc37985d3c7182369be30f9dbe69409a8b05d008bde2ebe83aba20d7dff3a150",
         "1745111003",
         "22306807",
         "437134.294459",
         "{'id': '0xa0b86991c6218b36c1d19d4a2e9eb0ce3606eb48', 'decimals': '6'}",
         "0xE4545f9dBC30Ccb6Cda6930DDFd69f3D419FcB61",
         "{'id': '0x5c20b550819128074fd538edf79791733ccedd18', 'decimals': '6'}",
         "500000.0",
         "0xa7569A44f348d3D70d8ad5889e50F78E33d80D35",
         "0x5C20B550819128074FD538Edf79791733ccEdd18",
         "0xA0b86991c6218b36c1d19D4a2e9Eb0cE3606eB48"
        ],
        [
         "5",
         "0xfc096d569fd733eff02fb42bcb96946f83306c139bcbb1efbdfa2933c89e23b1",
         "1746796607",
         "22446151",
         "84327.56583457836",
         "{'id': '0xa0b86991c6218b36c1d19d4a2e9eb0ce3606eb48', 'decimals': '6'}",
         "0xb949C40F18fB52747d96850696c954718168fde3",
         "{'id': '0x81a2612f6dea269a6dd1f6deab45c5424ee2c4b7', 'decimals': '18'}",
         "85000.0",
         "0xa7569A44f348d3D70d8ad5889e50F78E33d80D35",
         "0x81A2612F6dEA269a6Dd1F6DeAb45C5424EE2c4b7",
         "0xA0b86991c6218b36c1d19D4a2e9Eb0cE3606eB48"
        ],
        [
         "6",
         "0xfaa85762af230b125dcc3be6dcf1056e1936e54777bc212e5ee859642f8d3a83",
         "1746121751",
         "22390592",
         "147241.6175169698",
         "{'id': '0x5c20b550819128074fd538edf79791733ccedd18', 'decimals': '6'}",
         "0x65efCF2cce562DCBf07e805eEbeDeF21Dbd8Ea3D",
         "{'id': '0x4dece678ceceb27446b35c672dc7d61f30bad69e', 'decimals': '18'}",
         "131051.17898",
         "0xE4545f9dBC30Ccb6Cda6930DDFd69f3D419FcB61",
         "0x4DEcE678ceceb27446b35C672dC7d61F30bAD69E",
         "0x5C20B550819128074FD538Edf79791733ccEdd18"
        ],
        [
         "7",
         "0xfa9d0b472bdb73fdab2f45a0d83a119da309f4aae540c304386855d364967862",
         "1746008231",
         "22381211",
         "186006.089834",
         "{'id': '0xa0b86991c6218b36c1d19d4a2e9eb0ce3606eb48', 'decimals': '6'}",
         "0x7876F91BB22148345b3De16af9448081E9853830",
         "{'id': '0x9fb7b4477576fe5b32be4c1843afb1e55f251b33', 'decimals': '6'}",
         "213527.8188",
         "0xa7569A44f348d3D70d8ad5889e50F78E33d80D35",
         "0x9Fb7b4477576Fe5B32be4C1843aFB1e55F251B33",
         "0xA0b86991c6218b36c1d19D4a2e9Eb0cE3606eB48"
        ],
        [
         "8",
         "0xf9fd1129259a17dd3174a1199515f100d6d8e2b1bb6dd9d20d4fad7de6039075",
         "1746642707",
         "22433531",
         "1090811.185742",
         "{'id': '0xa0b86991c6218b36c1d19d4a2e9eb0ce3606eb48', 'decimals': '6'}",
         "0x7876F91BB22148345b3De16af9448081E9853830",
         "{'id': '0x9fb7b4477576fe5b32be4c1843afb1e55f251b33', 'decimals': '6'}",
         "1252839.96215",
         "0xa7569A44f348d3D70d8ad5889e50F78E33d80D35",
         "0x9Fb7b4477576Fe5B32be4C1843aFB1e55F251B33",
         "0xA0b86991c6218b36c1d19D4a2e9Eb0cE3606eB48"
        ],
        [
         "9",
         "0xf885cd0897d7cc7ef32d839696699861d14d48623aefecd9393cabd2f33f2f52",
         "1746105443",
         "22389245",
         "48776.552443",
         "{'id': '0x8eb67a509616cd6a7c1b3c8c21d48ff57df3d458', 'decimals': '18'}",
         "0x7876F91BB22148345b3De16af9448081E9853830",
         "{'id': '0x9fb7b4477576fe5b32be4c1843afb1e55f251b33', 'decimals': '6'}",
         "51383.68536902502",
         "0x3F3565C5A2AA05F76830A5a51c2F32018De856A3",
         "0x9Fb7b4477576Fe5B32be4C1843aFB1e55F251B33",
         "0x8eB67A509616cd6A7c1B3c8C21D48FF57df3d458"
        ],
        [
         "10",
         "0xf8402b0c106aa9a0d031c4e1994c4246a12fa777c8b6e6193c9965cec29b8c70",
         "1746785807",
         "22445264",
         "84324.9324908241",
         "{'id': '0xa0b86991c6218b36c1d19d4a2e9eb0ce3606eb48', 'decimals': '6'}",
         "0xb949C40F18fB52747d96850696c954718168fde3",
         "{'id': '0x81a2612f6dea269a6dd1f6deab45c5424ee2c4b7', 'decimals': '18'}",
         "85000.0",
         "0xa7569A44f348d3D70d8ad5889e50F78E33d80D35",
         "0x81A2612F6dEA269a6Dd1F6DeAb45C5424EE2c4b7",
         "0xA0b86991c6218b36c1d19D4a2e9Eb0cE3606eB48"
        ],
        [
         "11",
         "0xf7fbe80352da4ba7beb39cd72cfeafd7cba55ed03a88a6a4323dc9a0c99e3267",
         "1745921855",
         "22374065",
         "67955.77797541124",
         "{'id': '0xa0b86991c6218b36c1d19d4a2e9eb0ce3606eb48', 'decimals': '6'}",
         "0x7583b1589aDD33320366A48A92794D77763FAE9e",
         "{'id': '0x390f3595bca2df7d23783dfd126427cceb997bf4', 'decimals': '18'}",
         "69162.4087",
         "0xa7569A44f348d3D70d8ad5889e50F78E33d80D35",
         "0x390f3595bCa2Df7d23783dFd126427CCeb997BF4",
         "0xA0b86991c6218b36c1d19D4a2e9Eb0cE3606eB48"
        ],
        [
         "12",
         "0xf7ad9f0de99c196346b977387b995628d585fe9071a9126b4e8a9e9fc2fba316",
         "1744289951",
         "22238683",
         "149104.8782625014",
         "{'id': '0xa0b86991c6218b36c1d19d4a2e9eb0ce3606eb48', 'decimals': '6'}",
         "0xd7900d87069C815a299bdA7aFDcd7eEe98fe4b6c",
         "{'id': '0x5b03cccab7ba3010fa5cad23746cbf0794938e96', 'decimals': '18'}",
         "150000.0",
         "0xa7569A44f348d3D70d8ad5889e50F78E33d80D35",
         "0x5B03CcCAb7BA3010fA5CAd23746cbf0794938e96",
         "0xA0b86991c6218b36c1d19D4a2e9Eb0cE3606eB48"
        ],
        [
         "13",
         "0xf7641185b3d78280671ee897853174c0d231614d28e8542f0bc4d5fc4e260c74",
         "1745997431",
         "22380318",
         "37280.009209",
         "{'id': '0xdd0f28e19c1780eb6396170735d45153d261490d', 'decimals': '18'}",
         "0x7876F91BB22148345b3De16af9448081E9853830",
         "{'id': '0x9fb7b4477576fe5b32be4c1843afb1e55f251b33', 'decimals': '6'}",
         "39892.996621207945",
         "0x0f170e37E5E0C617148517B831A49292c38c363d",
         "0x9Fb7b4477576Fe5B32be4C1843aFB1e55F251B33",
         "0xdd0f28e19C1780eb6396170735D45153D261490d"
        ],
        [
         "14",
         "0xf71cf346c5791115271afad47d745c3836cc646be07f6b4e8b482d657ce37873",
         "1744770623",
         "22278574",
         "33367.24779356881",
         "{'id': '0xa0b86991c6218b36c1d19d4a2e9eb0ce3606eb48', 'decimals': '6'}",
         "0xbB2d2dd491204a86ec10a1a6972F940B34fE060e",
         "{'id': '0x4f493b7de8aac7d55f71853688b1f7c8f0243c85', 'decimals': '18'}",
         "33613.048825",
         "0xa7569A44f348d3D70d8ad5889e50F78E33d80D35",
         "0x4f493B7dE8aAC7d55F71853688b1F7C8F0243C85",
         "0xA0b86991c6218b36c1d19D4a2e9Eb0cE3606eB48"
        ],
        [
         "15",
         "0xf6e88bc81748952a6e69eb3fe20d5b7ee44f0b1c9e91412cb1a62ce04122184a",
         "1744682315",
         "22271256",
         "145225.65109420655",
         "{'id': '0xa0b86991c6218b36c1d19d4a2e9eb0ce3606eb48', 'decimals': '6'}",
         "0x3Ee3F7A0B244004B0678EBa98bA091eC101513Ee",
         "{'id': '0xfd1627e3f3469c8392c8c3a261d8f0677586e5e1', 'decimals': '18'}",
         "150000.0",
         "0xa7569A44f348d3D70d8ad5889e50F78E33d80D35",
         "0xfD1627E3f3469C8392C8c3A261D8F0677586e5e1",
         "0xA0b86991c6218b36c1d19D4a2e9Eb0cE3606eB48"
        ],
        [
         "16",
         "0xf62c4387c52b0daa7436954af557ac597992101b57cff1209a00f6bb49ddcaf1",
         "1746808967",
         "22447152",
         "198289.4655922258",
         "{'id': '0x5b03cccab7ba3010fa5cad23746cbf0794938e96', 'decimals': '18'}",
         "0xb949C40F18fB52747d96850696c954718168fde3",
         "{'id': '0x81a2612f6dea269a6dd1f6deab45c5424ee2c4b7', 'decimals': '18'}",
         "198507.81674155372",
         "0xd7900d87069C815a299bdA7aFDcd7eEe98fe4b6c",
         "0x81A2612F6dEA269a6Dd1F6DeAb45C5424EE2c4b7",
         "0x5B03CcCAb7BA3010fA5CAd23746cbf0794938e96"
        ],
        [
         "17",
         "0xf48ddcdd98ecbf594741e80338a28d1c11271ebe57054f45d410c46da758bd18",
         "1745097863",
         "22305715",
         "73715.43313424606",
         "{'id': '0xa0b86991c6218b36c1d19d4a2e9eb0ce3606eb48', 'decimals': '6'}",
         "0x7583b1589aDD33320366A48A92794D77763FAE9e",
         "{'id': '0x390f3595bca2df7d23783dfd126427cceb997bf4', 'decimals': '18'}",
         "75000.0",
         "0xa7569A44f348d3D70d8ad5889e50F78E33d80D35",
         "0x390f3595bCa2Df7d23783dFd126427CCeb997BF4",
         "0xA0b86991c6218b36c1d19D4a2e9Eb0cE3606eB48"
        ],
        [
         "18",
         "0xf452556a81a9b2b1c3230b0162f64c88fed221dae0f1ac0430a8d09082098c54",
         "1744809407",
         "22281797",
         "26048.877500979615",
         "{'id': '0xa0b86991c6218b36c1d19d4a2e9eb0ce3606eb48', 'decimals': '6'}",
         "0xbB2d2dd491204a86ec10a1a6972F940B34fE060e",
         "{'id': '0x4f493b7de8aac7d55f71853688b1f7c8f0243c85', 'decimals': '18'}",
         "26227.4368",
         "0xa7569A44f348d3D70d8ad5889e50F78E33d80D35",
         "0x4f493B7dE8aAC7d55F71853688b1F7C8F0243C85",
         "0xA0b86991c6218b36c1d19D4a2e9Eb0cE3606eB48"
        ],
        [
         "19",
         "0xf4488d8f4099f52ff4664b5342f454e907bcb7897fc831d0f9db6c27c0d0f79f",
         "1744454699",
         "22252365",
         "147328.56706112463",
         "{'id': '0xa0b86991c6218b36c1d19d4a2e9eb0ce3606eb48', 'decimals': '6'}",
         "0x65efCF2cce562DCBf07e805eEbeDeF21Dbd8Ea3D",
         "{'id': '0x4dece678ceceb27446b35c672dc7d61f30bad69e', 'decimals': '18'}",
         "150000.0",
         "0xa7569A44f348d3D70d8ad5889e50F78E33d80D35",
         "0x4DEcE678ceceb27446b35C672dC7d61F30bAD69E",
         "0xA0b86991c6218b36c1d19D4a2e9Eb0cE3606eB48"
        ],
        [
         "20",
         "0xf42cc7d517395d441b21cc063d55671252d617e98f1c2302158b958752b0b6bf",
         "1744647971",
         "22268408",
         "140027.92494208858",
         "{'id': '0xa0b86991c6218b36c1d19d4a2e9eb0ce3606eb48', 'decimals': '6'}",
         "0xC099899d0278CE83976218Cbe58D01dD382dcA32",
         "{'id': '0x57064f49ad7123c92560882a45518374ad982e85', 'decimals': '18'}",
         "150000.0",
         "0xa7569A44f348d3D70d8ad5889e50F78E33d80D35",
         "0x57064F49Ad7123C92560882a45518374ad982e85",
         "0xA0b86991c6218b36c1d19D4a2e9Eb0cE3606eB48"
        ],
        [
         "21",
         "0xf2c7bc5f502fdcd1bc2aae6d66fd65a6b71c2eb3175a4cbd3fee958d27feacd2",
         "1746019055",
         "22382106",
         "148087.40068",
         "{'id': '0xa0b86991c6218b36c1d19d4a2e9eb0ce3606eb48', 'decimals': '6'}",
         "0x7876F91BB22148345b3De16af9448081E9853830",
         "{'id': '0x9fb7b4477576fe5b32be4c1843afb1e55f251b33', 'decimals': '6'}",
         "170000.0",
         "0xa7569A44f348d3D70d8ad5889e50F78E33d80D35",
         "0x9Fb7b4477576Fe5B32be4C1843aFB1e55F251B33",
         "0xA0b86991c6218b36c1d19D4a2e9Eb0cE3606eB48"
        ],
        [
         "22",
         "0xf29341282b34683083b1587572da943e901a40ac7613a816ce3ee4f116d52134",
         "1745576243",
         "22345385",
         "21986.15211022628",
         "{'id': '0xa0b86991c6218b36c1d19d4a2e9eb0ce3606eb48', 'decimals': '6'}",
         "0xC099899d0278CE83976218Cbe58D01dD382dcA32",
         "{'id': '0x57064f49ad7123c92560882a45518374ad982e85', 'decimals': '18'}",
         "23598.135625",
         "0xa7569A44f348d3D70d8ad5889e50F78E33d80D35",
         "0x57064F49Ad7123C92560882a45518374ad982e85",
         "0xA0b86991c6218b36c1d19D4a2e9Eb0cE3606eB48"
        ],
        [
         "23",
         "0xf255a4ea0da9dab82f179e9a4fa0f5b38b57a60c25ab6784e3406f36edffae73",
         "1744841111",
         "22284426",
         "148886.831364442",
         "{'id': '0xa0b86991c6218b36c1d19d4a2e9eb0ce3606eb48', 'decimals': '6'}",
         "0xbB2d2dd491204a86ec10a1a6972F940B34fE060e",
         "{'id': '0x4f493b7de8aac7d55f71853688b1f7c8f0243c85', 'decimals': '18'}",
         "150000.0",
         "0xa7569A44f348d3D70d8ad5889e50F78E33d80D35",
         "0x4f493B7dE8aAC7d55F71853688b1F7C8F0243C85",
         "0xA0b86991c6218b36c1d19D4a2e9Eb0cE3606eB48"
        ],
        [
         "24",
         "0xeeba47ab80f9a05fdd7d6f5a1a5a77776970f075c7531a448bdb07ac4eaae6d0",
         "1745500607",
         "22339107",
         "147294.00167749557",
         "{'id': '0xa0b86991c6218b36c1d19d4a2e9eb0ce3606eb48', 'decimals': '6'}",
         "0x65efCF2cce562DCBf07e805eEbeDeF21Dbd8Ea3D",
         "{'id': '0x4dece678ceceb27446b35c672dc7d61f30bad69e', 'decimals': '18'}",
         "150000.0",
         "0xa7569A44f348d3D70d8ad5889e50F78E33d80D35",
         "0x4DEcE678ceceb27446b35C672dC7d61F30bAD69E",
         "0xA0b86991c6218b36c1d19D4a2e9Eb0cE3606eB48"
        ],
        [
         "25",
         "0xee160b9ad6af81bd1b35cb9e46306181fd60543a0a751d4d271c73e097c47f0c",
         "1744551011",
         "22260359",
         "21675.591863436468",
         "{'id': '0xa0b86991c6218b36c1d19d4a2e9eb0ce3606eb48', 'decimals': '6'}",
         "0x7583b1589aDD33320366A48A92794D77763FAE9e",
         "{'id': '0x390f3595bca2df7d23783dfd126427cceb997bf4', 'decimals': '18'}",
         "22051.8174",
         "0xa7569A44f348d3D70d8ad5889e50F78E33d80D35",
         "0x390f3595bCa2Df7d23783dFd126427CCeb997BF4",
         "0xA0b86991c6218b36c1d19D4a2e9Eb0cE3606eB48"
        ],
        [
         "26",
         "0xed5682094936febb4e6fd6d2a9c8f317a55442c6cee08427e9908ed1f6610fd4",
         "1745371007",
         "22328373",
         "120973.669012",
         "{'id': '0xa0b86991c6218b36c1d19d4a2e9eb0ce3606eb48', 'decimals': '6'}",
         "0xE4545f9dBC30Ccb6Cda6930DDFd69f3D419FcB61",
         "{'id': '0x5c20b550819128074fd538edf79791733ccedd18', 'decimals': '6'}",
         "138497.406425",
         "0xa7569A44f348d3D70d8ad5889e50F78E33d80D35",
         "0x5C20B550819128074FD538Edf79791733ccEdd18",
         "0xA0b86991c6218b36c1d19D4a2e9Eb0cE3606eB48"
        ],
        [
         "27",
         "0xeb71acdde761fddfd3d16bfe9bf3d6aba6d09546c1c6f5299f7321b48dc752f6",
         "1744952327",
         "22293648",
         "45431.64654981859",
         "{'id': '0xa0b86991c6218b36c1d19d4a2e9eb0ce3606eb48', 'decimals': '6'}",
         "0xbB2d2dd491204a86ec10a1a6972F940B34fE060e",
         "{'id': '0x4f493b7de8aac7d55f71853688b1f7c8f0243c85', 'decimals': '18'}",
         "45772.805475",
         "0xa7569A44f348d3D70d8ad5889e50F78E33d80D35",
         "0x4f493B7dE8aAC7d55F71853688b1F7C8F0243C85",
         "0xA0b86991c6218b36c1d19D4a2e9Eb0cE3606eB48"
        ],
        [
         "28",
         "0xeb1d3f3839174cf5b72ed6cd395bba5d40fd6e7591693b1ac93d9ddf8c89b82f",
         "1745813843",
         "22365119",
         "147615.74798992887",
         "{'id': '0x9fb7b4477576fe5b32be4c1843afb1e55f251b33', 'decimals': '6'}",
         "0x65efCF2cce562DCBf07e805eEbeDeF21Dbd8Ea3D",
         "{'id': '0x4dece678ceceb27446b35c672dc7d61f30bad69e', 'decimals': '18'}",
         "130683.763587",
         "0x7876F91BB22148345b3De16af9448081E9853830",
         "0x4DEcE678ceceb27446b35C672dC7d61F30bAD69E",
         "0x9Fb7b4477576Fe5B32be4C1843aFB1e55F251B33"
        ],
        [
         "29",
         "0xea5eaa0e536857aaf76e2137269bffb339edeb2025422a1eb9c6348d1b60fe12",
         "1744713863",
         "22273867",
         "21915.973125928536",
         "{'id': '0xa0b86991c6218b36c1d19d4a2e9eb0ce3606eb48', 'decimals': '6'}",
         "0x3Ee3F7A0B244004B0678EBa98bA091eC101513Ee",
         "{'id': '0xfd1627e3f3469c8392c8c3a261d8f0677586e5e1', 'decimals': '18'}",
         "22635.11275",
         "0xa7569A44f348d3D70d8ad5889e50F78E33d80D35",
         "0xfD1627E3f3469C8392C8c3A261D8F0677586e5e1",
         "0xA0b86991c6218b36c1d19D4a2e9Eb0cE3606eB48"
        ],
        [
         "30",
         "0xea111bf4841e70491bd4d1a591ebf8fa41156f31361fb9d48c5f6f3a5dbba271",
         "1744956995",
         "22294037",
         "34109.942001298456",
         "{'id': '0xa0b86991c6218b36c1d19d4a2e9eb0ce3606eb48', 'decimals': '6'}",
         "0xd7900d87069C815a299bdA7aFDcd7eEe98fe4b6c",
         "{'id': '0x5b03cccab7ba3010fa5cad23746cbf0794938e96', 'decimals': '18'}",
         "34329.604099",
         "0xa7569A44f348d3D70d8ad5889e50F78E33d80D35",
         "0x5B03CcCAb7BA3010fA5CAd23746cbf0794938e96",
         "0xA0b86991c6218b36c1d19D4a2e9Eb0cE3606eB48"
        ],
        [
         "31",
         "0xea053b69475c00a9fa5a51b0b993637d9cf6b94b4efda2995df3782062fdc731",
         "1744355807",
         "22244146",
         "147488.93313498926",
         "{'id': '0xa0b86991c6218b36c1d19d4a2e9eb0ce3606eb48', 'decimals': '6'}",
         "0x7583b1589aDD33320366A48A92794D77763FAE9e",
         "{'id': '0x390f3595bca2df7d23783dfd126427cceb997bf4', 'decimals': '18'}",
         "150000.0",
         "0xa7569A44f348d3D70d8ad5889e50F78E33d80D35",
         "0x390f3595bCa2Df7d23783dFd126427CCeb997BF4",
         "0xA0b86991c6218b36c1d19D4a2e9Eb0cE3606eB48"
        ],
        [
         "32",
         "0xe9640e56ae896fa142675229d19514065d39ef1bb6e8b834d99fe1d5820f1b6a",
         "1745716667",
         "22357046",
         "149089.13206443304",
         "{'id': '0x9fb7b4477576fe5b32be4c1843afb1e55f251b33', 'decimals': '6'}",
         "0xa345ceECCF8fe6aE33fe1D655B4806492251c2A8",
         "{'id': '0x635ef0056a597d13863b73825cca297236578595', 'decimals': '18'}",
         "130697.76925",
         "0x7876F91BB22148345b3De16af9448081E9853830",
         "0x635EF0056A597D13863B73825CcA297236578595",
         "0x9Fb7b4477576Fe5B32be4C1843aFB1e55F251B33"
        ],
        [
         "33",
         "0xe8edad6e352eb0a9755e8b9f55c03d94ea18dab8fc70db0d320667efd09f54df",
         "1745164751",
         "22311261",
         "218628.176391",
         "{'id': '0xa0b86991c6218b36c1d19d4a2e9eb0ce3606eb48', 'decimals': '6'}",
         "0xE4545f9dBC30Ccb6Cda6930DDFd69f3D419FcB61",
         "{'id': '0x5c20b550819128074fd538edf79791733ccedd18', 'decimals': '6'}",
         "250000.0",
         "0xa7569A44f348d3D70d8ad5889e50F78E33d80D35",
         "0x5C20B550819128074FD538Edf79791733ccEdd18",
         "0xA0b86991c6218b36c1d19D4a2e9Eb0cE3606eB48"
        ],
        [
         "34",
         "0xe83c4cb4c6d7b99387a52e9742ba8fe142832b4ff9811e706cb266084438bd5d",
         "1745090219",
         "22305082",
         "74441.17739313151",
         "{'id': '0xa0b86991c6218b36c1d19d4a2e9eb0ce3606eb48', 'decimals': '6'}",
         "0xbB2d2dd491204a86ec10a1a6972F940B34fE060e",
         "{'id': '0x4f493b7de8aac7d55f71853688b1f7c8f0243c85', 'decimals': '18'}",
         "75000.0",
         "0xa7569A44f348d3D70d8ad5889e50F78E33d80D35",
         "0x4f493B7dE8aAC7d55F71853688b1F7C8F0243C85",
         "0xA0b86991c6218b36c1d19D4a2e9Eb0cE3606eB48"
        ],
        [
         "35",
         "0xe703d93d0013967fec68c09fe6577e780e6a2a522eef7e5ab97da8463a6a5702",
         "1744299911",
         "22239508",
         "245827.60436608852",
         "{'id': '0xa0b86991c6218b36c1d19d4a2e9eb0ce3606eb48', 'decimals': '6'}",
         "0x7583b1589aDD33320366A48A92794D77763FAE9e",
         "{'id': '0x390f3595bca2df7d23783dfd126427cceb997bf4', 'decimals': '18'}",
         "250000.0",
         "0xa7569A44f348d3D70d8ad5889e50F78E33d80D35",
         "0x390f3595bCa2Df7d23783dFd126427CCeb997BF4",
         "0xA0b86991c6218b36c1d19D4a2e9Eb0cE3606eB48"
        ],
        [
         "36",
         "0xe61758442e2ee92d598c6347fb5f7fd0595a29e62ebacf6d0912ea7f7765f569",
         "1745106263",
         "22306415",
         "437321.45995",
         "{'id': '0xa0b86991c6218b36c1d19d4a2e9eb0ce3606eb48', 'decimals': '6'}",
         "0xE4545f9dBC30Ccb6Cda6930DDFd69f3D419FcB61",
         "{'id': '0x5c20b550819128074fd538edf79791733ccedd18', 'decimals': '6'}",
         "500000.0",
         "0xa7569A44f348d3D70d8ad5889e50F78E33d80D35",
         "0x5C20B550819128074FD538Edf79791733ccEdd18",
         "0xA0b86991c6218b36c1d19D4a2e9Eb0cE3606eB48"
        ],
        [
         "37",
         "0xe59412dfb0dad3fbb1a9b9deecc20a1bed4e5da0ced6d59a9107d697c4220bce",
         "1745207099",
         "22314769",
         "134365.1596861054",
         "{'id': '0xa0b86991c6218b36c1d19d4a2e9eb0ce3606eb48', 'decimals': '6'}",
         "0xd7900d87069C815a299bdA7aFDcd7eEe98fe4b6c",
         "{'id': '0x5b03cccab7ba3010fa5cad23746cbf0794938e96', 'decimals': '18'}",
         "135304.32449",
         "0xa7569A44f348d3D70d8ad5889e50F78E33d80D35",
         "0x5B03CcCAb7BA3010fA5CAd23746cbf0794938e96",
         "0xA0b86991c6218b36c1d19D4a2e9Eb0cE3606eB48"
        ],
        [
         "38",
         "0xe557a46413d5080d0f04287490f54c38a18cf09abb9b1115b0292b8b115d491b",
         "1746569819",
         "22427583",
         "38241.416383",
         "{'id': '0xa0b86991c6218b36c1d19d4a2e9eb0ce3606eb48', 'decimals': '6'}",
         "0x7876F91BB22148345b3De16af9448081E9853830",
         "{'id': '0x9fb7b4477576fe5b32be4c1843afb1e55f251b33', 'decimals': '6'}",
         "43906.581299",
         "0xa7569A44f348d3D70d8ad5889e50F78E33d80D35",
         "0x9Fb7b4477576Fe5B32be4C1843aFB1e55F251B33",
         "0xA0b86991c6218b36c1d19D4a2e9Eb0cE3606eB48"
        ],
        [
         "39",
         "0xe53a317bde38fb25d3341c46b434262e420f8695b547e9a570b66a80f7d61b20",
         "1744474607",
         "22254021",
         "147461.17899423372",
         "{'id': '0xa0b86991c6218b36c1d19d4a2e9eb0ce3606eb48', 'decimals': '6'}",
         "0x7583b1589aDD33320366A48A92794D77763FAE9e",
         "{'id': '0x390f3595bca2df7d23783dfd126427cceb997bf4', 'decimals': '18'}",
         "150000.0",
         "0xa7569A44f348d3D70d8ad5889e50F78E33d80D35",
         "0x390f3595bCa2Df7d23783dFd126427CCeb997BF4",
         "0xA0b86991c6218b36c1d19D4a2e9Eb0cE3606eB48"
        ],
        [
         "40",
         "0xe3dfb22e54abc3ea9e3ea5b6528467645c3379f0f6afcabf8be55d061691be28",
         "1744254443",
         "22235729",
         "99400.47187877394",
         "{'id': '0xa0b86991c6218b36c1d19d4a2e9eb0ce3606eb48', 'decimals': '6'}",
         "0xd7900d87069C815a299bdA7aFDcd7eEe98fe4b6c",
         "{'id': '0x5b03cccab7ba3010fa5cad23746cbf0794938e96', 'decimals': '18'}",
         "99999.999999",
         "0xa7569A44f348d3D70d8ad5889e50F78E33d80D35",
         "0x5B03CcCAb7BA3010fA5CAd23746cbf0794938e96",
         "0xA0b86991c6218b36c1d19D4a2e9Eb0cE3606eB48"
        ],
        [
         "41",
         "0xe3c3dc166eca6db15529bb337def18d69ef122776d98d21434db85df2b48681c",
         "1746505547",
         "22422275",
         "144944.97240980127",
         "{'id': '0x5c20b550819128074fd538edf79791733ccedd18', 'decimals': '6'}",
         "0x3Ee3F7A0B244004B0678EBa98bA091eC101513Ee",
         "{'id': '0xfd1627e3f3469c8392c8c3a261d8f0677586e5e1', 'decimals': '18'}",
         "131073.05138",
         "0xE4545f9dBC30Ccb6Cda6930DDFd69f3D419FcB61",
         "0xfD1627E3f3469C8392C8c3A261D8F0677586e5e1",
         "0x5C20B550819128074FD538Edf79791733ccEdd18"
        ],
        [
         "42",
         "0xe3a0373db2f1143d47e7e7e944a9a08ee289c437db5a6bc435dca090ef03dc84",
         "1744888607",
         "22288360",
         "148987.8681598175",
         "{'id': '0xa0b86991c6218b36c1d19d4a2e9eb0ce3606eb48', 'decimals': '6'}",
         "0xbB2d2dd491204a86ec10a1a6972F940B34fE060e",
         "{'id': '0x4f493b7de8aac7d55f71853688b1f7c8f0243c85', 'decimals': '18'}",
         "150000.0",
         "0xa7569A44f348d3D70d8ad5889e50F78E33d80D35",
         "0x4f493B7dE8aAC7d55F71853688b1F7C8F0243C85",
         "0xA0b86991c6218b36c1d19D4a2e9Eb0cE3606eB48"
        ],
        [
         "43",
         "0xe19e214ad7483c3f757f4eda3c5cf98929d11b84730464e217ab808a29dc6ae9",
         "1746297923",
         "22405134",
         "148057.300848",
         "{'id': '0xa0b86991c6218b36c1d19d4a2e9eb0ce3606eb48', 'decimals': '6'}",
         "0x7876F91BB22148345b3De16af9448081E9853830",
         "{'id': '0x9fb7b4477576fe5b32be4c1843afb1e55f251b33', 'decimals': '6'}",
         "170000.0",
         "0xa7569A44f348d3D70d8ad5889e50F78E33d80D35",
         "0x9Fb7b4477576Fe5B32be4C1843aFB1e55F251B33",
         "0xA0b86991c6218b36c1d19D4a2e9Eb0cE3606eB48"
        ],
        [
         "44",
         "0xe08fab430452304d5a139ee69698fd3cb64b52fe28420f9bb25278bb70791304",
         "1744686995",
         "22271642",
         "135677.18211868283",
         "{'id': '0xa0b86991c6218b36c1d19d4a2e9eb0ce3606eb48', 'decimals': '6'}",
         "0x7583b1589aDD33320366A48A92794D77763FAE9e",
         "{'id': '0x390f3595bca2df7d23783dfd126427cceb997bf4', 'decimals': '18'}",
         "138096.373675",
         "0xa7569A44f348d3D70d8ad5889e50F78E33d80D35",
         "0x390f3595bCa2Df7d23783dFd126427CCeb997BF4",
         "0xA0b86991c6218b36c1d19D4a2e9Eb0cE3606eB48"
        ],
        [
         "45",
         "0xe0487aed5ee9b0d44783293725bff6ff4b5ce7fac20c29c0490bda4187c07333",
         "1744651835",
         "22268729",
         "143232.57166507747",
         "{'id': '0xa0b86991c6218b36c1d19d4a2e9eb0ce3606eb48', 'decimals': '6'}",
         "0x7583b1589aDD33320366A48A92794D77763FAE9e",
         "{'id': '0x390f3595bca2df7d23783dfd126427cceb997bf4', 'decimals': '18'}",
         "145781.055275",
         "0xa7569A44f348d3D70d8ad5889e50F78E33d80D35",
         "0x390f3595bCa2Df7d23783dFd126427CCeb997BF4",
         "0xA0b86991c6218b36c1d19D4a2e9Eb0cE3606eB48"
        ],
        [
         "46",
         "0xdf7a92e9823333db93718d7828a3ba07ade6ed7b0f5e1ec5c5d133cf305bc407",
         "1744325075",
         "22241595",
         "85742.83886791604",
         "{'id': '0xa0b86991c6218b36c1d19d4a2e9eb0ce3606eb48', 'decimals': '6'}",
         "0xbB2d2dd491204a86ec10a1a6972F940B34fE060e",
         "{'id': '0x4f493b7de8aac7d55f71853688b1f7c8f0243c85', 'decimals': '18'}",
         "86270.928764",
         "0xa7569A44f348d3D70d8ad5889e50F78E33d80D35",
         "0x4f493B7dE8aAC7d55F71853688b1F7C8F0243C85",
         "0xA0b86991c6218b36c1d19D4a2e9Eb0cE3606eB48"
        ],
        [
         "47",
         "0xdab0a1fdc93b71c02751554f1f7f4f61df7b6e4ff1d02a66f8719e69beee9d3b",
         "1746315923",
         "22406620",
         "84464.02847117599",
         "{'id': '0xbeef01735c132ada46aa9aa4c54623caa92a64cb', 'decimals': '18'}",
         "0xa345ceECCF8fe6aE33fe1D655B4806492251c2A8",
         "{'id': '0x635ef0056a597d13863b73825cca297236578595', 'decimals': '18'}",
         "78489.96390385073",
         "0xC5c95fCad37E466E25e6ecA1977bbF75C0E1004a",
         "0x635EF0056A597D13863B73825CcA297236578595",
         "0xBEEF01735c132Ada46AA9aA4c54623cAA92A64CB"
        ],
        [
         "48",
         "0xda7e2c4d30db874ecb3430fee673beb8b980146c9637cd242816615ca93ba25f",
         "1745146751",
         "22309771",
         "241917.61649261712",
         "{'id': '0xa0b86991c6218b36c1d19d4a2e9eb0ce3606eb48', 'decimals': '6'}",
         "0x3Ee3F7A0B244004B0678EBa98bA091eC101513Ee",
         "{'id': '0xfd1627e3f3469c8392c8c3a261d8f0677586e5e1', 'decimals': '18'}",
         "250000.0",
         "0xa7569A44f348d3D70d8ad5889e50F78E33d80D35",
         "0xfD1627E3f3469C8392C8c3A261D8F0677586e5e1",
         "0xA0b86991c6218b36c1d19D4a2e9Eb0cE3606eB48"
        ],
        [
         "49",
         "0xda38fdcd54000bffb94ad9806c7ed3473d4675d5df36d9609f62e636bfdf8f44",
         "1744337819",
         "22242654",
         "253938.90733594674",
         "{'id': '0xa0b86991c6218b36c1d19d4a2e9eb0ce3606eb48', 'decimals': '6'}",
         "0x7583b1589aDD33320366A48A92794D77763FAE9e",
         "{'id': '0x390f3595bca2df7d23783dfd126427cceb997bf4', 'decimals': '18'}",
         "258350.563857",
         "0xa7569A44f348d3D70d8ad5889e50F78E33d80D35",
         "0x390f3595bCa2Df7d23783dFd126427CCeb997BF4",
         "0xA0b86991c6218b36c1d19D4a2e9Eb0cE3606eB48"
        ]
       ],
       "shape": {
        "columns": 11,
        "rows": 299
       }
      },
      "text/html": [
       "<div>\n",
       "<style scoped>\n",
       "    .dataframe tbody tr th:only-of-type {\n",
       "        vertical-align: middle;\n",
       "    }\n",
       "\n",
       "    .dataframe tbody tr th {\n",
       "        vertical-align: top;\n",
       "    }\n",
       "\n",
       "    .dataframe thead th {\n",
       "        text-align: right;\n",
       "    }\n",
       "</style>\n",
       "<table border=\"1\" class=\"dataframe\">\n",
       "  <thead>\n",
       "    <tr style=\"text-align: right;\">\n",
       "      <th></th>\n",
       "      <th>transactionHash</th>\n",
       "      <th>timestamp</th>\n",
       "      <th>blockNumber</th>\n",
       "      <th>tokenInAmount</th>\n",
       "      <th>tokenOut</th>\n",
       "      <th>destinationInAddress</th>\n",
       "      <th>tokenIn</th>\n",
       "      <th>tokenOutAmount</th>\n",
       "      <th>destinationOutAddress</th>\n",
       "      <th>tokenInAddress</th>\n",
       "      <th>tokenOutAddress</th>\n",
       "    </tr>\n",
       "  </thead>\n",
       "  <tbody>\n",
       "    <tr>\n",
       "      <th>0</th>\n",
       "      <td>0xff8915d0bd9054e7678c4366ae8fd5a0a3cce80943be...</td>\n",
       "      <td>1744988327</td>\n",
       "      <td>22296632</td>\n",
       "      <td>148881.150087</td>\n",
       "      <td>{'id': '0xa0b86991c6218b36c1d19d4a2e9eb0ce3606...</td>\n",
       "      <td>0xbB2d2dd491204a86ec10a1a6972F940B34fE060e</td>\n",
       "      <td>{'id': '0x4f493b7de8aac7d55f71853688b1f7c8f024...</td>\n",
       "      <td>150000.000000</td>\n",
       "      <td>0xa7569A44f348d3D70d8ad5889e50F78E33d80D35</td>\n",
       "      <td>0x4f493B7dE8aAC7d55F71853688b1F7C8F0243C85</td>\n",
       "      <td>0xA0b86991c6218b36c1d19D4a2e9Eb0cE3606eB48</td>\n",
       "    </tr>\n",
       "    <tr>\n",
       "      <th>1</th>\n",
       "      <td>0xff3d22a3564c8121f28d7d47feffb8251785ad2c48e4...</td>\n",
       "      <td>1744997471</td>\n",
       "      <td>22297389</td>\n",
       "      <td>148885.474474</td>\n",
       "      <td>{'id': '0xa0b86991c6218b36c1d19d4a2e9eb0ce3606...</td>\n",
       "      <td>0xbB2d2dd491204a86ec10a1a6972F940B34fE060e</td>\n",
       "      <td>{'id': '0x4f493b7de8aac7d55f71853688b1f7c8f024...</td>\n",
       "      <td>150000.000000</td>\n",
       "      <td>0xa7569A44f348d3D70d8ad5889e50F78E33d80D35</td>\n",
       "      <td>0x4f493B7dE8aAC7d55F71853688b1F7C8F0243C85</td>\n",
       "      <td>0xA0b86991c6218b36c1d19D4a2e9Eb0cE3606eB48</td>\n",
       "    </tr>\n",
       "    <tr>\n",
       "      <th>2</th>\n",
       "      <td>0xfecf659a8d1c06c45010afc47fcefc6405d906a85e84...</td>\n",
       "      <td>1746235043</td>\n",
       "      <td>22399927</td>\n",
       "      <td>320651.575857</td>\n",
       "      <td>{'id': '0xa0b86991c6218b36c1d19d4a2e9eb0ce3606...</td>\n",
       "      <td>0xC5c95fCad37E466E25e6ecA1977bbF75C0E1004a</td>\n",
       "      <td>{'id': '0xbeef01735c132ada46aa9aa4c54623caa92a...</td>\n",
       "      <td>347222.682150</td>\n",
       "      <td>0xa7569A44f348d3D70d8ad5889e50F78E33d80D35</td>\n",
       "      <td>0xBEEF01735c132Ada46AA9aA4c54623cAA92A64CB</td>\n",
       "      <td>0xA0b86991c6218b36c1d19D4a2e9Eb0cE3606eB48</td>\n",
       "    </tr>\n",
       "    <tr>\n",
       "      <th>3</th>\n",
       "      <td>0xfca3e4ad4e6296b2444ed28a8012cda8694ef5d23ce9...</td>\n",
       "      <td>1746116255</td>\n",
       "      <td>22390138</td>\n",
       "      <td>148075.994800</td>\n",
       "      <td>{'id': '0xa0b86991c6218b36c1d19d4a2e9eb0ce3606...</td>\n",
       "      <td>0x7876F91BB22148345b3De16af9448081E9853830</td>\n",
       "      <td>{'id': '0x9fb7b4477576fe5b32be4c1843afb1e55f25...</td>\n",
       "      <td>170000.000000</td>\n",
       "      <td>0xa7569A44f348d3D70d8ad5889e50F78E33d80D35</td>\n",
       "      <td>0x9Fb7b4477576Fe5B32be4C1843aFB1e55F251B33</td>\n",
       "      <td>0xA0b86991c6218b36c1d19D4a2e9Eb0cE3606eB48</td>\n",
       "    </tr>\n",
       "    <tr>\n",
       "      <th>4</th>\n",
       "      <td>0xfc37985d3c7182369be30f9dbe69409a8b05d008bde2...</td>\n",
       "      <td>1745111003</td>\n",
       "      <td>22306807</td>\n",
       "      <td>437134.294459</td>\n",
       "      <td>{'id': '0xa0b86991c6218b36c1d19d4a2e9eb0ce3606...</td>\n",
       "      <td>0xE4545f9dBC30Ccb6Cda6930DDFd69f3D419FcB61</td>\n",
       "      <td>{'id': '0x5c20b550819128074fd538edf79791733cce...</td>\n",
       "      <td>500000.000000</td>\n",
       "      <td>0xa7569A44f348d3D70d8ad5889e50F78E33d80D35</td>\n",
       "      <td>0x5C20B550819128074FD538Edf79791733ccEdd18</td>\n",
       "      <td>0xA0b86991c6218b36c1d19D4a2e9Eb0cE3606eB48</td>\n",
       "    </tr>\n",
       "    <tr>\n",
       "      <th>...</th>\n",
       "      <td>...</td>\n",
       "      <td>...</td>\n",
       "      <td>...</td>\n",
       "      <td>...</td>\n",
       "      <td>...</td>\n",
       "      <td>...</td>\n",
       "      <td>...</td>\n",
       "      <td>...</td>\n",
       "      <td>...</td>\n",
       "      <td>...</td>\n",
       "      <td>...</td>\n",
       "    </tr>\n",
       "    <tr>\n",
       "      <th>294</th>\n",
       "      <td>0x02a5528289efe28718bed54e9c5b0772f16eba69d609...</td>\n",
       "      <td>1744695875</td>\n",
       "      <td>22272381</td>\n",
       "      <td>76347.504659</td>\n",
       "      <td>{'id': '0xa0b86991c6218b36c1d19d4a2e9eb0ce3606...</td>\n",
       "      <td>0x7583b1589aDD33320366A48A92794D77763FAE9e</td>\n",
       "      <td>{'id': '0x390f3595bca2df7d23783dfd126427cceb99...</td>\n",
       "      <td>77679.210200</td>\n",
       "      <td>0xa7569A44f348d3D70d8ad5889e50F78E33d80D35</td>\n",
       "      <td>0x390f3595bCa2Df7d23783dFd126427CCeb997BF4</td>\n",
       "      <td>0xA0b86991c6218b36c1d19D4a2e9Eb0cE3606eB48</td>\n",
       "    </tr>\n",
       "    <tr>\n",
       "      <th>295</th>\n",
       "      <td>0x02065d1b16c7c693afe6358f38647b921a095d6876ec...</td>\n",
       "      <td>1745911055</td>\n",
       "      <td>22373171</td>\n",
       "      <td>26611.724622</td>\n",
       "      <td>{'id': '0xa0b86991c6218b36c1d19d4a2e9eb0ce3606...</td>\n",
       "      <td>0x7583b1589aDD33320366A48A92794D77763FAE9e</td>\n",
       "      <td>{'id': '0x390f3595bca2df7d23783dfd126427cceb99...</td>\n",
       "      <td>27068.157900</td>\n",
       "      <td>0xa7569A44f348d3D70d8ad5889e50F78E33d80D35</td>\n",
       "      <td>0x390f3595bCa2Df7d23783dFd126427CCeb997BF4</td>\n",
       "      <td>0xA0b86991c6218b36c1d19D4a2e9Eb0cE3606eB48</td>\n",
       "    </tr>\n",
       "    <tr>\n",
       "      <th>296</th>\n",
       "      <td>0x012e26a2633c10388ffc3ee1a2a95c9569b54ff4f918...</td>\n",
       "      <td>1744556327</td>\n",
       "      <td>22260800</td>\n",
       "      <td>140053.102440</td>\n",
       "      <td>{'id': '0x4f493b7de8aac7d55f71853688b1f7c8f024...</td>\n",
       "      <td>0xC099899d0278CE83976218Cbe58D01dD382dcA32</td>\n",
       "      <td>{'id': '0x57064f49ad7123c92560882a45518374ad98...</td>\n",
       "      <td>149036.479162</td>\n",
       "      <td>0xbB2d2dd491204a86ec10a1a6972F940B34fE060e</td>\n",
       "      <td>0x57064F49Ad7123C92560882a45518374ad982e85</td>\n",
       "      <td>0x4f493B7dE8aAC7d55F71853688b1F7C8F0243C85</td>\n",
       "    </tr>\n",
       "    <tr>\n",
       "      <th>297</th>\n",
       "      <td>0x00ff23899cd9bb0075ebe5ac23a3faa815088ddd32ab...</td>\n",
       "      <td>1744906595</td>\n",
       "      <td>22289850</td>\n",
       "      <td>148973.430940</td>\n",
       "      <td>{'id': '0xa0b86991c6218b36c1d19d4a2e9eb0ce3606...</td>\n",
       "      <td>0xbB2d2dd491204a86ec10a1a6972F940B34fE060e</td>\n",
       "      <td>{'id': '0x4f493b7de8aac7d55f71853688b1f7c8f024...</td>\n",
       "      <td>150000.000000</td>\n",
       "      <td>0xa7569A44f348d3D70d8ad5889e50F78E33d80D35</td>\n",
       "      <td>0x4f493B7dE8aAC7d55F71853688b1F7C8F0243C85</td>\n",
       "      <td>0xA0b86991c6218b36c1d19D4a2e9Eb0cE3606eB48</td>\n",
       "    </tr>\n",
       "    <tr>\n",
       "      <th>298</th>\n",
       "      <td>0x0000f50368b9d54cf50696552d1adeb3d070298ee8a7...</td>\n",
       "      <td>1744678547</td>\n",
       "      <td>22270944</td>\n",
       "      <td>196495.452853</td>\n",
       "      <td>{'id': '0xa0b86991c6218b36c1d19d4a2e9eb0ce3606...</td>\n",
       "      <td>0x7583b1589aDD33320366A48A92794D77763FAE9e</td>\n",
       "      <td>{'id': '0x390f3595bca2df7d23783dfd126427cceb99...</td>\n",
       "      <td>199999.999999</td>\n",
       "      <td>0xa7569A44f348d3D70d8ad5889e50F78E33d80D35</td>\n",
       "      <td>0x390f3595bCa2Df7d23783dFd126427CCeb997BF4</td>\n",
       "      <td>0xA0b86991c6218b36c1d19D4a2e9Eb0cE3606eB48</td>\n",
       "    </tr>\n",
       "  </tbody>\n",
       "</table>\n",
       "<p>299 rows × 11 columns</p>\n",
       "</div>"
      ],
      "text/plain": [
       "                                       transactionHash   timestamp  \\\n",
       "0    0xff8915d0bd9054e7678c4366ae8fd5a0a3cce80943be...  1744988327   \n",
       "1    0xff3d22a3564c8121f28d7d47feffb8251785ad2c48e4...  1744997471   \n",
       "2    0xfecf659a8d1c06c45010afc47fcefc6405d906a85e84...  1746235043   \n",
       "3    0xfca3e4ad4e6296b2444ed28a8012cda8694ef5d23ce9...  1746116255   \n",
       "4    0xfc37985d3c7182369be30f9dbe69409a8b05d008bde2...  1745111003   \n",
       "..                                                 ...         ...   \n",
       "294  0x02a5528289efe28718bed54e9c5b0772f16eba69d609...  1744695875   \n",
       "295  0x02065d1b16c7c693afe6358f38647b921a095d6876ec...  1745911055   \n",
       "296  0x012e26a2633c10388ffc3ee1a2a95c9569b54ff4f918...  1744556327   \n",
       "297  0x00ff23899cd9bb0075ebe5ac23a3faa815088ddd32ab...  1744906595   \n",
       "298  0x0000f50368b9d54cf50696552d1adeb3d070298ee8a7...  1744678547   \n",
       "\n",
       "     blockNumber  tokenInAmount  \\\n",
       "0       22296632  148881.150087   \n",
       "1       22297389  148885.474474   \n",
       "2       22399927  320651.575857   \n",
       "3       22390138  148075.994800   \n",
       "4       22306807  437134.294459   \n",
       "..           ...            ...   \n",
       "294     22272381   76347.504659   \n",
       "295     22373171   26611.724622   \n",
       "296     22260800  140053.102440   \n",
       "297     22289850  148973.430940   \n",
       "298     22270944  196495.452853   \n",
       "\n",
       "                                              tokenOut  \\\n",
       "0    {'id': '0xa0b86991c6218b36c1d19d4a2e9eb0ce3606...   \n",
       "1    {'id': '0xa0b86991c6218b36c1d19d4a2e9eb0ce3606...   \n",
       "2    {'id': '0xa0b86991c6218b36c1d19d4a2e9eb0ce3606...   \n",
       "3    {'id': '0xa0b86991c6218b36c1d19d4a2e9eb0ce3606...   \n",
       "4    {'id': '0xa0b86991c6218b36c1d19d4a2e9eb0ce3606...   \n",
       "..                                                 ...   \n",
       "294  {'id': '0xa0b86991c6218b36c1d19d4a2e9eb0ce3606...   \n",
       "295  {'id': '0xa0b86991c6218b36c1d19d4a2e9eb0ce3606...   \n",
       "296  {'id': '0x4f493b7de8aac7d55f71853688b1f7c8f024...   \n",
       "297  {'id': '0xa0b86991c6218b36c1d19d4a2e9eb0ce3606...   \n",
       "298  {'id': '0xa0b86991c6218b36c1d19d4a2e9eb0ce3606...   \n",
       "\n",
       "                           destinationInAddress  \\\n",
       "0    0xbB2d2dd491204a86ec10a1a6972F940B34fE060e   \n",
       "1    0xbB2d2dd491204a86ec10a1a6972F940B34fE060e   \n",
       "2    0xC5c95fCad37E466E25e6ecA1977bbF75C0E1004a   \n",
       "3    0x7876F91BB22148345b3De16af9448081E9853830   \n",
       "4    0xE4545f9dBC30Ccb6Cda6930DDFd69f3D419FcB61   \n",
       "..                                          ...   \n",
       "294  0x7583b1589aDD33320366A48A92794D77763FAE9e   \n",
       "295  0x7583b1589aDD33320366A48A92794D77763FAE9e   \n",
       "296  0xC099899d0278CE83976218Cbe58D01dD382dcA32   \n",
       "297  0xbB2d2dd491204a86ec10a1a6972F940B34fE060e   \n",
       "298  0x7583b1589aDD33320366A48A92794D77763FAE9e   \n",
       "\n",
       "                                               tokenIn  tokenOutAmount  \\\n",
       "0    {'id': '0x4f493b7de8aac7d55f71853688b1f7c8f024...   150000.000000   \n",
       "1    {'id': '0x4f493b7de8aac7d55f71853688b1f7c8f024...   150000.000000   \n",
       "2    {'id': '0xbeef01735c132ada46aa9aa4c54623caa92a...   347222.682150   \n",
       "3    {'id': '0x9fb7b4477576fe5b32be4c1843afb1e55f25...   170000.000000   \n",
       "4    {'id': '0x5c20b550819128074fd538edf79791733cce...   500000.000000   \n",
       "..                                                 ...             ...   \n",
       "294  {'id': '0x390f3595bca2df7d23783dfd126427cceb99...    77679.210200   \n",
       "295  {'id': '0x390f3595bca2df7d23783dfd126427cceb99...    27068.157900   \n",
       "296  {'id': '0x57064f49ad7123c92560882a45518374ad98...   149036.479162   \n",
       "297  {'id': '0x4f493b7de8aac7d55f71853688b1f7c8f024...   150000.000000   \n",
       "298  {'id': '0x390f3595bca2df7d23783dfd126427cceb99...   199999.999999   \n",
       "\n",
       "                          destinationOutAddress  \\\n",
       "0    0xa7569A44f348d3D70d8ad5889e50F78E33d80D35   \n",
       "1    0xa7569A44f348d3D70d8ad5889e50F78E33d80D35   \n",
       "2    0xa7569A44f348d3D70d8ad5889e50F78E33d80D35   \n",
       "3    0xa7569A44f348d3D70d8ad5889e50F78E33d80D35   \n",
       "4    0xa7569A44f348d3D70d8ad5889e50F78E33d80D35   \n",
       "..                                          ...   \n",
       "294  0xa7569A44f348d3D70d8ad5889e50F78E33d80D35   \n",
       "295  0xa7569A44f348d3D70d8ad5889e50F78E33d80D35   \n",
       "296  0xbB2d2dd491204a86ec10a1a6972F940B34fE060e   \n",
       "297  0xa7569A44f348d3D70d8ad5889e50F78E33d80D35   \n",
       "298  0xa7569A44f348d3D70d8ad5889e50F78E33d80D35   \n",
       "\n",
       "                                 tokenInAddress  \\\n",
       "0    0x4f493B7dE8aAC7d55F71853688b1F7C8F0243C85   \n",
       "1    0x4f493B7dE8aAC7d55F71853688b1F7C8F0243C85   \n",
       "2    0xBEEF01735c132Ada46AA9aA4c54623cAA92A64CB   \n",
       "3    0x9Fb7b4477576Fe5B32be4C1843aFB1e55F251B33   \n",
       "4    0x5C20B550819128074FD538Edf79791733ccEdd18   \n",
       "..                                          ...   \n",
       "294  0x390f3595bCa2Df7d23783dFd126427CCeb997BF4   \n",
       "295  0x390f3595bCa2Df7d23783dFd126427CCeb997BF4   \n",
       "296  0x57064F49Ad7123C92560882a45518374ad982e85   \n",
       "297  0x4f493B7dE8aAC7d55F71853688b1F7C8F0243C85   \n",
       "298  0x390f3595bCa2Df7d23783dFd126427CCeb997BF4   \n",
       "\n",
       "                                tokenOutAddress  \n",
       "0    0xA0b86991c6218b36c1d19D4a2e9Eb0cE3606eB48  \n",
       "1    0xA0b86991c6218b36c1d19D4a2e9Eb0cE3606eB48  \n",
       "2    0xA0b86991c6218b36c1d19D4a2e9Eb0cE3606eB48  \n",
       "3    0xA0b86991c6218b36c1d19D4a2e9Eb0cE3606eB48  \n",
       "4    0xA0b86991c6218b36c1d19D4a2e9Eb0cE3606eB48  \n",
       "..                                          ...  \n",
       "294  0xA0b86991c6218b36c1d19D4a2e9Eb0cE3606eB48  \n",
       "295  0xA0b86991c6218b36c1d19D4a2e9Eb0cE3606eB48  \n",
       "296  0x4f493B7dE8aAC7d55F71853688b1F7C8F0243C85  \n",
       "297  0xA0b86991c6218b36c1d19D4a2e9Eb0cE3606eB48  \n",
       "298  0xA0b86991c6218b36c1d19D4a2e9Eb0cE3606eB48  \n",
       "\n",
       "[299 rows x 11 columns]"
      ]
     },
     "execution_count": 1,
     "metadata": {},
     "output_type": "execute_result"
    }
   ],
   "source": [
    "import requests\n",
    "import pandas as pd\n",
    "from mainnet_launch.constants import AUTO_ETH\n",
    "from web3 import Web3\n",
    "\n",
    "\n",
    "def paginate_query(api_url: str, query: str, variables: dict, data_col: str) -> list[dict]:\n",
    "    \"\"\"\n",
    "    Helper to page through a GraphQL connection using `first`/`skip`.\n",
    "\n",
    "    :param api_url: GraphQL endpoint\n",
    "    :param query: The GraphQL query string, expecting $first and $skip variables\n",
    "    :param variables: Base variables (e.g. {\"autoEthAddress\": \"...\"}).\n",
    "                      first/skip will be merged in each loop.\n",
    "    :param batch_size: Number of items to fetch per request.\n",
    "    :return: List of result dicts\n",
    "    \"\"\"\n",
    "\n",
    "    all_records = []\n",
    "    skip = 0\n",
    "\n",
    "    while True:\n",
    "        vars_with_pagination = {**variables, \"first\": 500, \"skip\": skip}\n",
    "        resp = requests.post(api_url, json={\"query\": query, \"variables\": vars_with_pagination})\n",
    "        resp.raise_for_status()\n",
    "        batch = resp.json()[\"data\"][data_col]\n",
    "\n",
    "        if not batch:\n",
    "            break\n",
    "\n",
    "        all_records.extend(batch)\n",
    "        skip += 500\n",
    "\n",
    "    return all_records\n",
    "\n",
    "\n",
    "def _get_subgraph_api(chain):\n",
    "    if chain == \"eth\":\n",
    "        api_url = \"https://subgraph.satsuma-prod.com/108d48ba91e3/tokemak/v2-gen3-eth-mainnet/api\"\n",
    "    elif chain == \"base\":\n",
    "        api_url = \"https://subgraph.satsuma-prod.com/108d48ba91e3/tokemak/v2-gen3-base-mainnet/api\"\n",
    "    else:\n",
    "        raise ValueError(\"bad chain\", chain)\n",
    "\n",
    "    return api_url\n",
    "\n",
    "\n",
    "def fetch_autopool_rebalance_events_from_subgraph(autopool_eth_addr: str, chain: str) -> list[dict]:\n",
    "    \"\"\"\n",
    "    Fetches all AutopoolRebalances entries for the given autopool.\n",
    "    \"\"\"\n",
    "    subgraph_url = _get_subgraph_api(chain)\n",
    "\n",
    "    query = \"\"\"\n",
    "    query($autoEthAddress: String!, $first: Int!, $skip: Int!) {\n",
    "      autopoolRebalances(\n",
    "        first: $first,\n",
    "        skip: $skip,\n",
    "        orderBy: id,\n",
    "        orderDirection: desc,\n",
    "        where: { autopool: $autoEthAddress }\n",
    "      ) {\n",
    "        transactionHash\n",
    "        timestamp\n",
    "        blockNumber\n",
    "\n",
    "        tokenInAmount\n",
    "        tokenOut {\n",
    "        id\n",
    "        decimals\n",
    "        \n",
    "        }        \n",
    "        destinationInAddress\n",
    "\n",
    "        tokenIn {\n",
    "        id\n",
    "        decimals\n",
    "        \n",
    "        }   \n",
    "\n",
    "        tokenOutAmount\n",
    "        destinationOutAddress\n",
    "        \n",
    "      }\n",
    "    }\n",
    "    \"\"\"\n",
    "\n",
    "    # Adjust `first` as needed; paginate_query will loop over skip increments of `first`\n",
    "    df = pd.DataFrame.from_records(\n",
    "        paginate_query(\n",
    "            subgraph_url,\n",
    "            query,\n",
    "            variables={\"autoEthAddress\": autopool_eth_addr.lower(), \"first\": 1000, \"skip\": 0},\n",
    "            data_col=\"autopoolRebalances\",\n",
    "        )\n",
    "    )\n",
    "\n",
    "    df[\"tokenInAddress\"] = df[\"tokenIn\"].apply(lambda x: x[\"id\"])\n",
    "    df[\"tokenOutAddress\"] = df[\"tokenOut\"].apply(lambda x: x[\"id\"])\n",
    "\n",
    "    df[\"tokenOutAmount\"] = df.apply(\n",
    "        lambda row: int(row[\"tokenOutAmount\"]) / (10 ** int(row[\"tokenOut\"][\"decimals\"])), axis=1\n",
    "    )\n",
    "    df[\"tokenInAmount\"] = df.apply(\n",
    "        lambda row: int(row[\"tokenInAmount\"]) / (10 ** int(row[\"tokenIn\"][\"decimals\"])), axis=1\n",
    "    )\n",
    "\n",
    "    df[\"blockNumber\"] = df[\"blockNumber\"].astype(int)\n",
    "\n",
    "    df[\"destinationInAddress\"] = df[\"destinationInAddress\"].apply(lambda x: Web3.toChecksumAddress(x))\n",
    "    df[\"tokenInAddress\"] = df[\"tokenInAddress\"].apply(lambda x: Web3.toChecksumAddress(x))\n",
    "\n",
    "    df[\"destinationOutAddress\"] = df[\"destinationOutAddress\"].apply(lambda x: Web3.toChecksumAddress(x))\n",
    "    df[\"tokenOutAddress\"] = df[\"tokenOutAddress\"].apply(lambda x: Web3.toChecksumAddress(x))\n",
    "\n",
    "    return df\n",
    "\n",
    "\n",
    "rebalance_event_df = fetch_autopool_rebalance_events_from_subgraph(\"0xa7569A44f348d3D70d8ad5889e50F78E33d80D35\", \"eth\")\n",
    "rebalance_event_df"
   ]
  },
  {
   "cell_type": "code",
   "execution_count": 2,
   "metadata": {},
   "outputs": [
    {
     "name": "stderr",
     "output_type": "stream",
     "text": [
      "2025-05-09 10:43:24.570 WARNING streamlit.runtime.caching.cache_data_api: No runtime found, using MemoryCacheStorageManager\n"
     ]
    },
    {
     "name": "stdout",
     "output_type": "stream",
     "text": [
      "2025-05-09 10:43:25,497 INFO sqlalchemy.engine.Engine select pg_catalog.version()\n",
      "2025-05-09 10:43:25,498 INFO sqlalchemy.engine.Engine [raw sql] {}\n",
      "2025-05-09 10:43:25,687 INFO sqlalchemy.engine.Engine select current_schema()\n",
      "2025-05-09 10:43:25,688 INFO sqlalchemy.engine.Engine [raw sql] {}\n",
      "2025-05-09 10:43:25,878 INFO sqlalchemy.engine.Engine show standard_conforming_strings\n",
      "2025-05-09 10:43:25,879 INFO sqlalchemy.engine.Engine [raw sql] {}\n",
      "2025-05-09 10:43:26,077 INFO sqlalchemy.engine.Engine BEGIN (implicit)\n",
      "2025-05-09 10:43:26,077 INFO sqlalchemy.engine.Engine \n",
      "            SELECT *\n",
      "            FROM destination_states\n",
      "            WHERE destination_states.chain_id = 1\n",
      "        \n",
      "2025-05-09 10:43:26,078 INFO sqlalchemy.engine.Engine [generated in 0.00035s] {}\n",
      "2025-05-09 10:43:27,676 INFO sqlalchemy.engine.Engine COMMIT\n",
      "2025-05-09 10:43:27,829 INFO sqlalchemy.engine.Engine BEGIN (implicit)\n",
      "2025-05-09 10:43:27,829 INFO sqlalchemy.engine.Engine \n",
      "            SELECT *\n",
      "            FROM autopool_states\n",
      "            WHERE autopool_states.chain_id = 1\n",
      "        \n",
      "2025-05-09 10:43:27,830 INFO sqlalchemy.engine.Engine [generated in 0.00038s] {}\n",
      "2025-05-09 10:43:28,052 INFO sqlalchemy.engine.Engine COMMIT\n",
      "2025-05-09 10:43:28,151 INFO sqlalchemy.engine.Engine BEGIN (implicit)\n",
      "2025-05-09 10:43:28,152 INFO sqlalchemy.engine.Engine SELECT pg_catalog.pg_class.relname \n",
      "FROM pg_catalog.pg_class JOIN pg_catalog.pg_namespace ON pg_catalog.pg_namespace.oid = pg_catalog.pg_class.relnamespace \n",
      "WHERE pg_catalog.pg_class.relname = %(table_name)s AND pg_catalog.pg_class.relkind = ANY (ARRAY[%(param_1)s, %(param_2)s, %(param_3)s, %(param_4)s, %(param_5)s]) AND pg_catalog.pg_table_is_visible(pg_catalog.pg_class.oid) AND pg_catalog.pg_namespace.nspname != %(nspname_1)s\n",
      "2025-05-09 10:43:28,152 INFO sqlalchemy.engine.Engine [generated in 0.00067s] {'table_name': <sqlalchemy.sql.elements.TextClause object at 0x13b4c86d0>, 'param_1': 'r', 'param_2': 'p', 'param_3': 'f', 'param_4': 'v', 'param_5': 'm', 'nspname_1': 'pg_catalog'}\n",
      "2025-05-09 10:43:28,153 INFO sqlalchemy.engine.Engine SELECT\n",
      "    destination_states.block,\n",
      "    destination_states.lp_token_spot_price,\n",
      "    destinations.destination_vault_address,\n",
      "    destinations.underlying_symbol,\n",
      "    autopool_states.total_nav\n",
      "FROM destination_states\n",
      "JOIN destinations\n",
      "  ON destination_states.chain_id = destination_states.chain_id AND destinations.destination_vault_address = destination_states.destination_vault_address\n",
      "JOIN autopool_states\n",
      "  ON autopool_states.chain_id = destination_states.chain_id AND autopool_states.block = destination_states.block\n",
      "WHERE\n",
      "    (autopool_states.autopool_vault_address = '0xa7569A44f348d3D70d8ad5889e50F78E33d80D35')\n",
      "\n",
      "2025-05-09 10:43:28,153 INFO sqlalchemy.engine.Engine [generated in 0.00035s] {}\n",
      "2025-05-09 10:43:28,544 INFO sqlalchemy.engine.Engine ROLLBACK\n"
     ]
    },
    {
     "data": {
      "application/vnd.microsoft.datawrangler.viewer.v0+json": {
       "columns": [
        {
         "name": "index",
         "rawType": "int64",
         "type": "integer"
        },
        {
         "name": "block",
         "rawType": "int64",
         "type": "integer"
        },
        {
         "name": "lp_token_spot_price",
         "rawType": "float64",
         "type": "float"
        },
        {
         "name": "destination_vault_address",
         "rawType": "object",
         "type": "string"
        },
        {
         "name": "underlying_symbol",
         "rawType": "object",
         "type": "string"
        },
        {
         "name": "total_nav",
         "rawType": "float64",
         "type": "float"
        }
       ],
       "conversionMethod": "pd.DataFrame",
       "ref": "dd167a26-154c-4de0-b415-4b6c27f7746d",
       "rows": [
        [
         "0",
         "20759464",
         "1.0365160849553854",
         "0xf3ae3c74EaD129e770A864CeE291A805b170bBe0",
         "B-rETH-STABLE",
         null
        ],
        [
         "1",
         "20766617",
         "1.0361205280713848",
         "0xf3ae3c74EaD129e770A864CeE291A805b170bBe0",
         "B-rETH-STABLE",
         null
        ],
        [
         "2",
         "20773761",
         "1.0364555933718567",
         "0xf3ae3c74EaD129e770A864CeE291A805b170bBe0",
         "B-rETH-STABLE",
         null
        ],
        [
         "3",
         "20780916",
         "1.0364765860271747",
         "0xf3ae3c74EaD129e770A864CeE291A805b170bBe0",
         "B-rETH-STABLE",
         null
        ],
        [
         "4",
         "20788084",
         "1.036501805496536",
         "0xf3ae3c74EaD129e770A864CeE291A805b170bBe0",
         "B-rETH-STABLE",
         null
        ],
        [
         "5",
         "20795238",
         "1.036591763120045",
         "0xf3ae3c74EaD129e770A864CeE291A805b170bBe0",
         "B-rETH-STABLE",
         null
        ],
        [
         "6",
         "20802389",
         "1.0365445384977086",
         "0xf3ae3c74EaD129e770A864CeE291A805b170bBe0",
         "B-rETH-STABLE",
         null
        ],
        [
         "7",
         "20809562",
         "1.036537333895925",
         "0xf3ae3c74EaD129e770A864CeE291A805b170bBe0",
         "B-rETH-STABLE",
         null
        ],
        [
         "8",
         "20816725",
         "1.036169286150187",
         "0xf3ae3c74EaD129e770A864CeE291A805b170bBe0",
         "B-rETH-STABLE",
         null
        ],
        [
         "9",
         "20823901",
         "1.0365055424249927",
         "0xf3ae3c74EaD129e770A864CeE291A805b170bBe0",
         "B-rETH-STABLE",
         null
        ],
        [
         "10",
         "20831060",
         "1.0364244345779594",
         "0xf3ae3c74EaD129e770A864CeE291A805b170bBe0",
         "B-rETH-STABLE",
         null
        ],
        [
         "11",
         "20838231",
         "1.0360597525273199",
         "0xf3ae3c74EaD129e770A864CeE291A805b170bBe0",
         "B-rETH-STABLE",
         null
        ],
        [
         "12",
         "20845405",
         "1.0363863223095402",
         "0xf3ae3c74EaD129e770A864CeE291A805b170bBe0",
         "B-rETH-STABLE",
         null
        ],
        [
         "13",
         "20852572",
         "1.0362125380928002",
         "0xf3ae3c74EaD129e770A864CeE291A805b170bBe0",
         "B-rETH-STABLE",
         null
        ],
        [
         "14",
         "20859740",
         "1.036388337906328",
         "0xf3ae3c74EaD129e770A864CeE291A805b170bBe0",
         "B-rETH-STABLE",
         null
        ],
        [
         "15",
         "20866918",
         "1.0362196275881363",
         "0xf3ae3c74EaD129e770A864CeE291A805b170bBe0",
         "B-rETH-STABLE",
         null
        ],
        [
         "16",
         "20874085",
         "1.0365481918276231",
         "0xf3ae3c74EaD129e770A864CeE291A805b170bBe0",
         "B-rETH-STABLE",
         null
        ],
        [
         "17",
         "20881261",
         "1.0366599372294465",
         "0xf3ae3c74EaD129e770A864CeE291A805b170bBe0",
         "B-rETH-STABLE",
         null
        ],
        [
         "18",
         "20888424",
         "1.0370981376314217",
         "0xf3ae3c74EaD129e770A864CeE291A805b170bBe0",
         "B-rETH-STABLE",
         null
        ],
        [
         "19",
         "20895606",
         "1.0371377223631348",
         "0xf3ae3c74EaD129e770A864CeE291A805b170bBe0",
         "B-rETH-STABLE",
         null
        ],
        [
         "20",
         "20902784",
         "1.0364266130094493",
         "0xf3ae3c74EaD129e770A864CeE291A805b170bBe0",
         "B-rETH-STABLE",
         null
        ],
        [
         "21",
         "20909955",
         "1.0369574670109791",
         "0xf3ae3c74EaD129e770A864CeE291A805b170bBe0",
         "B-rETH-STABLE",
         null
        ],
        [
         "22",
         "20917130",
         "1.036621969036872",
         "0xf3ae3c74EaD129e770A864CeE291A805b170bBe0",
         "B-rETH-STABLE",
         null
        ],
        [
         "23",
         "20924302",
         "1.036677312155259",
         "0xf3ae3c74EaD129e770A864CeE291A805b170bBe0",
         "B-rETH-STABLE",
         null
        ],
        [
         "24",
         "20931482",
         "1.0365115091224202",
         "0xf3ae3c74EaD129e770A864CeE291A805b170bBe0",
         "B-rETH-STABLE",
         null
        ],
        [
         "25",
         "20938657",
         "1.0365979292060303",
         "0xf3ae3c74EaD129e770A864CeE291A805b170bBe0",
         "B-rETH-STABLE",
         null
        ],
        [
         "26",
         "20945811",
         "1.0367767933642382",
         "0xf3ae3c74EaD129e770A864CeE291A805b170bBe0",
         "B-rETH-STABLE",
         null
        ],
        [
         "27",
         "20952957",
         "1.036783240380476",
         "0xf3ae3c74EaD129e770A864CeE291A805b170bBe0",
         "B-rETH-STABLE",
         null
        ],
        [
         "28",
         "20960089",
         "1.0365344228152629",
         "0xf3ae3c74EaD129e770A864CeE291A805b170bBe0",
         "B-rETH-STABLE",
         null
        ],
        [
         "29",
         "20967244",
         "1.0368139898770816",
         "0xf3ae3c74EaD129e770A864CeE291A805b170bBe0",
         "B-rETH-STABLE",
         null
        ],
        [
         "30",
         "20974401",
         "1.0365918966991885",
         "0xf3ae3c74EaD129e770A864CeE291A805b170bBe0",
         "B-rETH-STABLE",
         null
        ],
        [
         "31",
         "20981560",
         "1.03662116323565",
         "0xf3ae3c74EaD129e770A864CeE291A805b170bBe0",
         "B-rETH-STABLE",
         null
        ],
        [
         "32",
         "20988724",
         "1.0365453894831778",
         "0xf3ae3c74EaD129e770A864CeE291A805b170bBe0",
         "B-rETH-STABLE",
         null
        ],
        [
         "33",
         "20995892",
         "1.0365450943284258",
         "0xf3ae3c74EaD129e770A864CeE291A805b170bBe0",
         "B-rETH-STABLE",
         null
        ],
        [
         "34",
         "21003063",
         "1.0367256837836312",
         "0xf3ae3c74EaD129e770A864CeE291A805b170bBe0",
         "B-rETH-STABLE",
         null
        ],
        [
         "35",
         "21010230",
         "1.036689125517337",
         "0xf3ae3c74EaD129e770A864CeE291A805b170bBe0",
         "B-rETH-STABLE",
         null
        ],
        [
         "36",
         "21017401",
         "1.036653846451594",
         "0xf3ae3c74EaD129e770A864CeE291A805b170bBe0",
         "B-rETH-STABLE",
         null
        ],
        [
         "37",
         "21024558",
         "1.0365836789560992",
         "0xf3ae3c74EaD129e770A864CeE291A805b170bBe0",
         "B-rETH-STABLE",
         null
        ],
        [
         "38",
         "21031733",
         "1.0366221304469656",
         "0xf3ae3c74EaD129e770A864CeE291A805b170bBe0",
         "B-rETH-STABLE",
         null
        ],
        [
         "39",
         "21038905",
         "1.0367589729469024",
         "0xf3ae3c74EaD129e770A864CeE291A805b170bBe0",
         "B-rETH-STABLE",
         null
        ],
        [
         "40",
         "21046076",
         "1.0367696544133118",
         "0xf3ae3c74EaD129e770A864CeE291A805b170bBe0",
         "B-rETH-STABLE",
         null
        ],
        [
         "41",
         "21053236",
         "1.0368710880661614",
         "0xf3ae3c74EaD129e770A864CeE291A805b170bBe0",
         "B-rETH-STABLE",
         null
        ],
        [
         "42",
         "21060412",
         "1.0365980610251755",
         "0xf3ae3c74EaD129e770A864CeE291A805b170bBe0",
         "B-rETH-STABLE",
         null
        ],
        [
         "43",
         "21067570",
         "1.0370733737179398",
         "0xf3ae3c74EaD129e770A864CeE291A805b170bBe0",
         "B-rETH-STABLE",
         null
        ],
        [
         "44",
         "21074738",
         "1.0370405472352573",
         "0xf3ae3c74EaD129e770A864CeE291A805b170bBe0",
         "B-rETH-STABLE",
         null
        ],
        [
         "45",
         "21081894",
         "1.0368673087788043",
         "0xf3ae3c74EaD129e770A864CeE291A805b170bBe0",
         "B-rETH-STABLE",
         null
        ],
        [
         "46",
         "21089068",
         "1.0368788102658695",
         "0xf3ae3c74EaD129e770A864CeE291A805b170bBe0",
         "B-rETH-STABLE",
         null
        ],
        [
         "47",
         "21096238",
         "1.0363329065032478",
         "0xf3ae3c74EaD129e770A864CeE291A805b170bBe0",
         "B-rETH-STABLE",
         null
        ],
        [
         "48",
         "21103392",
         "1.034742405271752",
         "0xf3ae3c74EaD129e770A864CeE291A805b170bBe0",
         "B-rETH-STABLE",
         null
        ],
        [
         "49",
         "21110559",
         "1.0364347938407832",
         "0xf3ae3c74EaD129e770A864CeE291A805b170bBe0",
         "B-rETH-STABLE",
         null
        ]
       ],
       "shape": {
        "columns": 5,
        "rows": 35810
       }
      },
      "text/html": [
       "<div>\n",
       "<style scoped>\n",
       "    .dataframe tbody tr th:only-of-type {\n",
       "        vertical-align: middle;\n",
       "    }\n",
       "\n",
       "    .dataframe tbody tr th {\n",
       "        vertical-align: top;\n",
       "    }\n",
       "\n",
       "    .dataframe thead th {\n",
       "        text-align: right;\n",
       "    }\n",
       "</style>\n",
       "<table border=\"1\" class=\"dataframe\">\n",
       "  <thead>\n",
       "    <tr style=\"text-align: right;\">\n",
       "      <th></th>\n",
       "      <th>block</th>\n",
       "      <th>lp_token_spot_price</th>\n",
       "      <th>destination_vault_address</th>\n",
       "      <th>underlying_symbol</th>\n",
       "      <th>total_nav</th>\n",
       "    </tr>\n",
       "  </thead>\n",
       "  <tbody>\n",
       "    <tr>\n",
       "      <th>0</th>\n",
       "      <td>20759464</td>\n",
       "      <td>1.036516</td>\n",
       "      <td>0xf3ae3c74EaD129e770A864CeE291A805b170bBe0</td>\n",
       "      <td>B-rETH-STABLE</td>\n",
       "      <td>NaN</td>\n",
       "    </tr>\n",
       "    <tr>\n",
       "      <th>1</th>\n",
       "      <td>20766617</td>\n",
       "      <td>1.036121</td>\n",
       "      <td>0xf3ae3c74EaD129e770A864CeE291A805b170bBe0</td>\n",
       "      <td>B-rETH-STABLE</td>\n",
       "      <td>NaN</td>\n",
       "    </tr>\n",
       "    <tr>\n",
       "      <th>2</th>\n",
       "      <td>20773761</td>\n",
       "      <td>1.036456</td>\n",
       "      <td>0xf3ae3c74EaD129e770A864CeE291A805b170bBe0</td>\n",
       "      <td>B-rETH-STABLE</td>\n",
       "      <td>NaN</td>\n",
       "    </tr>\n",
       "    <tr>\n",
       "      <th>3</th>\n",
       "      <td>20780916</td>\n",
       "      <td>1.036477</td>\n",
       "      <td>0xf3ae3c74EaD129e770A864CeE291A805b170bBe0</td>\n",
       "      <td>B-rETH-STABLE</td>\n",
       "      <td>NaN</td>\n",
       "    </tr>\n",
       "    <tr>\n",
       "      <th>4</th>\n",
       "      <td>20788084</td>\n",
       "      <td>1.036502</td>\n",
       "      <td>0xf3ae3c74EaD129e770A864CeE291A805b170bBe0</td>\n",
       "      <td>B-rETH-STABLE</td>\n",
       "      <td>NaN</td>\n",
       "    </tr>\n",
       "    <tr>\n",
       "      <th>...</th>\n",
       "      <td>...</td>\n",
       "      <td>...</td>\n",
       "      <td>...</td>\n",
       "      <td>...</td>\n",
       "      <td>...</td>\n",
       "    </tr>\n",
       "    <tr>\n",
       "      <th>35805</th>\n",
       "      <td>22272381</td>\n",
       "      <td>1.000000</td>\n",
       "      <td>0xa7569A44f348d3D70d8ad5889e50F78E33d80D35</td>\n",
       "      <td>autoUSD</td>\n",
       "      <td>1.010120e+07</td>\n",
       "    </tr>\n",
       "    <tr>\n",
       "      <th>35806</th>\n",
       "      <td>22373171</td>\n",
       "      <td>1.000000</td>\n",
       "      <td>0xa7569A44f348d3D70d8ad5889e50F78E33d80D35</td>\n",
       "      <td>autoUSD</td>\n",
       "      <td>2.429946e+07</td>\n",
       "    </tr>\n",
       "    <tr>\n",
       "      <th>35807</th>\n",
       "      <td>22260800</td>\n",
       "      <td>1.000000</td>\n",
       "      <td>0xa7569A44f348d3D70d8ad5889e50F78E33d80D35</td>\n",
       "      <td>autoUSD</td>\n",
       "      <td>8.023007e+06</td>\n",
       "    </tr>\n",
       "    <tr>\n",
       "      <th>35808</th>\n",
       "      <td>22289850</td>\n",
       "      <td>1.000000</td>\n",
       "      <td>0xa7569A44f348d3D70d8ad5889e50F78E33d80D35</td>\n",
       "      <td>autoUSD</td>\n",
       "      <td>1.348924e+07</td>\n",
       "    </tr>\n",
       "    <tr>\n",
       "      <th>35809</th>\n",
       "      <td>22270944</td>\n",
       "      <td>1.000000</td>\n",
       "      <td>0xa7569A44f348d3D70d8ad5889e50F78E33d80D35</td>\n",
       "      <td>autoUSD</td>\n",
       "      <td>1.003466e+07</td>\n",
       "    </tr>\n",
       "  </tbody>\n",
       "</table>\n",
       "<p>35810 rows × 5 columns</p>\n",
       "</div>"
      ],
      "text/plain": [
       "          block  lp_token_spot_price  \\\n",
       "0      20759464             1.036516   \n",
       "1      20766617             1.036121   \n",
       "2      20773761             1.036456   \n",
       "3      20780916             1.036477   \n",
       "4      20788084             1.036502   \n",
       "...         ...                  ...   \n",
       "35805  22272381             1.000000   \n",
       "35806  22373171             1.000000   \n",
       "35807  22260800             1.000000   \n",
       "35808  22289850             1.000000   \n",
       "35809  22270944             1.000000   \n",
       "\n",
       "                        destination_vault_address underlying_symbol  \\\n",
       "0      0xf3ae3c74EaD129e770A864CeE291A805b170bBe0     B-rETH-STABLE   \n",
       "1      0xf3ae3c74EaD129e770A864CeE291A805b170bBe0     B-rETH-STABLE   \n",
       "2      0xf3ae3c74EaD129e770A864CeE291A805b170bBe0     B-rETH-STABLE   \n",
       "3      0xf3ae3c74EaD129e770A864CeE291A805b170bBe0     B-rETH-STABLE   \n",
       "4      0xf3ae3c74EaD129e770A864CeE291A805b170bBe0     B-rETH-STABLE   \n",
       "...                                           ...               ...   \n",
       "35805  0xa7569A44f348d3D70d8ad5889e50F78E33d80D35           autoUSD   \n",
       "35806  0xa7569A44f348d3D70d8ad5889e50F78E33d80D35           autoUSD   \n",
       "35807  0xa7569A44f348d3D70d8ad5889e50F78E33d80D35           autoUSD   \n",
       "35808  0xa7569A44f348d3D70d8ad5889e50F78E33d80D35           autoUSD   \n",
       "35809  0xa7569A44f348d3D70d8ad5889e50F78E33d80D35           autoUSD   \n",
       "\n",
       "          total_nav  \n",
       "0               NaN  \n",
       "1               NaN  \n",
       "2               NaN  \n",
       "3               NaN  \n",
       "4               NaN  \n",
       "...             ...  \n",
       "35805  1.010120e+07  \n",
       "35806  2.429946e+07  \n",
       "35807  8.023007e+06  \n",
       "35808  1.348924e+07  \n",
       "35809  1.003466e+07  \n",
       "\n",
       "[35810 rows x 5 columns]"
      ]
     },
     "execution_count": 2,
     "metadata": {},
     "output_type": "execute_result"
    }
   ],
   "source": [
    "from mainnet_launch.database.schema.full import (\n",
    "    Blocks,\n",
    "    DestinationTokenValues,\n",
    "    DestinationStates,\n",
    "    Destinations,\n",
    "    AutopoolStates,\n",
    ")\n",
    "from mainnet_launch.database.schema.postgres_operations import (\n",
    "    merge_tables_as_df,\n",
    "    TableSelector,\n",
    ")\n",
    "from mainnet_launch.database.schema.ensure_tables_are_current.update_destinations_states_table import (\n",
    "    _add_new_destination_states_to_db,\n",
    ")\n",
    "\n",
    "from mainnet_launch.database.schema.ensure_tables_are_current.update_autopool_states import (\n",
    "    _add_new_autopool_states_to_db,\n",
    ")\n",
    "\n",
    "_add_new_destination_states_to_db(rebalance_event_df[\"blockNumber\"], AUTO_ETH.chain)\n",
    "_add_new_autopool_states_to_db(rebalance_event_df[\"blockNumber\"], AUTO_ETH.chain)\n",
    "\n",
    "destination_states_df = merge_tables_as_df(\n",
    "    [\n",
    "        TableSelector(DestinationStates, [DestinationStates.block, DestinationStates.lp_token_spot_price]),\n",
    "        TableSelector(\n",
    "            Destinations,\n",
    "            [Destinations.destination_vault_address, Destinations.underlying_symbol],\n",
    "            join_on=(DestinationStates.chain_id == DestinationStates.chain_id)\n",
    "            & (Destinations.destination_vault_address == DestinationStates.destination_vault_address),\n",
    "        ),\n",
    "        TableSelector(\n",
    "            AutopoolStates,\n",
    "            [AutopoolStates.total_nav],\n",
    "            join_on=(AutopoolStates.chain_id == DestinationStates.chain_id)\n",
    "            & (AutopoolStates.block == DestinationStates.block),\n",
    "        ),\n",
    "    ],\n",
    "    where_clause=AutopoolStates.autopool_vault_address == \"0xa7569A44f348d3D70d8ad5889e50F78E33d80D35\",\n",
    ")\n",
    "destination_states_df"
   ]
  },
  {
   "cell_type": "code",
   "execution_count": 6,
   "metadata": {},
   "outputs": [],
   "source": [
    "# this works"
   ]
  },
  {
   "cell_type": "code",
   "execution_count": 31,
   "metadata": {},
   "outputs": [],
   "source": [
    "price_df = destination_states_df[[\"block\", \"destination_vault_address\", \"lp_token_spot_price\"]]\n",
    "\n",
    "df1 = rebalance_event_df.merge(\n",
    "    price_df,\n",
    "    left_on=[\"blockNumber\", \"destinationInAddress\"],\n",
    "    right_on=[\"block\", \"destination_vault_address\"],\n",
    "    how=\"left\",\n",
    ")\n",
    "# rename & drop the merge‑helper cols\n",
    "df1.rename(columns={\"lp_token_spot_price\": \"lp_token_in_spot_price\"}, inplace=True)\n",
    "df1.drop(columns=[\"block\", \"destination_vault_address\"], inplace=True)\n",
    "\n",
    "\n",
    "df1 = df1.merge(\n",
    "    price_df,\n",
    "    left_on=[\"blockNumber\", \"destinationOutAddress\"],\n",
    "    right_on=[\"block\", \"destination_vault_address\"],\n",
    "    how=\"left\",\n",
    ")\n",
    "df1.rename(columns={\"lp_token_spot_price\": \"lp_token_out_spot_price\"}, inplace=True)\n",
    "df1.drop(columns=[\"block\", \"destination_vault_address\"], inplace=True)\n",
    "\n",
    "df1[\"spot_value_in\"] = df1[\"tokenInAmount\"] * df1[\"lp_token_in_spot_price\"]\n",
    "df1[\"spot_value_out\"] = df1[\"tokenOutAmount\"] * df1[\"lp_token_out_spot_price\"]\n",
    "\n",
    "\n",
    "df1[\"swap_cost\"] = df1[\"spot_value_out\"] - df1[\"spot_value_in\"]\n",
    "df1[\"slippage\"] = (100 * (df1[\"spot_value_out\"] - df1[\"spot_value_in\"])) / df1[\"spot_value_out\"]\n",
    "\n",
    "block_and_nav = destination_states_df[[\"block\", \"total_nav\"]].drop_duplicates()\n",
    "df1 = pd.merge(df1, block_and_nav, left_on=\"blockNumber\", right_on=[\"block\"])\n",
    "df1.index = pd.to_datetime(df1[\"timestamp\"].astype(int), unit=\"s\", utc=True)\n",
    "df1 = df1.sort_index()\n",
    "df1.to_csv(\"autoUSD_rebalance_slippage.csv\")"
   ]
  },
  {
   "cell_type": "code",
   "execution_count": 28,
   "metadata": {},
   "outputs": [
    {
     "data": {
      "application/vnd.microsoft.datawrangler.viewer.v0+json": {
       "columns": [
        {
         "name": "timestamp",
         "rawType": "datetime64[ns, UTC]",
         "type": "unknown"
        },
        {
         "name": "transactionHash",
         "rawType": "object",
         "type": "string"
        },
        {
         "name": "timestamp",
         "rawType": "object",
         "type": "string"
        },
        {
         "name": "blockNumber",
         "rawType": "int64",
         "type": "integer"
        },
        {
         "name": "tokenInAmount",
         "rawType": "float64",
         "type": "float"
        },
        {
         "name": "tokenOut",
         "rawType": "object",
         "type": "unknown"
        },
        {
         "name": "destinationInAddress",
         "rawType": "object",
         "type": "string"
        },
        {
         "name": "tokenIn",
         "rawType": "object",
         "type": "unknown"
        },
        {
         "name": "tokenOutAmount",
         "rawType": "float64",
         "type": "float"
        },
        {
         "name": "destinationOutAddress",
         "rawType": "object",
         "type": "string"
        },
        {
         "name": "tokenInAddress",
         "rawType": "object",
         "type": "string"
        },
        {
         "name": "tokenOutAddress",
         "rawType": "object",
         "type": "string"
        },
        {
         "name": "lp_token_in_spot_price",
         "rawType": "float64",
         "type": "float"
        },
        {
         "name": "lp_token_out_spot_price",
         "rawType": "float64",
         "type": "float"
        },
        {
         "name": "spot_value_in",
         "rawType": "float64",
         "type": "float"
        },
        {
         "name": "spot_value_out",
         "rawType": "float64",
         "type": "float"
        },
        {
         "name": "swap_cost",
         "rawType": "float64",
         "type": "float"
        },
        {
         "name": "slippage",
         "rawType": "float64",
         "type": "float"
        },
        {
         "name": "block",
         "rawType": "int64",
         "type": "integer"
        },
        {
         "name": "total_nav",
         "rawType": "float64",
         "type": "float"
        }
       ],
       "conversionMethod": "pd.DataFrame",
       "ref": "ed411b94-2365-4412-90f0-e7a8514a081e",
       "rows": [
        [
         "2025-04-15 05:44:35+00:00",
         "0x02a5528289efe28718bed54e9c5b0772f16eba69d6092fbe640eed92bfb641fd",
         "1744695875",
         "22272381",
         "76347.50465850029",
         "{'id': '0xa0b86991c6218b36c1d19d4a2e9eb0ce3606eb48', 'decimals': '6'}",
         "0x7583b1589aDD33320366A48A92794D77763FAE9e",
         "{'id': '0x390f3595bca2df7d23783dfd126427cceb997bf4', 'decimals': '18'}",
         "77679.2102",
         "0xa7569A44f348d3D70d8ad5889e50F78E33d80D35",
         "0x390f3595bCa2Df7d23783dFd126427CCeb997BF4",
         "0xA0b86991c6218b36c1d19D4a2e9Eb0cE3606eB48",
         "1.017084",
         "1.0",
         "77651.82542808611",
         "77679.2102",
         "27.384771913886652",
         "0.03525366934522031",
         "22272381",
         "10101197.651963"
        ],
        [
         "2025-04-29 07:17:35+00:00",
         "0x02065d1b16c7c693afe6358f38647b921a095d6876eca20c66c3388a5bc6a180",
         "1745911055",
         "22373171",
         "26611.724621547615",
         "{'id': '0xa0b86991c6218b36c1d19d4a2e9eb0ce3606eb48', 'decimals': '6'}",
         "0x7583b1589aDD33320366A48A92794D77763FAE9e",
         "{'id': '0x390f3595bca2df7d23783dfd126427cceb997bf4', 'decimals': '18'}",
         "27068.1579",
         "0xa7569A44f348d3D70d8ad5889e50F78E33d80D35",
         "0x390f3595bCa2Df7d23783dFd126427CCeb997BF4",
         "0xA0b86991c6218b36c1d19D4a2e9Eb0cE3606eB48",
         "1.017144",
         "1.0",
         "27067.95602845943",
         "27068.1579",
         "0.20187154056839063",
         "0.0007457897257514913",
         "22373171",
         "24299458.690627"
        ],
        [
         "2025-04-13 14:58:47+00:00",
         "0x012e26a2633c10388ffc3ee1a2a95c9569b54ff4f91805204a2ee93ef70799c2",
         "1744556327",
         "22260800",
         "140053.10243995607",
         "{'id': '0x4f493b7de8aac7d55f71853688b1f7c8f0243c85', 'decimals': '18'}",
         "0xC099899d0278CE83976218Cbe58D01dD382dcA32",
         "{'id': '0x57064f49ad7123c92560882a45518374ad982e85', 'decimals': '18'}",
         "149036.4791622163",
         "0xbB2d2dd491204a86ec10a1a6972F940B34fE060e",
         "0x57064F49Ad7123C92560882a45518374ad982e85",
         "0x4f493B7dE8aAC7d55F71853688b1F7C8F0243C85",
         "1.071202",
         "1.006465",
         "150025.16343988583",
         "150000.00000000003",
         "-25.16343988580047",
         "-0.016775626590533645",
         "22260800",
         "8023006.71504"
        ],
        [
         "2025-04-17 16:16:35+00:00",
         "0x00ff23899cd9bb0075ebe5ac23a3faa815088ddd32aba713dd1edd921d761c14",
         "1744906595",
         "22289850",
         "148973.4309401883",
         "{'id': '0xa0b86991c6218b36c1d19d4a2e9eb0ce3606eb48', 'decimals': '6'}",
         "0xbB2d2dd491204a86ec10a1a6972F940B34fE060e",
         "{'id': '0x4f493b7de8aac7d55f71853688b1f7c8f0243c85', 'decimals': '18'}",
         "150000.0",
         "0xa7569A44f348d3D70d8ad5889e50F78E33d80D35",
         "0x4f493B7dE8aAC7d55F71853688b1F7C8F0243C85",
         "0xA0b86991c6218b36c1d19D4a2e9Eb0cE3606eB48",
         "1.006858",
         "1.0",
         "149995.0907295761",
         "150000.0",
         "4.9092704239010345",
         "0.0032728469492673564",
         "22289850",
         "13489238.024205"
        ],
        [
         "2025-04-15 00:55:47+00:00",
         "0x0000f50368b9d54cf50696552d1adeb3d070298ee8a7efa6ae4a4674020399c0",
         "1744678547",
         "22270944",
         "196495.45285273195",
         "{'id': '0xa0b86991c6218b36c1d19d4a2e9eb0ce3606eb48', 'decimals': '6'}",
         "0x7583b1589aDD33320366A48A92794D77763FAE9e",
         "{'id': '0x390f3595bca2df7d23783dfd126427cceb997bf4', 'decimals': '18'}",
         "199999.999999",
         "0xa7569A44f348d3D70d8ad5889e50F78E33d80D35",
         "0x390f3595bCa2Df7d23783dFd126427CCeb997BF4",
         "0xA0b86991c6218b36c1d19D4a2e9Eb0cE3606eB48",
         "1.017086",
         "1.0",
         "199852.77416017372",
         "199999.999999",
         "147.22583882627077",
         "0.07361291941350345",
         "22270944",
         "10034658.380998"
        ]
       ],
       "shape": {
        "columns": 19,
        "rows": 5
       }
      },
      "text/html": [
       "<div>\n",
       "<style scoped>\n",
       "    .dataframe tbody tr th:only-of-type {\n",
       "        vertical-align: middle;\n",
       "    }\n",
       "\n",
       "    .dataframe tbody tr th {\n",
       "        vertical-align: top;\n",
       "    }\n",
       "\n",
       "    .dataframe thead th {\n",
       "        text-align: right;\n",
       "    }\n",
       "</style>\n",
       "<table border=\"1\" class=\"dataframe\">\n",
       "  <thead>\n",
       "    <tr style=\"text-align: right;\">\n",
       "      <th></th>\n",
       "      <th>transactionHash</th>\n",
       "      <th>timestamp</th>\n",
       "      <th>blockNumber</th>\n",
       "      <th>tokenInAmount</th>\n",
       "      <th>tokenOut</th>\n",
       "      <th>destinationInAddress</th>\n",
       "      <th>tokenIn</th>\n",
       "      <th>tokenOutAmount</th>\n",
       "      <th>destinationOutAddress</th>\n",
       "      <th>tokenInAddress</th>\n",
       "      <th>tokenOutAddress</th>\n",
       "      <th>lp_token_in_spot_price</th>\n",
       "      <th>lp_token_out_spot_price</th>\n",
       "      <th>spot_value_in</th>\n",
       "      <th>spot_value_out</th>\n",
       "      <th>swap_cost</th>\n",
       "      <th>slippage</th>\n",
       "      <th>block</th>\n",
       "      <th>total_nav</th>\n",
       "    </tr>\n",
       "    <tr>\n",
       "      <th>timestamp</th>\n",
       "      <th></th>\n",
       "      <th></th>\n",
       "      <th></th>\n",
       "      <th></th>\n",
       "      <th></th>\n",
       "      <th></th>\n",
       "      <th></th>\n",
       "      <th></th>\n",
       "      <th></th>\n",
       "      <th></th>\n",
       "      <th></th>\n",
       "      <th></th>\n",
       "      <th></th>\n",
       "      <th></th>\n",
       "      <th></th>\n",
       "      <th></th>\n",
       "      <th></th>\n",
       "      <th></th>\n",
       "      <th></th>\n",
       "    </tr>\n",
       "  </thead>\n",
       "  <tbody>\n",
       "    <tr>\n",
       "      <th>2025-04-15 05:44:35+00:00</th>\n",
       "      <td>0x02a5528289efe28718bed54e9c5b0772f16eba69d609...</td>\n",
       "      <td>1744695875</td>\n",
       "      <td>22272381</td>\n",
       "      <td>76347.504659</td>\n",
       "      <td>{'id': '0xa0b86991c6218b36c1d19d4a2e9eb0ce3606...</td>\n",
       "      <td>0x7583b1589aDD33320366A48A92794D77763FAE9e</td>\n",
       "      <td>{'id': '0x390f3595bca2df7d23783dfd126427cceb99...</td>\n",
       "      <td>77679.210200</td>\n",
       "      <td>0xa7569A44f348d3D70d8ad5889e50F78E33d80D35</td>\n",
       "      <td>0x390f3595bCa2Df7d23783dFd126427CCeb997BF4</td>\n",
       "      <td>0xA0b86991c6218b36c1d19D4a2e9Eb0cE3606eB48</td>\n",
       "      <td>1.017084</td>\n",
       "      <td>1.000000</td>\n",
       "      <td>77651.825428</td>\n",
       "      <td>77679.210200</td>\n",
       "      <td>27.384772</td>\n",
       "      <td>0.035254</td>\n",
       "      <td>22272381</td>\n",
       "      <td>1.010120e+07</td>\n",
       "    </tr>\n",
       "    <tr>\n",
       "      <th>2025-04-29 07:17:35+00:00</th>\n",
       "      <td>0x02065d1b16c7c693afe6358f38647b921a095d6876ec...</td>\n",
       "      <td>1745911055</td>\n",
       "      <td>22373171</td>\n",
       "      <td>26611.724622</td>\n",
       "      <td>{'id': '0xa0b86991c6218b36c1d19d4a2e9eb0ce3606...</td>\n",
       "      <td>0x7583b1589aDD33320366A48A92794D77763FAE9e</td>\n",
       "      <td>{'id': '0x390f3595bca2df7d23783dfd126427cceb99...</td>\n",
       "      <td>27068.157900</td>\n",
       "      <td>0xa7569A44f348d3D70d8ad5889e50F78E33d80D35</td>\n",
       "      <td>0x390f3595bCa2Df7d23783dFd126427CCeb997BF4</td>\n",
       "      <td>0xA0b86991c6218b36c1d19D4a2e9Eb0cE3606eB48</td>\n",
       "      <td>1.017144</td>\n",
       "      <td>1.000000</td>\n",
       "      <td>27067.956028</td>\n",
       "      <td>27068.157900</td>\n",
       "      <td>0.201872</td>\n",
       "      <td>0.000746</td>\n",
       "      <td>22373171</td>\n",
       "      <td>2.429946e+07</td>\n",
       "    </tr>\n",
       "    <tr>\n",
       "      <th>2025-04-13 14:58:47+00:00</th>\n",
       "      <td>0x012e26a2633c10388ffc3ee1a2a95c9569b54ff4f918...</td>\n",
       "      <td>1744556327</td>\n",
       "      <td>22260800</td>\n",
       "      <td>140053.102440</td>\n",
       "      <td>{'id': '0x4f493b7de8aac7d55f71853688b1f7c8f024...</td>\n",
       "      <td>0xC099899d0278CE83976218Cbe58D01dD382dcA32</td>\n",
       "      <td>{'id': '0x57064f49ad7123c92560882a45518374ad98...</td>\n",
       "      <td>149036.479162</td>\n",
       "      <td>0xbB2d2dd491204a86ec10a1a6972F940B34fE060e</td>\n",
       "      <td>0x57064F49Ad7123C92560882a45518374ad982e85</td>\n",
       "      <td>0x4f493B7dE8aAC7d55F71853688b1F7C8F0243C85</td>\n",
       "      <td>1.071202</td>\n",
       "      <td>1.006465</td>\n",
       "      <td>150025.163440</td>\n",
       "      <td>150000.000000</td>\n",
       "      <td>-25.163440</td>\n",
       "      <td>-0.016776</td>\n",
       "      <td>22260800</td>\n",
       "      <td>8.023007e+06</td>\n",
       "    </tr>\n",
       "    <tr>\n",
       "      <th>2025-04-17 16:16:35+00:00</th>\n",
       "      <td>0x00ff23899cd9bb0075ebe5ac23a3faa815088ddd32ab...</td>\n",
       "      <td>1744906595</td>\n",
       "      <td>22289850</td>\n",
       "      <td>148973.430940</td>\n",
       "      <td>{'id': '0xa0b86991c6218b36c1d19d4a2e9eb0ce3606...</td>\n",
       "      <td>0xbB2d2dd491204a86ec10a1a6972F940B34fE060e</td>\n",
       "      <td>{'id': '0x4f493b7de8aac7d55f71853688b1f7c8f024...</td>\n",
       "      <td>150000.000000</td>\n",
       "      <td>0xa7569A44f348d3D70d8ad5889e50F78E33d80D35</td>\n",
       "      <td>0x4f493B7dE8aAC7d55F71853688b1F7C8F0243C85</td>\n",
       "      <td>0xA0b86991c6218b36c1d19D4a2e9Eb0cE3606eB48</td>\n",
       "      <td>1.006858</td>\n",
       "      <td>1.000000</td>\n",
       "      <td>149995.090730</td>\n",
       "      <td>150000.000000</td>\n",
       "      <td>4.909270</td>\n",
       "      <td>0.003273</td>\n",
       "      <td>22289850</td>\n",
       "      <td>1.348924e+07</td>\n",
       "    </tr>\n",
       "    <tr>\n",
       "      <th>2025-04-15 00:55:47+00:00</th>\n",
       "      <td>0x0000f50368b9d54cf50696552d1adeb3d070298ee8a7...</td>\n",
       "      <td>1744678547</td>\n",
       "      <td>22270944</td>\n",
       "      <td>196495.452853</td>\n",
       "      <td>{'id': '0xa0b86991c6218b36c1d19d4a2e9eb0ce3606...</td>\n",
       "      <td>0x7583b1589aDD33320366A48A92794D77763FAE9e</td>\n",
       "      <td>{'id': '0x390f3595bca2df7d23783dfd126427cceb99...</td>\n",
       "      <td>199999.999999</td>\n",
       "      <td>0xa7569A44f348d3D70d8ad5889e50F78E33d80D35</td>\n",
       "      <td>0x390f3595bCa2Df7d23783dFd126427CCeb997BF4</td>\n",
       "      <td>0xA0b86991c6218b36c1d19D4a2e9Eb0cE3606eB48</td>\n",
       "      <td>1.017086</td>\n",
       "      <td>1.000000</td>\n",
       "      <td>199852.774160</td>\n",
       "      <td>199999.999999</td>\n",
       "      <td>147.225839</td>\n",
       "      <td>0.073613</td>\n",
       "      <td>22270944</td>\n",
       "      <td>1.003466e+07</td>\n",
       "    </tr>\n",
       "  </tbody>\n",
       "</table>\n",
       "</div>"
      ],
      "text/plain": [
       "                                                             transactionHash  \\\n",
       "timestamp                                                                      \n",
       "2025-04-15 05:44:35+00:00  0x02a5528289efe28718bed54e9c5b0772f16eba69d609...   \n",
       "2025-04-29 07:17:35+00:00  0x02065d1b16c7c693afe6358f38647b921a095d6876ec...   \n",
       "2025-04-13 14:58:47+00:00  0x012e26a2633c10388ffc3ee1a2a95c9569b54ff4f918...   \n",
       "2025-04-17 16:16:35+00:00  0x00ff23899cd9bb0075ebe5ac23a3faa815088ddd32ab...   \n",
       "2025-04-15 00:55:47+00:00  0x0000f50368b9d54cf50696552d1adeb3d070298ee8a7...   \n",
       "\n",
       "                            timestamp  blockNumber  tokenInAmount  \\\n",
       "timestamp                                                           \n",
       "2025-04-15 05:44:35+00:00  1744695875     22272381   76347.504659   \n",
       "2025-04-29 07:17:35+00:00  1745911055     22373171   26611.724622   \n",
       "2025-04-13 14:58:47+00:00  1744556327     22260800  140053.102440   \n",
       "2025-04-17 16:16:35+00:00  1744906595     22289850  148973.430940   \n",
       "2025-04-15 00:55:47+00:00  1744678547     22270944  196495.452853   \n",
       "\n",
       "                                                                    tokenOut  \\\n",
       "timestamp                                                                      \n",
       "2025-04-15 05:44:35+00:00  {'id': '0xa0b86991c6218b36c1d19d4a2e9eb0ce3606...   \n",
       "2025-04-29 07:17:35+00:00  {'id': '0xa0b86991c6218b36c1d19d4a2e9eb0ce3606...   \n",
       "2025-04-13 14:58:47+00:00  {'id': '0x4f493b7de8aac7d55f71853688b1f7c8f024...   \n",
       "2025-04-17 16:16:35+00:00  {'id': '0xa0b86991c6218b36c1d19d4a2e9eb0ce3606...   \n",
       "2025-04-15 00:55:47+00:00  {'id': '0xa0b86991c6218b36c1d19d4a2e9eb0ce3606...   \n",
       "\n",
       "                                                 destinationInAddress  \\\n",
       "timestamp                                                               \n",
       "2025-04-15 05:44:35+00:00  0x7583b1589aDD33320366A48A92794D77763FAE9e   \n",
       "2025-04-29 07:17:35+00:00  0x7583b1589aDD33320366A48A92794D77763FAE9e   \n",
       "2025-04-13 14:58:47+00:00  0xC099899d0278CE83976218Cbe58D01dD382dcA32   \n",
       "2025-04-17 16:16:35+00:00  0xbB2d2dd491204a86ec10a1a6972F940B34fE060e   \n",
       "2025-04-15 00:55:47+00:00  0x7583b1589aDD33320366A48A92794D77763FAE9e   \n",
       "\n",
       "                                                                     tokenIn  \\\n",
       "timestamp                                                                      \n",
       "2025-04-15 05:44:35+00:00  {'id': '0x390f3595bca2df7d23783dfd126427cceb99...   \n",
       "2025-04-29 07:17:35+00:00  {'id': '0x390f3595bca2df7d23783dfd126427cceb99...   \n",
       "2025-04-13 14:58:47+00:00  {'id': '0x57064f49ad7123c92560882a45518374ad98...   \n",
       "2025-04-17 16:16:35+00:00  {'id': '0x4f493b7de8aac7d55f71853688b1f7c8f024...   \n",
       "2025-04-15 00:55:47+00:00  {'id': '0x390f3595bca2df7d23783dfd126427cceb99...   \n",
       "\n",
       "                           tokenOutAmount  \\\n",
       "timestamp                                   \n",
       "2025-04-15 05:44:35+00:00    77679.210200   \n",
       "2025-04-29 07:17:35+00:00    27068.157900   \n",
       "2025-04-13 14:58:47+00:00   149036.479162   \n",
       "2025-04-17 16:16:35+00:00   150000.000000   \n",
       "2025-04-15 00:55:47+00:00   199999.999999   \n",
       "\n",
       "                                                destinationOutAddress  \\\n",
       "timestamp                                                               \n",
       "2025-04-15 05:44:35+00:00  0xa7569A44f348d3D70d8ad5889e50F78E33d80D35   \n",
       "2025-04-29 07:17:35+00:00  0xa7569A44f348d3D70d8ad5889e50F78E33d80D35   \n",
       "2025-04-13 14:58:47+00:00  0xbB2d2dd491204a86ec10a1a6972F940B34fE060e   \n",
       "2025-04-17 16:16:35+00:00  0xa7569A44f348d3D70d8ad5889e50F78E33d80D35   \n",
       "2025-04-15 00:55:47+00:00  0xa7569A44f348d3D70d8ad5889e50F78E33d80D35   \n",
       "\n",
       "                                                       tokenInAddress  \\\n",
       "timestamp                                                               \n",
       "2025-04-15 05:44:35+00:00  0x390f3595bCa2Df7d23783dFd126427CCeb997BF4   \n",
       "2025-04-29 07:17:35+00:00  0x390f3595bCa2Df7d23783dFd126427CCeb997BF4   \n",
       "2025-04-13 14:58:47+00:00  0x57064F49Ad7123C92560882a45518374ad982e85   \n",
       "2025-04-17 16:16:35+00:00  0x4f493B7dE8aAC7d55F71853688b1F7C8F0243C85   \n",
       "2025-04-15 00:55:47+00:00  0x390f3595bCa2Df7d23783dFd126427CCeb997BF4   \n",
       "\n",
       "                                                      tokenOutAddress  \\\n",
       "timestamp                                                               \n",
       "2025-04-15 05:44:35+00:00  0xA0b86991c6218b36c1d19D4a2e9Eb0cE3606eB48   \n",
       "2025-04-29 07:17:35+00:00  0xA0b86991c6218b36c1d19D4a2e9Eb0cE3606eB48   \n",
       "2025-04-13 14:58:47+00:00  0x4f493B7dE8aAC7d55F71853688b1F7C8F0243C85   \n",
       "2025-04-17 16:16:35+00:00  0xA0b86991c6218b36c1d19D4a2e9Eb0cE3606eB48   \n",
       "2025-04-15 00:55:47+00:00  0xA0b86991c6218b36c1d19D4a2e9Eb0cE3606eB48   \n",
       "\n",
       "                           lp_token_in_spot_price  lp_token_out_spot_price  \\\n",
       "timestamp                                                                    \n",
       "2025-04-15 05:44:35+00:00                1.017084                 1.000000   \n",
       "2025-04-29 07:17:35+00:00                1.017144                 1.000000   \n",
       "2025-04-13 14:58:47+00:00                1.071202                 1.006465   \n",
       "2025-04-17 16:16:35+00:00                1.006858                 1.000000   \n",
       "2025-04-15 00:55:47+00:00                1.017086                 1.000000   \n",
       "\n",
       "                           spot_value_in  spot_value_out   swap_cost  \\\n",
       "timestamp                                                              \n",
       "2025-04-15 05:44:35+00:00   77651.825428    77679.210200   27.384772   \n",
       "2025-04-29 07:17:35+00:00   27067.956028    27068.157900    0.201872   \n",
       "2025-04-13 14:58:47+00:00  150025.163440   150000.000000  -25.163440   \n",
       "2025-04-17 16:16:35+00:00  149995.090730   150000.000000    4.909270   \n",
       "2025-04-15 00:55:47+00:00  199852.774160   199999.999999  147.225839   \n",
       "\n",
       "                           slippage     block     total_nav  \n",
       "timestamp                                                    \n",
       "2025-04-15 05:44:35+00:00  0.035254  22272381  1.010120e+07  \n",
       "2025-04-29 07:17:35+00:00  0.000746  22373171  2.429946e+07  \n",
       "2025-04-13 14:58:47+00:00 -0.016776  22260800  8.023007e+06  \n",
       "2025-04-17 16:16:35+00:00  0.003273  22289850  1.348924e+07  \n",
       "2025-04-15 00:55:47+00:00  0.073613  22270944  1.003466e+07  "
      ]
     },
     "execution_count": 28,
     "metadata": {},
     "output_type": "execute_result"
    }
   ],
   "source": [
    "df1.tail()"
   ]
  },
  {
   "cell_type": "code",
   "execution_count": null,
   "metadata": {},
   "outputs": [],
   "source": []
  },
  {
   "cell_type": "code",
   "execution_count": 18,
   "metadata": {},
   "outputs": [
    {
     "data": {
      "text/plain": [
       "transactionHash            0\n",
       "timestamp                  0\n",
       "blockNumber                0\n",
       "tokenInAmount              0\n",
       "tokenOut                   0\n",
       "destinationInAddress       0\n",
       "tokenIn                    0\n",
       "tokenOutAmount             0\n",
       "destinationOutAddress      0\n",
       "tokenInAddress             0\n",
       "tokenOutAddress            0\n",
       "lp_token_in_spot_price     0\n",
       "lp_token_out_spot_price    1\n",
       "spot_value_in              0\n",
       "spot_value_out             1\n",
       "swap_cost                  1\n",
       "slippage                   1\n",
       "block                      0\n",
       "total_nav                  0\n",
       "dtype: int64"
      ]
     },
     "execution_count": 18,
     "metadata": {},
     "output_type": "execute_result"
    }
   ],
   "source": [
    "df1.isna().sum()"
   ]
  },
  {
   "cell_type": "code",
   "execution_count": 33,
   "metadata": {},
   "outputs": [
    {
     "data": {
      "application/vnd.plotly.v1+json": {
       "config": {
        "plotlyServerURL": "https://plot.ly"
       },
       "data": [
        {
         "alignmentgroup": "True",
         "hovertemplate": "timestamp=%{x}<br>swap_cost=%{y}<extra></extra>",
         "legendgroup": "",
         "marker": {
          "color": "#000001",
          "pattern": {
           "shape": ""
          }
         },
         "name": "",
         "offsetgroup": "",
         "orientation": "v",
         "showlegend": false,
         "textposition": "auto",
         "type": "bar",
         "x": [
          "2025-04-03T00:00:00+00:00",
          "2025-04-04T00:00:00+00:00",
          "2025-04-05T00:00:00+00:00",
          "2025-04-06T00:00:00+00:00",
          "2025-04-07T00:00:00+00:00",
          "2025-04-08T00:00:00+00:00",
          "2025-04-09T00:00:00+00:00",
          "2025-04-10T00:00:00+00:00",
          "2025-04-11T00:00:00+00:00",
          "2025-04-12T00:00:00+00:00",
          "2025-04-13T00:00:00+00:00",
          "2025-04-14T00:00:00+00:00",
          "2025-04-15T00:00:00+00:00",
          "2025-04-16T00:00:00+00:00",
          "2025-04-17T00:00:00+00:00",
          "2025-04-18T00:00:00+00:00",
          "2025-04-19T00:00:00+00:00",
          "2025-04-20T00:00:00+00:00",
          "2025-04-21T00:00:00+00:00",
          "2025-04-22T00:00:00+00:00",
          "2025-04-23T00:00:00+00:00",
          "2025-04-24T00:00:00+00:00",
          "2025-04-25T00:00:00+00:00",
          "2025-04-26T00:00:00+00:00",
          "2025-04-27T00:00:00+00:00",
          "2025-04-28T00:00:00+00:00",
          "2025-04-29T00:00:00+00:00",
          "2025-04-30T00:00:00+00:00",
          "2025-05-01T00:00:00+00:00",
          "2025-05-02T00:00:00+00:00",
          "2025-05-03T00:00:00+00:00",
          "2025-05-04T00:00:00+00:00",
          "2025-05-05T00:00:00+00:00",
          "2025-05-06T00:00:00+00:00",
          "2025-05-07T00:00:00+00:00",
          "2025-05-08T00:00:00+00:00",
          "2025-05-09T00:00:00+00:00"
         ],
         "xaxis": "x",
         "y": [
          0.025546463592419855,
          6.480371045210632,
          0.6365270554751987,
          0,
          5.417235905304551,
          17.59931498104561,
          135.763928891276,
          1583.0277745953645,
          1097.1182739762735,
          472.4755588511107,
          -27.462959791937465,
          371.4357123851514,
          472.1947081538128,
          213.94492787692434,
          829.6523187640705,
          638.4288295346305,
          278.93425922177266,
          2363.807435324008,
          418.39470976087614,
          40.957224789737666,
          143.64711695395818,
          -1146.4523508304264,
          35.15590268043161,
          106.8253810605238,
          374.1319031186358,
          -285.21117397101625,
          20.016412433385995,
          84.6607008952924,
          80.39546527033235,
          -275.3416121840346,
          121.55867087369552,
          121.35651368004892,
          124.71562757654465,
          69.5581571277362,
          126.62556327831408,
          423.41293908830266,
          198.2643042604468
         ],
         "yaxis": "y"
        }
       ],
       "layout": {
        "barmode": "relative",
        "legend": {
         "tracegroupgap": 0
        },
        "template": {
         "data": {
          "candlestick": [
           {
            "decreasing": {
             "line": {
              "color": "#000033"
             }
            },
            "increasing": {
             "line": {
              "color": "#000032"
             }
            },
            "type": "candlestick"
           }
          ],
          "contour": [
           {
            "colorscale": [
             [
              0,
              "#000011"
             ],
             [
              0.1111111111111111,
              "#000012"
             ],
             [
              0.2222222222222222,
              "#000013"
             ],
             [
              0.3333333333333333,
              "#000014"
             ],
             [
              0.4444444444444444,
              "#000015"
             ],
             [
              0.5555555555555556,
              "#000016"
             ],
             [
              0.6666666666666666,
              "#000017"
             ],
             [
              0.7777777777777778,
              "#000018"
             ],
             [
              0.8888888888888888,
              "#000019"
             ],
             [
              1,
              "#000020"
             ]
            ],
            "type": "contour"
           }
          ],
          "contourcarpet": [
           {
            "colorscale": [
             [
              0,
              "#000011"
             ],
             [
              0.1111111111111111,
              "#000012"
             ],
             [
              0.2222222222222222,
              "#000013"
             ],
             [
              0.3333333333333333,
              "#000014"
             ],
             [
              0.4444444444444444,
              "#000015"
             ],
             [
              0.5555555555555556,
              "#000016"
             ],
             [
              0.6666666666666666,
              "#000017"
             ],
             [
              0.7777777777777778,
              "#000018"
             ],
             [
              0.8888888888888888,
              "#000019"
             ],
             [
              1,
              "#000020"
             ]
            ],
            "type": "contourcarpet"
           }
          ],
          "heatmap": [
           {
            "colorscale": [
             [
              0,
              "#000011"
             ],
             [
              0.1111111111111111,
              "#000012"
             ],
             [
              0.2222222222222222,
              "#000013"
             ],
             [
              0.3333333333333333,
              "#000014"
             ],
             [
              0.4444444444444444,
              "#000015"
             ],
             [
              0.5555555555555556,
              "#000016"
             ],
             [
              0.6666666666666666,
              "#000017"
             ],
             [
              0.7777777777777778,
              "#000018"
             ],
             [
              0.8888888888888888,
              "#000019"
             ],
             [
              1,
              "#000020"
             ]
            ],
            "type": "heatmap"
           }
          ],
          "histogram2d": [
           {
            "colorscale": [
             [
              0,
              "#000011"
             ],
             [
              0.1111111111111111,
              "#000012"
             ],
             [
              0.2222222222222222,
              "#000013"
             ],
             [
              0.3333333333333333,
              "#000014"
             ],
             [
              0.4444444444444444,
              "#000015"
             ],
             [
              0.5555555555555556,
              "#000016"
             ],
             [
              0.6666666666666666,
              "#000017"
             ],
             [
              0.7777777777777778,
              "#000018"
             ],
             [
              0.8888888888888888,
              "#000019"
             ],
             [
              1,
              "#000020"
             ]
            ],
            "type": "histogram2d"
           }
          ],
          "icicle": [
           {
            "textfont": {
             "color": "white"
            },
            "type": "icicle"
           }
          ],
          "sankey": [
           {
            "textfont": {
             "color": "#000036"
            },
            "type": "sankey"
           }
          ],
          "scatter": [
           {
            "marker": {
             "line": {
              "width": 0
             }
            },
            "type": "scatter"
           }
          ],
          "table": [
           {
            "cells": {
             "fill": {
              "color": "#000038"
             },
             "font": {
              "color": "#000037"
             },
             "line": {
              "color": "#000039"
             }
            },
            "header": {
             "fill": {
              "color": "#000040"
             },
             "font": {
              "color": "#000036"
             },
             "line": {
              "color": "#000039"
             }
            },
            "type": "table"
           }
          ],
          "waterfall": [
           {
            "connector": {
             "line": {
              "color": "#000036",
              "width": 2
             }
            },
            "decreasing": {
             "marker": {
              "color": "#000033"
             }
            },
            "increasing": {
             "marker": {
              "color": "#000032"
             }
            },
            "totals": {
             "marker": {
              "color": "#000034"
             }
            },
            "type": "waterfall"
           }
          ]
         },
         "layout": {
          "coloraxis": {
           "colorscale": [
            [
             0,
             "#000011"
            ],
            [
             0.1111111111111111,
             "#000012"
            ],
            [
             0.2222222222222222,
             "#000013"
            ],
            [
             0.3333333333333333,
             "#000014"
            ],
            [
             0.4444444444444444,
             "#000015"
            ],
            [
             0.5555555555555556,
             "#000016"
            ],
            [
             0.6666666666666666,
             "#000017"
            ],
            [
             0.7777777777777778,
             "#000018"
            ],
            [
             0.8888888888888888,
             "#000019"
            ],
            [
             1,
             "#000020"
            ]
           ]
          },
          "colorscale": {
           "diverging": [
            [
             0,
             "#000021"
            ],
            [
             0.1,
             "#000022"
            ],
            [
             0.2,
             "#000023"
            ],
            [
             0.3,
             "#000024"
            ],
            [
             0.4,
             "#000025"
            ],
            [
             0.5,
             "#000026"
            ],
            [
             0.6,
             "#000027"
            ],
            [
             0.7,
             "#000028"
            ],
            [
             0.8,
             "#000029"
            ],
            [
             0.9,
             "#000030"
            ],
            [
             1,
             "#000031"
            ]
           ],
           "sequential": [
            [
             0,
             "#000011"
            ],
            [
             0.1111111111111111,
             "#000012"
            ],
            [
             0.2222222222222222,
             "#000013"
            ],
            [
             0.3333333333333333,
             "#000014"
            ],
            [
             0.4444444444444444,
             "#000015"
            ],
            [
             0.5555555555555556,
             "#000016"
            ],
            [
             0.6666666666666666,
             "#000017"
            ],
            [
             0.7777777777777778,
             "#000018"
            ],
            [
             0.8888888888888888,
             "#000019"
            ],
            [
             1,
             "#000020"
            ]
           ],
           "sequentialminus": [
            [
             0,
             "#000011"
            ],
            [
             0.1111111111111111,
             "#000012"
            ],
            [
             0.2222222222222222,
             "#000013"
            ],
            [
             0.3333333333333333,
             "#000014"
            ],
            [
             0.4444444444444444,
             "#000015"
            ],
            [
             0.5555555555555556,
             "#000016"
            ],
            [
             0.6666666666666666,
             "#000017"
            ],
            [
             0.7777777777777778,
             "#000018"
            ],
            [
             0.8888888888888888,
             "#000019"
            ],
            [
             1,
             "#000020"
            ]
           ]
          },
          "colorway": [
           "#000001",
           "#000002",
           "#000003",
           "#000004",
           "#000005",
           "#000006",
           "#000007",
           "#000008",
           "#000009",
           "#000010"
          ]
         }
        },
        "title": {
         "text": "Swap Cost"
        },
        "xaxis": {
         "anchor": "y",
         "domain": [
          0,
          1
         ],
         "title": {
          "text": "timestamp"
         }
        },
        "yaxis": {
         "anchor": "x",
         "domain": [
          0,
          1
         ],
         "title": {
          "text": "swap_cost"
         }
        }
       }
      }
     },
     "metadata": {},
     "output_type": "display_data"
    }
   ],
   "source": [
    "import plotly.express as px\n",
    "\n",
    "px.bar(df1.resample(\"1d\")[[\"swap_cost\"]].sum(), y=\"swap_cost\", title=\"Swap Cost\")"
   ]
  },
  {
   "cell_type": "code",
   "execution_count": 8,
   "metadata": {},
   "outputs": [
    {
     "ename": "TypeError",
     "evalue": "Only valid with DatetimeIndex, TimedeltaIndex or PeriodIndex, but got an instance of 'RangeIndex'",
     "output_type": "error",
     "traceback": [
      "\u001b[0;31m---------------------------------------------------------------------------\u001b[0m",
      "\u001b[0;31mTypeError\u001b[0m                                 Traceback (most recent call last)",
      "Cell \u001b[0;32mIn[8], line 1\u001b[0m\n\u001b[0;32m----> 1\u001b[0m avg_nav \u001b[38;5;241m=\u001b[39m \u001b[43mdf1\u001b[49m\u001b[38;5;241;43m.\u001b[39;49m\u001b[43mresample\u001b[49m\u001b[43m(\u001b[49m\u001b[38;5;124;43m\"\u001b[39;49m\u001b[38;5;124;43m1d\u001b[39;49m\u001b[38;5;124;43m\"\u001b[39;49m\u001b[43m)\u001b[49m[\u001b[38;5;124m\"\u001b[39m\u001b[38;5;124mtotal_nav\u001b[39m\u001b[38;5;124m\"\u001b[39m]\u001b[38;5;241m.\u001b[39mmean()\n\u001b[1;32m      2\u001b[0m total_swap_cost \u001b[38;5;241m=\u001b[39m df1\u001b[38;5;241m.\u001b[39mresample(\u001b[38;5;124m\"\u001b[39m\u001b[38;5;124m1d\u001b[39m\u001b[38;5;124m\"\u001b[39m)[\u001b[38;5;124m\"\u001b[39m\u001b[38;5;124mswap_cost\u001b[39m\u001b[38;5;124m\"\u001b[39m]\u001b[38;5;241m.\u001b[39msum()\n\u001b[1;32m      3\u001b[0m total_swap_cost\n",
      "File \u001b[0;32m~/Library/Caches/pypoetry/virtualenvs/mainnet-launch-FtycU18g-py3.10/lib/python3.10/site-packages/pandas/core/generic.py:9771\u001b[0m, in \u001b[0;36mNDFrame.resample\u001b[0;34m(self, rule, axis, closed, label, convention, kind, on, level, origin, offset, group_keys)\u001b[0m\n\u001b[1;32m   9768\u001b[0m \u001b[38;5;28;01melse\u001b[39;00m:\n\u001b[1;32m   9769\u001b[0m     convention \u001b[38;5;241m=\u001b[39m \u001b[38;5;124m\"\u001b[39m\u001b[38;5;124mstart\u001b[39m\u001b[38;5;124m\"\u001b[39m\n\u001b[0;32m-> 9771\u001b[0m \u001b[38;5;28;01mreturn\u001b[39;00m \u001b[43mget_resampler\u001b[49m\u001b[43m(\u001b[49m\n\u001b[1;32m   9772\u001b[0m \u001b[43m    \u001b[49m\u001b[43mcast\u001b[49m\u001b[43m(\u001b[49m\u001b[38;5;124;43m\"\u001b[39;49m\u001b[38;5;124;43mSeries | DataFrame\u001b[39;49m\u001b[38;5;124;43m\"\u001b[39;49m\u001b[43m,\u001b[49m\u001b[43m \u001b[49m\u001b[38;5;28;43mself\u001b[39;49m\u001b[43m)\u001b[49m\u001b[43m,\u001b[49m\n\u001b[1;32m   9773\u001b[0m \u001b[43m    \u001b[49m\u001b[43mfreq\u001b[49m\u001b[38;5;241;43m=\u001b[39;49m\u001b[43mrule\u001b[49m\u001b[43m,\u001b[49m\n\u001b[1;32m   9774\u001b[0m \u001b[43m    \u001b[49m\u001b[43mlabel\u001b[49m\u001b[38;5;241;43m=\u001b[39;49m\u001b[43mlabel\u001b[49m\u001b[43m,\u001b[49m\n\u001b[1;32m   9775\u001b[0m \u001b[43m    \u001b[49m\u001b[43mclosed\u001b[49m\u001b[38;5;241;43m=\u001b[39;49m\u001b[43mclosed\u001b[49m\u001b[43m,\u001b[49m\n\u001b[1;32m   9776\u001b[0m \u001b[43m    \u001b[49m\u001b[43maxis\u001b[49m\u001b[38;5;241;43m=\u001b[39;49m\u001b[43maxis\u001b[49m\u001b[43m,\u001b[49m\n\u001b[1;32m   9777\u001b[0m \u001b[43m    \u001b[49m\u001b[43mkind\u001b[49m\u001b[38;5;241;43m=\u001b[39;49m\u001b[43mkind\u001b[49m\u001b[43m,\u001b[49m\n\u001b[1;32m   9778\u001b[0m \u001b[43m    \u001b[49m\u001b[43mconvention\u001b[49m\u001b[38;5;241;43m=\u001b[39;49m\u001b[43mconvention\u001b[49m\u001b[43m,\u001b[49m\n\u001b[1;32m   9779\u001b[0m \u001b[43m    \u001b[49m\u001b[43mkey\u001b[49m\u001b[38;5;241;43m=\u001b[39;49m\u001b[43mon\u001b[49m\u001b[43m,\u001b[49m\n\u001b[1;32m   9780\u001b[0m \u001b[43m    \u001b[49m\u001b[43mlevel\u001b[49m\u001b[38;5;241;43m=\u001b[39;49m\u001b[43mlevel\u001b[49m\u001b[43m,\u001b[49m\n\u001b[1;32m   9781\u001b[0m \u001b[43m    \u001b[49m\u001b[43morigin\u001b[49m\u001b[38;5;241;43m=\u001b[39;49m\u001b[43morigin\u001b[49m\u001b[43m,\u001b[49m\n\u001b[1;32m   9782\u001b[0m \u001b[43m    \u001b[49m\u001b[43moffset\u001b[49m\u001b[38;5;241;43m=\u001b[39;49m\u001b[43moffset\u001b[49m\u001b[43m,\u001b[49m\n\u001b[1;32m   9783\u001b[0m \u001b[43m    \u001b[49m\u001b[43mgroup_keys\u001b[49m\u001b[38;5;241;43m=\u001b[39;49m\u001b[43mgroup_keys\u001b[49m\u001b[43m,\u001b[49m\n\u001b[1;32m   9784\u001b[0m \u001b[43m\u001b[49m\u001b[43m)\u001b[49m\n",
      "File \u001b[0;32m~/Library/Caches/pypoetry/virtualenvs/mainnet-launch-FtycU18g-py3.10/lib/python3.10/site-packages/pandas/core/resample.py:2050\u001b[0m, in \u001b[0;36mget_resampler\u001b[0;34m(obj, kind, **kwds)\u001b[0m\n\u001b[1;32m   2046\u001b[0m \u001b[38;5;250m\u001b[39m\u001b[38;5;124;03m\"\"\"\u001b[39;00m\n\u001b[1;32m   2047\u001b[0m \u001b[38;5;124;03mCreate a TimeGrouper and return our resampler.\u001b[39;00m\n\u001b[1;32m   2048\u001b[0m \u001b[38;5;124;03m\"\"\"\u001b[39;00m\n\u001b[1;32m   2049\u001b[0m tg \u001b[38;5;241m=\u001b[39m TimeGrouper(obj, \u001b[38;5;241m*\u001b[39m\u001b[38;5;241m*\u001b[39mkwds)  \u001b[38;5;66;03m# type: ignore[arg-type]\u001b[39;00m\n\u001b[0;32m-> 2050\u001b[0m \u001b[38;5;28;01mreturn\u001b[39;00m \u001b[43mtg\u001b[49m\u001b[38;5;241;43m.\u001b[39;49m\u001b[43m_get_resampler\u001b[49m\u001b[43m(\u001b[49m\u001b[43mobj\u001b[49m\u001b[43m,\u001b[49m\u001b[43m \u001b[49m\u001b[43mkind\u001b[49m\u001b[38;5;241;43m=\u001b[39;49m\u001b[43mkind\u001b[49m\u001b[43m)\u001b[49m\n",
      "File \u001b[0;32m~/Library/Caches/pypoetry/virtualenvs/mainnet-launch-FtycU18g-py3.10/lib/python3.10/site-packages/pandas/core/resample.py:2272\u001b[0m, in \u001b[0;36mTimeGrouper._get_resampler\u001b[0;34m(self, obj, kind)\u001b[0m\n\u001b[1;32m   2263\u001b[0m \u001b[38;5;28;01melif\u001b[39;00m \u001b[38;5;28misinstance\u001b[39m(ax, TimedeltaIndex):\n\u001b[1;32m   2264\u001b[0m     \u001b[38;5;28;01mreturn\u001b[39;00m TimedeltaIndexResampler(\n\u001b[1;32m   2265\u001b[0m         obj,\n\u001b[1;32m   2266\u001b[0m         timegrouper\u001b[38;5;241m=\u001b[39m\u001b[38;5;28mself\u001b[39m,\n\u001b[0;32m   (...)\u001b[0m\n\u001b[1;32m   2269\u001b[0m         gpr_index\u001b[38;5;241m=\u001b[39max,\n\u001b[1;32m   2270\u001b[0m     )\n\u001b[0;32m-> 2272\u001b[0m \u001b[38;5;28;01mraise\u001b[39;00m \u001b[38;5;167;01mTypeError\u001b[39;00m(\n\u001b[1;32m   2273\u001b[0m     \u001b[38;5;124m\"\u001b[39m\u001b[38;5;124mOnly valid with DatetimeIndex, \u001b[39m\u001b[38;5;124m\"\u001b[39m\n\u001b[1;32m   2274\u001b[0m     \u001b[38;5;124m\"\u001b[39m\u001b[38;5;124mTimedeltaIndex or PeriodIndex, \u001b[39m\u001b[38;5;124m\"\u001b[39m\n\u001b[1;32m   2275\u001b[0m     \u001b[38;5;124mf\u001b[39m\u001b[38;5;124m\"\u001b[39m\u001b[38;5;124mbut got an instance of \u001b[39m\u001b[38;5;124m'\u001b[39m\u001b[38;5;132;01m{\u001b[39;00m\u001b[38;5;28mtype\u001b[39m(ax)\u001b[38;5;241m.\u001b[39m\u001b[38;5;18m__name__\u001b[39m\u001b[38;5;132;01m}\u001b[39;00m\u001b[38;5;124m'\u001b[39m\u001b[38;5;124m\"\u001b[39m\n\u001b[1;32m   2276\u001b[0m )\n",
      "\u001b[0;31mTypeError\u001b[0m: Only valid with DatetimeIndex, TimedeltaIndex or PeriodIndex, but got an instance of 'RangeIndex'"
     ]
    }
   ],
   "source": [
    "avg_nav = df1.resample(\"1d\")[\"total_nav\"].mean()\n",
    "total_swap_cost = df1.resample(\"1d\")[\"swap_cost\"].sum()\n",
    "total_swap_cost"
   ]
  },
  {
   "cell_type": "code",
   "execution_count": null,
   "metadata": {},
   "outputs": [],
   "source": [
    "avg_nav = df1.resample(\"1d\")[\"total_nav\"].mean() * 1e12\n",
    "total_swap_cost = df1.resample(\"1d\")[\"swap_cost\"].sum()\n",
    "import plotly.express as px\n",
    "\n",
    "percent_of_swap_cost_per_day = 100 * (total_swap_cost) / avg_nav\n",
    "px.bar(percent_of_swap_cost_per_day)"
   ]
  },
  {
   "cell_type": "code",
   "execution_count": null,
   "metadata": {},
   "outputs": [],
   "source": [
    "df1.tail(1).T"
   ]
  },
  {
   "cell_type": "code",
   "execution_count": null,
   "metadata": {},
   "outputs": [],
   "source": [
    "df1.index = pd.to_datetime(df1[\"timestamp\"].astype(int), unit=\"s\", utc=True)\n",
    "\n",
    "df1.sort_index().to_csv(\"autoUSD_slippage_with_nav.csv\")"
   ]
  },
  {
   "cell_type": "code",
   "execution_count": null,
   "metadata": {},
   "outputs": [],
   "source": [
    "\n",
    "import plotly .express as px\n",
    "\n",
    "\n",
    "\n",
    "df1.sort_values(')"
   ]
  },
  {
   "cell_type": "code",
   "execution_count": null,
   "metadata": {},
   "outputs": [],
   "source": [
    "df1[\n",
    "    [\n",
    "        \"transactionHash\",\n",
    "        \"timestamp\",\n",
    "        \"blockNumber\",\n",
    "        \"tokenInAmount\",\n",
    "        \"destinationInAddress\",\n",
    "        \"tokenOutAmount\",\n",
    "        \"destinationOutAddress\",\n",
    "        \"tokenInAddress\",\n",
    "        \"tokenOutAddress\",\n",
    "        \"lp_token_in_spot_price\",\n",
    "        \"lp_token_out_spot_price\",\n",
    "        \"spot_value_in\",\n",
    "        \"spot_value_out\",\n",
    "        \"slippage\",\n",
    "    ]\n",
    "].to_csv(\"autoUSD_slippage.csv\")"
   ]
  },
  {
   "cell_type": "code",
   "execution_count": null,
   "metadata": {},
   "outputs": [],
   "source": [
    "df1[\"slippage\"] < 0"
   ]
  },
  {
   "cell_type": "code",
   "execution_count": null,
   "metadata": {},
   "outputs": [],
   "source": [
    "df1[\"slippage\"]"
   ]
  },
  {
   "cell_type": "code",
   "execution_count": null,
   "metadata": {},
   "outputs": [],
   "source": [
    "px.histogram(df1[\"swap_cost\"], title=\"autoUSD slippage\")"
   ]
  },
  {
   "cell_type": "code",
   "execution_count": null,
   "metadata": {},
   "outputs": [],
   "source": [
    "destination_states_df"
   ]
  },
  {
   "cell_type": "code",
   "execution_count": null,
   "metadata": {},
   "outputs": [],
   "source": [
    "destination_states_df[destination_states_df[\"underlying\"] == \"0xA0b86991c6218b36c1d19D4a2e9Eb0cE3606eB48\"]"
   ]
  },
  {
   "cell_type": "code",
   "execution_count": null,
   "metadata": {},
   "outputs": [],
   "source": [
    "df1[\"tokenOutAddress\"].value_counts()"
   ]
  },
  {
   "cell_type": "code",
   "execution_count": null,
   "metadata": {},
   "outputs": [],
   "source": [
    "destination_states_df"
   ]
  },
  {
   "cell_type": "code",
   "execution_count": null,
   "metadata": {},
   "outputs": [],
   "source": [
    "rebalance_event_df"
   ]
  },
  {
   "cell_type": "code",
   "execution_count": null,
   "metadata": {},
   "outputs": [],
   "source": [
    "rebalance_event_df[[\"blockNumber\", \"destinationInAddress\", \"tokenInAddress\"]]"
   ]
  },
  {
   "cell_type": "code",
   "execution_count": null,
   "metadata": {},
   "outputs": [],
   "source": [
    "destination_states_df"
   ]
  },
  {
   "cell_type": "code",
   "execution_count": null,
   "metadata": {},
   "outputs": [],
   "source": [
    "destination_states_df[[\"block\", \"destination_vault_address\", \"underlying\"]]"
   ]
  },
  {
   "cell_type": "code",
   "execution_count": null,
   "metadata": {},
   "outputs": [],
   "source": [
    "destination_states_df = destination_states_df.drop_duplicates()"
   ]
  },
  {
   "cell_type": "code",
   "execution_count": null,
   "metadata": {},
   "outputs": [],
   "source": []
  },
  {
   "cell_type": "code",
   "execution_count": null,
   "metadata": {},
   "outputs": [],
   "source": [
    "rebalance_event_df.head(1).T"
   ]
  },
  {
   "cell_type": "code",
   "execution_count": null,
   "metadata": {},
   "outputs": [],
   "source": [
    "# 0xA0b86991c6218b36c1d19D4a2e9Eb0cE3606eB48"
   ]
  },
  {
   "cell_type": "code",
   "execution_count": null,
   "metadata": {},
   "outputs": [],
   "source": [
    "token_value_df[\n",
    "    (token_value_df[\"block\"] == 22296632)\n",
    "    & (token_value_df[\"destination_vault_address\"] == \"0xa7569A44f348d3D70d8ad5889e50F78E33d80D35\")\n",
    "    & (token_value_df[\"token_address\"] == \"0xA0b86991c6218b36c1d19D4a2e9Eb0cE3606eB48\")\n",
    "]"
   ]
  },
  {
   "cell_type": "code",
   "execution_count": null,
   "metadata": {},
   "outputs": [],
   "source": [
    "rebalance_event_df"
   ]
  },
  {
   "cell_type": "code",
   "execution_count": null,
   "metadata": {},
   "outputs": [],
   "source": []
  },
  {
   "cell_type": "code",
   "execution_count": null,
   "metadata": {},
   "outputs": [],
   "source": [
    "destination_states_df[\"underlying_symbol\"].value_counts()"
   ]
  },
  {
   "cell_type": "code",
   "execution_count": null,
   "metadata": {},
   "outputs": [],
   "source": []
  }
 ],
 "metadata": {
  "kernelspec": {
   "display_name": "mainnet-launch-FtycU18g-py3.10",
   "language": "python",
   "name": "python3"
  },
  "language_info": {
   "codemirror_mode": {
    "name": "ipython",
    "version": 3
   },
   "file_extension": ".py",
   "mimetype": "text/x-python",
   "name": "python",
   "nbconvert_exporter": "python",
   "pygments_lexer": "ipython3",
   "version": "3.10.14"
  }
 },
 "nbformat": 4,
 "nbformat_minor": 2
}
