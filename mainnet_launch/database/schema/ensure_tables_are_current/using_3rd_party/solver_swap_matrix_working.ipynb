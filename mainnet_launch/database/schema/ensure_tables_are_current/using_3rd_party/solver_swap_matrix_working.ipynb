{
 "cells": [
  {
   "cell_type": "code",
   "execution_count": null,
   "metadata": {},
   "outputs": [],
   "source": [
    "import pandas as pd\n",
    "import plotly.express as px\n",
    "\n",
    "# paths = [\n",
    "#     '/Users/pb/Documents/Github/Tokemak/v2-rebalance-dashboard/mainnet_launch/database/schema/ensure_tables_are_current/using_3rd_party/autoUSD_primary_assets_quotes_slippage_3.5_bps_1_min_sleep.csv',\n",
    "#     '/Users/pb/Documents/Github/Tokemak/v2-rebalance-dashboard/mainnet_launch/database/schema/ensure_tables_are_current/using_3rd_party/autoUSD_primary_assets_quotes_slippage_3.5_bps.csv',\n",
    "#     \"/Users/pb/Documents/Github/Tokemak/v2-rebalance-dashboard/15_min_auto_usd_combinations2.csv\",\n",
    "#     \"/Users/pb/Documents/Github/Tokemak/v2-rebalance-dashboard/15_min_auto_usd_combinations3.csv\",\n",
    "#     \"/Users/pb/Documents/Github/Tokemak/v2-rebalance-dashboard/15_min_auto_usd_combinations4.csv\",\n",
    "#     \"/Users/pb/Documents/Github/Tokemak/v2-rebalance-dashboard/15_min_auto_usd_combinations.csv\"\n",
    "# ]\n",
    "\n",
    "# dfs = [pd.read_csv(p) for p in paths]\n",
    "# df = pd.concat(dfs)\n",
    "\n",
    "df = pd.read_csv(\"combined_swap_quotes.csv\")\n",
    "# df.to_csv(\"combined_swap_quotes.csv\", index=True)\n",
    "excluded = ['frxUSD']\n",
    "df = df[(~df['sell_symbol'].isin(excluded)) & (~df['buy_symbol'].isin(excluded))].copy()\n",
    "df['datetime_received'] = pd.to_datetime(df['datetime_received'])\n",
    "df = df.sort_values('datetime_received')\n"
   ]
  },
  {
   "cell_type": "code",
   "execution_count": null,
   "metadata": {},
   "outputs": [],
   "source": [
    "px.scatter(df, x=\"datetime_received\", y=\"label\", title='Samples over time')"
   ]
  },
  {
   "cell_type": "code",
   "execution_count": null,
   "metadata": {},
   "outputs": [],
   "source": [
    "df['long_label'] = df['label'] + ' ' + df['sell_amount_norm'].astype(int).astype(str)\n",
    "df['15_min_chunk'] = df['datetime_received'].dt.floor('15min')\n",
    "\n",
    "# I think we want 1 for each sample\n",
    "df[['15_min_chunk', 'long_label']].value_counts().reset_index()['count'].value_counts()"
   ]
  },
  {
   "cell_type": "code",
   "execution_count": null,
   "metadata": {},
   "outputs": [],
   "source": [
    "df_unique = df[df.groupby(['15_min_chunk', 'long_label'])['long_label'].transform('count') == 1]\n",
    "df_unique.columns"
   ]
  },
  {
   "cell_type": "code",
   "execution_count": null,
   "metadata": {},
   "outputs": [],
   "source": [
    "df_unique[['datetime_received', 'long_label', '15_min_chunk', 'min_buy_amount_price', 'buy_amount_price']]"
   ]
  },
  {
   "cell_type": "code",
   "execution_count": null,
   "metadata": {},
   "outputs": [],
   "source": [
    "buy_amount_price_over_time = df_unique.pivot(index='15_min_chunk', columns='long_label', values='buy_amount_price')\n",
    "\n",
    "\n",
    "px.line(buy_amount_price_over_time)"
   ]
  },
  {
   "cell_type": "code",
   "execution_count": null,
   "metadata": {},
   "outputs": [],
   "source": [
    "df_unique[df_unique['long_label'] == 'FRAX -> GHO 100000']"
   ]
  },
  {
   "cell_type": "code",
   "execution_count": null,
   "metadata": {},
   "outputs": [],
   "source": [
    "from plotly.subplots import make_subplots\n",
    "\n",
    "\n",
    "\n",
    "def compute_bps_diff_thresholds(buy_amount_price_over_time, column:str) -> pd.DataFrame:\n",
    "    one_token_prices = buy_amount_price_over_time[[column]].copy()\n",
    "    one_token_prices['t-15'] = one_token_prices[column].shift(1)\n",
    "    one_token_prices['t-30'] = one_token_prices[column].shift(2)\n",
    "    one_token_prices['t-45'] = one_token_prices[column].shift(3)\n",
    "    one_token_prices['t-60'] = one_token_prices[column].shift(4)\n",
    "    one_token_prices['bps_diff_15_min'] = ((one_token_prices[column] - one_token_prices['t-15']) / one_token_prices['t-15'] * 1_000)\n",
    "    one_token_prices['bps_diff_30_min'] = ((one_token_prices[column] - one_token_prices['t-30']) / one_token_prices['t-30'] * 1_000)\n",
    "    one_token_prices['bps_diff_45_min'] = ((one_token_prices[column] - one_token_prices['t-45']) / one_token_prices['t-45'] * 1_000)\n",
    "    one_token_prices['bps_diff_60_min'] = ((one_token_prices[column] - one_token_prices['t-60']) / one_token_prices['t-60'] * 1_000)\n",
    "    thresholds = one_token_prices.filter(like='bps_diff_').abs().quantile(0.9).rename(column)\n",
    "    return thresholds\n",
    "\n",
    "all_thresholds = []\n",
    "for col in buy_amount_price_over_time.columns:\n",
    "    thresholds = compute_bps_diff_thresholds(buy_amount_price_over_time, col)\n",
    "    all_thresholds.append(thresholds)\n",
    "\n",
    "threshold_df = pd.concat(all_thresholds, axis=1).T\n",
    "fig = make_subplots(rows=2, cols=2, subplot_titles=threshold_df.columns)\n",
    "\n",
    "for i, col in enumerate(threshold_df.columns):\n",
    "    fig.add_trace(\n",
    "        px.ecdf(threshold_df, x=col).data[0],\n",
    "        row=(i // 2) + 1,\n",
    "        col=(i % 2) + 1\n",
    "    )\n",
    "\n",
    "fig.update_layout(title_text=\"Threshold Distributions\", showlegend=False)\n",
    "fig.show()"
   ]
  },
  {
   "cell_type": "code",
   "execution_count": null,
   "metadata": {},
   "outputs": [],
   "source": []
  },
  {
   "cell_type": "code",
   "execution_count": null,
   "metadata": {},
   "outputs": [],
   "source": []
  },
  {
   "cell_type": "code",
   "execution_count": null,
   "metadata": {},
   "outputs": [],
   "source": [
    "one_token_prices.filter(like='bps_diff_').abs().describe().round(4)"
   ]
  },
  {
   "cell_type": "code",
   "execution_count": null,
   "metadata": {},
   "outputs": [],
   "source": [
    "t_15 = 0.9956475913209956\n",
    "t_0 =  0.9956729077812012\n",
    "\n",
    "bps_diff = (t_0 - t_15) / t_15 * 1_000\n",
    "bps_diff"
   ]
  },
  {
   "cell_type": "code",
   "execution_count": null,
   "metadata": {},
   "outputs": [],
   "source": [
    "one_token_prices"
   ]
  },
  {
   "cell_type": "code",
   "execution_count": null,
   "metadata": {},
   "outputs": [],
   "source": [
    "one_token_prices\""
   ]
  },
  {
   "cell_type": "code",
   "execution_count": null,
   "metadata": {},
   "outputs": [],
   "source": [
    "spread_df = df.groupby([\"label\", \"sell_amount_norm\"]).agg(\n",
    "    buy_amount_price_min=(\"buy_amount_price\", \"min\"),\n",
    "    buy_amount_price_max=(\"buy_amount_price\", \"max\"),\n",
    "    min_buy_amount_price_min=(\"min_buy_amount_price\", \"min\"),\n",
    "    min_buy_amount_price_max=(\"min_buy_amount_price\", \"max\"),\n",
    ")\n",
    "spread_df[\"buy_amount_spread_bps\"] = 10_000 * (\n",
    "    (spread_df[\"buy_amount_price_max\"] - spread_df[\"buy_amount_price_min\"]) / spread_df[\"buy_amount_price_min\"]\n",
    ")\n",
    "spread_df[\"min_buy_amount_spread_bps\"] = 10_000 * (\n",
    "    (spread_df[\"min_buy_amount_price_max\"] - spread_df[\"min_buy_amount_price_min\"])\n",
    "    / spread_df[\"min_buy_amount_price_min\"]\n",
    ")\n",
    "spreads = (\n",
    "    spread_df[[\"buy_amount_spread_bps\", \"min_buy_amount_spread_bps\"]]\n",
    "    .reset_index()\n",
    "    .pivot(index=\"sell_amount_norm\", columns=\"label\", values=\"buy_amount_spread_bps\")\n",
    ")\n",
    "px.violin(spreads)"
   ]
  },
  {
   "cell_type": "code",
   "execution_count": null,
   "metadata": {},
   "outputs": [],
   "source": [
    "spreads"
   ]
  },
  {
   "cell_type": "code",
   "execution_count": null,
   "metadata": {},
   "outputs": [],
   "source": [
    "df[\"datetime_received\"] = pd.to_datetime(df[\"datetime_received\"])\n",
    "df[\"datetime_received\"].max() - df[\"datetime_received\"].min()"
   ]
  },
  {
   "cell_type": "code",
   "execution_count": null,
   "metadata": {},
   "outputs": [],
   "source": [
    "px.scatter(\n",
    "    df,\n",
    "    x=\"sell_amount_norm\",\n",
    "    y=\"buy_amount_price\",\n",
    "    color=\"label\",\n",
    "    size=\"min_buy_amount_price\",\n",
    "    hover_data=[\"datetime_received\"],\n",
    ")"
   ]
  },
  {
   "attachments": {
    "image.png": {
     "image/png": "[encoded data removed]"
    }
   },
   "cell_type": "markdown",
   "metadata": {},
   "source": [
    "![image.png](attachment:image.png)"
   ]
  },
  {
   "cell_type": "code",
   "execution_count": null,
   "metadata": {},
   "outputs": [],
   "source": [
    "df.columns"
   ]
  },
  {
   "cell_type": "code",
   "execution_count": null,
   "metadata": {},
   "outputs": [],
   "source": [
    "# I have a feeling that the swap matrix is optimizing for the wrong thing, min buy amount vs buy amount?"
   ]
  }
 ],
 "metadata": {
  "kernelspec": {
   "display_name": "mainnet-launch-py3.10",
   "language": "python",
   "name": "python3"
  },
  "language_info": {
   "codemirror_mode": {
    "name": "ipython",
    "version": 3
   },
   "file_extension": ".py",
   "mimetype": "text/x-python",
   "name": "python",
   "nbconvert_exporter": "python",
   "pygments_lexer": "ipython3",
   "version": "3.10.14"
  }
 },
 "nbformat": 4,
 "nbformat_minor": 2
}
