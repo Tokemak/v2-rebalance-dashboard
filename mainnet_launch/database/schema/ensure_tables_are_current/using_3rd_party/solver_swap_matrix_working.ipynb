{
 "cells": [
  {
   "cell_type": "code",
   "execution_count": null,
   "metadata": {},
   "outputs": [
    {
     "data": {
      "text/plain": [
       "126"
      ]
     },
     "execution_count": 4,
     "metadata": {},
     "output_type": "execute_result"
    }
   ],
   "source": [
    "assets = ['osETH', 'WETH', 'rETH', 'cbETH', 'wstETH', 'weETH', 'pxETH']\n",
    "sizes = [25, 50, 75]\n",
    "\n",
    "needed_quotes = []\n",
    "\n",
    "for size in sizes:\n",
    "    for a1 in assets:\n",
    "        for a2 in assets:\n",
    "            if a1 != a2:\n",
    "                needed_quotes.append((a1, a2, size))\n",
    "\n",
    "len(needed_quotes)\n",
    "\n",
    "# theory:\n",
    "needed_quotes\n",
    "# These quotes, from tokemak at minute 0- 3 (however long it takes)\n",
    "\n",
    "# Should be very similar\n",
    "\n",
    "# I just get the feeling that these quotes are going to be until they are not\n",
    "\n",
    "# what about (optimize on this) set, then test out the top 5 using live quotes?\n",
    "\n",
    "# optimize over min amount?"
   ]
  },
  {
   "cell_type": "code",
   "execution_count": null,
   "metadata": {},
   "outputs": [],
   "source": []
  }
 ],
 "metadata": {
  "kernelspec": {
   "display_name": "mainnet-launch-py3.10",
   "language": "python",
   "name": "python3"
  },
  "language_info": {
   "codemirror_mode": {
    "name": "ipython",
    "version": 3
   },
   "file_extension": ".py",
   "mimetype": "text/x-python",
   "name": "python",
   "nbconvert_exporter": "python",
   "pygments_lexer": "ipython3",
   "version": "3.10.14"
  }
 },
 "nbformat": 4,
 "nbformat_minor": 2
}
