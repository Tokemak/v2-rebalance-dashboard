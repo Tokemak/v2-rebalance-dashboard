{
 "cells": [
  {
   "cell_type": "code",
   "execution_count": null,
   "metadata": {},
   "outputs": [
    {
     "name": "stderr",
     "output_type": "stream",
     "text": [
      "/Users/pb/Library/Caches/pypoetry/virtualenvs/mainnet-launch-FtycU18g-py3.10/lib/python3.10/site-packages/eth_abi/__init__.py:4: UserWarning: pkg_resources is deprecated as an API. See https://setuptools.pypa.io/en/latest/pkg_resources.html. The pkg_resources package is slated for removal as early as 2025-11-30. Refrain from using this package or pin to Setuptools<81.\n",
      "  import pkg_resources\n"
     ]
    },
    {
     "data": {
      "text/plain": [
       "[TokemakQuoteRequest(chain_id=42161, token_in='0x7dfF72693f6A4149b17e7C6314655f6A9F7c8B33', token_out='0xaf88d065e77c8cC2239327C5EDb3A432268e5831', unscaled_amount_in=150000000000000000000000),\n",
       " TokemakQuoteRequest(chain_id=42161, token_in='0x7dfF72693f6A4149b17e7C6314655f6A9F7c8B33', token_out='0x498Bf2B1e120FeD3ad3D42EA2165E9b73f99C1e5', unscaled_amount_in=100000000000000000000000),\n",
       " TokemakQuoteRequest(chain_id=42161, token_in='0x7dfF72693f6A4149b17e7C6314655f6A9F7c8B33', token_out='0xaf88d065e77c8cC2239327C5EDb3A432268e5831', unscaled_amount_in=100000000000000000000000),\n",
       " TokemakQuoteRequest(chain_id=42161, token_in='0xaf88d065e77c8cC2239327C5EDb3A432268e5831', token_out='0x7dfF72693f6A4149b17e7C6314655f6A9F7c8B33', unscaled_amount_in=50000000000),\n",
       " TokemakQuoteRequest(chain_id=42161, token_in='0x498Bf2B1e120FeD3ad3D42EA2165E9b73f99C1e5', token_out='0xaf88d065e77c8cC2239327C5EDb3A432268e5831', unscaled_amount_in=200000000000000000000000),\n",
       " TokemakQuoteRequest(chain_id=42161, token_in='0x7dfF72693f6A4149b17e7C6314655f6A9F7c8B33', token_out='0xFd086bC7CD5C481DCC9C85ebE478A1C0b69FCbb9', unscaled_amount_in=200000000000000000000000),\n",
       " TokemakQuoteRequest(chain_id=42161, token_in='0xFd086bC7CD5C481DCC9C85ebE478A1C0b69FCbb9', token_out='0x498Bf2B1e120FeD3ad3D42EA2165E9b73f99C1e5', unscaled_amount_in=200000000000),\n",
       " TokemakQuoteRequest(chain_id=42161, token_in='0x498Bf2B1e120FeD3ad3D42EA2165E9b73f99C1e5', token_out='0xFd086bC7CD5C481DCC9C85ebE478A1C0b69FCbb9', unscaled_amount_in=150000000000000000000000),\n",
       " TokemakQuoteRequest(chain_id=42161, token_in='0xFd086bC7CD5C481DCC9C85ebE478A1C0b69FCbb9', token_out='0x7dfF72693f6A4149b17e7C6314655f6A9F7c8B33', unscaled_amount_in=150000000000),\n",
       " TokemakQuoteRequest(chain_id=42161, token_in='0x498Bf2B1e120FeD3ad3D42EA2165E9b73f99C1e5', token_out='0xFd086bC7CD5C481DCC9C85ebE478A1C0b69FCbb9', unscaled_amount_in=100000000000000000000000),\n",
       " TokemakQuoteRequest(chain_id=42161, token_in='0xFd086bC7CD5C481DCC9C85ebE478A1C0b69FCbb9', token_out='0xaf88d065e77c8cC2239327C5EDb3A432268e5831', unscaled_amount_in=200000000000),\n",
       " TokemakQuoteRequest(chain_id=42161, token_in='0x498Bf2B1e120FeD3ad3D42EA2165E9b73f99C1e5', token_out='0x7dfF72693f6A4149b17e7C6314655f6A9F7c8B33', unscaled_amount_in=150000000000000000000000),\n",
       " TokemakQuoteRequest(chain_id=42161, token_in='0x498Bf2B1e120FeD3ad3D42EA2165E9b73f99C1e5', token_out='0xFd086bC7CD5C481DCC9C85ebE478A1C0b69FCbb9', unscaled_amount_in=200000000000000000000000),\n",
       " TokemakQuoteRequest(chain_id=42161, token_in='0x498Bf2B1e120FeD3ad3D42EA2165E9b73f99C1e5', token_out='0x7dfF72693f6A4149b17e7C6314655f6A9F7c8B33', unscaled_amount_in=200000000000000000000000),\n",
       " TokemakQuoteRequest(chain_id=42161, token_in='0xaf88d065e77c8cC2239327C5EDb3A432268e5831', token_out='0x498Bf2B1e120FeD3ad3D42EA2165E9b73f99C1e5', unscaled_amount_in=150000000000),\n",
       " TokemakQuoteRequest(chain_id=42161, token_in='0x498Bf2B1e120FeD3ad3D42EA2165E9b73f99C1e5', token_out='0x7dfF72693f6A4149b17e7C6314655f6A9F7c8B33', unscaled_amount_in=50000000000000000000000),\n",
       " TokemakQuoteRequest(chain_id=42161, token_in='0xaf88d065e77c8cC2239327C5EDb3A432268e5831', token_out='0xFd086bC7CD5C481DCC9C85ebE478A1C0b69FCbb9', unscaled_amount_in=50000000000),\n",
       " TokemakQuoteRequest(chain_id=42161, token_in='0x7dfF72693f6A4149b17e7C6314655f6A9F7c8B33', token_out='0xaf88d065e77c8cC2239327C5EDb3A432268e5831', unscaled_amount_in=200000000000000000000000),\n",
       " TokemakQuoteRequest(chain_id=42161, token_in='0xFd086bC7CD5C481DCC9C85ebE478A1C0b69FCbb9', token_out='0x498Bf2B1e120FeD3ad3D42EA2165E9b73f99C1e5', unscaled_amount_in=150000000000),\n",
       " TokemakQuoteRequest(chain_id=42161, token_in='0x7dfF72693f6A4149b17e7C6314655f6A9F7c8B33', token_out='0xFd086bC7CD5C481DCC9C85ebE478A1C0b69FCbb9', unscaled_amount_in=100000000000000000000000),\n",
       " TokemakQuoteRequest(chain_id=42161, token_in='0xFd086bC7CD5C481DCC9C85ebE478A1C0b69FCbb9', token_out='0xaf88d065e77c8cC2239327C5EDb3A432268e5831', unscaled_amount_in=100000000000),\n",
       " TokemakQuoteRequest(chain_id=42161, token_in='0xFd086bC7CD5C481DCC9C85ebE478A1C0b69FCbb9', token_out='0x498Bf2B1e120FeD3ad3D42EA2165E9b73f99C1e5', unscaled_amount_in=100000000000),\n",
       " TokemakQuoteRequest(chain_id=42161, token_in='0xaf88d065e77c8cC2239327C5EDb3A432268e5831', token_out='0xFd086bC7CD5C481DCC9C85ebE478A1C0b69FCbb9', unscaled_amount_in=100000000000),\n",
       " TokemakQuoteRequest(chain_id=42161, token_in='0xFd086bC7CD5C481DCC9C85ebE478A1C0b69FCbb9', token_out='0x7dfF72693f6A4149b17e7C6314655f6A9F7c8B33', unscaled_amount_in=50000000000),\n",
       " TokemakQuoteRequest(chain_id=42161, token_in='0xaf88d065e77c8cC2239327C5EDb3A432268e5831', token_out='0xFd086bC7CD5C481DCC9C85ebE478A1C0b69FCbb9', unscaled_amount_in=200000000000),\n",
       " TokemakQuoteRequest(chain_id=42161, token_in='0xaf88d065e77c8cC2239327C5EDb3A432268e5831', token_out='0x7dfF72693f6A4149b17e7C6314655f6A9F7c8B33', unscaled_amount_in=150000000000),\n",
       " TokemakQuoteRequest(chain_id=42161, token_in='0xaf88d065e77c8cC2239327C5EDb3A432268e5831', token_out='0x498Bf2B1e120FeD3ad3D42EA2165E9b73f99C1e5', unscaled_amount_in=50000000000),\n",
       " TokemakQuoteRequest(chain_id=42161, token_in='0x498Bf2B1e120FeD3ad3D42EA2165E9b73f99C1e5', token_out='0xaf88d065e77c8cC2239327C5EDb3A432268e5831', unscaled_amount_in=50000000000000000000000),\n",
       " TokemakQuoteRequest(chain_id=42161, token_in='0xaf88d065e77c8cC2239327C5EDb3A432268e5831', token_out='0x498Bf2B1e120FeD3ad3D42EA2165E9b73f99C1e5', unscaled_amount_in=100000000000),\n",
       " TokemakQuoteRequest(chain_id=42161, token_in='0xaf88d065e77c8cC2239327C5EDb3A432268e5831', token_out='0x498Bf2B1e120FeD3ad3D42EA2165E9b73f99C1e5', unscaled_amount_in=200000000000),\n",
       " TokemakQuoteRequest(chain_id=42161, token_in='0x7dfF72693f6A4149b17e7C6314655f6A9F7c8B33', token_out='0xaf88d065e77c8cC2239327C5EDb3A432268e5831', unscaled_amount_in=50000000000000000000000),\n",
       " TokemakQuoteRequest(chain_id=42161, token_in='0xFd086bC7CD5C481DCC9C85ebE478A1C0b69FCbb9', token_out='0x498Bf2B1e120FeD3ad3D42EA2165E9b73f99C1e5', unscaled_amount_in=50000000000),\n",
       " TokemakQuoteRequest(chain_id=42161, token_in='0x7dfF72693f6A4149b17e7C6314655f6A9F7c8B33', token_out='0xFd086bC7CD5C481DCC9C85ebE478A1C0b69FCbb9', unscaled_amount_in=50000000000000000000000),\n",
       " TokemakQuoteRequest(chain_id=42161, token_in='0xaf88d065e77c8cC2239327C5EDb3A432268e5831', token_out='0x7dfF72693f6A4149b17e7C6314655f6A9F7c8B33', unscaled_amount_in=200000000000),\n",
       " TokemakQuoteRequest(chain_id=42161, token_in='0x498Bf2B1e120FeD3ad3D42EA2165E9b73f99C1e5', token_out='0xFd086bC7CD5C481DCC9C85ebE478A1C0b69FCbb9', unscaled_amount_in=50000000000000000000000),\n",
       " TokemakQuoteRequest(chain_id=42161, token_in='0x7dfF72693f6A4149b17e7C6314655f6A9F7c8B33', token_out='0x498Bf2B1e120FeD3ad3D42EA2165E9b73f99C1e5', unscaled_amount_in=50000000000000000000000),\n",
       " TokemakQuoteRequest(chain_id=42161, token_in='0xaf88d065e77c8cC2239327C5EDb3A432268e5831', token_out='0xFd086bC7CD5C481DCC9C85ebE478A1C0b69FCbb9', unscaled_amount_in=150000000000),\n",
       " TokemakQuoteRequest(chain_id=42161, token_in='0xFd086bC7CD5C481DCC9C85ebE478A1C0b69FCbb9', token_out='0x7dfF72693f6A4149b17e7C6314655f6A9F7c8B33', unscaled_amount_in=100000000000),\n",
       " TokemakQuoteRequest(chain_id=42161, token_in='0xFd086bC7CD5C481DCC9C85ebE478A1C0b69FCbb9', token_out='0x7dfF72693f6A4149b17e7C6314655f6A9F7c8B33', unscaled_amount_in=200000000000),\n",
       " TokemakQuoteRequest(chain_id=42161, token_in='0x7dfF72693f6A4149b17e7C6314655f6A9F7c8B33', token_out='0x498Bf2B1e120FeD3ad3D42EA2165E9b73f99C1e5', unscaled_amount_in=150000000000000000000000),\n",
       " TokemakQuoteRequest(chain_id=42161, token_in='0x498Bf2B1e120FeD3ad3D42EA2165E9b73f99C1e5', token_out='0xaf88d065e77c8cC2239327C5EDb3A432268e5831', unscaled_amount_in=100000000000000000000000),\n",
       " TokemakQuoteRequest(chain_id=42161, token_in='0xFd086bC7CD5C481DCC9C85ebE478A1C0b69FCbb9', token_out='0xaf88d065e77c8cC2239327C5EDb3A432268e5831', unscaled_amount_in=50000000000),\n",
       " TokemakQuoteRequest(chain_id=42161, token_in='0xaf88d065e77c8cC2239327C5EDb3A432268e5831', token_out='0x7dfF72693f6A4149b17e7C6314655f6A9F7c8B33', unscaled_amount_in=100000000000),\n",
       " TokemakQuoteRequest(chain_id=42161, token_in='0x7dfF72693f6A4149b17e7C6314655f6A9F7c8B33', token_out='0x498Bf2B1e120FeD3ad3D42EA2165E9b73f99C1e5', unscaled_amount_in=200000000000000000000000),\n",
       " TokemakQuoteRequest(chain_id=42161, token_in='0xFd086bC7CD5C481DCC9C85ebE478A1C0b69FCbb9', token_out='0xaf88d065e77c8cC2239327C5EDb3A432268e5831', unscaled_amount_in=150000000000),\n",
       " TokemakQuoteRequest(chain_id=42161, token_in='0x498Bf2B1e120FeD3ad3D42EA2165E9b73f99C1e5', token_out='0xaf88d065e77c8cC2239327C5EDb3A432268e5831', unscaled_amount_in=150000000000000000000000),\n",
       " TokemakQuoteRequest(chain_id=42161, token_in='0x498Bf2B1e120FeD3ad3D42EA2165E9b73f99C1e5', token_out='0x7dfF72693f6A4149b17e7C6314655f6A9F7c8B33', unscaled_amount_in=100000000000000000000000),\n",
       " TokemakQuoteRequest(chain_id=42161, token_in='0x7dfF72693f6A4149b17e7C6314655f6A9F7c8B33', token_out='0xFd086bC7CD5C481DCC9C85ebE478A1C0b69FCbb9', unscaled_amount_in=150000000000000000000000)]"
      ]
     },
     "execution_count": 1,
     "metadata": {},
     "output_type": "execute_result"
    }
   ],
   "source": [
    "from mainnet_launch.database.schema.ensure_tables_are_current.using_3rd_party.swap_matrix_quotes_and_onchain_prices import (\n",
    "    build_quotes,\n",
    "    build_fetch_on_chain_spot_prices_function, \n",
    "    fetch_swap_matrix_quotes_and_prices\n",
    ")\n",
    "from mainnet_launch.constants import PLASMA_USD, ARB_USD\n",
    "\n",
    "\n",
    "tokemak_quote_requests = build_quotes(ARB_USD)\n",
    "tokemak_quote_requests\n",
    "_fetch_on_chain_spot_prices = build_fetch_on_chain_spot_prices_function(ARB_USD)\n",
    "\n",
    "fetch_swap_matrix_quotes_and_prices(_fetch_on_chain_spot_prices, tokemak_quote_requests[0]\n"
   ]
  },
  {
   "cell_type": "code",
   "execution_count": null,
   "metadata": {},
   "outputs": [],
   "source": []
  },
  {
   "cell_type": "code",
   "execution_count": null,
   "metadata": {},
   "outputs": [],
   "source": []
  }
 ],
 "metadata": {
  "kernelspec": {
   "display_name": "mainnet-launch-py3.10",
   "language": "python",
   "name": "python3"
  },
  "language_info": {
   "codemirror_mode": {
    "name": "ipython",
    "version": 3
   },
   "file_extension": ".py",
   "mimetype": "text/x-python",
   "name": "python",
   "nbconvert_exporter": "python",
   "pygments_lexer": "ipython3",
   "version": "3.10.14"
  }
 },
 "nbformat": 4,
 "nbformat_minor": 2
}
