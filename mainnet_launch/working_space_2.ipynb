{
 "cells": [
  {
   "cell_type": "code",
   "execution_count": 1,
   "metadata": {},
   "outputs": [
    {
     "name": "stderr",
     "output_type": "stream",
     "text": [
      "2024-10-28 17:15:58.092 WARNING streamlit.runtime.caching.cache_data_api: No runtime found, using MemoryCacheStorageManager\n",
      "2024-10-28 17:15:58.096 WARNING streamlit.runtime.caching.cache_data_api: No runtime found, using MemoryCacheStorageManager\n",
      "2024-10-28 17:15:58.098 WARNING streamlit.runtime.caching.cache_data_api: No runtime found, using MemoryCacheStorageManager\n",
      "2024-10-28 17:15:58.182 WARNING streamlit.runtime.caching.cache_data_api: No runtime found, using MemoryCacheStorageManager\n",
      "2024-10-28 17:15:58.183 WARNING streamlit.runtime.scriptrunner_utils.script_run_context: Thread 'MainThread': missing ScriptRunContext! This warning can be ignored when running in bare mode.\n",
      "2024-10-28 17:15:58.347 \n",
      "  \u001b[33m\u001b[1mWarning:\u001b[0m to view this Streamlit app on a browser, run it with the following\n",
      "  command:\n",
      "\n",
      "    streamlit run /home/parker/Documents/Tokemak/v2-rebalance-dashboard/.venv/lib/python3.10/site-packages/ipykernel_launcher.py [ARGUMENTS]\n",
      "2024-10-28 17:15:58.348 Thread 'MainThread': missing ScriptRunContext! This warning can be ignored when running in bare mode.\n",
      "2024-10-28 17:15:58.348 Thread 'MainThread': missing ScriptRunContext! This warning can be ignored when running in bare mode.\n",
      "2024-10-28 17:15:58.349 No runtime found, using MemoryCacheStorageManager\n",
      "2024-10-28 17:15:58.350 Thread 'MainThread': missing ScriptRunContext! This warning can be ignored when running in bare mode.\n",
      "2024-10-28 17:15:58.350 Thread 'MainThread': missing ScriptRunContext! This warning can be ignored when running in bare mode.\n",
      "2024-10-28 17:15:58.351 Thread 'MainThread': missing ScriptRunContext! This warning can be ignored when running in bare mode.\n",
      "2024-10-28 17:15:58.351 No runtime found, using MemoryCacheStorageManager\n",
      "2024-10-28 17:15:58.352 Thread 'MainThread': missing ScriptRunContext! This warning can be ignored when running in bare mode.\n",
      "2024-10-28 17:15:58.352 Thread 'MainThread': missing ScriptRunContext! This warning can be ignored when running in bare mode.\n",
      "2024-10-28 17:15:58.353 Thread 'MainThread': missing ScriptRunContext! This warning can be ignored when running in bare mode.\n",
      "2024-10-28 17:15:58.353 No runtime found, using MemoryCacheStorageManager\n",
      "2024-10-28 17:15:58.612 Thread 'MainThread': missing ScriptRunContext! This warning can be ignored when running in bare mode.\n",
      "2024-10-28 17:15:58.613 Thread 'MainThread': missing ScriptRunContext! This warning can be ignored when running in bare mode.\n",
      "2024-10-28 17:15:58.850 Thread 'Thread-4': missing ScriptRunContext! This warning can be ignored when running in bare mode.\n",
      "2024-10-28 17:15:58.851 Thread 'Thread-4': missing ScriptRunContext! This warning can be ignored when running in bare mode.\n",
      "2024-10-28 17:15:58.852 Thread 'Thread-5': missing ScriptRunContext! This warning can be ignored when running in bare mode.\n",
      "2024-10-28 17:15:58.857 Thread 'Thread-5': missing ScriptRunContext! This warning can be ignored when running in bare mode.\n",
      "2024-10-28 17:16:03.031 Thread 'MainThread': missing ScriptRunContext! This warning can be ignored when running in bare mode.\n",
      "2024-10-28 17:16:03.031 Thread 'MainThread': missing ScriptRunContext! This warning can be ignored when running in bare mode.\n",
      "2024-10-28 17:16:04.513 Thread 'MainThread': missing ScriptRunContext! This warning can be ignored when running in bare mode.\n",
      "2024-10-28 17:16:04.513 Thread 'MainThread': missing ScriptRunContext! This warning can be ignored when running in bare mode.\n"
     ]
    }
   ],
   "source": [
    "import pandas as pd\n",
    "from mainnet_launch.constants import (\n",
    "    eth_client,\n",
    ")\n",
    "from mainnet_launch.destinations import get_destination_details\n",
    "from mainnet_launch.lens_contract import get_pools_and_destinations_call\n",
    "from mainnet_launch.destination_diagnostics.fetch_destination_summary_stats import _build_summary_stats_call\n",
    "\n",
    "import warnings\n",
    "\n",
    "destination_details = get_destination_details()"
   ]
  },
  {
   "cell_type": "code",
   "execution_count": 12,
   "metadata": {},
   "outputs": [
    {
     "data": {
      "text/plain": [
       "[Destination Details:\n",
       "  vaultAddress\t: 0xfB6f99FdF12E37Bfe3c4Cf81067faB10c465fb24\n",
       "  exchangeName\t: balancer\n",
       "  dexPool\t: 0xB91159aa527D4769CB9FAf3e4ADB760c7E8C8Ea7\n",
       "  lpTokenAddress\t: 0xB91159aa527D4769CB9FAf3e4ADB760c7E8C8Ea7\n",
       "  lpTokenSymbol\t: ETHx/wstETH\n",
       "  lpTokenName\t: Balancer ETHx/wstETH\n",
       "  autopool\t: {'name': 'Tokemak autoETH', 'autopool_eth_addr': '0x0A2b94F6871c1D7A32Fe58E1ab5e6deA2f114E56', 'autopool_eth_strategy_addr': '0xf5f6addB08c5e6091e5FdEc7326B21bEEd942235', 'solver_rebalance_plans_bucket': 'v2-gen3-eth-mainnet-solve-v2gen3ethmainnetsolverau-7ju0ra8aoznh'}\n",
       "  vault_name\t: ETHx/wstETH (balancer),\n",
       " Destination Details:\n",
       "  vaultAddress\t: 0xfB6f99FdF12E37Bfe3c4Cf81067faB10c465fb24\n",
       "  exchangeName\t: balancer\n",
       "  dexPool\t: 0xB91159aa527D4769CB9FAf3e4ADB760c7E8C8Ea7\n",
       "  lpTokenAddress\t: 0xB91159aa527D4769CB9FAf3e4ADB760c7E8C8Ea7\n",
       "  lpTokenSymbol\t: ETHx/wstETH\n",
       "  lpTokenName\t: Balancer ETHx/wstETH\n",
       "  autopool\t: {'name': 'Balancer/Tokemak balETH', 'autopool_eth_addr': '0x6dC3ce9C57b20131347FDc9089D740DAf6eB34c5', 'autopool_eth_strategy_addr': '0xabe104560D0B390309bcF20b73Dca335457AA32e', 'solver_rebalance_plans_bucket': 'v2-gen3-eth-mainnet-solve-v2gen3ethmainnetsolverba-wx1snhldrupb'}\n",
       "  vault_name\t: ETHx/wstETH (balancer),\n",
       " Destination Details:\n",
       "  vaultAddress\t: 0xdfE3fA7027E84f59b266459C567278C79fe86f0C\n",
       "  exchangeName\t: balancer\n",
       "  dexPool\t: 0xB91159aa527D4769CB9FAf3e4ADB760c7E8C8Ea7\n",
       "  lpTokenAddress\t: 0xB91159aa527D4769CB9FAf3e4ADB760c7E8C8Ea7\n",
       "  lpTokenSymbol\t: ETHx/wstETH\n",
       "  lpTokenName\t: Balancer ETHx/wstETH\n",
       "  autopool\t: {'name': 'Tokemak autoETH', 'autopool_eth_addr': '0x0A2b94F6871c1D7A32Fe58E1ab5e6deA2f114E56', 'autopool_eth_strategy_addr': '0xf5f6addB08c5e6091e5FdEc7326B21bEEd942235', 'solver_rebalance_plans_bucket': 'v2-gen3-eth-mainnet-solve-v2gen3ethmainnetsolverau-7ju0ra8aoznh'}\n",
       "  vault_name\t: ETHx/wstETH (balancer),\n",
       " Destination Details:\n",
       "  vaultAddress\t: 0xdfE3fA7027E84f59b266459C567278C79fe86f0C\n",
       "  exchangeName\t: balancer\n",
       "  dexPool\t: 0xB91159aa527D4769CB9FAf3e4ADB760c7E8C8Ea7\n",
       "  lpTokenAddress\t: 0xB91159aa527D4769CB9FAf3e4ADB760c7E8C8Ea7\n",
       "  lpTokenSymbol\t: ETHx/wstETH\n",
       "  lpTokenName\t: Balancer ETHx/wstETH\n",
       "  autopool\t: {'name': 'Balancer/Tokemak balETH', 'autopool_eth_addr': '0x6dC3ce9C57b20131347FDc9089D740DAf6eB34c5', 'autopool_eth_strategy_addr': '0xabe104560D0B390309bcF20b73Dca335457AA32e', 'solver_rebalance_plans_bucket': 'v2-gen3-eth-mainnet-solve-v2gen3ethmainnetsolverba-wx1snhldrupb'}\n",
       "  vault_name\t: ETHx/wstETH (balancer),\n",
       " Destination Details:\n",
       "  vaultAddress\t: 0x2899143298FECa3a36DAfDDcddAF167f1D673254\n",
       "  exchangeName\t: balancer\n",
       "  dexPool\t: 0xB91159aa527D4769CB9FAf3e4ADB760c7E8C8Ea7\n",
       "  lpTokenAddress\t: 0xB91159aa527D4769CB9FAf3e4ADB760c7E8C8Ea7\n",
       "  lpTokenSymbol\t: ETHx/wstETH\n",
       "  lpTokenName\t: Balancer ETHx/wstETH\n",
       "  autopool\t: {'name': 'Balancer/Tokemak balETH', 'autopool_eth_addr': '0x6dC3ce9C57b20131347FDc9089D740DAf6eB34c5', 'autopool_eth_strategy_addr': '0xabe104560D0B390309bcF20b73Dca335457AA32e', 'solver_rebalance_plans_bucket': 'v2-gen3-eth-mainnet-solve-v2gen3ethmainnetsolverba-wx1snhldrupb'}\n",
       "  vault_name\t: ETHx/wstETH (balancer),\n",
       " Destination Details:\n",
       "  vaultAddress\t: 0x2899143298FECa3a36DAfDDcddAF167f1D673254\n",
       "  exchangeName\t: balancer\n",
       "  dexPool\t: 0xB91159aa527D4769CB9FAf3e4ADB760c7E8C8Ea7\n",
       "  lpTokenAddress\t: 0xB91159aa527D4769CB9FAf3e4ADB760c7E8C8Ea7\n",
       "  lpTokenSymbol\t: ETHx/wstETH\n",
       "  lpTokenName\t: Balancer ETHx/wstETH\n",
       "  autopool\t: {'name': 'Tokemak autoETH', 'autopool_eth_addr': '0x0A2b94F6871c1D7A32Fe58E1ab5e6deA2f114E56', 'autopool_eth_strategy_addr': '0xf5f6addB08c5e6091e5FdEc7326B21bEEd942235', 'solver_rebalance_plans_bucket': 'v2-gen3-eth-mainnet-solve-v2gen3ethmainnetsolverau-7ju0ra8aoznh'}\n",
       "  vault_name\t: ETHx/wstETH (balancer)]"
      ]
     },
     "execution_count": 12,
     "metadata": {},
     "output_type": "execute_result"
    }
   ],
   "source": [
    "[d for d in destination_details if \"ETHx/wstETH\" in d.vault_name]"
   ]
  },
  {
   "cell_type": "code",
   "execution_count": null,
   "metadata": {},
   "outputs": [],
   "source": [
    "# https://balancer.fi/pools/ethereum/v2/0xb91159aa527d4769cb9faf3e4adb760c7e8c8ea700000000000000000000067c"
   ]
  },
  {
   "cell_type": "code",
   "execution_count": 9,
   "metadata": {},
   "outputs": [],
   "source": [
    "from multicall import Call\n",
    "\n",
    "from mainnet_launch.data_fetching.get_state_by_block import (\n",
    "    get_raw_state_by_blocks,\n",
    "    get_state_by_one_block,\n",
    "    identity_with_bool_success,\n",
    "    safe_normalize_with_bool_success,\n",
    "    build_blocks_to_use,\n",
    ")"
   ]
  },
  {
   "cell_type": "code",
   "execution_count": 16,
   "metadata": {},
   "outputs": [
    {
     "data": {
      "text/plain": [
       "0.08397016178266178"
      ]
     },
     "execution_count": 16,
     "metadata": {},
     "output_type": "execute_result"
    }
   ],
   "source": [
    "def build_wstETH_weth_pool_get_rate(name: str) -> Call:\n",
    "    return Call(\n",
    "        \"0xB91159aa527D4769CB9FAf3e4ADB760c7E8C8Ea7\",\n",
    "        [\"getRate()(uint256)\"],\n",
    "        [(name, safe_normalize_with_bool_success)],\n",
    "    )\n",
    "\n",
    "\n",
    "# this pool only has wstETH and ETHx in it, asssume that base apr is (2.5 - 3) (after taxes 1.75 - 1.5)\n",
    "\n",
    "calls = [build_wstETH_weth_pool_get_rate(\"pool_vp\")]\n",
    "sep_15 = 20752910\n",
    "oct_15 = 20971910\n",
    "start = get_state_by_one_block(calls, sep_15)\n",
    "end = get_state_by_one_block(calls, oct_15)\n",
    "start_second = eth_client.eth.get_block(sep_15).timestamp\n",
    "end_second = eth_client.eth.get_block(oct_15).timestamp\n",
    "seconds_taken = end_second - start_second\n",
    "portion_of_a_year = seconds_taken / (604800 * 52)\n",
    "portion_of_a_year"
   ]
  },
  {
   "attachments": {
    "image.png": {
     "image/png": "[encoded data removed]"
    }
   },
   "cell_type": "markdown",
   "metadata": {},
   "source": [
    "![image.png](attachment:image.png)"
   ]
  },
  {
   "cell_type": "code",
   "execution_count": 19,
   "metadata": {},
   "outputs": [
    {
     "data": {
      "text/plain": [
       "2.935845682982876"
      ]
     },
     "execution_count": 19,
     "metadata": {},
     "output_type": "execute_result"
    }
   ],
   "source": [
    "apr = (100 * (end[\"pool_vp\"] - start[\"pool_vp\"]) / start[\"pool_vp\"]) / portion_of_a_year\n",
    "# the pure rate of growth in virtual price is 2.9%\n",
    "# this seems like it matches up with the fee + base, or close enoough\n",
    "apr"
   ]
  },
  {
   "cell_type": "code",
   "execution_count": 20,
   "metadata": {},
   "outputs": [
    {
     "data": {
      "text/plain": [
       "1.5166666666666666"
      ]
     },
     "execution_count": 20,
     "metadata": {},
     "output_type": "execute_result"
    }
   ],
   "source": [
    "# back of the napkin\n",
    "\n",
    "pool_usd_tvl = 1_800_000  # estimate\n",
    "pool_usd_fees = 2275\n",
    "100 * pool_usd_fees * 12 / pool_usd_tvl\n",
    "\n",
    "# this is tracking, the ETHx / wstETH pool has a 1 month estiamte fee apr of 1.5% and a 1 month total return of 2.9 % and expected base APR of 1.5%\n",
    "# this is looking right https://balancer.fi/pools/ethereum/v2/0xb91159aa527d4769cb9faf3e4adb760c7e8c8ea700000000000000000000067c"
   ]
  },
  {
   "cell_type": "code",
   "execution_count": null,
   "metadata": {},
   "outputs": [],
   "source": []
  }
 ],
 "metadata": {
  "kernelspec": {
   "display_name": ".venv",
   "language": "python",
   "name": "python3"
  },
  "language_info": {
   "codemirror_mode": {
    "name": "ipython",
    "version": 3
   },
   "file_extension": ".py",
   "mimetype": "text/x-python",
   "name": "python",
   "nbconvert_exporter": "python",
   "pygments_lexer": "ipython3",
   "version": "3.10.14"
  }
 },
 "nbformat": 4,
 "nbformat_minor": 2
}
