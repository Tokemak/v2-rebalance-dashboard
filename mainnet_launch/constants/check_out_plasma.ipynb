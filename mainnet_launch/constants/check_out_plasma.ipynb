{
 "cells": [
  {
   "cell_type": "code",
   "execution_count": null,
   "metadata": {},
   "outputs": [
    {
     "name": "stderr",
     "output_type": "stream",
     "text": [
      "/Users/pb/Library/Caches/pypoetry/virtualenvs/mainnet-launch-FtycU18g-py3.10/lib/python3.10/site-packages/eth_abi/__init__.py:4: UserWarning: pkg_resources is deprecated as an API. See https://setuptools.pypa.io/en/latest/pkg_resources.html. The pkg_resources package is slated for removal as early as 2025-11-30. Refrain from using this package or pin to Setuptools<81.\n",
      "  import pkg_resources\n"
     ]
    },
    {
     "data": {
      "text/plain": [
       "{('0x7BEA14E8B5b8693D74a451bAbEcbcD34c6Ebe83D', 'symbol'): None,\n",
       " ('0x7BEA14E8B5b8693D74a451bAbEcbcD34c6Ebe83D', 'name'): None,\n",
       " ('0x7BEA14E8B5b8693D74a451bAbEcbcD34c6Ebe83D', 'strategy'): None,\n",
       " ('0x7BEA14E8B5b8693D74a451bAbEcbcD34c6Ebe83D', 'asset'): None}"
      ]
     },
     "execution_count": 1,
     "metadata": {},
     "output_type": "execute_result"
    }
   ],
   "source": [
    "from multicall import Call\n",
    "from mainnet_launch.constants import *\n",
    "\n",
    "from mainnet_launch.data_fetching.get_state_by_block import (\n",
    "    get_state_by_one_block,\n",
    "    identity_with_bool_success,\n",
    "    to_checksum_address_with_bool_success,\n",
    ")\n",
    "\n",
    "v = PLASMA_USD.autopool_eth_addr\n",
    "\n",
    "calls = [\n",
    "    Call(v, \"symbol()(string)\", [((v, \"symbol\"), identity_with_bool_success)]),\n",
    "    Call(v, \"name()(string)\", [((v, \"name\"), identity_with_bool_success)]),\n",
    "    Call(v, \"autoPoolStrategy()(address)\", [((v, \"strategy\"), to_checksum_address_with_bool_success)]),\n",
    "    Call(v, \"asset()(address)\", [((v, \"asset\"), to_checksum_address_with_bool_success)]),\n",
    "]\n",
    "\n",
    "block = PLASMA_CHAIN.get_block_near_top()\n",
    "\n",
    "a = get_state_by_one_block(calls, block=block, chain=PLASMA_CHAIN)\n",
    "\n",
    "\n",
    "a"
   ]
  },
  {
   "cell_type": "code",
   "execution_count": 2,
   "metadata": {},
   "outputs": [
    {
     "data": {
      "text/plain": [
       "2248092"
      ]
     },
     "execution_count": 2,
     "metadata": {},
     "output_type": "execute_result"
    }
   ],
   "source": [
    "plasma_client.eth.get_block_number()"
   ]
  },
  {
   "cell_type": "code",
   "execution_count": 3,
   "metadata": {},
   "outputs": [
    {
     "data": {
      "text/plain": [
       "2248091"
      ]
     },
     "execution_count": 3,
     "metadata": {},
     "output_type": "execute_result"
    }
   ],
   "source": [
    "PLASMA_CHAIN.get_block_near_top()"
   ]
  },
  {
   "cell_type": "code",
   "execution_count": null,
   "metadata": {},
   "outputs": [],
   "source": []
  }
 ],
 "metadata": {
  "kernelspec": {
   "display_name": "mainnet-launch-py3.10",
   "language": "python",
   "name": "python3"
  },
  "language_info": {
   "codemirror_mode": {
    "name": "ipython",
    "version": 3
   },
   "file_extension": ".py",
   "mimetype": "text/x-python",
   "name": "python",
   "nbconvert_exporter": "python",
   "pygments_lexer": "ipython3",
   "version": "3.10.14"
  }
 },
 "nbformat": 4,
 "nbformat_minor": 2
}
