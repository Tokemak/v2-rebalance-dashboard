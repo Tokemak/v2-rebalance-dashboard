{
 "cells": [
  {
   "cell_type": "code",
   "execution_count": 27,
   "metadata": {},
   "outputs": [],
   "source": [
    "from mainnet_launch.data_fetching.new_databases import write_df_to_table, load_table_if_exists\n",
    "import pandas as pd\n",
    "import numpy as np\n",
    "\n",
    "INCENTIVE_TOKEN_PRICES_TABLE_NAME = \"INCENTIVE_TOKEN_PRICES_AT_LIQUIDATION\"\n",
    "\n",
    "df = pd.DataFrame()\n",
    "\n",
    "table_name = \"big_table\""
   ]
  },
  {
   "cell_type": "code",
   "execution_count": 28,
   "metadata": {},
   "outputs": [],
   "source": [
    "loaded_df = load_table_if_exists(INCENTIVE_TOKEN_PRICES_TABLE_NAME)\n",
    "loaded_df"
   ]
  },
  {
   "cell_type": "code",
   "execution_count": 29,
   "metadata": {},
   "outputs": [
    {
     "ename": "TypeError",
     "evalue": "'NoneType' object is not subscriptable",
     "output_type": "error",
     "traceback": [
      "\u001b[0;31m---------------------------------------------------------------------------\u001b[0m",
      "\u001b[0;31mTypeError\u001b[0m                                 Traceback (most recent call last)",
      "Cell \u001b[0;32mIn[29], line 2\u001b[0m\n\u001b[1;32m      1\u001b[0m df[\u001b[38;5;124m'\u001b[39m\u001b[38;5;124mblock\u001b[39m\u001b[38;5;124m'\u001b[39m] \u001b[38;5;241m=\u001b[39m np\u001b[38;5;241m.\u001b[39marange(\u001b[38;5;241m0\u001b[39m, \u001b[38;5;241m100\u001b[39m)\n\u001b[0;32m----> 2\u001b[0m df[\u001b[38;5;124m'\u001b[39m\u001b[38;5;124msellTokenAddress\u001b[39m\u001b[38;5;124m'\u001b[39m] \u001b[38;5;241m=\u001b[39m np\u001b[38;5;241m.\u001b[39mrandom\u001b[38;5;241m.\u001b[39mchoice( \u001b[43mloaded_df\u001b[49m\u001b[43m[\u001b[49m\u001b[38;5;124;43m'\u001b[39;49m\u001b[38;5;124;43msellTokenAddress\u001b[39;49m\u001b[38;5;124;43m'\u001b[39;49m\u001b[43m]\u001b[49m\u001b[38;5;241m.\u001b[39munique(), size\u001b[38;5;241m=\u001b[39m\u001b[38;5;28mlen\u001b[39m(df))\n\u001b[1;32m      3\u001b[0m df[\u001b[38;5;124m'\u001b[39m\u001b[38;5;124machieved_price\u001b[39m\u001b[38;5;124m'\u001b[39m] \u001b[38;5;241m=\u001b[39m np\u001b[38;5;241m.\u001b[39mrandom\u001b[38;5;241m.\u001b[39muniform(\u001b[38;5;241m0\u001b[39m,\u001b[38;5;241m1\u001b[39m)\n\u001b[1;32m      4\u001b[0m df[\u001b[38;5;124m'\u001b[39m\u001b[38;5;124mweth_received\u001b[39m\u001b[38;5;124m'\u001b[39m] \u001b[38;5;241m=\u001b[39m np\u001b[38;5;241m.\u001b[39mrandom\u001b[38;5;241m.\u001b[39muniform(\u001b[38;5;241m0\u001b[39m,\u001b[38;5;241m1\u001b[39m)\n",
      "\u001b[0;31mTypeError\u001b[0m: 'NoneType' object is not subscriptable"
     ]
    }
   ],
   "source": [
    "df[\"block\"] = np.arange(0, 100)\n",
    "df[\"sellTokenAddress\"] = np.random.choice(loaded_df[\"sellTokenAddress\"].unique(), size=len(df))\n",
    "df[\"achieved_price\"] = np.random.uniform(0, 1)\n",
    "df[\"weth_received\"] = np.random.uniform(0, 1)\n",
    "df[\"oracle_price\"] = np.random.uniform(0, 1)\n",
    "df[\"oracle_price\"] = np.random.uniform(0, 1)\n",
    "df[\"timestamp\"] = np.random.choice(loaded_df[\"timestamp\"].unique(), size=len(df))\n",
    "df[\"tokenSymbol\"] = np.random.choice(loaded_df[\"tokenSymbol\"].unique(), size=len(df))\n",
    "df[\"chain\"] = np.random.choice(loaded_df[\"chain\"].unique(), size=len(df))\n",
    "\n",
    "\n",
    "write_df_to_table(df, \"big_table\")"
   ]
  },
  {
   "cell_type": "code",
   "execution_count": null,
   "metadata": {},
   "outputs": [],
   "source": []
  }
 ],
 "metadata": {
  "kernelspec": {
   "display_name": ".venv",
   "language": "python",
   "name": "python3"
  },
  "language_info": {
   "codemirror_mode": {
    "name": "ipython",
    "version": 3
   },
   "file_extension": ".py",
   "mimetype": "text/x-python",
   "name": "python",
   "nbconvert_exporter": "python",
   "pygments_lexer": "ipython3",
   "version": "3.10.14"
  }
 },
 "nbformat": 4,
 "nbformat_minor": 2
}
