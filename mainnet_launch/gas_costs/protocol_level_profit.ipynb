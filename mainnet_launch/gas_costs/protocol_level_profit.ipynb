{
 "cells": [
  {
   "cell_type": "code",
   "execution_count": 1,
   "metadata": {},
   "outputs": [],
   "source": [
    "import pandas as pd\n",
    "import plotly.express as px\n",
    "from mainnet_launch.constants import (\n",
    "    CACHE_TIME,\n",
    "    eth_client,\n",
    "    ALL_AUTOPOOLS,\n",
    "    BAL_ETH,\n",
    "    AUTO_ETH,\n",
    "    AUTO_LRT,\n",
    "    AutopoolConstants,\n",
    "    WORKING_DATA_DIR,\n",
    ")\n",
    "from datetime import datetime, timedelta, timezone\n",
    "\n",
    "\n"
   ]
  },
  {
   "cell_type": "code",
   "execution_count": 24,
   "metadata": {},
   "outputs": [
    {
     "name": "stderr",
     "output_type": "stream",
     "text": [
      "2024-10-29 09:38:01.172 Thread 'MainThread': missing ScriptRunContext! This warning can be ignored when running in bare mode.\n",
      "2024-10-29 09:38:01.173 Thread 'MainThread': missing ScriptRunContext! This warning can be ignored when running in bare mode.\n",
      "2024-10-29 09:38:01.174 Thread 'MainThread': missing ScriptRunContext! This warning can be ignored when running in bare mode.\n",
      "2024-10-29 09:38:01.175 Thread 'MainThread': missing ScriptRunContext! This warning can be ignored when running in bare mode.\n",
      "2024-10-29 09:38:01.175 Thread 'MainThread': missing ScriptRunContext! This warning can be ignored when running in bare mode.\n",
      "2024-10-29 09:38:01.176 Thread 'MainThread': missing ScriptRunContext! This warning can be ignored when running in bare mode.\n",
      "2024-10-29 09:38:01.176 Thread 'MainThread': missing ScriptRunContext! This warning can be ignored when running in bare mode.\n",
      "2024-10-29 09:38:01.177 Thread 'MainThread': missing ScriptRunContext! This warning can be ignored when running in bare mode.\n",
      "2024-10-29 09:38:01.178 Thread 'MainThread': missing ScriptRunContext! This warning can be ignored when running in bare mode.\n",
      "2024-10-29 09:38:01.179 Thread 'MainThread': missing ScriptRunContext! This warning can be ignored when running in bare mode.\n",
      "2024-10-29 09:38:01.179 Thread 'MainThread': missing ScriptRunContext! This warning can be ignored when running in bare mode.\n",
      "2024-10-29 09:38:01.180 Thread 'MainThread': missing ScriptRunContext! This warning can be ignored when running in bare mode.\n",
      "2024-10-29 09:38:01.180 Thread 'MainThread': missing ScriptRunContext! This warning can be ignored when running in bare mode.\n",
      "2024-10-29 09:38:01.182 Thread 'MainThread': missing ScriptRunContext! This warning can be ignored when running in bare mode.\n",
      "2024-10-29 09:38:01.182 Thread 'MainThread': missing ScriptRunContext! This warning can be ignored when running in bare mode.\n"
     ]
    },
    {
     "data": {
      "text/plain": [
       "{'7_days': {'autoETH_periodic': 1.671720333158365,\n",
       "  'autoETH_streaming': 3.1315890919246083,\n",
       "  'balETH_periodic': 0.7185848926255698,\n",
       "  'balETH_streaming': 0.8942176501922965,\n",
       "  'autoLRT_periodic': 0.4636031290053162,\n",
       "  'autoLRT_streaming': 0.43119494960570615,\n",
       "  'total_revenue': 7.310910046511863},\n",
       " '30_days': {'autoETH_periodic': 6.691773228438292,\n",
       "  'autoETH_streaming': 11.565605559895612,\n",
       "  'balETH_periodic': 3.039947675877742,\n",
       "  'balETH_streaming': 4.815447767226244,\n",
       "  'autoLRT_periodic': 1.9713912472088526,\n",
       "  'autoLRT_streaming': 2.280668705081137,\n",
       "  'total_revenue': 30.36483418372788},\n",
       " '1_year': {'autoETH_periodic': 8.596291557174354,\n",
       "  'autoETH_streaming': 16.335460959034297,\n",
       "  'balETH_periodic': 3.9371002057270115,\n",
       "  'balETH_streaming': 7.222694296056844,\n",
       "  'autoLRT_periodic': 2.5558998672512345,\n",
       "  'autoLRT_streaming': 3.6563966618798514,\n",
       "  'total_revenue': 42.30384354712359}}"
      ]
     },
     "execution_count": 24,
     "metadata": {},
     "output_type": "execute_result"
    }
   ],
   "source": [
    "from mainnet_launch.autopool_diagnostics.fees import fetch_autopool_fee_data\n",
    "\n",
    "def compute_revenue_from_fees() -> dict[str,dict[str,float]]:\n",
    "    \"\"\"\n",
    "    Fetch all the periodic and streaming fee events for each autopool then sum the ETH \n",
    "    value from the `fees` event by 7 day, 30 day and 1 year. then sum those value\n",
    "    The data should look like\n",
    "    \n",
    "    {\n",
    "        '7_days': {\n",
    "            'autoETH_periodic': 1.671720333158365,\n",
    "            'autoETH_streaming': 3.1315890919246083,\n",
    "            'balETH_periodic': 0.7185848926255698,\n",
    "            'balETH_streaming': 0.8942176501922965,\n",
    "            'autoLRT_periodic': 0.4636031290053162,\n",
    "            'autoLRT_streaming': 0.43119494960570615,\n",
    "            'total_revenue': 7.310910046511863\n",
    "        },\n",
    "        '30_days': {\n",
    "            'autoETH_periodic': 6.691773228438292,\n",
    "            'autoETH_streaming': 11.565605559895612,\n",
    "            'balETH_periodic': 3.039947675877742,\n",
    "            'balETH_streaming': 4.815447767226244,\n",
    "            'autoLRT_periodic': 1.9713912472088526,\n",
    "            'autoLRT_streaming': 2.280668705081137,\n",
    "            'total_revenue': 30.36483418372788\n",
    "        },\n",
    "        '1_year': {\n",
    "            'autoETH_periodic': 8.596291557174354,\n",
    "            'autoETH_streaming': 16.335460959034297,\n",
    "            'balETH_periodic': 3.9371002057270115,\n",
    "            'balETH_streaming': 7.222694296056844,\n",
    "            'autoLRT_periodic': 2.5558998672512345,\n",
    "            'autoLRT_streaming': 3.6563966618798514,\n",
    "            'total_revenue': 42.30384354712359\n",
    "        }\n",
    "    }\n",
    "\n",
    "    \"\"\"\n",
    "    fee_dfs = []\n",
    "    for autopool in ALL_AUTOPOOLS:\n",
    "        periodic_fee_df, streaming_fee_df = fetch_autopool_fee_data(autopool)\n",
    "        periodic_fee_df.columns = [f'{autopool.name}_periodic']\n",
    "        streaming_fee_df.columns = [f'{autopool.name}_streaming']\n",
    "        fee_dfs.extend([periodic_fee_df, streaming_fee_df])\n",
    "\n",
    "    fee_df = pd.concat(fee_dfs).fillna(0)\n",
    "    \n",
    "    today = datetime.now(timezone.utc)\n",
    "    seven_days_ago = today - timedelta(days=7)\n",
    "    thirty_days_ago = today - timedelta(days=30)\n",
    "    year_ago = today - timedelta(days=365)\n",
    "\n",
    "    revenue_in_last_7_days = fee_df[fee_df.index >= seven_days_ago].sum().to_dict()\n",
    "    revenue_in_last_7_days['total_revenue'] = sum([revenue_in_last_7_days[k] for k in fee_df.columns])\n",
    "\n",
    "    revenue_in_last_30_days = fee_df[fee_df.index >= thirty_days_ago].sum().to_dict()\n",
    "    revenue_in_last_30_days['total_revenue'] = sum([revenue_in_last_30_days[k] for k in fee_df.columns])\n",
    "\n",
    "    revenue_in_last_year = fee_df[fee_df.index >= year_ago].sum().to_dict()\n",
    "    revenue_in_last_year['total_revenue'] = sum([revenue_in_last_year[k] for k in fee_df.columns])\n",
    "\n",
    "    return {\n",
    "        '7_days' : revenue_in_last_7_days,\n",
    "        '30_days' :revenue_in_last_30_days, \n",
    "        '1_year': revenue_in_last_year\n",
    "    }\n",
    "\n",
    "revenue_data = compute_revenue_from_fees()\n",
    "revenue_data"
   ]
  },
  {
   "cell_type": "code",
   "execution_count": null,
   "metadata": {},
   "outputs": [],
   "source": [
    "def compute_expenses_from_gas() -> dict[str,dict[str,float]]:\n",
    "    \"\"\"\n",
    "    Get the ETH value spent on gas to run the onchain part of tokemak over the last 7, 30 and 365 days\n",
    "    \n",
    "    - Solver gas cost (as of Oct 29, the solver does not take any profit)\n",
    "    - Keeper Network Gas Costs\n",
    "    \n",
    "    \"\"\""
   ]
  },
  {
   "cell_type": "code",
   "execution_count": null,
   "metadata": {},
   "outputs": [],
   "source": [
    "keeper_df = pd.read_csv(WORKING_DATA_DIR / \"chainlink_keeper_upkeeper_df.csv\", index_col=0, parse_dates=True)[:-6]\n",
    "\n",
    "\n",
    "def compute_protocol_level_profits():\n",
    "    \n",
    "    revenue = compute_revenue_from_fees()"
   ]
  }
 ],
 "metadata": {
  "kernelspec": {
   "display_name": ".venv",
   "language": "python",
   "name": "python3"
  },
  "language_info": {
   "codemirror_mode": {
    "name": "ipython",
    "version": 3
   },
   "file_extension": ".py",
   "mimetype": "text/x-python",
   "name": "python",
   "nbconvert_exporter": "python",
   "pygments_lexer": "ipython3",
   "version": "3.10.14"
  }
 },
 "nbformat": 4,
 "nbformat_minor": 2
}
