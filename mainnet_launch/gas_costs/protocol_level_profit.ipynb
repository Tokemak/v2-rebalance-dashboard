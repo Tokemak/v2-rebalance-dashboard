{
 "cells": [
  {
   "cell_type": "code",
   "execution_count": null,
   "metadata": {},
   "outputs": [
    {
     "name": "stderr",
     "output_type": "stream",
     "text": [
      "2024-10-31 10:20:17.919 WARNING streamlit.runtime.caching.cache_data_api: No runtime found, using MemoryCacheStorageManager\n",
      "2024-10-31 10:20:17.922 WARNING streamlit.runtime.caching.cache_data_api: No runtime found, using MemoryCacheStorageManager\n",
      "2024-10-31 10:20:17.924 WARNING streamlit.runtime.caching.cache_data_api: No runtime found, using MemoryCacheStorageManager\n",
      "2024-10-31 10:20:17.926 WARNING streamlit.runtime.caching.cache_data_api: No runtime found, using MemoryCacheStorageManager\n",
      "2024-10-31 10:20:17.927 WARNING streamlit.runtime.caching.cache_data_api: No runtime found, using MemoryCacheStorageManager\n",
      "2024-10-31 10:20:17.929 WARNING streamlit.runtime.caching.cache_data_api: No runtime found, using MemoryCacheStorageManager\n",
      "2024-10-31 10:20:17.931 WARNING streamlit.runtime.caching.cache_data_api: No runtime found, using MemoryCacheStorageManager\n",
      "2024-10-31 10:20:17.932 WARNING streamlit.runtime.caching.cache_data_api: No runtime found, using MemoryCacheStorageManager\n"
     ]
    }
   ],
   "source": [
    "from mainnet_launch.accounting.protocol_level_profit import fetch_gas_cost_df, fetch_fee_df\n",
    "\n",
    "gas_cost_df = fetch_gas_cost_df()\n",
    "fee_df = fetch_fee_df()\n",
    "fee_df"
   ]
  },
  {
   "cell_type": "code",
   "execution_count": 21,
   "metadata": {},
   "outputs": [
    {
     "data": {
      "text/plain": [
       "Index(['autoETH_periodic', 'autoETH_streaming', 'balETH_periodic',\n",
       "       'balETH_streaming', 'autoLRT_periodic', 'autoLRT_streaming'],\n",
       "      dtype='object')"
      ]
     },
     "execution_count": 21,
     "metadata": {},
     "output_type": "execute_result"
    }
   ],
   "source": [
    "fee_df.columns"
   ]
  },
  {
   "cell_type": "code",
   "execution_count": null,
   "metadata": {},
   "outputs": [],
   "source": [
    "from datetime import datetime, timezone, timedelta\n",
    "import pandas as pd\n",
    "import streamlit as st\n",
    "\n",
    "\n",
    "def _render_protocol_level_profit_and_loss_tables(\n",
    "    gas_cost_df: pd.DataFrame, fee_df: pd.DataFrame, window: timedelta, window_name: str\n",
    "):\n",
    "    gas_costs_within_window_raw = (\n",
    "        gas_cost_df[gas_cost_df.index > window][\n",
    "            [\"debt_reporting_gas_cost_in_eth\", \"solver_gas_cost_in_eth\", \"calculator_gas_cost_in_eth\"]\n",
    "        ]\n",
    "        .sum()\n",
    "        .round(2)\n",
    "        .to_dict()\n",
    "    )\n",
    "\n",
    "    gas_costs_within_window = {\n",
    "        \"Debt Reporting Gas Costs\": gas_costs_within_window_raw[\"debt_reporting_gas_cost_in_eth\"],\n",
    "        \"Solver Gas Costs\": gas_costs_within_window_raw[\"solver_gas_cost_in_eth\"],\n",
    "        \"Calculator Gas Costs\": gas_costs_within_window_raw[\"calculator_gas_cost_in_eth\"],\n",
    "    }\n",
    "    fees_within_window_raw = fee_df[fee_df.index > window].sum().round(2).to_dict()\n",
    "\n",
    "    fees_within_window = {\n",
    "        \"autoETH Periodic\": fees_within_window_raw[\"autoETH_periodic\"],\n",
    "        \"autoETH Streaming\": fees_within_window_raw[\"autoETH_streaming\"],\n",
    "        \"balETH Periodic\": fees_within_window_raw[\"balETH_periodic\"],\n",
    "        \"balETH Streaming\": fees_within_window_raw[\"balETH_streaming\"],\n",
    "        \"autoLRT Periodic\": fees_within_window_raw[\"autoLRT_periodic\"],\n",
    "        \"autoLRT Streaming\": fees_within_window_raw[\"autoLRT_streaming\"],\n",
    "    }\n",
    "\n",
    "    profit_and_loss_data = {\"Revenue\": fees_within_window, \"Expenses\": gas_costs_within_window}\n",
    "\n",
    "    total_revenue = sum(profit_and_loss_data[\"Revenue\"].values())\n",
    "    total_expenses = sum(profit_and_loss_data[\"Expenses\"].values())\n",
    "    net_profit = total_revenue - total_expenses\n",
    "    profit_data = [(\"Net Profit\", net_profit)]\n",
    "    income_df = pd.DataFrame(profit_and_loss_data[\"Revenue\"], columns=[\"Description\", \"Amount\"])\n",
    "    expense_df = pd.DataFrame(profit_and_loss_data[\"Expense\"], columns=[\"Description\", \"Amount\"])\n",
    "    profit_df = pd.DataFrame(profit_data, columns=[\"Description\", \"Amount\"])\n",
    "    st.header(f\"ETH Profit and Loss in {window_name}\")\n",
    "    st.subheader(\"Revenue (fees in ETH)\")\n",
    "    st.table(income_df)\n",
    "    st.subheader(\"Expenses (gas cost in ETH)\")\n",
    "    st.table(expense_df)\n",
    "    st.subheader(\"Net Profit (fees - gas costs)\")\n",
    "    st.table(profit_df)\n",
    "\n",
    "\n",
    "today = datetime.now(timezone.utc)\n",
    "\n",
    "seven_days_ago = today - timedelta(days=7)\n",
    "thirty_days_ago = today - timedelta(days=30)\n",
    "one_year_ago = today - timedelta(days=365)\n",
    "\n",
    "for window, window_name in zip([seven_days_ago, thirty_days_ago, one_year_ago], [\"7-Day\", \"30-Day\", \"1-Year\"]):\n",
    "    _render_protocol_level_profit_and_loss_tables(gas_cost_df, fee_df, window, window_name)"
   ]
  },
  {
   "cell_type": "code",
   "execution_count": null,
   "metadata": {},
   "outputs": [],
   "source": []
  },
  {
   "cell_type": "code",
   "execution_count": null,
   "metadata": {},
   "outputs": [
    {
     "name": "stderr",
     "output_type": "stream",
     "text": [
      "2024-10-31 10:31:47.984 Thread 'MainThread': missing ScriptRunContext! This warning can be ignored when running in bare mode.\n",
      "2024-10-31 10:31:47.986 Thread 'MainThread': missing ScriptRunContext! This warning can be ignored when running in bare mode.\n",
      "2024-10-31 10:31:47.986 Thread 'MainThread': missing ScriptRunContext! This warning can be ignored when running in bare mode.\n",
      "2024-10-31 10:31:47.987 Thread 'MainThread': missing ScriptRunContext! This warning can be ignored when running in bare mode.\n",
      "2024-10-31 10:31:47.987 Thread 'MainThread': missing ScriptRunContext! This warning can be ignored when running in bare mode.\n",
      "2024-10-31 10:31:47.990 Thread 'MainThread': missing ScriptRunContext! This warning can be ignored when running in bare mode.\n",
      "2024-10-31 10:31:47.991 Thread 'MainThread': missing ScriptRunContext! This warning can be ignored when running in bare mode.\n",
      "2024-10-31 10:31:47.991 Thread 'MainThread': missing ScriptRunContext! This warning can be ignored when running in bare mode.\n",
      "2024-10-31 10:31:47.991 Thread 'MainThread': missing ScriptRunContext! This warning can be ignored when running in bare mode.\n",
      "2024-10-31 10:31:47.992 Thread 'MainThread': missing ScriptRunContext! This warning can be ignored when running in bare mode.\n",
      "2024-10-31 10:31:47.993 Thread 'MainThread': missing ScriptRunContext! This warning can be ignored when running in bare mode.\n",
      "2024-10-31 10:31:47.994 Thread 'MainThread': missing ScriptRunContext! This warning can be ignored when running in bare mode.\n",
      "2024-10-31 10:31:47.994 Thread 'MainThread': missing ScriptRunContext! This warning can be ignored when running in bare mode.\n",
      "2024-10-31 10:31:47.995 Thread 'MainThread': missing ScriptRunContext! This warning can be ignored when running in bare mode.\n",
      "2024-10-31 10:31:47.995 Thread 'MainThread': missing ScriptRunContext! This warning can be ignored when running in bare mode.\n",
      "2024-10-31 10:31:47.997 Thread 'MainThread': missing ScriptRunContext! This warning can be ignored when running in bare mode.\n",
      "2024-10-31 10:31:47.998 Thread 'MainThread': missing ScriptRunContext! This warning can be ignored when running in bare mode.\n"
     ]
    }
   ],
   "source": [
    "import streamlit as st\n",
    "import pandas as pd\n",
    "\n",
    "\n",
    "def display_profit_and_loss(data):\n",
    "    \"\"\"\n",
    "    Display a profit and loss table in Streamlit from a dictionary containing income and expenses.\n",
    "\n",
    "    Parameters:\n",
    "    - data (dict): A dictionary with \"Revenue\" and \"Expenses\" keys, each containing a dictionary\n",
    "                   of income and expense items with their amounts.\n",
    "    \"\"\"\n",
    "\n",
    "    # Calculate totals\n",
    "\n",
    "    # Format the data for DataFrame\n",
    "    income_data = list(data[\"Revenue\"].items()) + [(\"Total Revenue\", total_revenue)]\n",
    "    expense_data = list(data[\"Expenses\"].items()) + [(\"Total Expenses\", total_expenses)]\n",
    "    profit_data = [(\"Net Profit\", net_profit)]\n",
    "\n",
    "    # Create DataFrames for structured display\n",
    "    income_df = pd.DataFrame(income_data, columns=[\"Description\", \"Amount\"])\n",
    "    expense_df = pd.DataFrame(expense_data, columns=[\"Description\", \"Amount\"])\n",
    "    profit_df = pd.DataFrame(profit_data, columns=[\"Description\", \"Amount\"])\n",
    "\n",
    "\n",
    "# Example usage (Replace with your actual data)\n",
    "data = {\n",
    "    \"Revenue\": {\"Product Sales\": 50000, \"Service Income\": 20000, \"Other Income\": 5000},\n",
    "    \"Expenses\": {\"Salaries\": 15000, \"Rent\": 4000, \"Utilities\": 1000, \"Marketing\": 2000, \"Other Expenses\": 3000},\n",
    "}\n",
    "\n",
    "# Call the function with your data\n",
    "display_profit_and_loss(data)"
   ]
  },
  {
   "cell_type": "code",
   "execution_count": null,
   "metadata": {},
   "outputs": [
    {
     "data": {
      "text/html": [
       "<div>\n",
       "<style scoped>\n",
       "    .dataframe tbody tr th:only-of-type {\n",
       "        vertical-align: middle;\n",
       "    }\n",
       "\n",
       "    .dataframe tbody tr th {\n",
       "        vertical-align: top;\n",
       "    }\n",
       "\n",
       "    .dataframe thead th {\n",
       "        text-align: right;\n",
       "    }\n",
       "</style>\n",
       "<table border=\"1\" class=\"dataframe\">\n",
       "  <thead>\n",
       "    <tr style=\"text-align: right;\">\n",
       "      <th></th>\n",
       "      <th>autoETH_periodic</th>\n",
       "      <th>autoETH_streaming</th>\n",
       "      <th>balETH_periodic</th>\n",
       "      <th>balETH_streaming</th>\n",
       "      <th>autoLRT_periodic</th>\n",
       "      <th>autoLRT_streaming</th>\n",
       "    </tr>\n",
       "    <tr>\n",
       "      <th>timestamp</th>\n",
       "      <th></th>\n",
       "      <th></th>\n",
       "      <th></th>\n",
       "      <th></th>\n",
       "      <th></th>\n",
       "      <th></th>\n",
       "    </tr>\n",
       "  </thead>\n",
       "  <tbody>\n",
       "    <tr>\n",
       "      <th>2024-09-19 04:02:23+00:00</th>\n",
       "      <td>0.625434</td>\n",
       "      <td>0.0</td>\n",
       "      <td>0.0</td>\n",
       "      <td>0.0</td>\n",
       "      <td>0.0</td>\n",
       "      <td>0.000000</td>\n",
       "    </tr>\n",
       "    <tr>\n",
       "      <th>2024-09-20 04:02:35+00:00</th>\n",
       "      <td>0.091622</td>\n",
       "      <td>0.0</td>\n",
       "      <td>0.0</td>\n",
       "      <td>0.0</td>\n",
       "      <td>0.0</td>\n",
       "      <td>0.000000</td>\n",
       "    </tr>\n",
       "    <tr>\n",
       "      <th>2024-09-21 04:02:23+00:00</th>\n",
       "      <td>0.094293</td>\n",
       "      <td>0.0</td>\n",
       "      <td>0.0</td>\n",
       "      <td>0.0</td>\n",
       "      <td>0.0</td>\n",
       "      <td>0.000000</td>\n",
       "    </tr>\n",
       "    <tr>\n",
       "      <th>2024-09-21 12:08:11+00:00</th>\n",
       "      <td>0.033566</td>\n",
       "      <td>0.0</td>\n",
       "      <td>0.0</td>\n",
       "      <td>0.0</td>\n",
       "      <td>0.0</td>\n",
       "      <td>0.000000</td>\n",
       "    </tr>\n",
       "    <tr>\n",
       "      <th>2024-09-21 12:12:23+00:00</th>\n",
       "      <td>0.000299</td>\n",
       "      <td>0.0</td>\n",
       "      <td>0.0</td>\n",
       "      <td>0.0</td>\n",
       "      <td>0.0</td>\n",
       "      <td>0.000000</td>\n",
       "    </tr>\n",
       "    <tr>\n",
       "      <th>...</th>\n",
       "      <td>...</td>\n",
       "      <td>...</td>\n",
       "      <td>...</td>\n",
       "      <td>...</td>\n",
       "      <td>...</td>\n",
       "      <td>...</td>\n",
       "    </tr>\n",
       "    <tr>\n",
       "      <th>2024-10-24 12:31:35+00:00</th>\n",
       "      <td>0.000000</td>\n",
       "      <td>0.0</td>\n",
       "      <td>0.0</td>\n",
       "      <td>0.0</td>\n",
       "      <td>0.0</td>\n",
       "      <td>0.056869</td>\n",
       "    </tr>\n",
       "    <tr>\n",
       "      <th>2024-10-25 15:42:59+00:00</th>\n",
       "      <td>0.000000</td>\n",
       "      <td>0.0</td>\n",
       "      <td>0.0</td>\n",
       "      <td>0.0</td>\n",
       "      <td>0.0</td>\n",
       "      <td>0.062649</td>\n",
       "    </tr>\n",
       "    <tr>\n",
       "      <th>2024-10-27 16:02:35+00:00</th>\n",
       "      <td>0.000000</td>\n",
       "      <td>0.0</td>\n",
       "      <td>0.0</td>\n",
       "      <td>0.0</td>\n",
       "      <td>0.0</td>\n",
       "      <td>0.056833</td>\n",
       "    </tr>\n",
       "    <tr>\n",
       "      <th>2024-10-28 04:02:59+00:00</th>\n",
       "      <td>0.000000</td>\n",
       "      <td>0.0</td>\n",
       "      <td>0.0</td>\n",
       "      <td>0.0</td>\n",
       "      <td>0.0</td>\n",
       "      <td>0.056837</td>\n",
       "    </tr>\n",
       "    <tr>\n",
       "      <th>2024-10-29 05:08:23+00:00</th>\n",
       "      <td>0.000000</td>\n",
       "      <td>0.0</td>\n",
       "      <td>0.0</td>\n",
       "      <td>0.0</td>\n",
       "      <td>0.0</td>\n",
       "      <td>0.088592</td>\n",
       "    </tr>\n",
       "  </tbody>\n",
       "</table>\n",
       "<p>396 rows × 6 columns</p>\n",
       "</div>"
      ],
      "text/plain": [
       "                           autoETH_periodic  autoETH_streaming  \\\n",
       "timestamp                                                        \n",
       "2024-09-19 04:02:23+00:00          0.625434                0.0   \n",
       "2024-09-20 04:02:35+00:00          0.091622                0.0   \n",
       "2024-09-21 04:02:23+00:00          0.094293                0.0   \n",
       "2024-09-21 12:08:11+00:00          0.033566                0.0   \n",
       "2024-09-21 12:12:23+00:00          0.000299                0.0   \n",
       "...                                     ...                ...   \n",
       "2024-10-24 12:31:35+00:00          0.000000                0.0   \n",
       "2024-10-25 15:42:59+00:00          0.000000                0.0   \n",
       "2024-10-27 16:02:35+00:00          0.000000                0.0   \n",
       "2024-10-28 04:02:59+00:00          0.000000                0.0   \n",
       "2024-10-29 05:08:23+00:00          0.000000                0.0   \n",
       "\n",
       "                           balETH_periodic  balETH_streaming  \\\n",
       "timestamp                                                      \n",
       "2024-09-19 04:02:23+00:00              0.0               0.0   \n",
       "2024-09-20 04:02:35+00:00              0.0               0.0   \n",
       "2024-09-21 04:02:23+00:00              0.0               0.0   \n",
       "2024-09-21 12:08:11+00:00              0.0               0.0   \n",
       "2024-09-21 12:12:23+00:00              0.0               0.0   \n",
       "...                                    ...               ...   \n",
       "2024-10-24 12:31:35+00:00              0.0               0.0   \n",
       "2024-10-25 15:42:59+00:00              0.0               0.0   \n",
       "2024-10-27 16:02:35+00:00              0.0               0.0   \n",
       "2024-10-28 04:02:59+00:00              0.0               0.0   \n",
       "2024-10-29 05:08:23+00:00              0.0               0.0   \n",
       "\n",
       "                           autoLRT_periodic  autoLRT_streaming  \n",
       "timestamp                                                       \n",
       "2024-09-19 04:02:23+00:00               0.0           0.000000  \n",
       "2024-09-20 04:02:35+00:00               0.0           0.000000  \n",
       "2024-09-21 04:02:23+00:00               0.0           0.000000  \n",
       "2024-09-21 12:08:11+00:00               0.0           0.000000  \n",
       "2024-09-21 12:12:23+00:00               0.0           0.000000  \n",
       "...                                     ...                ...  \n",
       "2024-10-24 12:31:35+00:00               0.0           0.056869  \n",
       "2024-10-25 15:42:59+00:00               0.0           0.062649  \n",
       "2024-10-27 16:02:35+00:00               0.0           0.056833  \n",
       "2024-10-28 04:02:59+00:00               0.0           0.056837  \n",
       "2024-10-29 05:08:23+00:00               0.0           0.088592  \n",
       "\n",
       "[396 rows x 6 columns]"
      ]
     },
     "execution_count": 9,
     "metadata": {},
     "output_type": "execute_result"
    }
   ],
   "source": []
  },
  {
   "cell_type": "code",
   "execution_count": 7,
   "metadata": {},
   "outputs": [
    {
     "ename": "SyntaxError",
     "evalue": "'break' outside loop (668683560.py, line 1)",
     "output_type": "error",
     "traceback": [
      "\u001b[0;36m  Cell \u001b[0;32mIn[7], line 1\u001b[0;36m\u001b[0m\n\u001b[0;31m    break\u001b[0m\n\u001b[0m    ^\u001b[0m\n\u001b[0;31mSyntaxError\u001b[0m\u001b[0;31m:\u001b[0m 'break' outside loop\n"
     ]
    }
   ],
   "source": [
    "break"
   ]
  },
  {
   "cell_type": "code",
   "execution_count": null,
   "metadata": {},
   "outputs": [],
   "source": [
    "from mainnet_launch.gas_costs.keeper_network_gas_costs import (\n",
    "    fetch_solver_gas_costs,\n",
    "    fetch_keeper_network_gas_costs,\n",
    "    fetch_all_autopool_debt_reporting_events,\n",
    ")\n",
    "\n",
    "destination_debt_reporting_df = fetch_all_autopool_debt_reporting_events()\n",
    "rebalance_gas_cost_df = fetch_solver_gas_costs()\n",
    "keeper_gas_costs_df = fetch_keeper_network_gas_costs()"
   ]
  },
  {
   "cell_type": "code",
   "execution_count": null,
   "metadata": {},
   "outputs": [],
   "source": [
    "import pandas as pd\n",
    "\n",
    "gas_cost_columns = [\"hash\", \"gas_cost_in_eth\"]\n",
    "\n",
    "debt_reporting_costs = destination_debt_reporting_df[gas_cost_columns].copy().drop_duplicates()\n",
    "debt_reporting_costs.columns = [\"hash\", \"debt_reporting_gas\"]\n",
    "\n",
    "solver_costs = rebalance_gas_cost_df[gas_cost_columns].copy().drop_duplicates()\n",
    "solver_costs.columns = [\"hash\", \"solver_gas\"]\n",
    "\n",
    "keeper_costs = keeper_gas_costs_df[gas_cost_columns].copy().drop_duplicates()\n",
    "keeper_costs.columns = [\"hash\", \"keeper_gas\"]\n",
    "\n",
    "gas_cost_df = pd.concat([debt_reporting_costs, solver_costs, keeper_costs])\n",
    "\n",
    "lifetime_costs = gas_cost_df[[\"debt_reporting_gas\", \"solver_gas\", \"keeper_gas\"]].sum().to_dict()"
   ]
  },
  {
   "cell_type": "code",
   "execution_count": null,
   "metadata": {},
   "outputs": [],
   "source": [
    "from mainnet_launch.autopool_diagnostics.fees import fetch_autopool_fee_data\n",
    "import pandas as pd\n",
    "import plotly.express as px\n",
    "from mainnet_launch.constants import (\n",
    "    CACHE_TIME,\n",
    "    eth_client,\n",
    "    ALL_AUTOPOOLS,\n",
    "    BAL_ETH,\n",
    "    AUTO_ETH,\n",
    "    AUTO_LRT,\n",
    "    AutopoolConstants,\n",
    "    WORKING_DATA_DIR,\n",
    ")\n",
    "from datetime import datetime, timedelta, timezone\n",
    "\n",
    "\n",
    "def compute_revenue_from_fees() -> dict[str, dict[str, float]]:\n",
    "    \"\"\"\n",
    "    Fetch all the periodic and streaming fee events for each autopool then sum the ETH\n",
    "    value from the `fees` event by 7 day, 30 day and 1 year. then sum those value\n",
    "    The data should look like\n",
    "\n",
    "    {\n",
    "        '7_days': {\n",
    "            'autoETH_periodic': 1.671720333158365,\n",
    "            'autoETH_streaming': 3.1315890919246083,\n",
    "            'balETH_periodic': 0.7185848926255698,\n",
    "            'balETH_streaming': 0.8942176501922965,\n",
    "            'autoLRT_periodic': 0.4636031290053162,\n",
    "            'autoLRT_streaming': 0.43119494960570615,\n",
    "            'total_revenue': 7.310910046511863\n",
    "        },\n",
    "        '30_days': {\n",
    "            'autoETH_periodic': 6.691773228438292,\n",
    "            'autoETH_streaming': 11.565605559895612,\n",
    "            'balETH_periodic': 3.039947675877742,\n",
    "            'balETH_streaming': 4.815447767226244,\n",
    "            'autoLRT_periodic': 1.9713912472088526,\n",
    "            'autoLRT_streaming': 2.280668705081137,\n",
    "            'total_revenue': 30.36483418372788\n",
    "        },\n",
    "        '1_year': {\n",
    "            'autoETH_periodic': 8.596291557174354,\n",
    "            'autoETH_streaming': 16.335460959034297,\n",
    "            'balETH_periodic': 3.9371002057270115,\n",
    "            'balETH_streaming': 7.222694296056844,\n",
    "            'autoLRT_periodic': 2.5558998672512345,\n",
    "            'autoLRT_streaming': 3.6563966618798514,\n",
    "            'total_revenue': 42.30384354712359\n",
    "        }\n",
    "    }\n",
    "\n",
    "    \"\"\"\n",
    "    fee_dfs = []\n",
    "    for autopool in ALL_AUTOPOOLS:\n",
    "        periodic_fee_df, streaming_fee_df = fetch_autopool_fee_data(autopool)\n",
    "        periodic_fee_df.columns = [f\"{autopool.name}_periodic\"]\n",
    "        streaming_fee_df.columns = [f\"{autopool.name}_streaming\"]\n",
    "        fee_dfs.extend([periodic_fee_df, streaming_fee_df])\n",
    "\n",
    "    fee_df = pd.concat(fee_dfs).fillna(0)\n",
    "    return fee_df\n",
    "\n",
    "    today = datetime.now(timezone.utc)\n",
    "    seven_days_ago = today - timedelta(days=7)\n",
    "    thirty_days_ago = today - timedelta(days=30)\n",
    "    year_ago = today - timedelta(days=365)\n",
    "\n",
    "    revenue_in_last_7_days = fee_df[fee_df.index >= seven_days_ago].sum().to_dict()\n",
    "    revenue_in_last_7_days[\"total_revenue\"] = sum([revenue_in_last_7_days[k] for k in fee_df.columns])\n",
    "\n",
    "    revenue_in_last_30_days = fee_df[fee_df.index >= thirty_days_ago].sum().to_dict()\n",
    "    revenue_in_last_30_days[\"total_revenue\"] = sum([revenue_in_last_30_days[k] for k in fee_df.columns])\n",
    "\n",
    "    revenue_in_last_year = fee_df[fee_df.index >= year_ago].sum().to_dict()\n",
    "    revenue_in_last_year[\"total_revenue\"] = sum([revenue_in_last_year[k] for k in fee_df.columns])\n",
    "\n",
    "    return {\"7_days\": revenue_in_last_7_days, \"30_days\": revenue_in_last_30_days, \"1_year\": revenue_in_last_year}\n",
    "\n",
    "\n",
    "revenue_data = compute_revenue_from_fees()\n",
    "revenue_data"
   ]
  },
  {
   "cell_type": "code",
   "execution_count": null,
   "metadata": {},
   "outputs": [],
   "source": [
    "# total costs at 62ETH and total revenue at 42, 21 if reducing for acctoke"
   ]
  },
  {
   "cell_type": "code",
   "execution_count": null,
   "metadata": {},
   "outputs": [],
   "source": [
    "# destination_debt_reporting_df"
   ]
  },
  {
   "cell_type": "code",
   "execution_count": null,
   "metadata": {},
   "outputs": [],
   "source": []
  },
  {
   "cell_type": "code",
   "execution_count": null,
   "metadata": {},
   "outputs": [],
   "source": [
    "break"
   ]
  },
  {
   "cell_type": "markdown",
   "metadata": {},
   "source": []
  },
  {
   "cell_type": "code",
   "execution_count": null,
   "metadata": {},
   "outputs": [],
   "source": [
    "keeper_gas_costs_df.columns, destination_debt_reporting_df.columns, rebalance_gas_cost_df.columns"
   ]
  },
  {
   "cell_type": "code",
   "execution_count": null,
   "metadata": {},
   "outputs": [],
   "source": [
    "gas_cost_df = pd.concat([keeper_gas_costs_df[[]]])"
   ]
  },
  {
   "cell_type": "code",
   "execution_count": null,
   "metadata": {},
   "outputs": [],
   "source": [
    "keeper_gas_costs_df[[\"gasCostInETH_with_chainlink_premium\"]]"
   ]
  },
  {
   "cell_type": "code",
   "execution_count": null,
   "metadata": {},
   "outputs": [],
   "source": [
    "keeper_gas_costs_df"
   ]
  },
  {
   "cell_type": "code",
   "execution_count": null,
   "metadata": {},
   "outputs": [],
   "source": []
  },
  {
   "cell_type": "code",
   "execution_count": null,
   "metadata": {},
   "outputs": [],
   "source": [
    "debt_reporting_df.tail(1)"
   ]
  },
  {
   "cell_type": "code",
   "execution_count": null,
   "metadata": {},
   "outputs": [],
   "source": [
    "df = pd.concat(debt_reporting_dfs)\n",
    "df[\"hash\"].value_counts()"
   ]
  },
  {
   "cell_type": "code",
   "execution_count": null,
   "metadata": {},
   "outputs": [],
   "source": [
    "df"
   ]
  },
  {
   "cell_type": "code",
   "execution_count": null,
   "metadata": {},
   "outputs": [],
   "source": [
    "debt_reporting_df[[\"hash\"]].drop_duplicates()"
   ]
  },
  {
   "cell_type": "markdown",
   "metadata": {},
   "source": []
  },
  {
   "cell_type": "code",
   "execution_count": null,
   "metadata": {},
   "outputs": [],
   "source": [
    "debt_reporting_df.tail(1).values"
   ]
  },
  {
   "cell_type": "code",
   "execution_count": null,
   "metadata": {},
   "outputs": [],
   "source": [
    "# 2,026,274"
   ]
  },
  {
   "cell_type": "code",
   "execution_count": null,
   "metadata": {},
   "outputs": [],
   "source": [
    "def compute_expenses_from_gas() -> dict[str, dict[str, float]]:\n",
    "    \"\"\"\n",
    "    Get the ETH value spent on gas to run the onchain part of tokemak over the last 7, 30 and 365 days\n",
    "\n",
    "    - Solver gas cost (as of Oct 29, the solver does not take any profit)\n",
    "    - Keeper Network Gas Costs\n",
    "\n",
    "    \"\"\"\n",
    "\n",
    "\n",
    "def _get_gas_costs_of_solver() -> pd.DataFrame:\n",
    "    #\n",
    "    pass\n",
    "\n",
    "\n",
    "def _get_gas_costs_of_reward_liqudation() -> pd.DataFrame:\n",
    "    #\n",
    "    pass"
   ]
  },
  {
   "cell_type": "code",
   "execution_count": null,
   "metadata": {},
   "outputs": [],
   "source": []
  },
  {
   "cell_type": "code",
   "execution_count": null,
   "metadata": {},
   "outputs": [],
   "source": [
    "def compute_protocol_level_profits():\n",
    "\n",
    "    revenue = compute_revenue_from_fees()"
   ]
  }
 ],
 "metadata": {
  "kernelspec": {
   "display_name": ".venv",
   "language": "python",
   "name": "python3"
  },
  "language_info": {
   "codemirror_mode": {
    "name": "ipython",
    "version": 3
   },
   "file_extension": ".py",
   "mimetype": "text/x-python",
   "name": "python",
   "nbconvert_exporter": "python",
   "pygments_lexer": "ipython3",
   "version": "3.10.14"
  }
 },
 "nbformat": 4,
 "nbformat_minor": 2
}
