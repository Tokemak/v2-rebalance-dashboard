{
 "cells": [
  {
   "cell_type": "code",
   "execution_count": 1,
   "metadata": {},
   "outputs": [],
   "source": [
    "from mainnet_launch.constants import *\n",
    "from mainnet_launch.data_fetching.get_state_by_block import get_raw_state_by_blocks\n",
    "import pandas as pd\n",
    "from mainnet_launch.data_fetching.get_events import fetch_events, get_each_event_in_contract\n",
    "import plotly.express as px\n",
    "from mainnet_launch.abis import BALANCER_INCENTIVES_GAUGE_ABI, CURVE_INCENTIVES_GAUGE_ABI, ERC_20_ABI\n",
    "\n",
    "pool = \"0x88794C65550DeB6b4087B7552eCf295113794410\"\n",
    "incentives_gauge = \"0xdee29b7b6dF3576280bFBbC088ee9eBAA767C0Bd\"  # balancer\n",
    "\n",
    "contract = ETH_CHAIN.client.eth.contract(address=incentives_gauge, abi=CURVE_INCENTIVES_GAUGE_ABI)\n",
    "# events = get_each_event_in_contract(contract, ETH_CHAIN, start_block=ETH_CHAIN.block_autopool_first_deployed, end_block=ETH_CHAIN.get_block_near_top())"
   ]
  },
  {
   "cell_type": "code",
   "execution_count": 2,
   "metadata": {},
   "outputs": [
    {
     "name": "stdout",
     "output_type": "stream",
     "text": [
      "Fetched 11 logs for <class 'web3._utils.datatypes.Transfer'> from 20,722,908 to 23,319,652 (2,596,745 blocks)\n"
     ]
    }
   ],
   "source": [
    "dai = \"0x6B175474E89094C44Da98b954EedeAC495271d0F\"\n",
    "dai_contract = ETH_CHAIN.client.eth.contract(address=dai, abi=ERC_20_ABI)\n",
    "dai_to_incentives_gauge = fetch_events(\n",
    "    dai_contract.events.Transfer,\n",
    "    ETH_CHAIN,\n",
    "    start_block=ETH_CHAIN.block_autopool_first_deployed,\n",
    "    end_block=ETH_CHAIN.get_block_near_top(),\n",
    "    argument_filters={\"to\": incentives_gauge},\n",
    ")"
   ]
  },
  {
   "cell_type": "code",
   "execution_count": 8,
   "metadata": {},
   "outputs": [],
   "source": [
    "from mainnet_launch.data_fetching.get_state_by_block import identity_with_bool_success\n",
    "from multicall import Call\n",
    "\n",
    "\n",
    "address = \"0x570eA5C8A528E3495EE9883910012BeD598E8814\"\n",
    "\n",
    "# Create a multicall Call object for rewardPerTokenStored\n",
    "reward_per_token_call = Call(\n",
    "    target=address,\n",
    "    function=\"rewardPerTokenStored()(uint256)\",\n",
    "    returns=[(\"balGauge_rewardPerTokenStored\", identity_with_bool_success)],\n",
    ")\n",
    "\n",
    "# reward per token stored has not changed durunin gthis period\n",
    "\n",
    "df = get_raw_state_by_blocks(\n",
    "    [reward_per_token_call], dai_to_incentives_gauge[\"block\"], ETH_CHAIN, include_block_number=True\n",
    ")\n",
    "dai_to_incentives_gauge = pd.merge(dai_to_incentives_gauge, df, left_on=\"block\", right_on=\"block\", how=\"left\")\n",
    "dai_to_incentives_gauge[\"dai_amount\"] = dai_to_incentives_gauge[\"value\"].apply(lambda x: x / 10**18)\n",
    "dai_to_incentives_gauge.index = df.index"
   ]
  },
  {
   "cell_type": "code",
   "execution_count": 9,
   "metadata": {},
   "outputs": [
    {
     "data": {
      "application/vnd.microsoft.datawrangler.viewer.v0+json": {
       "columns": [
        {
         "name": "timestamp",
         "rawType": "datetime64[ns, UTC]",
         "type": "unknown"
        },
        {
         "name": "event",
         "rawType": "object",
         "type": "string"
        },
        {
         "name": "block",
         "rawType": "int64",
         "type": "integer"
        },
        {
         "name": "transactionIndex",
         "rawType": "int64",
         "type": "integer"
        },
        {
         "name": "log_index",
         "rawType": "int64",
         "type": "integer"
        },
        {
         "name": "hash",
         "rawType": "object",
         "type": "string"
        },
        {
         "name": "from",
         "rawType": "object",
         "type": "string"
        },
        {
         "name": "to",
         "rawType": "object",
         "type": "string"
        },
        {
         "name": "value",
         "rawType": "object",
         "type": "unknown"
        },
        {
         "name": "balGauge_rewardPerTokenStored_x",
         "rawType": "object",
         "type": "unknown"
        },
        {
         "name": "dai_amount",
         "rawType": "float64",
         "type": "float"
        },
        {
         "name": "delay",
         "rawType": "float64",
         "type": "float"
        },
        {
         "name": "balGauge_rewardPerTokenStored_y",
         "rawType": "object",
         "type": "unknown"
        }
       ],
       "ref": "5d006291-dbe9-4b13-93a1-049b833a21a7",
       "rows": [
        [
         "2025-06-19 13:00:59+00:00",
         "Transfer",
         "22738686",
         "15",
         "58",
         "0xd2c0bcb5cd36c677eb519c5384811fe882d51bfd741feabb1df156b4be7bcf45",
         "0x7f6494D4fBEA1c06daC2250A3FCa81003bF8D20C",
         "0xdee29b7b6dF3576280bFBbC088ee9eBAA767C0Bd",
         "7000000000000000000000",
         "54672987900060315648",
         "7000.0",
         null,
         "54672987900060315648"
        ],
        [
         "2025-06-27 11:09:47+00:00",
         "Transfer",
         "22795386",
         "47",
         "265",
         "0xdd2f399212e38bbab7c34802b63d13f94895fc4c1b16171bda484384ea1f070d",
         "0x7f6494D4fBEA1c06daC2250A3FCa81003bF8D20C",
         "0xdee29b7b6dF3576280bFBbC088ee9eBAA767C0Bd",
         "7000000000000000000000",
         "54672987900060315648",
         "7000.0",
         "1.0",
         "54672987900060315648"
        ],
        [
         "2025-07-03 04:17:59+00:00",
         "Transfer",
         "22836262",
         "338",
         "567",
         "0xe4723a36d4aac4ae6db3757ed02a84466214ea7e51321ae78a878cc57494399f",
         "0x6c214A193F921E9b7D52aA7387Fa8882Ee50DA0f",
         "0xdee29b7b6dF3576280bFBbC088ee9eBAA767C0Bd",
         "9100000000000000",
         "54672987900060315648",
         "0.0091",
         "1.0",
         "54672987900060315648"
        ],
        [
         "2025-07-04 21:15:11+00:00",
         "Transfer",
         "22848477",
         "69",
         "200",
         "0x25a1a5e209035e564b991d63aa133c254c7cc69df5c4de7980c237138e35b9fd",
         "0x7f6494D4fBEA1c06daC2250A3FCa81003bF8D20C",
         "0xdee29b7b6dF3576280bFBbC088ee9eBAA767C0Bd",
         "7000000000000000000000",
         "54672987900060315648",
         "7000.0",
         "1.0",
         "54672987900060315648"
        ],
        [
         "2025-07-14 13:41:59+00:00",
         "Transfer",
         "22917781",
         "108",
         "386",
         "0xa6171e003066230d007083289b9bf0ff3fc13a4293bcf404ad4e4309856b70b7",
         "0x7f6494D4fBEA1c06daC2250A3FCa81003bF8D20C",
         "0xdee29b7b6dF3576280bFBbC088ee9eBAA767C0Bd",
         "7000000000000000000000",
         "54672987900060315648",
         "7000.0",
         "1.0",
         "54672987900060315648"
        ],
        [
         "2025-07-21 10:29:47+00:00",
         "Transfer",
         "22966977",
         "89",
         "368",
         "0x65619f609671d23de9d568f868f40e68386111cb8ce2b6099b245387e2a4b9e8",
         "0x7f6494D4fBEA1c06daC2250A3FCa81003bF8D20C",
         "0xdee29b7b6dF3576280bFBbC088ee9eBAA767C0Bd",
         "7000000000000000000000",
         "54672987900060315648",
         "7000.0",
         "1.0",
         "54672987900060315648"
        ],
        [
         "2025-07-28 20:05:11+00:00",
         "Transfer",
         "23019908",
         "331",
         "713",
         "0x9892b6123f329c5d8dd9dc6736bc8ce23066b8ac42dc4290757db8aa3ae71d1f",
         "0x7f6494D4fBEA1c06daC2250A3FCa81003bF8D20C",
         "0xdee29b7b6dF3576280bFBbC088ee9eBAA767C0Bd",
         "7000000000000000000000",
         "54672987900060315648",
         "7000.0",
         "1.0",
         "54672987900060315648"
        ],
        [
         "2025-08-05 21:56:59+00:00",
         "Transfer",
         "23077694",
         "123",
         "525",
         "0xc576f6228fabf6da5549cd77d4ed11867cb243e4290039cddf033dcd438498ee",
         "0x7f6494D4fBEA1c06daC2250A3FCa81003bF8D20C",
         "0xdee29b7b6dF3576280bFBbC088ee9eBAA767C0Bd",
         "5000000000000000000000",
         "54672987900060315648",
         "5000.0",
         "1.0",
         "54672987900060315648"
        ],
        [
         "2025-08-12 15:05:11+00:00",
         "Transfer",
         "23125744",
         "125",
         "425",
         "0xe53494e83ace608890d73598eae7acfcd611545127897d200274d915c5430ff3",
         "0x7f6494D4fBEA1c06daC2250A3FCa81003bF8D20C",
         "0xdee29b7b6dF3576280bFBbC088ee9eBAA767C0Bd",
         "5000000000000000000000",
         "54672987900060315648",
         "5000.0",
         "1.0",
         "54672987900060315648"
        ],
        [
         "2025-08-19 19:24:59+00:00",
         "Transfer",
         "23177194",
         "65",
         "505",
         "0xb6a0246a915ccbcea776ef8e912fb84d0f0ad5040572318c3ed430523517c9d7",
         "0x7f6494D4fBEA1c06daC2250A3FCa81003bF8D20C",
         "0xdee29b7b6dF3576280bFBbC088ee9eBAA767C0Bd",
         "4880000000000000000000",
         "54672987900060315648",
         "4880.0",
         "1.0",
         "54672987900060315648"
        ],
        [
         "2025-08-30 05:42:35+00:00",
         "Transfer",
         "23251934",
         "187",
         "466",
         "0x5cf5265b88d0d864b10687568f2f9a75ef55546e91ff723146cb13e6bcc2f70e",
         "0x7f6494D4fBEA1c06daC2250A3FCa81003bF8D20C",
         "0xdee29b7b6dF3576280bFBbC088ee9eBAA767C0Bd",
         "4880000000000000000000",
         "54672987900060315648",
         "4880.0",
         "1.0",
         "54672987900060315648"
        ]
       ],
       "shape": {
        "columns": 12,
        "rows": 11
       }
      },
      "text/html": [
       "<div>\n",
       "<style scoped>\n",
       "    .dataframe tbody tr th:only-of-type {\n",
       "        vertical-align: middle;\n",
       "    }\n",
       "\n",
       "    .dataframe tbody tr th {\n",
       "        vertical-align: top;\n",
       "    }\n",
       "\n",
       "    .dataframe thead th {\n",
       "        text-align: right;\n",
       "    }\n",
       "</style>\n",
       "<table border=\"1\" class=\"dataframe\">\n",
       "  <thead>\n",
       "    <tr style=\"text-align: right;\">\n",
       "      <th></th>\n",
       "      <th>event</th>\n",
       "      <th>block</th>\n",
       "      <th>transactionIndex</th>\n",
       "      <th>log_index</th>\n",
       "      <th>hash</th>\n",
       "      <th>from</th>\n",
       "      <th>to</th>\n",
       "      <th>value</th>\n",
       "      <th>balGauge_rewardPerTokenStored_x</th>\n",
       "      <th>dai_amount</th>\n",
       "      <th>delay</th>\n",
       "      <th>balGauge_rewardPerTokenStored_y</th>\n",
       "    </tr>\n",
       "    <tr>\n",
       "      <th>timestamp</th>\n",
       "      <th></th>\n",
       "      <th></th>\n",
       "      <th></th>\n",
       "      <th></th>\n",
       "      <th></th>\n",
       "      <th></th>\n",
       "      <th></th>\n",
       "      <th></th>\n",
       "      <th></th>\n",
       "      <th></th>\n",
       "      <th></th>\n",
       "      <th></th>\n",
       "    </tr>\n",
       "  </thead>\n",
       "  <tbody>\n",
       "    <tr>\n",
       "      <th>2025-06-19 13:00:59+00:00</th>\n",
       "      <td>Transfer</td>\n",
       "      <td>22738686</td>\n",
       "      <td>15</td>\n",
       "      <td>58</td>\n",
       "      <td>0xd2c0bcb5cd36c677eb519c5384811fe882d51bfd741f...</td>\n",
       "      <td>0x7f6494D4fBEA1c06daC2250A3FCa81003bF8D20C</td>\n",
       "      <td>0xdee29b7b6dF3576280bFBbC088ee9eBAA767C0Bd</td>\n",
       "      <td>7000000000000000000000</td>\n",
       "      <td>54672987900060315648</td>\n",
       "      <td>7000.0000</td>\n",
       "      <td>NaN</td>\n",
       "      <td>54672987900060315648</td>\n",
       "    </tr>\n",
       "    <tr>\n",
       "      <th>2025-06-27 11:09:47+00:00</th>\n",
       "      <td>Transfer</td>\n",
       "      <td>22795386</td>\n",
       "      <td>47</td>\n",
       "      <td>265</td>\n",
       "      <td>0xdd2f399212e38bbab7c34802b63d13f94895fc4c1b16...</td>\n",
       "      <td>0x7f6494D4fBEA1c06daC2250A3FCa81003bF8D20C</td>\n",
       "      <td>0xdee29b7b6dF3576280bFBbC088ee9eBAA767C0Bd</td>\n",
       "      <td>7000000000000000000000</td>\n",
       "      <td>54672987900060315648</td>\n",
       "      <td>7000.0000</td>\n",
       "      <td>1.0</td>\n",
       "      <td>54672987900060315648</td>\n",
       "    </tr>\n",
       "    <tr>\n",
       "      <th>2025-07-03 04:17:59+00:00</th>\n",
       "      <td>Transfer</td>\n",
       "      <td>22836262</td>\n",
       "      <td>338</td>\n",
       "      <td>567</td>\n",
       "      <td>0xe4723a36d4aac4ae6db3757ed02a84466214ea7e5132...</td>\n",
       "      <td>0x6c214A193F921E9b7D52aA7387Fa8882Ee50DA0f</td>\n",
       "      <td>0xdee29b7b6dF3576280bFBbC088ee9eBAA767C0Bd</td>\n",
       "      <td>9100000000000000</td>\n",
       "      <td>54672987900060315648</td>\n",
       "      <td>0.0091</td>\n",
       "      <td>1.0</td>\n",
       "      <td>54672987900060315648</td>\n",
       "    </tr>\n",
       "    <tr>\n",
       "      <th>2025-07-04 21:15:11+00:00</th>\n",
       "      <td>Transfer</td>\n",
       "      <td>22848477</td>\n",
       "      <td>69</td>\n",
       "      <td>200</td>\n",
       "      <td>0x25a1a5e209035e564b991d63aa133c254c7cc69df5c4...</td>\n",
       "      <td>0x7f6494D4fBEA1c06daC2250A3FCa81003bF8D20C</td>\n",
       "      <td>0xdee29b7b6dF3576280bFBbC088ee9eBAA767C0Bd</td>\n",
       "      <td>7000000000000000000000</td>\n",
       "      <td>54672987900060315648</td>\n",
       "      <td>7000.0000</td>\n",
       "      <td>1.0</td>\n",
       "      <td>54672987900060315648</td>\n",
       "    </tr>\n",
       "    <tr>\n",
       "      <th>2025-07-14 13:41:59+00:00</th>\n",
       "      <td>Transfer</td>\n",
       "      <td>22917781</td>\n",
       "      <td>108</td>\n",
       "      <td>386</td>\n",
       "      <td>0xa6171e003066230d007083289b9bf0ff3fc13a4293bc...</td>\n",
       "      <td>0x7f6494D4fBEA1c06daC2250A3FCa81003bF8D20C</td>\n",
       "      <td>0xdee29b7b6dF3576280bFBbC088ee9eBAA767C0Bd</td>\n",
       "      <td>7000000000000000000000</td>\n",
       "      <td>54672987900060315648</td>\n",
       "      <td>7000.0000</td>\n",
       "      <td>1.0</td>\n",
       "      <td>54672987900060315648</td>\n",
       "    </tr>\n",
       "    <tr>\n",
       "      <th>2025-07-21 10:29:47+00:00</th>\n",
       "      <td>Transfer</td>\n",
       "      <td>22966977</td>\n",
       "      <td>89</td>\n",
       "      <td>368</td>\n",
       "      <td>0x65619f609671d23de9d568f868f40e68386111cb8ce2...</td>\n",
       "      <td>0x7f6494D4fBEA1c06daC2250A3FCa81003bF8D20C</td>\n",
       "      <td>0xdee29b7b6dF3576280bFBbC088ee9eBAA767C0Bd</td>\n",
       "      <td>7000000000000000000000</td>\n",
       "      <td>54672987900060315648</td>\n",
       "      <td>7000.0000</td>\n",
       "      <td>1.0</td>\n",
       "      <td>54672987900060315648</td>\n",
       "    </tr>\n",
       "    <tr>\n",
       "      <th>2025-07-28 20:05:11+00:00</th>\n",
       "      <td>Transfer</td>\n",
       "      <td>23019908</td>\n",
       "      <td>331</td>\n",
       "      <td>713</td>\n",
       "      <td>0x9892b6123f329c5d8dd9dc6736bc8ce23066b8ac42dc...</td>\n",
       "      <td>0x7f6494D4fBEA1c06daC2250A3FCa81003bF8D20C</td>\n",
       "      <td>0xdee29b7b6dF3576280bFBbC088ee9eBAA767C0Bd</td>\n",
       "      <td>7000000000000000000000</td>\n",
       "      <td>54672987900060315648</td>\n",
       "      <td>7000.0000</td>\n",
       "      <td>1.0</td>\n",
       "      <td>54672987900060315648</td>\n",
       "    </tr>\n",
       "    <tr>\n",
       "      <th>2025-08-05 21:56:59+00:00</th>\n",
       "      <td>Transfer</td>\n",
       "      <td>23077694</td>\n",
       "      <td>123</td>\n",
       "      <td>525</td>\n",
       "      <td>0xc576f6228fabf6da5549cd77d4ed11867cb243e42900...</td>\n",
       "      <td>0x7f6494D4fBEA1c06daC2250A3FCa81003bF8D20C</td>\n",
       "      <td>0xdee29b7b6dF3576280bFBbC088ee9eBAA767C0Bd</td>\n",
       "      <td>5000000000000000000000</td>\n",
       "      <td>54672987900060315648</td>\n",
       "      <td>5000.0000</td>\n",
       "      <td>1.0</td>\n",
       "      <td>54672987900060315648</td>\n",
       "    </tr>\n",
       "    <tr>\n",
       "      <th>2025-08-12 15:05:11+00:00</th>\n",
       "      <td>Transfer</td>\n",
       "      <td>23125744</td>\n",
       "      <td>125</td>\n",
       "      <td>425</td>\n",
       "      <td>0xe53494e83ace608890d73598eae7acfcd61154512789...</td>\n",
       "      <td>0x7f6494D4fBEA1c06daC2250A3FCa81003bF8D20C</td>\n",
       "      <td>0xdee29b7b6dF3576280bFBbC088ee9eBAA767C0Bd</td>\n",
       "      <td>5000000000000000000000</td>\n",
       "      <td>54672987900060315648</td>\n",
       "      <td>5000.0000</td>\n",
       "      <td>1.0</td>\n",
       "      <td>54672987900060315648</td>\n",
       "    </tr>\n",
       "    <tr>\n",
       "      <th>2025-08-19 19:24:59+00:00</th>\n",
       "      <td>Transfer</td>\n",
       "      <td>23177194</td>\n",
       "      <td>65</td>\n",
       "      <td>505</td>\n",
       "      <td>0xb6a0246a915ccbcea776ef8e912fb84d0f0ad5040572...</td>\n",
       "      <td>0x7f6494D4fBEA1c06daC2250A3FCa81003bF8D20C</td>\n",
       "      <td>0xdee29b7b6dF3576280bFBbC088ee9eBAA767C0Bd</td>\n",
       "      <td>4880000000000000000000</td>\n",
       "      <td>54672987900060315648</td>\n",
       "      <td>4880.0000</td>\n",
       "      <td>1.0</td>\n",
       "      <td>54672987900060315648</td>\n",
       "    </tr>\n",
       "    <tr>\n",
       "      <th>2025-08-30 05:42:35+00:00</th>\n",
       "      <td>Transfer</td>\n",
       "      <td>23251934</td>\n",
       "      <td>187</td>\n",
       "      <td>466</td>\n",
       "      <td>0x5cf5265b88d0d864b10687568f2f9a75ef55546e91ff...</td>\n",
       "      <td>0x7f6494D4fBEA1c06daC2250A3FCa81003bF8D20C</td>\n",
       "      <td>0xdee29b7b6dF3576280bFBbC088ee9eBAA767C0Bd</td>\n",
       "      <td>4880000000000000000000</td>\n",
       "      <td>54672987900060315648</td>\n",
       "      <td>4880.0000</td>\n",
       "      <td>1.0</td>\n",
       "      <td>54672987900060315648</td>\n",
       "    </tr>\n",
       "  </tbody>\n",
       "</table>\n",
       "</div>"
      ],
      "text/plain": [
       "                              event     block  transactionIndex  log_index  \\\n",
       "timestamp                                                                    \n",
       "2025-06-19 13:00:59+00:00  Transfer  22738686                15         58   \n",
       "2025-06-27 11:09:47+00:00  Transfer  22795386                47        265   \n",
       "2025-07-03 04:17:59+00:00  Transfer  22836262               338        567   \n",
       "2025-07-04 21:15:11+00:00  Transfer  22848477                69        200   \n",
       "2025-07-14 13:41:59+00:00  Transfer  22917781               108        386   \n",
       "2025-07-21 10:29:47+00:00  Transfer  22966977                89        368   \n",
       "2025-07-28 20:05:11+00:00  Transfer  23019908               331        713   \n",
       "2025-08-05 21:56:59+00:00  Transfer  23077694               123        525   \n",
       "2025-08-12 15:05:11+00:00  Transfer  23125744               125        425   \n",
       "2025-08-19 19:24:59+00:00  Transfer  23177194                65        505   \n",
       "2025-08-30 05:42:35+00:00  Transfer  23251934               187        466   \n",
       "\n",
       "                                                                        hash  \\\n",
       "timestamp                                                                      \n",
       "2025-06-19 13:00:59+00:00  0xd2c0bcb5cd36c677eb519c5384811fe882d51bfd741f...   \n",
       "2025-06-27 11:09:47+00:00  0xdd2f399212e38bbab7c34802b63d13f94895fc4c1b16...   \n",
       "2025-07-03 04:17:59+00:00  0xe4723a36d4aac4ae6db3757ed02a84466214ea7e5132...   \n",
       "2025-07-04 21:15:11+00:00  0x25a1a5e209035e564b991d63aa133c254c7cc69df5c4...   \n",
       "2025-07-14 13:41:59+00:00  0xa6171e003066230d007083289b9bf0ff3fc13a4293bc...   \n",
       "2025-07-21 10:29:47+00:00  0x65619f609671d23de9d568f868f40e68386111cb8ce2...   \n",
       "2025-07-28 20:05:11+00:00  0x9892b6123f329c5d8dd9dc6736bc8ce23066b8ac42dc...   \n",
       "2025-08-05 21:56:59+00:00  0xc576f6228fabf6da5549cd77d4ed11867cb243e42900...   \n",
       "2025-08-12 15:05:11+00:00  0xe53494e83ace608890d73598eae7acfcd61154512789...   \n",
       "2025-08-19 19:24:59+00:00  0xb6a0246a915ccbcea776ef8e912fb84d0f0ad5040572...   \n",
       "2025-08-30 05:42:35+00:00  0x5cf5265b88d0d864b10687568f2f9a75ef55546e91ff...   \n",
       "\n",
       "                                                                 from  \\\n",
       "timestamp                                                               \n",
       "2025-06-19 13:00:59+00:00  0x7f6494D4fBEA1c06daC2250A3FCa81003bF8D20C   \n",
       "2025-06-27 11:09:47+00:00  0x7f6494D4fBEA1c06daC2250A3FCa81003bF8D20C   \n",
       "2025-07-03 04:17:59+00:00  0x6c214A193F921E9b7D52aA7387Fa8882Ee50DA0f   \n",
       "2025-07-04 21:15:11+00:00  0x7f6494D4fBEA1c06daC2250A3FCa81003bF8D20C   \n",
       "2025-07-14 13:41:59+00:00  0x7f6494D4fBEA1c06daC2250A3FCa81003bF8D20C   \n",
       "2025-07-21 10:29:47+00:00  0x7f6494D4fBEA1c06daC2250A3FCa81003bF8D20C   \n",
       "2025-07-28 20:05:11+00:00  0x7f6494D4fBEA1c06daC2250A3FCa81003bF8D20C   \n",
       "2025-08-05 21:56:59+00:00  0x7f6494D4fBEA1c06daC2250A3FCa81003bF8D20C   \n",
       "2025-08-12 15:05:11+00:00  0x7f6494D4fBEA1c06daC2250A3FCa81003bF8D20C   \n",
       "2025-08-19 19:24:59+00:00  0x7f6494D4fBEA1c06daC2250A3FCa81003bF8D20C   \n",
       "2025-08-30 05:42:35+00:00  0x7f6494D4fBEA1c06daC2250A3FCa81003bF8D20C   \n",
       "\n",
       "                                                                   to  \\\n",
       "timestamp                                                               \n",
       "2025-06-19 13:00:59+00:00  0xdee29b7b6dF3576280bFBbC088ee9eBAA767C0Bd   \n",
       "2025-06-27 11:09:47+00:00  0xdee29b7b6dF3576280bFBbC088ee9eBAA767C0Bd   \n",
       "2025-07-03 04:17:59+00:00  0xdee29b7b6dF3576280bFBbC088ee9eBAA767C0Bd   \n",
       "2025-07-04 21:15:11+00:00  0xdee29b7b6dF3576280bFBbC088ee9eBAA767C0Bd   \n",
       "2025-07-14 13:41:59+00:00  0xdee29b7b6dF3576280bFBbC088ee9eBAA767C0Bd   \n",
       "2025-07-21 10:29:47+00:00  0xdee29b7b6dF3576280bFBbC088ee9eBAA767C0Bd   \n",
       "2025-07-28 20:05:11+00:00  0xdee29b7b6dF3576280bFBbC088ee9eBAA767C0Bd   \n",
       "2025-08-05 21:56:59+00:00  0xdee29b7b6dF3576280bFBbC088ee9eBAA767C0Bd   \n",
       "2025-08-12 15:05:11+00:00  0xdee29b7b6dF3576280bFBbC088ee9eBAA767C0Bd   \n",
       "2025-08-19 19:24:59+00:00  0xdee29b7b6dF3576280bFBbC088ee9eBAA767C0Bd   \n",
       "2025-08-30 05:42:35+00:00  0xdee29b7b6dF3576280bFBbC088ee9eBAA767C0Bd   \n",
       "\n",
       "                                            value  \\\n",
       "timestamp                                           \n",
       "2025-06-19 13:00:59+00:00  7000000000000000000000   \n",
       "2025-06-27 11:09:47+00:00  7000000000000000000000   \n",
       "2025-07-03 04:17:59+00:00        9100000000000000   \n",
       "2025-07-04 21:15:11+00:00  7000000000000000000000   \n",
       "2025-07-14 13:41:59+00:00  7000000000000000000000   \n",
       "2025-07-21 10:29:47+00:00  7000000000000000000000   \n",
       "2025-07-28 20:05:11+00:00  7000000000000000000000   \n",
       "2025-08-05 21:56:59+00:00  5000000000000000000000   \n",
       "2025-08-12 15:05:11+00:00  5000000000000000000000   \n",
       "2025-08-19 19:24:59+00:00  4880000000000000000000   \n",
       "2025-08-30 05:42:35+00:00  4880000000000000000000   \n",
       "\n",
       "                          balGauge_rewardPerTokenStored_x  dai_amount  delay  \\\n",
       "timestamp                                                                      \n",
       "2025-06-19 13:00:59+00:00            54672987900060315648   7000.0000    NaN   \n",
       "2025-06-27 11:09:47+00:00            54672987900060315648   7000.0000    1.0   \n",
       "2025-07-03 04:17:59+00:00            54672987900060315648      0.0091    1.0   \n",
       "2025-07-04 21:15:11+00:00            54672987900060315648   7000.0000    1.0   \n",
       "2025-07-14 13:41:59+00:00            54672987900060315648   7000.0000    1.0   \n",
       "2025-07-21 10:29:47+00:00            54672987900060315648   7000.0000    1.0   \n",
       "2025-07-28 20:05:11+00:00            54672987900060315648   7000.0000    1.0   \n",
       "2025-08-05 21:56:59+00:00            54672987900060315648   5000.0000    1.0   \n",
       "2025-08-12 15:05:11+00:00            54672987900060315648   5000.0000    1.0   \n",
       "2025-08-19 19:24:59+00:00            54672987900060315648   4880.0000    1.0   \n",
       "2025-08-30 05:42:35+00:00            54672987900060315648   4880.0000    1.0   \n",
       "\n",
       "                          balGauge_rewardPerTokenStored_y  \n",
       "timestamp                                                  \n",
       "2025-06-19 13:00:59+00:00            54672987900060315648  \n",
       "2025-06-27 11:09:47+00:00            54672987900060315648  \n",
       "2025-07-03 04:17:59+00:00            54672987900060315648  \n",
       "2025-07-04 21:15:11+00:00            54672987900060315648  \n",
       "2025-07-14 13:41:59+00:00            54672987900060315648  \n",
       "2025-07-21 10:29:47+00:00            54672987900060315648  \n",
       "2025-07-28 20:05:11+00:00            54672987900060315648  \n",
       "2025-08-05 21:56:59+00:00            54672987900060315648  \n",
       "2025-08-12 15:05:11+00:00            54672987900060315648  \n",
       "2025-08-19 19:24:59+00:00            54672987900060315648  \n",
       "2025-08-30 05:42:35+00:00            54672987900060315648  "
      ]
     },
     "execution_count": 9,
     "metadata": {},
     "output_type": "execute_result"
    }
   ],
   "source": [
    "dai_to_incentives_gauge"
   ]
  },
  {
   "cell_type": "code",
   "execution_count": 18,
   "metadata": {},
   "outputs": [
    {
     "data": {
      "application/vnd.microsoft.datawrangler.viewer.v0+json": {
       "columns": [
        {
         "name": "timestamp",
         "rawType": "datetime64[ns, UTC]",
         "type": "unknown"
        },
        {
         "name": "gap_between_reloading_dai",
         "rawType": "timedelta64[ns]",
         "type": "unknown"
        },
        {
         "name": "dai_amount",
         "rawType": "float64",
         "type": "float"
        }
       ],
       "ref": "5c20bf51-e43a-4537-a4a3-45994df5deb4",
       "rows": [
        [
         "2025-06-19 13:00:59+00:00",
         null,
         "7000.0"
        ],
        [
         "2025-06-27 11:09:47+00:00",
         "0 days 22:08:48",
         "7000.0"
        ],
        [
         "2025-07-03 04:17:59+00:00",
         "0 days 00:00:00",
         "0.0091"
        ],
        [
         "2025-07-04 21:15:11+00:00",
         "0 days 00:00:00",
         "7000.0"
        ],
        [
         "2025-07-14 13:41:59+00:00",
         "2 days 16:26:48",
         "7000.0"
        ],
        [
         "2025-07-21 10:29:47+00:00",
         "0 days 00:00:00",
         "7000.0"
        ],
        [
         "2025-07-28 20:05:11+00:00",
         "0 days 09:35:24",
         "7000.0"
        ],
        [
         "2025-08-05 21:56:59+00:00",
         "1 days 01:51:48",
         "5000.0"
        ],
        [
         "2025-08-12 15:05:11+00:00",
         "0 days 00:00:00",
         "5000.0"
        ],
        [
         "2025-08-19 19:24:59+00:00",
         "0 days 04:19:48",
         "4880.0"
        ],
        [
         "2025-08-30 05:42:35+00:00",
         "3 days 10:17:36",
         "4880.0"
        ]
       ],
       "shape": {
        "columns": 2,
        "rows": 11
       }
      },
      "text/html": [
       "<div>\n",
       "<style scoped>\n",
       "    .dataframe tbody tr th:only-of-type {\n",
       "        vertical-align: middle;\n",
       "    }\n",
       "\n",
       "    .dataframe tbody tr th {\n",
       "        vertical-align: top;\n",
       "    }\n",
       "\n",
       "    .dataframe thead th {\n",
       "        text-align: right;\n",
       "    }\n",
       "</style>\n",
       "<table border=\"1\" class=\"dataframe\">\n",
       "  <thead>\n",
       "    <tr style=\"text-align: right;\">\n",
       "      <th></th>\n",
       "      <th>gap_between_reloading_dai</th>\n",
       "      <th>dai_amount</th>\n",
       "    </tr>\n",
       "    <tr>\n",
       "      <th>timestamp</th>\n",
       "      <th></th>\n",
       "      <th></th>\n",
       "    </tr>\n",
       "  </thead>\n",
       "  <tbody>\n",
       "    <tr>\n",
       "      <th>2025-06-19 13:00:59+00:00</th>\n",
       "      <td>NaT</td>\n",
       "      <td>7000.0000</td>\n",
       "    </tr>\n",
       "    <tr>\n",
       "      <th>2025-06-27 11:09:47+00:00</th>\n",
       "      <td>0 days 22:08:48</td>\n",
       "      <td>7000.0000</td>\n",
       "    </tr>\n",
       "    <tr>\n",
       "      <th>2025-07-03 04:17:59+00:00</th>\n",
       "      <td>0 days 00:00:00</td>\n",
       "      <td>0.0091</td>\n",
       "    </tr>\n",
       "    <tr>\n",
       "      <th>2025-07-04 21:15:11+00:00</th>\n",
       "      <td>0 days 00:00:00</td>\n",
       "      <td>7000.0000</td>\n",
       "    </tr>\n",
       "    <tr>\n",
       "      <th>2025-07-14 13:41:59+00:00</th>\n",
       "      <td>2 days 16:26:48</td>\n",
       "      <td>7000.0000</td>\n",
       "    </tr>\n",
       "    <tr>\n",
       "      <th>2025-07-21 10:29:47+00:00</th>\n",
       "      <td>0 days 00:00:00</td>\n",
       "      <td>7000.0000</td>\n",
       "    </tr>\n",
       "    <tr>\n",
       "      <th>2025-07-28 20:05:11+00:00</th>\n",
       "      <td>0 days 09:35:24</td>\n",
       "      <td>7000.0000</td>\n",
       "    </tr>\n",
       "    <tr>\n",
       "      <th>2025-08-05 21:56:59+00:00</th>\n",
       "      <td>1 days 01:51:48</td>\n",
       "      <td>5000.0000</td>\n",
       "    </tr>\n",
       "    <tr>\n",
       "      <th>2025-08-12 15:05:11+00:00</th>\n",
       "      <td>0 days 00:00:00</td>\n",
       "      <td>5000.0000</td>\n",
       "    </tr>\n",
       "    <tr>\n",
       "      <th>2025-08-19 19:24:59+00:00</th>\n",
       "      <td>0 days 04:19:48</td>\n",
       "      <td>4880.0000</td>\n",
       "    </tr>\n",
       "    <tr>\n",
       "      <th>2025-08-30 05:42:35+00:00</th>\n",
       "      <td>3 days 10:17:36</td>\n",
       "      <td>4880.0000</td>\n",
       "    </tr>\n",
       "  </tbody>\n",
       "</table>\n",
       "</div>"
      ],
      "text/plain": [
       "                          gap_between_reloading_dai  dai_amount\n",
       "timestamp                                                      \n",
       "2025-06-19 13:00:59+00:00                       NaT   7000.0000\n",
       "2025-06-27 11:09:47+00:00           0 days 22:08:48   7000.0000\n",
       "2025-07-03 04:17:59+00:00           0 days 00:00:00      0.0091\n",
       "2025-07-04 21:15:11+00:00           0 days 00:00:00   7000.0000\n",
       "2025-07-14 13:41:59+00:00           2 days 16:26:48   7000.0000\n",
       "2025-07-21 10:29:47+00:00           0 days 00:00:00   7000.0000\n",
       "2025-07-28 20:05:11+00:00           0 days 09:35:24   7000.0000\n",
       "2025-08-05 21:56:59+00:00           1 days 01:51:48   5000.0000\n",
       "2025-08-12 15:05:11+00:00           0 days 00:00:00   5000.0000\n",
       "2025-08-19 19:24:59+00:00           0 days 04:19:48   4880.0000\n",
       "2025-08-30 05:42:35+00:00           3 days 10:17:36   4880.0000"
      ]
     },
     "execution_count": 18,
     "metadata": {},
     "output_type": "execute_result"
    }
   ],
   "source": [
    "dai_to_incentives_gauge[\"gap_between_reloading_dai\"] = dai_to_incentives_gauge[\"gap_between_reloading_dai\"].clip(\n",
    "    lower=pd.Timedelta(0)\n",
    ")\n",
    "dai_to_incentives_gauge[[\"gap_between_reloading_dai\", \"dai_amount\"]]"
   ]
  },
  {
   "cell_type": "code",
   "execution_count": 19,
   "metadata": {},
   "outputs": [
    {
     "data": {
      "application/vnd.microsoft.datawrangler.viewer.v0+json": {
       "columns": [
        {
         "name": "index",
         "rawType": "object",
         "type": "string"
        },
        {
         "name": "0",
         "rawType": "object",
         "type": "unknown"
        }
       ],
       "ref": "fee14820-3540-4508-a57c-dda6d4a2337c",
       "rows": [
        [
         "gap_between_reloading_dai",
         "8 days 16:40:12"
        ],
        [
         "dai_amount",
         "61760.009099999996"
        ]
       ],
       "shape": {
        "columns": 1,
        "rows": 2
       }
      },
      "text/plain": [
       "gap_between_reloading_dai    8 days 16:40:12\n",
       "dai_amount                        61760.0091\n",
       "dtype: object"
      ]
     },
     "execution_count": 19,
     "metadata": {},
     "output_type": "execute_result"
    }
   ],
   "source": [
    "dai_to_incentives_gauge[[\"gap_between_reloading_dai\", \"dai_amount\"]].sum()"
   ]
  },
  {
   "cell_type": "code",
   "execution_count": 20,
   "metadata": {},
   "outputs": [
    {
     "data": {
      "text/plain": [
       "Timedelta('-72 days +07:18:24')"
      ]
     },
     "execution_count": 20,
     "metadata": {},
     "output_type": "execute_result"
    }
   ],
   "source": [
    "dai_to_incentives_gauge.index.min() - dai_to_incentives_gauge.index.max()"
   ]
  },
  {
   "cell_type": "code",
   "execution_count": null,
   "metadata": {},
   "outputs": [],
   "source": [
    "px.scatter(dai_to_incentives_gauge, x=\"delay\", y=\"dai_amount\", title=\"DAI sent to Incentives Gauge over time\")"
   ]
  },
  {
   "cell_type": "code",
   "execution_count": null,
   "metadata": {},
   "outputs": [],
   "source": [
    "for k, v in events.items():\n",
    "    print(f\"Event: {k}, Count: {len(v)}\")"
   ]
  },
  {
   "cell_type": "code",
   "execution_count": null,
   "metadata": {},
   "outputs": [],
   "source": [
    "events[\"Deposit\"]"
   ]
  },
  {
   "cell_type": "code",
   "execution_count": null,
   "metadata": {},
   "outputs": [],
   "source": []
  }
 ],
 "metadata": {
  "kernelspec": {
   "display_name": "mainnet-launch-py3.10",
   "language": "python",
   "name": "python3"
  },
  "language_info": {
   "codemirror_mode": {
    "name": "ipython",
    "version": 3
   },
   "file_extension": ".py",
   "mimetype": "text/x-python",
   "name": "python",
   "nbconvert_exporter": "python",
   "pygments_lexer": "ipython3",
   "version": "3.10.14"
  }
 },
 "nbformat": 4,
 "nbformat_minor": 2
}
