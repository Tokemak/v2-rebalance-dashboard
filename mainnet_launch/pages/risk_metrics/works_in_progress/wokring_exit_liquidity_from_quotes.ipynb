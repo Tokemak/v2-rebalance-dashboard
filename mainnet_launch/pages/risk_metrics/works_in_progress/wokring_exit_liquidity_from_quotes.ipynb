{
 "cells": [
  {
   "cell_type": "code",
   "execution_count": 3,
   "metadata": {},
   "outputs": [
    {
     "data": {
      "application/vnd.microsoft.datawrangler.viewer.v0+json": {
       "columns": [
        {
         "name": "index",
         "rawType": "int64",
         "type": "integer"
        },
        {
         "name": "chain_id",
         "rawType": "int64",
         "type": "integer"
        },
        {
         "name": "base_asset",
         "rawType": "object",
         "type": "string"
        },
        {
         "name": "api_name",
         "rawType": "object",
         "type": "string"
        },
        {
         "name": "sell_token_address",
         "rawType": "object",
         "type": "string"
        },
        {
         "name": "buy_token_address",
         "rawType": "object",
         "type": "string"
        },
        {
         "name": "scaled_amount_in",
         "rawType": "float64",
         "type": "float"
        },
        {
         "name": "scaled_amount_out",
         "rawType": "float64",
         "type": "float"
        },
        {
         "name": "pools_blacklist",
         "rawType": "object",
         "type": "unknown"
        },
        {
         "name": "percent_exclude_threshold",
         "rawType": "float64",
         "type": "float"
        },
        {
         "name": "aggregator_name",
         "rawType": "object",
         "type": "string"
        },
        {
         "name": "datetime_received",
         "rawType": "datetime64[ns, UTC]",
         "type": "unknown"
        },
        {
         "name": "quote_batch",
         "rawType": "int64",
         "type": "integer"
        },
        {
         "name": "id",
         "rawType": "object",
         "type": "unknown"
        }
       ],
       "ref": "1322e7ca-d534-4a53-babe-3ae3a811756f",
       "rows": [
        [
         "0",
         "8453",
         "0x4200000000000000000000000000000000000006",
         "odos",
         "0x2Ae3F1Ec7F1F5012CFEab0185bfc7aa3cf0DEc22",
         "0x4200000000000000000000000000000000000006",
         "375.0",
         "413.46143338387316",
         "['0xb7b8b3afc010169779c5c2385ec0eb0477fe3347', '0x54d86e177cdc664b5f9b17eb5fd6a76fa529e466']",
         "10.0",
         "Odos",
         "2025-08-12 19:37:18.059929+00:00",
         "0",
         "2757a036-6a69-4894-9a75-09d3330716d9"
        ],
        [
         "1",
         "1",
         "0x865377367054516e17014CcdED1e7d814EDC9ce4",
         "odos",
         "0x15700B564Ca08D9439C58cA5053166E8317aa138",
         "0x865377367054516e17014CcdED1e7d814EDC9ce4",
         "400000.0",
         "400629.03235352034",
         "['0x6691dbb44154a9f23f8357c56fc9ff5548a8bdc4', '0x48d670d189b4b48757992d36897bca6e3f889040', '0x76a962ba6770068bcf454d34dde17175611e6637', '0x460638e6f7605b866736e38045c0de8294d7d87f']",
         "10.0",
         "Odos",
         "2025-08-12 19:35:29.938495+00:00",
         "0",
         "1ff8557b-c5c4-4be8-ac2f-20ff5d810729"
        ],
        [
         "2",
         "1",
         "0xC02aaA39b223FE8D0A0e5C4F27eAD9083C756Cc2",
         "odos",
         "0xA35b1B31Ce002FBF2058D22F30f95D405200A15b",
         "0xC02aaA39b223FE8D0A0e5C4F27eAD9083C756Cc2",
         "275.0",
         "47.97960687084306",
         "['0xdb74dfdd3bb46be8ce6c33dc9d82777bcfc3ded5', '0x88794c65550deb6b4087b7552ecf295113794410', '0x6951bdc4734b9f7f3e1b74afebc670c736a0edb6', '0x57c23c58b1d8c3292c15becf07c62c5c52457a42', '0xc8eb2cf2f792f77af0cd9e203305a585e588179d', '0x59ab5a5b5d617e478a2479b0cad80da7e2831492', '0x6b31a94029fd7840d780191b6d63fa0d269bd883', '0xe080027bd47353b5d1639772b4a75e9ed3658a0d']",
         "10.0",
         "Odos",
         "2025-08-12 19:33:45.758044+00:00",
         "0",
         "8dacd74d-7361-4bd7-8e7a-6ffe18733429"
        ],
        [
         "3",
         "1",
         "0xC02aaA39b223FE8D0A0e5C4F27eAD9083C756Cc2",
         "tokemak",
         "0xbf5495Efe5DB9ce00f80364C8B423567e58d2110",
         "0xC02aaA39b223FE8D0A0e5C4F27eAD9083C756Cc2",
         "75.0",
         "79.04742502005529",
         null,
         "10.0",
         "Odos",
         "2025-08-12 19:34:24.562109+00:00",
         "0",
         "ba159138-9908-47af-9c71-686afb83ca75"
        ],
        [
         "4",
         "1",
         "0x865377367054516e17014CcdED1e7d814EDC9ce4",
         "tokemak",
         "0x57aB1E0003F623289CD798B1824Be09a793e4Bec",
         "0x865377367054516e17014CcdED1e7d814EDC9ce4",
         "800000.0",
         "792634.8267767701",
         null,
         "10.0",
         "Odos",
         "2025-08-12 19:36:26.593524+00:00",
         "0",
         "74eac004-5334-4d70-8263-264586e0b0d8"
        ],
        [
         "5",
         "1",
         "0xC02aaA39b223FE8D0A0e5C4F27eAD9083C756Cc2",
         "tokemak",
         "0x7f39C581F595B53c5cb19bD0b3f8dA6c935E2Ca0",
         "0xC02aaA39b223FE8D0A0e5C4F27eAD9083C756Cc2",
         "300.0",
         "362.6671735833044",
         null,
         "10.0",
         "Odos",
         "2025-08-12 19:36:20.057039+00:00",
         "0",
         "e690a51f-0300-4a9b-a44e-459c2b79d3b2"
        ],
        [
         "6",
         "1",
         "0xA0b86991c6218b36c1d19D4a2e9Eb0cE3606eB48",
         "tokemak",
         "0xdAC17F958D2ee523a2206206994597C13D831ec7",
         "0xA0b86991c6218b36c1d19D4a2e9Eb0cE3606eB48",
         "700000.0",
         "700105.757973",
         null,
         "10.0",
         "Odos",
         "2025-08-12 19:34:39.142217+00:00",
         "0",
         "a11343ea-8cef-41c6-8230-d5f4d05e2fe0"
        ],
        [
         "7",
         "1",
         "0x865377367054516e17014CcdED1e7d814EDC9ce4",
         "tokemak",
         "0x15700B564Ca08D9439C58cA5053166E8317aa138",
         "0x865377367054516e17014CcdED1e7d814EDC9ce4",
         "900000.0",
         "900626.4984973688",
         null,
         "10.0",
         "Odos",
         "2025-08-12 19:36:35.596497+00:00",
         "0",
         "eda80ee7-1b06-4d42-b517-71f8c912985b"
        ],
        [
         "8",
         "1",
         "0x865377367054516e17014CcdED1e7d814EDC9ce4",
         "tokemak",
         "0xBC6DA0FE9aD5f3b0d58160288917AA56653660E9",
         "0x865377367054516e17014CcdED1e7d814EDC9ce4",
         "10000.0",
         "9975.078095580644",
         null,
         "10.0",
         "Odos",
         "2025-08-12 19:36:59.832207+00:00",
         "0",
         "14b750ab-7f8e-4aa4-b430-650692b15330"
        ],
        [
         "9",
         "1",
         "0x865377367054516e17014CcdED1e7d814EDC9ce4",
         "tokemak",
         "0x9D39A5DE30e57443BfF2A8307A4256c8797A3497",
         "0x865377367054516e17014CcdED1e7d814EDC9ce4",
         "600000.0",
         "715170.2997419853",
         null,
         "10.0",
         "4626",
         "2025-08-12 19:36:11.397980+00:00",
         "0",
         "f09f06dd-69e7-4dc5-acc6-80a6ceb3cbdb"
        ],
        [
         "10",
         "1",
         "0xC02aaA39b223FE8D0A0e5C4F27eAD9083C756Cc2",
         "tokemak",
         "0xae78736Cd615f374D3085123A210448E74Fc6393",
         "0xC02aaA39b223FE8D0A0e5C4F27eAD9083C756Cc2",
         "300.0",
         "340.6840532030011",
         null,
         "10.0",
         "Odos",
         "2025-08-12 19:36:24.095165+00:00",
         "0",
         "2158e08f-9148-4cb1-b3ae-7f495cceeda3"
        ],
        [
         "11",
         "1",
         "0x865377367054516e17014CcdED1e7d814EDC9ce4",
         "odos",
         "0x15700B564Ca08D9439C58cA5053166E8317aa138",
         "0x865377367054516e17014CcdED1e7d814EDC9ce4",
         "500000.0",
         "500741.7319373746",
         "['0x6691dbb44154a9f23f8357c56fc9ff5548a8bdc4', '0x48d670d189b4b48757992d36897bca6e3f889040', '0x76a962ba6770068bcf454d34dde17175611e6637', '0x460638e6f7605b866736e38045c0de8294d7d87f']",
         "10.0",
         "Odos",
         "2025-08-12 19:35:35.559531+00:00",
         "0",
         "cf959778-6634-46b3-8f00-8467997ab308"
        ],
        [
         "12",
         "1",
         "0x865377367054516e17014CcdED1e7d814EDC9ce4",
         "odos",
         "0x57aB1E0003F623289CD798B1824Be09a793e4Bec",
         "0x865377367054516e17014CcdED1e7d814EDC9ce4",
         "800000.0",
         "792418.7561237084",
         "['0x6691dbb44154a9f23f8357c56fc9ff5548a8bdc4', '0x48d670d189b4b48757992d36897bca6e3f889040', '0x76a962ba6770068bcf454d34dde17175611e6637', '0x460638e6f7605b866736e38045c0de8294d7d87f']",
         "10.0",
         "Odos",
         "2025-08-12 19:35:48.870188+00:00",
         "0",
         "32997e12-82d8-43d9-9b76-cea2da6314a3"
        ],
        [
         "13",
         "1",
         "0xA0b86991c6218b36c1d19D4a2e9Eb0cE3606eB48",
         "tokemak",
         "0x9D39A5DE30e57443BfF2A8307A4256c8797A3497",
         "0xA0b86991c6218b36c1d19D4a2e9Eb0cE3606eB48",
         "10000.0",
         "11900.104744",
         null,
         "10.0",
         "4626",
         "2025-08-12 19:35:15.719078+00:00",
         "0",
         "3e975561-2a00-4723-94c5-09505a57c552"
        ],
        [
         "14",
         "1",
         "0xC02aaA39b223FE8D0A0e5C4F27eAD9083C756Cc2",
         "tokemak",
         "0xA35b1B31Ce002FBF2058D22F30f95D405200A15b",
         "0xC02aaA39b223FE8D0A0e5C4F27eAD9083C756Cc2",
         "125.0",
         "132.9233578540761",
         null,
         "10.0",
         "Odos",
         "2025-08-12 19:34:38.112444+00:00",
         "0",
         "592fcb38-8d29-42d3-ab9d-12efe1c92d86"
        ],
        [
         "15",
         "1",
         "0xC02aaA39b223FE8D0A0e5C4F27eAD9083C756Cc2",
         "odos",
         "0xCd5fE23C85820F7B72D0926FC9b05b43E359b7ee",
         "0xC02aaA39b223FE8D0A0e5C4F27eAD9083C756Cc2",
         "100.0",
         "107.21905418938204",
         "['0xdb74dfdd3bb46be8ce6c33dc9d82777bcfc3ded5', '0x88794c65550deb6b4087b7552ecf295113794410', '0x6951bdc4734b9f7f3e1b74afebc670c736a0edb6', '0x57c23c58b1d8c3292c15becf07c62c5c52457a42', '0xc8eb2cf2f792f77af0cd9e203305a585e588179d', '0x59ab5a5b5d617e478a2479b0cad80da7e2831492', '0x6b31a94029fd7840d780191b6d63fa0d269bd883', '0xe080027bd47353b5d1639772b4a75e9ed3658a0d']",
         "10.0",
         "Odos",
         "2025-08-12 19:37:19.083326+00:00",
         "0",
         "74998f2d-e6c5-46b6-be0d-061ed75f56ac"
        ],
        [
         "16",
         "1",
         "0x865377367054516e17014CcdED1e7d814EDC9ce4",
         "odos",
         "0xb45ad160634c528Cc3D2926d9807104FA3157305",
         "0x865377367054516e17014CcdED1e7d814EDC9ce4",
         "200000.0",
         "229828.08655316723",
         "['0x6691dbb44154a9f23f8357c56fc9ff5548a8bdc4', '0x48d670d189b4b48757992d36897bca6e3f889040', '0x76a962ba6770068bcf454d34dde17175611e6637', '0x460638e6f7605b866736e38045c0de8294d7d87f']",
         "10.0",
         "Odos",
         "2025-08-12 19:35:22.345567+00:00",
         "0",
         "d5fe1a78-d8da-4f3b-a56d-a3b44c2f79e4"
        ],
        [
         "17",
         "1",
         "0xC02aaA39b223FE8D0A0e5C4F27eAD9083C756Cc2",
         "tokemak",
         "0xCd5fE23C85820F7B72D0926FC9b05b43E359b7ee",
         "0xC02aaA39b223FE8D0A0e5C4F27eAD9083C756Cc2",
         "150.0",
         "160.82672461117798",
         null,
         "10.0",
         "Odos",
         "2025-08-12 19:36:17.338653+00:00",
         "0",
         "cef91cbc-8971-4679-985e-fa1346dbae40"
        ],
        [
         "18",
         "1",
         "0xC02aaA39b223FE8D0A0e5C4F27eAD9083C756Cc2",
         "tokemak",
         "0xbf5495Efe5DB9ce00f80364C8B423567e58d2110",
         "0xC02aaA39b223FE8D0A0e5C4F27eAD9083C756Cc2",
         "375.0",
         "395.20292715350837",
         null,
         "10.0",
         "Odos",
         "2025-08-12 19:37:07.306560+00:00",
         "0",
         "09adc3e9-3431-469f-b9ba-aea1b8ad75ab"
        ],
        [
         "19",
         "1",
         "0xC02aaA39b223FE8D0A0e5C4F27eAD9083C756Cc2",
         "odos",
         "0x04C154b66CB340F3Ae24111CC767e0184Ed00Cc6",
         "0xC02aaA39b223FE8D0A0e5C4F27eAD9083C756Cc2",
         "200.0",
         "198.72535692963712",
         "['0xdb74dfdd3bb46be8ce6c33dc9d82777bcfc3ded5', '0x88794c65550deb6b4087b7552ecf295113794410', '0x6951bdc4734b9f7f3e1b74afebc670c736a0edb6', '0x57c23c58b1d8c3292c15becf07c62c5c52457a42', '0xc8eb2cf2f792f77af0cd9e203305a585e588179d', '0x59ab5a5b5d617e478a2479b0cad80da7e2831492', '0x6b31a94029fd7840d780191b6d63fa0d269bd883', '0xe080027bd47353b5d1639772b4a75e9ed3658a0d']",
         "10.0",
         "Odos",
         "2025-08-12 19:37:56.459750+00:00",
         "0",
         "c11d1b49-62cd-40e8-92b2-7f3c24cdaf7d"
        ],
        [
         "20",
         "8453",
         "0x4200000000000000000000000000000000000006",
         "odos",
         "0x04C0599Ae5A44757c0af6F9eC3b93da8976c150A",
         "0x4200000000000000000000000000000000000006",
         "25.0",
         "26.808272623431666",
         "['0xb7b8b3afc010169779c5c2385ec0eb0477fe3347', '0x54d86e177cdc664b5f9b17eb5fd6a76fa529e466']",
         "10.0",
         "Odos",
         "2025-08-12 19:36:06.827818+00:00",
         "0",
         "6347a40e-c4b7-4bea-8b7d-e33ced7c47d8"
        ],
        [
         "21",
         "8453",
         "0x4200000000000000000000000000000000000006",
         "odos",
         "0xc1CBa3fCea344f92D9239c08C0568f6F2F0ee452",
         "0x4200000000000000000000000000000000000006",
         "350.0",
         "422.5661089660423",
         "['0xb7b8b3afc010169779c5c2385ec0eb0477fe3347', '0x54d86e177cdc664b5f9b17eb5fd6a76fa529e466']",
         "10.0",
         "Odos",
         "2025-08-12 19:37:14.481289+00:00",
         "0",
         "66dc6fe7-c406-4658-bc56-eca8fd862f98"
        ],
        [
         "22",
         "1",
         "0xC02aaA39b223FE8D0A0e5C4F27eAD9083C756Cc2",
         "odos",
         "0x7f39C581F595B53c5cb19bD0b3f8dA6c935E2Ca0",
         "0xC02aaA39b223FE8D0A0e5C4F27eAD9083C756Cc2",
         "250.0",
         "302.22244474674005",
         "['0xdb74dfdd3bb46be8ce6c33dc9d82777bcfc3ded5', '0x88794c65550deb6b4087b7552ecf295113794410', '0x6951bdc4734b9f7f3e1b74afebc670c736a0edb6', '0x57c23c58b1d8c3292c15becf07c62c5c52457a42', '0xc8eb2cf2f792f77af0cd9e203305a585e588179d', '0x59ab5a5b5d617e478a2479b0cad80da7e2831492', '0x6b31a94029fd7840d780191b6d63fa0d269bd883', '0xe080027bd47353b5d1639772b4a75e9ed3658a0d']",
         "10.0",
         "Odos",
         "2025-08-12 19:38:11.856549+00:00",
         "0",
         "78b62f61-29aa-44a0-865a-12aaca057698"
        ],
        [
         "23",
         "1",
         "0xC02aaA39b223FE8D0A0e5C4F27eAD9083C756Cc2",
         "odos",
         "0x7f39C581F595B53c5cb19bD0b3f8dA6c935E2Ca0",
         "0xC02aaA39b223FE8D0A0e5C4F27eAD9083C756Cc2",
         "100.0",
         "120.89023075135667",
         "['0xdb74dfdd3bb46be8ce6c33dc9d82777bcfc3ded5', '0x88794c65550deb6b4087b7552ecf295113794410', '0x6951bdc4734b9f7f3e1b74afebc670c736a0edb6', '0x57c23c58b1d8c3292c15becf07c62c5c52457a42', '0xc8eb2cf2f792f77af0cd9e203305a585e588179d', '0x59ab5a5b5d617e478a2479b0cad80da7e2831492', '0x6b31a94029fd7840d780191b6d63fa0d269bd883', '0xe080027bd47353b5d1639772b4a75e9ed3658a0d']",
         "10.0",
         "Odos",
         "2025-08-12 19:37:15.018942+00:00",
         "0",
         "1ca47a3a-bd1f-465e-9a76-3be35bb79f04"
        ],
        [
         "24",
         "8453",
         "0x4200000000000000000000000000000000000006",
         "tokemak",
         "0x2Ae3F1Ec7F1F5012CFEab0185bfc7aa3cf0DEc22",
         "0x4200000000000000000000000000000000000006",
         "25.0",
         "27.498055206603063",
         null,
         "10.0",
         "Lifi",
         "2025-08-12 19:37:04.953136+00:00",
         "0",
         "cbff0dda-b0b0-4532-a0d0-322d1203a198"
        ],
        [
         "25",
         "1",
         "0xA0b86991c6218b36c1d19D4a2e9Eb0cE3606eB48",
         "odos",
         "0x0655977FEb2f289A4aB78af67BAB0d17aAb84367",
         "0xA0b86991c6218b36c1d19D4a2e9Eb0cE3606eB48",
         "200000.0",
         "211821.150145",
         "['0xfd1627e3f3469c8392c8c3a261d8f0677586e5e1', '0x85b2b559bc2d21104c4defdd6efca8a20343361d', '0x57064f49ad7123c92560882a45518374ad982e85']",
         "10.0",
         "Odos",
         "2025-08-12 19:34:23.257856+00:00",
         "0",
         "e27569a4-eec3-4cc3-9d5d-4bf7321582e9"
        ],
        [
         "26",
         "1",
         "0x865377367054516e17014CcdED1e7d814EDC9ce4",
         "tokemak",
         "0xb45ad160634c528Cc3D2926d9807104FA3157305",
         "0x865377367054516e17014CcdED1e7d814EDC9ce4",
         "600000.0",
         "689484.3863710639",
         null,
         "10.0",
         "4626",
         "2025-08-12 19:36:12.421450+00:00",
         "0",
         "77d1ccc2-d35b-48aa-893f-eb31973201b5"
        ],
        [
         "27",
         "1",
         "0xC02aaA39b223FE8D0A0e5C4F27eAD9083C756Cc2",
         "odos",
         "0xCd5fE23C85820F7B72D0926FC9b05b43E359b7ee",
         "0xC02aaA39b223FE8D0A0e5C4F27eAD9083C756Cc2",
         "275.0",
         "294.831011126611",
         "['0xdb74dfdd3bb46be8ce6c33dc9d82777bcfc3ded5', '0x88794c65550deb6b4087b7552ecf295113794410', '0x6951bdc4734b9f7f3e1b74afebc670c736a0edb6', '0x57c23c58b1d8c3292c15becf07c62c5c52457a42', '0xc8eb2cf2f792f77af0cd9e203305a585e588179d', '0x59ab5a5b5d617e478a2479b0cad80da7e2831492', '0x6b31a94029fd7840d780191b6d63fa0d269bd883', '0xe080027bd47353b5d1639772b4a75e9ed3658a0d']",
         "10.0",
         "Odos",
         "2025-08-12 19:33:45.185091+00:00",
         "0",
         "1da8bbf5-4fd6-406c-9306-64091d27bb9a"
        ],
        [
         "28",
         "1",
         "0x865377367054516e17014CcdED1e7d814EDC9ce4",
         "tokemak",
         "0x15700B564Ca08D9439C58cA5053166E8317aa138",
         "0x865377367054516e17014CcdED1e7d814EDC9ce4",
         "100000.0",
         "100171.9033337807",
         null,
         "10.0",
         "Odos",
         "2025-08-12 19:35:23.149439+00:00",
         "0",
         "b53fc032-958a-4241-9a73-adda4577ce32"
        ],
        [
         "29",
         "1",
         "0xC02aaA39b223FE8D0A0e5C4F27eAD9083C756Cc2",
         "odos",
         "0x04C154b66CB340F3Ae24111CC767e0184Ed00Cc6",
         "0xC02aaA39b223FE8D0A0e5C4F27eAD9083C756Cc2",
         "5.0",
         "4.979342009142102",
         "['0xdb74dfdd3bb46be8ce6c33dc9d82777bcfc3ded5', '0x88794c65550deb6b4087b7552ecf295113794410', '0x6951bdc4734b9f7f3e1b74afebc670c736a0edb6', '0x57c23c58b1d8c3292c15becf07c62c5c52457a42', '0xc8eb2cf2f792f77af0cd9e203305a585e588179d', '0x59ab5a5b5d617e478a2479b0cad80da7e2831492', '0x6b31a94029fd7840d780191b6d63fa0d269bd883', '0xe080027bd47353b5d1639772b4a75e9ed3658a0d']",
         "10.0",
         "Odos",
         "2025-08-12 19:34:10.235098+00:00",
         "0",
         "bd99904e-caaf-4b5c-aa4b-e2ce298fa18e"
        ],
        [
         "30",
         "1",
         "0xC02aaA39b223FE8D0A0e5C4F27eAD9083C756Cc2",
         "odos",
         "0xae78736Cd615f374D3085123A210448E74Fc6393",
         "0xC02aaA39b223FE8D0A0e5C4F27eAD9083C756Cc2",
         "200.0",
         "227.15579966603534",
         "['0xdb74dfdd3bb46be8ce6c33dc9d82777bcfc3ded5', '0x88794c65550deb6b4087b7552ecf295113794410', '0x6951bdc4734b9f7f3e1b74afebc670c736a0edb6', '0x57c23c58b1d8c3292c15becf07c62c5c52457a42', '0xc8eb2cf2f792f77af0cd9e203305a585e588179d', '0x59ab5a5b5d617e478a2479b0cad80da7e2831492', '0x6b31a94029fd7840d780191b6d63fa0d269bd883', '0xe080027bd47353b5d1639772b4a75e9ed3658a0d']",
         "10.0",
         "Odos",
         "2025-08-12 19:37:59.821050+00:00",
         "0",
         "5a8561bb-e7ff-4431-9640-ff6d52c34e59"
        ],
        [
         "31",
         "8453",
         "0x4200000000000000000000000000000000000006",
         "tokemak",
         "0xc1CBa3fCea344f92D9239c08C0568f6F2F0ee452",
         "0x4200000000000000000000000000000000000006",
         "300.0",
         "361.2943054395971",
         null,
         "10.0",
         "Lifi",
         "2025-08-12 19:37:48.937397+00:00",
         "0",
         "c8b68ca3-f4f7-456b-b8eb-313d04ac4065"
        ],
        [
         "32",
         "1",
         "0x865377367054516e17014CcdED1e7d814EDC9ce4",
         "tokemak",
         "0x57aB1E0003F623289CD798B1824Be09a793e4Bec",
         "0x865377367054516e17014CcdED1e7d814EDC9ce4",
         "400000.0",
         "396480.2094138797",
         null,
         "10.0",
         "Odos",
         "2025-08-12 19:35:47.335375+00:00",
         "0",
         "4eb31f2e-c42c-4b80-8573-e2de24a305f0"
        ],
        [
         "33",
         "1",
         "0xA0b86991c6218b36c1d19D4a2e9Eb0cE3606eB48",
         "tokemak",
         "0x40D16FC0246aD3160Ccc09B8D0D3A2cD28aE6C2f",
         "0xA0b86991c6218b36c1d19D4a2e9Eb0cE3606eB48",
         "300000.0",
         "299898.258594",
         null,
         "10.0",
         "Odos",
         "2025-08-12 19:33:58.686239+00:00",
         "0",
         "6e8e815e-a8ff-4a0d-8195-3bf1f16d607e"
        ],
        [
         "34",
         "8453",
         "0x4200000000000000000000000000000000000006",
         "odos",
         "0x2Ae3F1Ec7F1F5012CFEab0185bfc7aa3cf0DEc22",
         "0x4200000000000000000000000000000000000006",
         "200.0",
         "220.52132579556675",
         "['0xb7b8b3afc010169779c5c2385ec0eb0477fe3347', '0x54d86e177cdc664b5f9b17eb5fd6a76fa529e466']",
         "10.0",
         "Odos",
         "2025-08-12 19:36:31.774655+00:00",
         "0",
         "ce586287-c031-4584-ba5e-a99c594613b5"
        ],
        [
         "35",
         "1",
         "0x865377367054516e17014CcdED1e7d814EDC9ce4",
         "tokemak",
         "0x0655977FEb2f289A4aB78af67BAB0d17aAb84367",
         "0x865377367054516e17014CcdED1e7d814EDC9ce4",
         "1000000.0",
         "1060842.0686495225",
         null,
         "10.0",
         "4626",
         "2025-08-12 19:36:49.653347+00:00",
         "0",
         "9a5f87ec-4386-419c-a71c-267db981b443"
        ],
        [
         "36",
         "1",
         "0xC02aaA39b223FE8D0A0e5C4F27eAD9083C756Cc2",
         "odos",
         "0xA35b1B31Ce002FBF2058D22F30f95D405200A15b",
         "0xC02aaA39b223FE8D0A0e5C4F27eAD9083C756Cc2",
         "100.0",
         "47.959596748286614",
         "['0xdb74dfdd3bb46be8ce6c33dc9d82777bcfc3ded5', '0x88794c65550deb6b4087b7552ecf295113794410', '0x6951bdc4734b9f7f3e1b74afebc670c736a0edb6', '0x57c23c58b1d8c3292c15becf07c62c5c52457a42', '0xc8eb2cf2f792f77af0cd9e203305a585e588179d', '0x59ab5a5b5d617e478a2479b0cad80da7e2831492', '0x6b31a94029fd7840d780191b6d63fa0d269bd883', '0xe080027bd47353b5d1639772b4a75e9ed3658a0d']",
         "10.0",
         "Odos",
         "2025-08-12 19:37:15.205856+00:00",
         "0",
         "b424bdee-a42a-469f-b18e-986f121f53a9"
        ],
        [
         "37",
         "8453",
         "0x4200000000000000000000000000000000000006",
         "tokemak",
         "0x2Ae3F1Ec7F1F5012CFEab0185bfc7aa3cf0DEc22",
         "0x4200000000000000000000000000000000000006",
         "75.0",
         "82.49199929057674",
         null,
         "10.0",
         "Lifi",
         "2025-08-12 19:37:17.344261+00:00",
         "0",
         "8679617e-d16f-4ddf-a8d6-c6c800427794"
        ],
        [
         "38",
         "1",
         "0xA0b86991c6218b36c1d19D4a2e9Eb0cE3606eB48",
         "tokemak",
         "0xf939E0A03FB07F59A73314E73794Be0E57ac1b4E",
         "0xA0b86991c6218b36c1d19D4a2e9Eb0cE3606eB48",
         "600000.0",
         "599947.180339",
         null,
         "10.0",
         "Odos",
         "2025-08-12 19:34:32.964456+00:00",
         "0",
         "79ebc674-caaa-4643-824a-37ab89d289fe"
        ],
        [
         "39",
         "8453",
         "0x4200000000000000000000000000000000000006",
         "odos",
         "0x2Ae3F1Ec7F1F5012CFEab0185bfc7aa3cf0DEc22",
         "0x4200000000000000000000000000000000000006",
         "300.0",
         "330.7758889769582",
         "['0xb7b8b3afc010169779c5c2385ec0eb0477fe3347', '0x54d86e177cdc664b5f9b17eb5fd6a76fa529e466']",
         "10.0",
         "Odos",
         "2025-08-12 19:36:59.021004+00:00",
         "0",
         "5592aa5e-2e9f-4854-89e6-1e756b384e13"
        ],
        [
         "40",
         "1",
         "0x865377367054516e17014CcdED1e7d814EDC9ce4",
         "odos",
         "0x0655977FEb2f289A4aB78af67BAB0d17aAb84367",
         "0x865377367054516e17014CcdED1e7d814EDC9ce4",
         "900000.0",
         "954534.8019491711",
         "['0x6691dbb44154a9f23f8357c56fc9ff5548a8bdc4', '0x48d670d189b4b48757992d36897bca6e3f889040', '0x76a962ba6770068bcf454d34dde17175611e6637', '0x460638e6f7605b866736e38045c0de8294d7d87f']",
         "10.0",
         "Odos",
         "2025-08-12 19:35:52.350294+00:00",
         "0",
         "7f5aaceb-9582-4e0c-b57b-85c3bc34b211"
        ],
        [
         "41",
         "1",
         "0xA0b86991c6218b36c1d19D4a2e9Eb0cE3606eB48",
         "odos",
         "0x9D39A5DE30e57443BfF2A8307A4256c8797A3497",
         "0xA0b86991c6218b36c1d19D4a2e9Eb0cE3606eB48",
         "200000.0",
         "237374.764822",
         "['0xfd1627e3f3469c8392c8c3a261d8f0677586e5e1', '0x85b2b559bc2d21104c4defdd6efca8a20343361d', '0x57064f49ad7123c92560882a45518374ad982e85']",
         "10.0",
         "Odos",
         "2025-08-12 19:34:26.162064+00:00",
         "0",
         "d432cda1-fab3-4fac-b542-fd131eca85da"
        ],
        [
         "42",
         "1",
         "0xC02aaA39b223FE8D0A0e5C4F27eAD9083C756Cc2",
         "odos",
         "0xae7ab96520DE3A18E5e111B5EaAb095312D7fE84",
         "0xC02aaA39b223FE8D0A0e5C4F27eAD9083C756Cc2",
         "25.0",
         "24.961915617492156",
         "['0xdb74dfdd3bb46be8ce6c33dc9d82777bcfc3ded5', '0x88794c65550deb6b4087b7552ecf295113794410', '0x6951bdc4734b9f7f3e1b74afebc670c736a0edb6', '0x57c23c58b1d8c3292c15becf07c62c5c52457a42', '0xc8eb2cf2f792f77af0cd9e203305a585e588179d', '0x59ab5a5b5d617e478a2479b0cad80da7e2831492', '0x6b31a94029fd7840d780191b6d63fa0d269bd883', '0xe080027bd47353b5d1639772b4a75e9ed3658a0d']",
         "10.0",
         "Odos",
         "2025-08-12 19:36:41.297066+00:00",
         "0",
         "c8cf4a7b-8303-4a45-8ab3-767d62913487"
        ],
        [
         "43",
         "8453",
         "0x4200000000000000000000000000000000000006",
         "odos",
         "0xc1CBa3fCea344f92D9239c08C0568f6F2F0ee452",
         "0x4200000000000000000000000000000000000006",
         "75.0",
         "90.55093791716403",
         "['0xb7b8b3afc010169779c5c2385ec0eb0477fe3347', '0x54d86e177cdc664b5f9b17eb5fd6a76fa529e466']",
         "10.0",
         "Odos",
         "2025-08-12 19:36:16.155250+00:00",
         "0",
         "daa2723c-5951-40f9-92e8-b885f7197443"
        ],
        [
         "44",
         "1",
         "0x865377367054516e17014CcdED1e7d814EDC9ce4",
         "tokemak",
         "0x15700B564Ca08D9439C58cA5053166E8317aa138",
         "0x865377367054516e17014CcdED1e7d814EDC9ce4",
         "500000.0",
         "500592.5190485359",
         null,
         "10.0",
         "Odos",
         "2025-08-12 19:35:55.731763+00:00",
         "0",
         "31599d49-d3f0-499e-8ce4-924898c4b606"
        ],
        [
         "45",
         "1",
         "0xC02aaA39b223FE8D0A0e5C4F27eAD9083C756Cc2",
         "tokemak",
         "0xCd5fE23C85820F7B72D0926FC9b05b43E359b7ee",
         "0xC02aaA39b223FE8D0A0e5C4F27eAD9083C756Cc2",
         "175.0",
         "187.62920273280508",
         null,
         "10.0",
         "Odos",
         "2025-08-12 19:35:26.014280+00:00",
         "0",
         "133df624-43ef-4934-8c1f-469744dff6b3"
        ],
        [
         "46",
         "1",
         "0xA0b86991c6218b36c1d19D4a2e9Eb0cE3606eB48",
         "tokemak",
         "0x40D16FC0246aD3160Ccc09B8D0D3A2cD28aE6C2f",
         "0xA0b86991c6218b36c1d19D4a2e9Eb0cE3606eB48",
         "700000.0",
         "699745.611651",
         null,
         "10.0",
         "Odos",
         "2025-08-12 19:34:35.353528+00:00",
         "0",
         "f9236c5d-1fbd-4828-955c-3c4e0d0a68b7"
        ],
        [
         "47",
         "8453",
         "0x4200000000000000000000000000000000000006",
         "odos",
         "0xc1CBa3fCea344f92D9239c08C0568f6F2F0ee452",
         "0x4200000000000000000000000000000000000006",
         "150.0",
         "181.10128967534658",
         "['0xb7b8b3afc010169779c5c2385ec0eb0477fe3347', '0x54d86e177cdc664b5f9b17eb5fd6a76fa529e466']",
         "10.0",
         "Odos",
         "2025-08-12 19:36:26.202462+00:00",
         "0",
         "8e10f8bb-017d-4d42-ae45-d7a4b92294c9"
        ],
        [
         "48",
         "1",
         "0xA0b86991c6218b36c1d19D4a2e9Eb0cE3606eB48",
         "tokemak",
         "0xa3931d71877C0E7a3148CB7Eb4463524FEc27fbD",
         "0xA0b86991c6218b36c1d19D4a2e9Eb0cE3606eB48",
         "500000.0",
         "531458.027518",
         null,
         "10.0",
         "4626",
         "2025-08-12 19:34:21.478836+00:00",
         "0",
         "9347cfb1-c4a0-46ca-8f23-1dd1e4c0270a"
        ],
        [
         "49",
         "1",
         "0xC02aaA39b223FE8D0A0e5C4F27eAD9083C756Cc2",
         "odos",
         "0xA35b1B31Ce002FBF2058D22F30f95D405200A15b",
         "0xC02aaA39b223FE8D0A0e5C4F27eAD9083C756Cc2",
         "5.0",
         "5.319195016932544",
         "['0xdb74dfdd3bb46be8ce6c33dc9d82777bcfc3ded5', '0x88794c65550deb6b4087b7552ecf295113794410', '0x6951bdc4734b9f7f3e1b74afebc670c736a0edb6', '0x57c23c58b1d8c3292c15becf07c62c5c52457a42', '0xc8eb2cf2f792f77af0cd9e203305a585e588179d', '0x59ab5a5b5d617e478a2479b0cad80da7e2831492', '0x6b31a94029fd7840d780191b6d63fa0d269bd883', '0xe080027bd47353b5d1639772b4a75e9ed3658a0d']",
         "10.0",
         "Odos",
         "2025-08-12 19:34:11.855333+00:00",
         "0",
         "a52e2cd2-c8f9-4952-9364-62cb43bf7bfc"
        ]
       ],
       "shape": {
        "columns": 13,
        "rows": 70230
       }
      },
      "text/html": [
       "<div>\n",
       "<style scoped>\n",
       "    .dataframe tbody tr th:only-of-type {\n",
       "        vertical-align: middle;\n",
       "    }\n",
       "\n",
       "    .dataframe tbody tr th {\n",
       "        vertical-align: top;\n",
       "    }\n",
       "\n",
       "    .dataframe thead th {\n",
       "        text-align: right;\n",
       "    }\n",
       "</style>\n",
       "<table border=\"1\" class=\"dataframe\">\n",
       "  <thead>\n",
       "    <tr style=\"text-align: right;\">\n",
       "      <th></th>\n",
       "      <th>chain_id</th>\n",
       "      <th>base_asset</th>\n",
       "      <th>api_name</th>\n",
       "      <th>sell_token_address</th>\n",
       "      <th>buy_token_address</th>\n",
       "      <th>scaled_amount_in</th>\n",
       "      <th>scaled_amount_out</th>\n",
       "      <th>pools_blacklist</th>\n",
       "      <th>percent_exclude_threshold</th>\n",
       "      <th>aggregator_name</th>\n",
       "      <th>datetime_received</th>\n",
       "      <th>quote_batch</th>\n",
       "      <th>id</th>\n",
       "    </tr>\n",
       "  </thead>\n",
       "  <tbody>\n",
       "    <tr>\n",
       "      <th>0</th>\n",
       "      <td>8453</td>\n",
       "      <td>0x4200000000000000000000000000000000000006</td>\n",
       "      <td>odos</td>\n",
       "      <td>0x2Ae3F1Ec7F1F5012CFEab0185bfc7aa3cf0DEc22</td>\n",
       "      <td>0x4200000000000000000000000000000000000006</td>\n",
       "      <td>375.0</td>\n",
       "      <td>4.134614e+02</td>\n",
       "      <td>['0xb7b8b3afc010169779c5c2385ec0eb0477fe3347',...</td>\n",
       "      <td>10.0</td>\n",
       "      <td>Odos</td>\n",
       "      <td>2025-08-12 19:37:18.059929+00:00</td>\n",
       "      <td>0</td>\n",
       "      <td>2757a036-6a69-4894-9a75-09d3330716d9</td>\n",
       "    </tr>\n",
       "    <tr>\n",
       "      <th>1</th>\n",
       "      <td>1</td>\n",
       "      <td>0x865377367054516e17014CcdED1e7d814EDC9ce4</td>\n",
       "      <td>odos</td>\n",
       "      <td>0x15700B564Ca08D9439C58cA5053166E8317aa138</td>\n",
       "      <td>0x865377367054516e17014CcdED1e7d814EDC9ce4</td>\n",
       "      <td>400000.0</td>\n",
       "      <td>4.006290e+05</td>\n",
       "      <td>['0x6691dbb44154a9f23f8357c56fc9ff5548a8bdc4',...</td>\n",
       "      <td>10.0</td>\n",
       "      <td>Odos</td>\n",
       "      <td>2025-08-12 19:35:29.938495+00:00</td>\n",
       "      <td>0</td>\n",
       "      <td>1ff8557b-c5c4-4be8-ac2f-20ff5d810729</td>\n",
       "    </tr>\n",
       "    <tr>\n",
       "      <th>2</th>\n",
       "      <td>1</td>\n",
       "      <td>0xC02aaA39b223FE8D0A0e5C4F27eAD9083C756Cc2</td>\n",
       "      <td>odos</td>\n",
       "      <td>0xA35b1B31Ce002FBF2058D22F30f95D405200A15b</td>\n",
       "      <td>0xC02aaA39b223FE8D0A0e5C4F27eAD9083C756Cc2</td>\n",
       "      <td>275.0</td>\n",
       "      <td>4.797961e+01</td>\n",
       "      <td>['0xdb74dfdd3bb46be8ce6c33dc9d82777bcfc3ded5',...</td>\n",
       "      <td>10.0</td>\n",
       "      <td>Odos</td>\n",
       "      <td>2025-08-12 19:33:45.758044+00:00</td>\n",
       "      <td>0</td>\n",
       "      <td>8dacd74d-7361-4bd7-8e7a-6ffe18733429</td>\n",
       "    </tr>\n",
       "    <tr>\n",
       "      <th>3</th>\n",
       "      <td>1</td>\n",
       "      <td>0xC02aaA39b223FE8D0A0e5C4F27eAD9083C756Cc2</td>\n",
       "      <td>tokemak</td>\n",
       "      <td>0xbf5495Efe5DB9ce00f80364C8B423567e58d2110</td>\n",
       "      <td>0xC02aaA39b223FE8D0A0e5C4F27eAD9083C756Cc2</td>\n",
       "      <td>75.0</td>\n",
       "      <td>7.904743e+01</td>\n",
       "      <td>None</td>\n",
       "      <td>10.0</td>\n",
       "      <td>Odos</td>\n",
       "      <td>2025-08-12 19:34:24.562109+00:00</td>\n",
       "      <td>0</td>\n",
       "      <td>ba159138-9908-47af-9c71-686afb83ca75</td>\n",
       "    </tr>\n",
       "    <tr>\n",
       "      <th>4</th>\n",
       "      <td>1</td>\n",
       "      <td>0x865377367054516e17014CcdED1e7d814EDC9ce4</td>\n",
       "      <td>tokemak</td>\n",
       "      <td>0x57aB1E0003F623289CD798B1824Be09a793e4Bec</td>\n",
       "      <td>0x865377367054516e17014CcdED1e7d814EDC9ce4</td>\n",
       "      <td>800000.0</td>\n",
       "      <td>7.926348e+05</td>\n",
       "      <td>None</td>\n",
       "      <td>10.0</td>\n",
       "      <td>Odos</td>\n",
       "      <td>2025-08-12 19:36:26.593524+00:00</td>\n",
       "      <td>0</td>\n",
       "      <td>74eac004-5334-4d70-8263-264586e0b0d8</td>\n",
       "    </tr>\n",
       "    <tr>\n",
       "      <th>...</th>\n",
       "      <td>...</td>\n",
       "      <td>...</td>\n",
       "      <td>...</td>\n",
       "      <td>...</td>\n",
       "      <td>...</td>\n",
       "      <td>...</td>\n",
       "      <td>...</td>\n",
       "      <td>...</td>\n",
       "      <td>...</td>\n",
       "      <td>...</td>\n",
       "      <td>...</td>\n",
       "      <td>...</td>\n",
       "      <td>...</td>\n",
       "    </tr>\n",
       "    <tr>\n",
       "      <th>70225</th>\n",
       "      <td>1</td>\n",
       "      <td>0x865377367054516e17014CcdED1e7d814EDC9ce4</td>\n",
       "      <td>odos</td>\n",
       "      <td>0x9D39A5DE30e57443BfF2A8307A4256c8797A3497</td>\n",
       "      <td>0x865377367054516e17014CcdED1e7d814EDC9ce4</td>\n",
       "      <td>900000.0</td>\n",
       "      <td>1.070681e+06</td>\n",
       "      <td>None</td>\n",
       "      <td>99.0</td>\n",
       "      <td>Odos</td>\n",
       "      <td>2025-08-15 14:31:26.751341+00:00</td>\n",
       "      <td>47</td>\n",
       "      <td>de3b59aa-8ce7-484d-8572-b8c261e428c6</td>\n",
       "    </tr>\n",
       "    <tr>\n",
       "      <th>70226</th>\n",
       "      <td>1</td>\n",
       "      <td>0x865377367054516e17014CcdED1e7d814EDC9ce4</td>\n",
       "      <td>odos</td>\n",
       "      <td>0x9D39A5DE30e57443BfF2A8307A4256c8797A3497</td>\n",
       "      <td>0x865377367054516e17014CcdED1e7d814EDC9ce4</td>\n",
       "      <td>200000.0</td>\n",
       "      <td>2.379412e+05</td>\n",
       "      <td>None</td>\n",
       "      <td>99.0</td>\n",
       "      <td>Odos</td>\n",
       "      <td>2025-08-15 14:32:37.972229+00:00</td>\n",
       "      <td>47</td>\n",
       "      <td>5737b458-3abc-454d-919d-389f0c4a8ce9</td>\n",
       "    </tr>\n",
       "    <tr>\n",
       "      <th>70227</th>\n",
       "      <td>1</td>\n",
       "      <td>0x865377367054516e17014CcdED1e7d814EDC9ce4</td>\n",
       "      <td>tokemak</td>\n",
       "      <td>0x9D39A5DE30e57443BfF2A8307A4256c8797A3497</td>\n",
       "      <td>0x865377367054516e17014CcdED1e7d814EDC9ce4</td>\n",
       "      <td>700000.0</td>\n",
       "      <td>8.351777e+05</td>\n",
       "      <td>None</td>\n",
       "      <td>99.0</td>\n",
       "      <td>4626</td>\n",
       "      <td>2025-08-15 14:32:23.970367+00:00</td>\n",
       "      <td>47</td>\n",
       "      <td>a57ac628-5246-4e33-a392-26ba0f224d3a</td>\n",
       "    </tr>\n",
       "    <tr>\n",
       "      <th>70228</th>\n",
       "      <td>1</td>\n",
       "      <td>0xC02aaA39b223FE8D0A0e5C4F27eAD9083C756Cc2</td>\n",
       "      <td>odos</td>\n",
       "      <td>0x7f39C581F595B53c5cb19bD0b3f8dA6c935E2Ca0</td>\n",
       "      <td>0xC02aaA39b223FE8D0A0e5C4F27eAD9083C756Cc2</td>\n",
       "      <td>75.0</td>\n",
       "      <td>9.063000e+01</td>\n",
       "      <td>None</td>\n",
       "      <td>99.0</td>\n",
       "      <td>Odos</td>\n",
       "      <td>2025-08-15 14:40:27.493884+00:00</td>\n",
       "      <td>47</td>\n",
       "      <td>17a96f82-b7d1-4ea1-bf7f-f295241358ae</td>\n",
       "    </tr>\n",
       "    <tr>\n",
       "      <th>70229</th>\n",
       "      <td>1</td>\n",
       "      <td>0x865377367054516e17014CcdED1e7d814EDC9ce4</td>\n",
       "      <td>odos</td>\n",
       "      <td>0x9D39A5DE30e57443BfF2A8307A4256c8797A3497</td>\n",
       "      <td>0x865377367054516e17014CcdED1e7d814EDC9ce4</td>\n",
       "      <td>500000.0</td>\n",
       "      <td>5.948397e+05</td>\n",
       "      <td>None</td>\n",
       "      <td>99.0</td>\n",
       "      <td>Odos</td>\n",
       "      <td>2025-08-15 14:30:16.891207+00:00</td>\n",
       "      <td>47</td>\n",
       "      <td>9bdf7b08-97b9-462d-a1df-2f1fff21a62f</td>\n",
       "    </tr>\n",
       "  </tbody>\n",
       "</table>\n",
       "<p>70230 rows × 13 columns</p>\n",
       "</div>"
      ],
      "text/plain": [
       "       chain_id                                  base_asset api_name  \\\n",
       "0          8453  0x4200000000000000000000000000000000000006     odos   \n",
       "1             1  0x865377367054516e17014CcdED1e7d814EDC9ce4     odos   \n",
       "2             1  0xC02aaA39b223FE8D0A0e5C4F27eAD9083C756Cc2     odos   \n",
       "3             1  0xC02aaA39b223FE8D0A0e5C4F27eAD9083C756Cc2  tokemak   \n",
       "4             1  0x865377367054516e17014CcdED1e7d814EDC9ce4  tokemak   \n",
       "...         ...                                         ...      ...   \n",
       "70225         1  0x865377367054516e17014CcdED1e7d814EDC9ce4     odos   \n",
       "70226         1  0x865377367054516e17014CcdED1e7d814EDC9ce4     odos   \n",
       "70227         1  0x865377367054516e17014CcdED1e7d814EDC9ce4  tokemak   \n",
       "70228         1  0xC02aaA39b223FE8D0A0e5C4F27eAD9083C756Cc2     odos   \n",
       "70229         1  0x865377367054516e17014CcdED1e7d814EDC9ce4     odos   \n",
       "\n",
       "                               sell_token_address  \\\n",
       "0      0x2Ae3F1Ec7F1F5012CFEab0185bfc7aa3cf0DEc22   \n",
       "1      0x15700B564Ca08D9439C58cA5053166E8317aa138   \n",
       "2      0xA35b1B31Ce002FBF2058D22F30f95D405200A15b   \n",
       "3      0xbf5495Efe5DB9ce00f80364C8B423567e58d2110   \n",
       "4      0x57aB1E0003F623289CD798B1824Be09a793e4Bec   \n",
       "...                                           ...   \n",
       "70225  0x9D39A5DE30e57443BfF2A8307A4256c8797A3497   \n",
       "70226  0x9D39A5DE30e57443BfF2A8307A4256c8797A3497   \n",
       "70227  0x9D39A5DE30e57443BfF2A8307A4256c8797A3497   \n",
       "70228  0x7f39C581F595B53c5cb19bD0b3f8dA6c935E2Ca0   \n",
       "70229  0x9D39A5DE30e57443BfF2A8307A4256c8797A3497   \n",
       "\n",
       "                                buy_token_address  scaled_amount_in  \\\n",
       "0      0x4200000000000000000000000000000000000006             375.0   \n",
       "1      0x865377367054516e17014CcdED1e7d814EDC9ce4          400000.0   \n",
       "2      0xC02aaA39b223FE8D0A0e5C4F27eAD9083C756Cc2             275.0   \n",
       "3      0xC02aaA39b223FE8D0A0e5C4F27eAD9083C756Cc2              75.0   \n",
       "4      0x865377367054516e17014CcdED1e7d814EDC9ce4          800000.0   \n",
       "...                                           ...               ...   \n",
       "70225  0x865377367054516e17014CcdED1e7d814EDC9ce4          900000.0   \n",
       "70226  0x865377367054516e17014CcdED1e7d814EDC9ce4          200000.0   \n",
       "70227  0x865377367054516e17014CcdED1e7d814EDC9ce4          700000.0   \n",
       "70228  0xC02aaA39b223FE8D0A0e5C4F27eAD9083C756Cc2              75.0   \n",
       "70229  0x865377367054516e17014CcdED1e7d814EDC9ce4          500000.0   \n",
       "\n",
       "       scaled_amount_out                                    pools_blacklist  \\\n",
       "0           4.134614e+02  ['0xb7b8b3afc010169779c5c2385ec0eb0477fe3347',...   \n",
       "1           4.006290e+05  ['0x6691dbb44154a9f23f8357c56fc9ff5548a8bdc4',...   \n",
       "2           4.797961e+01  ['0xdb74dfdd3bb46be8ce6c33dc9d82777bcfc3ded5',...   \n",
       "3           7.904743e+01                                               None   \n",
       "4           7.926348e+05                                               None   \n",
       "...                  ...                                                ...   \n",
       "70225       1.070681e+06                                               None   \n",
       "70226       2.379412e+05                                               None   \n",
       "70227       8.351777e+05                                               None   \n",
       "70228       9.063000e+01                                               None   \n",
       "70229       5.948397e+05                                               None   \n",
       "\n",
       "       percent_exclude_threshold aggregator_name  \\\n",
       "0                           10.0            Odos   \n",
       "1                           10.0            Odos   \n",
       "2                           10.0            Odos   \n",
       "3                           10.0            Odos   \n",
       "4                           10.0            Odos   \n",
       "...                          ...             ...   \n",
       "70225                       99.0            Odos   \n",
       "70226                       99.0            Odos   \n",
       "70227                       99.0            4626   \n",
       "70228                       99.0            Odos   \n",
       "70229                       99.0            Odos   \n",
       "\n",
       "                     datetime_received  quote_batch  \\\n",
       "0     2025-08-12 19:37:18.059929+00:00            0   \n",
       "1     2025-08-12 19:35:29.938495+00:00            0   \n",
       "2     2025-08-12 19:33:45.758044+00:00            0   \n",
       "3     2025-08-12 19:34:24.562109+00:00            0   \n",
       "4     2025-08-12 19:36:26.593524+00:00            0   \n",
       "...                                ...          ...   \n",
       "70225 2025-08-15 14:31:26.751341+00:00           47   \n",
       "70226 2025-08-15 14:32:37.972229+00:00           47   \n",
       "70227 2025-08-15 14:32:23.970367+00:00           47   \n",
       "70228 2025-08-15 14:40:27.493884+00:00           47   \n",
       "70229 2025-08-15 14:30:16.891207+00:00           47   \n",
       "\n",
       "                                         id  \n",
       "0      2757a036-6a69-4894-9a75-09d3330716d9  \n",
       "1      1ff8557b-c5c4-4be8-ac2f-20ff5d810729  \n",
       "2      8dacd74d-7361-4bd7-8e7a-6ffe18733429  \n",
       "3      ba159138-9908-47af-9c71-686afb83ca75  \n",
       "4      74eac004-5334-4d70-8263-264586e0b0d8  \n",
       "...                                     ...  \n",
       "70225  de3b59aa-8ce7-484d-8572-b8c261e428c6  \n",
       "70226  5737b458-3abc-454d-919d-389f0c4a8ce9  \n",
       "70227  a57ac628-5246-4e33-a392-26ba0f224d3a  \n",
       "70228  17a96f82-b7d1-4ea1-bf7f-f295241358ae  \n",
       "70229  9bdf7b08-97b9-462d-a1df-2f1fff21a62f  \n",
       "\n",
       "[70230 rows x 13 columns]"
      ]
     },
     "execution_count": 3,
     "metadata": {},
     "output_type": "execute_result"
    }
   ],
   "source": [
    "from mainnet_launch.pages.risk_metrics.exit_liqudity_quotes import (\n",
    "    _pick_a_quote_batch,\n",
    "    _load_full_quote_batch_df,\n",
    "    _augment_swap_quotes_df,\n",
    ")\n",
    "\n",
    "import plotly.express as px\n",
    "import streamlit as st\n",
    "import plotly.io as pio\n",
    "import pandas as pd\n",
    "\n",
    "pio.templates.default = \"plotly_white\"\n",
    "\n",
    "from mainnet_launch.constants import *\n",
    "\n",
    "from mainnet_launch.database.schema.full import Destinations, AutopoolDestinations, Tokens, SwapQuote\n",
    "from mainnet_launch.database.schema.postgres_operations import (\n",
    "    get_full_table_as_df,\n",
    "    get_highest_value_in_field_where,\n",
    ")\n",
    "\n",
    "from mainnet_launch.pages.risk_metrics.drop_down import render_pick_chain_and_base_asset_dropdown\n",
    "\n",
    "\n",
    "swap_quotes_df = get_full_table_as_df(\n",
    "    SwapQuote,\n",
    ")\n",
    "\n",
    "# _augment_swap_quotes_df(swap_quotes_df)\n",
    "swap_quotes_df"
   ]
  },
  {
   "cell_type": "code",
   "execution_count": 8,
   "metadata": {},
   "outputs": [],
   "source": [
    "swap_quotes_df[\"day\"] = swap_quotes_df[\"datetime_received\"].dt.date"
   ]
  },
  {
   "cell_type": "code",
   "execution_count": 9,
   "metadata": {},
   "outputs": [
    {
     "data": {
      "application/vnd.microsoft.datawrangler.viewer.v0+json": {
       "columns": [
        {
         "name": "day",
         "rawType": "object",
         "type": "unknown"
        },
        {
         "name": "count",
         "rawType": "int64",
         "type": "integer"
        }
       ],
       "ref": "f46b51c8-f469-4be1-9220-7fddf2b526a2",
       "rows": [
        [
         "2025-08-15",
         "23147"
        ],
        [
         "2025-08-14",
         "21463"
        ],
        [
         "2025-08-13",
         "21110"
        ],
        [
         "2025-08-12",
         "4510"
        ]
       ],
       "shape": {
        "columns": 1,
        "rows": 4
       }
      },
      "text/plain": [
       "day\n",
       "2025-08-15    23147\n",
       "2025-08-14    21463\n",
       "2025-08-13    21110\n",
       "2025-08-12     4510\n",
       "Name: count, dtype: int64"
      ]
     },
     "execution_count": 9,
     "metadata": {},
     "output_type": "execute_result"
    }
   ],
   "source": [
    "swap_quotes_df[\"day\"].value_counts()"
   ]
  },
  {
   "cell_type": "code",
   "execution_count": null,
   "metadata": {},
   "outputs": [
    {
     "data": {
      "application/vnd.plotly.v1+json": {
       "config": {
        "plotlyServerURL": "https://plot.ly"
       },
       "data": [
        {
         "hovertemplate": "label=alUSD - odos<br>scaled_amount_in=%{x}<br>slippage_bps=%{y}<extra></extra>",
         "legendgroup": "alUSD - odos",
         "line": {
          "color": "#636efa",
          "dash": "dash"
         },
         "marker": {
          "size": 8,
          "symbol": "x"
         },
         "mode": "lines+markers",
         "name": "alUSD - odos",
         "orientation": "v",
         "showlegend": true,
         "type": "scatter",
         "x": [
          10000,
          100000,
          200000,
          300000,
          400000,
          500000,
          600000,
          700000,
          800000,
          900000,
          1000000
         ],
         "xaxis": "x",
         "y": [
          0,
          -2.78,
          -6.13,
          -6.93,
          -8.7,
          -10.5,
          -12.33,
          -14.22,
          -16.18,
          -18.17,
          -20.26
         ],
         "yaxis": "y"
        },
        {
         "hovertemplate": "label=deUSD - odos<br>scaled_amount_in=%{x}<br>slippage_bps=%{y}<extra></extra>",
         "legendgroup": "deUSD - odos",
         "line": {
          "color": "#EF553B",
          "dash": "dash"
         },
         "marker": {
          "size": 8,
          "symbol": "x"
         },
         "mode": "lines+markers",
         "name": "deUSD - odos",
         "orientation": "v",
         "showlegend": true,
         "type": "scatter",
         "x": [
          10000,
          100000,
          200000,
          300000,
          400000,
          500000,
          600000,
          700000,
          800000,
          900000,
          1000000
         ],
         "xaxis": "x",
         "y": [
          0,
          -3.28,
          -4.01,
          -5.17,
          -5.92,
          -6.42,
          -7.46,
          -8.33,
          -9.19,
          -9.84,
          -10.75
         ],
         "yaxis": "y"
        },
        {
         "hovertemplate": "label=reUSD - odos<br>scaled_amount_in=%{x}<br>slippage_bps=%{y}<extra></extra>",
         "legendgroup": "reUSD - odos",
         "line": {
          "color": "#00cc96",
          "dash": "dash"
         },
         "marker": {
          "size": 8,
          "symbol": "x"
         },
         "mode": "lines+markers",
         "name": "reUSD - odos",
         "orientation": "v",
         "showlegend": true,
         "type": "scatter",
         "x": [
          10000,
          100000,
          200000,
          300000,
          400000,
          500000,
          600000,
          700000,
          800000,
          900000,
          1000000
         ],
         "xaxis": "x",
         "y": [
          0,
          -4.4,
          -5.61,
          -6.87,
          -8.06,
          -9.22,
          -10.19,
          -11.08,
          -12.11,
          -13.13,
          -14.15
         ],
         "yaxis": "y"
        },
        {
         "hovertemplate": "label=sDOLA - odos<br>scaled_amount_in=%{x}<br>slippage_bps=%{y}<extra></extra>",
         "legendgroup": "sDOLA - odos",
         "line": {
          "color": "#ab63fa",
          "dash": "dash"
         },
         "marker": {
          "size": 8,
          "symbol": "x"
         },
         "mode": "lines+markers",
         "name": "sDOLA - odos",
         "orientation": "v",
         "showlegend": true,
         "type": "scatter",
         "x": [
          10000,
          100000,
          200000,
          300000,
          400000,
          500000,
          600000,
          700000,
          800000,
          900000,
          1000000
         ],
         "xaxis": "x",
         "y": [
          -0.01,
          -0.01,
          -0.01,
          -0.01,
          -0.01,
          -0.01,
          -0.01,
          -0.01,
          -0.01,
          -0.01,
          -0.01
         ],
         "yaxis": "y"
        },
        {
         "hovertemplate": "label=sUSDe - odos<br>scaled_amount_in=%{x}<br>slippage_bps=%{y}<extra></extra>",
         "legendgroup": "sUSDe - odos",
         "line": {
          "color": "#FFA15A",
          "dash": "dash"
         },
         "marker": {
          "size": 8,
          "symbol": "x"
         },
         "mode": "lines+markers",
         "name": "sUSDe - odos",
         "orientation": "v",
         "showlegend": true,
         "type": "scatter",
         "x": [
          10000,
          100000,
          200000,
          300000,
          400000,
          500000,
          600000,
          700000,
          800000,
          900000,
          1000000
         ],
         "xaxis": "x",
         "y": [
          -25.45,
          -26.75,
          -26.74,
          -26.42,
          -27.12,
          -27.78,
          -28.12,
          -28.47,
          -28.82,
          -29.23,
          -29.58
         ],
         "yaxis": "y"
        },
        {
         "hovertemplate": "label=scrvUSD - odos<br>scaled_amount_in=%{x}<br>slippage_bps=%{y}<extra></extra>",
         "legendgroup": "scrvUSD - odos",
         "line": {
          "color": "#19d3f3",
          "dash": "dash"
         },
         "marker": {
          "size": 8,
          "symbol": "x"
         },
         "mode": "lines+markers",
         "name": "scrvUSD - odos",
         "orientation": "v",
         "showlegend": true,
         "type": "scatter",
         "x": [
          10000,
          100000,
          200000,
          300000,
          400000,
          500000,
          600000,
          700000,
          800000,
          900000,
          1000000
         ],
         "xaxis": "x",
         "y": [
          0,
          -1.23,
          -1.74,
          -2.38,
          -3,
          -3.6,
          -4,
          -4.52,
          -5.04,
          -5.54,
          -6.03
         ],
         "yaxis": "y"
        }
       ],
       "layout": {
        "legend": {
         "title": {
          "text": "label"
         },
         "tracegroupgap": 0
        },
        "margin": {
         "t": 60
        },
        "template": {
         "data": {
          "bar": [
           {
            "error_x": {
             "color": "#2a3f5f"
            },
            "error_y": {
             "color": "#2a3f5f"
            },
            "marker": {
             "line": {
              "color": "white",
              "width": 0.5
             },
             "pattern": {
              "fillmode": "overlay",
              "size": 10,
              "solidity": 0.2
             }
            },
            "type": "bar"
           }
          ],
          "barpolar": [
           {
            "marker": {
             "line": {
              "color": "white",
              "width": 0.5
             },
             "pattern": {
              "fillmode": "overlay",
              "size": 10,
              "solidity": 0.2
             }
            },
            "type": "barpolar"
           }
          ],
          "carpet": [
           {
            "aaxis": {
             "endlinecolor": "#2a3f5f",
             "gridcolor": "#C8D4E3",
             "linecolor": "#C8D4E3",
             "minorgridcolor": "#C8D4E3",
             "startlinecolor": "#2a3f5f"
            },
            "baxis": {
             "endlinecolor": "#2a3f5f",
             "gridcolor": "#C8D4E3",
             "linecolor": "#C8D4E3",
             "minorgridcolor": "#C8D4E3",
             "startlinecolor": "#2a3f5f"
            },
            "type": "carpet"
           }
          ],
          "choropleth": [
           {
            "colorbar": {
             "outlinewidth": 0,
             "ticks": ""
            },
            "type": "choropleth"
           }
          ],
          "contour": [
           {
            "colorbar": {
             "outlinewidth": 0,
             "ticks": ""
            },
            "colorscale": [
             [
              0,
              "#0d0887"
             ],
             [
              0.1111111111111111,
              "#46039f"
             ],
             [
              0.2222222222222222,
              "#7201a8"
             ],
             [
              0.3333333333333333,
              "#9c179e"
             ],
             [
              0.4444444444444444,
              "#bd3786"
             ],
             [
              0.5555555555555556,
              "#d8576b"
             ],
             [
              0.6666666666666666,
              "#ed7953"
             ],
             [
              0.7777777777777778,
              "#fb9f3a"
             ],
             [
              0.8888888888888888,
              "#fdca26"
             ],
             [
              1,
              "#f0f921"
             ]
            ],
            "type": "contour"
           }
          ],
          "contourcarpet": [
           {
            "colorbar": {
             "outlinewidth": 0,
             "ticks": ""
            },
            "type": "contourcarpet"
           }
          ],
          "heatmap": [
           {
            "colorbar": {
             "outlinewidth": 0,
             "ticks": ""
            },
            "colorscale": [
             [
              0,
              "#0d0887"
             ],
             [
              0.1111111111111111,
              "#46039f"
             ],
             [
              0.2222222222222222,
              "#7201a8"
             ],
             [
              0.3333333333333333,
              "#9c179e"
             ],
             [
              0.4444444444444444,
              "#bd3786"
             ],
             [
              0.5555555555555556,
              "#d8576b"
             ],
             [
              0.6666666666666666,
              "#ed7953"
             ],
             [
              0.7777777777777778,
              "#fb9f3a"
             ],
             [
              0.8888888888888888,
              "#fdca26"
             ],
             [
              1,
              "#f0f921"
             ]
            ],
            "type": "heatmap"
           }
          ],
          "heatmapgl": [
           {
            "colorbar": {
             "outlinewidth": 0,
             "ticks": ""
            },
            "colorscale": [
             [
              0,
              "#0d0887"
             ],
             [
              0.1111111111111111,
              "#46039f"
             ],
             [
              0.2222222222222222,
              "#7201a8"
             ],
             [
              0.3333333333333333,
              "#9c179e"
             ],
             [
              0.4444444444444444,
              "#bd3786"
             ],
             [
              0.5555555555555556,
              "#d8576b"
             ],
             [
              0.6666666666666666,
              "#ed7953"
             ],
             [
              0.7777777777777778,
              "#fb9f3a"
             ],
             [
              0.8888888888888888,
              "#fdca26"
             ],
             [
              1,
              "#f0f921"
             ]
            ],
            "type": "heatmapgl"
           }
          ],
          "histogram": [
           {
            "marker": {
             "pattern": {
              "fillmode": "overlay",
              "size": 10,
              "solidity": 0.2
             }
            },
            "type": "histogram"
           }
          ],
          "histogram2d": [
           {
            "colorbar": {
             "outlinewidth": 0,
             "ticks": ""
            },
            "colorscale": [
             [
              0,
              "#0d0887"
             ],
             [
              0.1111111111111111,
              "#46039f"
             ],
             [
              0.2222222222222222,
              "#7201a8"
             ],
             [
              0.3333333333333333,
              "#9c179e"
             ],
             [
              0.4444444444444444,
              "#bd3786"
             ],
             [
              0.5555555555555556,
              "#d8576b"
             ],
             [
              0.6666666666666666,
              "#ed7953"
             ],
             [
              0.7777777777777778,
              "#fb9f3a"
             ],
             [
              0.8888888888888888,
              "#fdca26"
             ],
             [
              1,
              "#f0f921"
             ]
            ],
            "type": "histogram2d"
           }
          ],
          "histogram2dcontour": [
           {
            "colorbar": {
             "outlinewidth": 0,
             "ticks": ""
            },
            "colorscale": [
             [
              0,
              "#0d0887"
             ],
             [
              0.1111111111111111,
              "#46039f"
             ],
             [
              0.2222222222222222,
              "#7201a8"
             ],
             [
              0.3333333333333333,
              "#9c179e"
             ],
             [
              0.4444444444444444,
              "#bd3786"
             ],
             [
              0.5555555555555556,
              "#d8576b"
             ],
             [
              0.6666666666666666,
              "#ed7953"
             ],
             [
              0.7777777777777778,
              "#fb9f3a"
             ],
             [
              0.8888888888888888,
              "#fdca26"
             ],
             [
              1,
              "#f0f921"
             ]
            ],
            "type": "histogram2dcontour"
           }
          ],
          "mesh3d": [
           {
            "colorbar": {
             "outlinewidth": 0,
             "ticks": ""
            },
            "type": "mesh3d"
           }
          ],
          "parcoords": [
           {
            "line": {
             "colorbar": {
              "outlinewidth": 0,
              "ticks": ""
             }
            },
            "type": "parcoords"
           }
          ],
          "pie": [
           {
            "automargin": true,
            "type": "pie"
           }
          ],
          "scatter": [
           {
            "fillpattern": {
             "fillmode": "overlay",
             "size": 10,
             "solidity": 0.2
            },
            "type": "scatter"
           }
          ],
          "scatter3d": [
           {
            "line": {
             "colorbar": {
              "outlinewidth": 0,
              "ticks": ""
             }
            },
            "marker": {
             "colorbar": {
              "outlinewidth": 0,
              "ticks": ""
             }
            },
            "type": "scatter3d"
           }
          ],
          "scattercarpet": [
           {
            "marker": {
             "colorbar": {
              "outlinewidth": 0,
              "ticks": ""
             }
            },
            "type": "scattercarpet"
           }
          ],
          "scattergeo": [
           {
            "marker": {
             "colorbar": {
              "outlinewidth": 0,
              "ticks": ""
             }
            },
            "type": "scattergeo"
           }
          ],
          "scattergl": [
           {
            "marker": {
             "colorbar": {
              "outlinewidth": 0,
              "ticks": ""
             }
            },
            "type": "scattergl"
           }
          ],
          "scattermapbox": [
           {
            "marker": {
             "colorbar": {
              "outlinewidth": 0,
              "ticks": ""
             }
            },
            "type": "scattermapbox"
           }
          ],
          "scatterpolar": [
           {
            "marker": {
             "colorbar": {
              "outlinewidth": 0,
              "ticks": ""
             }
            },
            "type": "scatterpolar"
           }
          ],
          "scatterpolargl": [
           {
            "marker": {
             "colorbar": {
              "outlinewidth": 0,
              "ticks": ""
             }
            },
            "type": "scatterpolargl"
           }
          ],
          "scatterternary": [
           {
            "marker": {
             "colorbar": {
              "outlinewidth": 0,
              "ticks": ""
             }
            },
            "type": "scatterternary"
           }
          ],
          "surface": [
           {
            "colorbar": {
             "outlinewidth": 0,
             "ticks": ""
            },
            "colorscale": [
             [
              0,
              "#0d0887"
             ],
             [
              0.1111111111111111,
              "#46039f"
             ],
             [
              0.2222222222222222,
              "#7201a8"
             ],
             [
              0.3333333333333333,
              "#9c179e"
             ],
             [
              0.4444444444444444,
              "#bd3786"
             ],
             [
              0.5555555555555556,
              "#d8576b"
             ],
             [
              0.6666666666666666,
              "#ed7953"
             ],
             [
              0.7777777777777778,
              "#fb9f3a"
             ],
             [
              0.8888888888888888,
              "#fdca26"
             ],
             [
              1,
              "#f0f921"
             ]
            ],
            "type": "surface"
           }
          ],
          "table": [
           {
            "cells": {
             "fill": {
              "color": "#EBF0F8"
             },
             "line": {
              "color": "white"
             }
            },
            "header": {
             "fill": {
              "color": "#C8D4E3"
             },
             "line": {
              "color": "white"
             }
            },
            "type": "table"
           }
          ]
         },
         "layout": {
          "annotationdefaults": {
           "arrowcolor": "#2a3f5f",
           "arrowhead": 0,
           "arrowwidth": 1
          },
          "autotypenumbers": "strict",
          "coloraxis": {
           "colorbar": {
            "outlinewidth": 0,
            "ticks": ""
           }
          },
          "colorscale": {
           "diverging": [
            [
             0,
             "#8e0152"
            ],
            [
             0.1,
             "#c51b7d"
            ],
            [
             0.2,
             "#de77ae"
            ],
            [
             0.3,
             "#f1b6da"
            ],
            [
             0.4,
             "#fde0ef"
            ],
            [
             0.5,
             "#f7f7f7"
            ],
            [
             0.6,
             "#e6f5d0"
            ],
            [
             0.7,
             "#b8e186"
            ],
            [
             0.8,
             "#7fbc41"
            ],
            [
             0.9,
             "#4d9221"
            ],
            [
             1,
             "#276419"
            ]
           ],
           "sequential": [
            [
             0,
             "#0d0887"
            ],
            [
             0.1111111111111111,
             "#46039f"
            ],
            [
             0.2222222222222222,
             "#7201a8"
            ],
            [
             0.3333333333333333,
             "#9c179e"
            ],
            [
             0.4444444444444444,
             "#bd3786"
            ],
            [
             0.5555555555555556,
             "#d8576b"
            ],
            [
             0.6666666666666666,
             "#ed7953"
            ],
            [
             0.7777777777777778,
             "#fb9f3a"
            ],
            [
             0.8888888888888888,
             "#fdca26"
            ],
            [
             1,
             "#f0f921"
            ]
           ],
           "sequentialminus": [
            [
             0,
             "#0d0887"
            ],
            [
             0.1111111111111111,
             "#46039f"
            ],
            [
             0.2222222222222222,
             "#7201a8"
            ],
            [
             0.3333333333333333,
             "#9c179e"
            ],
            [
             0.4444444444444444,
             "#bd3786"
            ],
            [
             0.5555555555555556,
             "#d8576b"
            ],
            [
             0.6666666666666666,
             "#ed7953"
            ],
            [
             0.7777777777777778,
             "#fb9f3a"
            ],
            [
             0.8888888888888888,
             "#fdca26"
            ],
            [
             1,
             "#f0f921"
            ]
           ]
          },
          "colorway": [
           "#636efa",
           "#EF553B",
           "#00cc96",
           "#ab63fa",
           "#FFA15A",
           "#19d3f3",
           "#FF6692",
           "#B6E880",
           "#FF97FF",
           "#FECB52"
          ],
          "font": {
           "color": "#2a3f5f"
          },
          "geo": {
           "bgcolor": "white",
           "lakecolor": "white",
           "landcolor": "white",
           "showlakes": true,
           "showland": true,
           "subunitcolor": "#C8D4E3"
          },
          "hoverlabel": {
           "align": "left"
          },
          "hovermode": "closest",
          "mapbox": {
           "style": "light"
          },
          "paper_bgcolor": "white",
          "plot_bgcolor": "white",
          "polar": {
           "angularaxis": {
            "gridcolor": "#EBF0F8",
            "linecolor": "#EBF0F8",
            "ticks": ""
           },
           "bgcolor": "white",
           "radialaxis": {
            "gridcolor": "#EBF0F8",
            "linecolor": "#EBF0F8",
            "ticks": ""
           }
          },
          "scene": {
           "xaxis": {
            "backgroundcolor": "white",
            "gridcolor": "#DFE8F3",
            "gridwidth": 2,
            "linecolor": "#EBF0F8",
            "showbackground": true,
            "ticks": "",
            "zerolinecolor": "#EBF0F8"
           },
           "yaxis": {
            "backgroundcolor": "white",
            "gridcolor": "#DFE8F3",
            "gridwidth": 2,
            "linecolor": "#EBF0F8",
            "showbackground": true,
            "ticks": "",
            "zerolinecolor": "#EBF0F8"
           },
           "zaxis": {
            "backgroundcolor": "white",
            "gridcolor": "#DFE8F3",
            "gridwidth": 2,
            "linecolor": "#EBF0F8",
            "showbackground": true,
            "ticks": "",
            "zerolinecolor": "#EBF0F8"
           }
          },
          "shapedefaults": {
           "line": {
            "color": "#2a3f5f"
           }
          },
          "ternary": {
           "aaxis": {
            "gridcolor": "#DFE8F3",
            "linecolor": "#A2B1C6",
            "ticks": ""
           },
           "baxis": {
            "gridcolor": "#DFE8F3",
            "linecolor": "#A2B1C6",
            "ticks": ""
           },
           "bgcolor": "white",
           "caxis": {
            "gridcolor": "#DFE8F3",
            "linecolor": "#A2B1C6",
            "ticks": ""
           }
          },
          "title": {
           "x": 0.05
          },
          "xaxis": {
           "automargin": true,
           "gridcolor": "#EBF0F8",
           "linecolor": "#EBF0F8",
           "ticks": "",
           "title": {
            "standoff": 15
           },
           "zerolinecolor": "#EBF0F8",
           "zerolinewidth": 2
          },
          "yaxis": {
           "automargin": true,
           "gridcolor": "#EBF0F8",
           "linecolor": "#EBF0F8",
           "ticks": "",
           "title": {
            "standoff": 15
           },
           "zerolinecolor": "#EBF0F8",
           "zerolinewidth": 2
          }
         }
        },
        "title": {
         "text": "odos: Slippage vs Amount Sold"
        },
        "xaxis": {
         "anchor": "y",
         "domain": [
          0,
          1
         ],
         "title": {
          "text": "scaled_amount_in"
         }
        },
        "yaxis": {
         "anchor": "x",
         "domain": [
          0,
          1
         ],
         "title": {
          "text": "slippage_bps"
         }
        }
       }
      }
     },
     "metadata": {},
     "output_type": "display_data"
    },
    {
     "data": {
      "application/vnd.plotly.v1+json": {
       "config": {
        "plotlyServerURL": "https://plot.ly"
       },
       "data": [
        {
         "hovertemplate": "label=alUSD - tokemak<br>scaled_amount_in=%{x}<br>slippage_bps=%{y}<extra></extra>",
         "legendgroup": "alUSD - tokemak",
         "line": {
          "color": "#636efa",
          "dash": "dash"
         },
         "marker": {
          "size": 8,
          "symbol": "x"
         },
         "mode": "lines+markers",
         "name": "alUSD - tokemak",
         "orientation": "v",
         "showlegend": true,
         "type": "scatter",
         "x": [
          10000,
          100000,
          200000,
          300000,
          400000,
          500000,
          600000,
          700000,
          800000,
          900000,
          1000000
         ],
         "xaxis": "x",
         "y": [
          0,
          -2.78,
          -6.13,
          -6.93,
          -8.7,
          -10.5,
          -12.33,
          -14.22,
          -16.18,
          -18.17,
          -20.26
         ],
         "yaxis": "y"
        },
        {
         "hovertemplate": "label=deUSD - tokemak<br>scaled_amount_in=%{x}<br>slippage_bps=%{y}<extra></extra>",
         "legendgroup": "deUSD - tokemak",
         "line": {
          "color": "#EF553B",
          "dash": "dash"
         },
         "marker": {
          "size": 8,
          "symbol": "x"
         },
         "mode": "lines+markers",
         "name": "deUSD - tokemak",
         "orientation": "v",
         "showlegend": true,
         "type": "scatter",
         "x": [
          10000,
          100000,
          200000,
          300000,
          400000,
          500000,
          600000,
          700000,
          800000,
          900000,
          1000000
         ],
         "xaxis": "x",
         "y": [
          0,
          -4.94,
          -6.04,
          -7.36,
          -8.52,
          -9.82,
          -11.09,
          -12.35,
          -13.61,
          -14.89,
          -16.19
         ],
         "yaxis": "y"
        },
        {
         "hovertemplate": "label=reUSD - tokemak<br>scaled_amount_in=%{x}<br>slippage_bps=%{y}<extra></extra>",
         "legendgroup": "reUSD - tokemak",
         "line": {
          "color": "#00cc96",
          "dash": "dash"
         },
         "marker": {
          "size": 8,
          "symbol": "x"
         },
         "mode": "lines+markers",
         "name": "reUSD - tokemak",
         "orientation": "v",
         "showlegend": true,
         "type": "scatter",
         "x": [
          10000,
          100000,
          200000,
          300000,
          400000,
          500000,
          600000,
          700000,
          800000,
          900000,
          1000000
         ],
         "xaxis": "x",
         "y": [
          0,
          -4.4,
          -5.61,
          -6.87,
          -8.06,
          -9.22,
          -10.19,
          -11.08,
          -12.11,
          -13.13,
          -14.15
         ],
         "yaxis": "y"
        },
        {
         "hovertemplate": "label=sDOLA - tokemak<br>scaled_amount_in=%{x}<br>slippage_bps=%{y}<extra></extra>",
         "legendgroup": "sDOLA - tokemak",
         "line": {
          "color": "#ab63fa",
          "dash": "dash"
         },
         "marker": {
          "size": 8,
          "symbol": "x"
         },
         "mode": "lines+markers",
         "name": "sDOLA - tokemak",
         "orientation": "v",
         "showlegend": true,
         "type": "scatter",
         "x": [
          10000,
          100000,
          200000,
          300000,
          400000,
          500000,
          600000,
          700000,
          800000,
          900000,
          1000000
         ],
         "xaxis": "x",
         "y": [
          0,
          0,
          0,
          0,
          0,
          0,
          0,
          0,
          0,
          0,
          0
         ],
         "yaxis": "y"
        },
        {
         "hovertemplate": "label=sUSDe - tokemak<br>scaled_amount_in=%{x}<br>slippage_bps=%{y}<extra></extra>",
         "legendgroup": "sUSDe - tokemak",
         "line": {
          "color": "#FFA15A",
          "dash": "dash"
         },
         "marker": {
          "size": 8,
          "symbol": "x"
         },
         "mode": "lines+markers",
         "name": "sUSDe - tokemak",
         "orientation": "v",
         "showlegend": true,
         "type": "scatter",
         "x": [
          10000,
          100000,
          200000,
          300000,
          400000,
          500000,
          600000,
          700000,
          800000,
          900000,
          1000000
         ],
         "xaxis": "x",
         "y": [
          0,
          -5.18,
          -4.59,
          -5.27,
          -5.92,
          -6.54,
          -6.19,
          -6.59,
          -6.97,
          -7.34,
          -7.93
         ],
         "yaxis": "y"
        },
        {
         "hovertemplate": "label=scrvUSD - tokemak<br>scaled_amount_in=%{x}<br>slippage_bps=%{y}<extra></extra>",
         "legendgroup": "scrvUSD - tokemak",
         "line": {
          "color": "#19d3f3",
          "dash": "dash"
         },
         "marker": {
          "size": 8,
          "symbol": "x"
         },
         "mode": "lines+markers",
         "name": "scrvUSD - tokemak",
         "orientation": "v",
         "showlegend": true,
         "type": "scatter",
         "x": [
          10000,
          100000,
          200000,
          300000,
          400000,
          500000,
          600000,
          700000,
          800000,
          900000,
          1000000
         ],
         "xaxis": "x",
         "y": [
          0,
          -1.23,
          -1.74,
          -2.38,
          -3,
          -3.59,
          -4,
          -4.05,
          -4.47,
          -5.32,
          -5
         ],
         "yaxis": "y"
        }
       ],
       "layout": {
        "legend": {
         "title": {
          "text": "label"
         },
         "tracegroupgap": 0
        },
        "margin": {
         "t": 60
        },
        "template": {
         "data": {
          "bar": [
           {
            "error_x": {
             "color": "#2a3f5f"
            },
            "error_y": {
             "color": "#2a3f5f"
            },
            "marker": {
             "line": {
              "color": "white",
              "width": 0.5
             },
             "pattern": {
              "fillmode": "overlay",
              "size": 10,
              "solidity": 0.2
             }
            },
            "type": "bar"
           }
          ],
          "barpolar": [
           {
            "marker": {
             "line": {
              "color": "white",
              "width": 0.5
             },
             "pattern": {
              "fillmode": "overlay",
              "size": 10,
              "solidity": 0.2
             }
            },
            "type": "barpolar"
           }
          ],
          "carpet": [
           {
            "aaxis": {
             "endlinecolor": "#2a3f5f",
             "gridcolor": "#C8D4E3",
             "linecolor": "#C8D4E3",
             "minorgridcolor": "#C8D4E3",
             "startlinecolor": "#2a3f5f"
            },
            "baxis": {
             "endlinecolor": "#2a3f5f",
             "gridcolor": "#C8D4E3",
             "linecolor": "#C8D4E3",
             "minorgridcolor": "#C8D4E3",
             "startlinecolor": "#2a3f5f"
            },
            "type": "carpet"
           }
          ],
          "choropleth": [
           {
            "colorbar": {
             "outlinewidth": 0,
             "ticks": ""
            },
            "type": "choropleth"
           }
          ],
          "contour": [
           {
            "colorbar": {
             "outlinewidth": 0,
             "ticks": ""
            },
            "colorscale": [
             [
              0,
              "#0d0887"
             ],
             [
              0.1111111111111111,
              "#46039f"
             ],
             [
              0.2222222222222222,
              "#7201a8"
             ],
             [
              0.3333333333333333,
              "#9c179e"
             ],
             [
              0.4444444444444444,
              "#bd3786"
             ],
             [
              0.5555555555555556,
              "#d8576b"
             ],
             [
              0.6666666666666666,
              "#ed7953"
             ],
             [
              0.7777777777777778,
              "#fb9f3a"
             ],
             [
              0.8888888888888888,
              "#fdca26"
             ],
             [
              1,
              "#f0f921"
             ]
            ],
            "type": "contour"
           }
          ],
          "contourcarpet": [
           {
            "colorbar": {
             "outlinewidth": 0,
             "ticks": ""
            },
            "type": "contourcarpet"
           }
          ],
          "heatmap": [
           {
            "colorbar": {
             "outlinewidth": 0,
             "ticks": ""
            },
            "colorscale": [
             [
              0,
              "#0d0887"
             ],
             [
              0.1111111111111111,
              "#46039f"
             ],
             [
              0.2222222222222222,
              "#7201a8"
             ],
             [
              0.3333333333333333,
              "#9c179e"
             ],
             [
              0.4444444444444444,
              "#bd3786"
             ],
             [
              0.5555555555555556,
              "#d8576b"
             ],
             [
              0.6666666666666666,
              "#ed7953"
             ],
             [
              0.7777777777777778,
              "#fb9f3a"
             ],
             [
              0.8888888888888888,
              "#fdca26"
             ],
             [
              1,
              "#f0f921"
             ]
            ],
            "type": "heatmap"
           }
          ],
          "heatmapgl": [
           {
            "colorbar": {
             "outlinewidth": 0,
             "ticks": ""
            },
            "colorscale": [
             [
              0,
              "#0d0887"
             ],
             [
              0.1111111111111111,
              "#46039f"
             ],
             [
              0.2222222222222222,
              "#7201a8"
             ],
             [
              0.3333333333333333,
              "#9c179e"
             ],
             [
              0.4444444444444444,
              "#bd3786"
             ],
             [
              0.5555555555555556,
              "#d8576b"
             ],
             [
              0.6666666666666666,
              "#ed7953"
             ],
             [
              0.7777777777777778,
              "#fb9f3a"
             ],
             [
              0.8888888888888888,
              "#fdca26"
             ],
             [
              1,
              "#f0f921"
             ]
            ],
            "type": "heatmapgl"
           }
          ],
          "histogram": [
           {
            "marker": {
             "pattern": {
              "fillmode": "overlay",
              "size": 10,
              "solidity": 0.2
             }
            },
            "type": "histogram"
           }
          ],
          "histogram2d": [
           {
            "colorbar": {
             "outlinewidth": 0,
             "ticks": ""
            },
            "colorscale": [
             [
              0,
              "#0d0887"
             ],
             [
              0.1111111111111111,
              "#46039f"
             ],
             [
              0.2222222222222222,
              "#7201a8"
             ],
             [
              0.3333333333333333,
              "#9c179e"
             ],
             [
              0.4444444444444444,
              "#bd3786"
             ],
             [
              0.5555555555555556,
              "#d8576b"
             ],
             [
              0.6666666666666666,
              "#ed7953"
             ],
             [
              0.7777777777777778,
              "#fb9f3a"
             ],
             [
              0.8888888888888888,
              "#fdca26"
             ],
             [
              1,
              "#f0f921"
             ]
            ],
            "type": "histogram2d"
           }
          ],
          "histogram2dcontour": [
           {
            "colorbar": {
             "outlinewidth": 0,
             "ticks": ""
            },
            "colorscale": [
             [
              0,
              "#0d0887"
             ],
             [
              0.1111111111111111,
              "#46039f"
             ],
             [
              0.2222222222222222,
              "#7201a8"
             ],
             [
              0.3333333333333333,
              "#9c179e"
             ],
             [
              0.4444444444444444,
              "#bd3786"
             ],
             [
              0.5555555555555556,
              "#d8576b"
             ],
             [
              0.6666666666666666,
              "#ed7953"
             ],
             [
              0.7777777777777778,
              "#fb9f3a"
             ],
             [
              0.8888888888888888,
              "#fdca26"
             ],
             [
              1,
              "#f0f921"
             ]
            ],
            "type": "histogram2dcontour"
           }
          ],
          "mesh3d": [
           {
            "colorbar": {
             "outlinewidth": 0,
             "ticks": ""
            },
            "type": "mesh3d"
           }
          ],
          "parcoords": [
           {
            "line": {
             "colorbar": {
              "outlinewidth": 0,
              "ticks": ""
             }
            },
            "type": "parcoords"
           }
          ],
          "pie": [
           {
            "automargin": true,
            "type": "pie"
           }
          ],
          "scatter": [
           {
            "fillpattern": {
             "fillmode": "overlay",
             "size": 10,
             "solidity": 0.2
            },
            "type": "scatter"
           }
          ],
          "scatter3d": [
           {
            "line": {
             "colorbar": {
              "outlinewidth": 0,
              "ticks": ""
             }
            },
            "marker": {
             "colorbar": {
              "outlinewidth": 0,
              "ticks": ""
             }
            },
            "type": "scatter3d"
           }
          ],
          "scattercarpet": [
           {
            "marker": {
             "colorbar": {
              "outlinewidth": 0,
              "ticks": ""
             }
            },
            "type": "scattercarpet"
           }
          ],
          "scattergeo": [
           {
            "marker": {
             "colorbar": {
              "outlinewidth": 0,
              "ticks": ""
             }
            },
            "type": "scattergeo"
           }
          ],
          "scattergl": [
           {
            "marker": {
             "colorbar": {
              "outlinewidth": 0,
              "ticks": ""
             }
            },
            "type": "scattergl"
           }
          ],
          "scattermapbox": [
           {
            "marker": {
             "colorbar": {
              "outlinewidth": 0,
              "ticks": ""
             }
            },
            "type": "scattermapbox"
           }
          ],
          "scatterpolar": [
           {
            "marker": {
             "colorbar": {
              "outlinewidth": 0,
              "ticks": ""
             }
            },
            "type": "scatterpolar"
           }
          ],
          "scatterpolargl": [
           {
            "marker": {
             "colorbar": {
              "outlinewidth": 0,
              "ticks": ""
             }
            },
            "type": "scatterpolargl"
           }
          ],
          "scatterternary": [
           {
            "marker": {
             "colorbar": {
              "outlinewidth": 0,
              "ticks": ""
             }
            },
            "type": "scatterternary"
           }
          ],
          "surface": [
           {
            "colorbar": {
             "outlinewidth": 0,
             "ticks": ""
            },
            "colorscale": [
             [
              0,
              "#0d0887"
             ],
             [
              0.1111111111111111,
              "#46039f"
             ],
             [
              0.2222222222222222,
              "#7201a8"
             ],
             [
              0.3333333333333333,
              "#9c179e"
             ],
             [
              0.4444444444444444,
              "#bd3786"
             ],
             [
              0.5555555555555556,
              "#d8576b"
             ],
             [
              0.6666666666666666,
              "#ed7953"
             ],
             [
              0.7777777777777778,
              "#fb9f3a"
             ],
             [
              0.8888888888888888,
              "#fdca26"
             ],
             [
              1,
              "#f0f921"
             ]
            ],
            "type": "surface"
           }
          ],
          "table": [
           {
            "cells": {
             "fill": {
              "color": "#EBF0F8"
             },
             "line": {
              "color": "white"
             }
            },
            "header": {
             "fill": {
              "color": "#C8D4E3"
             },
             "line": {
              "color": "white"
             }
            },
            "type": "table"
           }
          ]
         },
         "layout": {
          "annotationdefaults": {
           "arrowcolor": "#2a3f5f",
           "arrowhead": 0,
           "arrowwidth": 1
          },
          "autotypenumbers": "strict",
          "coloraxis": {
           "colorbar": {
            "outlinewidth": 0,
            "ticks": ""
           }
          },
          "colorscale": {
           "diverging": [
            [
             0,
             "#8e0152"
            ],
            [
             0.1,
             "#c51b7d"
            ],
            [
             0.2,
             "#de77ae"
            ],
            [
             0.3,
             "#f1b6da"
            ],
            [
             0.4,
             "#fde0ef"
            ],
            [
             0.5,
             "#f7f7f7"
            ],
            [
             0.6,
             "#e6f5d0"
            ],
            [
             0.7,
             "#b8e186"
            ],
            [
             0.8,
             "#7fbc41"
            ],
            [
             0.9,
             "#4d9221"
            ],
            [
             1,
             "#276419"
            ]
           ],
           "sequential": [
            [
             0,
             "#0d0887"
            ],
            [
             0.1111111111111111,
             "#46039f"
            ],
            [
             0.2222222222222222,
             "#7201a8"
            ],
            [
             0.3333333333333333,
             "#9c179e"
            ],
            [
             0.4444444444444444,
             "#bd3786"
            ],
            [
             0.5555555555555556,
             "#d8576b"
            ],
            [
             0.6666666666666666,
             "#ed7953"
            ],
            [
             0.7777777777777778,
             "#fb9f3a"
            ],
            [
             0.8888888888888888,
             "#fdca26"
            ],
            [
             1,
             "#f0f921"
            ]
           ],
           "sequentialminus": [
            [
             0,
             "#0d0887"
            ],
            [
             0.1111111111111111,
             "#46039f"
            ],
            [
             0.2222222222222222,
             "#7201a8"
            ],
            [
             0.3333333333333333,
             "#9c179e"
            ],
            [
             0.4444444444444444,
             "#bd3786"
            ],
            [
             0.5555555555555556,
             "#d8576b"
            ],
            [
             0.6666666666666666,
             "#ed7953"
            ],
            [
             0.7777777777777778,
             "#fb9f3a"
            ],
            [
             0.8888888888888888,
             "#fdca26"
            ],
            [
             1,
             "#f0f921"
            ]
           ]
          },
          "colorway": [
           "#636efa",
           "#EF553B",
           "#00cc96",
           "#ab63fa",
           "#FFA15A",
           "#19d3f3",
           "#FF6692",
           "#B6E880",
           "#FF97FF",
           "#FECB52"
          ],
          "font": {
           "color": "#2a3f5f"
          },
          "geo": {
           "bgcolor": "white",
           "lakecolor": "white",
           "landcolor": "white",
           "showlakes": true,
           "showland": true,
           "subunitcolor": "#C8D4E3"
          },
          "hoverlabel": {
           "align": "left"
          },
          "hovermode": "closest",
          "mapbox": {
           "style": "light"
          },
          "paper_bgcolor": "white",
          "plot_bgcolor": "white",
          "polar": {
           "angularaxis": {
            "gridcolor": "#EBF0F8",
            "linecolor": "#EBF0F8",
            "ticks": ""
           },
           "bgcolor": "white",
           "radialaxis": {
            "gridcolor": "#EBF0F8",
            "linecolor": "#EBF0F8",
            "ticks": ""
           }
          },
          "scene": {
           "xaxis": {
            "backgroundcolor": "white",
            "gridcolor": "#DFE8F3",
            "gridwidth": 2,
            "linecolor": "#EBF0F8",
            "showbackground": true,
            "ticks": "",
            "zerolinecolor": "#EBF0F8"
           },
           "yaxis": {
            "backgroundcolor": "white",
            "gridcolor": "#DFE8F3",
            "gridwidth": 2,
            "linecolor": "#EBF0F8",
            "showbackground": true,
            "ticks": "",
            "zerolinecolor": "#EBF0F8"
           },
           "zaxis": {
            "backgroundcolor": "white",
            "gridcolor": "#DFE8F3",
            "gridwidth": 2,
            "linecolor": "#EBF0F8",
            "showbackground": true,
            "ticks": "",
            "zerolinecolor": "#EBF0F8"
           }
          },
          "shapedefaults": {
           "line": {
            "color": "#2a3f5f"
           }
          },
          "ternary": {
           "aaxis": {
            "gridcolor": "#DFE8F3",
            "linecolor": "#A2B1C6",
            "ticks": ""
           },
           "baxis": {
            "gridcolor": "#DFE8F3",
            "linecolor": "#A2B1C6",
            "ticks": ""
           },
           "bgcolor": "white",
           "caxis": {
            "gridcolor": "#DFE8F3",
            "linecolor": "#A2B1C6",
            "ticks": ""
           }
          },
          "title": {
           "x": 0.05
          },
          "xaxis": {
           "automargin": true,
           "gridcolor": "#EBF0F8",
           "linecolor": "#EBF0F8",
           "ticks": "",
           "title": {
            "standoff": 15
           },
           "zerolinecolor": "#EBF0F8",
           "zerolinewidth": 2
          },
          "yaxis": {
           "automargin": true,
           "gridcolor": "#EBF0F8",
           "linecolor": "#EBF0F8",
           "ticks": "",
           "title": {
            "standoff": 15
           },
           "zerolinecolor": "#EBF0F8",
           "zerolinewidth": 2
          }
         }
        },
        "title": {
         "text": "tokemak: Slippage vs Amount Sold"
        },
        "xaxis": {
         "anchor": "y",
         "domain": [
          0,
          1
         ],
         "title": {
          "text": "scaled_amount_in"
         }
        },
        "yaxis": {
         "anchor": "x",
         "domain": [
          0,
          1
         ],
         "title": {
          "text": "slippage_bps"
         }
        }
       }
      }
     },
     "metadata": {},
     "output_type": "display_data"
    }
   ],
   "source": [
    "for api_name in [\"odos\", \"tokemak\"]:\n",
    "    local_df = swap_quotes_df[swap_quotes_df[\"api_name\"] == api_name].copy()\n",
    "    local_df = local_df.sort_values([\"label\", \"scaled_amount_in\"])\n",
    "\n",
    "    fig = px.line(\n",
    "        local_df,\n",
    "        x=\"scaled_amount_in\",\n",
    "        y=\"slippage_bps\",\n",
    "        color=\"label\",\n",
    "        markers=True,  # adds markers\n",
    "    )\n",
    "\n",
    "    fig.update_traces(\n",
    "        mode=\"lines+markers\",  # show both\n",
    "        line=dict(dash=\"dash\"),  # dashed lines\n",
    "        marker_symbol=\"x\",  # 'x marks the spot'\n",
    "        marker_size=8,\n",
    "    )\n",
    "\n",
    "    fig.update_layout(\n",
    "        title=f\"{api_name}: Slippage vs Amount Sold\",\n",
    "        xaxis_title=\"scaled_amount_in\",\n",
    "        yaxis_title=\"slippage_bps\",\n",
    "    )\n",
    "    fig.show()"
   ]
  },
  {
   "cell_type": "code",
   "execution_count": 40,
   "metadata": {},
   "outputs": [
    {
     "data": {
      "application/vnd.plotly.v1+json": {
       "config": {
        "plotlyServerURL": "https://plot.ly"
       },
       "data": [
        {
         "hovertemplate": "label=%{text}<br>factor=absolute<br>scaled_amount_in=%{x}<br>effective_price=%{y}<extra></extra>",
         "legendgroup": "alUSD - odos",
         "marker": {
          "color": "#636EFA",
          "line": {
           "width": 0.5
          },
          "size": 7,
          "symbol": "circle"
         },
         "mode": "markers",
         "name": "alUSD - odos (absolute)",
         "text": [
          "alUSD - odos",
          "alUSD - odos",
          "alUSD - odos",
          "alUSD - odos",
          "alUSD - odos",
          "alUSD - odos",
          "alUSD - odos",
          "alUSD - odos",
          "alUSD - odos",
          "alUSD - odos",
          "alUSD - odos"
         ],
         "type": "scatter",
         "x": [
          10000,
          100000,
          200000,
          300000,
          400000,
          500000,
          600000,
          700000,
          800000,
          900000,
          1000000
         ],
         "y": [
          0.9975077082520848,
          0.9972302980766345,
          0.9968965680581419,
          0.9968159509963322,
          0.9966397932042607,
          0.9964602087309216,
          0.9962772520400139,
          0.9960889721591355,
          0.9958941234288452,
          0.9956950893796082,
          0.9954866278304496
         ]
        },
        {
         "hovertemplate": "label=%{text}<br>factor=absolute<br>scaled_amount_in=%{x}<br>effective_price=%{y}<extra></extra>",
         "legendgroup": "alUSD - tokemak",
         "marker": {
          "color": "#EF553B",
          "line": {
           "width": 0.5
          },
          "size": 7,
          "symbol": "circle"
         },
         "mode": "markers",
         "name": "alUSD - tokemak (absolute)",
         "text": [
          "alUSD - tokemak",
          "alUSD - tokemak",
          "alUSD - tokemak",
          "alUSD - tokemak",
          "alUSD - tokemak",
          "alUSD - tokemak",
          "alUSD - tokemak",
          "alUSD - tokemak",
          "alUSD - tokemak",
          "alUSD - tokemak",
          "alUSD - tokemak"
         ],
         "type": "scatter",
         "x": [
          10000,
          100000,
          200000,
          300000,
          400000,
          500000,
          600000,
          700000,
          800000,
          900000,
          1000000
         ],
         "y": [
          0.9975076188539155,
          0.997230300262284,
          0.9968965399545028,
          0.9968159328236909,
          0.9966397947835404,
          0.9964602102976544,
          0.9962772536180636,
          0.9960889579161148,
          0.9958941096217161,
          0.9956953348842023,
          0.9954869185633969
         ]
        }
       ],
       "layout": {
        "legend": {
         "title": {
          "text": "label (factor)"
         }
        },
        "margin": {
         "b": 20,
         "l": 50,
         "r": 20,
         "t": 60
        },
        "template": {
         "data": {
          "bar": [
           {
            "error_x": {
             "color": "#2a3f5f"
            },
            "error_y": {
             "color": "#2a3f5f"
            },
            "marker": {
             "line": {
              "color": "white",
              "width": 0.5
             },
             "pattern": {
              "fillmode": "overlay",
              "size": 10,
              "solidity": 0.2
             }
            },
            "type": "bar"
           }
          ],
          "barpolar": [
           {
            "marker": {
             "line": {
              "color": "white",
              "width": 0.5
             },
             "pattern": {
              "fillmode": "overlay",
              "size": 10,
              "solidity": 0.2
             }
            },
            "type": "barpolar"
           }
          ],
          "carpet": [
           {
            "aaxis": {
             "endlinecolor": "#2a3f5f",
             "gridcolor": "#C8D4E3",
             "linecolor": "#C8D4E3",
             "minorgridcolor": "#C8D4E3",
             "startlinecolor": "#2a3f5f"
            },
            "baxis": {
             "endlinecolor": "#2a3f5f",
             "gridcolor": "#C8D4E3",
             "linecolor": "#C8D4E3",
             "minorgridcolor": "#C8D4E3",
             "startlinecolor": "#2a3f5f"
            },
            "type": "carpet"
           }
          ],
          "choropleth": [
           {
            "colorbar": {
             "outlinewidth": 0,
             "ticks": ""
            },
            "type": "choropleth"
           }
          ],
          "contour": [
           {
            "colorbar": {
             "outlinewidth": 0,
             "ticks": ""
            },
            "colorscale": [
             [
              0,
              "#0d0887"
             ],
             [
              0.1111111111111111,
              "#46039f"
             ],
             [
              0.2222222222222222,
              "#7201a8"
             ],
             [
              0.3333333333333333,
              "#9c179e"
             ],
             [
              0.4444444444444444,
              "#bd3786"
             ],
             [
              0.5555555555555556,
              "#d8576b"
             ],
             [
              0.6666666666666666,
              "#ed7953"
             ],
             [
              0.7777777777777778,
              "#fb9f3a"
             ],
             [
              0.8888888888888888,
              "#fdca26"
             ],
             [
              1,
              "#f0f921"
             ]
            ],
            "type": "contour"
           }
          ],
          "contourcarpet": [
           {
            "colorbar": {
             "outlinewidth": 0,
             "ticks": ""
            },
            "type": "contourcarpet"
           }
          ],
          "heatmap": [
           {
            "colorbar": {
             "outlinewidth": 0,
             "ticks": ""
            },
            "colorscale": [
             [
              0,
              "#0d0887"
             ],
             [
              0.1111111111111111,
              "#46039f"
             ],
             [
              0.2222222222222222,
              "#7201a8"
             ],
             [
              0.3333333333333333,
              "#9c179e"
             ],
             [
              0.4444444444444444,
              "#bd3786"
             ],
             [
              0.5555555555555556,
              "#d8576b"
             ],
             [
              0.6666666666666666,
              "#ed7953"
             ],
             [
              0.7777777777777778,
              "#fb9f3a"
             ],
             [
              0.8888888888888888,
              "#fdca26"
             ],
             [
              1,
              "#f0f921"
             ]
            ],
            "type": "heatmap"
           }
          ],
          "heatmapgl": [
           {
            "colorbar": {
             "outlinewidth": 0,
             "ticks": ""
            },
            "colorscale": [
             [
              0,
              "#0d0887"
             ],
             [
              0.1111111111111111,
              "#46039f"
             ],
             [
              0.2222222222222222,
              "#7201a8"
             ],
             [
              0.3333333333333333,
              "#9c179e"
             ],
             [
              0.4444444444444444,
              "#bd3786"
             ],
             [
              0.5555555555555556,
              "#d8576b"
             ],
             [
              0.6666666666666666,
              "#ed7953"
             ],
             [
              0.7777777777777778,
              "#fb9f3a"
             ],
             [
              0.8888888888888888,
              "#fdca26"
             ],
             [
              1,
              "#f0f921"
             ]
            ],
            "type": "heatmapgl"
           }
          ],
          "histogram": [
           {
            "marker": {
             "pattern": {
              "fillmode": "overlay",
              "size": 10,
              "solidity": 0.2
             }
            },
            "type": "histogram"
           }
          ],
          "histogram2d": [
           {
            "colorbar": {
             "outlinewidth": 0,
             "ticks": ""
            },
            "colorscale": [
             [
              0,
              "#0d0887"
             ],
             [
              0.1111111111111111,
              "#46039f"
             ],
             [
              0.2222222222222222,
              "#7201a8"
             ],
             [
              0.3333333333333333,
              "#9c179e"
             ],
             [
              0.4444444444444444,
              "#bd3786"
             ],
             [
              0.5555555555555556,
              "#d8576b"
             ],
             [
              0.6666666666666666,
              "#ed7953"
             ],
             [
              0.7777777777777778,
              "#fb9f3a"
             ],
             [
              0.8888888888888888,
              "#fdca26"
             ],
             [
              1,
              "#f0f921"
             ]
            ],
            "type": "histogram2d"
           }
          ],
          "histogram2dcontour": [
           {
            "colorbar": {
             "outlinewidth": 0,
             "ticks": ""
            },
            "colorscale": [
             [
              0,
              "#0d0887"
             ],
             [
              0.1111111111111111,
              "#46039f"
             ],
             [
              0.2222222222222222,
              "#7201a8"
             ],
             [
              0.3333333333333333,
              "#9c179e"
             ],
             [
              0.4444444444444444,
              "#bd3786"
             ],
             [
              0.5555555555555556,
              "#d8576b"
             ],
             [
              0.6666666666666666,
              "#ed7953"
             ],
             [
              0.7777777777777778,
              "#fb9f3a"
             ],
             [
              0.8888888888888888,
              "#fdca26"
             ],
             [
              1,
              "#f0f921"
             ]
            ],
            "type": "histogram2dcontour"
           }
          ],
          "mesh3d": [
           {
            "colorbar": {
             "outlinewidth": 0,
             "ticks": ""
            },
            "type": "mesh3d"
           }
          ],
          "parcoords": [
           {
            "line": {
             "colorbar": {
              "outlinewidth": 0,
              "ticks": ""
             }
            },
            "type": "parcoords"
           }
          ],
          "pie": [
           {
            "automargin": true,
            "type": "pie"
           }
          ],
          "scatter": [
           {
            "fillpattern": {
             "fillmode": "overlay",
             "size": 10,
             "solidity": 0.2
            },
            "type": "scatter"
           }
          ],
          "scatter3d": [
           {
            "line": {
             "colorbar": {
              "outlinewidth": 0,
              "ticks": ""
             }
            },
            "marker": {
             "colorbar": {
              "outlinewidth": 0,
              "ticks": ""
             }
            },
            "type": "scatter3d"
           }
          ],
          "scattercarpet": [
           {
            "marker": {
             "colorbar": {
              "outlinewidth": 0,
              "ticks": ""
             }
            },
            "type": "scattercarpet"
           }
          ],
          "scattergeo": [
           {
            "marker": {
             "colorbar": {
              "outlinewidth": 0,
              "ticks": ""
             }
            },
            "type": "scattergeo"
           }
          ],
          "scattergl": [
           {
            "marker": {
             "colorbar": {
              "outlinewidth": 0,
              "ticks": ""
             }
            },
            "type": "scattergl"
           }
          ],
          "scattermapbox": [
           {
            "marker": {
             "colorbar": {
              "outlinewidth": 0,
              "ticks": ""
             }
            },
            "type": "scattermapbox"
           }
          ],
          "scatterpolar": [
           {
            "marker": {
             "colorbar": {
              "outlinewidth": 0,
              "ticks": ""
             }
            },
            "type": "scatterpolar"
           }
          ],
          "scatterpolargl": [
           {
            "marker": {
             "colorbar": {
              "outlinewidth": 0,
              "ticks": ""
             }
            },
            "type": "scatterpolargl"
           }
          ],
          "scatterternary": [
           {
            "marker": {
             "colorbar": {
              "outlinewidth": 0,
              "ticks": ""
             }
            },
            "type": "scatterternary"
           }
          ],
          "surface": [
           {
            "colorbar": {
             "outlinewidth": 0,
             "ticks": ""
            },
            "colorscale": [
             [
              0,
              "#0d0887"
             ],
             [
              0.1111111111111111,
              "#46039f"
             ],
             [
              0.2222222222222222,
              "#7201a8"
             ],
             [
              0.3333333333333333,
              "#9c179e"
             ],
             [
              0.4444444444444444,
              "#bd3786"
             ],
             [
              0.5555555555555556,
              "#d8576b"
             ],
             [
              0.6666666666666666,
              "#ed7953"
             ],
             [
              0.7777777777777778,
              "#fb9f3a"
             ],
             [
              0.8888888888888888,
              "#fdca26"
             ],
             [
              1,
              "#f0f921"
             ]
            ],
            "type": "surface"
           }
          ],
          "table": [
           {
            "cells": {
             "fill": {
              "color": "#EBF0F8"
             },
             "line": {
              "color": "white"
             }
            },
            "header": {
             "fill": {
              "color": "#C8D4E3"
             },
             "line": {
              "color": "white"
             }
            },
            "type": "table"
           }
          ]
         },
         "layout": {
          "annotationdefaults": {
           "arrowcolor": "#2a3f5f",
           "arrowhead": 0,
           "arrowwidth": 1
          },
          "autotypenumbers": "strict",
          "coloraxis": {
           "colorbar": {
            "outlinewidth": 0,
            "ticks": ""
           }
          },
          "colorscale": {
           "diverging": [
            [
             0,
             "#8e0152"
            ],
            [
             0.1,
             "#c51b7d"
            ],
            [
             0.2,
             "#de77ae"
            ],
            [
             0.3,
             "#f1b6da"
            ],
            [
             0.4,
             "#fde0ef"
            ],
            [
             0.5,
             "#f7f7f7"
            ],
            [
             0.6,
             "#e6f5d0"
            ],
            [
             0.7,
             "#b8e186"
            ],
            [
             0.8,
             "#7fbc41"
            ],
            [
             0.9,
             "#4d9221"
            ],
            [
             1,
             "#276419"
            ]
           ],
           "sequential": [
            [
             0,
             "#0d0887"
            ],
            [
             0.1111111111111111,
             "#46039f"
            ],
            [
             0.2222222222222222,
             "#7201a8"
            ],
            [
             0.3333333333333333,
             "#9c179e"
            ],
            [
             0.4444444444444444,
             "#bd3786"
            ],
            [
             0.5555555555555556,
             "#d8576b"
            ],
            [
             0.6666666666666666,
             "#ed7953"
            ],
            [
             0.7777777777777778,
             "#fb9f3a"
            ],
            [
             0.8888888888888888,
             "#fdca26"
            ],
            [
             1,
             "#f0f921"
            ]
           ],
           "sequentialminus": [
            [
             0,
             "#0d0887"
            ],
            [
             0.1111111111111111,
             "#46039f"
            ],
            [
             0.2222222222222222,
             "#7201a8"
            ],
            [
             0.3333333333333333,
             "#9c179e"
            ],
            [
             0.4444444444444444,
             "#bd3786"
            ],
            [
             0.5555555555555556,
             "#d8576b"
            ],
            [
             0.6666666666666666,
             "#ed7953"
            ],
            [
             0.7777777777777778,
             "#fb9f3a"
            ],
            [
             0.8888888888888888,
             "#fdca26"
            ],
            [
             1,
             "#f0f921"
            ]
           ]
          },
          "colorway": [
           "#636efa",
           "#EF553B",
           "#00cc96",
           "#ab63fa",
           "#FFA15A",
           "#19d3f3",
           "#FF6692",
           "#B6E880",
           "#FF97FF",
           "#FECB52"
          ],
          "font": {
           "color": "#2a3f5f"
          },
          "geo": {
           "bgcolor": "white",
           "lakecolor": "white",
           "landcolor": "white",
           "showlakes": true,
           "showland": true,
           "subunitcolor": "#C8D4E3"
          },
          "hoverlabel": {
           "align": "left"
          },
          "hovermode": "closest",
          "mapbox": {
           "style": "light"
          },
          "paper_bgcolor": "white",
          "plot_bgcolor": "white",
          "polar": {
           "angularaxis": {
            "gridcolor": "#EBF0F8",
            "linecolor": "#EBF0F8",
            "ticks": ""
           },
           "bgcolor": "white",
           "radialaxis": {
            "gridcolor": "#EBF0F8",
            "linecolor": "#EBF0F8",
            "ticks": ""
           }
          },
          "scene": {
           "xaxis": {
            "backgroundcolor": "white",
            "gridcolor": "#DFE8F3",
            "gridwidth": 2,
            "linecolor": "#EBF0F8",
            "showbackground": true,
            "ticks": "",
            "zerolinecolor": "#EBF0F8"
           },
           "yaxis": {
            "backgroundcolor": "white",
            "gridcolor": "#DFE8F3",
            "gridwidth": 2,
            "linecolor": "#EBF0F8",
            "showbackground": true,
            "ticks": "",
            "zerolinecolor": "#EBF0F8"
           },
           "zaxis": {
            "backgroundcolor": "white",
            "gridcolor": "#DFE8F3",
            "gridwidth": 2,
            "linecolor": "#EBF0F8",
            "showbackground": true,
            "ticks": "",
            "zerolinecolor": "#EBF0F8"
           }
          },
          "shapedefaults": {
           "line": {
            "color": "#2a3f5f"
           }
          },
          "ternary": {
           "aaxis": {
            "gridcolor": "#DFE8F3",
            "linecolor": "#A2B1C6",
            "ticks": ""
           },
           "baxis": {
            "gridcolor": "#DFE8F3",
            "linecolor": "#A2B1C6",
            "ticks": ""
           },
           "bgcolor": "white",
           "caxis": {
            "gridcolor": "#DFE8F3",
            "linecolor": "#A2B1C6",
            "ticks": ""
           }
          },
          "title": {
           "x": 0.05
          },
          "xaxis": {
           "automargin": true,
           "gridcolor": "#EBF0F8",
           "linecolor": "#EBF0F8",
           "ticks": "",
           "title": {
            "standoff": 15
           },
           "zerolinecolor": "#EBF0F8",
           "zerolinewidth": 2
          },
          "yaxis": {
           "automargin": true,
           "gridcolor": "#EBF0F8",
           "linecolor": "#EBF0F8",
           "ticks": "",
           "title": {
            "standoff": 15
           },
           "zerolinecolor": "#EBF0F8",
           "zerolinewidth": 2
          }
         }
        },
        "title": {
         "text": "Slippage vs Amount — alUSD (absolute & portion overlaid)"
        },
        "xaxis": {
         "title": {
          "text": "scaled_amount_in"
         }
        },
        "yaxis": {
         "title": {
          "text": "effective_price"
         }
        }
       }
      }
     },
     "metadata": {},
     "output_type": "display_data"
    },
    {
     "data": {
      "application/vnd.plotly.v1+json": {
       "config": {
        "plotlyServerURL": "https://plot.ly"
       },
       "data": [
        {
         "hovertemplate": "label=%{text}<br>factor=absolute<br>scaled_amount_in=%{x}<br>effective_price=%{y}<extra></extra>",
         "legendgroup": "deUSD - odos",
         "marker": {
          "color": "#00CC96",
          "line": {
           "width": 0.5
          },
          "size": 7,
          "symbol": "circle"
         },
         "mode": "markers",
         "name": "deUSD - odos (absolute)",
         "text": [
          "deUSD - odos",
          "deUSD - odos",
          "deUSD - odos",
          "deUSD - odos",
          "deUSD - odos",
          "deUSD - odos",
          "deUSD - odos",
          "deUSD - odos",
          "deUSD - odos",
          "deUSD - odos",
          "deUSD - odos"
         ],
         "type": "scatter",
         "x": [
          10000,
          100000,
          200000,
          300000,
          400000,
          500000,
          600000,
          700000,
          800000,
          900000,
          1000000
         ],
         "y": [
          1.0021694240756094,
          1.0018404325297245,
          1.0017677969524736,
          1.0016516949125407,
          1.0015763221667107,
          1.0015257831819915,
          1.001421709820858,
          1.0013347199520441,
          1.0012485313187165,
          1.0011829598968658,
          1.0010919052350145
         ]
        },
        {
         "hovertemplate": "label=%{text}<br>factor=absolute<br>scaled_amount_in=%{x}<br>effective_price=%{y}<extra></extra>",
         "legendgroup": "deUSD - tokemak",
         "marker": {
          "color": "#AB63FA",
          "line": {
           "width": 0.5
          },
          "size": 7,
          "symbol": "circle"
         },
         "mode": "markers",
         "name": "deUSD - tokemak (absolute)",
         "text": [
          "deUSD - tokemak",
          "deUSD - tokemak",
          "deUSD - tokemak",
          "deUSD - tokemak",
          "deUSD - tokemak",
          "deUSD - tokemak",
          "deUSD - tokemak",
          "deUSD - tokemak",
          "deUSD - tokemak",
          "deUSD - tokemak",
          "deUSD - tokemak"
         ],
         "type": "scatter",
         "x": [
          10000,
          100000,
          200000,
          300000,
          400000,
          500000,
          600000,
          700000,
          800000,
          900000,
          1000000
         ],
         "y": [
          1.0021694230259306,
          1.0016738649966206,
          1.001564518493442,
          1.0014315584257159,
          1.001315935089377,
          1.0011850415121901,
          1.0010583250212237,
          1.0009316914756392,
          1.0008049693601322,
          1.000677242321283,
          1.0005473512778733
         ]
        }
       ],
       "layout": {
        "legend": {
         "title": {
          "text": "label (factor)"
         }
        },
        "margin": {
         "b": 20,
         "l": 50,
         "r": 20,
         "t": 60
        },
        "template": {
         "data": {
          "bar": [
           {
            "error_x": {
             "color": "#2a3f5f"
            },
            "error_y": {
             "color": "#2a3f5f"
            },
            "marker": {
             "line": {
              "color": "white",
              "width": 0.5
             },
             "pattern": {
              "fillmode": "overlay",
              "size": 10,
              "solidity": 0.2
             }
            },
            "type": "bar"
           }
          ],
          "barpolar": [
           {
            "marker": {
             "line": {
              "color": "white",
              "width": 0.5
             },
             "pattern": {
              "fillmode": "overlay",
              "size": 10,
              "solidity": 0.2
             }
            },
            "type": "barpolar"
           }
          ],
          "carpet": [
           {
            "aaxis": {
             "endlinecolor": "#2a3f5f",
             "gridcolor": "#C8D4E3",
             "linecolor": "#C8D4E3",
             "minorgridcolor": "#C8D4E3",
             "startlinecolor": "#2a3f5f"
            },
            "baxis": {
             "endlinecolor": "#2a3f5f",
             "gridcolor": "#C8D4E3",
             "linecolor": "#C8D4E3",
             "minorgridcolor": "#C8D4E3",
             "startlinecolor": "#2a3f5f"
            },
            "type": "carpet"
           }
          ],
          "choropleth": [
           {
            "colorbar": {
             "outlinewidth": 0,
             "ticks": ""
            },
            "type": "choropleth"
           }
          ],
          "contour": [
           {
            "colorbar": {
             "outlinewidth": 0,
             "ticks": ""
            },
            "colorscale": [
             [
              0,
              "#0d0887"
             ],
             [
              0.1111111111111111,
              "#46039f"
             ],
             [
              0.2222222222222222,
              "#7201a8"
             ],
             [
              0.3333333333333333,
              "#9c179e"
             ],
             [
              0.4444444444444444,
              "#bd3786"
             ],
             [
              0.5555555555555556,
              "#d8576b"
             ],
             [
              0.6666666666666666,
              "#ed7953"
             ],
             [
              0.7777777777777778,
              "#fb9f3a"
             ],
             [
              0.8888888888888888,
              "#fdca26"
             ],
             [
              1,
              "#f0f921"
             ]
            ],
            "type": "contour"
           }
          ],
          "contourcarpet": [
           {
            "colorbar": {
             "outlinewidth": 0,
             "ticks": ""
            },
            "type": "contourcarpet"
           }
          ],
          "heatmap": [
           {
            "colorbar": {
             "outlinewidth": 0,
             "ticks": ""
            },
            "colorscale": [
             [
              0,
              "#0d0887"
             ],
             [
              0.1111111111111111,
              "#46039f"
             ],
             [
              0.2222222222222222,
              "#7201a8"
             ],
             [
              0.3333333333333333,
              "#9c179e"
             ],
             [
              0.4444444444444444,
              "#bd3786"
             ],
             [
              0.5555555555555556,
              "#d8576b"
             ],
             [
              0.6666666666666666,
              "#ed7953"
             ],
             [
              0.7777777777777778,
              "#fb9f3a"
             ],
             [
              0.8888888888888888,
              "#fdca26"
             ],
             [
              1,
              "#f0f921"
             ]
            ],
            "type": "heatmap"
           }
          ],
          "heatmapgl": [
           {
            "colorbar": {
             "outlinewidth": 0,
             "ticks": ""
            },
            "colorscale": [
             [
              0,
              "#0d0887"
             ],
             [
              0.1111111111111111,
              "#46039f"
             ],
             [
              0.2222222222222222,
              "#7201a8"
             ],
             [
              0.3333333333333333,
              "#9c179e"
             ],
             [
              0.4444444444444444,
              "#bd3786"
             ],
             [
              0.5555555555555556,
              "#d8576b"
             ],
             [
              0.6666666666666666,
              "#ed7953"
             ],
             [
              0.7777777777777778,
              "#fb9f3a"
             ],
             [
              0.8888888888888888,
              "#fdca26"
             ],
             [
              1,
              "#f0f921"
             ]
            ],
            "type": "heatmapgl"
           }
          ],
          "histogram": [
           {
            "marker": {
             "pattern": {
              "fillmode": "overlay",
              "size": 10,
              "solidity": 0.2
             }
            },
            "type": "histogram"
           }
          ],
          "histogram2d": [
           {
            "colorbar": {
             "outlinewidth": 0,
             "ticks": ""
            },
            "colorscale": [
             [
              0,
              "#0d0887"
             ],
             [
              0.1111111111111111,
              "#46039f"
             ],
             [
              0.2222222222222222,
              "#7201a8"
             ],
             [
              0.3333333333333333,
              "#9c179e"
             ],
             [
              0.4444444444444444,
              "#bd3786"
             ],
             [
              0.5555555555555556,
              "#d8576b"
             ],
             [
              0.6666666666666666,
              "#ed7953"
             ],
             [
              0.7777777777777778,
              "#fb9f3a"
             ],
             [
              0.8888888888888888,
              "#fdca26"
             ],
             [
              1,
              "#f0f921"
             ]
            ],
            "type": "histogram2d"
           }
          ],
          "histogram2dcontour": [
           {
            "colorbar": {
             "outlinewidth": 0,
             "ticks": ""
            },
            "colorscale": [
             [
              0,
              "#0d0887"
             ],
             [
              0.1111111111111111,
              "#46039f"
             ],
             [
              0.2222222222222222,
              "#7201a8"
             ],
             [
              0.3333333333333333,
              "#9c179e"
             ],
             [
              0.4444444444444444,
              "#bd3786"
             ],
             [
              0.5555555555555556,
              "#d8576b"
             ],
             [
              0.6666666666666666,
              "#ed7953"
             ],
             [
              0.7777777777777778,
              "#fb9f3a"
             ],
             [
              0.8888888888888888,
              "#fdca26"
             ],
             [
              1,
              "#f0f921"
             ]
            ],
            "type": "histogram2dcontour"
           }
          ],
          "mesh3d": [
           {
            "colorbar": {
             "outlinewidth": 0,
             "ticks": ""
            },
            "type": "mesh3d"
           }
          ],
          "parcoords": [
           {
            "line": {
             "colorbar": {
              "outlinewidth": 0,
              "ticks": ""
             }
            },
            "type": "parcoords"
           }
          ],
          "pie": [
           {
            "automargin": true,
            "type": "pie"
           }
          ],
          "scatter": [
           {
            "fillpattern": {
             "fillmode": "overlay",
             "size": 10,
             "solidity": 0.2
            },
            "type": "scatter"
           }
          ],
          "scatter3d": [
           {
            "line": {
             "colorbar": {
              "outlinewidth": 0,
              "ticks": ""
             }
            },
            "marker": {
             "colorbar": {
              "outlinewidth": 0,
              "ticks": ""
             }
            },
            "type": "scatter3d"
           }
          ],
          "scattercarpet": [
           {
            "marker": {
             "colorbar": {
              "outlinewidth": 0,
              "ticks": ""
             }
            },
            "type": "scattercarpet"
           }
          ],
          "scattergeo": [
           {
            "marker": {
             "colorbar": {
              "outlinewidth": 0,
              "ticks": ""
             }
            },
            "type": "scattergeo"
           }
          ],
          "scattergl": [
           {
            "marker": {
             "colorbar": {
              "outlinewidth": 0,
              "ticks": ""
             }
            },
            "type": "scattergl"
           }
          ],
          "scattermapbox": [
           {
            "marker": {
             "colorbar": {
              "outlinewidth": 0,
              "ticks": ""
             }
            },
            "type": "scattermapbox"
           }
          ],
          "scatterpolar": [
           {
            "marker": {
             "colorbar": {
              "outlinewidth": 0,
              "ticks": ""
             }
            },
            "type": "scatterpolar"
           }
          ],
          "scatterpolargl": [
           {
            "marker": {
             "colorbar": {
              "outlinewidth": 0,
              "ticks": ""
             }
            },
            "type": "scatterpolargl"
           }
          ],
          "scatterternary": [
           {
            "marker": {
             "colorbar": {
              "outlinewidth": 0,
              "ticks": ""
             }
            },
            "type": "scatterternary"
           }
          ],
          "surface": [
           {
            "colorbar": {
             "outlinewidth": 0,
             "ticks": ""
            },
            "colorscale": [
             [
              0,
              "#0d0887"
             ],
             [
              0.1111111111111111,
              "#46039f"
             ],
             [
              0.2222222222222222,
              "#7201a8"
             ],
             [
              0.3333333333333333,
              "#9c179e"
             ],
             [
              0.4444444444444444,
              "#bd3786"
             ],
             [
              0.5555555555555556,
              "#d8576b"
             ],
             [
              0.6666666666666666,
              "#ed7953"
             ],
             [
              0.7777777777777778,
              "#fb9f3a"
             ],
             [
              0.8888888888888888,
              "#fdca26"
             ],
             [
              1,
              "#f0f921"
             ]
            ],
            "type": "surface"
           }
          ],
          "table": [
           {
            "cells": {
             "fill": {
              "color": "#EBF0F8"
             },
             "line": {
              "color": "white"
             }
            },
            "header": {
             "fill": {
              "color": "#C8D4E3"
             },
             "line": {
              "color": "white"
             }
            },
            "type": "table"
           }
          ]
         },
         "layout": {
          "annotationdefaults": {
           "arrowcolor": "#2a3f5f",
           "arrowhead": 0,
           "arrowwidth": 1
          },
          "autotypenumbers": "strict",
          "coloraxis": {
           "colorbar": {
            "outlinewidth": 0,
            "ticks": ""
           }
          },
          "colorscale": {
           "diverging": [
            [
             0,
             "#8e0152"
            ],
            [
             0.1,
             "#c51b7d"
            ],
            [
             0.2,
             "#de77ae"
            ],
            [
             0.3,
             "#f1b6da"
            ],
            [
             0.4,
             "#fde0ef"
            ],
            [
             0.5,
             "#f7f7f7"
            ],
            [
             0.6,
             "#e6f5d0"
            ],
            [
             0.7,
             "#b8e186"
            ],
            [
             0.8,
             "#7fbc41"
            ],
            [
             0.9,
             "#4d9221"
            ],
            [
             1,
             "#276419"
            ]
           ],
           "sequential": [
            [
             0,
             "#0d0887"
            ],
            [
             0.1111111111111111,
             "#46039f"
            ],
            [
             0.2222222222222222,
             "#7201a8"
            ],
            [
             0.3333333333333333,
             "#9c179e"
            ],
            [
             0.4444444444444444,
             "#bd3786"
            ],
            [
             0.5555555555555556,
             "#d8576b"
            ],
            [
             0.6666666666666666,
             "#ed7953"
            ],
            [
             0.7777777777777778,
             "#fb9f3a"
            ],
            [
             0.8888888888888888,
             "#fdca26"
            ],
            [
             1,
             "#f0f921"
            ]
           ],
           "sequentialminus": [
            [
             0,
             "#0d0887"
            ],
            [
             0.1111111111111111,
             "#46039f"
            ],
            [
             0.2222222222222222,
             "#7201a8"
            ],
            [
             0.3333333333333333,
             "#9c179e"
            ],
            [
             0.4444444444444444,
             "#bd3786"
            ],
            [
             0.5555555555555556,
             "#d8576b"
            ],
            [
             0.6666666666666666,
             "#ed7953"
            ],
            [
             0.7777777777777778,
             "#fb9f3a"
            ],
            [
             0.8888888888888888,
             "#fdca26"
            ],
            [
             1,
             "#f0f921"
            ]
           ]
          },
          "colorway": [
           "#636efa",
           "#EF553B",
           "#00cc96",
           "#ab63fa",
           "#FFA15A",
           "#19d3f3",
           "#FF6692",
           "#B6E880",
           "#FF97FF",
           "#FECB52"
          ],
          "font": {
           "color": "#2a3f5f"
          },
          "geo": {
           "bgcolor": "white",
           "lakecolor": "white",
           "landcolor": "white",
           "showlakes": true,
           "showland": true,
           "subunitcolor": "#C8D4E3"
          },
          "hoverlabel": {
           "align": "left"
          },
          "hovermode": "closest",
          "mapbox": {
           "style": "light"
          },
          "paper_bgcolor": "white",
          "plot_bgcolor": "white",
          "polar": {
           "angularaxis": {
            "gridcolor": "#EBF0F8",
            "linecolor": "#EBF0F8",
            "ticks": ""
           },
           "bgcolor": "white",
           "radialaxis": {
            "gridcolor": "#EBF0F8",
            "linecolor": "#EBF0F8",
            "ticks": ""
           }
          },
          "scene": {
           "xaxis": {
            "backgroundcolor": "white",
            "gridcolor": "#DFE8F3",
            "gridwidth": 2,
            "linecolor": "#EBF0F8",
            "showbackground": true,
            "ticks": "",
            "zerolinecolor": "#EBF0F8"
           },
           "yaxis": {
            "backgroundcolor": "white",
            "gridcolor": "#DFE8F3",
            "gridwidth": 2,
            "linecolor": "#EBF0F8",
            "showbackground": true,
            "ticks": "",
            "zerolinecolor": "#EBF0F8"
           },
           "zaxis": {
            "backgroundcolor": "white",
            "gridcolor": "#DFE8F3",
            "gridwidth": 2,
            "linecolor": "#EBF0F8",
            "showbackground": true,
            "ticks": "",
            "zerolinecolor": "#EBF0F8"
           }
          },
          "shapedefaults": {
           "line": {
            "color": "#2a3f5f"
           }
          },
          "ternary": {
           "aaxis": {
            "gridcolor": "#DFE8F3",
            "linecolor": "#A2B1C6",
            "ticks": ""
           },
           "baxis": {
            "gridcolor": "#DFE8F3",
            "linecolor": "#A2B1C6",
            "ticks": ""
           },
           "bgcolor": "white",
           "caxis": {
            "gridcolor": "#DFE8F3",
            "linecolor": "#A2B1C6",
            "ticks": ""
           }
          },
          "title": {
           "x": 0.05
          },
          "xaxis": {
           "automargin": true,
           "gridcolor": "#EBF0F8",
           "linecolor": "#EBF0F8",
           "ticks": "",
           "title": {
            "standoff": 15
           },
           "zerolinecolor": "#EBF0F8",
           "zerolinewidth": 2
          },
          "yaxis": {
           "automargin": true,
           "gridcolor": "#EBF0F8",
           "linecolor": "#EBF0F8",
           "ticks": "",
           "title": {
            "standoff": 15
           },
           "zerolinecolor": "#EBF0F8",
           "zerolinewidth": 2
          }
         }
        },
        "title": {
         "text": "Slippage vs Amount — deUSD (absolute & portion overlaid)"
        },
        "xaxis": {
         "title": {
          "text": "scaled_amount_in"
         }
        },
        "yaxis": {
         "title": {
          "text": "effective_price"
         }
        }
       }
      }
     },
     "metadata": {},
     "output_type": "display_data"
    },
    {
     "data": {
      "application/vnd.plotly.v1+json": {
       "config": {
        "plotlyServerURL": "https://plot.ly"
       },
       "data": [
        {
         "hovertemplate": "label=%{text}<br>factor=absolute<br>scaled_amount_in=%{x}<br>effective_price=%{y}<extra></extra>",
         "legendgroup": "reUSD - odos",
         "marker": {
          "color": "#FFA15A",
          "line": {
           "width": 0.5
          },
          "size": 7,
          "symbol": "circle"
         },
         "mode": "markers",
         "name": "reUSD - odos (absolute)",
         "text": [
          "reUSD - odos",
          "reUSD - odos",
          "reUSD - odos",
          "reUSD - odos",
          "reUSD - odos",
          "reUSD - odos",
          "reUSD - odos",
          "reUSD - odos",
          "reUSD - odos",
          "reUSD - odos",
          "reUSD - odos"
         ],
         "type": "scatter",
         "x": [
          10000,
          100000,
          200000,
          300000,
          400000,
          500000,
          600000,
          700000,
          800000,
          900000,
          1000000
         ],
         "y": [
          0.9921626280982808,
          0.9917256901303823,
          0.9916063363718214,
          0.9914806834731577,
          0.9913628530133715,
          0.9912482217579051,
          0.9911517823234633,
          0.9910631225449391,
          0.9909611015516497,
          0.990859571912465,
          0.9907583578730608
         ]
        },
        {
         "hovertemplate": "label=%{text}<br>factor=absolute<br>scaled_amount_in=%{x}<br>effective_price=%{y}<extra></extra>",
         "legendgroup": "reUSD - tokemak",
         "marker": {
          "color": "#19D3F3",
          "line": {
           "width": 0.5
          },
          "size": 7,
          "symbol": "circle"
         },
         "mode": "markers",
         "name": "reUSD - tokemak (absolute)",
         "text": [
          "reUSD - tokemak",
          "reUSD - tokemak",
          "reUSD - tokemak",
          "reUSD - tokemak",
          "reUSD - tokemak",
          "reUSD - tokemak",
          "reUSD - tokemak",
          "reUSD - tokemak",
          "reUSD - tokemak",
          "reUSD - tokemak",
          "reUSD - tokemak"
         ],
         "type": "scatter",
         "x": [
          10000,
          100000,
          200000,
          300000,
          400000,
          500000,
          600000,
          700000,
          800000,
          900000,
          1000000
         ],
         "y": [
          0.9921625424149746,
          0.9917256795325241,
          0.9916063311524731,
          0.991480673696422,
          0.9913629074503786,
          0.9912482254079751,
          0.9911517859906831,
          0.9910631144261689,
          0.9909610741997014,
          0.9908595524065646,
          0.9907583384726695
         ]
        }
       ],
       "layout": {
        "legend": {
         "title": {
          "text": "label (factor)"
         }
        },
        "margin": {
         "b": 20,
         "l": 50,
         "r": 20,
         "t": 60
        },
        "template": {
         "data": {
          "bar": [
           {
            "error_x": {
             "color": "#2a3f5f"
            },
            "error_y": {
             "color": "#2a3f5f"
            },
            "marker": {
             "line": {
              "color": "white",
              "width": 0.5
             },
             "pattern": {
              "fillmode": "overlay",
              "size": 10,
              "solidity": 0.2
             }
            },
            "type": "bar"
           }
          ],
          "barpolar": [
           {
            "marker": {
             "line": {
              "color": "white",
              "width": 0.5
             },
             "pattern": {
              "fillmode": "overlay",
              "size": 10,
              "solidity": 0.2
             }
            },
            "type": "barpolar"
           }
          ],
          "carpet": [
           {
            "aaxis": {
             "endlinecolor": "#2a3f5f",
             "gridcolor": "#C8D4E3",
             "linecolor": "#C8D4E3",
             "minorgridcolor": "#C8D4E3",
             "startlinecolor": "#2a3f5f"
            },
            "baxis": {
             "endlinecolor": "#2a3f5f",
             "gridcolor": "#C8D4E3",
             "linecolor": "#C8D4E3",
             "minorgridcolor": "#C8D4E3",
             "startlinecolor": "#2a3f5f"
            },
            "type": "carpet"
           }
          ],
          "choropleth": [
           {
            "colorbar": {
             "outlinewidth": 0,
             "ticks": ""
            },
            "type": "choropleth"
           }
          ],
          "contour": [
           {
            "colorbar": {
             "outlinewidth": 0,
             "ticks": ""
            },
            "colorscale": [
             [
              0,
              "#0d0887"
             ],
             [
              0.1111111111111111,
              "#46039f"
             ],
             [
              0.2222222222222222,
              "#7201a8"
             ],
             [
              0.3333333333333333,
              "#9c179e"
             ],
             [
              0.4444444444444444,
              "#bd3786"
             ],
             [
              0.5555555555555556,
              "#d8576b"
             ],
             [
              0.6666666666666666,
              "#ed7953"
             ],
             [
              0.7777777777777778,
              "#fb9f3a"
             ],
             [
              0.8888888888888888,
              "#fdca26"
             ],
             [
              1,
              "#f0f921"
             ]
            ],
            "type": "contour"
           }
          ],
          "contourcarpet": [
           {
            "colorbar": {
             "outlinewidth": 0,
             "ticks": ""
            },
            "type": "contourcarpet"
           }
          ],
          "heatmap": [
           {
            "colorbar": {
             "outlinewidth": 0,
             "ticks": ""
            },
            "colorscale": [
             [
              0,
              "#0d0887"
             ],
             [
              0.1111111111111111,
              "#46039f"
             ],
             [
              0.2222222222222222,
              "#7201a8"
             ],
             [
              0.3333333333333333,
              "#9c179e"
             ],
             [
              0.4444444444444444,
              "#bd3786"
             ],
             [
              0.5555555555555556,
              "#d8576b"
             ],
             [
              0.6666666666666666,
              "#ed7953"
             ],
             [
              0.7777777777777778,
              "#fb9f3a"
             ],
             [
              0.8888888888888888,
              "#fdca26"
             ],
             [
              1,
              "#f0f921"
             ]
            ],
            "type": "heatmap"
           }
          ],
          "heatmapgl": [
           {
            "colorbar": {
             "outlinewidth": 0,
             "ticks": ""
            },
            "colorscale": [
             [
              0,
              "#0d0887"
             ],
             [
              0.1111111111111111,
              "#46039f"
             ],
             [
              0.2222222222222222,
              "#7201a8"
             ],
             [
              0.3333333333333333,
              "#9c179e"
             ],
             [
              0.4444444444444444,
              "#bd3786"
             ],
             [
              0.5555555555555556,
              "#d8576b"
             ],
             [
              0.6666666666666666,
              "#ed7953"
             ],
             [
              0.7777777777777778,
              "#fb9f3a"
             ],
             [
              0.8888888888888888,
              "#fdca26"
             ],
             [
              1,
              "#f0f921"
             ]
            ],
            "type": "heatmapgl"
           }
          ],
          "histogram": [
           {
            "marker": {
             "pattern": {
              "fillmode": "overlay",
              "size": 10,
              "solidity": 0.2
             }
            },
            "type": "histogram"
           }
          ],
          "histogram2d": [
           {
            "colorbar": {
             "outlinewidth": 0,
             "ticks": ""
            },
            "colorscale": [
             [
              0,
              "#0d0887"
             ],
             [
              0.1111111111111111,
              "#46039f"
             ],
             [
              0.2222222222222222,
              "#7201a8"
             ],
             [
              0.3333333333333333,
              "#9c179e"
             ],
             [
              0.4444444444444444,
              "#bd3786"
             ],
             [
              0.5555555555555556,
              "#d8576b"
             ],
             [
              0.6666666666666666,
              "#ed7953"
             ],
             [
              0.7777777777777778,
              "#fb9f3a"
             ],
             [
              0.8888888888888888,
              "#fdca26"
             ],
             [
              1,
              "#f0f921"
             ]
            ],
            "type": "histogram2d"
           }
          ],
          "histogram2dcontour": [
           {
            "colorbar": {
             "outlinewidth": 0,
             "ticks": ""
            },
            "colorscale": [
             [
              0,
              "#0d0887"
             ],
             [
              0.1111111111111111,
              "#46039f"
             ],
             [
              0.2222222222222222,
              "#7201a8"
             ],
             [
              0.3333333333333333,
              "#9c179e"
             ],
             [
              0.4444444444444444,
              "#bd3786"
             ],
             [
              0.5555555555555556,
              "#d8576b"
             ],
             [
              0.6666666666666666,
              "#ed7953"
             ],
             [
              0.7777777777777778,
              "#fb9f3a"
             ],
             [
              0.8888888888888888,
              "#fdca26"
             ],
             [
              1,
              "#f0f921"
             ]
            ],
            "type": "histogram2dcontour"
           }
          ],
          "mesh3d": [
           {
            "colorbar": {
             "outlinewidth": 0,
             "ticks": ""
            },
            "type": "mesh3d"
           }
          ],
          "parcoords": [
           {
            "line": {
             "colorbar": {
              "outlinewidth": 0,
              "ticks": ""
             }
            },
            "type": "parcoords"
           }
          ],
          "pie": [
           {
            "automargin": true,
            "type": "pie"
           }
          ],
          "scatter": [
           {
            "fillpattern": {
             "fillmode": "overlay",
             "size": 10,
             "solidity": 0.2
            },
            "type": "scatter"
           }
          ],
          "scatter3d": [
           {
            "line": {
             "colorbar": {
              "outlinewidth": 0,
              "ticks": ""
             }
            },
            "marker": {
             "colorbar": {
              "outlinewidth": 0,
              "ticks": ""
             }
            },
            "type": "scatter3d"
           }
          ],
          "scattercarpet": [
           {
            "marker": {
             "colorbar": {
              "outlinewidth": 0,
              "ticks": ""
             }
            },
            "type": "scattercarpet"
           }
          ],
          "scattergeo": [
           {
            "marker": {
             "colorbar": {
              "outlinewidth": 0,
              "ticks": ""
             }
            },
            "type": "scattergeo"
           }
          ],
          "scattergl": [
           {
            "marker": {
             "colorbar": {
              "outlinewidth": 0,
              "ticks": ""
             }
            },
            "type": "scattergl"
           }
          ],
          "scattermapbox": [
           {
            "marker": {
             "colorbar": {
              "outlinewidth": 0,
              "ticks": ""
             }
            },
            "type": "scattermapbox"
           }
          ],
          "scatterpolar": [
           {
            "marker": {
             "colorbar": {
              "outlinewidth": 0,
              "ticks": ""
             }
            },
            "type": "scatterpolar"
           }
          ],
          "scatterpolargl": [
           {
            "marker": {
             "colorbar": {
              "outlinewidth": 0,
              "ticks": ""
             }
            },
            "type": "scatterpolargl"
           }
          ],
          "scatterternary": [
           {
            "marker": {
             "colorbar": {
              "outlinewidth": 0,
              "ticks": ""
             }
            },
            "type": "scatterternary"
           }
          ],
          "surface": [
           {
            "colorbar": {
             "outlinewidth": 0,
             "ticks": ""
            },
            "colorscale": [
             [
              0,
              "#0d0887"
             ],
             [
              0.1111111111111111,
              "#46039f"
             ],
             [
              0.2222222222222222,
              "#7201a8"
             ],
             [
              0.3333333333333333,
              "#9c179e"
             ],
             [
              0.4444444444444444,
              "#bd3786"
             ],
             [
              0.5555555555555556,
              "#d8576b"
             ],
             [
              0.6666666666666666,
              "#ed7953"
             ],
             [
              0.7777777777777778,
              "#fb9f3a"
             ],
             [
              0.8888888888888888,
              "#fdca26"
             ],
             [
              1,
              "#f0f921"
             ]
            ],
            "type": "surface"
           }
          ],
          "table": [
           {
            "cells": {
             "fill": {
              "color": "#EBF0F8"
             },
             "line": {
              "color": "white"
             }
            },
            "header": {
             "fill": {
              "color": "#C8D4E3"
             },
             "line": {
              "color": "white"
             }
            },
            "type": "table"
           }
          ]
         },
         "layout": {
          "annotationdefaults": {
           "arrowcolor": "#2a3f5f",
           "arrowhead": 0,
           "arrowwidth": 1
          },
          "autotypenumbers": "strict",
          "coloraxis": {
           "colorbar": {
            "outlinewidth": 0,
            "ticks": ""
           }
          },
          "colorscale": {
           "diverging": [
            [
             0,
             "#8e0152"
            ],
            [
             0.1,
             "#c51b7d"
            ],
            [
             0.2,
             "#de77ae"
            ],
            [
             0.3,
             "#f1b6da"
            ],
            [
             0.4,
             "#fde0ef"
            ],
            [
             0.5,
             "#f7f7f7"
            ],
            [
             0.6,
             "#e6f5d0"
            ],
            [
             0.7,
             "#b8e186"
            ],
            [
             0.8,
             "#7fbc41"
            ],
            [
             0.9,
             "#4d9221"
            ],
            [
             1,
             "#276419"
            ]
           ],
           "sequential": [
            [
             0,
             "#0d0887"
            ],
            [
             0.1111111111111111,
             "#46039f"
            ],
            [
             0.2222222222222222,
             "#7201a8"
            ],
            [
             0.3333333333333333,
             "#9c179e"
            ],
            [
             0.4444444444444444,
             "#bd3786"
            ],
            [
             0.5555555555555556,
             "#d8576b"
            ],
            [
             0.6666666666666666,
             "#ed7953"
            ],
            [
             0.7777777777777778,
             "#fb9f3a"
            ],
            [
             0.8888888888888888,
             "#fdca26"
            ],
            [
             1,
             "#f0f921"
            ]
           ],
           "sequentialminus": [
            [
             0,
             "#0d0887"
            ],
            [
             0.1111111111111111,
             "#46039f"
            ],
            [
             0.2222222222222222,
             "#7201a8"
            ],
            [
             0.3333333333333333,
             "#9c179e"
            ],
            [
             0.4444444444444444,
             "#bd3786"
            ],
            [
             0.5555555555555556,
             "#d8576b"
            ],
            [
             0.6666666666666666,
             "#ed7953"
            ],
            [
             0.7777777777777778,
             "#fb9f3a"
            ],
            [
             0.8888888888888888,
             "#fdca26"
            ],
            [
             1,
             "#f0f921"
            ]
           ]
          },
          "colorway": [
           "#636efa",
           "#EF553B",
           "#00cc96",
           "#ab63fa",
           "#FFA15A",
           "#19d3f3",
           "#FF6692",
           "#B6E880",
           "#FF97FF",
           "#FECB52"
          ],
          "font": {
           "color": "#2a3f5f"
          },
          "geo": {
           "bgcolor": "white",
           "lakecolor": "white",
           "landcolor": "white",
           "showlakes": true,
           "showland": true,
           "subunitcolor": "#C8D4E3"
          },
          "hoverlabel": {
           "align": "left"
          },
          "hovermode": "closest",
          "mapbox": {
           "style": "light"
          },
          "paper_bgcolor": "white",
          "plot_bgcolor": "white",
          "polar": {
           "angularaxis": {
            "gridcolor": "#EBF0F8",
            "linecolor": "#EBF0F8",
            "ticks": ""
           },
           "bgcolor": "white",
           "radialaxis": {
            "gridcolor": "#EBF0F8",
            "linecolor": "#EBF0F8",
            "ticks": ""
           }
          },
          "scene": {
           "xaxis": {
            "backgroundcolor": "white",
            "gridcolor": "#DFE8F3",
            "gridwidth": 2,
            "linecolor": "#EBF0F8",
            "showbackground": true,
            "ticks": "",
            "zerolinecolor": "#EBF0F8"
           },
           "yaxis": {
            "backgroundcolor": "white",
            "gridcolor": "#DFE8F3",
            "gridwidth": 2,
            "linecolor": "#EBF0F8",
            "showbackground": true,
            "ticks": "",
            "zerolinecolor": "#EBF0F8"
           },
           "zaxis": {
            "backgroundcolor": "white",
            "gridcolor": "#DFE8F3",
            "gridwidth": 2,
            "linecolor": "#EBF0F8",
            "showbackground": true,
            "ticks": "",
            "zerolinecolor": "#EBF0F8"
           }
          },
          "shapedefaults": {
           "line": {
            "color": "#2a3f5f"
           }
          },
          "ternary": {
           "aaxis": {
            "gridcolor": "#DFE8F3",
            "linecolor": "#A2B1C6",
            "ticks": ""
           },
           "baxis": {
            "gridcolor": "#DFE8F3",
            "linecolor": "#A2B1C6",
            "ticks": ""
           },
           "bgcolor": "white",
           "caxis": {
            "gridcolor": "#DFE8F3",
            "linecolor": "#A2B1C6",
            "ticks": ""
           }
          },
          "title": {
           "x": 0.05
          },
          "xaxis": {
           "automargin": true,
           "gridcolor": "#EBF0F8",
           "linecolor": "#EBF0F8",
           "ticks": "",
           "title": {
            "standoff": 15
           },
           "zerolinecolor": "#EBF0F8",
           "zerolinewidth": 2
          },
          "yaxis": {
           "automargin": true,
           "gridcolor": "#EBF0F8",
           "linecolor": "#EBF0F8",
           "ticks": "",
           "title": {
            "standoff": 15
           },
           "zerolinecolor": "#EBF0F8",
           "zerolinewidth": 2
          }
         }
        },
        "title": {
         "text": "Slippage vs Amount — reUSD (absolute & portion overlaid)"
        },
        "xaxis": {
         "title": {
          "text": "scaled_amount_in"
         }
        },
        "yaxis": {
         "title": {
          "text": "effective_price"
         }
        }
       }
      }
     },
     "metadata": {},
     "output_type": "display_data"
    },
    {
     "data": {
      "application/vnd.plotly.v1+json": {
       "config": {
        "plotlyServerURL": "https://plot.ly"
       },
       "data": [
        {
         "hovertemplate": "label=%{text}<br>factor=absolute<br>scaled_amount_in=%{x}<br>effective_price=%{y}<extra></extra>",
         "legendgroup": "sDOLA - odos",
         "marker": {
          "color": "#FF6692",
          "line": {
           "width": 0.5
          },
          "size": 7,
          "symbol": "circle"
         },
         "mode": "markers",
         "name": "sDOLA - odos (absolute)",
         "text": [
          "sDOLA - odos",
          "sDOLA - odos",
          "sDOLA - odos",
          "sDOLA - odos",
          "sDOLA - odos",
          "sDOLA - odos",
          "sDOLA - odos",
          "sDOLA - odos",
          "sDOLA - odos",
          "sDOLA - odos",
          "sDOLA - odos"
         ],
         "type": "scatter",
         "x": [
          10000,
          100000,
          200000,
          300000,
          400000,
          500000,
          600000,
          700000,
          800000,
          900000,
          1000000
         ],
         "y": [
          1.14910973932129,
          1.1491095623456646,
          1.149109562345665,
          1.1491095623456642,
          1.1491097393212895,
          1.149109562345664,
          1.1491097393212888,
          1.1491097393212892,
          1.1491097393212895,
          1.14910973932129,
          1.1491097393212883
         ]
        },
        {
         "hovertemplate": "label=%{text}<br>factor=absolute<br>scaled_amount_in=%{x}<br>effective_price=%{y}<extra></extra>",
         "legendgroup": "sDOLA - tokemak",
         "marker": {
          "color": "#B6E880",
          "line": {
           "width": 0.5
          },
          "size": 7,
          "symbol": "circle"
         },
         "mode": "markers",
         "name": "sDOLA - tokemak (absolute)",
         "text": [
          "sDOLA - tokemak",
          "sDOLA - tokemak",
          "sDOLA - tokemak",
          "sDOLA - tokemak",
          "sDOLA - tokemak",
          "sDOLA - tokemak",
          "sDOLA - tokemak",
          "sDOLA - tokemak",
          "sDOLA - tokemak",
          "sDOLA - tokemak",
          "sDOLA - tokemak"
         ],
         "type": "scatter",
         "x": [
          10000,
          100000,
          200000,
          300000,
          400000,
          500000,
          600000,
          700000,
          800000,
          900000,
          1000000
         ],
         "y": [
          1.1491103410384114,
          1.1491100932725375,
          1.1491101286676624,
          1.149110164062787,
          1.1491101640627877,
          1.149110199457912,
          1.1491102348530369,
          1.1491102348530369,
          1.1491102702481617,
          1.1491103056432865,
          1.1491103410384116
         ]
        }
       ],
       "layout": {
        "legend": {
         "title": {
          "text": "label (factor)"
         }
        },
        "margin": {
         "b": 20,
         "l": 50,
         "r": 20,
         "t": 60
        },
        "template": {
         "data": {
          "bar": [
           {
            "error_x": {
             "color": "#2a3f5f"
            },
            "error_y": {
             "color": "#2a3f5f"
            },
            "marker": {
             "line": {
              "color": "white",
              "width": 0.5
             },
             "pattern": {
              "fillmode": "overlay",
              "size": 10,
              "solidity": 0.2
             }
            },
            "type": "bar"
           }
          ],
          "barpolar": [
           {
            "marker": {
             "line": {
              "color": "white",
              "width": 0.5
             },
             "pattern": {
              "fillmode": "overlay",
              "size": 10,
              "solidity": 0.2
             }
            },
            "type": "barpolar"
           }
          ],
          "carpet": [
           {
            "aaxis": {
             "endlinecolor": "#2a3f5f",
             "gridcolor": "#C8D4E3",
             "linecolor": "#C8D4E3",
             "minorgridcolor": "#C8D4E3",
             "startlinecolor": "#2a3f5f"
            },
            "baxis": {
             "endlinecolor": "#2a3f5f",
             "gridcolor": "#C8D4E3",
             "linecolor": "#C8D4E3",
             "minorgridcolor": "#C8D4E3",
             "startlinecolor": "#2a3f5f"
            },
            "type": "carpet"
           }
          ],
          "choropleth": [
           {
            "colorbar": {
             "outlinewidth": 0,
             "ticks": ""
            },
            "type": "choropleth"
           }
          ],
          "contour": [
           {
            "colorbar": {
             "outlinewidth": 0,
             "ticks": ""
            },
            "colorscale": [
             [
              0,
              "#0d0887"
             ],
             [
              0.1111111111111111,
              "#46039f"
             ],
             [
              0.2222222222222222,
              "#7201a8"
             ],
             [
              0.3333333333333333,
              "#9c179e"
             ],
             [
              0.4444444444444444,
              "#bd3786"
             ],
             [
              0.5555555555555556,
              "#d8576b"
             ],
             [
              0.6666666666666666,
              "#ed7953"
             ],
             [
              0.7777777777777778,
              "#fb9f3a"
             ],
             [
              0.8888888888888888,
              "#fdca26"
             ],
             [
              1,
              "#f0f921"
             ]
            ],
            "type": "contour"
           }
          ],
          "contourcarpet": [
           {
            "colorbar": {
             "outlinewidth": 0,
             "ticks": ""
            },
            "type": "contourcarpet"
           }
          ],
          "heatmap": [
           {
            "colorbar": {
             "outlinewidth": 0,
             "ticks": ""
            },
            "colorscale": [
             [
              0,
              "#0d0887"
             ],
             [
              0.1111111111111111,
              "#46039f"
             ],
             [
              0.2222222222222222,
              "#7201a8"
             ],
             [
              0.3333333333333333,
              "#9c179e"
             ],
             [
              0.4444444444444444,
              "#bd3786"
             ],
             [
              0.5555555555555556,
              "#d8576b"
             ],
             [
              0.6666666666666666,
              "#ed7953"
             ],
             [
              0.7777777777777778,
              "#fb9f3a"
             ],
             [
              0.8888888888888888,
              "#fdca26"
             ],
             [
              1,
              "#f0f921"
             ]
            ],
            "type": "heatmap"
           }
          ],
          "heatmapgl": [
           {
            "colorbar": {
             "outlinewidth": 0,
             "ticks": ""
            },
            "colorscale": [
             [
              0,
              "#0d0887"
             ],
             [
              0.1111111111111111,
              "#46039f"
             ],
             [
              0.2222222222222222,
              "#7201a8"
             ],
             [
              0.3333333333333333,
              "#9c179e"
             ],
             [
              0.4444444444444444,
              "#bd3786"
             ],
             [
              0.5555555555555556,
              "#d8576b"
             ],
             [
              0.6666666666666666,
              "#ed7953"
             ],
             [
              0.7777777777777778,
              "#fb9f3a"
             ],
             [
              0.8888888888888888,
              "#fdca26"
             ],
             [
              1,
              "#f0f921"
             ]
            ],
            "type": "heatmapgl"
           }
          ],
          "histogram": [
           {
            "marker": {
             "pattern": {
              "fillmode": "overlay",
              "size": 10,
              "solidity": 0.2
             }
            },
            "type": "histogram"
           }
          ],
          "histogram2d": [
           {
            "colorbar": {
             "outlinewidth": 0,
             "ticks": ""
            },
            "colorscale": [
             [
              0,
              "#0d0887"
             ],
             [
              0.1111111111111111,
              "#46039f"
             ],
             [
              0.2222222222222222,
              "#7201a8"
             ],
             [
              0.3333333333333333,
              "#9c179e"
             ],
             [
              0.4444444444444444,
              "#bd3786"
             ],
             [
              0.5555555555555556,
              "#d8576b"
             ],
             [
              0.6666666666666666,
              "#ed7953"
             ],
             [
              0.7777777777777778,
              "#fb9f3a"
             ],
             [
              0.8888888888888888,
              "#fdca26"
             ],
             [
              1,
              "#f0f921"
             ]
            ],
            "type": "histogram2d"
           }
          ],
          "histogram2dcontour": [
           {
            "colorbar": {
             "outlinewidth": 0,
             "ticks": ""
            },
            "colorscale": [
             [
              0,
              "#0d0887"
             ],
             [
              0.1111111111111111,
              "#46039f"
             ],
             [
              0.2222222222222222,
              "#7201a8"
             ],
             [
              0.3333333333333333,
              "#9c179e"
             ],
             [
              0.4444444444444444,
              "#bd3786"
             ],
             [
              0.5555555555555556,
              "#d8576b"
             ],
             [
              0.6666666666666666,
              "#ed7953"
             ],
             [
              0.7777777777777778,
              "#fb9f3a"
             ],
             [
              0.8888888888888888,
              "#fdca26"
             ],
             [
              1,
              "#f0f921"
             ]
            ],
            "type": "histogram2dcontour"
           }
          ],
          "mesh3d": [
           {
            "colorbar": {
             "outlinewidth": 0,
             "ticks": ""
            },
            "type": "mesh3d"
           }
          ],
          "parcoords": [
           {
            "line": {
             "colorbar": {
              "outlinewidth": 0,
              "ticks": ""
             }
            },
            "type": "parcoords"
           }
          ],
          "pie": [
           {
            "automargin": true,
            "type": "pie"
           }
          ],
          "scatter": [
           {
            "fillpattern": {
             "fillmode": "overlay",
             "size": 10,
             "solidity": 0.2
            },
            "type": "scatter"
           }
          ],
          "scatter3d": [
           {
            "line": {
             "colorbar": {
              "outlinewidth": 0,
              "ticks": ""
             }
            },
            "marker": {
             "colorbar": {
              "outlinewidth": 0,
              "ticks": ""
             }
            },
            "type": "scatter3d"
           }
          ],
          "scattercarpet": [
           {
            "marker": {
             "colorbar": {
              "outlinewidth": 0,
              "ticks": ""
             }
            },
            "type": "scattercarpet"
           }
          ],
          "scattergeo": [
           {
            "marker": {
             "colorbar": {
              "outlinewidth": 0,
              "ticks": ""
             }
            },
            "type": "scattergeo"
           }
          ],
          "scattergl": [
           {
            "marker": {
             "colorbar": {
              "outlinewidth": 0,
              "ticks": ""
             }
            },
            "type": "scattergl"
           }
          ],
          "scattermapbox": [
           {
            "marker": {
             "colorbar": {
              "outlinewidth": 0,
              "ticks": ""
             }
            },
            "type": "scattermapbox"
           }
          ],
          "scatterpolar": [
           {
            "marker": {
             "colorbar": {
              "outlinewidth": 0,
              "ticks": ""
             }
            },
            "type": "scatterpolar"
           }
          ],
          "scatterpolargl": [
           {
            "marker": {
             "colorbar": {
              "outlinewidth": 0,
              "ticks": ""
             }
            },
            "type": "scatterpolargl"
           }
          ],
          "scatterternary": [
           {
            "marker": {
             "colorbar": {
              "outlinewidth": 0,
              "ticks": ""
             }
            },
            "type": "scatterternary"
           }
          ],
          "surface": [
           {
            "colorbar": {
             "outlinewidth": 0,
             "ticks": ""
            },
            "colorscale": [
             [
              0,
              "#0d0887"
             ],
             [
              0.1111111111111111,
              "#46039f"
             ],
             [
              0.2222222222222222,
              "#7201a8"
             ],
             [
              0.3333333333333333,
              "#9c179e"
             ],
             [
              0.4444444444444444,
              "#bd3786"
             ],
             [
              0.5555555555555556,
              "#d8576b"
             ],
             [
              0.6666666666666666,
              "#ed7953"
             ],
             [
              0.7777777777777778,
              "#fb9f3a"
             ],
             [
              0.8888888888888888,
              "#fdca26"
             ],
             [
              1,
              "#f0f921"
             ]
            ],
            "type": "surface"
           }
          ],
          "table": [
           {
            "cells": {
             "fill": {
              "color": "#EBF0F8"
             },
             "line": {
              "color": "white"
             }
            },
            "header": {
             "fill": {
              "color": "#C8D4E3"
             },
             "line": {
              "color": "white"
             }
            },
            "type": "table"
           }
          ]
         },
         "layout": {
          "annotationdefaults": {
           "arrowcolor": "#2a3f5f",
           "arrowhead": 0,
           "arrowwidth": 1
          },
          "autotypenumbers": "strict",
          "coloraxis": {
           "colorbar": {
            "outlinewidth": 0,
            "ticks": ""
           }
          },
          "colorscale": {
           "diverging": [
            [
             0,
             "#8e0152"
            ],
            [
             0.1,
             "#c51b7d"
            ],
            [
             0.2,
             "#de77ae"
            ],
            [
             0.3,
             "#f1b6da"
            ],
            [
             0.4,
             "#fde0ef"
            ],
            [
             0.5,
             "#f7f7f7"
            ],
            [
             0.6,
             "#e6f5d0"
            ],
            [
             0.7,
             "#b8e186"
            ],
            [
             0.8,
             "#7fbc41"
            ],
            [
             0.9,
             "#4d9221"
            ],
            [
             1,
             "#276419"
            ]
           ],
           "sequential": [
            [
             0,
             "#0d0887"
            ],
            [
             0.1111111111111111,
             "#46039f"
            ],
            [
             0.2222222222222222,
             "#7201a8"
            ],
            [
             0.3333333333333333,
             "#9c179e"
            ],
            [
             0.4444444444444444,
             "#bd3786"
            ],
            [
             0.5555555555555556,
             "#d8576b"
            ],
            [
             0.6666666666666666,
             "#ed7953"
            ],
            [
             0.7777777777777778,
             "#fb9f3a"
            ],
            [
             0.8888888888888888,
             "#fdca26"
            ],
            [
             1,
             "#f0f921"
            ]
           ],
           "sequentialminus": [
            [
             0,
             "#0d0887"
            ],
            [
             0.1111111111111111,
             "#46039f"
            ],
            [
             0.2222222222222222,
             "#7201a8"
            ],
            [
             0.3333333333333333,
             "#9c179e"
            ],
            [
             0.4444444444444444,
             "#bd3786"
            ],
            [
             0.5555555555555556,
             "#d8576b"
            ],
            [
             0.6666666666666666,
             "#ed7953"
            ],
            [
             0.7777777777777778,
             "#fb9f3a"
            ],
            [
             0.8888888888888888,
             "#fdca26"
            ],
            [
             1,
             "#f0f921"
            ]
           ]
          },
          "colorway": [
           "#636efa",
           "#EF553B",
           "#00cc96",
           "#ab63fa",
           "#FFA15A",
           "#19d3f3",
           "#FF6692",
           "#B6E880",
           "#FF97FF",
           "#FECB52"
          ],
          "font": {
           "color": "#2a3f5f"
          },
          "geo": {
           "bgcolor": "white",
           "lakecolor": "white",
           "landcolor": "white",
           "showlakes": true,
           "showland": true,
           "subunitcolor": "#C8D4E3"
          },
          "hoverlabel": {
           "align": "left"
          },
          "hovermode": "closest",
          "mapbox": {
           "style": "light"
          },
          "paper_bgcolor": "white",
          "plot_bgcolor": "white",
          "polar": {
           "angularaxis": {
            "gridcolor": "#EBF0F8",
            "linecolor": "#EBF0F8",
            "ticks": ""
           },
           "bgcolor": "white",
           "radialaxis": {
            "gridcolor": "#EBF0F8",
            "linecolor": "#EBF0F8",
            "ticks": ""
           }
          },
          "scene": {
           "xaxis": {
            "backgroundcolor": "white",
            "gridcolor": "#DFE8F3",
            "gridwidth": 2,
            "linecolor": "#EBF0F8",
            "showbackground": true,
            "ticks": "",
            "zerolinecolor": "#EBF0F8"
           },
           "yaxis": {
            "backgroundcolor": "white",
            "gridcolor": "#DFE8F3",
            "gridwidth": 2,
            "linecolor": "#EBF0F8",
            "showbackground": true,
            "ticks": "",
            "zerolinecolor": "#EBF0F8"
           },
           "zaxis": {
            "backgroundcolor": "white",
            "gridcolor": "#DFE8F3",
            "gridwidth": 2,
            "linecolor": "#EBF0F8",
            "showbackground": true,
            "ticks": "",
            "zerolinecolor": "#EBF0F8"
           }
          },
          "shapedefaults": {
           "line": {
            "color": "#2a3f5f"
           }
          },
          "ternary": {
           "aaxis": {
            "gridcolor": "#DFE8F3",
            "linecolor": "#A2B1C6",
            "ticks": ""
           },
           "baxis": {
            "gridcolor": "#DFE8F3",
            "linecolor": "#A2B1C6",
            "ticks": ""
           },
           "bgcolor": "white",
           "caxis": {
            "gridcolor": "#DFE8F3",
            "linecolor": "#A2B1C6",
            "ticks": ""
           }
          },
          "title": {
           "x": 0.05
          },
          "xaxis": {
           "automargin": true,
           "gridcolor": "#EBF0F8",
           "linecolor": "#EBF0F8",
           "ticks": "",
           "title": {
            "standoff": 15
           },
           "zerolinecolor": "#EBF0F8",
           "zerolinewidth": 2
          },
          "yaxis": {
           "automargin": true,
           "gridcolor": "#EBF0F8",
           "linecolor": "#EBF0F8",
           "ticks": "",
           "title": {
            "standoff": 15
           },
           "zerolinecolor": "#EBF0F8",
           "zerolinewidth": 2
          }
         }
        },
        "title": {
         "text": "Slippage vs Amount — sDOLA (absolute & portion overlaid)"
        },
        "xaxis": {
         "title": {
          "text": "scaled_amount_in"
         }
        },
        "yaxis": {
         "title": {
          "text": "effective_price"
         }
        }
       }
      }
     },
     "metadata": {},
     "output_type": "display_data"
    },
    {
     "data": {
      "application/vnd.plotly.v1+json": {
       "config": {
        "plotlyServerURL": "https://plot.ly"
       },
       "data": [
        {
         "hovertemplate": "label=%{text}<br>factor=absolute<br>scaled_amount_in=%{x}<br>effective_price=%{y}<extra></extra>",
         "legendgroup": "sUSDe - odos",
         "marker": {
          "color": "#FF97FF",
          "line": {
           "width": 0.5
          },
          "size": 7,
          "symbol": "circle"
         },
         "mode": "markers",
         "name": "sUSDe - odos (absolute)",
         "text": [
          "sUSDe - odos",
          "sUSDe - odos",
          "sUSDe - odos",
          "sUSDe - odos",
          "sUSDe - odos",
          "sUSDe - odos",
          "sUSDe - odos",
          "sUSDe - odos",
          "sUSDe - odos",
          "sUSDe - odos",
          "sUSDe - odos"
         ],
         "type": "scatter",
         "x": [
          10000,
          100000,
          200000,
          300000,
          400000,
          500000,
          600000,
          700000,
          800000,
          900000,
          1000000
         ],
         "y": [
          1.1896440839596587,
          1.189489210016858,
          1.1894901517703964,
          1.1895275576115596,
          1.1894452013575632,
          1.1893660055842161,
          1.1893259617846992,
          1.1892832718826278,
          1.1892419205072289,
          1.189192571374335,
          1.1891517656052992
         ]
        },
        {
         "hovertemplate": "label=%{text}<br>factor=absolute<br>scaled_amount_in=%{x}<br>effective_price=%{y}<extra></extra>",
         "legendgroup": "sUSDe - tokemak",
         "marker": {
          "color": "#FECB52",
          "line": {
           "width": 0.5
          },
          "size": 7,
          "symbol": "circle"
         },
         "mode": "markers",
         "name": "sUSDe - tokemak (absolute)",
         "text": [
          "sUSDe - tokemak",
          "sUSDe - tokemak",
          "sUSDe - tokemak",
          "sUSDe - tokemak",
          "sUSDe - tokemak",
          "sUSDe - tokemak",
          "sUSDe - tokemak",
          "sUSDe - tokemak",
          "sUSDe - tokemak",
          "sUSDe - tokemak",
          "sUSDe - tokemak"
         ],
         "type": "scatter",
         "x": [
          10000,
          100000,
          200000,
          300000,
          400000,
          500000,
          600000,
          700000,
          800000,
          900000,
          1000000
         ],
         "y": [
          1.1926791807510353,
          1.1920612341183559,
          1.1921315953747982,
          1.1920508566479213,
          1.1919735528733115,
          1.1918994267105902,
          1.1919413683098197,
          1.1918929686930992,
          1.1918474608751852,
          1.191803757073793,
          1.1917329624343576
         ]
        }
       ],
       "layout": {
        "legend": {
         "title": {
          "text": "label (factor)"
         }
        },
        "margin": {
         "b": 20,
         "l": 50,
         "r": 20,
         "t": 60
        },
        "template": {
         "data": {
          "bar": [
           {
            "error_x": {
             "color": "#2a3f5f"
            },
            "error_y": {
             "color": "#2a3f5f"
            },
            "marker": {
             "line": {
              "color": "white",
              "width": 0.5
             },
             "pattern": {
              "fillmode": "overlay",
              "size": 10,
              "solidity": 0.2
             }
            },
            "type": "bar"
           }
          ],
          "barpolar": [
           {
            "marker": {
             "line": {
              "color": "white",
              "width": 0.5
             },
             "pattern": {
              "fillmode": "overlay",
              "size": 10,
              "solidity": 0.2
             }
            },
            "type": "barpolar"
           }
          ],
          "carpet": [
           {
            "aaxis": {
             "endlinecolor": "#2a3f5f",
             "gridcolor": "#C8D4E3",
             "linecolor": "#C8D4E3",
             "minorgridcolor": "#C8D4E3",
             "startlinecolor": "#2a3f5f"
            },
            "baxis": {
             "endlinecolor": "#2a3f5f",
             "gridcolor": "#C8D4E3",
             "linecolor": "#C8D4E3",
             "minorgridcolor": "#C8D4E3",
             "startlinecolor": "#2a3f5f"
            },
            "type": "carpet"
           }
          ],
          "choropleth": [
           {
            "colorbar": {
             "outlinewidth": 0,
             "ticks": ""
            },
            "type": "choropleth"
           }
          ],
          "contour": [
           {
            "colorbar": {
             "outlinewidth": 0,
             "ticks": ""
            },
            "colorscale": [
             [
              0,
              "#0d0887"
             ],
             [
              0.1111111111111111,
              "#46039f"
             ],
             [
              0.2222222222222222,
              "#7201a8"
             ],
             [
              0.3333333333333333,
              "#9c179e"
             ],
             [
              0.4444444444444444,
              "#bd3786"
             ],
             [
              0.5555555555555556,
              "#d8576b"
             ],
             [
              0.6666666666666666,
              "#ed7953"
             ],
             [
              0.7777777777777778,
              "#fb9f3a"
             ],
             [
              0.8888888888888888,
              "#fdca26"
             ],
             [
              1,
              "#f0f921"
             ]
            ],
            "type": "contour"
           }
          ],
          "contourcarpet": [
           {
            "colorbar": {
             "outlinewidth": 0,
             "ticks": ""
            },
            "type": "contourcarpet"
           }
          ],
          "heatmap": [
           {
            "colorbar": {
             "outlinewidth": 0,
             "ticks": ""
            },
            "colorscale": [
             [
              0,
              "#0d0887"
             ],
             [
              0.1111111111111111,
              "#46039f"
             ],
             [
              0.2222222222222222,
              "#7201a8"
             ],
             [
              0.3333333333333333,
              "#9c179e"
             ],
             [
              0.4444444444444444,
              "#bd3786"
             ],
             [
              0.5555555555555556,
              "#d8576b"
             ],
             [
              0.6666666666666666,
              "#ed7953"
             ],
             [
              0.7777777777777778,
              "#fb9f3a"
             ],
             [
              0.8888888888888888,
              "#fdca26"
             ],
             [
              1,
              "#f0f921"
             ]
            ],
            "type": "heatmap"
           }
          ],
          "heatmapgl": [
           {
            "colorbar": {
             "outlinewidth": 0,
             "ticks": ""
            },
            "colorscale": [
             [
              0,
              "#0d0887"
             ],
             [
              0.1111111111111111,
              "#46039f"
             ],
             [
              0.2222222222222222,
              "#7201a8"
             ],
             [
              0.3333333333333333,
              "#9c179e"
             ],
             [
              0.4444444444444444,
              "#bd3786"
             ],
             [
              0.5555555555555556,
              "#d8576b"
             ],
             [
              0.6666666666666666,
              "#ed7953"
             ],
             [
              0.7777777777777778,
              "#fb9f3a"
             ],
             [
              0.8888888888888888,
              "#fdca26"
             ],
             [
              1,
              "#f0f921"
             ]
            ],
            "type": "heatmapgl"
           }
          ],
          "histogram": [
           {
            "marker": {
             "pattern": {
              "fillmode": "overlay",
              "size": 10,
              "solidity": 0.2
             }
            },
            "type": "histogram"
           }
          ],
          "histogram2d": [
           {
            "colorbar": {
             "outlinewidth": 0,
             "ticks": ""
            },
            "colorscale": [
             [
              0,
              "#0d0887"
             ],
             [
              0.1111111111111111,
              "#46039f"
             ],
             [
              0.2222222222222222,
              "#7201a8"
             ],
             [
              0.3333333333333333,
              "#9c179e"
             ],
             [
              0.4444444444444444,
              "#bd3786"
             ],
             [
              0.5555555555555556,
              "#d8576b"
             ],
             [
              0.6666666666666666,
              "#ed7953"
             ],
             [
              0.7777777777777778,
              "#fb9f3a"
             ],
             [
              0.8888888888888888,
              "#fdca26"
             ],
             [
              1,
              "#f0f921"
             ]
            ],
            "type": "histogram2d"
           }
          ],
          "histogram2dcontour": [
           {
            "colorbar": {
             "outlinewidth": 0,
             "ticks": ""
            },
            "colorscale": [
             [
              0,
              "#0d0887"
             ],
             [
              0.1111111111111111,
              "#46039f"
             ],
             [
              0.2222222222222222,
              "#7201a8"
             ],
             [
              0.3333333333333333,
              "#9c179e"
             ],
             [
              0.4444444444444444,
              "#bd3786"
             ],
             [
              0.5555555555555556,
              "#d8576b"
             ],
             [
              0.6666666666666666,
              "#ed7953"
             ],
             [
              0.7777777777777778,
              "#fb9f3a"
             ],
             [
              0.8888888888888888,
              "#fdca26"
             ],
             [
              1,
              "#f0f921"
             ]
            ],
            "type": "histogram2dcontour"
           }
          ],
          "mesh3d": [
           {
            "colorbar": {
             "outlinewidth": 0,
             "ticks": ""
            },
            "type": "mesh3d"
           }
          ],
          "parcoords": [
           {
            "line": {
             "colorbar": {
              "outlinewidth": 0,
              "ticks": ""
             }
            },
            "type": "parcoords"
           }
          ],
          "pie": [
           {
            "automargin": true,
            "type": "pie"
           }
          ],
          "scatter": [
           {
            "fillpattern": {
             "fillmode": "overlay",
             "size": 10,
             "solidity": 0.2
            },
            "type": "scatter"
           }
          ],
          "scatter3d": [
           {
            "line": {
             "colorbar": {
              "outlinewidth": 0,
              "ticks": ""
             }
            },
            "marker": {
             "colorbar": {
              "outlinewidth": 0,
              "ticks": ""
             }
            },
            "type": "scatter3d"
           }
          ],
          "scattercarpet": [
           {
            "marker": {
             "colorbar": {
              "outlinewidth": 0,
              "ticks": ""
             }
            },
            "type": "scattercarpet"
           }
          ],
          "scattergeo": [
           {
            "marker": {
             "colorbar": {
              "outlinewidth": 0,
              "ticks": ""
             }
            },
            "type": "scattergeo"
           }
          ],
          "scattergl": [
           {
            "marker": {
             "colorbar": {
              "outlinewidth": 0,
              "ticks": ""
             }
            },
            "type": "scattergl"
           }
          ],
          "scattermapbox": [
           {
            "marker": {
             "colorbar": {
              "outlinewidth": 0,
              "ticks": ""
             }
            },
            "type": "scattermapbox"
           }
          ],
          "scatterpolar": [
           {
            "marker": {
             "colorbar": {
              "outlinewidth": 0,
              "ticks": ""
             }
            },
            "type": "scatterpolar"
           }
          ],
          "scatterpolargl": [
           {
            "marker": {
             "colorbar": {
              "outlinewidth": 0,
              "ticks": ""
             }
            },
            "type": "scatterpolargl"
           }
          ],
          "scatterternary": [
           {
            "marker": {
             "colorbar": {
              "outlinewidth": 0,
              "ticks": ""
             }
            },
            "type": "scatterternary"
           }
          ],
          "surface": [
           {
            "colorbar": {
             "outlinewidth": 0,
             "ticks": ""
            },
            "colorscale": [
             [
              0,
              "#0d0887"
             ],
             [
              0.1111111111111111,
              "#46039f"
             ],
             [
              0.2222222222222222,
              "#7201a8"
             ],
             [
              0.3333333333333333,
              "#9c179e"
             ],
             [
              0.4444444444444444,
              "#bd3786"
             ],
             [
              0.5555555555555556,
              "#d8576b"
             ],
             [
              0.6666666666666666,
              "#ed7953"
             ],
             [
              0.7777777777777778,
              "#fb9f3a"
             ],
             [
              0.8888888888888888,
              "#fdca26"
             ],
             [
              1,
              "#f0f921"
             ]
            ],
            "type": "surface"
           }
          ],
          "table": [
           {
            "cells": {
             "fill": {
              "color": "#EBF0F8"
             },
             "line": {
              "color": "white"
             }
            },
            "header": {
             "fill": {
              "color": "#C8D4E3"
             },
             "line": {
              "color": "white"
             }
            },
            "type": "table"
           }
          ]
         },
         "layout": {
          "annotationdefaults": {
           "arrowcolor": "#2a3f5f",
           "arrowhead": 0,
           "arrowwidth": 1
          },
          "autotypenumbers": "strict",
          "coloraxis": {
           "colorbar": {
            "outlinewidth": 0,
            "ticks": ""
           }
          },
          "colorscale": {
           "diverging": [
            [
             0,
             "#8e0152"
            ],
            [
             0.1,
             "#c51b7d"
            ],
            [
             0.2,
             "#de77ae"
            ],
            [
             0.3,
             "#f1b6da"
            ],
            [
             0.4,
             "#fde0ef"
            ],
            [
             0.5,
             "#f7f7f7"
            ],
            [
             0.6,
             "#e6f5d0"
            ],
            [
             0.7,
             "#b8e186"
            ],
            [
             0.8,
             "#7fbc41"
            ],
            [
             0.9,
             "#4d9221"
            ],
            [
             1,
             "#276419"
            ]
           ],
           "sequential": [
            [
             0,
             "#0d0887"
            ],
            [
             0.1111111111111111,
             "#46039f"
            ],
            [
             0.2222222222222222,
             "#7201a8"
            ],
            [
             0.3333333333333333,
             "#9c179e"
            ],
            [
             0.4444444444444444,
             "#bd3786"
            ],
            [
             0.5555555555555556,
             "#d8576b"
            ],
            [
             0.6666666666666666,
             "#ed7953"
            ],
            [
             0.7777777777777778,
             "#fb9f3a"
            ],
            [
             0.8888888888888888,
             "#fdca26"
            ],
            [
             1,
             "#f0f921"
            ]
           ],
           "sequentialminus": [
            [
             0,
             "#0d0887"
            ],
            [
             0.1111111111111111,
             "#46039f"
            ],
            [
             0.2222222222222222,
             "#7201a8"
            ],
            [
             0.3333333333333333,
             "#9c179e"
            ],
            [
             0.4444444444444444,
             "#bd3786"
            ],
            [
             0.5555555555555556,
             "#d8576b"
            ],
            [
             0.6666666666666666,
             "#ed7953"
            ],
            [
             0.7777777777777778,
             "#fb9f3a"
            ],
            [
             0.8888888888888888,
             "#fdca26"
            ],
            [
             1,
             "#f0f921"
            ]
           ]
          },
          "colorway": [
           "#636efa",
           "#EF553B",
           "#00cc96",
           "#ab63fa",
           "#FFA15A",
           "#19d3f3",
           "#FF6692",
           "#B6E880",
           "#FF97FF",
           "#FECB52"
          ],
          "font": {
           "color": "#2a3f5f"
          },
          "geo": {
           "bgcolor": "white",
           "lakecolor": "white",
           "landcolor": "white",
           "showlakes": true,
           "showland": true,
           "subunitcolor": "#C8D4E3"
          },
          "hoverlabel": {
           "align": "left"
          },
          "hovermode": "closest",
          "mapbox": {
           "style": "light"
          },
          "paper_bgcolor": "white",
          "plot_bgcolor": "white",
          "polar": {
           "angularaxis": {
            "gridcolor": "#EBF0F8",
            "linecolor": "#EBF0F8",
            "ticks": ""
           },
           "bgcolor": "white",
           "radialaxis": {
            "gridcolor": "#EBF0F8",
            "linecolor": "#EBF0F8",
            "ticks": ""
           }
          },
          "scene": {
           "xaxis": {
            "backgroundcolor": "white",
            "gridcolor": "#DFE8F3",
            "gridwidth": 2,
            "linecolor": "#EBF0F8",
            "showbackground": true,
            "ticks": "",
            "zerolinecolor": "#EBF0F8"
           },
           "yaxis": {
            "backgroundcolor": "white",
            "gridcolor": "#DFE8F3",
            "gridwidth": 2,
            "linecolor": "#EBF0F8",
            "showbackground": true,
            "ticks": "",
            "zerolinecolor": "#EBF0F8"
           },
           "zaxis": {
            "backgroundcolor": "white",
            "gridcolor": "#DFE8F3",
            "gridwidth": 2,
            "linecolor": "#EBF0F8",
            "showbackground": true,
            "ticks": "",
            "zerolinecolor": "#EBF0F8"
           }
          },
          "shapedefaults": {
           "line": {
            "color": "#2a3f5f"
           }
          },
          "ternary": {
           "aaxis": {
            "gridcolor": "#DFE8F3",
            "linecolor": "#A2B1C6",
            "ticks": ""
           },
           "baxis": {
            "gridcolor": "#DFE8F3",
            "linecolor": "#A2B1C6",
            "ticks": ""
           },
           "bgcolor": "white",
           "caxis": {
            "gridcolor": "#DFE8F3",
            "linecolor": "#A2B1C6",
            "ticks": ""
           }
          },
          "title": {
           "x": 0.05
          },
          "xaxis": {
           "automargin": true,
           "gridcolor": "#EBF0F8",
           "linecolor": "#EBF0F8",
           "ticks": "",
           "title": {
            "standoff": 15
           },
           "zerolinecolor": "#EBF0F8",
           "zerolinewidth": 2
          },
          "yaxis": {
           "automargin": true,
           "gridcolor": "#EBF0F8",
           "linecolor": "#EBF0F8",
           "ticks": "",
           "title": {
            "standoff": 15
           },
           "zerolinecolor": "#EBF0F8",
           "zerolinewidth": 2
          }
         }
        },
        "title": {
         "text": "Slippage vs Amount — sUSDe (absolute & portion overlaid)"
        },
        "xaxis": {
         "title": {
          "text": "scaled_amount_in"
         }
        },
        "yaxis": {
         "title": {
          "text": "effective_price"
         }
        }
       }
      }
     },
     "metadata": {},
     "output_type": "display_data"
    },
    {
     "data": {
      "application/vnd.plotly.v1+json": {
       "config": {
        "plotlyServerURL": "https://plot.ly"
       },
       "data": [
        {
         "hovertemplate": "label=%{text}<br>factor=absolute<br>scaled_amount_in=%{x}<br>effective_price=%{y}<extra></extra>",
         "legendgroup": "scrvUSD - odos",
         "marker": {
          "color": "#636EFA",
          "line": {
           "width": 0.5
          },
          "size": 7,
          "symbol": "circle"
         },
         "mode": "markers",
         "name": "scrvUSD - odos (absolute)",
         "text": [
          "scrvUSD - odos",
          "scrvUSD - odos",
          "scrvUSD - odos",
          "scrvUSD - odos",
          "scrvUSD - odos",
          "scrvUSD - odos",
          "scrvUSD - odos",
          "scrvUSD - odos",
          "scrvUSD - odos",
          "scrvUSD - odos",
          "scrvUSD - odos"
         ],
         "type": "scatter",
         "x": [
          10000,
          100000,
          200000,
          300000,
          400000,
          500000,
          600000,
          700000,
          800000,
          900000,
          1000000
         ],
         "y": [
          1.0614438649925366,
          1.06131362902258,
          1.061259517538974,
          1.0611911945112014,
          1.0611258770341965,
          1.0610626400180025,
          1.061019881937018,
          1.0609640032676897,
          1.0609094431627693,
          1.0608561009511535,
          1.060803940643676
         ]
        },
        {
         "hovertemplate": "label=%{text}<br>factor=absolute<br>scaled_amount_in=%{x}<br>effective_price=%{y}<extra></extra>",
         "legendgroup": "scrvUSD - tokemak",
         "marker": {
          "color": "#EF553B",
          "line": {
           "width": 0.5
          },
          "size": 7,
          "symbol": "circle"
         },
         "mode": "markers",
         "name": "scrvUSD - tokemak (absolute)",
         "text": [
          "scrvUSD - tokemak",
          "scrvUSD - tokemak",
          "scrvUSD - tokemak",
          "scrvUSD - tokemak",
          "scrvUSD - tokemak",
          "scrvUSD - tokemak",
          "scrvUSD - tokemak",
          "scrvUSD - tokemak",
          "scrvUSD - tokemak",
          "scrvUSD - tokemak",
          "scrvUSD - tokemak"
         ],
         "type": "scatter",
         "x": [
          10000,
          100000,
          200000,
          300000,
          400000,
          500000,
          600000,
          700000,
          800000,
          900000,
          1000000
         ],
         "y": [
          1.0614442475874866,
          1.0613139148627344,
          1.061259834060591,
          1.061191511450577,
          1.061126213295222,
          1.061062869963495,
          1.0610201118622014,
          1.0610138674564185,
          1.060970021541526,
          1.0608795481189222,
          1.0609135483844776
         ]
        }
       ],
       "layout": {
        "legend": {
         "title": {
          "text": "label (factor)"
         }
        },
        "margin": {
         "b": 20,
         "l": 50,
         "r": 20,
         "t": 60
        },
        "template": {
         "data": {
          "bar": [
           {
            "error_x": {
             "color": "#2a3f5f"
            },
            "error_y": {
             "color": "#2a3f5f"
            },
            "marker": {
             "line": {
              "color": "white",
              "width": 0.5
             },
             "pattern": {
              "fillmode": "overlay",
              "size": 10,
              "solidity": 0.2
             }
            },
            "type": "bar"
           }
          ],
          "barpolar": [
           {
            "marker": {
             "line": {
              "color": "white",
              "width": 0.5
             },
             "pattern": {
              "fillmode": "overlay",
              "size": 10,
              "solidity": 0.2
             }
            },
            "type": "barpolar"
           }
          ],
          "carpet": [
           {
            "aaxis": {
             "endlinecolor": "#2a3f5f",
             "gridcolor": "#C8D4E3",
             "linecolor": "#C8D4E3",
             "minorgridcolor": "#C8D4E3",
             "startlinecolor": "#2a3f5f"
            },
            "baxis": {
             "endlinecolor": "#2a3f5f",
             "gridcolor": "#C8D4E3",
             "linecolor": "#C8D4E3",
             "minorgridcolor": "#C8D4E3",
             "startlinecolor": "#2a3f5f"
            },
            "type": "carpet"
           }
          ],
          "choropleth": [
           {
            "colorbar": {
             "outlinewidth": 0,
             "ticks": ""
            },
            "type": "choropleth"
           }
          ],
          "contour": [
           {
            "colorbar": {
             "outlinewidth": 0,
             "ticks": ""
            },
            "colorscale": [
             [
              0,
              "#0d0887"
             ],
             [
              0.1111111111111111,
              "#46039f"
             ],
             [
              0.2222222222222222,
              "#7201a8"
             ],
             [
              0.3333333333333333,
              "#9c179e"
             ],
             [
              0.4444444444444444,
              "#bd3786"
             ],
             [
              0.5555555555555556,
              "#d8576b"
             ],
             [
              0.6666666666666666,
              "#ed7953"
             ],
             [
              0.7777777777777778,
              "#fb9f3a"
             ],
             [
              0.8888888888888888,
              "#fdca26"
             ],
             [
              1,
              "#f0f921"
             ]
            ],
            "type": "contour"
           }
          ],
          "contourcarpet": [
           {
            "colorbar": {
             "outlinewidth": 0,
             "ticks": ""
            },
            "type": "contourcarpet"
           }
          ],
          "heatmap": [
           {
            "colorbar": {
             "outlinewidth": 0,
             "ticks": ""
            },
            "colorscale": [
             [
              0,
              "#0d0887"
             ],
             [
              0.1111111111111111,
              "#46039f"
             ],
             [
              0.2222222222222222,
              "#7201a8"
             ],
             [
              0.3333333333333333,
              "#9c179e"
             ],
             [
              0.4444444444444444,
              "#bd3786"
             ],
             [
              0.5555555555555556,
              "#d8576b"
             ],
             [
              0.6666666666666666,
              "#ed7953"
             ],
             [
              0.7777777777777778,
              "#fb9f3a"
             ],
             [
              0.8888888888888888,
              "#fdca26"
             ],
             [
              1,
              "#f0f921"
             ]
            ],
            "type": "heatmap"
           }
          ],
          "heatmapgl": [
           {
            "colorbar": {
             "outlinewidth": 0,
             "ticks": ""
            },
            "colorscale": [
             [
              0,
              "#0d0887"
             ],
             [
              0.1111111111111111,
              "#46039f"
             ],
             [
              0.2222222222222222,
              "#7201a8"
             ],
             [
              0.3333333333333333,
              "#9c179e"
             ],
             [
              0.4444444444444444,
              "#bd3786"
             ],
             [
              0.5555555555555556,
              "#d8576b"
             ],
             [
              0.6666666666666666,
              "#ed7953"
             ],
             [
              0.7777777777777778,
              "#fb9f3a"
             ],
             [
              0.8888888888888888,
              "#fdca26"
             ],
             [
              1,
              "#f0f921"
             ]
            ],
            "type": "heatmapgl"
           }
          ],
          "histogram": [
           {
            "marker": {
             "pattern": {
              "fillmode": "overlay",
              "size": 10,
              "solidity": 0.2
             }
            },
            "type": "histogram"
           }
          ],
          "histogram2d": [
           {
            "colorbar": {
             "outlinewidth": 0,
             "ticks": ""
            },
            "colorscale": [
             [
              0,
              "#0d0887"
             ],
             [
              0.1111111111111111,
              "#46039f"
             ],
             [
              0.2222222222222222,
              "#7201a8"
             ],
             [
              0.3333333333333333,
              "#9c179e"
             ],
             [
              0.4444444444444444,
              "#bd3786"
             ],
             [
              0.5555555555555556,
              "#d8576b"
             ],
             [
              0.6666666666666666,
              "#ed7953"
             ],
             [
              0.7777777777777778,
              "#fb9f3a"
             ],
             [
              0.8888888888888888,
              "#fdca26"
             ],
             [
              1,
              "#f0f921"
             ]
            ],
            "type": "histogram2d"
           }
          ],
          "histogram2dcontour": [
           {
            "colorbar": {
             "outlinewidth": 0,
             "ticks": ""
            },
            "colorscale": [
             [
              0,
              "#0d0887"
             ],
             [
              0.1111111111111111,
              "#46039f"
             ],
             [
              0.2222222222222222,
              "#7201a8"
             ],
             [
              0.3333333333333333,
              "#9c179e"
             ],
             [
              0.4444444444444444,
              "#bd3786"
             ],
             [
              0.5555555555555556,
              "#d8576b"
             ],
             [
              0.6666666666666666,
              "#ed7953"
             ],
             [
              0.7777777777777778,
              "#fb9f3a"
             ],
             [
              0.8888888888888888,
              "#fdca26"
             ],
             [
              1,
              "#f0f921"
             ]
            ],
            "type": "histogram2dcontour"
           }
          ],
          "mesh3d": [
           {
            "colorbar": {
             "outlinewidth": 0,
             "ticks": ""
            },
            "type": "mesh3d"
           }
          ],
          "parcoords": [
           {
            "line": {
             "colorbar": {
              "outlinewidth": 0,
              "ticks": ""
             }
            },
            "type": "parcoords"
           }
          ],
          "pie": [
           {
            "automargin": true,
            "type": "pie"
           }
          ],
          "scatter": [
           {
            "fillpattern": {
             "fillmode": "overlay",
             "size": 10,
             "solidity": 0.2
            },
            "type": "scatter"
           }
          ],
          "scatter3d": [
           {
            "line": {
             "colorbar": {
              "outlinewidth": 0,
              "ticks": ""
             }
            },
            "marker": {
             "colorbar": {
              "outlinewidth": 0,
              "ticks": ""
             }
            },
            "type": "scatter3d"
           }
          ],
          "scattercarpet": [
           {
            "marker": {
             "colorbar": {
              "outlinewidth": 0,
              "ticks": ""
             }
            },
            "type": "scattercarpet"
           }
          ],
          "scattergeo": [
           {
            "marker": {
             "colorbar": {
              "outlinewidth": 0,
              "ticks": ""
             }
            },
            "type": "scattergeo"
           }
          ],
          "scattergl": [
           {
            "marker": {
             "colorbar": {
              "outlinewidth": 0,
              "ticks": ""
             }
            },
            "type": "scattergl"
           }
          ],
          "scattermapbox": [
           {
            "marker": {
             "colorbar": {
              "outlinewidth": 0,
              "ticks": ""
             }
            },
            "type": "scattermapbox"
           }
          ],
          "scatterpolar": [
           {
            "marker": {
             "colorbar": {
              "outlinewidth": 0,
              "ticks": ""
             }
            },
            "type": "scatterpolar"
           }
          ],
          "scatterpolargl": [
           {
            "marker": {
             "colorbar": {
              "outlinewidth": 0,
              "ticks": ""
             }
            },
            "type": "scatterpolargl"
           }
          ],
          "scatterternary": [
           {
            "marker": {
             "colorbar": {
              "outlinewidth": 0,
              "ticks": ""
             }
            },
            "type": "scatterternary"
           }
          ],
          "surface": [
           {
            "colorbar": {
             "outlinewidth": 0,
             "ticks": ""
            },
            "colorscale": [
             [
              0,
              "#0d0887"
             ],
             [
              0.1111111111111111,
              "#46039f"
             ],
             [
              0.2222222222222222,
              "#7201a8"
             ],
             [
              0.3333333333333333,
              "#9c179e"
             ],
             [
              0.4444444444444444,
              "#bd3786"
             ],
             [
              0.5555555555555556,
              "#d8576b"
             ],
             [
              0.6666666666666666,
              "#ed7953"
             ],
             [
              0.7777777777777778,
              "#fb9f3a"
             ],
             [
              0.8888888888888888,
              "#fdca26"
             ],
             [
              1,
              "#f0f921"
             ]
            ],
            "type": "surface"
           }
          ],
          "table": [
           {
            "cells": {
             "fill": {
              "color": "#EBF0F8"
             },
             "line": {
              "color": "white"
             }
            },
            "header": {
             "fill": {
              "color": "#C8D4E3"
             },
             "line": {
              "color": "white"
             }
            },
            "type": "table"
           }
          ]
         },
         "layout": {
          "annotationdefaults": {
           "arrowcolor": "#2a3f5f",
           "arrowhead": 0,
           "arrowwidth": 1
          },
          "autotypenumbers": "strict",
          "coloraxis": {
           "colorbar": {
            "outlinewidth": 0,
            "ticks": ""
           }
          },
          "colorscale": {
           "diverging": [
            [
             0,
             "#8e0152"
            ],
            [
             0.1,
             "#c51b7d"
            ],
            [
             0.2,
             "#de77ae"
            ],
            [
             0.3,
             "#f1b6da"
            ],
            [
             0.4,
             "#fde0ef"
            ],
            [
             0.5,
             "#f7f7f7"
            ],
            [
             0.6,
             "#e6f5d0"
            ],
            [
             0.7,
             "#b8e186"
            ],
            [
             0.8,
             "#7fbc41"
            ],
            [
             0.9,
             "#4d9221"
            ],
            [
             1,
             "#276419"
            ]
           ],
           "sequential": [
            [
             0,
             "#0d0887"
            ],
            [
             0.1111111111111111,
             "#46039f"
            ],
            [
             0.2222222222222222,
             "#7201a8"
            ],
            [
             0.3333333333333333,
             "#9c179e"
            ],
            [
             0.4444444444444444,
             "#bd3786"
            ],
            [
             0.5555555555555556,
             "#d8576b"
            ],
            [
             0.6666666666666666,
             "#ed7953"
            ],
            [
             0.7777777777777778,
             "#fb9f3a"
            ],
            [
             0.8888888888888888,
             "#fdca26"
            ],
            [
             1,
             "#f0f921"
            ]
           ],
           "sequentialminus": [
            [
             0,
             "#0d0887"
            ],
            [
             0.1111111111111111,
             "#46039f"
            ],
            [
             0.2222222222222222,
             "#7201a8"
            ],
            [
             0.3333333333333333,
             "#9c179e"
            ],
            [
             0.4444444444444444,
             "#bd3786"
            ],
            [
             0.5555555555555556,
             "#d8576b"
            ],
            [
             0.6666666666666666,
             "#ed7953"
            ],
            [
             0.7777777777777778,
             "#fb9f3a"
            ],
            [
             0.8888888888888888,
             "#fdca26"
            ],
            [
             1,
             "#f0f921"
            ]
           ]
          },
          "colorway": [
           "#636efa",
           "#EF553B",
           "#00cc96",
           "#ab63fa",
           "#FFA15A",
           "#19d3f3",
           "#FF6692",
           "#B6E880",
           "#FF97FF",
           "#FECB52"
          ],
          "font": {
           "color": "#2a3f5f"
          },
          "geo": {
           "bgcolor": "white",
           "lakecolor": "white",
           "landcolor": "white",
           "showlakes": true,
           "showland": true,
           "subunitcolor": "#C8D4E3"
          },
          "hoverlabel": {
           "align": "left"
          },
          "hovermode": "closest",
          "mapbox": {
           "style": "light"
          },
          "paper_bgcolor": "white",
          "plot_bgcolor": "white",
          "polar": {
           "angularaxis": {
            "gridcolor": "#EBF0F8",
            "linecolor": "#EBF0F8",
            "ticks": ""
           },
           "bgcolor": "white",
           "radialaxis": {
            "gridcolor": "#EBF0F8",
            "linecolor": "#EBF0F8",
            "ticks": ""
           }
          },
          "scene": {
           "xaxis": {
            "backgroundcolor": "white",
            "gridcolor": "#DFE8F3",
            "gridwidth": 2,
            "linecolor": "#EBF0F8",
            "showbackground": true,
            "ticks": "",
            "zerolinecolor": "#EBF0F8"
           },
           "yaxis": {
            "backgroundcolor": "white",
            "gridcolor": "#DFE8F3",
            "gridwidth": 2,
            "linecolor": "#EBF0F8",
            "showbackground": true,
            "ticks": "",
            "zerolinecolor": "#EBF0F8"
           },
           "zaxis": {
            "backgroundcolor": "white",
            "gridcolor": "#DFE8F3",
            "gridwidth": 2,
            "linecolor": "#EBF0F8",
            "showbackground": true,
            "ticks": "",
            "zerolinecolor": "#EBF0F8"
           }
          },
          "shapedefaults": {
           "line": {
            "color": "#2a3f5f"
           }
          },
          "ternary": {
           "aaxis": {
            "gridcolor": "#DFE8F3",
            "linecolor": "#A2B1C6",
            "ticks": ""
           },
           "baxis": {
            "gridcolor": "#DFE8F3",
            "linecolor": "#A2B1C6",
            "ticks": ""
           },
           "bgcolor": "white",
           "caxis": {
            "gridcolor": "#DFE8F3",
            "linecolor": "#A2B1C6",
            "ticks": ""
           }
          },
          "title": {
           "x": 0.05
          },
          "xaxis": {
           "automargin": true,
           "gridcolor": "#EBF0F8",
           "linecolor": "#EBF0F8",
           "ticks": "",
           "title": {
            "standoff": 15
           },
           "zerolinecolor": "#EBF0F8",
           "zerolinewidth": 2
          },
          "yaxis": {
           "automargin": true,
           "gridcolor": "#EBF0F8",
           "linecolor": "#EBF0F8",
           "ticks": "",
           "title": {
            "standoff": 15
           },
           "zerolinecolor": "#EBF0F8",
           "zerolinewidth": 2
          }
         }
        },
        "title": {
         "text": "Slippage vs Amount — scrvUSD (absolute & portion overlaid)"
        },
        "xaxis": {
         "title": {
          "text": "scaled_amount_in"
         }
        },
        "yaxis": {
         "title": {
          "text": "effective_price"
         }
        }
       }
      }
     },
     "metadata": {},
     "output_type": "display_data"
    }
   ],
   "source": [
    "import pandas as pd\n",
    "import plotly.graph_objects as go\n",
    "import plotly.express as px\n",
    "import plotly.io as pio\n",
    "\n",
    "pio.templates.default = \"plotly_white\"\n",
    "\n",
    "# Sorted symbols\n",
    "symbol_options = sorted(swap_quotes_df[\"sell_token_symbol\"].dropna().unique().tolist())\n",
    "factors = [\"absolute\", \"portion\"]\n",
    "factor_symbol = {\"absolute\": \"circle\", \"portion\": \"x\"}\n",
    "\n",
    "# Stable colors per label across all charts\n",
    "all_labels = sorted(swap_quotes_df[\"label\"].dropna().unique().tolist())\n",
    "palette = px.colors.qualitative.Plotly\n",
    "label_color = {lbl: palette[i % len(palette)] for i, lbl in enumerate(all_labels)}\n",
    "\n",
    "for selected_symbol in symbol_options:\n",
    "    fig = go.Figure()\n",
    "\n",
    "    for size_factor in factors:\n",
    "        df_factor = (\n",
    "            swap_quotes_df[\n",
    "                (swap_quotes_df[\"sell_token_symbol\"] == selected_symbol)\n",
    "                & (swap_quotes_df[\"size_factor\"] == size_factor)\n",
    "            ]\n",
    "            .groupby([\"label\", \"scaled_amount_in\"], as_index=False)[\"effective_price\"]\n",
    "            .median()\n",
    "        )\n",
    "        if df_factor.empty:\n",
    "            continue\n",
    "\n",
    "        # One trace per (label, factor) to overlay both factors\n",
    "        for label, df_lab in df_factor.groupby(\"label\", sort=True):\n",
    "            fig.add_trace(\n",
    "                go.Scatter(\n",
    "                    x=df_lab[\"scaled_amount_in\"],\n",
    "                    y=df_lab[\"effective_price\"],\n",
    "                    mode=\"markers\",\n",
    "                    name=f\"{label} ({size_factor})\",\n",
    "                    legendgroup=label,  # group legend entries by label\n",
    "                    marker=dict(\n",
    "                        symbol=factor_symbol.get(size_factor, \"circle\"),\n",
    "                        size=7,\n",
    "                        color=label_color.get(label),\n",
    "                        line=dict(width=0.5),\n",
    "                    ),\n",
    "                    hovertemplate=(\n",
    "                        \"label=%{text}<br>\"\n",
    "                        \"factor=\" + size_factor + \"<br>\"\n",
    "                        \"scaled_amount_in=%{x}<br>\"\n",
    "                        \"effective_price=%{y}<extra></extra>\"\n",
    "                    ),\n",
    "                    text=[label] * len(df_lab),\n",
    "                )\n",
    "            )\n",
    "\n",
    "    fig.update_xaxes(title_text=\"scaled_amount_in\")\n",
    "    fig.update_yaxes(title_text=\"effective_price\")\n",
    "    fig.update_layout(\n",
    "        title_text=f\"Slippage vs Amount — {selected_symbol} (absolute & portion overlaid)\",\n",
    "        margin=dict(t=60, r=20, b=20, l=50),\n",
    "        legend_title_text=\"label (factor)\",\n",
    "    )\n",
    "\n",
    "    # st.plotly_chart(fig, use_container_width=True)\n",
    "    fig.show()"
   ]
  },
  {
   "cell_type": "code",
   "execution_count": null,
   "metadata": {},
   "outputs": [],
   "source": []
  }
 ],
 "metadata": {
  "kernelspec": {
   "display_name": "mainnet-launch-py3.10",
   "language": "python",
   "name": "python3"
  },
  "language_info": {
   "codemirror_mode": {
    "name": "ipython",
    "version": 3
   },
   "file_extension": ".py",
   "mimetype": "text/x-python",
   "name": "python",
   "nbconvert_exporter": "python",
   "pygments_lexer": "ipython3",
   "version": "3.10.14"
  }
 },
 "nbformat": 4,
 "nbformat_minor": 2
}
