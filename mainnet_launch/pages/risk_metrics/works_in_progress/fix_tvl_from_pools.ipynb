{
 "cells": [
  {
   "cell_type": "code",
   "execution_count": null,
   "metadata": {},
   "outputs": [],
   "source": [
    "from mainnet_launch.pages.risk_metrics.estimate_exit_liquidity_from_pool_tvl import (\n",
    "    _fetch_data,\n",
    "    fetch_exit_liqudity_tvl,\n",
    "    _compute_readable_exit_liquidity,\n",
    "    combine_our_exposure_with_exit_liquidity,\n",
    ")\n",
    "\n",
    "from mainnet_launch.constants import *\n",
    "\n",
    "\n",
    "chain = BASE_CHAIN\n",
    "base_asset = USDC\n",
    "refresh = False\n",
    "\n",
    "\n",
    "# the problem is that for baseUSD only 3 rows are returned\n",
    "\n",
    "# valid_dex_df\n",
    "\n",
    "(\n",
    "    valid_dex_df,\n",
    "    all_chain_asset_exposure_df,\n",
    "    our_token_to_total_other_token_liquidity,\n",
    "    token_symbol_to_dfs,\n",
    "    portion_ownership_by_destination_df,\n",
    "    coingecko_prices,\n",
    ") = fetch_exit_liqudity_tvl(chain, base_asset, refresh)\n",
    "\n",
    "wide_exit_liquidity_df, total_usd_exit_liqudity_df, this_combination_exposure_df = _compute_readable_exit_liquidity(\n",
    "    all_chain_asset_exposure_df,\n",
    "    valid_dex_df,\n",
    "    chain,\n",
    "    base_asset,\n",
    ")\n",
    "\n",
    "exit_liquidity_and_exposure_df = combine_our_exposure_with_exit_liquidity(\n",
    "    this_combination_exposure_df,\n",
    "    total_usd_exit_liqudity_df,\n",
    "    coingecko_prices,\n",
    ")"
   ]
  },
  {
   "cell_type": "code",
   "execution_count": 4,
   "metadata": {},
   "outputs": [
    {
     "data": {
      "application/vnd.microsoft.datawrangler.viewer.v0+json": {
       "columns": [
        {
         "name": "index",
         "rawType": "int64",
         "type": "integer"
        },
        {
         "name": "pairAddress",
         "rawType": "object",
         "type": "string"
        },
        {
         "name": "datetime_requested",
         "rawType": "datetime64[ns, UTC]",
         "type": "unknown"
        },
        {
         "name": "datetime_received",
         "rawType": "datetime64[ns, UTC]",
         "type": "unknown"
        },
        {
         "name": "chainId",
         "rawType": "object",
         "type": "string"
        },
        {
         "name": "dexId",
         "rawType": "object",
         "type": "string"
        },
        {
         "name": "url",
         "rawType": "object",
         "type": "string"
        },
        {
         "name": "priceNative",
         "rawType": "object",
         "type": "string"
        },
        {
         "name": "priceUsd",
         "rawType": "object",
         "type": "string"
        },
        {
         "name": "txns",
         "rawType": "object",
         "type": "unknown"
        },
        {
         "name": "volume",
         "rawType": "object",
         "type": "unknown"
        },
        {
         "name": "priceChange",
         "rawType": "object",
         "type": "unknown"
        },
        {
         "name": "fdv",
         "rawType": "float64",
         "type": "float"
        },
        {
         "name": "marketCap",
         "rawType": "float64",
         "type": "float"
        },
        {
         "name": "pairCreatedAt",
         "rawType": "float64",
         "type": "float"
        },
        {
         "name": "labels",
         "rawType": "object",
         "type": "unknown"
        },
        {
         "name": "base_token_address",
         "rawType": "object",
         "type": "string"
        },
        {
         "name": "base_token_name",
         "rawType": "object",
         "type": "string"
        },
        {
         "name": "base_token_symbol",
         "rawType": "object",
         "type": "string"
        },
        {
         "name": "quote_token_address",
         "rawType": "object",
         "type": "string"
        },
        {
         "name": "quote_token_name",
         "rawType": "object",
         "type": "string"
        },
        {
         "name": "quote_token_symbol",
         "rawType": "object",
         "type": "string"
        },
        {
         "name": "liquidity_usd",
         "rawType": "float64",
         "type": "float"
        },
        {
         "name": "liquidity_base",
         "rawType": "float64",
         "type": "float"
        },
        {
         "name": "liquidity_quote",
         "rawType": "float64",
         "type": "float"
        },
        {
         "name": "base_token_price_usd",
         "rawType": "float64",
         "type": "float"
        },
        {
         "name": "quote_token_price_usd",
         "rawType": "float64",
         "type": "float"
        },
        {
         "name": "base_token_usd_liquidity",
         "rawType": "float64",
         "type": "float"
        },
        {
         "name": "quote_token_usd_liquidity",
         "rawType": "float64",
         "type": "float"
        },
        {
         "name": "chain_id",
         "rawType": "int64",
         "type": "integer"
        },
        {
         "name": "reference_asset",
         "rawType": "object",
         "type": "string"
        },
        {
         "name": "tokemak_portion_ownership",
         "rawType": "float64",
         "type": "float"
        },
        {
         "name": "tokemak_percent_ownership",
         "rawType": "float64",
         "type": "float"
        },
        {
         "name": "scaled_quote_usd_liquidity",
         "rawType": "float64",
         "type": "float"
        },
        {
         "name": "scaled_base_usd_liquidity",
         "rawType": "float64",
         "type": "float"
        }
       ],
       "ref": "6fc2e98e-05b1-413f-8839-7c79ebf97ca4",
       "rows": [
        [
         "5",
         "0x1A8944C4Ef25693922A5912D8E42eC831a12EB4c",
         "2025-08-04 19:21:10.853756+00:00",
         "2025-08-04 19:21:11.053006+00:00",
         "base",
         "pancakeswap",
         "https://dexscreener.com/base/0x1a8944c4ef25693922a5912d8e42ec831a12eb4c",
         "0.9946",
         "0.9946",
         "{'m5': {'buys': 0, 'sells': 0}, 'h1': {'buys': 0, 'sells': 1}, 'h6': {'buys': 2, 'sells': 3}, 'h24': {'buys': 6, 'sells': 9}}",
         "{'h24': 23.98, 'h6': 10.89, 'h1': 2.3, 'm5': 0}",
         "{'h1': -0.58, 'h6': -0.46, 'h24': 0.01}",
         "4699524.0",
         "4699524.0",
         "1751444931000.0",
         null,
         "0x6Bb7a212910682DCFdbd5BCBb3e28FB4E8da10Ee",
         "Gho Token",
         "GHO",
         "0x833589fCD6eDb6E08f4c7C32D4f71b54bdA02913",
         "USD Coin",
         "USDC",
         "4.01",
         "3.6023",
         "0.4271",
         "0.9989349745327911",
         "0.9997705556841948",
         "4.0",
         "0.0",
         "8453",
         "0x833589fCD6eDb6E08f4c7C32D4f71b54bdA02913",
         "0.0",
         "0.0",
         "0.0",
         "4.0"
        ],
        [
         "8",
         "0xFd4Ee9541833641e09472dac912900cAa776B5A6",
         "2025-08-04 19:21:10.853906+00:00",
         "2025-08-04 19:21:11.010743+00:00",
         "base",
         "pancakeswap",
         "https://dexscreener.com/base/0xfd4ee9541833641e09472dac912900caa776b5a6",
         "0.9967",
         "0.9967",
         "{'m5': {'buys': 0, 'sells': 0}, 'h1': {'buys': 0, 'sells': 2}, 'h6': {'buys': 0, 'sells': 2}, 'h24': {'buys': 2, 'sells': 2}}",
         "{'h24': 10.03, 'h6': 4.78, 'h1': 4.78, 'm5': 0}",
         "{'h1': -0.05, 'h6': -0.05, 'h24': -0.05}",
         "4709485.0",
         "4709485.0",
         "1754300973000.0",
         null,
         "0x6Bb7a212910682DCFdbd5BCBb3e28FB4E8da10Ee",
         "Gho Token",
         "GHO",
         "0x833589fCD6eDb6E08f4c7C32D4f71b54bdA02913",
         "USD Coin",
         "USDC",
         "99.71",
         "56.5584",
         "43.3387",
         "0.9989349745327911",
         "0.9997705556841948",
         "56.0",
         "43.0",
         "8453",
         "0x833589fCD6eDb6E08f4c7C32D4f71b54bdA02913",
         "0.0",
         "0.0",
         "43.0",
         "56.0"
        ],
        [
         "12",
         "0xbaF56aeD39b4583c526971Ab51f8F2D4d8e59eb7",
         "2025-08-04 19:21:10.854350+00:00",
         "2025-08-04 19:21:11.011851+00:00",
         "base",
         "uniswap",
         "https://dexscreener.com/base/0xbaf56aed39b4583c526971ab51f8f2d4d8e59eb7",
         "0.9967",
         "0.9967",
         "{'m5': {'buys': 0, 'sells': 0}, 'h1': {'buys': 0, 'sells': 0}, 'h6': {'buys': 5, 'sells': 4}, 'h24': {'buys': 19, 'sells': 6}}",
         "{'h24': 4965.35, 'h6': 3326.42, 'h1': 0, 'm5': 0}",
         "{}",
         "4709396.0",
         "4709396.0",
         "1747357875000.0",
         "['v3']",
         "0x6Bb7a212910682DCFdbd5BCBb3e28FB4E8da10Ee",
         "Gho Token",
         "GHO",
         "0x833589fCD6eDb6E08f4c7C32D4f71b54bdA02913",
         "USD Coin",
         "USDC",
         "988135.67",
         "454576.0",
         "535044.0",
         "0.9989349745327911",
         "0.9997705556841948",
         "454092.0",
         "534921.0",
         "8453",
         "0x833589fCD6eDb6E08f4c7C32D4f71b54bdA02913",
         "0.0",
         "0.0",
         "534921.0",
         "454092.0"
        ]
       ],
       "shape": {
        "columns": 34,
        "rows": 3
       }
      },
      "text/html": [
       "<div>\n",
       "<style scoped>\n",
       "    .dataframe tbody tr th:only-of-type {\n",
       "        vertical-align: middle;\n",
       "    }\n",
       "\n",
       "    .dataframe tbody tr th {\n",
       "        vertical-align: top;\n",
       "    }\n",
       "\n",
       "    .dataframe thead th {\n",
       "        text-align: right;\n",
       "    }\n",
       "</style>\n",
       "<table border=\"1\" class=\"dataframe\">\n",
       "  <thead>\n",
       "    <tr style=\"text-align: right;\">\n",
       "      <th></th>\n",
       "      <th>pairAddress</th>\n",
       "      <th>datetime_requested</th>\n",
       "      <th>datetime_received</th>\n",
       "      <th>chainId</th>\n",
       "      <th>dexId</th>\n",
       "      <th>url</th>\n",
       "      <th>priceNative</th>\n",
       "      <th>priceUsd</th>\n",
       "      <th>txns</th>\n",
       "      <th>volume</th>\n",
       "      <th>...</th>\n",
       "      <th>base_token_price_usd</th>\n",
       "      <th>quote_token_price_usd</th>\n",
       "      <th>base_token_usd_liquidity</th>\n",
       "      <th>quote_token_usd_liquidity</th>\n",
       "      <th>chain_id</th>\n",
       "      <th>reference_asset</th>\n",
       "      <th>tokemak_portion_ownership</th>\n",
       "      <th>tokemak_percent_ownership</th>\n",
       "      <th>scaled_quote_usd_liquidity</th>\n",
       "      <th>scaled_base_usd_liquidity</th>\n",
       "    </tr>\n",
       "  </thead>\n",
       "  <tbody>\n",
       "    <tr>\n",
       "      <th>5</th>\n",
       "      <td>0x1A8944C4Ef25693922A5912D8E42eC831a12EB4c</td>\n",
       "      <td>2025-08-04 19:21:10.853756+00:00</td>\n",
       "      <td>2025-08-04 19:21:11.053006+00:00</td>\n",
       "      <td>base</td>\n",
       "      <td>pancakeswap</td>\n",
       "      <td>https://dexscreener.com/base/0x1a8944c4ef25693...</td>\n",
       "      <td>0.9946</td>\n",
       "      <td>0.9946</td>\n",
       "      <td>{'m5': {'buys': 0, 'sells': 0}, 'h1': {'buys':...</td>\n",
       "      <td>{'h24': 23.98, 'h6': 10.89, 'h1': 2.3, 'm5': 0}</td>\n",
       "      <td>...</td>\n",
       "      <td>0.998935</td>\n",
       "      <td>0.999771</td>\n",
       "      <td>4.0</td>\n",
       "      <td>0.0</td>\n",
       "      <td>8453</td>\n",
       "      <td>0x833589fCD6eDb6E08f4c7C32D4f71b54bdA02913</td>\n",
       "      <td>0.0</td>\n",
       "      <td>0.0</td>\n",
       "      <td>0.0</td>\n",
       "      <td>4.0</td>\n",
       "    </tr>\n",
       "    <tr>\n",
       "      <th>8</th>\n",
       "      <td>0xFd4Ee9541833641e09472dac912900cAa776B5A6</td>\n",
       "      <td>2025-08-04 19:21:10.853906+00:00</td>\n",
       "      <td>2025-08-04 19:21:11.010743+00:00</td>\n",
       "      <td>base</td>\n",
       "      <td>pancakeswap</td>\n",
       "      <td>https://dexscreener.com/base/0xfd4ee9541833641...</td>\n",
       "      <td>0.9967</td>\n",
       "      <td>0.9967</td>\n",
       "      <td>{'m5': {'buys': 0, 'sells': 0}, 'h1': {'buys':...</td>\n",
       "      <td>{'h24': 10.03, 'h6': 4.78, 'h1': 4.78, 'm5': 0}</td>\n",
       "      <td>...</td>\n",
       "      <td>0.998935</td>\n",
       "      <td>0.999771</td>\n",
       "      <td>56.0</td>\n",
       "      <td>43.0</td>\n",
       "      <td>8453</td>\n",
       "      <td>0x833589fCD6eDb6E08f4c7C32D4f71b54bdA02913</td>\n",
       "      <td>0.0</td>\n",
       "      <td>0.0</td>\n",
       "      <td>43.0</td>\n",
       "      <td>56.0</td>\n",
       "    </tr>\n",
       "    <tr>\n",
       "      <th>12</th>\n",
       "      <td>0xbaF56aeD39b4583c526971Ab51f8F2D4d8e59eb7</td>\n",
       "      <td>2025-08-04 19:21:10.854350+00:00</td>\n",
       "      <td>2025-08-04 19:21:11.011851+00:00</td>\n",
       "      <td>base</td>\n",
       "      <td>uniswap</td>\n",
       "      <td>https://dexscreener.com/base/0xbaf56aed39b4583...</td>\n",
       "      <td>0.9967</td>\n",
       "      <td>0.9967</td>\n",
       "      <td>{'m5': {'buys': 0, 'sells': 0}, 'h1': {'buys':...</td>\n",
       "      <td>{'h24': 4965.35, 'h6': 3326.42, 'h1': 0, 'm5': 0}</td>\n",
       "      <td>...</td>\n",
       "      <td>0.998935</td>\n",
       "      <td>0.999771</td>\n",
       "      <td>454092.0</td>\n",
       "      <td>534921.0</td>\n",
       "      <td>8453</td>\n",
       "      <td>0x833589fCD6eDb6E08f4c7C32D4f71b54bdA02913</td>\n",
       "      <td>0.0</td>\n",
       "      <td>0.0</td>\n",
       "      <td>534921.0</td>\n",
       "      <td>454092.0</td>\n",
       "    </tr>\n",
       "  </tbody>\n",
       "</table>\n",
       "<p>3 rows × 34 columns</p>\n",
       "</div>"
      ],
      "text/plain": [
       "                                   pairAddress  \\\n",
       "5   0x1A8944C4Ef25693922A5912D8E42eC831a12EB4c   \n",
       "8   0xFd4Ee9541833641e09472dac912900cAa776B5A6   \n",
       "12  0xbaF56aeD39b4583c526971Ab51f8F2D4d8e59eb7   \n",
       "\n",
       "                 datetime_requested                datetime_received chainId  \\\n",
       "5  2025-08-04 19:21:10.853756+00:00 2025-08-04 19:21:11.053006+00:00    base   \n",
       "8  2025-08-04 19:21:10.853906+00:00 2025-08-04 19:21:11.010743+00:00    base   \n",
       "12 2025-08-04 19:21:10.854350+00:00 2025-08-04 19:21:11.011851+00:00    base   \n",
       "\n",
       "          dexId                                                url  \\\n",
       "5   pancakeswap  https://dexscreener.com/base/0x1a8944c4ef25693...   \n",
       "8   pancakeswap  https://dexscreener.com/base/0xfd4ee9541833641...   \n",
       "12      uniswap  https://dexscreener.com/base/0xbaf56aed39b4583...   \n",
       "\n",
       "   priceNative priceUsd                                               txns  \\\n",
       "5       0.9946   0.9946  {'m5': {'buys': 0, 'sells': 0}, 'h1': {'buys':...   \n",
       "8       0.9967   0.9967  {'m5': {'buys': 0, 'sells': 0}, 'h1': {'buys':...   \n",
       "12      0.9967   0.9967  {'m5': {'buys': 0, 'sells': 0}, 'h1': {'buys':...   \n",
       "\n",
       "                                               volume  ...  \\\n",
       "5     {'h24': 23.98, 'h6': 10.89, 'h1': 2.3, 'm5': 0}  ...   \n",
       "8     {'h24': 10.03, 'h6': 4.78, 'h1': 4.78, 'm5': 0}  ...   \n",
       "12  {'h24': 4965.35, 'h6': 3326.42, 'h1': 0, 'm5': 0}  ...   \n",
       "\n",
       "   base_token_price_usd  quote_token_price_usd  base_token_usd_liquidity  \\\n",
       "5              0.998935               0.999771                       4.0   \n",
       "8              0.998935               0.999771                      56.0   \n",
       "12             0.998935               0.999771                  454092.0   \n",
       "\n",
       "    quote_token_usd_liquidity chain_id  \\\n",
       "5                         0.0     8453   \n",
       "8                        43.0     8453   \n",
       "12                   534921.0     8453   \n",
       "\n",
       "                               reference_asset tokemak_portion_ownership  \\\n",
       "5   0x833589fCD6eDb6E08f4c7C32D4f71b54bdA02913                       0.0   \n",
       "8   0x833589fCD6eDb6E08f4c7C32D4f71b54bdA02913                       0.0   \n",
       "12  0x833589fCD6eDb6E08f4c7C32D4f71b54bdA02913                       0.0   \n",
       "\n",
       "   tokemak_percent_ownership scaled_quote_usd_liquidity  \\\n",
       "5                        0.0                        0.0   \n",
       "8                        0.0                       43.0   \n",
       "12                       0.0                   534921.0   \n",
       "\n",
       "   scaled_base_usd_liquidity  \n",
       "5                        4.0  \n",
       "8                       56.0  \n",
       "12                  454092.0  \n",
       "\n",
       "[3 rows x 34 columns]"
      ]
     },
     "execution_count": 4,
     "metadata": {},
     "output_type": "execute_result"
    }
   ],
   "source": [
    "valid_dex_df"
   ]
  },
  {
   "cell_type": "code",
   "execution_count": null,
   "metadata": {},
   "outputs": [],
   "source": [
    "# somewhere in the get_liquidity_quantities_of_many_pools\n",
    "# we are missing the pools"
   ]
  },
  {
   "cell_type": "code",
   "execution_count": 5,
   "metadata": {},
   "outputs": [
    {
     "data": {
      "text/plain": [
       "{'0x6Bb7a212910682DCFdbd5BCBb3e28FB4E8da10Ee': 0.9989349745327911,\n",
       " '0x833589fCD6eDb6E08f4c7C32D4f71b54bdA02913': 0.9997705556841948}"
      ]
     },
     "execution_count": 5,
     "metadata": {},
     "output_type": "execute_result"
    }
   ],
   "source": [
    "coingecko_prices"
   ]
  },
  {
   "cell_type": "markdown",
   "metadata": {},
   "source": []
  },
  {
   "cell_type": "code",
   "execution_count": null,
   "metadata": {},
   "outputs": [],
   "source": [
    "# dex screener just does not have curve here"
   ]
  },
  {
   "cell_type": "code",
   "execution_count": 14,
   "metadata": {},
   "outputs": [],
   "source": [
    "from mainnet_launch.database.schema.ensure_tables_are_current.using_onchain.exit_liquidity.update_total_usd_exit_liqudity import (\n",
    "    _fetch_pairs_with_prices,\n",
    "    build_our_token_to_total_other_token_liquidity,\n",
    "    _pure_function_group_destinations,\n",
    "    get_portion_ownership_by_pool,\n",
    "    _fetch_pairs_with_prices,\n",
    "    _fetch_possible_pairs_from_dex_screener_and_coingecko,\n",
    ")"
   ]
  },
  {
   "cell_type": "code",
   "execution_count": 10,
   "metadata": {},
   "outputs": [],
   "source": [
    "this_chain_and_base_asset_exposure_df = all_chain_asset_exposure_df[\n",
    "    (all_chain_asset_exposure_df[\"chain_id\"] == chain.chain_id)\n",
    "    & (all_chain_asset_exposure_df[\"reference_asset\"] == base_asset(chain))\n",
    "]\n",
    "\n",
    "tokens_to_check_exit_liqudity_for = [\n",
    "    t for t in this_chain_and_base_asset_exposure_df[\"token_address\"].unique().tolist() if t != base_asset(chain)\n",
    "]\n",
    "\n",
    "tokens_to_check_exit_liqudity_for.append(\"0x417Ac0e078398C154EdFadD9Ef675d30Be60Af93\")  # crvUSD on base"
   ]
  },
  {
   "cell_type": "code",
   "execution_count": 11,
   "metadata": {},
   "outputs": [],
   "source": [
    "portion_ownership_by_destination_df = get_portion_ownership_by_pool(chain.client.eth.block_number, chain)\n",
    "pool_to_portion_ownership = portion_ownership_by_destination_df.set_index(\"getPool\")[\"portion_ownership\"].to_dict()\n",
    "\n",
    "valid_dex_df, coingecko_prices = _fetch_pairs_with_prices(  # this misses scrvUSD\n",
    "    tokens_to_check_exit_liqudity_for, chain, base_asset\n",
    ")\n",
    "\n",
    "our_token_to_total_other_token_liquidity, token_symbol_to_dfs = build_our_token_to_total_other_token_liquidity(\n",
    "    valid_dex_df, tokens_to_check_exit_liqudity_for\n",
    ")"
   ]
  },
  {
   "cell_type": "code",
   "execution_count": 16,
   "metadata": {},
   "outputs": [],
   "source": [
    "valid_pool_addresses = _fetch_possible_pairs_from_dex_screener_and_coingecko(tokens_to_check_exit_liqudity_for, chain)"
   ]
  },
  {
   "cell_type": "code",
   "execution_count": 17,
   "metadata": {},
   "outputs": [
    {
     "data": {
      "text/plain": [
       "['0xA61e143f9dA2a0C0a70d65fF322d84A1cc378006',\n",
       " '0x76501C056cA619903cB4D5c5BEAB7f4bc121cc42',\n",
       " '0xf6C5F01C7F3148891ad0e19DF78743D31E390D1f',\n",
       " '0x7F6095FECb6b67c08F1b8397701d666d71d703e0',\n",
       " '0x63d64A76C2D616676CBAC3068D3C6548F8485314',\n",
       " '0x773FdE6F33522d7A92775F2375AC76A6E6F279b7',\n",
       " '0x6e53131F68a034873b6bFA15502aF094Ef0c5854',\n",
       " '0x7d9bbD9073cd729Ce930b6ef0661a07e86Da76AD',\n",
       " '0x79F14303ca0eaa53e3D0a53F3355F678A08308bB',\n",
       " '0xdb83a2F984c33EBd1A293f9e422Fb0857bd4C263',\n",
       " '0x68446D5F287C5DfAaBfF932EFbEcDA2DD7e7861b',\n",
       " '0xc973042dcaF6FE4D632f2a9Cd624D38B9326BdE6',\n",
       " '0x798D81d60966d2E909468d87e7e4b6A8DAFB1C36',\n",
       " '0xB2fA79f6eca3F4ea78d5996430fE7d7c51fD6f80',\n",
       " '0x1A8944C4Ef25693922A5912D8E42eC831a12EB4c',\n",
       " '0x4DD5C0d33E949F641679d692Eb869E63caE7459e',\n",
       " '0xDE37E221442Fa15C35dc19FbAE11Ed106ba52fB2',\n",
       " '0xda3de145054ED30Ee937865D31B500505C4bDfe7',\n",
       " '0x9152996da3550D693600263C77142E5caBC144d2',\n",
       " '0x7F6095FECb6b67c08F1b8397701d666d71d703e0',\n",
       " '0xb9c79bD5e5561Bdcc281e2b530CeFBbeBC9976aC',\n",
       " '0xFd4Ee9541833641e09472dac912900cAa776B5A6',\n",
       " '0x705b9CfAD7f01787B43cd41276A7aa7D1F018010',\n",
       " '0x795b15203472bC7d9d2117441E76A6499b99Ea67',\n",
       " '0x451C64deC35170B9fc73c877d6aD1346D59Da6A5',\n",
       " '0xbaF56aeD39b4583c526971Ab51f8F2D4d8e59eb7',\n",
       " '0x1182d736940BE484C526Df8Abc326D06bED301b3',\n",
       " '0xbaF56aeD39b4583c526971Ab51f8F2D4d8e59eb7',\n",
       " '0xF8d5df4D3408acd52A3fF54e8dbCe0B3b28AA744',\n",
       " '0xB54fD820725Cb2DE27958FD08B76743D3C04bb25',\n",
       " '0xA450487D8C8F355611EFF9553337BE67261Af26f',\n",
       " '0x5aB01ee6208596f2204B85bDFA39d34c2aDD98F6',\n",
       " '0x1A8944C4Ef25693922A5912D8E42eC831a12EB4c',\n",
       " '0xFd4Ee9541833641e09472dac912900cAa776B5A6']"
      ]
     },
     "execution_count": 17,
     "metadata": {},
     "output_type": "execute_result"
    }
   ],
   "source": [
    "valid_pool_addresses"
   ]
  },
  {
   "cell_type": "code",
   "execution_count": null,
   "metadata": {},
   "outputs": [],
   "source": [
    "# coingecko *can* price crvUSD but not scrvUSD on base\n",
    "\n",
    "# dex scr"
   ]
  },
  {
   "cell_type": "code",
   "execution_count": 12,
   "metadata": {},
   "outputs": [
    {
     "data": {
      "text/plain": [
       "{'0x417Ac0e078398C154EdFadD9Ef675d30Be60Af93': 0.9997791387559151,\n",
       " '0x6Bb7a212910682DCFdbd5BCBb3e28FB4E8da10Ee': 0.9989423768332627,\n",
       " '0x833589fCD6eDb6E08f4c7C32D4f71b54bdA02913': 0.9997784555744084}"
      ]
     },
     "execution_count": 12,
     "metadata": {},
     "output_type": "execute_result"
    }
   ],
   "source": [
    "coingecko_prices"
   ]
  },
  {
   "cell_type": "code",
   "execution_count": null,
   "metadata": {},
   "outputs": [],
   "source": [
    "# https://www.curve.finance/dex/base/pools/factory-stable-ng-58/deposit/"
   ]
  },
  {
   "cell_type": "code",
   "execution_count": null,
   "metadata": {},
   "outputs": [],
   "source": [
    "# there are truly no pools for scrvUSD on base, so we can't price it\n",
    "\n",
    "# need to convert into crvUSD instead,"
   ]
  },
  {
   "attachments": {
    "image.png": {
     "image/png": "[encoded data removed]"
    }
   },
   "cell_type": "markdown",
   "metadata": {},
   "source": [
    "![image.png](attachment:image.png)"
   ]
  },
  {
   "cell_type": "code",
   "execution_count": null,
   "metadata": {},
   "outputs": [],
   "source": [
    "# https://www.curve.finance/dex/base/pools/?search=crvUSD"
   ]
  },
  {
   "cell_type": "code",
   "execution_count": null,
   "metadata": {},
   "outputs": [],
   "source": [
    "all_chain_asset_exposure_df[\n",
    "    (all_chain_asset_exposure_df[\"chain_id\"] == 8453) & (all_chain_asset_exposure_df[\"reference_symbol\"] == \"USDC\")\n",
    "]\n",
    "# this is right"
   ]
  },
  {
   "cell_type": "code",
   "execution_count": null,
   "metadata": {},
   "outputs": [],
   "source": [
    "# coingecko can't price scrvUSD on base?"
   ]
  },
  {
   "cell_type": "code",
   "execution_count": null,
   "metadata": {},
   "outputs": [],
   "source": [
    "coingecko_prices"
   ]
  },
  {
   "cell_type": "code",
   "execution_count": null,
   "metadata": {},
   "outputs": [],
   "source": [
    "# it's not properly pricing scrvUSD\n",
    "\n",
    "\n",
    "# known issues:\n",
    "\n",
    "\n",
    "# not properly pricing scrvUSD"
   ]
  },
  {
   "cell_type": "markdown",
   "metadata": {},
   "source": []
  }
 ],
 "metadata": {
  "kernelspec": {
   "display_name": "mainnet-launch-py3.10",
   "language": "python",
   "name": "python3"
  },
  "language_info": {
   "codemirror_mode": {
    "name": "ipython",
    "version": 3
   },
   "file_extension": ".py",
   "mimetype": "text/x-python",
   "name": "python",
   "nbconvert_exporter": "python",
   "pygments_lexer": "ipython3",
   "version": "3.10.14"
  }
 },
 "nbformat": 4,
 "nbformat_minor": 2
}
