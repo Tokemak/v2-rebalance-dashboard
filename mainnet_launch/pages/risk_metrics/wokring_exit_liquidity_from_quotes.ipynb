{
 "cells": [
  {
   "cell_type": "code",
   "execution_count": null,
   "metadata": {},
   "outputs": [],
   "source": [
    "from mainnet_launch.database.schema.full import Destinations, AutopoolDestinations, Tokens, SwapQuote\n",
    "from mainnet_launch.database.schema.postgres_operations import (\n",
    "    get_full_table_as_df,\n",
    "    insert_avoid_conflicts,\n",
    "    get_highest_value_in_field_where,\n",
    ")\n",
    "from mainnet_launch.constants import *\n",
    "import plotly.express as px\n",
    "import streamlit as st\n",
    "import plotly.io as pio\n",
    "import pandas as pd\n",
    "\n",
    "pio.templates.default = None\n",
    "\n",
    "\n",
    "base_asset = WETH\n",
    "chain = ETH_CHAIN\n",
    "\n",
    "latest_quote_batch = get_highest_value_in_field_where(\n",
    "    SwapQuote,\n",
    "    SwapQuote.quote_batch,\n",
    "    where_clause=(SwapQuote.base_asset == WETH(ETH_CHAIN)) & (SwapQuote.chain_id == ETH_CHAIN.chain_id),\n",
    ")\n",
    "\n",
    "swap_quotes_df = get_full_table_as_df(SwapQuote, where_clause=SwapQuote.quote_batch == latest_quote_batch)"
   ]
  },
  {
   "cell_type": "code",
   "execution_count": null,
   "metadata": {},
   "outputs": [
    {
     "data": {
      "application/vnd.microsoft.datawrangler.viewer.v0+json": {
       "columns": [
        {
         "name": "index",
         "rawType": "int64",
         "type": "integer"
        },
        {
         "name": "chain_id",
         "rawType": "int64",
         "type": "integer"
        },
        {
         "name": "base_asset",
         "rawType": "object",
         "type": "string"
        },
        {
         "name": "api_name",
         "rawType": "object",
         "type": "string"
        },
        {
         "name": "sell_token_address",
         "rawType": "object",
         "type": "string"
        },
        {
         "name": "buy_token_address",
         "rawType": "object",
         "type": "string"
        },
        {
         "name": "scaled_amount_in",
         "rawType": "float64",
         "type": "float"
        },
        {
         "name": "scaled_amount_out",
         "rawType": "float64",
         "type": "float"
        },
        {
         "name": "pools_blacklist",
         "rawType": "object",
         "type": "unknown"
        },
        {
         "name": "aggregator_name",
         "rawType": "object",
         "type": "string"
        },
        {
         "name": "datetime_received",
         "rawType": "datetime64[ns, UTC]",
         "type": "unknown"
        },
        {
         "name": "quote_batch",
         "rawType": "int64",
         "type": "integer"
        },
        {
         "name": "size_factor",
         "rawType": "object",
         "type": "string"
        },
        {
         "name": "id",
         "rawType": "object",
         "type": "unknown"
        },
        {
         "name": "effective_price",
         "rawType": "float64",
         "type": "float"
        },
        {
         "name": "buy_token_symbol",
         "rawType": "object",
         "type": "string"
        },
        {
         "name": "sell_token_symbol",
         "rawType": "object",
         "type": "string"
        },
        {
         "name": "reference_price",
         "rawType": "float64",
         "type": "float"
        },
        {
         "name": "label",
         "rawType": "object",
         "type": "string"
        },
        {
         "name": "slippage_bps",
         "rawType": "float64",
         "type": "float"
        }
       ],
       "ref": "864467d1-8680-40d0-8d68-4b0501e81bcf",
       "rows": [
        [
         "0",
         "1",
         "0xC02aaA39b223FE8D0A0e5C4F27eAD9083C756Cc2",
         "odos",
         "0xbf5495Efe5DB9ce00f80364C8B423567e58d2110",
         "0xC02aaA39b223FE8D0A0e5C4F27eAD9083C756Cc2",
         "51.02526726209871",
         "53.80425134428319",
         "('0xdb74dfdd3bb46be8ce6c33dc9d82777bcfc3ded5', '0x88794c65550deb6b4087b7552ecf295113794410', '0x6951bdc4734b9f7f3e1b74afebc670c736a0edb6', '0x57c23c58b1d8c3292c15becf07c62c5c52457a42', '0xc8eb2cf2f792f77af0cd9e203305a585e588179d', '0x59ab5a5b5d617e478a2479b0cad80da7e2831492', '0x6b31a94029fd7840d780191b6d63fa0d269bd883', '0xe080027bd47353b5d1639772b4a75e9ed3658a0d')",
         "Odos",
         "2025-08-08 16:08:06.814471+00:00",
         "0",
         "portion",
         "5b6e56f7-bb6d-496d-ab74-05171e574cff",
         "1.0544629010546838",
         "WETH",
         "ezETH",
         "1.0545901629560497",
         "ezETH - odos",
         "-1.21"
        ],
        [
         "1",
         "1",
         "0xC02aaA39b223FE8D0A0e5C4F27eAD9083C756Cc2",
         "tokemak",
         "0xbf5495Efe5DB9ce00f80364C8B423567e58d2110",
         "0xC02aaA39b223FE8D0A0e5C4F27eAD9083C756Cc2",
         "12.756316815524677",
         "13.452206422263423",
         null,
         "Odos",
         "2025-08-08 16:05:46.703884+00:00",
         "0",
         "portion",
         "2e7fbb04-52ba-489e-a192-fd8b2dbb503b",
         "1.0545525496742003",
         "WETH",
         "ezETH",
         "1.0545901629560497",
         "ezETH - tokemak",
         "-0.36"
        ],
        [
         "2",
         "1",
         "0xC02aaA39b223FE8D0A0e5C4F27eAD9083C756Cc2",
         "odos",
         "0xCd5fE23C85820F7B72D0926FC9b05b43E359b7ee",
         "0xC02aaA39b223FE8D0A0e5C4F27eAD9083C756Cc2",
         "99.70734261630605",
         "106.85261078959087",
         "('0xdb74dfdd3bb46be8ce6c33dc9d82777bcfc3ded5', '0x88794c65550deb6b4087b7552ecf295113794410', '0x6951bdc4734b9f7f3e1b74afebc670c736a0edb6', '0x57c23c58b1d8c3292c15becf07c62c5c52457a42', '0xc8eb2cf2f792f77af0cd9e203305a585e588179d', '0x59ab5a5b5d617e478a2479b0cad80da7e2831492', '0x6b31a94029fd7840d780191b6d63fa0d269bd883', '0xe080027bd47353b5d1639772b4a75e9ed3658a0d')",
         "Odos",
         "2025-08-08 16:08:08.145069+00:00",
         "0",
         "portion",
         "558ab109-9740-4672-9eca-b526f2e65624",
         "1.0716624070584375",
         "WETH",
         "weETH",
         "1.0723484454223284",
         "weETH - odos",
         "-6.4"
        ],
        [
         "3",
         "1",
         "0xC02aaA39b223FE8D0A0e5C4F27eAD9083C756Cc2",
         "odos",
         "0xbf5495Efe5DB9ce00f80364C8B423567e58d2110",
         "0xC02aaA39b223FE8D0A0e5C4F27eAD9083C756Cc2",
         "0.5102526726209872",
         "0.5381182336145038",
         "('0xdb74dfdd3bb46be8ce6c33dc9d82777bcfc3ded5', '0x88794c65550deb6b4087b7552ecf295113794410', '0x6951bdc4734b9f7f3e1b74afebc670c736a0edb6', '0x57c23c58b1d8c3292c15becf07c62c5c52457a42', '0xc8eb2cf2f792f77af0cd9e203305a585e588179d', '0x59ab5a5b5d617e478a2479b0cad80da7e2831492', '0x6b31a94029fd7840d780191b6d63fa0d269bd883', '0xe080027bd47353b5d1639772b4a75e9ed3658a0d')",
         "Odos",
         "2025-08-08 16:05:36.254871+00:00",
         "0",
         "portion",
         "d3220eda-5e2d-4893-881f-dc140ed09be2",
         "1.0546112984580387",
         "WETH",
         "ezETH",
         "1.0545901629560497",
         "ezETH - odos",
         "0.2"
        ],
        [
         "4",
         "1",
         "0xC02aaA39b223FE8D0A0e5C4F27eAD9083C756Cc2",
         "odos",
         "0xae78736Cd615f374D3085123A210448E74Fc6393",
         "0xC02aaA39b223FE8D0A0e5C4F27eAD9083C756Cc2",
         "42.42038554047849",
         "48.25053078310657",
         "('0xdb74dfdd3bb46be8ce6c33dc9d82777bcfc3ded5', '0x88794c65550deb6b4087b7552ecf295113794410', '0x6951bdc4734b9f7f3e1b74afebc670c736a0edb6', '0x57c23c58b1d8c3292c15becf07c62c5c52457a42', '0xc8eb2cf2f792f77af0cd9e203305a585e588179d', '0x59ab5a5b5d617e478a2479b0cad80da7e2831492', '0x6b31a94029fd7840d780191b6d63fa0d269bd883', '0xe080027bd47353b5d1639772b4a75e9ed3658a0d')",
         "Odos",
         "2025-08-08 16:08:08.504911+00:00",
         "0",
         "portion",
         "801db96f-e6c7-48d1-8ef7-d65caeda6fbb",
         "1.1374373468874963",
         "WETH",
         "rETH",
         "1.1375579267499112",
         "rETH - odos",
         "-1.06"
        ]
       ],
       "shape": {
        "columns": 19,
        "rows": 5
       }
      },
      "text/html": [
       "<div>\n",
       "<style scoped>\n",
       "    .dataframe tbody tr th:only-of-type {\n",
       "        vertical-align: middle;\n",
       "    }\n",
       "\n",
       "    .dataframe tbody tr th {\n",
       "        vertical-align: top;\n",
       "    }\n",
       "\n",
       "    .dataframe thead th {\n",
       "        text-align: right;\n",
       "    }\n",
       "</style>\n",
       "<table border=\"1\" class=\"dataframe\">\n",
       "  <thead>\n",
       "    <tr style=\"text-align: right;\">\n",
       "      <th></th>\n",
       "      <th>chain_id</th>\n",
       "      <th>base_asset</th>\n",
       "      <th>api_name</th>\n",
       "      <th>sell_token_address</th>\n",
       "      <th>buy_token_address</th>\n",
       "      <th>scaled_amount_in</th>\n",
       "      <th>scaled_amount_out</th>\n",
       "      <th>pools_blacklist</th>\n",
       "      <th>aggregator_name</th>\n",
       "      <th>datetime_received</th>\n",
       "      <th>quote_batch</th>\n",
       "      <th>size_factor</th>\n",
       "      <th>id</th>\n",
       "      <th>effective_price</th>\n",
       "      <th>buy_token_symbol</th>\n",
       "      <th>sell_token_symbol</th>\n",
       "      <th>reference_price</th>\n",
       "      <th>label</th>\n",
       "      <th>slippage_bps</th>\n",
       "    </tr>\n",
       "  </thead>\n",
       "  <tbody>\n",
       "    <tr>\n",
       "      <th>0</th>\n",
       "      <td>1</td>\n",
       "      <td>0xC02aaA39b223FE8D0A0e5C4F27eAD9083C756Cc2</td>\n",
       "      <td>odos</td>\n",
       "      <td>0xbf5495Efe5DB9ce00f80364C8B423567e58d2110</td>\n",
       "      <td>0xC02aaA39b223FE8D0A0e5C4F27eAD9083C756Cc2</td>\n",
       "      <td>51.025267</td>\n",
       "      <td>53.804251</td>\n",
       "      <td>('0xdb74dfdd3bb46be8ce6c33dc9d82777bcfc3ded5',...</td>\n",
       "      <td>Odos</td>\n",
       "      <td>2025-08-08 16:08:06.814471+00:00</td>\n",
       "      <td>0</td>\n",
       "      <td>portion</td>\n",
       "      <td>5b6e56f7-bb6d-496d-ab74-05171e574cff</td>\n",
       "      <td>1.054463</td>\n",
       "      <td>WETH</td>\n",
       "      <td>ezETH</td>\n",
       "      <td>1.054590</td>\n",
       "      <td>ezETH - odos</td>\n",
       "      <td>-1.21</td>\n",
       "    </tr>\n",
       "    <tr>\n",
       "      <th>1</th>\n",
       "      <td>1</td>\n",
       "      <td>0xC02aaA39b223FE8D0A0e5C4F27eAD9083C756Cc2</td>\n",
       "      <td>tokemak</td>\n",
       "      <td>0xbf5495Efe5DB9ce00f80364C8B423567e58d2110</td>\n",
       "      <td>0xC02aaA39b223FE8D0A0e5C4F27eAD9083C756Cc2</td>\n",
       "      <td>12.756317</td>\n",
       "      <td>13.452206</td>\n",
       "      <td>None</td>\n",
       "      <td>Odos</td>\n",
       "      <td>2025-08-08 16:05:46.703884+00:00</td>\n",
       "      <td>0</td>\n",
       "      <td>portion</td>\n",
       "      <td>2e7fbb04-52ba-489e-a192-fd8b2dbb503b</td>\n",
       "      <td>1.054553</td>\n",
       "      <td>WETH</td>\n",
       "      <td>ezETH</td>\n",
       "      <td>1.054590</td>\n",
       "      <td>ezETH - tokemak</td>\n",
       "      <td>-0.36</td>\n",
       "    </tr>\n",
       "    <tr>\n",
       "      <th>2</th>\n",
       "      <td>1</td>\n",
       "      <td>0xC02aaA39b223FE8D0A0e5C4F27eAD9083C756Cc2</td>\n",
       "      <td>odos</td>\n",
       "      <td>0xCd5fE23C85820F7B72D0926FC9b05b43E359b7ee</td>\n",
       "      <td>0xC02aaA39b223FE8D0A0e5C4F27eAD9083C756Cc2</td>\n",
       "      <td>99.707343</td>\n",
       "      <td>106.852611</td>\n",
       "      <td>('0xdb74dfdd3bb46be8ce6c33dc9d82777bcfc3ded5',...</td>\n",
       "      <td>Odos</td>\n",
       "      <td>2025-08-08 16:08:08.145069+00:00</td>\n",
       "      <td>0</td>\n",
       "      <td>portion</td>\n",
       "      <td>558ab109-9740-4672-9eca-b526f2e65624</td>\n",
       "      <td>1.071662</td>\n",
       "      <td>WETH</td>\n",
       "      <td>weETH</td>\n",
       "      <td>1.072348</td>\n",
       "      <td>weETH - odos</td>\n",
       "      <td>-6.40</td>\n",
       "    </tr>\n",
       "    <tr>\n",
       "      <th>3</th>\n",
       "      <td>1</td>\n",
       "      <td>0xC02aaA39b223FE8D0A0e5C4F27eAD9083C756Cc2</td>\n",
       "      <td>odos</td>\n",
       "      <td>0xbf5495Efe5DB9ce00f80364C8B423567e58d2110</td>\n",
       "      <td>0xC02aaA39b223FE8D0A0e5C4F27eAD9083C756Cc2</td>\n",
       "      <td>0.510253</td>\n",
       "      <td>0.538118</td>\n",
       "      <td>('0xdb74dfdd3bb46be8ce6c33dc9d82777bcfc3ded5',...</td>\n",
       "      <td>Odos</td>\n",
       "      <td>2025-08-08 16:05:36.254871+00:00</td>\n",
       "      <td>0</td>\n",
       "      <td>portion</td>\n",
       "      <td>d3220eda-5e2d-4893-881f-dc140ed09be2</td>\n",
       "      <td>1.054611</td>\n",
       "      <td>WETH</td>\n",
       "      <td>ezETH</td>\n",
       "      <td>1.054590</td>\n",
       "      <td>ezETH - odos</td>\n",
       "      <td>0.20</td>\n",
       "    </tr>\n",
       "    <tr>\n",
       "      <th>4</th>\n",
       "      <td>1</td>\n",
       "      <td>0xC02aaA39b223FE8D0A0e5C4F27eAD9083C756Cc2</td>\n",
       "      <td>odos</td>\n",
       "      <td>0xae78736Cd615f374D3085123A210448E74Fc6393</td>\n",
       "      <td>0xC02aaA39b223FE8D0A0e5C4F27eAD9083C756Cc2</td>\n",
       "      <td>42.420386</td>\n",
       "      <td>48.250531</td>\n",
       "      <td>('0xdb74dfdd3bb46be8ce6c33dc9d82777bcfc3ded5',...</td>\n",
       "      <td>Odos</td>\n",
       "      <td>2025-08-08 16:08:08.504911+00:00</td>\n",
       "      <td>0</td>\n",
       "      <td>portion</td>\n",
       "      <td>801db96f-e6c7-48d1-8ef7-d65caeda6fbb</td>\n",
       "      <td>1.137437</td>\n",
       "      <td>WETH</td>\n",
       "      <td>rETH</td>\n",
       "      <td>1.137558</td>\n",
       "      <td>rETH - odos</td>\n",
       "      <td>-1.06</td>\n",
       "    </tr>\n",
       "  </tbody>\n",
       "</table>\n",
       "</div>"
      ],
      "text/plain": [
       "   chain_id                                  base_asset api_name  \\\n",
       "0         1  0xC02aaA39b223FE8D0A0e5C4F27eAD9083C756Cc2     odos   \n",
       "1         1  0xC02aaA39b223FE8D0A0e5C4F27eAD9083C756Cc2  tokemak   \n",
       "2         1  0xC02aaA39b223FE8D0A0e5C4F27eAD9083C756Cc2     odos   \n",
       "3         1  0xC02aaA39b223FE8D0A0e5C4F27eAD9083C756Cc2     odos   \n",
       "4         1  0xC02aaA39b223FE8D0A0e5C4F27eAD9083C756Cc2     odos   \n",
       "\n",
       "                           sell_token_address  \\\n",
       "0  0xbf5495Efe5DB9ce00f80364C8B423567e58d2110   \n",
       "1  0xbf5495Efe5DB9ce00f80364C8B423567e58d2110   \n",
       "2  0xCd5fE23C85820F7B72D0926FC9b05b43E359b7ee   \n",
       "3  0xbf5495Efe5DB9ce00f80364C8B423567e58d2110   \n",
       "4  0xae78736Cd615f374D3085123A210448E74Fc6393   \n",
       "\n",
       "                            buy_token_address  scaled_amount_in  \\\n",
       "0  0xC02aaA39b223FE8D0A0e5C4F27eAD9083C756Cc2         51.025267   \n",
       "1  0xC02aaA39b223FE8D0A0e5C4F27eAD9083C756Cc2         12.756317   \n",
       "2  0xC02aaA39b223FE8D0A0e5C4F27eAD9083C756Cc2         99.707343   \n",
       "3  0xC02aaA39b223FE8D0A0e5C4F27eAD9083C756Cc2          0.510253   \n",
       "4  0xC02aaA39b223FE8D0A0e5C4F27eAD9083C756Cc2         42.420386   \n",
       "\n",
       "   scaled_amount_out                                    pools_blacklist  \\\n",
       "0          53.804251  ('0xdb74dfdd3bb46be8ce6c33dc9d82777bcfc3ded5',...   \n",
       "1          13.452206                                               None   \n",
       "2         106.852611  ('0xdb74dfdd3bb46be8ce6c33dc9d82777bcfc3ded5',...   \n",
       "3           0.538118  ('0xdb74dfdd3bb46be8ce6c33dc9d82777bcfc3ded5',...   \n",
       "4          48.250531  ('0xdb74dfdd3bb46be8ce6c33dc9d82777bcfc3ded5',...   \n",
       "\n",
       "  aggregator_name                datetime_received  quote_batch size_factor  \\\n",
       "0            Odos 2025-08-08 16:08:06.814471+00:00            0     portion   \n",
       "1            Odos 2025-08-08 16:05:46.703884+00:00            0     portion   \n",
       "2            Odos 2025-08-08 16:08:08.145069+00:00            0     portion   \n",
       "3            Odos 2025-08-08 16:05:36.254871+00:00            0     portion   \n",
       "4            Odos 2025-08-08 16:08:08.504911+00:00            0     portion   \n",
       "\n",
       "                                     id  effective_price buy_token_symbol  \\\n",
       "0  5b6e56f7-bb6d-496d-ab74-05171e574cff         1.054463             WETH   \n",
       "1  2e7fbb04-52ba-489e-a192-fd8b2dbb503b         1.054553             WETH   \n",
       "2  558ab109-9740-4672-9eca-b526f2e65624         1.071662             WETH   \n",
       "3  d3220eda-5e2d-4893-881f-dc140ed09be2         1.054611             WETH   \n",
       "4  801db96f-e6c7-48d1-8ef7-d65caeda6fbb         1.137437             WETH   \n",
       "\n",
       "  sell_token_symbol  reference_price            label  slippage_bps  \n",
       "0             ezETH         1.054590     ezETH - odos         -1.21  \n",
       "1             ezETH         1.054590  ezETH - tokemak         -0.36  \n",
       "2             weETH         1.072348     weETH - odos         -6.40  \n",
       "3             ezETH         1.054590     ezETH - odos          0.20  \n",
       "4              rETH         1.137558      rETH - odos         -1.06  "
      ]
     },
     "execution_count": 57,
     "metadata": {},
     "output_type": "execute_result"
    }
   ],
   "source": [
    "def display_swap_quotes_batch_meta_data(swap_quotes_df: pd.DataFrame) -> pd.DataFrame:\n",
    "    \"\"\"\n",
    "    Display the swap quotes DataFrame with:\n",
    "      • a one-line summary above (count, sources, batch, start → end, duration)\n",
    "      • four metric cards (count, sources, batch, window)\n",
    "      • the interactive table below\n",
    "    \"\"\"\n",
    "\n",
    "    # compute metrics\n",
    "    quote_count = len(swap_quotes_df)\n",
    "    sources = swap_quotes_df[\"api_name\"].unique().tolist()\n",
    "    batch_number = swap_quotes_df[\"quote_batch\"].iat[0] if quote_count > 0 else None\n",
    "    start_time = swap_quotes_df[\"datetime_received\"].min()\n",
    "    end_time = swap_quotes_df[\"datetime_received\"].max()\n",
    "    window = end_time - start_time\n",
    "\n",
    "    # format duration as Hh Mm Ss (or Mm Ss)\n",
    "    total_seconds = int(window.total_seconds())\n",
    "    hours, rem = divmod(total_seconds, 3600)\n",
    "    minutes, sec = divmod(rem, 60)\n",
    "    if hours:\n",
    "        formatted_window = f\"{hours}h {minutes}m {sec}s\"\n",
    "    else:\n",
    "        formatted_window = f\"{minutes}m {sec}s\"\n",
    "\n",
    "    # one-line summary\n",
    "    st.markdown(\n",
    "        f\"**{quote_count} quotes** from **{', '.join(sources)}** in batch **{batch_number}**\\n\\n\"\n",
    "        f\"📅 {start_time.strftime('%Y-%m-%d %H:%M:%S')} → {end_time.strftime('%Y-%m-%d %H:%M:%S')} \"\n",
    "        f\"({formatted_window})\"\n",
    "    )\n",
    "\n",
    "    # metrics cards\n",
    "    c1, c2, c3, c4 = st.columns(4)\n",
    "    c1.metric(\"Quotes count\", quote_count)\n",
    "    c2.metric(\"Sources\", \", \".join(sources))\n",
    "    c3.metric(\"Batch #\", batch_number)\n",
    "    c4.metric(\"Duration\", formatted_window)\n",
    "\n",
    "\n",
    "def display_slippage_scatter(swap_quotes_df: pd.DataFrame):\n",
    "    \"\"\"\n",
    "    Render a scatter plot of scaled_amount_in vs slippage_bps,\n",
    "    filtered by sell_token_symbol and size_factor.\n",
    "    \"\"\"\n",
    "    df = swap_quotes_df.copy()\n",
    "\n",
    "    # Select sell token symbol\n",
    "    symbol_options = df[\"sell_token_symbol\"].unique().tolist()\n",
    "    selected_symbol = st.selectbox(\"Select sell token symbol\", symbol_options)\n",
    "\n",
    "    # Select size factor (absolute / portion)\n",
    "    factor_options = df[\"size_factor\"].unique().tolist()\n",
    "    selected_factor = st.selectbox(\"Select size factor\", factor_options)\n",
    "\n",
    "    # Filter the DataFrame\n",
    "    filtered_df = df[(df[\"sell_token_symbol\"] == selected_symbol) & (df[\"size_factor\"] == selected_factor)]\n",
    "\n",
    "    # Plot\n",
    "    fig = px.scatter(\n",
    "        filtered_df,\n",
    "        x=\"scaled_amount_in\",\n",
    "        y=\"slippage_bps\",\n",
    "        color=\"label\",\n",
    "        title=f\"Slippage vs Amount for {selected_symbol} ({selected_factor})\",\n",
    "    )\n",
    "    st.plotly_chart(fig, use_container_width=True)\n",
    "\n",
    "    return filtered_df\n",
    "\n",
    "\n",
    "def _add_reference_price_column(swap_quotes_df: pd.DataFrame) -> None:\n",
    "\n",
    "    # For each token, it is the min effective price for that swap size\n",
    "    # the refernce price is the price of selling a non-trivial amount for the base asset\n",
    "    # for stable coins it is 10_000 tokens, for ETH based assets it is 5 ETH\n",
    "    # we get the median price for these swap sizes from the tokemak api at this batch\n",
    "\n",
    "    smallest_amount_in = swap_quotes_df[swap_quotes_df[\"size_factor\"] == \"absolute\"][\"scaled_amount_in\"].min()\n",
    "    sell_token_to_reference_price = (\n",
    "        swap_quotes_df[\n",
    "            (swap_quotes_df[\"size_factor\"] == \"absolute\")\n",
    "            & (swap_quotes_df[\"scaled_amount_in\"] == smallest_amount_in)\n",
    "            & (swap_quotes_df[\"api_name\"] == \"tokemak\")\n",
    "        ]\n",
    "        .groupby(\"sell_token_symbol\")[\"effective_price\"]\n",
    "        .median()\n",
    "        .to_dict()\n",
    "    )\n",
    "    swap_quotes_df[\"reference_price\"] = swap_quotes_df[\"sell_token_symbol\"].map(sell_token_to_reference_price)\n",
    "    return sell_token_to_reference_price\n",
    "\n",
    "\n",
    "def _add_token_symbols_columns(swap_quotes_df: pd.DataFrame) -> None:\n",
    "    tokens_df = get_full_table_as_df(Tokens, where_clause=Tokens.chain_id == swap_quotes_df[\"chain_id\"].iloc[0])\n",
    "    token_address_to_symbol = dict(zip(tokens_df[\"token_address\"], tokens_df[\"symbol\"]))\n",
    "    swap_quotes_df[\"buy_token_symbol\"] = swap_quotes_df[\"buy_token_address\"].map(token_address_to_symbol)\n",
    "    swap_quotes_df[\"sell_token_symbol\"] = swap_quotes_df[\"sell_token_address\"].map(token_address_to_symbol)\n",
    "\n",
    "\n",
    "def _augment_swap_quotes_df(swap_quotes_df: pd.DataFrame) -> pd.DataFrame:\n",
    "    \"\"\"\n",
    "    Augment the swap quotes DataFrame with additional information.\n",
    "    \"\"\"\n",
    "    # how much of the base asset we we get from selling X amoutn of the sell token\n",
    "    # eg 101 sDAI / 100 USDC  -> effective price of 1.01 sDAI per USDC\n",
    "\n",
    "    _add_token_symbols_columns(swap_quotes_df)\n",
    "    _add_reference_price_column(swap_quotes_df)\n",
    "\n",
    "    swap_quotes_df[\"effective_price\"] = swap_quotes_df[\"scaled_amount_out\"] / swap_quotes_df[\"scaled_amount_in\"]\n",
    "    swap_quotes_df[\"label\"] = swap_quotes_df[\"sell_token_symbol\"] + \" - \" + swap_quotes_df[\"api_name\"]\n",
    "\n",
    "    # - Sell a larger quantity (e.g., 100 stETH → receive 97.5 ETH)\n",
    "    # - New price = 97.5 ETH ÷ 100 stETH = 0.975 ETH/stETH\n",
    "\n",
    "    # - Excess slippage in basis points (bps):\n",
    "\n",
    "    # `slippage_bps = 10 000 * (0.98 - 0.975) ÷ 0.98 ≈ 51 bps`\n",
    "    swap_quotes_df[\"slippage_bps\"] = (\n",
    "        10_000\n",
    "        * (swap_quotes_df[\"effective_price\"] - swap_quotes_df[\"reference_price\"])\n",
    "        / swap_quotes_df[\"reference_price\"]\n",
    "    ).round(2)\n",
    "\n",
    "    return swap_quotes_df\n",
    "\n",
    "\n",
    "swap_quotes_df = _augment_swap_quotes_df(swap_quotes_df)\n",
    "\n",
    "swap_quotes_df.head()"
   ]
  },
  {
   "cell_type": "code",
   "execution_count": null,
   "metadata": {},
   "outputs": [],
   "source": []
  },
  {
   "cell_type": "code",
   "execution_count": 48,
   "metadata": {},
   "outputs": [
    {
     "data": {
      "application/vnd.plotly.v1+json": {
       "config": {
        "plotlyServerURL": "https://plot.ly"
       },
       "data": [
        {
         "hovertemplate": "label=ezETH - odos<br>scaled_amount_in=%{x}<br>slippage_bps=%{y}<extra></extra>",
         "legendgroup": "ezETH - odos",
         "marker": {
          "color": "#636efa",
          "symbol": "circle"
         },
         "mode": "markers",
         "name": "ezETH - odos",
         "orientation": "v",
         "showlegend": true,
         "type": "scatter",
         "x": [
          51.02526726209871,
          0.5102526726209872,
          2.5512633631049355,
          12.756316815524677,
          51.02526726209871,
          0.5102526726209872,
          38.26895044657404,
          5.102526726209871,
          25.512633631049354,
          5.102526726209871,
          12.756316815524677,
          38.26895044657404,
          51.02526726209871,
          0.5102526726209872,
          5.102526726209871,
          25.512633631049354,
          12.756316815524677,
          2.5512633631049355,
          25.512633631049354,
          2.5512633631049355,
          38.26895044657404,
          50,
          200,
          50,
          20,
          20,
          100,
          5,
          100,
          200,
          200,
          100,
          5,
          20,
          50,
          5
         ],
         "xaxis": "x",
         "y": [
          -1.21,
          0.2,
          0.11,
          -0.36,
          -1.21,
          0.2,
          -1.08,
          0,
          -0.97,
          0,
          -0.36,
          -1.08,
          -1.21,
          0.2,
          0,
          -0.97,
          -0.36,
          0.11,
          -0.97,
          0.11,
          -1.08,
          -1.2,
          -1.84,
          -1.2,
          -0.7,
          -0.7,
          -1.48,
          0,
          -1.48,
          -1.84,
          -1.84,
          -1.48,
          0,
          -0.7,
          -1.2,
          0
         ],
         "yaxis": "y"
        },
        {
         "hovertemplate": "label=ezETH - tokemak<br>scaled_amount_in=%{x}<br>slippage_bps=%{y}<extra></extra>",
         "legendgroup": "ezETH - tokemak",
         "marker": {
          "color": "#EF553B",
          "symbol": "circle"
         },
         "mode": "markers",
         "name": "ezETH - tokemak",
         "orientation": "v",
         "showlegend": true,
         "type": "scatter",
         "x": [
          12.756316815524677,
          0.5102526726209872,
          38.26895044657404,
          0.5102526726209872,
          12.756316815524677,
          25.512633631049354,
          5.102526726209871,
          25.512633631049354,
          2.5512633631049355,
          5.102526726209871,
          51.02526726209871,
          51.02526726209871,
          2.5512633631049355,
          38.26895044657404,
          25.512633631049354,
          2.5512633631049355,
          12.756316815524677,
          51.02526726209871,
          0.5102526726209872,
          38.26895044657404,
          5.102526726209871,
          20,
          20,
          100,
          50,
          200,
          200,
          50,
          100,
          20,
          100,
          5,
          200,
          5,
          5,
          50
         ],
         "xaxis": "x",
         "y": [
          -0.36,
          0.2,
          -1.08,
          0.2,
          -0.36,
          -0.97,
          0,
          -0.97,
          0.11,
          0,
          -1.21,
          -1.21,
          0.11,
          -1.08,
          -0.97,
          0.11,
          -0.36,
          -1.21,
          0.2,
          -1.08,
          0,
          -0.7,
          -0.7,
          -1.48,
          -1.2,
          -1.84,
          -1.84,
          -1.2,
          -1.48,
          -0.7,
          -1.48,
          0,
          -1.84,
          0,
          0,
          -1.2
         ],
         "yaxis": "y"
        },
        {
         "hovertemplate": "label=weETH - odos<br>scaled_amount_in=%{x}<br>slippage_bps=%{y}<extra></extra>",
         "legendgroup": "weETH - odos",
         "marker": {
          "color": "#00cc96",
          "symbol": "circle"
         },
         "mode": "markers",
         "name": "weETH - odos",
         "orientation": "v",
         "showlegend": true,
         "type": "scatter",
         "x": [
          99.70734261630605,
          199.4146852326121,
          997.0734261630606,
          1495.6101392445908,
          498.5367130815303,
          1495.6101392445908,
          997.0734261630606,
          99.70734261630605,
          99.70734261630605,
          1994.1468523261212,
          1495.6101392445908,
          199.4146852326121,
          498.5367130815303,
          199.4146852326121,
          1994.1468523261212,
          997.0734261630606,
          19.94146852326121,
          19.94146852326121,
          498.5367130815303,
          19.94146852326121,
          1994.1468523261212,
          200,
          200,
          100,
          100,
          20,
          5,
          50,
          5,
          50,
          100,
          20,
          50,
          200,
          20,
          5
         ],
         "xaxis": "x",
         "y": [
          -6.4,
          -6.6,
          -7.47,
          -7.97,
          -6.96,
          -7.97,
          -7.47,
          -6.4,
          -6.4,
          -8.46,
          -7.97,
          -6.6,
          -6.96,
          -6.6,
          -8.46,
          -7.47,
          -5.59,
          -5.45,
          -6.96,
          -5.45,
          -8.46,
          -6.6,
          -6.6,
          -6.4,
          -6.4,
          -5.6,
          -3.6,
          -6.13,
          -3.6,
          -6.13,
          -6.4,
          -5.6,
          -6.13,
          -6.6,
          -5.6,
          -3.6
         ],
         "yaxis": "y"
        },
        {
         "hovertemplate": "label=rETH - odos<br>scaled_amount_in=%{x}<br>slippage_bps=%{y}<extra></extra>",
         "legendgroup": "rETH - odos",
         "marker": {
          "color": "#ab63fa",
          "symbol": "circle"
         },
         "mode": "markers",
         "name": "rETH - odos",
         "orientation": "v",
         "showlegend": true,
         "type": "scatter",
         "x": [
          42.42038554047849,
          318.1528915535887,
          106.05096385119623,
          212.10192770239246,
          318.1528915535887,
          42.42038554047849,
          21.210192770239246,
          424.2038554047849,
          424.2038554047849,
          106.05096385119623,
          212.10192770239246,
          42.42038554047849,
          106.05096385119623,
          21.210192770239246,
          4.242038554047849,
          4.242038554047849,
          4.242038554047849,
          318.1528915535887,
          212.10192770239246,
          424.2038554047849,
          21.210192770239246,
          200,
          5,
          50,
          100,
          50,
          100,
          50,
          5,
          200,
          20,
          20,
          5,
          100,
          20,
          200
         ],
         "xaxis": "x",
         "y": [
          -1.06,
          -6.03,
          -2.1,
          -4.05,
          -6.19,
          -1.06,
          -0.46,
          -8.7,
          -8.46,
          -2,
          -3.91,
          -1.06,
          -2.1,
          -0.46,
          0.02,
          0.02,
          0.02,
          -6.17,
          -4.05,
          -8.44,
          -0.46,
          -3.68,
          0,
          -1.27,
          -1.89,
          -1.27,
          -1.89,
          -1.27,
          0,
          -3.68,
          -0.42,
          -0.42,
          0,
          -1.89,
          -0.42,
          -3.68
         ],
         "yaxis": "y"
        },
        {
         "hovertemplate": "label=ETHx - tokemak<br>scaled_amount_in=%{x}<br>slippage_bps=%{y}<extra></extra>",
         "legendgroup": "ETHx - tokemak",
         "marker": {
          "color": "#FFA15A",
          "symbol": "circle"
         },
         "mode": "markers",
         "name": "ETHx - tokemak",
         "orientation": "v",
         "showlegend": true,
         "type": "scatter",
         "x": [
          21.13676170514676,
          211.36761705146762,
          4.227352341029352,
          211.36761705146762,
          105.68380852573381,
          422.73523410293524,
          317.0514255772014,
          42.27352341029352,
          42.27352341029352,
          4.227352341029352,
          42.27352341029352,
          4.227352341029352,
          422.73523410293524,
          21.13676170514676,
          105.68380852573381,
          21.13676170514676,
          422.73523410293524,
          105.68380852573381,
          211.36761705146762,
          317.0514255772014,
          317.0514255772014,
          20,
          20,
          20,
          50,
          200,
          200,
          50,
          5,
          100,
          100,
          100,
          50,
          5,
          200,
          5
         ],
         "xaxis": "x",
         "y": [
          -0.63,
          -10.71,
          0.03,
          -10.71,
          -4.4,
          -26.55,
          -19.23,
          -1.5,
          -1.5,
          0.03,
          -1.5,
          0.03,
          -26.55,
          -0.63,
          -4.4,
          -0.63,
          -26.55,
          -4.4,
          -10.71,
          -19.15,
          -19.15,
          -0.58,
          -0.58,
          -0.65,
          -1.84,
          -9.86,
          -9.85,
          -1.92,
          0,
          -4.12,
          -4.24,
          -4.12,
          -1.84,
          0,
          -10.01,
          -0.06
         ],
         "yaxis": "y"
        },
        {
         "hovertemplate": "label=pxETH - tokemak<br>scaled_amount_in=%{x}<br>slippage_bps=%{y}<extra></extra>",
         "legendgroup": "pxETH - tokemak",
         "marker": {
          "color": "#19d3f3",
          "symbol": "circle"
         },
         "mode": "markers",
         "name": "pxETH - tokemak",
         "orientation": "v",
         "showlegend": true,
         "type": "scatter",
         "x": [
          244.78874474294688,
          2447.8874474294685,
          24.478874474294685,
          611.9718618573671,
          611.9718618573671,
          2447.8874474294685,
          1835.9155855721015,
          122.39437237147344,
          122.39437237147344,
          24.478874474294685,
          1223.9437237147342,
          1223.9437237147342,
          1835.9155855721015,
          1223.9437237147342,
          2447.8874474294685,
          611.9718618573671,
          244.78874474294688,
          1835.9155855721015,
          244.78874474294688,
          24.478874474294685,
          122.39437237147344,
          100,
          100,
          5,
          20,
          100,
          200,
          5,
          5,
          200,
          20,
          200,
          20,
          50,
          50,
          50
         ],
         "xaxis": "x",
         "y": [
          -4.32,
          -123.76,
          -0.78,
          -10.11,
          -10.11,
          -123.85,
          -52.4,
          -2.57,
          -2.57,
          -0.78,
          -24.74,
          -24.59,
          -52.44,
          -24.75,
          -123.8,
          -10.14,
          -4.32,
          -52.42,
          -4.45,
          -0.78,
          -2.62,
          -2.17,
          -2.26,
          0,
          -0.6,
          -2.28,
          -3.75,
          0,
          0,
          -3.75,
          -0.6,
          -3.75,
          -0.6,
          -1.42,
          -1.42,
          -1.42
         ],
         "yaxis": "y"
        },
        {
         "hovertemplate": "label=wstETH - tokemak<br>scaled_amount_in=%{x}<br>slippage_bps=%{y}<extra></extra>",
         "legendgroup": "wstETH - tokemak",
         "marker": {
          "color": "#FF6692",
          "symbol": "circle"
         },
         "mode": "markers",
         "name": "wstETH - tokemak",
         "orientation": "v",
         "showlegend": true,
         "type": "scatter",
         "x": [
          4.6055170887465104,
          345.4137816559883,
          460.55170887465107,
          46.05517088746511,
          460.55170887465107,
          4.6055170887465104,
          46.05517088746511,
          115.13792721866277,
          23.027585443732555,
          230.27585443732553,
          230.27585443732553,
          46.05517088746511,
          230.27585443732553,
          23.027585443732555,
          4.6055170887465104,
          460.55170887465107,
          115.13792721866277,
          5,
          23.027585443732555,
          345.4137816559883,
          345.4137816559883,
          115.13792721866277,
          5,
          50,
          200,
          200,
          200,
          100,
          20,
          50,
          20,
          20,
          100,
          100,
          50,
          5
         ],
         "xaxis": "x",
         "y": [
          0.02,
          -0.59,
          -0.76,
          -0.35,
          -0.66,
          0.02,
          -0.35,
          -0.45,
          -0.38,
          -0.55,
          -0.55,
          -0.35,
          -0.59,
          -0.29,
          0.02,
          -0.66,
          -0.45,
          0,
          -0.29,
          -0.67,
          -0.59,
          -0.45,
          -0.52,
          -0.3,
          -0.63,
          -0.49,
          -0.51,
          -0.56,
          -0.05,
          -0.33,
          -0.14,
          -0.54,
          -0.38,
          -0.36,
          -0.57,
          0.13
         ],
         "yaxis": "y"
        },
        {
         "hovertemplate": "label=weETH - tokemak<br>scaled_amount_in=%{x}<br>slippage_bps=%{y}<extra></extra>",
         "legendgroup": "weETH - tokemak",
         "marker": {
          "color": "#B6E880",
          "symbol": "circle"
         },
         "mode": "markers",
         "name": "weETH - tokemak",
         "orientation": "v",
         "showlegend": true,
         "type": "scatter",
         "x": [
          498.5367130815303,
          498.5367130815303,
          498.5367130815303,
          19.94146852326121,
          1495.6101392445908,
          1994.1468523261212,
          997.0734261630606,
          19.94146852326121,
          1994.1468523261212,
          1994.1468523261212,
          199.4146852326121,
          99.70734261630605,
          99.70734261630605,
          199.4146852326121,
          997.0734261630606,
          1495.6101392445908,
          997.0734261630606,
          199.4146852326121,
          19.94146852326121,
          99.70734261630605,
          1495.6101392445908,
          200,
          20,
          50,
          5,
          5,
          50,
          5,
          20,
          200,
          100,
          100,
          100,
          50,
          20,
          200
         ],
         "xaxis": "x",
         "y": [
          -6.19,
          -6.19,
          -6.19,
          -0.47,
          -7.58,
          -8.12,
          -6.99,
          -0.47,
          -8.12,
          -8.12,
          -4.93,
          -3.21,
          -3.21,
          -4.93,
          -6.99,
          -7.58,
          -6.99,
          -4.93,
          -0.47,
          -3.21,
          -7.58,
          -4.93,
          -0.47,
          -1.5,
          0,
          0,
          -1.5,
          0,
          -0.47,
          -4.93,
          -3.22,
          -3.22,
          -3.22,
          -1.5,
          -0.47,
          -4.93
         ],
         "yaxis": "y"
        },
        {
         "hovertemplate": "label=wstETH - odos<br>scaled_amount_in=%{x}<br>slippage_bps=%{y}<extra></extra>",
         "legendgroup": "wstETH - odos",
         "marker": {
          "color": "#FF97FF",
          "symbol": "circle"
         },
         "mode": "markers",
         "name": "wstETH - odos",
         "orientation": "v",
         "showlegend": true,
         "type": "scatter",
         "x": [
          4.6055170887465104,
          4.6055170887465104,
          345.4137816559883,
          23.027585443732555,
          345.4137816559883,
          115.13792721866277,
          115.13792721866277,
          115.13792721866277,
          4.6055170887465104,
          345.4137816559883,
          46.05517088746511,
          230.27585443732553,
          23.027585443732555,
          230.27585443732553,
          23.027585443732555,
          460.55170887465107,
          460.55170887465107,
          460.55170887465107,
          230.27585443732553,
          46.05517088746511,
          46.05517088746511,
          5,
          5,
          50,
          100,
          20,
          100,
          100,
          50,
          20,
          5,
          20,
          200,
          50,
          200,
          200
         ],
         "xaxis": "x",
         "y": [
          0.02,
          0.02,
          -0.59,
          -0.29,
          -0.67,
          -0.45,
          -0.45,
          -0.45,
          0.02,
          -0.59,
          -0.35,
          -0.55,
          -0.29,
          -0.55,
          -0.38,
          -0.66,
          -0.76,
          -0.66,
          -0.59,
          -0.35,
          -0.35,
          -0.52,
          0,
          -0.3,
          -0.38,
          -0.05,
          -0.36,
          -0.56,
          -0.29,
          -0.14,
          0.13,
          -0.54,
          -0.49,
          -0.57,
          -0.63,
          -0.51
         ],
         "yaxis": "y"
        },
        {
         "hovertemplate": "label=ETHx - odos<br>scaled_amount_in=%{x}<br>slippage_bps=%{y}<extra></extra>",
         "legendgroup": "ETHx - odos",
         "marker": {
          "color": "#FECB52",
          "symbol": "circle"
         },
         "mode": "markers",
         "name": "ETHx - odos",
         "orientation": "v",
         "showlegend": true,
         "type": "scatter",
         "x": [
          42.27352341029352,
          422.73523410293524,
          422.73523410293524,
          317.0514255772014,
          4.227352341029352,
          422.73523410293524,
          317.0514255772014,
          105.68380852573381,
          21.13676170514676,
          4.227352341029352,
          211.36761705146762,
          21.13676170514676,
          42.27352341029352,
          4.227352341029352,
          211.36761705146762,
          317.0514255772014,
          105.68380852573381,
          105.68380852573381,
          21.13676170514676,
          211.36761705146762,
          42.27352341029352,
          50,
          5,
          5,
          100,
          50,
          50,
          5,
          100,
          20,
          20,
          20,
          200,
          200,
          200,
          100
         ],
         "xaxis": "x",
         "y": [
          -21.96,
          -61.42,
          -61.42,
          -52.84,
          -5.29,
          -61.42,
          -52.72,
          -33.62,
          -11.52,
          -5.29,
          -43.78,
          -11.52,
          -21.96,
          -5.28,
          -43.78,
          -52.72,
          -33.62,
          -33.62,
          -11.52,
          -43.78,
          -21.96,
          -24.45,
          -5.59,
          -5.48,
          -32.88,
          -24.21,
          -24.25,
          -6.11,
          -32.9,
          -10.84,
          -10.75,
          -11.25,
          -42.75,
          -42.81,
          -42.76,
          -33.01
         ],
         "yaxis": "y"
        },
        {
         "hovertemplate": "label=osETH - odos<br>scaled_amount_in=%{x}<br>slippage_bps=%{y}<extra></extra>",
         "legendgroup": "osETH - odos",
         "marker": {
          "color": "#636efa",
          "symbol": "circle"
         },
         "mode": "markers",
         "name": "osETH - odos",
         "orientation": "v",
         "showlegend": true,
         "type": "scatter",
         "x": [
          2302.8670914844333,
          115.14335457422168,
          23.028670914844337,
          115.14335457422168,
          2302.8670914844333,
          575.7167728711083,
          23.028670914844337,
          1727.1503186133252,
          23.028670914844337,
          115.14335457422168,
          2302.8670914844333,
          575.7167728711083,
          230.28670914844335,
          230.28670914844335,
          1151.4335457422167,
          1151.4335457422167,
          1151.4335457422167,
          575.7167728711083,
          230.28670914844335,
          1727.1503186133252,
          1727.1503186133252,
          100,
          100,
          200,
          20,
          50,
          20,
          5,
          5,
          5,
          200,
          100,
          50,
          20,
          50,
          200
         ],
         "xaxis": "x",
         "y": [
          -27.2,
          -2.25,
          -1.44,
          -2.25,
          -27.2,
          -6.42,
          -1.44,
          -18.83,
          -1.44,
          -2.25,
          -27.2,
          -6.42,
          -3.27,
          -3.27,
          -12.13,
          -12.13,
          -12.13,
          -6.42,
          -3.27,
          -18.83,
          -18.83,
          -2.12,
          -2.12,
          -3,
          -1.41,
          -1.68,
          -1.42,
          -1.28,
          -1.29,
          -1.28,
          -3,
          -2.12,
          -1.68,
          -1.41,
          -1.68,
          -3
         ],
         "yaxis": "y"
        },
        {
         "hovertemplate": "label=osETH - tokemak<br>scaled_amount_in=%{x}<br>slippage_bps=%{y}<extra></extra>",
         "legendgroup": "osETH - tokemak",
         "marker": {
          "color": "#EF553B",
          "symbol": "circle"
         },
         "mode": "markers",
         "name": "osETH - tokemak",
         "orientation": "v",
         "showlegend": true,
         "type": "scatter",
         "x": [
          575.7167728711083,
          115.14335457422168,
          2302.8670914844333,
          575.7167728711083,
          230.28670914844335,
          1151.4335457422167,
          1727.1503186133252,
          115.14335457422168,
          23.028670914844337,
          2302.8670914844333,
          23.028670914844337,
          23.028670914844337,
          2302.8670914844333,
          230.28670914844335,
          230.28670914844335,
          1151.4335457422167,
          1727.1503186133252,
          1727.1503186133252,
          1151.4335457422167,
          575.7167728711083,
          115.14335457422168,
          50,
          20,
          200,
          5,
          100,
          200,
          5,
          200,
          100,
          20,
          50,
          100,
          50,
          5,
          20
         ],
         "xaxis": "x",
         "y": [
          -1.93,
          -0.44,
          -7.38,
          -1.93,
          -0.88,
          -3.63,
          -5.43,
          -0.44,
          -0.07,
          -7.38,
          -0.07,
          -0.07,
          -7.38,
          -0.88,
          -0.88,
          -3.63,
          -5.43,
          -5.43,
          -3.62,
          -1.93,
          -0.44,
          -0.18,
          -0.06,
          -0.78,
          0,
          -0.38,
          -0.78,
          0,
          -0.78,
          -0.38,
          -0.06,
          -0.18,
          -0.38,
          -0.18,
          0,
          -0.06
         ],
         "yaxis": "y"
        },
        {
         "hovertemplate": "label=pxETH - odos<br>scaled_amount_in=%{x}<br>slippage_bps=%{y}<extra></extra>",
         "legendgroup": "pxETH - odos",
         "marker": {
          "color": "#00cc96",
          "symbol": "circle"
         },
         "mode": "markers",
         "name": "pxETH - odos",
         "orientation": "v",
         "showlegend": true,
         "type": "scatter",
         "x": [
          244.78874474294688,
          244.78874474294688,
          611.9718618573671,
          2447.8874474294685,
          2447.8874474294685,
          24.478874474294685,
          1835.9155855721015,
          122.39437237147344,
          611.9718618573671,
          611.9718618573671,
          1223.9437237147342,
          122.39437237147344,
          122.39437237147344,
          1835.9155855721015,
          244.78874474294688,
          24.478874474294685,
          1835.9155855721015,
          1223.9437237147342,
          2447.8874474294685,
          1223.9437237147342,
          24.478874474294685,
          100,
          50,
          200,
          100,
          200,
          20,
          50,
          50,
          5,
          20,
          100,
          5,
          5,
          200,
          20
         ],
         "xaxis": "x",
         "y": [
          -29.02,
          -28.98,
          -189.31,
          -6911.22,
          -6911.17,
          -2.64,
          -5885.13,
          -12.38,
          -189.44,
          -189.44,
          -3848.37,
          -12.38,
          -12.38,
          -5885.2,
          -29.02,
          -2.64,
          -5885.2,
          -3848.27,
          -6911.22,
          -3848.37,
          -2.64,
          -9.87,
          -4.85,
          -22.07,
          -9.87,
          -22.07,
          -2.41,
          -4.85,
          -4.85,
          -1.12,
          -2.41,
          -9.87,
          -1.12,
          -1.12,
          -22.07,
          -2.41
         ],
         "yaxis": "y"
        },
        {
         "hovertemplate": "label=rETH - tokemak<br>scaled_amount_in=%{x}<br>slippage_bps=%{y}<extra></extra>",
         "legendgroup": "rETH - tokemak",
         "marker": {
          "color": "#ab63fa",
          "symbol": "circle"
         },
         "mode": "markers",
         "name": "rETH - tokemak",
         "orientation": "v",
         "showlegend": true,
         "type": "scatter",
         "x": [
          4.242038554047849,
          318.1528915535887,
          212.10192770239246,
          106.05096385119623,
          42.42038554047849,
          4.242038554047849,
          424.2038554047849,
          424.2038554047849,
          42.42038554047849,
          21.210192770239246,
          42.42038554047849,
          4.242038554047849,
          212.10192770239246,
          106.05096385119623,
          318.1528915535887,
          21.210192770239246,
          106.05096385119623,
          318.1528915535887,
          21.210192770239246,
          5,
          424.2038554047849,
          212.10192770239246,
          50,
          20,
          50,
          5,
          100,
          100,
          5,
          200,
          50,
          20,
          20,
          100,
          200,
          200
         ],
         "xaxis": "x",
         "y": [
          0.02,
          -4.58,
          -3.1,
          -1.74,
          -0.86,
          0.02,
          -6.1,
          -6.12,
          -0.86,
          -0.46,
          -0.86,
          0.02,
          -3.1,
          -1.83,
          -4.58,
          -0.46,
          -1.83,
          -4.47,
          -0.46,
          0,
          -6,
          -3.01,
          -1.06,
          -0.42,
          -1.06,
          0,
          -1.66,
          -1.66,
          0,
          -2.85,
          -1.06,
          -0.42,
          -0.42,
          -1.66,
          -2.93,
          -2.86
         ],
         "yaxis": "y"
        },
        {
         "hovertemplate": "label=stETH - tokemak<br>scaled_amount_in=%{x}<br>slippage_bps=%{y}<extra></extra>",
         "legendgroup": "stETH - tokemak",
         "marker": {
          "color": "#FFA15A",
          "symbol": "circle"
         },
         "mode": "markers",
         "name": "stETH - tokemak",
         "orientation": "v",
         "showlegend": true,
         "type": "scatter",
         "x": [
          50.370836113815336,
          5.037083611381534,
          377.78127085361496,
          25.185418056907668,
          125.92709028453834,
          5.037083611381534,
          25.185418056907668,
          25.185418056907668,
          503.70836113815335,
          251.85418056907668,
          50.370836113815336,
          251.85418056907668,
          377.78127085361496,
          503.70836113815335,
          50,
          100,
          377.78127085361496,
          125.92709028453834,
          5.037083611381534,
          503.70836113815335,
          50.370836113815336,
          251.85418056907668,
          125.92709028453834,
          20,
          5,
          100,
          200,
          20,
          5,
          5,
          20,
          200,
          50,
          200,
          50,
          100
         ],
         "xaxis": "x",
         "y": [
          -0.45,
          0,
          -0.61,
          -0.42,
          -0.69,
          0,
          -0.42,
          -0.32,
          -0.7,
          -0.61,
          -0.45,
          -0.61,
          -0.61,
          -0.7,
          -0.57,
          -0.43,
          -0.73,
          -0.52,
          0,
          -0.85,
          -0.45,
          -0.61,
          -0.69,
          -0.15,
          0.1,
          -0.41,
          -0.47,
          -0.53,
          -0.52,
          0,
          -0.27,
          -0.65,
          -0.31,
          -0.49,
          -0.36,
          -0.59
         ],
         "yaxis": "y"
        },
        {
         "hovertemplate": "label=stETH - odos<br>scaled_amount_in=%{x}<br>slippage_bps=%{y}<extra></extra>",
         "legendgroup": "stETH - odos",
         "marker": {
          "color": "#19d3f3",
          "symbol": "circle"
         },
         "mode": "markers",
         "name": "stETH - odos",
         "orientation": "v",
         "showlegend": true,
         "type": "scatter",
         "x": [
          503.70836113815335,
          377.78127085361496,
          25.185418056907668,
          125.92709028453834,
          503.70836113815335,
          5.037083611381534,
          5.037083611381534,
          251.85418056907668,
          377.78127085361496,
          125.92709028453834,
          5.037083611381534,
          25.185418056907668,
          50.370836113815336,
          50.370836113815336,
          251.85418056907668,
          503.70836113815335,
          125.92709028453834,
          50.370836113815336,
          251.85418056907668,
          25.185418056907668,
          377.78127085361496,
          5,
          100,
          20,
          5,
          200,
          50,
          20,
          50,
          200,
          100,
          100,
          20,
          50,
          200,
          5
         ],
         "xaxis": "x",
         "y": [
          -0.82,
          -0.61,
          -0.42,
          -0.63,
          -0.7,
          0,
          0,
          -0.61,
          -0.73,
          -0.63,
          0,
          -0.32,
          -0.45,
          -0.45,
          -0.61,
          -0.7,
          -0.52,
          -0.39,
          -0.61,
          -0.32,
          -0.61,
          0,
          -0.37,
          -0.53,
          0.1,
          -0.47,
          -0.57,
          -0.15,
          -0.36,
          -0.49,
          -0.4,
          -0.65,
          -0.13,
          -0.31,
          -0.65,
          -0.91
         ],
         "yaxis": "y"
        }
       ],
       "layout": {
        "legend": {
         "title": {
          "text": "label"
         },
         "tracegroupgap": 0
        },
        "margin": {
         "t": 60
        },
        "template": {
         "data": {
          "bar": [
           {
            "error_x": {
             "color": "#2a3f5f"
            },
            "error_y": {
             "color": "#2a3f5f"
            },
            "marker": {
             "line": {
              "color": "#E5ECF6",
              "width": 0.5
             },
             "pattern": {
              "fillmode": "overlay",
              "size": 10,
              "solidity": 0.2
             }
            },
            "type": "bar"
           }
          ],
          "barpolar": [
           {
            "marker": {
             "line": {
              "color": "#E5ECF6",
              "width": 0.5
             },
             "pattern": {
              "fillmode": "overlay",
              "size": 10,
              "solidity": 0.2
             }
            },
            "type": "barpolar"
           }
          ],
          "carpet": [
           {
            "aaxis": {
             "endlinecolor": "#2a3f5f",
             "gridcolor": "white",
             "linecolor": "white",
             "minorgridcolor": "white",
             "startlinecolor": "#2a3f5f"
            },
            "baxis": {
             "endlinecolor": "#2a3f5f",
             "gridcolor": "white",
             "linecolor": "white",
             "minorgridcolor": "white",
             "startlinecolor": "#2a3f5f"
            },
            "type": "carpet"
           }
          ],
          "choropleth": [
           {
            "colorbar": {
             "outlinewidth": 0,
             "ticks": ""
            },
            "type": "choropleth"
           }
          ],
          "contour": [
           {
            "colorbar": {
             "outlinewidth": 0,
             "ticks": ""
            },
            "colorscale": [
             [
              0,
              "#0d0887"
             ],
             [
              0.1111111111111111,
              "#46039f"
             ],
             [
              0.2222222222222222,
              "#7201a8"
             ],
             [
              0.3333333333333333,
              "#9c179e"
             ],
             [
              0.4444444444444444,
              "#bd3786"
             ],
             [
              0.5555555555555556,
              "#d8576b"
             ],
             [
              0.6666666666666666,
              "#ed7953"
             ],
             [
              0.7777777777777778,
              "#fb9f3a"
             ],
             [
              0.8888888888888888,
              "#fdca26"
             ],
             [
              1,
              "#f0f921"
             ]
            ],
            "type": "contour"
           }
          ],
          "contourcarpet": [
           {
            "colorbar": {
             "outlinewidth": 0,
             "ticks": ""
            },
            "type": "contourcarpet"
           }
          ],
          "heatmap": [
           {
            "colorbar": {
             "outlinewidth": 0,
             "ticks": ""
            },
            "colorscale": [
             [
              0,
              "#0d0887"
             ],
             [
              0.1111111111111111,
              "#46039f"
             ],
             [
              0.2222222222222222,
              "#7201a8"
             ],
             [
              0.3333333333333333,
              "#9c179e"
             ],
             [
              0.4444444444444444,
              "#bd3786"
             ],
             [
              0.5555555555555556,
              "#d8576b"
             ],
             [
              0.6666666666666666,
              "#ed7953"
             ],
             [
              0.7777777777777778,
              "#fb9f3a"
             ],
             [
              0.8888888888888888,
              "#fdca26"
             ],
             [
              1,
              "#f0f921"
             ]
            ],
            "type": "heatmap"
           }
          ],
          "heatmapgl": [
           {
            "colorbar": {
             "outlinewidth": 0,
             "ticks": ""
            },
            "colorscale": [
             [
              0,
              "#0d0887"
             ],
             [
              0.1111111111111111,
              "#46039f"
             ],
             [
              0.2222222222222222,
              "#7201a8"
             ],
             [
              0.3333333333333333,
              "#9c179e"
             ],
             [
              0.4444444444444444,
              "#bd3786"
             ],
             [
              0.5555555555555556,
              "#d8576b"
             ],
             [
              0.6666666666666666,
              "#ed7953"
             ],
             [
              0.7777777777777778,
              "#fb9f3a"
             ],
             [
              0.8888888888888888,
              "#fdca26"
             ],
             [
              1,
              "#f0f921"
             ]
            ],
            "type": "heatmapgl"
           }
          ],
          "histogram": [
           {
            "marker": {
             "pattern": {
              "fillmode": "overlay",
              "size": 10,
              "solidity": 0.2
             }
            },
            "type": "histogram"
           }
          ],
          "histogram2d": [
           {
            "colorbar": {
             "outlinewidth": 0,
             "ticks": ""
            },
            "colorscale": [
             [
              0,
              "#0d0887"
             ],
             [
              0.1111111111111111,
              "#46039f"
             ],
             [
              0.2222222222222222,
              "#7201a8"
             ],
             [
              0.3333333333333333,
              "#9c179e"
             ],
             [
              0.4444444444444444,
              "#bd3786"
             ],
             [
              0.5555555555555556,
              "#d8576b"
             ],
             [
              0.6666666666666666,
              "#ed7953"
             ],
             [
              0.7777777777777778,
              "#fb9f3a"
             ],
             [
              0.8888888888888888,
              "#fdca26"
             ],
             [
              1,
              "#f0f921"
             ]
            ],
            "type": "histogram2d"
           }
          ],
          "histogram2dcontour": [
           {
            "colorbar": {
             "outlinewidth": 0,
             "ticks": ""
            },
            "colorscale": [
             [
              0,
              "#0d0887"
             ],
             [
              0.1111111111111111,
              "#46039f"
             ],
             [
              0.2222222222222222,
              "#7201a8"
             ],
             [
              0.3333333333333333,
              "#9c179e"
             ],
             [
              0.4444444444444444,
              "#bd3786"
             ],
             [
              0.5555555555555556,
              "#d8576b"
             ],
             [
              0.6666666666666666,
              "#ed7953"
             ],
             [
              0.7777777777777778,
              "#fb9f3a"
             ],
             [
              0.8888888888888888,
              "#fdca26"
             ],
             [
              1,
              "#f0f921"
             ]
            ],
            "type": "histogram2dcontour"
           }
          ],
          "mesh3d": [
           {
            "colorbar": {
             "outlinewidth": 0,
             "ticks": ""
            },
            "type": "mesh3d"
           }
          ],
          "parcoords": [
           {
            "line": {
             "colorbar": {
              "outlinewidth": 0,
              "ticks": ""
             }
            },
            "type": "parcoords"
           }
          ],
          "pie": [
           {
            "automargin": true,
            "type": "pie"
           }
          ],
          "scatter": [
           {
            "fillpattern": {
             "fillmode": "overlay",
             "size": 10,
             "solidity": 0.2
            },
            "type": "scatter"
           }
          ],
          "scatter3d": [
           {
            "line": {
             "colorbar": {
              "outlinewidth": 0,
              "ticks": ""
             }
            },
            "marker": {
             "colorbar": {
              "outlinewidth": 0,
              "ticks": ""
             }
            },
            "type": "scatter3d"
           }
          ],
          "scattercarpet": [
           {
            "marker": {
             "colorbar": {
              "outlinewidth": 0,
              "ticks": ""
             }
            },
            "type": "scattercarpet"
           }
          ],
          "scattergeo": [
           {
            "marker": {
             "colorbar": {
              "outlinewidth": 0,
              "ticks": ""
             }
            },
            "type": "scattergeo"
           }
          ],
          "scattergl": [
           {
            "marker": {
             "colorbar": {
              "outlinewidth": 0,
              "ticks": ""
             }
            },
            "type": "scattergl"
           }
          ],
          "scattermapbox": [
           {
            "marker": {
             "colorbar": {
              "outlinewidth": 0,
              "ticks": ""
             }
            },
            "type": "scattermapbox"
           }
          ],
          "scatterpolar": [
           {
            "marker": {
             "colorbar": {
              "outlinewidth": 0,
              "ticks": ""
             }
            },
            "type": "scatterpolar"
           }
          ],
          "scatterpolargl": [
           {
            "marker": {
             "colorbar": {
              "outlinewidth": 0,
              "ticks": ""
             }
            },
            "type": "scatterpolargl"
           }
          ],
          "scatterternary": [
           {
            "marker": {
             "colorbar": {
              "outlinewidth": 0,
              "ticks": ""
             }
            },
            "type": "scatterternary"
           }
          ],
          "surface": [
           {
            "colorbar": {
             "outlinewidth": 0,
             "ticks": ""
            },
            "colorscale": [
             [
              0,
              "#0d0887"
             ],
             [
              0.1111111111111111,
              "#46039f"
             ],
             [
              0.2222222222222222,
              "#7201a8"
             ],
             [
              0.3333333333333333,
              "#9c179e"
             ],
             [
              0.4444444444444444,
              "#bd3786"
             ],
             [
              0.5555555555555556,
              "#d8576b"
             ],
             [
              0.6666666666666666,
              "#ed7953"
             ],
             [
              0.7777777777777778,
              "#fb9f3a"
             ],
             [
              0.8888888888888888,
              "#fdca26"
             ],
             [
              1,
              "#f0f921"
             ]
            ],
            "type": "surface"
           }
          ],
          "table": [
           {
            "cells": {
             "fill": {
              "color": "#EBF0F8"
             },
             "line": {
              "color": "white"
             }
            },
            "header": {
             "fill": {
              "color": "#C8D4E3"
             },
             "line": {
              "color": "white"
             }
            },
            "type": "table"
           }
          ]
         },
         "layout": {
          "annotationdefaults": {
           "arrowcolor": "#2a3f5f",
           "arrowhead": 0,
           "arrowwidth": 1
          },
          "autotypenumbers": "strict",
          "coloraxis": {
           "colorbar": {
            "outlinewidth": 0,
            "ticks": ""
           }
          },
          "colorscale": {
           "diverging": [
            [
             0,
             "#8e0152"
            ],
            [
             0.1,
             "#c51b7d"
            ],
            [
             0.2,
             "#de77ae"
            ],
            [
             0.3,
             "#f1b6da"
            ],
            [
             0.4,
             "#fde0ef"
            ],
            [
             0.5,
             "#f7f7f7"
            ],
            [
             0.6,
             "#e6f5d0"
            ],
            [
             0.7,
             "#b8e186"
            ],
            [
             0.8,
             "#7fbc41"
            ],
            [
             0.9,
             "#4d9221"
            ],
            [
             1,
             "#276419"
            ]
           ],
           "sequential": [
            [
             0,
             "#0d0887"
            ],
            [
             0.1111111111111111,
             "#46039f"
            ],
            [
             0.2222222222222222,
             "#7201a8"
            ],
            [
             0.3333333333333333,
             "#9c179e"
            ],
            [
             0.4444444444444444,
             "#bd3786"
            ],
            [
             0.5555555555555556,
             "#d8576b"
            ],
            [
             0.6666666666666666,
             "#ed7953"
            ],
            [
             0.7777777777777778,
             "#fb9f3a"
            ],
            [
             0.8888888888888888,
             "#fdca26"
            ],
            [
             1,
             "#f0f921"
            ]
           ],
           "sequentialminus": [
            [
             0,
             "#0d0887"
            ],
            [
             0.1111111111111111,
             "#46039f"
            ],
            [
             0.2222222222222222,
             "#7201a8"
            ],
            [
             0.3333333333333333,
             "#9c179e"
            ],
            [
             0.4444444444444444,
             "#bd3786"
            ],
            [
             0.5555555555555556,
             "#d8576b"
            ],
            [
             0.6666666666666666,
             "#ed7953"
            ],
            [
             0.7777777777777778,
             "#fb9f3a"
            ],
            [
             0.8888888888888888,
             "#fdca26"
            ],
            [
             1,
             "#f0f921"
            ]
           ]
          },
          "colorway": [
           "#636efa",
           "#EF553B",
           "#00cc96",
           "#ab63fa",
           "#FFA15A",
           "#19d3f3",
           "#FF6692",
           "#B6E880",
           "#FF97FF",
           "#FECB52"
          ],
          "font": {
           "color": "#2a3f5f"
          },
          "geo": {
           "bgcolor": "white",
           "lakecolor": "white",
           "landcolor": "#E5ECF6",
           "showlakes": true,
           "showland": true,
           "subunitcolor": "white"
          },
          "hoverlabel": {
           "align": "left"
          },
          "hovermode": "closest",
          "mapbox": {
           "style": "light"
          },
          "paper_bgcolor": "white",
          "plot_bgcolor": "#E5ECF6",
          "polar": {
           "angularaxis": {
            "gridcolor": "white",
            "linecolor": "white",
            "ticks": ""
           },
           "bgcolor": "#E5ECF6",
           "radialaxis": {
            "gridcolor": "white",
            "linecolor": "white",
            "ticks": ""
           }
          },
          "scene": {
           "xaxis": {
            "backgroundcolor": "#E5ECF6",
            "gridcolor": "white",
            "gridwidth": 2,
            "linecolor": "white",
            "showbackground": true,
            "ticks": "",
            "zerolinecolor": "white"
           },
           "yaxis": {
            "backgroundcolor": "#E5ECF6",
            "gridcolor": "white",
            "gridwidth": 2,
            "linecolor": "white",
            "showbackground": true,
            "ticks": "",
            "zerolinecolor": "white"
           },
           "zaxis": {
            "backgroundcolor": "#E5ECF6",
            "gridcolor": "white",
            "gridwidth": 2,
            "linecolor": "white",
            "showbackground": true,
            "ticks": "",
            "zerolinecolor": "white"
           }
          },
          "shapedefaults": {
           "line": {
            "color": "#2a3f5f"
           }
          },
          "ternary": {
           "aaxis": {
            "gridcolor": "white",
            "linecolor": "white",
            "ticks": ""
           },
           "baxis": {
            "gridcolor": "white",
            "linecolor": "white",
            "ticks": ""
           },
           "bgcolor": "#E5ECF6",
           "caxis": {
            "gridcolor": "white",
            "linecolor": "white",
            "ticks": ""
           }
          },
          "title": {
           "x": 0.05
          },
          "xaxis": {
           "automargin": true,
           "gridcolor": "white",
           "linecolor": "white",
           "ticks": "",
           "title": {
            "standoff": 15
           },
           "zerolinecolor": "white",
           "zerolinewidth": 2
          },
          "yaxis": {
           "automargin": true,
           "gridcolor": "white",
           "linecolor": "white",
           "ticks": "",
           "title": {
            "standoff": 15
           },
           "zerolinecolor": "white",
           "zerolinewidth": 2
          }
         }
        },
        "xaxis": {
         "anchor": "y",
         "domain": [
          0,
          1
         ],
         "title": {
          "text": "scaled_amount_in"
         }
        },
        "yaxis": {
         "anchor": "x",
         "domain": [
          0,
          1
         ],
         "title": {
          "text": "slippage_bps"
         }
        }
       }
      }
     },
     "metadata": {},
     "output_type": "display_data"
    }
   ],
   "source": [
    "px.scatter(swap_quotes_df, x=\"scaled_amount_in\", y=\"slippage_bps\", color=\"label\")"
   ]
  },
  {
   "cell_type": "markdown",
   "metadata": {},
   "source": [
    "# the difference between the odos quote and the toekmak quote\n",
    "\n",
    "(assuming odos is good at this pricing)\n",
    "\n",
    "is because "
   ]
  },
  {
   "cell_type": "code",
   "execution_count": null,
   "metadata": {},
   "outputs": [
    {
     "name": "stderr",
     "output_type": "stream",
     "text": [
      "Fetching 3rd-party data from https://swaps-pricing.tokemaklabs.com/swap-quote-v2: 100%|██████████| 10/10 [00:04<00:00,  2.11it/s]\n",
      "Fetching 3rd-party data from https://api.odos.xyz/sor/quote/v2: 100%|██████████| 10/10 [00:01<00:00,  6.16it/s]\n"
     ]
    },
    {
     "name": "stdout",
     "output_type": "stream",
     "text": [
      "sleeping 2 minutes\n"
     ]
    },
    {
     "name": "stderr",
     "output_type": "stream",
     "text": [
      "Fetching 3rd-party data from https://swaps-pricing.tokemaklabs.com/swap-quote-v2: 100%|██████████| 10/10 [00:04<00:00,  2.37it/s]\n",
      "Fetching 3rd-party data from https://api.odos.xyz/sor/quote/v2: 100%|██████████| 10/10 [00:03<00:00,  3.10it/s]\n"
     ]
    },
    {
     "name": "stdout",
     "output_type": "stream",
     "text": [
      "sleeping 2 minutes\n"
     ]
    },
    {
     "name": "stderr",
     "output_type": "stream",
     "text": [
      "Fetching 3rd-party data from https://swaps-pricing.tokemaklabs.com/swap-quote-v2: 100%|██████████| 10/10 [00:03<00:00,  2.55it/s]\n",
      "Fetching 3rd-party data from https://api.odos.xyz/sor/quote/v2: 100%|██████████| 10/10 [00:05<00:00,  1.79it/s]"
     ]
    },
    {
     "name": "stdout",
     "output_type": "stream",
     "text": [
      "fetch_odos_and_tokemak_quotes took 265.9049 seconds.\n"
     ]
    },
    {
     "name": "stderr",
     "output_type": "stream",
     "text": [
      "\n"
     ]
    },
    {
     "data": {
      "application/vnd.microsoft.datawrangler.viewer.v0+json": {
       "columns": [
        {
         "name": "index",
         "rawType": "int64",
         "type": "integer"
        },
        {
         "name": "api",
         "rawType": "object",
         "type": "string"
        },
        {
         "name": "chain_id",
         "rawType": "int64",
         "type": "integer"
        },
        {
         "name": "token_in",
         "rawType": "object",
         "type": "string"
        },
        {
         "name": "token_out",
         "rawType": "object",
         "type": "string"
        },
        {
         "name": "token_in_symbol",
         "rawType": "object",
         "type": "string"
        },
        {
         "name": "token_out_symbol",
         "rawType": "object",
         "type": "string"
        },
        {
         "name": "scaled_amount_in",
         "rawType": "float64",
         "type": "float"
        },
        {
         "name": "scaled_amount_out",
         "rawType": "float64",
         "type": "float"
        },
        {
         "name": "datetime_received",
         "rawType": "datetime64[ns, UTC]",
         "type": "unknown"
        },
        {
         "name": "pools_blacklist",
         "rawType": "object",
         "type": "unknown"
        },
        {
         "name": "aggregator_name",
         "rawType": "object",
         "type": "string"
        },
        {
         "name": "effective_price",
         "rawType": "float64",
         "type": "float"
        }
       ],
       "ref": "94a4ba37-da3b-46ad-aa39-c40f96469c42",
       "rows": [
        [
         "0",
         "odos",
         "8453",
         "0x6Bb7a212910682DCFdbd5BCBb3e28FB4E8da10Ee",
         "0x833589fCD6eDb6E08f4c7C32D4f71b54bdA02913",
         "GHO",
         "USDC",
         "200000.0",
         "199423.465314",
         "2025-08-07 19:43:04.411131+00:00",
         "('0x7ab124ec4029316c2a42f713828ddf2a192b36db', '0xee8f4ec5672f09119b96ab6fb59c27e1b7e44b61')",
         "Odos",
         "0.99711732657"
        ],
        [
         "1",
         "odos",
         "8453",
         "0x646A737B9B6024e49f5908762B3fF73e65B5160c",
         "0x833589fCD6eDb6E08f4c7C32D4f71b54bdA02913",
         "scrvUSD",
         "USDC",
         "20000.0",
         "21016.695897",
         "2025-08-07 19:43:04.415230+00:00",
         "('0x7ab124ec4029316c2a42f713828ddf2a192b36db', '0xee8f4ec5672f09119b96ab6fb59c27e1b7e44b61')",
         "Odos",
         "1.05083479485"
        ],
        [
         "2",
         "odos",
         "8453",
         "0x6Bb7a212910682DCFdbd5BCBb3e28FB4E8da10Ee",
         "0x833589fCD6eDb6E08f4c7C32D4f71b54bdA02913",
         "GHO",
         "USDC",
         "20000.0",
         "19982.141704",
         "2025-08-07 19:43:04.419696+00:00",
         "('0x7ab124ec4029316c2a42f713828ddf2a192b36db', '0xee8f4ec5672f09119b96ab6fb59c27e1b7e44b61')",
         "Odos",
         "0.9991070852"
        ],
        [
         "3",
         "odos",
         "8453",
         "0x646A737B9B6024e49f5908762B3fF73e65B5160c",
         "0x833589fCD6eDb6E08f4c7C32D4f71b54bdA02913",
         "scrvUSD",
         "USDC",
         "200000.0",
         "209267.785776",
         "2025-08-07 19:43:04.422869+00:00",
         "('0x7ab124ec4029316c2a42f713828ddf2a192b36db', '0xee8f4ec5672f09119b96ab6fb59c27e1b7e44b61')",
         "Odos",
         "1.04633892888"
        ],
        [
         "4",
         "odos",
         "8453",
         "0x646A737B9B6024e49f5908762B3fF73e65B5160c",
         "0x833589fCD6eDb6E08f4c7C32D4f71b54bdA02913",
         "scrvUSD",
         "USDC",
         "100000.0",
         "104926.216793",
         "2025-08-07 19:43:04.524412+00:00",
         "('0x7ab124ec4029316c2a42f713828ddf2a192b36db', '0xee8f4ec5672f09119b96ab6fb59c27e1b7e44b61')",
         "Odos",
         "1.04926216793"
        ],
        [
         "5",
         "odos",
         "8453",
         "0x6Bb7a212910682DCFdbd5BCBb3e28FB4E8da10Ee",
         "0x833589fCD6eDb6E08f4c7C32D4f71b54bdA02913",
         "GHO",
         "USDC",
         "50000.0",
         "49945.885801",
         "2025-08-07 19:43:04.564463+00:00",
         "('0x7ab124ec4029316c2a42f713828ddf2a192b36db', '0xee8f4ec5672f09119b96ab6fb59c27e1b7e44b61')",
         "Odos",
         "0.9989177160199999"
        ],
        [
         "6",
         "odos",
         "8453",
         "0x646A737B9B6024e49f5908762B3fF73e65B5160c",
         "0x833589fCD6eDb6E08f4c7C32D4f71b54bdA02913",
         "scrvUSD",
         "USDC",
         "10000.0",
         "10510.005131",
         "2025-08-07 19:43:04.568207+00:00",
         "('0x7ab124ec4029316c2a42f713828ddf2a192b36db', '0xee8f4ec5672f09119b96ab6fb59c27e1b7e44b61')",
         "Odos",
         "1.0510005131"
        ],
        [
         "7",
         "odos",
         "8453",
         "0x646A737B9B6024e49f5908762B3fF73e65B5160c",
         "0x833589fCD6eDb6E08f4c7C32D4f71b54bdA02913",
         "scrvUSD",
         "USDC",
         "50000.0",
         "52515.035467",
         "2025-08-07 19:43:04.679508+00:00",
         "('0x7ab124ec4029316c2a42f713828ddf2a192b36db', '0xee8f4ec5672f09119b96ab6fb59c27e1b7e44b61')",
         "Odos",
         "1.05030070934"
        ],
        [
         "8",
         "odos",
         "8453",
         "0x6Bb7a212910682DCFdbd5BCBb3e28FB4E8da10Ee",
         "0x833589fCD6eDb6E08f4c7C32D4f71b54bdA02913",
         "GHO",
         "USDC",
         "10000.0",
         "9992.430118",
         "2025-08-07 19:43:05.112601+00:00",
         "('0x7ab124ec4029316c2a42f713828ddf2a192b36db', '0xee8f4ec5672f09119b96ab6fb59c27e1b7e44b61')",
         "Odos",
         "0.9992430118"
        ],
        [
         "9",
         "odos",
         "8453",
         "0x6Bb7a212910682DCFdbd5BCBb3e28FB4E8da10Ee",
         "0x833589fCD6eDb6E08f4c7C32D4f71b54bdA02913",
         "GHO",
         "USDC",
         "100000.0",
         "99866.206362",
         "2025-08-07 19:43:05.210060+00:00",
         "('0x7ab124ec4029316c2a42f713828ddf2a192b36db', '0xee8f4ec5672f09119b96ab6fb59c27e1b7e44b61')",
         "Odos",
         "0.99866206362"
        ],
        [
         "10",
         "odos",
         "8453",
         "0x646A737B9B6024e49f5908762B3fF73e65B5160c",
         "0x833589fCD6eDb6E08f4c7C32D4f71b54bdA02913",
         "scrvUSD",
         "USDC",
         "100000.0",
         "104926.216793",
         "2025-08-07 19:45:10.246219+00:00",
         "('0x7ab124ec4029316c2a42f713828ddf2a192b36db', '0xee8f4ec5672f09119b96ab6fb59c27e1b7e44b61')",
         "Odos",
         "1.04926216793"
        ],
        [
         "11",
         "odos",
         "8453",
         "0x6Bb7a212910682DCFdbd5BCBb3e28FB4E8da10Ee",
         "0x833589fCD6eDb6E08f4c7C32D4f71b54bdA02913",
         "GHO",
         "USDC",
         "10000.0",
         "9992.430118",
         "2025-08-07 19:45:10.247196+00:00",
         "('0x7ab124ec4029316c2a42f713828ddf2a192b36db', '0xee8f4ec5672f09119b96ab6fb59c27e1b7e44b61')",
         "Odos",
         "0.9992430118"
        ],
        [
         "12",
         "odos",
         "8453",
         "0x6Bb7a212910682DCFdbd5BCBb3e28FB4E8da10Ee",
         "0x833589fCD6eDb6E08f4c7C32D4f71b54bdA02913",
         "GHO",
         "USDC",
         "20000.0",
         "19982.141704",
         "2025-08-07 19:45:10.525932+00:00",
         "('0x7ab124ec4029316c2a42f713828ddf2a192b36db', '0xee8f4ec5672f09119b96ab6fb59c27e1b7e44b61')",
         "Odos",
         "0.9991070852"
        ],
        [
         "13",
         "odos",
         "8453",
         "0x646A737B9B6024e49f5908762B3fF73e65B5160c",
         "0x833589fCD6eDb6E08f4c7C32D4f71b54bdA02913",
         "scrvUSD",
         "USDC",
         "50000.0",
         "52515.035467",
         "2025-08-07 19:45:10.919552+00:00",
         "('0x7ab124ec4029316c2a42f713828ddf2a192b36db', '0xee8f4ec5672f09119b96ab6fb59c27e1b7e44b61')",
         "Odos",
         "1.05030070934"
        ],
        [
         "14",
         "odos",
         "8453",
         "0x646A737B9B6024e49f5908762B3fF73e65B5160c",
         "0x833589fCD6eDb6E08f4c7C32D4f71b54bdA02913",
         "scrvUSD",
         "USDC",
         "10000.0",
         "10510.005131",
         "2025-08-07 19:45:11.039130+00:00",
         "('0x7ab124ec4029316c2a42f713828ddf2a192b36db', '0xee8f4ec5672f09119b96ab6fb59c27e1b7e44b61')",
         "Odos",
         "1.0510005131"
        ],
        [
         "15",
         "odos",
         "8453",
         "0x646A737B9B6024e49f5908762B3fF73e65B5160c",
         "0x833589fCD6eDb6E08f4c7C32D4f71b54bdA02913",
         "scrvUSD",
         "USDC",
         "20000.0",
         "21016.695897",
         "2025-08-07 19:45:11.474755+00:00",
         "('0x7ab124ec4029316c2a42f713828ddf2a192b36db', '0xee8f4ec5672f09119b96ab6fb59c27e1b7e44b61')",
         "Odos",
         "1.05083479485"
        ],
        [
         "16",
         "odos",
         "8453",
         "0x6Bb7a212910682DCFdbd5BCBb3e28FB4E8da10Ee",
         "0x833589fCD6eDb6E08f4c7C32D4f71b54bdA02913",
         "GHO",
         "USDC",
         "200000.0",
         "199423.465314",
         "2025-08-07 19:45:11.869364+00:00",
         "('0x7ab124ec4029316c2a42f713828ddf2a192b36db', '0xee8f4ec5672f09119b96ab6fb59c27e1b7e44b61')",
         "Odos",
         "0.99711732657"
        ],
        [
         "17",
         "odos",
         "8453",
         "0x6Bb7a212910682DCFdbd5BCBb3e28FB4E8da10Ee",
         "0x833589fCD6eDb6E08f4c7C32D4f71b54bdA02913",
         "GHO",
         "USDC",
         "100000.0",
         "99866.206362",
         "2025-08-07 19:45:11.919494+00:00",
         "('0x7ab124ec4029316c2a42f713828ddf2a192b36db', '0xee8f4ec5672f09119b96ab6fb59c27e1b7e44b61')",
         "Odos",
         "0.99866206362"
        ],
        [
         "18",
         "odos",
         "8453",
         "0x6Bb7a212910682DCFdbd5BCBb3e28FB4E8da10Ee",
         "0x833589fCD6eDb6E08f4c7C32D4f71b54bdA02913",
         "GHO",
         "USDC",
         "50000.0",
         "49945.885801",
         "2025-08-07 19:45:12.601058+00:00",
         "('0x7ab124ec4029316c2a42f713828ddf2a192b36db', '0xee8f4ec5672f09119b96ab6fb59c27e1b7e44b61')",
         "Odos",
         "0.9989177160199999"
        ],
        [
         "19",
         "odos",
         "8453",
         "0x646A737B9B6024e49f5908762B3fF73e65B5160c",
         "0x833589fCD6eDb6E08f4c7C32D4f71b54bdA02913",
         "scrvUSD",
         "USDC",
         "200000.0",
         "209267.785776",
         "2025-08-07 19:45:12.674043+00:00",
         "('0x7ab124ec4029316c2a42f713828ddf2a192b36db', '0xee8f4ec5672f09119b96ab6fb59c27e1b7e44b61')",
         "Odos",
         "1.04633892888"
        ],
        [
         "20",
         "odos",
         "8453",
         "0x646A737B9B6024e49f5908762B3fF73e65B5160c",
         "0x833589fCD6eDb6E08f4c7C32D4f71b54bdA02913",
         "scrvUSD",
         "USDC",
         "20000.0",
         "21016.695897",
         "2025-08-07 19:47:17.429758+00:00",
         "('0x7ab124ec4029316c2a42f713828ddf2a192b36db', '0xee8f4ec5672f09119b96ab6fb59c27e1b7e44b61')",
         "Odos",
         "1.05083479485"
        ],
        [
         "21",
         "odos",
         "8453",
         "0x646A737B9B6024e49f5908762B3fF73e65B5160c",
         "0x833589fCD6eDb6E08f4c7C32D4f71b54bdA02913",
         "scrvUSD",
         "USDC",
         "100000.0",
         "104926.216793",
         "2025-08-07 19:47:17.482354+00:00",
         "('0x7ab124ec4029316c2a42f713828ddf2a192b36db', '0xee8f4ec5672f09119b96ab6fb59c27e1b7e44b61')",
         "Odos",
         "1.04926216793"
        ],
        [
         "22",
         "odos",
         "8453",
         "0x6Bb7a212910682DCFdbd5BCBb3e28FB4E8da10Ee",
         "0x833589fCD6eDb6E08f4c7C32D4f71b54bdA02913",
         "GHO",
         "USDC",
         "100000.0",
         "99866.206362",
         "2025-08-07 19:47:17.585889+00:00",
         "('0x7ab124ec4029316c2a42f713828ddf2a192b36db', '0xee8f4ec5672f09119b96ab6fb59c27e1b7e44b61')",
         "Odos",
         "0.99866206362"
        ],
        [
         "23",
         "odos",
         "8453",
         "0x6Bb7a212910682DCFdbd5BCBb3e28FB4E8da10Ee",
         "0x833589fCD6eDb6E08f4c7C32D4f71b54bdA02913",
         "GHO",
         "USDC",
         "20000.0",
         "19982.141704",
         "2025-08-07 19:47:17.599398+00:00",
         "('0x7ab124ec4029316c2a42f713828ddf2a192b36db', '0xee8f4ec5672f09119b96ab6fb59c27e1b7e44b61')",
         "Odos",
         "0.9991070852"
        ],
        [
         "24",
         "odos",
         "8453",
         "0x646A737B9B6024e49f5908762B3fF73e65B5160c",
         "0x833589fCD6eDb6E08f4c7C32D4f71b54bdA02913",
         "scrvUSD",
         "USDC",
         "10000.0",
         "10510.005131",
         "2025-08-07 19:47:17.625777+00:00",
         "('0x7ab124ec4029316c2a42f713828ddf2a192b36db', '0xee8f4ec5672f09119b96ab6fb59c27e1b7e44b61')",
         "Odos",
         "1.0510005131"
        ],
        [
         "25",
         "odos",
         "8453",
         "0x6Bb7a212910682DCFdbd5BCBb3e28FB4E8da10Ee",
         "0x833589fCD6eDb6E08f4c7C32D4f71b54bdA02913",
         "GHO",
         "USDC",
         "50000.0",
         "49945.885801",
         "2025-08-07 19:47:17.699766+00:00",
         "('0x7ab124ec4029316c2a42f713828ddf2a192b36db', '0xee8f4ec5672f09119b96ab6fb59c27e1b7e44b61')",
         "Odos",
         "0.9989177160199999"
        ],
        [
         "26",
         "odos",
         "8453",
         "0x6Bb7a212910682DCFdbd5BCBb3e28FB4E8da10Ee",
         "0x833589fCD6eDb6E08f4c7C32D4f71b54bdA02913",
         "GHO",
         "USDC",
         "10000.0",
         "9992.430118",
         "2025-08-07 19:47:18.093675+00:00",
         "('0x7ab124ec4029316c2a42f713828ddf2a192b36db', '0xee8f4ec5672f09119b96ab6fb59c27e1b7e44b61')",
         "Odos",
         "0.9992430118"
        ],
        [
         "27",
         "odos",
         "8453",
         "0x646A737B9B6024e49f5908762B3fF73e65B5160c",
         "0x833589fCD6eDb6E08f4c7C32D4f71b54bdA02913",
         "scrvUSD",
         "USDC",
         "200000.0",
         "209267.785776",
         "2025-08-07 19:47:19.201165+00:00",
         "('0x7ab124ec4029316c2a42f713828ddf2a192b36db', '0xee8f4ec5672f09119b96ab6fb59c27e1b7e44b61')",
         "Odos",
         "1.04633892888"
        ],
        [
         "28",
         "odos",
         "8453",
         "0x6Bb7a212910682DCFdbd5BCBb3e28FB4E8da10Ee",
         "0x833589fCD6eDb6E08f4c7C32D4f71b54bdA02913",
         "GHO",
         "USDC",
         "200000.0",
         "199423.465314",
         "2025-08-07 19:47:19.229303+00:00",
         "('0x7ab124ec4029316c2a42f713828ddf2a192b36db', '0xee8f4ec5672f09119b96ab6fb59c27e1b7e44b61')",
         "Odos",
         "0.99711732657"
        ],
        [
         "29",
         "odos",
         "8453",
         "0x646A737B9B6024e49f5908762B3fF73e65B5160c",
         "0x833589fCD6eDb6E08f4c7C32D4f71b54bdA02913",
         "scrvUSD",
         "USDC",
         "50000.0",
         "52515.035467",
         "2025-08-07 19:47:22.194149+00:00",
         "('0x7ab124ec4029316c2a42f713828ddf2a192b36db', '0xee8f4ec5672f09119b96ab6fb59c27e1b7e44b61')",
         "Odos",
         "1.05030070934"
        ],
        [
         "30",
         "tokemak",
         "8453",
         "0x6Bb7a212910682DCFdbd5BCBb3e28FB4E8da10Ee",
         "0x833589fCD6eDb6E08f4c7C32D4f71b54bdA02913",
         "GHO",
         "USDC",
         "20000.0",
         "19947.797567",
         "2025-08-07 19:43:02.556732+00:00",
         "()",
         "Lifi",
         "0.99738987835"
        ],
        [
         "31",
         "tokemak",
         "8453",
         "0x6Bb7a212910682DCFdbd5BCBb3e28FB4E8da10Ee",
         "0x833589fCD6eDb6E08f4c7C32D4f71b54bdA02913",
         "GHO",
         "USDC",
         "50000.0",
         "49869.445854",
         "2025-08-07 19:43:02.606475+00:00",
         "()",
         "Lifi",
         "0.99738891708"
        ],
        [
         "32",
         "tokemak",
         "8453",
         "0x6Bb7a212910682DCFdbd5BCBb3e28FB4E8da10Ee",
         "0x833589fCD6eDb6E08f4c7C32D4f71b54bdA02913",
         "GHO",
         "USDC",
         "200000.0",
         "199476.815342",
         "2025-08-07 19:43:02.626993+00:00",
         "()",
         "Lifi",
         "0.99738407671"
        ],
        [
         "33",
         "tokemak",
         "8453",
         "0x646A737B9B6024e49f5908762B3fF73e65B5160c",
         "0x833589fCD6eDb6E08f4c7C32D4f71b54bdA02913",
         "scrvUSD",
         "USDC",
         "20000.0",
         "20970.462115",
         "2025-08-07 19:43:02.631430+00:00",
         "()",
         "Lifi",
         "1.04852310575"
        ],
        [
         "34",
         "tokemak",
         "8453",
         "0x6Bb7a212910682DCFdbd5BCBb3e28FB4E8da10Ee",
         "0x833589fCD6eDb6E08f4c7C32D4f71b54bdA02913",
         "GHO",
         "USDC",
         "100000.0",
         "99738.730999",
         "2025-08-07 19:43:02.794252+00:00",
         "()",
         "Lifi",
         "0.99738730999"
        ],
        [
         "35",
         "tokemak",
         "8453",
         "0x646A737B9B6024e49f5908762B3fF73e65B5160c",
         "0x833589fCD6eDb6E08f4c7C32D4f71b54bdA02913",
         "scrvUSD",
         "USDC",
         "200000.0",
         "208813.061558",
         "2025-08-07 19:43:02.817432+00:00",
         "()",
         "Lifi",
         "1.04406530779"
        ],
        [
         "36",
         "tokemak",
         "8453",
         "0x646A737B9B6024e49f5908762B3fF73e65B5160c",
         "0x833589fCD6eDb6E08f4c7C32D4f71b54bdA02913",
         "scrvUSD",
         "USDC",
         "100000.0",
         "104696.929291",
         "2025-08-07 19:43:02.821340+00:00",
         "()",
         "Lifi",
         "1.0469692929099998"
        ],
        [
         "37",
         "tokemak",
         "8453",
         "0x6Bb7a212910682DCFdbd5BCBb3e28FB4E8da10Ee",
         "0x833589fCD6eDb6E08f4c7C32D4f71b54bdA02913",
         "GHO",
         "USDC",
         "10000.0",
         "9973.971869",
         "2025-08-07 19:43:02.838794+00:00",
         "()",
         "Lifi",
         "0.9973971869000001"
        ],
        [
         "38",
         "tokemak",
         "8453",
         "0x646A737B9B6024e49f5908762B3fF73e65B5160c",
         "0x833589fCD6eDb6E08f4c7C32D4f71b54bdA02913",
         "scrvUSD",
         "USDC",
         "50000.0",
         "52400.108945",
         "2025-08-07 19:43:03.045976+00:00",
         "()",
         "Lifi",
         "1.0480021789"
        ],
        [
         "39",
         "tokemak",
         "8453",
         "0x646A737B9B6024e49f5908762B3fF73e65B5160c",
         "0x833589fCD6eDb6E08f4c7C32D4f71b54bdA02913",
         "scrvUSD",
         "USDC",
         "10000.0",
         "10486.985113",
         "2025-08-07 19:43:03.579953+00:00",
         "()",
         "Lifi",
         "1.0486985113"
        ],
        [
         "40",
         "tokemak",
         "8453",
         "0x6Bb7a212910682DCFdbd5BCBb3e28FB4E8da10Ee",
         "0x833589fCD6eDb6E08f4c7C32D4f71b54bdA02913",
         "GHO",
         "USDC",
         "100000.0",
         "99738.730998",
         "2025-08-07 19:45:08.917904+00:00",
         "()",
         "Lifi",
         "0.99738730998"
        ],
        [
         "41",
         "tokemak",
         "8453",
         "0x646A737B9B6024e49f5908762B3fF73e65B5160c",
         "0x833589fCD6eDb6E08f4c7C32D4f71b54bdA02913",
         "scrvUSD",
         "USDC",
         "100000.0",
         "104696.929291",
         "2025-08-07 19:45:08.919614+00:00",
         "()",
         "Lifi",
         "1.0469692929099998"
        ],
        [
         "42",
         "tokemak",
         "8453",
         "0x6Bb7a212910682DCFdbd5BCBb3e28FB4E8da10Ee",
         "0x833589fCD6eDb6E08f4c7C32D4f71b54bdA02913",
         "GHO",
         "USDC",
         "200000.0",
         "199474.820589",
         "2025-08-07 19:45:08.923732+00:00",
         "()",
         "Lifi",
         "0.9973741029450001"
        ],
        [
         "43",
         "tokemak",
         "8453",
         "0x646A737B9B6024e49f5908762B3fF73e65B5160c",
         "0x833589fCD6eDb6E08f4c7C32D4f71b54bdA02913",
         "scrvUSD",
         "USDC",
         "200000.0",
         "208813.061558",
         "2025-08-07 19:45:08.980505+00:00",
         "()",
         "Lifi",
         "1.04406530779"
        ],
        [
         "44",
         "tokemak",
         "8453",
         "0x6Bb7a212910682DCFdbd5BCBb3e28FB4E8da10Ee",
         "0x833589fCD6eDb6E08f4c7C32D4f71b54bdA02913",
         "GHO",
         "USDC",
         "20000.0",
         "19947.797566",
         "2025-08-07 19:45:09.166998+00:00",
         "()",
         "Lifi",
         "0.9973898783"
        ],
        [
         "45",
         "tokemak",
         "8453",
         "0x646A737B9B6024e49f5908762B3fF73e65B5160c",
         "0x833589fCD6eDb6E08f4c7C32D4f71b54bdA02913",
         "scrvUSD",
         "USDC",
         "10000.0",
         "10486.985113",
         "2025-08-07 19:45:09.203807+00:00",
         "()",
         "Lifi",
         "1.0486985113"
        ],
        [
         "46",
         "tokemak",
         "8453",
         "0x646A737B9B6024e49f5908762B3fF73e65B5160c",
         "0x833589fCD6eDb6E08f4c7C32D4f71b54bdA02913",
         "scrvUSD",
         "USDC",
         "50000.0",
         "52400.108945",
         "2025-08-07 19:45:09.251380+00:00",
         "()",
         "Lifi",
         "1.0480021789"
        ],
        [
         "47",
         "tokemak",
         "8453",
         "0x646A737B9B6024e49f5908762B3fF73e65B5160c",
         "0x833589fCD6eDb6E08f4c7C32D4f71b54bdA02913",
         "scrvUSD",
         "USDC",
         "20000.0",
         "20970.671819",
         "2025-08-07 19:45:09.296842+00:00",
         "()",
         "Lifi",
         "1.04853359095"
        ],
        [
         "48",
         "tokemak",
         "8453",
         "0x6Bb7a212910682DCFdbd5BCBb3e28FB4E8da10Ee",
         "0x833589fCD6eDb6E08f4c7C32D4f71b54bdA02913",
         "GHO",
         "USDC",
         "10000.0",
         "9974.030309",
         "2025-08-07 19:45:09.301850+00:00",
         "()",
         "Lifi",
         "0.9974030308999999"
        ],
        [
         "49",
         "tokemak",
         "8453",
         "0x6Bb7a212910682DCFdbd5BCBb3e28FB4E8da10Ee",
         "0x833589fCD6eDb6E08f4c7C32D4f71b54bdA02913",
         "GHO",
         "USDC",
         "50000.0",
         "49868.947165",
         "2025-08-07 19:45:09.438700+00:00",
         "()",
         "Lifi",
         "0.9973789433"
        ]
       ],
       "shape": {
        "columns": 12,
        "rows": 60
       }
      },
      "text/html": [
       "<div>\n",
       "<style scoped>\n",
       "    .dataframe tbody tr th:only-of-type {\n",
       "        vertical-align: middle;\n",
       "    }\n",
       "\n",
       "    .dataframe tbody tr th {\n",
       "        vertical-align: top;\n",
       "    }\n",
       "\n",
       "    .dataframe thead th {\n",
       "        text-align: right;\n",
       "    }\n",
       "</style>\n",
       "<table border=\"1\" class=\"dataframe\">\n",
       "  <thead>\n",
       "    <tr style=\"text-align: right;\">\n",
       "      <th></th>\n",
       "      <th>api</th>\n",
       "      <th>chain_id</th>\n",
       "      <th>token_in</th>\n",
       "      <th>token_out</th>\n",
       "      <th>token_in_symbol</th>\n",
       "      <th>token_out_symbol</th>\n",
       "      <th>scaled_amount_in</th>\n",
       "      <th>scaled_amount_out</th>\n",
       "      <th>datetime_received</th>\n",
       "      <th>pools_blacklist</th>\n",
       "      <th>aggregator_name</th>\n",
       "      <th>effective_price</th>\n",
       "    </tr>\n",
       "  </thead>\n",
       "  <tbody>\n",
       "    <tr>\n",
       "      <th>0</th>\n",
       "      <td>odos</td>\n",
       "      <td>8453</td>\n",
       "      <td>0x6Bb7a212910682DCFdbd5BCBb3e28FB4E8da10Ee</td>\n",
       "      <td>0x833589fCD6eDb6E08f4c7C32D4f71b54bdA02913</td>\n",
       "      <td>GHO</td>\n",
       "      <td>USDC</td>\n",
       "      <td>200000.0</td>\n",
       "      <td>199423.465314</td>\n",
       "      <td>2025-08-07 19:43:04.411131+00:00</td>\n",
       "      <td>(0x7ab124ec4029316c2a42f713828ddf2a192b36db, 0...</td>\n",
       "      <td>Odos</td>\n",
       "      <td>0.997117</td>\n",
       "    </tr>\n",
       "    <tr>\n",
       "      <th>1</th>\n",
       "      <td>odos</td>\n",
       "      <td>8453</td>\n",
       "      <td>0x646A737B9B6024e49f5908762B3fF73e65B5160c</td>\n",
       "      <td>0x833589fCD6eDb6E08f4c7C32D4f71b54bdA02913</td>\n",
       "      <td>scrvUSD</td>\n",
       "      <td>USDC</td>\n",
       "      <td>20000.0</td>\n",
       "      <td>21016.695897</td>\n",
       "      <td>2025-08-07 19:43:04.415230+00:00</td>\n",
       "      <td>(0x7ab124ec4029316c2a42f713828ddf2a192b36db, 0...</td>\n",
       "      <td>Odos</td>\n",
       "      <td>1.050835</td>\n",
       "    </tr>\n",
       "    <tr>\n",
       "      <th>2</th>\n",
       "      <td>odos</td>\n",
       "      <td>8453</td>\n",
       "      <td>0x6Bb7a212910682DCFdbd5BCBb3e28FB4E8da10Ee</td>\n",
       "      <td>0x833589fCD6eDb6E08f4c7C32D4f71b54bdA02913</td>\n",
       "      <td>GHO</td>\n",
       "      <td>USDC</td>\n",
       "      <td>20000.0</td>\n",
       "      <td>19982.141704</td>\n",
       "      <td>2025-08-07 19:43:04.419696+00:00</td>\n",
       "      <td>(0x7ab124ec4029316c2a42f713828ddf2a192b36db, 0...</td>\n",
       "      <td>Odos</td>\n",
       "      <td>0.999107</td>\n",
       "    </tr>\n",
       "    <tr>\n",
       "      <th>3</th>\n",
       "      <td>odos</td>\n",
       "      <td>8453</td>\n",
       "      <td>0x646A737B9B6024e49f5908762B3fF73e65B5160c</td>\n",
       "      <td>0x833589fCD6eDb6E08f4c7C32D4f71b54bdA02913</td>\n",
       "      <td>scrvUSD</td>\n",
       "      <td>USDC</td>\n",
       "      <td>200000.0</td>\n",
       "      <td>209267.785776</td>\n",
       "      <td>2025-08-07 19:43:04.422869+00:00</td>\n",
       "      <td>(0x7ab124ec4029316c2a42f713828ddf2a192b36db, 0...</td>\n",
       "      <td>Odos</td>\n",
       "      <td>1.046339</td>\n",
       "    </tr>\n",
       "    <tr>\n",
       "      <th>4</th>\n",
       "      <td>odos</td>\n",
       "      <td>8453</td>\n",
       "      <td>0x646A737B9B6024e49f5908762B3fF73e65B5160c</td>\n",
       "      <td>0x833589fCD6eDb6E08f4c7C32D4f71b54bdA02913</td>\n",
       "      <td>scrvUSD</td>\n",
       "      <td>USDC</td>\n",
       "      <td>100000.0</td>\n",
       "      <td>104926.216793</td>\n",
       "      <td>2025-08-07 19:43:04.524412+00:00</td>\n",
       "      <td>(0x7ab124ec4029316c2a42f713828ddf2a192b36db, 0...</td>\n",
       "      <td>Odos</td>\n",
       "      <td>1.049262</td>\n",
       "    </tr>\n",
       "    <tr>\n",
       "      <th>5</th>\n",
       "      <td>odos</td>\n",
       "      <td>8453</td>\n",
       "      <td>0x6Bb7a212910682DCFdbd5BCBb3e28FB4E8da10Ee</td>\n",
       "      <td>0x833589fCD6eDb6E08f4c7C32D4f71b54bdA02913</td>\n",
       "      <td>GHO</td>\n",
       "      <td>USDC</td>\n",
       "      <td>50000.0</td>\n",
       "      <td>49945.885801</td>\n",
       "      <td>2025-08-07 19:43:04.564463+00:00</td>\n",
       "      <td>(0x7ab124ec4029316c2a42f713828ddf2a192b36db, 0...</td>\n",
       "      <td>Odos</td>\n",
       "      <td>0.998918</td>\n",
       "    </tr>\n",
       "    <tr>\n",
       "      <th>6</th>\n",
       "      <td>odos</td>\n",
       "      <td>8453</td>\n",
       "      <td>0x646A737B9B6024e49f5908762B3fF73e65B5160c</td>\n",
       "      <td>0x833589fCD6eDb6E08f4c7C32D4f71b54bdA02913</td>\n",
       "      <td>scrvUSD</td>\n",
       "      <td>USDC</td>\n",
       "      <td>10000.0</td>\n",
       "      <td>10510.005131</td>\n",
       "      <td>2025-08-07 19:43:04.568207+00:00</td>\n",
       "      <td>(0x7ab124ec4029316c2a42f713828ddf2a192b36db, 0...</td>\n",
       "      <td>Odos</td>\n",
       "      <td>1.051001</td>\n",
       "    </tr>\n",
       "    <tr>\n",
       "      <th>7</th>\n",
       "      <td>odos</td>\n",
       "      <td>8453</td>\n",
       "      <td>0x646A737B9B6024e49f5908762B3fF73e65B5160c</td>\n",
       "      <td>0x833589fCD6eDb6E08f4c7C32D4f71b54bdA02913</td>\n",
       "      <td>scrvUSD</td>\n",
       "      <td>USDC</td>\n",
       "      <td>50000.0</td>\n",
       "      <td>52515.035467</td>\n",
       "      <td>2025-08-07 19:43:04.679508+00:00</td>\n",
       "      <td>(0x7ab124ec4029316c2a42f713828ddf2a192b36db, 0...</td>\n",
       "      <td>Odos</td>\n",
       "      <td>1.050301</td>\n",
       "    </tr>\n",
       "    <tr>\n",
       "      <th>8</th>\n",
       "      <td>odos</td>\n",
       "      <td>8453</td>\n",
       "      <td>0x6Bb7a212910682DCFdbd5BCBb3e28FB4E8da10Ee</td>\n",
       "      <td>0x833589fCD6eDb6E08f4c7C32D4f71b54bdA02913</td>\n",
       "      <td>GHO</td>\n",
       "      <td>USDC</td>\n",
       "      <td>10000.0</td>\n",
       "      <td>9992.430118</td>\n",
       "      <td>2025-08-07 19:43:05.112601+00:00</td>\n",
       "      <td>(0x7ab124ec4029316c2a42f713828ddf2a192b36db, 0...</td>\n",
       "      <td>Odos</td>\n",
       "      <td>0.999243</td>\n",
       "    </tr>\n",
       "    <tr>\n",
       "      <th>9</th>\n",
       "      <td>odos</td>\n",
       "      <td>8453</td>\n",
       "      <td>0x6Bb7a212910682DCFdbd5BCBb3e28FB4E8da10Ee</td>\n",
       "      <td>0x833589fCD6eDb6E08f4c7C32D4f71b54bdA02913</td>\n",
       "      <td>GHO</td>\n",
       "      <td>USDC</td>\n",
       "      <td>100000.0</td>\n",
       "      <td>99866.206362</td>\n",
       "      <td>2025-08-07 19:43:05.210060+00:00</td>\n",
       "      <td>(0x7ab124ec4029316c2a42f713828ddf2a192b36db, 0...</td>\n",
       "      <td>Odos</td>\n",
       "      <td>0.998662</td>\n",
       "    </tr>\n",
       "    <tr>\n",
       "      <th>10</th>\n",
       "      <td>odos</td>\n",
       "      <td>8453</td>\n",
       "      <td>0x646A737B9B6024e49f5908762B3fF73e65B5160c</td>\n",
       "      <td>0x833589fCD6eDb6E08f4c7C32D4f71b54bdA02913</td>\n",
       "      <td>scrvUSD</td>\n",
       "      <td>USDC</td>\n",
       "      <td>100000.0</td>\n",
       "      <td>104926.216793</td>\n",
       "      <td>2025-08-07 19:45:10.246219+00:00</td>\n",
       "      <td>(0x7ab124ec4029316c2a42f713828ddf2a192b36db, 0...</td>\n",
       "      <td>Odos</td>\n",
       "      <td>1.049262</td>\n",
       "    </tr>\n",
       "    <tr>\n",
       "      <th>11</th>\n",
       "      <td>odos</td>\n",
       "      <td>8453</td>\n",
       "      <td>0x6Bb7a212910682DCFdbd5BCBb3e28FB4E8da10Ee</td>\n",
       "      <td>0x833589fCD6eDb6E08f4c7C32D4f71b54bdA02913</td>\n",
       "      <td>GHO</td>\n",
       "      <td>USDC</td>\n",
       "      <td>10000.0</td>\n",
       "      <td>9992.430118</td>\n",
       "      <td>2025-08-07 19:45:10.247196+00:00</td>\n",
       "      <td>(0x7ab124ec4029316c2a42f713828ddf2a192b36db, 0...</td>\n",
       "      <td>Odos</td>\n",
       "      <td>0.999243</td>\n",
       "    </tr>\n",
       "    <tr>\n",
       "      <th>12</th>\n",
       "      <td>odos</td>\n",
       "      <td>8453</td>\n",
       "      <td>0x6Bb7a212910682DCFdbd5BCBb3e28FB4E8da10Ee</td>\n",
       "      <td>0x833589fCD6eDb6E08f4c7C32D4f71b54bdA02913</td>\n",
       "      <td>GHO</td>\n",
       "      <td>USDC</td>\n",
       "      <td>20000.0</td>\n",
       "      <td>19982.141704</td>\n",
       "      <td>2025-08-07 19:45:10.525932+00:00</td>\n",
       "      <td>(0x7ab124ec4029316c2a42f713828ddf2a192b36db, 0...</td>\n",
       "      <td>Odos</td>\n",
       "      <td>0.999107</td>\n",
       "    </tr>\n",
       "    <tr>\n",
       "      <th>13</th>\n",
       "      <td>odos</td>\n",
       "      <td>8453</td>\n",
       "      <td>0x646A737B9B6024e49f5908762B3fF73e65B5160c</td>\n",
       "      <td>0x833589fCD6eDb6E08f4c7C32D4f71b54bdA02913</td>\n",
       "      <td>scrvUSD</td>\n",
       "      <td>USDC</td>\n",
       "      <td>50000.0</td>\n",
       "      <td>52515.035467</td>\n",
       "      <td>2025-08-07 19:45:10.919552+00:00</td>\n",
       "      <td>(0x7ab124ec4029316c2a42f713828ddf2a192b36db, 0...</td>\n",
       "      <td>Odos</td>\n",
       "      <td>1.050301</td>\n",
       "    </tr>\n",
       "    <tr>\n",
       "      <th>14</th>\n",
       "      <td>odos</td>\n",
       "      <td>8453</td>\n",
       "      <td>0x646A737B9B6024e49f5908762B3fF73e65B5160c</td>\n",
       "      <td>0x833589fCD6eDb6E08f4c7C32D4f71b54bdA02913</td>\n",
       "      <td>scrvUSD</td>\n",
       "      <td>USDC</td>\n",
       "      <td>10000.0</td>\n",
       "      <td>10510.005131</td>\n",
       "      <td>2025-08-07 19:45:11.039130+00:00</td>\n",
       "      <td>(0x7ab124ec4029316c2a42f713828ddf2a192b36db, 0...</td>\n",
       "      <td>Odos</td>\n",
       "      <td>1.051001</td>\n",
       "    </tr>\n",
       "    <tr>\n",
       "      <th>15</th>\n",
       "      <td>odos</td>\n",
       "      <td>8453</td>\n",
       "      <td>0x646A737B9B6024e49f5908762B3fF73e65B5160c</td>\n",
       "      <td>0x833589fCD6eDb6E08f4c7C32D4f71b54bdA02913</td>\n",
       "      <td>scrvUSD</td>\n",
       "      <td>USDC</td>\n",
       "      <td>20000.0</td>\n",
       "      <td>21016.695897</td>\n",
       "      <td>2025-08-07 19:45:11.474755+00:00</td>\n",
       "      <td>(0x7ab124ec4029316c2a42f713828ddf2a192b36db, 0...</td>\n",
       "      <td>Odos</td>\n",
       "      <td>1.050835</td>\n",
       "    </tr>\n",
       "    <tr>\n",
       "      <th>16</th>\n",
       "      <td>odos</td>\n",
       "      <td>8453</td>\n",
       "      <td>0x6Bb7a212910682DCFdbd5BCBb3e28FB4E8da10Ee</td>\n",
       "      <td>0x833589fCD6eDb6E08f4c7C32D4f71b54bdA02913</td>\n",
       "      <td>GHO</td>\n",
       "      <td>USDC</td>\n",
       "      <td>200000.0</td>\n",
       "      <td>199423.465314</td>\n",
       "      <td>2025-08-07 19:45:11.869364+00:00</td>\n",
       "      <td>(0x7ab124ec4029316c2a42f713828ddf2a192b36db, 0...</td>\n",
       "      <td>Odos</td>\n",
       "      <td>0.997117</td>\n",
       "    </tr>\n",
       "    <tr>\n",
       "      <th>17</th>\n",
       "      <td>odos</td>\n",
       "      <td>8453</td>\n",
       "      <td>0x6Bb7a212910682DCFdbd5BCBb3e28FB4E8da10Ee</td>\n",
       "      <td>0x833589fCD6eDb6E08f4c7C32D4f71b54bdA02913</td>\n",
       "      <td>GHO</td>\n",
       "      <td>USDC</td>\n",
       "      <td>100000.0</td>\n",
       "      <td>99866.206362</td>\n",
       "      <td>2025-08-07 19:45:11.919494+00:00</td>\n",
       "      <td>(0x7ab124ec4029316c2a42f713828ddf2a192b36db, 0...</td>\n",
       "      <td>Odos</td>\n",
       "      <td>0.998662</td>\n",
       "    </tr>\n",
       "    <tr>\n",
       "      <th>18</th>\n",
       "      <td>odos</td>\n",
       "      <td>8453</td>\n",
       "      <td>0x6Bb7a212910682DCFdbd5BCBb3e28FB4E8da10Ee</td>\n",
       "      <td>0x833589fCD6eDb6E08f4c7C32D4f71b54bdA02913</td>\n",
       "      <td>GHO</td>\n",
       "      <td>USDC</td>\n",
       "      <td>50000.0</td>\n",
       "      <td>49945.885801</td>\n",
       "      <td>2025-08-07 19:45:12.601058+00:00</td>\n",
       "      <td>(0x7ab124ec4029316c2a42f713828ddf2a192b36db, 0...</td>\n",
       "      <td>Odos</td>\n",
       "      <td>0.998918</td>\n",
       "    </tr>\n",
       "    <tr>\n",
       "      <th>19</th>\n",
       "      <td>odos</td>\n",
       "      <td>8453</td>\n",
       "      <td>0x646A737B9B6024e49f5908762B3fF73e65B5160c</td>\n",
       "      <td>0x833589fCD6eDb6E08f4c7C32D4f71b54bdA02913</td>\n",
       "      <td>scrvUSD</td>\n",
       "      <td>USDC</td>\n",
       "      <td>200000.0</td>\n",
       "      <td>209267.785776</td>\n",
       "      <td>2025-08-07 19:45:12.674043+00:00</td>\n",
       "      <td>(0x7ab124ec4029316c2a42f713828ddf2a192b36db, 0...</td>\n",
       "      <td>Odos</td>\n",
       "      <td>1.046339</td>\n",
       "    </tr>\n",
       "    <tr>\n",
       "      <th>20</th>\n",
       "      <td>odos</td>\n",
       "      <td>8453</td>\n",
       "      <td>0x646A737B9B6024e49f5908762B3fF73e65B5160c</td>\n",
       "      <td>0x833589fCD6eDb6E08f4c7C32D4f71b54bdA02913</td>\n",
       "      <td>scrvUSD</td>\n",
       "      <td>USDC</td>\n",
       "      <td>20000.0</td>\n",
       "      <td>21016.695897</td>\n",
       "      <td>2025-08-07 19:47:17.429758+00:00</td>\n",
       "      <td>(0x7ab124ec4029316c2a42f713828ddf2a192b36db, 0...</td>\n",
       "      <td>Odos</td>\n",
       "      <td>1.050835</td>\n",
       "    </tr>\n",
       "    <tr>\n",
       "      <th>21</th>\n",
       "      <td>odos</td>\n",
       "      <td>8453</td>\n",
       "      <td>0x646A737B9B6024e49f5908762B3fF73e65B5160c</td>\n",
       "      <td>0x833589fCD6eDb6E08f4c7C32D4f71b54bdA02913</td>\n",
       "      <td>scrvUSD</td>\n",
       "      <td>USDC</td>\n",
       "      <td>100000.0</td>\n",
       "      <td>104926.216793</td>\n",
       "      <td>2025-08-07 19:47:17.482354+00:00</td>\n",
       "      <td>(0x7ab124ec4029316c2a42f713828ddf2a192b36db, 0...</td>\n",
       "      <td>Odos</td>\n",
       "      <td>1.049262</td>\n",
       "    </tr>\n",
       "    <tr>\n",
       "      <th>22</th>\n",
       "      <td>odos</td>\n",
       "      <td>8453</td>\n",
       "      <td>0x6Bb7a212910682DCFdbd5BCBb3e28FB4E8da10Ee</td>\n",
       "      <td>0x833589fCD6eDb6E08f4c7C32D4f71b54bdA02913</td>\n",
       "      <td>GHO</td>\n",
       "      <td>USDC</td>\n",
       "      <td>100000.0</td>\n",
       "      <td>99866.206362</td>\n",
       "      <td>2025-08-07 19:47:17.585889+00:00</td>\n",
       "      <td>(0x7ab124ec4029316c2a42f713828ddf2a192b36db, 0...</td>\n",
       "      <td>Odos</td>\n",
       "      <td>0.998662</td>\n",
       "    </tr>\n",
       "    <tr>\n",
       "      <th>23</th>\n",
       "      <td>odos</td>\n",
       "      <td>8453</td>\n",
       "      <td>0x6Bb7a212910682DCFdbd5BCBb3e28FB4E8da10Ee</td>\n",
       "      <td>0x833589fCD6eDb6E08f4c7C32D4f71b54bdA02913</td>\n",
       "      <td>GHO</td>\n",
       "      <td>USDC</td>\n",
       "      <td>20000.0</td>\n",
       "      <td>19982.141704</td>\n",
       "      <td>2025-08-07 19:47:17.599398+00:00</td>\n",
       "      <td>(0x7ab124ec4029316c2a42f713828ddf2a192b36db, 0...</td>\n",
       "      <td>Odos</td>\n",
       "      <td>0.999107</td>\n",
       "    </tr>\n",
       "    <tr>\n",
       "      <th>24</th>\n",
       "      <td>odos</td>\n",
       "      <td>8453</td>\n",
       "      <td>0x646A737B9B6024e49f5908762B3fF73e65B5160c</td>\n",
       "      <td>0x833589fCD6eDb6E08f4c7C32D4f71b54bdA02913</td>\n",
       "      <td>scrvUSD</td>\n",
       "      <td>USDC</td>\n",
       "      <td>10000.0</td>\n",
       "      <td>10510.005131</td>\n",
       "      <td>2025-08-07 19:47:17.625777+00:00</td>\n",
       "      <td>(0x7ab124ec4029316c2a42f713828ddf2a192b36db, 0...</td>\n",
       "      <td>Odos</td>\n",
       "      <td>1.051001</td>\n",
       "    </tr>\n",
       "    <tr>\n",
       "      <th>25</th>\n",
       "      <td>odos</td>\n",
       "      <td>8453</td>\n",
       "      <td>0x6Bb7a212910682DCFdbd5BCBb3e28FB4E8da10Ee</td>\n",
       "      <td>0x833589fCD6eDb6E08f4c7C32D4f71b54bdA02913</td>\n",
       "      <td>GHO</td>\n",
       "      <td>USDC</td>\n",
       "      <td>50000.0</td>\n",
       "      <td>49945.885801</td>\n",
       "      <td>2025-08-07 19:47:17.699766+00:00</td>\n",
       "      <td>(0x7ab124ec4029316c2a42f713828ddf2a192b36db, 0...</td>\n",
       "      <td>Odos</td>\n",
       "      <td>0.998918</td>\n",
       "    </tr>\n",
       "    <tr>\n",
       "      <th>26</th>\n",
       "      <td>odos</td>\n",
       "      <td>8453</td>\n",
       "      <td>0x6Bb7a212910682DCFdbd5BCBb3e28FB4E8da10Ee</td>\n",
       "      <td>0x833589fCD6eDb6E08f4c7C32D4f71b54bdA02913</td>\n",
       "      <td>GHO</td>\n",
       "      <td>USDC</td>\n",
       "      <td>10000.0</td>\n",
       "      <td>9992.430118</td>\n",
       "      <td>2025-08-07 19:47:18.093675+00:00</td>\n",
       "      <td>(0x7ab124ec4029316c2a42f713828ddf2a192b36db, 0...</td>\n",
       "      <td>Odos</td>\n",
       "      <td>0.999243</td>\n",
       "    </tr>\n",
       "    <tr>\n",
       "      <th>27</th>\n",
       "      <td>odos</td>\n",
       "      <td>8453</td>\n",
       "      <td>0x646A737B9B6024e49f5908762B3fF73e65B5160c</td>\n",
       "      <td>0x833589fCD6eDb6E08f4c7C32D4f71b54bdA02913</td>\n",
       "      <td>scrvUSD</td>\n",
       "      <td>USDC</td>\n",
       "      <td>200000.0</td>\n",
       "      <td>209267.785776</td>\n",
       "      <td>2025-08-07 19:47:19.201165+00:00</td>\n",
       "      <td>(0x7ab124ec4029316c2a42f713828ddf2a192b36db, 0...</td>\n",
       "      <td>Odos</td>\n",
       "      <td>1.046339</td>\n",
       "    </tr>\n",
       "    <tr>\n",
       "      <th>28</th>\n",
       "      <td>odos</td>\n",
       "      <td>8453</td>\n",
       "      <td>0x6Bb7a212910682DCFdbd5BCBb3e28FB4E8da10Ee</td>\n",
       "      <td>0x833589fCD6eDb6E08f4c7C32D4f71b54bdA02913</td>\n",
       "      <td>GHO</td>\n",
       "      <td>USDC</td>\n",
       "      <td>200000.0</td>\n",
       "      <td>199423.465314</td>\n",
       "      <td>2025-08-07 19:47:19.229303+00:00</td>\n",
       "      <td>(0x7ab124ec4029316c2a42f713828ddf2a192b36db, 0...</td>\n",
       "      <td>Odos</td>\n",
       "      <td>0.997117</td>\n",
       "    </tr>\n",
       "    <tr>\n",
       "      <th>29</th>\n",
       "      <td>odos</td>\n",
       "      <td>8453</td>\n",
       "      <td>0x646A737B9B6024e49f5908762B3fF73e65B5160c</td>\n",
       "      <td>0x833589fCD6eDb6E08f4c7C32D4f71b54bdA02913</td>\n",
       "      <td>scrvUSD</td>\n",
       "      <td>USDC</td>\n",
       "      <td>50000.0</td>\n",
       "      <td>52515.035467</td>\n",
       "      <td>2025-08-07 19:47:22.194149+00:00</td>\n",
       "      <td>(0x7ab124ec4029316c2a42f713828ddf2a192b36db, 0...</td>\n",
       "      <td>Odos</td>\n",
       "      <td>1.050301</td>\n",
       "    </tr>\n",
       "    <tr>\n",
       "      <th>30</th>\n",
       "      <td>tokemak</td>\n",
       "      <td>8453</td>\n",
       "      <td>0x6Bb7a212910682DCFdbd5BCBb3e28FB4E8da10Ee</td>\n",
       "      <td>0x833589fCD6eDb6E08f4c7C32D4f71b54bdA02913</td>\n",
       "      <td>GHO</td>\n",
       "      <td>USDC</td>\n",
       "      <td>20000.0</td>\n",
       "      <td>19947.797567</td>\n",
       "      <td>2025-08-07 19:43:02.556732+00:00</td>\n",
       "      <td>()</td>\n",
       "      <td>Lifi</td>\n",
       "      <td>0.997390</td>\n",
       "    </tr>\n",
       "    <tr>\n",
       "      <th>31</th>\n",
       "      <td>tokemak</td>\n",
       "      <td>8453</td>\n",
       "      <td>0x6Bb7a212910682DCFdbd5BCBb3e28FB4E8da10Ee</td>\n",
       "      <td>0x833589fCD6eDb6E08f4c7C32D4f71b54bdA02913</td>\n",
       "      <td>GHO</td>\n",
       "      <td>USDC</td>\n",
       "      <td>50000.0</td>\n",
       "      <td>49869.445854</td>\n",
       "      <td>2025-08-07 19:43:02.606475+00:00</td>\n",
       "      <td>()</td>\n",
       "      <td>Lifi</td>\n",
       "      <td>0.997389</td>\n",
       "    </tr>\n",
       "    <tr>\n",
       "      <th>32</th>\n",
       "      <td>tokemak</td>\n",
       "      <td>8453</td>\n",
       "      <td>0x6Bb7a212910682DCFdbd5BCBb3e28FB4E8da10Ee</td>\n",
       "      <td>0x833589fCD6eDb6E08f4c7C32D4f71b54bdA02913</td>\n",
       "      <td>GHO</td>\n",
       "      <td>USDC</td>\n",
       "      <td>200000.0</td>\n",
       "      <td>199476.815342</td>\n",
       "      <td>2025-08-07 19:43:02.626993+00:00</td>\n",
       "      <td>()</td>\n",
       "      <td>Lifi</td>\n",
       "      <td>0.997384</td>\n",
       "    </tr>\n",
       "    <tr>\n",
       "      <th>33</th>\n",
       "      <td>tokemak</td>\n",
       "      <td>8453</td>\n",
       "      <td>0x646A737B9B6024e49f5908762B3fF73e65B5160c</td>\n",
       "      <td>0x833589fCD6eDb6E08f4c7C32D4f71b54bdA02913</td>\n",
       "      <td>scrvUSD</td>\n",
       "      <td>USDC</td>\n",
       "      <td>20000.0</td>\n",
       "      <td>20970.462115</td>\n",
       "      <td>2025-08-07 19:43:02.631430+00:00</td>\n",
       "      <td>()</td>\n",
       "      <td>Lifi</td>\n",
       "      <td>1.048523</td>\n",
       "    </tr>\n",
       "    <tr>\n",
       "      <th>34</th>\n",
       "      <td>tokemak</td>\n",
       "      <td>8453</td>\n",
       "      <td>0x6Bb7a212910682DCFdbd5BCBb3e28FB4E8da10Ee</td>\n",
       "      <td>0x833589fCD6eDb6E08f4c7C32D4f71b54bdA02913</td>\n",
       "      <td>GHO</td>\n",
       "      <td>USDC</td>\n",
       "      <td>100000.0</td>\n",
       "      <td>99738.730999</td>\n",
       "      <td>2025-08-07 19:43:02.794252+00:00</td>\n",
       "      <td>()</td>\n",
       "      <td>Lifi</td>\n",
       "      <td>0.997387</td>\n",
       "    </tr>\n",
       "    <tr>\n",
       "      <th>35</th>\n",
       "      <td>tokemak</td>\n",
       "      <td>8453</td>\n",
       "      <td>0x646A737B9B6024e49f5908762B3fF73e65B5160c</td>\n",
       "      <td>0x833589fCD6eDb6E08f4c7C32D4f71b54bdA02913</td>\n",
       "      <td>scrvUSD</td>\n",
       "      <td>USDC</td>\n",
       "      <td>200000.0</td>\n",
       "      <td>208813.061558</td>\n",
       "      <td>2025-08-07 19:43:02.817432+00:00</td>\n",
       "      <td>()</td>\n",
       "      <td>Lifi</td>\n",
       "      <td>1.044065</td>\n",
       "    </tr>\n",
       "    <tr>\n",
       "      <th>36</th>\n",
       "      <td>tokemak</td>\n",
       "      <td>8453</td>\n",
       "      <td>0x646A737B9B6024e49f5908762B3fF73e65B5160c</td>\n",
       "      <td>0x833589fCD6eDb6E08f4c7C32D4f71b54bdA02913</td>\n",
       "      <td>scrvUSD</td>\n",
       "      <td>USDC</td>\n",
       "      <td>100000.0</td>\n",
       "      <td>104696.929291</td>\n",
       "      <td>2025-08-07 19:43:02.821340+00:00</td>\n",
       "      <td>()</td>\n",
       "      <td>Lifi</td>\n",
       "      <td>1.046969</td>\n",
       "    </tr>\n",
       "    <tr>\n",
       "      <th>37</th>\n",
       "      <td>tokemak</td>\n",
       "      <td>8453</td>\n",
       "      <td>0x6Bb7a212910682DCFdbd5BCBb3e28FB4E8da10Ee</td>\n",
       "      <td>0x833589fCD6eDb6E08f4c7C32D4f71b54bdA02913</td>\n",
       "      <td>GHO</td>\n",
       "      <td>USDC</td>\n",
       "      <td>10000.0</td>\n",
       "      <td>9973.971869</td>\n",
       "      <td>2025-08-07 19:43:02.838794+00:00</td>\n",
       "      <td>()</td>\n",
       "      <td>Lifi</td>\n",
       "      <td>0.997397</td>\n",
       "    </tr>\n",
       "    <tr>\n",
       "      <th>38</th>\n",
       "      <td>tokemak</td>\n",
       "      <td>8453</td>\n",
       "      <td>0x646A737B9B6024e49f5908762B3fF73e65B5160c</td>\n",
       "      <td>0x833589fCD6eDb6E08f4c7C32D4f71b54bdA02913</td>\n",
       "      <td>scrvUSD</td>\n",
       "      <td>USDC</td>\n",
       "      <td>50000.0</td>\n",
       "      <td>52400.108945</td>\n",
       "      <td>2025-08-07 19:43:03.045976+00:00</td>\n",
       "      <td>()</td>\n",
       "      <td>Lifi</td>\n",
       "      <td>1.048002</td>\n",
       "    </tr>\n",
       "    <tr>\n",
       "      <th>39</th>\n",
       "      <td>tokemak</td>\n",
       "      <td>8453</td>\n",
       "      <td>0x646A737B9B6024e49f5908762B3fF73e65B5160c</td>\n",
       "      <td>0x833589fCD6eDb6E08f4c7C32D4f71b54bdA02913</td>\n",
       "      <td>scrvUSD</td>\n",
       "      <td>USDC</td>\n",
       "      <td>10000.0</td>\n",
       "      <td>10486.985113</td>\n",
       "      <td>2025-08-07 19:43:03.579953+00:00</td>\n",
       "      <td>()</td>\n",
       "      <td>Lifi</td>\n",
       "      <td>1.048699</td>\n",
       "    </tr>\n",
       "    <tr>\n",
       "      <th>40</th>\n",
       "      <td>tokemak</td>\n",
       "      <td>8453</td>\n",
       "      <td>0x6Bb7a212910682DCFdbd5BCBb3e28FB4E8da10Ee</td>\n",
       "      <td>0x833589fCD6eDb6E08f4c7C32D4f71b54bdA02913</td>\n",
       "      <td>GHO</td>\n",
       "      <td>USDC</td>\n",
       "      <td>100000.0</td>\n",
       "      <td>99738.730998</td>\n",
       "      <td>2025-08-07 19:45:08.917904+00:00</td>\n",
       "      <td>()</td>\n",
       "      <td>Lifi</td>\n",
       "      <td>0.997387</td>\n",
       "    </tr>\n",
       "    <tr>\n",
       "      <th>41</th>\n",
       "      <td>tokemak</td>\n",
       "      <td>8453</td>\n",
       "      <td>0x646A737B9B6024e49f5908762B3fF73e65B5160c</td>\n",
       "      <td>0x833589fCD6eDb6E08f4c7C32D4f71b54bdA02913</td>\n",
       "      <td>scrvUSD</td>\n",
       "      <td>USDC</td>\n",
       "      <td>100000.0</td>\n",
       "      <td>104696.929291</td>\n",
       "      <td>2025-08-07 19:45:08.919614+00:00</td>\n",
       "      <td>()</td>\n",
       "      <td>Lifi</td>\n",
       "      <td>1.046969</td>\n",
       "    </tr>\n",
       "    <tr>\n",
       "      <th>42</th>\n",
       "      <td>tokemak</td>\n",
       "      <td>8453</td>\n",
       "      <td>0x6Bb7a212910682DCFdbd5BCBb3e28FB4E8da10Ee</td>\n",
       "      <td>0x833589fCD6eDb6E08f4c7C32D4f71b54bdA02913</td>\n",
       "      <td>GHO</td>\n",
       "      <td>USDC</td>\n",
       "      <td>200000.0</td>\n",
       "      <td>199474.820589</td>\n",
       "      <td>2025-08-07 19:45:08.923732+00:00</td>\n",
       "      <td>()</td>\n",
       "      <td>Lifi</td>\n",
       "      <td>0.997374</td>\n",
       "    </tr>\n",
       "    <tr>\n",
       "      <th>43</th>\n",
       "      <td>tokemak</td>\n",
       "      <td>8453</td>\n",
       "      <td>0x646A737B9B6024e49f5908762B3fF73e65B5160c</td>\n",
       "      <td>0x833589fCD6eDb6E08f4c7C32D4f71b54bdA02913</td>\n",
       "      <td>scrvUSD</td>\n",
       "      <td>USDC</td>\n",
       "      <td>200000.0</td>\n",
       "      <td>208813.061558</td>\n",
       "      <td>2025-08-07 19:45:08.980505+00:00</td>\n",
       "      <td>()</td>\n",
       "      <td>Lifi</td>\n",
       "      <td>1.044065</td>\n",
       "    </tr>\n",
       "    <tr>\n",
       "      <th>44</th>\n",
       "      <td>tokemak</td>\n",
       "      <td>8453</td>\n",
       "      <td>0x6Bb7a212910682DCFdbd5BCBb3e28FB4E8da10Ee</td>\n",
       "      <td>0x833589fCD6eDb6E08f4c7C32D4f71b54bdA02913</td>\n",
       "      <td>GHO</td>\n",
       "      <td>USDC</td>\n",
       "      <td>20000.0</td>\n",
       "      <td>19947.797566</td>\n",
       "      <td>2025-08-07 19:45:09.166998+00:00</td>\n",
       "      <td>()</td>\n",
       "      <td>Lifi</td>\n",
       "      <td>0.997390</td>\n",
       "    </tr>\n",
       "    <tr>\n",
       "      <th>45</th>\n",
       "      <td>tokemak</td>\n",
       "      <td>8453</td>\n",
       "      <td>0x646A737B9B6024e49f5908762B3fF73e65B5160c</td>\n",
       "      <td>0x833589fCD6eDb6E08f4c7C32D4f71b54bdA02913</td>\n",
       "      <td>scrvUSD</td>\n",
       "      <td>USDC</td>\n",
       "      <td>10000.0</td>\n",
       "      <td>10486.985113</td>\n",
       "      <td>2025-08-07 19:45:09.203807+00:00</td>\n",
       "      <td>()</td>\n",
       "      <td>Lifi</td>\n",
       "      <td>1.048699</td>\n",
       "    </tr>\n",
       "    <tr>\n",
       "      <th>46</th>\n",
       "      <td>tokemak</td>\n",
       "      <td>8453</td>\n",
       "      <td>0x646A737B9B6024e49f5908762B3fF73e65B5160c</td>\n",
       "      <td>0x833589fCD6eDb6E08f4c7C32D4f71b54bdA02913</td>\n",
       "      <td>scrvUSD</td>\n",
       "      <td>USDC</td>\n",
       "      <td>50000.0</td>\n",
       "      <td>52400.108945</td>\n",
       "      <td>2025-08-07 19:45:09.251380+00:00</td>\n",
       "      <td>()</td>\n",
       "      <td>Lifi</td>\n",
       "      <td>1.048002</td>\n",
       "    </tr>\n",
       "    <tr>\n",
       "      <th>47</th>\n",
       "      <td>tokemak</td>\n",
       "      <td>8453</td>\n",
       "      <td>0x646A737B9B6024e49f5908762B3fF73e65B5160c</td>\n",
       "      <td>0x833589fCD6eDb6E08f4c7C32D4f71b54bdA02913</td>\n",
       "      <td>scrvUSD</td>\n",
       "      <td>USDC</td>\n",
       "      <td>20000.0</td>\n",
       "      <td>20970.671819</td>\n",
       "      <td>2025-08-07 19:45:09.296842+00:00</td>\n",
       "      <td>()</td>\n",
       "      <td>Lifi</td>\n",
       "      <td>1.048534</td>\n",
       "    </tr>\n",
       "    <tr>\n",
       "      <th>48</th>\n",
       "      <td>tokemak</td>\n",
       "      <td>8453</td>\n",
       "      <td>0x6Bb7a212910682DCFdbd5BCBb3e28FB4E8da10Ee</td>\n",
       "      <td>0x833589fCD6eDb6E08f4c7C32D4f71b54bdA02913</td>\n",
       "      <td>GHO</td>\n",
       "      <td>USDC</td>\n",
       "      <td>10000.0</td>\n",
       "      <td>9974.030309</td>\n",
       "      <td>2025-08-07 19:45:09.301850+00:00</td>\n",
       "      <td>()</td>\n",
       "      <td>Lifi</td>\n",
       "      <td>0.997403</td>\n",
       "    </tr>\n",
       "    <tr>\n",
       "      <th>49</th>\n",
       "      <td>tokemak</td>\n",
       "      <td>8453</td>\n",
       "      <td>0x6Bb7a212910682DCFdbd5BCBb3e28FB4E8da10Ee</td>\n",
       "      <td>0x833589fCD6eDb6E08f4c7C32D4f71b54bdA02913</td>\n",
       "      <td>GHO</td>\n",
       "      <td>USDC</td>\n",
       "      <td>50000.0</td>\n",
       "      <td>49868.947165</td>\n",
       "      <td>2025-08-07 19:45:09.438700+00:00</td>\n",
       "      <td>()</td>\n",
       "      <td>Lifi</td>\n",
       "      <td>0.997379</td>\n",
       "    </tr>\n",
       "    <tr>\n",
       "      <th>50</th>\n",
       "      <td>tokemak</td>\n",
       "      <td>8453</td>\n",
       "      <td>0x6Bb7a212910682DCFdbd5BCBb3e28FB4E8da10Ee</td>\n",
       "      <td>0x833589fCD6eDb6E08f4c7C32D4f71b54bdA02913</td>\n",
       "      <td>GHO</td>\n",
       "      <td>USDC</td>\n",
       "      <td>50000.0</td>\n",
       "      <td>49869.445853</td>\n",
       "      <td>2025-08-07 19:47:16.122696+00:00</td>\n",
       "      <td>()</td>\n",
       "      <td>Lifi</td>\n",
       "      <td>0.997389</td>\n",
       "    </tr>\n",
       "    <tr>\n",
       "      <th>51</th>\n",
       "      <td>tokemak</td>\n",
       "      <td>8453</td>\n",
       "      <td>0x646A737B9B6024e49f5908762B3fF73e65B5160c</td>\n",
       "      <td>0x833589fCD6eDb6E08f4c7C32D4f71b54bdA02913</td>\n",
       "      <td>scrvUSD</td>\n",
       "      <td>USDC</td>\n",
       "      <td>20000.0</td>\n",
       "      <td>20970.671819</td>\n",
       "      <td>2025-08-07 19:47:16.135769+00:00</td>\n",
       "      <td>()</td>\n",
       "      <td>Lifi</td>\n",
       "      <td>1.048534</td>\n",
       "    </tr>\n",
       "    <tr>\n",
       "      <th>52</th>\n",
       "      <td>tokemak</td>\n",
       "      <td>8453</td>\n",
       "      <td>0x646A737B9B6024e49f5908762B3fF73e65B5160c</td>\n",
       "      <td>0x833589fCD6eDb6E08f4c7C32D4f71b54bdA02913</td>\n",
       "      <td>scrvUSD</td>\n",
       "      <td>USDC</td>\n",
       "      <td>10000.0</td>\n",
       "      <td>10486.985113</td>\n",
       "      <td>2025-08-07 19:47:16.316906+00:00</td>\n",
       "      <td>()</td>\n",
       "      <td>Lifi</td>\n",
       "      <td>1.048699</td>\n",
       "    </tr>\n",
       "    <tr>\n",
       "      <th>53</th>\n",
       "      <td>tokemak</td>\n",
       "      <td>8453</td>\n",
       "      <td>0x6Bb7a212910682DCFdbd5BCBb3e28FB4E8da10Ee</td>\n",
       "      <td>0x833589fCD6eDb6E08f4c7C32D4f71b54bdA02913</td>\n",
       "      <td>GHO</td>\n",
       "      <td>USDC</td>\n",
       "      <td>200000.0</td>\n",
       "      <td>199476.815337</td>\n",
       "      <td>2025-08-07 19:47:16.425618+00:00</td>\n",
       "      <td>()</td>\n",
       "      <td>Lifi</td>\n",
       "      <td>0.997384</td>\n",
       "    </tr>\n",
       "    <tr>\n",
       "      <th>54</th>\n",
       "      <td>tokemak</td>\n",
       "      <td>8453</td>\n",
       "      <td>0x646A737B9B6024e49f5908762B3fF73e65B5160c</td>\n",
       "      <td>0x833589fCD6eDb6E08f4c7C32D4f71b54bdA02913</td>\n",
       "      <td>scrvUSD</td>\n",
       "      <td>USDC</td>\n",
       "      <td>50000.0</td>\n",
       "      <td>52400.108945</td>\n",
       "      <td>2025-08-07 19:47:16.426765+00:00</td>\n",
       "      <td>()</td>\n",
       "      <td>Lifi</td>\n",
       "      <td>1.048002</td>\n",
       "    </tr>\n",
       "    <tr>\n",
       "      <th>55</th>\n",
       "      <td>tokemak</td>\n",
       "      <td>8453</td>\n",
       "      <td>0x646A737B9B6024e49f5908762B3fF73e65B5160c</td>\n",
       "      <td>0x833589fCD6eDb6E08f4c7C32D4f71b54bdA02913</td>\n",
       "      <td>scrvUSD</td>\n",
       "      <td>USDC</td>\n",
       "      <td>200000.0</td>\n",
       "      <td>208813.061558</td>\n",
       "      <td>2025-08-07 19:47:16.428831+00:00</td>\n",
       "      <td>()</td>\n",
       "      <td>Lifi</td>\n",
       "      <td>1.044065</td>\n",
       "    </tr>\n",
       "    <tr>\n",
       "      <th>56</th>\n",
       "      <td>tokemak</td>\n",
       "      <td>8453</td>\n",
       "      <td>0x6Bb7a212910682DCFdbd5BCBb3e28FB4E8da10Ee</td>\n",
       "      <td>0x833589fCD6eDb6E08f4c7C32D4f71b54bdA02913</td>\n",
       "      <td>GHO</td>\n",
       "      <td>USDC</td>\n",
       "      <td>20000.0</td>\n",
       "      <td>19947.797566</td>\n",
       "      <td>2025-08-07 19:47:16.442810+00:00</td>\n",
       "      <td>()</td>\n",
       "      <td>Lifi</td>\n",
       "      <td>0.997390</td>\n",
       "    </tr>\n",
       "    <tr>\n",
       "      <th>57</th>\n",
       "      <td>tokemak</td>\n",
       "      <td>8453</td>\n",
       "      <td>0x6Bb7a212910682DCFdbd5BCBb3e28FB4E8da10Ee</td>\n",
       "      <td>0x833589fCD6eDb6E08f4c7C32D4f71b54bdA02913</td>\n",
       "      <td>GHO</td>\n",
       "      <td>USDC</td>\n",
       "      <td>100000.0</td>\n",
       "      <td>99738.730997</td>\n",
       "      <td>2025-08-07 19:47:16.600282+00:00</td>\n",
       "      <td>()</td>\n",
       "      <td>Lifi</td>\n",
       "      <td>0.997387</td>\n",
       "    </tr>\n",
       "    <tr>\n",
       "      <th>58</th>\n",
       "      <td>tokemak</td>\n",
       "      <td>8453</td>\n",
       "      <td>0x6Bb7a212910682DCFdbd5BCBb3e28FB4E8da10Ee</td>\n",
       "      <td>0x833589fCD6eDb6E08f4c7C32D4f71b54bdA02913</td>\n",
       "      <td>GHO</td>\n",
       "      <td>USDC</td>\n",
       "      <td>10000.0</td>\n",
       "      <td>9973.955088</td>\n",
       "      <td>2025-08-07 19:47:16.602595+00:00</td>\n",
       "      <td>()</td>\n",
       "      <td>Lifi</td>\n",
       "      <td>0.997396</td>\n",
       "    </tr>\n",
       "    <tr>\n",
       "      <th>59</th>\n",
       "      <td>tokemak</td>\n",
       "      <td>8453</td>\n",
       "      <td>0x646A737B9B6024e49f5908762B3fF73e65B5160c</td>\n",
       "      <td>0x833589fCD6eDb6E08f4c7C32D4f71b54bdA02913</td>\n",
       "      <td>scrvUSD</td>\n",
       "      <td>USDC</td>\n",
       "      <td>100000.0</td>\n",
       "      <td>104696.929291</td>\n",
       "      <td>2025-08-07 19:47:16.609134+00:00</td>\n",
       "      <td>()</td>\n",
       "      <td>Lifi</td>\n",
       "      <td>1.046969</td>\n",
       "    </tr>\n",
       "  </tbody>\n",
       "</table>\n",
       "</div>"
      ],
      "text/plain": [
       "        api  chain_id                                    token_in  \\\n",
       "0      odos      8453  0x6Bb7a212910682DCFdbd5BCBb3e28FB4E8da10Ee   \n",
       "1      odos      8453  0x646A737B9B6024e49f5908762B3fF73e65B5160c   \n",
       "2      odos      8453  0x6Bb7a212910682DCFdbd5BCBb3e28FB4E8da10Ee   \n",
       "3      odos      8453  0x646A737B9B6024e49f5908762B3fF73e65B5160c   \n",
       "4      odos      8453  0x646A737B9B6024e49f5908762B3fF73e65B5160c   \n",
       "5      odos      8453  0x6Bb7a212910682DCFdbd5BCBb3e28FB4E8da10Ee   \n",
       "6      odos      8453  0x646A737B9B6024e49f5908762B3fF73e65B5160c   \n",
       "7      odos      8453  0x646A737B9B6024e49f5908762B3fF73e65B5160c   \n",
       "8      odos      8453  0x6Bb7a212910682DCFdbd5BCBb3e28FB4E8da10Ee   \n",
       "9      odos      8453  0x6Bb7a212910682DCFdbd5BCBb3e28FB4E8da10Ee   \n",
       "10     odos      8453  0x646A737B9B6024e49f5908762B3fF73e65B5160c   \n",
       "11     odos      8453  0x6Bb7a212910682DCFdbd5BCBb3e28FB4E8da10Ee   \n",
       "12     odos      8453  0x6Bb7a212910682DCFdbd5BCBb3e28FB4E8da10Ee   \n",
       "13     odos      8453  0x646A737B9B6024e49f5908762B3fF73e65B5160c   \n",
       "14     odos      8453  0x646A737B9B6024e49f5908762B3fF73e65B5160c   \n",
       "15     odos      8453  0x646A737B9B6024e49f5908762B3fF73e65B5160c   \n",
       "16     odos      8453  0x6Bb7a212910682DCFdbd5BCBb3e28FB4E8da10Ee   \n",
       "17     odos      8453  0x6Bb7a212910682DCFdbd5BCBb3e28FB4E8da10Ee   \n",
       "18     odos      8453  0x6Bb7a212910682DCFdbd5BCBb3e28FB4E8da10Ee   \n",
       "19     odos      8453  0x646A737B9B6024e49f5908762B3fF73e65B5160c   \n",
       "20     odos      8453  0x646A737B9B6024e49f5908762B3fF73e65B5160c   \n",
       "21     odos      8453  0x646A737B9B6024e49f5908762B3fF73e65B5160c   \n",
       "22     odos      8453  0x6Bb7a212910682DCFdbd5BCBb3e28FB4E8da10Ee   \n",
       "23     odos      8453  0x6Bb7a212910682DCFdbd5BCBb3e28FB4E8da10Ee   \n",
       "24     odos      8453  0x646A737B9B6024e49f5908762B3fF73e65B5160c   \n",
       "25     odos      8453  0x6Bb7a212910682DCFdbd5BCBb3e28FB4E8da10Ee   \n",
       "26     odos      8453  0x6Bb7a212910682DCFdbd5BCBb3e28FB4E8da10Ee   \n",
       "27     odos      8453  0x646A737B9B6024e49f5908762B3fF73e65B5160c   \n",
       "28     odos      8453  0x6Bb7a212910682DCFdbd5BCBb3e28FB4E8da10Ee   \n",
       "29     odos      8453  0x646A737B9B6024e49f5908762B3fF73e65B5160c   \n",
       "30  tokemak      8453  0x6Bb7a212910682DCFdbd5BCBb3e28FB4E8da10Ee   \n",
       "31  tokemak      8453  0x6Bb7a212910682DCFdbd5BCBb3e28FB4E8da10Ee   \n",
       "32  tokemak      8453  0x6Bb7a212910682DCFdbd5BCBb3e28FB4E8da10Ee   \n",
       "33  tokemak      8453  0x646A737B9B6024e49f5908762B3fF73e65B5160c   \n",
       "34  tokemak      8453  0x6Bb7a212910682DCFdbd5BCBb3e28FB4E8da10Ee   \n",
       "35  tokemak      8453  0x646A737B9B6024e49f5908762B3fF73e65B5160c   \n",
       "36  tokemak      8453  0x646A737B9B6024e49f5908762B3fF73e65B5160c   \n",
       "37  tokemak      8453  0x6Bb7a212910682DCFdbd5BCBb3e28FB4E8da10Ee   \n",
       "38  tokemak      8453  0x646A737B9B6024e49f5908762B3fF73e65B5160c   \n",
       "39  tokemak      8453  0x646A737B9B6024e49f5908762B3fF73e65B5160c   \n",
       "40  tokemak      8453  0x6Bb7a212910682DCFdbd5BCBb3e28FB4E8da10Ee   \n",
       "41  tokemak      8453  0x646A737B9B6024e49f5908762B3fF73e65B5160c   \n",
       "42  tokemak      8453  0x6Bb7a212910682DCFdbd5BCBb3e28FB4E8da10Ee   \n",
       "43  tokemak      8453  0x646A737B9B6024e49f5908762B3fF73e65B5160c   \n",
       "44  tokemak      8453  0x6Bb7a212910682DCFdbd5BCBb3e28FB4E8da10Ee   \n",
       "45  tokemak      8453  0x646A737B9B6024e49f5908762B3fF73e65B5160c   \n",
       "46  tokemak      8453  0x646A737B9B6024e49f5908762B3fF73e65B5160c   \n",
       "47  tokemak      8453  0x646A737B9B6024e49f5908762B3fF73e65B5160c   \n",
       "48  tokemak      8453  0x6Bb7a212910682DCFdbd5BCBb3e28FB4E8da10Ee   \n",
       "49  tokemak      8453  0x6Bb7a212910682DCFdbd5BCBb3e28FB4E8da10Ee   \n",
       "50  tokemak      8453  0x6Bb7a212910682DCFdbd5BCBb3e28FB4E8da10Ee   \n",
       "51  tokemak      8453  0x646A737B9B6024e49f5908762B3fF73e65B5160c   \n",
       "52  tokemak      8453  0x646A737B9B6024e49f5908762B3fF73e65B5160c   \n",
       "53  tokemak      8453  0x6Bb7a212910682DCFdbd5BCBb3e28FB4E8da10Ee   \n",
       "54  tokemak      8453  0x646A737B9B6024e49f5908762B3fF73e65B5160c   \n",
       "55  tokemak      8453  0x646A737B9B6024e49f5908762B3fF73e65B5160c   \n",
       "56  tokemak      8453  0x6Bb7a212910682DCFdbd5BCBb3e28FB4E8da10Ee   \n",
       "57  tokemak      8453  0x6Bb7a212910682DCFdbd5BCBb3e28FB4E8da10Ee   \n",
       "58  tokemak      8453  0x6Bb7a212910682DCFdbd5BCBb3e28FB4E8da10Ee   \n",
       "59  tokemak      8453  0x646A737B9B6024e49f5908762B3fF73e65B5160c   \n",
       "\n",
       "                                     token_out token_in_symbol  \\\n",
       "0   0x833589fCD6eDb6E08f4c7C32D4f71b54bdA02913             GHO   \n",
       "1   0x833589fCD6eDb6E08f4c7C32D4f71b54bdA02913         scrvUSD   \n",
       "2   0x833589fCD6eDb6E08f4c7C32D4f71b54bdA02913             GHO   \n",
       "3   0x833589fCD6eDb6E08f4c7C32D4f71b54bdA02913         scrvUSD   \n",
       "4   0x833589fCD6eDb6E08f4c7C32D4f71b54bdA02913         scrvUSD   \n",
       "5   0x833589fCD6eDb6E08f4c7C32D4f71b54bdA02913             GHO   \n",
       "6   0x833589fCD6eDb6E08f4c7C32D4f71b54bdA02913         scrvUSD   \n",
       "7   0x833589fCD6eDb6E08f4c7C32D4f71b54bdA02913         scrvUSD   \n",
       "8   0x833589fCD6eDb6E08f4c7C32D4f71b54bdA02913             GHO   \n",
       "9   0x833589fCD6eDb6E08f4c7C32D4f71b54bdA02913             GHO   \n",
       "10  0x833589fCD6eDb6E08f4c7C32D4f71b54bdA02913         scrvUSD   \n",
       "11  0x833589fCD6eDb6E08f4c7C32D4f71b54bdA02913             GHO   \n",
       "12  0x833589fCD6eDb6E08f4c7C32D4f71b54bdA02913             GHO   \n",
       "13  0x833589fCD6eDb6E08f4c7C32D4f71b54bdA02913         scrvUSD   \n",
       "14  0x833589fCD6eDb6E08f4c7C32D4f71b54bdA02913         scrvUSD   \n",
       "15  0x833589fCD6eDb6E08f4c7C32D4f71b54bdA02913         scrvUSD   \n",
       "16  0x833589fCD6eDb6E08f4c7C32D4f71b54bdA02913             GHO   \n",
       "17  0x833589fCD6eDb6E08f4c7C32D4f71b54bdA02913             GHO   \n",
       "18  0x833589fCD6eDb6E08f4c7C32D4f71b54bdA02913             GHO   \n",
       "19  0x833589fCD6eDb6E08f4c7C32D4f71b54bdA02913         scrvUSD   \n",
       "20  0x833589fCD6eDb6E08f4c7C32D4f71b54bdA02913         scrvUSD   \n",
       "21  0x833589fCD6eDb6E08f4c7C32D4f71b54bdA02913         scrvUSD   \n",
       "22  0x833589fCD6eDb6E08f4c7C32D4f71b54bdA02913             GHO   \n",
       "23  0x833589fCD6eDb6E08f4c7C32D4f71b54bdA02913             GHO   \n",
       "24  0x833589fCD6eDb6E08f4c7C32D4f71b54bdA02913         scrvUSD   \n",
       "25  0x833589fCD6eDb6E08f4c7C32D4f71b54bdA02913             GHO   \n",
       "26  0x833589fCD6eDb6E08f4c7C32D4f71b54bdA02913             GHO   \n",
       "27  0x833589fCD6eDb6E08f4c7C32D4f71b54bdA02913         scrvUSD   \n",
       "28  0x833589fCD6eDb6E08f4c7C32D4f71b54bdA02913             GHO   \n",
       "29  0x833589fCD6eDb6E08f4c7C32D4f71b54bdA02913         scrvUSD   \n",
       "30  0x833589fCD6eDb6E08f4c7C32D4f71b54bdA02913             GHO   \n",
       "31  0x833589fCD6eDb6E08f4c7C32D4f71b54bdA02913             GHO   \n",
       "32  0x833589fCD6eDb6E08f4c7C32D4f71b54bdA02913             GHO   \n",
       "33  0x833589fCD6eDb6E08f4c7C32D4f71b54bdA02913         scrvUSD   \n",
       "34  0x833589fCD6eDb6E08f4c7C32D4f71b54bdA02913             GHO   \n",
       "35  0x833589fCD6eDb6E08f4c7C32D4f71b54bdA02913         scrvUSD   \n",
       "36  0x833589fCD6eDb6E08f4c7C32D4f71b54bdA02913         scrvUSD   \n",
       "37  0x833589fCD6eDb6E08f4c7C32D4f71b54bdA02913             GHO   \n",
       "38  0x833589fCD6eDb6E08f4c7C32D4f71b54bdA02913         scrvUSD   \n",
       "39  0x833589fCD6eDb6E08f4c7C32D4f71b54bdA02913         scrvUSD   \n",
       "40  0x833589fCD6eDb6E08f4c7C32D4f71b54bdA02913             GHO   \n",
       "41  0x833589fCD6eDb6E08f4c7C32D4f71b54bdA02913         scrvUSD   \n",
       "42  0x833589fCD6eDb6E08f4c7C32D4f71b54bdA02913             GHO   \n",
       "43  0x833589fCD6eDb6E08f4c7C32D4f71b54bdA02913         scrvUSD   \n",
       "44  0x833589fCD6eDb6E08f4c7C32D4f71b54bdA02913             GHO   \n",
       "45  0x833589fCD6eDb6E08f4c7C32D4f71b54bdA02913         scrvUSD   \n",
       "46  0x833589fCD6eDb6E08f4c7C32D4f71b54bdA02913         scrvUSD   \n",
       "47  0x833589fCD6eDb6E08f4c7C32D4f71b54bdA02913         scrvUSD   \n",
       "48  0x833589fCD6eDb6E08f4c7C32D4f71b54bdA02913             GHO   \n",
       "49  0x833589fCD6eDb6E08f4c7C32D4f71b54bdA02913             GHO   \n",
       "50  0x833589fCD6eDb6E08f4c7C32D4f71b54bdA02913             GHO   \n",
       "51  0x833589fCD6eDb6E08f4c7C32D4f71b54bdA02913         scrvUSD   \n",
       "52  0x833589fCD6eDb6E08f4c7C32D4f71b54bdA02913         scrvUSD   \n",
       "53  0x833589fCD6eDb6E08f4c7C32D4f71b54bdA02913             GHO   \n",
       "54  0x833589fCD6eDb6E08f4c7C32D4f71b54bdA02913         scrvUSD   \n",
       "55  0x833589fCD6eDb6E08f4c7C32D4f71b54bdA02913         scrvUSD   \n",
       "56  0x833589fCD6eDb6E08f4c7C32D4f71b54bdA02913             GHO   \n",
       "57  0x833589fCD6eDb6E08f4c7C32D4f71b54bdA02913             GHO   \n",
       "58  0x833589fCD6eDb6E08f4c7C32D4f71b54bdA02913             GHO   \n",
       "59  0x833589fCD6eDb6E08f4c7C32D4f71b54bdA02913         scrvUSD   \n",
       "\n",
       "   token_out_symbol  scaled_amount_in  scaled_amount_out  \\\n",
       "0              USDC          200000.0      199423.465314   \n",
       "1              USDC           20000.0       21016.695897   \n",
       "2              USDC           20000.0       19982.141704   \n",
       "3              USDC          200000.0      209267.785776   \n",
       "4              USDC          100000.0      104926.216793   \n",
       "5              USDC           50000.0       49945.885801   \n",
       "6              USDC           10000.0       10510.005131   \n",
       "7              USDC           50000.0       52515.035467   \n",
       "8              USDC           10000.0        9992.430118   \n",
       "9              USDC          100000.0       99866.206362   \n",
       "10             USDC          100000.0      104926.216793   \n",
       "11             USDC           10000.0        9992.430118   \n",
       "12             USDC           20000.0       19982.141704   \n",
       "13             USDC           50000.0       52515.035467   \n",
       "14             USDC           10000.0       10510.005131   \n",
       "15             USDC           20000.0       21016.695897   \n",
       "16             USDC          200000.0      199423.465314   \n",
       "17             USDC          100000.0       99866.206362   \n",
       "18             USDC           50000.0       49945.885801   \n",
       "19             USDC          200000.0      209267.785776   \n",
       "20             USDC           20000.0       21016.695897   \n",
       "21             USDC          100000.0      104926.216793   \n",
       "22             USDC          100000.0       99866.206362   \n",
       "23             USDC           20000.0       19982.141704   \n",
       "24             USDC           10000.0       10510.005131   \n",
       "25             USDC           50000.0       49945.885801   \n",
       "26             USDC           10000.0        9992.430118   \n",
       "27             USDC          200000.0      209267.785776   \n",
       "28             USDC          200000.0      199423.465314   \n",
       "29             USDC           50000.0       52515.035467   \n",
       "30             USDC           20000.0       19947.797567   \n",
       "31             USDC           50000.0       49869.445854   \n",
       "32             USDC          200000.0      199476.815342   \n",
       "33             USDC           20000.0       20970.462115   \n",
       "34             USDC          100000.0       99738.730999   \n",
       "35             USDC          200000.0      208813.061558   \n",
       "36             USDC          100000.0      104696.929291   \n",
       "37             USDC           10000.0        9973.971869   \n",
       "38             USDC           50000.0       52400.108945   \n",
       "39             USDC           10000.0       10486.985113   \n",
       "40             USDC          100000.0       99738.730998   \n",
       "41             USDC          100000.0      104696.929291   \n",
       "42             USDC          200000.0      199474.820589   \n",
       "43             USDC          200000.0      208813.061558   \n",
       "44             USDC           20000.0       19947.797566   \n",
       "45             USDC           10000.0       10486.985113   \n",
       "46             USDC           50000.0       52400.108945   \n",
       "47             USDC           20000.0       20970.671819   \n",
       "48             USDC           10000.0        9974.030309   \n",
       "49             USDC           50000.0       49868.947165   \n",
       "50             USDC           50000.0       49869.445853   \n",
       "51             USDC           20000.0       20970.671819   \n",
       "52             USDC           10000.0       10486.985113   \n",
       "53             USDC          200000.0      199476.815337   \n",
       "54             USDC           50000.0       52400.108945   \n",
       "55             USDC          200000.0      208813.061558   \n",
       "56             USDC           20000.0       19947.797566   \n",
       "57             USDC          100000.0       99738.730997   \n",
       "58             USDC           10000.0        9973.955088   \n",
       "59             USDC          100000.0      104696.929291   \n",
       "\n",
       "                  datetime_received  \\\n",
       "0  2025-08-07 19:43:04.411131+00:00   \n",
       "1  2025-08-07 19:43:04.415230+00:00   \n",
       "2  2025-08-07 19:43:04.419696+00:00   \n",
       "3  2025-08-07 19:43:04.422869+00:00   \n",
       "4  2025-08-07 19:43:04.524412+00:00   \n",
       "5  2025-08-07 19:43:04.564463+00:00   \n",
       "6  2025-08-07 19:43:04.568207+00:00   \n",
       "7  2025-08-07 19:43:04.679508+00:00   \n",
       "8  2025-08-07 19:43:05.112601+00:00   \n",
       "9  2025-08-07 19:43:05.210060+00:00   \n",
       "10 2025-08-07 19:45:10.246219+00:00   \n",
       "11 2025-08-07 19:45:10.247196+00:00   \n",
       "12 2025-08-07 19:45:10.525932+00:00   \n",
       "13 2025-08-07 19:45:10.919552+00:00   \n",
       "14 2025-08-07 19:45:11.039130+00:00   \n",
       "15 2025-08-07 19:45:11.474755+00:00   \n",
       "16 2025-08-07 19:45:11.869364+00:00   \n",
       "17 2025-08-07 19:45:11.919494+00:00   \n",
       "18 2025-08-07 19:45:12.601058+00:00   \n",
       "19 2025-08-07 19:45:12.674043+00:00   \n",
       "20 2025-08-07 19:47:17.429758+00:00   \n",
       "21 2025-08-07 19:47:17.482354+00:00   \n",
       "22 2025-08-07 19:47:17.585889+00:00   \n",
       "23 2025-08-07 19:47:17.599398+00:00   \n",
       "24 2025-08-07 19:47:17.625777+00:00   \n",
       "25 2025-08-07 19:47:17.699766+00:00   \n",
       "26 2025-08-07 19:47:18.093675+00:00   \n",
       "27 2025-08-07 19:47:19.201165+00:00   \n",
       "28 2025-08-07 19:47:19.229303+00:00   \n",
       "29 2025-08-07 19:47:22.194149+00:00   \n",
       "30 2025-08-07 19:43:02.556732+00:00   \n",
       "31 2025-08-07 19:43:02.606475+00:00   \n",
       "32 2025-08-07 19:43:02.626993+00:00   \n",
       "33 2025-08-07 19:43:02.631430+00:00   \n",
       "34 2025-08-07 19:43:02.794252+00:00   \n",
       "35 2025-08-07 19:43:02.817432+00:00   \n",
       "36 2025-08-07 19:43:02.821340+00:00   \n",
       "37 2025-08-07 19:43:02.838794+00:00   \n",
       "38 2025-08-07 19:43:03.045976+00:00   \n",
       "39 2025-08-07 19:43:03.579953+00:00   \n",
       "40 2025-08-07 19:45:08.917904+00:00   \n",
       "41 2025-08-07 19:45:08.919614+00:00   \n",
       "42 2025-08-07 19:45:08.923732+00:00   \n",
       "43 2025-08-07 19:45:08.980505+00:00   \n",
       "44 2025-08-07 19:45:09.166998+00:00   \n",
       "45 2025-08-07 19:45:09.203807+00:00   \n",
       "46 2025-08-07 19:45:09.251380+00:00   \n",
       "47 2025-08-07 19:45:09.296842+00:00   \n",
       "48 2025-08-07 19:45:09.301850+00:00   \n",
       "49 2025-08-07 19:45:09.438700+00:00   \n",
       "50 2025-08-07 19:47:16.122696+00:00   \n",
       "51 2025-08-07 19:47:16.135769+00:00   \n",
       "52 2025-08-07 19:47:16.316906+00:00   \n",
       "53 2025-08-07 19:47:16.425618+00:00   \n",
       "54 2025-08-07 19:47:16.426765+00:00   \n",
       "55 2025-08-07 19:47:16.428831+00:00   \n",
       "56 2025-08-07 19:47:16.442810+00:00   \n",
       "57 2025-08-07 19:47:16.600282+00:00   \n",
       "58 2025-08-07 19:47:16.602595+00:00   \n",
       "59 2025-08-07 19:47:16.609134+00:00   \n",
       "\n",
       "                                      pools_blacklist aggregator_name  \\\n",
       "0   (0x7ab124ec4029316c2a42f713828ddf2a192b36db, 0...            Odos   \n",
       "1   (0x7ab124ec4029316c2a42f713828ddf2a192b36db, 0...            Odos   \n",
       "2   (0x7ab124ec4029316c2a42f713828ddf2a192b36db, 0...            Odos   \n",
       "3   (0x7ab124ec4029316c2a42f713828ddf2a192b36db, 0...            Odos   \n",
       "4   (0x7ab124ec4029316c2a42f713828ddf2a192b36db, 0...            Odos   \n",
       "5   (0x7ab124ec4029316c2a42f713828ddf2a192b36db, 0...            Odos   \n",
       "6   (0x7ab124ec4029316c2a42f713828ddf2a192b36db, 0...            Odos   \n",
       "7   (0x7ab124ec4029316c2a42f713828ddf2a192b36db, 0...            Odos   \n",
       "8   (0x7ab124ec4029316c2a42f713828ddf2a192b36db, 0...            Odos   \n",
       "9   (0x7ab124ec4029316c2a42f713828ddf2a192b36db, 0...            Odos   \n",
       "10  (0x7ab124ec4029316c2a42f713828ddf2a192b36db, 0...            Odos   \n",
       "11  (0x7ab124ec4029316c2a42f713828ddf2a192b36db, 0...            Odos   \n",
       "12  (0x7ab124ec4029316c2a42f713828ddf2a192b36db, 0...            Odos   \n",
       "13  (0x7ab124ec4029316c2a42f713828ddf2a192b36db, 0...            Odos   \n",
       "14  (0x7ab124ec4029316c2a42f713828ddf2a192b36db, 0...            Odos   \n",
       "15  (0x7ab124ec4029316c2a42f713828ddf2a192b36db, 0...            Odos   \n",
       "16  (0x7ab124ec4029316c2a42f713828ddf2a192b36db, 0...            Odos   \n",
       "17  (0x7ab124ec4029316c2a42f713828ddf2a192b36db, 0...            Odos   \n",
       "18  (0x7ab124ec4029316c2a42f713828ddf2a192b36db, 0...            Odos   \n",
       "19  (0x7ab124ec4029316c2a42f713828ddf2a192b36db, 0...            Odos   \n",
       "20  (0x7ab124ec4029316c2a42f713828ddf2a192b36db, 0...            Odos   \n",
       "21  (0x7ab124ec4029316c2a42f713828ddf2a192b36db, 0...            Odos   \n",
       "22  (0x7ab124ec4029316c2a42f713828ddf2a192b36db, 0...            Odos   \n",
       "23  (0x7ab124ec4029316c2a42f713828ddf2a192b36db, 0...            Odos   \n",
       "24  (0x7ab124ec4029316c2a42f713828ddf2a192b36db, 0...            Odos   \n",
       "25  (0x7ab124ec4029316c2a42f713828ddf2a192b36db, 0...            Odos   \n",
       "26  (0x7ab124ec4029316c2a42f713828ddf2a192b36db, 0...            Odos   \n",
       "27  (0x7ab124ec4029316c2a42f713828ddf2a192b36db, 0...            Odos   \n",
       "28  (0x7ab124ec4029316c2a42f713828ddf2a192b36db, 0...            Odos   \n",
       "29  (0x7ab124ec4029316c2a42f713828ddf2a192b36db, 0...            Odos   \n",
       "30                                                 ()            Lifi   \n",
       "31                                                 ()            Lifi   \n",
       "32                                                 ()            Lifi   \n",
       "33                                                 ()            Lifi   \n",
       "34                                                 ()            Lifi   \n",
       "35                                                 ()            Lifi   \n",
       "36                                                 ()            Lifi   \n",
       "37                                                 ()            Lifi   \n",
       "38                                                 ()            Lifi   \n",
       "39                                                 ()            Lifi   \n",
       "40                                                 ()            Lifi   \n",
       "41                                                 ()            Lifi   \n",
       "42                                                 ()            Lifi   \n",
       "43                                                 ()            Lifi   \n",
       "44                                                 ()            Lifi   \n",
       "45                                                 ()            Lifi   \n",
       "46                                                 ()            Lifi   \n",
       "47                                                 ()            Lifi   \n",
       "48                                                 ()            Lifi   \n",
       "49                                                 ()            Lifi   \n",
       "50                                                 ()            Lifi   \n",
       "51                                                 ()            Lifi   \n",
       "52                                                 ()            Lifi   \n",
       "53                                                 ()            Lifi   \n",
       "54                                                 ()            Lifi   \n",
       "55                                                 ()            Lifi   \n",
       "56                                                 ()            Lifi   \n",
       "57                                                 ()            Lifi   \n",
       "58                                                 ()            Lifi   \n",
       "59                                                 ()            Lifi   \n",
       "\n",
       "    effective_price  \n",
       "0          0.997117  \n",
       "1          1.050835  \n",
       "2          0.999107  \n",
       "3          1.046339  \n",
       "4          1.049262  \n",
       "5          0.998918  \n",
       "6          1.051001  \n",
       "7          1.050301  \n",
       "8          0.999243  \n",
       "9          0.998662  \n",
       "10         1.049262  \n",
       "11         0.999243  \n",
       "12         0.999107  \n",
       "13         1.050301  \n",
       "14         1.051001  \n",
       "15         1.050835  \n",
       "16         0.997117  \n",
       "17         0.998662  \n",
       "18         0.998918  \n",
       "19         1.046339  \n",
       "20         1.050835  \n",
       "21         1.049262  \n",
       "22         0.998662  \n",
       "23         0.999107  \n",
       "24         1.051001  \n",
       "25         0.998918  \n",
       "26         0.999243  \n",
       "27         1.046339  \n",
       "28         0.997117  \n",
       "29         1.050301  \n",
       "30         0.997390  \n",
       "31         0.997389  \n",
       "32         0.997384  \n",
       "33         1.048523  \n",
       "34         0.997387  \n",
       "35         1.044065  \n",
       "36         1.046969  \n",
       "37         0.997397  \n",
       "38         1.048002  \n",
       "39         1.048699  \n",
       "40         0.997387  \n",
       "41         1.046969  \n",
       "42         0.997374  \n",
       "43         1.044065  \n",
       "44         0.997390  \n",
       "45         1.048699  \n",
       "46         1.048002  \n",
       "47         1.048534  \n",
       "48         0.997403  \n",
       "49         0.997379  \n",
       "50         0.997389  \n",
       "51         1.048534  \n",
       "52         1.048699  \n",
       "53         0.997384  \n",
       "54         1.048002  \n",
       "55         1.044065  \n",
       "56         0.997390  \n",
       "57         0.997387  \n",
       "58         0.997396  \n",
       "59         1.046969  "
      ]
     },
     "execution_count": 26,
     "metadata": {},
     "output_type": "execute_result"
    }
   ],
   "source": [
    "from mainnet_launch.database.schema.ensure_tables_are_current.using_3rd_party.estimate_exit_liquidity_from_quotes import *\n",
    "from mainnet_launch.constants import *\n",
    "\n",
    "chain, base_asset, valid_autopools = (\n",
    "    BASE_CHAIN,\n",
    "    USDC,\n",
    "    [a for a in ALL_AUTOPOOLS if a.chain == BASE_CHAIN and a.base_asset == USDC(BASE_CHAIN)],\n",
    ")\n",
    "\n",
    "unscaled_asset_exposure, percent_ownership_by_destination_df, token_df = fetch_needed_context(chain, valid_autopools)\n",
    "\n",
    "(\n",
    "    tokemak_quote_requests_df,\n",
    "    odos_quote_requests_df,\n",
    "    raw_tokemak_quote_response_df,\n",
    "    raw_odos_quote_response_df,\n",
    "    usdc_df,\n",
    ") = fetch_odos_and_tokemak_quotes(chain=chain, base_asset=base_asset, valid_autopools=valid_autopools)\n",
    "usdc_df2 = usdc_df.copy()\n",
    "usdc_df"
   ]
  },
  {
   "cell_type": "code",
   "execution_count": 29,
   "metadata": {},
   "outputs": [
    {
     "data": {
      "application/vnd.microsoft.datawrangler.viewer.v0+json": {
       "columns": [
        {
         "name": "index",
         "rawType": "int64",
         "type": "integer"
        },
        {
         "name": "index",
         "rawType": "int64",
         "type": "integer"
        },
        {
         "name": "label",
         "rawType": "object",
         "type": "string"
        },
        {
         "name": "token_in_symbol",
         "rawType": "object",
         "type": "string"
        },
        {
         "name": "scaled_amount_in",
         "rawType": "float64",
         "type": "float"
        },
        {
         "name": "effective_price",
         "rawType": "float64",
         "type": "float"
        },
        {
         "name": "reference_price",
         "rawType": "float64",
         "type": "float"
        },
        {
         "name": "slippage_bps_from_reference",
         "rawType": "float64",
         "type": "float"
        }
       ],
       "ref": "c5175246-f59a-4462-b49a-439a4790bdb4",
       "rows": [
        [
         "0",
         "0",
         "GHO - odos",
         "GHO",
         "10000.0",
         "0.99832302135",
         null,
         null
        ],
        [
         "1",
         "1",
         "GHO - odos",
         "GHO",
         "20000.0",
         "0.998248481775",
         null,
         null
        ],
        [
         "2",
         "2",
         "GHO - odos",
         "GHO",
         "50000.0",
         "0.99815331655",
         null,
         null
        ],
        [
         "3",
         "3",
         "GHO - odos",
         "GHO",
         "100000.0",
         "0.998024686805",
         null,
         null
        ],
        [
         "4",
         "4",
         "GHO - odos",
         "GHO",
         "200000.0",
         "0.9972457147575",
         null,
         null
        ],
        [
         "5",
         "5",
         "scrvUSD - odos",
         "scrvUSD",
         "10000.0",
         "1.0498495122",
         null,
         null
        ],
        [
         "6",
         "6",
         "scrvUSD - odos",
         "scrvUSD",
         "20000.0",
         "1.0496841929",
         null,
         null
        ],
        [
         "7",
         "7",
         "scrvUSD - odos",
         "scrvUSD",
         "50000.0",
         "1.04915144412",
         null,
         null
        ],
        [
         "8",
         "8",
         "scrvUSD - odos",
         "scrvUSD",
         "100000.0",
         "1.04811573042",
         null,
         null
        ],
        [
         "9",
         "9",
         "scrvUSD - odos",
         "scrvUSD",
         "200000.0",
         "1.045202118335",
         null,
         null
        ]
       ],
       "shape": {
        "columns": 7,
        "rows": 10
       }
      },
      "text/html": [
       "<div>\n",
       "<style scoped>\n",
       "    .dataframe tbody tr th:only-of-type {\n",
       "        vertical-align: middle;\n",
       "    }\n",
       "\n",
       "    .dataframe tbody tr th {\n",
       "        vertical-align: top;\n",
       "    }\n",
       "\n",
       "    .dataframe thead th {\n",
       "        text-align: right;\n",
       "    }\n",
       "</style>\n",
       "<table border=\"1\" class=\"dataframe\">\n",
       "  <thead>\n",
       "    <tr style=\"text-align: right;\">\n",
       "      <th></th>\n",
       "      <th>index</th>\n",
       "      <th>label</th>\n",
       "      <th>token_in_symbol</th>\n",
       "      <th>scaled_amount_in</th>\n",
       "      <th>effective_price</th>\n",
       "      <th>reference_price</th>\n",
       "      <th>slippage_bps_from_reference</th>\n",
       "    </tr>\n",
       "  </thead>\n",
       "  <tbody>\n",
       "    <tr>\n",
       "      <th>0</th>\n",
       "      <td>0</td>\n",
       "      <td>GHO - odos</td>\n",
       "      <td>GHO</td>\n",
       "      <td>10000.0</td>\n",
       "      <td>0.998323</td>\n",
       "      <td>NaN</td>\n",
       "      <td>NaN</td>\n",
       "    </tr>\n",
       "    <tr>\n",
       "      <th>1</th>\n",
       "      <td>1</td>\n",
       "      <td>GHO - odos</td>\n",
       "      <td>GHO</td>\n",
       "      <td>20000.0</td>\n",
       "      <td>0.998248</td>\n",
       "      <td>NaN</td>\n",
       "      <td>NaN</td>\n",
       "    </tr>\n",
       "    <tr>\n",
       "      <th>2</th>\n",
       "      <td>2</td>\n",
       "      <td>GHO - odos</td>\n",
       "      <td>GHO</td>\n",
       "      <td>50000.0</td>\n",
       "      <td>0.998153</td>\n",
       "      <td>NaN</td>\n",
       "      <td>NaN</td>\n",
       "    </tr>\n",
       "    <tr>\n",
       "      <th>3</th>\n",
       "      <td>3</td>\n",
       "      <td>GHO - odos</td>\n",
       "      <td>GHO</td>\n",
       "      <td>100000.0</td>\n",
       "      <td>0.998025</td>\n",
       "      <td>NaN</td>\n",
       "      <td>NaN</td>\n",
       "    </tr>\n",
       "    <tr>\n",
       "      <th>4</th>\n",
       "      <td>4</td>\n",
       "      <td>GHO - odos</td>\n",
       "      <td>GHO</td>\n",
       "      <td>200000.0</td>\n",
       "      <td>0.997246</td>\n",
       "      <td>NaN</td>\n",
       "      <td>NaN</td>\n",
       "    </tr>\n",
       "    <tr>\n",
       "      <th>5</th>\n",
       "      <td>5</td>\n",
       "      <td>scrvUSD - odos</td>\n",
       "      <td>scrvUSD</td>\n",
       "      <td>10000.0</td>\n",
       "      <td>1.049850</td>\n",
       "      <td>NaN</td>\n",
       "      <td>NaN</td>\n",
       "    </tr>\n",
       "    <tr>\n",
       "      <th>6</th>\n",
       "      <td>6</td>\n",
       "      <td>scrvUSD - odos</td>\n",
       "      <td>scrvUSD</td>\n",
       "      <td>20000.0</td>\n",
       "      <td>1.049684</td>\n",
       "      <td>NaN</td>\n",
       "      <td>NaN</td>\n",
       "    </tr>\n",
       "    <tr>\n",
       "      <th>7</th>\n",
       "      <td>7</td>\n",
       "      <td>scrvUSD - odos</td>\n",
       "      <td>scrvUSD</td>\n",
       "      <td>50000.0</td>\n",
       "      <td>1.049151</td>\n",
       "      <td>NaN</td>\n",
       "      <td>NaN</td>\n",
       "    </tr>\n",
       "    <tr>\n",
       "      <th>8</th>\n",
       "      <td>8</td>\n",
       "      <td>scrvUSD - odos</td>\n",
       "      <td>scrvUSD</td>\n",
       "      <td>100000.0</td>\n",
       "      <td>1.048116</td>\n",
       "      <td>NaN</td>\n",
       "      <td>NaN</td>\n",
       "    </tr>\n",
       "    <tr>\n",
       "      <th>9</th>\n",
       "      <td>9</td>\n",
       "      <td>scrvUSD - odos</td>\n",
       "      <td>scrvUSD</td>\n",
       "      <td>200000.0</td>\n",
       "      <td>1.045202</td>\n",
       "      <td>NaN</td>\n",
       "      <td>NaN</td>\n",
       "    </tr>\n",
       "  </tbody>\n",
       "</table>\n",
       "</div>"
      ],
      "text/plain": [
       "   index           label token_in_symbol  scaled_amount_in  effective_price  \\\n",
       "0      0      GHO - odos             GHO           10000.0         0.998323   \n",
       "1      1      GHO - odos             GHO           20000.0         0.998248   \n",
       "2      2      GHO - odos             GHO           50000.0         0.998153   \n",
       "3      3      GHO - odos             GHO          100000.0         0.998025   \n",
       "4      4      GHO - odos             GHO          200000.0         0.997246   \n",
       "5      5  scrvUSD - odos         scrvUSD           10000.0         1.049850   \n",
       "6      6  scrvUSD - odos         scrvUSD           20000.0         1.049684   \n",
       "7      7  scrvUSD - odos         scrvUSD           50000.0         1.049151   \n",
       "8      8  scrvUSD - odos         scrvUSD          100000.0         1.048116   \n",
       "9      9  scrvUSD - odos         scrvUSD          200000.0         1.045202   \n",
       "\n",
       "   reference_price  slippage_bps_from_reference  \n",
       "0              NaN                          NaN  \n",
       "1              NaN                          NaN  \n",
       "2              NaN                          NaN  \n",
       "3              NaN                          NaN  \n",
       "4              NaN                          NaN  \n",
       "5              NaN                          NaN  \n",
       "6              NaN                          NaN  \n",
       "7              NaN                          NaN  \n",
       "8              NaN                          NaN  \n",
       "9              NaN                          NaN  "
      ]
     },
     "execution_count": 29,
     "metadata": {},
     "output_type": "execute_result"
    }
   ],
   "source": [
    "usdc_df[\"label\"] = usdc_df[\"token_in_symbol\"] + \" - \" + df[\"api\"]\n",
    "\n",
    "agg_df = (\n",
    "    usdc_df.groupby([\"label\", \"token_in_symbol\", \"scaled_amount_in\"])\n",
    "    .agg(effective_price=(\"effective_price\", \"median\"))\n",
    "    .reset_index()\n",
    ")\n",
    "\n",
    "\n",
    "agg_df[\"reference_price\"] = agg_df[\"token_in_symbol\"].map(reference_price)\n",
    "agg_df[\"slippage_bps_from_reference\"] = (\n",
    "    (agg_df[\"reference_price\"] - agg_df[\"effective_price\"]) / agg_df[\"reference_price\"] * 10_000\n",
    ")\n",
    "\n",
    "agg_df.reset_index()"
   ]
  },
  {
   "cell_type": "code",
   "execution_count": 30,
   "metadata": {},
   "outputs": [
    {
     "data": {
      "application/vnd.plotly.v1+json": {
       "config": {
        "plotlyServerURL": "https://plot.ly"
       },
       "data": [
        {
         "hovertemplate": "label=GHO - odos<br>scaled_amount_in=%{x}<br>slippage_bps_from_reference=%{y}<extra></extra>",
         "legendgroup": "GHO - odos",
         "marker": {
          "color": "#636efa",
          "symbol": "circle"
         },
         "mode": "markers",
         "name": "GHO - odos",
         "orientation": "v",
         "showlegend": true,
         "type": "scatter",
         "x": [
          10000,
          20000,
          50000,
          100000,
          200000
         ],
         "xaxis": "x",
         "y": [
          null,
          null,
          null,
          null,
          null
         ],
         "yaxis": "y"
        },
        {
         "hovertemplate": "label=scrvUSD - odos<br>scaled_amount_in=%{x}<br>slippage_bps_from_reference=%{y}<extra></extra>",
         "legendgroup": "scrvUSD - odos",
         "marker": {
          "color": "#EF553B",
          "symbol": "circle"
         },
         "mode": "markers",
         "name": "scrvUSD - odos",
         "orientation": "v",
         "showlegend": true,
         "type": "scatter",
         "x": [
          10000,
          20000,
          50000,
          100000,
          200000
         ],
         "xaxis": "x",
         "y": [
          null,
          null,
          null,
          null,
          null
         ],
         "yaxis": "y"
        }
       ],
       "layout": {
        "legend": {
         "title": {
          "text": "label"
         },
         "tracegroupgap": 0
        },
        "margin": {
         "t": 60
        },
        "template": {
         "data": {
          "bar": [
           {
            "error_x": {
             "color": "#2a3f5f"
            },
            "error_y": {
             "color": "#2a3f5f"
            },
            "marker": {
             "line": {
              "color": "#E5ECF6",
              "width": 0.5
             },
             "pattern": {
              "fillmode": "overlay",
              "size": 10,
              "solidity": 0.2
             }
            },
            "type": "bar"
           }
          ],
          "barpolar": [
           {
            "marker": {
             "line": {
              "color": "#E5ECF6",
              "width": 0.5
             },
             "pattern": {
              "fillmode": "overlay",
              "size": 10,
              "solidity": 0.2
             }
            },
            "type": "barpolar"
           }
          ],
          "carpet": [
           {
            "aaxis": {
             "endlinecolor": "#2a3f5f",
             "gridcolor": "white",
             "linecolor": "white",
             "minorgridcolor": "white",
             "startlinecolor": "#2a3f5f"
            },
            "baxis": {
             "endlinecolor": "#2a3f5f",
             "gridcolor": "white",
             "linecolor": "white",
             "minorgridcolor": "white",
             "startlinecolor": "#2a3f5f"
            },
            "type": "carpet"
           }
          ],
          "choropleth": [
           {
            "colorbar": {
             "outlinewidth": 0,
             "ticks": ""
            },
            "type": "choropleth"
           }
          ],
          "contour": [
           {
            "colorbar": {
             "outlinewidth": 0,
             "ticks": ""
            },
            "colorscale": [
             [
              0,
              "#0d0887"
             ],
             [
              0.1111111111111111,
              "#46039f"
             ],
             [
              0.2222222222222222,
              "#7201a8"
             ],
             [
              0.3333333333333333,
              "#9c179e"
             ],
             [
              0.4444444444444444,
              "#bd3786"
             ],
             [
              0.5555555555555556,
              "#d8576b"
             ],
             [
              0.6666666666666666,
              "#ed7953"
             ],
             [
              0.7777777777777778,
              "#fb9f3a"
             ],
             [
              0.8888888888888888,
              "#fdca26"
             ],
             [
              1,
              "#f0f921"
             ]
            ],
            "type": "contour"
           }
          ],
          "contourcarpet": [
           {
            "colorbar": {
             "outlinewidth": 0,
             "ticks": ""
            },
            "type": "contourcarpet"
           }
          ],
          "heatmap": [
           {
            "colorbar": {
             "outlinewidth": 0,
             "ticks": ""
            },
            "colorscale": [
             [
              0,
              "#0d0887"
             ],
             [
              0.1111111111111111,
              "#46039f"
             ],
             [
              0.2222222222222222,
              "#7201a8"
             ],
             [
              0.3333333333333333,
              "#9c179e"
             ],
             [
              0.4444444444444444,
              "#bd3786"
             ],
             [
              0.5555555555555556,
              "#d8576b"
             ],
             [
              0.6666666666666666,
              "#ed7953"
             ],
             [
              0.7777777777777778,
              "#fb9f3a"
             ],
             [
              0.8888888888888888,
              "#fdca26"
             ],
             [
              1,
              "#f0f921"
             ]
            ],
            "type": "heatmap"
           }
          ],
          "heatmapgl": [
           {
            "colorbar": {
             "outlinewidth": 0,
             "ticks": ""
            },
            "colorscale": [
             [
              0,
              "#0d0887"
             ],
             [
              0.1111111111111111,
              "#46039f"
             ],
             [
              0.2222222222222222,
              "#7201a8"
             ],
             [
              0.3333333333333333,
              "#9c179e"
             ],
             [
              0.4444444444444444,
              "#bd3786"
             ],
             [
              0.5555555555555556,
              "#d8576b"
             ],
             [
              0.6666666666666666,
              "#ed7953"
             ],
             [
              0.7777777777777778,
              "#fb9f3a"
             ],
             [
              0.8888888888888888,
              "#fdca26"
             ],
             [
              1,
              "#f0f921"
             ]
            ],
            "type": "heatmapgl"
           }
          ],
          "histogram": [
           {
            "marker": {
             "pattern": {
              "fillmode": "overlay",
              "size": 10,
              "solidity": 0.2
             }
            },
            "type": "histogram"
           }
          ],
          "histogram2d": [
           {
            "colorbar": {
             "outlinewidth": 0,
             "ticks": ""
            },
            "colorscale": [
             [
              0,
              "#0d0887"
             ],
             [
              0.1111111111111111,
              "#46039f"
             ],
             [
              0.2222222222222222,
              "#7201a8"
             ],
             [
              0.3333333333333333,
              "#9c179e"
             ],
             [
              0.4444444444444444,
              "#bd3786"
             ],
             [
              0.5555555555555556,
              "#d8576b"
             ],
             [
              0.6666666666666666,
              "#ed7953"
             ],
             [
              0.7777777777777778,
              "#fb9f3a"
             ],
             [
              0.8888888888888888,
              "#fdca26"
             ],
             [
              1,
              "#f0f921"
             ]
            ],
            "type": "histogram2d"
           }
          ],
          "histogram2dcontour": [
           {
            "colorbar": {
             "outlinewidth": 0,
             "ticks": ""
            },
            "colorscale": [
             [
              0,
              "#0d0887"
             ],
             [
              0.1111111111111111,
              "#46039f"
             ],
             [
              0.2222222222222222,
              "#7201a8"
             ],
             [
              0.3333333333333333,
              "#9c179e"
             ],
             [
              0.4444444444444444,
              "#bd3786"
             ],
             [
              0.5555555555555556,
              "#d8576b"
             ],
             [
              0.6666666666666666,
              "#ed7953"
             ],
             [
              0.7777777777777778,
              "#fb9f3a"
             ],
             [
              0.8888888888888888,
              "#fdca26"
             ],
             [
              1,
              "#f0f921"
             ]
            ],
            "type": "histogram2dcontour"
           }
          ],
          "mesh3d": [
           {
            "colorbar": {
             "outlinewidth": 0,
             "ticks": ""
            },
            "type": "mesh3d"
           }
          ],
          "parcoords": [
           {
            "line": {
             "colorbar": {
              "outlinewidth": 0,
              "ticks": ""
             }
            },
            "type": "parcoords"
           }
          ],
          "pie": [
           {
            "automargin": true,
            "type": "pie"
           }
          ],
          "scatter": [
           {
            "fillpattern": {
             "fillmode": "overlay",
             "size": 10,
             "solidity": 0.2
            },
            "type": "scatter"
           }
          ],
          "scatter3d": [
           {
            "line": {
             "colorbar": {
              "outlinewidth": 0,
              "ticks": ""
             }
            },
            "marker": {
             "colorbar": {
              "outlinewidth": 0,
              "ticks": ""
             }
            },
            "type": "scatter3d"
           }
          ],
          "scattercarpet": [
           {
            "marker": {
             "colorbar": {
              "outlinewidth": 0,
              "ticks": ""
             }
            },
            "type": "scattercarpet"
           }
          ],
          "scattergeo": [
           {
            "marker": {
             "colorbar": {
              "outlinewidth": 0,
              "ticks": ""
             }
            },
            "type": "scattergeo"
           }
          ],
          "scattergl": [
           {
            "marker": {
             "colorbar": {
              "outlinewidth": 0,
              "ticks": ""
             }
            },
            "type": "scattergl"
           }
          ],
          "scattermapbox": [
           {
            "marker": {
             "colorbar": {
              "outlinewidth": 0,
              "ticks": ""
             }
            },
            "type": "scattermapbox"
           }
          ],
          "scatterpolar": [
           {
            "marker": {
             "colorbar": {
              "outlinewidth": 0,
              "ticks": ""
             }
            },
            "type": "scatterpolar"
           }
          ],
          "scatterpolargl": [
           {
            "marker": {
             "colorbar": {
              "outlinewidth": 0,
              "ticks": ""
             }
            },
            "type": "scatterpolargl"
           }
          ],
          "scatterternary": [
           {
            "marker": {
             "colorbar": {
              "outlinewidth": 0,
              "ticks": ""
             }
            },
            "type": "scatterternary"
           }
          ],
          "surface": [
           {
            "colorbar": {
             "outlinewidth": 0,
             "ticks": ""
            },
            "colorscale": [
             [
              0,
              "#0d0887"
             ],
             [
              0.1111111111111111,
              "#46039f"
             ],
             [
              0.2222222222222222,
              "#7201a8"
             ],
             [
              0.3333333333333333,
              "#9c179e"
             ],
             [
              0.4444444444444444,
              "#bd3786"
             ],
             [
              0.5555555555555556,
              "#d8576b"
             ],
             [
              0.6666666666666666,
              "#ed7953"
             ],
             [
              0.7777777777777778,
              "#fb9f3a"
             ],
             [
              0.8888888888888888,
              "#fdca26"
             ],
             [
              1,
              "#f0f921"
             ]
            ],
            "type": "surface"
           }
          ],
          "table": [
           {
            "cells": {
             "fill": {
              "color": "#EBF0F8"
             },
             "line": {
              "color": "white"
             }
            },
            "header": {
             "fill": {
              "color": "#C8D4E3"
             },
             "line": {
              "color": "white"
             }
            },
            "type": "table"
           }
          ]
         },
         "layout": {
          "annotationdefaults": {
           "arrowcolor": "#2a3f5f",
           "arrowhead": 0,
           "arrowwidth": 1
          },
          "autotypenumbers": "strict",
          "coloraxis": {
           "colorbar": {
            "outlinewidth": 0,
            "ticks": ""
           }
          },
          "colorscale": {
           "diverging": [
            [
             0,
             "#8e0152"
            ],
            [
             0.1,
             "#c51b7d"
            ],
            [
             0.2,
             "#de77ae"
            ],
            [
             0.3,
             "#f1b6da"
            ],
            [
             0.4,
             "#fde0ef"
            ],
            [
             0.5,
             "#f7f7f7"
            ],
            [
             0.6,
             "#e6f5d0"
            ],
            [
             0.7,
             "#b8e186"
            ],
            [
             0.8,
             "#7fbc41"
            ],
            [
             0.9,
             "#4d9221"
            ],
            [
             1,
             "#276419"
            ]
           ],
           "sequential": [
            [
             0,
             "#0d0887"
            ],
            [
             0.1111111111111111,
             "#46039f"
            ],
            [
             0.2222222222222222,
             "#7201a8"
            ],
            [
             0.3333333333333333,
             "#9c179e"
            ],
            [
             0.4444444444444444,
             "#bd3786"
            ],
            [
             0.5555555555555556,
             "#d8576b"
            ],
            [
             0.6666666666666666,
             "#ed7953"
            ],
            [
             0.7777777777777778,
             "#fb9f3a"
            ],
            [
             0.8888888888888888,
             "#fdca26"
            ],
            [
             1,
             "#f0f921"
            ]
           ],
           "sequentialminus": [
            [
             0,
             "#0d0887"
            ],
            [
             0.1111111111111111,
             "#46039f"
            ],
            [
             0.2222222222222222,
             "#7201a8"
            ],
            [
             0.3333333333333333,
             "#9c179e"
            ],
            [
             0.4444444444444444,
             "#bd3786"
            ],
            [
             0.5555555555555556,
             "#d8576b"
            ],
            [
             0.6666666666666666,
             "#ed7953"
            ],
            [
             0.7777777777777778,
             "#fb9f3a"
            ],
            [
             0.8888888888888888,
             "#fdca26"
            ],
            [
             1,
             "#f0f921"
            ]
           ]
          },
          "colorway": [
           "#636efa",
           "#EF553B",
           "#00cc96",
           "#ab63fa",
           "#FFA15A",
           "#19d3f3",
           "#FF6692",
           "#B6E880",
           "#FF97FF",
           "#FECB52"
          ],
          "font": {
           "color": "#2a3f5f"
          },
          "geo": {
           "bgcolor": "white",
           "lakecolor": "white",
           "landcolor": "#E5ECF6",
           "showlakes": true,
           "showland": true,
           "subunitcolor": "white"
          },
          "hoverlabel": {
           "align": "left"
          },
          "hovermode": "closest",
          "mapbox": {
           "style": "light"
          },
          "paper_bgcolor": "white",
          "plot_bgcolor": "#E5ECF6",
          "polar": {
           "angularaxis": {
            "gridcolor": "white",
            "linecolor": "white",
            "ticks": ""
           },
           "bgcolor": "#E5ECF6",
           "radialaxis": {
            "gridcolor": "white",
            "linecolor": "white",
            "ticks": ""
           }
          },
          "scene": {
           "xaxis": {
            "backgroundcolor": "#E5ECF6",
            "gridcolor": "white",
            "gridwidth": 2,
            "linecolor": "white",
            "showbackground": true,
            "ticks": "",
            "zerolinecolor": "white"
           },
           "yaxis": {
            "backgroundcolor": "#E5ECF6",
            "gridcolor": "white",
            "gridwidth": 2,
            "linecolor": "white",
            "showbackground": true,
            "ticks": "",
            "zerolinecolor": "white"
           },
           "zaxis": {
            "backgroundcolor": "#E5ECF6",
            "gridcolor": "white",
            "gridwidth": 2,
            "linecolor": "white",
            "showbackground": true,
            "ticks": "",
            "zerolinecolor": "white"
           }
          },
          "shapedefaults": {
           "line": {
            "color": "#2a3f5f"
           }
          },
          "ternary": {
           "aaxis": {
            "gridcolor": "white",
            "linecolor": "white",
            "ticks": ""
           },
           "baxis": {
            "gridcolor": "white",
            "linecolor": "white",
            "ticks": ""
           },
           "bgcolor": "#E5ECF6",
           "caxis": {
            "gridcolor": "white",
            "linecolor": "white",
            "ticks": ""
           }
          },
          "title": {
           "x": 0.05
          },
          "xaxis": {
           "automargin": true,
           "gridcolor": "white",
           "linecolor": "white",
           "ticks": "",
           "title": {
            "standoff": 15
           },
           "zerolinecolor": "white",
           "zerolinewidth": 2
          },
          "yaxis": {
           "automargin": true,
           "gridcolor": "white",
           "linecolor": "white",
           "ticks": "",
           "title": {
            "standoff": 15
           },
           "zerolinecolor": "white",
           "zerolinewidth": 2
          }
         }
        },
        "xaxis": {
         "anchor": "y",
         "domain": [
          0,
          1
         ],
         "title": {
          "text": "scaled_amount_in"
         }
        },
        "yaxis": {
         "anchor": "x",
         "domain": [
          0,
          1
         ],
         "title": {
          "text": "slippage_bps_from_reference"
         }
        }
       }
      }
     },
     "metadata": {},
     "output_type": "display_data"
    }
   ],
   "source": [
    "px.scatter(agg_df, x=\"scaled_amount_in\", y=\"slippage_bps_from_reference\", color=\"label\")"
   ]
  },
  {
   "cell_type": "code",
   "execution_count": null,
   "metadata": {},
   "outputs": [],
   "source": []
  }
 ],
 "metadata": {
  "kernelspec": {
   "display_name": "mainnet-launch-py3.10",
   "language": "python",
   "name": "python3"
  },
  "language_info": {
   "codemirror_mode": {
    "name": "ipython",
    "version": 3
   },
   "file_extension": ".py",
   "mimetype": "text/x-python",
   "name": "python",
   "nbconvert_exporter": "python",
   "pygments_lexer": "ipython3",
   "version": "3.10.14"
  }
 },
 "nbformat": 4,
 "nbformat_minor": 2
}
