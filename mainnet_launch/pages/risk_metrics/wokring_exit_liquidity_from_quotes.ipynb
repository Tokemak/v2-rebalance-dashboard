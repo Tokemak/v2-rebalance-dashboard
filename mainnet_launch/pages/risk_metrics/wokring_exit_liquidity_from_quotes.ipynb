{
 "cells": [
  {
   "cell_type": "code",
   "execution_count": 38,
   "metadata": {},
   "outputs": [
    {
     "name": "stderr",
     "output_type": "stream",
     "text": [
      "2025-08-12 11:15:26.387 Thread 'MainThread': missing ScriptRunContext! This warning can be ignored when running in bare mode.\n",
      "2025-08-12 11:15:26.388 Thread 'MainThread': missing ScriptRunContext! This warning can be ignored when running in bare mode.\n",
      "2025-08-12 11:15:26.388 Thread 'MainThread': missing ScriptRunContext! This warning can be ignored when running in bare mode.\n",
      "2025-08-12 11:15:26.389 Thread 'MainThread': missing ScriptRunContext! This warning can be ignored when running in bare mode.\n",
      "2025-08-12 11:15:26.389 Thread 'MainThread': missing ScriptRunContext! This warning can be ignored when running in bare mode.\n",
      "2025-08-12 11:15:26.389 Thread 'MainThread': missing ScriptRunContext! This warning can be ignored when running in bare mode.\n",
      "2025-08-12 11:15:26.389 Thread 'MainThread': missing ScriptRunContext! This warning can be ignored when running in bare mode.\n",
      "2025-08-12 11:15:26.390 Thread 'MainThread': missing ScriptRunContext! This warning can be ignored when running in bare mode.\n",
      "2025-08-12 11:15:26.390 Thread 'MainThread': missing ScriptRunContext! This warning can be ignored when running in bare mode.\n",
      "2025-08-12 11:15:26.391 Thread 'MainThread': missing ScriptRunContext! This warning can be ignored when running in bare mode.\n",
      "2025-08-12 11:15:26.391 Thread 'MainThread': missing ScriptRunContext! This warning can be ignored when running in bare mode.\n",
      "2025-08-12 11:15:26.391 Thread 'MainThread': missing ScriptRunContext! This warning can be ignored when running in bare mode.\n",
      "2025-08-12 11:15:26.391 Thread 'MainThread': missing ScriptRunContext! This warning can be ignored when running in bare mode.\n",
      "2025-08-12 11:15:26.392 Thread 'MainThread': missing ScriptRunContext! This warning can be ignored when running in bare mode.\n"
     ]
    },
    {
     "data": {
      "application/vnd.microsoft.datawrangler.viewer.v0+json": {
       "columns": [
        {
         "name": "index",
         "rawType": "int64",
         "type": "integer"
        },
        {
         "name": "chain_id",
         "rawType": "int64",
         "type": "integer"
        },
        {
         "name": "base_asset",
         "rawType": "object",
         "type": "string"
        },
        {
         "name": "api_name",
         "rawType": "object",
         "type": "string"
        },
        {
         "name": "sell_token_address",
         "rawType": "object",
         "type": "string"
        },
        {
         "name": "buy_token_address",
         "rawType": "object",
         "type": "string"
        },
        {
         "name": "scaled_amount_in",
         "rawType": "float64",
         "type": "float"
        },
        {
         "name": "scaled_amount_out",
         "rawType": "float64",
         "type": "float"
        },
        {
         "name": "pools_blacklist",
         "rawType": "object",
         "type": "unknown"
        },
        {
         "name": "percent_exclude_threshold",
         "rawType": "float64",
         "type": "float"
        },
        {
         "name": "aggregator_name",
         "rawType": "object",
         "type": "string"
        },
        {
         "name": "datetime_received",
         "rawType": "datetime64[ns, UTC]",
         "type": "unknown"
        },
        {
         "name": "quote_batch",
         "rawType": "int64",
         "type": "integer"
        },
        {
         "name": "size_factor",
         "rawType": "object",
         "type": "string"
        },
        {
         "name": "id",
         "rawType": "object",
         "type": "unknown"
        },
        {
         "name": "buy_token_symbol",
         "rawType": "object",
         "type": "string"
        },
        {
         "name": "sell_token_symbol",
         "rawType": "object",
         "type": "string"
        },
        {
         "name": "effective_price",
         "rawType": "float64",
         "type": "float"
        },
        {
         "name": "reference_price",
         "rawType": "float64",
         "type": "float"
        },
        {
         "name": "label",
         "rawType": "object",
         "type": "string"
        },
        {
         "name": "slippage_bps",
         "rawType": "float64",
         "type": "float"
        }
       ],
       "ref": "1b11fe12-4635-4d9b-ada5-972d9a7e729b",
       "rows": [
        [
         "0",
         "1",
         "0x865377367054516e17014CcdED1e7d814EDC9ce4",
         "odos",
         "0xb45ad160634c528Cc3D2926d9807104FA3157305",
         "0x865377367054516e17014CcdED1e7d814EDC9ce4",
         "200000.0",
         "229821.912469133",
         "['0x6691dbb44154a9f23f8357c56fc9ff5548a8bdc4']",
         "50.0",
         "Odos",
         "2025-08-12 16:40:44.587848+00:00",
         "34",
         "absolute",
         "19fd689a-fd73-4ca4-b2ef-a180ac6ff17e",
         "DOLA",
         "sDOLA",
         "1.149109562345665",
         "1.1491103410384114",
         "sDOLA - odos",
         "-0.01"
        ],
        [
         "1",
         "1",
         "0x865377367054516e17014CcdED1e7d814EDC9ce4",
         "odos",
         "0x57aB1E0003F623289CD798B1824Be09a793e4Bec",
         "0x865377367054516e17014CcdED1e7d814EDC9ce4",
         "400000.0",
         "396545.1412053486",
         "['0x6691dbb44154a9f23f8357c56fc9ff5548a8bdc4']",
         "50.0",
         "Odos",
         "2025-08-12 16:40:52.315309+00:00",
         "34",
         "absolute",
         "37f3738b-7ad0-432c-a636-98631e8e0780",
         "DOLA",
         "reUSD",
         "0.9913628530133715",
         "0.9921625424149746",
         "reUSD - odos",
         "-8.06"
        ],
        [
         "2",
         "1",
         "0x865377367054516e17014CcdED1e7d814EDC9ce4",
         "tokemak",
         "0x57aB1E0003F623289CD798B1824Be09a793e4Bec",
         "0x865377367054516e17014CcdED1e7d814EDC9ce4",
         "100000.0",
         "99172.56795325241",
         null,
         "50.0",
         "Odos",
         "2025-08-12 16:43:00.425063+00:00",
         "34",
         "absolute",
         "52954a78-6f59-40ba-91d2-4663fef7b248",
         "DOLA",
         "reUSD",
         "0.9917256795325241",
         "0.9921625424149746",
         "reUSD - tokemak",
         "-4.4"
        ],
        [
         "3",
         "1",
         "0x865377367054516e17014CcdED1e7d814EDC9ce4",
         "tokemak",
         "0x15700B564Ca08D9439C58cA5053166E8317aa138",
         "0x865377367054516e17014CcdED1e7d814EDC9ce4",
         "200000.0",
         "200312.90369868843",
         null,
         "50.0",
         "Odos",
         "2025-08-12 16:43:06.698511+00:00",
         "34",
         "absolute",
         "d8aed3eb-2357-4e5a-82a3-973c26135ea6",
         "DOLA",
         "deUSD",
         "1.001564518493442",
         "1.0021694230259306",
         "deUSD - tokemak",
         "-6.04"
        ],
        [
         "4",
         "1",
         "0x865377367054516e17014CcdED1e7d814EDC9ce4",
         "odos",
         "0x57aB1E0003F623289CD798B1824Be09a793e4Bec",
         "0x865377367054516e17014CcdED1e7d814EDC9ce4",
         "200000.0",
         "198321.26727436428",
         "['0x6691dbb44154a9f23f8357c56fc9ff5548a8bdc4']",
         "50.0",
         "Odos",
         "2025-08-12 16:40:42.754938+00:00",
         "34",
         "absolute",
         "605062e5-c065-41e6-adf6-a0e9f2b31d06",
         "DOLA",
         "reUSD",
         "0.9916063363718214",
         "0.9921625424149746",
         "reUSD - odos",
         "-5.61"
        ],
        [
         "5",
         "1",
         "0x865377367054516e17014CcdED1e7d814EDC9ce4",
         "tokemak",
         "0x0655977FEb2f289A4aB78af67BAB0d17aAb84367",
         "0x865377367054516e17014CcdED1e7d814EDC9ce4",
         "400000.0",
         "424450.4853180888",
         null,
         "50.0",
         "4626",
         "2025-08-12 16:43:20.396325+00:00",
         "34",
         "absolute",
         "0559717c-eee6-4851-a545-1cac50b78cc5",
         "DOLA",
         "scrvUSD",
         "1.061126213295222",
         "1.0614442475874866",
         "scrvUSD - tokemak",
         "-3.0"
        ],
        [
         "6",
         "1",
         "0x865377367054516e17014CcdED1e7d814EDC9ce4",
         "tokemak",
         "0x9D39A5DE30e57443BfF2A8307A4256c8797A3497",
         "0x865377367054516e17014CcdED1e7d814EDC9ce4",
         "900000.0",
         "1072623.3813664136",
         null,
         "50.0",
         "4626",
         "2025-08-12 16:44:05.871527+00:00",
         "34",
         "absolute",
         "191d35a5-33f5-4ff2-af3e-7377fa77fc18",
         "DOLA",
         "sUSDe",
         "1.191803757073793",
         "1.1926791807510353",
         "sUSDe - tokemak",
         "-7.34"
        ],
        [
         "7",
         "1",
         "0x865377367054516e17014CcdED1e7d814EDC9ce4",
         "odos",
         "0x15700B564Ca08D9439C58cA5053166E8317aa138",
         "0x865377367054516e17014CcdED1e7d814EDC9ce4",
         "900000.0",
         "901064.6639071793",
         "['0x6691dbb44154a9f23f8357c56fc9ff5548a8bdc4']",
         "50.0",
         "Odos",
         "2025-08-12 16:41:18.458903+00:00",
         "34",
         "absolute",
         "7f991f3b-225f-46f7-8165-a3b7eb60eab7",
         "DOLA",
         "deUSD",
         "1.0011829598968658",
         "1.0021694230259306",
         "deUSD - odos",
         "-9.84"
        ],
        [
         "8",
         "1",
         "0x865377367054516e17014CcdED1e7d814EDC9ce4",
         "odos",
         "0x0655977FEb2f289A4aB78af67BAB0d17aAb84367",
         "0x865377367054516e17014CcdED1e7d814EDC9ce4",
         "200000.0",
         "212251.90350779484",
         "['0x6691dbb44154a9f23f8357c56fc9ff5548a8bdc4']",
         "50.0",
         "Odos",
         "2025-08-12 16:40:40.101798+00:00",
         "34",
         "absolute",
         "22255546-7584-4be6-9baa-49683c4350b5",
         "DOLA",
         "scrvUSD",
         "1.061259517538974",
         "1.0614442475874866",
         "scrvUSD - odos",
         "-1.74"
        ],
        [
         "9",
         "1",
         "0x865377367054516e17014CcdED1e7d814EDC9ce4",
         "tokemak",
         "0x15700B564Ca08D9439C58cA5053166E8317aa138",
         "0x865377367054516e17014CcdED1e7d814EDC9ce4",
         "700000.0",
         "700652.1840329474",
         null,
         "50.0",
         "Odos",
         "2025-08-12 16:43:46.518581+00:00",
         "34",
         "absolute",
         "5059c9ad-ee05-4ec6-8aab-ce893bfd8241",
         "DOLA",
         "deUSD",
         "1.0009316914756392",
         "1.0021694230259306",
         "deUSD - tokemak",
         "-12.35"
        ],
        [
         "10",
         "1",
         "0x865377367054516e17014CcdED1e7d814EDC9ce4",
         "odos",
         "0x15700B564Ca08D9439C58cA5053166E8317aa138",
         "0x865377367054516e17014CcdED1e7d814EDC9ce4",
         "300000.0",
         "300495.5084737622",
         "['0x6691dbb44154a9f23f8357c56fc9ff5548a8bdc4']",
         "50.0",
         "Odos",
         "2025-08-12 16:40:53.411211+00:00",
         "34",
         "absolute",
         "0e75b62f-a83b-45a0-a114-a2c75fccfdff",
         "DOLA",
         "deUSD",
         "1.0016516949125407",
         "1.0021694230259306",
         "deUSD - odos",
         "-5.17"
        ],
        [
         "11",
         "1",
         "0x865377367054516e17014CcdED1e7d814EDC9ce4",
         "tokemak",
         "0x9D39A5DE30e57443BfF2A8307A4256c8797A3497",
         "0x865377367054516e17014CcdED1e7d814EDC9ce4",
         "1000000.0",
         "1191732.9624343575",
         null,
         "50.0",
         "4626",
         "2025-08-12 16:44:14.461256+00:00",
         "34",
         "absolute",
         "2aed1613-fee1-4269-aa24-09f2e3410714",
         "DOLA",
         "sUSDe",
         "1.1917329624343576",
         "1.1926791807510353",
         "sUSDe - tokemak",
         "-7.93"
        ],
        [
         "12",
         "1",
         "0x865377367054516e17014CcdED1e7d814EDC9ce4",
         "tokemak",
         "0xb45ad160634c528Cc3D2926d9807104FA3157305",
         "0x865377367054516e17014CcdED1e7d814EDC9ce4",
         "100000.0",
         "114911.00932725375",
         null,
         "50.0",
         "4626",
         "2025-08-12 16:43:04.931648+00:00",
         "34",
         "absolute",
         "2397882e-787f-4888-aaf8-907ac8094725",
         "DOLA",
         "sDOLA",
         "1.1491100932725375",
         "1.1491103410384114",
         "sDOLA - tokemak",
         "-0.0"
        ],
        [
         "13",
         "1",
         "0x865377367054516e17014CcdED1e7d814EDC9ce4",
         "tokemak",
         "0xb45ad160634c528Cc3D2926d9807104FA3157305",
         "0x865377367054516e17014CcdED1e7d814EDC9ce4",
         "600000.0",
         "689466.1409118221",
         null,
         "50.0",
         "4626",
         "2025-08-12 16:43:41.589000+00:00",
         "34",
         "absolute",
         "83124372-12f4-4f4c-be6c-8898932ef274",
         "DOLA",
         "sDOLA",
         "1.1491102348530369",
         "1.1491103410384114",
         "sDOLA - tokemak",
         "-0.0"
        ],
        [
         "14",
         "1",
         "0x865377367054516e17014CcdED1e7d814EDC9ce4",
         "odos",
         "0x15700B564Ca08D9439C58cA5053166E8317aa138",
         "0x865377367054516e17014CcdED1e7d814EDC9ce4",
         "100000.0",
         "100184.04325297246",
         "['0x6691dbb44154a9f23f8357c56fc9ff5548a8bdc4']",
         "50.0",
         "Odos",
         "2025-08-12 16:40:38.396431+00:00",
         "34",
         "absolute",
         "3474d1b3-4b22-4fd3-ab4e-bbb8875d0772",
         "DOLA",
         "deUSD",
         "1.0018404325297245",
         "1.0021694230259306",
         "deUSD - odos",
         "-3.28"
        ],
        [
         "15",
         "1",
         "0x865377367054516e17014CcdED1e7d814EDC9ce4",
         "tokemak",
         "0x57aB1E0003F623289CD798B1824Be09a793e4Bec",
         "0x865377367054516e17014CcdED1e7d814EDC9ce4",
         "700000.0",
         "693744.1800983183",
         null,
         "50.0",
         "Odos",
         "2025-08-12 16:43:48.550527+00:00",
         "34",
         "absolute",
         "22ef6196-a07b-4c47-8b2b-a90f0afad28c",
         "DOLA",
         "reUSD",
         "0.9910631144261689",
         "0.9921625424149746",
         "reUSD - tokemak",
         "-11.08"
        ],
        [
         "16",
         "1",
         "0x865377367054516e17014CcdED1e7d814EDC9ce4",
         "tokemak",
         "0xb45ad160634c528Cc3D2926d9807104FA3157305",
         "0x865377367054516e17014CcdED1e7d814EDC9ce4",
         "800000.0",
         "919288.2161985293",
         null,
         "50.0",
         "4626",
         "2025-08-12 16:43:59.171711+00:00",
         "34",
         "absolute",
         "ce8ef880-157c-4965-9ed6-a02c880c22e3",
         "DOLA",
         "sDOLA",
         "1.1491102702481617",
         "1.1491103410384114",
         "sDOLA - tokemak",
         "-0.0"
        ],
        [
         "17",
         "1",
         "0x865377367054516e17014CcdED1e7d814EDC9ce4",
         "odos",
         "0x57aB1E0003F623289CD798B1824Be09a793e4Bec",
         "0x865377367054516e17014CcdED1e7d814EDC9ce4",
         "900000.0",
         "891773.6147212185",
         "['0x6691dbb44154a9f23f8357c56fc9ff5548a8bdc4']",
         "50.0",
         "Odos",
         "2025-08-12 16:41:17.052740+00:00",
         "34",
         "absolute",
         "1bf26bea-47a7-4bcb-9738-be8f2d65f67b",
         "DOLA",
         "reUSD",
         "0.990859571912465",
         "0.9921625424149746",
         "reUSD - odos",
         "-13.13"
        ],
        [
         "18",
         "1",
         "0x865377367054516e17014CcdED1e7d814EDC9ce4",
         "odos",
         "0xb45ad160634c528Cc3D2926d9807104FA3157305",
         "0x865377367054516e17014CcdED1e7d814EDC9ce4",
         "100000.0",
         "114910.95623456647",
         "['0x6691dbb44154a9f23f8357c56fc9ff5548a8bdc4']",
         "50.0",
         "Odos",
         "2025-08-12 16:40:40.345240+00:00",
         "34",
         "absolute",
         "4288a08f-de16-41eb-b3c8-1499ff88e5eb",
         "DOLA",
         "sDOLA",
         "1.1491095623456646",
         "1.1491103410384114",
         "sDOLA - odos",
         "-0.01"
        ],
        [
         "19",
         "1",
         "0x865377367054516e17014CcdED1e7d814EDC9ce4",
         "odos",
         "0x9D39A5DE30e57443BfF2A8307A4256c8797A3497",
         "0x865377367054516e17014CcdED1e7d814EDC9ce4",
         "600000.0",
         "713595.5770708196",
         "['0x6691dbb44154a9f23f8357c56fc9ff5548a8bdc4']",
         "50.0",
         "Odos",
         "2025-08-12 16:41:02.578020+00:00",
         "34",
         "absolute",
         "1bbae38d-b6f3-4ba7-b69e-0475213d61f8",
         "DOLA",
         "sUSDe",
         "1.1893259617846992",
         "1.1926791807510353",
         "sUSDe - odos",
         "-28.12"
        ],
        [
         "20",
         "1",
         "0x865377367054516e17014CcdED1e7d814EDC9ce4",
         "tokemak",
         "0x0655977FEb2f289A4aB78af67BAB0d17aAb84367",
         "0x865377367054516e17014CcdED1e7d814EDC9ce4",
         "10000.0",
         "10614.442475874865",
         null,
         "50.0",
         "4626",
         "2025-08-12 16:44:20.353883+00:00",
         "34",
         "absolute",
         "f5ade91e-1ae1-4b83-bd75-584870a7dd46",
         "DOLA",
         "scrvUSD",
         "1.0614442475874866",
         "1.0614442475874866",
         "scrvUSD - tokemak",
         "0.0"
        ],
        [
         "21",
         "1",
         "0x865377367054516e17014CcdED1e7d814EDC9ce4",
         "odos",
         "0x15700B564Ca08D9439C58cA5053166E8317aa138",
         "0x865377367054516e17014CcdED1e7d814EDC9ce4",
         "600000.0",
         "600853.0258925147",
         "['0x6691dbb44154a9f23f8357c56fc9ff5548a8bdc4']",
         "50.0",
         "Odos",
         "2025-08-12 16:41:04.751200+00:00",
         "34",
         "absolute",
         "58b7c72a-0198-4ef1-a562-0729284c7d1d",
         "DOLA",
         "deUSD",
         "1.001421709820858",
         "1.0021694230259306",
         "deUSD - odos",
         "-7.46"
        ],
        [
         "22",
         "1",
         "0x865377367054516e17014CcdED1e7d814EDC9ce4",
         "tokemak",
         "0x57aB1E0003F623289CD798B1824Be09a793e4Bec",
         "0x865377367054516e17014CcdED1e7d814EDC9ce4",
         "10000.0",
         "9921.625424149746",
         null,
         "50.0",
         "Odos",
         "2025-08-12 16:44:23.260464+00:00",
         "34",
         "absolute",
         "88eda719-f1cd-47dc-aebe-1a7084cac005",
         "DOLA",
         "reUSD",
         "0.9921625424149746",
         "0.9921625424149746",
         "reUSD - tokemak",
         "0.0"
        ],
        [
         "23",
         "1",
         "0x865377367054516e17014CcdED1e7d814EDC9ce4",
         "odos",
         "0xb45ad160634c528Cc3D2926d9807104FA3157305",
         "0x865377367054516e17014CcdED1e7d814EDC9ce4",
         "300000.0",
         "344732.86870369926",
         "['0x6691dbb44154a9f23f8357c56fc9ff5548a8bdc4']",
         "50.0",
         "Odos",
         "2025-08-12 16:40:49.109463+00:00",
         "34",
         "absolute",
         "4e109ec1-f586-4205-8bad-b3a5dd0be6ff",
         "DOLA",
         "sDOLA",
         "1.1491095623456642",
         "1.1491103410384114",
         "sDOLA - odos",
         "-0.01"
        ],
        [
         "24",
         "1",
         "0x865377367054516e17014CcdED1e7d814EDC9ce4",
         "tokemak",
         "0xBC6DA0FE9aD5f3b0d58160288917AA56653660E9",
         "0x865377367054516e17014CcdED1e7d814EDC9ce4",
         "500000.0",
         "498230.1051488272",
         null,
         "50.0",
         "Odos",
         "2025-08-12 16:43:32.946777+00:00",
         "34",
         "absolute",
         "e206953e-298b-4511-ad44-7a5a15d4bb3f",
         "DOLA",
         "alUSD",
         "0.9964602102976544",
         "0.9975076188539155",
         "alUSD - tokemak",
         "-10.5"
        ],
        [
         "25",
         "1",
         "0x865377367054516e17014CcdED1e7d814EDC9ce4",
         "odos",
         "0x0655977FEb2f289A4aB78af67BAB0d17aAb84367",
         "0x865377367054516e17014CcdED1e7d814EDC9ce4",
         "700000.0",
         "742674.8022873828",
         "['0x6691dbb44154a9f23f8357c56fc9ff5548a8bdc4']",
         "50.0",
         "Odos",
         "2025-08-12 16:41:05.222684+00:00",
         "34",
         "absolute",
         "19abc79e-4df8-4d65-bf2d-4f27ca6b6cba",
         "DOLA",
         "scrvUSD",
         "1.0609640032676897",
         "1.0614442475874866",
         "scrvUSD - odos",
         "-4.52"
        ],
        [
         "26",
         "1",
         "0x865377367054516e17014CcdED1e7d814EDC9ce4",
         "tokemak",
         "0xBC6DA0FE9aD5f3b0d58160288917AA56653660E9",
         "0x865377367054516e17014CcdED1e7d814EDC9ce4",
         "1000000.0",
         "995486.9185633969",
         null,
         "50.0",
         "Odos",
         "2025-08-12 16:44:16.897899+00:00",
         "34",
         "absolute",
         "d137049b-f4e8-42d7-986d-5ed993795674",
         "DOLA",
         "alUSD",
         "0.9954869185633969",
         "0.9975076188539155",
         "alUSD - tokemak",
         "-20.26"
        ],
        [
         "27",
         "1",
         "0x865377367054516e17014CcdED1e7d814EDC9ce4",
         "tokemak",
         "0x57aB1E0003F623289CD798B1824Be09a793e4Bec",
         "0x865377367054516e17014CcdED1e7d814EDC9ce4",
         "200000.0",
         "198321.26623049463",
         null,
         "50.0",
         "Odos",
         "2025-08-12 16:43:09.030397+00:00",
         "34",
         "absolute",
         "fbbe8133-a8c0-4269-96d1-9eb2196746e0",
         "DOLA",
         "reUSD",
         "0.9916063311524731",
         "0.9921625424149746",
         "reUSD - tokemak",
         "-5.61"
        ],
        [
         "28",
         "1",
         "0x865377367054516e17014CcdED1e7d814EDC9ce4",
         "odos",
         "0x15700B564Ca08D9439C58cA5053166E8317aa138",
         "0x865377367054516e17014CcdED1e7d814EDC9ce4",
         "1000000.0",
         "1001091.9052350145",
         "['0x6691dbb44154a9f23f8357c56fc9ff5548a8bdc4']",
         "50.0",
         "Odos",
         "2025-08-12 16:41:23.637742+00:00",
         "34",
         "absolute",
         "ef28c22f-914f-4c02-83cc-242c383019ba",
         "DOLA",
         "deUSD",
         "1.0010919052350145",
         "1.0021694230259306",
         "deUSD - odos",
         "-10.75"
        ],
        [
         "29",
         "1",
         "0x865377367054516e17014CcdED1e7d814EDC9ce4",
         "tokemak",
         "0x0655977FEb2f289A4aB78af67BAB0d17aAb84367",
         "0x865377367054516e17014CcdED1e7d814EDC9ce4",
         "900000.0",
         "954791.59330703",
         null,
         "50.0",
         "4626",
         "2025-08-12 16:44:00.359356+00:00",
         "34",
         "absolute",
         "5084e22e-a334-45d5-96d4-cf40db215095",
         "DOLA",
         "scrvUSD",
         "1.0608795481189222",
         "1.0614442475874866",
         "scrvUSD - tokemak",
         "-5.32"
        ],
        [
         "30",
         "1",
         "0x865377367054516e17014CcdED1e7d814EDC9ce4",
         "tokemak",
         "0x15700B564Ca08D9439C58cA5053166E8317aa138",
         "0x865377367054516e17014CcdED1e7d814EDC9ce4",
         "400000.0",
         "400526.3740357508",
         null,
         "50.0",
         "Odos",
         "2025-08-12 16:43:21.622146+00:00",
         "34",
         "absolute",
         "976df0a8-7a92-47d9-8273-9946598f07de",
         "DOLA",
         "deUSD",
         "1.001315935089377",
         "1.0021694230259306",
         "deUSD - tokemak",
         "-8.52"
        ],
        [
         "31",
         "1",
         "0x865377367054516e17014CcdED1e7d814EDC9ce4",
         "tokemak",
         "0x0655977FEb2f289A4aB78af67BAB0d17aAb84367",
         "0x865377367054516e17014CcdED1e7d814EDC9ce4",
         "300000.0",
         "318357.4534351731",
         null,
         "50.0",
         "4626",
         "2025-08-12 16:43:12.861933+00:00",
         "34",
         "absolute",
         "474e5eed-4809-4791-8ad9-49e99e640dcc",
         "DOLA",
         "scrvUSD",
         "1.061191511450577",
         "1.0614442475874866",
         "scrvUSD - tokemak",
         "-2.38"
        ],
        [
         "32",
         "1",
         "0x865377367054516e17014CcdED1e7d814EDC9ce4",
         "tokemak",
         "0x15700B564Ca08D9439C58cA5053166E8317aa138",
         "0x865377367054516e17014CcdED1e7d814EDC9ce4",
         "900000.0",
         "900609.5180891547",
         null,
         "50.0",
         "Odos",
         "2025-08-12 16:44:01.639670+00:00",
         "34",
         "absolute",
         "ce039d3c-dada-409e-ba5f-c80222c8664d",
         "DOLA",
         "deUSD",
         "1.000677242321283",
         "1.0021694230259306",
         "deUSD - tokemak",
         "-14.89"
        ],
        [
         "33",
         "1",
         "0x865377367054516e17014CcdED1e7d814EDC9ce4",
         "tokemak",
         "0x15700B564Ca08D9439C58cA5053166E8317aa138",
         "0x865377367054516e17014CcdED1e7d814EDC9ce4",
         "10000.0",
         "10021.694230259305",
         null,
         "50.0",
         "Odos",
         "2025-08-12 16:44:21.627288+00:00",
         "34",
         "absolute",
         "7daea12a-24d1-44a0-8787-956971d97d4c",
         "DOLA",
         "deUSD",
         "1.0021694230259306",
         "1.0021694230259306",
         "deUSD - tokemak",
         "0.0"
        ],
        [
         "34",
         "1",
         "0x865377367054516e17014CcdED1e7d814EDC9ce4",
         "odos",
         "0xb45ad160634c528Cc3D2926d9807104FA3157305",
         "0x865377367054516e17014CcdED1e7d814EDC9ce4",
         "1000000.0",
         "1149109.7393212884",
         "['0x6691dbb44154a9f23f8357c56fc9ff5548a8bdc4']",
         "50.0",
         "Odos",
         "2025-08-12 16:41:24.113677+00:00",
         "34",
         "absolute",
         "93e7135e-6ed1-4347-b0c0-dceddd5f116c",
         "DOLA",
         "sDOLA",
         "1.1491097393212883",
         "1.1491103410384114",
         "sDOLA - odos",
         "-0.01"
        ],
        [
         "35",
         "1",
         "0x865377367054516e17014CcdED1e7d814EDC9ce4",
         "tokemak",
         "0x9D39A5DE30e57443BfF2A8307A4256c8797A3497",
         "0x865377367054516e17014CcdED1e7d814EDC9ce4",
         "800000.0",
         "953477.9687001482",
         null,
         "50.0",
         "4626",
         "2025-08-12 16:44:03.298377+00:00",
         "34",
         "absolute",
         "69bfad11-7e65-47fb-a3e0-f0a93320b1e5",
         "DOLA",
         "sUSDe",
         "1.1918474608751852",
         "1.1926791807510353",
         "sUSDe - tokemak",
         "-6.97"
        ],
        [
         "36",
         "1",
         "0x865377367054516e17014CcdED1e7d814EDC9ce4",
         "odos",
         "0x9D39A5DE30e57443BfF2A8307A4256c8797A3497",
         "0x865377367054516e17014CcdED1e7d814EDC9ce4",
         "10000.0",
         "11896.440839596587",
         "['0x6691dbb44154a9f23f8357c56fc9ff5548a8bdc4']",
         "50.0",
         "Odos",
         "2025-08-12 16:41:27.682830+00:00",
         "34",
         "absolute",
         "5d69ab79-f341-450c-a328-b4f2a0354275",
         "DOLA",
         "sUSDe",
         "1.1896440839596587",
         "1.1926791807510353",
         "sUSDe - odos",
         "-25.45"
        ],
        [
         "37",
         "1",
         "0x865377367054516e17014CcdED1e7d814EDC9ce4",
         "tokemak",
         "0xb45ad160634c528Cc3D2926d9807104FA3157305",
         "0x865377367054516e17014CcdED1e7d814EDC9ce4",
         "400000.0",
         "459644.06562511506",
         null,
         "50.0",
         "Odos",
         "2025-08-12 16:43:26.645450+00:00",
         "34",
         "absolute",
         "e4d988a7-6e99-44b8-9987-20b77497447c",
         "DOLA",
         "sDOLA",
         "1.1491101640627877",
         "1.1491103410384114",
         "sDOLA - tokemak",
         "-0.0"
        ],
        [
         "38",
         "1",
         "0x865377367054516e17014CcdED1e7d814EDC9ce4",
         "odos",
         "0x15700B564Ca08D9439C58cA5053166E8317aa138",
         "0x865377367054516e17014CcdED1e7d814EDC9ce4",
         "800000.0",
         "800998.8250549731",
         "['0x6691dbb44154a9f23f8357c56fc9ff5548a8bdc4']",
         "50.0",
         "Odos",
         "2025-08-12 16:41:14.303902+00:00",
         "34",
         "absolute",
         "18e55f18-bd31-46b4-a040-bf183fbe3ffe",
         "DOLA",
         "deUSD",
         "1.0012485313187165",
         "1.0021694230259306",
         "deUSD - odos",
         "-9.19"
        ],
        [
         "39",
         "1",
         "0x865377367054516e17014CcdED1e7d814EDC9ce4",
         "odos",
         "0xb45ad160634c528Cc3D2926d9807104FA3157305",
         "0x865377367054516e17014CcdED1e7d814EDC9ce4",
         "900000.0",
         "1034198.765389161",
         "['0x6691dbb44154a9f23f8357c56fc9ff5548a8bdc4']",
         "50.0",
         "Odos",
         "2025-08-12 16:41:21.607455+00:00",
         "34",
         "absolute",
         "119ac3ad-2e9b-41cb-a459-94b11fc03150",
         "DOLA",
         "sDOLA",
         "1.14910973932129",
         "1.1491103410384114",
         "sDOLA - odos",
         "-0.01"
        ],
        [
         "40",
         "1",
         "0x865377367054516e17014CcdED1e7d814EDC9ce4",
         "odos",
         "0x0655977FEb2f289A4aB78af67BAB0d17aAb84367",
         "0x865377367054516e17014CcdED1e7d814EDC9ce4",
         "10000.0",
         "10614.438649925367",
         "['0x6691dbb44154a9f23f8357c56fc9ff5548a8bdc4']",
         "50.0",
         "Odos",
         "2025-08-12 16:41:26.318862+00:00",
         "34",
         "absolute",
         "744f78a1-ac81-4645-921e-63259588f574",
         "DOLA",
         "scrvUSD",
         "1.0614438649925366",
         "1.0614442475874866",
         "scrvUSD - odos",
         "-0.0"
        ],
        [
         "41",
         "1",
         "0x865377367054516e17014CcdED1e7d814EDC9ce4",
         "tokemak",
         "0xBC6DA0FE9aD5f3b0d58160288917AA56653660E9",
         "0x865377367054516e17014CcdED1e7d814EDC9ce4",
         "200000.0",
         "199379.30799090056",
         null,
         "50.0",
         "Odos",
         "2025-08-12 16:43:11.961770+00:00",
         "34",
         "absolute",
         "ca7c7c8a-db6d-48c4-8693-6e76e2c3da00",
         "DOLA",
         "alUSD",
         "0.9968965399545028",
         "0.9975076188539155",
         "alUSD - tokemak",
         "-6.13"
        ],
        [
         "42",
         "1",
         "0x865377367054516e17014CcdED1e7d814EDC9ce4",
         "tokemak",
         "0x0655977FEb2f289A4aB78af67BAB0d17aAb84367",
         "0x865377367054516e17014CcdED1e7d814EDC9ce4",
         "700000.0",
         "742709.707219493",
         null,
         "50.0",
         "4626",
         "2025-08-12 16:43:42.834529+00:00",
         "34",
         "absolute",
         "5f4a9531-4d87-4f6a-8935-4906e7611cb5",
         "DOLA",
         "scrvUSD",
         "1.0610138674564185",
         "1.0614442475874866",
         "scrvUSD - tokemak",
         "-4.05"
        ],
        [
         "43",
         "1",
         "0x865377367054516e17014CcdED1e7d814EDC9ce4",
         "odos",
         "0xBC6DA0FE9aD5f3b0d58160288917AA56653660E9",
         "0x865377367054516e17014CcdED1e7d814EDC9ce4",
         "10000.0",
         "9975.077082520847",
         "['0x6691dbb44154a9f23f8357c56fc9ff5548a8bdc4']",
         "50.0",
         "Odos",
         "2025-08-12 16:41:29.366606+00:00",
         "34",
         "absolute",
         "2f18c4a6-67cd-4b2a-b588-6fc748e9c277",
         "DOLA",
         "alUSD",
         "0.9975077082520848",
         "0.9975076188539155",
         "alUSD - odos",
         "0.0"
        ],
        [
         "44",
         "1",
         "0x865377367054516e17014CcdED1e7d814EDC9ce4",
         "odos",
         "0xBC6DA0FE9aD5f3b0d58160288917AA56653660E9",
         "0x865377367054516e17014CcdED1e7d814EDC9ce4",
         "600000.0",
         "597766.3512240084",
         "['0x6691dbb44154a9f23f8357c56fc9ff5548a8bdc4']",
         "50.0",
         "Odos",
         "2025-08-12 16:41:05.275256+00:00",
         "34",
         "absolute",
         "430b62ed-c448-4d1d-bd1e-95ebaf25f0d3",
         "DOLA",
         "alUSD",
         "0.9962772520400139",
         "0.9975076188539155",
         "alUSD - odos",
         "-12.33"
        ],
        [
         "45",
         "1",
         "0x865377367054516e17014CcdED1e7d814EDC9ce4",
         "tokemak",
         "0x0655977FEb2f289A4aB78af67BAB0d17aAb84367",
         "0x865377367054516e17014CcdED1e7d814EDC9ce4",
         "200000.0",
         "212251.9668121182",
         null,
         "50.0",
         "4626",
         "2025-08-12 16:43:05.602095+00:00",
         "34",
         "absolute",
         "f1b7450b-3f47-4c05-930d-fa27982b376e",
         "DOLA",
         "scrvUSD",
         "1.061259834060591",
         "1.0614442475874866",
         "scrvUSD - tokemak",
         "-1.74"
        ],
        [
         "46",
         "1",
         "0x865377367054516e17014CcdED1e7d814EDC9ce4",
         "tokemak",
         "0x57aB1E0003F623289CD798B1824Be09a793e4Bec",
         "0x865377367054516e17014CcdED1e7d814EDC9ce4",
         "1000000.0",
         "990758.3384726695",
         null,
         "50.0",
         "Odos",
         "2025-08-12 16:44:12.847553+00:00",
         "34",
         "absolute",
         "831cb897-6510-49b6-8c52-cf0957223bc0",
         "DOLA",
         "reUSD",
         "0.9907583384726695",
         "0.9921625424149746",
         "reUSD - tokemak",
         "-14.15"
        ],
        [
         "47",
         "1",
         "0x865377367054516e17014CcdED1e7d814EDC9ce4",
         "odos",
         "0xb45ad160634c528Cc3D2926d9807104FA3157305",
         "0x865377367054516e17014CcdED1e7d814EDC9ce4",
         "700000.0",
         "804376.8175249025",
         "['0x6691dbb44154a9f23f8357c56fc9ff5548a8bdc4']",
         "50.0",
         "Odos",
         "2025-08-12 16:41:09.426621+00:00",
         "34",
         "absolute",
         "813fd8a2-4519-4162-9793-c789eca70713",
         "DOLA",
         "sDOLA",
         "1.1491097393212892",
         "1.1491103410384114",
         "sDOLA - odos",
         "-0.01"
        ],
        [
         "48",
         "1",
         "0x865377367054516e17014CcdED1e7d814EDC9ce4",
         "odos",
         "0xBC6DA0FE9aD5f3b0d58160288917AA56653660E9",
         "0x865377367054516e17014CcdED1e7d814EDC9ce4",
         "700000.0",
         "697262.2805113948",
         "['0x6691dbb44154a9f23f8357c56fc9ff5548a8bdc4']",
         "50.0",
         "Odos",
         "2025-08-12 16:41:09.629736+00:00",
         "34",
         "absolute",
         "9b09c92d-65b1-42c3-907a-39336461c271",
         "DOLA",
         "alUSD",
         "0.9960889721591355",
         "0.9975076188539155",
         "alUSD - odos",
         "-14.22"
        ],
        [
         "49",
         "1",
         "0x865377367054516e17014CcdED1e7d814EDC9ce4",
         "odos",
         "0x0655977FEb2f289A4aB78af67BAB0d17aAb84367",
         "0x865377367054516e17014CcdED1e7d814EDC9ce4",
         "400000.0",
         "424450.3508136786",
         "['0x6691dbb44154a9f23f8357c56fc9ff5548a8bdc4']",
         "50.0",
         "Odos",
         "2025-08-12 16:40:50.641669+00:00",
         "34",
         "absolute",
         "b5bf5722-262f-4542-9da4-182f57d458b1",
         "DOLA",
         "scrvUSD",
         "1.0611258770341965",
         "1.0614442475874866",
         "scrvUSD - odos",
         "-3.0"
        ]
       ],
       "shape": {
        "columns": 20,
        "rows": 132
       }
      },
      "text/html": [
       "<div>\n",
       "<style scoped>\n",
       "    .dataframe tbody tr th:only-of-type {\n",
       "        vertical-align: middle;\n",
       "    }\n",
       "\n",
       "    .dataframe tbody tr th {\n",
       "        vertical-align: top;\n",
       "    }\n",
       "\n",
       "    .dataframe thead th {\n",
       "        text-align: right;\n",
       "    }\n",
       "</style>\n",
       "<table border=\"1\" class=\"dataframe\">\n",
       "  <thead>\n",
       "    <tr style=\"text-align: right;\">\n",
       "      <th></th>\n",
       "      <th>chain_id</th>\n",
       "      <th>base_asset</th>\n",
       "      <th>api_name</th>\n",
       "      <th>sell_token_address</th>\n",
       "      <th>buy_token_address</th>\n",
       "      <th>scaled_amount_in</th>\n",
       "      <th>scaled_amount_out</th>\n",
       "      <th>pools_blacklist</th>\n",
       "      <th>percent_exclude_threshold</th>\n",
       "      <th>aggregator_name</th>\n",
       "      <th>datetime_received</th>\n",
       "      <th>quote_batch</th>\n",
       "      <th>size_factor</th>\n",
       "      <th>id</th>\n",
       "      <th>buy_token_symbol</th>\n",
       "      <th>sell_token_symbol</th>\n",
       "      <th>effective_price</th>\n",
       "      <th>reference_price</th>\n",
       "      <th>label</th>\n",
       "      <th>slippage_bps</th>\n",
       "    </tr>\n",
       "  </thead>\n",
       "  <tbody>\n",
       "    <tr>\n",
       "      <th>0</th>\n",
       "      <td>1</td>\n",
       "      <td>0x865377367054516e17014CcdED1e7d814EDC9ce4</td>\n",
       "      <td>odos</td>\n",
       "      <td>0xb45ad160634c528Cc3D2926d9807104FA3157305</td>\n",
       "      <td>0x865377367054516e17014CcdED1e7d814EDC9ce4</td>\n",
       "      <td>200000.0</td>\n",
       "      <td>2.298219e+05</td>\n",
       "      <td>['0x6691dbb44154a9f23f8357c56fc9ff5548a8bdc4']</td>\n",
       "      <td>50.0</td>\n",
       "      <td>Odos</td>\n",
       "      <td>2025-08-12 16:40:44.587848+00:00</td>\n",
       "      <td>34</td>\n",
       "      <td>absolute</td>\n",
       "      <td>19fd689a-fd73-4ca4-b2ef-a180ac6ff17e</td>\n",
       "      <td>DOLA</td>\n",
       "      <td>sDOLA</td>\n",
       "      <td>1.149110</td>\n",
       "      <td>1.149110</td>\n",
       "      <td>sDOLA - odos</td>\n",
       "      <td>-0.01</td>\n",
       "    </tr>\n",
       "    <tr>\n",
       "      <th>1</th>\n",
       "      <td>1</td>\n",
       "      <td>0x865377367054516e17014CcdED1e7d814EDC9ce4</td>\n",
       "      <td>odos</td>\n",
       "      <td>0x57aB1E0003F623289CD798B1824Be09a793e4Bec</td>\n",
       "      <td>0x865377367054516e17014CcdED1e7d814EDC9ce4</td>\n",
       "      <td>400000.0</td>\n",
       "      <td>3.965451e+05</td>\n",
       "      <td>['0x6691dbb44154a9f23f8357c56fc9ff5548a8bdc4']</td>\n",
       "      <td>50.0</td>\n",
       "      <td>Odos</td>\n",
       "      <td>2025-08-12 16:40:52.315309+00:00</td>\n",
       "      <td>34</td>\n",
       "      <td>absolute</td>\n",
       "      <td>37f3738b-7ad0-432c-a636-98631e8e0780</td>\n",
       "      <td>DOLA</td>\n",
       "      <td>reUSD</td>\n",
       "      <td>0.991363</td>\n",
       "      <td>0.992163</td>\n",
       "      <td>reUSD - odos</td>\n",
       "      <td>-8.06</td>\n",
       "    </tr>\n",
       "    <tr>\n",
       "      <th>2</th>\n",
       "      <td>1</td>\n",
       "      <td>0x865377367054516e17014CcdED1e7d814EDC9ce4</td>\n",
       "      <td>tokemak</td>\n",
       "      <td>0x57aB1E0003F623289CD798B1824Be09a793e4Bec</td>\n",
       "      <td>0x865377367054516e17014CcdED1e7d814EDC9ce4</td>\n",
       "      <td>100000.0</td>\n",
       "      <td>9.917257e+04</td>\n",
       "      <td>None</td>\n",
       "      <td>50.0</td>\n",
       "      <td>Odos</td>\n",
       "      <td>2025-08-12 16:43:00.425063+00:00</td>\n",
       "      <td>34</td>\n",
       "      <td>absolute</td>\n",
       "      <td>52954a78-6f59-40ba-91d2-4663fef7b248</td>\n",
       "      <td>DOLA</td>\n",
       "      <td>reUSD</td>\n",
       "      <td>0.991726</td>\n",
       "      <td>0.992163</td>\n",
       "      <td>reUSD - tokemak</td>\n",
       "      <td>-4.40</td>\n",
       "    </tr>\n",
       "    <tr>\n",
       "      <th>3</th>\n",
       "      <td>1</td>\n",
       "      <td>0x865377367054516e17014CcdED1e7d814EDC9ce4</td>\n",
       "      <td>tokemak</td>\n",
       "      <td>0x15700B564Ca08D9439C58cA5053166E8317aa138</td>\n",
       "      <td>0x865377367054516e17014CcdED1e7d814EDC9ce4</td>\n",
       "      <td>200000.0</td>\n",
       "      <td>2.003129e+05</td>\n",
       "      <td>None</td>\n",
       "      <td>50.0</td>\n",
       "      <td>Odos</td>\n",
       "      <td>2025-08-12 16:43:06.698511+00:00</td>\n",
       "      <td>34</td>\n",
       "      <td>absolute</td>\n",
       "      <td>d8aed3eb-2357-4e5a-82a3-973c26135ea6</td>\n",
       "      <td>DOLA</td>\n",
       "      <td>deUSD</td>\n",
       "      <td>1.001565</td>\n",
       "      <td>1.002169</td>\n",
       "      <td>deUSD - tokemak</td>\n",
       "      <td>-6.04</td>\n",
       "    </tr>\n",
       "    <tr>\n",
       "      <th>4</th>\n",
       "      <td>1</td>\n",
       "      <td>0x865377367054516e17014CcdED1e7d814EDC9ce4</td>\n",
       "      <td>odos</td>\n",
       "      <td>0x57aB1E0003F623289CD798B1824Be09a793e4Bec</td>\n",
       "      <td>0x865377367054516e17014CcdED1e7d814EDC9ce4</td>\n",
       "      <td>200000.0</td>\n",
       "      <td>1.983213e+05</td>\n",
       "      <td>['0x6691dbb44154a9f23f8357c56fc9ff5548a8bdc4']</td>\n",
       "      <td>50.0</td>\n",
       "      <td>Odos</td>\n",
       "      <td>2025-08-12 16:40:42.754938+00:00</td>\n",
       "      <td>34</td>\n",
       "      <td>absolute</td>\n",
       "      <td>605062e5-c065-41e6-adf6-a0e9f2b31d06</td>\n",
       "      <td>DOLA</td>\n",
       "      <td>reUSD</td>\n",
       "      <td>0.991606</td>\n",
       "      <td>0.992163</td>\n",
       "      <td>reUSD - odos</td>\n",
       "      <td>-5.61</td>\n",
       "    </tr>\n",
       "    <tr>\n",
       "      <th>...</th>\n",
       "      <td>...</td>\n",
       "      <td>...</td>\n",
       "      <td>...</td>\n",
       "      <td>...</td>\n",
       "      <td>...</td>\n",
       "      <td>...</td>\n",
       "      <td>...</td>\n",
       "      <td>...</td>\n",
       "      <td>...</td>\n",
       "      <td>...</td>\n",
       "      <td>...</td>\n",
       "      <td>...</td>\n",
       "      <td>...</td>\n",
       "      <td>...</td>\n",
       "      <td>...</td>\n",
       "      <td>...</td>\n",
       "      <td>...</td>\n",
       "      <td>...</td>\n",
       "      <td>...</td>\n",
       "      <td>...</td>\n",
       "    </tr>\n",
       "    <tr>\n",
       "      <th>127</th>\n",
       "      <td>1</td>\n",
       "      <td>0x865377367054516e17014CcdED1e7d814EDC9ce4</td>\n",
       "      <td>tokemak</td>\n",
       "      <td>0xBC6DA0FE9aD5f3b0d58160288917AA56653660E9</td>\n",
       "      <td>0x865377367054516e17014CcdED1e7d814EDC9ce4</td>\n",
       "      <td>100000.0</td>\n",
       "      <td>9.972303e+04</td>\n",
       "      <td>None</td>\n",
       "      <td>50.0</td>\n",
       "      <td>Odos</td>\n",
       "      <td>2025-08-12 16:43:02.990613+00:00</td>\n",
       "      <td>34</td>\n",
       "      <td>absolute</td>\n",
       "      <td>05ef6f42-c693-43a8-b5db-02046f91d29f</td>\n",
       "      <td>DOLA</td>\n",
       "      <td>alUSD</td>\n",
       "      <td>0.997230</td>\n",
       "      <td>0.997508</td>\n",
       "      <td>alUSD - tokemak</td>\n",
       "      <td>-2.78</td>\n",
       "    </tr>\n",
       "    <tr>\n",
       "      <th>128</th>\n",
       "      <td>1</td>\n",
       "      <td>0x865377367054516e17014CcdED1e7d814EDC9ce4</td>\n",
       "      <td>odos</td>\n",
       "      <td>0x9D39A5DE30e57443BfF2A8307A4256c8797A3497</td>\n",
       "      <td>0x865377367054516e17014CcdED1e7d814EDC9ce4</td>\n",
       "      <td>1000000.0</td>\n",
       "      <td>1.189152e+06</td>\n",
       "      <td>['0x6691dbb44154a9f23f8357c56fc9ff5548a8bdc4']</td>\n",
       "      <td>50.0</td>\n",
       "      <td>Odos</td>\n",
       "      <td>2025-08-12 16:41:23.272728+00:00</td>\n",
       "      <td>34</td>\n",
       "      <td>absolute</td>\n",
       "      <td>ecee4953-8587-493a-bd04-47b4f83bcbdb</td>\n",
       "      <td>DOLA</td>\n",
       "      <td>sUSDe</td>\n",
       "      <td>1.189152</td>\n",
       "      <td>1.192679</td>\n",
       "      <td>sUSDe - odos</td>\n",
       "      <td>-29.58</td>\n",
       "    </tr>\n",
       "    <tr>\n",
       "      <th>129</th>\n",
       "      <td>1</td>\n",
       "      <td>0x865377367054516e17014CcdED1e7d814EDC9ce4</td>\n",
       "      <td>tokemak</td>\n",
       "      <td>0xb45ad160634c528Cc3D2926d9807104FA3157305</td>\n",
       "      <td>0x865377367054516e17014CcdED1e7d814EDC9ce4</td>\n",
       "      <td>1000000.0</td>\n",
       "      <td>1.149110e+06</td>\n",
       "      <td>None</td>\n",
       "      <td>50.0</td>\n",
       "      <td>4626</td>\n",
       "      <td>2025-08-12 16:44:19.174530+00:00</td>\n",
       "      <td>34</td>\n",
       "      <td>absolute</td>\n",
       "      <td>637e6195-10c7-4568-bcac-d47f0e5d08c8</td>\n",
       "      <td>DOLA</td>\n",
       "      <td>sDOLA</td>\n",
       "      <td>1.149110</td>\n",
       "      <td>1.149110</td>\n",
       "      <td>sDOLA - tokemak</td>\n",
       "      <td>0.00</td>\n",
       "    </tr>\n",
       "    <tr>\n",
       "      <th>130</th>\n",
       "      <td>1</td>\n",
       "      <td>0x865377367054516e17014CcdED1e7d814EDC9ce4</td>\n",
       "      <td>tokemak</td>\n",
       "      <td>0x0655977FEb2f289A4aB78af67BAB0d17aAb84367</td>\n",
       "      <td>0x865377367054516e17014CcdED1e7d814EDC9ce4</td>\n",
       "      <td>1000000.0</td>\n",
       "      <td>1.060914e+06</td>\n",
       "      <td>None</td>\n",
       "      <td>50.0</td>\n",
       "      <td>4626</td>\n",
       "      <td>2025-08-12 16:44:11.496365+00:00</td>\n",
       "      <td>34</td>\n",
       "      <td>absolute</td>\n",
       "      <td>4888b01a-34e8-4d78-9ffb-4e6372fcdaa6</td>\n",
       "      <td>DOLA</td>\n",
       "      <td>scrvUSD</td>\n",
       "      <td>1.060914</td>\n",
       "      <td>1.061444</td>\n",
       "      <td>scrvUSD - tokemak</td>\n",
       "      <td>-5.00</td>\n",
       "    </tr>\n",
       "    <tr>\n",
       "      <th>131</th>\n",
       "      <td>1</td>\n",
       "      <td>0x865377367054516e17014CcdED1e7d814EDC9ce4</td>\n",
       "      <td>odos</td>\n",
       "      <td>0x0655977FEb2f289A4aB78af67BAB0d17aAb84367</td>\n",
       "      <td>0x865377367054516e17014CcdED1e7d814EDC9ce4</td>\n",
       "      <td>300000.0</td>\n",
       "      <td>3.183574e+05</td>\n",
       "      <td>['0x6691dbb44154a9f23f8357c56fc9ff5548a8bdc4']</td>\n",
       "      <td>50.0</td>\n",
       "      <td>Odos</td>\n",
       "      <td>2025-08-12 16:40:45.072148+00:00</td>\n",
       "      <td>34</td>\n",
       "      <td>absolute</td>\n",
       "      <td>6fc75882-912a-4308-9d8a-599f0ca9ac3e</td>\n",
       "      <td>DOLA</td>\n",
       "      <td>scrvUSD</td>\n",
       "      <td>1.061191</td>\n",
       "      <td>1.061444</td>\n",
       "      <td>scrvUSD - odos</td>\n",
       "      <td>-2.38</td>\n",
       "    </tr>\n",
       "  </tbody>\n",
       "</table>\n",
       "<p>132 rows × 20 columns</p>\n",
       "</div>"
      ],
      "text/plain": [
       "     chain_id                                  base_asset api_name  \\\n",
       "0           1  0x865377367054516e17014CcdED1e7d814EDC9ce4     odos   \n",
       "1           1  0x865377367054516e17014CcdED1e7d814EDC9ce4     odos   \n",
       "2           1  0x865377367054516e17014CcdED1e7d814EDC9ce4  tokemak   \n",
       "3           1  0x865377367054516e17014CcdED1e7d814EDC9ce4  tokemak   \n",
       "4           1  0x865377367054516e17014CcdED1e7d814EDC9ce4     odos   \n",
       "..        ...                                         ...      ...   \n",
       "127         1  0x865377367054516e17014CcdED1e7d814EDC9ce4  tokemak   \n",
       "128         1  0x865377367054516e17014CcdED1e7d814EDC9ce4     odos   \n",
       "129         1  0x865377367054516e17014CcdED1e7d814EDC9ce4  tokemak   \n",
       "130         1  0x865377367054516e17014CcdED1e7d814EDC9ce4  tokemak   \n",
       "131         1  0x865377367054516e17014CcdED1e7d814EDC9ce4     odos   \n",
       "\n",
       "                             sell_token_address  \\\n",
       "0    0xb45ad160634c528Cc3D2926d9807104FA3157305   \n",
       "1    0x57aB1E0003F623289CD798B1824Be09a793e4Bec   \n",
       "2    0x57aB1E0003F623289CD798B1824Be09a793e4Bec   \n",
       "3    0x15700B564Ca08D9439C58cA5053166E8317aa138   \n",
       "4    0x57aB1E0003F623289CD798B1824Be09a793e4Bec   \n",
       "..                                          ...   \n",
       "127  0xBC6DA0FE9aD5f3b0d58160288917AA56653660E9   \n",
       "128  0x9D39A5DE30e57443BfF2A8307A4256c8797A3497   \n",
       "129  0xb45ad160634c528Cc3D2926d9807104FA3157305   \n",
       "130  0x0655977FEb2f289A4aB78af67BAB0d17aAb84367   \n",
       "131  0x0655977FEb2f289A4aB78af67BAB0d17aAb84367   \n",
       "\n",
       "                              buy_token_address  scaled_amount_in  \\\n",
       "0    0x865377367054516e17014CcdED1e7d814EDC9ce4          200000.0   \n",
       "1    0x865377367054516e17014CcdED1e7d814EDC9ce4          400000.0   \n",
       "2    0x865377367054516e17014CcdED1e7d814EDC9ce4          100000.0   \n",
       "3    0x865377367054516e17014CcdED1e7d814EDC9ce4          200000.0   \n",
       "4    0x865377367054516e17014CcdED1e7d814EDC9ce4          200000.0   \n",
       "..                                          ...               ...   \n",
       "127  0x865377367054516e17014CcdED1e7d814EDC9ce4          100000.0   \n",
       "128  0x865377367054516e17014CcdED1e7d814EDC9ce4         1000000.0   \n",
       "129  0x865377367054516e17014CcdED1e7d814EDC9ce4         1000000.0   \n",
       "130  0x865377367054516e17014CcdED1e7d814EDC9ce4         1000000.0   \n",
       "131  0x865377367054516e17014CcdED1e7d814EDC9ce4          300000.0   \n",
       "\n",
       "     scaled_amount_out                                 pools_blacklist  \\\n",
       "0         2.298219e+05  ['0x6691dbb44154a9f23f8357c56fc9ff5548a8bdc4']   \n",
       "1         3.965451e+05  ['0x6691dbb44154a9f23f8357c56fc9ff5548a8bdc4']   \n",
       "2         9.917257e+04                                            None   \n",
       "3         2.003129e+05                                            None   \n",
       "4         1.983213e+05  ['0x6691dbb44154a9f23f8357c56fc9ff5548a8bdc4']   \n",
       "..                 ...                                             ...   \n",
       "127       9.972303e+04                                            None   \n",
       "128       1.189152e+06  ['0x6691dbb44154a9f23f8357c56fc9ff5548a8bdc4']   \n",
       "129       1.149110e+06                                            None   \n",
       "130       1.060914e+06                                            None   \n",
       "131       3.183574e+05  ['0x6691dbb44154a9f23f8357c56fc9ff5548a8bdc4']   \n",
       "\n",
       "     percent_exclude_threshold aggregator_name  \\\n",
       "0                         50.0            Odos   \n",
       "1                         50.0            Odos   \n",
       "2                         50.0            Odos   \n",
       "3                         50.0            Odos   \n",
       "4                         50.0            Odos   \n",
       "..                         ...             ...   \n",
       "127                       50.0            Odos   \n",
       "128                       50.0            Odos   \n",
       "129                       50.0            4626   \n",
       "130                       50.0            4626   \n",
       "131                       50.0            Odos   \n",
       "\n",
       "                   datetime_received  quote_batch size_factor  \\\n",
       "0   2025-08-12 16:40:44.587848+00:00           34    absolute   \n",
       "1   2025-08-12 16:40:52.315309+00:00           34    absolute   \n",
       "2   2025-08-12 16:43:00.425063+00:00           34    absolute   \n",
       "3   2025-08-12 16:43:06.698511+00:00           34    absolute   \n",
       "4   2025-08-12 16:40:42.754938+00:00           34    absolute   \n",
       "..                               ...          ...         ...   \n",
       "127 2025-08-12 16:43:02.990613+00:00           34    absolute   \n",
       "128 2025-08-12 16:41:23.272728+00:00           34    absolute   \n",
       "129 2025-08-12 16:44:19.174530+00:00           34    absolute   \n",
       "130 2025-08-12 16:44:11.496365+00:00           34    absolute   \n",
       "131 2025-08-12 16:40:45.072148+00:00           34    absolute   \n",
       "\n",
       "                                       id buy_token_symbol sell_token_symbol  \\\n",
       "0    19fd689a-fd73-4ca4-b2ef-a180ac6ff17e             DOLA             sDOLA   \n",
       "1    37f3738b-7ad0-432c-a636-98631e8e0780             DOLA             reUSD   \n",
       "2    52954a78-6f59-40ba-91d2-4663fef7b248             DOLA             reUSD   \n",
       "3    d8aed3eb-2357-4e5a-82a3-973c26135ea6             DOLA             deUSD   \n",
       "4    605062e5-c065-41e6-adf6-a0e9f2b31d06             DOLA             reUSD   \n",
       "..                                    ...              ...               ...   \n",
       "127  05ef6f42-c693-43a8-b5db-02046f91d29f             DOLA             alUSD   \n",
       "128  ecee4953-8587-493a-bd04-47b4f83bcbdb             DOLA             sUSDe   \n",
       "129  637e6195-10c7-4568-bcac-d47f0e5d08c8             DOLA             sDOLA   \n",
       "130  4888b01a-34e8-4d78-9ffb-4e6372fcdaa6             DOLA           scrvUSD   \n",
       "131  6fc75882-912a-4308-9d8a-599f0ca9ac3e             DOLA           scrvUSD   \n",
       "\n",
       "     effective_price  reference_price              label  slippage_bps  \n",
       "0           1.149110         1.149110       sDOLA - odos         -0.01  \n",
       "1           0.991363         0.992163       reUSD - odos         -8.06  \n",
       "2           0.991726         0.992163    reUSD - tokemak         -4.40  \n",
       "3           1.001565         1.002169    deUSD - tokemak         -6.04  \n",
       "4           0.991606         0.992163       reUSD - odos         -5.61  \n",
       "..               ...              ...                ...           ...  \n",
       "127         0.997230         0.997508    alUSD - tokemak         -2.78  \n",
       "128         1.189152         1.192679       sUSDe - odos        -29.58  \n",
       "129         1.149110         1.149110    sDOLA - tokemak          0.00  \n",
       "130         1.060914         1.061444  scrvUSD - tokemak         -5.00  \n",
       "131         1.061191         1.061444     scrvUSD - odos         -2.38  \n",
       "\n",
       "[132 rows x 20 columns]"
      ]
     },
     "execution_count": 38,
     "metadata": {},
     "output_type": "execute_result"
    }
   ],
   "source": [
    "from mainnet_launch.pages.risk_metrics.exit_liqudity_quotes import (\n",
    "    _pick_a_quote_batch,\n",
    "    _load_full_quote_batch_df,\n",
    "    _augment_swap_quotes_df,\n",
    ")\n",
    "\n",
    "import plotly.express as px\n",
    "import streamlit as st\n",
    "import plotly.io as pio\n",
    "import pandas as pd\n",
    "\n",
    "pio.templates.default = \"plotly_white\"\n",
    "\n",
    "from mainnet_launch.constants import *\n",
    "\n",
    "from mainnet_launch.database.schema.full import Destinations, AutopoolDestinations, Tokens, SwapQuote\n",
    "from mainnet_launch.database.schema.postgres_operations import (\n",
    "    get_full_table_as_df,\n",
    "    get_highest_value_in_field_where,\n",
    ")\n",
    "\n",
    "from mainnet_launch.pages.risk_metrics.drop_down import render_pick_chain_and_base_asset_dropdown\n",
    "\n",
    "\n",
    "chain, base_asset, _ = render_pick_chain_and_base_asset_dropdown()\n",
    "chain, base_asset = ETH_CHAIN, DOLA\n",
    "quote_batch_number = 34\n",
    "full_quote_batch_df = _load_full_quote_batch_df(quote_batch_number)\n",
    "\n",
    "st.write(\"Options for this quote batch:\")\n",
    "# st.dataframe(full_quote_batch_df.groupby([\"chain_id\", \"base_asset\"]).size().reset_index(name=\"count\"))\n",
    "\n",
    "swap_quotes_df = full_quote_batch_df[\n",
    "    (full_quote_batch_df[\"chain_id\"] == chain.chain_id) & (full_quote_batch_df[\"base_asset\"] == base_asset(chain))\n",
    "].reset_index(drop=True)\n",
    "\n",
    "_augment_swap_quotes_df(swap_quotes_df)\n",
    "swap_quotes_df"
   ]
  },
  {
   "cell_type": "code",
   "execution_count": null,
   "metadata": {},
   "outputs": [
    {
     "data": {
      "application/vnd.plotly.v1+json": {
       "config": {
        "plotlyServerURL": "https://plot.ly"
       },
       "data": [
        {
         "hovertemplate": "label=alUSD - odos<br>scaled_amount_in=%{x}<br>slippage_bps=%{y}<extra></extra>",
         "legendgroup": "alUSD - odos",
         "line": {
          "color": "#636efa",
          "dash": "dash"
         },
         "marker": {
          "size": 8,
          "symbol": "x"
         },
         "mode": "lines+markers",
         "name": "alUSD - odos",
         "orientation": "v",
         "showlegend": true,
         "type": "scatter",
         "x": [
          10000,
          100000,
          200000,
          300000,
          400000,
          500000,
          600000,
          700000,
          800000,
          900000,
          1000000
         ],
         "xaxis": "x",
         "y": [
          0,
          -2.78,
          -6.13,
          -6.93,
          -8.7,
          -10.5,
          -12.33,
          -14.22,
          -16.18,
          -18.17,
          -20.26
         ],
         "yaxis": "y"
        },
        {
         "hovertemplate": "label=deUSD - odos<br>scaled_amount_in=%{x}<br>slippage_bps=%{y}<extra></extra>",
         "legendgroup": "deUSD - odos",
         "line": {
          "color": "#EF553B",
          "dash": "dash"
         },
         "marker": {
          "size": 8,
          "symbol": "x"
         },
         "mode": "lines+markers",
         "name": "deUSD - odos",
         "orientation": "v",
         "showlegend": true,
         "type": "scatter",
         "x": [
          10000,
          100000,
          200000,
          300000,
          400000,
          500000,
          600000,
          700000,
          800000,
          900000,
          1000000
         ],
         "xaxis": "x",
         "y": [
          0,
          -3.28,
          -4.01,
          -5.17,
          -5.92,
          -6.42,
          -7.46,
          -8.33,
          -9.19,
          -9.84,
          -10.75
         ],
         "yaxis": "y"
        },
        {
         "hovertemplate": "label=reUSD - odos<br>scaled_amount_in=%{x}<br>slippage_bps=%{y}<extra></extra>",
         "legendgroup": "reUSD - odos",
         "line": {
          "color": "#00cc96",
          "dash": "dash"
         },
         "marker": {
          "size": 8,
          "symbol": "x"
         },
         "mode": "lines+markers",
         "name": "reUSD - odos",
         "orientation": "v",
         "showlegend": true,
         "type": "scatter",
         "x": [
          10000,
          100000,
          200000,
          300000,
          400000,
          500000,
          600000,
          700000,
          800000,
          900000,
          1000000
         ],
         "xaxis": "x",
         "y": [
          0,
          -4.4,
          -5.61,
          -6.87,
          -8.06,
          -9.22,
          -10.19,
          -11.08,
          -12.11,
          -13.13,
          -14.15
         ],
         "yaxis": "y"
        },
        {
         "hovertemplate": "label=sDOLA - odos<br>scaled_amount_in=%{x}<br>slippage_bps=%{y}<extra></extra>",
         "legendgroup": "sDOLA - odos",
         "line": {
          "color": "#ab63fa",
          "dash": "dash"
         },
         "marker": {
          "size": 8,
          "symbol": "x"
         },
         "mode": "lines+markers",
         "name": "sDOLA - odos",
         "orientation": "v",
         "showlegend": true,
         "type": "scatter",
         "x": [
          10000,
          100000,
          200000,
          300000,
          400000,
          500000,
          600000,
          700000,
          800000,
          900000,
          1000000
         ],
         "xaxis": "x",
         "y": [
          -0.01,
          -0.01,
          -0.01,
          -0.01,
          -0.01,
          -0.01,
          -0.01,
          -0.01,
          -0.01,
          -0.01,
          -0.01
         ],
         "yaxis": "y"
        },
        {
         "hovertemplate": "label=sUSDe - odos<br>scaled_amount_in=%{x}<br>slippage_bps=%{y}<extra></extra>",
         "legendgroup": "sUSDe - odos",
         "line": {
          "color": "#FFA15A",
          "dash": "dash"
         },
         "marker": {
          "size": 8,
          "symbol": "x"
         },
         "mode": "lines+markers",
         "name": "sUSDe - odos",
         "orientation": "v",
         "showlegend": true,
         "type": "scatter",
         "x": [
          10000,
          100000,
          200000,
          300000,
          400000,
          500000,
          600000,
          700000,
          800000,
          900000,
          1000000
         ],
         "xaxis": "x",
         "y": [
          -25.45,
          -26.75,
          -26.74,
          -26.42,
          -27.12,
          -27.78,
          -28.12,
          -28.47,
          -28.82,
          -29.23,
          -29.58
         ],
         "yaxis": "y"
        },
        {
         "hovertemplate": "label=scrvUSD - odos<br>scaled_amount_in=%{x}<br>slippage_bps=%{y}<extra></extra>",
         "legendgroup": "scrvUSD - odos",
         "line": {
          "color": "#19d3f3",
          "dash": "dash"
         },
         "marker": {
          "size": 8,
          "symbol": "x"
         },
         "mode": "lines+markers",
         "name": "scrvUSD - odos",
         "orientation": "v",
         "showlegend": true,
         "type": "scatter",
         "x": [
          10000,
          100000,
          200000,
          300000,
          400000,
          500000,
          600000,
          700000,
          800000,
          900000,
          1000000
         ],
         "xaxis": "x",
         "y": [
          0,
          -1.23,
          -1.74,
          -2.38,
          -3,
          -3.6,
          -4,
          -4.52,
          -5.04,
          -5.54,
          -6.03
         ],
         "yaxis": "y"
        }
       ],
       "layout": {
        "legend": {
         "title": {
          "text": "label"
         },
         "tracegroupgap": 0
        },
        "margin": {
         "t": 60
        },
        "template": {
         "data": {
          "bar": [
           {
            "error_x": {
             "color": "#2a3f5f"
            },
            "error_y": {
             "color": "#2a3f5f"
            },
            "marker": {
             "line": {
              "color": "white",
              "width": 0.5
             },
             "pattern": {
              "fillmode": "overlay",
              "size": 10,
              "solidity": 0.2
             }
            },
            "type": "bar"
           }
          ],
          "barpolar": [
           {
            "marker": {
             "line": {
              "color": "white",
              "width": 0.5
             },
             "pattern": {
              "fillmode": "overlay",
              "size": 10,
              "solidity": 0.2
             }
            },
            "type": "barpolar"
           }
          ],
          "carpet": [
           {
            "aaxis": {
             "endlinecolor": "#2a3f5f",
             "gridcolor": "#C8D4E3",
             "linecolor": "#C8D4E3",
             "minorgridcolor": "#C8D4E3",
             "startlinecolor": "#2a3f5f"
            },
            "baxis": {
             "endlinecolor": "#2a3f5f",
             "gridcolor": "#C8D4E3",
             "linecolor": "#C8D4E3",
             "minorgridcolor": "#C8D4E3",
             "startlinecolor": "#2a3f5f"
            },
            "type": "carpet"
           }
          ],
          "choropleth": [
           {
            "colorbar": {
             "outlinewidth": 0,
             "ticks": ""
            },
            "type": "choropleth"
           }
          ],
          "contour": [
           {
            "colorbar": {
             "outlinewidth": 0,
             "ticks": ""
            },
            "colorscale": [
             [
              0,
              "#0d0887"
             ],
             [
              0.1111111111111111,
              "#46039f"
             ],
             [
              0.2222222222222222,
              "#7201a8"
             ],
             [
              0.3333333333333333,
              "#9c179e"
             ],
             [
              0.4444444444444444,
              "#bd3786"
             ],
             [
              0.5555555555555556,
              "#d8576b"
             ],
             [
              0.6666666666666666,
              "#ed7953"
             ],
             [
              0.7777777777777778,
              "#fb9f3a"
             ],
             [
              0.8888888888888888,
              "#fdca26"
             ],
             [
              1,
              "#f0f921"
             ]
            ],
            "type": "contour"
           }
          ],
          "contourcarpet": [
           {
            "colorbar": {
             "outlinewidth": 0,
             "ticks": ""
            },
            "type": "contourcarpet"
           }
          ],
          "heatmap": [
           {
            "colorbar": {
             "outlinewidth": 0,
             "ticks": ""
            },
            "colorscale": [
             [
              0,
              "#0d0887"
             ],
             [
              0.1111111111111111,
              "#46039f"
             ],
             [
              0.2222222222222222,
              "#7201a8"
             ],
             [
              0.3333333333333333,
              "#9c179e"
             ],
             [
              0.4444444444444444,
              "#bd3786"
             ],
             [
              0.5555555555555556,
              "#d8576b"
             ],
             [
              0.6666666666666666,
              "#ed7953"
             ],
             [
              0.7777777777777778,
              "#fb9f3a"
             ],
             [
              0.8888888888888888,
              "#fdca26"
             ],
             [
              1,
              "#f0f921"
             ]
            ],
            "type": "heatmap"
           }
          ],
          "heatmapgl": [
           {
            "colorbar": {
             "outlinewidth": 0,
             "ticks": ""
            },
            "colorscale": [
             [
              0,
              "#0d0887"
             ],
             [
              0.1111111111111111,
              "#46039f"
             ],
             [
              0.2222222222222222,
              "#7201a8"
             ],
             [
              0.3333333333333333,
              "#9c179e"
             ],
             [
              0.4444444444444444,
              "#bd3786"
             ],
             [
              0.5555555555555556,
              "#d8576b"
             ],
             [
              0.6666666666666666,
              "#ed7953"
             ],
             [
              0.7777777777777778,
              "#fb9f3a"
             ],
             [
              0.8888888888888888,
              "#fdca26"
             ],
             [
              1,
              "#f0f921"
             ]
            ],
            "type": "heatmapgl"
           }
          ],
          "histogram": [
           {
            "marker": {
             "pattern": {
              "fillmode": "overlay",
              "size": 10,
              "solidity": 0.2
             }
            },
            "type": "histogram"
           }
          ],
          "histogram2d": [
           {
            "colorbar": {
             "outlinewidth": 0,
             "ticks": ""
            },
            "colorscale": [
             [
              0,
              "#0d0887"
             ],
             [
              0.1111111111111111,
              "#46039f"
             ],
             [
              0.2222222222222222,
              "#7201a8"
             ],
             [
              0.3333333333333333,
              "#9c179e"
             ],
             [
              0.4444444444444444,
              "#bd3786"
             ],
             [
              0.5555555555555556,
              "#d8576b"
             ],
             [
              0.6666666666666666,
              "#ed7953"
             ],
             [
              0.7777777777777778,
              "#fb9f3a"
             ],
             [
              0.8888888888888888,
              "#fdca26"
             ],
             [
              1,
              "#f0f921"
             ]
            ],
            "type": "histogram2d"
           }
          ],
          "histogram2dcontour": [
           {
            "colorbar": {
             "outlinewidth": 0,
             "ticks": ""
            },
            "colorscale": [
             [
              0,
              "#0d0887"
             ],
             [
              0.1111111111111111,
              "#46039f"
             ],
             [
              0.2222222222222222,
              "#7201a8"
             ],
             [
              0.3333333333333333,
              "#9c179e"
             ],
             [
              0.4444444444444444,
              "#bd3786"
             ],
             [
              0.5555555555555556,
              "#d8576b"
             ],
             [
              0.6666666666666666,
              "#ed7953"
             ],
             [
              0.7777777777777778,
              "#fb9f3a"
             ],
             [
              0.8888888888888888,
              "#fdca26"
             ],
             [
              1,
              "#f0f921"
             ]
            ],
            "type": "histogram2dcontour"
           }
          ],
          "mesh3d": [
           {
            "colorbar": {
             "outlinewidth": 0,
             "ticks": ""
            },
            "type": "mesh3d"
           }
          ],
          "parcoords": [
           {
            "line": {
             "colorbar": {
              "outlinewidth": 0,
              "ticks": ""
             }
            },
            "type": "parcoords"
           }
          ],
          "pie": [
           {
            "automargin": true,
            "type": "pie"
           }
          ],
          "scatter": [
           {
            "fillpattern": {
             "fillmode": "overlay",
             "size": 10,
             "solidity": 0.2
            },
            "type": "scatter"
           }
          ],
          "scatter3d": [
           {
            "line": {
             "colorbar": {
              "outlinewidth": 0,
              "ticks": ""
             }
            },
            "marker": {
             "colorbar": {
              "outlinewidth": 0,
              "ticks": ""
             }
            },
            "type": "scatter3d"
           }
          ],
          "scattercarpet": [
           {
            "marker": {
             "colorbar": {
              "outlinewidth": 0,
              "ticks": ""
             }
            },
            "type": "scattercarpet"
           }
          ],
          "scattergeo": [
           {
            "marker": {
             "colorbar": {
              "outlinewidth": 0,
              "ticks": ""
             }
            },
            "type": "scattergeo"
           }
          ],
          "scattergl": [
           {
            "marker": {
             "colorbar": {
              "outlinewidth": 0,
              "ticks": ""
             }
            },
            "type": "scattergl"
           }
          ],
          "scattermapbox": [
           {
            "marker": {
             "colorbar": {
              "outlinewidth": 0,
              "ticks": ""
             }
            },
            "type": "scattermapbox"
           }
          ],
          "scatterpolar": [
           {
            "marker": {
             "colorbar": {
              "outlinewidth": 0,
              "ticks": ""
             }
            },
            "type": "scatterpolar"
           }
          ],
          "scatterpolargl": [
           {
            "marker": {
             "colorbar": {
              "outlinewidth": 0,
              "ticks": ""
             }
            },
            "type": "scatterpolargl"
           }
          ],
          "scatterternary": [
           {
            "marker": {
             "colorbar": {
              "outlinewidth": 0,
              "ticks": ""
             }
            },
            "type": "scatterternary"
           }
          ],
          "surface": [
           {
            "colorbar": {
             "outlinewidth": 0,
             "ticks": ""
            },
            "colorscale": [
             [
              0,
              "#0d0887"
             ],
             [
              0.1111111111111111,
              "#46039f"
             ],
             [
              0.2222222222222222,
              "#7201a8"
             ],
             [
              0.3333333333333333,
              "#9c179e"
             ],
             [
              0.4444444444444444,
              "#bd3786"
             ],
             [
              0.5555555555555556,
              "#d8576b"
             ],
             [
              0.6666666666666666,
              "#ed7953"
             ],
             [
              0.7777777777777778,
              "#fb9f3a"
             ],
             [
              0.8888888888888888,
              "#fdca26"
             ],
             [
              1,
              "#f0f921"
             ]
            ],
            "type": "surface"
           }
          ],
          "table": [
           {
            "cells": {
             "fill": {
              "color": "#EBF0F8"
             },
             "line": {
              "color": "white"
             }
            },
            "header": {
             "fill": {
              "color": "#C8D4E3"
             },
             "line": {
              "color": "white"
             }
            },
            "type": "table"
           }
          ]
         },
         "layout": {
          "annotationdefaults": {
           "arrowcolor": "#2a3f5f",
           "arrowhead": 0,
           "arrowwidth": 1
          },
          "autotypenumbers": "strict",
          "coloraxis": {
           "colorbar": {
            "outlinewidth": 0,
            "ticks": ""
           }
          },
          "colorscale": {
           "diverging": [
            [
             0,
             "#8e0152"
            ],
            [
             0.1,
             "#c51b7d"
            ],
            [
             0.2,
             "#de77ae"
            ],
            [
             0.3,
             "#f1b6da"
            ],
            [
             0.4,
             "#fde0ef"
            ],
            [
             0.5,
             "#f7f7f7"
            ],
            [
             0.6,
             "#e6f5d0"
            ],
            [
             0.7,
             "#b8e186"
            ],
            [
             0.8,
             "#7fbc41"
            ],
            [
             0.9,
             "#4d9221"
            ],
            [
             1,
             "#276419"
            ]
           ],
           "sequential": [
            [
             0,
             "#0d0887"
            ],
            [
             0.1111111111111111,
             "#46039f"
            ],
            [
             0.2222222222222222,
             "#7201a8"
            ],
            [
             0.3333333333333333,
             "#9c179e"
            ],
            [
             0.4444444444444444,
             "#bd3786"
            ],
            [
             0.5555555555555556,
             "#d8576b"
            ],
            [
             0.6666666666666666,
             "#ed7953"
            ],
            [
             0.7777777777777778,
             "#fb9f3a"
            ],
            [
             0.8888888888888888,
             "#fdca26"
            ],
            [
             1,
             "#f0f921"
            ]
           ],
           "sequentialminus": [
            [
             0,
             "#0d0887"
            ],
            [
             0.1111111111111111,
             "#46039f"
            ],
            [
             0.2222222222222222,
             "#7201a8"
            ],
            [
             0.3333333333333333,
             "#9c179e"
            ],
            [
             0.4444444444444444,
             "#bd3786"
            ],
            [
             0.5555555555555556,
             "#d8576b"
            ],
            [
             0.6666666666666666,
             "#ed7953"
            ],
            [
             0.7777777777777778,
             "#fb9f3a"
            ],
            [
             0.8888888888888888,
             "#fdca26"
            ],
            [
             1,
             "#f0f921"
            ]
           ]
          },
          "colorway": [
           "#636efa",
           "#EF553B",
           "#00cc96",
           "#ab63fa",
           "#FFA15A",
           "#19d3f3",
           "#FF6692",
           "#B6E880",
           "#FF97FF",
           "#FECB52"
          ],
          "font": {
           "color": "#2a3f5f"
          },
          "geo": {
           "bgcolor": "white",
           "lakecolor": "white",
           "landcolor": "white",
           "showlakes": true,
           "showland": true,
           "subunitcolor": "#C8D4E3"
          },
          "hoverlabel": {
           "align": "left"
          },
          "hovermode": "closest",
          "mapbox": {
           "style": "light"
          },
          "paper_bgcolor": "white",
          "plot_bgcolor": "white",
          "polar": {
           "angularaxis": {
            "gridcolor": "#EBF0F8",
            "linecolor": "#EBF0F8",
            "ticks": ""
           },
           "bgcolor": "white",
           "radialaxis": {
            "gridcolor": "#EBF0F8",
            "linecolor": "#EBF0F8",
            "ticks": ""
           }
          },
          "scene": {
           "xaxis": {
            "backgroundcolor": "white",
            "gridcolor": "#DFE8F3",
            "gridwidth": 2,
            "linecolor": "#EBF0F8",
            "showbackground": true,
            "ticks": "",
            "zerolinecolor": "#EBF0F8"
           },
           "yaxis": {
            "backgroundcolor": "white",
            "gridcolor": "#DFE8F3",
            "gridwidth": 2,
            "linecolor": "#EBF0F8",
            "showbackground": true,
            "ticks": "",
            "zerolinecolor": "#EBF0F8"
           },
           "zaxis": {
            "backgroundcolor": "white",
            "gridcolor": "#DFE8F3",
            "gridwidth": 2,
            "linecolor": "#EBF0F8",
            "showbackground": true,
            "ticks": "",
            "zerolinecolor": "#EBF0F8"
           }
          },
          "shapedefaults": {
           "line": {
            "color": "#2a3f5f"
           }
          },
          "ternary": {
           "aaxis": {
            "gridcolor": "#DFE8F3",
            "linecolor": "#A2B1C6",
            "ticks": ""
           },
           "baxis": {
            "gridcolor": "#DFE8F3",
            "linecolor": "#A2B1C6",
            "ticks": ""
           },
           "bgcolor": "white",
           "caxis": {
            "gridcolor": "#DFE8F3",
            "linecolor": "#A2B1C6",
            "ticks": ""
           }
          },
          "title": {
           "x": 0.05
          },
          "xaxis": {
           "automargin": true,
           "gridcolor": "#EBF0F8",
           "linecolor": "#EBF0F8",
           "ticks": "",
           "title": {
            "standoff": 15
           },
           "zerolinecolor": "#EBF0F8",
           "zerolinewidth": 2
          },
          "yaxis": {
           "automargin": true,
           "gridcolor": "#EBF0F8",
           "linecolor": "#EBF0F8",
           "ticks": "",
           "title": {
            "standoff": 15
           },
           "zerolinecolor": "#EBF0F8",
           "zerolinewidth": 2
          }
         }
        },
        "title": {
         "text": "odos: Slippage vs Amount Sold"
        },
        "xaxis": {
         "anchor": "y",
         "domain": [
          0,
          1
         ],
         "title": {
          "text": "scaled_amount_in"
         }
        },
        "yaxis": {
         "anchor": "x",
         "domain": [
          0,
          1
         ],
         "title": {
          "text": "slippage_bps"
         }
        }
       }
      }
     },
     "metadata": {},
     "output_type": "display_data"
    },
    {
     "data": {
      "application/vnd.plotly.v1+json": {
       "config": {
        "plotlyServerURL": "https://plot.ly"
       },
       "data": [
        {
         "hovertemplate": "label=alUSD - tokemak<br>scaled_amount_in=%{x}<br>slippage_bps=%{y}<extra></extra>",
         "legendgroup": "alUSD - tokemak",
         "line": {
          "color": "#636efa",
          "dash": "dash"
         },
         "marker": {
          "size": 8,
          "symbol": "x"
         },
         "mode": "lines+markers",
         "name": "alUSD - tokemak",
         "orientation": "v",
         "showlegend": true,
         "type": "scatter",
         "x": [
          10000,
          100000,
          200000,
          300000,
          400000,
          500000,
          600000,
          700000,
          800000,
          900000,
          1000000
         ],
         "xaxis": "x",
         "y": [
          0,
          -2.78,
          -6.13,
          -6.93,
          -8.7,
          -10.5,
          -12.33,
          -14.22,
          -16.18,
          -18.17,
          -20.26
         ],
         "yaxis": "y"
        },
        {
         "hovertemplate": "label=deUSD - tokemak<br>scaled_amount_in=%{x}<br>slippage_bps=%{y}<extra></extra>",
         "legendgroup": "deUSD - tokemak",
         "line": {
          "color": "#EF553B",
          "dash": "dash"
         },
         "marker": {
          "size": 8,
          "symbol": "x"
         },
         "mode": "lines+markers",
         "name": "deUSD - tokemak",
         "orientation": "v",
         "showlegend": true,
         "type": "scatter",
         "x": [
          10000,
          100000,
          200000,
          300000,
          400000,
          500000,
          600000,
          700000,
          800000,
          900000,
          1000000
         ],
         "xaxis": "x",
         "y": [
          0,
          -4.94,
          -6.04,
          -7.36,
          -8.52,
          -9.82,
          -11.09,
          -12.35,
          -13.61,
          -14.89,
          -16.19
         ],
         "yaxis": "y"
        },
        {
         "hovertemplate": "label=reUSD - tokemak<br>scaled_amount_in=%{x}<br>slippage_bps=%{y}<extra></extra>",
         "legendgroup": "reUSD - tokemak",
         "line": {
          "color": "#00cc96",
          "dash": "dash"
         },
         "marker": {
          "size": 8,
          "symbol": "x"
         },
         "mode": "lines+markers",
         "name": "reUSD - tokemak",
         "orientation": "v",
         "showlegend": true,
         "type": "scatter",
         "x": [
          10000,
          100000,
          200000,
          300000,
          400000,
          500000,
          600000,
          700000,
          800000,
          900000,
          1000000
         ],
         "xaxis": "x",
         "y": [
          0,
          -4.4,
          -5.61,
          -6.87,
          -8.06,
          -9.22,
          -10.19,
          -11.08,
          -12.11,
          -13.13,
          -14.15
         ],
         "yaxis": "y"
        },
        {
         "hovertemplate": "label=sDOLA - tokemak<br>scaled_amount_in=%{x}<br>slippage_bps=%{y}<extra></extra>",
         "legendgroup": "sDOLA - tokemak",
         "line": {
          "color": "#ab63fa",
          "dash": "dash"
         },
         "marker": {
          "size": 8,
          "symbol": "x"
         },
         "mode": "lines+markers",
         "name": "sDOLA - tokemak",
         "orientation": "v",
         "showlegend": true,
         "type": "scatter",
         "x": [
          10000,
          100000,
          200000,
          300000,
          400000,
          500000,
          600000,
          700000,
          800000,
          900000,
          1000000
         ],
         "xaxis": "x",
         "y": [
          0,
          0,
          0,
          0,
          0,
          0,
          0,
          0,
          0,
          0,
          0
         ],
         "yaxis": "y"
        },
        {
         "hovertemplate": "label=sUSDe - tokemak<br>scaled_amount_in=%{x}<br>slippage_bps=%{y}<extra></extra>",
         "legendgroup": "sUSDe - tokemak",
         "line": {
          "color": "#FFA15A",
          "dash": "dash"
         },
         "marker": {
          "size": 8,
          "symbol": "x"
         },
         "mode": "lines+markers",
         "name": "sUSDe - tokemak",
         "orientation": "v",
         "showlegend": true,
         "type": "scatter",
         "x": [
          10000,
          100000,
          200000,
          300000,
          400000,
          500000,
          600000,
          700000,
          800000,
          900000,
          1000000
         ],
         "xaxis": "x",
         "y": [
          0,
          -5.18,
          -4.59,
          -5.27,
          -5.92,
          -6.54,
          -6.19,
          -6.59,
          -6.97,
          -7.34,
          -7.93
         ],
         "yaxis": "y"
        },
        {
         "hovertemplate": "label=scrvUSD - tokemak<br>scaled_amount_in=%{x}<br>slippage_bps=%{y}<extra></extra>",
         "legendgroup": "scrvUSD - tokemak",
         "line": {
          "color": "#19d3f3",
          "dash": "dash"
         },
         "marker": {
          "size": 8,
          "symbol": "x"
         },
         "mode": "lines+markers",
         "name": "scrvUSD - tokemak",
         "orientation": "v",
         "showlegend": true,
         "type": "scatter",
         "x": [
          10000,
          100000,
          200000,
          300000,
          400000,
          500000,
          600000,
          700000,
          800000,
          900000,
          1000000
         ],
         "xaxis": "x",
         "y": [
          0,
          -1.23,
          -1.74,
          -2.38,
          -3,
          -3.59,
          -4,
          -4.05,
          -4.47,
          -5.32,
          -5
         ],
         "yaxis": "y"
        }
       ],
       "layout": {
        "legend": {
         "title": {
          "text": "label"
         },
         "tracegroupgap": 0
        },
        "margin": {
         "t": 60
        },
        "template": {
         "data": {
          "bar": [
           {
            "error_x": {
             "color": "#2a3f5f"
            },
            "error_y": {
             "color": "#2a3f5f"
            },
            "marker": {
             "line": {
              "color": "white",
              "width": 0.5
             },
             "pattern": {
              "fillmode": "overlay",
              "size": 10,
              "solidity": 0.2
             }
            },
            "type": "bar"
           }
          ],
          "barpolar": [
           {
            "marker": {
             "line": {
              "color": "white",
              "width": 0.5
             },
             "pattern": {
              "fillmode": "overlay",
              "size": 10,
              "solidity": 0.2
             }
            },
            "type": "barpolar"
           }
          ],
          "carpet": [
           {
            "aaxis": {
             "endlinecolor": "#2a3f5f",
             "gridcolor": "#C8D4E3",
             "linecolor": "#C8D4E3",
             "minorgridcolor": "#C8D4E3",
             "startlinecolor": "#2a3f5f"
            },
            "baxis": {
             "endlinecolor": "#2a3f5f",
             "gridcolor": "#C8D4E3",
             "linecolor": "#C8D4E3",
             "minorgridcolor": "#C8D4E3",
             "startlinecolor": "#2a3f5f"
            },
            "type": "carpet"
           }
          ],
          "choropleth": [
           {
            "colorbar": {
             "outlinewidth": 0,
             "ticks": ""
            },
            "type": "choropleth"
           }
          ],
          "contour": [
           {
            "colorbar": {
             "outlinewidth": 0,
             "ticks": ""
            },
            "colorscale": [
             [
              0,
              "#0d0887"
             ],
             [
              0.1111111111111111,
              "#46039f"
             ],
             [
              0.2222222222222222,
              "#7201a8"
             ],
             [
              0.3333333333333333,
              "#9c179e"
             ],
             [
              0.4444444444444444,
              "#bd3786"
             ],
             [
              0.5555555555555556,
              "#d8576b"
             ],
             [
              0.6666666666666666,
              "#ed7953"
             ],
             [
              0.7777777777777778,
              "#fb9f3a"
             ],
             [
              0.8888888888888888,
              "#fdca26"
             ],
             [
              1,
              "#f0f921"
             ]
            ],
            "type": "contour"
           }
          ],
          "contourcarpet": [
           {
            "colorbar": {
             "outlinewidth": 0,
             "ticks": ""
            },
            "type": "contourcarpet"
           }
          ],
          "heatmap": [
           {
            "colorbar": {
             "outlinewidth": 0,
             "ticks": ""
            },
            "colorscale": [
             [
              0,
              "#0d0887"
             ],
             [
              0.1111111111111111,
              "#46039f"
             ],
             [
              0.2222222222222222,
              "#7201a8"
             ],
             [
              0.3333333333333333,
              "#9c179e"
             ],
             [
              0.4444444444444444,
              "#bd3786"
             ],
             [
              0.5555555555555556,
              "#d8576b"
             ],
             [
              0.6666666666666666,
              "#ed7953"
             ],
             [
              0.7777777777777778,
              "#fb9f3a"
             ],
             [
              0.8888888888888888,
              "#fdca26"
             ],
             [
              1,
              "#f0f921"
             ]
            ],
            "type": "heatmap"
           }
          ],
          "heatmapgl": [
           {
            "colorbar": {
             "outlinewidth": 0,
             "ticks": ""
            },
            "colorscale": [
             [
              0,
              "#0d0887"
             ],
             [
              0.1111111111111111,
              "#46039f"
             ],
             [
              0.2222222222222222,
              "#7201a8"
             ],
             [
              0.3333333333333333,
              "#9c179e"
             ],
             [
              0.4444444444444444,
              "#bd3786"
             ],
             [
              0.5555555555555556,
              "#d8576b"
             ],
             [
              0.6666666666666666,
              "#ed7953"
             ],
             [
              0.7777777777777778,
              "#fb9f3a"
             ],
             [
              0.8888888888888888,
              "#fdca26"
             ],
             [
              1,
              "#f0f921"
             ]
            ],
            "type": "heatmapgl"
           }
          ],
          "histogram": [
           {
            "marker": {
             "pattern": {
              "fillmode": "overlay",
              "size": 10,
              "solidity": 0.2
             }
            },
            "type": "histogram"
           }
          ],
          "histogram2d": [
           {
            "colorbar": {
             "outlinewidth": 0,
             "ticks": ""
            },
            "colorscale": [
             [
              0,
              "#0d0887"
             ],
             [
              0.1111111111111111,
              "#46039f"
             ],
             [
              0.2222222222222222,
              "#7201a8"
             ],
             [
              0.3333333333333333,
              "#9c179e"
             ],
             [
              0.4444444444444444,
              "#bd3786"
             ],
             [
              0.5555555555555556,
              "#d8576b"
             ],
             [
              0.6666666666666666,
              "#ed7953"
             ],
             [
              0.7777777777777778,
              "#fb9f3a"
             ],
             [
              0.8888888888888888,
              "#fdca26"
             ],
             [
              1,
              "#f0f921"
             ]
            ],
            "type": "histogram2d"
           }
          ],
          "histogram2dcontour": [
           {
            "colorbar": {
             "outlinewidth": 0,
             "ticks": ""
            },
            "colorscale": [
             [
              0,
              "#0d0887"
             ],
             [
              0.1111111111111111,
              "#46039f"
             ],
             [
              0.2222222222222222,
              "#7201a8"
             ],
             [
              0.3333333333333333,
              "#9c179e"
             ],
             [
              0.4444444444444444,
              "#bd3786"
             ],
             [
              0.5555555555555556,
              "#d8576b"
             ],
             [
              0.6666666666666666,
              "#ed7953"
             ],
             [
              0.7777777777777778,
              "#fb9f3a"
             ],
             [
              0.8888888888888888,
              "#fdca26"
             ],
             [
              1,
              "#f0f921"
             ]
            ],
            "type": "histogram2dcontour"
           }
          ],
          "mesh3d": [
           {
            "colorbar": {
             "outlinewidth": 0,
             "ticks": ""
            },
            "type": "mesh3d"
           }
          ],
          "parcoords": [
           {
            "line": {
             "colorbar": {
              "outlinewidth": 0,
              "ticks": ""
             }
            },
            "type": "parcoords"
           }
          ],
          "pie": [
           {
            "automargin": true,
            "type": "pie"
           }
          ],
          "scatter": [
           {
            "fillpattern": {
             "fillmode": "overlay",
             "size": 10,
             "solidity": 0.2
            },
            "type": "scatter"
           }
          ],
          "scatter3d": [
           {
            "line": {
             "colorbar": {
              "outlinewidth": 0,
              "ticks": ""
             }
            },
            "marker": {
             "colorbar": {
              "outlinewidth": 0,
              "ticks": ""
             }
            },
            "type": "scatter3d"
           }
          ],
          "scattercarpet": [
           {
            "marker": {
             "colorbar": {
              "outlinewidth": 0,
              "ticks": ""
             }
            },
            "type": "scattercarpet"
           }
          ],
          "scattergeo": [
           {
            "marker": {
             "colorbar": {
              "outlinewidth": 0,
              "ticks": ""
             }
            },
            "type": "scattergeo"
           }
          ],
          "scattergl": [
           {
            "marker": {
             "colorbar": {
              "outlinewidth": 0,
              "ticks": ""
             }
            },
            "type": "scattergl"
           }
          ],
          "scattermapbox": [
           {
            "marker": {
             "colorbar": {
              "outlinewidth": 0,
              "ticks": ""
             }
            },
            "type": "scattermapbox"
           }
          ],
          "scatterpolar": [
           {
            "marker": {
             "colorbar": {
              "outlinewidth": 0,
              "ticks": ""
             }
            },
            "type": "scatterpolar"
           }
          ],
          "scatterpolargl": [
           {
            "marker": {
             "colorbar": {
              "outlinewidth": 0,
              "ticks": ""
             }
            },
            "type": "scatterpolargl"
           }
          ],
          "scatterternary": [
           {
            "marker": {
             "colorbar": {
              "outlinewidth": 0,
              "ticks": ""
             }
            },
            "type": "scatterternary"
           }
          ],
          "surface": [
           {
            "colorbar": {
             "outlinewidth": 0,
             "ticks": ""
            },
            "colorscale": [
             [
              0,
              "#0d0887"
             ],
             [
              0.1111111111111111,
              "#46039f"
             ],
             [
              0.2222222222222222,
              "#7201a8"
             ],
             [
              0.3333333333333333,
              "#9c179e"
             ],
             [
              0.4444444444444444,
              "#bd3786"
             ],
             [
              0.5555555555555556,
              "#d8576b"
             ],
             [
              0.6666666666666666,
              "#ed7953"
             ],
             [
              0.7777777777777778,
              "#fb9f3a"
             ],
             [
              0.8888888888888888,
              "#fdca26"
             ],
             [
              1,
              "#f0f921"
             ]
            ],
            "type": "surface"
           }
          ],
          "table": [
           {
            "cells": {
             "fill": {
              "color": "#EBF0F8"
             },
             "line": {
              "color": "white"
             }
            },
            "header": {
             "fill": {
              "color": "#C8D4E3"
             },
             "line": {
              "color": "white"
             }
            },
            "type": "table"
           }
          ]
         },
         "layout": {
          "annotationdefaults": {
           "arrowcolor": "#2a3f5f",
           "arrowhead": 0,
           "arrowwidth": 1
          },
          "autotypenumbers": "strict",
          "coloraxis": {
           "colorbar": {
            "outlinewidth": 0,
            "ticks": ""
           }
          },
          "colorscale": {
           "diverging": [
            [
             0,
             "#8e0152"
            ],
            [
             0.1,
             "#c51b7d"
            ],
            [
             0.2,
             "#de77ae"
            ],
            [
             0.3,
             "#f1b6da"
            ],
            [
             0.4,
             "#fde0ef"
            ],
            [
             0.5,
             "#f7f7f7"
            ],
            [
             0.6,
             "#e6f5d0"
            ],
            [
             0.7,
             "#b8e186"
            ],
            [
             0.8,
             "#7fbc41"
            ],
            [
             0.9,
             "#4d9221"
            ],
            [
             1,
             "#276419"
            ]
           ],
           "sequential": [
            [
             0,
             "#0d0887"
            ],
            [
             0.1111111111111111,
             "#46039f"
            ],
            [
             0.2222222222222222,
             "#7201a8"
            ],
            [
             0.3333333333333333,
             "#9c179e"
            ],
            [
             0.4444444444444444,
             "#bd3786"
            ],
            [
             0.5555555555555556,
             "#d8576b"
            ],
            [
             0.6666666666666666,
             "#ed7953"
            ],
            [
             0.7777777777777778,
             "#fb9f3a"
            ],
            [
             0.8888888888888888,
             "#fdca26"
            ],
            [
             1,
             "#f0f921"
            ]
           ],
           "sequentialminus": [
            [
             0,
             "#0d0887"
            ],
            [
             0.1111111111111111,
             "#46039f"
            ],
            [
             0.2222222222222222,
             "#7201a8"
            ],
            [
             0.3333333333333333,
             "#9c179e"
            ],
            [
             0.4444444444444444,
             "#bd3786"
            ],
            [
             0.5555555555555556,
             "#d8576b"
            ],
            [
             0.6666666666666666,
             "#ed7953"
            ],
            [
             0.7777777777777778,
             "#fb9f3a"
            ],
            [
             0.8888888888888888,
             "#fdca26"
            ],
            [
             1,
             "#f0f921"
            ]
           ]
          },
          "colorway": [
           "#636efa",
           "#EF553B",
           "#00cc96",
           "#ab63fa",
           "#FFA15A",
           "#19d3f3",
           "#FF6692",
           "#B6E880",
           "#FF97FF",
           "#FECB52"
          ],
          "font": {
           "color": "#2a3f5f"
          },
          "geo": {
           "bgcolor": "white",
           "lakecolor": "white",
           "landcolor": "white",
           "showlakes": true,
           "showland": true,
           "subunitcolor": "#C8D4E3"
          },
          "hoverlabel": {
           "align": "left"
          },
          "hovermode": "closest",
          "mapbox": {
           "style": "light"
          },
          "paper_bgcolor": "white",
          "plot_bgcolor": "white",
          "polar": {
           "angularaxis": {
            "gridcolor": "#EBF0F8",
            "linecolor": "#EBF0F8",
            "ticks": ""
           },
           "bgcolor": "white",
           "radialaxis": {
            "gridcolor": "#EBF0F8",
            "linecolor": "#EBF0F8",
            "ticks": ""
           }
          },
          "scene": {
           "xaxis": {
            "backgroundcolor": "white",
            "gridcolor": "#DFE8F3",
            "gridwidth": 2,
            "linecolor": "#EBF0F8",
            "showbackground": true,
            "ticks": "",
            "zerolinecolor": "#EBF0F8"
           },
           "yaxis": {
            "backgroundcolor": "white",
            "gridcolor": "#DFE8F3",
            "gridwidth": 2,
            "linecolor": "#EBF0F8",
            "showbackground": true,
            "ticks": "",
            "zerolinecolor": "#EBF0F8"
           },
           "zaxis": {
            "backgroundcolor": "white",
            "gridcolor": "#DFE8F3",
            "gridwidth": 2,
            "linecolor": "#EBF0F8",
            "showbackground": true,
            "ticks": "",
            "zerolinecolor": "#EBF0F8"
           }
          },
          "shapedefaults": {
           "line": {
            "color": "#2a3f5f"
           }
          },
          "ternary": {
           "aaxis": {
            "gridcolor": "#DFE8F3",
            "linecolor": "#A2B1C6",
            "ticks": ""
           },
           "baxis": {
            "gridcolor": "#DFE8F3",
            "linecolor": "#A2B1C6",
            "ticks": ""
           },
           "bgcolor": "white",
           "caxis": {
            "gridcolor": "#DFE8F3",
            "linecolor": "#A2B1C6",
            "ticks": ""
           }
          },
          "title": {
           "x": 0.05
          },
          "xaxis": {
           "automargin": true,
           "gridcolor": "#EBF0F8",
           "linecolor": "#EBF0F8",
           "ticks": "",
           "title": {
            "standoff": 15
           },
           "zerolinecolor": "#EBF0F8",
           "zerolinewidth": 2
          },
          "yaxis": {
           "automargin": true,
           "gridcolor": "#EBF0F8",
           "linecolor": "#EBF0F8",
           "ticks": "",
           "title": {
            "standoff": 15
           },
           "zerolinecolor": "#EBF0F8",
           "zerolinewidth": 2
          }
         }
        },
        "title": {
         "text": "tokemak: Slippage vs Amount Sold"
        },
        "xaxis": {
         "anchor": "y",
         "domain": [
          0,
          1
         ],
         "title": {
          "text": "scaled_amount_in"
         }
        },
        "yaxis": {
         "anchor": "x",
         "domain": [
          0,
          1
         ],
         "title": {
          "text": "slippage_bps"
         }
        }
       }
      }
     },
     "metadata": {},
     "output_type": "display_data"
    }
   ],
   "source": [
    "for api_name in [\"odos\", \"tokemak\"]:\n",
    "    local_df = swap_quotes_df[swap_quotes_df[\"api_name\"] == api_name].copy()\n",
    "    local_df = local_df.sort_values([\"label\", \"scaled_amount_in\"])\n",
    "\n",
    "    fig = px.line(\n",
    "        local_df,\n",
    "        x=\"scaled_amount_in\",\n",
    "        y=\"slippage_bps\",\n",
    "        color=\"label\",\n",
    "        markers=True,  # adds markers\n",
    "    )\n",
    "\n",
    "    fig.update_traces(\n",
    "        mode=\"lines+markers\",  # show both\n",
    "        line=dict(dash=\"dash\"),  # dashed lines\n",
    "        marker_symbol=\"x\",  # 'x marks the spot'\n",
    "        marker_size=8,\n",
    "    )\n",
    "\n",
    "    fig.update_layout(\n",
    "        title=f\"{api_name}: Slippage vs Amount Sold\",\n",
    "        xaxis_title=\"scaled_amount_in\",\n",
    "        yaxis_title=\"slippage_bps\",\n",
    "    )\n",
    "    fig.show()"
   ]
  },
  {
   "cell_type": "code",
   "execution_count": 40,
   "metadata": {},
   "outputs": [
    {
     "data": {
      "application/vnd.plotly.v1+json": {
       "config": {
        "plotlyServerURL": "https://plot.ly"
       },
       "data": [
        {
         "hovertemplate": "label=%{text}<br>factor=absolute<br>scaled_amount_in=%{x}<br>effective_price=%{y}<extra></extra>",
         "legendgroup": "alUSD - odos",
         "marker": {
          "color": "#636EFA",
          "line": {
           "width": 0.5
          },
          "size": 7,
          "symbol": "circle"
         },
         "mode": "markers",
         "name": "alUSD - odos (absolute)",
         "text": [
          "alUSD - odos",
          "alUSD - odos",
          "alUSD - odos",
          "alUSD - odos",
          "alUSD - odos",
          "alUSD - odos",
          "alUSD - odos",
          "alUSD - odos",
          "alUSD - odos",
          "alUSD - odos",
          "alUSD - odos"
         ],
         "type": "scatter",
         "x": [
          10000,
          100000,
          200000,
          300000,
          400000,
          500000,
          600000,
          700000,
          800000,
          900000,
          1000000
         ],
         "y": [
          0.9975077082520848,
          0.9972302980766345,
          0.9968965680581419,
          0.9968159509963322,
          0.9966397932042607,
          0.9964602087309216,
          0.9962772520400139,
          0.9960889721591355,
          0.9958941234288452,
          0.9956950893796082,
          0.9954866278304496
         ]
        },
        {
         "hovertemplate": "label=%{text}<br>factor=absolute<br>scaled_amount_in=%{x}<br>effective_price=%{y}<extra></extra>",
         "legendgroup": "alUSD - tokemak",
         "marker": {
          "color": "#EF553B",
          "line": {
           "width": 0.5
          },
          "size": 7,
          "symbol": "circle"
         },
         "mode": "markers",
         "name": "alUSD - tokemak (absolute)",
         "text": [
          "alUSD - tokemak",
          "alUSD - tokemak",
          "alUSD - tokemak",
          "alUSD - tokemak",
          "alUSD - tokemak",
          "alUSD - tokemak",
          "alUSD - tokemak",
          "alUSD - tokemak",
          "alUSD - tokemak",
          "alUSD - tokemak",
          "alUSD - tokemak"
         ],
         "type": "scatter",
         "x": [
          10000,
          100000,
          200000,
          300000,
          400000,
          500000,
          600000,
          700000,
          800000,
          900000,
          1000000
         ],
         "y": [
          0.9975076188539155,
          0.997230300262284,
          0.9968965399545028,
          0.9968159328236909,
          0.9966397947835404,
          0.9964602102976544,
          0.9962772536180636,
          0.9960889579161148,
          0.9958941096217161,
          0.9956953348842023,
          0.9954869185633969
         ]
        }
       ],
       "layout": {
        "legend": {
         "title": {
          "text": "label (factor)"
         }
        },
        "margin": {
         "b": 20,
         "l": 50,
         "r": 20,
         "t": 60
        },
        "template": {
         "data": {
          "bar": [
           {
            "error_x": {
             "color": "#2a3f5f"
            },
            "error_y": {
             "color": "#2a3f5f"
            },
            "marker": {
             "line": {
              "color": "white",
              "width": 0.5
             },
             "pattern": {
              "fillmode": "overlay",
              "size": 10,
              "solidity": 0.2
             }
            },
            "type": "bar"
           }
          ],
          "barpolar": [
           {
            "marker": {
             "line": {
              "color": "white",
              "width": 0.5
             },
             "pattern": {
              "fillmode": "overlay",
              "size": 10,
              "solidity": 0.2
             }
            },
            "type": "barpolar"
           }
          ],
          "carpet": [
           {
            "aaxis": {
             "endlinecolor": "#2a3f5f",
             "gridcolor": "#C8D4E3",
             "linecolor": "#C8D4E3",
             "minorgridcolor": "#C8D4E3",
             "startlinecolor": "#2a3f5f"
            },
            "baxis": {
             "endlinecolor": "#2a3f5f",
             "gridcolor": "#C8D4E3",
             "linecolor": "#C8D4E3",
             "minorgridcolor": "#C8D4E3",
             "startlinecolor": "#2a3f5f"
            },
            "type": "carpet"
           }
          ],
          "choropleth": [
           {
            "colorbar": {
             "outlinewidth": 0,
             "ticks": ""
            },
            "type": "choropleth"
           }
          ],
          "contour": [
           {
            "colorbar": {
             "outlinewidth": 0,
             "ticks": ""
            },
            "colorscale": [
             [
              0,
              "#0d0887"
             ],
             [
              0.1111111111111111,
              "#46039f"
             ],
             [
              0.2222222222222222,
              "#7201a8"
             ],
             [
              0.3333333333333333,
              "#9c179e"
             ],
             [
              0.4444444444444444,
              "#bd3786"
             ],
             [
              0.5555555555555556,
              "#d8576b"
             ],
             [
              0.6666666666666666,
              "#ed7953"
             ],
             [
              0.7777777777777778,
              "#fb9f3a"
             ],
             [
              0.8888888888888888,
              "#fdca26"
             ],
             [
              1,
              "#f0f921"
             ]
            ],
            "type": "contour"
           }
          ],
          "contourcarpet": [
           {
            "colorbar": {
             "outlinewidth": 0,
             "ticks": ""
            },
            "type": "contourcarpet"
           }
          ],
          "heatmap": [
           {
            "colorbar": {
             "outlinewidth": 0,
             "ticks": ""
            },
            "colorscale": [
             [
              0,
              "#0d0887"
             ],
             [
              0.1111111111111111,
              "#46039f"
             ],
             [
              0.2222222222222222,
              "#7201a8"
             ],
             [
              0.3333333333333333,
              "#9c179e"
             ],
             [
              0.4444444444444444,
              "#bd3786"
             ],
             [
              0.5555555555555556,
              "#d8576b"
             ],
             [
              0.6666666666666666,
              "#ed7953"
             ],
             [
              0.7777777777777778,
              "#fb9f3a"
             ],
             [
              0.8888888888888888,
              "#fdca26"
             ],
             [
              1,
              "#f0f921"
             ]
            ],
            "type": "heatmap"
           }
          ],
          "heatmapgl": [
           {
            "colorbar": {
             "outlinewidth": 0,
             "ticks": ""
            },
            "colorscale": [
             [
              0,
              "#0d0887"
             ],
             [
              0.1111111111111111,
              "#46039f"
             ],
             [
              0.2222222222222222,
              "#7201a8"
             ],
             [
              0.3333333333333333,
              "#9c179e"
             ],
             [
              0.4444444444444444,
              "#bd3786"
             ],
             [
              0.5555555555555556,
              "#d8576b"
             ],
             [
              0.6666666666666666,
              "#ed7953"
             ],
             [
              0.7777777777777778,
              "#fb9f3a"
             ],
             [
              0.8888888888888888,
              "#fdca26"
             ],
             [
              1,
              "#f0f921"
             ]
            ],
            "type": "heatmapgl"
           }
          ],
          "histogram": [
           {
            "marker": {
             "pattern": {
              "fillmode": "overlay",
              "size": 10,
              "solidity": 0.2
             }
            },
            "type": "histogram"
           }
          ],
          "histogram2d": [
           {
            "colorbar": {
             "outlinewidth": 0,
             "ticks": ""
            },
            "colorscale": [
             [
              0,
              "#0d0887"
             ],
             [
              0.1111111111111111,
              "#46039f"
             ],
             [
              0.2222222222222222,
              "#7201a8"
             ],
             [
              0.3333333333333333,
              "#9c179e"
             ],
             [
              0.4444444444444444,
              "#bd3786"
             ],
             [
              0.5555555555555556,
              "#d8576b"
             ],
             [
              0.6666666666666666,
              "#ed7953"
             ],
             [
              0.7777777777777778,
              "#fb9f3a"
             ],
             [
              0.8888888888888888,
              "#fdca26"
             ],
             [
              1,
              "#f0f921"
             ]
            ],
            "type": "histogram2d"
           }
          ],
          "histogram2dcontour": [
           {
            "colorbar": {
             "outlinewidth": 0,
             "ticks": ""
            },
            "colorscale": [
             [
              0,
              "#0d0887"
             ],
             [
              0.1111111111111111,
              "#46039f"
             ],
             [
              0.2222222222222222,
              "#7201a8"
             ],
             [
              0.3333333333333333,
              "#9c179e"
             ],
             [
              0.4444444444444444,
              "#bd3786"
             ],
             [
              0.5555555555555556,
              "#d8576b"
             ],
             [
              0.6666666666666666,
              "#ed7953"
             ],
             [
              0.7777777777777778,
              "#fb9f3a"
             ],
             [
              0.8888888888888888,
              "#fdca26"
             ],
             [
              1,
              "#f0f921"
             ]
            ],
            "type": "histogram2dcontour"
           }
          ],
          "mesh3d": [
           {
            "colorbar": {
             "outlinewidth": 0,
             "ticks": ""
            },
            "type": "mesh3d"
           }
          ],
          "parcoords": [
           {
            "line": {
             "colorbar": {
              "outlinewidth": 0,
              "ticks": ""
             }
            },
            "type": "parcoords"
           }
          ],
          "pie": [
           {
            "automargin": true,
            "type": "pie"
           }
          ],
          "scatter": [
           {
            "fillpattern": {
             "fillmode": "overlay",
             "size": 10,
             "solidity": 0.2
            },
            "type": "scatter"
           }
          ],
          "scatter3d": [
           {
            "line": {
             "colorbar": {
              "outlinewidth": 0,
              "ticks": ""
             }
            },
            "marker": {
             "colorbar": {
              "outlinewidth": 0,
              "ticks": ""
             }
            },
            "type": "scatter3d"
           }
          ],
          "scattercarpet": [
           {
            "marker": {
             "colorbar": {
              "outlinewidth": 0,
              "ticks": ""
             }
            },
            "type": "scattercarpet"
           }
          ],
          "scattergeo": [
           {
            "marker": {
             "colorbar": {
              "outlinewidth": 0,
              "ticks": ""
             }
            },
            "type": "scattergeo"
           }
          ],
          "scattergl": [
           {
            "marker": {
             "colorbar": {
              "outlinewidth": 0,
              "ticks": ""
             }
            },
            "type": "scattergl"
           }
          ],
          "scattermapbox": [
           {
            "marker": {
             "colorbar": {
              "outlinewidth": 0,
              "ticks": ""
             }
            },
            "type": "scattermapbox"
           }
          ],
          "scatterpolar": [
           {
            "marker": {
             "colorbar": {
              "outlinewidth": 0,
              "ticks": ""
             }
            },
            "type": "scatterpolar"
           }
          ],
          "scatterpolargl": [
           {
            "marker": {
             "colorbar": {
              "outlinewidth": 0,
              "ticks": ""
             }
            },
            "type": "scatterpolargl"
           }
          ],
          "scatterternary": [
           {
            "marker": {
             "colorbar": {
              "outlinewidth": 0,
              "ticks": ""
             }
            },
            "type": "scatterternary"
           }
          ],
          "surface": [
           {
            "colorbar": {
             "outlinewidth": 0,
             "ticks": ""
            },
            "colorscale": [
             [
              0,
              "#0d0887"
             ],
             [
              0.1111111111111111,
              "#46039f"
             ],
             [
              0.2222222222222222,
              "#7201a8"
             ],
             [
              0.3333333333333333,
              "#9c179e"
             ],
             [
              0.4444444444444444,
              "#bd3786"
             ],
             [
              0.5555555555555556,
              "#d8576b"
             ],
             [
              0.6666666666666666,
              "#ed7953"
             ],
             [
              0.7777777777777778,
              "#fb9f3a"
             ],
             [
              0.8888888888888888,
              "#fdca26"
             ],
             [
              1,
              "#f0f921"
             ]
            ],
            "type": "surface"
           }
          ],
          "table": [
           {
            "cells": {
             "fill": {
              "color": "#EBF0F8"
             },
             "line": {
              "color": "white"
             }
            },
            "header": {
             "fill": {
              "color": "#C8D4E3"
             },
             "line": {
              "color": "white"
             }
            },
            "type": "table"
           }
          ]
         },
         "layout": {
          "annotationdefaults": {
           "arrowcolor": "#2a3f5f",
           "arrowhead": 0,
           "arrowwidth": 1
          },
          "autotypenumbers": "strict",
          "coloraxis": {
           "colorbar": {
            "outlinewidth": 0,
            "ticks": ""
           }
          },
          "colorscale": {
           "diverging": [
            [
             0,
             "#8e0152"
            ],
            [
             0.1,
             "#c51b7d"
            ],
            [
             0.2,
             "#de77ae"
            ],
            [
             0.3,
             "#f1b6da"
            ],
            [
             0.4,
             "#fde0ef"
            ],
            [
             0.5,
             "#f7f7f7"
            ],
            [
             0.6,
             "#e6f5d0"
            ],
            [
             0.7,
             "#b8e186"
            ],
            [
             0.8,
             "#7fbc41"
            ],
            [
             0.9,
             "#4d9221"
            ],
            [
             1,
             "#276419"
            ]
           ],
           "sequential": [
            [
             0,
             "#0d0887"
            ],
            [
             0.1111111111111111,
             "#46039f"
            ],
            [
             0.2222222222222222,
             "#7201a8"
            ],
            [
             0.3333333333333333,
             "#9c179e"
            ],
            [
             0.4444444444444444,
             "#bd3786"
            ],
            [
             0.5555555555555556,
             "#d8576b"
            ],
            [
             0.6666666666666666,
             "#ed7953"
            ],
            [
             0.7777777777777778,
             "#fb9f3a"
            ],
            [
             0.8888888888888888,
             "#fdca26"
            ],
            [
             1,
             "#f0f921"
            ]
           ],
           "sequentialminus": [
            [
             0,
             "#0d0887"
            ],
            [
             0.1111111111111111,
             "#46039f"
            ],
            [
             0.2222222222222222,
             "#7201a8"
            ],
            [
             0.3333333333333333,
             "#9c179e"
            ],
            [
             0.4444444444444444,
             "#bd3786"
            ],
            [
             0.5555555555555556,
             "#d8576b"
            ],
            [
             0.6666666666666666,
             "#ed7953"
            ],
            [
             0.7777777777777778,
             "#fb9f3a"
            ],
            [
             0.8888888888888888,
             "#fdca26"
            ],
            [
             1,
             "#f0f921"
            ]
           ]
          },
          "colorway": [
           "#636efa",
           "#EF553B",
           "#00cc96",
           "#ab63fa",
           "#FFA15A",
           "#19d3f3",
           "#FF6692",
           "#B6E880",
           "#FF97FF",
           "#FECB52"
          ],
          "font": {
           "color": "#2a3f5f"
          },
          "geo": {
           "bgcolor": "white",
           "lakecolor": "white",
           "landcolor": "white",
           "showlakes": true,
           "showland": true,
           "subunitcolor": "#C8D4E3"
          },
          "hoverlabel": {
           "align": "left"
          },
          "hovermode": "closest",
          "mapbox": {
           "style": "light"
          },
          "paper_bgcolor": "white",
          "plot_bgcolor": "white",
          "polar": {
           "angularaxis": {
            "gridcolor": "#EBF0F8",
            "linecolor": "#EBF0F8",
            "ticks": ""
           },
           "bgcolor": "white",
           "radialaxis": {
            "gridcolor": "#EBF0F8",
            "linecolor": "#EBF0F8",
            "ticks": ""
           }
          },
          "scene": {
           "xaxis": {
            "backgroundcolor": "white",
            "gridcolor": "#DFE8F3",
            "gridwidth": 2,
            "linecolor": "#EBF0F8",
            "showbackground": true,
            "ticks": "",
            "zerolinecolor": "#EBF0F8"
           },
           "yaxis": {
            "backgroundcolor": "white",
            "gridcolor": "#DFE8F3",
            "gridwidth": 2,
            "linecolor": "#EBF0F8",
            "showbackground": true,
            "ticks": "",
            "zerolinecolor": "#EBF0F8"
           },
           "zaxis": {
            "backgroundcolor": "white",
            "gridcolor": "#DFE8F3",
            "gridwidth": 2,
            "linecolor": "#EBF0F8",
            "showbackground": true,
            "ticks": "",
            "zerolinecolor": "#EBF0F8"
           }
          },
          "shapedefaults": {
           "line": {
            "color": "#2a3f5f"
           }
          },
          "ternary": {
           "aaxis": {
            "gridcolor": "#DFE8F3",
            "linecolor": "#A2B1C6",
            "ticks": ""
           },
           "baxis": {
            "gridcolor": "#DFE8F3",
            "linecolor": "#A2B1C6",
            "ticks": ""
           },
           "bgcolor": "white",
           "caxis": {
            "gridcolor": "#DFE8F3",
            "linecolor": "#A2B1C6",
            "ticks": ""
           }
          },
          "title": {
           "x": 0.05
          },
          "xaxis": {
           "automargin": true,
           "gridcolor": "#EBF0F8",
           "linecolor": "#EBF0F8",
           "ticks": "",
           "title": {
            "standoff": 15
           },
           "zerolinecolor": "#EBF0F8",
           "zerolinewidth": 2
          },
          "yaxis": {
           "automargin": true,
           "gridcolor": "#EBF0F8",
           "linecolor": "#EBF0F8",
           "ticks": "",
           "title": {
            "standoff": 15
           },
           "zerolinecolor": "#EBF0F8",
           "zerolinewidth": 2
          }
         }
        },
        "title": {
         "text": "Slippage vs Amount — alUSD (absolute & portion overlaid)"
        },
        "xaxis": {
         "title": {
          "text": "scaled_amount_in"
         }
        },
        "yaxis": {
         "title": {
          "text": "effective_price"
         }
        }
       }
      }
     },
     "metadata": {},
     "output_type": "display_data"
    },
    {
     "data": {
      "application/vnd.plotly.v1+json": {
       "config": {
        "plotlyServerURL": "https://plot.ly"
       },
       "data": [
        {
         "hovertemplate": "label=%{text}<br>factor=absolute<br>scaled_amount_in=%{x}<br>effective_price=%{y}<extra></extra>",
         "legendgroup": "deUSD - odos",
         "marker": {
          "color": "#00CC96",
          "line": {
           "width": 0.5
          },
          "size": 7,
          "symbol": "circle"
         },
         "mode": "markers",
         "name": "deUSD - odos (absolute)",
         "text": [
          "deUSD - odos",
          "deUSD - odos",
          "deUSD - odos",
          "deUSD - odos",
          "deUSD - odos",
          "deUSD - odos",
          "deUSD - odos",
          "deUSD - odos",
          "deUSD - odos",
          "deUSD - odos",
          "deUSD - odos"
         ],
         "type": "scatter",
         "x": [
          10000,
          100000,
          200000,
          300000,
          400000,
          500000,
          600000,
          700000,
          800000,
          900000,
          1000000
         ],
         "y": [
          1.0021694240756094,
          1.0018404325297245,
          1.0017677969524736,
          1.0016516949125407,
          1.0015763221667107,
          1.0015257831819915,
          1.001421709820858,
          1.0013347199520441,
          1.0012485313187165,
          1.0011829598968658,
          1.0010919052350145
         ]
        },
        {
         "hovertemplate": "label=%{text}<br>factor=absolute<br>scaled_amount_in=%{x}<br>effective_price=%{y}<extra></extra>",
         "legendgroup": "deUSD - tokemak",
         "marker": {
          "color": "#AB63FA",
          "line": {
           "width": 0.5
          },
          "size": 7,
          "symbol": "circle"
         },
         "mode": "markers",
         "name": "deUSD - tokemak (absolute)",
         "text": [
          "deUSD - tokemak",
          "deUSD - tokemak",
          "deUSD - tokemak",
          "deUSD - tokemak",
          "deUSD - tokemak",
          "deUSD - tokemak",
          "deUSD - tokemak",
          "deUSD - tokemak",
          "deUSD - tokemak",
          "deUSD - tokemak",
          "deUSD - tokemak"
         ],
         "type": "scatter",
         "x": [
          10000,
          100000,
          200000,
          300000,
          400000,
          500000,
          600000,
          700000,
          800000,
          900000,
          1000000
         ],
         "y": [
          1.0021694230259306,
          1.0016738649966206,
          1.001564518493442,
          1.0014315584257159,
          1.001315935089377,
          1.0011850415121901,
          1.0010583250212237,
          1.0009316914756392,
          1.0008049693601322,
          1.000677242321283,
          1.0005473512778733
         ]
        }
       ],
       "layout": {
        "legend": {
         "title": {
          "text": "label (factor)"
         }
        },
        "margin": {
         "b": 20,
         "l": 50,
         "r": 20,
         "t": 60
        },
        "template": {
         "data": {
          "bar": [
           {
            "error_x": {
             "color": "#2a3f5f"
            },
            "error_y": {
             "color": "#2a3f5f"
            },
            "marker": {
             "line": {
              "color": "white",
              "width": 0.5
             },
             "pattern": {
              "fillmode": "overlay",
              "size": 10,
              "solidity": 0.2
             }
            },
            "type": "bar"
           }
          ],
          "barpolar": [
           {
            "marker": {
             "line": {
              "color": "white",
              "width": 0.5
             },
             "pattern": {
              "fillmode": "overlay",
              "size": 10,
              "solidity": 0.2
             }
            },
            "type": "barpolar"
           }
          ],
          "carpet": [
           {
            "aaxis": {
             "endlinecolor": "#2a3f5f",
             "gridcolor": "#C8D4E3",
             "linecolor": "#C8D4E3",
             "minorgridcolor": "#C8D4E3",
             "startlinecolor": "#2a3f5f"
            },
            "baxis": {
             "endlinecolor": "#2a3f5f",
             "gridcolor": "#C8D4E3",
             "linecolor": "#C8D4E3",
             "minorgridcolor": "#C8D4E3",
             "startlinecolor": "#2a3f5f"
            },
            "type": "carpet"
           }
          ],
          "choropleth": [
           {
            "colorbar": {
             "outlinewidth": 0,
             "ticks": ""
            },
            "type": "choropleth"
           }
          ],
          "contour": [
           {
            "colorbar": {
             "outlinewidth": 0,
             "ticks": ""
            },
            "colorscale": [
             [
              0,
              "#0d0887"
             ],
             [
              0.1111111111111111,
              "#46039f"
             ],
             [
              0.2222222222222222,
              "#7201a8"
             ],
             [
              0.3333333333333333,
              "#9c179e"
             ],
             [
              0.4444444444444444,
              "#bd3786"
             ],
             [
              0.5555555555555556,
              "#d8576b"
             ],
             [
              0.6666666666666666,
              "#ed7953"
             ],
             [
              0.7777777777777778,
              "#fb9f3a"
             ],
             [
              0.8888888888888888,
              "#fdca26"
             ],
             [
              1,
              "#f0f921"
             ]
            ],
            "type": "contour"
           }
          ],
          "contourcarpet": [
           {
            "colorbar": {
             "outlinewidth": 0,
             "ticks": ""
            },
            "type": "contourcarpet"
           }
          ],
          "heatmap": [
           {
            "colorbar": {
             "outlinewidth": 0,
             "ticks": ""
            },
            "colorscale": [
             [
              0,
              "#0d0887"
             ],
             [
              0.1111111111111111,
              "#46039f"
             ],
             [
              0.2222222222222222,
              "#7201a8"
             ],
             [
              0.3333333333333333,
              "#9c179e"
             ],
             [
              0.4444444444444444,
              "#bd3786"
             ],
             [
              0.5555555555555556,
              "#d8576b"
             ],
             [
              0.6666666666666666,
              "#ed7953"
             ],
             [
              0.7777777777777778,
              "#fb9f3a"
             ],
             [
              0.8888888888888888,
              "#fdca26"
             ],
             [
              1,
              "#f0f921"
             ]
            ],
            "type": "heatmap"
           }
          ],
          "heatmapgl": [
           {
            "colorbar": {
             "outlinewidth": 0,
             "ticks": ""
            },
            "colorscale": [
             [
              0,
              "#0d0887"
             ],
             [
              0.1111111111111111,
              "#46039f"
             ],
             [
              0.2222222222222222,
              "#7201a8"
             ],
             [
              0.3333333333333333,
              "#9c179e"
             ],
             [
              0.4444444444444444,
              "#bd3786"
             ],
             [
              0.5555555555555556,
              "#d8576b"
             ],
             [
              0.6666666666666666,
              "#ed7953"
             ],
             [
              0.7777777777777778,
              "#fb9f3a"
             ],
             [
              0.8888888888888888,
              "#fdca26"
             ],
             [
              1,
              "#f0f921"
             ]
            ],
            "type": "heatmapgl"
           }
          ],
          "histogram": [
           {
            "marker": {
             "pattern": {
              "fillmode": "overlay",
              "size": 10,
              "solidity": 0.2
             }
            },
            "type": "histogram"
           }
          ],
          "histogram2d": [
           {
            "colorbar": {
             "outlinewidth": 0,
             "ticks": ""
            },
            "colorscale": [
             [
              0,
              "#0d0887"
             ],
             [
              0.1111111111111111,
              "#46039f"
             ],
             [
              0.2222222222222222,
              "#7201a8"
             ],
             [
              0.3333333333333333,
              "#9c179e"
             ],
             [
              0.4444444444444444,
              "#bd3786"
             ],
             [
              0.5555555555555556,
              "#d8576b"
             ],
             [
              0.6666666666666666,
              "#ed7953"
             ],
             [
              0.7777777777777778,
              "#fb9f3a"
             ],
             [
              0.8888888888888888,
              "#fdca26"
             ],
             [
              1,
              "#f0f921"
             ]
            ],
            "type": "histogram2d"
           }
          ],
          "histogram2dcontour": [
           {
            "colorbar": {
             "outlinewidth": 0,
             "ticks": ""
            },
            "colorscale": [
             [
              0,
              "#0d0887"
             ],
             [
              0.1111111111111111,
              "#46039f"
             ],
             [
              0.2222222222222222,
              "#7201a8"
             ],
             [
              0.3333333333333333,
              "#9c179e"
             ],
             [
              0.4444444444444444,
              "#bd3786"
             ],
             [
              0.5555555555555556,
              "#d8576b"
             ],
             [
              0.6666666666666666,
              "#ed7953"
             ],
             [
              0.7777777777777778,
              "#fb9f3a"
             ],
             [
              0.8888888888888888,
              "#fdca26"
             ],
             [
              1,
              "#f0f921"
             ]
            ],
            "type": "histogram2dcontour"
           }
          ],
          "mesh3d": [
           {
            "colorbar": {
             "outlinewidth": 0,
             "ticks": ""
            },
            "type": "mesh3d"
           }
          ],
          "parcoords": [
           {
            "line": {
             "colorbar": {
              "outlinewidth": 0,
              "ticks": ""
             }
            },
            "type": "parcoords"
           }
          ],
          "pie": [
           {
            "automargin": true,
            "type": "pie"
           }
          ],
          "scatter": [
           {
            "fillpattern": {
             "fillmode": "overlay",
             "size": 10,
             "solidity": 0.2
            },
            "type": "scatter"
           }
          ],
          "scatter3d": [
           {
            "line": {
             "colorbar": {
              "outlinewidth": 0,
              "ticks": ""
             }
            },
            "marker": {
             "colorbar": {
              "outlinewidth": 0,
              "ticks": ""
             }
            },
            "type": "scatter3d"
           }
          ],
          "scattercarpet": [
           {
            "marker": {
             "colorbar": {
              "outlinewidth": 0,
              "ticks": ""
             }
            },
            "type": "scattercarpet"
           }
          ],
          "scattergeo": [
           {
            "marker": {
             "colorbar": {
              "outlinewidth": 0,
              "ticks": ""
             }
            },
            "type": "scattergeo"
           }
          ],
          "scattergl": [
           {
            "marker": {
             "colorbar": {
              "outlinewidth": 0,
              "ticks": ""
             }
            },
            "type": "scattergl"
           }
          ],
          "scattermapbox": [
           {
            "marker": {
             "colorbar": {
              "outlinewidth": 0,
              "ticks": ""
             }
            },
            "type": "scattermapbox"
           }
          ],
          "scatterpolar": [
           {
            "marker": {
             "colorbar": {
              "outlinewidth": 0,
              "ticks": ""
             }
            },
            "type": "scatterpolar"
           }
          ],
          "scatterpolargl": [
           {
            "marker": {
             "colorbar": {
              "outlinewidth": 0,
              "ticks": ""
             }
            },
            "type": "scatterpolargl"
           }
          ],
          "scatterternary": [
           {
            "marker": {
             "colorbar": {
              "outlinewidth": 0,
              "ticks": ""
             }
            },
            "type": "scatterternary"
           }
          ],
          "surface": [
           {
            "colorbar": {
             "outlinewidth": 0,
             "ticks": ""
            },
            "colorscale": [
             [
              0,
              "#0d0887"
             ],
             [
              0.1111111111111111,
              "#46039f"
             ],
             [
              0.2222222222222222,
              "#7201a8"
             ],
             [
              0.3333333333333333,
              "#9c179e"
             ],
             [
              0.4444444444444444,
              "#bd3786"
             ],
             [
              0.5555555555555556,
              "#d8576b"
             ],
             [
              0.6666666666666666,
              "#ed7953"
             ],
             [
              0.7777777777777778,
              "#fb9f3a"
             ],
             [
              0.8888888888888888,
              "#fdca26"
             ],
             [
              1,
              "#f0f921"
             ]
            ],
            "type": "surface"
           }
          ],
          "table": [
           {
            "cells": {
             "fill": {
              "color": "#EBF0F8"
             },
             "line": {
              "color": "white"
             }
            },
            "header": {
             "fill": {
              "color": "#C8D4E3"
             },
             "line": {
              "color": "white"
             }
            },
            "type": "table"
           }
          ]
         },
         "layout": {
          "annotationdefaults": {
           "arrowcolor": "#2a3f5f",
           "arrowhead": 0,
           "arrowwidth": 1
          },
          "autotypenumbers": "strict",
          "coloraxis": {
           "colorbar": {
            "outlinewidth": 0,
            "ticks": ""
           }
          },
          "colorscale": {
           "diverging": [
            [
             0,
             "#8e0152"
            ],
            [
             0.1,
             "#c51b7d"
            ],
            [
             0.2,
             "#de77ae"
            ],
            [
             0.3,
             "#f1b6da"
            ],
            [
             0.4,
             "#fde0ef"
            ],
            [
             0.5,
             "#f7f7f7"
            ],
            [
             0.6,
             "#e6f5d0"
            ],
            [
             0.7,
             "#b8e186"
            ],
            [
             0.8,
             "#7fbc41"
            ],
            [
             0.9,
             "#4d9221"
            ],
            [
             1,
             "#276419"
            ]
           ],
           "sequential": [
            [
             0,
             "#0d0887"
            ],
            [
             0.1111111111111111,
             "#46039f"
            ],
            [
             0.2222222222222222,
             "#7201a8"
            ],
            [
             0.3333333333333333,
             "#9c179e"
            ],
            [
             0.4444444444444444,
             "#bd3786"
            ],
            [
             0.5555555555555556,
             "#d8576b"
            ],
            [
             0.6666666666666666,
             "#ed7953"
            ],
            [
             0.7777777777777778,
             "#fb9f3a"
            ],
            [
             0.8888888888888888,
             "#fdca26"
            ],
            [
             1,
             "#f0f921"
            ]
           ],
           "sequentialminus": [
            [
             0,
             "#0d0887"
            ],
            [
             0.1111111111111111,
             "#46039f"
            ],
            [
             0.2222222222222222,
             "#7201a8"
            ],
            [
             0.3333333333333333,
             "#9c179e"
            ],
            [
             0.4444444444444444,
             "#bd3786"
            ],
            [
             0.5555555555555556,
             "#d8576b"
            ],
            [
             0.6666666666666666,
             "#ed7953"
            ],
            [
             0.7777777777777778,
             "#fb9f3a"
            ],
            [
             0.8888888888888888,
             "#fdca26"
            ],
            [
             1,
             "#f0f921"
            ]
           ]
          },
          "colorway": [
           "#636efa",
           "#EF553B",
           "#00cc96",
           "#ab63fa",
           "#FFA15A",
           "#19d3f3",
           "#FF6692",
           "#B6E880",
           "#FF97FF",
           "#FECB52"
          ],
          "font": {
           "color": "#2a3f5f"
          },
          "geo": {
           "bgcolor": "white",
           "lakecolor": "white",
           "landcolor": "white",
           "showlakes": true,
           "showland": true,
           "subunitcolor": "#C8D4E3"
          },
          "hoverlabel": {
           "align": "left"
          },
          "hovermode": "closest",
          "mapbox": {
           "style": "light"
          },
          "paper_bgcolor": "white",
          "plot_bgcolor": "white",
          "polar": {
           "angularaxis": {
            "gridcolor": "#EBF0F8",
            "linecolor": "#EBF0F8",
            "ticks": ""
           },
           "bgcolor": "white",
           "radialaxis": {
            "gridcolor": "#EBF0F8",
            "linecolor": "#EBF0F8",
            "ticks": ""
           }
          },
          "scene": {
           "xaxis": {
            "backgroundcolor": "white",
            "gridcolor": "#DFE8F3",
            "gridwidth": 2,
            "linecolor": "#EBF0F8",
            "showbackground": true,
            "ticks": "",
            "zerolinecolor": "#EBF0F8"
           },
           "yaxis": {
            "backgroundcolor": "white",
            "gridcolor": "#DFE8F3",
            "gridwidth": 2,
            "linecolor": "#EBF0F8",
            "showbackground": true,
            "ticks": "",
            "zerolinecolor": "#EBF0F8"
           },
           "zaxis": {
            "backgroundcolor": "white",
            "gridcolor": "#DFE8F3",
            "gridwidth": 2,
            "linecolor": "#EBF0F8",
            "showbackground": true,
            "ticks": "",
            "zerolinecolor": "#EBF0F8"
           }
          },
          "shapedefaults": {
           "line": {
            "color": "#2a3f5f"
           }
          },
          "ternary": {
           "aaxis": {
            "gridcolor": "#DFE8F3",
            "linecolor": "#A2B1C6",
            "ticks": ""
           },
           "baxis": {
            "gridcolor": "#DFE8F3",
            "linecolor": "#A2B1C6",
            "ticks": ""
           },
           "bgcolor": "white",
           "caxis": {
            "gridcolor": "#DFE8F3",
            "linecolor": "#A2B1C6",
            "ticks": ""
           }
          },
          "title": {
           "x": 0.05
          },
          "xaxis": {
           "automargin": true,
           "gridcolor": "#EBF0F8",
           "linecolor": "#EBF0F8",
           "ticks": "",
           "title": {
            "standoff": 15
           },
           "zerolinecolor": "#EBF0F8",
           "zerolinewidth": 2
          },
          "yaxis": {
           "automargin": true,
           "gridcolor": "#EBF0F8",
           "linecolor": "#EBF0F8",
           "ticks": "",
           "title": {
            "standoff": 15
           },
           "zerolinecolor": "#EBF0F8",
           "zerolinewidth": 2
          }
         }
        },
        "title": {
         "text": "Slippage vs Amount — deUSD (absolute & portion overlaid)"
        },
        "xaxis": {
         "title": {
          "text": "scaled_amount_in"
         }
        },
        "yaxis": {
         "title": {
          "text": "effective_price"
         }
        }
       }
      }
     },
     "metadata": {},
     "output_type": "display_data"
    },
    {
     "data": {
      "application/vnd.plotly.v1+json": {
       "config": {
        "plotlyServerURL": "https://plot.ly"
       },
       "data": [
        {
         "hovertemplate": "label=%{text}<br>factor=absolute<br>scaled_amount_in=%{x}<br>effective_price=%{y}<extra></extra>",
         "legendgroup": "reUSD - odos",
         "marker": {
          "color": "#FFA15A",
          "line": {
           "width": 0.5
          },
          "size": 7,
          "symbol": "circle"
         },
         "mode": "markers",
         "name": "reUSD - odos (absolute)",
         "text": [
          "reUSD - odos",
          "reUSD - odos",
          "reUSD - odos",
          "reUSD - odos",
          "reUSD - odos",
          "reUSD - odos",
          "reUSD - odos",
          "reUSD - odos",
          "reUSD - odos",
          "reUSD - odos",
          "reUSD - odos"
         ],
         "type": "scatter",
         "x": [
          10000,
          100000,
          200000,
          300000,
          400000,
          500000,
          600000,
          700000,
          800000,
          900000,
          1000000
         ],
         "y": [
          0.9921626280982808,
          0.9917256901303823,
          0.9916063363718214,
          0.9914806834731577,
          0.9913628530133715,
          0.9912482217579051,
          0.9911517823234633,
          0.9910631225449391,
          0.9909611015516497,
          0.990859571912465,
          0.9907583578730608
         ]
        },
        {
         "hovertemplate": "label=%{text}<br>factor=absolute<br>scaled_amount_in=%{x}<br>effective_price=%{y}<extra></extra>",
         "legendgroup": "reUSD - tokemak",
         "marker": {
          "color": "#19D3F3",
          "line": {
           "width": 0.5
          },
          "size": 7,
          "symbol": "circle"
         },
         "mode": "markers",
         "name": "reUSD - tokemak (absolute)",
         "text": [
          "reUSD - tokemak",
          "reUSD - tokemak",
          "reUSD - tokemak",
          "reUSD - tokemak",
          "reUSD - tokemak",
          "reUSD - tokemak",
          "reUSD - tokemak",
          "reUSD - tokemak",
          "reUSD - tokemak",
          "reUSD - tokemak",
          "reUSD - tokemak"
         ],
         "type": "scatter",
         "x": [
          10000,
          100000,
          200000,
          300000,
          400000,
          500000,
          600000,
          700000,
          800000,
          900000,
          1000000
         ],
         "y": [
          0.9921625424149746,
          0.9917256795325241,
          0.9916063311524731,
          0.991480673696422,
          0.9913629074503786,
          0.9912482254079751,
          0.9911517859906831,
          0.9910631144261689,
          0.9909610741997014,
          0.9908595524065646,
          0.9907583384726695
         ]
        }
       ],
       "layout": {
        "legend": {
         "title": {
          "text": "label (factor)"
         }
        },
        "margin": {
         "b": 20,
         "l": 50,
         "r": 20,
         "t": 60
        },
        "template": {
         "data": {
          "bar": [
           {
            "error_x": {
             "color": "#2a3f5f"
            },
            "error_y": {
             "color": "#2a3f5f"
            },
            "marker": {
             "line": {
              "color": "white",
              "width": 0.5
             },
             "pattern": {
              "fillmode": "overlay",
              "size": 10,
              "solidity": 0.2
             }
            },
            "type": "bar"
           }
          ],
          "barpolar": [
           {
            "marker": {
             "line": {
              "color": "white",
              "width": 0.5
             },
             "pattern": {
              "fillmode": "overlay",
              "size": 10,
              "solidity": 0.2
             }
            },
            "type": "barpolar"
           }
          ],
          "carpet": [
           {
            "aaxis": {
             "endlinecolor": "#2a3f5f",
             "gridcolor": "#C8D4E3",
             "linecolor": "#C8D4E3",
             "minorgridcolor": "#C8D4E3",
             "startlinecolor": "#2a3f5f"
            },
            "baxis": {
             "endlinecolor": "#2a3f5f",
             "gridcolor": "#C8D4E3",
             "linecolor": "#C8D4E3",
             "minorgridcolor": "#C8D4E3",
             "startlinecolor": "#2a3f5f"
            },
            "type": "carpet"
           }
          ],
          "choropleth": [
           {
            "colorbar": {
             "outlinewidth": 0,
             "ticks": ""
            },
            "type": "choropleth"
           }
          ],
          "contour": [
           {
            "colorbar": {
             "outlinewidth": 0,
             "ticks": ""
            },
            "colorscale": [
             [
              0,
              "#0d0887"
             ],
             [
              0.1111111111111111,
              "#46039f"
             ],
             [
              0.2222222222222222,
              "#7201a8"
             ],
             [
              0.3333333333333333,
              "#9c179e"
             ],
             [
              0.4444444444444444,
              "#bd3786"
             ],
             [
              0.5555555555555556,
              "#d8576b"
             ],
             [
              0.6666666666666666,
              "#ed7953"
             ],
             [
              0.7777777777777778,
              "#fb9f3a"
             ],
             [
              0.8888888888888888,
              "#fdca26"
             ],
             [
              1,
              "#f0f921"
             ]
            ],
            "type": "contour"
           }
          ],
          "contourcarpet": [
           {
            "colorbar": {
             "outlinewidth": 0,
             "ticks": ""
            },
            "type": "contourcarpet"
           }
          ],
          "heatmap": [
           {
            "colorbar": {
             "outlinewidth": 0,
             "ticks": ""
            },
            "colorscale": [
             [
              0,
              "#0d0887"
             ],
             [
              0.1111111111111111,
              "#46039f"
             ],
             [
              0.2222222222222222,
              "#7201a8"
             ],
             [
              0.3333333333333333,
              "#9c179e"
             ],
             [
              0.4444444444444444,
              "#bd3786"
             ],
             [
              0.5555555555555556,
              "#d8576b"
             ],
             [
              0.6666666666666666,
              "#ed7953"
             ],
             [
              0.7777777777777778,
              "#fb9f3a"
             ],
             [
              0.8888888888888888,
              "#fdca26"
             ],
             [
              1,
              "#f0f921"
             ]
            ],
            "type": "heatmap"
           }
          ],
          "heatmapgl": [
           {
            "colorbar": {
             "outlinewidth": 0,
             "ticks": ""
            },
            "colorscale": [
             [
              0,
              "#0d0887"
             ],
             [
              0.1111111111111111,
              "#46039f"
             ],
             [
              0.2222222222222222,
              "#7201a8"
             ],
             [
              0.3333333333333333,
              "#9c179e"
             ],
             [
              0.4444444444444444,
              "#bd3786"
             ],
             [
              0.5555555555555556,
              "#d8576b"
             ],
             [
              0.6666666666666666,
              "#ed7953"
             ],
             [
              0.7777777777777778,
              "#fb9f3a"
             ],
             [
              0.8888888888888888,
              "#fdca26"
             ],
             [
              1,
              "#f0f921"
             ]
            ],
            "type": "heatmapgl"
           }
          ],
          "histogram": [
           {
            "marker": {
             "pattern": {
              "fillmode": "overlay",
              "size": 10,
              "solidity": 0.2
             }
            },
            "type": "histogram"
           }
          ],
          "histogram2d": [
           {
            "colorbar": {
             "outlinewidth": 0,
             "ticks": ""
            },
            "colorscale": [
             [
              0,
              "#0d0887"
             ],
             [
              0.1111111111111111,
              "#46039f"
             ],
             [
              0.2222222222222222,
              "#7201a8"
             ],
             [
              0.3333333333333333,
              "#9c179e"
             ],
             [
              0.4444444444444444,
              "#bd3786"
             ],
             [
              0.5555555555555556,
              "#d8576b"
             ],
             [
              0.6666666666666666,
              "#ed7953"
             ],
             [
              0.7777777777777778,
              "#fb9f3a"
             ],
             [
              0.8888888888888888,
              "#fdca26"
             ],
             [
              1,
              "#f0f921"
             ]
            ],
            "type": "histogram2d"
           }
          ],
          "histogram2dcontour": [
           {
            "colorbar": {
             "outlinewidth": 0,
             "ticks": ""
            },
            "colorscale": [
             [
              0,
              "#0d0887"
             ],
             [
              0.1111111111111111,
              "#46039f"
             ],
             [
              0.2222222222222222,
              "#7201a8"
             ],
             [
              0.3333333333333333,
              "#9c179e"
             ],
             [
              0.4444444444444444,
              "#bd3786"
             ],
             [
              0.5555555555555556,
              "#d8576b"
             ],
             [
              0.6666666666666666,
              "#ed7953"
             ],
             [
              0.7777777777777778,
              "#fb9f3a"
             ],
             [
              0.8888888888888888,
              "#fdca26"
             ],
             [
              1,
              "#f0f921"
             ]
            ],
            "type": "histogram2dcontour"
           }
          ],
          "mesh3d": [
           {
            "colorbar": {
             "outlinewidth": 0,
             "ticks": ""
            },
            "type": "mesh3d"
           }
          ],
          "parcoords": [
           {
            "line": {
             "colorbar": {
              "outlinewidth": 0,
              "ticks": ""
             }
            },
            "type": "parcoords"
           }
          ],
          "pie": [
           {
            "automargin": true,
            "type": "pie"
           }
          ],
          "scatter": [
           {
            "fillpattern": {
             "fillmode": "overlay",
             "size": 10,
             "solidity": 0.2
            },
            "type": "scatter"
           }
          ],
          "scatter3d": [
           {
            "line": {
             "colorbar": {
              "outlinewidth": 0,
              "ticks": ""
             }
            },
            "marker": {
             "colorbar": {
              "outlinewidth": 0,
              "ticks": ""
             }
            },
            "type": "scatter3d"
           }
          ],
          "scattercarpet": [
           {
            "marker": {
             "colorbar": {
              "outlinewidth": 0,
              "ticks": ""
             }
            },
            "type": "scattercarpet"
           }
          ],
          "scattergeo": [
           {
            "marker": {
             "colorbar": {
              "outlinewidth": 0,
              "ticks": ""
             }
            },
            "type": "scattergeo"
           }
          ],
          "scattergl": [
           {
            "marker": {
             "colorbar": {
              "outlinewidth": 0,
              "ticks": ""
             }
            },
            "type": "scattergl"
           }
          ],
          "scattermapbox": [
           {
            "marker": {
             "colorbar": {
              "outlinewidth": 0,
              "ticks": ""
             }
            },
            "type": "scattermapbox"
           }
          ],
          "scatterpolar": [
           {
            "marker": {
             "colorbar": {
              "outlinewidth": 0,
              "ticks": ""
             }
            },
            "type": "scatterpolar"
           }
          ],
          "scatterpolargl": [
           {
            "marker": {
             "colorbar": {
              "outlinewidth": 0,
              "ticks": ""
             }
            },
            "type": "scatterpolargl"
           }
          ],
          "scatterternary": [
           {
            "marker": {
             "colorbar": {
              "outlinewidth": 0,
              "ticks": ""
             }
            },
            "type": "scatterternary"
           }
          ],
          "surface": [
           {
            "colorbar": {
             "outlinewidth": 0,
             "ticks": ""
            },
            "colorscale": [
             [
              0,
              "#0d0887"
             ],
             [
              0.1111111111111111,
              "#46039f"
             ],
             [
              0.2222222222222222,
              "#7201a8"
             ],
             [
              0.3333333333333333,
              "#9c179e"
             ],
             [
              0.4444444444444444,
              "#bd3786"
             ],
             [
              0.5555555555555556,
              "#d8576b"
             ],
             [
              0.6666666666666666,
              "#ed7953"
             ],
             [
              0.7777777777777778,
              "#fb9f3a"
             ],
             [
              0.8888888888888888,
              "#fdca26"
             ],
             [
              1,
              "#f0f921"
             ]
            ],
            "type": "surface"
           }
          ],
          "table": [
           {
            "cells": {
             "fill": {
              "color": "#EBF0F8"
             },
             "line": {
              "color": "white"
             }
            },
            "header": {
             "fill": {
              "color": "#C8D4E3"
             },
             "line": {
              "color": "white"
             }
            },
            "type": "table"
           }
          ]
         },
         "layout": {
          "annotationdefaults": {
           "arrowcolor": "#2a3f5f",
           "arrowhead": 0,
           "arrowwidth": 1
          },
          "autotypenumbers": "strict",
          "coloraxis": {
           "colorbar": {
            "outlinewidth": 0,
            "ticks": ""
           }
          },
          "colorscale": {
           "diverging": [
            [
             0,
             "#8e0152"
            ],
            [
             0.1,
             "#c51b7d"
            ],
            [
             0.2,
             "#de77ae"
            ],
            [
             0.3,
             "#f1b6da"
            ],
            [
             0.4,
             "#fde0ef"
            ],
            [
             0.5,
             "#f7f7f7"
            ],
            [
             0.6,
             "#e6f5d0"
            ],
            [
             0.7,
             "#b8e186"
            ],
            [
             0.8,
             "#7fbc41"
            ],
            [
             0.9,
             "#4d9221"
            ],
            [
             1,
             "#276419"
            ]
           ],
           "sequential": [
            [
             0,
             "#0d0887"
            ],
            [
             0.1111111111111111,
             "#46039f"
            ],
            [
             0.2222222222222222,
             "#7201a8"
            ],
            [
             0.3333333333333333,
             "#9c179e"
            ],
            [
             0.4444444444444444,
             "#bd3786"
            ],
            [
             0.5555555555555556,
             "#d8576b"
            ],
            [
             0.6666666666666666,
             "#ed7953"
            ],
            [
             0.7777777777777778,
             "#fb9f3a"
            ],
            [
             0.8888888888888888,
             "#fdca26"
            ],
            [
             1,
             "#f0f921"
            ]
           ],
           "sequentialminus": [
            [
             0,
             "#0d0887"
            ],
            [
             0.1111111111111111,
             "#46039f"
            ],
            [
             0.2222222222222222,
             "#7201a8"
            ],
            [
             0.3333333333333333,
             "#9c179e"
            ],
            [
             0.4444444444444444,
             "#bd3786"
            ],
            [
             0.5555555555555556,
             "#d8576b"
            ],
            [
             0.6666666666666666,
             "#ed7953"
            ],
            [
             0.7777777777777778,
             "#fb9f3a"
            ],
            [
             0.8888888888888888,
             "#fdca26"
            ],
            [
             1,
             "#f0f921"
            ]
           ]
          },
          "colorway": [
           "#636efa",
           "#EF553B",
           "#00cc96",
           "#ab63fa",
           "#FFA15A",
           "#19d3f3",
           "#FF6692",
           "#B6E880",
           "#FF97FF",
           "#FECB52"
          ],
          "font": {
           "color": "#2a3f5f"
          },
          "geo": {
           "bgcolor": "white",
           "lakecolor": "white",
           "landcolor": "white",
           "showlakes": true,
           "showland": true,
           "subunitcolor": "#C8D4E3"
          },
          "hoverlabel": {
           "align": "left"
          },
          "hovermode": "closest",
          "mapbox": {
           "style": "light"
          },
          "paper_bgcolor": "white",
          "plot_bgcolor": "white",
          "polar": {
           "angularaxis": {
            "gridcolor": "#EBF0F8",
            "linecolor": "#EBF0F8",
            "ticks": ""
           },
           "bgcolor": "white",
           "radialaxis": {
            "gridcolor": "#EBF0F8",
            "linecolor": "#EBF0F8",
            "ticks": ""
           }
          },
          "scene": {
           "xaxis": {
            "backgroundcolor": "white",
            "gridcolor": "#DFE8F3",
            "gridwidth": 2,
            "linecolor": "#EBF0F8",
            "showbackground": true,
            "ticks": "",
            "zerolinecolor": "#EBF0F8"
           },
           "yaxis": {
            "backgroundcolor": "white",
            "gridcolor": "#DFE8F3",
            "gridwidth": 2,
            "linecolor": "#EBF0F8",
            "showbackground": true,
            "ticks": "",
            "zerolinecolor": "#EBF0F8"
           },
           "zaxis": {
            "backgroundcolor": "white",
            "gridcolor": "#DFE8F3",
            "gridwidth": 2,
            "linecolor": "#EBF0F8",
            "showbackground": true,
            "ticks": "",
            "zerolinecolor": "#EBF0F8"
           }
          },
          "shapedefaults": {
           "line": {
            "color": "#2a3f5f"
           }
          },
          "ternary": {
           "aaxis": {
            "gridcolor": "#DFE8F3",
            "linecolor": "#A2B1C6",
            "ticks": ""
           },
           "baxis": {
            "gridcolor": "#DFE8F3",
            "linecolor": "#A2B1C6",
            "ticks": ""
           },
           "bgcolor": "white",
           "caxis": {
            "gridcolor": "#DFE8F3",
            "linecolor": "#A2B1C6",
            "ticks": ""
           }
          },
          "title": {
           "x": 0.05
          },
          "xaxis": {
           "automargin": true,
           "gridcolor": "#EBF0F8",
           "linecolor": "#EBF0F8",
           "ticks": "",
           "title": {
            "standoff": 15
           },
           "zerolinecolor": "#EBF0F8",
           "zerolinewidth": 2
          },
          "yaxis": {
           "automargin": true,
           "gridcolor": "#EBF0F8",
           "linecolor": "#EBF0F8",
           "ticks": "",
           "title": {
            "standoff": 15
           },
           "zerolinecolor": "#EBF0F8",
           "zerolinewidth": 2
          }
         }
        },
        "title": {
         "text": "Slippage vs Amount — reUSD (absolute & portion overlaid)"
        },
        "xaxis": {
         "title": {
          "text": "scaled_amount_in"
         }
        },
        "yaxis": {
         "title": {
          "text": "effective_price"
         }
        }
       }
      }
     },
     "metadata": {},
     "output_type": "display_data"
    },
    {
     "data": {
      "application/vnd.plotly.v1+json": {
       "config": {
        "plotlyServerURL": "https://plot.ly"
       },
       "data": [
        {
         "hovertemplate": "label=%{text}<br>factor=absolute<br>scaled_amount_in=%{x}<br>effective_price=%{y}<extra></extra>",
         "legendgroup": "sDOLA - odos",
         "marker": {
          "color": "#FF6692",
          "line": {
           "width": 0.5
          },
          "size": 7,
          "symbol": "circle"
         },
         "mode": "markers",
         "name": "sDOLA - odos (absolute)",
         "text": [
          "sDOLA - odos",
          "sDOLA - odos",
          "sDOLA - odos",
          "sDOLA - odos",
          "sDOLA - odos",
          "sDOLA - odos",
          "sDOLA - odos",
          "sDOLA - odos",
          "sDOLA - odos",
          "sDOLA - odos",
          "sDOLA - odos"
         ],
         "type": "scatter",
         "x": [
          10000,
          100000,
          200000,
          300000,
          400000,
          500000,
          600000,
          700000,
          800000,
          900000,
          1000000
         ],
         "y": [
          1.14910973932129,
          1.1491095623456646,
          1.149109562345665,
          1.1491095623456642,
          1.1491097393212895,
          1.149109562345664,
          1.1491097393212888,
          1.1491097393212892,
          1.1491097393212895,
          1.14910973932129,
          1.1491097393212883
         ]
        },
        {
         "hovertemplate": "label=%{text}<br>factor=absolute<br>scaled_amount_in=%{x}<br>effective_price=%{y}<extra></extra>",
         "legendgroup": "sDOLA - tokemak",
         "marker": {
          "color": "#B6E880",
          "line": {
           "width": 0.5
          },
          "size": 7,
          "symbol": "circle"
         },
         "mode": "markers",
         "name": "sDOLA - tokemak (absolute)",
         "text": [
          "sDOLA - tokemak",
          "sDOLA - tokemak",
          "sDOLA - tokemak",
          "sDOLA - tokemak",
          "sDOLA - tokemak",
          "sDOLA - tokemak",
          "sDOLA - tokemak",
          "sDOLA - tokemak",
          "sDOLA - tokemak",
          "sDOLA - tokemak",
          "sDOLA - tokemak"
         ],
         "type": "scatter",
         "x": [
          10000,
          100000,
          200000,
          300000,
          400000,
          500000,
          600000,
          700000,
          800000,
          900000,
          1000000
         ],
         "y": [
          1.1491103410384114,
          1.1491100932725375,
          1.1491101286676624,
          1.149110164062787,
          1.1491101640627877,
          1.149110199457912,
          1.1491102348530369,
          1.1491102348530369,
          1.1491102702481617,
          1.1491103056432865,
          1.1491103410384116
         ]
        }
       ],
       "layout": {
        "legend": {
         "title": {
          "text": "label (factor)"
         }
        },
        "margin": {
         "b": 20,
         "l": 50,
         "r": 20,
         "t": 60
        },
        "template": {
         "data": {
          "bar": [
           {
            "error_x": {
             "color": "#2a3f5f"
            },
            "error_y": {
             "color": "#2a3f5f"
            },
            "marker": {
             "line": {
              "color": "white",
              "width": 0.5
             },
             "pattern": {
              "fillmode": "overlay",
              "size": 10,
              "solidity": 0.2
             }
            },
            "type": "bar"
           }
          ],
          "barpolar": [
           {
            "marker": {
             "line": {
              "color": "white",
              "width": 0.5
             },
             "pattern": {
              "fillmode": "overlay",
              "size": 10,
              "solidity": 0.2
             }
            },
            "type": "barpolar"
           }
          ],
          "carpet": [
           {
            "aaxis": {
             "endlinecolor": "#2a3f5f",
             "gridcolor": "#C8D4E3",
             "linecolor": "#C8D4E3",
             "minorgridcolor": "#C8D4E3",
             "startlinecolor": "#2a3f5f"
            },
            "baxis": {
             "endlinecolor": "#2a3f5f",
             "gridcolor": "#C8D4E3",
             "linecolor": "#C8D4E3",
             "minorgridcolor": "#C8D4E3",
             "startlinecolor": "#2a3f5f"
            },
            "type": "carpet"
           }
          ],
          "choropleth": [
           {
            "colorbar": {
             "outlinewidth": 0,
             "ticks": ""
            },
            "type": "choropleth"
           }
          ],
          "contour": [
           {
            "colorbar": {
             "outlinewidth": 0,
             "ticks": ""
            },
            "colorscale": [
             [
              0,
              "#0d0887"
             ],
             [
              0.1111111111111111,
              "#46039f"
             ],
             [
              0.2222222222222222,
              "#7201a8"
             ],
             [
              0.3333333333333333,
              "#9c179e"
             ],
             [
              0.4444444444444444,
              "#bd3786"
             ],
             [
              0.5555555555555556,
              "#d8576b"
             ],
             [
              0.6666666666666666,
              "#ed7953"
             ],
             [
              0.7777777777777778,
              "#fb9f3a"
             ],
             [
              0.8888888888888888,
              "#fdca26"
             ],
             [
              1,
              "#f0f921"
             ]
            ],
            "type": "contour"
           }
          ],
          "contourcarpet": [
           {
            "colorbar": {
             "outlinewidth": 0,
             "ticks": ""
            },
            "type": "contourcarpet"
           }
          ],
          "heatmap": [
           {
            "colorbar": {
             "outlinewidth": 0,
             "ticks": ""
            },
            "colorscale": [
             [
              0,
              "#0d0887"
             ],
             [
              0.1111111111111111,
              "#46039f"
             ],
             [
              0.2222222222222222,
              "#7201a8"
             ],
             [
              0.3333333333333333,
              "#9c179e"
             ],
             [
              0.4444444444444444,
              "#bd3786"
             ],
             [
              0.5555555555555556,
              "#d8576b"
             ],
             [
              0.6666666666666666,
              "#ed7953"
             ],
             [
              0.7777777777777778,
              "#fb9f3a"
             ],
             [
              0.8888888888888888,
              "#fdca26"
             ],
             [
              1,
              "#f0f921"
             ]
            ],
            "type": "heatmap"
           }
          ],
          "heatmapgl": [
           {
            "colorbar": {
             "outlinewidth": 0,
             "ticks": ""
            },
            "colorscale": [
             [
              0,
              "#0d0887"
             ],
             [
              0.1111111111111111,
              "#46039f"
             ],
             [
              0.2222222222222222,
              "#7201a8"
             ],
             [
              0.3333333333333333,
              "#9c179e"
             ],
             [
              0.4444444444444444,
              "#bd3786"
             ],
             [
              0.5555555555555556,
              "#d8576b"
             ],
             [
              0.6666666666666666,
              "#ed7953"
             ],
             [
              0.7777777777777778,
              "#fb9f3a"
             ],
             [
              0.8888888888888888,
              "#fdca26"
             ],
             [
              1,
              "#f0f921"
             ]
            ],
            "type": "heatmapgl"
           }
          ],
          "histogram": [
           {
            "marker": {
             "pattern": {
              "fillmode": "overlay",
              "size": 10,
              "solidity": 0.2
             }
            },
            "type": "histogram"
           }
          ],
          "histogram2d": [
           {
            "colorbar": {
             "outlinewidth": 0,
             "ticks": ""
            },
            "colorscale": [
             [
              0,
              "#0d0887"
             ],
             [
              0.1111111111111111,
              "#46039f"
             ],
             [
              0.2222222222222222,
              "#7201a8"
             ],
             [
              0.3333333333333333,
              "#9c179e"
             ],
             [
              0.4444444444444444,
              "#bd3786"
             ],
             [
              0.5555555555555556,
              "#d8576b"
             ],
             [
              0.6666666666666666,
              "#ed7953"
             ],
             [
              0.7777777777777778,
              "#fb9f3a"
             ],
             [
              0.8888888888888888,
              "#fdca26"
             ],
             [
              1,
              "#f0f921"
             ]
            ],
            "type": "histogram2d"
           }
          ],
          "histogram2dcontour": [
           {
            "colorbar": {
             "outlinewidth": 0,
             "ticks": ""
            },
            "colorscale": [
             [
              0,
              "#0d0887"
             ],
             [
              0.1111111111111111,
              "#46039f"
             ],
             [
              0.2222222222222222,
              "#7201a8"
             ],
             [
              0.3333333333333333,
              "#9c179e"
             ],
             [
              0.4444444444444444,
              "#bd3786"
             ],
             [
              0.5555555555555556,
              "#d8576b"
             ],
             [
              0.6666666666666666,
              "#ed7953"
             ],
             [
              0.7777777777777778,
              "#fb9f3a"
             ],
             [
              0.8888888888888888,
              "#fdca26"
             ],
             [
              1,
              "#f0f921"
             ]
            ],
            "type": "histogram2dcontour"
           }
          ],
          "mesh3d": [
           {
            "colorbar": {
             "outlinewidth": 0,
             "ticks": ""
            },
            "type": "mesh3d"
           }
          ],
          "parcoords": [
           {
            "line": {
             "colorbar": {
              "outlinewidth": 0,
              "ticks": ""
             }
            },
            "type": "parcoords"
           }
          ],
          "pie": [
           {
            "automargin": true,
            "type": "pie"
           }
          ],
          "scatter": [
           {
            "fillpattern": {
             "fillmode": "overlay",
             "size": 10,
             "solidity": 0.2
            },
            "type": "scatter"
           }
          ],
          "scatter3d": [
           {
            "line": {
             "colorbar": {
              "outlinewidth": 0,
              "ticks": ""
             }
            },
            "marker": {
             "colorbar": {
              "outlinewidth": 0,
              "ticks": ""
             }
            },
            "type": "scatter3d"
           }
          ],
          "scattercarpet": [
           {
            "marker": {
             "colorbar": {
              "outlinewidth": 0,
              "ticks": ""
             }
            },
            "type": "scattercarpet"
           }
          ],
          "scattergeo": [
           {
            "marker": {
             "colorbar": {
              "outlinewidth": 0,
              "ticks": ""
             }
            },
            "type": "scattergeo"
           }
          ],
          "scattergl": [
           {
            "marker": {
             "colorbar": {
              "outlinewidth": 0,
              "ticks": ""
             }
            },
            "type": "scattergl"
           }
          ],
          "scattermapbox": [
           {
            "marker": {
             "colorbar": {
              "outlinewidth": 0,
              "ticks": ""
             }
            },
            "type": "scattermapbox"
           }
          ],
          "scatterpolar": [
           {
            "marker": {
             "colorbar": {
              "outlinewidth": 0,
              "ticks": ""
             }
            },
            "type": "scatterpolar"
           }
          ],
          "scatterpolargl": [
           {
            "marker": {
             "colorbar": {
              "outlinewidth": 0,
              "ticks": ""
             }
            },
            "type": "scatterpolargl"
           }
          ],
          "scatterternary": [
           {
            "marker": {
             "colorbar": {
              "outlinewidth": 0,
              "ticks": ""
             }
            },
            "type": "scatterternary"
           }
          ],
          "surface": [
           {
            "colorbar": {
             "outlinewidth": 0,
             "ticks": ""
            },
            "colorscale": [
             [
              0,
              "#0d0887"
             ],
             [
              0.1111111111111111,
              "#46039f"
             ],
             [
              0.2222222222222222,
              "#7201a8"
             ],
             [
              0.3333333333333333,
              "#9c179e"
             ],
             [
              0.4444444444444444,
              "#bd3786"
             ],
             [
              0.5555555555555556,
              "#d8576b"
             ],
             [
              0.6666666666666666,
              "#ed7953"
             ],
             [
              0.7777777777777778,
              "#fb9f3a"
             ],
             [
              0.8888888888888888,
              "#fdca26"
             ],
             [
              1,
              "#f0f921"
             ]
            ],
            "type": "surface"
           }
          ],
          "table": [
           {
            "cells": {
             "fill": {
              "color": "#EBF0F8"
             },
             "line": {
              "color": "white"
             }
            },
            "header": {
             "fill": {
              "color": "#C8D4E3"
             },
             "line": {
              "color": "white"
             }
            },
            "type": "table"
           }
          ]
         },
         "layout": {
          "annotationdefaults": {
           "arrowcolor": "#2a3f5f",
           "arrowhead": 0,
           "arrowwidth": 1
          },
          "autotypenumbers": "strict",
          "coloraxis": {
           "colorbar": {
            "outlinewidth": 0,
            "ticks": ""
           }
          },
          "colorscale": {
           "diverging": [
            [
             0,
             "#8e0152"
            ],
            [
             0.1,
             "#c51b7d"
            ],
            [
             0.2,
             "#de77ae"
            ],
            [
             0.3,
             "#f1b6da"
            ],
            [
             0.4,
             "#fde0ef"
            ],
            [
             0.5,
             "#f7f7f7"
            ],
            [
             0.6,
             "#e6f5d0"
            ],
            [
             0.7,
             "#b8e186"
            ],
            [
             0.8,
             "#7fbc41"
            ],
            [
             0.9,
             "#4d9221"
            ],
            [
             1,
             "#276419"
            ]
           ],
           "sequential": [
            [
             0,
             "#0d0887"
            ],
            [
             0.1111111111111111,
             "#46039f"
            ],
            [
             0.2222222222222222,
             "#7201a8"
            ],
            [
             0.3333333333333333,
             "#9c179e"
            ],
            [
             0.4444444444444444,
             "#bd3786"
            ],
            [
             0.5555555555555556,
             "#d8576b"
            ],
            [
             0.6666666666666666,
             "#ed7953"
            ],
            [
             0.7777777777777778,
             "#fb9f3a"
            ],
            [
             0.8888888888888888,
             "#fdca26"
            ],
            [
             1,
             "#f0f921"
            ]
           ],
           "sequentialminus": [
            [
             0,
             "#0d0887"
            ],
            [
             0.1111111111111111,
             "#46039f"
            ],
            [
             0.2222222222222222,
             "#7201a8"
            ],
            [
             0.3333333333333333,
             "#9c179e"
            ],
            [
             0.4444444444444444,
             "#bd3786"
            ],
            [
             0.5555555555555556,
             "#d8576b"
            ],
            [
             0.6666666666666666,
             "#ed7953"
            ],
            [
             0.7777777777777778,
             "#fb9f3a"
            ],
            [
             0.8888888888888888,
             "#fdca26"
            ],
            [
             1,
             "#f0f921"
            ]
           ]
          },
          "colorway": [
           "#636efa",
           "#EF553B",
           "#00cc96",
           "#ab63fa",
           "#FFA15A",
           "#19d3f3",
           "#FF6692",
           "#B6E880",
           "#FF97FF",
           "#FECB52"
          ],
          "font": {
           "color": "#2a3f5f"
          },
          "geo": {
           "bgcolor": "white",
           "lakecolor": "white",
           "landcolor": "white",
           "showlakes": true,
           "showland": true,
           "subunitcolor": "#C8D4E3"
          },
          "hoverlabel": {
           "align": "left"
          },
          "hovermode": "closest",
          "mapbox": {
           "style": "light"
          },
          "paper_bgcolor": "white",
          "plot_bgcolor": "white",
          "polar": {
           "angularaxis": {
            "gridcolor": "#EBF0F8",
            "linecolor": "#EBF0F8",
            "ticks": ""
           },
           "bgcolor": "white",
           "radialaxis": {
            "gridcolor": "#EBF0F8",
            "linecolor": "#EBF0F8",
            "ticks": ""
           }
          },
          "scene": {
           "xaxis": {
            "backgroundcolor": "white",
            "gridcolor": "#DFE8F3",
            "gridwidth": 2,
            "linecolor": "#EBF0F8",
            "showbackground": true,
            "ticks": "",
            "zerolinecolor": "#EBF0F8"
           },
           "yaxis": {
            "backgroundcolor": "white",
            "gridcolor": "#DFE8F3",
            "gridwidth": 2,
            "linecolor": "#EBF0F8",
            "showbackground": true,
            "ticks": "",
            "zerolinecolor": "#EBF0F8"
           },
           "zaxis": {
            "backgroundcolor": "white",
            "gridcolor": "#DFE8F3",
            "gridwidth": 2,
            "linecolor": "#EBF0F8",
            "showbackground": true,
            "ticks": "",
            "zerolinecolor": "#EBF0F8"
           }
          },
          "shapedefaults": {
           "line": {
            "color": "#2a3f5f"
           }
          },
          "ternary": {
           "aaxis": {
            "gridcolor": "#DFE8F3",
            "linecolor": "#A2B1C6",
            "ticks": ""
           },
           "baxis": {
            "gridcolor": "#DFE8F3",
            "linecolor": "#A2B1C6",
            "ticks": ""
           },
           "bgcolor": "white",
           "caxis": {
            "gridcolor": "#DFE8F3",
            "linecolor": "#A2B1C6",
            "ticks": ""
           }
          },
          "title": {
           "x": 0.05
          },
          "xaxis": {
           "automargin": true,
           "gridcolor": "#EBF0F8",
           "linecolor": "#EBF0F8",
           "ticks": "",
           "title": {
            "standoff": 15
           },
           "zerolinecolor": "#EBF0F8",
           "zerolinewidth": 2
          },
          "yaxis": {
           "automargin": true,
           "gridcolor": "#EBF0F8",
           "linecolor": "#EBF0F8",
           "ticks": "",
           "title": {
            "standoff": 15
           },
           "zerolinecolor": "#EBF0F8",
           "zerolinewidth": 2
          }
         }
        },
        "title": {
         "text": "Slippage vs Amount — sDOLA (absolute & portion overlaid)"
        },
        "xaxis": {
         "title": {
          "text": "scaled_amount_in"
         }
        },
        "yaxis": {
         "title": {
          "text": "effective_price"
         }
        }
       }
      }
     },
     "metadata": {},
     "output_type": "display_data"
    },
    {
     "data": {
      "application/vnd.plotly.v1+json": {
       "config": {
        "plotlyServerURL": "https://plot.ly"
       },
       "data": [
        {
         "hovertemplate": "label=%{text}<br>factor=absolute<br>scaled_amount_in=%{x}<br>effective_price=%{y}<extra></extra>",
         "legendgroup": "sUSDe - odos",
         "marker": {
          "color": "#FF97FF",
          "line": {
           "width": 0.5
          },
          "size": 7,
          "symbol": "circle"
         },
         "mode": "markers",
         "name": "sUSDe - odos (absolute)",
         "text": [
          "sUSDe - odos",
          "sUSDe - odos",
          "sUSDe - odos",
          "sUSDe - odos",
          "sUSDe - odos",
          "sUSDe - odos",
          "sUSDe - odos",
          "sUSDe - odos",
          "sUSDe - odos",
          "sUSDe - odos",
          "sUSDe - odos"
         ],
         "type": "scatter",
         "x": [
          10000,
          100000,
          200000,
          300000,
          400000,
          500000,
          600000,
          700000,
          800000,
          900000,
          1000000
         ],
         "y": [
          1.1896440839596587,
          1.189489210016858,
          1.1894901517703964,
          1.1895275576115596,
          1.1894452013575632,
          1.1893660055842161,
          1.1893259617846992,
          1.1892832718826278,
          1.1892419205072289,
          1.189192571374335,
          1.1891517656052992
         ]
        },
        {
         "hovertemplate": "label=%{text}<br>factor=absolute<br>scaled_amount_in=%{x}<br>effective_price=%{y}<extra></extra>",
         "legendgroup": "sUSDe - tokemak",
         "marker": {
          "color": "#FECB52",
          "line": {
           "width": 0.5
          },
          "size": 7,
          "symbol": "circle"
         },
         "mode": "markers",
         "name": "sUSDe - tokemak (absolute)",
         "text": [
          "sUSDe - tokemak",
          "sUSDe - tokemak",
          "sUSDe - tokemak",
          "sUSDe - tokemak",
          "sUSDe - tokemak",
          "sUSDe - tokemak",
          "sUSDe - tokemak",
          "sUSDe - tokemak",
          "sUSDe - tokemak",
          "sUSDe - tokemak",
          "sUSDe - tokemak"
         ],
         "type": "scatter",
         "x": [
          10000,
          100000,
          200000,
          300000,
          400000,
          500000,
          600000,
          700000,
          800000,
          900000,
          1000000
         ],
         "y": [
          1.1926791807510353,
          1.1920612341183559,
          1.1921315953747982,
          1.1920508566479213,
          1.1919735528733115,
          1.1918994267105902,
          1.1919413683098197,
          1.1918929686930992,
          1.1918474608751852,
          1.191803757073793,
          1.1917329624343576
         ]
        }
       ],
       "layout": {
        "legend": {
         "title": {
          "text": "label (factor)"
         }
        },
        "margin": {
         "b": 20,
         "l": 50,
         "r": 20,
         "t": 60
        },
        "template": {
         "data": {
          "bar": [
           {
            "error_x": {
             "color": "#2a3f5f"
            },
            "error_y": {
             "color": "#2a3f5f"
            },
            "marker": {
             "line": {
              "color": "white",
              "width": 0.5
             },
             "pattern": {
              "fillmode": "overlay",
              "size": 10,
              "solidity": 0.2
             }
            },
            "type": "bar"
           }
          ],
          "barpolar": [
           {
            "marker": {
             "line": {
              "color": "white",
              "width": 0.5
             },
             "pattern": {
              "fillmode": "overlay",
              "size": 10,
              "solidity": 0.2
             }
            },
            "type": "barpolar"
           }
          ],
          "carpet": [
           {
            "aaxis": {
             "endlinecolor": "#2a3f5f",
             "gridcolor": "#C8D4E3",
             "linecolor": "#C8D4E3",
             "minorgridcolor": "#C8D4E3",
             "startlinecolor": "#2a3f5f"
            },
            "baxis": {
             "endlinecolor": "#2a3f5f",
             "gridcolor": "#C8D4E3",
             "linecolor": "#C8D4E3",
             "minorgridcolor": "#C8D4E3",
             "startlinecolor": "#2a3f5f"
            },
            "type": "carpet"
           }
          ],
          "choropleth": [
           {
            "colorbar": {
             "outlinewidth": 0,
             "ticks": ""
            },
            "type": "choropleth"
           }
          ],
          "contour": [
           {
            "colorbar": {
             "outlinewidth": 0,
             "ticks": ""
            },
            "colorscale": [
             [
              0,
              "#0d0887"
             ],
             [
              0.1111111111111111,
              "#46039f"
             ],
             [
              0.2222222222222222,
              "#7201a8"
             ],
             [
              0.3333333333333333,
              "#9c179e"
             ],
             [
              0.4444444444444444,
              "#bd3786"
             ],
             [
              0.5555555555555556,
              "#d8576b"
             ],
             [
              0.6666666666666666,
              "#ed7953"
             ],
             [
              0.7777777777777778,
              "#fb9f3a"
             ],
             [
              0.8888888888888888,
              "#fdca26"
             ],
             [
              1,
              "#f0f921"
             ]
            ],
            "type": "contour"
           }
          ],
          "contourcarpet": [
           {
            "colorbar": {
             "outlinewidth": 0,
             "ticks": ""
            },
            "type": "contourcarpet"
           }
          ],
          "heatmap": [
           {
            "colorbar": {
             "outlinewidth": 0,
             "ticks": ""
            },
            "colorscale": [
             [
              0,
              "#0d0887"
             ],
             [
              0.1111111111111111,
              "#46039f"
             ],
             [
              0.2222222222222222,
              "#7201a8"
             ],
             [
              0.3333333333333333,
              "#9c179e"
             ],
             [
              0.4444444444444444,
              "#bd3786"
             ],
             [
              0.5555555555555556,
              "#d8576b"
             ],
             [
              0.6666666666666666,
              "#ed7953"
             ],
             [
              0.7777777777777778,
              "#fb9f3a"
             ],
             [
              0.8888888888888888,
              "#fdca26"
             ],
             [
              1,
              "#f0f921"
             ]
            ],
            "type": "heatmap"
           }
          ],
          "heatmapgl": [
           {
            "colorbar": {
             "outlinewidth": 0,
             "ticks": ""
            },
            "colorscale": [
             [
              0,
              "#0d0887"
             ],
             [
              0.1111111111111111,
              "#46039f"
             ],
             [
              0.2222222222222222,
              "#7201a8"
             ],
             [
              0.3333333333333333,
              "#9c179e"
             ],
             [
              0.4444444444444444,
              "#bd3786"
             ],
             [
              0.5555555555555556,
              "#d8576b"
             ],
             [
              0.6666666666666666,
              "#ed7953"
             ],
             [
              0.7777777777777778,
              "#fb9f3a"
             ],
             [
              0.8888888888888888,
              "#fdca26"
             ],
             [
              1,
              "#f0f921"
             ]
            ],
            "type": "heatmapgl"
           }
          ],
          "histogram": [
           {
            "marker": {
             "pattern": {
              "fillmode": "overlay",
              "size": 10,
              "solidity": 0.2
             }
            },
            "type": "histogram"
           }
          ],
          "histogram2d": [
           {
            "colorbar": {
             "outlinewidth": 0,
             "ticks": ""
            },
            "colorscale": [
             [
              0,
              "#0d0887"
             ],
             [
              0.1111111111111111,
              "#46039f"
             ],
             [
              0.2222222222222222,
              "#7201a8"
             ],
             [
              0.3333333333333333,
              "#9c179e"
             ],
             [
              0.4444444444444444,
              "#bd3786"
             ],
             [
              0.5555555555555556,
              "#d8576b"
             ],
             [
              0.6666666666666666,
              "#ed7953"
             ],
             [
              0.7777777777777778,
              "#fb9f3a"
             ],
             [
              0.8888888888888888,
              "#fdca26"
             ],
             [
              1,
              "#f0f921"
             ]
            ],
            "type": "histogram2d"
           }
          ],
          "histogram2dcontour": [
           {
            "colorbar": {
             "outlinewidth": 0,
             "ticks": ""
            },
            "colorscale": [
             [
              0,
              "#0d0887"
             ],
             [
              0.1111111111111111,
              "#46039f"
             ],
             [
              0.2222222222222222,
              "#7201a8"
             ],
             [
              0.3333333333333333,
              "#9c179e"
             ],
             [
              0.4444444444444444,
              "#bd3786"
             ],
             [
              0.5555555555555556,
              "#d8576b"
             ],
             [
              0.6666666666666666,
              "#ed7953"
             ],
             [
              0.7777777777777778,
              "#fb9f3a"
             ],
             [
              0.8888888888888888,
              "#fdca26"
             ],
             [
              1,
              "#f0f921"
             ]
            ],
            "type": "histogram2dcontour"
           }
          ],
          "mesh3d": [
           {
            "colorbar": {
             "outlinewidth": 0,
             "ticks": ""
            },
            "type": "mesh3d"
           }
          ],
          "parcoords": [
           {
            "line": {
             "colorbar": {
              "outlinewidth": 0,
              "ticks": ""
             }
            },
            "type": "parcoords"
           }
          ],
          "pie": [
           {
            "automargin": true,
            "type": "pie"
           }
          ],
          "scatter": [
           {
            "fillpattern": {
             "fillmode": "overlay",
             "size": 10,
             "solidity": 0.2
            },
            "type": "scatter"
           }
          ],
          "scatter3d": [
           {
            "line": {
             "colorbar": {
              "outlinewidth": 0,
              "ticks": ""
             }
            },
            "marker": {
             "colorbar": {
              "outlinewidth": 0,
              "ticks": ""
             }
            },
            "type": "scatter3d"
           }
          ],
          "scattercarpet": [
           {
            "marker": {
             "colorbar": {
              "outlinewidth": 0,
              "ticks": ""
             }
            },
            "type": "scattercarpet"
           }
          ],
          "scattergeo": [
           {
            "marker": {
             "colorbar": {
              "outlinewidth": 0,
              "ticks": ""
             }
            },
            "type": "scattergeo"
           }
          ],
          "scattergl": [
           {
            "marker": {
             "colorbar": {
              "outlinewidth": 0,
              "ticks": ""
             }
            },
            "type": "scattergl"
           }
          ],
          "scattermapbox": [
           {
            "marker": {
             "colorbar": {
              "outlinewidth": 0,
              "ticks": ""
             }
            },
            "type": "scattermapbox"
           }
          ],
          "scatterpolar": [
           {
            "marker": {
             "colorbar": {
              "outlinewidth": 0,
              "ticks": ""
             }
            },
            "type": "scatterpolar"
           }
          ],
          "scatterpolargl": [
           {
            "marker": {
             "colorbar": {
              "outlinewidth": 0,
              "ticks": ""
             }
            },
            "type": "scatterpolargl"
           }
          ],
          "scatterternary": [
           {
            "marker": {
             "colorbar": {
              "outlinewidth": 0,
              "ticks": ""
             }
            },
            "type": "scatterternary"
           }
          ],
          "surface": [
           {
            "colorbar": {
             "outlinewidth": 0,
             "ticks": ""
            },
            "colorscale": [
             [
              0,
              "#0d0887"
             ],
             [
              0.1111111111111111,
              "#46039f"
             ],
             [
              0.2222222222222222,
              "#7201a8"
             ],
             [
              0.3333333333333333,
              "#9c179e"
             ],
             [
              0.4444444444444444,
              "#bd3786"
             ],
             [
              0.5555555555555556,
              "#d8576b"
             ],
             [
              0.6666666666666666,
              "#ed7953"
             ],
             [
              0.7777777777777778,
              "#fb9f3a"
             ],
             [
              0.8888888888888888,
              "#fdca26"
             ],
             [
              1,
              "#f0f921"
             ]
            ],
            "type": "surface"
           }
          ],
          "table": [
           {
            "cells": {
             "fill": {
              "color": "#EBF0F8"
             },
             "line": {
              "color": "white"
             }
            },
            "header": {
             "fill": {
              "color": "#C8D4E3"
             },
             "line": {
              "color": "white"
             }
            },
            "type": "table"
           }
          ]
         },
         "layout": {
          "annotationdefaults": {
           "arrowcolor": "#2a3f5f",
           "arrowhead": 0,
           "arrowwidth": 1
          },
          "autotypenumbers": "strict",
          "coloraxis": {
           "colorbar": {
            "outlinewidth": 0,
            "ticks": ""
           }
          },
          "colorscale": {
           "diverging": [
            [
             0,
             "#8e0152"
            ],
            [
             0.1,
             "#c51b7d"
            ],
            [
             0.2,
             "#de77ae"
            ],
            [
             0.3,
             "#f1b6da"
            ],
            [
             0.4,
             "#fde0ef"
            ],
            [
             0.5,
             "#f7f7f7"
            ],
            [
             0.6,
             "#e6f5d0"
            ],
            [
             0.7,
             "#b8e186"
            ],
            [
             0.8,
             "#7fbc41"
            ],
            [
             0.9,
             "#4d9221"
            ],
            [
             1,
             "#276419"
            ]
           ],
           "sequential": [
            [
             0,
             "#0d0887"
            ],
            [
             0.1111111111111111,
             "#46039f"
            ],
            [
             0.2222222222222222,
             "#7201a8"
            ],
            [
             0.3333333333333333,
             "#9c179e"
            ],
            [
             0.4444444444444444,
             "#bd3786"
            ],
            [
             0.5555555555555556,
             "#d8576b"
            ],
            [
             0.6666666666666666,
             "#ed7953"
            ],
            [
             0.7777777777777778,
             "#fb9f3a"
            ],
            [
             0.8888888888888888,
             "#fdca26"
            ],
            [
             1,
             "#f0f921"
            ]
           ],
           "sequentialminus": [
            [
             0,
             "#0d0887"
            ],
            [
             0.1111111111111111,
             "#46039f"
            ],
            [
             0.2222222222222222,
             "#7201a8"
            ],
            [
             0.3333333333333333,
             "#9c179e"
            ],
            [
             0.4444444444444444,
             "#bd3786"
            ],
            [
             0.5555555555555556,
             "#d8576b"
            ],
            [
             0.6666666666666666,
             "#ed7953"
            ],
            [
             0.7777777777777778,
             "#fb9f3a"
            ],
            [
             0.8888888888888888,
             "#fdca26"
            ],
            [
             1,
             "#f0f921"
            ]
           ]
          },
          "colorway": [
           "#636efa",
           "#EF553B",
           "#00cc96",
           "#ab63fa",
           "#FFA15A",
           "#19d3f3",
           "#FF6692",
           "#B6E880",
           "#FF97FF",
           "#FECB52"
          ],
          "font": {
           "color": "#2a3f5f"
          },
          "geo": {
           "bgcolor": "white",
           "lakecolor": "white",
           "landcolor": "white",
           "showlakes": true,
           "showland": true,
           "subunitcolor": "#C8D4E3"
          },
          "hoverlabel": {
           "align": "left"
          },
          "hovermode": "closest",
          "mapbox": {
           "style": "light"
          },
          "paper_bgcolor": "white",
          "plot_bgcolor": "white",
          "polar": {
           "angularaxis": {
            "gridcolor": "#EBF0F8",
            "linecolor": "#EBF0F8",
            "ticks": ""
           },
           "bgcolor": "white",
           "radialaxis": {
            "gridcolor": "#EBF0F8",
            "linecolor": "#EBF0F8",
            "ticks": ""
           }
          },
          "scene": {
           "xaxis": {
            "backgroundcolor": "white",
            "gridcolor": "#DFE8F3",
            "gridwidth": 2,
            "linecolor": "#EBF0F8",
            "showbackground": true,
            "ticks": "",
            "zerolinecolor": "#EBF0F8"
           },
           "yaxis": {
            "backgroundcolor": "white",
            "gridcolor": "#DFE8F3",
            "gridwidth": 2,
            "linecolor": "#EBF0F8",
            "showbackground": true,
            "ticks": "",
            "zerolinecolor": "#EBF0F8"
           },
           "zaxis": {
            "backgroundcolor": "white",
            "gridcolor": "#DFE8F3",
            "gridwidth": 2,
            "linecolor": "#EBF0F8",
            "showbackground": true,
            "ticks": "",
            "zerolinecolor": "#EBF0F8"
           }
          },
          "shapedefaults": {
           "line": {
            "color": "#2a3f5f"
           }
          },
          "ternary": {
           "aaxis": {
            "gridcolor": "#DFE8F3",
            "linecolor": "#A2B1C6",
            "ticks": ""
           },
           "baxis": {
            "gridcolor": "#DFE8F3",
            "linecolor": "#A2B1C6",
            "ticks": ""
           },
           "bgcolor": "white",
           "caxis": {
            "gridcolor": "#DFE8F3",
            "linecolor": "#A2B1C6",
            "ticks": ""
           }
          },
          "title": {
           "x": 0.05
          },
          "xaxis": {
           "automargin": true,
           "gridcolor": "#EBF0F8",
           "linecolor": "#EBF0F8",
           "ticks": "",
           "title": {
            "standoff": 15
           },
           "zerolinecolor": "#EBF0F8",
           "zerolinewidth": 2
          },
          "yaxis": {
           "automargin": true,
           "gridcolor": "#EBF0F8",
           "linecolor": "#EBF0F8",
           "ticks": "",
           "title": {
            "standoff": 15
           },
           "zerolinecolor": "#EBF0F8",
           "zerolinewidth": 2
          }
         }
        },
        "title": {
         "text": "Slippage vs Amount — sUSDe (absolute & portion overlaid)"
        },
        "xaxis": {
         "title": {
          "text": "scaled_amount_in"
         }
        },
        "yaxis": {
         "title": {
          "text": "effective_price"
         }
        }
       }
      }
     },
     "metadata": {},
     "output_type": "display_data"
    },
    {
     "data": {
      "application/vnd.plotly.v1+json": {
       "config": {
        "plotlyServerURL": "https://plot.ly"
       },
       "data": [
        {
         "hovertemplate": "label=%{text}<br>factor=absolute<br>scaled_amount_in=%{x}<br>effective_price=%{y}<extra></extra>",
         "legendgroup": "scrvUSD - odos",
         "marker": {
          "color": "#636EFA",
          "line": {
           "width": 0.5
          },
          "size": 7,
          "symbol": "circle"
         },
         "mode": "markers",
         "name": "scrvUSD - odos (absolute)",
         "text": [
          "scrvUSD - odos",
          "scrvUSD - odos",
          "scrvUSD - odos",
          "scrvUSD - odos",
          "scrvUSD - odos",
          "scrvUSD - odos",
          "scrvUSD - odos",
          "scrvUSD - odos",
          "scrvUSD - odos",
          "scrvUSD - odos",
          "scrvUSD - odos"
         ],
         "type": "scatter",
         "x": [
          10000,
          100000,
          200000,
          300000,
          400000,
          500000,
          600000,
          700000,
          800000,
          900000,
          1000000
         ],
         "y": [
          1.0614438649925366,
          1.06131362902258,
          1.061259517538974,
          1.0611911945112014,
          1.0611258770341965,
          1.0610626400180025,
          1.061019881937018,
          1.0609640032676897,
          1.0609094431627693,
          1.0608561009511535,
          1.060803940643676
         ]
        },
        {
         "hovertemplate": "label=%{text}<br>factor=absolute<br>scaled_amount_in=%{x}<br>effective_price=%{y}<extra></extra>",
         "legendgroup": "scrvUSD - tokemak",
         "marker": {
          "color": "#EF553B",
          "line": {
           "width": 0.5
          },
          "size": 7,
          "symbol": "circle"
         },
         "mode": "markers",
         "name": "scrvUSD - tokemak (absolute)",
         "text": [
          "scrvUSD - tokemak",
          "scrvUSD - tokemak",
          "scrvUSD - tokemak",
          "scrvUSD - tokemak",
          "scrvUSD - tokemak",
          "scrvUSD - tokemak",
          "scrvUSD - tokemak",
          "scrvUSD - tokemak",
          "scrvUSD - tokemak",
          "scrvUSD - tokemak",
          "scrvUSD - tokemak"
         ],
         "type": "scatter",
         "x": [
          10000,
          100000,
          200000,
          300000,
          400000,
          500000,
          600000,
          700000,
          800000,
          900000,
          1000000
         ],
         "y": [
          1.0614442475874866,
          1.0613139148627344,
          1.061259834060591,
          1.061191511450577,
          1.061126213295222,
          1.061062869963495,
          1.0610201118622014,
          1.0610138674564185,
          1.060970021541526,
          1.0608795481189222,
          1.0609135483844776
         ]
        }
       ],
       "layout": {
        "legend": {
         "title": {
          "text": "label (factor)"
         }
        },
        "margin": {
         "b": 20,
         "l": 50,
         "r": 20,
         "t": 60
        },
        "template": {
         "data": {
          "bar": [
           {
            "error_x": {
             "color": "#2a3f5f"
            },
            "error_y": {
             "color": "#2a3f5f"
            },
            "marker": {
             "line": {
              "color": "white",
              "width": 0.5
             },
             "pattern": {
              "fillmode": "overlay",
              "size": 10,
              "solidity": 0.2
             }
            },
            "type": "bar"
           }
          ],
          "barpolar": [
           {
            "marker": {
             "line": {
              "color": "white",
              "width": 0.5
             },
             "pattern": {
              "fillmode": "overlay",
              "size": 10,
              "solidity": 0.2
             }
            },
            "type": "barpolar"
           }
          ],
          "carpet": [
           {
            "aaxis": {
             "endlinecolor": "#2a3f5f",
             "gridcolor": "#C8D4E3",
             "linecolor": "#C8D4E3",
             "minorgridcolor": "#C8D4E3",
             "startlinecolor": "#2a3f5f"
            },
            "baxis": {
             "endlinecolor": "#2a3f5f",
             "gridcolor": "#C8D4E3",
             "linecolor": "#C8D4E3",
             "minorgridcolor": "#C8D4E3",
             "startlinecolor": "#2a3f5f"
            },
            "type": "carpet"
           }
          ],
          "choropleth": [
           {
            "colorbar": {
             "outlinewidth": 0,
             "ticks": ""
            },
            "type": "choropleth"
           }
          ],
          "contour": [
           {
            "colorbar": {
             "outlinewidth": 0,
             "ticks": ""
            },
            "colorscale": [
             [
              0,
              "#0d0887"
             ],
             [
              0.1111111111111111,
              "#46039f"
             ],
             [
              0.2222222222222222,
              "#7201a8"
             ],
             [
              0.3333333333333333,
              "#9c179e"
             ],
             [
              0.4444444444444444,
              "#bd3786"
             ],
             [
              0.5555555555555556,
              "#d8576b"
             ],
             [
              0.6666666666666666,
              "#ed7953"
             ],
             [
              0.7777777777777778,
              "#fb9f3a"
             ],
             [
              0.8888888888888888,
              "#fdca26"
             ],
             [
              1,
              "#f0f921"
             ]
            ],
            "type": "contour"
           }
          ],
          "contourcarpet": [
           {
            "colorbar": {
             "outlinewidth": 0,
             "ticks": ""
            },
            "type": "contourcarpet"
           }
          ],
          "heatmap": [
           {
            "colorbar": {
             "outlinewidth": 0,
             "ticks": ""
            },
            "colorscale": [
             [
              0,
              "#0d0887"
             ],
             [
              0.1111111111111111,
              "#46039f"
             ],
             [
              0.2222222222222222,
              "#7201a8"
             ],
             [
              0.3333333333333333,
              "#9c179e"
             ],
             [
              0.4444444444444444,
              "#bd3786"
             ],
             [
              0.5555555555555556,
              "#d8576b"
             ],
             [
              0.6666666666666666,
              "#ed7953"
             ],
             [
              0.7777777777777778,
              "#fb9f3a"
             ],
             [
              0.8888888888888888,
              "#fdca26"
             ],
             [
              1,
              "#f0f921"
             ]
            ],
            "type": "heatmap"
           }
          ],
          "heatmapgl": [
           {
            "colorbar": {
             "outlinewidth": 0,
             "ticks": ""
            },
            "colorscale": [
             [
              0,
              "#0d0887"
             ],
             [
              0.1111111111111111,
              "#46039f"
             ],
             [
              0.2222222222222222,
              "#7201a8"
             ],
             [
              0.3333333333333333,
              "#9c179e"
             ],
             [
              0.4444444444444444,
              "#bd3786"
             ],
             [
              0.5555555555555556,
              "#d8576b"
             ],
             [
              0.6666666666666666,
              "#ed7953"
             ],
             [
              0.7777777777777778,
              "#fb9f3a"
             ],
             [
              0.8888888888888888,
              "#fdca26"
             ],
             [
              1,
              "#f0f921"
             ]
            ],
            "type": "heatmapgl"
           }
          ],
          "histogram": [
           {
            "marker": {
             "pattern": {
              "fillmode": "overlay",
              "size": 10,
              "solidity": 0.2
             }
            },
            "type": "histogram"
           }
          ],
          "histogram2d": [
           {
            "colorbar": {
             "outlinewidth": 0,
             "ticks": ""
            },
            "colorscale": [
             [
              0,
              "#0d0887"
             ],
             [
              0.1111111111111111,
              "#46039f"
             ],
             [
              0.2222222222222222,
              "#7201a8"
             ],
             [
              0.3333333333333333,
              "#9c179e"
             ],
             [
              0.4444444444444444,
              "#bd3786"
             ],
             [
              0.5555555555555556,
              "#d8576b"
             ],
             [
              0.6666666666666666,
              "#ed7953"
             ],
             [
              0.7777777777777778,
              "#fb9f3a"
             ],
             [
              0.8888888888888888,
              "#fdca26"
             ],
             [
              1,
              "#f0f921"
             ]
            ],
            "type": "histogram2d"
           }
          ],
          "histogram2dcontour": [
           {
            "colorbar": {
             "outlinewidth": 0,
             "ticks": ""
            },
            "colorscale": [
             [
              0,
              "#0d0887"
             ],
             [
              0.1111111111111111,
              "#46039f"
             ],
             [
              0.2222222222222222,
              "#7201a8"
             ],
             [
              0.3333333333333333,
              "#9c179e"
             ],
             [
              0.4444444444444444,
              "#bd3786"
             ],
             [
              0.5555555555555556,
              "#d8576b"
             ],
             [
              0.6666666666666666,
              "#ed7953"
             ],
             [
              0.7777777777777778,
              "#fb9f3a"
             ],
             [
              0.8888888888888888,
              "#fdca26"
             ],
             [
              1,
              "#f0f921"
             ]
            ],
            "type": "histogram2dcontour"
           }
          ],
          "mesh3d": [
           {
            "colorbar": {
             "outlinewidth": 0,
             "ticks": ""
            },
            "type": "mesh3d"
           }
          ],
          "parcoords": [
           {
            "line": {
             "colorbar": {
              "outlinewidth": 0,
              "ticks": ""
             }
            },
            "type": "parcoords"
           }
          ],
          "pie": [
           {
            "automargin": true,
            "type": "pie"
           }
          ],
          "scatter": [
           {
            "fillpattern": {
             "fillmode": "overlay",
             "size": 10,
             "solidity": 0.2
            },
            "type": "scatter"
           }
          ],
          "scatter3d": [
           {
            "line": {
             "colorbar": {
              "outlinewidth": 0,
              "ticks": ""
             }
            },
            "marker": {
             "colorbar": {
              "outlinewidth": 0,
              "ticks": ""
             }
            },
            "type": "scatter3d"
           }
          ],
          "scattercarpet": [
           {
            "marker": {
             "colorbar": {
              "outlinewidth": 0,
              "ticks": ""
             }
            },
            "type": "scattercarpet"
           }
          ],
          "scattergeo": [
           {
            "marker": {
             "colorbar": {
              "outlinewidth": 0,
              "ticks": ""
             }
            },
            "type": "scattergeo"
           }
          ],
          "scattergl": [
           {
            "marker": {
             "colorbar": {
              "outlinewidth": 0,
              "ticks": ""
             }
            },
            "type": "scattergl"
           }
          ],
          "scattermapbox": [
           {
            "marker": {
             "colorbar": {
              "outlinewidth": 0,
              "ticks": ""
             }
            },
            "type": "scattermapbox"
           }
          ],
          "scatterpolar": [
           {
            "marker": {
             "colorbar": {
              "outlinewidth": 0,
              "ticks": ""
             }
            },
            "type": "scatterpolar"
           }
          ],
          "scatterpolargl": [
           {
            "marker": {
             "colorbar": {
              "outlinewidth": 0,
              "ticks": ""
             }
            },
            "type": "scatterpolargl"
           }
          ],
          "scatterternary": [
           {
            "marker": {
             "colorbar": {
              "outlinewidth": 0,
              "ticks": ""
             }
            },
            "type": "scatterternary"
           }
          ],
          "surface": [
           {
            "colorbar": {
             "outlinewidth": 0,
             "ticks": ""
            },
            "colorscale": [
             [
              0,
              "#0d0887"
             ],
             [
              0.1111111111111111,
              "#46039f"
             ],
             [
              0.2222222222222222,
              "#7201a8"
             ],
             [
              0.3333333333333333,
              "#9c179e"
             ],
             [
              0.4444444444444444,
              "#bd3786"
             ],
             [
              0.5555555555555556,
              "#d8576b"
             ],
             [
              0.6666666666666666,
              "#ed7953"
             ],
             [
              0.7777777777777778,
              "#fb9f3a"
             ],
             [
              0.8888888888888888,
              "#fdca26"
             ],
             [
              1,
              "#f0f921"
             ]
            ],
            "type": "surface"
           }
          ],
          "table": [
           {
            "cells": {
             "fill": {
              "color": "#EBF0F8"
             },
             "line": {
              "color": "white"
             }
            },
            "header": {
             "fill": {
              "color": "#C8D4E3"
             },
             "line": {
              "color": "white"
             }
            },
            "type": "table"
           }
          ]
         },
         "layout": {
          "annotationdefaults": {
           "arrowcolor": "#2a3f5f",
           "arrowhead": 0,
           "arrowwidth": 1
          },
          "autotypenumbers": "strict",
          "coloraxis": {
           "colorbar": {
            "outlinewidth": 0,
            "ticks": ""
           }
          },
          "colorscale": {
           "diverging": [
            [
             0,
             "#8e0152"
            ],
            [
             0.1,
             "#c51b7d"
            ],
            [
             0.2,
             "#de77ae"
            ],
            [
             0.3,
             "#f1b6da"
            ],
            [
             0.4,
             "#fde0ef"
            ],
            [
             0.5,
             "#f7f7f7"
            ],
            [
             0.6,
             "#e6f5d0"
            ],
            [
             0.7,
             "#b8e186"
            ],
            [
             0.8,
             "#7fbc41"
            ],
            [
             0.9,
             "#4d9221"
            ],
            [
             1,
             "#276419"
            ]
           ],
           "sequential": [
            [
             0,
             "#0d0887"
            ],
            [
             0.1111111111111111,
             "#46039f"
            ],
            [
             0.2222222222222222,
             "#7201a8"
            ],
            [
             0.3333333333333333,
             "#9c179e"
            ],
            [
             0.4444444444444444,
             "#bd3786"
            ],
            [
             0.5555555555555556,
             "#d8576b"
            ],
            [
             0.6666666666666666,
             "#ed7953"
            ],
            [
             0.7777777777777778,
             "#fb9f3a"
            ],
            [
             0.8888888888888888,
             "#fdca26"
            ],
            [
             1,
             "#f0f921"
            ]
           ],
           "sequentialminus": [
            [
             0,
             "#0d0887"
            ],
            [
             0.1111111111111111,
             "#46039f"
            ],
            [
             0.2222222222222222,
             "#7201a8"
            ],
            [
             0.3333333333333333,
             "#9c179e"
            ],
            [
             0.4444444444444444,
             "#bd3786"
            ],
            [
             0.5555555555555556,
             "#d8576b"
            ],
            [
             0.6666666666666666,
             "#ed7953"
            ],
            [
             0.7777777777777778,
             "#fb9f3a"
            ],
            [
             0.8888888888888888,
             "#fdca26"
            ],
            [
             1,
             "#f0f921"
            ]
           ]
          },
          "colorway": [
           "#636efa",
           "#EF553B",
           "#00cc96",
           "#ab63fa",
           "#FFA15A",
           "#19d3f3",
           "#FF6692",
           "#B6E880",
           "#FF97FF",
           "#FECB52"
          ],
          "font": {
           "color": "#2a3f5f"
          },
          "geo": {
           "bgcolor": "white",
           "lakecolor": "white",
           "landcolor": "white",
           "showlakes": true,
           "showland": true,
           "subunitcolor": "#C8D4E3"
          },
          "hoverlabel": {
           "align": "left"
          },
          "hovermode": "closest",
          "mapbox": {
           "style": "light"
          },
          "paper_bgcolor": "white",
          "plot_bgcolor": "white",
          "polar": {
           "angularaxis": {
            "gridcolor": "#EBF0F8",
            "linecolor": "#EBF0F8",
            "ticks": ""
           },
           "bgcolor": "white",
           "radialaxis": {
            "gridcolor": "#EBF0F8",
            "linecolor": "#EBF0F8",
            "ticks": ""
           }
          },
          "scene": {
           "xaxis": {
            "backgroundcolor": "white",
            "gridcolor": "#DFE8F3",
            "gridwidth": 2,
            "linecolor": "#EBF0F8",
            "showbackground": true,
            "ticks": "",
            "zerolinecolor": "#EBF0F8"
           },
           "yaxis": {
            "backgroundcolor": "white",
            "gridcolor": "#DFE8F3",
            "gridwidth": 2,
            "linecolor": "#EBF0F8",
            "showbackground": true,
            "ticks": "",
            "zerolinecolor": "#EBF0F8"
           },
           "zaxis": {
            "backgroundcolor": "white",
            "gridcolor": "#DFE8F3",
            "gridwidth": 2,
            "linecolor": "#EBF0F8",
            "showbackground": true,
            "ticks": "",
            "zerolinecolor": "#EBF0F8"
           }
          },
          "shapedefaults": {
           "line": {
            "color": "#2a3f5f"
           }
          },
          "ternary": {
           "aaxis": {
            "gridcolor": "#DFE8F3",
            "linecolor": "#A2B1C6",
            "ticks": ""
           },
           "baxis": {
            "gridcolor": "#DFE8F3",
            "linecolor": "#A2B1C6",
            "ticks": ""
           },
           "bgcolor": "white",
           "caxis": {
            "gridcolor": "#DFE8F3",
            "linecolor": "#A2B1C6",
            "ticks": ""
           }
          },
          "title": {
           "x": 0.05
          },
          "xaxis": {
           "automargin": true,
           "gridcolor": "#EBF0F8",
           "linecolor": "#EBF0F8",
           "ticks": "",
           "title": {
            "standoff": 15
           },
           "zerolinecolor": "#EBF0F8",
           "zerolinewidth": 2
          },
          "yaxis": {
           "automargin": true,
           "gridcolor": "#EBF0F8",
           "linecolor": "#EBF0F8",
           "ticks": "",
           "title": {
            "standoff": 15
           },
           "zerolinecolor": "#EBF0F8",
           "zerolinewidth": 2
          }
         }
        },
        "title": {
         "text": "Slippage vs Amount — scrvUSD (absolute & portion overlaid)"
        },
        "xaxis": {
         "title": {
          "text": "scaled_amount_in"
         }
        },
        "yaxis": {
         "title": {
          "text": "effective_price"
         }
        }
       }
      }
     },
     "metadata": {},
     "output_type": "display_data"
    }
   ],
   "source": [
    "import pandas as pd\n",
    "import plotly.graph_objects as go\n",
    "import plotly.express as px\n",
    "import plotly.io as pio\n",
    "\n",
    "pio.templates.default = \"plotly_white\"\n",
    "\n",
    "# Sorted symbols\n",
    "symbol_options = sorted(swap_quotes_df[\"sell_token_symbol\"].dropna().unique().tolist())\n",
    "factors = [\"absolute\", \"portion\"]\n",
    "factor_symbol = {\"absolute\": \"circle\", \"portion\": \"x\"}\n",
    "\n",
    "# Stable colors per label across all charts\n",
    "all_labels = sorted(swap_quotes_df[\"label\"].dropna().unique().tolist())\n",
    "palette = px.colors.qualitative.Plotly\n",
    "label_color = {lbl: palette[i % len(palette)] for i, lbl in enumerate(all_labels)}\n",
    "\n",
    "for selected_symbol in symbol_options:\n",
    "    fig = go.Figure()\n",
    "\n",
    "    for size_factor in factors:\n",
    "        df_factor = (\n",
    "            swap_quotes_df[\n",
    "                (swap_quotes_df[\"sell_token_symbol\"] == selected_symbol)\n",
    "                & (swap_quotes_df[\"size_factor\"] == size_factor)\n",
    "            ]\n",
    "            .groupby([\"label\", \"scaled_amount_in\"], as_index=False)[\"effective_price\"]\n",
    "            .median()\n",
    "        )\n",
    "        if df_factor.empty:\n",
    "            continue\n",
    "\n",
    "        # One trace per (label, factor) to overlay both factors\n",
    "        for label, df_lab in df_factor.groupby(\"label\", sort=True):\n",
    "            fig.add_trace(\n",
    "                go.Scatter(\n",
    "                    x=df_lab[\"scaled_amount_in\"],\n",
    "                    y=df_lab[\"effective_price\"],\n",
    "                    mode=\"markers\",\n",
    "                    name=f\"{label} ({size_factor})\",\n",
    "                    legendgroup=label,  # group legend entries by label\n",
    "                    marker=dict(\n",
    "                        symbol=factor_symbol.get(size_factor, \"circle\"),\n",
    "                        size=7,\n",
    "                        color=label_color.get(label),\n",
    "                        line=dict(width=0.5),\n",
    "                    ),\n",
    "                    hovertemplate=(\n",
    "                        \"label=%{text}<br>\"\n",
    "                        \"factor=\" + size_factor + \"<br>\"\n",
    "                        \"scaled_amount_in=%{x}<br>\"\n",
    "                        \"effective_price=%{y}<extra></extra>\"\n",
    "                    ),\n",
    "                    text=[label] * len(df_lab),\n",
    "                )\n",
    "            )\n",
    "\n",
    "    fig.update_xaxes(title_text=\"scaled_amount_in\")\n",
    "    fig.update_yaxes(title_text=\"effective_price\")\n",
    "    fig.update_layout(\n",
    "        title_text=f\"Slippage vs Amount — {selected_symbol} (absolute & portion overlaid)\",\n",
    "        margin=dict(t=60, r=20, b=20, l=50),\n",
    "        legend_title_text=\"label (factor)\",\n",
    "    )\n",
    "\n",
    "    # st.plotly_chart(fig, use_container_width=True)\n",
    "    fig.show()"
   ]
  },
  {
   "cell_type": "code",
   "execution_count": null,
   "metadata": {},
   "outputs": [],
   "source": []
  }
 ],
 "metadata": {
  "kernelspec": {
   "display_name": "mainnet-launch-py3.10",
   "language": "python",
   "name": "python3"
  },
  "language_info": {
   "codemirror_mode": {
    "name": "ipython",
    "version": 3
   },
   "file_extension": ".py",
   "mimetype": "text/x-python",
   "name": "python",
   "nbconvert_exporter": "python",
   "pygments_lexer": "ipython3",
   "version": "3.10.14"
  }
 },
 "nbformat": 4,
 "nbformat_minor": 2
}
