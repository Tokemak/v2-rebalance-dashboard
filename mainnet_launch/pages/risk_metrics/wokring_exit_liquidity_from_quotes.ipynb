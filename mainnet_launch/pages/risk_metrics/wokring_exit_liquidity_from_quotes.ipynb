{
 "cells": [
  {
   "cell_type": "code",
   "execution_count": 1,
   "metadata": {},
   "outputs": [
    {
     "name": "stdout",
     "output_type": "stream",
     "text": [
      "https://swaps-pricing.tokemaklabs.com/swap-quote-v2\n"
     ]
    },
    {
     "name": "stderr",
     "output_type": "stream",
     "text": [
      "Fetching 3rd-party data from https://swaps-pricing.tokemaklabs.com/swap-quote-v2: 100%|██████████| 5/5 [00:03<00:00,  1.33it/s]\n"
     ]
    },
    {
     "name": "stdout",
     "output_type": "stream",
     "text": [
      "https://api.odos.xyz/sor/quote/v2\n"
     ]
    },
    {
     "name": "stderr",
     "output_type": "stream",
     "text": [
      "Fetching 3rd-party data from https://api.odos.xyz/sor/quote/v2: 100%|██████████| 5/5 [00:03<00:00,  1.35it/s]\n"
     ]
    },
    {
     "name": "stdout",
     "output_type": "stream",
     "text": [
      "https://swaps-pricing.tokemaklabs.com/swap-quote-v2\n"
     ]
    },
    {
     "name": "stderr",
     "output_type": "stream",
     "text": [
      "Fetching 3rd-party data from https://swaps-pricing.tokemaklabs.com/swap-quote-v2: 100%|██████████| 5/5 [00:02<00:00,  1.69it/s]\n"
     ]
    },
    {
     "name": "stdout",
     "output_type": "stream",
     "text": [
      "https://api.odos.xyz/sor/quote/v2\n"
     ]
    },
    {
     "name": "stderr",
     "output_type": "stream",
     "text": [
      "Fetching 3rd-party data from https://api.odos.xyz/sor/quote/v2: 100%|██████████| 5/5 [00:05<00:00,  1.14s/it]\n"
     ]
    },
    {
     "name": "stdout",
     "output_type": "stream",
     "text": [
      "https://swaps-pricing.tokemaklabs.com/swap-quote-v2\n"
     ]
    },
    {
     "name": "stderr",
     "output_type": "stream",
     "text": [
      "Fetching 3rd-party data from https://swaps-pricing.tokemaklabs.com/swap-quote-v2: 100%|██████████| 5/5 [00:04<00:00,  1.10it/s]\n"
     ]
    },
    {
     "name": "stdout",
     "output_type": "stream",
     "text": [
      "https://api.odos.xyz/sor/quote/v2\n"
     ]
    },
    {
     "name": "stderr",
     "output_type": "stream",
     "text": [
      "Fetching 3rd-party data from https://api.odos.xyz/sor/quote/v2: 100%|██████████| 5/5 [00:02<00:00,  1.70it/s]\n"
     ]
    }
   ],
   "source": [
    "from mainnet_launch.pages.risk_metrics.estimate_exit_liquidity_from_quotes import *\n",
    "from mainnet_launch.constants import *\n",
    "\n",
    "chain, base_asset, valid_autopools = (\n",
    "    ETH_CHAIN,\n",
    "    WETH,\n",
    "    [a for a in ALL_AUTOPOOLS if a.chain == ETH_CHAIN and a.base_asset == WETH(ETH_CHAIN)],\n",
    ")\n",
    "\n",
    "unscaled_asset_exposure, percent_ownership_by_destination_df, token_df = fetch_needed_context(chain, valid_autopools)\n",
    "\n",
    "tokemak_quote_requests_df, odos_quote_requests_df, raw_tokemak_quote_response_df, raw_odos_quote_response_df = (\n",
    "    fetch_odos_and_tokemak_quotes(chain=chain, base_asset=base_asset, valid_autopools=valid_autopools)\n",
    ")"
   ]
  },
  {
   "cell_type": "code",
   "execution_count": null,
   "metadata": {},
   "outputs": [
    {
     "data": {
      "application/vnd.microsoft.datawrangler.viewer.v0+json": {
       "columns": [
        {
         "name": "index",
         "rawType": "int64",
         "type": "integer"
        },
        {
         "name": "api",
         "rawType": "object",
         "type": "string"
        },
        {
         "name": "chain_id",
         "rawType": "int64",
         "type": "integer"
        },
        {
         "name": "token_in",
         "rawType": "object",
         "type": "string"
        },
        {
         "name": "token_out",
         "rawType": "object",
         "type": "string"
        },
        {
         "name": "token_in_symbol",
         "rawType": "object",
         "type": "string"
        },
        {
         "name": "token_out_symbol",
         "rawType": "object",
         "type": "string"
        },
        {
         "name": "scaled_amount_in",
         "rawType": "float64",
         "type": "float"
        },
        {
         "name": "scaled_amount_out",
         "rawType": "float64",
         "type": "float"
        },
        {
         "name": "datetime_received",
         "rawType": "datetime64[ns, UTC]",
         "type": "unknown"
        },
        {
         "name": "pools_blacklist",
         "rawType": "object",
         "type": "unknown"
        },
        {
         "name": "aggregator_name",
         "rawType": "object",
         "type": "string"
        },
        {
         "name": "effective_price",
         "rawType": "float64",
         "type": "float"
        }
       ],
       "ref": "14277cf0-5df6-4f2a-a0d5-894225e0039b",
       "rows": [
        [
         "0",
         "odos",
         "1",
         "0xae7ab96520DE3A18E5e111B5EaAb095312D7fE84",
         "0xC02aaA39b223FE8D0A0e5C4F27eAD9083C756Cc2",
         "stETH",
         "WETH",
         "100.0",
         "99.86811099840453",
         "2025-08-07 18:46:41.560941+00:00",
         "('0xdb74dfdd3bb46be8ce6c33dc9d82777bcfc3ded5', '0x88794c65550deb6b4087b7552ecf295113794410', '0x57c23c58b1d8c3292c15becf07c62c5c52457a42', '0x6951bdc4734b9f7f3e1b74afebc670c736a0edb6', '0xc8eb2cf2f792f77af0cd9e203305a585e588179d', '0x59ab5a5b5d617e478a2479b0cad80da7e2831492', '0x6b31a94029fd7840d780191b6d63fa0d269bd883', '0xe080027bd47353b5d1639772b4a75e9ed3658a0d')",
         "Odos",
         "0.9986811099840454"
        ],
        [
         "1",
         "odos",
         "1",
         "0xf1C9acDc66974dFB6dEcB12aA385b9cD01190E38",
         "0xC02aaA39b223FE8D0A0e5C4F27eAD9083C756Cc2",
         "osETH",
         "WETH",
         "20.0",
         "21.03243107177374",
         "2025-08-07 18:46:41.561891+00:00",
         "('0xdb74dfdd3bb46be8ce6c33dc9d82777bcfc3ded5', '0x88794c65550deb6b4087b7552ecf295113794410', '0x57c23c58b1d8c3292c15becf07c62c5c52457a42', '0x6951bdc4734b9f7f3e1b74afebc670c736a0edb6', '0xc8eb2cf2f792f77af0cd9e203305a585e588179d', '0x59ab5a5b5d617e478a2479b0cad80da7e2831492', '0x6b31a94029fd7840d780191b6d63fa0d269bd883', '0xe080027bd47353b5d1639772b4a75e9ed3658a0d')",
         "Odos",
         "1.051621553588687"
        ],
        [
         "2",
         "odos",
         "1",
         "0xae78736Cd615f374D3085123A210448E74Fc6393",
         "0xC02aaA39b223FE8D0A0e5C4F27eAD9083C756Cc2",
         "rETH",
         "WETH",
         "200.0",
         "227.58186726611416",
         "2025-08-07 18:46:42.076729+00:00",
         "('0xdb74dfdd3bb46be8ce6c33dc9d82777bcfc3ded5', '0x88794c65550deb6b4087b7552ecf295113794410', '0x57c23c58b1d8c3292c15becf07c62c5c52457a42', '0x6951bdc4734b9f7f3e1b74afebc670c736a0edb6', '0xc8eb2cf2f792f77af0cd9e203305a585e588179d', '0x59ab5a5b5d617e478a2479b0cad80da7e2831492', '0x6b31a94029fd7840d780191b6d63fa0d269bd883', '0xe080027bd47353b5d1639772b4a75e9ed3658a0d')",
         "Odos",
         "1.1379093363305708"
        ],
        [
         "3",
         "odos",
         "1",
         "0xbf5495Efe5DB9ce00f80364C8B423567e58d2110",
         "0xC02aaA39b223FE8D0A0e5C4F27eAD9083C756Cc2",
         "ezETH",
         "WETH",
         "50.0",
         "52.74230690969471",
         "2025-08-07 18:46:42.954250+00:00",
         "('0xdb74dfdd3bb46be8ce6c33dc9d82777bcfc3ded5', '0x88794c65550deb6b4087b7552ecf295113794410', '0x57c23c58b1d8c3292c15becf07c62c5c52457a42', '0x6951bdc4734b9f7f3e1b74afebc670c736a0edb6', '0xc8eb2cf2f792f77af0cd9e203305a585e588179d', '0x59ab5a5b5d617e478a2479b0cad80da7e2831492', '0x6b31a94029fd7840d780191b6d63fa0d269bd883', '0xe080027bd47353b5d1639772b4a75e9ed3658a0d')",
         "Odos",
         "1.0548461381938943"
        ],
        [
         "4",
         "odos",
         "1",
         "0x04C154b66CB340F3Ae24111CC767e0184Ed00Cc6",
         "0xC02aaA39b223FE8D0A0e5C4F27eAD9083C756Cc2",
         "pxETH",
         "WETH",
         "20.0",
         "19.92561061317499",
         "2025-08-07 18:46:44.314680+00:00",
         "('0xdb74dfdd3bb46be8ce6c33dc9d82777bcfc3ded5', '0x88794c65550deb6b4087b7552ecf295113794410', '0x57c23c58b1d8c3292c15becf07c62c5c52457a42', '0x6951bdc4734b9f7f3e1b74afebc670c736a0edb6', '0xc8eb2cf2f792f77af0cd9e203305a585e588179d', '0x59ab5a5b5d617e478a2479b0cad80da7e2831492', '0x6b31a94029fd7840d780191b6d63fa0d269bd883', '0xe080027bd47353b5d1639772b4a75e9ed3658a0d')",
         "Odos",
         "0.9962805306587494"
        ],
        [
         "5",
         "odos",
         "1",
         "0xf1C9acDc66974dFB6dEcB12aA385b9cD01190E38",
         "0xC02aaA39b223FE8D0A0e5C4F27eAD9083C756Cc2",
         "osETH",
         "WETH",
         "20.0",
         "21.03243107177374",
         "2025-08-07 18:47:18.297853+00:00",
         "('0xdb74dfdd3bb46be8ce6c33dc9d82777bcfc3ded5', '0x88794c65550deb6b4087b7552ecf295113794410', '0x57c23c58b1d8c3292c15becf07c62c5c52457a42', '0x6951bdc4734b9f7f3e1b74afebc670c736a0edb6', '0xc8eb2cf2f792f77af0cd9e203305a585e588179d', '0x59ab5a5b5d617e478a2479b0cad80da7e2831492', '0x6b31a94029fd7840d780191b6d63fa0d269bd883', '0xe080027bd47353b5d1639772b4a75e9ed3658a0d')",
         "Odos",
         "1.051621553588687"
        ],
        [
         "6",
         "odos",
         "1",
         "0xae7ab96520DE3A18E5e111B5EaAb095312D7fE84",
         "0xC02aaA39b223FE8D0A0e5C4F27eAD9083C756Cc2",
         "stETH",
         "WETH",
         "100.0",
         "99.86807645274597",
         "2025-08-07 18:47:18.318183+00:00",
         "('0xdb74dfdd3bb46be8ce6c33dc9d82777bcfc3ded5', '0x88794c65550deb6b4087b7552ecf295113794410', '0x57c23c58b1d8c3292c15becf07c62c5c52457a42', '0x6951bdc4734b9f7f3e1b74afebc670c736a0edb6', '0xc8eb2cf2f792f77af0cd9e203305a585e588179d', '0x59ab5a5b5d617e478a2479b0cad80da7e2831492', '0x6b31a94029fd7840d780191b6d63fa0d269bd883', '0xe080027bd47353b5d1639772b4a75e9ed3658a0d')",
         "Odos",
         "0.9986807645274597"
        ],
        [
         "7",
         "odos",
         "1",
         "0xbf5495Efe5DB9ce00f80364C8B423567e58d2110",
         "0xC02aaA39b223FE8D0A0e5C4F27eAD9083C756Cc2",
         "ezETH",
         "WETH",
         "50.0",
         "52.74230690969471",
         "2025-08-07 18:47:18.393928+00:00",
         "('0xdb74dfdd3bb46be8ce6c33dc9d82777bcfc3ded5', '0x88794c65550deb6b4087b7552ecf295113794410', '0x57c23c58b1d8c3292c15becf07c62c5c52457a42', '0x6951bdc4734b9f7f3e1b74afebc670c736a0edb6', '0xc8eb2cf2f792f77af0cd9e203305a585e588179d', '0x59ab5a5b5d617e478a2479b0cad80da7e2831492', '0x6b31a94029fd7840d780191b6d63fa0d269bd883', '0xe080027bd47353b5d1639772b4a75e9ed3658a0d')",
         "Odos",
         "1.0548461381938943"
        ],
        [
         "8",
         "odos",
         "1",
         "0x04C154b66CB340F3Ae24111CC767e0184Ed00Cc6",
         "0xC02aaA39b223FE8D0A0e5C4F27eAD9083C756Cc2",
         "pxETH",
         "WETH",
         "20.0",
         "19.925610613175557",
         "2025-08-07 18:47:20.570160+00:00",
         "('0xdb74dfdd3bb46be8ce6c33dc9d82777bcfc3ded5', '0x88794c65550deb6b4087b7552ecf295113794410', '0x57c23c58b1d8c3292c15becf07c62c5c52457a42', '0x6951bdc4734b9f7f3e1b74afebc670c736a0edb6', '0xc8eb2cf2f792f77af0cd9e203305a585e588179d', '0x59ab5a5b5d617e478a2479b0cad80da7e2831492', '0x6b31a94029fd7840d780191b6d63fa0d269bd883', '0xe080027bd47353b5d1639772b4a75e9ed3658a0d')",
         "Odos",
         "0.9962805306587779"
        ],
        [
         "9",
         "odos",
         "1",
         "0xae78736Cd615f374D3085123A210448E74Fc6393",
         "0xC02aaA39b223FE8D0A0e5C4F27eAD9083C756Cc2",
         "rETH",
         "WETH",
         "200.0",
         "227.58186862386043",
         "2025-08-07 18:47:22.979036+00:00",
         "('0xdb74dfdd3bb46be8ce6c33dc9d82777bcfc3ded5', '0x88794c65550deb6b4087b7552ecf295113794410', '0x57c23c58b1d8c3292c15becf07c62c5c52457a42', '0x6951bdc4734b9f7f3e1b74afebc670c736a0edb6', '0xc8eb2cf2f792f77af0cd9e203305a585e588179d', '0x59ab5a5b5d617e478a2479b0cad80da7e2831492', '0x6b31a94029fd7840d780191b6d63fa0d269bd883', '0xe080027bd47353b5d1639772b4a75e9ed3658a0d')",
         "Odos",
         "1.1379093431193021"
        ],
        [
         "10",
         "odos",
         "1",
         "0x04C154b66CB340F3Ae24111CC767e0184Ed00Cc6",
         "0xC02aaA39b223FE8D0A0e5C4F27eAD9083C756Cc2",
         "pxETH",
         "WETH",
         "20.0",
         "19.925610613175195",
         "2025-08-07 18:47:58.303515+00:00",
         "('0xdb74dfdd3bb46be8ce6c33dc9d82777bcfc3ded5', '0x88794c65550deb6b4087b7552ecf295113794410', '0x57c23c58b1d8c3292c15becf07c62c5c52457a42', '0x6951bdc4734b9f7f3e1b74afebc670c736a0edb6', '0xc8eb2cf2f792f77af0cd9e203305a585e588179d', '0x59ab5a5b5d617e478a2479b0cad80da7e2831492', '0x6b31a94029fd7840d780191b6d63fa0d269bd883', '0xe080027bd47353b5d1639772b4a75e9ed3658a0d')",
         "Odos",
         "0.9962805306587598"
        ],
        [
         "11",
         "odos",
         "1",
         "0xbf5495Efe5DB9ce00f80364C8B423567e58d2110",
         "0xC02aaA39b223FE8D0A0e5C4F27eAD9083C756Cc2",
         "ezETH",
         "WETH",
         "50.0",
         "52.74230690969471",
         "2025-08-07 18:47:58.430842+00:00",
         "('0xdb74dfdd3bb46be8ce6c33dc9d82777bcfc3ded5', '0x88794c65550deb6b4087b7552ecf295113794410', '0x57c23c58b1d8c3292c15becf07c62c5c52457a42', '0x6951bdc4734b9f7f3e1b74afebc670c736a0edb6', '0xc8eb2cf2f792f77af0cd9e203305a585e588179d', '0x59ab5a5b5d617e478a2479b0cad80da7e2831492', '0x6b31a94029fd7840d780191b6d63fa0d269bd883', '0xe080027bd47353b5d1639772b4a75e9ed3658a0d')",
         "Odos",
         "1.0548461381938943"
        ],
        [
         "12",
         "odos",
         "1",
         "0xf1C9acDc66974dFB6dEcB12aA385b9cD01190E38",
         "0xC02aaA39b223FE8D0A0e5C4F27eAD9083C756Cc2",
         "osETH",
         "WETH",
         "20.0",
         "21.03243107177374",
         "2025-08-07 18:47:59.387090+00:00",
         "('0xdb74dfdd3bb46be8ce6c33dc9d82777bcfc3ded5', '0x88794c65550deb6b4087b7552ecf295113794410', '0x57c23c58b1d8c3292c15becf07c62c5c52457a42', '0x6951bdc4734b9f7f3e1b74afebc670c736a0edb6', '0xc8eb2cf2f792f77af0cd9e203305a585e588179d', '0x59ab5a5b5d617e478a2479b0cad80da7e2831492', '0x6b31a94029fd7840d780191b6d63fa0d269bd883', '0xe080027bd47353b5d1639772b4a75e9ed3658a0d')",
         "Odos",
         "1.051621553588687"
        ],
        [
         "13",
         "odos",
         "1",
         "0xae7ab96520DE3A18E5e111B5EaAb095312D7fE84",
         "0xC02aaA39b223FE8D0A0e5C4F27eAD9083C756Cc2",
         "stETH",
         "WETH",
         "100.0",
         "99.86807645274597",
         "2025-08-07 18:47:59.441283+00:00",
         "('0xdb74dfdd3bb46be8ce6c33dc9d82777bcfc3ded5', '0x88794c65550deb6b4087b7552ecf295113794410', '0x57c23c58b1d8c3292c15becf07c62c5c52457a42', '0x6951bdc4734b9f7f3e1b74afebc670c736a0edb6', '0xc8eb2cf2f792f77af0cd9e203305a585e588179d', '0x59ab5a5b5d617e478a2479b0cad80da7e2831492', '0x6b31a94029fd7840d780191b6d63fa0d269bd883', '0xe080027bd47353b5d1639772b4a75e9ed3658a0d')",
         "Odos",
         "0.9986807645274597"
        ],
        [
         "14",
         "odos",
         "1",
         "0xae78736Cd615f374D3085123A210448E74Fc6393",
         "0xC02aaA39b223FE8D0A0e5C4F27eAD9083C756Cc2",
         "rETH",
         "WETH",
         "200.0",
         "227.58186862389687",
         "2025-08-07 18:48:00.497050+00:00",
         "('0xdb74dfdd3bb46be8ce6c33dc9d82777bcfc3ded5', '0x88794c65550deb6b4087b7552ecf295113794410', '0x57c23c58b1d8c3292c15becf07c62c5c52457a42', '0x6951bdc4734b9f7f3e1b74afebc670c736a0edb6', '0xc8eb2cf2f792f77af0cd9e203305a585e588179d', '0x59ab5a5b5d617e478a2479b0cad80da7e2831492', '0x6b31a94029fd7840d780191b6d63fa0d269bd883', '0xe080027bd47353b5d1639772b4a75e9ed3658a0d')",
         "Odos",
         "1.1379093431194844"
        ],
        [
         "15",
         "tokemak",
         "1",
         "0xae7ab96520DE3A18E5e111B5EaAb095312D7fE84",
         "0xC02aaA39b223FE8D0A0e5C4F27eAD9083C756Cc2",
         "stETH",
         "WETH",
         "100.0",
         "99.86811099840453",
         "2025-08-07 18:46:39.040447+00:00",
         "()",
         "Odos",
         "0.9986811099840454"
        ],
        [
         "16",
         "tokemak",
         "1",
         "0xbf5495Efe5DB9ce00f80364C8B423567e58d2110",
         "0xC02aaA39b223FE8D0A0e5C4F27eAD9083C756Cc2",
         "ezETH",
         "WETH",
         "50.0",
         "52.74230690969471",
         "2025-08-07 18:46:39.712500+00:00",
         "()",
         "Odos",
         "1.0548461381938943"
        ],
        [
         "17",
         "tokemak",
         "1",
         "0x04C154b66CB340F3Ae24111CC767e0184Ed00Cc6",
         "0xC02aaA39b223FE8D0A0e5C4F27eAD9083C756Cc2",
         "pxETH",
         "WETH",
         "20.0",
         "19.92747779579849",
         "2025-08-07 18:46:39.840565+00:00",
         "()",
         "Odos",
         "0.9963738897899246"
        ],
        [
         "18",
         "tokemak",
         "1",
         "0xf1C9acDc66974dFB6dEcB12aA385b9cD01190E38",
         "0xC02aaA39b223FE8D0A0e5C4F27eAD9083C756Cc2",
         "osETH",
         "WETH",
         "20.0",
         "21.036352180719806",
         "2025-08-07 18:46:40.117698+00:00",
         "()",
         "Odos",
         "1.0518176090359903"
        ],
        [
         "19",
         "tokemak",
         "1",
         "0xae78736Cd615f374D3085123A210448E74Fc6393",
         "0xC02aaA39b223FE8D0A0e5C4F27eAD9083C756Cc2",
         "rETH",
         "WETH",
         "200.0",
         "227.58216649123383",
         "2025-08-07 18:46:40.595002+00:00",
         "()",
         "Odos",
         "1.137910832456169"
        ],
        [
         "20",
         "tokemak",
         "1",
         "0xae7ab96520DE3A18E5e111B5EaAb095312D7fE84",
         "0xC02aaA39b223FE8D0A0e5C4F27eAD9083C756Cc2",
         "stETH",
         "WETH",
         "100.0",
         "99.86811099840453",
         "2025-08-07 18:47:17.136985+00:00",
         "()",
         "Odos",
         "0.9986811099840454"
        ],
        [
         "21",
         "tokemak",
         "1",
         "0xae78736Cd615f374D3085123A210448E74Fc6393",
         "0xC02aaA39b223FE8D0A0e5C4F27eAD9083C756Cc2",
         "rETH",
         "WETH",
         "200.0",
         "227.58216831391556",
         "2025-08-07 18:47:17.180723+00:00",
         "()",
         "Odos",
         "1.1379108415695778"
        ],
        [
         "22",
         "tokemak",
         "1",
         "0xbf5495Efe5DB9ce00f80364C8B423567e58d2110",
         "0xC02aaA39b223FE8D0A0e5C4F27eAD9083C756Cc2",
         "ezETH",
         "WETH",
         "50.0",
         "52.74230690969471",
         "2025-08-07 18:47:17.203594+00:00",
         "()",
         "Odos",
         "1.0548461381938943"
        ],
        [
         "23",
         "tokemak",
         "1",
         "0xf1C9acDc66974dFB6dEcB12aA385b9cD01190E38",
         "0xC02aaA39b223FE8D0A0e5C4F27eAD9083C756Cc2",
         "osETH",
         "WETH",
         "20.0",
         "21.036353883708756",
         "2025-08-07 18:47:17.276920+00:00",
         "()",
         "Odos",
         "1.0518176941854378"
        ],
        [
         "24",
         "tokemak",
         "1",
         "0x04C154b66CB340F3Ae24111CC767e0184Ed00Cc6",
         "0xC02aaA39b223FE8D0A0e5C4F27eAD9083C756Cc2",
         "pxETH",
         "WETH",
         "20.0",
         "19.927477795798445",
         "2025-08-07 18:47:17.277765+00:00",
         "()",
         "Odos",
         "0.9963738897899223"
        ],
        [
         "25",
         "tokemak",
         "1",
         "0xf1C9acDc66974dFB6dEcB12aA385b9cD01190E38",
         "0xC02aaA39b223FE8D0A0e5C4F27eAD9083C756Cc2",
         "osETH",
         "WETH",
         "20.0",
         "21.036353883708756",
         "2025-08-07 18:47:55.889680+00:00",
         "()",
         "Odos",
         "1.0518176941854378"
        ],
        [
         "26",
         "tokemak",
         "1",
         "0xae78736Cd615f374D3085123A210448E74Fc6393",
         "0xC02aaA39b223FE8D0A0e5C4F27eAD9083C756Cc2",
         "rETH",
         "WETH",
         "200.0",
         "227.5821697137512",
         "2025-08-07 18:47:55.923726+00:00",
         "()",
         "Odos",
         "1.137910848568756"
        ],
        [
         "27",
         "tokemak",
         "1",
         "0x04C154b66CB340F3Ae24111CC767e0184Ed00Cc6",
         "0xC02aaA39b223FE8D0A0e5C4F27eAD9083C756Cc2",
         "pxETH",
         "WETH",
         "20.0",
         "19.92747779579823",
         "2025-08-07 18:47:55.944383+00:00",
         "()",
         "Odos",
         "0.9963738897899115"
        ],
        [
         "28",
         "tokemak",
         "1",
         "0xbf5495Efe5DB9ce00f80364C8B423567e58d2110",
         "0xC02aaA39b223FE8D0A0e5C4F27eAD9083C756Cc2",
         "ezETH",
         "WETH",
         "50.0",
         "52.74230690969471",
         "2025-08-07 18:47:56.338566+00:00",
         "()",
         "Odos",
         "1.0548461381938943"
        ],
        [
         "29",
         "tokemak",
         "1",
         "0xae7ab96520DE3A18E5e111B5EaAb095312D7fE84",
         "0xC02aaA39b223FE8D0A0e5C4F27eAD9083C756Cc2",
         "stETH",
         "WETH",
         "100.0",
         "99.86807645274597",
         "2025-08-07 18:47:57.543605+00:00",
         "()",
         "Odos",
         "0.9986807645274597"
        ]
       ],
       "shape": {
        "columns": 12,
        "rows": 30
       }
      },
      "text/html": [
       "<div>\n",
       "<style scoped>\n",
       "    .dataframe tbody tr th:only-of-type {\n",
       "        vertical-align: middle;\n",
       "    }\n",
       "\n",
       "    .dataframe tbody tr th {\n",
       "        vertical-align: top;\n",
       "    }\n",
       "\n",
       "    .dataframe thead th {\n",
       "        text-align: right;\n",
       "    }\n",
       "</style>\n",
       "<table border=\"1\" class=\"dataframe\">\n",
       "  <thead>\n",
       "    <tr style=\"text-align: right;\">\n",
       "      <th></th>\n",
       "      <th>api</th>\n",
       "      <th>chain_id</th>\n",
       "      <th>token_in</th>\n",
       "      <th>token_out</th>\n",
       "      <th>token_in_symbol</th>\n",
       "      <th>token_out_symbol</th>\n",
       "      <th>scaled_amount_in</th>\n",
       "      <th>scaled_amount_out</th>\n",
       "      <th>datetime_received</th>\n",
       "      <th>pools_blacklist</th>\n",
       "      <th>aggregator_name</th>\n",
       "      <th>effective_price</th>\n",
       "    </tr>\n",
       "  </thead>\n",
       "  <tbody>\n",
       "    <tr>\n",
       "      <th>0</th>\n",
       "      <td>odos</td>\n",
       "      <td>1</td>\n",
       "      <td>0xae7ab96520DE3A18E5e111B5EaAb095312D7fE84</td>\n",
       "      <td>0xC02aaA39b223FE8D0A0e5C4F27eAD9083C756Cc2</td>\n",
       "      <td>stETH</td>\n",
       "      <td>WETH</td>\n",
       "      <td>100.0</td>\n",
       "      <td>99.868111</td>\n",
       "      <td>2025-08-07 18:46:41.560941+00:00</td>\n",
       "      <td>(0xdb74dfdd3bb46be8ce6c33dc9d82777bcfc3ded5, 0...</td>\n",
       "      <td>Odos</td>\n",
       "      <td>0.998681</td>\n",
       "    </tr>\n",
       "    <tr>\n",
       "      <th>1</th>\n",
       "      <td>odos</td>\n",
       "      <td>1</td>\n",
       "      <td>0xf1C9acDc66974dFB6dEcB12aA385b9cD01190E38</td>\n",
       "      <td>0xC02aaA39b223FE8D0A0e5C4F27eAD9083C756Cc2</td>\n",
       "      <td>osETH</td>\n",
       "      <td>WETH</td>\n",
       "      <td>20.0</td>\n",
       "      <td>21.032431</td>\n",
       "      <td>2025-08-07 18:46:41.561891+00:00</td>\n",
       "      <td>(0xdb74dfdd3bb46be8ce6c33dc9d82777bcfc3ded5, 0...</td>\n",
       "      <td>Odos</td>\n",
       "      <td>1.051622</td>\n",
       "    </tr>\n",
       "    <tr>\n",
       "      <th>2</th>\n",
       "      <td>odos</td>\n",
       "      <td>1</td>\n",
       "      <td>0xae78736Cd615f374D3085123A210448E74Fc6393</td>\n",
       "      <td>0xC02aaA39b223FE8D0A0e5C4F27eAD9083C756Cc2</td>\n",
       "      <td>rETH</td>\n",
       "      <td>WETH</td>\n",
       "      <td>200.0</td>\n",
       "      <td>227.581867</td>\n",
       "      <td>2025-08-07 18:46:42.076729+00:00</td>\n",
       "      <td>(0xdb74dfdd3bb46be8ce6c33dc9d82777bcfc3ded5, 0...</td>\n",
       "      <td>Odos</td>\n",
       "      <td>1.137909</td>\n",
       "    </tr>\n",
       "    <tr>\n",
       "      <th>3</th>\n",
       "      <td>odos</td>\n",
       "      <td>1</td>\n",
       "      <td>0xbf5495Efe5DB9ce00f80364C8B423567e58d2110</td>\n",
       "      <td>0xC02aaA39b223FE8D0A0e5C4F27eAD9083C756Cc2</td>\n",
       "      <td>ezETH</td>\n",
       "      <td>WETH</td>\n",
       "      <td>50.0</td>\n",
       "      <td>52.742307</td>\n",
       "      <td>2025-08-07 18:46:42.954250+00:00</td>\n",
       "      <td>(0xdb74dfdd3bb46be8ce6c33dc9d82777bcfc3ded5, 0...</td>\n",
       "      <td>Odos</td>\n",
       "      <td>1.054846</td>\n",
       "    </tr>\n",
       "    <tr>\n",
       "      <th>4</th>\n",
       "      <td>odos</td>\n",
       "      <td>1</td>\n",
       "      <td>0x04C154b66CB340F3Ae24111CC767e0184Ed00Cc6</td>\n",
       "      <td>0xC02aaA39b223FE8D0A0e5C4F27eAD9083C756Cc2</td>\n",
       "      <td>pxETH</td>\n",
       "      <td>WETH</td>\n",
       "      <td>20.0</td>\n",
       "      <td>19.925611</td>\n",
       "      <td>2025-08-07 18:46:44.314680+00:00</td>\n",
       "      <td>(0xdb74dfdd3bb46be8ce6c33dc9d82777bcfc3ded5, 0...</td>\n",
       "      <td>Odos</td>\n",
       "      <td>0.996281</td>\n",
       "    </tr>\n",
       "    <tr>\n",
       "      <th>5</th>\n",
       "      <td>odos</td>\n",
       "      <td>1</td>\n",
       "      <td>0xf1C9acDc66974dFB6dEcB12aA385b9cD01190E38</td>\n",
       "      <td>0xC02aaA39b223FE8D0A0e5C4F27eAD9083C756Cc2</td>\n",
       "      <td>osETH</td>\n",
       "      <td>WETH</td>\n",
       "      <td>20.0</td>\n",
       "      <td>21.032431</td>\n",
       "      <td>2025-08-07 18:47:18.297853+00:00</td>\n",
       "      <td>(0xdb74dfdd3bb46be8ce6c33dc9d82777bcfc3ded5, 0...</td>\n",
       "      <td>Odos</td>\n",
       "      <td>1.051622</td>\n",
       "    </tr>\n",
       "    <tr>\n",
       "      <th>6</th>\n",
       "      <td>odos</td>\n",
       "      <td>1</td>\n",
       "      <td>0xae7ab96520DE3A18E5e111B5EaAb095312D7fE84</td>\n",
       "      <td>0xC02aaA39b223FE8D0A0e5C4F27eAD9083C756Cc2</td>\n",
       "      <td>stETH</td>\n",
       "      <td>WETH</td>\n",
       "      <td>100.0</td>\n",
       "      <td>99.868076</td>\n",
       "      <td>2025-08-07 18:47:18.318183+00:00</td>\n",
       "      <td>(0xdb74dfdd3bb46be8ce6c33dc9d82777bcfc3ded5, 0...</td>\n",
       "      <td>Odos</td>\n",
       "      <td>0.998681</td>\n",
       "    </tr>\n",
       "    <tr>\n",
       "      <th>7</th>\n",
       "      <td>odos</td>\n",
       "      <td>1</td>\n",
       "      <td>0xbf5495Efe5DB9ce00f80364C8B423567e58d2110</td>\n",
       "      <td>0xC02aaA39b223FE8D0A0e5C4F27eAD9083C756Cc2</td>\n",
       "      <td>ezETH</td>\n",
       "      <td>WETH</td>\n",
       "      <td>50.0</td>\n",
       "      <td>52.742307</td>\n",
       "      <td>2025-08-07 18:47:18.393928+00:00</td>\n",
       "      <td>(0xdb74dfdd3bb46be8ce6c33dc9d82777bcfc3ded5, 0...</td>\n",
       "      <td>Odos</td>\n",
       "      <td>1.054846</td>\n",
       "    </tr>\n",
       "    <tr>\n",
       "      <th>8</th>\n",
       "      <td>odos</td>\n",
       "      <td>1</td>\n",
       "      <td>0x04C154b66CB340F3Ae24111CC767e0184Ed00Cc6</td>\n",
       "      <td>0xC02aaA39b223FE8D0A0e5C4F27eAD9083C756Cc2</td>\n",
       "      <td>pxETH</td>\n",
       "      <td>WETH</td>\n",
       "      <td>20.0</td>\n",
       "      <td>19.925611</td>\n",
       "      <td>2025-08-07 18:47:20.570160+00:00</td>\n",
       "      <td>(0xdb74dfdd3bb46be8ce6c33dc9d82777bcfc3ded5, 0...</td>\n",
       "      <td>Odos</td>\n",
       "      <td>0.996281</td>\n",
       "    </tr>\n",
       "    <tr>\n",
       "      <th>9</th>\n",
       "      <td>odos</td>\n",
       "      <td>1</td>\n",
       "      <td>0xae78736Cd615f374D3085123A210448E74Fc6393</td>\n",
       "      <td>0xC02aaA39b223FE8D0A0e5C4F27eAD9083C756Cc2</td>\n",
       "      <td>rETH</td>\n",
       "      <td>WETH</td>\n",
       "      <td>200.0</td>\n",
       "      <td>227.581869</td>\n",
       "      <td>2025-08-07 18:47:22.979036+00:00</td>\n",
       "      <td>(0xdb74dfdd3bb46be8ce6c33dc9d82777bcfc3ded5, 0...</td>\n",
       "      <td>Odos</td>\n",
       "      <td>1.137909</td>\n",
       "    </tr>\n",
       "    <tr>\n",
       "      <th>10</th>\n",
       "      <td>odos</td>\n",
       "      <td>1</td>\n",
       "      <td>0x04C154b66CB340F3Ae24111CC767e0184Ed00Cc6</td>\n",
       "      <td>0xC02aaA39b223FE8D0A0e5C4F27eAD9083C756Cc2</td>\n",
       "      <td>pxETH</td>\n",
       "      <td>WETH</td>\n",
       "      <td>20.0</td>\n",
       "      <td>19.925611</td>\n",
       "      <td>2025-08-07 18:47:58.303515+00:00</td>\n",
       "      <td>(0xdb74dfdd3bb46be8ce6c33dc9d82777bcfc3ded5, 0...</td>\n",
       "      <td>Odos</td>\n",
       "      <td>0.996281</td>\n",
       "    </tr>\n",
       "    <tr>\n",
       "      <th>11</th>\n",
       "      <td>odos</td>\n",
       "      <td>1</td>\n",
       "      <td>0xbf5495Efe5DB9ce00f80364C8B423567e58d2110</td>\n",
       "      <td>0xC02aaA39b223FE8D0A0e5C4F27eAD9083C756Cc2</td>\n",
       "      <td>ezETH</td>\n",
       "      <td>WETH</td>\n",
       "      <td>50.0</td>\n",
       "      <td>52.742307</td>\n",
       "      <td>2025-08-07 18:47:58.430842+00:00</td>\n",
       "      <td>(0xdb74dfdd3bb46be8ce6c33dc9d82777bcfc3ded5, 0...</td>\n",
       "      <td>Odos</td>\n",
       "      <td>1.054846</td>\n",
       "    </tr>\n",
       "    <tr>\n",
       "      <th>12</th>\n",
       "      <td>odos</td>\n",
       "      <td>1</td>\n",
       "      <td>0xf1C9acDc66974dFB6dEcB12aA385b9cD01190E38</td>\n",
       "      <td>0xC02aaA39b223FE8D0A0e5C4F27eAD9083C756Cc2</td>\n",
       "      <td>osETH</td>\n",
       "      <td>WETH</td>\n",
       "      <td>20.0</td>\n",
       "      <td>21.032431</td>\n",
       "      <td>2025-08-07 18:47:59.387090+00:00</td>\n",
       "      <td>(0xdb74dfdd3bb46be8ce6c33dc9d82777bcfc3ded5, 0...</td>\n",
       "      <td>Odos</td>\n",
       "      <td>1.051622</td>\n",
       "    </tr>\n",
       "    <tr>\n",
       "      <th>13</th>\n",
       "      <td>odos</td>\n",
       "      <td>1</td>\n",
       "      <td>0xae7ab96520DE3A18E5e111B5EaAb095312D7fE84</td>\n",
       "      <td>0xC02aaA39b223FE8D0A0e5C4F27eAD9083C756Cc2</td>\n",
       "      <td>stETH</td>\n",
       "      <td>WETH</td>\n",
       "      <td>100.0</td>\n",
       "      <td>99.868076</td>\n",
       "      <td>2025-08-07 18:47:59.441283+00:00</td>\n",
       "      <td>(0xdb74dfdd3bb46be8ce6c33dc9d82777bcfc3ded5, 0...</td>\n",
       "      <td>Odos</td>\n",
       "      <td>0.998681</td>\n",
       "    </tr>\n",
       "    <tr>\n",
       "      <th>14</th>\n",
       "      <td>odos</td>\n",
       "      <td>1</td>\n",
       "      <td>0xae78736Cd615f374D3085123A210448E74Fc6393</td>\n",
       "      <td>0xC02aaA39b223FE8D0A0e5C4F27eAD9083C756Cc2</td>\n",
       "      <td>rETH</td>\n",
       "      <td>WETH</td>\n",
       "      <td>200.0</td>\n",
       "      <td>227.581869</td>\n",
       "      <td>2025-08-07 18:48:00.497050+00:00</td>\n",
       "      <td>(0xdb74dfdd3bb46be8ce6c33dc9d82777bcfc3ded5, 0...</td>\n",
       "      <td>Odos</td>\n",
       "      <td>1.137909</td>\n",
       "    </tr>\n",
       "    <tr>\n",
       "      <th>15</th>\n",
       "      <td>tokemak</td>\n",
       "      <td>1</td>\n",
       "      <td>0xae7ab96520DE3A18E5e111B5EaAb095312D7fE84</td>\n",
       "      <td>0xC02aaA39b223FE8D0A0e5C4F27eAD9083C756Cc2</td>\n",
       "      <td>stETH</td>\n",
       "      <td>WETH</td>\n",
       "      <td>100.0</td>\n",
       "      <td>99.868111</td>\n",
       "      <td>2025-08-07 18:46:39.040447+00:00</td>\n",
       "      <td>()</td>\n",
       "      <td>Odos</td>\n",
       "      <td>0.998681</td>\n",
       "    </tr>\n",
       "    <tr>\n",
       "      <th>16</th>\n",
       "      <td>tokemak</td>\n",
       "      <td>1</td>\n",
       "      <td>0xbf5495Efe5DB9ce00f80364C8B423567e58d2110</td>\n",
       "      <td>0xC02aaA39b223FE8D0A0e5C4F27eAD9083C756Cc2</td>\n",
       "      <td>ezETH</td>\n",
       "      <td>WETH</td>\n",
       "      <td>50.0</td>\n",
       "      <td>52.742307</td>\n",
       "      <td>2025-08-07 18:46:39.712500+00:00</td>\n",
       "      <td>()</td>\n",
       "      <td>Odos</td>\n",
       "      <td>1.054846</td>\n",
       "    </tr>\n",
       "    <tr>\n",
       "      <th>17</th>\n",
       "      <td>tokemak</td>\n",
       "      <td>1</td>\n",
       "      <td>0x04C154b66CB340F3Ae24111CC767e0184Ed00Cc6</td>\n",
       "      <td>0xC02aaA39b223FE8D0A0e5C4F27eAD9083C756Cc2</td>\n",
       "      <td>pxETH</td>\n",
       "      <td>WETH</td>\n",
       "      <td>20.0</td>\n",
       "      <td>19.927478</td>\n",
       "      <td>2025-08-07 18:46:39.840565+00:00</td>\n",
       "      <td>()</td>\n",
       "      <td>Odos</td>\n",
       "      <td>0.996374</td>\n",
       "    </tr>\n",
       "    <tr>\n",
       "      <th>18</th>\n",
       "      <td>tokemak</td>\n",
       "      <td>1</td>\n",
       "      <td>0xf1C9acDc66974dFB6dEcB12aA385b9cD01190E38</td>\n",
       "      <td>0xC02aaA39b223FE8D0A0e5C4F27eAD9083C756Cc2</td>\n",
       "      <td>osETH</td>\n",
       "      <td>WETH</td>\n",
       "      <td>20.0</td>\n",
       "      <td>21.036352</td>\n",
       "      <td>2025-08-07 18:46:40.117698+00:00</td>\n",
       "      <td>()</td>\n",
       "      <td>Odos</td>\n",
       "      <td>1.051818</td>\n",
       "    </tr>\n",
       "    <tr>\n",
       "      <th>19</th>\n",
       "      <td>tokemak</td>\n",
       "      <td>1</td>\n",
       "      <td>0xae78736Cd615f374D3085123A210448E74Fc6393</td>\n",
       "      <td>0xC02aaA39b223FE8D0A0e5C4F27eAD9083C756Cc2</td>\n",
       "      <td>rETH</td>\n",
       "      <td>WETH</td>\n",
       "      <td>200.0</td>\n",
       "      <td>227.582166</td>\n",
       "      <td>2025-08-07 18:46:40.595002+00:00</td>\n",
       "      <td>()</td>\n",
       "      <td>Odos</td>\n",
       "      <td>1.137911</td>\n",
       "    </tr>\n",
       "    <tr>\n",
       "      <th>20</th>\n",
       "      <td>tokemak</td>\n",
       "      <td>1</td>\n",
       "      <td>0xae7ab96520DE3A18E5e111B5EaAb095312D7fE84</td>\n",
       "      <td>0xC02aaA39b223FE8D0A0e5C4F27eAD9083C756Cc2</td>\n",
       "      <td>stETH</td>\n",
       "      <td>WETH</td>\n",
       "      <td>100.0</td>\n",
       "      <td>99.868111</td>\n",
       "      <td>2025-08-07 18:47:17.136985+00:00</td>\n",
       "      <td>()</td>\n",
       "      <td>Odos</td>\n",
       "      <td>0.998681</td>\n",
       "    </tr>\n",
       "    <tr>\n",
       "      <th>21</th>\n",
       "      <td>tokemak</td>\n",
       "      <td>1</td>\n",
       "      <td>0xae78736Cd615f374D3085123A210448E74Fc6393</td>\n",
       "      <td>0xC02aaA39b223FE8D0A0e5C4F27eAD9083C756Cc2</td>\n",
       "      <td>rETH</td>\n",
       "      <td>WETH</td>\n",
       "      <td>200.0</td>\n",
       "      <td>227.582168</td>\n",
       "      <td>2025-08-07 18:47:17.180723+00:00</td>\n",
       "      <td>()</td>\n",
       "      <td>Odos</td>\n",
       "      <td>1.137911</td>\n",
       "    </tr>\n",
       "    <tr>\n",
       "      <th>22</th>\n",
       "      <td>tokemak</td>\n",
       "      <td>1</td>\n",
       "      <td>0xbf5495Efe5DB9ce00f80364C8B423567e58d2110</td>\n",
       "      <td>0xC02aaA39b223FE8D0A0e5C4F27eAD9083C756Cc2</td>\n",
       "      <td>ezETH</td>\n",
       "      <td>WETH</td>\n",
       "      <td>50.0</td>\n",
       "      <td>52.742307</td>\n",
       "      <td>2025-08-07 18:47:17.203594+00:00</td>\n",
       "      <td>()</td>\n",
       "      <td>Odos</td>\n",
       "      <td>1.054846</td>\n",
       "    </tr>\n",
       "    <tr>\n",
       "      <th>23</th>\n",
       "      <td>tokemak</td>\n",
       "      <td>1</td>\n",
       "      <td>0xf1C9acDc66974dFB6dEcB12aA385b9cD01190E38</td>\n",
       "      <td>0xC02aaA39b223FE8D0A0e5C4F27eAD9083C756Cc2</td>\n",
       "      <td>osETH</td>\n",
       "      <td>WETH</td>\n",
       "      <td>20.0</td>\n",
       "      <td>21.036354</td>\n",
       "      <td>2025-08-07 18:47:17.276920+00:00</td>\n",
       "      <td>()</td>\n",
       "      <td>Odos</td>\n",
       "      <td>1.051818</td>\n",
       "    </tr>\n",
       "    <tr>\n",
       "      <th>24</th>\n",
       "      <td>tokemak</td>\n",
       "      <td>1</td>\n",
       "      <td>0x04C154b66CB340F3Ae24111CC767e0184Ed00Cc6</td>\n",
       "      <td>0xC02aaA39b223FE8D0A0e5C4F27eAD9083C756Cc2</td>\n",
       "      <td>pxETH</td>\n",
       "      <td>WETH</td>\n",
       "      <td>20.0</td>\n",
       "      <td>19.927478</td>\n",
       "      <td>2025-08-07 18:47:17.277765+00:00</td>\n",
       "      <td>()</td>\n",
       "      <td>Odos</td>\n",
       "      <td>0.996374</td>\n",
       "    </tr>\n",
       "    <tr>\n",
       "      <th>25</th>\n",
       "      <td>tokemak</td>\n",
       "      <td>1</td>\n",
       "      <td>0xf1C9acDc66974dFB6dEcB12aA385b9cD01190E38</td>\n",
       "      <td>0xC02aaA39b223FE8D0A0e5C4F27eAD9083C756Cc2</td>\n",
       "      <td>osETH</td>\n",
       "      <td>WETH</td>\n",
       "      <td>20.0</td>\n",
       "      <td>21.036354</td>\n",
       "      <td>2025-08-07 18:47:55.889680+00:00</td>\n",
       "      <td>()</td>\n",
       "      <td>Odos</td>\n",
       "      <td>1.051818</td>\n",
       "    </tr>\n",
       "    <tr>\n",
       "      <th>26</th>\n",
       "      <td>tokemak</td>\n",
       "      <td>1</td>\n",
       "      <td>0xae78736Cd615f374D3085123A210448E74Fc6393</td>\n",
       "      <td>0xC02aaA39b223FE8D0A0e5C4F27eAD9083C756Cc2</td>\n",
       "      <td>rETH</td>\n",
       "      <td>WETH</td>\n",
       "      <td>200.0</td>\n",
       "      <td>227.582170</td>\n",
       "      <td>2025-08-07 18:47:55.923726+00:00</td>\n",
       "      <td>()</td>\n",
       "      <td>Odos</td>\n",
       "      <td>1.137911</td>\n",
       "    </tr>\n",
       "    <tr>\n",
       "      <th>27</th>\n",
       "      <td>tokemak</td>\n",
       "      <td>1</td>\n",
       "      <td>0x04C154b66CB340F3Ae24111CC767e0184Ed00Cc6</td>\n",
       "      <td>0xC02aaA39b223FE8D0A0e5C4F27eAD9083C756Cc2</td>\n",
       "      <td>pxETH</td>\n",
       "      <td>WETH</td>\n",
       "      <td>20.0</td>\n",
       "      <td>19.927478</td>\n",
       "      <td>2025-08-07 18:47:55.944383+00:00</td>\n",
       "      <td>()</td>\n",
       "      <td>Odos</td>\n",
       "      <td>0.996374</td>\n",
       "    </tr>\n",
       "    <tr>\n",
       "      <th>28</th>\n",
       "      <td>tokemak</td>\n",
       "      <td>1</td>\n",
       "      <td>0xbf5495Efe5DB9ce00f80364C8B423567e58d2110</td>\n",
       "      <td>0xC02aaA39b223FE8D0A0e5C4F27eAD9083C756Cc2</td>\n",
       "      <td>ezETH</td>\n",
       "      <td>WETH</td>\n",
       "      <td>50.0</td>\n",
       "      <td>52.742307</td>\n",
       "      <td>2025-08-07 18:47:56.338566+00:00</td>\n",
       "      <td>()</td>\n",
       "      <td>Odos</td>\n",
       "      <td>1.054846</td>\n",
       "    </tr>\n",
       "    <tr>\n",
       "      <th>29</th>\n",
       "      <td>tokemak</td>\n",
       "      <td>1</td>\n",
       "      <td>0xae7ab96520DE3A18E5e111B5EaAb095312D7fE84</td>\n",
       "      <td>0xC02aaA39b223FE8D0A0e5C4F27eAD9083C756Cc2</td>\n",
       "      <td>stETH</td>\n",
       "      <td>WETH</td>\n",
       "      <td>100.0</td>\n",
       "      <td>99.868076</td>\n",
       "      <td>2025-08-07 18:47:57.543605+00:00</td>\n",
       "      <td>()</td>\n",
       "      <td>Odos</td>\n",
       "      <td>0.998681</td>\n",
       "    </tr>\n",
       "  </tbody>\n",
       "</table>\n",
       "</div>"
      ],
      "text/plain": [
       "        api  chain_id                                    token_in  \\\n",
       "0      odos         1  0xae7ab96520DE3A18E5e111B5EaAb095312D7fE84   \n",
       "1      odos         1  0xf1C9acDc66974dFB6dEcB12aA385b9cD01190E38   \n",
       "2      odos         1  0xae78736Cd615f374D3085123A210448E74Fc6393   \n",
       "3      odos         1  0xbf5495Efe5DB9ce00f80364C8B423567e58d2110   \n",
       "4      odos         1  0x04C154b66CB340F3Ae24111CC767e0184Ed00Cc6   \n",
       "5      odos         1  0xf1C9acDc66974dFB6dEcB12aA385b9cD01190E38   \n",
       "6      odos         1  0xae7ab96520DE3A18E5e111B5EaAb095312D7fE84   \n",
       "7      odos         1  0xbf5495Efe5DB9ce00f80364C8B423567e58d2110   \n",
       "8      odos         1  0x04C154b66CB340F3Ae24111CC767e0184Ed00Cc6   \n",
       "9      odos         1  0xae78736Cd615f374D3085123A210448E74Fc6393   \n",
       "10     odos         1  0x04C154b66CB340F3Ae24111CC767e0184Ed00Cc6   \n",
       "11     odos         1  0xbf5495Efe5DB9ce00f80364C8B423567e58d2110   \n",
       "12     odos         1  0xf1C9acDc66974dFB6dEcB12aA385b9cD01190E38   \n",
       "13     odos         1  0xae7ab96520DE3A18E5e111B5EaAb095312D7fE84   \n",
       "14     odos         1  0xae78736Cd615f374D3085123A210448E74Fc6393   \n",
       "15  tokemak         1  0xae7ab96520DE3A18E5e111B5EaAb095312D7fE84   \n",
       "16  tokemak         1  0xbf5495Efe5DB9ce00f80364C8B423567e58d2110   \n",
       "17  tokemak         1  0x04C154b66CB340F3Ae24111CC767e0184Ed00Cc6   \n",
       "18  tokemak         1  0xf1C9acDc66974dFB6dEcB12aA385b9cD01190E38   \n",
       "19  tokemak         1  0xae78736Cd615f374D3085123A210448E74Fc6393   \n",
       "20  tokemak         1  0xae7ab96520DE3A18E5e111B5EaAb095312D7fE84   \n",
       "21  tokemak         1  0xae78736Cd615f374D3085123A210448E74Fc6393   \n",
       "22  tokemak         1  0xbf5495Efe5DB9ce00f80364C8B423567e58d2110   \n",
       "23  tokemak         1  0xf1C9acDc66974dFB6dEcB12aA385b9cD01190E38   \n",
       "24  tokemak         1  0x04C154b66CB340F3Ae24111CC767e0184Ed00Cc6   \n",
       "25  tokemak         1  0xf1C9acDc66974dFB6dEcB12aA385b9cD01190E38   \n",
       "26  tokemak         1  0xae78736Cd615f374D3085123A210448E74Fc6393   \n",
       "27  tokemak         1  0x04C154b66CB340F3Ae24111CC767e0184Ed00Cc6   \n",
       "28  tokemak         1  0xbf5495Efe5DB9ce00f80364C8B423567e58d2110   \n",
       "29  tokemak         1  0xae7ab96520DE3A18E5e111B5EaAb095312D7fE84   \n",
       "\n",
       "                                     token_out token_in_symbol  \\\n",
       "0   0xC02aaA39b223FE8D0A0e5C4F27eAD9083C756Cc2           stETH   \n",
       "1   0xC02aaA39b223FE8D0A0e5C4F27eAD9083C756Cc2           osETH   \n",
       "2   0xC02aaA39b223FE8D0A0e5C4F27eAD9083C756Cc2            rETH   \n",
       "3   0xC02aaA39b223FE8D0A0e5C4F27eAD9083C756Cc2           ezETH   \n",
       "4   0xC02aaA39b223FE8D0A0e5C4F27eAD9083C756Cc2           pxETH   \n",
       "5   0xC02aaA39b223FE8D0A0e5C4F27eAD9083C756Cc2           osETH   \n",
       "6   0xC02aaA39b223FE8D0A0e5C4F27eAD9083C756Cc2           stETH   \n",
       "7   0xC02aaA39b223FE8D0A0e5C4F27eAD9083C756Cc2           ezETH   \n",
       "8   0xC02aaA39b223FE8D0A0e5C4F27eAD9083C756Cc2           pxETH   \n",
       "9   0xC02aaA39b223FE8D0A0e5C4F27eAD9083C756Cc2            rETH   \n",
       "10  0xC02aaA39b223FE8D0A0e5C4F27eAD9083C756Cc2           pxETH   \n",
       "11  0xC02aaA39b223FE8D0A0e5C4F27eAD9083C756Cc2           ezETH   \n",
       "12  0xC02aaA39b223FE8D0A0e5C4F27eAD9083C756Cc2           osETH   \n",
       "13  0xC02aaA39b223FE8D0A0e5C4F27eAD9083C756Cc2           stETH   \n",
       "14  0xC02aaA39b223FE8D0A0e5C4F27eAD9083C756Cc2            rETH   \n",
       "15  0xC02aaA39b223FE8D0A0e5C4F27eAD9083C756Cc2           stETH   \n",
       "16  0xC02aaA39b223FE8D0A0e5C4F27eAD9083C756Cc2           ezETH   \n",
       "17  0xC02aaA39b223FE8D0A0e5C4F27eAD9083C756Cc2           pxETH   \n",
       "18  0xC02aaA39b223FE8D0A0e5C4F27eAD9083C756Cc2           osETH   \n",
       "19  0xC02aaA39b223FE8D0A0e5C4F27eAD9083C756Cc2            rETH   \n",
       "20  0xC02aaA39b223FE8D0A0e5C4F27eAD9083C756Cc2           stETH   \n",
       "21  0xC02aaA39b223FE8D0A0e5C4F27eAD9083C756Cc2            rETH   \n",
       "22  0xC02aaA39b223FE8D0A0e5C4F27eAD9083C756Cc2           ezETH   \n",
       "23  0xC02aaA39b223FE8D0A0e5C4F27eAD9083C756Cc2           osETH   \n",
       "24  0xC02aaA39b223FE8D0A0e5C4F27eAD9083C756Cc2           pxETH   \n",
       "25  0xC02aaA39b223FE8D0A0e5C4F27eAD9083C756Cc2           osETH   \n",
       "26  0xC02aaA39b223FE8D0A0e5C4F27eAD9083C756Cc2            rETH   \n",
       "27  0xC02aaA39b223FE8D0A0e5C4F27eAD9083C756Cc2           pxETH   \n",
       "28  0xC02aaA39b223FE8D0A0e5C4F27eAD9083C756Cc2           ezETH   \n",
       "29  0xC02aaA39b223FE8D0A0e5C4F27eAD9083C756Cc2           stETH   \n",
       "\n",
       "   token_out_symbol  scaled_amount_in  scaled_amount_out  \\\n",
       "0              WETH             100.0          99.868111   \n",
       "1              WETH              20.0          21.032431   \n",
       "2              WETH             200.0         227.581867   \n",
       "3              WETH              50.0          52.742307   \n",
       "4              WETH              20.0          19.925611   \n",
       "5              WETH              20.0          21.032431   \n",
       "6              WETH             100.0          99.868076   \n",
       "7              WETH              50.0          52.742307   \n",
       "8              WETH              20.0          19.925611   \n",
       "9              WETH             200.0         227.581869   \n",
       "10             WETH              20.0          19.925611   \n",
       "11             WETH              50.0          52.742307   \n",
       "12             WETH              20.0          21.032431   \n",
       "13             WETH             100.0          99.868076   \n",
       "14             WETH             200.0         227.581869   \n",
       "15             WETH             100.0          99.868111   \n",
       "16             WETH              50.0          52.742307   \n",
       "17             WETH              20.0          19.927478   \n",
       "18             WETH              20.0          21.036352   \n",
       "19             WETH             200.0         227.582166   \n",
       "20             WETH             100.0          99.868111   \n",
       "21             WETH             200.0         227.582168   \n",
       "22             WETH              50.0          52.742307   \n",
       "23             WETH              20.0          21.036354   \n",
       "24             WETH              20.0          19.927478   \n",
       "25             WETH              20.0          21.036354   \n",
       "26             WETH             200.0         227.582170   \n",
       "27             WETH              20.0          19.927478   \n",
       "28             WETH              50.0          52.742307   \n",
       "29             WETH             100.0          99.868076   \n",
       "\n",
       "                  datetime_received  \\\n",
       "0  2025-08-07 18:46:41.560941+00:00   \n",
       "1  2025-08-07 18:46:41.561891+00:00   \n",
       "2  2025-08-07 18:46:42.076729+00:00   \n",
       "3  2025-08-07 18:46:42.954250+00:00   \n",
       "4  2025-08-07 18:46:44.314680+00:00   \n",
       "5  2025-08-07 18:47:18.297853+00:00   \n",
       "6  2025-08-07 18:47:18.318183+00:00   \n",
       "7  2025-08-07 18:47:18.393928+00:00   \n",
       "8  2025-08-07 18:47:20.570160+00:00   \n",
       "9  2025-08-07 18:47:22.979036+00:00   \n",
       "10 2025-08-07 18:47:58.303515+00:00   \n",
       "11 2025-08-07 18:47:58.430842+00:00   \n",
       "12 2025-08-07 18:47:59.387090+00:00   \n",
       "13 2025-08-07 18:47:59.441283+00:00   \n",
       "14 2025-08-07 18:48:00.497050+00:00   \n",
       "15 2025-08-07 18:46:39.040447+00:00   \n",
       "16 2025-08-07 18:46:39.712500+00:00   \n",
       "17 2025-08-07 18:46:39.840565+00:00   \n",
       "18 2025-08-07 18:46:40.117698+00:00   \n",
       "19 2025-08-07 18:46:40.595002+00:00   \n",
       "20 2025-08-07 18:47:17.136985+00:00   \n",
       "21 2025-08-07 18:47:17.180723+00:00   \n",
       "22 2025-08-07 18:47:17.203594+00:00   \n",
       "23 2025-08-07 18:47:17.276920+00:00   \n",
       "24 2025-08-07 18:47:17.277765+00:00   \n",
       "25 2025-08-07 18:47:55.889680+00:00   \n",
       "26 2025-08-07 18:47:55.923726+00:00   \n",
       "27 2025-08-07 18:47:55.944383+00:00   \n",
       "28 2025-08-07 18:47:56.338566+00:00   \n",
       "29 2025-08-07 18:47:57.543605+00:00   \n",
       "\n",
       "                                      pools_blacklist aggregator_name  \\\n",
       "0   (0xdb74dfdd3bb46be8ce6c33dc9d82777bcfc3ded5, 0...            Odos   \n",
       "1   (0xdb74dfdd3bb46be8ce6c33dc9d82777bcfc3ded5, 0...            Odos   \n",
       "2   (0xdb74dfdd3bb46be8ce6c33dc9d82777bcfc3ded5, 0...            Odos   \n",
       "3   (0xdb74dfdd3bb46be8ce6c33dc9d82777bcfc3ded5, 0...            Odos   \n",
       "4   (0xdb74dfdd3bb46be8ce6c33dc9d82777bcfc3ded5, 0...            Odos   \n",
       "5   (0xdb74dfdd3bb46be8ce6c33dc9d82777bcfc3ded5, 0...            Odos   \n",
       "6   (0xdb74dfdd3bb46be8ce6c33dc9d82777bcfc3ded5, 0...            Odos   \n",
       "7   (0xdb74dfdd3bb46be8ce6c33dc9d82777bcfc3ded5, 0...            Odos   \n",
       "8   (0xdb74dfdd3bb46be8ce6c33dc9d82777bcfc3ded5, 0...            Odos   \n",
       "9   (0xdb74dfdd3bb46be8ce6c33dc9d82777bcfc3ded5, 0...            Odos   \n",
       "10  (0xdb74dfdd3bb46be8ce6c33dc9d82777bcfc3ded5, 0...            Odos   \n",
       "11  (0xdb74dfdd3bb46be8ce6c33dc9d82777bcfc3ded5, 0...            Odos   \n",
       "12  (0xdb74dfdd3bb46be8ce6c33dc9d82777bcfc3ded5, 0...            Odos   \n",
       "13  (0xdb74dfdd3bb46be8ce6c33dc9d82777bcfc3ded5, 0...            Odos   \n",
       "14  (0xdb74dfdd3bb46be8ce6c33dc9d82777bcfc3ded5, 0...            Odos   \n",
       "15                                                 ()            Odos   \n",
       "16                                                 ()            Odos   \n",
       "17                                                 ()            Odos   \n",
       "18                                                 ()            Odos   \n",
       "19                                                 ()            Odos   \n",
       "20                                                 ()            Odos   \n",
       "21                                                 ()            Odos   \n",
       "22                                                 ()            Odos   \n",
       "23                                                 ()            Odos   \n",
       "24                                                 ()            Odos   \n",
       "25                                                 ()            Odos   \n",
       "26                                                 ()            Odos   \n",
       "27                                                 ()            Odos   \n",
       "28                                                 ()            Odos   \n",
       "29                                                 ()            Odos   \n",
       "\n",
       "    effective_price  \n",
       "0          0.998681  \n",
       "1          1.051622  \n",
       "2          1.137909  \n",
       "3          1.054846  \n",
       "4          0.996281  \n",
       "5          1.051622  \n",
       "6          0.998681  \n",
       "7          1.054846  \n",
       "8          0.996281  \n",
       "9          1.137909  \n",
       "10         0.996281  \n",
       "11         1.054846  \n",
       "12         1.051622  \n",
       "13         0.998681  \n",
       "14         1.137909  \n",
       "15         0.998681  \n",
       "16         1.054846  \n",
       "17         0.996374  \n",
       "18         1.051818  \n",
       "19         1.137911  \n",
       "20         0.998681  \n",
       "21         1.137911  \n",
       "22         1.054846  \n",
       "23         1.051818  \n",
       "24         0.996374  \n",
       "25         1.051818  \n",
       "26         1.137911  \n",
       "27         0.996374  \n",
       "28         1.054846  \n",
       "29         0.998681  "
      ]
     },
     "execution_count": 11,
     "metadata": {},
     "output_type": "execute_result"
    }
   ],
   "source": [
    "@dataclass\n",
    "class QuoteResponse:\n",
    "    # I think this should be the table in the database\n",
    "    api: str\n",
    "    chain_id: int\n",
    "\n",
    "    token_in: str\n",
    "    token_out: str\n",
    "    token_in_symbol: str\n",
    "    token_out_symbol: str  # technically redundent, but useful for display\n",
    "    scaled_amount_in: float\n",
    "    scaled_amount_out: float\n",
    "\n",
    "    datetime_received: pd.Timestamp\n",
    "\n",
    "    pools_blacklist: tuple[str]  # empty for tokemak,\n",
    "    aggregator_name: str  # odos for odos, else aggregator name for tokemak\n",
    "\n",
    "\n",
    "def _post_process_raw_tokemak_quote_response_df(\n",
    "    raw_tokemak_quote_response_df: pd.DataFrame, token_df: pd.DataFrame\n",
    ") -> list[QuoteResponse]:\n",
    "    token_to_decimal = token_df.set_index(\"token_address\")[\"decimals\"].to_dict()\n",
    "    token_to_symbols = token_df.set_index(\"token_address\")[\"symbol\"].to_dict()\n",
    "\n",
    "    tokemak_quote_responses = [\n",
    "        QuoteResponse(\n",
    "            api=\"tokemak\",\n",
    "            chain_id=int(row[\"chainId\"]),\n",
    "            token_in=row[\"sellToken\"],\n",
    "            token_out=row[\"buyToken\"],\n",
    "            token_in_symbol=token_to_symbols[row[\"sellToken\"]],\n",
    "            token_out_symbol=token_to_symbols[row[\"buyToken\"]],\n",
    "            scaled_amount_in=int(row[\"sellAmount\"]) / 10 ** token_to_decimal[row[\"sellToken\"]],\n",
    "            scaled_amount_out=int(row[\"buyAmount\"]) / 10 ** token_to_decimal[row[\"buyToken\"]],\n",
    "            datetime_received=row[\"datetime_received\"],\n",
    "            pools_blacklist=(),  # tokemak can't blacklist pools, so we use an empty tuple\n",
    "            aggregator_name=row[\"aggregatorName\"],\n",
    "        )\n",
    "        for _, row in raw_tokemak_quote_response_df.iterrows()\n",
    "    ]\n",
    "\n",
    "    return tokemak_quote_responses\n",
    "\n",
    "\n",
    "def _post_process_raw_odos_quote_response_df(\n",
    "    raw_odos_quote_response_df: pd.DataFrame, token_df: pd.DataFrame\n",
    ") -> list[QuoteResponse]:\n",
    "    token_to_decimal = token_df.set_index(\"token_address\")[\"decimals\"].to_dict()\n",
    "    token_to_symbols = token_df.set_index(\"token_address\")[\"symbol\"].to_dict()\n",
    "\n",
    "    odos_quote_responses: list[QuoteResponse] = []\n",
    "    for _, row in raw_odos_quote_response_df.iterrows():\n",
    "\n",
    "        token_in = Web3.toChecksumAddress(row[\"inTokens\"])\n",
    "        token_out = Web3.toChecksumAddress(row[\"outTokens\"])\n",
    "\n",
    "        unscaled_amount_in = int(row[\"inAmounts\"])\n",
    "        unscaled_amount_out = int(row[\"outAmounts\"])\n",
    "\n",
    "        decimals_token_in = token_to_decimal[token_in]\n",
    "        decimals_token_out = token_to_decimal[token_out]\n",
    "\n",
    "        quote_response = QuoteResponse(\n",
    "            api=\"odos\",\n",
    "            chain_id=int(row[\"chainId\"]),\n",
    "            token_in=token_in,\n",
    "            token_out=token_out,\n",
    "            token_in_symbol=token_to_symbols[token_in],\n",
    "            token_out_symbol=token_to_symbols[token_out],\n",
    "            scaled_amount_in=unscaled_amount_in / 10**decimals_token_in,\n",
    "            scaled_amount_out=unscaled_amount_out / 10**decimals_token_out,\n",
    "            datetime_received=row[\"datetime_received\"],\n",
    "            pools_blacklist=tuple(row[\"poolBlacklist\"]),\n",
    "            aggregator_name=\"Odos\",\n",
    "        )\n",
    "        odos_quote_responses.append(quote_response)\n",
    "\n",
    "    return odos_quote_responses\n",
    "\n",
    "\n",
    "def _clean_responses(\n",
    "    raw_odos_quote_response_df: pd.DataFrame, raw_tokemak_quote_response_df: pd.DataFrame, token_df: pd.DataFrame\n",
    ") -> pd.DataFrame:\n",
    "\n",
    "    cleaned_odos_responses = _post_process_raw_odos_quote_response_df(raw_odos_quote_response_df, token_df)\n",
    "    clean_odos_response_df = pd.DataFrame(cleaned_odos_responses)\n",
    "    cleaned_tokemak_responses = _post_process_raw_tokemak_quote_response_df(raw_tokemak_quote_response_df, token_df)\n",
    "    clean_tokemak_response_df = pd.DataFrame(cleaned_tokemak_responses)\n",
    "\n",
    "    df = pd.concat([clean_odos_response_df, clean_tokemak_response_df], ignore_index=True)\n",
    "\n",
    "    df[\"effective_price\"] = df[\"scaled_amount_out\"] / df[\"scaled_amount_in\"]\n",
    "\n",
    "    return df"
   ]
  },
  {
   "cell_type": "code",
   "execution_count": 13,
   "metadata": {},
   "outputs": [
    {
     "data": {
      "application/vnd.plotly.v1+json": {
       "config": {
        "plotlyServerURL": "https://plot.ly"
       },
       "data": [
        {
         "hovertemplate": "token_in_symbol=stETH<br>scaled_amount_in=%{x}<br>effective_price=%{y}<extra></extra>",
         "legendgroup": "stETH",
         "marker": {
          "color": "#636efa",
          "symbol": "circle"
         },
         "mode": "markers",
         "name": "stETH",
         "orientation": "v",
         "showlegend": true,
         "type": "scatter",
         "x": [
          100,
          100,
          100,
          100,
          100,
          100
         ],
         "xaxis": "x",
         "y": [
          0.9986811099840454,
          0.9986807645274597,
          0.9986807645274597,
          0.9986811099840454,
          0.9986811099840454,
          0.9986807645274597
         ],
         "yaxis": "y"
        },
        {
         "hovertemplate": "token_in_symbol=osETH<br>scaled_amount_in=%{x}<br>effective_price=%{y}<extra></extra>",
         "legendgroup": "osETH",
         "marker": {
          "color": "#EF553B",
          "symbol": "circle"
         },
         "mode": "markers",
         "name": "osETH",
         "orientation": "v",
         "showlegend": true,
         "type": "scatter",
         "x": [
          20,
          20,
          20,
          20,
          20,
          20
         ],
         "xaxis": "x",
         "y": [
          1.051621553588687,
          1.051621553588687,
          1.051621553588687,
          1.0518176090359903,
          1.0518176941854378,
          1.0518176941854378
         ],
         "yaxis": "y"
        },
        {
         "hovertemplate": "token_in_symbol=rETH<br>scaled_amount_in=%{x}<br>effective_price=%{y}<extra></extra>",
         "legendgroup": "rETH",
         "marker": {
          "color": "#00cc96",
          "symbol": "circle"
         },
         "mode": "markers",
         "name": "rETH",
         "orientation": "v",
         "showlegend": true,
         "type": "scatter",
         "x": [
          200,
          200,
          200,
          200,
          200,
          200
         ],
         "xaxis": "x",
         "y": [
          1.1379093363305708,
          1.1379093431193021,
          1.1379093431194844,
          1.137910832456169,
          1.1379108415695778,
          1.137910848568756
         ],
         "yaxis": "y"
        },
        {
         "hovertemplate": "token_in_symbol=ezETH<br>scaled_amount_in=%{x}<br>effective_price=%{y}<extra></extra>",
         "legendgroup": "ezETH",
         "marker": {
          "color": "#ab63fa",
          "symbol": "circle"
         },
         "mode": "markers",
         "name": "ezETH",
         "orientation": "v",
         "showlegend": true,
         "type": "scatter",
         "x": [
          50,
          50,
          50,
          50,
          50,
          50
         ],
         "xaxis": "x",
         "y": [
          1.0548461381938943,
          1.0548461381938943,
          1.0548461381938943,
          1.0548461381938943,
          1.0548461381938943,
          1.0548461381938943
         ],
         "yaxis": "y"
        },
        {
         "hovertemplate": "token_in_symbol=pxETH<br>scaled_amount_in=%{x}<br>effective_price=%{y}<extra></extra>",
         "legendgroup": "pxETH",
         "marker": {
          "color": "#FFA15A",
          "symbol": "circle"
         },
         "mode": "markers",
         "name": "pxETH",
         "orientation": "v",
         "showlegend": true,
         "type": "scatter",
         "x": [
          20,
          20,
          20,
          20,
          20,
          20
         ],
         "xaxis": "x",
         "y": [
          0.9962805306587494,
          0.9962805306587779,
          0.9962805306587598,
          0.9963738897899246,
          0.9963738897899223,
          0.9963738897899115
         ],
         "yaxis": "y"
        }
       ],
       "layout": {
        "legend": {
         "title": {
          "text": "token_in_symbol"
         },
         "tracegroupgap": 0
        },
        "margin": {
         "t": 60
        },
        "template": {
         "data": {
          "bar": [
           {
            "error_x": {
             "color": "#2a3f5f"
            },
            "error_y": {
             "color": "#2a3f5f"
            },
            "marker": {
             "line": {
              "color": "#E5ECF6",
              "width": 0.5
             },
             "pattern": {
              "fillmode": "overlay",
              "size": 10,
              "solidity": 0.2
             }
            },
            "type": "bar"
           }
          ],
          "barpolar": [
           {
            "marker": {
             "line": {
              "color": "#E5ECF6",
              "width": 0.5
             },
             "pattern": {
              "fillmode": "overlay",
              "size": 10,
              "solidity": 0.2
             }
            },
            "type": "barpolar"
           }
          ],
          "carpet": [
           {
            "aaxis": {
             "endlinecolor": "#2a3f5f",
             "gridcolor": "white",
             "linecolor": "white",
             "minorgridcolor": "white",
             "startlinecolor": "#2a3f5f"
            },
            "baxis": {
             "endlinecolor": "#2a3f5f",
             "gridcolor": "white",
             "linecolor": "white",
             "minorgridcolor": "white",
             "startlinecolor": "#2a3f5f"
            },
            "type": "carpet"
           }
          ],
          "choropleth": [
           {
            "colorbar": {
             "outlinewidth": 0,
             "ticks": ""
            },
            "type": "choropleth"
           }
          ],
          "contour": [
           {
            "colorbar": {
             "outlinewidth": 0,
             "ticks": ""
            },
            "colorscale": [
             [
              0,
              "#0d0887"
             ],
             [
              0.1111111111111111,
              "#46039f"
             ],
             [
              0.2222222222222222,
              "#7201a8"
             ],
             [
              0.3333333333333333,
              "#9c179e"
             ],
             [
              0.4444444444444444,
              "#bd3786"
             ],
             [
              0.5555555555555556,
              "#d8576b"
             ],
             [
              0.6666666666666666,
              "#ed7953"
             ],
             [
              0.7777777777777778,
              "#fb9f3a"
             ],
             [
              0.8888888888888888,
              "#fdca26"
             ],
             [
              1,
              "#f0f921"
             ]
            ],
            "type": "contour"
           }
          ],
          "contourcarpet": [
           {
            "colorbar": {
             "outlinewidth": 0,
             "ticks": ""
            },
            "type": "contourcarpet"
           }
          ],
          "heatmap": [
           {
            "colorbar": {
             "outlinewidth": 0,
             "ticks": ""
            },
            "colorscale": [
             [
              0,
              "#0d0887"
             ],
             [
              0.1111111111111111,
              "#46039f"
             ],
             [
              0.2222222222222222,
              "#7201a8"
             ],
             [
              0.3333333333333333,
              "#9c179e"
             ],
             [
              0.4444444444444444,
              "#bd3786"
             ],
             [
              0.5555555555555556,
              "#d8576b"
             ],
             [
              0.6666666666666666,
              "#ed7953"
             ],
             [
              0.7777777777777778,
              "#fb9f3a"
             ],
             [
              0.8888888888888888,
              "#fdca26"
             ],
             [
              1,
              "#f0f921"
             ]
            ],
            "type": "heatmap"
           }
          ],
          "heatmapgl": [
           {
            "colorbar": {
             "outlinewidth": 0,
             "ticks": ""
            },
            "colorscale": [
             [
              0,
              "#0d0887"
             ],
             [
              0.1111111111111111,
              "#46039f"
             ],
             [
              0.2222222222222222,
              "#7201a8"
             ],
             [
              0.3333333333333333,
              "#9c179e"
             ],
             [
              0.4444444444444444,
              "#bd3786"
             ],
             [
              0.5555555555555556,
              "#d8576b"
             ],
             [
              0.6666666666666666,
              "#ed7953"
             ],
             [
              0.7777777777777778,
              "#fb9f3a"
             ],
             [
              0.8888888888888888,
              "#fdca26"
             ],
             [
              1,
              "#f0f921"
             ]
            ],
            "type": "heatmapgl"
           }
          ],
          "histogram": [
           {
            "marker": {
             "pattern": {
              "fillmode": "overlay",
              "size": 10,
              "solidity": 0.2
             }
            },
            "type": "histogram"
           }
          ],
          "histogram2d": [
           {
            "colorbar": {
             "outlinewidth": 0,
             "ticks": ""
            },
            "colorscale": [
             [
              0,
              "#0d0887"
             ],
             [
              0.1111111111111111,
              "#46039f"
             ],
             [
              0.2222222222222222,
              "#7201a8"
             ],
             [
              0.3333333333333333,
              "#9c179e"
             ],
             [
              0.4444444444444444,
              "#bd3786"
             ],
             [
              0.5555555555555556,
              "#d8576b"
             ],
             [
              0.6666666666666666,
              "#ed7953"
             ],
             [
              0.7777777777777778,
              "#fb9f3a"
             ],
             [
              0.8888888888888888,
              "#fdca26"
             ],
             [
              1,
              "#f0f921"
             ]
            ],
            "type": "histogram2d"
           }
          ],
          "histogram2dcontour": [
           {
            "colorbar": {
             "outlinewidth": 0,
             "ticks": ""
            },
            "colorscale": [
             [
              0,
              "#0d0887"
             ],
             [
              0.1111111111111111,
              "#46039f"
             ],
             [
              0.2222222222222222,
              "#7201a8"
             ],
             [
              0.3333333333333333,
              "#9c179e"
             ],
             [
              0.4444444444444444,
              "#bd3786"
             ],
             [
              0.5555555555555556,
              "#d8576b"
             ],
             [
              0.6666666666666666,
              "#ed7953"
             ],
             [
              0.7777777777777778,
              "#fb9f3a"
             ],
             [
              0.8888888888888888,
              "#fdca26"
             ],
             [
              1,
              "#f0f921"
             ]
            ],
            "type": "histogram2dcontour"
           }
          ],
          "mesh3d": [
           {
            "colorbar": {
             "outlinewidth": 0,
             "ticks": ""
            },
            "type": "mesh3d"
           }
          ],
          "parcoords": [
           {
            "line": {
             "colorbar": {
              "outlinewidth": 0,
              "ticks": ""
             }
            },
            "type": "parcoords"
           }
          ],
          "pie": [
           {
            "automargin": true,
            "type": "pie"
           }
          ],
          "scatter": [
           {
            "fillpattern": {
             "fillmode": "overlay",
             "size": 10,
             "solidity": 0.2
            },
            "type": "scatter"
           }
          ],
          "scatter3d": [
           {
            "line": {
             "colorbar": {
              "outlinewidth": 0,
              "ticks": ""
             }
            },
            "marker": {
             "colorbar": {
              "outlinewidth": 0,
              "ticks": ""
             }
            },
            "type": "scatter3d"
           }
          ],
          "scattercarpet": [
           {
            "marker": {
             "colorbar": {
              "outlinewidth": 0,
              "ticks": ""
             }
            },
            "type": "scattercarpet"
           }
          ],
          "scattergeo": [
           {
            "marker": {
             "colorbar": {
              "outlinewidth": 0,
              "ticks": ""
             }
            },
            "type": "scattergeo"
           }
          ],
          "scattergl": [
           {
            "marker": {
             "colorbar": {
              "outlinewidth": 0,
              "ticks": ""
             }
            },
            "type": "scattergl"
           }
          ],
          "scattermapbox": [
           {
            "marker": {
             "colorbar": {
              "outlinewidth": 0,
              "ticks": ""
             }
            },
            "type": "scattermapbox"
           }
          ],
          "scatterpolar": [
           {
            "marker": {
             "colorbar": {
              "outlinewidth": 0,
              "ticks": ""
             }
            },
            "type": "scatterpolar"
           }
          ],
          "scatterpolargl": [
           {
            "marker": {
             "colorbar": {
              "outlinewidth": 0,
              "ticks": ""
             }
            },
            "type": "scatterpolargl"
           }
          ],
          "scatterternary": [
           {
            "marker": {
             "colorbar": {
              "outlinewidth": 0,
              "ticks": ""
             }
            },
            "type": "scatterternary"
           }
          ],
          "surface": [
           {
            "colorbar": {
             "outlinewidth": 0,
             "ticks": ""
            },
            "colorscale": [
             [
              0,
              "#0d0887"
             ],
             [
              0.1111111111111111,
              "#46039f"
             ],
             [
              0.2222222222222222,
              "#7201a8"
             ],
             [
              0.3333333333333333,
              "#9c179e"
             ],
             [
              0.4444444444444444,
              "#bd3786"
             ],
             [
              0.5555555555555556,
              "#d8576b"
             ],
             [
              0.6666666666666666,
              "#ed7953"
             ],
             [
              0.7777777777777778,
              "#fb9f3a"
             ],
             [
              0.8888888888888888,
              "#fdca26"
             ],
             [
              1,
              "#f0f921"
             ]
            ],
            "type": "surface"
           }
          ],
          "table": [
           {
            "cells": {
             "fill": {
              "color": "#EBF0F8"
             },
             "line": {
              "color": "white"
             }
            },
            "header": {
             "fill": {
              "color": "#C8D4E3"
             },
             "line": {
              "color": "white"
             }
            },
            "type": "table"
           }
          ]
         },
         "layout": {
          "annotationdefaults": {
           "arrowcolor": "#2a3f5f",
           "arrowhead": 0,
           "arrowwidth": 1
          },
          "autotypenumbers": "strict",
          "coloraxis": {
           "colorbar": {
            "outlinewidth": 0,
            "ticks": ""
           }
          },
          "colorscale": {
           "diverging": [
            [
             0,
             "#8e0152"
            ],
            [
             0.1,
             "#c51b7d"
            ],
            [
             0.2,
             "#de77ae"
            ],
            [
             0.3,
             "#f1b6da"
            ],
            [
             0.4,
             "#fde0ef"
            ],
            [
             0.5,
             "#f7f7f7"
            ],
            [
             0.6,
             "#e6f5d0"
            ],
            [
             0.7,
             "#b8e186"
            ],
            [
             0.8,
             "#7fbc41"
            ],
            [
             0.9,
             "#4d9221"
            ],
            [
             1,
             "#276419"
            ]
           ],
           "sequential": [
            [
             0,
             "#0d0887"
            ],
            [
             0.1111111111111111,
             "#46039f"
            ],
            [
             0.2222222222222222,
             "#7201a8"
            ],
            [
             0.3333333333333333,
             "#9c179e"
            ],
            [
             0.4444444444444444,
             "#bd3786"
            ],
            [
             0.5555555555555556,
             "#d8576b"
            ],
            [
             0.6666666666666666,
             "#ed7953"
            ],
            [
             0.7777777777777778,
             "#fb9f3a"
            ],
            [
             0.8888888888888888,
             "#fdca26"
            ],
            [
             1,
             "#f0f921"
            ]
           ],
           "sequentialminus": [
            [
             0,
             "#0d0887"
            ],
            [
             0.1111111111111111,
             "#46039f"
            ],
            [
             0.2222222222222222,
             "#7201a8"
            ],
            [
             0.3333333333333333,
             "#9c179e"
            ],
            [
             0.4444444444444444,
             "#bd3786"
            ],
            [
             0.5555555555555556,
             "#d8576b"
            ],
            [
             0.6666666666666666,
             "#ed7953"
            ],
            [
             0.7777777777777778,
             "#fb9f3a"
            ],
            [
             0.8888888888888888,
             "#fdca26"
            ],
            [
             1,
             "#f0f921"
            ]
           ]
          },
          "colorway": [
           "#636efa",
           "#EF553B",
           "#00cc96",
           "#ab63fa",
           "#FFA15A",
           "#19d3f3",
           "#FF6692",
           "#B6E880",
           "#FF97FF",
           "#FECB52"
          ],
          "font": {
           "color": "#2a3f5f"
          },
          "geo": {
           "bgcolor": "white",
           "lakecolor": "white",
           "landcolor": "#E5ECF6",
           "showlakes": true,
           "showland": true,
           "subunitcolor": "white"
          },
          "hoverlabel": {
           "align": "left"
          },
          "hovermode": "closest",
          "mapbox": {
           "style": "light"
          },
          "paper_bgcolor": "white",
          "plot_bgcolor": "#E5ECF6",
          "polar": {
           "angularaxis": {
            "gridcolor": "white",
            "linecolor": "white",
            "ticks": ""
           },
           "bgcolor": "#E5ECF6",
           "radialaxis": {
            "gridcolor": "white",
            "linecolor": "white",
            "ticks": ""
           }
          },
          "scene": {
           "xaxis": {
            "backgroundcolor": "#E5ECF6",
            "gridcolor": "white",
            "gridwidth": 2,
            "linecolor": "white",
            "showbackground": true,
            "ticks": "",
            "zerolinecolor": "white"
           },
           "yaxis": {
            "backgroundcolor": "#E5ECF6",
            "gridcolor": "white",
            "gridwidth": 2,
            "linecolor": "white",
            "showbackground": true,
            "ticks": "",
            "zerolinecolor": "white"
           },
           "zaxis": {
            "backgroundcolor": "#E5ECF6",
            "gridcolor": "white",
            "gridwidth": 2,
            "linecolor": "white",
            "showbackground": true,
            "ticks": "",
            "zerolinecolor": "white"
           }
          },
          "shapedefaults": {
           "line": {
            "color": "#2a3f5f"
           }
          },
          "ternary": {
           "aaxis": {
            "gridcolor": "white",
            "linecolor": "white",
            "ticks": ""
           },
           "baxis": {
            "gridcolor": "white",
            "linecolor": "white",
            "ticks": ""
           },
           "bgcolor": "#E5ECF6",
           "caxis": {
            "gridcolor": "white",
            "linecolor": "white",
            "ticks": ""
           }
          },
          "title": {
           "x": 0.05
          },
          "xaxis": {
           "automargin": true,
           "gridcolor": "white",
           "linecolor": "white",
           "ticks": "",
           "title": {
            "standoff": 15
           },
           "zerolinecolor": "white",
           "zerolinewidth": 2
          },
          "yaxis": {
           "automargin": true,
           "gridcolor": "white",
           "linecolor": "white",
           "ticks": "",
           "title": {
            "standoff": 15
           },
           "zerolinecolor": "white",
           "zerolinewidth": 2
          }
         }
        },
        "xaxis": {
         "anchor": "y",
         "domain": [
          0,
          1
         ],
         "title": {
          "text": "scaled_amount_in"
         }
        },
        "yaxis": {
         "anchor": "x",
         "domain": [
          0,
          1
         ],
         "title": {
          "text": "effective_price"
         }
        }
       }
      }
     },
     "metadata": {},
     "output_type": "display_data"
    }
   ],
   "source": [
    "px.scatter(\n",
    "    df,\n",
    "    x=\"scaled_amount_in\",\n",
    "    y=\"effective_price\",\n",
    "    color=\"token_in_symbol\",\n",
    ")"
   ]
  },
  {
   "cell_type": "code",
   "execution_count": null,
   "metadata": {},
   "outputs": [
    {
     "data": {
      "application/vnd.microsoft.datawrangler.viewer.v0+json": {
       "columns": [
        {
         "name": "index",
         "rawType": "int64",
         "type": "integer"
        },
        {
         "name": "api",
         "rawType": "object",
         "type": "string"
        },
        {
         "name": "chain_id",
         "rawType": "int64",
         "type": "integer"
        },
        {
         "name": "token_in",
         "rawType": "object",
         "type": "string"
        },
        {
         "name": "token_out",
         "rawType": "object",
         "type": "string"
        },
        {
         "name": "token_in_symbol",
         "rawType": "object",
         "type": "string"
        },
        {
         "name": "token_out_symbol",
         "rawType": "object",
         "type": "string"
        },
        {
         "name": "scaled_amount_in",
         "rawType": "float64",
         "type": "float"
        },
        {
         "name": "scaled_amount_out",
         "rawType": "float64",
         "type": "float"
        },
        {
         "name": "datetime_received",
         "rawType": "datetime64[ns, UTC]",
         "type": "unknown"
        },
        {
         "name": "pools_blacklist",
         "rawType": "object",
         "type": "unknown"
        },
        {
         "name": "aggregator_name",
         "rawType": "object",
         "type": "string"
        },
        {
         "name": "effective_price",
         "rawType": "float64",
         "type": "float"
        }
       ],
       "ref": "a35fcef8-abe9-4d53-b49c-8fd8018e9a7f",
       "rows": [
        [
         "0",
         "odos",
         "1",
         "0xae7ab96520DE3A18E5e111B5EaAb095312D7fE84",
         "0xC02aaA39b223FE8D0A0e5C4F27eAD9083C756Cc2",
         "stETH",
         "WETH",
         "100.0",
         "99.86811099840453",
         "2025-08-07 18:46:41.560941+00:00",
         "('0xdb74dfdd3bb46be8ce6c33dc9d82777bcfc3ded5', '0x88794c65550deb6b4087b7552ecf295113794410', '0x57c23c58b1d8c3292c15becf07c62c5c52457a42', '0x6951bdc4734b9f7f3e1b74afebc670c736a0edb6', '0xc8eb2cf2f792f77af0cd9e203305a585e588179d', '0x59ab5a5b5d617e478a2479b0cad80da7e2831492', '0x6b31a94029fd7840d780191b6d63fa0d269bd883', '0xe080027bd47353b5d1639772b4a75e9ed3658a0d')",
         "Odos",
         "0.9986811099840454"
        ],
        [
         "1",
         "odos",
         "1",
         "0xf1C9acDc66974dFB6dEcB12aA385b9cD01190E38",
         "0xC02aaA39b223FE8D0A0e5C4F27eAD9083C756Cc2",
         "osETH",
         "WETH",
         "20.0",
         "21.03243107177374",
         "2025-08-07 18:46:41.561891+00:00",
         "('0xdb74dfdd3bb46be8ce6c33dc9d82777bcfc3ded5', '0x88794c65550deb6b4087b7552ecf295113794410', '0x57c23c58b1d8c3292c15becf07c62c5c52457a42', '0x6951bdc4734b9f7f3e1b74afebc670c736a0edb6', '0xc8eb2cf2f792f77af0cd9e203305a585e588179d', '0x59ab5a5b5d617e478a2479b0cad80da7e2831492', '0x6b31a94029fd7840d780191b6d63fa0d269bd883', '0xe080027bd47353b5d1639772b4a75e9ed3658a0d')",
         "Odos",
         "1.051621553588687"
        ],
        [
         "2",
         "odos",
         "1",
         "0xae78736Cd615f374D3085123A210448E74Fc6393",
         "0xC02aaA39b223FE8D0A0e5C4F27eAD9083C756Cc2",
         "rETH",
         "WETH",
         "200.0",
         "227.58186726611416",
         "2025-08-07 18:46:42.076729+00:00",
         "('0xdb74dfdd3bb46be8ce6c33dc9d82777bcfc3ded5', '0x88794c65550deb6b4087b7552ecf295113794410', '0x57c23c58b1d8c3292c15becf07c62c5c52457a42', '0x6951bdc4734b9f7f3e1b74afebc670c736a0edb6', '0xc8eb2cf2f792f77af0cd9e203305a585e588179d', '0x59ab5a5b5d617e478a2479b0cad80da7e2831492', '0x6b31a94029fd7840d780191b6d63fa0d269bd883', '0xe080027bd47353b5d1639772b4a75e9ed3658a0d')",
         "Odos",
         "1.1379093363305708"
        ],
        [
         "3",
         "odos",
         "1",
         "0xbf5495Efe5DB9ce00f80364C8B423567e58d2110",
         "0xC02aaA39b223FE8D0A0e5C4F27eAD9083C756Cc2",
         "ezETH",
         "WETH",
         "50.0",
         "52.74230690969471",
         "2025-08-07 18:46:42.954250+00:00",
         "('0xdb74dfdd3bb46be8ce6c33dc9d82777bcfc3ded5', '0x88794c65550deb6b4087b7552ecf295113794410', '0x57c23c58b1d8c3292c15becf07c62c5c52457a42', '0x6951bdc4734b9f7f3e1b74afebc670c736a0edb6', '0xc8eb2cf2f792f77af0cd9e203305a585e588179d', '0x59ab5a5b5d617e478a2479b0cad80da7e2831492', '0x6b31a94029fd7840d780191b6d63fa0d269bd883', '0xe080027bd47353b5d1639772b4a75e9ed3658a0d')",
         "Odos",
         "1.0548461381938943"
        ],
        [
         "4",
         "odos",
         "1",
         "0x04C154b66CB340F3Ae24111CC767e0184Ed00Cc6",
         "0xC02aaA39b223FE8D0A0e5C4F27eAD9083C756Cc2",
         "pxETH",
         "WETH",
         "20.0",
         "19.92561061317499",
         "2025-08-07 18:46:44.314680+00:00",
         "('0xdb74dfdd3bb46be8ce6c33dc9d82777bcfc3ded5', '0x88794c65550deb6b4087b7552ecf295113794410', '0x57c23c58b1d8c3292c15becf07c62c5c52457a42', '0x6951bdc4734b9f7f3e1b74afebc670c736a0edb6', '0xc8eb2cf2f792f77af0cd9e203305a585e588179d', '0x59ab5a5b5d617e478a2479b0cad80da7e2831492', '0x6b31a94029fd7840d780191b6d63fa0d269bd883', '0xe080027bd47353b5d1639772b4a75e9ed3658a0d')",
         "Odos",
         "0.9962805306587494"
        ],
        [
         "5",
         "odos",
         "1",
         "0xf1C9acDc66974dFB6dEcB12aA385b9cD01190E38",
         "0xC02aaA39b223FE8D0A0e5C4F27eAD9083C756Cc2",
         "osETH",
         "WETH",
         "20.0",
         "21.03243107177374",
         "2025-08-07 18:47:18.297853+00:00",
         "('0xdb74dfdd3bb46be8ce6c33dc9d82777bcfc3ded5', '0x88794c65550deb6b4087b7552ecf295113794410', '0x57c23c58b1d8c3292c15becf07c62c5c52457a42', '0x6951bdc4734b9f7f3e1b74afebc670c736a0edb6', '0xc8eb2cf2f792f77af0cd9e203305a585e588179d', '0x59ab5a5b5d617e478a2479b0cad80da7e2831492', '0x6b31a94029fd7840d780191b6d63fa0d269bd883', '0xe080027bd47353b5d1639772b4a75e9ed3658a0d')",
         "Odos",
         "1.051621553588687"
        ],
        [
         "6",
         "odos",
         "1",
         "0xae7ab96520DE3A18E5e111B5EaAb095312D7fE84",
         "0xC02aaA39b223FE8D0A0e5C4F27eAD9083C756Cc2",
         "stETH",
         "WETH",
         "100.0",
         "99.86807645274597",
         "2025-08-07 18:47:18.318183+00:00",
         "('0xdb74dfdd3bb46be8ce6c33dc9d82777bcfc3ded5', '0x88794c65550deb6b4087b7552ecf295113794410', '0x57c23c58b1d8c3292c15becf07c62c5c52457a42', '0x6951bdc4734b9f7f3e1b74afebc670c736a0edb6', '0xc8eb2cf2f792f77af0cd9e203305a585e588179d', '0x59ab5a5b5d617e478a2479b0cad80da7e2831492', '0x6b31a94029fd7840d780191b6d63fa0d269bd883', '0xe080027bd47353b5d1639772b4a75e9ed3658a0d')",
         "Odos",
         "0.9986807645274597"
        ],
        [
         "7",
         "odos",
         "1",
         "0xbf5495Efe5DB9ce00f80364C8B423567e58d2110",
         "0xC02aaA39b223FE8D0A0e5C4F27eAD9083C756Cc2",
         "ezETH",
         "WETH",
         "50.0",
         "52.74230690969471",
         "2025-08-07 18:47:18.393928+00:00",
         "('0xdb74dfdd3bb46be8ce6c33dc9d82777bcfc3ded5', '0x88794c65550deb6b4087b7552ecf295113794410', '0x57c23c58b1d8c3292c15becf07c62c5c52457a42', '0x6951bdc4734b9f7f3e1b74afebc670c736a0edb6', '0xc8eb2cf2f792f77af0cd9e203305a585e588179d', '0x59ab5a5b5d617e478a2479b0cad80da7e2831492', '0x6b31a94029fd7840d780191b6d63fa0d269bd883', '0xe080027bd47353b5d1639772b4a75e9ed3658a0d')",
         "Odos",
         "1.0548461381938943"
        ],
        [
         "8",
         "odos",
         "1",
         "0x04C154b66CB340F3Ae24111CC767e0184Ed00Cc6",
         "0xC02aaA39b223FE8D0A0e5C4F27eAD9083C756Cc2",
         "pxETH",
         "WETH",
         "20.0",
         "19.925610613175557",
         "2025-08-07 18:47:20.570160+00:00",
         "('0xdb74dfdd3bb46be8ce6c33dc9d82777bcfc3ded5', '0x88794c65550deb6b4087b7552ecf295113794410', '0x57c23c58b1d8c3292c15becf07c62c5c52457a42', '0x6951bdc4734b9f7f3e1b74afebc670c736a0edb6', '0xc8eb2cf2f792f77af0cd9e203305a585e588179d', '0x59ab5a5b5d617e478a2479b0cad80da7e2831492', '0x6b31a94029fd7840d780191b6d63fa0d269bd883', '0xe080027bd47353b5d1639772b4a75e9ed3658a0d')",
         "Odos",
         "0.9962805306587779"
        ],
        [
         "9",
         "odos",
         "1",
         "0xae78736Cd615f374D3085123A210448E74Fc6393",
         "0xC02aaA39b223FE8D0A0e5C4F27eAD9083C756Cc2",
         "rETH",
         "WETH",
         "200.0",
         "227.58186862386043",
         "2025-08-07 18:47:22.979036+00:00",
         "('0xdb74dfdd3bb46be8ce6c33dc9d82777bcfc3ded5', '0x88794c65550deb6b4087b7552ecf295113794410', '0x57c23c58b1d8c3292c15becf07c62c5c52457a42', '0x6951bdc4734b9f7f3e1b74afebc670c736a0edb6', '0xc8eb2cf2f792f77af0cd9e203305a585e588179d', '0x59ab5a5b5d617e478a2479b0cad80da7e2831492', '0x6b31a94029fd7840d780191b6d63fa0d269bd883', '0xe080027bd47353b5d1639772b4a75e9ed3658a0d')",
         "Odos",
         "1.1379093431193021"
        ],
        [
         "10",
         "odos",
         "1",
         "0x04C154b66CB340F3Ae24111CC767e0184Ed00Cc6",
         "0xC02aaA39b223FE8D0A0e5C4F27eAD9083C756Cc2",
         "pxETH",
         "WETH",
         "20.0",
         "19.925610613175195",
         "2025-08-07 18:47:58.303515+00:00",
         "('0xdb74dfdd3bb46be8ce6c33dc9d82777bcfc3ded5', '0x88794c65550deb6b4087b7552ecf295113794410', '0x57c23c58b1d8c3292c15becf07c62c5c52457a42', '0x6951bdc4734b9f7f3e1b74afebc670c736a0edb6', '0xc8eb2cf2f792f77af0cd9e203305a585e588179d', '0x59ab5a5b5d617e478a2479b0cad80da7e2831492', '0x6b31a94029fd7840d780191b6d63fa0d269bd883', '0xe080027bd47353b5d1639772b4a75e9ed3658a0d')",
         "Odos",
         "0.9962805306587598"
        ],
        [
         "11",
         "odos",
         "1",
         "0xbf5495Efe5DB9ce00f80364C8B423567e58d2110",
         "0xC02aaA39b223FE8D0A0e5C4F27eAD9083C756Cc2",
         "ezETH",
         "WETH",
         "50.0",
         "52.74230690969471",
         "2025-08-07 18:47:58.430842+00:00",
         "('0xdb74dfdd3bb46be8ce6c33dc9d82777bcfc3ded5', '0x88794c65550deb6b4087b7552ecf295113794410', '0x57c23c58b1d8c3292c15becf07c62c5c52457a42', '0x6951bdc4734b9f7f3e1b74afebc670c736a0edb6', '0xc8eb2cf2f792f77af0cd9e203305a585e588179d', '0x59ab5a5b5d617e478a2479b0cad80da7e2831492', '0x6b31a94029fd7840d780191b6d63fa0d269bd883', '0xe080027bd47353b5d1639772b4a75e9ed3658a0d')",
         "Odos",
         "1.0548461381938943"
        ],
        [
         "12",
         "odos",
         "1",
         "0xf1C9acDc66974dFB6dEcB12aA385b9cD01190E38",
         "0xC02aaA39b223FE8D0A0e5C4F27eAD9083C756Cc2",
         "osETH",
         "WETH",
         "20.0",
         "21.03243107177374",
         "2025-08-07 18:47:59.387090+00:00",
         "('0xdb74dfdd3bb46be8ce6c33dc9d82777bcfc3ded5', '0x88794c65550deb6b4087b7552ecf295113794410', '0x57c23c58b1d8c3292c15becf07c62c5c52457a42', '0x6951bdc4734b9f7f3e1b74afebc670c736a0edb6', '0xc8eb2cf2f792f77af0cd9e203305a585e588179d', '0x59ab5a5b5d617e478a2479b0cad80da7e2831492', '0x6b31a94029fd7840d780191b6d63fa0d269bd883', '0xe080027bd47353b5d1639772b4a75e9ed3658a0d')",
         "Odos",
         "1.051621553588687"
        ],
        [
         "13",
         "odos",
         "1",
         "0xae7ab96520DE3A18E5e111B5EaAb095312D7fE84",
         "0xC02aaA39b223FE8D0A0e5C4F27eAD9083C756Cc2",
         "stETH",
         "WETH",
         "100.0",
         "99.86807645274597",
         "2025-08-07 18:47:59.441283+00:00",
         "('0xdb74dfdd3bb46be8ce6c33dc9d82777bcfc3ded5', '0x88794c65550deb6b4087b7552ecf295113794410', '0x57c23c58b1d8c3292c15becf07c62c5c52457a42', '0x6951bdc4734b9f7f3e1b74afebc670c736a0edb6', '0xc8eb2cf2f792f77af0cd9e203305a585e588179d', '0x59ab5a5b5d617e478a2479b0cad80da7e2831492', '0x6b31a94029fd7840d780191b6d63fa0d269bd883', '0xe080027bd47353b5d1639772b4a75e9ed3658a0d')",
         "Odos",
         "0.9986807645274597"
        ],
        [
         "14",
         "odos",
         "1",
         "0xae78736Cd615f374D3085123A210448E74Fc6393",
         "0xC02aaA39b223FE8D0A0e5C4F27eAD9083C756Cc2",
         "rETH",
         "WETH",
         "200.0",
         "227.58186862389687",
         "2025-08-07 18:48:00.497050+00:00",
         "('0xdb74dfdd3bb46be8ce6c33dc9d82777bcfc3ded5', '0x88794c65550deb6b4087b7552ecf295113794410', '0x57c23c58b1d8c3292c15becf07c62c5c52457a42', '0x6951bdc4734b9f7f3e1b74afebc670c736a0edb6', '0xc8eb2cf2f792f77af0cd9e203305a585e588179d', '0x59ab5a5b5d617e478a2479b0cad80da7e2831492', '0x6b31a94029fd7840d780191b6d63fa0d269bd883', '0xe080027bd47353b5d1639772b4a75e9ed3658a0d')",
         "Odos",
         "1.1379093431194844"
        ],
        [
         "15",
         "tokemak",
         "1",
         "0xae7ab96520DE3A18E5e111B5EaAb095312D7fE84",
         "0xC02aaA39b223FE8D0A0e5C4F27eAD9083C756Cc2",
         "stETH",
         "WETH",
         "100.0",
         "99.86811099840453",
         "2025-08-07 18:46:39.040447+00:00",
         "()",
         "Odos",
         "0.9986811099840454"
        ],
        [
         "16",
         "tokemak",
         "1",
         "0xbf5495Efe5DB9ce00f80364C8B423567e58d2110",
         "0xC02aaA39b223FE8D0A0e5C4F27eAD9083C756Cc2",
         "ezETH",
         "WETH",
         "50.0",
         "52.74230690969471",
         "2025-08-07 18:46:39.712500+00:00",
         "()",
         "Odos",
         "1.0548461381938943"
        ],
        [
         "17",
         "tokemak",
         "1",
         "0x04C154b66CB340F3Ae24111CC767e0184Ed00Cc6",
         "0xC02aaA39b223FE8D0A0e5C4F27eAD9083C756Cc2",
         "pxETH",
         "WETH",
         "20.0",
         "19.92747779579849",
         "2025-08-07 18:46:39.840565+00:00",
         "()",
         "Odos",
         "0.9963738897899246"
        ],
        [
         "18",
         "tokemak",
         "1",
         "0xf1C9acDc66974dFB6dEcB12aA385b9cD01190E38",
         "0xC02aaA39b223FE8D0A0e5C4F27eAD9083C756Cc2",
         "osETH",
         "WETH",
         "20.0",
         "21.036352180719806",
         "2025-08-07 18:46:40.117698+00:00",
         "()",
         "Odos",
         "1.0518176090359903"
        ],
        [
         "19",
         "tokemak",
         "1",
         "0xae78736Cd615f374D3085123A210448E74Fc6393",
         "0xC02aaA39b223FE8D0A0e5C4F27eAD9083C756Cc2",
         "rETH",
         "WETH",
         "200.0",
         "227.58216649123383",
         "2025-08-07 18:46:40.595002+00:00",
         "()",
         "Odos",
         "1.137910832456169"
        ],
        [
         "20",
         "tokemak",
         "1",
         "0xae7ab96520DE3A18E5e111B5EaAb095312D7fE84",
         "0xC02aaA39b223FE8D0A0e5C4F27eAD9083C756Cc2",
         "stETH",
         "WETH",
         "100.0",
         "99.86811099840453",
         "2025-08-07 18:47:17.136985+00:00",
         "()",
         "Odos",
         "0.9986811099840454"
        ],
        [
         "21",
         "tokemak",
         "1",
         "0xae78736Cd615f374D3085123A210448E74Fc6393",
         "0xC02aaA39b223FE8D0A0e5C4F27eAD9083C756Cc2",
         "rETH",
         "WETH",
         "200.0",
         "227.58216831391556",
         "2025-08-07 18:47:17.180723+00:00",
         "()",
         "Odos",
         "1.1379108415695778"
        ],
        [
         "22",
         "tokemak",
         "1",
         "0xbf5495Efe5DB9ce00f80364C8B423567e58d2110",
         "0xC02aaA39b223FE8D0A0e5C4F27eAD9083C756Cc2",
         "ezETH",
         "WETH",
         "50.0",
         "52.74230690969471",
         "2025-08-07 18:47:17.203594+00:00",
         "()",
         "Odos",
         "1.0548461381938943"
        ],
        [
         "23",
         "tokemak",
         "1",
         "0xf1C9acDc66974dFB6dEcB12aA385b9cD01190E38",
         "0xC02aaA39b223FE8D0A0e5C4F27eAD9083C756Cc2",
         "osETH",
         "WETH",
         "20.0",
         "21.036353883708756",
         "2025-08-07 18:47:17.276920+00:00",
         "()",
         "Odos",
         "1.0518176941854378"
        ],
        [
         "24",
         "tokemak",
         "1",
         "0x04C154b66CB340F3Ae24111CC767e0184Ed00Cc6",
         "0xC02aaA39b223FE8D0A0e5C4F27eAD9083C756Cc2",
         "pxETH",
         "WETH",
         "20.0",
         "19.927477795798445",
         "2025-08-07 18:47:17.277765+00:00",
         "()",
         "Odos",
         "0.9963738897899223"
        ],
        [
         "25",
         "tokemak",
         "1",
         "0xf1C9acDc66974dFB6dEcB12aA385b9cD01190E38",
         "0xC02aaA39b223FE8D0A0e5C4F27eAD9083C756Cc2",
         "osETH",
         "WETH",
         "20.0",
         "21.036353883708756",
         "2025-08-07 18:47:55.889680+00:00",
         "()",
         "Odos",
         "1.0518176941854378"
        ],
        [
         "26",
         "tokemak",
         "1",
         "0xae78736Cd615f374D3085123A210448E74Fc6393",
         "0xC02aaA39b223FE8D0A0e5C4F27eAD9083C756Cc2",
         "rETH",
         "WETH",
         "200.0",
         "227.5821697137512",
         "2025-08-07 18:47:55.923726+00:00",
         "()",
         "Odos",
         "1.137910848568756"
        ],
        [
         "27",
         "tokemak",
         "1",
         "0x04C154b66CB340F3Ae24111CC767e0184Ed00Cc6",
         "0xC02aaA39b223FE8D0A0e5C4F27eAD9083C756Cc2",
         "pxETH",
         "WETH",
         "20.0",
         "19.92747779579823",
         "2025-08-07 18:47:55.944383+00:00",
         "()",
         "Odos",
         "0.9963738897899115"
        ],
        [
         "28",
         "tokemak",
         "1",
         "0xbf5495Efe5DB9ce00f80364C8B423567e58d2110",
         "0xC02aaA39b223FE8D0A0e5C4F27eAD9083C756Cc2",
         "ezETH",
         "WETH",
         "50.0",
         "52.74230690969471",
         "2025-08-07 18:47:56.338566+00:00",
         "()",
         "Odos",
         "1.0548461381938943"
        ],
        [
         "29",
         "tokemak",
         "1",
         "0xae7ab96520DE3A18E5e111B5EaAb095312D7fE84",
         "0xC02aaA39b223FE8D0A0e5C4F27eAD9083C756Cc2",
         "stETH",
         "WETH",
         "100.0",
         "99.86807645274597",
         "2025-08-07 18:47:57.543605+00:00",
         "()",
         "Odos",
         "0.9986807645274597"
        ]
       ],
       "shape": {
        "columns": 12,
        "rows": 30
       }
      },
      "text/html": [
       "<div>\n",
       "<style scoped>\n",
       "    .dataframe tbody tr th:only-of-type {\n",
       "        vertical-align: middle;\n",
       "    }\n",
       "\n",
       "    .dataframe tbody tr th {\n",
       "        vertical-align: top;\n",
       "    }\n",
       "\n",
       "    .dataframe thead th {\n",
       "        text-align: right;\n",
       "    }\n",
       "</style>\n",
       "<table border=\"1\" class=\"dataframe\">\n",
       "  <thead>\n",
       "    <tr style=\"text-align: right;\">\n",
       "      <th></th>\n",
       "      <th>api</th>\n",
       "      <th>chain_id</th>\n",
       "      <th>token_in</th>\n",
       "      <th>token_out</th>\n",
       "      <th>token_in_symbol</th>\n",
       "      <th>token_out_symbol</th>\n",
       "      <th>scaled_amount_in</th>\n",
       "      <th>scaled_amount_out</th>\n",
       "      <th>datetime_received</th>\n",
       "      <th>pools_blacklist</th>\n",
       "      <th>aggregator_name</th>\n",
       "      <th>effective_price</th>\n",
       "    </tr>\n",
       "  </thead>\n",
       "  <tbody>\n",
       "    <tr>\n",
       "      <th>0</th>\n",
       "      <td>odos</td>\n",
       "      <td>1</td>\n",
       "      <td>0xae7ab96520DE3A18E5e111B5EaAb095312D7fE84</td>\n",
       "      <td>0xC02aaA39b223FE8D0A0e5C4F27eAD9083C756Cc2</td>\n",
       "      <td>stETH</td>\n",
       "      <td>WETH</td>\n",
       "      <td>100.0</td>\n",
       "      <td>99.868111</td>\n",
       "      <td>2025-08-07 18:46:41.560941+00:00</td>\n",
       "      <td>(0xdb74dfdd3bb46be8ce6c33dc9d82777bcfc3ded5, 0...</td>\n",
       "      <td>Odos</td>\n",
       "      <td>0.998681</td>\n",
       "    </tr>\n",
       "    <tr>\n",
       "      <th>1</th>\n",
       "      <td>odos</td>\n",
       "      <td>1</td>\n",
       "      <td>0xf1C9acDc66974dFB6dEcB12aA385b9cD01190E38</td>\n",
       "      <td>0xC02aaA39b223FE8D0A0e5C4F27eAD9083C756Cc2</td>\n",
       "      <td>osETH</td>\n",
       "      <td>WETH</td>\n",
       "      <td>20.0</td>\n",
       "      <td>21.032431</td>\n",
       "      <td>2025-08-07 18:46:41.561891+00:00</td>\n",
       "      <td>(0xdb74dfdd3bb46be8ce6c33dc9d82777bcfc3ded5, 0...</td>\n",
       "      <td>Odos</td>\n",
       "      <td>1.051622</td>\n",
       "    </tr>\n",
       "    <tr>\n",
       "      <th>2</th>\n",
       "      <td>odos</td>\n",
       "      <td>1</td>\n",
       "      <td>0xae78736Cd615f374D3085123A210448E74Fc6393</td>\n",
       "      <td>0xC02aaA39b223FE8D0A0e5C4F27eAD9083C756Cc2</td>\n",
       "      <td>rETH</td>\n",
       "      <td>WETH</td>\n",
       "      <td>200.0</td>\n",
       "      <td>227.581867</td>\n",
       "      <td>2025-08-07 18:46:42.076729+00:00</td>\n",
       "      <td>(0xdb74dfdd3bb46be8ce6c33dc9d82777bcfc3ded5, 0...</td>\n",
       "      <td>Odos</td>\n",
       "      <td>1.137909</td>\n",
       "    </tr>\n",
       "    <tr>\n",
       "      <th>3</th>\n",
       "      <td>odos</td>\n",
       "      <td>1</td>\n",
       "      <td>0xbf5495Efe5DB9ce00f80364C8B423567e58d2110</td>\n",
       "      <td>0xC02aaA39b223FE8D0A0e5C4F27eAD9083C756Cc2</td>\n",
       "      <td>ezETH</td>\n",
       "      <td>WETH</td>\n",
       "      <td>50.0</td>\n",
       "      <td>52.742307</td>\n",
       "      <td>2025-08-07 18:46:42.954250+00:00</td>\n",
       "      <td>(0xdb74dfdd3bb46be8ce6c33dc9d82777bcfc3ded5, 0...</td>\n",
       "      <td>Odos</td>\n",
       "      <td>1.054846</td>\n",
       "    </tr>\n",
       "    <tr>\n",
       "      <th>4</th>\n",
       "      <td>odos</td>\n",
       "      <td>1</td>\n",
       "      <td>0x04C154b66CB340F3Ae24111CC767e0184Ed00Cc6</td>\n",
       "      <td>0xC02aaA39b223FE8D0A0e5C4F27eAD9083C756Cc2</td>\n",
       "      <td>pxETH</td>\n",
       "      <td>WETH</td>\n",
       "      <td>20.0</td>\n",
       "      <td>19.925611</td>\n",
       "      <td>2025-08-07 18:46:44.314680+00:00</td>\n",
       "      <td>(0xdb74dfdd3bb46be8ce6c33dc9d82777bcfc3ded5, 0...</td>\n",
       "      <td>Odos</td>\n",
       "      <td>0.996281</td>\n",
       "    </tr>\n",
       "    <tr>\n",
       "      <th>5</th>\n",
       "      <td>odos</td>\n",
       "      <td>1</td>\n",
       "      <td>0xf1C9acDc66974dFB6dEcB12aA385b9cD01190E38</td>\n",
       "      <td>0xC02aaA39b223FE8D0A0e5C4F27eAD9083C756Cc2</td>\n",
       "      <td>osETH</td>\n",
       "      <td>WETH</td>\n",
       "      <td>20.0</td>\n",
       "      <td>21.032431</td>\n",
       "      <td>2025-08-07 18:47:18.297853+00:00</td>\n",
       "      <td>(0xdb74dfdd3bb46be8ce6c33dc9d82777bcfc3ded5, 0...</td>\n",
       "      <td>Odos</td>\n",
       "      <td>1.051622</td>\n",
       "    </tr>\n",
       "    <tr>\n",
       "      <th>6</th>\n",
       "      <td>odos</td>\n",
       "      <td>1</td>\n",
       "      <td>0xae7ab96520DE3A18E5e111B5EaAb095312D7fE84</td>\n",
       "      <td>0xC02aaA39b223FE8D0A0e5C4F27eAD9083C756Cc2</td>\n",
       "      <td>stETH</td>\n",
       "      <td>WETH</td>\n",
       "      <td>100.0</td>\n",
       "      <td>99.868076</td>\n",
       "      <td>2025-08-07 18:47:18.318183+00:00</td>\n",
       "      <td>(0xdb74dfdd3bb46be8ce6c33dc9d82777bcfc3ded5, 0...</td>\n",
       "      <td>Odos</td>\n",
       "      <td>0.998681</td>\n",
       "    </tr>\n",
       "    <tr>\n",
       "      <th>7</th>\n",
       "      <td>odos</td>\n",
       "      <td>1</td>\n",
       "      <td>0xbf5495Efe5DB9ce00f80364C8B423567e58d2110</td>\n",
       "      <td>0xC02aaA39b223FE8D0A0e5C4F27eAD9083C756Cc2</td>\n",
       "      <td>ezETH</td>\n",
       "      <td>WETH</td>\n",
       "      <td>50.0</td>\n",
       "      <td>52.742307</td>\n",
       "      <td>2025-08-07 18:47:18.393928+00:00</td>\n",
       "      <td>(0xdb74dfdd3bb46be8ce6c33dc9d82777bcfc3ded5, 0...</td>\n",
       "      <td>Odos</td>\n",
       "      <td>1.054846</td>\n",
       "    </tr>\n",
       "    <tr>\n",
       "      <th>8</th>\n",
       "      <td>odos</td>\n",
       "      <td>1</td>\n",
       "      <td>0x04C154b66CB340F3Ae24111CC767e0184Ed00Cc6</td>\n",
       "      <td>0xC02aaA39b223FE8D0A0e5C4F27eAD9083C756Cc2</td>\n",
       "      <td>pxETH</td>\n",
       "      <td>WETH</td>\n",
       "      <td>20.0</td>\n",
       "      <td>19.925611</td>\n",
       "      <td>2025-08-07 18:47:20.570160+00:00</td>\n",
       "      <td>(0xdb74dfdd3bb46be8ce6c33dc9d82777bcfc3ded5, 0...</td>\n",
       "      <td>Odos</td>\n",
       "      <td>0.996281</td>\n",
       "    </tr>\n",
       "    <tr>\n",
       "      <th>9</th>\n",
       "      <td>odos</td>\n",
       "      <td>1</td>\n",
       "      <td>0xae78736Cd615f374D3085123A210448E74Fc6393</td>\n",
       "      <td>0xC02aaA39b223FE8D0A0e5C4F27eAD9083C756Cc2</td>\n",
       "      <td>rETH</td>\n",
       "      <td>WETH</td>\n",
       "      <td>200.0</td>\n",
       "      <td>227.581869</td>\n",
       "      <td>2025-08-07 18:47:22.979036+00:00</td>\n",
       "      <td>(0xdb74dfdd3bb46be8ce6c33dc9d82777bcfc3ded5, 0...</td>\n",
       "      <td>Odos</td>\n",
       "      <td>1.137909</td>\n",
       "    </tr>\n",
       "    <tr>\n",
       "      <th>10</th>\n",
       "      <td>odos</td>\n",
       "      <td>1</td>\n",
       "      <td>0x04C154b66CB340F3Ae24111CC767e0184Ed00Cc6</td>\n",
       "      <td>0xC02aaA39b223FE8D0A0e5C4F27eAD9083C756Cc2</td>\n",
       "      <td>pxETH</td>\n",
       "      <td>WETH</td>\n",
       "      <td>20.0</td>\n",
       "      <td>19.925611</td>\n",
       "      <td>2025-08-07 18:47:58.303515+00:00</td>\n",
       "      <td>(0xdb74dfdd3bb46be8ce6c33dc9d82777bcfc3ded5, 0...</td>\n",
       "      <td>Odos</td>\n",
       "      <td>0.996281</td>\n",
       "    </tr>\n",
       "    <tr>\n",
       "      <th>11</th>\n",
       "      <td>odos</td>\n",
       "      <td>1</td>\n",
       "      <td>0xbf5495Efe5DB9ce00f80364C8B423567e58d2110</td>\n",
       "      <td>0xC02aaA39b223FE8D0A0e5C4F27eAD9083C756Cc2</td>\n",
       "      <td>ezETH</td>\n",
       "      <td>WETH</td>\n",
       "      <td>50.0</td>\n",
       "      <td>52.742307</td>\n",
       "      <td>2025-08-07 18:47:58.430842+00:00</td>\n",
       "      <td>(0xdb74dfdd3bb46be8ce6c33dc9d82777bcfc3ded5, 0...</td>\n",
       "      <td>Odos</td>\n",
       "      <td>1.054846</td>\n",
       "    </tr>\n",
       "    <tr>\n",
       "      <th>12</th>\n",
       "      <td>odos</td>\n",
       "      <td>1</td>\n",
       "      <td>0xf1C9acDc66974dFB6dEcB12aA385b9cD01190E38</td>\n",
       "      <td>0xC02aaA39b223FE8D0A0e5C4F27eAD9083C756Cc2</td>\n",
       "      <td>osETH</td>\n",
       "      <td>WETH</td>\n",
       "      <td>20.0</td>\n",
       "      <td>21.032431</td>\n",
       "      <td>2025-08-07 18:47:59.387090+00:00</td>\n",
       "      <td>(0xdb74dfdd3bb46be8ce6c33dc9d82777bcfc3ded5, 0...</td>\n",
       "      <td>Odos</td>\n",
       "      <td>1.051622</td>\n",
       "    </tr>\n",
       "    <tr>\n",
       "      <th>13</th>\n",
       "      <td>odos</td>\n",
       "      <td>1</td>\n",
       "      <td>0xae7ab96520DE3A18E5e111B5EaAb095312D7fE84</td>\n",
       "      <td>0xC02aaA39b223FE8D0A0e5C4F27eAD9083C756Cc2</td>\n",
       "      <td>stETH</td>\n",
       "      <td>WETH</td>\n",
       "      <td>100.0</td>\n",
       "      <td>99.868076</td>\n",
       "      <td>2025-08-07 18:47:59.441283+00:00</td>\n",
       "      <td>(0xdb74dfdd3bb46be8ce6c33dc9d82777bcfc3ded5, 0...</td>\n",
       "      <td>Odos</td>\n",
       "      <td>0.998681</td>\n",
       "    </tr>\n",
       "    <tr>\n",
       "      <th>14</th>\n",
       "      <td>odos</td>\n",
       "      <td>1</td>\n",
       "      <td>0xae78736Cd615f374D3085123A210448E74Fc6393</td>\n",
       "      <td>0xC02aaA39b223FE8D0A0e5C4F27eAD9083C756Cc2</td>\n",
       "      <td>rETH</td>\n",
       "      <td>WETH</td>\n",
       "      <td>200.0</td>\n",
       "      <td>227.581869</td>\n",
       "      <td>2025-08-07 18:48:00.497050+00:00</td>\n",
       "      <td>(0xdb74dfdd3bb46be8ce6c33dc9d82777bcfc3ded5, 0...</td>\n",
       "      <td>Odos</td>\n",
       "      <td>1.137909</td>\n",
       "    </tr>\n",
       "    <tr>\n",
       "      <th>15</th>\n",
       "      <td>tokemak</td>\n",
       "      <td>1</td>\n",
       "      <td>0xae7ab96520DE3A18E5e111B5EaAb095312D7fE84</td>\n",
       "      <td>0xC02aaA39b223FE8D0A0e5C4F27eAD9083C756Cc2</td>\n",
       "      <td>stETH</td>\n",
       "      <td>WETH</td>\n",
       "      <td>100.0</td>\n",
       "      <td>99.868111</td>\n",
       "      <td>2025-08-07 18:46:39.040447+00:00</td>\n",
       "      <td>()</td>\n",
       "      <td>Odos</td>\n",
       "      <td>0.998681</td>\n",
       "    </tr>\n",
       "    <tr>\n",
       "      <th>16</th>\n",
       "      <td>tokemak</td>\n",
       "      <td>1</td>\n",
       "      <td>0xbf5495Efe5DB9ce00f80364C8B423567e58d2110</td>\n",
       "      <td>0xC02aaA39b223FE8D0A0e5C4F27eAD9083C756Cc2</td>\n",
       "      <td>ezETH</td>\n",
       "      <td>WETH</td>\n",
       "      <td>50.0</td>\n",
       "      <td>52.742307</td>\n",
       "      <td>2025-08-07 18:46:39.712500+00:00</td>\n",
       "      <td>()</td>\n",
       "      <td>Odos</td>\n",
       "      <td>1.054846</td>\n",
       "    </tr>\n",
       "    <tr>\n",
       "      <th>17</th>\n",
       "      <td>tokemak</td>\n",
       "      <td>1</td>\n",
       "      <td>0x04C154b66CB340F3Ae24111CC767e0184Ed00Cc6</td>\n",
       "      <td>0xC02aaA39b223FE8D0A0e5C4F27eAD9083C756Cc2</td>\n",
       "      <td>pxETH</td>\n",
       "      <td>WETH</td>\n",
       "      <td>20.0</td>\n",
       "      <td>19.927478</td>\n",
       "      <td>2025-08-07 18:46:39.840565+00:00</td>\n",
       "      <td>()</td>\n",
       "      <td>Odos</td>\n",
       "      <td>0.996374</td>\n",
       "    </tr>\n",
       "    <tr>\n",
       "      <th>18</th>\n",
       "      <td>tokemak</td>\n",
       "      <td>1</td>\n",
       "      <td>0xf1C9acDc66974dFB6dEcB12aA385b9cD01190E38</td>\n",
       "      <td>0xC02aaA39b223FE8D0A0e5C4F27eAD9083C756Cc2</td>\n",
       "      <td>osETH</td>\n",
       "      <td>WETH</td>\n",
       "      <td>20.0</td>\n",
       "      <td>21.036352</td>\n",
       "      <td>2025-08-07 18:46:40.117698+00:00</td>\n",
       "      <td>()</td>\n",
       "      <td>Odos</td>\n",
       "      <td>1.051818</td>\n",
       "    </tr>\n",
       "    <tr>\n",
       "      <th>19</th>\n",
       "      <td>tokemak</td>\n",
       "      <td>1</td>\n",
       "      <td>0xae78736Cd615f374D3085123A210448E74Fc6393</td>\n",
       "      <td>0xC02aaA39b223FE8D0A0e5C4F27eAD9083C756Cc2</td>\n",
       "      <td>rETH</td>\n",
       "      <td>WETH</td>\n",
       "      <td>200.0</td>\n",
       "      <td>227.582166</td>\n",
       "      <td>2025-08-07 18:46:40.595002+00:00</td>\n",
       "      <td>()</td>\n",
       "      <td>Odos</td>\n",
       "      <td>1.137911</td>\n",
       "    </tr>\n",
       "    <tr>\n",
       "      <th>20</th>\n",
       "      <td>tokemak</td>\n",
       "      <td>1</td>\n",
       "      <td>0xae7ab96520DE3A18E5e111B5EaAb095312D7fE84</td>\n",
       "      <td>0xC02aaA39b223FE8D0A0e5C4F27eAD9083C756Cc2</td>\n",
       "      <td>stETH</td>\n",
       "      <td>WETH</td>\n",
       "      <td>100.0</td>\n",
       "      <td>99.868111</td>\n",
       "      <td>2025-08-07 18:47:17.136985+00:00</td>\n",
       "      <td>()</td>\n",
       "      <td>Odos</td>\n",
       "      <td>0.998681</td>\n",
       "    </tr>\n",
       "    <tr>\n",
       "      <th>21</th>\n",
       "      <td>tokemak</td>\n",
       "      <td>1</td>\n",
       "      <td>0xae78736Cd615f374D3085123A210448E74Fc6393</td>\n",
       "      <td>0xC02aaA39b223FE8D0A0e5C4F27eAD9083C756Cc2</td>\n",
       "      <td>rETH</td>\n",
       "      <td>WETH</td>\n",
       "      <td>200.0</td>\n",
       "      <td>227.582168</td>\n",
       "      <td>2025-08-07 18:47:17.180723+00:00</td>\n",
       "      <td>()</td>\n",
       "      <td>Odos</td>\n",
       "      <td>1.137911</td>\n",
       "    </tr>\n",
       "    <tr>\n",
       "      <th>22</th>\n",
       "      <td>tokemak</td>\n",
       "      <td>1</td>\n",
       "      <td>0xbf5495Efe5DB9ce00f80364C8B423567e58d2110</td>\n",
       "      <td>0xC02aaA39b223FE8D0A0e5C4F27eAD9083C756Cc2</td>\n",
       "      <td>ezETH</td>\n",
       "      <td>WETH</td>\n",
       "      <td>50.0</td>\n",
       "      <td>52.742307</td>\n",
       "      <td>2025-08-07 18:47:17.203594+00:00</td>\n",
       "      <td>()</td>\n",
       "      <td>Odos</td>\n",
       "      <td>1.054846</td>\n",
       "    </tr>\n",
       "    <tr>\n",
       "      <th>23</th>\n",
       "      <td>tokemak</td>\n",
       "      <td>1</td>\n",
       "      <td>0xf1C9acDc66974dFB6dEcB12aA385b9cD01190E38</td>\n",
       "      <td>0xC02aaA39b223FE8D0A0e5C4F27eAD9083C756Cc2</td>\n",
       "      <td>osETH</td>\n",
       "      <td>WETH</td>\n",
       "      <td>20.0</td>\n",
       "      <td>21.036354</td>\n",
       "      <td>2025-08-07 18:47:17.276920+00:00</td>\n",
       "      <td>()</td>\n",
       "      <td>Odos</td>\n",
       "      <td>1.051818</td>\n",
       "    </tr>\n",
       "    <tr>\n",
       "      <th>24</th>\n",
       "      <td>tokemak</td>\n",
       "      <td>1</td>\n",
       "      <td>0x04C154b66CB340F3Ae24111CC767e0184Ed00Cc6</td>\n",
       "      <td>0xC02aaA39b223FE8D0A0e5C4F27eAD9083C756Cc2</td>\n",
       "      <td>pxETH</td>\n",
       "      <td>WETH</td>\n",
       "      <td>20.0</td>\n",
       "      <td>19.927478</td>\n",
       "      <td>2025-08-07 18:47:17.277765+00:00</td>\n",
       "      <td>()</td>\n",
       "      <td>Odos</td>\n",
       "      <td>0.996374</td>\n",
       "    </tr>\n",
       "    <tr>\n",
       "      <th>25</th>\n",
       "      <td>tokemak</td>\n",
       "      <td>1</td>\n",
       "      <td>0xf1C9acDc66974dFB6dEcB12aA385b9cD01190E38</td>\n",
       "      <td>0xC02aaA39b223FE8D0A0e5C4F27eAD9083C756Cc2</td>\n",
       "      <td>osETH</td>\n",
       "      <td>WETH</td>\n",
       "      <td>20.0</td>\n",
       "      <td>21.036354</td>\n",
       "      <td>2025-08-07 18:47:55.889680+00:00</td>\n",
       "      <td>()</td>\n",
       "      <td>Odos</td>\n",
       "      <td>1.051818</td>\n",
       "    </tr>\n",
       "    <tr>\n",
       "      <th>26</th>\n",
       "      <td>tokemak</td>\n",
       "      <td>1</td>\n",
       "      <td>0xae78736Cd615f374D3085123A210448E74Fc6393</td>\n",
       "      <td>0xC02aaA39b223FE8D0A0e5C4F27eAD9083C756Cc2</td>\n",
       "      <td>rETH</td>\n",
       "      <td>WETH</td>\n",
       "      <td>200.0</td>\n",
       "      <td>227.582170</td>\n",
       "      <td>2025-08-07 18:47:55.923726+00:00</td>\n",
       "      <td>()</td>\n",
       "      <td>Odos</td>\n",
       "      <td>1.137911</td>\n",
       "    </tr>\n",
       "    <tr>\n",
       "      <th>27</th>\n",
       "      <td>tokemak</td>\n",
       "      <td>1</td>\n",
       "      <td>0x04C154b66CB340F3Ae24111CC767e0184Ed00Cc6</td>\n",
       "      <td>0xC02aaA39b223FE8D0A0e5C4F27eAD9083C756Cc2</td>\n",
       "      <td>pxETH</td>\n",
       "      <td>WETH</td>\n",
       "      <td>20.0</td>\n",
       "      <td>19.927478</td>\n",
       "      <td>2025-08-07 18:47:55.944383+00:00</td>\n",
       "      <td>()</td>\n",
       "      <td>Odos</td>\n",
       "      <td>0.996374</td>\n",
       "    </tr>\n",
       "    <tr>\n",
       "      <th>28</th>\n",
       "      <td>tokemak</td>\n",
       "      <td>1</td>\n",
       "      <td>0xbf5495Efe5DB9ce00f80364C8B423567e58d2110</td>\n",
       "      <td>0xC02aaA39b223FE8D0A0e5C4F27eAD9083C756Cc2</td>\n",
       "      <td>ezETH</td>\n",
       "      <td>WETH</td>\n",
       "      <td>50.0</td>\n",
       "      <td>52.742307</td>\n",
       "      <td>2025-08-07 18:47:56.338566+00:00</td>\n",
       "      <td>()</td>\n",
       "      <td>Odos</td>\n",
       "      <td>1.054846</td>\n",
       "    </tr>\n",
       "    <tr>\n",
       "      <th>29</th>\n",
       "      <td>tokemak</td>\n",
       "      <td>1</td>\n",
       "      <td>0xae7ab96520DE3A18E5e111B5EaAb095312D7fE84</td>\n",
       "      <td>0xC02aaA39b223FE8D0A0e5C4F27eAD9083C756Cc2</td>\n",
       "      <td>stETH</td>\n",
       "      <td>WETH</td>\n",
       "      <td>100.0</td>\n",
       "      <td>99.868076</td>\n",
       "      <td>2025-08-07 18:47:57.543605+00:00</td>\n",
       "      <td>()</td>\n",
       "      <td>Odos</td>\n",
       "      <td>0.998681</td>\n",
       "    </tr>\n",
       "  </tbody>\n",
       "</table>\n",
       "</div>"
      ],
      "text/plain": [
       "        api  chain_id                                    token_in  \\\n",
       "0      odos         1  0xae7ab96520DE3A18E5e111B5EaAb095312D7fE84   \n",
       "1      odos         1  0xf1C9acDc66974dFB6dEcB12aA385b9cD01190E38   \n",
       "2      odos         1  0xae78736Cd615f374D3085123A210448E74Fc6393   \n",
       "3      odos         1  0xbf5495Efe5DB9ce00f80364C8B423567e58d2110   \n",
       "4      odos         1  0x04C154b66CB340F3Ae24111CC767e0184Ed00Cc6   \n",
       "5      odos         1  0xf1C9acDc66974dFB6dEcB12aA385b9cD01190E38   \n",
       "6      odos         1  0xae7ab96520DE3A18E5e111B5EaAb095312D7fE84   \n",
       "7      odos         1  0xbf5495Efe5DB9ce00f80364C8B423567e58d2110   \n",
       "8      odos         1  0x04C154b66CB340F3Ae24111CC767e0184Ed00Cc6   \n",
       "9      odos         1  0xae78736Cd615f374D3085123A210448E74Fc6393   \n",
       "10     odos         1  0x04C154b66CB340F3Ae24111CC767e0184Ed00Cc6   \n",
       "11     odos         1  0xbf5495Efe5DB9ce00f80364C8B423567e58d2110   \n",
       "12     odos         1  0xf1C9acDc66974dFB6dEcB12aA385b9cD01190E38   \n",
       "13     odos         1  0xae7ab96520DE3A18E5e111B5EaAb095312D7fE84   \n",
       "14     odos         1  0xae78736Cd615f374D3085123A210448E74Fc6393   \n",
       "15  tokemak         1  0xae7ab96520DE3A18E5e111B5EaAb095312D7fE84   \n",
       "16  tokemak         1  0xbf5495Efe5DB9ce00f80364C8B423567e58d2110   \n",
       "17  tokemak         1  0x04C154b66CB340F3Ae24111CC767e0184Ed00Cc6   \n",
       "18  tokemak         1  0xf1C9acDc66974dFB6dEcB12aA385b9cD01190E38   \n",
       "19  tokemak         1  0xae78736Cd615f374D3085123A210448E74Fc6393   \n",
       "20  tokemak         1  0xae7ab96520DE3A18E5e111B5EaAb095312D7fE84   \n",
       "21  tokemak         1  0xae78736Cd615f374D3085123A210448E74Fc6393   \n",
       "22  tokemak         1  0xbf5495Efe5DB9ce00f80364C8B423567e58d2110   \n",
       "23  tokemak         1  0xf1C9acDc66974dFB6dEcB12aA385b9cD01190E38   \n",
       "24  tokemak         1  0x04C154b66CB340F3Ae24111CC767e0184Ed00Cc6   \n",
       "25  tokemak         1  0xf1C9acDc66974dFB6dEcB12aA385b9cD01190E38   \n",
       "26  tokemak         1  0xae78736Cd615f374D3085123A210448E74Fc6393   \n",
       "27  tokemak         1  0x04C154b66CB340F3Ae24111CC767e0184Ed00Cc6   \n",
       "28  tokemak         1  0xbf5495Efe5DB9ce00f80364C8B423567e58d2110   \n",
       "29  tokemak         1  0xae7ab96520DE3A18E5e111B5EaAb095312D7fE84   \n",
       "\n",
       "                                     token_out token_in_symbol  \\\n",
       "0   0xC02aaA39b223FE8D0A0e5C4F27eAD9083C756Cc2           stETH   \n",
       "1   0xC02aaA39b223FE8D0A0e5C4F27eAD9083C756Cc2           osETH   \n",
       "2   0xC02aaA39b223FE8D0A0e5C4F27eAD9083C756Cc2            rETH   \n",
       "3   0xC02aaA39b223FE8D0A0e5C4F27eAD9083C756Cc2           ezETH   \n",
       "4   0xC02aaA39b223FE8D0A0e5C4F27eAD9083C756Cc2           pxETH   \n",
       "5   0xC02aaA39b223FE8D0A0e5C4F27eAD9083C756Cc2           osETH   \n",
       "6   0xC02aaA39b223FE8D0A0e5C4F27eAD9083C756Cc2           stETH   \n",
       "7   0xC02aaA39b223FE8D0A0e5C4F27eAD9083C756Cc2           ezETH   \n",
       "8   0xC02aaA39b223FE8D0A0e5C4F27eAD9083C756Cc2           pxETH   \n",
       "9   0xC02aaA39b223FE8D0A0e5C4F27eAD9083C756Cc2            rETH   \n",
       "10  0xC02aaA39b223FE8D0A0e5C4F27eAD9083C756Cc2           pxETH   \n",
       "11  0xC02aaA39b223FE8D0A0e5C4F27eAD9083C756Cc2           ezETH   \n",
       "12  0xC02aaA39b223FE8D0A0e5C4F27eAD9083C756Cc2           osETH   \n",
       "13  0xC02aaA39b223FE8D0A0e5C4F27eAD9083C756Cc2           stETH   \n",
       "14  0xC02aaA39b223FE8D0A0e5C4F27eAD9083C756Cc2            rETH   \n",
       "15  0xC02aaA39b223FE8D0A0e5C4F27eAD9083C756Cc2           stETH   \n",
       "16  0xC02aaA39b223FE8D0A0e5C4F27eAD9083C756Cc2           ezETH   \n",
       "17  0xC02aaA39b223FE8D0A0e5C4F27eAD9083C756Cc2           pxETH   \n",
       "18  0xC02aaA39b223FE8D0A0e5C4F27eAD9083C756Cc2           osETH   \n",
       "19  0xC02aaA39b223FE8D0A0e5C4F27eAD9083C756Cc2            rETH   \n",
       "20  0xC02aaA39b223FE8D0A0e5C4F27eAD9083C756Cc2           stETH   \n",
       "21  0xC02aaA39b223FE8D0A0e5C4F27eAD9083C756Cc2            rETH   \n",
       "22  0xC02aaA39b223FE8D0A0e5C4F27eAD9083C756Cc2           ezETH   \n",
       "23  0xC02aaA39b223FE8D0A0e5C4F27eAD9083C756Cc2           osETH   \n",
       "24  0xC02aaA39b223FE8D0A0e5C4F27eAD9083C756Cc2           pxETH   \n",
       "25  0xC02aaA39b223FE8D0A0e5C4F27eAD9083C756Cc2           osETH   \n",
       "26  0xC02aaA39b223FE8D0A0e5C4F27eAD9083C756Cc2            rETH   \n",
       "27  0xC02aaA39b223FE8D0A0e5C4F27eAD9083C756Cc2           pxETH   \n",
       "28  0xC02aaA39b223FE8D0A0e5C4F27eAD9083C756Cc2           ezETH   \n",
       "29  0xC02aaA39b223FE8D0A0e5C4F27eAD9083C756Cc2           stETH   \n",
       "\n",
       "   token_out_symbol  scaled_amount_in  scaled_amount_out  \\\n",
       "0              WETH             100.0          99.868111   \n",
       "1              WETH              20.0          21.032431   \n",
       "2              WETH             200.0         227.581867   \n",
       "3              WETH              50.0          52.742307   \n",
       "4              WETH              20.0          19.925611   \n",
       "5              WETH              20.0          21.032431   \n",
       "6              WETH             100.0          99.868076   \n",
       "7              WETH              50.0          52.742307   \n",
       "8              WETH              20.0          19.925611   \n",
       "9              WETH             200.0         227.581869   \n",
       "10             WETH              20.0          19.925611   \n",
       "11             WETH              50.0          52.742307   \n",
       "12             WETH              20.0          21.032431   \n",
       "13             WETH             100.0          99.868076   \n",
       "14             WETH             200.0         227.581869   \n",
       "15             WETH             100.0          99.868111   \n",
       "16             WETH              50.0          52.742307   \n",
       "17             WETH              20.0          19.927478   \n",
       "18             WETH              20.0          21.036352   \n",
       "19             WETH             200.0         227.582166   \n",
       "20             WETH             100.0          99.868111   \n",
       "21             WETH             200.0         227.582168   \n",
       "22             WETH              50.0          52.742307   \n",
       "23             WETH              20.0          21.036354   \n",
       "24             WETH              20.0          19.927478   \n",
       "25             WETH              20.0          21.036354   \n",
       "26             WETH             200.0         227.582170   \n",
       "27             WETH              20.0          19.927478   \n",
       "28             WETH              50.0          52.742307   \n",
       "29             WETH             100.0          99.868076   \n",
       "\n",
       "                  datetime_received  \\\n",
       "0  2025-08-07 18:46:41.560941+00:00   \n",
       "1  2025-08-07 18:46:41.561891+00:00   \n",
       "2  2025-08-07 18:46:42.076729+00:00   \n",
       "3  2025-08-07 18:46:42.954250+00:00   \n",
       "4  2025-08-07 18:46:44.314680+00:00   \n",
       "5  2025-08-07 18:47:18.297853+00:00   \n",
       "6  2025-08-07 18:47:18.318183+00:00   \n",
       "7  2025-08-07 18:47:18.393928+00:00   \n",
       "8  2025-08-07 18:47:20.570160+00:00   \n",
       "9  2025-08-07 18:47:22.979036+00:00   \n",
       "10 2025-08-07 18:47:58.303515+00:00   \n",
       "11 2025-08-07 18:47:58.430842+00:00   \n",
       "12 2025-08-07 18:47:59.387090+00:00   \n",
       "13 2025-08-07 18:47:59.441283+00:00   \n",
       "14 2025-08-07 18:48:00.497050+00:00   \n",
       "15 2025-08-07 18:46:39.040447+00:00   \n",
       "16 2025-08-07 18:46:39.712500+00:00   \n",
       "17 2025-08-07 18:46:39.840565+00:00   \n",
       "18 2025-08-07 18:46:40.117698+00:00   \n",
       "19 2025-08-07 18:46:40.595002+00:00   \n",
       "20 2025-08-07 18:47:17.136985+00:00   \n",
       "21 2025-08-07 18:47:17.180723+00:00   \n",
       "22 2025-08-07 18:47:17.203594+00:00   \n",
       "23 2025-08-07 18:47:17.276920+00:00   \n",
       "24 2025-08-07 18:47:17.277765+00:00   \n",
       "25 2025-08-07 18:47:55.889680+00:00   \n",
       "26 2025-08-07 18:47:55.923726+00:00   \n",
       "27 2025-08-07 18:47:55.944383+00:00   \n",
       "28 2025-08-07 18:47:56.338566+00:00   \n",
       "29 2025-08-07 18:47:57.543605+00:00   \n",
       "\n",
       "                                      pools_blacklist aggregator_name  \\\n",
       "0   (0xdb74dfdd3bb46be8ce6c33dc9d82777bcfc3ded5, 0...            Odos   \n",
       "1   (0xdb74dfdd3bb46be8ce6c33dc9d82777bcfc3ded5, 0...            Odos   \n",
       "2   (0xdb74dfdd3bb46be8ce6c33dc9d82777bcfc3ded5, 0...            Odos   \n",
       "3   (0xdb74dfdd3bb46be8ce6c33dc9d82777bcfc3ded5, 0...            Odos   \n",
       "4   (0xdb74dfdd3bb46be8ce6c33dc9d82777bcfc3ded5, 0...            Odos   \n",
       "5   (0xdb74dfdd3bb46be8ce6c33dc9d82777bcfc3ded5, 0...            Odos   \n",
       "6   (0xdb74dfdd3bb46be8ce6c33dc9d82777bcfc3ded5, 0...            Odos   \n",
       "7   (0xdb74dfdd3bb46be8ce6c33dc9d82777bcfc3ded5, 0...            Odos   \n",
       "8   (0xdb74dfdd3bb46be8ce6c33dc9d82777bcfc3ded5, 0...            Odos   \n",
       "9   (0xdb74dfdd3bb46be8ce6c33dc9d82777bcfc3ded5, 0...            Odos   \n",
       "10  (0xdb74dfdd3bb46be8ce6c33dc9d82777bcfc3ded5, 0...            Odos   \n",
       "11  (0xdb74dfdd3bb46be8ce6c33dc9d82777bcfc3ded5, 0...            Odos   \n",
       "12  (0xdb74dfdd3bb46be8ce6c33dc9d82777bcfc3ded5, 0...            Odos   \n",
       "13  (0xdb74dfdd3bb46be8ce6c33dc9d82777bcfc3ded5, 0...            Odos   \n",
       "14  (0xdb74dfdd3bb46be8ce6c33dc9d82777bcfc3ded5, 0...            Odos   \n",
       "15                                                 ()            Odos   \n",
       "16                                                 ()            Odos   \n",
       "17                                                 ()            Odos   \n",
       "18                                                 ()            Odos   \n",
       "19                                                 ()            Odos   \n",
       "20                                                 ()            Odos   \n",
       "21                                                 ()            Odos   \n",
       "22                                                 ()            Odos   \n",
       "23                                                 ()            Odos   \n",
       "24                                                 ()            Odos   \n",
       "25                                                 ()            Odos   \n",
       "26                                                 ()            Odos   \n",
       "27                                                 ()            Odos   \n",
       "28                                                 ()            Odos   \n",
       "29                                                 ()            Odos   \n",
       "\n",
       "    effective_price  \n",
       "0          0.998681  \n",
       "1          1.051622  \n",
       "2          1.137909  \n",
       "3          1.054846  \n",
       "4          0.996281  \n",
       "5          1.051622  \n",
       "6          0.998681  \n",
       "7          1.054846  \n",
       "8          0.996281  \n",
       "9          1.137909  \n",
       "10         0.996281  \n",
       "11         1.054846  \n",
       "12         1.051622  \n",
       "13         0.998681  \n",
       "14         1.137909  \n",
       "15         0.998681  \n",
       "16         1.054846  \n",
       "17         0.996374  \n",
       "18         1.051818  \n",
       "19         1.137911  \n",
       "20         0.998681  \n",
       "21         1.137911  \n",
       "22         1.054846  \n",
       "23         1.051818  \n",
       "24         0.996374  \n",
       "25         1.051818  \n",
       "26         1.137911  \n",
       "27         0.996374  \n",
       "28         1.054846  \n",
       "29         0.998681  "
      ]
     },
     "execution_count": 8,
     "metadata": {},
     "output_type": "execute_result"
    }
   ],
   "source": []
  },
  {
   "cell_type": "code",
   "execution_count": 9,
   "metadata": {},
   "outputs": [
    {
     "data": {
      "application/vnd.microsoft.datawrangler.viewer.v0+json": {
       "columns": [
        {
         "name": "scaled_amount_in",
         "rawType": "float64",
         "type": "float"
        },
        {
         "name": "ezETH",
         "rawType": "float64",
         "type": "float"
        },
        {
         "name": "osETH",
         "rawType": "float64",
         "type": "float"
        },
        {
         "name": "pxETH",
         "rawType": "float64",
         "type": "float"
        },
        {
         "name": "rETH",
         "rawType": "float64",
         "type": "float"
        },
        {
         "name": "stETH",
         "rawType": "float64",
         "type": "float"
        }
       ],
       "ref": "9ef5bdc8-6a34-409e-9606-72c1e1166d43",
       "rows": [
        [
         "20.0",
         null,
         "1.051719609695488",
         "0.9963272102243409",
         null,
         null
        ],
        [
         "50.0",
         "1.0548461381938943",
         null,
         null,
         null,
         null
        ],
        [
         "100.0",
         null,
         null,
         null,
         null,
         "0.9986809372557525"
        ],
        [
         "200.0",
         null,
         null,
         null,
         "1.1379100908606434",
         null
        ]
       ],
       "shape": {
        "columns": 5,
        "rows": 4
       }
      },
      "text/html": [
       "<div>\n",
       "<style scoped>\n",
       "    .dataframe tbody tr th:only-of-type {\n",
       "        vertical-align: middle;\n",
       "    }\n",
       "\n",
       "    .dataframe tbody tr th {\n",
       "        vertical-align: top;\n",
       "    }\n",
       "\n",
       "    .dataframe thead th {\n",
       "        text-align: right;\n",
       "    }\n",
       "</style>\n",
       "<table border=\"1\" class=\"dataframe\">\n",
       "  <thead>\n",
       "    <tr style=\"text-align: right;\">\n",
       "      <th>token_in_symbol</th>\n",
       "      <th>ezETH</th>\n",
       "      <th>osETH</th>\n",
       "      <th>pxETH</th>\n",
       "      <th>rETH</th>\n",
       "      <th>stETH</th>\n",
       "    </tr>\n",
       "    <tr>\n",
       "      <th>scaled_amount_in</th>\n",
       "      <th></th>\n",
       "      <th></th>\n",
       "      <th></th>\n",
       "      <th></th>\n",
       "      <th></th>\n",
       "    </tr>\n",
       "  </thead>\n",
       "  <tbody>\n",
       "    <tr>\n",
       "      <th>20.0</th>\n",
       "      <td>NaN</td>\n",
       "      <td>1.05172</td>\n",
       "      <td>0.996327</td>\n",
       "      <td>NaN</td>\n",
       "      <td>NaN</td>\n",
       "    </tr>\n",
       "    <tr>\n",
       "      <th>50.0</th>\n",
       "      <td>1.054846</td>\n",
       "      <td>NaN</td>\n",
       "      <td>NaN</td>\n",
       "      <td>NaN</td>\n",
       "      <td>NaN</td>\n",
       "    </tr>\n",
       "    <tr>\n",
       "      <th>100.0</th>\n",
       "      <td>NaN</td>\n",
       "      <td>NaN</td>\n",
       "      <td>NaN</td>\n",
       "      <td>NaN</td>\n",
       "      <td>0.998681</td>\n",
       "    </tr>\n",
       "    <tr>\n",
       "      <th>200.0</th>\n",
       "      <td>NaN</td>\n",
       "      <td>NaN</td>\n",
       "      <td>NaN</td>\n",
       "      <td>1.13791</td>\n",
       "      <td>NaN</td>\n",
       "    </tr>\n",
       "  </tbody>\n",
       "</table>\n",
       "</div>"
      ],
      "text/plain": [
       "token_in_symbol      ezETH    osETH     pxETH     rETH     stETH\n",
       "scaled_amount_in                                                \n",
       "20.0                   NaN  1.05172  0.996327      NaN       NaN\n",
       "50.0              1.054846      NaN       NaN      NaN       NaN\n",
       "100.0                  NaN      NaN       NaN      NaN  0.998681\n",
       "200.0                  NaN      NaN       NaN  1.13791       NaN"
      ]
     },
     "execution_count": 9,
     "metadata": {},
     "output_type": "execute_result"
    }
   ],
   "source": [
    "df.pivot_table(\n",
    "    columns=\"token_in_symbol\",\n",
    "    index=\"scaled_amount_in\",\n",
    "    values=\"effective_price\",\n",
    ")"
   ]
  },
  {
   "cell_type": "code",
   "execution_count": 5,
   "metadata": {},
   "outputs": [
    {
     "data": {
      "application/vnd.plotly.v1+json": {
       "config": {
        "plotlyServerURL": "https://plot.ly"
       },
       "data": [
        {
         "customdata": [
          [
           "odos",
           "2025-08-07T18:46:41.560941+00:00",
           "Odos"
          ],
          [
           "odos",
           "2025-08-07T18:47:18.318183+00:00",
           "Odos"
          ],
          [
           "odos",
           "2025-08-07T18:47:59.441283+00:00",
           "Odos"
          ],
          [
           "tokemak",
           "2025-08-07T18:46:39.040447+00:00",
           "Odos"
          ],
          [
           "tokemak",
           "2025-08-07T18:47:17.136985+00:00",
           "Odos"
          ],
          [
           "tokemak",
           "2025-08-07T18:47:57.543605+00:00",
           "Odos"
          ]
         ],
         "hovertemplate": "token_in_symbol=stETH<br>scaled_amount_in=%{x}<br>effective_price=%{y}<br>api=%{customdata[0]}<br>datetime_received=%{customdata[1]}<br>aggregator_name=%{customdata[2]}<extra></extra>",
         "legendgroup": "stETH",
         "marker": {
          "color": "#636efa",
          "symbol": "circle"
         },
         "mode": "markers",
         "name": "stETH",
         "orientation": "v",
         "showlegend": true,
         "type": "scatter",
         "x": [
          100,
          100,
          100,
          100,
          100,
          100
         ],
         "xaxis": "x",
         "y": [
          0.9986811099840454,
          0.9986807645274597,
          0.9986807645274597,
          0.9986811099840454,
          0.9986811099840454,
          0.9986807645274597
         ],
         "yaxis": "y"
        },
        {
         "customdata": [
          [
           "odos",
           "2025-08-07T18:46:41.561891+00:00",
           "Odos"
          ],
          [
           "odos",
           "2025-08-07T18:47:18.297853+00:00",
           "Odos"
          ],
          [
           "odos",
           "2025-08-07T18:47:59.387090+00:00",
           "Odos"
          ],
          [
           "tokemak",
           "2025-08-07T18:46:40.117698+00:00",
           "Odos"
          ],
          [
           "tokemak",
           "2025-08-07T18:47:17.276920+00:00",
           "Odos"
          ],
          [
           "tokemak",
           "2025-08-07T18:47:55.889680+00:00",
           "Odos"
          ]
         ],
         "hovertemplate": "token_in_symbol=osETH<br>scaled_amount_in=%{x}<br>effective_price=%{y}<br>api=%{customdata[0]}<br>datetime_received=%{customdata[1]}<br>aggregator_name=%{customdata[2]}<extra></extra>",
         "legendgroup": "osETH",
         "marker": {
          "color": "#EF553B",
          "symbol": "circle"
         },
         "mode": "markers",
         "name": "osETH",
         "orientation": "v",
         "showlegend": true,
         "type": "scatter",
         "x": [
          20,
          20,
          20,
          20,
          20,
          20
         ],
         "xaxis": "x",
         "y": [
          1.051621553588687,
          1.051621553588687,
          1.051621553588687,
          1.0518176090359903,
          1.0518176941854378,
          1.0518176941854378
         ],
         "yaxis": "y"
        },
        {
         "customdata": [
          [
           "odos",
           "2025-08-07T18:46:42.076729+00:00",
           "Odos"
          ],
          [
           "odos",
           "2025-08-07T18:47:22.979036+00:00",
           "Odos"
          ],
          [
           "odos",
           "2025-08-07T18:48:00.497050+00:00",
           "Odos"
          ],
          [
           "tokemak",
           "2025-08-07T18:46:40.595002+00:00",
           "Odos"
          ],
          [
           "tokemak",
           "2025-08-07T18:47:17.180723+00:00",
           "Odos"
          ],
          [
           "tokemak",
           "2025-08-07T18:47:55.923726+00:00",
           "Odos"
          ]
         ],
         "hovertemplate": "token_in_symbol=rETH<br>scaled_amount_in=%{x}<br>effective_price=%{y}<br>api=%{customdata[0]}<br>datetime_received=%{customdata[1]}<br>aggregator_name=%{customdata[2]}<extra></extra>",
         "legendgroup": "rETH",
         "marker": {
          "color": "#00cc96",
          "symbol": "circle"
         },
         "mode": "markers",
         "name": "rETH",
         "orientation": "v",
         "showlegend": true,
         "type": "scatter",
         "x": [
          200,
          200,
          200,
          200,
          200,
          200
         ],
         "xaxis": "x",
         "y": [
          1.1379093363305708,
          1.1379093431193021,
          1.1379093431194844,
          1.137910832456169,
          1.1379108415695778,
          1.137910848568756
         ],
         "yaxis": "y"
        },
        {
         "customdata": [
          [
           "odos",
           "2025-08-07T18:46:42.954250+00:00",
           "Odos"
          ],
          [
           "odos",
           "2025-08-07T18:47:18.393928+00:00",
           "Odos"
          ],
          [
           "odos",
           "2025-08-07T18:47:58.430842+00:00",
           "Odos"
          ],
          [
           "tokemak",
           "2025-08-07T18:46:39.712500+00:00",
           "Odos"
          ],
          [
           "tokemak",
           "2025-08-07T18:47:17.203594+00:00",
           "Odos"
          ],
          [
           "tokemak",
           "2025-08-07T18:47:56.338566+00:00",
           "Odos"
          ]
         ],
         "hovertemplate": "token_in_symbol=ezETH<br>scaled_amount_in=%{x}<br>effective_price=%{y}<br>api=%{customdata[0]}<br>datetime_received=%{customdata[1]}<br>aggregator_name=%{customdata[2]}<extra></extra>",
         "legendgroup": "ezETH",
         "marker": {
          "color": "#ab63fa",
          "symbol": "circle"
         },
         "mode": "markers",
         "name": "ezETH",
         "orientation": "v",
         "showlegend": true,
         "type": "scatter",
         "x": [
          50,
          50,
          50,
          50,
          50,
          50
         ],
         "xaxis": "x",
         "y": [
          1.0548461381938943,
          1.0548461381938943,
          1.0548461381938943,
          1.0548461381938943,
          1.0548461381938943,
          1.0548461381938943
         ],
         "yaxis": "y"
        },
        {
         "customdata": [
          [
           "odos",
           "2025-08-07T18:46:44.314680+00:00",
           "Odos"
          ],
          [
           "odos",
           "2025-08-07T18:47:20.570160+00:00",
           "Odos"
          ],
          [
           "odos",
           "2025-08-07T18:47:58.303515+00:00",
           "Odos"
          ],
          [
           "tokemak",
           "2025-08-07T18:46:39.840565+00:00",
           "Odos"
          ],
          [
           "tokemak",
           "2025-08-07T18:47:17.277765+00:00",
           "Odos"
          ],
          [
           "tokemak",
           "2025-08-07T18:47:55.944383+00:00",
           "Odos"
          ]
         ],
         "hovertemplate": "token_in_symbol=pxETH<br>scaled_amount_in=%{x}<br>effective_price=%{y}<br>api=%{customdata[0]}<br>datetime_received=%{customdata[1]}<br>aggregator_name=%{customdata[2]}<extra></extra>",
         "legendgroup": "pxETH",
         "marker": {
          "color": "#FFA15A",
          "symbol": "circle"
         },
         "mode": "markers",
         "name": "pxETH",
         "orientation": "v",
         "showlegend": true,
         "type": "scatter",
         "x": [
          20,
          20,
          20,
          20,
          20,
          20
         ],
         "xaxis": "x",
         "y": [
          0.9962805306587494,
          0.9962805306587779,
          0.9962805306587598,
          0.9963738897899246,
          0.9963738897899223,
          0.9963738897899115
         ],
         "yaxis": "y"
        }
       ],
       "layout": {
        "legend": {
         "title": {
          "text": "token_in_symbol"
         },
         "tracegroupgap": 0
        },
        "margin": {
         "t": 60
        },
        "template": {
         "data": {
          "bar": [
           {
            "error_x": {
             "color": "#2a3f5f"
            },
            "error_y": {
             "color": "#2a3f5f"
            },
            "marker": {
             "line": {
              "color": "#E5ECF6",
              "width": 0.5
             },
             "pattern": {
              "fillmode": "overlay",
              "size": 10,
              "solidity": 0.2
             }
            },
            "type": "bar"
           }
          ],
          "barpolar": [
           {
            "marker": {
             "line": {
              "color": "#E5ECF6",
              "width": 0.5
             },
             "pattern": {
              "fillmode": "overlay",
              "size": 10,
              "solidity": 0.2
             }
            },
            "type": "barpolar"
           }
          ],
          "carpet": [
           {
            "aaxis": {
             "endlinecolor": "#2a3f5f",
             "gridcolor": "white",
             "linecolor": "white",
             "minorgridcolor": "white",
             "startlinecolor": "#2a3f5f"
            },
            "baxis": {
             "endlinecolor": "#2a3f5f",
             "gridcolor": "white",
             "linecolor": "white",
             "minorgridcolor": "white",
             "startlinecolor": "#2a3f5f"
            },
            "type": "carpet"
           }
          ],
          "choropleth": [
           {
            "colorbar": {
             "outlinewidth": 0,
             "ticks": ""
            },
            "type": "choropleth"
           }
          ],
          "contour": [
           {
            "colorbar": {
             "outlinewidth": 0,
             "ticks": ""
            },
            "colorscale": [
             [
              0,
              "#0d0887"
             ],
             [
              0.1111111111111111,
              "#46039f"
             ],
             [
              0.2222222222222222,
              "#7201a8"
             ],
             [
              0.3333333333333333,
              "#9c179e"
             ],
             [
              0.4444444444444444,
              "#bd3786"
             ],
             [
              0.5555555555555556,
              "#d8576b"
             ],
             [
              0.6666666666666666,
              "#ed7953"
             ],
             [
              0.7777777777777778,
              "#fb9f3a"
             ],
             [
              0.8888888888888888,
              "#fdca26"
             ],
             [
              1,
              "#f0f921"
             ]
            ],
            "type": "contour"
           }
          ],
          "contourcarpet": [
           {
            "colorbar": {
             "outlinewidth": 0,
             "ticks": ""
            },
            "type": "contourcarpet"
           }
          ],
          "heatmap": [
           {
            "colorbar": {
             "outlinewidth": 0,
             "ticks": ""
            },
            "colorscale": [
             [
              0,
              "#0d0887"
             ],
             [
              0.1111111111111111,
              "#46039f"
             ],
             [
              0.2222222222222222,
              "#7201a8"
             ],
             [
              0.3333333333333333,
              "#9c179e"
             ],
             [
              0.4444444444444444,
              "#bd3786"
             ],
             [
              0.5555555555555556,
              "#d8576b"
             ],
             [
              0.6666666666666666,
              "#ed7953"
             ],
             [
              0.7777777777777778,
              "#fb9f3a"
             ],
             [
              0.8888888888888888,
              "#fdca26"
             ],
             [
              1,
              "#f0f921"
             ]
            ],
            "type": "heatmap"
           }
          ],
          "heatmapgl": [
           {
            "colorbar": {
             "outlinewidth": 0,
             "ticks": ""
            },
            "colorscale": [
             [
              0,
              "#0d0887"
             ],
             [
              0.1111111111111111,
              "#46039f"
             ],
             [
              0.2222222222222222,
              "#7201a8"
             ],
             [
              0.3333333333333333,
              "#9c179e"
             ],
             [
              0.4444444444444444,
              "#bd3786"
             ],
             [
              0.5555555555555556,
              "#d8576b"
             ],
             [
              0.6666666666666666,
              "#ed7953"
             ],
             [
              0.7777777777777778,
              "#fb9f3a"
             ],
             [
              0.8888888888888888,
              "#fdca26"
             ],
             [
              1,
              "#f0f921"
             ]
            ],
            "type": "heatmapgl"
           }
          ],
          "histogram": [
           {
            "marker": {
             "pattern": {
              "fillmode": "overlay",
              "size": 10,
              "solidity": 0.2
             }
            },
            "type": "histogram"
           }
          ],
          "histogram2d": [
           {
            "colorbar": {
             "outlinewidth": 0,
             "ticks": ""
            },
            "colorscale": [
             [
              0,
              "#0d0887"
             ],
             [
              0.1111111111111111,
              "#46039f"
             ],
             [
              0.2222222222222222,
              "#7201a8"
             ],
             [
              0.3333333333333333,
              "#9c179e"
             ],
             [
              0.4444444444444444,
              "#bd3786"
             ],
             [
              0.5555555555555556,
              "#d8576b"
             ],
             [
              0.6666666666666666,
              "#ed7953"
             ],
             [
              0.7777777777777778,
              "#fb9f3a"
             ],
             [
              0.8888888888888888,
              "#fdca26"
             ],
             [
              1,
              "#f0f921"
             ]
            ],
            "type": "histogram2d"
           }
          ],
          "histogram2dcontour": [
           {
            "colorbar": {
             "outlinewidth": 0,
             "ticks": ""
            },
            "colorscale": [
             [
              0,
              "#0d0887"
             ],
             [
              0.1111111111111111,
              "#46039f"
             ],
             [
              0.2222222222222222,
              "#7201a8"
             ],
             [
              0.3333333333333333,
              "#9c179e"
             ],
             [
              0.4444444444444444,
              "#bd3786"
             ],
             [
              0.5555555555555556,
              "#d8576b"
             ],
             [
              0.6666666666666666,
              "#ed7953"
             ],
             [
              0.7777777777777778,
              "#fb9f3a"
             ],
             [
              0.8888888888888888,
              "#fdca26"
             ],
             [
              1,
              "#f0f921"
             ]
            ],
            "type": "histogram2dcontour"
           }
          ],
          "mesh3d": [
           {
            "colorbar": {
             "outlinewidth": 0,
             "ticks": ""
            },
            "type": "mesh3d"
           }
          ],
          "parcoords": [
           {
            "line": {
             "colorbar": {
              "outlinewidth": 0,
              "ticks": ""
             }
            },
            "type": "parcoords"
           }
          ],
          "pie": [
           {
            "automargin": true,
            "type": "pie"
           }
          ],
          "scatter": [
           {
            "fillpattern": {
             "fillmode": "overlay",
             "size": 10,
             "solidity": 0.2
            },
            "type": "scatter"
           }
          ],
          "scatter3d": [
           {
            "line": {
             "colorbar": {
              "outlinewidth": 0,
              "ticks": ""
             }
            },
            "marker": {
             "colorbar": {
              "outlinewidth": 0,
              "ticks": ""
             }
            },
            "type": "scatter3d"
           }
          ],
          "scattercarpet": [
           {
            "marker": {
             "colorbar": {
              "outlinewidth": 0,
              "ticks": ""
             }
            },
            "type": "scattercarpet"
           }
          ],
          "scattergeo": [
           {
            "marker": {
             "colorbar": {
              "outlinewidth": 0,
              "ticks": ""
             }
            },
            "type": "scattergeo"
           }
          ],
          "scattergl": [
           {
            "marker": {
             "colorbar": {
              "outlinewidth": 0,
              "ticks": ""
             }
            },
            "type": "scattergl"
           }
          ],
          "scattermapbox": [
           {
            "marker": {
             "colorbar": {
              "outlinewidth": 0,
              "ticks": ""
             }
            },
            "type": "scattermapbox"
           }
          ],
          "scatterpolar": [
           {
            "marker": {
             "colorbar": {
              "outlinewidth": 0,
              "ticks": ""
             }
            },
            "type": "scatterpolar"
           }
          ],
          "scatterpolargl": [
           {
            "marker": {
             "colorbar": {
              "outlinewidth": 0,
              "ticks": ""
             }
            },
            "type": "scatterpolargl"
           }
          ],
          "scatterternary": [
           {
            "marker": {
             "colorbar": {
              "outlinewidth": 0,
              "ticks": ""
             }
            },
            "type": "scatterternary"
           }
          ],
          "surface": [
           {
            "colorbar": {
             "outlinewidth": 0,
             "ticks": ""
            },
            "colorscale": [
             [
              0,
              "#0d0887"
             ],
             [
              0.1111111111111111,
              "#46039f"
             ],
             [
              0.2222222222222222,
              "#7201a8"
             ],
             [
              0.3333333333333333,
              "#9c179e"
             ],
             [
              0.4444444444444444,
              "#bd3786"
             ],
             [
              0.5555555555555556,
              "#d8576b"
             ],
             [
              0.6666666666666666,
              "#ed7953"
             ],
             [
              0.7777777777777778,
              "#fb9f3a"
             ],
             [
              0.8888888888888888,
              "#fdca26"
             ],
             [
              1,
              "#f0f921"
             ]
            ],
            "type": "surface"
           }
          ],
          "table": [
           {
            "cells": {
             "fill": {
              "color": "#EBF0F8"
             },
             "line": {
              "color": "white"
             }
            },
            "header": {
             "fill": {
              "color": "#C8D4E3"
             },
             "line": {
              "color": "white"
             }
            },
            "type": "table"
           }
          ]
         },
         "layout": {
          "annotationdefaults": {
           "arrowcolor": "#2a3f5f",
           "arrowhead": 0,
           "arrowwidth": 1
          },
          "autotypenumbers": "strict",
          "coloraxis": {
           "colorbar": {
            "outlinewidth": 0,
            "ticks": ""
           }
          },
          "colorscale": {
           "diverging": [
            [
             0,
             "#8e0152"
            ],
            [
             0.1,
             "#c51b7d"
            ],
            [
             0.2,
             "#de77ae"
            ],
            [
             0.3,
             "#f1b6da"
            ],
            [
             0.4,
             "#fde0ef"
            ],
            [
             0.5,
             "#f7f7f7"
            ],
            [
             0.6,
             "#e6f5d0"
            ],
            [
             0.7,
             "#b8e186"
            ],
            [
             0.8,
             "#7fbc41"
            ],
            [
             0.9,
             "#4d9221"
            ],
            [
             1,
             "#276419"
            ]
           ],
           "sequential": [
            [
             0,
             "#0d0887"
            ],
            [
             0.1111111111111111,
             "#46039f"
            ],
            [
             0.2222222222222222,
             "#7201a8"
            ],
            [
             0.3333333333333333,
             "#9c179e"
            ],
            [
             0.4444444444444444,
             "#bd3786"
            ],
            [
             0.5555555555555556,
             "#d8576b"
            ],
            [
             0.6666666666666666,
             "#ed7953"
            ],
            [
             0.7777777777777778,
             "#fb9f3a"
            ],
            [
             0.8888888888888888,
             "#fdca26"
            ],
            [
             1,
             "#f0f921"
            ]
           ],
           "sequentialminus": [
            [
             0,
             "#0d0887"
            ],
            [
             0.1111111111111111,
             "#46039f"
            ],
            [
             0.2222222222222222,
             "#7201a8"
            ],
            [
             0.3333333333333333,
             "#9c179e"
            ],
            [
             0.4444444444444444,
             "#bd3786"
            ],
            [
             0.5555555555555556,
             "#d8576b"
            ],
            [
             0.6666666666666666,
             "#ed7953"
            ],
            [
             0.7777777777777778,
             "#fb9f3a"
            ],
            [
             0.8888888888888888,
             "#fdca26"
            ],
            [
             1,
             "#f0f921"
            ]
           ]
          },
          "colorway": [
           "#636efa",
           "#EF553B",
           "#00cc96",
           "#ab63fa",
           "#FFA15A",
           "#19d3f3",
           "#FF6692",
           "#B6E880",
           "#FF97FF",
           "#FECB52"
          ],
          "font": {
           "color": "#2a3f5f"
          },
          "geo": {
           "bgcolor": "white",
           "lakecolor": "white",
           "landcolor": "#E5ECF6",
           "showlakes": true,
           "showland": true,
           "subunitcolor": "white"
          },
          "hoverlabel": {
           "align": "left"
          },
          "hovermode": "closest",
          "mapbox": {
           "style": "light"
          },
          "paper_bgcolor": "white",
          "plot_bgcolor": "#E5ECF6",
          "polar": {
           "angularaxis": {
            "gridcolor": "white",
            "linecolor": "white",
            "ticks": ""
           },
           "bgcolor": "#E5ECF6",
           "radialaxis": {
            "gridcolor": "white",
            "linecolor": "white",
            "ticks": ""
           }
          },
          "scene": {
           "xaxis": {
            "backgroundcolor": "#E5ECF6",
            "gridcolor": "white",
            "gridwidth": 2,
            "linecolor": "white",
            "showbackground": true,
            "ticks": "",
            "zerolinecolor": "white"
           },
           "yaxis": {
            "backgroundcolor": "#E5ECF6",
            "gridcolor": "white",
            "gridwidth": 2,
            "linecolor": "white",
            "showbackground": true,
            "ticks": "",
            "zerolinecolor": "white"
           },
           "zaxis": {
            "backgroundcolor": "#E5ECF6",
            "gridcolor": "white",
            "gridwidth": 2,
            "linecolor": "white",
            "showbackground": true,
            "ticks": "",
            "zerolinecolor": "white"
           }
          },
          "shapedefaults": {
           "line": {
            "color": "#2a3f5f"
           }
          },
          "ternary": {
           "aaxis": {
            "gridcolor": "white",
            "linecolor": "white",
            "ticks": ""
           },
           "baxis": {
            "gridcolor": "white",
            "linecolor": "white",
            "ticks": ""
           },
           "bgcolor": "#E5ECF6",
           "caxis": {
            "gridcolor": "white",
            "linecolor": "white",
            "ticks": ""
           }
          },
          "title": {
           "x": 0.05
          },
          "xaxis": {
           "automargin": true,
           "gridcolor": "white",
           "linecolor": "white",
           "ticks": "",
           "title": {
            "standoff": 15
           },
           "zerolinecolor": "white",
           "zerolinewidth": 2
          },
          "yaxis": {
           "automargin": true,
           "gridcolor": "white",
           "linecolor": "white",
           "ticks": "",
           "title": {
            "standoff": 15
           },
           "zerolinecolor": "white",
           "zerolinewidth": 2
          }
         }
        },
        "xaxis": {
         "anchor": "y",
         "domain": [
          0,
          1
         ],
         "title": {
          "text": "scaled_amount_in"
         }
        },
        "yaxis": {
         "anchor": "x",
         "domain": [
          0,
          1
         ],
         "title": {
          "text": "effective_price"
         }
        }
       }
      }
     },
     "metadata": {},
     "output_type": "display_data"
    }
   ],
   "source": [
    "import plotly.express as px\n",
    "import plotly.io as pio\n",
    "\n",
    "pio.templates.default = None\n",
    "\n",
    "px.scatter(\n",
    "    df,\n",
    "    x=\"scaled_amount_in\",\n",
    "    y=\"effective_price\",\n",
    "    color=\"token_in_symbol\",\n",
    "    hover_data=[\"api\", \"datetime_received\", \"aggregator_name\"],\n",
    ")"
   ]
  }
 ],
 "metadata": {
  "kernelspec": {
   "display_name": "mainnet-launch-py3.10",
   "language": "python",
   "name": "python3"
  },
  "language_info": {
   "codemirror_mode": {
    "name": "ipython",
    "version": 3
   },
   "file_extension": ".py",
   "mimetype": "text/x-python",
   "name": "python",
   "nbconvert_exporter": "python",
   "pygments_lexer": "ipython3",
   "version": "3.10.14"
  }
 },
 "nbformat": 4,
 "nbformat_minor": 2
}
