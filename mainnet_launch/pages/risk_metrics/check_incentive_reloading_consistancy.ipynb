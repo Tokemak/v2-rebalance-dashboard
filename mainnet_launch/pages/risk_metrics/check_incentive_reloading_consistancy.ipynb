{
 "cells": [
  {
   "cell_type": "code",
   "execution_count": 29,
   "metadata": {},
   "outputs": [],
   "source": [
    "from mainnet_launch.constants import *\n",
    "from mainnet_launch.data_fetching.get_state_by_block import get_raw_state_by_blocks\n",
    "import pandas as pd\n",
    "from mainnet_launch.data_fetching.get_events import fetch_events, get_each_event_in_contract\n",
    "import plotly.express as px\n",
    "from mainnet_launch.abis import BALANCER_INCENTIVES_GAUGE_ABI, CURVE_INCENTIVES_GAUGE_ABI, ERC_20_ABI\n",
    "\n",
    "pool = \"0x88794C65550DeB6b4087B7552eCf295113794410\"\n",
    "incentives_gauge = \"0xdee29b7b6dF3576280bFBbC088ee9eBAA767C0Bd\"  # balancer\n",
    "\n",
    "contract = ETH_CHAIN.client.eth.contract(address=incentives_gauge, abi=CURVE_INCENTIVES_GAUGE_ABI)\n",
    "# events = get_each_event_in_contract(contract, ETH_CHAIN, start_block=ETH_CHAIN.block_autopool_first_deployed, end_block=ETH_CHAIN.get_block_near_top())"
   ]
  },
  {
   "cell_type": "code",
   "execution_count": 40,
   "metadata": {},
   "outputs": [
    {
     "name": "stdout",
     "output_type": "stream",
     "text": [
      "Fetched 11 logs for <class 'web3._utils.datatypes.Transfer'> from 20,722,908 to 23,299,535 (2,576,628 blocks)\n"
     ]
    }
   ],
   "source": [
    "dai = \"0x6B175474E89094C44Da98b954EedeAC495271d0F\"\n",
    "dai_contract = ETH_CHAIN.client.eth.contract(address=dai, abi=ERC_20_ABI)\n",
    "dai_to_incentives_gauge = fetch_events(\n",
    "    dai_contract.events.Transfer,\n",
    "    ETH_CHAIN,\n",
    "    start_block=ETH_CHAIN.block_autopool_first_deployed,\n",
    "    end_block=ETH_CHAIN.get_block_near_top(),\n",
    "    argument_filters={\"to\": incentives_gauge},\n",
    ")"
   ]
  },
  {
   "cell_type": "code",
   "execution_count": null,
   "metadata": {},
   "outputs": [
    {
     "data": {
      "application/vnd.microsoft.datawrangler.viewer.v0+json": {
       "columns": [
        {
         "name": "index",
         "rawType": "int64",
         "type": "integer"
        },
        {
         "name": "event",
         "rawType": "object",
         "type": "string"
        },
        {
         "name": "block",
         "rawType": "int64",
         "type": "integer"
        },
        {
         "name": "transactionIndex",
         "rawType": "int64",
         "type": "integer"
        },
        {
         "name": "log_index",
         "rawType": "int64",
         "type": "integer"
        },
        {
         "name": "hash",
         "rawType": "object",
         "type": "string"
        },
        {
         "name": "from",
         "rawType": "object",
         "type": "string"
        },
        {
         "name": "to",
         "rawType": "object",
         "type": "string"
        },
        {
         "name": "value",
         "rawType": "object",
         "type": "unknown"
        },
        {
         "name": "balGauge_rewardPerTokenStored",
         "rawType": "object",
         "type": "unknown"
        },
        {
         "name": "dai_amount",
         "rawType": "float64",
         "type": "float"
        }
       ],
       "ref": "87e2b724-ec60-46d1-87b5-72fcd6bf9bb4",
       "rows": [
        [
         "0",
         "Transfer",
         "22738686",
         "15",
         "58",
         "0xd2c0bcb5cd36c677eb519c5384811fe882d51bfd741feabb1df156b4be7bcf45",
         "0x7f6494D4fBEA1c06daC2250A3FCa81003bF8D20C",
         "0xdee29b7b6dF3576280bFBbC088ee9eBAA767C0Bd",
         "7000000000000000000000",
         "54672987900060315648",
         "7000.0"
        ],
        [
         "1",
         "Transfer",
         "22795386",
         "47",
         "265",
         "0xdd2f399212e38bbab7c34802b63d13f94895fc4c1b16171bda484384ea1f070d",
         "0x7f6494D4fBEA1c06daC2250A3FCa81003bF8D20C",
         "0xdee29b7b6dF3576280bFBbC088ee9eBAA767C0Bd",
         "7000000000000000000000",
         "54672987900060315648",
         "7000.0"
        ],
        [
         "2",
         "Transfer",
         "22836262",
         "338",
         "567",
         "0xe4723a36d4aac4ae6db3757ed02a84466214ea7e51321ae78a878cc57494399f",
         "0x6c214A193F921E9b7D52aA7387Fa8882Ee50DA0f",
         "0xdee29b7b6dF3576280bFBbC088ee9eBAA767C0Bd",
         "9100000000000000",
         "54672987900060315648",
         "0.0091"
        ],
        [
         "3",
         "Transfer",
         "22848477",
         "69",
         "200",
         "0x25a1a5e209035e564b991d63aa133c254c7cc69df5c4de7980c237138e35b9fd",
         "0x7f6494D4fBEA1c06daC2250A3FCa81003bF8D20C",
         "0xdee29b7b6dF3576280bFBbC088ee9eBAA767C0Bd",
         "7000000000000000000000",
         "54672987900060315648",
         "7000.0"
        ],
        [
         "4",
         "Transfer",
         "22917781",
         "108",
         "386",
         "0xa6171e003066230d007083289b9bf0ff3fc13a4293bcf404ad4e4309856b70b7",
         "0x7f6494D4fBEA1c06daC2250A3FCa81003bF8D20C",
         "0xdee29b7b6dF3576280bFBbC088ee9eBAA767C0Bd",
         "7000000000000000000000",
         "54672987900060315648",
         "7000.0"
        ],
        [
         "5",
         "Transfer",
         "22966977",
         "89",
         "368",
         "0x65619f609671d23de9d568f868f40e68386111cb8ce2b6099b245387e2a4b9e8",
         "0x7f6494D4fBEA1c06daC2250A3FCa81003bF8D20C",
         "0xdee29b7b6dF3576280bFBbC088ee9eBAA767C0Bd",
         "7000000000000000000000",
         "54672987900060315648",
         "7000.0"
        ],
        [
         "6",
         "Transfer",
         "23019908",
         "331",
         "713",
         "0x9892b6123f329c5d8dd9dc6736bc8ce23066b8ac42dc4290757db8aa3ae71d1f",
         "0x7f6494D4fBEA1c06daC2250A3FCa81003bF8D20C",
         "0xdee29b7b6dF3576280bFBbC088ee9eBAA767C0Bd",
         "7000000000000000000000",
         "54672987900060315648",
         "7000.0"
        ],
        [
         "7",
         "Transfer",
         "23077694",
         "123",
         "525",
         "0xc576f6228fabf6da5549cd77d4ed11867cb243e4290039cddf033dcd438498ee",
         "0x7f6494D4fBEA1c06daC2250A3FCa81003bF8D20C",
         "0xdee29b7b6dF3576280bFBbC088ee9eBAA767C0Bd",
         "5000000000000000000000",
         "54672987900060315648",
         "5000.0"
        ],
        [
         "8",
         "Transfer",
         "23125744",
         "125",
         "425",
         "0xe53494e83ace608890d73598eae7acfcd611545127897d200274d915c5430ff3",
         "0x7f6494D4fBEA1c06daC2250A3FCa81003bF8D20C",
         "0xdee29b7b6dF3576280bFBbC088ee9eBAA767C0Bd",
         "5000000000000000000000",
         "54672987900060315648",
         "5000.0"
        ],
        [
         "9",
         "Transfer",
         "23177194",
         "65",
         "505",
         "0xb6a0246a915ccbcea776ef8e912fb84d0f0ad5040572318c3ed430523517c9d7",
         "0x7f6494D4fBEA1c06daC2250A3FCa81003bF8D20C",
         "0xdee29b7b6dF3576280bFBbC088ee9eBAA767C0Bd",
         "4880000000000000000000",
         "54672987900060315648",
         "4880.0"
        ],
        [
         "10",
         "Transfer",
         "23251934",
         "187",
         "466",
         "0x5cf5265b88d0d864b10687568f2f9a75ef55546e91ff723146cb13e6bcc2f70e",
         "0x7f6494D4fBEA1c06daC2250A3FCa81003bF8D20C",
         "0xdee29b7b6dF3576280bFBbC088ee9eBAA767C0Bd",
         "4880000000000000000000",
         "54672987900060315648",
         "4880.0"
        ]
       ],
       "shape": {
        "columns": 10,
        "rows": 11
       }
      },
      "text/html": [
       "<div>\n",
       "<style scoped>\n",
       "    .dataframe tbody tr th:only-of-type {\n",
       "        vertical-align: middle;\n",
       "    }\n",
       "\n",
       "    .dataframe tbody tr th {\n",
       "        vertical-align: top;\n",
       "    }\n",
       "\n",
       "    .dataframe thead th {\n",
       "        text-align: right;\n",
       "    }\n",
       "</style>\n",
       "<table border=\"1\" class=\"dataframe\">\n",
       "  <thead>\n",
       "    <tr style=\"text-align: right;\">\n",
       "      <th></th>\n",
       "      <th>event</th>\n",
       "      <th>block</th>\n",
       "      <th>transactionIndex</th>\n",
       "      <th>log_index</th>\n",
       "      <th>hash</th>\n",
       "      <th>from</th>\n",
       "      <th>to</th>\n",
       "      <th>value</th>\n",
       "      <th>balGauge_rewardPerTokenStored</th>\n",
       "      <th>dai_amount</th>\n",
       "    </tr>\n",
       "  </thead>\n",
       "  <tbody>\n",
       "    <tr>\n",
       "      <th>0</th>\n",
       "      <td>Transfer</td>\n",
       "      <td>22738686</td>\n",
       "      <td>15</td>\n",
       "      <td>58</td>\n",
       "      <td>0xd2c0bcb5cd36c677eb519c5384811fe882d51bfd741f...</td>\n",
       "      <td>0x7f6494D4fBEA1c06daC2250A3FCa81003bF8D20C</td>\n",
       "      <td>0xdee29b7b6dF3576280bFBbC088ee9eBAA767C0Bd</td>\n",
       "      <td>7000000000000000000000</td>\n",
       "      <td>54672987900060315648</td>\n",
       "      <td>7000.0000</td>\n",
       "    </tr>\n",
       "    <tr>\n",
       "      <th>1</th>\n",
       "      <td>Transfer</td>\n",
       "      <td>22795386</td>\n",
       "      <td>47</td>\n",
       "      <td>265</td>\n",
       "      <td>0xdd2f399212e38bbab7c34802b63d13f94895fc4c1b16...</td>\n",
       "      <td>0x7f6494D4fBEA1c06daC2250A3FCa81003bF8D20C</td>\n",
       "      <td>0xdee29b7b6dF3576280bFBbC088ee9eBAA767C0Bd</td>\n",
       "      <td>7000000000000000000000</td>\n",
       "      <td>54672987900060315648</td>\n",
       "      <td>7000.0000</td>\n",
       "    </tr>\n",
       "    <tr>\n",
       "      <th>2</th>\n",
       "      <td>Transfer</td>\n",
       "      <td>22836262</td>\n",
       "      <td>338</td>\n",
       "      <td>567</td>\n",
       "      <td>0xe4723a36d4aac4ae6db3757ed02a84466214ea7e5132...</td>\n",
       "      <td>0x6c214A193F921E9b7D52aA7387Fa8882Ee50DA0f</td>\n",
       "      <td>0xdee29b7b6dF3576280bFBbC088ee9eBAA767C0Bd</td>\n",
       "      <td>9100000000000000</td>\n",
       "      <td>54672987900060315648</td>\n",
       "      <td>0.0091</td>\n",
       "    </tr>\n",
       "    <tr>\n",
       "      <th>3</th>\n",
       "      <td>Transfer</td>\n",
       "      <td>22848477</td>\n",
       "      <td>69</td>\n",
       "      <td>200</td>\n",
       "      <td>0x25a1a5e209035e564b991d63aa133c254c7cc69df5c4...</td>\n",
       "      <td>0x7f6494D4fBEA1c06daC2250A3FCa81003bF8D20C</td>\n",
       "      <td>0xdee29b7b6dF3576280bFBbC088ee9eBAA767C0Bd</td>\n",
       "      <td>7000000000000000000000</td>\n",
       "      <td>54672987900060315648</td>\n",
       "      <td>7000.0000</td>\n",
       "    </tr>\n",
       "    <tr>\n",
       "      <th>4</th>\n",
       "      <td>Transfer</td>\n",
       "      <td>22917781</td>\n",
       "      <td>108</td>\n",
       "      <td>386</td>\n",
       "      <td>0xa6171e003066230d007083289b9bf0ff3fc13a4293bc...</td>\n",
       "      <td>0x7f6494D4fBEA1c06daC2250A3FCa81003bF8D20C</td>\n",
       "      <td>0xdee29b7b6dF3576280bFBbC088ee9eBAA767C0Bd</td>\n",
       "      <td>7000000000000000000000</td>\n",
       "      <td>54672987900060315648</td>\n",
       "      <td>7000.0000</td>\n",
       "    </tr>\n",
       "    <tr>\n",
       "      <th>5</th>\n",
       "      <td>Transfer</td>\n",
       "      <td>22966977</td>\n",
       "      <td>89</td>\n",
       "      <td>368</td>\n",
       "      <td>0x65619f609671d23de9d568f868f40e68386111cb8ce2...</td>\n",
       "      <td>0x7f6494D4fBEA1c06daC2250A3FCa81003bF8D20C</td>\n",
       "      <td>0xdee29b7b6dF3576280bFBbC088ee9eBAA767C0Bd</td>\n",
       "      <td>7000000000000000000000</td>\n",
       "      <td>54672987900060315648</td>\n",
       "      <td>7000.0000</td>\n",
       "    </tr>\n",
       "    <tr>\n",
       "      <th>6</th>\n",
       "      <td>Transfer</td>\n",
       "      <td>23019908</td>\n",
       "      <td>331</td>\n",
       "      <td>713</td>\n",
       "      <td>0x9892b6123f329c5d8dd9dc6736bc8ce23066b8ac42dc...</td>\n",
       "      <td>0x7f6494D4fBEA1c06daC2250A3FCa81003bF8D20C</td>\n",
       "      <td>0xdee29b7b6dF3576280bFBbC088ee9eBAA767C0Bd</td>\n",
       "      <td>7000000000000000000000</td>\n",
       "      <td>54672987900060315648</td>\n",
       "      <td>7000.0000</td>\n",
       "    </tr>\n",
       "    <tr>\n",
       "      <th>7</th>\n",
       "      <td>Transfer</td>\n",
       "      <td>23077694</td>\n",
       "      <td>123</td>\n",
       "      <td>525</td>\n",
       "      <td>0xc576f6228fabf6da5549cd77d4ed11867cb243e42900...</td>\n",
       "      <td>0x7f6494D4fBEA1c06daC2250A3FCa81003bF8D20C</td>\n",
       "      <td>0xdee29b7b6dF3576280bFBbC088ee9eBAA767C0Bd</td>\n",
       "      <td>5000000000000000000000</td>\n",
       "      <td>54672987900060315648</td>\n",
       "      <td>5000.0000</td>\n",
       "    </tr>\n",
       "    <tr>\n",
       "      <th>8</th>\n",
       "      <td>Transfer</td>\n",
       "      <td>23125744</td>\n",
       "      <td>125</td>\n",
       "      <td>425</td>\n",
       "      <td>0xe53494e83ace608890d73598eae7acfcd61154512789...</td>\n",
       "      <td>0x7f6494D4fBEA1c06daC2250A3FCa81003bF8D20C</td>\n",
       "      <td>0xdee29b7b6dF3576280bFBbC088ee9eBAA767C0Bd</td>\n",
       "      <td>5000000000000000000000</td>\n",
       "      <td>54672987900060315648</td>\n",
       "      <td>5000.0000</td>\n",
       "    </tr>\n",
       "    <tr>\n",
       "      <th>9</th>\n",
       "      <td>Transfer</td>\n",
       "      <td>23177194</td>\n",
       "      <td>65</td>\n",
       "      <td>505</td>\n",
       "      <td>0xb6a0246a915ccbcea776ef8e912fb84d0f0ad5040572...</td>\n",
       "      <td>0x7f6494D4fBEA1c06daC2250A3FCa81003bF8D20C</td>\n",
       "      <td>0xdee29b7b6dF3576280bFBbC088ee9eBAA767C0Bd</td>\n",
       "      <td>4880000000000000000000</td>\n",
       "      <td>54672987900060315648</td>\n",
       "      <td>4880.0000</td>\n",
       "    </tr>\n",
       "    <tr>\n",
       "      <th>10</th>\n",
       "      <td>Transfer</td>\n",
       "      <td>23251934</td>\n",
       "      <td>187</td>\n",
       "      <td>466</td>\n",
       "      <td>0x5cf5265b88d0d864b10687568f2f9a75ef55546e91ff...</td>\n",
       "      <td>0x7f6494D4fBEA1c06daC2250A3FCa81003bF8D20C</td>\n",
       "      <td>0xdee29b7b6dF3576280bFBbC088ee9eBAA767C0Bd</td>\n",
       "      <td>4880000000000000000000</td>\n",
       "      <td>54672987900060315648</td>\n",
       "      <td>4880.0000</td>\n",
       "    </tr>\n",
       "  </tbody>\n",
       "</table>\n",
       "</div>"
      ],
      "text/plain": [
       "       event     block  transactionIndex  log_index  \\\n",
       "0   Transfer  22738686                15         58   \n",
       "1   Transfer  22795386                47        265   \n",
       "2   Transfer  22836262               338        567   \n",
       "3   Transfer  22848477                69        200   \n",
       "4   Transfer  22917781               108        386   \n",
       "5   Transfer  22966977                89        368   \n",
       "6   Transfer  23019908               331        713   \n",
       "7   Transfer  23077694               123        525   \n",
       "8   Transfer  23125744               125        425   \n",
       "9   Transfer  23177194                65        505   \n",
       "10  Transfer  23251934               187        466   \n",
       "\n",
       "                                                 hash  \\\n",
       "0   0xd2c0bcb5cd36c677eb519c5384811fe882d51bfd741f...   \n",
       "1   0xdd2f399212e38bbab7c34802b63d13f94895fc4c1b16...   \n",
       "2   0xe4723a36d4aac4ae6db3757ed02a84466214ea7e5132...   \n",
       "3   0x25a1a5e209035e564b991d63aa133c254c7cc69df5c4...   \n",
       "4   0xa6171e003066230d007083289b9bf0ff3fc13a4293bc...   \n",
       "5   0x65619f609671d23de9d568f868f40e68386111cb8ce2...   \n",
       "6   0x9892b6123f329c5d8dd9dc6736bc8ce23066b8ac42dc...   \n",
       "7   0xc576f6228fabf6da5549cd77d4ed11867cb243e42900...   \n",
       "8   0xe53494e83ace608890d73598eae7acfcd61154512789...   \n",
       "9   0xb6a0246a915ccbcea776ef8e912fb84d0f0ad5040572...   \n",
       "10  0x5cf5265b88d0d864b10687568f2f9a75ef55546e91ff...   \n",
       "\n",
       "                                          from  \\\n",
       "0   0x7f6494D4fBEA1c06daC2250A3FCa81003bF8D20C   \n",
       "1   0x7f6494D4fBEA1c06daC2250A3FCa81003bF8D20C   \n",
       "2   0x6c214A193F921E9b7D52aA7387Fa8882Ee50DA0f   \n",
       "3   0x7f6494D4fBEA1c06daC2250A3FCa81003bF8D20C   \n",
       "4   0x7f6494D4fBEA1c06daC2250A3FCa81003bF8D20C   \n",
       "5   0x7f6494D4fBEA1c06daC2250A3FCa81003bF8D20C   \n",
       "6   0x7f6494D4fBEA1c06daC2250A3FCa81003bF8D20C   \n",
       "7   0x7f6494D4fBEA1c06daC2250A3FCa81003bF8D20C   \n",
       "8   0x7f6494D4fBEA1c06daC2250A3FCa81003bF8D20C   \n",
       "9   0x7f6494D4fBEA1c06daC2250A3FCa81003bF8D20C   \n",
       "10  0x7f6494D4fBEA1c06daC2250A3FCa81003bF8D20C   \n",
       "\n",
       "                                            to                   value  \\\n",
       "0   0xdee29b7b6dF3576280bFBbC088ee9eBAA767C0Bd  7000000000000000000000   \n",
       "1   0xdee29b7b6dF3576280bFBbC088ee9eBAA767C0Bd  7000000000000000000000   \n",
       "2   0xdee29b7b6dF3576280bFBbC088ee9eBAA767C0Bd        9100000000000000   \n",
       "3   0xdee29b7b6dF3576280bFBbC088ee9eBAA767C0Bd  7000000000000000000000   \n",
       "4   0xdee29b7b6dF3576280bFBbC088ee9eBAA767C0Bd  7000000000000000000000   \n",
       "5   0xdee29b7b6dF3576280bFBbC088ee9eBAA767C0Bd  7000000000000000000000   \n",
       "6   0xdee29b7b6dF3576280bFBbC088ee9eBAA767C0Bd  7000000000000000000000   \n",
       "7   0xdee29b7b6dF3576280bFBbC088ee9eBAA767C0Bd  5000000000000000000000   \n",
       "8   0xdee29b7b6dF3576280bFBbC088ee9eBAA767C0Bd  5000000000000000000000   \n",
       "9   0xdee29b7b6dF3576280bFBbC088ee9eBAA767C0Bd  4880000000000000000000   \n",
       "10  0xdee29b7b6dF3576280bFBbC088ee9eBAA767C0Bd  4880000000000000000000   \n",
       "\n",
       "   balGauge_rewardPerTokenStored  dai_amount  \n",
       "0           54672987900060315648   7000.0000  \n",
       "1           54672987900060315648   7000.0000  \n",
       "2           54672987900060315648      0.0091  \n",
       "3           54672987900060315648   7000.0000  \n",
       "4           54672987900060315648   7000.0000  \n",
       "5           54672987900060315648   7000.0000  \n",
       "6           54672987900060315648   7000.0000  \n",
       "7           54672987900060315648   5000.0000  \n",
       "8           54672987900060315648   5000.0000  \n",
       "9           54672987900060315648   4880.0000  \n",
       "10          54672987900060315648   4880.0000  "
      ]
     },
     "execution_count": 41,
     "metadata": {},
     "output_type": "execute_result"
    }
   ],
   "source": [
    "from mainnet_launch.data_fetching.get_state_by_block import identity_with_bool_success\n",
    "from multicall import Call\n",
    "\n",
    "\n",
    "address = \"0x570eA5C8A528E3495EE9883910012BeD598E8814\"\n",
    "\n",
    "# Create a multicall Call object for rewardPerTokenStored\n",
    "reward_per_token_call = Call(\n",
    "    target=address,\n",
    "    function=\"rewardPerTokenStored()(uint256)\",\n",
    "    returns=[(\"balGauge_rewardPerTokenStored\", identity_with_bool_success)],\n",
    ")\n",
    "\n",
    "# reward per token stored has not changed durunin gthis period\n",
    "\n",
    "df = get_raw_state_by_blocks(\n",
    "    [reward_per_token_call], dai_to_incentives_gauge[\"block\"], ETH_CHAIN, include_block_number=True\n",
    ")\n",
    "dai_to_incentives_gauge = pd.merge(dai_to_incentives_gauge, df, left_on=\"block\", right_on=\"block\", how=\"left\")\n",
    "dai_to_incentives_gauge[\"dai_amount\"] = dai_to_incentives_gauge[\"value\"].apply(lambda x: x / 10**18)\n",
    "dai_to_incentives_gauge"
   ]
  },
  {
   "cell_type": "code",
   "execution_count": null,
   "metadata": {},
   "outputs": [],
   "source": [
    "# Replace '0xYourAddressHere' with the actual address later\n",
    "\n",
    "# Execute the call\n",
    "result = reward_per_token_call()\n",
    "print(result)"
   ]
  },
  {
   "cell_type": "code",
   "execution_count": null,
   "metadata": {},
   "outputs": [
    {
     "ename": "SyntaxError",
     "evalue": "invalid syntax (807235217.py, line 1)",
     "output_type": "error",
     "traceback": [
      "\u001b[0;36m  Cell \u001b[0;32mIn[34], line 1\u001b[0;36m\u001b[0m\n\u001b[0;31m    dai_to_incentives_gauge['delay'] = dai_to_incentives_gauge.index.diff()  pd.Timedelta(days=7)\u001b[0m\n\u001b[0m                                                                             ^\u001b[0m\n\u001b[0;31mSyntaxError\u001b[0m\u001b[0;31m:\u001b[0m invalid syntax\n"
     ]
    }
   ],
   "source": [
    "dai_to_incentives_gauge['delay'] = dai_to_incentives_gauge.index.diff()  pd.Timedelta(days=7)\n",
    "dai_to_incentives_gauge[['delay', 'dai_amount']]\n",
    "\n",
    "dai_to_incentives_gauge['delay']"
   ]
  },
  {
   "cell_type": "code",
   "execution_count": null,
   "metadata": {},
   "outputs": [],
   "source": []
  },
  {
   "cell_type": "code",
   "execution_count": 27,
   "metadata": {},
   "outputs": [
    {
     "data": {
      "application/vnd.plotly.v1+json": {
       "config": {
        "plotlyServerURL": "https://plot.ly"
       },
       "data": [
        {
         "hovertemplate": "delay=%{x}<br>dai_amount=%{y}<extra></extra>",
         "legendgroup": "",
         "marker": {
          "color": "#636efa",
          "symbol": "circle"
         },
         "mode": "markers",
         "name": "",
         "orientation": "v",
         "showlegend": false,
         "type": "scatter",
         "x": [
          null,
          684528000000000,
          493692000000000,
          147432000000000,
          836808000000000,
          593268000000000,
          639324000000000,
          697908000000000,
          580092000000000,
          620388000000000,
          901056000000000
         ],
         "xaxis": "x",
         "y": [
          7000,
          7000,
          0.0091,
          7000,
          7000,
          7000,
          7000,
          5000,
          5000,
          4880,
          4880
         ],
         "yaxis": "y"
        }
       ],
       "layout": {
        "legend": {
         "tracegroupgap": 0
        },
        "template": {
         "data": {
          "bar": [
           {
            "error_x": {
             "color": "#2a3f5f"
            },
            "error_y": {
             "color": "#2a3f5f"
            },
            "marker": {
             "line": {
              "color": "#E5ECF6",
              "width": 0.5
             },
             "pattern": {
              "fillmode": "overlay",
              "size": 10,
              "solidity": 0.2
             }
            },
            "type": "bar"
           }
          ],
          "barpolar": [
           {
            "marker": {
             "line": {
              "color": "#E5ECF6",
              "width": 0.5
             },
             "pattern": {
              "fillmode": "overlay",
              "size": 10,
              "solidity": 0.2
             }
            },
            "type": "barpolar"
           }
          ],
          "carpet": [
           {
            "aaxis": {
             "endlinecolor": "#2a3f5f",
             "gridcolor": "white",
             "linecolor": "white",
             "minorgridcolor": "white",
             "startlinecolor": "#2a3f5f"
            },
            "baxis": {
             "endlinecolor": "#2a3f5f",
             "gridcolor": "white",
             "linecolor": "white",
             "minorgridcolor": "white",
             "startlinecolor": "#2a3f5f"
            },
            "type": "carpet"
           }
          ],
          "choropleth": [
           {
            "colorbar": {
             "outlinewidth": 0,
             "ticks": ""
            },
            "type": "choropleth"
           }
          ],
          "contour": [
           {
            "colorbar": {
             "outlinewidth": 0,
             "ticks": ""
            },
            "colorscale": [
             [
              0,
              "#0d0887"
             ],
             [
              0.1111111111111111,
              "#46039f"
             ],
             [
              0.2222222222222222,
              "#7201a8"
             ],
             [
              0.3333333333333333,
              "#9c179e"
             ],
             [
              0.4444444444444444,
              "#bd3786"
             ],
             [
              0.5555555555555556,
              "#d8576b"
             ],
             [
              0.6666666666666666,
              "#ed7953"
             ],
             [
              0.7777777777777778,
              "#fb9f3a"
             ],
             [
              0.8888888888888888,
              "#fdca26"
             ],
             [
              1,
              "#f0f921"
             ]
            ],
            "type": "contour"
           }
          ],
          "contourcarpet": [
           {
            "colorbar": {
             "outlinewidth": 0,
             "ticks": ""
            },
            "type": "contourcarpet"
           }
          ],
          "heatmap": [
           {
            "colorbar": {
             "outlinewidth": 0,
             "ticks": ""
            },
            "colorscale": [
             [
              0,
              "#0d0887"
             ],
             [
              0.1111111111111111,
              "#46039f"
             ],
             [
              0.2222222222222222,
              "#7201a8"
             ],
             [
              0.3333333333333333,
              "#9c179e"
             ],
             [
              0.4444444444444444,
              "#bd3786"
             ],
             [
              0.5555555555555556,
              "#d8576b"
             ],
             [
              0.6666666666666666,
              "#ed7953"
             ],
             [
              0.7777777777777778,
              "#fb9f3a"
             ],
             [
              0.8888888888888888,
              "#fdca26"
             ],
             [
              1,
              "#f0f921"
             ]
            ],
            "type": "heatmap"
           }
          ],
          "heatmapgl": [
           {
            "colorbar": {
             "outlinewidth": 0,
             "ticks": ""
            },
            "colorscale": [
             [
              0,
              "#0d0887"
             ],
             [
              0.1111111111111111,
              "#46039f"
             ],
             [
              0.2222222222222222,
              "#7201a8"
             ],
             [
              0.3333333333333333,
              "#9c179e"
             ],
             [
              0.4444444444444444,
              "#bd3786"
             ],
             [
              0.5555555555555556,
              "#d8576b"
             ],
             [
              0.6666666666666666,
              "#ed7953"
             ],
             [
              0.7777777777777778,
              "#fb9f3a"
             ],
             [
              0.8888888888888888,
              "#fdca26"
             ],
             [
              1,
              "#f0f921"
             ]
            ],
            "type": "heatmapgl"
           }
          ],
          "histogram": [
           {
            "marker": {
             "pattern": {
              "fillmode": "overlay",
              "size": 10,
              "solidity": 0.2
             }
            },
            "type": "histogram"
           }
          ],
          "histogram2d": [
           {
            "colorbar": {
             "outlinewidth": 0,
             "ticks": ""
            },
            "colorscale": [
             [
              0,
              "#0d0887"
             ],
             [
              0.1111111111111111,
              "#46039f"
             ],
             [
              0.2222222222222222,
              "#7201a8"
             ],
             [
              0.3333333333333333,
              "#9c179e"
             ],
             [
              0.4444444444444444,
              "#bd3786"
             ],
             [
              0.5555555555555556,
              "#d8576b"
             ],
             [
              0.6666666666666666,
              "#ed7953"
             ],
             [
              0.7777777777777778,
              "#fb9f3a"
             ],
             [
              0.8888888888888888,
              "#fdca26"
             ],
             [
              1,
              "#f0f921"
             ]
            ],
            "type": "histogram2d"
           }
          ],
          "histogram2dcontour": [
           {
            "colorbar": {
             "outlinewidth": 0,
             "ticks": ""
            },
            "colorscale": [
             [
              0,
              "#0d0887"
             ],
             [
              0.1111111111111111,
              "#46039f"
             ],
             [
              0.2222222222222222,
              "#7201a8"
             ],
             [
              0.3333333333333333,
              "#9c179e"
             ],
             [
              0.4444444444444444,
              "#bd3786"
             ],
             [
              0.5555555555555556,
              "#d8576b"
             ],
             [
              0.6666666666666666,
              "#ed7953"
             ],
             [
              0.7777777777777778,
              "#fb9f3a"
             ],
             [
              0.8888888888888888,
              "#fdca26"
             ],
             [
              1,
              "#f0f921"
             ]
            ],
            "type": "histogram2dcontour"
           }
          ],
          "mesh3d": [
           {
            "colorbar": {
             "outlinewidth": 0,
             "ticks": ""
            },
            "type": "mesh3d"
           }
          ],
          "parcoords": [
           {
            "line": {
             "colorbar": {
              "outlinewidth": 0,
              "ticks": ""
             }
            },
            "type": "parcoords"
           }
          ],
          "pie": [
           {
            "automargin": true,
            "type": "pie"
           }
          ],
          "scatter": [
           {
            "fillpattern": {
             "fillmode": "overlay",
             "size": 10,
             "solidity": 0.2
            },
            "type": "scatter"
           }
          ],
          "scatter3d": [
           {
            "line": {
             "colorbar": {
              "outlinewidth": 0,
              "ticks": ""
             }
            },
            "marker": {
             "colorbar": {
              "outlinewidth": 0,
              "ticks": ""
             }
            },
            "type": "scatter3d"
           }
          ],
          "scattercarpet": [
           {
            "marker": {
             "colorbar": {
              "outlinewidth": 0,
              "ticks": ""
             }
            },
            "type": "scattercarpet"
           }
          ],
          "scattergeo": [
           {
            "marker": {
             "colorbar": {
              "outlinewidth": 0,
              "ticks": ""
             }
            },
            "type": "scattergeo"
           }
          ],
          "scattergl": [
           {
            "marker": {
             "colorbar": {
              "outlinewidth": 0,
              "ticks": ""
             }
            },
            "type": "scattergl"
           }
          ],
          "scattermapbox": [
           {
            "marker": {
             "colorbar": {
              "outlinewidth": 0,
              "ticks": ""
             }
            },
            "type": "scattermapbox"
           }
          ],
          "scatterpolar": [
           {
            "marker": {
             "colorbar": {
              "outlinewidth": 0,
              "ticks": ""
             }
            },
            "type": "scatterpolar"
           }
          ],
          "scatterpolargl": [
           {
            "marker": {
             "colorbar": {
              "outlinewidth": 0,
              "ticks": ""
             }
            },
            "type": "scatterpolargl"
           }
          ],
          "scatterternary": [
           {
            "marker": {
             "colorbar": {
              "outlinewidth": 0,
              "ticks": ""
             }
            },
            "type": "scatterternary"
           }
          ],
          "surface": [
           {
            "colorbar": {
             "outlinewidth": 0,
             "ticks": ""
            },
            "colorscale": [
             [
              0,
              "#0d0887"
             ],
             [
              0.1111111111111111,
              "#46039f"
             ],
             [
              0.2222222222222222,
              "#7201a8"
             ],
             [
              0.3333333333333333,
              "#9c179e"
             ],
             [
              0.4444444444444444,
              "#bd3786"
             ],
             [
              0.5555555555555556,
              "#d8576b"
             ],
             [
              0.6666666666666666,
              "#ed7953"
             ],
             [
              0.7777777777777778,
              "#fb9f3a"
             ],
             [
              0.8888888888888888,
              "#fdca26"
             ],
             [
              1,
              "#f0f921"
             ]
            ],
            "type": "surface"
           }
          ],
          "table": [
           {
            "cells": {
             "fill": {
              "color": "#EBF0F8"
             },
             "line": {
              "color": "white"
             }
            },
            "header": {
             "fill": {
              "color": "#C8D4E3"
             },
             "line": {
              "color": "white"
             }
            },
            "type": "table"
           }
          ]
         },
         "layout": {
          "annotationdefaults": {
           "arrowcolor": "#2a3f5f",
           "arrowhead": 0,
           "arrowwidth": 1
          },
          "autotypenumbers": "strict",
          "coloraxis": {
           "colorbar": {
            "outlinewidth": 0,
            "ticks": ""
           }
          },
          "colorscale": {
           "diverging": [
            [
             0,
             "#8e0152"
            ],
            [
             0.1,
             "#c51b7d"
            ],
            [
             0.2,
             "#de77ae"
            ],
            [
             0.3,
             "#f1b6da"
            ],
            [
             0.4,
             "#fde0ef"
            ],
            [
             0.5,
             "#f7f7f7"
            ],
            [
             0.6,
             "#e6f5d0"
            ],
            [
             0.7,
             "#b8e186"
            ],
            [
             0.8,
             "#7fbc41"
            ],
            [
             0.9,
             "#4d9221"
            ],
            [
             1,
             "#276419"
            ]
           ],
           "sequential": [
            [
             0,
             "#0d0887"
            ],
            [
             0.1111111111111111,
             "#46039f"
            ],
            [
             0.2222222222222222,
             "#7201a8"
            ],
            [
             0.3333333333333333,
             "#9c179e"
            ],
            [
             0.4444444444444444,
             "#bd3786"
            ],
            [
             0.5555555555555556,
             "#d8576b"
            ],
            [
             0.6666666666666666,
             "#ed7953"
            ],
            [
             0.7777777777777778,
             "#fb9f3a"
            ],
            [
             0.8888888888888888,
             "#fdca26"
            ],
            [
             1,
             "#f0f921"
            ]
           ],
           "sequentialminus": [
            [
             0,
             "#0d0887"
            ],
            [
             0.1111111111111111,
             "#46039f"
            ],
            [
             0.2222222222222222,
             "#7201a8"
            ],
            [
             0.3333333333333333,
             "#9c179e"
            ],
            [
             0.4444444444444444,
             "#bd3786"
            ],
            [
             0.5555555555555556,
             "#d8576b"
            ],
            [
             0.6666666666666666,
             "#ed7953"
            ],
            [
             0.7777777777777778,
             "#fb9f3a"
            ],
            [
             0.8888888888888888,
             "#fdca26"
            ],
            [
             1,
             "#f0f921"
            ]
           ]
          },
          "colorway": [
           "#636efa",
           "#EF553B",
           "#00cc96",
           "#ab63fa",
           "#FFA15A",
           "#19d3f3",
           "#FF6692",
           "#B6E880",
           "#FF97FF",
           "#FECB52"
          ],
          "font": {
           "color": "#2a3f5f"
          },
          "geo": {
           "bgcolor": "white",
           "lakecolor": "white",
           "landcolor": "#E5ECF6",
           "showlakes": true,
           "showland": true,
           "subunitcolor": "white"
          },
          "hoverlabel": {
           "align": "left"
          },
          "hovermode": "closest",
          "mapbox": {
           "style": "light"
          },
          "paper_bgcolor": "white",
          "plot_bgcolor": "#E5ECF6",
          "polar": {
           "angularaxis": {
            "gridcolor": "white",
            "linecolor": "white",
            "ticks": ""
           },
           "bgcolor": "#E5ECF6",
           "radialaxis": {
            "gridcolor": "white",
            "linecolor": "white",
            "ticks": ""
           }
          },
          "scene": {
           "xaxis": {
            "backgroundcolor": "#E5ECF6",
            "gridcolor": "white",
            "gridwidth": 2,
            "linecolor": "white",
            "showbackground": true,
            "ticks": "",
            "zerolinecolor": "white"
           },
           "yaxis": {
            "backgroundcolor": "#E5ECF6",
            "gridcolor": "white",
            "gridwidth": 2,
            "linecolor": "white",
            "showbackground": true,
            "ticks": "",
            "zerolinecolor": "white"
           },
           "zaxis": {
            "backgroundcolor": "#E5ECF6",
            "gridcolor": "white",
            "gridwidth": 2,
            "linecolor": "white",
            "showbackground": true,
            "ticks": "",
            "zerolinecolor": "white"
           }
          },
          "shapedefaults": {
           "line": {
            "color": "#2a3f5f"
           }
          },
          "ternary": {
           "aaxis": {
            "gridcolor": "white",
            "linecolor": "white",
            "ticks": ""
           },
           "baxis": {
            "gridcolor": "white",
            "linecolor": "white",
            "ticks": ""
           },
           "bgcolor": "#E5ECF6",
           "caxis": {
            "gridcolor": "white",
            "linecolor": "white",
            "ticks": ""
           }
          },
          "title": {
           "x": 0.05
          },
          "xaxis": {
           "automargin": true,
           "gridcolor": "white",
           "linecolor": "white",
           "ticks": "",
           "title": {
            "standoff": 15
           },
           "zerolinecolor": "white",
           "zerolinewidth": 2
          },
          "yaxis": {
           "automargin": true,
           "gridcolor": "white",
           "linecolor": "white",
           "ticks": "",
           "title": {
            "standoff": 15
           },
           "zerolinecolor": "white",
           "zerolinewidth": 2
          }
         }
        },
        "title": {
         "text": "DAI sent to Incentives Gauge over time"
        },
        "xaxis": {
         "anchor": "y",
         "domain": [
          0,
          1
         ],
         "title": {
          "text": "delay"
         }
        },
        "yaxis": {
         "anchor": "x",
         "domain": [
          0,
          1
         ],
         "title": {
          "text": "dai_amount"
         }
        }
       }
      }
     },
     "metadata": {},
     "output_type": "display_data"
    }
   ],
   "source": [
    "px.scatter(dai_to_incentives_gauge, x=\"delay\", y=\"dai_amount\", title=\"DAI sent to Incentives Gauge over time\")"
   ]
  },
  {
   "cell_type": "code",
   "execution_count": 19,
   "metadata": {},
   "outputs": [
    {
     "name": "stdout",
     "output_type": "stream",
     "text": [
      "Event: Deposit, Count: 404\n",
      "Event: Withdraw, Count: 322\n",
      "Event: UpdateLiquidityLimit, Count: 1014\n",
      "Event: Transfer, Count: 757\n",
      "Event: Approval, Count: 0\n",
      "Event: RewardDistributorUpdated, Count: 2\n",
      "Event: RelativeWeightCapChanged, Count: 0\n"
     ]
    }
   ],
   "source": [
    "for k, v in events.items():\n",
    "    print(f\"Event: {k}, Count: {len(v)}\")"
   ]
  },
  {
   "cell_type": "code",
   "execution_count": 20,
   "metadata": {},
   "outputs": [
    {
     "data": {
      "application/vnd.microsoft.datawrangler.viewer.v0+json": {
       "columns": [
        {
         "name": "index",
         "rawType": "int64",
         "type": "integer"
        },
        {
         "name": "event",
         "rawType": "object",
         "type": "string"
        },
        {
         "name": "block",
         "rawType": "int64",
         "type": "integer"
        },
        {
         "name": "transactionIndex",
         "rawType": "int64",
         "type": "integer"
        },
        {
         "name": "log_index",
         "rawType": "int64",
         "type": "integer"
        },
        {
         "name": "hash",
         "rawType": "object",
         "type": "string"
        },
        {
         "name": "provider",
         "rawType": "object",
         "type": "string"
        },
        {
         "name": "value",
         "rawType": "object",
         "type": "unknown"
        }
       ],
       "ref": "1b3fa0fe-59bf-478f-9a04-1a5f1bb63240",
       "rows": [
        [
         "0",
         "Deposit",
         "20737384",
         "5",
         "45",
         "0x86b164b1a9473fc56b50fe029f85796b9982ac777e2924ec4c67308d5e424cc5",
         "0xaF52695E1bB01A16D33D7194C28C42b10e0Dbec2",
         "29991887276428326154"
        ],
        [
         "1",
         "Deposit",
         "20737967",
         "10",
         "229",
         "0xdbd90b6cb9228f6af13832b55522d6315a596518865eceb45d152027c3d4a03b",
         "0xaF52695E1bB01A16D33D7194C28C42b10e0Dbec2",
         "600431886940906"
        ],
        [
         "2",
         "Deposit",
         "20760626",
         "77",
         "240",
         "0xc7bfe6cf7b1abb8d9cdd359c3db92f4b13610177ac2f61be1e0d061f878bdbd0",
         "0xaF52695E1bB01A16D33D7194C28C42b10e0Dbec2",
         "62891896521676849696"
        ],
        [
         "3",
         "Deposit",
         "20760733",
         "5",
         "70",
         "0x0f60f6f6be8974d6bb631a03cbab1a9d08b70c9a4bbe53f6382da13cbd70981f",
         "0xaF52695E1bB01A16D33D7194C28C42b10e0Dbec2",
         "5901859280460010"
        ],
        [
         "4",
         "Deposit",
         "20764339",
         "15",
         "94",
         "0xaa7da2d52c5761b757408b63482679e18cad00903b64fab3e372124058e5ff73",
         "0xf08214cbe3527cf4FD65bfcE128e32C6EEdd2174",
         "334762912692507072959"
        ],
        [
         "5",
         "Deposit",
         "20780602",
         "104",
         "301",
         "0x13d14027f21ec1bb835ca77327185630998c6968a5e9a49c74e7e380323e325f",
         "0x3de2616Fd986168D4Ef592ACD95758727B25458b",
         "85294264647323334582"
        ],
        [
         "6",
         "Deposit",
         "20782212",
         "26",
         "173",
         "0x5d645fec9b5395653c1dcb5ad656f9425aaa0dbc3eaccaee45b27e4b4d2e8dfa",
         "0xaF52695E1bB01A16D33D7194C28C42b10e0Dbec2",
         "22191593024257314"
        ],
        [
         "7",
         "Deposit",
         "20792617",
         "0",
         "38",
         "0x9b2037df574ce2588b477e2c3657a26b8fa7350c6506db98aebbfa19e226254e",
         "0xaF52695E1bB01A16D33D7194C28C42b10e0Dbec2",
         "257099931785089233994"
        ],
        [
         "8",
         "Deposit",
         "20796139",
         "16",
         "101",
         "0xeb730b91d92395bb2e7859bd2ba0b18c45740c3a81d6290f35d6b57b66761406",
         "0xaF52695E1bB01A16D33D7194C28C42b10e0Dbec2",
         "161074905717580202695"
        ],
        [
         "9",
         "Deposit",
         "20799652",
         "8",
         "109",
         "0x5f3511e873fedb2a6349aa9f33f674b7f5f717601402ab04d048d7aaa1345462",
         "0xaF52695E1bB01A16D33D7194C28C42b10e0Dbec2",
         "137803436454050253929"
        ],
        [
         "10",
         "Deposit",
         "20801037",
         "12",
         "125",
         "0xdc77e7506697e632d96571dc84914889598f77e13cd0b8979cf0667fbfe83b43",
         "0xaF52695E1bB01A16D33D7194C28C42b10e0Dbec2",
         "99743579138999968"
        ],
        [
         "11",
         "Deposit",
         "20802261",
         "32",
         "143",
         "0x44bba1805644a71f1a9a43260e5f660188fc83b0a0ee14be22cf245cf7871ff9",
         "0xaF52695E1bB01A16D33D7194C28C42b10e0Dbec2",
         "107329425455683431843"
        ],
        [
         "12",
         "Deposit",
         "20803712",
         "16",
         "156",
         "0x3ace1e1dfef12ca066c92d6bb3f996f7e0bf410c0a84fbfa879cd8dd0d7ec0a7",
         "0xaF52695E1bB01A16D33D7194C28C42b10e0Dbec2",
         "42726167057835586"
        ],
        [
         "13",
         "Deposit",
         "20806456",
         "7",
         "73",
         "0x2bbb4a38f14b848a350ba66e4971a57e05b433c86b59d7784e95ec2809dad846",
         "0xaF52695E1bB01A16D33D7194C28C42b10e0Dbec2",
         "92882992123550645446"
        ],
        [
         "14",
         "Deposit",
         "20809355",
         "45",
         "639",
         "0xf2df8cb8a8f00d401236593822e693bedb95761e7117ef2d75b6cc742dba1316",
         "0xaF52695E1bB01A16D33D7194C28C42b10e0Dbec2",
         "75001811367694937160"
        ],
        [
         "15",
         "Deposit",
         "20813145",
         "0",
         "37",
         "0x591d40ac1062fd1df197e5ee6f51e1edc9d59fed95cea1937e8ff910a85133b2",
         "0xaF52695E1bB01A16D33D7194C28C42b10e0Dbec2",
         "44629322095524103254"
        ],
        [
         "16",
         "Deposit",
         "20816050",
         "20",
         "73",
         "0x07714f03f85a47b7e831a98b22264ef647ebe974e50d8a0ecf7934bf73adfa5b",
         "0xaF52695E1bB01A16D33D7194C28C42b10e0Dbec2",
         "99234884684782343275"
        ],
        [
         "17",
         "Deposit",
         "20850522",
         "2",
         "64",
         "0xe75d1f788a6c33fb140cc9c120425ee0e390aab7711475c75f3408a3bdb02551",
         "0xaF52695E1bB01A16D33D7194C28C42b10e0Dbec2",
         "146581002139719558603"
        ],
        [
         "18",
         "Deposit",
         "20853012",
         "4",
         "71",
         "0xa428a6c02ec3069678c5bacebc28a3efb4ebc90d9683f446fe808c2f9b1aef09",
         "0xaF52695E1bB01A16D33D7194C28C42b10e0Dbec2",
         "127892467184952514486"
        ],
        [
         "19",
         "Deposit",
         "20853419",
         "0",
         "37",
         "0x4675f1e0a7d05884ef70dc2b75fe39d09a81cbab0c7bb77017e9d96906947199",
         "0xaF52695E1bB01A16D33D7194C28C42b10e0Dbec2",
         "115466797214578489912"
        ],
        [
         "20",
         "Deposit",
         "20856322",
         "6",
         "66",
         "0xa139c8243422faffea53fe133a844cb3c1377683c014f5037fc1ec0b94bc06d8",
         "0xaF52695E1bB01A16D33D7194C28C42b10e0Dbec2",
         "137998926409300597704"
        ],
        [
         "21",
         "Deposit",
         "20857171",
         "66",
         "245",
         "0x7ed5f44fae455479ea9a721eb0124aeb14ee35f7f99eb4ad77bd4f92cdd90f1a",
         "0xaF52695E1bB01A16D33D7194C28C42b10e0Dbec2",
         "144108398103784137191"
        ],
        [
         "22",
         "Deposit",
         "20859073",
         "1",
         "51",
         "0xe81e03a6fc9908bf2faac54a598ec9058c9137a4fcc0c2358f9430e64513d5dc",
         "0xaF52695E1bB01A16D33D7194C28C42b10e0Dbec2",
         "158183412451516242092"
        ],
        [
         "23",
         "Deposit",
         "20861621",
         "16",
         "54",
         "0x15d1c5ecbc25e7f0f63479ddc3efc88cba098555c1eab91cdc888ecdfe7db287",
         "0xaF52695E1bB01A16D33D7194C28C42b10e0Dbec2",
         "61128008170126372945"
        ],
        [
         "24",
         "Deposit",
         "20863732",
         "57",
         "228",
         "0xed2acea7e432f545192587df919394a676f83a1c757bc143f9ad8e956f5c0124",
         "0xaF52695E1bB01A16D33D7194C28C42b10e0Dbec2",
         "81621872723279496326"
        ],
        [
         "25",
         "Deposit",
         "20864089",
         "59",
         "281",
         "0x5452e1298c19c2027665bb29bda9c8ed7121ae55d9a9a6f54dd33a600d7928a6",
         "0xaF52695E1bB01A16D33D7194C28C42b10e0Dbec2",
         "45970305586205302239"
        ],
        [
         "26",
         "Deposit",
         "20869472",
         "0",
         "37",
         "0xe655fed4a5899f0f4eee98fa59df6f4a0f6483f91516507eee15a16e6aad709e",
         "0xaF52695E1bB01A16D33D7194C28C42b10e0Dbec2",
         "34681369439080659099"
        ],
        [
         "27",
         "Deposit",
         "20877237",
         "1",
         "45",
         "0x0ce8ab41171b2cf144f39b30dc50a3f7f36c0c9540e80f71abcc0f763258641d",
         "0xaF52695E1bB01A16D33D7194C28C42b10e0Dbec2",
         "131678011304238845906"
        ],
        [
         "28",
         "Deposit",
         "20942970",
         "2",
         "42",
         "0x3c29d573b33f4e824f396d7c97134a1e337682e557b86a10eab8e3ab844c2351",
         "0xaF52695E1bB01A16D33D7194C28C42b10e0Dbec2",
         "74404009547803632725"
        ],
        [
         "29",
         "Deposit",
         "20943192",
         "1",
         "94",
         "0x0ea5c0617933b8106186a149f6ec3371d6e001330aba2e6e9a5e899ccc241a8b",
         "0xaF52695E1bB01A16D33D7194C28C42b10e0Dbec2",
         "187647439526474573473"
        ],
        [
         "30",
         "Deposit",
         "20946011",
         "13",
         "129",
         "0xb7b2e63b204413d4b0eb36ecdabb827180885f2deb4bc894eb5801aa815863da",
         "0xaF52695E1bB01A16D33D7194C28C42b10e0Dbec2",
         "7323369554569116232"
        ],
        [
         "31",
         "Deposit",
         "20946961",
         "23",
         "84",
         "0xb675bf098dafac4901b732d0210750a45cb7bb9cc7f836a399d94dd46e2dfe0e",
         "0xaF52695E1bB01A16D33D7194C28C42b10e0Dbec2",
         "40840864340350991588"
        ],
        [
         "32",
         "Deposit",
         "20948054",
         "2",
         "45",
         "0xe79d508285c3d2bb5ea78651f472a8975a96a3f11e0542d70e4f83c992b0c0d1",
         "0xaF52695E1bB01A16D33D7194C28C42b10e0Dbec2",
         "52979472868368740841"
        ],
        [
         "33",
         "Deposit",
         "20952821",
         "7",
         "106",
         "0x1758b7243977e592b6cc4e356b91f46988307fcb4fef42eaf4f1c71a1fcd8f0d",
         "0xaF52695E1bB01A16D33D7194C28C42b10e0Dbec2",
         "26515603341384358056"
        ],
        [
         "34",
         "Deposit",
         "20955482",
         "7",
         "49",
         "0xa373c68aeae50dbbe5bf72c2b4995338807a4934115e7d29cc10f7a1c5a07b16",
         "0xaF52695E1bB01A16D33D7194C28C42b10e0Dbec2",
         "99332911413758204239"
        ],
        [
         "35",
         "Deposit",
         "20963691",
         "3",
         "90",
         "0x238ce3403774319f77b2ec105730cddd7b090b18475548ba45aabf3cbfb5fac4",
         "0xaF52695E1bB01A16D33D7194C28C42b10e0Dbec2",
         "49578045494835872615"
        ],
        [
         "37",
         "Deposit",
         "20966549",
         "83",
         "333",
         "0x862921210d71bb704a2090218715901800e2ed6b6e33573edb042d7c1aac1980",
         "0xaF52695E1bB01A16D33D7194C28C42b10e0Dbec2",
         "1854407153206753975929"
        ],
        [
         "36",
         "Deposit",
         "20966549",
         "83",
         "232",
         "0x862921210d71bb704a2090218715901800e2ed6b6e33573edb042d7c1aac1980",
         "0xaF52695E1bB01A16D33D7194C28C42b10e0Dbec2",
         "796417609396608774119"
        ],
        [
         "38",
         "Deposit",
         "20969495",
         "22",
         "109",
         "0x90c789e5e571fff52324e2199b6a93f38307f6382d8dd54db9a8fae55e28678a",
         "0xaF52695E1bB01A16D33D7194C28C42b10e0Dbec2",
         "115476438466509736351"
        ],
        [
         "39",
         "Deposit",
         "20969794",
         "8",
         "113",
         "0x1af286028b27225bdd09b34c5de6db4b5fe8018950b1fa4c11d80fe2ef664a2c",
         "0xaF52695E1bB01A16D33D7194C28C42b10e0Dbec2",
         "19421336290520650218"
        ],
        [
         "40",
         "Deposit",
         "20972478",
         "105",
         "373",
         "0xb70fbd4c433365d01ebf123c01a1b51ed4b23b685c612a273ca74bbc2635054d",
         "0xaF52695E1bB01A16D33D7194C28C42b10e0Dbec2",
         "71919306215093234860"
        ],
        [
         "41",
         "Deposit",
         "20975159",
         "2",
         "49",
         "0x47390050328b35d90d9aed3a44c8188d75f373d3e23519e45f880689ed09b5b8",
         "0xaF52695E1bB01A16D33D7194C28C42b10e0Dbec2",
         "7143706195827701947"
        ],
        [
         "42",
         "Deposit",
         "20977546",
         "9",
         "71",
         "0x3141e02f26b71b4c5ef44f1a6cd5f36ae78cc07a8b2c6de0dcdcd4e85ff141f7",
         "0xaF52695E1bB01A16D33D7194C28C42b10e0Dbec2",
         "399475007095129919133"
        ],
        [
         "43",
         "Deposit",
         "20979636",
         "4",
         "67",
         "0x6bff175819a4eeab964e67ed0e020a2718fe351760e44ceeb0842bd8fd4d2802",
         "0xaF52695E1bB01A16D33D7194C28C42b10e0Dbec2",
         "55318383604036478495"
        ],
        [
         "44",
         "Deposit",
         "20980238",
         "1",
         "100",
         "0x654ff8ff706f5168b96b36104a01227ba71fc9566ab3c6bfbf127f9b8cb113a1",
         "0xaF52695E1bB01A16D33D7194C28C42b10e0Dbec2",
         "398906914053852457828"
        ],
        [
         "45",
         "Deposit",
         "20982321",
         "1",
         "101",
         "0x84c2012333096aaa75cfa6812909fcc9407e10361441b41f7267d4a18d1488d3",
         "0xaF52695E1bB01A16D33D7194C28C42b10e0Dbec2",
         "140735699116526463337"
        ],
        [
         "46",
         "Deposit",
         "20985615",
         "1",
         "106",
         "0x8094d2b1ab3f9a0966209ce8dcd48ff3d8e1869f73731ffc0696bfaf6dae2cb0",
         "0xaF52695E1bB01A16D33D7194C28C42b10e0Dbec2",
         "399063743066315669660"
        ],
        [
         "47",
         "Deposit",
         "20988292",
         "1",
         "121",
         "0x292ab1a02b8c78ada3db23bdfe4357d3d742e050c0d17ef9e5e0d3c70dc4cd3c",
         "0xaF52695E1bB01A16D33D7194C28C42b10e0Dbec2",
         "398817124188666488926"
        ],
        [
         "48",
         "Deposit",
         "20990379",
         "3",
         "119",
         "0x0046fad64a56c71f898b449064943fd72ccb3cad63fd4eed7004c98cab779070",
         "0xaF52695E1bB01A16D33D7194C28C42b10e0Dbec2",
         "105550169674464309026"
        ],
        [
         "49",
         "Deposit",
         "20993067",
         "0",
         "37",
         "0xb208dfe4b0f54bf3db9a545f2e7f4ba234298410282778c91a0c4cfee0e05b83",
         "0xaF52695E1bB01A16D33D7194C28C42b10e0Dbec2",
         "1845511600363872040"
        ]
       ],
       "shape": {
        "columns": 7,
        "rows": 404
       }
      },
      "text/html": [
       "<div>\n",
       "<style scoped>\n",
       "    .dataframe tbody tr th:only-of-type {\n",
       "        vertical-align: middle;\n",
       "    }\n",
       "\n",
       "    .dataframe tbody tr th {\n",
       "        vertical-align: top;\n",
       "    }\n",
       "\n",
       "    .dataframe thead th {\n",
       "        text-align: right;\n",
       "    }\n",
       "</style>\n",
       "<table border=\"1\" class=\"dataframe\">\n",
       "  <thead>\n",
       "    <tr style=\"text-align: right;\">\n",
       "      <th></th>\n",
       "      <th>event</th>\n",
       "      <th>block</th>\n",
       "      <th>transactionIndex</th>\n",
       "      <th>log_index</th>\n",
       "      <th>hash</th>\n",
       "      <th>provider</th>\n",
       "      <th>value</th>\n",
       "    </tr>\n",
       "  </thead>\n",
       "  <tbody>\n",
       "    <tr>\n",
       "      <th>0</th>\n",
       "      <td>Deposit</td>\n",
       "      <td>20737384</td>\n",
       "      <td>5</td>\n",
       "      <td>45</td>\n",
       "      <td>0x86b164b1a9473fc56b50fe029f85796b9982ac777e29...</td>\n",
       "      <td>0xaF52695E1bB01A16D33D7194C28C42b10e0Dbec2</td>\n",
       "      <td>29991887276428326154</td>\n",
       "    </tr>\n",
       "    <tr>\n",
       "      <th>1</th>\n",
       "      <td>Deposit</td>\n",
       "      <td>20737967</td>\n",
       "      <td>10</td>\n",
       "      <td>229</td>\n",
       "      <td>0xdbd90b6cb9228f6af13832b55522d6315a596518865e...</td>\n",
       "      <td>0xaF52695E1bB01A16D33D7194C28C42b10e0Dbec2</td>\n",
       "      <td>600431886940906</td>\n",
       "    </tr>\n",
       "    <tr>\n",
       "      <th>2</th>\n",
       "      <td>Deposit</td>\n",
       "      <td>20760626</td>\n",
       "      <td>77</td>\n",
       "      <td>240</td>\n",
       "      <td>0xc7bfe6cf7b1abb8d9cdd359c3db92f4b13610177ac2f...</td>\n",
       "      <td>0xaF52695E1bB01A16D33D7194C28C42b10e0Dbec2</td>\n",
       "      <td>62891896521676849696</td>\n",
       "    </tr>\n",
       "    <tr>\n",
       "      <th>3</th>\n",
       "      <td>Deposit</td>\n",
       "      <td>20760733</td>\n",
       "      <td>5</td>\n",
       "      <td>70</td>\n",
       "      <td>0x0f60f6f6be8974d6bb631a03cbab1a9d08b70c9a4bbe...</td>\n",
       "      <td>0xaF52695E1bB01A16D33D7194C28C42b10e0Dbec2</td>\n",
       "      <td>5901859280460010</td>\n",
       "    </tr>\n",
       "    <tr>\n",
       "      <th>4</th>\n",
       "      <td>Deposit</td>\n",
       "      <td>20764339</td>\n",
       "      <td>15</td>\n",
       "      <td>94</td>\n",
       "      <td>0xaa7da2d52c5761b757408b63482679e18cad00903b64...</td>\n",
       "      <td>0xf08214cbe3527cf4FD65bfcE128e32C6EEdd2174</td>\n",
       "      <td>334762912692507072959</td>\n",
       "    </tr>\n",
       "    <tr>\n",
       "      <th>...</th>\n",
       "      <td>...</td>\n",
       "      <td>...</td>\n",
       "      <td>...</td>\n",
       "      <td>...</td>\n",
       "      <td>...</td>\n",
       "      <td>...</td>\n",
       "      <td>...</td>\n",
       "    </tr>\n",
       "    <tr>\n",
       "      <th>399</th>\n",
       "      <td>Deposit</td>\n",
       "      <td>23255899</td>\n",
       "      <td>0</td>\n",
       "      <td>88</td>\n",
       "      <td>0x4dc2a02cde86c10b1f9fa0b7c4b333b7eaedb800a98e...</td>\n",
       "      <td>0xaF52695E1bB01A16D33D7194C28C42b10e0Dbec2</td>\n",
       "      <td>61947964660305075232</td>\n",
       "    </tr>\n",
       "    <tr>\n",
       "      <th>400</th>\n",
       "      <td>Deposit</td>\n",
       "      <td>23258890</td>\n",
       "      <td>1</td>\n",
       "      <td>67</td>\n",
       "      <td>0x09f50f211fab39eb63256998cc1940e7b45b81d65d57...</td>\n",
       "      <td>0xaF52695E1bB01A16D33D7194C28C42b10e0Dbec2</td>\n",
       "      <td>99947557907242107917</td>\n",
       "    </tr>\n",
       "    <tr>\n",
       "      <th>401</th>\n",
       "      <td>Deposit</td>\n",
       "      <td>23261879</td>\n",
       "      <td>12</td>\n",
       "      <td>196</td>\n",
       "      <td>0xf7518cce02a4e7bd57a32ade96a8a743ac35f05c8b2a...</td>\n",
       "      <td>0xaF52695E1bB01A16D33D7194C28C42b10e0Dbec2</td>\n",
       "      <td>37552160453618751075</td>\n",
       "    </tr>\n",
       "    <tr>\n",
       "      <th>402</th>\n",
       "      <td>Deposit</td>\n",
       "      <td>23263893</td>\n",
       "      <td>145</td>\n",
       "      <td>445</td>\n",
       "      <td>0xbea4200a4fb45f8082103fb4df86481ee076a01694c0...</td>\n",
       "      <td>0xB8DB289ED9B635B67529C9ed5cf7C14D83258e07</td>\n",
       "      <td>21160866539553853734</td>\n",
       "    </tr>\n",
       "    <tr>\n",
       "      <th>403</th>\n",
       "      <td>Deposit</td>\n",
       "      <td>23264107</td>\n",
       "      <td>426</td>\n",
       "      <td>1172</td>\n",
       "      <td>0xe363be783ae3013f283e0cac010cf25a9ff3e02c57a1...</td>\n",
       "      <td>0x63CEd584AcE24Af3F108cbDa9524a3f2E5A86088</td>\n",
       "      <td>15772525967405887641</td>\n",
       "    </tr>\n",
       "  </tbody>\n",
       "</table>\n",
       "<p>404 rows × 7 columns</p>\n",
       "</div>"
      ],
      "text/plain": [
       "       event     block  transactionIndex  log_index  \\\n",
       "0    Deposit  20737384                 5         45   \n",
       "1    Deposit  20737967                10        229   \n",
       "2    Deposit  20760626                77        240   \n",
       "3    Deposit  20760733                 5         70   \n",
       "4    Deposit  20764339                15         94   \n",
       "..       ...       ...               ...        ...   \n",
       "399  Deposit  23255899                 0         88   \n",
       "400  Deposit  23258890                 1         67   \n",
       "401  Deposit  23261879                12        196   \n",
       "402  Deposit  23263893               145        445   \n",
       "403  Deposit  23264107               426       1172   \n",
       "\n",
       "                                                  hash  \\\n",
       "0    0x86b164b1a9473fc56b50fe029f85796b9982ac777e29...   \n",
       "1    0xdbd90b6cb9228f6af13832b55522d6315a596518865e...   \n",
       "2    0xc7bfe6cf7b1abb8d9cdd359c3db92f4b13610177ac2f...   \n",
       "3    0x0f60f6f6be8974d6bb631a03cbab1a9d08b70c9a4bbe...   \n",
       "4    0xaa7da2d52c5761b757408b63482679e18cad00903b64...   \n",
       "..                                                 ...   \n",
       "399  0x4dc2a02cde86c10b1f9fa0b7c4b333b7eaedb800a98e...   \n",
       "400  0x09f50f211fab39eb63256998cc1940e7b45b81d65d57...   \n",
       "401  0xf7518cce02a4e7bd57a32ade96a8a743ac35f05c8b2a...   \n",
       "402  0xbea4200a4fb45f8082103fb4df86481ee076a01694c0...   \n",
       "403  0xe363be783ae3013f283e0cac010cf25a9ff3e02c57a1...   \n",
       "\n",
       "                                       provider                  value  \n",
       "0    0xaF52695E1bB01A16D33D7194C28C42b10e0Dbec2   29991887276428326154  \n",
       "1    0xaF52695E1bB01A16D33D7194C28C42b10e0Dbec2        600431886940906  \n",
       "2    0xaF52695E1bB01A16D33D7194C28C42b10e0Dbec2   62891896521676849696  \n",
       "3    0xaF52695E1bB01A16D33D7194C28C42b10e0Dbec2       5901859280460010  \n",
       "4    0xf08214cbe3527cf4FD65bfcE128e32C6EEdd2174  334762912692507072959  \n",
       "..                                          ...                    ...  \n",
       "399  0xaF52695E1bB01A16D33D7194C28C42b10e0Dbec2   61947964660305075232  \n",
       "400  0xaF52695E1bB01A16D33D7194C28C42b10e0Dbec2   99947557907242107917  \n",
       "401  0xaF52695E1bB01A16D33D7194C28C42b10e0Dbec2   37552160453618751075  \n",
       "402  0xB8DB289ED9B635B67529C9ed5cf7C14D83258e07   21160866539553853734  \n",
       "403  0x63CEd584AcE24Af3F108cbDa9524a3f2E5A86088   15772525967405887641  \n",
       "\n",
       "[404 rows x 7 columns]"
      ]
     },
     "execution_count": 20,
     "metadata": {},
     "output_type": "execute_result"
    }
   ],
   "source": [
    "events[\"Deposit\"]"
   ]
  },
  {
   "cell_type": "code",
   "execution_count": null,
   "metadata": {},
   "outputs": [],
   "source": []
  }
 ],
 "metadata": {
  "kernelspec": {
   "display_name": "mainnet-launch-py3.10",
   "language": "python",
   "name": "python3"
  },
  "language_info": {
   "codemirror_mode": {
    "name": "ipython",
    "version": 3
   },
   "file_extension": ".py",
   "mimetype": "text/x-python",
   "name": "python",
   "nbconvert_exporter": "python",
   "pygments_lexer": "ipython3",
   "version": "3.10.14"
  }
 },
 "nbformat": 4,
 "nbformat_minor": 2
}
