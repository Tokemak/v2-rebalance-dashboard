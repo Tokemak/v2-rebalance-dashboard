{
 "cells": [
  {
   "cell_type": "code",
   "execution_count": 6,
   "metadata": {},
   "outputs": [
    {
     "name": "stderr",
     "output_type": "stream",
     "text": [
      "2025-06-19 10:41:23.769 Thread 'MainThread': missing ScriptRunContext! This warning can be ignored when running in bare mode.\n",
      "2025-06-19 10:41:23.769 Thread 'MainThread': missing ScriptRunContext! This warning can be ignored when running in bare mode.\n",
      "2025-06-19 10:41:23.770 Thread 'MainThread': missing ScriptRunContext! This warning can be ignored when running in bare mode.\n"
     ]
    },
    {
     "name": "stdout",
     "output_type": "stream",
     "text": [
      "2025-06-19 10:41:23,847 INFO sqlalchemy.engine.Engine BEGIN (implicit)\n",
      "2025-06-19 10:41:23,848 INFO sqlalchemy.engine.Engine SELECT pg_catalog.pg_class.relname \n",
      "FROM pg_catalog.pg_class JOIN pg_catalog.pg_namespace ON pg_catalog.pg_namespace.oid = pg_catalog.pg_class.relnamespace \n",
      "WHERE pg_catalog.pg_class.relname = %(table_name)s AND pg_catalog.pg_class.relkind = ANY (ARRAY[%(param_1)s, %(param_2)s, %(param_3)s, %(param_4)s, %(param_5)s]) AND pg_catalog.pg_table_is_visible(pg_catalog.pg_class.oid) AND pg_catalog.pg_namespace.nspname != %(nspname_1)s\n",
      "2025-06-19 10:41:23,848 INFO sqlalchemy.engine.Engine [cached since 196.5s ago] {'table_name': <sqlalchemy.sql.elements.TextClause object at 0x12b3cb520>, 'param_1': 'r', 'param_2': 'p', 'param_3': 'f', 'param_4': 'v', 'param_5': 'm', 'nspname_1': 'pg_catalog'}\n",
      "2025-06-19 10:41:23,849 INFO sqlalchemy.engine.Engine SELECT\n",
      "    autopool_destination_states.*\n",
      "FROM autopool_destination_states\n",
      "\n",
      "2025-06-19 10:41:23,849 INFO sqlalchemy.engine.Engine [generated in 0.00035s] {}\n"
     ]
    },
    {
     "name": "stderr",
     "output_type": "stream",
     "text": [
      "2025-06-19 10:41:24.275 Thread 'Thread-21': missing ScriptRunContext! This warning can be ignored when running in bare mode.\n",
      "2025-06-19 10:41:24.276 Thread 'Thread-21': missing ScriptRunContext! This warning can be ignored when running in bare mode.\n"
     ]
    },
    {
     "name": "stdout",
     "output_type": "stream",
     "text": [
      "2025-06-19 10:41:28,896 INFO sqlalchemy.engine.Engine ROLLBACK\n"
     ]
    },
    {
     "name": "stderr",
     "output_type": "stream",
     "text": [
      "2025-06-19 10:41:28.978 Thread 'MainThread': missing ScriptRunContext! This warning can be ignored when running in bare mode.\n",
      "2025-06-19 10:41:28.978 Thread 'MainThread': missing ScriptRunContext! This warning can be ignored when running in bare mode.\n"
     ]
    },
    {
     "data": {
      "application/vnd.microsoft.datawrangler.viewer.v0+json": {
       "columns": [
        {
         "name": "index",
         "rawType": "int64",
         "type": "integer"
        },
        {
         "name": "destination_vault_address",
         "rawType": "object",
         "type": "string"
        },
        {
         "name": "autopool_vault_address",
         "rawType": "object",
         "type": "string"
        },
        {
         "name": "block",
         "rawType": "int64",
         "type": "integer"
        },
        {
         "name": "chain_id",
         "rawType": "int64",
         "type": "integer"
        },
        {
         "name": "owned_shares",
         "rawType": "float64",
         "type": "float"
        }
       ],
       "ref": "618ebbd8-c93c-48d0-984d-8fc7276945de",
       "rows": [
        [
         "0",
         "0x4F4bE87cFe874db2e248A787669a0D6E77f1F149",
         "0x0A2b94F6871c1D7A32Fe58E1ab5e6deA2f114E56",
         "21210874",
         "1",
         "0.0"
        ],
        [
         "1",
         "0xFDa49984eb4eA4075b8b451032849347C633E94b",
         "0x0A2b94F6871c1D7A32Fe58E1ab5e6deA2f114E56",
         "21597520",
         "1",
         "0.0"
        ],
        [
         "2",
         "0x5A4B544B9734930DDC587c9a2f093dC5058A4f4D",
         "0x0A2b94F6871c1D7A32Fe58E1ab5e6deA2f114E56",
         "21497235",
         "1",
         "0.0"
        ],
        [
         "3",
         "0x865e59D439BF7310c9BC6117E6020B8C87De4065",
         "0x0A2b94F6871c1D7A32Fe58E1ab5e6deA2f114E56",
         "20773761",
         "1",
         "0.0"
        ],
        [
         "4",
         "0x8E0991e398F9e2F165A2e081F404754d283aE332",
         "0x0A2b94F6871c1D7A32Fe58E1ab5e6deA2f114E56",
         "22570404",
         "1",
         "0.0"
        ],
        [
         "5",
         "0xbA1462f43c6f60ebD1C62735c94E428aD073E01A",
         "0x0A2b94F6871c1D7A32Fe58E1ab5e6deA2f114E56",
         "22313650",
         "1",
         "3329.682451584522"
        ],
        [
         "6",
         "0x6a8C6ff78082a2ae494EB9291DdC7254117298Ff",
         "0x0A2b94F6871c1D7A32Fe58E1ab5e6deA2f114E56",
         "22206150",
         "1",
         "0.0"
        ],
        [
         "7",
         "0x867991C7737Ccbb152aE5a7E6EDB05cA0670717E",
         "0x0A2b94F6871c1D7A32Fe58E1ab5e6deA2f114E56",
         "21883855",
         "1",
         "0.0"
        ],
        [
         "8",
         "0x6DcB6797b1C0442587c2ad79745ef7BB487Fc2E2",
         "0x0A2b94F6871c1D7A32Fe58E1ab5e6deA2f114E56",
         "20816725",
         "1",
         "0.0"
        ],
        [
         "9",
         "0x1E581AD9ef141C3037991806383B7990c1f68312",
         "0x0A2b94F6871c1D7A32Fe58E1ab5e6deA2f114E56",
         "21490077",
         "1",
         "0.0"
        ],
        [
         "10",
         "0x3772973f8F399D74488D5cF3276C032E0afC8A6f",
         "0x0A2b94F6871c1D7A32Fe58E1ab5e6deA2f114E56",
         "21153541",
         "1",
         null
        ],
        [
         "11",
         "0x1Ea622fa030e4a78F4CC2f305dd3c08DA3F08573",
         "0x0A2b94F6871c1D7A32Fe58E1ab5e6deA2f114E56",
         "21518734",
         "1",
         "2508.1407570769343"
        ],
        [
         "12",
         "0x92294A62D6D9F0FbE30Ba3B543edb1806561baD7",
         "0x0A2b94F6871c1D7A32Fe58E1ab5e6deA2f114E56",
         "22163172",
         "1",
         "0.0"
        ],
        [
         "13",
         "0xe3AE2Ab9AE8ADe1B4940dd893C9339401bEe61A1",
         "0x0A2b94F6871c1D7A32Fe58E1ab5e6deA2f114E56",
         "20773761",
         "1",
         "0.0"
        ],
        [
         "14",
         "0xbA1462f43c6f60ebD1C62735c94E428aD073E01A",
         "0x0A2b94F6871c1D7A32Fe58E1ab5e6deA2f114E56",
         "22534697",
         "1",
         "3518.781301243126"
        ],
        [
         "15",
         "0x903F21CBC0cFd49817dB219Cd216325fD4132034",
         "0x0A2b94F6871c1D7A32Fe58E1ab5e6deA2f114E56",
         "20866918",
         "1",
         "0.0"
        ],
        [
         "16",
         "0x5A4B544B9734930DDC587c9a2f093dC5058A4f4D",
         "0x0A2b94F6871c1D7A32Fe58E1ab5e6deA2f114E56",
         "21826720",
         "1",
         "0.0"
        ],
        [
         "17",
         "0xfB6f99FdF12E37Bfe3c4Cf81067faB10c465fb24",
         "0x0A2b94F6871c1D7A32Fe58E1ab5e6deA2f114E56",
         "20945811",
         "1",
         "224.5932148410716"
        ],
        [
         "18",
         "0xdfE3fA7027E84f59b266459C567278C79fe86f0C",
         "0x0A2b94F6871c1D7A32Fe58E1ab5e6deA2f114E56",
         "22148848",
         "1",
         "1036.943345052421"
        ],
        [
         "19",
         "0x867991C7737Ccbb152aE5a7E6EDB05cA0670717E",
         "0x0A2b94F6871c1D7A32Fe58E1ab5e6deA2f114E56",
         "21132050",
         "1",
         "0.0"
        ],
        [
         "20",
         "0x3F55eedDe51504E6Ed0ec30E8289b4Da11EdB7F9",
         "0x0A2b94F6871c1D7A32Fe58E1ab5e6deA2f114E56",
         "21239548",
         "1",
         "918.9878943061992"
        ],
        [
         "21",
         "0xfB6f99FdF12E37Bfe3c4Cf81067faB10c465fb24",
         "0x0A2b94F6871c1D7A32Fe58E1ab5e6deA2f114E56",
         "21325415",
         "1",
         "0.0"
        ],
        [
         "22",
         "0x5593882d517886D190F47967168D2d68D8960F48",
         "0x0A2b94F6871c1D7A32Fe58E1ab5e6deA2f114E56",
         "22563268",
         "1",
         "0.0"
        ],
        [
         "23",
         "0x2B08137BeABd2454AD3631DEB754F97C5c93eB78",
         "0x0A2b94F6871c1D7A32Fe58E1ab5e6deA2f114E56",
         "21382702",
         "1",
         "0.0"
        ],
        [
         "24",
         "0x8cA2201BC34780f14Bca452913ecAc8e9928d4cA",
         "0x0A2b94F6871c1D7A32Fe58E1ab5e6deA2f114E56",
         "20924302",
         "1",
         "619.4560814856005"
        ],
        [
         "25",
         "0x92294A62D6D9F0FbE30Ba3B543edb1806561baD7",
         "0x0A2b94F6871c1D7A32Fe58E1ab5e6deA2f114E56",
         "22456400",
         "1",
         "0.0"
        ],
        [
         "26",
         "0x6a8C6ff78082a2ae494EB9291DdC7254117298Ff",
         "0x0A2b94F6871c1D7A32Fe58E1ab5e6deA2f114E56",
         "21017401",
         "1",
         "0.0"
        ],
        [
         "27",
         "0xA1b9297525388BA3985413D982863f31e2A29d05",
         "0x0A2b94F6871c1D7A32Fe58E1ab5e6deA2f114E56",
         "21346894",
         "1",
         "0.0"
        ],
        [
         "28",
         "0x4142e3a17391676C66DDf1285E43889F168EE237",
         "0x0A2b94F6871c1D7A32Fe58E1ab5e6deA2f114E56",
         "21568863",
         "1",
         null
        ],
        [
         "29",
         "0xe3AE2Ab9AE8ADe1B4940dd893C9339401bEe61A1",
         "0x0A2b94F6871c1D7A32Fe58E1ab5e6deA2f114E56",
         "22663305",
         "1",
         "0.0"
        ],
        [
         "30",
         "0x4142e3a17391676C66DDf1285E43889F168EE237",
         "0x0A2b94F6871c1D7A32Fe58E1ab5e6deA2f114E56",
         "22134526",
         "1",
         null
        ],
        [
         "31",
         "0x3772973f8F399D74488D5cF3276C032E0afC8A6f",
         "0x0A2b94F6871c1D7A32Fe58E1ab5e6deA2f114E56",
         "20759464",
         "1",
         null
        ],
        [
         "32",
         "0x003aD6a060a1082B7A6F85d24dDF9E9E196B8426",
         "0x0A2b94F6871c1D7A32Fe58E1ab5e6deA2f114E56",
         "21325415",
         "1",
         "0.0"
        ],
        [
         "33",
         "0x003aD6a060a1082B7A6F85d24dDF9E9E196B8426",
         "0x0A2b94F6871c1D7A32Fe58E1ab5e6deA2f114E56",
         "21533058",
         "1",
         "0.0"
        ],
        [
         "34",
         "0x87F46aa699840705F587761d9cfF290fCe1F84aE",
         "0x0A2b94F6871c1D7A32Fe58E1ab5e6deA2f114E56",
         "20938657",
         "1",
         "0.0"
        ],
        [
         "35",
         "0x92294A62D6D9F0FbE30Ba3B543edb1806561baD7",
         "0x0A2b94F6871c1D7A32Fe58E1ab5e6deA2f114E56",
         "20988724",
         "1",
         "0.0"
        ],
        [
         "36",
         "0x84083bdcbF44960f0745dd0b794F426568D762b2",
         "0x0A2b94F6871c1D7A32Fe58E1ab5e6deA2f114E56",
         "20952957",
         "1",
         "0.0"
        ],
        [
         "37",
         "0xaD70ed6A904d38acD0BbE2D922279149cFEDb190",
         "0x0A2b94F6871c1D7A32Fe58E1ab5e6deA2f114E56",
         "21747949",
         "1",
         "0.0"
        ],
        [
         "38",
         "0x87F46aa699840705F587761d9cfF290fCe1F84aE",
         "0x0A2b94F6871c1D7A32Fe58E1ab5e6deA2f114E56",
         "21883855",
         "1",
         "0.0"
        ],
        [
         "39",
         "0x84083bdcbF44960f0745dd0b794F426568D762b2",
         "0x0A2b94F6871c1D7A32Fe58E1ab5e6deA2f114E56",
         "22084356",
         "1",
         "0.0"
        ],
        [
         "40",
         "0xfB6f99FdF12E37Bfe3c4Cf81067faB10c465fb24",
         "0x0A2b94F6871c1D7A32Fe58E1ab5e6deA2f114E56",
         "22284996",
         "1",
         "0.0"
        ],
        [
         "41",
         "0x84083bdcbF44960f0745dd0b794F426568D762b2",
         "0x0A2b94F6871c1D7A32Fe58E1ab5e6deA2f114E56",
         "21898155",
         "1",
         "0.0"
        ],
        [
         "42",
         "0xf3ae3c74EaD129e770A864CeE291A805b170bBe0",
         "0x0A2b94F6871c1D7A32Fe58E1ab5e6deA2f114E56",
         "20831060",
         "1",
         "0.0"
        ],
        [
         "43",
         "0xbA1462f43c6f60ebD1C62735c94E428aD073E01A",
         "0x0A2b94F6871c1D7A32Fe58E1ab5e6deA2f114E56",
         "21146367",
         "1",
         "2445.1674069132637"
        ],
        [
         "44",
         "0xB84c580c005A5F633C8CF6eecAf5b0a8314EC5c4",
         "0x0A2b94F6871c1D7A32Fe58E1ab5e6deA2f114E56",
         "22198999",
         "1",
         "0.0"
        ],
        [
         "45",
         "0x867991C7737Ccbb152aE5a7E6EDB05cA0670717E",
         "0x0A2b94F6871c1D7A32Fe58E1ab5e6deA2f114E56",
         "21719303",
         "1",
         "0.0"
        ],
        [
         "46",
         "0xd96E943098B2AE81155e98D7DC8BeaB34C539f01",
         "0x0A2b94F6871c1D7A32Fe58E1ab5e6deA2f114E56",
         "22041393",
         "1",
         "0.0"
        ],
        [
         "47",
         "0x1E581AD9ef141C3037991806383B7990c1f68312",
         "0x0A2b94F6871c1D7A32Fe58E1ab5e6deA2f114E56",
         "22606142",
         "1",
         "0.0"
        ],
        [
         "48",
         "0x903F21CBC0cFd49817dB219Cd216325fD4132034",
         "0x0A2b94F6871c1D7A32Fe58E1ab5e6deA2f114E56",
         "21296777",
         "1",
         "0.0"
        ],
        [
         "49",
         "0x5A4B544B9734930DDC587c9a2f093dC5058A4f4D",
         "0x0A2b94F6871c1D7A32Fe58E1ab5e6deA2f114E56",
         "21733626",
         "1",
         "0.0"
        ]
       ],
       "shape": {
        "columns": 5,
        "rows": 79705
       }
      },
      "text/html": [
       "<div>\n",
       "<style scoped>\n",
       "    .dataframe tbody tr th:only-of-type {\n",
       "        vertical-align: middle;\n",
       "    }\n",
       "\n",
       "    .dataframe tbody tr th {\n",
       "        vertical-align: top;\n",
       "    }\n",
       "\n",
       "    .dataframe thead th {\n",
       "        text-align: right;\n",
       "    }\n",
       "</style>\n",
       "<table border=\"1\" class=\"dataframe\">\n",
       "  <thead>\n",
       "    <tr style=\"text-align: right;\">\n",
       "      <th></th>\n",
       "      <th>destination_vault_address</th>\n",
       "      <th>autopool_vault_address</th>\n",
       "      <th>block</th>\n",
       "      <th>chain_id</th>\n",
       "      <th>owned_shares</th>\n",
       "    </tr>\n",
       "  </thead>\n",
       "  <tbody>\n",
       "    <tr>\n",
       "      <th>0</th>\n",
       "      <td>0x4F4bE87cFe874db2e248A787669a0D6E77f1F149</td>\n",
       "      <td>0x0A2b94F6871c1D7A32Fe58E1ab5e6deA2f114E56</td>\n",
       "      <td>21210874</td>\n",
       "      <td>1</td>\n",
       "      <td>0.000000</td>\n",
       "    </tr>\n",
       "    <tr>\n",
       "      <th>1</th>\n",
       "      <td>0xFDa49984eb4eA4075b8b451032849347C633E94b</td>\n",
       "      <td>0x0A2b94F6871c1D7A32Fe58E1ab5e6deA2f114E56</td>\n",
       "      <td>21597520</td>\n",
       "      <td>1</td>\n",
       "      <td>0.000000</td>\n",
       "    </tr>\n",
       "    <tr>\n",
       "      <th>2</th>\n",
       "      <td>0x5A4B544B9734930DDC587c9a2f093dC5058A4f4D</td>\n",
       "      <td>0x0A2b94F6871c1D7A32Fe58E1ab5e6deA2f114E56</td>\n",
       "      <td>21497235</td>\n",
       "      <td>1</td>\n",
       "      <td>0.000000</td>\n",
       "    </tr>\n",
       "    <tr>\n",
       "      <th>3</th>\n",
       "      <td>0x865e59D439BF7310c9BC6117E6020B8C87De4065</td>\n",
       "      <td>0x0A2b94F6871c1D7A32Fe58E1ab5e6deA2f114E56</td>\n",
       "      <td>20773761</td>\n",
       "      <td>1</td>\n",
       "      <td>0.000000</td>\n",
       "    </tr>\n",
       "    <tr>\n",
       "      <th>4</th>\n",
       "      <td>0x8E0991e398F9e2F165A2e081F404754d283aE332</td>\n",
       "      <td>0x0A2b94F6871c1D7A32Fe58E1ab5e6deA2f114E56</td>\n",
       "      <td>22570404</td>\n",
       "      <td>1</td>\n",
       "      <td>0.000000</td>\n",
       "    </tr>\n",
       "    <tr>\n",
       "      <th>...</th>\n",
       "      <td>...</td>\n",
       "      <td>...</td>\n",
       "      <td>...</td>\n",
       "      <td>...</td>\n",
       "      <td>...</td>\n",
       "    </tr>\n",
       "    <tr>\n",
       "      <th>79700</th>\n",
       "      <td>0xD4E59aa6dfFE9Acd541f8B0a827683a6656f62a1</td>\n",
       "      <td>0xCb119265AA1195ea363D7A243aD56c73EA42Eb59</td>\n",
       "      <td>33523056</td>\n",
       "      <td>146</td>\n",
       "      <td>0.000000</td>\n",
       "    </tr>\n",
       "    <tr>\n",
       "      <th>79701</th>\n",
       "      <td>0x13a23b219909Ce3EE454e121D6286E32594d055B</td>\n",
       "      <td>0xCb119265AA1195ea363D7A243aD56c73EA42Eb59</td>\n",
       "      <td>34338736</td>\n",
       "      <td>146</td>\n",
       "      <td>0.000000</td>\n",
       "    </tr>\n",
       "    <tr>\n",
       "      <th>79702</th>\n",
       "      <td>0x310CCB9eC996A228cd6F4Eb2E70769ccDbeD163D</td>\n",
       "      <td>0xCb119265AA1195ea363D7A243aD56c73EA42Eb59</td>\n",
       "      <td>33945522</td>\n",
       "      <td>146</td>\n",
       "      <td>127114.031981</td>\n",
       "    </tr>\n",
       "    <tr>\n",
       "      <th>79703</th>\n",
       "      <td>0x2Af19422D9f81A4c71306a409A540fC63d7f623B</td>\n",
       "      <td>0xCb119265AA1195ea363D7A243aD56c73EA42Eb59</td>\n",
       "      <td>33832170</td>\n",
       "      <td>146</td>\n",
       "      <td>0.000000</td>\n",
       "    </tr>\n",
       "    <tr>\n",
       "      <th>79704</th>\n",
       "      <td>0xD4E59aa6dfFE9Acd541f8B0a827683a6656f62a1</td>\n",
       "      <td>0xCb119265AA1195ea363D7A243aD56c73EA42Eb59</td>\n",
       "      <td>33438148</td>\n",
       "      <td>146</td>\n",
       "      <td>0.000000</td>\n",
       "    </tr>\n",
       "  </tbody>\n",
       "</table>\n",
       "<p>79705 rows × 5 columns</p>\n",
       "</div>"
      ],
      "text/plain": [
       "                        destination_vault_address  \\\n",
       "0      0x4F4bE87cFe874db2e248A787669a0D6E77f1F149   \n",
       "1      0xFDa49984eb4eA4075b8b451032849347C633E94b   \n",
       "2      0x5A4B544B9734930DDC587c9a2f093dC5058A4f4D   \n",
       "3      0x865e59D439BF7310c9BC6117E6020B8C87De4065   \n",
       "4      0x8E0991e398F9e2F165A2e081F404754d283aE332   \n",
       "...                                           ...   \n",
       "79700  0xD4E59aa6dfFE9Acd541f8B0a827683a6656f62a1   \n",
       "79701  0x13a23b219909Ce3EE454e121D6286E32594d055B   \n",
       "79702  0x310CCB9eC996A228cd6F4Eb2E70769ccDbeD163D   \n",
       "79703  0x2Af19422D9f81A4c71306a409A540fC63d7f623B   \n",
       "79704  0xD4E59aa6dfFE9Acd541f8B0a827683a6656f62a1   \n",
       "\n",
       "                           autopool_vault_address     block  chain_id  \\\n",
       "0      0x0A2b94F6871c1D7A32Fe58E1ab5e6deA2f114E56  21210874         1   \n",
       "1      0x0A2b94F6871c1D7A32Fe58E1ab5e6deA2f114E56  21597520         1   \n",
       "2      0x0A2b94F6871c1D7A32Fe58E1ab5e6deA2f114E56  21497235         1   \n",
       "3      0x0A2b94F6871c1D7A32Fe58E1ab5e6deA2f114E56  20773761         1   \n",
       "4      0x0A2b94F6871c1D7A32Fe58E1ab5e6deA2f114E56  22570404         1   \n",
       "...                                           ...       ...       ...   \n",
       "79700  0xCb119265AA1195ea363D7A243aD56c73EA42Eb59  33523056       146   \n",
       "79701  0xCb119265AA1195ea363D7A243aD56c73EA42Eb59  34338736       146   \n",
       "79702  0xCb119265AA1195ea363D7A243aD56c73EA42Eb59  33945522       146   \n",
       "79703  0xCb119265AA1195ea363D7A243aD56c73EA42Eb59  33832170       146   \n",
       "79704  0xCb119265AA1195ea363D7A243aD56c73EA42Eb59  33438148       146   \n",
       "\n",
       "        owned_shares  \n",
       "0           0.000000  \n",
       "1           0.000000  \n",
       "2           0.000000  \n",
       "3           0.000000  \n",
       "4           0.000000  \n",
       "...              ...  \n",
       "79700       0.000000  \n",
       "79701       0.000000  \n",
       "79702  127114.031981  \n",
       "79703       0.000000  \n",
       "79704       0.000000  \n",
       "\n",
       "[79705 rows x 5 columns]"
      ]
     },
     "execution_count": 6,
     "metadata": {},
     "output_type": "execute_result"
    }
   ],
   "source": [
    "import pandas as pd\n",
    "import numpy as np\n",
    "import streamlit as st\n",
    "import psutil\n",
    "import plotly.express as px\n",
    "import plotly.graph_objects as go\n",
    "\n",
    "from mainnet_launch.constants import AutopoolConstants, AUTO_USD\n",
    "from mainnet_launch.database.schema.full import (\n",
    "    AutopoolStates,\n",
    "    Blocks,\n",
    "    DestinationStates,\n",
    "    Destinations,\n",
    "    AutopoolDestinationStates,\n",
    ")\n",
    "from mainnet_launch.database.schema.postgres_operations import (\n",
    "    merge_tables_as_df,\n",
    "    TableSelector,\n",
    ")\n",
    "\n",
    "from mainnet_launch.pages.autopool_exposure.allocation_over_time import _fetch_tvl_by_asset_and_destination\n",
    "\n",
    "\n",
    "autopool = AUTO_USD\n",
    "\n",
    "destination_state_df = merge_tables_as_df(\n",
    "    selectors=[\n",
    "        TableSelector(\n",
    "            table=AutopoolDestinationStates,\n",
    "        ),\n",
    "    ]\n",
    ")\n",
    "\n",
    "\n",
    "destination_state_df"
   ]
  },
  {
   "cell_type": "code",
   "execution_count": 9,
   "metadata": {},
   "outputs": [
    {
     "data": {
      "application/vnd.microsoft.datawrangler.viewer.v0+json": {
       "columns": [
        {
         "name": "index",
         "rawType": "int64",
         "type": "integer"
        },
        {
         "name": "destination_vault_address",
         "rawType": "object",
         "type": "string"
        },
        {
         "name": "autopool_vault_address",
         "rawType": "object",
         "type": "string"
        },
        {
         "name": "block",
         "rawType": "int64",
         "type": "integer"
        },
        {
         "name": "chain_id",
         "rawType": "int64",
         "type": "integer"
        },
        {
         "name": "owned_shares",
         "rawType": "float64",
         "type": "float"
        }
       ],
       "ref": "764f3519-f4be-469a-b6d4-abe71bca169f",
       "rows": [],
       "shape": {
        "columns": 5,
        "rows": 0
       }
      },
      "text/html": [
       "<div>\n",
       "<style scoped>\n",
       "    .dataframe tbody tr th:only-of-type {\n",
       "        vertical-align: middle;\n",
       "    }\n",
       "\n",
       "    .dataframe tbody tr th {\n",
       "        vertical-align: top;\n",
       "    }\n",
       "\n",
       "    .dataframe thead th {\n",
       "        text-align: right;\n",
       "    }\n",
       "</style>\n",
       "<table border=\"1\" class=\"dataframe\">\n",
       "  <thead>\n",
       "    <tr style=\"text-align: right;\">\n",
       "      <th></th>\n",
       "      <th>destination_vault_address</th>\n",
       "      <th>autopool_vault_address</th>\n",
       "      <th>block</th>\n",
       "      <th>chain_id</th>\n",
       "      <th>owned_shares</th>\n",
       "    </tr>\n",
       "  </thead>\n",
       "  <tbody>\n",
       "  </tbody>\n",
       "</table>\n",
       "</div>"
      ],
      "text/plain": [
       "Empty DataFrame\n",
       "Columns: [destination_vault_address, autopool_vault_address, block, chain_id, owned_shares]\n",
       "Index: []"
      ]
     },
     "execution_count": 9,
     "metadata": {},
     "output_type": "execute_result"
    }
   ],
   "source": [
    "destination_state_df[\n",
    "    destination_state_df[\"destination_vault_address\"].str.lower() == autopool.autopool_eth_addr.lower()\n",
    "]"
   ]
  },
  {
   "cell_type": "code",
   "execution_count": 2,
   "metadata": {},
   "outputs": [
    {
     "data": {
      "application/vnd.microsoft.datawrangler.viewer.v0+json": {
       "columns": [
        {
         "name": "exchange_name",
         "rawType": "object",
         "type": "string"
        },
        {
         "name": "count",
         "rawType": "int64",
         "type": "integer"
        }
       ],
       "ref": "d83a3e54-ad2a-4436-b755-7fc4d074390b",
       "rows": [
        [
         "curve",
         "30904"
        ],
        [
         "balancer",
         "22824"
        ],
        [
         "balancerV3",
         "7226"
        ],
        [
         "morpho",
         "4433"
        ],
        [
         "none",
         "3905"
        ],
        [
         "aave",
         "1980"
        ],
        [
         "fluid",
         "1980"
        ],
        [
         "frax",
         "1562"
        ],
        [
         "aerodrome",
         "1338"
        ],
        [
         "euler",
         "818"
        ],
        [
         "ethena",
         "781"
        ],
        [
         "maker",
         "781"
        ],
        [
         "sky",
         "781"
        ],
        [
         "dinero",
         "278"
        ],
        [
         "inverse",
         "114"
        ]
       ],
       "shape": {
        "columns": 1,
        "rows": 15
       }
      },
      "text/plain": [
       "exchange_name\n",
       "curve         30904\n",
       "balancer      22824\n",
       "balancerV3     7226\n",
       "morpho         4433\n",
       "none           3905\n",
       "aave           1980\n",
       "fluid          1980\n",
       "frax           1562\n",
       "aerodrome      1338\n",
       "euler           818\n",
       "ethena          781\n",
       "maker           781\n",
       "sky             781\n",
       "dinero          278\n",
       "inverse         114\n",
       "Name: count, dtype: int64"
      ]
     },
     "execution_count": 2,
     "metadata": {},
     "output_type": "execute_result"
    }
   ],
   "source": [
    "destination_state_df[\"exchange_name\"].value_counts()"
   ]
  },
  {
   "cell_type": "code",
   "execution_count": null,
   "metadata": {},
   "outputs": [],
   "source": []
  }
 ],
 "metadata": {
  "kernelspec": {
   "display_name": "mainnet-launch-py3.10",
   "language": "python",
   "name": "python3"
  },
  "language_info": {
   "codemirror_mode": {
    "name": "ipython",
    "version": 3
   },
   "file_extension": ".py",
   "mimetype": "text/x-python",
   "name": "python",
   "nbconvert_exporter": "python",
   "pygments_lexer": "ipython3",
   "version": "3.10.14"
  }
 },
 "nbformat": 4,
 "nbformat_minor": 2
}
