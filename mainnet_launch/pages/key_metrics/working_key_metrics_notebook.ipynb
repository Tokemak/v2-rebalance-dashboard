{
 "cells": [
  {
   "cell_type": "code",
   "execution_count": null,
   "metadata": {},
   "outputs": [
    {
     "name": "stderr",
     "output_type": "stream",
     "text": [
      "2025-05-16 15:55:24.634 WARNING streamlit.runtime.caching.cache_data_api: No runtime found, using MemoryCacheStorageManager\n",
      "2025-05-16 15:55:24.637 WARNING streamlit.runtime.scriptrunner_utils.script_run_context: Thread 'MainThread': missing ScriptRunContext! This warning can be ignored when running in bare mode.\n",
      "2025-05-16 15:55:24.721 \n",
      "  \u001b[33m\u001b[1mWarning:\u001b[0m to view this Streamlit app on a browser, run it with the following\n",
      "  command:\n",
      "\n",
      "    streamlit run /Users/pb/Library/Caches/pypoetry/virtualenvs/mainnet-launch-FtycU18g-py3.10/lib/python3.10/site-packages/ipykernel_launcher.py [ARGUMENTS]\n",
      "2025-05-16 15:55:24.722 Thread 'MainThread': missing ScriptRunContext! This warning can be ignored when running in bare mode.\n",
      "2025-05-16 15:55:24.722 Thread 'MainThread': missing ScriptRunContext! This warning can be ignored when running in bare mode.\n",
      "2025-05-16 15:55:24.722 No runtime found, using MemoryCacheStorageManager\n",
      "2025-05-16 15:55:25.224 Thread 'Thread-4': missing ScriptRunContext! This warning can be ignored when running in bare mode.\n",
      "2025-05-16 15:55:25.225 Thread 'Thread-4': missing ScriptRunContext! This warning can be ignored when running in bare mode.\n"
     ]
    },
    {
     "name": "stdout",
     "output_type": "stream",
     "text": [
      "2025-05-16 15:55:25,627 INFO sqlalchemy.engine.Engine select pg_catalog.version()\n",
      "2025-05-16 15:55:25,630 INFO sqlalchemy.engine.Engine [raw sql] {}\n",
      "2025-05-16 15:55:25,832 INFO sqlalchemy.engine.Engine select current_schema()\n",
      "2025-05-16 15:55:25,832 INFO sqlalchemy.engine.Engine [raw sql] {}\n",
      "2025-05-16 15:55:26,032 INFO sqlalchemy.engine.Engine show standard_conforming_strings\n",
      "2025-05-16 15:55:26,032 INFO sqlalchemy.engine.Engine [raw sql] {}\n",
      "2025-05-16 15:55:26,224 INFO sqlalchemy.engine.Engine BEGIN (implicit)\n",
      "2025-05-16 15:55:26,243 INFO sqlalchemy.engine.Engine SELECT max(blocks.block) AS block \n",
      "FROM blocks \n",
      "WHERE blocks.chain_id = %(chain_id_1)s AND blocks.block >= %(block_1)s AND blocks.block <= %(block_2)s GROUP BY date_trunc(%(date_trunc_1)s, blocks.datetime) ORDER BY date_trunc(%(date_trunc_2)s, blocks.datetime)\n",
      "2025-05-16 15:55:26,243 INFO sqlalchemy.engine.Engine [generated in 0.00069s] {'chain_id_1': 1, 'block_1': 20752910, 'block_2': 100000000, 'date_trunc_1': 'day', 'date_trunc_2': 'day'}\n",
      "2025-05-16 15:55:26,433 INFO sqlalchemy.engine.Engine COMMIT\n"
     ]
    },
    {
     "name": "stderr",
     "output_type": "stream",
     "text": [
      "2025-05-16 15:55:26.525 Thread 'MainThread': missing ScriptRunContext! This warning can be ignored when running in bare mode.\n",
      "2025-05-16 15:55:26.527 Thread 'MainThread': missing ScriptRunContext! This warning can be ignored when running in bare mode.\n"
     ]
    },
    {
     "name": "stdout",
     "output_type": "stream",
     "text": [
      "2025-05-16 15:55:26,623 INFO sqlalchemy.engine.Engine BEGIN (implicit)\n",
      "2025-05-16 15:55:26,624 INFO sqlalchemy.engine.Engine SELECT pg_catalog.pg_class.relname \n",
      "FROM pg_catalog.pg_class JOIN pg_catalog.pg_namespace ON pg_catalog.pg_namespace.oid = pg_catalog.pg_class.relnamespace \n",
      "WHERE pg_catalog.pg_class.relname = %(table_name)s AND pg_catalog.pg_class.relkind = ANY (ARRAY[%(param_1)s, %(param_2)s, %(param_3)s, %(param_4)s, %(param_5)s]) AND pg_catalog.pg_table_is_visible(pg_catalog.pg_class.oid) AND pg_catalog.pg_namespace.nspname != %(nspname_1)s\n",
      "2025-05-16 15:55:26,624 INFO sqlalchemy.engine.Engine [generated in 0.00144s] {'table_name': <sqlalchemy.sql.elements.TextClause object at 0x11e992b00>, 'param_1': 'r', 'param_2': 'p', 'param_3': 'f', 'param_4': 'v', 'param_5': 'm', 'nspname_1': 'pg_catalog'}\n",
      "2025-05-16 15:55:26,626 INFO sqlalchemy.engine.Engine SELECT\n",
      "    autopool_destination_states.*,\n",
      "    destinations.pool_type,\n",
      "    destinations.underlying_symbol,\n",
      "    destinations.exchange_name,\n",
      "    destination_states.incentive_apr,\n",
      "    destination_states.fee_apr,\n",
      "    destination_states.base_apr,\n",
      "    destination_states.lp_token_safe_price,\n",
      "    destination_states.total_apr_out,\n",
      "    destination_states.total_apr_in,\n",
      "    blocks.datetime\n",
      "FROM autopool_destination_states\n",
      "JOIN destinations\n",
      "  ON destinations.destination_vault_address = autopool_destination_states.destination_vault_address AND destinations.chain_id = autopool_destination_states.chain_id\n",
      "JOIN destination_states\n",
      "  ON autopool_destination_states.destination_vault_address = destination_states.destination_vault_address AND autopool_destination_states.chain_id = destination_states.chain_id AND autopool_destination_states.block = destination_states.block\n",
      "JOIN blocks\n",
      "  ON autopool_destination_states.block = blocks.block AND autopool_destination_states.chain_id = blocks.chain_id\n",
      "WHERE\n",
      "    (autopool_destination_states.autopool_vault_address = '0x0A2b94F6871c1D7A32Fe58E1ab5e6deA2f114E56' AND destination_states.block IN (20759464, 20766617, 20773761, 20780916, 20788084, 20795238, 20802389, 20809562, 20816725, 20823901, 20831060, 20838231, 20845405, 20852572, 20859740, 20866918, 20874085, 20881261, 20888424, 20895606, 20902784, 20909955, 20917130, 20924302, 20931482, 20938657, 20945811, 20952957, 20960089, 20967244, 20974401, 20981560, 20988724, 20995892, 21003063, 21010230, 21017401, 21024558, 21031733, 21038905, 21046076, 21053236, 21060412, 21067570, 21074738, 21081894, 21089068, 21096238, 21103392, 21110559, 21117728, 21124888, 21132050, 21139209, 21146367, 21153541, 21160714, 21167883, 21175045, 21182212, 21189371, 21196531, 21203703, 21210874, 21218049, 21225225, 21232385, 21239548, 21246710, 21253879, 21261045, 21268202, 21275369, 21282522, 21289632, 21296777, 21303933, 21311105, 21318259, 21325415, 21332578, 21339732, 21346894, 21354047, 21361217, 21368389, 21375545, 21382702, 21389868, 21397030, 21404196, 21411356, 21418529, 21425699, 21432852, 21440009, 21447175, 21454314, 21461471, 21468617, 21475764, 21482924, 21490077, 21497235, 21504401, 21511571, 21518734, 21525890, 21533058, 21540232, 21547396, 21554556, 21561709, 21568863, 21576035, 21583203, 21590362, 21597520, 21604680, 21611852, 21619004, 21626161, 21633325, 21640491, 21647653, 21654814, 21661974, 21669146, 21676305, 21683471, 21690636, 21697804, 21704966, 21712129, 21719303, 21726465, 21733626, 21740792, 21747949, 21755110, 21762264, 21769421, 21776574, 21783739, 21790905, 21798074, 21805232, 21812397, 21819559, 21826720, 21833845, 21840991, 21848119, 21855250, 21862393, 21869537, 21876698, 21883855, 21890993, 21898155, 21905310, 21912465, 21919621, 21926782, 21933948, 21941120, 21948291, 21955462, 21962635, 21969800, 21976966, 21984128, 21991286, 21998438, 22005590, 22012750, 22019907, 22027064, 22034224, 22041393, 22048553, 22055722, 22062883, 22070044, 22077198, 22084356, 22091518, 22098694, 22105862, 22113034, 22120200, 22127350, 22134526, 22141688, 22148848, 22156001, 22163172, 22170334, 22177499, 22184669, 22191826, 22198999, 22206150, 22213305, 22220455, 22227624, 22234793, 22241970, 22249146, 22256323, 22263499, 22270667, 22277825, 22284996, 22292157, 22299326, 22306493, 22313650, 22320818, 22327989, 22335153, 22342307, 22349480, 22356658, 22363838, 22370998, 22378150, 22385293, 22392426, 22399543, 22406692, 22413825, 22420967, 22428091, 22435129, 22442219, 22449297, 22456400, 22463509, 22470610, 22477719, 22484823, 22491938, 22494972))\n",
      "ORDER BY\n",
      "    blocks.datetime ASC\n",
      "\n",
      "2025-05-16 15:55:26,627 INFO sqlalchemy.engine.Engine [generated in 0.00120s] {}\n",
      "2025-05-16 15:55:27,854 INFO sqlalchemy.engine.Engine ROLLBACK\n"
     ]
    },
    {
     "data": {
      "application/vnd.microsoft.datawrangler.viewer.v0+json": {
       "columns": [
        {
         "name": "index",
         "rawType": "int64",
         "type": "integer"
        },
        {
         "name": "destination_vault_address",
         "rawType": "object",
         "type": "string"
        },
        {
         "name": "autopool_vault_address",
         "rawType": "object",
         "type": "string"
        },
        {
         "name": "block",
         "rawType": "int64",
         "type": "integer"
        },
        {
         "name": "chain_id",
         "rawType": "int64",
         "type": "integer"
        },
        {
         "name": "owned_shares",
         "rawType": "float64",
         "type": "float"
        },
        {
         "name": "pool_type",
         "rawType": "object",
         "type": "string"
        },
        {
         "name": "underlying_symbol",
         "rawType": "object",
         "type": "string"
        },
        {
         "name": "exchange_name",
         "rawType": "object",
         "type": "string"
        },
        {
         "name": "incentive_apr",
         "rawType": "float64",
         "type": "float"
        },
        {
         "name": "fee_apr",
         "rawType": "float64",
         "type": "float"
        },
        {
         "name": "base_apr",
         "rawType": "float64",
         "type": "float"
        },
        {
         "name": "lp_token_safe_price",
         "rawType": "float64",
         "type": "float"
        },
        {
         "name": "total_apr_out",
         "rawType": "float64",
         "type": "float"
        },
        {
         "name": "total_apr_in",
         "rawType": "float64",
         "type": "float"
        },
        {
         "name": "datetime",
         "rawType": "datetime64[ns, UTC]",
         "type": "unknown"
        }
       ],
       "conversionMethod": "pd.DataFrame",
       "ref": "f5acfe45-7704-4ecc-bd4e-b6797835917c",
       "rows": [
        [
         "0",
         "0x49895f72fd9d0BF6BBb485C70CE38556de62b070",
         "0x0A2b94F6871c1D7A32Fe58E1ab5e6deA2f114E56",
         "20759464",
         "1",
         "0.0",
         "curveNG",
         "osETH-rETH",
         "curve",
         "0.0",
         "0.028268185825535728",
         "0.026397112724653584",
         "1.0268715938608048",
         "0.05299536043784393",
         "0.05299536043784393",
         "2024-09-15 23:59:59+00:00"
        ],
        [
         "1",
         "0xaD70ed6A904d38acD0BbE2D922279149cFEDb190",
         "0x0A2b94F6871c1D7A32Fe58E1ab5e6deA2f114E56",
         "20759464",
         "1",
         "0.0",
         "curveV1",
         "frxeth-ng-f",
         "curve",
         "0.02745592981264735",
         "0.00201322038679117",
         "0.0",
         "1.0011179272838666",
         "0.027233252161618496",
         "0.026723557218173783",
         "2024-09-15 23:59:59+00:00"
        ],
        [
         "2",
         "0xdfE3fA7027E84f59b266459C567278C79fe86f0C",
         "0x0A2b94F6871c1D7A32Fe58E1ab5e6deA2f114E56",
         "20759464",
         "1",
         null,
         "balCompStable",
         "ETHx/wstETH",
         "balancer",
         null,
         null,
         null,
         "1.0103548675552536",
         null,
         null,
         "2024-09-15 23:59:59+00:00"
        ],
        [
         "3",
         "0xB84c580c005A5F633C8CF6eecAf5b0a8314EC5c4",
         "0x0A2b94F6871c1D7A32Fe58E1ab5e6deA2f114E56",
         "20759464",
         "1",
         "0.0",
         "curveNG",
         "pxsteth",
         "curve",
         "0.08324096373718955",
         "0.000370677378103203",
         "0.01236989330778646",
         "1.0081971982410278",
         "0.08880772316579162",
         "0.08765743804936026",
         "2024-09-15 23:59:59+00:00"
        ],
        [
         "4",
         "0x84083bdcbF44960f0745dd0b794F426568D762b2",
         "0x0A2b94F6871c1D7A32Fe58E1ab5e6deA2f114E56",
         "20759464",
         "1",
         "0.0",
         "curveNG",
         "pxethweth",
         "curve",
         "0.11481895064216327",
         "0.001477891120182434",
         "0.0",
         "0.9993018617483526",
         "0.10593966565372127",
         "0.10481494669812938",
         "2024-09-15 23:59:59+00:00"
        ],
        [
         "5",
         "0x356c79Ab2B2cEFAB685004CE827146058A6c3e77",
         "0x0A2b94F6871c1D7A32Fe58E1ab5e6deA2f114E56",
         "20759464",
         "1",
         null,
         "curveV1",
         "frxeth-ng-f",
         "curve",
         null,
         null,
         null,
         "1.0011179272838666",
         null,
         null,
         "2024-09-15 23:59:59+00:00"
        ],
        [
         "6",
         "0xe4433D00Cf48BFE0C672d9949F2cd2c008bffC04",
         "0x0A2b94F6871c1D7A32Fe58E1ab5e6deA2f114E56",
         "20759464",
         "1",
         null,
         "curveNG",
         "pxsteth",
         "curve",
         null,
         null,
         null,
         "1.0081971982410278",
         null,
         null,
         "2024-09-15 23:59:59+00:00"
        ],
        [
         "7",
         "0x896eCc16Ab4AFfF6cE0765A5B924BaECd7Fa455a",
         "0x0A2b94F6871c1D7A32Fe58E1ab5e6deA2f114E56",
         "20759464",
         "1",
         "0.0",
         "curveNG",
         "osETH-rETH",
         "curve",
         "0.0",
         "0.028268185825535728",
         "0.026397112724653584",
         "1.0268715938608048",
         "0.05299536043784393",
         "0.05299536043784393",
         "2024-09-15 23:59:59+00:00"
        ],
        [
         "8",
         "0x2899143298FECa3a36DAfDDcddAF167f1D673254",
         "0x0A2b94F6871c1D7A32Fe58E1ab5e6deA2f114E56",
         "20759464",
         "1",
         "0.0",
         "balCompStable",
         "ETHx/wstETH",
         "balancer",
         "0.09791455194135701",
         "0.008546480944746469",
         "0.014290337407373637",
         "1.0103548675552536",
         "0.11162005428932258",
         "0.1109599150993414",
         "2024-09-15 23:59:59+00:00"
        ],
        [
         "9",
         "0x87F46aa699840705F587761d9cfF290fCe1F84aE",
         "0x0A2b94F6871c1D7A32Fe58E1ab5e6deA2f114E56",
         "20759464",
         "1",
         "0.0",
         "curveV1",
         "frxeth-ng-f",
         "curve",
         "0.02745592981264735",
         "0.00201322038679117",
         "0.0",
         "1.0011179272838666",
         "0.027233252161618496",
         "0.026723557218173783",
         "2024-09-15 23:59:59+00:00"
        ],
        [
         "10",
         "0xe3AE2Ab9AE8ADe1B4940dd893C9339401bEe61A1",
         "0x0A2b94F6871c1D7A32Fe58E1ab5e6deA2f114E56",
         "20759464",
         "1",
         "0.0",
         "balGyro",
         "ECLP-wstETH-cbETH",
         "balancer",
         "0.03561679766404712",
         "0.001599746028607304",
         "0.013625403063395538",
         "1.0196146114728866",
         "0.04868145791180222",
         "0.04728026698964525",
         "2024-09-15 23:59:59+00:00"
        ],
        [
         "11",
         "0x28109255F49f0A02BB31358B3e0b5cb7512EB4eC",
         "0x0A2b94F6871c1D7A32Fe58E1ab5e6deA2f114E56",
         "20759464",
         "1",
         null,
         "curveNG",
         "OETH/WETH",
         "curve",
         null,
         null,
         null,
         null,
         null,
         null,
         "2024-09-15 23:59:59+00:00"
        ],
        [
         "12",
         "0x92294A62D6D9F0FbE30Ba3B543edb1806561baD7",
         "0x0A2b94F6871c1D7A32Fe58E1ab5e6deA2f114E56",
         "20759464",
         "1",
         null,
         "balGyro",
         "ECLP-wstETH-cbETH",
         "balancer",
         null,
         null,
         null,
         "1.0196146114728866",
         null,
         null,
         "2024-09-15 23:59:59+00:00"
        ],
        [
         "13",
         "0x3F55eedDe51504E6Ed0ec30E8289b4Da11EdB7F9",
         "0x0A2b94F6871c1D7A32Fe58E1ab5e6deA2f114E56",
         "20759464",
         "1",
         null,
         "curveNG",
         "osETH-rETH",
         "curve",
         null,
         null,
         null,
         "1.0268715938608048",
         null,
         null,
         "2024-09-15 23:59:59+00:00"
        ],
        [
         "14",
         "0x003aD6a060a1082B7A6F85d24dDF9E9E196B8426",
         "0x0A2b94F6871c1D7A32Fe58E1ab5e6deA2f114E56",
         "20759464",
         "1",
         "0.0",
         "balGyro",
         "ECLP-wstETH-wETH",
         "balancer",
         "0.06163646301636226",
         "0.005401381356307192",
         "0.013756459966445023",
         "1.0226840479180355",
         "0.07485045036411372",
         "0.07463065803747826",
         "2024-09-15 23:59:59+00:00"
        ],
        [
         "15",
         "0x903F21CBC0cFd49817dB219Cd216325fD4132034",
         "0x0A2b94F6871c1D7A32Fe58E1ab5e6deA2f114E56",
         "20759464",
         "1",
         "0.0",
         "curveV1",
         "OETHCRV-f",
         "curve",
         null,
         null,
         null,
         "1.0013497016852129",
         null,
         null,
         "2024-09-15 23:59:59+00:00"
        ],
        [
         "16",
         "0xE93f9C1f6436c7dCb3FE094E13E58742E16ae848",
         "0x0A2b94F6871c1D7A32Fe58E1ab5e6deA2f114E56",
         "20759464",
         "1",
         "0.0",
         "curveV1",
         "ethx-f",
         "curve",
         "0.07956325442156945",
         "0.017957126188819755",
         "0.01965496264050822",
         "1.0251879699281194",
         "0.10990475186046138",
         "0.10921901780874047",
         "2024-09-15 23:59:59+00:00"
        ],
        [
         "17",
         "0x8cA2201BC34780f14Bca452913ecAc8e9928d4cA",
         "0x0A2b94F6871c1D7A32Fe58E1ab5e6deA2f114E56",
         "20759464",
         "1",
         "0.0",
         "balCompStable",
         "pxETH/wETH",
         "balancer",
         "0.036303999751337045",
         "7.4095525038152e-05",
         "0.0",
         "1.0010011397606238",
         "0.03393038176299099",
         "0.0327476953012415",
         "2024-09-15 23:59:59+00:00"
        ],
        [
         "18",
         "0x84844d8A8a13337b31CF01DC384c74C862FCd903",
         "0x0A2b94F6871c1D7A32Fe58E1ab5e6deA2f114E56",
         "20759464",
         "1",
         "0.0",
         "balCompStable",
         "wstETH-WETH-BPT",
         "balancer",
         "0.028233221139903848",
         "0.017227177698873403",
         "0.011515832598743683",
         "1.0305800140236288",
         "0.05433690227274834",
         "0.05415290932353054",
         "2024-09-15 23:59:59+00:00"
        ],
        [
         "19",
         "0x6a8C6ff78082a2ae494EB9291DdC7254117298Ff",
         "0x0A2b94F6871c1D7A32Fe58E1ab5e6deA2f114E56",
         "20759464",
         "1",
         "0.0",
         "curveNG",
         "wETHrETH",
         "curve",
         "0.07918233442695884",
         "0.010615385791068205",
         "0.01060069595626012",
         "1.0111720116234217",
         "0.0918921094544823",
         "0.0918921094544823",
         "2024-09-15 23:59:59+00:00"
        ],
        [
         "20",
         "0x5A4B544B9734930DDC587c9a2f093dC5058A4f4D",
         "0x0A2b94F6871c1D7A32Fe58E1ab5e6deA2f114E56",
         "20759464",
         "1",
         null,
         "balCompStable",
         "wstETH-WETH-BPT",
         "balancer",
         null,
         null,
         null,
         "1.0305800140236288",
         null,
         null,
         "2024-09-15 23:59:59+00:00"
        ],
        [
         "21",
         "0x013D82483C968cdbB4a8384754f5a5028b85dB6d",
         "0x0A2b94F6871c1D7A32Fe58E1ab5e6deA2f114E56",
         "20759464",
         "1",
         "0.0",
         "balCompStable",
         "osETH/wETH-BPT",
         "balancer",
         "0.02600288534093788",
         "0.000322643065399232",
         "0.011619577989044762",
         "1.0122423702939323",
         "0.03452833042047235",
         "0.03452833042047235",
         "2024-09-15 23:59:59+00:00"
        ],
        [
         "22",
         "0x25cb41919d6B88e0D48108A4F5fe8FBb3744aFE1",
         "0x0A2b94F6871c1D7A32Fe58E1ab5e6deA2f114E56",
         "20759464",
         "1",
         "0.0",
         "balCompStable",
         "wstETH-WETH-BPT",
         "balancer",
         "0.028233221139903848",
         "0.017227177698873403",
         "0.011515832598743683",
         "1.0305800140236288",
         "0.05433690227274834",
         "0.05415290932353054",
         "2024-09-15 23:59:59+00:00"
        ],
        [
         "23",
         "0xd96E943098B2AE81155e98D7DC8BeaB34C539f01",
         "0x0A2b94F6871c1D7A32Fe58E1ab5e6deA2f114E56",
         "20759464",
         "1",
         "0.0",
         "curveNG",
         "pxsteth",
         "curve",
         "0.08324096373718955",
         "0.000370677378103203",
         "0.01236989330778646",
         "1.0081971982410278",
         "0.08880772316579162",
         "0.08765743804936026",
         "2024-09-15 23:59:59+00:00"
        ],
        [
         "24",
         "0x5c6aeb9ef0d5BbA4E6691f381003503FD0D45126",
         "0x0A2b94F6871c1D7A32Fe58E1ab5e6deA2f114E56",
         "20759464",
         "1",
         null,
         "curveNG",
         "weeth-ng",
         "curve",
         null,
         null,
         null,
         "1.0247925100430852",
         null,
         null,
         "2024-09-15 23:59:59+00:00"
        ],
        [
         "25",
         "0xbA1462f43c6f60ebD1C62735c94E428aD073E01A",
         "0x0A2b94F6871c1D7A32Fe58E1ab5e6deA2f114E56",
         "20759464",
         "1",
         null,
         "curveNG",
         "pxethweth",
         "curve",
         null,
         null,
         null,
         "0.9993018617483526",
         null,
         null,
         "2024-09-15 23:59:59+00:00"
        ],
        [
         "26",
         "0x4F4bE87cFe874db2e248A787669a0D6E77f1F149",
         "0x0A2b94F6871c1D7A32Fe58E1ab5e6deA2f114E56",
         "20759464",
         "1",
         "0.0",
         "balGyro",
         "ECLP-wstETH-cbETH",
         "balancer",
         "0.03561679766404712",
         "0.001599746028607304",
         "0.013625403063395538",
         "1.0196146114728866",
         "0.04868145791180222",
         "0.04728026698964525",
         "2024-09-15 23:59:59+00:00"
        ],
        [
         "27",
         "0x865e59D439BF7310c9BC6117E6020B8C87De4065",
         "0x0A2b94F6871c1D7A32Fe58E1ab5e6deA2f114E56",
         "20759464",
         "1",
         "0.0",
         "balCompStable",
         "osETH/wETH-BPT",
         "balancer",
         "0.02600288534093788",
         "0.000322643065399232",
         "0.011619577989044762",
         "1.0122423702939323",
         "0.03452833042047235",
         "0.03452833042047235",
         "2024-09-15 23:59:59+00:00"
        ],
        [
         "28",
         "0x2B08137BeABd2454AD3631DEB754F97C5c93eB78",
         "0x0A2b94F6871c1D7A32Fe58E1ab5e6deA2f114E56",
         "20759464",
         "1",
         null,
         "curveNG",
         "wETHrETH",
         "curve",
         null,
         null,
         null,
         "1.0111720116234217",
         null,
         null,
         "2024-09-15 23:59:59+00:00"
        ],
        [
         "29",
         "0x40219bBda953ca811d2D0168Dc806a96b84791d9",
         "0x0A2b94F6871c1D7A32Fe58E1ab5e6deA2f114E56",
         "20759464",
         "1",
         null,
         "balCompStable",
         "weETH/rETH",
         "balancer",
         null,
         null,
         null,
         "1.0194006022145297",
         null,
         null,
         "2024-09-15 23:59:59+00:00"
        ],
        [
         "30",
         "0x5593882d517886D190F47967168D2d68D8960F48",
         "0x0A2b94F6871c1D7A32Fe58E1ab5e6deA2f114E56",
         "20759464",
         "1",
         "0.0",
         "balCompStable",
         "pxETH/wETH",
         "balancer",
         "0.036303999751337045",
         "7.4095525038152e-05",
         "0.0",
         "1.0010011397606238",
         "0.03393038176299099",
         "0.0327476953012415",
         "2024-09-15 23:59:59+00:00"
        ],
        [
         "31",
         "0x5Ff56531f92f1e3f2bE616760F05e35caE630D91",
         "0x0A2b94F6871c1D7A32Fe58E1ab5e6deA2f114E56",
         "20759464",
         "1",
         "0.0",
         "curveNG",
         "wETHrETH",
         "curve",
         "0.07918233442695884",
         "0.010615385791068205",
         "0.01060069595626012",
         "1.0111720116234217",
         "0.0918921094544823",
         "0.0918921094544823",
         "2024-09-15 23:59:59+00:00"
        ],
        [
         "32",
         "0xfB6f99FdF12E37Bfe3c4Cf81067faB10c465fb24",
         "0x0A2b94F6871c1D7A32Fe58E1ab5e6deA2f114E56",
         "20759464",
         "1",
         "0.0",
         "balCompStable",
         "ETHx/wstETH",
         "balancer",
         "0.09791455194135701",
         "0.008546480944746469",
         "0.014290337407373637",
         "1.0103548675552536",
         "0.11162005428932258",
         "0.1109599150993414",
         "2024-09-15 23:59:59+00:00"
        ],
        [
         "33",
         "0xE382BBd32C4E202185762eA433278f4ED9E6151E",
         "0x0A2b94F6871c1D7A32Fe58E1ab5e6deA2f114E56",
         "20759464",
         "1",
         "0.0",
         "curveNG",
         "pxethweth",
         "curve",
         "0.11481895064216327",
         "0.001477891120182434",
         "0.0",
         "0.9993018617483526",
         "0.10593966565372127",
         "0.10481494669812938",
         "2024-09-15 23:59:59+00:00"
        ],
        [
         "34",
         "0x1E581AD9ef141C3037991806383B7990c1f68312",
         "0x0A2b94F6871c1D7A32Fe58E1ab5e6deA2f114E56",
         "20759464",
         "1",
         "0.0",
         "balMetaStable",
         "B-rETH-STABLE",
         "balancer",
         "0.04123494627070868",
         "0.003997440378099023",
         "0.005817494848626641",
         "1.0365229481280955",
         "0.04628093618027437",
         "0.04628093618027437",
         "2024-09-15 23:59:59+00:00"
        ],
        [
         "35",
         "0xC001f23397dB71B17602Ce7D90a983Edc38DB0d1",
         "0x0A2b94F6871c1D7A32Fe58E1ab5e6deA2f114E56",
         "20759464",
         "1",
         "0.0",
         "curveV1",
         "ethx-f",
         "curve",
         "0.07956325442156945",
         "0.017957126188819755",
         "0.01965496264050822",
         "1.0251879699281194",
         "0.10990475186046138",
         "0.10921901780874047",
         "2024-09-15 23:59:59+00:00"
        ],
        [
         "36",
         "0x867991C7737Ccbb152aE5a7E6EDB05cA0670717E",
         "0x0A2b94F6871c1D7A32Fe58E1ab5e6deA2f114E56",
         "20759464",
         "1",
         null,
         "balMetaStable",
         "B-rETH-STABLE",
         "balancer",
         null,
         null,
         null,
         "1.0365229481280955",
         null,
         null,
         "2024-09-15 23:59:59+00:00"
        ],
        [
         "37",
         "0x0A2b94F6871c1D7A32Fe58E1ab5e6deA2f114E56",
         "0x0A2b94F6871c1D7A32Fe58E1ab5e6deA2f114E56",
         "20759464",
         "1",
         "0.23994860869514073",
         "idle",
         "autoETH",
         "tokemak",
         "0.0",
         "0.0",
         "0.0",
         "1.0",
         "0.0",
         "0.0",
         "2024-09-15 23:59:59+00:00"
        ],
        [
         "38",
         "0x3772973f8F399D74488D5cF3276C032E0afC8A6f",
         "0x0A2b94F6871c1D7A32Fe58E1ab5e6deA2f114E56",
         "20759464",
         "1",
         null,
         "curveV1",
         "OETHCRV-f",
         "curve",
         null,
         null,
         null,
         "1.0013497016852129",
         null,
         null,
         "2024-09-15 23:59:59+00:00"
        ],
        [
         "39",
         "0xf3ae3c74EaD129e770A864CeE291A805b170bBe0",
         "0x0A2b94F6871c1D7A32Fe58E1ab5e6deA2f114E56",
         "20759464",
         "1",
         "0.0",
         "balMetaStable",
         "B-rETH-STABLE",
         "balancer",
         "0.04123494627070868",
         "0.003997440378099023",
         "0.005817494848626641",
         "1.0365229481280955",
         "0.04628093618027437",
         "0.04628093618027437",
         "2024-09-15 23:59:59+00:00"
        ],
        [
         "40",
         "0x1Ea622fa030e4a78F4CC2f305dd3c08DA3F08573",
         "0x0A2b94F6871c1D7A32Fe58E1ab5e6deA2f114E56",
         "20759464",
         "1",
         null,
         "curveV1",
         "ethx-f",
         "curve",
         null,
         null,
         null,
         "1.0251879699281194",
         null,
         null,
         "2024-09-15 23:59:59+00:00"
        ],
        [
         "41",
         "0x6DcB6797b1C0442587c2ad79745ef7BB487Fc2E2",
         "0x0A2b94F6871c1D7A32Fe58E1ab5e6deA2f114E56",
         "20759464",
         "1",
         "0.0",
         "balGyro",
         "ECLP-wstETH-wETH",
         "balancer",
         "0.06163646301636226",
         "0.005401381356307192",
         "0.013756459966445023",
         "1.0226840479180355",
         "0.07485045036411372",
         "0.07463065803747826",
         "2024-09-15 23:59:59+00:00"
        ],
        [
         "42",
         "0xc4Eb861e7b66f593482a3D7E8adc314f6eEDA30B",
         "0x0A2b94F6871c1D7A32Fe58E1ab5e6deA2f114E56",
         "20759464",
         "1",
         null,
         "balCompStable",
         "pxETH/wETH",
         "balancer",
         null,
         null,
         null,
         "1.0010011397606238",
         null,
         null,
         "2024-09-15 23:59:59+00:00"
        ],
        [
         "43",
         "0xA1b9297525388BA3985413D982863f31e2A29d05",
         "0x0A2b94F6871c1D7A32Fe58E1ab5e6deA2f114E56",
         "20759464",
         "1",
         null,
         "balGyro",
         "ECLP-wstETH-wETH",
         "balancer",
         null,
         null,
         null,
         "1.0226840479180355",
         null,
         null,
         "2024-09-15 23:59:59+00:00"
        ],
        [
         "44",
         "0xFDa49984eb4eA4075b8b451032849347C633E94b",
         "0x0A2b94F6871c1D7A32Fe58E1ab5e6deA2f114E56",
         "20759464",
         "1",
         null,
         "balCompStable",
         "osETH/wETH-BPT",
         "balancer",
         null,
         null,
         null,
         "1.0122423702939323",
         null,
         null,
         "2024-09-15 23:59:59+00:00"
        ],
        [
         "45",
         "0x003aD6a060a1082B7A6F85d24dDF9E9E196B8426",
         "0x0A2b94F6871c1D7A32Fe58E1ab5e6deA2f114E56",
         "20766617",
         "1",
         "0.0",
         "balGyro",
         "ECLP-wstETH-wETH",
         "balancer",
         "0.06157785825259493",
         "0.005094854870668397",
         "0.014155749205387144",
         "1.0226216792777423",
         "0.07498132758271392",
         "0.07467067650339097",
         "2024-09-16 23:59:59+00:00"
        ],
        [
         "46",
         "0x6a8C6ff78082a2ae494EB9291DdC7254117298Ff",
         "0x0A2b94F6871c1D7A32Fe58E1ab5e6deA2f114E56",
         "20766617",
         "1",
         "0.0",
         "curveNG",
         "wETHrETH",
         "curve",
         "0.0791178719066596",
         "0.010639936449823905",
         "0.010486102466629288",
         "1.010867715572465",
         "0.09208109866265131",
         "0.09208109866265131",
         "2024-09-16 23:59:59+00:00"
        ],
        [
         "47",
         "0x896eCc16Ab4AFfF6cE0765A5B924BaECd7Fa455a",
         "0x0A2b94F6871c1D7A32Fe58E1ab5e6deA2f114E56",
         "20766617",
         "1",
         "0.0",
         "curveNG",
         "osETH-rETH",
         "curve",
         "0.0",
         "0.02798946528107811",
         "0.026386464840585384",
         "1.026540183819254",
         "0.053101146147632075",
         "0.053101146147632075",
         "2024-09-16 23:59:59+00:00"
        ],
        [
         "48",
         "0xfB6f99FdF12E37Bfe3c4Cf81067faB10c465fb24",
         "0x0A2b94F6871c1D7A32Fe58E1ab5e6deA2f114E56",
         "20766617",
         "1",
         "0.0",
         "balCompStable",
         "ETHx/wstETH",
         "balancer",
         "0.08755584934528232",
         "0.010115562078863565",
         "0.01427354825984492",
         "1.0100713339452412",
         "0.10414826763197037",
         "0.10318937474946258",
         "2024-09-16 23:59:59+00:00"
        ],
        [
         "49",
         "0xe4433D00Cf48BFE0C672d9949F2cd2c008bffC04",
         "0x0A2b94F6871c1D7A32Fe58E1ab5e6deA2f114E56",
         "20766617",
         "1",
         null,
         "curveNG",
         "pxsteth",
         "curve",
         null,
         null,
         null,
         "1.007897939403972",
         null,
         null,
         "2024-09-16 23:59:59+00:00"
        ]
       ],
       "shape": {
        "columns": 15,
        "rows": 10935
       }
      },
      "text/html": [
       "<div>\n",
       "<style scoped>\n",
       "    .dataframe tbody tr th:only-of-type {\n",
       "        vertical-align: middle;\n",
       "    }\n",
       "\n",
       "    .dataframe tbody tr th {\n",
       "        vertical-align: top;\n",
       "    }\n",
       "\n",
       "    .dataframe thead th {\n",
       "        text-align: right;\n",
       "    }\n",
       "</style>\n",
       "<table border=\"1\" class=\"dataframe\">\n",
       "  <thead>\n",
       "    <tr style=\"text-align: right;\">\n",
       "      <th></th>\n",
       "      <th>destination_vault_address</th>\n",
       "      <th>autopool_vault_address</th>\n",
       "      <th>block</th>\n",
       "      <th>chain_id</th>\n",
       "      <th>owned_shares</th>\n",
       "      <th>pool_type</th>\n",
       "      <th>underlying_symbol</th>\n",
       "      <th>exchange_name</th>\n",
       "      <th>incentive_apr</th>\n",
       "      <th>fee_apr</th>\n",
       "      <th>base_apr</th>\n",
       "      <th>lp_token_safe_price</th>\n",
       "      <th>total_apr_out</th>\n",
       "      <th>total_apr_in</th>\n",
       "      <th>datetime</th>\n",
       "    </tr>\n",
       "  </thead>\n",
       "  <tbody>\n",
       "    <tr>\n",
       "      <th>0</th>\n",
       "      <td>0x49895f72fd9d0BF6BBb485C70CE38556de62b070</td>\n",
       "      <td>0x0A2b94F6871c1D7A32Fe58E1ab5e6deA2f114E56</td>\n",
       "      <td>20759464</td>\n",
       "      <td>1</td>\n",
       "      <td>0.000000</td>\n",
       "      <td>curveNG</td>\n",
       "      <td>osETH-rETH</td>\n",
       "      <td>curve</td>\n",
       "      <td>0.000000</td>\n",
       "      <td>0.028268</td>\n",
       "      <td>0.026397</td>\n",
       "      <td>1.026872</td>\n",
       "      <td>0.052995</td>\n",
       "      <td>0.052995</td>\n",
       "      <td>2024-09-15 23:59:59+00:00</td>\n",
       "    </tr>\n",
       "    <tr>\n",
       "      <th>1</th>\n",
       "      <td>0xaD70ed6A904d38acD0BbE2D922279149cFEDb190</td>\n",
       "      <td>0x0A2b94F6871c1D7A32Fe58E1ab5e6deA2f114E56</td>\n",
       "      <td>20759464</td>\n",
       "      <td>1</td>\n",
       "      <td>0.000000</td>\n",
       "      <td>curveV1</td>\n",
       "      <td>frxeth-ng-f</td>\n",
       "      <td>curve</td>\n",
       "      <td>0.027456</td>\n",
       "      <td>0.002013</td>\n",
       "      <td>0.000000</td>\n",
       "      <td>1.001118</td>\n",
       "      <td>0.027233</td>\n",
       "      <td>0.026724</td>\n",
       "      <td>2024-09-15 23:59:59+00:00</td>\n",
       "    </tr>\n",
       "    <tr>\n",
       "      <th>2</th>\n",
       "      <td>0xdfE3fA7027E84f59b266459C567278C79fe86f0C</td>\n",
       "      <td>0x0A2b94F6871c1D7A32Fe58E1ab5e6deA2f114E56</td>\n",
       "      <td>20759464</td>\n",
       "      <td>1</td>\n",
       "      <td>NaN</td>\n",
       "      <td>balCompStable</td>\n",
       "      <td>ETHx/wstETH</td>\n",
       "      <td>balancer</td>\n",
       "      <td>NaN</td>\n",
       "      <td>NaN</td>\n",
       "      <td>NaN</td>\n",
       "      <td>1.010355</td>\n",
       "      <td>NaN</td>\n",
       "      <td>NaN</td>\n",
       "      <td>2024-09-15 23:59:59+00:00</td>\n",
       "    </tr>\n",
       "    <tr>\n",
       "      <th>3</th>\n",
       "      <td>0xB84c580c005A5F633C8CF6eecAf5b0a8314EC5c4</td>\n",
       "      <td>0x0A2b94F6871c1D7A32Fe58E1ab5e6deA2f114E56</td>\n",
       "      <td>20759464</td>\n",
       "      <td>1</td>\n",
       "      <td>0.000000</td>\n",
       "      <td>curveNG</td>\n",
       "      <td>pxsteth</td>\n",
       "      <td>curve</td>\n",
       "      <td>0.083241</td>\n",
       "      <td>0.000371</td>\n",
       "      <td>0.012370</td>\n",
       "      <td>1.008197</td>\n",
       "      <td>0.088808</td>\n",
       "      <td>0.087657</td>\n",
       "      <td>2024-09-15 23:59:59+00:00</td>\n",
       "    </tr>\n",
       "    <tr>\n",
       "      <th>4</th>\n",
       "      <td>0x84083bdcbF44960f0745dd0b794F426568D762b2</td>\n",
       "      <td>0x0A2b94F6871c1D7A32Fe58E1ab5e6deA2f114E56</td>\n",
       "      <td>20759464</td>\n",
       "      <td>1</td>\n",
       "      <td>0.000000</td>\n",
       "      <td>curveNG</td>\n",
       "      <td>pxethweth</td>\n",
       "      <td>curve</td>\n",
       "      <td>0.114819</td>\n",
       "      <td>0.001478</td>\n",
       "      <td>0.000000</td>\n",
       "      <td>0.999302</td>\n",
       "      <td>0.105940</td>\n",
       "      <td>0.104815</td>\n",
       "      <td>2024-09-15 23:59:59+00:00</td>\n",
       "    </tr>\n",
       "    <tr>\n",
       "      <th>...</th>\n",
       "      <td>...</td>\n",
       "      <td>...</td>\n",
       "      <td>...</td>\n",
       "      <td>...</td>\n",
       "      <td>...</td>\n",
       "      <td>...</td>\n",
       "      <td>...</td>\n",
       "      <td>...</td>\n",
       "      <td>...</td>\n",
       "      <td>...</td>\n",
       "      <td>...</td>\n",
       "      <td>...</td>\n",
       "      <td>...</td>\n",
       "      <td>...</td>\n",
       "      <td>...</td>\n",
       "    </tr>\n",
       "    <tr>\n",
       "      <th>10930</th>\n",
       "      <td>0x6a8C6ff78082a2ae494EB9291DdC7254117298Ff</td>\n",
       "      <td>0x0A2b94F6871c1D7A32Fe58E1ab5e6deA2f114E56</td>\n",
       "      <td>22491938</td>\n",
       "      <td>1</td>\n",
       "      <td>0.000000</td>\n",
       "      <td>curveNG</td>\n",
       "      <td>wETHrETH</td>\n",
       "      <td>curve</td>\n",
       "      <td>0.037057</td>\n",
       "      <td>0.017865</td>\n",
       "      <td>0.013955</td>\n",
       "      <td>1.023675</td>\n",
       "      <td>0.065523</td>\n",
       "      <td>0.065171</td>\n",
       "      <td>2025-05-15 23:59:59+00:00</td>\n",
       "    </tr>\n",
       "    <tr>\n",
       "      <th>10931</th>\n",
       "      <td>0x2899143298FECa3a36DAfDDcddAF167f1D673254</td>\n",
       "      <td>0x0A2b94F6871c1D7A32Fe58E1ab5e6deA2f114E56</td>\n",
       "      <td>22491938</td>\n",
       "      <td>1</td>\n",
       "      <td>0.000000</td>\n",
       "      <td>balCompStable</td>\n",
       "      <td>ETHx/wstETH</td>\n",
       "      <td>balancer</td>\n",
       "      <td>0.096677</td>\n",
       "      <td>0.007136</td>\n",
       "      <td>0.014112</td>\n",
       "      <td>1.025327</td>\n",
       "      <td>0.108854</td>\n",
       "      <td>0.108257</td>\n",
       "      <td>2025-05-15 23:59:59+00:00</td>\n",
       "    </tr>\n",
       "    <tr>\n",
       "      <th>10932</th>\n",
       "      <td>0x2B08137BeABd2454AD3631DEB754F97C5c93eB78</td>\n",
       "      <td>0x0A2b94F6871c1D7A32Fe58E1ab5e6deA2f114E56</td>\n",
       "      <td>22491938</td>\n",
       "      <td>1</td>\n",
       "      <td>0.000000</td>\n",
       "      <td>curveNG</td>\n",
       "      <td>wETHrETH</td>\n",
       "      <td>curve</td>\n",
       "      <td>0.037057</td>\n",
       "      <td>0.017865</td>\n",
       "      <td>0.013955</td>\n",
       "      <td>1.023675</td>\n",
       "      <td>0.065523</td>\n",
       "      <td>0.065171</td>\n",
       "      <td>2025-05-15 23:59:59+00:00</td>\n",
       "    </tr>\n",
       "    <tr>\n",
       "      <th>10933</th>\n",
       "      <td>0x1Ea622fa030e4a78F4CC2f305dd3c08DA3F08573</td>\n",
       "      <td>0x0A2b94F6871c1D7A32Fe58E1ab5e6deA2f114E56</td>\n",
       "      <td>22491938</td>\n",
       "      <td>1</td>\n",
       "      <td>1650.286018</td>\n",
       "      <td>curveV1</td>\n",
       "      <td>ethx-f</td>\n",
       "      <td>curve</td>\n",
       "      <td>0.052725</td>\n",
       "      <td>0.019213</td>\n",
       "      <td>0.016622</td>\n",
       "      <td>1.040758</td>\n",
       "      <td>0.083680</td>\n",
       "      <td>0.083288</td>\n",
       "      <td>2025-05-15 23:59:59+00:00</td>\n",
       "    </tr>\n",
       "    <tr>\n",
       "      <th>10934</th>\n",
       "      <td>0x896eCc16Ab4AFfF6cE0765A5B924BaECd7Fa455a</td>\n",
       "      <td>0x0A2b94F6871c1D7A32Fe58E1ab5e6deA2f114E56</td>\n",
       "      <td>22491938</td>\n",
       "      <td>1</td>\n",
       "      <td>0.000000</td>\n",
       "      <td>curveNG</td>\n",
       "      <td>osETH-rETH</td>\n",
       "      <td>curve</td>\n",
       "      <td>0.000000</td>\n",
       "      <td>0.000000</td>\n",
       "      <td>0.000000</td>\n",
       "      <td>1.043641</td>\n",
       "      <td>0.000000</td>\n",
       "      <td>0.000000</td>\n",
       "      <td>2025-05-15 23:59:59+00:00</td>\n",
       "    </tr>\n",
       "  </tbody>\n",
       "</table>\n",
       "<p>10935 rows × 15 columns</p>\n",
       "</div>"
      ],
      "text/plain": [
       "                        destination_vault_address  \\\n",
       "0      0x49895f72fd9d0BF6BBb485C70CE38556de62b070   \n",
       "1      0xaD70ed6A904d38acD0BbE2D922279149cFEDb190   \n",
       "2      0xdfE3fA7027E84f59b266459C567278C79fe86f0C   \n",
       "3      0xB84c580c005A5F633C8CF6eecAf5b0a8314EC5c4   \n",
       "4      0x84083bdcbF44960f0745dd0b794F426568D762b2   \n",
       "...                                           ...   \n",
       "10930  0x6a8C6ff78082a2ae494EB9291DdC7254117298Ff   \n",
       "10931  0x2899143298FECa3a36DAfDDcddAF167f1D673254   \n",
       "10932  0x2B08137BeABd2454AD3631DEB754F97C5c93eB78   \n",
       "10933  0x1Ea622fa030e4a78F4CC2f305dd3c08DA3F08573   \n",
       "10934  0x896eCc16Ab4AFfF6cE0765A5B924BaECd7Fa455a   \n",
       "\n",
       "                           autopool_vault_address     block  chain_id  \\\n",
       "0      0x0A2b94F6871c1D7A32Fe58E1ab5e6deA2f114E56  20759464         1   \n",
       "1      0x0A2b94F6871c1D7A32Fe58E1ab5e6deA2f114E56  20759464         1   \n",
       "2      0x0A2b94F6871c1D7A32Fe58E1ab5e6deA2f114E56  20759464         1   \n",
       "3      0x0A2b94F6871c1D7A32Fe58E1ab5e6deA2f114E56  20759464         1   \n",
       "4      0x0A2b94F6871c1D7A32Fe58E1ab5e6deA2f114E56  20759464         1   \n",
       "...                                           ...       ...       ...   \n",
       "10930  0x0A2b94F6871c1D7A32Fe58E1ab5e6deA2f114E56  22491938         1   \n",
       "10931  0x0A2b94F6871c1D7A32Fe58E1ab5e6deA2f114E56  22491938         1   \n",
       "10932  0x0A2b94F6871c1D7A32Fe58E1ab5e6deA2f114E56  22491938         1   \n",
       "10933  0x0A2b94F6871c1D7A32Fe58E1ab5e6deA2f114E56  22491938         1   \n",
       "10934  0x0A2b94F6871c1D7A32Fe58E1ab5e6deA2f114E56  22491938         1   \n",
       "\n",
       "       owned_shares      pool_type underlying_symbol exchange_name  \\\n",
       "0          0.000000        curveNG        osETH-rETH         curve   \n",
       "1          0.000000        curveV1       frxeth-ng-f         curve   \n",
       "2               NaN  balCompStable       ETHx/wstETH      balancer   \n",
       "3          0.000000        curveNG           pxsteth         curve   \n",
       "4          0.000000        curveNG         pxethweth         curve   \n",
       "...             ...            ...               ...           ...   \n",
       "10930      0.000000        curveNG          wETHrETH         curve   \n",
       "10931      0.000000  balCompStable       ETHx/wstETH      balancer   \n",
       "10932      0.000000        curveNG          wETHrETH         curve   \n",
       "10933   1650.286018        curveV1            ethx-f         curve   \n",
       "10934      0.000000        curveNG        osETH-rETH         curve   \n",
       "\n",
       "       incentive_apr   fee_apr  base_apr  lp_token_safe_price  total_apr_out  \\\n",
       "0           0.000000  0.028268  0.026397             1.026872       0.052995   \n",
       "1           0.027456  0.002013  0.000000             1.001118       0.027233   \n",
       "2                NaN       NaN       NaN             1.010355            NaN   \n",
       "3           0.083241  0.000371  0.012370             1.008197       0.088808   \n",
       "4           0.114819  0.001478  0.000000             0.999302       0.105940   \n",
       "...              ...       ...       ...                  ...            ...   \n",
       "10930       0.037057  0.017865  0.013955             1.023675       0.065523   \n",
       "10931       0.096677  0.007136  0.014112             1.025327       0.108854   \n",
       "10932       0.037057  0.017865  0.013955             1.023675       0.065523   \n",
       "10933       0.052725  0.019213  0.016622             1.040758       0.083680   \n",
       "10934       0.000000  0.000000  0.000000             1.043641       0.000000   \n",
       "\n",
       "       total_apr_in                  datetime  \n",
       "0          0.052995 2024-09-15 23:59:59+00:00  \n",
       "1          0.026724 2024-09-15 23:59:59+00:00  \n",
       "2               NaN 2024-09-15 23:59:59+00:00  \n",
       "3          0.087657 2024-09-15 23:59:59+00:00  \n",
       "4          0.104815 2024-09-15 23:59:59+00:00  \n",
       "...             ...                       ...  \n",
       "10930      0.065171 2025-05-15 23:59:59+00:00  \n",
       "10931      0.108257 2025-05-15 23:59:59+00:00  \n",
       "10932      0.065171 2025-05-15 23:59:59+00:00  \n",
       "10933      0.083288 2025-05-15 23:59:59+00:00  \n",
       "10934      0.000000 2025-05-15 23:59:59+00:00  \n",
       "\n",
       "[10935 rows x 15 columns]"
      ]
     },
     "execution_count": 1,
     "metadata": {},
     "output_type": "execute_result"
    }
   ],
   "source": [
    "import plotly.express as px\n",
    "import plotly.graph_objects as go\n",
    "import pandas as pd\n",
    "import streamlit as st\n",
    "import numpy as np\n",
    "import psutil\n",
    "\n",
    "from mainnet_launch.constants import AutopoolConstants\n",
    "\n",
    "from mainnet_launch.database.schema.full import (\n",
    "    AutopoolStates,\n",
    "    Blocks,\n",
    "    DestinationStates,\n",
    "    Destinations,\n",
    "    AutopoolDestinationStates,\n",
    "    DestinationTokenValues,\n",
    "    TokenValues,\n",
    "    Tokens,\n",
    ")\n",
    "from mainnet_launch.database.schema.postgres_operations import (\n",
    "    merge_tables_as_df,\n",
    "    TableSelector,\n",
    ")\n",
    "from mainnet_launch.data_fetching.get_state_by_block import build_blocks_to_use\n",
    "\n",
    "\n",
    "def fetch_nav_per_share_and_total_nav(autopool: AutopoolConstants) -> pd.DataFrame:\n",
    "    nav_per_share_df = merge_tables_as_df(\n",
    "        [\n",
    "            TableSelector(\n",
    "                table=AutopoolStates,\n",
    "                select_fields=[AutopoolStates.nav_per_share, AutopoolStates.total_nav],\n",
    "                join_on=None,\n",
    "                row_filter=(AutopoolStates.autopool_vault_address == autopool.autopool_eth_addr),\n",
    "            ),\n",
    "            TableSelector(\n",
    "                table=Blocks,\n",
    "                select_fields=Blocks.datetime,\n",
    "                join_on=(AutopoolStates.chain_id == Blocks.chain_id) & (AutopoolStates.block == Blocks.block),\n",
    "            ),\n",
    "        ],\n",
    "        where_clause=Blocks.block.in_(build_blocks_to_use(autopool.chain)),\n",
    "        order_by=Blocks.datetime,\n",
    "    )\n",
    "    nav_per_share_df = nav_per_share_df.set_index(\"datetime\")\n",
    "    nav_per_share_df.columns = [autopool.name, autopool.name + \"total_nav\"]\n",
    "\n",
    "    nav_per_share_df[\"30_day_difference\"] = nav_per_share_df[autopool.name].diff(periods=30)\n",
    "    nav_per_share_df[\"30_day_annualized_return\"] = (\n",
    "        (nav_per_share_df[\"30_day_difference\"] / nav_per_share_df[autopool.name].shift(30)) * (365 / 30) * 100\n",
    "    )\n",
    "    nav_per_share_df[\"7_day_difference\"] = nav_per_share_df[autopool.name].diff(periods=7)\n",
    "    nav_per_share_df[\"7_day_annualized_return\"] = (\n",
    "        (nav_per_share_df[\"7_day_difference\"] / nav_per_share_df[autopool.name].shift(7)) * (365 / 7) * 100\n",
    "    )\n",
    "    nav_per_share_df[\"daily_return\"] = nav_per_share_df[autopool.name].pct_change()\n",
    "    nav_per_share_df[\"7_day_MA_return\"] = nav_per_share_df[\"daily_return\"].rolling(window=7).mean()\n",
    "    nav_per_share_df[\"7_day_MA_annualized_return\"] = nav_per_share_df[\"7_day_MA_return\"] * 365 * 100\n",
    "    nav_per_share_df[\"30_day_MA_return\"] = nav_per_share_df[\"daily_return\"].rolling(window=30).mean()\n",
    "    nav_per_share_df[\"30_day_MA_annualized_return\"] = nav_per_share_df[\"30_day_MA_return\"] * 365 * 100\n",
    "    return nav_per_share_df\n",
    "\n",
    "\n",
    "def fetch_key_metrics_data(autopool: AutopoolConstants):\n",
    "    nav_per_share_df = fetch_nav_per_share_and_total_nav(autopool)\n",
    "\n",
    "    destination_state_df = merge_tables_as_df(\n",
    "        selectors=[\n",
    "            TableSelector(\n",
    "                table=AutopoolDestinationStates,\n",
    "            ),\n",
    "            TableSelector(\n",
    "                table=Destinations,\n",
    "                join_on=(\n",
    "                    (Destinations.destination_vault_address == AutopoolDestinationStates.destination_vault_address)\n",
    "                    & (Destinations.chain_id == AutopoolDestinationStates.chain_id)\n",
    "                ),\n",
    "                select_fields=[Destinations.pool_type, Destinations.underlying_symbol, Destinations.exchange_name],\n",
    "            ),\n",
    "            TableSelector(\n",
    "                table=DestinationStates,\n",
    "                select_fields=[\n",
    "                    DestinationStates.incentive_apr,\n",
    "                    DestinationStates.fee_apr,\n",
    "                    DestinationStates.base_apr,\n",
    "                    DestinationStates.lp_token_safe_price,\n",
    "                    DestinationStates.total_apr_out,\n",
    "                    DestinationStates.total_apr_in,\n",
    "                ],\n",
    "                join_on=(\n",
    "                    (AutopoolDestinationStates.destination_vault_address == DestinationStates.destination_vault_address)\n",
    "                    & (AutopoolDestinationStates.chain_id == DestinationStates.chain_id)\n",
    "                    & (AutopoolDestinationStates.block == DestinationStates.block)\n",
    "                ),\n",
    "            ),\n",
    "            TableSelector(\n",
    "                table=Blocks,\n",
    "                join_on=(\n",
    "                    (AutopoolDestinationStates.block == Blocks.block)\n",
    "                    & (AutopoolDestinationStates.chain_id == Blocks.chain_id)\n",
    "                ),\n",
    "                select_fields=[Blocks.datetime],\n",
    "            ),\n",
    "        ],\n",
    "        # your global filter (you can also push this into a per‑selector row_filter if you prefer)\n",
    "        where_clause=(\n",
    "            (AutopoolDestinationStates.autopool_vault_address == autopool.autopool_eth_addr)\n",
    "            & (DestinationStates.block.in_(build_blocks_to_use(autopool.chain)))\n",
    "        ),\n",
    "        order_by=Blocks.datetime,\n",
    "        order=\"asc\",\n",
    "    )\n",
    "\n",
    "    destination_state_df[\"unweighted_apr\"] = destination_state_df[[\"fee_apr\", \"base_apr\", \"incentive_apr\"]].sum(axis=1)\n",
    "\n",
    "    destination_state_df[\"safe_tvl_by_destination\"] = (\n",
    "        destination_state_df[\"lp_token_safe_price\"] * destination_state_df[\"owned_shares\"]\n",
    "    )\n",
    "    destination_state_df[\"unweighted_expected_apr\"] = 100 * (\n",
    "        destination_state_df[\"incentive_apr\"] + destination_state_df[\"base_apr\"] + destination_state_df[\"fee_apr\"]\n",
    "    )\n",
    "\n",
    "    destination_state_df[\"readable_name\"] = destination_state_df.apply(\n",
    "        lambda row: f\"{row['underlying_symbol']} ({row['exchange_name']})\", axis=1\n",
    "    )\n",
    "\n",
    "    # this is correct\n",
    "    safe_tvl_by_destination = (\n",
    "        destination_state_df.groupby([\"datetime\", \"readable_name\"])[[\"safe_tvl_by_destination\"]]\n",
    "        .sum()\n",
    "        .reset_index()\n",
    "        .pivot(values=\"safe_tvl_by_destination\", index=\"datetime\", columns=\"readable_name\")\n",
    "    )\n",
    "\n",
    "    total_safe_tvl_over_time = safe_tvl_by_destination.sum(axis=1)\n",
    "    portion_alloaction_by_destination_df = safe_tvl_by_destination.div(total_safe_tvl_over_time, axis=0)\n",
    "\n",
    "    max_apr_by_destination = (\n",
    "        destination_state_df.groupby([\"datetime\", \"readable_name\"])[[\"unweighted_expected_apr\"]]\n",
    "        .max()\n",
    "        .reset_index()\n",
    "        .pivot(values=\"unweighted_expected_apr\", index=\"datetime\", columns=\"readable_name\")\n",
    "    )\n",
    "    expected_return_series = (max_apr_by_destination * portion_alloaction_by_destination_df).sum(axis=1)\n",
    "\n",
    "    total_nav_series = nav_per_share_df[autopool.name + \"total nav\"]\n",
    "    return (\n",
    "        nav_per_share_df,\n",
    "        total_nav_series,\n",
    "        expected_return_series,\n",
    "    )\n",
    "\n",
    "\n",
    "from mainnet_launch.constants import AUTO_ETH, AUTO_USD\n",
    "import plotly.io as pio"
   ]
  },
  {
   "cell_type": "code",
   "execution_count": null,
   "metadata": {},
   "outputs": [],
   "source": []
  },
  {
   "cell_type": "code",
   "execution_count": null,
   "metadata": {},
   "outputs": [
    {
     "data": {
      "application/vnd.plotly.v1+json": {
       "config": {
        "plotlyServerURL": "https://plot.ly"
       },
       "data": [
        {
         "hovertemplate": "variable=0<br>datetime=%{x}<br>value=%{y}<extra></extra>",
         "legendgroup": "0",
         "line": {
          "color": "#636efa",
          "dash": "solid"
         },
         "marker": {
          "symbol": "circle"
         },
         "mode": "lines",
         "name": "0",
         "orientation": "v",
         "showlegend": true,
         "type": "scatter",
         "x": [
          "2024-09-15T23:59:59+00:00",
          "2024-09-16T23:59:59+00:00",
          "2024-09-17T23:59:59+00:00",
          "2024-09-18T23:59:59+00:00",
          "2024-09-19T23:59:59+00:00",
          "2024-09-20T23:59:59+00:00",
          "2024-09-21T23:59:59+00:00",
          "2024-09-22T23:59:59+00:00",
          "2024-09-23T23:59:59+00:00",
          "2024-09-24T23:59:59+00:00",
          "2024-09-25T23:59:59+00:00",
          "2024-09-26T23:59:59+00:00",
          "2024-09-27T23:59:59+00:00",
          "2024-09-28T23:59:59+00:00",
          "2024-09-29T23:59:59+00:00",
          "2024-09-30T23:59:59+00:00",
          "2024-10-01T23:59:59+00:00",
          "2024-10-02T23:59:59+00:00",
          "2024-10-03T23:59:59+00:00",
          "2024-10-04T23:59:59+00:00",
          "2024-10-05T23:59:59+00:00",
          "2024-10-06T23:59:59+00:00",
          "2024-10-07T23:59:59+00:00",
          "2024-10-08T23:59:59+00:00",
          "2024-10-09T23:59:59+00:00",
          "2024-10-10T23:59:59+00:00",
          "2024-10-11T23:59:59+00:00",
          "2024-10-12T23:59:59+00:00",
          "2024-10-13T23:59:59+00:00",
          "2024-10-14T23:59:59+00:00",
          "2024-10-15T23:59:59+00:00",
          "2024-10-16T23:59:59+00:00",
          "2024-10-17T23:59:59+00:00",
          "2024-10-18T23:59:59+00:00",
          "2024-10-19T23:59:59+00:00",
          "2024-10-20T23:59:59+00:00",
          "2024-10-21T23:59:59+00:00",
          "2024-10-22T23:59:59+00:00",
          "2024-10-23T23:59:59+00:00",
          "2024-10-24T23:59:59+00:00",
          "2024-10-25T23:59:59+00:00",
          "2024-10-26T23:59:59+00:00",
          "2024-10-27T23:59:59+00:00",
          "2024-10-28T23:59:59+00:00",
          "2024-10-29T23:59:59+00:00",
          "2024-10-30T23:59:59+00:00",
          "2024-10-31T23:59:59+00:00",
          "2024-11-01T23:59:59+00:00",
          "2024-11-02T23:59:59+00:00",
          "2024-11-03T23:59:59+00:00",
          "2024-11-04T23:59:59+00:00",
          "2024-11-05T23:59:59+00:00",
          "2024-11-06T23:59:59+00:00",
          "2024-11-07T23:59:59+00:00",
          "2024-11-08T23:59:59+00:00",
          "2024-11-09T23:59:59+00:00",
          "2024-11-10T23:59:59+00:00",
          "2024-11-11T23:59:59+00:00",
          "2024-11-12T23:59:59+00:00",
          "2024-11-13T23:59:59+00:00",
          "2024-11-14T23:59:59+00:00",
          "2024-11-15T23:59:59+00:00",
          "2024-11-16T23:59:59+00:00",
          "2024-11-17T23:59:59+00:00",
          "2024-11-18T23:59:59+00:00",
          "2024-11-19T23:59:59+00:00",
          "2024-11-20T23:59:59+00:00",
          "2024-11-21T23:59:59+00:00",
          "2024-11-22T23:59:59+00:00",
          "2024-11-23T23:59:59+00:00",
          "2024-11-24T23:59:59+00:00",
          "2024-11-25T23:59:59+00:00",
          "2024-11-26T23:59:59+00:00",
          "2024-11-27T23:59:59+00:00",
          "2024-11-28T23:59:59+00:00",
          "2024-11-29T23:59:59+00:00",
          "2024-11-30T23:59:59+00:00",
          "2024-12-01T23:59:59+00:00",
          "2024-12-02T23:59:59+00:00",
          "2024-12-03T23:59:59+00:00",
          "2024-12-04T23:59:59+00:00",
          "2024-12-05T23:59:59+00:00",
          "2024-12-06T23:59:59+00:00",
          "2024-12-07T23:59:59+00:00",
          "2024-12-08T23:59:59+00:00",
          "2024-12-09T23:59:59+00:00",
          "2024-12-10T23:59:59+00:00",
          "2024-12-11T23:59:59+00:00",
          "2024-12-12T23:59:59+00:00",
          "2024-12-13T23:59:59+00:00",
          "2024-12-14T23:59:59+00:00",
          "2024-12-15T23:59:59+00:00",
          "2024-12-16T23:59:59+00:00",
          "2024-12-17T23:59:59+00:00",
          "2024-12-18T23:59:59+00:00",
          "2024-12-19T23:59:59+00:00",
          "2024-12-20T23:59:59+00:00",
          "2024-12-21T23:59:59+00:00",
          "2024-12-22T23:59:59+00:00",
          "2024-12-23T23:59:59+00:00",
          "2024-12-24T23:59:59+00:00",
          "2024-12-25T23:59:59+00:00",
          "2024-12-26T23:59:59+00:00",
          "2024-12-27T23:59:59+00:00",
          "2024-12-28T23:59:59+00:00",
          "2024-12-29T23:59:59+00:00",
          "2024-12-30T23:59:59+00:00",
          "2024-12-31T23:59:59+00:00",
          "2025-01-01T23:59:59+00:00",
          "2025-01-02T23:59:59+00:00",
          "2025-01-03T23:59:59+00:00",
          "2025-01-04T23:59:47+00:00",
          "2025-01-05T23:59:59+00:00",
          "2025-01-06T23:59:59+00:00",
          "2025-01-07T23:59:59+00:00",
          "2025-01-08T23:59:59+00:00",
          "2025-01-09T23:59:59+00:00",
          "2025-01-10T23:59:59+00:00",
          "2025-01-11T23:59:59+00:00",
          "2025-01-12T23:59:59+00:00",
          "2025-01-13T23:59:59+00:00",
          "2025-01-14T23:59:59+00:00",
          "2025-01-15T23:59:59+00:00",
          "2025-01-16T23:59:59+00:00",
          "2025-01-17T23:59:59+00:00",
          "2025-01-18T23:59:59+00:00",
          "2025-01-19T23:59:59+00:00",
          "2025-01-20T23:59:59+00:00",
          "2025-01-21T23:59:59+00:00",
          "2025-01-22T23:59:59+00:00",
          "2025-01-23T23:59:59+00:00",
          "2025-01-24T23:59:59+00:00",
          "2025-01-25T23:59:59+00:00",
          "2025-01-26T23:59:59+00:00",
          "2025-01-27T23:59:59+00:00",
          "2025-01-28T23:59:59+00:00",
          "2025-01-29T23:59:59+00:00",
          "2025-01-30T23:59:59+00:00",
          "2025-01-31T23:59:59+00:00",
          "2025-02-01T23:59:59+00:00",
          "2025-02-02T23:59:59+00:00",
          "2025-02-03T23:59:59+00:00",
          "2025-02-04T23:59:59+00:00",
          "2025-02-05T23:59:59+00:00",
          "2025-02-06T23:59:59+00:00",
          "2025-02-07T23:59:59+00:00",
          "2025-02-08T23:59:59+00:00",
          "2025-02-09T23:59:59+00:00",
          "2025-02-10T23:59:59+00:00",
          "2025-02-11T23:59:59+00:00",
          "2025-02-12T23:59:59+00:00",
          "2025-02-13T23:59:59+00:00",
          "2025-02-14T23:59:59+00:00",
          "2025-02-15T23:59:59+00:00",
          "2025-02-16T23:59:59+00:00",
          "2025-02-17T23:59:59+00:00",
          "2025-02-18T23:59:59+00:00",
          "2025-02-19T23:59:59+00:00",
          "2025-02-20T23:59:59+00:00",
          "2025-02-21T23:59:59+00:00",
          "2025-02-22T23:59:59+00:00",
          "2025-02-23T23:59:59+00:00",
          "2025-02-24T23:59:59+00:00",
          "2025-02-25T23:59:59+00:00",
          "2025-02-26T23:59:59+00:00",
          "2025-02-27T23:59:59+00:00",
          "2025-02-28T23:59:59+00:00",
          "2025-03-01T23:59:59+00:00",
          "2025-03-02T23:59:59+00:00",
          "2025-03-03T23:59:59+00:00",
          "2025-03-04T23:59:59+00:00",
          "2025-03-05T23:59:59+00:00",
          "2025-03-06T23:59:59+00:00",
          "2025-03-07T23:59:59+00:00",
          "2025-03-08T23:59:59+00:00",
          "2025-03-09T23:59:59+00:00",
          "2025-03-10T23:59:59+00:00",
          "2025-03-11T23:59:59+00:00",
          "2025-03-12T23:59:59+00:00",
          "2025-03-13T23:59:59+00:00",
          "2025-03-14T23:59:59+00:00",
          "2025-03-15T23:59:59+00:00",
          "2025-03-16T23:59:59+00:00",
          "2025-03-17T23:59:59+00:00",
          "2025-03-18T23:59:59+00:00",
          "2025-03-19T23:59:59+00:00",
          "2025-03-20T23:59:59+00:00",
          "2025-03-21T23:59:59+00:00",
          "2025-03-22T23:59:59+00:00",
          "2025-03-23T23:59:59+00:00",
          "2025-03-24T23:59:59+00:00",
          "2025-03-25T23:59:59+00:00",
          "2025-03-26T23:59:59+00:00",
          "2025-03-27T23:59:59+00:00",
          "2025-03-28T23:59:59+00:00",
          "2025-03-29T23:59:59+00:00",
          "2025-03-30T23:59:59+00:00",
          "2025-03-31T23:59:59+00:00",
          "2025-04-01T23:59:59+00:00",
          "2025-04-02T23:59:59+00:00",
          "2025-04-03T23:59:59+00:00",
          "2025-04-04T23:59:59+00:00",
          "2025-04-05T23:59:59+00:00",
          "2025-04-06T23:59:59+00:00",
          "2025-04-07T23:59:59+00:00",
          "2025-04-08T23:59:59+00:00",
          "2025-04-09T23:59:59+00:00",
          "2025-04-10T23:59:59+00:00",
          "2025-04-11T23:59:59+00:00",
          "2025-04-12T23:59:47+00:00",
          "2025-04-13T23:59:59+00:00",
          "2025-04-14T23:59:59+00:00",
          "2025-04-15T23:59:59+00:00",
          "2025-04-16T23:59:59+00:00",
          "2025-04-17T23:59:59+00:00",
          "2025-04-18T23:59:59+00:00",
          "2025-04-19T23:59:59+00:00",
          "2025-04-20T23:59:59+00:00",
          "2025-04-21T23:59:47+00:00",
          "2025-04-22T23:59:59+00:00",
          "2025-04-23T23:59:59+00:00",
          "2025-04-24T23:59:59+00:00",
          "2025-04-25T23:59:59+00:00",
          "2025-04-26T23:59:59+00:00",
          "2025-04-27T23:59:59+00:00",
          "2025-04-28T23:59:59+00:00",
          "2025-04-29T23:59:59+00:00",
          "2025-04-30T23:59:59+00:00",
          "2025-05-01T23:59:59+00:00",
          "2025-05-02T23:59:59+00:00",
          "2025-05-03T23:59:59+00:00",
          "2025-05-04T23:59:59+00:00",
          "2025-05-05T23:59:59+00:00",
          "2025-05-06T23:59:59+00:00",
          "2025-05-07T23:59:59+00:00",
          "2025-05-08T23:59:59+00:00",
          "2025-05-09T23:59:59+00:00",
          "2025-05-10T23:59:59+00:00",
          "2025-05-11T23:59:59+00:00",
          "2025-05-12T23:59:59+00:00",
          "2025-05-13T23:59:59+00:00",
          "2025-05-14T23:59:59+00:00",
          "2025-05-15T23:59:59+00:00"
         ],
         "xaxis": "x",
         "y": [
          0,
          0,
          0.6684242276217333,
          1.7595135369943105,
          3.609621239345617,
          4.1807634905411355,
          5.621805319181234,
          6.645387187391744,
          6.822184656142455,
          6.471905538185098,
          7.12543498540321,
          6.9236027468764485,
          6.760537515146857,
          6.987807637532457,
          7.1723597779180635,
          7.184010632708503,
          7.145570072275821,
          6.6855329625680575,
          6.726092598907013,
          6.9725114139136535,
          6.232997168216789,
          6.4528561708243615,
          6.123899362077592,
          6.3511696267315125,
          5.6423144346415794,
          5.983620261826727,
          5.7596475113046095,
          5.6950099192441614,
          6.254443883615529,
          3.150949805048655,
          4.303340189558402,
          4.019754784218824,
          2.7937997162054375,
          2.7175061313900204,
          3.6114059027494974,
          2.7454963378230377,
          5.1636940218465135,
          2.6911178162341236,
          4.116821776517689,
          4.450978861911182,
          5.007547001580251,
          4.676041968765391,
          2.3982862275888377,
          4.068181378648002,
          4.351618431386342,
          5.503235852194895,
          7.146938164942533,
          4.298138353426128,
          3.840087226325405,
          5.425491755709158,
          4.600211155334792,
          6.2752904242968555,
          4.36640739460808,
          5.6643740997017336,
          4.055679323031803,
          6.863627387647689,
          6.985600684980534,
          6.977762002670361,
          6.883454168065288,
          5.173361898287743,
          7.376474673049025,
          3.940084339365587,
          2.3860407435410895,
          3.822378648086876,
          7.0665245258167815,
          3.9451036553594334,
          2.307117437573527,
          2.270663361945812,
          5.6391080238894755,
          7.596802211301842,
          3.8056498522423334,
          2.0683074079222563,
          7.723509618614409,
          3.9170216849762225,
          3.8990739749492853,
          3.913820841475717,
          5.854530616773406,
          5.890282138479652,
          3.5919170477287126,
          4.584238729869936,
          4.6857483851672885,
          7.979683072244106,
          7.026593851721049,
          9.998377120491842,
          4.4610850052167725,
          10.65932948390661,
          5.641187306856574,
          6.014730583224873,
          9.280453211115145,
          10.755824563983516,
          7.234113804684665,
          2.4029714933439554,
          6.002486824721638,
          3.799123332675392,
          4.909103158462274,
          4.390634310210899,
          4.478699654066417,
          3.2575481398751824,
          3.926939964676479,
          3.5406352511941472,
          3.8363805998519047,
          5.298823861187659,
          2.067830962016767,
          5.858992960127216,
          5.635176733662129,
          5.529705240152689,
          3.2469162068384922,
          3.1709040706784637,
          3.2012394656381846,
          5.149836854381826,
          4.298336048428636,
          5.9116091143681295,
          5.998713291358425,
          5.702252835662888,
          1.25331981313755,
          3.5262485496997344,
          7.828077752270835,
          3.204964988698325,
          8.0683248988861,
          3.865553384456194,
          3.282474486733327,
          3.4077638793887144,
          3.3617941783594296,
          7.223700557585355,
          3.305373942698708,
          3.159093936599636,
          3.1592381902198756,
          3.4590855400253355,
          1.2623755408577015,
          1.244576042028393,
          3.0618633342464245,
          5.254737500368422,
          5.078997924779783,
          5.2245987998001215,
          6.73692919620399,
          6.5812782102262375,
          6.452056780136765,
          6.761710845481059,
          7.31805420987911,
          7.358483401711112,
          6.791043683492772,
          6.783908322977473,
          7.366932426747068,
          7.517049779305552,
          7.697200560936235,
          8.473879909231986,
          8.304727005016632,
          8.617198374259896,
          8.725850617874586,
          8.587582017825193,
          8.182419731464265,
          8.493401230528793,
          8.419797694639994,
          8.147615883835655,
          7.813886304639464,
          7.8184266756481335,
          7.5939953134318365,
          7.469564307175364,
          7.316219394607847,
          7.513067163146849,
          7.681623364624283,
          7.56549075745583,
          7.414475326976756,
          7.246561495052333,
          7.47352618796841,
          7.306564150173126,
          7.307551508823469,
          7.414326440516214,
          7.374008030857768,
          7.42218566019741,
          6.996893875699388,
          7.2212592140222736,
          7.044956159140357,
          7.021479025355584,
          6.891665113205281,
          6.748688234303814,
          6.685284117607704,
          6.9572579013964955,
          7.032424582562793,
          7.124975707653913,
          7.111817514446216,
          7.233734546400063,
          7.292210845913692,
          7.33663916551079,
          7.342516491123814,
          7.578865792662811,
          7.6781266856569435,
          7.61606604432553,
          7.653319089515833,
          7.864995853888566,
          7.557603536710789,
          7.542165568591977,
          7.662182526086184,
          7.386716155871908,
          7.598138465983244,
          7.360598735310565,
          7.395983170630672,
          7.528423425538611,
          7.614140445809126,
          7.912412975957567,
          8.099630146657125,
          8.258576633442946,
          7.753235560962838,
          7.7110871574108035,
          8.046187740509723,
          8.352209508784497,
          8.565081298513704,
          7.76559082320046,
          6.964873969759314,
          7.192225488436263,
          7.395700780655878,
          7.209541338727895,
          7.116456023550263,
          7.366147633520255,
          8.012592813223112,
          8.11653654392723,
          7.9568148786163775,
          7.887522900289765,
          7.959403347022383,
          7.790902310787338,
          7.9053675352825294,
          7.26031093280479,
          7.09723382824499,
          6.922201336459395,
          6.956990893187044,
          6.913216874791594,
          6.968816627945371,
          6.434432128754602,
          6.895920906772787,
          6.85965706406823,
          6.79707963735239,
          6.694549312093947,
          6.852175405751032,
          6.751607225054595,
          6.656037631772911,
          5.85831133400162,
          5.973716808271226,
          5.606334047229824,
          5.472983417594365,
          5.505323046017689,
          5.346793533663265,
          5.154887288328167,
          5.311897678570531
         ],
         "yaxis": "y"
        }
       ],
       "layout": {
        "legend": {
         "title": {
          "text": "variable"
         },
         "tracegroupgap": 0
        },
        "margin": {
         "t": 60
        },
        "template": {
         "data": {
          "bar": [
           {
            "error_x": {
             "color": "#2a3f5f"
            },
            "error_y": {
             "color": "#2a3f5f"
            },
            "marker": {
             "line": {
              "color": "#E5ECF6",
              "width": 0.5
             },
             "pattern": {
              "fillmode": "overlay",
              "size": 10,
              "solidity": 0.2
             }
            },
            "type": "bar"
           }
          ],
          "barpolar": [
           {
            "marker": {
             "line": {
              "color": "#E5ECF6",
              "width": 0.5
             },
             "pattern": {
              "fillmode": "overlay",
              "size": 10,
              "solidity": 0.2
             }
            },
            "type": "barpolar"
           }
          ],
          "carpet": [
           {
            "aaxis": {
             "endlinecolor": "#2a3f5f",
             "gridcolor": "white",
             "linecolor": "white",
             "minorgridcolor": "white",
             "startlinecolor": "#2a3f5f"
            },
            "baxis": {
             "endlinecolor": "#2a3f5f",
             "gridcolor": "white",
             "linecolor": "white",
             "minorgridcolor": "white",
             "startlinecolor": "#2a3f5f"
            },
            "type": "carpet"
           }
          ],
          "choropleth": [
           {
            "colorbar": {
             "outlinewidth": 0,
             "ticks": ""
            },
            "type": "choropleth"
           }
          ],
          "contour": [
           {
            "colorbar": {
             "outlinewidth": 0,
             "ticks": ""
            },
            "colorscale": [
             [
              0,
              "#0d0887"
             ],
             [
              0.1111111111111111,
              "#46039f"
             ],
             [
              0.2222222222222222,
              "#7201a8"
             ],
             [
              0.3333333333333333,
              "#9c179e"
             ],
             [
              0.4444444444444444,
              "#bd3786"
             ],
             [
              0.5555555555555556,
              "#d8576b"
             ],
             [
              0.6666666666666666,
              "#ed7953"
             ],
             [
              0.7777777777777778,
              "#fb9f3a"
             ],
             [
              0.8888888888888888,
              "#fdca26"
             ],
             [
              1,
              "#f0f921"
             ]
            ],
            "type": "contour"
           }
          ],
          "contourcarpet": [
           {
            "colorbar": {
             "outlinewidth": 0,
             "ticks": ""
            },
            "type": "contourcarpet"
           }
          ],
          "heatmap": [
           {
            "colorbar": {
             "outlinewidth": 0,
             "ticks": ""
            },
            "colorscale": [
             [
              0,
              "#0d0887"
             ],
             [
              0.1111111111111111,
              "#46039f"
             ],
             [
              0.2222222222222222,
              "#7201a8"
             ],
             [
              0.3333333333333333,
              "#9c179e"
             ],
             [
              0.4444444444444444,
              "#bd3786"
             ],
             [
              0.5555555555555556,
              "#d8576b"
             ],
             [
              0.6666666666666666,
              "#ed7953"
             ],
             [
              0.7777777777777778,
              "#fb9f3a"
             ],
             [
              0.8888888888888888,
              "#fdca26"
             ],
             [
              1,
              "#f0f921"
             ]
            ],
            "type": "heatmap"
           }
          ],
          "heatmapgl": [
           {
            "colorbar": {
             "outlinewidth": 0,
             "ticks": ""
            },
            "colorscale": [
             [
              0,
              "#0d0887"
             ],
             [
              0.1111111111111111,
              "#46039f"
             ],
             [
              0.2222222222222222,
              "#7201a8"
             ],
             [
              0.3333333333333333,
              "#9c179e"
             ],
             [
              0.4444444444444444,
              "#bd3786"
             ],
             [
              0.5555555555555556,
              "#d8576b"
             ],
             [
              0.6666666666666666,
              "#ed7953"
             ],
             [
              0.7777777777777778,
              "#fb9f3a"
             ],
             [
              0.8888888888888888,
              "#fdca26"
             ],
             [
              1,
              "#f0f921"
             ]
            ],
            "type": "heatmapgl"
           }
          ],
          "histogram": [
           {
            "marker": {
             "pattern": {
              "fillmode": "overlay",
              "size": 10,
              "solidity": 0.2
             }
            },
            "type": "histogram"
           }
          ],
          "histogram2d": [
           {
            "colorbar": {
             "outlinewidth": 0,
             "ticks": ""
            },
            "colorscale": [
             [
              0,
              "#0d0887"
             ],
             [
              0.1111111111111111,
              "#46039f"
             ],
             [
              0.2222222222222222,
              "#7201a8"
             ],
             [
              0.3333333333333333,
              "#9c179e"
             ],
             [
              0.4444444444444444,
              "#bd3786"
             ],
             [
              0.5555555555555556,
              "#d8576b"
             ],
             [
              0.6666666666666666,
              "#ed7953"
             ],
             [
              0.7777777777777778,
              "#fb9f3a"
             ],
             [
              0.8888888888888888,
              "#fdca26"
             ],
             [
              1,
              "#f0f921"
             ]
            ],
            "type": "histogram2d"
           }
          ],
          "histogram2dcontour": [
           {
            "colorbar": {
             "outlinewidth": 0,
             "ticks": ""
            },
            "colorscale": [
             [
              0,
              "#0d0887"
             ],
             [
              0.1111111111111111,
              "#46039f"
             ],
             [
              0.2222222222222222,
              "#7201a8"
             ],
             [
              0.3333333333333333,
              "#9c179e"
             ],
             [
              0.4444444444444444,
              "#bd3786"
             ],
             [
              0.5555555555555556,
              "#d8576b"
             ],
             [
              0.6666666666666666,
              "#ed7953"
             ],
             [
              0.7777777777777778,
              "#fb9f3a"
             ],
             [
              0.8888888888888888,
              "#fdca26"
             ],
             [
              1,
              "#f0f921"
             ]
            ],
            "type": "histogram2dcontour"
           }
          ],
          "mesh3d": [
           {
            "colorbar": {
             "outlinewidth": 0,
             "ticks": ""
            },
            "type": "mesh3d"
           }
          ],
          "parcoords": [
           {
            "line": {
             "colorbar": {
              "outlinewidth": 0,
              "ticks": ""
             }
            },
            "type": "parcoords"
           }
          ],
          "pie": [
           {
            "automargin": true,
            "type": "pie"
           }
          ],
          "scatter": [
           {
            "fillpattern": {
             "fillmode": "overlay",
             "size": 10,
             "solidity": 0.2
            },
            "type": "scatter"
           }
          ],
          "scatter3d": [
           {
            "line": {
             "colorbar": {
              "outlinewidth": 0,
              "ticks": ""
             }
            },
            "marker": {
             "colorbar": {
              "outlinewidth": 0,
              "ticks": ""
             }
            },
            "type": "scatter3d"
           }
          ],
          "scattercarpet": [
           {
            "marker": {
             "colorbar": {
              "outlinewidth": 0,
              "ticks": ""
             }
            },
            "type": "scattercarpet"
           }
          ],
          "scattergeo": [
           {
            "marker": {
             "colorbar": {
              "outlinewidth": 0,
              "ticks": ""
             }
            },
            "type": "scattergeo"
           }
          ],
          "scattergl": [
           {
            "marker": {
             "colorbar": {
              "outlinewidth": 0,
              "ticks": ""
             }
            },
            "type": "scattergl"
           }
          ],
          "scattermapbox": [
           {
            "marker": {
             "colorbar": {
              "outlinewidth": 0,
              "ticks": ""
             }
            },
            "type": "scattermapbox"
           }
          ],
          "scatterpolar": [
           {
            "marker": {
             "colorbar": {
              "outlinewidth": 0,
              "ticks": ""
             }
            },
            "type": "scatterpolar"
           }
          ],
          "scatterpolargl": [
           {
            "marker": {
             "colorbar": {
              "outlinewidth": 0,
              "ticks": ""
             }
            },
            "type": "scatterpolargl"
           }
          ],
          "scatterternary": [
           {
            "marker": {
             "colorbar": {
              "outlinewidth": 0,
              "ticks": ""
             }
            },
            "type": "scatterternary"
           }
          ],
          "surface": [
           {
            "colorbar": {
             "outlinewidth": 0,
             "ticks": ""
            },
            "colorscale": [
             [
              0,
              "#0d0887"
             ],
             [
              0.1111111111111111,
              "#46039f"
             ],
             [
              0.2222222222222222,
              "#7201a8"
             ],
             [
              0.3333333333333333,
              "#9c179e"
             ],
             [
              0.4444444444444444,
              "#bd3786"
             ],
             [
              0.5555555555555556,
              "#d8576b"
             ],
             [
              0.6666666666666666,
              "#ed7953"
             ],
             [
              0.7777777777777778,
              "#fb9f3a"
             ],
             [
              0.8888888888888888,
              "#fdca26"
             ],
             [
              1,
              "#f0f921"
             ]
            ],
            "type": "surface"
           }
          ],
          "table": [
           {
            "cells": {
             "fill": {
              "color": "#EBF0F8"
             },
             "line": {
              "color": "white"
             }
            },
            "header": {
             "fill": {
              "color": "#C8D4E3"
             },
             "line": {
              "color": "white"
             }
            },
            "type": "table"
           }
          ]
         },
         "layout": {
          "annotationdefaults": {
           "arrowcolor": "#2a3f5f",
           "arrowhead": 0,
           "arrowwidth": 1
          },
          "autotypenumbers": "strict",
          "coloraxis": {
           "colorbar": {
            "outlinewidth": 0,
            "ticks": ""
           }
          },
          "colorscale": {
           "diverging": [
            [
             0,
             "#8e0152"
            ],
            [
             0.1,
             "#c51b7d"
            ],
            [
             0.2,
             "#de77ae"
            ],
            [
             0.3,
             "#f1b6da"
            ],
            [
             0.4,
             "#fde0ef"
            ],
            [
             0.5,
             "#f7f7f7"
            ],
            [
             0.6,
             "#e6f5d0"
            ],
            [
             0.7,
             "#b8e186"
            ],
            [
             0.8,
             "#7fbc41"
            ],
            [
             0.9,
             "#4d9221"
            ],
            [
             1,
             "#276419"
            ]
           ],
           "sequential": [
            [
             0,
             "#0d0887"
            ],
            [
             0.1111111111111111,
             "#46039f"
            ],
            [
             0.2222222222222222,
             "#7201a8"
            ],
            [
             0.3333333333333333,
             "#9c179e"
            ],
            [
             0.4444444444444444,
             "#bd3786"
            ],
            [
             0.5555555555555556,
             "#d8576b"
            ],
            [
             0.6666666666666666,
             "#ed7953"
            ],
            [
             0.7777777777777778,
             "#fb9f3a"
            ],
            [
             0.8888888888888888,
             "#fdca26"
            ],
            [
             1,
             "#f0f921"
            ]
           ],
           "sequentialminus": [
            [
             0,
             "#0d0887"
            ],
            [
             0.1111111111111111,
             "#46039f"
            ],
            [
             0.2222222222222222,
             "#7201a8"
            ],
            [
             0.3333333333333333,
             "#9c179e"
            ],
            [
             0.4444444444444444,
             "#bd3786"
            ],
            [
             0.5555555555555556,
             "#d8576b"
            ],
            [
             0.6666666666666666,
             "#ed7953"
            ],
            [
             0.7777777777777778,
             "#fb9f3a"
            ],
            [
             0.8888888888888888,
             "#fdca26"
            ],
            [
             1,
             "#f0f921"
            ]
           ]
          },
          "colorway": [
           "#636efa",
           "#EF553B",
           "#00cc96",
           "#ab63fa",
           "#FFA15A",
           "#19d3f3",
           "#FF6692",
           "#B6E880",
           "#FF97FF",
           "#FECB52"
          ],
          "font": {
           "color": "#2a3f5f"
          },
          "geo": {
           "bgcolor": "white",
           "lakecolor": "white",
           "landcolor": "#E5ECF6",
           "showlakes": true,
           "showland": true,
           "subunitcolor": "white"
          },
          "hoverlabel": {
           "align": "left"
          },
          "hovermode": "closest",
          "mapbox": {
           "style": "light"
          },
          "paper_bgcolor": "white",
          "plot_bgcolor": "#E5ECF6",
          "polar": {
           "angularaxis": {
            "gridcolor": "white",
            "linecolor": "white",
            "ticks": ""
           },
           "bgcolor": "#E5ECF6",
           "radialaxis": {
            "gridcolor": "white",
            "linecolor": "white",
            "ticks": ""
           }
          },
          "scene": {
           "xaxis": {
            "backgroundcolor": "#E5ECF6",
            "gridcolor": "white",
            "gridwidth": 2,
            "linecolor": "white",
            "showbackground": true,
            "ticks": "",
            "zerolinecolor": "white"
           },
           "yaxis": {
            "backgroundcolor": "#E5ECF6",
            "gridcolor": "white",
            "gridwidth": 2,
            "linecolor": "white",
            "showbackground": true,
            "ticks": "",
            "zerolinecolor": "white"
           },
           "zaxis": {
            "backgroundcolor": "#E5ECF6",
            "gridcolor": "white",
            "gridwidth": 2,
            "linecolor": "white",
            "showbackground": true,
            "ticks": "",
            "zerolinecolor": "white"
           }
          },
          "shapedefaults": {
           "line": {
            "color": "#2a3f5f"
           }
          },
          "ternary": {
           "aaxis": {
            "gridcolor": "white",
            "linecolor": "white",
            "ticks": ""
           },
           "baxis": {
            "gridcolor": "white",
            "linecolor": "white",
            "ticks": ""
           },
           "bgcolor": "#E5ECF6",
           "caxis": {
            "gridcolor": "white",
            "linecolor": "white",
            "ticks": ""
           }
          },
          "title": {
           "x": 0.05
          },
          "xaxis": {
           "automargin": true,
           "gridcolor": "white",
           "linecolor": "white",
           "ticks": "",
           "title": {
            "standoff": 15
           },
           "zerolinecolor": "white",
           "zerolinewidth": 2
          },
          "yaxis": {
           "automargin": true,
           "gridcolor": "white",
           "linecolor": "white",
           "ticks": "",
           "title": {
            "standoff": 15
           },
           "zerolinecolor": "white",
           "zerolinewidth": 2
          }
         }
        },
        "xaxis": {
         "anchor": "y",
         "domain": [
          0,
          1
         ],
         "title": {
          "text": "datetime"
         }
        },
        "yaxis": {
         "anchor": "x",
         "domain": [
          0,
          1
         ],
         "title": {
          "text": "value"
         }
        }
       }
      }
     },
     "metadata": {},
     "output_type": "display_data"
    }
   ],
   "source": [
    "# this is correct\n",
    "safe_tvl_by_destination = destination_state_df.pivot(\n",
    "    values=\"safe_tvl_by_destination\", index=\"datetime\", columns=\"destination_vault_address\"\n",
    ")\n",
    "total_safe_tvl_over_time = safe_tvl_by_destination.sum(axis=1)\n",
    "portion_alloaction_by_destination_df = safe_tvl_by_destination.div(total_safe_tvl_over_time, axis=0)\n",
    "\n",
    "expected_apr_by_destination = destination_state_df.pivot(\n",
    "    values=\"unweighted_expected_apr\", index=\"datetime\", columns=\"destination_vault_address\"\n",
    ")\n",
    "\n",
    "expected_apr = (expected_apr_by_destination * portion_alloaction_by_destination_df).sum(axis=1)\n",
    "\n",
    "\n",
    "# px.bar(total_safe_tvl_over_time).show()\n",
    "# px.bar(safe_tvl_by_destination).show()\n",
    "# px.bar(portion_alloaction_by_destination_df).show()\n",
    "px.line(expected_apr)"
   ]
  },
  {
   "cell_type": "code",
   "execution_count": null,
   "metadata": {},
   "outputs": [],
   "source": [
    "destination_state_df.sort_values(\"total_apr_out\", ascending=False).head()[\n",
    "    [\"block\", \"destination_vault_address\"]\n",
    "].to_csv()"
   ]
  },
  {
   "cell_type": "code",
   "execution_count": null,
   "metadata": {},
   "outputs": [
    {
     "data": {
      "application/vnd.plotly.v1+json": {
       "config": {
        "plotlyServerURL": "https://plot.ly"
       },
       "data": [
        {
         "hovertemplate": "variable=0<br>datetime=%{x}<br>value=%{y}<extra></extra>",
         "legendgroup": "0",
         "line": {
          "color": "#636efa",
          "dash": "solid"
         },
         "marker": {
          "symbol": "circle"
         },
         "mode": "lines",
         "name": "0",
         "orientation": "v",
         "showlegend": true,
         "type": "scatter",
         "x": [
          "2024-09-15T23:59:59+00:00",
          "2024-09-16T23:59:59+00:00",
          "2024-09-17T23:59:59+00:00",
          "2024-09-18T23:59:59+00:00",
          "2024-09-19T23:59:59+00:00",
          "2024-09-20T23:59:59+00:00",
          "2024-09-21T23:59:59+00:00",
          "2024-09-22T23:59:59+00:00",
          "2024-09-23T23:59:59+00:00",
          "2024-09-24T23:59:59+00:00",
          "2024-09-25T23:59:59+00:00",
          "2024-09-26T23:59:59+00:00",
          "2024-09-27T23:59:59+00:00",
          "2024-09-28T23:59:59+00:00",
          "2024-09-29T23:59:59+00:00",
          "2024-09-30T23:59:59+00:00",
          "2024-10-01T23:59:59+00:00",
          "2024-10-02T23:59:59+00:00",
          "2024-10-03T23:59:59+00:00",
          "2024-10-04T23:59:59+00:00",
          "2024-10-05T23:59:59+00:00",
          "2024-10-06T23:59:59+00:00",
          "2024-10-07T23:59:59+00:00",
          "2024-10-08T23:59:59+00:00",
          "2024-10-09T23:59:59+00:00",
          "2024-10-10T23:59:59+00:00",
          "2024-10-11T23:59:59+00:00",
          "2024-10-12T23:59:59+00:00",
          "2024-10-13T23:59:59+00:00",
          "2024-10-14T23:59:59+00:00",
          "2024-10-15T23:59:59+00:00",
          "2024-10-16T23:59:59+00:00",
          "2024-10-17T23:59:59+00:00",
          "2024-10-18T23:59:59+00:00",
          "2024-10-19T23:59:59+00:00",
          "2024-10-20T23:59:59+00:00",
          "2024-10-21T23:59:59+00:00",
          "2024-10-22T23:59:59+00:00",
          "2024-10-23T23:59:59+00:00",
          "2024-10-24T23:59:59+00:00",
          "2024-10-25T23:59:59+00:00",
          "2024-10-26T23:59:59+00:00",
          "2024-10-27T23:59:59+00:00",
          "2024-10-28T23:59:59+00:00",
          "2024-10-29T23:59:59+00:00",
          "2024-10-30T23:59:59+00:00",
          "2024-10-31T23:59:59+00:00",
          "2024-11-01T23:59:59+00:00",
          "2024-11-02T23:59:59+00:00",
          "2024-11-03T23:59:59+00:00",
          "2024-11-04T23:59:59+00:00",
          "2024-11-05T23:59:59+00:00",
          "2024-11-06T23:59:59+00:00",
          "2024-11-07T23:59:59+00:00",
          "2024-11-08T23:59:59+00:00",
          "2024-11-09T23:59:59+00:00",
          "2024-11-10T23:59:59+00:00",
          "2024-11-11T23:59:59+00:00",
          "2024-11-12T23:59:59+00:00",
          "2024-11-13T23:59:59+00:00",
          "2024-11-14T23:59:59+00:00",
          "2024-11-15T23:59:59+00:00",
          "2024-11-16T23:59:59+00:00",
          "2024-11-17T23:59:59+00:00",
          "2024-11-18T23:59:59+00:00",
          "2024-11-19T23:59:59+00:00",
          "2024-11-20T23:59:59+00:00",
          "2024-11-21T23:59:59+00:00",
          "2024-11-22T23:59:59+00:00",
          "2024-11-23T23:59:59+00:00",
          "2024-11-24T23:59:59+00:00",
          "2024-11-25T23:59:59+00:00",
          "2024-11-26T23:59:59+00:00",
          "2024-11-27T23:59:59+00:00",
          "2024-11-28T23:59:59+00:00",
          "2024-11-29T23:59:59+00:00",
          "2024-11-30T23:59:59+00:00",
          "2024-12-01T23:59:59+00:00",
          "2024-12-02T23:59:59+00:00",
          "2024-12-03T23:59:59+00:00",
          "2024-12-04T23:59:59+00:00",
          "2024-12-05T23:59:59+00:00",
          "2024-12-06T23:59:59+00:00",
          "2024-12-07T23:59:59+00:00",
          "2024-12-08T23:59:59+00:00",
          "2024-12-09T23:59:59+00:00",
          "2024-12-10T23:59:59+00:00",
          "2024-12-11T23:59:59+00:00",
          "2024-12-12T23:59:59+00:00",
          "2024-12-13T23:59:59+00:00",
          "2024-12-14T23:59:59+00:00",
          "2024-12-15T23:59:59+00:00",
          "2024-12-16T23:59:59+00:00",
          "2024-12-17T23:59:59+00:00",
          "2024-12-18T23:59:59+00:00",
          "2024-12-19T23:59:59+00:00",
          "2024-12-20T23:59:59+00:00",
          "2024-12-21T23:59:59+00:00",
          "2024-12-22T23:59:59+00:00",
          "2024-12-23T23:59:59+00:00",
          "2024-12-24T23:59:59+00:00",
          "2024-12-25T23:59:59+00:00",
          "2024-12-26T23:59:59+00:00",
          "2024-12-27T23:59:59+00:00",
          "2024-12-28T23:59:59+00:00",
          "2024-12-29T23:59:59+00:00",
          "2024-12-30T23:59:59+00:00",
          "2024-12-31T23:59:59+00:00",
          "2025-01-01T23:59:59+00:00",
          "2025-01-02T23:59:59+00:00",
          "2025-01-03T23:59:59+00:00",
          "2025-01-04T23:59:47+00:00",
          "2025-01-05T23:59:59+00:00",
          "2025-01-06T23:59:59+00:00",
          "2025-01-07T23:59:59+00:00",
          "2025-01-08T23:59:59+00:00",
          "2025-01-09T23:59:59+00:00",
          "2025-01-10T23:59:59+00:00",
          "2025-01-11T23:59:59+00:00",
          "2025-01-12T23:59:59+00:00",
          "2025-01-13T23:59:59+00:00",
          "2025-01-14T23:59:59+00:00",
          "2025-01-15T23:59:59+00:00",
          "2025-01-16T23:59:59+00:00",
          "2025-01-17T23:59:59+00:00",
          "2025-01-18T23:59:59+00:00",
          "2025-01-19T23:59:59+00:00",
          "2025-01-20T23:59:59+00:00",
          "2025-01-21T23:59:59+00:00",
          "2025-01-22T23:59:59+00:00",
          "2025-01-23T23:59:59+00:00",
          "2025-01-24T23:59:59+00:00",
          "2025-01-25T23:59:59+00:00",
          "2025-01-26T23:59:59+00:00",
          "2025-01-27T23:59:59+00:00",
          "2025-01-28T23:59:59+00:00",
          "2025-01-29T23:59:59+00:00",
          "2025-01-30T23:59:59+00:00",
          "2025-01-31T23:59:59+00:00",
          "2025-02-01T23:59:59+00:00",
          "2025-02-02T23:59:59+00:00",
          "2025-02-03T23:59:59+00:00",
          "2025-02-04T23:59:59+00:00",
          "2025-02-05T23:59:59+00:00",
          "2025-02-06T23:59:59+00:00",
          "2025-02-07T23:59:59+00:00",
          "2025-02-08T23:59:59+00:00",
          "2025-02-09T23:59:59+00:00",
          "2025-02-10T23:59:59+00:00",
          "2025-02-11T23:59:59+00:00",
          "2025-02-12T23:59:59+00:00",
          "2025-02-13T23:59:59+00:00",
          "2025-02-14T23:59:59+00:00",
          "2025-02-15T23:59:59+00:00",
          "2025-02-16T23:59:59+00:00",
          "2025-02-17T23:59:59+00:00",
          "2025-02-18T23:59:59+00:00",
          "2025-02-19T23:59:59+00:00",
          "2025-02-20T23:59:59+00:00",
          "2025-02-21T23:59:59+00:00",
          "2025-02-22T23:59:59+00:00",
          "2025-02-23T23:59:59+00:00",
          "2025-02-24T23:59:59+00:00",
          "2025-02-25T23:59:59+00:00",
          "2025-02-26T23:59:59+00:00",
          "2025-02-27T23:59:59+00:00",
          "2025-02-28T23:59:59+00:00",
          "2025-03-01T23:59:59+00:00",
          "2025-03-02T23:59:59+00:00",
          "2025-03-03T23:59:59+00:00",
          "2025-03-04T23:59:59+00:00",
          "2025-03-05T23:59:59+00:00",
          "2025-03-06T23:59:59+00:00",
          "2025-03-07T23:59:59+00:00",
          "2025-03-08T23:59:59+00:00",
          "2025-03-09T23:59:59+00:00",
          "2025-03-10T23:59:59+00:00",
          "2025-03-11T23:59:59+00:00",
          "2025-03-12T23:59:59+00:00",
          "2025-03-13T23:59:59+00:00",
          "2025-03-14T23:59:59+00:00",
          "2025-03-15T23:59:59+00:00",
          "2025-03-16T23:59:59+00:00",
          "2025-03-17T23:59:59+00:00",
          "2025-03-18T23:59:59+00:00",
          "2025-03-19T23:59:59+00:00",
          "2025-03-20T23:59:59+00:00",
          "2025-03-21T23:59:59+00:00",
          "2025-03-22T23:59:59+00:00",
          "2025-03-23T23:59:59+00:00",
          "2025-03-24T23:59:59+00:00",
          "2025-03-25T23:59:59+00:00",
          "2025-03-26T23:59:59+00:00",
          "2025-03-27T23:59:59+00:00",
          "2025-03-28T23:59:59+00:00",
          "2025-03-29T23:59:59+00:00",
          "2025-03-30T23:59:59+00:00",
          "2025-03-31T23:59:59+00:00",
          "2025-04-01T23:59:59+00:00",
          "2025-04-02T23:59:59+00:00",
          "2025-04-03T23:59:59+00:00",
          "2025-04-04T23:59:59+00:00",
          "2025-04-05T23:59:59+00:00",
          "2025-04-06T23:59:59+00:00",
          "2025-04-07T23:59:59+00:00",
          "2025-04-08T23:59:59+00:00",
          "2025-04-09T23:59:59+00:00",
          "2025-04-10T23:59:59+00:00",
          "2025-04-11T23:59:59+00:00",
          "2025-04-12T23:59:47+00:00",
          "2025-04-13T23:59:59+00:00",
          "2025-04-14T23:59:59+00:00",
          "2025-04-15T23:59:59+00:00",
          "2025-04-16T23:59:59+00:00",
          "2025-04-17T23:59:59+00:00",
          "2025-04-18T23:59:59+00:00",
          "2025-04-19T23:59:59+00:00",
          "2025-04-20T23:59:59+00:00",
          "2025-04-21T23:59:47+00:00",
          "2025-04-22T23:59:59+00:00",
          "2025-04-23T23:59:59+00:00",
          "2025-04-24T23:59:59+00:00",
          "2025-04-25T23:59:59+00:00",
          "2025-04-26T23:59:59+00:00",
          "2025-04-27T23:59:59+00:00",
          "2025-04-28T23:59:59+00:00",
          "2025-04-29T23:59:59+00:00",
          "2025-04-30T23:59:59+00:00",
          "2025-05-01T23:59:59+00:00",
          "2025-05-02T23:59:59+00:00",
          "2025-05-03T23:59:59+00:00",
          "2025-05-04T23:59:59+00:00",
          "2025-05-05T23:59:59+00:00",
          "2025-05-06T23:59:59+00:00",
          "2025-05-07T23:59:59+00:00",
          "2025-05-08T23:59:59+00:00",
          "2025-05-09T23:59:59+00:00",
          "2025-05-10T23:59:59+00:00",
          "2025-05-11T23:59:59+00:00",
          "2025-05-12T23:59:59+00:00",
          "2025-05-13T23:59:59+00:00",
          "2025-05-14T23:59:59+00:00",
          "2025-05-15T23:59:59+00:00"
         ],
         "xaxis": "x",
         "y": [
          0,
          0,
          0.6684242276217333,
          1.7595135369943105,
          3.609621239345617,
          4.1807634905411355,
          5.621805319181234,
          6.645387187391743,
          6.822184656142454,
          6.471905538185099,
          7.12543498540321,
          6.923602746876448,
          6.760537515146856,
          6.987807637532457,
          7.1723597779180635,
          7.184010632708505,
          7.14557007227582,
          6.685532962568057,
          6.726092598907012,
          6.9725114139136535,
          6.232997168216787,
          6.452856170824361,
          6.123899362077593,
          6.351169626731512,
          5.64231443464158,
          5.983620261826726,
          6.439724279936991,
          6.3745791783884584,
          6.254443883615528,
          6.013832134119262,
          6.488536053386149,
          6.853742359015321,
          7.078246230034553,
          6.99981361537616,
          7.053903253712904,
          5.235030817258049,
          5.1636940218465135,
          5.158076681237062,
          7.128005188405085,
          6.989448998929467,
          7.073752219670118,
          6.570704666978951,
          6.811045828258178,
          6.786308927054433,
          7.332884155182864,
          7.583151423173141,
          7.146938164942534,
          7.065978855261097,
          7.247252888698515,
          7.259326405333157,
          7.3035888563045415,
          7.438667085849213,
          7.487036023886567,
          7.246041108218108,
          6.7914202866301645,
          6.863627387647688,
          6.985600684980535,
          6.977762002670362,
          6.883454168065289,
          7.373882716162823,
          7.376474673049025,
          7.502753984281233,
          7.330853889217169,
          7.261819405461128,
          7.0665245258167815,
          6.788510523413173,
          7.020957009129125,
          7.0794144874565745,
          7.317368901467611,
          7.59680221130184,
          7.442113885038052,
          7.552303162436712,
          7.72350961861441,
          7.87390157165963,
          7.917681062937646,
          7.89833440000622,
          7.900969402846958,
          8.023628535552174,
          8.143157211152129,
          8.531491767187756,
          9.01953289867571,
          9.706711716054183,
          9.749420528691003,
          9.998377120491842,
          10.401535612234595,
          10.659329483906612,
          10.907078547085701,
          10.843235122958962,
          11.026082651289837,
          10.755824563983516,
          10.897995146134464,
          10.688786766043787,
          10.35233027711269,
          10.128572467661792,
          8.265537783977612,
          7.403928651125206,
          6.117723025960766,
          6.198557538007055,
          6.638667853504844,
          6.660534635808616,
          6.834349318268466,
          7.154984202725402,
          7.120526322930267,
          7.337461829671543,
          7.454304751220913,
          7.352572551627515,
          7.163874173212538,
          7.038309535670337,
          6.882980167272607,
          7.8949589194889995,
          8.592833793905946,
          8.780128368315,
          8.643648694707041,
          8.260840428791271,
          7.642363400980275,
          7.56721173218479,
          7.8280777522708345,
          8.018960755770195,
          8.068324898886097,
          7.988440711719918,
          8.030435513207495,
          8.333870271405702,
          8.370640771372612,
          7.223700557585353,
          7.244990256095528,
          7.379096382114517,
          7.437503424083582,
          7.514296845858976,
          7.36593923193756,
          7.150846872604286,
          7.060172081246029,
          7.034594237912376,
          7.013356489831205,
          7.087732425576084,
          6.73692919620399,
          6.581278210226238,
          6.452056780136763,
          6.761710845481059,
          7.318054209879111,
          7.358483401711112,
          6.791043683492771,
          6.7839083229774735,
          7.366932426747067,
          7.517049779305552,
          7.697200560936234,
          8.473879909231986,
          8.30472700501663,
          8.617198374259896,
          8.725850617874586,
          8.587582017825195,
          8.182419731464265,
          8.493401230528791,
          8.419797694639994,
          8.147615883835655,
          7.813886304639464,
          7.8184266756481335,
          7.593995313431838,
          7.469564307175364,
          7.316219394607849,
          7.513067163146848,
          7.681623364624283,
          7.56549075745583,
          7.414475326976756,
          7.246561495052333,
          7.473526187968411,
          7.306564150173127,
          7.307551508823469,
          7.414326440516212,
          7.374008030857768,
          7.422185660197412,
          6.996893875699389,
          7.221259214022273,
          7.044956159140357,
          7.021479025355583,
          6.891665113205281,
          6.748688234303815,
          6.685284117607704,
          6.957257901396496,
          7.032424582562794,
          7.1249757076539115,
          7.111817514446217,
          7.233734546400063,
          7.29221084591369,
          7.33663916551079,
          7.342516491123815,
          7.5788657926628105,
          7.678126685656942,
          7.61606604432553,
          7.6533190895158345,
          7.864995853888566,
          7.557603536710789,
          7.542165568591976,
          7.662182526086182,
          7.386716155871908,
          7.5981384659832445,
          7.360598735310566,
          7.395983170630671,
          7.528423425538611,
          7.614140445809126,
          7.912412975957567,
          8.099630146657127,
          8.258576633442946,
          7.753235560962838,
          7.7110871574108035,
          8.046187740509723,
          8.352209508784497,
          8.565081298513705,
          7.765590823200462,
          6.9648739697593145,
          7.192225488436263,
          7.395700780655877,
          7.209541338727895,
          7.116456023550262,
          7.3661476335202565,
          8.012592813223112,
          8.116536543927232,
          7.9568148786163775,
          7.887522900289765,
          7.959403347022383,
          7.790902310787338,
          7.905367535282529,
          7.26031093280479,
          7.097233828244989,
          6.922201336459395,
          6.956990893187045,
          6.913216874791594,
          6.96881662794537,
          6.434432128754601,
          6.895920906772787,
          6.85965706406823,
          6.79707963735239,
          6.6945493120939465,
          6.8521754057510345,
          6.751607225054595,
          6.656037631772911,
          5.858311334001619,
          5.973716808271225,
          5.606334047229823,
          5.472983417594364,
          5.505323046017688,
          5.3467935336632655,
          5.154887288328167,
          5.3118976785705305
         ],
         "yaxis": "y"
        }
       ],
       "layout": {
        "legend": {
         "title": {
          "text": "variable"
         },
         "tracegroupgap": 0
        },
        "margin": {
         "t": 60
        },
        "template": {
         "data": {
          "bar": [
           {
            "error_x": {
             "color": "#2a3f5f"
            },
            "error_y": {
             "color": "#2a3f5f"
            },
            "marker": {
             "line": {
              "color": "#E5ECF6",
              "width": 0.5
             },
             "pattern": {
              "fillmode": "overlay",
              "size": 10,
              "solidity": 0.2
             }
            },
            "type": "bar"
           }
          ],
          "barpolar": [
           {
            "marker": {
             "line": {
              "color": "#E5ECF6",
              "width": 0.5
             },
             "pattern": {
              "fillmode": "overlay",
              "size": 10,
              "solidity": 0.2
             }
            },
            "type": "barpolar"
           }
          ],
          "carpet": [
           {
            "aaxis": {
             "endlinecolor": "#2a3f5f",
             "gridcolor": "white",
             "linecolor": "white",
             "minorgridcolor": "white",
             "startlinecolor": "#2a3f5f"
            },
            "baxis": {
             "endlinecolor": "#2a3f5f",
             "gridcolor": "white",
             "linecolor": "white",
             "minorgridcolor": "white",
             "startlinecolor": "#2a3f5f"
            },
            "type": "carpet"
           }
          ],
          "choropleth": [
           {
            "colorbar": {
             "outlinewidth": 0,
             "ticks": ""
            },
            "type": "choropleth"
           }
          ],
          "contour": [
           {
            "colorbar": {
             "outlinewidth": 0,
             "ticks": ""
            },
            "colorscale": [
             [
              0,
              "#0d0887"
             ],
             [
              0.1111111111111111,
              "#46039f"
             ],
             [
              0.2222222222222222,
              "#7201a8"
             ],
             [
              0.3333333333333333,
              "#9c179e"
             ],
             [
              0.4444444444444444,
              "#bd3786"
             ],
             [
              0.5555555555555556,
              "#d8576b"
             ],
             [
              0.6666666666666666,
              "#ed7953"
             ],
             [
              0.7777777777777778,
              "#fb9f3a"
             ],
             [
              0.8888888888888888,
              "#fdca26"
             ],
             [
              1,
              "#f0f921"
             ]
            ],
            "type": "contour"
           }
          ],
          "contourcarpet": [
           {
            "colorbar": {
             "outlinewidth": 0,
             "ticks": ""
            },
            "type": "contourcarpet"
           }
          ],
          "heatmap": [
           {
            "colorbar": {
             "outlinewidth": 0,
             "ticks": ""
            },
            "colorscale": [
             [
              0,
              "#0d0887"
             ],
             [
              0.1111111111111111,
              "#46039f"
             ],
             [
              0.2222222222222222,
              "#7201a8"
             ],
             [
              0.3333333333333333,
              "#9c179e"
             ],
             [
              0.4444444444444444,
              "#bd3786"
             ],
             [
              0.5555555555555556,
              "#d8576b"
             ],
             [
              0.6666666666666666,
              "#ed7953"
             ],
             [
              0.7777777777777778,
              "#fb9f3a"
             ],
             [
              0.8888888888888888,
              "#fdca26"
             ],
             [
              1,
              "#f0f921"
             ]
            ],
            "type": "heatmap"
           }
          ],
          "heatmapgl": [
           {
            "colorbar": {
             "outlinewidth": 0,
             "ticks": ""
            },
            "colorscale": [
             [
              0,
              "#0d0887"
             ],
             [
              0.1111111111111111,
              "#46039f"
             ],
             [
              0.2222222222222222,
              "#7201a8"
             ],
             [
              0.3333333333333333,
              "#9c179e"
             ],
             [
              0.4444444444444444,
              "#bd3786"
             ],
             [
              0.5555555555555556,
              "#d8576b"
             ],
             [
              0.6666666666666666,
              "#ed7953"
             ],
             [
              0.7777777777777778,
              "#fb9f3a"
             ],
             [
              0.8888888888888888,
              "#fdca26"
             ],
             [
              1,
              "#f0f921"
             ]
            ],
            "type": "heatmapgl"
           }
          ],
          "histogram": [
           {
            "marker": {
             "pattern": {
              "fillmode": "overlay",
              "size": 10,
              "solidity": 0.2
             }
            },
            "type": "histogram"
           }
          ],
          "histogram2d": [
           {
            "colorbar": {
             "outlinewidth": 0,
             "ticks": ""
            },
            "colorscale": [
             [
              0,
              "#0d0887"
             ],
             [
              0.1111111111111111,
              "#46039f"
             ],
             [
              0.2222222222222222,
              "#7201a8"
             ],
             [
              0.3333333333333333,
              "#9c179e"
             ],
             [
              0.4444444444444444,
              "#bd3786"
             ],
             [
              0.5555555555555556,
              "#d8576b"
             ],
             [
              0.6666666666666666,
              "#ed7953"
             ],
             [
              0.7777777777777778,
              "#fb9f3a"
             ],
             [
              0.8888888888888888,
              "#fdca26"
             ],
             [
              1,
              "#f0f921"
             ]
            ],
            "type": "histogram2d"
           }
          ],
          "histogram2dcontour": [
           {
            "colorbar": {
             "outlinewidth": 0,
             "ticks": ""
            },
            "colorscale": [
             [
              0,
              "#0d0887"
             ],
             [
              0.1111111111111111,
              "#46039f"
             ],
             [
              0.2222222222222222,
              "#7201a8"
             ],
             [
              0.3333333333333333,
              "#9c179e"
             ],
             [
              0.4444444444444444,
              "#bd3786"
             ],
             [
              0.5555555555555556,
              "#d8576b"
             ],
             [
              0.6666666666666666,
              "#ed7953"
             ],
             [
              0.7777777777777778,
              "#fb9f3a"
             ],
             [
              0.8888888888888888,
              "#fdca26"
             ],
             [
              1,
              "#f0f921"
             ]
            ],
            "type": "histogram2dcontour"
           }
          ],
          "mesh3d": [
           {
            "colorbar": {
             "outlinewidth": 0,
             "ticks": ""
            },
            "type": "mesh3d"
           }
          ],
          "parcoords": [
           {
            "line": {
             "colorbar": {
              "outlinewidth": 0,
              "ticks": ""
             }
            },
            "type": "parcoords"
           }
          ],
          "pie": [
           {
            "automargin": true,
            "type": "pie"
           }
          ],
          "scatter": [
           {
            "fillpattern": {
             "fillmode": "overlay",
             "size": 10,
             "solidity": 0.2
            },
            "type": "scatter"
           }
          ],
          "scatter3d": [
           {
            "line": {
             "colorbar": {
              "outlinewidth": 0,
              "ticks": ""
             }
            },
            "marker": {
             "colorbar": {
              "outlinewidth": 0,
              "ticks": ""
             }
            },
            "type": "scatter3d"
           }
          ],
          "scattercarpet": [
           {
            "marker": {
             "colorbar": {
              "outlinewidth": 0,
              "ticks": ""
             }
            },
            "type": "scattercarpet"
           }
          ],
          "scattergeo": [
           {
            "marker": {
             "colorbar": {
              "outlinewidth": 0,
              "ticks": ""
             }
            },
            "type": "scattergeo"
           }
          ],
          "scattergl": [
           {
            "marker": {
             "colorbar": {
              "outlinewidth": 0,
              "ticks": ""
             }
            },
            "type": "scattergl"
           }
          ],
          "scattermapbox": [
           {
            "marker": {
             "colorbar": {
              "outlinewidth": 0,
              "ticks": ""
             }
            },
            "type": "scattermapbox"
           }
          ],
          "scatterpolar": [
           {
            "marker": {
             "colorbar": {
              "outlinewidth": 0,
              "ticks": ""
             }
            },
            "type": "scatterpolar"
           }
          ],
          "scatterpolargl": [
           {
            "marker": {
             "colorbar": {
              "outlinewidth": 0,
              "ticks": ""
             }
            },
            "type": "scatterpolargl"
           }
          ],
          "scatterternary": [
           {
            "marker": {
             "colorbar": {
              "outlinewidth": 0,
              "ticks": ""
             }
            },
            "type": "scatterternary"
           }
          ],
          "surface": [
           {
            "colorbar": {
             "outlinewidth": 0,
             "ticks": ""
            },
            "colorscale": [
             [
              0,
              "#0d0887"
             ],
             [
              0.1111111111111111,
              "#46039f"
             ],
             [
              0.2222222222222222,
              "#7201a8"
             ],
             [
              0.3333333333333333,
              "#9c179e"
             ],
             [
              0.4444444444444444,
              "#bd3786"
             ],
             [
              0.5555555555555556,
              "#d8576b"
             ],
             [
              0.6666666666666666,
              "#ed7953"
             ],
             [
              0.7777777777777778,
              "#fb9f3a"
             ],
             [
              0.8888888888888888,
              "#fdca26"
             ],
             [
              1,
              "#f0f921"
             ]
            ],
            "type": "surface"
           }
          ],
          "table": [
           {
            "cells": {
             "fill": {
              "color": "#EBF0F8"
             },
             "line": {
              "color": "white"
             }
            },
            "header": {
             "fill": {
              "color": "#C8D4E3"
             },
             "line": {
              "color": "white"
             }
            },
            "type": "table"
           }
          ]
         },
         "layout": {
          "annotationdefaults": {
           "arrowcolor": "#2a3f5f",
           "arrowhead": 0,
           "arrowwidth": 1
          },
          "autotypenumbers": "strict",
          "coloraxis": {
           "colorbar": {
            "outlinewidth": 0,
            "ticks": ""
           }
          },
          "colorscale": {
           "diverging": [
            [
             0,
             "#8e0152"
            ],
            [
             0.1,
             "#c51b7d"
            ],
            [
             0.2,
             "#de77ae"
            ],
            [
             0.3,
             "#f1b6da"
            ],
            [
             0.4,
             "#fde0ef"
            ],
            [
             0.5,
             "#f7f7f7"
            ],
            [
             0.6,
             "#e6f5d0"
            ],
            [
             0.7,
             "#b8e186"
            ],
            [
             0.8,
             "#7fbc41"
            ],
            [
             0.9,
             "#4d9221"
            ],
            [
             1,
             "#276419"
            ]
           ],
           "sequential": [
            [
             0,
             "#0d0887"
            ],
            [
             0.1111111111111111,
             "#46039f"
            ],
            [
             0.2222222222222222,
             "#7201a8"
            ],
            [
             0.3333333333333333,
             "#9c179e"
            ],
            [
             0.4444444444444444,
             "#bd3786"
            ],
            [
             0.5555555555555556,
             "#d8576b"
            ],
            [
             0.6666666666666666,
             "#ed7953"
            ],
            [
             0.7777777777777778,
             "#fb9f3a"
            ],
            [
             0.8888888888888888,
             "#fdca26"
            ],
            [
             1,
             "#f0f921"
            ]
           ],
           "sequentialminus": [
            [
             0,
             "#0d0887"
            ],
            [
             0.1111111111111111,
             "#46039f"
            ],
            [
             0.2222222222222222,
             "#7201a8"
            ],
            [
             0.3333333333333333,
             "#9c179e"
            ],
            [
             0.4444444444444444,
             "#bd3786"
            ],
            [
             0.5555555555555556,
             "#d8576b"
            ],
            [
             0.6666666666666666,
             "#ed7953"
            ],
            [
             0.7777777777777778,
             "#fb9f3a"
            ],
            [
             0.8888888888888888,
             "#fdca26"
            ],
            [
             1,
             "#f0f921"
            ]
           ]
          },
          "colorway": [
           "#636efa",
           "#EF553B",
           "#00cc96",
           "#ab63fa",
           "#FFA15A",
           "#19d3f3",
           "#FF6692",
           "#B6E880",
           "#FF97FF",
           "#FECB52"
          ],
          "font": {
           "color": "#2a3f5f"
          },
          "geo": {
           "bgcolor": "white",
           "lakecolor": "white",
           "landcolor": "#E5ECF6",
           "showlakes": true,
           "showland": true,
           "subunitcolor": "white"
          },
          "hoverlabel": {
           "align": "left"
          },
          "hovermode": "closest",
          "mapbox": {
           "style": "light"
          },
          "paper_bgcolor": "white",
          "plot_bgcolor": "#E5ECF6",
          "polar": {
           "angularaxis": {
            "gridcolor": "white",
            "linecolor": "white",
            "ticks": ""
           },
           "bgcolor": "#E5ECF6",
           "radialaxis": {
            "gridcolor": "white",
            "linecolor": "white",
            "ticks": ""
           }
          },
          "scene": {
           "xaxis": {
            "backgroundcolor": "#E5ECF6",
            "gridcolor": "white",
            "gridwidth": 2,
            "linecolor": "white",
            "showbackground": true,
            "ticks": "",
            "zerolinecolor": "white"
           },
           "yaxis": {
            "backgroundcolor": "#E5ECF6",
            "gridcolor": "white",
            "gridwidth": 2,
            "linecolor": "white",
            "showbackground": true,
            "ticks": "",
            "zerolinecolor": "white"
           },
           "zaxis": {
            "backgroundcolor": "#E5ECF6",
            "gridcolor": "white",
            "gridwidth": 2,
            "linecolor": "white",
            "showbackground": true,
            "ticks": "",
            "zerolinecolor": "white"
           }
          },
          "shapedefaults": {
           "line": {
            "color": "#2a3f5f"
           }
          },
          "ternary": {
           "aaxis": {
            "gridcolor": "white",
            "linecolor": "white",
            "ticks": ""
           },
           "baxis": {
            "gridcolor": "white",
            "linecolor": "white",
            "ticks": ""
           },
           "bgcolor": "#E5ECF6",
           "caxis": {
            "gridcolor": "white",
            "linecolor": "white",
            "ticks": ""
           }
          },
          "title": {
           "x": 0.05
          },
          "xaxis": {
           "automargin": true,
           "gridcolor": "white",
           "linecolor": "white",
           "ticks": "",
           "title": {
            "standoff": 15
           },
           "zerolinecolor": "white",
           "zerolinewidth": 2
          },
          "yaxis": {
           "automargin": true,
           "gridcolor": "white",
           "linecolor": "white",
           "ticks": "",
           "title": {
            "standoff": 15
           },
           "zerolinecolor": "white",
           "zerolinewidth": 2
          }
         }
        },
        "xaxis": {
         "anchor": "y",
         "domain": [
          0,
          1
         ],
         "title": {
          "text": "datetime"
         }
        },
        "yaxis": {
         "anchor": "x",
         "domain": [
          0,
          1
         ],
         "title": {
          "text": "value"
         }
        }
       }
      }
     },
     "metadata": {},
     "output_type": "display_data"
    }
   ],
   "source": [
    "# this is correct\n",
    "safe_tvl_by_destination = (\n",
    "    destination_state_df.groupby([\"datetime\", \"readable_name\"])[[\"safe_tvl_by_destination\"]]\n",
    "    .sum()\n",
    "    .reset_index()\n",
    "    .pivot(values=\"safe_tvl_by_destination\", index=\"datetime\", columns=\"readable_name\")\n",
    ")\n",
    "\n",
    "total_safe_tvl_over_time = safe_tvl_by_destination.sum(axis=1)\n",
    "portion_alloaction_by_destination_df = safe_tvl_by_destination.div(total_safe_tvl_over_time, axis=0)\n",
    "\n",
    "min_apr_by_destination = (\n",
    "    destination_state_df.groupby([\"datetime\", \"readable_name\"])[[\"unweighted_expected_apr\"]]\n",
    "    .min()\n",
    "    .reset_index()\n",
    "    .pivot(values=\"unweighted_expected_apr\", index=\"datetime\", columns=\"readable_name\")\n",
    ")\n",
    "max_apr_by_destination = (\n",
    "    destination_state_df.groupby([\"datetime\", \"readable_name\"])[[\"unweighted_expected_apr\"]]\n",
    "    .max()\n",
    "    .reset_index()\n",
    "    .pivot(values=\"unweighted_expected_apr\", index=\"datetime\", columns=\"readable_name\")\n",
    ")\n",
    "expected_apr = (max_apr_by_destination * portion_alloaction_by_destination_df).sum(axis=1)\n",
    "px.line((max_apr_by_destination * portion_alloaction_by_destination_df).sum(axis=1))\n",
    "# expected APR, this is right\n",
    "\n",
    "# expected_apr\n",
    "# # px.bar(total_safe_tvl_over_time).show()\n",
    "# px.bar(safe_tvl_by_destination).show()\n",
    "# px.bar(portion_alloaction_by_destination_df).show()\n",
    "# px.line(expected_apr_by_destination)"
   ]
  },
  {
   "cell_type": "code",
   "execution_count": null,
   "metadata": {},
   "outputs": [],
   "source": [
    "destination_state_df.sort_values(\"unweighted_expected_apr\").dropna()"
   ]
  },
  {
   "cell_type": "code",
   "execution_count": null,
   "metadata": {},
   "outputs": [],
   "source": [
    "expected_apr_by_destination = 100 * destination_state_df.groupby([\"underlying_symbol\", \"datetime\"])[\n",
    "    [\"total_apr_out\"]\n",
    "].max().reset_index().pivot(values=\"total_apr_out\", index=\"datetime\", columns=\"underlying_symbol\")\n",
    "\n",
    "px.line(expected_apr_by_destination)"
   ]
  },
  {
   "cell_type": "code",
   "execution_count": null,
   "metadata": {},
   "outputs": [],
   "source": [
    "destination_state_df[\"underlying_symbol\"].value_counts()"
   ]
  },
  {
   "cell_type": "code",
   "execution_count": null,
   "metadata": {},
   "outputs": [],
   "source": [
    "expected_apr_by_destination = 100 * destination_state_df.groupby([\"underlying_symbol\", \"datetime\"])[\n",
    "    [\"total_apr_in\"]\n",
    "].first().reset_index().pivot(values=\"total_apr_in\", index=\"datetime\", columns=\"underlying_symbol\")\n",
    "\n",
    "px.line(expected_apr_by_destination)"
   ]
  },
  {
   "cell_type": "code",
   "execution_count": null,
   "metadata": {},
   "outputs": [],
   "source": [
    "px.line(destination_state_df[destination_state_df[\"underlying_symbol\"] == \"weeth-ng\"][\"total_apr_out\"])"
   ]
  },
  {
   "cell_type": "code",
   "execution_count": null,
   "metadata": {},
   "outputs": [],
   "source": [
    "destination_state_df[destination_state_df[\"underlying_symbol\"] == \"weeth-ng\"].sort_values(\n",
    "    \"total_apr_out\", ascending=False\n",
    ")"
   ]
  },
  {
   "cell_type": "code",
   "execution_count": null,
   "metadata": {},
   "outputs": [],
   "source": [
    "100 * 23791992517125747 / 1e18"
   ]
  },
  {
   "cell_type": "code",
   "execution_count": null,
   "metadata": {},
   "outputs": [],
   "source": [
    "# at block 21339732 ( 2024-12-05 23:59:59+00:00 )\n",
    "# 0x5c6aeb9ef0d5BbA4E6691f381003503FD0D45126\n",
    "# it is correct, but we din't have an allocation ther at the time\n",
    "# get destination _summary_stats for  0x0A2b94F6871c1D7A32Fe58E1ab5e6deA2f114E56 autoETH says incentive APR is 21%"
   ]
  },
  {
   "cell_type": "code",
   "execution_count": null,
   "metadata": {},
   "outputs": [],
   "source": [
    "from multicall import Call\n",
    "from mainnet_launch.data_fetching.get_state_by_block import (\n",
    "    get_raw_state_by_blocks,\n",
    "    safe_normalize_with_bool_success,\n",
    ")\n",
    "from mainnet_launch.constants import ETH_CHAIN\n",
    "from mainnet_launch.data_fetching.get_state_by_block import build_blocks_to_use\n",
    "\n",
    "stats = \"0xF25b36c77e869b01477860a0EABc4f4Ff745EAC3\"\n",
    "apr_call = Call(\n",
    "    \"0xF25b36c77e869b01477860a0EABc4f4Ff745EAC3\",\n",
    "    [\"lastSnapshotTotalAPR()(uint256)\"],\n",
    "    # the tuple key here will become the column name in your df\n",
    "    [(\"lastSnapshotTotalAPR\", safe_normalize_with_bool_success)],\n",
    ")\n",
    "\n",
    "# 3) Get the blocks you want to sample\n",
    "blocks = build_blocks_to_use(ETH_CHAIN)\n",
    "\n",
    "df_apr = get_raw_state_by_blocks(\n",
    "    calls=[apr_call],\n",
    "    blocks=blocks,\n",
    "    chain=ETH_CHAIN,\n",
    "    include_block_number=True,\n",
    ")\n",
    "\n",
    "\n",
    "px.line(df_apr)"
   ]
  },
  {
   "cell_type": "code",
   "execution_count": null,
   "metadata": {},
   "outputs": [],
   "source": [
    "from mainnet_launch.database.schema.ensure_tables_are_current.using_onchain.update_destinations_states_table import *\n",
    "from mainnet_launch.database.schema.ensure_tables_are_current.using_onchain.update_destinations_states_table import (\n",
    "    _build_summary_stats_call,\n",
    ")\n",
    "\n",
    "autopools_orm: list[Autopools] = get_full_table_as_orm(Autopools, where_clause=Autopools.chain_id == ETH_CHAIN.chain_id)\n",
    "autopools_orm"
   ]
  },
  {
   "cell_type": "code",
   "execution_count": null,
   "metadata": {},
   "outputs": [],
   "source": [
    "call = _build_summary_stats_call(autopools_orm[2], \"0x5c6aeb9ef0d5BbA4E6691f381003503FD0D45126\", \"in\")\n",
    "\n",
    "stat_df = get_raw_state_by_blocks(\n",
    "    calls=[call],\n",
    "    blocks=blocks,\n",
    "    chain=ETH_CHAIN,\n",
    "    include_block_number=True,\n",
    ")"
   ]
  },
  {
   "cell_type": "code",
   "execution_count": null,
   "metadata": {},
   "outputs": [],
   "source": [
    "import pandas as pd\n",
    "\n",
    "# pick out the column you care about\n",
    "col = (\"0x0A2b94F6871c1D7A32Fe58E1ab5e6deA2f114E56\", \"0x5c6aeb9ef0d5BbA4E6691f381003503FD0D45126\", \"in\")\n",
    "\n",
    "# collect into a normal Python list\n",
    "records = []\n",
    "for r in stat_df[col].values:\n",
    "    if r is None:\n",
    "        # replace None with an empty dict\n",
    "        records.append({})\n",
    "    else:\n",
    "        records.append(r)\n",
    "\n",
    "# now build your DataFrame\n",
    "weeNG_stat_df = pd.DataFrame.from_records(records)\n",
    "weeNG_stat_df.index = stat_df.index\n",
    "\n",
    "px.line(weeNG_stat_df[\"compositeReturn\"])"
   ]
  },
  {
   "cell_type": "code",
   "execution_count": null,
   "metadata": {},
   "outputs": [],
   "source": [
    "weeNG_stat_df.columns"
   ]
  },
  {
   "cell_type": "code",
   "execution_count": null,
   "metadata": {},
   "outputs": [],
   "source": [
    "px.bar(weeNG_stat_df[\"ownedShares\"])"
   ]
  },
  {
   "cell_type": "markdown",
   "metadata": {},
   "source": [
    "### Something is up with weeth-ng"
   ]
  },
  {
   "cell_type": "code",
   "execution_count": null,
   "metadata": {},
   "outputs": [],
   "source": [
    "# destination_state_df = merge_tables_as_df(\n",
    "#     selectors=[\n",
    "#         TableSelector(\n",
    "#             DestinationStates,\n",
    "#             select_fields=[\n",
    "#                 DestinationStates.block,\n",
    "#                 DestinationStates.price_per_share,\n",
    "#                 DestinationStates.price_return,\n",
    "#                 DestinationStates.underlying_token_total_supply,\n",
    "#             ],\n",
    "#         ),\n",
    "#         TableSelector(\n",
    "#             DestinationTokenValues,\n",
    "#             select_fields=[\n",
    "#                 DestinationTokenValues.spot_price,\n",
    "#                 DestinationTokenValues.quantity,\n",
    "#             ],\n",
    "#             join_on=(\n",
    "#                 (DestinationStates.destination_vault_address == DestinationTokenValues.destination_vault_address)\n",
    "#                 & (DestinationStates.chain_id == DestinationTokenValues.chain_id)\n",
    "#                 & (DestinationStates.block == DestinationTokenValues.block)\n",
    "#             ),\n",
    "#         ),\n",
    "#         TableSelector(\n",
    "#             Destinations,\n",
    "#             select_fields=[\n",
    "#                 Destinations.underlying_symbol,\n",
    "#                 Destinations.pool_type,\n",
    "#             ],\n",
    "#             join_on=(\n",
    "#                 (Destinations.destination_vault_address == DestinationStates.destination_vault_address)\n",
    "#                 & (Destinations.chain_id == DestinationStates.chain_id)\n",
    "#             ),\n",
    "#         ),\n",
    "#         TableSelector(\n",
    "#             AutopoolDestinationStates,\n",
    "#             select_fields=[AutopoolDestinationStates.owned_shares],\n",
    "#             join_on=(\n",
    "#                 (DestinationStates.destination_vault_address == AutopoolDestinationStates.destination_vault_address)\n",
    "#                 & (DestinationStates.chain_id == AutopoolDestinationStates.chain_id)\n",
    "#                 & (DestinationStates.block == AutopoolDestinationStates.block)\n",
    "#             ),\n",
    "#         ),\n",
    "#         TableSelector(\n",
    "#             TokenValues,\n",
    "#             select_fields=[TokenValues.safe_price, TokenValues.backing, TokenValues.denominated_in],\n",
    "#             join_on=(\n",
    "#                 (DestinationTokenValues.token_address == TokenValues.token_address)\n",
    "#                 & (DestinationTokenValues.chain_id == TokenValues.chain_id)\n",
    "#                 & (DestinationTokenValues.block == TokenValues.block)\n",
    "#             ),\n",
    "#             row_filter=(TokenValues.denominated_in == AUTO_USD.base_asset),\n",
    "#         ),\n",
    "#         TableSelector(\n",
    "#             Tokens,\n",
    "#             select_fields=[Tokens.symbol,],\n",
    "#             join_on=(\n",
    "#                 (Tokens.token_address == TokenValues.token_address)\n",
    "#                 & (Tokens.chain_id == TokenValues.chain_id)\n",
    "#             ),\n",
    "#             row_filter=(TokenValues.denominated_in == AUTO_USD.base_asset),\n",
    "#         ),\n",
    "#         TableSelector(\n",
    "#             Blocks,\n",
    "#             select_fields=[Blocks.datetime],\n",
    "#             join_on=((DestinationStates.chain_id == Blocks.chain_id) & (DestinationStates.block == Blocks.block)),\n",
    "#         ),\n",
    "#     ],\n",
    "#     where_clause=(\n",
    "#         (AutopoolDestinationStates.autopool_vault_address == AUTO_USD.autopool_eth_addr)\n",
    "#         & (Blocks.block.in_(build_blocks_to_use(AUTO_USD.chain)))\n",
    "#     ),\n",
    "#     order_by=Blocks.datetime,\n",
    "# )\n",
    "\n",
    "# destination_state_df"
   ]
  },
  {
   "cell_type": "code",
   "execution_count": null,
   "metadata": {},
   "outputs": [],
   "source": [
    "destination_state_df = merge_tables_as_df(\n",
    "    selectors=[\n",
    "        TableSelector(\n",
    "            DestinationStates,\n",
    "            select_fields=[\n",
    "                DestinationStates.price_return,\n",
    "                DestinationStates.underlying_token_total_supply,\n",
    "            ],\n",
    "        ),\n",
    "        TableSelector(\n",
    "            Destinations,\n",
    "            select_fields=[\n",
    "                Destinations.underlying_symbol,\n",
    "                Destinations.pool_type,\n",
    "            ],\n",
    "            join_on=(\n",
    "                (Destinations.destination_vault_address == DestinationStates.destination_vault_address)\n",
    "                & (Destinations.chain_id == DestinationStates.chain_id)\n",
    "            ),\n",
    "        ),\n",
    "        TableSelector(\n",
    "            AutopoolDestinationStates,\n",
    "            select_fields=[AutopoolDestinationStates.owned_shares],\n",
    "            join_on=(\n",
    "                (DestinationStates.destination_vault_address == AutopoolDestinationStates.destination_vault_address)\n",
    "                & (DestinationStates.chain_id == AutopoolDestinationStates.chain_id)\n",
    "                & (DestinationStates.block == AutopoolDestinationStates.block)\n",
    "            ),\n",
    "        ),\n",
    "        TableSelector(\n",
    "            Blocks,\n",
    "            select_fields=[Blocks.datetime],\n",
    "            join_on=((DestinationStates.chain_id == Blocks.chain_id) & (DestinationStates.block == Blocks.block)),\n",
    "        ),\n",
    "    ],\n",
    "    where_clause=(\n",
    "        (AutopoolDestinationStates.autopool_vault_address == AUTO_ETH.autopool_eth_addr)\n",
    "        & (Blocks.block.in_(build_blocks_to_use(AUTO_ETH.chain)))\n",
    "    ),\n",
    "    order_by=Blocks.datetime,\n",
    ")\n",
    "\n",
    "destination_state_df"
   ]
  },
  {
   "cell_type": "code",
   "execution_count": null,
   "metadata": {},
   "outputs": [],
   "source": [
    "destination_state_df[\"portion_ownership\"] = (\n",
    "    destination_state_df[\"owned_shares\"] / destination_state_df[\"underlying_token_total_supply\"]\n",
    ")\n",
    "destination_state_df"
   ]
  },
  {
   "cell_type": "code",
   "execution_count": null,
   "metadata": {},
   "outputs": [],
   "source": [
    "total_supply_df = (\n",
    "    destination_state_df.groupby([\"datetime\", \"underlying_symbol\"])[\"underlying_token_total_supply\"]\n",
    "    .sum()\n",
    "    .reset_index()\n",
    "    .pivot(index=\"datetime\", values=\"underlying_token_total_supply\", columns=\"underlying_symbol\")\n",
    "    .fillna(0)\n",
    ")\n",
    "\n",
    "\n",
    "owned_shares_df = (\n",
    "    destination_state_df.groupby([\"datetime\", \"underlying_symbol\"])[\"owned_shares\"]\n",
    "    .sum()\n",
    "    .reset_index()\n",
    "    .pivot(index=\"datetime\", values=\"owned_shares\", columns=\"underlying_symbol\")\n",
    "    .fillna(0)\n",
    ")"
   ]
  },
  {
   "cell_type": "code",
   "execution_count": null,
   "metadata": {},
   "outputs": [],
   "source": [
    "portion_ownership_df = owned_shares_df / total_supply_df\n",
    "\n",
    "px.line(portion_ownership_df)"
   ]
  },
  {
   "cell_type": "code",
   "execution_count": null,
   "metadata": {},
   "outputs": [],
   "source": [
    "price_return_df = (\n",
    "    destination_state_df.groupby([\"datetime\", \"underlying_symbol\"])[\"price_return\"]\n",
    "    .min()\n",
    "    .reset_index()\n",
    "    .pivot(index=\"datetime\", values=\"price_return\", columns=\"underlying_symbol\")\n",
    "    .fillna(0)\n",
    ")\n",
    "\n",
    "px.line(price_return_df)"
   ]
  },
  {
   "cell_type": "code",
   "execution_count": null,
   "metadata": {},
   "outputs": [],
   "source": [
    "px.line((-100 * price_return_df * portion_ownership_df).sum(axis=1))\n",
    "# the portion is wrong, it should be out TVL / autopool tvl\n",
    "# not out % ownerhsip of the pool"
   ]
  },
  {
   "cell_type": "code",
   "execution_count": null,
   "metadata": {},
   "outputs": [],
   "source": []
  },
  {
   "cell_type": "code",
   "execution_count": null,
   "metadata": {},
   "outputs": [],
   "source": [
    "destination_state_df = merge_tables_as_df(\n",
    "    selectors=[\n",
    "        TableSelector(\n",
    "            DestinationStates,\n",
    "            select_fields=[\n",
    "                DestinationStates.destination_vault_address,\n",
    "                DestinationStates.block,\n",
    "                DestinationStates.incentive_apr,\n",
    "                DestinationStates.fee_apr,\n",
    "                DestinationStates.base_apr,\n",
    "                DestinationStates.price_per_share,\n",
    "                DestinationStates.price_return,\n",
    "                DestinationStates.lp_token_spot_price,\n",
    "            ],\n",
    "        ),\n",
    "        TableSelector(\n",
    "            AutopoolDestinationStates,\n",
    "            [\n",
    "                AutopoolDestinationStates.owned_shares,\n",
    "            ],\n",
    "            (DestinationStates.destination_vault_address == AutopoolDestinationStates.destination_vault_address)\n",
    "            & (DestinationStates.chain_id == AutopoolDestinationStates.chain_id)\n",
    "            & (DestinationStates.block == AutopoolDestinationStates.block),\n",
    "        ),\n",
    "        TableSelector(\n",
    "            Destinations,\n",
    "            [Destinations.pool_type],\n",
    "            (DestinationStates.destination_vault_address == Destinations.destination_vault_address)\n",
    "            & (DestinationStates.chain_id == Destinations.chain_id),\n",
    "        ),\n",
    "        TableSelector(\n",
    "            AutopoolStates,\n",
    "            [AutopoolStates.total_nav],\n",
    "            (AutopoolStates.autopool_vault_address == AUTO_ETH.autopool_eth_addr)\n",
    "            & (AutopoolStates.chain_id == DestinationStates.chain_id)\n",
    "            & (AutopoolStates.block == DestinationStates.block),\n",
    "        ),\n",
    "        TableSelector(\n",
    "            Blocks,\n",
    "            Blocks.datetime,\n",
    "            (DestinationStates.block == Blocks.block) & (DestinationStates.chain_id == Blocks.chain_id),\n",
    "        ),\n",
    "    ],\n",
    "    where_clause=(AutopoolDestinationStates.autopool_vault_address == AUTO_ETH.autopool_eth_addr)\n",
    "    & (Blocks.block.in_(build_blocks_to_use(AUTO_ETH.chain))),\n",
    "    order_by=Blocks.datetime,\n",
    ")\n",
    "\n",
    "owned_shares_df = destination_state_df.pivot(\n",
    "    index=\"datetime\", values=\"owned_shares\", columns=\"destination_vault_address\"\n",
    ")\n",
    "\n",
    "price_per_share_df = destination_state_df.pivot(\n",
    "    index=\"datetime\", values=\"price_per_share\", columns=\"destination_vault_address\"\n",
    ")\n",
    "\n",
    "allocation_df = (price_per_share_df * owned_shares_df).fillna(0)\n",
    "total_nav_series = allocation_df.sum(axis=1)\n",
    "\n",
    "portion_df = allocation_df.div(total_nav_series, axis=1)\n",
    "\n",
    "destination_state_df[\"unweighted_apr\"] = destination_state_df[[\"fee_apr\", \"base_apr\", \"incentive_apr\"]].sum(axis=1)\n",
    "\n",
    "uwcr_df = destination_state_df.pivot(index=\"datetime\", values=\"unweighted_apr\", columns=\"destination_vault_address\")\n",
    "expected_return_series = 100 * (portion_df.fillna(0) * uwcr_df.fillna(0)).sum(axis=1)\n",
    "\n",
    "price_return_df = destination_state_df.pivot(\n",
    "    index=\"datetime\", values=\"price_return\", columns=\"destination_vault_address\"\n",
    ")\n",
    "\n",
    "# pretty sure the issue here is that it is not properly grouping values by price return\n",
    "# price return is still not correct\n",
    "weighted_price_return_series = -100 * (portion_df.fillna(0) * price_return_df.fillna(0)).sum(axis=1)"
   ]
  },
  {
   "cell_type": "code",
   "execution_count": null,
   "metadata": {},
   "outputs": [],
   "source": [
    "owned_shares_df = destination_state_df.pivot(\n",
    "    index=\"datetime\", values=\"owned_shares\", columns=\"destination_vault_address\"\n",
    ").fillna(0)\n",
    "owned_shares_df"
   ]
  },
  {
   "cell_type": "code",
   "execution_count": null,
   "metadata": {},
   "outputs": [],
   "source": [
    "price_per_share_df = destination_state_df.pivot(\n",
    "    index=\"datetime\", values=\"price_per_share\", columns=\"destination_vault_address\"\n",
    ")\n",
    "price_per_share_df"
   ]
  },
  {
   "cell_type": "code",
   "execution_count": null,
   "metadata": {},
   "outputs": [],
   "source": [
    "destination_state_df = merge_tables_as_df(\n",
    "    selectors=[\n",
    "        # 1) Base table: DestinationStates\n",
    "        TableSelector(\n",
    "            DestinationStates,\n",
    "            select_fields=[\n",
    "                DestinationStates.destination_vault_address,\n",
    "                DestinationStates.underlying_token_total_supply,\n",
    "            ],\n",
    "        ),\n",
    "        # 2) AutopoolDestinationStates → join on vault+chain+block\n",
    "        TableSelector(\n",
    "            AutopoolDestinationStates,\n",
    "            select_fields=[AutopoolDestinationStates.owned_shares],\n",
    "            join_on=(\n",
    "                (DestinationStates.destination_vault_address == AutopoolDestinationStates.destination_vault_address)\n",
    "                & (DestinationStates.chain_id == AutopoolDestinationStates.chain_id)\n",
    "                & (DestinationStates.block == AutopoolDestinationStates.block)\n",
    "            ),\n",
    "        ),\n",
    "        # 4) Blocks → join on block+chain\n",
    "        TableSelector(\n",
    "            Blocks,\n",
    "            select_fields=[Blocks.datetime],\n",
    "            join_on=((DestinationStates.block == Blocks.block) & (DestinationStates.chain_id == Blocks.chain_id)),\n",
    "        ),\n",
    "    ],\n",
    "    where_clause=(\n",
    "        (AutopoolDestinationStates.autopool_vault_address == AUTO_ETH.autopool_eth_addr)\n",
    "        & (Blocks.block.in_(build_blocks_to_use(AUTO_ETH.chain)))\n",
    "    ),\n",
    "    order_by=Blocks.datetime,\n",
    ")\n",
    "\n",
    "# care about (destination_vault_address,\n",
    "destination_state_df[\"portion_ownership\"] = (\n",
    "    destination_state_df[\"owned_shares\"] / destination_state_df[\"underlying_token_total_supply\"]\n",
    ")"
   ]
  },
  {
   "cell_type": "code",
   "execution_count": null,
   "metadata": {},
   "outputs": [],
   "source": [
    "destination_state_df[[\"datetime\", \"destination_vault_address\"]].value_counts().sort_values()"
   ]
  },
  {
   "cell_type": "code",
   "execution_count": null,
   "metadata": {},
   "outputs": [],
   "source": [
    "token_value_df = merge_tables_as_df(\n",
    "    selectors=[\n",
    "        TableSelector(\n",
    "            DestinationTokenValues,\n",
    "            select_fields=[\n",
    "                DestinationTokenValues.destination_vault_address,\n",
    "                DestinationTokenValues.token_address,\n",
    "                DestinationTokenValues.quantity,\n",
    "            ],\n",
    "        ),\n",
    "        TableSelector(\n",
    "            TokenValues,\n",
    "            select_fields=[TokenValues.safe_price, TokenValues.backing],\n",
    "            join_on=(\n",
    "                (TokenValues.chain_id == DestinationTokenValues.chain_id)\n",
    "                & (TokenValues.block == DestinationTokenValues.block)\n",
    "                & (TokenValues.token_address == DestinationTokenValues.token_address)\n",
    "                & (TokenValues.denominated_in == AUTO_ETH.base_asset)\n",
    "            ),\n",
    "        ),\n",
    "        TableSelector(\n",
    "            Tokens,\n",
    "            select_fields=[Tokens.symbol],\n",
    "            join_on=((Tokens.chain_id == TokenValues.chain_id) & (Tokens.token_address == TokenValues.token_address)),\n",
    "        ),\n",
    "        TableSelector(\n",
    "            Blocks,\n",
    "            select_fields=[Blocks.datetime],\n",
    "            join_on=((TokenValues.block == Blocks.block) & (TokenValues.chain_id == Blocks.chain_id)),\n",
    "        ),\n",
    "    ],\n",
    "    where_clause=((Blocks.block.in_(build_blocks_to_use(AUTO_ETH.chain)))),\n",
    "    order_by=Blocks.datetime,\n",
    ")\n",
    "\n",
    "token_value_df"
   ]
  },
  {
   "cell_type": "code",
   "execution_count": null,
   "metadata": {},
   "outputs": [],
   "source": [
    "df = pd.merge(\n",
    "    token_value_df,\n",
    "    destination_state_df,\n",
    "    on=[\"datetime\", \"destination_vault_address\"],\n",
    "    how=\"left\",\n",
    ")\n",
    "df[\"safe_value\"] = df[\"quantity\"] * df[\"safe_price\"] * df[\"portion_ownership\"]\n",
    "df[\"backing_value\"] = df[\"quantity\"] * df[\"backing\"] * df[\"portion_ownership\"]\n",
    "\n",
    "total_safe_and_backing_value = df.groupby([\"datetime\", \"symbol\"])[[\"safe_value\", \"backing_value\"]].sum().reset_index()\n",
    "\n",
    "safe_value_df = total_safe_and_backing_value.pivot(index=\"datetime\", values=\"safe_value\", columns=\"symbol\").fillna(0)\n",
    "backing_value_df = total_safe_and_backing_value.pivot(\n",
    "    index=\"datetime\", values=\"backing_value\", columns=\"symbol\"\n",
    ").fillna(0)\n",
    "\n",
    "px.bar(safe_value_df)"
   ]
  },
  {
   "cell_type": "code",
   "execution_count": null,
   "metadata": {},
   "outputs": [],
   "source": [
    "px.line((backing_value_df - safe_value_df))"
   ]
  },
  {
   "cell_type": "code",
   "execution_count": null,
   "metadata": {},
   "outputs": [],
   "source": [
    "df[\"price_return\"] = 100 * (df[\"backing\"] - df[\"safe_price\"]) / df[\"backing\"]\n",
    "\n",
    "price_return_df = df.groupby([\"datetime\", \"symbol\"])[\"price_return\"].first().reset_index()\n",
    "price_return_df"
   ]
  },
  {
   "cell_type": "code",
   "execution_count": null,
   "metadata": {},
   "outputs": [],
   "source": [
    "px.line(100 * (backing_value_df.sum(axis=1) - safe_value_df.sum(axis=1)) / backing_value_df.sum(axis=1))"
   ]
  },
  {
   "cell_type": "code",
   "execution_count": null,
   "metadata": {},
   "outputs": [],
   "source": []
  }
 ],
 "metadata": {
  "kernelspec": {
   "display_name": "mainnet-launch-FtycU18g-py3.10",
   "language": "python",
   "name": "python3"
  },
  "language_info": {
   "codemirror_mode": {
    "name": "ipython",
    "version": 3
   },
   "file_extension": ".py",
   "mimetype": "text/x-python",
   "name": "python",
   "nbconvert_exporter": "python",
   "pygments_lexer": "ipython3",
   "version": "3.10.14"
  }
 },
 "nbformat": 4,
 "nbformat_minor": 2
}
