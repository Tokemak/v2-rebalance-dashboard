{
 "cells": [
  {
   "cell_type": "code",
   "execution_count": 1,
   "metadata": {},
   "outputs": [
    {
     "name": "stderr",
     "output_type": "stream",
     "text": [
      "2025-06-09 13:17:17.613 WARNING streamlit.runtime.caching.cache_data_api: No runtime found, using MemoryCacheStorageManager\n",
      "2025-06-09 13:17:17.615 WARNING streamlit.runtime.scriptrunner_utils.script_run_context: Thread 'MainThread': missing ScriptRunContext! This warning can be ignored when running in bare mode.\n",
      "2025-06-09 13:17:17.696 \n",
      "  \u001b[33m\u001b[1mWarning:\u001b[0m to view this Streamlit app on a browser, run it with the following\n",
      "  command:\n",
      "\n",
      "    streamlit run /Users/pb/Library/Caches/pypoetry/virtualenvs/mainnet-launch-FtycU18g-py3.10/lib/python3.10/site-packages/ipykernel_launcher.py [ARGUMENTS]\n",
      "2025-06-09 13:17:17.696 Thread 'MainThread': missing ScriptRunContext! This warning can be ignored when running in bare mode.\n",
      "2025-06-09 13:17:17.697 Thread 'MainThread': missing ScriptRunContext! This warning can be ignored when running in bare mode.\n",
      "2025-06-09 13:17:17.697 No runtime found, using MemoryCacheStorageManager\n",
      "2025-06-09 13:17:18.202 Thread 'Thread-4': missing ScriptRunContext! This warning can be ignored when running in bare mode.\n",
      "2025-06-09 13:17:18.203 Thread 'Thread-4': missing ScriptRunContext! This warning can be ignored when running in bare mode.\n",
      "2025-06-09 13:17:19.615 Thread 'MainThread': missing ScriptRunContext! This warning can be ignored when running in bare mode.\n",
      "2025-06-09 13:17:19.616 Thread 'MainThread': missing ScriptRunContext! This warning can be ignored when running in bare mode.\n",
      "2025-06-09 13:17:19.617 Thread 'MainThread': missing ScriptRunContext! This warning can be ignored when running in bare mode.\n",
      "2025-06-09 13:17:19.618 Thread 'MainThread': missing ScriptRunContext! This warning can be ignored when running in bare mode.\n",
      "2025-06-09 13:17:19.618 Thread 'MainThread': missing ScriptRunContext! This warning can be ignored when running in bare mode.\n",
      "2025-06-09 13:17:19.986 Thread 'MainThread': missing ScriptRunContext! This warning can be ignored when running in bare mode.\n",
      "2025-06-09 13:17:19.987 Thread 'MainThread': missing ScriptRunContext! This warning can be ignored when running in bare mode.\n"
     ]
    }
   ],
   "source": [
    "import plotly.express as px\n",
    "from mainnet_launch.constants import *\n",
    "from mainnet_launch.pages.rebalance_events.rebalance_events import fetch_rebalance_events_df\n",
    "from mainnet_launch.database.schema.postgres_operations import get_full_table_as_df\n",
    "from mainnet_launch.database.schema.full import *\n",
    "import plotly.io as pio\n",
    "\n",
    "pio.templates.default = None\n",
    "\n",
    "autopool = AUTO_DOLA\n",
    "df = fetch_rebalance_events_df(autopool)\n",
    "# you need to rename the spot swap cost values\n",
    "\n",
    "# px.scatter(df, x='swap_cost_in_bps_of_value_out', y='safe_slippage_bps', color='long_move_name')"
   ]
  },
  {
   "cell_type": "code",
   "execution_count": 2,
   "metadata": {},
   "outputs": [
    {
     "data": {
      "application/vnd.plotly.v1+json": {
       "config": {
        "plotlyServerURL": "https://plot.ly"
       },
       "data": [
        {
         "customdata": [
          [
           "autoDOLA -> reusdsdola"
          ],
          [
           "autoDOLA -> reusdsdola"
          ],
          [
           "autoDOLA -> reusdsdola"
          ],
          [
           "autoDOLA -> reusdsdola"
          ],
          [
           "autoDOLA -> reusdsdola"
          ],
          [
           "autoDOLA -> sDOLA"
          ],
          [
           "autoDOLA -> sDOLA"
          ],
          [
           "autoDOLA -> reusdsdola"
          ],
          [
           "autoDOLA -> reusdsdola"
          ],
          [
           "autoDOLA -> sDOLA"
          ],
          [
           "autoDOLA -> reusdsdola"
          ],
          [
           "autoDOLA -> reusdsdola"
          ],
          [
           "autoDOLA -> reusdsdola"
          ],
          [
           "autoDOLA -> reusdsdola"
          ],
          [
           "autoDOLA -> reusdsdola"
          ],
          [
           "autoDOLA -> savedola"
          ],
          [
           "autoDOLA -> reusdsdola"
          ],
          [
           "autoDOLA -> savedola"
          ],
          [
           "autoDOLA -> savedola"
          ],
          [
           "autoDOLA -> sDOLA"
          ],
          [
           "autoDOLA -> reusdsdola"
          ],
          [
           "autoDOLA -> reusdsdola"
          ],
          [
           "autoDOLA -> reusdsdola"
          ],
          [
           "autoDOLA -> savedola"
          ],
          [
           "autoDOLA -> savedola"
          ],
          [
           "autoDOLA -> savedola"
          ],
          [
           "autoDOLA -> savedola"
          ],
          [
           "autoDOLA -> reusdsdola"
          ],
          [
           "autoDOLA -> sDOLA"
          ],
          [
           "autoDOLA -> DOLA-sUSDe"
          ],
          [
           "autoDOLA -> reusdsdola"
          ],
          [
           "autoDOLA -> reusdsdola"
          ],
          [
           "autoDOLA -> reusdsdola"
          ],
          [
           "autoDOLA -> DOLA-sUSDe"
          ],
          [
           "autoDOLA -> savedola"
          ],
          [
           "autoDOLA -> reusdsdola"
          ],
          [
           "autoDOLA -> DOLA-sUSDS"
          ],
          [
           "autoDOLA -> savedola"
          ],
          [
           "sDOLA -> savedola"
          ],
          [
           "sDOLA -> savedola"
          ],
          [
           "autoDOLA -> reusdsdola"
          ],
          [
           "autoDOLA -> reusdsdola"
          ],
          [
           "autoDOLA -> DOLA-sUSDe"
          ],
          [
           "autoDOLA -> reusdsdola"
          ],
          [
           "autoDOLA -> savedola"
          ],
          [
           "autoDOLA -> DOLA-sUSDe"
          ]
         ],
         "hovertemplate": "swap_cost_in_bps_of_value_out=%{x}<br>spot_value_out=%{y}<br>move_code=%{z}<br>move_name=%{customdata[0]}<extra></extra>",
         "legendgroup": "",
         "marker": {
          "color": "#636efa",
          "symbol": "circle"
         },
         "mode": "markers",
         "name": "",
         "scene": "scene",
         "showlegend": false,
         "type": "scatter3d",
         "x": [
          5.986494915881511,
          4.617264638485494,
          3.278576207004562,
          5.743571585180689,
          15.936186027829535,
          1.4999999999997997,
          1.4999999999997997,
          13.419549219473266,
          0.9278588695626242,
          1.4999999999993512,
          5.4306558494373185,
          6.329463956877668,
          5.173376544467753,
          4.491757933424087,
          3.3860235263348493,
          3.711993248152188,
          4.847405889851264,
          2.3235700086649254,
          -3.0058904987604667,
          1.4999999999993532,
          3.6370848645145695,
          1.2804040904079252,
          2.7660648698103616,
          7.823233753369035,
          2.2518141106294935,
          3.247824065865037,
          1.7643177751548744,
          4.122605268655267,
          1.499999999999674,
          -41.05956577155351,
          3.8784966284299505,
          4.817475739332925,
          2.0732058554046184,
          1.3105880640590233,
          4.953801425564046,
          4.19871597457935,
          3.740361171222077,
          4.2515481383089995,
          6.213607030312461,
          7.527259180187351,
          1.8424922733116549,
          4.792750261459151,
          2.6241762236342767,
          1.2840095026225153,
          -1.8063239611758037,
          0.18325978281936844
         ],
         "y": [
          260.7114425462012,
          250,
          250,
          20000,
          40000,
          507586.6516467986,
          253793.3258233993,
          49999.99999999999,
          49999.99999999999,
          254700.37768009517,
          48259.25497266585,
          36194.44122949939,
          35783.81921968047,
          125000,
          56416.401782781046,
          60000,
          60000,
          60000,
          75000,
          532669.1140017052,
          75000,
          75000,
          75000,
          75000,
          75000,
          60000,
          75000,
          75000,
          75000,
          75000,
          66385.58242811033,
          60000,
          60000,
          60000,
          19490.357562060803,
          53090.327733157974,
          60877.19039550299,
          11903.804230886912,
          50000.00921861438,
          50000.00921854155,
          24999.999999999996,
          24999.999999999996,
          24999.999999999996,
          29936.547291357576,
          24999.999999999996,
          24999.999999999996
         ],
         "z": [
          2,
          2,
          2,
          2,
          2,
          3,
          3,
          2,
          2,
          3,
          2,
          2,
          2,
          2,
          2,
          4,
          2,
          4,
          4,
          3,
          2,
          2,
          2,
          4,
          4,
          4,
          4,
          2,
          3,
          1,
          2,
          2,
          2,
          1,
          4,
          2,
          0,
          4,
          5,
          5,
          2,
          2,
          1,
          2,
          4,
          1
         ]
        }
       ],
       "layout": {
        "legend": {
         "tracegroupgap": 0
        },
        "scene": {
         "domain": {
          "x": [
           0,
           1
          ],
          "y": [
           0,
           1
          ]
         },
         "xaxis": {
          "title": {
           "text": "swap_cost_in_bps_of_value_out"
          }
         },
         "yaxis": {
          "title": {
           "text": "spot_value_out"
          }
         },
         "zaxis": {
          "tickmode": "array",
          "ticktext": [
           "autoDOLA -> DOLA-sUSDS",
           "autoDOLA -> DOLA-sUSDe",
           "autoDOLA -> reusdsdola",
           "autoDOLA -> sDOLA",
           "autoDOLA -> savedola",
           "sDOLA -> savedola"
          ],
          "tickvals": [
           0,
           1,
           2,
           3,
           4,
           5
          ],
          "title": {
           "text": "move_name"
          }
         }
        },
        "template": {
         "data": {
          "bar": [
           {
            "error_x": {
             "color": "#2a3f5f"
            },
            "error_y": {
             "color": "#2a3f5f"
            },
            "marker": {
             "line": {
              "color": "#E5ECF6",
              "width": 0.5
             },
             "pattern": {
              "fillmode": "overlay",
              "size": 10,
              "solidity": 0.2
             }
            },
            "type": "bar"
           }
          ],
          "barpolar": [
           {
            "marker": {
             "line": {
              "color": "#E5ECF6",
              "width": 0.5
             },
             "pattern": {
              "fillmode": "overlay",
              "size": 10,
              "solidity": 0.2
             }
            },
            "type": "barpolar"
           }
          ],
          "carpet": [
           {
            "aaxis": {
             "endlinecolor": "#2a3f5f",
             "gridcolor": "white",
             "linecolor": "white",
             "minorgridcolor": "white",
             "startlinecolor": "#2a3f5f"
            },
            "baxis": {
             "endlinecolor": "#2a3f5f",
             "gridcolor": "white",
             "linecolor": "white",
             "minorgridcolor": "white",
             "startlinecolor": "#2a3f5f"
            },
            "type": "carpet"
           }
          ],
          "choropleth": [
           {
            "colorbar": {
             "outlinewidth": 0,
             "ticks": ""
            },
            "type": "choropleth"
           }
          ],
          "contour": [
           {
            "colorbar": {
             "outlinewidth": 0,
             "ticks": ""
            },
            "colorscale": [
             [
              0,
              "#0d0887"
             ],
             [
              0.1111111111111111,
              "#46039f"
             ],
             [
              0.2222222222222222,
              "#7201a8"
             ],
             [
              0.3333333333333333,
              "#9c179e"
             ],
             [
              0.4444444444444444,
              "#bd3786"
             ],
             [
              0.5555555555555556,
              "#d8576b"
             ],
             [
              0.6666666666666666,
              "#ed7953"
             ],
             [
              0.7777777777777778,
              "#fb9f3a"
             ],
             [
              0.8888888888888888,
              "#fdca26"
             ],
             [
              1,
              "#f0f921"
             ]
            ],
            "type": "contour"
           }
          ],
          "contourcarpet": [
           {
            "colorbar": {
             "outlinewidth": 0,
             "ticks": ""
            },
            "type": "contourcarpet"
           }
          ],
          "heatmap": [
           {
            "colorbar": {
             "outlinewidth": 0,
             "ticks": ""
            },
            "colorscale": [
             [
              0,
              "#0d0887"
             ],
             [
              0.1111111111111111,
              "#46039f"
             ],
             [
              0.2222222222222222,
              "#7201a8"
             ],
             [
              0.3333333333333333,
              "#9c179e"
             ],
             [
              0.4444444444444444,
              "#bd3786"
             ],
             [
              0.5555555555555556,
              "#d8576b"
             ],
             [
              0.6666666666666666,
              "#ed7953"
             ],
             [
              0.7777777777777778,
              "#fb9f3a"
             ],
             [
              0.8888888888888888,
              "#fdca26"
             ],
             [
              1,
              "#f0f921"
             ]
            ],
            "type": "heatmap"
           }
          ],
          "heatmapgl": [
           {
            "colorbar": {
             "outlinewidth": 0,
             "ticks": ""
            },
            "colorscale": [
             [
              0,
              "#0d0887"
             ],
             [
              0.1111111111111111,
              "#46039f"
             ],
             [
              0.2222222222222222,
              "#7201a8"
             ],
             [
              0.3333333333333333,
              "#9c179e"
             ],
             [
              0.4444444444444444,
              "#bd3786"
             ],
             [
              0.5555555555555556,
              "#d8576b"
             ],
             [
              0.6666666666666666,
              "#ed7953"
             ],
             [
              0.7777777777777778,
              "#fb9f3a"
             ],
             [
              0.8888888888888888,
              "#fdca26"
             ],
             [
              1,
              "#f0f921"
             ]
            ],
            "type": "heatmapgl"
           }
          ],
          "histogram": [
           {
            "marker": {
             "pattern": {
              "fillmode": "overlay",
              "size": 10,
              "solidity": 0.2
             }
            },
            "type": "histogram"
           }
          ],
          "histogram2d": [
           {
            "colorbar": {
             "outlinewidth": 0,
             "ticks": ""
            },
            "colorscale": [
             [
              0,
              "#0d0887"
             ],
             [
              0.1111111111111111,
              "#46039f"
             ],
             [
              0.2222222222222222,
              "#7201a8"
             ],
             [
              0.3333333333333333,
              "#9c179e"
             ],
             [
              0.4444444444444444,
              "#bd3786"
             ],
             [
              0.5555555555555556,
              "#d8576b"
             ],
             [
              0.6666666666666666,
              "#ed7953"
             ],
             [
              0.7777777777777778,
              "#fb9f3a"
             ],
             [
              0.8888888888888888,
              "#fdca26"
             ],
             [
              1,
              "#f0f921"
             ]
            ],
            "type": "histogram2d"
           }
          ],
          "histogram2dcontour": [
           {
            "colorbar": {
             "outlinewidth": 0,
             "ticks": ""
            },
            "colorscale": [
             [
              0,
              "#0d0887"
             ],
             [
              0.1111111111111111,
              "#46039f"
             ],
             [
              0.2222222222222222,
              "#7201a8"
             ],
             [
              0.3333333333333333,
              "#9c179e"
             ],
             [
              0.4444444444444444,
              "#bd3786"
             ],
             [
              0.5555555555555556,
              "#d8576b"
             ],
             [
              0.6666666666666666,
              "#ed7953"
             ],
             [
              0.7777777777777778,
              "#fb9f3a"
             ],
             [
              0.8888888888888888,
              "#fdca26"
             ],
             [
              1,
              "#f0f921"
             ]
            ],
            "type": "histogram2dcontour"
           }
          ],
          "mesh3d": [
           {
            "colorbar": {
             "outlinewidth": 0,
             "ticks": ""
            },
            "type": "mesh3d"
           }
          ],
          "parcoords": [
           {
            "line": {
             "colorbar": {
              "outlinewidth": 0,
              "ticks": ""
             }
            },
            "type": "parcoords"
           }
          ],
          "pie": [
           {
            "automargin": true,
            "type": "pie"
           }
          ],
          "scatter": [
           {
            "fillpattern": {
             "fillmode": "overlay",
             "size": 10,
             "solidity": 0.2
            },
            "type": "scatter"
           }
          ],
          "scatter3d": [
           {
            "line": {
             "colorbar": {
              "outlinewidth": 0,
              "ticks": ""
             }
            },
            "marker": {
             "colorbar": {
              "outlinewidth": 0,
              "ticks": ""
             }
            },
            "type": "scatter3d"
           }
          ],
          "scattercarpet": [
           {
            "marker": {
             "colorbar": {
              "outlinewidth": 0,
              "ticks": ""
             }
            },
            "type": "scattercarpet"
           }
          ],
          "scattergeo": [
           {
            "marker": {
             "colorbar": {
              "outlinewidth": 0,
              "ticks": ""
             }
            },
            "type": "scattergeo"
           }
          ],
          "scattergl": [
           {
            "marker": {
             "colorbar": {
              "outlinewidth": 0,
              "ticks": ""
             }
            },
            "type": "scattergl"
           }
          ],
          "scattermapbox": [
           {
            "marker": {
             "colorbar": {
              "outlinewidth": 0,
              "ticks": ""
             }
            },
            "type": "scattermapbox"
           }
          ],
          "scatterpolar": [
           {
            "marker": {
             "colorbar": {
              "outlinewidth": 0,
              "ticks": ""
             }
            },
            "type": "scatterpolar"
           }
          ],
          "scatterpolargl": [
           {
            "marker": {
             "colorbar": {
              "outlinewidth": 0,
              "ticks": ""
             }
            },
            "type": "scatterpolargl"
           }
          ],
          "scatterternary": [
           {
            "marker": {
             "colorbar": {
              "outlinewidth": 0,
              "ticks": ""
             }
            },
            "type": "scatterternary"
           }
          ],
          "surface": [
           {
            "colorbar": {
             "outlinewidth": 0,
             "ticks": ""
            },
            "colorscale": [
             [
              0,
              "#0d0887"
             ],
             [
              0.1111111111111111,
              "#46039f"
             ],
             [
              0.2222222222222222,
              "#7201a8"
             ],
             [
              0.3333333333333333,
              "#9c179e"
             ],
             [
              0.4444444444444444,
              "#bd3786"
             ],
             [
              0.5555555555555556,
              "#d8576b"
             ],
             [
              0.6666666666666666,
              "#ed7953"
             ],
             [
              0.7777777777777778,
              "#fb9f3a"
             ],
             [
              0.8888888888888888,
              "#fdca26"
             ],
             [
              1,
              "#f0f921"
             ]
            ],
            "type": "surface"
           }
          ],
          "table": [
           {
            "cells": {
             "fill": {
              "color": "#EBF0F8"
             },
             "line": {
              "color": "white"
             }
            },
            "header": {
             "fill": {
              "color": "#C8D4E3"
             },
             "line": {
              "color": "white"
             }
            },
            "type": "table"
           }
          ]
         },
         "layout": {
          "annotationdefaults": {
           "arrowcolor": "#2a3f5f",
           "arrowhead": 0,
           "arrowwidth": 1
          },
          "autotypenumbers": "strict",
          "coloraxis": {
           "colorbar": {
            "outlinewidth": 0,
            "ticks": ""
           }
          },
          "colorscale": {
           "diverging": [
            [
             0,
             "#8e0152"
            ],
            [
             0.1,
             "#c51b7d"
            ],
            [
             0.2,
             "#de77ae"
            ],
            [
             0.3,
             "#f1b6da"
            ],
            [
             0.4,
             "#fde0ef"
            ],
            [
             0.5,
             "#f7f7f7"
            ],
            [
             0.6,
             "#e6f5d0"
            ],
            [
             0.7,
             "#b8e186"
            ],
            [
             0.8,
             "#7fbc41"
            ],
            [
             0.9,
             "#4d9221"
            ],
            [
             1,
             "#276419"
            ]
           ],
           "sequential": [
            [
             0,
             "#0d0887"
            ],
            [
             0.1111111111111111,
             "#46039f"
            ],
            [
             0.2222222222222222,
             "#7201a8"
            ],
            [
             0.3333333333333333,
             "#9c179e"
            ],
            [
             0.4444444444444444,
             "#bd3786"
            ],
            [
             0.5555555555555556,
             "#d8576b"
            ],
            [
             0.6666666666666666,
             "#ed7953"
            ],
            [
             0.7777777777777778,
             "#fb9f3a"
            ],
            [
             0.8888888888888888,
             "#fdca26"
            ],
            [
             1,
             "#f0f921"
            ]
           ],
           "sequentialminus": [
            [
             0,
             "#0d0887"
            ],
            [
             0.1111111111111111,
             "#46039f"
            ],
            [
             0.2222222222222222,
             "#7201a8"
            ],
            [
             0.3333333333333333,
             "#9c179e"
            ],
            [
             0.4444444444444444,
             "#bd3786"
            ],
            [
             0.5555555555555556,
             "#d8576b"
            ],
            [
             0.6666666666666666,
             "#ed7953"
            ],
            [
             0.7777777777777778,
             "#fb9f3a"
            ],
            [
             0.8888888888888888,
             "#fdca26"
            ],
            [
             1,
             "#f0f921"
            ]
           ]
          },
          "colorway": [
           "#636efa",
           "#EF553B",
           "#00cc96",
           "#ab63fa",
           "#FFA15A",
           "#19d3f3",
           "#FF6692",
           "#B6E880",
           "#FF97FF",
           "#FECB52"
          ],
          "font": {
           "color": "#2a3f5f"
          },
          "geo": {
           "bgcolor": "white",
           "lakecolor": "white",
           "landcolor": "#E5ECF6",
           "showlakes": true,
           "showland": true,
           "subunitcolor": "white"
          },
          "hoverlabel": {
           "align": "left"
          },
          "hovermode": "closest",
          "mapbox": {
           "style": "light"
          },
          "paper_bgcolor": "white",
          "plot_bgcolor": "#E5ECF6",
          "polar": {
           "angularaxis": {
            "gridcolor": "white",
            "linecolor": "white",
            "ticks": ""
           },
           "bgcolor": "#E5ECF6",
           "radialaxis": {
            "gridcolor": "white",
            "linecolor": "white",
            "ticks": ""
           }
          },
          "scene": {
           "xaxis": {
            "backgroundcolor": "#E5ECF6",
            "gridcolor": "white",
            "gridwidth": 2,
            "linecolor": "white",
            "showbackground": true,
            "ticks": "",
            "zerolinecolor": "white"
           },
           "yaxis": {
            "backgroundcolor": "#E5ECF6",
            "gridcolor": "white",
            "gridwidth": 2,
            "linecolor": "white",
            "showbackground": true,
            "ticks": "",
            "zerolinecolor": "white"
           },
           "zaxis": {
            "backgroundcolor": "#E5ECF6",
            "gridcolor": "white",
            "gridwidth": 2,
            "linecolor": "white",
            "showbackground": true,
            "ticks": "",
            "zerolinecolor": "white"
           }
          },
          "shapedefaults": {
           "line": {
            "color": "#2a3f5f"
           }
          },
          "ternary": {
           "aaxis": {
            "gridcolor": "white",
            "linecolor": "white",
            "ticks": ""
           },
           "baxis": {
            "gridcolor": "white",
            "linecolor": "white",
            "ticks": ""
           },
           "bgcolor": "#E5ECF6",
           "caxis": {
            "gridcolor": "white",
            "linecolor": "white",
            "ticks": ""
           }
          },
          "title": {
           "x": 0.05
          },
          "xaxis": {
           "automargin": true,
           "gridcolor": "white",
           "linecolor": "white",
           "ticks": "",
           "title": {
            "standoff": 15
           },
           "zerolinecolor": "white",
           "zerolinewidth": 2
          },
          "yaxis": {
           "automargin": true,
           "gridcolor": "white",
           "linecolor": "white",
           "ticks": "",
           "title": {
            "standoff": 15
           },
           "zerolinecolor": "white",
           "zerolinewidth": 2
          }
         }
        },
        "title": {
         "text": "3d swap vs spot by move"
        }
       }
      }
     },
     "metadata": {},
     "output_type": "display_data"
    }
   ],
   "source": [
    "import streamlit as st\n",
    "import plotly.express as px\n",
    "\n",
    "# map move_name to numeric codes so z-axis can be categorical\n",
    "df[\"move_code\"] = df[\"move_name\"].astype(\"category\").cat.codes\n",
    "cats = list(df[\"move_name\"].astype(\"category\").cat.categories)\n",
    "\n",
    "fig = px.scatter_3d(\n",
    "    df,\n",
    "    x=\"swap_cost_in_bps_of_value_out\",\n",
    "    y=\"spot_value_out\",\n",
    "    z=\"move_code\",\n",
    "    hover_data=[\"move_name\"],\n",
    "    title=\"3d swap vs spot by move\",\n",
    ")\n",
    "\n",
    "fig.update_layout(\n",
    "    scene=dict(\n",
    "        xaxis_title=\"swap_cost_in_bps_of_value_out\",\n",
    "        yaxis_title=\"spot_value_out\",\n",
    "        zaxis=dict(title=\"move_name\", tickmode=\"array\", tickvals=list(range(len(cats))), ticktext=cats),\n",
    "    )\n",
    ")\n",
    "\n",
    "# st.plotly_chart(fig, use_container_width=True)\n",
    "fig.show()"
   ]
  },
  {
   "cell_type": "code",
   "execution_count": null,
   "metadata": {},
   "outputs": [
    {
     "ename": "",
     "evalue": "",
     "output_type": "error",
     "traceback": [
      "\u001b[1;31mnotebook controller is DISPOSED. \n",
      "\u001b[1;31mView Jupyter <a href='command:jupyter.viewOutput'>log</a> for further details."
     ]
    }
   ],
   "source": [
    "import streamlit as st\n",
    "import plotly.express as px\n",
    "\n",
    "# encode move_name as codes for z axis\n",
    "df[\"move_code\"] = df[\"move_name\"].astype(\"category\").cat.codes\n",
    "cats = df[\"move_name\"].astype(\"category\").cat.categories.tolist()\n",
    "\n",
    "fig = px.scatter(\n",
    "    df,\n",
    "    x=\"swap_cost_in_bps_of_value_out\",\n",
    "    y=\"spot_value_out\",\n",
    "    color=\"move_name\",\n",
    "    hover_data=[\"move_name\"],\n",
    "    title=\"3d swap vs spot by move\",\n",
    ")\n",
    "\n",
    "# force marker size\n",
    "fig.update_traces(marker=dict(size=8))\n",
    "\n",
    "fig.update_layout(\n",
    "    scene=dict(\n",
    "        xaxis_title=\"swap_cost_in_bps_of_value_out\",\n",
    "        yaxis_title=\"spot_value_out\",\n",
    "        zaxis=dict(title=\"move_name\", tickmode=\"array\", tickvals=list(range(len(cats))), ticktext=cats),\n",
    "    )\n",
    ")\n",
    "\n",
    "fig.update_layout(width=1200, height=800, margin=dict(l=0, r=0, t=30, b=0))"
   ]
  },
  {
   "cell_type": "code",
   "execution_count": null,
   "metadata": {},
   "outputs": [
    {
     "ename": "",
     "evalue": "",
     "output_type": "error",
     "traceback": [
      "\u001b[1;31mnotebook controller is DISPOSED. \n",
      "\u001b[1;31mView Jupyter <a href='command:jupyter.viewOutput'>log</a> for further details."
     ]
    }
   ],
   "source": [
    "import streamlit as st\n",
    "import plotly.express as px\n",
    "\n",
    "# encode move_name as codes for z axis\n",
    "df[\"move_code\"] = df[\"move_name\"].astype(\"category\").cat.codes\n",
    "cats = df[\"move_name\"].astype(\"category\").cat.categories.tolist()\n",
    "\n",
    "fig = px.scatter(\n",
    "    df,\n",
    "    x=df.index,\n",
    "    y=\"swap_cost_in_bps_of_value_out\",\n",
    "    # z='',\n",
    "    color=\"move_name\",\n",
    "    hover_data=[\"move_name\"],\n",
    "    size=\"spot_value_out\",\n",
    "    title=\"3d swap vs spot by move\",\n",
    ")\n",
    "\n",
    "fig\n",
    "\n",
    "# # force marker size\n",
    "# # fig.update_traces(marker=dict(size=8))\n",
    "\n",
    "# # fig.update_layout(\n",
    "# #     scene=dict(\n",
    "# #         xaxis_title='swap_cost_in_bps_of_value_out',\n",
    "# #         yaxis_title='spot_value_out',\n",
    "# #         zaxis=dict(\n",
    "# #             title='move_name',\n",
    "# #             tickmode='array',\n",
    "# #             tickvals=list(range(len(cats))),\n",
    "# #             ticktext=cats\n",
    "# #         )\n",
    "# #     )\n",
    "# # )\n",
    "\n",
    "# fig.update_layout(\n",
    "#     width=1200,\n",
    "#     height=800,\n",
    "#     margin=dict(l=0, r=0, t=30, b=0)\n",
    "# )"
   ]
  },
  {
   "cell_type": "code",
   "execution_count": null,
   "metadata": {},
   "outputs": [
    {
     "ename": "",
     "evalue": "",
     "output_type": "error",
     "traceback": [
      "\u001b[1;31mnotebook controller is DISPOSED. \n",
      "\u001b[1;31mView Jupyter <a href='command:jupyter.viewOutput'>log</a> for further details."
     ]
    }
   ],
   "source": [
    "df.columns"
   ]
  },
  {
   "cell_type": "code",
   "execution_count": null,
   "metadata": {},
   "outputs": [
    {
     "data": {
      "application/vnd.microsoft.datawrangler.viewer.v0+json": {
       "columns": [
        {
         "name": "move_name",
         "rawType": "object",
         "type": "string"
        },
        {
         "name": "spot_value_out_sum",
         "rawType": "float64",
         "type": "float"
        },
        {
         "name": "spot_swap_cost_less_value_in_solver_sum",
         "rawType": "float64",
         "type": "float"
        },
        {
         "name": "swap_cost_backout_value_left_in_solver",
         "rawType": "float64",
         "type": "float"
        }
       ],
       "ref": "58630da5-2e1b-47b0-be0a-b568789007dc",
       "rows": [
        [
         "autoDOLA -> DOLA-sUSDS",
         "60877.19",
         "33.66",
         "5.53"
        ],
        [
         "autoDOLA -> DOLA-sUSDe",
         "185000.0",
         "191.34",
         "10.34"
        ],
        [
         "autoDOLA -> reusdsdola",
         "1141827.09",
         "346.37",
         "3.03"
        ],
        [
         "autoDOLA -> sDOLA",
         "1623749.47",
         "243.56",
         "1.5"
        ],
        [
         "autoDOLA -> savedola",
         "536394.16",
         "51.69",
         "0.96"
        ],
        [
         "sDOLA -> savedola",
         "100000.02",
         "68.7",
         "6.87"
        ]
       ],
       "shape": {
        "columns": 3,
        "rows": 6
       }
      },
      "text/html": [
       "<div>\n",
       "<style scoped>\n",
       "    .dataframe tbody tr th:only-of-type {\n",
       "        vertical-align: middle;\n",
       "    }\n",
       "\n",
       "    .dataframe tbody tr th {\n",
       "        vertical-align: top;\n",
       "    }\n",
       "\n",
       "    .dataframe thead th {\n",
       "        text-align: right;\n",
       "    }\n",
       "</style>\n",
       "<table border=\"1\" class=\"dataframe\">\n",
       "  <thead>\n",
       "    <tr style=\"text-align: right;\">\n",
       "      <th></th>\n",
       "      <th>spot_value_out_sum</th>\n",
       "      <th>spot_swap_cost_less_value_in_solver_sum</th>\n",
       "      <th>swap_cost_backout_value_left_in_solver</th>\n",
       "    </tr>\n",
       "    <tr>\n",
       "      <th>move_name</th>\n",
       "      <th></th>\n",
       "      <th></th>\n",
       "      <th></th>\n",
       "    </tr>\n",
       "  </thead>\n",
       "  <tbody>\n",
       "    <tr>\n",
       "      <th>autoDOLA -&gt; DOLA-sUSDS</th>\n",
       "      <td>60877.19</td>\n",
       "      <td>33.66</td>\n",
       "      <td>5.53</td>\n",
       "    </tr>\n",
       "    <tr>\n",
       "      <th>autoDOLA -&gt; DOLA-sUSDe</th>\n",
       "      <td>185000.00</td>\n",
       "      <td>191.34</td>\n",
       "      <td>10.34</td>\n",
       "    </tr>\n",
       "    <tr>\n",
       "      <th>autoDOLA -&gt; reusdsdola</th>\n",
       "      <td>1141827.09</td>\n",
       "      <td>346.37</td>\n",
       "      <td>3.03</td>\n",
       "    </tr>\n",
       "    <tr>\n",
       "      <th>autoDOLA -&gt; sDOLA</th>\n",
       "      <td>1623749.47</td>\n",
       "      <td>243.56</td>\n",
       "      <td>1.50</td>\n",
       "    </tr>\n",
       "    <tr>\n",
       "      <th>autoDOLA -&gt; savedola</th>\n",
       "      <td>536394.16</td>\n",
       "      <td>51.69</td>\n",
       "      <td>0.96</td>\n",
       "    </tr>\n",
       "    <tr>\n",
       "      <th>sDOLA -&gt; savedola</th>\n",
       "      <td>100000.02</td>\n",
       "      <td>68.70</td>\n",
       "      <td>6.87</td>\n",
       "    </tr>\n",
       "  </tbody>\n",
       "</table>\n",
       "</div>"
      ],
      "text/plain": [
       "                        spot_value_out_sum  \\\n",
       "move_name                                    \n",
       "autoDOLA -> DOLA-sUSDS            60877.19   \n",
       "autoDOLA -> DOLA-sUSDe           185000.00   \n",
       "autoDOLA -> reusdsdola          1141827.09   \n",
       "autoDOLA -> sDOLA               1623749.47   \n",
       "autoDOLA -> savedola             536394.16   \n",
       "sDOLA -> savedola                100000.02   \n",
       "\n",
       "                        spot_swap_cost_less_value_in_solver_sum  \\\n",
       "move_name                                                         \n",
       "autoDOLA -> DOLA-sUSDS                                    33.66   \n",
       "autoDOLA -> DOLA-sUSDe                                   191.34   \n",
       "autoDOLA -> reusdsdola                                   346.37   \n",
       "autoDOLA -> sDOLA                                        243.56   \n",
       "autoDOLA -> savedola                                      51.69   \n",
       "sDOLA -> savedola                                         68.70   \n",
       "\n",
       "                        swap_cost_backout_value_left_in_solver  \n",
       "move_name                                                       \n",
       "autoDOLA -> DOLA-sUSDS                                    5.53  \n",
       "autoDOLA -> DOLA-sUSDe                                   10.34  \n",
       "autoDOLA -> reusdsdola                                    3.03  \n",
       "autoDOLA -> sDOLA                                         1.50  \n",
       "autoDOLA -> savedola                                      0.96  \n",
       "sDOLA -> savedola                                         6.87  "
      ]
     },
     "execution_count": 14,
     "metadata": {},
     "output_type": "execute_result"
    }
   ],
   "source": [
    "\n",
    "df[\n",
    "\n",
    "\n",
    "    [\n",
    "        \"tx_hash\",\n",
    "        \"destination_out\",\n",
    "        \"destination_in\",\n",
    "        \"safe_value_out\",\n",
    "        \"safe_value_in\",\n",
    "        \"spot_value_in\",\n",
    "        \"spot_value_out\",\n",
    "        \"spot_value_in_solver_change\",\n",
    "        \"block\",\n",
    "        \"move_name\",\n",
    "        \"destination_in_symbol\",\n",
    "        \"destination_out_symbol\",\n",
    "        \"destination_in_tokens\",\n",
    "        \"destination_out_tokens\",\n",
    "        \"tokens_move_name\",\n",
    "        \"expected_to_be_lossless\",\n",
    "        \"spot_swap_cost\",\n",
    "        \"spot_slippage_bps\",\n",
    "        \"safe_swap_cost\",\n",
    "        \"safe_slippage_bps\",\n",
    "        \"swap_cost_in_bps_of_value_out\",\n",
    "        \"swap_cost_in_bps_of_NAV\",\n",
    "        \"spot_swap_cost_less_value_in_solver\",\n",
    "        \"spot_slippage_bps_less_value_in_solver\"\n",
    "    ]\n",
    "]\n",
    "\n",
    "df[\"spot_swap_cost_less_value_in_solver\"] = (\n",
    "    (df[\"spot_value_out\"] - df[\"spot_value_in\"]) - df[\"spot_value_in_solver_change\"]\n",
    ")\n",
    "\n",
    "df[\"spot_swap_cost_less_value_in_solver\"] = df[\"spot_swap_cost_less_value_in_solver\"].where(\n",
    "    ~df[\"expected_to_be_lossless\"], df[\"spot_value_in_solver_change\"]\n",
    ")\n",
    "\n",
    "df['spot_slippage_bps_less_value_in_solver'] = (\n",
    "    df['spot_swap_cost_less_value_in_solver'] / df['spot_value_out']\n",
    ") * 10000\n",
    "\n",
    "\n",
    "grp = df.groupby('move_name').agg(\n",
    "    spot_value_out_sum=('spot_value_out', 'sum'),\n",
    "    swap_cost_sum=('spot_swap_cost', 'sum'),\n",
    "    spot_swap_cost_less_value_in_solver_sum=('spot_swap_cost_less_value_in_solver', 'sum'),\n",
    ")\n",
    "\n",
    "# basis-points metrics\n",
    "grp['cost_bps']     = grp['swap_cost_sum']   / grp['spot_value_out_sum'] * 10_000\n",
    "grp['swap_cost_backout_value_left_in_solver'] =grp['spot_swap_cost_less_value_in_solver_sum'] / grp['spot_value_out_sum'] * 10_000\n",
    "grp[['spot_value_out_sum', 'spot_swap_cost_less_value_in_solver_sum', 'swap_cost_backout_value_left_in_solver']].round(2)"
   ]
  },
  {
   "cell_type": "code",
   "execution_count": null,
   "metadata": {},
   "outputs": [],
   "source": []
  },
  {
   "attachments": {
    "image.png": {
     "image/png": "[encoded data removed]"
    }
   },
   "cell_type": "markdown",
   "metadata": {},
   "source": [
    "![image.png](attachment:image.png)"
   ]
  },
  {
   "cell_type": "code",
   "execution_count": null,
   "metadata": {},
   "outputs": [
    {
     "data": {
      "application/vnd.microsoft.datawrangler.viewer.v0+json": {
       "columns": [
        {
         "name": "move_name",
         "rawType": "object",
         "type": "string"
        },
        {
         "name": "spot_value_out_sum",
         "rawType": "float64",
         "type": "float"
        },
        {
         "name": "swap_cost_sum",
         "rawType": "float64",
         "type": "float"
        },
        {
         "name": "spot_swap_cost_less_value_in_solver_sum",
         "rawType": "float64",
         "type": "float"
        },
        {
         "name": "cost_bps",
         "rawType": "float64",
         "type": "float"
        },
        {
         "name": "net_cost_bps",
         "rawType": "float64",
         "type": "float"
        }
       ],
       "ref": "40747294-04ff-4c0c-9701-86c9e571f4fa",
       "rows": [
        [
         "autoDOLA -> DOLA-sUSDS",
         "60877.19039550299",
         "22.770267916843295",
         "33.657370711125324",
         "3.740361171222077",
         "-1.788371428371021"
        ],
        [
         "autoDOLA -> DOLA-sUSDe",
         "185000.0",
         "-293.0646248861631",
         "191.34387987616108",
         "-15.841331074927734",
         "-26.18424350066617"
        ],
        [
         "autoDOLA -> reusdsdola",
         "1141827.0860997988",
         "517.6469498540919",
         "346.3728869391458",
         "4.533496850405317",
         "1.499999999999792"
        ],
        [
         "autoDOLA -> sDOLA",
         "1623749.4691519984",
         "243.56242037273108",
         "1524.895630322997",
         "1.499999999999577",
         "-7.8912001776939205"
        ],
        [
         "autoDOLA -> savedola",
         "536394.1617929477",
         "132.1516733653316",
         "51.69254909640257",
         "2.463704543755701",
         "1.499999999999755"
        ],
        [
         "sDOLA -> savedola",
         "100000.01843715593",
         "68.70434371961892",
         "68.70434371961892",
         "6.870433105249427",
         "0.0"
        ]
       ],
       "shape": {
        "columns": 5,
        "rows": 6
       }
      },
      "text/html": [
       "<div>\n",
       "<style scoped>\n",
       "    .dataframe tbody tr th:only-of-type {\n",
       "        vertical-align: middle;\n",
       "    }\n",
       "\n",
       "    .dataframe tbody tr th {\n",
       "        vertical-align: top;\n",
       "    }\n",
       "\n",
       "    .dataframe thead th {\n",
       "        text-align: right;\n",
       "    }\n",
       "</style>\n",
       "<table border=\"1\" class=\"dataframe\">\n",
       "  <thead>\n",
       "    <tr style=\"text-align: right;\">\n",
       "      <th></th>\n",
       "      <th>spot_value_out_sum</th>\n",
       "      <th>swap_cost_sum</th>\n",
       "      <th>spot_swap_cost_less_value_in_solver_sum</th>\n",
       "      <th>cost_bps</th>\n",
       "      <th>net_cost_bps</th>\n",
       "    </tr>\n",
       "    <tr>\n",
       "      <th>move_name</th>\n",
       "      <th></th>\n",
       "      <th></th>\n",
       "      <th></th>\n",
       "      <th></th>\n",
       "      <th></th>\n",
       "    </tr>\n",
       "  </thead>\n",
       "  <tbody>\n",
       "    <tr>\n",
       "      <th>autoDOLA -&gt; DOLA-sUSDS</th>\n",
       "      <td>6.087719e+04</td>\n",
       "      <td>22.770268</td>\n",
       "      <td>33.657371</td>\n",
       "      <td>3.740361</td>\n",
       "      <td>-1.788371</td>\n",
       "    </tr>\n",
       "    <tr>\n",
       "      <th>autoDOLA -&gt; DOLA-sUSDe</th>\n",
       "      <td>1.850000e+05</td>\n",
       "      <td>-293.064625</td>\n",
       "      <td>191.343880</td>\n",
       "      <td>-15.841331</td>\n",
       "      <td>-26.184244</td>\n",
       "    </tr>\n",
       "    <tr>\n",
       "      <th>autoDOLA -&gt; reusdsdola</th>\n",
       "      <td>1.141827e+06</td>\n",
       "      <td>517.646950</td>\n",
       "      <td>346.372887</td>\n",
       "      <td>4.533497</td>\n",
       "      <td>1.500000</td>\n",
       "    </tr>\n",
       "    <tr>\n",
       "      <th>autoDOLA -&gt; sDOLA</th>\n",
       "      <td>1.623749e+06</td>\n",
       "      <td>243.562420</td>\n",
       "      <td>1524.895630</td>\n",
       "      <td>1.500000</td>\n",
       "      <td>-7.891200</td>\n",
       "    </tr>\n",
       "    <tr>\n",
       "      <th>autoDOLA -&gt; savedola</th>\n",
       "      <td>5.363942e+05</td>\n",
       "      <td>132.151673</td>\n",
       "      <td>51.692549</td>\n",
       "      <td>2.463705</td>\n",
       "      <td>1.500000</td>\n",
       "    </tr>\n",
       "    <tr>\n",
       "      <th>sDOLA -&gt; savedola</th>\n",
       "      <td>1.000000e+05</td>\n",
       "      <td>68.704344</td>\n",
       "      <td>68.704344</td>\n",
       "      <td>6.870433</td>\n",
       "      <td>0.000000</td>\n",
       "    </tr>\n",
       "  </tbody>\n",
       "</table>\n",
       "</div>"
      ],
      "text/plain": [
       "                        spot_value_out_sum  swap_cost_sum  \\\n",
       "move_name                                                   \n",
       "autoDOLA -> DOLA-sUSDS        6.087719e+04      22.770268   \n",
       "autoDOLA -> DOLA-sUSDe        1.850000e+05    -293.064625   \n",
       "autoDOLA -> reusdsdola        1.141827e+06     517.646950   \n",
       "autoDOLA -> sDOLA             1.623749e+06     243.562420   \n",
       "autoDOLA -> savedola          5.363942e+05     132.151673   \n",
       "sDOLA -> savedola             1.000000e+05      68.704344   \n",
       "\n",
       "                        spot_swap_cost_less_value_in_solver_sum   cost_bps  \\\n",
       "move_name                                                                    \n",
       "autoDOLA -> DOLA-sUSDS                                33.657371   3.740361   \n",
       "autoDOLA -> DOLA-sUSDe                               191.343880 -15.841331   \n",
       "autoDOLA -> reusdsdola                               346.372887   4.533497   \n",
       "autoDOLA -> sDOLA                                   1524.895630   1.500000   \n",
       "autoDOLA -> savedola                                  51.692549   2.463705   \n",
       "sDOLA -> savedola                                     68.704344   6.870433   \n",
       "\n",
       "                        net_cost_bps  \n",
       "move_name                             \n",
       "autoDOLA -> DOLA-sUSDS     -1.788371  \n",
       "autoDOLA -> DOLA-sUSDe    -26.184244  \n",
       "autoDOLA -> reusdsdola      1.500000  \n",
       "autoDOLA -> sDOLA          -7.891200  \n",
       "autoDOLA -> savedola        1.500000  \n",
       "sDOLA -> savedola           0.000000  "
      ]
     },
     "execution_count": 7,
     "metadata": {},
     "output_type": "execute_result"
    }
   ],
   "source": []
  },
  {
   "cell_type": "code",
   "execution_count": null,
   "metadata": {},
   "outputs": [
    {
     "ename": "",
     "evalue": "",
     "output_type": "error",
     "traceback": [
      "\u001b[1;31mnotebook controller is DISPOSED. \n",
      "\u001b[1;31mView Jupyter <a href='command:jupyter.viewOutput'>log</a> for further details."
     ]
    }
   ],
   "source": []
  },
  {
   "cell_type": "code",
   "execution_count": null,
   "metadata": {},
   "outputs": [
    {
     "ename": "",
     "evalue": "",
     "output_type": "error",
     "traceback": [
      "\u001b[1;31mnotebook controller is DISPOSED. \n",
      "\u001b[1;31mView Jupyter <a href='command:jupyter.viewOutput'>log</a> for further details."
     ]
    }
   ],
   "source": [
    "df['datetime'] = df.index"
   ]
  },
  {
   "cell_type": "code",
   "execution_count": null,
   "metadata": {},
   "outputs": [
    {
     "ename": "",
     "evalue": "",
     "output_type": "error",
     "traceback": [
      "\u001b[1;31mnotebook controller is DISPOSED. \n",
      "\u001b[1;31mView Jupyter <a href='command:jupyter.viewOutput'>log</a> for further details."
     ]
    }
   ],
   "source": [
    "px.scatter(df, x='spot_slippage_bps', y='safe_slippage_bps', hover_data='datetime', color='move_name')\n"
   ]
  },
  {
   "cell_type": "code",
   "execution_count": null,
   "metadata": {},
   "outputs": [
    {
     "ename": "",
     "evalue": "",
     "output_type": "error",
     "traceback": [
      "\u001b[1;31mnotebook controller is DISPOSED. \n",
      "\u001b[1;31mView Jupyter <a href='command:jupyter.viewOutput'>log</a> for further details."
     ]
    }
   ],
   "source": [
    "px.scatter(df, x=df.index, y='move_name', hover_data=df[['swap_cost_in_bps_of_value_out', 'spot_value_out']])"
   ]
  },
  {
   "cell_type": "code",
   "execution_count": null,
   "metadata": {},
   "outputs": [
    {
     "ename": "",
     "evalue": "",
     "output_type": "error",
     "traceback": [
      "\u001b[1;31mnotebook controller is DISPOSED. \n",
      "\u001b[1;31mView Jupyter <a href='command:jupyter.viewOutput'>log</a> for further details."
     ]
    }
   ],
   "source": [
    "df[df[\"swap_cost_in_bps_of_NAV\"] > 12].T"
   ]
  },
  {
   "cell_type": "code",
   "execution_count": null,
   "metadata": {},
   "outputs": [
    {
     "ename": "",
     "evalue": "",
     "output_type": "error",
     "traceback": [
      "\u001b[1;31mnotebook controller is DISPOSED. \n",
      "\u001b[1;31mView Jupyter <a href='command:jupyter.viewOutput'>log</a> for further details."
     ]
    }
   ],
   "source": [
    "df[df[\"tokens_move_name\"] == \"('USDC',) -> ('USDC',)\"][\"move_name\"].value_counts().index"
   ]
  },
  {
   "cell_type": "code",
   "execution_count": null,
   "metadata": {},
   "outputs": [
    {
     "ename": "",
     "evalue": "",
     "output_type": "error",
     "traceback": [
      "\u001b[1;31mnotebook controller is DISPOSED. \n",
      "\u001b[1;31mView Jupyter <a href='command:jupyter.viewOutput'>log</a> for further details."
     ]
    }
   ],
   "source": [
    "df[df[\"tokens_move_name\"] == \"('USDC',) -> ('USDC',)\"][\"move_name\"].value_counts().index"
   ]
  },
  {
   "cell_type": "code",
   "execution_count": null,
   "metadata": {},
   "outputs": [
    {
     "ename": "",
     "evalue": "",
     "output_type": "error",
     "traceback": [
      "\u001b[1;31mnotebook controller is DISPOSED. \n",
      "\u001b[1;31mView Jupyter <a href='command:jupyter.viewOutput'>log</a> for further details."
     ]
    }
   ],
   "source": [
    "df[\"long_move_name\"] = df[\"move_name\"] + \"   \" + df[\"tokens_move_name\"]\n",
    "df[\"long_move_name\"].value_counts()"
   ]
  },
  {
   "cell_type": "code",
   "execution_count": null,
   "metadata": {},
   "outputs": [
    {
     "ename": "",
     "evalue": "",
     "output_type": "error",
     "traceback": [
      "\u001b[1;31mnotebook controller is DISPOSED. \n",
      "\u001b[1;31mView Jupyter <a href='command:jupyter.viewOutput'>log</a> for further details."
     ]
    }
   ],
   "source": [
    "# spot_value_in_solver_change is not correct in BASE_USD"
   ]
  },
  {
   "cell_type": "code",
   "execution_count": null,
   "metadata": {},
   "outputs": [
    {
     "ename": "",
     "evalue": "",
     "output_type": "error",
     "traceback": [
      "\u001b[1;31mnotebook controller is DISPOSED. \n",
      "\u001b[1;31mView Jupyter <a href='command:jupyter.viewOutput'>log</a> for further details."
     ]
    }
   ],
   "source": [
    "(df[\"spot_value_in_solver_change\"] > 0).value_counts(normalize=True)"
   ]
  },
  {
   "cell_type": "code",
   "execution_count": null,
   "metadata": {},
   "outputs": [
    {
     "ename": "",
     "evalue": "",
     "output_type": "error",
     "traceback": [
      "\u001b[1;31mnotebook controller is DISPOSED. \n",
      "\u001b[1;31mView Jupyter <a href='command:jupyter.viewOutput'>log</a> for further details."
     ]
    }
   ],
   "source": [
    "px.histogram(df[\"spot_value_in_solver_change\"])"
   ]
  },
  {
   "cell_type": "code",
   "execution_count": null,
   "metadata": {},
   "outputs": [
    {
     "ename": "",
     "evalue": "",
     "output_type": "error",
     "traceback": [
      "\u001b[1;31mnotebook controller is DISPOSED. \n",
      "\u001b[1;31mView Jupyter <a href='command:jupyter.viewOutput'>log</a> for further details."
     ]
    }
   ],
   "source": [
    "df[\"long_move_name\"] = df[\"move_name\"] + \"   \" + df[\"tokens_move_name\"]\n",
    "cond = df[\"move_name\"].isin([\"autoDOLA -> sDOLA\", \"baseUSD -> fUSDC\", \"baseUSD -> smUSDC\", \"baseUSD -> mwUSDC\"])\n",
    "cond = cond | (df[\"tokens_move_name\"] == \"('USDC',) -> ('USDC',)\")\n",
    "df[\"adjusted_spot_swap_cost\"] = df[\"spot_value_in_solver_change\"].where(\n",
    "    cond, df[\"spot_swap_cost\"] - df[\"spot_value_in_solver_change\"]\n",
    ")\n",
    "df[\"adjusted_spot_swap_cost_in_bps_of_value_out\"] = 10_000 * df[\"adjusted_spot_swap_cost\"] / df[\"spot_value_out\"]\n",
    "df[\"adjusted_spot_swap_cost_in_bps_of_NAV\"] = 10_000 * df[\"adjusted_spot_swap_cost\"] / df[\"total_nav\"]"
   ]
  },
  {
   "cell_type": "code",
   "execution_count": null,
   "metadata": {},
   "outputs": [
    {
     "ename": "",
     "evalue": "",
     "output_type": "error",
     "traceback": [
      "\u001b[1;31mnotebook controller is DISPOSED. \n",
      "\u001b[1;31mView Jupyter <a href='command:jupyter.viewOutput'>log</a> for further details."
     ]
    }
   ],
   "source": [
    "px.scatter(df, x=\"adjusted_spot_swap_cost_in_bps_of_value_out\", y=\"spot_value_out\", color=\"long_move_name\")"
   ]
  },
  {
   "cell_type": "code",
   "execution_count": null,
   "metadata": {},
   "outputs": [
    {
     "ename": "",
     "evalue": "",
     "output_type": "error",
     "traceback": [
      "\u001b[1;31mnotebook controller is DISPOSED. \n",
      "\u001b[1;31mView Jupyter <a href='command:jupyter.viewOutput'>log</a> for further details."
     ]
    }
   ],
   "source": [
    "expensive_rebalances = df[\n",
    "    df[\"adjusted_spot_swap_cost_in_bps_of_value_out\"]\n",
    "    > df[\"adjusted_spot_swap_cost_in_bps_of_value_out\"].describe()[\"75%\"]\n",
    "]\n",
    "expensive_rebalances.groupby(\"long_move_name\")[\"adjusted_spot_swap_cost_in_bps_of_value_out\"].describe().round(2\n",
    "# 3bps is the 75th percentile of swap cost on baseUSD"
   ]
  },
  {
   "cell_type": "code",
   "execution_count": null,
   "metadata": {},
   "outputs": [
    {
     "ename": "",
     "evalue": "",
     "output_type": "error",
     "traceback": [
      "\u001b[1;31mnotebook controller is DISPOSED. \n",
      "\u001b[1;31mView Jupyter <a href='command:jupyter.viewOutput'>log</a> for further details."
     ]
    }
   ],
   "source": [
    "all_time_performance = df.groupby(\"long_move_name\")[[\"adjusted_spot_swap_cost\", \"spot_value_out\"]].sum()\n",
    "\n",
    "all_time_performance[\"average_bps\"] = (\n",
    "    10_000 * all_time_performance[\"adjusted_spot_swap_cost\"] / all_time_performance[\"spot_value_out\"]\n",
    ")\n",
    "\n",
    "all_time_performance[\"spot_value_out_thousands\"] = all_time_performance[\"spot_value_out\"] / 1_000\n",
    "all_time_performance[[\"spot_value_out_thousands\", \"adjusted_spot_swap_cost\", \"average_bps\"]].round()"
   ]
  },
  {
   "cell_type": "code",
   "execution_count": null,
   "metadata": {},
   "outputs": [
    {
     "ename": "",
     "evalue": "",
     "output_type": "error",
     "traceback": [
      "\u001b[1;31mnotebook controller is DISPOSED. \n",
      "\u001b[1;31mView Jupyter <a href='command:jupyter.viewOutput'>log</a> for further details."
     ]
    }
   ],
   "source": []
  },
  {
   "cell_type": "code",
   "execution_count": null,
   "metadata": {},
   "outputs": [
    {
     "ename": "",
     "evalue": "",
     "output_type": "error",
     "traceback": [
      "\u001b[1;31mnotebook controller is DISPOSED. \n",
      "\u001b[1;31mView Jupyter <a href='command:jupyter.viewOutput'>log</a> for further details."
     ]
    }
   ],
   "source": [
    "df.groupby(\"long_move_name\")[\"adjusted_spot_swap_cost\"].sum().sort_values(ascending=False)"
   ]
  },
  {
   "cell_type": "code",
   "execution_count": null,
   "metadata": {},
   "outputs": [
    {
     "ename": "",
     "evalue": "",
     "output_type": "error",
     "traceback": [
      "\u001b[1;31mnotebook controller is DISPOSED. \n",
      "\u001b[1;31mView Jupyter <a href='command:jupyter.viewOutput'>log</a> for further details."
     ]
    }
   ],
   "source": [
    "df[df[\"move_name\"] == \"autoDOLA -> sDOLA\"][\"spot_swap_cost\"]"
   ]
  },
  {
   "cell_type": "code",
   "execution_count": null,
   "metadata": {},
   "outputs": [
    {
     "ename": "",
     "evalue": "",
     "output_type": "error",
     "traceback": [
      "\u001b[1;31mnotebook controller is DISPOSED. \n",
      "\u001b[1;31mView Jupyter <a href='command:jupyter.viewOutput'>log</a> for further details."
     ]
    }
   ],
   "source": [
    "(df[\"move_name\"] == \"autoDOLA -> sDOLA\").value_counts()"
   ]
  },
  {
   "cell_type": "code",
   "execution_count": null,
   "metadata": {},
   "outputs": [
    {
     "ename": "",
     "evalue": "",
     "output_type": "error",
     "traceback": [
      "\u001b[1;31mnotebook controller is DISPOSED. \n",
      "\u001b[1;31mView Jupyter <a href='command:jupyter.viewOutput'>log</a> for further details."
     ]
    }
   ],
   "source": [
    "df.groupby(\"long_move_name\")[\"swap_cost_in_bps_of_value_out\"].describe().T.round(2)"
   ]
  },
  {
   "cell_type": "code",
   "execution_count": null,
   "metadata": {},
   "outputs": [
    {
     "ename": "",
     "evalue": "",
     "output_type": "error",
     "traceback": [
      "\u001b[1;31mnotebook controller is DISPOSED. \n",
      "\u001b[1;31mView Jupyter <a href='command:jupyter.viewOutput'>log</a> for further details."
     ]
    }
   ],
   "source": []
  },
  {
   "cell_type": "code",
   "execution_count": null,
   "metadata": {},
   "outputs": [
    {
     "ename": "",
     "evalue": "",
     "output_type": "error",
     "traceback": [
      "\u001b[1;31mnotebook controller is DISPOSED. \n",
      "\u001b[1;31mView Jupyter <a href='command:jupyter.viewOutput'>log</a> for further details."
     ]
    }
   ],
   "source": [
    "df.groupby(\"long_move_name\")[\"safe_slippage_bps\"].describe().T.round(2)"
   ]
  },
  {
   "cell_type": "code",
   "execution_count": null,
   "metadata": {},
   "outputs": [
    {
     "ename": "",
     "evalue": "",
     "output_type": "error",
     "traceback": [
      "\u001b[1;31mnotebook controller is DISPOSED. \n",
      "\u001b[1;31mView Jupyter <a href='command:jupyter.viewOutput'>log</a> for further details."
     ]
    }
   ],
   "source": [
    "df.co"
   ]
  },
  {
   "cell_type": "code",
   "execution_count": null,
   "metadata": {},
   "outputs": [
    {
     "ename": "",
     "evalue": "",
     "output_type": "error",
     "traceback": [
      "\u001b[1;31mnotebook controller is DISPOSED. \n",
      "\u001b[1;31mView Jupyter <a href='command:jupyter.viewOutput'>log</a> for further details."
     ]
    }
   ],
   "source": [
    "df[df[\"tx_hash\"] == \"0x272e39d795a4a38e6cc22ec9e54deb92fa068c83304d5a6e7054c9d68702d21d\"].T\n",
    "# expected to have 0 slippage"
   ]
  },
  {
   "cell_type": "code",
   "execution_count": null,
   "metadata": {},
   "outputs": [
    {
     "ename": "",
     "evalue": "",
     "output_type": "error",
     "traceback": [
      "\u001b[1;31mnotebook controller is DISPOSED. \n",
      "\u001b[1;31mView Jupyter <a href='command:jupyter.viewOutput'>log</a> for further details."
     ]
    }
   ],
   "source": [
    "from multicall import Call\n",
    "from mainnet_launch.data_fetching.get_state_by_block import *"
   ]
  },
  {
   "cell_type": "code",
   "execution_count": null,
   "metadata": {},
   "outputs": [
    {
     "ename": "",
     "evalue": "",
     "output_type": "error",
     "traceback": [
      "\u001b[1;31mnotebook controller is DISPOSED. \n",
      "\u001b[1;31mView Jupyter <a href='command:jupyter.viewOutput'>log</a> for further details."
     ]
    }
   ],
   "source": [
    "AUTO_USD_ROOT_PRICE_ORACLE = \"0xdB8747a396D75D576Dc7a10bb6c8F02F4a3C20f1\"\n",
    "DOLA = \"0x865377367054516e17014CcdED1e7d814EDC9ce4\"\n",
    "sDOLA = \"0xb45ad160634c528Cc3D2926d9807104FA3157305\"\n",
    "\n",
    "sDOLA_exchange_rate = Call(\n",
    "    sDOLA,\n",
    "    [\"convertToAssets(uint256)(uint256)\", int(1e18)],\n",
    "    [(\"sDOLA_exchange_rate\", safe_normalize_with_bool_success)],\n",
    ")\n",
    "\n",
    "# drop the parentheses on DOLA – it’s just a string here, not a function\n",
    "sDOLA_spot_price_call = Call(\n",
    "    AUTO_USD_ROOT_PRICE_ORACLE,\n",
    "    [\"getSpotPriceInQuote(address,address,address)(uint256)\", sDOLA, sDOLA, DOLA],\n",
    "    [(\"sDOLA_spot_price\", safe_normalize_with_bool_success)],\n",
    ")\n",
    "\n",
    "autoDOLA_solver = \"0x2795B6a09df08891EF21f7153f4799cFBe3Ae6b6\"\n",
    "\n",
    "dola_autopool_bal_call = Call(\n",
    "    DOLA,\n",
    "    [\"balanceOf(address)(uint256)\", AUTO_DOLA.autopool_eth_addr],\n",
    "    [(\"autopool_bal\", safe_normalize_with_bool_success)],\n",
    ")\n",
    "\n",
    "dola_solver_bal_call = Call(\n",
    "    DOLA,\n",
    "    [\"balanceOf(address)(uint256)\", autoDOLA_solver],\n",
    "    [(\"solver_bal\", safe_normalize_with_bool_success)],\n",
    ")\n",
    "\n",
    "\n",
    "before = get_state_by_one_block(\n",
    "    [sDOLA_exchange_rate, sDOLA_spot_price_call, dola_autopool_bal_call, dola_solver_bal_call],\n",
    "    22621780 - 1,  # block_number - 1\n",
    "    ETH_CHAIN,\n",
    ")\n",
    "\n",
    "after = get_state_by_one_block(\n",
    "    [sDOLA_exchange_rate, sDOLA_spot_price_call, dola_autopool_bal_call, dola_solver_bal_call],\n",
    "    22621780,  # block_number - 1\n",
    "    ETH_CHAIN,\n",
    ")\n",
    "{\"before\": before, \"after\": after}"
   ]
  },
  {
   "cell_type": "code",
   "execution_count": null,
   "metadata": {},
   "outputs": [
    {
     "ename": "",
     "evalue": "",
     "output_type": "error",
     "traceback": [
      "\u001b[1;31mnotebook controller is DISPOSED. \n",
      "\u001b[1;31mView Jupyter <a href='command:jupyter.viewOutput'>log</a> for further details."
     ]
    }
   ],
   "source": [
    "blocks = build_blocks_to_use(ETH_CHAIN)\n",
    "\n",
    "sDOLA_price_df = get_raw_state_by_blocks(\n",
    "    [sDOLA_exchange_rate, sDOLA_spot_price_call], blocks, ETH_CHAIN, include_block_number=True\n",
    ")\n",
    "\n",
    "px.line(sDOLA_price_df)"
   ]
  },
  {
   "cell_type": "code",
   "execution_count": null,
   "metadata": {},
   "outputs": [
    {
     "ename": "",
     "evalue": "",
     "output_type": "error",
     "traceback": [
      "\u001b[1;31mnotebook controller is DISPOSED. \n",
      "\u001b[1;31mView Jupyter <a href='command:jupyter.viewOutput'>log</a> for further details."
     ]
    }
   ],
   "source": [
    "blocks_to_check = [b for b in range(22584692, 22640079, 500)]\n",
    "sDOLA_price_df = get_raw_state_by_blocks([sDOLA_exchange_rate, sDOLA_spot_price_call], blocks_to_check, ETH_CHAIN)\n",
    "\n",
    "px.line(sDOLA_price_df)"
   ]
  },
  {
   "cell_type": "code",
   "execution_count": null,
   "metadata": {},
   "outputs": [
    {
     "ename": "",
     "evalue": "",
     "output_type": "error",
     "traceback": [
      "\u001b[1;31mnotebook controller is DISPOSED. \n",
      "\u001b[1;31mView Jupyter <a href='command:jupyter.viewOutput'>log</a> for further details."
     ]
    }
   ],
   "source": [
    "px.line(\n",
    "    10_000\n",
    "    * (sDOLA_price_df[\"sDOLA_spot_price\"] - sDOLA_price_df[\"sDOLA_exchange_rate\"])\n",
    "    / sDOLA_price_df[\"sDOLA_exchange_rate\"],\n",
    "    title=\"sDOLA exchange rate vs spot price bps difference\",\n",
    ")"
   ]
  },
  {
   "cell_type": "code",
   "execution_count": null,
   "metadata": {},
   "outputs": [
    {
     "ename": "",
     "evalue": "",
     "output_type": "error",
     "traceback": [
      "\u001b[1;31mnotebook controller is DISPOSED. \n",
      "\u001b[1;31mView Jupyter <a href='command:jupyter.viewOutput'>log</a> for further details."
     ]
    }
   ],
   "source": [
    "sDOLA_price_df[sDOLA_price_df[\"sDOLA_spot_price\"] > 0]"
   ]
  },
  {
   "cell_type": "code",
   "execution_count": null,
   "metadata": {},
   "outputs": [
    {
     "ename": "",
     "evalue": "",
     "output_type": "error",
     "traceback": [
      "\u001b[1;31mnotebook controller is DISPOSED. \n",
      "\u001b[1;31mView Jupyter <a href='command:jupyter.viewOutput'>log</a> for further details."
     ]
    }
   ],
   "source": [
    "auto_usd_root_price_oracle = \"0xdB8747a396D75D576Dc7a10bb6c8F02F4a3C20f1\"\n",
    "dola = \"0x865377367054516e17014CcdED1e7d814EDC9ce4\"\n",
    "sdola = \"0xb45ad160634c528Cc3D2926d9807104FA3157305\"\n",
    "\n",
    "sdola_exchange_rate = Call(\n",
    "    sdola,\n",
    "    [\"convertToAssets(uint256)(uint256)\", int(1e18)],\n",
    "    [(\"sdola_exchange_rate\", safe_normalize_with_bool_success)],\n",
    ")\n",
    "\n",
    "sdola_spot_price_call = Call(\n",
    "    auto_usd_root_price_oracle,\n",
    "    [\"getSpotPriceInQuote(address,address,address)(uint256)\", sdola, sdola, dola],\n",
    "    [(\"sdola_spot_price\", safe_normalize_with_bool_success)],\n",
    ")\n",
    "\n",
    "autoDOLA_solver = \"0x2795B6a09df08891EF21f7153f4799cFBe3Ae6b6\"\n",
    "\n",
    "dola_autopool_bal_call = Call(\n",
    "    dola,\n",
    "    [\"balanceOf(address)(uint256)\", AUTO_DOLA.autopool_eth_addr],\n",
    "    [(\"dola_autopool_bal\", safe_normalize_with_bool_success)],\n",
    ")\n",
    "\n",
    "dola_solver_bal_call = Call(\n",
    "    dola,\n",
    "    [\"balanceOf(address)(uint256)\", autoDOLA_solver],\n",
    "    [(\"dola_solver_bal\", safe_normalize_with_bool_success)],\n",
    ")\n",
    "\n",
    "sdola_autopool_bal_call = Call(\n",
    "    sdola,\n",
    "    [\"balanceOf(address)(uint256)\", AUTO_DOLA.autopool_eth_addr],\n",
    "    [(\"sdola_autopool_bal\", safe_normalize_with_bool_success)],\n",
    ")\n",
    "\n",
    "sdola_solver_bal_call = Call(\n",
    "    sdola,\n",
    "    [\"balanceOf(address)(uint256)\", autoDOLA_solver],\n",
    "    [(\"sdola_solver_bal\", safe_normalize_with_bool_success)],\n",
    ")\n",
    "\n",
    "block_number = 22621780\n",
    "\n",
    "before = get_state_by_one_block(\n",
    "    [\n",
    "        sdola_exchange_rate,\n",
    "        sdola_spot_price_call,\n",
    "        dola_autopool_bal_call,\n",
    "        dola_solver_bal_call,\n",
    "        sdola_autopool_bal_call,\n",
    "        sdola_solver_bal_call,\n",
    "    ],\n",
    "    block_number - 1,\n",
    "    ETH_CHAIN,\n",
    ")\n",
    "\n",
    "after = get_state_by_one_block(\n",
    "    [\n",
    "        sdola_exchange_rate,\n",
    "        sdola_spot_price_call,\n",
    "        dola_autopool_bal_call,\n",
    "        dola_solver_bal_call,\n",
    "        sdola_autopool_bal_call,\n",
    "        sdola_solver_bal_call,\n",
    "    ],\n",
    "    block_number,\n",
    "    ETH_CHAIN,\n",
    ")\n",
    "\n",
    "{\"before\": before, \"after\": after}"
   ]
  },
  {
   "cell_type": "code",
   "execution_count": null,
   "metadata": {},
   "outputs": [
    {
     "ename": "",
     "evalue": "",
     "output_type": "error",
     "traceback": [
      "\u001b[1;31mnotebook controller is DISPOSED. \n",
      "\u001b[1;31mView Jupyter <a href='command:jupyter.viewOutput'>log</a> for further details."
     ]
    }
   ],
   "source": [
    "\n",
    "        for (pool_address, token_address) in zip(pool_token_addresses[\"pool\"], pool_token_addresses[\"token_address\"])"
   ]
  },
  {
   "cell_type": "code",
   "execution_count": null,
   "metadata": {},
   "outputs": [
    {
     "ename": "",
     "evalue": "",
     "output_type": "error",
     "traceback": [
      "\u001b[1;31mnotebook controller is DISPOSED. \n",
      "\u001b[1;31mView Jupyter <a href='command:jupyter.viewOutput'>log</a> for further details."
     ]
    }
   ],
   "source": [
    "df[[\"spot_value_in_solver_change\", \"spot_swap_cost\"]].describe()"
   ]
  },
  {
   "cell_type": "code",
   "execution_count": null,
   "metadata": {},
   "outputs": [
    {
     "ename": "",
     "evalue": "",
     "output_type": "error",
     "traceback": [
      "\u001b[1;31mnotebook controller is DISPOSED. \n",
      "\u001b[1;31mView Jupyter <a href='command:jupyter.viewOutput'>log</a> for further details."
     ]
    }
   ],
   "source": [
    "df[\"spot_swap_cost_less_solver\"] = df[\"spot_swap_cost\"] - df[\"spot_value_in_solver_change\"]\n",
    "\n",
    "px.scatter(df, x=\"spot_swap_cost\", y=\"spot_swap_cost_less_solver\")"
   ]
  },
  {
   "cell_type": "code",
   "execution_count": null,
   "metadata": {},
   "outputs": [
    {
     "ename": "",
     "evalue": "",
     "output_type": "error",
     "traceback": [
      "\u001b[1;31mnotebook controller is DISPOSED. \n",
      "\u001b[1;31mView Jupyter <a href='command:jupyter.viewOutput'>log</a> for further details."
     ]
    }
   ],
   "source": [
    "px.histogram(df[\"spot_swap_cost_less_solver\"])"
   ]
  },
  {
   "cell_type": "code",
   "execution_count": null,
   "metadata": {},
   "outputs": [
    {
     "ename": "",
     "evalue": "",
     "output_type": "error",
     "traceback": [
      "\u001b[1;31mnotebook controller is DISPOSED. \n",
      "\u001b[1;31mView Jupyter <a href='command:jupyter.viewOutput'>log</a> for further details."
     ]
    }
   ],
   "source": []
  }
 ],
 "metadata": {
  "kernelspec": {
   "display_name": "mainnet-launch-FtycU18g-py3.10",
   "language": "python",
   "name": "python3"
  },
  "language_info": {
   "codemirror_mode": {
    "name": "ipython",
    "version": 3
   },
   "file_extension": ".py",
   "mimetype": "text/x-python",
   "name": "python",
   "nbconvert_exporter": "python",
   "pygments_lexer": "ipython3",
   "version": "3.10.14"
  }
 },
 "nbformat": 4,
 "nbformat_minor": 2
}
