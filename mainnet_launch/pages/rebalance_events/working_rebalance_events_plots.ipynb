{
 "cells": [
  {
   "cell_type": "code",
   "execution_count": 21,
   "metadata": {},
   "outputs": [
    {
     "name": "stderr",
     "output_type": "stream",
     "text": [
      "2025-06-05 15:52:28.295 Thread 'MainThread': missing ScriptRunContext! This warning can be ignored when running in bare mode.\n",
      "2025-06-05 15:52:28.296 Thread 'MainThread': missing ScriptRunContext! This warning can be ignored when running in bare mode.\n",
      "2025-06-05 15:52:28.297 Thread 'MainThread': missing ScriptRunContext! This warning can be ignored when running in bare mode.\n",
      "2025-06-05 15:52:28.671 Thread 'MainThread': missing ScriptRunContext! This warning can be ignored when running in bare mode.\n",
      "2025-06-05 15:52:28.672 Thread 'MainThread': missing ScriptRunContext! This warning can be ignored when running in bare mode.\n",
      "2025-06-05 15:52:28.673 Thread 'MainThread': missing ScriptRunContext! This warning can be ignored when running in bare mode.\n",
      "2025-06-05 15:52:28.674 Thread 'MainThread': missing ScriptRunContext! This warning can be ignored when running in bare mode.\n",
      "2025-06-05 15:52:28.676 Thread 'MainThread': missing ScriptRunContext! This warning can be ignored when running in bare mode.\n",
      "2025-06-05 15:52:28.678 Thread 'MainThread': missing ScriptRunContext! This warning can be ignored when running in bare mode.\n",
      "2025-06-05 15:52:28.679 Thread 'MainThread': missing ScriptRunContext! This warning can be ignored when running in bare mode.\n"
     ]
    }
   ],
   "source": [
    "import plotly.express as px\n",
    "from mainnet_launch.constants import *\n",
    "from mainnet_launch.pages.rebalance_events.rebalance_events import fetch_rebalance_events_df\n",
    "from mainnet_launch.database.schema.postgres_operations import get_full_table_as_df\n",
    "from mainnet_launch.database.schema.full import *\n",
    "import plotly.io as pio\n",
    "\n",
    "pio.templates.default = None\n",
    "\n",
    "autopool = AUTO_DOLA\n",
    "df = fetch_rebalance_events_df(autopool)\n",
    "# you need to rename the spot swap cost values\n",
    "\n",
    "# px.scatter(df, x='swap_cost_in_bps_of_value_out', y='safe_slippage_bps', color='long_move_name')"
   ]
  },
  {
   "cell_type": "code",
   "execution_count": 41,
   "metadata": {},
   "outputs": [
    {
     "data": {
      "application/vnd.microsoft.datawrangler.viewer.v0+json": {
       "columns": [
        {
         "name": "index",
         "rawType": "object",
         "type": "string"
        },
        {
         "name": "2025-06-03 04:34:59+00:00",
         "rawType": "object",
         "type": "unknown"
        }
       ],
       "ref": "9e3571ca-a033-47c2-8f98-0e36ed3bff0f",
       "rows": [
        [
         "tx_hash",
         "0x272e39d795a4a38e6cc22ec9e54deb92fa068c83304d5a6e7054c9d68702d21d"
        ],
        [
         "autopool_vault_address",
         "0x79eB84B5E30Ef2481c8f00fD0Aa7aAd6Ac0AA54d"
        ],
        [
         "chain_id",
         "1"
        ],
        [
         "rebalance_file_path",
         "rebalance_plan_1748925231_0x79eB84B5E30Ef2481c8f00fD0Aa7aAd6Ac0AA54d.json"
        ],
        [
         "destination_out",
         "0x79eB84B5E30Ef2481c8f00fD0Aa7aAd6Ac0AA54d"
        ],
        [
         "destination_in",
         "0x116b3e86f2b04c21605c5fC4b95Ba6A82dBF8F3E"
        ],
        [
         "quantity_out",
         "507586.6516467986"
        ],
        [
         "quantity_in",
         "448213.8860338266"
        ],
        [
         "safe_value_out",
         "507586.6516467986"
        ],
        [
         "safe_value_in",
         "507510.5136490516"
        ],
        [
         "spot_value_in",
         "506242.41468696675"
        ],
        [
         "spot_value_out",
         "507586.6516467986"
        ],
        [
         "spot_value_in_solver_change",
         "76.13799774700962"
        ],
        [
         "block",
         "22621780"
        ],
        [
         "total_nav",
         "1075151.7577863599"
        ],
        [
         "move_name",
         "autoDOLA -> sDOLA"
        ],
        [
         "destination_in_symbol",
         "sDOLA"
        ],
        [
         "destination_out_symbol",
         "autoDOLA"
        ],
        [
         "destination_in_tokens",
         "('sDOLA',)"
        ],
        [
         "destination_out_tokens",
         "('DOLA',)"
        ],
        [
         "tokens_move_name",
         "('DOLA',) -> ('sDOLA',)"
        ],
        [
         "expected_to_be_lossless",
         "True"
        ],
        [
         "spot_swap_cost",
         "1344.2369598318473"
        ],
        [
         "spot_slippage_bps",
         "26.482906031327776"
        ],
        [
         "safe_swap_cost",
         "76.13799774699146"
        ],
        [
         "safe_slippage_bps",
         "1.4999999999994418"
        ],
        [
         "swap_cost_in_bps_of_value_out",
         "26.482906031327776"
        ],
        [
         "swap_cost_in_bps_of_NAV",
         "12.502764843165112"
        ],
        [
         "from_idle",
         "True"
        ],
        [
         "swap_cost_in_bps_of_value_out_from_idle",
         "26.482906031327776"
        ],
        [
         "swap_cost_in_bps_of_NAV_from_idle",
         "12.502764843165112"
        ],
        [
         "swap_cost_in_bps_of_value_out_not_from_idle",
         "0.0"
        ],
        [
         "swap_cost_in_bps_of_NAV_not_from_idle",
         "0.0"
        ],
        [
         "long_move_name",
         "autoDOLA -> sDOLA   ('DOLA',) -> ('sDOLA',)"
        ],
        [
         "adjusted_spot_swap_cost",
         "76.13799774700962"
        ],
        [
         "adjusted_spot_swap_cost_in_bps_of_value_out",
         "1.4999999999997997"
        ],
        [
         "adjusted_spot_swap_cost_in_bps_of_NAV",
         "0.7081604731202864"
        ]
       ],
       "shape": {
        "columns": 1,
        "rows": 37
       }
      },
      "text/html": [
       "<div>\n",
       "<style scoped>\n",
       "    .dataframe tbody tr th:only-of-type {\n",
       "        vertical-align: middle;\n",
       "    }\n",
       "\n",
       "    .dataframe tbody tr th {\n",
       "        vertical-align: top;\n",
       "    }\n",
       "\n",
       "    .dataframe thead th {\n",
       "        text-align: right;\n",
       "    }\n",
       "</style>\n",
       "<table border=\"1\" class=\"dataframe\">\n",
       "  <thead>\n",
       "    <tr style=\"text-align: right;\">\n",
       "      <th>datetime</th>\n",
       "      <th>2025-06-03 04:34:59+00:00</th>\n",
       "    </tr>\n",
       "  </thead>\n",
       "  <tbody>\n",
       "    <tr>\n",
       "      <th>tx_hash</th>\n",
       "      <td>0x272e39d795a4a38e6cc22ec9e54deb92fa068c83304d...</td>\n",
       "    </tr>\n",
       "    <tr>\n",
       "      <th>autopool_vault_address</th>\n",
       "      <td>0x79eB84B5E30Ef2481c8f00fD0Aa7aAd6Ac0AA54d</td>\n",
       "    </tr>\n",
       "    <tr>\n",
       "      <th>chain_id</th>\n",
       "      <td>1</td>\n",
       "    </tr>\n",
       "    <tr>\n",
       "      <th>rebalance_file_path</th>\n",
       "      <td>rebalance_plan_1748925231_0x79eB84B5E30Ef2481c...</td>\n",
       "    </tr>\n",
       "    <tr>\n",
       "      <th>destination_out</th>\n",
       "      <td>0x79eB84B5E30Ef2481c8f00fD0Aa7aAd6Ac0AA54d</td>\n",
       "    </tr>\n",
       "    <tr>\n",
       "      <th>destination_in</th>\n",
       "      <td>0x116b3e86f2b04c21605c5fC4b95Ba6A82dBF8F3E</td>\n",
       "    </tr>\n",
       "    <tr>\n",
       "      <th>quantity_out</th>\n",
       "      <td>507586.651647</td>\n",
       "    </tr>\n",
       "    <tr>\n",
       "      <th>quantity_in</th>\n",
       "      <td>448213.886034</td>\n",
       "    </tr>\n",
       "    <tr>\n",
       "      <th>safe_value_out</th>\n",
       "      <td>507586.651647</td>\n",
       "    </tr>\n",
       "    <tr>\n",
       "      <th>safe_value_in</th>\n",
       "      <td>507510.513649</td>\n",
       "    </tr>\n",
       "    <tr>\n",
       "      <th>spot_value_in</th>\n",
       "      <td>506242.414687</td>\n",
       "    </tr>\n",
       "    <tr>\n",
       "      <th>spot_value_out</th>\n",
       "      <td>507586.651647</td>\n",
       "    </tr>\n",
       "    <tr>\n",
       "      <th>spot_value_in_solver_change</th>\n",
       "      <td>76.137998</td>\n",
       "    </tr>\n",
       "    <tr>\n",
       "      <th>block</th>\n",
       "      <td>22621780</td>\n",
       "    </tr>\n",
       "    <tr>\n",
       "      <th>total_nav</th>\n",
       "      <td>1075151.757786</td>\n",
       "    </tr>\n",
       "    <tr>\n",
       "      <th>move_name</th>\n",
       "      <td>autoDOLA -&gt; sDOLA</td>\n",
       "    </tr>\n",
       "    <tr>\n",
       "      <th>destination_in_symbol</th>\n",
       "      <td>sDOLA</td>\n",
       "    </tr>\n",
       "    <tr>\n",
       "      <th>destination_out_symbol</th>\n",
       "      <td>autoDOLA</td>\n",
       "    </tr>\n",
       "    <tr>\n",
       "      <th>destination_in_tokens</th>\n",
       "      <td>('sDOLA',)</td>\n",
       "    </tr>\n",
       "    <tr>\n",
       "      <th>destination_out_tokens</th>\n",
       "      <td>('DOLA',)</td>\n",
       "    </tr>\n",
       "    <tr>\n",
       "      <th>tokens_move_name</th>\n",
       "      <td>('DOLA',) -&gt; ('sDOLA',)</td>\n",
       "    </tr>\n",
       "    <tr>\n",
       "      <th>expected_to_be_lossless</th>\n",
       "      <td>True</td>\n",
       "    </tr>\n",
       "    <tr>\n",
       "      <th>spot_swap_cost</th>\n",
       "      <td>1344.23696</td>\n",
       "    </tr>\n",
       "    <tr>\n",
       "      <th>spot_slippage_bps</th>\n",
       "      <td>26.482906</td>\n",
       "    </tr>\n",
       "    <tr>\n",
       "      <th>safe_swap_cost</th>\n",
       "      <td>76.137998</td>\n",
       "    </tr>\n",
       "    <tr>\n",
       "      <th>safe_slippage_bps</th>\n",
       "      <td>1.5</td>\n",
       "    </tr>\n",
       "    <tr>\n",
       "      <th>swap_cost_in_bps_of_value_out</th>\n",
       "      <td>26.482906</td>\n",
       "    </tr>\n",
       "    <tr>\n",
       "      <th>swap_cost_in_bps_of_NAV</th>\n",
       "      <td>12.502765</td>\n",
       "    </tr>\n",
       "    <tr>\n",
       "      <th>from_idle</th>\n",
       "      <td>True</td>\n",
       "    </tr>\n",
       "    <tr>\n",
       "      <th>swap_cost_in_bps_of_value_out_from_idle</th>\n",
       "      <td>26.482906</td>\n",
       "    </tr>\n",
       "    <tr>\n",
       "      <th>swap_cost_in_bps_of_NAV_from_idle</th>\n",
       "      <td>12.502765</td>\n",
       "    </tr>\n",
       "    <tr>\n",
       "      <th>swap_cost_in_bps_of_value_out_not_from_idle</th>\n",
       "      <td>0.0</td>\n",
       "    </tr>\n",
       "    <tr>\n",
       "      <th>swap_cost_in_bps_of_NAV_not_from_idle</th>\n",
       "      <td>0.0</td>\n",
       "    </tr>\n",
       "    <tr>\n",
       "      <th>long_move_name</th>\n",
       "      <td>autoDOLA -&gt; sDOLA   ('DOLA',) -&gt; ('sDOLA',)</td>\n",
       "    </tr>\n",
       "    <tr>\n",
       "      <th>adjusted_spot_swap_cost</th>\n",
       "      <td>76.137998</td>\n",
       "    </tr>\n",
       "    <tr>\n",
       "      <th>adjusted_spot_swap_cost_in_bps_of_value_out</th>\n",
       "      <td>1.5</td>\n",
       "    </tr>\n",
       "    <tr>\n",
       "      <th>adjusted_spot_swap_cost_in_bps_of_NAV</th>\n",
       "      <td>0.70816</td>\n",
       "    </tr>\n",
       "  </tbody>\n",
       "</table>\n",
       "</div>"
      ],
      "text/plain": [
       "datetime                                                             2025-06-03 04:34:59+00:00\n",
       "tx_hash                                      0x272e39d795a4a38e6cc22ec9e54deb92fa068c83304d...\n",
       "autopool_vault_address                              0x79eB84B5E30Ef2481c8f00fD0Aa7aAd6Ac0AA54d\n",
       "chain_id                                                                                     1\n",
       "rebalance_file_path                          rebalance_plan_1748925231_0x79eB84B5E30Ef2481c...\n",
       "destination_out                                     0x79eB84B5E30Ef2481c8f00fD0Aa7aAd6Ac0AA54d\n",
       "destination_in                                      0x116b3e86f2b04c21605c5fC4b95Ba6A82dBF8F3E\n",
       "quantity_out                                                                     507586.651647\n",
       "quantity_in                                                                      448213.886034\n",
       "safe_value_out                                                                   507586.651647\n",
       "safe_value_in                                                                    507510.513649\n",
       "spot_value_in                                                                    506242.414687\n",
       "spot_value_out                                                                   507586.651647\n",
       "spot_value_in_solver_change                                                          76.137998\n",
       "block                                                                                 22621780\n",
       "total_nav                                                                       1075151.757786\n",
       "move_name                                                                    autoDOLA -> sDOLA\n",
       "destination_in_symbol                                                                    sDOLA\n",
       "destination_out_symbol                                                                autoDOLA\n",
       "destination_in_tokens                                                               ('sDOLA',)\n",
       "destination_out_tokens                                                               ('DOLA',)\n",
       "tokens_move_name                                                       ('DOLA',) -> ('sDOLA',)\n",
       "expected_to_be_lossless                                                                   True\n",
       "spot_swap_cost                                                                      1344.23696\n",
       "spot_slippage_bps                                                                    26.482906\n",
       "safe_swap_cost                                                                       76.137998\n",
       "safe_slippage_bps                                                                          1.5\n",
       "swap_cost_in_bps_of_value_out                                                        26.482906\n",
       "swap_cost_in_bps_of_NAV                                                              12.502765\n",
       "from_idle                                                                                 True\n",
       "swap_cost_in_bps_of_value_out_from_idle                                              26.482906\n",
       "swap_cost_in_bps_of_NAV_from_idle                                                    12.502765\n",
       "swap_cost_in_bps_of_value_out_not_from_idle                                                0.0\n",
       "swap_cost_in_bps_of_NAV_not_from_idle                                                      0.0\n",
       "long_move_name                                     autoDOLA -> sDOLA   ('DOLA',) -> ('sDOLA',)\n",
       "adjusted_spot_swap_cost                                                              76.137998\n",
       "adjusted_spot_swap_cost_in_bps_of_value_out                                                1.5\n",
       "adjusted_spot_swap_cost_in_bps_of_NAV                                                  0.70816"
      ]
     },
     "execution_count": 41,
     "metadata": {},
     "output_type": "execute_result"
    }
   ],
   "source": [
    "df[df[\"swap_cost_in_bps_of_NAV\"] > 12].T"
   ]
  },
  {
   "cell_type": "code",
   "execution_count": 23,
   "metadata": {},
   "outputs": [
    {
     "data": {
      "text/plain": [
       "Index([], dtype='object', name='move_name')"
      ]
     },
     "execution_count": 23,
     "metadata": {},
     "output_type": "execute_result"
    }
   ],
   "source": [
    "df[df[\"tokens_move_name\"] == \"('USDC',) -> ('USDC',)\"][\"move_name\"].value_counts().index"
   ]
  },
  {
   "cell_type": "code",
   "execution_count": 24,
   "metadata": {},
   "outputs": [
    {
     "data": {
      "text/plain": [
       "Index([], dtype='object', name='move_name')"
      ]
     },
     "execution_count": 24,
     "metadata": {},
     "output_type": "execute_result"
    }
   ],
   "source": [
    "df[df[\"tokens_move_name\"] == \"('USDC',) -> ('USDC',)\"][\"move_name\"].value_counts().index"
   ]
  },
  {
   "cell_type": "code",
   "execution_count": 25,
   "metadata": {},
   "outputs": [
    {
     "data": {
      "application/vnd.microsoft.datawrangler.viewer.v0+json": {
       "columns": [
        {
         "name": "long_move_name",
         "rawType": "object",
         "type": "string"
        },
        {
         "name": "count",
         "rawType": "int64",
         "type": "integer"
        }
       ],
       "ref": "fc9591f4-2bfb-4a34-b7e0-8893dcd1c4ed",
       "rows": [
        [
         "autoDOLA -> reusdsdola   ('DOLA',) -> ('reUSD', 'sDOLA')",
         "20"
        ],
        [
         "autoDOLA -> savedola   ('DOLA',) -> ('sDOLA', 'scrvUSD')",
         "8"
        ],
        [
         "autoDOLA -> sDOLA   ('DOLA',) -> ('sDOLA',)",
         "5"
        ],
        [
         "autoDOLA -> DOLA-sUSDe   ('DOLA',) -> ('sUSDe', 'DOLA')",
         "2"
        ]
       ],
       "shape": {
        "columns": 1,
        "rows": 4
       }
      },
      "text/plain": [
       "long_move_name\n",
       "autoDOLA -> reusdsdola   ('DOLA',) -> ('reUSD', 'sDOLA')    20\n",
       "autoDOLA -> savedola   ('DOLA',) -> ('sDOLA', 'scrvUSD')     8\n",
       "autoDOLA -> sDOLA   ('DOLA',) -> ('sDOLA',)                  5\n",
       "autoDOLA -> DOLA-sUSDe   ('DOLA',) -> ('sUSDe', 'DOLA')      2\n",
       "Name: count, dtype: int64"
      ]
     },
     "execution_count": 25,
     "metadata": {},
     "output_type": "execute_result"
    }
   ],
   "source": [
    "df[\"long_move_name\"] = df[\"move_name\"] + \"   \" + df[\"tokens_move_name\"]\n",
    "df[\"long_move_name\"].value_counts()"
   ]
  },
  {
   "cell_type": "code",
   "execution_count": 26,
   "metadata": {},
   "outputs": [],
   "source": [
    "# spot_value_in_solver_change is not correct in BASE_USD"
   ]
  },
  {
   "cell_type": "code",
   "execution_count": null,
   "metadata": {},
   "outputs": [],
   "source": []
  },
  {
   "cell_type": "code",
   "execution_count": 27,
   "metadata": {},
   "outputs": [
    {
     "data": {
      "application/vnd.microsoft.datawrangler.viewer.v0+json": {
       "columns": [
        {
         "name": "spot_value_in_solver_change",
         "rawType": "bool",
         "type": "boolean"
        },
        {
         "name": "proportion",
         "rawType": "float64",
         "type": "float"
        }
       ],
       "ref": "0bc92f36-e48d-49ce-806d-8a74f115b399",
       "rows": [
        [
         "True",
         "0.9428571428571428"
        ],
        [
         "False",
         "0.05714285714285714"
        ]
       ],
       "shape": {
        "columns": 1,
        "rows": 2
       }
      },
      "text/plain": [
       "spot_value_in_solver_change\n",
       "True     0.942857\n",
       "False    0.057143\n",
       "Name: proportion, dtype: float64"
      ]
     },
     "execution_count": 27,
     "metadata": {},
     "output_type": "execute_result"
    }
   ],
   "source": [
    "(df[\"spot_value_in_solver_change\"] > 0).value_counts(normalize=True)"
   ]
  },
  {
   "cell_type": "code",
   "execution_count": 28,
   "metadata": {},
   "outputs": [
    {
     "data": {
      "application/vnd.plotly.v1+json": {
       "config": {
        "plotlyServerURL": "https://plot.ly"
       },
       "data": [
        {
         "alignmentgroup": "True",
         "bingroup": "x",
         "hovertemplate": "variable=spot_value_in_solver_change<br>value=%{x}<br>count=%{y}<extra></extra>",
         "legendgroup": "spot_value_in_solver_change",
         "marker": {
          "color": "#636efa",
          "pattern": {
           "shape": ""
          }
         },
         "name": "spot_value_in_solver_change",
         "offsetgroup": "spot_value_in_solver_change",
         "orientation": "v",
         "showlegend": true,
         "type": "histogram",
         "x": [
          0.03910671638191309,
          0.037500000000008187,
          0.03750000000000819,
          3.000000000001311,
          5.999999999994232,
          76.13799774700962,
          38.06899887350481,
          7.499999999999076,
          7.499999999996987,
          38.20505665199775,
          7.23888824590216,
          5.429166184423508,
          5.367572882955159,
          18.749999999986187,
          8.462460267416702,
          8.999999999999744,
          8.999999999999744,
          8.999999999995538,
          11.249999999997556,
          79.90036710022133,
          11.249999999999659,
          11.250000000003865,
          11.249999999997556,
          11.249999999993406,
          11.24999999999335,
          8.999999999999773,
          11.250000000005969,
          11.250000000001762,
          11.249999999997556,
          -438.92461466977625,
          9.957837364212532,
          9.000000000001835,
          9.000000000001833,
          -27.9578373642162,
          2.923553634310172
         ],
         "xaxis": "x",
         "yaxis": "y"
        }
       ],
       "layout": {
        "barmode": "relative",
        "legend": {
         "title": {
          "text": "variable"
         },
         "tracegroupgap": 0
        },
        "margin": {
         "t": 60
        },
        "template": {
         "data": {
          "bar": [
           {
            "error_x": {
             "color": "#2a3f5f"
            },
            "error_y": {
             "color": "#2a3f5f"
            },
            "marker": {
             "line": {
              "color": "#E5ECF6",
              "width": 0.5
             },
             "pattern": {
              "fillmode": "overlay",
              "size": 10,
              "solidity": 0.2
             }
            },
            "type": "bar"
           }
          ],
          "barpolar": [
           {
            "marker": {
             "line": {
              "color": "#E5ECF6",
              "width": 0.5
             },
             "pattern": {
              "fillmode": "overlay",
              "size": 10,
              "solidity": 0.2
             }
            },
            "type": "barpolar"
           }
          ],
          "carpet": [
           {
            "aaxis": {
             "endlinecolor": "#2a3f5f",
             "gridcolor": "white",
             "linecolor": "white",
             "minorgridcolor": "white",
             "startlinecolor": "#2a3f5f"
            },
            "baxis": {
             "endlinecolor": "#2a3f5f",
             "gridcolor": "white",
             "linecolor": "white",
             "minorgridcolor": "white",
             "startlinecolor": "#2a3f5f"
            },
            "type": "carpet"
           }
          ],
          "choropleth": [
           {
            "colorbar": {
             "outlinewidth": 0,
             "ticks": ""
            },
            "type": "choropleth"
           }
          ],
          "contour": [
           {
            "colorbar": {
             "outlinewidth": 0,
             "ticks": ""
            },
            "colorscale": [
             [
              0,
              "#0d0887"
             ],
             [
              0.1111111111111111,
              "#46039f"
             ],
             [
              0.2222222222222222,
              "#7201a8"
             ],
             [
              0.3333333333333333,
              "#9c179e"
             ],
             [
              0.4444444444444444,
              "#bd3786"
             ],
             [
              0.5555555555555556,
              "#d8576b"
             ],
             [
              0.6666666666666666,
              "#ed7953"
             ],
             [
              0.7777777777777778,
              "#fb9f3a"
             ],
             [
              0.8888888888888888,
              "#fdca26"
             ],
             [
              1,
              "#f0f921"
             ]
            ],
            "type": "contour"
           }
          ],
          "contourcarpet": [
           {
            "colorbar": {
             "outlinewidth": 0,
             "ticks": ""
            },
            "type": "contourcarpet"
           }
          ],
          "heatmap": [
           {
            "colorbar": {
             "outlinewidth": 0,
             "ticks": ""
            },
            "colorscale": [
             [
              0,
              "#0d0887"
             ],
             [
              0.1111111111111111,
              "#46039f"
             ],
             [
              0.2222222222222222,
              "#7201a8"
             ],
             [
              0.3333333333333333,
              "#9c179e"
             ],
             [
              0.4444444444444444,
              "#bd3786"
             ],
             [
              0.5555555555555556,
              "#d8576b"
             ],
             [
              0.6666666666666666,
              "#ed7953"
             ],
             [
              0.7777777777777778,
              "#fb9f3a"
             ],
             [
              0.8888888888888888,
              "#fdca26"
             ],
             [
              1,
              "#f0f921"
             ]
            ],
            "type": "heatmap"
           }
          ],
          "heatmapgl": [
           {
            "colorbar": {
             "outlinewidth": 0,
             "ticks": ""
            },
            "colorscale": [
             [
              0,
              "#0d0887"
             ],
             [
              0.1111111111111111,
              "#46039f"
             ],
             [
              0.2222222222222222,
              "#7201a8"
             ],
             [
              0.3333333333333333,
              "#9c179e"
             ],
             [
              0.4444444444444444,
              "#bd3786"
             ],
             [
              0.5555555555555556,
              "#d8576b"
             ],
             [
              0.6666666666666666,
              "#ed7953"
             ],
             [
              0.7777777777777778,
              "#fb9f3a"
             ],
             [
              0.8888888888888888,
              "#fdca26"
             ],
             [
              1,
              "#f0f921"
             ]
            ],
            "type": "heatmapgl"
           }
          ],
          "histogram": [
           {
            "marker": {
             "pattern": {
              "fillmode": "overlay",
              "size": 10,
              "solidity": 0.2
             }
            },
            "type": "histogram"
           }
          ],
          "histogram2d": [
           {
            "colorbar": {
             "outlinewidth": 0,
             "ticks": ""
            },
            "colorscale": [
             [
              0,
              "#0d0887"
             ],
             [
              0.1111111111111111,
              "#46039f"
             ],
             [
              0.2222222222222222,
              "#7201a8"
             ],
             [
              0.3333333333333333,
              "#9c179e"
             ],
             [
              0.4444444444444444,
              "#bd3786"
             ],
             [
              0.5555555555555556,
              "#d8576b"
             ],
             [
              0.6666666666666666,
              "#ed7953"
             ],
             [
              0.7777777777777778,
              "#fb9f3a"
             ],
             [
              0.8888888888888888,
              "#fdca26"
             ],
             [
              1,
              "#f0f921"
             ]
            ],
            "type": "histogram2d"
           }
          ],
          "histogram2dcontour": [
           {
            "colorbar": {
             "outlinewidth": 0,
             "ticks": ""
            },
            "colorscale": [
             [
              0,
              "#0d0887"
             ],
             [
              0.1111111111111111,
              "#46039f"
             ],
             [
              0.2222222222222222,
              "#7201a8"
             ],
             [
              0.3333333333333333,
              "#9c179e"
             ],
             [
              0.4444444444444444,
              "#bd3786"
             ],
             [
              0.5555555555555556,
              "#d8576b"
             ],
             [
              0.6666666666666666,
              "#ed7953"
             ],
             [
              0.7777777777777778,
              "#fb9f3a"
             ],
             [
              0.8888888888888888,
              "#fdca26"
             ],
             [
              1,
              "#f0f921"
             ]
            ],
            "type": "histogram2dcontour"
           }
          ],
          "mesh3d": [
           {
            "colorbar": {
             "outlinewidth": 0,
             "ticks": ""
            },
            "type": "mesh3d"
           }
          ],
          "parcoords": [
           {
            "line": {
             "colorbar": {
              "outlinewidth": 0,
              "ticks": ""
             }
            },
            "type": "parcoords"
           }
          ],
          "pie": [
           {
            "automargin": true,
            "type": "pie"
           }
          ],
          "scatter": [
           {
            "fillpattern": {
             "fillmode": "overlay",
             "size": 10,
             "solidity": 0.2
            },
            "type": "scatter"
           }
          ],
          "scatter3d": [
           {
            "line": {
             "colorbar": {
              "outlinewidth": 0,
              "ticks": ""
             }
            },
            "marker": {
             "colorbar": {
              "outlinewidth": 0,
              "ticks": ""
             }
            },
            "type": "scatter3d"
           }
          ],
          "scattercarpet": [
           {
            "marker": {
             "colorbar": {
              "outlinewidth": 0,
              "ticks": ""
             }
            },
            "type": "scattercarpet"
           }
          ],
          "scattergeo": [
           {
            "marker": {
             "colorbar": {
              "outlinewidth": 0,
              "ticks": ""
             }
            },
            "type": "scattergeo"
           }
          ],
          "scattergl": [
           {
            "marker": {
             "colorbar": {
              "outlinewidth": 0,
              "ticks": ""
             }
            },
            "type": "scattergl"
           }
          ],
          "scattermapbox": [
           {
            "marker": {
             "colorbar": {
              "outlinewidth": 0,
              "ticks": ""
             }
            },
            "type": "scattermapbox"
           }
          ],
          "scatterpolar": [
           {
            "marker": {
             "colorbar": {
              "outlinewidth": 0,
              "ticks": ""
             }
            },
            "type": "scatterpolar"
           }
          ],
          "scatterpolargl": [
           {
            "marker": {
             "colorbar": {
              "outlinewidth": 0,
              "ticks": ""
             }
            },
            "type": "scatterpolargl"
           }
          ],
          "scatterternary": [
           {
            "marker": {
             "colorbar": {
              "outlinewidth": 0,
              "ticks": ""
             }
            },
            "type": "scatterternary"
           }
          ],
          "surface": [
           {
            "colorbar": {
             "outlinewidth": 0,
             "ticks": ""
            },
            "colorscale": [
             [
              0,
              "#0d0887"
             ],
             [
              0.1111111111111111,
              "#46039f"
             ],
             [
              0.2222222222222222,
              "#7201a8"
             ],
             [
              0.3333333333333333,
              "#9c179e"
             ],
             [
              0.4444444444444444,
              "#bd3786"
             ],
             [
              0.5555555555555556,
              "#d8576b"
             ],
             [
              0.6666666666666666,
              "#ed7953"
             ],
             [
              0.7777777777777778,
              "#fb9f3a"
             ],
             [
              0.8888888888888888,
              "#fdca26"
             ],
             [
              1,
              "#f0f921"
             ]
            ],
            "type": "surface"
           }
          ],
          "table": [
           {
            "cells": {
             "fill": {
              "color": "#EBF0F8"
             },
             "line": {
              "color": "white"
             }
            },
            "header": {
             "fill": {
              "color": "#C8D4E3"
             },
             "line": {
              "color": "white"
             }
            },
            "type": "table"
           }
          ]
         },
         "layout": {
          "annotationdefaults": {
           "arrowcolor": "#2a3f5f",
           "arrowhead": 0,
           "arrowwidth": 1
          },
          "autotypenumbers": "strict",
          "coloraxis": {
           "colorbar": {
            "outlinewidth": 0,
            "ticks": ""
           }
          },
          "colorscale": {
           "diverging": [
            [
             0,
             "#8e0152"
            ],
            [
             0.1,
             "#c51b7d"
            ],
            [
             0.2,
             "#de77ae"
            ],
            [
             0.3,
             "#f1b6da"
            ],
            [
             0.4,
             "#fde0ef"
            ],
            [
             0.5,
             "#f7f7f7"
            ],
            [
             0.6,
             "#e6f5d0"
            ],
            [
             0.7,
             "#b8e186"
            ],
            [
             0.8,
             "#7fbc41"
            ],
            [
             0.9,
             "#4d9221"
            ],
            [
             1,
             "#276419"
            ]
           ],
           "sequential": [
            [
             0,
             "#0d0887"
            ],
            [
             0.1111111111111111,
             "#46039f"
            ],
            [
             0.2222222222222222,
             "#7201a8"
            ],
            [
             0.3333333333333333,
             "#9c179e"
            ],
            [
             0.4444444444444444,
             "#bd3786"
            ],
            [
             0.5555555555555556,
             "#d8576b"
            ],
            [
             0.6666666666666666,
             "#ed7953"
            ],
            [
             0.7777777777777778,
             "#fb9f3a"
            ],
            [
             0.8888888888888888,
             "#fdca26"
            ],
            [
             1,
             "#f0f921"
            ]
           ],
           "sequentialminus": [
            [
             0,
             "#0d0887"
            ],
            [
             0.1111111111111111,
             "#46039f"
            ],
            [
             0.2222222222222222,
             "#7201a8"
            ],
            [
             0.3333333333333333,
             "#9c179e"
            ],
            [
             0.4444444444444444,
             "#bd3786"
            ],
            [
             0.5555555555555556,
             "#d8576b"
            ],
            [
             0.6666666666666666,
             "#ed7953"
            ],
            [
             0.7777777777777778,
             "#fb9f3a"
            ],
            [
             0.8888888888888888,
             "#fdca26"
            ],
            [
             1,
             "#f0f921"
            ]
           ]
          },
          "colorway": [
           "#636efa",
           "#EF553B",
           "#00cc96",
           "#ab63fa",
           "#FFA15A",
           "#19d3f3",
           "#FF6692",
           "#B6E880",
           "#FF97FF",
           "#FECB52"
          ],
          "font": {
           "color": "#2a3f5f"
          },
          "geo": {
           "bgcolor": "white",
           "lakecolor": "white",
           "landcolor": "#E5ECF6",
           "showlakes": true,
           "showland": true,
           "subunitcolor": "white"
          },
          "hoverlabel": {
           "align": "left"
          },
          "hovermode": "closest",
          "mapbox": {
           "style": "light"
          },
          "paper_bgcolor": "white",
          "plot_bgcolor": "#E5ECF6",
          "polar": {
           "angularaxis": {
            "gridcolor": "white",
            "linecolor": "white",
            "ticks": ""
           },
           "bgcolor": "#E5ECF6",
           "radialaxis": {
            "gridcolor": "white",
            "linecolor": "white",
            "ticks": ""
           }
          },
          "scene": {
           "xaxis": {
            "backgroundcolor": "#E5ECF6",
            "gridcolor": "white",
            "gridwidth": 2,
            "linecolor": "white",
            "showbackground": true,
            "ticks": "",
            "zerolinecolor": "white"
           },
           "yaxis": {
            "backgroundcolor": "#E5ECF6",
            "gridcolor": "white",
            "gridwidth": 2,
            "linecolor": "white",
            "showbackground": true,
            "ticks": "",
            "zerolinecolor": "white"
           },
           "zaxis": {
            "backgroundcolor": "#E5ECF6",
            "gridcolor": "white",
            "gridwidth": 2,
            "linecolor": "white",
            "showbackground": true,
            "ticks": "",
            "zerolinecolor": "white"
           }
          },
          "shapedefaults": {
           "line": {
            "color": "#2a3f5f"
           }
          },
          "ternary": {
           "aaxis": {
            "gridcolor": "white",
            "linecolor": "white",
            "ticks": ""
           },
           "baxis": {
            "gridcolor": "white",
            "linecolor": "white",
            "ticks": ""
           },
           "bgcolor": "#E5ECF6",
           "caxis": {
            "gridcolor": "white",
            "linecolor": "white",
            "ticks": ""
           }
          },
          "title": {
           "x": 0.05
          },
          "xaxis": {
           "automargin": true,
           "gridcolor": "white",
           "linecolor": "white",
           "ticks": "",
           "title": {
            "standoff": 15
           },
           "zerolinecolor": "white",
           "zerolinewidth": 2
          },
          "yaxis": {
           "automargin": true,
           "gridcolor": "white",
           "linecolor": "white",
           "ticks": "",
           "title": {
            "standoff": 15
           },
           "zerolinecolor": "white",
           "zerolinewidth": 2
          }
         }
        },
        "xaxis": {
         "anchor": "y",
         "domain": [
          0,
          1
         ],
         "title": {
          "text": "value"
         }
        },
        "yaxis": {
         "anchor": "x",
         "domain": [
          0,
          1
         ],
         "title": {
          "text": "count"
         }
        }
       }
      }
     },
     "metadata": {},
     "output_type": "display_data"
    }
   ],
   "source": [
    "px.histogram(df[\"spot_value_in_solver_change\"])"
   ]
  },
  {
   "cell_type": "code",
   "execution_count": 29,
   "metadata": {},
   "outputs": [],
   "source": [
    "df[\"long_move_name\"] = df[\"move_name\"] + \"   \" + df[\"tokens_move_name\"]\n",
    "cond = df[\"move_name\"].isin([\"autoDOLA -> sDOLA\", \"baseUSD -> fUSDC\", \"baseUSD -> smUSDC\", \"baseUSD -> mwUSDC\"])\n",
    "cond = cond | (df[\"tokens_move_name\"] == \"('USDC',) -> ('USDC',)\")\n",
    "df[\"adjusted_spot_swap_cost\"] = df[\"spot_value_in_solver_change\"].where(\n",
    "    cond, df[\"spot_swap_cost\"] - df[\"spot_value_in_solver_change\"]\n",
    ")\n",
    "df[\"adjusted_spot_swap_cost_in_bps_of_value_out\"] = 10_000 * df[\"adjusted_spot_swap_cost\"] / df[\"spot_value_out\"]\n",
    "df[\"adjusted_spot_swap_cost_in_bps_of_NAV\"] = 10_000 * df[\"adjusted_spot_swap_cost\"] / df[\"total_nav\"]"
   ]
  },
  {
   "cell_type": "code",
   "execution_count": 30,
   "metadata": {},
   "outputs": [
    {
     "data": {
      "application/vnd.plotly.v1+json": {
       "config": {
        "plotlyServerURL": "https://plot.ly"
       },
       "data": [
        {
         "hovertemplate": "long_move_name=autoDOLA -> reusdsdola   ('DOLA',) -> ('reUSD', 'sDOLA')<br>adjusted_spot_swap_cost_in_bps_of_value_out=%{x}<br>spot_value_out=%{y}<extra></extra>",
         "legendgroup": "autoDOLA -> reusdsdola   ('DOLA',) -> ('reUSD', 'sDOLA')",
         "marker": {
          "color": "#636efa",
          "symbol": "circle"
         },
         "mode": "markers",
         "name": "autoDOLA -> reusdsdola   ('DOLA',) -> ('reUSD', 'sDOLA')",
         "orientation": "v",
         "showlegend": true,
         "type": "scatter",
         "x": [
          4.486494915882166,
          3.1172646384851666,
          1.7785762070042344,
          4.2435715851800335,
          14.43618602783098,
          11.919549219473451,
          -0.5721411304367735,
          3.9306558494368455,
          4.829463956878055,
          3.67337654446689,
          2.9917579334251925,
          1.8860235263349299,
          3.347405889851307,
          2.1370848645146148,
          -0.21959590959259004,
          1.2660648698106873,
          2.6226052686550325,
          2.3784966284305558,
          3.3174757393326195,
          0.573205855404313
         ],
         "xaxis": "x",
         "y": [
          260.7114425462012,
          250,
          250,
          20000,
          40000,
          49999.99999999999,
          49999.99999999999,
          48259.25497266585,
          36194.44122949939,
          35783.81921968047,
          125000,
          56416.401782781046,
          60000,
          75000,
          75000,
          75000,
          75000,
          66385.58242811033,
          60000,
          60000
         ],
         "yaxis": "y"
        },
        {
         "hovertemplate": "long_move_name=autoDOLA -> sDOLA   ('DOLA',) -> ('sDOLA',)<br>adjusted_spot_swap_cost_in_bps_of_value_out=%{x}<br>spot_value_out=%{y}<extra></extra>",
         "legendgroup": "autoDOLA -> sDOLA   ('DOLA',) -> ('sDOLA',)",
         "marker": {
          "color": "#EF553B",
          "symbol": "circle"
         },
         "mode": "markers",
         "name": "autoDOLA -> sDOLA   ('DOLA',) -> ('sDOLA',)",
         "orientation": "v",
         "showlegend": true,
         "type": "scatter",
         "x": [
          1.4999999999997997,
          1.4999999999997997,
          1.4999999999993512,
          1.4999999999993532,
          1.499999999999674
         ],
         "xaxis": "x",
         "y": [
          507586.6516467986,
          253793.3258233993,
          254700.37768009517,
          532669.1140017052,
          75000
         ],
         "yaxis": "y"
        },
        {
         "hovertemplate": "long_move_name=autoDOLA -> savedola   ('DOLA',) -> ('sDOLA', 'scrvUSD')<br>adjusted_spot_swap_cost_in_bps_of_value_out=%{x}<br>spot_value_out=%{y}<extra></extra>",
         "legendgroup": "autoDOLA -> savedola   ('DOLA',) -> ('sDOLA', 'scrvUSD')",
         "marker": {
          "color": "#00cc96",
          "symbol": "circle"
         },
         "mode": "markers",
         "name": "autoDOLA -> savedola   ('DOLA',) -> ('sDOLA', 'scrvUSD')",
         "orientation": "v",
         "showlegend": true,
         "type": "scatter",
         "x": [
          2.2119932481522304,
          0.8235700086656692,
          -4.505890498760141,
          6.323233753369914,
          0.7518141106303802,
          1.7478240658650748,
          0.26431777515407856,
          3.453801425563506
         ],
         "xaxis": "x",
         "y": [
          60000,
          60000,
          75000,
          75000,
          75000,
          60000,
          75000,
          19490.357562060803
         ],
         "yaxis": "y"
        },
        {
         "hovertemplate": "long_move_name=autoDOLA -> DOLA-sUSDe   ('DOLA',) -> ('sUSDe', 'DOLA')<br>adjusted_spot_swap_cost_in_bps_of_value_out=%{x}<br>spot_value_out=%{y}<extra></extra>",
         "legendgroup": "autoDOLA -> DOLA-sUSDe   ('DOLA',) -> ('sUSDe', 'DOLA')",
         "marker": {
          "color": "#ab63fa",
          "symbol": "circle"
         },
         "mode": "markers",
         "name": "autoDOLA -> DOLA-sUSDe   ('DOLA',) -> ('sUSDe', 'DOLA')",
         "orientation": "v",
         "showlegend": true,
         "type": "scatter",
         "x": [
          17.463716184416654,
          5.970227624761724
         ],
         "xaxis": "x",
         "y": [
          75000,
          60000
         ],
         "yaxis": "y"
        }
       ],
       "layout": {
        "legend": {
         "title": {
          "text": "long_move_name"
         },
         "tracegroupgap": 0
        },
        "margin": {
         "t": 60
        },
        "template": {
         "data": {
          "bar": [
           {
            "error_x": {
             "color": "#2a3f5f"
            },
            "error_y": {
             "color": "#2a3f5f"
            },
            "marker": {
             "line": {
              "color": "#E5ECF6",
              "width": 0.5
             },
             "pattern": {
              "fillmode": "overlay",
              "size": 10,
              "solidity": 0.2
             }
            },
            "type": "bar"
           }
          ],
          "barpolar": [
           {
            "marker": {
             "line": {
              "color": "#E5ECF6",
              "width": 0.5
             },
             "pattern": {
              "fillmode": "overlay",
              "size": 10,
              "solidity": 0.2
             }
            },
            "type": "barpolar"
           }
          ],
          "carpet": [
           {
            "aaxis": {
             "endlinecolor": "#2a3f5f",
             "gridcolor": "white",
             "linecolor": "white",
             "minorgridcolor": "white",
             "startlinecolor": "#2a3f5f"
            },
            "baxis": {
             "endlinecolor": "#2a3f5f",
             "gridcolor": "white",
             "linecolor": "white",
             "minorgridcolor": "white",
             "startlinecolor": "#2a3f5f"
            },
            "type": "carpet"
           }
          ],
          "choropleth": [
           {
            "colorbar": {
             "outlinewidth": 0,
             "ticks": ""
            },
            "type": "choropleth"
           }
          ],
          "contour": [
           {
            "colorbar": {
             "outlinewidth": 0,
             "ticks": ""
            },
            "colorscale": [
             [
              0,
              "#0d0887"
             ],
             [
              0.1111111111111111,
              "#46039f"
             ],
             [
              0.2222222222222222,
              "#7201a8"
             ],
             [
              0.3333333333333333,
              "#9c179e"
             ],
             [
              0.4444444444444444,
              "#bd3786"
             ],
             [
              0.5555555555555556,
              "#d8576b"
             ],
             [
              0.6666666666666666,
              "#ed7953"
             ],
             [
              0.7777777777777778,
              "#fb9f3a"
             ],
             [
              0.8888888888888888,
              "#fdca26"
             ],
             [
              1,
              "#f0f921"
             ]
            ],
            "type": "contour"
           }
          ],
          "contourcarpet": [
           {
            "colorbar": {
             "outlinewidth": 0,
             "ticks": ""
            },
            "type": "contourcarpet"
           }
          ],
          "heatmap": [
           {
            "colorbar": {
             "outlinewidth": 0,
             "ticks": ""
            },
            "colorscale": [
             [
              0,
              "#0d0887"
             ],
             [
              0.1111111111111111,
              "#46039f"
             ],
             [
              0.2222222222222222,
              "#7201a8"
             ],
             [
              0.3333333333333333,
              "#9c179e"
             ],
             [
              0.4444444444444444,
              "#bd3786"
             ],
             [
              0.5555555555555556,
              "#d8576b"
             ],
             [
              0.6666666666666666,
              "#ed7953"
             ],
             [
              0.7777777777777778,
              "#fb9f3a"
             ],
             [
              0.8888888888888888,
              "#fdca26"
             ],
             [
              1,
              "#f0f921"
             ]
            ],
            "type": "heatmap"
           }
          ],
          "heatmapgl": [
           {
            "colorbar": {
             "outlinewidth": 0,
             "ticks": ""
            },
            "colorscale": [
             [
              0,
              "#0d0887"
             ],
             [
              0.1111111111111111,
              "#46039f"
             ],
             [
              0.2222222222222222,
              "#7201a8"
             ],
             [
              0.3333333333333333,
              "#9c179e"
             ],
             [
              0.4444444444444444,
              "#bd3786"
             ],
             [
              0.5555555555555556,
              "#d8576b"
             ],
             [
              0.6666666666666666,
              "#ed7953"
             ],
             [
              0.7777777777777778,
              "#fb9f3a"
             ],
             [
              0.8888888888888888,
              "#fdca26"
             ],
             [
              1,
              "#f0f921"
             ]
            ],
            "type": "heatmapgl"
           }
          ],
          "histogram": [
           {
            "marker": {
             "pattern": {
              "fillmode": "overlay",
              "size": 10,
              "solidity": 0.2
             }
            },
            "type": "histogram"
           }
          ],
          "histogram2d": [
           {
            "colorbar": {
             "outlinewidth": 0,
             "ticks": ""
            },
            "colorscale": [
             [
              0,
              "#0d0887"
             ],
             [
              0.1111111111111111,
              "#46039f"
             ],
             [
              0.2222222222222222,
              "#7201a8"
             ],
             [
              0.3333333333333333,
              "#9c179e"
             ],
             [
              0.4444444444444444,
              "#bd3786"
             ],
             [
              0.5555555555555556,
              "#d8576b"
             ],
             [
              0.6666666666666666,
              "#ed7953"
             ],
             [
              0.7777777777777778,
              "#fb9f3a"
             ],
             [
              0.8888888888888888,
              "#fdca26"
             ],
             [
              1,
              "#f0f921"
             ]
            ],
            "type": "histogram2d"
           }
          ],
          "histogram2dcontour": [
           {
            "colorbar": {
             "outlinewidth": 0,
             "ticks": ""
            },
            "colorscale": [
             [
              0,
              "#0d0887"
             ],
             [
              0.1111111111111111,
              "#46039f"
             ],
             [
              0.2222222222222222,
              "#7201a8"
             ],
             [
              0.3333333333333333,
              "#9c179e"
             ],
             [
              0.4444444444444444,
              "#bd3786"
             ],
             [
              0.5555555555555556,
              "#d8576b"
             ],
             [
              0.6666666666666666,
              "#ed7953"
             ],
             [
              0.7777777777777778,
              "#fb9f3a"
             ],
             [
              0.8888888888888888,
              "#fdca26"
             ],
             [
              1,
              "#f0f921"
             ]
            ],
            "type": "histogram2dcontour"
           }
          ],
          "mesh3d": [
           {
            "colorbar": {
             "outlinewidth": 0,
             "ticks": ""
            },
            "type": "mesh3d"
           }
          ],
          "parcoords": [
           {
            "line": {
             "colorbar": {
              "outlinewidth": 0,
              "ticks": ""
             }
            },
            "type": "parcoords"
           }
          ],
          "pie": [
           {
            "automargin": true,
            "type": "pie"
           }
          ],
          "scatter": [
           {
            "fillpattern": {
             "fillmode": "overlay",
             "size": 10,
             "solidity": 0.2
            },
            "type": "scatter"
           }
          ],
          "scatter3d": [
           {
            "line": {
             "colorbar": {
              "outlinewidth": 0,
              "ticks": ""
             }
            },
            "marker": {
             "colorbar": {
              "outlinewidth": 0,
              "ticks": ""
             }
            },
            "type": "scatter3d"
           }
          ],
          "scattercarpet": [
           {
            "marker": {
             "colorbar": {
              "outlinewidth": 0,
              "ticks": ""
             }
            },
            "type": "scattercarpet"
           }
          ],
          "scattergeo": [
           {
            "marker": {
             "colorbar": {
              "outlinewidth": 0,
              "ticks": ""
             }
            },
            "type": "scattergeo"
           }
          ],
          "scattergl": [
           {
            "marker": {
             "colorbar": {
              "outlinewidth": 0,
              "ticks": ""
             }
            },
            "type": "scattergl"
           }
          ],
          "scattermapbox": [
           {
            "marker": {
             "colorbar": {
              "outlinewidth": 0,
              "ticks": ""
             }
            },
            "type": "scattermapbox"
           }
          ],
          "scatterpolar": [
           {
            "marker": {
             "colorbar": {
              "outlinewidth": 0,
              "ticks": ""
             }
            },
            "type": "scatterpolar"
           }
          ],
          "scatterpolargl": [
           {
            "marker": {
             "colorbar": {
              "outlinewidth": 0,
              "ticks": ""
             }
            },
            "type": "scatterpolargl"
           }
          ],
          "scatterternary": [
           {
            "marker": {
             "colorbar": {
              "outlinewidth": 0,
              "ticks": ""
             }
            },
            "type": "scatterternary"
           }
          ],
          "surface": [
           {
            "colorbar": {
             "outlinewidth": 0,
             "ticks": ""
            },
            "colorscale": [
             [
              0,
              "#0d0887"
             ],
             [
              0.1111111111111111,
              "#46039f"
             ],
             [
              0.2222222222222222,
              "#7201a8"
             ],
             [
              0.3333333333333333,
              "#9c179e"
             ],
             [
              0.4444444444444444,
              "#bd3786"
             ],
             [
              0.5555555555555556,
              "#d8576b"
             ],
             [
              0.6666666666666666,
              "#ed7953"
             ],
             [
              0.7777777777777778,
              "#fb9f3a"
             ],
             [
              0.8888888888888888,
              "#fdca26"
             ],
             [
              1,
              "#f0f921"
             ]
            ],
            "type": "surface"
           }
          ],
          "table": [
           {
            "cells": {
             "fill": {
              "color": "#EBF0F8"
             },
             "line": {
              "color": "white"
             }
            },
            "header": {
             "fill": {
              "color": "#C8D4E3"
             },
             "line": {
              "color": "white"
             }
            },
            "type": "table"
           }
          ]
         },
         "layout": {
          "annotationdefaults": {
           "arrowcolor": "#2a3f5f",
           "arrowhead": 0,
           "arrowwidth": 1
          },
          "autotypenumbers": "strict",
          "coloraxis": {
           "colorbar": {
            "outlinewidth": 0,
            "ticks": ""
           }
          },
          "colorscale": {
           "diverging": [
            [
             0,
             "#8e0152"
            ],
            [
             0.1,
             "#c51b7d"
            ],
            [
             0.2,
             "#de77ae"
            ],
            [
             0.3,
             "#f1b6da"
            ],
            [
             0.4,
             "#fde0ef"
            ],
            [
             0.5,
             "#f7f7f7"
            ],
            [
             0.6,
             "#e6f5d0"
            ],
            [
             0.7,
             "#b8e186"
            ],
            [
             0.8,
             "#7fbc41"
            ],
            [
             0.9,
             "#4d9221"
            ],
            [
             1,
             "#276419"
            ]
           ],
           "sequential": [
            [
             0,
             "#0d0887"
            ],
            [
             0.1111111111111111,
             "#46039f"
            ],
            [
             0.2222222222222222,
             "#7201a8"
            ],
            [
             0.3333333333333333,
             "#9c179e"
            ],
            [
             0.4444444444444444,
             "#bd3786"
            ],
            [
             0.5555555555555556,
             "#d8576b"
            ],
            [
             0.6666666666666666,
             "#ed7953"
            ],
            [
             0.7777777777777778,
             "#fb9f3a"
            ],
            [
             0.8888888888888888,
             "#fdca26"
            ],
            [
             1,
             "#f0f921"
            ]
           ],
           "sequentialminus": [
            [
             0,
             "#0d0887"
            ],
            [
             0.1111111111111111,
             "#46039f"
            ],
            [
             0.2222222222222222,
             "#7201a8"
            ],
            [
             0.3333333333333333,
             "#9c179e"
            ],
            [
             0.4444444444444444,
             "#bd3786"
            ],
            [
             0.5555555555555556,
             "#d8576b"
            ],
            [
             0.6666666666666666,
             "#ed7953"
            ],
            [
             0.7777777777777778,
             "#fb9f3a"
            ],
            [
             0.8888888888888888,
             "#fdca26"
            ],
            [
             1,
             "#f0f921"
            ]
           ]
          },
          "colorway": [
           "#636efa",
           "#EF553B",
           "#00cc96",
           "#ab63fa",
           "#FFA15A",
           "#19d3f3",
           "#FF6692",
           "#B6E880",
           "#FF97FF",
           "#FECB52"
          ],
          "font": {
           "color": "#2a3f5f"
          },
          "geo": {
           "bgcolor": "white",
           "lakecolor": "white",
           "landcolor": "#E5ECF6",
           "showlakes": true,
           "showland": true,
           "subunitcolor": "white"
          },
          "hoverlabel": {
           "align": "left"
          },
          "hovermode": "closest",
          "mapbox": {
           "style": "light"
          },
          "paper_bgcolor": "white",
          "plot_bgcolor": "#E5ECF6",
          "polar": {
           "angularaxis": {
            "gridcolor": "white",
            "linecolor": "white",
            "ticks": ""
           },
           "bgcolor": "#E5ECF6",
           "radialaxis": {
            "gridcolor": "white",
            "linecolor": "white",
            "ticks": ""
           }
          },
          "scene": {
           "xaxis": {
            "backgroundcolor": "#E5ECF6",
            "gridcolor": "white",
            "gridwidth": 2,
            "linecolor": "white",
            "showbackground": true,
            "ticks": "",
            "zerolinecolor": "white"
           },
           "yaxis": {
            "backgroundcolor": "#E5ECF6",
            "gridcolor": "white",
            "gridwidth": 2,
            "linecolor": "white",
            "showbackground": true,
            "ticks": "",
            "zerolinecolor": "white"
           },
           "zaxis": {
            "backgroundcolor": "#E5ECF6",
            "gridcolor": "white",
            "gridwidth": 2,
            "linecolor": "white",
            "showbackground": true,
            "ticks": "",
            "zerolinecolor": "white"
           }
          },
          "shapedefaults": {
           "line": {
            "color": "#2a3f5f"
           }
          },
          "ternary": {
           "aaxis": {
            "gridcolor": "white",
            "linecolor": "white",
            "ticks": ""
           },
           "baxis": {
            "gridcolor": "white",
            "linecolor": "white",
            "ticks": ""
           },
           "bgcolor": "#E5ECF6",
           "caxis": {
            "gridcolor": "white",
            "linecolor": "white",
            "ticks": ""
           }
          },
          "title": {
           "x": 0.05
          },
          "xaxis": {
           "automargin": true,
           "gridcolor": "white",
           "linecolor": "white",
           "ticks": "",
           "title": {
            "standoff": 15
           },
           "zerolinecolor": "white",
           "zerolinewidth": 2
          },
          "yaxis": {
           "automargin": true,
           "gridcolor": "white",
           "linecolor": "white",
           "ticks": "",
           "title": {
            "standoff": 15
           },
           "zerolinecolor": "white",
           "zerolinewidth": 2
          }
         }
        },
        "xaxis": {
         "anchor": "y",
         "domain": [
          0,
          1
         ],
         "title": {
          "text": "adjusted_spot_swap_cost_in_bps_of_value_out"
         }
        },
        "yaxis": {
         "anchor": "x",
         "domain": [
          0,
          1
         ],
         "title": {
          "text": "spot_value_out"
         }
        }
       }
      }
     },
     "metadata": {},
     "output_type": "display_data"
    }
   ],
   "source": [
    "px.scatter(df, x=\"adjusted_spot_swap_cost_in_bps_of_value_out\", y=\"spot_value_out\", color=\"long_move_name\")"
   ]
  },
  {
   "cell_type": "code",
   "execution_count": 31,
   "metadata": {},
   "outputs": [
    {
     "data": {
      "application/vnd.microsoft.datawrangler.viewer.v0+json": {
       "columns": [
        {
         "name": "long_move_name",
         "rawType": "object",
         "type": "string"
        },
        {
         "name": "count",
         "rawType": "float64",
         "type": "float"
        },
        {
         "name": "mean",
         "rawType": "float64",
         "type": "float"
        },
        {
         "name": "std",
         "rawType": "float64",
         "type": "float"
        },
        {
         "name": "min",
         "rawType": "float64",
         "type": "float"
        },
        {
         "name": "25%",
         "rawType": "float64",
         "type": "float"
        },
        {
         "name": "50%",
         "rawType": "float64",
         "type": "float"
        },
        {
         "name": "75%",
         "rawType": "float64",
         "type": "float"
        },
        {
         "name": "max",
         "rawType": "float64",
         "type": "float"
        }
       ],
       "ref": "8896c5d9-750f-4cb7-8b94-5b71b1103042",
       "rows": [
        [
         "autoDOLA -> DOLA-sUSDe   ('DOLA',) -> ('sUSDe', 'DOLA')",
         "2.0",
         "11.72",
         "8.13",
         "5.97",
         "8.84",
         "11.72",
         "14.59",
         "17.46"
        ],
        [
         "autoDOLA -> reusdsdola   ('DOLA',) -> ('reUSD', 'sDOLA')",
         "6.0",
         "7.31",
         "4.63",
         "3.93",
         "4.3",
         "4.66",
         "10.15",
         "14.44"
        ],
        [
         "autoDOLA -> savedola   ('DOLA',) -> ('sDOLA', 'scrvUSD')",
         "1.0",
         "6.32",
         null,
         "6.32",
         "6.32",
         "6.32",
         "6.32",
         "6.32"
        ]
       ],
       "shape": {
        "columns": 8,
        "rows": 3
       }
      },
      "text/html": [
       "<div>\n",
       "<style scoped>\n",
       "    .dataframe tbody tr th:only-of-type {\n",
       "        vertical-align: middle;\n",
       "    }\n",
       "\n",
       "    .dataframe tbody tr th {\n",
       "        vertical-align: top;\n",
       "    }\n",
       "\n",
       "    .dataframe thead th {\n",
       "        text-align: right;\n",
       "    }\n",
       "</style>\n",
       "<table border=\"1\" class=\"dataframe\">\n",
       "  <thead>\n",
       "    <tr style=\"text-align: right;\">\n",
       "      <th></th>\n",
       "      <th>count</th>\n",
       "      <th>mean</th>\n",
       "      <th>std</th>\n",
       "      <th>min</th>\n",
       "      <th>25%</th>\n",
       "      <th>50%</th>\n",
       "      <th>75%</th>\n",
       "      <th>max</th>\n",
       "    </tr>\n",
       "    <tr>\n",
       "      <th>long_move_name</th>\n",
       "      <th></th>\n",
       "      <th></th>\n",
       "      <th></th>\n",
       "      <th></th>\n",
       "      <th></th>\n",
       "      <th></th>\n",
       "      <th></th>\n",
       "      <th></th>\n",
       "    </tr>\n",
       "  </thead>\n",
       "  <tbody>\n",
       "    <tr>\n",
       "      <th>autoDOLA -&gt; DOLA-sUSDe   ('DOLA',) -&gt; ('sUSDe', 'DOLA')</th>\n",
       "      <td>2.0</td>\n",
       "      <td>11.72</td>\n",
       "      <td>8.13</td>\n",
       "      <td>5.97</td>\n",
       "      <td>8.84</td>\n",
       "      <td>11.72</td>\n",
       "      <td>14.59</td>\n",
       "      <td>17.46</td>\n",
       "    </tr>\n",
       "    <tr>\n",
       "      <th>autoDOLA -&gt; reusdsdola   ('DOLA',) -&gt; ('reUSD', 'sDOLA')</th>\n",
       "      <td>6.0</td>\n",
       "      <td>7.31</td>\n",
       "      <td>4.63</td>\n",
       "      <td>3.93</td>\n",
       "      <td>4.30</td>\n",
       "      <td>4.66</td>\n",
       "      <td>10.15</td>\n",
       "      <td>14.44</td>\n",
       "    </tr>\n",
       "    <tr>\n",
       "      <th>autoDOLA -&gt; savedola   ('DOLA',) -&gt; ('sDOLA', 'scrvUSD')</th>\n",
       "      <td>1.0</td>\n",
       "      <td>6.32</td>\n",
       "      <td>NaN</td>\n",
       "      <td>6.32</td>\n",
       "      <td>6.32</td>\n",
       "      <td>6.32</td>\n",
       "      <td>6.32</td>\n",
       "      <td>6.32</td>\n",
       "    </tr>\n",
       "  </tbody>\n",
       "</table>\n",
       "</div>"
      ],
      "text/plain": [
       "                                                    count   mean   std   min  \\\n",
       "long_move_name                                                                 \n",
       "autoDOLA -> DOLA-sUSDe   ('DOLA',) -> ('sUSDe',...    2.0  11.72  8.13  5.97   \n",
       "autoDOLA -> reusdsdola   ('DOLA',) -> ('reUSD',...    6.0   7.31  4.63  3.93   \n",
       "autoDOLA -> savedola   ('DOLA',) -> ('sDOLA', '...    1.0   6.32   NaN  6.32   \n",
       "\n",
       "                                                     25%    50%    75%    max  \n",
       "long_move_name                                                                 \n",
       "autoDOLA -> DOLA-sUSDe   ('DOLA',) -> ('sUSDe',...  8.84  11.72  14.59  17.46  \n",
       "autoDOLA -> reusdsdola   ('DOLA',) -> ('reUSD',...  4.30   4.66  10.15  14.44  \n",
       "autoDOLA -> savedola   ('DOLA',) -> ('sDOLA', '...  6.32   6.32   6.32   6.32  "
      ]
     },
     "execution_count": 31,
     "metadata": {},
     "output_type": "execute_result"
    }
   ],
   "source": [
    "expensive_rebalances = df[\n",
    "    df[\"adjusted_spot_swap_cost_in_bps_of_value_out\"]\n",
    "    > df[\"adjusted_spot_swap_cost_in_bps_of_value_out\"].describe()[\"75%\"]\n",
    "]\n",
    "expensive_rebalances.groupby(\"long_move_name\")[\"adjusted_spot_swap_cost_in_bps_of_value_out\"].describe().round(2).T.T\n",
    "# 3bps is the 75th percentile of swap cost on baseUSD"
   ]
  },
  {
   "cell_type": "code",
   "execution_count": 32,
   "metadata": {},
   "outputs": [
    {
     "data": {
      "application/vnd.microsoft.datawrangler.viewer.v0+json": {
       "columns": [
        {
         "name": "long_move_name",
         "rawType": "object",
         "type": "string"
        },
        {
         "name": "spot_value_out_thousands",
         "rawType": "float64",
         "type": "float"
        },
        {
         "name": "adjusted_spot_swap_cost",
         "rawType": "float64",
         "type": "float"
        },
        {
         "name": "average_bps",
         "rawType": "float64",
         "type": "float"
        }
       ],
       "ref": "8b780aa0-125d-42ee-bde4-3a79a2b13ed7",
       "rows": [
        [
         "autoDOLA -> DOLA-sUSDe   ('DOLA',) -> ('sUSDe', 'DOLA')",
         "135.0",
         "167.0",
         "12.0"
        ],
        [
         "autoDOLA -> reusdsdola   ('DOLA',) -> ('reUSD', 'sDOLA')",
         "1009.0",
         "324.0",
         "3.0"
        ],
        [
         "autoDOLA -> sDOLA   ('DOLA',) -> ('sDOLA',)",
         "1624.0",
         "244.0",
         "1.0"
        ],
        [
         "autoDOLA -> savedola   ('DOLA',) -> ('sDOLA', 'scrvUSD')",
         "499.0",
         "57.0",
         "1.0"
        ]
       ],
       "shape": {
        "columns": 3,
        "rows": 4
       }
      },
      "text/html": [
       "<div>\n",
       "<style scoped>\n",
       "    .dataframe tbody tr th:only-of-type {\n",
       "        vertical-align: middle;\n",
       "    }\n",
       "\n",
       "    .dataframe tbody tr th {\n",
       "        vertical-align: top;\n",
       "    }\n",
       "\n",
       "    .dataframe thead th {\n",
       "        text-align: right;\n",
       "    }\n",
       "</style>\n",
       "<table border=\"1\" class=\"dataframe\">\n",
       "  <thead>\n",
       "    <tr style=\"text-align: right;\">\n",
       "      <th></th>\n",
       "      <th>spot_value_out_thousands</th>\n",
       "      <th>adjusted_spot_swap_cost</th>\n",
       "      <th>average_bps</th>\n",
       "    </tr>\n",
       "    <tr>\n",
       "      <th>long_move_name</th>\n",
       "      <th></th>\n",
       "      <th></th>\n",
       "      <th></th>\n",
       "    </tr>\n",
       "  </thead>\n",
       "  <tbody>\n",
       "    <tr>\n",
       "      <th>autoDOLA -&gt; DOLA-sUSDe   ('DOLA',) -&gt; ('sUSDe', 'DOLA')</th>\n",
       "      <td>135.0</td>\n",
       "      <td>167.0</td>\n",
       "      <td>12.0</td>\n",
       "    </tr>\n",
       "    <tr>\n",
       "      <th>autoDOLA -&gt; reusdsdola   ('DOLA',) -&gt; ('reUSD', 'sDOLA')</th>\n",
       "      <td>1009.0</td>\n",
       "      <td>324.0</td>\n",
       "      <td>3.0</td>\n",
       "    </tr>\n",
       "    <tr>\n",
       "      <th>autoDOLA -&gt; sDOLA   ('DOLA',) -&gt; ('sDOLA',)</th>\n",
       "      <td>1624.0</td>\n",
       "      <td>244.0</td>\n",
       "      <td>1.0</td>\n",
       "    </tr>\n",
       "    <tr>\n",
       "      <th>autoDOLA -&gt; savedola   ('DOLA',) -&gt; ('sDOLA', 'scrvUSD')</th>\n",
       "      <td>499.0</td>\n",
       "      <td>57.0</td>\n",
       "      <td>1.0</td>\n",
       "    </tr>\n",
       "  </tbody>\n",
       "</table>\n",
       "</div>"
      ],
      "text/plain": [
       "                                                    spot_value_out_thousands  \\\n",
       "long_move_name                                                                 \n",
       "autoDOLA -> DOLA-sUSDe   ('DOLA',) -> ('sUSDe',...                     135.0   \n",
       "autoDOLA -> reusdsdola   ('DOLA',) -> ('reUSD',...                    1009.0   \n",
       "autoDOLA -> sDOLA   ('DOLA',) -> ('sDOLA',)                           1624.0   \n",
       "autoDOLA -> savedola   ('DOLA',) -> ('sDOLA', '...                     499.0   \n",
       "\n",
       "                                                    adjusted_spot_swap_cost  \\\n",
       "long_move_name                                                                \n",
       "autoDOLA -> DOLA-sUSDe   ('DOLA',) -> ('sUSDe',...                    167.0   \n",
       "autoDOLA -> reusdsdola   ('DOLA',) -> ('reUSD',...                    324.0   \n",
       "autoDOLA -> sDOLA   ('DOLA',) -> ('sDOLA',)                           244.0   \n",
       "autoDOLA -> savedola   ('DOLA',) -> ('sDOLA', '...                     57.0   \n",
       "\n",
       "                                                    average_bps  \n",
       "long_move_name                                                   \n",
       "autoDOLA -> DOLA-sUSDe   ('DOLA',) -> ('sUSDe',...         12.0  \n",
       "autoDOLA -> reusdsdola   ('DOLA',) -> ('reUSD',...          3.0  \n",
       "autoDOLA -> sDOLA   ('DOLA',) -> ('sDOLA',)                 1.0  \n",
       "autoDOLA -> savedola   ('DOLA',) -> ('sDOLA', '...          1.0  "
      ]
     },
     "execution_count": 32,
     "metadata": {},
     "output_type": "execute_result"
    }
   ],
   "source": [
    "all_time_performance = df.groupby(\"long_move_name\")[[\"adjusted_spot_swap_cost\", \"spot_value_out\"]].sum()\n",
    "\n",
    "all_time_performance[\"average_bps\"] = (\n",
    "    10_000 * all_time_performance[\"adjusted_spot_swap_cost\"] / all_time_performance[\"spot_value_out\"]\n",
    ")\n",
    "\n",
    "all_time_performance[\"spot_value_out_thousands\"] = all_time_performance[\"spot_value_out\"] / 1_000\n",
    "all_time_performance[[\"spot_value_out_thousands\", \"adjusted_spot_swap_cost\", \"average_bps\"]].round()"
   ]
  },
  {
   "cell_type": "code",
   "execution_count": null,
   "metadata": {},
   "outputs": [],
   "source": []
  },
  {
   "cell_type": "code",
   "execution_count": 33,
   "metadata": {},
   "outputs": [
    {
     "data": {
      "application/vnd.microsoft.datawrangler.viewer.v0+json": {
       "columns": [
        {
         "name": "long_move_name",
         "rawType": "object",
         "type": "string"
        },
        {
         "name": "adjusted_spot_swap_cost",
         "rawType": "float64",
         "type": "float"
        }
       ],
       "ref": "3bf8f4eb-fbad-46a6-a6f0-5305c4eb721e",
       "rows": [
        [
         "autoDOLA -> reusdsdola   ('DOLA',) -> ('reUSD', 'sDOLA')",
         "323.6038100212213"
        ],
        [
         "autoDOLA -> sDOLA   ('DOLA',) -> ('sDOLA',)",
         "243.56242037273108"
        ],
        [
         "autoDOLA -> DOLA-sUSDe   ('DOLA',) -> ('sUSDe', 'DOLA')",
         "166.79923713169526"
        ],
        [
         "autoDOLA -> savedola   ('DOLA',) -> ('sDOLA', 'scrvUSD')",
         "56.682969962313386"
        ]
       ],
       "shape": {
        "columns": 1,
        "rows": 4
       }
      },
      "text/plain": [
       "long_move_name\n",
       "autoDOLA -> reusdsdola   ('DOLA',) -> ('reUSD', 'sDOLA')    323.603810\n",
       "autoDOLA -> sDOLA   ('DOLA',) -> ('sDOLA',)                 243.562420\n",
       "autoDOLA -> DOLA-sUSDe   ('DOLA',) -> ('sUSDe', 'DOLA')     166.799237\n",
       "autoDOLA -> savedola   ('DOLA',) -> ('sDOLA', 'scrvUSD')     56.682970\n",
       "Name: adjusted_spot_swap_cost, dtype: float64"
      ]
     },
     "execution_count": 33,
     "metadata": {},
     "output_type": "execute_result"
    }
   ],
   "source": [
    "df.groupby(\"long_move_name\")[\"adjusted_spot_swap_cost\"].sum().sort_values(ascending=False)"
   ]
  },
  {
   "cell_type": "code",
   "execution_count": 34,
   "metadata": {},
   "outputs": [
    {
     "data": {
      "application/vnd.microsoft.datawrangler.viewer.v0+json": {
       "columns": [
        {
         "name": "datetime",
         "rawType": "datetime64[ns, UTC]",
         "type": "unknown"
        },
        {
         "name": "spot_swap_cost",
         "rawType": "float64",
         "type": "float"
        }
       ],
       "ref": "257053f5-8634-409d-8669-aaddff601dea",
       "rows": [
        [
         "2025-06-03 04:34:59+00:00",
         "1344.2369598318473"
        ],
        [
         "2025-06-03 05:52:47+00:00",
         "265.9513285928988"
        ],
        [
         "2025-06-03 14:04:35+00:00",
         "197.79239276688895"
        ],
        [
         "2025-06-04 16:04:23+00:00",
         "-151.58737650699914"
        ],
        [
         "2025-06-05 06:04:23+00:00",
         "112.06474601109221"
        ]
       ],
       "shape": {
        "columns": 1,
        "rows": 5
       }
      },
      "text/plain": [
       "datetime\n",
       "2025-06-03 04:34:59+00:00    1344.236960\n",
       "2025-06-03 05:52:47+00:00     265.951329\n",
       "2025-06-03 14:04:35+00:00     197.792393\n",
       "2025-06-04 16:04:23+00:00    -151.587377\n",
       "2025-06-05 06:04:23+00:00     112.064746\n",
       "Name: spot_swap_cost, dtype: float64"
      ]
     },
     "execution_count": 34,
     "metadata": {},
     "output_type": "execute_result"
    }
   ],
   "source": [
    "df[df[\"move_name\"] == \"autoDOLA -> sDOLA\"][\"spot_swap_cost\"]"
   ]
  },
  {
   "cell_type": "code",
   "execution_count": 35,
   "metadata": {},
   "outputs": [
    {
     "data": {
      "application/vnd.microsoft.datawrangler.viewer.v0+json": {
       "columns": [
        {
         "name": "move_name",
         "rawType": "bool",
         "type": "boolean"
        },
        {
         "name": "count",
         "rawType": "int64",
         "type": "integer"
        }
       ],
       "ref": "6e1412b6-e93f-4575-894c-8ed326fdbbc6",
       "rows": [
        [
         "False",
         "30"
        ],
        [
         "True",
         "5"
        ]
       ],
       "shape": {
        "columns": 1,
        "rows": 2
       }
      },
      "text/plain": [
       "move_name\n",
       "False    30\n",
       "True      5\n",
       "Name: count, dtype: int64"
      ]
     },
     "execution_count": 35,
     "metadata": {},
     "output_type": "execute_result"
    }
   ],
   "source": [
    "(df[\"move_name\"] == \"autoDOLA -> sDOLA\").value_counts()"
   ]
  },
  {
   "cell_type": "code",
   "execution_count": 36,
   "metadata": {},
   "outputs": [
    {
     "data": {
      "application/vnd.microsoft.datawrangler.viewer.v0+json": {
       "columns": [
        {
         "name": "index",
         "rawType": "object",
         "type": "string"
        },
        {
         "name": "autoDOLA -> DOLA-sUSDe   ('DOLA',) -> ('sUSDe', 'DOLA')",
         "rawType": "float64",
         "type": "float"
        },
        {
         "name": "autoDOLA -> reusdsdola   ('DOLA',) -> ('reUSD', 'sDOLA')",
         "rawType": "float64",
         "type": "float"
        },
        {
         "name": "autoDOLA -> sDOLA   ('DOLA',) -> ('sDOLA',)",
         "rawType": "float64",
         "type": "float"
        },
        {
         "name": "autoDOLA -> savedola   ('DOLA',) -> ('sDOLA', 'scrvUSD')",
         "rawType": "float64",
         "type": "float"
        }
       ],
       "ref": "90648700-e53a-4c26-9535-8815c07001e0",
       "rows": [
        [
         "count",
         "2.0",
         "20.0",
         "5.0",
         "8.0"
        ],
        [
         "mean",
         "-19.87",
         "5.11",
         "11.36",
         "2.88"
        ],
        [
         "std",
         "29.96",
         "3.61",
         "10.69",
         "3.07"
        ],
        [
         "min",
         "-41.06",
         "0.93",
         "-2.85",
         "-3.01"
        ],
        [
         "25%",
         "-30.47",
         "3.36",
         "7.77",
         "2.13"
        ],
        [
         "50%",
         "-19.87",
         "4.55",
         "10.48",
         "2.79"
        ],
        [
         "75%",
         "-9.28",
         "5.51",
         "14.94",
         "4.02"
        ],
        [
         "max",
         "1.31",
         "15.94",
         "26.48",
         "7.82"
        ]
       ],
       "shape": {
        "columns": 4,
        "rows": 8
       }
      },
      "text/html": [
       "<div>\n",
       "<style scoped>\n",
       "    .dataframe tbody tr th:only-of-type {\n",
       "        vertical-align: middle;\n",
       "    }\n",
       "\n",
       "    .dataframe tbody tr th {\n",
       "        vertical-align: top;\n",
       "    }\n",
       "\n",
       "    .dataframe thead th {\n",
       "        text-align: right;\n",
       "    }\n",
       "</style>\n",
       "<table border=\"1\" class=\"dataframe\">\n",
       "  <thead>\n",
       "    <tr style=\"text-align: right;\">\n",
       "      <th>long_move_name</th>\n",
       "      <th>autoDOLA -&gt; DOLA-sUSDe   ('DOLA',) -&gt; ('sUSDe', 'DOLA')</th>\n",
       "      <th>autoDOLA -&gt; reusdsdola   ('DOLA',) -&gt; ('reUSD', 'sDOLA')</th>\n",
       "      <th>autoDOLA -&gt; sDOLA   ('DOLA',) -&gt; ('sDOLA',)</th>\n",
       "      <th>autoDOLA -&gt; savedola   ('DOLA',) -&gt; ('sDOLA', 'scrvUSD')</th>\n",
       "    </tr>\n",
       "  </thead>\n",
       "  <tbody>\n",
       "    <tr>\n",
       "      <th>count</th>\n",
       "      <td>2.00</td>\n",
       "      <td>20.00</td>\n",
       "      <td>5.00</td>\n",
       "      <td>8.00</td>\n",
       "    </tr>\n",
       "    <tr>\n",
       "      <th>mean</th>\n",
       "      <td>-19.87</td>\n",
       "      <td>5.11</td>\n",
       "      <td>11.36</td>\n",
       "      <td>2.88</td>\n",
       "    </tr>\n",
       "    <tr>\n",
       "      <th>std</th>\n",
       "      <td>29.96</td>\n",
       "      <td>3.61</td>\n",
       "      <td>10.69</td>\n",
       "      <td>3.07</td>\n",
       "    </tr>\n",
       "    <tr>\n",
       "      <th>min</th>\n",
       "      <td>-41.06</td>\n",
       "      <td>0.93</td>\n",
       "      <td>-2.85</td>\n",
       "      <td>-3.01</td>\n",
       "    </tr>\n",
       "    <tr>\n",
       "      <th>25%</th>\n",
       "      <td>-30.47</td>\n",
       "      <td>3.36</td>\n",
       "      <td>7.77</td>\n",
       "      <td>2.13</td>\n",
       "    </tr>\n",
       "    <tr>\n",
       "      <th>50%</th>\n",
       "      <td>-19.87</td>\n",
       "      <td>4.55</td>\n",
       "      <td>10.48</td>\n",
       "      <td>2.79</td>\n",
       "    </tr>\n",
       "    <tr>\n",
       "      <th>75%</th>\n",
       "      <td>-9.28</td>\n",
       "      <td>5.51</td>\n",
       "      <td>14.94</td>\n",
       "      <td>4.02</td>\n",
       "    </tr>\n",
       "    <tr>\n",
       "      <th>max</th>\n",
       "      <td>1.31</td>\n",
       "      <td>15.94</td>\n",
       "      <td>26.48</td>\n",
       "      <td>7.82</td>\n",
       "    </tr>\n",
       "  </tbody>\n",
       "</table>\n",
       "</div>"
      ],
      "text/plain": [
       "long_move_name  autoDOLA -> DOLA-sUSDe   ('DOLA',) -> ('sUSDe', 'DOLA')  \\\n",
       "count                                                        2.00         \n",
       "mean                                                       -19.87         \n",
       "std                                                         29.96         \n",
       "min                                                        -41.06         \n",
       "25%                                                        -30.47         \n",
       "50%                                                        -19.87         \n",
       "75%                                                         -9.28         \n",
       "max                                                          1.31         \n",
       "\n",
       "long_move_name  autoDOLA -> reusdsdola   ('DOLA',) -> ('reUSD', 'sDOLA')  \\\n",
       "count                                                       20.00          \n",
       "mean                                                         5.11          \n",
       "std                                                          3.61          \n",
       "min                                                          0.93          \n",
       "25%                                                          3.36          \n",
       "50%                                                          4.55          \n",
       "75%                                                          5.51          \n",
       "max                                                         15.94          \n",
       "\n",
       "long_move_name  autoDOLA -> sDOLA   ('DOLA',) -> ('sDOLA',)  \\\n",
       "count                                                  5.00   \n",
       "mean                                                  11.36   \n",
       "std                                                   10.69   \n",
       "min                                                   -2.85   \n",
       "25%                                                    7.77   \n",
       "50%                                                   10.48   \n",
       "75%                                                   14.94   \n",
       "max                                                   26.48   \n",
       "\n",
       "long_move_name  autoDOLA -> savedola   ('DOLA',) -> ('sDOLA', 'scrvUSD')  \n",
       "count                                                        8.00         \n",
       "mean                                                         2.88         \n",
       "std                                                          3.07         \n",
       "min                                                         -3.01         \n",
       "25%                                                          2.13         \n",
       "50%                                                          2.79         \n",
       "75%                                                          4.02         \n",
       "max                                                          7.82         "
      ]
     },
     "execution_count": 36,
     "metadata": {},
     "output_type": "execute_result"
    }
   ],
   "source": [
    "df.groupby(\"long_move_name\")[\"swap_cost_in_bps_of_value_out\"].describe().T.round(2)"
   ]
  },
  {
   "cell_type": "code",
   "execution_count": null,
   "metadata": {},
   "outputs": [],
   "source": []
  },
  {
   "cell_type": "code",
   "execution_count": 37,
   "metadata": {},
   "outputs": [
    {
     "data": {
      "application/vnd.microsoft.datawrangler.viewer.v0+json": {
       "columns": [
        {
         "name": "index",
         "rawType": "object",
         "type": "string"
        },
        {
         "name": "autoDOLA -> DOLA-sUSDe   ('DOLA',) -> ('sUSDe', 'DOLA')",
         "rawType": "float64",
         "type": "float"
        },
        {
         "name": "autoDOLA -> reusdsdola   ('DOLA',) -> ('reUSD', 'sDOLA')",
         "rawType": "float64",
         "type": "float"
        },
        {
         "name": "autoDOLA -> sDOLA   ('DOLA',) -> ('sDOLA',)",
         "rawType": "float64",
         "type": "float"
        },
        {
         "name": "autoDOLA -> savedola   ('DOLA',) -> ('sDOLA', 'scrvUSD')",
         "rawType": "float64",
         "type": "float"
        }
       ],
       "ref": "4c9122e1-e875-4de8-8681-1d178610545e",
       "rows": [
        [
         "count",
         "2.0",
         "20.0",
         "5.0",
         "8.0"
        ],
        [
         "mean",
         "-19.91",
         "6.29",
         "1.5",
         "2.64"
        ],
        [
         "std",
         "28.59",
         "4.73",
         "0.0",
         "2.7"
        ],
        [
         "min",
         "-40.13",
         "-4.99",
         "1.5",
         "-2.75"
        ],
        [
         "25%",
         "-30.02",
         "4.2",
         "1.5",
         "2.08"
        ],
        [
         "50%",
         "-19.91",
         "7.09",
         "1.5",
         "2.6"
        ],
        [
         "75%",
         "-9.8",
         "8.29",
         "1.5",
         "3.68"
        ],
        [
         "max",
         "0.31",
         "16.67",
         "1.5",
         "6.72"
        ]
       ],
       "shape": {
        "columns": 4,
        "rows": 8
       }
      },
      "text/html": [
       "<div>\n",
       "<style scoped>\n",
       "    .dataframe tbody tr th:only-of-type {\n",
       "        vertical-align: middle;\n",
       "    }\n",
       "\n",
       "    .dataframe tbody tr th {\n",
       "        vertical-align: top;\n",
       "    }\n",
       "\n",
       "    .dataframe thead th {\n",
       "        text-align: right;\n",
       "    }\n",
       "</style>\n",
       "<table border=\"1\" class=\"dataframe\">\n",
       "  <thead>\n",
       "    <tr style=\"text-align: right;\">\n",
       "      <th>long_move_name</th>\n",
       "      <th>autoDOLA -&gt; DOLA-sUSDe   ('DOLA',) -&gt; ('sUSDe', 'DOLA')</th>\n",
       "      <th>autoDOLA -&gt; reusdsdola   ('DOLA',) -&gt; ('reUSD', 'sDOLA')</th>\n",
       "      <th>autoDOLA -&gt; sDOLA   ('DOLA',) -&gt; ('sDOLA',)</th>\n",
       "      <th>autoDOLA -&gt; savedola   ('DOLA',) -&gt; ('sDOLA', 'scrvUSD')</th>\n",
       "    </tr>\n",
       "  </thead>\n",
       "  <tbody>\n",
       "    <tr>\n",
       "      <th>count</th>\n",
       "      <td>2.00</td>\n",
       "      <td>20.00</td>\n",
       "      <td>5.0</td>\n",
       "      <td>8.00</td>\n",
       "    </tr>\n",
       "    <tr>\n",
       "      <th>mean</th>\n",
       "      <td>-19.91</td>\n",
       "      <td>6.29</td>\n",
       "      <td>1.5</td>\n",
       "      <td>2.64</td>\n",
       "    </tr>\n",
       "    <tr>\n",
       "      <th>std</th>\n",
       "      <td>28.59</td>\n",
       "      <td>4.73</td>\n",
       "      <td>0.0</td>\n",
       "      <td>2.70</td>\n",
       "    </tr>\n",
       "    <tr>\n",
       "      <th>min</th>\n",
       "      <td>-40.13</td>\n",
       "      <td>-4.99</td>\n",
       "      <td>1.5</td>\n",
       "      <td>-2.75</td>\n",
       "    </tr>\n",
       "    <tr>\n",
       "      <th>25%</th>\n",
       "      <td>-30.02</td>\n",
       "      <td>4.20</td>\n",
       "      <td>1.5</td>\n",
       "      <td>2.08</td>\n",
       "    </tr>\n",
       "    <tr>\n",
       "      <th>50%</th>\n",
       "      <td>-19.91</td>\n",
       "      <td>7.09</td>\n",
       "      <td>1.5</td>\n",
       "      <td>2.60</td>\n",
       "    </tr>\n",
       "    <tr>\n",
       "      <th>75%</th>\n",
       "      <td>-9.80</td>\n",
       "      <td>8.29</td>\n",
       "      <td>1.5</td>\n",
       "      <td>3.68</td>\n",
       "    </tr>\n",
       "    <tr>\n",
       "      <th>max</th>\n",
       "      <td>0.31</td>\n",
       "      <td>16.67</td>\n",
       "      <td>1.5</td>\n",
       "      <td>6.72</td>\n",
       "    </tr>\n",
       "  </tbody>\n",
       "</table>\n",
       "</div>"
      ],
      "text/plain": [
       "long_move_name  autoDOLA -> DOLA-sUSDe   ('DOLA',) -> ('sUSDe', 'DOLA')  \\\n",
       "count                                                        2.00         \n",
       "mean                                                       -19.91         \n",
       "std                                                         28.59         \n",
       "min                                                        -40.13         \n",
       "25%                                                        -30.02         \n",
       "50%                                                        -19.91         \n",
       "75%                                                         -9.80         \n",
       "max                                                          0.31         \n",
       "\n",
       "long_move_name  autoDOLA -> reusdsdola   ('DOLA',) -> ('reUSD', 'sDOLA')  \\\n",
       "count                                                       20.00          \n",
       "mean                                                         6.29          \n",
       "std                                                          4.73          \n",
       "min                                                         -4.99          \n",
       "25%                                                          4.20          \n",
       "50%                                                          7.09          \n",
       "75%                                                          8.29          \n",
       "max                                                         16.67          \n",
       "\n",
       "long_move_name  autoDOLA -> sDOLA   ('DOLA',) -> ('sDOLA',)  \\\n",
       "count                                                   5.0   \n",
       "mean                                                    1.5   \n",
       "std                                                     0.0   \n",
       "min                                                     1.5   \n",
       "25%                                                     1.5   \n",
       "50%                                                     1.5   \n",
       "75%                                                     1.5   \n",
       "max                                                     1.5   \n",
       "\n",
       "long_move_name  autoDOLA -> savedola   ('DOLA',) -> ('sDOLA', 'scrvUSD')  \n",
       "count                                                        8.00         \n",
       "mean                                                         2.64         \n",
       "std                                                          2.70         \n",
       "min                                                         -2.75         \n",
       "25%                                                          2.08         \n",
       "50%                                                          2.60         \n",
       "75%                                                          3.68         \n",
       "max                                                          6.72         "
      ]
     },
     "execution_count": 37,
     "metadata": {},
     "output_type": "execute_result"
    }
   ],
   "source": [
    "df.groupby(\"long_move_name\")[\"safe_slippage_bps\"].describe().T.round(2)"
   ]
  },
  {
   "cell_type": "code",
   "execution_count": 38,
   "metadata": {},
   "outputs": [
    {
     "ename": "AttributeError",
     "evalue": "'DataFrame' object has no attribute 'co'",
     "output_type": "error",
     "traceback": [
      "\u001b[0;31m---------------------------------------------------------------------------\u001b[0m",
      "\u001b[0;31mAttributeError\u001b[0m                            Traceback (most recent call last)",
      "\u001b[0;32m/var/folders/7y/zqhjt5cx12n1p79c5pfxszvm0000gn/T/ipykernel_57054/3236435342.py\u001b[0m in \u001b[0;36m?\u001b[0;34m()\u001b[0m\n\u001b[0;32m----> 1\u001b[0;31m \u001b[0mdf\u001b[0m\u001b[0;34m.\u001b[0m\u001b[0mco\u001b[0m\u001b[0;34m\u001b[0m\u001b[0;34m\u001b[0m\u001b[0m\n\u001b[0m",
      "\u001b[0;32m~/Library/Caches/pypoetry/virtualenvs/mainnet-launch-FtycU18g-py3.10/lib/python3.10/site-packages/pandas/core/generic.py\u001b[0m in \u001b[0;36m?\u001b[0;34m(self, name)\u001b[0m\n\u001b[1;32m   6295\u001b[0m             \u001b[0;32mand\u001b[0m \u001b[0mname\u001b[0m \u001b[0;32mnot\u001b[0m \u001b[0;32min\u001b[0m \u001b[0mself\u001b[0m\u001b[0;34m.\u001b[0m\u001b[0m_accessors\u001b[0m\u001b[0;34m\u001b[0m\u001b[0;34m\u001b[0m\u001b[0m\n\u001b[1;32m   6296\u001b[0m             \u001b[0;32mand\u001b[0m \u001b[0mself\u001b[0m\u001b[0;34m.\u001b[0m\u001b[0m_info_axis\u001b[0m\u001b[0;34m.\u001b[0m\u001b[0m_can_hold_identifiers_and_holds_name\u001b[0m\u001b[0;34m(\u001b[0m\u001b[0mname\u001b[0m\u001b[0;34m)\u001b[0m\u001b[0;34m\u001b[0m\u001b[0;34m\u001b[0m\u001b[0m\n\u001b[1;32m   6297\u001b[0m         ):\n\u001b[1;32m   6298\u001b[0m             \u001b[0;32mreturn\u001b[0m \u001b[0mself\u001b[0m\u001b[0;34m[\u001b[0m\u001b[0mname\u001b[0m\u001b[0;34m]\u001b[0m\u001b[0;34m\u001b[0m\u001b[0;34m\u001b[0m\u001b[0m\n\u001b[0;32m-> 6299\u001b[0;31m         \u001b[0;32mreturn\u001b[0m \u001b[0mobject\u001b[0m\u001b[0;34m.\u001b[0m\u001b[0m__getattribute__\u001b[0m\u001b[0;34m(\u001b[0m\u001b[0mself\u001b[0m\u001b[0;34m,\u001b[0m \u001b[0mname\u001b[0m\u001b[0;34m)\u001b[0m\u001b[0;34m\u001b[0m\u001b[0;34m\u001b[0m\u001b[0m\n\u001b[0m",
      "\u001b[0;31mAttributeError\u001b[0m: 'DataFrame' object has no attribute 'co'"
     ]
    }
   ],
   "source": [
    "df.co"
   ]
  },
  {
   "cell_type": "code",
   "execution_count": null,
   "metadata": {},
   "outputs": [],
   "source": [
    "df[df[\"tx_hash\"] == \"0x272e39d795a4a38e6cc22ec9e54deb92fa068c83304d5a6e7054c9d68702d21d\"].T\n",
    "# expected to have 0 slippage"
   ]
  },
  {
   "cell_type": "code",
   "execution_count": null,
   "metadata": {},
   "outputs": [],
   "source": [
    "from multicall import Call\n",
    "from mainnet_launch.data_fetching.get_state_by_block import *"
   ]
  },
  {
   "cell_type": "code",
   "execution_count": null,
   "metadata": {},
   "outputs": [],
   "source": [
    "AUTO_USD_ROOT_PRICE_ORACLE = \"0xdB8747a396D75D576Dc7a10bb6c8F02F4a3C20f1\"\n",
    "DOLA = \"0x865377367054516e17014CcdED1e7d814EDC9ce4\"\n",
    "sDOLA = \"0xb45ad160634c528Cc3D2926d9807104FA3157305\"\n",
    "\n",
    "sDOLA_exchange_rate = Call(\n",
    "    sDOLA,\n",
    "    [\"convertToAssets(uint256)(uint256)\", int(1e18)],\n",
    "    [(\"sDOLA_exchange_rate\", safe_normalize_with_bool_success)],\n",
    ")\n",
    "\n",
    "# drop the parentheses on DOLA – it’s just a string here, not a function\n",
    "sDOLA_spot_price_call = Call(\n",
    "    AUTO_USD_ROOT_PRICE_ORACLE,\n",
    "    [\"getSpotPriceInQuote(address,address,address)(uint256)\", sDOLA, sDOLA, DOLA],\n",
    "    [(\"sDOLA_spot_price\", safe_normalize_with_bool_success)],\n",
    ")\n",
    "\n",
    "autoDOLA_solver = \"0x2795B6a09df08891EF21f7153f4799cFBe3Ae6b6\"\n",
    "\n",
    "dola_autopool_bal_call = Call(\n",
    "    DOLA,\n",
    "    [\"balanceOf(address)(uint256)\", AUTO_DOLA.autopool_eth_addr],\n",
    "    [(\"autopool_bal\", safe_normalize_with_bool_success)],\n",
    ")\n",
    "\n",
    "dola_solver_bal_call = Call(\n",
    "    DOLA,\n",
    "    [\"balanceOf(address)(uint256)\", autoDOLA_solver],\n",
    "    [(\"solver_bal\", safe_normalize_with_bool_success)],\n",
    ")\n",
    "\n",
    "\n",
    "before = get_state_by_one_block(\n",
    "    [sDOLA_exchange_rate, sDOLA_spot_price_call, dola_autopool_bal_call, dola_solver_bal_call],\n",
    "    22621780 - 1,  # block_number - 1\n",
    "    ETH_CHAIN,\n",
    ")\n",
    "\n",
    "after = get_state_by_one_block(\n",
    "    [sDOLA_exchange_rate, sDOLA_spot_price_call, dola_autopool_bal_call, dola_solver_bal_call],\n",
    "    22621780,  # block_number - 1\n",
    "    ETH_CHAIN,\n",
    ")\n",
    "{\"before\": before, \"after\": after}"
   ]
  },
  {
   "cell_type": "code",
   "execution_count": null,
   "metadata": {},
   "outputs": [],
   "source": [
    "blocks = build_blocks_to_use(ETH_CHAIN)\n",
    "\n",
    "sDOLA_price_df = get_raw_state_by_blocks(\n",
    "    [sDOLA_exchange_rate, sDOLA_spot_price_call], blocks, ETH_CHAIN, include_block_number=True\n",
    ")\n",
    "\n",
    "px.line(sDOLA_price_df)"
   ]
  },
  {
   "cell_type": "code",
   "execution_count": null,
   "metadata": {},
   "outputs": [],
   "source": [
    "blocks_to_check = [b for b in range(22584692, 22640079, 500)]\n",
    "sDOLA_price_df = get_raw_state_by_blocks([sDOLA_exchange_rate, sDOLA_spot_price_call], blocks_to_check, ETH_CHAIN)\n",
    "\n",
    "px.line(sDOLA_price_df)"
   ]
  },
  {
   "cell_type": "code",
   "execution_count": null,
   "metadata": {},
   "outputs": [],
   "source": [
    "px.line(\n",
    "    10_000\n",
    "    * (sDOLA_price_df[\"sDOLA_spot_price\"] - sDOLA_price_df[\"sDOLA_exchange_rate\"])\n",
    "    / sDOLA_price_df[\"sDOLA_exchange_rate\"],\n",
    "    title=\"sDOLA exchange rate vs spot price bps difference\",\n",
    ")"
   ]
  },
  {
   "cell_type": "code",
   "execution_count": null,
   "metadata": {},
   "outputs": [],
   "source": [
    "sDOLA_price_df[sDOLA_price_df[\"sDOLA_spot_price\"] > 0]"
   ]
  },
  {
   "cell_type": "code",
   "execution_count": null,
   "metadata": {},
   "outputs": [],
   "source": [
    "auto_usd_root_price_oracle = \"0xdB8747a396D75D576Dc7a10bb6c8F02F4a3C20f1\"\n",
    "dola = \"0x865377367054516e17014CcdED1e7d814EDC9ce4\"\n",
    "sdola = \"0xb45ad160634c528Cc3D2926d9807104FA3157305\"\n",
    "\n",
    "sdola_exchange_rate = Call(\n",
    "    sdola,\n",
    "    [\"convertToAssets(uint256)(uint256)\", int(1e18)],\n",
    "    [(\"sdola_exchange_rate\", safe_normalize_with_bool_success)],\n",
    ")\n",
    "\n",
    "sdola_spot_price_call = Call(\n",
    "    auto_usd_root_price_oracle,\n",
    "    [\"getSpotPriceInQuote(address,address,address)(uint256)\", sdola, sdola, dola],\n",
    "    [(\"sdola_spot_price\", safe_normalize_with_bool_success)],\n",
    ")\n",
    "\n",
    "autoDOLA_solver = \"0x2795B6a09df08891EF21f7153f4799cFBe3Ae6b6\"\n",
    "\n",
    "dola_autopool_bal_call = Call(\n",
    "    dola,\n",
    "    [\"balanceOf(address)(uint256)\", AUTO_DOLA.autopool_eth_addr],\n",
    "    [(\"dola_autopool_bal\", safe_normalize_with_bool_success)],\n",
    ")\n",
    "\n",
    "dola_solver_bal_call = Call(\n",
    "    dola,\n",
    "    [\"balanceOf(address)(uint256)\", autoDOLA_solver],\n",
    "    [(\"dola_solver_bal\", safe_normalize_with_bool_success)],\n",
    ")\n",
    "\n",
    "sdola_autopool_bal_call = Call(\n",
    "    sdola,\n",
    "    [\"balanceOf(address)(uint256)\", AUTO_DOLA.autopool_eth_addr],\n",
    "    [(\"sdola_autopool_bal\", safe_normalize_with_bool_success)],\n",
    ")\n",
    "\n",
    "sdola_solver_bal_call = Call(\n",
    "    sdola,\n",
    "    [\"balanceOf(address)(uint256)\", autoDOLA_solver],\n",
    "    [(\"sdola_solver_bal\", safe_normalize_with_bool_success)],\n",
    ")\n",
    "\n",
    "block_number = 22621780\n",
    "\n",
    "before = get_state_by_one_block(\n",
    "    [\n",
    "        sdola_exchange_rate,\n",
    "        sdola_spot_price_call,\n",
    "        dola_autopool_bal_call,\n",
    "        dola_solver_bal_call,\n",
    "        sdola_autopool_bal_call,\n",
    "        sdola_solver_bal_call,\n",
    "    ],\n",
    "    block_number - 1,\n",
    "    ETH_CHAIN,\n",
    ")\n",
    "\n",
    "after = get_state_by_one_block(\n",
    "    [\n",
    "        sdola_exchange_rate,\n",
    "        sdola_spot_price_call,\n",
    "        dola_autopool_bal_call,\n",
    "        dola_solver_bal_call,\n",
    "        sdola_autopool_bal_call,\n",
    "        sdola_solver_bal_call,\n",
    "    ],\n",
    "    block_number,\n",
    "    ETH_CHAIN,\n",
    ")\n",
    "\n",
    "{\"before\": before, \"after\": after}"
   ]
  },
  {
   "cell_type": "code",
   "execution_count": null,
   "metadata": {},
   "outputs": [],
   "source": [
    "\n",
    "        for (pool_address, token_address) in zip(pool_token_addresses[\"pool\"], pool_token_addresses[\"token_address\"])"
   ]
  },
  {
   "cell_type": "code",
   "execution_count": null,
   "metadata": {},
   "outputs": [],
   "source": [
    "df[[\"spot_value_in_solver_change\", \"spot_swap_cost\"]].describe()"
   ]
  },
  {
   "cell_type": "code",
   "execution_count": null,
   "metadata": {},
   "outputs": [],
   "source": [
    "df[\"spot_swap_cost_less_solver\"] = df[\"spot_swap_cost\"] - df[\"spot_value_in_solver_change\"]\n",
    "\n",
    "px.scatter(df, x=\"spot_swap_cost\", y=\"spot_swap_cost_less_solver\")"
   ]
  },
  {
   "cell_type": "code",
   "execution_count": null,
   "metadata": {},
   "outputs": [],
   "source": [
    "px.histogram(df[\"spot_swap_cost_less_solver\"])"
   ]
  },
  {
   "cell_type": "code",
   "execution_count": null,
   "metadata": {},
   "outputs": [],
   "source": []
  }
 ],
 "metadata": {
  "kernelspec": {
   "display_name": "mainnet-launch-FtycU18g-py3.10",
   "language": "python",
   "name": "python3"
  },
  "language_info": {
   "codemirror_mode": {
    "name": "ipython",
    "version": 3
   },
   "file_extension": ".py",
   "mimetype": "text/x-python",
   "name": "python",
   "nbconvert_exporter": "python",
   "pygments_lexer": "ipython3",
   "version": "3.10.14"
  }
 },
 "nbformat": 4,
 "nbformat_minor": 2
}
