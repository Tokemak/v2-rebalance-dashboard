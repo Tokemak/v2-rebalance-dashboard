{
 "cells": [
  {
   "cell_type": "code",
   "execution_count": 2,
   "metadata": {},
   "outputs": [
    {
     "name": "stderr",
     "output_type": "stream",
     "text": [
      "2025-06-04 17:10:41.843 WARNING streamlit.runtime.caching.cache_data_api: No runtime found, using MemoryCacheStorageManager\n",
      "2025-06-04 17:10:42.117 WARNING streamlit.runtime.scriptrunner_utils.script_run_context: Thread 'MainThread': missing ScriptRunContext! This warning can be ignored when running in bare mode.\n",
      "2025-06-04 17:10:42.173 \n",
      "  \u001b[33m\u001b[1mWarning:\u001b[0m to view this Streamlit app on a browser, run it with the following\n",
      "  command:\n",
      "\n",
      "    streamlit run /Users/pb/Library/Caches/pypoetry/virtualenvs/mainnet-launch-FtycU18g-py3.10/lib/python3.10/site-packages/ipykernel_launcher.py [ARGUMENTS]\n",
      "2025-06-04 17:10:42.173 Thread 'MainThread': missing ScriptRunContext! This warning can be ignored when running in bare mode.\n",
      "2025-06-04 17:10:42.174 Thread 'MainThread': missing ScriptRunContext! This warning can be ignored when running in bare mode.\n",
      "2025-06-04 17:10:42.174 No runtime found, using MemoryCacheStorageManager\n",
      "2025-06-04 17:10:42.679 Thread 'Thread-6': missing ScriptRunContext! This warning can be ignored when running in bare mode.\n",
      "2025-06-04 17:10:42.680 Thread 'Thread-6': missing ScriptRunContext! This warning can be ignored when running in bare mode.\n"
     ]
    },
    {
     "name": "stdout",
     "output_type": "stream",
     "text": [
      "2025-06-04 17:10:42,887 INFO sqlalchemy.engine.Engine select pg_catalog.version()\n",
      "2025-06-04 17:10:42,887 INFO sqlalchemy.engine.Engine [raw sql] {}\n",
      "2025-06-04 17:10:43,053 INFO sqlalchemy.engine.Engine select current_schema()\n",
      "2025-06-04 17:10:43,053 INFO sqlalchemy.engine.Engine [raw sql] {}\n",
      "2025-06-04 17:10:43,269 INFO sqlalchemy.engine.Engine show standard_conforming_strings\n",
      "2025-06-04 17:10:43,269 INFO sqlalchemy.engine.Engine [raw sql] {}\n",
      "2025-06-04 17:10:43,435 INFO sqlalchemy.engine.Engine BEGIN (implicit)\n",
      "2025-06-04 17:10:43,436 INFO sqlalchemy.engine.Engine SELECT pg_catalog.pg_class.relname \n",
      "FROM pg_catalog.pg_class JOIN pg_catalog.pg_namespace ON pg_catalog.pg_namespace.oid = pg_catalog.pg_class.relnamespace \n",
      "WHERE pg_catalog.pg_class.relname = %(table_name)s AND pg_catalog.pg_class.relkind = ANY (ARRAY[%(param_1)s, %(param_2)s, %(param_3)s, %(param_4)s, %(param_5)s]) AND pg_catalog.pg_table_is_visible(pg_catalog.pg_class.oid) AND pg_catalog.pg_namespace.nspname != %(nspname_1)s\n",
      "2025-06-04 17:10:43,437 INFO sqlalchemy.engine.Engine [generated in 0.00127s] {'table_name': <sqlalchemy.sql.elements.TextClause object at 0x12eccb670>, 'param_1': 'r', 'param_2': 'p', 'param_3': 'f', 'param_4': 'v', 'param_5': 'm', 'nspname_1': 'pg_catalog'}\n",
      "2025-06-04 17:10:43,438 INFO sqlalchemy.engine.Engine SELECT\n",
      "    rebalance_events.*,\n",
      "    transactions.block,\n",
      "    autopool_states.total_nav,\n",
      "    rebalance_plans.move_name,\n",
      "    blocks.datetime\n",
      "FROM rebalance_events\n",
      "JOIN transactions\n",
      "  ON transactions.tx_hash = rebalance_events.tx_hash\n",
      "JOIN autopool_states\n",
      "  ON autopool_states.block = transactions.block\n",
      "JOIN rebalance_plans\n",
      "  ON rebalance_plans.file_name = rebalance_events.rebalance_file_path\n",
      "JOIN blocks\n",
      "  ON transactions.block = blocks.block AND transactions.chain_id = blocks.chain_id\n",
      "WHERE\n",
      "    (rebalance_events.autopool_vault_address = '0x9c6864105AEC23388C89600046213a44C384c831') AND\n",
      "     (autopool_states.autopool_vault_address = '0x9c6864105AEC23388C89600046213a44C384c831') AND\n",
      "     (rebalance_plans.autopool_vault_address = '0x9c6864105AEC23388C89600046213a44C384c831')\n",
      "ORDER BY\n",
      "    blocks.datetime ASC\n",
      "\n",
      "2025-06-04 17:10:43,438 INFO sqlalchemy.engine.Engine [generated in 0.00052s] {}\n",
      "2025-06-04 17:10:43,750 INFO sqlalchemy.engine.Engine ROLLBACK\n"
     ]
    },
    {
     "name": "stderr",
     "output_type": "stream",
     "text": [
      "2025-06-04 17:10:43.836 Thread 'MainThread': missing ScriptRunContext! This warning can be ignored when running in bare mode.\n",
      "2025-06-04 17:10:43.837 Thread 'MainThread': missing ScriptRunContext! This warning can be ignored when running in bare mode.\n",
      "2025-06-04 17:10:43.838 Thread 'MainThread': missing ScriptRunContext! This warning can be ignored when running in bare mode.\n",
      "2025-06-04 17:10:43.839 Thread 'MainThread': missing ScriptRunContext! This warning can be ignored when running in bare mode.\n",
      "2025-06-04 17:10:43.839 Thread 'MainThread': missing ScriptRunContext! This warning can be ignored when running in bare mode.\n"
     ]
    },
    {
     "name": "stdout",
     "output_type": "stream",
     "text": [
      "2025-06-04 17:10:43,928 INFO sqlalchemy.engine.Engine BEGIN (implicit)\n",
      "2025-06-04 17:10:43,929 INFO sqlalchemy.engine.Engine SELECT pg_catalog.pg_class.relname \n",
      "FROM pg_catalog.pg_class JOIN pg_catalog.pg_namespace ON pg_catalog.pg_namespace.oid = pg_catalog.pg_class.relnamespace \n",
      "WHERE pg_catalog.pg_class.relname = %(table_name)s AND pg_catalog.pg_class.relkind = ANY (ARRAY[%(param_1)s, %(param_2)s, %(param_3)s, %(param_4)s, %(param_5)s]) AND pg_catalog.pg_table_is_visible(pg_catalog.pg_class.oid) AND pg_catalog.pg_namespace.nspname != %(nspname_1)s\n",
      "2025-06-04 17:10:43,929 INFO sqlalchemy.engine.Engine [cached since 0.4941s ago] {'table_name': <sqlalchemy.sql.elements.TextClause object at 0x12ee7bf40>, 'param_1': 'r', 'param_2': 'p', 'param_3': 'f', 'param_4': 'v', 'param_5': 'm', 'nspname_1': 'pg_catalog'}\n",
      "2025-06-04 17:10:43,931 INFO sqlalchemy.engine.Engine SELECT\n",
      "    destination_tokens.*,\n",
      "    tokens.symbol,\n",
      "    tokens.decimals\n",
      "FROM destination_tokens\n",
      "JOIN tokens\n",
      "  ON destination_tokens.token_address = tokens.token_address\n",
      "\n",
      "2025-06-04 17:10:43,931 INFO sqlalchemy.engine.Engine [generated in 0.00054s] {}\n",
      "2025-06-04 17:10:44,086 INFO sqlalchemy.engine.Engine ROLLBACK\n"
     ]
    },
    {
     "name": "stderr",
     "output_type": "stream",
     "text": [
      "2025-06-04 17:10:44.162 Thread 'MainThread': missing ScriptRunContext! This warning can be ignored when running in bare mode.\n",
      "2025-06-04 17:10:44.163 Thread 'MainThread': missing ScriptRunContext! This warning can be ignored when running in bare mode.\n"
     ]
    },
    {
     "name": "stdout",
     "output_type": "stream",
     "text": [
      "2025-06-04 17:10:44,246 INFO sqlalchemy.engine.Engine BEGIN (implicit)\n",
      "2025-06-04 17:10:44,246 INFO sqlalchemy.engine.Engine SELECT pg_catalog.pg_class.relname \n",
      "FROM pg_catalog.pg_class JOIN pg_catalog.pg_namespace ON pg_catalog.pg_namespace.oid = pg_catalog.pg_class.relnamespace \n",
      "WHERE pg_catalog.pg_class.relname = %(table_name)s AND pg_catalog.pg_class.relkind = ANY (ARRAY[%(param_1)s, %(param_2)s, %(param_3)s, %(param_4)s, %(param_5)s]) AND pg_catalog.pg_table_is_visible(pg_catalog.pg_class.oid) AND pg_catalog.pg_namespace.nspname != %(nspname_1)s\n",
      "2025-06-04 17:10:44,247 INFO sqlalchemy.engine.Engine [cached since 0.8115s ago] {'table_name': <sqlalchemy.sql.elements.TextClause object at 0x12ec380a0>, 'param_1': 'r', 'param_2': 'p', 'param_3': 'f', 'param_4': 'v', 'param_5': 'm', 'nspname_1': 'pg_catalog'}\n",
      "2025-06-04 17:10:44,247 INFO sqlalchemy.engine.Engine \n",
      "            SELECT *\n",
      "            FROM destinations\n",
      "            WHERE destinations.chain_id = 1\n",
      "        \n",
      "2025-06-04 17:10:44,248 INFO sqlalchemy.engine.Engine [generated in 0.00076s] {}\n",
      "2025-06-04 17:10:44,406 INFO sqlalchemy.engine.Engine ROLLBACK\n"
     ]
    },
    {
     "data": {
      "application/vnd.microsoft.datawrangler.viewer.v0+json": {
       "columns": [
        {
         "name": "datetime",
         "rawType": "datetime64[ns, UTC]",
         "type": "unknown"
        },
        {
         "name": "tx_hash",
         "rawType": "object",
         "type": "string"
        },
        {
         "name": "autopool_vault_address",
         "rawType": "object",
         "type": "string"
        },
        {
         "name": "chain_id",
         "rawType": "int64",
         "type": "integer"
        },
        {
         "name": "rebalance_file_path",
         "rawType": "object",
         "type": "string"
        },
        {
         "name": "destination_out",
         "rawType": "object",
         "type": "string"
        },
        {
         "name": "destination_in",
         "rawType": "object",
         "type": "string"
        },
        {
         "name": "quantity_out",
         "rawType": "float64",
         "type": "float"
        },
        {
         "name": "quantity_in",
         "rawType": "float64",
         "type": "float"
        },
        {
         "name": "safe_value_out",
         "rawType": "float64",
         "type": "float"
        },
        {
         "name": "safe_value_in",
         "rawType": "float64",
         "type": "float"
        },
        {
         "name": "spot_value_in",
         "rawType": "float64",
         "type": "float"
        },
        {
         "name": "spot_value_out",
         "rawType": "float64",
         "type": "float"
        },
        {
         "name": "spot_value_in_solver_change",
         "rawType": "float64",
         "type": "float"
        },
        {
         "name": "block",
         "rawType": "int64",
         "type": "integer"
        },
        {
         "name": "total_nav",
         "rawType": "float64",
         "type": "float"
        },
        {
         "name": "move_name",
         "rawType": "object",
         "type": "string"
        },
        {
         "name": "destination_in_symbol",
         "rawType": "object",
         "type": "unknown"
        },
        {
         "name": "destination_out_symbol",
         "rawType": "object",
         "type": "unknown"
        },
        {
         "name": "destination_in_tokens",
         "rawType": "object",
         "type": "string"
        },
        {
         "name": "destination_out_tokens",
         "rawType": "object",
         "type": "string"
        },
        {
         "name": "tokens_move_name",
         "rawType": "object",
         "type": "string"
        },
        {
         "name": "spot_swap_cost",
         "rawType": "float64",
         "type": "float"
        },
        {
         "name": "spot_slippage_bps",
         "rawType": "float64",
         "type": "float"
        },
        {
         "name": "safe_swap_cost",
         "rawType": "float64",
         "type": "float"
        },
        {
         "name": "safe_slippage_bps",
         "rawType": "float64",
         "type": "float"
        },
        {
         "name": "swap_cost_in_bps_of_value_out",
         "rawType": "float64",
         "type": "float"
        },
        {
         "name": "swap_cost_in_bps_of_NAV",
         "rawType": "float64",
         "type": "float"
        },
        {
         "name": "from_idle",
         "rawType": "bool",
         "type": "boolean"
        },
        {
         "name": "swap_cost_in_bps_of_value_out_from_idle",
         "rawType": "float64",
         "type": "float"
        },
        {
         "name": "swap_cost_in_bps_of_NAV_from_idle",
         "rawType": "float64",
         "type": "float"
        },
        {
         "name": "swap_cost_in_bps_of_value_out_not_from_idle",
         "rawType": "float64",
         "type": "float"
        },
        {
         "name": "swap_cost_in_bps_of_NAV_not_from_idle",
         "rawType": "float64",
         "type": "float"
        }
       ],
       "ref": "67f97c53-cd96-4d23-b84d-48477b36f6cc",
       "rows": [
        [
         "2025-05-23 00:53:09+00:00",
         "0x433d6de03e99adb355d45be7ef5138f1fc6dea84699949ec5d368ebb1755d221",
         "0x9c6864105AEC23388C89600046213a44C384c831",
         "8453",
         "rebalance_plan_1747961531_0x9c6864105AEC23388C89600046213a44C384c831.json",
         "0x9c6864105AEC23388C89600046213a44C384c831",
         "0x30Ff0dBBd64A86C8F5Bfe905A53f0B78cBb6Fe5b",
         "1180.3191",
         "1156.0229642790196",
         "1180.3191",
         "1180.3352832407716",
         "1180.0624618212016",
         "1180.3191",
         "0.0",
         "30586121",
         "1180.198964",
         "baseUSD -> scrvUSDC",
         null,
         null,
         "('scrvUSD', 'USDC')",
         "('USDC',)",
         "('USDC',) -> ('scrvUSD', 'USDC')",
         "0.25663817879831186",
         "2.174311834810704",
         "-0.016183240771624696",
         "-0.13710903069877203",
         "2.174311834810704",
         "2.1745331645479387",
         "True",
         "2.174311834810704",
         "2.1745331645479387",
         "0.0",
         "0.0"
        ],
        [
         "2025-05-23 19:03:37+00:00",
         "0x56958c9f075abe5c1ab3db68790ba8ac714aa0663b7f3c04dda2b0cdf1025644",
         "0x9c6864105AEC23388C89600046213a44C384c831",
         "8453",
         "rebalance_plan_1748026944_0x9c6864105AEC23388C89600046213a44C384c831.json",
         "0x9c6864105AEC23388C89600046213a44C384c831",
         "0x30Ff0dBBd64A86C8F5Bfe905A53f0B78cBb6Fe5b",
         "24999.999999",
         "24483.800816914216",
         "24999.999999",
         "24999.55208112251",
         "24991.25207264558",
         "24999.999999",
         "0.0",
         "30618835",
         "50896.739323",
         "baseUSD -> scrvUSDC",
         null,
         null,
         "('scrvUSD', 'USDC')",
         "('USDC',)",
         "('USDC',) -> ('scrvUSD', 'USDC')",
         "8.747926354419178",
         "3.499170541907638",
         "0.44791787748908973",
         "0.1791671510028026",
         "3.499170541907638",
         "1.7187596829932936",
         "True",
         "3.499170541907638",
         "1.7187596829932936",
         "0.0",
         "0.0"
        ],
        [
         "2025-05-23 19:58:13+00:00",
         "0x988733572e02cdbd40b15a8fd147113bbbdb7328c0fedde2ff33c690c0cf42c3",
         "0x9c6864105AEC23388C89600046213a44C384c831",
         "8453",
         "rebalance_plan_1748030230_0x9c6864105AEC23388C89600046213a44C384c831.json",
         "0x9c6864105AEC23388C89600046213a44C384c831",
         "0x30Ff0dBBd64A86C8F5Bfe905A53f0B78cBb6Fe5b",
         "111346.0361",
         "109021.4496458061",
         "111346.0361",
         "111319.73082578933",
         "111282.66353290976",
         "111346.0361",
         "0.0",
         "30620473",
         "137477.17535",
         "baseUSD -> scrvUSDC",
         null,
         null,
         "('scrvUSD', 'USDC')",
         "('USDC',)",
         "('USDC',) -> ('scrvUSD', 'USDC')",
         "63.37256709023495",
         "5.691497363527156",
         "26.30527421066654",
         "2.362479629453692",
         "5.691497363527156",
         "4.609679165206601",
         "True",
         "5.691497363527156",
         "4.609679165206601",
         "0.0",
         "0.0"
        ],
        [
         "2025-05-23 20:22:17+00:00",
         "0xe21ce42f6cceb4a3b5dd908a0d8a9dc17da7f00a22ca8a6f7d0f914d2b81b7b3",
         "0x9c6864105AEC23388C89600046213a44C384c831",
         "8453",
         "rebalance_plan_1748031680_0x9c6864105AEC23388C89600046213a44C384c831.json",
         "0x9c6864105AEC23388C89600046213a44C384c831",
         "0x071b90e1e322F5F94F74BA7ADd453BBE8D25032B",
         "24999.999999",
         "23331.148438",
         "24999.999999",
         "24999.978823473266",
         "24994.169367512204",
         "24999.999999",
         "0.0",
         "30621195",
         "183241.588971",
         "baseUSD -> fUSDC",
         null,
         null,
         "('USDC',)",
         "('USDC',)",
         "('USDC',) -> ('USDC',)",
         "5.830631487795472",
         "2.3322525952114788",
         "0.021175526733713923",
         "0.008470210693824377",
         "2.3322525952114788",
         "0.31819367647582636",
         "True",
         "2.3322525952114788",
         "0.31819367647582636",
         "0.0",
         "0.0"
        ],
        [
         "2025-05-23 21:05:29+00:00",
         "0xc114af8b49eba2ef7e2acd69bba242fc08e7f0a3fbef514e649c381adc131f56",
         "0x9c6864105AEC23388C89600046213a44C384c831",
         "8453",
         "rebalance_plan_1748034325_0x9c6864105AEC23388C89600046213a44C384c831.json",
         "0x9c6864105AEC23388C89600046213a44C384c831",
         "0x071b90e1e322F5F94F74BA7ADd453BBE8D25032B",
         "83523.60785",
         "77947.656327",
         "83523.60785",
         "83523.56397469561",
         "83504.07706061387",
         "83523.60785",
         "0.0",
         "30622491",
         "329511.806099",
         "baseUSD -> fUSDC",
         null,
         null,
         "('USDC',)",
         "('USDC',)",
         "('USDC',) -> ('USDC',)",
         "19.5307893861318",
         "2.338355572619317",
         "0.04387530438543763",
         "0.005253042285270204",
         "2.338355572619317",
         "0.5927189564875222",
         "True",
         "2.338355572619317",
         "0.5927189564875222",
         "0.0",
         "0.0"
        ],
        [
         "2025-05-23 21:34:31+00:00",
         "0xf4cc9e1cb15791fe5c7391abfb752e75c90b47e3c5c21a4590d98276cd7df6d1",
         "0x9c6864105AEC23388C89600046213a44C384c831",
         "8453",
         "rebalance_plan_1748036018_0x9c6864105AEC23388C89600046213a44C384c831.json",
         "0x9c6864105AEC23388C89600046213a44C384c831",
         "0x071b90e1e322F5F94F74BA7ADd453BBE8D25032B",
         "49999.999999",
         "46661.885097",
         "49999.999999",
         "49999.98303306919",
         "49988.31756179494",
         "49999.999999",
         "0.0",
         "30623362",
         "329506.361513",
         "baseUSD -> fUSDC",
         null,
         null,
         "('USDC',)",
         "('USDC',)",
         "('USDC',) -> ('USDC',)",
         "11.682437205061433",
         "2.3364874410590164",
         "0.016965930808510166",
         "0.003393186161769897",
         "2.3364874410590164",
         "0.35454360126520734",
         "True",
         "2.3364874410590164",
         "0.35454360126520734",
         "0.0",
         "0.0"
        ],
        [
         "2025-05-23 21:58:37+00:00",
         "0x151f27e008685a6657e6298599f30ca69b9f539c009ce9ddc8e00d3aa508e82c",
         "0x9c6864105AEC23388C89600046213a44C384c831",
         "8453",
         "rebalance_plan_1748037458_0x9c6864105AEC23388C89600046213a44C384c831.json",
         "0x9c6864105AEC23388C89600046213a44C384c831",
         "0x30Ff0dBBd64A86C8F5Bfe905A53f0B78cBb6Fe5b",
         "24999.999999",
         "24473.883950311894",
         "24999.999999",
         "24982.500206567278",
         "24969.186413698306",
         "24999.999999",
         "0.0",
         "30624085",
         "329428.205654",
         "baseUSD -> scrvUSDC",
         null,
         null,
         "('scrvUSD', 'USDC')",
         "('USDC',)",
         "('USDC',) -> ('scrvUSD', 'USDC')",
         "30.81358530169382",
         "12.325434121170545",
         "17.499792432721733",
         "6.99991697336869",
         "12.325434121170545",
         "0.9353657268211416",
         "True",
         "12.325434121170545",
         "0.9353657268211416",
         "0.0",
         "0.0"
        ],
        [
         "2025-05-23 22:22:33+00:00",
         "0x84f1e553c6601fb93e14b2aff87d7af9452ce7ae037da937bcb24ba4934716ac",
         "0x9c6864105AEC23388C89600046213a44C384c831",
         "8453",
         "rebalance_plan_1748038898_0x9c6864105AEC23388C89600046213a44C384c831.json",
         "0x9c6864105AEC23388C89600046213a44C384c831",
         "0x30Ff0dBBd64A86C8F5Bfe905A53f0B78cBb6Fe5b",
         "8523.607799",
         "8343.893606873467",
         "8523.607799",
         "8517.329779385938",
         "8512.498664987561",
         "8523.607799",
         "0.0",
         "30624803",
         "329417.363752",
         "baseUSD -> scrvUSDC",
         null,
         null,
         "('scrvUSD', 'USDC')",
         "('USDC',)",
         "('USDC',) -> ('scrvUSD', 'USDC')",
         "11.109134012438517",
         "13.033370697490158",
         "6.278019614061122",
         "7.365448718555149",
         "13.033370697490158",
         "0.33723583620206393",
         "True",
         "13.033370697490158",
         "0.33723583620206393",
         "0.0",
         "0.0"
        ],
        [
         "2025-05-23 22:58:37+00:00",
         "0x6b2b46ea1a5540c11dfe03684f65f2d9a45b042773365958ae9915a4ae11eaeb",
         "0x9c6864105AEC23388C89600046213a44C384c831",
         "8453",
         "rebalance_plan_1748041058_0x9c6864105AEC23388C89600046213a44C384c831.json",
         "0x9c6864105AEC23388C89600046213a44C384c831",
         "0x30Ff0dBBd64A86C8F5Bfe905A53f0B78cBb6Fe5b",
         "24999.999999",
         "24471.882937212093",
         "24999.999999",
         "24980.82468665729",
         "24964.134862494117",
         "24999.999999",
         "0.0",
         "30625885",
         "359484.282469",
         "baseUSD -> scrvUSDC",
         null,
         null,
         "('scrvUSD', 'USDC')",
         "('USDC',)",
         "('USDC',) -> ('scrvUSD', 'USDC')",
         "35.86513650588313",
         "14.346054602927094",
         "19.17531234270791",
         "7.67012493738997",
         "14.346054602927094",
         "0.9976830213425518",
         "True",
         "14.346054602927094",
         "0.9976830213425518",
         "0.0",
         "0.0"
        ],
        [
         "2025-05-24 00:24:19+00:00",
         "0x0c79e4f726e20fb2ba6519f9beb5cb94f4ed68c2f198a01c0e7387fc783ab59b",
         "0x9c6864105AEC23388C89600046213a44C384c831",
         "8453",
         "rebalance_plan_1748046208_0x9c6864105AEC23388C89600046213a44C384c831.json",
         "0x9c6864105AEC23388C89600046213a44C384c831",
         "0x16cbe611AF0E01ec6988b59aD3690327aD496Eb7",
         "136340.6611",
         "134146.9264229222",
         "136340.6611",
         "136340.63111071626",
         "136308.83828915402",
         "136340.6611",
         "0.0",
         "30628456",
         "627049.639941",
         "baseUSD -> smUSDC",
         null,
         null,
         "('USDC',)",
         "('USDC',)",
         "('USDC',) -> ('USDC',)",
         "31.822810845973436",
         "2.3340660511124245",
         "0.029989283735631034",
         "0.0021995847382341198",
         "2.3340660511124245",
         "0.5075006637268413",
         "True",
         "2.3340660511124245",
         "0.5075006637268413",
         "0.0",
         "0.0"
        ],
        [
         "2025-05-24 00:47:11+00:00",
         "0x2237ac7bc23ddaf3bace3326c7cc9e0884a53e4ca6109f184af52c64c4981ff9",
         "0x9c6864105AEC23388C89600046213a44C384c831",
         "8453",
         "rebalance_plan_1748047581_0x9c6864105AEC23388C89600046213a44C384c831.json",
         "0x9c6864105AEC23388C89600046213a44C384c831",
         "0xeE23855e36713579FB0af48120557dF855280B60",
         "68170.33055",
         "67077.968556",
         "68170.33055",
         "68170.2661959659",
         "68154.4357953867",
         "68170.33055",
         "0.0",
         "30629142",
         "627041.660386",
         "baseUSD -> eUSDC-1",
         null,
         null,
         "('USDC',)",
         "('USDC',)",
         "('USDC',) -> ('USDC',)",
         "15.894754613298574",
         "2.331623520827797",
         "0.06435403409705032",
         "0.00944018219918259",
         "2.331623520827797",
         "0.253488015509431",
         "True",
         "2.331623520827797",
         "0.253488015509431",
         "0.0",
         "0.0"
        ],
        [
         "2025-05-24 02:04:13+00:00",
         "0x48931d819f5a8f4a268873fbe1332eee8188003e8b7eb22426e68a4ad4a7b429",
         "0x9c6864105AEC23388C89600046213a44C384c831",
         "8453",
         "rebalance_plan_1748052199_0x9c6864105AEC23388C89600046213a44C384c831.json",
         "0x9c6864105AEC23388C89600046213a44C384c831",
         "0xeE23855e36713579FB0af48120557dF855280B60",
         "110618.74525",
         "108845.740501",
         "110618.74525",
         "110618.72876802078",
         "110592.93232752204",
         "110618.74525",
         "0.0",
         "30631453",
         "780096.207504",
         "baseUSD -> eUSDC-1",
         null,
         null,
         "('USDC',)",
         "('USDC',)",
         "('USDC',) -> ('USDC',)",
         "25.81292247796955",
         "2.333503459981576",
         "0.01648197922622785",
         "0.0014899806709051285",
         "2.333503459981576",
         "0.3308940901092279",
         "True",
         "2.333503459981576",
         "0.3308940901092279",
         "0.0",
         "0.0"
        ],
        [
         "2025-05-24 04:04:11+00:00",
         "0xaa9ee36d55e4abfc97d761f9a37ab84408722058f008ecce1b19fb3ae63e8174",
         "0x9c6864105AEC23388C89600046213a44C384c831",
         "8453",
         "rebalance_plan_1748059399_0x9c6864105AEC23388C89600046213a44C384c831.json",
         "0x9c6864105AEC23388C89600046213a44C384c831",
         "0x071b90e1e322F5F94F74BA7ADd453BBE8D25032B",
         "81011.69195",
         "75599.615373",
         "81011.69195",
         "81011.64063832232",
         "80992.9675333252",
         "81011.69195",
         "0.0",
         "30635052",
         "831497.893653",
         "baseUSD -> fUSDC",
         null,
         null,
         "('USDC',)",
         "('USDC',)",
         "('USDC',) -> ('USDC',)",
         "18.724416674798704",
         "2.3113227515795276",
         "0.051311677671037614",
         "0.006333860759593433",
         "2.3113227515795276",
         "0.22518898505607954",
         "True",
         "2.3113227515795276",
         "0.22518898505607954",
         "0.0",
         "0.0"
        ],
        [
         "2025-05-24 06:04:17+00:00",
         "0x05c847020b47189d2194ab7c8993ee634ec5d5bc524c0858477f2ce0720734ad",
         "0x9c6864105AEC23388C89600046213a44C384c831",
         "8453",
         "rebalance_plan_1748066598_0x9c6864105AEC23388C89600046213a44C384c831.json",
         "0x9c6864105AEC23388C89600046213a44C384c831",
         "0x30Ff0dBBd64A86C8F5Bfe905A53f0B78cBb6Fe5b",
         "24999.999999",
         "24469.88628694719",
         "24999.999999",
         "24979.71636773573",
         "24969.75712401694",
         "24999.999999",
         "0.0",
         "30638655",
         "831506.317789",
         "baseUSD -> scrvUSDC",
         null,
         null,
         "('scrvUSD', 'USDC')",
         "('USDC',)",
         "('USDC',) -> ('scrvUSD', 'USDC')",
         "30.242874983057845",
         "12.097149993707024",
         "20.28363126426848",
         "8.11345250603193",
         "12.097149993707024",
         "0.36371190856943275",
         "True",
         "12.097149993707024",
         "0.36371190856943275",
         "0.0",
         "0.0"
        ],
        [
         "2025-05-24 08:04:09+00:00",
         "0x42f1eccef93841ff80425e4074040bb4bb6f56a0567d557ef18974e3022eab7a",
         "0x9c6864105AEC23388C89600046213a44C384c831",
         "8453",
         "rebalance_plan_1748073798_0x9c6864105AEC23388C89600046213a44C384c831.json",
         "0x9c6864105AEC23388C89600046213a44C384c831",
         "0x16cbe611AF0E01ec6988b59aD3690327aD496Eb7",
         "187116.3728",
         "184099.30936953938",
         "187116.3728",
         "187116.3288514874",
         "187065.88564072014",
         "187116.3728",
         "0.0",
         "30642251",
         "1149704.319353",
         "baseUSD -> smUSDC",
         null,
         null,
         "('USDC',)",
         "('USDC',)",
         "('USDC',) -> ('USDC',)",
         "50.487159279873595",
         "2.69816898031884",
         "0.04394851261167787",
         "0.002348726193974078",
         "2.69816898031884",
         "0.43913168307730993",
         "True",
         "2.69816898031884",
         "0.43913168307730993",
         "0.0",
         "0.0"
        ],
        [
         "2025-05-24 10:04:13+00:00",
         "0x989bf4e0eca19f58ac5a294e33a78a0f60d19c8b8c7a9db0401f630d8ffda462",
         "0x9c6864105AEC23388C89600046213a44C384c831",
         "8453",
         "rebalance_plan_1748080998_0x9c6864105AEC23388C89600046213a44C384c831.json",
         "0x9c6864105AEC23388C89600046213a44C384c831",
         "0x16cbe611AF0E01ec6988b59aD3690327aD496Eb7",
         "147990.5407",
         "145603.0289606222",
         "147990.5407",
         "147990.48182648953",
         "147950.44099352535",
         "147990.5407",
         "0.0",
         "30645853",
         "1258551.653729",
         "baseUSD -> smUSDC",
         null,
         null,
         "('USDC',)",
         "('USDC',)",
         "('USDC',) -> ('USDC',)",
         "40.099706474662526",
         "2.709612809372114",
         "0.05887351048295386",
         "0.003978194160551091",
         "2.709612809372114",
         "0.3186178839450087",
         "True",
         "2.709612809372114",
         "0.3186178839450087",
         "0.0",
         "0.0"
        ],
        [
         "2025-05-24 12:04:11+00:00",
         "0x204f8703ec40042a4b182a44166ea213fb8618d33d5db20ceb3bc9527f380812",
         "0x9c6864105AEC23388C89600046213a44C384c831",
         "8453",
         "rebalance_plan_1748088199_0x9c6864105AEC23388C89600046213a44C384c831.json",
         "0x9c6864105AEC23388C89600046213a44C384c831",
         "0x16cbe611AF0E01ec6988b59aD3690327aD496Eb7",
         "74018.13815",
         "72823.3592655724",
         "74018.13815",
         "74018.09929768338",
         "73998.29134396315",
         "74018.13815",
         "0.0",
         "30649452",
         "1258592.316925",
         "baseUSD -> smUSDC",
         null,
         null,
         "('USDC',)",
         "('USDC',)",
         "('USDC',) -> ('USDC',)",
         "19.84680603684683",
         "2.681343591300105",
         "0.03885231661843136",
         "0.005249026466958134",
         "2.681343591300105",
         "0.15769050684606642",
         "True",
         "2.681343591300105",
         "0.15769050684606642",
         "0.0",
         "0.0"
        ],
        [
         "2025-05-24 14:04:13+00:00",
         "0xa2ac14fae29e5b773f1ab025c5b841a124dbf95ec77a2c805b1f97dc94243f15",
         "0x9c6864105AEC23388C89600046213a44C384c831",
         "8453",
         "rebalance_plan_1748095398_0x9c6864105AEC23388C89600046213a44C384c831.json",
         "0x9c6864105AEC23388C89600046213a44C384c831",
         "0x16cbe611AF0E01ec6988b59aD3690327aD496Eb7",
         "172613.83415",
         "169826.02972783268",
         "172613.83415",
         "172613.72400581505",
         "172567.53132572907",
         "172613.83415",
         "0.0",
         "30653053",
         "1529783.470641",
         "baseUSD -> smUSDC",
         null,
         null,
         "('USDC',)",
         "('USDC',)",
         "('USDC',) -> ('USDC',)",
         "46.30282427094062",
         "2.6824515253339336",
         "0.11014418496051803",
         "0.006380959295811924",
         "2.6824515253339336",
         "0.30267567377714644",
         "True",
         "2.6824515253339336",
         "0.30267567377714644",
         "0.0",
         "0.0"
        ],
        [
         "2025-05-24 15:29:29+00:00",
         "0x6612189f14106556629c220efba867f76e1710c569fbc87f309259c6174544aa",
         "0x9c6864105AEC23388C89600046213a44C384c831",
         "8453",
         "rebalance_plan_1748100516_0x9c6864105AEC23388C89600046213a44C384c831.json",
         "0x9c6864105AEC23388C89600046213a44C384c831",
         "0x16cbe611AF0E01ec6988b59aD3690327aD496Eb7",
         "49999.999999",
         "49192.1604813395",
         "49999.999999",
         "49999.99414076406",
         "49982.82607675607",
         "49999.999999",
         "0.0",
         "30655611",
         "1529752.626043",
         "baseUSD -> smUSDC",
         null,
         null,
         "('USDC',)",
         "('USDC',)",
         "('USDC',) -> ('USDC',)",
         "17.173922243928246",
         "3.434784448854345",
         "0.005858235941559542",
         "0.0011716471883353413",
         "3.434784448854345",
         "0.11226600923282548",
         "True",
         "3.434784448854345",
         "0.11226600923282548",
         "0.0",
         "0.0"
        ],
        [
         "2025-05-24 18:04:13+00:00",
         "0xd2efa3390b996624c8e8d05cd640d43023ea14b4b42f442133dbb49d090f8e20",
         "0x9c6864105AEC23388C89600046213a44C384c831",
         "8453",
         "rebalance_plan_1748109798_0x9c6864105AEC23388C89600046213a44C384c831.json",
         "0x9c6864105AEC23388C89600046213a44C384c831",
         "0x16cbe611AF0E01ec6988b59aD3690327aD496Eb7",
         "49999.999999",
         "49191.593188631734",
         "49999.999999",
         "49999.95863950052",
         "49982.839965070874",
         "49999.999999",
         "0.0",
         "30660253",
         "1602410.643631",
         "baseUSD -> smUSDC",
         null,
         null,
         "('USDC',)",
         "('USDC',)",
         "('USDC',) -> ('USDC',)",
         "17.160033929125348",
         "3.4320067858937096",
         "0.041359499482496176",
         "0.008271899896664674",
         "3.4320067858937096",
         "0.10708886637348701",
         "True",
         "3.4320067858937096",
         "0.10708886637348701",
         "0.0",
         "0.0"
        ],
        [
         "2025-05-24 20:04:03+00:00",
         "0xa7e800caf6392d9e006a5ebf151ed694e228702555687bdac9eefb6801146436",
         "0x9c6864105AEC23388C89600046213a44C384c831",
         "8453",
         "rebalance_plan_1748116998_0x9c6864105AEC23388C89600046213a44C384c831.json",
         "0x9c6864105AEC23388C89600046213a44C384c831",
         "0x16cbe611AF0E01ec6988b59aD3690327aD496Eb7",
         "49999.999999",
         "49191.15562577176",
         "49999.999999",
         "49999.956606570704",
         "49982.838084412935",
         "49999.999999",
         "0.0",
         "30663848",
         "1574858.359642",
         "baseUSD -> smUSDC",
         null,
         null,
         "('USDC',)",
         "('USDC',)",
         "('USDC',) -> ('USDC',)",
         "17.16191458706453",
         "3.4323829174815534",
         "0.04339242929563625",
         "0.00867848585930082",
         "3.4323829174815534",
         "0.10897433716493597",
         "True",
         "3.4323829174815534",
         "0.10897433716493597",
         "0.0",
         "0.0"
        ],
        [
         "2025-05-24 20:28:25+00:00",
         "0xccb6800bef1cf08ac70ad25e2d597339f5fe0cd9fddf97efd26c8ef43966775f",
         "0x9c6864105AEC23388C89600046213a44C384c831",
         "8453",
         "rebalance_plan_1748118450_0x9c6864105AEC23388C89600046213a44C384c831.json",
         "0x9c6864105AEC23388C89600046213a44C384c831",
         "0x16cbe611AF0E01ec6988b59aD3690327aD496Eb7",
         "67720.836699",
         "66625.20250759424",
         "67720.836699",
         "67720.78733762911",
         "67697.66839235899",
         "67720.836699",
         "0.0",
         "30664579",
         "1574848.885992",
         "baseUSD -> smUSDC",
         null,
         null,
         "('USDC',)",
         "('USDC',)",
         "('USDC',) -> ('USDC',)",
         "23.168306641018717",
         "3.421148906354376",
         "0.049361370896804146",
         "0.007288948764204066",
         "3.421148906354376",
         "0.14711447458290552",
         "True",
         "3.421148906354376",
         "0.14711447458290552",
         "0.0",
         "0.0"
        ],
        [
         "2025-05-24 21:42:33+00:00",
         "0x04ee65f9375ebbd5d3b60468f5f920266bd0ec70ade0658ab3b93acbfc54257f",
         "0x9c6864105AEC23388C89600046213a44C384c831",
         "8453",
         "rebalance_plan_1748122897_0x9c6864105AEC23388C89600046213a44C384c831.json",
         "0xeE23855e36713579FB0af48120557dF855280B60",
         "0x16cbe611AF0E01ec6988b59aD3690327aD496Eb7",
         "175923.709057",
         "175906.25532803644",
         "178799.8857763729",
         "178799.91322818265",
         "178738.6978513285",
         "178738.66432562104",
         "0.0",
         "30666803",
         "1574854.771981",
         "eUSDC-1 -> smUSDC",
         null,
         null,
         "('USDC',)",
         "('USDC',)",
         "('USDC',) -> ('USDC',)",
         "-0.03352570746210404",
         "-0.0018756830028128582",
         "-0.02745180975762196",
         "-0.001535337097024562",
         "-0.0018756830028128582",
         "-0.00021288126409225823",
         "False",
         "0.0",
         "0.0",
         "-0.0018756830028128582",
         "-0.00021288126409225823"
        ],
        [
         "2025-05-25 00:21:05+00:00",
         "0xbc97ca503bd904051eddf1dd877e8c39877ab3feb9c21f9651544775d491ed9c",
         "0x9c6864105AEC23388C89600046213a44C384c831",
         "8453",
         "rebalance_plan_1748132408_0x9c6864105AEC23388C89600046213a44C384c831.json",
         "0x9c6864105AEC23388C89600046213a44C384c831",
         "0x16cbe611AF0E01ec6988b59aD3690327aD496Eb7",
         "188842.03",
         "185783.5989985245",
         "188842.03",
         "188841.96860523822",
         "188777.31591278673",
         "188842.03",
         "0.0",
         "30671559",
         "1952519.603542",
         "baseUSD -> smUSDC",
         null,
         null,
         "('USDC',)",
         "('USDC',)",
         "('USDC',) -> ('USDC',)",
         "64.71408721327316",
         "3.4268900420776647",
         "0.06139476178213954",
         "0.0032511174436188565",
         "3.4268900420776647",
         "0.3314388603109414",
         "True",
         "3.4268900420776647",
         "0.3314388603109414",
         "0.0",
         "0.0"
        ],
        [
         "2025-05-25 02:21:01+00:00",
         "0x02bd97c4d27c8f0cade92a2a28d8c3e039cc4075479fdb25910d6c16fefe636b",
         "0x9c6864105AEC23388C89600046213a44C384c831",
         "8453",
         "rebalance_plan_1748139609_0x9c6864105AEC23388C89600046213a44C384c831.json",
         "0x9c6864105AEC23388C89600046213a44C384c831",
         "0x16cbe611AF0E01ec6988b59aD3690327aD496Eb7",
         "49999.999999",
         "49189.77780797649",
         "49999.999999",
         "49999.98263825167",
         "49982.8645955745",
         "49999.999999",
         "0.0",
         "30675157",
         "1952522.568658",
         "baseUSD -> smUSDC",
         null,
         null,
         "('USDC',)",
         "('USDC',)",
         "('USDC',) -> ('USDC',)",
         "17.135403425498225",
         "3.4270806851681868",
         "0.01736074833024759",
         "0.0034721496661189607",
         "3.4270806851681868",
         "0.08776033476158825",
         "True",
         "3.4270806851681868",
         "0.08776033476158825",
         "0.0",
         "0.0"
        ],
        [
         "2025-05-25 04:21:03+00:00",
         "0xcb7bc16487cab7468c692a526545973f8417d1a7938b3b58a6cd60b84952a4de",
         "0x9c6864105AEC23388C89600046213a44C384c831",
         "8453",
         "rebalance_plan_1748146809_0x9c6864105AEC23388C89600046213a44C384c831.json",
         "0x9c6864105AEC23388C89600046213a44C384c831",
         "0x16cbe611AF0E01ec6988b59aD3690327aD496Eb7",
         "49999.999999",
         "49189.341837245",
         "49999.999999",
         "49999.9821907228",
         "49982.96267844712",
         "49999.999999",
         "0.0",
         "30678758",
         "1970294.093269",
         "baseUSD -> smUSDC",
         null,
         null,
         "('USDC',)",
         "('USDC',)",
         "('USDC',) -> ('USDC',)",
         "17.037320552881283",
         "3.407464110644406",
         "0.017808277196309064",
         "0.003561655439333046",
         "3.407464110644406",
         "0.08647095177864503",
         "True",
         "3.407464110644406",
         "0.08647095177864503",
         "0.0",
         "0.0"
        ],
        [
         "2025-05-25 06:20:59+00:00",
         "0xc8c7fd80cc65d64be0cefa7c8bbb58e72f7ee9f2ca437f4cdd8e8de514c95f21",
         "0x9c6864105AEC23388C89600046213a44C384c831",
         "8453",
         "rebalance_plan_1748154009_0x9c6864105AEC23388C89600046213a44C384c831.json",
         "0x9c6864105AEC23388C89600046213a44C384c831",
         "0x16cbe611AF0E01ec6988b59aD3690327aD496Eb7",
         "49999.999999",
         "49188.90640389369",
         "49999.999999",
         "49999.982281587494",
         "49982.962919971746",
         "49999.999999",
         "0.0",
         "30682356",
         "1970307.992781",
         "baseUSD -> smUSDC",
         null,
         null,
         "('USDC',)",
         "('USDC',)",
         "('USDC',) -> ('USDC',)",
         "17.037079028254084",
         "3.407415805718965",
         "0.01771741250558989",
         "0.003543482501188848",
         "3.407415805718965",
         "0.08646911594875592",
         "True",
         "3.407415805718965",
         "0.08646911594875592",
         "0.0",
         "0.0"
        ],
        [
         "2025-05-25 08:21:03+00:00",
         "0x1609b864bbcf07fad9540d24bfb326c4f75adeed10e325b4d45df8964a0034b2",
         "0x9c6864105AEC23388C89600046213a44C384c831",
         "8453",
         "rebalance_plan_1748161209_0x9c6864105AEC23388C89600046213a44C384c831.json",
         "0x9c6864105AEC23388C89600046213a44C384c831",
         "0x16cbe611AF0E01ec6988b59aD3690327aD496Eb7",
         "49999.999999",
         "49188.46823292228",
         "49999.999999",
         "49999.97958182902",
         "49982.46848713812",
         "49999.999999",
         "0.0",
         "30685958",
         "1970304.936643",
         "baseUSD -> smUSDC",
         null,
         null,
         "('USDC',)",
         "('USDC',)",
         "('USDC',) -> ('USDC',)",
         "17.53151186188188",
         "3.5063023724465023",
         "0.02041717097745277",
         "0.004083434195572223",
         "3.5063023724465023",
         "0.08897867297511837",
         "True",
         "3.5063023724465023",
         "0.08897867297511837",
         "0.0",
         "0.0"
        ],
        [
         "2025-05-25 10:20:59+00:00",
         "0x384cd9570706f8f187215450b3b9bfff6d642c3c111db19da26dcb694f8103cd",
         "0x9c6864105AEC23388C89600046213a44C384c831",
         "8453",
         "rebalance_plan_1748168409_0x9c6864105AEC23388C89600046213a44C384c831.json",
         "0x9c6864105AEC23388C89600046213a44C384c831",
         "0x16cbe611AF0E01ec6988b59aD3690327aD496Eb7",
         "6648.91",
         "6540.935785577132",
         "6648.91",
         "6648.907012589654",
         "6646.571898514204",
         "6648.91",
         "0.0",
         "30689556",
         "1970346.48241",
         "baseUSD -> smUSDC",
         null,
         null,
         "('USDC',)",
         "('USDC',)",
         "('USDC',) -> ('USDC',)",
         "2.33810148579596",
         "3.516518475653844",
         "0.0029874103456677403",
         "0.004493082844658358",
         "3.516518475653844",
         "0.01186644839711717",
         "True",
         "3.516518475653844",
         "0.01186644839711717",
         "0.0",
         "0.0"
        ],
        [
         "2025-05-25 14:21:01+00:00",
         "0x7307e3925ce7f5792877bfa07258fcfbe8117208fdc68c4a0145dee56f5e47f0",
         "0x9c6864105AEC23388C89600046213a44C384c831",
         "8453",
         "rebalance_plan_1748182808_0x9c6864105AEC23388C89600046213a44C384c831.json",
         "0x9c6864105AEC23388C89600046213a44C384c831",
         "0x071b90e1e322F5F94F74BA7ADd453BBE8D25032B",
         "243690.099549",
         "227354.828455",
         "243690.099549",
         "243690.04552466332",
         "243604.7874639927",
         "243690.099549",
         "0.0",
         "30696757",
         "2437702.705195",
         "baseUSD -> fUSDC",
         null,
         null,
         "('USDC',)",
         "('USDC',)",
         "('USDC',) -> ('USDC',)",
         "85.31208500731736",
         "3.5008432909340756",
         "0.05402433668496087",
         "0.0022169278433938973",
         "3.5008432909340756",
         "0.34996919364083395",
         "True",
         "3.5008432909340756",
         "0.34996919364083395",
         "0.0",
         "0.0"
        ],
        [
         "2025-05-25 16:21:01+00:00",
         "0xbb8883febdc4755b3a5fc511e9ce495ae9de1d20bbdbc09a5157e0c83910f49a",
         "0x9c6864105AEC23388C89600046213a44C384c831",
         "8453",
         "rebalance_plan_1748190009_0x9c6864105AEC23388C89600046213a44C384c831.json",
         "0x9c6864105AEC23388C89600046213a44C384c831",
         "0x071b90e1e322F5F94F74BA7ADd453BBE8D25032B",
         "156613.43455",
         "146113.140337",
         "156613.43455",
         "156613.41505417816",
         "156562.7137944812",
         "156613.43455",
         "0.0",
         "30700357",
         "2507226.638724",
         "baseUSD -> fUSDC",
         null,
         null,
         "('USDC',)",
         "('USDC',)",
         "('USDC',) -> ('USDC',)",
         "50.72075551879243",
         "3.238595441350815",
         "0.019495821848977357",
         "0.0012448371306711349",
         "3.238595441350815",
         "0.20229824753539505",
         "True",
         "3.238595441350815",
         "0.20229824753539505",
         "0.0",
         "0.0"
        ],
        [
         "2025-05-25 18:21:01+00:00",
         "0x73a55d7f8a494e15700df54f974d19fc535581f475be2b661a6074f6845e5c20",
         "0x9c6864105AEC23388C89600046213a44C384c831",
         "8453",
         "rebalance_plan_1748197209_0x9c6864105AEC23388C89600046213a44C384c831.json",
         "0x9c6864105AEC23388C89600046213a44C384c831",
         "0x16cbe611AF0E01ec6988b59aD3690327aD496Eb7",
         "154867.17255",
         "152346.86499893232",
         "154867.17255",
         "154867.13918660965",
         "154817.16941489003",
         "154867.17255",
         "0.0",
         "30703957",
         "2660415.272803",
         "baseUSD -> smUSDC",
         null,
         null,
         "('USDC',)",
         "('USDC',)",
         "('USDC',) -> ('USDC',)",
         "50.00313510996057",
         "3.228775620205547",
         "0.033363390335580334",
         "0.002154322945671958",
         "3.228775620205547",
         "0.18795236826797163",
         "True",
         "3.228775620205547",
         "0.18795236826797163",
         "0.0",
         "0.0"
        ],
        [
         "2025-05-25 20:21:05+00:00",
         "0xbd387acf22ab13435e3029638fea801cceee64a456d0b580b8c6c037c891147f",
         "0x9c6864105AEC23388C89600046213a44C384c831",
         "8453",
         "rebalance_plan_1748204409_0x9c6864105AEC23388C89600046213a44C384c831.json",
         "0x9c6864105AEC23388C89600046213a44C384c831",
         "0x16cbe611AF0E01ec6988b59aD3690327aD496Eb7",
         "49999.999999",
         "49185.86866516675",
         "49999.999999",
         "49999.99316331259",
         "49983.860198390415",
         "49999.999999",
         "0.0",
         "30707559",
         "2665623.891409",
         "baseUSD -> smUSDC",
         null,
         null,
         "('USDC',)",
         "('USDC',)",
         "('USDC',) -> ('USDC',)",
         "16.1398006095842",
         "3.227960121981399",
         "0.006835687410784885",
         "0.0013671374821843199",
         "3.227960121981399",
         "0.0605479289917866",
         "True",
         "3.227960121981399",
         "0.0605479289917866",
         "0.0",
         "0.0"
        ],
        [
         "2025-05-25 22:21:03+00:00",
         "0xefc0c1e6acf9144565a3da98366ac0d3a41d291c41cd8207cadccd0920f89852",
         "0x9c6864105AEC23388C89600046213a44C384c831",
         "8453",
         "rebalance_plan_1748211609_0x9c6864105AEC23388C89600046213a44C384c831.json",
         "0x9c6864105AEC23388C89600046213a44C384c831",
         "0x16cbe611AF0E01ec6988b59aD3690327aD496Eb7",
         "49999.999999",
         "49185.437051004075",
         "49999.999999",
         "49999.997074005754",
         "49983.86425065302",
         "49999.999999",
         "0.0",
         "30711158",
         "2665731.007042",
         "baseUSD -> smUSDC",
         null,
         null,
         "('USDC',)",
         "('USDC',)",
         "('USDC',) -> ('USDC',)",
         "16.13574834697647",
         "3.227149669459837",
         "0.0029249942454043776",
         "0.0005849988490925755",
         "3.227149669459837",
         "0.060530294708472224",
         "True",
         "3.227149669459837",
         "0.060530294708472224",
         "0.0",
         "0.0"
        ],
        [
         "2025-05-26 00:21:05+00:00",
         "0x52c725935348855751efa157c799cc3cc33a9db0e1e8802e6cc437136553f9ba",
         "0x9c6864105AEC23388C89600046213a44C384c831",
         "8453",
         "rebalance_plan_1748218809_0x9c6864105AEC23388C89600046213a44C384c831.json",
         "0x9c6864105AEC23388C89600046213a44C384c831",
         "0x071b90e1e322F5F94F74BA7ADd453BBE8D25032B",
         "49999.999999",
         "46645.116615",
         "49999.999999",
         "49999.973337300646",
         "49983.88077206846",
         "49999.999999",
         "0.0",
         "30714759",
         "2665755.609292",
         "baseUSD -> fUSDC",
         null,
         null,
         "('USDC',)",
         "('USDC',)",
         "('USDC',) -> ('USDC',)",
         "16.119226931536105",
         "3.223845386371698",
         "0.026661699354008306",
         "0.005332339870908308",
         "3.223845386371698",
         "0.060467759592625306",
         "True",
         "3.223845386371698",
         "0.060467759592625306",
         "0.0",
         "0.0"
        ],
        [
         "2025-05-26 02:21:05+00:00",
         "0x8e94a88ae837a4a6f317851e558429b879956bcaa50a96a082cd2aaf13c387ef",
         "0x9c6864105AEC23388C89600046213a44C384c831",
         "8453",
         "rebalance_plan_1748226009_0x9c6864105AEC23388C89600046213a44C384c831.json",
         "0x9c6864105AEC23388C89600046213a44C384c831",
         "0x16cbe611AF0E01ec6988b59aD3690327aD496Eb7",
         "49999.999999",
         "49184.6121211955",
         "49999.999999",
         "49999.994620940684",
         "49983.86206816493",
         "49999.999999",
         "0.0",
         "30718359",
         "2731401.591169",
         "baseUSD -> smUSDC",
         null,
         null,
         "('USDC',)",
         "('USDC',)",
         "('USDC',) -> ('USDC',)",
         "16.137930835066072",
         "3.2275861670777664",
         "0.005378059315262362",
         "0.0010756118630739846",
         "3.2275861670777664",
         "0.059082966368776524",
         "True",
         "3.2275861670777664",
         "0.059082966368776524",
         "0.0",
         "0.0"
        ],
        [
         "2025-05-26 04:20:59+00:00",
         "0x381e83fe593ce441054b4867a410970b84b3bd39c6aabed1a3149b5885666f52",
         "0x9c6864105AEC23388C89600046213a44C384c831",
         "8453",
         "rebalance_plan_1748233209_0x9c6864105AEC23388C89600046213a44C384c831.json",
         "0x9c6864105AEC23388C89600046213a44C384c831",
         "0xFd70A9b4cE03Dc07Fe7Ba5e4D39fac11eE8d8615",
         "25793.656899",
         "25052.240194491795",
         "25793.656899",
         "25793.63619080758",
         "25785.34389930321",
         "25793.656899",
         "0.0",
         "30721956",
         "2731397.424315",
         "baseUSD -> mwUSDC",
         null,
         null,
         "('USDC',)",
         "('USDC',)",
         "('USDC',) -> ('USDC',)",
         "8.31299969679094",
         "3.2228852734383806",
         "0.020708192419988336",
         "0.008028405007120636",
         "3.2228852734383806",
         "0.030434969377902722",
         "True",
         "3.2228852734383806",
         "0.030434969377902722",
         "0.0",
         "0.0"
        ],
        [
         "2025-05-26 12:21:05+00:00",
         "0x5f3906522434202d16e15d3747a1652ec819491835df8f2e42f6d2ff35877750",
         "0x9c6864105AEC23388C89600046213a44C384c831",
         "8453",
         "rebalance_plan_1748262009_0x9c6864105AEC23388C89600046213a44C384c831.json",
         "0x9c6864105AEC23388C89600046213a44C384c831",
         "0xFd70A9b4cE03Dc07Fe7Ba5e4D39fac11eE8d8615",
         "44081.328",
         "42812.70330209518",
         "44081.328",
         "44081.286513639556",
         "44057.31139979039",
         "44081.328",
         "0.0",
         "30736359",
         "2765452.011214",
         "baseUSD -> mwUSDC",
         null,
         null,
         "('USDC',)",
         "('USDC',)",
         "('USDC',) -> ('USDC',)",
         "24.01660020960844",
         "5.4482478861817505",
         "0.04148636044556042",
         "0.009411322736365933",
         "5.4482478861817505",
         "0.0868451165025476",
         "True",
         "5.4482478861817505",
         "0.0868451165025476",
         "0.0",
         "0.0"
        ],
        [
         "2025-05-26 18:21:05+00:00",
         "0x60da0aeead0c4784ed643011856d2d96a6b28962470065b812f9866e832659fe",
         "0x9c6864105AEC23388C89600046213a44C384c831",
         "8453",
         "rebalance_plan_1748283609_0x9c6864105AEC23388C89600046213a44C384c831.json",
         "0x9c6864105AEC23388C89600046213a44C384c831",
         "0xFd70A9b4cE03Dc07Fe7Ba5e4D39fac11eE8d8615",
         "4000.999999",
         "3885.749018195851",
         "4000.999999",
         "4000.996448326522",
         "3998.82431462535",
         "4000.999999",
         "0.0",
         "30747159",
         "2769353.800288",
         "baseUSD -> mwUSDC",
         null,
         null,
         "('USDC',)",
         "('USDC',)",
         "('USDC',) -> ('USDC',)",
         "2.1756843746502454",
         "5.437851475116298",
         "0.0035506734780028637",
         "0.008874465080955537",
         "5.437851475116298",
         "0.007856288981292257",
         "True",
         "5.437851475116298",
         "0.007856288981292257",
         "0.0",
         "0.0"
        ],
        [
         "2025-05-26 21:08:55+00:00",
         "0x54b74758374d62e29597c0e86a08bc218ad05def8db7007a208d1493448a6a89",
         "0x9c6864105AEC23388C89600046213a44C384c831",
         "8453",
         "rebalance_plan_1748293668_0x9c6864105AEC23388C89600046213a44C384c831.json",
         "0x071b90e1e322F5F94F74BA7ADd453BBE8D25032B",
         "0xF37860D12eab28716C6f8d1Eb92D599Af38C8cE2",
         "69996.182874",
         "74509.4179913169",
         "75040.73777754631",
         "75047.82304572217",
         "75061.16023154261",
         "74999.99999911364",
         "0.0",
         "30752194",
         "2751763.62816",
         "fUSDC -> Aave USDC-Aave GHO",
         null,
         null,
         "('GHO', 'USDC')",
         "('USDC',)",
         "('USDC',) -> ('GHO', 'USDC')",
         "-61.16023242897063",
         "-8.154697657292457",
         "-7.0852681758551626",
         "-0.944189567653107",
         "-8.154697657292457",
         "-0.22225830664774854",
         "False",
         "0.0",
         "0.0",
         "-8.154697657292457",
         "-0.22225830664774854"
        ],
        [
         "2025-05-26 22:21:17+00:00",
         "0x8fa8d09aa4345bbbac3003290685a8b4a06d2eedeff4030149b4f26c7991fa6f",
         "0x9c6864105AEC23388C89600046213a44C384c831",
         "8453",
         "rebalance_plan_1748298009_0x9c6864105AEC23388C89600046213a44C384c831.json",
         "0x9c6864105AEC23388C89600046213a44C384c831",
         "0xF37860D12eab28716C6f8d1Eb92D599Af38C8cE2",
         "1022.6776",
         "1015.1131085828052",
         "1022.6776",
         "1022.452376357859",
         "1022.6330664911867",
         "1022.6776",
         "0.0",
         "30754365",
         "2752694.65674",
         "baseUSD -> Aave USDC-Aave GHO",
         null,
         null,
         "('GHO', 'USDC')",
         "('USDC',)",
         "('USDC',) -> ('GHO', 'USDC')",
         "0.04453350881328788",
         "0.43545990264466417",
         "0.22522364214103163",
         "2.2022936861140954",
         "0.43545990264466417",
         "0.00016178150636594272",
         "True",
         "0.43545990264466417",
         "0.00016178150636594272",
         "0.0",
         "0.0"
        ],
        [
         "2025-05-26 23:18:57+00:00",
         "0x71d5facb39bbed4fc19dd5c629c50fe9c26dbffe68569bfb239c44a0ed897407",
         "0x9c6864105AEC23388C89600046213a44C384c831",
         "8453",
         "rebalance_plan_1748301478_0x9c6864105AEC23388C89600046213a44C384c831.json",
         "0x071b90e1e322F5F94F74BA7ADd453BBE8D25032B",
         "0x30Ff0dBBd64A86C8F5Bfe905A53f0B78cBb6Fe5b",
         "69995.202995",
         "73435.99556108682",
         "75040.80720289458",
         "74981.01547169653",
         "74927.18688695025",
         "75000.13998995448",
         "0.0",
         "30756095",
         "2752632.802318",
         "fUSDC -> scrvUSDC",
         null,
         null,
         "('scrvUSD', 'USDC')",
         "('USDC',)",
         "('USDC',) -> ('scrvUSD', 'USDC')",
         "72.95310300422716",
         "9.72706224468361",
         "59.791731198041816",
         "7.967895526013938",
         "9.72706224468361",
         "0.26503027553400205",
         "False",
         "0.0",
         "0.0",
         "9.72706224468361",
         "0.26503027553400205"
        ],
        [
         "2025-05-27 02:58:27+00:00",
         "0x51d437300bf7fddf3d29e2f40878f377d3d92acdea31b762d9f033cde75e0152",
         "0x9c6864105AEC23388C89600046213a44C384c831",
         "8453",
         "rebalance_plan_1748314647_0x9c6864105AEC23388C89600046213a44C384c831.json",
         "0x071b90e1e322F5F94F74BA7ADd453BBE8D25032B",
         "0x30Ff0dBBd64A86C8F5Bfe905A53f0B78cBb6Fe5b",
         "23331.1682",
         "24475.914960878676",
         "25013.6020700702",
         "24991.15744672013",
         "24970.52425040811",
         "25000.0233301778",
         "0.0",
         "30762680",
         "2752607.897861",
         "fUSDC -> scrvUSDC",
         null,
         null,
         "('scrvUSD', 'USDC')",
         "('USDC',)",
         "('USDC',) -> ('scrvUSD', 'USDC')",
         "29.49907976968825",
         "11.79962089638516",
         "22.44462335006756",
         "8.972967302827398",
         "11.79962089638516",
         "0.10716775096304647",
         "False",
         "0.0",
         "0.0",
         "11.79962089638516",
         "0.10716775096304647"
        ],
        [
         "2025-05-27 04:20:59+00:00",
         "0x9167eafcefbf2665d95c259c3f65908d911909a72ca0a1573b350415e4ef00a6",
         "0x9c6864105AEC23388C89600046213a44C384c831",
         "8453",
         "rebalance_plan_1748319608_0x9c6864105AEC23388C89600046213a44C384c831.json",
         "0x9c6864105AEC23388C89600046213a44C384c831",
         "0xFd70A9b4cE03Dc07Fe7Ba5e4D39fac11eE8d8615",
         "101135.66485",
         "98217.96056122915",
         "101135.66485",
         "101135.62329766102",
         "101080.7194577073",
         "101135.66485",
         "0.0",
         "30765156",
         "2954855.106321",
         "baseUSD -> mwUSDC",
         null,
         null,
         "('USDC',)",
         "('USDC',)",
         "('USDC',) -> ('USDC',)",
         "54.94539229270595",
         "5.432840370822553",
         "0.04155233898200095",
         "0.004108574264442673",
         "5.432840370822553",
         "0.18594953158673413",
         "True",
         "5.432840370822553",
         "0.18594953158673413",
         "0.0",
         "0.0"
        ],
        [
         "2025-05-27 06:21:03+00:00",
         "0x24f59630c0463cfe5d4c34093a092a221f3e2c14de6cb2d911950fe7885782ed",
         "0x9c6864105AEC23388C89600046213a44C384c831",
         "8453",
         "rebalance_plan_1748326809_0x9c6864105AEC23388C89600046213a44C384c831.json",
         "0x9c6864105AEC23388C89600046213a44C384c831",
         "0xFd70A9b4cE03Dc07Fe7Ba5e4D39fac11eE8d8615",
         "50567.8324",
         "49108.53640952236",
         "50567.8324",
         "50567.79656893132",
         "50540.344897078394",
         "50567.8324",
         "0.0",
         "30768758",
         "2954842.874372",
         "baseUSD -> mwUSDC",
         null,
         null,
         "('USDC',)",
         "('USDC',)",
         "('USDC',) -> ('USDC',)",
         "27.487502921605483",
         "5.435768475139441",
         "0.035831068678817246",
         "0.0070857434416780034",
         "5.435768475139441",
         "0.09302526086923478",
         "True",
         "5.435768475139441",
         "0.09302526086923478",
         "0.0",
         "0.0"
        ],
        [
         "2025-05-27 08:21:05+00:00",
         "0x8f5cbd65d1d5bfcde2fa410b4f25b12dd55e5dce484ba240f234222b456cc14c",
         "0x9c6864105AEC23388C89600046213a44C384c831",
         "8453",
         "rebalance_plan_1748334009_0x9c6864105AEC23388C89600046213a44C384c831.json",
         "0x9c6864105AEC23388C89600046213a44C384c831",
         "0x071b90e1e322F5F94F74BA7ADd453BBE8D25032B",
         "25283.9162",
         "23582.411071",
         "25283.9162",
         "25283.90561218372",
         "25268.529880165428",
         "25283.9162",
         "0.0",
         "30772359",
         "2954837.483814",
         "baseUSD -> fUSDC",
         null,
         null,
         "('USDC',)",
         "('USDC',)",
         "('USDC',) -> ('USDC',)",
         "15.386319834571623",
         "6.0854179838531595",
         "0.010587816279439721",
         "0.004187569756080635",
         "6.0854179838531595",
         "0.0520716280298147",
         "True",
         "6.0854179838531595",
         "0.0520716280298147",
         "0.0",
         "0.0"
        ],
        [
         "2025-05-27 10:21:01+00:00",
         "0x19e45951a7bab04521ddc78258364d8a7ff9d9a4a91dead7c68adc3d699d85f5",
         "0x9c6864105AEC23388C89600046213a44C384c831",
         "8453",
         "rebalance_plan_1748341209_0x9c6864105AEC23388C89600046213a44C384c831.json",
         "0x9c6864105AEC23388C89600046213a44C384c831",
         "0xFd70A9b4cE03Dc07Fe7Ba5e4D39fac11eE8d8615",
         "52739.81545",
         "51216.915688650704",
         "52739.81545",
         "52739.79945973704",
         "52707.73767051595",
         "52739.81545",
         "0.0",
         "30775957",
         "3035013.974956",
         "baseUSD -> mwUSDC",
         null,
         null,
         "('USDC',)",
         "('USDC',)",
         "('USDC',) -> ('USDC',)",
         "32.07777948405419",
         "6.0822699530425055",
         "0.015990262960258406",
         "0.003031914849117737",
         "6.0822699530425055",
         "0.1056923617115115",
         "True",
         "6.0822699530425055",
         "0.1056923617115115",
         "0.0",
         "0.0"
        ],
        [
         "2025-05-27 12:21:03+00:00",
         "0x1eb7d079761baab822a7e51fe13d5fc0ec3d90894095748e42ae49b48dc2b3f5",
         "0x9c6864105AEC23388C89600046213a44C384c831",
         "8453",
         "rebalance_plan_1748348408_0x9c6864105AEC23388C89600046213a44C384c831.json",
         "0x9c6864105AEC23388C89600046213a44C384c831",
         "0x071b90e1e322F5F94F74BA7ADd453BBE8D25032B",
         "26369.9077",
         "24594.624037",
         "26369.9077",
         "26369.8885946147",
         "26353.852899742575",
         "26369.9077",
         "0.0",
         "30779558",
         "3035020.492851",
         "baseUSD -> fUSDC",
         null,
         null,
         "('USDC',)",
         "('USDC',)",
         "('USDC',) -> ('USDC',)",
         "16.054800257425086",
         "6.088303546631332",
         "0.019105385301372735",
         "0.0072451468236928015",
         "6.088303546631332",
         "0.052898490455804886",
         "True",
         "6.088303546631332",
         "0.052898490455804886",
         "0.0",
         "0.0"
        ],
        [
         "2025-05-27 13:55:03+00:00",
         "0x19c9dca8a8fa6d61d33d2dfa2fbe6a48742c0bca2b182c0a6030cba367e62443",
         "0x9c6864105AEC23388C89600046213a44C384c831",
         "8453",
         "rebalance_plan_1748354042_0x9c6864105AEC23388C89600046213a44C384c831.json",
         "0x9c6864105AEC23388C89600046213a44C384c831",
         "0xF37860D12eab28716C6f8d1Eb92D599Af38C8cE2",
         "10000.0",
         "9924.870268473373",
         "10000.0",
         "9996.637005384704",
         "9998.631904308668",
         "10000.0",
         "0.0",
         "30782378",
         "3035019.071362",
         "baseUSD -> Aave USDC-Aave GHO",
         null,
         null,
         "('GHO', 'USDC')",
         "('USDC',)",
         "('USDC',) -> ('GHO', 'USDC')",
         "1.3680956913322007",
         "1.3680956913322007",
         "3.3629946152959747",
         "3.3629946152959747",
         "1.3680956913322007",
         "0.0045077004762222195",
         "True",
         "1.3680956913322007",
         "0.0045077004762222195",
         "0.0",
         "0.0"
        ],
        [
         "2025-05-27 14:21:21+00:00",
         "0xa09f72c38eb23e41b336def5f8c54eb375de3cb8e90c022341c27fea068e5fc6",
         "0x9c6864105AEC23388C89600046213a44C384c831",
         "8453",
         "rebalance_plan_1748355609_0x9c6864105AEC23388C89600046213a44C384c831.json",
         "0x9c6864105AEC23388C89600046213a44C384c831",
         "0xF37860D12eab28716C6f8d1Eb92D599Af38C8cE2",
         "16369.9077",
         "16249.38888565445",
         "16369.9077",
         "16366.904466075503",
         "16370.17059324152",
         "16369.9077",
         "0.0",
         "30783167",
         "3035017.786641",
         "baseUSD -> Aave USDC-Aave GHO",
         null,
         null,
         "('GHO', 'USDC')",
         "('USDC',)",
         "('USDC',) -> ('GHO', 'USDC')",
         "-0.26289324152094196",
         "-0.16059543299742732",
         "3.003233924497181",
         "1.8346065106385303",
         "-0.16059543299742732",
         "-0.0008662000027746083",
         "True",
         "-0.16059543299742732",
         "-0.0008662000027746083",
         "0.0",
         "0.0"
        ]
       ],
       "shape": {
        "columns": 32,
        "rows": 183
       }
      },
      "text/html": [
       "<div>\n",
       "<style scoped>\n",
       "    .dataframe tbody tr th:only-of-type {\n",
       "        vertical-align: middle;\n",
       "    }\n",
       "\n",
       "    .dataframe tbody tr th {\n",
       "        vertical-align: top;\n",
       "    }\n",
       "\n",
       "    .dataframe thead th {\n",
       "        text-align: right;\n",
       "    }\n",
       "</style>\n",
       "<table border=\"1\" class=\"dataframe\">\n",
       "  <thead>\n",
       "    <tr style=\"text-align: right;\">\n",
       "      <th></th>\n",
       "      <th>tx_hash</th>\n",
       "      <th>autopool_vault_address</th>\n",
       "      <th>chain_id</th>\n",
       "      <th>rebalance_file_path</th>\n",
       "      <th>destination_out</th>\n",
       "      <th>destination_in</th>\n",
       "      <th>quantity_out</th>\n",
       "      <th>quantity_in</th>\n",
       "      <th>safe_value_out</th>\n",
       "      <th>safe_value_in</th>\n",
       "      <th>...</th>\n",
       "      <th>spot_slippage_bps</th>\n",
       "      <th>safe_swap_cost</th>\n",
       "      <th>safe_slippage_bps</th>\n",
       "      <th>swap_cost_in_bps_of_value_out</th>\n",
       "      <th>swap_cost_in_bps_of_NAV</th>\n",
       "      <th>from_idle</th>\n",
       "      <th>swap_cost_in_bps_of_value_out_from_idle</th>\n",
       "      <th>swap_cost_in_bps_of_NAV_from_idle</th>\n",
       "      <th>swap_cost_in_bps_of_value_out_not_from_idle</th>\n",
       "      <th>swap_cost_in_bps_of_NAV_not_from_idle</th>\n",
       "    </tr>\n",
       "    <tr>\n",
       "      <th>datetime</th>\n",
       "      <th></th>\n",
       "      <th></th>\n",
       "      <th></th>\n",
       "      <th></th>\n",
       "      <th></th>\n",
       "      <th></th>\n",
       "      <th></th>\n",
       "      <th></th>\n",
       "      <th></th>\n",
       "      <th></th>\n",
       "      <th></th>\n",
       "      <th></th>\n",
       "      <th></th>\n",
       "      <th></th>\n",
       "      <th></th>\n",
       "      <th></th>\n",
       "      <th></th>\n",
       "      <th></th>\n",
       "      <th></th>\n",
       "      <th></th>\n",
       "      <th></th>\n",
       "    </tr>\n",
       "  </thead>\n",
       "  <tbody>\n",
       "    <tr>\n",
       "      <th>2025-05-23 00:53:09+00:00</th>\n",
       "      <td>0x433d6de03e99adb355d45be7ef5138f1fc6dea846999...</td>\n",
       "      <td>0x9c6864105AEC23388C89600046213a44C384c831</td>\n",
       "      <td>8453</td>\n",
       "      <td>rebalance_plan_1747961531_0x9c6864105AEC23388C...</td>\n",
       "      <td>0x9c6864105AEC23388C89600046213a44C384c831</td>\n",
       "      <td>0x30Ff0dBBd64A86C8F5Bfe905A53f0B78cBb6Fe5b</td>\n",
       "      <td>1180.319100</td>\n",
       "      <td>1156.022964</td>\n",
       "      <td>1180.319100</td>\n",
       "      <td>1180.335283</td>\n",
       "      <td>...</td>\n",
       "      <td>2.174312</td>\n",
       "      <td>-0.016183</td>\n",
       "      <td>-0.137109</td>\n",
       "      <td>2.174312</td>\n",
       "      <td>2.174533</td>\n",
       "      <td>True</td>\n",
       "      <td>2.174312</td>\n",
       "      <td>2.174533</td>\n",
       "      <td>0.0</td>\n",
       "      <td>0.0</td>\n",
       "    </tr>\n",
       "    <tr>\n",
       "      <th>2025-05-23 19:03:37+00:00</th>\n",
       "      <td>0x56958c9f075abe5c1ab3db68790ba8ac714aa0663b7f...</td>\n",
       "      <td>0x9c6864105AEC23388C89600046213a44C384c831</td>\n",
       "      <td>8453</td>\n",
       "      <td>rebalance_plan_1748026944_0x9c6864105AEC23388C...</td>\n",
       "      <td>0x9c6864105AEC23388C89600046213a44C384c831</td>\n",
       "      <td>0x30Ff0dBBd64A86C8F5Bfe905A53f0B78cBb6Fe5b</td>\n",
       "      <td>24999.999999</td>\n",
       "      <td>24483.800817</td>\n",
       "      <td>24999.999999</td>\n",
       "      <td>24999.552081</td>\n",
       "      <td>...</td>\n",
       "      <td>3.499171</td>\n",
       "      <td>0.447918</td>\n",
       "      <td>0.179167</td>\n",
       "      <td>3.499171</td>\n",
       "      <td>1.718760</td>\n",
       "      <td>True</td>\n",
       "      <td>3.499171</td>\n",
       "      <td>1.718760</td>\n",
       "      <td>0.0</td>\n",
       "      <td>0.0</td>\n",
       "    </tr>\n",
       "    <tr>\n",
       "      <th>2025-05-23 19:58:13+00:00</th>\n",
       "      <td>0x988733572e02cdbd40b15a8fd147113bbbdb7328c0fe...</td>\n",
       "      <td>0x9c6864105AEC23388C89600046213a44C384c831</td>\n",
       "      <td>8453</td>\n",
       "      <td>rebalance_plan_1748030230_0x9c6864105AEC23388C...</td>\n",
       "      <td>0x9c6864105AEC23388C89600046213a44C384c831</td>\n",
       "      <td>0x30Ff0dBBd64A86C8F5Bfe905A53f0B78cBb6Fe5b</td>\n",
       "      <td>111346.036100</td>\n",
       "      <td>109021.449646</td>\n",
       "      <td>111346.036100</td>\n",
       "      <td>111319.730826</td>\n",
       "      <td>...</td>\n",
       "      <td>5.691497</td>\n",
       "      <td>26.305274</td>\n",
       "      <td>2.362480</td>\n",
       "      <td>5.691497</td>\n",
       "      <td>4.609679</td>\n",
       "      <td>True</td>\n",
       "      <td>5.691497</td>\n",
       "      <td>4.609679</td>\n",
       "      <td>0.0</td>\n",
       "      <td>0.0</td>\n",
       "    </tr>\n",
       "    <tr>\n",
       "      <th>2025-05-23 20:22:17+00:00</th>\n",
       "      <td>0xe21ce42f6cceb4a3b5dd908a0d8a9dc17da7f00a22ca...</td>\n",
       "      <td>0x9c6864105AEC23388C89600046213a44C384c831</td>\n",
       "      <td>8453</td>\n",
       "      <td>rebalance_plan_1748031680_0x9c6864105AEC23388C...</td>\n",
       "      <td>0x9c6864105AEC23388C89600046213a44C384c831</td>\n",
       "      <td>0x071b90e1e322F5F94F74BA7ADd453BBE8D25032B</td>\n",
       "      <td>24999.999999</td>\n",
       "      <td>23331.148438</td>\n",
       "      <td>24999.999999</td>\n",
       "      <td>24999.978823</td>\n",
       "      <td>...</td>\n",
       "      <td>2.332253</td>\n",
       "      <td>0.021176</td>\n",
       "      <td>0.008470</td>\n",
       "      <td>2.332253</td>\n",
       "      <td>0.318194</td>\n",
       "      <td>True</td>\n",
       "      <td>2.332253</td>\n",
       "      <td>0.318194</td>\n",
       "      <td>0.0</td>\n",
       "      <td>0.0</td>\n",
       "    </tr>\n",
       "    <tr>\n",
       "      <th>2025-05-23 21:05:29+00:00</th>\n",
       "      <td>0xc114af8b49eba2ef7e2acd69bba242fc08e7f0a3fbef...</td>\n",
       "      <td>0x9c6864105AEC23388C89600046213a44C384c831</td>\n",
       "      <td>8453</td>\n",
       "      <td>rebalance_plan_1748034325_0x9c6864105AEC23388C...</td>\n",
       "      <td>0x9c6864105AEC23388C89600046213a44C384c831</td>\n",
       "      <td>0x071b90e1e322F5F94F74BA7ADd453BBE8D25032B</td>\n",
       "      <td>83523.607850</td>\n",
       "      <td>77947.656327</td>\n",
       "      <td>83523.607850</td>\n",
       "      <td>83523.563975</td>\n",
       "      <td>...</td>\n",
       "      <td>2.338356</td>\n",
       "      <td>0.043875</td>\n",
       "      <td>0.005253</td>\n",
       "      <td>2.338356</td>\n",
       "      <td>0.592719</td>\n",
       "      <td>True</td>\n",
       "      <td>2.338356</td>\n",
       "      <td>0.592719</td>\n",
       "      <td>0.0</td>\n",
       "      <td>0.0</td>\n",
       "    </tr>\n",
       "    <tr>\n",
       "      <th>...</th>\n",
       "      <td>...</td>\n",
       "      <td>...</td>\n",
       "      <td>...</td>\n",
       "      <td>...</td>\n",
       "      <td>...</td>\n",
       "      <td>...</td>\n",
       "      <td>...</td>\n",
       "      <td>...</td>\n",
       "      <td>...</td>\n",
       "      <td>...</td>\n",
       "      <td>...</td>\n",
       "      <td>...</td>\n",
       "      <td>...</td>\n",
       "      <td>...</td>\n",
       "      <td>...</td>\n",
       "      <td>...</td>\n",
       "      <td>...</td>\n",
       "      <td>...</td>\n",
       "      <td>...</td>\n",
       "      <td>...</td>\n",
       "      <td>...</td>\n",
       "    </tr>\n",
       "    <tr>\n",
       "      <th>2025-06-04 17:20:25+00:00</th>\n",
       "      <td>0xae75a64df40d1ab81908745fe73d22699d29ef914006...</td>\n",
       "      <td>0x9c6864105AEC23388C89600046213a44C384c831</td>\n",
       "      <td>8453</td>\n",
       "      <td>rebalance_plan_1749057567_0x9c6864105AEC23388C...</td>\n",
       "      <td>0x9c6864105AEC23388C89600046213a44C384c831</td>\n",
       "      <td>0x16cbe611AF0E01ec6988b59aD3690327aD496Eb7</td>\n",
       "      <td>140302.694500</td>\n",
       "      <td>137872.398387</td>\n",
       "      <td>140302.694500</td>\n",
       "      <td>140302.675153</td>\n",
       "      <td>...</td>\n",
       "      <td>4.610140</td>\n",
       "      <td>0.019347</td>\n",
       "      <td>0.001379</td>\n",
       "      <td>4.610140</td>\n",
       "      <td>0.088652</td>\n",
       "      <td>True</td>\n",
       "      <td>4.610140</td>\n",
       "      <td>0.088652</td>\n",
       "      <td>0.0</td>\n",
       "      <td>0.0</td>\n",
       "    </tr>\n",
       "    <tr>\n",
       "      <th>2025-06-04 18:20:39+00:00</th>\n",
       "      <td>0xb0e35ed75b18ac37ce1fdc7299691152ce8fabbc5325...</td>\n",
       "      <td>0x9c6864105AEC23388C89600046213a44C384c831</td>\n",
       "      <td>8453</td>\n",
       "      <td>rebalance_plan_1749061167_0x9c6864105AEC23388C...</td>\n",
       "      <td>0x9c6864105AEC23388C89600046213a44C384c831</td>\n",
       "      <td>0xF37860D12eab28716C6f8d1Eb92D599Af38C8cE2</td>\n",
       "      <td>20000.000000</td>\n",
       "      <td>19843.206318</td>\n",
       "      <td>20000.000000</td>\n",
       "      <td>20002.229774</td>\n",
       "      <td>...</td>\n",
       "      <td>-2.622971</td>\n",
       "      <td>-2.229774</td>\n",
       "      <td>-1.114887</td>\n",
       "      <td>-2.622971</td>\n",
       "      <td>-0.007190</td>\n",
       "      <td>True</td>\n",
       "      <td>-2.622971</td>\n",
       "      <td>-0.007190</td>\n",
       "      <td>0.0</td>\n",
       "      <td>0.0</td>\n",
       "    </tr>\n",
       "    <tr>\n",
       "      <th>2025-06-04 19:20:49+00:00</th>\n",
       "      <td>0xc36ab2bc32711474007cf7533c62c430d1fc282e5067...</td>\n",
       "      <td>0x9c6864105AEC23388C89600046213a44C384c831</td>\n",
       "      <td>8453</td>\n",
       "      <td>rebalance_plan_1749064767_0x9c6864105AEC23388C...</td>\n",
       "      <td>0x9c6864105AEC23388C89600046213a44C384c831</td>\n",
       "      <td>0xF37860D12eab28716C6f8d1Eb92D599Af38C8cE2</td>\n",
       "      <td>20000.000000</td>\n",
       "      <td>19845.299022</td>\n",
       "      <td>20000.000000</td>\n",
       "      <td>20004.418629</td>\n",
       "      <td>...</td>\n",
       "      <td>-3.717557</td>\n",
       "      <td>-4.418629</td>\n",
       "      <td>-2.209315</td>\n",
       "      <td>-3.717557</td>\n",
       "      <td>-0.010189</td>\n",
       "      <td>True</td>\n",
       "      <td>-3.717557</td>\n",
       "      <td>-0.010189</td>\n",
       "      <td>0.0</td>\n",
       "      <td>0.0</td>\n",
       "    </tr>\n",
       "    <tr>\n",
       "      <th>2025-06-04 20:20:35+00:00</th>\n",
       "      <td>0x9c9c074859591b4fe60355a70ad9512455fd462e296d...</td>\n",
       "      <td>0x9c6864105AEC23388C89600046213a44C384c831</td>\n",
       "      <td>8453</td>\n",
       "      <td>rebalance_plan_1749068366_0x9c6864105AEC23388C...</td>\n",
       "      <td>0x9c6864105AEC23388C89600046213a44C384c831</td>\n",
       "      <td>0xF37860D12eab28716C6f8d1Eb92D599Af38C8cE2</td>\n",
       "      <td>20000.000000</td>\n",
       "      <td>19843.359690</td>\n",
       "      <td>20000.000000</td>\n",
       "      <td>20002.543121</td>\n",
       "      <td>...</td>\n",
       "      <td>-2.779656</td>\n",
       "      <td>-2.543121</td>\n",
       "      <td>-1.271561</td>\n",
       "      <td>-2.779656</td>\n",
       "      <td>-0.007588</td>\n",
       "      <td>True</td>\n",
       "      <td>-2.779656</td>\n",
       "      <td>-0.007588</td>\n",
       "      <td>0.0</td>\n",
       "      <td>0.0</td>\n",
       "    </tr>\n",
       "    <tr>\n",
       "      <th>2025-06-04 21:20:39+00:00</th>\n",
       "      <td>0xb88b53c5a90a4d76764e4e3bac5e5c2e97db958c0c48...</td>\n",
       "      <td>0x9c6864105AEC23388C89600046213a44C384c831</td>\n",
       "      <td>8453</td>\n",
       "      <td>rebalance_plan_1749071967_0x9c6864105AEC23388C...</td>\n",
       "      <td>0x9c6864105AEC23388C89600046213a44C384c831</td>\n",
       "      <td>0xF37860D12eab28716C6f8d1Eb92D599Af38C8cE2</td>\n",
       "      <td>20000.000000</td>\n",
       "      <td>19840.372159</td>\n",
       "      <td>20000.000000</td>\n",
       "      <td>19999.630827</td>\n",
       "      <td>...</td>\n",
       "      <td>-1.303441</td>\n",
       "      <td>0.369173</td>\n",
       "      <td>0.184587</td>\n",
       "      <td>-1.303441</td>\n",
       "      <td>-0.003558</td>\n",
       "      <td>True</td>\n",
       "      <td>-1.303441</td>\n",
       "      <td>-0.003558</td>\n",
       "      <td>0.0</td>\n",
       "      <td>0.0</td>\n",
       "    </tr>\n",
       "  </tbody>\n",
       "</table>\n",
       "<p>183 rows × 32 columns</p>\n",
       "</div>"
      ],
      "text/plain": [
       "                                                                     tx_hash  \\\n",
       "datetime                                                                       \n",
       "2025-05-23 00:53:09+00:00  0x433d6de03e99adb355d45be7ef5138f1fc6dea846999...   \n",
       "2025-05-23 19:03:37+00:00  0x56958c9f075abe5c1ab3db68790ba8ac714aa0663b7f...   \n",
       "2025-05-23 19:58:13+00:00  0x988733572e02cdbd40b15a8fd147113bbbdb7328c0fe...   \n",
       "2025-05-23 20:22:17+00:00  0xe21ce42f6cceb4a3b5dd908a0d8a9dc17da7f00a22ca...   \n",
       "2025-05-23 21:05:29+00:00  0xc114af8b49eba2ef7e2acd69bba242fc08e7f0a3fbef...   \n",
       "...                                                                      ...   \n",
       "2025-06-04 17:20:25+00:00  0xae75a64df40d1ab81908745fe73d22699d29ef914006...   \n",
       "2025-06-04 18:20:39+00:00  0xb0e35ed75b18ac37ce1fdc7299691152ce8fabbc5325...   \n",
       "2025-06-04 19:20:49+00:00  0xc36ab2bc32711474007cf7533c62c430d1fc282e5067...   \n",
       "2025-06-04 20:20:35+00:00  0x9c9c074859591b4fe60355a70ad9512455fd462e296d...   \n",
       "2025-06-04 21:20:39+00:00  0xb88b53c5a90a4d76764e4e3bac5e5c2e97db958c0c48...   \n",
       "\n",
       "                                               autopool_vault_address  \\\n",
       "datetime                                                                \n",
       "2025-05-23 00:53:09+00:00  0x9c6864105AEC23388C89600046213a44C384c831   \n",
       "2025-05-23 19:03:37+00:00  0x9c6864105AEC23388C89600046213a44C384c831   \n",
       "2025-05-23 19:58:13+00:00  0x9c6864105AEC23388C89600046213a44C384c831   \n",
       "2025-05-23 20:22:17+00:00  0x9c6864105AEC23388C89600046213a44C384c831   \n",
       "2025-05-23 21:05:29+00:00  0x9c6864105AEC23388C89600046213a44C384c831   \n",
       "...                                                               ...   \n",
       "2025-06-04 17:20:25+00:00  0x9c6864105AEC23388C89600046213a44C384c831   \n",
       "2025-06-04 18:20:39+00:00  0x9c6864105AEC23388C89600046213a44C384c831   \n",
       "2025-06-04 19:20:49+00:00  0x9c6864105AEC23388C89600046213a44C384c831   \n",
       "2025-06-04 20:20:35+00:00  0x9c6864105AEC23388C89600046213a44C384c831   \n",
       "2025-06-04 21:20:39+00:00  0x9c6864105AEC23388C89600046213a44C384c831   \n",
       "\n",
       "                           chain_id  \\\n",
       "datetime                              \n",
       "2025-05-23 00:53:09+00:00      8453   \n",
       "2025-05-23 19:03:37+00:00      8453   \n",
       "2025-05-23 19:58:13+00:00      8453   \n",
       "2025-05-23 20:22:17+00:00      8453   \n",
       "2025-05-23 21:05:29+00:00      8453   \n",
       "...                             ...   \n",
       "2025-06-04 17:20:25+00:00      8453   \n",
       "2025-06-04 18:20:39+00:00      8453   \n",
       "2025-06-04 19:20:49+00:00      8453   \n",
       "2025-06-04 20:20:35+00:00      8453   \n",
       "2025-06-04 21:20:39+00:00      8453   \n",
       "\n",
       "                                                         rebalance_file_path  \\\n",
       "datetime                                                                       \n",
       "2025-05-23 00:53:09+00:00  rebalance_plan_1747961531_0x9c6864105AEC23388C...   \n",
       "2025-05-23 19:03:37+00:00  rebalance_plan_1748026944_0x9c6864105AEC23388C...   \n",
       "2025-05-23 19:58:13+00:00  rebalance_plan_1748030230_0x9c6864105AEC23388C...   \n",
       "2025-05-23 20:22:17+00:00  rebalance_plan_1748031680_0x9c6864105AEC23388C...   \n",
       "2025-05-23 21:05:29+00:00  rebalance_plan_1748034325_0x9c6864105AEC23388C...   \n",
       "...                                                                      ...   \n",
       "2025-06-04 17:20:25+00:00  rebalance_plan_1749057567_0x9c6864105AEC23388C...   \n",
       "2025-06-04 18:20:39+00:00  rebalance_plan_1749061167_0x9c6864105AEC23388C...   \n",
       "2025-06-04 19:20:49+00:00  rebalance_plan_1749064767_0x9c6864105AEC23388C...   \n",
       "2025-06-04 20:20:35+00:00  rebalance_plan_1749068366_0x9c6864105AEC23388C...   \n",
       "2025-06-04 21:20:39+00:00  rebalance_plan_1749071967_0x9c6864105AEC23388C...   \n",
       "\n",
       "                                                      destination_out  \\\n",
       "datetime                                                                \n",
       "2025-05-23 00:53:09+00:00  0x9c6864105AEC23388C89600046213a44C384c831   \n",
       "2025-05-23 19:03:37+00:00  0x9c6864105AEC23388C89600046213a44C384c831   \n",
       "2025-05-23 19:58:13+00:00  0x9c6864105AEC23388C89600046213a44C384c831   \n",
       "2025-05-23 20:22:17+00:00  0x9c6864105AEC23388C89600046213a44C384c831   \n",
       "2025-05-23 21:05:29+00:00  0x9c6864105AEC23388C89600046213a44C384c831   \n",
       "...                                                               ...   \n",
       "2025-06-04 17:20:25+00:00  0x9c6864105AEC23388C89600046213a44C384c831   \n",
       "2025-06-04 18:20:39+00:00  0x9c6864105AEC23388C89600046213a44C384c831   \n",
       "2025-06-04 19:20:49+00:00  0x9c6864105AEC23388C89600046213a44C384c831   \n",
       "2025-06-04 20:20:35+00:00  0x9c6864105AEC23388C89600046213a44C384c831   \n",
       "2025-06-04 21:20:39+00:00  0x9c6864105AEC23388C89600046213a44C384c831   \n",
       "\n",
       "                                                       destination_in  \\\n",
       "datetime                                                                \n",
       "2025-05-23 00:53:09+00:00  0x30Ff0dBBd64A86C8F5Bfe905A53f0B78cBb6Fe5b   \n",
       "2025-05-23 19:03:37+00:00  0x30Ff0dBBd64A86C8F5Bfe905A53f0B78cBb6Fe5b   \n",
       "2025-05-23 19:58:13+00:00  0x30Ff0dBBd64A86C8F5Bfe905A53f0B78cBb6Fe5b   \n",
       "2025-05-23 20:22:17+00:00  0x071b90e1e322F5F94F74BA7ADd453BBE8D25032B   \n",
       "2025-05-23 21:05:29+00:00  0x071b90e1e322F5F94F74BA7ADd453BBE8D25032B   \n",
       "...                                                               ...   \n",
       "2025-06-04 17:20:25+00:00  0x16cbe611AF0E01ec6988b59aD3690327aD496Eb7   \n",
       "2025-06-04 18:20:39+00:00  0xF37860D12eab28716C6f8d1Eb92D599Af38C8cE2   \n",
       "2025-06-04 19:20:49+00:00  0xF37860D12eab28716C6f8d1Eb92D599Af38C8cE2   \n",
       "2025-06-04 20:20:35+00:00  0xF37860D12eab28716C6f8d1Eb92D599Af38C8cE2   \n",
       "2025-06-04 21:20:39+00:00  0xF37860D12eab28716C6f8d1Eb92D599Af38C8cE2   \n",
       "\n",
       "                            quantity_out    quantity_in  safe_value_out  \\\n",
       "datetime                                                                  \n",
       "2025-05-23 00:53:09+00:00    1180.319100    1156.022964     1180.319100   \n",
       "2025-05-23 19:03:37+00:00   24999.999999   24483.800817    24999.999999   \n",
       "2025-05-23 19:58:13+00:00  111346.036100  109021.449646   111346.036100   \n",
       "2025-05-23 20:22:17+00:00   24999.999999   23331.148438    24999.999999   \n",
       "2025-05-23 21:05:29+00:00   83523.607850   77947.656327    83523.607850   \n",
       "...                                  ...            ...             ...   \n",
       "2025-06-04 17:20:25+00:00  140302.694500  137872.398387   140302.694500   \n",
       "2025-06-04 18:20:39+00:00   20000.000000   19843.206318    20000.000000   \n",
       "2025-06-04 19:20:49+00:00   20000.000000   19845.299022    20000.000000   \n",
       "2025-06-04 20:20:35+00:00   20000.000000   19843.359690    20000.000000   \n",
       "2025-06-04 21:20:39+00:00   20000.000000   19840.372159    20000.000000   \n",
       "\n",
       "                           safe_value_in  ...  spot_slippage_bps  \\\n",
       "datetime                                  ...                      \n",
       "2025-05-23 00:53:09+00:00    1180.335283  ...           2.174312   \n",
       "2025-05-23 19:03:37+00:00   24999.552081  ...           3.499171   \n",
       "2025-05-23 19:58:13+00:00  111319.730826  ...           5.691497   \n",
       "2025-05-23 20:22:17+00:00   24999.978823  ...           2.332253   \n",
       "2025-05-23 21:05:29+00:00   83523.563975  ...           2.338356   \n",
       "...                                  ...  ...                ...   \n",
       "2025-06-04 17:20:25+00:00  140302.675153  ...           4.610140   \n",
       "2025-06-04 18:20:39+00:00   20002.229774  ...          -2.622971   \n",
       "2025-06-04 19:20:49+00:00   20004.418629  ...          -3.717557   \n",
       "2025-06-04 20:20:35+00:00   20002.543121  ...          -2.779656   \n",
       "2025-06-04 21:20:39+00:00   19999.630827  ...          -1.303441   \n",
       "\n",
       "                           safe_swap_cost  safe_slippage_bps  \\\n",
       "datetime                                                       \n",
       "2025-05-23 00:53:09+00:00       -0.016183          -0.137109   \n",
       "2025-05-23 19:03:37+00:00        0.447918           0.179167   \n",
       "2025-05-23 19:58:13+00:00       26.305274           2.362480   \n",
       "2025-05-23 20:22:17+00:00        0.021176           0.008470   \n",
       "2025-05-23 21:05:29+00:00        0.043875           0.005253   \n",
       "...                                   ...                ...   \n",
       "2025-06-04 17:20:25+00:00        0.019347           0.001379   \n",
       "2025-06-04 18:20:39+00:00       -2.229774          -1.114887   \n",
       "2025-06-04 19:20:49+00:00       -4.418629          -2.209315   \n",
       "2025-06-04 20:20:35+00:00       -2.543121          -1.271561   \n",
       "2025-06-04 21:20:39+00:00        0.369173           0.184587   \n",
       "\n",
       "                           swap_cost_in_bps_of_value_out  \\\n",
       "datetime                                                   \n",
       "2025-05-23 00:53:09+00:00                       2.174312   \n",
       "2025-05-23 19:03:37+00:00                       3.499171   \n",
       "2025-05-23 19:58:13+00:00                       5.691497   \n",
       "2025-05-23 20:22:17+00:00                       2.332253   \n",
       "2025-05-23 21:05:29+00:00                       2.338356   \n",
       "...                                                  ...   \n",
       "2025-06-04 17:20:25+00:00                       4.610140   \n",
       "2025-06-04 18:20:39+00:00                      -2.622971   \n",
       "2025-06-04 19:20:49+00:00                      -3.717557   \n",
       "2025-06-04 20:20:35+00:00                      -2.779656   \n",
       "2025-06-04 21:20:39+00:00                      -1.303441   \n",
       "\n",
       "                           swap_cost_in_bps_of_NAV from_idle  \\\n",
       "datetime                                                       \n",
       "2025-05-23 00:53:09+00:00                 2.174533      True   \n",
       "2025-05-23 19:03:37+00:00                 1.718760      True   \n",
       "2025-05-23 19:58:13+00:00                 4.609679      True   \n",
       "2025-05-23 20:22:17+00:00                 0.318194      True   \n",
       "2025-05-23 21:05:29+00:00                 0.592719      True   \n",
       "...                                            ...       ...   \n",
       "2025-06-04 17:20:25+00:00                 0.088652      True   \n",
       "2025-06-04 18:20:39+00:00                -0.007190      True   \n",
       "2025-06-04 19:20:49+00:00                -0.010189      True   \n",
       "2025-06-04 20:20:35+00:00                -0.007588      True   \n",
       "2025-06-04 21:20:39+00:00                -0.003558      True   \n",
       "\n",
       "                          swap_cost_in_bps_of_value_out_from_idle  \\\n",
       "datetime                                                            \n",
       "2025-05-23 00:53:09+00:00                                2.174312   \n",
       "2025-05-23 19:03:37+00:00                                3.499171   \n",
       "2025-05-23 19:58:13+00:00                                5.691497   \n",
       "2025-05-23 20:22:17+00:00                                2.332253   \n",
       "2025-05-23 21:05:29+00:00                                2.338356   \n",
       "...                                                           ...   \n",
       "2025-06-04 17:20:25+00:00                                4.610140   \n",
       "2025-06-04 18:20:39+00:00                               -2.622971   \n",
       "2025-06-04 19:20:49+00:00                               -3.717557   \n",
       "2025-06-04 20:20:35+00:00                               -2.779656   \n",
       "2025-06-04 21:20:39+00:00                               -1.303441   \n",
       "\n",
       "                          swap_cost_in_bps_of_NAV_from_idle  \\\n",
       "datetime                                                      \n",
       "2025-05-23 00:53:09+00:00                          2.174533   \n",
       "2025-05-23 19:03:37+00:00                          1.718760   \n",
       "2025-05-23 19:58:13+00:00                          4.609679   \n",
       "2025-05-23 20:22:17+00:00                          0.318194   \n",
       "2025-05-23 21:05:29+00:00                          0.592719   \n",
       "...                                                     ...   \n",
       "2025-06-04 17:20:25+00:00                          0.088652   \n",
       "2025-06-04 18:20:39+00:00                         -0.007190   \n",
       "2025-06-04 19:20:49+00:00                         -0.010189   \n",
       "2025-06-04 20:20:35+00:00                         -0.007588   \n",
       "2025-06-04 21:20:39+00:00                         -0.003558   \n",
       "\n",
       "                          swap_cost_in_bps_of_value_out_not_from_idle  \\\n",
       "datetime                                                                \n",
       "2025-05-23 00:53:09+00:00                                         0.0   \n",
       "2025-05-23 19:03:37+00:00                                         0.0   \n",
       "2025-05-23 19:58:13+00:00                                         0.0   \n",
       "2025-05-23 20:22:17+00:00                                         0.0   \n",
       "2025-05-23 21:05:29+00:00                                         0.0   \n",
       "...                                                               ...   \n",
       "2025-06-04 17:20:25+00:00                                         0.0   \n",
       "2025-06-04 18:20:39+00:00                                         0.0   \n",
       "2025-06-04 19:20:49+00:00                                         0.0   \n",
       "2025-06-04 20:20:35+00:00                                         0.0   \n",
       "2025-06-04 21:20:39+00:00                                         0.0   \n",
       "\n",
       "                          swap_cost_in_bps_of_NAV_not_from_idle  \n",
       "datetime                                                         \n",
       "2025-05-23 00:53:09+00:00                                   0.0  \n",
       "2025-05-23 19:03:37+00:00                                   0.0  \n",
       "2025-05-23 19:58:13+00:00                                   0.0  \n",
       "2025-05-23 20:22:17+00:00                                   0.0  \n",
       "2025-05-23 21:05:29+00:00                                   0.0  \n",
       "...                                                         ...  \n",
       "2025-06-04 17:20:25+00:00                                   0.0  \n",
       "2025-06-04 18:20:39+00:00                                   0.0  \n",
       "2025-06-04 19:20:49+00:00                                   0.0  \n",
       "2025-06-04 20:20:35+00:00                                   0.0  \n",
       "2025-06-04 21:20:39+00:00                                   0.0  \n",
       "\n",
       "[183 rows x 32 columns]"
      ]
     },
     "execution_count": 2,
     "metadata": {},
     "output_type": "execute_result"
    }
   ],
   "source": [
    "from mainnet_launch.database.schema.full import *\n",
    "from mainnet_launch.database.schema.postgres_operations import *\n",
    "import plotly.express as px\n",
    "\n",
    "from mainnet_launch.constants import *\n",
    "\n",
    "from mainnet_launch.pages.rebalance_events.rebalance_events import _load_full_rebalance_event_df, make_expoded_box_plot\n",
    "\n",
    "rebalance_df = _load_full_rebalance_event_df(BASE_USD)\n",
    "rebalance_df"
   ]
  },
  {
   "cell_type": "code",
   "execution_count": 3,
   "metadata": {},
   "outputs": [],
   "source": [
    "rebalance_df.to_csv(\n",
    "    \"/Users/pb/Documents/Github/Tokemak/v2-rebalance-dashboard/mainnet_launch/working_data/rebalance_csvs/baseUSD_rebalance_df_swap_costs.csv\"\n",
    ")"
   ]
  },
  {
   "cell_type": "code",
   "execution_count": 4,
   "metadata": {},
   "outputs": [],
   "source": [
    "import plotly.io as pio\n",
    "\n",
    "pio.templates.default = None"
   ]
  },
  {
   "cell_type": "code",
   "execution_count": 5,
   "metadata": {},
   "outputs": [
    {
     "data": {
      "application/vnd.plotly.v1+json": {
       "config": {
        "plotlyServerURL": "https://plot.ly"
       },
       "data": [
        {
         "alignmentgroup": "True",
         "hovertemplate": "variable=swap_cost_in_bps_of_NAV_from_idle<br>datetime=%{x}<br>value=%{y}<extra></extra>",
         "legendgroup": "swap_cost_in_bps_of_NAV_from_idle",
         "marker": {
          "color": "#636efa",
          "pattern": {
           "shape": ""
          }
         },
         "name": "swap_cost_in_bps_of_NAV_from_idle",
         "offsetgroup": "swap_cost_in_bps_of_NAV_from_idle",
         "orientation": "v",
         "showlegend": true,
         "textposition": "auto",
         "type": "bar",
         "x": [
          "2025-05-23T00:00:00+00:00",
          "2025-05-24T00:00:00+00:00",
          "2025-05-25T00:00:00+00:00",
          "2025-05-26T00:00:00+00:00",
          "2025-05-27T00:00:00+00:00",
          "2025-05-28T00:00:00+00:00",
          "2025-05-29T00:00:00+00:00",
          "2025-05-30T00:00:00+00:00",
          "2025-05-31T00:00:00+00:00",
          "2025-06-01T00:00:00+00:00",
          "2025-06-02T00:00:00+00:00",
          "2025-06-03T00:00:00+00:00",
          "2025-06-04T00:00:00+00:00"
         ],
         "xaxis": "x",
         "y": [
          12.038712831342147,
          3.374343097970698,
          1.5542824173166256,
          0.24484888232951035,
          0.4932787731265476,
          0.9293389085751939,
          0.6999175997791643,
          1.7659429210244284,
          0.21823146973365173,
          -0.014796084139340731,
          1.3994942754786963,
          0.3850003070395481,
          0.034707609281154884
         ],
         "yaxis": "y"
        },
        {
         "alignmentgroup": "True",
         "hovertemplate": "variable=swap_cost_in_bps_of_NAV_not_from_idle<br>datetime=%{x}<br>value=%{y}<extra></extra>",
         "legendgroup": "swap_cost_in_bps_of_NAV_not_from_idle",
         "marker": {
          "color": "#EF553B",
          "pattern": {
           "shape": ""
          }
         },
         "name": "swap_cost_in_bps_of_NAV_not_from_idle",
         "offsetgroup": "swap_cost_in_bps_of_NAV_not_from_idle",
         "orientation": "v",
         "showlegend": true,
         "textposition": "auto",
         "type": "bar",
         "x": [
          "2025-05-23T00:00:00+00:00",
          "2025-05-24T00:00:00+00:00",
          "2025-05-25T00:00:00+00:00",
          "2025-05-26T00:00:00+00:00",
          "2025-05-27T00:00:00+00:00",
          "2025-05-28T00:00:00+00:00",
          "2025-05-29T00:00:00+00:00",
          "2025-05-30T00:00:00+00:00",
          "2025-05-31T00:00:00+00:00",
          "2025-06-01T00:00:00+00:00",
          "2025-06-02T00:00:00+00:00",
          "2025-06-03T00:00:00+00:00",
          "2025-06-04T00:00:00+00:00"
         ],
         "xaxis": "x",
         "y": [
          0,
          -0.00021288126409225823,
          0,
          0.04277196888625351,
          -0.19752760093938596,
          0.16556139610290227,
          -0.24873943105356075,
          -0.28082972989850974,
          0.02655430127106516,
          -0.7328769610852829,
          -0.3737598029691822,
          -0.3027921053844473,
          -0.11818562776788927
         ],
         "yaxis": "y"
        }
       ],
       "layout": {
        "barmode": "relative",
        "legend": {
         "title": {
          "text": "variable"
         },
         "tracegroupgap": 0
        },
        "margin": {
         "t": 60
        },
        "template": {
         "data": {
          "bar": [
           {
            "error_x": {
             "color": "#2a3f5f"
            },
            "error_y": {
             "color": "#2a3f5f"
            },
            "marker": {
             "line": {
              "color": "#E5ECF6",
              "width": 0.5
             },
             "pattern": {
              "fillmode": "overlay",
              "size": 10,
              "solidity": 0.2
             }
            },
            "type": "bar"
           }
          ],
          "barpolar": [
           {
            "marker": {
             "line": {
              "color": "#E5ECF6",
              "width": 0.5
             },
             "pattern": {
              "fillmode": "overlay",
              "size": 10,
              "solidity": 0.2
             }
            },
            "type": "barpolar"
           }
          ],
          "carpet": [
           {
            "aaxis": {
             "endlinecolor": "#2a3f5f",
             "gridcolor": "white",
             "linecolor": "white",
             "minorgridcolor": "white",
             "startlinecolor": "#2a3f5f"
            },
            "baxis": {
             "endlinecolor": "#2a3f5f",
             "gridcolor": "white",
             "linecolor": "white",
             "minorgridcolor": "white",
             "startlinecolor": "#2a3f5f"
            },
            "type": "carpet"
           }
          ],
          "choropleth": [
           {
            "colorbar": {
             "outlinewidth": 0,
             "ticks": ""
            },
            "type": "choropleth"
           }
          ],
          "contour": [
           {
            "colorbar": {
             "outlinewidth": 0,
             "ticks": ""
            },
            "colorscale": [
             [
              0,
              "#0d0887"
             ],
             [
              0.1111111111111111,
              "#46039f"
             ],
             [
              0.2222222222222222,
              "#7201a8"
             ],
             [
              0.3333333333333333,
              "#9c179e"
             ],
             [
              0.4444444444444444,
              "#bd3786"
             ],
             [
              0.5555555555555556,
              "#d8576b"
             ],
             [
              0.6666666666666666,
              "#ed7953"
             ],
             [
              0.7777777777777778,
              "#fb9f3a"
             ],
             [
              0.8888888888888888,
              "#fdca26"
             ],
             [
              1,
              "#f0f921"
             ]
            ],
            "type": "contour"
           }
          ],
          "contourcarpet": [
           {
            "colorbar": {
             "outlinewidth": 0,
             "ticks": ""
            },
            "type": "contourcarpet"
           }
          ],
          "heatmap": [
           {
            "colorbar": {
             "outlinewidth": 0,
             "ticks": ""
            },
            "colorscale": [
             [
              0,
              "#0d0887"
             ],
             [
              0.1111111111111111,
              "#46039f"
             ],
             [
              0.2222222222222222,
              "#7201a8"
             ],
             [
              0.3333333333333333,
              "#9c179e"
             ],
             [
              0.4444444444444444,
              "#bd3786"
             ],
             [
              0.5555555555555556,
              "#d8576b"
             ],
             [
              0.6666666666666666,
              "#ed7953"
             ],
             [
              0.7777777777777778,
              "#fb9f3a"
             ],
             [
              0.8888888888888888,
              "#fdca26"
             ],
             [
              1,
              "#f0f921"
             ]
            ],
            "type": "heatmap"
           }
          ],
          "heatmapgl": [
           {
            "colorbar": {
             "outlinewidth": 0,
             "ticks": ""
            },
            "colorscale": [
             [
              0,
              "#0d0887"
             ],
             [
              0.1111111111111111,
              "#46039f"
             ],
             [
              0.2222222222222222,
              "#7201a8"
             ],
             [
              0.3333333333333333,
              "#9c179e"
             ],
             [
              0.4444444444444444,
              "#bd3786"
             ],
             [
              0.5555555555555556,
              "#d8576b"
             ],
             [
              0.6666666666666666,
              "#ed7953"
             ],
             [
              0.7777777777777778,
              "#fb9f3a"
             ],
             [
              0.8888888888888888,
              "#fdca26"
             ],
             [
              1,
              "#f0f921"
             ]
            ],
            "type": "heatmapgl"
           }
          ],
          "histogram": [
           {
            "marker": {
             "pattern": {
              "fillmode": "overlay",
              "size": 10,
              "solidity": 0.2
             }
            },
            "type": "histogram"
           }
          ],
          "histogram2d": [
           {
            "colorbar": {
             "outlinewidth": 0,
             "ticks": ""
            },
            "colorscale": [
             [
              0,
              "#0d0887"
             ],
             [
              0.1111111111111111,
              "#46039f"
             ],
             [
              0.2222222222222222,
              "#7201a8"
             ],
             [
              0.3333333333333333,
              "#9c179e"
             ],
             [
              0.4444444444444444,
              "#bd3786"
             ],
             [
              0.5555555555555556,
              "#d8576b"
             ],
             [
              0.6666666666666666,
              "#ed7953"
             ],
             [
              0.7777777777777778,
              "#fb9f3a"
             ],
             [
              0.8888888888888888,
              "#fdca26"
             ],
             [
              1,
              "#f0f921"
             ]
            ],
            "type": "histogram2d"
           }
          ],
          "histogram2dcontour": [
           {
            "colorbar": {
             "outlinewidth": 0,
             "ticks": ""
            },
            "colorscale": [
             [
              0,
              "#0d0887"
             ],
             [
              0.1111111111111111,
              "#46039f"
             ],
             [
              0.2222222222222222,
              "#7201a8"
             ],
             [
              0.3333333333333333,
              "#9c179e"
             ],
             [
              0.4444444444444444,
              "#bd3786"
             ],
             [
              0.5555555555555556,
              "#d8576b"
             ],
             [
              0.6666666666666666,
              "#ed7953"
             ],
             [
              0.7777777777777778,
              "#fb9f3a"
             ],
             [
              0.8888888888888888,
              "#fdca26"
             ],
             [
              1,
              "#f0f921"
             ]
            ],
            "type": "histogram2dcontour"
           }
          ],
          "mesh3d": [
           {
            "colorbar": {
             "outlinewidth": 0,
             "ticks": ""
            },
            "type": "mesh3d"
           }
          ],
          "parcoords": [
           {
            "line": {
             "colorbar": {
              "outlinewidth": 0,
              "ticks": ""
             }
            },
            "type": "parcoords"
           }
          ],
          "pie": [
           {
            "automargin": true,
            "type": "pie"
           }
          ],
          "scatter": [
           {
            "fillpattern": {
             "fillmode": "overlay",
             "size": 10,
             "solidity": 0.2
            },
            "type": "scatter"
           }
          ],
          "scatter3d": [
           {
            "line": {
             "colorbar": {
              "outlinewidth": 0,
              "ticks": ""
             }
            },
            "marker": {
             "colorbar": {
              "outlinewidth": 0,
              "ticks": ""
             }
            },
            "type": "scatter3d"
           }
          ],
          "scattercarpet": [
           {
            "marker": {
             "colorbar": {
              "outlinewidth": 0,
              "ticks": ""
             }
            },
            "type": "scattercarpet"
           }
          ],
          "scattergeo": [
           {
            "marker": {
             "colorbar": {
              "outlinewidth": 0,
              "ticks": ""
             }
            },
            "type": "scattergeo"
           }
          ],
          "scattergl": [
           {
            "marker": {
             "colorbar": {
              "outlinewidth": 0,
              "ticks": ""
             }
            },
            "type": "scattergl"
           }
          ],
          "scattermapbox": [
           {
            "marker": {
             "colorbar": {
              "outlinewidth": 0,
              "ticks": ""
             }
            },
            "type": "scattermapbox"
           }
          ],
          "scatterpolar": [
           {
            "marker": {
             "colorbar": {
              "outlinewidth": 0,
              "ticks": ""
             }
            },
            "type": "scatterpolar"
           }
          ],
          "scatterpolargl": [
           {
            "marker": {
             "colorbar": {
              "outlinewidth": 0,
              "ticks": ""
             }
            },
            "type": "scatterpolargl"
           }
          ],
          "scatterternary": [
           {
            "marker": {
             "colorbar": {
              "outlinewidth": 0,
              "ticks": ""
             }
            },
            "type": "scatterternary"
           }
          ],
          "surface": [
           {
            "colorbar": {
             "outlinewidth": 0,
             "ticks": ""
            },
            "colorscale": [
             [
              0,
              "#0d0887"
             ],
             [
              0.1111111111111111,
              "#46039f"
             ],
             [
              0.2222222222222222,
              "#7201a8"
             ],
             [
              0.3333333333333333,
              "#9c179e"
             ],
             [
              0.4444444444444444,
              "#bd3786"
             ],
             [
              0.5555555555555556,
              "#d8576b"
             ],
             [
              0.6666666666666666,
              "#ed7953"
             ],
             [
              0.7777777777777778,
              "#fb9f3a"
             ],
             [
              0.8888888888888888,
              "#fdca26"
             ],
             [
              1,
              "#f0f921"
             ]
            ],
            "type": "surface"
           }
          ],
          "table": [
           {
            "cells": {
             "fill": {
              "color": "#EBF0F8"
             },
             "line": {
              "color": "white"
             }
            },
            "header": {
             "fill": {
              "color": "#C8D4E3"
             },
             "line": {
              "color": "white"
             }
            },
            "type": "table"
           }
          ]
         },
         "layout": {
          "annotationdefaults": {
           "arrowcolor": "#2a3f5f",
           "arrowhead": 0,
           "arrowwidth": 1
          },
          "autotypenumbers": "strict",
          "coloraxis": {
           "colorbar": {
            "outlinewidth": 0,
            "ticks": ""
           }
          },
          "colorscale": {
           "diverging": [
            [
             0,
             "#8e0152"
            ],
            [
             0.1,
             "#c51b7d"
            ],
            [
             0.2,
             "#de77ae"
            ],
            [
             0.3,
             "#f1b6da"
            ],
            [
             0.4,
             "#fde0ef"
            ],
            [
             0.5,
             "#f7f7f7"
            ],
            [
             0.6,
             "#e6f5d0"
            ],
            [
             0.7,
             "#b8e186"
            ],
            [
             0.8,
             "#7fbc41"
            ],
            [
             0.9,
             "#4d9221"
            ],
            [
             1,
             "#276419"
            ]
           ],
           "sequential": [
            [
             0,
             "#0d0887"
            ],
            [
             0.1111111111111111,
             "#46039f"
            ],
            [
             0.2222222222222222,
             "#7201a8"
            ],
            [
             0.3333333333333333,
             "#9c179e"
            ],
            [
             0.4444444444444444,
             "#bd3786"
            ],
            [
             0.5555555555555556,
             "#d8576b"
            ],
            [
             0.6666666666666666,
             "#ed7953"
            ],
            [
             0.7777777777777778,
             "#fb9f3a"
            ],
            [
             0.8888888888888888,
             "#fdca26"
            ],
            [
             1,
             "#f0f921"
            ]
           ],
           "sequentialminus": [
            [
             0,
             "#0d0887"
            ],
            [
             0.1111111111111111,
             "#46039f"
            ],
            [
             0.2222222222222222,
             "#7201a8"
            ],
            [
             0.3333333333333333,
             "#9c179e"
            ],
            [
             0.4444444444444444,
             "#bd3786"
            ],
            [
             0.5555555555555556,
             "#d8576b"
            ],
            [
             0.6666666666666666,
             "#ed7953"
            ],
            [
             0.7777777777777778,
             "#fb9f3a"
            ],
            [
             0.8888888888888888,
             "#fdca26"
            ],
            [
             1,
             "#f0f921"
            ]
           ]
          },
          "colorway": [
           "#636efa",
           "#EF553B",
           "#00cc96",
           "#ab63fa",
           "#FFA15A",
           "#19d3f3",
           "#FF6692",
           "#B6E880",
           "#FF97FF",
           "#FECB52"
          ],
          "font": {
           "color": "#2a3f5f"
          },
          "geo": {
           "bgcolor": "white",
           "lakecolor": "white",
           "landcolor": "#E5ECF6",
           "showlakes": true,
           "showland": true,
           "subunitcolor": "white"
          },
          "hoverlabel": {
           "align": "left"
          },
          "hovermode": "closest",
          "mapbox": {
           "style": "light"
          },
          "paper_bgcolor": "white",
          "plot_bgcolor": "#E5ECF6",
          "polar": {
           "angularaxis": {
            "gridcolor": "white",
            "linecolor": "white",
            "ticks": ""
           },
           "bgcolor": "#E5ECF6",
           "radialaxis": {
            "gridcolor": "white",
            "linecolor": "white",
            "ticks": ""
           }
          },
          "scene": {
           "xaxis": {
            "backgroundcolor": "#E5ECF6",
            "gridcolor": "white",
            "gridwidth": 2,
            "linecolor": "white",
            "showbackground": true,
            "ticks": "",
            "zerolinecolor": "white"
           },
           "yaxis": {
            "backgroundcolor": "#E5ECF6",
            "gridcolor": "white",
            "gridwidth": 2,
            "linecolor": "white",
            "showbackground": true,
            "ticks": "",
            "zerolinecolor": "white"
           },
           "zaxis": {
            "backgroundcolor": "#E5ECF6",
            "gridcolor": "white",
            "gridwidth": 2,
            "linecolor": "white",
            "showbackground": true,
            "ticks": "",
            "zerolinecolor": "white"
           }
          },
          "shapedefaults": {
           "line": {
            "color": "#2a3f5f"
           }
          },
          "ternary": {
           "aaxis": {
            "gridcolor": "white",
            "linecolor": "white",
            "ticks": ""
           },
           "baxis": {
            "gridcolor": "white",
            "linecolor": "white",
            "ticks": ""
           },
           "bgcolor": "#E5ECF6",
           "caxis": {
            "gridcolor": "white",
            "linecolor": "white",
            "ticks": ""
           }
          },
          "title": {
           "x": 0.05
          },
          "xaxis": {
           "automargin": true,
           "gridcolor": "white",
           "linecolor": "white",
           "ticks": "",
           "title": {
            "standoff": 15
           },
           "zerolinecolor": "white",
           "zerolinewidth": 2
          },
          "yaxis": {
           "automargin": true,
           "gridcolor": "white",
           "linecolor": "white",
           "ticks": "",
           "title": {
            "standoff": 15
           },
           "zerolinecolor": "white",
           "zerolinewidth": 2
          }
         }
        },
        "xaxis": {
         "anchor": "y",
         "domain": [
          0,
          1
         ],
         "title": {
          "text": "datetime"
         }
        },
        "yaxis": {
         "anchor": "x",
         "domain": [
          0,
          1
         ],
         "title": {
          "text": "value"
         }
        }
       }
      }
     },
     "metadata": {},
     "output_type": "display_data"
    }
   ],
   "source": [
    "px.bar(\n",
    "    rebalance_df.resample(\"1d\").sum()[[\"swap_cost_in_bps_of_NAV_from_idle\", \"swap_cost_in_bps_of_NAV_not_from_idle\"]]\n",
    ")"
   ]
  },
  {
   "cell_type": "code",
   "execution_count": 17,
   "metadata": {},
   "outputs": [],
   "source": [
    "rebalance_df.groupby([\"move_name\"])[\"spot_slippage_bps\"].mean().sort_values().reset_index().to_clipboard()"
   ]
  },
  {
   "cell_type": "code",
   "execution_count": 7,
   "metadata": {},
   "outputs": [
    {
     "data": {
      "application/vnd.microsoft.datawrangler.viewer.v0+json": {
       "columns": [
        {
         "name": "index",
         "rawType": "int64",
         "type": "integer"
        },
        {
         "name": "destination_in",
         "rawType": "object",
         "type": "string"
        },
        {
         "name": "destination_out",
         "rawType": "object",
         "type": "string"
        },
        {
         "name": "spot_slippage_bps",
         "rawType": "float64",
         "type": "float"
        }
       ],
       "ref": "d574ddef-efca-4643-bbd3-bf0a81292dbc",
       "rows": [
        [
         "0",
         "0xF37860D12eab28716C6f8d1Eb92D599Af38C8cE2",
         "0x071b90e1e322F5F94F74BA7ADd453BBE8D25032B",
         "-9.114142527082983"
        ],
        [
         "1",
         "0xF37860D12eab28716C6f8d1Eb92D599Af38C8cE2",
         "0x16cbe611AF0E01ec6988b59aD3690327aD496Eb7",
         "-7.364184305637026"
        ],
        [
         "2",
         "0xF37860D12eab28716C6f8d1Eb92D599Af38C8cE2",
         "0xFd70A9b4cE03Dc07Fe7Ba5e4D39fac11eE8d8615",
         "-6.874824636926958"
        ],
        [
         "3",
         "0xF37860D12eab28716C6f8d1Eb92D599Af38C8cE2",
         "0x9c6864105AEC23388C89600046213a44C384c831",
         "-1.2519741655154846"
        ],
        [
         "4",
         "0xFd70A9b4cE03Dc07Fe7Ba5e4D39fac11eE8d8615",
         "0x16cbe611AF0E01ec6988b59aD3690327aD496Eb7",
         "-0.004271638599653084"
        ],
        [
         "5",
         "0x16cbe611AF0E01ec6988b59aD3690327aD496Eb7",
         "0xeE23855e36713579FB0af48120557dF855280B60",
         "-0.0018756830028128582"
        ],
        [
         "6",
         "0xeE23855e36713579FB0af48120557dF855280B60",
         "0x9c6864105AEC23388C89600046213a44C384c831",
         "2.332563490404686"
        ],
        [
         "7",
         "0x30Ff0dBBd64A86C8F5Bfe905A53f0B78cBb6Fe5b",
         "0x16cbe611AF0E01ec6988b59aD3690327aD496Eb7",
         "3.319324373924246"
        ],
        [
         "8",
         "0x16cbe611AF0E01ec6988b59aD3690327aD496Eb7",
         "0x9c6864105AEC23388C89600046213a44C384c831",
         "3.577271014665356"
        ],
        [
         "9",
         "0x071b90e1e322F5F94F74BA7ADd453BBE8D25032B",
         "0x9c6864105AEC23388C89600046213a44C384c831",
         "4.77129756345745"
        ],
        [
         "10",
         "0x30Ff0dBBd64A86C8F5Bfe905A53f0B78cBb6Fe5b",
         "0x071b90e1e322F5F94F74BA7ADd453BBE8D25032B",
         "6.526871022648164"
        ],
        [
         "11",
         "0xFd70A9b4cE03Dc07Fe7Ba5e4D39fac11eE8d8615",
         "0x9c6864105AEC23388C89600046213a44C384c831",
         "6.698152059440397"
        ],
        [
         "12",
         "0x30Ff0dBBd64A86C8F5Bfe905A53f0B78cBb6Fe5b",
         "0x9c6864105AEC23388C89600046213a44C384c831",
         "10.32261130775342"
        ]
       ],
       "shape": {
        "columns": 3,
        "rows": 13
       }
      },
      "text/html": [
       "<div>\n",
       "<style scoped>\n",
       "    .dataframe tbody tr th:only-of-type {\n",
       "        vertical-align: middle;\n",
       "    }\n",
       "\n",
       "    .dataframe tbody tr th {\n",
       "        vertical-align: top;\n",
       "    }\n",
       "\n",
       "    .dataframe thead th {\n",
       "        text-align: right;\n",
       "    }\n",
       "</style>\n",
       "<table border=\"1\" class=\"dataframe\">\n",
       "  <thead>\n",
       "    <tr style=\"text-align: right;\">\n",
       "      <th></th>\n",
       "      <th>destination_in</th>\n",
       "      <th>destination_out</th>\n",
       "      <th>spot_slippage_bps</th>\n",
       "    </tr>\n",
       "  </thead>\n",
       "  <tbody>\n",
       "    <tr>\n",
       "      <th>0</th>\n",
       "      <td>0xF37860D12eab28716C6f8d1Eb92D599Af38C8cE2</td>\n",
       "      <td>0x071b90e1e322F5F94F74BA7ADd453BBE8D25032B</td>\n",
       "      <td>-9.114143</td>\n",
       "    </tr>\n",
       "    <tr>\n",
       "      <th>1</th>\n",
       "      <td>0xF37860D12eab28716C6f8d1Eb92D599Af38C8cE2</td>\n",
       "      <td>0x16cbe611AF0E01ec6988b59aD3690327aD496Eb7</td>\n",
       "      <td>-7.364184</td>\n",
       "    </tr>\n",
       "    <tr>\n",
       "      <th>2</th>\n",
       "      <td>0xF37860D12eab28716C6f8d1Eb92D599Af38C8cE2</td>\n",
       "      <td>0xFd70A9b4cE03Dc07Fe7Ba5e4D39fac11eE8d8615</td>\n",
       "      <td>-6.874825</td>\n",
       "    </tr>\n",
       "    <tr>\n",
       "      <th>3</th>\n",
       "      <td>0xF37860D12eab28716C6f8d1Eb92D599Af38C8cE2</td>\n",
       "      <td>0x9c6864105AEC23388C89600046213a44C384c831</td>\n",
       "      <td>-1.251974</td>\n",
       "    </tr>\n",
       "    <tr>\n",
       "      <th>4</th>\n",
       "      <td>0xFd70A9b4cE03Dc07Fe7Ba5e4D39fac11eE8d8615</td>\n",
       "      <td>0x16cbe611AF0E01ec6988b59aD3690327aD496Eb7</td>\n",
       "      <td>-0.004272</td>\n",
       "    </tr>\n",
       "    <tr>\n",
       "      <th>5</th>\n",
       "      <td>0x16cbe611AF0E01ec6988b59aD3690327aD496Eb7</td>\n",
       "      <td>0xeE23855e36713579FB0af48120557dF855280B60</td>\n",
       "      <td>-0.001876</td>\n",
       "    </tr>\n",
       "    <tr>\n",
       "      <th>6</th>\n",
       "      <td>0xeE23855e36713579FB0af48120557dF855280B60</td>\n",
       "      <td>0x9c6864105AEC23388C89600046213a44C384c831</td>\n",
       "      <td>2.332563</td>\n",
       "    </tr>\n",
       "    <tr>\n",
       "      <th>7</th>\n",
       "      <td>0x30Ff0dBBd64A86C8F5Bfe905A53f0B78cBb6Fe5b</td>\n",
       "      <td>0x16cbe611AF0E01ec6988b59aD3690327aD496Eb7</td>\n",
       "      <td>3.319324</td>\n",
       "    </tr>\n",
       "    <tr>\n",
       "      <th>8</th>\n",
       "      <td>0x16cbe611AF0E01ec6988b59aD3690327aD496Eb7</td>\n",
       "      <td>0x9c6864105AEC23388C89600046213a44C384c831</td>\n",
       "      <td>3.577271</td>\n",
       "    </tr>\n",
       "    <tr>\n",
       "      <th>9</th>\n",
       "      <td>0x071b90e1e322F5F94F74BA7ADd453BBE8D25032B</td>\n",
       "      <td>0x9c6864105AEC23388C89600046213a44C384c831</td>\n",
       "      <td>4.771298</td>\n",
       "    </tr>\n",
       "    <tr>\n",
       "      <th>10</th>\n",
       "      <td>0x30Ff0dBBd64A86C8F5Bfe905A53f0B78cBb6Fe5b</td>\n",
       "      <td>0x071b90e1e322F5F94F74BA7ADd453BBE8D25032B</td>\n",
       "      <td>6.526871</td>\n",
       "    </tr>\n",
       "    <tr>\n",
       "      <th>11</th>\n",
       "      <td>0xFd70A9b4cE03Dc07Fe7Ba5e4D39fac11eE8d8615</td>\n",
       "      <td>0x9c6864105AEC23388C89600046213a44C384c831</td>\n",
       "      <td>6.698152</td>\n",
       "    </tr>\n",
       "    <tr>\n",
       "      <th>12</th>\n",
       "      <td>0x30Ff0dBBd64A86C8F5Bfe905A53f0B78cBb6Fe5b</td>\n",
       "      <td>0x9c6864105AEC23388C89600046213a44C384c831</td>\n",
       "      <td>10.322611</td>\n",
       "    </tr>\n",
       "  </tbody>\n",
       "</table>\n",
       "</div>"
      ],
      "text/plain": [
       "                                destination_in  \\\n",
       "0   0xF37860D12eab28716C6f8d1Eb92D599Af38C8cE2   \n",
       "1   0xF37860D12eab28716C6f8d1Eb92D599Af38C8cE2   \n",
       "2   0xF37860D12eab28716C6f8d1Eb92D599Af38C8cE2   \n",
       "3   0xF37860D12eab28716C6f8d1Eb92D599Af38C8cE2   \n",
       "4   0xFd70A9b4cE03Dc07Fe7Ba5e4D39fac11eE8d8615   \n",
       "5   0x16cbe611AF0E01ec6988b59aD3690327aD496Eb7   \n",
       "6   0xeE23855e36713579FB0af48120557dF855280B60   \n",
       "7   0x30Ff0dBBd64A86C8F5Bfe905A53f0B78cBb6Fe5b   \n",
       "8   0x16cbe611AF0E01ec6988b59aD3690327aD496Eb7   \n",
       "9   0x071b90e1e322F5F94F74BA7ADd453BBE8D25032B   \n",
       "10  0x30Ff0dBBd64A86C8F5Bfe905A53f0B78cBb6Fe5b   \n",
       "11  0xFd70A9b4cE03Dc07Fe7Ba5e4D39fac11eE8d8615   \n",
       "12  0x30Ff0dBBd64A86C8F5Bfe905A53f0B78cBb6Fe5b   \n",
       "\n",
       "                               destination_out  spot_slippage_bps  \n",
       "0   0x071b90e1e322F5F94F74BA7ADd453BBE8D25032B          -9.114143  \n",
       "1   0x16cbe611AF0E01ec6988b59aD3690327aD496Eb7          -7.364184  \n",
       "2   0xFd70A9b4cE03Dc07Fe7Ba5e4D39fac11eE8d8615          -6.874825  \n",
       "3   0x9c6864105AEC23388C89600046213a44C384c831          -1.251974  \n",
       "4   0x16cbe611AF0E01ec6988b59aD3690327aD496Eb7          -0.004272  \n",
       "5   0xeE23855e36713579FB0af48120557dF855280B60          -0.001876  \n",
       "6   0x9c6864105AEC23388C89600046213a44C384c831           2.332563  \n",
       "7   0x16cbe611AF0E01ec6988b59aD3690327aD496Eb7           3.319324  \n",
       "8   0x9c6864105AEC23388C89600046213a44C384c831           3.577271  \n",
       "9   0x9c6864105AEC23388C89600046213a44C384c831           4.771298  \n",
       "10  0x071b90e1e322F5F94F74BA7ADd453BBE8D25032B           6.526871  \n",
       "11  0x9c6864105AEC23388C89600046213a44C384c831           6.698152  \n",
       "12  0x9c6864105AEC23388C89600046213a44C384c831          10.322611  "
      ]
     },
     "execution_count": 7,
     "metadata": {},
     "output_type": "execute_result"
    }
   ],
   "source": [
    "rebalance_df.groupby([\"destination_in\", \"destination_out\"])[\"spot_slippage_bps\"].mean().sort_values().reset_index()"
   ]
  },
  {
   "cell_type": "code",
   "execution_count": 8,
   "metadata": {},
   "outputs": [
    {
     "data": {
      "application/vnd.plotly.v1+json": {
       "config": {
        "plotlyServerURL": "https://plot.ly"
       },
       "data": [
        {
         "alignmentgroup": "True",
         "hovertemplate": "variable=spot_slippage_bps<br>datetime=%{x}<br>value=%{y}<extra></extra>",
         "legendgroup": "spot_slippage_bps",
         "marker": {
          "color": "#636efa",
          "pattern": {
           "shape": ""
          }
         },
         "name": "spot_slippage_bps",
         "offsetgroup": "spot_slippage_bps",
         "orientation": "v",
         "showlegend": true,
         "textposition": "auto",
         "type": "bar",
         "x": [
          "2025-05-23T00:53:09+00:00",
          "2025-05-23T19:03:37+00:00",
          "2025-05-23T19:58:13+00:00",
          "2025-05-23T20:22:17+00:00",
          "2025-05-23T21:05:29+00:00",
          "2025-05-23T21:34:31+00:00",
          "2025-05-23T21:58:37+00:00",
          "2025-05-23T22:22:33+00:00",
          "2025-05-23T22:58:37+00:00",
          "2025-05-24T00:24:19+00:00",
          "2025-05-24T00:47:11+00:00",
          "2025-05-24T02:04:13+00:00",
          "2025-05-24T04:04:11+00:00",
          "2025-05-24T06:04:17+00:00",
          "2025-05-24T08:04:09+00:00",
          "2025-05-24T10:04:13+00:00",
          "2025-05-24T12:04:11+00:00",
          "2025-05-24T14:04:13+00:00",
          "2025-05-24T15:29:29+00:00",
          "2025-05-24T18:04:13+00:00",
          "2025-05-24T20:04:03+00:00",
          "2025-05-24T20:28:25+00:00",
          "2025-05-24T21:42:33+00:00",
          "2025-05-25T00:21:05+00:00",
          "2025-05-25T02:21:01+00:00",
          "2025-05-25T04:21:03+00:00",
          "2025-05-25T06:20:59+00:00",
          "2025-05-25T08:21:03+00:00",
          "2025-05-25T10:20:59+00:00",
          "2025-05-25T14:21:01+00:00",
          "2025-05-25T16:21:01+00:00",
          "2025-05-25T18:21:01+00:00",
          "2025-05-25T20:21:05+00:00",
          "2025-05-25T22:21:03+00:00",
          "2025-05-26T00:21:05+00:00",
          "2025-05-26T02:21:05+00:00",
          "2025-05-26T04:20:59+00:00",
          "2025-05-26T12:21:05+00:00",
          "2025-05-26T18:21:05+00:00",
          "2025-05-26T21:08:55+00:00",
          "2025-05-26T22:21:17+00:00",
          "2025-05-26T23:18:57+00:00",
          "2025-05-27T02:58:27+00:00",
          "2025-05-27T04:20:59+00:00",
          "2025-05-27T06:21:03+00:00",
          "2025-05-27T08:21:05+00:00",
          "2025-05-27T10:21:01+00:00",
          "2025-05-27T12:21:03+00:00",
          "2025-05-27T13:55:03+00:00",
          "2025-05-27T14:21:21+00:00",
          "2025-05-27T16:21:21+00:00",
          "2025-05-27T18:21:19+00:00",
          "2025-05-27T20:21:23+00:00",
          "2025-05-27T22:21:17+00:00",
          "2025-05-28T00:21:11+00:00",
          "2025-05-28T02:21:09+00:00",
          "2025-05-28T04:21:09+00:00",
          "2025-05-28T06:21:05+00:00",
          "2025-05-28T08:21:13+00:00",
          "2025-05-28T10:21:09+00:00",
          "2025-05-28T12:21:03+00:00",
          "2025-05-28T14:21:13+00:00",
          "2025-05-28T16:21:05+00:00",
          "2025-05-28T17:26:59+00:00",
          "2025-05-28T17:51:13+00:00",
          "2025-05-28T19:14:23+00:00",
          "2025-05-28T20:53:41+00:00",
          "2025-05-28T22:07:55+00:00",
          "2025-05-29T11:49:49+00:00",
          "2025-05-29T12:34:03+00:00",
          "2025-05-29T12:56:09+00:00",
          "2025-05-29T13:39:29+00:00",
          "2025-05-29T14:39:11+00:00",
          "2025-05-29T15:11:37+00:00",
          "2025-05-29T15:39:25+00:00",
          "2025-05-29T16:39:41+00:00",
          "2025-05-29T18:39:31+00:00",
          "2025-05-29T19:39:33+00:00",
          "2025-05-29T20:39:29+00:00",
          "2025-05-29T22:39:27+00:00",
          "2025-05-29T23:39:25+00:00",
          "2025-05-30T00:39:37+00:00",
          "2025-05-30T01:39:31+00:00",
          "2025-05-30T02:39:29+00:00",
          "2025-05-30T03:39:27+00:00",
          "2025-05-30T14:17:01+00:00",
          "2025-05-30T16:08:49+00:00",
          "2025-05-30T18:08:47+00:00",
          "2025-05-30T20:09:01+00:00",
          "2025-05-30T22:08:53+00:00",
          "2025-05-31T00:08:53+00:00",
          "2025-05-31T02:08:55+00:00",
          "2025-05-31T04:08:53+00:00",
          "2025-05-31T06:08:51+00:00",
          "2025-05-31T14:08:57+00:00",
          "2025-05-31T16:08:55+00:00",
          "2025-05-31T16:48:01+00:00",
          "2025-05-31T18:08:59+00:00",
          "2025-05-31T20:09:09+00:00",
          "2025-05-31T22:08:55+00:00",
          "2025-06-01T00:09:07+00:00",
          "2025-06-01T02:08:59+00:00",
          "2025-06-01T04:08:59+00:00",
          "2025-06-01T06:08:59+00:00",
          "2025-06-01T08:09:11+00:00",
          "2025-06-01T10:08:57+00:00",
          "2025-06-01T12:09:09+00:00",
          "2025-06-01T14:08:55+00:00",
          "2025-06-01T16:09:01+00:00",
          "2025-06-01T18:08:55+00:00",
          "2025-06-01T20:11:45+00:00",
          "2025-06-01T22:09:01+00:00",
          "2025-06-01T23:20:31+00:00",
          "2025-06-02T00:20:41+00:00",
          "2025-06-02T01:20:37+00:00",
          "2025-06-02T02:20:35+00:00",
          "2025-06-02T03:20:29+00:00",
          "2025-06-02T04:20:45+00:00",
          "2025-06-02T05:20:29+00:00",
          "2025-06-02T06:20:19+00:00",
          "2025-06-02T07:20:17+00:00",
          "2025-06-02T08:20:21+00:00",
          "2025-06-02T09:20:31+00:00",
          "2025-06-02T10:20:25+00:00",
          "2025-06-02T11:20:31+00:00",
          "2025-06-02T12:20:29+00:00",
          "2025-06-02T13:21:37+00:00",
          "2025-06-02T14:22:13+00:00",
          "2025-06-02T15:20:29+00:00",
          "2025-06-02T16:20:33+00:00",
          "2025-06-02T17:20:37+00:00",
          "2025-06-02T18:20:33+00:00",
          "2025-06-02T19:20:35+00:00",
          "2025-06-02T20:20:31+00:00",
          "2025-06-02T21:20:39+00:00",
          "2025-06-02T22:20:43+00:00",
          "2025-06-02T23:20:37+00:00",
          "2025-06-03T00:20:35+00:00",
          "2025-06-03T01:20:29+00:00",
          "2025-06-03T02:20:39+00:00",
          "2025-06-03T03:20:29+00:00",
          "2025-06-03T04:20:35+00:00",
          "2025-06-03T05:20:25+00:00",
          "2025-06-03T06:20:29+00:00",
          "2025-06-03T07:20:31+00:00",
          "2025-06-03T08:20:29+00:00",
          "2025-06-03T09:20:29+00:00",
          "2025-06-03T10:20:31+00:00",
          "2025-06-03T11:20:29+00:00",
          "2025-06-03T12:20:31+00:00",
          "2025-06-03T13:20:39+00:00",
          "2025-06-03T14:20:33+00:00",
          "2025-06-03T15:20:47+00:00",
          "2025-06-03T16:20:35+00:00",
          "2025-06-03T17:20:41+00:00",
          "2025-06-03T18:20:39+00:00",
          "2025-06-03T19:20:53+00:00",
          "2025-06-03T20:20:21+00:00",
          "2025-06-03T21:20:29+00:00",
          "2025-06-03T22:20:29+00:00",
          "2025-06-03T23:20:37+00:00",
          "2025-06-04T00:20:37+00:00",
          "2025-06-04T01:20:33+00:00",
          "2025-06-04T02:20:29+00:00",
          "2025-06-04T03:20:33+00:00",
          "2025-06-04T04:20:33+00:00",
          "2025-06-04T05:20:25+00:00",
          "2025-06-04T06:20:27+00:00",
          "2025-06-04T07:20:31+00:00",
          "2025-06-04T08:20:29+00:00",
          "2025-06-04T09:20:29+00:00",
          "2025-06-04T10:20:33+00:00",
          "2025-06-04T11:20:35+00:00",
          "2025-06-04T12:20:29+00:00",
          "2025-06-04T13:20:35+00:00",
          "2025-06-04T14:20:41+00:00",
          "2025-06-04T15:20:29+00:00",
          "2025-06-04T16:20:35+00:00",
          "2025-06-04T17:20:25+00:00",
          "2025-06-04T18:20:39+00:00",
          "2025-06-04T19:20:49+00:00",
          "2025-06-04T20:20:35+00:00",
          "2025-06-04T21:20:39+00:00"
         ],
         "xaxis": "x",
         "y": [
          2.174311834810704,
          3.499170541907638,
          5.691497363527156,
          2.3322525952114788,
          2.338355572619317,
          2.3364874410590164,
          12.325434121170545,
          13.033370697490158,
          14.346054602927094,
          2.3340660511124245,
          2.331623520827797,
          2.333503459981576,
          2.3113227515795276,
          12.097149993707024,
          2.69816898031884,
          2.709612809372114,
          2.681343591300105,
          2.6824515253339336,
          3.434784448854345,
          3.4320067858937096,
          3.4323829174815534,
          3.421148906354376,
          -0.0018756830028128582,
          3.4268900420776647,
          3.4270806851681868,
          3.407464110644406,
          3.407415805718965,
          3.5063023724465023,
          3.516518475653844,
          3.5008432909340756,
          3.238595441350815,
          3.228775620205547,
          3.227960121981399,
          3.227149669459837,
          3.223845386371698,
          3.2275861670777664,
          3.2228852734383806,
          5.4482478861817505,
          5.437851475116298,
          -8.154697657292457,
          0.43545990264466417,
          9.72706224468361,
          11.79962089638516,
          5.432840370822553,
          5.435768475139441,
          6.0854179838531595,
          6.0822699530425055,
          6.088303546631332,
          1.3680956913322007,
          -0.16059543299742732,
          -6.540171392107368,
          -5.334727240624489,
          -5.405104348785244,
          -5.727498762752253,
          -6.350940739507533,
          5.744001250641316,
          1.6071984415935818,
          2.8994075951831597,
          5.146626485522015,
          9.904805933821137,
          6.680963960609872,
          7.827217534559745,
          4.307655340334733,
          4.3170502322413356,
          -2.697636908844288,
          -1.7850660610638442,
          1.3769016794347988,
          10.062305242798175,
          6.0920805053882985,
          12.180089201554438,
          14.184835734957495,
          15.983977106458042,
          6.098469545453554,
          -0.7383717855617371,
          -0.234209733143766,
          -8.982205543992913,
          -3.0291546129841924,
          -1.8606479148512212,
          -1.6788595986110464,
          -8.007389170299325,
          -8.463063935486009,
          -7.302899375910964,
          -6.846374892946546,
          -8.188197219166684,
          -6.562233072224158,
          8.536321700901423,
          8.628686265525346,
          8.635138785452215,
          12.452314787924479,
          10.004465377727424,
          11.884351084692753,
          9.149602533871075,
          10.308973696645241,
          3.319324373924246,
          9.933996523138914,
          11.491518525297579,
          -3.4565271060946543,
          -2.1368228125666064,
          -1.4363125762338314,
          -2.6983662175844074,
          -1.4405828662607487,
          -0.5825873419671552,
          -0.08771651338933616,
          -8.098240428762082,
          -8.886719607531509,
          -11.027696521031775,
          -10.348923676542341,
          -0.9346606955754082,
          -9.868376017181554,
          -14.558852892468897,
          -14.744792082623437,
          -13.215524979165266,
          -12.393523828809208,
          -16.991721667798625,
          -14.3603952335726,
          -14.538325558331948,
          -12.871515227137511,
          -12.45363155287045,
          -12.2626761883988,
          10.81717030656768,
          10.80410080906859,
          8.47163914470234,
          -2.3934020399665314,
          -1.1635015455922257,
          -1.0153957027305296,
          -0.5201159486114193,
          -1.4936747442516207,
          -1.077598894295079,
          -0.4783971152930119,
          -2.9949531415259116,
          -4.539386182602426,
          -2.426955133772329,
          -4.217596396104152,
          -2.728128679462922,
          -1.5361798167338778,
          -10.623185320280752,
          -7.893409661775105,
          -8.00252750552765,
          -7.692956015947757,
          -6.913974908943693,
          1.746446535808903,
          -6.2162111689332225,
          -8.671031961645733,
          -7.097902140470626,
          1.6436406039652416,
          0.5032439884792742,
          1.3586892157666928,
          0.061821463851326065,
          1.0635581551706477,
          -9.402389217675355,
          -8.67037911066719,
          -7.665749990525328,
          -9.390487438821769,
          -9.010055649134314,
          -7.7757143345404405,
          -3.202994272353639,
          -0.004271638599653084,
          6.264016178234069,
          6.262882781530763,
          -0.20638254970799608,
          0.32212104214704596,
          0.5969291496405738,
          0.7966782061957929,
          -0.6308234198841092,
          0.11796292134264756,
          -5.281792920575183,
          -5.061382833134328,
          -6.163637644931465,
          -4.643372139390952,
          -3.1870148899944266,
          -4.063299298536077,
          -7.830185330628429,
          -6.788906384763322,
          -1.4547896209245732,
          -2.7535971493614397,
          -1.6385496612430512,
          -3.925147148876325,
          -3.2188408998833133,
          4.6101396420951035,
          -2.6229706124267977,
          -3.7175573637541675,
          -2.779655983498742,
          -1.3034412930301187
         ],
         "yaxis": "y"
        }
       ],
       "layout": {
        "barmode": "relative",
        "legend": {
         "title": {
          "text": "variable"
         },
         "tracegroupgap": 0
        },
        "margin": {
         "t": 60
        },
        "template": {
         "data": {
          "bar": [
           {
            "error_x": {
             "color": "#2a3f5f"
            },
            "error_y": {
             "color": "#2a3f5f"
            },
            "marker": {
             "line": {
              "color": "#E5ECF6",
              "width": 0.5
             },
             "pattern": {
              "fillmode": "overlay",
              "size": 10,
              "solidity": 0.2
             }
            },
            "type": "bar"
           }
          ],
          "barpolar": [
           {
            "marker": {
             "line": {
              "color": "#E5ECF6",
              "width": 0.5
             },
             "pattern": {
              "fillmode": "overlay",
              "size": 10,
              "solidity": 0.2
             }
            },
            "type": "barpolar"
           }
          ],
          "carpet": [
           {
            "aaxis": {
             "endlinecolor": "#2a3f5f",
             "gridcolor": "white",
             "linecolor": "white",
             "minorgridcolor": "white",
             "startlinecolor": "#2a3f5f"
            },
            "baxis": {
             "endlinecolor": "#2a3f5f",
             "gridcolor": "white",
             "linecolor": "white",
             "minorgridcolor": "white",
             "startlinecolor": "#2a3f5f"
            },
            "type": "carpet"
           }
          ],
          "choropleth": [
           {
            "colorbar": {
             "outlinewidth": 0,
             "ticks": ""
            },
            "type": "choropleth"
           }
          ],
          "contour": [
           {
            "colorbar": {
             "outlinewidth": 0,
             "ticks": ""
            },
            "colorscale": [
             [
              0,
              "#0d0887"
             ],
             [
              0.1111111111111111,
              "#46039f"
             ],
             [
              0.2222222222222222,
              "#7201a8"
             ],
             [
              0.3333333333333333,
              "#9c179e"
             ],
             [
              0.4444444444444444,
              "#bd3786"
             ],
             [
              0.5555555555555556,
              "#d8576b"
             ],
             [
              0.6666666666666666,
              "#ed7953"
             ],
             [
              0.7777777777777778,
              "#fb9f3a"
             ],
             [
              0.8888888888888888,
              "#fdca26"
             ],
             [
              1,
              "#f0f921"
             ]
            ],
            "type": "contour"
           }
          ],
          "contourcarpet": [
           {
            "colorbar": {
             "outlinewidth": 0,
             "ticks": ""
            },
            "type": "contourcarpet"
           }
          ],
          "heatmap": [
           {
            "colorbar": {
             "outlinewidth": 0,
             "ticks": ""
            },
            "colorscale": [
             [
              0,
              "#0d0887"
             ],
             [
              0.1111111111111111,
              "#46039f"
             ],
             [
              0.2222222222222222,
              "#7201a8"
             ],
             [
              0.3333333333333333,
              "#9c179e"
             ],
             [
              0.4444444444444444,
              "#bd3786"
             ],
             [
              0.5555555555555556,
              "#d8576b"
             ],
             [
              0.6666666666666666,
              "#ed7953"
             ],
             [
              0.7777777777777778,
              "#fb9f3a"
             ],
             [
              0.8888888888888888,
              "#fdca26"
             ],
             [
              1,
              "#f0f921"
             ]
            ],
            "type": "heatmap"
           }
          ],
          "heatmapgl": [
           {
            "colorbar": {
             "outlinewidth": 0,
             "ticks": ""
            },
            "colorscale": [
             [
              0,
              "#0d0887"
             ],
             [
              0.1111111111111111,
              "#46039f"
             ],
             [
              0.2222222222222222,
              "#7201a8"
             ],
             [
              0.3333333333333333,
              "#9c179e"
             ],
             [
              0.4444444444444444,
              "#bd3786"
             ],
             [
              0.5555555555555556,
              "#d8576b"
             ],
             [
              0.6666666666666666,
              "#ed7953"
             ],
             [
              0.7777777777777778,
              "#fb9f3a"
             ],
             [
              0.8888888888888888,
              "#fdca26"
             ],
             [
              1,
              "#f0f921"
             ]
            ],
            "type": "heatmapgl"
           }
          ],
          "histogram": [
           {
            "marker": {
             "pattern": {
              "fillmode": "overlay",
              "size": 10,
              "solidity": 0.2
             }
            },
            "type": "histogram"
           }
          ],
          "histogram2d": [
           {
            "colorbar": {
             "outlinewidth": 0,
             "ticks": ""
            },
            "colorscale": [
             [
              0,
              "#0d0887"
             ],
             [
              0.1111111111111111,
              "#46039f"
             ],
             [
              0.2222222222222222,
              "#7201a8"
             ],
             [
              0.3333333333333333,
              "#9c179e"
             ],
             [
              0.4444444444444444,
              "#bd3786"
             ],
             [
              0.5555555555555556,
              "#d8576b"
             ],
             [
              0.6666666666666666,
              "#ed7953"
             ],
             [
              0.7777777777777778,
              "#fb9f3a"
             ],
             [
              0.8888888888888888,
              "#fdca26"
             ],
             [
              1,
              "#f0f921"
             ]
            ],
            "type": "histogram2d"
           }
          ],
          "histogram2dcontour": [
           {
            "colorbar": {
             "outlinewidth": 0,
             "ticks": ""
            },
            "colorscale": [
             [
              0,
              "#0d0887"
             ],
             [
              0.1111111111111111,
              "#46039f"
             ],
             [
              0.2222222222222222,
              "#7201a8"
             ],
             [
              0.3333333333333333,
              "#9c179e"
             ],
             [
              0.4444444444444444,
              "#bd3786"
             ],
             [
              0.5555555555555556,
              "#d8576b"
             ],
             [
              0.6666666666666666,
              "#ed7953"
             ],
             [
              0.7777777777777778,
              "#fb9f3a"
             ],
             [
              0.8888888888888888,
              "#fdca26"
             ],
             [
              1,
              "#f0f921"
             ]
            ],
            "type": "histogram2dcontour"
           }
          ],
          "mesh3d": [
           {
            "colorbar": {
             "outlinewidth": 0,
             "ticks": ""
            },
            "type": "mesh3d"
           }
          ],
          "parcoords": [
           {
            "line": {
             "colorbar": {
              "outlinewidth": 0,
              "ticks": ""
             }
            },
            "type": "parcoords"
           }
          ],
          "pie": [
           {
            "automargin": true,
            "type": "pie"
           }
          ],
          "scatter": [
           {
            "fillpattern": {
             "fillmode": "overlay",
             "size": 10,
             "solidity": 0.2
            },
            "type": "scatter"
           }
          ],
          "scatter3d": [
           {
            "line": {
             "colorbar": {
              "outlinewidth": 0,
              "ticks": ""
             }
            },
            "marker": {
             "colorbar": {
              "outlinewidth": 0,
              "ticks": ""
             }
            },
            "type": "scatter3d"
           }
          ],
          "scattercarpet": [
           {
            "marker": {
             "colorbar": {
              "outlinewidth": 0,
              "ticks": ""
             }
            },
            "type": "scattercarpet"
           }
          ],
          "scattergeo": [
           {
            "marker": {
             "colorbar": {
              "outlinewidth": 0,
              "ticks": ""
             }
            },
            "type": "scattergeo"
           }
          ],
          "scattergl": [
           {
            "marker": {
             "colorbar": {
              "outlinewidth": 0,
              "ticks": ""
             }
            },
            "type": "scattergl"
           }
          ],
          "scattermapbox": [
           {
            "marker": {
             "colorbar": {
              "outlinewidth": 0,
              "ticks": ""
             }
            },
            "type": "scattermapbox"
           }
          ],
          "scatterpolar": [
           {
            "marker": {
             "colorbar": {
              "outlinewidth": 0,
              "ticks": ""
             }
            },
            "type": "scatterpolar"
           }
          ],
          "scatterpolargl": [
           {
            "marker": {
             "colorbar": {
              "outlinewidth": 0,
              "ticks": ""
             }
            },
            "type": "scatterpolargl"
           }
          ],
          "scatterternary": [
           {
            "marker": {
             "colorbar": {
              "outlinewidth": 0,
              "ticks": ""
             }
            },
            "type": "scatterternary"
           }
          ],
          "surface": [
           {
            "colorbar": {
             "outlinewidth": 0,
             "ticks": ""
            },
            "colorscale": [
             [
              0,
              "#0d0887"
             ],
             [
              0.1111111111111111,
              "#46039f"
             ],
             [
              0.2222222222222222,
              "#7201a8"
             ],
             [
              0.3333333333333333,
              "#9c179e"
             ],
             [
              0.4444444444444444,
              "#bd3786"
             ],
             [
              0.5555555555555556,
              "#d8576b"
             ],
             [
              0.6666666666666666,
              "#ed7953"
             ],
             [
              0.7777777777777778,
              "#fb9f3a"
             ],
             [
              0.8888888888888888,
              "#fdca26"
             ],
             [
              1,
              "#f0f921"
             ]
            ],
            "type": "surface"
           }
          ],
          "table": [
           {
            "cells": {
             "fill": {
              "color": "#EBF0F8"
             },
             "line": {
              "color": "white"
             }
            },
            "header": {
             "fill": {
              "color": "#C8D4E3"
             },
             "line": {
              "color": "white"
             }
            },
            "type": "table"
           }
          ]
         },
         "layout": {
          "annotationdefaults": {
           "arrowcolor": "#2a3f5f",
           "arrowhead": 0,
           "arrowwidth": 1
          },
          "autotypenumbers": "strict",
          "coloraxis": {
           "colorbar": {
            "outlinewidth": 0,
            "ticks": ""
           }
          },
          "colorscale": {
           "diverging": [
            [
             0,
             "#8e0152"
            ],
            [
             0.1,
             "#c51b7d"
            ],
            [
             0.2,
             "#de77ae"
            ],
            [
             0.3,
             "#f1b6da"
            ],
            [
             0.4,
             "#fde0ef"
            ],
            [
             0.5,
             "#f7f7f7"
            ],
            [
             0.6,
             "#e6f5d0"
            ],
            [
             0.7,
             "#b8e186"
            ],
            [
             0.8,
             "#7fbc41"
            ],
            [
             0.9,
             "#4d9221"
            ],
            [
             1,
             "#276419"
            ]
           ],
           "sequential": [
            [
             0,
             "#0d0887"
            ],
            [
             0.1111111111111111,
             "#46039f"
            ],
            [
             0.2222222222222222,
             "#7201a8"
            ],
            [
             0.3333333333333333,
             "#9c179e"
            ],
            [
             0.4444444444444444,
             "#bd3786"
            ],
            [
             0.5555555555555556,
             "#d8576b"
            ],
            [
             0.6666666666666666,
             "#ed7953"
            ],
            [
             0.7777777777777778,
             "#fb9f3a"
            ],
            [
             0.8888888888888888,
             "#fdca26"
            ],
            [
             1,
             "#f0f921"
            ]
           ],
           "sequentialminus": [
            [
             0,
             "#0d0887"
            ],
            [
             0.1111111111111111,
             "#46039f"
            ],
            [
             0.2222222222222222,
             "#7201a8"
            ],
            [
             0.3333333333333333,
             "#9c179e"
            ],
            [
             0.4444444444444444,
             "#bd3786"
            ],
            [
             0.5555555555555556,
             "#d8576b"
            ],
            [
             0.6666666666666666,
             "#ed7953"
            ],
            [
             0.7777777777777778,
             "#fb9f3a"
            ],
            [
             0.8888888888888888,
             "#fdca26"
            ],
            [
             1,
             "#f0f921"
            ]
           ]
          },
          "colorway": [
           "#636efa",
           "#EF553B",
           "#00cc96",
           "#ab63fa",
           "#FFA15A",
           "#19d3f3",
           "#FF6692",
           "#B6E880",
           "#FF97FF",
           "#FECB52"
          ],
          "font": {
           "color": "#2a3f5f"
          },
          "geo": {
           "bgcolor": "white",
           "lakecolor": "white",
           "landcolor": "#E5ECF6",
           "showlakes": true,
           "showland": true,
           "subunitcolor": "white"
          },
          "hoverlabel": {
           "align": "left"
          },
          "hovermode": "closest",
          "mapbox": {
           "style": "light"
          },
          "paper_bgcolor": "white",
          "plot_bgcolor": "#E5ECF6",
          "polar": {
           "angularaxis": {
            "gridcolor": "white",
            "linecolor": "white",
            "ticks": ""
           },
           "bgcolor": "#E5ECF6",
           "radialaxis": {
            "gridcolor": "white",
            "linecolor": "white",
            "ticks": ""
           }
          },
          "scene": {
           "xaxis": {
            "backgroundcolor": "#E5ECF6",
            "gridcolor": "white",
            "gridwidth": 2,
            "linecolor": "white",
            "showbackground": true,
            "ticks": "",
            "zerolinecolor": "white"
           },
           "yaxis": {
            "backgroundcolor": "#E5ECF6",
            "gridcolor": "white",
            "gridwidth": 2,
            "linecolor": "white",
            "showbackground": true,
            "ticks": "",
            "zerolinecolor": "white"
           },
           "zaxis": {
            "backgroundcolor": "#E5ECF6",
            "gridcolor": "white",
            "gridwidth": 2,
            "linecolor": "white",
            "showbackground": true,
            "ticks": "",
            "zerolinecolor": "white"
           }
          },
          "shapedefaults": {
           "line": {
            "color": "#2a3f5f"
           }
          },
          "ternary": {
           "aaxis": {
            "gridcolor": "white",
            "linecolor": "white",
            "ticks": ""
           },
           "baxis": {
            "gridcolor": "white",
            "linecolor": "white",
            "ticks": ""
           },
           "bgcolor": "#E5ECF6",
           "caxis": {
            "gridcolor": "white",
            "linecolor": "white",
            "ticks": ""
           }
          },
          "title": {
           "x": 0.05
          },
          "xaxis": {
           "automargin": true,
           "gridcolor": "white",
           "linecolor": "white",
           "ticks": "",
           "title": {
            "standoff": 15
           },
           "zerolinecolor": "white",
           "zerolinewidth": 2
          },
          "yaxis": {
           "automargin": true,
           "gridcolor": "white",
           "linecolor": "white",
           "ticks": "",
           "title": {
            "standoff": 15
           },
           "zerolinecolor": "white",
           "zerolinewidth": 2
          }
         }
        },
        "xaxis": {
         "anchor": "y",
         "domain": [
          0,
          1
         ],
         "title": {
          "text": "datetime"
         }
        },
        "yaxis": {
         "anchor": "x",
         "domain": [
          0,
          1
         ],
         "title": {
          "text": "value"
         }
        }
       }
      }
     },
     "metadata": {},
     "output_type": "display_data"
    }
   ],
   "source": [
    "px.bar(rebalance_df[\"spot_slippage_bps\"])"
   ]
  },
  {
   "cell_type": "code",
   "execution_count": 9,
   "metadata": {},
   "outputs": [
    {
     "data": {
      "application/vnd.plotly.v1+json": {
       "config": {
        "plotlyServerURL": "https://plot.ly"
       },
       "data": [
        {
         "alignmentgroup": "True",
         "hovertemplate": "variable=spot_swap_cost<br>datetime=%{x}<br>value=%{y}<extra></extra>",
         "legendgroup": "spot_swap_cost",
         "marker": {
          "color": "#636efa",
          "pattern": {
           "shape": ""
          }
         },
         "name": "spot_swap_cost",
         "offsetgroup": "spot_swap_cost",
         "orientation": "v",
         "showlegend": true,
         "textposition": "auto",
         "type": "bar",
         "x": [
          "2025-05-23T00:00:00+00:00",
          "2025-05-24T00:00:00+00:00",
          "2025-05-25T00:00:00+00:00",
          "2025-05-26T00:00:00+00:00",
          "2025-05-27T00:00:00+00:00",
          "2025-05-28T00:00:00+00:00",
          "2025-05-29T00:00:00+00:00",
          "2025-05-30T00:00:00+00:00",
          "2025-05-31T00:00:00+00:00",
          "2025-06-01T00:00:00+00:00",
          "2025-06-02T00:00:00+00:00",
          "2025-06-03T00:00:00+00:00",
          "2025-06-04T00:00:00+00:00"
         ],
         "xaxis": "x",
         "y": [
          187.2088455224566,
          353.8649273510964,
          354.1050281602156,
          78.59984613172162,
          84.74902306102922,
          392.3972980745557,
          181.21613118052528,
          758.6412727888091,
          122.8411913634618,
          -395.61778237440103,
          675.824994288967,
          75.82189676979851,
          -56.113057588006996
         ],
         "yaxis": "y"
        }
       ],
       "layout": {
        "barmode": "relative",
        "legend": {
         "title": {
          "text": "variable"
         },
         "tracegroupgap": 0
        },
        "margin": {
         "t": 60
        },
        "template": {
         "data": {
          "bar": [
           {
            "error_x": {
             "color": "#2a3f5f"
            },
            "error_y": {
             "color": "#2a3f5f"
            },
            "marker": {
             "line": {
              "color": "#E5ECF6",
              "width": 0.5
             },
             "pattern": {
              "fillmode": "overlay",
              "size": 10,
              "solidity": 0.2
             }
            },
            "type": "bar"
           }
          ],
          "barpolar": [
           {
            "marker": {
             "line": {
              "color": "#E5ECF6",
              "width": 0.5
             },
             "pattern": {
              "fillmode": "overlay",
              "size": 10,
              "solidity": 0.2
             }
            },
            "type": "barpolar"
           }
          ],
          "carpet": [
           {
            "aaxis": {
             "endlinecolor": "#2a3f5f",
             "gridcolor": "white",
             "linecolor": "white",
             "minorgridcolor": "white",
             "startlinecolor": "#2a3f5f"
            },
            "baxis": {
             "endlinecolor": "#2a3f5f",
             "gridcolor": "white",
             "linecolor": "white",
             "minorgridcolor": "white",
             "startlinecolor": "#2a3f5f"
            },
            "type": "carpet"
           }
          ],
          "choropleth": [
           {
            "colorbar": {
             "outlinewidth": 0,
             "ticks": ""
            },
            "type": "choropleth"
           }
          ],
          "contour": [
           {
            "colorbar": {
             "outlinewidth": 0,
             "ticks": ""
            },
            "colorscale": [
             [
              0,
              "#0d0887"
             ],
             [
              0.1111111111111111,
              "#46039f"
             ],
             [
              0.2222222222222222,
              "#7201a8"
             ],
             [
              0.3333333333333333,
              "#9c179e"
             ],
             [
              0.4444444444444444,
              "#bd3786"
             ],
             [
              0.5555555555555556,
              "#d8576b"
             ],
             [
              0.6666666666666666,
              "#ed7953"
             ],
             [
              0.7777777777777778,
              "#fb9f3a"
             ],
             [
              0.8888888888888888,
              "#fdca26"
             ],
             [
              1,
              "#f0f921"
             ]
            ],
            "type": "contour"
           }
          ],
          "contourcarpet": [
           {
            "colorbar": {
             "outlinewidth": 0,
             "ticks": ""
            },
            "type": "contourcarpet"
           }
          ],
          "heatmap": [
           {
            "colorbar": {
             "outlinewidth": 0,
             "ticks": ""
            },
            "colorscale": [
             [
              0,
              "#0d0887"
             ],
             [
              0.1111111111111111,
              "#46039f"
             ],
             [
              0.2222222222222222,
              "#7201a8"
             ],
             [
              0.3333333333333333,
              "#9c179e"
             ],
             [
              0.4444444444444444,
              "#bd3786"
             ],
             [
              0.5555555555555556,
              "#d8576b"
             ],
             [
              0.6666666666666666,
              "#ed7953"
             ],
             [
              0.7777777777777778,
              "#fb9f3a"
             ],
             [
              0.8888888888888888,
              "#fdca26"
             ],
             [
              1,
              "#f0f921"
             ]
            ],
            "type": "heatmap"
           }
          ],
          "heatmapgl": [
           {
            "colorbar": {
             "outlinewidth": 0,
             "ticks": ""
            },
            "colorscale": [
             [
              0,
              "#0d0887"
             ],
             [
              0.1111111111111111,
              "#46039f"
             ],
             [
              0.2222222222222222,
              "#7201a8"
             ],
             [
              0.3333333333333333,
              "#9c179e"
             ],
             [
              0.4444444444444444,
              "#bd3786"
             ],
             [
              0.5555555555555556,
              "#d8576b"
             ],
             [
              0.6666666666666666,
              "#ed7953"
             ],
             [
              0.7777777777777778,
              "#fb9f3a"
             ],
             [
              0.8888888888888888,
              "#fdca26"
             ],
             [
              1,
              "#f0f921"
             ]
            ],
            "type": "heatmapgl"
           }
          ],
          "histogram": [
           {
            "marker": {
             "pattern": {
              "fillmode": "overlay",
              "size": 10,
              "solidity": 0.2
             }
            },
            "type": "histogram"
           }
          ],
          "histogram2d": [
           {
            "colorbar": {
             "outlinewidth": 0,
             "ticks": ""
            },
            "colorscale": [
             [
              0,
              "#0d0887"
             ],
             [
              0.1111111111111111,
              "#46039f"
             ],
             [
              0.2222222222222222,
              "#7201a8"
             ],
             [
              0.3333333333333333,
              "#9c179e"
             ],
             [
              0.4444444444444444,
              "#bd3786"
             ],
             [
              0.5555555555555556,
              "#d8576b"
             ],
             [
              0.6666666666666666,
              "#ed7953"
             ],
             [
              0.7777777777777778,
              "#fb9f3a"
             ],
             [
              0.8888888888888888,
              "#fdca26"
             ],
             [
              1,
              "#f0f921"
             ]
            ],
            "type": "histogram2d"
           }
          ],
          "histogram2dcontour": [
           {
            "colorbar": {
             "outlinewidth": 0,
             "ticks": ""
            },
            "colorscale": [
             [
              0,
              "#0d0887"
             ],
             [
              0.1111111111111111,
              "#46039f"
             ],
             [
              0.2222222222222222,
              "#7201a8"
             ],
             [
              0.3333333333333333,
              "#9c179e"
             ],
             [
              0.4444444444444444,
              "#bd3786"
             ],
             [
              0.5555555555555556,
              "#d8576b"
             ],
             [
              0.6666666666666666,
              "#ed7953"
             ],
             [
              0.7777777777777778,
              "#fb9f3a"
             ],
             [
              0.8888888888888888,
              "#fdca26"
             ],
             [
              1,
              "#f0f921"
             ]
            ],
            "type": "histogram2dcontour"
           }
          ],
          "mesh3d": [
           {
            "colorbar": {
             "outlinewidth": 0,
             "ticks": ""
            },
            "type": "mesh3d"
           }
          ],
          "parcoords": [
           {
            "line": {
             "colorbar": {
              "outlinewidth": 0,
              "ticks": ""
             }
            },
            "type": "parcoords"
           }
          ],
          "pie": [
           {
            "automargin": true,
            "type": "pie"
           }
          ],
          "scatter": [
           {
            "fillpattern": {
             "fillmode": "overlay",
             "size": 10,
             "solidity": 0.2
            },
            "type": "scatter"
           }
          ],
          "scatter3d": [
           {
            "line": {
             "colorbar": {
              "outlinewidth": 0,
              "ticks": ""
             }
            },
            "marker": {
             "colorbar": {
              "outlinewidth": 0,
              "ticks": ""
             }
            },
            "type": "scatter3d"
           }
          ],
          "scattercarpet": [
           {
            "marker": {
             "colorbar": {
              "outlinewidth": 0,
              "ticks": ""
             }
            },
            "type": "scattercarpet"
           }
          ],
          "scattergeo": [
           {
            "marker": {
             "colorbar": {
              "outlinewidth": 0,
              "ticks": ""
             }
            },
            "type": "scattergeo"
           }
          ],
          "scattergl": [
           {
            "marker": {
             "colorbar": {
              "outlinewidth": 0,
              "ticks": ""
             }
            },
            "type": "scattergl"
           }
          ],
          "scattermapbox": [
           {
            "marker": {
             "colorbar": {
              "outlinewidth": 0,
              "ticks": ""
             }
            },
            "type": "scattermapbox"
           }
          ],
          "scatterpolar": [
           {
            "marker": {
             "colorbar": {
              "outlinewidth": 0,
              "ticks": ""
             }
            },
            "type": "scatterpolar"
           }
          ],
          "scatterpolargl": [
           {
            "marker": {
             "colorbar": {
              "outlinewidth": 0,
              "ticks": ""
             }
            },
            "type": "scatterpolargl"
           }
          ],
          "scatterternary": [
           {
            "marker": {
             "colorbar": {
              "outlinewidth": 0,
              "ticks": ""
             }
            },
            "type": "scatterternary"
           }
          ],
          "surface": [
           {
            "colorbar": {
             "outlinewidth": 0,
             "ticks": ""
            },
            "colorscale": [
             [
              0,
              "#0d0887"
             ],
             [
              0.1111111111111111,
              "#46039f"
             ],
             [
              0.2222222222222222,
              "#7201a8"
             ],
             [
              0.3333333333333333,
              "#9c179e"
             ],
             [
              0.4444444444444444,
              "#bd3786"
             ],
             [
              0.5555555555555556,
              "#d8576b"
             ],
             [
              0.6666666666666666,
              "#ed7953"
             ],
             [
              0.7777777777777778,
              "#fb9f3a"
             ],
             [
              0.8888888888888888,
              "#fdca26"
             ],
             [
              1,
              "#f0f921"
             ]
            ],
            "type": "surface"
           }
          ],
          "table": [
           {
            "cells": {
             "fill": {
              "color": "#EBF0F8"
             },
             "line": {
              "color": "white"
             }
            },
            "header": {
             "fill": {
              "color": "#C8D4E3"
             },
             "line": {
              "color": "white"
             }
            },
            "type": "table"
           }
          ]
         },
         "layout": {
          "annotationdefaults": {
           "arrowcolor": "#2a3f5f",
           "arrowhead": 0,
           "arrowwidth": 1
          },
          "autotypenumbers": "strict",
          "coloraxis": {
           "colorbar": {
            "outlinewidth": 0,
            "ticks": ""
           }
          },
          "colorscale": {
           "diverging": [
            [
             0,
             "#8e0152"
            ],
            [
             0.1,
             "#c51b7d"
            ],
            [
             0.2,
             "#de77ae"
            ],
            [
             0.3,
             "#f1b6da"
            ],
            [
             0.4,
             "#fde0ef"
            ],
            [
             0.5,
             "#f7f7f7"
            ],
            [
             0.6,
             "#e6f5d0"
            ],
            [
             0.7,
             "#b8e186"
            ],
            [
             0.8,
             "#7fbc41"
            ],
            [
             0.9,
             "#4d9221"
            ],
            [
             1,
             "#276419"
            ]
           ],
           "sequential": [
            [
             0,
             "#0d0887"
            ],
            [
             0.1111111111111111,
             "#46039f"
            ],
            [
             0.2222222222222222,
             "#7201a8"
            ],
            [
             0.3333333333333333,
             "#9c179e"
            ],
            [
             0.4444444444444444,
             "#bd3786"
            ],
            [
             0.5555555555555556,
             "#d8576b"
            ],
            [
             0.6666666666666666,
             "#ed7953"
            ],
            [
             0.7777777777777778,
             "#fb9f3a"
            ],
            [
             0.8888888888888888,
             "#fdca26"
            ],
            [
             1,
             "#f0f921"
            ]
           ],
           "sequentialminus": [
            [
             0,
             "#0d0887"
            ],
            [
             0.1111111111111111,
             "#46039f"
            ],
            [
             0.2222222222222222,
             "#7201a8"
            ],
            [
             0.3333333333333333,
             "#9c179e"
            ],
            [
             0.4444444444444444,
             "#bd3786"
            ],
            [
             0.5555555555555556,
             "#d8576b"
            ],
            [
             0.6666666666666666,
             "#ed7953"
            ],
            [
             0.7777777777777778,
             "#fb9f3a"
            ],
            [
             0.8888888888888888,
             "#fdca26"
            ],
            [
             1,
             "#f0f921"
            ]
           ]
          },
          "colorway": [
           "#636efa",
           "#EF553B",
           "#00cc96",
           "#ab63fa",
           "#FFA15A",
           "#19d3f3",
           "#FF6692",
           "#B6E880",
           "#FF97FF",
           "#FECB52"
          ],
          "font": {
           "color": "#2a3f5f"
          },
          "geo": {
           "bgcolor": "white",
           "lakecolor": "white",
           "landcolor": "#E5ECF6",
           "showlakes": true,
           "showland": true,
           "subunitcolor": "white"
          },
          "hoverlabel": {
           "align": "left"
          },
          "hovermode": "closest",
          "mapbox": {
           "style": "light"
          },
          "paper_bgcolor": "white",
          "plot_bgcolor": "#E5ECF6",
          "polar": {
           "angularaxis": {
            "gridcolor": "white",
            "linecolor": "white",
            "ticks": ""
           },
           "bgcolor": "#E5ECF6",
           "radialaxis": {
            "gridcolor": "white",
            "linecolor": "white",
            "ticks": ""
           }
          },
          "scene": {
           "xaxis": {
            "backgroundcolor": "#E5ECF6",
            "gridcolor": "white",
            "gridwidth": 2,
            "linecolor": "white",
            "showbackground": true,
            "ticks": "",
            "zerolinecolor": "white"
           },
           "yaxis": {
            "backgroundcolor": "#E5ECF6",
            "gridcolor": "white",
            "gridwidth": 2,
            "linecolor": "white",
            "showbackground": true,
            "ticks": "",
            "zerolinecolor": "white"
           },
           "zaxis": {
            "backgroundcolor": "#E5ECF6",
            "gridcolor": "white",
            "gridwidth": 2,
            "linecolor": "white",
            "showbackground": true,
            "ticks": "",
            "zerolinecolor": "white"
           }
          },
          "shapedefaults": {
           "line": {
            "color": "#2a3f5f"
           }
          },
          "ternary": {
           "aaxis": {
            "gridcolor": "white",
            "linecolor": "white",
            "ticks": ""
           },
           "baxis": {
            "gridcolor": "white",
            "linecolor": "white",
            "ticks": ""
           },
           "bgcolor": "#E5ECF6",
           "caxis": {
            "gridcolor": "white",
            "linecolor": "white",
            "ticks": ""
           }
          },
          "title": {
           "x": 0.05
          },
          "xaxis": {
           "automargin": true,
           "gridcolor": "white",
           "linecolor": "white",
           "ticks": "",
           "title": {
            "standoff": 15
           },
           "zerolinecolor": "white",
           "zerolinewidth": 2
          },
          "yaxis": {
           "automargin": true,
           "gridcolor": "white",
           "linecolor": "white",
           "ticks": "",
           "title": {
            "standoff": 15
           },
           "zerolinecolor": "white",
           "zerolinewidth": 2
          }
         }
        },
        "xaxis": {
         "anchor": "y",
         "domain": [
          0,
          1
         ],
         "title": {
          "text": "datetime"
         }
        },
        "yaxis": {
         "anchor": "x",
         "domain": [
          0,
          1
         ],
         "title": {
          "text": "value"
         }
        }
       }
      }
     },
     "metadata": {},
     "output_type": "display_data"
    }
   ],
   "source": [
    "px.bar(rebalance_df.resample(\"1d\").sum()[\"spot_swap_cost\"])"
   ]
  },
  {
   "cell_type": "code",
   "execution_count": 10,
   "metadata": {},
   "outputs": [
    {
     "data": {
      "application/vnd.plotly.v1+json": {
       "config": {
        "plotlyServerURL": "https://plot.ly"
       },
       "data": [
        {
         "alignmentgroup": "True",
         "hovertemplate": "variable=swap_cost_in_bps_of_NAV_from_idle<br>datetime=%{x}<br>value=%{y}<extra></extra>",
         "legendgroup": "swap_cost_in_bps_of_NAV_from_idle",
         "marker": {
          "color": "#636efa",
          "pattern": {
           "shape": ""
          }
         },
         "name": "swap_cost_in_bps_of_NAV_from_idle",
         "offsetgroup": "swap_cost_in_bps_of_NAV_from_idle",
         "orientation": "v",
         "showlegend": true,
         "textposition": "auto",
         "type": "bar",
         "x": [
          "2025-05-23T00:00:00+00:00",
          "2025-05-24T00:00:00+00:00",
          "2025-05-25T00:00:00+00:00",
          "2025-05-26T00:00:00+00:00",
          "2025-05-27T00:00:00+00:00",
          "2025-05-28T00:00:00+00:00",
          "2025-05-29T00:00:00+00:00",
          "2025-05-30T00:00:00+00:00",
          "2025-05-31T00:00:00+00:00",
          "2025-06-01T00:00:00+00:00",
          "2025-06-02T00:00:00+00:00",
          "2025-06-03T00:00:00+00:00",
          "2025-06-04T00:00:00+00:00"
         ],
         "xaxis": "x",
         "y": [
          12.038712831342147,
          3.374343097970698,
          1.5542824173166256,
          0.24484888232951035,
          0.4932787731265476,
          0.9293389085751939,
          0.6999175997791643,
          1.7659429210244284,
          0.21823146973365173,
          -0.014796084139340731,
          1.3994942754786963,
          0.3850003070395481,
          0.034707609281154884
         ],
         "yaxis": "y"
        },
        {
         "alignmentgroup": "True",
         "hovertemplate": "variable=swap_cost_in_bps_of_NAV_not_from_idle<br>datetime=%{x}<br>value=%{y}<extra></extra>",
         "legendgroup": "swap_cost_in_bps_of_NAV_not_from_idle",
         "marker": {
          "color": "#EF553B",
          "pattern": {
           "shape": ""
          }
         },
         "name": "swap_cost_in_bps_of_NAV_not_from_idle",
         "offsetgroup": "swap_cost_in_bps_of_NAV_not_from_idle",
         "orientation": "v",
         "showlegend": true,
         "textposition": "auto",
         "type": "bar",
         "x": [
          "2025-05-23T00:00:00+00:00",
          "2025-05-24T00:00:00+00:00",
          "2025-05-25T00:00:00+00:00",
          "2025-05-26T00:00:00+00:00",
          "2025-05-27T00:00:00+00:00",
          "2025-05-28T00:00:00+00:00",
          "2025-05-29T00:00:00+00:00",
          "2025-05-30T00:00:00+00:00",
          "2025-05-31T00:00:00+00:00",
          "2025-06-01T00:00:00+00:00",
          "2025-06-02T00:00:00+00:00",
          "2025-06-03T00:00:00+00:00",
          "2025-06-04T00:00:00+00:00"
         ],
         "xaxis": "x",
         "y": [
          0,
          -0.00021288126409225823,
          0,
          0.04277196888625351,
          -0.19752760093938596,
          0.16556139610290227,
          -0.24873943105356075,
          -0.28082972989850974,
          0.02655430127106516,
          -0.7328769610852829,
          -0.3737598029691822,
          -0.3027921053844473,
          -0.11818562776788927
         ],
         "yaxis": "y"
        }
       ],
       "layout": {
        "barmode": "relative",
        "legend": {
         "title": {
          "text": "variable"
         },
         "tracegroupgap": 0
        },
        "margin": {
         "t": 60
        },
        "template": {
         "data": {
          "bar": [
           {
            "error_x": {
             "color": "#2a3f5f"
            },
            "error_y": {
             "color": "#2a3f5f"
            },
            "marker": {
             "line": {
              "color": "#E5ECF6",
              "width": 0.5
             },
             "pattern": {
              "fillmode": "overlay",
              "size": 10,
              "solidity": 0.2
             }
            },
            "type": "bar"
           }
          ],
          "barpolar": [
           {
            "marker": {
             "line": {
              "color": "#E5ECF6",
              "width": 0.5
             },
             "pattern": {
              "fillmode": "overlay",
              "size": 10,
              "solidity": 0.2
             }
            },
            "type": "barpolar"
           }
          ],
          "carpet": [
           {
            "aaxis": {
             "endlinecolor": "#2a3f5f",
             "gridcolor": "white",
             "linecolor": "white",
             "minorgridcolor": "white",
             "startlinecolor": "#2a3f5f"
            },
            "baxis": {
             "endlinecolor": "#2a3f5f",
             "gridcolor": "white",
             "linecolor": "white",
             "minorgridcolor": "white",
             "startlinecolor": "#2a3f5f"
            },
            "type": "carpet"
           }
          ],
          "choropleth": [
           {
            "colorbar": {
             "outlinewidth": 0,
             "ticks": ""
            },
            "type": "choropleth"
           }
          ],
          "contour": [
           {
            "colorbar": {
             "outlinewidth": 0,
             "ticks": ""
            },
            "colorscale": [
             [
              0,
              "#0d0887"
             ],
             [
              0.1111111111111111,
              "#46039f"
             ],
             [
              0.2222222222222222,
              "#7201a8"
             ],
             [
              0.3333333333333333,
              "#9c179e"
             ],
             [
              0.4444444444444444,
              "#bd3786"
             ],
             [
              0.5555555555555556,
              "#d8576b"
             ],
             [
              0.6666666666666666,
              "#ed7953"
             ],
             [
              0.7777777777777778,
              "#fb9f3a"
             ],
             [
              0.8888888888888888,
              "#fdca26"
             ],
             [
              1,
              "#f0f921"
             ]
            ],
            "type": "contour"
           }
          ],
          "contourcarpet": [
           {
            "colorbar": {
             "outlinewidth": 0,
             "ticks": ""
            },
            "type": "contourcarpet"
           }
          ],
          "heatmap": [
           {
            "colorbar": {
             "outlinewidth": 0,
             "ticks": ""
            },
            "colorscale": [
             [
              0,
              "#0d0887"
             ],
             [
              0.1111111111111111,
              "#46039f"
             ],
             [
              0.2222222222222222,
              "#7201a8"
             ],
             [
              0.3333333333333333,
              "#9c179e"
             ],
             [
              0.4444444444444444,
              "#bd3786"
             ],
             [
              0.5555555555555556,
              "#d8576b"
             ],
             [
              0.6666666666666666,
              "#ed7953"
             ],
             [
              0.7777777777777778,
              "#fb9f3a"
             ],
             [
              0.8888888888888888,
              "#fdca26"
             ],
             [
              1,
              "#f0f921"
             ]
            ],
            "type": "heatmap"
           }
          ],
          "heatmapgl": [
           {
            "colorbar": {
             "outlinewidth": 0,
             "ticks": ""
            },
            "colorscale": [
             [
              0,
              "#0d0887"
             ],
             [
              0.1111111111111111,
              "#46039f"
             ],
             [
              0.2222222222222222,
              "#7201a8"
             ],
             [
              0.3333333333333333,
              "#9c179e"
             ],
             [
              0.4444444444444444,
              "#bd3786"
             ],
             [
              0.5555555555555556,
              "#d8576b"
             ],
             [
              0.6666666666666666,
              "#ed7953"
             ],
             [
              0.7777777777777778,
              "#fb9f3a"
             ],
             [
              0.8888888888888888,
              "#fdca26"
             ],
             [
              1,
              "#f0f921"
             ]
            ],
            "type": "heatmapgl"
           }
          ],
          "histogram": [
           {
            "marker": {
             "pattern": {
              "fillmode": "overlay",
              "size": 10,
              "solidity": 0.2
             }
            },
            "type": "histogram"
           }
          ],
          "histogram2d": [
           {
            "colorbar": {
             "outlinewidth": 0,
             "ticks": ""
            },
            "colorscale": [
             [
              0,
              "#0d0887"
             ],
             [
              0.1111111111111111,
              "#46039f"
             ],
             [
              0.2222222222222222,
              "#7201a8"
             ],
             [
              0.3333333333333333,
              "#9c179e"
             ],
             [
              0.4444444444444444,
              "#bd3786"
             ],
             [
              0.5555555555555556,
              "#d8576b"
             ],
             [
              0.6666666666666666,
              "#ed7953"
             ],
             [
              0.7777777777777778,
              "#fb9f3a"
             ],
             [
              0.8888888888888888,
              "#fdca26"
             ],
             [
              1,
              "#f0f921"
             ]
            ],
            "type": "histogram2d"
           }
          ],
          "histogram2dcontour": [
           {
            "colorbar": {
             "outlinewidth": 0,
             "ticks": ""
            },
            "colorscale": [
             [
              0,
              "#0d0887"
             ],
             [
              0.1111111111111111,
              "#46039f"
             ],
             [
              0.2222222222222222,
              "#7201a8"
             ],
             [
              0.3333333333333333,
              "#9c179e"
             ],
             [
              0.4444444444444444,
              "#bd3786"
             ],
             [
              0.5555555555555556,
              "#d8576b"
             ],
             [
              0.6666666666666666,
              "#ed7953"
             ],
             [
              0.7777777777777778,
              "#fb9f3a"
             ],
             [
              0.8888888888888888,
              "#fdca26"
             ],
             [
              1,
              "#f0f921"
             ]
            ],
            "type": "histogram2dcontour"
           }
          ],
          "mesh3d": [
           {
            "colorbar": {
             "outlinewidth": 0,
             "ticks": ""
            },
            "type": "mesh3d"
           }
          ],
          "parcoords": [
           {
            "line": {
             "colorbar": {
              "outlinewidth": 0,
              "ticks": ""
             }
            },
            "type": "parcoords"
           }
          ],
          "pie": [
           {
            "automargin": true,
            "type": "pie"
           }
          ],
          "scatter": [
           {
            "fillpattern": {
             "fillmode": "overlay",
             "size": 10,
             "solidity": 0.2
            },
            "type": "scatter"
           }
          ],
          "scatter3d": [
           {
            "line": {
             "colorbar": {
              "outlinewidth": 0,
              "ticks": ""
             }
            },
            "marker": {
             "colorbar": {
              "outlinewidth": 0,
              "ticks": ""
             }
            },
            "type": "scatter3d"
           }
          ],
          "scattercarpet": [
           {
            "marker": {
             "colorbar": {
              "outlinewidth": 0,
              "ticks": ""
             }
            },
            "type": "scattercarpet"
           }
          ],
          "scattergeo": [
           {
            "marker": {
             "colorbar": {
              "outlinewidth": 0,
              "ticks": ""
             }
            },
            "type": "scattergeo"
           }
          ],
          "scattergl": [
           {
            "marker": {
             "colorbar": {
              "outlinewidth": 0,
              "ticks": ""
             }
            },
            "type": "scattergl"
           }
          ],
          "scattermapbox": [
           {
            "marker": {
             "colorbar": {
              "outlinewidth": 0,
              "ticks": ""
             }
            },
            "type": "scattermapbox"
           }
          ],
          "scatterpolar": [
           {
            "marker": {
             "colorbar": {
              "outlinewidth": 0,
              "ticks": ""
             }
            },
            "type": "scatterpolar"
           }
          ],
          "scatterpolargl": [
           {
            "marker": {
             "colorbar": {
              "outlinewidth": 0,
              "ticks": ""
             }
            },
            "type": "scatterpolargl"
           }
          ],
          "scatterternary": [
           {
            "marker": {
             "colorbar": {
              "outlinewidth": 0,
              "ticks": ""
             }
            },
            "type": "scatterternary"
           }
          ],
          "surface": [
           {
            "colorbar": {
             "outlinewidth": 0,
             "ticks": ""
            },
            "colorscale": [
             [
              0,
              "#0d0887"
             ],
             [
              0.1111111111111111,
              "#46039f"
             ],
             [
              0.2222222222222222,
              "#7201a8"
             ],
             [
              0.3333333333333333,
              "#9c179e"
             ],
             [
              0.4444444444444444,
              "#bd3786"
             ],
             [
              0.5555555555555556,
              "#d8576b"
             ],
             [
              0.6666666666666666,
              "#ed7953"
             ],
             [
              0.7777777777777778,
              "#fb9f3a"
             ],
             [
              0.8888888888888888,
              "#fdca26"
             ],
             [
              1,
              "#f0f921"
             ]
            ],
            "type": "surface"
           }
          ],
          "table": [
           {
            "cells": {
             "fill": {
              "color": "#EBF0F8"
             },
             "line": {
              "color": "white"
             }
            },
            "header": {
             "fill": {
              "color": "#C8D4E3"
             },
             "line": {
              "color": "white"
             }
            },
            "type": "table"
           }
          ]
         },
         "layout": {
          "annotationdefaults": {
           "arrowcolor": "#2a3f5f",
           "arrowhead": 0,
           "arrowwidth": 1
          },
          "autotypenumbers": "strict",
          "coloraxis": {
           "colorbar": {
            "outlinewidth": 0,
            "ticks": ""
           }
          },
          "colorscale": {
           "diverging": [
            [
             0,
             "#8e0152"
            ],
            [
             0.1,
             "#c51b7d"
            ],
            [
             0.2,
             "#de77ae"
            ],
            [
             0.3,
             "#f1b6da"
            ],
            [
             0.4,
             "#fde0ef"
            ],
            [
             0.5,
             "#f7f7f7"
            ],
            [
             0.6,
             "#e6f5d0"
            ],
            [
             0.7,
             "#b8e186"
            ],
            [
             0.8,
             "#7fbc41"
            ],
            [
             0.9,
             "#4d9221"
            ],
            [
             1,
             "#276419"
            ]
           ],
           "sequential": [
            [
             0,
             "#0d0887"
            ],
            [
             0.1111111111111111,
             "#46039f"
            ],
            [
             0.2222222222222222,
             "#7201a8"
            ],
            [
             0.3333333333333333,
             "#9c179e"
            ],
            [
             0.4444444444444444,
             "#bd3786"
            ],
            [
             0.5555555555555556,
             "#d8576b"
            ],
            [
             0.6666666666666666,
             "#ed7953"
            ],
            [
             0.7777777777777778,
             "#fb9f3a"
            ],
            [
             0.8888888888888888,
             "#fdca26"
            ],
            [
             1,
             "#f0f921"
            ]
           ],
           "sequentialminus": [
            [
             0,
             "#0d0887"
            ],
            [
             0.1111111111111111,
             "#46039f"
            ],
            [
             0.2222222222222222,
             "#7201a8"
            ],
            [
             0.3333333333333333,
             "#9c179e"
            ],
            [
             0.4444444444444444,
             "#bd3786"
            ],
            [
             0.5555555555555556,
             "#d8576b"
            ],
            [
             0.6666666666666666,
             "#ed7953"
            ],
            [
             0.7777777777777778,
             "#fb9f3a"
            ],
            [
             0.8888888888888888,
             "#fdca26"
            ],
            [
             1,
             "#f0f921"
            ]
           ]
          },
          "colorway": [
           "#636efa",
           "#EF553B",
           "#00cc96",
           "#ab63fa",
           "#FFA15A",
           "#19d3f3",
           "#FF6692",
           "#B6E880",
           "#FF97FF",
           "#FECB52"
          ],
          "font": {
           "color": "#2a3f5f"
          },
          "geo": {
           "bgcolor": "white",
           "lakecolor": "white",
           "landcolor": "#E5ECF6",
           "showlakes": true,
           "showland": true,
           "subunitcolor": "white"
          },
          "hoverlabel": {
           "align": "left"
          },
          "hovermode": "closest",
          "mapbox": {
           "style": "light"
          },
          "paper_bgcolor": "white",
          "plot_bgcolor": "#E5ECF6",
          "polar": {
           "angularaxis": {
            "gridcolor": "white",
            "linecolor": "white",
            "ticks": ""
           },
           "bgcolor": "#E5ECF6",
           "radialaxis": {
            "gridcolor": "white",
            "linecolor": "white",
            "ticks": ""
           }
          },
          "scene": {
           "xaxis": {
            "backgroundcolor": "#E5ECF6",
            "gridcolor": "white",
            "gridwidth": 2,
            "linecolor": "white",
            "showbackground": true,
            "ticks": "",
            "zerolinecolor": "white"
           },
           "yaxis": {
            "backgroundcolor": "#E5ECF6",
            "gridcolor": "white",
            "gridwidth": 2,
            "linecolor": "white",
            "showbackground": true,
            "ticks": "",
            "zerolinecolor": "white"
           },
           "zaxis": {
            "backgroundcolor": "#E5ECF6",
            "gridcolor": "white",
            "gridwidth": 2,
            "linecolor": "white",
            "showbackground": true,
            "ticks": "",
            "zerolinecolor": "white"
           }
          },
          "shapedefaults": {
           "line": {
            "color": "#2a3f5f"
           }
          },
          "ternary": {
           "aaxis": {
            "gridcolor": "white",
            "linecolor": "white",
            "ticks": ""
           },
           "baxis": {
            "gridcolor": "white",
            "linecolor": "white",
            "ticks": ""
           },
           "bgcolor": "#E5ECF6",
           "caxis": {
            "gridcolor": "white",
            "linecolor": "white",
            "ticks": ""
           }
          },
          "title": {
           "x": 0.05
          },
          "xaxis": {
           "automargin": true,
           "gridcolor": "white",
           "linecolor": "white",
           "ticks": "",
           "title": {
            "standoff": 15
           },
           "zerolinecolor": "white",
           "zerolinewidth": 2
          },
          "yaxis": {
           "automargin": true,
           "gridcolor": "white",
           "linecolor": "white",
           "ticks": "",
           "title": {
            "standoff": 15
           },
           "zerolinecolor": "white",
           "zerolinewidth": 2
          }
         }
        },
        "xaxis": {
         "anchor": "y",
         "domain": [
          0,
          1
         ],
         "title": {
          "text": "datetime"
         }
        },
        "yaxis": {
         "anchor": "x",
         "domain": [
          0,
          1
         ],
         "title": {
          "text": "value"
         }
        }
       }
      }
     },
     "metadata": {},
     "output_type": "display_data"
    }
   ],
   "source": [
    "px.bar(\n",
    "    rebalance_df.resample(\"1d\").sum()[[\"swap_cost_in_bps_of_NAV_from_idle\", \"swap_cost_in_bps_of_NAV_not_from_idle\"]]\n",
    ")"
   ]
  },
  {
   "cell_type": "code",
   "execution_count": 11,
   "metadata": {},
   "outputs": [
    {
     "data": {
      "application/vnd.plotly.v1+json": {
       "config": {
        "plotlyServerURL": "https://plot.ly"
       },
       "data": [
        {
         "alignmentgroup": "True",
         "hovertemplate": "variable=spot_swap_cost<br>datetime=%{x}<br>value=%{y}<extra></extra>",
         "legendgroup": "spot_swap_cost",
         "marker": {
          "color": "#636efa",
          "pattern": {
           "shape": ""
          }
         },
         "name": "spot_swap_cost",
         "offsetgroup": "spot_swap_cost",
         "orientation": "v",
         "showlegend": true,
         "textposition": "auto",
         "type": "bar",
         "x": [
          "2025-05-23T00:00:00+00:00",
          "2025-05-24T00:00:00+00:00",
          "2025-05-25T00:00:00+00:00",
          "2025-05-26T00:00:00+00:00",
          "2025-05-27T00:00:00+00:00",
          "2025-05-28T00:00:00+00:00",
          "2025-05-29T00:00:00+00:00",
          "2025-05-30T00:00:00+00:00",
          "2025-05-31T00:00:00+00:00",
          "2025-06-01T00:00:00+00:00",
          "2025-06-02T00:00:00+00:00",
          "2025-06-03T00:00:00+00:00",
          "2025-06-04T00:00:00+00:00"
         ],
         "xaxis": "x",
         "y": [
          null,
          null,
          null,
          null,
          null,
          null,
          null,
          null,
          null,
          null,
          null,
          null,
          null
         ],
         "yaxis": "y"
        }
       ],
       "layout": {
        "barmode": "relative",
        "legend": {
         "title": {
          "text": "variable"
         },
         "tracegroupgap": 0
        },
        "margin": {
         "t": 60
        },
        "template": {
         "data": {
          "bar": [
           {
            "error_x": {
             "color": "#2a3f5f"
            },
            "error_y": {
             "color": "#2a3f5f"
            },
            "marker": {
             "line": {
              "color": "#E5ECF6",
              "width": 0.5
             },
             "pattern": {
              "fillmode": "overlay",
              "size": 10,
              "solidity": 0.2
             }
            },
            "type": "bar"
           }
          ],
          "barpolar": [
           {
            "marker": {
             "line": {
              "color": "#E5ECF6",
              "width": 0.5
             },
             "pattern": {
              "fillmode": "overlay",
              "size": 10,
              "solidity": 0.2
             }
            },
            "type": "barpolar"
           }
          ],
          "carpet": [
           {
            "aaxis": {
             "endlinecolor": "#2a3f5f",
             "gridcolor": "white",
             "linecolor": "white",
             "minorgridcolor": "white",
             "startlinecolor": "#2a3f5f"
            },
            "baxis": {
             "endlinecolor": "#2a3f5f",
             "gridcolor": "white",
             "linecolor": "white",
             "minorgridcolor": "white",
             "startlinecolor": "#2a3f5f"
            },
            "type": "carpet"
           }
          ],
          "choropleth": [
           {
            "colorbar": {
             "outlinewidth": 0,
             "ticks": ""
            },
            "type": "choropleth"
           }
          ],
          "contour": [
           {
            "colorbar": {
             "outlinewidth": 0,
             "ticks": ""
            },
            "colorscale": [
             [
              0,
              "#0d0887"
             ],
             [
              0.1111111111111111,
              "#46039f"
             ],
             [
              0.2222222222222222,
              "#7201a8"
             ],
             [
              0.3333333333333333,
              "#9c179e"
             ],
             [
              0.4444444444444444,
              "#bd3786"
             ],
             [
              0.5555555555555556,
              "#d8576b"
             ],
             [
              0.6666666666666666,
              "#ed7953"
             ],
             [
              0.7777777777777778,
              "#fb9f3a"
             ],
             [
              0.8888888888888888,
              "#fdca26"
             ],
             [
              1,
              "#f0f921"
             ]
            ],
            "type": "contour"
           }
          ],
          "contourcarpet": [
           {
            "colorbar": {
             "outlinewidth": 0,
             "ticks": ""
            },
            "type": "contourcarpet"
           }
          ],
          "heatmap": [
           {
            "colorbar": {
             "outlinewidth": 0,
             "ticks": ""
            },
            "colorscale": [
             [
              0,
              "#0d0887"
             ],
             [
              0.1111111111111111,
              "#46039f"
             ],
             [
              0.2222222222222222,
              "#7201a8"
             ],
             [
              0.3333333333333333,
              "#9c179e"
             ],
             [
              0.4444444444444444,
              "#bd3786"
             ],
             [
              0.5555555555555556,
              "#d8576b"
             ],
             [
              0.6666666666666666,
              "#ed7953"
             ],
             [
              0.7777777777777778,
              "#fb9f3a"
             ],
             [
              0.8888888888888888,
              "#fdca26"
             ],
             [
              1,
              "#f0f921"
             ]
            ],
            "type": "heatmap"
           }
          ],
          "heatmapgl": [
           {
            "colorbar": {
             "outlinewidth": 0,
             "ticks": ""
            },
            "colorscale": [
             [
              0,
              "#0d0887"
             ],
             [
              0.1111111111111111,
              "#46039f"
             ],
             [
              0.2222222222222222,
              "#7201a8"
             ],
             [
              0.3333333333333333,
              "#9c179e"
             ],
             [
              0.4444444444444444,
              "#bd3786"
             ],
             [
              0.5555555555555556,
              "#d8576b"
             ],
             [
              0.6666666666666666,
              "#ed7953"
             ],
             [
              0.7777777777777778,
              "#fb9f3a"
             ],
             [
              0.8888888888888888,
              "#fdca26"
             ],
             [
              1,
              "#f0f921"
             ]
            ],
            "type": "heatmapgl"
           }
          ],
          "histogram": [
           {
            "marker": {
             "pattern": {
              "fillmode": "overlay",
              "size": 10,
              "solidity": 0.2
             }
            },
            "type": "histogram"
           }
          ],
          "histogram2d": [
           {
            "colorbar": {
             "outlinewidth": 0,
             "ticks": ""
            },
            "colorscale": [
             [
              0,
              "#0d0887"
             ],
             [
              0.1111111111111111,
              "#46039f"
             ],
             [
              0.2222222222222222,
              "#7201a8"
             ],
             [
              0.3333333333333333,
              "#9c179e"
             ],
             [
              0.4444444444444444,
              "#bd3786"
             ],
             [
              0.5555555555555556,
              "#d8576b"
             ],
             [
              0.6666666666666666,
              "#ed7953"
             ],
             [
              0.7777777777777778,
              "#fb9f3a"
             ],
             [
              0.8888888888888888,
              "#fdca26"
             ],
             [
              1,
              "#f0f921"
             ]
            ],
            "type": "histogram2d"
           }
          ],
          "histogram2dcontour": [
           {
            "colorbar": {
             "outlinewidth": 0,
             "ticks": ""
            },
            "colorscale": [
             [
              0,
              "#0d0887"
             ],
             [
              0.1111111111111111,
              "#46039f"
             ],
             [
              0.2222222222222222,
              "#7201a8"
             ],
             [
              0.3333333333333333,
              "#9c179e"
             ],
             [
              0.4444444444444444,
              "#bd3786"
             ],
             [
              0.5555555555555556,
              "#d8576b"
             ],
             [
              0.6666666666666666,
              "#ed7953"
             ],
             [
              0.7777777777777778,
              "#fb9f3a"
             ],
             [
              0.8888888888888888,
              "#fdca26"
             ],
             [
              1,
              "#f0f921"
             ]
            ],
            "type": "histogram2dcontour"
           }
          ],
          "mesh3d": [
           {
            "colorbar": {
             "outlinewidth": 0,
             "ticks": ""
            },
            "type": "mesh3d"
           }
          ],
          "parcoords": [
           {
            "line": {
             "colorbar": {
              "outlinewidth": 0,
              "ticks": ""
             }
            },
            "type": "parcoords"
           }
          ],
          "pie": [
           {
            "automargin": true,
            "type": "pie"
           }
          ],
          "scatter": [
           {
            "fillpattern": {
             "fillmode": "overlay",
             "size": 10,
             "solidity": 0.2
            },
            "type": "scatter"
           }
          ],
          "scatter3d": [
           {
            "line": {
             "colorbar": {
              "outlinewidth": 0,
              "ticks": ""
             }
            },
            "marker": {
             "colorbar": {
              "outlinewidth": 0,
              "ticks": ""
             }
            },
            "type": "scatter3d"
           }
          ],
          "scattercarpet": [
           {
            "marker": {
             "colorbar": {
              "outlinewidth": 0,
              "ticks": ""
             }
            },
            "type": "scattercarpet"
           }
          ],
          "scattergeo": [
           {
            "marker": {
             "colorbar": {
              "outlinewidth": 0,
              "ticks": ""
             }
            },
            "type": "scattergeo"
           }
          ],
          "scattergl": [
           {
            "marker": {
             "colorbar": {
              "outlinewidth": 0,
              "ticks": ""
             }
            },
            "type": "scattergl"
           }
          ],
          "scattermapbox": [
           {
            "marker": {
             "colorbar": {
              "outlinewidth": 0,
              "ticks": ""
             }
            },
            "type": "scattermapbox"
           }
          ],
          "scatterpolar": [
           {
            "marker": {
             "colorbar": {
              "outlinewidth": 0,
              "ticks": ""
             }
            },
            "type": "scatterpolar"
           }
          ],
          "scatterpolargl": [
           {
            "marker": {
             "colorbar": {
              "outlinewidth": 0,
              "ticks": ""
             }
            },
            "type": "scatterpolargl"
           }
          ],
          "scatterternary": [
           {
            "marker": {
             "colorbar": {
              "outlinewidth": 0,
              "ticks": ""
             }
            },
            "type": "scatterternary"
           }
          ],
          "surface": [
           {
            "colorbar": {
             "outlinewidth": 0,
             "ticks": ""
            },
            "colorscale": [
             [
              0,
              "#0d0887"
             ],
             [
              0.1111111111111111,
              "#46039f"
             ],
             [
              0.2222222222222222,
              "#7201a8"
             ],
             [
              0.3333333333333333,
              "#9c179e"
             ],
             [
              0.4444444444444444,
              "#bd3786"
             ],
             [
              0.5555555555555556,
              "#d8576b"
             ],
             [
              0.6666666666666666,
              "#ed7953"
             ],
             [
              0.7777777777777778,
              "#fb9f3a"
             ],
             [
              0.8888888888888888,
              "#fdca26"
             ],
             [
              1,
              "#f0f921"
             ]
            ],
            "type": "surface"
           }
          ],
          "table": [
           {
            "cells": {
             "fill": {
              "color": "#EBF0F8"
             },
             "line": {
              "color": "white"
             }
            },
            "header": {
             "fill": {
              "color": "#C8D4E3"
             },
             "line": {
              "color": "white"
             }
            },
            "type": "table"
           }
          ]
         },
         "layout": {
          "annotationdefaults": {
           "arrowcolor": "#2a3f5f",
           "arrowhead": 0,
           "arrowwidth": 1
          },
          "autotypenumbers": "strict",
          "coloraxis": {
           "colorbar": {
            "outlinewidth": 0,
            "ticks": ""
           }
          },
          "colorscale": {
           "diverging": [
            [
             0,
             "#8e0152"
            ],
            [
             0.1,
             "#c51b7d"
            ],
            [
             0.2,
             "#de77ae"
            ],
            [
             0.3,
             "#f1b6da"
            ],
            [
             0.4,
             "#fde0ef"
            ],
            [
             0.5,
             "#f7f7f7"
            ],
            [
             0.6,
             "#e6f5d0"
            ],
            [
             0.7,
             "#b8e186"
            ],
            [
             0.8,
             "#7fbc41"
            ],
            [
             0.9,
             "#4d9221"
            ],
            [
             1,
             "#276419"
            ]
           ],
           "sequential": [
            [
             0,
             "#0d0887"
            ],
            [
             0.1111111111111111,
             "#46039f"
            ],
            [
             0.2222222222222222,
             "#7201a8"
            ],
            [
             0.3333333333333333,
             "#9c179e"
            ],
            [
             0.4444444444444444,
             "#bd3786"
            ],
            [
             0.5555555555555556,
             "#d8576b"
            ],
            [
             0.6666666666666666,
             "#ed7953"
            ],
            [
             0.7777777777777778,
             "#fb9f3a"
            ],
            [
             0.8888888888888888,
             "#fdca26"
            ],
            [
             1,
             "#f0f921"
            ]
           ],
           "sequentialminus": [
            [
             0,
             "#0d0887"
            ],
            [
             0.1111111111111111,
             "#46039f"
            ],
            [
             0.2222222222222222,
             "#7201a8"
            ],
            [
             0.3333333333333333,
             "#9c179e"
            ],
            [
             0.4444444444444444,
             "#bd3786"
            ],
            [
             0.5555555555555556,
             "#d8576b"
            ],
            [
             0.6666666666666666,
             "#ed7953"
            ],
            [
             0.7777777777777778,
             "#fb9f3a"
            ],
            [
             0.8888888888888888,
             "#fdca26"
            ],
            [
             1,
             "#f0f921"
            ]
           ]
          },
          "colorway": [
           "#636efa",
           "#EF553B",
           "#00cc96",
           "#ab63fa",
           "#FFA15A",
           "#19d3f3",
           "#FF6692",
           "#B6E880",
           "#FF97FF",
           "#FECB52"
          ],
          "font": {
           "color": "#2a3f5f"
          },
          "geo": {
           "bgcolor": "white",
           "lakecolor": "white",
           "landcolor": "#E5ECF6",
           "showlakes": true,
           "showland": true,
           "subunitcolor": "white"
          },
          "hoverlabel": {
           "align": "left"
          },
          "hovermode": "closest",
          "mapbox": {
           "style": "light"
          },
          "paper_bgcolor": "white",
          "plot_bgcolor": "#E5ECF6",
          "polar": {
           "angularaxis": {
            "gridcolor": "white",
            "linecolor": "white",
            "ticks": ""
           },
           "bgcolor": "#E5ECF6",
           "radialaxis": {
            "gridcolor": "white",
            "linecolor": "white",
            "ticks": ""
           }
          },
          "scene": {
           "xaxis": {
            "backgroundcolor": "#E5ECF6",
            "gridcolor": "white",
            "gridwidth": 2,
            "linecolor": "white",
            "showbackground": true,
            "ticks": "",
            "zerolinecolor": "white"
           },
           "yaxis": {
            "backgroundcolor": "#E5ECF6",
            "gridcolor": "white",
            "gridwidth": 2,
            "linecolor": "white",
            "showbackground": true,
            "ticks": "",
            "zerolinecolor": "white"
           },
           "zaxis": {
            "backgroundcolor": "#E5ECF6",
            "gridcolor": "white",
            "gridwidth": 2,
            "linecolor": "white",
            "showbackground": true,
            "ticks": "",
            "zerolinecolor": "white"
           }
          },
          "shapedefaults": {
           "line": {
            "color": "#2a3f5f"
           }
          },
          "ternary": {
           "aaxis": {
            "gridcolor": "white",
            "linecolor": "white",
            "ticks": ""
           },
           "baxis": {
            "gridcolor": "white",
            "linecolor": "white",
            "ticks": ""
           },
           "bgcolor": "#E5ECF6",
           "caxis": {
            "gridcolor": "white",
            "linecolor": "white",
            "ticks": ""
           }
          },
          "title": {
           "x": 0.05
          },
          "xaxis": {
           "automargin": true,
           "gridcolor": "white",
           "linecolor": "white",
           "ticks": "",
           "title": {
            "standoff": 15
           },
           "zerolinecolor": "white",
           "zerolinewidth": 2
          },
          "yaxis": {
           "automargin": true,
           "gridcolor": "white",
           "linecolor": "white",
           "ticks": "",
           "title": {
            "standoff": 15
           },
           "zerolinecolor": "white",
           "zerolinewidth": 2
          }
         }
        },
        "xaxis": {
         "anchor": "y",
         "domain": [
          0,
          1
         ],
         "title": {
          "text": "datetime"
         }
        },
        "yaxis": {
         "anchor": "x",
         "domain": [
          0,
          1
         ],
         "title": {
          "text": "value"
         }
        }
       }
      }
     },
     "metadata": {},
     "output_type": "display_data"
    }
   ],
   "source": [
    "px.bar(rebalance_df.resample(\"1d\").sum()[\"spot_swap_cost\"].rolling(28).sum())"
   ]
  },
  {
   "cell_type": "code",
   "execution_count": 12,
   "metadata": {},
   "outputs": [
    {
     "data": {
      "text/plain": [
       "1.0"
      ]
     },
     "execution_count": 12,
     "metadata": {},
     "output_type": "execute_result"
    }
   ],
   "source": [
    "10_000 * 2_000 / 20_000_000"
   ]
  },
  {
   "cell_type": "code",
   "execution_count": 13,
   "metadata": {},
   "outputs": [
    {
     "data": {
      "application/vnd.plotly.v1+json": {
       "config": {
        "plotlyServerURL": "https://plot.ly"
       },
       "data": [
        {
         "alignmentgroup": "True",
         "hovertemplate": "variable=spot_swap_cost<br>datetime=%{x}<br>value=%{y}<extra></extra>",
         "legendgroup": "spot_swap_cost",
         "marker": {
          "color": "#636efa",
          "pattern": {
           "shape": ""
          }
         },
         "name": "spot_swap_cost",
         "offsetgroup": "spot_swap_cost",
         "orientation": "v",
         "showlegend": true,
         "textposition": "auto",
         "type": "bar",
         "x": [
          "2025-05-23T00:00:00+00:00",
          "2025-05-24T00:00:00+00:00",
          "2025-05-25T00:00:00+00:00",
          "2025-05-26T00:00:00+00:00",
          "2025-05-27T00:00:00+00:00",
          "2025-05-28T00:00:00+00:00",
          "2025-05-29T00:00:00+00:00",
          "2025-05-30T00:00:00+00:00",
          "2025-05-31T00:00:00+00:00",
          "2025-06-01T00:00:00+00:00",
          "2025-06-02T00:00:00+00:00",
          "2025-06-03T00:00:00+00:00",
          "2025-06-04T00:00:00+00:00"
         ],
         "xaxis": "x",
         "y": [
          187.2088455224566,
          353.8649273510964,
          354.1050281602156,
          78.59984613172162,
          84.74902306102922,
          392.3972980745557,
          181.21613118052528,
          758.6412727888091,
          122.8411913634618,
          -395.61778237440103,
          675.824994288967,
          75.82189676979851,
          -56.113057588006996
         ],
         "yaxis": "y"
        }
       ],
       "layout": {
        "barmode": "relative",
        "legend": {
         "title": {
          "text": "variable"
         },
         "tracegroupgap": 0
        },
        "margin": {
         "t": 60
        },
        "template": {
         "data": {
          "bar": [
           {
            "error_x": {
             "color": "#2a3f5f"
            },
            "error_y": {
             "color": "#2a3f5f"
            },
            "marker": {
             "line": {
              "color": "#E5ECF6",
              "width": 0.5
             },
             "pattern": {
              "fillmode": "overlay",
              "size": 10,
              "solidity": 0.2
             }
            },
            "type": "bar"
           }
          ],
          "barpolar": [
           {
            "marker": {
             "line": {
              "color": "#E5ECF6",
              "width": 0.5
             },
             "pattern": {
              "fillmode": "overlay",
              "size": 10,
              "solidity": 0.2
             }
            },
            "type": "barpolar"
           }
          ],
          "carpet": [
           {
            "aaxis": {
             "endlinecolor": "#2a3f5f",
             "gridcolor": "white",
             "linecolor": "white",
             "minorgridcolor": "white",
             "startlinecolor": "#2a3f5f"
            },
            "baxis": {
             "endlinecolor": "#2a3f5f",
             "gridcolor": "white",
             "linecolor": "white",
             "minorgridcolor": "white",
             "startlinecolor": "#2a3f5f"
            },
            "type": "carpet"
           }
          ],
          "choropleth": [
           {
            "colorbar": {
             "outlinewidth": 0,
             "ticks": ""
            },
            "type": "choropleth"
           }
          ],
          "contour": [
           {
            "colorbar": {
             "outlinewidth": 0,
             "ticks": ""
            },
            "colorscale": [
             [
              0,
              "#0d0887"
             ],
             [
              0.1111111111111111,
              "#46039f"
             ],
             [
              0.2222222222222222,
              "#7201a8"
             ],
             [
              0.3333333333333333,
              "#9c179e"
             ],
             [
              0.4444444444444444,
              "#bd3786"
             ],
             [
              0.5555555555555556,
              "#d8576b"
             ],
             [
              0.6666666666666666,
              "#ed7953"
             ],
             [
              0.7777777777777778,
              "#fb9f3a"
             ],
             [
              0.8888888888888888,
              "#fdca26"
             ],
             [
              1,
              "#f0f921"
             ]
            ],
            "type": "contour"
           }
          ],
          "contourcarpet": [
           {
            "colorbar": {
             "outlinewidth": 0,
             "ticks": ""
            },
            "type": "contourcarpet"
           }
          ],
          "heatmap": [
           {
            "colorbar": {
             "outlinewidth": 0,
             "ticks": ""
            },
            "colorscale": [
             [
              0,
              "#0d0887"
             ],
             [
              0.1111111111111111,
              "#46039f"
             ],
             [
              0.2222222222222222,
              "#7201a8"
             ],
             [
              0.3333333333333333,
              "#9c179e"
             ],
             [
              0.4444444444444444,
              "#bd3786"
             ],
             [
              0.5555555555555556,
              "#d8576b"
             ],
             [
              0.6666666666666666,
              "#ed7953"
             ],
             [
              0.7777777777777778,
              "#fb9f3a"
             ],
             [
              0.8888888888888888,
              "#fdca26"
             ],
             [
              1,
              "#f0f921"
             ]
            ],
            "type": "heatmap"
           }
          ],
          "heatmapgl": [
           {
            "colorbar": {
             "outlinewidth": 0,
             "ticks": ""
            },
            "colorscale": [
             [
              0,
              "#0d0887"
             ],
             [
              0.1111111111111111,
              "#46039f"
             ],
             [
              0.2222222222222222,
              "#7201a8"
             ],
             [
              0.3333333333333333,
              "#9c179e"
             ],
             [
              0.4444444444444444,
              "#bd3786"
             ],
             [
              0.5555555555555556,
              "#d8576b"
             ],
             [
              0.6666666666666666,
              "#ed7953"
             ],
             [
              0.7777777777777778,
              "#fb9f3a"
             ],
             [
              0.8888888888888888,
              "#fdca26"
             ],
             [
              1,
              "#f0f921"
             ]
            ],
            "type": "heatmapgl"
           }
          ],
          "histogram": [
           {
            "marker": {
             "pattern": {
              "fillmode": "overlay",
              "size": 10,
              "solidity": 0.2
             }
            },
            "type": "histogram"
           }
          ],
          "histogram2d": [
           {
            "colorbar": {
             "outlinewidth": 0,
             "ticks": ""
            },
            "colorscale": [
             [
              0,
              "#0d0887"
             ],
             [
              0.1111111111111111,
              "#46039f"
             ],
             [
              0.2222222222222222,
              "#7201a8"
             ],
             [
              0.3333333333333333,
              "#9c179e"
             ],
             [
              0.4444444444444444,
              "#bd3786"
             ],
             [
              0.5555555555555556,
              "#d8576b"
             ],
             [
              0.6666666666666666,
              "#ed7953"
             ],
             [
              0.7777777777777778,
              "#fb9f3a"
             ],
             [
              0.8888888888888888,
              "#fdca26"
             ],
             [
              1,
              "#f0f921"
             ]
            ],
            "type": "histogram2d"
           }
          ],
          "histogram2dcontour": [
           {
            "colorbar": {
             "outlinewidth": 0,
             "ticks": ""
            },
            "colorscale": [
             [
              0,
              "#0d0887"
             ],
             [
              0.1111111111111111,
              "#46039f"
             ],
             [
              0.2222222222222222,
              "#7201a8"
             ],
             [
              0.3333333333333333,
              "#9c179e"
             ],
             [
              0.4444444444444444,
              "#bd3786"
             ],
             [
              0.5555555555555556,
              "#d8576b"
             ],
             [
              0.6666666666666666,
              "#ed7953"
             ],
             [
              0.7777777777777778,
              "#fb9f3a"
             ],
             [
              0.8888888888888888,
              "#fdca26"
             ],
             [
              1,
              "#f0f921"
             ]
            ],
            "type": "histogram2dcontour"
           }
          ],
          "mesh3d": [
           {
            "colorbar": {
             "outlinewidth": 0,
             "ticks": ""
            },
            "type": "mesh3d"
           }
          ],
          "parcoords": [
           {
            "line": {
             "colorbar": {
              "outlinewidth": 0,
              "ticks": ""
             }
            },
            "type": "parcoords"
           }
          ],
          "pie": [
           {
            "automargin": true,
            "type": "pie"
           }
          ],
          "scatter": [
           {
            "fillpattern": {
             "fillmode": "overlay",
             "size": 10,
             "solidity": 0.2
            },
            "type": "scatter"
           }
          ],
          "scatter3d": [
           {
            "line": {
             "colorbar": {
              "outlinewidth": 0,
              "ticks": ""
             }
            },
            "marker": {
             "colorbar": {
              "outlinewidth": 0,
              "ticks": ""
             }
            },
            "type": "scatter3d"
           }
          ],
          "scattercarpet": [
           {
            "marker": {
             "colorbar": {
              "outlinewidth": 0,
              "ticks": ""
             }
            },
            "type": "scattercarpet"
           }
          ],
          "scattergeo": [
           {
            "marker": {
             "colorbar": {
              "outlinewidth": 0,
              "ticks": ""
             }
            },
            "type": "scattergeo"
           }
          ],
          "scattergl": [
           {
            "marker": {
             "colorbar": {
              "outlinewidth": 0,
              "ticks": ""
             }
            },
            "type": "scattergl"
           }
          ],
          "scattermapbox": [
           {
            "marker": {
             "colorbar": {
              "outlinewidth": 0,
              "ticks": ""
             }
            },
            "type": "scattermapbox"
           }
          ],
          "scatterpolar": [
           {
            "marker": {
             "colorbar": {
              "outlinewidth": 0,
              "ticks": ""
             }
            },
            "type": "scatterpolar"
           }
          ],
          "scatterpolargl": [
           {
            "marker": {
             "colorbar": {
              "outlinewidth": 0,
              "ticks": ""
             }
            },
            "type": "scatterpolargl"
           }
          ],
          "scatterternary": [
           {
            "marker": {
             "colorbar": {
              "outlinewidth": 0,
              "ticks": ""
             }
            },
            "type": "scatterternary"
           }
          ],
          "surface": [
           {
            "colorbar": {
             "outlinewidth": 0,
             "ticks": ""
            },
            "colorscale": [
             [
              0,
              "#0d0887"
             ],
             [
              0.1111111111111111,
              "#46039f"
             ],
             [
              0.2222222222222222,
              "#7201a8"
             ],
             [
              0.3333333333333333,
              "#9c179e"
             ],
             [
              0.4444444444444444,
              "#bd3786"
             ],
             [
              0.5555555555555556,
              "#d8576b"
             ],
             [
              0.6666666666666666,
              "#ed7953"
             ],
             [
              0.7777777777777778,
              "#fb9f3a"
             ],
             [
              0.8888888888888888,
              "#fdca26"
             ],
             [
              1,
              "#f0f921"
             ]
            ],
            "type": "surface"
           }
          ],
          "table": [
           {
            "cells": {
             "fill": {
              "color": "#EBF0F8"
             },
             "line": {
              "color": "white"
             }
            },
            "header": {
             "fill": {
              "color": "#C8D4E3"
             },
             "line": {
              "color": "white"
             }
            },
            "type": "table"
           }
          ]
         },
         "layout": {
          "annotationdefaults": {
           "arrowcolor": "#2a3f5f",
           "arrowhead": 0,
           "arrowwidth": 1
          },
          "autotypenumbers": "strict",
          "coloraxis": {
           "colorbar": {
            "outlinewidth": 0,
            "ticks": ""
           }
          },
          "colorscale": {
           "diverging": [
            [
             0,
             "#8e0152"
            ],
            [
             0.1,
             "#c51b7d"
            ],
            [
             0.2,
             "#de77ae"
            ],
            [
             0.3,
             "#f1b6da"
            ],
            [
             0.4,
             "#fde0ef"
            ],
            [
             0.5,
             "#f7f7f7"
            ],
            [
             0.6,
             "#e6f5d0"
            ],
            [
             0.7,
             "#b8e186"
            ],
            [
             0.8,
             "#7fbc41"
            ],
            [
             0.9,
             "#4d9221"
            ],
            [
             1,
             "#276419"
            ]
           ],
           "sequential": [
            [
             0,
             "#0d0887"
            ],
            [
             0.1111111111111111,
             "#46039f"
            ],
            [
             0.2222222222222222,
             "#7201a8"
            ],
            [
             0.3333333333333333,
             "#9c179e"
            ],
            [
             0.4444444444444444,
             "#bd3786"
            ],
            [
             0.5555555555555556,
             "#d8576b"
            ],
            [
             0.6666666666666666,
             "#ed7953"
            ],
            [
             0.7777777777777778,
             "#fb9f3a"
            ],
            [
             0.8888888888888888,
             "#fdca26"
            ],
            [
             1,
             "#f0f921"
            ]
           ],
           "sequentialminus": [
            [
             0,
             "#0d0887"
            ],
            [
             0.1111111111111111,
             "#46039f"
            ],
            [
             0.2222222222222222,
             "#7201a8"
            ],
            [
             0.3333333333333333,
             "#9c179e"
            ],
            [
             0.4444444444444444,
             "#bd3786"
            ],
            [
             0.5555555555555556,
             "#d8576b"
            ],
            [
             0.6666666666666666,
             "#ed7953"
            ],
            [
             0.7777777777777778,
             "#fb9f3a"
            ],
            [
             0.8888888888888888,
             "#fdca26"
            ],
            [
             1,
             "#f0f921"
            ]
           ]
          },
          "colorway": [
           "#636efa",
           "#EF553B",
           "#00cc96",
           "#ab63fa",
           "#FFA15A",
           "#19d3f3",
           "#FF6692",
           "#B6E880",
           "#FF97FF",
           "#FECB52"
          ],
          "font": {
           "color": "#2a3f5f"
          },
          "geo": {
           "bgcolor": "white",
           "lakecolor": "white",
           "landcolor": "#E5ECF6",
           "showlakes": true,
           "showland": true,
           "subunitcolor": "white"
          },
          "hoverlabel": {
           "align": "left"
          },
          "hovermode": "closest",
          "mapbox": {
           "style": "light"
          },
          "paper_bgcolor": "white",
          "plot_bgcolor": "#E5ECF6",
          "polar": {
           "angularaxis": {
            "gridcolor": "white",
            "linecolor": "white",
            "ticks": ""
           },
           "bgcolor": "#E5ECF6",
           "radialaxis": {
            "gridcolor": "white",
            "linecolor": "white",
            "ticks": ""
           }
          },
          "scene": {
           "xaxis": {
            "backgroundcolor": "#E5ECF6",
            "gridcolor": "white",
            "gridwidth": 2,
            "linecolor": "white",
            "showbackground": true,
            "ticks": "",
            "zerolinecolor": "white"
           },
           "yaxis": {
            "backgroundcolor": "#E5ECF6",
            "gridcolor": "white",
            "gridwidth": 2,
            "linecolor": "white",
            "showbackground": true,
            "ticks": "",
            "zerolinecolor": "white"
           },
           "zaxis": {
            "backgroundcolor": "#E5ECF6",
            "gridcolor": "white",
            "gridwidth": 2,
            "linecolor": "white",
            "showbackground": true,
            "ticks": "",
            "zerolinecolor": "white"
           }
          },
          "shapedefaults": {
           "line": {
            "color": "#2a3f5f"
           }
          },
          "ternary": {
           "aaxis": {
            "gridcolor": "white",
            "linecolor": "white",
            "ticks": ""
           },
           "baxis": {
            "gridcolor": "white",
            "linecolor": "white",
            "ticks": ""
           },
           "bgcolor": "#E5ECF6",
           "caxis": {
            "gridcolor": "white",
            "linecolor": "white",
            "ticks": ""
           }
          },
          "title": {
           "x": 0.05
          },
          "xaxis": {
           "automargin": true,
           "gridcolor": "white",
           "linecolor": "white",
           "ticks": "",
           "title": {
            "standoff": 15
           },
           "zerolinecolor": "white",
           "zerolinewidth": 2
          },
          "yaxis": {
           "automargin": true,
           "gridcolor": "white",
           "linecolor": "white",
           "ticks": "",
           "title": {
            "standoff": 15
           },
           "zerolinecolor": "white",
           "zerolinewidth": 2
          }
         }
        },
        "xaxis": {
         "anchor": "y",
         "domain": [
          0,
          1
         ],
         "title": {
          "text": "datetime"
         }
        },
        "yaxis": {
         "anchor": "x",
         "domain": [
          0,
          1
         ],
         "title": {
          "text": "value"
         }
        }
       }
      }
     },
     "metadata": {},
     "output_type": "display_data"
    }
   ],
   "source": [
    "px.bar(rebalance_df.resample(\"1d\").sum()[\"spot_swap_cost\"])"
   ]
  },
  {
   "cell_type": "code",
   "execution_count": 14,
   "metadata": {},
   "outputs": [
    {
     "data": {
      "application/vnd.microsoft.datawrangler.viewer.v0+json": {
       "columns": [
        {
         "name": "move_name",
         "rawType": "object",
         "type": "string"
        },
        {
         "name": "count",
         "rawType": "int64",
         "type": "integer"
        }
       ],
       "ref": "8339c0f0-293c-49e3-b4b8-9f92f7ad7e7e",
       "rows": [
        [
         "baseUSD -> Aave USDC-Aave GHO",
         "54"
        ],
        [
         "fUSDC -> Aave USDC-Aave GHO",
         "41"
        ],
        [
         "baseUSD -> smUSDC",
         "24"
        ],
        [
         "baseUSD -> scrvUSDC",
         "20"
        ],
        [
         "baseUSD -> fUSDC",
         "12"
        ],
        [
         "baseUSD -> mwUSDC",
         "11"
        ],
        [
         "fUSDC -> scrvUSDC",
         "7"
        ],
        [
         "mwUSDC -> Aave USDC-Aave GHO",
         "7"
        ],
        [
         "baseUSD -> eUSDC-1",
         "2"
        ],
        [
         "smUSDC -> Aave USDC-Aave GHO",
         "2"
        ],
        [
         "eUSDC-1 -> smUSDC",
         "1"
        ],
        [
         "smUSDC -> scrvUSDC",
         "1"
        ],
        [
         "smUSDC -> mwUSDC",
         "1"
        ]
       ],
       "shape": {
        "columns": 1,
        "rows": 13
       }
      },
      "text/plain": [
       "move_name\n",
       "baseUSD -> Aave USDC-Aave GHO    54\n",
       "fUSDC -> Aave USDC-Aave GHO      41\n",
       "baseUSD -> smUSDC                24\n",
       "baseUSD -> scrvUSDC              20\n",
       "baseUSD -> fUSDC                 12\n",
       "baseUSD -> mwUSDC                11\n",
       "fUSDC -> scrvUSDC                 7\n",
       "mwUSDC -> Aave USDC-Aave GHO      7\n",
       "baseUSD -> eUSDC-1                2\n",
       "smUSDC -> Aave USDC-Aave GHO      2\n",
       "eUSDC-1 -> smUSDC                 1\n",
       "smUSDC -> scrvUSDC                1\n",
       "smUSDC -> mwUSDC                  1\n",
       "Name: count, dtype: int64"
      ]
     },
     "execution_count": 14,
     "metadata": {},
     "output_type": "execute_result"
    }
   ],
   "source": [
    "rebalance_df[\"move_name\"].value_counts()"
   ]
  },
  {
   "cell_type": "code",
   "execution_count": 15,
   "metadata": {},
   "outputs": [
    {
     "data": {
      "application/vnd.plotly.v1+json": {
       "config": {
        "plotlyServerURL": "https://plot.ly"
       },
       "data": [
        {
         "hovertemplate": "move_name=baseUSD -> Aave USDC-Aave GHO<br>safe_value_out=%{x}<br>all_time_safe_slippage=%{y}<extra></extra>",
         "legendgroup": "baseUSD -> Aave USDC-Aave GHO",
         "marker": {
          "color": "#636efa",
          "symbol": "circle"
         },
         "mode": "markers",
         "name": "baseUSD -> Aave USDC-Aave GHO",
         "orientation": "v",
         "showlegend": true,
         "type": "scatter",
         "x": [
          1096252.688
         ],
         "xaxis": "x",
         "y": [
          0.8069584510711729
         ],
         "yaxis": "y"
        },
        {
         "hovertemplate": "move_name=baseUSD -> eUSDC-1<br>safe_value_out=%{x}<br>all_time_safe_slippage=%{y}<extra></extra>",
         "legendgroup": "baseUSD -> eUSDC-1",
         "marker": {
          "color": "#EF553B",
          "symbol": "circle"
         },
         "mode": "markers",
         "name": "baseUSD -> eUSDC-1",
         "orientation": "v",
         "showlegend": true,
         "type": "scatter",
         "x": [
          178789.0758
         ],
         "xaxis": "x",
         "y": [
          0.00452130606758683
         ],
         "yaxis": "y"
        },
        {
         "hovertemplate": "move_name=baseUSD -> fUSDC<br>safe_value_out=%{x}<br>all_time_safe_slippage=%{y}<extra></extra>",
         "legendgroup": "baseUSD -> fUSDC",
         "marker": {
          "color": "#00cc96",
          "symbol": "circle"
         },
         "mode": "markers",
         "name": "baseUSD -> fUSDC",
         "orientation": "v",
         "showlegend": true,
         "type": "scatter",
         "x": [
          1661727.401145
         ],
         "xaxis": "x",
         "y": [
          0.004860522822199719
         ],
         "yaxis": "y"
        },
        {
         "hovertemplate": "move_name=baseUSD -> mwUSDC<br>safe_value_out=%{x}<br>all_time_safe_slippage=%{y}<extra></extra>",
         "legendgroup": "baseUSD -> mwUSDC",
         "marker": {
          "color": "#ab63fa",
          "symbol": "circle"
         },
         "mode": "markers",
         "name": "baseUSD -> mwUSDC",
         "orientation": "v",
         "showlegend": true,
         "type": "scatter",
         "x": [
          1579705.940548
         ],
         "xaxis": "x",
         "y": [
          0.005262157117726276
         ],
         "yaxis": "y"
        },
        {
         "hovertemplate": "move_name=baseUSD -> scrvUSDC<br>safe_value_out=%{x}<br>all_time_safe_slippage=%{y}<extra></extra>",
         "legendgroup": "baseUSD -> scrvUSDC",
         "marker": {
          "color": "#FFA15A",
          "symbol": "circle"
         },
         "mode": "markers",
         "name": "baseUSD -> scrvUSDC",
         "orientation": "v",
         "showlegend": true,
         "type": "scatter",
         "x": [
          594664.795669
         ],
         "xaxis": "x",
         "y": [
          5.871105135355245
         ],
         "yaxis": "y"
        },
        {
         "hovertemplate": "move_name=baseUSD -> smUSDC<br>safe_value_out=%{x}<br>all_time_safe_slippage=%{y}<extra></extra>",
         "legendgroup": "baseUSD -> smUSDC",
         "marker": {
          "color": "#19d3f3",
          "symbol": "circle"
         },
         "mode": "markers",
         "name": "baseUSD -> smUSDC",
         "orientation": "v",
         "showlegend": true,
         "type": "scatter",
         "x": [
          2743810.176539
         ],
         "xaxis": "x",
         "y": [
          0.0034912390900424784
         ],
         "yaxis": "y"
        },
        {
         "hovertemplate": "move_name=eUSDC-1 -> smUSDC<br>safe_value_out=%{x}<br>all_time_safe_slippage=%{y}<extra></extra>",
         "legendgroup": "eUSDC-1 -> smUSDC",
         "marker": {
          "color": "#FF6692",
          "symbol": "circle"
         },
         "mode": "markers",
         "name": "eUSDC-1 -> smUSDC",
         "orientation": "v",
         "showlegend": true,
         "type": "scatter",
         "x": [
          178799.8857763729
         ],
         "xaxis": "x",
         "y": [
          -0.001535337097024562
         ],
         "yaxis": "y"
        },
        {
         "hovertemplate": "move_name=fUSDC -> Aave USDC-Aave GHO<br>safe_value_out=%{x}<br>all_time_safe_slippage=%{y}<extra></extra>",
         "legendgroup": "fUSDC -> Aave USDC-Aave GHO",
         "marker": {
          "color": "#B6E880",
          "symbol": "circle"
         },
         "mode": "markers",
         "name": "fUSDC -> Aave USDC-Aave GHO",
         "orientation": "v",
         "showlegend": true,
         "type": "scatter",
         "x": [
          1150822.909856508
         ],
         "xaxis": "x",
         "y": [
          1.3224929949322453
         ],
         "yaxis": "y"
        },
        {
         "hovertemplate": "move_name=fUSDC -> scrvUSDC<br>safe_value_out=%{x}<br>all_time_safe_slippage=%{y}<extra></extra>",
         "legendgroup": "fUSDC -> scrvUSDC",
         "marker": {
          "color": "#FF97FF",
          "symbol": "circle"
         },
         "mode": "markers",
         "name": "fUSDC -> scrvUSDC",
         "orientation": "v",
         "showlegend": true,
         "type": "scatter",
         "x": [
          225112.55751479496
         ],
         "xaxis": "x",
         "y": [
          6.533159298054213
         ],
         "yaxis": "y"
        },
        {
         "hovertemplate": "move_name=mwUSDC -> Aave USDC-Aave GHO<br>safe_value_out=%{x}<br>all_time_safe_slippage=%{y}<extra></extra>",
         "legendgroup": "mwUSDC -> Aave USDC-Aave GHO",
         "marker": {
          "color": "#FECB52",
          "symbol": "circle"
         },
         "mode": "markers",
         "name": "mwUSDC -> Aave USDC-Aave GHO",
         "orientation": "v",
         "showlegend": true,
         "type": "scatter",
         "x": [
          204724.77562268847
         ],
         "xaxis": "x",
         "y": [
          0.9521990089406748
         ],
         "yaxis": "y"
        },
        {
         "hovertemplate": "move_name=smUSDC -> Aave USDC-Aave GHO<br>safe_value_out=%{x}<br>all_time_safe_slippage=%{y}<extra></extra>",
         "legendgroup": "smUSDC -> Aave USDC-Aave GHO",
         "marker": {
          "color": "#636efa",
          "symbol": "circle"
         },
         "mode": "markers",
         "name": "smUSDC -> Aave USDC-Aave GHO",
         "orientation": "v",
         "showlegend": true,
         "type": "scatter",
         "x": [
          80046.32550835315
         ],
         "xaxis": "x",
         "y": [
          0.3234669150826994
         ],
         "yaxis": "y"
        },
        {
         "hovertemplate": "move_name=smUSDC -> mwUSDC<br>safe_value_out=%{x}<br>all_time_safe_slippage=%{y}<extra></extra>",
         "legendgroup": "smUSDC -> mwUSDC",
         "marker": {
          "color": "#EF553B",
          "symbol": "circle"
         },
         "mode": "markers",
         "name": "smUSDC -> mwUSDC",
         "orientation": "v",
         "showlegend": true,
         "type": "scatter",
         "x": [
          621254.5943599172
         ],
         "xaxis": "x",
         "y": [
          -0.002672637624221017
         ],
         "yaxis": "y"
        },
        {
         "hovertemplate": "move_name=smUSDC -> scrvUSDC<br>safe_value_out=%{x}<br>all_time_safe_slippage=%{y}<extra></extra>",
         "legendgroup": "smUSDC -> scrvUSDC",
         "marker": {
          "color": "#00cc96",
          "symbol": "circle"
         },
         "mode": "markers",
         "name": "smUSDC -> scrvUSDC",
         "orientation": "v",
         "showlegend": true,
         "type": "scatter",
         "x": [
          40034.63724862164
         ],
         "xaxis": "x",
         "y": [
          7.955670890787585
         ],
         "yaxis": "y"
        }
       ],
       "layout": {
        "legend": {
         "title": {
          "text": "move_name"
         },
         "tracegroupgap": 0
        },
        "margin": {
         "t": 60
        },
        "template": {
         "data": {
          "bar": [
           {
            "error_x": {
             "color": "#2a3f5f"
            },
            "error_y": {
             "color": "#2a3f5f"
            },
            "marker": {
             "line": {
              "color": "#E5ECF6",
              "width": 0.5
             },
             "pattern": {
              "fillmode": "overlay",
              "size": 10,
              "solidity": 0.2
             }
            },
            "type": "bar"
           }
          ],
          "barpolar": [
           {
            "marker": {
             "line": {
              "color": "#E5ECF6",
              "width": 0.5
             },
             "pattern": {
              "fillmode": "overlay",
              "size": 10,
              "solidity": 0.2
             }
            },
            "type": "barpolar"
           }
          ],
          "carpet": [
           {
            "aaxis": {
             "endlinecolor": "#2a3f5f",
             "gridcolor": "white",
             "linecolor": "white",
             "minorgridcolor": "white",
             "startlinecolor": "#2a3f5f"
            },
            "baxis": {
             "endlinecolor": "#2a3f5f",
             "gridcolor": "white",
             "linecolor": "white",
             "minorgridcolor": "white",
             "startlinecolor": "#2a3f5f"
            },
            "type": "carpet"
           }
          ],
          "choropleth": [
           {
            "colorbar": {
             "outlinewidth": 0,
             "ticks": ""
            },
            "type": "choropleth"
           }
          ],
          "contour": [
           {
            "colorbar": {
             "outlinewidth": 0,
             "ticks": ""
            },
            "colorscale": [
             [
              0,
              "#0d0887"
             ],
             [
              0.1111111111111111,
              "#46039f"
             ],
             [
              0.2222222222222222,
              "#7201a8"
             ],
             [
              0.3333333333333333,
              "#9c179e"
             ],
             [
              0.4444444444444444,
              "#bd3786"
             ],
             [
              0.5555555555555556,
              "#d8576b"
             ],
             [
              0.6666666666666666,
              "#ed7953"
             ],
             [
              0.7777777777777778,
              "#fb9f3a"
             ],
             [
              0.8888888888888888,
              "#fdca26"
             ],
             [
              1,
              "#f0f921"
             ]
            ],
            "type": "contour"
           }
          ],
          "contourcarpet": [
           {
            "colorbar": {
             "outlinewidth": 0,
             "ticks": ""
            },
            "type": "contourcarpet"
           }
          ],
          "heatmap": [
           {
            "colorbar": {
             "outlinewidth": 0,
             "ticks": ""
            },
            "colorscale": [
             [
              0,
              "#0d0887"
             ],
             [
              0.1111111111111111,
              "#46039f"
             ],
             [
              0.2222222222222222,
              "#7201a8"
             ],
             [
              0.3333333333333333,
              "#9c179e"
             ],
             [
              0.4444444444444444,
              "#bd3786"
             ],
             [
              0.5555555555555556,
              "#d8576b"
             ],
             [
              0.6666666666666666,
              "#ed7953"
             ],
             [
              0.7777777777777778,
              "#fb9f3a"
             ],
             [
              0.8888888888888888,
              "#fdca26"
             ],
             [
              1,
              "#f0f921"
             ]
            ],
            "type": "heatmap"
           }
          ],
          "heatmapgl": [
           {
            "colorbar": {
             "outlinewidth": 0,
             "ticks": ""
            },
            "colorscale": [
             [
              0,
              "#0d0887"
             ],
             [
              0.1111111111111111,
              "#46039f"
             ],
             [
              0.2222222222222222,
              "#7201a8"
             ],
             [
              0.3333333333333333,
              "#9c179e"
             ],
             [
              0.4444444444444444,
              "#bd3786"
             ],
             [
              0.5555555555555556,
              "#d8576b"
             ],
             [
              0.6666666666666666,
              "#ed7953"
             ],
             [
              0.7777777777777778,
              "#fb9f3a"
             ],
             [
              0.8888888888888888,
              "#fdca26"
             ],
             [
              1,
              "#f0f921"
             ]
            ],
            "type": "heatmapgl"
           }
          ],
          "histogram": [
           {
            "marker": {
             "pattern": {
              "fillmode": "overlay",
              "size": 10,
              "solidity": 0.2
             }
            },
            "type": "histogram"
           }
          ],
          "histogram2d": [
           {
            "colorbar": {
             "outlinewidth": 0,
             "ticks": ""
            },
            "colorscale": [
             [
              0,
              "#0d0887"
             ],
             [
              0.1111111111111111,
              "#46039f"
             ],
             [
              0.2222222222222222,
              "#7201a8"
             ],
             [
              0.3333333333333333,
              "#9c179e"
             ],
             [
              0.4444444444444444,
              "#bd3786"
             ],
             [
              0.5555555555555556,
              "#d8576b"
             ],
             [
              0.6666666666666666,
              "#ed7953"
             ],
             [
              0.7777777777777778,
              "#fb9f3a"
             ],
             [
              0.8888888888888888,
              "#fdca26"
             ],
             [
              1,
              "#f0f921"
             ]
            ],
            "type": "histogram2d"
           }
          ],
          "histogram2dcontour": [
           {
            "colorbar": {
             "outlinewidth": 0,
             "ticks": ""
            },
            "colorscale": [
             [
              0,
              "#0d0887"
             ],
             [
              0.1111111111111111,
              "#46039f"
             ],
             [
              0.2222222222222222,
              "#7201a8"
             ],
             [
              0.3333333333333333,
              "#9c179e"
             ],
             [
              0.4444444444444444,
              "#bd3786"
             ],
             [
              0.5555555555555556,
              "#d8576b"
             ],
             [
              0.6666666666666666,
              "#ed7953"
             ],
             [
              0.7777777777777778,
              "#fb9f3a"
             ],
             [
              0.8888888888888888,
              "#fdca26"
             ],
             [
              1,
              "#f0f921"
             ]
            ],
            "type": "histogram2dcontour"
           }
          ],
          "mesh3d": [
           {
            "colorbar": {
             "outlinewidth": 0,
             "ticks": ""
            },
            "type": "mesh3d"
           }
          ],
          "parcoords": [
           {
            "line": {
             "colorbar": {
              "outlinewidth": 0,
              "ticks": ""
             }
            },
            "type": "parcoords"
           }
          ],
          "pie": [
           {
            "automargin": true,
            "type": "pie"
           }
          ],
          "scatter": [
           {
            "fillpattern": {
             "fillmode": "overlay",
             "size": 10,
             "solidity": 0.2
            },
            "type": "scatter"
           }
          ],
          "scatter3d": [
           {
            "line": {
             "colorbar": {
              "outlinewidth": 0,
              "ticks": ""
             }
            },
            "marker": {
             "colorbar": {
              "outlinewidth": 0,
              "ticks": ""
             }
            },
            "type": "scatter3d"
           }
          ],
          "scattercarpet": [
           {
            "marker": {
             "colorbar": {
              "outlinewidth": 0,
              "ticks": ""
             }
            },
            "type": "scattercarpet"
           }
          ],
          "scattergeo": [
           {
            "marker": {
             "colorbar": {
              "outlinewidth": 0,
              "ticks": ""
             }
            },
            "type": "scattergeo"
           }
          ],
          "scattergl": [
           {
            "marker": {
             "colorbar": {
              "outlinewidth": 0,
              "ticks": ""
             }
            },
            "type": "scattergl"
           }
          ],
          "scattermapbox": [
           {
            "marker": {
             "colorbar": {
              "outlinewidth": 0,
              "ticks": ""
             }
            },
            "type": "scattermapbox"
           }
          ],
          "scatterpolar": [
           {
            "marker": {
             "colorbar": {
              "outlinewidth": 0,
              "ticks": ""
             }
            },
            "type": "scatterpolar"
           }
          ],
          "scatterpolargl": [
           {
            "marker": {
             "colorbar": {
              "outlinewidth": 0,
              "ticks": ""
             }
            },
            "type": "scatterpolargl"
           }
          ],
          "scatterternary": [
           {
            "marker": {
             "colorbar": {
              "outlinewidth": 0,
              "ticks": ""
             }
            },
            "type": "scatterternary"
           }
          ],
          "surface": [
           {
            "colorbar": {
             "outlinewidth": 0,
             "ticks": ""
            },
            "colorscale": [
             [
              0,
              "#0d0887"
             ],
             [
              0.1111111111111111,
              "#46039f"
             ],
             [
              0.2222222222222222,
              "#7201a8"
             ],
             [
              0.3333333333333333,
              "#9c179e"
             ],
             [
              0.4444444444444444,
              "#bd3786"
             ],
             [
              0.5555555555555556,
              "#d8576b"
             ],
             [
              0.6666666666666666,
              "#ed7953"
             ],
             [
              0.7777777777777778,
              "#fb9f3a"
             ],
             [
              0.8888888888888888,
              "#fdca26"
             ],
             [
              1,
              "#f0f921"
             ]
            ],
            "type": "surface"
           }
          ],
          "table": [
           {
            "cells": {
             "fill": {
              "color": "#EBF0F8"
             },
             "line": {
              "color": "white"
             }
            },
            "header": {
             "fill": {
              "color": "#C8D4E3"
             },
             "line": {
              "color": "white"
             }
            },
            "type": "table"
           }
          ]
         },
         "layout": {
          "annotationdefaults": {
           "arrowcolor": "#2a3f5f",
           "arrowhead": 0,
           "arrowwidth": 1
          },
          "autotypenumbers": "strict",
          "coloraxis": {
           "colorbar": {
            "outlinewidth": 0,
            "ticks": ""
           }
          },
          "colorscale": {
           "diverging": [
            [
             0,
             "#8e0152"
            ],
            [
             0.1,
             "#c51b7d"
            ],
            [
             0.2,
             "#de77ae"
            ],
            [
             0.3,
             "#f1b6da"
            ],
            [
             0.4,
             "#fde0ef"
            ],
            [
             0.5,
             "#f7f7f7"
            ],
            [
             0.6,
             "#e6f5d0"
            ],
            [
             0.7,
             "#b8e186"
            ],
            [
             0.8,
             "#7fbc41"
            ],
            [
             0.9,
             "#4d9221"
            ],
            [
             1,
             "#276419"
            ]
           ],
           "sequential": [
            [
             0,
             "#0d0887"
            ],
            [
             0.1111111111111111,
             "#46039f"
            ],
            [
             0.2222222222222222,
             "#7201a8"
            ],
            [
             0.3333333333333333,
             "#9c179e"
            ],
            [
             0.4444444444444444,
             "#bd3786"
            ],
            [
             0.5555555555555556,
             "#d8576b"
            ],
            [
             0.6666666666666666,
             "#ed7953"
            ],
            [
             0.7777777777777778,
             "#fb9f3a"
            ],
            [
             0.8888888888888888,
             "#fdca26"
            ],
            [
             1,
             "#f0f921"
            ]
           ],
           "sequentialminus": [
            [
             0,
             "#0d0887"
            ],
            [
             0.1111111111111111,
             "#46039f"
            ],
            [
             0.2222222222222222,
             "#7201a8"
            ],
            [
             0.3333333333333333,
             "#9c179e"
            ],
            [
             0.4444444444444444,
             "#bd3786"
            ],
            [
             0.5555555555555556,
             "#d8576b"
            ],
            [
             0.6666666666666666,
             "#ed7953"
            ],
            [
             0.7777777777777778,
             "#fb9f3a"
            ],
            [
             0.8888888888888888,
             "#fdca26"
            ],
            [
             1,
             "#f0f921"
            ]
           ]
          },
          "colorway": [
           "#636efa",
           "#EF553B",
           "#00cc96",
           "#ab63fa",
           "#FFA15A",
           "#19d3f3",
           "#FF6692",
           "#B6E880",
           "#FF97FF",
           "#FECB52"
          ],
          "font": {
           "color": "#2a3f5f"
          },
          "geo": {
           "bgcolor": "white",
           "lakecolor": "white",
           "landcolor": "#E5ECF6",
           "showlakes": true,
           "showland": true,
           "subunitcolor": "white"
          },
          "hoverlabel": {
           "align": "left"
          },
          "hovermode": "closest",
          "mapbox": {
           "style": "light"
          },
          "paper_bgcolor": "white",
          "plot_bgcolor": "#E5ECF6",
          "polar": {
           "angularaxis": {
            "gridcolor": "white",
            "linecolor": "white",
            "ticks": ""
           },
           "bgcolor": "#E5ECF6",
           "radialaxis": {
            "gridcolor": "white",
            "linecolor": "white",
            "ticks": ""
           }
          },
          "scene": {
           "xaxis": {
            "backgroundcolor": "#E5ECF6",
            "gridcolor": "white",
            "gridwidth": 2,
            "linecolor": "white",
            "showbackground": true,
            "ticks": "",
            "zerolinecolor": "white"
           },
           "yaxis": {
            "backgroundcolor": "#E5ECF6",
            "gridcolor": "white",
            "gridwidth": 2,
            "linecolor": "white",
            "showbackground": true,
            "ticks": "",
            "zerolinecolor": "white"
           },
           "zaxis": {
            "backgroundcolor": "#E5ECF6",
            "gridcolor": "white",
            "gridwidth": 2,
            "linecolor": "white",
            "showbackground": true,
            "ticks": "",
            "zerolinecolor": "white"
           }
          },
          "shapedefaults": {
           "line": {
            "color": "#2a3f5f"
           }
          },
          "ternary": {
           "aaxis": {
            "gridcolor": "white",
            "linecolor": "white",
            "ticks": ""
           },
           "baxis": {
            "gridcolor": "white",
            "linecolor": "white",
            "ticks": ""
           },
           "bgcolor": "#E5ECF6",
           "caxis": {
            "gridcolor": "white",
            "linecolor": "white",
            "ticks": ""
           }
          },
          "title": {
           "x": 0.05
          },
          "xaxis": {
           "automargin": true,
           "gridcolor": "white",
           "linecolor": "white",
           "ticks": "",
           "title": {
            "standoff": 15
           },
           "zerolinecolor": "white",
           "zerolinewidth": 2
          },
          "yaxis": {
           "automargin": true,
           "gridcolor": "white",
           "linecolor": "white",
           "ticks": "",
           "title": {
            "standoff": 15
           },
           "zerolinecolor": "white",
           "zerolinewidth": 2
          }
         }
        },
        "xaxis": {
         "anchor": "y",
         "domain": [
          0,
          1
         ],
         "title": {
          "text": "safe_value_out"
         }
        },
        "yaxis": {
         "anchor": "x",
         "domain": [
          0,
          1
         ],
         "title": {
          "text": "all_time_safe_slippage"
         }
        }
       }
      }
     },
     "metadata": {},
     "output_type": "display_data"
    }
   ],
   "source": [
    "# need date filtering\n",
    "by_move_name = rebalance_df.groupby(\"move_name\")[[\"safe_value_out\", \"safe_swap_cost\"]].sum()\n",
    "by_move_name[\"all_time_safe_slippage\"] = 10_000 * by_move_name[\"safe_swap_cost\"] / by_move_name[\"safe_value_out\"]\n",
    "\n",
    "px.bar(by_move_name[\"all_time_safe_slippage\"])\n",
    "\n",
    "px.scatter(by_move_name, x=\"safe_value_out\", y=\"all_time_safe_slippage\", color=by_move_name.index)"
   ]
  },
  {
   "cell_type": "code",
   "execution_count": 16,
   "metadata": {},
   "outputs": [
    {
     "data": {
      "application/vnd.plotly.v1+json": {
       "config": {
        "plotlyServerURL": "https://plot.ly"
       },
       "data": [
        {
         "hovertemplate": "move_name=baseUSD -> Aave USDC-Aave GHO<br>safe_value_out=%{x}<br>all_time_safe_slippage=%{y}<extra></extra>",
         "legendgroup": "baseUSD -> Aave USDC-Aave GHO",
         "marker": {
          "color": "#636efa",
          "symbol": "circle"
         },
         "mode": "markers",
         "name": "baseUSD -> Aave USDC-Aave GHO",
         "orientation": "v",
         "showlegend": true,
         "type": "scatter",
         "x": [
          1096252.688
         ],
         "xaxis": "x",
         "y": [
          0.8069584510711729
         ],
         "yaxis": "y"
        },
        {
         "hovertemplate": "move_name=baseUSD -> eUSDC-1<br>safe_value_out=%{x}<br>all_time_safe_slippage=%{y}<extra></extra>",
         "legendgroup": "baseUSD -> eUSDC-1",
         "marker": {
          "color": "#EF553B",
          "symbol": "circle"
         },
         "mode": "markers",
         "name": "baseUSD -> eUSDC-1",
         "orientation": "v",
         "showlegend": true,
         "type": "scatter",
         "x": [
          178789.0758
         ],
         "xaxis": "x",
         "y": [
          0.00452130606758683
         ],
         "yaxis": "y"
        },
        {
         "hovertemplate": "move_name=baseUSD -> fUSDC<br>safe_value_out=%{x}<br>all_time_safe_slippage=%{y}<extra></extra>",
         "legendgroup": "baseUSD -> fUSDC",
         "marker": {
          "color": "#00cc96",
          "symbol": "circle"
         },
         "mode": "markers",
         "name": "baseUSD -> fUSDC",
         "orientation": "v",
         "showlegend": true,
         "type": "scatter",
         "x": [
          1661727.401145
         ],
         "xaxis": "x",
         "y": [
          0.004860522822199719
         ],
         "yaxis": "y"
        },
        {
         "hovertemplate": "move_name=baseUSD -> mwUSDC<br>safe_value_out=%{x}<br>all_time_safe_slippage=%{y}<extra></extra>",
         "legendgroup": "baseUSD -> mwUSDC",
         "marker": {
          "color": "#ab63fa",
          "symbol": "circle"
         },
         "mode": "markers",
         "name": "baseUSD -> mwUSDC",
         "orientation": "v",
         "showlegend": true,
         "type": "scatter",
         "x": [
          1579705.940548
         ],
         "xaxis": "x",
         "y": [
          0.005262157117726276
         ],
         "yaxis": "y"
        },
        {
         "hovertemplate": "move_name=baseUSD -> scrvUSDC<br>safe_value_out=%{x}<br>all_time_safe_slippage=%{y}<extra></extra>",
         "legendgroup": "baseUSD -> scrvUSDC",
         "marker": {
          "color": "#FFA15A",
          "symbol": "circle"
         },
         "mode": "markers",
         "name": "baseUSD -> scrvUSDC",
         "orientation": "v",
         "showlegend": true,
         "type": "scatter",
         "x": [
          594664.795669
         ],
         "xaxis": "x",
         "y": [
          5.871105135355245
         ],
         "yaxis": "y"
        },
        {
         "hovertemplate": "move_name=baseUSD -> smUSDC<br>safe_value_out=%{x}<br>all_time_safe_slippage=%{y}<extra></extra>",
         "legendgroup": "baseUSD -> smUSDC",
         "marker": {
          "color": "#19d3f3",
          "symbol": "circle"
         },
         "mode": "markers",
         "name": "baseUSD -> smUSDC",
         "orientation": "v",
         "showlegend": true,
         "type": "scatter",
         "x": [
          2743810.176539
         ],
         "xaxis": "x",
         "y": [
          0.0034912390900424784
         ],
         "yaxis": "y"
        },
        {
         "hovertemplate": "move_name=eUSDC-1 -> smUSDC<br>safe_value_out=%{x}<br>all_time_safe_slippage=%{y}<extra></extra>",
         "legendgroup": "eUSDC-1 -> smUSDC",
         "marker": {
          "color": "#FF6692",
          "symbol": "circle"
         },
         "mode": "markers",
         "name": "eUSDC-1 -> smUSDC",
         "orientation": "v",
         "showlegend": true,
         "type": "scatter",
         "x": [
          178799.8857763729
         ],
         "xaxis": "x",
         "y": [
          -0.001535337097024562
         ],
         "yaxis": "y"
        },
        {
         "hovertemplate": "move_name=fUSDC -> Aave USDC-Aave GHO<br>safe_value_out=%{x}<br>all_time_safe_slippage=%{y}<extra></extra>",
         "legendgroup": "fUSDC -> Aave USDC-Aave GHO",
         "marker": {
          "color": "#B6E880",
          "symbol": "circle"
         },
         "mode": "markers",
         "name": "fUSDC -> Aave USDC-Aave GHO",
         "orientation": "v",
         "showlegend": true,
         "type": "scatter",
         "x": [
          1150822.909856508
         ],
         "xaxis": "x",
         "y": [
          1.3224929949322453
         ],
         "yaxis": "y"
        },
        {
         "hovertemplate": "move_name=fUSDC -> scrvUSDC<br>safe_value_out=%{x}<br>all_time_safe_slippage=%{y}<extra></extra>",
         "legendgroup": "fUSDC -> scrvUSDC",
         "marker": {
          "color": "#FF97FF",
          "symbol": "circle"
         },
         "mode": "markers",
         "name": "fUSDC -> scrvUSDC",
         "orientation": "v",
         "showlegend": true,
         "type": "scatter",
         "x": [
          225112.55751479496
         ],
         "xaxis": "x",
         "y": [
          6.533159298054213
         ],
         "yaxis": "y"
        },
        {
         "hovertemplate": "move_name=mwUSDC -> Aave USDC-Aave GHO<br>safe_value_out=%{x}<br>all_time_safe_slippage=%{y}<extra></extra>",
         "legendgroup": "mwUSDC -> Aave USDC-Aave GHO",
         "marker": {
          "color": "#FECB52",
          "symbol": "circle"
         },
         "mode": "markers",
         "name": "mwUSDC -> Aave USDC-Aave GHO",
         "orientation": "v",
         "showlegend": true,
         "type": "scatter",
         "x": [
          204724.77562268847
         ],
         "xaxis": "x",
         "y": [
          0.9521990089406748
         ],
         "yaxis": "y"
        },
        {
         "hovertemplate": "move_name=smUSDC -> Aave USDC-Aave GHO<br>safe_value_out=%{x}<br>all_time_safe_slippage=%{y}<extra></extra>",
         "legendgroup": "smUSDC -> Aave USDC-Aave GHO",
         "marker": {
          "color": "#636efa",
          "symbol": "circle"
         },
         "mode": "markers",
         "name": "smUSDC -> Aave USDC-Aave GHO",
         "orientation": "v",
         "showlegend": true,
         "type": "scatter",
         "x": [
          80046.32550835315
         ],
         "xaxis": "x",
         "y": [
          0.3234669150826994
         ],
         "yaxis": "y"
        },
        {
         "hovertemplate": "move_name=smUSDC -> mwUSDC<br>safe_value_out=%{x}<br>all_time_safe_slippage=%{y}<extra></extra>",
         "legendgroup": "smUSDC -> mwUSDC",
         "marker": {
          "color": "#EF553B",
          "symbol": "circle"
         },
         "mode": "markers",
         "name": "smUSDC -> mwUSDC",
         "orientation": "v",
         "showlegend": true,
         "type": "scatter",
         "x": [
          621254.5943599172
         ],
         "xaxis": "x",
         "y": [
          -0.002672637624221017
         ],
         "yaxis": "y"
        },
        {
         "hovertemplate": "move_name=smUSDC -> scrvUSDC<br>safe_value_out=%{x}<br>all_time_safe_slippage=%{y}<extra></extra>",
         "legendgroup": "smUSDC -> scrvUSDC",
         "marker": {
          "color": "#00cc96",
          "symbol": "circle"
         },
         "mode": "markers",
         "name": "smUSDC -> scrvUSDC",
         "orientation": "v",
         "showlegend": true,
         "type": "scatter",
         "x": [
          40034.63724862164
         ],
         "xaxis": "x",
         "y": [
          7.955670890787585
         ],
         "yaxis": "y"
        }
       ],
       "layout": {
        "legend": {
         "title": {
          "text": "move_name"
         },
         "tracegroupgap": 0
        },
        "margin": {
         "t": 60
        },
        "template": {
         "data": {
          "bar": [
           {
            "error_x": {
             "color": "#2a3f5f"
            },
            "error_y": {
             "color": "#2a3f5f"
            },
            "marker": {
             "line": {
              "color": "#E5ECF6",
              "width": 0.5
             },
             "pattern": {
              "fillmode": "overlay",
              "size": 10,
              "solidity": 0.2
             }
            },
            "type": "bar"
           }
          ],
          "barpolar": [
           {
            "marker": {
             "line": {
              "color": "#E5ECF6",
              "width": 0.5
             },
             "pattern": {
              "fillmode": "overlay",
              "size": 10,
              "solidity": 0.2
             }
            },
            "type": "barpolar"
           }
          ],
          "carpet": [
           {
            "aaxis": {
             "endlinecolor": "#2a3f5f",
             "gridcolor": "white",
             "linecolor": "white",
             "minorgridcolor": "white",
             "startlinecolor": "#2a3f5f"
            },
            "baxis": {
             "endlinecolor": "#2a3f5f",
             "gridcolor": "white",
             "linecolor": "white",
             "minorgridcolor": "white",
             "startlinecolor": "#2a3f5f"
            },
            "type": "carpet"
           }
          ],
          "choropleth": [
           {
            "colorbar": {
             "outlinewidth": 0,
             "ticks": ""
            },
            "type": "choropleth"
           }
          ],
          "contour": [
           {
            "colorbar": {
             "outlinewidth": 0,
             "ticks": ""
            },
            "colorscale": [
             [
              0,
              "#0d0887"
             ],
             [
              0.1111111111111111,
              "#46039f"
             ],
             [
              0.2222222222222222,
              "#7201a8"
             ],
             [
              0.3333333333333333,
              "#9c179e"
             ],
             [
              0.4444444444444444,
              "#bd3786"
             ],
             [
              0.5555555555555556,
              "#d8576b"
             ],
             [
              0.6666666666666666,
              "#ed7953"
             ],
             [
              0.7777777777777778,
              "#fb9f3a"
             ],
             [
              0.8888888888888888,
              "#fdca26"
             ],
             [
              1,
              "#f0f921"
             ]
            ],
            "type": "contour"
           }
          ],
          "contourcarpet": [
           {
            "colorbar": {
             "outlinewidth": 0,
             "ticks": ""
            },
            "type": "contourcarpet"
           }
          ],
          "heatmap": [
           {
            "colorbar": {
             "outlinewidth": 0,
             "ticks": ""
            },
            "colorscale": [
             [
              0,
              "#0d0887"
             ],
             [
              0.1111111111111111,
              "#46039f"
             ],
             [
              0.2222222222222222,
              "#7201a8"
             ],
             [
              0.3333333333333333,
              "#9c179e"
             ],
             [
              0.4444444444444444,
              "#bd3786"
             ],
             [
              0.5555555555555556,
              "#d8576b"
             ],
             [
              0.6666666666666666,
              "#ed7953"
             ],
             [
              0.7777777777777778,
              "#fb9f3a"
             ],
             [
              0.8888888888888888,
              "#fdca26"
             ],
             [
              1,
              "#f0f921"
             ]
            ],
            "type": "heatmap"
           }
          ],
          "heatmapgl": [
           {
            "colorbar": {
             "outlinewidth": 0,
             "ticks": ""
            },
            "colorscale": [
             [
              0,
              "#0d0887"
             ],
             [
              0.1111111111111111,
              "#46039f"
             ],
             [
              0.2222222222222222,
              "#7201a8"
             ],
             [
              0.3333333333333333,
              "#9c179e"
             ],
             [
              0.4444444444444444,
              "#bd3786"
             ],
             [
              0.5555555555555556,
              "#d8576b"
             ],
             [
              0.6666666666666666,
              "#ed7953"
             ],
             [
              0.7777777777777778,
              "#fb9f3a"
             ],
             [
              0.8888888888888888,
              "#fdca26"
             ],
             [
              1,
              "#f0f921"
             ]
            ],
            "type": "heatmapgl"
           }
          ],
          "histogram": [
           {
            "marker": {
             "pattern": {
              "fillmode": "overlay",
              "size": 10,
              "solidity": 0.2
             }
            },
            "type": "histogram"
           }
          ],
          "histogram2d": [
           {
            "colorbar": {
             "outlinewidth": 0,
             "ticks": ""
            },
            "colorscale": [
             [
              0,
              "#0d0887"
             ],
             [
              0.1111111111111111,
              "#46039f"
             ],
             [
              0.2222222222222222,
              "#7201a8"
             ],
             [
              0.3333333333333333,
              "#9c179e"
             ],
             [
              0.4444444444444444,
              "#bd3786"
             ],
             [
              0.5555555555555556,
              "#d8576b"
             ],
             [
              0.6666666666666666,
              "#ed7953"
             ],
             [
              0.7777777777777778,
              "#fb9f3a"
             ],
             [
              0.8888888888888888,
              "#fdca26"
             ],
             [
              1,
              "#f0f921"
             ]
            ],
            "type": "histogram2d"
           }
          ],
          "histogram2dcontour": [
           {
            "colorbar": {
             "outlinewidth": 0,
             "ticks": ""
            },
            "colorscale": [
             [
              0,
              "#0d0887"
             ],
             [
              0.1111111111111111,
              "#46039f"
             ],
             [
              0.2222222222222222,
              "#7201a8"
             ],
             [
              0.3333333333333333,
              "#9c179e"
             ],
             [
              0.4444444444444444,
              "#bd3786"
             ],
             [
              0.5555555555555556,
              "#d8576b"
             ],
             [
              0.6666666666666666,
              "#ed7953"
             ],
             [
              0.7777777777777778,
              "#fb9f3a"
             ],
             [
              0.8888888888888888,
              "#fdca26"
             ],
             [
              1,
              "#f0f921"
             ]
            ],
            "type": "histogram2dcontour"
           }
          ],
          "mesh3d": [
           {
            "colorbar": {
             "outlinewidth": 0,
             "ticks": ""
            },
            "type": "mesh3d"
           }
          ],
          "parcoords": [
           {
            "line": {
             "colorbar": {
              "outlinewidth": 0,
              "ticks": ""
             }
            },
            "type": "parcoords"
           }
          ],
          "pie": [
           {
            "automargin": true,
            "type": "pie"
           }
          ],
          "scatter": [
           {
            "fillpattern": {
             "fillmode": "overlay",
             "size": 10,
             "solidity": 0.2
            },
            "type": "scatter"
           }
          ],
          "scatter3d": [
           {
            "line": {
             "colorbar": {
              "outlinewidth": 0,
              "ticks": ""
             }
            },
            "marker": {
             "colorbar": {
              "outlinewidth": 0,
              "ticks": ""
             }
            },
            "type": "scatter3d"
           }
          ],
          "scattercarpet": [
           {
            "marker": {
             "colorbar": {
              "outlinewidth": 0,
              "ticks": ""
             }
            },
            "type": "scattercarpet"
           }
          ],
          "scattergeo": [
           {
            "marker": {
             "colorbar": {
              "outlinewidth": 0,
              "ticks": ""
             }
            },
            "type": "scattergeo"
           }
          ],
          "scattergl": [
           {
            "marker": {
             "colorbar": {
              "outlinewidth": 0,
              "ticks": ""
             }
            },
            "type": "scattergl"
           }
          ],
          "scattermapbox": [
           {
            "marker": {
             "colorbar": {
              "outlinewidth": 0,
              "ticks": ""
             }
            },
            "type": "scattermapbox"
           }
          ],
          "scatterpolar": [
           {
            "marker": {
             "colorbar": {
              "outlinewidth": 0,
              "ticks": ""
             }
            },
            "type": "scatterpolar"
           }
          ],
          "scatterpolargl": [
           {
            "marker": {
             "colorbar": {
              "outlinewidth": 0,
              "ticks": ""
             }
            },
            "type": "scatterpolargl"
           }
          ],
          "scatterternary": [
           {
            "marker": {
             "colorbar": {
              "outlinewidth": 0,
              "ticks": ""
             }
            },
            "type": "scatterternary"
           }
          ],
          "surface": [
           {
            "colorbar": {
             "outlinewidth": 0,
             "ticks": ""
            },
            "colorscale": [
             [
              0,
              "#0d0887"
             ],
             [
              0.1111111111111111,
              "#46039f"
             ],
             [
              0.2222222222222222,
              "#7201a8"
             ],
             [
              0.3333333333333333,
              "#9c179e"
             ],
             [
              0.4444444444444444,
              "#bd3786"
             ],
             [
              0.5555555555555556,
              "#d8576b"
             ],
             [
              0.6666666666666666,
              "#ed7953"
             ],
             [
              0.7777777777777778,
              "#fb9f3a"
             ],
             [
              0.8888888888888888,
              "#fdca26"
             ],
             [
              1,
              "#f0f921"
             ]
            ],
            "type": "surface"
           }
          ],
          "table": [
           {
            "cells": {
             "fill": {
              "color": "#EBF0F8"
             },
             "line": {
              "color": "white"
             }
            },
            "header": {
             "fill": {
              "color": "#C8D4E3"
             },
             "line": {
              "color": "white"
             }
            },
            "type": "table"
           }
          ]
         },
         "layout": {
          "annotationdefaults": {
           "arrowcolor": "#2a3f5f",
           "arrowhead": 0,
           "arrowwidth": 1
          },
          "autotypenumbers": "strict",
          "coloraxis": {
           "colorbar": {
            "outlinewidth": 0,
            "ticks": ""
           }
          },
          "colorscale": {
           "diverging": [
            [
             0,
             "#8e0152"
            ],
            [
             0.1,
             "#c51b7d"
            ],
            [
             0.2,
             "#de77ae"
            ],
            [
             0.3,
             "#f1b6da"
            ],
            [
             0.4,
             "#fde0ef"
            ],
            [
             0.5,
             "#f7f7f7"
            ],
            [
             0.6,
             "#e6f5d0"
            ],
            [
             0.7,
             "#b8e186"
            ],
            [
             0.8,
             "#7fbc41"
            ],
            [
             0.9,
             "#4d9221"
            ],
            [
             1,
             "#276419"
            ]
           ],
           "sequential": [
            [
             0,
             "#0d0887"
            ],
            [
             0.1111111111111111,
             "#46039f"
            ],
            [
             0.2222222222222222,
             "#7201a8"
            ],
            [
             0.3333333333333333,
             "#9c179e"
            ],
            [
             0.4444444444444444,
             "#bd3786"
            ],
            [
             0.5555555555555556,
             "#d8576b"
            ],
            [
             0.6666666666666666,
             "#ed7953"
            ],
            [
             0.7777777777777778,
             "#fb9f3a"
            ],
            [
             0.8888888888888888,
             "#fdca26"
            ],
            [
             1,
             "#f0f921"
            ]
           ],
           "sequentialminus": [
            [
             0,
             "#0d0887"
            ],
            [
             0.1111111111111111,
             "#46039f"
            ],
            [
             0.2222222222222222,
             "#7201a8"
            ],
            [
             0.3333333333333333,
             "#9c179e"
            ],
            [
             0.4444444444444444,
             "#bd3786"
            ],
            [
             0.5555555555555556,
             "#d8576b"
            ],
            [
             0.6666666666666666,
             "#ed7953"
            ],
            [
             0.7777777777777778,
             "#fb9f3a"
            ],
            [
             0.8888888888888888,
             "#fdca26"
            ],
            [
             1,
             "#f0f921"
            ]
           ]
          },
          "colorway": [
           "#636efa",
           "#EF553B",
           "#00cc96",
           "#ab63fa",
           "#FFA15A",
           "#19d3f3",
           "#FF6692",
           "#B6E880",
           "#FF97FF",
           "#FECB52"
          ],
          "font": {
           "color": "#2a3f5f"
          },
          "geo": {
           "bgcolor": "white",
           "lakecolor": "white",
           "landcolor": "#E5ECF6",
           "showlakes": true,
           "showland": true,
           "subunitcolor": "white"
          },
          "hoverlabel": {
           "align": "left"
          },
          "hovermode": "closest",
          "mapbox": {
           "style": "light"
          },
          "paper_bgcolor": "white",
          "plot_bgcolor": "#E5ECF6",
          "polar": {
           "angularaxis": {
            "gridcolor": "white",
            "linecolor": "white",
            "ticks": ""
           },
           "bgcolor": "#E5ECF6",
           "radialaxis": {
            "gridcolor": "white",
            "linecolor": "white",
            "ticks": ""
           }
          },
          "scene": {
           "xaxis": {
            "backgroundcolor": "#E5ECF6",
            "gridcolor": "white",
            "gridwidth": 2,
            "linecolor": "white",
            "showbackground": true,
            "ticks": "",
            "zerolinecolor": "white"
           },
           "yaxis": {
            "backgroundcolor": "#E5ECF6",
            "gridcolor": "white",
            "gridwidth": 2,
            "linecolor": "white",
            "showbackground": true,
            "ticks": "",
            "zerolinecolor": "white"
           },
           "zaxis": {
            "backgroundcolor": "#E5ECF6",
            "gridcolor": "white",
            "gridwidth": 2,
            "linecolor": "white",
            "showbackground": true,
            "ticks": "",
            "zerolinecolor": "white"
           }
          },
          "shapedefaults": {
           "line": {
            "color": "#2a3f5f"
           }
          },
          "ternary": {
           "aaxis": {
            "gridcolor": "white",
            "linecolor": "white",
            "ticks": ""
           },
           "baxis": {
            "gridcolor": "white",
            "linecolor": "white",
            "ticks": ""
           },
           "bgcolor": "#E5ECF6",
           "caxis": {
            "gridcolor": "white",
            "linecolor": "white",
            "ticks": ""
           }
          },
          "title": {
           "x": 0.05
          },
          "xaxis": {
           "automargin": true,
           "gridcolor": "white",
           "linecolor": "white",
           "ticks": "",
           "title": {
            "standoff": 15
           },
           "zerolinecolor": "white",
           "zerolinewidth": 2
          },
          "yaxis": {
           "automargin": true,
           "gridcolor": "white",
           "linecolor": "white",
           "ticks": "",
           "title": {
            "standoff": 15
           },
           "zerolinecolor": "white",
           "zerolinewidth": 2
          }
         }
        },
        "xaxis": {
         "anchor": "y",
         "domain": [
          0,
          1
         ],
         "title": {
          "text": "safe_value_out"
         }
        },
        "yaxis": {
         "anchor": "x",
         "domain": [
          0,
          1
         ],
         "title": {
          "text": "all_time_safe_slippage"
         }
        }
       }
      }
     },
     "metadata": {},
     "output_type": "display_data"
    }
   ],
   "source": [
    "px.scatter(by_move_name, x=\"safe_value_out\", y=\"all_time_safe_slippage\", color=by_move_name.index)"
   ]
  },
  {
   "cell_type": "code",
   "execution_count": null,
   "metadata": {},
   "outputs": [],
   "source": []
  }
 ],
 "metadata": {
  "kernelspec": {
   "display_name": "mainnet-launch-FtycU18g-py3.10",
   "language": "python",
   "name": "python3"
  },
  "language_info": {
   "codemirror_mode": {
    "name": "ipython",
    "version": 3
   },
   "file_extension": ".py",
   "mimetype": "text/x-python",
   "name": "python",
   "nbconvert_exporter": "python",
   "pygments_lexer": "ipython3",
   "version": "3.10.14"
  }
 },
 "nbformat": 4,
 "nbformat_minor": 2
}
