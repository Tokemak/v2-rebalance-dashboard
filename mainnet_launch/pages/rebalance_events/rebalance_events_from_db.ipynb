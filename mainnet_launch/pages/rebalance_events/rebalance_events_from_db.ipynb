{
 "cells": [
  {
   "cell_type": "code",
   "execution_count": 1,
   "metadata": {},
   "outputs": [
    {
     "name": "stderr",
     "output_type": "stream",
     "text": [
      "2025-05-30 16:59:16.305 WARNING streamlit.runtime.caching.cache_data_api: No runtime found, using MemoryCacheStorageManager\n"
     ]
    },
    {
     "name": "stdout",
     "output_type": "stream",
     "text": [
      "2025-05-30 16:59:17,845 INFO sqlalchemy.engine.Engine select pg_catalog.version()\n",
      "2025-05-30 16:59:17,848 INFO sqlalchemy.engine.Engine [raw sql] {}\n",
      "2025-05-30 16:59:18,007 INFO sqlalchemy.engine.Engine select current_schema()\n",
      "2025-05-30 16:59:18,009 INFO sqlalchemy.engine.Engine [raw sql] {}\n",
      "2025-05-30 16:59:18,163 INFO sqlalchemy.engine.Engine show standard_conforming_strings\n",
      "2025-05-30 16:59:18,166 INFO sqlalchemy.engine.Engine [raw sql] {}\n",
      "2025-05-30 16:59:18,326 INFO sqlalchemy.engine.Engine BEGIN (implicit)\n",
      "2025-05-30 16:59:18,327 INFO sqlalchemy.engine.Engine SELECT pg_catalog.pg_class.relname \n",
      "FROM pg_catalog.pg_class JOIN pg_catalog.pg_namespace ON pg_catalog.pg_namespace.oid = pg_catalog.pg_class.relnamespace \n",
      "WHERE pg_catalog.pg_class.relname = %(table_name)s AND pg_catalog.pg_class.relkind = ANY (ARRAY[%(param_1)s, %(param_2)s, %(param_3)s, %(param_4)s, %(param_5)s]) AND pg_catalog.pg_table_is_visible(pg_catalog.pg_class.oid) AND pg_catalog.pg_namespace.nspname != %(nspname_1)s\n",
      "2025-05-30 16:59:18,328 INFO sqlalchemy.engine.Engine [generated in 0.00143s] {'table_name': <sqlalchemy.sql.elements.TextClause object at 0x11fe85ae0>, 'param_1': 'r', 'param_2': 'p', 'param_3': 'f', 'param_4': 'v', 'param_5': 'm', 'nspname_1': 'pg_catalog'}\n",
      "2025-05-30 16:59:18,329 INFO sqlalchemy.engine.Engine \n",
      "            SELECT *\n",
      "            FROM destinations\n",
      "            WHERE destinations.chain_id = 1\n",
      "        \n",
      "2025-05-30 16:59:18,330 INFO sqlalchemy.engine.Engine [generated in 0.00117s] {}\n",
      "2025-05-30 16:59:18,664 INFO sqlalchemy.engine.Engine ROLLBACK\n",
      "2025-05-30 16:59:18,816 INFO sqlalchemy.engine.Engine BEGIN (implicit)\n",
      "2025-05-30 16:59:18,816 INFO sqlalchemy.engine.Engine SELECT pg_catalog.pg_class.relname \n",
      "FROM pg_catalog.pg_class JOIN pg_catalog.pg_namespace ON pg_catalog.pg_namespace.oid = pg_catalog.pg_class.relnamespace \n",
      "WHERE pg_catalog.pg_class.relname = %(table_name)s AND pg_catalog.pg_class.relkind = ANY (ARRAY[%(param_1)s, %(param_2)s, %(param_3)s, %(param_4)s, %(param_5)s]) AND pg_catalog.pg_table_is_visible(pg_catalog.pg_class.oid) AND pg_catalog.pg_namespace.nspname != %(nspname_1)s\n",
      "2025-05-30 16:59:18,817 INFO sqlalchemy.engine.Engine [cached since 0.4904s ago] {'table_name': <sqlalchemy.sql.elements.TextClause object at 0x11fe87490>, 'param_1': 'r', 'param_2': 'p', 'param_3': 'f', 'param_4': 'v', 'param_5': 'm', 'nspname_1': 'pg_catalog'}\n",
      "2025-05-30 16:59:18,817 INFO sqlalchemy.engine.Engine \n",
      "            SELECT *\n",
      "            FROM blocks\n",
      "            WHERE blocks.chain_id = 1\n",
      "        \n",
      "2025-05-30 16:59:18,818 INFO sqlalchemy.engine.Engine [generated in 0.00038s] {}\n",
      "2025-05-30 16:59:19,068 INFO sqlalchemy.engine.Engine ROLLBACK\n",
      "2025-05-30 16:59:19,223 INFO sqlalchemy.engine.Engine BEGIN (implicit)\n",
      "2025-05-30 16:59:19,225 INFO sqlalchemy.engine.Engine SELECT pg_catalog.pg_class.relname \n",
      "FROM pg_catalog.pg_class JOIN pg_catalog.pg_namespace ON pg_catalog.pg_namespace.oid = pg_catalog.pg_class.relnamespace \n",
      "WHERE pg_catalog.pg_class.relname = %(table_name)s AND pg_catalog.pg_class.relkind = ANY (ARRAY[%(param_1)s, %(param_2)s, %(param_3)s, %(param_4)s, %(param_5)s]) AND pg_catalog.pg_table_is_visible(pg_catalog.pg_class.oid) AND pg_catalog.pg_namespace.nspname != %(nspname_1)s\n",
      "2025-05-30 16:59:19,227 INFO sqlalchemy.engine.Engine [cached since 0.9005s ago] {'table_name': <sqlalchemy.sql.elements.TextClause object at 0x11fe85720>, 'param_1': 'r', 'param_2': 'p', 'param_3': 'f', 'param_4': 'v', 'param_5': 'm', 'nspname_1': 'pg_catalog'}\n",
      "2025-05-30 16:59:19,228 INFO sqlalchemy.engine.Engine \n",
      "            SELECT *\n",
      "            FROM rebalance_events\n",
      "            \n",
      "        \n",
      "2025-05-30 16:59:19,228 INFO sqlalchemy.engine.Engine [generated in 0.00057s] {}\n",
      "2025-05-30 16:59:20,103 INFO sqlalchemy.engine.Engine ROLLBACK\n",
      "2025-05-30 16:59:20,250 INFO sqlalchemy.engine.Engine BEGIN (implicit)\n",
      "2025-05-30 16:59:20,251 INFO sqlalchemy.engine.Engine SELECT pg_catalog.pg_class.relname \n",
      "FROM pg_catalog.pg_class JOIN pg_catalog.pg_namespace ON pg_catalog.pg_namespace.oid = pg_catalog.pg_class.relnamespace \n",
      "WHERE pg_catalog.pg_class.relname = %(table_name)s AND pg_catalog.pg_class.relkind = ANY (ARRAY[%(param_1)s, %(param_2)s, %(param_3)s, %(param_4)s, %(param_5)s]) AND pg_catalog.pg_table_is_visible(pg_catalog.pg_class.oid) AND pg_catalog.pg_namespace.nspname != %(nspname_1)s\n",
      "2025-05-30 16:59:20,251 INFO sqlalchemy.engine.Engine [cached since 1.925s ago] {'table_name': <sqlalchemy.sql.elements.TextClause object at 0x11fe86530>, 'param_1': 'r', 'param_2': 'p', 'param_3': 'f', 'param_4': 'v', 'param_5': 'm', 'nspname_1': 'pg_catalog'}\n",
      "2025-05-30 16:59:20,252 INFO sqlalchemy.engine.Engine \n",
      "            SELECT *\n",
      "            FROM rebalance_plans\n",
      "            \n",
      "        \n",
      "2025-05-30 16:59:20,252 INFO sqlalchemy.engine.Engine [generated in 0.00083s] {}\n",
      "2025-05-30 16:59:20,958 INFO sqlalchemy.engine.Engine ROLLBACK\n",
      "2025-05-30 16:59:21,103 INFO sqlalchemy.engine.Engine BEGIN (implicit)\n",
      "2025-05-30 16:59:21,103 INFO sqlalchemy.engine.Engine SELECT pg_catalog.pg_class.relname \n",
      "FROM pg_catalog.pg_class JOIN pg_catalog.pg_namespace ON pg_catalog.pg_namespace.oid = pg_catalog.pg_class.relnamespace \n",
      "WHERE pg_catalog.pg_class.relname = %(table_name)s AND pg_catalog.pg_class.relkind = ANY (ARRAY[%(param_1)s, %(param_2)s, %(param_3)s, %(param_4)s, %(param_5)s]) AND pg_catalog.pg_table_is_visible(pg_catalog.pg_class.oid) AND pg_catalog.pg_namespace.nspname != %(nspname_1)s\n",
      "2025-05-30 16:59:21,104 INFO sqlalchemy.engine.Engine [cached since 2.777s ago] {'table_name': <sqlalchemy.sql.elements.TextClause object at 0x12b550040>, 'param_1': 'r', 'param_2': 'p', 'param_3': 'f', 'param_4': 'v', 'param_5': 'm', 'nspname_1': 'pg_catalog'}\n",
      "2025-05-30 16:59:21,104 INFO sqlalchemy.engine.Engine \n",
      "            SELECT *\n",
      "            FROM transactions\n",
      "            \n",
      "        \n",
      "2025-05-30 16:59:21,104 INFO sqlalchemy.engine.Engine [generated in 0.00044s] {}\n",
      "2025-05-30 16:59:21,495 INFO sqlalchemy.engine.Engine ROLLBACK\n",
      "2025-05-30 16:59:21,643 INFO sqlalchemy.engine.Engine BEGIN (implicit)\n",
      "2025-05-30 16:59:21,644 INFO sqlalchemy.engine.Engine SELECT pg_catalog.pg_class.relname \n",
      "FROM pg_catalog.pg_class JOIN pg_catalog.pg_namespace ON pg_catalog.pg_namespace.oid = pg_catalog.pg_class.relnamespace \n",
      "WHERE pg_catalog.pg_class.relname = %(table_name)s AND pg_catalog.pg_class.relkind = ANY (ARRAY[%(param_1)s, %(param_2)s, %(param_3)s, %(param_4)s, %(param_5)s]) AND pg_catalog.pg_table_is_visible(pg_catalog.pg_class.oid) AND pg_catalog.pg_namespace.nspname != %(nspname_1)s\n",
      "2025-05-30 16:59:21,644 INFO sqlalchemy.engine.Engine [cached since 3.318s ago] {'table_name': <sqlalchemy.sql.elements.TextClause object at 0x12b550370>, 'param_1': 'r', 'param_2': 'p', 'param_3': 'f', 'param_4': 'v', 'param_5': 'm', 'nspname_1': 'pg_catalog'}\n",
      "2025-05-30 16:59:21,645 INFO sqlalchemy.engine.Engine \n",
      "            SELECT *\n",
      "            FROM destination_tokens\n",
      "            \n",
      "        \n",
      "2025-05-30 16:59:21,645 INFO sqlalchemy.engine.Engine [generated in 0.00037s] {}\n",
      "2025-05-30 16:59:21,801 INFO sqlalchemy.engine.Engine ROLLBACK\n"
     ]
    },
    {
     "name": "stderr",
     "output_type": "stream",
     "text": [
      "2025-05-30 16:59:21.875 WARNING streamlit.runtime.scriptrunner_utils.script_run_context: Thread 'MainThread': missing ScriptRunContext! This warning can be ignored when running in bare mode.\n",
      "2025-05-30 16:59:21.958 \n",
      "  \u001b[33m\u001b[1mWarning:\u001b[0m to view this Streamlit app on a browser, run it with the following\n",
      "  command:\n",
      "\n",
      "    streamlit run /Users/pb/Library/Caches/pypoetry/virtualenvs/mainnet-launch-FtycU18g-py3.10/lib/python3.10/site-packages/ipykernel_launcher.py [ARGUMENTS]\n",
      "2025-05-30 16:59:21.959 Thread 'MainThread': missing ScriptRunContext! This warning can be ignored when running in bare mode.\n",
      "2025-05-30 16:59:21.959 Thread 'MainThread': missing ScriptRunContext! This warning can be ignored when running in bare mode.\n",
      "2025-05-30 16:59:21.959 No runtime found, using MemoryCacheStorageManager\n"
     ]
    },
    {
     "name": "stdout",
     "output_type": "stream",
     "text": [
      "2025-05-30 16:59:22,035 INFO sqlalchemy.engine.Engine BEGIN (implicit)\n",
      "2025-05-30 16:59:22,036 INFO sqlalchemy.engine.Engine SELECT pg_catalog.pg_class.relname \n",
      "FROM pg_catalog.pg_class JOIN pg_catalog.pg_namespace ON pg_catalog.pg_namespace.oid = pg_catalog.pg_class.relnamespace \n",
      "WHERE pg_catalog.pg_class.relname = %(table_name)s AND pg_catalog.pg_class.relkind = ANY (ARRAY[%(param_1)s, %(param_2)s, %(param_3)s, %(param_4)s, %(param_5)s]) AND pg_catalog.pg_table_is_visible(pg_catalog.pg_class.oid) AND pg_catalog.pg_namespace.nspname != %(nspname_1)s\n",
      "2025-05-30 16:59:22,036 INFO sqlalchemy.engine.Engine [cached since 3.71s ago] {'table_name': <sqlalchemy.sql.elements.TextClause object at 0x12bbcd1e0>, 'param_1': 'r', 'param_2': 'p', 'param_3': 'f', 'param_4': 'v', 'param_5': 'm', 'nspname_1': 'pg_catalog'}\n",
      "2025-05-30 16:59:22,036 INFO sqlalchemy.engine.Engine SELECT\n",
      "    rebalance_events.*,\n",
      "    transactions.block,\n",
      "    blocks.datetime\n",
      "FROM rebalance_events\n",
      "JOIN transactions\n",
      "  ON transactions.tx_hash = rebalance_events.tx_hash\n",
      "JOIN blocks\n",
      "  ON transactions.block = blocks.block AND transactions.chain_id = blocks.chain_id\n",
      "WHERE\n",
      "    (rebalance_events.autopool_vault_address = '0xa7569A44f348d3D70d8ad5889e50F78E33d80D35')\n",
      "ORDER BY\n",
      "    blocks.datetime ASC\n",
      "\n",
      "2025-05-30 16:59:22,037 INFO sqlalchemy.engine.Engine [generated in 0.00021s] {}\n"
     ]
    },
    {
     "name": "stderr",
     "output_type": "stream",
     "text": [
      "2025-05-30 16:59:22.461 Thread 'Thread-4': missing ScriptRunContext! This warning can be ignored when running in bare mode.\n",
      "2025-05-30 16:59:22.461 Thread 'Thread-4': missing ScriptRunContext! This warning can be ignored when running in bare mode.\n"
     ]
    },
    {
     "name": "stdout",
     "output_type": "stream",
     "text": [
      "2025-05-30 16:59:22,714 INFO sqlalchemy.engine.Engine ROLLBACK\n"
     ]
    },
    {
     "name": "stderr",
     "output_type": "stream",
     "text": [
      "2025-05-30 16:59:22.792 Thread 'MainThread': missing ScriptRunContext! This warning can be ignored when running in bare mode.\n",
      "2025-05-30 16:59:22.793 Thread 'MainThread': missing ScriptRunContext! This warning can be ignored when running in bare mode.\n",
      "2025-05-30 16:59:22.794 Thread 'MainThread': missing ScriptRunContext! This warning can be ignored when running in bare mode.\n",
      "2025-05-30 16:59:22.794 Thread 'MainThread': missing ScriptRunContext! This warning can be ignored when running in bare mode.\n",
      "2025-05-30 16:59:22.795 Thread 'MainThread': missing ScriptRunContext! This warning can be ignored when running in bare mode.\n"
     ]
    },
    {
     "name": "stdout",
     "output_type": "stream",
     "text": [
      "2025-05-30 16:59:22,877 INFO sqlalchemy.engine.Engine BEGIN (implicit)\n",
      "2025-05-30 16:59:22,877 INFO sqlalchemy.engine.Engine SELECT pg_catalog.pg_class.relname \n",
      "FROM pg_catalog.pg_class JOIN pg_catalog.pg_namespace ON pg_catalog.pg_namespace.oid = pg_catalog.pg_class.relnamespace \n",
      "WHERE pg_catalog.pg_class.relname = %(table_name)s AND pg_catalog.pg_class.relkind = ANY (ARRAY[%(param_1)s, %(param_2)s, %(param_3)s, %(param_4)s, %(param_5)s]) AND pg_catalog.pg_table_is_visible(pg_catalog.pg_class.oid) AND pg_catalog.pg_namespace.nspname != %(nspname_1)s\n",
      "2025-05-30 16:59:22,878 INFO sqlalchemy.engine.Engine [cached since 4.551s ago] {'table_name': <sqlalchemy.sql.elements.TextClause object at 0x12bbcd6f0>, 'param_1': 'r', 'param_2': 'p', 'param_3': 'f', 'param_4': 'v', 'param_5': 'm', 'nspname_1': 'pg_catalog'}\n",
      "2025-05-30 16:59:22,878 INFO sqlalchemy.engine.Engine SELECT\n",
      "    destination_tokens.*,\n",
      "    tokens.symbol,\n",
      "    tokens.decimals\n",
      "FROM destination_tokens\n",
      "JOIN tokens\n",
      "  ON destination_tokens.token_address = tokens.token_address\n",
      "\n",
      "2025-05-30 16:59:22,879 INFO sqlalchemy.engine.Engine [generated in 0.00037s] {}\n",
      "2025-05-30 16:59:23,037 INFO sqlalchemy.engine.Engine ROLLBACK\n"
     ]
    },
    {
     "name": "stderr",
     "output_type": "stream",
     "text": [
      "2025-05-30 16:59:23.115 Thread 'MainThread': missing ScriptRunContext! This warning can be ignored when running in bare mode.\n",
      "2025-05-30 16:59:23.116 Thread 'MainThread': missing ScriptRunContext! This warning can be ignored when running in bare mode.\n"
     ]
    }
   ],
   "source": [
    "from mainnet_launch.database.schema.full import *\n",
    "from mainnet_launch.database.schema.postgres_operations import *\n",
    "import plotly.express as px\n",
    "\n",
    "from mainnet_launch.constants import *\n",
    "\n",
    "destinations_df = get_full_table_as_df(Destinations, where_clause=Destinations.chain_id == 1)\n",
    "blocks_df = get_full_table_as_df(Blocks, where_clause=Blocks.chain_id == 1)\n",
    "event_df = get_full_table_as_df(RebalanceEvents)\n",
    "plan_df = get_full_table_as_df(RebalancePlans)\n",
    "trasactions_df = get_full_table_as_df(Transactions)\n",
    "destination_tokens_df = get_full_table_as_df(DestinationTokens)\n",
    "\n",
    "\n",
    "rebalance_df = merge_tables_as_df(\n",
    "    selectors=[\n",
    "        TableSelector(\n",
    "            RebalanceEvents,\n",
    "        ),\n",
    "        TableSelector(Transactions, [Transactions.block], join_on=(Transactions.tx_hash == RebalanceEvents.tx_hash)),\n",
    "        TableSelector(\n",
    "            Blocks,\n",
    "            [Blocks.datetime],\n",
    "            (Transactions.block == Blocks.block) & (Transactions.chain_id == Blocks.chain_id),\n",
    "        ),\n",
    "    ],\n",
    "    where_clause=(RebalanceEvents.autopool_vault_address == AUTO_USD.autopool_eth_addr),\n",
    "    order_by=Blocks.datetime,\n",
    ")\n",
    "\n",
    "tokens_df = merge_tables_as_df(\n",
    "    [\n",
    "        TableSelector(\n",
    "            DestinationTokens,\n",
    "        ),\n",
    "        TableSelector(\n",
    "            table=Tokens,\n",
    "            select_fields=[Tokens.symbol, Tokens.decimals],\n",
    "            join_on=(DestinationTokens.token_address == Tokens.token_address),\n",
    "        ),\n",
    "    ],\n",
    ")\n",
    "\n",
    "destination_to_underlying = destinations_df.set_index(\"destination_vault_address\")[\"underlying_symbol\"].to_dict()\n",
    "\n",
    "rebalance_df[\"destination_in_symbol\"] = rebalance_df[\"destination_in\"].map(destination_to_underlying)\n",
    "rebalance_df[\"destination_out_symbol\"] = rebalance_df[\"destination_out\"].map(destination_to_underlying)\n",
    "rebalance_df[\"move_name\"] = rebalance_df[\"destination_out_symbol\"] + \" -> \" + rebalance_df[\"destination_in_symbol\"]\n",
    "\n",
    "\n",
    "destination_token_address_to_symbols = (\n",
    "    tokens_df.groupby(\"destination_vault_address\")[\"symbol\"].apply(tuple).apply(str).to_dict()\n",
    ")\n",
    "rebalance_df[\"destination_in_tokens\"] = rebalance_df[\"destination_in\"].map(destination_token_address_to_symbols)\n",
    "rebalance_df[\"destination_out_tokens\"] = rebalance_df[\"destination_out\"].map(destination_token_address_to_symbols)\n",
    "rebalance_df[\"tokens_move_name\"] = (\n",
    "    rebalance_df[\"destination_out_tokens\"] + \" -> \" + rebalance_df[\"destination_in_tokens\"]\n",
    ")\n",
    "\n",
    "# take out a 100 - 90 swap cost = 10\n",
    "rebalance_df[\"spot_swap_cost\"] = rebalance_df[\"spot_value_out\"] - rebalance_df[\"spot_value_in\"]\n",
    "rebalance_df[\"spot_slippage_bps\"] = 10_000 * rebalance_df[\"spot_swap_cost\"] / rebalance_df[\"spot_value_out\"]\n",
    "\n",
    "rebalance_df[\"safe_swap_cost\"] = rebalance_df[\"safe_value_out\"] - rebalance_df[\"safe_value_in\"]\n",
    "rebalance_df[\"safe_slippage_bps\"] = 10_000 * rebalance_df[\"safe_swap_cost\"] / rebalance_df[\"safe_value_out\"]"
   ]
  },
  {
   "cell_type": "code",
   "execution_count": 2,
   "metadata": {},
   "outputs": [
    {
     "data": {
      "application/vnd.microsoft.datawrangler.viewer.v0+json": {
       "columns": [
        {
         "name": "index",
         "rawType": "object",
         "type": "string"
        },
        {
         "name": "403",
         "rawType": "object",
         "type": "unknown"
        }
       ],
       "ref": "048ee786-970d-425a-9120-a4ad653f8dbb",
       "rows": [
        [
         "tx_hash",
         "0xa48c0d19f6e7b4a41c7557a957a6b748075491d5eba08112bf010708b43da7bf"
        ],
        [
         "autopool_vault_address",
         "0xa7569A44f348d3D70d8ad5889e50F78E33d80D35"
        ],
        [
         "chain_id",
         "1"
        ],
        [
         "rebalance_file_path",
         "rebalance_plan_1748632467_0xa7569A44f348d3D70d8ad5889e50F78E33d80D35.json"
        ],
        [
         "destination_out",
         "0xb949C40F18fB52747d96850696c954718168fde3"
        ],
        [
         "destination_in",
         "0x3Ee3F7A0B244004B0678EBa98bA091eC101513Ee"
        ],
        [
         "quantity_out",
         "297218.62807844195"
        ],
        [
         "quantity_in",
         "289200.547508792"
        ],
        [
         "safe_value_out",
         "300000.8916558842"
        ],
        [
         "safe_value_in",
         "299783.8415448762"
        ],
        [
         "spot_value_in",
         "299780.66033885366"
        ],
        [
         "spot_value_out",
         "299999.1083441158"
        ],
        [
         "swap_offset_period",
         null
        ],
        [
         "block",
         "22597581"
        ],
        [
         "datetime",
         "2025-05-30 19:17:11+00:00"
        ],
        [
         "destination_in_symbol",
         "SkySaver"
        ],
        [
         "destination_out_symbol",
         "frxsUSDS"
        ],
        [
         "move_name",
         "frxsUSDS -> SkySaver"
        ],
        [
         "destination_in_tokens",
         "('scrvUSD', 'sUSDS')"
        ],
        [
         "destination_out_tokens",
         "('frxUSD', 'sUSDS')"
        ],
        [
         "tokens_move_name",
         "('frxUSD', 'sUSDS') -> ('scrvUSD', 'sUSDS')"
        ],
        [
         "spot_swap_cost",
         "218.44800526212202"
        ],
        [
         "spot_slippage_bps",
         "7.281621817740535"
        ],
        [
         "safe_swap_cost",
         "217.0501110079931"
        ],
        [
         "safe_slippage_bps",
         "7.234982196551611"
        ]
       ],
       "shape": {
        "columns": 1,
        "rows": 25
       }
      },
      "text/html": [
       "<div>\n",
       "<style scoped>\n",
       "    .dataframe tbody tr th:only-of-type {\n",
       "        vertical-align: middle;\n",
       "    }\n",
       "\n",
       "    .dataframe tbody tr th {\n",
       "        vertical-align: top;\n",
       "    }\n",
       "\n",
       "    .dataframe thead th {\n",
       "        text-align: right;\n",
       "    }\n",
       "</style>\n",
       "<table border=\"1\" class=\"dataframe\">\n",
       "  <thead>\n",
       "    <tr style=\"text-align: right;\">\n",
       "      <th></th>\n",
       "      <th>403</th>\n",
       "    </tr>\n",
       "  </thead>\n",
       "  <tbody>\n",
       "    <tr>\n",
       "      <th>tx_hash</th>\n",
       "      <td>0xa48c0d19f6e7b4a41c7557a957a6b748075491d5eba0...</td>\n",
       "    </tr>\n",
       "    <tr>\n",
       "      <th>autopool_vault_address</th>\n",
       "      <td>0xa7569A44f348d3D70d8ad5889e50F78E33d80D35</td>\n",
       "    </tr>\n",
       "    <tr>\n",
       "      <th>chain_id</th>\n",
       "      <td>1</td>\n",
       "    </tr>\n",
       "    <tr>\n",
       "      <th>rebalance_file_path</th>\n",
       "      <td>rebalance_plan_1748632467_0xa7569A44f348d3D70d...</td>\n",
       "    </tr>\n",
       "    <tr>\n",
       "      <th>destination_out</th>\n",
       "      <td>0xb949C40F18fB52747d96850696c954718168fde3</td>\n",
       "    </tr>\n",
       "    <tr>\n",
       "      <th>destination_in</th>\n",
       "      <td>0x3Ee3F7A0B244004B0678EBa98bA091eC101513Ee</td>\n",
       "    </tr>\n",
       "    <tr>\n",
       "      <th>quantity_out</th>\n",
       "      <td>297218.628078</td>\n",
       "    </tr>\n",
       "    <tr>\n",
       "      <th>quantity_in</th>\n",
       "      <td>289200.547509</td>\n",
       "    </tr>\n",
       "    <tr>\n",
       "      <th>safe_value_out</th>\n",
       "      <td>300000.891656</td>\n",
       "    </tr>\n",
       "    <tr>\n",
       "      <th>safe_value_in</th>\n",
       "      <td>299783.841545</td>\n",
       "    </tr>\n",
       "    <tr>\n",
       "      <th>spot_value_in</th>\n",
       "      <td>299780.660339</td>\n",
       "    </tr>\n",
       "    <tr>\n",
       "      <th>spot_value_out</th>\n",
       "      <td>299999.108344</td>\n",
       "    </tr>\n",
       "    <tr>\n",
       "      <th>swap_offset_period</th>\n",
       "      <td>None</td>\n",
       "    </tr>\n",
       "    <tr>\n",
       "      <th>block</th>\n",
       "      <td>22597581</td>\n",
       "    </tr>\n",
       "    <tr>\n",
       "      <th>datetime</th>\n",
       "      <td>2025-05-30 19:17:11+00:00</td>\n",
       "    </tr>\n",
       "    <tr>\n",
       "      <th>destination_in_symbol</th>\n",
       "      <td>SkySaver</td>\n",
       "    </tr>\n",
       "    <tr>\n",
       "      <th>destination_out_symbol</th>\n",
       "      <td>frxsUSDS</td>\n",
       "    </tr>\n",
       "    <tr>\n",
       "      <th>move_name</th>\n",
       "      <td>frxsUSDS -&gt; SkySaver</td>\n",
       "    </tr>\n",
       "    <tr>\n",
       "      <th>destination_in_tokens</th>\n",
       "      <td>('scrvUSD', 'sUSDS')</td>\n",
       "    </tr>\n",
       "    <tr>\n",
       "      <th>destination_out_tokens</th>\n",
       "      <td>('frxUSD', 'sUSDS')</td>\n",
       "    </tr>\n",
       "    <tr>\n",
       "      <th>tokens_move_name</th>\n",
       "      <td>('frxUSD', 'sUSDS') -&gt; ('scrvUSD', 'sUSDS')</td>\n",
       "    </tr>\n",
       "    <tr>\n",
       "      <th>spot_swap_cost</th>\n",
       "      <td>218.448005</td>\n",
       "    </tr>\n",
       "    <tr>\n",
       "      <th>spot_slippage_bps</th>\n",
       "      <td>7.281622</td>\n",
       "    </tr>\n",
       "    <tr>\n",
       "      <th>safe_swap_cost</th>\n",
       "      <td>217.050111</td>\n",
       "    </tr>\n",
       "    <tr>\n",
       "      <th>safe_slippage_bps</th>\n",
       "      <td>7.234982</td>\n",
       "    </tr>\n",
       "  </tbody>\n",
       "</table>\n",
       "</div>"
      ],
      "text/plain": [
       "                                                                      403\n",
       "tx_hash                 0xa48c0d19f6e7b4a41c7557a957a6b748075491d5eba0...\n",
       "autopool_vault_address         0xa7569A44f348d3D70d8ad5889e50F78E33d80D35\n",
       "chain_id                                                                1\n",
       "rebalance_file_path     rebalance_plan_1748632467_0xa7569A44f348d3D70d...\n",
       "destination_out                0xb949C40F18fB52747d96850696c954718168fde3\n",
       "destination_in                 0x3Ee3F7A0B244004B0678EBa98bA091eC101513Ee\n",
       "quantity_out                                                297218.628078\n",
       "quantity_in                                                 289200.547509\n",
       "safe_value_out                                              300000.891656\n",
       "safe_value_in                                               299783.841545\n",
       "spot_value_in                                               299780.660339\n",
       "spot_value_out                                              299999.108344\n",
       "swap_offset_period                                                   None\n",
       "block                                                            22597581\n",
       "datetime                                        2025-05-30 19:17:11+00:00\n",
       "destination_in_symbol                                            SkySaver\n",
       "destination_out_symbol                                           frxsUSDS\n",
       "move_name                                            frxsUSDS -> SkySaver\n",
       "destination_in_tokens                                ('scrvUSD', 'sUSDS')\n",
       "destination_out_tokens                                ('frxUSD', 'sUSDS')\n",
       "tokens_move_name              ('frxUSD', 'sUSDS') -> ('scrvUSD', 'sUSDS')\n",
       "spot_swap_cost                                                 218.448005\n",
       "spot_slippage_bps                                                7.281622\n",
       "safe_swap_cost                                                 217.050111\n",
       "safe_slippage_bps                                                7.234982"
      ]
     },
     "execution_count": 2,
     "metadata": {},
     "output_type": "execute_result"
    }
   ],
   "source": [
    "rebalance_df[rebalance_df[\"tx_hash\"] == \"0xa48c0d19f6e7b4a41c7557a957a6b748075491d5eba08112bf010708b43da7bf\"].T"
   ]
  },
  {
   "cell_type": "code",
   "execution_count": 3,
   "metadata": {},
   "outputs": [
    {
     "data": {
      "application/vnd.microsoft.datawrangler.viewer.v0+json": {
       "columns": [
        {
         "name": "index",
         "rawType": "object",
         "type": "string"
        },
        {
         "name": "4467",
         "rawType": "object",
         "type": "unknown"
        },
        {
         "name": "4468",
         "rawType": "object",
         "type": "unknown"
        },
        {
         "name": "4466",
         "rawType": "object",
         "type": "unknown"
        }
       ],
       "ref": "59948aec-ccc3-4fc8-b3c4-c2178495c7f3",
       "rows": [
        [
         "file_name",
         "rebalance_plan_1748646398_0xa7569A44f348d3D70d8ad5889e50F78E33d80D35.json",
         "rebalance_plan_1748646569_0xa7569A44f348d3D70d8ad5889e50F78E33d80D35.json",
         "rebalance_plan_1748648141_0xa7569A44f348d3D70d8ad5889e50F78E33d80D35.json"
        ],
        [
         "datetime_generated",
         "2025-05-30 23:06:38+00:00",
         "2025-05-30 23:09:29+00:00",
         "2025-05-30 23:35:41+00:00"
        ],
        [
         "autopool_vault_address",
         "0xa7569A44f348d3D70d8ad5889e50F78E33d80D35",
         "0xa7569A44f348d3D70d8ad5889e50F78E33d80D35",
         "0xa7569A44f348d3D70d8ad5889e50F78E33d80D35"
        ],
        [
         "chain_id",
         "1",
         "1",
         "1"
        ],
        [
         "solver_address",
         "0xD02b50CFc6c2903bF13638B28D081ad11515B6f9",
         "0xD02b50CFc6c2903bF13638B28D081ad11515B6f9",
         "0xD02b50CFc6c2903bF13638B28D081ad11515B6f9"
        ],
        [
         "rebalance_type",
         "Pool2Pool",
         "Pool2Pool",
         "Pool2Pool"
        ],
        [
         "destination_out",
         "0xb949C40F18fB52747d96850696c954718168fde3",
         "0xb949C40F18fB52747d96850696c954718168fde3",
         "0xb949C40F18fB52747d96850696c954718168fde3"
        ],
        [
         "token_out",
         "0x81A2612F6dEA269a6Dd1F6DeAb45C5424EE2c4b7",
         "0x81A2612F6dEA269a6Dd1F6DeAb45C5424EE2c4b7",
         "0x81A2612F6dEA269a6Dd1F6DeAb45C5424EE2c4b7"
        ],
        [
         "destination_in",
         "0x9b18801C9E95f45AD0aDD54ef2Eb4690c44d170d",
         "0x9b18801C9E95f45AD0aDD54ef2Eb4690c44d170d",
         "0x3Ee3F7A0B244004B0678EBa98bA091eC101513Ee"
        ],
        [
         "token_in",
         "0xcf62F905562626CfcDD2261162a51fd02Fc9c5b6",
         "0xcf62F905562626CfcDD2261162a51fd02Fc9c5b6",
         "0xfD1627E3f3469C8392C8c3A261D8F0677586e5e1"
        ],
        [
         "move_name",
         "frxsUSDS -> sfrxUSD",
         "frxsUSDS -> sfrxUSD",
         "frxsUSDS -> SkySaver"
        ],
        [
         "amount_out",
         "148621.0934945575",
         "148620.94623984053",
         "148616.67597997835"
        ],
        [
         "amount_out_safe_value",
         "1.50000445863e-07",
         "1.50000297241e-07",
         "1.5e-07"
        ],
        [
         "min_amount_in",
         "132092.1910328528",
         "132092.11261494807",
         "144512.0095054943"
        ],
        [
         "min_amount_in_safe_value",
         "1.49918821276e-07",
         "1.49918732275e-07",
         "1.49932394865e-07"
        ],
        [
         "amount_out_spot_value",
         "150000.0",
         "150000.0",
         "150000.0"
        ],
        [
         "out_dest_apr",
         "0.04174888059802465",
         "0.04174902745488186",
         "0.04167480520297199"
        ],
        [
         "min_amount_in_spot_value",
         "149903.48938325926",
         "149903.53256290726",
         "149931.2821613347"
        ],
        [
         "in_dest_apr",
         "0.04174888059802465",
         "0.04174902745488186",
         "0.04167480520297199"
        ],
        [
         "in_dest_adj_apr",
         "0.06926644212118648",
         "0.06926170706027211",
         "0.07197417431827112"
        ],
        [
         "apr_delta",
         "0.027517561523161822",
         "0.02751267960539025",
         "0.03029936911529913"
        ],
        [
         "swap_offset_period",
         "14.0",
         "14.0",
         "14.0"
        ],
        [
         "num_candidate_destinations",
         "3.0",
         "3.0",
         "3.0"
        ],
        [
         "candidate_destinations_rank",
         "0.0",
         "0.0",
         "0.0"
        ],
        [
         "projected_swap_cost",
         "8.16245869999995e-11",
         "8.156496599998895e-11",
         "6.760513499999946e-11"
        ],
        [
         "projected_net_gain",
         "22.98174252573111",
         "22.994373330192893",
         "67.93706874281007"
        ],
        [
         "projected_gross_gain",
         "22.981742525812734",
         "22.994373330274456",
         "67.93706874287767"
        ],
        [
         "projected_slippage",
         "0.05441622958544386",
         "0.054376536247085897",
         "0.04507008999999964"
        ]
       ],
       "shape": {
        "columns": 3,
        "rows": 28
       }
      },
      "text/html": [
       "<div>\n",
       "<style scoped>\n",
       "    .dataframe tbody tr th:only-of-type {\n",
       "        vertical-align: middle;\n",
       "    }\n",
       "\n",
       "    .dataframe tbody tr th {\n",
       "        vertical-align: top;\n",
       "    }\n",
       "\n",
       "    .dataframe thead th {\n",
       "        text-align: right;\n",
       "    }\n",
       "</style>\n",
       "<table border=\"1\" class=\"dataframe\">\n",
       "  <thead>\n",
       "    <tr style=\"text-align: right;\">\n",
       "      <th></th>\n",
       "      <th>4467</th>\n",
       "      <th>4468</th>\n",
       "      <th>4466</th>\n",
       "    </tr>\n",
       "  </thead>\n",
       "  <tbody>\n",
       "    <tr>\n",
       "      <th>file_name</th>\n",
       "      <td>rebalance_plan_1748646398_0xa7569A44f348d3D70d...</td>\n",
       "      <td>rebalance_plan_1748646569_0xa7569A44f348d3D70d...</td>\n",
       "      <td>rebalance_plan_1748648141_0xa7569A44f348d3D70d...</td>\n",
       "    </tr>\n",
       "    <tr>\n",
       "      <th>datetime_generated</th>\n",
       "      <td>2025-05-30 23:06:38+00:00</td>\n",
       "      <td>2025-05-30 23:09:29+00:00</td>\n",
       "      <td>2025-05-30 23:35:41+00:00</td>\n",
       "    </tr>\n",
       "    <tr>\n",
       "      <th>autopool_vault_address</th>\n",
       "      <td>0xa7569A44f348d3D70d8ad5889e50F78E33d80D35</td>\n",
       "      <td>0xa7569A44f348d3D70d8ad5889e50F78E33d80D35</td>\n",
       "      <td>0xa7569A44f348d3D70d8ad5889e50F78E33d80D35</td>\n",
       "    </tr>\n",
       "    <tr>\n",
       "      <th>chain_id</th>\n",
       "      <td>1</td>\n",
       "      <td>1</td>\n",
       "      <td>1</td>\n",
       "    </tr>\n",
       "    <tr>\n",
       "      <th>solver_address</th>\n",
       "      <td>0xD02b50CFc6c2903bF13638B28D081ad11515B6f9</td>\n",
       "      <td>0xD02b50CFc6c2903bF13638B28D081ad11515B6f9</td>\n",
       "      <td>0xD02b50CFc6c2903bF13638B28D081ad11515B6f9</td>\n",
       "    </tr>\n",
       "    <tr>\n",
       "      <th>rebalance_type</th>\n",
       "      <td>Pool2Pool</td>\n",
       "      <td>Pool2Pool</td>\n",
       "      <td>Pool2Pool</td>\n",
       "    </tr>\n",
       "    <tr>\n",
       "      <th>destination_out</th>\n",
       "      <td>0xb949C40F18fB52747d96850696c954718168fde3</td>\n",
       "      <td>0xb949C40F18fB52747d96850696c954718168fde3</td>\n",
       "      <td>0xb949C40F18fB52747d96850696c954718168fde3</td>\n",
       "    </tr>\n",
       "    <tr>\n",
       "      <th>token_out</th>\n",
       "      <td>0x81A2612F6dEA269a6Dd1F6DeAb45C5424EE2c4b7</td>\n",
       "      <td>0x81A2612F6dEA269a6Dd1F6DeAb45C5424EE2c4b7</td>\n",
       "      <td>0x81A2612F6dEA269a6Dd1F6DeAb45C5424EE2c4b7</td>\n",
       "    </tr>\n",
       "    <tr>\n",
       "      <th>destination_in</th>\n",
       "      <td>0x9b18801C9E95f45AD0aDD54ef2Eb4690c44d170d</td>\n",
       "      <td>0x9b18801C9E95f45AD0aDD54ef2Eb4690c44d170d</td>\n",
       "      <td>0x3Ee3F7A0B244004B0678EBa98bA091eC101513Ee</td>\n",
       "    </tr>\n",
       "    <tr>\n",
       "      <th>token_in</th>\n",
       "      <td>0xcf62F905562626CfcDD2261162a51fd02Fc9c5b6</td>\n",
       "      <td>0xcf62F905562626CfcDD2261162a51fd02Fc9c5b6</td>\n",
       "      <td>0xfD1627E3f3469C8392C8c3A261D8F0677586e5e1</td>\n",
       "    </tr>\n",
       "    <tr>\n",
       "      <th>move_name</th>\n",
       "      <td>frxsUSDS -&gt; sfrxUSD</td>\n",
       "      <td>frxsUSDS -&gt; sfrxUSD</td>\n",
       "      <td>frxsUSDS -&gt; SkySaver</td>\n",
       "    </tr>\n",
       "    <tr>\n",
       "      <th>amount_out</th>\n",
       "      <td>148621.093495</td>\n",
       "      <td>148620.94624</td>\n",
       "      <td>148616.67598</td>\n",
       "    </tr>\n",
       "    <tr>\n",
       "      <th>amount_out_safe_value</th>\n",
       "      <td>0.0</td>\n",
       "      <td>0.0</td>\n",
       "      <td>0.0</td>\n",
       "    </tr>\n",
       "    <tr>\n",
       "      <th>min_amount_in</th>\n",
       "      <td>132092.191033</td>\n",
       "      <td>132092.112615</td>\n",
       "      <td>144512.009505</td>\n",
       "    </tr>\n",
       "    <tr>\n",
       "      <th>min_amount_in_safe_value</th>\n",
       "      <td>0.0</td>\n",
       "      <td>0.0</td>\n",
       "      <td>0.0</td>\n",
       "    </tr>\n",
       "    <tr>\n",
       "      <th>amount_out_spot_value</th>\n",
       "      <td>150000.0</td>\n",
       "      <td>150000.0</td>\n",
       "      <td>150000.0</td>\n",
       "    </tr>\n",
       "    <tr>\n",
       "      <th>out_dest_apr</th>\n",
       "      <td>0.041749</td>\n",
       "      <td>0.041749</td>\n",
       "      <td>0.041675</td>\n",
       "    </tr>\n",
       "    <tr>\n",
       "      <th>min_amount_in_spot_value</th>\n",
       "      <td>149903.489383</td>\n",
       "      <td>149903.532563</td>\n",
       "      <td>149931.282161</td>\n",
       "    </tr>\n",
       "    <tr>\n",
       "      <th>in_dest_apr</th>\n",
       "      <td>0.041749</td>\n",
       "      <td>0.041749</td>\n",
       "      <td>0.041675</td>\n",
       "    </tr>\n",
       "    <tr>\n",
       "      <th>in_dest_adj_apr</th>\n",
       "      <td>0.069266</td>\n",
       "      <td>0.069262</td>\n",
       "      <td>0.071974</td>\n",
       "    </tr>\n",
       "    <tr>\n",
       "      <th>apr_delta</th>\n",
       "      <td>0.027518</td>\n",
       "      <td>0.027513</td>\n",
       "      <td>0.030299</td>\n",
       "    </tr>\n",
       "    <tr>\n",
       "      <th>swap_offset_period</th>\n",
       "      <td>14.0</td>\n",
       "      <td>14.0</td>\n",
       "      <td>14.0</td>\n",
       "    </tr>\n",
       "    <tr>\n",
       "      <th>num_candidate_destinations</th>\n",
       "      <td>3.0</td>\n",
       "      <td>3.0</td>\n",
       "      <td>3.0</td>\n",
       "    </tr>\n",
       "    <tr>\n",
       "      <th>candidate_destinations_rank</th>\n",
       "      <td>0.0</td>\n",
       "      <td>0.0</td>\n",
       "      <td>0.0</td>\n",
       "    </tr>\n",
       "    <tr>\n",
       "      <th>projected_swap_cost</th>\n",
       "      <td>0.0</td>\n",
       "      <td>0.0</td>\n",
       "      <td>0.0</td>\n",
       "    </tr>\n",
       "    <tr>\n",
       "      <th>projected_net_gain</th>\n",
       "      <td>22.981743</td>\n",
       "      <td>22.994373</td>\n",
       "      <td>67.937069</td>\n",
       "    </tr>\n",
       "    <tr>\n",
       "      <th>projected_gross_gain</th>\n",
       "      <td>22.981743</td>\n",
       "      <td>22.994373</td>\n",
       "      <td>67.937069</td>\n",
       "    </tr>\n",
       "    <tr>\n",
       "      <th>projected_slippage</th>\n",
       "      <td>0.054416</td>\n",
       "      <td>0.054377</td>\n",
       "      <td>0.04507</td>\n",
       "    </tr>\n",
       "  </tbody>\n",
       "</table>\n",
       "</div>"
      ],
      "text/plain": [
       "                                                                          4467  \\\n",
       "file_name                    rebalance_plan_1748646398_0xa7569A44f348d3D70d...   \n",
       "datetime_generated                                   2025-05-30 23:06:38+00:00   \n",
       "autopool_vault_address              0xa7569A44f348d3D70d8ad5889e50F78E33d80D35   \n",
       "chain_id                                                                     1   \n",
       "solver_address                      0xD02b50CFc6c2903bF13638B28D081ad11515B6f9   \n",
       "rebalance_type                                                       Pool2Pool   \n",
       "destination_out                     0xb949C40F18fB52747d96850696c954718168fde3   \n",
       "token_out                           0x81A2612F6dEA269a6Dd1F6DeAb45C5424EE2c4b7   \n",
       "destination_in                      0x9b18801C9E95f45AD0aDD54ef2Eb4690c44d170d   \n",
       "token_in                            0xcf62F905562626CfcDD2261162a51fd02Fc9c5b6   \n",
       "move_name                                                  frxsUSDS -> sfrxUSD   \n",
       "amount_out                                                       148621.093495   \n",
       "amount_out_safe_value                                                      0.0   \n",
       "min_amount_in                                                    132092.191033   \n",
       "min_amount_in_safe_value                                                   0.0   \n",
       "amount_out_spot_value                                                 150000.0   \n",
       "out_dest_apr                                                          0.041749   \n",
       "min_amount_in_spot_value                                         149903.489383   \n",
       "in_dest_apr                                                           0.041749   \n",
       "in_dest_adj_apr                                                       0.069266   \n",
       "apr_delta                                                             0.027518   \n",
       "swap_offset_period                                                        14.0   \n",
       "num_candidate_destinations                                                 3.0   \n",
       "candidate_destinations_rank                                                0.0   \n",
       "projected_swap_cost                                                        0.0   \n",
       "projected_net_gain                                                   22.981743   \n",
       "projected_gross_gain                                                 22.981743   \n",
       "projected_slippage                                                    0.054416   \n",
       "\n",
       "                                                                          4468  \\\n",
       "file_name                    rebalance_plan_1748646569_0xa7569A44f348d3D70d...   \n",
       "datetime_generated                                   2025-05-30 23:09:29+00:00   \n",
       "autopool_vault_address              0xa7569A44f348d3D70d8ad5889e50F78E33d80D35   \n",
       "chain_id                                                                     1   \n",
       "solver_address                      0xD02b50CFc6c2903bF13638B28D081ad11515B6f9   \n",
       "rebalance_type                                                       Pool2Pool   \n",
       "destination_out                     0xb949C40F18fB52747d96850696c954718168fde3   \n",
       "token_out                           0x81A2612F6dEA269a6Dd1F6DeAb45C5424EE2c4b7   \n",
       "destination_in                      0x9b18801C9E95f45AD0aDD54ef2Eb4690c44d170d   \n",
       "token_in                            0xcf62F905562626CfcDD2261162a51fd02Fc9c5b6   \n",
       "move_name                                                  frxsUSDS -> sfrxUSD   \n",
       "amount_out                                                        148620.94624   \n",
       "amount_out_safe_value                                                      0.0   \n",
       "min_amount_in                                                    132092.112615   \n",
       "min_amount_in_safe_value                                                   0.0   \n",
       "amount_out_spot_value                                                 150000.0   \n",
       "out_dest_apr                                                          0.041749   \n",
       "min_amount_in_spot_value                                         149903.532563   \n",
       "in_dest_apr                                                           0.041749   \n",
       "in_dest_adj_apr                                                       0.069262   \n",
       "apr_delta                                                             0.027513   \n",
       "swap_offset_period                                                        14.0   \n",
       "num_candidate_destinations                                                 3.0   \n",
       "candidate_destinations_rank                                                0.0   \n",
       "projected_swap_cost                                                        0.0   \n",
       "projected_net_gain                                                   22.994373   \n",
       "projected_gross_gain                                                 22.994373   \n",
       "projected_slippage                                                    0.054377   \n",
       "\n",
       "                                                                          4466  \n",
       "file_name                    rebalance_plan_1748648141_0xa7569A44f348d3D70d...  \n",
       "datetime_generated                                   2025-05-30 23:35:41+00:00  \n",
       "autopool_vault_address              0xa7569A44f348d3D70d8ad5889e50F78E33d80D35  \n",
       "chain_id                                                                     1  \n",
       "solver_address                      0xD02b50CFc6c2903bF13638B28D081ad11515B6f9  \n",
       "rebalance_type                                                       Pool2Pool  \n",
       "destination_out                     0xb949C40F18fB52747d96850696c954718168fde3  \n",
       "token_out                           0x81A2612F6dEA269a6Dd1F6DeAb45C5424EE2c4b7  \n",
       "destination_in                      0x3Ee3F7A0B244004B0678EBa98bA091eC101513Ee  \n",
       "token_in                            0xfD1627E3f3469C8392C8c3A261D8F0677586e5e1  \n",
       "move_name                                                 frxsUSDS -> SkySaver  \n",
       "amount_out                                                        148616.67598  \n",
       "amount_out_safe_value                                                      0.0  \n",
       "min_amount_in                                                    144512.009505  \n",
       "min_amount_in_safe_value                                                   0.0  \n",
       "amount_out_spot_value                                                 150000.0  \n",
       "out_dest_apr                                                          0.041675  \n",
       "min_amount_in_spot_value                                         149931.282161  \n",
       "in_dest_apr                                                           0.041675  \n",
       "in_dest_adj_apr                                                       0.071974  \n",
       "apr_delta                                                             0.030299  \n",
       "swap_offset_period                                                        14.0  \n",
       "num_candidate_destinations                                                 3.0  \n",
       "candidate_destinations_rank                                                0.0  \n",
       "projected_swap_cost                                                        0.0  \n",
       "projected_net_gain                                                   67.937069  \n",
       "projected_gross_gain                                                 67.937069  \n",
       "projected_slippage                                                     0.04507  "
      ]
     },
     "execution_count": 3,
     "metadata": {},
     "output_type": "execute_result"
    }
   ],
   "source": [
    "plan_df[plan_df[\"autopool_vault_address\"] == AUTO_USD.autopool_eth_addr].sort_values(\"datetime_generated\").tail(3).T"
   ]
  },
  {
   "cell_type": "code",
   "execution_count": null,
   "metadata": {},
   "outputs": [],
   "source": [
    "from mainnet_launch.data_fetching.get_state_by_block import *\n",
    "\n",
    "# map decimals → normalizer\n",
    "dec_norm = {\n",
    "    6: safe_normalize_6_with_bool_success,\n",
    "    18: safe_normalize_with_bool_success,\n",
    "}\n",
    "\n",
    "autoUSD_flash_borrow_solver = \"0xD02b50CFc6c2903bF13638B28D081ad11515B6f9\"\n",
    "\n",
    "balance_of_calls = []\n",
    "for _, row in tokens_df.iterrows():\n",
    "    token = row[\"token_address\"]\n",
    "    normalizer = dec_norm[row[\"decimals\"]]\n",
    "    call = Call(\n",
    "        token,\n",
    "        [\"balanceOf(address)(uint256)\", autoUSD_flash_borrow_solver],\n",
    "        [(token, normalizer)],\n",
    "    )\n",
    "    balance_of_calls.append(call)\n",
    "\n",
    "before = get_state_by_one_block(balance_of_calls, 22597581 - 1, ETH_CHAIN)\n",
    "after = get_state_by_one_block(balance_of_calls, 22597581, ETH_CHAIN)"
   ]
  },
  {
   "cell_type": "code",
   "execution_count": 5,
   "metadata": {},
   "outputs": [
    {
     "data": {
      "text/plain": [
       "{'0x83F20F44975D03b1b09e64809B757c47f942BEeA': 0.0,\n",
       " '0xbf5495Efe5DB9ce00f80364C8B423567e58d2110': 0.0,\n",
       " '0xae78736Cd615f374D3085123A210448E74Fc6393': 0.0,\n",
       " '0x0655977FEb2f289A4aB78af67BAB0d17aAb84367': 0.0,\n",
       " '0xf939E0A03FB07F59A73314E73794Be0E57ac1b4E': 0.0,\n",
       " '0x853d955aCEf822Db058eb8505911ED77F175b99e': 0.0,\n",
       " '0x856c4Efb76C1D1AE02e20CEB03A2A6a08b0b8dC3': 0.0,\n",
       " '0xC02aaA39b223FE8D0A0e5C4F27eAD9083C756Cc2': 0.0,\n",
       " '0x7f39C581F595B53c5cb19bD0b3f8dA6c935E2Ca0': 0.0,\n",
       " '0x9D39A5DE30e57443BfF2A8307A4256c8797A3497': 0.0,\n",
       " '0xBe9895146f7AF43049ca1c1AE358B0541Ea49704': 0.0,\n",
       " '0xa3931d71877C0E7a3148CB7Eb4463524FEc27fbD': 0.0,\n",
       " '0xA35b1B31Ce002FBF2058D22F30f95D405200A15b': 0.0,\n",
       " '0xD4fa2D31b7968E448877f69A96DE69f5de8cD23E': 0.0,\n",
       " '0xdAC17F958D2ee523a2206206994597C13D831ec7': 0.0,\n",
       " '0x04C154b66CB340F3Ae24111CC767e0184Ed00Cc6': 0.0,\n",
       " '0xCd5fE23C85820F7B72D0926FC9b05b43E359b7ee': 0.0,\n",
       " '0x5E8422345238F34275888049021821E8E08CAa1f': 0.0,\n",
       " '0x7Bc3485026Ac48b6cf9BaF0A377477Fff5703Af8': 0.0,\n",
       " '0xA0b86991c6218b36c1d19D4a2e9Eb0cE3606eB48': 0.0,\n",
       " '0xf1C9acDc66974dFB6dEcB12aA385b9cD01190E38': 0.0,\n",
       " '0xA663B02CF0a4b149d2aD41910CB81e23e1c41c32': 0.0,\n",
       " '0xae7ab96520DE3A18E5e111B5EaAb095312D7fE84': 0.0,\n",
       " '0xC71Ea051a5F82c67ADcF634c36FFE6334793D24C': 0.0,\n",
       " '0x4c9EDD5852cd905f086C759E8383e09bff1E68B3': 0.0,\n",
       " '0x40D16FC0246aD3160Ccc09B8D0D3A2cD28aE6C2f': 0.0,\n",
       " '0xFAe103DC9cf190eD75350761e95403b7b8aFa6c0': 0.0,\n",
       " '0xA1290d69c65A6Fe4DF752f95823fae25cB99e5A7': 0.0,\n",
       " '0xCAcd6fd266aF91b8AeD52aCCc382b4e165586E29': 22.321884783141634,\n",
       " '0xcf62F905562626CfcDD2261162a51fd02Fc9c5b6': 0.0}"
      ]
     },
     "execution_count": 5,
     "metadata": {},
     "output_type": "execute_result"
    }
   ],
   "source": [
    "diff = {}\n",
    "for k in before.keys():\n",
    "    if after[k] is not None:\n",
    "        diff[k] = after[k] - before[k]\n",
    "diff\n",
    "# looks like there was an extra $22 frxUSD left in the pool"
   ]
  },
  {
   "cell_type": "code",
   "execution_count": 6,
   "metadata": {},
   "outputs": [],
   "source": [
    "new_tx_hash = \"0x3b5ab1bad915b3b34caaece1ebe33c4d86220ee4412e5d9c0503ed6a85c358f1\"\n",
    "new_block = 22597905"
   ]
  },
  {
   "cell_type": "code",
   "execution_count": 7,
   "metadata": {},
   "outputs": [
    {
     "data": {
      "application/vnd.microsoft.datawrangler.viewer.v0+json": {
       "columns": [
        {
         "name": "index",
         "rawType": "object",
         "type": "string"
        },
        {
         "name": "404",
         "rawType": "object",
         "type": "unknown"
        }
       ],
       "ref": "cd588c55-9d3a-4356-b09a-fd2b06e09c94",
       "rows": [
        [
         "tx_hash",
         "0x3b5ab1bad915b3b34caaece1ebe33c4d86220ee4412e5d9c0503ed6a85c358f1"
        ],
        [
         "autopool_vault_address",
         "0xa7569A44f348d3D70d8ad5889e50F78E33d80D35"
        ],
        [
         "chain_id",
         "1"
        ],
        [
         "rebalance_file_path",
         "rebalance_plan_1748636368_0xa7569A44f348d3D70d8ad5889e50F78E33d80D35.json"
        ],
        [
         "destination_out",
         "0xb949C40F18fB52747d96850696c954718168fde3"
        ],
        [
         "destination_in",
         "0x3Ee3F7A0B244004B0678EBa98bA091eC101513Ee"
        ],
        [
         "quantity_out",
         "198173.04271917194"
        ],
        [
         "quantity_in",
         "192828.43794561914"
        ],
        [
         "safe_value_out",
         "200000.3963460854"
        ],
        [
         "safe_value_in",
         "199888.4655441221"
        ],
        [
         "spot_value_in",
         "199881.716548794"
        ],
        [
         "spot_value_out",
         "200000.1981730427"
        ],
        [
         "swap_offset_period",
         null
        ],
        [
         "block",
         "22597905"
        ],
        [
         "datetime",
         "2025-05-30 20:22:23+00:00"
        ],
        [
         "destination_in_symbol",
         "SkySaver"
        ],
        [
         "destination_out_symbol",
         "frxsUSDS"
        ],
        [
         "move_name",
         "frxsUSDS -> SkySaver"
        ],
        [
         "destination_in_tokens",
         "('scrvUSD', 'sUSDS')"
        ],
        [
         "destination_out_tokens",
         "('frxUSD', 'sUSDS')"
        ],
        [
         "tokens_move_name",
         "('frxUSD', 'sUSDS') -> ('scrvUSD', 'sUSDS')"
        ],
        [
         "spot_swap_cost",
         "118.48162424869952"
        ],
        [
         "spot_slippage_bps",
         "5.924075342474796"
        ],
        [
         "safe_swap_cost",
         "111.93080196331721"
        ],
        [
         "safe_slippage_bps",
         "5.59652900735404"
        ]
       ],
       "shape": {
        "columns": 1,
        "rows": 25
       }
      },
      "text/html": [
       "<div>\n",
       "<style scoped>\n",
       "    .dataframe tbody tr th:only-of-type {\n",
       "        vertical-align: middle;\n",
       "    }\n",
       "\n",
       "    .dataframe tbody tr th {\n",
       "        vertical-align: top;\n",
       "    }\n",
       "\n",
       "    .dataframe thead th {\n",
       "        text-align: right;\n",
       "    }\n",
       "</style>\n",
       "<table border=\"1\" class=\"dataframe\">\n",
       "  <thead>\n",
       "    <tr style=\"text-align: right;\">\n",
       "      <th></th>\n",
       "      <th>404</th>\n",
       "    </tr>\n",
       "  </thead>\n",
       "  <tbody>\n",
       "    <tr>\n",
       "      <th>tx_hash</th>\n",
       "      <td>0x3b5ab1bad915b3b34caaece1ebe33c4d86220ee4412e...</td>\n",
       "    </tr>\n",
       "    <tr>\n",
       "      <th>autopool_vault_address</th>\n",
       "      <td>0xa7569A44f348d3D70d8ad5889e50F78E33d80D35</td>\n",
       "    </tr>\n",
       "    <tr>\n",
       "      <th>chain_id</th>\n",
       "      <td>1</td>\n",
       "    </tr>\n",
       "    <tr>\n",
       "      <th>rebalance_file_path</th>\n",
       "      <td>rebalance_plan_1748636368_0xa7569A44f348d3D70d...</td>\n",
       "    </tr>\n",
       "    <tr>\n",
       "      <th>destination_out</th>\n",
       "      <td>0xb949C40F18fB52747d96850696c954718168fde3</td>\n",
       "    </tr>\n",
       "    <tr>\n",
       "      <th>destination_in</th>\n",
       "      <td>0x3Ee3F7A0B244004B0678EBa98bA091eC101513Ee</td>\n",
       "    </tr>\n",
       "    <tr>\n",
       "      <th>quantity_out</th>\n",
       "      <td>198173.042719</td>\n",
       "    </tr>\n",
       "    <tr>\n",
       "      <th>quantity_in</th>\n",
       "      <td>192828.437946</td>\n",
       "    </tr>\n",
       "    <tr>\n",
       "      <th>safe_value_out</th>\n",
       "      <td>200000.396346</td>\n",
       "    </tr>\n",
       "    <tr>\n",
       "      <th>safe_value_in</th>\n",
       "      <td>199888.465544</td>\n",
       "    </tr>\n",
       "    <tr>\n",
       "      <th>spot_value_in</th>\n",
       "      <td>199881.716549</td>\n",
       "    </tr>\n",
       "    <tr>\n",
       "      <th>spot_value_out</th>\n",
       "      <td>200000.198173</td>\n",
       "    </tr>\n",
       "    <tr>\n",
       "      <th>swap_offset_period</th>\n",
       "      <td>None</td>\n",
       "    </tr>\n",
       "    <tr>\n",
       "      <th>block</th>\n",
       "      <td>22597905</td>\n",
       "    </tr>\n",
       "    <tr>\n",
       "      <th>datetime</th>\n",
       "      <td>2025-05-30 20:22:23+00:00</td>\n",
       "    </tr>\n",
       "    <tr>\n",
       "      <th>destination_in_symbol</th>\n",
       "      <td>SkySaver</td>\n",
       "    </tr>\n",
       "    <tr>\n",
       "      <th>destination_out_symbol</th>\n",
       "      <td>frxsUSDS</td>\n",
       "    </tr>\n",
       "    <tr>\n",
       "      <th>move_name</th>\n",
       "      <td>frxsUSDS -&gt; SkySaver</td>\n",
       "    </tr>\n",
       "    <tr>\n",
       "      <th>destination_in_tokens</th>\n",
       "      <td>('scrvUSD', 'sUSDS')</td>\n",
       "    </tr>\n",
       "    <tr>\n",
       "      <th>destination_out_tokens</th>\n",
       "      <td>('frxUSD', 'sUSDS')</td>\n",
       "    </tr>\n",
       "    <tr>\n",
       "      <th>tokens_move_name</th>\n",
       "      <td>('frxUSD', 'sUSDS') -&gt; ('scrvUSD', 'sUSDS')</td>\n",
       "    </tr>\n",
       "    <tr>\n",
       "      <th>spot_swap_cost</th>\n",
       "      <td>118.481624</td>\n",
       "    </tr>\n",
       "    <tr>\n",
       "      <th>spot_slippage_bps</th>\n",
       "      <td>5.924075</td>\n",
       "    </tr>\n",
       "    <tr>\n",
       "      <th>safe_swap_cost</th>\n",
       "      <td>111.930802</td>\n",
       "    </tr>\n",
       "    <tr>\n",
       "      <th>safe_slippage_bps</th>\n",
       "      <td>5.596529</td>\n",
       "    </tr>\n",
       "  </tbody>\n",
       "</table>\n",
       "</div>"
      ],
      "text/plain": [
       "                                                                      404\n",
       "tx_hash                 0x3b5ab1bad915b3b34caaece1ebe33c4d86220ee4412e...\n",
       "autopool_vault_address         0xa7569A44f348d3D70d8ad5889e50F78E33d80D35\n",
       "chain_id                                                                1\n",
       "rebalance_file_path     rebalance_plan_1748636368_0xa7569A44f348d3D70d...\n",
       "destination_out                0xb949C40F18fB52747d96850696c954718168fde3\n",
       "destination_in                 0x3Ee3F7A0B244004B0678EBa98bA091eC101513Ee\n",
       "quantity_out                                                198173.042719\n",
       "quantity_in                                                 192828.437946\n",
       "safe_value_out                                              200000.396346\n",
       "safe_value_in                                               199888.465544\n",
       "spot_value_in                                               199881.716549\n",
       "spot_value_out                                              200000.198173\n",
       "swap_offset_period                                                   None\n",
       "block                                                            22597905\n",
       "datetime                                        2025-05-30 20:22:23+00:00\n",
       "destination_in_symbol                                            SkySaver\n",
       "destination_out_symbol                                           frxsUSDS\n",
       "move_name                                            frxsUSDS -> SkySaver\n",
       "destination_in_tokens                                ('scrvUSD', 'sUSDS')\n",
       "destination_out_tokens                                ('frxUSD', 'sUSDS')\n",
       "tokens_move_name              ('frxUSD', 'sUSDS') -> ('scrvUSD', 'sUSDS')\n",
       "spot_swap_cost                                                 118.481624\n",
       "spot_slippage_bps                                                5.924075\n",
       "safe_swap_cost                                                 111.930802\n",
       "safe_slippage_bps                                                5.596529"
      ]
     },
     "execution_count": 7,
     "metadata": {},
     "output_type": "execute_result"
    }
   ],
   "source": [
    "rebalance_df[rebalance_df[\"tx_hash\"] == new_tx_hash].T"
   ]
  },
  {
   "cell_type": "code",
   "execution_count": 8,
   "metadata": {},
   "outputs": [
    {
     "data": {
      "application/vnd.microsoft.datawrangler.viewer.v0+json": {
       "columns": [
        {
         "name": "index",
         "rawType": "object",
         "type": "string"
        },
        {
         "name": "4466",
         "rawType": "object",
         "type": "unknown"
        }
       ],
       "ref": "4f2e50d5-6f78-4099-b2bc-abded9585ecf",
       "rows": [
        [
         "file_name",
         "rebalance_plan_1748648141_0xa7569A44f348d3D70d8ad5889e50F78E33d80D35.json"
        ],
        [
         "datetime_generated",
         "2025-05-30 23:35:41+00:00"
        ],
        [
         "autopool_vault_address",
         "0xa7569A44f348d3D70d8ad5889e50F78E33d80D35"
        ],
        [
         "chain_id",
         "1"
        ],
        [
         "solver_address",
         "0xD02b50CFc6c2903bF13638B28D081ad11515B6f9"
        ],
        [
         "rebalance_type",
         "Pool2Pool"
        ],
        [
         "destination_out",
         "0xb949C40F18fB52747d96850696c954718168fde3"
        ],
        [
         "token_out",
         "0x81A2612F6dEA269a6Dd1F6DeAb45C5424EE2c4b7"
        ],
        [
         "destination_in",
         "0x3Ee3F7A0B244004B0678EBa98bA091eC101513Ee"
        ],
        [
         "token_in",
         "0xfD1627E3f3469C8392C8c3A261D8F0677586e5e1"
        ],
        [
         "move_name",
         "frxsUSDS -> SkySaver"
        ],
        [
         "amount_out",
         "148616.67597997835"
        ],
        [
         "amount_out_safe_value",
         "1.5e-07"
        ],
        [
         "min_amount_in",
         "144512.0095054943"
        ],
        [
         "min_amount_in_safe_value",
         "1.49932394865e-07"
        ],
        [
         "amount_out_spot_value",
         "150000.0"
        ],
        [
         "out_dest_apr",
         "0.04167480520297199"
        ],
        [
         "min_amount_in_spot_value",
         "149931.2821613347"
        ],
        [
         "in_dest_apr",
         "0.04167480520297199"
        ],
        [
         "in_dest_adj_apr",
         "0.07197417431827112"
        ],
        [
         "apr_delta",
         "0.03029936911529913"
        ],
        [
         "swap_offset_period",
         "14.0"
        ],
        [
         "num_candidate_destinations",
         "3.0"
        ],
        [
         "candidate_destinations_rank",
         "0.0"
        ],
        [
         "projected_swap_cost",
         "6.760513499999946e-11"
        ],
        [
         "projected_net_gain",
         "67.93706874281007"
        ],
        [
         "projected_gross_gain",
         "67.93706874287767"
        ],
        [
         "projected_slippage",
         "0.04507008999999964"
        ]
       ],
       "shape": {
        "columns": 1,
        "rows": 28
       }
      },
      "text/html": [
       "<div>\n",
       "<style scoped>\n",
       "    .dataframe tbody tr th:only-of-type {\n",
       "        vertical-align: middle;\n",
       "    }\n",
       "\n",
       "    .dataframe tbody tr th {\n",
       "        vertical-align: top;\n",
       "    }\n",
       "\n",
       "    .dataframe thead th {\n",
       "        text-align: right;\n",
       "    }\n",
       "</style>\n",
       "<table border=\"1\" class=\"dataframe\">\n",
       "  <thead>\n",
       "    <tr style=\"text-align: right;\">\n",
       "      <th></th>\n",
       "      <th>4466</th>\n",
       "    </tr>\n",
       "  </thead>\n",
       "  <tbody>\n",
       "    <tr>\n",
       "      <th>file_name</th>\n",
       "      <td>rebalance_plan_1748648141_0xa7569A44f348d3D70d...</td>\n",
       "    </tr>\n",
       "    <tr>\n",
       "      <th>datetime_generated</th>\n",
       "      <td>2025-05-30 23:35:41+00:00</td>\n",
       "    </tr>\n",
       "    <tr>\n",
       "      <th>autopool_vault_address</th>\n",
       "      <td>0xa7569A44f348d3D70d8ad5889e50F78E33d80D35</td>\n",
       "    </tr>\n",
       "    <tr>\n",
       "      <th>chain_id</th>\n",
       "      <td>1</td>\n",
       "    </tr>\n",
       "    <tr>\n",
       "      <th>solver_address</th>\n",
       "      <td>0xD02b50CFc6c2903bF13638B28D081ad11515B6f9</td>\n",
       "    </tr>\n",
       "    <tr>\n",
       "      <th>rebalance_type</th>\n",
       "      <td>Pool2Pool</td>\n",
       "    </tr>\n",
       "    <tr>\n",
       "      <th>destination_out</th>\n",
       "      <td>0xb949C40F18fB52747d96850696c954718168fde3</td>\n",
       "    </tr>\n",
       "    <tr>\n",
       "      <th>token_out</th>\n",
       "      <td>0x81A2612F6dEA269a6Dd1F6DeAb45C5424EE2c4b7</td>\n",
       "    </tr>\n",
       "    <tr>\n",
       "      <th>destination_in</th>\n",
       "      <td>0x3Ee3F7A0B244004B0678EBa98bA091eC101513Ee</td>\n",
       "    </tr>\n",
       "    <tr>\n",
       "      <th>token_in</th>\n",
       "      <td>0xfD1627E3f3469C8392C8c3A261D8F0677586e5e1</td>\n",
       "    </tr>\n",
       "    <tr>\n",
       "      <th>move_name</th>\n",
       "      <td>frxsUSDS -&gt; SkySaver</td>\n",
       "    </tr>\n",
       "    <tr>\n",
       "      <th>amount_out</th>\n",
       "      <td>148616.67598</td>\n",
       "    </tr>\n",
       "    <tr>\n",
       "      <th>amount_out_safe_value</th>\n",
       "      <td>0.0</td>\n",
       "    </tr>\n",
       "    <tr>\n",
       "      <th>min_amount_in</th>\n",
       "      <td>144512.009505</td>\n",
       "    </tr>\n",
       "    <tr>\n",
       "      <th>min_amount_in_safe_value</th>\n",
       "      <td>0.0</td>\n",
       "    </tr>\n",
       "    <tr>\n",
       "      <th>amount_out_spot_value</th>\n",
       "      <td>150000.0</td>\n",
       "    </tr>\n",
       "    <tr>\n",
       "      <th>out_dest_apr</th>\n",
       "      <td>0.041675</td>\n",
       "    </tr>\n",
       "    <tr>\n",
       "      <th>min_amount_in_spot_value</th>\n",
       "      <td>149931.282161</td>\n",
       "    </tr>\n",
       "    <tr>\n",
       "      <th>in_dest_apr</th>\n",
       "      <td>0.041675</td>\n",
       "    </tr>\n",
       "    <tr>\n",
       "      <th>in_dest_adj_apr</th>\n",
       "      <td>0.071974</td>\n",
       "    </tr>\n",
       "    <tr>\n",
       "      <th>apr_delta</th>\n",
       "      <td>0.030299</td>\n",
       "    </tr>\n",
       "    <tr>\n",
       "      <th>swap_offset_period</th>\n",
       "      <td>14.0</td>\n",
       "    </tr>\n",
       "    <tr>\n",
       "      <th>num_candidate_destinations</th>\n",
       "      <td>3.0</td>\n",
       "    </tr>\n",
       "    <tr>\n",
       "      <th>candidate_destinations_rank</th>\n",
       "      <td>0.0</td>\n",
       "    </tr>\n",
       "    <tr>\n",
       "      <th>projected_swap_cost</th>\n",
       "      <td>0.0</td>\n",
       "    </tr>\n",
       "    <tr>\n",
       "      <th>projected_net_gain</th>\n",
       "      <td>67.937069</td>\n",
       "    </tr>\n",
       "    <tr>\n",
       "      <th>projected_gross_gain</th>\n",
       "      <td>67.937069</td>\n",
       "    </tr>\n",
       "    <tr>\n",
       "      <th>projected_slippage</th>\n",
       "      <td>0.04507</td>\n",
       "    </tr>\n",
       "  </tbody>\n",
       "</table>\n",
       "</div>"
      ],
      "text/plain": [
       "                                                                          4466\n",
       "file_name                    rebalance_plan_1748648141_0xa7569A44f348d3D70d...\n",
       "datetime_generated                                   2025-05-30 23:35:41+00:00\n",
       "autopool_vault_address              0xa7569A44f348d3D70d8ad5889e50F78E33d80D35\n",
       "chain_id                                                                     1\n",
       "solver_address                      0xD02b50CFc6c2903bF13638B28D081ad11515B6f9\n",
       "rebalance_type                                                       Pool2Pool\n",
       "destination_out                     0xb949C40F18fB52747d96850696c954718168fde3\n",
       "token_out                           0x81A2612F6dEA269a6Dd1F6DeAb45C5424EE2c4b7\n",
       "destination_in                      0x3Ee3F7A0B244004B0678EBa98bA091eC101513Ee\n",
       "token_in                            0xfD1627E3f3469C8392C8c3A261D8F0677586e5e1\n",
       "move_name                                                 frxsUSDS -> SkySaver\n",
       "amount_out                                                        148616.67598\n",
       "amount_out_safe_value                                                      0.0\n",
       "min_amount_in                                                    144512.009505\n",
       "min_amount_in_safe_value                                                   0.0\n",
       "amount_out_spot_value                                                 150000.0\n",
       "out_dest_apr                                                          0.041675\n",
       "min_amount_in_spot_value                                         149931.282161\n",
       "in_dest_apr                                                           0.041675\n",
       "in_dest_adj_apr                                                       0.071974\n",
       "apr_delta                                                             0.030299\n",
       "swap_offset_period                                                        14.0\n",
       "num_candidate_destinations                                                 3.0\n",
       "candidate_destinations_rank                                                0.0\n",
       "projected_swap_cost                                                        0.0\n",
       "projected_net_gain                                                   67.937069\n",
       "projected_gross_gain                                                 67.937069\n",
       "projected_slippage                                                     0.04507"
      ]
     },
     "execution_count": 8,
     "metadata": {},
     "output_type": "execute_result"
    }
   ],
   "source": [
    "plan_df[plan_df[\"autopool_vault_address\"] == AUTO_USD.autopool_eth_addr].sort_values(\"datetime_generated\").tail(1).T"
   ]
  },
  {
   "cell_type": "code",
   "execution_count": 9,
   "metadata": {},
   "outputs": [
    {
     "data": {
      "text/plain": [
       "{'0x83F20F44975D03b1b09e64809B757c47f942BEeA': 0.0,\n",
       " '0xbf5495Efe5DB9ce00f80364C8B423567e58d2110': 0.0,\n",
       " '0xae78736Cd615f374D3085123A210448E74Fc6393': 0.0,\n",
       " '0x0655977FEb2f289A4aB78af67BAB0d17aAb84367': 0.0,\n",
       " '0xf939E0A03FB07F59A73314E73794Be0E57ac1b4E': 0.0,\n",
       " '0x853d955aCEf822Db058eb8505911ED77F175b99e': 0.0,\n",
       " '0x856c4Efb76C1D1AE02e20CEB03A2A6a08b0b8dC3': 0.0,\n",
       " '0xC02aaA39b223FE8D0A0e5C4F27eAD9083C756Cc2': 0.0,\n",
       " '0x7f39C581F595B53c5cb19bD0b3f8dA6c935E2Ca0': 0.0,\n",
       " '0x9D39A5DE30e57443BfF2A8307A4256c8797A3497': 0.0,\n",
       " '0xBe9895146f7AF43049ca1c1AE358B0541Ea49704': 0.0,\n",
       " '0xa3931d71877C0E7a3148CB7Eb4463524FEc27fbD': 0.0,\n",
       " '0xA35b1B31Ce002FBF2058D22F30f95D405200A15b': 0.0,\n",
       " '0xD4fa2D31b7968E448877f69A96DE69f5de8cD23E': 0.0,\n",
       " '0xdAC17F958D2ee523a2206206994597C13D831ec7': 0.0,\n",
       " '0x04C154b66CB340F3Ae24111CC767e0184Ed00Cc6': 0.0,\n",
       " '0xCd5fE23C85820F7B72D0926FC9b05b43E359b7ee': 0.0,\n",
       " '0x5E8422345238F34275888049021821E8E08CAa1f': 0.0,\n",
       " '0x7Bc3485026Ac48b6cf9BaF0A377477Fff5703Af8': 0.0,\n",
       " '0xA0b86991c6218b36c1d19D4a2e9Eb0cE3606eB48': 0.0,\n",
       " '0xf1C9acDc66974dFB6dEcB12aA385b9cD01190E38': 0.0,\n",
       " '0xA663B02CF0a4b149d2aD41910CB81e23e1c41c32': 0.0,\n",
       " '0xae7ab96520DE3A18E5e111B5EaAb095312D7fE84': 0.0,\n",
       " '0xC71Ea051a5F82c67ADcF634c36FFE6334793D24C': 0.0,\n",
       " '0x4c9EDD5852cd905f086C759E8383e09bff1E68B3': 0.0,\n",
       " '0x40D16FC0246aD3160Ccc09B8D0D3A2cD28aE6C2f': 0.0,\n",
       " '0xFAe103DC9cf190eD75350761e95403b7b8aFa6c0': 0.0,\n",
       " '0xA1290d69c65A6Fe4DF752f95823fae25cB99e5A7': 0.0,\n",
       " '0xCAcd6fd266aF91b8AeD52aCCc382b4e165586E29': 15.484903347255134,\n",
       " '0xcf62F905562626CfcDD2261162a51fd02Fc9c5b6': 0.0}"
      ]
     },
     "execution_count": 9,
     "metadata": {},
     "output_type": "execute_result"
    }
   ],
   "source": [
    "before = get_state_by_one_block(balance_of_calls, new_block - 1, ETH_CHAIN)\n",
    "after = get_state_by_one_block(balance_of_calls, new_block, ETH_CHAIN)\n",
    "diff = {}\n",
    "for k in before.keys():\n",
    "    if after[k] is not None:\n",
    "        diff[k] = after[k] - before[k]\n",
    "diff\n",
    "# looks like th"
   ]
  },
  {
   "cell_type": "code",
   "execution_count": 10,
   "metadata": {},
   "outputs": [
    {
     "data": {
      "text/plain": [
       "5.1740812124349755"
      ]
     },
     "execution_count": 10,
     "metadata": {},
     "output_type": "execute_result"
    }
   ],
   "source": [
    "10000 * (118.48162424869952 - 15) / 200_000"
   ]
  },
  {
   "cell_type": "code",
   "execution_count": 11,
   "metadata": {},
   "outputs": [
    {
     "data": {
      "text/plain": [
       "103"
      ]
     },
     "execution_count": 11,
     "metadata": {},
     "output_type": "execute_result"
    }
   ],
   "source": [
    "118 - 15"
   ]
  },
  {
   "cell_type": "code",
   "execution_count": 12,
   "metadata": {},
   "outputs": [
    {
     "data": {
      "application/vnd.microsoft.datawrangler.viewer.v0+json": {
       "columns": [
        {
         "name": "index",
         "rawType": "object",
         "type": "string"
        },
        {
         "name": "405",
         "rawType": "object",
         "type": "unknown"
        }
       ],
       "ref": "fd63d58b-d1cc-488b-b9c6-be6591586e70",
       "rows": [
        [
         "tx_hash",
         "0x2403575c107f3bc9d59b77466f360f79c0e7405127a1200a96c72bff84947eaf"
        ],
        [
         "autopool_vault_address",
         "0xa7569A44f348d3D70d8ad5889e50F78E33d80D35"
        ],
        [
         "chain_id",
         "1"
        ],
        [
         "rebalance_file_path",
         "rebalance_plan_1748641689_0xa7569A44f348d3D70d8ad5889e50F78E33d80D35.json"
        ],
        [
         "destination_out",
         "0xb949C40F18fB52747d96850696c954718168fde3"
        ],
        [
         "destination_in",
         "0x3Ee3F7A0B244004B0678EBa98bA091eC101513Ee"
        ],
        [
         "quantity_out",
         "148619.4737087197"
        ],
        [
         "quantity_in",
         "144605.57680611865"
        ],
        [
         "safe_value_out",
         "150000.59447789483"
        ],
        [
         "safe_value_in",
         "149902.6236901036"
        ],
        [
         "spot_value_in",
         "149894.38117222567"
        ],
        [
         "spot_value_out",
         "149999.8513805263"
        ],
        [
         "swap_offset_period",
         null
        ],
        [
         "block",
         "22598346"
        ],
        [
         "datetime",
         "2025-05-30 21:50:59+00:00"
        ],
        [
         "destination_in_symbol",
         "SkySaver"
        ],
        [
         "destination_out_symbol",
         "frxsUSDS"
        ],
        [
         "move_name",
         "frxsUSDS -> SkySaver"
        ],
        [
         "destination_in_tokens",
         "('scrvUSD', 'sUSDS')"
        ],
        [
         "destination_out_tokens",
         "('frxUSD', 'sUSDS')"
        ],
        [
         "tokens_move_name",
         "('frxUSD', 'sUSDS') -> ('scrvUSD', 'sUSDS')"
        ],
        [
         "spot_swap_cost",
         "105.47020830062684"
        ],
        [
         "spot_slippage_bps",
         "7.031354186682847"
        ],
        [
         "safe_swap_cost",
         "97.97078779124422"
        ],
        [
         "safe_slippage_bps",
         "6.531359967755455"
        ]
       ],
       "shape": {
        "columns": 1,
        "rows": 25
       }
      },
      "text/html": [
       "<div>\n",
       "<style scoped>\n",
       "    .dataframe tbody tr th:only-of-type {\n",
       "        vertical-align: middle;\n",
       "    }\n",
       "\n",
       "    .dataframe tbody tr th {\n",
       "        vertical-align: top;\n",
       "    }\n",
       "\n",
       "    .dataframe thead th {\n",
       "        text-align: right;\n",
       "    }\n",
       "</style>\n",
       "<table border=\"1\" class=\"dataframe\">\n",
       "  <thead>\n",
       "    <tr style=\"text-align: right;\">\n",
       "      <th></th>\n",
       "      <th>405</th>\n",
       "    </tr>\n",
       "  </thead>\n",
       "  <tbody>\n",
       "    <tr>\n",
       "      <th>tx_hash</th>\n",
       "      <td>0x2403575c107f3bc9d59b77466f360f79c0e7405127a1...</td>\n",
       "    </tr>\n",
       "    <tr>\n",
       "      <th>autopool_vault_address</th>\n",
       "      <td>0xa7569A44f348d3D70d8ad5889e50F78E33d80D35</td>\n",
       "    </tr>\n",
       "    <tr>\n",
       "      <th>chain_id</th>\n",
       "      <td>1</td>\n",
       "    </tr>\n",
       "    <tr>\n",
       "      <th>rebalance_file_path</th>\n",
       "      <td>rebalance_plan_1748641689_0xa7569A44f348d3D70d...</td>\n",
       "    </tr>\n",
       "    <tr>\n",
       "      <th>destination_out</th>\n",
       "      <td>0xb949C40F18fB52747d96850696c954718168fde3</td>\n",
       "    </tr>\n",
       "    <tr>\n",
       "      <th>destination_in</th>\n",
       "      <td>0x3Ee3F7A0B244004B0678EBa98bA091eC101513Ee</td>\n",
       "    </tr>\n",
       "    <tr>\n",
       "      <th>quantity_out</th>\n",
       "      <td>148619.473709</td>\n",
       "    </tr>\n",
       "    <tr>\n",
       "      <th>quantity_in</th>\n",
       "      <td>144605.576806</td>\n",
       "    </tr>\n",
       "    <tr>\n",
       "      <th>safe_value_out</th>\n",
       "      <td>150000.594478</td>\n",
       "    </tr>\n",
       "    <tr>\n",
       "      <th>safe_value_in</th>\n",
       "      <td>149902.62369</td>\n",
       "    </tr>\n",
       "    <tr>\n",
       "      <th>spot_value_in</th>\n",
       "      <td>149894.381172</td>\n",
       "    </tr>\n",
       "    <tr>\n",
       "      <th>spot_value_out</th>\n",
       "      <td>149999.851381</td>\n",
       "    </tr>\n",
       "    <tr>\n",
       "      <th>swap_offset_period</th>\n",
       "      <td>None</td>\n",
       "    </tr>\n",
       "    <tr>\n",
       "      <th>block</th>\n",
       "      <td>22598346</td>\n",
       "    </tr>\n",
       "    <tr>\n",
       "      <th>datetime</th>\n",
       "      <td>2025-05-30 21:50:59+00:00</td>\n",
       "    </tr>\n",
       "    <tr>\n",
       "      <th>destination_in_symbol</th>\n",
       "      <td>SkySaver</td>\n",
       "    </tr>\n",
       "    <tr>\n",
       "      <th>destination_out_symbol</th>\n",
       "      <td>frxsUSDS</td>\n",
       "    </tr>\n",
       "    <tr>\n",
       "      <th>move_name</th>\n",
       "      <td>frxsUSDS -&gt; SkySaver</td>\n",
       "    </tr>\n",
       "    <tr>\n",
       "      <th>destination_in_tokens</th>\n",
       "      <td>('scrvUSD', 'sUSDS')</td>\n",
       "    </tr>\n",
       "    <tr>\n",
       "      <th>destination_out_tokens</th>\n",
       "      <td>('frxUSD', 'sUSDS')</td>\n",
       "    </tr>\n",
       "    <tr>\n",
       "      <th>tokens_move_name</th>\n",
       "      <td>('frxUSD', 'sUSDS') -&gt; ('scrvUSD', 'sUSDS')</td>\n",
       "    </tr>\n",
       "    <tr>\n",
       "      <th>spot_swap_cost</th>\n",
       "      <td>105.470208</td>\n",
       "    </tr>\n",
       "    <tr>\n",
       "      <th>spot_slippage_bps</th>\n",
       "      <td>7.031354</td>\n",
       "    </tr>\n",
       "    <tr>\n",
       "      <th>safe_swap_cost</th>\n",
       "      <td>97.970788</td>\n",
       "    </tr>\n",
       "    <tr>\n",
       "      <th>safe_slippage_bps</th>\n",
       "      <td>6.53136</td>\n",
       "    </tr>\n",
       "  </tbody>\n",
       "</table>\n",
       "</div>"
      ],
      "text/plain": [
       "                                                                      405\n",
       "tx_hash                 0x2403575c107f3bc9d59b77466f360f79c0e7405127a1...\n",
       "autopool_vault_address         0xa7569A44f348d3D70d8ad5889e50F78E33d80D35\n",
       "chain_id                                                                1\n",
       "rebalance_file_path     rebalance_plan_1748641689_0xa7569A44f348d3D70d...\n",
       "destination_out                0xb949C40F18fB52747d96850696c954718168fde3\n",
       "destination_in                 0x3Ee3F7A0B244004B0678EBa98bA091eC101513Ee\n",
       "quantity_out                                                148619.473709\n",
       "quantity_in                                                 144605.576806\n",
       "safe_value_out                                              150000.594478\n",
       "safe_value_in                                                149902.62369\n",
       "spot_value_in                                               149894.381172\n",
       "spot_value_out                                              149999.851381\n",
       "swap_offset_period                                                   None\n",
       "block                                                            22598346\n",
       "datetime                                        2025-05-30 21:50:59+00:00\n",
       "destination_in_symbol                                            SkySaver\n",
       "destination_out_symbol                                           frxsUSDS\n",
       "move_name                                            frxsUSDS -> SkySaver\n",
       "destination_in_tokens                                ('scrvUSD', 'sUSDS')\n",
       "destination_out_tokens                                ('frxUSD', 'sUSDS')\n",
       "tokens_move_name              ('frxUSD', 'sUSDS') -> ('scrvUSD', 'sUSDS')\n",
       "spot_swap_cost                                                 105.470208\n",
       "spot_slippage_bps                                                7.031354\n",
       "safe_swap_cost                                                  97.970788\n",
       "safe_slippage_bps                                                 6.53136"
      ]
     },
     "execution_count": 12,
     "metadata": {},
     "output_type": "execute_result"
    }
   ],
   "source": [
    "rebalance_df[rebalance_df[\"tx_hash\"] == \"0x2403575c107f3bc9d59b77466f360f79c0e7405127a1200a96c72bff84947eaf\"].T"
   ]
  },
  {
   "cell_type": "code",
   "execution_count": 13,
   "metadata": {},
   "outputs": [
    {
     "data": {
      "text/plain": [
       "6.266666666666667"
      ]
     },
     "execution_count": 13,
     "metadata": {},
     "output_type": "execute_result"
    }
   ],
   "source": [
    "10_000 * ((105 - 11) / 150_000)"
   ]
  },
  {
   "cell_type": "code",
   "execution_count": 14,
   "metadata": {},
   "outputs": [
    {
     "data": {
      "text/plain": [
       "{'0x83F20F44975D03b1b09e64809B757c47f942BEeA': 0.0,\n",
       " '0xbf5495Efe5DB9ce00f80364C8B423567e58d2110': 0.0,\n",
       " '0xae78736Cd615f374D3085123A210448E74Fc6393': 0.0,\n",
       " '0x0655977FEb2f289A4aB78af67BAB0d17aAb84367': 0.0,\n",
       " '0xf939E0A03FB07F59A73314E73794Be0E57ac1b4E': 0.0,\n",
       " '0x853d955aCEf822Db058eb8505911ED77F175b99e': 0.0,\n",
       " '0x856c4Efb76C1D1AE02e20CEB03A2A6a08b0b8dC3': 0.0,\n",
       " '0xC02aaA39b223FE8D0A0e5C4F27eAD9083C756Cc2': 0.0,\n",
       " '0x7f39C581F595B53c5cb19bD0b3f8dA6c935E2Ca0': 0.0,\n",
       " '0x9D39A5DE30e57443BfF2A8307A4256c8797A3497': 0.0,\n",
       " '0xBe9895146f7AF43049ca1c1AE358B0541Ea49704': 0.0,\n",
       " '0xa3931d71877C0E7a3148CB7Eb4463524FEc27fbD': 0.0,\n",
       " '0xA35b1B31Ce002FBF2058D22F30f95D405200A15b': 0.0,\n",
       " '0xD4fa2D31b7968E448877f69A96DE69f5de8cD23E': 0.0,\n",
       " '0xdAC17F958D2ee523a2206206994597C13D831ec7': 0.0,\n",
       " '0x04C154b66CB340F3Ae24111CC767e0184Ed00Cc6': 0.0,\n",
       " '0xCd5fE23C85820F7B72D0926FC9b05b43E359b7ee': 0.0,\n",
       " '0x5E8422345238F34275888049021821E8E08CAa1f': 0.0,\n",
       " '0x7Bc3485026Ac48b6cf9BaF0A377477Fff5703Af8': 0.0,\n",
       " '0xA0b86991c6218b36c1d19D4a2e9Eb0cE3606eB48': 0.0,\n",
       " '0xf1C9acDc66974dFB6dEcB12aA385b9cD01190E38': 0.0,\n",
       " '0xA663B02CF0a4b149d2aD41910CB81e23e1c41c32': 0.0,\n",
       " '0xae7ab96520DE3A18E5e111B5EaAb095312D7fE84': 0.0,\n",
       " '0xC71Ea051a5F82c67ADcF634c36FFE6334793D24C': 0.0,\n",
       " '0x4c9EDD5852cd905f086C759E8383e09bff1E68B3': 0.0,\n",
       " '0x40D16FC0246aD3160Ccc09B8D0D3A2cD28aE6C2f': 0.0,\n",
       " '0xFAe103DC9cf190eD75350761e95403b7b8aFa6c0': 0.0,\n",
       " '0xA1290d69c65A6Fe4DF752f95823fae25cB99e5A7': 0.0,\n",
       " '0xCAcd6fd266aF91b8AeD52aCCc382b4e165586E29': 11.41072589861129,\n",
       " '0xcf62F905562626CfcDD2261162a51fd02Fc9c5b6': 0.0}"
      ]
     },
     "execution_count": 14,
     "metadata": {},
     "output_type": "execute_result"
    }
   ],
   "source": [
    "before = get_state_by_one_block(balance_of_calls, 22598346 - 1, ETH_CHAIN)\n",
    "after = get_state_by_one_block(balance_of_calls, 22598346, ETH_CHAIN)\n",
    "diff = {}\n",
    "for k in before.keys():\n",
    "    if after[k] is not None:\n",
    "        diff[k] = after[k] - before[k]\n",
    "diff"
   ]
  },
  {
   "cell_type": "code",
   "execution_count": 15,
   "metadata": {},
   "outputs": [
    {
     "name": "stdout",
     "output_type": "stream",
     "text": [
      "0x9D39A5DE30e57443BfF2A8307A4256c8797A3497 8.064052714370002\n",
      "0xA0b86991c6218b36c1d19D4a2e9Eb0cE3606eB48 19.782192\n",
      "0x4c9EDD5852cd905f086C759E8383e09bff1E68B3 82.5927227344909\n",
      "0xCAcd6fd266aF91b8AeD52aCCc382b4e165586E29 69.49839527906306\n"
     ]
    }
   ],
   "source": [
    "for k, v in before.items():\n",
    "    if v:\n",
    "        if v > 0:\n",
    "            print(k, v)"
   ]
  },
  {
   "cell_type": "code",
   "execution_count": 16,
   "metadata": {},
   "outputs": [
    {
     "name": "stdout",
     "output_type": "stream",
     "text": [
      "0x9D39A5DE30e57443BfF2A8307A4256c8797A3497 8.064052714370002\n",
      "0xA0b86991c6218b36c1d19D4a2e9Eb0cE3606eB48 19.782192\n",
      "0x4c9EDD5852cd905f086C759E8383e09bff1E68B3 82.5927227344909\n",
      "0xCAcd6fd266aF91b8AeD52aCCc382b4e165586E29 80.90912117767435\n"
     ]
    }
   ],
   "source": [
    "for k, v in after.items():\n",
    "    if v:\n",
    "        if v > 0:\n",
    "            print(k, v)"
   ]
  },
  {
   "cell_type": "code",
   "execution_count": 17,
   "metadata": {},
   "outputs": [
    {
     "data": {
      "text/plain": [
       "69.49839527906306"
      ]
     },
     "execution_count": 17,
     "metadata": {},
     "output_type": "execute_result"
    }
   ],
   "source": [
    "before[\"0xCAcd6fd266aF91b8AeD52aCCc382b4e165586E29\"]"
   ]
  },
  {
   "cell_type": "code",
   "execution_count": 18,
   "metadata": {},
   "outputs": [
    {
     "data": {
      "text/plain": [
       "80.90912117767435"
      ]
     },
     "execution_count": 18,
     "metadata": {},
     "output_type": "execute_result"
    }
   ],
   "source": [
    "after[\"0xCAcd6fd266aF91b8AeD52aCCc382b4e165586E29\"]"
   ]
  },
  {
   "cell_type": "code",
   "execution_count": 19,
   "metadata": {},
   "outputs": [
    {
     "data": {
      "application/vnd.microsoft.datawrangler.viewer.v0+json": {
       "columns": [
        {
         "name": "index",
         "rawType": "int64",
         "type": "integer"
        },
        {
         "name": "tx_hash",
         "rawType": "object",
         "type": "string"
        },
        {
         "name": "autopool_vault_address",
         "rawType": "object",
         "type": "string"
        },
        {
         "name": "chain_id",
         "rawType": "int64",
         "type": "integer"
        },
        {
         "name": "rebalance_file_path",
         "rawType": "object",
         "type": "string"
        },
        {
         "name": "destination_out",
         "rawType": "object",
         "type": "string"
        },
        {
         "name": "destination_in",
         "rawType": "object",
         "type": "string"
        },
        {
         "name": "quantity_out",
         "rawType": "float64",
         "type": "float"
        },
        {
         "name": "quantity_in",
         "rawType": "float64",
         "type": "float"
        },
        {
         "name": "safe_value_out",
         "rawType": "float64",
         "type": "float"
        },
        {
         "name": "safe_value_in",
         "rawType": "float64",
         "type": "float"
        },
        {
         "name": "spot_value_in",
         "rawType": "float64",
         "type": "float"
        },
        {
         "name": "spot_value_out",
         "rawType": "float64",
         "type": "float"
        },
        {
         "name": "swap_offset_period",
         "rawType": "object",
         "type": "unknown"
        },
        {
         "name": "block",
         "rawType": "int64",
         "type": "integer"
        },
        {
         "name": "datetime",
         "rawType": "datetime64[ns, UTC]",
         "type": "unknown"
        },
        {
         "name": "destination_in_symbol",
         "rawType": "object",
         "type": "string"
        },
        {
         "name": "destination_out_symbol",
         "rawType": "object",
         "type": "string"
        },
        {
         "name": "move_name",
         "rawType": "object",
         "type": "string"
        },
        {
         "name": "destination_in_tokens",
         "rawType": "object",
         "type": "string"
        },
        {
         "name": "destination_out_tokens",
         "rawType": "object",
         "type": "string"
        },
        {
         "name": "tokens_move_name",
         "rawType": "object",
         "type": "string"
        },
        {
         "name": "spot_swap_cost",
         "rawType": "float64",
         "type": "float"
        },
        {
         "name": "spot_slippage_bps",
         "rawType": "float64",
         "type": "float"
        },
        {
         "name": "safe_swap_cost",
         "rawType": "float64",
         "type": "float"
        },
        {
         "name": "safe_slippage_bps",
         "rawType": "float64",
         "type": "float"
        }
       ],
       "ref": "7e1c0bed-366d-460f-b752-1a54e3e6fe46",
       "rows": [
        [
         "0",
         "0x67618958fa10c91e18218c3c3f7eb57509e70445e898d2d58e2c52c510fa140b",
         "0xa7569A44f348d3D70d8ad5889e50F78E33d80D35",
         "1",
         "rebalance_plan_1743708477_0xa7569A44f348d3D70d8ad5889e50F78E33d80D35.json",
         "0xb6E89d23d1E33537D383622B1955EbDa135c0b5A",
         "0xa7569A44f348d3D70d8ad5889e50F78E33d80D35",
         "85.89983763151417",
         "100.008658",
         "100.11875185482108",
         "100.008658",
         "100.008658",
         "100.0675555515927",
         null,
         "22190481",
         "2025-04-03 19:30:11+00:00",
         "autoUSD",
         "sUSDe",
         "sUSDe -> autoUSD",
         "('USDC',)",
         "('sUSDe',)",
         "('sUSDe',) -> ('USDC',)",
         "0.05889755159270749",
         "5.885778988809331",
         "0.11009385482108769",
         "10.99632713966822"
        ],
        [
         "1",
         "0x5513250273bfdbf939553c9ed98ce48b8479bc7396348f0e380e638b1a6b52e3",
         "0xa7569A44f348d3D70d8ad5889e50F78E33d80D35",
         "1",
         "rebalance_plan_1743723845_0xa7569A44f348d3D70d8ad5889e50F78E33d80D35.json",
         "0x6F628dcCD275feA4277722D177265741031E09d7",
         "0xa7569A44f348d3D70d8ad5889e50F78E33d80D35",
         "98.32635123580616",
         "99.954654",
         "99.9927862365506",
         "99.954654",
         "99.954654",
         "99.98020046359242",
         null,
         "22191759",
         "2025-04-03 23:46:35+00:00",
         "autoUSD",
         "crvUSDUSDT-f",
         "crvUSDUSDT-f -> autoUSD",
         "('USDC',)",
         "('crvUSD', 'USDT')",
         "('crvUSD', 'USDT') -> ('USDC',)",
         "0.025546463592419855",
         "2.555152267545467",
         "0.03813223655059517",
         "3.8134987518386203"
        ],
        [
         "2",
         "0x14425c16bdc198d43d738991130a7fea735c85d7c8834049b8e9962460371daa",
         "0xa7569A44f348d3D70d8ad5889e50F78E33d80D35",
         "1",
         "rebalance_plan_1743782101_0xa7569A44f348d3D70d8ad5889e50F78E33d80D35.json",
         "0xa7569A44f348d3D70d8ad5889e50F78E33d80D35",
         "0xbB2d2dd491204a86ec10a1a6972F940B34fE060e",
         "25503.391475",
         "25348.990383310633",
         "25503.391475",
         "25505.92598277371",
         "25502.655963014262",
         "25503.391475",
         null,
         "22196597",
         "2025-04-04 15:57:35+00:00",
         "crv2pool",
         "autoUSD",
         "autoUSD -> crv2pool",
         "('USDT', 'USDC')",
         "('USDC',)",
         "('USDC',) -> ('USDT', 'USDC')",
         "0.7355119857384125",
         "0.28839771622507804",
         "-2.534507773711084",
         "-0.993792443720893"
        ],
        [
         "3",
         "0x5c3a705003f40a1e38309a79c873f54f147043dbcdd451536c7702243619695b",
         "0xa7569A44f348d3D70d8ad5889e50F78E33d80D35",
         "1",
         "rebalance_plan_1743786510_0xa7569A44f348d3D70d8ad5889e50F78E33d80D35.json",
         "0xa7569A44f348d3D70d8ad5889e50F78E33d80D35",
         "0x7583b1589aDD33320366A48A92794D77763FAE9e",
         "19127.5436",
         "18806.816895211028",
         "19127.5436",
         "19124.181930317714",
         "19122.451703163355",
         "19127.5436",
         null,
         "22196965",
         "2025-04-04 17:11:35+00:00",
         "crvUSDUSDT-f",
         "autoUSD",
         "autoUSD -> crvUSDUSDT-f",
         "('USDT', 'crvUSD')",
         "('USDC',)",
         "('USDC',) -> ('USDT', 'crvUSD')",
         "5.091896836645901",
         "2.6620756659239304",
         "3.361669682286447",
         "1.7575020361142697"
        ],
        [
         "4",
         "0x8ac67f7b06d5dcaa032ce596da03410177deaac9028a751e3886142a9cfe5115",
         "0xa7569A44f348d3D70d8ad5889e50F78E33d80D35",
         "1",
         "rebalance_plan_1743792976_0xa7569A44f348d3D70d8ad5889e50F78E33d80D35.json",
         "0xa7569A44f348d3D70d8ad5889e50F78E33d80D35",
         "0xbB2d2dd491204a86ec10a1a6972F940B34fE060e",
         "14345.657699",
         "14261.65681081928",
         "14345.657699",
         "14349.979251448683",
         "14346.870210263927",
         "14345.657699",
         null,
         "22197502",
         "2025-04-04 18:58:59+00:00",
         "crv2pool",
         "autoUSD",
         "autoUSD -> crv2pool",
         "('USDT', 'USDC')",
         "('USDC',)",
         "('USDC',) -> ('USDT', 'USDC')",
         "-1.2125112639278086",
         "-0.8452113450415939",
         "-4.321552448684088",
         "-3.0124463718281334"
        ],
        [
         "5",
         "0x834b8e586c3f9e87f361cf982b2ed1bfc04dea2a3b0807c32d4846d1612e1d1f",
         "0xa7569A44f348d3D70d8ad5889e50F78E33d80D35",
         "1",
         "rebalance_plan_1743804223_0xa7569A44f348d3D70d8ad5889e50F78E33d80D35.json",
         "0xa7569A44f348d3D70d8ad5889e50F78E33d80D35",
         "0x7583b1589aDD33320366A48A92794D77763FAE9e",
         "10759.243275",
         "10579.671066607441",
         "10759.243275",
         "10758.224175198575",
         "10757.377801513247",
         "10759.243275",
         null,
         "22198433",
         "2025-04-04 22:06:23+00:00",
         "crvUSDUSDT-f",
         "autoUSD",
         "autoUSD -> crvUSDUSDT-f",
         "('USDT', 'crvUSD')",
         "('USDC',)",
         "('USDC',) -> ('USDT', 'crvUSD')",
         "1.8654734867541265",
         "1.7338333552590168",
         "1.0190998014259094",
         "0.9471853878365896"
        ],
        [
         "6",
         "0x5a982b24a692a5fa58aa706bef0c51deeb4f1f399a602c92c82239332699a005",
         "0xa7569A44f348d3D70d8ad5889e50F78E33d80D35",
         "1",
         "rebalance_plan_1743814228_0xa7569A44f348d3D70d8ad5889e50F78E33d80D35.json",
         "0xa7569A44f348d3D70d8ad5889e50F78E33d80D35",
         "0xd7900d87069C815a299bdA7aFDcd7eEe98fe4b6c",
         "8069.43245",
         "8022.647850474278",
         "8069.43245",
         "8070.013563383478",
         "8066.780436299737",
         "8069.43245",
         null,
         "22199261",
         "2025-04-05 00:52:59+00:00",
         "crvUSDe",
         "autoUSD",
         "autoUSD -> crvUSDe",
         "('USDe', 'USDT')",
         "('USDC',)",
         "('USDC',) -> ('USDe', 'USDT')",
         "2.652013700263524",
         "3.286493463692758",
         "-0.5811133834777138",
         "-0.7201415800657873"
        ],
        [
         "7",
         "0x72778d6b5bb3040d942293d839b593125f4a56b2881d967da9de6fb43afe582d",
         "0xa7569A44f348d3D70d8ad5889e50F78E33d80D35",
         "1",
         "rebalance_plan_1743825875_0xa7569A44f348d3D70d8ad5889e50F78E33d80D35.json",
         "0xa7569A44f348d3D70d8ad5889e50F78E33d80D35",
         "0xbB2d2dd491204a86ec10a1a6972F940B34fE060e",
         "24208.2974",
         "24064.362527912996",
         "24208.2974",
         "24213.39312504836",
         "24210.312886644788",
         "24208.2974",
         null,
         "22200224",
         "2025-04-05 04:07:11+00:00",
         "crv2pool",
         "autoUSD",
         "autoUSD -> crv2pool",
         "('USDT', 'USDC')",
         "('USDC',)",
         "('USDC',) -> ('USDT', 'USDC')",
         "-2.015486644788325",
         "-0.8325602629073473",
         "-5.095725048358872",
         "-2.1049497881494434"
        ],
        [
         "8",
         "0xc4e216c04fdf75b06274a92d160151c105850c1f344a069d4827a1a9c8e10bb8",
         "0xa7569A44f348d3D70d8ad5889e50F78E33d80D35",
         "1",
         "rebalance_plan_1743990962_0xa7569A44f348d3D70d8ad5889e50F78E33d80D35.json",
         "0x7583b1589aDD33320366A48A92794D77763FAE9e",
         "0xd7900d87069C815a299bdA7aFDcd7eEe98fe4b6c",
         "29386.487961818468",
         "29707.047559926435",
         "29882.91390295747",
         "29880.893202247124",
         "29868.41624227196",
         "29873.833478177265",
         null,
         "22213896",
         "2025-04-07 01:58:47+00:00",
         "crvUSDe",
         "crvUSDUSDT-f",
         "crvUSDUSDT-f -> crvUSDe",
         "('USDe', 'USDT')",
         "('USDT', 'crvUSD')",
         "('USDT', 'crvUSD') -> ('USDe', 'USDT')",
         "5.417235905304551",
         "1.8133715277156592",
         "2.020700710345409",
         "0.6762060476791131"
        ],
        [
         "9",
         "0x02bd48384f97132805008ef3342c5afdb2f16d3863a6fb22b0905f456071d596",
         "0xa7569A44f348d3D70d8ad5889e50F78E33d80D35",
         "1",
         "rebalance_plan_1744131598_0xa7569A44f348d3D70d8ad5889e50F78E33d80D35.json",
         "0xbB2d2dd491204a86ec10a1a6972F940B34fE060e",
         "0xd7900d87069C815a299bdA7aFDcd7eEe98fe4b6c",
         "63675.00972204291",
         "63686.383032754115",
         "64072.85118278624",
         "64065.82650286326",
         "64040.160890501065",
         "64057.76020548211",
         null,
         "22225549",
         "2025-04-08 17:02:47+00:00",
         "crvUSDe",
         "crv2pool",
         "crv2pool -> crvUSDe",
         "('USDe', 'USDT')",
         "('USDT', 'USDC')",
         "('USDT', 'USDC') -> ('USDe', 'USDT')",
         "17.59931498104561",
         "2.7474134163591075",
         "7.024679922978976",
         "1.0963582536602057"
        ],
        [
         "10",
         "0x664365f1646320d1568c9fc68f7f0845ddad44049996bc673a4fcbcc7bd92f0a",
         "0xa7569A44f348d3D70d8ad5889e50F78E33d80D35",
         "1",
         "rebalance_plan_1744233521_0xa7569A44f348d3D70d8ad5889e50F78E33d80D35.json",
         "0xa7569A44f348d3D70d8ad5889e50F78E33d80D35",
         "0xd7900d87069C815a299bdA7aFDcd7eEe98fe4b6c",
         "81750.998875",
         "81264.7973645252",
         "81750.998875",
         "81710.20971888017",
         "81692.57525785206",
         "81750.998875",
         null,
         "22234004",
         "2025-04-09 21:21:23+00:00",
         "crvUSDe",
         "autoUSD",
         "autoUSD -> crvUSDe",
         "('USDe', 'USDT')",
         "('USDC',)",
         "('USDC',) -> ('USDe', 'USDT')",
         "58.42361714794242",
         "7.146532513599507",
         "40.78915611983393",
         "4.989438255329688"
        ],
        [
         "11",
         "0x5392ff8cdb72dd237f47948adc16416d5f8b1442091a453c31c2325e5c44b91f",
         "0xa7569A44f348d3D70d8ad5889e50F78E33d80D35",
         "1",
         "rebalance_plan_1744237669_0xa7569A44f348d3D70d8ad5889e50F78E33d80D35.json",
         "0xa7569A44f348d3D70d8ad5889e50F78E33d80D35",
         "0xbB2d2dd491204a86ec10a1a6972F940B34fE060e",
         "99999.999999",
         "99379.14916445293",
         "99999.999999",
         "99980.69115434538",
         "100000.07008843243",
         "99999.999999",
         null,
         "22234344",
         "2025-04-09 22:30:11+00:00",
         "crv2pool",
         "autoUSD",
         "autoUSD -> crv2pool",
         "('USDT', 'USDC')",
         "('USDC',)",
         "('USDC',) -> ('USDT', 'USDC')",
         "-0.07008943242544774",
         "-0.007008943242614863",
         "19.308844654631685",
         "1.9308844654824773"
        ],
        [
         "12",
         "0x481eac171c75c098d141cb1b1d3eb3b7afa662f5831f6832e49f568a90199fcf",
         "0xa7569A44f348d3D70d8ad5889e50F78E33d80D35",
         "1",
         "rebalance_plan_1744242100_0xa7569A44f348d3D70d8ad5889e50F78E33d80D35.json",
         "0xa7569A44f348d3D70d8ad5889e50F78E33d80D35",
         "0xd7900d87069C815a299bdA7aFDcd7eEe98fe4b6c",
         "99999.999999",
         "99398.75814241372",
         "99999.999999",
         "99943.66213455042",
         "99922.58959782425",
         "99999.999999",
         null,
         "22234716",
         "2025-04-09 23:44:35+00:00",
         "crvUSDe",
         "autoUSD",
         "autoUSD -> crvUSDe",
         "('USDe', 'USDT')",
         "('USDC',)",
         "('USDC',) -> ('USDe', 'USDT')",
         "77.41040117575903",
         "7.741040117653314",
         "56.33786444958241",
         "5.633786445014579"
        ],
        [
         "13",
         "0x6d09400097fcdff1cfd3c64ac5215fac3aac2816cfb13b07bf6490dc91df7c94",
         "0xa7569A44f348d3D70d8ad5889e50F78E33d80D35",
         "1",
         "rebalance_plan_1744245998_0xa7569A44f348d3D70d8ad5889e50F78E33d80D35.json",
         "0xa7569A44f348d3D70d8ad5889e50F78E33d80D35",
         "0xbB2d2dd491204a86ec10a1a6972F940B34fE060e",
         "99999.999999",
         "99309.88496149248",
         "99999.999999",
         "99912.7952730937",
         "99931.56484135141",
         "99999.999999",
         null,
         "22235038",
         "2025-04-10 00:49:11+00:00",
         "crv2pool",
         "autoUSD",
         "autoUSD -> crv2pool",
         "('USDT', 'USDC')",
         "('USDC',)",
         "('USDC',) -> ('USDT', 'USDC')",
         "68.4351576485933",
         "6.843515764927765",
         "87.20472590631107",
         "8.72047259071831"
        ],
        [
         "14",
         "0x8408b58bc56d8810be691ee2f2b514573d8fcb3208b0aaddfedbabb0ffccc7c9",
         "0xa7569A44f348d3D70d8ad5889e50F78E33d80D35",
         "1",
         "rebalance_plan_1744250136_0xa7569A44f348d3D70d8ad5889e50F78E33d80D35.json",
         "0xa7569A44f348d3D70d8ad5889e50F78E33d80D35",
         "0xbB2d2dd491204a86ec10a1a6972F940B34fE060e",
         "99999.999999",
         "99370.02483868276",
         "99999.999999",
         "99972.40592925485",
         "99986.31773273228",
         "99999.999999",
         null,
         "22235382",
         "2025-04-10 01:57:59+00:00",
         "crv2pool",
         "autoUSD",
         "autoUSD -> crv2pool",
         "('USDT', 'USDC')",
         "('USDC',)",
         "('USDC',) -> ('USDT', 'USDC')",
         "13.682266267729574",
         "1.3682266267866396",
         "27.594069745158777",
         "2.7594069745434715"
        ],
        [
         "15",
         "0xe3dfb22e54abc3ea9e3ea5b6528467645c3379f0f6afcabf8be55d061691be28",
         "0xa7569A44f348d3D70d8ad5889e50F78E33d80D35",
         "1",
         "rebalance_plan_1744254289_0xa7569A44f348d3D70d8ad5889e50F78E33d80D35.json",
         "0xa7569A44f348d3D70d8ad5889e50F78E33d80D35",
         "0xd7900d87069C815a299bdA7aFDcd7eEe98fe4b6c",
         "99999.999999",
         "99400.47187877394",
         "99999.999999",
         "99945.48466608525",
         "99923.41776132816",
         "99999.999999",
         null,
         "22235729",
         "2025-04-10 03:07:23+00:00",
         "crvUSDe",
         "autoUSD",
         "autoUSD -> crvUSDe",
         "('USDe', 'USDT')",
         "('USDC',)",
         "('USDC',) -> ('USDe', 'USDT')",
         "76.58223767184245",
         "7.658223767260827",
         "54.51533291475789",
         "5.451533291530304"
        ],
        [
         "16",
         "0x262aff3649faba7cfd65cb3291a4e775d20515874380ad59631dde927fdd983d",
         "0xa7569A44f348d3D70d8ad5889e50F78E33d80D35",
         "1",
         "rebalance_plan_1744258467_0xa7569A44f348d3D70d8ad5889e50F78E33d80D35.json",
         "0xa7569A44f348d3D70d8ad5889e50F78E33d80D35",
         "0xbB2d2dd491204a86ec10a1a6972F940B34fE060e",
         "150000.0",
         "148975.46549125813",
         "150000.0",
         "149879.2996403936",
         "149901.49698475178",
         "150000.0",
         null,
         "22236076",
         "2025-04-10 04:16:47+00:00",
         "crv2pool",
         "autoUSD",
         "autoUSD -> crv2pool",
         "('USDT', 'USDC')",
         "('USDC',)",
         "('USDC',) -> ('USDT', 'USDC')",
         "98.50301524822135",
         "6.566867683214756",
         "120.70035960638779",
         "8.046690640425853"
        ],
        [
         "17",
         "0x0785b56c1ff4b2ba29eccf87f893c8c244c35306eb71217e92eaff7da99039ff",
         "0xa7569A44f348d3D70d8ad5889e50F78E33d80D35",
         "1",
         "rebalance_plan_1744262907_0xa7569A44f348d3D70d8ad5889e50F78E33d80D35.json",
         "0xa7569A44f348d3D70d8ad5889e50F78E33d80D35",
         "0xd7900d87069C815a299bdA7aFDcd7eEe98fe4b6c",
         "150000.0",
         "149117.30801289558",
         "150000.0",
         "149935.0673300383",
         "149903.45446073957",
         "150000.0",
         null,
         "22236446",
         "2025-04-10 05:30:47+00:00",
         "crvUSDe",
         "autoUSD",
         "autoUSD -> crvUSDe",
         "('USDe', 'USDT')",
         "('USDC',)",
         "('USDC',) -> ('USDe', 'USDT')",
         "96.54553926043445",
         "6.436369284028964",
         "64.9326699617086",
         "4.328844664113906"
        ],
        [
         "18",
         "0x5531dad6a355e93568343337c0a26f144815c1cd5c8ac69fd738780a24f6664f",
         "0xa7569A44f348d3D70d8ad5889e50F78E33d80D35",
         "1",
         "rebalance_plan_1744267347_0xa7569A44f348d3D70d8ad5889e50F78E33d80D35.json",
         "0xa7569A44f348d3D70d8ad5889e50F78E33d80D35",
         "0xbB2d2dd491204a86ec10a1a6972F940B34fE060e",
         "150000.0",
         "148975.1090546465",
         "150000.0",
         "149878.94104128107",
         "149901.1383325302",
         "150000.0",
         null,
         "22236816",
         "2025-04-10 06:44:59+00:00",
         "crv2pool",
         "autoUSD",
         "autoUSD -> crv2pool",
         "('USDT', 'USDC')",
         "('USDC',)",
         "('USDC',) -> ('USDT', 'USDC')",
         "98.86166746981326",
         "6.590777831320883",
         "121.05895871893154",
         "8.070597247928768"
        ],
        [
         "19",
         "0x8ad0e6f03a1b44ce998c61eba083d213e30310d712d9e9cdf0ade4e0a8beb6a2",
         "0xa7569A44f348d3D70d8ad5889e50F78E33d80D35",
         "1",
         "rebalance_plan_1744271787_0xa7569A44f348d3D70d8ad5889e50F78E33d80D35.json",
         "0xa7569A44f348d3D70d8ad5889e50F78E33d80D35",
         "0xd7900d87069C815a299bdA7aFDcd7eEe98fe4b6c",
         "150000.0",
         "149087.06072810778",
         "150000.0",
         "149911.36308687346",
         "149911.51217393423",
         "150000.0",
         null,
         "22237185",
         "2025-04-10 07:58:59+00:00",
         "crvUSDe",
         "autoUSD",
         "autoUSD -> crvUSDe",
         "('USDe', 'USDT')",
         "('USDC',)",
         "('USDC',) -> ('USDe', 'USDT')",
         "88.48782606577151",
         "5.899188404384768",
         "88.63691312653827",
         "5.909127541769219"
        ],
        [
         "20",
         "0x1c1e1c89a77e2fa19664e8e82f6b8bc4e7ca139f4e86cfa3dee9bc4c7af527a8",
         "0xa7569A44f348d3D70d8ad5889e50F78E33d80D35",
         "1",
         "rebalance_plan_1744276467_0xa7569A44f348d3D70d8ad5889e50F78E33d80D35.json",
         "0xa7569A44f348d3D70d8ad5889e50F78E33d80D35",
         "0xbB2d2dd491204a86ec10a1a6972F940B34fE060e",
         "150000.0",
         "148967.06139524467",
         "150000.0",
         "149913.15120216587",
         "149901.38280431565",
         "150000.0",
         null,
         "22237574",
         "2025-04-10 09:16:59+00:00",
         "crv2pool",
         "autoUSD",
         "autoUSD -> crv2pool",
         "('USDT', 'USDC')",
         "('USDC',)",
         "('USDC',) -> ('USDT', 'USDC')",
         "98.61719568434637",
         "6.574479712289758",
         "86.84879783412907",
         "5.789919855608605"
        ],
        [
         "21",
         "0x31d00b4d5ccf88b17435ce788dc50f74edc49cd9ba096ae4eb065ce14118e8e2",
         "0xa7569A44f348d3D70d8ad5889e50F78E33d80D35",
         "1",
         "rebalance_plan_1744280906_0xa7569A44f348d3D70d8ad5889e50F78E33d80D35.json",
         "0xa7569A44f348d3D70d8ad5889e50F78E33d80D35",
         "0xd7900d87069C815a299bdA7aFDcd7eEe98fe4b6c",
         "150000.0",
         "149101.08513360439",
         "150000.0",
         "149925.9123365635",
         "149924.86862896755",
         "150000.0",
         null,
         "22237941",
         "2025-04-10 10:30:35+00:00",
         "crvUSDe",
         "autoUSD",
         "autoUSD -> crvUSDe",
         "('USDe', 'USDT')",
         "('USDC',)",
         "('USDC',) -> ('USDe', 'USDT')",
         "75.13137103244662",
         "5.008758068829775",
         "74.08766343651223",
         "4.939177562434149"
        ],
        [
         "22",
         "0x3bdb24536958bd97a1e58427f8a68ac21ca32ebb29ede18cd569dc478677a86c",
         "0xa7569A44f348d3D70d8ad5889e50F78E33d80D35",
         "1",
         "rebalance_plan_1744285346_0xa7569A44f348d3D70d8ad5889e50F78E33d80D35.json",
         "0xa7569A44f348d3D70d8ad5889e50F78E33d80D35",
         "0xd7900d87069C815a299bdA7aFDcd7eEe98fe4b6c",
         "150000.0",
         "149111.47761975604",
         "150000.0",
         "149938.00254020237",
         "149932.48541553042",
         "150000.0",
         null,
         "22238312",
         "2025-04-10 11:44:59+00:00",
         "crvUSDe",
         "autoUSD",
         "autoUSD -> crvUSDe",
         "('USDe', 'USDT')",
         "('USDC',)",
         "('USDC',) -> ('USDe', 'USDT')",
         "67.51458446957986",
         "4.50097229797199",
         "61.9974597976252",
         "4.133163986508347"
        ],
        [
         "23",
         "0xf7ad9f0de99c196346b977387b995628d585fe9071a9126b4e8a9e9fc2fba316",
         "0xa7569A44f348d3D70d8ad5889e50F78E33d80D35",
         "1",
         "rebalance_plan_1744289787_0xa7569A44f348d3D70d8ad5889e50F78E33d80D35.json",
         "0xa7569A44f348d3D70d8ad5889e50F78E33d80D35",
         "0xd7900d87069C815a299bdA7aFDcd7eEe98fe4b6c",
         "150000.0",
         "149104.8782625014",
         "150000.0",
         "149931.51570758873",
         "149926.1479319713",
         "150000.0",
         null,
         "22238683",
         "2025-04-10 12:59:11+00:00",
         "crvUSDe",
         "autoUSD",
         "autoUSD -> crvUSDe",
         "('USDe', 'USDT')",
         "('USDC',)",
         "('USDC',) -> ('USDe', 'USDT')",
         "73.8520680287038",
         "4.9234712019135864",
         "68.48429241127451",
         "4.5656194940849675"
        ],
        [
         "24",
         "0x2a0235fc183a2712b8e1211f5a1f51c8bcd1aae8370e2f0611d3bbf102995d01",
         "0xa7569A44f348d3D70d8ad5889e50F78E33d80D35",
         "1",
         "rebalance_plan_1744295307_0xa7569A44f348d3D70d8ad5889e50F78E33d80D35.json",
         "0xa7569A44f348d3D70d8ad5889e50F78E33d80D35",
         "0xd7900d87069C815a299bdA7aFDcd7eEe98fe4b6c",
         "150000.0",
         "149130.34227878207",
         "150000.0",
         "149956.52437500656",
         "149954.1382895301",
         "150000.0",
         null,
         "22239141",
         "2025-04-10 14:30:59+00:00",
         "crvUSDe",
         "autoUSD",
         "autoUSD -> crvUSDe",
         "('USDe', 'USDT')",
         "('USDC',)",
         "('USDC',) -> ('USDe', 'USDT')",
         "45.86171046990785",
         "3.0574473646605234",
         "43.47562499344349",
         "2.898374999562899"
        ],
        [
         "25",
         "0xe703d93d0013967fec68c09fe6577e780e6a2a522eef7e5ab97da8463a6a5702",
         "0xa7569A44f348d3D70d8ad5889e50F78E33d80D35",
         "1",
         "rebalance_plan_1744299747_0xa7569A44f348d3D70d8ad5889e50F78E33d80D35.json",
         "0xa7569A44f348d3D70d8ad5889e50F78E33d80D35",
         "0x7583b1589aDD33320366A48A92794D77763FAE9e",
         "250000.0",
         "245827.60436608852",
         "250000.0",
         "250001.26543301594",
         "249944.233428803",
         "250000.0",
         null,
         "22239508",
         "2025-04-10 15:45:11+00:00",
         "crvUSDUSDT-f",
         "autoUSD",
         "autoUSD -> crvUSDUSDT-f",
         "('USDT', 'crvUSD')",
         "('USDC',)",
         "('USDC',) -> ('USDT', 'crvUSD')",
         "55.76657119698939",
         "2.2306628478795756",
         "-1.2654330159421079",
         "-0.050617320637684315"
        ],
        [
         "26",
         "0x180942abb3e44ceb180bbf6132d04c629fa0e8c12e270ec0e7ec09838b13df49",
         "0xa7569A44f348d3D70d8ad5889e50F78E33d80D35",
         "1",
         "rebalance_plan_1744304186_0xa7569A44f348d3D70d8ad5889e50F78E33d80D35.json",
         "0xa7569A44f348d3D70d8ad5889e50F78E33d80D35",
         "0xd7900d87069C815a299bdA7aFDcd7eEe98fe4b6c",
         "250000.0",
         "248454.8417190933",
         "250000.0",
         "249832.7722712674",
         "249827.55471959128",
         "250000.0",
         null,
         "22239876",
         "2025-04-10 16:58:59+00:00",
         "crvUSDe",
         "autoUSD",
         "autoUSD -> crvUSDe",
         "('USDe', 'USDT')",
         "('USDC',)",
         "('USDC',) -> ('USDe', 'USDT')",
         "172.44528040871955",
         "6.897811216348782",
         "167.22772873259964",
         "6.689109149303985"
        ],
        [
         "27",
         "0x6028e5c415e20dada5165671e2b1870436e644cb6fe2d4a7442e4b24671eb8fa",
         "0xa7569A44f348d3D70d8ad5889e50F78E33d80D35",
         "1",
         "rebalance_plan_1744315966_0xa7569A44f348d3D70d8ad5889e50F78E33d80D35.json",
         "0xa7569A44f348d3D70d8ad5889e50F78E33d80D35",
         "0x7583b1589aDD33320366A48A92794D77763FAE9e",
         "250000.0",
         "245713.39730406622",
         "250000.0",
         "249886.8393572758",
         "249816.56532564684",
         "250000.0",
         null,
         "22240851",
         "2025-04-10 20:15:11+00:00",
         "crvUSDUSDT-f",
         "autoUSD",
         "autoUSD -> crvUSDUSDT-f",
         "('USDT', 'crvUSD')",
         "('USDC',)",
         "('USDC',) -> ('USDT', 'crvUSD')",
         "183.43467435316416",
         "7.3373869741265665",
         "113.16064272419317",
         "4.526425708967727"
        ],
        [
         "28",
         "0x90dfbaac4586c3c48d7b7de13a5b01a00d0f2a456f8c6085be82f3eacf7ec0de",
         "0xa7569A44f348d3D70d8ad5889e50F78E33d80D35",
         "1",
         "rebalance_plan_1744320863_0xa7569A44f348d3D70d8ad5889e50F78E33d80D35.json",
         "0xa7569A44f348d3D70d8ad5889e50F78E33d80D35",
         "0xbB2d2dd491204a86ec10a1a6972F940B34fE060e",
         "156327.963411",
         "155293.53193052666",
         "156327.963411",
         "156281.1987936048",
         "156231.34956985508",
         "156327.963411",
         null,
         "22241256",
         "2025-04-10 21:36:35+00:00",
         "crv2pool",
         "autoUSD",
         "autoUSD -> crv2pool",
         "('USDT', 'USDC')",
         "('USDC',)",
         "('USDC',) -> ('USDT', 'USDC')",
         "96.61384114492103",
         "6.180202123590308",
         "46.764617395208916",
         "2.991442885509908"
        ],
        [
         "29",
         "0xdf7a92e9823333db93718d7828a3ba07ade6ed7b0f5e1ec5c5d133cf305bc407",
         "0xa7569A44f348d3D70d8ad5889e50F78E33d80D35",
         "1",
         "rebalance_plan_1744324939_0xa7569A44f348d3D70d8ad5889e50F78E33d80D35.json",
         "0xa7569A44f348d3D70d8ad5889e50F78E33d80D35",
         "0xbB2d2dd491204a86ec10a1a6972F940B34fE060e",
         "86270.928764",
         "85742.83886791604",
         "86270.928764",
         "86289.36372286014",
         "86262.01175726127",
         "86270.928764",
         null,
         "22241595",
         "2025-04-10 22:44:35+00:00",
         "crv2pool",
         "autoUSD",
         "autoUSD -> crv2pool",
         "('USDT', 'USDC')",
         "('USDC',)",
         "('USDC',) -> ('USDT', 'USDC')",
         "8.917006738731288",
         "1.03360504708653",
         "-18.434958860147162",
         "-2.1368680184929096"
        ],
        [
         "30",
         "0x4f7926a868ece87d5a19abf4ff50439683080250fd54335608b9f8acecc43e64",
         "0xa7569A44f348d3D70d8ad5889e50F78E33d80D35",
         "1",
         "rebalance_plan_1744329070_0xa7569A44f348d3D70d8ad5889e50F78E33d80D35.json",
         "0xa7569A44f348d3D70d8ad5889e50F78E33d80D35",
         "0x7583b1589aDD33320366A48A92794D77763FAE9e",
         "500000.0",
         "491553.5469720849",
         "500000.0",
         "499982.7071955622",
         "499836.22423856455",
         "500000.0",
         null,
         "22241937",
         "2025-04-10 23:53:23+00:00",
         "crvUSDUSDT-f",
         "autoUSD",
         "autoUSD -> crvUSDUSDT-f",
         "('USDT', 'crvUSD')",
         "('USDC',)",
         "('USDC',) -> ('USDT', 'crvUSD')",
         "163.77576143544866",
         "3.275515228708973",
         "17.2928044378059",
         "0.34585608875611795"
        ],
        [
         "31",
         "0x75464e74c9bd42627774bf43a8bc966e03160d48505f31ba9305bf8dcab96cce",
         "0xa7569A44f348d3D70d8ad5889e50F78E33d80D35",
         "1",
         "rebalance_plan_1744333307_0xa7569A44f348d3D70d8ad5889e50F78E33d80D35.json",
         "0xa7569A44f348d3D70d8ad5889e50F78E33d80D35",
         "0x65efCF2cce562DCBf07e805eEbeDeF21Dbd8Ea3D",
         "500000.0",
         "490761.3313392187",
         "500000.0",
         "499715.7625908341",
         "499694.1690922552",
         "500000.0",
         null,
         "22242289",
         "2025-04-11 01:03:47+00:00",
         "crvUSDUSDC-f",
         "autoUSD",
         "autoUSD -> crvUSDUSDC-f",
         "('crvUSD', 'USDC')",
         "('USDC',)",
         "('USDC',) -> ('crvUSD', 'USDC')",
         "305.83090774482116",
         "6.116618154896424",
         "284.23740916588577",
         "5.684748183317716"
        ],
        [
         "32",
         "0xda38fdcd54000bffb94ad9806c7ed3473d4675d5df36d9609f62e636bfdf8f44",
         "0xa7569A44f348d3D70d8ad5889e50F78E33d80D35",
         "1",
         "rebalance_plan_1744337680_0xa7569A44f348d3D70d8ad5889e50F78E33d80D35.json",
         "0xa7569A44f348d3D70d8ad5889e50F78E33d80D35",
         "0x7583b1589aDD33320366A48A92794D77763FAE9e",
         "258350.563857",
         "253938.90733594674",
         "258350.563857",
         "258293.45171894354",
         "258245.45726545705",
         "258350.563857",
         null,
         "22242654",
         "2025-04-11 02:16:59+00:00",
         "crvUSDUSDT-f",
         "autoUSD",
         "autoUSD -> crvUSDUSDT-f",
         "('USDT', 'crvUSD')",
         "('USDC',)",
         "('USDC',) -> ('USDT', 'crvUSD')",
         "105.1065915429499",
         "4.0683708978133915",
         "57.11213805645821",
         "2.21064499352401"
        ],
        [
         "33",
         "0x837c2a8a0af88efa08c6206485e46dfb923981fe4026738dbdc65bbb1029ef72",
         "0xa7569A44f348d3D70d8ad5889e50F78E33d80D35",
         "1",
         "rebalance_plan_1744342119_0xa7569A44f348d3D70d8ad5889e50F78E33d80D35.json",
         "0xa7569A44f348d3D70d8ad5889e50F78E33d80D35",
         "0xbB2d2dd491204a86ec10a1a6972F940B34fE060e",
         "150000.0",
         "149012.82620670632",
         "150000.0",
         "149962.78297377407",
         "149914.94985656173",
         "150000.0",
         null,
         "22243017",
         "2025-04-11 03:30:35+00:00",
         "crv2pool",
         "autoUSD",
         "autoUSD -> crv2pool",
         "('USDT', 'USDC')",
         "('USDC',)",
         "('USDC',) -> ('USDT', 'USDC')",
         "85.05014343827497",
         "5.670009562551665",
         "37.21702622593148",
         "2.481135081728765"
        ],
        [
         "34",
         "0x3b62a3f02571cdaf0d3874e455f37fb775c0d7dbf186a844225028c1b26663c0",
         "0xa7569A44f348d3D70d8ad5889e50F78E33d80D35",
         "1",
         "rebalance_plan_1744346559_0xa7569A44f348d3D70d8ad5889e50F78E33d80D35.json",
         "0xa7569A44f348d3D70d8ad5889e50F78E33d80D35",
         "0x7583b1589aDD33320366A48A92794D77763FAE9e",
         "150000.0",
         "147494.4877508313",
         "150000.0",
         "150024.01821575806",
         "149989.50450562435",
         "150000.0",
         null,
         "22243387",
         "2025-04-11 04:44:47+00:00",
         "crvUSDUSDT-f",
         "autoUSD",
         "autoUSD -> crvUSDUSDT-f",
         "('USDT', 'crvUSD')",
         "('USDC',)",
         "('USDC',) -> ('USDT', 'crvUSD')",
         "10.495494375645649",
         "0.6996996250430433",
         "-24.018215758056613",
         "-1.601214383870441"
        ],
        [
         "35",
         "0x96f45c3686f6287e23c0695b3dc0749d128ff7ae8f5dd72898d23022be027968",
         "0xa7569A44f348d3D70d8ad5889e50F78E33d80D35",
         "1",
         "rebalance_plan_1744351000_0xa7569A44f348d3D70d8ad5889e50F78E33d80D35.json",
         "0xa7569A44f348d3D70d8ad5889e50F78E33d80D35",
         "0x7583b1589aDD33320366A48A92794D77763FAE9e",
         "123780.706565",
         "121713.54410984518",
         "123780.706565",
         "123800.93139132902",
         "123772.45042200731",
         "123780.706565",
         null,
         "22243757",
         "2025-04-11 05:58:47+00:00",
         "crvUSDUSDT-f",
         "autoUSD",
         "autoUSD -> crvUSDUSDT-f",
         "('USDT', 'crvUSD')",
         "('USDC',)",
         "('USDC',) -> ('USDT', 'crvUSD')",
         "8.256142992686364",
         "0.6669975654364907",
         "-20.224826329023927",
         "-1.6339239684662343"
        ],
        [
         "36",
         "0xea053b69475c00a9fa5a51b0b993637d9cf6b94b4efda2995df3782062fdc731",
         "0xa7569A44f348d3D70d8ad5889e50F78E33d80D35",
         "1",
         "rebalance_plan_1744355680_0xa7569A44f348d3D70d8ad5889e50F78E33d80D35.json",
         "0xa7569A44f348d3D70d8ad5889e50F78E33d80D35",
         "0x7583b1589aDD33320366A48A92794D77763FAE9e",
         "150000.0",
         "147488.93313498926",
         "150000.0",
         "150018.36833825434",
         "149988.72306269422",
         "150000.0",
         null,
         "22244146",
         "2025-04-11 07:16:47+00:00",
         "crvUSDUSDT-f",
         "autoUSD",
         "autoUSD -> crvUSDUSDT-f",
         "('USDT', 'crvUSD')",
         "('USDC',)",
         "('USDC',) -> ('USDT', 'crvUSD')",
         "11.276937305781757",
         "0.7517958203854505",
         "-18.368338254338596",
         "-1.2245558836225732"
        ],
        [
         "37",
         "0x92621e01706fbbb1e5dcd57e38f67ab4f2ab2ea0acf819e0d01f44d5f07805d8",
         "0xa7569A44f348d3D70d8ad5889e50F78E33d80D35",
         "1",
         "rebalance_plan_1744360120_0xa7569A44f348d3D70d8ad5889e50F78E33d80D35.json",
         "0xa7569A44f348d3D70d8ad5889e50F78E33d80D35",
         "0xbB2d2dd491204a86ec10a1a6972F940B34fE060e",
         "87758.119435",
         "87176.8534119588",
         "87758.119435",
         "87708.63221777175",
         "87703.05289915338",
         "87758.119435",
         null,
         "22244515",
         "2025-04-11 08:30:35+00:00",
         "crv2pool",
         "autoUSD",
         "autoUSD -> crv2pool",
         "('USDT', 'USDC')",
         "('USDC',)",
         "('USDC',) -> ('USDT', 'USDC')",
         "55.066535846621264",
         "6.2748080976606975",
         "49.48721722824848",
         "5.639047138527426"
        ],
        [
         "38",
         "0x5715c908e20846b48d88b0ec207d8318a79476fcc66cced5c08907b28d2017c0",
         "0xa7569A44f348d3D70d8ad5889e50F78E33d80D35",
         "1",
         "rebalance_plan_1744364560_0xa7569A44f348d3D70d8ad5889e50F78E33d80D35.json",
         "0xa7569A44f348d3D70d8ad5889e50F78E33d80D35",
         "0xbB2d2dd491204a86ec10a1a6972F940B34fE060e",
         "150000.0",
         "149092.93166995325",
         "150000.0",
         "150002.54764607162",
         "149993.00569844476",
         "150000.0",
         null,
         "22244886",
         "2025-04-11 09:44:47+00:00",
         "crv2pool",
         "autoUSD",
         "autoUSD -> crv2pool",
         "('USDT', 'USDC')",
         "('USDC',)",
         "('USDC',) -> ('USDT', 'USDC')",
         "6.994301555241691",
         "0.46628677034944604",
         "-2.5476460716163274",
         "-0.16984307144108848"
        ],
        [
         "39",
         "0x66685b417a24b10d66117ac52dd291bd3623ca97c4c73da83ab28820b9b85672",
         "0xa7569A44f348d3D70d8ad5889e50F78E33d80D35",
         "1",
         "rebalance_plan_1744369000_0xa7569A44f348d3D70d8ad5889e50F78E33d80D35.json",
         "0xa7569A44f348d3D70d8ad5889e50F78E33d80D35",
         "0xbB2d2dd491204a86ec10a1a6972F940B34fE060e",
         "150000.0",
         "149077.34894022933",
         "150000.0",
         "149986.86984611367",
         "149977.3288957815",
         "150000.0",
         null,
         "22245254",
         "2025-04-11 10:58:35+00:00",
         "crv2pool",
         "autoUSD",
         "autoUSD -> crv2pool",
         "('USDT', 'USDC')",
         "('USDC',)",
         "('USDC',) -> ('USDT', 'USDC')",
         "22.671104218490655",
         "1.511406947899377",
         "13.130153886333574",
         "0.8753435924222382"
        ],
        [
         "40",
         "0x1f2300b18c28df852c55951f56f5a1d1acbda87f0da57b0d925d5edf999eba9a",
         "0xa7569A44f348d3D70d8ad5889e50F78E33d80D35",
         "1",
         "rebalance_plan_1744373679_0xa7569A44f348d3D70d8ad5889e50F78E33d80D35.json",
         "0xa7569A44f348d3D70d8ad5889e50F78E33d80D35",
         "0x7583b1589aDD33320366A48A92794D77763FAE9e",
         "150000.0",
         "147468.31052429648",
         "150000.0",
         "149970.2578806517",
         "149940.4692819258",
         "150000.0",
         null,
         "22245642",
         "2025-04-11 12:16:47+00:00",
         "crvUSDUSDT-f",
         "autoUSD",
         "autoUSD -> crvUSDUSDT-f",
         "('USDT', 'crvUSD')",
         "('USDC',)",
         "('USDC',) -> ('USDT', 'crvUSD')",
         "59.53071807420929",
         "3.9687145382806195",
         "29.742119348287815",
         "1.982807956552521"
        ],
        [
         "41",
         "0x7c0e6c5bc1510f3c840dfdf8ca80e13170e2daee0791756f2036a71dfa8822fe",
         "0xa7569A44f348d3D70d8ad5889e50F78E33d80D35",
         "1",
         "rebalance_plan_1744378120_0xa7569A44f348d3D70d8ad5889e50F78E33d80D35.json",
         "0xa7569A44f348d3D70d8ad5889e50F78E33d80D35",
         "0xbB2d2dd491204a86ec10a1a6972F940B34fE060e",
         "150000.0",
         "149096.61264871704",
         "150000.0",
         "150006.25108248685",
         "150008.4875316766",
         "150000.0",
         null,
         "22246013",
         "2025-04-11 13:30:59+00:00",
         "crv2pool",
         "autoUSD",
         "autoUSD -> crv2pool",
         "('USDT', 'USDC')",
         "('USDC',)",
         "('USDC',) -> ('USDT', 'USDC')",
         "-8.487531676597428",
         "-0.5658354451064952",
         "-6.251082486851374",
         "-0.41673883245675825"
        ],
        [
         "42",
         "0x20d965a60ee0e999177068b02c14fbbe85400ad1af8adeae3189023d667b65c7",
         "0xa7569A44f348d3D70d8ad5889e50F78E33d80D35",
         "1",
         "rebalance_plan_1744382560_0xa7569A44f348d3D70d8ad5889e50F78E33d80D35.json",
         "0xa7569A44f348d3D70d8ad5889e50F78E33d80D35",
         "0x65efCF2cce562DCBf07e805eEbeDeF21Dbd8Ea3D",
         "150000.0",
         "147307.4985211377",
         "150000.0",
         "149997.4807516322",
         "149992.76691167953",
         "150000.0",
         null,
         "22246380",
         "2025-04-11 14:44:47+00:00",
         "crvUSDUSDC-f",
         "autoUSD",
         "autoUSD -> crvUSDUSDC-f",
         "('crvUSD', 'USDC')",
         "('USDC',)",
         "('USDC',) -> ('crvUSD', 'USDC')",
         "7.233088320470415",
         "0.482205888031361",
         "2.5192483678110875",
         "0.16794989118740583"
        ],
        [
         "43",
         "0x40f50ac5ded253631186fa6213ca71fdebd3e1f904c3fdee0a39df2ad91213c5",
         "0xa7569A44f348d3D70d8ad5889e50F78E33d80D35",
         "1",
         "rebalance_plan_1744387000_0xa7569A44f348d3D70d8ad5889e50F78E33d80D35.json",
         "0xa7569A44f348d3D70d8ad5889e50F78E33d80D35",
         "0x65efCF2cce562DCBf07e805eEbeDeF21Dbd8Ea3D",
         "150000.0",
         "147308.87135573407",
         "150000.0",
         "149999.02596443248",
         "149995.932478134",
         "150000.0",
         null,
         "22246747",
         "2025-04-11 15:58:47+00:00",
         "crvUSDUSDC-f",
         "autoUSD",
         "autoUSD -> crvUSDUSDC-f",
         "('crvUSD', 'USDC')",
         "('USDC',)",
         "('USDC',) -> ('crvUSD', 'USDC')",
         "4.067521866003517",
         "0.27116812440023447",
         "0.9740355675166938",
         "0.06493570450111293"
        ],
        [
         "44",
         "0x27c7743ac71a221b5e8d31157d8038f35aaa86ffa93204031ba932ab51c4991e",
         "0xa7569A44f348d3D70d8ad5889e50F78E33d80D35",
         "1",
         "rebalance_plan_1744391680_0xa7569A44f348d3D70d8ad5889e50F78E33d80D35.json",
         "0xa7569A44f348d3D70d8ad5889e50F78E33d80D35",
         "0x7583b1589aDD33320366A48A92794D77763FAE9e",
         "150000.0",
         "147412.65218515057",
         "150000.0",
         "149913.65524212384",
         "149882.10893455622",
         "150000.0",
         null,
         "22247136",
         "2025-04-11 17:16:59+00:00",
         "crvUSDUSDT-f",
         "autoUSD",
         "autoUSD -> crvUSDUSDT-f",
         "('USDT', 'crvUSD')",
         "('USDC',)",
         "('USDC',) -> ('USDT', 'crvUSD')",
         "117.89106544377864",
         "7.859404362918577",
         "86.3447578761552",
         "5.75631719174368"
        ],
        [
         "45",
         "0xa5e63c42b0e63fe393daff9a69d2f6230f47a0e894efd89cbeb22d618aa1c46a",
         "0xa7569A44f348d3D70d8ad5889e50F78E33d80D35",
         "1",
         "rebalance_plan_1744396120_0xa7569A44f348d3D70d8ad5889e50F78E33d80D35.json",
         "0xa7569A44f348d3D70d8ad5889e50F78E33d80D35",
         "0xbB2d2dd491204a86ec10a1a6972F940B34fE060e",
         "150000.0",
         "148984.71751203443",
         "150000.0",
         "149896.05702905555",
         "149896.20601377307",
         "150000.0",
         null,
         "22247504",
         "2025-04-11 18:30:47+00:00",
         "crv2pool",
         "autoUSD",
         "autoUSD -> crv2pool",
         "('USDT', 'USDC')",
         "('USDC',)",
         "('USDC',) -> ('USDT', 'USDC')",
         "103.79398622692679",
         "6.919599081795119",
         "103.9429709444521",
         "6.929531396296807"
        ],
        [
         "46",
         "0x90641350cd5045818f3f8c930b9afa51b045ef08d3cd6db6942220ee18935246",
         "0xa7569A44f348d3D70d8ad5889e50F78E33d80D35",
         "1",
         "rebalance_plan_1744400560_0xa7569A44f348d3D70d8ad5889e50F78E33d80D35.json",
         "0xa7569A44f348d3D70d8ad5889e50F78E33d80D35",
         "0xbB2d2dd491204a86ec10a1a6972F940B34fE060e",
         "150000.0",
         "148977.5839967444",
         "150000.0",
         "149889.02885563648",
         "149902.13888302818",
         "150000.0",
         null,
         "22247873",
         "2025-04-11 19:44:59+00:00",
         "crv2pool",
         "autoUSD",
         "autoUSD -> crv2pool",
         "('USDT', 'USDC')",
         "('USDC',)",
         "('USDC',) -> ('USDT', 'USDC')",
         "97.86111697182059",
         "6.52407446478804",
         "110.97114436351694",
         "7.3980762909011295"
        ],
        [
         "47",
         "0x8cfd083ce88bcd7c275749d1a101673a0e83cc32c39df716b9eeadc7b24e4d22",
         "0xa7569A44f348d3D70d8ad5889e50F78E33d80D35",
         "1",
         "rebalance_plan_1744405000_0xa7569A44f348d3D70d8ad5889e50F78E33d80D35.json",
         "0xa7569A44f348d3D70d8ad5889e50F78E33d80D35",
         "0x65efCF2cce562DCBf07e805eEbeDeF21Dbd8Ea3D",
         "150000.0",
         "147310.73300879842",
         "150000.0",
         "150001.95279013616",
         "150001.5108579371",
         "150000.0",
         null,
         "22248242",
         "2025-04-11 20:58:59+00:00",
         "crvUSDUSDC-f",
         "autoUSD",
         "autoUSD -> crvUSDUSDC-f",
         "('crvUSD', 'USDC')",
         "('USDC',)",
         "('USDC',) -> ('crvUSD', 'USDC')",
         "-1.510857937100809",
         "-0.10072386247338727",
         "-1.9527901361580007",
         "-0.13018600907720004"
        ],
        [
         "48",
         "0x25cfca3da980b2aa06b6e08234bc9f20add87a7fb5cbfe8beed80d2eb41ac10e",
         "0xa7569A44f348d3D70d8ad5889e50F78E33d80D35",
         "1",
         "rebalance_plan_1744409679_0xa7569A44f348d3D70d8ad5889e50F78E33d80D35.json",
         "0xa7569A44f348d3D70d8ad5889e50F78E33d80D35",
         "0xbB2d2dd491204a86ec10a1a6972F940B34fE060e",
         "150000.0",
         "148969.6522998134",
         "150000.0",
         "149881.34657188825",
         "149894.00899233375",
         "150000.0",
         null,
         "22248632",
         "2025-04-11 22:16:59+00:00",
         "crv2pool",
         "autoUSD",
         "autoUSD -> crv2pool",
         "('USDT', 'USDC')",
         "('USDC',)",
         "('USDC',) -> ('USDT', 'USDC')",
         "105.99100766624906",
         "7.066067177749938",
         "118.65342811174924",
         "7.910228540783282"
        ],
        [
         "49",
         "0x947ff4582f511938524781eea7cc621228eb9bc7e2ddb88e379a1048064e1dfb",
         "0xa7569A44f348d3D70d8ad5889e50F78E33d80D35",
         "1",
         "rebalance_plan_1744441009_0xa7569A44f348d3D70d8ad5889e50F78E33d80D35.json",
         "0xa7569A44f348d3D70d8ad5889e50F78E33d80D35",
         "0xbB2d2dd491204a86ec10a1a6972F940B34fE060e",
         "150000.0",
         "149055.52475447147",
         "150000.0",
         "149971.62000961244",
         "149984.5878402661",
         "150000.0",
         null,
         "22251238",
         "2025-04-12 06:58:59+00:00",
         "crv2pool",
         "autoUSD",
         "autoUSD -> crv2pool",
         "('USDT', 'USDC')",
         "('USDC',)",
         "('USDC',) -> ('USDT', 'USDC')",
         "15.412159733910812",
         "1.0274773155940542",
         "28.37999038756243",
         "1.8919993591708286"
        ]
       ],
       "shape": {
        "columns": 25,
        "rows": 407
       }
      },
      "text/html": [
       "<div>\n",
       "<style scoped>\n",
       "    .dataframe tbody tr th:only-of-type {\n",
       "        vertical-align: middle;\n",
       "    }\n",
       "\n",
       "    .dataframe tbody tr th {\n",
       "        vertical-align: top;\n",
       "    }\n",
       "\n",
       "    .dataframe thead th {\n",
       "        text-align: right;\n",
       "    }\n",
       "</style>\n",
       "<table border=\"1\" class=\"dataframe\">\n",
       "  <thead>\n",
       "    <tr style=\"text-align: right;\">\n",
       "      <th></th>\n",
       "      <th>tx_hash</th>\n",
       "      <th>autopool_vault_address</th>\n",
       "      <th>chain_id</th>\n",
       "      <th>rebalance_file_path</th>\n",
       "      <th>destination_out</th>\n",
       "      <th>destination_in</th>\n",
       "      <th>quantity_out</th>\n",
       "      <th>quantity_in</th>\n",
       "      <th>safe_value_out</th>\n",
       "      <th>safe_value_in</th>\n",
       "      <th>...</th>\n",
       "      <th>destination_in_symbol</th>\n",
       "      <th>destination_out_symbol</th>\n",
       "      <th>move_name</th>\n",
       "      <th>destination_in_tokens</th>\n",
       "      <th>destination_out_tokens</th>\n",
       "      <th>tokens_move_name</th>\n",
       "      <th>spot_swap_cost</th>\n",
       "      <th>spot_slippage_bps</th>\n",
       "      <th>safe_swap_cost</th>\n",
       "      <th>safe_slippage_bps</th>\n",
       "    </tr>\n",
       "  </thead>\n",
       "  <tbody>\n",
       "    <tr>\n",
       "      <th>0</th>\n",
       "      <td>0x67618958fa10c91e18218c3c3f7eb57509e70445e898...</td>\n",
       "      <td>0xa7569A44f348d3D70d8ad5889e50F78E33d80D35</td>\n",
       "      <td>1</td>\n",
       "      <td>rebalance_plan_1743708477_0xa7569A44f348d3D70d...</td>\n",
       "      <td>0xb6E89d23d1E33537D383622B1955EbDa135c0b5A</td>\n",
       "      <td>0xa7569A44f348d3D70d8ad5889e50F78E33d80D35</td>\n",
       "      <td>85.899838</td>\n",
       "      <td>100.008658</td>\n",
       "      <td>100.118752</td>\n",
       "      <td>100.008658</td>\n",
       "      <td>...</td>\n",
       "      <td>autoUSD</td>\n",
       "      <td>sUSDe</td>\n",
       "      <td>sUSDe -&gt; autoUSD</td>\n",
       "      <td>('USDC',)</td>\n",
       "      <td>('sUSDe',)</td>\n",
       "      <td>('sUSDe',) -&gt; ('USDC',)</td>\n",
       "      <td>0.058898</td>\n",
       "      <td>5.885779</td>\n",
       "      <td>0.110094</td>\n",
       "      <td>10.996327</td>\n",
       "    </tr>\n",
       "    <tr>\n",
       "      <th>1</th>\n",
       "      <td>0x5513250273bfdbf939553c9ed98ce48b8479bc739634...</td>\n",
       "      <td>0xa7569A44f348d3D70d8ad5889e50F78E33d80D35</td>\n",
       "      <td>1</td>\n",
       "      <td>rebalance_plan_1743723845_0xa7569A44f348d3D70d...</td>\n",
       "      <td>0x6F628dcCD275feA4277722D177265741031E09d7</td>\n",
       "      <td>0xa7569A44f348d3D70d8ad5889e50F78E33d80D35</td>\n",
       "      <td>98.326351</td>\n",
       "      <td>99.954654</td>\n",
       "      <td>99.992786</td>\n",
       "      <td>99.954654</td>\n",
       "      <td>...</td>\n",
       "      <td>autoUSD</td>\n",
       "      <td>crvUSDUSDT-f</td>\n",
       "      <td>crvUSDUSDT-f -&gt; autoUSD</td>\n",
       "      <td>('USDC',)</td>\n",
       "      <td>('crvUSD', 'USDT')</td>\n",
       "      <td>('crvUSD', 'USDT') -&gt; ('USDC',)</td>\n",
       "      <td>0.025546</td>\n",
       "      <td>2.555152</td>\n",
       "      <td>0.038132</td>\n",
       "      <td>3.813499</td>\n",
       "    </tr>\n",
       "    <tr>\n",
       "      <th>2</th>\n",
       "      <td>0x14425c16bdc198d43d738991130a7fea735c85d7c883...</td>\n",
       "      <td>0xa7569A44f348d3D70d8ad5889e50F78E33d80D35</td>\n",
       "      <td>1</td>\n",
       "      <td>rebalance_plan_1743782101_0xa7569A44f348d3D70d...</td>\n",
       "      <td>0xa7569A44f348d3D70d8ad5889e50F78E33d80D35</td>\n",
       "      <td>0xbB2d2dd491204a86ec10a1a6972F940B34fE060e</td>\n",
       "      <td>25503.391475</td>\n",
       "      <td>25348.990383</td>\n",
       "      <td>25503.391475</td>\n",
       "      <td>25505.925983</td>\n",
       "      <td>...</td>\n",
       "      <td>crv2pool</td>\n",
       "      <td>autoUSD</td>\n",
       "      <td>autoUSD -&gt; crv2pool</td>\n",
       "      <td>('USDT', 'USDC')</td>\n",
       "      <td>('USDC',)</td>\n",
       "      <td>('USDC',) -&gt; ('USDT', 'USDC')</td>\n",
       "      <td>0.735512</td>\n",
       "      <td>0.288398</td>\n",
       "      <td>-2.534508</td>\n",
       "      <td>-0.993792</td>\n",
       "    </tr>\n",
       "    <tr>\n",
       "      <th>3</th>\n",
       "      <td>0x5c3a705003f40a1e38309a79c873f54f147043dbcdd4...</td>\n",
       "      <td>0xa7569A44f348d3D70d8ad5889e50F78E33d80D35</td>\n",
       "      <td>1</td>\n",
       "      <td>rebalance_plan_1743786510_0xa7569A44f348d3D70d...</td>\n",
       "      <td>0xa7569A44f348d3D70d8ad5889e50F78E33d80D35</td>\n",
       "      <td>0x7583b1589aDD33320366A48A92794D77763FAE9e</td>\n",
       "      <td>19127.543600</td>\n",
       "      <td>18806.816895</td>\n",
       "      <td>19127.543600</td>\n",
       "      <td>19124.181930</td>\n",
       "      <td>...</td>\n",
       "      <td>crvUSDUSDT-f</td>\n",
       "      <td>autoUSD</td>\n",
       "      <td>autoUSD -&gt; crvUSDUSDT-f</td>\n",
       "      <td>('USDT', 'crvUSD')</td>\n",
       "      <td>('USDC',)</td>\n",
       "      <td>('USDC',) -&gt; ('USDT', 'crvUSD')</td>\n",
       "      <td>5.091897</td>\n",
       "      <td>2.662076</td>\n",
       "      <td>3.361670</td>\n",
       "      <td>1.757502</td>\n",
       "    </tr>\n",
       "    <tr>\n",
       "      <th>4</th>\n",
       "      <td>0x8ac67f7b06d5dcaa032ce596da03410177deaac9028a...</td>\n",
       "      <td>0xa7569A44f348d3D70d8ad5889e50F78E33d80D35</td>\n",
       "      <td>1</td>\n",
       "      <td>rebalance_plan_1743792976_0xa7569A44f348d3D70d...</td>\n",
       "      <td>0xa7569A44f348d3D70d8ad5889e50F78E33d80D35</td>\n",
       "      <td>0xbB2d2dd491204a86ec10a1a6972F940B34fE060e</td>\n",
       "      <td>14345.657699</td>\n",
       "      <td>14261.656811</td>\n",
       "      <td>14345.657699</td>\n",
       "      <td>14349.979251</td>\n",
       "      <td>...</td>\n",
       "      <td>crv2pool</td>\n",
       "      <td>autoUSD</td>\n",
       "      <td>autoUSD -&gt; crv2pool</td>\n",
       "      <td>('USDT', 'USDC')</td>\n",
       "      <td>('USDC',)</td>\n",
       "      <td>('USDC',) -&gt; ('USDT', 'USDC')</td>\n",
       "      <td>-1.212511</td>\n",
       "      <td>-0.845211</td>\n",
       "      <td>-4.321552</td>\n",
       "      <td>-3.012446</td>\n",
       "    </tr>\n",
       "    <tr>\n",
       "      <th>...</th>\n",
       "      <td>...</td>\n",
       "      <td>...</td>\n",
       "      <td>...</td>\n",
       "      <td>...</td>\n",
       "      <td>...</td>\n",
       "      <td>...</td>\n",
       "      <td>...</td>\n",
       "      <td>...</td>\n",
       "      <td>...</td>\n",
       "      <td>...</td>\n",
       "      <td>...</td>\n",
       "      <td>...</td>\n",
       "      <td>...</td>\n",
       "      <td>...</td>\n",
       "      <td>...</td>\n",
       "      <td>...</td>\n",
       "      <td>...</td>\n",
       "      <td>...</td>\n",
       "      <td>...</td>\n",
       "      <td>...</td>\n",
       "      <td>...</td>\n",
       "    </tr>\n",
       "    <tr>\n",
       "      <th>402</th>\n",
       "      <td>0xa5211a055efbf9c16c315a2b84f111502ccf3a5338cc...</td>\n",
       "      <td>0xa7569A44f348d3D70d8ad5889e50F78E33d80D35</td>\n",
       "      <td>1</td>\n",
       "      <td>rebalance_plan_1748625848_0xa7569A44f348d3D70d...</td>\n",
       "      <td>0xb949C40F18fB52747d96850696c954718168fde3</td>\n",
       "      <td>0x3Ee3F7A0B244004B0678EBa98bA091eC101513Ee</td>\n",
       "      <td>74317.247448</td>\n",
       "      <td>72318.271916</td>\n",
       "      <td>75000.297269</td>\n",
       "      <td>74964.035894</td>\n",
       "      <td>...</td>\n",
       "      <td>SkySaver</td>\n",
       "      <td>frxsUSDS</td>\n",
       "      <td>frxsUSDS -&gt; SkySaver</td>\n",
       "      <td>('scrvUSD', 'sUSDS')</td>\n",
       "      <td>('frxUSD', 'sUSDS')</td>\n",
       "      <td>('frxUSD', 'sUSDS') -&gt; ('scrvUSD', 'sUSDS')</td>\n",
       "      <td>37.414470</td>\n",
       "      <td>4.988586</td>\n",
       "      <td>36.261375</td>\n",
       "      <td>4.834831</td>\n",
       "    </tr>\n",
       "    <tr>\n",
       "      <th>403</th>\n",
       "      <td>0xa48c0d19f6e7b4a41c7557a957a6b748075491d5eba0...</td>\n",
       "      <td>0xa7569A44f348d3D70d8ad5889e50F78E33d80D35</td>\n",
       "      <td>1</td>\n",
       "      <td>rebalance_plan_1748632467_0xa7569A44f348d3D70d...</td>\n",
       "      <td>0xb949C40F18fB52747d96850696c954718168fde3</td>\n",
       "      <td>0x3Ee3F7A0B244004B0678EBa98bA091eC101513Ee</td>\n",
       "      <td>297218.628078</td>\n",
       "      <td>289200.547509</td>\n",
       "      <td>300000.891656</td>\n",
       "      <td>299783.841545</td>\n",
       "      <td>...</td>\n",
       "      <td>SkySaver</td>\n",
       "      <td>frxsUSDS</td>\n",
       "      <td>frxsUSDS -&gt; SkySaver</td>\n",
       "      <td>('scrvUSD', 'sUSDS')</td>\n",
       "      <td>('frxUSD', 'sUSDS')</td>\n",
       "      <td>('frxUSD', 'sUSDS') -&gt; ('scrvUSD', 'sUSDS')</td>\n",
       "      <td>218.448005</td>\n",
       "      <td>7.281622</td>\n",
       "      <td>217.050111</td>\n",
       "      <td>7.234982</td>\n",
       "    </tr>\n",
       "    <tr>\n",
       "      <th>404</th>\n",
       "      <td>0x3b5ab1bad915b3b34caaece1ebe33c4d86220ee4412e...</td>\n",
       "      <td>0xa7569A44f348d3D70d8ad5889e50F78E33d80D35</td>\n",
       "      <td>1</td>\n",
       "      <td>rebalance_plan_1748636368_0xa7569A44f348d3D70d...</td>\n",
       "      <td>0xb949C40F18fB52747d96850696c954718168fde3</td>\n",
       "      <td>0x3Ee3F7A0B244004B0678EBa98bA091eC101513Ee</td>\n",
       "      <td>198173.042719</td>\n",
       "      <td>192828.437946</td>\n",
       "      <td>200000.396346</td>\n",
       "      <td>199888.465544</td>\n",
       "      <td>...</td>\n",
       "      <td>SkySaver</td>\n",
       "      <td>frxsUSDS</td>\n",
       "      <td>frxsUSDS -&gt; SkySaver</td>\n",
       "      <td>('scrvUSD', 'sUSDS')</td>\n",
       "      <td>('frxUSD', 'sUSDS')</td>\n",
       "      <td>('frxUSD', 'sUSDS') -&gt; ('scrvUSD', 'sUSDS')</td>\n",
       "      <td>118.481624</td>\n",
       "      <td>5.924075</td>\n",
       "      <td>111.930802</td>\n",
       "      <td>5.596529</td>\n",
       "    </tr>\n",
       "    <tr>\n",
       "      <th>405</th>\n",
       "      <td>0x2403575c107f3bc9d59b77466f360f79c0e7405127a1...</td>\n",
       "      <td>0xa7569A44f348d3D70d8ad5889e50F78E33d80D35</td>\n",
       "      <td>1</td>\n",
       "      <td>rebalance_plan_1748641689_0xa7569A44f348d3D70d...</td>\n",
       "      <td>0xb949C40F18fB52747d96850696c954718168fde3</td>\n",
       "      <td>0x3Ee3F7A0B244004B0678EBa98bA091eC101513Ee</td>\n",
       "      <td>148619.473709</td>\n",
       "      <td>144605.576806</td>\n",
       "      <td>150000.594478</td>\n",
       "      <td>149902.623690</td>\n",
       "      <td>...</td>\n",
       "      <td>SkySaver</td>\n",
       "      <td>frxsUSDS</td>\n",
       "      <td>frxsUSDS -&gt; SkySaver</td>\n",
       "      <td>('scrvUSD', 'sUSDS')</td>\n",
       "      <td>('frxUSD', 'sUSDS')</td>\n",
       "      <td>('frxUSD', 'sUSDS') -&gt; ('scrvUSD', 'sUSDS')</td>\n",
       "      <td>105.470208</td>\n",
       "      <td>7.031354</td>\n",
       "      <td>97.970788</td>\n",
       "      <td>6.531360</td>\n",
       "    </tr>\n",
       "    <tr>\n",
       "      <th>406</th>\n",
       "      <td>0x9110705aa3f081a6eafb0a2bdd50174cf53ea10ac593...</td>\n",
       "      <td>0xa7569A44f348d3D70d8ad5889e50F78E33d80D35</td>\n",
       "      <td>1</td>\n",
       "      <td>rebalance_plan_1748648141_0xa7569A44f348d3D70d...</td>\n",
       "      <td>0xb949C40F18fB52747d96850696c954718168fde3</td>\n",
       "      <td>0x3Ee3F7A0B244004B0678EBa98bA091eC101513Ee</td>\n",
       "      <td>148616.675980</td>\n",
       "      <td>144609.424124</td>\n",
       "      <td>149997.770750</td>\n",
       "      <td>149944.210390</td>\n",
       "      <td>...</td>\n",
       "      <td>SkySaver</td>\n",
       "      <td>frxsUSDS</td>\n",
       "      <td>frxsUSDS -&gt; SkySaver</td>\n",
       "      <td>('scrvUSD', 'sUSDS')</td>\n",
       "      <td>('frxUSD', 'sUSDS')</td>\n",
       "      <td>('frxUSD', 'sUSDS') -&gt; ('scrvUSD', 'sUSDS')</td>\n",
       "      <td>56.456556</td>\n",
       "      <td>3.763823</td>\n",
       "      <td>53.560360</td>\n",
       "      <td>3.570744</td>\n",
       "    </tr>\n",
       "  </tbody>\n",
       "</table>\n",
       "<p>407 rows × 25 columns</p>\n",
       "</div>"
      ],
      "text/plain": [
       "                                               tx_hash  \\\n",
       "0    0x67618958fa10c91e18218c3c3f7eb57509e70445e898...   \n",
       "1    0x5513250273bfdbf939553c9ed98ce48b8479bc739634...   \n",
       "2    0x14425c16bdc198d43d738991130a7fea735c85d7c883...   \n",
       "3    0x5c3a705003f40a1e38309a79c873f54f147043dbcdd4...   \n",
       "4    0x8ac67f7b06d5dcaa032ce596da03410177deaac9028a...   \n",
       "..                                                 ...   \n",
       "402  0xa5211a055efbf9c16c315a2b84f111502ccf3a5338cc...   \n",
       "403  0xa48c0d19f6e7b4a41c7557a957a6b748075491d5eba0...   \n",
       "404  0x3b5ab1bad915b3b34caaece1ebe33c4d86220ee4412e...   \n",
       "405  0x2403575c107f3bc9d59b77466f360f79c0e7405127a1...   \n",
       "406  0x9110705aa3f081a6eafb0a2bdd50174cf53ea10ac593...   \n",
       "\n",
       "                         autopool_vault_address  chain_id  \\\n",
       "0    0xa7569A44f348d3D70d8ad5889e50F78E33d80D35         1   \n",
       "1    0xa7569A44f348d3D70d8ad5889e50F78E33d80D35         1   \n",
       "2    0xa7569A44f348d3D70d8ad5889e50F78E33d80D35         1   \n",
       "3    0xa7569A44f348d3D70d8ad5889e50F78E33d80D35         1   \n",
       "4    0xa7569A44f348d3D70d8ad5889e50F78E33d80D35         1   \n",
       "..                                          ...       ...   \n",
       "402  0xa7569A44f348d3D70d8ad5889e50F78E33d80D35         1   \n",
       "403  0xa7569A44f348d3D70d8ad5889e50F78E33d80D35         1   \n",
       "404  0xa7569A44f348d3D70d8ad5889e50F78E33d80D35         1   \n",
       "405  0xa7569A44f348d3D70d8ad5889e50F78E33d80D35         1   \n",
       "406  0xa7569A44f348d3D70d8ad5889e50F78E33d80D35         1   \n",
       "\n",
       "                                   rebalance_file_path  \\\n",
       "0    rebalance_plan_1743708477_0xa7569A44f348d3D70d...   \n",
       "1    rebalance_plan_1743723845_0xa7569A44f348d3D70d...   \n",
       "2    rebalance_plan_1743782101_0xa7569A44f348d3D70d...   \n",
       "3    rebalance_plan_1743786510_0xa7569A44f348d3D70d...   \n",
       "4    rebalance_plan_1743792976_0xa7569A44f348d3D70d...   \n",
       "..                                                 ...   \n",
       "402  rebalance_plan_1748625848_0xa7569A44f348d3D70d...   \n",
       "403  rebalance_plan_1748632467_0xa7569A44f348d3D70d...   \n",
       "404  rebalance_plan_1748636368_0xa7569A44f348d3D70d...   \n",
       "405  rebalance_plan_1748641689_0xa7569A44f348d3D70d...   \n",
       "406  rebalance_plan_1748648141_0xa7569A44f348d3D70d...   \n",
       "\n",
       "                                destination_out  \\\n",
       "0    0xb6E89d23d1E33537D383622B1955EbDa135c0b5A   \n",
       "1    0x6F628dcCD275feA4277722D177265741031E09d7   \n",
       "2    0xa7569A44f348d3D70d8ad5889e50F78E33d80D35   \n",
       "3    0xa7569A44f348d3D70d8ad5889e50F78E33d80D35   \n",
       "4    0xa7569A44f348d3D70d8ad5889e50F78E33d80D35   \n",
       "..                                          ...   \n",
       "402  0xb949C40F18fB52747d96850696c954718168fde3   \n",
       "403  0xb949C40F18fB52747d96850696c954718168fde3   \n",
       "404  0xb949C40F18fB52747d96850696c954718168fde3   \n",
       "405  0xb949C40F18fB52747d96850696c954718168fde3   \n",
       "406  0xb949C40F18fB52747d96850696c954718168fde3   \n",
       "\n",
       "                                 destination_in   quantity_out    quantity_in  \\\n",
       "0    0xa7569A44f348d3D70d8ad5889e50F78E33d80D35      85.899838     100.008658   \n",
       "1    0xa7569A44f348d3D70d8ad5889e50F78E33d80D35      98.326351      99.954654   \n",
       "2    0xbB2d2dd491204a86ec10a1a6972F940B34fE060e   25503.391475   25348.990383   \n",
       "3    0x7583b1589aDD33320366A48A92794D77763FAE9e   19127.543600   18806.816895   \n",
       "4    0xbB2d2dd491204a86ec10a1a6972F940B34fE060e   14345.657699   14261.656811   \n",
       "..                                          ...            ...            ...   \n",
       "402  0x3Ee3F7A0B244004B0678EBa98bA091eC101513Ee   74317.247448   72318.271916   \n",
       "403  0x3Ee3F7A0B244004B0678EBa98bA091eC101513Ee  297218.628078  289200.547509   \n",
       "404  0x3Ee3F7A0B244004B0678EBa98bA091eC101513Ee  198173.042719  192828.437946   \n",
       "405  0x3Ee3F7A0B244004B0678EBa98bA091eC101513Ee  148619.473709  144605.576806   \n",
       "406  0x3Ee3F7A0B244004B0678EBa98bA091eC101513Ee  148616.675980  144609.424124   \n",
       "\n",
       "     safe_value_out  safe_value_in  ...  destination_in_symbol  \\\n",
       "0        100.118752     100.008658  ...                autoUSD   \n",
       "1         99.992786      99.954654  ...                autoUSD   \n",
       "2      25503.391475   25505.925983  ...               crv2pool   \n",
       "3      19127.543600   19124.181930  ...           crvUSDUSDT-f   \n",
       "4      14345.657699   14349.979251  ...               crv2pool   \n",
       "..              ...            ...  ...                    ...   \n",
       "402    75000.297269   74964.035894  ...               SkySaver   \n",
       "403   300000.891656  299783.841545  ...               SkySaver   \n",
       "404   200000.396346  199888.465544  ...               SkySaver   \n",
       "405   150000.594478  149902.623690  ...               SkySaver   \n",
       "406   149997.770750  149944.210390  ...               SkySaver   \n",
       "\n",
       "     destination_out_symbol                move_name  destination_in_tokens  \\\n",
       "0                     sUSDe         sUSDe -> autoUSD              ('USDC',)   \n",
       "1              crvUSDUSDT-f  crvUSDUSDT-f -> autoUSD              ('USDC',)   \n",
       "2                   autoUSD      autoUSD -> crv2pool       ('USDT', 'USDC')   \n",
       "3                   autoUSD  autoUSD -> crvUSDUSDT-f     ('USDT', 'crvUSD')   \n",
       "4                   autoUSD      autoUSD -> crv2pool       ('USDT', 'USDC')   \n",
       "..                      ...                      ...                    ...   \n",
       "402                frxsUSDS     frxsUSDS -> SkySaver   ('scrvUSD', 'sUSDS')   \n",
       "403                frxsUSDS     frxsUSDS -> SkySaver   ('scrvUSD', 'sUSDS')   \n",
       "404                frxsUSDS     frxsUSDS -> SkySaver   ('scrvUSD', 'sUSDS')   \n",
       "405                frxsUSDS     frxsUSDS -> SkySaver   ('scrvUSD', 'sUSDS')   \n",
       "406                frxsUSDS     frxsUSDS -> SkySaver   ('scrvUSD', 'sUSDS')   \n",
       "\n",
       "    destination_out_tokens                             tokens_move_name  \\\n",
       "0               ('sUSDe',)                      ('sUSDe',) -> ('USDC',)   \n",
       "1       ('crvUSD', 'USDT')              ('crvUSD', 'USDT') -> ('USDC',)   \n",
       "2                ('USDC',)                ('USDC',) -> ('USDT', 'USDC')   \n",
       "3                ('USDC',)              ('USDC',) -> ('USDT', 'crvUSD')   \n",
       "4                ('USDC',)                ('USDC',) -> ('USDT', 'USDC')   \n",
       "..                     ...                                          ...   \n",
       "402    ('frxUSD', 'sUSDS')  ('frxUSD', 'sUSDS') -> ('scrvUSD', 'sUSDS')   \n",
       "403    ('frxUSD', 'sUSDS')  ('frxUSD', 'sUSDS') -> ('scrvUSD', 'sUSDS')   \n",
       "404    ('frxUSD', 'sUSDS')  ('frxUSD', 'sUSDS') -> ('scrvUSD', 'sUSDS')   \n",
       "405    ('frxUSD', 'sUSDS')  ('frxUSD', 'sUSDS') -> ('scrvUSD', 'sUSDS')   \n",
       "406    ('frxUSD', 'sUSDS')  ('frxUSD', 'sUSDS') -> ('scrvUSD', 'sUSDS')   \n",
       "\n",
       "    spot_swap_cost spot_slippage_bps safe_swap_cost safe_slippage_bps  \n",
       "0         0.058898          5.885779       0.110094         10.996327  \n",
       "1         0.025546          2.555152       0.038132          3.813499  \n",
       "2         0.735512          0.288398      -2.534508         -0.993792  \n",
       "3         5.091897          2.662076       3.361670          1.757502  \n",
       "4        -1.212511         -0.845211      -4.321552         -3.012446  \n",
       "..             ...               ...            ...               ...  \n",
       "402      37.414470          4.988586      36.261375          4.834831  \n",
       "403     218.448005          7.281622     217.050111          7.234982  \n",
       "404     118.481624          5.924075     111.930802          5.596529  \n",
       "405     105.470208          7.031354      97.970788          6.531360  \n",
       "406      56.456556          3.763823      53.560360          3.570744  \n",
       "\n",
       "[407 rows x 25 columns]"
      ]
     },
     "execution_count": 19,
     "metadata": {},
     "output_type": "execute_result"
    }
   ],
   "source": [
    "rebalance_df"
   ]
  },
  {
   "cell_type": "code",
   "execution_count": 20,
   "metadata": {},
   "outputs": [
    {
     "data": {
      "application/vnd.plotly.v1+json": {
       "config": {
        "plotlyServerURL": "https://plot.ly"
       },
       "data": [
        {
         "hovertemplate": "spot_slippage_bps=%{x}<br>safe_slippage_bps=%{y}<extra></extra>",
         "legendgroup": "",
         "marker": {
          "color": "#000001",
          "symbol": "circle"
         },
         "mode": "markers",
         "name": "",
         "orientation": "v",
         "showlegend": false,
         "type": "scatter",
         "x": [
          5.885778988809331,
          2.555152267545467,
          0.28839771622507804,
          2.6620756659239304,
          -0.8452113450415939,
          1.7338333552590168,
          3.286493463692758,
          -0.8325602629073473,
          1.8133715277156592,
          2.7474134163591075,
          7.146532513599507,
          -0.007008943242614863,
          7.741040117653314,
          6.843515764927765,
          1.3682266267866396,
          7.658223767260827,
          6.566867683214756,
          6.436369284028964,
          6.590777831320883,
          5.899188404384768,
          6.574479712289758,
          5.008758068829775,
          4.50097229797199,
          4.9234712019135864,
          3.0574473646605234,
          2.2306628478795756,
          6.897811216348782,
          7.3373869741265665,
          6.180202123590308,
          1.03360504708653,
          3.275515228708973,
          6.116618154896424,
          4.0683708978133915,
          5.670009562551665,
          0.6996996250430433,
          0.6669975654364907,
          0.7517958203854505,
          6.2748080976606975,
          0.46628677034944604,
          1.511406947899377,
          3.9687145382806195,
          -0.5658354451064952,
          0.482205888031361,
          0.27116812440023447,
          7.859404362918577,
          6.919599081795119,
          6.52407446478804,
          -0.10072386247338727,
          7.066067177749938,
          1.0274773155940542,
          0.7839735716435907,
          7.739784945958915,
          -1.2819120907962012,
          6.464348739160536,
          1.1293281737928433,
          0.7471140247719913,
          0.7033262747106883,
          0.9531901724073077,
          1.505617601350692,
          11.688047410470633,
          1.6818635540288662,
          -1.6775626590533645,
          -1.8059069406115416,
          5.726500610446326,
          2.2562138735006254,
          -0.22216019954717475,
          -0.8224049489537719,
          6.923082366175982,
          2.0377378761089253,
          7.08015865154642,
          2.239640233508544,
          7.361291941350346,
          2.975993397156708,
          7.412793814517304,
          -0.7160016289617175,
          3.5253669345220313,
          -1.0552241817176742,
          1.531425706967499,
          -1.207907931091129,
          1.3699733398168774,
          5.931808160505102,
          1.602544861791119,
          1.4645474052752867,
          6.523625380067253,
          1.1634856000844,
          6.1180585278960535,
          1.2638408346447096,
          1.8056336690689363,
          -1.2029623647016126,
          6.001152099026417,
          1.541909266396843,
          0.4289738305228441,
          0.7824268491795404,
          6.270060075899043,
          6.398253578409397,
          6.182939575313745,
          5.540851932637937,
          0.19851203205956455,
          6.276248300238512,
          5.2180345567195525,
          0.6352581012179144,
          6.324871161477859,
          5.780949727220771,
          -0.3140240005508531,
          5.86210366631276,
          0.5440865272306837,
          4.9008927568056,
          0.3272846949267356,
          5.732821799950519,
          5.55718800054528,
          3.5614316477797616,
          6.181304375115347,
          1.7582091431377158,
          5.967978263903294,
          4.042230597151191,
          3.769014079944972,
          -2.1221984689619866,
          1.1751040486138313,
          6.18378900205907,
          6.108858980426857,
          5.975340632265822,
          6.104665130297265,
          1.246987676754361,
          5.794532068360907,
          5.044873452052707,
          4.903306155583899,
          1.351640383914734,
          3.1375355203461366,
          4.723269128479297,
          1.533442208180592,
          6.073425165711281,
          2.8309030265624946,
          0.043144666533529136,
          0.950943265213864,
          5.177895085751079,
          5.314745312003652,
          5.221344966839533,
          5.319257765626535,
          5.617065133628203,
          5.0362744875985666,
          5.240391976424726,
          5.014922301904298,
          2.3674302562105005,
          1.4171258029830642,
          5.676246089686174,
          5.434666968364036,
          1.7661983032338322,
          1.8186132878332864,
          5.819714626680361,
          5.902855004247977,
          2.291758508696221,
          7.305559043836547,
          7.632337405660655,
          5.693186727974098,
          2.992005867363198,
          9.063104889242492,
          3.684581271295125,
          2.35073208619336,
          1.2420481480006687,
          1.2343671518261214,
          0.8942708393541647,
          2.290640254458373,
          2.2803247063659913,
          1.0201148143503291,
          1.0575095272379993,
          0.8051679234215308,
          5.387564309266755,
          1.8098139798741717,
          0.8156770942846063,
          0.6583375374191843,
          1.0313867596404938,
          1.5333463037601311,
          2.5981763150768513,
          -74.14774741820293,
          3.9304525432855977,
          5.711464720762645,
          5.9635915562258255,
          0.7208453206423049,
          1.0970738474066215,
          -0.7440495249209244,
          -1.2770954903025677,
          -1.8158708646757684,
          1.0167349549503877,
          0.20821541234222937,
          -0.5694411714953728,
          1.7059515026935574,
          4.056977972498503,
          1.6160236041638645,
          0.2735897311980537,
          0.47370332375675667,
          4.711367436283652,
          0.8435570397335341,
          1.9924955611096937,
          1.8233150056761513,
          1.1855270082263463,
          2.639403149204131,
          4.639459927251234,
          7.219346993797446,
          1.873910530389232,
          -3.0292798452912666,
          1.2722936225081083,
          3.667273583502217,
          7.6097189415651,
          -21.58392585168839,
          0.9762464750550911,
          0.6826930230089804,
          2.4602856848794112,
          2.880338060511847,
          -2.4280920644527324,
          -1.6274041603596516,
          -7.976328303893238,
          0.07457897257514913,
          5.16937896531241,
          9.048692267409468,
          5.085363617088126,
          -0.8350364459937597,
          -1.6994176057526167,
          8.727548936318028,
          0.47608338380269977,
          0.0007104165912325728,
          -0.9282511127650069,
          -1.692376573659096,
          -0.6391552951774676,
          -0.11486537153144334,
          0.0028972890938159974,
          -0.002909740749862927,
          -0.0023750577076763362,
          0.002338242453440805,
          0.0035653427663101924,
          -0.0031922072523286912,
          0.18418128221288926,
          4.453714314480648,
          2.8853963032535153,
          5.726424810662896,
          2.785456625676221,
          -12.150707056502823,
          -1.2349568730280533,
          -0.7776629205621809,
          -2.093934277697337,
          0.10450664742144428,
          3.9051020106999204,
          -0.1664326767536114,
          -0.6691950060723559,
          0.5426901389831019,
          6.124849188864471,
          -1.10397263388375,
          0.0033221556791494505,
          -0.11234163459020612,
          2.1791657464568477,
          2.1086335232389355,
          2.9081123297527323,
          6.027349344464977,
          2.2767423559585946,
          6.074886223237238,
          -252.04709633026022,
          3.0202898282769852,
          2.437389743872165,
          0.8571764841617329,
          -6.753957518336397,
          0.0037555828583454433,
          6.887140232265956,
          2.9877305916819012,
          1.9697334599163236,
          -4.565167705550655,
          4.229500822641793,
          0.8984562006063403,
          0.8794253218888223,
          7.930886197819799,
          0.5459624009809512,
          9.32816349660107,
          -0.08754998131385597,
          3.7337676779141558,
          4.962414496894994,
          -3.575105728732203,
          5.564646993558306,
          -3.1517786472138383,
          5.477540480029708,
          1.2944837361142807,
          4.116518473355181,
          8.451087762823102,
          -1.447844772115678,
          -1.3252120827427791,
          6.953677247327833,
          -0.07690876382926194,
          8.342801176028683,
          -0.7091078135349295,
          -0.5950092131946098,
          1.1216564243117542,
          6.928314198053823,
          0.4845428762748591,
          -1.0694927280287692,
          8.877920432473527,
          4.844029706747531,
          0.6179133982266476,
          2.7386887527081156,
          0.5912961899439859,
          0.7693463986660765,
          -0.019117608818787095,
          7.4304639606506395,
          7.038031083116949,
          1.3576075046697391,
          -4.416452854057246,
          0.08048304920089086,
          3.553126062182734,
          7.962330920693776,
          -2.6763460689202825,
          -1.5459462724633724,
          9.219423878125024,
          2.663178134143965,
          0.4998503453744851,
          2.110817411974866,
          7.122336006017495,
          7.785208245139073,
          0.09877107835891917,
          7.628864716553445,
          1.6922270958311856,
          0.7910468815202226,
          0.5202800491982144,
          2.1547448450217805,
          2.565842832271007,
          -7.320845291233855,
          -1.35454352528468,
          0.11322737884038361,
          -0.7858345558523052,
          3.139698720595334,
          -2.1251216522865644,
          2.8036451298132308,
          2.90412714154212,
          2.6560863438367956,
          3.352070416215895,
          1.8394743996296097,
          2.4468126730290742,
          1.1293240515218466,
          2.0468463556871677,
          1.6428322730067195,
          2.78191901054795,
          8.031672592712605,
          2.872198633770348,
          3.437772466400127,
          2.6354289151633274,
          2.0006302688511273,
          7.479001950693039,
          1.2112241936577093,
          8.42918440929972,
          0.7835804448633488,
          0.7499356687497182,
          8.828395641892163,
          2.6689024265773194,
          8.925613518500665,
          -8.418200931001023,
          3.134189766875015,
          3.199454489311373,
          9.43584508616394,
          7.400956451651707,
          1.5159232498096702,
          1.5369944314320485,
          3.1875818949385377,
          1.5924536082207592,
          7.758262650679431,
          7.176454481608483,
          1.70142449902895,
          2.265524634975376,
          8.03482938306323,
          2.22108129256067,
          8.320837533865417,
          9.128991885569121,
          -14.133626051509056,
          1.6173349607037382,
          0.7259059842282508,
          3.3464379673226343,
          -4.979610180448886,
          7.172474600903353,
          2.892081397141554,
          8.71886782126072,
          8.443214159982501,
          1.2826027602485348,
          9.046412461782372,
          9.497204737339812,
          4.049750643343124,
          3.217826715683433,
          4.129019161910401,
          4.462817147598363,
          2.678162206213165,
          -3.0308732571391492,
          -0.7052252265705534,
          -0.2715467962130298,
          -0.8341340411769187,
          -7.192066146715661,
          -6.476041575974834,
          -0.9462723047121274,
          -2.9780205587054036,
          -1.211816572476369,
          -0.9622255525493528,
          -0.7198794065366235,
          -1.59859518267662,
          -2.9171403884785834,
          2.366330857508001,
          -2.6668307236963305,
          -13.222206754140123,
          5.860314550840605,
          1.8815056691256662,
          9.520420344613798,
          4.9885860701458835,
          7.281621817740535,
          5.924075342474796,
          7.031354186682847,
          3.7638225912442036
         ],
         "xaxis": "x",
         "y": [
          10.99632713966822,
          3.8134987518386203,
          -0.993792443720893,
          1.7575020361142697,
          -3.0124463718281334,
          0.9471853878365896,
          -0.7201415800657873,
          -2.1049497881494434,
          0.6762060476791131,
          1.0963582536602057,
          4.989438255329688,
          1.9308844654824773,
          5.633786445014579,
          8.72047259071831,
          2.7594069745434715,
          5.451533291530304,
          8.046690640425853,
          4.328844664113906,
          8.070597247928768,
          5.909127541769219,
          5.789919855608605,
          4.939177562434149,
          4.133163986508347,
          4.5656194940849675,
          2.898374999562899,
          -0.050617320637684315,
          6.689109149303985,
          4.526425708967727,
          2.991442885509908,
          -2.1368680184929096,
          0.34585608875611795,
          5.684748183317716,
          2.21064499352401,
          2.481135081728765,
          -1.601214383870441,
          -1.6339239684662343,
          -1.2245558836225732,
          5.639047138527426,
          -0.16984307144108848,
          0.8753435924222382,
          1.982807956552521,
          -0.41673883245675825,
          0.16794989118740583,
          0.06493570450111293,
          5.75631719174368,
          6.929531396296807,
          7.3980762909011295,
          -0.13018600907720004,
          7.910228540783282,
          1.8919993591708286,
          0.038697796015841876,
          5.853136477305088,
          -1.3899530399745952,
          4.931306975495924,
          1.1293281737928433,
          0.6986892414105651,
          0.6839564453932826,
          0.9241363232973974,
          1.495933595072645,
          6.932751705915172,
          1.1609058715274772,
          -5.855089116240374,
          -6.838753060270128,
          4.9305724409109075,
          2.217484207395076,
          -4.329418637897334,
          -4.929890747253861,
          6.520249815183747,
          2.0183731074891207,
          6.903312289350045,
          2.229958166620539,
          7.12549739792664,
          2.966311687081664,
          7.078749981992445,
          -0.8252885392323719,
          3.259995721237492,
          -1.154579189614762,
          1.531425706967499,
          -2.002715911424221,
          1.3699733398168774,
          5.842462663284128,
          1.5928628905217317,
          1.44518327047906,
          5.918083479656986,
          0.537753805628589,
          5.38343325356407,
          0.4891284378658502,
          1.7862706823588081,
          -1.2923687150272984,
          5.931663985711001,
          1.5322281551353683,
          -0.35572693838462055,
          0.07726060793566969,
          5.565318634209689,
          5.683596787857823,
          5.468268097174587,
          4.845991249623087,
          -0.13916006056630673,
          5.57151289456912,
          4.890459810961814,
          -0.059940879289448884,
          5.610216221301471,
          4.530190792198604,
          -1.406601700388516,
          3.9262979784747585,
          -1.4126161549434377,
          3.6500882863493946,
          -0.9240921249729581,
          4.650888216710882,
          4.336248401260018,
          1.307340251030979,
          5.476611267711362,
          1.7485297970806193,
          5.253344647359482,
          2.392852306656333,
          2.139468137562186,
          -2.8274623714718103,
          1.1651623487258682,
          5.002675735601466,
          4.917810279540544,
          4.7445714205270635,
          4.903690519593268,
          1.2566667118788852,
          4.613373970867057,
          4.5882901845228234,
          2.886481133043223,
          0.1100571762091325,
          3.127857800062823,
          2.398351776574661,
          -0.02590527822612785,
          5.120578095082116,
          2.5556987428630236,
          -2.7974248608031,
          1.2133361411863006,
          5.431432976537617,
          5.577020920994691,
          5.483621879706625,
          5.581530503231334,
          5.879328679976752,
          5.289809539460111,
          5.030575067168102,
          4.805101944134804,
          2.2996933235914914,
          1.2072321213444228,
          5.466442734516459,
          5.224859826499596,
          1.5563152538985014,
          1.6087324402481318,
          5.609918687328463,
          5.693062094643246,
          2.1466118977067525,
          7.375119894498494,
          7.731709566791542,
          5.792578173582442,
          3.1411324400366833,
          5.726427083512743,
          3.7144048754901937,
          2.35073208619336,
          3.1303381743168788,
          2.1261390980693804,
          1.7860629810671358,
          3.173555982557194,
          2.1666719337621285,
          0.9064490079812378,
          1.89687510880899,
          7.638418259592248,
          11.222360280249312,
          5.655157459043312,
          -2.8095185812313095,
          1.8557525308796372,
          1.2324230583927904,
          -2.166565575912218,
          -0.8402997672667801,
          -74.54346419251137,
          2.2071769705119855,
          5.436662319395691,
          5.786933162742449,
          0.4458965175086632,
          0.6257415192453967,
          0.005345329959504556,
          0.003841489580553247,
          0.5423156819551044,
          -3.175871023259258,
          -2.903550995395833,
          -1.4631822165677195,
          0.8713332985086939,
          4.891947164397263,
          1.8247448541345244,
          0.3928760978077904,
          0.5731068376052169,
          4.890229314072556,
          1.20141246184491,
          2.5752135463600143,
          2.8209610832528984,
          1.394271355485209,
          3.51469568634722,
          3.8615242219680597,
          7.653222721487875,
          2.013070764910546,
          -7.316345649271072,
          1.7494251107368697,
          3.3219726520721276,
          6.571946634326206,
          -22.272799342312236,
          0.2300059743304633,
          0.2899206341630078,
          2.917551464289566,
          3.1288470656419762,
          -5.847397517608504,
          -5.503140873107139,
          -6.80083129028974,
          -3.87763430229389,
          1.406198437942778,
          5.15924789224367,
          1.371308762124767,
          -0.8359266994924831,
          0.00762015161162943,
          6.621708201894884,
          -1.9527088818388858,
          -0.002379476907289617,
          0.0038359438123971284,
          0.006273022376904812,
          0.005454886479173955,
          0.007086823856818277,
          0.00630012045118492,
          0.007157790930979408,
          0.006075437512313776,
          0.00030796002766667974,
          0.0032926360157456026,
          -0.005732485397049948,
          0.0012638768718769664,
          1.3368330776272133,
          2.925163101533408,
          5.696981827042424,
          4.27684808528626,
          -16.225880820560327,
          -0.18104098796345874,
          0.006221315412243531,
          0.005124598731693994,
          0.0019944665854221538,
          5.515579548166202,
          -0.360362492953705,
          0.0017656913440098135,
          0.0022010966221226707,
          5.856523089124341,
          -1.1037648332960956,
          -0.003704038571985047,
          0.000878654293688562,
          2.2686398002962744,
          2.158341879317491,
          3.758067370337862,
          5.922396481555542,
          2.2076041036333716,
          6.28640830485721,
          -252.12522957400026,
          2.28121380955487,
          2.7634346850840545,
          0.6185718960337725,
          -6.764736811185211,
          -0.0008415535980730008,
          7.247847352853993,
          3.68650717632738,
          1.656527717285996,
          -8.243042539240497,
          4.997629127456965,
          0.0015008459894863121,
          -3.6925024089732155,
          7.92122628481593,
          -0.5258446910576073,
          4.701174236131466,
          0.8168031303759422,
          4.737255217070665,
          4.932941738570876,
          -3.3225080122133743,
          5.603940864441135,
          -2.8991966783389245,
          6.827131475326872,
          0.5700728896966601,
          3.773934117211276,
          8.431771557004371,
          -0.15054526391173204,
          0.006888646811258939,
          6.944017827698933,
          -0.731766007019214,
          8.39237787020872,
          -1.2349690066544365,
          -1.1010479253043544,
          -0.41417731085306686,
          6.364016339675953,
          0.34565465456826666,
          -1.2282401778095837,
          7.2865205216861035,
          3.2540523995813833,
          0.5187027462479945,
          2.748609780837748,
          0.5020091117048116,
          0.650299435147591,
          -0.21753541078171967,
          8.828714934679262,
          8.882448389939636,
          2.7863537310267343,
          -3.9374747120137905,
          0.0021362192226099764,
          3.41427550237926,
          7.843366171221463,
          -0.20406254055620782,
          0.0035432830993425177,
          9.189683865377665,
          2.5739117703381456,
          0.4502518644077559,
          2.1015194284998016,
          7.122336006017495,
          7.735650128231149,
          0.07893199233723992,
          7.618953006911657,
          1.7120625089758374,
          0.8108857748863686,
          0.5401190467984296,
          2.1844996579241283,
          3.924526860495975,
          -10.473536185936553,
          2.1276198486382913,
          3.059279719554262,
          2.4779073880032243,
          4.101579630703946,
          3.123336912895777,
          3.1507317729897797,
          3.872240311923024,
          3.7980463779570606,
          4.430820205271981,
          1.9584841813610794,
          2.466648182891991,
          1.1689998661862517,
          4.145285993246956,
          3.3758431412009493,
          3.7042743489750403,
          9.640388945536818,
          1.6155474481653003,
          2.110590415213082,
          1.4172392117118586,
          0.8529678704355967,
          7.905118023242932,
          0.2705419602091278,
          9.713962411668161,
          1.1108419163709706,
          0.948287244805085,
          8.858130357206575,
          2.956498091879354,
          9.421109128776502,
          -8.644667656405261,
          3.788575070205798,
          3.8736598992555096,
          10.000658265714135,
          7.787513508762848,
          1.8035164225293556,
          1.755176758844844,
          3.197499072421702,
          1.751136608026822,
          8.025853314738404,
          7.414313251801234,
          1.8005950793906942,
          5.586444296242225,
          8.173572541877677,
          2.320244161293383,
          10.254424242448444,
          9.634558153051145,
          -13.524176603079553,
          2.3845744278382477,
          0.9573706623312207,
          3.3844849307763516,
          -4.3616099626703955,
          6.55965068224334,
          2.9210511881277097,
          6.6662940099673875,
          8.443214159982501,
          1.3501929775125714,
          6.306436631847256,
          6.551080765945816,
          4.067541906873261,
          2.9209793276574434,
          5.2575311303644465,
          4.759983322655461,
          2.972359627517828,
          -0.7869764891960577,
          0.00788527990863308,
          0.00673566455315413,
          0.0007094881689544838,
          -7.165868805931366,
          -3.1967042273975372,
          3.5053991342421327,
          0.00441824653119381,
          0.0054375257562879935,
          7.241138354438826,
          3.7106967365911108,
          2.1932402841283816,
          1.7425494186818822,
          4.910428342249597,
          0.38756665459964684,
          -15.643058203859255,
          3.070765306900593,
          1.719301539233854,
          10.458224278439303,
          4.834830873276372,
          7.234982196551611,
          5.59652900735404,
          6.531359967755455,
          3.5707437352625693
         ],
         "yaxis": "y"
        }
       ],
       "layout": {
        "legend": {
         "tracegroupgap": 0
        },
        "margin": {
         "t": 60
        },
        "template": {
         "data": {
          "candlestick": [
           {
            "decreasing": {
             "line": {
              "color": "#000033"
             }
            },
            "increasing": {
             "line": {
              "color": "#000032"
             }
            },
            "type": "candlestick"
           }
          ],
          "contour": [
           {
            "colorscale": [
             [
              0,
              "#000011"
             ],
             [
              0.1111111111111111,
              "#000012"
             ],
             [
              0.2222222222222222,
              "#000013"
             ],
             [
              0.3333333333333333,
              "#000014"
             ],
             [
              0.4444444444444444,
              "#000015"
             ],
             [
              0.5555555555555556,
              "#000016"
             ],
             [
              0.6666666666666666,
              "#000017"
             ],
             [
              0.7777777777777778,
              "#000018"
             ],
             [
              0.8888888888888888,
              "#000019"
             ],
             [
              1,
              "#000020"
             ]
            ],
            "type": "contour"
           }
          ],
          "contourcarpet": [
           {
            "colorscale": [
             [
              0,
              "#000011"
             ],
             [
              0.1111111111111111,
              "#000012"
             ],
             [
              0.2222222222222222,
              "#000013"
             ],
             [
              0.3333333333333333,
              "#000014"
             ],
             [
              0.4444444444444444,
              "#000015"
             ],
             [
              0.5555555555555556,
              "#000016"
             ],
             [
              0.6666666666666666,
              "#000017"
             ],
             [
              0.7777777777777778,
              "#000018"
             ],
             [
              0.8888888888888888,
              "#000019"
             ],
             [
              1,
              "#000020"
             ]
            ],
            "type": "contourcarpet"
           }
          ],
          "heatmap": [
           {
            "colorscale": [
             [
              0,
              "#000011"
             ],
             [
              0.1111111111111111,
              "#000012"
             ],
             [
              0.2222222222222222,
              "#000013"
             ],
             [
              0.3333333333333333,
              "#000014"
             ],
             [
              0.4444444444444444,
              "#000015"
             ],
             [
              0.5555555555555556,
              "#000016"
             ],
             [
              0.6666666666666666,
              "#000017"
             ],
             [
              0.7777777777777778,
              "#000018"
             ],
             [
              0.8888888888888888,
              "#000019"
             ],
             [
              1,
              "#000020"
             ]
            ],
            "type": "heatmap"
           }
          ],
          "histogram2d": [
           {
            "colorscale": [
             [
              0,
              "#000011"
             ],
             [
              0.1111111111111111,
              "#000012"
             ],
             [
              0.2222222222222222,
              "#000013"
             ],
             [
              0.3333333333333333,
              "#000014"
             ],
             [
              0.4444444444444444,
              "#000015"
             ],
             [
              0.5555555555555556,
              "#000016"
             ],
             [
              0.6666666666666666,
              "#000017"
             ],
             [
              0.7777777777777778,
              "#000018"
             ],
             [
              0.8888888888888888,
              "#000019"
             ],
             [
              1,
              "#000020"
             ]
            ],
            "type": "histogram2d"
           }
          ],
          "icicle": [
           {
            "textfont": {
             "color": "white"
            },
            "type": "icicle"
           }
          ],
          "sankey": [
           {
            "textfont": {
             "color": "#000036"
            },
            "type": "sankey"
           }
          ],
          "scatter": [
           {
            "marker": {
             "line": {
              "width": 0
             }
            },
            "type": "scatter"
           }
          ],
          "table": [
           {
            "cells": {
             "fill": {
              "color": "#000038"
             },
             "font": {
              "color": "#000037"
             },
             "line": {
              "color": "#000039"
             }
            },
            "header": {
             "fill": {
              "color": "#000040"
             },
             "font": {
              "color": "#000036"
             },
             "line": {
              "color": "#000039"
             }
            },
            "type": "table"
           }
          ],
          "waterfall": [
           {
            "connector": {
             "line": {
              "color": "#000036",
              "width": 2
             }
            },
            "decreasing": {
             "marker": {
              "color": "#000033"
             }
            },
            "increasing": {
             "marker": {
              "color": "#000032"
             }
            },
            "totals": {
             "marker": {
              "color": "#000034"
             }
            },
            "type": "waterfall"
           }
          ]
         },
         "layout": {
          "coloraxis": {
           "colorscale": [
            [
             0,
             "#000011"
            ],
            [
             0.1111111111111111,
             "#000012"
            ],
            [
             0.2222222222222222,
             "#000013"
            ],
            [
             0.3333333333333333,
             "#000014"
            ],
            [
             0.4444444444444444,
             "#000015"
            ],
            [
             0.5555555555555556,
             "#000016"
            ],
            [
             0.6666666666666666,
             "#000017"
            ],
            [
             0.7777777777777778,
             "#000018"
            ],
            [
             0.8888888888888888,
             "#000019"
            ],
            [
             1,
             "#000020"
            ]
           ]
          },
          "colorscale": {
           "diverging": [
            [
             0,
             "#000021"
            ],
            [
             0.1,
             "#000022"
            ],
            [
             0.2,
             "#000023"
            ],
            [
             0.3,
             "#000024"
            ],
            [
             0.4,
             "#000025"
            ],
            [
             0.5,
             "#000026"
            ],
            [
             0.6,
             "#000027"
            ],
            [
             0.7,
             "#000028"
            ],
            [
             0.8,
             "#000029"
            ],
            [
             0.9,
             "#000030"
            ],
            [
             1,
             "#000031"
            ]
           ],
           "sequential": [
            [
             0,
             "#000011"
            ],
            [
             0.1111111111111111,
             "#000012"
            ],
            [
             0.2222222222222222,
             "#000013"
            ],
            [
             0.3333333333333333,
             "#000014"
            ],
            [
             0.4444444444444444,
             "#000015"
            ],
            [
             0.5555555555555556,
             "#000016"
            ],
            [
             0.6666666666666666,
             "#000017"
            ],
            [
             0.7777777777777778,
             "#000018"
            ],
            [
             0.8888888888888888,
             "#000019"
            ],
            [
             1,
             "#000020"
            ]
           ],
           "sequentialminus": [
            [
             0,
             "#000011"
            ],
            [
             0.1111111111111111,
             "#000012"
            ],
            [
             0.2222222222222222,
             "#000013"
            ],
            [
             0.3333333333333333,
             "#000014"
            ],
            [
             0.4444444444444444,
             "#000015"
            ],
            [
             0.5555555555555556,
             "#000016"
            ],
            [
             0.6666666666666666,
             "#000017"
            ],
            [
             0.7777777777777778,
             "#000018"
            ],
            [
             0.8888888888888888,
             "#000019"
            ],
            [
             1,
             "#000020"
            ]
           ]
          },
          "colorway": [
           "#000001",
           "#000002",
           "#000003",
           "#000004",
           "#000005",
           "#000006",
           "#000007",
           "#000008",
           "#000009",
           "#000010"
          ]
         }
        },
        "xaxis": {
         "anchor": "y",
         "domain": [
          0,
          1
         ],
         "title": {
          "text": "spot_slippage_bps"
         }
        },
        "yaxis": {
         "anchor": "x",
         "domain": [
          0,
          1
         ],
         "title": {
          "text": "safe_slippage_bps"
         }
        }
       }
      }
     },
     "metadata": {},
     "output_type": "display_data"
    }
   ],
   "source": [
    "px.scatter(rebalance_df, x=\"spot_slippage_bps\", y=\"safe_slippage_bps\")"
   ]
  },
  {
   "cell_type": "code",
   "execution_count": 21,
   "metadata": {},
   "outputs": [
    {
     "data": {
      "application/vnd.plotly.v1+json": {
       "config": {
        "plotlyServerURL": "https://plot.ly"
       },
       "data": [
        {
         "alignmentgroup": "True",
         "bingroup": "x",
         "hovertemplate": "variable=0<br>value=%{x}<br>count=%{y}<extra></extra>",
         "legendgroup": "0",
         "marker": {
          "color": "#000001",
          "pattern": {
           "shape": ""
          }
         },
         "name": "0",
         "offsetgroup": "0",
         "orientation": "v",
         "showlegend": true,
         "type": "histogram",
         "x": [
          5.110548150858889,
          1.258346484293153,
          -1.282190159945971,
          -0.9045736298096607,
          -2.1672350267865395,
          -0.7866479674224273,
          -4.006635043758545,
          -1.272389525242096,
          -1.137165480036546,
          -1.6510551626989018,
          -2.1570942582698187,
          1.937893408725092,
          -2.107253672638735,
          1.876956825790546,
          1.3911803477568319,
          -2.2066904757305226,
          1.4798229572110966,
          -2.1075246199150577,
          1.479819416607885,
          0.009939137384450625,
          -0.7845598566811534,
          -0.06958050639562607,
          -0.36780831146364346,
          -0.35785170782861897,
          -0.15907236509762424,
          -2.28128016851726,
          -0.208702067044797,
          -2.8109612651588396,
          -3.1887592380804004,
          -3.1704730655794395,
          -2.929659139952855,
          -0.431869971578708,
          -1.8577259042893814,
          -3.1888744808229,
          -2.3009140089134843,
          -2.300921533902725,
          -1.9763517040080236,
          -0.6357609591332718,
          -0.6361298417905346,
          -0.6360633554771388,
          -1.9859065817280985,
          0.14909661264973695,
          -0.31425599684395517,
          -0.20623241989912156,
          -2.103087171174897,
          0.009932314501687856,
          0.8740018261130897,
          -0.029462146603812772,
          0.8441613630333444,
          0.8645220435767744,
          -0.7452757756277488,
          -1.886648468653827,
          -0.10804094917839402,
          -1.5330417636646114,
          0,
          -0.048424783361426194,
          -0.019369829317405718,
          -0.02905384910991038,
          -0.009684006278046997,
          -4.7552957045554605,
          -0.5209576825013891,
          -4.177526457187009,
          -5.032846119658586,
          -0.7959281695354186,
          -0.0387296661055494,
          -4.107258438350159,
          -4.107485798300089,
          -0.40283255099223503,
          -0.01936476861980463,
          -0.1768463621963754,
          -0.009682066888005103,
          -0.23579454342370543,
          -0.009681710075043704,
          -0.33404383252485914,
          -0.1092869102706544,
          -0.2653712132845394,
          -0.09935500789708773,
          0,
          -0.7948079803330919,
          0,
          -0.08934549722097351,
          -0.009681971269387413,
          -0.019364134796226784,
          -0.6055419004102669,
          -0.6257317944558111,
          -0.7346252743319832,
          -0.7747123967788594,
          -0.01936298671012815,
          -0.08940635032568589,
          -0.06948811331541549,
          -0.00968111126147475,
          -0.7847007689074647,
          -0.7051662412438707,
          -0.7047414416893538,
          -0.7146567905515742,
          -0.7146714781391585,
          -0.6948606830148494,
          -0.3376720926258713,
          -0.7047354056693917,
          -0.3275747457577385,
          -0.6951989805073633,
          -0.7146549401763886,
          -1.2507589350221675,
          -1.0925776998376628,
          -1.9358056878380014,
          -1.9567026821741216,
          -1.2508044704562056,
          -1.2513768198996937,
          -1.0819335832396364,
          -1.2209395992852619,
          -2.2540913967487826,
          -0.704693107403985,
          -0.009679346057096527,
          -0.7146336165438125,
          -1.6493782904948575,
          -1.6295459423827858,
          -0.7052639025098237,
          -0.009941699887963118,
          -1.1811132664576043,
          -1.1910487008863129,
          -1.2307692117387585,
          -1.2009746107039971,
          0.009679035124524171,
          -1.1811580974938503,
          -0.45658326752988376,
          -2.0168250225406763,
          -1.2415832077056015,
          -0.009677720283313374,
          -2.3249173519046358,
          -1.5593474864067198,
          -0.9528470706291658,
          -0.27520428369947103,
          -2.840569527336629,
          0.26239287597243666,
          0.25353789078653843,
          0.26227560899103963,
          0.2622769128670921,
          0.26227273760479886,
          0.2622635463485494,
          0.2535350518615447,
          -0.20981690925662377,
          -0.2098203577694946,
          -0.06773693261900915,
          -0.20989368163864142,
          -0.20980335516971493,
          -0.20980714186443983,
          -0.20988304933533075,
          -0.20988084758515457,
          -0.20979593935189822,
          -0.2097929096047304,
          -0.14514661098946835,
          0.06956085066194628,
          0.0993721611308871,
          0.09939144560834468,
          0.1491265726734854,
          -3.3366778057297495,
          0.029823604195068576,
          0,
          1.8882900263162101,
          0.891771946243259,
          0.891792141712971,
          0.8829157280988214,
          -0.11365277260386275,
          -0.1136658063690913,
          0.8393655815709906,
          6.8332503361707175,
          5.834795970982557,
          3.84534347916914,
          -3.625195675515916,
          1.1974149934604528,
          0.20103629875229667,
          -3.6999118796723494,
          -3.4384760823436316,
          -0.39571677430843977,
          -1.7232755727736122,
          -0.2748024013669541,
          -0.1766583934833763,
          -0.2749488031336417,
          -0.47133232816122483,
          0.7493948548804289,
          1.280936979883121,
          2.358186546630873,
          -4.192605978209645,
          -3.1117664077380622,
          -0.8937410450723468,
          -0.8346182041848635,
          0.8349691918987601,
          0.20872124997065988,
          0.11928636660973674,
          0.09940351384846019,
          0.17886187778890417,
          0.3578554221113759,
          0.5827179852503206,
          0.9976460775767471,
          0.20874434725886282,
          0.8752925371430891,
          -0.7779357052831739,
          0.43387572769042926,
          0.13916023452131387,
          -4.2870658039798055,
          0.4771314882287614,
          -0.34530093143008944,
          -1.0377723072388934,
          -0.6888734906238447,
          -0.7462405007246278,
          -0.3927723888459726,
          0.45726577941015467,
          0.24850900513012908,
          -3.419305453155771,
          -3.875736712747487,
          1.175497013603498,
          -3.952213274869039,
          -3.7631805273696317,
          -3.889444375165798,
          -3.7140548549633587,
          -0.0008902534987234034,
          1.7070377573642461,
          -2.1058407344231442,
          -2.4287922656415857,
          -0.0030898934985221895,
          0.9320870565774041,
          1.6986495960360009,
          0.6446101816566415,
          0.12195219538826162,
          0.003402831357368923,
          0.010067531680842335,
          0.008450495219990112,
          -0.002030282425774125,
          -0.0002727067505645898,
          -0.002540278144721257,
          -0.1829174053410123,
          -3.116881236853435,
          0.0397667982798926,
          -0.029442983620471708,
          1.491391459610039,
          -4.075173764057505,
          1.0539158850645947,
          0.7838842359744245,
          2.099058876429031,
          -0.10251218083602212,
          1.6104775374662816,
          -0.19392981620009359,
          0.6709606974163658,
          -0.5404890423609793,
          -0.26832609974013,
          0.00020780058765446086,
          -0.007026194251134498,
          0.11322028888389468,
          0.08947405383942675,
          0.049708356078555394,
          0.8499550405851299,
          -0.10495286290943451,
          -0.06913825232522308,
          0.21152208161997255,
          -0.07813324374004083,
          -0.7390760187221153,
          0.32604494121188976,
          -0.23860458812796037,
          -0.01077929284881396,
          -0.004597136456418444,
          0.360707120588037,
          0.6987765846454788,
          -0.31320574263032763,
          -3.6778748336898417,
          0.7681283048151721,
          -0.896955354616854,
          -4.571927730862038,
          -0.009659913003869036,
          -1.0718070920385585,
          -4.626989260469603,
          0.9043531116897982,
          1.003487539156509,
          -0.02947275832411833,
          0.25259771651882845,
          0.03929387088282965,
          0.2525819688749138,
          1.3495909952971639,
          -0.7244108464176205,
          -0.34258435614390503,
          -0.019316205818730836,
          1.297299508203946,
          1.3321007295540381,
          -0.009659419628899713,
          -0.6548572431899521,
          0.04957669418003796,
          -0.5258611931195071,
          -0.5060387121097446,
          -1.535833735164821,
          -0.5642978583778708,
          -0.13888822170659243,
          -0.15874744978081456,
          -1.5913999107874233,
          -1.5899773071661474,
          -0.09921065197865309,
          0.009921028129632248,
          -0.08928707823917437,
          -0.11904696351848543,
          -0.19841780196293257,
          1.3982509740286222,
          1.8444173068226872,
          1.4287462263569952,
          0.47897814204345535,
          -0.07834682997828088,
          -0.13885055980347394,
          -0.11896474947231273,
          2.4722835283640747,
          1.5494895555627148,
          -0.029740012747359046,
          -0.08926636380581954,
          -0.0495984809667292,
          -0.009297983475064608,
          0,
          -0.04955811690792444,
          -0.019839086021679248,
          -0.00991170964178778,
          0.01983541314465187,
          0.01983889336614597,
          0.019838997600215236,
          0.029754812902347716,
          1.358684028224968,
          -3.1526908947026975,
          3.4821633739229716,
          2.9460523407138783,
          3.2637419438555293,
          0.9618809101086119,
          5.248458565182341,
          0.3470866431765489,
          0.9681131703809038,
          1.141960034120265,
          1.0787497890560864,
          0.1190097817314697,
          0.019835509862916822,
          0.03967581466440517,
          2.0984396375597885,
          1.7330108681942298,
          0.9223553384270904,
          1.6087163528242137,
          -1.2566511856050475,
          -1.327182051187045,
          -1.2181897034514688,
          -1.1476623984155305,
          0.4261160725498927,
          -0.9406822334485815,
          1.2847780023684408,
          0.32726147150762186,
          0.1983515760553668,
          0.02973471531441163,
          0.28759566530203484,
          0.495495610275837,
          -0.2264667254042383,
          0.6543853033307827,
          0.6742054099441366,
          0.5648131795501943,
          0.3865570571111414,
          0.28759317271968543,
          0.21818232741279542,
          0.009917177483164341,
          0.15868299980606282,
          0.26759066405897247,
          0.2378587701927506,
          0.0991705803617442,
          3.320919661266849,
          0.13874315881444765,
          0.09916286873271263,
          1.933586708583027,
          0.505566267482024,
          0.609449448429503,
          0.7672394671345095,
          0.2314646781029699,
          0.038046963453717275,
          0.6180002177784907,
          -0.6128239186600135,
          0.028969790986155708,
          -2.052573811293332,
          0,
          0.06759021726403658,
          -2.7399758299351165,
          -2.9461239713939964,
          0.017791263530137158,
          -0.29684738802598964,
          1.1285119684540454,
          0.2971661750570975,
          0.29419742130466275,
          2.2438967679430917,
          0.7131105064791865,
          0.2782824607661839,
          0.8348435293458731,
          0.02619734078429481,
          3.279337348577297,
          4.45167143895426,
          2.9824388052365975,
          1.217254098232657,
          8.203363906988178,
          4.430576143127734,
          3.7918354668050016,
          4.659689807160466,
          2.544097484741596,
          3.0543973782959775,
          -2.420851449719132,
          -2.789549243940012,
          -0.1622041298918122,
          0.9378039338255046,
          -0.15375519686951122,
          -0.046639621188924174,
          -0.3275463351207559,
          -0.4999942189273927,
          -0.19307885598163432
         ],
         "xaxis": "x",
         "yaxis": "y"
        }
       ],
       "layout": {
        "barmode": "relative",
        "legend": {
         "title": {
          "text": "variable"
         },
         "tracegroupgap": 0
        },
        "margin": {
         "t": 60
        },
        "template": {
         "data": {
          "candlestick": [
           {
            "decreasing": {
             "line": {
              "color": "#000033"
             }
            },
            "increasing": {
             "line": {
              "color": "#000032"
             }
            },
            "type": "candlestick"
           }
          ],
          "contour": [
           {
            "colorscale": [
             [
              0,
              "#000011"
             ],
             [
              0.1111111111111111,
              "#000012"
             ],
             [
              0.2222222222222222,
              "#000013"
             ],
             [
              0.3333333333333333,
              "#000014"
             ],
             [
              0.4444444444444444,
              "#000015"
             ],
             [
              0.5555555555555556,
              "#000016"
             ],
             [
              0.6666666666666666,
              "#000017"
             ],
             [
              0.7777777777777778,
              "#000018"
             ],
             [
              0.8888888888888888,
              "#000019"
             ],
             [
              1,
              "#000020"
             ]
            ],
            "type": "contour"
           }
          ],
          "contourcarpet": [
           {
            "colorscale": [
             [
              0,
              "#000011"
             ],
             [
              0.1111111111111111,
              "#000012"
             ],
             [
              0.2222222222222222,
              "#000013"
             ],
             [
              0.3333333333333333,
              "#000014"
             ],
             [
              0.4444444444444444,
              "#000015"
             ],
             [
              0.5555555555555556,
              "#000016"
             ],
             [
              0.6666666666666666,
              "#000017"
             ],
             [
              0.7777777777777778,
              "#000018"
             ],
             [
              0.8888888888888888,
              "#000019"
             ],
             [
              1,
              "#000020"
             ]
            ],
            "type": "contourcarpet"
           }
          ],
          "heatmap": [
           {
            "colorscale": [
             [
              0,
              "#000011"
             ],
             [
              0.1111111111111111,
              "#000012"
             ],
             [
              0.2222222222222222,
              "#000013"
             ],
             [
              0.3333333333333333,
              "#000014"
             ],
             [
              0.4444444444444444,
              "#000015"
             ],
             [
              0.5555555555555556,
              "#000016"
             ],
             [
              0.6666666666666666,
              "#000017"
             ],
             [
              0.7777777777777778,
              "#000018"
             ],
             [
              0.8888888888888888,
              "#000019"
             ],
             [
              1,
              "#000020"
             ]
            ],
            "type": "heatmap"
           }
          ],
          "histogram2d": [
           {
            "colorscale": [
             [
              0,
              "#000011"
             ],
             [
              0.1111111111111111,
              "#000012"
             ],
             [
              0.2222222222222222,
              "#000013"
             ],
             [
              0.3333333333333333,
              "#000014"
             ],
             [
              0.4444444444444444,
              "#000015"
             ],
             [
              0.5555555555555556,
              "#000016"
             ],
             [
              0.6666666666666666,
              "#000017"
             ],
             [
              0.7777777777777778,
              "#000018"
             ],
             [
              0.8888888888888888,
              "#000019"
             ],
             [
              1,
              "#000020"
             ]
            ],
            "type": "histogram2d"
           }
          ],
          "icicle": [
           {
            "textfont": {
             "color": "white"
            },
            "type": "icicle"
           }
          ],
          "sankey": [
           {
            "textfont": {
             "color": "#000036"
            },
            "type": "sankey"
           }
          ],
          "scatter": [
           {
            "marker": {
             "line": {
              "width": 0
             }
            },
            "type": "scatter"
           }
          ],
          "table": [
           {
            "cells": {
             "fill": {
              "color": "#000038"
             },
             "font": {
              "color": "#000037"
             },
             "line": {
              "color": "#000039"
             }
            },
            "header": {
             "fill": {
              "color": "#000040"
             },
             "font": {
              "color": "#000036"
             },
             "line": {
              "color": "#000039"
             }
            },
            "type": "table"
           }
          ],
          "waterfall": [
           {
            "connector": {
             "line": {
              "color": "#000036",
              "width": 2
             }
            },
            "decreasing": {
             "marker": {
              "color": "#000033"
             }
            },
            "increasing": {
             "marker": {
              "color": "#000032"
             }
            },
            "totals": {
             "marker": {
              "color": "#000034"
             }
            },
            "type": "waterfall"
           }
          ]
         },
         "layout": {
          "coloraxis": {
           "colorscale": [
            [
             0,
             "#000011"
            ],
            [
             0.1111111111111111,
             "#000012"
            ],
            [
             0.2222222222222222,
             "#000013"
            ],
            [
             0.3333333333333333,
             "#000014"
            ],
            [
             0.4444444444444444,
             "#000015"
            ],
            [
             0.5555555555555556,
             "#000016"
            ],
            [
             0.6666666666666666,
             "#000017"
            ],
            [
             0.7777777777777778,
             "#000018"
            ],
            [
             0.8888888888888888,
             "#000019"
            ],
            [
             1,
             "#000020"
            ]
           ]
          },
          "colorscale": {
           "diverging": [
            [
             0,
             "#000021"
            ],
            [
             0.1,
             "#000022"
            ],
            [
             0.2,
             "#000023"
            ],
            [
             0.3,
             "#000024"
            ],
            [
             0.4,
             "#000025"
            ],
            [
             0.5,
             "#000026"
            ],
            [
             0.6,
             "#000027"
            ],
            [
             0.7,
             "#000028"
            ],
            [
             0.8,
             "#000029"
            ],
            [
             0.9,
             "#000030"
            ],
            [
             1,
             "#000031"
            ]
           ],
           "sequential": [
            [
             0,
             "#000011"
            ],
            [
             0.1111111111111111,
             "#000012"
            ],
            [
             0.2222222222222222,
             "#000013"
            ],
            [
             0.3333333333333333,
             "#000014"
            ],
            [
             0.4444444444444444,
             "#000015"
            ],
            [
             0.5555555555555556,
             "#000016"
            ],
            [
             0.6666666666666666,
             "#000017"
            ],
            [
             0.7777777777777778,
             "#000018"
            ],
            [
             0.8888888888888888,
             "#000019"
            ],
            [
             1,
             "#000020"
            ]
           ],
           "sequentialminus": [
            [
             0,
             "#000011"
            ],
            [
             0.1111111111111111,
             "#000012"
            ],
            [
             0.2222222222222222,
             "#000013"
            ],
            [
             0.3333333333333333,
             "#000014"
            ],
            [
             0.4444444444444444,
             "#000015"
            ],
            [
             0.5555555555555556,
             "#000016"
            ],
            [
             0.6666666666666666,
             "#000017"
            ],
            [
             0.7777777777777778,
             "#000018"
            ],
            [
             0.8888888888888888,
             "#000019"
            ],
            [
             1,
             "#000020"
            ]
           ]
          },
          "colorway": [
           "#000001",
           "#000002",
           "#000003",
           "#000004",
           "#000005",
           "#000006",
           "#000007",
           "#000008",
           "#000009",
           "#000010"
          ]
         }
        },
        "xaxis": {
         "anchor": "y",
         "domain": [
          0,
          1
         ],
         "title": {
          "text": "value"
         }
        },
        "yaxis": {
         "anchor": "x",
         "domain": [
          0,
          1
         ],
         "title": {
          "text": "count"
         }
        }
       }
      }
     },
     "metadata": {},
     "output_type": "display_data"
    }
   ],
   "source": [
    "px.histogram(rebalance_df[\"safe_slippage_bps\"] - rebalance_df[\"spot_slippage_bps\"])"
   ]
  },
  {
   "cell_type": "code",
   "execution_count": 22,
   "metadata": {},
   "outputs": [
    {
     "data": {
      "application/vnd.microsoft.datawrangler.viewer.v0+json": {
       "columns": [
        {
         "name": "index",
         "rawType": "object",
         "type": "string"
        },
        {
         "name": "403",
         "rawType": "object",
         "type": "unknown"
        },
        {
         "name": "404",
         "rawType": "object",
         "type": "unknown"
        },
        {
         "name": "405",
         "rawType": "object",
         "type": "unknown"
        },
        {
         "name": "406",
         "rawType": "object",
         "type": "unknown"
        }
       ],
       "ref": "a72dc2fc-d94e-48aa-9f89-e555b4b3e487",
       "rows": [
        [
         "tx_hash",
         "0xa48c0d19f6e7b4a41c7557a957a6b748075491d5eba08112bf010708b43da7bf",
         "0x3b5ab1bad915b3b34caaece1ebe33c4d86220ee4412e5d9c0503ed6a85c358f1",
         "0x2403575c107f3bc9d59b77466f360f79c0e7405127a1200a96c72bff84947eaf",
         "0x9110705aa3f081a6eafb0a2bdd50174cf53ea10ac59365b3dcc07cbe709a5999"
        ],
        [
         "autopool_vault_address",
         "0xa7569A44f348d3D70d8ad5889e50F78E33d80D35",
         "0xa7569A44f348d3D70d8ad5889e50F78E33d80D35",
         "0xa7569A44f348d3D70d8ad5889e50F78E33d80D35",
         "0xa7569A44f348d3D70d8ad5889e50F78E33d80D35"
        ],
        [
         "chain_id",
         "1",
         "1",
         "1",
         "1"
        ],
        [
         "rebalance_file_path",
         "rebalance_plan_1748632467_0xa7569A44f348d3D70d8ad5889e50F78E33d80D35.json",
         "rebalance_plan_1748636368_0xa7569A44f348d3D70d8ad5889e50F78E33d80D35.json",
         "rebalance_plan_1748641689_0xa7569A44f348d3D70d8ad5889e50F78E33d80D35.json",
         "rebalance_plan_1748648141_0xa7569A44f348d3D70d8ad5889e50F78E33d80D35.json"
        ],
        [
         "destination_out",
         "0xb949C40F18fB52747d96850696c954718168fde3",
         "0xb949C40F18fB52747d96850696c954718168fde3",
         "0xb949C40F18fB52747d96850696c954718168fde3",
         "0xb949C40F18fB52747d96850696c954718168fde3"
        ],
        [
         "destination_in",
         "0x3Ee3F7A0B244004B0678EBa98bA091eC101513Ee",
         "0x3Ee3F7A0B244004B0678EBa98bA091eC101513Ee",
         "0x3Ee3F7A0B244004B0678EBa98bA091eC101513Ee",
         "0x3Ee3F7A0B244004B0678EBa98bA091eC101513Ee"
        ],
        [
         "quantity_out",
         "297218.62807844195",
         "198173.04271917194",
         "148619.4737087197",
         "148616.67597997835"
        ],
        [
         "quantity_in",
         "289200.547508792",
         "192828.43794561914",
         "144605.57680611865",
         "144609.42412446387"
        ],
        [
         "safe_value_out",
         "300000.8916558842",
         "200000.3963460854",
         "150000.59447789483",
         "149997.7707498603"
        ],
        [
         "safe_value_in",
         "299783.8415448762",
         "199888.4655441221",
         "149902.6236901036",
         "149944.21038983946"
        ],
        [
         "spot_value_in",
         "299780.66033885366",
         "199881.716548794",
         "149894.38117222567",
         "149941.46281078111"
        ],
        [
         "spot_value_out",
         "299999.1083441158",
         "200000.1981730427",
         "149999.8513805263",
         "149997.91936653625"
        ],
        [
         "swap_offset_period",
         null,
         null,
         null,
         null
        ],
        [
         "block",
         "22597581",
         "22597905",
         "22598346",
         "22598878"
        ],
        [
         "datetime",
         "2025-05-30 19:17:11+00:00",
         "2025-05-30 20:22:23+00:00",
         "2025-05-30 21:50:59+00:00",
         "2025-05-30 23:37:59+00:00"
        ],
        [
         "destination_in_symbol",
         "SkySaver",
         "SkySaver",
         "SkySaver",
         "SkySaver"
        ],
        [
         "destination_out_symbol",
         "frxsUSDS",
         "frxsUSDS",
         "frxsUSDS",
         "frxsUSDS"
        ],
        [
         "move_name",
         "frxsUSDS -> SkySaver",
         "frxsUSDS -> SkySaver",
         "frxsUSDS -> SkySaver",
         "frxsUSDS -> SkySaver"
        ],
        [
         "destination_in_tokens",
         "('scrvUSD', 'sUSDS')",
         "('scrvUSD', 'sUSDS')",
         "('scrvUSD', 'sUSDS')",
         "('scrvUSD', 'sUSDS')"
        ],
        [
         "destination_out_tokens",
         "('frxUSD', 'sUSDS')",
         "('frxUSD', 'sUSDS')",
         "('frxUSD', 'sUSDS')",
         "('frxUSD', 'sUSDS')"
        ],
        [
         "tokens_move_name",
         "('frxUSD', 'sUSDS') -> ('scrvUSD', 'sUSDS')",
         "('frxUSD', 'sUSDS') -> ('scrvUSD', 'sUSDS')",
         "('frxUSD', 'sUSDS') -> ('scrvUSD', 'sUSDS')",
         "('frxUSD', 'sUSDS') -> ('scrvUSD', 'sUSDS')"
        ],
        [
         "spot_swap_cost",
         "218.44800526212202",
         "118.48162424869952",
         "105.47020830062684",
         "56.45655575513956"
        ],
        [
         "spot_slippage_bps",
         "7.281621817740535",
         "5.924075342474796",
         "7.031354186682847",
         "3.7638225912442036"
        ],
        [
         "safe_swap_cost",
         "217.0501110079931",
         "111.93080196331721",
         "97.97078779124422",
         "53.56036002084147"
        ],
        [
         "safe_slippage_bps",
         "7.234982196551611",
         "5.59652900735404",
         "6.531359967755455",
         "3.5707437352625693"
        ]
       ],
       "shape": {
        "columns": 4,
        "rows": 25
       }
      },
      "text/html": [
       "<div>\n",
       "<style scoped>\n",
       "    .dataframe tbody tr th:only-of-type {\n",
       "        vertical-align: middle;\n",
       "    }\n",
       "\n",
       "    .dataframe tbody tr th {\n",
       "        vertical-align: top;\n",
       "    }\n",
       "\n",
       "    .dataframe thead th {\n",
       "        text-align: right;\n",
       "    }\n",
       "</style>\n",
       "<table border=\"1\" class=\"dataframe\">\n",
       "  <thead>\n",
       "    <tr style=\"text-align: right;\">\n",
       "      <th></th>\n",
       "      <th>403</th>\n",
       "      <th>404</th>\n",
       "      <th>405</th>\n",
       "      <th>406</th>\n",
       "    </tr>\n",
       "  </thead>\n",
       "  <tbody>\n",
       "    <tr>\n",
       "      <th>tx_hash</th>\n",
       "      <td>0xa48c0d19f6e7b4a41c7557a957a6b748075491d5eba0...</td>\n",
       "      <td>0x3b5ab1bad915b3b34caaece1ebe33c4d86220ee4412e...</td>\n",
       "      <td>0x2403575c107f3bc9d59b77466f360f79c0e7405127a1...</td>\n",
       "      <td>0x9110705aa3f081a6eafb0a2bdd50174cf53ea10ac593...</td>\n",
       "    </tr>\n",
       "    <tr>\n",
       "      <th>autopool_vault_address</th>\n",
       "      <td>0xa7569A44f348d3D70d8ad5889e50F78E33d80D35</td>\n",
       "      <td>0xa7569A44f348d3D70d8ad5889e50F78E33d80D35</td>\n",
       "      <td>0xa7569A44f348d3D70d8ad5889e50F78E33d80D35</td>\n",
       "      <td>0xa7569A44f348d3D70d8ad5889e50F78E33d80D35</td>\n",
       "    </tr>\n",
       "    <tr>\n",
       "      <th>chain_id</th>\n",
       "      <td>1</td>\n",
       "      <td>1</td>\n",
       "      <td>1</td>\n",
       "      <td>1</td>\n",
       "    </tr>\n",
       "    <tr>\n",
       "      <th>rebalance_file_path</th>\n",
       "      <td>rebalance_plan_1748632467_0xa7569A44f348d3D70d...</td>\n",
       "      <td>rebalance_plan_1748636368_0xa7569A44f348d3D70d...</td>\n",
       "      <td>rebalance_plan_1748641689_0xa7569A44f348d3D70d...</td>\n",
       "      <td>rebalance_plan_1748648141_0xa7569A44f348d3D70d...</td>\n",
       "    </tr>\n",
       "    <tr>\n",
       "      <th>destination_out</th>\n",
       "      <td>0xb949C40F18fB52747d96850696c954718168fde3</td>\n",
       "      <td>0xb949C40F18fB52747d96850696c954718168fde3</td>\n",
       "      <td>0xb949C40F18fB52747d96850696c954718168fde3</td>\n",
       "      <td>0xb949C40F18fB52747d96850696c954718168fde3</td>\n",
       "    </tr>\n",
       "    <tr>\n",
       "      <th>destination_in</th>\n",
       "      <td>0x3Ee3F7A0B244004B0678EBa98bA091eC101513Ee</td>\n",
       "      <td>0x3Ee3F7A0B244004B0678EBa98bA091eC101513Ee</td>\n",
       "      <td>0x3Ee3F7A0B244004B0678EBa98bA091eC101513Ee</td>\n",
       "      <td>0x3Ee3F7A0B244004B0678EBa98bA091eC101513Ee</td>\n",
       "    </tr>\n",
       "    <tr>\n",
       "      <th>quantity_out</th>\n",
       "      <td>297218.628078</td>\n",
       "      <td>198173.042719</td>\n",
       "      <td>148619.473709</td>\n",
       "      <td>148616.67598</td>\n",
       "    </tr>\n",
       "    <tr>\n",
       "      <th>quantity_in</th>\n",
       "      <td>289200.547509</td>\n",
       "      <td>192828.437946</td>\n",
       "      <td>144605.576806</td>\n",
       "      <td>144609.424124</td>\n",
       "    </tr>\n",
       "    <tr>\n",
       "      <th>safe_value_out</th>\n",
       "      <td>300000.891656</td>\n",
       "      <td>200000.396346</td>\n",
       "      <td>150000.594478</td>\n",
       "      <td>149997.77075</td>\n",
       "    </tr>\n",
       "    <tr>\n",
       "      <th>safe_value_in</th>\n",
       "      <td>299783.841545</td>\n",
       "      <td>199888.465544</td>\n",
       "      <td>149902.62369</td>\n",
       "      <td>149944.21039</td>\n",
       "    </tr>\n",
       "    <tr>\n",
       "      <th>spot_value_in</th>\n",
       "      <td>299780.660339</td>\n",
       "      <td>199881.716549</td>\n",
       "      <td>149894.381172</td>\n",
       "      <td>149941.462811</td>\n",
       "    </tr>\n",
       "    <tr>\n",
       "      <th>spot_value_out</th>\n",
       "      <td>299999.108344</td>\n",
       "      <td>200000.198173</td>\n",
       "      <td>149999.851381</td>\n",
       "      <td>149997.919367</td>\n",
       "    </tr>\n",
       "    <tr>\n",
       "      <th>swap_offset_period</th>\n",
       "      <td>None</td>\n",
       "      <td>None</td>\n",
       "      <td>None</td>\n",
       "      <td>None</td>\n",
       "    </tr>\n",
       "    <tr>\n",
       "      <th>block</th>\n",
       "      <td>22597581</td>\n",
       "      <td>22597905</td>\n",
       "      <td>22598346</td>\n",
       "      <td>22598878</td>\n",
       "    </tr>\n",
       "    <tr>\n",
       "      <th>datetime</th>\n",
       "      <td>2025-05-30 19:17:11+00:00</td>\n",
       "      <td>2025-05-30 20:22:23+00:00</td>\n",
       "      <td>2025-05-30 21:50:59+00:00</td>\n",
       "      <td>2025-05-30 23:37:59+00:00</td>\n",
       "    </tr>\n",
       "    <tr>\n",
       "      <th>destination_in_symbol</th>\n",
       "      <td>SkySaver</td>\n",
       "      <td>SkySaver</td>\n",
       "      <td>SkySaver</td>\n",
       "      <td>SkySaver</td>\n",
       "    </tr>\n",
       "    <tr>\n",
       "      <th>destination_out_symbol</th>\n",
       "      <td>frxsUSDS</td>\n",
       "      <td>frxsUSDS</td>\n",
       "      <td>frxsUSDS</td>\n",
       "      <td>frxsUSDS</td>\n",
       "    </tr>\n",
       "    <tr>\n",
       "      <th>move_name</th>\n",
       "      <td>frxsUSDS -&gt; SkySaver</td>\n",
       "      <td>frxsUSDS -&gt; SkySaver</td>\n",
       "      <td>frxsUSDS -&gt; SkySaver</td>\n",
       "      <td>frxsUSDS -&gt; SkySaver</td>\n",
       "    </tr>\n",
       "    <tr>\n",
       "      <th>destination_in_tokens</th>\n",
       "      <td>('scrvUSD', 'sUSDS')</td>\n",
       "      <td>('scrvUSD', 'sUSDS')</td>\n",
       "      <td>('scrvUSD', 'sUSDS')</td>\n",
       "      <td>('scrvUSD', 'sUSDS')</td>\n",
       "    </tr>\n",
       "    <tr>\n",
       "      <th>destination_out_tokens</th>\n",
       "      <td>('frxUSD', 'sUSDS')</td>\n",
       "      <td>('frxUSD', 'sUSDS')</td>\n",
       "      <td>('frxUSD', 'sUSDS')</td>\n",
       "      <td>('frxUSD', 'sUSDS')</td>\n",
       "    </tr>\n",
       "    <tr>\n",
       "      <th>tokens_move_name</th>\n",
       "      <td>('frxUSD', 'sUSDS') -&gt; ('scrvUSD', 'sUSDS')</td>\n",
       "      <td>('frxUSD', 'sUSDS') -&gt; ('scrvUSD', 'sUSDS')</td>\n",
       "      <td>('frxUSD', 'sUSDS') -&gt; ('scrvUSD', 'sUSDS')</td>\n",
       "      <td>('frxUSD', 'sUSDS') -&gt; ('scrvUSD', 'sUSDS')</td>\n",
       "    </tr>\n",
       "    <tr>\n",
       "      <th>spot_swap_cost</th>\n",
       "      <td>218.448005</td>\n",
       "      <td>118.481624</td>\n",
       "      <td>105.470208</td>\n",
       "      <td>56.456556</td>\n",
       "    </tr>\n",
       "    <tr>\n",
       "      <th>spot_slippage_bps</th>\n",
       "      <td>7.281622</td>\n",
       "      <td>5.924075</td>\n",
       "      <td>7.031354</td>\n",
       "      <td>3.763823</td>\n",
       "    </tr>\n",
       "    <tr>\n",
       "      <th>safe_swap_cost</th>\n",
       "      <td>217.050111</td>\n",
       "      <td>111.930802</td>\n",
       "      <td>97.970788</td>\n",
       "      <td>53.56036</td>\n",
       "    </tr>\n",
       "    <tr>\n",
       "      <th>safe_slippage_bps</th>\n",
       "      <td>7.234982</td>\n",
       "      <td>5.596529</td>\n",
       "      <td>6.53136</td>\n",
       "      <td>3.570744</td>\n",
       "    </tr>\n",
       "  </tbody>\n",
       "</table>\n",
       "</div>"
      ],
      "text/plain": [
       "                                                                      403  \\\n",
       "tx_hash                 0xa48c0d19f6e7b4a41c7557a957a6b748075491d5eba0...   \n",
       "autopool_vault_address         0xa7569A44f348d3D70d8ad5889e50F78E33d80D35   \n",
       "chain_id                                                                1   \n",
       "rebalance_file_path     rebalance_plan_1748632467_0xa7569A44f348d3D70d...   \n",
       "destination_out                0xb949C40F18fB52747d96850696c954718168fde3   \n",
       "destination_in                 0x3Ee3F7A0B244004B0678EBa98bA091eC101513Ee   \n",
       "quantity_out                                                297218.628078   \n",
       "quantity_in                                                 289200.547509   \n",
       "safe_value_out                                              300000.891656   \n",
       "safe_value_in                                               299783.841545   \n",
       "spot_value_in                                               299780.660339   \n",
       "spot_value_out                                              299999.108344   \n",
       "swap_offset_period                                                   None   \n",
       "block                                                            22597581   \n",
       "datetime                                        2025-05-30 19:17:11+00:00   \n",
       "destination_in_symbol                                            SkySaver   \n",
       "destination_out_symbol                                           frxsUSDS   \n",
       "move_name                                            frxsUSDS -> SkySaver   \n",
       "destination_in_tokens                                ('scrvUSD', 'sUSDS')   \n",
       "destination_out_tokens                                ('frxUSD', 'sUSDS')   \n",
       "tokens_move_name              ('frxUSD', 'sUSDS') -> ('scrvUSD', 'sUSDS')   \n",
       "spot_swap_cost                                                 218.448005   \n",
       "spot_slippage_bps                                                7.281622   \n",
       "safe_swap_cost                                                 217.050111   \n",
       "safe_slippage_bps                                                7.234982   \n",
       "\n",
       "                                                                      404  \\\n",
       "tx_hash                 0x3b5ab1bad915b3b34caaece1ebe33c4d86220ee4412e...   \n",
       "autopool_vault_address         0xa7569A44f348d3D70d8ad5889e50F78E33d80D35   \n",
       "chain_id                                                                1   \n",
       "rebalance_file_path     rebalance_plan_1748636368_0xa7569A44f348d3D70d...   \n",
       "destination_out                0xb949C40F18fB52747d96850696c954718168fde3   \n",
       "destination_in                 0x3Ee3F7A0B244004B0678EBa98bA091eC101513Ee   \n",
       "quantity_out                                                198173.042719   \n",
       "quantity_in                                                 192828.437946   \n",
       "safe_value_out                                              200000.396346   \n",
       "safe_value_in                                               199888.465544   \n",
       "spot_value_in                                               199881.716549   \n",
       "spot_value_out                                              200000.198173   \n",
       "swap_offset_period                                                   None   \n",
       "block                                                            22597905   \n",
       "datetime                                        2025-05-30 20:22:23+00:00   \n",
       "destination_in_symbol                                            SkySaver   \n",
       "destination_out_symbol                                           frxsUSDS   \n",
       "move_name                                            frxsUSDS -> SkySaver   \n",
       "destination_in_tokens                                ('scrvUSD', 'sUSDS')   \n",
       "destination_out_tokens                                ('frxUSD', 'sUSDS')   \n",
       "tokens_move_name              ('frxUSD', 'sUSDS') -> ('scrvUSD', 'sUSDS')   \n",
       "spot_swap_cost                                                 118.481624   \n",
       "spot_slippage_bps                                                5.924075   \n",
       "safe_swap_cost                                                 111.930802   \n",
       "safe_slippage_bps                                                5.596529   \n",
       "\n",
       "                                                                      405  \\\n",
       "tx_hash                 0x2403575c107f3bc9d59b77466f360f79c0e7405127a1...   \n",
       "autopool_vault_address         0xa7569A44f348d3D70d8ad5889e50F78E33d80D35   \n",
       "chain_id                                                                1   \n",
       "rebalance_file_path     rebalance_plan_1748641689_0xa7569A44f348d3D70d...   \n",
       "destination_out                0xb949C40F18fB52747d96850696c954718168fde3   \n",
       "destination_in                 0x3Ee3F7A0B244004B0678EBa98bA091eC101513Ee   \n",
       "quantity_out                                                148619.473709   \n",
       "quantity_in                                                 144605.576806   \n",
       "safe_value_out                                              150000.594478   \n",
       "safe_value_in                                                149902.62369   \n",
       "spot_value_in                                               149894.381172   \n",
       "spot_value_out                                              149999.851381   \n",
       "swap_offset_period                                                   None   \n",
       "block                                                            22598346   \n",
       "datetime                                        2025-05-30 21:50:59+00:00   \n",
       "destination_in_symbol                                            SkySaver   \n",
       "destination_out_symbol                                           frxsUSDS   \n",
       "move_name                                            frxsUSDS -> SkySaver   \n",
       "destination_in_tokens                                ('scrvUSD', 'sUSDS')   \n",
       "destination_out_tokens                                ('frxUSD', 'sUSDS')   \n",
       "tokens_move_name              ('frxUSD', 'sUSDS') -> ('scrvUSD', 'sUSDS')   \n",
       "spot_swap_cost                                                 105.470208   \n",
       "spot_slippage_bps                                                7.031354   \n",
       "safe_swap_cost                                                  97.970788   \n",
       "safe_slippage_bps                                                 6.53136   \n",
       "\n",
       "                                                                      406  \n",
       "tx_hash                 0x9110705aa3f081a6eafb0a2bdd50174cf53ea10ac593...  \n",
       "autopool_vault_address         0xa7569A44f348d3D70d8ad5889e50F78E33d80D35  \n",
       "chain_id                                                                1  \n",
       "rebalance_file_path     rebalance_plan_1748648141_0xa7569A44f348d3D70d...  \n",
       "destination_out                0xb949C40F18fB52747d96850696c954718168fde3  \n",
       "destination_in                 0x3Ee3F7A0B244004B0678EBa98bA091eC101513Ee  \n",
       "quantity_out                                                 148616.67598  \n",
       "quantity_in                                                 144609.424124  \n",
       "safe_value_out                                               149997.77075  \n",
       "safe_value_in                                                149944.21039  \n",
       "spot_value_in                                               149941.462811  \n",
       "spot_value_out                                              149997.919367  \n",
       "swap_offset_period                                                   None  \n",
       "block                                                            22598878  \n",
       "datetime                                        2025-05-30 23:37:59+00:00  \n",
       "destination_in_symbol                                            SkySaver  \n",
       "destination_out_symbol                                           frxsUSDS  \n",
       "move_name                                            frxsUSDS -> SkySaver  \n",
       "destination_in_tokens                                ('scrvUSD', 'sUSDS')  \n",
       "destination_out_tokens                                ('frxUSD', 'sUSDS')  \n",
       "tokens_move_name              ('frxUSD', 'sUSDS') -> ('scrvUSD', 'sUSDS')  \n",
       "spot_swap_cost                                                  56.456556  \n",
       "spot_slippage_bps                                                3.763823  \n",
       "safe_swap_cost                                                   53.56036  \n",
       "safe_slippage_bps                                                3.570744  "
      ]
     },
     "execution_count": 22,
     "metadata": {},
     "output_type": "execute_result"
    }
   ],
   "source": [
    "rebalance_df.iloc[-4:].T"
   ]
  },
  {
   "cell_type": "code",
   "execution_count": 23,
   "metadata": {},
   "outputs": [
    {
     "data": {
      "text/plain": [
       "6.533333333333333"
      ]
     },
     "execution_count": 23,
     "metadata": {},
     "output_type": "execute_result"
    }
   ],
   "source": [
    "10000 * (218 - 22) / 300_000"
   ]
  },
  {
   "cell_type": "code",
   "execution_count": 24,
   "metadata": {},
   "outputs": [
    {
     "data": {
      "text/plain": [
       "5.15"
      ]
     },
     "execution_count": 24,
     "metadata": {},
     "output_type": "execute_result"
    }
   ],
   "source": [
    "10000 * (118 - 15) / 200_000"
   ]
  },
  {
   "cell_type": "code",
   "execution_count": 25,
   "metadata": {},
   "outputs": [
    {
     "data": {
      "text/plain": [
       "6.266666666666667"
      ]
     },
     "execution_count": 25,
     "metadata": {},
     "output_type": "execute_result"
    }
   ],
   "source": [
    "10000 * (105 - 11) / 150_000"
   ]
  },
  {
   "cell_type": "code",
   "execution_count": 26,
   "metadata": {},
   "outputs": [],
   "source": [
    "most_recent = \"0x9110705aa3f081a6eafb0a2bdd50174cf53ea10ac59365b3dcc07cbe709a5999\""
   ]
  },
  {
   "cell_type": "code",
   "execution_count": 27,
   "metadata": {},
   "outputs": [
    {
     "data": {
      "application/vnd.microsoft.datawrangler.viewer.v0+json": {
       "columns": [
        {
         "name": "index",
         "rawType": "object",
         "type": "string"
        },
        {
         "name": "403",
         "rawType": "object",
         "type": "unknown"
        },
        {
         "name": "404",
         "rawType": "object",
         "type": "unknown"
        },
        {
         "name": "405",
         "rawType": "object",
         "type": "unknown"
        },
        {
         "name": "406",
         "rawType": "object",
         "type": "unknown"
        }
       ],
       "ref": "a76fc8b8-8bfc-4351-bb63-8be106a753bc",
       "rows": [
        [
         "tx_hash",
         "0xa48c0d19f6e7b4a41c7557a957a6b748075491d5eba08112bf010708b43da7bf",
         "0x3b5ab1bad915b3b34caaece1ebe33c4d86220ee4412e5d9c0503ed6a85c358f1",
         "0x2403575c107f3bc9d59b77466f360f79c0e7405127a1200a96c72bff84947eaf",
         "0x9110705aa3f081a6eafb0a2bdd50174cf53ea10ac59365b3dcc07cbe709a5999"
        ],
        [
         "autopool_vault_address",
         "0xa7569A44f348d3D70d8ad5889e50F78E33d80D35",
         "0xa7569A44f348d3D70d8ad5889e50F78E33d80D35",
         "0xa7569A44f348d3D70d8ad5889e50F78E33d80D35",
         "0xa7569A44f348d3D70d8ad5889e50F78E33d80D35"
        ],
        [
         "chain_id",
         "1",
         "1",
         "1",
         "1"
        ],
        [
         "rebalance_file_path",
         "rebalance_plan_1748632467_0xa7569A44f348d3D70d8ad5889e50F78E33d80D35.json",
         "rebalance_plan_1748636368_0xa7569A44f348d3D70d8ad5889e50F78E33d80D35.json",
         "rebalance_plan_1748641689_0xa7569A44f348d3D70d8ad5889e50F78E33d80D35.json",
         "rebalance_plan_1748648141_0xa7569A44f348d3D70d8ad5889e50F78E33d80D35.json"
        ],
        [
         "destination_out",
         "0xb949C40F18fB52747d96850696c954718168fde3",
         "0xb949C40F18fB52747d96850696c954718168fde3",
         "0xb949C40F18fB52747d96850696c954718168fde3",
         "0xb949C40F18fB52747d96850696c954718168fde3"
        ],
        [
         "destination_in",
         "0x3Ee3F7A0B244004B0678EBa98bA091eC101513Ee",
         "0x3Ee3F7A0B244004B0678EBa98bA091eC101513Ee",
         "0x3Ee3F7A0B244004B0678EBa98bA091eC101513Ee",
         "0x3Ee3F7A0B244004B0678EBa98bA091eC101513Ee"
        ],
        [
         "quantity_out",
         "297218.62807844195",
         "198173.04271917194",
         "148619.4737087197",
         "148616.67597997835"
        ],
        [
         "quantity_in",
         "289200.547508792",
         "192828.43794561914",
         "144605.57680611865",
         "144609.42412446387"
        ],
        [
         "safe_value_out",
         "300000.8916558842",
         "200000.3963460854",
         "150000.59447789483",
         "149997.7707498603"
        ],
        [
         "safe_value_in",
         "299783.8415448762",
         "199888.4655441221",
         "149902.6236901036",
         "149944.21038983946"
        ],
        [
         "spot_value_in",
         "299780.66033885366",
         "199881.716548794",
         "149894.38117222567",
         "149941.46281078111"
        ],
        [
         "spot_value_out",
         "299999.1083441158",
         "200000.1981730427",
         "149999.8513805263",
         "149997.91936653625"
        ],
        [
         "swap_offset_period",
         null,
         null,
         null,
         null
        ],
        [
         "block",
         "22597581",
         "22597905",
         "22598346",
         "22598878"
        ],
        [
         "datetime",
         "2025-05-30 19:17:11+00:00",
         "2025-05-30 20:22:23+00:00",
         "2025-05-30 21:50:59+00:00",
         "2025-05-30 23:37:59+00:00"
        ],
        [
         "destination_in_symbol",
         "SkySaver",
         "SkySaver",
         "SkySaver",
         "SkySaver"
        ],
        [
         "destination_out_symbol",
         "frxsUSDS",
         "frxsUSDS",
         "frxsUSDS",
         "frxsUSDS"
        ],
        [
         "move_name",
         "frxsUSDS -> SkySaver",
         "frxsUSDS -> SkySaver",
         "frxsUSDS -> SkySaver",
         "frxsUSDS -> SkySaver"
        ],
        [
         "destination_in_tokens",
         "('scrvUSD', 'sUSDS')",
         "('scrvUSD', 'sUSDS')",
         "('scrvUSD', 'sUSDS')",
         "('scrvUSD', 'sUSDS')"
        ],
        [
         "destination_out_tokens",
         "('frxUSD', 'sUSDS')",
         "('frxUSD', 'sUSDS')",
         "('frxUSD', 'sUSDS')",
         "('frxUSD', 'sUSDS')"
        ],
        [
         "tokens_move_name",
         "('frxUSD', 'sUSDS') -> ('scrvUSD', 'sUSDS')",
         "('frxUSD', 'sUSDS') -> ('scrvUSD', 'sUSDS')",
         "('frxUSD', 'sUSDS') -> ('scrvUSD', 'sUSDS')",
         "('frxUSD', 'sUSDS') -> ('scrvUSD', 'sUSDS')"
        ],
        [
         "spot_swap_cost",
         "218.44800526212202",
         "118.48162424869952",
         "105.47020830062684",
         "56.45655575513956"
        ],
        [
         "spot_slippage_bps",
         "7.281621817740535",
         "5.924075342474796",
         "7.031354186682847",
         "3.7638225912442036"
        ],
        [
         "safe_swap_cost",
         "217.0501110079931",
         "111.93080196331721",
         "97.97078779124422",
         "53.56036002084147"
        ],
        [
         "safe_slippage_bps",
         "7.234982196551611",
         "5.59652900735404",
         "6.531359967755455",
         "3.5707437352625693"
        ]
       ],
       "shape": {
        "columns": 4,
        "rows": 25
       }
      },
      "text/html": [
       "<div>\n",
       "<style scoped>\n",
       "    .dataframe tbody tr th:only-of-type {\n",
       "        vertical-align: middle;\n",
       "    }\n",
       "\n",
       "    .dataframe tbody tr th {\n",
       "        vertical-align: top;\n",
       "    }\n",
       "\n",
       "    .dataframe thead th {\n",
       "        text-align: right;\n",
       "    }\n",
       "</style>\n",
       "<table border=\"1\" class=\"dataframe\">\n",
       "  <thead>\n",
       "    <tr style=\"text-align: right;\">\n",
       "      <th></th>\n",
       "      <th>403</th>\n",
       "      <th>404</th>\n",
       "      <th>405</th>\n",
       "      <th>406</th>\n",
       "    </tr>\n",
       "  </thead>\n",
       "  <tbody>\n",
       "    <tr>\n",
       "      <th>tx_hash</th>\n",
       "      <td>0xa48c0d19f6e7b4a41c7557a957a6b748075491d5eba0...</td>\n",
       "      <td>0x3b5ab1bad915b3b34caaece1ebe33c4d86220ee4412e...</td>\n",
       "      <td>0x2403575c107f3bc9d59b77466f360f79c0e7405127a1...</td>\n",
       "      <td>0x9110705aa3f081a6eafb0a2bdd50174cf53ea10ac593...</td>\n",
       "    </tr>\n",
       "    <tr>\n",
       "      <th>autopool_vault_address</th>\n",
       "      <td>0xa7569A44f348d3D70d8ad5889e50F78E33d80D35</td>\n",
       "      <td>0xa7569A44f348d3D70d8ad5889e50F78E33d80D35</td>\n",
       "      <td>0xa7569A44f348d3D70d8ad5889e50F78E33d80D35</td>\n",
       "      <td>0xa7569A44f348d3D70d8ad5889e50F78E33d80D35</td>\n",
       "    </tr>\n",
       "    <tr>\n",
       "      <th>chain_id</th>\n",
       "      <td>1</td>\n",
       "      <td>1</td>\n",
       "      <td>1</td>\n",
       "      <td>1</td>\n",
       "    </tr>\n",
       "    <tr>\n",
       "      <th>rebalance_file_path</th>\n",
       "      <td>rebalance_plan_1748632467_0xa7569A44f348d3D70d...</td>\n",
       "      <td>rebalance_plan_1748636368_0xa7569A44f348d3D70d...</td>\n",
       "      <td>rebalance_plan_1748641689_0xa7569A44f348d3D70d...</td>\n",
       "      <td>rebalance_plan_1748648141_0xa7569A44f348d3D70d...</td>\n",
       "    </tr>\n",
       "    <tr>\n",
       "      <th>destination_out</th>\n",
       "      <td>0xb949C40F18fB52747d96850696c954718168fde3</td>\n",
       "      <td>0xb949C40F18fB52747d96850696c954718168fde3</td>\n",
       "      <td>0xb949C40F18fB52747d96850696c954718168fde3</td>\n",
       "      <td>0xb949C40F18fB52747d96850696c954718168fde3</td>\n",
       "    </tr>\n",
       "    <tr>\n",
       "      <th>destination_in</th>\n",
       "      <td>0x3Ee3F7A0B244004B0678EBa98bA091eC101513Ee</td>\n",
       "      <td>0x3Ee3F7A0B244004B0678EBa98bA091eC101513Ee</td>\n",
       "      <td>0x3Ee3F7A0B244004B0678EBa98bA091eC101513Ee</td>\n",
       "      <td>0x3Ee3F7A0B244004B0678EBa98bA091eC101513Ee</td>\n",
       "    </tr>\n",
       "    <tr>\n",
       "      <th>quantity_out</th>\n",
       "      <td>297218.628078</td>\n",
       "      <td>198173.042719</td>\n",
       "      <td>148619.473709</td>\n",
       "      <td>148616.67598</td>\n",
       "    </tr>\n",
       "    <tr>\n",
       "      <th>quantity_in</th>\n",
       "      <td>289200.547509</td>\n",
       "      <td>192828.437946</td>\n",
       "      <td>144605.576806</td>\n",
       "      <td>144609.424124</td>\n",
       "    </tr>\n",
       "    <tr>\n",
       "      <th>safe_value_out</th>\n",
       "      <td>300000.891656</td>\n",
       "      <td>200000.396346</td>\n",
       "      <td>150000.594478</td>\n",
       "      <td>149997.77075</td>\n",
       "    </tr>\n",
       "    <tr>\n",
       "      <th>safe_value_in</th>\n",
       "      <td>299783.841545</td>\n",
       "      <td>199888.465544</td>\n",
       "      <td>149902.62369</td>\n",
       "      <td>149944.21039</td>\n",
       "    </tr>\n",
       "    <tr>\n",
       "      <th>spot_value_in</th>\n",
       "      <td>299780.660339</td>\n",
       "      <td>199881.716549</td>\n",
       "      <td>149894.381172</td>\n",
       "      <td>149941.462811</td>\n",
       "    </tr>\n",
       "    <tr>\n",
       "      <th>spot_value_out</th>\n",
       "      <td>299999.108344</td>\n",
       "      <td>200000.198173</td>\n",
       "      <td>149999.851381</td>\n",
       "      <td>149997.919367</td>\n",
       "    </tr>\n",
       "    <tr>\n",
       "      <th>swap_offset_period</th>\n",
       "      <td>None</td>\n",
       "      <td>None</td>\n",
       "      <td>None</td>\n",
       "      <td>None</td>\n",
       "    </tr>\n",
       "    <tr>\n",
       "      <th>block</th>\n",
       "      <td>22597581</td>\n",
       "      <td>22597905</td>\n",
       "      <td>22598346</td>\n",
       "      <td>22598878</td>\n",
       "    </tr>\n",
       "    <tr>\n",
       "      <th>datetime</th>\n",
       "      <td>2025-05-30 19:17:11+00:00</td>\n",
       "      <td>2025-05-30 20:22:23+00:00</td>\n",
       "      <td>2025-05-30 21:50:59+00:00</td>\n",
       "      <td>2025-05-30 23:37:59+00:00</td>\n",
       "    </tr>\n",
       "    <tr>\n",
       "      <th>destination_in_symbol</th>\n",
       "      <td>SkySaver</td>\n",
       "      <td>SkySaver</td>\n",
       "      <td>SkySaver</td>\n",
       "      <td>SkySaver</td>\n",
       "    </tr>\n",
       "    <tr>\n",
       "      <th>destination_out_symbol</th>\n",
       "      <td>frxsUSDS</td>\n",
       "      <td>frxsUSDS</td>\n",
       "      <td>frxsUSDS</td>\n",
       "      <td>frxsUSDS</td>\n",
       "    </tr>\n",
       "    <tr>\n",
       "      <th>move_name</th>\n",
       "      <td>frxsUSDS -&gt; SkySaver</td>\n",
       "      <td>frxsUSDS -&gt; SkySaver</td>\n",
       "      <td>frxsUSDS -&gt; SkySaver</td>\n",
       "      <td>frxsUSDS -&gt; SkySaver</td>\n",
       "    </tr>\n",
       "    <tr>\n",
       "      <th>destination_in_tokens</th>\n",
       "      <td>('scrvUSD', 'sUSDS')</td>\n",
       "      <td>('scrvUSD', 'sUSDS')</td>\n",
       "      <td>('scrvUSD', 'sUSDS')</td>\n",
       "      <td>('scrvUSD', 'sUSDS')</td>\n",
       "    </tr>\n",
       "    <tr>\n",
       "      <th>destination_out_tokens</th>\n",
       "      <td>('frxUSD', 'sUSDS')</td>\n",
       "      <td>('frxUSD', 'sUSDS')</td>\n",
       "      <td>('frxUSD', 'sUSDS')</td>\n",
       "      <td>('frxUSD', 'sUSDS')</td>\n",
       "    </tr>\n",
       "    <tr>\n",
       "      <th>tokens_move_name</th>\n",
       "      <td>('frxUSD', 'sUSDS') -&gt; ('scrvUSD', 'sUSDS')</td>\n",
       "      <td>('frxUSD', 'sUSDS') -&gt; ('scrvUSD', 'sUSDS')</td>\n",
       "      <td>('frxUSD', 'sUSDS') -&gt; ('scrvUSD', 'sUSDS')</td>\n",
       "      <td>('frxUSD', 'sUSDS') -&gt; ('scrvUSD', 'sUSDS')</td>\n",
       "    </tr>\n",
       "    <tr>\n",
       "      <th>spot_swap_cost</th>\n",
       "      <td>218.448005</td>\n",
       "      <td>118.481624</td>\n",
       "      <td>105.470208</td>\n",
       "      <td>56.456556</td>\n",
       "    </tr>\n",
       "    <tr>\n",
       "      <th>spot_slippage_bps</th>\n",
       "      <td>7.281622</td>\n",
       "      <td>5.924075</td>\n",
       "      <td>7.031354</td>\n",
       "      <td>3.763823</td>\n",
       "    </tr>\n",
       "    <tr>\n",
       "      <th>safe_swap_cost</th>\n",
       "      <td>217.050111</td>\n",
       "      <td>111.930802</td>\n",
       "      <td>97.970788</td>\n",
       "      <td>53.56036</td>\n",
       "    </tr>\n",
       "    <tr>\n",
       "      <th>safe_slippage_bps</th>\n",
       "      <td>7.234982</td>\n",
       "      <td>5.596529</td>\n",
       "      <td>6.53136</td>\n",
       "      <td>3.570744</td>\n",
       "    </tr>\n",
       "  </tbody>\n",
       "</table>\n",
       "</div>"
      ],
      "text/plain": [
       "                                                                      403  \\\n",
       "tx_hash                 0xa48c0d19f6e7b4a41c7557a957a6b748075491d5eba0...   \n",
       "autopool_vault_address         0xa7569A44f348d3D70d8ad5889e50F78E33d80D35   \n",
       "chain_id                                                                1   \n",
       "rebalance_file_path     rebalance_plan_1748632467_0xa7569A44f348d3D70d...   \n",
       "destination_out                0xb949C40F18fB52747d96850696c954718168fde3   \n",
       "destination_in                 0x3Ee3F7A0B244004B0678EBa98bA091eC101513Ee   \n",
       "quantity_out                                                297218.628078   \n",
       "quantity_in                                                 289200.547509   \n",
       "safe_value_out                                              300000.891656   \n",
       "safe_value_in                                               299783.841545   \n",
       "spot_value_in                                               299780.660339   \n",
       "spot_value_out                                              299999.108344   \n",
       "swap_offset_period                                                   None   \n",
       "block                                                            22597581   \n",
       "datetime                                        2025-05-30 19:17:11+00:00   \n",
       "destination_in_symbol                                            SkySaver   \n",
       "destination_out_symbol                                           frxsUSDS   \n",
       "move_name                                            frxsUSDS -> SkySaver   \n",
       "destination_in_tokens                                ('scrvUSD', 'sUSDS')   \n",
       "destination_out_tokens                                ('frxUSD', 'sUSDS')   \n",
       "tokens_move_name              ('frxUSD', 'sUSDS') -> ('scrvUSD', 'sUSDS')   \n",
       "spot_swap_cost                                                 218.448005   \n",
       "spot_slippage_bps                                                7.281622   \n",
       "safe_swap_cost                                                 217.050111   \n",
       "safe_slippage_bps                                                7.234982   \n",
       "\n",
       "                                                                      404  \\\n",
       "tx_hash                 0x3b5ab1bad915b3b34caaece1ebe33c4d86220ee4412e...   \n",
       "autopool_vault_address         0xa7569A44f348d3D70d8ad5889e50F78E33d80D35   \n",
       "chain_id                                                                1   \n",
       "rebalance_file_path     rebalance_plan_1748636368_0xa7569A44f348d3D70d...   \n",
       "destination_out                0xb949C40F18fB52747d96850696c954718168fde3   \n",
       "destination_in                 0x3Ee3F7A0B244004B0678EBa98bA091eC101513Ee   \n",
       "quantity_out                                                198173.042719   \n",
       "quantity_in                                                 192828.437946   \n",
       "safe_value_out                                              200000.396346   \n",
       "safe_value_in                                               199888.465544   \n",
       "spot_value_in                                               199881.716549   \n",
       "spot_value_out                                              200000.198173   \n",
       "swap_offset_period                                                   None   \n",
       "block                                                            22597905   \n",
       "datetime                                        2025-05-30 20:22:23+00:00   \n",
       "destination_in_symbol                                            SkySaver   \n",
       "destination_out_symbol                                           frxsUSDS   \n",
       "move_name                                            frxsUSDS -> SkySaver   \n",
       "destination_in_tokens                                ('scrvUSD', 'sUSDS')   \n",
       "destination_out_tokens                                ('frxUSD', 'sUSDS')   \n",
       "tokens_move_name              ('frxUSD', 'sUSDS') -> ('scrvUSD', 'sUSDS')   \n",
       "spot_swap_cost                                                 118.481624   \n",
       "spot_slippage_bps                                                5.924075   \n",
       "safe_swap_cost                                                 111.930802   \n",
       "safe_slippage_bps                                                5.596529   \n",
       "\n",
       "                                                                      405  \\\n",
       "tx_hash                 0x2403575c107f3bc9d59b77466f360f79c0e7405127a1...   \n",
       "autopool_vault_address         0xa7569A44f348d3D70d8ad5889e50F78E33d80D35   \n",
       "chain_id                                                                1   \n",
       "rebalance_file_path     rebalance_plan_1748641689_0xa7569A44f348d3D70d...   \n",
       "destination_out                0xb949C40F18fB52747d96850696c954718168fde3   \n",
       "destination_in                 0x3Ee3F7A0B244004B0678EBa98bA091eC101513Ee   \n",
       "quantity_out                                                148619.473709   \n",
       "quantity_in                                                 144605.576806   \n",
       "safe_value_out                                              150000.594478   \n",
       "safe_value_in                                                149902.62369   \n",
       "spot_value_in                                               149894.381172   \n",
       "spot_value_out                                              149999.851381   \n",
       "swap_offset_period                                                   None   \n",
       "block                                                            22598346   \n",
       "datetime                                        2025-05-30 21:50:59+00:00   \n",
       "destination_in_symbol                                            SkySaver   \n",
       "destination_out_symbol                                           frxsUSDS   \n",
       "move_name                                            frxsUSDS -> SkySaver   \n",
       "destination_in_tokens                                ('scrvUSD', 'sUSDS')   \n",
       "destination_out_tokens                                ('frxUSD', 'sUSDS')   \n",
       "tokens_move_name              ('frxUSD', 'sUSDS') -> ('scrvUSD', 'sUSDS')   \n",
       "spot_swap_cost                                                 105.470208   \n",
       "spot_slippage_bps                                                7.031354   \n",
       "safe_swap_cost                                                  97.970788   \n",
       "safe_slippage_bps                                                 6.53136   \n",
       "\n",
       "                                                                      406  \n",
       "tx_hash                 0x9110705aa3f081a6eafb0a2bdd50174cf53ea10ac593...  \n",
       "autopool_vault_address         0xa7569A44f348d3D70d8ad5889e50F78E33d80D35  \n",
       "chain_id                                                                1  \n",
       "rebalance_file_path     rebalance_plan_1748648141_0xa7569A44f348d3D70d...  \n",
       "destination_out                0xb949C40F18fB52747d96850696c954718168fde3  \n",
       "destination_in                 0x3Ee3F7A0B244004B0678EBa98bA091eC101513Ee  \n",
       "quantity_out                                                 148616.67598  \n",
       "quantity_in                                                 144609.424124  \n",
       "safe_value_out                                               149997.77075  \n",
       "safe_value_in                                                149944.21039  \n",
       "spot_value_in                                               149941.462811  \n",
       "spot_value_out                                              149997.919367  \n",
       "swap_offset_period                                                   None  \n",
       "block                                                            22598878  \n",
       "datetime                                        2025-05-30 23:37:59+00:00  \n",
       "destination_in_symbol                                            SkySaver  \n",
       "destination_out_symbol                                           frxsUSDS  \n",
       "move_name                                            frxsUSDS -> SkySaver  \n",
       "destination_in_tokens                                ('scrvUSD', 'sUSDS')  \n",
       "destination_out_tokens                                ('frxUSD', 'sUSDS')  \n",
       "tokens_move_name              ('frxUSD', 'sUSDS') -> ('scrvUSD', 'sUSDS')  \n",
       "spot_swap_cost                                                  56.456556  \n",
       "spot_slippage_bps                                                3.763823  \n",
       "safe_swap_cost                                                   53.56036  \n",
       "safe_slippage_bps                                                3.570744  "
      ]
     },
     "execution_count": 27,
     "metadata": {},
     "output_type": "execute_result"
    }
   ],
   "source": [
    "rebalance_df.iloc[-4:].T"
   ]
  },
  {
   "cell_type": "code",
   "execution_count": 32,
   "metadata": {},
   "outputs": [
    {
     "data": {
      "text/plain": [
       "0.0003"
      ]
     },
     "execution_count": 32,
     "metadata": {},
     "output_type": "execute_result"
    }
   ],
   "source": [
    "45 / 150000"
   ]
  },
  {
   "cell_type": "code",
   "execution_count": 31,
   "metadata": {},
   "outputs": [
    {
     "data": {
      "text/plain": [
       "{'0x83F20F44975D03b1b09e64809B757c47f942BEeA': 0.0,\n",
       " '0xbf5495Efe5DB9ce00f80364C8B423567e58d2110': 0.0,\n",
       " '0xae78736Cd615f374D3085123A210448E74Fc6393': 0.0,\n",
       " '0x0655977FEb2f289A4aB78af67BAB0d17aAb84367': 0.0,\n",
       " '0xf939E0A03FB07F59A73314E73794Be0E57ac1b4E': 0.0,\n",
       " '0x853d955aCEf822Db058eb8505911ED77F175b99e': 0.0,\n",
       " '0x856c4Efb76C1D1AE02e20CEB03A2A6a08b0b8dC3': 0.0,\n",
       " '0xC02aaA39b223FE8D0A0e5C4F27eAD9083C756Cc2': 0.0,\n",
       " '0x7f39C581F595B53c5cb19bD0b3f8dA6c935E2Ca0': 0.0,\n",
       " '0x9D39A5DE30e57443BfF2A8307A4256c8797A3497': 0.0,\n",
       " '0xBe9895146f7AF43049ca1c1AE358B0541Ea49704': 0.0,\n",
       " '0xa3931d71877C0E7a3148CB7Eb4463524FEc27fbD': 0.0,\n",
       " '0xA35b1B31Ce002FBF2058D22F30f95D405200A15b': 0.0,\n",
       " '0xD4fa2D31b7968E448877f69A96DE69f5de8cD23E': 0.0,\n",
       " '0xdAC17F958D2ee523a2206206994597C13D831ec7': 0.0,\n",
       " '0x04C154b66CB340F3Ae24111CC767e0184Ed00Cc6': 0.0,\n",
       " '0xCd5fE23C85820F7B72D0926FC9b05b43E359b7ee': 0.0,\n",
       " '0x5E8422345238F34275888049021821E8E08CAa1f': 0.0,\n",
       " '0x7Bc3485026Ac48b6cf9BaF0A377477Fff5703Af8': 0.0,\n",
       " '0xA0b86991c6218b36c1d19D4a2e9Eb0cE3606eB48': 0.0,\n",
       " '0xf1C9acDc66974dFB6dEcB12aA385b9cD01190E38': 0.0,\n",
       " '0xA663B02CF0a4b149d2aD41910CB81e23e1c41c32': 0.0,\n",
       " '0xae7ab96520DE3A18E5e111B5EaAb095312D7fE84': 0.0,\n",
       " '0xC71Ea051a5F82c67ADcF634c36FFE6334793D24C': 0.0,\n",
       " '0x4c9EDD5852cd905f086C759E8383e09bff1E68B3': 0.0,\n",
       " '0x40D16FC0246aD3160Ccc09B8D0D3A2cD28aE6C2f': 0.0,\n",
       " '0xFAe103DC9cf190eD75350761e95403b7b8aFa6c0': 0.0,\n",
       " '0xA1290d69c65A6Fe4DF752f95823fae25cB99e5A7': 0.0,\n",
       " '0xCAcd6fd266aF91b8AeD52aCCc382b4e165586E29': 11.285816619847466,\n",
       " '0xcf62F905562626CfcDD2261162a51fd02Fc9c5b6': 0.0}"
      ]
     },
     "execution_count": 31,
     "metadata": {},
     "output_type": "execute_result"
    }
   ],
   "source": [
    "before = get_state_by_one_block(balance_of_calls, 22598878 - 1, ETH_CHAIN)\n",
    "after = get_state_by_one_block(balance_of_calls, 22598878, ETH_CHAIN)\n",
    "diff = {}\n",
    "for k in before.keys():\n",
    "    if after[k] is not None:\n",
    "        diff[k] = after[k] - before[k]\n",
    "diff"
   ]
  },
  {
   "cell_type": "code",
   "execution_count": null,
   "metadata": {},
   "outputs": [],
   "source": []
  }
 ],
 "metadata": {
  "kernelspec": {
   "display_name": "mainnet-launch-FtycU18g-py3.10",
   "language": "python",
   "name": "python3"
  },
  "language_info": {
   "codemirror_mode": {
    "name": "ipython",
    "version": 3
   },
   "file_extension": ".py",
   "mimetype": "text/x-python",
   "name": "python",
   "nbconvert_exporter": "python",
   "pygments_lexer": "ipython3",
   "version": "3.10.14"
  }
 },
 "nbformat": 4,
 "nbformat_minor": 2
}
