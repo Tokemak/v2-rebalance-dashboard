{
 "cells": [
  {
   "cell_type": "code",
   "execution_count": 1,
   "metadata": {},
   "outputs": [
    {
     "name": "stderr",
     "output_type": "stream",
     "text": [
      "2025-06-02 10:32:59.309 WARNING streamlit.runtime.caching.cache_data_api: No runtime found, using MemoryCacheStorageManager\n",
      "2025-06-02 10:32:59.577 WARNING streamlit.runtime.scriptrunner_utils.script_run_context: Thread 'MainThread': missing ScriptRunContext! This warning can be ignored when running in bare mode.\n",
      "2025-06-02 10:32:59.651 \n",
      "  \u001b[33m\u001b[1mWarning:\u001b[0m to view this Streamlit app on a browser, run it with the following\n",
      "  command:\n",
      "\n",
      "    streamlit run /Users/pb/Library/Caches/pypoetry/virtualenvs/mainnet-launch-FtycU18g-py3.10/lib/python3.10/site-packages/ipykernel_launcher.py [ARGUMENTS]\n",
      "2025-06-02 10:32:59.652 Thread 'MainThread': missing ScriptRunContext! This warning can be ignored when running in bare mode.\n",
      "2025-06-02 10:32:59.652 Thread 'MainThread': missing ScriptRunContext! This warning can be ignored when running in bare mode.\n",
      "2025-06-02 10:32:59.653 No runtime found, using MemoryCacheStorageManager\n",
      "2025-06-02 10:33:00.157 Thread 'Thread-4': missing ScriptRunContext! This warning can be ignored when running in bare mode.\n",
      "2025-06-02 10:33:00.158 Thread 'Thread-4': missing ScriptRunContext! This warning can be ignored when running in bare mode.\n"
     ]
    },
    {
     "name": "stdout",
     "output_type": "stream",
     "text": [
      "2025-06-02 10:33:00,362 INFO sqlalchemy.engine.Engine select pg_catalog.version()\n",
      "2025-06-02 10:33:00,363 INFO sqlalchemy.engine.Engine [raw sql] {}\n",
      "2025-06-02 10:33:00,508 INFO sqlalchemy.engine.Engine select current_schema()\n",
      "2025-06-02 10:33:00,509 INFO sqlalchemy.engine.Engine [raw sql] {}\n",
      "2025-06-02 10:33:00,656 INFO sqlalchemy.engine.Engine show standard_conforming_strings\n",
      "2025-06-02 10:33:00,656 INFO sqlalchemy.engine.Engine [raw sql] {}\n",
      "2025-06-02 10:33:00,816 INFO sqlalchemy.engine.Engine BEGIN (implicit)\n",
      "2025-06-02 10:33:00,817 INFO sqlalchemy.engine.Engine SELECT pg_catalog.pg_class.relname \n",
      "FROM pg_catalog.pg_class JOIN pg_catalog.pg_namespace ON pg_catalog.pg_namespace.oid = pg_catalog.pg_class.relnamespace \n",
      "WHERE pg_catalog.pg_class.relname = %(table_name)s AND pg_catalog.pg_class.relkind = ANY (ARRAY[%(param_1)s, %(param_2)s, %(param_3)s, %(param_4)s, %(param_5)s]) AND pg_catalog.pg_table_is_visible(pg_catalog.pg_class.oid) AND pg_catalog.pg_namespace.nspname != %(nspname_1)s\n",
      "2025-06-02 10:33:00,817 INFO sqlalchemy.engine.Engine [generated in 0.00062s] {'table_name': <sqlalchemy.sql.elements.TextClause object at 0x126e3ec20>, 'param_1': 'r', 'param_2': 'p', 'param_3': 'f', 'param_4': 'v', 'param_5': 'm', 'nspname_1': 'pg_catalog'}\n",
      "2025-06-02 10:33:00,817 INFO sqlalchemy.engine.Engine SELECT\n",
      "    rebalance_events.*,\n",
      "    transactions.block,\n",
      "    blocks.datetime\n",
      "FROM rebalance_events\n",
      "JOIN transactions\n",
      "  ON transactions.tx_hash = rebalance_events.tx_hash\n",
      "JOIN blocks\n",
      "  ON transactions.block = blocks.block AND transactions.chain_id = blocks.chain_id\n",
      "WHERE\n",
      "    (rebalance_events.autopool_vault_address = '0xE800e3760FC20aA98c5df6A9816147f190455AF3')\n",
      "ORDER BY\n",
      "    blocks.datetime ASC\n",
      "\n",
      "2025-06-02 10:33:00,818 INFO sqlalchemy.engine.Engine [generated in 0.00043s] {}\n",
      "2025-06-02 10:33:01,183 INFO sqlalchemy.engine.Engine ROLLBACK\n"
     ]
    },
    {
     "name": "stderr",
     "output_type": "stream",
     "text": [
      "2025-06-02 10:33:01.259 Thread 'MainThread': missing ScriptRunContext! This warning can be ignored when running in bare mode.\n",
      "2025-06-02 10:33:01.259 Thread 'MainThread': missing ScriptRunContext! This warning can be ignored when running in bare mode.\n",
      "2025-06-02 10:33:01.259 Thread 'MainThread': missing ScriptRunContext! This warning can be ignored when running in bare mode.\n",
      "2025-06-02 10:33:01.260 Thread 'MainThread': missing ScriptRunContext! This warning can be ignored when running in bare mode.\n",
      "2025-06-02 10:33:01.260 Thread 'MainThread': missing ScriptRunContext! This warning can be ignored when running in bare mode.\n"
     ]
    },
    {
     "name": "stdout",
     "output_type": "stream",
     "text": [
      "2025-06-02 10:33:01,332 INFO sqlalchemy.engine.Engine BEGIN (implicit)\n",
      "2025-06-02 10:33:01,333 INFO sqlalchemy.engine.Engine SELECT pg_catalog.pg_class.relname \n",
      "FROM pg_catalog.pg_class JOIN pg_catalog.pg_namespace ON pg_catalog.pg_namespace.oid = pg_catalog.pg_class.relnamespace \n",
      "WHERE pg_catalog.pg_class.relname = %(table_name)s AND pg_catalog.pg_class.relkind = ANY (ARRAY[%(param_1)s, %(param_2)s, %(param_3)s, %(param_4)s, %(param_5)s]) AND pg_catalog.pg_table_is_visible(pg_catalog.pg_class.oid) AND pg_catalog.pg_namespace.nspname != %(nspname_1)s\n",
      "2025-06-02 10:33:01,333 INFO sqlalchemy.engine.Engine [cached since 0.5167s ago] {'table_name': <sqlalchemy.sql.elements.TextClause object at 0x126e3ea70>, 'param_1': 'r', 'param_2': 'p', 'param_3': 'f', 'param_4': 'v', 'param_5': 'm', 'nspname_1': 'pg_catalog'}\n",
      "2025-06-02 10:33:01,333 INFO sqlalchemy.engine.Engine SELECT\n",
      "    destination_tokens.*,\n",
      "    tokens.symbol,\n",
      "    tokens.decimals\n",
      "FROM destination_tokens\n",
      "JOIN tokens\n",
      "  ON destination_tokens.token_address = tokens.token_address\n",
      "\n",
      "2025-06-02 10:33:01,334 INFO sqlalchemy.engine.Engine [generated in 0.00031s] {}\n",
      "2025-06-02 10:33:01,495 INFO sqlalchemy.engine.Engine ROLLBACK\n"
     ]
    },
    {
     "name": "stderr",
     "output_type": "stream",
     "text": [
      "2025-06-02 10:33:01.572 Thread 'MainThread': missing ScriptRunContext! This warning can be ignored when running in bare mode.\n",
      "2025-06-02 10:33:01.573 Thread 'MainThread': missing ScriptRunContext! This warning can be ignored when running in bare mode.\n"
     ]
    },
    {
     "name": "stdout",
     "output_type": "stream",
     "text": [
      "2025-06-02 10:33:01,660 INFO sqlalchemy.engine.Engine BEGIN (implicit)\n",
      "2025-06-02 10:33:01,661 INFO sqlalchemy.engine.Engine SELECT pg_catalog.pg_class.relname \n",
      "FROM pg_catalog.pg_class JOIN pg_catalog.pg_namespace ON pg_catalog.pg_namespace.oid = pg_catalog.pg_class.relnamespace \n",
      "WHERE pg_catalog.pg_class.relname = %(table_name)s AND pg_catalog.pg_class.relkind = ANY (ARRAY[%(param_1)s, %(param_2)s, %(param_3)s, %(param_4)s, %(param_5)s]) AND pg_catalog.pg_table_is_visible(pg_catalog.pg_class.oid) AND pg_catalog.pg_namespace.nspname != %(nspname_1)s\n",
      "2025-06-02 10:33:01,661 INFO sqlalchemy.engine.Engine [cached since 0.8448s ago] {'table_name': <sqlalchemy.sql.elements.TextClause object at 0x126d9fd30>, 'param_1': 'r', 'param_2': 'p', 'param_3': 'f', 'param_4': 'v', 'param_5': 'm', 'nspname_1': 'pg_catalog'}\n",
      "2025-06-02 10:33:01,661 INFO sqlalchemy.engine.Engine \n",
      "            SELECT *\n",
      "            FROM destinations\n",
      "            WHERE destinations.chain_id = 1\n",
      "        \n",
      "2025-06-02 10:33:01,662 INFO sqlalchemy.engine.Engine [generated in 0.00032s] {}\n",
      "2025-06-02 10:33:01,814 INFO sqlalchemy.engine.Engine ROLLBACK\n",
      "2025-06-02 10:33:01,961 INFO sqlalchemy.engine.Engine BEGIN (implicit)\n",
      "2025-06-02 10:33:01,961 INFO sqlalchemy.engine.Engine SELECT pg_catalog.pg_class.relname \n",
      "FROM pg_catalog.pg_class JOIN pg_catalog.pg_namespace ON pg_catalog.pg_namespace.oid = pg_catalog.pg_class.relnamespace \n",
      "WHERE pg_catalog.pg_class.relname = %(table_name)s AND pg_catalog.pg_class.relkind = ANY (ARRAY[%(param_1)s, %(param_2)s, %(param_3)s, %(param_4)s, %(param_5)s]) AND pg_catalog.pg_table_is_visible(pg_catalog.pg_class.oid) AND pg_catalog.pg_namespace.nspname != %(nspname_1)s\n",
      "2025-06-02 10:33:01,961 INFO sqlalchemy.engine.Engine [cached since 1.145s ago] {'table_name': <sqlalchemy.sql.elements.TextClause object at 0x127429750>, 'param_1': 'r', 'param_2': 'p', 'param_3': 'f', 'param_4': 'v', 'param_5': 'm', 'nspname_1': 'pg_catalog'}\n",
      "2025-06-02 10:33:01,962 INFO sqlalchemy.engine.Engine \n",
      "            SELECT *\n",
      "            FROM rebalance_plans\n",
      "            WHERE rebalance_plans.autopool_vault_address = '0xE800e3760FC20aA98c5df6A9816147f190455AF3'\n",
      "        \n",
      "2025-06-02 10:33:01,962 INFO sqlalchemy.engine.Engine [generated in 0.00042s] {}\n",
      "2025-06-02 10:33:02,248 INFO sqlalchemy.engine.Engine ROLLBACK\n"
     ]
    }
   ],
   "source": [
    "from mainnet_launch.database.schema.full import *\n",
    "from mainnet_launch.database.schema.postgres_operations import *\n",
    "import plotly.express as px\n",
    "\n",
    "from mainnet_launch.constants import *\n",
    "\n",
    "from mainnet_launch.pages.rebalance_events.rebalance_events import _load_full_rebalance_event_df, make_expoded_box_plot\n",
    "\n",
    "rebalance_df = _load_full_rebalance_event_df(AUTO_LRT)"
   ]
  },
  {
   "cell_type": "code",
   "execution_count": 2,
   "metadata": {},
   "outputs": [
    {
     "data": {
      "text/plain": [
       "Index(['tx_hash', 'autopool_vault_address', 'chain_id', 'rebalance_file_path',\n",
       "       'destination_out', 'destination_in', 'quantity_out', 'quantity_in',\n",
       "       'safe_value_out', 'safe_value_in', 'spot_value_in', 'spot_value_out',\n",
       "       'swap_offset_period', 'block', 'datetime', 'destination_in_symbol',\n",
       "       'destination_out_symbol', 'destination_in_tokens',\n",
       "       'destination_out_tokens', 'tokens_move_name', 'spot_swap_cost',\n",
       "       'spot_slippage_bps', 'safe_swap_cost', 'safe_slippage_bps', 'file_name',\n",
       "       'datetime_generated', 'solver_address', 'rebalance_type', 'token_out',\n",
       "       'token_in', 'move_name', 'amount_out', 'amount_out_safe_value',\n",
       "       'min_amount_in', 'min_amount_in_safe_value', 'amount_out_spot_value',\n",
       "       'out_dest_apr', 'min_amount_in_spot_value', 'in_dest_apr',\n",
       "       'in_dest_adj_apr', 'apr_delta', 'num_candidate_destinations',\n",
       "       'candidate_destinations_rank', 'projected_swap_cost',\n",
       "       'projected_net_gain', 'projected_gross_gain', 'projected_slippage'],\n",
       "      dtype='object')"
      ]
     },
     "execution_count": 2,
     "metadata": {},
     "output_type": "execute_result"
    }
   ],
   "source": [
    "rebalance_df.columns"
   ]
  },
  {
   "cell_type": "code",
   "execution_count": 4,
   "metadata": {},
   "outputs": [
    {
     "data": {
      "application/vnd.microsoft.datawrangler.viewer.v0+json": {
       "columns": [
        {
         "name": "move_name",
         "rawType": "object",
         "type": "string"
        },
        {
         "name": "count",
         "rawType": "int64",
         "type": "integer"
        }
       ],
       "ref": "d88d7c71-3d76-4221-807b-5c1dfb262ac4",
       "rows": [
        [
         "autoLRT -> weeth-ng",
         "77"
        ],
        [
         "rsETH / WETH -> weeth-ng",
         "44"
        ],
        [
         "autoLRT -> rsETH / WETH",
         "25"
        ],
        [
         "autoLRT -> weETH/rETH",
         "17"
        ],
        [
         "weETH/rETH -> weeth-ng",
         "12"
        ],
        [
         "autoLRT -> rsETH / ETHx",
         "10"
        ],
        [
         "autoLRT -> weETH/ezETH/rswETH",
         "10"
        ],
        [
         "weETH/rETH -> rsETH / WETH",
         "9"
        ],
        [
         "weeth-ng -> rsETH / WETH",
         "9"
        ],
        [
         "weeth-ng -> weETH/rETH",
         "4"
        ],
        [
         "weETH/ezETH/rswETH -> weeth-ng",
         "3"
        ],
        [
         "rsETH / ETHx -> rsETH / WETH",
         "2"
        ],
        [
         "weETH/rETH -> weETH/ezETH/rswETH",
         "2"
        ],
        [
         "rsETH / WETH -> autoLRT",
         "1"
        ],
        [
         "weETH/ezETH/rswETH -> rsETH / WETH",
         "1"
        ],
        [
         "rsETH / ETHx -> autoLRT",
         "1"
        ],
        [
         "weETH/ezETH/rswETH -> autoLRT",
         "1"
        ],
        [
         "rsETH / WETH -> weETH/rETH",
         "1"
        ]
       ],
       "shape": {
        "columns": 1,
        "rows": 18
       }
      },
      "text/plain": [
       "move_name\n",
       "autoLRT -> weeth-ng                   77\n",
       "rsETH / WETH -> weeth-ng              44\n",
       "autoLRT -> rsETH / WETH               25\n",
       "autoLRT -> weETH/rETH                 17\n",
       "weETH/rETH -> weeth-ng                12\n",
       "autoLRT -> rsETH / ETHx               10\n",
       "autoLRT -> weETH/ezETH/rswETH         10\n",
       "weETH/rETH -> rsETH / WETH             9\n",
       "weeth-ng -> rsETH / WETH               9\n",
       "weeth-ng -> weETH/rETH                 4\n",
       "weETH/ezETH/rswETH -> weeth-ng         3\n",
       "rsETH / ETHx -> rsETH / WETH           2\n",
       "weETH/rETH -> weETH/ezETH/rswETH       2\n",
       "rsETH / WETH -> autoLRT                1\n",
       "weETH/ezETH/rswETH -> rsETH / WETH     1\n",
       "rsETH / ETHx -> autoLRT                1\n",
       "weETH/ezETH/rswETH -> autoLRT          1\n",
       "rsETH / WETH -> weETH/rETH             1\n",
       "Name: count, dtype: int64"
      ]
     },
     "execution_count": 4,
     "metadata": {},
     "output_type": "execute_result"
    }
   ],
   "source": [
    "rebalance_df[\"move_name\"].value_counts()"
   ]
  },
  {
   "cell_type": "code",
   "execution_count": null,
   "metadata": {},
   "outputs": [
    {
     "data": {
      "application/vnd.plotly.v1+json": {
       "config": {
        "plotlyServerURL": "https://plot.ly"
       },
       "data": [
        {
         "alignmentgroup": "True",
         "hovertemplate": "variable=all_time_safe_slippage<br>move_name=%{x}<br>value=%{y}<extra></extra>",
         "legendgroup": "all_time_safe_slippage",
         "marker": {
          "color": "#000001",
          "pattern": {
           "shape": ""
          }
         },
         "name": "all_time_safe_slippage",
         "offsetgroup": "all_time_safe_slippage",
         "orientation": "v",
         "showlegend": true,
         "textposition": "auto",
         "type": "bar",
         "x": [
          "autoLRT -> rsETH / ETHx",
          "autoLRT -> rsETH / WETH",
          "autoLRT -> weETH/ezETH/rswETH",
          "autoLRT -> weETH/rETH",
          "autoLRT -> weeth-ng",
          "rsETH / ETHx -> autoLRT",
          "rsETH / ETHx -> rsETH / WETH",
          "rsETH / WETH -> autoLRT",
          "rsETH / WETH -> weETH/rETH",
          "rsETH / WETH -> weeth-ng",
          "weETH/ezETH/rswETH -> autoLRT",
          "weETH/ezETH/rswETH -> rsETH / WETH",
          "weETH/ezETH/rswETH -> weeth-ng",
          "weETH/rETH -> rsETH / WETH",
          "weETH/rETH -> weETH/ezETH/rswETH",
          "weETH/rETH -> weeth-ng",
          "weeth-ng -> rsETH / WETH",
          "weeth-ng -> weETH/rETH"
         ],
         "xaxis": "x",
         "y": [
          16.59942316263935,
          14.703801288488515,
          11.0522856785553,
          7.979595647822336,
          7.43394620069695,
          5.27313703341859,
          10.496939069520037,
          13.26683183422973,
          10.668911493431473,
          7.0329114727680055,
          4.805876365402239,
          1.6569309315132654,
          6.7384466141685495,
          7.806957760541931,
          11.157643454404893,
          6.67364591178172,
          15.125815551152101,
          6.443466696629599
         ],
         "yaxis": "y"
        }
       ],
       "layout": {
        "barmode": "relative",
        "legend": {
         "title": {
          "text": "variable"
         },
         "tracegroupgap": 0
        },
        "margin": {
         "t": 60
        },
        "template": {
         "data": {
          "candlestick": [
           {
            "decreasing": {
             "line": {
              "color": "#000033"
             }
            },
            "increasing": {
             "line": {
              "color": "#000032"
             }
            },
            "type": "candlestick"
           }
          ],
          "contour": [
           {
            "colorscale": [
             [
              0,
              "#000011"
             ],
             [
              0.1111111111111111,
              "#000012"
             ],
             [
              0.2222222222222222,
              "#000013"
             ],
             [
              0.3333333333333333,
              "#000014"
             ],
             [
              0.4444444444444444,
              "#000015"
             ],
             [
              0.5555555555555556,
              "#000016"
             ],
             [
              0.6666666666666666,
              "#000017"
             ],
             [
              0.7777777777777778,
              "#000018"
             ],
             [
              0.8888888888888888,
              "#000019"
             ],
             [
              1,
              "#000020"
             ]
            ],
            "type": "contour"
           }
          ],
          "contourcarpet": [
           {
            "colorscale": [
             [
              0,
              "#000011"
             ],
             [
              0.1111111111111111,
              "#000012"
             ],
             [
              0.2222222222222222,
              "#000013"
             ],
             [
              0.3333333333333333,
              "#000014"
             ],
             [
              0.4444444444444444,
              "#000015"
             ],
             [
              0.5555555555555556,
              "#000016"
             ],
             [
              0.6666666666666666,
              "#000017"
             ],
             [
              0.7777777777777778,
              "#000018"
             ],
             [
              0.8888888888888888,
              "#000019"
             ],
             [
              1,
              "#000020"
             ]
            ],
            "type": "contourcarpet"
           }
          ],
          "heatmap": [
           {
            "colorscale": [
             [
              0,
              "#000011"
             ],
             [
              0.1111111111111111,
              "#000012"
             ],
             [
              0.2222222222222222,
              "#000013"
             ],
             [
              0.3333333333333333,
              "#000014"
             ],
             [
              0.4444444444444444,
              "#000015"
             ],
             [
              0.5555555555555556,
              "#000016"
             ],
             [
              0.6666666666666666,
              "#000017"
             ],
             [
              0.7777777777777778,
              "#000018"
             ],
             [
              0.8888888888888888,
              "#000019"
             ],
             [
              1,
              "#000020"
             ]
            ],
            "type": "heatmap"
           }
          ],
          "histogram2d": [
           {
            "colorscale": [
             [
              0,
              "#000011"
             ],
             [
              0.1111111111111111,
              "#000012"
             ],
             [
              0.2222222222222222,
              "#000013"
             ],
             [
              0.3333333333333333,
              "#000014"
             ],
             [
              0.4444444444444444,
              "#000015"
             ],
             [
              0.5555555555555556,
              "#000016"
             ],
             [
              0.6666666666666666,
              "#000017"
             ],
             [
              0.7777777777777778,
              "#000018"
             ],
             [
              0.8888888888888888,
              "#000019"
             ],
             [
              1,
              "#000020"
             ]
            ],
            "type": "histogram2d"
           }
          ],
          "icicle": [
           {
            "textfont": {
             "color": "white"
            },
            "type": "icicle"
           }
          ],
          "sankey": [
           {
            "textfont": {
             "color": "#000036"
            },
            "type": "sankey"
           }
          ],
          "scatter": [
           {
            "marker": {
             "line": {
              "width": 0
             }
            },
            "type": "scatter"
           }
          ],
          "table": [
           {
            "cells": {
             "fill": {
              "color": "#000038"
             },
             "font": {
              "color": "#000037"
             },
             "line": {
              "color": "#000039"
             }
            },
            "header": {
             "fill": {
              "color": "#000040"
             },
             "font": {
              "color": "#000036"
             },
             "line": {
              "color": "#000039"
             }
            },
            "type": "table"
           }
          ],
          "waterfall": [
           {
            "connector": {
             "line": {
              "color": "#000036",
              "width": 2
             }
            },
            "decreasing": {
             "marker": {
              "color": "#000033"
             }
            },
            "increasing": {
             "marker": {
              "color": "#000032"
             }
            },
            "totals": {
             "marker": {
              "color": "#000034"
             }
            },
            "type": "waterfall"
           }
          ]
         },
         "layout": {
          "coloraxis": {
           "colorscale": [
            [
             0,
             "#000011"
            ],
            [
             0.1111111111111111,
             "#000012"
            ],
            [
             0.2222222222222222,
             "#000013"
            ],
            [
             0.3333333333333333,
             "#000014"
            ],
            [
             0.4444444444444444,
             "#000015"
            ],
            [
             0.5555555555555556,
             "#000016"
            ],
            [
             0.6666666666666666,
             "#000017"
            ],
            [
             0.7777777777777778,
             "#000018"
            ],
            [
             0.8888888888888888,
             "#000019"
            ],
            [
             1,
             "#000020"
            ]
           ]
          },
          "colorscale": {
           "diverging": [
            [
             0,
             "#000021"
            ],
            [
             0.1,
             "#000022"
            ],
            [
             0.2,
             "#000023"
            ],
            [
             0.3,
             "#000024"
            ],
            [
             0.4,
             "#000025"
            ],
            [
             0.5,
             "#000026"
            ],
            [
             0.6,
             "#000027"
            ],
            [
             0.7,
             "#000028"
            ],
            [
             0.8,
             "#000029"
            ],
            [
             0.9,
             "#000030"
            ],
            [
             1,
             "#000031"
            ]
           ],
           "sequential": [
            [
             0,
             "#000011"
            ],
            [
             0.1111111111111111,
             "#000012"
            ],
            [
             0.2222222222222222,
             "#000013"
            ],
            [
             0.3333333333333333,
             "#000014"
            ],
            [
             0.4444444444444444,
             "#000015"
            ],
            [
             0.5555555555555556,
             "#000016"
            ],
            [
             0.6666666666666666,
             "#000017"
            ],
            [
             0.7777777777777778,
             "#000018"
            ],
            [
             0.8888888888888888,
             "#000019"
            ],
            [
             1,
             "#000020"
            ]
           ],
           "sequentialminus": [
            [
             0,
             "#000011"
            ],
            [
             0.1111111111111111,
             "#000012"
            ],
            [
             0.2222222222222222,
             "#000013"
            ],
            [
             0.3333333333333333,
             "#000014"
            ],
            [
             0.4444444444444444,
             "#000015"
            ],
            [
             0.5555555555555556,
             "#000016"
            ],
            [
             0.6666666666666666,
             "#000017"
            ],
            [
             0.7777777777777778,
             "#000018"
            ],
            [
             0.8888888888888888,
             "#000019"
            ],
            [
             1,
             "#000020"
            ]
           ]
          },
          "colorway": [
           "#000001",
           "#000002",
           "#000003",
           "#000004",
           "#000005",
           "#000006",
           "#000007",
           "#000008",
           "#000009",
           "#000010"
          ]
         }
        },
        "xaxis": {
         "anchor": "y",
         "domain": [
          0,
          1
         ],
         "title": {
          "text": "move_name"
         }
        },
        "yaxis": {
         "anchor": "x",
         "domain": [
          0,
          1
         ],
         "title": {
          "text": "value"
         }
        }
       }
      }
     },
     "metadata": {},
     "output_type": "display_data"
    }
   ],
   "source": [
    "# need date filtering\n",
    "by_move_name = rebalance_df.groupby(\"move_name\")[[\"safe_value_out\", \"safe_swap_cost\"]].sum()\n",
    "by_move_name[\"all_time_safe_slippage\"] = 10_000 * by_move_name[\"safe_swap_cost\"] / by_move_name[\"safe_value_out\"]\n",
    "\n",
    "px.bar(by_move_name[\"all_time_safe_slippage\"])\n",
    "\n",
    "px.scatter(by_move_name, x=\"safe_value_out\", y=\"all_time_safe_slippage\", color=by_move_name.index)"
   ]
  },
  {
   "cell_type": "code",
   "execution_count": 22,
   "metadata": {},
   "outputs": [
    {
     "data": {
      "application/vnd.plotly.v1+json": {
       "config": {
        "plotlyServerURL": "https://plot.ly"
       },
       "data": [
        {
         "hovertemplate": "move_name=autoLRT -> rsETH / ETHx<br>safe_value_out=%{x}<br>all_time_safe_slippage=%{y}<extra></extra>",
         "legendgroup": "autoLRT -> rsETH / ETHx",
         "marker": {
          "color": "#000001",
          "symbol": "circle"
         },
         "mode": "markers",
         "name": "autoLRT -> rsETH / ETHx",
         "orientation": "v",
         "showlegend": true,
         "type": "scatter",
         "x": [
          494.02996842746336
         ],
         "xaxis": "x",
         "y": [
          16.59942316263935
         ],
         "yaxis": "y"
        },
        {
         "hovertemplate": "move_name=autoLRT -> rsETH / WETH<br>safe_value_out=%{x}<br>all_time_safe_slippage=%{y}<extra></extra>",
         "legendgroup": "autoLRT -> rsETH / WETH",
         "marker": {
          "color": "#000002",
          "symbol": "circle"
         },
         "mode": "markers",
         "name": "autoLRT -> rsETH / WETH",
         "orientation": "v",
         "showlegend": true,
         "type": "scatter",
         "x": [
          1233.4833014803248
         ],
         "xaxis": "x",
         "y": [
          14.703801288488515
         ],
         "yaxis": "y"
        },
        {
         "hovertemplate": "move_name=autoLRT -> weETH/ezETH/rswETH<br>safe_value_out=%{x}<br>all_time_safe_slippage=%{y}<extra></extra>",
         "legendgroup": "autoLRT -> weETH/ezETH/rswETH",
         "marker": {
          "color": "#000003",
          "symbol": "circle"
         },
         "mode": "markers",
         "name": "autoLRT -> weETH/ezETH/rswETH",
         "orientation": "v",
         "showlegend": true,
         "type": "scatter",
         "x": [
          252.25716804494581
         ],
         "xaxis": "x",
         "y": [
          11.0522856785553
         ],
         "yaxis": "y"
        },
        {
         "hovertemplate": "move_name=autoLRT -> weETH/rETH<br>safe_value_out=%{x}<br>all_time_safe_slippage=%{y}<extra></extra>",
         "legendgroup": "autoLRT -> weETH/rETH",
         "marker": {
          "color": "#000004",
          "symbol": "circle"
         },
         "mode": "markers",
         "name": "autoLRT -> weETH/rETH",
         "orientation": "v",
         "showlegend": true,
         "type": "scatter",
         "x": [
          767.549531257602
         ],
         "xaxis": "x",
         "y": [
          7.979595647822336
         ],
         "yaxis": "y"
        },
        {
         "hovertemplate": "move_name=autoLRT -> weeth-ng<br>safe_value_out=%{x}<br>all_time_safe_slippage=%{y}<extra></extra>",
         "legendgroup": "autoLRT -> weeth-ng",
         "marker": {
          "color": "#000005",
          "symbol": "circle"
         },
         "mode": "markers",
         "name": "autoLRT -> weeth-ng",
         "orientation": "v",
         "showlegend": true,
         "type": "scatter",
         "x": [
          2967.7062839461596
         ],
         "xaxis": "x",
         "y": [
          7.43394620069695
         ],
         "yaxis": "y"
        },
        {
         "hovertemplate": "move_name=rsETH / ETHx -> autoLRT<br>safe_value_out=%{x}<br>all_time_safe_slippage=%{y}<extra></extra>",
         "legendgroup": "rsETH / ETHx -> autoLRT",
         "marker": {
          "color": "#000006",
          "symbol": "circle"
         },
         "mode": "markers",
         "name": "rsETH / ETHx -> autoLRT",
         "orientation": "v",
         "showlegend": true,
         "type": "scatter",
         "x": [
          44.354481577950025
         ],
         "xaxis": "x",
         "y": [
          5.27313703341859
         ],
         "yaxis": "y"
        },
        {
         "hovertemplate": "move_name=rsETH / ETHx -> rsETH / WETH<br>safe_value_out=%{x}<br>all_time_safe_slippage=%{y}<extra></extra>",
         "legendgroup": "rsETH / ETHx -> rsETH / WETH",
         "marker": {
          "color": "#000007",
          "symbol": "circle"
         },
         "mode": "markers",
         "name": "rsETH / ETHx -> rsETH / WETH",
         "orientation": "v",
         "showlegend": true,
         "type": "scatter",
         "x": [
          136.98832072286552
         ],
         "xaxis": "x",
         "y": [
          10.496939069520037
         ],
         "yaxis": "y"
        },
        {
         "hovertemplate": "move_name=rsETH / WETH -> autoLRT<br>safe_value_out=%{x}<br>all_time_safe_slippage=%{y}<extra></extra>",
         "legendgroup": "rsETH / WETH -> autoLRT",
         "marker": {
          "color": "#000008",
          "symbol": "circle"
         },
         "mode": "markers",
         "name": "rsETH / WETH -> autoLRT",
         "orientation": "v",
         "showlegend": true,
         "type": "scatter",
         "x": [
          10.845832215405666
         ],
         "xaxis": "x",
         "y": [
          13.26683183422973
         ],
         "yaxis": "y"
        },
        {
         "hovertemplate": "move_name=rsETH / WETH -> weETH/rETH<br>safe_value_out=%{x}<br>all_time_safe_slippage=%{y}<extra></extra>",
         "legendgroup": "rsETH / WETH -> weETH/rETH",
         "marker": {
          "color": "#000009",
          "symbol": "circle"
         },
         "mode": "markers",
         "name": "rsETH / WETH -> weETH/rETH",
         "orientation": "v",
         "showlegend": true,
         "type": "scatter",
         "x": [
          29.99968673421359
         ],
         "xaxis": "x",
         "y": [
          10.668911493431473
         ],
         "yaxis": "y"
        },
        {
         "hovertemplate": "move_name=rsETH / WETH -> weeth-ng<br>safe_value_out=%{x}<br>all_time_safe_slippage=%{y}<extra></extra>",
         "legendgroup": "rsETH / WETH -> weeth-ng",
         "marker": {
          "color": "#000010",
          "symbol": "circle"
         },
         "mode": "markers",
         "name": "rsETH / WETH -> weeth-ng",
         "orientation": "v",
         "showlegend": true,
         "type": "scatter",
         "x": [
          1279.174481582591
         ],
         "xaxis": "x",
         "y": [
          7.0329114727680055
         ],
         "yaxis": "y"
        },
        {
         "hovertemplate": "move_name=weETH/ezETH/rswETH -> autoLRT<br>safe_value_out=%{x}<br>all_time_safe_slippage=%{y}<extra></extra>",
         "legendgroup": "weETH/ezETH/rswETH -> autoLRT",
         "marker": {
          "color": "#000001",
          "symbol": "circle"
         },
         "mode": "markers",
         "name": "weETH/ezETH/rswETH -> autoLRT",
         "orientation": "v",
         "showlegend": true,
         "type": "scatter",
         "x": [
          26.87194473989338
         ],
         "xaxis": "x",
         "y": [
          4.805876365402239
         ],
         "yaxis": "y"
        },
        {
         "hovertemplate": "move_name=weETH/ezETH/rswETH -> rsETH / WETH<br>safe_value_out=%{x}<br>all_time_safe_slippage=%{y}<extra></extra>",
         "legendgroup": "weETH/ezETH/rswETH -> rsETH / WETH",
         "marker": {
          "color": "#000002",
          "symbol": "circle"
         },
         "mode": "markers",
         "name": "weETH/ezETH/rswETH -> rsETH / WETH",
         "orientation": "v",
         "showlegend": true,
         "type": "scatter",
         "x": [
          6.471641393730156
         ],
         "xaxis": "x",
         "y": [
          1.6569309315132654
         ],
         "yaxis": "y"
        },
        {
         "hovertemplate": "move_name=weETH/ezETH/rswETH -> weeth-ng<br>safe_value_out=%{x}<br>all_time_safe_slippage=%{y}<extra></extra>",
         "legendgroup": "weETH/ezETH/rswETH -> weeth-ng",
         "marker": {
          "color": "#000003",
          "symbol": "circle"
         },
         "mode": "markers",
         "name": "weETH/ezETH/rswETH -> weeth-ng",
         "orientation": "v",
         "showlegend": true,
         "type": "scatter",
         "x": [
          45.35066883956342
         ],
         "xaxis": "x",
         "y": [
          6.7384466141685495
         ],
         "yaxis": "y"
        },
        {
         "hovertemplate": "move_name=weETH/rETH -> rsETH / WETH<br>safe_value_out=%{x}<br>all_time_safe_slippage=%{y}<extra></extra>",
         "legendgroup": "weETH/rETH -> rsETH / WETH",
         "marker": {
          "color": "#000004",
          "symbol": "circle"
         },
         "mode": "markers",
         "name": "weETH/rETH -> rsETH / WETH",
         "orientation": "v",
         "showlegend": true,
         "type": "scatter",
         "x": [
          227.62246622926733
         ],
         "xaxis": "x",
         "y": [
          7.806957760541931
         ],
         "yaxis": "y"
        },
        {
         "hovertemplate": "move_name=weETH/rETH -> weETH/ezETH/rswETH<br>safe_value_out=%{x}<br>all_time_safe_slippage=%{y}<extra></extra>",
         "legendgroup": "weETH/rETH -> weETH/ezETH/rswETH",
         "marker": {
          "color": "#000005",
          "symbol": "circle"
         },
         "mode": "markers",
         "name": "weETH/rETH -> weETH/ezETH/rswETH",
         "orientation": "v",
         "showlegend": true,
         "type": "scatter",
         "x": [
          60.00672329684256
         ],
         "xaxis": "x",
         "y": [
          11.157643454404893
         ],
         "yaxis": "y"
        },
        {
         "hovertemplate": "move_name=weETH/rETH -> weeth-ng<br>safe_value_out=%{x}<br>all_time_safe_slippage=%{y}<extra></extra>",
         "legendgroup": "weETH/rETH -> weeth-ng",
         "marker": {
          "color": "#000006",
          "symbol": "circle"
         },
         "mode": "markers",
         "name": "weETH/rETH -> weeth-ng",
         "orientation": "v",
         "showlegend": true,
         "type": "scatter",
         "x": [
          335.6965687067086
         ],
         "xaxis": "x",
         "y": [
          6.67364591178172
         ],
         "yaxis": "y"
        },
        {
         "hovertemplate": "move_name=weeth-ng -> rsETH / WETH<br>safe_value_out=%{x}<br>all_time_safe_slippage=%{y}<extra></extra>",
         "legendgroup": "weeth-ng -> rsETH / WETH",
         "marker": {
          "color": "#000007",
          "symbol": "circle"
         },
         "mode": "markers",
         "name": "weeth-ng -> rsETH / WETH",
         "orientation": "v",
         "showlegend": true,
         "type": "scatter",
         "x": [
          1572.8037284844095
         ],
         "xaxis": "x",
         "y": [
          15.125815551152101
         ],
         "yaxis": "y"
        },
        {
         "hovertemplate": "move_name=weeth-ng -> weETH/rETH<br>safe_value_out=%{x}<br>all_time_safe_slippage=%{y}<extra></extra>",
         "legendgroup": "weeth-ng -> weETH/rETH",
         "marker": {
          "color": "#000008",
          "symbol": "circle"
         },
         "mode": "markers",
         "name": "weeth-ng -> weETH/rETH",
         "orientation": "v",
         "showlegend": true,
         "type": "scatter",
         "x": [
          378.6424187281183
         ],
         "xaxis": "x",
         "y": [
          6.443466696629599
         ],
         "yaxis": "y"
        }
       ],
       "layout": {
        "legend": {
         "title": {
          "text": "move_name"
         },
         "tracegroupgap": 0
        },
        "margin": {
         "t": 60
        },
        "template": {
         "data": {
          "candlestick": [
           {
            "decreasing": {
             "line": {
              "color": "#000033"
             }
            },
            "increasing": {
             "line": {
              "color": "#000032"
             }
            },
            "type": "candlestick"
           }
          ],
          "contour": [
           {
            "colorscale": [
             [
              0,
              "#000011"
             ],
             [
              0.1111111111111111,
              "#000012"
             ],
             [
              0.2222222222222222,
              "#000013"
             ],
             [
              0.3333333333333333,
              "#000014"
             ],
             [
              0.4444444444444444,
              "#000015"
             ],
             [
              0.5555555555555556,
              "#000016"
             ],
             [
              0.6666666666666666,
              "#000017"
             ],
             [
              0.7777777777777778,
              "#000018"
             ],
             [
              0.8888888888888888,
              "#000019"
             ],
             [
              1,
              "#000020"
             ]
            ],
            "type": "contour"
           }
          ],
          "contourcarpet": [
           {
            "colorscale": [
             [
              0,
              "#000011"
             ],
             [
              0.1111111111111111,
              "#000012"
             ],
             [
              0.2222222222222222,
              "#000013"
             ],
             [
              0.3333333333333333,
              "#000014"
             ],
             [
              0.4444444444444444,
              "#000015"
             ],
             [
              0.5555555555555556,
              "#000016"
             ],
             [
              0.6666666666666666,
              "#000017"
             ],
             [
              0.7777777777777778,
              "#000018"
             ],
             [
              0.8888888888888888,
              "#000019"
             ],
             [
              1,
              "#000020"
             ]
            ],
            "type": "contourcarpet"
           }
          ],
          "heatmap": [
           {
            "colorscale": [
             [
              0,
              "#000011"
             ],
             [
              0.1111111111111111,
              "#000012"
             ],
             [
              0.2222222222222222,
              "#000013"
             ],
             [
              0.3333333333333333,
              "#000014"
             ],
             [
              0.4444444444444444,
              "#000015"
             ],
             [
              0.5555555555555556,
              "#000016"
             ],
             [
              0.6666666666666666,
              "#000017"
             ],
             [
              0.7777777777777778,
              "#000018"
             ],
             [
              0.8888888888888888,
              "#000019"
             ],
             [
              1,
              "#000020"
             ]
            ],
            "type": "heatmap"
           }
          ],
          "histogram2d": [
           {
            "colorscale": [
             [
              0,
              "#000011"
             ],
             [
              0.1111111111111111,
              "#000012"
             ],
             [
              0.2222222222222222,
              "#000013"
             ],
             [
              0.3333333333333333,
              "#000014"
             ],
             [
              0.4444444444444444,
              "#000015"
             ],
             [
              0.5555555555555556,
              "#000016"
             ],
             [
              0.6666666666666666,
              "#000017"
             ],
             [
              0.7777777777777778,
              "#000018"
             ],
             [
              0.8888888888888888,
              "#000019"
             ],
             [
              1,
              "#000020"
             ]
            ],
            "type": "histogram2d"
           }
          ],
          "icicle": [
           {
            "textfont": {
             "color": "white"
            },
            "type": "icicle"
           }
          ],
          "sankey": [
           {
            "textfont": {
             "color": "#000036"
            },
            "type": "sankey"
           }
          ],
          "scatter": [
           {
            "marker": {
             "line": {
              "width": 0
             }
            },
            "type": "scatter"
           }
          ],
          "table": [
           {
            "cells": {
             "fill": {
              "color": "#000038"
             },
             "font": {
              "color": "#000037"
             },
             "line": {
              "color": "#000039"
             }
            },
            "header": {
             "fill": {
              "color": "#000040"
             },
             "font": {
              "color": "#000036"
             },
             "line": {
              "color": "#000039"
             }
            },
            "type": "table"
           }
          ],
          "waterfall": [
           {
            "connector": {
             "line": {
              "color": "#000036",
              "width": 2
             }
            },
            "decreasing": {
             "marker": {
              "color": "#000033"
             }
            },
            "increasing": {
             "marker": {
              "color": "#000032"
             }
            },
            "totals": {
             "marker": {
              "color": "#000034"
             }
            },
            "type": "waterfall"
           }
          ]
         },
         "layout": {
          "coloraxis": {
           "colorscale": [
            [
             0,
             "#000011"
            ],
            [
             0.1111111111111111,
             "#000012"
            ],
            [
             0.2222222222222222,
             "#000013"
            ],
            [
             0.3333333333333333,
             "#000014"
            ],
            [
             0.4444444444444444,
             "#000015"
            ],
            [
             0.5555555555555556,
             "#000016"
            ],
            [
             0.6666666666666666,
             "#000017"
            ],
            [
             0.7777777777777778,
             "#000018"
            ],
            [
             0.8888888888888888,
             "#000019"
            ],
            [
             1,
             "#000020"
            ]
           ]
          },
          "colorscale": {
           "diverging": [
            [
             0,
             "#000021"
            ],
            [
             0.1,
             "#000022"
            ],
            [
             0.2,
             "#000023"
            ],
            [
             0.3,
             "#000024"
            ],
            [
             0.4,
             "#000025"
            ],
            [
             0.5,
             "#000026"
            ],
            [
             0.6,
             "#000027"
            ],
            [
             0.7,
             "#000028"
            ],
            [
             0.8,
             "#000029"
            ],
            [
             0.9,
             "#000030"
            ],
            [
             1,
             "#000031"
            ]
           ],
           "sequential": [
            [
             0,
             "#000011"
            ],
            [
             0.1111111111111111,
             "#000012"
            ],
            [
             0.2222222222222222,
             "#000013"
            ],
            [
             0.3333333333333333,
             "#000014"
            ],
            [
             0.4444444444444444,
             "#000015"
            ],
            [
             0.5555555555555556,
             "#000016"
            ],
            [
             0.6666666666666666,
             "#000017"
            ],
            [
             0.7777777777777778,
             "#000018"
            ],
            [
             0.8888888888888888,
             "#000019"
            ],
            [
             1,
             "#000020"
            ]
           ],
           "sequentialminus": [
            [
             0,
             "#000011"
            ],
            [
             0.1111111111111111,
             "#000012"
            ],
            [
             0.2222222222222222,
             "#000013"
            ],
            [
             0.3333333333333333,
             "#000014"
            ],
            [
             0.4444444444444444,
             "#000015"
            ],
            [
             0.5555555555555556,
             "#000016"
            ],
            [
             0.6666666666666666,
             "#000017"
            ],
            [
             0.7777777777777778,
             "#000018"
            ],
            [
             0.8888888888888888,
             "#000019"
            ],
            [
             1,
             "#000020"
            ]
           ]
          },
          "colorway": [
           "#000001",
           "#000002",
           "#000003",
           "#000004",
           "#000005",
           "#000006",
           "#000007",
           "#000008",
           "#000009",
           "#000010"
          ]
         }
        },
        "xaxis": {
         "anchor": "y",
         "domain": [
          0,
          1
         ],
         "title": {
          "text": "safe_value_out"
         }
        },
        "yaxis": {
         "anchor": "x",
         "domain": [
          0,
          1
         ],
         "title": {
          "text": "all_time_safe_slippage"
         }
        }
       }
      }
     },
     "metadata": {},
     "output_type": "display_data"
    }
   ],
   "source": [
    "px.scatter(by_move_name, x=\"safe_value_out\", y=\"all_time_safe_slippage\", color=by_move_name.index)"
   ]
  },
  {
   "cell_type": "code",
   "execution_count": null,
   "metadata": {},
   "outputs": [],
   "source": []
  }
 ],
 "metadata": {
  "kernelspec": {
   "display_name": "mainnet-launch-FtycU18g-py3.10",
   "language": "python",
   "name": "python3"
  },
  "language_info": {
   "codemirror_mode": {
    "name": "ipython",
    "version": 3
   },
   "file_extension": ".py",
   "mimetype": "text/x-python",
   "name": "python",
   "nbconvert_exporter": "python",
   "pygments_lexer": "ipython3",
   "version": "3.10.14"
  }
 },
 "nbformat": 4,
 "nbformat_minor": 2
}
