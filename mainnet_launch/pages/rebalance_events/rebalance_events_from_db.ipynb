{
 "cells": [
  {
   "cell_type": "code",
   "execution_count": null,
   "metadata": {},
   "outputs": [
    {
     "name": "stdout",
     "output_type": "stream",
     "text": [
      "2025-05-30 09:00:35,532 INFO sqlalchemy.engine.Engine BEGIN (implicit)\n",
      "2025-05-30 09:00:35,534 INFO sqlalchemy.engine.Engine SELECT pg_catalog.pg_class.relname \n",
      "FROM pg_catalog.pg_class JOIN pg_catalog.pg_namespace ON pg_catalog.pg_namespace.oid = pg_catalog.pg_class.relnamespace \n",
      "WHERE pg_catalog.pg_class.relname = %(table_name)s AND pg_catalog.pg_class.relkind = ANY (ARRAY[%(param_1)s, %(param_2)s, %(param_3)s, %(param_4)s, %(param_5)s]) AND pg_catalog.pg_table_is_visible(pg_catalog.pg_class.oid) AND pg_catalog.pg_namespace.nspname != %(nspname_1)s\n",
      "2025-05-30 09:00:35,535 INFO sqlalchemy.engine.Engine [cached since 917s ago] {'table_name': <sqlalchemy.sql.elements.TextClause object at 0x1400ed6f0>, 'param_1': 'r', 'param_2': 'p', 'param_3': 'f', 'param_4': 'v', 'param_5': 'm', 'nspname_1': 'pg_catalog'}\n",
      "2025-05-30 09:00:35,536 INFO sqlalchemy.engine.Engine \n",
      "            SELECT *\n",
      "            FROM destinations\n",
      "            WHERE destinations.chain_id = 1\n",
      "        \n",
      "2025-05-30 09:00:35,538 INFO sqlalchemy.engine.Engine [cached since 917s ago] {}\n",
      "2025-05-30 09:00:35,971 INFO sqlalchemy.engine.Engine ROLLBACK\n",
      "2025-05-30 09:00:36,159 INFO sqlalchemy.engine.Engine BEGIN (implicit)\n",
      "2025-05-30 09:00:36,159 INFO sqlalchemy.engine.Engine SELECT pg_catalog.pg_class.relname \n",
      "FROM pg_catalog.pg_class JOIN pg_catalog.pg_namespace ON pg_catalog.pg_namespace.oid = pg_catalog.pg_class.relnamespace \n",
      "WHERE pg_catalog.pg_class.relname = %(table_name)s AND pg_catalog.pg_class.relkind = ANY (ARRAY[%(param_1)s, %(param_2)s, %(param_3)s, %(param_4)s, %(param_5)s]) AND pg_catalog.pg_table_is_visible(pg_catalog.pg_class.oid) AND pg_catalog.pg_namespace.nspname != %(nspname_1)s\n",
      "2025-05-30 09:00:36,160 INFO sqlalchemy.engine.Engine [cached since 917.7s ago] {'table_name': <sqlalchemy.sql.elements.TextClause object at 0x1400efa60>, 'param_1': 'r', 'param_2': 'p', 'param_3': 'f', 'param_4': 'v', 'param_5': 'm', 'nspname_1': 'pg_catalog'}\n",
      "2025-05-30 09:00:36,160 INFO sqlalchemy.engine.Engine \n",
      "            SELECT *\n",
      "            FROM blocks\n",
      "            WHERE blocks.chain_id = 1\n",
      "        \n",
      "2025-05-30 09:00:36,161 INFO sqlalchemy.engine.Engine [cached since 917.1s ago] {}\n",
      "2025-05-30 09:00:36,492 INFO sqlalchemy.engine.Engine ROLLBACK\n",
      "2025-05-30 09:00:36,685 INFO sqlalchemy.engine.Engine BEGIN (implicit)\n",
      "2025-05-30 09:00:36,685 INFO sqlalchemy.engine.Engine SELECT pg_catalog.pg_class.relname \n",
      "FROM pg_catalog.pg_class JOIN pg_catalog.pg_namespace ON pg_catalog.pg_namespace.oid = pg_catalog.pg_class.relnamespace \n",
      "WHERE pg_catalog.pg_class.relname = %(table_name)s AND pg_catalog.pg_class.relkind = ANY (ARRAY[%(param_1)s, %(param_2)s, %(param_3)s, %(param_4)s, %(param_5)s]) AND pg_catalog.pg_table_is_visible(pg_catalog.pg_class.oid) AND pg_catalog.pg_namespace.nspname != %(nspname_1)s\n",
      "2025-05-30 09:00:36,686 INFO sqlalchemy.engine.Engine [cached since 918.2s ago] {'table_name': <sqlalchemy.sql.elements.TextClause object at 0x127ece500>, 'param_1': 'r', 'param_2': 'p', 'param_3': 'f', 'param_4': 'v', 'param_5': 'm', 'nspname_1': 'pg_catalog'}\n",
      "2025-05-30 09:00:36,687 INFO sqlalchemy.engine.Engine \n",
      "            SELECT *\n",
      "            FROM rebalance_events\n",
      "            \n",
      "        \n",
      "2025-05-30 09:00:36,687 INFO sqlalchemy.engine.Engine [cached since 917.1s ago] {}\n",
      "2025-05-30 09:00:37,115 INFO sqlalchemy.engine.Engine ROLLBACK\n",
      "2025-05-30 09:00:37,309 INFO sqlalchemy.engine.Engine BEGIN (implicit)\n",
      "2025-05-30 09:00:37,310 INFO sqlalchemy.engine.Engine SELECT pg_catalog.pg_class.relname \n",
      "FROM pg_catalog.pg_class JOIN pg_catalog.pg_namespace ON pg_catalog.pg_namespace.oid = pg_catalog.pg_class.relnamespace \n",
      "WHERE pg_catalog.pg_class.relname = %(table_name)s AND pg_catalog.pg_class.relkind = ANY (ARRAY[%(param_1)s, %(param_2)s, %(param_3)s, %(param_4)s, %(param_5)s]) AND pg_catalog.pg_table_is_visible(pg_catalog.pg_class.oid) AND pg_catalog.pg_namespace.nspname != %(nspname_1)s\n",
      "2025-05-30 09:00:37,311 INFO sqlalchemy.engine.Engine [cached since 918.8s ago] {'table_name': <sqlalchemy.sql.elements.TextClause object at 0x127d2d660>, 'param_1': 'r', 'param_2': 'p', 'param_3': 'f', 'param_4': 'v', 'param_5': 'm', 'nspname_1': 'pg_catalog'}\n",
      "2025-05-30 09:00:37,311 INFO sqlalchemy.engine.Engine \n",
      "            SELECT *\n",
      "            FROM rebalance_plans\n",
      "            \n",
      "        \n",
      "2025-05-30 09:00:37,312 INFO sqlalchemy.engine.Engine [cached since 917.1s ago] {}\n",
      "2025-05-30 09:00:37,768 INFO sqlalchemy.engine.Engine ROLLBACK\n",
      "2025-05-30 09:00:37,966 INFO sqlalchemy.engine.Engine BEGIN (implicit)\n",
      "2025-05-30 09:00:37,968 INFO sqlalchemy.engine.Engine SELECT pg_catalog.pg_class.relname \n",
      "FROM pg_catalog.pg_class JOIN pg_catalog.pg_namespace ON pg_catalog.pg_namespace.oid = pg_catalog.pg_class.relnamespace \n",
      "WHERE pg_catalog.pg_class.relname = %(table_name)s AND pg_catalog.pg_class.relkind = ANY (ARRAY[%(param_1)s, %(param_2)s, %(param_3)s, %(param_4)s, %(param_5)s]) AND pg_catalog.pg_table_is_visible(pg_catalog.pg_class.oid) AND pg_catalog.pg_namespace.nspname != %(nspname_1)s\n",
      "2025-05-30 09:00:37,969 INFO sqlalchemy.engine.Engine [cached since 919.5s ago] {'table_name': <sqlalchemy.sql.elements.TextClause object at 0x13420cc70>, 'param_1': 'r', 'param_2': 'p', 'param_3': 'f', 'param_4': 'v', 'param_5': 'm', 'nspname_1': 'pg_catalog'}\n",
      "2025-05-30 09:00:37,970 INFO sqlalchemy.engine.Engine \n",
      "            SELECT *\n",
      "            FROM transactions\n",
      "            \n",
      "        \n",
      "2025-05-30 09:00:37,972 INFO sqlalchemy.engine.Engine [cached since 880.8s ago] {}\n",
      "2025-05-30 09:00:38,203 INFO sqlalchemy.engine.Engine ROLLBACK\n",
      "2025-05-30 09:00:38,394 INFO sqlalchemy.engine.Engine BEGIN (implicit)\n",
      "2025-05-30 09:00:38,396 INFO sqlalchemy.engine.Engine SELECT pg_catalog.pg_class.relname \n",
      "FROM pg_catalog.pg_class JOIN pg_catalog.pg_namespace ON pg_catalog.pg_namespace.oid = pg_catalog.pg_class.relnamespace \n",
      "WHERE pg_catalog.pg_class.relname = %(table_name)s AND pg_catalog.pg_class.relkind = ANY (ARRAY[%(param_1)s, %(param_2)s, %(param_3)s, %(param_4)s, %(param_5)s]) AND pg_catalog.pg_table_is_visible(pg_catalog.pg_class.oid) AND pg_catalog.pg_namespace.nspname != %(nspname_1)s\n",
      "2025-05-30 09:00:38,398 INFO sqlalchemy.engine.Engine [cached since 919.9s ago] {'table_name': <sqlalchemy.sql.elements.TextClause object at 0x13420ccd0>, 'param_1': 'r', 'param_2': 'p', 'param_3': 'f', 'param_4': 'v', 'param_5': 'm', 'nspname_1': 'pg_catalog'}\n",
      "2025-05-30 09:00:38,402 INFO sqlalchemy.engine.Engine \n",
      "            SELECT *\n",
      "            FROM destination_tokens\n",
      "            \n",
      "        \n",
      "2025-05-30 09:00:38,404 INFO sqlalchemy.engine.Engine [generated in 0.00151s] {}\n",
      "2025-05-30 09:00:38,605 INFO sqlalchemy.engine.Engine ROLLBACK\n"
     ]
    }
   ],
   "source": [
    "from mainnet_launch.database.schema.full import *\n",
    "from mainnet_launch.database.schema.postgres_operations import *\n",
    "import plotly.express as px\n",
    "\n",
    "from mainnet_launch.constants import *\n",
    "\n",
    "destinations_df = get_full_table_as_df(Destinations, where_clause=Destinations.chain_id == 1)\n",
    "blocks_df = get_full_table_as_df(Blocks, where_clause=Blocks.chain_id == 1)\n",
    "event_df = get_full_table_as_df(RebalanceEvents)\n",
    "plan_df = get_full_table_as_df(RebalancePlans)\n",
    "trasactions_df = get_full_table_as_df(Transactions)\n",
    "destination_tokens_df = get_full_table_as_df(DestinationTokens)"
   ]
  },
  {
   "cell_type": "code",
   "execution_count": null,
   "metadata": {},
   "outputs": [
    {
     "data": {
      "text/plain": [
       "{'0xE54173ba36b507fd6487D21d1d78762B03303f18': 'sUSDEsUSDS',\n",
       " '0x04ee6c666a01018a070925040ea2aF6554d051e4': 'MtEthena',\n",
       " '0xA1b9297525388BA3985413D982863f31e2A29d05': 'ECLP-wstETH-wETH',\n",
       " '0x9906eB64BA32Fb4fD3e5541ecA95e57610084d02': 'crvUSDFRAX-f',\n",
       " '0x5Ff56531f92f1e3f2bE616760F05e35caE630D91': 'wETHrETH',\n",
       " '0x41A8DFc857554aE23A4b31188a3109EA4e2377D3': 'crv2pool',\n",
       " '0x35911af1B570E26f668905595dEd133D01CD3E5a': 'dineroETH',\n",
       " '0xE0649C82BBfF3C8F5FE000CdA5062c55c051B2EE': 'sUSDEsUSDS',\n",
       " '0x8acA8accFb69adeff607431E0F25466B7b76a8Ad': 'scrvUSD',\n",
       " '0xE800e3760FC20aA98c5df6A9816147f190455AF3': 'autoLRT',\n",
       " '0x1E581AD9ef141C3037991806383B7990c1f68312': 'B-rETH-STABLE',\n",
       " '0xa767F35BF1d51f4ab7432188DfE6324934c9CCbD': 'sUSDS',\n",
       " '0xdfE3fA7027E84f59b266459C567278C79fe86f0C': 'ETHx/wstETH',\n",
       " '0x2f2CC1bf461413014741dD68481dB4a3686DAC3D': 'ezETH-WETH-BPT',\n",
       " '0xC001f23397dB71B17602Ce7D90a983Edc38DB0d1': 'ethx-f',\n",
       " '0x28109255F49f0A02BB31358B3e0b5cb7512EB4eC': 'OETH/WETH',\n",
       " '0xAd7b8dB1efEe849c67060c6b10BC7D6D3C607aa5': 'MtEthena',\n",
       " '0xE3200B14481916D35D18cDB3bA51044caa01813C': 'sUSDS',\n",
       " '0x4E12227b350E8f8fEEc41A58D36cE2fB2e2d4575': 'rsETH / WETH',\n",
       " '0x7583b1589aDD33320366A48A92794D77763FAE9e': 'crvUSDUSDT-f',\n",
       " '0x356c79Ab2B2cEFAB685004CE827146058A6c3e77': 'frxeth-ng-f',\n",
       " '0xe4433D00Cf48BFE0C672d9949F2cd2c008bffC04': 'pxsteth',\n",
       " '0xB6d68122428Dc1141467cB96791618615Ab9F746': 'rsETH / ETHx',\n",
       " '0x867991C7737Ccbb152aE5a7E6EDB05cA0670717E': 'B-rETH-STABLE',\n",
       " '0x734FE415357c9c585794892405dCD714c5Ae68c5': 'sFRAX',\n",
       " '0x2899143298FECa3a36DAfDDcddAF167f1D673254': 'ETHx/wstETH',\n",
       " '0x1416BfE53520a71553230c3FdeeEce30d5470bA7': 'weETH/ezETH/rswETH',\n",
       " '0x8cA2201BC34780f14Bca452913ecAc8e9928d4cA': 'pxETH/wETH',\n",
       " '0x5593882d517886D190F47967168D2d68D8960F48': 'pxETH/wETH',\n",
       " '0xE4545f9dBC30Ccb6Cda6930DDFd69f3D419FcB61': 'fUSDT',\n",
       " '0x5A4B544B9734930DDC587c9a2f093dC5058A4f4D': 'wstETH-WETH-BPT',\n",
       " '0x903F21CBC0cFd49817dB219Cd216325fD4132034': 'OETHCRV-f',\n",
       " '0x90300b02b162F902B9629963830BcCCdeEd71113': 'weETH/ezETH/rswETH',\n",
       " '0x3772973f8F399D74488D5cF3276C032E0afC8A6f': 'OETHCRV-f',\n",
       " '0xB84c580c005A5F633C8CF6eecAf5b0a8314EC5c4': 'pxsteth',\n",
       " '0xb6E89d23d1E33537D383622B1955EbDa135c0b5A': 'sUSDe',\n",
       " '0xE382BBd32C4E202185762eA433278f4ED9E6151E': 'pxethweth',\n",
       " '0xC099899d0278CE83976218Cbe58D01dD382dcA32': 'crvU-sUSDe',\n",
       " '0x7876F91BB22148345b3De16af9448081E9853830': 'fUSDC',\n",
       " '0x40219bBda953ca811d2D0168Dc806a96b84791d9': 'weETH/rETH',\n",
       " '0x92294A62D6D9F0FbE30Ba3B543edb1806561baD7': 'ECLP-wstETH-cbETH',\n",
       " '0x2F7e096a400ded5D02762120b39A3aA4ABA072a4': 'rsETH / ETHx',\n",
       " '0x3Ee3F7A0B244004B0678EBa98bA091eC101513Ee': 'SkySaver',\n",
       " '0x148Ca723BefeA7b021C399413b8b7426A4701500': 'weETH/rETH',\n",
       " '0x865e59D439BF7310c9BC6117E6020B8C87De4065': 'osETH/wETH-BPT',\n",
       " '0x2B08137BeABd2454AD3631DEB754F97C5c93eB78': 'wETHrETH',\n",
       " '0xbA1462f43c6f60ebD1C62735c94E428aD073E01A': 'pxethweth',\n",
       " '0x4a712BBFD80480eaEd9999DA8971B78DB2E12230': 'crvU-sUSDe',\n",
       " '0xEeEE628a00B0EDa99D1bc78a72Fa2F2Df4AdE2F4': 'crvUSDFRAX-f',\n",
       " '0x4686CEe2B3b1Da28a1db926443d5DDd674462b29': 'sFRAX',\n",
       " '0x4142e3a17391676C66DDf1285E43889F168EE237': 'osETH-waWETH',\n",
       " '0xd7900d87069C815a299bdA7aFDcd7eEe98fe4b6c': 'crvUSDe',\n",
       " '0x7fC82BAC65A6C61072eF8FA812b4c4694fd175E3': 'MtEthena',\n",
       " '0x3F55eedDe51504E6Ed0ec30E8289b4Da11EdB7F9': 'osETH-rETH',\n",
       " '0xaD70ed6A904d38acD0BbE2D922279149cFEDb190': 'frxeth-ng-f',\n",
       " '0xb949C40F18fB52747d96850696c954718168fde3': 'frxsUSDS',\n",
       " '0x2C4b73c6a4C5edB8FACA363F8e4C906475e19078': 'sDAI',\n",
       " '0xbB2d2dd491204a86ec10a1a6972F940B34fE060e': 'crv2pool',\n",
       " '0x6DcB6797b1C0442587c2ad79745ef7BB487Fc2E2': 'ECLP-wstETH-wETH',\n",
       " '0x9Fe20B75709403723610Fd2995D0f4A9e19C3514': 'crv2pool',\n",
       " '0x6D9b1cF3698Fd5f2E2F5E6344A20A4c062960bC9': 'sUSDEsUSDS',\n",
       " '0xC9b5D82652a1C8214b0971A004983d0EEeDD751C': 'weETH/ezETH/rswETH',\n",
       " '0x5c6aeb9ef0d5BbA4E6691f381003503FD0D45126': 'weeth-ng',\n",
       " '0x8E0991e398F9e2F165A2e081F404754d283aE332': 'Aave Lido wETH-wstETH',\n",
       " '0xFDa49984eb4eA4075b8b451032849347C633E94b': 'osETH/wETH-BPT',\n",
       " '0x84844d8A8a13337b31CF01DC384c74C862FCd903': 'wstETH-WETH-BPT',\n",
       " '0x0f170e37E5E0C617148517B831A49292c38c363d': 'gtUSDC',\n",
       " '0x769C6bEA7db25F4c0a52f0dB0960c42F708DBF41': 'waEthUSDC',\n",
       " '0x25cb41919d6B88e0D48108A4F5fe8FBb3744aFE1': 'wstETH-WETH-BPT',\n",
       " '0xE93f9C1f6436c7dCb3FE094E13E58742E16ae848': 'ethx-f',\n",
       " '0x777FAf85c8E5FC6f4332E56B989C5C94201A273C': 'weeth-ng',\n",
       " '0x4e48f97BaFB554F747c80E3F8F2CD947733fb481': 'Aave GHO/USDT/USDC',\n",
       " '0x6dC3ce9C57b20131347FDc9089D740DAf6eB34c5': 'balETH',\n",
       " '0xd96E943098B2AE81155e98D7DC8BeaB34C539f01': 'pxsteth',\n",
       " '0xf3ae3c74EaD129e770A864CeE291A805b170bBe0': 'B-rETH-STABLE',\n",
       " '0x65efCF2cce562DCBf07e805eEbeDeF21Dbd8Ea3D': 'crvUSDUSDC-f',\n",
       " '0x9b18801C9E95f45AD0aDD54ef2Eb4690c44d170d': 'sfrxUSD',\n",
       " '0xC4c973eDC82CB6b972C555672B4e63713C177995': 'ezETH-WETH-BPT',\n",
       " '0x87F46aa699840705F587761d9cfF290fCe1F84aE': 'frxeth-ng-f',\n",
       " '0x003aD6a060a1082B7A6F85d24dDF9E9E196B8426': 'ECLP-wstETH-wETH',\n",
       " '0xc4Eb861e7b66f593482a3D7E8adc314f6eEDA30B': 'pxETH/wETH',\n",
       " '0xf9779aEF9f77e78C857CB4A068c65CcBee25BAAc': 'rsETH / WETH',\n",
       " '0x6F628dcCD275feA4277722D177265741031E09d7': 'crvUSDUSDT-f',\n",
       " '0x84083bdcbF44960f0745dd0b794F426568D762b2': 'pxethweth',\n",
       " '0x833813b306a5bD8f372F877713D5dB5186559b3d': 'llamathena',\n",
       " '0x6a8C6ff78082a2ae494EB9291DdC7254117298Ff': 'wETHrETH',\n",
       " '0x1Ea622fa030e4a78F4CC2f305dd3c08DA3F08573': 'ethx-f',\n",
       " '0x0A2b94F6871c1D7A32Fe58E1ab5e6deA2f114E56': 'autoETH',\n",
       " '0xD6e262094FFa407068b0BEf6bdBcd16DB982b59E': 'waEthUSDT',\n",
       " '0x7677569e823D24c15050f7d3d036Ba053785066b': 'sUSDEsUSDS',\n",
       " '0x689dc7B5CE8e23061a8223E97701E9345764B8B7': 'ezETH-WETH-BPT',\n",
       " '0xc46806911906248117Bbe87aC6e2814436Ad9fbe': 'scrvUSD',\n",
       " '0x60339056EC88996e41757E05a798310E46972cca': 'rsETH / ETHx',\n",
       " '0xe6b267103A33f01bbcBbb5C247261fB3c040B387': 'sUSDe/USDC',\n",
       " '0xf0F2Eb4366AE0269022F7706A722F8795CDda0c5': 'MtEthena',\n",
       " '0xe3AE2Ab9AE8ADe1B4940dd893C9339401bEe61A1': 'ECLP-wstETH-cbETH',\n",
       " '0x66122E834Fa0E4cC1fA98D1C47F653561F7FBB04': 'SkySaver',\n",
       " '0x3F3565C5A2AA05F76830A5a51c2F32018De856A3': 'gtUSDCcore',\n",
       " '0x013D82483C968cdbB4a8384754f5a5028b85dB6d': 'osETH/wETH-BPT',\n",
       " '0x4F4bE87cFe874db2e248A787669a0D6E77f1F149': 'ECLP-wstETH-cbETH',\n",
       " '0xCADe3658eCEA14e4da22ef81BE335E9783E68848': 'sUSDe/USDC',\n",
       " '0x53C8C211350b635269e02B2C2f1077b850C657dB': 'llamathena',\n",
       " '0xB580f62dd031c63F083CBdC4f9e5C5653036cb1B': 'GHOcrvUSD',\n",
       " '0x3B2C87Ed95483059b950155a68E906d543193d5C': 'weETH/rETH',\n",
       " '0x676B34c2C2294eF070c1e9E0FCD4091Dd06393FE': 'rsETH / WETH',\n",
       " '0x5996333aDf54e3aC8C0Fc3De0fe51de0B75BC00d': 'crvUSDUSDC-f',\n",
       " '0xC064A47894349f3cc75D5edb69A2E91c0A049d4A': 'Aave GHO/USDT/USDC',\n",
       " '0x77fa99c62e746C98a7c24d0EFA2120F4eee9a993': 'sDAI',\n",
       " '0xa7569A44f348d3D70d8ad5889e50F78E33d80D35': 'autoUSD',\n",
       " '0xa345ceECCF8fe6aE33fe1D655B4806492251c2A8': 'GHOcrvUSD',\n",
       " '0x896eCc16Ab4AFfF6cE0765A5B924BaECd7Fa455a': 'osETH-rETH',\n",
       " '0x17216C32B9134343258B05807405db02BE030acd': 'weeth-ng',\n",
       " '0xC5c95fCad37E466E25e6ecA1977bbF75C0E1004a': 'steakUSDC',\n",
       " '0x49895f72fd9d0BF6BBb485C70CE38556de62b070': 'osETH-rETH',\n",
       " '0xc73aF8064EcbfcCBF687cF36a8ABaFf011eAB1fC': 'sUSDe',\n",
       " '0xfB6f99FdF12E37Bfe3c4Cf81067faB10c465fb24': 'ETHx/wstETH'}"
      ]
     },
     "execution_count": 10,
     "metadata": {},
     "output_type": "execute_result"
    }
   ],
   "source": [
    "destination_to_underlying = destinations_df.set_index(\"destination_vault_address\")[\"underlying_symbol\"].to_dict()\n",
    "destination_to_underlying"
   ]
  },
  {
   "cell_type": "code",
   "execution_count": 41,
   "metadata": {},
   "outputs": [
    {
     "name": "stderr",
     "output_type": "stream",
     "text": [
      "2025-05-30 09:17:50.934 Thread 'MainThread': missing ScriptRunContext! This warning can be ignored when running in bare mode.\n",
      "2025-05-30 09:17:50.935 Thread 'MainThread': missing ScriptRunContext! This warning can be ignored when running in bare mode.\n",
      "2025-05-30 09:17:50.936 Thread 'MainThread': missing ScriptRunContext! This warning can be ignored when running in bare mode.\n",
      "2025-05-30 09:17:50.937 Thread 'MainThread': missing ScriptRunContext! This warning can be ignored when running in bare mode.\n",
      "2025-05-30 09:17:50.937 Thread 'MainThread': missing ScriptRunContext! This warning can be ignored when running in bare mode.\n",
      "2025-05-30 09:17:50.938 Thread 'MainThread': missing ScriptRunContext! This warning can be ignored when running in bare mode.\n",
      "2025-05-30 09:17:50.939 Thread 'MainThread': missing ScriptRunContext! This warning can be ignored when running in bare mode.\n",
      "2025-05-30 09:17:50.939 Thread 'MainThread': missing ScriptRunContext! This warning can be ignored when running in bare mode.\n",
      "2025-05-30 09:17:50.940 Thread 'MainThread': missing ScriptRunContext! This warning can be ignored when running in bare mode.\n",
      "2025-05-30 09:17:50.940 Thread 'MainThread': missing ScriptRunContext! This warning can be ignored when running in bare mode.\n"
     ]
    },
    {
     "data": {
      "application/vnd.microsoft.datawrangler.viewer.v0+json": {
       "columns": [
        {
         "name": "index",
         "rawType": "int64",
         "type": "integer"
        },
        {
         "name": "destination_vault_address",
         "rawType": "object",
         "type": "string"
        },
        {
         "name": "chain_id",
         "rawType": "int64",
         "type": "integer"
        },
        {
         "name": "token_address",
         "rawType": "object",
         "type": "string"
        },
        {
         "name": "index",
         "rawType": "int64",
         "type": "integer"
        },
        {
         "name": "symbol",
         "rawType": "object",
         "type": "string"
        }
       ],
       "ref": "ab4bf372-7273-4875-9467-bb713cc8912c",
       "rows": [
        [
         "0",
         "0x04ee6c666a01018a070925040ea2aF6554d051e4",
         "1",
         "0x83F20F44975D03b1b09e64809B757c47f942BEeA",
         "0",
         "sDAI"
        ],
        [
         "1",
         "0x2f2CC1bf461413014741dD68481dB4a3686DAC3D",
         "1",
         "0xbf5495Efe5DB9ce00f80364C8B423567e58d2110",
         "0",
         "ezETH"
        ],
        [
         "2",
         "0x5Ff56531f92f1e3f2bE616760F05e35caE630D91",
         "1",
         "0xae78736Cd615f374D3085123A210448E74Fc6393",
         "1",
         "rETH"
        ],
        [
         "3",
         "0x53C8C211350b635269e02B2C2f1077b850C657dB",
         "1",
         "0x0655977FEb2f289A4aB78af67BAB0d17aAb84367",
         "0",
         "scrvUSD"
        ],
        [
         "4",
         "0x65efCF2cce562DCBf07e805eEbeDeF21Dbd8Ea3D",
         "1",
         "0xf939E0A03FB07F59A73314E73794Be0E57ac1b4E",
         "1",
         "crvUSD"
        ],
        [
         "5",
         "0x9906eB64BA32Fb4fD3e5541ecA95e57610084d02",
         "1",
         "0x853d955aCEf822Db058eb8505911ED77F175b99e",
         "0",
         "FRAX"
        ],
        [
         "6",
         "0x903F21CBC0cFd49817dB219Cd216325fD4132034",
         "1",
         "0x856c4Efb76C1D1AE02e20CEB03A2A6a08b0b8dC3",
         "1",
         "OETH"
        ],
        [
         "7",
         "0x87F46aa699840705F587761d9cfF290fCe1F84aE",
         "1",
         "0xC02aaA39b223FE8D0A0e5C4F27eAD9083C756Cc2",
         "0",
         "WETH"
        ],
        [
         "8",
         "0xdfE3fA7027E84f59b266459C567278C79fe86f0C",
         "1",
         "0x7f39C581F595B53c5cb19bD0b3f8dA6c935E2Ca0",
         "0",
         "wstETH"
        ],
        [
         "9",
         "0x3Ee3F7A0B244004B0678EBa98bA091eC101513Ee",
         "1",
         "0x0655977FEb2f289A4aB78af67BAB0d17aAb84367",
         "0",
         "scrvUSD"
        ],
        [
         "10",
         "0xE0649C82BBfF3C8F5FE000CdA5062c55c051B2EE",
         "1",
         "0x9D39A5DE30e57443BfF2A8307A4256c8797A3497",
         "0",
         "sUSDe"
        ],
        [
         "11",
         "0x92294A62D6D9F0FbE30Ba3B543edb1806561baD7",
         "1",
         "0xBe9895146f7AF43049ca1c1AE358B0541Ea49704",
         "1",
         "cbETH"
        ],
        [
         "12",
         "0x3Ee3F7A0B244004B0678EBa98bA091eC101513Ee",
         "1",
         "0xa3931d71877C0E7a3148CB7Eb4463524FEc27fbD",
         "1",
         "sUSDS"
        ],
        [
         "13",
         "0xE93f9C1f6436c7dCb3FE094E13E58742E16ae848",
         "1",
         "0xA35b1B31Ce002FBF2058D22F30f95D405200A15b",
         "1",
         "ETHx"
        ],
        [
         "14",
         "0xaD70ed6A904d38acD0BbE2D922279149cFEDb190",
         "1",
         "0xC02aaA39b223FE8D0A0e5C4F27eAD9083C756Cc2",
         "0",
         "WETH"
        ],
        [
         "15",
         "0xC064A47894349f3cc75D5edb69A2E91c0A049d4A",
         "1",
         "0xD4fa2D31b7968E448877f69A96DE69f5de8cD23E",
         "2",
         "waEthUSDC"
        ],
        [
         "16",
         "0xbB2d2dd491204a86ec10a1a6972F940B34fE060e",
         "1",
         "0xdAC17F958D2ee523a2206206994597C13D831ec7",
         "1",
         "USDT"
        ],
        [
         "17",
         "0xc4Eb861e7b66f593482a3D7E8adc314f6eEDA30B",
         "1",
         "0x04C154b66CB340F3Ae24111CC767e0184Ed00Cc6",
         "0",
         "pxETH"
        ],
        [
         "18",
         "0x84844d8A8a13337b31CF01DC384c74C862FCd903",
         "1",
         "0xC02aaA39b223FE8D0A0e5C4F27eAD9083C756Cc2",
         "1",
         "WETH"
        ],
        [
         "19",
         "0xe3AE2Ab9AE8ADe1B4940dd893C9339401bEe61A1",
         "1",
         "0xBe9895146f7AF43049ca1c1AE358B0541Ea49704",
         "1",
         "cbETH"
        ],
        [
         "20",
         "0xfB6f99FdF12E37Bfe3c4Cf81067faB10c465fb24",
         "1",
         "0xA35b1B31Ce002FBF2058D22F30f95D405200A15b",
         "1",
         "ETHx"
        ],
        [
         "21",
         "0x4F4bE87cFe874db2e248A787669a0D6E77f1F149",
         "1",
         "0x7f39C581F595B53c5cb19bD0b3f8dA6c935E2Ca0",
         "0",
         "wstETH"
        ],
        [
         "22",
         "0x903F21CBC0cFd49817dB219Cd216325fD4132034",
         "1",
         "0xC02aaA39b223FE8D0A0e5C4F27eAD9083C756Cc2",
         "0",
         "WETH"
        ],
        [
         "23",
         "0x5996333aDf54e3aC8C0Fc3De0fe51de0B75BC00d",
         "1",
         "0xf939E0A03FB07F59A73314E73794Be0E57ac1b4E",
         "1",
         "crvUSD"
        ],
        [
         "24",
         "0x3B2C87Ed95483059b950155a68E906d543193d5C",
         "1",
         "0xCd5fE23C85820F7B72D0926FC9b05b43E359b7ee",
         "1",
         "weETH"
        ],
        [
         "25",
         "0xb6E89d23d1E33537D383622B1955EbDa135c0b5A",
         "1",
         "0x9D39A5DE30e57443BfF2A8307A4256c8797A3497",
         "0",
         "sUSDe"
        ],
        [
         "26",
         "0x5593882d517886D190F47967168D2d68D8960F48",
         "1",
         "0xC02aaA39b223FE8D0A0e5C4F27eAD9083C756Cc2",
         "1",
         "WETH"
        ],
        [
         "27",
         "0xE54173ba36b507fd6487D21d1d78762B03303f18",
         "1",
         "0x9D39A5DE30e57443BfF2A8307A4256c8797A3497",
         "0",
         "sUSDe"
        ],
        [
         "28",
         "0x4142e3a17391676C66DDf1285E43889F168EE237",
         "1",
         "0xC02aaA39b223FE8D0A0e5C4F27eAD9083C756Cc2",
         "0",
         "WETH"
        ],
        [
         "29",
         "0x87F46aa699840705F587761d9cfF290fCe1F84aE",
         "1",
         "0x5E8422345238F34275888049021821E8E08CAa1f",
         "1",
         "frxETH"
        ],
        [
         "30",
         "0x3F55eedDe51504E6Ed0ec30E8289b4Da11EdB7F9",
         "1",
         "0xae78736Cd615f374D3085123A210448E74Fc6393",
         "1",
         "rETH"
        ],
        [
         "31",
         "0xC064A47894349f3cc75D5edb69A2E91c0A049d4A",
         "1",
         "0x7Bc3485026Ac48b6cf9BaF0A377477Fff5703Af8",
         "0",
         "waEthUSDT"
        ],
        [
         "32",
         "0xB84c580c005A5F633C8CF6eecAf5b0a8314EC5c4",
         "1",
         "0x04C154b66CB340F3Ae24111CC767e0184Ed00Cc6",
         "0",
         "pxETH"
        ],
        [
         "33",
         "0x0f170e37E5E0C617148517B831A49292c38c363d",
         "1",
         "0xA0b86991c6218b36c1d19D4a2e9Eb0cE3606eB48",
         "0",
         "USDC"
        ],
        [
         "34",
         "0x4a712BBFD80480eaEd9999DA8971B78DB2E12230",
         "1",
         "0x9D39A5DE30e57443BfF2A8307A4256c8797A3497",
         "1",
         "sUSDe"
        ],
        [
         "35",
         "0x7677569e823D24c15050f7d3d036Ba053785066b",
         "1",
         "0x9D39A5DE30e57443BfF2A8307A4256c8797A3497",
         "0",
         "sUSDe"
        ],
        [
         "36",
         "0xC9b5D82652a1C8214b0971A004983d0EEeDD751C",
         "1",
         "0xbf5495Efe5DB9ce00f80364C8B423567e58d2110",
         "0",
         "ezETH"
        ],
        [
         "37",
         "0x3B2C87Ed95483059b950155a68E906d543193d5C",
         "1",
         "0xae78736Cd615f374D3085123A210448E74Fc6393",
         "0",
         "rETH"
        ],
        [
         "38",
         "0x5c6aeb9ef0d5BbA4E6691f381003503FD0D45126",
         "1",
         "0xC02aaA39b223FE8D0A0e5C4F27eAD9083C756Cc2",
         "0",
         "WETH"
        ],
        [
         "39",
         "0x8E0991e398F9e2F165A2e081F404754d283aE332",
         "1",
         "0xC02aaA39b223FE8D0A0e5C4F27eAD9083C756Cc2",
         "0",
         "WETH"
        ],
        [
         "40",
         "0x6F628dcCD275feA4277722D177265741031E09d7",
         "1",
         "0xf939E0A03FB07F59A73314E73794Be0E57ac1b4E",
         "1",
         "crvUSD"
        ],
        [
         "41",
         "0x865e59D439BF7310c9BC6117E6020B8C87De4065",
         "1",
         "0xf1C9acDc66974dFB6dEcB12aA385b9cD01190E38",
         "1",
         "osETH"
        ],
        [
         "42",
         "0xC5c95fCad37E466E25e6ecA1977bbF75C0E1004a",
         "1",
         "0xA0b86991c6218b36c1d19D4a2e9Eb0cE3606eB48",
         "0",
         "USDC"
        ],
        [
         "43",
         "0x40219bBda953ca811d2D0168Dc806a96b84791d9",
         "1",
         "0xae78736Cd615f374D3085123A210448E74Fc6393",
         "0",
         "rETH"
        ],
        [
         "44",
         "0x734FE415357c9c585794892405dCD714c5Ae68c5",
         "1",
         "0xA663B02CF0a4b149d2aD41910CB81e23e1c41c32",
         "0",
         "sFRAX"
        ],
        [
         "45",
         "0x2f2CC1bf461413014741dD68481dB4a3686DAC3D",
         "1",
         "0xC02aaA39b223FE8D0A0e5C4F27eAD9083C756Cc2",
         "1",
         "WETH"
        ],
        [
         "46",
         "0x3F3565C5A2AA05F76830A5a51c2F32018De856A3",
         "1",
         "0xA0b86991c6218b36c1d19D4a2e9Eb0cE3606eB48",
         "0",
         "USDC"
        ],
        [
         "47",
         "0xD6e262094FFa407068b0BEf6bdBcd16DB982b59E",
         "1",
         "0xdAC17F958D2ee523a2206206994597C13D831ec7",
         "0",
         "USDT"
        ],
        [
         "48",
         "0xB84c580c005A5F633C8CF6eecAf5b0a8314EC5c4",
         "1",
         "0xae7ab96520DE3A18E5e111B5EaAb095312D7fE84",
         "1",
         "stETH"
        ],
        [
         "49",
         "0x003aD6a060a1082B7A6F85d24dDF9E9E196B8426",
         "1",
         "0x7f39C581F595B53c5cb19bD0b3f8dA6c935E2Ca0",
         "0",
         "wstETH"
        ]
       ],
       "shape": {
        "columns": 5,
        "rows": 229
       }
      },
      "text/html": [
       "<div>\n",
       "<style scoped>\n",
       "    .dataframe tbody tr th:only-of-type {\n",
       "        vertical-align: middle;\n",
       "    }\n",
       "\n",
       "    .dataframe tbody tr th {\n",
       "        vertical-align: top;\n",
       "    }\n",
       "\n",
       "    .dataframe thead th {\n",
       "        text-align: right;\n",
       "    }\n",
       "</style>\n",
       "<table border=\"1\" class=\"dataframe\">\n",
       "  <thead>\n",
       "    <tr style=\"text-align: right;\">\n",
       "      <th></th>\n",
       "      <th>destination_vault_address</th>\n",
       "      <th>chain_id</th>\n",
       "      <th>token_address</th>\n",
       "      <th>index</th>\n",
       "      <th>symbol</th>\n",
       "    </tr>\n",
       "  </thead>\n",
       "  <tbody>\n",
       "    <tr>\n",
       "      <th>0</th>\n",
       "      <td>0x04ee6c666a01018a070925040ea2aF6554d051e4</td>\n",
       "      <td>1</td>\n",
       "      <td>0x83F20F44975D03b1b09e64809B757c47f942BEeA</td>\n",
       "      <td>0</td>\n",
       "      <td>sDAI</td>\n",
       "    </tr>\n",
       "    <tr>\n",
       "      <th>1</th>\n",
       "      <td>0x2f2CC1bf461413014741dD68481dB4a3686DAC3D</td>\n",
       "      <td>1</td>\n",
       "      <td>0xbf5495Efe5DB9ce00f80364C8B423567e58d2110</td>\n",
       "      <td>0</td>\n",
       "      <td>ezETH</td>\n",
       "    </tr>\n",
       "    <tr>\n",
       "      <th>2</th>\n",
       "      <td>0x5Ff56531f92f1e3f2bE616760F05e35caE630D91</td>\n",
       "      <td>1</td>\n",
       "      <td>0xae78736Cd615f374D3085123A210448E74Fc6393</td>\n",
       "      <td>1</td>\n",
       "      <td>rETH</td>\n",
       "    </tr>\n",
       "    <tr>\n",
       "      <th>3</th>\n",
       "      <td>0x53C8C211350b635269e02B2C2f1077b850C657dB</td>\n",
       "      <td>1</td>\n",
       "      <td>0x0655977FEb2f289A4aB78af67BAB0d17aAb84367</td>\n",
       "      <td>0</td>\n",
       "      <td>scrvUSD</td>\n",
       "    </tr>\n",
       "    <tr>\n",
       "      <th>4</th>\n",
       "      <td>0x65efCF2cce562DCBf07e805eEbeDeF21Dbd8Ea3D</td>\n",
       "      <td>1</td>\n",
       "      <td>0xf939E0A03FB07F59A73314E73794Be0E57ac1b4E</td>\n",
       "      <td>1</td>\n",
       "      <td>crvUSD</td>\n",
       "    </tr>\n",
       "    <tr>\n",
       "      <th>...</th>\n",
       "      <td>...</td>\n",
       "      <td>...</td>\n",
       "      <td>...</td>\n",
       "      <td>...</td>\n",
       "      <td>...</td>\n",
       "    </tr>\n",
       "    <tr>\n",
       "      <th>224</th>\n",
       "      <td>0xBd137c56f3116E5c36753037a784FF844F84F59c</td>\n",
       "      <td>8453</td>\n",
       "      <td>0x2Ae3F1Ec7F1F5012CFEab0185bfc7aa3cf0DEc22</td>\n",
       "      <td>0</td>\n",
       "      <td>cbETH</td>\n",
       "    </tr>\n",
       "    <tr>\n",
       "      <th>225</th>\n",
       "      <td>0xb3723E69D6e4553239d7dAf514bF8ff7998500E0</td>\n",
       "      <td>8453</td>\n",
       "      <td>0x04C0599Ae5A44757c0af6F9eC3b93da8976c150A</td>\n",
       "      <td>0</td>\n",
       "      <td>weETH</td>\n",
       "    </tr>\n",
       "    <tr>\n",
       "      <th>226</th>\n",
       "      <td>0xb3723E69D6e4553239d7dAf514bF8ff7998500E0</td>\n",
       "      <td>8453</td>\n",
       "      <td>0x4200000000000000000000000000000000000006</td>\n",
       "      <td>1</td>\n",
       "      <td>WETH</td>\n",
       "    </tr>\n",
       "    <tr>\n",
       "      <th>227</th>\n",
       "      <td>0x58C2233399B85b53C5506f78eAaae9b0DBA1eD3E</td>\n",
       "      <td>8453</td>\n",
       "      <td>0x4200000000000000000000000000000000000006</td>\n",
       "      <td>0</td>\n",
       "      <td>WETH</td>\n",
       "    </tr>\n",
       "    <tr>\n",
       "      <th>228</th>\n",
       "      <td>0xa6EFB95B7393cB419B48A933273F49b6bb48dd5D</td>\n",
       "      <td>8453</td>\n",
       "      <td>0x4200000000000000000000000000000000000006</td>\n",
       "      <td>0</td>\n",
       "      <td>WETH</td>\n",
       "    </tr>\n",
       "  </tbody>\n",
       "</table>\n",
       "<p>229 rows × 5 columns</p>\n",
       "</div>"
      ],
      "text/plain": [
       "                      destination_vault_address  chain_id  \\\n",
       "0    0x04ee6c666a01018a070925040ea2aF6554d051e4         1   \n",
       "1    0x2f2CC1bf461413014741dD68481dB4a3686DAC3D         1   \n",
       "2    0x5Ff56531f92f1e3f2bE616760F05e35caE630D91         1   \n",
       "3    0x53C8C211350b635269e02B2C2f1077b850C657dB         1   \n",
       "4    0x65efCF2cce562DCBf07e805eEbeDeF21Dbd8Ea3D         1   \n",
       "..                                          ...       ...   \n",
       "224  0xBd137c56f3116E5c36753037a784FF844F84F59c      8453   \n",
       "225  0xb3723E69D6e4553239d7dAf514bF8ff7998500E0      8453   \n",
       "226  0xb3723E69D6e4553239d7dAf514bF8ff7998500E0      8453   \n",
       "227  0x58C2233399B85b53C5506f78eAaae9b0DBA1eD3E      8453   \n",
       "228  0xa6EFB95B7393cB419B48A933273F49b6bb48dd5D      8453   \n",
       "\n",
       "                                  token_address  index   symbol  \n",
       "0    0x83F20F44975D03b1b09e64809B757c47f942BEeA      0     sDAI  \n",
       "1    0xbf5495Efe5DB9ce00f80364C8B423567e58d2110      0    ezETH  \n",
       "2    0xae78736Cd615f374D3085123A210448E74Fc6393      1     rETH  \n",
       "3    0x0655977FEb2f289A4aB78af67BAB0d17aAb84367      0  scrvUSD  \n",
       "4    0xf939E0A03FB07F59A73314E73794Be0E57ac1b4E      1   crvUSD  \n",
       "..                                          ...    ...      ...  \n",
       "224  0x2Ae3F1Ec7F1F5012CFEab0185bfc7aa3cf0DEc22      0    cbETH  \n",
       "225  0x04C0599Ae5A44757c0af6F9eC3b93da8976c150A      0    weETH  \n",
       "226  0x4200000000000000000000000000000000000006      1     WETH  \n",
       "227  0x4200000000000000000000000000000000000006      0     WETH  \n",
       "228  0x4200000000000000000000000000000000000006      0     WETH  \n",
       "\n",
       "[229 rows x 5 columns]"
      ]
     },
     "execution_count": 41,
     "metadata": {},
     "output_type": "execute_result"
    }
   ],
   "source": [
    "rebalance_df = merge_tables_as_df(\n",
    "    selectors=[\n",
    "        TableSelector(\n",
    "            RebalanceEvents,\n",
    "        ),\n",
    "        TableSelector(Transactions, join_on=(Transactions.tx_hash == RebalanceEvents.tx_hash)),\n",
    "        TableSelector(\n",
    "            Blocks,\n",
    "            [Blocks.datetime],\n",
    "            (Transactions.block == Blocks.block) & (Transactions.chain_id == Blocks.chain_id),\n",
    "        ),\n",
    "    ],\n",
    "    where_clause=(RebalanceEvents.autopool_vault_address == AUTO_USD.autopool_eth_addr),\n",
    "    order_by=Blocks.datetime,\n",
    ")\n",
    "\n",
    "tokens_df = merge_tables_as_df(\n",
    "    [\n",
    "        TableSelector(\n",
    "            DestinationTokens,\n",
    "        ),\n",
    "        TableSelector(\n",
    "            table=Tokens,\n",
    "            select_fields=[Tokens.symbol],\n",
    "            join_on=(DestinationTokens.token_address == Tokens.token_address),\n",
    "        ),\n",
    "    ],\n",
    ")\n",
    "\n",
    "\n",
    "tokens_df"
   ]
  },
  {
   "cell_type": "code",
   "execution_count": null,
   "metadata": {},
   "outputs": [],
   "source": []
  },
  {
   "cell_type": "code",
   "execution_count": 65,
   "metadata": {},
   "outputs": [
    {
     "data": {
      "application/vnd.plotly.v1+json": {
       "config": {
        "plotlyServerURL": "https://plot.ly"
       },
       "data": [
        {
         "alignmentgroup": "True",
         "hovertemplate": "variable=spot_swap_cost<br>move_name=%{x}<br>value=%{y}<extra></extra>",
         "legendgroup": "spot_swap_cost",
         "marker": {
          "color": "#000001",
          "pattern": {
           "shape": ""
          }
         },
         "name": "spot_swap_cost",
         "offsetgroup": "spot_swap_cost",
         "orientation": "v",
         "showlegend": true,
         "textposition": "auto",
         "type": "bar",
         "x": [
          "autoUSD -> crv2pool",
          "autoUSD -> crvUSDUSDT-f",
          "autoUSD -> fUSDT",
          "autoUSD -> frxsUSDS",
          "autoUSD -> crvUSDe",
          "autoUSD -> GHOcrvUSD",
          "autoUSD -> SkySaver",
          "fUSDC -> frxsUSDS",
          "fUSDC -> GHOcrvUSD",
          "fUSDT -> frxsUSDS",
          "crvUSDe -> frxsUSDS",
          "autoUSD -> crvU-sUSDe",
          "fUSDT -> GHOcrvUSD",
          "crv2pool -> frxsUSDS",
          "fUSDT -> sUSDe/USDC",
          "gtUSDC -> GHOcrvUSD",
          "fUSDT -> SkySaver",
          "fUSDT -> fUSDC",
          "steakUSDC -> GHOcrvUSD",
          "fUSDT -> crvUSDUSDC-f",
          "waEthUSDT -> crvU-sUSDe",
          "waEthUSDT -> SkySaver",
          "frxsUSDS -> sUSDEsUSDS",
          "gtUSDC -> SkySaver",
          "crv2pool -> crvUSDe",
          "crv2pool -> crvU-sUSDe",
          "sUSDe/USDC -> frxsUSDS",
          "fUSDT -> crvU-sUSDe",
          "crvUSDUSDT-f -> crvUSDe",
          "autoUSD -> waEthUSDT",
          "sUSDe -> autoUSD",
          "crvUSDUSDT-f -> autoUSD",
          "gtUSDCcore -> fUSDC",
          "crv2pool -> fUSDC",
          "autoUSD -> steakUSDC",
          "sUSDe/USDC -> fUSDC",
          "steakUSDC -> fUSDC",
          "autoUSD -> gtUSDCcore",
          "crv2pool -> crvUSDUSDC-f",
          "fUSDC -> gtUSDCcore",
          "autoUSD -> gtUSDC",
          "gtUSDC -> fUSDC",
          "crvUSDUSDT-f -> fUSDC",
          "fUSDT -> crvUSDUSDT-f",
          "crvUSDe -> crvUSDUSDC-f",
          "crv2pool -> waEthUSDT",
          "steakUSDC -> crvUSDUSDC-f",
          "fUSDC -> crvUSDUSDC-f",
          "autoUSD -> crvUSDUSDC-f",
          "autoUSD -> fUSDC"
         ],
         "xaxis": "x",
         "y": [
          -2712.967523289559,
          -2081.4963898220685,
          -2051.1333913137823,
          -1195.388386360577,
          -1090.0894634094157,
          -852.5095353632132,
          -742.9034101981742,
          -731.4543541810708,
          -329.71946538914926,
          -290.36625662460574,
          -276.1362304711074,
          -239.01051013684264,
          -217.45288760619587,
          -174.49829419434536,
          -130.91323404412833,
          -113.83935371873667,
          -100.8225229831005,
          -82.16310720003094,
          -75.95142423085053,
          -66.80571471716394,
          -49.81772444474336,
          -28.348254503129283,
          -26.781622062131646,
          -20.7178128229134,
          -17.59931498104561,
          -16.126751733303536,
          -15.85857080668211,
          -7.141250757005764,
          -5.417235905304551,
          -1.5839985408019857,
          -0.05889755159270749,
          -0.025546463592419855,
          -0.02199829337769188,
          3.004998661883292,
          5.7789200419792905,
          7.359825459876447,
          9.555657952078036,
          25.470292406331282,
          27.238062970136525,
          33.64683560683625,
          34.89025320005749,
          57.39992071353481,
          61.97850509604905,
          69.79076530254679,
          73.20845291233854,
          125.16291090805316,
          137.0631294848472,
          323.75888777323416,
          561.9030422183059,
          2937.3674565915717
         ],
         "yaxis": "y"
        }
       ],
       "layout": {
        "barmode": "relative",
        "height": 600,
        "legend": {
         "title": {
          "text": "variable"
         },
         "tracegroupgap": 0
        },
        "margin": {
         "b": 150,
         "l": 50,
         "r": 50,
         "t": 50
        },
        "template": {
         "data": {
          "candlestick": [
           {
            "decreasing": {
             "line": {
              "color": "#000033"
             }
            },
            "increasing": {
             "line": {
              "color": "#000032"
             }
            },
            "type": "candlestick"
           }
          ],
          "contour": [
           {
            "colorscale": [
             [
              0,
              "#000011"
             ],
             [
              0.1111111111111111,
              "#000012"
             ],
             [
              0.2222222222222222,
              "#000013"
             ],
             [
              0.3333333333333333,
              "#000014"
             ],
             [
              0.4444444444444444,
              "#000015"
             ],
             [
              0.5555555555555556,
              "#000016"
             ],
             [
              0.6666666666666666,
              "#000017"
             ],
             [
              0.7777777777777778,
              "#000018"
             ],
             [
              0.8888888888888888,
              "#000019"
             ],
             [
              1,
              "#000020"
             ]
            ],
            "type": "contour"
           }
          ],
          "contourcarpet": [
           {
            "colorscale": [
             [
              0,
              "#000011"
             ],
             [
              0.1111111111111111,
              "#000012"
             ],
             [
              0.2222222222222222,
              "#000013"
             ],
             [
              0.3333333333333333,
              "#000014"
             ],
             [
              0.4444444444444444,
              "#000015"
             ],
             [
              0.5555555555555556,
              "#000016"
             ],
             [
              0.6666666666666666,
              "#000017"
             ],
             [
              0.7777777777777778,
              "#000018"
             ],
             [
              0.8888888888888888,
              "#000019"
             ],
             [
              1,
              "#000020"
             ]
            ],
            "type": "contourcarpet"
           }
          ],
          "heatmap": [
           {
            "colorscale": [
             [
              0,
              "#000011"
             ],
             [
              0.1111111111111111,
              "#000012"
             ],
             [
              0.2222222222222222,
              "#000013"
             ],
             [
              0.3333333333333333,
              "#000014"
             ],
             [
              0.4444444444444444,
              "#000015"
             ],
             [
              0.5555555555555556,
              "#000016"
             ],
             [
              0.6666666666666666,
              "#000017"
             ],
             [
              0.7777777777777778,
              "#000018"
             ],
             [
              0.8888888888888888,
              "#000019"
             ],
             [
              1,
              "#000020"
             ]
            ],
            "type": "heatmap"
           }
          ],
          "histogram2d": [
           {
            "colorscale": [
             [
              0,
              "#000011"
             ],
             [
              0.1111111111111111,
              "#000012"
             ],
             [
              0.2222222222222222,
              "#000013"
             ],
             [
              0.3333333333333333,
              "#000014"
             ],
             [
              0.4444444444444444,
              "#000015"
             ],
             [
              0.5555555555555556,
              "#000016"
             ],
             [
              0.6666666666666666,
              "#000017"
             ],
             [
              0.7777777777777778,
              "#000018"
             ],
             [
              0.8888888888888888,
              "#000019"
             ],
             [
              1,
              "#000020"
             ]
            ],
            "type": "histogram2d"
           }
          ],
          "icicle": [
           {
            "textfont": {
             "color": "white"
            },
            "type": "icicle"
           }
          ],
          "sankey": [
           {
            "textfont": {
             "color": "#000036"
            },
            "type": "sankey"
           }
          ],
          "scatter": [
           {
            "marker": {
             "line": {
              "width": 0
             }
            },
            "type": "scatter"
           }
          ],
          "table": [
           {
            "cells": {
             "fill": {
              "color": "#000038"
             },
             "font": {
              "color": "#000037"
             },
             "line": {
              "color": "#000039"
             }
            },
            "header": {
             "fill": {
              "color": "#000040"
             },
             "font": {
              "color": "#000036"
             },
             "line": {
              "color": "#000039"
             }
            },
            "type": "table"
           }
          ],
          "waterfall": [
           {
            "connector": {
             "line": {
              "color": "#000036",
              "width": 2
             }
            },
            "decreasing": {
             "marker": {
              "color": "#000033"
             }
            },
            "increasing": {
             "marker": {
              "color": "#000032"
             }
            },
            "totals": {
             "marker": {
              "color": "#000034"
             }
            },
            "type": "waterfall"
           }
          ]
         },
         "layout": {
          "coloraxis": {
           "colorscale": [
            [
             0,
             "#000011"
            ],
            [
             0.1111111111111111,
             "#000012"
            ],
            [
             0.2222222222222222,
             "#000013"
            ],
            [
             0.3333333333333333,
             "#000014"
            ],
            [
             0.4444444444444444,
             "#000015"
            ],
            [
             0.5555555555555556,
             "#000016"
            ],
            [
             0.6666666666666666,
             "#000017"
            ],
            [
             0.7777777777777778,
             "#000018"
            ],
            [
             0.8888888888888888,
             "#000019"
            ],
            [
             1,
             "#000020"
            ]
           ]
          },
          "colorscale": {
           "diverging": [
            [
             0,
             "#000021"
            ],
            [
             0.1,
             "#000022"
            ],
            [
             0.2,
             "#000023"
            ],
            [
             0.3,
             "#000024"
            ],
            [
             0.4,
             "#000025"
            ],
            [
             0.5,
             "#000026"
            ],
            [
             0.6,
             "#000027"
            ],
            [
             0.7,
             "#000028"
            ],
            [
             0.8,
             "#000029"
            ],
            [
             0.9,
             "#000030"
            ],
            [
             1,
             "#000031"
            ]
           ],
           "sequential": [
            [
             0,
             "#000011"
            ],
            [
             0.1111111111111111,
             "#000012"
            ],
            [
             0.2222222222222222,
             "#000013"
            ],
            [
             0.3333333333333333,
             "#000014"
            ],
            [
             0.4444444444444444,
             "#000015"
            ],
            [
             0.5555555555555556,
             "#000016"
            ],
            [
             0.6666666666666666,
             "#000017"
            ],
            [
             0.7777777777777778,
             "#000018"
            ],
            [
             0.8888888888888888,
             "#000019"
            ],
            [
             1,
             "#000020"
            ]
           ],
           "sequentialminus": [
            [
             0,
             "#000011"
            ],
            [
             0.1111111111111111,
             "#000012"
            ],
            [
             0.2222222222222222,
             "#000013"
            ],
            [
             0.3333333333333333,
             "#000014"
            ],
            [
             0.4444444444444444,
             "#000015"
            ],
            [
             0.5555555555555556,
             "#000016"
            ],
            [
             0.6666666666666666,
             "#000017"
            ],
            [
             0.7777777777777778,
             "#000018"
            ],
            [
             0.8888888888888888,
             "#000019"
            ],
            [
             1,
             "#000020"
            ]
           ]
          },
          "colorway": [
           "#000001",
           "#000002",
           "#000003",
           "#000004",
           "#000005",
           "#000006",
           "#000007",
           "#000008",
           "#000009",
           "#000010"
          ]
         }
        },
        "xaxis": {
         "anchor": "y",
         "domain": [
          0,
          1
         ],
         "tickangle": -75,
         "title": {
          "text": "move_name"
         }
        },
        "yaxis": {
         "anchor": "x",
         "domain": [
          0,
          1
         ],
         "title": {
          "text": "value"
         }
        }
       }
      }
     },
     "metadata": {},
     "output_type": "display_data"
    }
   ],
   "source": [
    "destination_to_underlying = destinations_df.set_index(\"destination_vault_address\")[\"underlying_symbol\"].to_dict()\n",
    "\n",
    "rebalance_df[\"destination_in_symbol\"] = rebalance_df[\"destination_in\"].map(destination_to_underlying)\n",
    "rebalance_df[\"destination_out_symbol\"] = rebalance_df[\"destination_out\"].map(destination_to_underlying)\n",
    "rebalance_df[\"move_name\"] = rebalance_df[\"destination_out_symbol\"] + \" -> \" + rebalance_df[\"destination_in_symbol\"]\n",
    "\n",
    "\n",
    "destination_token_address_to_symbols = (\n",
    "    tokens_df.groupby(\"destination_vault_address\")[\"symbol\"].apply(tuple).apply(str).to_dict()\n",
    ")\n",
    "rebalance_df[\"destination_in_tokens\"] = rebalance_df[\"destination_in\"].map(destination_token_address_to_symbols)\n",
    "rebalance_df[\"destination_out_tokens\"] = rebalance_df[\"destination_out\"].map(destination_token_address_to_symbols)\n",
    "rebalance_df[\"tokens_move_name\"] = (\n",
    "    rebalance_df[\"destination_out_tokens\"] + \" -> \" + rebalance_df[\"destination_in_tokens\"]\n",
    ")\n",
    "\n",
    "\n",
    "rebalance_df[\"spot_swap_cost\"] = rebalance_df[\"spot_value_in\"] - rebalance_df[\"spot_value_out\"]\n",
    "rebalance_df[\"slippage_bps\"] = 10_000 * rebalance_df[\"spot_swap_cost\"] / rebalance_df[\"spot_value_out\"]\n",
    "\n",
    "\n",
    "fig = px.bar(\n",
    "    rebalance_df.groupby(\"move_name\")[\"spot_swap_cost\"].sum().sort_values(),\n",
    "    height=800,\n",
    ")\n",
    "\n",
    "fig.update_layout(\n",
    "    height=600, margin=dict(t=50, b=150, l=50, r=50), xaxis_tickangle=-75  # tilt labels so they fit better\n",
    ")"
   ]
  },
  {
   "cell_type": "code",
   "execution_count": 66,
   "metadata": {},
   "outputs": [
    {
     "data": {
      "application/vnd.plotly.v1+json": {
       "config": {
        "plotlyServerURL": "https://plot.ly"
       },
       "data": [
        {
         "alignmentgroup": "True",
         "hovertemplate": "variable=spot_value_out<br>move_name=%{x}<br>value=%{y}<extra></extra>",
         "legendgroup": "spot_value_out",
         "marker": {
          "color": "#000001",
          "pattern": {
           "shape": ""
          }
         },
         "name": "spot_value_out",
         "offsetgroup": "spot_value_out",
         "orientation": "v",
         "showlegend": true,
         "textposition": "auto",
         "type": "bar",
         "x": [
          "crvUSDUSDT-f -> autoUSD",
          "sUSDe -> autoUSD",
          "steakUSDC -> crvUSDUSDC-f",
          "autoUSD -> waEthUSDT",
          "crvUSDUSDT-f -> crvUSDe",
          "crv2pool -> crvUSDe",
          "sUSDe/USDC -> frxsUSDS",
          "waEthUSDT -> SkySaver",
          "sUSDe/USDC -> fUSDC",
          "gtUSDC -> SkySaver",
          "crvUSDe -> crvUSDUSDC-f",
          "frxsUSDS -> sUSDEsUSDS",
          "gtUSDC -> fUSDC",
          "autoUSD -> gtUSDCcore",
          "fUSDC -> crvUSDUSDC-f",
          "fUSDT -> fUSDC",
          "fUSDT -> sUSDe/USDC",
          "fUSDT -> crvU-sUSDe",
          "fUSDT -> crvUSDUSDC-f",
          "crv2pool -> crvUSDUSDC-f",
          "waEthUSDT -> crvU-sUSDe",
          "steakUSDC -> GHOcrvUSD",
          "steakUSDC -> fUSDC",
          "crv2pool -> fUSDC",
          "crv2pool -> waEthUSDT",
          "crv2pool -> frxsUSDS",
          "crv2pool -> crvU-sUSDe",
          "fUSDT -> GHOcrvUSD",
          "fUSDT -> crvUSDUSDT-f",
          "fUSDT -> SkySaver",
          "gtUSDC -> GHOcrvUSD",
          "autoUSD -> steakUSDC",
          "crvUSDUSDT-f -> fUSDC",
          "fUSDC -> gtUSDCcore",
          "gtUSDCcore -> fUSDC",
          "autoUSD -> gtUSDC",
          "fUSDC -> GHOcrvUSD",
          "fUSDT -> frxsUSDS",
          "crvUSDe -> frxsUSDS",
          "autoUSD -> crvU-sUSDe",
          "fUSDC -> frxsUSDS",
          "autoUSD -> crvUSDe",
          "autoUSD -> GHOcrvUSD",
          "autoUSD -> crvUSDUSDC-f",
          "autoUSD -> SkySaver",
          "autoUSD -> frxsUSDS",
          "autoUSD -> crvUSDUSDT-f",
          "autoUSD -> fUSDT",
          "autoUSD -> crv2pool",
          "autoUSD -> fUSDC"
         ],
         "xaxis": "x",
         "y": [
          0.00017524532391795637,
          0.00017539843994114404,
          0.009531722284916666,
          0.038247833120115496,
          0.052362863849834636,
          0.11228046037731589,
          0.12269523362759183,
          0.12269601998453737,
          0.1363276099610831,
          0.14898802426837085,
          0.1752800285510245,
          0.1752800285510245,
          0.25075912258876853,
          0.2627037383320234,
          0.26292004282483816,
          0.2629200428252098,
          0.2629200428252472,
          0.26292004282525805,
          0.26292004282635656,
          0.2629200428265368,
          0.26646093881370136,
          0.2979760485367417,
          0.30115367444014135,
          0.350560057102049,
          0.350560057102049,
          0.35056005710204907,
          0.4382000713775614,
          0.5258400856500023,
          0.5258400856513965,
          0.5258403153955014,
          0.5447870748554668,
          0.6086120164081532,
          0.7011214924971756,
          0.7062707662776625,
          0.969102170389454,
          0.9795888434227104,
          1.5775207151211432,
          1.9215901442491683,
          1.9280881415061104,
          2.3512527385542232,
          2.4539300127511035,
          3.2605618307102184,
          3.449177417498662,
          3.9540282452976467,
          4.696043988240176,
          7.053938529260384,
          7.99786117482832,
          9.720144998919563,
          11.59522002813396,
          26.413144693693596
         ],
         "yaxis": "y"
        }
       ],
       "layout": {
        "barmode": "relative",
        "height": 600,
        "legend": {
         "title": {
          "text": "variable"
         },
         "tracegroupgap": 0
        },
        "margin": {
         "b": 250,
         "l": 50,
         "r": 50,
         "t": 50
        },
        "template": {
         "data": {
          "candlestick": [
           {
            "decreasing": {
             "line": {
              "color": "#000033"
             }
            },
            "increasing": {
             "line": {
              "color": "#000032"
             }
            },
            "type": "candlestick"
           }
          ],
          "contour": [
           {
            "colorscale": [
             [
              0,
              "#000011"
             ],
             [
              0.1111111111111111,
              "#000012"
             ],
             [
              0.2222222222222222,
              "#000013"
             ],
             [
              0.3333333333333333,
              "#000014"
             ],
             [
              0.4444444444444444,
              "#000015"
             ],
             [
              0.5555555555555556,
              "#000016"
             ],
             [
              0.6666666666666666,
              "#000017"
             ],
             [
              0.7777777777777778,
              "#000018"
             ],
             [
              0.8888888888888888,
              "#000019"
             ],
             [
              1,
              "#000020"
             ]
            ],
            "type": "contour"
           }
          ],
          "contourcarpet": [
           {
            "colorscale": [
             [
              0,
              "#000011"
             ],
             [
              0.1111111111111111,
              "#000012"
             ],
             [
              0.2222222222222222,
              "#000013"
             ],
             [
              0.3333333333333333,
              "#000014"
             ],
             [
              0.4444444444444444,
              "#000015"
             ],
             [
              0.5555555555555556,
              "#000016"
             ],
             [
              0.6666666666666666,
              "#000017"
             ],
             [
              0.7777777777777778,
              "#000018"
             ],
             [
              0.8888888888888888,
              "#000019"
             ],
             [
              1,
              "#000020"
             ]
            ],
            "type": "contourcarpet"
           }
          ],
          "heatmap": [
           {
            "colorscale": [
             [
              0,
              "#000011"
             ],
             [
              0.1111111111111111,
              "#000012"
             ],
             [
              0.2222222222222222,
              "#000013"
             ],
             [
              0.3333333333333333,
              "#000014"
             ],
             [
              0.4444444444444444,
              "#000015"
             ],
             [
              0.5555555555555556,
              "#000016"
             ],
             [
              0.6666666666666666,
              "#000017"
             ],
             [
              0.7777777777777778,
              "#000018"
             ],
             [
              0.8888888888888888,
              "#000019"
             ],
             [
              1,
              "#000020"
             ]
            ],
            "type": "heatmap"
           }
          ],
          "histogram2d": [
           {
            "colorscale": [
             [
              0,
              "#000011"
             ],
             [
              0.1111111111111111,
              "#000012"
             ],
             [
              0.2222222222222222,
              "#000013"
             ],
             [
              0.3333333333333333,
              "#000014"
             ],
             [
              0.4444444444444444,
              "#000015"
             ],
             [
              0.5555555555555556,
              "#000016"
             ],
             [
              0.6666666666666666,
              "#000017"
             ],
             [
              0.7777777777777778,
              "#000018"
             ],
             [
              0.8888888888888888,
              "#000019"
             ],
             [
              1,
              "#000020"
             ]
            ],
            "type": "histogram2d"
           }
          ],
          "icicle": [
           {
            "textfont": {
             "color": "white"
            },
            "type": "icicle"
           }
          ],
          "sankey": [
           {
            "textfont": {
             "color": "#000036"
            },
            "type": "sankey"
           }
          ],
          "scatter": [
           {
            "marker": {
             "line": {
              "width": 0
             }
            },
            "type": "scatter"
           }
          ],
          "table": [
           {
            "cells": {
             "fill": {
              "color": "#000038"
             },
             "font": {
              "color": "#000037"
             },
             "line": {
              "color": "#000039"
             }
            },
            "header": {
             "fill": {
              "color": "#000040"
             },
             "font": {
              "color": "#000036"
             },
             "line": {
              "color": "#000039"
             }
            },
            "type": "table"
           }
          ],
          "waterfall": [
           {
            "connector": {
             "line": {
              "color": "#000036",
              "width": 2
             }
            },
            "decreasing": {
             "marker": {
              "color": "#000033"
             }
            },
            "increasing": {
             "marker": {
              "color": "#000032"
             }
            },
            "totals": {
             "marker": {
              "color": "#000034"
             }
            },
            "type": "waterfall"
           }
          ]
         },
         "layout": {
          "coloraxis": {
           "colorscale": [
            [
             0,
             "#000011"
            ],
            [
             0.1111111111111111,
             "#000012"
            ],
            [
             0.2222222222222222,
             "#000013"
            ],
            [
             0.3333333333333333,
             "#000014"
            ],
            [
             0.4444444444444444,
             "#000015"
            ],
            [
             0.5555555555555556,
             "#000016"
            ],
            [
             0.6666666666666666,
             "#000017"
            ],
            [
             0.7777777777777778,
             "#000018"
            ],
            [
             0.8888888888888888,
             "#000019"
            ],
            [
             1,
             "#000020"
            ]
           ]
          },
          "colorscale": {
           "diverging": [
            [
             0,
             "#000021"
            ],
            [
             0.1,
             "#000022"
            ],
            [
             0.2,
             "#000023"
            ],
            [
             0.3,
             "#000024"
            ],
            [
             0.4,
             "#000025"
            ],
            [
             0.5,
             "#000026"
            ],
            [
             0.6,
             "#000027"
            ],
            [
             0.7,
             "#000028"
            ],
            [
             0.8,
             "#000029"
            ],
            [
             0.9,
             "#000030"
            ],
            [
             1,
             "#000031"
            ]
           ],
           "sequential": [
            [
             0,
             "#000011"
            ],
            [
             0.1111111111111111,
             "#000012"
            ],
            [
             0.2222222222222222,
             "#000013"
            ],
            [
             0.3333333333333333,
             "#000014"
            ],
            [
             0.4444444444444444,
             "#000015"
            ],
            [
             0.5555555555555556,
             "#000016"
            ],
            [
             0.6666666666666666,
             "#000017"
            ],
            [
             0.7777777777777778,
             "#000018"
            ],
            [
             0.8888888888888888,
             "#000019"
            ],
            [
             1,
             "#000020"
            ]
           ],
           "sequentialminus": [
            [
             0,
             "#000011"
            ],
            [
             0.1111111111111111,
             "#000012"
            ],
            [
             0.2222222222222222,
             "#000013"
            ],
            [
             0.3333333333333333,
             "#000014"
            ],
            [
             0.4444444444444444,
             "#000015"
            ],
            [
             0.5555555555555556,
             "#000016"
            ],
            [
             0.6666666666666666,
             "#000017"
            ],
            [
             0.7777777777777778,
             "#000018"
            ],
            [
             0.8888888888888888,
             "#000019"
            ],
            [
             1,
             "#000020"
            ]
           ]
          },
          "colorway": [
           "#000001",
           "#000002",
           "#000003",
           "#000004",
           "#000005",
           "#000006",
           "#000007",
           "#000008",
           "#000009",
           "#000010"
          ]
         }
        },
        "xaxis": {
         "anchor": "y",
         "domain": [
          0,
          1
         ],
         "tickangle": -80,
         "title": {
          "text": "move_name"
         }
        },
        "yaxis": {
         "anchor": "x",
         "domain": [
          0,
          1
         ],
         "title": {
          "text": "value"
         }
        }
       }
      }
     },
     "metadata": {},
     "output_type": "display_data"
    }
   ],
   "source": [
    "fig = px.bar(\n",
    "    100\n",
    "    * rebalance_df.groupby(\"move_name\")[\"spot_value_out\"].sum().sort_values()\n",
    "    / rebalance_df[\"spot_value_out\"].sum(),\n",
    "    height=800,\n",
    ")\n",
    "\n",
    "fig.update_layout(\n",
    "    height=600, margin=dict(t=50, b=150, l=50, r=50), xaxis_tickangle=-80  # tilt labels so they fit better\n",
    ")\n",
    "fig.update_layout(margin=dict(b=250))"
   ]
  },
  {
   "cell_type": "code",
   "execution_count": 73,
   "metadata": {},
   "outputs": [
    {
     "data": {
      "application/vnd.plotly.v1+json": {
       "config": {
        "plotlyServerURL": "https://plot.ly"
       },
       "data": [
        {
         "alignmentgroup": "True",
         "hovertemplate": "variable=spot_value_out<br>tokens_move_name=%{x}<br>value=%{y}<extra></extra>",
         "legendgroup": "spot_value_out",
         "marker": {
          "color": "#000001",
          "pattern": {
           "shape": ""
          }
         },
         "name": "spot_value_out",
         "offsetgroup": "spot_value_out",
         "orientation": "v",
         "showlegend": true,
         "textposition": "auto",
         "type": "bar",
         "x": [
          "('crvUSD', 'USDT') -> ('USDC',)",
          "('sUSDe',) -> ('USDC',)",
          "('USDT', 'crvUSD') -> ('USDe', 'USDT')",
          "('USDT', 'USDC') -> ('USDe', 'USDT')",
          "('sUSDe', 'USDC') -> ('frxUSD', 'sUSDS')",
          "('sUSDe', 'USDC') -> ('USDC',)",
          "('frxUSD', 'sUSDS') -> ('sUSDe', 'sUSDS')",
          "('USDe', 'USDT') -> ('crvUSD', 'USDC')",
          "('USDT',) -> ('USDC',)",
          "('USDT',) -> ('sUSDe', 'USDC')",
          "('USDT',) -> ('crvUSD', 'USDC')",
          "('USDT', 'USDC') -> ('crvUSD', 'USDC')",
          "('USDT', 'USDC') -> ('USDC',)",
          "('USDT', 'USDC') -> ('USDT',)",
          "('USDT', 'USDC') -> ('frxUSD', 'sUSDS')",
          "('USDT', 'USDC') -> ('sUSDe', 'crvUSD')",
          "('USDT',) -> ('GHO', 'crvUSD')",
          "('USDT',) -> ('USDT', 'crvUSD')",
          "('USDT',) -> ('sUSDe', 'crvUSD')",
          "('USDT',) -> ('scrvUSD', 'sUSDS')",
          "('USDT', 'crvUSD') -> ('USDC',)",
          "('USDT',) -> ('frxUSD', 'sUSDS')",
          "('USDe', 'USDT') -> ('frxUSD', 'sUSDS')",
          "('USDC',) -> ('sUSDe', 'crvUSD')",
          "('USDC',) -> ('USDe', 'USDT')",
          "('USDC',) -> ('crvUSD', 'USDC')",
          "('USDC',) -> ('scrvUSD', 'sUSDS')",
          "('USDC',) -> ('GHO', 'crvUSD')",
          "('USDC',) -> ('USDT', 'crvUSD')",
          "('USDC',) -> ('frxUSD', 'sUSDS')",
          "('USDC',) -> ('USDT',)",
          "('USDC',) -> ('USDT', 'USDC')",
          "('USDC',) -> ('USDC',)"
         ],
         "xaxis": "x",
         "y": [
          0.00017524532391795637,
          0.00017539843994114404,
          0.052362863849834636,
          0.11228046037731589,
          0.12269523362759183,
          0.1363276099610831,
          0.1752800285510245,
          0.1752800285510245,
          0.2629200428252098,
          0.2629200428252472,
          0.26292004282635656,
          0.2629200428265368,
          0.350560057102049,
          0.350560057102049,
          0.35056005710204907,
          0.4382000713775614,
          0.5258400856500023,
          0.5258400856513965,
          0.5293809816389594,
          0.6485363353800387,
          0.7011214924971756,
          1.9215901442491683,
          1.9280881415061104,
          2.3512527385542232,
          3.2605618307102184,
          4.226480010407402,
          4.845032012508547,
          5.869461256012014,
          7.99786117482832,
          9.507868542011487,
          9.758392832039679,
          11.59522002813396,
          30.49133502555251
         ],
         "yaxis": "y"
        }
       ],
       "layout": {
        "barmode": "relative",
        "height": 600,
        "legend": {
         "title": {
          "text": "variable"
         },
         "tracegroupgap": 0
        },
        "margin": {
         "b": 250,
         "l": 50,
         "r": 50,
         "t": 50
        },
        "template": {
         "data": {
          "candlestick": [
           {
            "decreasing": {
             "line": {
              "color": "#000033"
             }
            },
            "increasing": {
             "line": {
              "color": "#000032"
             }
            },
            "type": "candlestick"
           }
          ],
          "contour": [
           {
            "colorscale": [
             [
              0,
              "#000011"
             ],
             [
              0.1111111111111111,
              "#000012"
             ],
             [
              0.2222222222222222,
              "#000013"
             ],
             [
              0.3333333333333333,
              "#000014"
             ],
             [
              0.4444444444444444,
              "#000015"
             ],
             [
              0.5555555555555556,
              "#000016"
             ],
             [
              0.6666666666666666,
              "#000017"
             ],
             [
              0.7777777777777778,
              "#000018"
             ],
             [
              0.8888888888888888,
              "#000019"
             ],
             [
              1,
              "#000020"
             ]
            ],
            "type": "contour"
           }
          ],
          "contourcarpet": [
           {
            "colorscale": [
             [
              0,
              "#000011"
             ],
             [
              0.1111111111111111,
              "#000012"
             ],
             [
              0.2222222222222222,
              "#000013"
             ],
             [
              0.3333333333333333,
              "#000014"
             ],
             [
              0.4444444444444444,
              "#000015"
             ],
             [
              0.5555555555555556,
              "#000016"
             ],
             [
              0.6666666666666666,
              "#000017"
             ],
             [
              0.7777777777777778,
              "#000018"
             ],
             [
              0.8888888888888888,
              "#000019"
             ],
             [
              1,
              "#000020"
             ]
            ],
            "type": "contourcarpet"
           }
          ],
          "heatmap": [
           {
            "colorscale": [
             [
              0,
              "#000011"
             ],
             [
              0.1111111111111111,
              "#000012"
             ],
             [
              0.2222222222222222,
              "#000013"
             ],
             [
              0.3333333333333333,
              "#000014"
             ],
             [
              0.4444444444444444,
              "#000015"
             ],
             [
              0.5555555555555556,
              "#000016"
             ],
             [
              0.6666666666666666,
              "#000017"
             ],
             [
              0.7777777777777778,
              "#000018"
             ],
             [
              0.8888888888888888,
              "#000019"
             ],
             [
              1,
              "#000020"
             ]
            ],
            "type": "heatmap"
           }
          ],
          "histogram2d": [
           {
            "colorscale": [
             [
              0,
              "#000011"
             ],
             [
              0.1111111111111111,
              "#000012"
             ],
             [
              0.2222222222222222,
              "#000013"
             ],
             [
              0.3333333333333333,
              "#000014"
             ],
             [
              0.4444444444444444,
              "#000015"
             ],
             [
              0.5555555555555556,
              "#000016"
             ],
             [
              0.6666666666666666,
              "#000017"
             ],
             [
              0.7777777777777778,
              "#000018"
             ],
             [
              0.8888888888888888,
              "#000019"
             ],
             [
              1,
              "#000020"
             ]
            ],
            "type": "histogram2d"
           }
          ],
          "icicle": [
           {
            "textfont": {
             "color": "white"
            },
            "type": "icicle"
           }
          ],
          "sankey": [
           {
            "textfont": {
             "color": "#000036"
            },
            "type": "sankey"
           }
          ],
          "scatter": [
           {
            "marker": {
             "line": {
              "width": 0
             }
            },
            "type": "scatter"
           }
          ],
          "table": [
           {
            "cells": {
             "fill": {
              "color": "#000038"
             },
             "font": {
              "color": "#000037"
             },
             "line": {
              "color": "#000039"
             }
            },
            "header": {
             "fill": {
              "color": "#000040"
             },
             "font": {
              "color": "#000036"
             },
             "line": {
              "color": "#000039"
             }
            },
            "type": "table"
           }
          ],
          "waterfall": [
           {
            "connector": {
             "line": {
              "color": "#000036",
              "width": 2
             }
            },
            "decreasing": {
             "marker": {
              "color": "#000033"
             }
            },
            "increasing": {
             "marker": {
              "color": "#000032"
             }
            },
            "totals": {
             "marker": {
              "color": "#000034"
             }
            },
            "type": "waterfall"
           }
          ]
         },
         "layout": {
          "coloraxis": {
           "colorscale": [
            [
             0,
             "#000011"
            ],
            [
             0.1111111111111111,
             "#000012"
            ],
            [
             0.2222222222222222,
             "#000013"
            ],
            [
             0.3333333333333333,
             "#000014"
            ],
            [
             0.4444444444444444,
             "#000015"
            ],
            [
             0.5555555555555556,
             "#000016"
            ],
            [
             0.6666666666666666,
             "#000017"
            ],
            [
             0.7777777777777778,
             "#000018"
            ],
            [
             0.8888888888888888,
             "#000019"
            ],
            [
             1,
             "#000020"
            ]
           ]
          },
          "colorscale": {
           "diverging": [
            [
             0,
             "#000021"
            ],
            [
             0.1,
             "#000022"
            ],
            [
             0.2,
             "#000023"
            ],
            [
             0.3,
             "#000024"
            ],
            [
             0.4,
             "#000025"
            ],
            [
             0.5,
             "#000026"
            ],
            [
             0.6,
             "#000027"
            ],
            [
             0.7,
             "#000028"
            ],
            [
             0.8,
             "#000029"
            ],
            [
             0.9,
             "#000030"
            ],
            [
             1,
             "#000031"
            ]
           ],
           "sequential": [
            [
             0,
             "#000011"
            ],
            [
             0.1111111111111111,
             "#000012"
            ],
            [
             0.2222222222222222,
             "#000013"
            ],
            [
             0.3333333333333333,
             "#000014"
            ],
            [
             0.4444444444444444,
             "#000015"
            ],
            [
             0.5555555555555556,
             "#000016"
            ],
            [
             0.6666666666666666,
             "#000017"
            ],
            [
             0.7777777777777778,
             "#000018"
            ],
            [
             0.8888888888888888,
             "#000019"
            ],
            [
             1,
             "#000020"
            ]
           ],
           "sequentialminus": [
            [
             0,
             "#000011"
            ],
            [
             0.1111111111111111,
             "#000012"
            ],
            [
             0.2222222222222222,
             "#000013"
            ],
            [
             0.3333333333333333,
             "#000014"
            ],
            [
             0.4444444444444444,
             "#000015"
            ],
            [
             0.5555555555555556,
             "#000016"
            ],
            [
             0.6666666666666666,
             "#000017"
            ],
            [
             0.7777777777777778,
             "#000018"
            ],
            [
             0.8888888888888888,
             "#000019"
            ],
            [
             1,
             "#000020"
            ]
           ]
          },
          "colorway": [
           "#000001",
           "#000002",
           "#000003",
           "#000004",
           "#000005",
           "#000006",
           "#000007",
           "#000008",
           "#000009",
           "#000010"
          ]
         }
        },
        "xaxis": {
         "anchor": "y",
         "domain": [
          0,
          1
         ],
         "tickangle": -80,
         "title": {
          "text": "tokens_move_name"
         }
        },
        "yaxis": {
         "anchor": "x",
         "domain": [
          0,
          1
         ],
         "title": {
          "text": "value"
         }
        }
       }
      }
     },
     "metadata": {},
     "output_type": "display_data"
    }
   ],
   "source": [
    "fig = px.bar(\n",
    "    100\n",
    "    * rebalance_df.groupby(\"tokens_move_name\")[\"spot_value_out\"].sum().sort_values()\n",
    "    / rebalance_df[\"spot_value_out\"].sum(),\n",
    "    height=800,\n",
    ")\n",
    "\n",
    "fig.update_layout(\n",
    "    height=600, margin=dict(t=50, b=150, l=50, r=50), xaxis_tickangle=-80  # tilt labels so they fit better\n",
    ")\n",
    "fig.update_layout(margin=dict(b=250))"
   ]
  },
  {
   "cell_type": "code",
   "execution_count": 75,
   "metadata": {},
   "outputs": [
    {
     "data": {
      "application/vnd.plotly.v1+json": {
       "config": {
        "plotlyServerURL": "https://plot.ly"
       },
       "data": [
        {
         "alignmentgroup": "True",
         "hovertemplate": "variable=0<br>tokens_move_name=%{x}<br>value=%{y}<extra></extra>",
         "legendgroup": "0",
         "marker": {
          "color": "#000001",
          "pattern": {
           "shape": ""
          }
         },
         "name": "0",
         "offsetgroup": "0",
         "orientation": "v",
         "showlegend": true,
         "textposition": "auto",
         "type": "bar",
         "x": [
          "('USDT',) -> ('sUSDe', 'USDC')",
          "('USDT', 'USDC') -> ('frxUSD', 'sUSDS')",
          "('USDT',) -> ('GHO', 'crvUSD')",
          "('sUSDe',) -> ('USDC',)",
          "('USDC',) -> ('USDe', 'USDT')",
          "('USDT',) -> ('USDC',)",
          "('USDC',) -> ('USDT', 'crvUSD')",
          "('USDT',) -> ('crvUSD', 'USDC')",
          "('USDC',) -> ('USDT', 'USDC')",
          "('USDC',) -> ('GHO', 'crvUSD')",
          "('USDC',) -> ('USDT',)",
          "('USDC',) -> ('frxUSD', 'sUSDS')",
          "('USDT',) -> ('scrvUSD', 'sUSDS')",
          "('USDC',) -> ('scrvUSD', 'sUSDS')",
          "('USDT', 'USDC') -> ('USDe', 'USDT')",
          "('frxUSD', 'sUSDS') -> ('sUSDe', 'sUSDS')",
          "('USDT',) -> ('frxUSD', 'sUSDS')",
          "('crvUSD', 'USDT') -> ('USDC',)",
          "('USDe', 'USDT') -> ('frxUSD', 'sUSDS')",
          "('sUSDe', 'USDC') -> ('frxUSD', 'sUSDS')",
          "('USDT',) -> ('sUSDe', 'crvUSD')",
          "('USDT', 'crvUSD') -> ('USDe', 'USDT')",
          "('USDC',) -> ('sUSDe', 'crvUSD')",
          "('USDT', 'USDC') -> ('sUSDe', 'crvUSD')",
          "('USDT', 'USDC') -> ('USDC',)",
          "('sUSDe', 'USDC') -> ('USDC',)",
          "('USDT', 'crvUSD') -> ('USDC',)",
          "('USDC',) -> ('USDC',)",
          "('USDT', 'USDC') -> ('crvUSD', 'USDC')",
          "('USDT',) -> ('USDT', 'crvUSD')",
          "('USDC',) -> ('crvUSD', 'USDC')",
          "('USDT', 'USDC') -> ('USDT',)",
          "('USDe', 'USDT') -> ('crvUSD', 'USDC')"
         ],
         "xaxis": "x",
         "y": [
          -8.727548936318028,
          -8.724914709717268,
          -7.248429586915532,
          -5.885778988809331,
          -5.860061001448765,
          -5.477540480029708,
          -4.561778938913607,
          -4.453714314480649,
          -4.10107806308462,
          -4.097269842902867,
          -3.6870862742844857,
          -3.5521846887464714,
          -3.4911008575143065,
          -2.7625730733614713,
          -2.7474134163591075,
          -2.678162206213165,
          -2.648608804730397,
          -2.555152267545467,
          -2.5103191767540163,
          -2.265524634975376,
          -1.8859330323295727,
          -1.813371527715659,
          -1.7817637531616888,
          -0.6450700693321413,
          0.15024993309416462,
          0.9462723047121274,
          1.5494595814047247,
          1.7843906041239106,
          1.8158708646757684,
          2.3263588434256457,
          4.241432047080468,
          6.25814554540266,
          7.320845291233855
         ],
         "yaxis": "y"
        }
       ],
       "layout": {
        "barmode": "relative",
        "height": 600,
        "legend": {
         "title": {
          "text": "variable"
         },
         "tracegroupgap": 0
        },
        "margin": {
         "b": 250,
         "l": 50,
         "r": 50,
         "t": 50
        },
        "template": {
         "data": {
          "candlestick": [
           {
            "decreasing": {
             "line": {
              "color": "#000033"
             }
            },
            "increasing": {
             "line": {
              "color": "#000032"
             }
            },
            "type": "candlestick"
           }
          ],
          "contour": [
           {
            "colorscale": [
             [
              0,
              "#000011"
             ],
             [
              0.1111111111111111,
              "#000012"
             ],
             [
              0.2222222222222222,
              "#000013"
             ],
             [
              0.3333333333333333,
              "#000014"
             ],
             [
              0.4444444444444444,
              "#000015"
             ],
             [
              0.5555555555555556,
              "#000016"
             ],
             [
              0.6666666666666666,
              "#000017"
             ],
             [
              0.7777777777777778,
              "#000018"
             ],
             [
              0.8888888888888888,
              "#000019"
             ],
             [
              1,
              "#000020"
             ]
            ],
            "type": "contour"
           }
          ],
          "contourcarpet": [
           {
            "colorscale": [
             [
              0,
              "#000011"
             ],
             [
              0.1111111111111111,
              "#000012"
             ],
             [
              0.2222222222222222,
              "#000013"
             ],
             [
              0.3333333333333333,
              "#000014"
             ],
             [
              0.4444444444444444,
              "#000015"
             ],
             [
              0.5555555555555556,
              "#000016"
             ],
             [
              0.6666666666666666,
              "#000017"
             ],
             [
              0.7777777777777778,
              "#000018"
             ],
             [
              0.8888888888888888,
              "#000019"
             ],
             [
              1,
              "#000020"
             ]
            ],
            "type": "contourcarpet"
           }
          ],
          "heatmap": [
           {
            "colorscale": [
             [
              0,
              "#000011"
             ],
             [
              0.1111111111111111,
              "#000012"
             ],
             [
              0.2222222222222222,
              "#000013"
             ],
             [
              0.3333333333333333,
              "#000014"
             ],
             [
              0.4444444444444444,
              "#000015"
             ],
             [
              0.5555555555555556,
              "#000016"
             ],
             [
              0.6666666666666666,
              "#000017"
             ],
             [
              0.7777777777777778,
              "#000018"
             ],
             [
              0.8888888888888888,
              "#000019"
             ],
             [
              1,
              "#000020"
             ]
            ],
            "type": "heatmap"
           }
          ],
          "histogram2d": [
           {
            "colorscale": [
             [
              0,
              "#000011"
             ],
             [
              0.1111111111111111,
              "#000012"
             ],
             [
              0.2222222222222222,
              "#000013"
             ],
             [
              0.3333333333333333,
              "#000014"
             ],
             [
              0.4444444444444444,
              "#000015"
             ],
             [
              0.5555555555555556,
              "#000016"
             ],
             [
              0.6666666666666666,
              "#000017"
             ],
             [
              0.7777777777777778,
              "#000018"
             ],
             [
              0.8888888888888888,
              "#000019"
             ],
             [
              1,
              "#000020"
             ]
            ],
            "type": "histogram2d"
           }
          ],
          "icicle": [
           {
            "textfont": {
             "color": "white"
            },
            "type": "icicle"
           }
          ],
          "sankey": [
           {
            "textfont": {
             "color": "#000036"
            },
            "type": "sankey"
           }
          ],
          "scatter": [
           {
            "marker": {
             "line": {
              "width": 0
             }
            },
            "type": "scatter"
           }
          ],
          "table": [
           {
            "cells": {
             "fill": {
              "color": "#000038"
             },
             "font": {
              "color": "#000037"
             },
             "line": {
              "color": "#000039"
             }
            },
            "header": {
             "fill": {
              "color": "#000040"
             },
             "font": {
              "color": "#000036"
             },
             "line": {
              "color": "#000039"
             }
            },
            "type": "table"
           }
          ],
          "waterfall": [
           {
            "connector": {
             "line": {
              "color": "#000036",
              "width": 2
             }
            },
            "decreasing": {
             "marker": {
              "color": "#000033"
             }
            },
            "increasing": {
             "marker": {
              "color": "#000032"
             }
            },
            "totals": {
             "marker": {
              "color": "#000034"
             }
            },
            "type": "waterfall"
           }
          ]
         },
         "layout": {
          "coloraxis": {
           "colorscale": [
            [
             0,
             "#000011"
            ],
            [
             0.1111111111111111,
             "#000012"
            ],
            [
             0.2222222222222222,
             "#000013"
            ],
            [
             0.3333333333333333,
             "#000014"
            ],
            [
             0.4444444444444444,
             "#000015"
            ],
            [
             0.5555555555555556,
             "#000016"
            ],
            [
             0.6666666666666666,
             "#000017"
            ],
            [
             0.7777777777777778,
             "#000018"
            ],
            [
             0.8888888888888888,
             "#000019"
            ],
            [
             1,
             "#000020"
            ]
           ]
          },
          "colorscale": {
           "diverging": [
            [
             0,
             "#000021"
            ],
            [
             0.1,
             "#000022"
            ],
            [
             0.2,
             "#000023"
            ],
            [
             0.3,
             "#000024"
            ],
            [
             0.4,
             "#000025"
            ],
            [
             0.5,
             "#000026"
            ],
            [
             0.6,
             "#000027"
            ],
            [
             0.7,
             "#000028"
            ],
            [
             0.8,
             "#000029"
            ],
            [
             0.9,
             "#000030"
            ],
            [
             1,
             "#000031"
            ]
           ],
           "sequential": [
            [
             0,
             "#000011"
            ],
            [
             0.1111111111111111,
             "#000012"
            ],
            [
             0.2222222222222222,
             "#000013"
            ],
            [
             0.3333333333333333,
             "#000014"
            ],
            [
             0.4444444444444444,
             "#000015"
            ],
            [
             0.5555555555555556,
             "#000016"
            ],
            [
             0.6666666666666666,
             "#000017"
            ],
            [
             0.7777777777777778,
             "#000018"
            ],
            [
             0.8888888888888888,
             "#000019"
            ],
            [
             1,
             "#000020"
            ]
           ],
           "sequentialminus": [
            [
             0,
             "#000011"
            ],
            [
             0.1111111111111111,
             "#000012"
            ],
            [
             0.2222222222222222,
             "#000013"
            ],
            [
             0.3333333333333333,
             "#000014"
            ],
            [
             0.4444444444444444,
             "#000015"
            ],
            [
             0.5555555555555556,
             "#000016"
            ],
            [
             0.6666666666666666,
             "#000017"
            ],
            [
             0.7777777777777778,
             "#000018"
            ],
            [
             0.8888888888888888,
             "#000019"
            ],
            [
             1,
             "#000020"
            ]
           ]
          },
          "colorway": [
           "#000001",
           "#000002",
           "#000003",
           "#000004",
           "#000005",
           "#000006",
           "#000007",
           "#000008",
           "#000009",
           "#000010"
          ]
         }
        },
        "xaxis": {
         "anchor": "y",
         "domain": [
          0,
          1
         ],
         "tickangle": -80,
         "title": {
          "text": "tokens_move_name"
         }
        },
        "yaxis": {
         "anchor": "x",
         "domain": [
          0,
          1
         ],
         "title": {
          "text": "value"
         }
        }
       }
      }
     },
     "metadata": {},
     "output_type": "display_data"
    }
   ],
   "source": [
    "fig = px.bar(\n",
    "    10_000\n",
    "    * (\n",
    "        rebalance_df.groupby(\"tokens_move_name\")[\"spot_swap_cost\"].sum()\n",
    "        / rebalance_df.groupby(\"tokens_move_name\")[\"spot_value_out\"].sum()\n",
    "    ).sort_values(),\n",
    "    height=800,\n",
    ")\n",
    "\n",
    "fig.update_layout(\n",
    "    height=600, margin=dict(t=50, b=150, l=50, r=50), xaxis_tickangle=-80  # tilt labels so they fit better\n",
    ")\n",
    "fig.update_layout(margin=dict(b=250))"
   ]
  },
  {
   "cell_type": "code",
   "execution_count": 78,
   "metadata": {},
   "outputs": [
    {
     "data": {
      "application/vnd.plotly.v1+json": {
       "config": {
        "plotlyServerURL": "https://plot.ly"
       },
       "data": [
        {
         "alignmentgroup": "True",
         "hovertemplate": "variable=spot_value_out<br>tokens_move_name=%{x}<br>value=%{y}<extra></extra>",
         "legendgroup": "spot_value_out",
         "marker": {
          "color": "#000001",
          "pattern": {
           "shape": ""
          }
         },
         "name": "spot_value_out",
         "offsetgroup": "spot_value_out",
         "orientation": "v",
         "showlegend": true,
         "textposition": "auto",
         "type": "bar",
         "x": [
          "('USDC',) -> ('GHO', 'crvUSD')",
          "('USDC',) -> ('USDC',)",
          "('USDC',) -> ('USDT', 'USDC')",
          "('USDC',) -> ('USDT', 'crvUSD')",
          "('USDC',) -> ('USDT',)",
          "('USDC',) -> ('USDe', 'USDT')",
          "('USDC',) -> ('crvUSD', 'USDC')",
          "('USDC',) -> ('frxUSD', 'sUSDS')",
          "('USDC',) -> ('sUSDe', 'crvUSD')",
          "('USDC',) -> ('scrvUSD', 'sUSDS')",
          "('USDT', 'USDC') -> ('USDC',)",
          "('USDT', 'USDC') -> ('USDT',)",
          "('USDT', 'USDC') -> ('USDe', 'USDT')",
          "('USDT', 'USDC') -> ('crvUSD', 'USDC')",
          "('USDT', 'USDC') -> ('frxUSD', 'sUSDS')",
          "('USDT', 'USDC') -> ('sUSDe', 'crvUSD')",
          "('USDT', 'crvUSD') -> ('USDC',)",
          "('USDT', 'crvUSD') -> ('USDe', 'USDT')",
          "('USDT',) -> ('GHO', 'crvUSD')",
          "('USDT',) -> ('USDC',)",
          "('USDT',) -> ('USDT', 'crvUSD')",
          "('USDT',) -> ('crvUSD', 'USDC')",
          "('USDT',) -> ('frxUSD', 'sUSDS')",
          "('USDT',) -> ('sUSDe', 'USDC')",
          "('USDT',) -> ('sUSDe', 'crvUSD')",
          "('USDT',) -> ('scrvUSD', 'sUSDS')",
          "('USDe', 'USDT') -> ('crvUSD', 'USDC')",
          "('USDe', 'USDT') -> ('frxUSD', 'sUSDS')",
          "('crvUSD', 'USDT') -> ('USDC',)",
          "('frxUSD', 'sUSDS') -> ('sUSDe', 'sUSDS')",
          "('sUSDe', 'USDC') -> ('USDC',)",
          "('sUSDe', 'USDC') -> ('frxUSD', 'sUSDS')",
          "('sUSDe',) -> ('USDC',)"
         ],
         "xaxis": "x",
         "y": [
          5.869461256012014,
          30.49133502555251,
          11.59522002813396,
          7.99786117482832,
          9.758392832039679,
          3.2605618307102184,
          4.226480010407402,
          9.507868542011487,
          2.3512527385542232,
          4.845032012508547,
          0.350560057102049,
          0.350560057102049,
          0.11228046037731589,
          0.2629200428265368,
          0.35056005710204907,
          0.4382000713775614,
          0.7011214924971756,
          0.052362863849834636,
          0.5258400856500023,
          0.2629200428252098,
          0.5258400856513965,
          0.26292004282635656,
          1.9215901442491683,
          0.2629200428252472,
          0.5293809816389594,
          0.6485363353800387,
          0.1752800285510245,
          1.9280881415061104,
          0.00017524532391795637,
          0.1752800285510245,
          0.1363276099610831,
          0.12269523362759183,
          0.00017539843994114404
         ],
         "yaxis": "y"
        }
       ],
       "layout": {
        "barmode": "relative",
        "height": 600,
        "legend": {
         "title": {
          "text": "variable"
         },
         "tracegroupgap": 0
        },
        "margin": {
         "b": 250,
         "l": 50,
         "r": 50,
         "t": 50
        },
        "template": {
         "data": {
          "candlestick": [
           {
            "decreasing": {
             "line": {
              "color": "#000033"
             }
            },
            "increasing": {
             "line": {
              "color": "#000032"
             }
            },
            "type": "candlestick"
           }
          ],
          "contour": [
           {
            "colorscale": [
             [
              0,
              "#000011"
             ],
             [
              0.1111111111111111,
              "#000012"
             ],
             [
              0.2222222222222222,
              "#000013"
             ],
             [
              0.3333333333333333,
              "#000014"
             ],
             [
              0.4444444444444444,
              "#000015"
             ],
             [
              0.5555555555555556,
              "#000016"
             ],
             [
              0.6666666666666666,
              "#000017"
             ],
             [
              0.7777777777777778,
              "#000018"
             ],
             [
              0.8888888888888888,
              "#000019"
             ],
             [
              1,
              "#000020"
             ]
            ],
            "type": "contour"
           }
          ],
          "contourcarpet": [
           {
            "colorscale": [
             [
              0,
              "#000011"
             ],
             [
              0.1111111111111111,
              "#000012"
             ],
             [
              0.2222222222222222,
              "#000013"
             ],
             [
              0.3333333333333333,
              "#000014"
             ],
             [
              0.4444444444444444,
              "#000015"
             ],
             [
              0.5555555555555556,
              "#000016"
             ],
             [
              0.6666666666666666,
              "#000017"
             ],
             [
              0.7777777777777778,
              "#000018"
             ],
             [
              0.8888888888888888,
              "#000019"
             ],
             [
              1,
              "#000020"
             ]
            ],
            "type": "contourcarpet"
           }
          ],
          "heatmap": [
           {
            "colorscale": [
             [
              0,
              "#000011"
             ],
             [
              0.1111111111111111,
              "#000012"
             ],
             [
              0.2222222222222222,
              "#000013"
             ],
             [
              0.3333333333333333,
              "#000014"
             ],
             [
              0.4444444444444444,
              "#000015"
             ],
             [
              0.5555555555555556,
              "#000016"
             ],
             [
              0.6666666666666666,
              "#000017"
             ],
             [
              0.7777777777777778,
              "#000018"
             ],
             [
              0.8888888888888888,
              "#000019"
             ],
             [
              1,
              "#000020"
             ]
            ],
            "type": "heatmap"
           }
          ],
          "histogram2d": [
           {
            "colorscale": [
             [
              0,
              "#000011"
             ],
             [
              0.1111111111111111,
              "#000012"
             ],
             [
              0.2222222222222222,
              "#000013"
             ],
             [
              0.3333333333333333,
              "#000014"
             ],
             [
              0.4444444444444444,
              "#000015"
             ],
             [
              0.5555555555555556,
              "#000016"
             ],
             [
              0.6666666666666666,
              "#000017"
             ],
             [
              0.7777777777777778,
              "#000018"
             ],
             [
              0.8888888888888888,
              "#000019"
             ],
             [
              1,
              "#000020"
             ]
            ],
            "type": "histogram2d"
           }
          ],
          "icicle": [
           {
            "textfont": {
             "color": "white"
            },
            "type": "icicle"
           }
          ],
          "sankey": [
           {
            "textfont": {
             "color": "#000036"
            },
            "type": "sankey"
           }
          ],
          "scatter": [
           {
            "marker": {
             "line": {
              "width": 0
             }
            },
            "type": "scatter"
           }
          ],
          "table": [
           {
            "cells": {
             "fill": {
              "color": "#000038"
             },
             "font": {
              "color": "#000037"
             },
             "line": {
              "color": "#000039"
             }
            },
            "header": {
             "fill": {
              "color": "#000040"
             },
             "font": {
              "color": "#000036"
             },
             "line": {
              "color": "#000039"
             }
            },
            "type": "table"
           }
          ],
          "waterfall": [
           {
            "connector": {
             "line": {
              "color": "#000036",
              "width": 2
             }
            },
            "decreasing": {
             "marker": {
              "color": "#000033"
             }
            },
            "increasing": {
             "marker": {
              "color": "#000032"
             }
            },
            "totals": {
             "marker": {
              "color": "#000034"
             }
            },
            "type": "waterfall"
           }
          ]
         },
         "layout": {
          "coloraxis": {
           "colorscale": [
            [
             0,
             "#000011"
            ],
            [
             0.1111111111111111,
             "#000012"
            ],
            [
             0.2222222222222222,
             "#000013"
            ],
            [
             0.3333333333333333,
             "#000014"
            ],
            [
             0.4444444444444444,
             "#000015"
            ],
            [
             0.5555555555555556,
             "#000016"
            ],
            [
             0.6666666666666666,
             "#000017"
            ],
            [
             0.7777777777777778,
             "#000018"
            ],
            [
             0.8888888888888888,
             "#000019"
            ],
            [
             1,
             "#000020"
            ]
           ]
          },
          "colorscale": {
           "diverging": [
            [
             0,
             "#000021"
            ],
            [
             0.1,
             "#000022"
            ],
            [
             0.2,
             "#000023"
            ],
            [
             0.3,
             "#000024"
            ],
            [
             0.4,
             "#000025"
            ],
            [
             0.5,
             "#000026"
            ],
            [
             0.6,
             "#000027"
            ],
            [
             0.7,
             "#000028"
            ],
            [
             0.8,
             "#000029"
            ],
            [
             0.9,
             "#000030"
            ],
            [
             1,
             "#000031"
            ]
           ],
           "sequential": [
            [
             0,
             "#000011"
            ],
            [
             0.1111111111111111,
             "#000012"
            ],
            [
             0.2222222222222222,
             "#000013"
            ],
            [
             0.3333333333333333,
             "#000014"
            ],
            [
             0.4444444444444444,
             "#000015"
            ],
            [
             0.5555555555555556,
             "#000016"
            ],
            [
             0.6666666666666666,
             "#000017"
            ],
            [
             0.7777777777777778,
             "#000018"
            ],
            [
             0.8888888888888888,
             "#000019"
            ],
            [
             1,
             "#000020"
            ]
           ],
           "sequentialminus": [
            [
             0,
             "#000011"
            ],
            [
             0.1111111111111111,
             "#000012"
            ],
            [
             0.2222222222222222,
             "#000013"
            ],
            [
             0.3333333333333333,
             "#000014"
            ],
            [
             0.4444444444444444,
             "#000015"
            ],
            [
             0.5555555555555556,
             "#000016"
            ],
            [
             0.6666666666666666,
             "#000017"
            ],
            [
             0.7777777777777778,
             "#000018"
            ],
            [
             0.8888888888888888,
             "#000019"
            ],
            [
             1,
             "#000020"
            ]
           ]
          },
          "colorway": [
           "#000001",
           "#000002",
           "#000003",
           "#000004",
           "#000005",
           "#000006",
           "#000007",
           "#000008",
           "#000009",
           "#000010"
          ]
         }
        },
        "xaxis": {
         "anchor": "y",
         "domain": [
          0,
          1
         ],
         "tickangle": -80,
         "title": {
          "text": "tokens_move_name"
         }
        },
        "yaxis": {
         "anchor": "x",
         "domain": [
          0,
          1
         ],
         "title": {
          "text": "value"
         }
        }
       }
      }
     },
     "metadata": {},
     "output_type": "display_data"
    }
   ],
   "source": [
    "fig = px.bar(\n",
    "    100 * rebalance_df.groupby(\"tokens_move_name\")[\"spot_value_out\"].sum() / rebalance_df[\"spot_value_out\"].sum(),\n",
    "    height=800,\n",
    ")\n",
    "\n",
    "fig.update_layout(\n",
    "    height=600, margin=dict(t=50, b=150, l=50, r=50), xaxis_tickangle=-80  # tilt labels so they fit better\n",
    ")\n",
    "fig.update_layout(margin=dict(b=250))"
   ]
  },
  {
   "cell_type": "code",
   "execution_count": 80,
   "metadata": {},
   "outputs": [
    {
     "data": {
      "application/vnd.plotly.v1+json": {
       "config": {
        "plotlyServerURL": "https://plot.ly"
       },
       "data": [
        {
         "alignmentgroup": "True",
         "hovertemplate": "variable=spot_swap_cost<br>tokens_move_name=%{x}<br>value=%{y}<extra></extra>",
         "legendgroup": "spot_swap_cost",
         "marker": {
          "color": "#000001",
          "pattern": {
           "shape": ""
          }
         },
         "name": "spot_swap_cost",
         "offsetgroup": "spot_swap_cost",
         "orientation": "v",
         "showlegend": true,
         "textposition": "auto",
         "type": "bar",
         "x": [
          "('USDC',) -> ('USDT', 'USDC')",
          "('USDC',) -> ('USDT', 'crvUSD')",
          "('USDC',) -> ('USDT',)",
          "('USDC',) -> ('frxUSD', 'sUSDS')",
          "('USDC',) -> ('GHO', 'crvUSD')",
          "('USDC',) -> ('USDe', 'USDT')",
          "('USDC',) -> ('scrvUSD', 'sUSDS')",
          "('USDT',) -> ('frxUSD', 'sUSDS')",
          "('USDe', 'USDT') -> ('frxUSD', 'sUSDS')",
          "('USDC',) -> ('sUSDe', 'crvUSD')",
          "('USDT',) -> ('GHO', 'crvUSD')",
          "('USDT', 'USDC') -> ('frxUSD', 'sUSDS')",
          "('USDT',) -> ('sUSDe', 'USDC')",
          "('USDT',) -> ('scrvUSD', 'sUSDS')",
          "('USDT',) -> ('USDC',)",
          "('USDT',) -> ('crvUSD', 'USDC')",
          "('USDT',) -> ('sUSDe', 'crvUSD')",
          "('frxUSD', 'sUSDS') -> ('sUSDe', 'sUSDS')",
          "('USDT', 'USDC') -> ('USDe', 'USDT')",
          "('USDT', 'USDC') -> ('sUSDe', 'crvUSD')",
          "('sUSDe', 'USDC') -> ('frxUSD', 'sUSDS')",
          "('USDT', 'crvUSD') -> ('USDe', 'USDT')",
          "('sUSDe',) -> ('USDC',)",
          "('crvUSD', 'USDT') -> ('USDC',)",
          "('USDT', 'USDC') -> ('USDC',)",
          "('sUSDe', 'USDC') -> ('USDC',)",
          "('USDT', 'USDC') -> ('crvUSD', 'USDC')",
          "('USDT', 'crvUSD') -> ('USDC',)",
          "('USDT',) -> ('USDT', 'crvUSD')",
          "('USDe', 'USDT') -> ('crvUSD', 'USDC')",
          "('USDT', 'USDC') -> ('USDT',)",
          "('USDC',) -> ('crvUSD', 'USDC')",
          "('USDC',) -> ('USDC',)"
         ],
         "xaxis": "x",
         "y": [
          -2712.967523289559,
          -2081.4963898220685,
          -2052.7173898545843,
          -1926.8427405416478,
          -1372.0197787019497,
          -1090.0894634094157,
          -763.6212230210876,
          -290.36625662460574,
          -276.1362304711074,
          -239.01051013684264,
          -217.45288760619587,
          -174.49829419434536,
          -130.91323404412833,
          -129.17077748622978,
          -82.16310720003094,
          -66.80571471716394,
          -56.958975201749126,
          -26.781622062131646,
          -17.59931498104561,
          -16.126751733303536,
          -15.85857080668211,
          -5.417235905304551,
          -0.05889755159270749,
          -0.025546463592419855,
          3.004998661883292,
          7.359825459876447,
          27.238062970136525,
          61.97850509604905,
          69.79076530254679,
          73.20845291233854,
          125.16291090805316,
          1022.7250594763873,
          3104.087338219011
         ],
         "yaxis": "y"
        }
       ],
       "layout": {
        "barmode": "relative",
        "height": 600,
        "legend": {
         "title": {
          "text": "variable"
         },
         "tracegroupgap": 0
        },
        "margin": {
         "b": 250,
         "l": 50,
         "r": 50,
         "t": 50
        },
        "template": {
         "data": {
          "candlestick": [
           {
            "decreasing": {
             "line": {
              "color": "#000033"
             }
            },
            "increasing": {
             "line": {
              "color": "#000032"
             }
            },
            "type": "candlestick"
           }
          ],
          "contour": [
           {
            "colorscale": [
             [
              0,
              "#000011"
             ],
             [
              0.1111111111111111,
              "#000012"
             ],
             [
              0.2222222222222222,
              "#000013"
             ],
             [
              0.3333333333333333,
              "#000014"
             ],
             [
              0.4444444444444444,
              "#000015"
             ],
             [
              0.5555555555555556,
              "#000016"
             ],
             [
              0.6666666666666666,
              "#000017"
             ],
             [
              0.7777777777777778,
              "#000018"
             ],
             [
              0.8888888888888888,
              "#000019"
             ],
             [
              1,
              "#000020"
             ]
            ],
            "type": "contour"
           }
          ],
          "contourcarpet": [
           {
            "colorscale": [
             [
              0,
              "#000011"
             ],
             [
              0.1111111111111111,
              "#000012"
             ],
             [
              0.2222222222222222,
              "#000013"
             ],
             [
              0.3333333333333333,
              "#000014"
             ],
             [
              0.4444444444444444,
              "#000015"
             ],
             [
              0.5555555555555556,
              "#000016"
             ],
             [
              0.6666666666666666,
              "#000017"
             ],
             [
              0.7777777777777778,
              "#000018"
             ],
             [
              0.8888888888888888,
              "#000019"
             ],
             [
              1,
              "#000020"
             ]
            ],
            "type": "contourcarpet"
           }
          ],
          "heatmap": [
           {
            "colorscale": [
             [
              0,
              "#000011"
             ],
             [
              0.1111111111111111,
              "#000012"
             ],
             [
              0.2222222222222222,
              "#000013"
             ],
             [
              0.3333333333333333,
              "#000014"
             ],
             [
              0.4444444444444444,
              "#000015"
             ],
             [
              0.5555555555555556,
              "#000016"
             ],
             [
              0.6666666666666666,
              "#000017"
             ],
             [
              0.7777777777777778,
              "#000018"
             ],
             [
              0.8888888888888888,
              "#000019"
             ],
             [
              1,
              "#000020"
             ]
            ],
            "type": "heatmap"
           }
          ],
          "histogram2d": [
           {
            "colorscale": [
             [
              0,
              "#000011"
             ],
             [
              0.1111111111111111,
              "#000012"
             ],
             [
              0.2222222222222222,
              "#000013"
             ],
             [
              0.3333333333333333,
              "#000014"
             ],
             [
              0.4444444444444444,
              "#000015"
             ],
             [
              0.5555555555555556,
              "#000016"
             ],
             [
              0.6666666666666666,
              "#000017"
             ],
             [
              0.7777777777777778,
              "#000018"
             ],
             [
              0.8888888888888888,
              "#000019"
             ],
             [
              1,
              "#000020"
             ]
            ],
            "type": "histogram2d"
           }
          ],
          "icicle": [
           {
            "textfont": {
             "color": "white"
            },
            "type": "icicle"
           }
          ],
          "sankey": [
           {
            "textfont": {
             "color": "#000036"
            },
            "type": "sankey"
           }
          ],
          "scatter": [
           {
            "marker": {
             "line": {
              "width": 0
             }
            },
            "type": "scatter"
           }
          ],
          "table": [
           {
            "cells": {
             "fill": {
              "color": "#000038"
             },
             "font": {
              "color": "#000037"
             },
             "line": {
              "color": "#000039"
             }
            },
            "header": {
             "fill": {
              "color": "#000040"
             },
             "font": {
              "color": "#000036"
             },
             "line": {
              "color": "#000039"
             }
            },
            "type": "table"
           }
          ],
          "waterfall": [
           {
            "connector": {
             "line": {
              "color": "#000036",
              "width": 2
             }
            },
            "decreasing": {
             "marker": {
              "color": "#000033"
             }
            },
            "increasing": {
             "marker": {
              "color": "#000032"
             }
            },
            "totals": {
             "marker": {
              "color": "#000034"
             }
            },
            "type": "waterfall"
           }
          ]
         },
         "layout": {
          "coloraxis": {
           "colorscale": [
            [
             0,
             "#000011"
            ],
            [
             0.1111111111111111,
             "#000012"
            ],
            [
             0.2222222222222222,
             "#000013"
            ],
            [
             0.3333333333333333,
             "#000014"
            ],
            [
             0.4444444444444444,
             "#000015"
            ],
            [
             0.5555555555555556,
             "#000016"
            ],
            [
             0.6666666666666666,
             "#000017"
            ],
            [
             0.7777777777777778,
             "#000018"
            ],
            [
             0.8888888888888888,
             "#000019"
            ],
            [
             1,
             "#000020"
            ]
           ]
          },
          "colorscale": {
           "diverging": [
            [
             0,
             "#000021"
            ],
            [
             0.1,
             "#000022"
            ],
            [
             0.2,
             "#000023"
            ],
            [
             0.3,
             "#000024"
            ],
            [
             0.4,
             "#000025"
            ],
            [
             0.5,
             "#000026"
            ],
            [
             0.6,
             "#000027"
            ],
            [
             0.7,
             "#000028"
            ],
            [
             0.8,
             "#000029"
            ],
            [
             0.9,
             "#000030"
            ],
            [
             1,
             "#000031"
            ]
           ],
           "sequential": [
            [
             0,
             "#000011"
            ],
            [
             0.1111111111111111,
             "#000012"
            ],
            [
             0.2222222222222222,
             "#000013"
            ],
            [
             0.3333333333333333,
             "#000014"
            ],
            [
             0.4444444444444444,
             "#000015"
            ],
            [
             0.5555555555555556,
             "#000016"
            ],
            [
             0.6666666666666666,
             "#000017"
            ],
            [
             0.7777777777777778,
             "#000018"
            ],
            [
             0.8888888888888888,
             "#000019"
            ],
            [
             1,
             "#000020"
            ]
           ],
           "sequentialminus": [
            [
             0,
             "#000011"
            ],
            [
             0.1111111111111111,
             "#000012"
            ],
            [
             0.2222222222222222,
             "#000013"
            ],
            [
             0.3333333333333333,
             "#000014"
            ],
            [
             0.4444444444444444,
             "#000015"
            ],
            [
             0.5555555555555556,
             "#000016"
            ],
            [
             0.6666666666666666,
             "#000017"
            ],
            [
             0.7777777777777778,
             "#000018"
            ],
            [
             0.8888888888888888,
             "#000019"
            ],
            [
             1,
             "#000020"
            ]
           ]
          },
          "colorway": [
           "#000001",
           "#000002",
           "#000003",
           "#000004",
           "#000005",
           "#000006",
           "#000007",
           "#000008",
           "#000009",
           "#000010"
          ]
         }
        },
        "xaxis": {
         "anchor": "y",
         "domain": [
          0,
          1
         ],
         "tickangle": -80,
         "title": {
          "text": "tokens_move_name"
         }
        },
        "yaxis": {
         "anchor": "x",
         "domain": [
          0,
          1
         ],
         "title": {
          "text": "value"
         }
        }
       }
      }
     },
     "metadata": {},
     "output_type": "display_data"
    }
   ],
   "source": [
    "fig = px.bar(\n",
    "    rebalance_df.groupby(\"tokens_move_name\")[\"spot_swap_cost\"].sum().sort_values(),\n",
    "    height=800,\n",
    ")\n",
    "\n",
    "fig.update_layout(\n",
    "    height=600, margin=dict(t=50, b=150, l=50, r=50), xaxis_tickangle=-80  # tilt labels so they fit better\n",
    ")\n",
    "fig.update_layout(margin=dict(b=250))"
   ]
  }
 ],
 "metadata": {
  "kernelspec": {
   "display_name": "mainnet-launch-FtycU18g-py3.10",
   "language": "python",
   "name": "python3"
  },
  "language_info": {
   "codemirror_mode": {
    "name": "ipython",
    "version": 3
   },
   "file_extension": ".py",
   "mimetype": "text/x-python",
   "name": "python",
   "nbconvert_exporter": "python",
   "pygments_lexer": "ipython3",
   "version": "3.10.14"
  }
 },
 "nbformat": 4,
 "nbformat_minor": 2
}
