{
 "cells": [
  {
   "cell_type": "code",
   "execution_count": 1,
   "metadata": {},
   "outputs": [
    {
     "name": "stderr",
     "output_type": "stream",
     "text": [
      "2025-06-04 17:52:32.505 WARNING streamlit.runtime.caching.cache_data_api: No runtime found, using MemoryCacheStorageManager\n",
      "2025-06-04 17:52:32.799 WARNING streamlit.runtime.scriptrunner_utils.script_run_context: Thread 'MainThread': missing ScriptRunContext! This warning can be ignored when running in bare mode.\n",
      "2025-06-04 17:52:32.878 \n",
      "  \u001b[33m\u001b[1mWarning:\u001b[0m to view this Streamlit app on a browser, run it with the following\n",
      "  command:\n",
      "\n",
      "    streamlit run /Users/pb/Library/Caches/pypoetry/virtualenvs/mainnet-launch-FtycU18g-py3.10/lib/python3.10/site-packages/ipykernel_launcher.py [ARGUMENTS]\n",
      "2025-06-04 17:52:32.879 Thread 'MainThread': missing ScriptRunContext! This warning can be ignored when running in bare mode.\n",
      "2025-06-04 17:52:32.879 Thread 'MainThread': missing ScriptRunContext! This warning can be ignored when running in bare mode.\n",
      "2025-06-04 17:52:32.880 No runtime found, using MemoryCacheStorageManager\n",
      "2025-06-04 17:52:33.385 Thread 'Thread-4': missing ScriptRunContext! This warning can be ignored when running in bare mode.\n",
      "2025-06-04 17:52:33.386 Thread 'Thread-4': missing ScriptRunContext! This warning can be ignored when running in bare mode.\n"
     ]
    },
    {
     "name": "stdout",
     "output_type": "stream",
     "text": [
      "2025-06-04 17:52:33,614 INFO sqlalchemy.engine.Engine select pg_catalog.version()\n",
      "2025-06-04 17:52:33,615 INFO sqlalchemy.engine.Engine [raw sql] {}\n",
      "2025-06-04 17:52:33,759 INFO sqlalchemy.engine.Engine select current_schema()\n",
      "2025-06-04 17:52:33,759 INFO sqlalchemy.engine.Engine [raw sql] {}\n",
      "2025-06-04 17:52:33,903 INFO sqlalchemy.engine.Engine show standard_conforming_strings\n",
      "2025-06-04 17:52:33,904 INFO sqlalchemy.engine.Engine [raw sql] {}\n",
      "2025-06-04 17:52:34,050 INFO sqlalchemy.engine.Engine BEGIN (implicit)\n",
      "2025-06-04 17:52:34,051 INFO sqlalchemy.engine.Engine SELECT pg_catalog.pg_class.relname \n",
      "FROM pg_catalog.pg_class JOIN pg_catalog.pg_namespace ON pg_catalog.pg_namespace.oid = pg_catalog.pg_class.relnamespace \n",
      "WHERE pg_catalog.pg_class.relname = %(table_name)s AND pg_catalog.pg_class.relkind = ANY (ARRAY[%(param_1)s, %(param_2)s, %(param_3)s, %(param_4)s, %(param_5)s]) AND pg_catalog.pg_table_is_visible(pg_catalog.pg_class.oid) AND pg_catalog.pg_namespace.nspname != %(nspname_1)s\n",
      "2025-06-04 17:52:34,051 INFO sqlalchemy.engine.Engine [generated in 0.00105s] {'table_name': <sqlalchemy.sql.elements.TextClause object at 0x11fb9f430>, 'param_1': 'r', 'param_2': 'p', 'param_3': 'f', 'param_4': 'v', 'param_5': 'm', 'nspname_1': 'pg_catalog'}\n",
      "2025-06-04 17:52:34,052 INFO sqlalchemy.engine.Engine SELECT\n",
      "    rebalance_events.*,\n",
      "    transactions.block,\n",
      "    autopool_states.total_nav,\n",
      "    rebalance_plans.move_name,\n",
      "    blocks.datetime\n",
      "FROM rebalance_events\n",
      "JOIN transactions\n",
      "  ON transactions.tx_hash = rebalance_events.tx_hash\n",
      "JOIN autopool_states\n",
      "  ON autopool_states.block = transactions.block\n",
      "JOIN rebalance_plans\n",
      "  ON rebalance_plans.file_name = rebalance_events.rebalance_file_path\n",
      "JOIN blocks\n",
      "  ON transactions.block = blocks.block AND transactions.chain_id = blocks.chain_id\n",
      "WHERE\n",
      "    (rebalance_events.autopool_vault_address = '0x79eB84B5E30Ef2481c8f00fD0Aa7aAd6Ac0AA54d') AND\n",
      "     (autopool_states.autopool_vault_address = '0x79eB84B5E30Ef2481c8f00fD0Aa7aAd6Ac0AA54d') AND\n",
      "     (rebalance_plans.autopool_vault_address = '0x79eB84B5E30Ef2481c8f00fD0Aa7aAd6Ac0AA54d')\n",
      "ORDER BY\n",
      "    blocks.datetime ASC\n",
      "\n",
      "2025-06-04 17:52:34,053 INFO sqlalchemy.engine.Engine [generated in 0.00112s] {}\n",
      "2025-06-04 17:52:34,277 INFO sqlalchemy.engine.Engine ROLLBACK\n"
     ]
    },
    {
     "name": "stderr",
     "output_type": "stream",
     "text": [
      "2025-06-04 17:52:34.356 Thread 'MainThread': missing ScriptRunContext! This warning can be ignored when running in bare mode.\n",
      "2025-06-04 17:52:34.357 Thread 'MainThread': missing ScriptRunContext! This warning can be ignored when running in bare mode.\n",
      "2025-06-04 17:52:34.358 Thread 'MainThread': missing ScriptRunContext! This warning can be ignored when running in bare mode.\n",
      "2025-06-04 17:52:34.358 Thread 'MainThread': missing ScriptRunContext! This warning can be ignored when running in bare mode.\n",
      "2025-06-04 17:52:34.359 Thread 'MainThread': missing ScriptRunContext! This warning can be ignored when running in bare mode.\n"
     ]
    },
    {
     "name": "stdout",
     "output_type": "stream",
     "text": [
      "2025-06-04 17:52:34,434 INFO sqlalchemy.engine.Engine BEGIN (implicit)\n",
      "2025-06-04 17:52:34,434 INFO sqlalchemy.engine.Engine SELECT pg_catalog.pg_class.relname \n",
      "FROM pg_catalog.pg_class JOIN pg_catalog.pg_namespace ON pg_catalog.pg_namespace.oid = pg_catalog.pg_class.relnamespace \n",
      "WHERE pg_catalog.pg_class.relname = %(table_name)s AND pg_catalog.pg_class.relkind = ANY (ARRAY[%(param_1)s, %(param_2)s, %(param_3)s, %(param_4)s, %(param_5)s]) AND pg_catalog.pg_table_is_visible(pg_catalog.pg_class.oid) AND pg_catalog.pg_namespace.nspname != %(nspname_1)s\n",
      "2025-06-04 17:52:34,435 INFO sqlalchemy.engine.Engine [cached since 0.3842s ago] {'table_name': <sqlalchemy.sql.elements.TextClause object at 0x11fb9fc40>, 'param_1': 'r', 'param_2': 'p', 'param_3': 'f', 'param_4': 'v', 'param_5': 'm', 'nspname_1': 'pg_catalog'}\n",
      "2025-06-04 17:52:34,436 INFO sqlalchemy.engine.Engine SELECT\n",
      "    destination_tokens.*,\n",
      "    tokens.symbol,\n",
      "    tokens.decimals\n",
      "FROM destination_tokens\n",
      "JOIN tokens\n",
      "  ON destination_tokens.token_address = tokens.token_address\n",
      "\n",
      "2025-06-04 17:52:34,436 INFO sqlalchemy.engine.Engine [generated in 0.00066s] {}\n",
      "2025-06-04 17:52:34,653 INFO sqlalchemy.engine.Engine ROLLBACK\n"
     ]
    },
    {
     "name": "stderr",
     "output_type": "stream",
     "text": [
      "2025-06-04 17:52:34.726 Thread 'MainThread': missing ScriptRunContext! This warning can be ignored when running in bare mode.\n",
      "2025-06-04 17:52:34.727 Thread 'MainThread': missing ScriptRunContext! This warning can be ignored when running in bare mode.\n"
     ]
    },
    {
     "name": "stdout",
     "output_type": "stream",
     "text": [
      "2025-06-04 17:52:34,801 INFO sqlalchemy.engine.Engine BEGIN (implicit)\n",
      "2025-06-04 17:52:34,802 INFO sqlalchemy.engine.Engine SELECT pg_catalog.pg_class.relname \n",
      "FROM pg_catalog.pg_class JOIN pg_catalog.pg_namespace ON pg_catalog.pg_namespace.oid = pg_catalog.pg_class.relnamespace \n",
      "WHERE pg_catalog.pg_class.relname = %(table_name)s AND pg_catalog.pg_class.relkind = ANY (ARRAY[%(param_1)s, %(param_2)s, %(param_3)s, %(param_4)s, %(param_5)s]) AND pg_catalog.pg_table_is_visible(pg_catalog.pg_class.oid) AND pg_catalog.pg_namespace.nspname != %(nspname_1)s\n",
      "2025-06-04 17:52:34,802 INFO sqlalchemy.engine.Engine [cached since 0.7519s ago] {'table_name': <sqlalchemy.sql.elements.TextClause object at 0x11fad4160>, 'param_1': 'r', 'param_2': 'p', 'param_3': 'f', 'param_4': 'v', 'param_5': 'm', 'nspname_1': 'pg_catalog'}\n",
      "2025-06-04 17:52:34,803 INFO sqlalchemy.engine.Engine \n",
      "            SELECT *\n",
      "            FROM destinations\n",
      "            WHERE destinations.chain_id = 1\n",
      "        \n",
      "2025-06-04 17:52:34,804 INFO sqlalchemy.engine.Engine [generated in 0.00072s] {}\n",
      "2025-06-04 17:52:34,953 INFO sqlalchemy.engine.Engine ROLLBACK\n"
     ]
    },
    {
     "data": {
      "application/vnd.microsoft.datawrangler.viewer.v0+json": {
       "columns": [
        {
         "name": "datetime",
         "rawType": "datetime64[ns, UTC]",
         "type": "unknown"
        },
        {
         "name": "tx_hash",
         "rawType": "object",
         "type": "string"
        },
        {
         "name": "autopool_vault_address",
         "rawType": "object",
         "type": "string"
        },
        {
         "name": "chain_id",
         "rawType": "int64",
         "type": "integer"
        },
        {
         "name": "rebalance_file_path",
         "rawType": "object",
         "type": "string"
        },
        {
         "name": "destination_out",
         "rawType": "object",
         "type": "string"
        },
        {
         "name": "destination_in",
         "rawType": "object",
         "type": "string"
        },
        {
         "name": "quantity_out",
         "rawType": "float64",
         "type": "float"
        },
        {
         "name": "quantity_in",
         "rawType": "float64",
         "type": "float"
        },
        {
         "name": "safe_value_out",
         "rawType": "float64",
         "type": "float"
        },
        {
         "name": "safe_value_in",
         "rawType": "float64",
         "type": "float"
        },
        {
         "name": "spot_value_in",
         "rawType": "float64",
         "type": "float"
        },
        {
         "name": "spot_value_out",
         "rawType": "float64",
         "type": "float"
        },
        {
         "name": "spot_value_in_solver_change",
         "rawType": "float64",
         "type": "float"
        },
        {
         "name": "block",
         "rawType": "int64",
         "type": "integer"
        },
        {
         "name": "total_nav",
         "rawType": "float64",
         "type": "float"
        },
        {
         "name": "move_name",
         "rawType": "object",
         "type": "string"
        },
        {
         "name": "destination_in_symbol",
         "rawType": "object",
         "type": "string"
        },
        {
         "name": "destination_out_symbol",
         "rawType": "object",
         "type": "string"
        },
        {
         "name": "destination_in_tokens",
         "rawType": "object",
         "type": "string"
        },
        {
         "name": "destination_out_tokens",
         "rawType": "object",
         "type": "string"
        },
        {
         "name": "tokens_move_name",
         "rawType": "object",
         "type": "string"
        },
        {
         "name": "spot_swap_cost",
         "rawType": "float64",
         "type": "float"
        },
        {
         "name": "spot_slippage_bps",
         "rawType": "float64",
         "type": "float"
        },
        {
         "name": "safe_swap_cost",
         "rawType": "float64",
         "type": "float"
        },
        {
         "name": "safe_slippage_bps",
         "rawType": "float64",
         "type": "float"
        },
        {
         "name": "swap_cost_in_bps_of_value_out",
         "rawType": "float64",
         "type": "float"
        },
        {
         "name": "swap_cost_in_bps_of_NAV",
         "rawType": "float64",
         "type": "float"
        },
        {
         "name": "from_idle",
         "rawType": "bool",
         "type": "boolean"
        },
        {
         "name": "swap_cost_in_bps_of_value_out_from_idle",
         "rawType": "float64",
         "type": "float"
        },
        {
         "name": "swap_cost_in_bps_of_NAV_from_idle",
         "rawType": "float64",
         "type": "float"
        },
        {
         "name": "swap_cost_in_bps_of_value_out_not_from_idle",
         "rawType": "float64",
         "type": "float"
        },
        {
         "name": "swap_cost_in_bps_of_NAV_not_from_idle",
         "rawType": "float64",
         "type": "float"
        }
       ],
       "ref": "a0c8caa2-0586-49ec-ab2b-c181a50590d0",
       "rows": [
        [
         "2025-05-31 12:16:11+00:00",
         "0x5ec201906fb3404bc1c6ca20b64878db450f288f14367030447d983e6214d634",
         "0x79eB84B5E30Ef2481c8f00fD0Aa7aAd6Ac0AA54d",
         "1",
         "rebalance_plan_1748693691_0x79eB84B5E30Ef2481c8f00fD0Aa7aAd6Ac0AA54d.json",
         "0x79eB84B5E30Ef2481c8f00fD0Aa7aAd6Ac0AA54d",
         "0x9828b1a3742457D70cE428ddd3Aa51f84ffb37F2",
         "260.7114425462012",
         "261.29954485611586",
         "260.7114425462012",
         "260.4701576062223",
         "260.55536777366973",
         "260.7114425462012",
         "0.03910671638191309",
         "22602649",
         "1042.64709032855",
         "autoDOLA -> reusdsdola",
         "reusdsdola",
         "autoDOLA",
         "('sDOLA', 'reUSD')",
         "('DOLA',)",
         "('DOLA',) -> ('sDOLA', 'reUSD')",
         "0.15607477253149682",
         "5.986494915881511",
         "0.2412849399789252",
         "9.254865748217652",
         "5.986494915881511",
         "1.4969089155786728",
         "True",
         "5.986494915881511",
         "1.4969089155786728",
         "0.0",
         "0.0"
        ],
        [
         "2025-06-01 01:56:11+00:00",
         "0xfd99d0c3a72b198506caef16fd73a1d3e9461f69e3a830d164b2f3ae82964e14",
         "0x79eB84B5E30Ef2481c8f00fD0Aa7aAd6Ac0AA54d",
         "1",
         "rebalance_plan_1748742897_0x79eB84B5E30Ef2481c8f00fD0Aa7aAd6Ac0AA54d.json",
         "0x79eB84B5E30Ef2481c8f00fD0Aa7aAd6Ac0AA54d",
         "0x9828b1a3742457D70cE428ddd3Aa51f84ffb37F2",
         "250.0",
         "250.58807794217665",
         "250.0",
         "249.87465578199996",
         "249.88456838403786",
         "250.0",
         "0.037500000000008187",
         "22606716",
         "1042.5747351206046",
         "autoDOLA -> reusdsdola",
         "reusdsdola",
         "autoDOLA",
         "('sDOLA', 'reUSD')",
         "('DOLA',)",
         "('DOLA',) -> ('sDOLA', 'reUSD')",
         "0.11543161596213736",
         "4.617264638485494",
         "0.1253442180000377",
         "5.013768720001508",
         "4.617264638485494",
         "1.1071783352661455",
         "True",
         "4.617264638485494",
         "1.1071783352661455",
         "0.0",
         "0.0"
        ],
        [
         "2025-06-01 19:56:11+00:00",
         "0x598beaa475b95a70e398e864e545a607cb6944ebab72ce14005ad5f089af99ff",
         "0x79eB84B5E30Ef2481c8f00fD0Aa7aAd6Ac0AA54d",
         "1",
         "rebalance_plan_1748807696_0x79eB84B5E30Ef2481c8f00fD0Aa7aAd6Ac0AA54d.json",
         "0x79eB84B5E30Ef2481c8f00fD0Aa7aAd6Ac0AA54d",
         "0x9828b1a3742457D70cE428ddd3Aa51f84ffb37F2",
         "250.0",
         "250.66951432044846",
         "250.0",
         "249.98500250614316",
         "249.9180355948249",
         "250.0",
         "0.03750000000000819",
         "22612068",
         "1042.5072645006317",
         "autoDOLA -> reusdsdola",
         "reusdsdola",
         "autoDOLA",
         "('sDOLA', 'reUSD')",
         "('DOLA',)",
         "('DOLA',) -> ('sDOLA', 'reUSD')",
         "0.08196440517511405",
         "3.278576207004562",
         "0.014997493856839128",
         "0.5998997542735651",
         "3.278576207004562",
         "0.7862238275564974",
         "True",
         "3.278576207004562",
         "0.7862238275564974",
         "0.0",
         "0.0"
        ],
        [
         "2025-06-02 22:04:47+00:00",
         "0x3589558715a108df5e64ee343b3360bedf8c4d542c79ad296be470177e531f20",
         "0x79eB84B5E30Ef2481c8f00fD0Aa7aAd6Ac0AA54d",
         "1",
         "rebalance_plan_1748901807_0x79eB84B5E30Ef2481c8f00fD0Aa7aAd6Ac0AA54d.json",
         "0x79eB84B5E30Ef2481c8f00fD0Aa7aAd6Ac0AA54d",
         "0x9828b1a3742457D70cE428ddd3Aa51f84ffb37F2",
         "20000.0",
         "20048.77337800364",
         "20000.0",
         "19975.99214515031",
         "19988.51285682964",
         "20000.0",
         "3.000000000001311",
         "22619843",
         "26363.706753175305",
         "autoDOLA -> reusdsdola",
         "reusdsdola",
         "autoDOLA",
         "('sDOLA', 'reUSD')",
         "('DOLA',)",
         "('DOLA',) -> ('sDOLA', 'reUSD')",
         "11.487143170361378",
         "5.743571585180689",
         "24.007854849689465",
         "12.003927424844733",
         "5.743571585180689",
         "4.357180603587862",
         "True",
         "5.743571585180689",
         "4.357180603587862",
         "0.0",
         "0.0"
        ],
        [
         "2025-06-03 03:03:35+00:00",
         "0x87753fb83f4f460b4c24ce084fe202abeb68e485870080777f7c1f8ef0e7f299",
         "0x79eB84B5E30Ef2481c8f00fD0Aa7aAd6Ac0AA54d",
         "1",
         "rebalance_plan_1748919730_0x79eB84B5E30Ef2481c8f00fD0Aa7aAd6Ac0AA54d.json",
         "0x79eB84B5E30Ef2481c8f00fD0Aa7aAd6Ac0AA54d",
         "0x9828b1a3742457D70cE428ddd3Aa51f84ffb37F2",
         "40000.0",
         "40045.397846063956",
         "40000.0",
         "39933.329519166415",
         "39936.25525588868",
         "40000.0",
         "5.999999999994232",
         "22621325",
         "990861.9452651492",
         "autoDOLA -> reusdsdola",
         "reusdsdola",
         "autoDOLA",
         "('sDOLA', 'reUSD')",
         "('DOLA',)",
         "('DOLA',) -> ('sDOLA', 'reUSD')",
         "63.74474411131814",
         "15.936186027829535",
         "66.67048083358532",
         "16.66762020839633",
         "15.936186027829535",
         "0.6433261910594457",
         "True",
         "15.936186027829535",
         "0.6433261910594457",
         "0.0",
         "0.0"
        ],
        [
         "2025-06-03 04:34:59+00:00",
         "0x272e39d795a4a38e6cc22ec9e54deb92fa068c83304d5a6e7054c9d68702d21d",
         "0x79eB84B5E30Ef2481c8f00fD0Aa7aAd6Ac0AA54d",
         "1",
         "rebalance_plan_1748925231_0x79eB84B5E30Ef2481c8f00fD0Aa7aAd6Ac0AA54d.json",
         "0x79eB84B5E30Ef2481c8f00fD0Aa7aAd6Ac0AA54d",
         "0x116b3e86f2b04c21605c5fC4b95Ba6A82dBF8F3E",
         "507586.6516467986",
         "448213.8860338266",
         "507586.6516467986",
         "507510.5136490516",
         "506242.41468696675",
         "507586.6516467986",
         "76.13799774700962",
         "22621780",
         "1075151.7577863599",
         "autoDOLA -> sDOLA",
         "sDOLA",
         "autoDOLA",
         "('sDOLA',)",
         "('DOLA',)",
         "('DOLA',) -> ('sDOLA',)",
         "1344.2369598318473",
         "26.482906031327776",
         "76.13799774699146",
         "1.4999999999994418",
         "26.482906031327776",
         "12.502764843165112",
         "True",
         "26.482906031327776",
         "12.502764843165112",
         "0.0",
         "0.0"
        ],
        [
         "2025-06-03 05:52:47+00:00",
         "0x7ed68b1503242dd0419df2e2af3608e3ad36da7e9d3926822f98caefa252b3ab",
         "0x79eB84B5E30Ef2481c8f00fD0Aa7aAd6Ac0AA54d",
         "1",
         "rebalance_plan_1748929907_0x79eB84B5E30Ef2481c8f00fD0Aa7aAd6Ac0AA54d.json",
         "0x79eB84B5E30Ef2481c8f00fD0Aa7aAd6Ac0AA54d",
         "0x116b3e86f2b04c21605c5fC4b95Ba6A82dBF8F3E",
         "253793.3258233993",
         "224104.48385290755",
         "253793.3258233993",
         "253755.2568245258",
         "253527.3744948064",
         "253793.3258233993",
         "38.06899887350481",
         "22622168",
         "1075411.481334539",
         "autoDOLA -> sDOLA",
         "sDOLA",
         "autoDOLA",
         "('sDOLA',)",
         "('DOLA',)",
         "('DOLA',) -> ('sDOLA',)",
         "265.9513285928988",
         "10.479051319811285",
         "38.06899887349573",
         "1.4999999999994418",
         "10.479051319811285",
         "2.473019241554542",
         "True",
         "10.479051319811285",
         "2.473019241554542",
         "0.0",
         "0.0"
        ],
        [
         "2025-06-03 08:04:35+00:00",
         "0x92945b1955089f6bc009754f5f0e88a72ac5b9823dd701eaf684fa2943bc6499",
         "0x79eB84B5E30Ef2481c8f00fD0Aa7aAd6Ac0AA54d",
         "1",
         "rebalance_plan_1748937807_0x79eB84B5E30Ef2481c8f00fD0Aa7aAd6Ac0AA54d.json",
         "0x79eB84B5E30Ef2481c8f00fD0Aa7aAd6Ac0AA54d",
         "0x9828b1a3742457D70cE428ddd3Aa51f84ffb37F2",
         "49999.99999999999",
         "50053.93331358566",
         "49999.99999999999",
         "49960.2695852287",
         "49932.90225390263",
         "49999.99999999999",
         "7.499999999999076",
         "22622823",
         "1330456.1285703161",
         "autoDOLA -> reusdsdola",
         "reusdsdola",
         "autoDOLA",
         "('sDOLA', 'reUSD')",
         "('DOLA',)",
         "('DOLA',) -> ('sDOLA', 'reUSD')",
         "67.09774609736633",
         "13.419549219473266",
         "39.730414771293",
         "7.946082954258601",
         "13.419549219473266",
         "0.5043213726217965",
         "True",
         "13.419549219473266",
         "0.5043213726217965",
         "0.0",
         "0.0"
        ],
        [
         "2025-06-03 12:04:35+00:00",
         "0x692e3b3232da729451ac45ae2628d1968e992c401a416c285f4e085a68d8b388",
         "0x79eB84B5E30Ef2481c8f00fD0Aa7aAd6Ac0AA54d",
         "1",
         "rebalance_plan_1748952206_0x79eB84B5E30Ef2481c8f00fD0Aa7aAd6Ac0AA54d.json",
         "0x79eB84B5E30Ef2481c8f00fD0Aa7aAd6Ac0AA54d",
         "0x9828b1a3742457D70cE428ddd3Aa51f84ffb37F2",
         "49999.99999999999",
         "50116.633594886705",
         "49999.99999999999",
         "50024.97417602564",
         "49995.36070565218",
         "49999.99999999999",
         "7.499999999996987",
         "22624010",
         "1431015.4829960947",
         "autoDOLA -> reusdsdola",
         "reusdsdola",
         "autoDOLA",
         "('sDOLA', 'reUSD')",
         "('DOLA',)",
         "('DOLA',) -> ('sDOLA', 'reUSD')",
         "4.63929434781312",
         "0.9278588695626242",
         "-24.97417602564383",
         "-4.9948352051287666",
         "0.9278588695626242",
         "0.03241959575517591",
         "True",
         "0.9278588695626242",
         "0.03241959575517591",
         "0.0",
         "0.0"
        ],
        [
         "2025-06-03 14:04:35+00:00",
         "0x5b1cb3152d7d4e0b321521e0edd71b0f340e4b64b1f5b25b194edf955ea3df46",
         "0x79eB84B5E30Ef2481c8f00fD0Aa7aAd6Ac0AA54d",
         "1",
         "rebalance_plan_1748959407_0x79eB84B5E30Ef2481c8f00fD0Aa7aAd6Ac0AA54d.json",
         "0x79eB84B5E30Ef2481c8f00fD0Aa7aAd6Ac0AA54d",
         "0x116b3e86f2b04c21605c5fC4b95Ba6A82dBF8F3E",
         "254700.37768009517",
         "224889.88088163896",
         "254700.37768009517",
         "254662.17262344318",
         "254502.5852873283",
         "254700.37768009517",
         "38.20505665199775",
         "22624605",
         "1431053.3932958066",
         "autoDOLA -> sDOLA",
         "sDOLA",
         "autoDOLA",
         "('sDOLA',)",
         "('DOLA',)",
         "('DOLA',) -> ('sDOLA',)",
         "197.79239276688895",
         "7.765689025216802",
         "38.20505665199016",
         "1.4999999999990532",
         "7.765689025216802",
         "1.3821454440030398",
         "True",
         "7.765689025216802",
         "1.3821454440030398",
         "0.0",
         "0.0"
        ],
        [
         "2025-06-03 16:03:23+00:00",
         "0x5f1f1f2793a5298cc16b062766077272c6bc43d510091892ea0feb717817e05b",
         "0x79eB84B5E30Ef2481c8f00fD0Aa7aAd6Ac0AA54d",
         "1",
         "rebalance_plan_1748966519_0x79eB84B5E30Ef2481c8f00fD0Aa7aAd6Ac0AA54d.json",
         "0x79eB84B5E30Ef2481c8f00fD0Aa7aAd6Ac0AA54d",
         "0x9828b1a3742457D70cE428ddd3Aa51f84ffb37F2",
         "48259.25497266585",
         "48367.0397259192",
         "48259.25497266585",
         "48225.16461565266",
         "48233.04703213517",
         "48259.25497266585",
         "7.23888824590216",
         "22625194",
         "1369242.7472996674",
         "autoDOLA -> reusdsdola",
         "reusdsdola",
         "autoDOLA",
         "('sDOLA', 'reUSD')",
         "('DOLA',)",
         "('DOLA',) -> ('sDOLA', 'reUSD')",
         "26.20794053067948",
         "5.4306558494373185",
         "34.090357013184985",
         "7.064003999335224",
         "5.4306558494373185",
         "0.19140463283347744",
         "True",
         "5.4306558494373185",
         "0.19140463283347744",
         "0.0",
         "0.0"
        ],
        [
         "2025-06-03 16:36:35+00:00",
         "0xcfb63b3d8c7ac1d386731178169eab4974ecc9f30ed2f7cc415e6f3594c3590b",
         "0x79eB84B5E30Ef2481c8f00fD0Aa7aAd6Ac0AA54d",
         "1",
         "rebalance_plan_1748968513_0x79eB84B5E30Ef2481c8f00fD0Aa7aAd6Ac0AA54d.json",
         "0x79eB84B5E30Ef2481c8f00fD0Aa7aAd6Ac0AA54d",
         "0x9828b1a3742457D70cE428ddd3Aa51f84ffb37F2",
         "36194.44122949939",
         "36272.29889217583",
         "36194.44122949939",
         "36164.93251040906",
         "36171.532088379245",
         "36194.44122949939",
         "5.429166184423508",
         "22625360",
         "1369212.932262783",
         "autoDOLA -> reusdsdola",
         "reusdsdola",
         "autoDOLA",
         "('sDOLA', 'reUSD')",
         "('DOLA',)",
         "('DOLA',) -> ('sDOLA', 'reUSD')",
         "22.90914112014434",
         "6.329463956877668",
         "29.50871909032867",
         "8.152831785196428",
         "6.329463956877668",
         "0.16731613162814882",
         "True",
         "6.329463956877668",
         "0.16731613162814882",
         "0.0",
         "0.0"
        ],
        [
         "2025-06-03 17:24:47+00:00",
         "0x4653fa3a57dafecd9ba2df4d9353c5e88e226eb57b58a3c242382115c31629d7",
         "0x79eB84B5E30Ef2481c8f00fD0Aa7aAd6Ac0AA54d",
         "1",
         "rebalance_plan_1748971422_0x79eB84B5E30Ef2481c8f00fD0Aa7aAd6Ac0AA54d.json",
         "0x79eB84B5E30Ef2481c8f00fD0Aa7aAd6Ac0AA54d",
         "0x9828b1a3742457D70cE428ddd3Aa51f84ffb37F2",
         "35783.81921968047",
         "35854.60390341977",
         "35783.81921968047",
         "35741.59521829972",
         "35765.30690257821",
         "35783.81921968047",
         "5.367572882955159",
         "22625600",
         "1403746.2705534215",
         "autoDOLA -> reusdsdola",
         "reusdsdola",
         "autoDOLA",
         "('sDOLA', 'reUSD')",
         "('DOLA',)",
         "('DOLA',) -> ('sDOLA', 'reUSD')",
         "18.51231710225693",
         "5.173376544467753",
         "42.224001380745904",
         "11.799747008984287",
         "5.173376544467753",
         "0.13187794326220023",
         "True",
         "5.173376544467753",
         "0.13187794326220023",
         "0.0",
         "0.0"
        ],
        [
         "2025-06-03 22:30:11+00:00",
         "0x461117db10f95db4409316d57f72d7a561ad0e55e54491f37a8a30ea02e53c24",
         "0x79eB84B5E30Ef2481c8f00fD0Aa7aAd6Ac0AA54d",
         "1",
         "rebalance_plan_1748989744_0x79eB84B5E30Ef2481c8f00fD0Aa7aAd6Ac0AA54d.json",
         "0x79eB84B5E30Ef2481c8f00fD0Aa7aAd6Ac0AA54d",
         "0x9828b1a3742457D70cE428ddd3Aa51f84ffb37F2",
         "125000.0",
         "125265.1912310703",
         "125000.0",
         "124906.52881941792",
         "124943.8530258322",
         "125000.0",
         "18.749999999986187",
         "22627116",
         "1480001.6606019072",
         "autoDOLA -> reusdsdola",
         "reusdsdola",
         "autoDOLA",
         "('sDOLA', 'reUSD')",
         "('DOLA',)",
         "('DOLA',) -> ('sDOLA', 'reUSD')",
         "56.14697416780109",
         "4.491757933424087",
         "93.47118058208434",
         "7.477694446566748",
         "4.491757933424087",
         "0.3793710214147089",
         "True",
         "4.491757933424087",
         "0.3793710214147089",
         "0.0",
         "0.0"
        ],
        [
         "2025-06-04 01:59:47+00:00",
         "0x7a3539df864570e92c8c423d60014ccefd55be6e72a10a78c8ee6372246800d6",
         "0x79eB84B5E30Ef2481c8f00fD0Aa7aAd6Ac0AA54d",
         "1",
         "rebalance_plan_1749002316_0x79eB84B5E30Ef2481c8f00fD0Aa7aAd6Ac0AA54d.json",
         "0x79eB84B5E30Ef2481c8f00fD0Aa7aAd6Ac0AA54d",
         "0x9828b1a3742457D70cE428ddd3Aa51f84ffb37F2",
         "56416.401782781046",
         "56538.56178817165",
         "56416.401782781046",
         "56387.2515873136",
         "56397.29905641028",
         "56416.401782781046",
         "8.462460267416702",
         "22628159",
         "1480029.142740314",
         "autoDOLA -> reusdsdola",
         "reusdsdola",
         "autoDOLA",
         "('sDOLA', 'reUSD')",
         "('DOLA',)",
         "('DOLA',) -> ('sDOLA', 'reUSD')",
         "19.102726370765595",
         "3.3860235263348493",
         "29.150195467445883",
         "5.166971757554178",
         "3.3860235263348493",
         "0.12906993395681643",
         "True",
         "3.3860235263348493",
         "0.12906993395681643",
         "0.0",
         "0.0"
        ],
        [
         "2025-06-04 08:04:35+00:00",
         "0x2ae392104fb90a9471094c4df99ec5e0b67722db66821766092bf3163608fe76",
         "0x79eB84B5E30Ef2481c8f00fD0Aa7aAd6Ac0AA54d",
         "1",
         "rebalance_plan_1749024206_0x79eB84B5E30Ef2481c8f00fD0Aa7aAd6Ac0AA54d.json",
         "0x79eB84B5E30Ef2481c8f00fD0Aa7aAd6Ac0AA54d",
         "0xF4CeDDf4e2AEc1aa6b4ef2c64739eCaC5C948fA2",
         "60000.0",
         "56845.576612328696",
         "60000.0",
         "59979.77810490141",
         "59977.72804051109",
         "60000.0",
         "8.999999999999744",
         "22629969",
         "1698918.4376013197",
         "autoDOLA -> savedola",
         "savedola",
         "autoDOLA",
         "('sDOLA', 'scrvUSD')",
         "('DOLA',)",
         "('DOLA',) -> ('sDOLA', 'scrvUSD')",
         "22.271959488913126",
         "3.711993248152188",
         "20.22189509859163",
         "3.3703158497652717",
         "3.711993248152188",
         "0.13109493072756692",
         "True",
         "3.711993248152188",
         "0.13109493072756692",
         "0.0",
         "0.0"
        ],
        [
         "2025-06-04 10:04:35+00:00",
         "0x9d5c8f4952b50d16d8503e16d909582b331a9cfe266ced9487bb19e502b41fcb",
         "0x79eB84B5E30Ef2481c8f00fD0Aa7aAd6Ac0AA54d",
         "1",
         "rebalance_plan_1749031406_0x79eB84B5E30Ef2481c8f00fD0Aa7aAd6Ac0AA54d.json",
         "0x79eB84B5E30Ef2481c8f00fD0Aa7aAd6Ac0AA54d",
         "0x9828b1a3742457D70cE428ddd3Aa51f84ffb37F2",
         "60000.0",
         "60131.61194140203",
         "60000.0",
         "59947.826974624106",
         "59970.91556466089",
         "60000.0",
         "8.999999999999744",
         "22630564",
         "1698749.458752665",
         "autoDOLA -> reusdsdola",
         "reusdsdola",
         "autoDOLA",
         "('sDOLA', 'reUSD')",
         "('DOLA',)",
         "('DOLA',) -> ('sDOLA', 'reUSD')",
         "29.084435339107586",
         "4.847405889851264",
         "52.17302537589421",
         "8.695504229315702",
         "4.847405889851264",
         "0.17121085860691496",
         "True",
         "4.847405889851264",
         "0.17121085860691496",
         "0.0",
         "0.0"
        ],
        [
         "2025-06-04 12:04:47+00:00",
         "0xd0d66ce79f2c50f6a578c6257854229b8599cc5e8e74b76c68d9add0553af2c5",
         "0x79eB84B5E30Ef2481c8f00fD0Aa7aAd6Ac0AA54d",
         "1",
         "rebalance_plan_1749038607_0x79eB84B5E30Ef2481c8f00fD0Aa7aAd6Ac0AA54d.json",
         "0x79eB84B5E30Ef2481c8f00fD0Aa7aAd6Ac0AA54d",
         "0xF4CeDDf4e2AEc1aa6b4ef2c64739eCaC5C948fA2",
         "60000.0",
         "56842.542567065",
         "60000.0",
         "59987.03101099387",
         "59986.05857994801",
         "60000.0",
         "8.999999999995538",
         "22631159",
         "1698746.9971314068",
         "autoDOLA -> savedola",
         "savedola",
         "autoDOLA",
         "('sDOLA', 'scrvUSD')",
         "('DOLA',)",
         "('DOLA',) -> ('sDOLA', 'scrvUSD')",
         "13.941420051989553",
         "2.3235700086649254",
         "12.96898900612723",
         "2.161498167687872",
         "2.3235700086649254",
         "0.08206884295031436",
         "True",
         "2.3235700086649254",
         "0.08206884295031436",
         "0.0",
         "0.0"
        ],
        [
         "2025-06-04 14:04:47+00:00",
         "0x49ba34eafde89f958f3dac2372a3a08c04c68d9ff3476f77ee875222d184d995",
         "0x79eB84B5E30Ef2481c8f00fD0Aa7aAd6Ac0AA54d",
         "1",
         "rebalance_plan_1749045807_0x79eB84B5E30Ef2481c8f00fD0Aa7aAd6Ac0AA54d.json",
         "0x79eB84B5E30Ef2481c8f00fD0Aa7aAd6Ac0AA54d",
         "0xF4CeDDf4e2AEc1aa6b4ef2c64739eCaC5C948fA2",
         "75000.0",
         "71067.3156794413",
         "75000.0",
         "75020.61615221799",
         "75022.5441787407",
         "75000.0",
         "11.249999999997556",
         "22631750",
         "2700182.486576544",
         "autoDOLA -> savedola",
         "savedola",
         "autoDOLA",
         "('sDOLA', 'scrvUSD')",
         "('DOLA',)",
         "('DOLA',) -> ('sDOLA', 'scrvUSD')",
         "-22.5441787407035",
         "-3.0058904987604667",
         "-20.61615221799002",
         "-2.7488202957320027",
         "-3.0058904987604667",
         "-0.08349131531953007",
         "True",
         "-3.0058904987604667",
         "-0.08349131531953007",
         "0.0",
         "0.0"
        ],
        [
         "2025-06-04 16:04:23+00:00",
         "0x2d0b3ed18d1dd395743ae7c50e915a711f249c35079439c9b34038cedf4304a0",
         "0x79eB84B5E30Ef2481c8f00fD0Aa7aAd6Ac0AA54d",
         "1",
         "rebalance_plan_1749053006_0x79eB84B5E30Ef2481c8f00fD0Aa7aAd6Ac0AA54d.json",
         "0x79eB84B5E30Ef2481c8f00fD0Aa7aAd6Ac0AA54d",
         "0x116b3e86f2b04c21605c5fC4b95Ba6A82dBF8F3E",
         "532669.1140017052",
         "470222.74801454705",
         "532669.1140017052",
         "532589.2136346049",
         "532820.7013782122",
         "532669.1140017052",
         "79.90036710022133",
         "22632345",
         "2798794.116236882",
         "autoDOLA -> sDOLA",
         "sDOLA",
         "autoDOLA",
         "('sDOLA',)",
         "('DOLA',)",
         "('DOLA',) -> ('sDOLA',)",
         "-151.58737650699914",
         "-2.845807510185655",
         "79.90036710025743",
         "1.5000000000000309",
         "-2.845807510185655",
         "-0.5416167471111305",
         "True",
         "-2.845807510185655",
         "-0.5416167471111305",
         "0.0",
         "0.0"
        ],
        [
         "2025-06-04 16:29:11+00:00",
         "0x91eb1be77f5b1a06527400e110d749c52fd7c4735663533342eb19e894154f71",
         "0x79eB84B5E30Ef2481c8f00fD0Aa7aAd6Ac0AA54d",
         "1",
         "rebalance_plan_1749054461_0x79eB84B5E30Ef2481c8f00fD0Aa7aAd6Ac0AA54d.json",
         "0x79eB84B5E30Ef2481c8f00fD0Aa7aAd6Ac0AA54d",
         "0x9828b1a3742457D70cE428ddd3Aa51f84ffb37F2",
         "75000.0",
         "75174.46645779672",
         "75000.0",
         "74939.95684471233",
         "74972.72186351614",
         "75000.0",
         "11.249999999999659",
         "22632468",
         "2798730.974171008",
         "autoDOLA -> reusdsdola",
         "reusdsdola",
         "autoDOLA",
         "('sDOLA', 'reUSD')",
         "('DOLA',)",
         "('DOLA',) -> ('sDOLA', 'reUSD')",
         "27.27813648385927",
         "3.6370848645145695",
         "60.043155287668924",
         "8.005754038355857",
         "3.6370848645145695",
         "0.09746608993720496",
         "True",
         "3.6370848645145695",
         "0.09746608993720496",
         "0.0",
         "0.0"
        ],
        [
         "2025-06-04 17:11:59+00:00",
         "0x0560c3d9f2cf0f1b9b2f68e7e446d82f5790037495a93ab6531d57cf0225f2a9",
         "0x79eB84B5E30Ef2481c8f00fD0Aa7aAd6Ac0AA54d",
         "1",
         "rebalance_plan_1749057046_0x79eB84B5E30Ef2481c8f00fD0Aa7aAd6Ac0AA54d.json",
         "0x79eB84B5E30Ef2481c8f00fD0Aa7aAd6Ac0AA54d",
         "0x9828b1a3742457D70cE428ddd3Aa51f84ffb37F2",
         "75000.0",
         "75172.99118216589",
         "75000.0",
         "74996.80038240763",
         "74990.39696932194",
         "75000.0",
         "11.250000000003865",
         "22632682",
         "2870154.6620632703",
         "autoDOLA -> reusdsdola",
         "reusdsdola",
         "autoDOLA",
         "('sDOLA', 'reUSD')",
         "('DOLA',)",
         "('DOLA',) -> ('sDOLA', 'reUSD')",
         "9.60303067805944",
         "1.2804040904079252",
         "3.199617592370487",
         "0.42661567898273156",
         "1.2804040904079252",
         "0.033458234167618346",
         "True",
         "1.2804040904079252",
         "0.033458234167618346",
         "0.0",
         "0.0"
        ],
        [
         "2025-06-04 18:04:35+00:00",
         "0xbfe1ae222fd92543bd085a5e175b785fc2111931052051fb498cd40321dbf2cb",
         "0x79eB84B5E30Ef2481c8f00fD0Aa7aAd6Ac0AA54d",
         "1",
         "rebalance_plan_1749060207_0x79eB84B5E30Ef2481c8f00fD0Aa7aAd6Ac0AA54d.json",
         "0x79eB84B5E30Ef2481c8f00fD0Aa7aAd6Ac0AA54d",
         "0x9828b1a3742457D70cE428ddd3Aa51f84ffb37F2",
         "75000.0",
         "75162.95882675867",
         "75000.0",
         "74983.0318051609",
         "74979.25451347642",
         "75000.0",
         "11.249999999997556",
         "22632940",
         "2870113.867987842",
         "autoDOLA -> reusdsdola",
         "reusdsdola",
         "autoDOLA",
         "('sDOLA', 'reUSD')",
         "('DOLA',)",
         "('DOLA',) -> ('sDOLA', 'reUSD')",
         "20.74548652357771",
         "2.7660648698103616",
         "16.968194839093485",
         "2.262425978545798",
         "2.7660648698103616",
         "0.0722810573997254",
         "True",
         "2.7660648698103616",
         "0.0722810573997254",
         "0.0",
         "0.0"
        ],
        [
         "2025-06-04 20:04:59+00:00",
         "0xc3fb38660270fd2cc72b05928e5d3f42a1886386331b47ddc0291c1cfc986e7b",
         "0x79eB84B5E30Ef2481c8f00fD0Aa7aAd6Ac0AA54d",
         "1",
         "rebalance_plan_1749067407_0x79eB84B5E30Ef2481c8f00fD0Aa7aAd6Ac0AA54d.json",
         "0x79eB84B5E30Ef2481c8f00fD0Aa7aAd6Ac0AA54d",
         "0xF4CeDDf4e2AEc1aa6b4ef2c64739eCaC5C948fA2",
         "75000.0",
         "71059.19589437253",
         "75000.0",
         "74949.60545024245",
         "74941.32574684973",
         "75000.0",
         "11.249999999993406",
         "22633538",
         "2870022.0060053826",
         "autoDOLA -> savedola",
         "savedola",
         "autoDOLA",
         "('sDOLA', 'scrvUSD')",
         "('DOLA',)",
         "('DOLA',) -> ('sDOLA', 'scrvUSD')",
         "58.67425315026776",
         "7.823233753369035",
         "50.39454975754779",
         "6.719273301006372",
         "7.823233753369035",
         "0.20443833889599006",
         "True",
         "7.823233753369035",
         "0.20443833889599006",
         "0.0",
         "0.0"
        ],
        [
         "2025-06-04 21:49:47+00:00",
         "0xb763fcdd93f63b8be16ccede8862a654200a9988835b1f576e75d587b1b3ac67",
         "0x79eB84B5E30Ef2481c8f00fD0Aa7aAd6Ac0AA54d",
         "1",
         "rebalance_plan_1749073703_0x79eB84B5E30Ef2481c8f00fD0Aa7aAd6Ac0AA54d.json",
         "0x79eB84B5E30Ef2481c8f00fD0Aa7aAd6Ac0AA54d",
         "0xF4CeDDf4e2AEc1aa6b4ef2c64739eCaC5C948fA2",
         "75000.0",
         "71045.87967752208",
         "75000.0",
         "74982.94584871882",
         "74983.11139417028",
         "75000.0",
         "11.24999999999335",
         "22634060",
         "2870052.5719611016",
         "autoDOLA -> savedola",
         "savedola",
         "autoDOLA",
         "('sDOLA', 'scrvUSD')",
         "('DOLA',)",
         "('DOLA',) -> ('sDOLA', 'scrvUSD')",
         "16.8886058297212",
         "2.2518141106294935",
         "17.05415128117602",
         "2.273886837490136",
         "2.2518141106294935",
         "0.05884423858543207",
         "True",
         "2.2518141106294935",
         "0.05884423858543207",
         "0.0",
         "0.0"
        ],
        [
         "2025-06-05 00:04:47+00:00",
         "0xc6059f5b5fa75b508da6cdeb6ebace78a9ae1e6bae584ef29e7cac259c467b27",
         "0x79eB84B5E30Ef2481c8f00fD0Aa7aAd6Ac0AA54d",
         "1",
         "rebalance_plan_1749081807_0x79eB84B5E30Ef2481c8f00fD0Aa7aAd6Ac0AA54d.json",
         "0x79eB84B5E30Ef2481c8f00fD0Aa7aAd6Ac0AA54d",
         "0xF4CeDDf4e2AEc1aa6b4ef2c64739eCaC5C948fA2",
         "60000.0",
         "56843.92972622969",
         "60000.0",
         "59982.42728291394",
         "59980.51305560481",
         "60000.0",
         "8.999999999999773",
         "22634727",
         "2869961.710241038",
         "autoDOLA -> savedola",
         "savedola",
         "autoDOLA",
         "('sDOLA', 'scrvUSD')",
         "('DOLA',)",
         "('DOLA',) -> ('sDOLA', 'scrvUSD')",
         "19.48694439519022",
         "3.247824065865037",
         "17.572717086062767",
         "2.928786181010461",
         "3.247824065865037",
         "0.0678996668340693",
         "True",
         "3.247824065865037",
         "0.0678996668340693",
         "0.0",
         "0.0"
        ]
       ],
       "shape": {
        "columns": 32,
        "rows": 26
       }
      },
      "text/html": [
       "<div>\n",
       "<style scoped>\n",
       "    .dataframe tbody tr th:only-of-type {\n",
       "        vertical-align: middle;\n",
       "    }\n",
       "\n",
       "    .dataframe tbody tr th {\n",
       "        vertical-align: top;\n",
       "    }\n",
       "\n",
       "    .dataframe thead th {\n",
       "        text-align: right;\n",
       "    }\n",
       "</style>\n",
       "<table border=\"1\" class=\"dataframe\">\n",
       "  <thead>\n",
       "    <tr style=\"text-align: right;\">\n",
       "      <th></th>\n",
       "      <th>tx_hash</th>\n",
       "      <th>autopool_vault_address</th>\n",
       "      <th>chain_id</th>\n",
       "      <th>rebalance_file_path</th>\n",
       "      <th>destination_out</th>\n",
       "      <th>destination_in</th>\n",
       "      <th>quantity_out</th>\n",
       "      <th>quantity_in</th>\n",
       "      <th>safe_value_out</th>\n",
       "      <th>safe_value_in</th>\n",
       "      <th>...</th>\n",
       "      <th>spot_slippage_bps</th>\n",
       "      <th>safe_swap_cost</th>\n",
       "      <th>safe_slippage_bps</th>\n",
       "      <th>swap_cost_in_bps_of_value_out</th>\n",
       "      <th>swap_cost_in_bps_of_NAV</th>\n",
       "      <th>from_idle</th>\n",
       "      <th>swap_cost_in_bps_of_value_out_from_idle</th>\n",
       "      <th>swap_cost_in_bps_of_NAV_from_idle</th>\n",
       "      <th>swap_cost_in_bps_of_value_out_not_from_idle</th>\n",
       "      <th>swap_cost_in_bps_of_NAV_not_from_idle</th>\n",
       "    </tr>\n",
       "    <tr>\n",
       "      <th>datetime</th>\n",
       "      <th></th>\n",
       "      <th></th>\n",
       "      <th></th>\n",
       "      <th></th>\n",
       "      <th></th>\n",
       "      <th></th>\n",
       "      <th></th>\n",
       "      <th></th>\n",
       "      <th></th>\n",
       "      <th></th>\n",
       "      <th></th>\n",
       "      <th></th>\n",
       "      <th></th>\n",
       "      <th></th>\n",
       "      <th></th>\n",
       "      <th></th>\n",
       "      <th></th>\n",
       "      <th></th>\n",
       "      <th></th>\n",
       "      <th></th>\n",
       "      <th></th>\n",
       "    </tr>\n",
       "  </thead>\n",
       "  <tbody>\n",
       "    <tr>\n",
       "      <th>2025-05-31 12:16:11+00:00</th>\n",
       "      <td>0x5ec201906fb3404bc1c6ca20b64878db450f288f1436...</td>\n",
       "      <td>0x79eB84B5E30Ef2481c8f00fD0Aa7aAd6Ac0AA54d</td>\n",
       "      <td>1</td>\n",
       "      <td>rebalance_plan_1748693691_0x79eB84B5E30Ef2481c...</td>\n",
       "      <td>0x79eB84B5E30Ef2481c8f00fD0Aa7aAd6Ac0AA54d</td>\n",
       "      <td>0x9828b1a3742457D70cE428ddd3Aa51f84ffb37F2</td>\n",
       "      <td>260.711443</td>\n",
       "      <td>261.299545</td>\n",
       "      <td>260.711443</td>\n",
       "      <td>260.470158</td>\n",
       "      <td>...</td>\n",
       "      <td>5.986495</td>\n",
       "      <td>0.241285</td>\n",
       "      <td>9.254866</td>\n",
       "      <td>5.986495</td>\n",
       "      <td>1.496909</td>\n",
       "      <td>True</td>\n",
       "      <td>5.986495</td>\n",
       "      <td>1.496909</td>\n",
       "      <td>0.0</td>\n",
       "      <td>0.0</td>\n",
       "    </tr>\n",
       "    <tr>\n",
       "      <th>2025-06-01 01:56:11+00:00</th>\n",
       "      <td>0xfd99d0c3a72b198506caef16fd73a1d3e9461f69e3a8...</td>\n",
       "      <td>0x79eB84B5E30Ef2481c8f00fD0Aa7aAd6Ac0AA54d</td>\n",
       "      <td>1</td>\n",
       "      <td>rebalance_plan_1748742897_0x79eB84B5E30Ef2481c...</td>\n",
       "      <td>0x79eB84B5E30Ef2481c8f00fD0Aa7aAd6Ac0AA54d</td>\n",
       "      <td>0x9828b1a3742457D70cE428ddd3Aa51f84ffb37F2</td>\n",
       "      <td>250.000000</td>\n",
       "      <td>250.588078</td>\n",
       "      <td>250.000000</td>\n",
       "      <td>249.874656</td>\n",
       "      <td>...</td>\n",
       "      <td>4.617265</td>\n",
       "      <td>0.125344</td>\n",
       "      <td>5.013769</td>\n",
       "      <td>4.617265</td>\n",
       "      <td>1.107178</td>\n",
       "      <td>True</td>\n",
       "      <td>4.617265</td>\n",
       "      <td>1.107178</td>\n",
       "      <td>0.0</td>\n",
       "      <td>0.0</td>\n",
       "    </tr>\n",
       "    <tr>\n",
       "      <th>2025-06-01 19:56:11+00:00</th>\n",
       "      <td>0x598beaa475b95a70e398e864e545a607cb6944ebab72...</td>\n",
       "      <td>0x79eB84B5E30Ef2481c8f00fD0Aa7aAd6Ac0AA54d</td>\n",
       "      <td>1</td>\n",
       "      <td>rebalance_plan_1748807696_0x79eB84B5E30Ef2481c...</td>\n",
       "      <td>0x79eB84B5E30Ef2481c8f00fD0Aa7aAd6Ac0AA54d</td>\n",
       "      <td>0x9828b1a3742457D70cE428ddd3Aa51f84ffb37F2</td>\n",
       "      <td>250.000000</td>\n",
       "      <td>250.669514</td>\n",
       "      <td>250.000000</td>\n",
       "      <td>249.985003</td>\n",
       "      <td>...</td>\n",
       "      <td>3.278576</td>\n",
       "      <td>0.014997</td>\n",
       "      <td>0.599900</td>\n",
       "      <td>3.278576</td>\n",
       "      <td>0.786224</td>\n",
       "      <td>True</td>\n",
       "      <td>3.278576</td>\n",
       "      <td>0.786224</td>\n",
       "      <td>0.0</td>\n",
       "      <td>0.0</td>\n",
       "    </tr>\n",
       "    <tr>\n",
       "      <th>2025-06-02 22:04:47+00:00</th>\n",
       "      <td>0x3589558715a108df5e64ee343b3360bedf8c4d542c79...</td>\n",
       "      <td>0x79eB84B5E30Ef2481c8f00fD0Aa7aAd6Ac0AA54d</td>\n",
       "      <td>1</td>\n",
       "      <td>rebalance_plan_1748901807_0x79eB84B5E30Ef2481c...</td>\n",
       "      <td>0x79eB84B5E30Ef2481c8f00fD0Aa7aAd6Ac0AA54d</td>\n",
       "      <td>0x9828b1a3742457D70cE428ddd3Aa51f84ffb37F2</td>\n",
       "      <td>20000.000000</td>\n",
       "      <td>20048.773378</td>\n",
       "      <td>20000.000000</td>\n",
       "      <td>19975.992145</td>\n",
       "      <td>...</td>\n",
       "      <td>5.743572</td>\n",
       "      <td>24.007855</td>\n",
       "      <td>12.003927</td>\n",
       "      <td>5.743572</td>\n",
       "      <td>4.357181</td>\n",
       "      <td>True</td>\n",
       "      <td>5.743572</td>\n",
       "      <td>4.357181</td>\n",
       "      <td>0.0</td>\n",
       "      <td>0.0</td>\n",
       "    </tr>\n",
       "    <tr>\n",
       "      <th>2025-06-03 03:03:35+00:00</th>\n",
       "      <td>0x87753fb83f4f460b4c24ce084fe202abeb68e4858700...</td>\n",
       "      <td>0x79eB84B5E30Ef2481c8f00fD0Aa7aAd6Ac0AA54d</td>\n",
       "      <td>1</td>\n",
       "      <td>rebalance_plan_1748919730_0x79eB84B5E30Ef2481c...</td>\n",
       "      <td>0x79eB84B5E30Ef2481c8f00fD0Aa7aAd6Ac0AA54d</td>\n",
       "      <td>0x9828b1a3742457D70cE428ddd3Aa51f84ffb37F2</td>\n",
       "      <td>40000.000000</td>\n",
       "      <td>40045.397846</td>\n",
       "      <td>40000.000000</td>\n",
       "      <td>39933.329519</td>\n",
       "      <td>...</td>\n",
       "      <td>15.936186</td>\n",
       "      <td>66.670481</td>\n",
       "      <td>16.667620</td>\n",
       "      <td>15.936186</td>\n",
       "      <td>0.643326</td>\n",
       "      <td>True</td>\n",
       "      <td>15.936186</td>\n",
       "      <td>0.643326</td>\n",
       "      <td>0.0</td>\n",
       "      <td>0.0</td>\n",
       "    </tr>\n",
       "    <tr>\n",
       "      <th>2025-06-03 04:34:59+00:00</th>\n",
       "      <td>0x272e39d795a4a38e6cc22ec9e54deb92fa068c83304d...</td>\n",
       "      <td>0x79eB84B5E30Ef2481c8f00fD0Aa7aAd6Ac0AA54d</td>\n",
       "      <td>1</td>\n",
       "      <td>rebalance_plan_1748925231_0x79eB84B5E30Ef2481c...</td>\n",
       "      <td>0x79eB84B5E30Ef2481c8f00fD0Aa7aAd6Ac0AA54d</td>\n",
       "      <td>0x116b3e86f2b04c21605c5fC4b95Ba6A82dBF8F3E</td>\n",
       "      <td>507586.651647</td>\n",
       "      <td>448213.886034</td>\n",
       "      <td>507586.651647</td>\n",
       "      <td>507510.513649</td>\n",
       "      <td>...</td>\n",
       "      <td>26.482906</td>\n",
       "      <td>76.137998</td>\n",
       "      <td>1.500000</td>\n",
       "      <td>26.482906</td>\n",
       "      <td>12.502765</td>\n",
       "      <td>True</td>\n",
       "      <td>26.482906</td>\n",
       "      <td>12.502765</td>\n",
       "      <td>0.0</td>\n",
       "      <td>0.0</td>\n",
       "    </tr>\n",
       "    <tr>\n",
       "      <th>2025-06-03 05:52:47+00:00</th>\n",
       "      <td>0x7ed68b1503242dd0419df2e2af3608e3ad36da7e9d39...</td>\n",
       "      <td>0x79eB84B5E30Ef2481c8f00fD0Aa7aAd6Ac0AA54d</td>\n",
       "      <td>1</td>\n",
       "      <td>rebalance_plan_1748929907_0x79eB84B5E30Ef2481c...</td>\n",
       "      <td>0x79eB84B5E30Ef2481c8f00fD0Aa7aAd6Ac0AA54d</td>\n",
       "      <td>0x116b3e86f2b04c21605c5fC4b95Ba6A82dBF8F3E</td>\n",
       "      <td>253793.325823</td>\n",
       "      <td>224104.483853</td>\n",
       "      <td>253793.325823</td>\n",
       "      <td>253755.256825</td>\n",
       "      <td>...</td>\n",
       "      <td>10.479051</td>\n",
       "      <td>38.068999</td>\n",
       "      <td>1.500000</td>\n",
       "      <td>10.479051</td>\n",
       "      <td>2.473019</td>\n",
       "      <td>True</td>\n",
       "      <td>10.479051</td>\n",
       "      <td>2.473019</td>\n",
       "      <td>0.0</td>\n",
       "      <td>0.0</td>\n",
       "    </tr>\n",
       "    <tr>\n",
       "      <th>2025-06-03 08:04:35+00:00</th>\n",
       "      <td>0x92945b1955089f6bc009754f5f0e88a72ac5b9823dd7...</td>\n",
       "      <td>0x79eB84B5E30Ef2481c8f00fD0Aa7aAd6Ac0AA54d</td>\n",
       "      <td>1</td>\n",
       "      <td>rebalance_plan_1748937807_0x79eB84B5E30Ef2481c...</td>\n",
       "      <td>0x79eB84B5E30Ef2481c8f00fD0Aa7aAd6Ac0AA54d</td>\n",
       "      <td>0x9828b1a3742457D70cE428ddd3Aa51f84ffb37F2</td>\n",
       "      <td>50000.000000</td>\n",
       "      <td>50053.933314</td>\n",
       "      <td>50000.000000</td>\n",
       "      <td>49960.269585</td>\n",
       "      <td>...</td>\n",
       "      <td>13.419549</td>\n",
       "      <td>39.730415</td>\n",
       "      <td>7.946083</td>\n",
       "      <td>13.419549</td>\n",
       "      <td>0.504321</td>\n",
       "      <td>True</td>\n",
       "      <td>13.419549</td>\n",
       "      <td>0.504321</td>\n",
       "      <td>0.0</td>\n",
       "      <td>0.0</td>\n",
       "    </tr>\n",
       "    <tr>\n",
       "      <th>2025-06-03 12:04:35+00:00</th>\n",
       "      <td>0x692e3b3232da729451ac45ae2628d1968e992c401a41...</td>\n",
       "      <td>0x79eB84B5E30Ef2481c8f00fD0Aa7aAd6Ac0AA54d</td>\n",
       "      <td>1</td>\n",
       "      <td>rebalance_plan_1748952206_0x79eB84B5E30Ef2481c...</td>\n",
       "      <td>0x79eB84B5E30Ef2481c8f00fD0Aa7aAd6Ac0AA54d</td>\n",
       "      <td>0x9828b1a3742457D70cE428ddd3Aa51f84ffb37F2</td>\n",
       "      <td>50000.000000</td>\n",
       "      <td>50116.633595</td>\n",
       "      <td>50000.000000</td>\n",
       "      <td>50024.974176</td>\n",
       "      <td>...</td>\n",
       "      <td>0.927859</td>\n",
       "      <td>-24.974176</td>\n",
       "      <td>-4.994835</td>\n",
       "      <td>0.927859</td>\n",
       "      <td>0.032420</td>\n",
       "      <td>True</td>\n",
       "      <td>0.927859</td>\n",
       "      <td>0.032420</td>\n",
       "      <td>0.0</td>\n",
       "      <td>0.0</td>\n",
       "    </tr>\n",
       "    <tr>\n",
       "      <th>2025-06-03 14:04:35+00:00</th>\n",
       "      <td>0x5b1cb3152d7d4e0b321521e0edd71b0f340e4b64b1f5...</td>\n",
       "      <td>0x79eB84B5E30Ef2481c8f00fD0Aa7aAd6Ac0AA54d</td>\n",
       "      <td>1</td>\n",
       "      <td>rebalance_plan_1748959407_0x79eB84B5E30Ef2481c...</td>\n",
       "      <td>0x79eB84B5E30Ef2481c8f00fD0Aa7aAd6Ac0AA54d</td>\n",
       "      <td>0x116b3e86f2b04c21605c5fC4b95Ba6A82dBF8F3E</td>\n",
       "      <td>254700.377680</td>\n",
       "      <td>224889.880882</td>\n",
       "      <td>254700.377680</td>\n",
       "      <td>254662.172623</td>\n",
       "      <td>...</td>\n",
       "      <td>7.765689</td>\n",
       "      <td>38.205057</td>\n",
       "      <td>1.500000</td>\n",
       "      <td>7.765689</td>\n",
       "      <td>1.382145</td>\n",
       "      <td>True</td>\n",
       "      <td>7.765689</td>\n",
       "      <td>1.382145</td>\n",
       "      <td>0.0</td>\n",
       "      <td>0.0</td>\n",
       "    </tr>\n",
       "    <tr>\n",
       "      <th>2025-06-03 16:03:23+00:00</th>\n",
       "      <td>0x5f1f1f2793a5298cc16b062766077272c6bc43d51009...</td>\n",
       "      <td>0x79eB84B5E30Ef2481c8f00fD0Aa7aAd6Ac0AA54d</td>\n",
       "      <td>1</td>\n",
       "      <td>rebalance_plan_1748966519_0x79eB84B5E30Ef2481c...</td>\n",
       "      <td>0x79eB84B5E30Ef2481c8f00fD0Aa7aAd6Ac0AA54d</td>\n",
       "      <td>0x9828b1a3742457D70cE428ddd3Aa51f84ffb37F2</td>\n",
       "      <td>48259.254973</td>\n",
       "      <td>48367.039726</td>\n",
       "      <td>48259.254973</td>\n",
       "      <td>48225.164616</td>\n",
       "      <td>...</td>\n",
       "      <td>5.430656</td>\n",
       "      <td>34.090357</td>\n",
       "      <td>7.064004</td>\n",
       "      <td>5.430656</td>\n",
       "      <td>0.191405</td>\n",
       "      <td>True</td>\n",
       "      <td>5.430656</td>\n",
       "      <td>0.191405</td>\n",
       "      <td>0.0</td>\n",
       "      <td>0.0</td>\n",
       "    </tr>\n",
       "    <tr>\n",
       "      <th>2025-06-03 16:36:35+00:00</th>\n",
       "      <td>0xcfb63b3d8c7ac1d386731178169eab4974ecc9f30ed2...</td>\n",
       "      <td>0x79eB84B5E30Ef2481c8f00fD0Aa7aAd6Ac0AA54d</td>\n",
       "      <td>1</td>\n",
       "      <td>rebalance_plan_1748968513_0x79eB84B5E30Ef2481c...</td>\n",
       "      <td>0x79eB84B5E30Ef2481c8f00fD0Aa7aAd6Ac0AA54d</td>\n",
       "      <td>0x9828b1a3742457D70cE428ddd3Aa51f84ffb37F2</td>\n",
       "      <td>36194.441229</td>\n",
       "      <td>36272.298892</td>\n",
       "      <td>36194.441229</td>\n",
       "      <td>36164.932510</td>\n",
       "      <td>...</td>\n",
       "      <td>6.329464</td>\n",
       "      <td>29.508719</td>\n",
       "      <td>8.152832</td>\n",
       "      <td>6.329464</td>\n",
       "      <td>0.167316</td>\n",
       "      <td>True</td>\n",
       "      <td>6.329464</td>\n",
       "      <td>0.167316</td>\n",
       "      <td>0.0</td>\n",
       "      <td>0.0</td>\n",
       "    </tr>\n",
       "    <tr>\n",
       "      <th>2025-06-03 17:24:47+00:00</th>\n",
       "      <td>0x4653fa3a57dafecd9ba2df4d9353c5e88e226eb57b58...</td>\n",
       "      <td>0x79eB84B5E30Ef2481c8f00fD0Aa7aAd6Ac0AA54d</td>\n",
       "      <td>1</td>\n",
       "      <td>rebalance_plan_1748971422_0x79eB84B5E30Ef2481c...</td>\n",
       "      <td>0x79eB84B5E30Ef2481c8f00fD0Aa7aAd6Ac0AA54d</td>\n",
       "      <td>0x9828b1a3742457D70cE428ddd3Aa51f84ffb37F2</td>\n",
       "      <td>35783.819220</td>\n",
       "      <td>35854.603903</td>\n",
       "      <td>35783.819220</td>\n",
       "      <td>35741.595218</td>\n",
       "      <td>...</td>\n",
       "      <td>5.173377</td>\n",
       "      <td>42.224001</td>\n",
       "      <td>11.799747</td>\n",
       "      <td>5.173377</td>\n",
       "      <td>0.131878</td>\n",
       "      <td>True</td>\n",
       "      <td>5.173377</td>\n",
       "      <td>0.131878</td>\n",
       "      <td>0.0</td>\n",
       "      <td>0.0</td>\n",
       "    </tr>\n",
       "    <tr>\n",
       "      <th>2025-06-03 22:30:11+00:00</th>\n",
       "      <td>0x461117db10f95db4409316d57f72d7a561ad0e55e544...</td>\n",
       "      <td>0x79eB84B5E30Ef2481c8f00fD0Aa7aAd6Ac0AA54d</td>\n",
       "      <td>1</td>\n",
       "      <td>rebalance_plan_1748989744_0x79eB84B5E30Ef2481c...</td>\n",
       "      <td>0x79eB84B5E30Ef2481c8f00fD0Aa7aAd6Ac0AA54d</td>\n",
       "      <td>0x9828b1a3742457D70cE428ddd3Aa51f84ffb37F2</td>\n",
       "      <td>125000.000000</td>\n",
       "      <td>125265.191231</td>\n",
       "      <td>125000.000000</td>\n",
       "      <td>124906.528819</td>\n",
       "      <td>...</td>\n",
       "      <td>4.491758</td>\n",
       "      <td>93.471181</td>\n",
       "      <td>7.477694</td>\n",
       "      <td>4.491758</td>\n",
       "      <td>0.379371</td>\n",
       "      <td>True</td>\n",
       "      <td>4.491758</td>\n",
       "      <td>0.379371</td>\n",
       "      <td>0.0</td>\n",
       "      <td>0.0</td>\n",
       "    </tr>\n",
       "    <tr>\n",
       "      <th>2025-06-04 01:59:47+00:00</th>\n",
       "      <td>0x7a3539df864570e92c8c423d60014ccefd55be6e72a1...</td>\n",
       "      <td>0x79eB84B5E30Ef2481c8f00fD0Aa7aAd6Ac0AA54d</td>\n",
       "      <td>1</td>\n",
       "      <td>rebalance_plan_1749002316_0x79eB84B5E30Ef2481c...</td>\n",
       "      <td>0x79eB84B5E30Ef2481c8f00fD0Aa7aAd6Ac0AA54d</td>\n",
       "      <td>0x9828b1a3742457D70cE428ddd3Aa51f84ffb37F2</td>\n",
       "      <td>56416.401783</td>\n",
       "      <td>56538.561788</td>\n",
       "      <td>56416.401783</td>\n",
       "      <td>56387.251587</td>\n",
       "      <td>...</td>\n",
       "      <td>3.386024</td>\n",
       "      <td>29.150195</td>\n",
       "      <td>5.166972</td>\n",
       "      <td>3.386024</td>\n",
       "      <td>0.129070</td>\n",
       "      <td>True</td>\n",
       "      <td>3.386024</td>\n",
       "      <td>0.129070</td>\n",
       "      <td>0.0</td>\n",
       "      <td>0.0</td>\n",
       "    </tr>\n",
       "    <tr>\n",
       "      <th>2025-06-04 08:04:35+00:00</th>\n",
       "      <td>0x2ae392104fb90a9471094c4df99ec5e0b67722db6682...</td>\n",
       "      <td>0x79eB84B5E30Ef2481c8f00fD0Aa7aAd6Ac0AA54d</td>\n",
       "      <td>1</td>\n",
       "      <td>rebalance_plan_1749024206_0x79eB84B5E30Ef2481c...</td>\n",
       "      <td>0x79eB84B5E30Ef2481c8f00fD0Aa7aAd6Ac0AA54d</td>\n",
       "      <td>0xF4CeDDf4e2AEc1aa6b4ef2c64739eCaC5C948fA2</td>\n",
       "      <td>60000.000000</td>\n",
       "      <td>56845.576612</td>\n",
       "      <td>60000.000000</td>\n",
       "      <td>59979.778105</td>\n",
       "      <td>...</td>\n",
       "      <td>3.711993</td>\n",
       "      <td>20.221895</td>\n",
       "      <td>3.370316</td>\n",
       "      <td>3.711993</td>\n",
       "      <td>0.131095</td>\n",
       "      <td>True</td>\n",
       "      <td>3.711993</td>\n",
       "      <td>0.131095</td>\n",
       "      <td>0.0</td>\n",
       "      <td>0.0</td>\n",
       "    </tr>\n",
       "    <tr>\n",
       "      <th>2025-06-04 10:04:35+00:00</th>\n",
       "      <td>0x9d5c8f4952b50d16d8503e16d909582b331a9cfe266c...</td>\n",
       "      <td>0x79eB84B5E30Ef2481c8f00fD0Aa7aAd6Ac0AA54d</td>\n",
       "      <td>1</td>\n",
       "      <td>rebalance_plan_1749031406_0x79eB84B5E30Ef2481c...</td>\n",
       "      <td>0x79eB84B5E30Ef2481c8f00fD0Aa7aAd6Ac0AA54d</td>\n",
       "      <td>0x9828b1a3742457D70cE428ddd3Aa51f84ffb37F2</td>\n",
       "      <td>60000.000000</td>\n",
       "      <td>60131.611941</td>\n",
       "      <td>60000.000000</td>\n",
       "      <td>59947.826975</td>\n",
       "      <td>...</td>\n",
       "      <td>4.847406</td>\n",
       "      <td>52.173025</td>\n",
       "      <td>8.695504</td>\n",
       "      <td>4.847406</td>\n",
       "      <td>0.171211</td>\n",
       "      <td>True</td>\n",
       "      <td>4.847406</td>\n",
       "      <td>0.171211</td>\n",
       "      <td>0.0</td>\n",
       "      <td>0.0</td>\n",
       "    </tr>\n",
       "    <tr>\n",
       "      <th>2025-06-04 12:04:47+00:00</th>\n",
       "      <td>0xd0d66ce79f2c50f6a578c6257854229b8599cc5e8e74...</td>\n",
       "      <td>0x79eB84B5E30Ef2481c8f00fD0Aa7aAd6Ac0AA54d</td>\n",
       "      <td>1</td>\n",
       "      <td>rebalance_plan_1749038607_0x79eB84B5E30Ef2481c...</td>\n",
       "      <td>0x79eB84B5E30Ef2481c8f00fD0Aa7aAd6Ac0AA54d</td>\n",
       "      <td>0xF4CeDDf4e2AEc1aa6b4ef2c64739eCaC5C948fA2</td>\n",
       "      <td>60000.000000</td>\n",
       "      <td>56842.542567</td>\n",
       "      <td>60000.000000</td>\n",
       "      <td>59987.031011</td>\n",
       "      <td>...</td>\n",
       "      <td>2.323570</td>\n",
       "      <td>12.968989</td>\n",
       "      <td>2.161498</td>\n",
       "      <td>2.323570</td>\n",
       "      <td>0.082069</td>\n",
       "      <td>True</td>\n",
       "      <td>2.323570</td>\n",
       "      <td>0.082069</td>\n",
       "      <td>0.0</td>\n",
       "      <td>0.0</td>\n",
       "    </tr>\n",
       "    <tr>\n",
       "      <th>2025-06-04 14:04:47+00:00</th>\n",
       "      <td>0x49ba34eafde89f958f3dac2372a3a08c04c68d9ff347...</td>\n",
       "      <td>0x79eB84B5E30Ef2481c8f00fD0Aa7aAd6Ac0AA54d</td>\n",
       "      <td>1</td>\n",
       "      <td>rebalance_plan_1749045807_0x79eB84B5E30Ef2481c...</td>\n",
       "      <td>0x79eB84B5E30Ef2481c8f00fD0Aa7aAd6Ac0AA54d</td>\n",
       "      <td>0xF4CeDDf4e2AEc1aa6b4ef2c64739eCaC5C948fA2</td>\n",
       "      <td>75000.000000</td>\n",
       "      <td>71067.315679</td>\n",
       "      <td>75000.000000</td>\n",
       "      <td>75020.616152</td>\n",
       "      <td>...</td>\n",
       "      <td>-3.005890</td>\n",
       "      <td>-20.616152</td>\n",
       "      <td>-2.748820</td>\n",
       "      <td>-3.005890</td>\n",
       "      <td>-0.083491</td>\n",
       "      <td>True</td>\n",
       "      <td>-3.005890</td>\n",
       "      <td>-0.083491</td>\n",
       "      <td>0.0</td>\n",
       "      <td>0.0</td>\n",
       "    </tr>\n",
       "    <tr>\n",
       "      <th>2025-06-04 16:04:23+00:00</th>\n",
       "      <td>0x2d0b3ed18d1dd395743ae7c50e915a711f249c350794...</td>\n",
       "      <td>0x79eB84B5E30Ef2481c8f00fD0Aa7aAd6Ac0AA54d</td>\n",
       "      <td>1</td>\n",
       "      <td>rebalance_plan_1749053006_0x79eB84B5E30Ef2481c...</td>\n",
       "      <td>0x79eB84B5E30Ef2481c8f00fD0Aa7aAd6Ac0AA54d</td>\n",
       "      <td>0x116b3e86f2b04c21605c5fC4b95Ba6A82dBF8F3E</td>\n",
       "      <td>532669.114002</td>\n",
       "      <td>470222.748015</td>\n",
       "      <td>532669.114002</td>\n",
       "      <td>532589.213635</td>\n",
       "      <td>...</td>\n",
       "      <td>-2.845808</td>\n",
       "      <td>79.900367</td>\n",
       "      <td>1.500000</td>\n",
       "      <td>-2.845808</td>\n",
       "      <td>-0.541617</td>\n",
       "      <td>True</td>\n",
       "      <td>-2.845808</td>\n",
       "      <td>-0.541617</td>\n",
       "      <td>0.0</td>\n",
       "      <td>0.0</td>\n",
       "    </tr>\n",
       "    <tr>\n",
       "      <th>2025-06-04 16:29:11+00:00</th>\n",
       "      <td>0x91eb1be77f5b1a06527400e110d749c52fd7c4735663...</td>\n",
       "      <td>0x79eB84B5E30Ef2481c8f00fD0Aa7aAd6Ac0AA54d</td>\n",
       "      <td>1</td>\n",
       "      <td>rebalance_plan_1749054461_0x79eB84B5E30Ef2481c...</td>\n",
       "      <td>0x79eB84B5E30Ef2481c8f00fD0Aa7aAd6Ac0AA54d</td>\n",
       "      <td>0x9828b1a3742457D70cE428ddd3Aa51f84ffb37F2</td>\n",
       "      <td>75000.000000</td>\n",
       "      <td>75174.466458</td>\n",
       "      <td>75000.000000</td>\n",
       "      <td>74939.956845</td>\n",
       "      <td>...</td>\n",
       "      <td>3.637085</td>\n",
       "      <td>60.043155</td>\n",
       "      <td>8.005754</td>\n",
       "      <td>3.637085</td>\n",
       "      <td>0.097466</td>\n",
       "      <td>True</td>\n",
       "      <td>3.637085</td>\n",
       "      <td>0.097466</td>\n",
       "      <td>0.0</td>\n",
       "      <td>0.0</td>\n",
       "    </tr>\n",
       "    <tr>\n",
       "      <th>2025-06-04 17:11:59+00:00</th>\n",
       "      <td>0x0560c3d9f2cf0f1b9b2f68e7e446d82f5790037495a9...</td>\n",
       "      <td>0x79eB84B5E30Ef2481c8f00fD0Aa7aAd6Ac0AA54d</td>\n",
       "      <td>1</td>\n",
       "      <td>rebalance_plan_1749057046_0x79eB84B5E30Ef2481c...</td>\n",
       "      <td>0x79eB84B5E30Ef2481c8f00fD0Aa7aAd6Ac0AA54d</td>\n",
       "      <td>0x9828b1a3742457D70cE428ddd3Aa51f84ffb37F2</td>\n",
       "      <td>75000.000000</td>\n",
       "      <td>75172.991182</td>\n",
       "      <td>75000.000000</td>\n",
       "      <td>74996.800382</td>\n",
       "      <td>...</td>\n",
       "      <td>1.280404</td>\n",
       "      <td>3.199618</td>\n",
       "      <td>0.426616</td>\n",
       "      <td>1.280404</td>\n",
       "      <td>0.033458</td>\n",
       "      <td>True</td>\n",
       "      <td>1.280404</td>\n",
       "      <td>0.033458</td>\n",
       "      <td>0.0</td>\n",
       "      <td>0.0</td>\n",
       "    </tr>\n",
       "    <tr>\n",
       "      <th>2025-06-04 18:04:35+00:00</th>\n",
       "      <td>0xbfe1ae222fd92543bd085a5e175b785fc21119310520...</td>\n",
       "      <td>0x79eB84B5E30Ef2481c8f00fD0Aa7aAd6Ac0AA54d</td>\n",
       "      <td>1</td>\n",
       "      <td>rebalance_plan_1749060207_0x79eB84B5E30Ef2481c...</td>\n",
       "      <td>0x79eB84B5E30Ef2481c8f00fD0Aa7aAd6Ac0AA54d</td>\n",
       "      <td>0x9828b1a3742457D70cE428ddd3Aa51f84ffb37F2</td>\n",
       "      <td>75000.000000</td>\n",
       "      <td>75162.958827</td>\n",
       "      <td>75000.000000</td>\n",
       "      <td>74983.031805</td>\n",
       "      <td>...</td>\n",
       "      <td>2.766065</td>\n",
       "      <td>16.968195</td>\n",
       "      <td>2.262426</td>\n",
       "      <td>2.766065</td>\n",
       "      <td>0.072281</td>\n",
       "      <td>True</td>\n",
       "      <td>2.766065</td>\n",
       "      <td>0.072281</td>\n",
       "      <td>0.0</td>\n",
       "      <td>0.0</td>\n",
       "    </tr>\n",
       "    <tr>\n",
       "      <th>2025-06-04 20:04:59+00:00</th>\n",
       "      <td>0xc3fb38660270fd2cc72b05928e5d3f42a1886386331b...</td>\n",
       "      <td>0x79eB84B5E30Ef2481c8f00fD0Aa7aAd6Ac0AA54d</td>\n",
       "      <td>1</td>\n",
       "      <td>rebalance_plan_1749067407_0x79eB84B5E30Ef2481c...</td>\n",
       "      <td>0x79eB84B5E30Ef2481c8f00fD0Aa7aAd6Ac0AA54d</td>\n",
       "      <td>0xF4CeDDf4e2AEc1aa6b4ef2c64739eCaC5C948fA2</td>\n",
       "      <td>75000.000000</td>\n",
       "      <td>71059.195894</td>\n",
       "      <td>75000.000000</td>\n",
       "      <td>74949.605450</td>\n",
       "      <td>...</td>\n",
       "      <td>7.823234</td>\n",
       "      <td>50.394550</td>\n",
       "      <td>6.719273</td>\n",
       "      <td>7.823234</td>\n",
       "      <td>0.204438</td>\n",
       "      <td>True</td>\n",
       "      <td>7.823234</td>\n",
       "      <td>0.204438</td>\n",
       "      <td>0.0</td>\n",
       "      <td>0.0</td>\n",
       "    </tr>\n",
       "    <tr>\n",
       "      <th>2025-06-04 21:49:47+00:00</th>\n",
       "      <td>0xb763fcdd93f63b8be16ccede8862a654200a9988835b...</td>\n",
       "      <td>0x79eB84B5E30Ef2481c8f00fD0Aa7aAd6Ac0AA54d</td>\n",
       "      <td>1</td>\n",
       "      <td>rebalance_plan_1749073703_0x79eB84B5E30Ef2481c...</td>\n",
       "      <td>0x79eB84B5E30Ef2481c8f00fD0Aa7aAd6Ac0AA54d</td>\n",
       "      <td>0xF4CeDDf4e2AEc1aa6b4ef2c64739eCaC5C948fA2</td>\n",
       "      <td>75000.000000</td>\n",
       "      <td>71045.879678</td>\n",
       "      <td>75000.000000</td>\n",
       "      <td>74982.945849</td>\n",
       "      <td>...</td>\n",
       "      <td>2.251814</td>\n",
       "      <td>17.054151</td>\n",
       "      <td>2.273887</td>\n",
       "      <td>2.251814</td>\n",
       "      <td>0.058844</td>\n",
       "      <td>True</td>\n",
       "      <td>2.251814</td>\n",
       "      <td>0.058844</td>\n",
       "      <td>0.0</td>\n",
       "      <td>0.0</td>\n",
       "    </tr>\n",
       "    <tr>\n",
       "      <th>2025-06-05 00:04:47+00:00</th>\n",
       "      <td>0xc6059f5b5fa75b508da6cdeb6ebace78a9ae1e6bae58...</td>\n",
       "      <td>0x79eB84B5E30Ef2481c8f00fD0Aa7aAd6Ac0AA54d</td>\n",
       "      <td>1</td>\n",
       "      <td>rebalance_plan_1749081807_0x79eB84B5E30Ef2481c...</td>\n",
       "      <td>0x79eB84B5E30Ef2481c8f00fD0Aa7aAd6Ac0AA54d</td>\n",
       "      <td>0xF4CeDDf4e2AEc1aa6b4ef2c64739eCaC5C948fA2</td>\n",
       "      <td>60000.000000</td>\n",
       "      <td>56843.929726</td>\n",
       "      <td>60000.000000</td>\n",
       "      <td>59982.427283</td>\n",
       "      <td>...</td>\n",
       "      <td>3.247824</td>\n",
       "      <td>17.572717</td>\n",
       "      <td>2.928786</td>\n",
       "      <td>3.247824</td>\n",
       "      <td>0.067900</td>\n",
       "      <td>True</td>\n",
       "      <td>3.247824</td>\n",
       "      <td>0.067900</td>\n",
       "      <td>0.0</td>\n",
       "      <td>0.0</td>\n",
       "    </tr>\n",
       "  </tbody>\n",
       "</table>\n",
       "<p>26 rows × 32 columns</p>\n",
       "</div>"
      ],
      "text/plain": [
       "                                                                     tx_hash  \\\n",
       "datetime                                                                       \n",
       "2025-05-31 12:16:11+00:00  0x5ec201906fb3404bc1c6ca20b64878db450f288f1436...   \n",
       "2025-06-01 01:56:11+00:00  0xfd99d0c3a72b198506caef16fd73a1d3e9461f69e3a8...   \n",
       "2025-06-01 19:56:11+00:00  0x598beaa475b95a70e398e864e545a607cb6944ebab72...   \n",
       "2025-06-02 22:04:47+00:00  0x3589558715a108df5e64ee343b3360bedf8c4d542c79...   \n",
       "2025-06-03 03:03:35+00:00  0x87753fb83f4f460b4c24ce084fe202abeb68e4858700...   \n",
       "2025-06-03 04:34:59+00:00  0x272e39d795a4a38e6cc22ec9e54deb92fa068c83304d...   \n",
       "2025-06-03 05:52:47+00:00  0x7ed68b1503242dd0419df2e2af3608e3ad36da7e9d39...   \n",
       "2025-06-03 08:04:35+00:00  0x92945b1955089f6bc009754f5f0e88a72ac5b9823dd7...   \n",
       "2025-06-03 12:04:35+00:00  0x692e3b3232da729451ac45ae2628d1968e992c401a41...   \n",
       "2025-06-03 14:04:35+00:00  0x5b1cb3152d7d4e0b321521e0edd71b0f340e4b64b1f5...   \n",
       "2025-06-03 16:03:23+00:00  0x5f1f1f2793a5298cc16b062766077272c6bc43d51009...   \n",
       "2025-06-03 16:36:35+00:00  0xcfb63b3d8c7ac1d386731178169eab4974ecc9f30ed2...   \n",
       "2025-06-03 17:24:47+00:00  0x4653fa3a57dafecd9ba2df4d9353c5e88e226eb57b58...   \n",
       "2025-06-03 22:30:11+00:00  0x461117db10f95db4409316d57f72d7a561ad0e55e544...   \n",
       "2025-06-04 01:59:47+00:00  0x7a3539df864570e92c8c423d60014ccefd55be6e72a1...   \n",
       "2025-06-04 08:04:35+00:00  0x2ae392104fb90a9471094c4df99ec5e0b67722db6682...   \n",
       "2025-06-04 10:04:35+00:00  0x9d5c8f4952b50d16d8503e16d909582b331a9cfe266c...   \n",
       "2025-06-04 12:04:47+00:00  0xd0d66ce79f2c50f6a578c6257854229b8599cc5e8e74...   \n",
       "2025-06-04 14:04:47+00:00  0x49ba34eafde89f958f3dac2372a3a08c04c68d9ff347...   \n",
       "2025-06-04 16:04:23+00:00  0x2d0b3ed18d1dd395743ae7c50e915a711f249c350794...   \n",
       "2025-06-04 16:29:11+00:00  0x91eb1be77f5b1a06527400e110d749c52fd7c4735663...   \n",
       "2025-06-04 17:11:59+00:00  0x0560c3d9f2cf0f1b9b2f68e7e446d82f5790037495a9...   \n",
       "2025-06-04 18:04:35+00:00  0xbfe1ae222fd92543bd085a5e175b785fc21119310520...   \n",
       "2025-06-04 20:04:59+00:00  0xc3fb38660270fd2cc72b05928e5d3f42a1886386331b...   \n",
       "2025-06-04 21:49:47+00:00  0xb763fcdd93f63b8be16ccede8862a654200a9988835b...   \n",
       "2025-06-05 00:04:47+00:00  0xc6059f5b5fa75b508da6cdeb6ebace78a9ae1e6bae58...   \n",
       "\n",
       "                                               autopool_vault_address  \\\n",
       "datetime                                                                \n",
       "2025-05-31 12:16:11+00:00  0x79eB84B5E30Ef2481c8f00fD0Aa7aAd6Ac0AA54d   \n",
       "2025-06-01 01:56:11+00:00  0x79eB84B5E30Ef2481c8f00fD0Aa7aAd6Ac0AA54d   \n",
       "2025-06-01 19:56:11+00:00  0x79eB84B5E30Ef2481c8f00fD0Aa7aAd6Ac0AA54d   \n",
       "2025-06-02 22:04:47+00:00  0x79eB84B5E30Ef2481c8f00fD0Aa7aAd6Ac0AA54d   \n",
       "2025-06-03 03:03:35+00:00  0x79eB84B5E30Ef2481c8f00fD0Aa7aAd6Ac0AA54d   \n",
       "2025-06-03 04:34:59+00:00  0x79eB84B5E30Ef2481c8f00fD0Aa7aAd6Ac0AA54d   \n",
       "2025-06-03 05:52:47+00:00  0x79eB84B5E30Ef2481c8f00fD0Aa7aAd6Ac0AA54d   \n",
       "2025-06-03 08:04:35+00:00  0x79eB84B5E30Ef2481c8f00fD0Aa7aAd6Ac0AA54d   \n",
       "2025-06-03 12:04:35+00:00  0x79eB84B5E30Ef2481c8f00fD0Aa7aAd6Ac0AA54d   \n",
       "2025-06-03 14:04:35+00:00  0x79eB84B5E30Ef2481c8f00fD0Aa7aAd6Ac0AA54d   \n",
       "2025-06-03 16:03:23+00:00  0x79eB84B5E30Ef2481c8f00fD0Aa7aAd6Ac0AA54d   \n",
       "2025-06-03 16:36:35+00:00  0x79eB84B5E30Ef2481c8f00fD0Aa7aAd6Ac0AA54d   \n",
       "2025-06-03 17:24:47+00:00  0x79eB84B5E30Ef2481c8f00fD0Aa7aAd6Ac0AA54d   \n",
       "2025-06-03 22:30:11+00:00  0x79eB84B5E30Ef2481c8f00fD0Aa7aAd6Ac0AA54d   \n",
       "2025-06-04 01:59:47+00:00  0x79eB84B5E30Ef2481c8f00fD0Aa7aAd6Ac0AA54d   \n",
       "2025-06-04 08:04:35+00:00  0x79eB84B5E30Ef2481c8f00fD0Aa7aAd6Ac0AA54d   \n",
       "2025-06-04 10:04:35+00:00  0x79eB84B5E30Ef2481c8f00fD0Aa7aAd6Ac0AA54d   \n",
       "2025-06-04 12:04:47+00:00  0x79eB84B5E30Ef2481c8f00fD0Aa7aAd6Ac0AA54d   \n",
       "2025-06-04 14:04:47+00:00  0x79eB84B5E30Ef2481c8f00fD0Aa7aAd6Ac0AA54d   \n",
       "2025-06-04 16:04:23+00:00  0x79eB84B5E30Ef2481c8f00fD0Aa7aAd6Ac0AA54d   \n",
       "2025-06-04 16:29:11+00:00  0x79eB84B5E30Ef2481c8f00fD0Aa7aAd6Ac0AA54d   \n",
       "2025-06-04 17:11:59+00:00  0x79eB84B5E30Ef2481c8f00fD0Aa7aAd6Ac0AA54d   \n",
       "2025-06-04 18:04:35+00:00  0x79eB84B5E30Ef2481c8f00fD0Aa7aAd6Ac0AA54d   \n",
       "2025-06-04 20:04:59+00:00  0x79eB84B5E30Ef2481c8f00fD0Aa7aAd6Ac0AA54d   \n",
       "2025-06-04 21:49:47+00:00  0x79eB84B5E30Ef2481c8f00fD0Aa7aAd6Ac0AA54d   \n",
       "2025-06-05 00:04:47+00:00  0x79eB84B5E30Ef2481c8f00fD0Aa7aAd6Ac0AA54d   \n",
       "\n",
       "                           chain_id  \\\n",
       "datetime                              \n",
       "2025-05-31 12:16:11+00:00         1   \n",
       "2025-06-01 01:56:11+00:00         1   \n",
       "2025-06-01 19:56:11+00:00         1   \n",
       "2025-06-02 22:04:47+00:00         1   \n",
       "2025-06-03 03:03:35+00:00         1   \n",
       "2025-06-03 04:34:59+00:00         1   \n",
       "2025-06-03 05:52:47+00:00         1   \n",
       "2025-06-03 08:04:35+00:00         1   \n",
       "2025-06-03 12:04:35+00:00         1   \n",
       "2025-06-03 14:04:35+00:00         1   \n",
       "2025-06-03 16:03:23+00:00         1   \n",
       "2025-06-03 16:36:35+00:00         1   \n",
       "2025-06-03 17:24:47+00:00         1   \n",
       "2025-06-03 22:30:11+00:00         1   \n",
       "2025-06-04 01:59:47+00:00         1   \n",
       "2025-06-04 08:04:35+00:00         1   \n",
       "2025-06-04 10:04:35+00:00         1   \n",
       "2025-06-04 12:04:47+00:00         1   \n",
       "2025-06-04 14:04:47+00:00         1   \n",
       "2025-06-04 16:04:23+00:00         1   \n",
       "2025-06-04 16:29:11+00:00         1   \n",
       "2025-06-04 17:11:59+00:00         1   \n",
       "2025-06-04 18:04:35+00:00         1   \n",
       "2025-06-04 20:04:59+00:00         1   \n",
       "2025-06-04 21:49:47+00:00         1   \n",
       "2025-06-05 00:04:47+00:00         1   \n",
       "\n",
       "                                                         rebalance_file_path  \\\n",
       "datetime                                                                       \n",
       "2025-05-31 12:16:11+00:00  rebalance_plan_1748693691_0x79eB84B5E30Ef2481c...   \n",
       "2025-06-01 01:56:11+00:00  rebalance_plan_1748742897_0x79eB84B5E30Ef2481c...   \n",
       "2025-06-01 19:56:11+00:00  rebalance_plan_1748807696_0x79eB84B5E30Ef2481c...   \n",
       "2025-06-02 22:04:47+00:00  rebalance_plan_1748901807_0x79eB84B5E30Ef2481c...   \n",
       "2025-06-03 03:03:35+00:00  rebalance_plan_1748919730_0x79eB84B5E30Ef2481c...   \n",
       "2025-06-03 04:34:59+00:00  rebalance_plan_1748925231_0x79eB84B5E30Ef2481c...   \n",
       "2025-06-03 05:52:47+00:00  rebalance_plan_1748929907_0x79eB84B5E30Ef2481c...   \n",
       "2025-06-03 08:04:35+00:00  rebalance_plan_1748937807_0x79eB84B5E30Ef2481c...   \n",
       "2025-06-03 12:04:35+00:00  rebalance_plan_1748952206_0x79eB84B5E30Ef2481c...   \n",
       "2025-06-03 14:04:35+00:00  rebalance_plan_1748959407_0x79eB84B5E30Ef2481c...   \n",
       "2025-06-03 16:03:23+00:00  rebalance_plan_1748966519_0x79eB84B5E30Ef2481c...   \n",
       "2025-06-03 16:36:35+00:00  rebalance_plan_1748968513_0x79eB84B5E30Ef2481c...   \n",
       "2025-06-03 17:24:47+00:00  rebalance_plan_1748971422_0x79eB84B5E30Ef2481c...   \n",
       "2025-06-03 22:30:11+00:00  rebalance_plan_1748989744_0x79eB84B5E30Ef2481c...   \n",
       "2025-06-04 01:59:47+00:00  rebalance_plan_1749002316_0x79eB84B5E30Ef2481c...   \n",
       "2025-06-04 08:04:35+00:00  rebalance_plan_1749024206_0x79eB84B5E30Ef2481c...   \n",
       "2025-06-04 10:04:35+00:00  rebalance_plan_1749031406_0x79eB84B5E30Ef2481c...   \n",
       "2025-06-04 12:04:47+00:00  rebalance_plan_1749038607_0x79eB84B5E30Ef2481c...   \n",
       "2025-06-04 14:04:47+00:00  rebalance_plan_1749045807_0x79eB84B5E30Ef2481c...   \n",
       "2025-06-04 16:04:23+00:00  rebalance_plan_1749053006_0x79eB84B5E30Ef2481c...   \n",
       "2025-06-04 16:29:11+00:00  rebalance_plan_1749054461_0x79eB84B5E30Ef2481c...   \n",
       "2025-06-04 17:11:59+00:00  rebalance_plan_1749057046_0x79eB84B5E30Ef2481c...   \n",
       "2025-06-04 18:04:35+00:00  rebalance_plan_1749060207_0x79eB84B5E30Ef2481c...   \n",
       "2025-06-04 20:04:59+00:00  rebalance_plan_1749067407_0x79eB84B5E30Ef2481c...   \n",
       "2025-06-04 21:49:47+00:00  rebalance_plan_1749073703_0x79eB84B5E30Ef2481c...   \n",
       "2025-06-05 00:04:47+00:00  rebalance_plan_1749081807_0x79eB84B5E30Ef2481c...   \n",
       "\n",
       "                                                      destination_out  \\\n",
       "datetime                                                                \n",
       "2025-05-31 12:16:11+00:00  0x79eB84B5E30Ef2481c8f00fD0Aa7aAd6Ac0AA54d   \n",
       "2025-06-01 01:56:11+00:00  0x79eB84B5E30Ef2481c8f00fD0Aa7aAd6Ac0AA54d   \n",
       "2025-06-01 19:56:11+00:00  0x79eB84B5E30Ef2481c8f00fD0Aa7aAd6Ac0AA54d   \n",
       "2025-06-02 22:04:47+00:00  0x79eB84B5E30Ef2481c8f00fD0Aa7aAd6Ac0AA54d   \n",
       "2025-06-03 03:03:35+00:00  0x79eB84B5E30Ef2481c8f00fD0Aa7aAd6Ac0AA54d   \n",
       "2025-06-03 04:34:59+00:00  0x79eB84B5E30Ef2481c8f00fD0Aa7aAd6Ac0AA54d   \n",
       "2025-06-03 05:52:47+00:00  0x79eB84B5E30Ef2481c8f00fD0Aa7aAd6Ac0AA54d   \n",
       "2025-06-03 08:04:35+00:00  0x79eB84B5E30Ef2481c8f00fD0Aa7aAd6Ac0AA54d   \n",
       "2025-06-03 12:04:35+00:00  0x79eB84B5E30Ef2481c8f00fD0Aa7aAd6Ac0AA54d   \n",
       "2025-06-03 14:04:35+00:00  0x79eB84B5E30Ef2481c8f00fD0Aa7aAd6Ac0AA54d   \n",
       "2025-06-03 16:03:23+00:00  0x79eB84B5E30Ef2481c8f00fD0Aa7aAd6Ac0AA54d   \n",
       "2025-06-03 16:36:35+00:00  0x79eB84B5E30Ef2481c8f00fD0Aa7aAd6Ac0AA54d   \n",
       "2025-06-03 17:24:47+00:00  0x79eB84B5E30Ef2481c8f00fD0Aa7aAd6Ac0AA54d   \n",
       "2025-06-03 22:30:11+00:00  0x79eB84B5E30Ef2481c8f00fD0Aa7aAd6Ac0AA54d   \n",
       "2025-06-04 01:59:47+00:00  0x79eB84B5E30Ef2481c8f00fD0Aa7aAd6Ac0AA54d   \n",
       "2025-06-04 08:04:35+00:00  0x79eB84B5E30Ef2481c8f00fD0Aa7aAd6Ac0AA54d   \n",
       "2025-06-04 10:04:35+00:00  0x79eB84B5E30Ef2481c8f00fD0Aa7aAd6Ac0AA54d   \n",
       "2025-06-04 12:04:47+00:00  0x79eB84B5E30Ef2481c8f00fD0Aa7aAd6Ac0AA54d   \n",
       "2025-06-04 14:04:47+00:00  0x79eB84B5E30Ef2481c8f00fD0Aa7aAd6Ac0AA54d   \n",
       "2025-06-04 16:04:23+00:00  0x79eB84B5E30Ef2481c8f00fD0Aa7aAd6Ac0AA54d   \n",
       "2025-06-04 16:29:11+00:00  0x79eB84B5E30Ef2481c8f00fD0Aa7aAd6Ac0AA54d   \n",
       "2025-06-04 17:11:59+00:00  0x79eB84B5E30Ef2481c8f00fD0Aa7aAd6Ac0AA54d   \n",
       "2025-06-04 18:04:35+00:00  0x79eB84B5E30Ef2481c8f00fD0Aa7aAd6Ac0AA54d   \n",
       "2025-06-04 20:04:59+00:00  0x79eB84B5E30Ef2481c8f00fD0Aa7aAd6Ac0AA54d   \n",
       "2025-06-04 21:49:47+00:00  0x79eB84B5E30Ef2481c8f00fD0Aa7aAd6Ac0AA54d   \n",
       "2025-06-05 00:04:47+00:00  0x79eB84B5E30Ef2481c8f00fD0Aa7aAd6Ac0AA54d   \n",
       "\n",
       "                                                       destination_in  \\\n",
       "datetime                                                                \n",
       "2025-05-31 12:16:11+00:00  0x9828b1a3742457D70cE428ddd3Aa51f84ffb37F2   \n",
       "2025-06-01 01:56:11+00:00  0x9828b1a3742457D70cE428ddd3Aa51f84ffb37F2   \n",
       "2025-06-01 19:56:11+00:00  0x9828b1a3742457D70cE428ddd3Aa51f84ffb37F2   \n",
       "2025-06-02 22:04:47+00:00  0x9828b1a3742457D70cE428ddd3Aa51f84ffb37F2   \n",
       "2025-06-03 03:03:35+00:00  0x9828b1a3742457D70cE428ddd3Aa51f84ffb37F2   \n",
       "2025-06-03 04:34:59+00:00  0x116b3e86f2b04c21605c5fC4b95Ba6A82dBF8F3E   \n",
       "2025-06-03 05:52:47+00:00  0x116b3e86f2b04c21605c5fC4b95Ba6A82dBF8F3E   \n",
       "2025-06-03 08:04:35+00:00  0x9828b1a3742457D70cE428ddd3Aa51f84ffb37F2   \n",
       "2025-06-03 12:04:35+00:00  0x9828b1a3742457D70cE428ddd3Aa51f84ffb37F2   \n",
       "2025-06-03 14:04:35+00:00  0x116b3e86f2b04c21605c5fC4b95Ba6A82dBF8F3E   \n",
       "2025-06-03 16:03:23+00:00  0x9828b1a3742457D70cE428ddd3Aa51f84ffb37F2   \n",
       "2025-06-03 16:36:35+00:00  0x9828b1a3742457D70cE428ddd3Aa51f84ffb37F2   \n",
       "2025-06-03 17:24:47+00:00  0x9828b1a3742457D70cE428ddd3Aa51f84ffb37F2   \n",
       "2025-06-03 22:30:11+00:00  0x9828b1a3742457D70cE428ddd3Aa51f84ffb37F2   \n",
       "2025-06-04 01:59:47+00:00  0x9828b1a3742457D70cE428ddd3Aa51f84ffb37F2   \n",
       "2025-06-04 08:04:35+00:00  0xF4CeDDf4e2AEc1aa6b4ef2c64739eCaC5C948fA2   \n",
       "2025-06-04 10:04:35+00:00  0x9828b1a3742457D70cE428ddd3Aa51f84ffb37F2   \n",
       "2025-06-04 12:04:47+00:00  0xF4CeDDf4e2AEc1aa6b4ef2c64739eCaC5C948fA2   \n",
       "2025-06-04 14:04:47+00:00  0xF4CeDDf4e2AEc1aa6b4ef2c64739eCaC5C948fA2   \n",
       "2025-06-04 16:04:23+00:00  0x116b3e86f2b04c21605c5fC4b95Ba6A82dBF8F3E   \n",
       "2025-06-04 16:29:11+00:00  0x9828b1a3742457D70cE428ddd3Aa51f84ffb37F2   \n",
       "2025-06-04 17:11:59+00:00  0x9828b1a3742457D70cE428ddd3Aa51f84ffb37F2   \n",
       "2025-06-04 18:04:35+00:00  0x9828b1a3742457D70cE428ddd3Aa51f84ffb37F2   \n",
       "2025-06-04 20:04:59+00:00  0xF4CeDDf4e2AEc1aa6b4ef2c64739eCaC5C948fA2   \n",
       "2025-06-04 21:49:47+00:00  0xF4CeDDf4e2AEc1aa6b4ef2c64739eCaC5C948fA2   \n",
       "2025-06-05 00:04:47+00:00  0xF4CeDDf4e2AEc1aa6b4ef2c64739eCaC5C948fA2   \n",
       "\n",
       "                            quantity_out    quantity_in  safe_value_out  \\\n",
       "datetime                                                                  \n",
       "2025-05-31 12:16:11+00:00     260.711443     261.299545      260.711443   \n",
       "2025-06-01 01:56:11+00:00     250.000000     250.588078      250.000000   \n",
       "2025-06-01 19:56:11+00:00     250.000000     250.669514      250.000000   \n",
       "2025-06-02 22:04:47+00:00   20000.000000   20048.773378    20000.000000   \n",
       "2025-06-03 03:03:35+00:00   40000.000000   40045.397846    40000.000000   \n",
       "2025-06-03 04:34:59+00:00  507586.651647  448213.886034   507586.651647   \n",
       "2025-06-03 05:52:47+00:00  253793.325823  224104.483853   253793.325823   \n",
       "2025-06-03 08:04:35+00:00   50000.000000   50053.933314    50000.000000   \n",
       "2025-06-03 12:04:35+00:00   50000.000000   50116.633595    50000.000000   \n",
       "2025-06-03 14:04:35+00:00  254700.377680  224889.880882   254700.377680   \n",
       "2025-06-03 16:03:23+00:00   48259.254973   48367.039726    48259.254973   \n",
       "2025-06-03 16:36:35+00:00   36194.441229   36272.298892    36194.441229   \n",
       "2025-06-03 17:24:47+00:00   35783.819220   35854.603903    35783.819220   \n",
       "2025-06-03 22:30:11+00:00  125000.000000  125265.191231   125000.000000   \n",
       "2025-06-04 01:59:47+00:00   56416.401783   56538.561788    56416.401783   \n",
       "2025-06-04 08:04:35+00:00   60000.000000   56845.576612    60000.000000   \n",
       "2025-06-04 10:04:35+00:00   60000.000000   60131.611941    60000.000000   \n",
       "2025-06-04 12:04:47+00:00   60000.000000   56842.542567    60000.000000   \n",
       "2025-06-04 14:04:47+00:00   75000.000000   71067.315679    75000.000000   \n",
       "2025-06-04 16:04:23+00:00  532669.114002  470222.748015   532669.114002   \n",
       "2025-06-04 16:29:11+00:00   75000.000000   75174.466458    75000.000000   \n",
       "2025-06-04 17:11:59+00:00   75000.000000   75172.991182    75000.000000   \n",
       "2025-06-04 18:04:35+00:00   75000.000000   75162.958827    75000.000000   \n",
       "2025-06-04 20:04:59+00:00   75000.000000   71059.195894    75000.000000   \n",
       "2025-06-04 21:49:47+00:00   75000.000000   71045.879678    75000.000000   \n",
       "2025-06-05 00:04:47+00:00   60000.000000   56843.929726    60000.000000   \n",
       "\n",
       "                           safe_value_in  ...  spot_slippage_bps  \\\n",
       "datetime                                  ...                      \n",
       "2025-05-31 12:16:11+00:00     260.470158  ...           5.986495   \n",
       "2025-06-01 01:56:11+00:00     249.874656  ...           4.617265   \n",
       "2025-06-01 19:56:11+00:00     249.985003  ...           3.278576   \n",
       "2025-06-02 22:04:47+00:00   19975.992145  ...           5.743572   \n",
       "2025-06-03 03:03:35+00:00   39933.329519  ...          15.936186   \n",
       "2025-06-03 04:34:59+00:00  507510.513649  ...          26.482906   \n",
       "2025-06-03 05:52:47+00:00  253755.256825  ...          10.479051   \n",
       "2025-06-03 08:04:35+00:00   49960.269585  ...          13.419549   \n",
       "2025-06-03 12:04:35+00:00   50024.974176  ...           0.927859   \n",
       "2025-06-03 14:04:35+00:00  254662.172623  ...           7.765689   \n",
       "2025-06-03 16:03:23+00:00   48225.164616  ...           5.430656   \n",
       "2025-06-03 16:36:35+00:00   36164.932510  ...           6.329464   \n",
       "2025-06-03 17:24:47+00:00   35741.595218  ...           5.173377   \n",
       "2025-06-03 22:30:11+00:00  124906.528819  ...           4.491758   \n",
       "2025-06-04 01:59:47+00:00   56387.251587  ...           3.386024   \n",
       "2025-06-04 08:04:35+00:00   59979.778105  ...           3.711993   \n",
       "2025-06-04 10:04:35+00:00   59947.826975  ...           4.847406   \n",
       "2025-06-04 12:04:47+00:00   59987.031011  ...           2.323570   \n",
       "2025-06-04 14:04:47+00:00   75020.616152  ...          -3.005890   \n",
       "2025-06-04 16:04:23+00:00  532589.213635  ...          -2.845808   \n",
       "2025-06-04 16:29:11+00:00   74939.956845  ...           3.637085   \n",
       "2025-06-04 17:11:59+00:00   74996.800382  ...           1.280404   \n",
       "2025-06-04 18:04:35+00:00   74983.031805  ...           2.766065   \n",
       "2025-06-04 20:04:59+00:00   74949.605450  ...           7.823234   \n",
       "2025-06-04 21:49:47+00:00   74982.945849  ...           2.251814   \n",
       "2025-06-05 00:04:47+00:00   59982.427283  ...           3.247824   \n",
       "\n",
       "                           safe_swap_cost  safe_slippage_bps  \\\n",
       "datetime                                                       \n",
       "2025-05-31 12:16:11+00:00        0.241285           9.254866   \n",
       "2025-06-01 01:56:11+00:00        0.125344           5.013769   \n",
       "2025-06-01 19:56:11+00:00        0.014997           0.599900   \n",
       "2025-06-02 22:04:47+00:00       24.007855          12.003927   \n",
       "2025-06-03 03:03:35+00:00       66.670481          16.667620   \n",
       "2025-06-03 04:34:59+00:00       76.137998           1.500000   \n",
       "2025-06-03 05:52:47+00:00       38.068999           1.500000   \n",
       "2025-06-03 08:04:35+00:00       39.730415           7.946083   \n",
       "2025-06-03 12:04:35+00:00      -24.974176          -4.994835   \n",
       "2025-06-03 14:04:35+00:00       38.205057           1.500000   \n",
       "2025-06-03 16:03:23+00:00       34.090357           7.064004   \n",
       "2025-06-03 16:36:35+00:00       29.508719           8.152832   \n",
       "2025-06-03 17:24:47+00:00       42.224001          11.799747   \n",
       "2025-06-03 22:30:11+00:00       93.471181           7.477694   \n",
       "2025-06-04 01:59:47+00:00       29.150195           5.166972   \n",
       "2025-06-04 08:04:35+00:00       20.221895           3.370316   \n",
       "2025-06-04 10:04:35+00:00       52.173025           8.695504   \n",
       "2025-06-04 12:04:47+00:00       12.968989           2.161498   \n",
       "2025-06-04 14:04:47+00:00      -20.616152          -2.748820   \n",
       "2025-06-04 16:04:23+00:00       79.900367           1.500000   \n",
       "2025-06-04 16:29:11+00:00       60.043155           8.005754   \n",
       "2025-06-04 17:11:59+00:00        3.199618           0.426616   \n",
       "2025-06-04 18:04:35+00:00       16.968195           2.262426   \n",
       "2025-06-04 20:04:59+00:00       50.394550           6.719273   \n",
       "2025-06-04 21:49:47+00:00       17.054151           2.273887   \n",
       "2025-06-05 00:04:47+00:00       17.572717           2.928786   \n",
       "\n",
       "                           swap_cost_in_bps_of_value_out  \\\n",
       "datetime                                                   \n",
       "2025-05-31 12:16:11+00:00                       5.986495   \n",
       "2025-06-01 01:56:11+00:00                       4.617265   \n",
       "2025-06-01 19:56:11+00:00                       3.278576   \n",
       "2025-06-02 22:04:47+00:00                       5.743572   \n",
       "2025-06-03 03:03:35+00:00                      15.936186   \n",
       "2025-06-03 04:34:59+00:00                      26.482906   \n",
       "2025-06-03 05:52:47+00:00                      10.479051   \n",
       "2025-06-03 08:04:35+00:00                      13.419549   \n",
       "2025-06-03 12:04:35+00:00                       0.927859   \n",
       "2025-06-03 14:04:35+00:00                       7.765689   \n",
       "2025-06-03 16:03:23+00:00                       5.430656   \n",
       "2025-06-03 16:36:35+00:00                       6.329464   \n",
       "2025-06-03 17:24:47+00:00                       5.173377   \n",
       "2025-06-03 22:30:11+00:00                       4.491758   \n",
       "2025-06-04 01:59:47+00:00                       3.386024   \n",
       "2025-06-04 08:04:35+00:00                       3.711993   \n",
       "2025-06-04 10:04:35+00:00                       4.847406   \n",
       "2025-06-04 12:04:47+00:00                       2.323570   \n",
       "2025-06-04 14:04:47+00:00                      -3.005890   \n",
       "2025-06-04 16:04:23+00:00                      -2.845808   \n",
       "2025-06-04 16:29:11+00:00                       3.637085   \n",
       "2025-06-04 17:11:59+00:00                       1.280404   \n",
       "2025-06-04 18:04:35+00:00                       2.766065   \n",
       "2025-06-04 20:04:59+00:00                       7.823234   \n",
       "2025-06-04 21:49:47+00:00                       2.251814   \n",
       "2025-06-05 00:04:47+00:00                       3.247824   \n",
       "\n",
       "                           swap_cost_in_bps_of_NAV from_idle  \\\n",
       "datetime                                                       \n",
       "2025-05-31 12:16:11+00:00                 1.496909      True   \n",
       "2025-06-01 01:56:11+00:00                 1.107178      True   \n",
       "2025-06-01 19:56:11+00:00                 0.786224      True   \n",
       "2025-06-02 22:04:47+00:00                 4.357181      True   \n",
       "2025-06-03 03:03:35+00:00                 0.643326      True   \n",
       "2025-06-03 04:34:59+00:00                12.502765      True   \n",
       "2025-06-03 05:52:47+00:00                 2.473019      True   \n",
       "2025-06-03 08:04:35+00:00                 0.504321      True   \n",
       "2025-06-03 12:04:35+00:00                 0.032420      True   \n",
       "2025-06-03 14:04:35+00:00                 1.382145      True   \n",
       "2025-06-03 16:03:23+00:00                 0.191405      True   \n",
       "2025-06-03 16:36:35+00:00                 0.167316      True   \n",
       "2025-06-03 17:24:47+00:00                 0.131878      True   \n",
       "2025-06-03 22:30:11+00:00                 0.379371      True   \n",
       "2025-06-04 01:59:47+00:00                 0.129070      True   \n",
       "2025-06-04 08:04:35+00:00                 0.131095      True   \n",
       "2025-06-04 10:04:35+00:00                 0.171211      True   \n",
       "2025-06-04 12:04:47+00:00                 0.082069      True   \n",
       "2025-06-04 14:04:47+00:00                -0.083491      True   \n",
       "2025-06-04 16:04:23+00:00                -0.541617      True   \n",
       "2025-06-04 16:29:11+00:00                 0.097466      True   \n",
       "2025-06-04 17:11:59+00:00                 0.033458      True   \n",
       "2025-06-04 18:04:35+00:00                 0.072281      True   \n",
       "2025-06-04 20:04:59+00:00                 0.204438      True   \n",
       "2025-06-04 21:49:47+00:00                 0.058844      True   \n",
       "2025-06-05 00:04:47+00:00                 0.067900      True   \n",
       "\n",
       "                          swap_cost_in_bps_of_value_out_from_idle  \\\n",
       "datetime                                                            \n",
       "2025-05-31 12:16:11+00:00                                5.986495   \n",
       "2025-06-01 01:56:11+00:00                                4.617265   \n",
       "2025-06-01 19:56:11+00:00                                3.278576   \n",
       "2025-06-02 22:04:47+00:00                                5.743572   \n",
       "2025-06-03 03:03:35+00:00                               15.936186   \n",
       "2025-06-03 04:34:59+00:00                               26.482906   \n",
       "2025-06-03 05:52:47+00:00                               10.479051   \n",
       "2025-06-03 08:04:35+00:00                               13.419549   \n",
       "2025-06-03 12:04:35+00:00                                0.927859   \n",
       "2025-06-03 14:04:35+00:00                                7.765689   \n",
       "2025-06-03 16:03:23+00:00                                5.430656   \n",
       "2025-06-03 16:36:35+00:00                                6.329464   \n",
       "2025-06-03 17:24:47+00:00                                5.173377   \n",
       "2025-06-03 22:30:11+00:00                                4.491758   \n",
       "2025-06-04 01:59:47+00:00                                3.386024   \n",
       "2025-06-04 08:04:35+00:00                                3.711993   \n",
       "2025-06-04 10:04:35+00:00                                4.847406   \n",
       "2025-06-04 12:04:47+00:00                                2.323570   \n",
       "2025-06-04 14:04:47+00:00                               -3.005890   \n",
       "2025-06-04 16:04:23+00:00                               -2.845808   \n",
       "2025-06-04 16:29:11+00:00                                3.637085   \n",
       "2025-06-04 17:11:59+00:00                                1.280404   \n",
       "2025-06-04 18:04:35+00:00                                2.766065   \n",
       "2025-06-04 20:04:59+00:00                                7.823234   \n",
       "2025-06-04 21:49:47+00:00                                2.251814   \n",
       "2025-06-05 00:04:47+00:00                                3.247824   \n",
       "\n",
       "                          swap_cost_in_bps_of_NAV_from_idle  \\\n",
       "datetime                                                      \n",
       "2025-05-31 12:16:11+00:00                          1.496909   \n",
       "2025-06-01 01:56:11+00:00                          1.107178   \n",
       "2025-06-01 19:56:11+00:00                          0.786224   \n",
       "2025-06-02 22:04:47+00:00                          4.357181   \n",
       "2025-06-03 03:03:35+00:00                          0.643326   \n",
       "2025-06-03 04:34:59+00:00                         12.502765   \n",
       "2025-06-03 05:52:47+00:00                          2.473019   \n",
       "2025-06-03 08:04:35+00:00                          0.504321   \n",
       "2025-06-03 12:04:35+00:00                          0.032420   \n",
       "2025-06-03 14:04:35+00:00                          1.382145   \n",
       "2025-06-03 16:03:23+00:00                          0.191405   \n",
       "2025-06-03 16:36:35+00:00                          0.167316   \n",
       "2025-06-03 17:24:47+00:00                          0.131878   \n",
       "2025-06-03 22:30:11+00:00                          0.379371   \n",
       "2025-06-04 01:59:47+00:00                          0.129070   \n",
       "2025-06-04 08:04:35+00:00                          0.131095   \n",
       "2025-06-04 10:04:35+00:00                          0.171211   \n",
       "2025-06-04 12:04:47+00:00                          0.082069   \n",
       "2025-06-04 14:04:47+00:00                         -0.083491   \n",
       "2025-06-04 16:04:23+00:00                         -0.541617   \n",
       "2025-06-04 16:29:11+00:00                          0.097466   \n",
       "2025-06-04 17:11:59+00:00                          0.033458   \n",
       "2025-06-04 18:04:35+00:00                          0.072281   \n",
       "2025-06-04 20:04:59+00:00                          0.204438   \n",
       "2025-06-04 21:49:47+00:00                          0.058844   \n",
       "2025-06-05 00:04:47+00:00                          0.067900   \n",
       "\n",
       "                          swap_cost_in_bps_of_value_out_not_from_idle  \\\n",
       "datetime                                                                \n",
       "2025-05-31 12:16:11+00:00                                         0.0   \n",
       "2025-06-01 01:56:11+00:00                                         0.0   \n",
       "2025-06-01 19:56:11+00:00                                         0.0   \n",
       "2025-06-02 22:04:47+00:00                                         0.0   \n",
       "2025-06-03 03:03:35+00:00                                         0.0   \n",
       "2025-06-03 04:34:59+00:00                                         0.0   \n",
       "2025-06-03 05:52:47+00:00                                         0.0   \n",
       "2025-06-03 08:04:35+00:00                                         0.0   \n",
       "2025-06-03 12:04:35+00:00                                         0.0   \n",
       "2025-06-03 14:04:35+00:00                                         0.0   \n",
       "2025-06-03 16:03:23+00:00                                         0.0   \n",
       "2025-06-03 16:36:35+00:00                                         0.0   \n",
       "2025-06-03 17:24:47+00:00                                         0.0   \n",
       "2025-06-03 22:30:11+00:00                                         0.0   \n",
       "2025-06-04 01:59:47+00:00                                         0.0   \n",
       "2025-06-04 08:04:35+00:00                                         0.0   \n",
       "2025-06-04 10:04:35+00:00                                         0.0   \n",
       "2025-06-04 12:04:47+00:00                                         0.0   \n",
       "2025-06-04 14:04:47+00:00                                         0.0   \n",
       "2025-06-04 16:04:23+00:00                                         0.0   \n",
       "2025-06-04 16:29:11+00:00                                         0.0   \n",
       "2025-06-04 17:11:59+00:00                                         0.0   \n",
       "2025-06-04 18:04:35+00:00                                         0.0   \n",
       "2025-06-04 20:04:59+00:00                                         0.0   \n",
       "2025-06-04 21:49:47+00:00                                         0.0   \n",
       "2025-06-05 00:04:47+00:00                                         0.0   \n",
       "\n",
       "                          swap_cost_in_bps_of_NAV_not_from_idle  \n",
       "datetime                                                         \n",
       "2025-05-31 12:16:11+00:00                                   0.0  \n",
       "2025-06-01 01:56:11+00:00                                   0.0  \n",
       "2025-06-01 19:56:11+00:00                                   0.0  \n",
       "2025-06-02 22:04:47+00:00                                   0.0  \n",
       "2025-06-03 03:03:35+00:00                                   0.0  \n",
       "2025-06-03 04:34:59+00:00                                   0.0  \n",
       "2025-06-03 05:52:47+00:00                                   0.0  \n",
       "2025-06-03 08:04:35+00:00                                   0.0  \n",
       "2025-06-03 12:04:35+00:00                                   0.0  \n",
       "2025-06-03 14:04:35+00:00                                   0.0  \n",
       "2025-06-03 16:03:23+00:00                                   0.0  \n",
       "2025-06-03 16:36:35+00:00                                   0.0  \n",
       "2025-06-03 17:24:47+00:00                                   0.0  \n",
       "2025-06-03 22:30:11+00:00                                   0.0  \n",
       "2025-06-04 01:59:47+00:00                                   0.0  \n",
       "2025-06-04 08:04:35+00:00                                   0.0  \n",
       "2025-06-04 10:04:35+00:00                                   0.0  \n",
       "2025-06-04 12:04:47+00:00                                   0.0  \n",
       "2025-06-04 14:04:47+00:00                                   0.0  \n",
       "2025-06-04 16:04:23+00:00                                   0.0  \n",
       "2025-06-04 16:29:11+00:00                                   0.0  \n",
       "2025-06-04 17:11:59+00:00                                   0.0  \n",
       "2025-06-04 18:04:35+00:00                                   0.0  \n",
       "2025-06-04 20:04:59+00:00                                   0.0  \n",
       "2025-06-04 21:49:47+00:00                                   0.0  \n",
       "2025-06-05 00:04:47+00:00                                   0.0  \n",
       "\n",
       "[26 rows x 32 columns]"
      ]
     },
     "execution_count": 1,
     "metadata": {},
     "output_type": "execute_result"
    }
   ],
   "source": [
    "from mainnet_launch.database.schema.full import *\n",
    "from mainnet_launch.database.schema.postgres_operations import *\n",
    "import plotly.express as px\n",
    "\n",
    "from mainnet_launch.constants import *\n",
    "\n",
    "from mainnet_launch.pages.rebalance_events.rebalance_events import _load_full_rebalance_event_df, make_expoded_box_plot\n",
    "\n",
    "rebalance_df = _load_full_rebalance_event_df(AUTO_DOLA)\n",
    "rebalance_df"
   ]
  },
  {
   "cell_type": "code",
   "execution_count": 2,
   "metadata": {},
   "outputs": [],
   "source": [
    "rebalance_df.to_csv(\n",
    "    \"/Users/pb/Documents/Github/Tokemak/v2-rebalance-dashboard/mainnet_launch/working_data/rebalance_csvs/AUTO_DOLA_rebalance_df_swap_costs.csv\"\n",
    ")"
   ]
  },
  {
   "cell_type": "code",
   "execution_count": 3,
   "metadata": {},
   "outputs": [],
   "source": [
    "import plotly.io as pio\n",
    "\n",
    "pio.templates.default = None"
   ]
  },
  {
   "cell_type": "code",
   "execution_count": 16,
   "metadata": {},
   "outputs": [
    {
     "data": {
      "application/vnd.plotly.v1+json": {
       "config": {
        "plotlyServerURL": "https://plot.ly"
       },
       "data": [
        {
         "alignmentgroup": "True",
         "hovertemplate": "variable=swap_cost_in_bps_of_NAV_from_idle<br>datetime=%{x}<br>value=%{y}<extra></extra>",
         "legendgroup": "swap_cost_in_bps_of_NAV_from_idle",
         "marker": {
          "color": "#636efa",
          "pattern": {
           "shape": ""
          }
         },
         "name": "swap_cost_in_bps_of_NAV_from_idle",
         "offsetgroup": "swap_cost_in_bps_of_NAV_from_idle",
         "orientation": "v",
         "showlegend": true,
         "textposition": "auto",
         "type": "bar",
         "x": [
          "2025-05-31T00:00:00+00:00",
          "2025-06-01T00:00:00+00:00",
          "2025-06-02T00:00:00+00:00",
          "2025-06-03T00:00:00+00:00",
          "2025-06-04T00:00:00+00:00",
          "2025-06-05T00:00:00+00:00"
         ],
         "xaxis": "x",
         "y": [
          1.4969089155786728,
          1.893402162822643,
          4.357180603587862,
          18.407966417297647,
          0.3548244627969229,
          0.0678996668340693
         ],
         "yaxis": "y"
        },
        {
         "alignmentgroup": "True",
         "hovertemplate": "variable=swap_cost_in_bps_of_NAV_not_from_idle<br>datetime=%{x}<br>value=%{y}<extra></extra>",
         "legendgroup": "swap_cost_in_bps_of_NAV_not_from_idle",
         "marker": {
          "color": "#EF553B",
          "pattern": {
           "shape": ""
          }
         },
         "name": "swap_cost_in_bps_of_NAV_not_from_idle",
         "offsetgroup": "swap_cost_in_bps_of_NAV_not_from_idle",
         "orientation": "v",
         "showlegend": true,
         "textposition": "auto",
         "type": "bar",
         "x": [
          "2025-05-31T00:00:00+00:00",
          "2025-06-01T00:00:00+00:00",
          "2025-06-02T00:00:00+00:00",
          "2025-06-03T00:00:00+00:00",
          "2025-06-04T00:00:00+00:00",
          "2025-06-05T00:00:00+00:00"
         ],
         "xaxis": "x",
         "y": [
          0,
          0,
          0,
          0,
          0,
          0
         ],
         "yaxis": "y"
        }
       ],
       "layout": {
        "barmode": "relative",
        "legend": {
         "title": {
          "text": "variable"
         },
         "tracegroupgap": 0
        },
        "margin": {
         "t": 60
        },
        "template": {
         "data": {
          "bar": [
           {
            "error_x": {
             "color": "#2a3f5f"
            },
            "error_y": {
             "color": "#2a3f5f"
            },
            "marker": {
             "line": {
              "color": "#E5ECF6",
              "width": 0.5
             },
             "pattern": {
              "fillmode": "overlay",
              "size": 10,
              "solidity": 0.2
             }
            },
            "type": "bar"
           }
          ],
          "barpolar": [
           {
            "marker": {
             "line": {
              "color": "#E5ECF6",
              "width": 0.5
             },
             "pattern": {
              "fillmode": "overlay",
              "size": 10,
              "solidity": 0.2
             }
            },
            "type": "barpolar"
           }
          ],
          "carpet": [
           {
            "aaxis": {
             "endlinecolor": "#2a3f5f",
             "gridcolor": "white",
             "linecolor": "white",
             "minorgridcolor": "white",
             "startlinecolor": "#2a3f5f"
            },
            "baxis": {
             "endlinecolor": "#2a3f5f",
             "gridcolor": "white",
             "linecolor": "white",
             "minorgridcolor": "white",
             "startlinecolor": "#2a3f5f"
            },
            "type": "carpet"
           }
          ],
          "choropleth": [
           {
            "colorbar": {
             "outlinewidth": 0,
             "ticks": ""
            },
            "type": "choropleth"
           }
          ],
          "contour": [
           {
            "colorbar": {
             "outlinewidth": 0,
             "ticks": ""
            },
            "colorscale": [
             [
              0,
              "#0d0887"
             ],
             [
              0.1111111111111111,
              "#46039f"
             ],
             [
              0.2222222222222222,
              "#7201a8"
             ],
             [
              0.3333333333333333,
              "#9c179e"
             ],
             [
              0.4444444444444444,
              "#bd3786"
             ],
             [
              0.5555555555555556,
              "#d8576b"
             ],
             [
              0.6666666666666666,
              "#ed7953"
             ],
             [
              0.7777777777777778,
              "#fb9f3a"
             ],
             [
              0.8888888888888888,
              "#fdca26"
             ],
             [
              1,
              "#f0f921"
             ]
            ],
            "type": "contour"
           }
          ],
          "contourcarpet": [
           {
            "colorbar": {
             "outlinewidth": 0,
             "ticks": ""
            },
            "type": "contourcarpet"
           }
          ],
          "heatmap": [
           {
            "colorbar": {
             "outlinewidth": 0,
             "ticks": ""
            },
            "colorscale": [
             [
              0,
              "#0d0887"
             ],
             [
              0.1111111111111111,
              "#46039f"
             ],
             [
              0.2222222222222222,
              "#7201a8"
             ],
             [
              0.3333333333333333,
              "#9c179e"
             ],
             [
              0.4444444444444444,
              "#bd3786"
             ],
             [
              0.5555555555555556,
              "#d8576b"
             ],
             [
              0.6666666666666666,
              "#ed7953"
             ],
             [
              0.7777777777777778,
              "#fb9f3a"
             ],
             [
              0.8888888888888888,
              "#fdca26"
             ],
             [
              1,
              "#f0f921"
             ]
            ],
            "type": "heatmap"
           }
          ],
          "heatmapgl": [
           {
            "colorbar": {
             "outlinewidth": 0,
             "ticks": ""
            },
            "colorscale": [
             [
              0,
              "#0d0887"
             ],
             [
              0.1111111111111111,
              "#46039f"
             ],
             [
              0.2222222222222222,
              "#7201a8"
             ],
             [
              0.3333333333333333,
              "#9c179e"
             ],
             [
              0.4444444444444444,
              "#bd3786"
             ],
             [
              0.5555555555555556,
              "#d8576b"
             ],
             [
              0.6666666666666666,
              "#ed7953"
             ],
             [
              0.7777777777777778,
              "#fb9f3a"
             ],
             [
              0.8888888888888888,
              "#fdca26"
             ],
             [
              1,
              "#f0f921"
             ]
            ],
            "type": "heatmapgl"
           }
          ],
          "histogram": [
           {
            "marker": {
             "pattern": {
              "fillmode": "overlay",
              "size": 10,
              "solidity": 0.2
             }
            },
            "type": "histogram"
           }
          ],
          "histogram2d": [
           {
            "colorbar": {
             "outlinewidth": 0,
             "ticks": ""
            },
            "colorscale": [
             [
              0,
              "#0d0887"
             ],
             [
              0.1111111111111111,
              "#46039f"
             ],
             [
              0.2222222222222222,
              "#7201a8"
             ],
             [
              0.3333333333333333,
              "#9c179e"
             ],
             [
              0.4444444444444444,
              "#bd3786"
             ],
             [
              0.5555555555555556,
              "#d8576b"
             ],
             [
              0.6666666666666666,
              "#ed7953"
             ],
             [
              0.7777777777777778,
              "#fb9f3a"
             ],
             [
              0.8888888888888888,
              "#fdca26"
             ],
             [
              1,
              "#f0f921"
             ]
            ],
            "type": "histogram2d"
           }
          ],
          "histogram2dcontour": [
           {
            "colorbar": {
             "outlinewidth": 0,
             "ticks": ""
            },
            "colorscale": [
             [
              0,
              "#0d0887"
             ],
             [
              0.1111111111111111,
              "#46039f"
             ],
             [
              0.2222222222222222,
              "#7201a8"
             ],
             [
              0.3333333333333333,
              "#9c179e"
             ],
             [
              0.4444444444444444,
              "#bd3786"
             ],
             [
              0.5555555555555556,
              "#d8576b"
             ],
             [
              0.6666666666666666,
              "#ed7953"
             ],
             [
              0.7777777777777778,
              "#fb9f3a"
             ],
             [
              0.8888888888888888,
              "#fdca26"
             ],
             [
              1,
              "#f0f921"
             ]
            ],
            "type": "histogram2dcontour"
           }
          ],
          "mesh3d": [
           {
            "colorbar": {
             "outlinewidth": 0,
             "ticks": ""
            },
            "type": "mesh3d"
           }
          ],
          "parcoords": [
           {
            "line": {
             "colorbar": {
              "outlinewidth": 0,
              "ticks": ""
             }
            },
            "type": "parcoords"
           }
          ],
          "pie": [
           {
            "automargin": true,
            "type": "pie"
           }
          ],
          "scatter": [
           {
            "fillpattern": {
             "fillmode": "overlay",
             "size": 10,
             "solidity": 0.2
            },
            "type": "scatter"
           }
          ],
          "scatter3d": [
           {
            "line": {
             "colorbar": {
              "outlinewidth": 0,
              "ticks": ""
             }
            },
            "marker": {
             "colorbar": {
              "outlinewidth": 0,
              "ticks": ""
             }
            },
            "type": "scatter3d"
           }
          ],
          "scattercarpet": [
           {
            "marker": {
             "colorbar": {
              "outlinewidth": 0,
              "ticks": ""
             }
            },
            "type": "scattercarpet"
           }
          ],
          "scattergeo": [
           {
            "marker": {
             "colorbar": {
              "outlinewidth": 0,
              "ticks": ""
             }
            },
            "type": "scattergeo"
           }
          ],
          "scattergl": [
           {
            "marker": {
             "colorbar": {
              "outlinewidth": 0,
              "ticks": ""
             }
            },
            "type": "scattergl"
           }
          ],
          "scattermapbox": [
           {
            "marker": {
             "colorbar": {
              "outlinewidth": 0,
              "ticks": ""
             }
            },
            "type": "scattermapbox"
           }
          ],
          "scatterpolar": [
           {
            "marker": {
             "colorbar": {
              "outlinewidth": 0,
              "ticks": ""
             }
            },
            "type": "scatterpolar"
           }
          ],
          "scatterpolargl": [
           {
            "marker": {
             "colorbar": {
              "outlinewidth": 0,
              "ticks": ""
             }
            },
            "type": "scatterpolargl"
           }
          ],
          "scatterternary": [
           {
            "marker": {
             "colorbar": {
              "outlinewidth": 0,
              "ticks": ""
             }
            },
            "type": "scatterternary"
           }
          ],
          "surface": [
           {
            "colorbar": {
             "outlinewidth": 0,
             "ticks": ""
            },
            "colorscale": [
             [
              0,
              "#0d0887"
             ],
             [
              0.1111111111111111,
              "#46039f"
             ],
             [
              0.2222222222222222,
              "#7201a8"
             ],
             [
              0.3333333333333333,
              "#9c179e"
             ],
             [
              0.4444444444444444,
              "#bd3786"
             ],
             [
              0.5555555555555556,
              "#d8576b"
             ],
             [
              0.6666666666666666,
              "#ed7953"
             ],
             [
              0.7777777777777778,
              "#fb9f3a"
             ],
             [
              0.8888888888888888,
              "#fdca26"
             ],
             [
              1,
              "#f0f921"
             ]
            ],
            "type": "surface"
           }
          ],
          "table": [
           {
            "cells": {
             "fill": {
              "color": "#EBF0F8"
             },
             "line": {
              "color": "white"
             }
            },
            "header": {
             "fill": {
              "color": "#C8D4E3"
             },
             "line": {
              "color": "white"
             }
            },
            "type": "table"
           }
          ]
         },
         "layout": {
          "annotationdefaults": {
           "arrowcolor": "#2a3f5f",
           "arrowhead": 0,
           "arrowwidth": 1
          },
          "autotypenumbers": "strict",
          "coloraxis": {
           "colorbar": {
            "outlinewidth": 0,
            "ticks": ""
           }
          },
          "colorscale": {
           "diverging": [
            [
             0,
             "#8e0152"
            ],
            [
             0.1,
             "#c51b7d"
            ],
            [
             0.2,
             "#de77ae"
            ],
            [
             0.3,
             "#f1b6da"
            ],
            [
             0.4,
             "#fde0ef"
            ],
            [
             0.5,
             "#f7f7f7"
            ],
            [
             0.6,
             "#e6f5d0"
            ],
            [
             0.7,
             "#b8e186"
            ],
            [
             0.8,
             "#7fbc41"
            ],
            [
             0.9,
             "#4d9221"
            ],
            [
             1,
             "#276419"
            ]
           ],
           "sequential": [
            [
             0,
             "#0d0887"
            ],
            [
             0.1111111111111111,
             "#46039f"
            ],
            [
             0.2222222222222222,
             "#7201a8"
            ],
            [
             0.3333333333333333,
             "#9c179e"
            ],
            [
             0.4444444444444444,
             "#bd3786"
            ],
            [
             0.5555555555555556,
             "#d8576b"
            ],
            [
             0.6666666666666666,
             "#ed7953"
            ],
            [
             0.7777777777777778,
             "#fb9f3a"
            ],
            [
             0.8888888888888888,
             "#fdca26"
            ],
            [
             1,
             "#f0f921"
            ]
           ],
           "sequentialminus": [
            [
             0,
             "#0d0887"
            ],
            [
             0.1111111111111111,
             "#46039f"
            ],
            [
             0.2222222222222222,
             "#7201a8"
            ],
            [
             0.3333333333333333,
             "#9c179e"
            ],
            [
             0.4444444444444444,
             "#bd3786"
            ],
            [
             0.5555555555555556,
             "#d8576b"
            ],
            [
             0.6666666666666666,
             "#ed7953"
            ],
            [
             0.7777777777777778,
             "#fb9f3a"
            ],
            [
             0.8888888888888888,
             "#fdca26"
            ],
            [
             1,
             "#f0f921"
            ]
           ]
          },
          "colorway": [
           "#636efa",
           "#EF553B",
           "#00cc96",
           "#ab63fa",
           "#FFA15A",
           "#19d3f3",
           "#FF6692",
           "#B6E880",
           "#FF97FF",
           "#FECB52"
          ],
          "font": {
           "color": "#2a3f5f"
          },
          "geo": {
           "bgcolor": "white",
           "lakecolor": "white",
           "landcolor": "#E5ECF6",
           "showlakes": true,
           "showland": true,
           "subunitcolor": "white"
          },
          "hoverlabel": {
           "align": "left"
          },
          "hovermode": "closest",
          "mapbox": {
           "style": "light"
          },
          "paper_bgcolor": "white",
          "plot_bgcolor": "#E5ECF6",
          "polar": {
           "angularaxis": {
            "gridcolor": "white",
            "linecolor": "white",
            "ticks": ""
           },
           "bgcolor": "#E5ECF6",
           "radialaxis": {
            "gridcolor": "white",
            "linecolor": "white",
            "ticks": ""
           }
          },
          "scene": {
           "xaxis": {
            "backgroundcolor": "#E5ECF6",
            "gridcolor": "white",
            "gridwidth": 2,
            "linecolor": "white",
            "showbackground": true,
            "ticks": "",
            "zerolinecolor": "white"
           },
           "yaxis": {
            "backgroundcolor": "#E5ECF6",
            "gridcolor": "white",
            "gridwidth": 2,
            "linecolor": "white",
            "showbackground": true,
            "ticks": "",
            "zerolinecolor": "white"
           },
           "zaxis": {
            "backgroundcolor": "#E5ECF6",
            "gridcolor": "white",
            "gridwidth": 2,
            "linecolor": "white",
            "showbackground": true,
            "ticks": "",
            "zerolinecolor": "white"
           }
          },
          "shapedefaults": {
           "line": {
            "color": "#2a3f5f"
           }
          },
          "ternary": {
           "aaxis": {
            "gridcolor": "white",
            "linecolor": "white",
            "ticks": ""
           },
           "baxis": {
            "gridcolor": "white",
            "linecolor": "white",
            "ticks": ""
           },
           "bgcolor": "#E5ECF6",
           "caxis": {
            "gridcolor": "white",
            "linecolor": "white",
            "ticks": ""
           }
          },
          "title": {
           "x": 0.05
          },
          "xaxis": {
           "automargin": true,
           "gridcolor": "white",
           "linecolor": "white",
           "ticks": "",
           "title": {
            "standoff": 15
           },
           "zerolinecolor": "white",
           "zerolinewidth": 2
          },
          "yaxis": {
           "automargin": true,
           "gridcolor": "white",
           "linecolor": "white",
           "ticks": "",
           "title": {
            "standoff": 15
           },
           "zerolinecolor": "white",
           "zerolinewidth": 2
          }
         }
        },
        "xaxis": {
         "anchor": "y",
         "domain": [
          0,
          1
         ],
         "title": {
          "text": "datetime"
         }
        },
        "yaxis": {
         "anchor": "x",
         "domain": [
          0,
          1
         ],
         "title": {
          "text": "value"
         }
        }
       }
      }
     },
     "metadata": {},
     "output_type": "display_data"
    }
   ],
   "source": [
    "px.bar(\n",
    "    rebalance_df.resample(\"1d\").sum()[[\"swap_cost_in_bps_of_NAV_from_idle\", \"swap_cost_in_bps_of_NAV_not_from_idle\"]]\n",
    ")"
   ]
  },
  {
   "cell_type": "code",
   "execution_count": 29,
   "metadata": {},
   "outputs": [
    {
     "data": {
      "application/vnd.microsoft.datawrangler.viewer.v0+json": {
       "columns": [
        {
         "name": "index",
         "rawType": "int64",
         "type": "integer"
        },
        {
         "name": "move_name",
         "rawType": "object",
         "type": "string"
        },
        {
         "name": "spot_slippage_bps",
         "rawType": "float64",
         "type": "float"
        }
       ],
       "ref": "beef814f-23e1-4f99-b3b5-64ec022c2e70",
       "rows": [
        [
         "0",
         "autoDOLA -> savedola",
         "2.7254241146533684"
        ],
        [
         "1",
         "autoDOLA -> reusdsdola",
         "5.4532336867839675"
        ],
        [
         "2",
         "autoDOLA -> sDOLA",
         "10.470459716542551"
        ]
       ],
       "shape": {
        "columns": 2,
        "rows": 3
       }
      },
      "text/html": [
       "<div>\n",
       "<style scoped>\n",
       "    .dataframe tbody tr th:only-of-type {\n",
       "        vertical-align: middle;\n",
       "    }\n",
       "\n",
       "    .dataframe tbody tr th {\n",
       "        vertical-align: top;\n",
       "    }\n",
       "\n",
       "    .dataframe thead th {\n",
       "        text-align: right;\n",
       "    }\n",
       "</style>\n",
       "<table border=\"1\" class=\"dataframe\">\n",
       "  <thead>\n",
       "    <tr style=\"text-align: right;\">\n",
       "      <th></th>\n",
       "      <th>move_name</th>\n",
       "      <th>spot_slippage_bps</th>\n",
       "    </tr>\n",
       "  </thead>\n",
       "  <tbody>\n",
       "    <tr>\n",
       "      <th>0</th>\n",
       "      <td>autoDOLA -&gt; savedola</td>\n",
       "      <td>2.725424</td>\n",
       "    </tr>\n",
       "    <tr>\n",
       "      <th>1</th>\n",
       "      <td>autoDOLA -&gt; reusdsdola</td>\n",
       "      <td>5.453234</td>\n",
       "    </tr>\n",
       "    <tr>\n",
       "      <th>2</th>\n",
       "      <td>autoDOLA -&gt; sDOLA</td>\n",
       "      <td>10.470460</td>\n",
       "    </tr>\n",
       "  </tbody>\n",
       "</table>\n",
       "</div>"
      ],
      "text/plain": [
       "                move_name  spot_slippage_bps\n",
       "0    autoDOLA -> savedola           2.725424\n",
       "1  autoDOLA -> reusdsdola           5.453234\n",
       "2       autoDOLA -> sDOLA          10.470460"
      ]
     },
     "execution_count": 29,
     "metadata": {},
     "output_type": "execute_result"
    }
   ],
   "source": [
    "rebalance_df.groupby([\"move_name\"])[\"spot_slippage_bps\"].mean().sort_values().reset_index()"
   ]
  },
  {
   "cell_type": "code",
   "execution_count": 18,
   "metadata": {},
   "outputs": [
    {
     "data": {
      "application/vnd.microsoft.datawrangler.viewer.v0+json": {
       "columns": [
        {
         "name": "index",
         "rawType": "int64",
         "type": "integer"
        },
        {
         "name": "destination_in",
         "rawType": "object",
         "type": "string"
        },
        {
         "name": "destination_out",
         "rawType": "object",
         "type": "string"
        },
        {
         "name": "spot_slippage_bps",
         "rawType": "float64",
         "type": "float"
        }
       ],
       "ref": "4219188e-fc12-4ea2-ac48-9da6a9874d78",
       "rows": [
        [
         "0",
         "0xF4CeDDf4e2AEc1aa6b4ef2c64739eCaC5C948fA2",
         "0x79eB84B5E30Ef2481c8f00fD0Aa7aAd6Ac0AA54d",
         "2.7254241146533684"
        ],
        [
         "1",
         "0x9828b1a3742457D70cE428ddd3Aa51f84ffb37F2",
         "0x79eB84B5E30Ef2481c8f00fD0Aa7aAd6Ac0AA54d",
         "5.4532336867839675"
        ],
        [
         "2",
         "0x116b3e86f2b04c21605c5fC4b95Ba6A82dBF8F3E",
         "0x79eB84B5E30Ef2481c8f00fD0Aa7aAd6Ac0AA54d",
         "10.470459716542551"
        ]
       ],
       "shape": {
        "columns": 3,
        "rows": 3
       }
      },
      "text/html": [
       "<div>\n",
       "<style scoped>\n",
       "    .dataframe tbody tr th:only-of-type {\n",
       "        vertical-align: middle;\n",
       "    }\n",
       "\n",
       "    .dataframe tbody tr th {\n",
       "        vertical-align: top;\n",
       "    }\n",
       "\n",
       "    .dataframe thead th {\n",
       "        text-align: right;\n",
       "    }\n",
       "</style>\n",
       "<table border=\"1\" class=\"dataframe\">\n",
       "  <thead>\n",
       "    <tr style=\"text-align: right;\">\n",
       "      <th></th>\n",
       "      <th>destination_in</th>\n",
       "      <th>destination_out</th>\n",
       "      <th>spot_slippage_bps</th>\n",
       "    </tr>\n",
       "  </thead>\n",
       "  <tbody>\n",
       "    <tr>\n",
       "      <th>0</th>\n",
       "      <td>0xF4CeDDf4e2AEc1aa6b4ef2c64739eCaC5C948fA2</td>\n",
       "      <td>0x79eB84B5E30Ef2481c8f00fD0Aa7aAd6Ac0AA54d</td>\n",
       "      <td>2.725424</td>\n",
       "    </tr>\n",
       "    <tr>\n",
       "      <th>1</th>\n",
       "      <td>0x9828b1a3742457D70cE428ddd3Aa51f84ffb37F2</td>\n",
       "      <td>0x79eB84B5E30Ef2481c8f00fD0Aa7aAd6Ac0AA54d</td>\n",
       "      <td>5.453234</td>\n",
       "    </tr>\n",
       "    <tr>\n",
       "      <th>2</th>\n",
       "      <td>0x116b3e86f2b04c21605c5fC4b95Ba6A82dBF8F3E</td>\n",
       "      <td>0x79eB84B5E30Ef2481c8f00fD0Aa7aAd6Ac0AA54d</td>\n",
       "      <td>10.470460</td>\n",
       "    </tr>\n",
       "  </tbody>\n",
       "</table>\n",
       "</div>"
      ],
      "text/plain": [
       "                               destination_in  \\\n",
       "0  0xF4CeDDf4e2AEc1aa6b4ef2c64739eCaC5C948fA2   \n",
       "1  0x9828b1a3742457D70cE428ddd3Aa51f84ffb37F2   \n",
       "2  0x116b3e86f2b04c21605c5fC4b95Ba6A82dBF8F3E   \n",
       "\n",
       "                              destination_out  spot_slippage_bps  \n",
       "0  0x79eB84B5E30Ef2481c8f00fD0Aa7aAd6Ac0AA54d           2.725424  \n",
       "1  0x79eB84B5E30Ef2481c8f00fD0Aa7aAd6Ac0AA54d           5.453234  \n",
       "2  0x79eB84B5E30Ef2481c8f00fD0Aa7aAd6Ac0AA54d          10.470460  "
      ]
     },
     "execution_count": 18,
     "metadata": {},
     "output_type": "execute_result"
    }
   ],
   "source": [
    "rebalance_df.groupby([\"destination_in\", \"destination_out\"])[\"spot_slippage_bps\"].mean().sort_values().reset_index()"
   ]
  },
  {
   "cell_type": "code",
   "execution_count": 32,
   "metadata": {},
   "outputs": [
    {
     "data": {
      "application/vnd.microsoft.datawrangler.viewer.v0+json": {
       "columns": [
        {
         "name": "datetime",
         "rawType": "datetime64[ns, UTC]",
         "type": "unknown"
        },
        {
         "name": "tx_hash",
         "rawType": "object",
         "type": "string"
        },
        {
         "name": "autopool_vault_address",
         "rawType": "object",
         "type": "string"
        },
        {
         "name": "chain_id",
         "rawType": "int64",
         "type": "integer"
        },
        {
         "name": "rebalance_file_path",
         "rawType": "object",
         "type": "string"
        },
        {
         "name": "destination_out",
         "rawType": "object",
         "type": "string"
        },
        {
         "name": "destination_in",
         "rawType": "object",
         "type": "string"
        },
        {
         "name": "quantity_out",
         "rawType": "float64",
         "type": "float"
        },
        {
         "name": "quantity_in",
         "rawType": "float64",
         "type": "float"
        },
        {
         "name": "safe_value_out",
         "rawType": "float64",
         "type": "float"
        },
        {
         "name": "safe_value_in",
         "rawType": "float64",
         "type": "float"
        },
        {
         "name": "spot_value_in",
         "rawType": "float64",
         "type": "float"
        },
        {
         "name": "spot_value_out",
         "rawType": "float64",
         "type": "float"
        },
        {
         "name": "spot_value_in_solver_change",
         "rawType": "float64",
         "type": "float"
        },
        {
         "name": "block",
         "rawType": "int64",
         "type": "integer"
        },
        {
         "name": "total_nav",
         "rawType": "float64",
         "type": "float"
        },
        {
         "name": "move_name",
         "rawType": "object",
         "type": "string"
        },
        {
         "name": "destination_in_symbol",
         "rawType": "object",
         "type": "string"
        },
        {
         "name": "destination_out_symbol",
         "rawType": "object",
         "type": "string"
        },
        {
         "name": "destination_in_tokens",
         "rawType": "object",
         "type": "string"
        },
        {
         "name": "destination_out_tokens",
         "rawType": "object",
         "type": "string"
        },
        {
         "name": "tokens_move_name",
         "rawType": "object",
         "type": "string"
        },
        {
         "name": "spot_swap_cost",
         "rawType": "float64",
         "type": "float"
        },
        {
         "name": "spot_slippage_bps",
         "rawType": "float64",
         "type": "float"
        },
        {
         "name": "safe_swap_cost",
         "rawType": "float64",
         "type": "float"
        },
        {
         "name": "safe_slippage_bps",
         "rawType": "float64",
         "type": "float"
        },
        {
         "name": "swap_cost_in_bps_of_value_out",
         "rawType": "float64",
         "type": "float"
        },
        {
         "name": "swap_cost_in_bps_of_NAV",
         "rawType": "float64",
         "type": "float"
        },
        {
         "name": "from_idle",
         "rawType": "bool",
         "type": "boolean"
        },
        {
         "name": "swap_cost_in_bps_of_value_out_from_idle",
         "rawType": "float64",
         "type": "float"
        },
        {
         "name": "swap_cost_in_bps_of_NAV_from_idle",
         "rawType": "float64",
         "type": "float"
        },
        {
         "name": "swap_cost_in_bps_of_value_out_not_from_idle",
         "rawType": "float64",
         "type": "float"
        },
        {
         "name": "swap_cost_in_bps_of_NAV_not_from_idle",
         "rawType": "float64",
         "type": "float"
        }
       ],
       "ref": "3ab4f2dc-a5ff-4530-81fc-19cda57a0108",
       "rows": [
        [
         "2025-06-03 04:34:59+00:00",
         "0x272e39d795a4a38e6cc22ec9e54deb92fa068c83304d5a6e7054c9d68702d21d",
         "0x79eB84B5E30Ef2481c8f00fD0Aa7aAd6Ac0AA54d",
         "1",
         "rebalance_plan_1748925231_0x79eB84B5E30Ef2481c8f00fD0Aa7aAd6Ac0AA54d.json",
         "0x79eB84B5E30Ef2481c8f00fD0Aa7aAd6Ac0AA54d",
         "0x116b3e86f2b04c21605c5fC4b95Ba6A82dBF8F3E",
         "507586.6516467986",
         "448213.8860338266",
         "507586.6516467986",
         "507510.5136490516",
         "506242.41468696675",
         "507586.6516467986",
         "76.13799774700962",
         "22621780",
         "1075151.7577863599",
         "autoDOLA -> sDOLA",
         "sDOLA",
         "autoDOLA",
         "('sDOLA',)",
         "('DOLA',)",
         "('DOLA',) -> ('sDOLA',)",
         "1344.2369598318473",
         "26.482906031327776",
         "76.13799774699146",
         "1.4999999999994418",
         "26.482906031327776",
         "12.502764843165112",
         "True",
         "26.482906031327776",
         "12.502764843165112",
         "0.0",
         "0.0"
        ],
        [
         "2025-06-03 05:52:47+00:00",
         "0x7ed68b1503242dd0419df2e2af3608e3ad36da7e9d3926822f98caefa252b3ab",
         "0x79eB84B5E30Ef2481c8f00fD0Aa7aAd6Ac0AA54d",
         "1",
         "rebalance_plan_1748929907_0x79eB84B5E30Ef2481c8f00fD0Aa7aAd6Ac0AA54d.json",
         "0x79eB84B5E30Ef2481c8f00fD0Aa7aAd6Ac0AA54d",
         "0x116b3e86f2b04c21605c5fC4b95Ba6A82dBF8F3E",
         "253793.3258233993",
         "224104.48385290755",
         "253793.3258233993",
         "253755.2568245258",
         "253527.3744948064",
         "253793.3258233993",
         "38.06899887350481",
         "22622168",
         "1075411.481334539",
         "autoDOLA -> sDOLA",
         "sDOLA",
         "autoDOLA",
         "('sDOLA',)",
         "('DOLA',)",
         "('DOLA',) -> ('sDOLA',)",
         "265.9513285928988",
         "10.479051319811285",
         "38.06899887349573",
         "1.4999999999994418",
         "10.479051319811285",
         "2.473019241554542",
         "True",
         "10.479051319811285",
         "2.473019241554542",
         "0.0",
         "0.0"
        ],
        [
         "2025-06-03 14:04:35+00:00",
         "0x5b1cb3152d7d4e0b321521e0edd71b0f340e4b64b1f5b25b194edf955ea3df46",
         "0x79eB84B5E30Ef2481c8f00fD0Aa7aAd6Ac0AA54d",
         "1",
         "rebalance_plan_1748959407_0x79eB84B5E30Ef2481c8f00fD0Aa7aAd6Ac0AA54d.json",
         "0x79eB84B5E30Ef2481c8f00fD0Aa7aAd6Ac0AA54d",
         "0x116b3e86f2b04c21605c5fC4b95Ba6A82dBF8F3E",
         "254700.37768009517",
         "224889.88088163896",
         "254700.37768009517",
         "254662.17262344318",
         "254502.5852873283",
         "254700.37768009517",
         "38.20505665199775",
         "22624605",
         "1431053.3932958066",
         "autoDOLA -> sDOLA",
         "sDOLA",
         "autoDOLA",
         "('sDOLA',)",
         "('DOLA',)",
         "('DOLA',) -> ('sDOLA',)",
         "197.79239276688895",
         "7.765689025216802",
         "38.20505665199016",
         "1.4999999999990532",
         "7.765689025216802",
         "1.3821454440030398",
         "True",
         "7.765689025216802",
         "1.3821454440030398",
         "0.0",
         "0.0"
        ],
        [
         "2025-06-04 16:04:23+00:00",
         "0x2d0b3ed18d1dd395743ae7c50e915a711f249c35079439c9b34038cedf4304a0",
         "0x79eB84B5E30Ef2481c8f00fD0Aa7aAd6Ac0AA54d",
         "1",
         "rebalance_plan_1749053006_0x79eB84B5E30Ef2481c8f00fD0Aa7aAd6Ac0AA54d.json",
         "0x79eB84B5E30Ef2481c8f00fD0Aa7aAd6Ac0AA54d",
         "0x116b3e86f2b04c21605c5fC4b95Ba6A82dBF8F3E",
         "532669.1140017052",
         "470222.74801454705",
         "532669.1140017052",
         "532589.2136346049",
         "532820.7013782122",
         "532669.1140017052",
         "79.90036710022133",
         "22632345",
         "2798794.116236882",
         "autoDOLA -> sDOLA",
         "sDOLA",
         "autoDOLA",
         "('sDOLA',)",
         "('DOLA',)",
         "('DOLA',) -> ('sDOLA',)",
         "-151.58737650699914",
         "-2.845807510185655",
         "79.90036710025743",
         "1.5000000000000309",
         "-2.845807510185655",
         "-0.5416167471111305",
         "True",
         "-2.845807510185655",
         "-0.5416167471111305",
         "0.0",
         "0.0"
        ]
       ],
       "shape": {
        "columns": 32,
        "rows": 4
       }
      },
      "text/html": [
       "<div>\n",
       "<style scoped>\n",
       "    .dataframe tbody tr th:only-of-type {\n",
       "        vertical-align: middle;\n",
       "    }\n",
       "\n",
       "    .dataframe tbody tr th {\n",
       "        vertical-align: top;\n",
       "    }\n",
       "\n",
       "    .dataframe thead th {\n",
       "        text-align: right;\n",
       "    }\n",
       "</style>\n",
       "<table border=\"1\" class=\"dataframe\">\n",
       "  <thead>\n",
       "    <tr style=\"text-align: right;\">\n",
       "      <th></th>\n",
       "      <th>tx_hash</th>\n",
       "      <th>autopool_vault_address</th>\n",
       "      <th>chain_id</th>\n",
       "      <th>rebalance_file_path</th>\n",
       "      <th>destination_out</th>\n",
       "      <th>destination_in</th>\n",
       "      <th>quantity_out</th>\n",
       "      <th>quantity_in</th>\n",
       "      <th>safe_value_out</th>\n",
       "      <th>safe_value_in</th>\n",
       "      <th>...</th>\n",
       "      <th>spot_slippage_bps</th>\n",
       "      <th>safe_swap_cost</th>\n",
       "      <th>safe_slippage_bps</th>\n",
       "      <th>swap_cost_in_bps_of_value_out</th>\n",
       "      <th>swap_cost_in_bps_of_NAV</th>\n",
       "      <th>from_idle</th>\n",
       "      <th>swap_cost_in_bps_of_value_out_from_idle</th>\n",
       "      <th>swap_cost_in_bps_of_NAV_from_idle</th>\n",
       "      <th>swap_cost_in_bps_of_value_out_not_from_idle</th>\n",
       "      <th>swap_cost_in_bps_of_NAV_not_from_idle</th>\n",
       "    </tr>\n",
       "    <tr>\n",
       "      <th>datetime</th>\n",
       "      <th></th>\n",
       "      <th></th>\n",
       "      <th></th>\n",
       "      <th></th>\n",
       "      <th></th>\n",
       "      <th></th>\n",
       "      <th></th>\n",
       "      <th></th>\n",
       "      <th></th>\n",
       "      <th></th>\n",
       "      <th></th>\n",
       "      <th></th>\n",
       "      <th></th>\n",
       "      <th></th>\n",
       "      <th></th>\n",
       "      <th></th>\n",
       "      <th></th>\n",
       "      <th></th>\n",
       "      <th></th>\n",
       "      <th></th>\n",
       "      <th></th>\n",
       "    </tr>\n",
       "  </thead>\n",
       "  <tbody>\n",
       "    <tr>\n",
       "      <th>2025-06-03 04:34:59+00:00</th>\n",
       "      <td>0x272e39d795a4a38e6cc22ec9e54deb92fa068c83304d...</td>\n",
       "      <td>0x79eB84B5E30Ef2481c8f00fD0Aa7aAd6Ac0AA54d</td>\n",
       "      <td>1</td>\n",
       "      <td>rebalance_plan_1748925231_0x79eB84B5E30Ef2481c...</td>\n",
       "      <td>0x79eB84B5E30Ef2481c8f00fD0Aa7aAd6Ac0AA54d</td>\n",
       "      <td>0x116b3e86f2b04c21605c5fC4b95Ba6A82dBF8F3E</td>\n",
       "      <td>507586.651647</td>\n",
       "      <td>448213.886034</td>\n",
       "      <td>507586.651647</td>\n",
       "      <td>507510.513649</td>\n",
       "      <td>...</td>\n",
       "      <td>26.482906</td>\n",
       "      <td>76.137998</td>\n",
       "      <td>1.5</td>\n",
       "      <td>26.482906</td>\n",
       "      <td>12.502765</td>\n",
       "      <td>True</td>\n",
       "      <td>26.482906</td>\n",
       "      <td>12.502765</td>\n",
       "      <td>0.0</td>\n",
       "      <td>0.0</td>\n",
       "    </tr>\n",
       "    <tr>\n",
       "      <th>2025-06-03 05:52:47+00:00</th>\n",
       "      <td>0x7ed68b1503242dd0419df2e2af3608e3ad36da7e9d39...</td>\n",
       "      <td>0x79eB84B5E30Ef2481c8f00fD0Aa7aAd6Ac0AA54d</td>\n",
       "      <td>1</td>\n",
       "      <td>rebalance_plan_1748929907_0x79eB84B5E30Ef2481c...</td>\n",
       "      <td>0x79eB84B5E30Ef2481c8f00fD0Aa7aAd6Ac0AA54d</td>\n",
       "      <td>0x116b3e86f2b04c21605c5fC4b95Ba6A82dBF8F3E</td>\n",
       "      <td>253793.325823</td>\n",
       "      <td>224104.483853</td>\n",
       "      <td>253793.325823</td>\n",
       "      <td>253755.256825</td>\n",
       "      <td>...</td>\n",
       "      <td>10.479051</td>\n",
       "      <td>38.068999</td>\n",
       "      <td>1.5</td>\n",
       "      <td>10.479051</td>\n",
       "      <td>2.473019</td>\n",
       "      <td>True</td>\n",
       "      <td>10.479051</td>\n",
       "      <td>2.473019</td>\n",
       "      <td>0.0</td>\n",
       "      <td>0.0</td>\n",
       "    </tr>\n",
       "    <tr>\n",
       "      <th>2025-06-03 14:04:35+00:00</th>\n",
       "      <td>0x5b1cb3152d7d4e0b321521e0edd71b0f340e4b64b1f5...</td>\n",
       "      <td>0x79eB84B5E30Ef2481c8f00fD0Aa7aAd6Ac0AA54d</td>\n",
       "      <td>1</td>\n",
       "      <td>rebalance_plan_1748959407_0x79eB84B5E30Ef2481c...</td>\n",
       "      <td>0x79eB84B5E30Ef2481c8f00fD0Aa7aAd6Ac0AA54d</td>\n",
       "      <td>0x116b3e86f2b04c21605c5fC4b95Ba6A82dBF8F3E</td>\n",
       "      <td>254700.377680</td>\n",
       "      <td>224889.880882</td>\n",
       "      <td>254700.377680</td>\n",
       "      <td>254662.172623</td>\n",
       "      <td>...</td>\n",
       "      <td>7.765689</td>\n",
       "      <td>38.205057</td>\n",
       "      <td>1.5</td>\n",
       "      <td>7.765689</td>\n",
       "      <td>1.382145</td>\n",
       "      <td>True</td>\n",
       "      <td>7.765689</td>\n",
       "      <td>1.382145</td>\n",
       "      <td>0.0</td>\n",
       "      <td>0.0</td>\n",
       "    </tr>\n",
       "    <tr>\n",
       "      <th>2025-06-04 16:04:23+00:00</th>\n",
       "      <td>0x2d0b3ed18d1dd395743ae7c50e915a711f249c350794...</td>\n",
       "      <td>0x79eB84B5E30Ef2481c8f00fD0Aa7aAd6Ac0AA54d</td>\n",
       "      <td>1</td>\n",
       "      <td>rebalance_plan_1749053006_0x79eB84B5E30Ef2481c...</td>\n",
       "      <td>0x79eB84B5E30Ef2481c8f00fD0Aa7aAd6Ac0AA54d</td>\n",
       "      <td>0x116b3e86f2b04c21605c5fC4b95Ba6A82dBF8F3E</td>\n",
       "      <td>532669.114002</td>\n",
       "      <td>470222.748015</td>\n",
       "      <td>532669.114002</td>\n",
       "      <td>532589.213635</td>\n",
       "      <td>...</td>\n",
       "      <td>-2.845808</td>\n",
       "      <td>79.900367</td>\n",
       "      <td>1.5</td>\n",
       "      <td>-2.845808</td>\n",
       "      <td>-0.541617</td>\n",
       "      <td>True</td>\n",
       "      <td>-2.845808</td>\n",
       "      <td>-0.541617</td>\n",
       "      <td>0.0</td>\n",
       "      <td>0.0</td>\n",
       "    </tr>\n",
       "  </tbody>\n",
       "</table>\n",
       "<p>4 rows × 32 columns</p>\n",
       "</div>"
      ],
      "text/plain": [
       "                                                                     tx_hash  \\\n",
       "datetime                                                                       \n",
       "2025-06-03 04:34:59+00:00  0x272e39d795a4a38e6cc22ec9e54deb92fa068c83304d...   \n",
       "2025-06-03 05:52:47+00:00  0x7ed68b1503242dd0419df2e2af3608e3ad36da7e9d39...   \n",
       "2025-06-03 14:04:35+00:00  0x5b1cb3152d7d4e0b321521e0edd71b0f340e4b64b1f5...   \n",
       "2025-06-04 16:04:23+00:00  0x2d0b3ed18d1dd395743ae7c50e915a711f249c350794...   \n",
       "\n",
       "                                               autopool_vault_address  \\\n",
       "datetime                                                                \n",
       "2025-06-03 04:34:59+00:00  0x79eB84B5E30Ef2481c8f00fD0Aa7aAd6Ac0AA54d   \n",
       "2025-06-03 05:52:47+00:00  0x79eB84B5E30Ef2481c8f00fD0Aa7aAd6Ac0AA54d   \n",
       "2025-06-03 14:04:35+00:00  0x79eB84B5E30Ef2481c8f00fD0Aa7aAd6Ac0AA54d   \n",
       "2025-06-04 16:04:23+00:00  0x79eB84B5E30Ef2481c8f00fD0Aa7aAd6Ac0AA54d   \n",
       "\n",
       "                           chain_id  \\\n",
       "datetime                              \n",
       "2025-06-03 04:34:59+00:00         1   \n",
       "2025-06-03 05:52:47+00:00         1   \n",
       "2025-06-03 14:04:35+00:00         1   \n",
       "2025-06-04 16:04:23+00:00         1   \n",
       "\n",
       "                                                         rebalance_file_path  \\\n",
       "datetime                                                                       \n",
       "2025-06-03 04:34:59+00:00  rebalance_plan_1748925231_0x79eB84B5E30Ef2481c...   \n",
       "2025-06-03 05:52:47+00:00  rebalance_plan_1748929907_0x79eB84B5E30Ef2481c...   \n",
       "2025-06-03 14:04:35+00:00  rebalance_plan_1748959407_0x79eB84B5E30Ef2481c...   \n",
       "2025-06-04 16:04:23+00:00  rebalance_plan_1749053006_0x79eB84B5E30Ef2481c...   \n",
       "\n",
       "                                                      destination_out  \\\n",
       "datetime                                                                \n",
       "2025-06-03 04:34:59+00:00  0x79eB84B5E30Ef2481c8f00fD0Aa7aAd6Ac0AA54d   \n",
       "2025-06-03 05:52:47+00:00  0x79eB84B5E30Ef2481c8f00fD0Aa7aAd6Ac0AA54d   \n",
       "2025-06-03 14:04:35+00:00  0x79eB84B5E30Ef2481c8f00fD0Aa7aAd6Ac0AA54d   \n",
       "2025-06-04 16:04:23+00:00  0x79eB84B5E30Ef2481c8f00fD0Aa7aAd6Ac0AA54d   \n",
       "\n",
       "                                                       destination_in  \\\n",
       "datetime                                                                \n",
       "2025-06-03 04:34:59+00:00  0x116b3e86f2b04c21605c5fC4b95Ba6A82dBF8F3E   \n",
       "2025-06-03 05:52:47+00:00  0x116b3e86f2b04c21605c5fC4b95Ba6A82dBF8F3E   \n",
       "2025-06-03 14:04:35+00:00  0x116b3e86f2b04c21605c5fC4b95Ba6A82dBF8F3E   \n",
       "2025-06-04 16:04:23+00:00  0x116b3e86f2b04c21605c5fC4b95Ba6A82dBF8F3E   \n",
       "\n",
       "                            quantity_out    quantity_in  safe_value_out  \\\n",
       "datetime                                                                  \n",
       "2025-06-03 04:34:59+00:00  507586.651647  448213.886034   507586.651647   \n",
       "2025-06-03 05:52:47+00:00  253793.325823  224104.483853   253793.325823   \n",
       "2025-06-03 14:04:35+00:00  254700.377680  224889.880882   254700.377680   \n",
       "2025-06-04 16:04:23+00:00  532669.114002  470222.748015   532669.114002   \n",
       "\n",
       "                           safe_value_in  ...  spot_slippage_bps  \\\n",
       "datetime                                  ...                      \n",
       "2025-06-03 04:34:59+00:00  507510.513649  ...          26.482906   \n",
       "2025-06-03 05:52:47+00:00  253755.256825  ...          10.479051   \n",
       "2025-06-03 14:04:35+00:00  254662.172623  ...           7.765689   \n",
       "2025-06-04 16:04:23+00:00  532589.213635  ...          -2.845808   \n",
       "\n",
       "                           safe_swap_cost  safe_slippage_bps  \\\n",
       "datetime                                                       \n",
       "2025-06-03 04:34:59+00:00       76.137998                1.5   \n",
       "2025-06-03 05:52:47+00:00       38.068999                1.5   \n",
       "2025-06-03 14:04:35+00:00       38.205057                1.5   \n",
       "2025-06-04 16:04:23+00:00       79.900367                1.5   \n",
       "\n",
       "                           swap_cost_in_bps_of_value_out  \\\n",
       "datetime                                                   \n",
       "2025-06-03 04:34:59+00:00                      26.482906   \n",
       "2025-06-03 05:52:47+00:00                      10.479051   \n",
       "2025-06-03 14:04:35+00:00                       7.765689   \n",
       "2025-06-04 16:04:23+00:00                      -2.845808   \n",
       "\n",
       "                           swap_cost_in_bps_of_NAV from_idle  \\\n",
       "datetime                                                       \n",
       "2025-06-03 04:34:59+00:00                12.502765      True   \n",
       "2025-06-03 05:52:47+00:00                 2.473019      True   \n",
       "2025-06-03 14:04:35+00:00                 1.382145      True   \n",
       "2025-06-04 16:04:23+00:00                -0.541617      True   \n",
       "\n",
       "                          swap_cost_in_bps_of_value_out_from_idle  \\\n",
       "datetime                                                            \n",
       "2025-06-03 04:34:59+00:00                               26.482906   \n",
       "2025-06-03 05:52:47+00:00                               10.479051   \n",
       "2025-06-03 14:04:35+00:00                                7.765689   \n",
       "2025-06-04 16:04:23+00:00                               -2.845808   \n",
       "\n",
       "                          swap_cost_in_bps_of_NAV_from_idle  \\\n",
       "datetime                                                      \n",
       "2025-06-03 04:34:59+00:00                         12.502765   \n",
       "2025-06-03 05:52:47+00:00                          2.473019   \n",
       "2025-06-03 14:04:35+00:00                          1.382145   \n",
       "2025-06-04 16:04:23+00:00                         -0.541617   \n",
       "\n",
       "                          swap_cost_in_bps_of_value_out_not_from_idle  \\\n",
       "datetime                                                                \n",
       "2025-06-03 04:34:59+00:00                                         0.0   \n",
       "2025-06-03 05:52:47+00:00                                         0.0   \n",
       "2025-06-03 14:04:35+00:00                                         0.0   \n",
       "2025-06-04 16:04:23+00:00                                         0.0   \n",
       "\n",
       "                          swap_cost_in_bps_of_NAV_not_from_idle  \n",
       "datetime                                                         \n",
       "2025-06-03 04:34:59+00:00                                   0.0  \n",
       "2025-06-03 05:52:47+00:00                                   0.0  \n",
       "2025-06-03 14:04:35+00:00                                   0.0  \n",
       "2025-06-04 16:04:23+00:00                                   0.0  \n",
       "\n",
       "[4 rows x 32 columns]"
      ]
     },
     "execution_count": 32,
     "metadata": {},
     "output_type": "execute_result"
    }
   ],
   "source": [
    "rebalance_df[rebalance_df[\"move_name\"] == \"autoDOLA -> sDOLA\"]"
   ]
  },
  {
   "cell_type": "code",
   "execution_count": 33,
   "metadata": {},
   "outputs": [
    {
     "data": {
      "text/plain": [
       "1000000000000000000"
      ]
     },
     "execution_count": 33,
     "metadata": {},
     "output_type": "execute_result"
    }
   ],
   "source": [
    "int(1e18)"
   ]
  },
  {
   "cell_type": "code",
   "execution_count": 38,
   "metadata": {},
   "outputs": [
    {
     "data": {
      "text/plain": [
       "-0.00045988799791"
      ]
     },
     "execution_count": 38,
     "metadata": {},
     "output_type": "execute_result"
    }
   ],
   "source": [
    "convert_to_shares = 882835246576454774\n",
    "preview_deposit = 882835292565254565\n",
    "\n",
    "10_000 * ((convert_to_shares - preview_deposit) / 1e18)"
   ]
  },
  {
   "cell_type": "code",
   "execution_count": 39,
   "metadata": {},
   "outputs": [
    {
     "data": {
      "text/plain": [
       "-4.5988799791e-08"
      ]
     },
     "execution_count": 39,
     "metadata": {},
     "output_type": "execute_result"
    }
   ],
   "source": [
    "((convert_to_shares - preview_deposit) / 1e18)"
   ]
  },
  {
   "cell_type": "markdown",
   "metadata": {},
   "source": []
  },
  {
   "cell_type": "code",
   "execution_count": 19,
   "metadata": {},
   "outputs": [
    {
     "data": {
      "application/vnd.plotly.v1+json": {
       "config": {
        "plotlyServerURL": "https://plot.ly"
       },
       "data": [
        {
         "alignmentgroup": "True",
         "hovertemplate": "variable=spot_slippage_bps<br>datetime=%{x}<br>value=%{y}<extra></extra>",
         "legendgroup": "spot_slippage_bps",
         "marker": {
          "color": "#636efa",
          "pattern": {
           "shape": ""
          }
         },
         "name": "spot_slippage_bps",
         "offsetgroup": "spot_slippage_bps",
         "orientation": "v",
         "showlegend": true,
         "textposition": "auto",
         "type": "bar",
         "x": [
          "2025-05-31T12:16:11+00:00",
          "2025-06-01T01:56:11+00:00",
          "2025-06-01T19:56:11+00:00",
          "2025-06-02T22:04:47+00:00",
          "2025-06-03T03:03:35+00:00",
          "2025-06-03T04:34:59+00:00",
          "2025-06-03T05:52:47+00:00",
          "2025-06-03T08:04:35+00:00",
          "2025-06-03T12:04:35+00:00",
          "2025-06-03T14:04:35+00:00",
          "2025-06-03T16:03:23+00:00",
          "2025-06-03T16:36:35+00:00",
          "2025-06-03T17:24:47+00:00",
          "2025-06-03T22:30:11+00:00",
          "2025-06-04T01:59:47+00:00",
          "2025-06-04T08:04:35+00:00",
          "2025-06-04T10:04:35+00:00",
          "2025-06-04T12:04:47+00:00",
          "2025-06-04T14:04:47+00:00",
          "2025-06-04T16:04:23+00:00",
          "2025-06-04T16:29:11+00:00",
          "2025-06-04T17:11:59+00:00",
          "2025-06-04T18:04:35+00:00",
          "2025-06-04T20:04:59+00:00",
          "2025-06-04T21:49:47+00:00",
          "2025-06-05T00:04:47+00:00"
         ],
         "xaxis": "x",
         "y": [
          5.986494915881511,
          4.617264638485494,
          3.278576207004562,
          5.743571585180689,
          15.936186027829535,
          26.482906031327776,
          10.479051319811285,
          13.419549219473266,
          0.9278588695626242,
          7.765689025216802,
          5.4306558494373185,
          6.329463956877668,
          5.173376544467753,
          4.491757933424087,
          3.3860235263348493,
          3.711993248152188,
          4.847405889851264,
          2.3235700086649254,
          -3.0058904987604667,
          -2.845807510185655,
          3.6370848645145695,
          1.2804040904079252,
          2.7660648698103616,
          7.823233753369035,
          2.2518141106294935,
          3.247824065865037
         ],
         "yaxis": "y"
        }
       ],
       "layout": {
        "barmode": "relative",
        "legend": {
         "title": {
          "text": "variable"
         },
         "tracegroupgap": 0
        },
        "margin": {
         "t": 60
        },
        "template": {
         "data": {
          "bar": [
           {
            "error_x": {
             "color": "#2a3f5f"
            },
            "error_y": {
             "color": "#2a3f5f"
            },
            "marker": {
             "line": {
              "color": "#E5ECF6",
              "width": 0.5
             },
             "pattern": {
              "fillmode": "overlay",
              "size": 10,
              "solidity": 0.2
             }
            },
            "type": "bar"
           }
          ],
          "barpolar": [
           {
            "marker": {
             "line": {
              "color": "#E5ECF6",
              "width": 0.5
             },
             "pattern": {
              "fillmode": "overlay",
              "size": 10,
              "solidity": 0.2
             }
            },
            "type": "barpolar"
           }
          ],
          "carpet": [
           {
            "aaxis": {
             "endlinecolor": "#2a3f5f",
             "gridcolor": "white",
             "linecolor": "white",
             "minorgridcolor": "white",
             "startlinecolor": "#2a3f5f"
            },
            "baxis": {
             "endlinecolor": "#2a3f5f",
             "gridcolor": "white",
             "linecolor": "white",
             "minorgridcolor": "white",
             "startlinecolor": "#2a3f5f"
            },
            "type": "carpet"
           }
          ],
          "choropleth": [
           {
            "colorbar": {
             "outlinewidth": 0,
             "ticks": ""
            },
            "type": "choropleth"
           }
          ],
          "contour": [
           {
            "colorbar": {
             "outlinewidth": 0,
             "ticks": ""
            },
            "colorscale": [
             [
              0,
              "#0d0887"
             ],
             [
              0.1111111111111111,
              "#46039f"
             ],
             [
              0.2222222222222222,
              "#7201a8"
             ],
             [
              0.3333333333333333,
              "#9c179e"
             ],
             [
              0.4444444444444444,
              "#bd3786"
             ],
             [
              0.5555555555555556,
              "#d8576b"
             ],
             [
              0.6666666666666666,
              "#ed7953"
             ],
             [
              0.7777777777777778,
              "#fb9f3a"
             ],
             [
              0.8888888888888888,
              "#fdca26"
             ],
             [
              1,
              "#f0f921"
             ]
            ],
            "type": "contour"
           }
          ],
          "contourcarpet": [
           {
            "colorbar": {
             "outlinewidth": 0,
             "ticks": ""
            },
            "type": "contourcarpet"
           }
          ],
          "heatmap": [
           {
            "colorbar": {
             "outlinewidth": 0,
             "ticks": ""
            },
            "colorscale": [
             [
              0,
              "#0d0887"
             ],
             [
              0.1111111111111111,
              "#46039f"
             ],
             [
              0.2222222222222222,
              "#7201a8"
             ],
             [
              0.3333333333333333,
              "#9c179e"
             ],
             [
              0.4444444444444444,
              "#bd3786"
             ],
             [
              0.5555555555555556,
              "#d8576b"
             ],
             [
              0.6666666666666666,
              "#ed7953"
             ],
             [
              0.7777777777777778,
              "#fb9f3a"
             ],
             [
              0.8888888888888888,
              "#fdca26"
             ],
             [
              1,
              "#f0f921"
             ]
            ],
            "type": "heatmap"
           }
          ],
          "heatmapgl": [
           {
            "colorbar": {
             "outlinewidth": 0,
             "ticks": ""
            },
            "colorscale": [
             [
              0,
              "#0d0887"
             ],
             [
              0.1111111111111111,
              "#46039f"
             ],
             [
              0.2222222222222222,
              "#7201a8"
             ],
             [
              0.3333333333333333,
              "#9c179e"
             ],
             [
              0.4444444444444444,
              "#bd3786"
             ],
             [
              0.5555555555555556,
              "#d8576b"
             ],
             [
              0.6666666666666666,
              "#ed7953"
             ],
             [
              0.7777777777777778,
              "#fb9f3a"
             ],
             [
              0.8888888888888888,
              "#fdca26"
             ],
             [
              1,
              "#f0f921"
             ]
            ],
            "type": "heatmapgl"
           }
          ],
          "histogram": [
           {
            "marker": {
             "pattern": {
              "fillmode": "overlay",
              "size": 10,
              "solidity": 0.2
             }
            },
            "type": "histogram"
           }
          ],
          "histogram2d": [
           {
            "colorbar": {
             "outlinewidth": 0,
             "ticks": ""
            },
            "colorscale": [
             [
              0,
              "#0d0887"
             ],
             [
              0.1111111111111111,
              "#46039f"
             ],
             [
              0.2222222222222222,
              "#7201a8"
             ],
             [
              0.3333333333333333,
              "#9c179e"
             ],
             [
              0.4444444444444444,
              "#bd3786"
             ],
             [
              0.5555555555555556,
              "#d8576b"
             ],
             [
              0.6666666666666666,
              "#ed7953"
             ],
             [
              0.7777777777777778,
              "#fb9f3a"
             ],
             [
              0.8888888888888888,
              "#fdca26"
             ],
             [
              1,
              "#f0f921"
             ]
            ],
            "type": "histogram2d"
           }
          ],
          "histogram2dcontour": [
           {
            "colorbar": {
             "outlinewidth": 0,
             "ticks": ""
            },
            "colorscale": [
             [
              0,
              "#0d0887"
             ],
             [
              0.1111111111111111,
              "#46039f"
             ],
             [
              0.2222222222222222,
              "#7201a8"
             ],
             [
              0.3333333333333333,
              "#9c179e"
             ],
             [
              0.4444444444444444,
              "#bd3786"
             ],
             [
              0.5555555555555556,
              "#d8576b"
             ],
             [
              0.6666666666666666,
              "#ed7953"
             ],
             [
              0.7777777777777778,
              "#fb9f3a"
             ],
             [
              0.8888888888888888,
              "#fdca26"
             ],
             [
              1,
              "#f0f921"
             ]
            ],
            "type": "histogram2dcontour"
           }
          ],
          "mesh3d": [
           {
            "colorbar": {
             "outlinewidth": 0,
             "ticks": ""
            },
            "type": "mesh3d"
           }
          ],
          "parcoords": [
           {
            "line": {
             "colorbar": {
              "outlinewidth": 0,
              "ticks": ""
             }
            },
            "type": "parcoords"
           }
          ],
          "pie": [
           {
            "automargin": true,
            "type": "pie"
           }
          ],
          "scatter": [
           {
            "fillpattern": {
             "fillmode": "overlay",
             "size": 10,
             "solidity": 0.2
            },
            "type": "scatter"
           }
          ],
          "scatter3d": [
           {
            "line": {
             "colorbar": {
              "outlinewidth": 0,
              "ticks": ""
             }
            },
            "marker": {
             "colorbar": {
              "outlinewidth": 0,
              "ticks": ""
             }
            },
            "type": "scatter3d"
           }
          ],
          "scattercarpet": [
           {
            "marker": {
             "colorbar": {
              "outlinewidth": 0,
              "ticks": ""
             }
            },
            "type": "scattercarpet"
           }
          ],
          "scattergeo": [
           {
            "marker": {
             "colorbar": {
              "outlinewidth": 0,
              "ticks": ""
             }
            },
            "type": "scattergeo"
           }
          ],
          "scattergl": [
           {
            "marker": {
             "colorbar": {
              "outlinewidth": 0,
              "ticks": ""
             }
            },
            "type": "scattergl"
           }
          ],
          "scattermapbox": [
           {
            "marker": {
             "colorbar": {
              "outlinewidth": 0,
              "ticks": ""
             }
            },
            "type": "scattermapbox"
           }
          ],
          "scatterpolar": [
           {
            "marker": {
             "colorbar": {
              "outlinewidth": 0,
              "ticks": ""
             }
            },
            "type": "scatterpolar"
           }
          ],
          "scatterpolargl": [
           {
            "marker": {
             "colorbar": {
              "outlinewidth": 0,
              "ticks": ""
             }
            },
            "type": "scatterpolargl"
           }
          ],
          "scatterternary": [
           {
            "marker": {
             "colorbar": {
              "outlinewidth": 0,
              "ticks": ""
             }
            },
            "type": "scatterternary"
           }
          ],
          "surface": [
           {
            "colorbar": {
             "outlinewidth": 0,
             "ticks": ""
            },
            "colorscale": [
             [
              0,
              "#0d0887"
             ],
             [
              0.1111111111111111,
              "#46039f"
             ],
             [
              0.2222222222222222,
              "#7201a8"
             ],
             [
              0.3333333333333333,
              "#9c179e"
             ],
             [
              0.4444444444444444,
              "#bd3786"
             ],
             [
              0.5555555555555556,
              "#d8576b"
             ],
             [
              0.6666666666666666,
              "#ed7953"
             ],
             [
              0.7777777777777778,
              "#fb9f3a"
             ],
             [
              0.8888888888888888,
              "#fdca26"
             ],
             [
              1,
              "#f0f921"
             ]
            ],
            "type": "surface"
           }
          ],
          "table": [
           {
            "cells": {
             "fill": {
              "color": "#EBF0F8"
             },
             "line": {
              "color": "white"
             }
            },
            "header": {
             "fill": {
              "color": "#C8D4E3"
             },
             "line": {
              "color": "white"
             }
            },
            "type": "table"
           }
          ]
         },
         "layout": {
          "annotationdefaults": {
           "arrowcolor": "#2a3f5f",
           "arrowhead": 0,
           "arrowwidth": 1
          },
          "autotypenumbers": "strict",
          "coloraxis": {
           "colorbar": {
            "outlinewidth": 0,
            "ticks": ""
           }
          },
          "colorscale": {
           "diverging": [
            [
             0,
             "#8e0152"
            ],
            [
             0.1,
             "#c51b7d"
            ],
            [
             0.2,
             "#de77ae"
            ],
            [
             0.3,
             "#f1b6da"
            ],
            [
             0.4,
             "#fde0ef"
            ],
            [
             0.5,
             "#f7f7f7"
            ],
            [
             0.6,
             "#e6f5d0"
            ],
            [
             0.7,
             "#b8e186"
            ],
            [
             0.8,
             "#7fbc41"
            ],
            [
             0.9,
             "#4d9221"
            ],
            [
             1,
             "#276419"
            ]
           ],
           "sequential": [
            [
             0,
             "#0d0887"
            ],
            [
             0.1111111111111111,
             "#46039f"
            ],
            [
             0.2222222222222222,
             "#7201a8"
            ],
            [
             0.3333333333333333,
             "#9c179e"
            ],
            [
             0.4444444444444444,
             "#bd3786"
            ],
            [
             0.5555555555555556,
             "#d8576b"
            ],
            [
             0.6666666666666666,
             "#ed7953"
            ],
            [
             0.7777777777777778,
             "#fb9f3a"
            ],
            [
             0.8888888888888888,
             "#fdca26"
            ],
            [
             1,
             "#f0f921"
            ]
           ],
           "sequentialminus": [
            [
             0,
             "#0d0887"
            ],
            [
             0.1111111111111111,
             "#46039f"
            ],
            [
             0.2222222222222222,
             "#7201a8"
            ],
            [
             0.3333333333333333,
             "#9c179e"
            ],
            [
             0.4444444444444444,
             "#bd3786"
            ],
            [
             0.5555555555555556,
             "#d8576b"
            ],
            [
             0.6666666666666666,
             "#ed7953"
            ],
            [
             0.7777777777777778,
             "#fb9f3a"
            ],
            [
             0.8888888888888888,
             "#fdca26"
            ],
            [
             1,
             "#f0f921"
            ]
           ]
          },
          "colorway": [
           "#636efa",
           "#EF553B",
           "#00cc96",
           "#ab63fa",
           "#FFA15A",
           "#19d3f3",
           "#FF6692",
           "#B6E880",
           "#FF97FF",
           "#FECB52"
          ],
          "font": {
           "color": "#2a3f5f"
          },
          "geo": {
           "bgcolor": "white",
           "lakecolor": "white",
           "landcolor": "#E5ECF6",
           "showlakes": true,
           "showland": true,
           "subunitcolor": "white"
          },
          "hoverlabel": {
           "align": "left"
          },
          "hovermode": "closest",
          "mapbox": {
           "style": "light"
          },
          "paper_bgcolor": "white",
          "plot_bgcolor": "#E5ECF6",
          "polar": {
           "angularaxis": {
            "gridcolor": "white",
            "linecolor": "white",
            "ticks": ""
           },
           "bgcolor": "#E5ECF6",
           "radialaxis": {
            "gridcolor": "white",
            "linecolor": "white",
            "ticks": ""
           }
          },
          "scene": {
           "xaxis": {
            "backgroundcolor": "#E5ECF6",
            "gridcolor": "white",
            "gridwidth": 2,
            "linecolor": "white",
            "showbackground": true,
            "ticks": "",
            "zerolinecolor": "white"
           },
           "yaxis": {
            "backgroundcolor": "#E5ECF6",
            "gridcolor": "white",
            "gridwidth": 2,
            "linecolor": "white",
            "showbackground": true,
            "ticks": "",
            "zerolinecolor": "white"
           },
           "zaxis": {
            "backgroundcolor": "#E5ECF6",
            "gridcolor": "white",
            "gridwidth": 2,
            "linecolor": "white",
            "showbackground": true,
            "ticks": "",
            "zerolinecolor": "white"
           }
          },
          "shapedefaults": {
           "line": {
            "color": "#2a3f5f"
           }
          },
          "ternary": {
           "aaxis": {
            "gridcolor": "white",
            "linecolor": "white",
            "ticks": ""
           },
           "baxis": {
            "gridcolor": "white",
            "linecolor": "white",
            "ticks": ""
           },
           "bgcolor": "#E5ECF6",
           "caxis": {
            "gridcolor": "white",
            "linecolor": "white",
            "ticks": ""
           }
          },
          "title": {
           "x": 0.05
          },
          "xaxis": {
           "automargin": true,
           "gridcolor": "white",
           "linecolor": "white",
           "ticks": "",
           "title": {
            "standoff": 15
           },
           "zerolinecolor": "white",
           "zerolinewidth": 2
          },
          "yaxis": {
           "automargin": true,
           "gridcolor": "white",
           "linecolor": "white",
           "ticks": "",
           "title": {
            "standoff": 15
           },
           "zerolinecolor": "white",
           "zerolinewidth": 2
          }
         }
        },
        "xaxis": {
         "anchor": "y",
         "domain": [
          0,
          1
         ],
         "title": {
          "text": "datetime"
         }
        },
        "yaxis": {
         "anchor": "x",
         "domain": [
          0,
          1
         ],
         "title": {
          "text": "value"
         }
        }
       }
      }
     },
     "metadata": {},
     "output_type": "display_data"
    }
   ],
   "source": [
    "px.bar(rebalance_df[\"spot_slippage_bps\"])"
   ]
  },
  {
   "cell_type": "code",
   "execution_count": 20,
   "metadata": {},
   "outputs": [
    {
     "data": {
      "application/vnd.plotly.v1+json": {
       "config": {
        "plotlyServerURL": "https://plot.ly"
       },
       "data": [
        {
         "alignmentgroup": "True",
         "hovertemplate": "variable=spot_swap_cost<br>datetime=%{x}<br>value=%{y}<extra></extra>",
         "legendgroup": "spot_swap_cost",
         "marker": {
          "color": "#636efa",
          "pattern": {
           "shape": ""
          }
         },
         "name": "spot_swap_cost",
         "offsetgroup": "spot_swap_cost",
         "orientation": "v",
         "showlegend": true,
         "textposition": "auto",
         "type": "bar",
         "x": [
          "2025-05-31T00:00:00+00:00",
          "2025-06-01T00:00:00+00:00",
          "2025-06-02T00:00:00+00:00",
          "2025-06-03T00:00:00+00:00",
          "2025-06-04T00:00:00+00:00",
          "2025-06-05T00:00:00+00:00"
         ],
         "xaxis": "x",
         "y": [
          0.15607477253149682,
          0.1973960211372514,
          11.487143170361378,
          2067.2388386690145,
          43.458498668558605,
          19.48694439519022
         ],
         "yaxis": "y"
        }
       ],
       "layout": {
        "barmode": "relative",
        "legend": {
         "title": {
          "text": "variable"
         },
         "tracegroupgap": 0
        },
        "margin": {
         "t": 60
        },
        "template": {
         "data": {
          "bar": [
           {
            "error_x": {
             "color": "#2a3f5f"
            },
            "error_y": {
             "color": "#2a3f5f"
            },
            "marker": {
             "line": {
              "color": "#E5ECF6",
              "width": 0.5
             },
             "pattern": {
              "fillmode": "overlay",
              "size": 10,
              "solidity": 0.2
             }
            },
            "type": "bar"
           }
          ],
          "barpolar": [
           {
            "marker": {
             "line": {
              "color": "#E5ECF6",
              "width": 0.5
             },
             "pattern": {
              "fillmode": "overlay",
              "size": 10,
              "solidity": 0.2
             }
            },
            "type": "barpolar"
           }
          ],
          "carpet": [
           {
            "aaxis": {
             "endlinecolor": "#2a3f5f",
             "gridcolor": "white",
             "linecolor": "white",
             "minorgridcolor": "white",
             "startlinecolor": "#2a3f5f"
            },
            "baxis": {
             "endlinecolor": "#2a3f5f",
             "gridcolor": "white",
             "linecolor": "white",
             "minorgridcolor": "white",
             "startlinecolor": "#2a3f5f"
            },
            "type": "carpet"
           }
          ],
          "choropleth": [
           {
            "colorbar": {
             "outlinewidth": 0,
             "ticks": ""
            },
            "type": "choropleth"
           }
          ],
          "contour": [
           {
            "colorbar": {
             "outlinewidth": 0,
             "ticks": ""
            },
            "colorscale": [
             [
              0,
              "#0d0887"
             ],
             [
              0.1111111111111111,
              "#46039f"
             ],
             [
              0.2222222222222222,
              "#7201a8"
             ],
             [
              0.3333333333333333,
              "#9c179e"
             ],
             [
              0.4444444444444444,
              "#bd3786"
             ],
             [
              0.5555555555555556,
              "#d8576b"
             ],
             [
              0.6666666666666666,
              "#ed7953"
             ],
             [
              0.7777777777777778,
              "#fb9f3a"
             ],
             [
              0.8888888888888888,
              "#fdca26"
             ],
             [
              1,
              "#f0f921"
             ]
            ],
            "type": "contour"
           }
          ],
          "contourcarpet": [
           {
            "colorbar": {
             "outlinewidth": 0,
             "ticks": ""
            },
            "type": "contourcarpet"
           }
          ],
          "heatmap": [
           {
            "colorbar": {
             "outlinewidth": 0,
             "ticks": ""
            },
            "colorscale": [
             [
              0,
              "#0d0887"
             ],
             [
              0.1111111111111111,
              "#46039f"
             ],
             [
              0.2222222222222222,
              "#7201a8"
             ],
             [
              0.3333333333333333,
              "#9c179e"
             ],
             [
              0.4444444444444444,
              "#bd3786"
             ],
             [
              0.5555555555555556,
              "#d8576b"
             ],
             [
              0.6666666666666666,
              "#ed7953"
             ],
             [
              0.7777777777777778,
              "#fb9f3a"
             ],
             [
              0.8888888888888888,
              "#fdca26"
             ],
             [
              1,
              "#f0f921"
             ]
            ],
            "type": "heatmap"
           }
          ],
          "heatmapgl": [
           {
            "colorbar": {
             "outlinewidth": 0,
             "ticks": ""
            },
            "colorscale": [
             [
              0,
              "#0d0887"
             ],
             [
              0.1111111111111111,
              "#46039f"
             ],
             [
              0.2222222222222222,
              "#7201a8"
             ],
             [
              0.3333333333333333,
              "#9c179e"
             ],
             [
              0.4444444444444444,
              "#bd3786"
             ],
             [
              0.5555555555555556,
              "#d8576b"
             ],
             [
              0.6666666666666666,
              "#ed7953"
             ],
             [
              0.7777777777777778,
              "#fb9f3a"
             ],
             [
              0.8888888888888888,
              "#fdca26"
             ],
             [
              1,
              "#f0f921"
             ]
            ],
            "type": "heatmapgl"
           }
          ],
          "histogram": [
           {
            "marker": {
             "pattern": {
              "fillmode": "overlay",
              "size": 10,
              "solidity": 0.2
             }
            },
            "type": "histogram"
           }
          ],
          "histogram2d": [
           {
            "colorbar": {
             "outlinewidth": 0,
             "ticks": ""
            },
            "colorscale": [
             [
              0,
              "#0d0887"
             ],
             [
              0.1111111111111111,
              "#46039f"
             ],
             [
              0.2222222222222222,
              "#7201a8"
             ],
             [
              0.3333333333333333,
              "#9c179e"
             ],
             [
              0.4444444444444444,
              "#bd3786"
             ],
             [
              0.5555555555555556,
              "#d8576b"
             ],
             [
              0.6666666666666666,
              "#ed7953"
             ],
             [
              0.7777777777777778,
              "#fb9f3a"
             ],
             [
              0.8888888888888888,
              "#fdca26"
             ],
             [
              1,
              "#f0f921"
             ]
            ],
            "type": "histogram2d"
           }
          ],
          "histogram2dcontour": [
           {
            "colorbar": {
             "outlinewidth": 0,
             "ticks": ""
            },
            "colorscale": [
             [
              0,
              "#0d0887"
             ],
             [
              0.1111111111111111,
              "#46039f"
             ],
             [
              0.2222222222222222,
              "#7201a8"
             ],
             [
              0.3333333333333333,
              "#9c179e"
             ],
             [
              0.4444444444444444,
              "#bd3786"
             ],
             [
              0.5555555555555556,
              "#d8576b"
             ],
             [
              0.6666666666666666,
              "#ed7953"
             ],
             [
              0.7777777777777778,
              "#fb9f3a"
             ],
             [
              0.8888888888888888,
              "#fdca26"
             ],
             [
              1,
              "#f0f921"
             ]
            ],
            "type": "histogram2dcontour"
           }
          ],
          "mesh3d": [
           {
            "colorbar": {
             "outlinewidth": 0,
             "ticks": ""
            },
            "type": "mesh3d"
           }
          ],
          "parcoords": [
           {
            "line": {
             "colorbar": {
              "outlinewidth": 0,
              "ticks": ""
             }
            },
            "type": "parcoords"
           }
          ],
          "pie": [
           {
            "automargin": true,
            "type": "pie"
           }
          ],
          "scatter": [
           {
            "fillpattern": {
             "fillmode": "overlay",
             "size": 10,
             "solidity": 0.2
            },
            "type": "scatter"
           }
          ],
          "scatter3d": [
           {
            "line": {
             "colorbar": {
              "outlinewidth": 0,
              "ticks": ""
             }
            },
            "marker": {
             "colorbar": {
              "outlinewidth": 0,
              "ticks": ""
             }
            },
            "type": "scatter3d"
           }
          ],
          "scattercarpet": [
           {
            "marker": {
             "colorbar": {
              "outlinewidth": 0,
              "ticks": ""
             }
            },
            "type": "scattercarpet"
           }
          ],
          "scattergeo": [
           {
            "marker": {
             "colorbar": {
              "outlinewidth": 0,
              "ticks": ""
             }
            },
            "type": "scattergeo"
           }
          ],
          "scattergl": [
           {
            "marker": {
             "colorbar": {
              "outlinewidth": 0,
              "ticks": ""
             }
            },
            "type": "scattergl"
           }
          ],
          "scattermapbox": [
           {
            "marker": {
             "colorbar": {
              "outlinewidth": 0,
              "ticks": ""
             }
            },
            "type": "scattermapbox"
           }
          ],
          "scatterpolar": [
           {
            "marker": {
             "colorbar": {
              "outlinewidth": 0,
              "ticks": ""
             }
            },
            "type": "scatterpolar"
           }
          ],
          "scatterpolargl": [
           {
            "marker": {
             "colorbar": {
              "outlinewidth": 0,
              "ticks": ""
             }
            },
            "type": "scatterpolargl"
           }
          ],
          "scatterternary": [
           {
            "marker": {
             "colorbar": {
              "outlinewidth": 0,
              "ticks": ""
             }
            },
            "type": "scatterternary"
           }
          ],
          "surface": [
           {
            "colorbar": {
             "outlinewidth": 0,
             "ticks": ""
            },
            "colorscale": [
             [
              0,
              "#0d0887"
             ],
             [
              0.1111111111111111,
              "#46039f"
             ],
             [
              0.2222222222222222,
              "#7201a8"
             ],
             [
              0.3333333333333333,
              "#9c179e"
             ],
             [
              0.4444444444444444,
              "#bd3786"
             ],
             [
              0.5555555555555556,
              "#d8576b"
             ],
             [
              0.6666666666666666,
              "#ed7953"
             ],
             [
              0.7777777777777778,
              "#fb9f3a"
             ],
             [
              0.8888888888888888,
              "#fdca26"
             ],
             [
              1,
              "#f0f921"
             ]
            ],
            "type": "surface"
           }
          ],
          "table": [
           {
            "cells": {
             "fill": {
              "color": "#EBF0F8"
             },
             "line": {
              "color": "white"
             }
            },
            "header": {
             "fill": {
              "color": "#C8D4E3"
             },
             "line": {
              "color": "white"
             }
            },
            "type": "table"
           }
          ]
         },
         "layout": {
          "annotationdefaults": {
           "arrowcolor": "#2a3f5f",
           "arrowhead": 0,
           "arrowwidth": 1
          },
          "autotypenumbers": "strict",
          "coloraxis": {
           "colorbar": {
            "outlinewidth": 0,
            "ticks": ""
           }
          },
          "colorscale": {
           "diverging": [
            [
             0,
             "#8e0152"
            ],
            [
             0.1,
             "#c51b7d"
            ],
            [
             0.2,
             "#de77ae"
            ],
            [
             0.3,
             "#f1b6da"
            ],
            [
             0.4,
             "#fde0ef"
            ],
            [
             0.5,
             "#f7f7f7"
            ],
            [
             0.6,
             "#e6f5d0"
            ],
            [
             0.7,
             "#b8e186"
            ],
            [
             0.8,
             "#7fbc41"
            ],
            [
             0.9,
             "#4d9221"
            ],
            [
             1,
             "#276419"
            ]
           ],
           "sequential": [
            [
             0,
             "#0d0887"
            ],
            [
             0.1111111111111111,
             "#46039f"
            ],
            [
             0.2222222222222222,
             "#7201a8"
            ],
            [
             0.3333333333333333,
             "#9c179e"
            ],
            [
             0.4444444444444444,
             "#bd3786"
            ],
            [
             0.5555555555555556,
             "#d8576b"
            ],
            [
             0.6666666666666666,
             "#ed7953"
            ],
            [
             0.7777777777777778,
             "#fb9f3a"
            ],
            [
             0.8888888888888888,
             "#fdca26"
            ],
            [
             1,
             "#f0f921"
            ]
           ],
           "sequentialminus": [
            [
             0,
             "#0d0887"
            ],
            [
             0.1111111111111111,
             "#46039f"
            ],
            [
             0.2222222222222222,
             "#7201a8"
            ],
            [
             0.3333333333333333,
             "#9c179e"
            ],
            [
             0.4444444444444444,
             "#bd3786"
            ],
            [
             0.5555555555555556,
             "#d8576b"
            ],
            [
             0.6666666666666666,
             "#ed7953"
            ],
            [
             0.7777777777777778,
             "#fb9f3a"
            ],
            [
             0.8888888888888888,
             "#fdca26"
            ],
            [
             1,
             "#f0f921"
            ]
           ]
          },
          "colorway": [
           "#636efa",
           "#EF553B",
           "#00cc96",
           "#ab63fa",
           "#FFA15A",
           "#19d3f3",
           "#FF6692",
           "#B6E880",
           "#FF97FF",
           "#FECB52"
          ],
          "font": {
           "color": "#2a3f5f"
          },
          "geo": {
           "bgcolor": "white",
           "lakecolor": "white",
           "landcolor": "#E5ECF6",
           "showlakes": true,
           "showland": true,
           "subunitcolor": "white"
          },
          "hoverlabel": {
           "align": "left"
          },
          "hovermode": "closest",
          "mapbox": {
           "style": "light"
          },
          "paper_bgcolor": "white",
          "plot_bgcolor": "#E5ECF6",
          "polar": {
           "angularaxis": {
            "gridcolor": "white",
            "linecolor": "white",
            "ticks": ""
           },
           "bgcolor": "#E5ECF6",
           "radialaxis": {
            "gridcolor": "white",
            "linecolor": "white",
            "ticks": ""
           }
          },
          "scene": {
           "xaxis": {
            "backgroundcolor": "#E5ECF6",
            "gridcolor": "white",
            "gridwidth": 2,
            "linecolor": "white",
            "showbackground": true,
            "ticks": "",
            "zerolinecolor": "white"
           },
           "yaxis": {
            "backgroundcolor": "#E5ECF6",
            "gridcolor": "white",
            "gridwidth": 2,
            "linecolor": "white",
            "showbackground": true,
            "ticks": "",
            "zerolinecolor": "white"
           },
           "zaxis": {
            "backgroundcolor": "#E5ECF6",
            "gridcolor": "white",
            "gridwidth": 2,
            "linecolor": "white",
            "showbackground": true,
            "ticks": "",
            "zerolinecolor": "white"
           }
          },
          "shapedefaults": {
           "line": {
            "color": "#2a3f5f"
           }
          },
          "ternary": {
           "aaxis": {
            "gridcolor": "white",
            "linecolor": "white",
            "ticks": ""
           },
           "baxis": {
            "gridcolor": "white",
            "linecolor": "white",
            "ticks": ""
           },
           "bgcolor": "#E5ECF6",
           "caxis": {
            "gridcolor": "white",
            "linecolor": "white",
            "ticks": ""
           }
          },
          "title": {
           "x": 0.05
          },
          "xaxis": {
           "automargin": true,
           "gridcolor": "white",
           "linecolor": "white",
           "ticks": "",
           "title": {
            "standoff": 15
           },
           "zerolinecolor": "white",
           "zerolinewidth": 2
          },
          "yaxis": {
           "automargin": true,
           "gridcolor": "white",
           "linecolor": "white",
           "ticks": "",
           "title": {
            "standoff": 15
           },
           "zerolinecolor": "white",
           "zerolinewidth": 2
          }
         }
        },
        "xaxis": {
         "anchor": "y",
         "domain": [
          0,
          1
         ],
         "title": {
          "text": "datetime"
         }
        },
        "yaxis": {
         "anchor": "x",
         "domain": [
          0,
          1
         ],
         "title": {
          "text": "value"
         }
        }
       }
      }
     },
     "metadata": {},
     "output_type": "display_data"
    }
   ],
   "source": [
    "px.bar(rebalance_df.resample(\"1d\").sum()[\"spot_swap_cost\"])"
   ]
  },
  {
   "cell_type": "code",
   "execution_count": 21,
   "metadata": {},
   "outputs": [
    {
     "data": {
      "application/vnd.plotly.v1+json": {
       "config": {
        "plotlyServerURL": "https://plot.ly"
       },
       "data": [
        {
         "alignmentgroup": "True",
         "hovertemplate": "variable=swap_cost_in_bps_of_NAV_from_idle<br>datetime=%{x}<br>value=%{y}<extra></extra>",
         "legendgroup": "swap_cost_in_bps_of_NAV_from_idle",
         "marker": {
          "color": "#636efa",
          "pattern": {
           "shape": ""
          }
         },
         "name": "swap_cost_in_bps_of_NAV_from_idle",
         "offsetgroup": "swap_cost_in_bps_of_NAV_from_idle",
         "orientation": "v",
         "showlegend": true,
         "textposition": "auto",
         "type": "bar",
         "x": [
          "2025-05-31T00:00:00+00:00",
          "2025-06-01T00:00:00+00:00",
          "2025-06-02T00:00:00+00:00",
          "2025-06-03T00:00:00+00:00",
          "2025-06-04T00:00:00+00:00",
          "2025-06-05T00:00:00+00:00"
         ],
         "xaxis": "x",
         "y": [
          1.4969089155786728,
          1.893402162822643,
          4.357180603587862,
          18.407966417297647,
          0.3548244627969229,
          0.0678996668340693
         ],
         "yaxis": "y"
        },
        {
         "alignmentgroup": "True",
         "hovertemplate": "variable=swap_cost_in_bps_of_NAV_not_from_idle<br>datetime=%{x}<br>value=%{y}<extra></extra>",
         "legendgroup": "swap_cost_in_bps_of_NAV_not_from_idle",
         "marker": {
          "color": "#EF553B",
          "pattern": {
           "shape": ""
          }
         },
         "name": "swap_cost_in_bps_of_NAV_not_from_idle",
         "offsetgroup": "swap_cost_in_bps_of_NAV_not_from_idle",
         "orientation": "v",
         "showlegend": true,
         "textposition": "auto",
         "type": "bar",
         "x": [
          "2025-05-31T00:00:00+00:00",
          "2025-06-01T00:00:00+00:00",
          "2025-06-02T00:00:00+00:00",
          "2025-06-03T00:00:00+00:00",
          "2025-06-04T00:00:00+00:00",
          "2025-06-05T00:00:00+00:00"
         ],
         "xaxis": "x",
         "y": [
          0,
          0,
          0,
          0,
          0,
          0
         ],
         "yaxis": "y"
        }
       ],
       "layout": {
        "barmode": "relative",
        "legend": {
         "title": {
          "text": "variable"
         },
         "tracegroupgap": 0
        },
        "margin": {
         "t": 60
        },
        "template": {
         "data": {
          "bar": [
           {
            "error_x": {
             "color": "#2a3f5f"
            },
            "error_y": {
             "color": "#2a3f5f"
            },
            "marker": {
             "line": {
              "color": "#E5ECF6",
              "width": 0.5
             },
             "pattern": {
              "fillmode": "overlay",
              "size": 10,
              "solidity": 0.2
             }
            },
            "type": "bar"
           }
          ],
          "barpolar": [
           {
            "marker": {
             "line": {
              "color": "#E5ECF6",
              "width": 0.5
             },
             "pattern": {
              "fillmode": "overlay",
              "size": 10,
              "solidity": 0.2
             }
            },
            "type": "barpolar"
           }
          ],
          "carpet": [
           {
            "aaxis": {
             "endlinecolor": "#2a3f5f",
             "gridcolor": "white",
             "linecolor": "white",
             "minorgridcolor": "white",
             "startlinecolor": "#2a3f5f"
            },
            "baxis": {
             "endlinecolor": "#2a3f5f",
             "gridcolor": "white",
             "linecolor": "white",
             "minorgridcolor": "white",
             "startlinecolor": "#2a3f5f"
            },
            "type": "carpet"
           }
          ],
          "choropleth": [
           {
            "colorbar": {
             "outlinewidth": 0,
             "ticks": ""
            },
            "type": "choropleth"
           }
          ],
          "contour": [
           {
            "colorbar": {
             "outlinewidth": 0,
             "ticks": ""
            },
            "colorscale": [
             [
              0,
              "#0d0887"
             ],
             [
              0.1111111111111111,
              "#46039f"
             ],
             [
              0.2222222222222222,
              "#7201a8"
             ],
             [
              0.3333333333333333,
              "#9c179e"
             ],
             [
              0.4444444444444444,
              "#bd3786"
             ],
             [
              0.5555555555555556,
              "#d8576b"
             ],
             [
              0.6666666666666666,
              "#ed7953"
             ],
             [
              0.7777777777777778,
              "#fb9f3a"
             ],
             [
              0.8888888888888888,
              "#fdca26"
             ],
             [
              1,
              "#f0f921"
             ]
            ],
            "type": "contour"
           }
          ],
          "contourcarpet": [
           {
            "colorbar": {
             "outlinewidth": 0,
             "ticks": ""
            },
            "type": "contourcarpet"
           }
          ],
          "heatmap": [
           {
            "colorbar": {
             "outlinewidth": 0,
             "ticks": ""
            },
            "colorscale": [
             [
              0,
              "#0d0887"
             ],
             [
              0.1111111111111111,
              "#46039f"
             ],
             [
              0.2222222222222222,
              "#7201a8"
             ],
             [
              0.3333333333333333,
              "#9c179e"
             ],
             [
              0.4444444444444444,
              "#bd3786"
             ],
             [
              0.5555555555555556,
              "#d8576b"
             ],
             [
              0.6666666666666666,
              "#ed7953"
             ],
             [
              0.7777777777777778,
              "#fb9f3a"
             ],
             [
              0.8888888888888888,
              "#fdca26"
             ],
             [
              1,
              "#f0f921"
             ]
            ],
            "type": "heatmap"
           }
          ],
          "heatmapgl": [
           {
            "colorbar": {
             "outlinewidth": 0,
             "ticks": ""
            },
            "colorscale": [
             [
              0,
              "#0d0887"
             ],
             [
              0.1111111111111111,
              "#46039f"
             ],
             [
              0.2222222222222222,
              "#7201a8"
             ],
             [
              0.3333333333333333,
              "#9c179e"
             ],
             [
              0.4444444444444444,
              "#bd3786"
             ],
             [
              0.5555555555555556,
              "#d8576b"
             ],
             [
              0.6666666666666666,
              "#ed7953"
             ],
             [
              0.7777777777777778,
              "#fb9f3a"
             ],
             [
              0.8888888888888888,
              "#fdca26"
             ],
             [
              1,
              "#f0f921"
             ]
            ],
            "type": "heatmapgl"
           }
          ],
          "histogram": [
           {
            "marker": {
             "pattern": {
              "fillmode": "overlay",
              "size": 10,
              "solidity": 0.2
             }
            },
            "type": "histogram"
           }
          ],
          "histogram2d": [
           {
            "colorbar": {
             "outlinewidth": 0,
             "ticks": ""
            },
            "colorscale": [
             [
              0,
              "#0d0887"
             ],
             [
              0.1111111111111111,
              "#46039f"
             ],
             [
              0.2222222222222222,
              "#7201a8"
             ],
             [
              0.3333333333333333,
              "#9c179e"
             ],
             [
              0.4444444444444444,
              "#bd3786"
             ],
             [
              0.5555555555555556,
              "#d8576b"
             ],
             [
              0.6666666666666666,
              "#ed7953"
             ],
             [
              0.7777777777777778,
              "#fb9f3a"
             ],
             [
              0.8888888888888888,
              "#fdca26"
             ],
             [
              1,
              "#f0f921"
             ]
            ],
            "type": "histogram2d"
           }
          ],
          "histogram2dcontour": [
           {
            "colorbar": {
             "outlinewidth": 0,
             "ticks": ""
            },
            "colorscale": [
             [
              0,
              "#0d0887"
             ],
             [
              0.1111111111111111,
              "#46039f"
             ],
             [
              0.2222222222222222,
              "#7201a8"
             ],
             [
              0.3333333333333333,
              "#9c179e"
             ],
             [
              0.4444444444444444,
              "#bd3786"
             ],
             [
              0.5555555555555556,
              "#d8576b"
             ],
             [
              0.6666666666666666,
              "#ed7953"
             ],
             [
              0.7777777777777778,
              "#fb9f3a"
             ],
             [
              0.8888888888888888,
              "#fdca26"
             ],
             [
              1,
              "#f0f921"
             ]
            ],
            "type": "histogram2dcontour"
           }
          ],
          "mesh3d": [
           {
            "colorbar": {
             "outlinewidth": 0,
             "ticks": ""
            },
            "type": "mesh3d"
           }
          ],
          "parcoords": [
           {
            "line": {
             "colorbar": {
              "outlinewidth": 0,
              "ticks": ""
             }
            },
            "type": "parcoords"
           }
          ],
          "pie": [
           {
            "automargin": true,
            "type": "pie"
           }
          ],
          "scatter": [
           {
            "fillpattern": {
             "fillmode": "overlay",
             "size": 10,
             "solidity": 0.2
            },
            "type": "scatter"
           }
          ],
          "scatter3d": [
           {
            "line": {
             "colorbar": {
              "outlinewidth": 0,
              "ticks": ""
             }
            },
            "marker": {
             "colorbar": {
              "outlinewidth": 0,
              "ticks": ""
             }
            },
            "type": "scatter3d"
           }
          ],
          "scattercarpet": [
           {
            "marker": {
             "colorbar": {
              "outlinewidth": 0,
              "ticks": ""
             }
            },
            "type": "scattercarpet"
           }
          ],
          "scattergeo": [
           {
            "marker": {
             "colorbar": {
              "outlinewidth": 0,
              "ticks": ""
             }
            },
            "type": "scattergeo"
           }
          ],
          "scattergl": [
           {
            "marker": {
             "colorbar": {
              "outlinewidth": 0,
              "ticks": ""
             }
            },
            "type": "scattergl"
           }
          ],
          "scattermapbox": [
           {
            "marker": {
             "colorbar": {
              "outlinewidth": 0,
              "ticks": ""
             }
            },
            "type": "scattermapbox"
           }
          ],
          "scatterpolar": [
           {
            "marker": {
             "colorbar": {
              "outlinewidth": 0,
              "ticks": ""
             }
            },
            "type": "scatterpolar"
           }
          ],
          "scatterpolargl": [
           {
            "marker": {
             "colorbar": {
              "outlinewidth": 0,
              "ticks": ""
             }
            },
            "type": "scatterpolargl"
           }
          ],
          "scatterternary": [
           {
            "marker": {
             "colorbar": {
              "outlinewidth": 0,
              "ticks": ""
             }
            },
            "type": "scatterternary"
           }
          ],
          "surface": [
           {
            "colorbar": {
             "outlinewidth": 0,
             "ticks": ""
            },
            "colorscale": [
             [
              0,
              "#0d0887"
             ],
             [
              0.1111111111111111,
              "#46039f"
             ],
             [
              0.2222222222222222,
              "#7201a8"
             ],
             [
              0.3333333333333333,
              "#9c179e"
             ],
             [
              0.4444444444444444,
              "#bd3786"
             ],
             [
              0.5555555555555556,
              "#d8576b"
             ],
             [
              0.6666666666666666,
              "#ed7953"
             ],
             [
              0.7777777777777778,
              "#fb9f3a"
             ],
             [
              0.8888888888888888,
              "#fdca26"
             ],
             [
              1,
              "#f0f921"
             ]
            ],
            "type": "surface"
           }
          ],
          "table": [
           {
            "cells": {
             "fill": {
              "color": "#EBF0F8"
             },
             "line": {
              "color": "white"
             }
            },
            "header": {
             "fill": {
              "color": "#C8D4E3"
             },
             "line": {
              "color": "white"
             }
            },
            "type": "table"
           }
          ]
         },
         "layout": {
          "annotationdefaults": {
           "arrowcolor": "#2a3f5f",
           "arrowhead": 0,
           "arrowwidth": 1
          },
          "autotypenumbers": "strict",
          "coloraxis": {
           "colorbar": {
            "outlinewidth": 0,
            "ticks": ""
           }
          },
          "colorscale": {
           "diverging": [
            [
             0,
             "#8e0152"
            ],
            [
             0.1,
             "#c51b7d"
            ],
            [
             0.2,
             "#de77ae"
            ],
            [
             0.3,
             "#f1b6da"
            ],
            [
             0.4,
             "#fde0ef"
            ],
            [
             0.5,
             "#f7f7f7"
            ],
            [
             0.6,
             "#e6f5d0"
            ],
            [
             0.7,
             "#b8e186"
            ],
            [
             0.8,
             "#7fbc41"
            ],
            [
             0.9,
             "#4d9221"
            ],
            [
             1,
             "#276419"
            ]
           ],
           "sequential": [
            [
             0,
             "#0d0887"
            ],
            [
             0.1111111111111111,
             "#46039f"
            ],
            [
             0.2222222222222222,
             "#7201a8"
            ],
            [
             0.3333333333333333,
             "#9c179e"
            ],
            [
             0.4444444444444444,
             "#bd3786"
            ],
            [
             0.5555555555555556,
             "#d8576b"
            ],
            [
             0.6666666666666666,
             "#ed7953"
            ],
            [
             0.7777777777777778,
             "#fb9f3a"
            ],
            [
             0.8888888888888888,
             "#fdca26"
            ],
            [
             1,
             "#f0f921"
            ]
           ],
           "sequentialminus": [
            [
             0,
             "#0d0887"
            ],
            [
             0.1111111111111111,
             "#46039f"
            ],
            [
             0.2222222222222222,
             "#7201a8"
            ],
            [
             0.3333333333333333,
             "#9c179e"
            ],
            [
             0.4444444444444444,
             "#bd3786"
            ],
            [
             0.5555555555555556,
             "#d8576b"
            ],
            [
             0.6666666666666666,
             "#ed7953"
            ],
            [
             0.7777777777777778,
             "#fb9f3a"
            ],
            [
             0.8888888888888888,
             "#fdca26"
            ],
            [
             1,
             "#f0f921"
            ]
           ]
          },
          "colorway": [
           "#636efa",
           "#EF553B",
           "#00cc96",
           "#ab63fa",
           "#FFA15A",
           "#19d3f3",
           "#FF6692",
           "#B6E880",
           "#FF97FF",
           "#FECB52"
          ],
          "font": {
           "color": "#2a3f5f"
          },
          "geo": {
           "bgcolor": "white",
           "lakecolor": "white",
           "landcolor": "#E5ECF6",
           "showlakes": true,
           "showland": true,
           "subunitcolor": "white"
          },
          "hoverlabel": {
           "align": "left"
          },
          "hovermode": "closest",
          "mapbox": {
           "style": "light"
          },
          "paper_bgcolor": "white",
          "plot_bgcolor": "#E5ECF6",
          "polar": {
           "angularaxis": {
            "gridcolor": "white",
            "linecolor": "white",
            "ticks": ""
           },
           "bgcolor": "#E5ECF6",
           "radialaxis": {
            "gridcolor": "white",
            "linecolor": "white",
            "ticks": ""
           }
          },
          "scene": {
           "xaxis": {
            "backgroundcolor": "#E5ECF6",
            "gridcolor": "white",
            "gridwidth": 2,
            "linecolor": "white",
            "showbackground": true,
            "ticks": "",
            "zerolinecolor": "white"
           },
           "yaxis": {
            "backgroundcolor": "#E5ECF6",
            "gridcolor": "white",
            "gridwidth": 2,
            "linecolor": "white",
            "showbackground": true,
            "ticks": "",
            "zerolinecolor": "white"
           },
           "zaxis": {
            "backgroundcolor": "#E5ECF6",
            "gridcolor": "white",
            "gridwidth": 2,
            "linecolor": "white",
            "showbackground": true,
            "ticks": "",
            "zerolinecolor": "white"
           }
          },
          "shapedefaults": {
           "line": {
            "color": "#2a3f5f"
           }
          },
          "ternary": {
           "aaxis": {
            "gridcolor": "white",
            "linecolor": "white",
            "ticks": ""
           },
           "baxis": {
            "gridcolor": "white",
            "linecolor": "white",
            "ticks": ""
           },
           "bgcolor": "#E5ECF6",
           "caxis": {
            "gridcolor": "white",
            "linecolor": "white",
            "ticks": ""
           }
          },
          "title": {
           "x": 0.05
          },
          "xaxis": {
           "automargin": true,
           "gridcolor": "white",
           "linecolor": "white",
           "ticks": "",
           "title": {
            "standoff": 15
           },
           "zerolinecolor": "white",
           "zerolinewidth": 2
          },
          "yaxis": {
           "automargin": true,
           "gridcolor": "white",
           "linecolor": "white",
           "ticks": "",
           "title": {
            "standoff": 15
           },
           "zerolinecolor": "white",
           "zerolinewidth": 2
          }
         }
        },
        "xaxis": {
         "anchor": "y",
         "domain": [
          0,
          1
         ],
         "title": {
          "text": "datetime"
         }
        },
        "yaxis": {
         "anchor": "x",
         "domain": [
          0,
          1
         ],
         "title": {
          "text": "value"
         }
        }
       }
      }
     },
     "metadata": {},
     "output_type": "display_data"
    }
   ],
   "source": [
    "px.bar(\n",
    "    rebalance_df.resample(\"1d\").sum()[[\"swap_cost_in_bps_of_NAV_from_idle\", \"swap_cost_in_bps_of_NAV_not_from_idle\"]]\n",
    ")"
   ]
  },
  {
   "cell_type": "code",
   "execution_count": 22,
   "metadata": {},
   "outputs": [
    {
     "data": {
      "application/vnd.plotly.v1+json": {
       "config": {
        "plotlyServerURL": "https://plot.ly"
       },
       "data": [
        {
         "alignmentgroup": "True",
         "hovertemplate": "variable=spot_swap_cost<br>datetime=%{x}<br>value=%{y}<extra></extra>",
         "legendgroup": "spot_swap_cost",
         "marker": {
          "color": "#636efa",
          "pattern": {
           "shape": ""
          }
         },
         "name": "spot_swap_cost",
         "offsetgroup": "spot_swap_cost",
         "orientation": "v",
         "showlegend": true,
         "textposition": "auto",
         "type": "bar",
         "x": [
          "2025-05-31T00:00:00+00:00",
          "2025-06-01T00:00:00+00:00",
          "2025-06-02T00:00:00+00:00",
          "2025-06-03T00:00:00+00:00",
          "2025-06-04T00:00:00+00:00",
          "2025-06-05T00:00:00+00:00"
         ],
         "xaxis": "x",
         "y": [
          null,
          null,
          null,
          null,
          null,
          null
         ],
         "yaxis": "y"
        }
       ],
       "layout": {
        "barmode": "relative",
        "legend": {
         "title": {
          "text": "variable"
         },
         "tracegroupgap": 0
        },
        "margin": {
         "t": 60
        },
        "template": {
         "data": {
          "bar": [
           {
            "error_x": {
             "color": "#2a3f5f"
            },
            "error_y": {
             "color": "#2a3f5f"
            },
            "marker": {
             "line": {
              "color": "#E5ECF6",
              "width": 0.5
             },
             "pattern": {
              "fillmode": "overlay",
              "size": 10,
              "solidity": 0.2
             }
            },
            "type": "bar"
           }
          ],
          "barpolar": [
           {
            "marker": {
             "line": {
              "color": "#E5ECF6",
              "width": 0.5
             },
             "pattern": {
              "fillmode": "overlay",
              "size": 10,
              "solidity": 0.2
             }
            },
            "type": "barpolar"
           }
          ],
          "carpet": [
           {
            "aaxis": {
             "endlinecolor": "#2a3f5f",
             "gridcolor": "white",
             "linecolor": "white",
             "minorgridcolor": "white",
             "startlinecolor": "#2a3f5f"
            },
            "baxis": {
             "endlinecolor": "#2a3f5f",
             "gridcolor": "white",
             "linecolor": "white",
             "minorgridcolor": "white",
             "startlinecolor": "#2a3f5f"
            },
            "type": "carpet"
           }
          ],
          "choropleth": [
           {
            "colorbar": {
             "outlinewidth": 0,
             "ticks": ""
            },
            "type": "choropleth"
           }
          ],
          "contour": [
           {
            "colorbar": {
             "outlinewidth": 0,
             "ticks": ""
            },
            "colorscale": [
             [
              0,
              "#0d0887"
             ],
             [
              0.1111111111111111,
              "#46039f"
             ],
             [
              0.2222222222222222,
              "#7201a8"
             ],
             [
              0.3333333333333333,
              "#9c179e"
             ],
             [
              0.4444444444444444,
              "#bd3786"
             ],
             [
              0.5555555555555556,
              "#d8576b"
             ],
             [
              0.6666666666666666,
              "#ed7953"
             ],
             [
              0.7777777777777778,
              "#fb9f3a"
             ],
             [
              0.8888888888888888,
              "#fdca26"
             ],
             [
              1,
              "#f0f921"
             ]
            ],
            "type": "contour"
           }
          ],
          "contourcarpet": [
           {
            "colorbar": {
             "outlinewidth": 0,
             "ticks": ""
            },
            "type": "contourcarpet"
           }
          ],
          "heatmap": [
           {
            "colorbar": {
             "outlinewidth": 0,
             "ticks": ""
            },
            "colorscale": [
             [
              0,
              "#0d0887"
             ],
             [
              0.1111111111111111,
              "#46039f"
             ],
             [
              0.2222222222222222,
              "#7201a8"
             ],
             [
              0.3333333333333333,
              "#9c179e"
             ],
             [
              0.4444444444444444,
              "#bd3786"
             ],
             [
              0.5555555555555556,
              "#d8576b"
             ],
             [
              0.6666666666666666,
              "#ed7953"
             ],
             [
              0.7777777777777778,
              "#fb9f3a"
             ],
             [
              0.8888888888888888,
              "#fdca26"
             ],
             [
              1,
              "#f0f921"
             ]
            ],
            "type": "heatmap"
           }
          ],
          "heatmapgl": [
           {
            "colorbar": {
             "outlinewidth": 0,
             "ticks": ""
            },
            "colorscale": [
             [
              0,
              "#0d0887"
             ],
             [
              0.1111111111111111,
              "#46039f"
             ],
             [
              0.2222222222222222,
              "#7201a8"
             ],
             [
              0.3333333333333333,
              "#9c179e"
             ],
             [
              0.4444444444444444,
              "#bd3786"
             ],
             [
              0.5555555555555556,
              "#d8576b"
             ],
             [
              0.6666666666666666,
              "#ed7953"
             ],
             [
              0.7777777777777778,
              "#fb9f3a"
             ],
             [
              0.8888888888888888,
              "#fdca26"
             ],
             [
              1,
              "#f0f921"
             ]
            ],
            "type": "heatmapgl"
           }
          ],
          "histogram": [
           {
            "marker": {
             "pattern": {
              "fillmode": "overlay",
              "size": 10,
              "solidity": 0.2
             }
            },
            "type": "histogram"
           }
          ],
          "histogram2d": [
           {
            "colorbar": {
             "outlinewidth": 0,
             "ticks": ""
            },
            "colorscale": [
             [
              0,
              "#0d0887"
             ],
             [
              0.1111111111111111,
              "#46039f"
             ],
             [
              0.2222222222222222,
              "#7201a8"
             ],
             [
              0.3333333333333333,
              "#9c179e"
             ],
             [
              0.4444444444444444,
              "#bd3786"
             ],
             [
              0.5555555555555556,
              "#d8576b"
             ],
             [
              0.6666666666666666,
              "#ed7953"
             ],
             [
              0.7777777777777778,
              "#fb9f3a"
             ],
             [
              0.8888888888888888,
              "#fdca26"
             ],
             [
              1,
              "#f0f921"
             ]
            ],
            "type": "histogram2d"
           }
          ],
          "histogram2dcontour": [
           {
            "colorbar": {
             "outlinewidth": 0,
             "ticks": ""
            },
            "colorscale": [
             [
              0,
              "#0d0887"
             ],
             [
              0.1111111111111111,
              "#46039f"
             ],
             [
              0.2222222222222222,
              "#7201a8"
             ],
             [
              0.3333333333333333,
              "#9c179e"
             ],
             [
              0.4444444444444444,
              "#bd3786"
             ],
             [
              0.5555555555555556,
              "#d8576b"
             ],
             [
              0.6666666666666666,
              "#ed7953"
             ],
             [
              0.7777777777777778,
              "#fb9f3a"
             ],
             [
              0.8888888888888888,
              "#fdca26"
             ],
             [
              1,
              "#f0f921"
             ]
            ],
            "type": "histogram2dcontour"
           }
          ],
          "mesh3d": [
           {
            "colorbar": {
             "outlinewidth": 0,
             "ticks": ""
            },
            "type": "mesh3d"
           }
          ],
          "parcoords": [
           {
            "line": {
             "colorbar": {
              "outlinewidth": 0,
              "ticks": ""
             }
            },
            "type": "parcoords"
           }
          ],
          "pie": [
           {
            "automargin": true,
            "type": "pie"
           }
          ],
          "scatter": [
           {
            "fillpattern": {
             "fillmode": "overlay",
             "size": 10,
             "solidity": 0.2
            },
            "type": "scatter"
           }
          ],
          "scatter3d": [
           {
            "line": {
             "colorbar": {
              "outlinewidth": 0,
              "ticks": ""
             }
            },
            "marker": {
             "colorbar": {
              "outlinewidth": 0,
              "ticks": ""
             }
            },
            "type": "scatter3d"
           }
          ],
          "scattercarpet": [
           {
            "marker": {
             "colorbar": {
              "outlinewidth": 0,
              "ticks": ""
             }
            },
            "type": "scattercarpet"
           }
          ],
          "scattergeo": [
           {
            "marker": {
             "colorbar": {
              "outlinewidth": 0,
              "ticks": ""
             }
            },
            "type": "scattergeo"
           }
          ],
          "scattergl": [
           {
            "marker": {
             "colorbar": {
              "outlinewidth": 0,
              "ticks": ""
             }
            },
            "type": "scattergl"
           }
          ],
          "scattermapbox": [
           {
            "marker": {
             "colorbar": {
              "outlinewidth": 0,
              "ticks": ""
             }
            },
            "type": "scattermapbox"
           }
          ],
          "scatterpolar": [
           {
            "marker": {
             "colorbar": {
              "outlinewidth": 0,
              "ticks": ""
             }
            },
            "type": "scatterpolar"
           }
          ],
          "scatterpolargl": [
           {
            "marker": {
             "colorbar": {
              "outlinewidth": 0,
              "ticks": ""
             }
            },
            "type": "scatterpolargl"
           }
          ],
          "scatterternary": [
           {
            "marker": {
             "colorbar": {
              "outlinewidth": 0,
              "ticks": ""
             }
            },
            "type": "scatterternary"
           }
          ],
          "surface": [
           {
            "colorbar": {
             "outlinewidth": 0,
             "ticks": ""
            },
            "colorscale": [
             [
              0,
              "#0d0887"
             ],
             [
              0.1111111111111111,
              "#46039f"
             ],
             [
              0.2222222222222222,
              "#7201a8"
             ],
             [
              0.3333333333333333,
              "#9c179e"
             ],
             [
              0.4444444444444444,
              "#bd3786"
             ],
             [
              0.5555555555555556,
              "#d8576b"
             ],
             [
              0.6666666666666666,
              "#ed7953"
             ],
             [
              0.7777777777777778,
              "#fb9f3a"
             ],
             [
              0.8888888888888888,
              "#fdca26"
             ],
             [
              1,
              "#f0f921"
             ]
            ],
            "type": "surface"
           }
          ],
          "table": [
           {
            "cells": {
             "fill": {
              "color": "#EBF0F8"
             },
             "line": {
              "color": "white"
             }
            },
            "header": {
             "fill": {
              "color": "#C8D4E3"
             },
             "line": {
              "color": "white"
             }
            },
            "type": "table"
           }
          ]
         },
         "layout": {
          "annotationdefaults": {
           "arrowcolor": "#2a3f5f",
           "arrowhead": 0,
           "arrowwidth": 1
          },
          "autotypenumbers": "strict",
          "coloraxis": {
           "colorbar": {
            "outlinewidth": 0,
            "ticks": ""
           }
          },
          "colorscale": {
           "diverging": [
            [
             0,
             "#8e0152"
            ],
            [
             0.1,
             "#c51b7d"
            ],
            [
             0.2,
             "#de77ae"
            ],
            [
             0.3,
             "#f1b6da"
            ],
            [
             0.4,
             "#fde0ef"
            ],
            [
             0.5,
             "#f7f7f7"
            ],
            [
             0.6,
             "#e6f5d0"
            ],
            [
             0.7,
             "#b8e186"
            ],
            [
             0.8,
             "#7fbc41"
            ],
            [
             0.9,
             "#4d9221"
            ],
            [
             1,
             "#276419"
            ]
           ],
           "sequential": [
            [
             0,
             "#0d0887"
            ],
            [
             0.1111111111111111,
             "#46039f"
            ],
            [
             0.2222222222222222,
             "#7201a8"
            ],
            [
             0.3333333333333333,
             "#9c179e"
            ],
            [
             0.4444444444444444,
             "#bd3786"
            ],
            [
             0.5555555555555556,
             "#d8576b"
            ],
            [
             0.6666666666666666,
             "#ed7953"
            ],
            [
             0.7777777777777778,
             "#fb9f3a"
            ],
            [
             0.8888888888888888,
             "#fdca26"
            ],
            [
             1,
             "#f0f921"
            ]
           ],
           "sequentialminus": [
            [
             0,
             "#0d0887"
            ],
            [
             0.1111111111111111,
             "#46039f"
            ],
            [
             0.2222222222222222,
             "#7201a8"
            ],
            [
             0.3333333333333333,
             "#9c179e"
            ],
            [
             0.4444444444444444,
             "#bd3786"
            ],
            [
             0.5555555555555556,
             "#d8576b"
            ],
            [
             0.6666666666666666,
             "#ed7953"
            ],
            [
             0.7777777777777778,
             "#fb9f3a"
            ],
            [
             0.8888888888888888,
             "#fdca26"
            ],
            [
             1,
             "#f0f921"
            ]
           ]
          },
          "colorway": [
           "#636efa",
           "#EF553B",
           "#00cc96",
           "#ab63fa",
           "#FFA15A",
           "#19d3f3",
           "#FF6692",
           "#B6E880",
           "#FF97FF",
           "#FECB52"
          ],
          "font": {
           "color": "#2a3f5f"
          },
          "geo": {
           "bgcolor": "white",
           "lakecolor": "white",
           "landcolor": "#E5ECF6",
           "showlakes": true,
           "showland": true,
           "subunitcolor": "white"
          },
          "hoverlabel": {
           "align": "left"
          },
          "hovermode": "closest",
          "mapbox": {
           "style": "light"
          },
          "paper_bgcolor": "white",
          "plot_bgcolor": "#E5ECF6",
          "polar": {
           "angularaxis": {
            "gridcolor": "white",
            "linecolor": "white",
            "ticks": ""
           },
           "bgcolor": "#E5ECF6",
           "radialaxis": {
            "gridcolor": "white",
            "linecolor": "white",
            "ticks": ""
           }
          },
          "scene": {
           "xaxis": {
            "backgroundcolor": "#E5ECF6",
            "gridcolor": "white",
            "gridwidth": 2,
            "linecolor": "white",
            "showbackground": true,
            "ticks": "",
            "zerolinecolor": "white"
           },
           "yaxis": {
            "backgroundcolor": "#E5ECF6",
            "gridcolor": "white",
            "gridwidth": 2,
            "linecolor": "white",
            "showbackground": true,
            "ticks": "",
            "zerolinecolor": "white"
           },
           "zaxis": {
            "backgroundcolor": "#E5ECF6",
            "gridcolor": "white",
            "gridwidth": 2,
            "linecolor": "white",
            "showbackground": true,
            "ticks": "",
            "zerolinecolor": "white"
           }
          },
          "shapedefaults": {
           "line": {
            "color": "#2a3f5f"
           }
          },
          "ternary": {
           "aaxis": {
            "gridcolor": "white",
            "linecolor": "white",
            "ticks": ""
           },
           "baxis": {
            "gridcolor": "white",
            "linecolor": "white",
            "ticks": ""
           },
           "bgcolor": "#E5ECF6",
           "caxis": {
            "gridcolor": "white",
            "linecolor": "white",
            "ticks": ""
           }
          },
          "title": {
           "x": 0.05
          },
          "xaxis": {
           "automargin": true,
           "gridcolor": "white",
           "linecolor": "white",
           "ticks": "",
           "title": {
            "standoff": 15
           },
           "zerolinecolor": "white",
           "zerolinewidth": 2
          },
          "yaxis": {
           "automargin": true,
           "gridcolor": "white",
           "linecolor": "white",
           "ticks": "",
           "title": {
            "standoff": 15
           },
           "zerolinecolor": "white",
           "zerolinewidth": 2
          }
         }
        },
        "xaxis": {
         "anchor": "y",
         "domain": [
          0,
          1
         ],
         "title": {
          "text": "datetime"
         }
        },
        "yaxis": {
         "anchor": "x",
         "domain": [
          0,
          1
         ],
         "title": {
          "text": "value"
         }
        }
       }
      }
     },
     "metadata": {},
     "output_type": "display_data"
    }
   ],
   "source": [
    "px.bar(rebalance_df.resample(\"1d\").sum()[\"spot_swap_cost\"].rolling(28).sum())"
   ]
  },
  {
   "cell_type": "code",
   "execution_count": 23,
   "metadata": {},
   "outputs": [
    {
     "data": {
      "text/plain": [
       "1.0"
      ]
     },
     "execution_count": 23,
     "metadata": {},
     "output_type": "execute_result"
    }
   ],
   "source": [
    "10_000 * 2_000 / 20_000_000"
   ]
  },
  {
   "cell_type": "code",
   "execution_count": 24,
   "metadata": {},
   "outputs": [
    {
     "data": {
      "application/vnd.plotly.v1+json": {
       "config": {
        "plotlyServerURL": "https://plot.ly"
       },
       "data": [
        {
         "alignmentgroup": "True",
         "hovertemplate": "variable=spot_swap_cost<br>datetime=%{x}<br>value=%{y}<extra></extra>",
         "legendgroup": "spot_swap_cost",
         "marker": {
          "color": "#636efa",
          "pattern": {
           "shape": ""
          }
         },
         "name": "spot_swap_cost",
         "offsetgroup": "spot_swap_cost",
         "orientation": "v",
         "showlegend": true,
         "textposition": "auto",
         "type": "bar",
         "x": [
          "2025-05-31T00:00:00+00:00",
          "2025-06-01T00:00:00+00:00",
          "2025-06-02T00:00:00+00:00",
          "2025-06-03T00:00:00+00:00",
          "2025-06-04T00:00:00+00:00",
          "2025-06-05T00:00:00+00:00"
         ],
         "xaxis": "x",
         "y": [
          0.15607477253149682,
          0.1973960211372514,
          11.487143170361378,
          2067.2388386690145,
          43.458498668558605,
          19.48694439519022
         ],
         "yaxis": "y"
        }
       ],
       "layout": {
        "barmode": "relative",
        "legend": {
         "title": {
          "text": "variable"
         },
         "tracegroupgap": 0
        },
        "margin": {
         "t": 60
        },
        "template": {
         "data": {
          "bar": [
           {
            "error_x": {
             "color": "#2a3f5f"
            },
            "error_y": {
             "color": "#2a3f5f"
            },
            "marker": {
             "line": {
              "color": "#E5ECF6",
              "width": 0.5
             },
             "pattern": {
              "fillmode": "overlay",
              "size": 10,
              "solidity": 0.2
             }
            },
            "type": "bar"
           }
          ],
          "barpolar": [
           {
            "marker": {
             "line": {
              "color": "#E5ECF6",
              "width": 0.5
             },
             "pattern": {
              "fillmode": "overlay",
              "size": 10,
              "solidity": 0.2
             }
            },
            "type": "barpolar"
           }
          ],
          "carpet": [
           {
            "aaxis": {
             "endlinecolor": "#2a3f5f",
             "gridcolor": "white",
             "linecolor": "white",
             "minorgridcolor": "white",
             "startlinecolor": "#2a3f5f"
            },
            "baxis": {
             "endlinecolor": "#2a3f5f",
             "gridcolor": "white",
             "linecolor": "white",
             "minorgridcolor": "white",
             "startlinecolor": "#2a3f5f"
            },
            "type": "carpet"
           }
          ],
          "choropleth": [
           {
            "colorbar": {
             "outlinewidth": 0,
             "ticks": ""
            },
            "type": "choropleth"
           }
          ],
          "contour": [
           {
            "colorbar": {
             "outlinewidth": 0,
             "ticks": ""
            },
            "colorscale": [
             [
              0,
              "#0d0887"
             ],
             [
              0.1111111111111111,
              "#46039f"
             ],
             [
              0.2222222222222222,
              "#7201a8"
             ],
             [
              0.3333333333333333,
              "#9c179e"
             ],
             [
              0.4444444444444444,
              "#bd3786"
             ],
             [
              0.5555555555555556,
              "#d8576b"
             ],
             [
              0.6666666666666666,
              "#ed7953"
             ],
             [
              0.7777777777777778,
              "#fb9f3a"
             ],
             [
              0.8888888888888888,
              "#fdca26"
             ],
             [
              1,
              "#f0f921"
             ]
            ],
            "type": "contour"
           }
          ],
          "contourcarpet": [
           {
            "colorbar": {
             "outlinewidth": 0,
             "ticks": ""
            },
            "type": "contourcarpet"
           }
          ],
          "heatmap": [
           {
            "colorbar": {
             "outlinewidth": 0,
             "ticks": ""
            },
            "colorscale": [
             [
              0,
              "#0d0887"
             ],
             [
              0.1111111111111111,
              "#46039f"
             ],
             [
              0.2222222222222222,
              "#7201a8"
             ],
             [
              0.3333333333333333,
              "#9c179e"
             ],
             [
              0.4444444444444444,
              "#bd3786"
             ],
             [
              0.5555555555555556,
              "#d8576b"
             ],
             [
              0.6666666666666666,
              "#ed7953"
             ],
             [
              0.7777777777777778,
              "#fb9f3a"
             ],
             [
              0.8888888888888888,
              "#fdca26"
             ],
             [
              1,
              "#f0f921"
             ]
            ],
            "type": "heatmap"
           }
          ],
          "heatmapgl": [
           {
            "colorbar": {
             "outlinewidth": 0,
             "ticks": ""
            },
            "colorscale": [
             [
              0,
              "#0d0887"
             ],
             [
              0.1111111111111111,
              "#46039f"
             ],
             [
              0.2222222222222222,
              "#7201a8"
             ],
             [
              0.3333333333333333,
              "#9c179e"
             ],
             [
              0.4444444444444444,
              "#bd3786"
             ],
             [
              0.5555555555555556,
              "#d8576b"
             ],
             [
              0.6666666666666666,
              "#ed7953"
             ],
             [
              0.7777777777777778,
              "#fb9f3a"
             ],
             [
              0.8888888888888888,
              "#fdca26"
             ],
             [
              1,
              "#f0f921"
             ]
            ],
            "type": "heatmapgl"
           }
          ],
          "histogram": [
           {
            "marker": {
             "pattern": {
              "fillmode": "overlay",
              "size": 10,
              "solidity": 0.2
             }
            },
            "type": "histogram"
           }
          ],
          "histogram2d": [
           {
            "colorbar": {
             "outlinewidth": 0,
             "ticks": ""
            },
            "colorscale": [
             [
              0,
              "#0d0887"
             ],
             [
              0.1111111111111111,
              "#46039f"
             ],
             [
              0.2222222222222222,
              "#7201a8"
             ],
             [
              0.3333333333333333,
              "#9c179e"
             ],
             [
              0.4444444444444444,
              "#bd3786"
             ],
             [
              0.5555555555555556,
              "#d8576b"
             ],
             [
              0.6666666666666666,
              "#ed7953"
             ],
             [
              0.7777777777777778,
              "#fb9f3a"
             ],
             [
              0.8888888888888888,
              "#fdca26"
             ],
             [
              1,
              "#f0f921"
             ]
            ],
            "type": "histogram2d"
           }
          ],
          "histogram2dcontour": [
           {
            "colorbar": {
             "outlinewidth": 0,
             "ticks": ""
            },
            "colorscale": [
             [
              0,
              "#0d0887"
             ],
             [
              0.1111111111111111,
              "#46039f"
             ],
             [
              0.2222222222222222,
              "#7201a8"
             ],
             [
              0.3333333333333333,
              "#9c179e"
             ],
             [
              0.4444444444444444,
              "#bd3786"
             ],
             [
              0.5555555555555556,
              "#d8576b"
             ],
             [
              0.6666666666666666,
              "#ed7953"
             ],
             [
              0.7777777777777778,
              "#fb9f3a"
             ],
             [
              0.8888888888888888,
              "#fdca26"
             ],
             [
              1,
              "#f0f921"
             ]
            ],
            "type": "histogram2dcontour"
           }
          ],
          "mesh3d": [
           {
            "colorbar": {
             "outlinewidth": 0,
             "ticks": ""
            },
            "type": "mesh3d"
           }
          ],
          "parcoords": [
           {
            "line": {
             "colorbar": {
              "outlinewidth": 0,
              "ticks": ""
             }
            },
            "type": "parcoords"
           }
          ],
          "pie": [
           {
            "automargin": true,
            "type": "pie"
           }
          ],
          "scatter": [
           {
            "fillpattern": {
             "fillmode": "overlay",
             "size": 10,
             "solidity": 0.2
            },
            "type": "scatter"
           }
          ],
          "scatter3d": [
           {
            "line": {
             "colorbar": {
              "outlinewidth": 0,
              "ticks": ""
             }
            },
            "marker": {
             "colorbar": {
              "outlinewidth": 0,
              "ticks": ""
             }
            },
            "type": "scatter3d"
           }
          ],
          "scattercarpet": [
           {
            "marker": {
             "colorbar": {
              "outlinewidth": 0,
              "ticks": ""
             }
            },
            "type": "scattercarpet"
           }
          ],
          "scattergeo": [
           {
            "marker": {
             "colorbar": {
              "outlinewidth": 0,
              "ticks": ""
             }
            },
            "type": "scattergeo"
           }
          ],
          "scattergl": [
           {
            "marker": {
             "colorbar": {
              "outlinewidth": 0,
              "ticks": ""
             }
            },
            "type": "scattergl"
           }
          ],
          "scattermapbox": [
           {
            "marker": {
             "colorbar": {
              "outlinewidth": 0,
              "ticks": ""
             }
            },
            "type": "scattermapbox"
           }
          ],
          "scatterpolar": [
           {
            "marker": {
             "colorbar": {
              "outlinewidth": 0,
              "ticks": ""
             }
            },
            "type": "scatterpolar"
           }
          ],
          "scatterpolargl": [
           {
            "marker": {
             "colorbar": {
              "outlinewidth": 0,
              "ticks": ""
             }
            },
            "type": "scatterpolargl"
           }
          ],
          "scatterternary": [
           {
            "marker": {
             "colorbar": {
              "outlinewidth": 0,
              "ticks": ""
             }
            },
            "type": "scatterternary"
           }
          ],
          "surface": [
           {
            "colorbar": {
             "outlinewidth": 0,
             "ticks": ""
            },
            "colorscale": [
             [
              0,
              "#0d0887"
             ],
             [
              0.1111111111111111,
              "#46039f"
             ],
             [
              0.2222222222222222,
              "#7201a8"
             ],
             [
              0.3333333333333333,
              "#9c179e"
             ],
             [
              0.4444444444444444,
              "#bd3786"
             ],
             [
              0.5555555555555556,
              "#d8576b"
             ],
             [
              0.6666666666666666,
              "#ed7953"
             ],
             [
              0.7777777777777778,
              "#fb9f3a"
             ],
             [
              0.8888888888888888,
              "#fdca26"
             ],
             [
              1,
              "#f0f921"
             ]
            ],
            "type": "surface"
           }
          ],
          "table": [
           {
            "cells": {
             "fill": {
              "color": "#EBF0F8"
             },
             "line": {
              "color": "white"
             }
            },
            "header": {
             "fill": {
              "color": "#C8D4E3"
             },
             "line": {
              "color": "white"
             }
            },
            "type": "table"
           }
          ]
         },
         "layout": {
          "annotationdefaults": {
           "arrowcolor": "#2a3f5f",
           "arrowhead": 0,
           "arrowwidth": 1
          },
          "autotypenumbers": "strict",
          "coloraxis": {
           "colorbar": {
            "outlinewidth": 0,
            "ticks": ""
           }
          },
          "colorscale": {
           "diverging": [
            [
             0,
             "#8e0152"
            ],
            [
             0.1,
             "#c51b7d"
            ],
            [
             0.2,
             "#de77ae"
            ],
            [
             0.3,
             "#f1b6da"
            ],
            [
             0.4,
             "#fde0ef"
            ],
            [
             0.5,
             "#f7f7f7"
            ],
            [
             0.6,
             "#e6f5d0"
            ],
            [
             0.7,
             "#b8e186"
            ],
            [
             0.8,
             "#7fbc41"
            ],
            [
             0.9,
             "#4d9221"
            ],
            [
             1,
             "#276419"
            ]
           ],
           "sequential": [
            [
             0,
             "#0d0887"
            ],
            [
             0.1111111111111111,
             "#46039f"
            ],
            [
             0.2222222222222222,
             "#7201a8"
            ],
            [
             0.3333333333333333,
             "#9c179e"
            ],
            [
             0.4444444444444444,
             "#bd3786"
            ],
            [
             0.5555555555555556,
             "#d8576b"
            ],
            [
             0.6666666666666666,
             "#ed7953"
            ],
            [
             0.7777777777777778,
             "#fb9f3a"
            ],
            [
             0.8888888888888888,
             "#fdca26"
            ],
            [
             1,
             "#f0f921"
            ]
           ],
           "sequentialminus": [
            [
             0,
             "#0d0887"
            ],
            [
             0.1111111111111111,
             "#46039f"
            ],
            [
             0.2222222222222222,
             "#7201a8"
            ],
            [
             0.3333333333333333,
             "#9c179e"
            ],
            [
             0.4444444444444444,
             "#bd3786"
            ],
            [
             0.5555555555555556,
             "#d8576b"
            ],
            [
             0.6666666666666666,
             "#ed7953"
            ],
            [
             0.7777777777777778,
             "#fb9f3a"
            ],
            [
             0.8888888888888888,
             "#fdca26"
            ],
            [
             1,
             "#f0f921"
            ]
           ]
          },
          "colorway": [
           "#636efa",
           "#EF553B",
           "#00cc96",
           "#ab63fa",
           "#FFA15A",
           "#19d3f3",
           "#FF6692",
           "#B6E880",
           "#FF97FF",
           "#FECB52"
          ],
          "font": {
           "color": "#2a3f5f"
          },
          "geo": {
           "bgcolor": "white",
           "lakecolor": "white",
           "landcolor": "#E5ECF6",
           "showlakes": true,
           "showland": true,
           "subunitcolor": "white"
          },
          "hoverlabel": {
           "align": "left"
          },
          "hovermode": "closest",
          "mapbox": {
           "style": "light"
          },
          "paper_bgcolor": "white",
          "plot_bgcolor": "#E5ECF6",
          "polar": {
           "angularaxis": {
            "gridcolor": "white",
            "linecolor": "white",
            "ticks": ""
           },
           "bgcolor": "#E5ECF6",
           "radialaxis": {
            "gridcolor": "white",
            "linecolor": "white",
            "ticks": ""
           }
          },
          "scene": {
           "xaxis": {
            "backgroundcolor": "#E5ECF6",
            "gridcolor": "white",
            "gridwidth": 2,
            "linecolor": "white",
            "showbackground": true,
            "ticks": "",
            "zerolinecolor": "white"
           },
           "yaxis": {
            "backgroundcolor": "#E5ECF6",
            "gridcolor": "white",
            "gridwidth": 2,
            "linecolor": "white",
            "showbackground": true,
            "ticks": "",
            "zerolinecolor": "white"
           },
           "zaxis": {
            "backgroundcolor": "#E5ECF6",
            "gridcolor": "white",
            "gridwidth": 2,
            "linecolor": "white",
            "showbackground": true,
            "ticks": "",
            "zerolinecolor": "white"
           }
          },
          "shapedefaults": {
           "line": {
            "color": "#2a3f5f"
           }
          },
          "ternary": {
           "aaxis": {
            "gridcolor": "white",
            "linecolor": "white",
            "ticks": ""
           },
           "baxis": {
            "gridcolor": "white",
            "linecolor": "white",
            "ticks": ""
           },
           "bgcolor": "#E5ECF6",
           "caxis": {
            "gridcolor": "white",
            "linecolor": "white",
            "ticks": ""
           }
          },
          "title": {
           "x": 0.05
          },
          "xaxis": {
           "automargin": true,
           "gridcolor": "white",
           "linecolor": "white",
           "ticks": "",
           "title": {
            "standoff": 15
           },
           "zerolinecolor": "white",
           "zerolinewidth": 2
          },
          "yaxis": {
           "automargin": true,
           "gridcolor": "white",
           "linecolor": "white",
           "ticks": "",
           "title": {
            "standoff": 15
           },
           "zerolinecolor": "white",
           "zerolinewidth": 2
          }
         }
        },
        "xaxis": {
         "anchor": "y",
         "domain": [
          0,
          1
         ],
         "title": {
          "text": "datetime"
         }
        },
        "yaxis": {
         "anchor": "x",
         "domain": [
          0,
          1
         ],
         "title": {
          "text": "value"
         }
        }
       }
      }
     },
     "metadata": {},
     "output_type": "display_data"
    }
   ],
   "source": [
    "px.bar(rebalance_df.resample(\"1d\").sum()[\"spot_swap_cost\"])"
   ]
  },
  {
   "cell_type": "code",
   "execution_count": 25,
   "metadata": {},
   "outputs": [
    {
     "data": {
      "application/vnd.microsoft.datawrangler.viewer.v0+json": {
       "columns": [
        {
         "name": "move_name",
         "rawType": "object",
         "type": "string"
        },
        {
         "name": "count",
         "rawType": "int64",
         "type": "integer"
        }
       ],
       "ref": "edd43f69-5b34-4c45-9dac-2227c11d91a3",
       "rows": [
        [
         "autoDOLA -> reusdsdola",
         "16"
        ],
        [
         "autoDOLA -> savedola",
         "6"
        ],
        [
         "autoDOLA -> sDOLA",
         "4"
        ]
       ],
       "shape": {
        "columns": 1,
        "rows": 3
       }
      },
      "text/plain": [
       "move_name\n",
       "autoDOLA -> reusdsdola    16\n",
       "autoDOLA -> savedola       6\n",
       "autoDOLA -> sDOLA          4\n",
       "Name: count, dtype: int64"
      ]
     },
     "execution_count": 25,
     "metadata": {},
     "output_type": "execute_result"
    }
   ],
   "source": [
    "rebalance_df[\"move_name\"].value_counts()"
   ]
  },
  {
   "cell_type": "code",
   "execution_count": 26,
   "metadata": {},
   "outputs": [
    {
     "data": {
      "application/vnd.plotly.v1+json": {
       "config": {
        "plotlyServerURL": "https://plot.ly"
       },
       "data": [
        {
         "hovertemplate": "move_name=autoDOLA -> reusdsdola<br>safe_value_out=%{x}<br>all_time_safe_slippage=%{y}<extra></extra>",
         "legendgroup": "autoDOLA -> reusdsdola",
         "marker": {
          "color": "#636efa",
          "symbol": "circle"
         },
         "mode": "markers",
         "name": "autoDOLA -> reusdsdola",
         "orientation": "v",
         "showlegend": true,
         "type": "scatter",
         "x": [
          747414.6286471729
         ],
         "xaxis": "x",
         "y": [
          6.243450821322664
         ],
         "yaxis": "y"
        },
        {
         "hovertemplate": "move_name=autoDOLA -> sDOLA<br>safe_value_out=%{x}<br>all_time_safe_slippage=%{y}<extra></extra>",
         "legendgroup": "autoDOLA -> sDOLA",
         "marker": {
          "color": "#EF553B",
          "symbol": "circle"
         },
         "mode": "markers",
         "name": "autoDOLA -> sDOLA",
         "orientation": "v",
         "showlegend": true,
         "type": "scatter",
         "x": [
          1548749.4691519984
         ],
         "xaxis": "x",
         "y": [
          1.4999999999995803
         ],
         "yaxis": "y"
        },
        {
         "hovertemplate": "move_name=autoDOLA -> savedola<br>safe_value_out=%{x}<br>all_time_safe_slippage=%{y}<extra></extra>",
         "legendgroup": "autoDOLA -> savedola",
         "marker": {
          "color": "#00cc96",
          "symbol": "circle"
         },
         "mode": "markers",
         "name": "autoDOLA -> savedola",
         "orientation": "v",
         "showlegend": true,
         "type": "scatter",
         "x": [
          405000
         ],
         "xaxis": "x",
         "y": [
          2.4097814817658127
         ],
         "yaxis": "y"
        }
       ],
       "layout": {
        "legend": {
         "title": {
          "text": "move_name"
         },
         "tracegroupgap": 0
        },
        "margin": {
         "t": 60
        },
        "template": {
         "data": {
          "bar": [
           {
            "error_x": {
             "color": "#2a3f5f"
            },
            "error_y": {
             "color": "#2a3f5f"
            },
            "marker": {
             "line": {
              "color": "#E5ECF6",
              "width": 0.5
             },
             "pattern": {
              "fillmode": "overlay",
              "size": 10,
              "solidity": 0.2
             }
            },
            "type": "bar"
           }
          ],
          "barpolar": [
           {
            "marker": {
             "line": {
              "color": "#E5ECF6",
              "width": 0.5
             },
             "pattern": {
              "fillmode": "overlay",
              "size": 10,
              "solidity": 0.2
             }
            },
            "type": "barpolar"
           }
          ],
          "carpet": [
           {
            "aaxis": {
             "endlinecolor": "#2a3f5f",
             "gridcolor": "white",
             "linecolor": "white",
             "minorgridcolor": "white",
             "startlinecolor": "#2a3f5f"
            },
            "baxis": {
             "endlinecolor": "#2a3f5f",
             "gridcolor": "white",
             "linecolor": "white",
             "minorgridcolor": "white",
             "startlinecolor": "#2a3f5f"
            },
            "type": "carpet"
           }
          ],
          "choropleth": [
           {
            "colorbar": {
             "outlinewidth": 0,
             "ticks": ""
            },
            "type": "choropleth"
           }
          ],
          "contour": [
           {
            "colorbar": {
             "outlinewidth": 0,
             "ticks": ""
            },
            "colorscale": [
             [
              0,
              "#0d0887"
             ],
             [
              0.1111111111111111,
              "#46039f"
             ],
             [
              0.2222222222222222,
              "#7201a8"
             ],
             [
              0.3333333333333333,
              "#9c179e"
             ],
             [
              0.4444444444444444,
              "#bd3786"
             ],
             [
              0.5555555555555556,
              "#d8576b"
             ],
             [
              0.6666666666666666,
              "#ed7953"
             ],
             [
              0.7777777777777778,
              "#fb9f3a"
             ],
             [
              0.8888888888888888,
              "#fdca26"
             ],
             [
              1,
              "#f0f921"
             ]
            ],
            "type": "contour"
           }
          ],
          "contourcarpet": [
           {
            "colorbar": {
             "outlinewidth": 0,
             "ticks": ""
            },
            "type": "contourcarpet"
           }
          ],
          "heatmap": [
           {
            "colorbar": {
             "outlinewidth": 0,
             "ticks": ""
            },
            "colorscale": [
             [
              0,
              "#0d0887"
             ],
             [
              0.1111111111111111,
              "#46039f"
             ],
             [
              0.2222222222222222,
              "#7201a8"
             ],
             [
              0.3333333333333333,
              "#9c179e"
             ],
             [
              0.4444444444444444,
              "#bd3786"
             ],
             [
              0.5555555555555556,
              "#d8576b"
             ],
             [
              0.6666666666666666,
              "#ed7953"
             ],
             [
              0.7777777777777778,
              "#fb9f3a"
             ],
             [
              0.8888888888888888,
              "#fdca26"
             ],
             [
              1,
              "#f0f921"
             ]
            ],
            "type": "heatmap"
           }
          ],
          "heatmapgl": [
           {
            "colorbar": {
             "outlinewidth": 0,
             "ticks": ""
            },
            "colorscale": [
             [
              0,
              "#0d0887"
             ],
             [
              0.1111111111111111,
              "#46039f"
             ],
             [
              0.2222222222222222,
              "#7201a8"
             ],
             [
              0.3333333333333333,
              "#9c179e"
             ],
             [
              0.4444444444444444,
              "#bd3786"
             ],
             [
              0.5555555555555556,
              "#d8576b"
             ],
             [
              0.6666666666666666,
              "#ed7953"
             ],
             [
              0.7777777777777778,
              "#fb9f3a"
             ],
             [
              0.8888888888888888,
              "#fdca26"
             ],
             [
              1,
              "#f0f921"
             ]
            ],
            "type": "heatmapgl"
           }
          ],
          "histogram": [
           {
            "marker": {
             "pattern": {
              "fillmode": "overlay",
              "size": 10,
              "solidity": 0.2
             }
            },
            "type": "histogram"
           }
          ],
          "histogram2d": [
           {
            "colorbar": {
             "outlinewidth": 0,
             "ticks": ""
            },
            "colorscale": [
             [
              0,
              "#0d0887"
             ],
             [
              0.1111111111111111,
              "#46039f"
             ],
             [
              0.2222222222222222,
              "#7201a8"
             ],
             [
              0.3333333333333333,
              "#9c179e"
             ],
             [
              0.4444444444444444,
              "#bd3786"
             ],
             [
              0.5555555555555556,
              "#d8576b"
             ],
             [
              0.6666666666666666,
              "#ed7953"
             ],
             [
              0.7777777777777778,
              "#fb9f3a"
             ],
             [
              0.8888888888888888,
              "#fdca26"
             ],
             [
              1,
              "#f0f921"
             ]
            ],
            "type": "histogram2d"
           }
          ],
          "histogram2dcontour": [
           {
            "colorbar": {
             "outlinewidth": 0,
             "ticks": ""
            },
            "colorscale": [
             [
              0,
              "#0d0887"
             ],
             [
              0.1111111111111111,
              "#46039f"
             ],
             [
              0.2222222222222222,
              "#7201a8"
             ],
             [
              0.3333333333333333,
              "#9c179e"
             ],
             [
              0.4444444444444444,
              "#bd3786"
             ],
             [
              0.5555555555555556,
              "#d8576b"
             ],
             [
              0.6666666666666666,
              "#ed7953"
             ],
             [
              0.7777777777777778,
              "#fb9f3a"
             ],
             [
              0.8888888888888888,
              "#fdca26"
             ],
             [
              1,
              "#f0f921"
             ]
            ],
            "type": "histogram2dcontour"
           }
          ],
          "mesh3d": [
           {
            "colorbar": {
             "outlinewidth": 0,
             "ticks": ""
            },
            "type": "mesh3d"
           }
          ],
          "parcoords": [
           {
            "line": {
             "colorbar": {
              "outlinewidth": 0,
              "ticks": ""
             }
            },
            "type": "parcoords"
           }
          ],
          "pie": [
           {
            "automargin": true,
            "type": "pie"
           }
          ],
          "scatter": [
           {
            "fillpattern": {
             "fillmode": "overlay",
             "size": 10,
             "solidity": 0.2
            },
            "type": "scatter"
           }
          ],
          "scatter3d": [
           {
            "line": {
             "colorbar": {
              "outlinewidth": 0,
              "ticks": ""
             }
            },
            "marker": {
             "colorbar": {
              "outlinewidth": 0,
              "ticks": ""
             }
            },
            "type": "scatter3d"
           }
          ],
          "scattercarpet": [
           {
            "marker": {
             "colorbar": {
              "outlinewidth": 0,
              "ticks": ""
             }
            },
            "type": "scattercarpet"
           }
          ],
          "scattergeo": [
           {
            "marker": {
             "colorbar": {
              "outlinewidth": 0,
              "ticks": ""
             }
            },
            "type": "scattergeo"
           }
          ],
          "scattergl": [
           {
            "marker": {
             "colorbar": {
              "outlinewidth": 0,
              "ticks": ""
             }
            },
            "type": "scattergl"
           }
          ],
          "scattermapbox": [
           {
            "marker": {
             "colorbar": {
              "outlinewidth": 0,
              "ticks": ""
             }
            },
            "type": "scattermapbox"
           }
          ],
          "scatterpolar": [
           {
            "marker": {
             "colorbar": {
              "outlinewidth": 0,
              "ticks": ""
             }
            },
            "type": "scatterpolar"
           }
          ],
          "scatterpolargl": [
           {
            "marker": {
             "colorbar": {
              "outlinewidth": 0,
              "ticks": ""
             }
            },
            "type": "scatterpolargl"
           }
          ],
          "scatterternary": [
           {
            "marker": {
             "colorbar": {
              "outlinewidth": 0,
              "ticks": ""
             }
            },
            "type": "scatterternary"
           }
          ],
          "surface": [
           {
            "colorbar": {
             "outlinewidth": 0,
             "ticks": ""
            },
            "colorscale": [
             [
              0,
              "#0d0887"
             ],
             [
              0.1111111111111111,
              "#46039f"
             ],
             [
              0.2222222222222222,
              "#7201a8"
             ],
             [
              0.3333333333333333,
              "#9c179e"
             ],
             [
              0.4444444444444444,
              "#bd3786"
             ],
             [
              0.5555555555555556,
              "#d8576b"
             ],
             [
              0.6666666666666666,
              "#ed7953"
             ],
             [
              0.7777777777777778,
              "#fb9f3a"
             ],
             [
              0.8888888888888888,
              "#fdca26"
             ],
             [
              1,
              "#f0f921"
             ]
            ],
            "type": "surface"
           }
          ],
          "table": [
           {
            "cells": {
             "fill": {
              "color": "#EBF0F8"
             },
             "line": {
              "color": "white"
             }
            },
            "header": {
             "fill": {
              "color": "#C8D4E3"
             },
             "line": {
              "color": "white"
             }
            },
            "type": "table"
           }
          ]
         },
         "layout": {
          "annotationdefaults": {
           "arrowcolor": "#2a3f5f",
           "arrowhead": 0,
           "arrowwidth": 1
          },
          "autotypenumbers": "strict",
          "coloraxis": {
           "colorbar": {
            "outlinewidth": 0,
            "ticks": ""
           }
          },
          "colorscale": {
           "diverging": [
            [
             0,
             "#8e0152"
            ],
            [
             0.1,
             "#c51b7d"
            ],
            [
             0.2,
             "#de77ae"
            ],
            [
             0.3,
             "#f1b6da"
            ],
            [
             0.4,
             "#fde0ef"
            ],
            [
             0.5,
             "#f7f7f7"
            ],
            [
             0.6,
             "#e6f5d0"
            ],
            [
             0.7,
             "#b8e186"
            ],
            [
             0.8,
             "#7fbc41"
            ],
            [
             0.9,
             "#4d9221"
            ],
            [
             1,
             "#276419"
            ]
           ],
           "sequential": [
            [
             0,
             "#0d0887"
            ],
            [
             0.1111111111111111,
             "#46039f"
            ],
            [
             0.2222222222222222,
             "#7201a8"
            ],
            [
             0.3333333333333333,
             "#9c179e"
            ],
            [
             0.4444444444444444,
             "#bd3786"
            ],
            [
             0.5555555555555556,
             "#d8576b"
            ],
            [
             0.6666666666666666,
             "#ed7953"
            ],
            [
             0.7777777777777778,
             "#fb9f3a"
            ],
            [
             0.8888888888888888,
             "#fdca26"
            ],
            [
             1,
             "#f0f921"
            ]
           ],
           "sequentialminus": [
            [
             0,
             "#0d0887"
            ],
            [
             0.1111111111111111,
             "#46039f"
            ],
            [
             0.2222222222222222,
             "#7201a8"
            ],
            [
             0.3333333333333333,
             "#9c179e"
            ],
            [
             0.4444444444444444,
             "#bd3786"
            ],
            [
             0.5555555555555556,
             "#d8576b"
            ],
            [
             0.6666666666666666,
             "#ed7953"
            ],
            [
             0.7777777777777778,
             "#fb9f3a"
            ],
            [
             0.8888888888888888,
             "#fdca26"
            ],
            [
             1,
             "#f0f921"
            ]
           ]
          },
          "colorway": [
           "#636efa",
           "#EF553B",
           "#00cc96",
           "#ab63fa",
           "#FFA15A",
           "#19d3f3",
           "#FF6692",
           "#B6E880",
           "#FF97FF",
           "#FECB52"
          ],
          "font": {
           "color": "#2a3f5f"
          },
          "geo": {
           "bgcolor": "white",
           "lakecolor": "white",
           "landcolor": "#E5ECF6",
           "showlakes": true,
           "showland": true,
           "subunitcolor": "white"
          },
          "hoverlabel": {
           "align": "left"
          },
          "hovermode": "closest",
          "mapbox": {
           "style": "light"
          },
          "paper_bgcolor": "white",
          "plot_bgcolor": "#E5ECF6",
          "polar": {
           "angularaxis": {
            "gridcolor": "white",
            "linecolor": "white",
            "ticks": ""
           },
           "bgcolor": "#E5ECF6",
           "radialaxis": {
            "gridcolor": "white",
            "linecolor": "white",
            "ticks": ""
           }
          },
          "scene": {
           "xaxis": {
            "backgroundcolor": "#E5ECF6",
            "gridcolor": "white",
            "gridwidth": 2,
            "linecolor": "white",
            "showbackground": true,
            "ticks": "",
            "zerolinecolor": "white"
           },
           "yaxis": {
            "backgroundcolor": "#E5ECF6",
            "gridcolor": "white",
            "gridwidth": 2,
            "linecolor": "white",
            "showbackground": true,
            "ticks": "",
            "zerolinecolor": "white"
           },
           "zaxis": {
            "backgroundcolor": "#E5ECF6",
            "gridcolor": "white",
            "gridwidth": 2,
            "linecolor": "white",
            "showbackground": true,
            "ticks": "",
            "zerolinecolor": "white"
           }
          },
          "shapedefaults": {
           "line": {
            "color": "#2a3f5f"
           }
          },
          "ternary": {
           "aaxis": {
            "gridcolor": "white",
            "linecolor": "white",
            "ticks": ""
           },
           "baxis": {
            "gridcolor": "white",
            "linecolor": "white",
            "ticks": ""
           },
           "bgcolor": "#E5ECF6",
           "caxis": {
            "gridcolor": "white",
            "linecolor": "white",
            "ticks": ""
           }
          },
          "title": {
           "x": 0.05
          },
          "xaxis": {
           "automargin": true,
           "gridcolor": "white",
           "linecolor": "white",
           "ticks": "",
           "title": {
            "standoff": 15
           },
           "zerolinecolor": "white",
           "zerolinewidth": 2
          },
          "yaxis": {
           "automargin": true,
           "gridcolor": "white",
           "linecolor": "white",
           "ticks": "",
           "title": {
            "standoff": 15
           },
           "zerolinecolor": "white",
           "zerolinewidth": 2
          }
         }
        },
        "xaxis": {
         "anchor": "y",
         "domain": [
          0,
          1
         ],
         "title": {
          "text": "safe_value_out"
         }
        },
        "yaxis": {
         "anchor": "x",
         "domain": [
          0,
          1
         ],
         "title": {
          "text": "all_time_safe_slippage"
         }
        }
       }
      }
     },
     "metadata": {},
     "output_type": "display_data"
    }
   ],
   "source": [
    "# need date filtering\n",
    "by_move_name = rebalance_df.groupby(\"move_name\")[[\"safe_value_out\", \"safe_swap_cost\"]].sum()\n",
    "by_move_name[\"all_time_safe_slippage\"] = 10_000 * by_move_name[\"safe_swap_cost\"] / by_move_name[\"safe_value_out\"]\n",
    "\n",
    "px.bar(by_move_name[\"all_time_safe_slippage\"])\n",
    "\n",
    "px.scatter(by_move_name, x=\"safe_value_out\", y=\"all_time_safe_slippage\", color=by_move_name.index)"
   ]
  },
  {
   "cell_type": "code",
   "execution_count": 27,
   "metadata": {},
   "outputs": [
    {
     "data": {
      "application/vnd.plotly.v1+json": {
       "config": {
        "plotlyServerURL": "https://plot.ly"
       },
       "data": [
        {
         "hovertemplate": "move_name=autoDOLA -> reusdsdola<br>safe_value_out=%{x}<br>all_time_safe_slippage=%{y}<extra></extra>",
         "legendgroup": "autoDOLA -> reusdsdola",
         "marker": {
          "color": "#636efa",
          "symbol": "circle"
         },
         "mode": "markers",
         "name": "autoDOLA -> reusdsdola",
         "orientation": "v",
         "showlegend": true,
         "type": "scatter",
         "x": [
          747414.6286471729
         ],
         "xaxis": "x",
         "y": [
          6.243450821322664
         ],
         "yaxis": "y"
        },
        {
         "hovertemplate": "move_name=autoDOLA -> sDOLA<br>safe_value_out=%{x}<br>all_time_safe_slippage=%{y}<extra></extra>",
         "legendgroup": "autoDOLA -> sDOLA",
         "marker": {
          "color": "#EF553B",
          "symbol": "circle"
         },
         "mode": "markers",
         "name": "autoDOLA -> sDOLA",
         "orientation": "v",
         "showlegend": true,
         "type": "scatter",
         "x": [
          1548749.4691519984
         ],
         "xaxis": "x",
         "y": [
          1.4999999999995803
         ],
         "yaxis": "y"
        },
        {
         "hovertemplate": "move_name=autoDOLA -> savedola<br>safe_value_out=%{x}<br>all_time_safe_slippage=%{y}<extra></extra>",
         "legendgroup": "autoDOLA -> savedola",
         "marker": {
          "color": "#00cc96",
          "symbol": "circle"
         },
         "mode": "markers",
         "name": "autoDOLA -> savedola",
         "orientation": "v",
         "showlegend": true,
         "type": "scatter",
         "x": [
          405000
         ],
         "xaxis": "x",
         "y": [
          2.4097814817658127
         ],
         "yaxis": "y"
        }
       ],
       "layout": {
        "legend": {
         "title": {
          "text": "move_name"
         },
         "tracegroupgap": 0
        },
        "margin": {
         "t": 60
        },
        "template": {
         "data": {
          "bar": [
           {
            "error_x": {
             "color": "#2a3f5f"
            },
            "error_y": {
             "color": "#2a3f5f"
            },
            "marker": {
             "line": {
              "color": "#E5ECF6",
              "width": 0.5
             },
             "pattern": {
              "fillmode": "overlay",
              "size": 10,
              "solidity": 0.2
             }
            },
            "type": "bar"
           }
          ],
          "barpolar": [
           {
            "marker": {
             "line": {
              "color": "#E5ECF6",
              "width": 0.5
             },
             "pattern": {
              "fillmode": "overlay",
              "size": 10,
              "solidity": 0.2
             }
            },
            "type": "barpolar"
           }
          ],
          "carpet": [
           {
            "aaxis": {
             "endlinecolor": "#2a3f5f",
             "gridcolor": "white",
             "linecolor": "white",
             "minorgridcolor": "white",
             "startlinecolor": "#2a3f5f"
            },
            "baxis": {
             "endlinecolor": "#2a3f5f",
             "gridcolor": "white",
             "linecolor": "white",
             "minorgridcolor": "white",
             "startlinecolor": "#2a3f5f"
            },
            "type": "carpet"
           }
          ],
          "choropleth": [
           {
            "colorbar": {
             "outlinewidth": 0,
             "ticks": ""
            },
            "type": "choropleth"
           }
          ],
          "contour": [
           {
            "colorbar": {
             "outlinewidth": 0,
             "ticks": ""
            },
            "colorscale": [
             [
              0,
              "#0d0887"
             ],
             [
              0.1111111111111111,
              "#46039f"
             ],
             [
              0.2222222222222222,
              "#7201a8"
             ],
             [
              0.3333333333333333,
              "#9c179e"
             ],
             [
              0.4444444444444444,
              "#bd3786"
             ],
             [
              0.5555555555555556,
              "#d8576b"
             ],
             [
              0.6666666666666666,
              "#ed7953"
             ],
             [
              0.7777777777777778,
              "#fb9f3a"
             ],
             [
              0.8888888888888888,
              "#fdca26"
             ],
             [
              1,
              "#f0f921"
             ]
            ],
            "type": "contour"
           }
          ],
          "contourcarpet": [
           {
            "colorbar": {
             "outlinewidth": 0,
             "ticks": ""
            },
            "type": "contourcarpet"
           }
          ],
          "heatmap": [
           {
            "colorbar": {
             "outlinewidth": 0,
             "ticks": ""
            },
            "colorscale": [
             [
              0,
              "#0d0887"
             ],
             [
              0.1111111111111111,
              "#46039f"
             ],
             [
              0.2222222222222222,
              "#7201a8"
             ],
             [
              0.3333333333333333,
              "#9c179e"
             ],
             [
              0.4444444444444444,
              "#bd3786"
             ],
             [
              0.5555555555555556,
              "#d8576b"
             ],
             [
              0.6666666666666666,
              "#ed7953"
             ],
             [
              0.7777777777777778,
              "#fb9f3a"
             ],
             [
              0.8888888888888888,
              "#fdca26"
             ],
             [
              1,
              "#f0f921"
             ]
            ],
            "type": "heatmap"
           }
          ],
          "heatmapgl": [
           {
            "colorbar": {
             "outlinewidth": 0,
             "ticks": ""
            },
            "colorscale": [
             [
              0,
              "#0d0887"
             ],
             [
              0.1111111111111111,
              "#46039f"
             ],
             [
              0.2222222222222222,
              "#7201a8"
             ],
             [
              0.3333333333333333,
              "#9c179e"
             ],
             [
              0.4444444444444444,
              "#bd3786"
             ],
             [
              0.5555555555555556,
              "#d8576b"
             ],
             [
              0.6666666666666666,
              "#ed7953"
             ],
             [
              0.7777777777777778,
              "#fb9f3a"
             ],
             [
              0.8888888888888888,
              "#fdca26"
             ],
             [
              1,
              "#f0f921"
             ]
            ],
            "type": "heatmapgl"
           }
          ],
          "histogram": [
           {
            "marker": {
             "pattern": {
              "fillmode": "overlay",
              "size": 10,
              "solidity": 0.2
             }
            },
            "type": "histogram"
           }
          ],
          "histogram2d": [
           {
            "colorbar": {
             "outlinewidth": 0,
             "ticks": ""
            },
            "colorscale": [
             [
              0,
              "#0d0887"
             ],
             [
              0.1111111111111111,
              "#46039f"
             ],
             [
              0.2222222222222222,
              "#7201a8"
             ],
             [
              0.3333333333333333,
              "#9c179e"
             ],
             [
              0.4444444444444444,
              "#bd3786"
             ],
             [
              0.5555555555555556,
              "#d8576b"
             ],
             [
              0.6666666666666666,
              "#ed7953"
             ],
             [
              0.7777777777777778,
              "#fb9f3a"
             ],
             [
              0.8888888888888888,
              "#fdca26"
             ],
             [
              1,
              "#f0f921"
             ]
            ],
            "type": "histogram2d"
           }
          ],
          "histogram2dcontour": [
           {
            "colorbar": {
             "outlinewidth": 0,
             "ticks": ""
            },
            "colorscale": [
             [
              0,
              "#0d0887"
             ],
             [
              0.1111111111111111,
              "#46039f"
             ],
             [
              0.2222222222222222,
              "#7201a8"
             ],
             [
              0.3333333333333333,
              "#9c179e"
             ],
             [
              0.4444444444444444,
              "#bd3786"
             ],
             [
              0.5555555555555556,
              "#d8576b"
             ],
             [
              0.6666666666666666,
              "#ed7953"
             ],
             [
              0.7777777777777778,
              "#fb9f3a"
             ],
             [
              0.8888888888888888,
              "#fdca26"
             ],
             [
              1,
              "#f0f921"
             ]
            ],
            "type": "histogram2dcontour"
           }
          ],
          "mesh3d": [
           {
            "colorbar": {
             "outlinewidth": 0,
             "ticks": ""
            },
            "type": "mesh3d"
           }
          ],
          "parcoords": [
           {
            "line": {
             "colorbar": {
              "outlinewidth": 0,
              "ticks": ""
             }
            },
            "type": "parcoords"
           }
          ],
          "pie": [
           {
            "automargin": true,
            "type": "pie"
           }
          ],
          "scatter": [
           {
            "fillpattern": {
             "fillmode": "overlay",
             "size": 10,
             "solidity": 0.2
            },
            "type": "scatter"
           }
          ],
          "scatter3d": [
           {
            "line": {
             "colorbar": {
              "outlinewidth": 0,
              "ticks": ""
             }
            },
            "marker": {
             "colorbar": {
              "outlinewidth": 0,
              "ticks": ""
             }
            },
            "type": "scatter3d"
           }
          ],
          "scattercarpet": [
           {
            "marker": {
             "colorbar": {
              "outlinewidth": 0,
              "ticks": ""
             }
            },
            "type": "scattercarpet"
           }
          ],
          "scattergeo": [
           {
            "marker": {
             "colorbar": {
              "outlinewidth": 0,
              "ticks": ""
             }
            },
            "type": "scattergeo"
           }
          ],
          "scattergl": [
           {
            "marker": {
             "colorbar": {
              "outlinewidth": 0,
              "ticks": ""
             }
            },
            "type": "scattergl"
           }
          ],
          "scattermapbox": [
           {
            "marker": {
             "colorbar": {
              "outlinewidth": 0,
              "ticks": ""
             }
            },
            "type": "scattermapbox"
           }
          ],
          "scatterpolar": [
           {
            "marker": {
             "colorbar": {
              "outlinewidth": 0,
              "ticks": ""
             }
            },
            "type": "scatterpolar"
           }
          ],
          "scatterpolargl": [
           {
            "marker": {
             "colorbar": {
              "outlinewidth": 0,
              "ticks": ""
             }
            },
            "type": "scatterpolargl"
           }
          ],
          "scatterternary": [
           {
            "marker": {
             "colorbar": {
              "outlinewidth": 0,
              "ticks": ""
             }
            },
            "type": "scatterternary"
           }
          ],
          "surface": [
           {
            "colorbar": {
             "outlinewidth": 0,
             "ticks": ""
            },
            "colorscale": [
             [
              0,
              "#0d0887"
             ],
             [
              0.1111111111111111,
              "#46039f"
             ],
             [
              0.2222222222222222,
              "#7201a8"
             ],
             [
              0.3333333333333333,
              "#9c179e"
             ],
             [
              0.4444444444444444,
              "#bd3786"
             ],
             [
              0.5555555555555556,
              "#d8576b"
             ],
             [
              0.6666666666666666,
              "#ed7953"
             ],
             [
              0.7777777777777778,
              "#fb9f3a"
             ],
             [
              0.8888888888888888,
              "#fdca26"
             ],
             [
              1,
              "#f0f921"
             ]
            ],
            "type": "surface"
           }
          ],
          "table": [
           {
            "cells": {
             "fill": {
              "color": "#EBF0F8"
             },
             "line": {
              "color": "white"
             }
            },
            "header": {
             "fill": {
              "color": "#C8D4E3"
             },
             "line": {
              "color": "white"
             }
            },
            "type": "table"
           }
          ]
         },
         "layout": {
          "annotationdefaults": {
           "arrowcolor": "#2a3f5f",
           "arrowhead": 0,
           "arrowwidth": 1
          },
          "autotypenumbers": "strict",
          "coloraxis": {
           "colorbar": {
            "outlinewidth": 0,
            "ticks": ""
           }
          },
          "colorscale": {
           "diverging": [
            [
             0,
             "#8e0152"
            ],
            [
             0.1,
             "#c51b7d"
            ],
            [
             0.2,
             "#de77ae"
            ],
            [
             0.3,
             "#f1b6da"
            ],
            [
             0.4,
             "#fde0ef"
            ],
            [
             0.5,
             "#f7f7f7"
            ],
            [
             0.6,
             "#e6f5d0"
            ],
            [
             0.7,
             "#b8e186"
            ],
            [
             0.8,
             "#7fbc41"
            ],
            [
             0.9,
             "#4d9221"
            ],
            [
             1,
             "#276419"
            ]
           ],
           "sequential": [
            [
             0,
             "#0d0887"
            ],
            [
             0.1111111111111111,
             "#46039f"
            ],
            [
             0.2222222222222222,
             "#7201a8"
            ],
            [
             0.3333333333333333,
             "#9c179e"
            ],
            [
             0.4444444444444444,
             "#bd3786"
            ],
            [
             0.5555555555555556,
             "#d8576b"
            ],
            [
             0.6666666666666666,
             "#ed7953"
            ],
            [
             0.7777777777777778,
             "#fb9f3a"
            ],
            [
             0.8888888888888888,
             "#fdca26"
            ],
            [
             1,
             "#f0f921"
            ]
           ],
           "sequentialminus": [
            [
             0,
             "#0d0887"
            ],
            [
             0.1111111111111111,
             "#46039f"
            ],
            [
             0.2222222222222222,
             "#7201a8"
            ],
            [
             0.3333333333333333,
             "#9c179e"
            ],
            [
             0.4444444444444444,
             "#bd3786"
            ],
            [
             0.5555555555555556,
             "#d8576b"
            ],
            [
             0.6666666666666666,
             "#ed7953"
            ],
            [
             0.7777777777777778,
             "#fb9f3a"
            ],
            [
             0.8888888888888888,
             "#fdca26"
            ],
            [
             1,
             "#f0f921"
            ]
           ]
          },
          "colorway": [
           "#636efa",
           "#EF553B",
           "#00cc96",
           "#ab63fa",
           "#FFA15A",
           "#19d3f3",
           "#FF6692",
           "#B6E880",
           "#FF97FF",
           "#FECB52"
          ],
          "font": {
           "color": "#2a3f5f"
          },
          "geo": {
           "bgcolor": "white",
           "lakecolor": "white",
           "landcolor": "#E5ECF6",
           "showlakes": true,
           "showland": true,
           "subunitcolor": "white"
          },
          "hoverlabel": {
           "align": "left"
          },
          "hovermode": "closest",
          "mapbox": {
           "style": "light"
          },
          "paper_bgcolor": "white",
          "plot_bgcolor": "#E5ECF6",
          "polar": {
           "angularaxis": {
            "gridcolor": "white",
            "linecolor": "white",
            "ticks": ""
           },
           "bgcolor": "#E5ECF6",
           "radialaxis": {
            "gridcolor": "white",
            "linecolor": "white",
            "ticks": ""
           }
          },
          "scene": {
           "xaxis": {
            "backgroundcolor": "#E5ECF6",
            "gridcolor": "white",
            "gridwidth": 2,
            "linecolor": "white",
            "showbackground": true,
            "ticks": "",
            "zerolinecolor": "white"
           },
           "yaxis": {
            "backgroundcolor": "#E5ECF6",
            "gridcolor": "white",
            "gridwidth": 2,
            "linecolor": "white",
            "showbackground": true,
            "ticks": "",
            "zerolinecolor": "white"
           },
           "zaxis": {
            "backgroundcolor": "#E5ECF6",
            "gridcolor": "white",
            "gridwidth": 2,
            "linecolor": "white",
            "showbackground": true,
            "ticks": "",
            "zerolinecolor": "white"
           }
          },
          "shapedefaults": {
           "line": {
            "color": "#2a3f5f"
           }
          },
          "ternary": {
           "aaxis": {
            "gridcolor": "white",
            "linecolor": "white",
            "ticks": ""
           },
           "baxis": {
            "gridcolor": "white",
            "linecolor": "white",
            "ticks": ""
           },
           "bgcolor": "#E5ECF6",
           "caxis": {
            "gridcolor": "white",
            "linecolor": "white",
            "ticks": ""
           }
          },
          "title": {
           "x": 0.05
          },
          "xaxis": {
           "automargin": true,
           "gridcolor": "white",
           "linecolor": "white",
           "ticks": "",
           "title": {
            "standoff": 15
           },
           "zerolinecolor": "white",
           "zerolinewidth": 2
          },
          "yaxis": {
           "automargin": true,
           "gridcolor": "white",
           "linecolor": "white",
           "ticks": "",
           "title": {
            "standoff": 15
           },
           "zerolinecolor": "white",
           "zerolinewidth": 2
          }
         }
        },
        "xaxis": {
         "anchor": "y",
         "domain": [
          0,
          1
         ],
         "title": {
          "text": "safe_value_out"
         }
        },
        "yaxis": {
         "anchor": "x",
         "domain": [
          0,
          1
         ],
         "title": {
          "text": "all_time_safe_slippage"
         }
        }
       }
      }
     },
     "metadata": {},
     "output_type": "display_data"
    }
   ],
   "source": [
    "px.scatter(by_move_name, x=\"safe_value_out\", y=\"all_time_safe_slippage\", color=by_move_name.index)"
   ]
  },
  {
   "cell_type": "code",
   "execution_count": null,
   "metadata": {},
   "outputs": [],
   "source": []
  }
 ],
 "metadata": {
  "kernelspec": {
   "display_name": "mainnet-launch-FtycU18g-py3.10",
   "language": "python",
   "name": "python3"
  },
  "language_info": {
   "codemirror_mode": {
    "name": "ipython",
    "version": 3
   },
   "file_extension": ".py",
   "mimetype": "text/x-python",
   "name": "python",
   "nbconvert_exporter": "python",
   "pygments_lexer": "ipython3",
   "version": "3.10.14"
  }
 },
 "nbformat": 4,
 "nbformat_minor": 2
}
