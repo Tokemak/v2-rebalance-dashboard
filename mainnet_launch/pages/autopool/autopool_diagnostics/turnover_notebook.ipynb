{
 "cells": [
  {
   "cell_type": "code",
   "execution_count": null,
   "metadata": {},
   "outputs": [],
   "source": [
    "from datetime import datetime, timedelta, timezone\n",
    "\n",
    "import pandas as pd\n",
    "import streamlit as st\n",
    "\n",
    "from mainnet_launch.constants import AutopoolConstants, BASE_EUR\n",
    "\n",
    "\n",
    "from mainnet_launch.database.schema.full import RebalanceEvents, AutopoolStates\n",
    "from mainnet_launch.database.postgres_operations import (\n",
    "    get_full_table_as_df_with_block,\n",
    "    get_full_table_as_df_with_tx_hash,\n",
    ")\n",
    "\n",
    "rebalance_df = get_full_table_as_df_with_tx_hash(\n",
    "    RebalanceEvents, where_clause=RebalanceEvents.autopool_vault_address == BASE_EUR.autopool_eth_addr\n",
    ")\n",
    "state_df = get_full_table_as_df_with_block(\n",
    "    AutopoolStates, where_clause=AutopoolStates.autopool_vault_address == BASE_EUR.autopool_eth_addr\n",
    ")\n",
    "\n",
    "import pandas as pd\n",
    "import plotly.express as px\n",
    "\n",
    "\n",
    "def plot_turnover(resample_frequency: str, rebalance_df: pd.DataFrame, state_df: pd.DataFrame):\n",
    "    # Group both by the same frequency (e.g., \"W-MON\" for weeks starting Monday)\n",
    "    end_of_period_safe_value_out = rebalance_df.groupby(pd.Grouper(freq=resample_frequency))[\"safe_value_out\"].sum()\n",
    "    end_of_period_nav = state_df.groupby(pd.Grouper(freq=resample_frequency))[\"total_nav\"].mean()\n",
    "\n",
    "    # Align by index\n",
    "    df = pd.concat([end_of_period_safe_value_out, end_of_period_nav], axis=1).round(2)\n",
    "    df[\"turnover\"] = df[\"safe_value_out\"] / df[\"total_nav\"]\n",
    "\n",
    "    return df\n",
    "\n",
    "\n",
    "frequencies = [\"W-SUN\", \"ME\"]\n",
    "\n",
    "for freq in frequencies:\n",
    "    st.write(f\"## Resample Frequency: {freq}\")\n",
    "    df = plot_turnover(freq, rebalance_df, state_df)\n",
    "    fig = px.bar(df, x=df.index, y=\"turnover\", hover_data=[\"safe_value_out\", \"total_nav\"], title=\"Turnover Rate\")\n",
    "    fig.show()\n",
    "    px.bar(df, x=df.index, y=\"turnover\", hover_data=[\"safe_value_out\", \"total_nav\"], title=\"Turnover Rate\")"
   ]
  },
  {
   "cell_type": "code",
   "execution_count": 17,
   "metadata": {},
   "outputs": [
    {
     "data": {
      "application/vnd.microsoft.datawrangler.viewer.v0+json": {
       "columns": [
        {
         "name": "datetime",
         "rawType": "datetime64[ns, UTC]",
         "type": "unknown"
        },
        {
         "name": "total_nav",
         "rawType": "float64",
         "type": "float"
        }
       ],
       "ref": "c94ad398-9b9e-46de-9f2d-938b3bcd40d3",
       "rows": [
        [
         "2025-08-05 00:00:00+00:00",
         "1304469.872381"
        ],
        [
         "2025-08-12 00:00:00+00:00",
         "1612019.531736"
        ],
        [
         "2025-08-19 00:00:00+00:00",
         "1808985.149936"
        ],
        [
         "2025-08-26 00:00:00+00:00",
         "1903575.298576"
        ],
        [
         "2025-09-02 00:00:00+00:00",
         "1891866.256598"
        ],
        [
         "2025-09-09 00:00:00+00:00",
         "1794476.765596"
        ],
        [
         "2025-09-16 00:00:00+00:00",
         "2082861.834931"
        ]
       ],
       "shape": {
        "columns": 1,
        "rows": 7
       }
      },
      "text/plain": [
       "datetime\n",
       "2025-08-05 00:00:00+00:00    1.304470e+06\n",
       "2025-08-12 00:00:00+00:00    1.612020e+06\n",
       "2025-08-19 00:00:00+00:00    1.808985e+06\n",
       "2025-08-26 00:00:00+00:00    1.903575e+06\n",
       "2025-09-02 00:00:00+00:00    1.891866e+06\n",
       "2025-09-09 00:00:00+00:00    1.794477e+06\n",
       "2025-09-16 00:00:00+00:00    2.082862e+06\n",
       "Freq: 7D, Name: total_nav, dtype: float64"
      ]
     },
     "execution_count": 17,
     "metadata": {},
     "output_type": "execute_result"
    }
   ],
   "source": [
    "state_df.resample(\"7d\")[\"total_nav\"].last()"
   ]
  },
  {
   "cell_type": "code",
   "execution_count": 19,
   "metadata": {},
   "outputs": [
    {
     "data": {
      "application/vnd.microsoft.datawrangler.viewer.v0+json": {
       "columns": [
        {
         "name": "datetime",
         "rawType": "datetime64[ns, UTC]",
         "type": "unknown"
        },
        {
         "name": "safe_value_out",
         "rawType": "float64",
         "type": "float"
        }
       ],
       "ref": "27504dfc-4700-4104-a361-514fbeb0861e",
       "rows": [
        [
         "2025-08-06 00:00:00+00:00",
         "1974238.5904940001"
        ],
        [
         "2025-08-13 00:00:00+00:00",
         "2336136.264980416"
        ],
        [
         "2025-08-20 00:00:00+00:00",
         "2002607.1978996552"
        ],
        [
         "2025-08-27 00:00:00+00:00",
         "376234.6042165811"
        ],
        [
         "2025-09-03 00:00:00+00:00",
         "1842081.8151516384"
        ],
        [
         "2025-09-10 00:00:00+00:00",
         "258017.23149329418"
        ],
        [
         "2025-09-17 00:00:00+00:00",
         "289360.857997"
        ]
       ],
       "shape": {
        "columns": 1,
        "rows": 7
       }
      },
      "text/plain": [
       "datetime\n",
       "2025-08-06 00:00:00+00:00    1.974239e+06\n",
       "2025-08-13 00:00:00+00:00    2.336136e+06\n",
       "2025-08-20 00:00:00+00:00    2.002607e+06\n",
       "2025-08-27 00:00:00+00:00    3.762346e+05\n",
       "2025-09-03 00:00:00+00:00    1.842082e+06\n",
       "2025-09-10 00:00:00+00:00    2.580172e+05\n",
       "2025-09-17 00:00:00+00:00    2.893609e+05\n",
       "Freq: 7D, Name: safe_value_out, dtype: float64"
      ]
     },
     "execution_count": 19,
     "metadata": {},
     "output_type": "execute_result"
    }
   ],
   "source": [
    "rebalance_df.resample(\"7d\")[\"safe_value_out\"].sum()"
   ]
  },
  {
   "cell_type": "code",
   "execution_count": null,
   "metadata": {},
   "outputs": [
    {
     "name": "stderr",
     "output_type": "stream",
     "text": [
      "2025-09-18 12:20:42.335 Thread 'MainThread': missing ScriptRunContext! This warning can be ignored when running in bare mode.\n",
      "2025-09-18 12:20:42.336 Thread 'MainThread': missing ScriptRunContext! This warning can be ignored when running in bare mode.\n",
      "2025-09-18 12:20:42.336 Thread 'MainThread': missing ScriptRunContext! This warning can be ignored when running in bare mode.\n",
      "2025-09-18 12:20:42.337 Thread 'MainThread': missing ScriptRunContext! This warning can be ignored when running in bare mode.\n"
     ]
    },
    {
     "data": {
      "application/vnd.plotly.v1+json": {
       "config": {
        "plotlyServerURL": "https://plot.ly"
       },
       "data": [
        {
         "alignmentgroup": "True",
         "customdata": [
          [
           1815973.85,
           1053036.97
          ],
          [
           1607996.39,
           1424578.44
          ],
          [
           2768365.44,
           1669495.09
          ],
          [
           391367.07,
           1814656.16
          ],
          [
           1356486.27,
           1876162.21
          ],
          [
           830854.05,
           1796730.74
          ],
          [
           307633.49,
           1846011.66
          ]
         ],
         "hovertemplate": "datetime=%{x}<br>turnover=%{y}<br>safe_value_out=%{customdata[0]}<br>total_nav=%{customdata[1]}<extra></extra>",
         "legendgroup": "",
         "marker": {
          "color": "#000001",
          "pattern": {
           "shape": ""
          }
         },
         "name": "",
         "offsetgroup": "",
         "orientation": "v",
         "showlegend": false,
         "textposition": "auto",
         "type": "bar",
         "x": [
          "2025-08-10T00:00:00+00:00",
          "2025-08-17T00:00:00+00:00",
          "2025-08-24T00:00:00+00:00",
          "2025-08-31T00:00:00+00:00",
          "2025-09-07T00:00:00+00:00",
          "2025-09-14T00:00:00+00:00",
          "2025-09-21T00:00:00+00:00"
         ],
         "xaxis": "x",
         "y": [
          1.7245110112325877,
          1.1287524399147864,
          1.6582052002321253,
          0.21567009697308168,
          0.7230111888886196,
          0.46242546615526825,
          0.16664764186809092
         ],
         "yaxis": "y"
        }
       ],
       "layout": {
        "barmode": "relative",
        "legend": {
         "tracegroupgap": 0
        },
        "template": {
         "data": {
          "candlestick": [
           {
            "decreasing": {
             "line": {
              "color": "#000033"
             }
            },
            "increasing": {
             "line": {
              "color": "#000032"
             }
            },
            "type": "candlestick"
           }
          ],
          "contour": [
           {
            "colorscale": [
             [
              0,
              "#000011"
             ],
             [
              0.1111111111111111,
              "#000012"
             ],
             [
              0.2222222222222222,
              "#000013"
             ],
             [
              0.3333333333333333,
              "#000014"
             ],
             [
              0.4444444444444444,
              "#000015"
             ],
             [
              0.5555555555555556,
              "#000016"
             ],
             [
              0.6666666666666666,
              "#000017"
             ],
             [
              0.7777777777777778,
              "#000018"
             ],
             [
              0.8888888888888888,
              "#000019"
             ],
             [
              1,
              "#000020"
             ]
            ],
            "type": "contour"
           }
          ],
          "contourcarpet": [
           {
            "colorscale": [
             [
              0,
              "#000011"
             ],
             [
              0.1111111111111111,
              "#000012"
             ],
             [
              0.2222222222222222,
              "#000013"
             ],
             [
              0.3333333333333333,
              "#000014"
             ],
             [
              0.4444444444444444,
              "#000015"
             ],
             [
              0.5555555555555556,
              "#000016"
             ],
             [
              0.6666666666666666,
              "#000017"
             ],
             [
              0.7777777777777778,
              "#000018"
             ],
             [
              0.8888888888888888,
              "#000019"
             ],
             [
              1,
              "#000020"
             ]
            ],
            "type": "contourcarpet"
           }
          ],
          "heatmap": [
           {
            "colorscale": [
             [
              0,
              "#000011"
             ],
             [
              0.1111111111111111,
              "#000012"
             ],
             [
              0.2222222222222222,
              "#000013"
             ],
             [
              0.3333333333333333,
              "#000014"
             ],
             [
              0.4444444444444444,
              "#000015"
             ],
             [
              0.5555555555555556,
              "#000016"
             ],
             [
              0.6666666666666666,
              "#000017"
             ],
             [
              0.7777777777777778,
              "#000018"
             ],
             [
              0.8888888888888888,
              "#000019"
             ],
             [
              1,
              "#000020"
             ]
            ],
            "type": "heatmap"
           }
          ],
          "histogram2d": [
           {
            "colorscale": [
             [
              0,
              "#000011"
             ],
             [
              0.1111111111111111,
              "#000012"
             ],
             [
              0.2222222222222222,
              "#000013"
             ],
             [
              0.3333333333333333,
              "#000014"
             ],
             [
              0.4444444444444444,
              "#000015"
             ],
             [
              0.5555555555555556,
              "#000016"
             ],
             [
              0.6666666666666666,
              "#000017"
             ],
             [
              0.7777777777777778,
              "#000018"
             ],
             [
              0.8888888888888888,
              "#000019"
             ],
             [
              1,
              "#000020"
             ]
            ],
            "type": "histogram2d"
           }
          ],
          "icicle": [
           {
            "textfont": {
             "color": "white"
            },
            "type": "icicle"
           }
          ],
          "sankey": [
           {
            "textfont": {
             "color": "#000036"
            },
            "type": "sankey"
           }
          ],
          "scatter": [
           {
            "marker": {
             "line": {
              "width": 0
             }
            },
            "type": "scatter"
           }
          ],
          "table": [
           {
            "cells": {
             "fill": {
              "color": "#000038"
             },
             "font": {
              "color": "#000037"
             },
             "line": {
              "color": "#000039"
             }
            },
            "header": {
             "fill": {
              "color": "#000040"
             },
             "font": {
              "color": "#000036"
             },
             "line": {
              "color": "#000039"
             }
            },
            "type": "table"
           }
          ],
          "waterfall": [
           {
            "connector": {
             "line": {
              "color": "#000036",
              "width": 2
             }
            },
            "decreasing": {
             "marker": {
              "color": "#000033"
             }
            },
            "increasing": {
             "marker": {
              "color": "#000032"
             }
            },
            "totals": {
             "marker": {
              "color": "#000034"
             }
            },
            "type": "waterfall"
           }
          ]
         },
         "layout": {
          "coloraxis": {
           "colorscale": [
            [
             0,
             "#000011"
            ],
            [
             0.1111111111111111,
             "#000012"
            ],
            [
             0.2222222222222222,
             "#000013"
            ],
            [
             0.3333333333333333,
             "#000014"
            ],
            [
             0.4444444444444444,
             "#000015"
            ],
            [
             0.5555555555555556,
             "#000016"
            ],
            [
             0.6666666666666666,
             "#000017"
            ],
            [
             0.7777777777777778,
             "#000018"
            ],
            [
             0.8888888888888888,
             "#000019"
            ],
            [
             1,
             "#000020"
            ]
           ]
          },
          "colorscale": {
           "diverging": [
            [
             0,
             "#000021"
            ],
            [
             0.1,
             "#000022"
            ],
            [
             0.2,
             "#000023"
            ],
            [
             0.3,
             "#000024"
            ],
            [
             0.4,
             "#000025"
            ],
            [
             0.5,
             "#000026"
            ],
            [
             0.6,
             "#000027"
            ],
            [
             0.7,
             "#000028"
            ],
            [
             0.8,
             "#000029"
            ],
            [
             0.9,
             "#000030"
            ],
            [
             1,
             "#000031"
            ]
           ],
           "sequential": [
            [
             0,
             "#000011"
            ],
            [
             0.1111111111111111,
             "#000012"
            ],
            [
             0.2222222222222222,
             "#000013"
            ],
            [
             0.3333333333333333,
             "#000014"
            ],
            [
             0.4444444444444444,
             "#000015"
            ],
            [
             0.5555555555555556,
             "#000016"
            ],
            [
             0.6666666666666666,
             "#000017"
            ],
            [
             0.7777777777777778,
             "#000018"
            ],
            [
             0.8888888888888888,
             "#000019"
            ],
            [
             1,
             "#000020"
            ]
           ],
           "sequentialminus": [
            [
             0,
             "#000011"
            ],
            [
             0.1111111111111111,
             "#000012"
            ],
            [
             0.2222222222222222,
             "#000013"
            ],
            [
             0.3333333333333333,
             "#000014"
            ],
            [
             0.4444444444444444,
             "#000015"
            ],
            [
             0.5555555555555556,
             "#000016"
            ],
            [
             0.6666666666666666,
             "#000017"
            ],
            [
             0.7777777777777778,
             "#000018"
            ],
            [
             0.8888888888888888,
             "#000019"
            ],
            [
             1,
             "#000020"
            ]
           ]
          },
          "colorway": [
           "#000001",
           "#000002",
           "#000003",
           "#000004",
           "#000005",
           "#000006",
           "#000007",
           "#000008",
           "#000009",
           "#000010"
          ]
         }
        },
        "title": {
         "text": "Turnover Rate"
        },
        "xaxis": {
         "anchor": "y",
         "domain": [
          0,
          1
         ],
         "title": {
          "text": "datetime"
         }
        },
        "yaxis": {
         "anchor": "x",
         "domain": [
          0,
          1
         ],
         "title": {
          "text": "turnover"
         }
        }
       }
      }
     },
     "metadata": {},
     "output_type": "display_data"
    },
    {
     "name": "stderr",
     "output_type": "stream",
     "text": [
      "2025-09-18 12:20:42.371 Thread 'MainThread': missing ScriptRunContext! This warning can be ignored when running in bare mode.\n",
      "2025-09-18 12:20:42.372 Thread 'MainThread': missing ScriptRunContext! This warning can be ignored when running in bare mode.\n",
      "2025-09-18 12:20:42.372 Thread 'MainThread': missing ScriptRunContext! This warning can be ignored when running in bare mode.\n",
      "2025-09-18 12:20:42.372 Thread 'MainThread': missing ScriptRunContext! This warning can be ignored when running in bare mode.\n"
     ]
    },
    {
     "data": {
      "application/vnd.plotly.v1+json": {
       "config": {
        "plotlyServerURL": "https://plot.ly"
       },
       "data": [
        {
         "alignmentgroup": "True",
         "customdata": [
          [
           6583702.75,
           1509373.56
          ],
          [
           2494973.81,
           1840209.3
          ]
         ],
         "hovertemplate": "datetime=%{x}<br>turnover=%{y}<br>safe_value_out=%{customdata[0]}<br>total_nav=%{customdata[1]}<extra></extra>",
         "legendgroup": "",
         "marker": {
          "color": "#000001",
          "pattern": {
           "shape": ""
          }
         },
         "name": "",
         "offsetgroup": "",
         "orientation": "v",
         "showlegend": false,
         "textposition": "auto",
         "type": "bar",
         "x": [
          "2025-08-31T00:00:00+00:00",
          "2025-09-30T00:00:00+00:00"
         ],
         "xaxis": "x",
         "y": [
          4.3618776189507384,
          1.3558098038087298
         ],
         "yaxis": "y"
        }
       ],
       "layout": {
        "barmode": "relative",
        "legend": {
         "tracegroupgap": 0
        },
        "template": {
         "data": {
          "candlestick": [
           {
            "decreasing": {
             "line": {
              "color": "#000033"
             }
            },
            "increasing": {
             "line": {
              "color": "#000032"
             }
            },
            "type": "candlestick"
           }
          ],
          "contour": [
           {
            "colorscale": [
             [
              0,
              "#000011"
             ],
             [
              0.1111111111111111,
              "#000012"
             ],
             [
              0.2222222222222222,
              "#000013"
             ],
             [
              0.3333333333333333,
              "#000014"
             ],
             [
              0.4444444444444444,
              "#000015"
             ],
             [
              0.5555555555555556,
              "#000016"
             ],
             [
              0.6666666666666666,
              "#000017"
             ],
             [
              0.7777777777777778,
              "#000018"
             ],
             [
              0.8888888888888888,
              "#000019"
             ],
             [
              1,
              "#000020"
             ]
            ],
            "type": "contour"
           }
          ],
          "contourcarpet": [
           {
            "colorscale": [
             [
              0,
              "#000011"
             ],
             [
              0.1111111111111111,
              "#000012"
             ],
             [
              0.2222222222222222,
              "#000013"
             ],
             [
              0.3333333333333333,
              "#000014"
             ],
             [
              0.4444444444444444,
              "#000015"
             ],
             [
              0.5555555555555556,
              "#000016"
             ],
             [
              0.6666666666666666,
              "#000017"
             ],
             [
              0.7777777777777778,
              "#000018"
             ],
             [
              0.8888888888888888,
              "#000019"
             ],
             [
              1,
              "#000020"
             ]
            ],
            "type": "contourcarpet"
           }
          ],
          "heatmap": [
           {
            "colorscale": [
             [
              0,
              "#000011"
             ],
             [
              0.1111111111111111,
              "#000012"
             ],
             [
              0.2222222222222222,
              "#000013"
             ],
             [
              0.3333333333333333,
              "#000014"
             ],
             [
              0.4444444444444444,
              "#000015"
             ],
             [
              0.5555555555555556,
              "#000016"
             ],
             [
              0.6666666666666666,
              "#000017"
             ],
             [
              0.7777777777777778,
              "#000018"
             ],
             [
              0.8888888888888888,
              "#000019"
             ],
             [
              1,
              "#000020"
             ]
            ],
            "type": "heatmap"
           }
          ],
          "histogram2d": [
           {
            "colorscale": [
             [
              0,
              "#000011"
             ],
             [
              0.1111111111111111,
              "#000012"
             ],
             [
              0.2222222222222222,
              "#000013"
             ],
             [
              0.3333333333333333,
              "#000014"
             ],
             [
              0.4444444444444444,
              "#000015"
             ],
             [
              0.5555555555555556,
              "#000016"
             ],
             [
              0.6666666666666666,
              "#000017"
             ],
             [
              0.7777777777777778,
              "#000018"
             ],
             [
              0.8888888888888888,
              "#000019"
             ],
             [
              1,
              "#000020"
             ]
            ],
            "type": "histogram2d"
           }
          ],
          "icicle": [
           {
            "textfont": {
             "color": "white"
            },
            "type": "icicle"
           }
          ],
          "sankey": [
           {
            "textfont": {
             "color": "#000036"
            },
            "type": "sankey"
           }
          ],
          "scatter": [
           {
            "marker": {
             "line": {
              "width": 0
             }
            },
            "type": "scatter"
           }
          ],
          "table": [
           {
            "cells": {
             "fill": {
              "color": "#000038"
             },
             "font": {
              "color": "#000037"
             },
             "line": {
              "color": "#000039"
             }
            },
            "header": {
             "fill": {
              "color": "#000040"
             },
             "font": {
              "color": "#000036"
             },
             "line": {
              "color": "#000039"
             }
            },
            "type": "table"
           }
          ],
          "waterfall": [
           {
            "connector": {
             "line": {
              "color": "#000036",
              "width": 2
             }
            },
            "decreasing": {
             "marker": {
              "color": "#000033"
             }
            },
            "increasing": {
             "marker": {
              "color": "#000032"
             }
            },
            "totals": {
             "marker": {
              "color": "#000034"
             }
            },
            "type": "waterfall"
           }
          ]
         },
         "layout": {
          "coloraxis": {
           "colorscale": [
            [
             0,
             "#000011"
            ],
            [
             0.1111111111111111,
             "#000012"
            ],
            [
             0.2222222222222222,
             "#000013"
            ],
            [
             0.3333333333333333,
             "#000014"
            ],
            [
             0.4444444444444444,
             "#000015"
            ],
            [
             0.5555555555555556,
             "#000016"
            ],
            [
             0.6666666666666666,
             "#000017"
            ],
            [
             0.7777777777777778,
             "#000018"
            ],
            [
             0.8888888888888888,
             "#000019"
            ],
            [
             1,
             "#000020"
            ]
           ]
          },
          "colorscale": {
           "diverging": [
            [
             0,
             "#000021"
            ],
            [
             0.1,
             "#000022"
            ],
            [
             0.2,
             "#000023"
            ],
            [
             0.3,
             "#000024"
            ],
            [
             0.4,
             "#000025"
            ],
            [
             0.5,
             "#000026"
            ],
            [
             0.6,
             "#000027"
            ],
            [
             0.7,
             "#000028"
            ],
            [
             0.8,
             "#000029"
            ],
            [
             0.9,
             "#000030"
            ],
            [
             1,
             "#000031"
            ]
           ],
           "sequential": [
            [
             0,
             "#000011"
            ],
            [
             0.1111111111111111,
             "#000012"
            ],
            [
             0.2222222222222222,
             "#000013"
            ],
            [
             0.3333333333333333,
             "#000014"
            ],
            [
             0.4444444444444444,
             "#000015"
            ],
            [
             0.5555555555555556,
             "#000016"
            ],
            [
             0.6666666666666666,
             "#000017"
            ],
            [
             0.7777777777777778,
             "#000018"
            ],
            [
             0.8888888888888888,
             "#000019"
            ],
            [
             1,
             "#000020"
            ]
           ],
           "sequentialminus": [
            [
             0,
             "#000011"
            ],
            [
             0.1111111111111111,
             "#000012"
            ],
            [
             0.2222222222222222,
             "#000013"
            ],
            [
             0.3333333333333333,
             "#000014"
            ],
            [
             0.4444444444444444,
             "#000015"
            ],
            [
             0.5555555555555556,
             "#000016"
            ],
            [
             0.6666666666666666,
             "#000017"
            ],
            [
             0.7777777777777778,
             "#000018"
            ],
            [
             0.8888888888888888,
             "#000019"
            ],
            [
             1,
             "#000020"
            ]
           ]
          },
          "colorway": [
           "#000001",
           "#000002",
           "#000003",
           "#000004",
           "#000005",
           "#000006",
           "#000007",
           "#000008",
           "#000009",
           "#000010"
          ]
         }
        },
        "title": {
         "text": "Turnover Rate"
        },
        "xaxis": {
         "anchor": "y",
         "domain": [
          0,
          1
         ],
         "title": {
          "text": "datetime"
         }
        },
        "yaxis": {
         "anchor": "x",
         "domain": [
          0,
          1
         ],
         "title": {
          "text": "turnover"
         }
        }
       }
      }
     },
     "metadata": {},
     "output_type": "display_data"
    }
   ],
   "source": []
  },
  {
   "cell_type": "code",
   "execution_count": null,
   "metadata": {},
   "outputs": [],
   "source": [
    "# def fetch_and_render_turnover_data(autopool: AutopoolConstants):\n",
    "#     turnover_summary = fetch_turnover_data(autopool)\n",
    "#     st.header(f\"{autopool.name} Turnover\")\n",
    "#     st.table(turnover_summary)\n",
    "\n",
    "\n",
    "# def fetch_turnover_data(autopool: AutopoolConstants) -> pd.DataFrame:\n",
    "#     clean_rebalance_df = None  # fetch_rebalance_events_df(autopool)\n",
    "\n",
    "#     def _is_a_rebalance_between_the_same_destination(row) -> bool:\n",
    "#         # moveName = f\"{out_destination_symbol} -> {in_destination_symbol}\"\n",
    "#         destination_symbols = row[\"moveName\"].split(\" -> \")\n",
    "#         if len(destination_symbols) == 2:\n",
    "#             out_destination_symbol, in_destination_symbol = destination_symbols\n",
    "#             if out_destination_symbol == in_destination_symbol:\n",
    "#                 return True\n",
    "#         return False\n",
    "\n",
    "#     clean_rebalance_df[\"is_rebalance_between_the_same_destination\"] = clean_rebalance_df.apply(\n",
    "#         _is_a_rebalance_between_the_same_destination, axis=1\n",
    "#     )\n",
    "\n",
    "#     pricePerShare_df = fetch_destination_summary_stats(autopool, \"pricePerShare\")\n",
    "#     ownedShares_df = fetch_destination_summary_stats(autopool, \"ownedShares\")\n",
    "#     allocation_df = pricePerShare_df * ownedShares_df\n",
    "#     total_nav_series = allocation_df.sum(axis=1)\n",
    "\n",
    "#     today = datetime.now(timezone.utc)\n",
    "\n",
    "#     seven_days_ago = today - timedelta(days=7)\n",
    "#     thirty_days_ago = today - timedelta(days=30)\n",
    "#     one_year_ago = today - timedelta(days=365)\n",
    "\n",
    "#     records = []\n",
    "#     for window_name, window in zip(\n",
    "#         [\"seven_days_ago\", \"thirty_days_ago\", \"one_year_ago\"], [seven_days_ago, thirty_days_ago, one_year_ago]\n",
    "#     ):\n",
    "\n",
    "#         recent_df = clean_rebalance_df[clean_rebalance_df.index >= window]\n",
    "#         rebalance_count = len(recent_df)\n",
    "\n",
    "#         avg_tvl = float(total_nav_series[total_nav_series.index >= window].mean())\n",
    "\n",
    "#         total_volume_with_rebalances_to_same_destination = recent_df[\"outEthValue\"].sum()\n",
    "#         total_volume_without_rebalances_to_same_destination = recent_df[\n",
    "#             ~recent_df[\"is_rebalance_between_the_same_destination\"]\n",
    "#         ][\"outEthValue\"].sum()\n",
    "\n",
    "#         record = {\n",
    "#             \"window\": window_name,\n",
    "#             \"rebalances\": rebalance_count,\n",
    "#             \"avg_tvl\": round(avg_tvl, 2),\n",
    "#             \"volume_with_rebalances_to_self\": round(total_volume_with_rebalances_to_same_destination, 2),\n",
    "#             \"volume_without_rebalances_to_self\": round(total_volume_without_rebalances_to_same_destination, 2),\n",
    "#             \"turnover_with_rebalances_to_self\": round(total_volume_with_rebalances_to_same_destination / avg_tvl, 3),\n",
    "#             \"turnover_without_rebalances_to_self\": round(\n",
    "#                 total_volume_without_rebalances_to_same_destination / avg_tvl, 3\n",
    "#             ),\n",
    "#         }\n",
    "#         records.append(record)\n",
    "\n",
    "#     turnover_summary = pd.DataFrame.from_records(records)\n",
    "#     return turnover_summary\n",
    "\n",
    "\n",
    "# if __name__ == \"__main__\":\n",
    "#     fetch_and_render_turnover_data(BASE_ETH)\n",
    "\n",
    "#     # for a in ALL_AUTOPOOLS:\n",
    "#     #     fetch_and_render_turnover_data(a)"
   ]
  }
 ],
 "metadata": {
  "kernelspec": {
   "display_name": "mainnet-launch-py3.10",
   "language": "python",
   "name": "python3"
  },
  "language_info": {
   "codemirror_mode": {
    "name": "ipython",
    "version": 3
   },
   "file_extension": ".py",
   "mimetype": "text/x-python",
   "name": "python",
   "nbconvert_exporter": "python",
   "pygments_lexer": "ipython3",
   "version": "3.10.14"
  }
 },
 "nbformat": 4,
 "nbformat_minor": 2
}
