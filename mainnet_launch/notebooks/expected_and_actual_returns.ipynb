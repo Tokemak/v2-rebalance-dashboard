{
 "cells": [
  {
   "cell_type": "code",
   "execution_count": 54,
   "metadata": {},
   "outputs": [
    {
     "data": {
      "text/html": [
       "<div>\n",
       "<style scoped>\n",
       "    .dataframe tbody tr th:only-of-type {\n",
       "        vertical-align: middle;\n",
       "    }\n",
       "\n",
       "    .dataframe tbody tr th {\n",
       "        vertical-align: top;\n",
       "    }\n",
       "\n",
       "    .dataframe thead th {\n",
       "        text-align: right;\n",
       "    }\n",
       "</style>\n",
       "<table border=\"1\" class=\"dataframe\">\n",
       "  <thead>\n",
       "    <tr style=\"text-align: right;\">\n",
       "      <th></th>\n",
       "      <th>Rolling Average CR Out</th>\n",
       "      <th>Annualized Change In Price Return</th>\n",
       "      <th>Net Return</th>\n",
       "      <th>Gross + Price Return</th>\n",
       "      <th>Gross Return</th>\n",
       "      <th>autopool</th>\n",
       "    </tr>\n",
       "    <tr>\n",
       "      <th>timestamp</th>\n",
       "      <th></th>\n",
       "      <th></th>\n",
       "      <th></th>\n",
       "      <th></th>\n",
       "      <th></th>\n",
       "      <th></th>\n",
       "    </tr>\n",
       "  </thead>\n",
       "  <tbody>\n",
       "    <tr>\n",
       "      <th>2024-10-15 00:00:00+00:00</th>\n",
       "      <td>5.422321</td>\n",
       "      <td>0.134317</td>\n",
       "      <td>1.645459</td>\n",
       "      <td>4.659747</td>\n",
       "      <td>4.525430</td>\n",
       "      <td>autoETH</td>\n",
       "    </tr>\n",
       "    <tr>\n",
       "      <th>2024-10-16 00:00:00+00:00</th>\n",
       "      <td>5.638364</td>\n",
       "      <td>0.321373</td>\n",
       "      <td>1.655130</td>\n",
       "      <td>5.013130</td>\n",
       "      <td>4.691758</td>\n",
       "      <td>autoETH</td>\n",
       "    </tr>\n",
       "    <tr>\n",
       "      <th>2024-10-17 00:00:00+00:00</th>\n",
       "      <td>5.834676</td>\n",
       "      <td>0.485399</td>\n",
       "      <td>1.671142</td>\n",
       "      <td>5.395618</td>\n",
       "      <td>4.910219</td>\n",
       "      <td>autoETH</td>\n",
       "    </tr>\n",
       "    <tr>\n",
       "      <th>2024-10-18 00:00:00+00:00</th>\n",
       "      <td>5.998010</td>\n",
       "      <td>0.525368</td>\n",
       "      <td>1.803258</td>\n",
       "      <td>5.673754</td>\n",
       "      <td>5.148387</td>\n",
       "      <td>autoETH</td>\n",
       "    </tr>\n",
       "    <tr>\n",
       "      <th>2024-10-19 00:00:00+00:00</th>\n",
       "      <td>6.133735</td>\n",
       "      <td>0.315890</td>\n",
       "      <td>2.137643</td>\n",
       "      <td>5.672285</td>\n",
       "      <td>5.356395</td>\n",
       "      <td>autoETH</td>\n",
       "    </tr>\n",
       "    <tr>\n",
       "      <th>...</th>\n",
       "      <td>...</td>\n",
       "      <td>...</td>\n",
       "      <td>...</td>\n",
       "      <td>...</td>\n",
       "      <td>...</td>\n",
       "      <td>...</td>\n",
       "    </tr>\n",
       "    <tr>\n",
       "      <th>2025-01-23 00:00:00+00:00</th>\n",
       "      <td>5.758812</td>\n",
       "      <td>2.317326</td>\n",
       "      <td>3.236090</td>\n",
       "      <td>6.560777</td>\n",
       "      <td>4.243451</td>\n",
       "      <td>baseETH</td>\n",
       "    </tr>\n",
       "    <tr>\n",
       "      <th>2025-01-24 00:00:00+00:00</th>\n",
       "      <td>5.731644</td>\n",
       "      <td>2.234656</td>\n",
       "      <td>2.599584</td>\n",
       "      <td>5.868896</td>\n",
       "      <td>3.634240</td>\n",
       "      <td>baseETH</td>\n",
       "    </tr>\n",
       "    <tr>\n",
       "      <th>2025-01-25 00:00:00+00:00</th>\n",
       "      <td>5.710168</td>\n",
       "      <td>2.564050</td>\n",
       "      <td>2.562568</td>\n",
       "      <td>6.160364</td>\n",
       "      <td>3.596314</td>\n",
       "      <td>baseETH</td>\n",
       "    </tr>\n",
       "    <tr>\n",
       "      <th>2025-01-26 00:00:00+00:00</th>\n",
       "      <td>5.701431</td>\n",
       "      <td>1.770783</td>\n",
       "      <td>2.152483</td>\n",
       "      <td>5.020626</td>\n",
       "      <td>3.249843</td>\n",
       "      <td>baseETH</td>\n",
       "    </tr>\n",
       "    <tr>\n",
       "      <th>2025-01-27 00:00:00+00:00</th>\n",
       "      <td>5.717692</td>\n",
       "      <td>2.242160</td>\n",
       "      <td>2.610131</td>\n",
       "      <td>5.953043</td>\n",
       "      <td>3.710883</td>\n",
       "      <td>baseETH</td>\n",
       "    </tr>\n",
       "  </tbody>\n",
       "</table>\n",
       "<p>371 rows × 6 columns</p>\n",
       "</div>"
      ],
      "text/plain": [
       "                           Rolling Average CR Out  \\\n",
       "timestamp                                           \n",
       "2024-10-15 00:00:00+00:00                5.422321   \n",
       "2024-10-16 00:00:00+00:00                5.638364   \n",
       "2024-10-17 00:00:00+00:00                5.834676   \n",
       "2024-10-18 00:00:00+00:00                5.998010   \n",
       "2024-10-19 00:00:00+00:00                6.133735   \n",
       "...                                           ...   \n",
       "2025-01-23 00:00:00+00:00                5.758812   \n",
       "2025-01-24 00:00:00+00:00                5.731644   \n",
       "2025-01-25 00:00:00+00:00                5.710168   \n",
       "2025-01-26 00:00:00+00:00                5.701431   \n",
       "2025-01-27 00:00:00+00:00                5.717692   \n",
       "\n",
       "                           Annualized Change In Price Return  Net Return  \\\n",
       "timestamp                                                                  \n",
       "2024-10-15 00:00:00+00:00                           0.134317    1.645459   \n",
       "2024-10-16 00:00:00+00:00                           0.321373    1.655130   \n",
       "2024-10-17 00:00:00+00:00                           0.485399    1.671142   \n",
       "2024-10-18 00:00:00+00:00                           0.525368    1.803258   \n",
       "2024-10-19 00:00:00+00:00                           0.315890    2.137643   \n",
       "...                                                      ...         ...   \n",
       "2025-01-23 00:00:00+00:00                           2.317326    3.236090   \n",
       "2025-01-24 00:00:00+00:00                           2.234656    2.599584   \n",
       "2025-01-25 00:00:00+00:00                           2.564050    2.562568   \n",
       "2025-01-26 00:00:00+00:00                           1.770783    2.152483   \n",
       "2025-01-27 00:00:00+00:00                           2.242160    2.610131   \n",
       "\n",
       "                           Gross + Price Return  Gross Return autopool  \n",
       "timestamp                                                               \n",
       "2024-10-15 00:00:00+00:00              4.659747      4.525430  autoETH  \n",
       "2024-10-16 00:00:00+00:00              5.013130      4.691758  autoETH  \n",
       "2024-10-17 00:00:00+00:00              5.395618      4.910219  autoETH  \n",
       "2024-10-18 00:00:00+00:00              5.673754      5.148387  autoETH  \n",
       "2024-10-19 00:00:00+00:00              5.672285      5.356395  autoETH  \n",
       "...                                         ...           ...      ...  \n",
       "2025-01-23 00:00:00+00:00              6.560777      4.243451  baseETH  \n",
       "2025-01-24 00:00:00+00:00              5.868896      3.634240  baseETH  \n",
       "2025-01-25 00:00:00+00:00              6.160364      3.596314  baseETH  \n",
       "2025-01-26 00:00:00+00:00              5.020626      3.249843  baseETH  \n",
       "2025-01-27 00:00:00+00:00              5.953043      3.710883  baseETH  \n",
       "\n",
       "[371 rows x 6 columns]"
      ]
     },
     "execution_count": 54,
     "metadata": {},
     "output_type": "execute_result"
    }
   ],
   "source": [
    "import pandas as pd\n",
    "\n",
    "from mainnet_launch.pages.expected_vs_actual_returns.expected_vs_actual_returns import (\n",
    "    build_CR_out_vs_gross_and_net_performance_df,\n",
    ")\n",
    "from mainnet_launch.constants import ALL_AUTOPOOLS\n",
    "\n",
    "\n",
    "cols = [\n",
    "    \"Rolling Average CR Out\",\n",
    "    \"Annualized Change In Price Return\",\n",
    "    \"Net Return\",\n",
    "    \"Gross + Price Return\",\n",
    "    \"Gross Return\",\n",
    "    \"autopool\",\n",
    "]\n",
    "dfs = []\n",
    "for a in ALL_AUTOPOOLS:\n",
    "    df = build_CR_out_vs_gross_and_net_performance_df(a, 30)\n",
    "    df.rename(\n",
    "        columns={\n",
    "            f\"adjusted_{30}_days_annualized_apr\": \"Gross Return\",\n",
    "            f\"actual_{30}_days_annualized_apr\": \"Net Return\",\n",
    "            \"annualized_change_in_price_return\": \"Annualized Change In Price Return\",\n",
    "            f\"avg_cr_out_prior_{30}_days\": \"Rolling Average CR Out\",\n",
    "        },\n",
    "        inplace=True,\n",
    "    )\n",
    "    # df = df[df.index > \"10-29-2024\"]\n",
    "\n",
    "    df[\"autopool\"] = a.name\n",
    "    dfs.append(df)\n",
    "\n",
    "\n",
    "df = pd.concat(dfs)\n",
    "df[cols]"
   ]
  },
  {
   "cell_type": "code",
   "execution_count": 55,
   "metadata": {},
   "outputs": [
    {
     "data": {
      "text/plain": [
       "timestamp\n",
       "2024-11-08 00:00:00+00:00   -1.531678\n",
       "2024-11-02 00:00:00+00:00   -1.422114\n",
       "2024-10-28 00:00:00+00:00   -1.350443\n",
       "2024-11-05 00:00:00+00:00   -1.313811\n",
       "2024-10-31 00:00:00+00:00   -1.286141\n",
       "Name: diff, dtype: float64"
      ]
     },
     "execution_count": 55,
     "metadata": {},
     "output_type": "execute_result"
    }
   ],
   "source": [
    "df[\"diff\"] = df[\"Gross + Price Return\"] - df[\"Rolling Average CR Out\"]\n",
    "df[df[\"autopool\"] == \"balETH\"].sort_values(\"diff\").head()[\"diff\"]"
   ]
  },
  {
   "attachments": {
    "image-2.png": {
     "image/png": "[encoded data removed]"
    },
    "image-3.png": {
     "image/png": "[encoded data removed]"
    },
    "image.png": {
     "image/png": "[encoded data removed]"
    }
   },
   "cell_type": "markdown",
   "metadata": {},
   "source": [
    "![image.png](attachment:image.png)\n",
    "\n",
    "For bal ETH the over performance at the start comes from donating to the pool. that sharp line up\n",
    "\n",
    "![image-2.png](attachment:image-2.png)\n",
    "\n",
    "\n",
    "I think the under performance in the period after\n",
    "\n",
    "![image-3.png](attachment:image-3.png)\n",
    "\n",
    "\n",
    "maybe, the increase in price return does not fully change it?\n",
    "\n",
    "Maybe some incentive APR broke our way, \n",
    "\n",
    "It could be that we were givng incentive credits to the destination when it had no APR?\n",
    "\n",
    "-- Do we have an easy way to check this?\n",
    "\n",
    "\n",
    "Today I am trying to figure out \n"
   ]
  },
  {
   "attachments": {
    "image-2.png": {
     "image/png": "[encoded data removed]"
    },
    "image-3.png": {
     "image/png": "[encoded data removed]"
    },
    "image-4.png": {
     "image/png": "[encoded data removed]"
    },
    "image.png": {
     "image/png": "[encoded data removed]"
    }
   },
   "cell_type": "markdown",
   "metadata": {},
   "source": [
    "![image.png](attachment:image.png)\n",
    "\n",
    "nov 8 the price return dropped by 6 points, so gross should be higher than CR, because the price moved towards us.\n",
    "\n",
    "nov 2\n",
    "\n",
    "\n",
    "![image-2.png](attachment:image-2.png)\n",
    "bottom on the 30 rolling net return, \n",
    "\n",
    "oct 3, is the 30 days before\n",
    "\n",
    "![image-3.png](attachment:image-3.png)\n",
    "\n",
    "bal ETH CR droppped by 1 percent right before\n",
    "\n",
    "\n",
    "![image-4.png](attachment:image-4.png)\n",
    "\n",
    "There was a slight dip with depeg, so the net return looked smaller.\n"
   ]
  },
  {
   "cell_type": "code",
   "execution_count": 56,
   "metadata": {},
   "outputs": [
    {
     "data": {
      "text/html": [
       "<div>\n",
       "<style scoped>\n",
       "    .dataframe tbody tr th:only-of-type {\n",
       "        vertical-align: middle;\n",
       "    }\n",
       "\n",
       "    .dataframe tbody tr th {\n",
       "        vertical-align: top;\n",
       "    }\n",
       "\n",
       "    .dataframe thead th {\n",
       "        text-align: right;\n",
       "    }\n",
       "</style>\n",
       "<table border=\"1\" class=\"dataframe\">\n",
       "  <thead>\n",
       "    <tr style=\"text-align: right;\">\n",
       "      <th></th>\n",
       "      <th>autoETH CR</th>\n",
       "      <th>30_day_annualized_return</th>\n",
       "      <th>Rolling Average CR Out</th>\n",
       "      <th>adjusted_nav_per_share</th>\n",
       "      <th>actual_nav_per_share</th>\n",
       "      <th>Gross Return</th>\n",
       "      <th>Net Return</th>\n",
       "      <th>diff_between_rolling_weighted_CR_and_adjusted</th>\n",
       "      <th>diff_between_rolling_weighted_CR_and_actual</th>\n",
       "      <th>autopool_price_return</th>\n",
       "      <th>change_in_price_return</th>\n",
       "      <th>Annualized Change In Price Return</th>\n",
       "      <th>Gross + Price Return</th>\n",
       "      <th>autopool</th>\n",
       "      <th>balETH CR</th>\n",
       "      <th>autoLRT CR</th>\n",
       "      <th>baseETH CR</th>\n",
       "      <th>diff</th>\n",
       "    </tr>\n",
       "    <tr>\n",
       "      <th>timestamp</th>\n",
       "      <th></th>\n",
       "      <th></th>\n",
       "      <th></th>\n",
       "      <th></th>\n",
       "      <th></th>\n",
       "      <th></th>\n",
       "      <th></th>\n",
       "      <th></th>\n",
       "      <th></th>\n",
       "      <th></th>\n",
       "      <th></th>\n",
       "      <th></th>\n",
       "      <th></th>\n",
       "      <th></th>\n",
       "      <th></th>\n",
       "      <th></th>\n",
       "      <th></th>\n",
       "      <th></th>\n",
       "    </tr>\n",
       "  </thead>\n",
       "  <tbody>\n",
       "    <tr>\n",
       "      <th>2024-10-21 00:00:00+00:00</th>\n",
       "      <td>NaN</td>\n",
       "      <td>4.548973</td>\n",
       "      <td>6.420740</td>\n",
       "      <td>1.005148</td>\n",
       "      <td>1.002834</td>\n",
       "      <td>7.366508</td>\n",
       "      <td>4.548973</td>\n",
       "      <td>0.945769</td>\n",
       "      <td>-1.871766</td>\n",
       "      <td>0.059273</td>\n",
       "      <td>0.002247</td>\n",
       "      <td>0.027334</td>\n",
       "      <td>7.393842</td>\n",
       "      <td>balETH</td>\n",
       "      <td>6.197316</td>\n",
       "      <td>NaN</td>\n",
       "      <td>NaN</td>\n",
       "      <td>0.973102</td>\n",
       "    </tr>\n",
       "    <tr>\n",
       "      <th>2024-10-23 00:00:00+00:00</th>\n",
       "      <td>NaN</td>\n",
       "      <td>4.488507</td>\n",
       "      <td>6.507429</td>\n",
       "      <td>1.005271</td>\n",
       "      <td>1.002887</td>\n",
       "      <td>7.391374</td>\n",
       "      <td>4.488507</td>\n",
       "      <td>0.883945</td>\n",
       "      <td>-2.018922</td>\n",
       "      <td>0.062734</td>\n",
       "      <td>0.007761</td>\n",
       "      <td>0.094421</td>\n",
       "      <td>7.485795</td>\n",
       "      <td>balETH</td>\n",
       "      <td>7.178080</td>\n",
       "      <td>NaN</td>\n",
       "      <td>NaN</td>\n",
       "      <td>0.978366</td>\n",
       "    </tr>\n",
       "    <tr>\n",
       "      <th>2024-10-20 00:00:00+00:00</th>\n",
       "      <td>NaN</td>\n",
       "      <td>4.462101</td>\n",
       "      <td>6.396371</td>\n",
       "      <td>1.005128</td>\n",
       "      <td>1.002794</td>\n",
       "      <td>7.303976</td>\n",
       "      <td>4.462101</td>\n",
       "      <td>0.907606</td>\n",
       "      <td>-1.934270</td>\n",
       "      <td>0.057850</td>\n",
       "      <td>0.005929</td>\n",
       "      <td>0.072141</td>\n",
       "      <td>7.376117</td>\n",
       "      <td>balETH</td>\n",
       "      <td>6.423901</td>\n",
       "      <td>NaN</td>\n",
       "      <td>NaN</td>\n",
       "      <td>0.979747</td>\n",
       "    </tr>\n",
       "    <tr>\n",
       "      <th>2024-10-18 00:00:00+00:00</th>\n",
       "      <td>NaN</td>\n",
       "      <td>3.927406</td>\n",
       "      <td>6.277650</td>\n",
       "      <td>1.004923</td>\n",
       "      <td>1.002527</td>\n",
       "      <td>6.845379</td>\n",
       "      <td>3.927406</td>\n",
       "      <td>0.567729</td>\n",
       "      <td>-2.350244</td>\n",
       "      <td>0.064078</td>\n",
       "      <td>0.036847</td>\n",
       "      <td>0.448308</td>\n",
       "      <td>7.293687</td>\n",
       "      <td>balETH</td>\n",
       "      <td>6.944747</td>\n",
       "      <td>NaN</td>\n",
       "      <td>NaN</td>\n",
       "      <td>1.016037</td>\n",
       "    </tr>\n",
       "    <tr>\n",
       "      <th>2024-10-22 00:00:00+00:00</th>\n",
       "      <td>NaN</td>\n",
       "      <td>4.539227</td>\n",
       "      <td>6.448469</td>\n",
       "      <td>1.005230</td>\n",
       "      <td>1.002863</td>\n",
       "      <td>7.421704</td>\n",
       "      <td>4.539227</td>\n",
       "      <td>0.973235</td>\n",
       "      <td>-1.909242</td>\n",
       "      <td>0.064510</td>\n",
       "      <td>0.008499</td>\n",
       "      <td>0.103402</td>\n",
       "      <td>7.525105</td>\n",
       "      <td>balETH</td>\n",
       "      <td>6.532448</td>\n",
       "      <td>NaN</td>\n",
       "      <td>NaN</td>\n",
       "      <td>1.076636</td>\n",
       "    </tr>\n",
       "  </tbody>\n",
       "</table>\n",
       "</div>"
      ],
      "text/plain": [
       "                           autoETH CR  30_day_annualized_return  \\\n",
       "timestamp                                                         \n",
       "2024-10-21 00:00:00+00:00         NaN                  4.548973   \n",
       "2024-10-23 00:00:00+00:00         NaN                  4.488507   \n",
       "2024-10-20 00:00:00+00:00         NaN                  4.462101   \n",
       "2024-10-18 00:00:00+00:00         NaN                  3.927406   \n",
       "2024-10-22 00:00:00+00:00         NaN                  4.539227   \n",
       "\n",
       "                           Rolling Average CR Out  adjusted_nav_per_share  \\\n",
       "timestamp                                                                   \n",
       "2024-10-21 00:00:00+00:00                6.420740                1.005148   \n",
       "2024-10-23 00:00:00+00:00                6.507429                1.005271   \n",
       "2024-10-20 00:00:00+00:00                6.396371                1.005128   \n",
       "2024-10-18 00:00:00+00:00                6.277650                1.004923   \n",
       "2024-10-22 00:00:00+00:00                6.448469                1.005230   \n",
       "\n",
       "                           actual_nav_per_share  Gross Return  Net Return  \\\n",
       "timestamp                                                                   \n",
       "2024-10-21 00:00:00+00:00              1.002834      7.366508    4.548973   \n",
       "2024-10-23 00:00:00+00:00              1.002887      7.391374    4.488507   \n",
       "2024-10-20 00:00:00+00:00              1.002794      7.303976    4.462101   \n",
       "2024-10-18 00:00:00+00:00              1.002527      6.845379    3.927406   \n",
       "2024-10-22 00:00:00+00:00              1.002863      7.421704    4.539227   \n",
       "\n",
       "                           diff_between_rolling_weighted_CR_and_adjusted  \\\n",
       "timestamp                                                                  \n",
       "2024-10-21 00:00:00+00:00                                       0.945769   \n",
       "2024-10-23 00:00:00+00:00                                       0.883945   \n",
       "2024-10-20 00:00:00+00:00                                       0.907606   \n",
       "2024-10-18 00:00:00+00:00                                       0.567729   \n",
       "2024-10-22 00:00:00+00:00                                       0.973235   \n",
       "\n",
       "                           diff_between_rolling_weighted_CR_and_actual  \\\n",
       "timestamp                                                                \n",
       "2024-10-21 00:00:00+00:00                                    -1.871766   \n",
       "2024-10-23 00:00:00+00:00                                    -2.018922   \n",
       "2024-10-20 00:00:00+00:00                                    -1.934270   \n",
       "2024-10-18 00:00:00+00:00                                    -2.350244   \n",
       "2024-10-22 00:00:00+00:00                                    -1.909242   \n",
       "\n",
       "                           autopool_price_return  change_in_price_return  \\\n",
       "timestamp                                                                  \n",
       "2024-10-21 00:00:00+00:00               0.059273                0.002247   \n",
       "2024-10-23 00:00:00+00:00               0.062734                0.007761   \n",
       "2024-10-20 00:00:00+00:00               0.057850                0.005929   \n",
       "2024-10-18 00:00:00+00:00               0.064078                0.036847   \n",
       "2024-10-22 00:00:00+00:00               0.064510                0.008499   \n",
       "\n",
       "                           Annualized Change In Price Return  \\\n",
       "timestamp                                                      \n",
       "2024-10-21 00:00:00+00:00                           0.027334   \n",
       "2024-10-23 00:00:00+00:00                           0.094421   \n",
       "2024-10-20 00:00:00+00:00                           0.072141   \n",
       "2024-10-18 00:00:00+00:00                           0.448308   \n",
       "2024-10-22 00:00:00+00:00                           0.103402   \n",
       "\n",
       "                           Gross + Price Return autopool  balETH CR  \\\n",
       "timestamp                                                             \n",
       "2024-10-21 00:00:00+00:00              7.393842   balETH   6.197316   \n",
       "2024-10-23 00:00:00+00:00              7.485795   balETH   7.178080   \n",
       "2024-10-20 00:00:00+00:00              7.376117   balETH   6.423901   \n",
       "2024-10-18 00:00:00+00:00              7.293687   balETH   6.944747   \n",
       "2024-10-22 00:00:00+00:00              7.525105   balETH   6.532448   \n",
       "\n",
       "                           autoLRT CR  baseETH CR      diff  \n",
       "timestamp                                                    \n",
       "2024-10-21 00:00:00+00:00         NaN         NaN  0.973102  \n",
       "2024-10-23 00:00:00+00:00         NaN         NaN  0.978366  \n",
       "2024-10-20 00:00:00+00:00         NaN         NaN  0.979747  \n",
       "2024-10-18 00:00:00+00:00         NaN         NaN  1.016037  \n",
       "2024-10-22 00:00:00+00:00         NaN         NaN  1.076636  "
      ]
     },
     "execution_count": 56,
     "metadata": {},
     "output_type": "execute_result"
    }
   ],
   "source": [
    "df[df[\"autopool\"] == \"balETH\"].sort_values(\"diff\").tail()"
   ]
  },
  {
   "cell_type": "code",
   "execution_count": null,
   "metadata": {},
   "outputs": [],
   "source": []
  },
  {
   "attachments": {
    "image.png": {
     "image/png": "[encoded data removed]"
    }
   },
   "cell_type": "markdown",
   "metadata": {},
   "source": [
    "![image.png](attachment:image.png)\n",
    "\n",
    "We donated to the pool to bring the nav per share. This made the gross return > the composite return "
   ]
  },
  {
   "cell_type": "code",
   "execution_count": 57,
   "metadata": {},
   "outputs": [],
   "source": [
    "# The reasons 30 days after"
   ]
  },
  {
   "cell_type": "code",
   "execution_count": 74,
   "metadata": {},
   "outputs": [
    {
     "data": {
      "application/vnd.plotly.v1+json": {
       "config": {
        "plotlyServerURL": "https://plot.ly"
       },
       "data": [
        {
         "customdata": [
          [
           "2024-10-15T00:00:00+00:00"
          ],
          [
           "2024-10-16T00:00:00+00:00"
          ],
          [
           "2024-10-17T00:00:00+00:00"
          ],
          [
           "2024-10-18T00:00:00+00:00"
          ],
          [
           "2024-10-19T00:00:00+00:00"
          ],
          [
           "2024-10-20T00:00:00+00:00"
          ],
          [
           "2024-10-21T00:00:00+00:00"
          ],
          [
           "2024-10-22T00:00:00+00:00"
          ],
          [
           "2024-10-23T00:00:00+00:00"
          ],
          [
           "2024-10-24T00:00:00+00:00"
          ],
          [
           "2024-10-25T00:00:00+00:00"
          ],
          [
           "2024-10-26T00:00:00+00:00"
          ],
          [
           "2024-10-27T00:00:00+00:00"
          ],
          [
           "2024-10-28T00:00:00+00:00"
          ],
          [
           "2024-10-29T00:00:00+00:00"
          ],
          [
           "2024-10-30T00:00:00+00:00"
          ],
          [
           "2024-10-31T00:00:00+00:00"
          ],
          [
           "2024-11-01T00:00:00+00:00"
          ],
          [
           "2024-11-02T00:00:00+00:00"
          ],
          [
           "2024-11-03T00:00:00+00:00"
          ],
          [
           "2024-11-04T00:00:00+00:00"
          ],
          [
           "2024-11-05T00:00:00+00:00"
          ],
          [
           "2024-11-06T00:00:00+00:00"
          ],
          [
           "2024-11-07T00:00:00+00:00"
          ],
          [
           "2024-11-08T00:00:00+00:00"
          ],
          [
           "2024-11-09T00:00:00+00:00"
          ],
          [
           "2024-11-10T00:00:00+00:00"
          ],
          [
           "2024-11-11T00:00:00+00:00"
          ],
          [
           "2024-11-12T00:00:00+00:00"
          ],
          [
           "2024-11-13T00:00:00+00:00"
          ],
          [
           "2024-11-14T00:00:00+00:00"
          ],
          [
           "2024-11-15T00:00:00+00:00"
          ],
          [
           "2024-11-16T00:00:00+00:00"
          ],
          [
           "2024-11-17T00:00:00+00:00"
          ],
          [
           "2024-11-18T00:00:00+00:00"
          ],
          [
           "2024-11-19T00:00:00+00:00"
          ],
          [
           "2024-11-20T00:00:00+00:00"
          ],
          [
           "2024-11-21T00:00:00+00:00"
          ],
          [
           "2024-11-22T00:00:00+00:00"
          ],
          [
           "2024-11-23T00:00:00+00:00"
          ],
          [
           "2024-11-24T00:00:00+00:00"
          ],
          [
           "2024-11-25T00:00:00+00:00"
          ],
          [
           "2024-11-26T00:00:00+00:00"
          ],
          [
           "2024-11-27T00:00:00+00:00"
          ],
          [
           "2024-11-28T00:00:00+00:00"
          ],
          [
           "2024-11-29T00:00:00+00:00"
          ],
          [
           "2024-11-30T00:00:00+00:00"
          ],
          [
           "2024-12-01T00:00:00+00:00"
          ],
          [
           "2024-12-02T00:00:00+00:00"
          ],
          [
           "2024-12-03T00:00:00+00:00"
          ],
          [
           "2024-12-04T00:00:00+00:00"
          ],
          [
           "2024-12-05T00:00:00+00:00"
          ],
          [
           "2024-12-06T00:00:00+00:00"
          ],
          [
           "2024-12-07T00:00:00+00:00"
          ],
          [
           "2024-12-08T00:00:00+00:00"
          ],
          [
           "2024-12-09T00:00:00+00:00"
          ],
          [
           "2024-12-10T00:00:00+00:00"
          ],
          [
           "2024-12-11T00:00:00+00:00"
          ],
          [
           "2024-12-12T00:00:00+00:00"
          ],
          [
           "2024-12-13T00:00:00+00:00"
          ],
          [
           "2024-12-14T00:00:00+00:00"
          ],
          [
           "2024-12-15T00:00:00+00:00"
          ],
          [
           "2024-12-16T00:00:00+00:00"
          ],
          [
           "2024-12-17T00:00:00+00:00"
          ],
          [
           "2024-12-18T00:00:00+00:00"
          ],
          [
           "2024-12-19T00:00:00+00:00"
          ],
          [
           "2024-12-20T00:00:00+00:00"
          ],
          [
           "2024-12-21T00:00:00+00:00"
          ],
          [
           "2024-12-22T00:00:00+00:00"
          ],
          [
           "2024-12-23T00:00:00+00:00"
          ],
          [
           "2024-12-24T00:00:00+00:00"
          ],
          [
           "2024-12-25T00:00:00+00:00"
          ],
          [
           "2024-12-26T00:00:00+00:00"
          ],
          [
           "2024-12-27T00:00:00+00:00"
          ],
          [
           "2024-12-28T00:00:00+00:00"
          ],
          [
           "2024-12-29T00:00:00+00:00"
          ],
          [
           "2024-12-30T00:00:00+00:00"
          ],
          [
           "2024-12-31T00:00:00+00:00"
          ],
          [
           "2025-01-01T00:00:00+00:00"
          ],
          [
           "2025-01-02T00:00:00+00:00"
          ],
          [
           "2025-01-03T00:00:00+00:00"
          ],
          [
           "2025-01-04T00:00:00+00:00"
          ],
          [
           "2025-01-05T00:00:00+00:00"
          ],
          [
           "2025-01-06T00:00:00+00:00"
          ],
          [
           "2025-01-07T00:00:00+00:00"
          ],
          [
           "2025-01-08T00:00:00+00:00"
          ],
          [
           "2025-01-09T00:00:00+00:00"
          ],
          [
           "2025-01-10T00:00:00+00:00"
          ],
          [
           "2025-01-11T00:00:00+00:00"
          ],
          [
           "2025-01-12T00:00:00+00:00"
          ],
          [
           "2025-01-13T00:00:00+00:00"
          ],
          [
           "2025-01-14T00:00:00+00:00"
          ],
          [
           "2025-01-15T00:00:00+00:00"
          ],
          [
           "2025-01-16T00:00:00+00:00"
          ],
          [
           "2025-01-17T00:00:00+00:00"
          ],
          [
           "2025-01-18T00:00:00+00:00"
          ],
          [
           "2025-01-19T00:00:00+00:00"
          ],
          [
           "2025-01-20T00:00:00+00:00"
          ],
          [
           "2025-01-21T00:00:00+00:00"
          ],
          [
           "2025-01-22T00:00:00+00:00"
          ],
          [
           "2025-01-23T00:00:00+00:00"
          ],
          [
           "2025-01-24T00:00:00+00:00"
          ],
          [
           "2025-01-25T00:00:00+00:00"
          ],
          [
           "2025-01-26T00:00:00+00:00"
          ],
          [
           "2025-01-27T00:00:00+00:00"
          ]
         ],
         "hovertemplate": "autopool=autoETH<br>Rolling Average CR Out=%{x}<br>Gross + Price Return=%{y}<br>index=%{customdata[0]}<extra></extra>",
         "legendgroup": "autoETH",
         "marker": {
          "color": "#636efa",
          "symbol": "circle"
         },
         "mode": "markers",
         "name": "autoETH",
         "orientation": "v",
         "showlegend": true,
         "type": "scatter",
         "x": [
          5.422320823302163,
          5.638364390469373,
          5.834675970615507,
          5.998009828147349,
          6.133734502404055,
          6.217807083108875,
          6.284577503290235,
          6.289352689535814,
          6.312157644974819,
          6.335346254464862,
          6.345973702317357,
          6.335197905619987,
          6.33779643562419,
          6.3332487734781955,
          6.335238441925863,
          6.357981362190295,
          6.360760427132975,
          6.36168549166508,
          6.3876276357508175,
          6.398564267877571,
          6.431772002396185,
          6.464510515829984,
          6.494338473402144,
          6.518675399433929,
          6.527875033812861,
          6.525791175920195,
          6.540578771879781,
          6.55773149130208,
          6.575708753031375,
          6.613110414837769,
          6.637901111178697,
          6.655190059338593,
          6.661868238790104,
          6.6683926866312415,
          6.668815889370973,
          6.663074268708391,
          6.667263199437406,
          6.67238647179592,
          6.67591919662505,
          6.691481841688728,
          6.70163422114491,
          6.732066430258509,
          6.759836958875294,
          6.79296103389535,
          6.815887002732896,
          6.826403616756903,
          6.848191517204685,
          6.8763970001585335,
          6.90242772543789,
          6.939586745423444,
          6.989846322123097,
          7.056110668440108,
          7.134220508961341,
          7.217048205413596,
          7.31705726052108,
          7.4278991318656615,
          7.548308608397332,
          7.65972062682892,
          7.7813997441143306,
          7.892466250774373,
          7.997807206428367,
          8.10432522168438,
          8.193815651544462,
          8.280359749809499,
          8.363887569475269,
          8.382392140643434,
          8.382819446197345,
          8.356175121391411,
          8.331943523156726,
          8.304227177301263,
          8.287045287341916,
          8.276474472290346,
          8.26019670508863,
          8.23536622832099,
          8.217094538847116,
          8.201855201155988,
          8.180229576573545,
          8.150436888998726,
          8.11163956962663,
          8.089326291547163,
          8.055259935424345,
          8.026400054209905,
          7.981155426975642,
          7.917930859010612,
          7.835956656976594,
          7.744729634970004,
          7.648152766707653,
          7.567181377275171,
          7.478519840610873,
          7.385985690255617,
          7.298146654675409,
          7.2159428962458945,
          7.1573256097449125,
          7.069085165213922,
          6.99031085781783,
          6.98876452590928,
          7.003069093420483,
          7.042922089102062,
          7.068916192054516,
          7.088149993196898,
          7.0946463919491025,
          7.085679288355139,
          7.0821141297515116,
          7.082896803135688,
          7.067702072062494
         ],
         "xaxis": "x",
         "y": [
          4.659747481305563,
          5.013130376144941,
          5.395618221968204,
          5.6737544920069025,
          5.67228500948562,
          6.165736392075399,
          6.194370954631864,
          6.45594008568274,
          6.475642735753583,
          6.584312760451709,
          6.528126437773694,
          6.30212781126593,
          5.610948598071293,
          4.634919152205832,
          4.725978820523545,
          4.786919935120577,
          4.883230687392716,
          5.208876101603185,
          5.071511140089907,
          5.273330147886699,
          5.621014535549998,
          5.856111628394401,
          6.049845954502845,
          5.973695315474492,
          5.592899917891328,
          6.050683526879196,
          5.832100797900183,
          6.159061121156871,
          6.269242267611096,
          6.345140035032817,
          6.215512929160608,
          6.149134620480365,
          5.736965150169784,
          5.920190388930483,
          6.346816266834543,
          6.499197097589321,
          6.1782208626973,
          6.3573973311386425,
          6.388912033876712,
          6.188785811230851,
          6.582312879749809,
          6.38179191494481,
          6.405355938684143,
          6.580869979633709,
          6.332998479217384,
          6.312578771645323,
          6.450005832122439,
          6.58879592488678,
          6.815692734971076,
          6.647743392568318,
          6.729857337128853,
          7.070674375765146,
          7.089578065242855,
          7.4088115067229285,
          7.830678445234063,
          7.629700703184522,
          7.587809225932101,
          7.5455979163519435,
          8.213557694788586,
          8.36188754516209,
          8.656599565629605,
          8.534447019642919,
          9.049017821009587,
          8.94524325744195,
          8.803287564069139,
          8.671303436925694,
          8.813528931725038,
          8.945165182344118,
          9.022447793958676,
          8.97534598662936,
          8.65122696227853,
          8.913743740795246,
          8.94515312597477,
          8.690055569186947,
          8.897294890644034,
          8.96557764237614,
          9.012400206778413,
          8.629747420285245,
          8.70489546930879,
          8.702662566537645,
          8.638518947139518,
          8.2138804967991,
          8.268657885747752,
          8.319105059919382,
          8.080108622809442,
          7.780965517497723,
          8.258228557942948,
          7.999287690780692,
          7.527474177574916,
          7.584395199658916,
          7.401454106195094,
          7.692389526783642,
          7.215086367139896,
          7.230165863534419,
          7.296788195526976,
          7.301723219958596,
          7.465015629943599,
          7.01851667636955,
          6.631565415743312,
          7.424168063211983,
          7.327547071909863,
          7.416793316252942,
          7.297028681543559,
          7.321756374208305,
          7.5352577179242175
         ],
         "yaxis": "y"
        },
        {
         "customdata": [
          [
           "2024-10-15T00:00:00+00:00"
          ],
          [
           "2024-10-16T00:00:00+00:00"
          ],
          [
           "2024-10-17T00:00:00+00:00"
          ],
          [
           "2024-10-18T00:00:00+00:00"
          ],
          [
           "2024-10-19T00:00:00+00:00"
          ],
          [
           "2024-10-20T00:00:00+00:00"
          ],
          [
           "2024-10-21T00:00:00+00:00"
          ],
          [
           "2024-10-22T00:00:00+00:00"
          ],
          [
           "2024-10-23T00:00:00+00:00"
          ],
          [
           "2024-10-24T00:00:00+00:00"
          ],
          [
           "2024-10-25T00:00:00+00:00"
          ],
          [
           "2024-10-26T00:00:00+00:00"
          ],
          [
           "2024-10-27T00:00:00+00:00"
          ],
          [
           "2024-10-28T00:00:00+00:00"
          ],
          [
           "2024-10-29T00:00:00+00:00"
          ],
          [
           "2024-10-30T00:00:00+00:00"
          ],
          [
           "2024-10-31T00:00:00+00:00"
          ],
          [
           "2024-11-01T00:00:00+00:00"
          ],
          [
           "2024-11-02T00:00:00+00:00"
          ],
          [
           "2024-11-03T00:00:00+00:00"
          ],
          [
           "2024-11-04T00:00:00+00:00"
          ],
          [
           "2024-11-05T00:00:00+00:00"
          ],
          [
           "2024-11-06T00:00:00+00:00"
          ],
          [
           "2024-11-07T00:00:00+00:00"
          ],
          [
           "2024-11-08T00:00:00+00:00"
          ],
          [
           "2024-11-09T00:00:00+00:00"
          ],
          [
           "2024-11-10T00:00:00+00:00"
          ],
          [
           "2024-11-11T00:00:00+00:00"
          ],
          [
           "2024-11-12T00:00:00+00:00"
          ],
          [
           "2024-11-13T00:00:00+00:00"
          ],
          [
           "2024-11-14T00:00:00+00:00"
          ],
          [
           "2024-11-15T00:00:00+00:00"
          ],
          [
           "2024-11-16T00:00:00+00:00"
          ],
          [
           "2024-11-17T00:00:00+00:00"
          ],
          [
           "2024-11-18T00:00:00+00:00"
          ],
          [
           "2024-11-19T00:00:00+00:00"
          ],
          [
           "2024-11-20T00:00:00+00:00"
          ],
          [
           "2024-11-21T00:00:00+00:00"
          ],
          [
           "2024-11-22T00:00:00+00:00"
          ],
          [
           "2024-11-23T00:00:00+00:00"
          ],
          [
           "2024-11-24T00:00:00+00:00"
          ],
          [
           "2024-11-25T00:00:00+00:00"
          ],
          [
           "2024-11-26T00:00:00+00:00"
          ],
          [
           "2024-11-27T00:00:00+00:00"
          ],
          [
           "2024-11-28T00:00:00+00:00"
          ],
          [
           "2024-11-29T00:00:00+00:00"
          ],
          [
           "2024-11-30T00:00:00+00:00"
          ],
          [
           "2024-12-01T00:00:00+00:00"
          ],
          [
           "2024-12-02T00:00:00+00:00"
          ],
          [
           "2024-12-03T00:00:00+00:00"
          ],
          [
           "2024-12-04T00:00:00+00:00"
          ],
          [
           "2024-12-05T00:00:00+00:00"
          ],
          [
           "2024-12-06T00:00:00+00:00"
          ],
          [
           "2024-12-07T00:00:00+00:00"
          ],
          [
           "2024-12-08T00:00:00+00:00"
          ],
          [
           "2024-12-09T00:00:00+00:00"
          ],
          [
           "2024-12-10T00:00:00+00:00"
          ],
          [
           "2024-12-11T00:00:00+00:00"
          ],
          [
           "2024-12-12T00:00:00+00:00"
          ],
          [
           "2024-12-13T00:00:00+00:00"
          ],
          [
           "2024-12-14T00:00:00+00:00"
          ],
          [
           "2024-12-15T00:00:00+00:00"
          ],
          [
           "2024-12-16T00:00:00+00:00"
          ],
          [
           "2024-12-17T00:00:00+00:00"
          ],
          [
           "2024-12-18T00:00:00+00:00"
          ],
          [
           "2024-12-19T00:00:00+00:00"
          ],
          [
           "2024-12-20T00:00:00+00:00"
          ],
          [
           "2024-12-21T00:00:00+00:00"
          ],
          [
           "2024-12-22T00:00:00+00:00"
          ],
          [
           "2024-12-23T00:00:00+00:00"
          ],
          [
           "2024-12-24T00:00:00+00:00"
          ],
          [
           "2024-12-25T00:00:00+00:00"
          ],
          [
           "2024-12-26T00:00:00+00:00"
          ],
          [
           "2024-12-27T00:00:00+00:00"
          ],
          [
           "2024-12-28T00:00:00+00:00"
          ],
          [
           "2024-12-29T00:00:00+00:00"
          ],
          [
           "2024-12-30T00:00:00+00:00"
          ],
          [
           "2024-12-31T00:00:00+00:00"
          ],
          [
           "2025-01-01T00:00:00+00:00"
          ],
          [
           "2025-01-02T00:00:00+00:00"
          ],
          [
           "2025-01-03T00:00:00+00:00"
          ],
          [
           "2025-01-04T00:00:00+00:00"
          ],
          [
           "2025-01-05T00:00:00+00:00"
          ],
          [
           "2025-01-06T00:00:00+00:00"
          ],
          [
           "2025-01-07T00:00:00+00:00"
          ],
          [
           "2025-01-08T00:00:00+00:00"
          ],
          [
           "2025-01-09T00:00:00+00:00"
          ],
          [
           "2025-01-10T00:00:00+00:00"
          ],
          [
           "2025-01-11T00:00:00+00:00"
          ],
          [
           "2025-01-12T00:00:00+00:00"
          ],
          [
           "2025-01-13T00:00:00+00:00"
          ],
          [
           "2025-01-14T00:00:00+00:00"
          ],
          [
           "2025-01-15T00:00:00+00:00"
          ],
          [
           "2025-01-16T00:00:00+00:00"
          ],
          [
           "2025-01-17T00:00:00+00:00"
          ],
          [
           "2025-01-18T00:00:00+00:00"
          ],
          [
           "2025-01-19T00:00:00+00:00"
          ],
          [
           "2025-01-20T00:00:00+00:00"
          ],
          [
           "2025-01-21T00:00:00+00:00"
          ],
          [
           "2025-01-22T00:00:00+00:00"
          ],
          [
           "2025-01-23T00:00:00+00:00"
          ],
          [
           "2025-01-24T00:00:00+00:00"
          ],
          [
           "2025-01-25T00:00:00+00:00"
          ],
          [
           "2025-01-26T00:00:00+00:00"
          ],
          [
           "2025-01-27T00:00:00+00:00"
          ]
         ],
         "hovertemplate": "autopool=balETH<br>Rolling Average CR Out=%{x}<br>Gross + Price Return=%{y}<br>index=%{customdata[0]}<extra></extra>",
         "legendgroup": "balETH",
         "marker": {
          "color": "#EF553B",
          "symbol": "circle"
         },
         "mode": "markers",
         "name": "balETH",
         "orientation": "v",
         "showlegend": true,
         "type": "scatter",
         "x": [
          5.761720129942741,
          5.9869131973053085,
          6.149142119166975,
          6.27765003280331,
          6.33981111707841,
          6.396370666394968,
          6.420739596260102,
          6.448469103417384,
          6.507429137029671,
          6.53664847037644,
          6.534123695620093,
          6.555435111444342,
          6.552946502500551,
          6.533967893782976,
          6.516693171014682,
          6.523331444638402,
          6.481789962542039,
          6.452173324054295,
          6.463168559985556,
          6.469163816164981,
          6.472987254510738,
          6.480390943084939,
          6.482874282954317,
          6.506955808272738,
          6.5177966744227875,
          6.532672849825883,
          6.493244440702982,
          6.4680711917583595,
          6.441008571974038,
          6.425786479529661,
          6.410581935326008,
          6.422469139199241,
          6.410417532604384,
          6.400264875304617,
          6.379265878439602,
          6.3549676634626975,
          6.3407524471460786,
          6.314747492646495,
          6.26699683086612,
          6.244640661787617,
          6.2419900454399855,
          6.234129362892923,
          6.2335729485541425,
          6.2499604780249545,
          6.267223753047472,
          6.247613291518295,
          6.259161107657881,
          6.248148407692812,
          6.215345654960646,
          6.17433482751008,
          6.138290990852036,
          6.105656865411536,
          6.079659877281809,
          6.054952650982565,
          6.059574967878848,
          6.074953291205161,
          6.093153574877959,
          6.107058891597217,
          6.139754134146542,
          6.19012737178303,
          6.247195902980227,
          6.288545162870266,
          6.324081833078621,
          6.341654010011131,
          6.373754727244856,
          6.409491950083078,
          6.43787763861609,
          6.4665610690508375,
          6.500972081205176,
          6.538302941316236,
          6.589742800679718,
          6.6609321543149855,
          6.7133240400624645,
          6.7457806300208665,
          6.7631322660856314,
          6.782419378945297,
          6.815211391439196,
          6.853106584559138,
          6.918418076962586,
          6.98632305692737,
          7.0549862213991785,
          7.116644954719645,
          7.180917620648516,
          7.234729144576807,
          7.24570407164605,
          7.251168569007376,
          7.281837691035617,
          7.3168189127343535,
          7.337921193698596,
          7.326521947149191,
          7.303103460409468,
          7.297522432915385,
          7.312077505576851,
          7.285942786347461,
          7.275835581930688,
          7.2744565509172485,
          7.280856731198068,
          7.283392882036442,
          7.275180498306147,
          7.2641791541117025,
          7.272059113187283,
          7.257141980547149,
          7.260609803320923,
          7.265882845851815,
          7.28037727648284
         ],
         "xaxis": "x",
         "y": [
          5.951824067948342,
          6.287079398168155,
          6.692899612437696,
          7.29368736022564,
          7.208060506891438,
          7.376117431190625,
          7.393841988594521,
          7.525105375390073,
          7.485794641927092,
          7.371872307572482,
          7.424168537486262,
          7.406017402256664,
          6.120695627136709,
          5.183524475336962,
          5.475801845513359,
          5.333433401146543,
          5.195649215013594,
          5.260888147339899,
          5.0410544661737395,
          5.242637106572008,
          5.247117989583275,
          5.166579516063514,
          5.564481902360048,
          5.42196760059676,
          4.986119115141472,
          5.491139278645041,
          5.365264850080256,
          5.725429095669447,
          5.731364656059088,
          5.704683203863034,
          5.6734793133067996,
          5.695829021922535,
          5.739559990917502,
          5.717065863671016,
          5.769134739823848,
          5.91613353092052,
          5.773037953814031,
          5.791314020314964,
          5.912134082068773,
          5.72886097070284,
          6.1381468981760365,
          5.934834873264073,
          5.987916033147745,
          6.0363979598913,
          5.7190441278085,
          5.886069341021941,
          6.03474468520955,
          6.115253908631932,
          6.360975690318401,
          5.892424156135529,
          5.855379385113707,
          6.050583893641371,
          5.873039839911135,
          6.019025132849813,
          6.320884230031564,
          6.1463072057623584,
          6.407070666733978,
          5.826144184454258,
          6.130521659956842,
          6.124463653646819,
          6.33834328704754,
          6.013452734479713,
          6.16286910551576,
          6.313396680472221,
          6.382783304793736,
          6.0315251247198844,
          6.348315439439536,
          6.360665011661514,
          6.626761526074078,
          6.62443799703375,
          6.375828096857237,
          6.542136113175305,
          6.418985708500837,
          6.491063717547476,
          6.5824803994389045,
          6.655600046174961,
          6.526902826582963,
          6.515529827769235,
          6.696020556768191,
          6.854418333468894,
          7.084633511767523,
          7.08919653824149,
          7.011684698140809,
          7.295433879900474,
          7.049827439109015,
          6.975332485072389,
          7.003011280244478,
          7.37202480065868,
          7.240650886459377,
          7.3617565715995825,
          7.370581481402875,
          7.3895312386504095,
          7.454723096598069,
          7.580394349108208,
          7.594255350931808,
          7.84300675554075,
          8.0506209957596,
          7.746841902124469,
          7.16518309539099,
          7.576899027899528,
          7.477613779782986,
          7.550299893649352,
          7.60167916094172,
          7.36970744893142,
          7.6411054809435415
         ],
         "yaxis": "y"
        },
        {
         "customdata": [
          [
           "2024-10-15T00:00:00+00:00"
          ],
          [
           "2024-10-16T00:00:00+00:00"
          ],
          [
           "2024-10-17T00:00:00+00:00"
          ],
          [
           "2024-10-18T00:00:00+00:00"
          ],
          [
           "2024-10-19T00:00:00+00:00"
          ],
          [
           "2024-10-20T00:00:00+00:00"
          ],
          [
           "2024-10-21T00:00:00+00:00"
          ],
          [
           "2024-10-22T00:00:00+00:00"
          ],
          [
           "2024-10-23T00:00:00+00:00"
          ],
          [
           "2024-10-24T00:00:00+00:00"
          ],
          [
           "2024-10-25T00:00:00+00:00"
          ],
          [
           "2024-10-26T00:00:00+00:00"
          ],
          [
           "2024-10-27T00:00:00+00:00"
          ],
          [
           "2024-10-28T00:00:00+00:00"
          ],
          [
           "2024-10-29T00:00:00+00:00"
          ],
          [
           "2024-10-30T00:00:00+00:00"
          ],
          [
           "2024-10-31T00:00:00+00:00"
          ],
          [
           "2024-11-01T00:00:00+00:00"
          ],
          [
           "2024-11-02T00:00:00+00:00"
          ],
          [
           "2024-11-03T00:00:00+00:00"
          ],
          [
           "2024-11-04T00:00:00+00:00"
          ],
          [
           "2024-11-05T00:00:00+00:00"
          ],
          [
           "2024-11-06T00:00:00+00:00"
          ],
          [
           "2024-11-07T00:00:00+00:00"
          ],
          [
           "2024-11-08T00:00:00+00:00"
          ],
          [
           "2024-11-09T00:00:00+00:00"
          ],
          [
           "2024-11-10T00:00:00+00:00"
          ],
          [
           "2024-11-11T00:00:00+00:00"
          ],
          [
           "2024-11-12T00:00:00+00:00"
          ],
          [
           "2024-11-13T00:00:00+00:00"
          ],
          [
           "2024-11-14T00:00:00+00:00"
          ],
          [
           "2024-11-15T00:00:00+00:00"
          ],
          [
           "2024-11-16T00:00:00+00:00"
          ],
          [
           "2024-11-17T00:00:00+00:00"
          ],
          [
           "2024-11-18T00:00:00+00:00"
          ],
          [
           "2024-11-19T00:00:00+00:00"
          ],
          [
           "2024-11-20T00:00:00+00:00"
          ],
          [
           "2024-11-21T00:00:00+00:00"
          ],
          [
           "2024-11-22T00:00:00+00:00"
          ],
          [
           "2024-11-23T00:00:00+00:00"
          ],
          [
           "2024-11-24T00:00:00+00:00"
          ],
          [
           "2024-11-25T00:00:00+00:00"
          ],
          [
           "2024-11-26T00:00:00+00:00"
          ],
          [
           "2024-11-27T00:00:00+00:00"
          ],
          [
           "2024-11-28T00:00:00+00:00"
          ],
          [
           "2024-11-29T00:00:00+00:00"
          ],
          [
           "2024-11-30T00:00:00+00:00"
          ],
          [
           "2024-12-01T00:00:00+00:00"
          ],
          [
           "2024-12-02T00:00:00+00:00"
          ],
          [
           "2024-12-03T00:00:00+00:00"
          ],
          [
           "2024-12-04T00:00:00+00:00"
          ],
          [
           "2024-12-05T00:00:00+00:00"
          ],
          [
           "2024-12-06T00:00:00+00:00"
          ],
          [
           "2024-12-07T00:00:00+00:00"
          ],
          [
           "2024-12-08T00:00:00+00:00"
          ],
          [
           "2024-12-09T00:00:00+00:00"
          ],
          [
           "2024-12-10T00:00:00+00:00"
          ],
          [
           "2024-12-11T00:00:00+00:00"
          ],
          [
           "2024-12-12T00:00:00+00:00"
          ],
          [
           "2024-12-13T00:00:00+00:00"
          ],
          [
           "2024-12-14T00:00:00+00:00"
          ],
          [
           "2024-12-15T00:00:00+00:00"
          ],
          [
           "2024-12-16T00:00:00+00:00"
          ],
          [
           "2024-12-17T00:00:00+00:00"
          ],
          [
           "2024-12-18T00:00:00+00:00"
          ],
          [
           "2024-12-19T00:00:00+00:00"
          ],
          [
           "2024-12-20T00:00:00+00:00"
          ],
          [
           "2024-12-21T00:00:00+00:00"
          ],
          [
           "2024-12-22T00:00:00+00:00"
          ],
          [
           "2024-12-23T00:00:00+00:00"
          ],
          [
           "2024-12-24T00:00:00+00:00"
          ],
          [
           "2024-12-25T00:00:00+00:00"
          ],
          [
           "2024-12-26T00:00:00+00:00"
          ],
          [
           "2024-12-27T00:00:00+00:00"
          ],
          [
           "2024-12-28T00:00:00+00:00"
          ],
          [
           "2024-12-29T00:00:00+00:00"
          ],
          [
           "2024-12-30T00:00:00+00:00"
          ],
          [
           "2024-12-31T00:00:00+00:00"
          ],
          [
           "2025-01-01T00:00:00+00:00"
          ],
          [
           "2025-01-02T00:00:00+00:00"
          ],
          [
           "2025-01-03T00:00:00+00:00"
          ],
          [
           "2025-01-04T00:00:00+00:00"
          ],
          [
           "2025-01-05T00:00:00+00:00"
          ],
          [
           "2025-01-06T00:00:00+00:00"
          ],
          [
           "2025-01-07T00:00:00+00:00"
          ],
          [
           "2025-01-08T00:00:00+00:00"
          ],
          [
           "2025-01-09T00:00:00+00:00"
          ],
          [
           "2025-01-10T00:00:00+00:00"
          ],
          [
           "2025-01-11T00:00:00+00:00"
          ],
          [
           "2025-01-12T00:00:00+00:00"
          ],
          [
           "2025-01-13T00:00:00+00:00"
          ],
          [
           "2025-01-14T00:00:00+00:00"
          ],
          [
           "2025-01-15T00:00:00+00:00"
          ],
          [
           "2025-01-16T00:00:00+00:00"
          ],
          [
           "2025-01-17T00:00:00+00:00"
          ],
          [
           "2025-01-18T00:00:00+00:00"
          ],
          [
           "2025-01-19T00:00:00+00:00"
          ],
          [
           "2025-01-20T00:00:00+00:00"
          ],
          [
           "2025-01-21T00:00:00+00:00"
          ],
          [
           "2025-01-22T00:00:00+00:00"
          ],
          [
           "2025-01-23T00:00:00+00:00"
          ],
          [
           "2025-01-24T00:00:00+00:00"
          ],
          [
           "2025-01-25T00:00:00+00:00"
          ],
          [
           "2025-01-26T00:00:00+00:00"
          ],
          [
           "2025-01-27T00:00:00+00:00"
          ]
         ],
         "hovertemplate": "autopool=autoLRT<br>Rolling Average CR Out=%{x}<br>Gross + Price Return=%{y}<br>index=%{customdata[0]}<extra></extra>",
         "legendgroup": "autoLRT",
         "marker": {
          "color": "#00cc96",
          "symbol": "circle"
         },
         "mode": "markers",
         "name": "autoLRT",
         "orientation": "v",
         "showlegend": true,
         "type": "scatter",
         "x": [
          5.402321362673587,
          5.5632008863694065,
          5.647083394192916,
          5.761037086515239,
          5.78955064903435,
          5.862798051478915,
          5.905574287898015,
          5.919583964486075,
          5.92893442006323,
          5.913535300027431,
          5.863501888380252,
          5.814792074262793,
          5.765423043103923,
          5.733822838455217,
          5.689648716359002,
          5.655806652694855,
          5.6069461969858,
          5.560829620967438,
          5.539078753902105,
          5.49307577569416,
          5.462907347723087,
          5.427026821904843,
          5.395719680209657,
          5.414691053854491,
          5.411226131002597,
          5.429695782497578,
          5.4506095715750815,
          5.4719081004148125,
          5.48584925994867,
          5.507297532621921,
          5.53843137620667,
          5.579596990939373,
          5.594539562712701,
          5.565653009800414,
          5.54682289767719,
          5.5148294608217885,
          5.506377206496585,
          5.4960902620981456,
          5.476960511207803,
          5.4825833263120805,
          5.534320487026396,
          5.581318875024479,
          5.627833888404172,
          5.67148299302265,
          5.713454972422321,
          5.7373036946327245,
          5.755150476881487,
          5.776796266736215,
          5.800082365802913,
          5.841384167911149,
          5.880469051313139,
          5.95730009616019,
          6.043663204500551,
          6.050160762069939,
          6.097919164801497,
          6.153202122809651,
          6.210665437554539,
          6.276075102174749,
          6.415000091379849,
          6.5105305138379945,
          6.60327607692659,
          6.694570711723576,
          6.766546217095598,
          6.867948871291529,
          6.959805393514541,
          7.045147417659804,
          7.111699107653924,
          7.16879646766446,
          7.232077349581711,
          7.299620301510657,
          7.374611141502057,
          7.450620056531946,
          7.515078998727629,
          7.594857971396651,
          7.656467223964915,
          7.732277211131168,
          7.806984905411428,
          7.886461792426301,
          7.960407989863496,
          8.0220174086543,
          8.082400928368479,
          8.10472913392046,
          8.117991139501102,
          8.156610855546052,
          8.181665571627475,
          8.189040040048342,
          8.19511230424322,
          8.193502608550089,
          8.12710545273296,
          8.104328749875389,
          8.069321868981653,
          8.033165971562177,
          8.019457011804157,
          8.00274067785718,
          8.003075523621122,
          8.020574550882028,
          8.050667409450988,
          8.079707086240045,
          8.106703876631448,
          8.122649195274372,
          8.173875866146476,
          8.214691516629587,
          8.25433647217199,
          8.258766731556426,
          8.276686133680553
         ],
         "xaxis": "x",
         "y": [
          4.76208377929803,
          4.875712814363002,
          4.879571148447792,
          5.1645362712958125,
          4.850724322960626,
          5.577096922421418,
          5.295425145614727,
          5.676655824549459,
          5.593581047222772,
          5.534204968500909,
          5.670563479818405,
          5.859186868298351,
          5.411660926133421,
          4.051461013528456,
          4.376535299822617,
          4.569346466533054,
          4.536234037214031,
          3.7459621604396003,
          4.4064169261704595,
          3.829297702452789,
          4.048266287563529,
          3.89361191016093,
          4.267137480890524,
          4.052219629954162,
          3.9443052385966886,
          4.126215406111571,
          3.9358433098934675,
          4.3319623656164845,
          4.172894733953422,
          3.9323805744487528,
          4.208664671651881,
          4.717646546261068,
          3.9470616229620306,
          4.784772492233451,
          4.987582210772254,
          4.5597128988161915,
          4.871303554640788,
          4.148474783774557,
          4.9753487402257655,
          4.719709932370993,
          4.968406385806667,
          4.242879152894545,
          4.823995136733415,
          4.731418817956709,
          4.820585589559671,
          4.73641340778664,
          4.4756245744416665,
          5.248287295040585,
          4.3112248967233455,
          4.934799998618564,
          4.398912071767413,
          5.032689702471611,
          4.934343367454992,
          5.1423145709250475,
          5.193777749941568,
          5.131940837473671,
          5.621900328111874,
          5.199278062136327,
          5.731389977082879,
          6.204320469072013,
          5.930298918643198,
          5.531087190359558,
          6.655211265747234,
          6.078782702850549,
          6.163011960878153,
          5.562105610593431,
          6.1229245861938555,
          6.488909182062337,
          5.980629282439312,
          5.877298977444845,
          5.863160026391905,
          6.627182005149542,
          6.029069095676027,
          6.245287011351291,
          5.825723938884129,
          6.240680788558614,
          6.363748764523575,
          6.555762460811383,
          7.010997899126065,
          7.115242618298558,
          7.398440037280397,
          7.06158768898598,
          7.055763002665332,
          7.000797295331853,
          6.59170778342972,
          6.7492671839211145,
          6.34475679661893,
          6.575685670560497,
          6.205398471624442,
          6.276392078020065,
          6.368874080354723,
          6.374884610488146,
          6.154983936342715,
          6.034213476978469,
          6.001281877175171,
          6.7390086357401,
          6.337780666600917,
          6.530652709655955,
          5.860688165581739,
          6.153293770624939,
          6.076414503980814,
          5.9885196408791375,
          6.357902717655747,
          5.971971292242526,
          6.29103814135792
         ],
         "yaxis": "y"
        },
        {
         "customdata": [
          [
           "2024-12-03T00:00:00+00:00"
          ],
          [
           "2024-12-04T00:00:00+00:00"
          ],
          [
           "2024-12-05T00:00:00+00:00"
          ],
          [
           "2024-12-06T00:00:00+00:00"
          ],
          [
           "2024-12-07T00:00:00+00:00"
          ],
          [
           "2024-12-08T00:00:00+00:00"
          ],
          [
           "2024-12-09T00:00:00+00:00"
          ],
          [
           "2024-12-10T00:00:00+00:00"
          ],
          [
           "2024-12-11T00:00:00+00:00"
          ],
          [
           "2024-12-12T00:00:00+00:00"
          ],
          [
           "2024-12-13T00:00:00+00:00"
          ],
          [
           "2024-12-14T00:00:00+00:00"
          ],
          [
           "2024-12-15T00:00:00+00:00"
          ],
          [
           "2024-12-16T00:00:00+00:00"
          ],
          [
           "2024-12-17T00:00:00+00:00"
          ],
          [
           "2024-12-18T00:00:00+00:00"
          ],
          [
           "2024-12-19T00:00:00+00:00"
          ],
          [
           "2024-12-20T00:00:00+00:00"
          ],
          [
           "2024-12-21T00:00:00+00:00"
          ],
          [
           "2024-12-22T00:00:00+00:00"
          ],
          [
           "2024-12-23T00:00:00+00:00"
          ],
          [
           "2024-12-24T00:00:00+00:00"
          ],
          [
           "2024-12-25T00:00:00+00:00"
          ],
          [
           "2024-12-26T00:00:00+00:00"
          ],
          [
           "2024-12-27T00:00:00+00:00"
          ],
          [
           "2024-12-28T00:00:00+00:00"
          ],
          [
           "2024-12-29T00:00:00+00:00"
          ],
          [
           "2024-12-30T00:00:00+00:00"
          ],
          [
           "2024-12-31T00:00:00+00:00"
          ],
          [
           "2025-01-01T00:00:00+00:00"
          ],
          [
           "2025-01-02T00:00:00+00:00"
          ],
          [
           "2025-01-03T00:00:00+00:00"
          ],
          [
           "2025-01-04T00:00:00+00:00"
          ],
          [
           "2025-01-05T00:00:00+00:00"
          ],
          [
           "2025-01-06T00:00:00+00:00"
          ],
          [
           "2025-01-07T00:00:00+00:00"
          ],
          [
           "2025-01-08T00:00:00+00:00"
          ],
          [
           "2025-01-09T00:00:00+00:00"
          ],
          [
           "2025-01-10T00:00:00+00:00"
          ],
          [
           "2025-01-11T00:00:00+00:00"
          ],
          [
           "2025-01-12T00:00:00+00:00"
          ],
          [
           "2025-01-13T00:00:00+00:00"
          ],
          [
           "2025-01-14T00:00:00+00:00"
          ],
          [
           "2025-01-15T00:00:00+00:00"
          ],
          [
           "2025-01-16T00:00:00+00:00"
          ],
          [
           "2025-01-17T00:00:00+00:00"
          ],
          [
           "2025-01-18T00:00:00+00:00"
          ],
          [
           "2025-01-19T00:00:00+00:00"
          ],
          [
           "2025-01-20T00:00:00+00:00"
          ],
          [
           "2025-01-21T00:00:00+00:00"
          ],
          [
           "2025-01-22T00:00:00+00:00"
          ],
          [
           "2025-01-23T00:00:00+00:00"
          ],
          [
           "2025-01-24T00:00:00+00:00"
          ],
          [
           "2025-01-25T00:00:00+00:00"
          ],
          [
           "2025-01-26T00:00:00+00:00"
          ],
          [
           "2025-01-27T00:00:00+00:00"
          ]
         ],
         "hovertemplate": "autopool=baseETH<br>Rolling Average CR Out=%{x}<br>Gross + Price Return=%{y}<br>index=%{customdata[0]}<extra></extra>",
         "legendgroup": "baseETH",
         "marker": {
          "color": "#ab63fa",
          "symbol": "circle"
         },
         "mode": "markers",
         "name": "baseETH",
         "orientation": "v",
         "showlegend": true,
         "type": "scatter",
         "x": [
          5.001436760530945,
          5.224857364418537,
          5.233267009174898,
          5.2640981566277665,
          5.2959395950002115,
          5.325076163730429,
          5.463225166939815,
          5.596146843304703,
          5.731793973326165,
          5.8528326326323015,
          6.038295002638802,
          6.2225338734658235,
          6.389983637147335,
          6.538699867758267,
          6.669869196304717,
          6.75012257749322,
          6.825026874866242,
          6.898480392560429,
          6.948135546444108,
          7.001198981720316,
          7.04984590314714,
          7.085934737231157,
          7.108592391676917,
          7.137359232465497,
          7.162687400334141,
          7.176268686753957,
          7.1875167298175064,
          7.172880828737515,
          7.1730957251469984,
          7.146214882982262,
          7.125636182809858,
          7.092176378308136,
          7.068134526558619,
          7.010991254960953,
          6.954711421475208,
          6.889609989113329,
          6.8249721079843955,
          6.769654382942552,
          6.7162556363055534,
          6.641778800030995,
          6.584808493833532,
          6.530719907018591,
          6.468104000786576,
          6.407518590233465,
          6.3488575000496095,
          6.294252704616578,
          6.241086355679721,
          6.178564161028026,
          5.9191435058692825,
          5.854629097442686,
          5.787039366098851,
          5.75881155212795,
          5.731644176256011,
          5.710168329152917,
          5.701430611145906,
          5.71769224222658
         ],
         "xaxis": "x",
         "y": [
          7.6989905251998385,
          7.686192232099206,
          6.082042804415764,
          6.929316059343646,
          7.134714884905463,
          8.766246809665075,
          9.97907068087459,
          9.464209425459233,
          9.62115043836872,
          10.518523210768226,
          9.46953001022274,
          8.053655130330174,
          8.370788063873231,
          8.761795781059,
          8.748080582468646,
          8.035292381619824,
          8.188384559397225,
          7.632062037407526,
          8.64005162979153,
          7.911004088556321,
          8.377315429949117,
          10.101049936800461,
          8.375944803728563,
          8.563117823425365,
          9.763718708330467,
          9.392950882796251,
          9.368492953612687,
          9.01292892473384,
          9.839983296115822,
          8.889192223093016,
          9.66592458311718,
          9.07284798002315,
          9.415353169341085,
          8.491415191083787,
          8.83813813227855,
          8.44860477331313,
          7.090275091973814,
          8.331924622654347,
          8.029442206478173,
          7.182461681409153,
          7.670536414821338,
          8.13802475889528,
          7.5046749478759205,
          8.130678211766677,
          9.005929507780767,
          8.120246598368585,
          8.733403856059446,
          9.199470718472384,
          0.4333723158599394,
          6.9331014272532965,
          6.633145314790028,
          6.5607766830540335,
          5.868896105762271,
          6.16036396384424,
          5.020626182151737,
          5.953042639860806
         ],
         "yaxis": "y"
        },
        {
         "line": {
          "color": "black",
          "dash": "dash"
         },
         "mode": "lines",
         "name": "1:1",
         "type": "scatter",
         "x": [
          0,
          10
         ],
         "y": [
          0,
          10
         ]
        }
       ],
       "layout": {
        "legend": {
         "title": {
          "text": "autopool"
         },
         "tracegroupgap": 0
        },
        "template": {
         "data": {
          "bar": [
           {
            "error_x": {
             "color": "#2a3f5f"
            },
            "error_y": {
             "color": "#2a3f5f"
            },
            "marker": {
             "line": {
              "color": "#E5ECF6",
              "width": 0.5
             },
             "pattern": {
              "fillmode": "overlay",
              "size": 10,
              "solidity": 0.2
             }
            },
            "type": "bar"
           }
          ],
          "barpolar": [
           {
            "marker": {
             "line": {
              "color": "#E5ECF6",
              "width": 0.5
             },
             "pattern": {
              "fillmode": "overlay",
              "size": 10,
              "solidity": 0.2
             }
            },
            "type": "barpolar"
           }
          ],
          "carpet": [
           {
            "aaxis": {
             "endlinecolor": "#2a3f5f",
             "gridcolor": "white",
             "linecolor": "white",
             "minorgridcolor": "white",
             "startlinecolor": "#2a3f5f"
            },
            "baxis": {
             "endlinecolor": "#2a3f5f",
             "gridcolor": "white",
             "linecolor": "white",
             "minorgridcolor": "white",
             "startlinecolor": "#2a3f5f"
            },
            "type": "carpet"
           }
          ],
          "choropleth": [
           {
            "colorbar": {
             "outlinewidth": 0,
             "ticks": ""
            },
            "type": "choropleth"
           }
          ],
          "contour": [
           {
            "colorbar": {
             "outlinewidth": 0,
             "ticks": ""
            },
            "colorscale": [
             [
              0,
              "#0d0887"
             ],
             [
              0.1111111111111111,
              "#46039f"
             ],
             [
              0.2222222222222222,
              "#7201a8"
             ],
             [
              0.3333333333333333,
              "#9c179e"
             ],
             [
              0.4444444444444444,
              "#bd3786"
             ],
             [
              0.5555555555555556,
              "#d8576b"
             ],
             [
              0.6666666666666666,
              "#ed7953"
             ],
             [
              0.7777777777777778,
              "#fb9f3a"
             ],
             [
              0.8888888888888888,
              "#fdca26"
             ],
             [
              1,
              "#f0f921"
             ]
            ],
            "type": "contour"
           }
          ],
          "contourcarpet": [
           {
            "colorbar": {
             "outlinewidth": 0,
             "ticks": ""
            },
            "type": "contourcarpet"
           }
          ],
          "heatmap": [
           {
            "colorbar": {
             "outlinewidth": 0,
             "ticks": ""
            },
            "colorscale": [
             [
              0,
              "#0d0887"
             ],
             [
              0.1111111111111111,
              "#46039f"
             ],
             [
              0.2222222222222222,
              "#7201a8"
             ],
             [
              0.3333333333333333,
              "#9c179e"
             ],
             [
              0.4444444444444444,
              "#bd3786"
             ],
             [
              0.5555555555555556,
              "#d8576b"
             ],
             [
              0.6666666666666666,
              "#ed7953"
             ],
             [
              0.7777777777777778,
              "#fb9f3a"
             ],
             [
              0.8888888888888888,
              "#fdca26"
             ],
             [
              1,
              "#f0f921"
             ]
            ],
            "type": "heatmap"
           }
          ],
          "heatmapgl": [
           {
            "colorbar": {
             "outlinewidth": 0,
             "ticks": ""
            },
            "colorscale": [
             [
              0,
              "#0d0887"
             ],
             [
              0.1111111111111111,
              "#46039f"
             ],
             [
              0.2222222222222222,
              "#7201a8"
             ],
             [
              0.3333333333333333,
              "#9c179e"
             ],
             [
              0.4444444444444444,
              "#bd3786"
             ],
             [
              0.5555555555555556,
              "#d8576b"
             ],
             [
              0.6666666666666666,
              "#ed7953"
             ],
             [
              0.7777777777777778,
              "#fb9f3a"
             ],
             [
              0.8888888888888888,
              "#fdca26"
             ],
             [
              1,
              "#f0f921"
             ]
            ],
            "type": "heatmapgl"
           }
          ],
          "histogram": [
           {
            "marker": {
             "pattern": {
              "fillmode": "overlay",
              "size": 10,
              "solidity": 0.2
             }
            },
            "type": "histogram"
           }
          ],
          "histogram2d": [
           {
            "colorbar": {
             "outlinewidth": 0,
             "ticks": ""
            },
            "colorscale": [
             [
              0,
              "#0d0887"
             ],
             [
              0.1111111111111111,
              "#46039f"
             ],
             [
              0.2222222222222222,
              "#7201a8"
             ],
             [
              0.3333333333333333,
              "#9c179e"
             ],
             [
              0.4444444444444444,
              "#bd3786"
             ],
             [
              0.5555555555555556,
              "#d8576b"
             ],
             [
              0.6666666666666666,
              "#ed7953"
             ],
             [
              0.7777777777777778,
              "#fb9f3a"
             ],
             [
              0.8888888888888888,
              "#fdca26"
             ],
             [
              1,
              "#f0f921"
             ]
            ],
            "type": "histogram2d"
           }
          ],
          "histogram2dcontour": [
           {
            "colorbar": {
             "outlinewidth": 0,
             "ticks": ""
            },
            "colorscale": [
             [
              0,
              "#0d0887"
             ],
             [
              0.1111111111111111,
              "#46039f"
             ],
             [
              0.2222222222222222,
              "#7201a8"
             ],
             [
              0.3333333333333333,
              "#9c179e"
             ],
             [
              0.4444444444444444,
              "#bd3786"
             ],
             [
              0.5555555555555556,
              "#d8576b"
             ],
             [
              0.6666666666666666,
              "#ed7953"
             ],
             [
              0.7777777777777778,
              "#fb9f3a"
             ],
             [
              0.8888888888888888,
              "#fdca26"
             ],
             [
              1,
              "#f0f921"
             ]
            ],
            "type": "histogram2dcontour"
           }
          ],
          "mesh3d": [
           {
            "colorbar": {
             "outlinewidth": 0,
             "ticks": ""
            },
            "type": "mesh3d"
           }
          ],
          "parcoords": [
           {
            "line": {
             "colorbar": {
              "outlinewidth": 0,
              "ticks": ""
             }
            },
            "type": "parcoords"
           }
          ],
          "pie": [
           {
            "automargin": true,
            "type": "pie"
           }
          ],
          "scatter": [
           {
            "fillpattern": {
             "fillmode": "overlay",
             "size": 10,
             "solidity": 0.2
            },
            "type": "scatter"
           }
          ],
          "scatter3d": [
           {
            "line": {
             "colorbar": {
              "outlinewidth": 0,
              "ticks": ""
             }
            },
            "marker": {
             "colorbar": {
              "outlinewidth": 0,
              "ticks": ""
             }
            },
            "type": "scatter3d"
           }
          ],
          "scattercarpet": [
           {
            "marker": {
             "colorbar": {
              "outlinewidth": 0,
              "ticks": ""
             }
            },
            "type": "scattercarpet"
           }
          ],
          "scattergeo": [
           {
            "marker": {
             "colorbar": {
              "outlinewidth": 0,
              "ticks": ""
             }
            },
            "type": "scattergeo"
           }
          ],
          "scattergl": [
           {
            "marker": {
             "colorbar": {
              "outlinewidth": 0,
              "ticks": ""
             }
            },
            "type": "scattergl"
           }
          ],
          "scattermapbox": [
           {
            "marker": {
             "colorbar": {
              "outlinewidth": 0,
              "ticks": ""
             }
            },
            "type": "scattermapbox"
           }
          ],
          "scatterpolar": [
           {
            "marker": {
             "colorbar": {
              "outlinewidth": 0,
              "ticks": ""
             }
            },
            "type": "scatterpolar"
           }
          ],
          "scatterpolargl": [
           {
            "marker": {
             "colorbar": {
              "outlinewidth": 0,
              "ticks": ""
             }
            },
            "type": "scatterpolargl"
           }
          ],
          "scatterternary": [
           {
            "marker": {
             "colorbar": {
              "outlinewidth": 0,
              "ticks": ""
             }
            },
            "type": "scatterternary"
           }
          ],
          "surface": [
           {
            "colorbar": {
             "outlinewidth": 0,
             "ticks": ""
            },
            "colorscale": [
             [
              0,
              "#0d0887"
             ],
             [
              0.1111111111111111,
              "#46039f"
             ],
             [
              0.2222222222222222,
              "#7201a8"
             ],
             [
              0.3333333333333333,
              "#9c179e"
             ],
             [
              0.4444444444444444,
              "#bd3786"
             ],
             [
              0.5555555555555556,
              "#d8576b"
             ],
             [
              0.6666666666666666,
              "#ed7953"
             ],
             [
              0.7777777777777778,
              "#fb9f3a"
             ],
             [
              0.8888888888888888,
              "#fdca26"
             ],
             [
              1,
              "#f0f921"
             ]
            ],
            "type": "surface"
           }
          ],
          "table": [
           {
            "cells": {
             "fill": {
              "color": "#EBF0F8"
             },
             "line": {
              "color": "white"
             }
            },
            "header": {
             "fill": {
              "color": "#C8D4E3"
             },
             "line": {
              "color": "white"
             }
            },
            "type": "table"
           }
          ]
         },
         "layout": {
          "annotationdefaults": {
           "arrowcolor": "#2a3f5f",
           "arrowhead": 0,
           "arrowwidth": 1
          },
          "autotypenumbers": "strict",
          "coloraxis": {
           "colorbar": {
            "outlinewidth": 0,
            "ticks": ""
           }
          },
          "colorscale": {
           "diverging": [
            [
             0,
             "#8e0152"
            ],
            [
             0.1,
             "#c51b7d"
            ],
            [
             0.2,
             "#de77ae"
            ],
            [
             0.3,
             "#f1b6da"
            ],
            [
             0.4,
             "#fde0ef"
            ],
            [
             0.5,
             "#f7f7f7"
            ],
            [
             0.6,
             "#e6f5d0"
            ],
            [
             0.7,
             "#b8e186"
            ],
            [
             0.8,
             "#7fbc41"
            ],
            [
             0.9,
             "#4d9221"
            ],
            [
             1,
             "#276419"
            ]
           ],
           "sequential": [
            [
             0,
             "#0d0887"
            ],
            [
             0.1111111111111111,
             "#46039f"
            ],
            [
             0.2222222222222222,
             "#7201a8"
            ],
            [
             0.3333333333333333,
             "#9c179e"
            ],
            [
             0.4444444444444444,
             "#bd3786"
            ],
            [
             0.5555555555555556,
             "#d8576b"
            ],
            [
             0.6666666666666666,
             "#ed7953"
            ],
            [
             0.7777777777777778,
             "#fb9f3a"
            ],
            [
             0.8888888888888888,
             "#fdca26"
            ],
            [
             1,
             "#f0f921"
            ]
           ],
           "sequentialminus": [
            [
             0,
             "#0d0887"
            ],
            [
             0.1111111111111111,
             "#46039f"
            ],
            [
             0.2222222222222222,
             "#7201a8"
            ],
            [
             0.3333333333333333,
             "#9c179e"
            ],
            [
             0.4444444444444444,
             "#bd3786"
            ],
            [
             0.5555555555555556,
             "#d8576b"
            ],
            [
             0.6666666666666666,
             "#ed7953"
            ],
            [
             0.7777777777777778,
             "#fb9f3a"
            ],
            [
             0.8888888888888888,
             "#fdca26"
            ],
            [
             1,
             "#f0f921"
            ]
           ]
          },
          "colorway": [
           "#636efa",
           "#EF553B",
           "#00cc96",
           "#ab63fa",
           "#FFA15A",
           "#19d3f3",
           "#FF6692",
           "#B6E880",
           "#FF97FF",
           "#FECB52"
          ],
          "font": {
           "color": "#2a3f5f"
          },
          "geo": {
           "bgcolor": "white",
           "lakecolor": "white",
           "landcolor": "#E5ECF6",
           "showlakes": true,
           "showland": true,
           "subunitcolor": "white"
          },
          "hoverlabel": {
           "align": "left"
          },
          "hovermode": "closest",
          "mapbox": {
           "style": "light"
          },
          "paper_bgcolor": "white",
          "plot_bgcolor": "#E5ECF6",
          "polar": {
           "angularaxis": {
            "gridcolor": "white",
            "linecolor": "white",
            "ticks": ""
           },
           "bgcolor": "#E5ECF6",
           "radialaxis": {
            "gridcolor": "white",
            "linecolor": "white",
            "ticks": ""
           }
          },
          "scene": {
           "xaxis": {
            "backgroundcolor": "#E5ECF6",
            "gridcolor": "white",
            "gridwidth": 2,
            "linecolor": "white",
            "showbackground": true,
            "ticks": "",
            "zerolinecolor": "white"
           },
           "yaxis": {
            "backgroundcolor": "#E5ECF6",
            "gridcolor": "white",
            "gridwidth": 2,
            "linecolor": "white",
            "showbackground": true,
            "ticks": "",
            "zerolinecolor": "white"
           },
           "zaxis": {
            "backgroundcolor": "#E5ECF6",
            "gridcolor": "white",
            "gridwidth": 2,
            "linecolor": "white",
            "showbackground": true,
            "ticks": "",
            "zerolinecolor": "white"
           }
          },
          "shapedefaults": {
           "line": {
            "color": "#2a3f5f"
           }
          },
          "ternary": {
           "aaxis": {
            "gridcolor": "white",
            "linecolor": "white",
            "ticks": ""
           },
           "baxis": {
            "gridcolor": "white",
            "linecolor": "white",
            "ticks": ""
           },
           "bgcolor": "#E5ECF6",
           "caxis": {
            "gridcolor": "white",
            "linecolor": "white",
            "ticks": ""
           }
          },
          "title": {
           "x": 0.05
          },
          "xaxis": {
           "automargin": true,
           "gridcolor": "white",
           "linecolor": "white",
           "ticks": "",
           "title": {
            "standoff": 15
           },
           "zerolinecolor": "white",
           "zerolinewidth": 2
          },
          "yaxis": {
           "automargin": true,
           "gridcolor": "white",
           "linecolor": "white",
           "ticks": "",
           "title": {
            "standoff": 15
           },
           "zerolinecolor": "white",
           "zerolinewidth": 2
          }
         }
        },
        "title": {
         "text": "30 day CR out vs Gross + Price Return"
        },
        "xaxis": {
         "anchor": "y",
         "domain": [
          0,
          1
         ],
         "range": [
          0,
          10
         ],
         "title": {
          "text": "Rolling Average CR Out"
         }
        },
        "yaxis": {
         "anchor": "x",
         "domain": [
          0,
          1
         ],
         "range": [
          0,
          10
         ],
         "title": {
          "text": "Gross + Price Return"
         }
        }
       }
      }
     },
     "metadata": {},
     "output_type": "display_data"
    }
   ],
   "source": [
    "import plotly.express as px\n",
    "import plotly.io as pio\n",
    "\n",
    "pio.templates.default = None\n",
    "\n",
    "import plotly.graph_objects as go\n",
    "\n",
    "\n",
    "def make_scatterplot(df, x_col, y_col):\n",
    "    # Create the scatter plot\n",
    "    fig = px.scatter(\n",
    "        df,\n",
    "        x=x_col,\n",
    "        y=y_col,\n",
    "        color=\"autopool\",\n",
    "        hover_data={\"index\": df.index},\n",
    "        title=\"30 day CR out vs Gross + Price Return\",\n",
    "    )\n",
    "\n",
    "    # Update the axes range to be between 0 and 10\n",
    "    fig.update_layout(xaxis=dict(range=[0, 10]), yaxis=dict(range=[0, 10]))\n",
    "\n",
    "    # Add a diagonal line x = y\n",
    "    fig.add_trace(go.Scatter(x=[0, 10], y=[0, 10], mode=\"lines\", line=dict(color=\"black\", dash=\"dash\"), name=\"1:1\"))\n",
    "\n",
    "    # Show the plot\n",
    "    return fig\n",
    "\n",
    "\n",
    "# get rid of a the missing data,\n",
    "make_scatterplot(df, \"Rolling Average CR Out\", \"Gross + Price Return\").show()"
   ]
  },
  {
   "cell_type": "code",
   "execution_count": 59,
   "metadata": {},
   "outputs": [
    {
     "data": {
      "text/plain": [
       "np.float64(0.6072536214176618)"
      ]
     },
     "execution_count": 59,
     "metadata": {},
     "output_type": "execute_result"
    }
   ],
   "source": [
    "import numpy as np\n",
    "\n",
    "root_mean_squared_error = np.sqrt(\n",
    "    np.mean(\n",
    "        (\n",
    "            df[df[\"autopool\"] == \"balETH\"][\"Gross + Price Return\"]\n",
    "            - df[df[\"autopool\"] == \"balETH\"][\"Rolling Average CR Out\"]\n",
    "        )\n",
    "        ** 2\n",
    "    )\n",
    ")\n",
    "root_mean_squared_error"
   ]
  },
  {
   "cell_type": "code",
   "execution_count": 75,
   "metadata": {},
   "outputs": [
    {
     "name": "stdout",
     "output_type": "stream",
     "text": [
      "Root Mean Squared Error: 0.6072536214176618, Correlation: 0.6734223910923852, MAD: 0.4592022269779967, Autopool: balETH\n",
      "Root Mean Squared Error: 0.5763806021574792, Correlation: 0.9525840597781101, MAD: 0.4647691253646756, Autopool: autoETH\n",
      "Root Mean Squared Error: 1.2788085815703853, Correlation: 0.8790374126916494, MAD: 1.1699252479540914, Autopool: autoLRT\n",
      "2024-10-15 00:00:00+00:00\n"
     ]
    }
   ],
   "source": [
    "for autopool in [\"balETH\", \"autoETH\", \"autoLRT\"]:\n",
    "    # Calculate Root Mean Squared Error\n",
    "    root_mean_squared_error = np.sqrt(\n",
    "        np.mean(\n",
    "            (\n",
    "                df[df[\"autopool\"] == autopool][\"Rolling Average CR Out\"]\n",
    "                - df[df[\"autopool\"] == autopool][\"Gross + Price Return\"]\n",
    "            )\n",
    "            ** 2\n",
    "        )\n",
    "    )\n",
    "\n",
    "    # Calculate Correlation\n",
    "    corr = df[df[\"autopool\"] == autopool][[\"Rolling Average CR Out\", \"Gross + Price Return\"]].corr().values[0, 1]\n",
    "\n",
    "    # Calculate Mean Absolute Deviation (MAD)\n",
    "    mad = np.mean(\n",
    "        np.abs(\n",
    "            df[df[\"autopool\"] == autopool][\"Rolling Average CR Out\"]\n",
    "            - df[df[\"autopool\"] == autopool][\"Gross + Price Return\"]\n",
    "        )\n",
    "    )\n",
    "\n",
    "    # Print Results\n",
    "    print(f\"Root Mean Squared Error: {root_mean_squared_error}, Correlation: {corr}, MAD: {mad}, Autopool: {autopool}\")\n",
    "\n",
    "print(df.index.min())"
   ]
  },
  {
   "cell_type": "code",
   "execution_count": 61,
   "metadata": {},
   "outputs": [
    {
     "data": {
      "text/plain": [
       "np.float64(nan)"
      ]
     },
     "execution_count": 61,
     "metadata": {},
     "output_type": "execute_result"
    }
   ],
   "source": [
    "import numpy as np\n",
    "\n",
    "\n",
    "root_mean_squared_error = np.sqrt(\n",
    "    np.mean(\n",
    "        (\n",
    "            df[df[\"autopool\"] == \"Gross + Price Return\"][\"Rolling Average CR Out\"]\n",
    "            - df[df[\"autopool\"] == \"balETH\"][\"Rolling Average CR Out\"]\n",
    "        )\n",
    "        ** 2\n",
    "    )\n",
    ")\n",
    "root_mean_squared_error"
   ]
  },
  {
   "cell_type": "code",
   "execution_count": 62,
   "metadata": {},
   "outputs": [],
   "source": [
    "# 11 -8, 10 - 22, 10 - 18, 10 -25, 11-02"
   ]
  },
  {
   "cell_type": "code",
   "execution_count": 63,
   "metadata": {},
   "outputs": [
    {
     "data": {
      "text/plain": [
       "Timestamp('2024-10-15 00:00:00+0000', tz='UTC')"
      ]
     },
     "execution_count": 63,
     "metadata": {},
     "output_type": "execute_result"
    }
   ],
   "source": [
    "df.index.min()"
   ]
  },
  {
   "cell_type": "code",
   "execution_count": 64,
   "metadata": {},
   "outputs": [
    {
     "data": {
      "text/html": [
       "<div>\n",
       "<style scoped>\n",
       "    .dataframe tbody tr th:only-of-type {\n",
       "        vertical-align: middle;\n",
       "    }\n",
       "\n",
       "    .dataframe tbody tr th {\n",
       "        vertical-align: top;\n",
       "    }\n",
       "\n",
       "    .dataframe thead th {\n",
       "        text-align: right;\n",
       "    }\n",
       "</style>\n",
       "<table border=\"1\" class=\"dataframe\">\n",
       "  <thead>\n",
       "    <tr style=\"text-align: right;\">\n",
       "      <th></th>\n",
       "      <th>Rolling Average CR Out</th>\n",
       "      <th>Gross + Price Return</th>\n",
       "    </tr>\n",
       "  </thead>\n",
       "  <tbody>\n",
       "    <tr>\n",
       "      <th>Rolling Average CR Out</th>\n",
       "      <td>1.000000</td>\n",
       "      <td>0.952584</td>\n",
       "    </tr>\n",
       "    <tr>\n",
       "      <th>Gross + Price Return</th>\n",
       "      <td>0.952584</td>\n",
       "      <td>1.000000</td>\n",
       "    </tr>\n",
       "  </tbody>\n",
       "</table>\n",
       "</div>"
      ],
      "text/plain": [
       "                        Rolling Average CR Out  Gross + Price Return\n",
       "Rolling Average CR Out                1.000000              0.952584\n",
       "Gross + Price Return                  0.952584              1.000000"
      ]
     },
     "execution_count": 64,
     "metadata": {},
     "output_type": "execute_result"
    }
   ],
   "source": [
    "df[df[\"autopool\"] == \"autoETH\"][[\"Rolling Average CR Out\", \"Gross + Price Return\"]].corr()\n",
    "# remove outliers from baseETH, figure out why on balETH, why extreme points"
   ]
  },
  {
   "cell_type": "code",
   "execution_count": 65,
   "metadata": {},
   "outputs": [
    {
     "data": {
      "text/html": [
       "<div>\n",
       "<style scoped>\n",
       "    .dataframe tbody tr th:only-of-type {\n",
       "        vertical-align: middle;\n",
       "    }\n",
       "\n",
       "    .dataframe tbody tr th {\n",
       "        vertical-align: top;\n",
       "    }\n",
       "\n",
       "    .dataframe thead th {\n",
       "        text-align: right;\n",
       "    }\n",
       "</style>\n",
       "<table border=\"1\" class=\"dataframe\">\n",
       "  <thead>\n",
       "    <tr style=\"text-align: right;\">\n",
       "      <th></th>\n",
       "      <th>Rolling Average CR Out</th>\n",
       "      <th>Gross + Price Return</th>\n",
       "    </tr>\n",
       "  </thead>\n",
       "  <tbody>\n",
       "    <tr>\n",
       "      <th>Rolling Average CR Out</th>\n",
       "      <td>1.000000</td>\n",
       "      <td>0.673422</td>\n",
       "    </tr>\n",
       "    <tr>\n",
       "      <th>Gross + Price Return</th>\n",
       "      <td>0.673422</td>\n",
       "      <td>1.000000</td>\n",
       "    </tr>\n",
       "  </tbody>\n",
       "</table>\n",
       "</div>"
      ],
      "text/plain": [
       "                        Rolling Average CR Out  Gross + Price Return\n",
       "Rolling Average CR Out                1.000000              0.673422\n",
       "Gross + Price Return                  0.673422              1.000000"
      ]
     },
     "execution_count": 65,
     "metadata": {},
     "output_type": "execute_result"
    }
   ],
   "source": [
    "df[df[\"autopool\"] == \"balETH\"][[\"Rolling Average CR Out\", \"Gross + Price Return\"]].corr()"
   ]
  },
  {
   "cell_type": "code",
   "execution_count": 66,
   "metadata": {},
   "outputs": [
    {
     "data": {
      "text/html": [
       "<div>\n",
       "<style scoped>\n",
       "    .dataframe tbody tr th:only-of-type {\n",
       "        vertical-align: middle;\n",
       "    }\n",
       "\n",
       "    .dataframe tbody tr th {\n",
       "        vertical-align: top;\n",
       "    }\n",
       "\n",
       "    .dataframe thead th {\n",
       "        text-align: right;\n",
       "    }\n",
       "</style>\n",
       "<table border=\"1\" class=\"dataframe\">\n",
       "  <thead>\n",
       "    <tr style=\"text-align: right;\">\n",
       "      <th></th>\n",
       "      <th>Rolling Average CR Out</th>\n",
       "      <th>Gross + Price Return</th>\n",
       "    </tr>\n",
       "  </thead>\n",
       "  <tbody>\n",
       "    <tr>\n",
       "      <th>Rolling Average CR Out</th>\n",
       "      <td>1.000000</td>\n",
       "      <td>0.879037</td>\n",
       "    </tr>\n",
       "    <tr>\n",
       "      <th>Gross + Price Return</th>\n",
       "      <td>0.879037</td>\n",
       "      <td>1.000000</td>\n",
       "    </tr>\n",
       "  </tbody>\n",
       "</table>\n",
       "</div>"
      ],
      "text/plain": [
       "                        Rolling Average CR Out  Gross + Price Return\n",
       "Rolling Average CR Out                1.000000              0.879037\n",
       "Gross + Price Return                  0.879037              1.000000"
      ]
     },
     "execution_count": 66,
     "metadata": {},
     "output_type": "execute_result"
    }
   ],
   "source": [
    "df[df[\"autopool\"] == \"autoLRT\"][[\"Rolling Average CR Out\", \"Gross + Price Return\"]].corr()"
   ]
  },
  {
   "cell_type": "code",
   "execution_count": 67,
   "metadata": {},
   "outputs": [
    {
     "data": {
      "application/vnd.plotly.v1+json": {
       "config": {
        "plotlyServerURL": "https://plot.ly"
       },
       "data": [
        {
         "customdata": [
          [
           "2024-10-15T00:00:00+00:00"
          ],
          [
           "2024-10-16T00:00:00+00:00"
          ],
          [
           "2024-10-17T00:00:00+00:00"
          ],
          [
           "2024-10-18T00:00:00+00:00"
          ],
          [
           "2024-10-19T00:00:00+00:00"
          ],
          [
           "2024-10-20T00:00:00+00:00"
          ],
          [
           "2024-10-21T00:00:00+00:00"
          ],
          [
           "2024-10-22T00:00:00+00:00"
          ],
          [
           "2024-10-23T00:00:00+00:00"
          ],
          [
           "2024-10-24T00:00:00+00:00"
          ],
          [
           "2024-10-25T00:00:00+00:00"
          ],
          [
           "2024-10-26T00:00:00+00:00"
          ],
          [
           "2024-10-27T00:00:00+00:00"
          ],
          [
           "2024-10-28T00:00:00+00:00"
          ],
          [
           "2024-10-29T00:00:00+00:00"
          ],
          [
           "2024-10-30T00:00:00+00:00"
          ],
          [
           "2024-10-31T00:00:00+00:00"
          ],
          [
           "2024-11-01T00:00:00+00:00"
          ],
          [
           "2024-11-02T00:00:00+00:00"
          ],
          [
           "2024-11-03T00:00:00+00:00"
          ],
          [
           "2024-11-04T00:00:00+00:00"
          ],
          [
           "2024-11-05T00:00:00+00:00"
          ],
          [
           "2024-11-06T00:00:00+00:00"
          ],
          [
           "2024-11-07T00:00:00+00:00"
          ],
          [
           "2024-11-08T00:00:00+00:00"
          ],
          [
           "2024-11-09T00:00:00+00:00"
          ],
          [
           "2024-11-10T00:00:00+00:00"
          ],
          [
           "2024-11-11T00:00:00+00:00"
          ],
          [
           "2024-11-12T00:00:00+00:00"
          ],
          [
           "2024-11-13T00:00:00+00:00"
          ],
          [
           "2024-11-14T00:00:00+00:00"
          ],
          [
           "2024-11-15T00:00:00+00:00"
          ],
          [
           "2024-11-16T00:00:00+00:00"
          ],
          [
           "2024-11-17T00:00:00+00:00"
          ],
          [
           "2024-11-18T00:00:00+00:00"
          ],
          [
           "2024-11-19T00:00:00+00:00"
          ],
          [
           "2024-11-20T00:00:00+00:00"
          ],
          [
           "2024-11-21T00:00:00+00:00"
          ],
          [
           "2024-11-22T00:00:00+00:00"
          ],
          [
           "2024-11-23T00:00:00+00:00"
          ],
          [
           "2024-11-24T00:00:00+00:00"
          ],
          [
           "2024-11-25T00:00:00+00:00"
          ],
          [
           "2024-11-26T00:00:00+00:00"
          ],
          [
           "2024-11-27T00:00:00+00:00"
          ],
          [
           "2024-11-28T00:00:00+00:00"
          ],
          [
           "2024-11-29T00:00:00+00:00"
          ],
          [
           "2024-11-30T00:00:00+00:00"
          ],
          [
           "2024-12-01T00:00:00+00:00"
          ],
          [
           "2024-12-02T00:00:00+00:00"
          ],
          [
           "2024-12-03T00:00:00+00:00"
          ],
          [
           "2024-12-04T00:00:00+00:00"
          ],
          [
           "2024-12-05T00:00:00+00:00"
          ],
          [
           "2024-12-06T00:00:00+00:00"
          ],
          [
           "2024-12-07T00:00:00+00:00"
          ],
          [
           "2024-12-08T00:00:00+00:00"
          ],
          [
           "2024-12-09T00:00:00+00:00"
          ],
          [
           "2024-12-10T00:00:00+00:00"
          ],
          [
           "2024-12-11T00:00:00+00:00"
          ],
          [
           "2024-12-12T00:00:00+00:00"
          ],
          [
           "2024-12-13T00:00:00+00:00"
          ],
          [
           "2024-12-14T00:00:00+00:00"
          ],
          [
           "2024-12-15T00:00:00+00:00"
          ],
          [
           "2024-12-16T00:00:00+00:00"
          ],
          [
           "2024-12-17T00:00:00+00:00"
          ],
          [
           "2024-12-18T00:00:00+00:00"
          ],
          [
           "2024-12-19T00:00:00+00:00"
          ],
          [
           "2024-12-20T00:00:00+00:00"
          ],
          [
           "2024-12-21T00:00:00+00:00"
          ],
          [
           "2024-12-22T00:00:00+00:00"
          ],
          [
           "2024-12-23T00:00:00+00:00"
          ],
          [
           "2024-12-24T00:00:00+00:00"
          ],
          [
           "2024-12-25T00:00:00+00:00"
          ],
          [
           "2024-12-26T00:00:00+00:00"
          ],
          [
           "2024-12-27T00:00:00+00:00"
          ],
          [
           "2024-12-28T00:00:00+00:00"
          ],
          [
           "2024-12-29T00:00:00+00:00"
          ],
          [
           "2024-12-30T00:00:00+00:00"
          ],
          [
           "2024-12-31T00:00:00+00:00"
          ],
          [
           "2025-01-01T00:00:00+00:00"
          ],
          [
           "2025-01-02T00:00:00+00:00"
          ],
          [
           "2025-01-03T00:00:00+00:00"
          ],
          [
           "2025-01-04T00:00:00+00:00"
          ],
          [
           "2025-01-05T00:00:00+00:00"
          ],
          [
           "2025-01-06T00:00:00+00:00"
          ],
          [
           "2025-01-07T00:00:00+00:00"
          ],
          [
           "2025-01-08T00:00:00+00:00"
          ],
          [
           "2025-01-09T00:00:00+00:00"
          ],
          [
           "2025-01-10T00:00:00+00:00"
          ],
          [
           "2025-01-11T00:00:00+00:00"
          ],
          [
           "2025-01-12T00:00:00+00:00"
          ],
          [
           "2025-01-13T00:00:00+00:00"
          ],
          [
           "2025-01-14T00:00:00+00:00"
          ],
          [
           "2025-01-15T00:00:00+00:00"
          ],
          [
           "2025-01-16T00:00:00+00:00"
          ],
          [
           "2025-01-17T00:00:00+00:00"
          ],
          [
           "2025-01-18T00:00:00+00:00"
          ],
          [
           "2025-01-19T00:00:00+00:00"
          ],
          [
           "2025-01-20T00:00:00+00:00"
          ],
          [
           "2025-01-21T00:00:00+00:00"
          ],
          [
           "2025-01-22T00:00:00+00:00"
          ],
          [
           "2025-01-23T00:00:00+00:00"
          ],
          [
           "2025-01-24T00:00:00+00:00"
          ],
          [
           "2025-01-25T00:00:00+00:00"
          ],
          [
           "2025-01-26T00:00:00+00:00"
          ],
          [
           "2025-01-27T00:00:00+00:00"
          ]
         ],
         "hovertemplate": "autopool=autoETH<br>Rolling Average CR Out=%{x}<br>Gross + Price Return=%{y}<br>index=%{customdata[0]}<extra></extra>",
         "legendgroup": "autoETH",
         "marker": {
          "color": "#636efa",
          "symbol": "circle"
         },
         "mode": "markers",
         "name": "autoETH",
         "orientation": "v",
         "showlegend": true,
         "type": "scatter",
         "x": [
          5.422320823302163,
          5.638364390469373,
          5.834675970615507,
          5.998009828147349,
          6.133734502404055,
          6.217807083108875,
          6.284577503290235,
          6.289352689535814,
          6.312157644974819,
          6.335346254464862,
          6.345973702317357,
          6.335197905619987,
          6.33779643562419,
          6.3332487734781955,
          6.335238441925863,
          6.357981362190295,
          6.360760427132975,
          6.36168549166508,
          6.3876276357508175,
          6.398564267877571,
          6.431772002396185,
          6.464510515829984,
          6.494338473402144,
          6.518675399433929,
          6.527875033812861,
          6.525791175920195,
          6.540578771879781,
          6.55773149130208,
          6.575708753031375,
          6.613110414837769,
          6.637901111178697,
          6.655190059338593,
          6.661868238790104,
          6.6683926866312415,
          6.668815889370973,
          6.663074268708391,
          6.667263199437406,
          6.67238647179592,
          6.67591919662505,
          6.691481841688728,
          6.70163422114491,
          6.732066430258509,
          6.759836958875294,
          6.79296103389535,
          6.815887002732896,
          6.826403616756903,
          6.848191517204685,
          6.8763970001585335,
          6.90242772543789,
          6.939586745423444,
          6.989846322123097,
          7.056110668440108,
          7.134220508961341,
          7.217048205413596,
          7.31705726052108,
          7.4278991318656615,
          7.548308608397332,
          7.65972062682892,
          7.7813997441143306,
          7.892466250774373,
          7.997807206428367,
          8.10432522168438,
          8.193815651544462,
          8.280359749809499,
          8.363887569475269,
          8.382392140643434,
          8.382819446197345,
          8.356175121391411,
          8.331943523156726,
          8.304227177301263,
          8.287045287341916,
          8.276474472290346,
          8.26019670508863,
          8.23536622832099,
          8.217094538847116,
          8.201855201155988,
          8.180229576573545,
          8.150436888998726,
          8.11163956962663,
          8.089326291547163,
          8.055259935424345,
          8.026400054209905,
          7.981155426975642,
          7.917930859010612,
          7.835956656976594,
          7.744729634970004,
          7.648152766707653,
          7.567181377275171,
          7.478519840610873,
          7.385985690255617,
          7.298146654675409,
          7.2159428962458945,
          7.1573256097449125,
          7.069085165213922,
          6.99031085781783,
          6.98876452590928,
          7.003069093420483,
          7.042922089102062,
          7.068916192054516,
          7.088149993196898,
          7.0946463919491025,
          7.085679288355139,
          7.0821141297515116,
          7.082896803135688,
          7.067702072062494
         ],
         "xaxis": "x",
         "y": [
          4.659747481305563,
          5.013130376144941,
          5.395618221968204,
          5.6737544920069025,
          5.67228500948562,
          6.165736392075399,
          6.194370954631864,
          6.45594008568274,
          6.475642735753583,
          6.584312760451709,
          6.528126437773694,
          6.30212781126593,
          5.610948598071293,
          4.634919152205832,
          4.725978820523545,
          4.786919935120577,
          4.883230687392716,
          5.208876101603185,
          5.071511140089907,
          5.273330147886699,
          5.621014535549998,
          5.856111628394401,
          6.049845954502845,
          5.973695315474492,
          5.592899917891328,
          6.050683526879196,
          5.832100797900183,
          6.159061121156871,
          6.269242267611096,
          6.345140035032817,
          6.215512929160608,
          6.149134620480365,
          5.736965150169784,
          5.920190388930483,
          6.346816266834543,
          6.499197097589321,
          6.1782208626973,
          6.3573973311386425,
          6.388912033876712,
          6.188785811230851,
          6.582312879749809,
          6.38179191494481,
          6.405355938684143,
          6.580869979633709,
          6.332998479217384,
          6.312578771645323,
          6.450005832122439,
          6.58879592488678,
          6.815692734971076,
          6.647743392568318,
          6.729857337128853,
          7.070674375765146,
          7.089578065242855,
          7.4088115067229285,
          7.830678445234063,
          7.629700703184522,
          7.587809225932101,
          7.5455979163519435,
          8.213557694788586,
          8.36188754516209,
          8.656599565629605,
          8.534447019642919,
          9.049017821009587,
          8.94524325744195,
          8.803287564069139,
          8.671303436925694,
          8.813528931725038,
          8.945165182344118,
          9.022447793958676,
          8.97534598662936,
          8.65122696227853,
          8.913743740795246,
          8.94515312597477,
          8.690055569186947,
          8.897294890644034,
          8.96557764237614,
          9.012400206778413,
          8.629747420285245,
          8.70489546930879,
          8.702662566537645,
          8.638518947139518,
          8.2138804967991,
          8.268657885747752,
          8.319105059919382,
          8.080108622809442,
          7.780965517497723,
          8.258228557942948,
          7.999287690780692,
          7.527474177574916,
          7.584395199658916,
          7.401454106195094,
          7.692389526783642,
          7.215086367139896,
          7.230165863534419,
          7.296788195526976,
          7.301723219958596,
          7.465015629943599,
          7.01851667636955,
          6.631565415743312,
          7.424168063211983,
          7.327547071909863,
          7.416793316252942,
          7.297028681543559,
          7.321756374208305,
          7.5352577179242175
         ],
         "yaxis": "y"
        },
        {
         "customdata": [
          [
           "2024-10-15T00:00:00+00:00"
          ],
          [
           "2024-10-16T00:00:00+00:00"
          ],
          [
           "2024-10-17T00:00:00+00:00"
          ],
          [
           "2024-10-18T00:00:00+00:00"
          ],
          [
           "2024-10-19T00:00:00+00:00"
          ],
          [
           "2024-10-20T00:00:00+00:00"
          ],
          [
           "2024-10-21T00:00:00+00:00"
          ],
          [
           "2024-10-22T00:00:00+00:00"
          ],
          [
           "2024-10-23T00:00:00+00:00"
          ],
          [
           "2024-10-24T00:00:00+00:00"
          ],
          [
           "2024-10-25T00:00:00+00:00"
          ],
          [
           "2024-10-26T00:00:00+00:00"
          ],
          [
           "2024-10-27T00:00:00+00:00"
          ],
          [
           "2024-10-28T00:00:00+00:00"
          ],
          [
           "2024-10-29T00:00:00+00:00"
          ],
          [
           "2024-10-30T00:00:00+00:00"
          ],
          [
           "2024-10-31T00:00:00+00:00"
          ],
          [
           "2024-11-01T00:00:00+00:00"
          ],
          [
           "2024-11-02T00:00:00+00:00"
          ],
          [
           "2024-11-03T00:00:00+00:00"
          ],
          [
           "2024-11-04T00:00:00+00:00"
          ],
          [
           "2024-11-05T00:00:00+00:00"
          ],
          [
           "2024-11-06T00:00:00+00:00"
          ],
          [
           "2024-11-07T00:00:00+00:00"
          ],
          [
           "2024-11-08T00:00:00+00:00"
          ],
          [
           "2024-11-09T00:00:00+00:00"
          ],
          [
           "2024-11-10T00:00:00+00:00"
          ],
          [
           "2024-11-11T00:00:00+00:00"
          ],
          [
           "2024-11-12T00:00:00+00:00"
          ],
          [
           "2024-11-13T00:00:00+00:00"
          ],
          [
           "2024-11-14T00:00:00+00:00"
          ],
          [
           "2024-11-15T00:00:00+00:00"
          ],
          [
           "2024-11-16T00:00:00+00:00"
          ],
          [
           "2024-11-17T00:00:00+00:00"
          ],
          [
           "2024-11-18T00:00:00+00:00"
          ],
          [
           "2024-11-19T00:00:00+00:00"
          ],
          [
           "2024-11-20T00:00:00+00:00"
          ],
          [
           "2024-11-21T00:00:00+00:00"
          ],
          [
           "2024-11-22T00:00:00+00:00"
          ],
          [
           "2024-11-23T00:00:00+00:00"
          ],
          [
           "2024-11-24T00:00:00+00:00"
          ],
          [
           "2024-11-25T00:00:00+00:00"
          ],
          [
           "2024-11-26T00:00:00+00:00"
          ],
          [
           "2024-11-27T00:00:00+00:00"
          ],
          [
           "2024-11-28T00:00:00+00:00"
          ],
          [
           "2024-11-29T00:00:00+00:00"
          ],
          [
           "2024-11-30T00:00:00+00:00"
          ],
          [
           "2024-12-01T00:00:00+00:00"
          ],
          [
           "2024-12-02T00:00:00+00:00"
          ],
          [
           "2024-12-03T00:00:00+00:00"
          ],
          [
           "2024-12-04T00:00:00+00:00"
          ],
          [
           "2024-12-05T00:00:00+00:00"
          ],
          [
           "2024-12-06T00:00:00+00:00"
          ],
          [
           "2024-12-07T00:00:00+00:00"
          ],
          [
           "2024-12-08T00:00:00+00:00"
          ],
          [
           "2024-12-09T00:00:00+00:00"
          ],
          [
           "2024-12-10T00:00:00+00:00"
          ],
          [
           "2024-12-11T00:00:00+00:00"
          ],
          [
           "2024-12-12T00:00:00+00:00"
          ],
          [
           "2024-12-13T00:00:00+00:00"
          ],
          [
           "2024-12-14T00:00:00+00:00"
          ],
          [
           "2024-12-15T00:00:00+00:00"
          ],
          [
           "2024-12-16T00:00:00+00:00"
          ],
          [
           "2024-12-17T00:00:00+00:00"
          ],
          [
           "2024-12-18T00:00:00+00:00"
          ],
          [
           "2024-12-19T00:00:00+00:00"
          ],
          [
           "2024-12-20T00:00:00+00:00"
          ],
          [
           "2024-12-21T00:00:00+00:00"
          ],
          [
           "2024-12-22T00:00:00+00:00"
          ],
          [
           "2024-12-23T00:00:00+00:00"
          ],
          [
           "2024-12-24T00:00:00+00:00"
          ],
          [
           "2024-12-25T00:00:00+00:00"
          ],
          [
           "2024-12-26T00:00:00+00:00"
          ],
          [
           "2024-12-27T00:00:00+00:00"
          ],
          [
           "2024-12-28T00:00:00+00:00"
          ],
          [
           "2024-12-29T00:00:00+00:00"
          ],
          [
           "2024-12-30T00:00:00+00:00"
          ],
          [
           "2024-12-31T00:00:00+00:00"
          ],
          [
           "2025-01-01T00:00:00+00:00"
          ],
          [
           "2025-01-02T00:00:00+00:00"
          ],
          [
           "2025-01-03T00:00:00+00:00"
          ],
          [
           "2025-01-04T00:00:00+00:00"
          ],
          [
           "2025-01-05T00:00:00+00:00"
          ],
          [
           "2025-01-06T00:00:00+00:00"
          ],
          [
           "2025-01-07T00:00:00+00:00"
          ],
          [
           "2025-01-08T00:00:00+00:00"
          ],
          [
           "2025-01-09T00:00:00+00:00"
          ],
          [
           "2025-01-10T00:00:00+00:00"
          ],
          [
           "2025-01-11T00:00:00+00:00"
          ],
          [
           "2025-01-12T00:00:00+00:00"
          ],
          [
           "2025-01-13T00:00:00+00:00"
          ],
          [
           "2025-01-14T00:00:00+00:00"
          ],
          [
           "2025-01-15T00:00:00+00:00"
          ],
          [
           "2025-01-16T00:00:00+00:00"
          ],
          [
           "2025-01-17T00:00:00+00:00"
          ],
          [
           "2025-01-18T00:00:00+00:00"
          ],
          [
           "2025-01-19T00:00:00+00:00"
          ],
          [
           "2025-01-20T00:00:00+00:00"
          ],
          [
           "2025-01-21T00:00:00+00:00"
          ],
          [
           "2025-01-22T00:00:00+00:00"
          ],
          [
           "2025-01-23T00:00:00+00:00"
          ],
          [
           "2025-01-24T00:00:00+00:00"
          ],
          [
           "2025-01-25T00:00:00+00:00"
          ],
          [
           "2025-01-26T00:00:00+00:00"
          ],
          [
           "2025-01-27T00:00:00+00:00"
          ]
         ],
         "hovertemplate": "autopool=balETH<br>Rolling Average CR Out=%{x}<br>Gross + Price Return=%{y}<br>index=%{customdata[0]}<extra></extra>",
         "legendgroup": "balETH",
         "marker": {
          "color": "#EF553B",
          "symbol": "circle"
         },
         "mode": "markers",
         "name": "balETH",
         "orientation": "v",
         "showlegend": true,
         "type": "scatter",
         "x": [
          5.761720129942741,
          5.9869131973053085,
          6.149142119166975,
          6.27765003280331,
          6.33981111707841,
          6.396370666394968,
          6.420739596260102,
          6.448469103417384,
          6.507429137029671,
          6.53664847037644,
          6.534123695620093,
          6.555435111444342,
          6.552946502500551,
          6.533967893782976,
          6.516693171014682,
          6.523331444638402,
          6.481789962542039,
          6.452173324054295,
          6.463168559985556,
          6.469163816164981,
          6.472987254510738,
          6.480390943084939,
          6.482874282954317,
          6.506955808272738,
          6.5177966744227875,
          6.532672849825883,
          6.493244440702982,
          6.4680711917583595,
          6.441008571974038,
          6.425786479529661,
          6.410581935326008,
          6.422469139199241,
          6.410417532604384,
          6.400264875304617,
          6.379265878439602,
          6.3549676634626975,
          6.3407524471460786,
          6.314747492646495,
          6.26699683086612,
          6.244640661787617,
          6.2419900454399855,
          6.234129362892923,
          6.2335729485541425,
          6.2499604780249545,
          6.267223753047472,
          6.247613291518295,
          6.259161107657881,
          6.248148407692812,
          6.215345654960646,
          6.17433482751008,
          6.138290990852036,
          6.105656865411536,
          6.079659877281809,
          6.054952650982565,
          6.059574967878848,
          6.074953291205161,
          6.093153574877959,
          6.107058891597217,
          6.139754134146542,
          6.19012737178303,
          6.247195902980227,
          6.288545162870266,
          6.324081833078621,
          6.341654010011131,
          6.373754727244856,
          6.409491950083078,
          6.43787763861609,
          6.4665610690508375,
          6.500972081205176,
          6.538302941316236,
          6.589742800679718,
          6.6609321543149855,
          6.7133240400624645,
          6.7457806300208665,
          6.7631322660856314,
          6.782419378945297,
          6.815211391439196,
          6.853106584559138,
          6.918418076962586,
          6.98632305692737,
          7.0549862213991785,
          7.116644954719645,
          7.180917620648516,
          7.234729144576807,
          7.24570407164605,
          7.251168569007376,
          7.281837691035617,
          7.3168189127343535,
          7.337921193698596,
          7.326521947149191,
          7.303103460409468,
          7.297522432915385,
          7.312077505576851,
          7.285942786347461,
          7.275835581930688,
          7.2744565509172485,
          7.280856731198068,
          7.283392882036442,
          7.275180498306147,
          7.2641791541117025,
          7.272059113187283,
          7.257141980547149,
          7.260609803320923,
          7.265882845851815,
          7.28037727648284
         ],
         "xaxis": "x",
         "y": [
          5.951824067948342,
          6.287079398168155,
          6.692899612437696,
          7.29368736022564,
          7.208060506891438,
          7.376117431190625,
          7.393841988594521,
          7.525105375390073,
          7.485794641927092,
          7.371872307572482,
          7.424168537486262,
          7.406017402256664,
          6.120695627136709,
          5.183524475336962,
          5.475801845513359,
          5.333433401146543,
          5.195649215013594,
          5.260888147339899,
          5.0410544661737395,
          5.242637106572008,
          5.247117989583275,
          5.166579516063514,
          5.564481902360048,
          5.42196760059676,
          4.986119115141472,
          5.491139278645041,
          5.365264850080256,
          5.725429095669447,
          5.731364656059088,
          5.704683203863034,
          5.6734793133067996,
          5.695829021922535,
          5.739559990917502,
          5.717065863671016,
          5.769134739823848,
          5.91613353092052,
          5.773037953814031,
          5.791314020314964,
          5.912134082068773,
          5.72886097070284,
          6.1381468981760365,
          5.934834873264073,
          5.987916033147745,
          6.0363979598913,
          5.7190441278085,
          5.886069341021941,
          6.03474468520955,
          6.115253908631932,
          6.360975690318401,
          5.892424156135529,
          5.855379385113707,
          6.050583893641371,
          5.873039839911135,
          6.019025132849813,
          6.320884230031564,
          6.1463072057623584,
          6.407070666733978,
          5.826144184454258,
          6.130521659956842,
          6.124463653646819,
          6.33834328704754,
          6.013452734479713,
          6.16286910551576,
          6.313396680472221,
          6.382783304793736,
          6.0315251247198844,
          6.348315439439536,
          6.360665011661514,
          6.626761526074078,
          6.62443799703375,
          6.375828096857237,
          6.542136113175305,
          6.418985708500837,
          6.491063717547476,
          6.5824803994389045,
          6.655600046174961,
          6.526902826582963,
          6.515529827769235,
          6.696020556768191,
          6.854418333468894,
          7.084633511767523,
          7.08919653824149,
          7.011684698140809,
          7.295433879900474,
          7.049827439109015,
          6.975332485072389,
          7.003011280244478,
          7.37202480065868,
          7.240650886459377,
          7.3617565715995825,
          7.370581481402875,
          7.3895312386504095,
          7.454723096598069,
          7.580394349108208,
          7.594255350931808,
          7.84300675554075,
          8.0506209957596,
          7.746841902124469,
          7.16518309539099,
          7.576899027899528,
          7.477613779782986,
          7.550299893649352,
          7.60167916094172,
          7.36970744893142,
          7.6411054809435415
         ],
         "yaxis": "y"
        },
        {
         "customdata": [
          [
           "2024-10-15T00:00:00+00:00"
          ],
          [
           "2024-10-16T00:00:00+00:00"
          ],
          [
           "2024-10-17T00:00:00+00:00"
          ],
          [
           "2024-10-18T00:00:00+00:00"
          ],
          [
           "2024-10-19T00:00:00+00:00"
          ],
          [
           "2024-10-20T00:00:00+00:00"
          ],
          [
           "2024-10-21T00:00:00+00:00"
          ],
          [
           "2024-10-22T00:00:00+00:00"
          ],
          [
           "2024-10-23T00:00:00+00:00"
          ],
          [
           "2024-10-24T00:00:00+00:00"
          ],
          [
           "2024-10-25T00:00:00+00:00"
          ],
          [
           "2024-10-26T00:00:00+00:00"
          ],
          [
           "2024-10-27T00:00:00+00:00"
          ],
          [
           "2024-10-28T00:00:00+00:00"
          ],
          [
           "2024-10-29T00:00:00+00:00"
          ],
          [
           "2024-10-30T00:00:00+00:00"
          ],
          [
           "2024-10-31T00:00:00+00:00"
          ],
          [
           "2024-11-01T00:00:00+00:00"
          ],
          [
           "2024-11-02T00:00:00+00:00"
          ],
          [
           "2024-11-03T00:00:00+00:00"
          ],
          [
           "2024-11-04T00:00:00+00:00"
          ],
          [
           "2024-11-05T00:00:00+00:00"
          ],
          [
           "2024-11-06T00:00:00+00:00"
          ],
          [
           "2024-11-07T00:00:00+00:00"
          ],
          [
           "2024-11-08T00:00:00+00:00"
          ],
          [
           "2024-11-09T00:00:00+00:00"
          ],
          [
           "2024-11-10T00:00:00+00:00"
          ],
          [
           "2024-11-11T00:00:00+00:00"
          ],
          [
           "2024-11-12T00:00:00+00:00"
          ],
          [
           "2024-11-13T00:00:00+00:00"
          ],
          [
           "2024-11-14T00:00:00+00:00"
          ],
          [
           "2024-11-15T00:00:00+00:00"
          ],
          [
           "2024-11-16T00:00:00+00:00"
          ],
          [
           "2024-11-17T00:00:00+00:00"
          ],
          [
           "2024-11-18T00:00:00+00:00"
          ],
          [
           "2024-11-19T00:00:00+00:00"
          ],
          [
           "2024-11-20T00:00:00+00:00"
          ],
          [
           "2024-11-21T00:00:00+00:00"
          ],
          [
           "2024-11-22T00:00:00+00:00"
          ],
          [
           "2024-11-23T00:00:00+00:00"
          ],
          [
           "2024-11-24T00:00:00+00:00"
          ],
          [
           "2024-11-25T00:00:00+00:00"
          ],
          [
           "2024-11-26T00:00:00+00:00"
          ],
          [
           "2024-11-27T00:00:00+00:00"
          ],
          [
           "2024-11-28T00:00:00+00:00"
          ],
          [
           "2024-11-29T00:00:00+00:00"
          ],
          [
           "2024-11-30T00:00:00+00:00"
          ],
          [
           "2024-12-01T00:00:00+00:00"
          ],
          [
           "2024-12-02T00:00:00+00:00"
          ],
          [
           "2024-12-03T00:00:00+00:00"
          ],
          [
           "2024-12-04T00:00:00+00:00"
          ],
          [
           "2024-12-05T00:00:00+00:00"
          ],
          [
           "2024-12-06T00:00:00+00:00"
          ],
          [
           "2024-12-07T00:00:00+00:00"
          ],
          [
           "2024-12-08T00:00:00+00:00"
          ],
          [
           "2024-12-09T00:00:00+00:00"
          ],
          [
           "2024-12-10T00:00:00+00:00"
          ],
          [
           "2024-12-11T00:00:00+00:00"
          ],
          [
           "2024-12-12T00:00:00+00:00"
          ],
          [
           "2024-12-13T00:00:00+00:00"
          ],
          [
           "2024-12-14T00:00:00+00:00"
          ],
          [
           "2024-12-15T00:00:00+00:00"
          ],
          [
           "2024-12-16T00:00:00+00:00"
          ],
          [
           "2024-12-17T00:00:00+00:00"
          ],
          [
           "2024-12-18T00:00:00+00:00"
          ],
          [
           "2024-12-19T00:00:00+00:00"
          ],
          [
           "2024-12-20T00:00:00+00:00"
          ],
          [
           "2024-12-21T00:00:00+00:00"
          ],
          [
           "2024-12-22T00:00:00+00:00"
          ],
          [
           "2024-12-23T00:00:00+00:00"
          ],
          [
           "2024-12-24T00:00:00+00:00"
          ],
          [
           "2024-12-25T00:00:00+00:00"
          ],
          [
           "2024-12-26T00:00:00+00:00"
          ],
          [
           "2024-12-27T00:00:00+00:00"
          ],
          [
           "2024-12-28T00:00:00+00:00"
          ],
          [
           "2024-12-29T00:00:00+00:00"
          ],
          [
           "2024-12-30T00:00:00+00:00"
          ],
          [
           "2024-12-31T00:00:00+00:00"
          ],
          [
           "2025-01-01T00:00:00+00:00"
          ],
          [
           "2025-01-02T00:00:00+00:00"
          ],
          [
           "2025-01-03T00:00:00+00:00"
          ],
          [
           "2025-01-04T00:00:00+00:00"
          ],
          [
           "2025-01-05T00:00:00+00:00"
          ],
          [
           "2025-01-06T00:00:00+00:00"
          ],
          [
           "2025-01-07T00:00:00+00:00"
          ],
          [
           "2025-01-08T00:00:00+00:00"
          ],
          [
           "2025-01-09T00:00:00+00:00"
          ],
          [
           "2025-01-10T00:00:00+00:00"
          ],
          [
           "2025-01-11T00:00:00+00:00"
          ],
          [
           "2025-01-12T00:00:00+00:00"
          ],
          [
           "2025-01-13T00:00:00+00:00"
          ],
          [
           "2025-01-14T00:00:00+00:00"
          ],
          [
           "2025-01-15T00:00:00+00:00"
          ],
          [
           "2025-01-16T00:00:00+00:00"
          ],
          [
           "2025-01-17T00:00:00+00:00"
          ],
          [
           "2025-01-18T00:00:00+00:00"
          ],
          [
           "2025-01-19T00:00:00+00:00"
          ],
          [
           "2025-01-20T00:00:00+00:00"
          ],
          [
           "2025-01-21T00:00:00+00:00"
          ],
          [
           "2025-01-22T00:00:00+00:00"
          ],
          [
           "2025-01-23T00:00:00+00:00"
          ],
          [
           "2025-01-24T00:00:00+00:00"
          ],
          [
           "2025-01-25T00:00:00+00:00"
          ],
          [
           "2025-01-26T00:00:00+00:00"
          ],
          [
           "2025-01-27T00:00:00+00:00"
          ]
         ],
         "hovertemplate": "autopool=autoLRT<br>Rolling Average CR Out=%{x}<br>Gross + Price Return=%{y}<br>index=%{customdata[0]}<extra></extra>",
         "legendgroup": "autoLRT",
         "marker": {
          "color": "#00cc96",
          "symbol": "circle"
         },
         "mode": "markers",
         "name": "autoLRT",
         "orientation": "v",
         "showlegend": true,
         "type": "scatter",
         "x": [
          5.402321362673587,
          5.5632008863694065,
          5.647083394192916,
          5.761037086515239,
          5.78955064903435,
          5.862798051478915,
          5.905574287898015,
          5.919583964486075,
          5.92893442006323,
          5.913535300027431,
          5.863501888380252,
          5.814792074262793,
          5.765423043103923,
          5.733822838455217,
          5.689648716359002,
          5.655806652694855,
          5.6069461969858,
          5.560829620967438,
          5.539078753902105,
          5.49307577569416,
          5.462907347723087,
          5.427026821904843,
          5.395719680209657,
          5.414691053854491,
          5.411226131002597,
          5.429695782497578,
          5.4506095715750815,
          5.4719081004148125,
          5.48584925994867,
          5.507297532621921,
          5.53843137620667,
          5.579596990939373,
          5.594539562712701,
          5.565653009800414,
          5.54682289767719,
          5.5148294608217885,
          5.506377206496585,
          5.4960902620981456,
          5.476960511207803,
          5.4825833263120805,
          5.534320487026396,
          5.581318875024479,
          5.627833888404172,
          5.67148299302265,
          5.713454972422321,
          5.7373036946327245,
          5.755150476881487,
          5.776796266736215,
          5.800082365802913,
          5.841384167911149,
          5.880469051313139,
          5.95730009616019,
          6.043663204500551,
          6.050160762069939,
          6.097919164801497,
          6.153202122809651,
          6.210665437554539,
          6.276075102174749,
          6.415000091379849,
          6.5105305138379945,
          6.60327607692659,
          6.694570711723576,
          6.766546217095598,
          6.867948871291529,
          6.959805393514541,
          7.045147417659804,
          7.111699107653924,
          7.16879646766446,
          7.232077349581711,
          7.299620301510657,
          7.374611141502057,
          7.450620056531946,
          7.515078998727629,
          7.594857971396651,
          7.656467223964915,
          7.732277211131168,
          7.806984905411428,
          7.886461792426301,
          7.960407989863496,
          8.0220174086543,
          8.082400928368479,
          8.10472913392046,
          8.117991139501102,
          8.156610855546052,
          8.181665571627475,
          8.189040040048342,
          8.19511230424322,
          8.193502608550089,
          8.12710545273296,
          8.104328749875389,
          8.069321868981653,
          8.033165971562177,
          8.019457011804157,
          8.00274067785718,
          8.003075523621122,
          8.020574550882028,
          8.050667409450988,
          8.079707086240045,
          8.106703876631448,
          8.122649195274372,
          8.173875866146476,
          8.214691516629587,
          8.25433647217199,
          8.258766731556426,
          8.276686133680553
         ],
         "xaxis": "x",
         "y": [
          4.76208377929803,
          4.875712814363002,
          4.879571148447792,
          5.1645362712958125,
          4.850724322960626,
          5.577096922421418,
          5.295425145614727,
          5.676655824549459,
          5.593581047222772,
          5.534204968500909,
          5.670563479818405,
          5.859186868298351,
          5.411660926133421,
          4.051461013528456,
          4.376535299822617,
          4.569346466533054,
          4.536234037214031,
          3.7459621604396003,
          4.4064169261704595,
          3.829297702452789,
          4.048266287563529,
          3.89361191016093,
          4.267137480890524,
          4.052219629954162,
          3.9443052385966886,
          4.126215406111571,
          3.9358433098934675,
          4.3319623656164845,
          4.172894733953422,
          3.9323805744487528,
          4.208664671651881,
          4.717646546261068,
          3.9470616229620306,
          4.784772492233451,
          4.987582210772254,
          4.5597128988161915,
          4.871303554640788,
          4.148474783774557,
          4.9753487402257655,
          4.719709932370993,
          4.968406385806667,
          4.242879152894545,
          4.823995136733415,
          4.731418817956709,
          4.820585589559671,
          4.73641340778664,
          4.4756245744416665,
          5.248287295040585,
          4.3112248967233455,
          4.934799998618564,
          4.398912071767413,
          5.032689702471611,
          4.934343367454992,
          5.1423145709250475,
          5.193777749941568,
          5.131940837473671,
          5.621900328111874,
          5.199278062136327,
          5.731389977082879,
          6.204320469072013,
          5.930298918643198,
          5.531087190359558,
          6.655211265747234,
          6.078782702850549,
          6.163011960878153,
          5.562105610593431,
          6.1229245861938555,
          6.488909182062337,
          5.980629282439312,
          5.877298977444845,
          5.863160026391905,
          6.627182005149542,
          6.029069095676027,
          6.245287011351291,
          5.825723938884129,
          6.240680788558614,
          6.363748764523575,
          6.555762460811383,
          7.010997899126065,
          7.115242618298558,
          7.398440037280397,
          7.06158768898598,
          7.055763002665332,
          7.000797295331853,
          6.59170778342972,
          6.7492671839211145,
          6.34475679661893,
          6.575685670560497,
          6.205398471624442,
          6.276392078020065,
          6.368874080354723,
          6.374884610488146,
          6.154983936342715,
          6.034213476978469,
          6.001281877175171,
          6.7390086357401,
          6.337780666600917,
          6.530652709655955,
          5.860688165581739,
          6.153293770624939,
          6.076414503980814,
          5.9885196408791375,
          6.357902717655747,
          5.971971292242526,
          6.29103814135792
         ],
         "yaxis": "y"
        },
        {
         "customdata": [
          [
           "2024-12-03T00:00:00+00:00"
          ],
          [
           "2024-12-04T00:00:00+00:00"
          ],
          [
           "2024-12-05T00:00:00+00:00"
          ],
          [
           "2024-12-06T00:00:00+00:00"
          ],
          [
           "2024-12-07T00:00:00+00:00"
          ],
          [
           "2024-12-08T00:00:00+00:00"
          ],
          [
           "2024-12-09T00:00:00+00:00"
          ],
          [
           "2024-12-10T00:00:00+00:00"
          ],
          [
           "2024-12-11T00:00:00+00:00"
          ],
          [
           "2024-12-12T00:00:00+00:00"
          ],
          [
           "2024-12-13T00:00:00+00:00"
          ],
          [
           "2024-12-14T00:00:00+00:00"
          ],
          [
           "2024-12-15T00:00:00+00:00"
          ],
          [
           "2024-12-16T00:00:00+00:00"
          ],
          [
           "2024-12-17T00:00:00+00:00"
          ],
          [
           "2024-12-18T00:00:00+00:00"
          ],
          [
           "2024-12-19T00:00:00+00:00"
          ],
          [
           "2024-12-20T00:00:00+00:00"
          ],
          [
           "2024-12-21T00:00:00+00:00"
          ],
          [
           "2024-12-22T00:00:00+00:00"
          ],
          [
           "2024-12-23T00:00:00+00:00"
          ],
          [
           "2024-12-24T00:00:00+00:00"
          ],
          [
           "2024-12-25T00:00:00+00:00"
          ],
          [
           "2024-12-26T00:00:00+00:00"
          ],
          [
           "2024-12-27T00:00:00+00:00"
          ],
          [
           "2024-12-28T00:00:00+00:00"
          ],
          [
           "2024-12-29T00:00:00+00:00"
          ],
          [
           "2024-12-30T00:00:00+00:00"
          ],
          [
           "2024-12-31T00:00:00+00:00"
          ],
          [
           "2025-01-01T00:00:00+00:00"
          ],
          [
           "2025-01-02T00:00:00+00:00"
          ],
          [
           "2025-01-03T00:00:00+00:00"
          ],
          [
           "2025-01-04T00:00:00+00:00"
          ],
          [
           "2025-01-05T00:00:00+00:00"
          ],
          [
           "2025-01-06T00:00:00+00:00"
          ],
          [
           "2025-01-07T00:00:00+00:00"
          ],
          [
           "2025-01-08T00:00:00+00:00"
          ],
          [
           "2025-01-09T00:00:00+00:00"
          ],
          [
           "2025-01-10T00:00:00+00:00"
          ],
          [
           "2025-01-11T00:00:00+00:00"
          ],
          [
           "2025-01-12T00:00:00+00:00"
          ],
          [
           "2025-01-13T00:00:00+00:00"
          ],
          [
           "2025-01-14T00:00:00+00:00"
          ],
          [
           "2025-01-15T00:00:00+00:00"
          ],
          [
           "2025-01-16T00:00:00+00:00"
          ],
          [
           "2025-01-17T00:00:00+00:00"
          ],
          [
           "2025-01-18T00:00:00+00:00"
          ],
          [
           "2025-01-19T00:00:00+00:00"
          ],
          [
           "2025-01-20T00:00:00+00:00"
          ],
          [
           "2025-01-21T00:00:00+00:00"
          ],
          [
           "2025-01-22T00:00:00+00:00"
          ],
          [
           "2025-01-23T00:00:00+00:00"
          ],
          [
           "2025-01-24T00:00:00+00:00"
          ],
          [
           "2025-01-25T00:00:00+00:00"
          ],
          [
           "2025-01-26T00:00:00+00:00"
          ],
          [
           "2025-01-27T00:00:00+00:00"
          ]
         ],
         "hovertemplate": "autopool=baseETH<br>Rolling Average CR Out=%{x}<br>Gross + Price Return=%{y}<br>index=%{customdata[0]}<extra></extra>",
         "legendgroup": "baseETH",
         "marker": {
          "color": "#ab63fa",
          "symbol": "circle"
         },
         "mode": "markers",
         "name": "baseETH",
         "orientation": "v",
         "showlegend": true,
         "type": "scatter",
         "x": [
          5.001436760530945,
          5.224857364418537,
          5.233267009174898,
          5.2640981566277665,
          5.2959395950002115,
          5.325076163730429,
          5.463225166939815,
          5.596146843304703,
          5.731793973326165,
          5.8528326326323015,
          6.038295002638802,
          6.2225338734658235,
          6.389983637147335,
          6.538699867758267,
          6.669869196304717,
          6.75012257749322,
          6.825026874866242,
          6.898480392560429,
          6.948135546444108,
          7.001198981720316,
          7.04984590314714,
          7.085934737231157,
          7.108592391676917,
          7.137359232465497,
          7.162687400334141,
          7.176268686753957,
          7.1875167298175064,
          7.172880828737515,
          7.1730957251469984,
          7.146214882982262,
          7.125636182809858,
          7.092176378308136,
          7.068134526558619,
          7.010991254960953,
          6.954711421475208,
          6.889609989113329,
          6.8249721079843955,
          6.769654382942552,
          6.7162556363055534,
          6.641778800030995,
          6.584808493833532,
          6.530719907018591,
          6.468104000786576,
          6.407518590233465,
          6.3488575000496095,
          6.294252704616578,
          6.241086355679721,
          6.178564161028026,
          5.9191435058692825,
          5.854629097442686,
          5.787039366098851,
          5.75881155212795,
          5.731644176256011,
          5.710168329152917,
          5.701430611145906,
          5.71769224222658
         ],
         "xaxis": "x",
         "y": [
          7.6989905251998385,
          7.686192232099206,
          6.082042804415764,
          6.929316059343646,
          7.134714884905463,
          8.766246809665075,
          9.97907068087459,
          9.464209425459233,
          9.62115043836872,
          10.518523210768226,
          9.46953001022274,
          8.053655130330174,
          8.370788063873231,
          8.761795781059,
          8.748080582468646,
          8.035292381619824,
          8.188384559397225,
          7.632062037407526,
          8.64005162979153,
          7.911004088556321,
          8.377315429949117,
          10.101049936800461,
          8.375944803728563,
          8.563117823425365,
          9.763718708330467,
          9.392950882796251,
          9.368492953612687,
          9.01292892473384,
          9.839983296115822,
          8.889192223093016,
          9.66592458311718,
          9.07284798002315,
          9.415353169341085,
          8.491415191083787,
          8.83813813227855,
          8.44860477331313,
          7.090275091973814,
          8.331924622654347,
          8.029442206478173,
          7.182461681409153,
          7.670536414821338,
          8.13802475889528,
          7.5046749478759205,
          8.130678211766677,
          9.005929507780767,
          8.120246598368585,
          8.733403856059446,
          9.199470718472384,
          0.4333723158599394,
          6.9331014272532965,
          6.633145314790028,
          6.5607766830540335,
          5.868896105762271,
          6.16036396384424,
          5.020626182151737,
          5.953042639860806
         ],
         "yaxis": "y"
        },
        {
         "line": {
          "color": "black",
          "dash": "dash"
         },
         "mode": "lines",
         "name": "x = y",
         "type": "scatter",
         "x": [
          0,
          10
         ],
         "y": [
          0,
          10
         ]
        }
       ],
       "layout": {
        "legend": {
         "title": {
          "text": "autopool"
         },
         "tracegroupgap": 0
        },
        "margin": {
         "t": 60
        },
        "template": {
         "data": {
          "bar": [
           {
            "error_x": {
             "color": "#2a3f5f"
            },
            "error_y": {
             "color": "#2a3f5f"
            },
            "marker": {
             "line": {
              "color": "#E5ECF6",
              "width": 0.5
             },
             "pattern": {
              "fillmode": "overlay",
              "size": 10,
              "solidity": 0.2
             }
            },
            "type": "bar"
           }
          ],
          "barpolar": [
           {
            "marker": {
             "line": {
              "color": "#E5ECF6",
              "width": 0.5
             },
             "pattern": {
              "fillmode": "overlay",
              "size": 10,
              "solidity": 0.2
             }
            },
            "type": "barpolar"
           }
          ],
          "carpet": [
           {
            "aaxis": {
             "endlinecolor": "#2a3f5f",
             "gridcolor": "white",
             "linecolor": "white",
             "minorgridcolor": "white",
             "startlinecolor": "#2a3f5f"
            },
            "baxis": {
             "endlinecolor": "#2a3f5f",
             "gridcolor": "white",
             "linecolor": "white",
             "minorgridcolor": "white",
             "startlinecolor": "#2a3f5f"
            },
            "type": "carpet"
           }
          ],
          "choropleth": [
           {
            "colorbar": {
             "outlinewidth": 0,
             "ticks": ""
            },
            "type": "choropleth"
           }
          ],
          "contour": [
           {
            "colorbar": {
             "outlinewidth": 0,
             "ticks": ""
            },
            "colorscale": [
             [
              0,
              "#0d0887"
             ],
             [
              0.1111111111111111,
              "#46039f"
             ],
             [
              0.2222222222222222,
              "#7201a8"
             ],
             [
              0.3333333333333333,
              "#9c179e"
             ],
             [
              0.4444444444444444,
              "#bd3786"
             ],
             [
              0.5555555555555556,
              "#d8576b"
             ],
             [
              0.6666666666666666,
              "#ed7953"
             ],
             [
              0.7777777777777778,
              "#fb9f3a"
             ],
             [
              0.8888888888888888,
              "#fdca26"
             ],
             [
              1,
              "#f0f921"
             ]
            ],
            "type": "contour"
           }
          ],
          "contourcarpet": [
           {
            "colorbar": {
             "outlinewidth": 0,
             "ticks": ""
            },
            "type": "contourcarpet"
           }
          ],
          "heatmap": [
           {
            "colorbar": {
             "outlinewidth": 0,
             "ticks": ""
            },
            "colorscale": [
             [
              0,
              "#0d0887"
             ],
             [
              0.1111111111111111,
              "#46039f"
             ],
             [
              0.2222222222222222,
              "#7201a8"
             ],
             [
              0.3333333333333333,
              "#9c179e"
             ],
             [
              0.4444444444444444,
              "#bd3786"
             ],
             [
              0.5555555555555556,
              "#d8576b"
             ],
             [
              0.6666666666666666,
              "#ed7953"
             ],
             [
              0.7777777777777778,
              "#fb9f3a"
             ],
             [
              0.8888888888888888,
              "#fdca26"
             ],
             [
              1,
              "#f0f921"
             ]
            ],
            "type": "heatmap"
           }
          ],
          "heatmapgl": [
           {
            "colorbar": {
             "outlinewidth": 0,
             "ticks": ""
            },
            "colorscale": [
             [
              0,
              "#0d0887"
             ],
             [
              0.1111111111111111,
              "#46039f"
             ],
             [
              0.2222222222222222,
              "#7201a8"
             ],
             [
              0.3333333333333333,
              "#9c179e"
             ],
             [
              0.4444444444444444,
              "#bd3786"
             ],
             [
              0.5555555555555556,
              "#d8576b"
             ],
             [
              0.6666666666666666,
              "#ed7953"
             ],
             [
              0.7777777777777778,
              "#fb9f3a"
             ],
             [
              0.8888888888888888,
              "#fdca26"
             ],
             [
              1,
              "#f0f921"
             ]
            ],
            "type": "heatmapgl"
           }
          ],
          "histogram": [
           {
            "marker": {
             "pattern": {
              "fillmode": "overlay",
              "size": 10,
              "solidity": 0.2
             }
            },
            "type": "histogram"
           }
          ],
          "histogram2d": [
           {
            "colorbar": {
             "outlinewidth": 0,
             "ticks": ""
            },
            "colorscale": [
             [
              0,
              "#0d0887"
             ],
             [
              0.1111111111111111,
              "#46039f"
             ],
             [
              0.2222222222222222,
              "#7201a8"
             ],
             [
              0.3333333333333333,
              "#9c179e"
             ],
             [
              0.4444444444444444,
              "#bd3786"
             ],
             [
              0.5555555555555556,
              "#d8576b"
             ],
             [
              0.6666666666666666,
              "#ed7953"
             ],
             [
              0.7777777777777778,
              "#fb9f3a"
             ],
             [
              0.8888888888888888,
              "#fdca26"
             ],
             [
              1,
              "#f0f921"
             ]
            ],
            "type": "histogram2d"
           }
          ],
          "histogram2dcontour": [
           {
            "colorbar": {
             "outlinewidth": 0,
             "ticks": ""
            },
            "colorscale": [
             [
              0,
              "#0d0887"
             ],
             [
              0.1111111111111111,
              "#46039f"
             ],
             [
              0.2222222222222222,
              "#7201a8"
             ],
             [
              0.3333333333333333,
              "#9c179e"
             ],
             [
              0.4444444444444444,
              "#bd3786"
             ],
             [
              0.5555555555555556,
              "#d8576b"
             ],
             [
              0.6666666666666666,
              "#ed7953"
             ],
             [
              0.7777777777777778,
              "#fb9f3a"
             ],
             [
              0.8888888888888888,
              "#fdca26"
             ],
             [
              1,
              "#f0f921"
             ]
            ],
            "type": "histogram2dcontour"
           }
          ],
          "mesh3d": [
           {
            "colorbar": {
             "outlinewidth": 0,
             "ticks": ""
            },
            "type": "mesh3d"
           }
          ],
          "parcoords": [
           {
            "line": {
             "colorbar": {
              "outlinewidth": 0,
              "ticks": ""
             }
            },
            "type": "parcoords"
           }
          ],
          "pie": [
           {
            "automargin": true,
            "type": "pie"
           }
          ],
          "scatter": [
           {
            "fillpattern": {
             "fillmode": "overlay",
             "size": 10,
             "solidity": 0.2
            },
            "type": "scatter"
           }
          ],
          "scatter3d": [
           {
            "line": {
             "colorbar": {
              "outlinewidth": 0,
              "ticks": ""
             }
            },
            "marker": {
             "colorbar": {
              "outlinewidth": 0,
              "ticks": ""
             }
            },
            "type": "scatter3d"
           }
          ],
          "scattercarpet": [
           {
            "marker": {
             "colorbar": {
              "outlinewidth": 0,
              "ticks": ""
             }
            },
            "type": "scattercarpet"
           }
          ],
          "scattergeo": [
           {
            "marker": {
             "colorbar": {
              "outlinewidth": 0,
              "ticks": ""
             }
            },
            "type": "scattergeo"
           }
          ],
          "scattergl": [
           {
            "marker": {
             "colorbar": {
              "outlinewidth": 0,
              "ticks": ""
             }
            },
            "type": "scattergl"
           }
          ],
          "scattermapbox": [
           {
            "marker": {
             "colorbar": {
              "outlinewidth": 0,
              "ticks": ""
             }
            },
            "type": "scattermapbox"
           }
          ],
          "scatterpolar": [
           {
            "marker": {
             "colorbar": {
              "outlinewidth": 0,
              "ticks": ""
             }
            },
            "type": "scatterpolar"
           }
          ],
          "scatterpolargl": [
           {
            "marker": {
             "colorbar": {
              "outlinewidth": 0,
              "ticks": ""
             }
            },
            "type": "scatterpolargl"
           }
          ],
          "scatterternary": [
           {
            "marker": {
             "colorbar": {
              "outlinewidth": 0,
              "ticks": ""
             }
            },
            "type": "scatterternary"
           }
          ],
          "surface": [
           {
            "colorbar": {
             "outlinewidth": 0,
             "ticks": ""
            },
            "colorscale": [
             [
              0,
              "#0d0887"
             ],
             [
              0.1111111111111111,
              "#46039f"
             ],
             [
              0.2222222222222222,
              "#7201a8"
             ],
             [
              0.3333333333333333,
              "#9c179e"
             ],
             [
              0.4444444444444444,
              "#bd3786"
             ],
             [
              0.5555555555555556,
              "#d8576b"
             ],
             [
              0.6666666666666666,
              "#ed7953"
             ],
             [
              0.7777777777777778,
              "#fb9f3a"
             ],
             [
              0.8888888888888888,
              "#fdca26"
             ],
             [
              1,
              "#f0f921"
             ]
            ],
            "type": "surface"
           }
          ],
          "table": [
           {
            "cells": {
             "fill": {
              "color": "#EBF0F8"
             },
             "line": {
              "color": "white"
             }
            },
            "header": {
             "fill": {
              "color": "#C8D4E3"
             },
             "line": {
              "color": "white"
             }
            },
            "type": "table"
           }
          ]
         },
         "layout": {
          "annotationdefaults": {
           "arrowcolor": "#2a3f5f",
           "arrowhead": 0,
           "arrowwidth": 1
          },
          "autotypenumbers": "strict",
          "coloraxis": {
           "colorbar": {
            "outlinewidth": 0,
            "ticks": ""
           }
          },
          "colorscale": {
           "diverging": [
            [
             0,
             "#8e0152"
            ],
            [
             0.1,
             "#c51b7d"
            ],
            [
             0.2,
             "#de77ae"
            ],
            [
             0.3,
             "#f1b6da"
            ],
            [
             0.4,
             "#fde0ef"
            ],
            [
             0.5,
             "#f7f7f7"
            ],
            [
             0.6,
             "#e6f5d0"
            ],
            [
             0.7,
             "#b8e186"
            ],
            [
             0.8,
             "#7fbc41"
            ],
            [
             0.9,
             "#4d9221"
            ],
            [
             1,
             "#276419"
            ]
           ],
           "sequential": [
            [
             0,
             "#0d0887"
            ],
            [
             0.1111111111111111,
             "#46039f"
            ],
            [
             0.2222222222222222,
             "#7201a8"
            ],
            [
             0.3333333333333333,
             "#9c179e"
            ],
            [
             0.4444444444444444,
             "#bd3786"
            ],
            [
             0.5555555555555556,
             "#d8576b"
            ],
            [
             0.6666666666666666,
             "#ed7953"
            ],
            [
             0.7777777777777778,
             "#fb9f3a"
            ],
            [
             0.8888888888888888,
             "#fdca26"
            ],
            [
             1,
             "#f0f921"
            ]
           ],
           "sequentialminus": [
            [
             0,
             "#0d0887"
            ],
            [
             0.1111111111111111,
             "#46039f"
            ],
            [
             0.2222222222222222,
             "#7201a8"
            ],
            [
             0.3333333333333333,
             "#9c179e"
            ],
            [
             0.4444444444444444,
             "#bd3786"
            ],
            [
             0.5555555555555556,
             "#d8576b"
            ],
            [
             0.6666666666666666,
             "#ed7953"
            ],
            [
             0.7777777777777778,
             "#fb9f3a"
            ],
            [
             0.8888888888888888,
             "#fdca26"
            ],
            [
             1,
             "#f0f921"
            ]
           ]
          },
          "colorway": [
           "#636efa",
           "#EF553B",
           "#00cc96",
           "#ab63fa",
           "#FFA15A",
           "#19d3f3",
           "#FF6692",
           "#B6E880",
           "#FF97FF",
           "#FECB52"
          ],
          "font": {
           "color": "#2a3f5f"
          },
          "geo": {
           "bgcolor": "white",
           "lakecolor": "white",
           "landcolor": "#E5ECF6",
           "showlakes": true,
           "showland": true,
           "subunitcolor": "white"
          },
          "hoverlabel": {
           "align": "left"
          },
          "hovermode": "closest",
          "mapbox": {
           "style": "light"
          },
          "paper_bgcolor": "white",
          "plot_bgcolor": "#E5ECF6",
          "polar": {
           "angularaxis": {
            "gridcolor": "white",
            "linecolor": "white",
            "ticks": ""
           },
           "bgcolor": "#E5ECF6",
           "radialaxis": {
            "gridcolor": "white",
            "linecolor": "white",
            "ticks": ""
           }
          },
          "scene": {
           "xaxis": {
            "backgroundcolor": "#E5ECF6",
            "gridcolor": "white",
            "gridwidth": 2,
            "linecolor": "white",
            "showbackground": true,
            "ticks": "",
            "zerolinecolor": "white"
           },
           "yaxis": {
            "backgroundcolor": "#E5ECF6",
            "gridcolor": "white",
            "gridwidth": 2,
            "linecolor": "white",
            "showbackground": true,
            "ticks": "",
            "zerolinecolor": "white"
           },
           "zaxis": {
            "backgroundcolor": "#E5ECF6",
            "gridcolor": "white",
            "gridwidth": 2,
            "linecolor": "white",
            "showbackground": true,
            "ticks": "",
            "zerolinecolor": "white"
           }
          },
          "shapedefaults": {
           "line": {
            "color": "#2a3f5f"
           }
          },
          "ternary": {
           "aaxis": {
            "gridcolor": "white",
            "linecolor": "white",
            "ticks": ""
           },
           "baxis": {
            "gridcolor": "white",
            "linecolor": "white",
            "ticks": ""
           },
           "bgcolor": "#E5ECF6",
           "caxis": {
            "gridcolor": "white",
            "linecolor": "white",
            "ticks": ""
           }
          },
          "title": {
           "x": 0.05
          },
          "xaxis": {
           "automargin": true,
           "gridcolor": "white",
           "linecolor": "white",
           "ticks": "",
           "title": {
            "standoff": 15
           },
           "zerolinecolor": "white",
           "zerolinewidth": 2
          },
          "yaxis": {
           "automargin": true,
           "gridcolor": "white",
           "linecolor": "white",
           "ticks": "",
           "title": {
            "standoff": 15
           },
           "zerolinecolor": "white",
           "zerolinewidth": 2
          }
         }
        },
        "xaxis": {
         "anchor": "y",
         "domain": [
          0,
          1
         ],
         "range": [
          0,
          10
         ],
         "title": {
          "text": "Rolling Average CR Out"
         }
        },
        "yaxis": {
         "anchor": "x",
         "domain": [
          0,
          1
         ],
         "range": [
          0,
          10
         ],
         "title": {
          "text": "Gross + Price Return"
         }
        }
       }
      }
     },
     "metadata": {},
     "output_type": "display_data"
    }
   ],
   "source": [
    "make_scatterplot(df, \"Rolling Average CR Out\", \"Gross + Price Return\").show()  # figure out why there is so much dip"
   ]
  },
  {
   "cell_type": "markdown",
   "metadata": {},
   "source": [
    "Why is base like that?\n"
   ]
  },
  {
   "cell_type": "code",
   "execution_count": 68,
   "metadata": {},
   "outputs": [
    {
     "data": {
      "text/html": [
       "<div>\n",
       "<style scoped>\n",
       "    .dataframe tbody tr th:only-of-type {\n",
       "        vertical-align: middle;\n",
       "    }\n",
       "\n",
       "    .dataframe tbody tr th {\n",
       "        vertical-align: top;\n",
       "    }\n",
       "\n",
       "    .dataframe thead th {\n",
       "        text-align: right;\n",
       "    }\n",
       "</style>\n",
       "<table border=\"1\" class=\"dataframe\">\n",
       "  <thead>\n",
       "    <tr style=\"text-align: right;\">\n",
       "      <th></th>\n",
       "      <th>block</th>\n",
       "      <th>sellTokenAddress</th>\n",
       "      <th>achieved_price</th>\n",
       "      <th>normalized_sell_amount</th>\n",
       "      <th>normalized_buy_amount</th>\n",
       "      <th>oracle_price</th>\n",
       "      <th>incentive_calculator_price</th>\n",
       "      <th>tokenSymbol</th>\n",
       "      <th>chain</th>\n",
       "      <th>incentive percent diff to achieved</th>\n",
       "      <th>oracle percent diff to achieved</th>\n",
       "    </tr>\n",
       "    <tr>\n",
       "      <th>timestamp</th>\n",
       "      <th></th>\n",
       "      <th></th>\n",
       "      <th></th>\n",
       "      <th></th>\n",
       "      <th></th>\n",
       "      <th></th>\n",
       "      <th></th>\n",
       "      <th></th>\n",
       "      <th></th>\n",
       "      <th></th>\n",
       "      <th></th>\n",
       "    </tr>\n",
       "  </thead>\n",
       "  <tbody>\n",
       "    <tr>\n",
       "      <th>2024-09-19 19:06:47+00:00</th>\n",
       "      <td>20786622</td>\n",
       "      <td>0xC0c293ce456fF0ED870ADd98a0828Dd4d2903DBF</td>\n",
       "      <td>0.000162</td>\n",
       "      <td>405.885565</td>\n",
       "      <td>0.065661</td>\n",
       "      <td>0.000164</td>\n",
       "      <td>0.000172</td>\n",
       "      <td>AURA</td>\n",
       "      <td>eth</td>\n",
       "      <td>5.905974</td>\n",
       "      <td>1.484707</td>\n",
       "    </tr>\n",
       "    <tr>\n",
       "      <th>2024-09-19 19:06:47+00:00</th>\n",
       "      <td>20786622</td>\n",
       "      <td>0xba100000625a3754423978a60c9317c58a424e3D</td>\n",
       "      <td>0.000753</td>\n",
       "      <td>97.656862</td>\n",
       "      <td>0.073584</td>\n",
       "      <td>0.000778</td>\n",
       "      <td>0.000775</td>\n",
       "      <td>BAL</td>\n",
       "      <td>eth</td>\n",
       "      <td>2.768548</td>\n",
       "      <td>3.135906</td>\n",
       "    </tr>\n",
       "    <tr>\n",
       "      <th>2024-09-19 19:06:47+00:00</th>\n",
       "      <td>20786622</td>\n",
       "      <td>0xA0b86991c6218b36c1d19D4a2e9Eb0cE3606eB48</td>\n",
       "      <td>0.000404</td>\n",
       "      <td>305.110013</td>\n",
       "      <td>0.123151</td>\n",
       "      <td>0.000403</td>\n",
       "      <td>0.000419</td>\n",
       "      <td>USDC</td>\n",
       "      <td>eth</td>\n",
       "      <td>3.722417</td>\n",
       "      <td>-0.126957</td>\n",
       "    </tr>\n",
       "    <tr>\n",
       "      <th>2024-09-19 19:06:47+00:00</th>\n",
       "      <td>20786622</td>\n",
       "      <td>0x4e3FBD56CD56c3e72c1403e103b45Db9da5B9D2B</td>\n",
       "      <td>0.000846</td>\n",
       "      <td>6.322527</td>\n",
       "      <td>0.005347</td>\n",
       "      <td>0.000843</td>\n",
       "      <td>0.000852</td>\n",
       "      <td>CVX</td>\n",
       "      <td>eth</td>\n",
       "      <td>0.743179</td>\n",
       "      <td>-0.342306</td>\n",
       "    </tr>\n",
       "    <tr>\n",
       "      <th>2024-09-19 19:06:47+00:00</th>\n",
       "      <td>20786622</td>\n",
       "      <td>0xD533a949740bb3306d119CC777fa900bA034cd52</td>\n",
       "      <td>0.000115</td>\n",
       "      <td>2107.509144</td>\n",
       "      <td>0.241327</td>\n",
       "      <td>0.000115</td>\n",
       "      <td>0.000116</td>\n",
       "      <td>CRV</td>\n",
       "      <td>eth</td>\n",
       "      <td>1.150033</td>\n",
       "      <td>0.475829</td>\n",
       "    </tr>\n",
       "    <tr>\n",
       "      <th>...</th>\n",
       "      <td>...</td>\n",
       "      <td>...</td>\n",
       "      <td>...</td>\n",
       "      <td>...</td>\n",
       "      <td>...</td>\n",
       "      <td>...</td>\n",
       "      <td>...</td>\n",
       "      <td>...</td>\n",
       "      <td>...</td>\n",
       "      <td>...</td>\n",
       "      <td>...</td>\n",
       "    </tr>\n",
       "    <tr>\n",
       "      <th>2025-01-27 03:07:35+00:00</th>\n",
       "      <td>21713067</td>\n",
       "      <td>0xba100000625a3754423978a60c9317c58a424e3D</td>\n",
       "      <td>0.000755</td>\n",
       "      <td>210.190557</td>\n",
       "      <td>0.158694</td>\n",
       "      <td>0.000758</td>\n",
       "      <td>0.000772</td>\n",
       "      <td>BAL</td>\n",
       "      <td>eth</td>\n",
       "      <td>2.199226</td>\n",
       "      <td>0.443491</td>\n",
       "    </tr>\n",
       "    <tr>\n",
       "      <th>2025-01-27 03:07:35+00:00</th>\n",
       "      <td>21713067</td>\n",
       "      <td>0x6DF0E641FC9847c0c6Fde39bE6253045440c14d3</td>\n",
       "      <td>0.000032</td>\n",
       "      <td>30004.063009</td>\n",
       "      <td>0.964463</td>\n",
       "      <td>0.000033</td>\n",
       "      <td>0.000033</td>\n",
       "      <td>DINERO</td>\n",
       "      <td>eth</td>\n",
       "      <td>2.696231</td>\n",
       "      <td>1.306728</td>\n",
       "    </tr>\n",
       "    <tr>\n",
       "      <th>2025-01-27 03:07:35+00:00</th>\n",
       "      <td>21713067</td>\n",
       "      <td>0xA0b86991c6218b36c1d19D4a2e9Eb0cE3606eB48</td>\n",
       "      <td>0.000315</td>\n",
       "      <td>760.484015</td>\n",
       "      <td>0.239211</td>\n",
       "      <td>0.000315</td>\n",
       "      <td>0.000303</td>\n",
       "      <td>USDC</td>\n",
       "      <td>eth</td>\n",
       "      <td>-3.763736</td>\n",
       "      <td>0.199511</td>\n",
       "    </tr>\n",
       "    <tr>\n",
       "      <th>2025-01-27 03:07:35+00:00</th>\n",
       "      <td>21713067</td>\n",
       "      <td>0x4e3FBD56CD56c3e72c1403e103b45Db9da5B9D2B</td>\n",
       "      <td>0.000972</td>\n",
       "      <td>13.361730</td>\n",
       "      <td>0.012981</td>\n",
       "      <td>0.000984</td>\n",
       "      <td>0.001044</td>\n",
       "      <td>CVX</td>\n",
       "      <td>eth</td>\n",
       "      <td>6.974115</td>\n",
       "      <td>1.228812</td>\n",
       "    </tr>\n",
       "    <tr>\n",
       "      <th>2025-01-27 03:07:47+00:00</th>\n",
       "      <td>21713068</td>\n",
       "      <td>0xD533a949740bb3306d119CC777fa900bA034cd52</td>\n",
       "      <td>0.000232</td>\n",
       "      <td>2229.673319</td>\n",
       "      <td>0.516655</td>\n",
       "      <td>0.000234</td>\n",
       "      <td>0.000240</td>\n",
       "      <td>CRV</td>\n",
       "      <td>eth</td>\n",
       "      <td>3.596353</td>\n",
       "      <td>0.870395</td>\n",
       "    </tr>\n",
       "  </tbody>\n",
       "</table>\n",
       "<p>1327 rows × 11 columns</p>\n",
       "</div>"
      ],
      "text/plain": [
       "                              block  \\\n",
       "timestamp                             \n",
       "2024-09-19 19:06:47+00:00  20786622   \n",
       "2024-09-19 19:06:47+00:00  20786622   \n",
       "2024-09-19 19:06:47+00:00  20786622   \n",
       "2024-09-19 19:06:47+00:00  20786622   \n",
       "2024-09-19 19:06:47+00:00  20786622   \n",
       "...                             ...   \n",
       "2025-01-27 03:07:35+00:00  21713067   \n",
       "2025-01-27 03:07:35+00:00  21713067   \n",
       "2025-01-27 03:07:35+00:00  21713067   \n",
       "2025-01-27 03:07:35+00:00  21713067   \n",
       "2025-01-27 03:07:47+00:00  21713068   \n",
       "\n",
       "                                                     sellTokenAddress  \\\n",
       "timestamp                                                               \n",
       "2024-09-19 19:06:47+00:00  0xC0c293ce456fF0ED870ADd98a0828Dd4d2903DBF   \n",
       "2024-09-19 19:06:47+00:00  0xba100000625a3754423978a60c9317c58a424e3D   \n",
       "2024-09-19 19:06:47+00:00  0xA0b86991c6218b36c1d19D4a2e9Eb0cE3606eB48   \n",
       "2024-09-19 19:06:47+00:00  0x4e3FBD56CD56c3e72c1403e103b45Db9da5B9D2B   \n",
       "2024-09-19 19:06:47+00:00  0xD533a949740bb3306d119CC777fa900bA034cd52   \n",
       "...                                                               ...   \n",
       "2025-01-27 03:07:35+00:00  0xba100000625a3754423978a60c9317c58a424e3D   \n",
       "2025-01-27 03:07:35+00:00  0x6DF0E641FC9847c0c6Fde39bE6253045440c14d3   \n",
       "2025-01-27 03:07:35+00:00  0xA0b86991c6218b36c1d19D4a2e9Eb0cE3606eB48   \n",
       "2025-01-27 03:07:35+00:00  0x4e3FBD56CD56c3e72c1403e103b45Db9da5B9D2B   \n",
       "2025-01-27 03:07:47+00:00  0xD533a949740bb3306d119CC777fa900bA034cd52   \n",
       "\n",
       "                           achieved_price  normalized_sell_amount  \\\n",
       "timestamp                                                           \n",
       "2024-09-19 19:06:47+00:00        0.000162              405.885565   \n",
       "2024-09-19 19:06:47+00:00        0.000753               97.656862   \n",
       "2024-09-19 19:06:47+00:00        0.000404              305.110013   \n",
       "2024-09-19 19:06:47+00:00        0.000846                6.322527   \n",
       "2024-09-19 19:06:47+00:00        0.000115             2107.509144   \n",
       "...                                   ...                     ...   \n",
       "2025-01-27 03:07:35+00:00        0.000755              210.190557   \n",
       "2025-01-27 03:07:35+00:00        0.000032            30004.063009   \n",
       "2025-01-27 03:07:35+00:00        0.000315              760.484015   \n",
       "2025-01-27 03:07:35+00:00        0.000972               13.361730   \n",
       "2025-01-27 03:07:47+00:00        0.000232             2229.673319   \n",
       "\n",
       "                           normalized_buy_amount  oracle_price  \\\n",
       "timestamp                                                        \n",
       "2024-09-19 19:06:47+00:00               0.065661      0.000164   \n",
       "2024-09-19 19:06:47+00:00               0.073584      0.000778   \n",
       "2024-09-19 19:06:47+00:00               0.123151      0.000403   \n",
       "2024-09-19 19:06:47+00:00               0.005347      0.000843   \n",
       "2024-09-19 19:06:47+00:00               0.241327      0.000115   \n",
       "...                                          ...           ...   \n",
       "2025-01-27 03:07:35+00:00               0.158694      0.000758   \n",
       "2025-01-27 03:07:35+00:00               0.964463      0.000033   \n",
       "2025-01-27 03:07:35+00:00               0.239211      0.000315   \n",
       "2025-01-27 03:07:35+00:00               0.012981      0.000984   \n",
       "2025-01-27 03:07:47+00:00               0.516655      0.000234   \n",
       "\n",
       "                           incentive_calculator_price tokenSymbol chain  \\\n",
       "timestamp                                                                 \n",
       "2024-09-19 19:06:47+00:00                    0.000172        AURA   eth   \n",
       "2024-09-19 19:06:47+00:00                    0.000775         BAL   eth   \n",
       "2024-09-19 19:06:47+00:00                    0.000419        USDC   eth   \n",
       "2024-09-19 19:06:47+00:00                    0.000852         CVX   eth   \n",
       "2024-09-19 19:06:47+00:00                    0.000116         CRV   eth   \n",
       "...                                               ...         ...   ...   \n",
       "2025-01-27 03:07:35+00:00                    0.000772         BAL   eth   \n",
       "2025-01-27 03:07:35+00:00                    0.000033      DINERO   eth   \n",
       "2025-01-27 03:07:35+00:00                    0.000303        USDC   eth   \n",
       "2025-01-27 03:07:35+00:00                    0.001044         CVX   eth   \n",
       "2025-01-27 03:07:47+00:00                    0.000240         CRV   eth   \n",
       "\n",
       "                           incentive percent diff to achieved  \\\n",
       "timestamp                                                       \n",
       "2024-09-19 19:06:47+00:00                            5.905974   \n",
       "2024-09-19 19:06:47+00:00                            2.768548   \n",
       "2024-09-19 19:06:47+00:00                            3.722417   \n",
       "2024-09-19 19:06:47+00:00                            0.743179   \n",
       "2024-09-19 19:06:47+00:00                            1.150033   \n",
       "...                                                       ...   \n",
       "2025-01-27 03:07:35+00:00                            2.199226   \n",
       "2025-01-27 03:07:35+00:00                            2.696231   \n",
       "2025-01-27 03:07:35+00:00                           -3.763736   \n",
       "2025-01-27 03:07:35+00:00                            6.974115   \n",
       "2025-01-27 03:07:47+00:00                            3.596353   \n",
       "\n",
       "                           oracle percent diff to achieved  \n",
       "timestamp                                                   \n",
       "2024-09-19 19:06:47+00:00                         1.484707  \n",
       "2024-09-19 19:06:47+00:00                         3.135906  \n",
       "2024-09-19 19:06:47+00:00                        -0.126957  \n",
       "2024-09-19 19:06:47+00:00                        -0.342306  \n",
       "2024-09-19 19:06:47+00:00                         0.475829  \n",
       "...                                                    ...  \n",
       "2025-01-27 03:07:35+00:00                         0.443491  \n",
       "2025-01-27 03:07:35+00:00                         1.306728  \n",
       "2025-01-27 03:07:35+00:00                         0.199511  \n",
       "2025-01-27 03:07:35+00:00                         1.228812  \n",
       "2025-01-27 03:07:47+00:00                         0.870395  \n",
       "\n",
       "[1327 rows x 11 columns]"
      ]
     },
     "execution_count": 68,
     "metadata": {},
     "output_type": "execute_result"
    }
   ],
   "source": [
    "from mainnet_launch.pages.incentive_token_prices.incentive_token_liqudiation_prices import (\n",
    "    _get_only_some_incentive_tokens_prices,\n",
    "    ALL_CHAINS,\n",
    ")\n",
    "from mainnet_launch.data_fetching.add_info_to_dataframes import add_timestamp_to_df_with_block_column\n",
    "\n",
    "from datetime import datetime, timezone, timedelta\n",
    "\n",
    "today = datetime.now(timezone.utc)\n",
    "thirty_days_ago = today - timedelta(days=30)\n",
    "year_ago = today - timedelta(days=365)\n",
    "\n",
    "# acheived == buy over sell quantity\n",
    "\n",
    "# ach =\n",
    "# .0001162 = .065661 / X\n",
    "# X * .0001162 = .065661\n",
    "# X = .065661 /  .0001162\n",
    "\n",
    "incentive_token_df = _get_only_some_incentive_tokens_prices(ALL_CHAINS[0], year_ago).set_index(\"timestamp\")\n",
    "incentive_token_df"
   ]
  },
  {
   "cell_type": "code",
   "execution_count": 69,
   "metadata": {},
   "outputs": [
    {
     "data": {
      "application/vnd.plotly.v1+json": {
       "config": {
        "plotlyServerURL": "https://plot.ly"
       },
       "data": [
        {
         "alignmentgroup": "True",
         "hovertemplate": "variable=expected-actual eth earned from incentives<br>timestamp=%{x}<br>value=%{y}<extra></extra>",
         "legendgroup": "expected-actual eth earned from incentives",
         "marker": {
          "color": "#636efa",
          "pattern": {
           "shape": ""
          }
         },
         "name": "expected-actual eth earned from incentives",
         "offsetgroup": "expected-actual eth earned from incentives",
         "orientation": "v",
         "showlegend": true,
         "textposition": "auto",
         "type": "bar",
         "x": [
          "2024-09-19T00:00:00+00:00",
          "2024-09-20T00:00:00+00:00",
          "2024-09-21T00:00:00+00:00",
          "2024-09-22T00:00:00+00:00",
          "2024-09-23T00:00:00+00:00",
          "2024-09-24T00:00:00+00:00",
          "2024-09-25T00:00:00+00:00",
          "2024-09-26T00:00:00+00:00",
          "2024-09-27T00:00:00+00:00",
          "2024-09-28T00:00:00+00:00",
          "2024-09-29T00:00:00+00:00",
          "2024-09-30T00:00:00+00:00",
          "2024-10-01T00:00:00+00:00",
          "2024-10-02T00:00:00+00:00",
          "2024-10-03T00:00:00+00:00",
          "2024-10-04T00:00:00+00:00",
          "2024-10-05T00:00:00+00:00",
          "2024-10-06T00:00:00+00:00",
          "2024-10-07T00:00:00+00:00",
          "2024-10-08T00:00:00+00:00",
          "2024-10-09T00:00:00+00:00",
          "2024-10-10T00:00:00+00:00",
          "2024-10-11T00:00:00+00:00",
          "2024-10-12T00:00:00+00:00",
          "2024-10-13T00:00:00+00:00",
          "2024-10-14T00:00:00+00:00",
          "2024-10-15T00:00:00+00:00",
          "2024-10-16T00:00:00+00:00",
          "2024-10-17T00:00:00+00:00",
          "2024-10-18T00:00:00+00:00",
          "2024-10-19T00:00:00+00:00",
          "2024-10-20T00:00:00+00:00",
          "2024-10-21T00:00:00+00:00",
          "2024-10-22T00:00:00+00:00",
          "2024-10-23T00:00:00+00:00",
          "2024-10-24T00:00:00+00:00",
          "2024-10-25T00:00:00+00:00",
          "2024-10-26T00:00:00+00:00",
          "2024-10-27T00:00:00+00:00",
          "2024-10-28T00:00:00+00:00",
          "2024-10-29T00:00:00+00:00",
          "2024-10-30T00:00:00+00:00",
          "2024-10-31T00:00:00+00:00",
          "2024-11-01T00:00:00+00:00",
          "2024-11-02T00:00:00+00:00",
          "2024-11-03T00:00:00+00:00",
          "2024-11-04T00:00:00+00:00",
          "2024-11-05T00:00:00+00:00",
          "2024-11-06T00:00:00+00:00",
          "2024-11-07T00:00:00+00:00",
          "2024-11-08T00:00:00+00:00",
          "2024-11-09T00:00:00+00:00",
          "2024-11-10T00:00:00+00:00",
          "2024-11-11T00:00:00+00:00",
          "2024-11-12T00:00:00+00:00",
          "2024-11-13T00:00:00+00:00",
          "2024-11-14T00:00:00+00:00",
          "2024-11-15T00:00:00+00:00",
          "2024-11-16T00:00:00+00:00",
          "2024-11-17T00:00:00+00:00",
          "2024-11-18T00:00:00+00:00",
          "2024-11-19T00:00:00+00:00",
          "2024-11-20T00:00:00+00:00",
          "2024-11-21T00:00:00+00:00",
          "2024-11-22T00:00:00+00:00",
          "2024-11-23T00:00:00+00:00",
          "2024-11-24T00:00:00+00:00",
          "2024-11-25T00:00:00+00:00",
          "2024-11-26T00:00:00+00:00",
          "2024-11-27T00:00:00+00:00",
          "2024-11-28T00:00:00+00:00",
          "2024-11-29T00:00:00+00:00",
          "2024-11-30T00:00:00+00:00",
          "2024-12-01T00:00:00+00:00",
          "2024-12-02T00:00:00+00:00",
          "2024-12-03T00:00:00+00:00",
          "2024-12-04T00:00:00+00:00",
          "2024-12-05T00:00:00+00:00",
          "2024-12-06T00:00:00+00:00",
          "2024-12-07T00:00:00+00:00",
          "2024-12-08T00:00:00+00:00",
          "2024-12-09T00:00:00+00:00",
          "2024-12-10T00:00:00+00:00",
          "2024-12-11T00:00:00+00:00",
          "2024-12-12T00:00:00+00:00",
          "2024-12-13T00:00:00+00:00",
          "2024-12-14T00:00:00+00:00",
          "2024-12-15T00:00:00+00:00",
          "2024-12-16T00:00:00+00:00",
          "2024-12-17T00:00:00+00:00",
          "2024-12-18T00:00:00+00:00",
          "2024-12-19T00:00:00+00:00",
          "2024-12-20T00:00:00+00:00",
          "2024-12-21T00:00:00+00:00",
          "2024-12-22T00:00:00+00:00",
          "2024-12-23T00:00:00+00:00",
          "2024-12-24T00:00:00+00:00",
          "2024-12-25T00:00:00+00:00",
          "2024-12-26T00:00:00+00:00",
          "2024-12-27T00:00:00+00:00",
          "2024-12-28T00:00:00+00:00",
          "2024-12-29T00:00:00+00:00",
          "2024-12-30T00:00:00+00:00",
          "2024-12-31T00:00:00+00:00",
          "2025-01-01T00:00:00+00:00",
          "2025-01-02T00:00:00+00:00",
          "2025-01-03T00:00:00+00:00",
          "2025-01-04T00:00:00+00:00",
          "2025-01-05T00:00:00+00:00",
          "2025-01-06T00:00:00+00:00",
          "2025-01-07T00:00:00+00:00",
          "2025-01-08T00:00:00+00:00",
          "2025-01-09T00:00:00+00:00",
          "2025-01-10T00:00:00+00:00",
          "2025-01-11T00:00:00+00:00",
          "2025-01-12T00:00:00+00:00",
          "2025-01-13T00:00:00+00:00",
          "2025-01-14T00:00:00+00:00",
          "2025-01-15T00:00:00+00:00",
          "2025-01-16T00:00:00+00:00",
          "2025-01-17T00:00:00+00:00",
          "2025-01-18T00:00:00+00:00",
          "2025-01-19T00:00:00+00:00",
          "2025-01-20T00:00:00+00:00",
          "2025-01-21T00:00:00+00:00",
          "2025-01-22T00:00:00+00:00",
          "2025-01-23T00:00:00+00:00",
          "2025-01-24T00:00:00+00:00",
          "2025-01-25T00:00:00+00:00",
          "2025-01-26T00:00:00+00:00",
          "2025-01-27T00:00:00+00:00"
         ],
         "xaxis": "x",
         "y": [
          0.013825633334476811,
          -0.008118020613484666,
          0.006633742082976081,
          0.00583159393176204,
          0.004612108737105839,
          -0.001981677015824494,
          -0.026667169330620813,
          0.000984752019148773,
          0.005971466677374859,
          0.0002690928851945447,
          0.013819887106600795,
          0.01577452732824805,
          0.029620111982775595,
          0,
          0.012135162508767155,
          0.006636136862362271,
          0.016016747191133274,
          0,
          0,
          0,
          0,
          0,
          0,
          0,
          0,
          0,
          0.03656698125059373,
          0.0545727085164332,
          0.037369200874250476,
          0.027506822543760367,
          -0.002340055155153212,
          0.01037009706996272,
          0.017339161132879595,
          0.01312398471634339,
          -0.0024707262900655804,
          0.04798583200987782,
          0.030257611964434994,
          0.021022306163086178,
          0,
          0.16274479783639018,
          -0.044659965929329866,
          -0.18496536216702564,
          -0.04130586166429585,
          -0.3142353978792576,
          -0.15688600229986235,
          -0.0769108505651373,
          -0.03554181603877847,
          0.0526741452416836,
          0.06846284434631592,
          -0.1882743521216528,
          0.056247351581413634,
          -0.13925709434323877,
          -0.493947044892408,
          -0.1955029926708516,
          0.01738863179724228,
          -0.04595645511703532,
          -0.04325924786848653,
          -0.19416826473495122,
          -0.1576903157531226,
          -0.08710467317874904,
          -0.09714432006262914,
          -0.21624008482006785,
          -0.12491261125786754,
          -0.07328656518353943,
          -0.18221557537218458,
          -0.2737319708166216,
          -0.21958436590282127,
          -0.20275233316470162,
          -0.16268645879801807,
          -0.1914863617989758,
          -0.1561271061750786,
          -0.08035742679940536,
          -0.14481408623679917,
          -0.30509697524801943,
          -0.5787528091145602,
          -0.6914821559719033,
          -1.1707475732339607,
          -0.7383201039122478,
          -0.8881446419932683,
          -0.8882876158743904,
          -0.6890865543612416,
          -0.3894659464991832,
          -0.3647897232326093,
          -0.2729568190144994,
          -0.3195567957331267,
          -0.27980140114140156,
          -0.3827738611938875,
          0.035064670122027214,
          0.09621259161357416,
          0.11483651282575741,
          0,
          0.19107896113540088,
          0.08574695545568603,
          -0.032260264013962335,
          0.0452070460128004,
          -0.07844721718170955,
          -0.199365406173121,
          -0.10551234832849889,
          0.028240929788159785,
          -0.0632551320671553,
          -0.023485381856975268,
          -0.03576683186442901,
          0.017666321449903873,
          0.09055004466142244,
          0,
          -0.109667057787247,
          -0.09290373254484253,
          -0.45631786093724863,
          -0.12784397991613716,
          0,
          -0.12236663929952797,
          -0.10143208490598728,
          -0.284732402625014,
          -0.4931248834306721,
          -0.5623426094894824,
          -0.19382531834808361,
          0.019910587717193267,
          -0.8396022256877647,
          -0.2559580053413416,
          -0.6335839253291127,
          -0.21081994058875453,
          -0.2352079338367927,
          0,
          0,
          0.420965401059539,
          0.14706525361463768,
          0.11765473004856955,
          0.07346383098059787,
          0.015889200923830137,
          0.0024044078956094797,
          0.04144832001390969
         ],
         "yaxis": "y"
        }
       ],
       "layout": {
        "barmode": "relative",
        "legend": {
         "title": {
          "text": "variable"
         },
         "tracegroupgap": 0
        },
        "margin": {
         "t": 60
        },
        "template": {
         "data": {
          "bar": [
           {
            "error_x": {
             "color": "#2a3f5f"
            },
            "error_y": {
             "color": "#2a3f5f"
            },
            "marker": {
             "line": {
              "color": "#E5ECF6",
              "width": 0.5
             },
             "pattern": {
              "fillmode": "overlay",
              "size": 10,
              "solidity": 0.2
             }
            },
            "type": "bar"
           }
          ],
          "barpolar": [
           {
            "marker": {
             "line": {
              "color": "#E5ECF6",
              "width": 0.5
             },
             "pattern": {
              "fillmode": "overlay",
              "size": 10,
              "solidity": 0.2
             }
            },
            "type": "barpolar"
           }
          ],
          "carpet": [
           {
            "aaxis": {
             "endlinecolor": "#2a3f5f",
             "gridcolor": "white",
             "linecolor": "white",
             "minorgridcolor": "white",
             "startlinecolor": "#2a3f5f"
            },
            "baxis": {
             "endlinecolor": "#2a3f5f",
             "gridcolor": "white",
             "linecolor": "white",
             "minorgridcolor": "white",
             "startlinecolor": "#2a3f5f"
            },
            "type": "carpet"
           }
          ],
          "choropleth": [
           {
            "colorbar": {
             "outlinewidth": 0,
             "ticks": ""
            },
            "type": "choropleth"
           }
          ],
          "contour": [
           {
            "colorbar": {
             "outlinewidth": 0,
             "ticks": ""
            },
            "colorscale": [
             [
              0,
              "#0d0887"
             ],
             [
              0.1111111111111111,
              "#46039f"
             ],
             [
              0.2222222222222222,
              "#7201a8"
             ],
             [
              0.3333333333333333,
              "#9c179e"
             ],
             [
              0.4444444444444444,
              "#bd3786"
             ],
             [
              0.5555555555555556,
              "#d8576b"
             ],
             [
              0.6666666666666666,
              "#ed7953"
             ],
             [
              0.7777777777777778,
              "#fb9f3a"
             ],
             [
              0.8888888888888888,
              "#fdca26"
             ],
             [
              1,
              "#f0f921"
             ]
            ],
            "type": "contour"
           }
          ],
          "contourcarpet": [
           {
            "colorbar": {
             "outlinewidth": 0,
             "ticks": ""
            },
            "type": "contourcarpet"
           }
          ],
          "heatmap": [
           {
            "colorbar": {
             "outlinewidth": 0,
             "ticks": ""
            },
            "colorscale": [
             [
              0,
              "#0d0887"
             ],
             [
              0.1111111111111111,
              "#46039f"
             ],
             [
              0.2222222222222222,
              "#7201a8"
             ],
             [
              0.3333333333333333,
              "#9c179e"
             ],
             [
              0.4444444444444444,
              "#bd3786"
             ],
             [
              0.5555555555555556,
              "#d8576b"
             ],
             [
              0.6666666666666666,
              "#ed7953"
             ],
             [
              0.7777777777777778,
              "#fb9f3a"
             ],
             [
              0.8888888888888888,
              "#fdca26"
             ],
             [
              1,
              "#f0f921"
             ]
            ],
            "type": "heatmap"
           }
          ],
          "heatmapgl": [
           {
            "colorbar": {
             "outlinewidth": 0,
             "ticks": ""
            },
            "colorscale": [
             [
              0,
              "#0d0887"
             ],
             [
              0.1111111111111111,
              "#46039f"
             ],
             [
              0.2222222222222222,
              "#7201a8"
             ],
             [
              0.3333333333333333,
              "#9c179e"
             ],
             [
              0.4444444444444444,
              "#bd3786"
             ],
             [
              0.5555555555555556,
              "#d8576b"
             ],
             [
              0.6666666666666666,
              "#ed7953"
             ],
             [
              0.7777777777777778,
              "#fb9f3a"
             ],
             [
              0.8888888888888888,
              "#fdca26"
             ],
             [
              1,
              "#f0f921"
             ]
            ],
            "type": "heatmapgl"
           }
          ],
          "histogram": [
           {
            "marker": {
             "pattern": {
              "fillmode": "overlay",
              "size": 10,
              "solidity": 0.2
             }
            },
            "type": "histogram"
           }
          ],
          "histogram2d": [
           {
            "colorbar": {
             "outlinewidth": 0,
             "ticks": ""
            },
            "colorscale": [
             [
              0,
              "#0d0887"
             ],
             [
              0.1111111111111111,
              "#46039f"
             ],
             [
              0.2222222222222222,
              "#7201a8"
             ],
             [
              0.3333333333333333,
              "#9c179e"
             ],
             [
              0.4444444444444444,
              "#bd3786"
             ],
             [
              0.5555555555555556,
              "#d8576b"
             ],
             [
              0.6666666666666666,
              "#ed7953"
             ],
             [
              0.7777777777777778,
              "#fb9f3a"
             ],
             [
              0.8888888888888888,
              "#fdca26"
             ],
             [
              1,
              "#f0f921"
             ]
            ],
            "type": "histogram2d"
           }
          ],
          "histogram2dcontour": [
           {
            "colorbar": {
             "outlinewidth": 0,
             "ticks": ""
            },
            "colorscale": [
             [
              0,
              "#0d0887"
             ],
             [
              0.1111111111111111,
              "#46039f"
             ],
             [
              0.2222222222222222,
              "#7201a8"
             ],
             [
              0.3333333333333333,
              "#9c179e"
             ],
             [
              0.4444444444444444,
              "#bd3786"
             ],
             [
              0.5555555555555556,
              "#d8576b"
             ],
             [
              0.6666666666666666,
              "#ed7953"
             ],
             [
              0.7777777777777778,
              "#fb9f3a"
             ],
             [
              0.8888888888888888,
              "#fdca26"
             ],
             [
              1,
              "#f0f921"
             ]
            ],
            "type": "histogram2dcontour"
           }
          ],
          "mesh3d": [
           {
            "colorbar": {
             "outlinewidth": 0,
             "ticks": ""
            },
            "type": "mesh3d"
           }
          ],
          "parcoords": [
           {
            "line": {
             "colorbar": {
              "outlinewidth": 0,
              "ticks": ""
             }
            },
            "type": "parcoords"
           }
          ],
          "pie": [
           {
            "automargin": true,
            "type": "pie"
           }
          ],
          "scatter": [
           {
            "fillpattern": {
             "fillmode": "overlay",
             "size": 10,
             "solidity": 0.2
            },
            "type": "scatter"
           }
          ],
          "scatter3d": [
           {
            "line": {
             "colorbar": {
              "outlinewidth": 0,
              "ticks": ""
             }
            },
            "marker": {
             "colorbar": {
              "outlinewidth": 0,
              "ticks": ""
             }
            },
            "type": "scatter3d"
           }
          ],
          "scattercarpet": [
           {
            "marker": {
             "colorbar": {
              "outlinewidth": 0,
              "ticks": ""
             }
            },
            "type": "scattercarpet"
           }
          ],
          "scattergeo": [
           {
            "marker": {
             "colorbar": {
              "outlinewidth": 0,
              "ticks": ""
             }
            },
            "type": "scattergeo"
           }
          ],
          "scattergl": [
           {
            "marker": {
             "colorbar": {
              "outlinewidth": 0,
              "ticks": ""
             }
            },
            "type": "scattergl"
           }
          ],
          "scattermapbox": [
           {
            "marker": {
             "colorbar": {
              "outlinewidth": 0,
              "ticks": ""
             }
            },
            "type": "scattermapbox"
           }
          ],
          "scatterpolar": [
           {
            "marker": {
             "colorbar": {
              "outlinewidth": 0,
              "ticks": ""
             }
            },
            "type": "scatterpolar"
           }
          ],
          "scatterpolargl": [
           {
            "marker": {
             "colorbar": {
              "outlinewidth": 0,
              "ticks": ""
             }
            },
            "type": "scatterpolargl"
           }
          ],
          "scatterternary": [
           {
            "marker": {
             "colorbar": {
              "outlinewidth": 0,
              "ticks": ""
             }
            },
            "type": "scatterternary"
           }
          ],
          "surface": [
           {
            "colorbar": {
             "outlinewidth": 0,
             "ticks": ""
            },
            "colorscale": [
             [
              0,
              "#0d0887"
             ],
             [
              0.1111111111111111,
              "#46039f"
             ],
             [
              0.2222222222222222,
              "#7201a8"
             ],
             [
              0.3333333333333333,
              "#9c179e"
             ],
             [
              0.4444444444444444,
              "#bd3786"
             ],
             [
              0.5555555555555556,
              "#d8576b"
             ],
             [
              0.6666666666666666,
              "#ed7953"
             ],
             [
              0.7777777777777778,
              "#fb9f3a"
             ],
             [
              0.8888888888888888,
              "#fdca26"
             ],
             [
              1,
              "#f0f921"
             ]
            ],
            "type": "surface"
           }
          ],
          "table": [
           {
            "cells": {
             "fill": {
              "color": "#EBF0F8"
             },
             "line": {
              "color": "white"
             }
            },
            "header": {
             "fill": {
              "color": "#C8D4E3"
             },
             "line": {
              "color": "white"
             }
            },
            "type": "table"
           }
          ]
         },
         "layout": {
          "annotationdefaults": {
           "arrowcolor": "#2a3f5f",
           "arrowhead": 0,
           "arrowwidth": 1
          },
          "autotypenumbers": "strict",
          "coloraxis": {
           "colorbar": {
            "outlinewidth": 0,
            "ticks": ""
           }
          },
          "colorscale": {
           "diverging": [
            [
             0,
             "#8e0152"
            ],
            [
             0.1,
             "#c51b7d"
            ],
            [
             0.2,
             "#de77ae"
            ],
            [
             0.3,
             "#f1b6da"
            ],
            [
             0.4,
             "#fde0ef"
            ],
            [
             0.5,
             "#f7f7f7"
            ],
            [
             0.6,
             "#e6f5d0"
            ],
            [
             0.7,
             "#b8e186"
            ],
            [
             0.8,
             "#7fbc41"
            ],
            [
             0.9,
             "#4d9221"
            ],
            [
             1,
             "#276419"
            ]
           ],
           "sequential": [
            [
             0,
             "#0d0887"
            ],
            [
             0.1111111111111111,
             "#46039f"
            ],
            [
             0.2222222222222222,
             "#7201a8"
            ],
            [
             0.3333333333333333,
             "#9c179e"
            ],
            [
             0.4444444444444444,
             "#bd3786"
            ],
            [
             0.5555555555555556,
             "#d8576b"
            ],
            [
             0.6666666666666666,
             "#ed7953"
            ],
            [
             0.7777777777777778,
             "#fb9f3a"
            ],
            [
             0.8888888888888888,
             "#fdca26"
            ],
            [
             1,
             "#f0f921"
            ]
           ],
           "sequentialminus": [
            [
             0,
             "#0d0887"
            ],
            [
             0.1111111111111111,
             "#46039f"
            ],
            [
             0.2222222222222222,
             "#7201a8"
            ],
            [
             0.3333333333333333,
             "#9c179e"
            ],
            [
             0.4444444444444444,
             "#bd3786"
            ],
            [
             0.5555555555555556,
             "#d8576b"
            ],
            [
             0.6666666666666666,
             "#ed7953"
            ],
            [
             0.7777777777777778,
             "#fb9f3a"
            ],
            [
             0.8888888888888888,
             "#fdca26"
            ],
            [
             1,
             "#f0f921"
            ]
           ]
          },
          "colorway": [
           "#636efa",
           "#EF553B",
           "#00cc96",
           "#ab63fa",
           "#FFA15A",
           "#19d3f3",
           "#FF6692",
           "#B6E880",
           "#FF97FF",
           "#FECB52"
          ],
          "font": {
           "color": "#2a3f5f"
          },
          "geo": {
           "bgcolor": "white",
           "lakecolor": "white",
           "landcolor": "#E5ECF6",
           "showlakes": true,
           "showland": true,
           "subunitcolor": "white"
          },
          "hoverlabel": {
           "align": "left"
          },
          "hovermode": "closest",
          "mapbox": {
           "style": "light"
          },
          "paper_bgcolor": "white",
          "plot_bgcolor": "#E5ECF6",
          "polar": {
           "angularaxis": {
            "gridcolor": "white",
            "linecolor": "white",
            "ticks": ""
           },
           "bgcolor": "#E5ECF6",
           "radialaxis": {
            "gridcolor": "white",
            "linecolor": "white",
            "ticks": ""
           }
          },
          "scene": {
           "xaxis": {
            "backgroundcolor": "#E5ECF6",
            "gridcolor": "white",
            "gridwidth": 2,
            "linecolor": "white",
            "showbackground": true,
            "ticks": "",
            "zerolinecolor": "white"
           },
           "yaxis": {
            "backgroundcolor": "#E5ECF6",
            "gridcolor": "white",
            "gridwidth": 2,
            "linecolor": "white",
            "showbackground": true,
            "ticks": "",
            "zerolinecolor": "white"
           },
           "zaxis": {
            "backgroundcolor": "#E5ECF6",
            "gridcolor": "white",
            "gridwidth": 2,
            "linecolor": "white",
            "showbackground": true,
            "ticks": "",
            "zerolinecolor": "white"
           }
          },
          "shapedefaults": {
           "line": {
            "color": "#2a3f5f"
           }
          },
          "ternary": {
           "aaxis": {
            "gridcolor": "white",
            "linecolor": "white",
            "ticks": ""
           },
           "baxis": {
            "gridcolor": "white",
            "linecolor": "white",
            "ticks": ""
           },
           "bgcolor": "#E5ECF6",
           "caxis": {
            "gridcolor": "white",
            "linecolor": "white",
            "ticks": ""
           }
          },
          "title": {
           "x": 0.05
          },
          "xaxis": {
           "automargin": true,
           "gridcolor": "white",
           "linecolor": "white",
           "ticks": "",
           "title": {
            "standoff": 15
           },
           "zerolinecolor": "white",
           "zerolinewidth": 2
          },
          "yaxis": {
           "automargin": true,
           "gridcolor": "white",
           "linecolor": "white",
           "ticks": "",
           "title": {
            "standoff": 15
           },
           "zerolinecolor": "white",
           "zerolinewidth": 2
          }
         }
        },
        "xaxis": {
         "anchor": "y",
         "domain": [
          0,
          1
         ],
         "title": {
          "text": "timestamp"
         }
        },
        "yaxis": {
         "anchor": "x",
         "domain": [
          0,
          1
         ],
         "title": {
          "text": "value"
         }
        }
       }
      }
     },
     "metadata": {},
     "output_type": "display_data"
    }
   ],
   "source": [
    "incentive_token_df[\"expected_eth\"] = (\n",
    "    incentive_token_df[\"normalized_sell_amount\"] * incentive_token_df[\"incentive_calculator_price\"]\n",
    ")\n",
    "incentive_token_df[\"expected-actual eth earned from incentives\"] = (\n",
    "    incentive_token_df[\"expected_eth\"] - incentive_token_df[\"normalized_buy_amount\"]\n",
    ")\n",
    "px.bar(incentive_token_df.resample(\"1d\")[\"expected-actual eth earned from incentives\"].sum())"
   ]
  },
  {
   "cell_type": "code",
   "execution_count": 70,
   "metadata": {},
   "outputs": [
    {
     "data": {
      "application/vnd.plotly.v1+json": {
       "config": {
        "plotlyServerURL": "https://plot.ly"
       },
       "data": [
        {
         "hovertemplate": "variable=expected_eth<br>timestamp=%{x}<br>value=%{y}<extra></extra>",
         "legendgroup": "expected_eth",
         "line": {
          "color": "#636efa",
          "dash": "solid"
         },
         "marker": {
          "symbol": "circle"
         },
         "mode": "lines",
         "name": "expected_eth",
         "showlegend": true,
         "type": "scattergl",
         "x": [
          "2024-09-19T19:06:47+00:00",
          "2024-09-19T19:06:47+00:00",
          "2024-09-19T19:06:47+00:00",
          "2024-09-19T19:06:47+00:00",
          "2024-09-19T19:06:47+00:00",
          "2024-09-20T22:04:35+00:00",
          "2024-09-20T22:04:35+00:00",
          "2024-09-20T22:04:35+00:00",
          "2024-09-20T22:04:35+00:00",
          "2024-09-20T22:04:35+00:00",
          "2024-09-20T22:35:59+00:00",
          "2024-09-20T22:35:59+00:00",
          "2024-09-20T22:35:59+00:00",
          "2024-09-20T22:35:59+00:00",
          "2024-09-20T22:35:59+00:00",
          "2024-09-20T22:36:11+00:00",
          "2024-09-21T21:05:11+00:00",
          "2024-09-21T21:05:11+00:00",
          "2024-09-21T21:05:11+00:00",
          "2024-09-21T21:05:11+00:00",
          "2024-09-21T21:05:11+00:00",
          "2024-09-21T21:14:35+00:00",
          "2024-09-22T11:32:23+00:00",
          "2024-09-22T11:32:23+00:00",
          "2024-09-22T11:32:23+00:00",
          "2024-09-22T11:32:23+00:00",
          "2024-09-22T11:32:23+00:00",
          "2024-09-22T17:32:23+00:00",
          "2024-09-22T17:32:23+00:00",
          "2024-09-22T17:32:23+00:00",
          "2024-09-22T17:32:23+00:00",
          "2024-09-22T17:32:23+00:00",
          "2024-09-22T17:32:35+00:00",
          "2024-09-22T23:32:23+00:00",
          "2024-09-22T23:32:23+00:00",
          "2024-09-22T23:32:23+00:00",
          "2024-09-22T23:32:23+00:00",
          "2024-09-22T23:32:23+00:00",
          "2024-09-22T23:32:47+00:00",
          "2024-09-23T11:32:47+00:00",
          "2024-09-23T11:32:47+00:00",
          "2024-09-23T11:32:47+00:00",
          "2024-09-23T11:32:47+00:00",
          "2024-09-23T11:32:47+00:00",
          "2024-09-24T11:32:35+00:00",
          "2024-09-24T11:32:35+00:00",
          "2024-09-24T11:32:35+00:00",
          "2024-09-24T11:32:35+00:00",
          "2024-09-24T11:32:35+00:00",
          "2024-09-24T11:32:47+00:00",
          "2024-09-25T05:32:23+00:00",
          "2024-09-25T05:32:23+00:00",
          "2024-09-25T05:32:23+00:00",
          "2024-09-25T05:32:23+00:00",
          "2024-09-25T05:32:23+00:00",
          "2024-09-25T05:32:35+00:00",
          "2024-09-25T23:32:23+00:00",
          "2024-09-25T23:32:23+00:00",
          "2024-09-25T23:32:23+00:00",
          "2024-09-25T23:32:23+00:00",
          "2024-09-25T23:32:23+00:00",
          "2024-09-25T23:32:47+00:00",
          "2024-09-26T05:32:23+00:00",
          "2024-09-26T05:32:23+00:00",
          "2024-09-26T05:32:23+00:00",
          "2024-09-26T05:32:23+00:00",
          "2024-09-26T05:32:23+00:00",
          "2024-09-26T05:32:35+00:00",
          "2024-09-27T18:22:47+00:00",
          "2024-09-27T18:22:47+00:00",
          "2024-09-27T18:22:47+00:00",
          "2024-09-27T18:22:47+00:00",
          "2024-09-27T18:22:47+00:00",
          "2024-09-27T18:22:59+00:00",
          "2024-09-28T05:32:35+00:00",
          "2024-09-28T05:32:35+00:00",
          "2024-09-28T05:32:35+00:00",
          "2024-09-28T05:32:35+00:00",
          "2024-09-28T17:32:23+00:00",
          "2024-09-28T17:32:23+00:00",
          "2024-09-28T17:32:23+00:00",
          "2024-09-28T17:32:23+00:00",
          "2024-09-28T17:32:23+00:00",
          "2024-09-28T17:32:35+00:00",
          "2024-09-29T11:32:11+00:00",
          "2024-09-29T11:32:11+00:00",
          "2024-09-29T11:32:11+00:00",
          "2024-09-29T11:32:11+00:00",
          "2024-09-29T11:32:11+00:00",
          "2024-09-29T11:32:23+00:00",
          "2024-09-30T11:32:11+00:00",
          "2024-09-30T11:32:11+00:00",
          "2024-09-30T11:32:11+00:00",
          "2024-09-30T11:32:11+00:00",
          "2024-09-30T11:32:11+00:00",
          "2024-09-30T11:32:23+00:00",
          "2024-09-30T17:32:11+00:00",
          "2024-09-30T17:32:11+00:00",
          "2024-09-30T17:32:11+00:00",
          "2024-09-30T17:32:11+00:00",
          "2024-09-30T17:32:11+00:00",
          "2024-09-30T17:32:23+00:00",
          "2024-10-01T11:32:47+00:00",
          "2024-10-01T11:32:47+00:00",
          "2024-10-01T11:32:47+00:00",
          "2024-10-01T11:32:47+00:00",
          "2024-10-01T11:32:47+00:00",
          "2024-10-01T11:34:47+00:00",
          "2024-10-01T11:34:47+00:00",
          "2024-10-01T23:32:35+00:00",
          "2024-10-01T23:32:35+00:00",
          "2024-10-01T23:32:35+00:00",
          "2024-10-01T23:32:35+00:00",
          "2024-10-01T23:32:35+00:00",
          "2024-10-01T23:32:47+00:00",
          "2024-10-01T23:32:47+00:00",
          "2024-10-03T11:32:23+00:00",
          "2024-10-03T11:32:23+00:00",
          "2024-10-03T11:32:23+00:00",
          "2024-10-03T11:32:23+00:00",
          "2024-10-03T11:32:23+00:00",
          "2024-10-03T11:32:35+00:00",
          "2024-10-03T11:32:35+00:00",
          "2024-10-04T05:32:11+00:00",
          "2024-10-04T05:32:11+00:00",
          "2024-10-04T05:32:11+00:00",
          "2024-10-04T05:32:11+00:00",
          "2024-10-04T05:32:11+00:00",
          "2024-10-04T05:32:23+00:00",
          "2024-10-04T05:32:23+00:00",
          "2024-10-04T11:32:23+00:00",
          "2024-10-04T11:32:23+00:00",
          "2024-10-04T11:32:23+00:00",
          "2024-10-04T11:32:23+00:00",
          "2024-10-04T11:32:23+00:00",
          "2024-10-04T11:32:35+00:00",
          "2024-10-04T11:32:35+00:00",
          "2024-10-05T05:32:35+00:00",
          "2024-10-05T05:32:35+00:00",
          "2024-10-05T05:32:35+00:00",
          "2024-10-05T05:32:35+00:00",
          "2024-10-05T05:32:35+00:00",
          "2024-10-05T05:34:23+00:00",
          "2024-10-05T05:34:23+00:00",
          "2024-10-05T11:32:23+00:00",
          "2024-10-05T11:32:23+00:00",
          "2024-10-05T17:32:23+00:00",
          "2024-10-05T17:32:23+00:00",
          "2024-10-05T17:32:23+00:00",
          "2024-10-05T17:32:23+00:00",
          "2024-10-05T17:32:23+00:00",
          "2024-10-05T17:32:35+00:00",
          "2024-10-05T17:32:35+00:00",
          "2024-10-15T19:26:23+00:00",
          "2024-10-15T19:26:23+00:00",
          "2024-10-15T19:26:23+00:00",
          "2024-10-15T19:26:23+00:00",
          "2024-10-15T19:26:23+00:00",
          "2024-10-15T19:26:47+00:00",
          "2024-10-16T18:11:23+00:00",
          "2024-10-16T18:11:23+00:00",
          "2024-10-16T18:11:23+00:00",
          "2024-10-16T18:11:23+00:00",
          "2024-10-16T18:11:23+00:00",
          "2024-10-16T18:11:35+00:00",
          "2024-10-17T00:25:11+00:00",
          "2024-10-17T00:25:11+00:00",
          "2024-10-17T00:25:11+00:00",
          "2024-10-17T00:25:11+00:00",
          "2024-10-17T00:25:11+00:00",
          "2024-10-17T12:25:11+00:00",
          "2024-10-17T12:25:11+00:00",
          "2024-10-17T12:25:11+00:00",
          "2024-10-17T12:25:11+00:00",
          "2024-10-17T12:25:11+00:00",
          "2024-10-18T02:46:23+00:00",
          "2024-10-18T02:46:23+00:00",
          "2024-10-18T02:46:23+00:00",
          "2024-10-18T02:46:23+00:00",
          "2024-10-18T02:46:23+00:00",
          "2024-10-18T02:46:35+00:00",
          "2024-10-18T18:25:11+00:00",
          "2024-10-18T18:25:11+00:00",
          "2024-10-18T18:25:11+00:00",
          "2024-10-18T18:25:11+00:00",
          "2024-10-18T18:25:11+00:00",
          "2024-10-18T18:25:23+00:00",
          "2024-10-19T06:25:11+00:00",
          "2024-10-19T06:25:11+00:00",
          "2024-10-19T06:25:11+00:00",
          "2024-10-19T06:25:11+00:00",
          "2024-10-19T06:25:11+00:00",
          "2024-10-19T18:25:11+00:00",
          "2024-10-19T18:25:11+00:00",
          "2024-10-19T18:25:11+00:00",
          "2024-10-19T18:25:11+00:00",
          "2024-10-19T18:25:11+00:00",
          "2024-10-20T06:24:59+00:00",
          "2024-10-20T06:24:59+00:00",
          "2024-10-20T06:24:59+00:00",
          "2024-10-20T06:24:59+00:00",
          "2024-10-20T06:24:59+00:00",
          "2024-10-20T18:25:23+00:00",
          "2024-10-20T18:25:23+00:00",
          "2024-10-20T18:25:23+00:00",
          "2024-10-20T18:25:23+00:00",
          "2024-10-20T18:25:23+00:00",
          "2024-10-21T06:25:23+00:00",
          "2024-10-21T06:25:23+00:00",
          "2024-10-21T06:25:23+00:00",
          "2024-10-21T06:25:23+00:00",
          "2024-10-21T06:25:23+00:00",
          "2024-10-21T18:25:23+00:00",
          "2024-10-21T18:25:23+00:00",
          "2024-10-21T18:25:23+00:00",
          "2024-10-21T18:25:23+00:00",
          "2024-10-21T18:25:23+00:00",
          "2024-10-22T00:25:11+00:00",
          "2024-10-22T00:25:11+00:00",
          "2024-10-22T06:25:23+00:00",
          "2024-10-22T06:25:23+00:00",
          "2024-10-22T06:25:23+00:00",
          "2024-10-22T06:25:23+00:00",
          "2024-10-22T06:25:23+00:00",
          "2024-10-22T12:25:11+00:00",
          "2024-10-22T12:25:11+00:00",
          "2024-10-22T18:25:11+00:00",
          "2024-10-22T18:25:11+00:00",
          "2024-10-22T18:25:11+00:00",
          "2024-10-22T18:25:11+00:00",
          "2024-10-22T18:25:11+00:00",
          "2024-10-23T00:25:23+00:00",
          "2024-10-23T00:25:23+00:00",
          "2024-10-23T06:25:11+00:00",
          "2024-10-23T06:25:11+00:00",
          "2024-10-23T06:25:11+00:00",
          "2024-10-23T06:25:11+00:00",
          "2024-10-23T06:25:11+00:00",
          "2024-10-23T18:25:23+00:00",
          "2024-10-23T18:25:23+00:00",
          "2024-10-23T18:25:23+00:00",
          "2024-10-23T18:25:23+00:00",
          "2024-10-23T18:25:23+00:00",
          "2024-10-24T00:24:59+00:00",
          "2024-10-24T06:25:23+00:00",
          "2024-10-24T06:25:23+00:00",
          "2024-10-24T06:25:23+00:00",
          "2024-10-24T06:25:23+00:00",
          "2024-10-24T06:25:23+00:00",
          "2024-10-24T06:27:35+00:00",
          "2024-10-24T18:25:35+00:00",
          "2024-10-24T18:25:35+00:00",
          "2024-10-24T18:25:35+00:00",
          "2024-10-24T18:25:35+00:00",
          "2024-10-24T18:25:35+00:00",
          "2024-10-24T18:27:23+00:00",
          "2024-10-25T06:25:11+00:00",
          "2024-10-25T06:25:11+00:00",
          "2024-10-25T06:25:11+00:00",
          "2024-10-25T06:25:11+00:00",
          "2024-10-25T06:25:11+00:00",
          "2024-10-25T18:25:23+00:00",
          "2024-10-25T18:25:23+00:00",
          "2024-10-25T18:25:23+00:00",
          "2024-10-25T18:25:23+00:00",
          "2024-10-25T18:25:23+00:00",
          "2024-10-25T18:25:35+00:00",
          "2024-10-26T06:25:35+00:00",
          "2024-10-26T06:25:35+00:00",
          "2024-10-26T06:25:35+00:00",
          "2024-10-26T06:25:35+00:00",
          "2024-10-26T06:25:35+00:00",
          "2024-10-26T06:27:11+00:00",
          "2024-10-28T03:58:47+00:00",
          "2024-10-28T03:58:47+00:00",
          "2024-10-28T03:58:47+00:00",
          "2024-10-28T03:58:47+00:00",
          "2024-10-28T03:58:47+00:00",
          "2024-10-28T14:21:35+00:00",
          "2024-10-28T14:21:35+00:00",
          "2024-10-28T14:21:35+00:00",
          "2024-10-28T14:21:35+00:00",
          "2024-10-28T14:21:35+00:00",
          "2024-10-28T15:28:35+00:00",
          "2024-10-28T22:15:23+00:00",
          "2024-10-28T22:15:23+00:00",
          "2024-10-28T22:15:23+00:00",
          "2024-10-28T22:15:23+00:00",
          "2024-10-28T22:15:23+00:00",
          "2024-10-28T22:15:35+00:00",
          "2024-10-29T04:17:59+00:00",
          "2024-10-29T04:17:59+00:00",
          "2024-10-29T04:17:59+00:00",
          "2024-10-29T04:17:59+00:00",
          "2024-10-29T04:17:59+00:00",
          "2024-10-29T04:18:11+00:00",
          "2024-10-29T18:26:23+00:00",
          "2024-10-29T18:26:23+00:00",
          "2024-10-29T18:26:23+00:00",
          "2024-10-29T18:26:23+00:00",
          "2024-10-29T18:26:23+00:00",
          "2024-10-29T18:26:35+00:00",
          "2024-10-29T18:26:35+00:00",
          "2024-10-30T04:17:47+00:00",
          "2024-10-30T04:17:47+00:00",
          "2024-10-30T04:17:47+00:00",
          "2024-10-30T04:17:47+00:00",
          "2024-10-30T04:17:47+00:00",
          "2024-10-30T04:17:59+00:00",
          "2024-10-30T04:17:59+00:00",
          "2024-10-30T16:17:47+00:00",
          "2024-10-30T16:17:47+00:00",
          "2024-10-30T16:17:47+00:00",
          "2024-10-30T16:17:47+00:00",
          "2024-10-30T16:17:47+00:00",
          "2024-10-30T16:17:59+00:00",
          "2024-10-30T16:17:59+00:00",
          "2024-10-31T04:17:47+00:00",
          "2024-10-31T04:17:47+00:00",
          "2024-10-31T04:17:47+00:00",
          "2024-10-31T04:17:47+00:00",
          "2024-10-31T04:17:47+00:00",
          "2024-10-31T04:17:59+00:00",
          "2024-10-31T16:17:47+00:00",
          "2024-10-31T16:17:47+00:00",
          "2024-10-31T16:17:47+00:00",
          "2024-10-31T16:17:47+00:00",
          "2024-10-31T16:17:47+00:00",
          "2024-10-31T16:17:59+00:00",
          "2024-10-31T16:17:59+00:00",
          "2024-11-01T04:17:47+00:00",
          "2024-11-01T04:17:47+00:00",
          "2024-11-01T04:17:47+00:00",
          "2024-11-01T04:17:47+00:00",
          "2024-11-01T04:17:47+00:00",
          "2024-11-01T04:17:59+00:00",
          "2024-11-01T04:17:59+00:00",
          "2024-11-01T16:17:47+00:00",
          "2024-11-01T16:17:47+00:00",
          "2024-11-01T16:17:47+00:00",
          "2024-11-01T16:17:47+00:00",
          "2024-11-01T16:17:47+00:00",
          "2024-11-01T16:17:59+00:00",
          "2024-11-01T16:17:59+00:00",
          "2024-11-02T16:17:47+00:00",
          "2024-11-02T16:17:47+00:00",
          "2024-11-02T16:17:47+00:00",
          "2024-11-02T16:17:47+00:00",
          "2024-11-02T16:17:47+00:00",
          "2024-11-02T16:17:59+00:00",
          "2024-11-03T04:17:47+00:00",
          "2024-11-03T04:17:47+00:00",
          "2024-11-03T04:17:47+00:00",
          "2024-11-03T04:17:47+00:00",
          "2024-11-03T04:17:47+00:00",
          "2024-11-03T04:17:59+00:00",
          "2024-11-03T16:17:47+00:00",
          "2024-11-03T16:17:47+00:00",
          "2024-11-03T16:17:47+00:00",
          "2024-11-03T16:17:47+00:00",
          "2024-11-03T16:17:47+00:00",
          "2024-11-03T16:17:59+00:00",
          "2024-11-04T04:17:47+00:00",
          "2024-11-04T04:17:47+00:00",
          "2024-11-04T04:17:47+00:00",
          "2024-11-04T04:17:47+00:00",
          "2024-11-04T04:17:47+00:00",
          "2024-11-04T04:17:59+00:00",
          "2024-11-04T16:17:59+00:00",
          "2024-11-04T16:17:59+00:00",
          "2024-11-04T16:17:59+00:00",
          "2024-11-04T16:17:59+00:00",
          "2024-11-04T16:17:59+00:00",
          "2024-11-04T16:18:11+00:00",
          "2024-11-05T04:17:47+00:00",
          "2024-11-05T04:17:47+00:00",
          "2024-11-05T04:17:47+00:00",
          "2024-11-05T04:17:47+00:00",
          "2024-11-05T04:17:47+00:00",
          "2024-11-05T04:17:59+00:00",
          "2024-11-05T16:17:59+00:00",
          "2024-11-05T16:17:59+00:00",
          "2024-11-05T16:17:59+00:00",
          "2024-11-05T16:17:59+00:00",
          "2024-11-05T16:17:59+00:00",
          "2024-11-06T04:17:47+00:00",
          "2024-11-06T04:17:47+00:00",
          "2024-11-06T04:17:47+00:00",
          "2024-11-06T04:17:47+00:00",
          "2024-11-06T04:17:47+00:00",
          "2024-11-06T16:17:47+00:00",
          "2024-11-06T16:17:47+00:00",
          "2024-11-06T16:17:47+00:00",
          "2024-11-06T16:17:47+00:00",
          "2024-11-06T16:17:47+00:00",
          "2024-11-07T04:17:47+00:00",
          "2024-11-07T04:17:47+00:00",
          "2024-11-07T04:17:47+00:00",
          "2024-11-07T04:17:47+00:00",
          "2024-11-07T04:17:47+00:00",
          "2024-11-07T17:02:59+00:00",
          "2024-11-07T17:02:59+00:00",
          "2024-11-07T17:02:59+00:00",
          "2024-11-07T17:02:59+00:00",
          "2024-11-07T17:02:59+00:00",
          "2024-11-08T04:17:47+00:00",
          "2024-11-08T04:17:47+00:00",
          "2024-11-08T04:17:47+00:00",
          "2024-11-08T04:17:47+00:00",
          "2024-11-08T04:17:47+00:00",
          "2024-11-08T16:17:47+00:00",
          "2024-11-08T16:17:47+00:00",
          "2024-11-08T16:17:47+00:00",
          "2024-11-08T16:17:47+00:00",
          "2024-11-08T16:17:47+00:00",
          "2024-11-08T23:02:11+00:00",
          "2024-11-08T23:02:11+00:00",
          "2024-11-08T23:02:11+00:00",
          "2024-11-08T23:02:11+00:00",
          "2024-11-08T23:02:11+00:00",
          "2024-11-08T23:02:23+00:00",
          "2024-11-09T10:17:47+00:00",
          "2024-11-09T10:17:47+00:00",
          "2024-11-09T10:17:47+00:00",
          "2024-11-09T10:17:47+00:00",
          "2024-11-09T10:17:47+00:00",
          "2024-11-09T10:17:59+00:00",
          "2024-11-10T14:21:35+00:00",
          "2024-11-10T14:21:35+00:00",
          "2024-11-10T14:21:35+00:00",
          "2024-11-10T14:21:35+00:00",
          "2024-11-10T14:21:35+00:00",
          "2024-11-10T14:21:47+00:00",
          "2024-11-10T20:24:47+00:00",
          "2024-11-10T22:24:23+00:00",
          "2024-11-10T22:24:23+00:00",
          "2024-11-10T22:24:23+00:00",
          "2024-11-10T22:24:23+00:00",
          "2024-11-10T22:24:23+00:00",
          "2024-11-11T04:24:35+00:00",
          "2024-11-11T04:24:35+00:00",
          "2024-11-11T04:24:35+00:00",
          "2024-11-11T04:24:35+00:00",
          "2024-11-11T04:24:35+00:00",
          "2024-11-11T04:24:47+00:00",
          "2024-11-11T12:24:35+00:00",
          "2024-11-11T12:24:35+00:00",
          "2024-11-11T12:24:35+00:00",
          "2024-11-11T12:24:35+00:00",
          "2024-11-11T12:24:35+00:00",
          "2024-11-11T12:24:47+00:00",
          "2024-11-11T20:24:35+00:00",
          "2024-11-11T20:24:35+00:00",
          "2024-11-11T20:24:35+00:00",
          "2024-11-11T20:24:35+00:00",
          "2024-11-11T20:24:35+00:00",
          "2024-11-11T20:24:47+00:00",
          "2024-11-12T04:24:35+00:00",
          "2024-11-12T04:24:35+00:00",
          "2024-11-12T04:24:35+00:00",
          "2024-11-12T04:24:35+00:00",
          "2024-11-12T04:24:35+00:00",
          "2024-11-12T04:24:47+00:00",
          "2024-11-12T12:24:35+00:00",
          "2024-11-12T12:24:35+00:00",
          "2024-11-12T12:24:35+00:00",
          "2024-11-12T12:24:35+00:00",
          "2024-11-12T12:24:35+00:00",
          "2024-11-12T12:24:47+00:00",
          "2024-11-12T20:24:47+00:00",
          "2024-11-12T20:24:47+00:00",
          "2024-11-12T20:24:47+00:00",
          "2024-11-12T20:24:47+00:00",
          "2024-11-12T20:24:47+00:00",
          "2024-11-12T20:24:59+00:00",
          "2024-11-13T04:24:35+00:00",
          "2024-11-13T04:24:35+00:00",
          "2024-11-13T04:24:35+00:00",
          "2024-11-13T04:24:35+00:00",
          "2024-11-13T04:24:35+00:00",
          "2024-11-13T04:24:47+00:00",
          "2024-11-13T12:24:35+00:00",
          "2024-11-13T12:24:35+00:00",
          "2024-11-13T12:24:35+00:00",
          "2024-11-13T12:24:35+00:00",
          "2024-11-13T12:24:35+00:00",
          "2024-11-13T12:24:47+00:00",
          "2024-11-13T22:32:59+00:00",
          "2024-11-13T22:32:59+00:00",
          "2024-11-13T22:32:59+00:00",
          "2024-11-13T22:32:59+00:00",
          "2024-11-13T22:32:59+00:00",
          "2024-11-13T22:33:11+00:00",
          "2024-11-14T06:24:35+00:00",
          "2024-11-14T06:24:35+00:00",
          "2024-11-14T06:24:35+00:00",
          "2024-11-14T06:24:35+00:00",
          "2024-11-14T06:24:35+00:00",
          "2024-11-14T06:24:47+00:00",
          "2024-11-14T14:24:35+00:00",
          "2024-11-14T14:24:35+00:00",
          "2024-11-14T14:24:35+00:00",
          "2024-11-14T14:24:35+00:00",
          "2024-11-14T14:24:35+00:00",
          "2024-11-14T14:24:47+00:00",
          "2024-11-14T22:24:35+00:00",
          "2024-11-14T22:24:35+00:00",
          "2024-11-14T22:24:35+00:00",
          "2024-11-14T22:24:35+00:00",
          "2024-11-14T22:24:35+00:00",
          "2024-11-15T06:24:35+00:00",
          "2024-11-15T06:24:35+00:00",
          "2024-11-15T06:24:35+00:00",
          "2024-11-15T06:24:35+00:00",
          "2024-11-15T06:24:35+00:00",
          "2024-11-15T14:24:35+00:00",
          "2024-11-15T14:24:35+00:00",
          "2024-11-15T14:24:35+00:00",
          "2024-11-15T14:24:35+00:00",
          "2024-11-15T14:24:35+00:00",
          "2024-11-15T22:24:35+00:00",
          "2024-11-15T22:24:35+00:00",
          "2024-11-15T22:24:35+00:00",
          "2024-11-15T22:24:35+00:00",
          "2024-11-15T22:24:35+00:00",
          "2024-11-16T06:24:35+00:00",
          "2024-11-16T06:24:35+00:00",
          "2024-11-16T06:24:35+00:00",
          "2024-11-16T06:24:35+00:00",
          "2024-11-16T06:24:35+00:00",
          "2024-11-16T23:03:35+00:00",
          "2024-11-16T23:03:35+00:00",
          "2024-11-16T23:03:35+00:00",
          "2024-11-16T23:03:35+00:00",
          "2024-11-16T23:03:35+00:00",
          "2024-11-17T06:24:35+00:00",
          "2024-11-17T06:24:35+00:00",
          "2024-11-17T06:24:35+00:00",
          "2024-11-17T06:24:35+00:00",
          "2024-11-17T06:24:35+00:00",
          "2024-11-17T14:24:35+00:00",
          "2024-11-17T14:24:35+00:00",
          "2024-11-17T14:24:35+00:00",
          "2024-11-17T14:24:35+00:00",
          "2024-11-17T14:24:35+00:00",
          "2024-11-17T14:24:47+00:00",
          "2024-11-17T22:24:35+00:00",
          "2024-11-17T22:24:35+00:00",
          "2024-11-17T22:24:35+00:00",
          "2024-11-17T22:24:35+00:00",
          "2024-11-17T22:24:35+00:00",
          "2024-11-17T22:24:47+00:00",
          "2024-11-18T06:24:35+00:00",
          "2024-11-18T06:24:35+00:00",
          "2024-11-18T06:24:35+00:00",
          "2024-11-18T06:24:35+00:00",
          "2024-11-18T06:24:35+00:00",
          "2024-11-18T06:24:47+00:00",
          "2024-11-18T14:24:47+00:00",
          "2024-11-18T14:24:47+00:00",
          "2024-11-18T14:24:47+00:00",
          "2024-11-18T14:24:47+00:00",
          "2024-11-18T14:24:47+00:00",
          "2024-11-18T14:24:59+00:00",
          "2024-11-18T22:24:35+00:00",
          "2024-11-18T22:24:35+00:00",
          "2024-11-18T22:24:35+00:00",
          "2024-11-18T22:24:35+00:00",
          "2024-11-18T22:24:35+00:00",
          "2024-11-18T22:24:47+00:00",
          "2024-11-19T06:24:35+00:00",
          "2024-11-19T06:24:35+00:00",
          "2024-11-19T06:24:35+00:00",
          "2024-11-19T06:24:35+00:00",
          "2024-11-19T06:24:35+00:00",
          "2024-11-19T06:24:47+00:00",
          "2024-11-19T14:24:59+00:00",
          "2024-11-19T22:24:35+00:00",
          "2024-11-20T03:00:35+00:00",
          "2024-11-20T03:00:35+00:00",
          "2024-11-20T03:00:35+00:00",
          "2024-11-20T03:00:35+00:00",
          "2024-11-20T03:00:35+00:00",
          "2024-11-20T06:24:35+00:00",
          "2024-11-20T06:24:35+00:00",
          "2024-11-20T06:24:35+00:00",
          "2024-11-20T06:24:35+00:00",
          "2024-11-20T06:24:35+00:00",
          "2024-11-20T06:24:47+00:00",
          "2024-11-20T14:24:35+00:00",
          "2024-11-20T14:24:35+00:00",
          "2024-11-20T14:24:35+00:00",
          "2024-11-20T14:24:35+00:00",
          "2024-11-20T14:24:35+00:00",
          "2024-11-20T14:24:47+00:00",
          "2024-11-20T22:24:47+00:00",
          "2024-11-21T00:24:23+00:00",
          "2024-11-21T00:24:23+00:00",
          "2024-11-21T00:24:23+00:00",
          "2024-11-21T00:24:23+00:00",
          "2024-11-21T00:24:23+00:00",
          "2024-11-21T06:24:35+00:00",
          "2024-11-21T06:24:35+00:00",
          "2024-11-21T06:24:35+00:00",
          "2024-11-21T06:24:35+00:00",
          "2024-11-21T06:24:35+00:00",
          "2024-11-21T06:24:47+00:00",
          "2024-11-21T16:24:35+00:00",
          "2024-11-21T16:24:35+00:00",
          "2024-11-21T16:24:35+00:00",
          "2024-11-21T16:24:35+00:00",
          "2024-11-21T16:24:35+00:00",
          "2024-11-21T16:24:47+00:00",
          "2024-11-22T00:24:47+00:00",
          "2024-11-22T14:24:35+00:00",
          "2024-11-22T14:24:35+00:00",
          "2024-11-22T14:24:35+00:00",
          "2024-11-22T14:24:35+00:00",
          "2024-11-22T14:24:35+00:00",
          "2024-11-22T14:24:47+00:00",
          "2024-11-22T22:24:35+00:00",
          "2024-11-22T22:24:35+00:00",
          "2024-11-22T22:24:35+00:00",
          "2024-11-22T22:24:35+00:00",
          "2024-11-22T22:24:35+00:00",
          "2024-11-22T22:24:47+00:00",
          "2024-11-23T06:24:35+00:00",
          "2024-11-23T06:24:35+00:00",
          "2024-11-23T06:24:35+00:00",
          "2024-11-23T06:24:35+00:00",
          "2024-11-23T06:24:35+00:00",
          "2024-11-23T06:24:47+00:00",
          "2024-11-23T14:24:35+00:00",
          "2024-11-23T14:24:35+00:00",
          "2024-11-23T14:24:35+00:00",
          "2024-11-23T14:24:35+00:00",
          "2024-11-23T14:24:35+00:00",
          "2024-11-23T14:24:47+00:00",
          "2024-11-23T22:24:35+00:00",
          "2024-11-23T22:24:35+00:00",
          "2024-11-23T22:24:35+00:00",
          "2024-11-23T22:24:35+00:00",
          "2024-11-23T22:24:35+00:00",
          "2024-11-24T06:24:35+00:00",
          "2024-11-24T06:24:35+00:00",
          "2024-11-24T06:24:35+00:00",
          "2024-11-24T06:24:35+00:00",
          "2024-11-24T06:24:35+00:00",
          "2024-11-24T14:24:35+00:00",
          "2024-11-24T14:24:35+00:00",
          "2024-11-24T14:24:35+00:00",
          "2024-11-24T14:24:35+00:00",
          "2024-11-24T14:24:35+00:00",
          "2024-11-24T14:24:47+00:00",
          "2024-11-24T22:24:47+00:00",
          "2024-11-24T22:24:47+00:00",
          "2024-11-24T22:24:47+00:00",
          "2024-11-24T22:24:47+00:00",
          "2024-11-24T22:24:47+00:00",
          "2024-11-25T06:24:47+00:00",
          "2024-11-25T06:24:47+00:00",
          "2024-11-25T06:24:47+00:00",
          "2024-11-25T06:24:47+00:00",
          "2024-11-25T06:24:47+00:00",
          "2024-11-25T06:24:59+00:00",
          "2024-11-25T14:24:47+00:00",
          "2024-11-25T14:24:47+00:00",
          "2024-11-25T14:24:47+00:00",
          "2024-11-25T14:24:47+00:00",
          "2024-11-25T14:24:47+00:00",
          "2024-11-25T22:24:35+00:00",
          "2024-11-25T22:24:35+00:00",
          "2024-11-25T22:24:35+00:00",
          "2024-11-25T22:24:35+00:00",
          "2024-11-25T22:24:35+00:00",
          "2024-11-25T22:24:47+00:00",
          "2024-11-26T06:24:35+00:00",
          "2024-11-26T06:24:35+00:00",
          "2024-11-26T06:24:35+00:00",
          "2024-11-26T06:24:35+00:00",
          "2024-11-26T06:24:35+00:00",
          "2024-11-26T06:24:47+00:00",
          "2024-11-26T12:24:35+00:00",
          "2024-11-26T12:24:35+00:00",
          "2024-11-26T12:24:35+00:00",
          "2024-11-26T12:24:35+00:00",
          "2024-11-26T12:24:35+00:00",
          "2024-11-26T12:24:47+00:00",
          "2024-11-26T20:24:35+00:00",
          "2024-11-26T20:24:35+00:00",
          "2024-11-26T20:24:35+00:00",
          "2024-11-26T20:24:35+00:00",
          "2024-11-26T20:24:35+00:00",
          "2024-11-26T20:24:47+00:00",
          "2024-11-27T04:24:47+00:00",
          "2024-11-27T04:24:47+00:00",
          "2024-11-27T04:24:47+00:00",
          "2024-11-27T04:24:47+00:00",
          "2024-11-27T04:24:47+00:00",
          "2024-11-27T04:24:59+00:00",
          "2024-11-27T12:24:35+00:00",
          "2024-11-27T12:24:35+00:00",
          "2024-11-27T12:24:35+00:00",
          "2024-11-27T12:24:35+00:00",
          "2024-11-27T12:24:35+00:00",
          "2024-11-27T12:24:47+00:00",
          "2024-11-27T20:24:35+00:00",
          "2024-11-27T20:24:35+00:00",
          "2024-11-27T20:24:35+00:00",
          "2024-11-27T20:24:35+00:00",
          "2024-11-27T20:24:35+00:00",
          "2024-11-27T20:24:47+00:00",
          "2024-11-28T04:24:35+00:00",
          "2024-11-28T04:24:35+00:00",
          "2024-11-28T04:24:35+00:00",
          "2024-11-28T04:24:35+00:00",
          "2024-11-28T04:24:35+00:00",
          "2024-11-28T04:24:47+00:00",
          "2024-11-28T12:24:35+00:00",
          "2024-11-28T12:24:35+00:00",
          "2024-11-28T12:24:35+00:00",
          "2024-11-28T12:24:35+00:00",
          "2024-11-28T12:24:35+00:00",
          "2024-11-28T12:24:47+00:00",
          "2024-11-28T20:24:59+00:00",
          "2024-11-28T20:24:59+00:00",
          "2024-11-28T20:24:59+00:00",
          "2024-11-28T20:24:59+00:00",
          "2024-11-28T20:24:59+00:00",
          "2024-11-28T20:25:11+00:00",
          "2024-11-29T04:24:35+00:00",
          "2024-11-29T04:24:35+00:00",
          "2024-11-29T04:24:35+00:00",
          "2024-11-29T04:24:35+00:00",
          "2024-11-29T04:24:35+00:00",
          "2024-11-29T12:24:35+00:00",
          "2024-11-29T12:24:35+00:00",
          "2024-11-29T12:24:35+00:00",
          "2024-11-29T12:24:35+00:00",
          "2024-11-29T12:24:35+00:00",
          "2024-11-29T20:24:35+00:00",
          "2024-11-29T20:24:35+00:00",
          "2024-11-29T20:24:35+00:00",
          "2024-11-29T20:24:35+00:00",
          "2024-11-29T20:24:35+00:00",
          "2024-11-30T04:24:35+00:00",
          "2024-11-30T04:24:35+00:00",
          "2024-11-30T04:24:35+00:00",
          "2024-11-30T04:24:35+00:00",
          "2024-11-30T04:24:35+00:00",
          "2024-11-30T12:24:47+00:00",
          "2024-11-30T12:24:47+00:00",
          "2024-11-30T12:24:47+00:00",
          "2024-11-30T12:24:47+00:00",
          "2024-11-30T12:24:47+00:00",
          "2024-11-30T20:24:35+00:00",
          "2024-11-30T20:24:35+00:00",
          "2024-11-30T20:24:35+00:00",
          "2024-11-30T20:24:35+00:00",
          "2024-11-30T20:24:35+00:00",
          "2024-12-01T04:24:35+00:00",
          "2024-12-01T04:24:35+00:00",
          "2024-12-01T04:24:35+00:00",
          "2024-12-01T04:24:35+00:00",
          "2024-12-01T04:24:35+00:00",
          "2024-12-01T12:24:35+00:00",
          "2024-12-01T12:24:35+00:00",
          "2024-12-01T12:24:35+00:00",
          "2024-12-01T12:24:35+00:00",
          "2024-12-01T12:24:35+00:00",
          "2024-12-01T20:24:35+00:00",
          "2024-12-01T20:24:35+00:00",
          "2024-12-01T20:24:35+00:00",
          "2024-12-01T20:24:35+00:00",
          "2024-12-01T20:24:35+00:00",
          "2024-12-02T18:24:23+00:00",
          "2024-12-02T18:24:23+00:00",
          "2024-12-02T18:24:23+00:00",
          "2024-12-02T18:24:23+00:00",
          "2024-12-02T22:24:35+00:00",
          "2024-12-02T22:24:35+00:00",
          "2024-12-02T22:24:35+00:00",
          "2024-12-02T22:24:35+00:00",
          "2024-12-02T22:24:35+00:00",
          "2024-12-03T06:24:35+00:00",
          "2024-12-03T06:24:35+00:00",
          "2024-12-03T06:24:35+00:00",
          "2024-12-03T06:24:35+00:00",
          "2024-12-03T06:24:35+00:00",
          "2024-12-03T14:24:35+00:00",
          "2024-12-03T14:24:35+00:00",
          "2024-12-03T14:24:35+00:00",
          "2024-12-03T14:24:35+00:00",
          "2024-12-03T14:24:35+00:00",
          "2024-12-03T22:24:35+00:00",
          "2024-12-03T22:24:35+00:00",
          "2024-12-03T22:24:35+00:00",
          "2024-12-03T22:24:35+00:00",
          "2024-12-03T22:24:35+00:00",
          "2024-12-04T06:24:35+00:00",
          "2024-12-04T06:24:35+00:00",
          "2024-12-04T06:24:35+00:00",
          "2024-12-04T06:24:35+00:00",
          "2024-12-04T06:24:35+00:00",
          "2024-12-04T14:24:35+00:00",
          "2024-12-04T14:24:35+00:00",
          "2024-12-04T14:24:35+00:00",
          "2024-12-04T14:24:35+00:00",
          "2024-12-04T14:24:35+00:00",
          "2024-12-04T22:24:35+00:00",
          "2024-12-04T22:24:35+00:00",
          "2024-12-04T22:24:35+00:00",
          "2024-12-04T22:24:35+00:00",
          "2024-12-04T22:24:35+00:00",
          "2024-12-05T06:24:35+00:00",
          "2024-12-05T06:24:35+00:00",
          "2024-12-05T06:24:35+00:00",
          "2024-12-05T06:24:35+00:00",
          "2024-12-05T06:24:35+00:00",
          "2024-12-05T20:24:23+00:00",
          "2024-12-05T20:24:23+00:00",
          "2024-12-05T20:24:23+00:00",
          "2024-12-05T20:24:23+00:00",
          "2024-12-05T20:24:23+00:00",
          "2024-12-05T20:24:35+00:00",
          "2024-12-06T02:24:59+00:00",
          "2024-12-06T02:24:59+00:00",
          "2024-12-06T02:24:59+00:00",
          "2024-12-06T02:24:59+00:00",
          "2024-12-06T02:24:59+00:00",
          "2024-12-06T02:25:11+00:00",
          "2024-12-06T10:24:35+00:00",
          "2024-12-06T10:24:35+00:00",
          "2024-12-06T10:24:35+00:00",
          "2024-12-06T10:24:35+00:00",
          "2024-12-06T10:24:35+00:00",
          "2024-12-06T10:24:47+00:00",
          "2024-12-06T18:24:35+00:00",
          "2024-12-06T18:24:35+00:00",
          "2024-12-06T18:24:35+00:00",
          "2024-12-06T18:24:35+00:00",
          "2024-12-06T18:24:35+00:00",
          "2024-12-06T18:24:47+00:00",
          "2024-12-07T02:24:35+00:00",
          "2024-12-07T02:24:35+00:00",
          "2024-12-07T02:24:35+00:00",
          "2024-12-07T02:24:35+00:00",
          "2024-12-07T02:24:35+00:00",
          "2024-12-07T02:24:47+00:00",
          "2024-12-07T10:24:35+00:00",
          "2024-12-07T10:24:35+00:00",
          "2024-12-07T10:24:35+00:00",
          "2024-12-07T10:24:35+00:00",
          "2024-12-07T10:24:35+00:00",
          "2024-12-07T10:24:47+00:00",
          "2024-12-07T18:24:47+00:00",
          "2024-12-07T18:24:47+00:00",
          "2024-12-07T18:24:47+00:00",
          "2024-12-07T18:24:47+00:00",
          "2024-12-07T18:24:47+00:00",
          "2024-12-07T18:24:59+00:00",
          "2024-12-08T02:24:35+00:00",
          "2024-12-08T02:24:35+00:00",
          "2024-12-08T02:24:35+00:00",
          "2024-12-08T02:24:35+00:00",
          "2024-12-08T02:24:35+00:00",
          "2024-12-08T02:24:47+00:00",
          "2024-12-08T10:24:47+00:00",
          "2024-12-08T10:24:47+00:00",
          "2024-12-08T10:24:47+00:00",
          "2024-12-08T10:24:47+00:00",
          "2024-12-08T10:24:47+00:00",
          "2024-12-08T10:24:59+00:00",
          "2024-12-08T18:24:47+00:00",
          "2024-12-08T18:24:47+00:00",
          "2024-12-08T18:24:47+00:00",
          "2024-12-08T18:24:47+00:00",
          "2024-12-08T18:24:47+00:00",
          "2024-12-08T18:24:59+00:00",
          "2024-12-09T02:24:35+00:00",
          "2024-12-09T02:24:35+00:00",
          "2024-12-09T02:24:35+00:00",
          "2024-12-09T02:24:35+00:00",
          "2024-12-09T02:24:35+00:00",
          "2024-12-09T02:24:59+00:00",
          "2024-12-09T10:24:47+00:00",
          "2024-12-09T10:24:47+00:00",
          "2024-12-09T10:24:47+00:00",
          "2024-12-09T10:24:47+00:00",
          "2024-12-09T10:24:47+00:00",
          "2024-12-09T10:24:59+00:00",
          "2024-12-09T18:24:35+00:00",
          "2024-12-09T18:24:35+00:00",
          "2024-12-09T18:24:35+00:00",
          "2024-12-09T18:24:35+00:00",
          "2024-12-09T18:24:35+00:00",
          "2024-12-09T18:24:47+00:00",
          "2024-12-10T02:25:35+00:00",
          "2024-12-10T02:25:35+00:00",
          "2024-12-10T02:25:35+00:00",
          "2024-12-10T02:25:35+00:00",
          "2024-12-10T02:25:35+00:00",
          "2024-12-10T10:24:47+00:00",
          "2024-12-10T10:24:47+00:00",
          "2024-12-10T10:24:47+00:00",
          "2024-12-10T10:24:47+00:00",
          "2024-12-10T10:24:47+00:00",
          "2024-12-10T18:24:47+00:00",
          "2024-12-10T20:24:23+00:00",
          "2024-12-10T20:24:23+00:00",
          "2024-12-10T20:24:23+00:00",
          "2024-12-10T20:24:23+00:00",
          "2024-12-10T20:24:23+00:00",
          "2024-12-11T04:07:23+00:00",
          "2024-12-11T04:07:23+00:00",
          "2024-12-11T04:07:23+00:00",
          "2024-12-11T04:07:23+00:00",
          "2024-12-11T04:07:23+00:00",
          "2024-12-11T04:07:35+00:00",
          "2024-12-11T11:07:11+00:00",
          "2024-12-11T11:07:11+00:00",
          "2024-12-11T11:07:11+00:00",
          "2024-12-11T11:07:11+00:00",
          "2024-12-11T11:07:11+00:00",
          "2024-12-11T11:07:23+00:00",
          "2024-12-11T18:07:23+00:00",
          "2024-12-11T18:07:23+00:00",
          "2024-12-11T18:07:23+00:00",
          "2024-12-11T18:07:23+00:00",
          "2024-12-11T18:07:23+00:00",
          "2024-12-11T18:07:35+00:00",
          "2024-12-12T01:07:23+00:00",
          "2024-12-12T01:07:23+00:00",
          "2024-12-12T01:07:23+00:00",
          "2024-12-12T01:07:23+00:00",
          "2024-12-12T01:07:23+00:00",
          "2024-12-12T01:07:35+00:00",
          "2024-12-12T08:07:11+00:00",
          "2024-12-12T08:07:11+00:00",
          "2024-12-12T08:07:11+00:00",
          "2024-12-12T08:07:11+00:00",
          "2024-12-12T08:07:11+00:00",
          "2024-12-12T08:07:23+00:00",
          "2024-12-12T22:07:11+00:00",
          "2024-12-12T22:07:11+00:00",
          "2024-12-12T22:07:11+00:00",
          "2024-12-12T22:07:11+00:00",
          "2024-12-12T22:07:11+00:00",
          "2024-12-12T22:07:23+00:00",
          "2024-12-13T05:07:11+00:00",
          "2024-12-13T05:07:11+00:00",
          "2024-12-13T05:07:11+00:00",
          "2024-12-13T05:07:11+00:00",
          "2024-12-13T05:07:11+00:00",
          "2024-12-13T12:07:23+00:00",
          "2024-12-13T12:07:23+00:00",
          "2024-12-13T12:07:23+00:00",
          "2024-12-13T12:07:23+00:00",
          "2024-12-13T12:07:23+00:00",
          "2024-12-13T12:07:35+00:00",
          "2024-12-13T19:07:11+00:00",
          "2024-12-13T19:07:11+00:00",
          "2024-12-13T19:07:11+00:00",
          "2024-12-13T19:07:11+00:00",
          "2024-12-13T19:07:11+00:00",
          "2024-12-13T19:07:23+00:00",
          "2024-12-14T02:07:23+00:00",
          "2024-12-14T02:07:23+00:00",
          "2024-12-14T02:07:23+00:00",
          "2024-12-14T02:07:23+00:00",
          "2024-12-14T02:07:23+00:00",
          "2024-12-14T02:07:35+00:00",
          "2024-12-14T09:07:11+00:00",
          "2024-12-14T09:07:11+00:00",
          "2024-12-14T09:07:11+00:00",
          "2024-12-14T09:07:11+00:00",
          "2024-12-14T09:07:11+00:00",
          "2024-12-14T09:07:23+00:00",
          "2024-12-14T16:07:11+00:00",
          "2024-12-14T16:07:11+00:00",
          "2024-12-14T16:07:11+00:00",
          "2024-12-14T16:07:11+00:00",
          "2024-12-14T16:07:11+00:00",
          "2024-12-14T16:07:23+00:00",
          "2024-12-14T23:07:11+00:00",
          "2024-12-14T23:07:11+00:00",
          "2024-12-14T23:07:11+00:00",
          "2024-12-14T23:07:11+00:00",
          "2024-12-14T23:07:11+00:00",
          "2024-12-14T23:07:23+00:00",
          "2024-12-15T06:07:11+00:00",
          "2024-12-15T20:07:11+00:00",
          "2024-12-15T20:07:11+00:00",
          "2024-12-15T20:07:11+00:00",
          "2024-12-15T20:07:11+00:00",
          "2024-12-15T20:07:11+00:00",
          "2024-12-15T20:07:23+00:00",
          "2024-12-16T10:07:11+00:00",
          "2024-12-16T10:07:11+00:00",
          "2024-12-16T10:07:11+00:00",
          "2024-12-16T10:07:11+00:00",
          "2024-12-16T10:07:11+00:00",
          "2024-12-16T10:07:35+00:00",
          "2024-12-17T00:07:11+00:00",
          "2024-12-17T00:07:11+00:00",
          "2024-12-17T00:07:11+00:00",
          "2024-12-17T00:07:11+00:00",
          "2024-12-17T00:07:11+00:00",
          "2024-12-17T00:07:23+00:00",
          "2024-12-17T07:07:11+00:00",
          "2024-12-17T07:07:11+00:00",
          "2024-12-17T07:07:11+00:00",
          "2024-12-17T07:07:11+00:00",
          "2024-12-17T07:07:11+00:00",
          "2024-12-17T07:07:23+00:00",
          "2024-12-17T21:07:23+00:00",
          "2024-12-17T21:07:23+00:00",
          "2024-12-17T21:07:23+00:00",
          "2024-12-17T21:07:23+00:00",
          "2024-12-17T21:07:23+00:00",
          "2024-12-17T21:07:35+00:00",
          "2024-12-19T01:07:23+00:00",
          "2024-12-19T01:07:23+00:00",
          "2024-12-19T01:07:23+00:00",
          "2024-12-19T01:07:23+00:00",
          "2024-12-19T01:07:23+00:00",
          "2024-12-19T01:07:35+00:00",
          "2024-12-20T05:07:23+00:00",
          "2024-12-20T05:07:23+00:00",
          "2024-12-20T05:07:23+00:00",
          "2024-12-20T05:07:23+00:00",
          "2024-12-20T05:07:23+00:00",
          "2024-12-20T05:07:35+00:00",
          "2024-12-21T09:07:11+00:00",
          "2024-12-21T09:07:11+00:00",
          "2024-12-21T09:07:11+00:00",
          "2024-12-21T09:07:11+00:00",
          "2024-12-21T09:07:11+00:00",
          "2024-12-21T09:07:23+00:00",
          "2024-12-22T06:07:11+00:00",
          "2024-12-22T06:07:11+00:00",
          "2024-12-22T06:07:11+00:00",
          "2024-12-22T06:07:11+00:00",
          "2024-12-22T06:07:11+00:00",
          "2024-12-23T03:07:35+00:00",
          "2024-12-23T03:07:35+00:00",
          "2024-12-23T03:07:35+00:00",
          "2024-12-23T03:07:35+00:00",
          "2024-12-23T03:07:35+00:00",
          "2024-12-24T07:07:11+00:00",
          "2024-12-24T07:07:11+00:00",
          "2024-12-24T07:07:11+00:00",
          "2024-12-24T07:07:11+00:00",
          "2024-12-24T07:07:11+00:00",
          "2024-12-24T21:07:11+00:00",
          "2024-12-24T21:07:11+00:00",
          "2024-12-24T21:07:11+00:00",
          "2024-12-24T21:07:11+00:00",
          "2024-12-24T21:07:11+00:00",
          "2024-12-25T11:07:11+00:00",
          "2024-12-25T11:07:11+00:00",
          "2024-12-25T11:07:11+00:00",
          "2024-12-25T11:07:11+00:00",
          "2024-12-26T01:07:11+00:00",
          "2024-12-26T01:07:11+00:00",
          "2024-12-26T01:07:11+00:00",
          "2024-12-26T01:07:11+00:00",
          "2024-12-26T01:07:11+00:00",
          "2024-12-26T22:07:11+00:00",
          "2024-12-26T22:07:11+00:00",
          "2024-12-26T22:07:11+00:00",
          "2024-12-26T22:07:11+00:00",
          "2024-12-26T22:07:11+00:00",
          "2024-12-26T22:07:23+00:00",
          "2024-12-27T12:07:23+00:00",
          "2024-12-27T12:07:23+00:00",
          "2024-12-27T12:07:23+00:00",
          "2024-12-27T12:07:23+00:00",
          "2024-12-27T12:07:23+00:00",
          "2024-12-27T12:07:35+00:00",
          "2024-12-28T02:07:23+00:00",
          "2024-12-28T02:07:23+00:00",
          "2024-12-28T02:07:23+00:00",
          "2024-12-28T02:07:23+00:00",
          "2024-12-28T02:07:23+00:00",
          "2024-12-28T02:07:35+00:00",
          "2024-12-28T16:07:11+00:00",
          "2024-12-28T16:07:11+00:00",
          "2024-12-28T16:07:11+00:00",
          "2024-12-28T16:07:11+00:00",
          "2024-12-28T16:07:11+00:00",
          "2024-12-28T16:07:23+00:00",
          "2024-12-29T06:07:11+00:00",
          "2024-12-29T06:07:11+00:00",
          "2024-12-29T06:07:11+00:00",
          "2024-12-29T06:07:11+00:00",
          "2024-12-29T06:07:11+00:00",
          "2024-12-29T06:07:23+00:00",
          "2024-12-29T20:07:11+00:00",
          "2024-12-29T20:07:11+00:00",
          "2024-12-29T20:07:11+00:00",
          "2024-12-29T20:07:11+00:00",
          "2024-12-29T20:07:11+00:00",
          "2024-12-29T20:07:23+00:00",
          "2024-12-30T10:07:11+00:00",
          "2024-12-30T10:07:11+00:00",
          "2024-12-30T10:07:11+00:00",
          "2024-12-30T10:07:11+00:00",
          "2024-12-30T10:07:11+00:00",
          "2024-12-30T10:07:23+00:00",
          "2024-12-31T21:07:23+00:00",
          "2024-12-31T21:07:23+00:00",
          "2024-12-31T21:07:23+00:00",
          "2024-12-31T21:07:23+00:00",
          "2024-12-31T21:07:23+00:00",
          "2024-12-31T21:07:35+00:00",
          "2025-01-02T08:07:11+00:00",
          "2025-01-02T08:07:11+00:00",
          "2025-01-02T08:07:11+00:00",
          "2025-01-02T08:07:11+00:00",
          "2025-01-02T08:07:11+00:00",
          "2025-01-02T08:07:23+00:00",
          "2025-01-03T05:07:11+00:00",
          "2025-01-03T05:07:11+00:00",
          "2025-01-03T05:07:11+00:00",
          "2025-01-03T05:07:11+00:00",
          "2025-01-03T05:07:11+00:00",
          "2025-01-03T05:07:23+00:00",
          "2025-01-04T02:07:11+00:00",
          "2025-01-04T02:07:11+00:00",
          "2025-01-04T02:07:11+00:00",
          "2025-01-04T02:07:11+00:00",
          "2025-01-04T02:07:11+00:00",
          "2025-01-04T23:07:11+00:00",
          "2025-01-04T23:07:11+00:00",
          "2025-01-04T23:07:11+00:00",
          "2025-01-04T23:07:11+00:00",
          "2025-01-04T23:07:11+00:00",
          "2025-01-05T20:07:11+00:00",
          "2025-01-05T20:07:11+00:00",
          "2025-01-05T20:07:11+00:00",
          "2025-01-05T20:07:11+00:00",
          "2025-01-05T20:07:11+00:00",
          "2025-01-07T00:07:11+00:00",
          "2025-01-07T00:07:11+00:00",
          "2025-01-07T00:07:11+00:00",
          "2025-01-07T00:07:11+00:00",
          "2025-01-07T00:07:11+00:00",
          "2025-01-08T04:07:35+00:00",
          "2025-01-08T04:07:35+00:00",
          "2025-01-08T04:07:35+00:00",
          "2025-01-08T04:07:35+00:00",
          "2025-01-08T04:07:35+00:00",
          "2025-01-09T01:07:11+00:00",
          "2025-01-09T01:07:11+00:00",
          "2025-01-09T01:07:11+00:00",
          "2025-01-09T01:07:11+00:00",
          "2025-01-09T01:07:11+00:00",
          "2025-01-09T22:07:11+00:00",
          "2025-01-09T22:07:11+00:00",
          "2025-01-09T22:07:11+00:00",
          "2025-01-09T22:07:11+00:00",
          "2025-01-09T22:07:11+00:00",
          "2025-01-09T22:07:23+00:00",
          "2025-01-10T05:07:59+00:00",
          "2025-01-10T05:07:59+00:00",
          "2025-01-10T05:07:59+00:00",
          "2025-01-10T05:07:59+00:00",
          "2025-01-10T05:07:59+00:00",
          "2025-01-10T05:08:11+00:00",
          "2025-01-10T19:07:11+00:00",
          "2025-01-10T19:07:11+00:00",
          "2025-01-10T19:07:11+00:00",
          "2025-01-10T19:07:11+00:00",
          "2025-01-10T19:07:11+00:00",
          "2025-01-10T19:07:23+00:00",
          "2025-01-11T02:07:11+00:00",
          "2025-01-11T02:07:11+00:00",
          "2025-01-11T02:07:11+00:00",
          "2025-01-11T02:07:11+00:00",
          "2025-01-11T02:07:11+00:00",
          "2025-01-11T02:07:23+00:00",
          "2025-01-11T09:07:11+00:00",
          "2025-01-11T09:07:11+00:00",
          "2025-01-11T09:07:11+00:00",
          "2025-01-11T09:07:11+00:00",
          "2025-01-11T09:07:11+00:00",
          "2025-01-11T09:07:23+00:00",
          "2025-01-11T23:07:11+00:00",
          "2025-01-11T23:07:11+00:00",
          "2025-01-11T23:07:11+00:00",
          "2025-01-11T23:07:11+00:00",
          "2025-01-11T23:07:11+00:00",
          "2025-01-11T23:07:23+00:00",
          "2025-01-12T06:07:35+00:00",
          "2025-01-12T06:07:35+00:00",
          "2025-01-12T06:07:35+00:00",
          "2025-01-12T06:07:35+00:00",
          "2025-01-12T06:07:35+00:00",
          "2025-01-12T06:07:47+00:00",
          "2025-01-12T13:07:11+00:00",
          "2025-01-12T13:07:11+00:00",
          "2025-01-12T13:07:11+00:00",
          "2025-01-12T13:07:11+00:00",
          "2025-01-12T13:07:11+00:00",
          "2025-01-12T13:07:23+00:00",
          "2025-01-12T20:07:11+00:00",
          "2025-01-12T20:07:11+00:00",
          "2025-01-12T20:07:11+00:00",
          "2025-01-12T20:07:11+00:00",
          "2025-01-12T20:07:11+00:00",
          "2025-01-12T20:07:23+00:00",
          "2025-01-13T03:07:11+00:00",
          "2025-01-13T03:07:11+00:00",
          "2025-01-13T03:07:11+00:00",
          "2025-01-13T03:07:11+00:00",
          "2025-01-13T03:07:11+00:00",
          "2025-01-13T03:07:23+00:00",
          "2025-01-14T00:07:11+00:00",
          "2025-01-14T00:07:11+00:00",
          "2025-01-14T00:07:11+00:00",
          "2025-01-14T00:07:11+00:00",
          "2025-01-14T00:07:11+00:00",
          "2025-01-14T00:07:23+00:00",
          "2025-01-14T07:07:11+00:00",
          "2025-01-14T07:07:11+00:00",
          "2025-01-14T07:07:11+00:00",
          "2025-01-14T07:07:11+00:00",
          "2025-01-14T07:07:11+00:00",
          "2025-01-14T07:07:23+00:00",
          "2025-01-14T21:07:11+00:00",
          "2025-01-14T21:07:11+00:00",
          "2025-01-14T21:07:11+00:00",
          "2025-01-14T21:07:11+00:00",
          "2025-01-14T21:07:11+00:00",
          "2025-01-14T21:07:23+00:00",
          "2025-01-15T04:07:11+00:00",
          "2025-01-15T04:07:11+00:00",
          "2025-01-15T04:07:11+00:00",
          "2025-01-15T04:07:11+00:00",
          "2025-01-15T04:07:11+00:00",
          "2025-01-15T04:07:23+00:00",
          "2025-01-15T11:07:35+00:00",
          "2025-01-15T11:07:35+00:00",
          "2025-01-15T11:07:35+00:00",
          "2025-01-15T11:07:35+00:00",
          "2025-01-15T11:07:35+00:00",
          "2025-01-15T11:07:47+00:00",
          "2025-01-16T01:07:11+00:00",
          "2025-01-16T01:07:11+00:00",
          "2025-01-16T01:07:11+00:00",
          "2025-01-16T01:07:11+00:00",
          "2025-01-16T01:07:11+00:00",
          "2025-01-16T01:07:23+00:00",
          "2025-01-16T08:07:23+00:00",
          "2025-01-16T08:07:23+00:00",
          "2025-01-16T08:07:23+00:00",
          "2025-01-16T08:07:23+00:00",
          "2025-01-16T08:07:23+00:00",
          "2025-01-16T08:07:35+00:00",
          "2025-01-16T22:07:23+00:00",
          "2025-01-16T22:07:23+00:00",
          "2025-01-16T22:07:23+00:00",
          "2025-01-16T22:07:23+00:00",
          "2025-01-16T22:07:23+00:00",
          "2025-01-16T22:07:35+00:00",
          "2025-01-17T12:07:11+00:00",
          "2025-01-17T12:07:11+00:00",
          "2025-01-17T12:07:11+00:00",
          "2025-01-17T12:07:11+00:00",
          "2025-01-17T12:07:11+00:00",
          "2025-01-18T02:07:11+00:00",
          "2025-01-18T02:07:11+00:00",
          "2025-01-18T02:07:11+00:00",
          "2025-01-18T02:07:11+00:00",
          "2025-01-18T02:07:11+00:00",
          "2025-01-18T23:07:11+00:00",
          "2025-01-18T23:07:11+00:00",
          "2025-01-18T23:07:11+00:00",
          "2025-01-18T23:07:11+00:00",
          "2025-01-18T23:07:11+00:00",
          "2025-01-21T00:07:11+00:00",
          "2025-01-21T00:07:11+00:00",
          "2025-01-21T00:07:11+00:00",
          "2025-01-21T00:07:11+00:00",
          "2025-01-21T00:07:11+00:00",
          "2025-01-22T04:07:11+00:00",
          "2025-01-22T04:07:11+00:00",
          "2025-01-22T04:07:11+00:00",
          "2025-01-22T04:07:11+00:00",
          "2025-01-22T04:07:11+00:00",
          "2025-01-23T01:07:11+00:00",
          "2025-01-23T01:07:11+00:00",
          "2025-01-23T01:07:11+00:00",
          "2025-01-23T01:07:11+00:00",
          "2025-01-23T01:07:11+00:00",
          "2025-01-24T05:07:11+00:00",
          "2025-01-24T05:07:11+00:00",
          "2025-01-24T05:07:11+00:00",
          "2025-01-24T05:07:11+00:00",
          "2025-01-24T05:07:11+00:00",
          "2025-01-24T05:07:23+00:00",
          "2025-01-25T02:07:11+00:00",
          "2025-01-25T02:07:11+00:00",
          "2025-01-25T02:07:11+00:00",
          "2025-01-25T02:07:11+00:00",
          "2025-01-25T02:07:11+00:00",
          "2025-01-25T02:07:23+00:00",
          "2025-01-25T23:07:11+00:00",
          "2025-01-25T23:07:11+00:00",
          "2025-01-25T23:07:11+00:00",
          "2025-01-25T23:07:11+00:00",
          "2025-01-25T23:07:11+00:00",
          "2025-01-25T23:07:23+00:00",
          "2025-01-26T06:07:11+00:00",
          "2025-01-26T06:07:11+00:00",
          "2025-01-26T06:07:11+00:00",
          "2025-01-26T06:07:11+00:00",
          "2025-01-26T06:07:11+00:00",
          "2025-01-26T06:07:23+00:00",
          "2025-01-26T20:07:11+00:00",
          "2025-01-27T03:07:35+00:00",
          "2025-01-27T03:07:35+00:00",
          "2025-01-27T03:07:35+00:00",
          "2025-01-27T03:07:35+00:00",
          "2025-01-27T03:07:35+00:00",
          "2025-01-27T03:07:47+00:00"
         ],
         "xaxis": "x",
         "y": [
          0.06978222443839018,
          0.14546104658326842,
          0.2733736109623815,
          0.27876082089691007,
          0.5228958734037703,
          0.5445305753243338,
          0.5803461348043287,
          0.5977415111003539,
          0.6559287288660135,
          0.6641489833741759,
          1.0456271237266692,
          1.045896035818986,
          1.046520800880384,
          1.0478381206387237,
          1.051170326989839,
          1.0513597393733207,
          1.0612624968338653,
          1.083235656731948,
          1.1708727673074242,
          1.3126612575239842,
          1.3215151328247223,
          1.7196933795713087,
          1.7257128632735965,
          1.7387652584429127,
          1.8201719837914634,
          1.9100451725216352,
          1.9172215621404154,
          2.392097440661323,
          2.394560279727606,
          2.4000418644262154,
          2.436665308653046,
          2.4740065692740987,
          2.477345955170522,
          2.479814622249565,
          2.485323501833731,
          2.5234240992937544,
          2.5607653599148072,
          2.564314941383289,
          2.725043741933155,
          2.7298955153184403,
          2.7410002783493232,
          2.821691296324615,
          2.8957048375239145,
          2.903148094156376,
          3.9991790071120366,
          4.008718720435825,
          4.031125313534842,
          4.206300815563719,
          4.35293664297096,
          4.369686241010037,
          4.3790163339971695,
          4.399664725992947,
          4.534733603034761,
          4.647442996150568,
          4.66070762894238,
          5.269913213949917,
          5.281232255181736,
          5.305363928328124,
          5.43907919039784,
          5.552154640852816,
          5.56549204686735,
          6.187340040815971,
          6.193284744485146,
          6.20376736601246,
          6.248099733937854,
          6.286088636187258,
          6.290676325615662,
          6.505225374882477,
          6.572961860525602,
          6.685630036239138,
          6.901488072824781,
          7.0997479790780105,
          7.126617936192179,
          8.4221008186764,
          8.449364493317042,
          8.496619526048088,
          8.505859188136323,
          8.9473859262283,
          8.9751191225665,
          9.022494798781114,
          9.064076221151618,
          9.089126910406598,
          9.09867254784456,
          9.543838565621451,
          9.572726934179755,
          9.62211832756741,
          9.765677211491063,
          9.842160720708609,
          9.851745596902381,
          10.296428319659736,
          10.35776183157957,
          10.462981597993608,
          10.814792392619168,
          10.98697197896242,
          11.006353712647972,
          11.902671159258682,
          11.93323208451659,
          11.985974761061241,
          12.183858937822329,
          12.278277784801206,
          12.28755130105667,
          12.717664181140595,
          12.763266542165564,
          12.84308408060718,
          13.149774606323271,
          13.29209917719753,
          13.313589264139825,
          13.941384444464035,
          13.955230722378936,
          13.985617702234379,
          14.038966330596114,
          14.24543110297532,
          14.34134505518248,
          14.373613518225808,
          14.382760354998766,
          14.798715584560346,
          14.897429659790722,
          15.071960171959226,
          15.668445113761678,
          15.96101536685171,
          16.079871370006423,
          16.10666010631406,
          17.32333514276508,
          17.349996808387825,
          17.405161065182142,
          17.603700195948786,
          17.704257822392695,
          17.752386930390376,
          17.761505329685797,
          18.174264253538485,
          18.205688156110984,
          18.27005828340748,
          18.46663508273835,
          18.567607905246554,
          18.62211455544139,
          18.631410897517576,
          19.05074914431953,
          19.09989199005304,
          19.196945576647465,
          19.49184308094637,
          19.652933104570483,
          19.739526141375766,
          20.34682162884338,
          20.36042777768088,
          20.360501700454122,
          20.36067970000304,
          20.399202003951757,
          20.469977815054815,
          20.601070926588445,
          20.676437576968457,
          20.73689009650456,
          20.745894032006536,
          21.145491834406887,
          21.241856303731957,
          21.462788398351645,
          22.852838752307722,
          23.217842279255578,
          23.23851468841198,
          24.226009826248262,
          24.288314776444043,
          24.441385445439312,
          25.30319275074824,
          25.31133107370664,
          25.328288616948303,
          26.136153342697366,
          26.152349002558562,
          26.19046384494662,
          26.425189991323677,
          26.42929270535403,
          26.62474778382401,
          26.654080057448752,
          26.722045087423307,
          27.180682752269064,
          27.18855388367923,
          27.566296849071453,
          27.615689407162463,
          27.69995644252615,
          28.2746892546733,
          28.502028897844642,
          28.512215097138476,
          28.99923145360185,
          29.046708365290396,
          29.116411520218175,
          29.152631161965683,
          29.441623367233326,
          29.452546083387766,
          29.9758429639894,
          30.006845156420642,
          30.054975850820203,
          30.28034480940662,
          30.288842650262165,
          30.697638300179346,
          30.731186093793365,
          30.785850232031784,
          31.01247022400921,
          31.02097888987324,
          31.436763103469687,
          31.470977575021646,
          31.527390071884334,
          31.75621341948246,
          31.76472262570313,
          32.1794142060514,
          32.2136239396338,
          32.27062372534036,
          32.49923482016904,
          32.50765689069142,
          32.920518612701194,
          32.95464682062818,
          33.012139614732995,
          33.23857977727091,
          33.24717402288812,
          33.66595843300898,
          33.70099028514462,
          33.76103582199464,
          33.98722835853779,
          33.99583759142837,
          34.41245136557329,
          34.41250290689591,
          34.41268563269036,
          34.44822956038926,
          34.509192111400125,
          34.737523878767625,
          34.745991621753824,
          35.15334396127188,
          35.1534880231071,
          35.15399479785993,
          35.18776422796956,
          35.24745405495478,
          35.477240023271676,
          35.48562182618899,
          35.88663159258169,
          35.886737398557436,
          35.887108216287984,
          35.918927766920255,
          35.975404410191544,
          36.205481931630096,
          36.2138698681636,
          36.61372951613371,
          36.6443845747821,
          36.69914504421334,
          36.903492451708956,
          37.13721278094181,
          37.14555658956357,
          37.54699032963569,
          37.578457868543666,
          37.63564667505862,
          38.17544348711168,
          38.40950318132748,
          38.4178960274494,
          38.824853338909456,
          38.85308448663286,
          38.910958634476955,
          39.44166022245455,
          39.58952490344807,
          39.59803887513588,
          40.014472214515884,
          40.04413981451954,
          40.104388213015206,
          40.632186665185955,
          40.640648033360286,
          41.05821557233674,
          41.0865727252799,
          41.1450736670998,
          41.673322949709146,
          41.71431202963133,
          41.72265237736002,
          42.13919383699971,
          42.16513397752421,
          42.218493746815454,
          42.74369897715026,
          42.83692488094502,
          42.84554204609943,
          43.27811435740493,
          43.478479815150635,
          45.43654698126738,
          45.79176887010571,
          45.82461461376273,
          47.529972028153,
          47.58209349829711,
          48.071305765294085,
          48.15729201429986,
          48.165595265444956,
          48.5980553686123,
          48.72422443109084,
          48.74335617149593,
          48.78207304687846,
          49.137588808610936,
          49.1987395812713,
          49.20474152905674,
          49.513739573455126,
          49.52864157232089,
          49.55897905906504,
          49.829087258911706,
          49.87583846099812,
          49.88042031031731,
          50.11609980873432,
          50.14998451213774,
          50.21650499230789,
          50.8732250925283,
          50.980403353544325,
          50.99663459060267,
          51.007284731999434,
          51.56363917339266,
          51.58733803872744,
          51.63489308455693,
          52.1611350618963,
          52.23512216208491,
          52.27024569233561,
          52.27771995977729,
          52.6687422561002,
          52.696414462720654,
          52.75145655303845,
          53.27350306012309,
          53.36199317427918,
          53.405815447656686,
          53.41495409656735,
          53.890259556388564,
          53.917743887846925,
          53.97281838004276,
          54.0595096787106,
          54.10321364697059,
          54.11266079358293,
          54.59563492726044,
          54.62185505791895,
          54.67751374113241,
          54.78163228434802,
          54.868279633587,
          54.91192651172963,
          54.92163035798591,
          55.41496745034528,
          55.43516993281195,
          55.4936349449127,
          56.0213515583332,
          56.11034811585908,
          56.153810602283755,
          56.16356550438024,
          56.66321345020755,
          56.68332481052876,
          56.74134803512474,
          57.279082572595165,
          57.34473337363996,
          57.38809769855528,
          57.39780603280622,
          57.89934542810282,
          57.935281705181815,
          58.04489015138144,
          59.16997154869704,
          59.25609828007757,
          59.27523492420072,
          60.266334625193736,
          60.284184505520315,
          60.340821951638674,
          60.9151431667049,
          60.95812541108235,
          60.967719764052,
          61.46689076920428,
          61.48320650818517,
          61.53568912348898,
          62.114799989869695,
          62.15777009832823,
          62.16718572867494,
          62.65495041423574,
          62.67331448061145,
          62.73076695084194,
          63.315882747354934,
          63.35883927693379,
          63.36819935363251,
          63.844515673635435,
          63.86379697464268,
          63.92309204346147,
          64.51031793444491,
          64.55328274534382,
          64.5626792915755,
          65.03815879398009,
          65.05723028002446,
          65.11600352208993,
          65.70416779305243,
          65.74708138619653,
          65.75646072369861,
          66.2320152829126,
          66.25110352815217,
          66.31014834140632,
          66.90900840876621,
          66.94307309891171,
          66.95245594516125,
          66.97260642743538,
          67.03351877829925,
          67.63297110117487,
          67.64235681153843,
          68.61123405607066,
          68.63212104227235,
          68.69499636600068,
          69.29078671635486,
          69.30018978465027,
          69.78682901033146,
          69.8077492658528,
          69.87075864958484,
          70.48814338255316,
          70.49767503763843,
          70.98325690859686,
          71.00478407336158,
          71.06647941495609,
          71.56587443891758,
          71.57536110262663,
          72.06111414305613,
          72.08605524053856,
          72.14494942202309,
          72.35512871439337,
          72.36449060824695,
          72.84347591553082,
          72.8700934962237,
          72.92903530080672,
          73.10182799533507,
          73.11122083530667,
          73.58721881679432,
          73.60528811028539,
          73.63905319332842,
          73.64909194399573,
          73.74585811683922,
          73.75101644834275,
          74.00906740753818,
          74.03984740683033,
          74.09692185732051,
          74.67229955925889,
          74.82964343371994,
          74.83886599518856,
          75.28616538282367,
          75.36374175184456,
          75.50989358298158,
          77.04573877950543,
          77.42429658314231,
          77.44774489848463,
          78.55463683580122,
          78.77748604204503,
          78.7945151053636,
          78.82703811335357,
          79.16615925693432,
          79.24664687746271,
          79.25135454980109,
          79.27322862496843,
          79.31433254215331,
          79.76852505057641,
          79.87394727045742,
          79.88078123812438,
          80.20468934882442,
          80.2266787828529,
          80.2678811019586,
          80.72745350446272,
          80.83289272442394,
          80.83974123865237,
          81.16238377151855,
          81.18427662338894,
          81.22518577904428,
          81.6897910724612,
          81.79378637417672,
          81.8006234657229,
          82.11958395433156,
          82.14141297292983,
          82.18212732049966,
          82.65111210505809,
          82.75352778081825,
          82.76032240630221,
          83.07632375983638,
          83.09797068023067,
          83.1386018389079,
          83.606508308542,
          83.70753736104135,
          83.71424375889694,
          84.02556272977773,
          84.04726659479715,
          84.08759650361604,
          84.55582827895088,
          84.65702336808171,
          84.66372295994564,
          84.97238389881448,
          84.99308146053549,
          85.03060889095377,
          85.49817121290646,
          85.59981963428949,
          85.60650157811284,
          85.91077580915434,
          85.93142018566779,
          85.96852991093334,
          86.43737509174741,
          86.54003559308711,
          86.54667280489005,
          86.85196347287012,
          86.87810853325998,
          86.92527097839306,
          87.52093049011303,
          87.65021271847245,
          87.6583582441938,
          88.04236124502062,
          88.06263268419518,
          88.09925606988448,
          88.56183892316332,
          88.66254621151454,
          88.66909592997413,
          88.98350366832565,
          89.00387588030247,
          89.04105559228246,
          89.51179322271196,
          89.60702251627943,
          89.61367787472804,
          89.93441269326567,
          89.95234102844316,
          89.98811273364245,
          90.45967581426733,
          90.4662950718588,
          90.78815141653162,
          90.80746294762018,
          90.84632408275978,
          91.32110723064147,
          91.32775339323206,
          91.65124511719654,
          91.67024546627042,
          91.70876305593015,
          92.18921031716846,
          92.19588120483515,
          92.52063759198833,
          92.53333463536958,
          92.56098947878958,
          93.04574746299915,
          93.05218286847978,
          93.3673426992596,
          93.38179568034403,
          93.42067826283673,
          93.4468390915438,
          93.4535027218019,
          93.77928161269477,
          93.80797165741534,
          93.88905581069068,
          94.38449932822273,
          94.39793386457494,
          95.05979887536672,
          95.07407897516927,
          95.11505255841288,
          95.57924696235652,
          95.5859846944018,
          95.92028535803844,
          95.93447318744684,
          95.97581670064726,
          96.44185137237002,
          96.46560639287375,
          96.47236250721568,
          96.8092687257028,
          96.82452212688568,
          96.86921328905665,
          97.33379408342361,
          97.38700056261999,
          97.39358353160094,
          97.72332552752668,
          97.73851527824654,
          97.78337285135204,
          98.24756066383505,
          98.30073407980542,
          98.30723732302428,
          98.63477580783805,
          98.64981280729337,
          98.69496297266946,
          99.15599802791364,
          99.20906066077818,
          99.2155801731767,
          99.5478001918832,
          99.56256161566297,
          99.60768721190988,
          100.01538470982972,
          100.068140795312,
          100.07469047804778,
          100.4108021390348,
          100.42540271040698,
          100.47065865867674,
          100.86103669606138,
          100.91359124314461,
          100.91997908515538,
          101.25089621049726,
          101.5721924524619,
          101.9004026749177,
          101.92932166493091,
          102.02078288860277,
          102.78690977678332,
          102.89270269046582,
          102.90554777156684,
          102.92036459323087,
          102.96697164451425,
          103.35003508860453,
          103.40282836450041,
          103.40925279789124,
          103.74248699912931,
          103.75738912758537,
          103.80418851785046,
          104.1843814566256,
          104.23725144435794,
          104.24374854853812,
          104.58150746308945,
          104.92193602808427,
          104.93695752489455,
          104.98375320552381,
          105.36202290573782,
          105.41528962429125,
          105.42183324547139,
          105.43697778303208,
          105.48386905147288,
          105.85883410953701,
          105.91237785111736,
          105.91891640732393,
          106.25932783164234,
          106.27887518513653,
          106.33698111223103,
          106.80997913697382,
          106.88374455080131,
          106.89218124519873,
          107.33039563370106,
          107.6838529558413,
          107.72478036075258,
          107.83414578907424,
          108.90696695076548,
          109.10298969645422,
          109.122051215398,
          109.7501867130961,
          109.76735337847663,
          109.80670038252549,
          110.19108883649665,
          110.26197412178747,
          110.26878830652706,
          110.62289504118452,
          110.64011292669325,
          110.6789330420974,
          111.07493908578844,
          111.14532264406739,
          111.15260228479127,
          111.5334188133862,
          111.55052150944503,
          111.58817194535158,
          111.96184528733359,
          112.03185807622064,
          112.03932725715626,
          112.42689689397183,
          112.44341176230219,
          112.47735535987945,
          112.54666530022288,
          112.55419393345717,
          112.94659420755501,
          112.9630780053271,
          112.99717654182852,
          113.06597051008055,
          113.07356195690923,
          113.47017263059526,
          113.48632458445923,
          113.51962379706734,
          113.54845390720006,
          113.61713897480291,
          113.62484524309627,
          114.02762973669302,
          114.0437585069931,
          114.07674167709243,
          114.45918655722868,
          114.52828575544413,
          114.92373283495579,
          114.93999335202956,
          114.97335675830091,
          115.34717347891802,
          115.41652832497883,
          115.4317258423625,
          115.82792987060873,
          115.86359742810187,
          116.22893379465636,
          116.29723042153216,
          116.30488693616549,
          116.7078823510296,
          116.74236561362213,
          116.7782615531287,
          117.13776622640734,
          117.20579577154697,
          117.21350934236261,
          117.61940498767818,
          117.63680292406498,
          117.67297730430445,
          118.02810808405766,
          118.09602543957602,
          118.10381647111261,
          118.5154934740439,
          118.52855865379307,
          118.5557277235627,
          118.82047186068975,
          118.87197365131632,
          118.87785672151462,
          119.18991845644518,
          119.20738789409118,
          119.24366105272361,
          119.60857303949388,
          119.67818973727908,
          119.68610590103351,
          120.10511037560696,
          120.12323625847947,
          120.1637768592127,
          120.53626350037734,
          120.60606872259707,
          120.61410023782953,
          121.03770605007695,
          121.0561714259054,
          121.09912276946005,
          121.48042066093163,
          121.54933391531748,
          121.55743304741182,
          121.98265248505376,
          122.00116911846813,
          122.0443470142636,
          122.44342409917702,
          122.5111335706224,
          122.51930571374147,
          122.94919558153165,
          122.96775296557773,
          123.01100602802286,
          123.41462651055004,
          123.48105912252551,
          123.48916816414578,
          123.91648837179669,
          123.93508387772346,
          123.97840725610233,
          124.38592422273346,
          124.45171108300731,
          124.45983781701297,
          124.8887710770108,
          124.90555465355762,
          124.94991780676006,
          125.36067881419063,
          125.37226543644378,
          125.38038858370652,
          125.80975627798972,
          125.82614953733605,
          125.87075626384339,
          126.2834991054789,
          126.29159974083164,
          126.7214860772396,
          126.73785978345363,
          126.78251379119828,
          127.19679941563298,
          127.2048524997857,
          127.63643121550943,
          127.65009017258258,
          127.69439686182518,
          128.1065425557472,
          128.11459485775512,
          128.5493081908765,
          128.56163942836463,
          128.60571988503023,
          129.01647896298314,
          129.02436161725188,
          129.45039887871124,
          129.46265479509213,
          129.50688861970707,
          129.90786014631007,
          129.91592359011406,
          130.35354433132846,
          130.36579451575184,
          130.41022639146985,
          130.79882851765788,
          130.80693602289372,
          131.24950643698682,
          131.26172505876883,
          131.30629759058672,
          131.68171398098062,
          131.6899988006182,
          132.1418228546175,
          132.15418516208985,
          132.19938177020447,
          132.5661197145177,
          132.5717945702127,
          133.03233978140315,
          133.0449918189946,
          133.09070540928874,
          133.15316946148513,
          133.15901163613233,
          133.62849699068295,
          133.6480184853787,
          133.72202462438327,
          133.7343868899835,
          134.71100575385316,
          134.72748307293693,
          134.78928293848608,
          135.1219793294303,
          135.1300495265645,
          135.7655189021076,
          135.77897008162748,
          135.82971778493467,
          136.1310951619307,
          136.13769557318628,
          136.65695131305344,
          136.67043853665342,
          136.72159331735125,
          137.01969525079997,
          137.02650929003116,
          137.56223887049865,
          137.57601757019353,
          137.62814255091112,
          137.9194880390285,
          137.92653840563239,
          138.48114978816866,
          138.4938429191534,
          138.53666554445547,
          138.83343239413549,
          138.84067887350542,
          139.4128274185506,
          139.42608629160083,
          139.47272946020652,
          139.7820794301317,
          139.78968228534052,
          140.3897987267214,
          140.4035097172226,
          140.45196795383353,
          140.77160394406897,
          140.7794525216319,
          141.39542195484083,
          141.40928968851375,
          141.4585208164207,
          141.78521007273022,
          141.79257547100372,
          142.3704652320875,
          142.3975953804386,
          142.47471020795777,
          142.98066121465905,
          143.0289660402486,
          143.0406013489712,
          143.9593264999338,
          143.9834141454419,
          144.0355416085591,
          144.3729861333867,
          144.45727684847884,
          144.46501692087244,
          145.07617381819324,
          145.1006557681716,
          145.1536478516948,
          145.49240201217066,
          145.57624868893336,
          145.58418772853116,
          146.21253247016543,
          146.23736566047776,
          146.29129481689077,
          146.63223191165548,
          146.71576115525974,
          146.7238663977595,
          147.36886715963584,
          147.39424230471454,
          147.450172715462,
          147.79320198657624,
          147.87542582564618,
          147.88324235189486,
          148.50896213302133,
          148.53463617153514,
          148.59157479032888,
          148.93765034492637,
          149.01915925089287,
          149.02726317518184,
          149.6794819993449,
          149.70575268491936,
          149.76501712323284,
          150.11202956414238,
          150.19316236642982,
          150.20147440268215,
          150.8743096861505,
          150.9007420845144,
          150.9605690627906,
          151.31074436218495,
          151.391137555986,
          151.3992177769386,
          152.0566310229567,
          152.0834607583499,
          152.14490812304476,
          152.5001046940257,
          152.57913584143517,
          152.5873388298605,
          153.25680129481998,
          153.2838367788217,
          153.34607956040907,
          153.70484883316993,
          153.7823042128231,
          153.79062227783035,
          154.47359987291935,
          154.50097156483847,
          154.56483695293235,
          154.92794667303508,
          155.00397641525305,
          155.0122550534997,
          155.6968796080566,
          155.72437772471375,
          155.7890652377652,
          156.15557734599452,
          156.23169100531794,
          156.24021544150298,
          156.94752748910125,
          156.97455664848374,
          157.03907614946974,
          157.19564952751526,
          157.27228108731705,
          157.28081475405844,
          157.9932039281835,
          158.02069806651548,
          158.08711147737284,
          158.16457434681752,
          158.17315862309462,
          158.89380143355157,
          158.9208234569432,
          158.98592006468996,
          159.06490997035502,
          159.0735209035318,
          159.80007755616214,
          160.5412959913292,
          160.56751356343193,
          160.6299859173804,
          160.85963697899368,
          160.94029591059257,
          160.94908015779592,
          160.9803102665159,
          161.05397152577942,
          161.54107559116176,
          161.6394062676168,
          161.6501852056195,
          162.56600280250942,
          162.5882028188935,
          162.6405177988749,
          162.99353574468338,
          163.06460941123083,
          163.07241384263662,
          163.7362501225938,
          163.75738564432706,
          163.80328955997024,
          164.15647568965,
          164.22777673970637,
          164.23564661947174,
          164.90504986431043,
          164.9308936934307,
          164.98457464472725,
          165.33922693205574,
          165.41069610953915,
          165.41866448125003,
          166.09647604447528,
          166.1300560910682,
          166.19970668972456,
          166.55523300380943,
          166.6263975410514,
          166.63438315740478,
          167.3164943538645,
          167.36851395805212,
          167.50986350891458,
          168.2182445031162,
          168.27493169544647,
          168.29097665522036,
          169.6697780480336,
          169.69038740544116,
          169.76121750728788,
          170.11431084362914,
          170.1224078195647,
          170.82142624471268,
          170.84480529744857,
          170.9145598151577,
          171.2699467573141,
          171.2974642514194,
          171.30566822786838,
          172.01529240430048,
          172.04115172234924,
          172.11741919256212,
          172.4744543128385,
          172.50976247836897,
          172.5179732328535,
          173.23039371464625,
          173.25731577075535,
          173.33863424076426,
          173.69600955648636,
          173.7312082315298,
          173.73919635746375,
          174.43230008346433,
          174.45957607284532,
          174.5420864334158,
          174.9027400770616,
          174.9375904700172,
          174.94546581452542,
          175.63176729396335,
          175.6592661401402,
          175.74250260483734,
          176.10613094747399,
          176.14102263826797,
          176.14897558771514,
          176.84390824062234,
          176.87245288557963,
          176.95758951538454,
          177.3238399497734,
          177.3587097445044,
          177.36664695837678,
          178.06293482001828,
          178.76104061935823,
          178.84787853565447,
          179.09969402945038,
          180.1663570008694,
          180.2704481013515,
          180.29393739844264,
          181.69565931989732,
          181.75407159382658,
          181.92247095526182,
          182.60666946935916,
          182.67454033777085,
          182.68923349580413,
          184.02125931615782,
          184.0676995329521,
          184.19457709281394,
          184.86832363538565,
          184.93492774340828,
          184.94938267999464,
          186.2601148797974,
          186.28841708666283,
          186.36536730851373,
          186.70217738422096,
          186.73526714552224,
          186.74246433267965,
          187.3901656753201,
          187.44694683904532,
          187.59864599530962,
          188.22092749667084,
          188.28699716278618,
          188.30115163908255,
          189.60710118019978,
          189.71534347896994,
          190.00320200715746,
          191.12685025771586,
          191.26028525848096,
          191.28734428432492,
          193.82945124747772,
          193.93117622700984,
          194.18484231272,
          195.27170035580065,
          195.40640932587326,
          195.42659532769366,
          197.3277562468549,
          197.41489567761266,
          197.66215499274333,
          198.71093786445482,
          198.71886538511555,
          198.73642448786148,
          200.44820215981397,
          200.51341373145183,
          200.7027653349267,
          201.46835435052694,
          201.4797285347198,
          202.61312617147206,
          202.68016293565918,
          202.87455490711113,
          203.66308723732504,
          203.67440178260807,
          204.82201582600217,
          204.90318788830893,
          205.1399879144074,
          206.2457954207783,
          206.26232743861834,
          207.8788074799683,
          207.9263100436789,
          208.0621426623158,
          208.32804224339037,
          208.3365707110218,
          209.1599024884306,
          209.20801991696916,
          209.34538542100648,
          209.35406890742595,
          210.1962568873849,
          210.24458651871595,
          210.38220446226856,
          210.88201872110733,
          210.89087314983567,
          211.75295118737932,
          211.83811972268802,
          212.04552056636317,
          212.92913662881506,
          212.96884800015928,
          212.9823254970546,
          214.3047065480729,
          214.37328540953564,
          214.5148258603527,
          215.07966318638805,
          215.14510022580336,
          215.1541142935067,
          216.04415554726805,
          216.11208512751946,
          216.2526294823874,
          216.8273190293789,
          216.8870954930974,
          216.8961926050325,
          217.79438715570748,
          217.8612977535955,
          217.9998778878213,
          218.57075139873757,
          218.63128303538505,
          218.64101390242845,
          219.60022057446488,
          219.66770444585956,
          219.80667135381992,
          220.37629797889716,
          220.43730359619383,
          220.44720562666384,
          221.41936884359032,
          221.49009298046647,
          221.63969785458843,
          222.2033730860598,
          222.26519014709953,
          222.27520852762947,
          223.25547950979328,
          223.32555280420362,
          223.4734166607007,
          224.03324908928752,
          224.09590240379742,
          224.10558407237923,
          225.04942423330525,
          225.211463159144,
          225.5437066919488,
          226.9187127743356,
          227.07841353617343,
          227.10208764190978,
          229.41311071420094,
          229.57407081968418,
          229.90702299843974,
          231.31763578746586,
          231.47996294174197,
          231.5045991167422,
          233.92617109377932,
          234.01807632046237,
          234.22430595968092,
          235.13885149105704,
          235.1640703632343,
          235.18127762579724,
          236.84835704081473,
          236.9382048514373,
          237.1476819928239,
          238.0696099511606,
          238.08724058671348,
          239.79546248404756,
          239.88287081309954,
          240.08309715582294,
          241.03814684996314,
          241.0580266771456,
          242.9796808668179,
          243.06629951751881,
          243.26698899057823,
          244.26231405911597,
          244.2822839825013,
          246.21375551046296,
          246.32720286181333,
          246.59372950360412,
          247.96213975839123,
          247.98763951661078,
          250.43666206257814,
          250.54304334152167,
          250.79298580501728,
          252.22667289566803,
          252.25108942654182,
          254.62525449474833,
          254.7022067314156,
          254.87921880043083,
          255.39539189634542,
          255.41306454532045,
          257.15299321662343,
          257.2301733616529,
          257.41019808053557,
          258.2184387348315,
          258.2617182617097,
          258.27932121749365,
          259.97665311764416,
          260.0023077195091,
          260.06214921867854,
          260.5444215921903,
          260.58127678490047,
          260.58702806484297,
          261.14548956388614,
          261.1979184379326,
          261.3187951800779,
          262.2997377794002,
          262.3717578574241,
          262.38331955233014,
          263.5116489514803,
          263.5379464076638,
          263.59800910795474,
          264.10551651896003,
          264.13904017158313,
          264.14474458210947,
          264.7070983899346,
          264.73362527406977,
          264.7937848736446,
          265.31544631333276,
          265.34908377403855,
          265.35472538771165,
          265.9109128596914,
          265.96522964410065,
          266.088713709213,
          267.17687149627443,
          267.24461691321346,
          267.25572139979045,
          268.3554324045378,
          268.3832232410168,
          268.44711336102625,
          269.0013621514149,
          269.03543760142367,
          269.0410483109442,
          269.5958985292825,
          269.62289914578076,
          269.6807440869602,
          270.22663019469144,
          270.2607309195617,
          270.2663660596368,
          270.8231051672975,
          270.8495612328243,
          270.90931776022774,
          271.42845999206173,
          271.4626540930107,
          271.4682756873459,
          272.0274769203735,
          272.05387736303913,
          272.11348039463985,
          272.63375807014336,
          272.66795217109234,
          272.6735874046882,
          273.23414538651906,
          273.3122810497447,
          273.48193065765724,
          275.0455037162897,
          275.1496304601519,
          275.1668386426369,
          276.86276784607077,
          276.889028769671,
          276.94655039937186,
          277.4755226708393,
          277.51034438504615,
          277.5161392504372,
          278.0838742844139,
          278.13668527384755,
          278.25001544033097,
          279.34213767013557,
          279.41200541096714,
          279.4238439412746,
          280.5759127044138,
          280.60191278648483,
          280.6567713841439,
          281.21418232896144,
          281.2491667816472,
          281.2550972164154,
          281.83911182323493,
          281.8651366673807,
          281.9200475118482,
          282.47823731705756,
          282.5132549307993,
          282.5191911653693,
          283.10377692238507,
          283.15531579947213,
          283.26240646854734,
          284.41199338277806,
          284.4818975583289,
          284.4936023583341,
          285.65545073258664,
          285.68164551438707,
          285.736242798752,
          286.32226500937537,
          286.35715567457856,
          286.36299642379754,
          286.93971498650563,
          286.9886704446715,
          287.09961818960426,
          287.74249769987006,
          287.770704753367,
          287.7823527074169,
          288.93822181693133,
          288.98390275749387,
          289.095931673114,
          289.90409121849666,
          289.9155075140507,
          291.0549257379185,
          291.1007139003133,
          291.2143573967004,
          292.0282427247258,
          292.03958042411944,
          293.1766551847282,
          293.2459999587053,
          293.4237596309937,
          294.6557942706869,
          294.6723930700126,
          296.355272658141,
          296.50280019857877,
          296.8981985440291,
          299.64582810281996,
          299.6802779047065,
          303.5257594059791,
          303.6066003615162,
          303.8278392332458,
          305.2775533181062,
          305.29694213078454,
          307.48429450693465,
          307.5457073658342,
          307.7145775389087,
          308.78808093735296,
          308.80271150741106,
          310.42852639576034,
          310.5085300109912,
          310.7170879166857,
          311.3491416979687,
          311.502896474102,
          311.52180934290146,
          313.5959640940749,
          313.6597201382657,
          313.83181806414,
          314.4020241556121,
          314.61719030826333,
          314.63124884124255,
          316.2111708609345,
          316.28166970810196,
          316.4508133049805,
          317.4409488365908,
          317.66355254646,
          317.6775725797929,
          319.2899602723788,
          319.3133283883759,
          319.3689406903187,
          319.7004457006672,
          319.7757397983007,
          319.7804422570663,
          320.32241207446464,
          321.40680040824805,
          321.47496553990374,
          321.63722841369844,
          322.62841566697375,
          322.85894965827845,
          322.8729043686184,
          323.40883314305194
         ],
         "yaxis": "y"
        },
        {
         "hovertemplate": "variable=normalized_buy_amount<br>timestamp=%{x}<br>value=%{y}<extra></extra>",
         "legendgroup": "normalized_buy_amount",
         "line": {
          "color": "#EF553B",
          "dash": "solid"
         },
         "marker": {
          "symbol": "circle"
         },
         "mode": "lines",
         "name": "normalized_buy_amount",
         "showlegend": true,
         "type": "scattergl",
         "x": [
          "2024-09-19T19:06:47+00:00",
          "2024-09-19T19:06:47+00:00",
          "2024-09-19T19:06:47+00:00",
          "2024-09-19T19:06:47+00:00",
          "2024-09-19T19:06:47+00:00",
          "2024-09-20T22:04:35+00:00",
          "2024-09-20T22:04:35+00:00",
          "2024-09-20T22:04:35+00:00",
          "2024-09-20T22:04:35+00:00",
          "2024-09-20T22:04:35+00:00",
          "2024-09-20T22:35:59+00:00",
          "2024-09-20T22:35:59+00:00",
          "2024-09-20T22:35:59+00:00",
          "2024-09-20T22:35:59+00:00",
          "2024-09-20T22:35:59+00:00",
          "2024-09-20T22:36:11+00:00",
          "2024-09-21T21:05:11+00:00",
          "2024-09-21T21:05:11+00:00",
          "2024-09-21T21:05:11+00:00",
          "2024-09-21T21:05:11+00:00",
          "2024-09-21T21:05:11+00:00",
          "2024-09-21T21:14:35+00:00",
          "2024-09-22T11:32:23+00:00",
          "2024-09-22T11:32:23+00:00",
          "2024-09-22T11:32:23+00:00",
          "2024-09-22T11:32:23+00:00",
          "2024-09-22T11:32:23+00:00",
          "2024-09-22T17:32:23+00:00",
          "2024-09-22T17:32:23+00:00",
          "2024-09-22T17:32:23+00:00",
          "2024-09-22T17:32:23+00:00",
          "2024-09-22T17:32:23+00:00",
          "2024-09-22T17:32:35+00:00",
          "2024-09-22T23:32:23+00:00",
          "2024-09-22T23:32:23+00:00",
          "2024-09-22T23:32:23+00:00",
          "2024-09-22T23:32:23+00:00",
          "2024-09-22T23:32:23+00:00",
          "2024-09-22T23:32:47+00:00",
          "2024-09-23T11:32:47+00:00",
          "2024-09-23T11:32:47+00:00",
          "2024-09-23T11:32:47+00:00",
          "2024-09-23T11:32:47+00:00",
          "2024-09-23T11:32:47+00:00",
          "2024-09-24T11:32:35+00:00",
          "2024-09-24T11:32:35+00:00",
          "2024-09-24T11:32:35+00:00",
          "2024-09-24T11:32:35+00:00",
          "2024-09-24T11:32:35+00:00",
          "2024-09-24T11:32:47+00:00",
          "2024-09-25T05:32:23+00:00",
          "2024-09-25T05:32:23+00:00",
          "2024-09-25T05:32:23+00:00",
          "2024-09-25T05:32:23+00:00",
          "2024-09-25T05:32:23+00:00",
          "2024-09-25T05:32:35+00:00",
          "2024-09-25T23:32:23+00:00",
          "2024-09-25T23:32:23+00:00",
          "2024-09-25T23:32:23+00:00",
          "2024-09-25T23:32:23+00:00",
          "2024-09-25T23:32:23+00:00",
          "2024-09-25T23:32:47+00:00",
          "2024-09-26T05:32:23+00:00",
          "2024-09-26T05:32:23+00:00",
          "2024-09-26T05:32:23+00:00",
          "2024-09-26T05:32:23+00:00",
          "2024-09-26T05:32:23+00:00",
          "2024-09-26T05:32:35+00:00",
          "2024-09-27T18:22:47+00:00",
          "2024-09-27T18:22:47+00:00",
          "2024-09-27T18:22:47+00:00",
          "2024-09-27T18:22:47+00:00",
          "2024-09-27T18:22:47+00:00",
          "2024-09-27T18:22:59+00:00",
          "2024-09-28T05:32:35+00:00",
          "2024-09-28T05:32:35+00:00",
          "2024-09-28T05:32:35+00:00",
          "2024-09-28T05:32:35+00:00",
          "2024-09-28T17:32:23+00:00",
          "2024-09-28T17:32:23+00:00",
          "2024-09-28T17:32:23+00:00",
          "2024-09-28T17:32:23+00:00",
          "2024-09-28T17:32:23+00:00",
          "2024-09-28T17:32:35+00:00",
          "2024-09-29T11:32:11+00:00",
          "2024-09-29T11:32:11+00:00",
          "2024-09-29T11:32:11+00:00",
          "2024-09-29T11:32:11+00:00",
          "2024-09-29T11:32:11+00:00",
          "2024-09-29T11:32:23+00:00",
          "2024-09-30T11:32:11+00:00",
          "2024-09-30T11:32:11+00:00",
          "2024-09-30T11:32:11+00:00",
          "2024-09-30T11:32:11+00:00",
          "2024-09-30T11:32:11+00:00",
          "2024-09-30T11:32:23+00:00",
          "2024-09-30T17:32:11+00:00",
          "2024-09-30T17:32:11+00:00",
          "2024-09-30T17:32:11+00:00",
          "2024-09-30T17:32:11+00:00",
          "2024-09-30T17:32:11+00:00",
          "2024-09-30T17:32:23+00:00",
          "2024-10-01T11:32:47+00:00",
          "2024-10-01T11:32:47+00:00",
          "2024-10-01T11:32:47+00:00",
          "2024-10-01T11:32:47+00:00",
          "2024-10-01T11:32:47+00:00",
          "2024-10-01T11:34:47+00:00",
          "2024-10-01T11:34:47+00:00",
          "2024-10-01T23:32:35+00:00",
          "2024-10-01T23:32:35+00:00",
          "2024-10-01T23:32:35+00:00",
          "2024-10-01T23:32:35+00:00",
          "2024-10-01T23:32:35+00:00",
          "2024-10-01T23:32:47+00:00",
          "2024-10-01T23:32:47+00:00",
          "2024-10-03T11:32:23+00:00",
          "2024-10-03T11:32:23+00:00",
          "2024-10-03T11:32:23+00:00",
          "2024-10-03T11:32:23+00:00",
          "2024-10-03T11:32:23+00:00",
          "2024-10-03T11:32:35+00:00",
          "2024-10-03T11:32:35+00:00",
          "2024-10-04T05:32:11+00:00",
          "2024-10-04T05:32:11+00:00",
          "2024-10-04T05:32:11+00:00",
          "2024-10-04T05:32:11+00:00",
          "2024-10-04T05:32:11+00:00",
          "2024-10-04T05:32:23+00:00",
          "2024-10-04T05:32:23+00:00",
          "2024-10-04T11:32:23+00:00",
          "2024-10-04T11:32:23+00:00",
          "2024-10-04T11:32:23+00:00",
          "2024-10-04T11:32:23+00:00",
          "2024-10-04T11:32:23+00:00",
          "2024-10-04T11:32:35+00:00",
          "2024-10-04T11:32:35+00:00",
          "2024-10-05T05:32:35+00:00",
          "2024-10-05T05:32:35+00:00",
          "2024-10-05T05:32:35+00:00",
          "2024-10-05T05:32:35+00:00",
          "2024-10-05T05:32:35+00:00",
          "2024-10-05T05:34:23+00:00",
          "2024-10-05T05:34:23+00:00",
          "2024-10-05T11:32:23+00:00",
          "2024-10-05T11:32:23+00:00",
          "2024-10-05T17:32:23+00:00",
          "2024-10-05T17:32:23+00:00",
          "2024-10-05T17:32:23+00:00",
          "2024-10-05T17:32:23+00:00",
          "2024-10-05T17:32:23+00:00",
          "2024-10-05T17:32:35+00:00",
          "2024-10-05T17:32:35+00:00",
          "2024-10-15T19:26:23+00:00",
          "2024-10-15T19:26:23+00:00",
          "2024-10-15T19:26:23+00:00",
          "2024-10-15T19:26:23+00:00",
          "2024-10-15T19:26:23+00:00",
          "2024-10-15T19:26:47+00:00",
          "2024-10-16T18:11:23+00:00",
          "2024-10-16T18:11:23+00:00",
          "2024-10-16T18:11:23+00:00",
          "2024-10-16T18:11:23+00:00",
          "2024-10-16T18:11:23+00:00",
          "2024-10-16T18:11:35+00:00",
          "2024-10-17T00:25:11+00:00",
          "2024-10-17T00:25:11+00:00",
          "2024-10-17T00:25:11+00:00",
          "2024-10-17T00:25:11+00:00",
          "2024-10-17T00:25:11+00:00",
          "2024-10-17T12:25:11+00:00",
          "2024-10-17T12:25:11+00:00",
          "2024-10-17T12:25:11+00:00",
          "2024-10-17T12:25:11+00:00",
          "2024-10-17T12:25:11+00:00",
          "2024-10-18T02:46:23+00:00",
          "2024-10-18T02:46:23+00:00",
          "2024-10-18T02:46:23+00:00",
          "2024-10-18T02:46:23+00:00",
          "2024-10-18T02:46:23+00:00",
          "2024-10-18T02:46:35+00:00",
          "2024-10-18T18:25:11+00:00",
          "2024-10-18T18:25:11+00:00",
          "2024-10-18T18:25:11+00:00",
          "2024-10-18T18:25:11+00:00",
          "2024-10-18T18:25:11+00:00",
          "2024-10-18T18:25:23+00:00",
          "2024-10-19T06:25:11+00:00",
          "2024-10-19T06:25:11+00:00",
          "2024-10-19T06:25:11+00:00",
          "2024-10-19T06:25:11+00:00",
          "2024-10-19T06:25:11+00:00",
          "2024-10-19T18:25:11+00:00",
          "2024-10-19T18:25:11+00:00",
          "2024-10-19T18:25:11+00:00",
          "2024-10-19T18:25:11+00:00",
          "2024-10-19T18:25:11+00:00",
          "2024-10-20T06:24:59+00:00",
          "2024-10-20T06:24:59+00:00",
          "2024-10-20T06:24:59+00:00",
          "2024-10-20T06:24:59+00:00",
          "2024-10-20T06:24:59+00:00",
          "2024-10-20T18:25:23+00:00",
          "2024-10-20T18:25:23+00:00",
          "2024-10-20T18:25:23+00:00",
          "2024-10-20T18:25:23+00:00",
          "2024-10-20T18:25:23+00:00",
          "2024-10-21T06:25:23+00:00",
          "2024-10-21T06:25:23+00:00",
          "2024-10-21T06:25:23+00:00",
          "2024-10-21T06:25:23+00:00",
          "2024-10-21T06:25:23+00:00",
          "2024-10-21T18:25:23+00:00",
          "2024-10-21T18:25:23+00:00",
          "2024-10-21T18:25:23+00:00",
          "2024-10-21T18:25:23+00:00",
          "2024-10-21T18:25:23+00:00",
          "2024-10-22T00:25:11+00:00",
          "2024-10-22T00:25:11+00:00",
          "2024-10-22T06:25:23+00:00",
          "2024-10-22T06:25:23+00:00",
          "2024-10-22T06:25:23+00:00",
          "2024-10-22T06:25:23+00:00",
          "2024-10-22T06:25:23+00:00",
          "2024-10-22T12:25:11+00:00",
          "2024-10-22T12:25:11+00:00",
          "2024-10-22T18:25:11+00:00",
          "2024-10-22T18:25:11+00:00",
          "2024-10-22T18:25:11+00:00",
          "2024-10-22T18:25:11+00:00",
          "2024-10-22T18:25:11+00:00",
          "2024-10-23T00:25:23+00:00",
          "2024-10-23T00:25:23+00:00",
          "2024-10-23T06:25:11+00:00",
          "2024-10-23T06:25:11+00:00",
          "2024-10-23T06:25:11+00:00",
          "2024-10-23T06:25:11+00:00",
          "2024-10-23T06:25:11+00:00",
          "2024-10-23T18:25:23+00:00",
          "2024-10-23T18:25:23+00:00",
          "2024-10-23T18:25:23+00:00",
          "2024-10-23T18:25:23+00:00",
          "2024-10-23T18:25:23+00:00",
          "2024-10-24T00:24:59+00:00",
          "2024-10-24T06:25:23+00:00",
          "2024-10-24T06:25:23+00:00",
          "2024-10-24T06:25:23+00:00",
          "2024-10-24T06:25:23+00:00",
          "2024-10-24T06:25:23+00:00",
          "2024-10-24T06:27:35+00:00",
          "2024-10-24T18:25:35+00:00",
          "2024-10-24T18:25:35+00:00",
          "2024-10-24T18:25:35+00:00",
          "2024-10-24T18:25:35+00:00",
          "2024-10-24T18:25:35+00:00",
          "2024-10-24T18:27:23+00:00",
          "2024-10-25T06:25:11+00:00",
          "2024-10-25T06:25:11+00:00",
          "2024-10-25T06:25:11+00:00",
          "2024-10-25T06:25:11+00:00",
          "2024-10-25T06:25:11+00:00",
          "2024-10-25T18:25:23+00:00",
          "2024-10-25T18:25:23+00:00",
          "2024-10-25T18:25:23+00:00",
          "2024-10-25T18:25:23+00:00",
          "2024-10-25T18:25:23+00:00",
          "2024-10-25T18:25:35+00:00",
          "2024-10-26T06:25:35+00:00",
          "2024-10-26T06:25:35+00:00",
          "2024-10-26T06:25:35+00:00",
          "2024-10-26T06:25:35+00:00",
          "2024-10-26T06:25:35+00:00",
          "2024-10-26T06:27:11+00:00",
          "2024-10-28T03:58:47+00:00",
          "2024-10-28T03:58:47+00:00",
          "2024-10-28T03:58:47+00:00",
          "2024-10-28T03:58:47+00:00",
          "2024-10-28T03:58:47+00:00",
          "2024-10-28T14:21:35+00:00",
          "2024-10-28T14:21:35+00:00",
          "2024-10-28T14:21:35+00:00",
          "2024-10-28T14:21:35+00:00",
          "2024-10-28T14:21:35+00:00",
          "2024-10-28T15:28:35+00:00",
          "2024-10-28T22:15:23+00:00",
          "2024-10-28T22:15:23+00:00",
          "2024-10-28T22:15:23+00:00",
          "2024-10-28T22:15:23+00:00",
          "2024-10-28T22:15:23+00:00",
          "2024-10-28T22:15:35+00:00",
          "2024-10-29T04:17:59+00:00",
          "2024-10-29T04:17:59+00:00",
          "2024-10-29T04:17:59+00:00",
          "2024-10-29T04:17:59+00:00",
          "2024-10-29T04:17:59+00:00",
          "2024-10-29T04:18:11+00:00",
          "2024-10-29T18:26:23+00:00",
          "2024-10-29T18:26:23+00:00",
          "2024-10-29T18:26:23+00:00",
          "2024-10-29T18:26:23+00:00",
          "2024-10-29T18:26:23+00:00",
          "2024-10-29T18:26:35+00:00",
          "2024-10-29T18:26:35+00:00",
          "2024-10-30T04:17:47+00:00",
          "2024-10-30T04:17:47+00:00",
          "2024-10-30T04:17:47+00:00",
          "2024-10-30T04:17:47+00:00",
          "2024-10-30T04:17:47+00:00",
          "2024-10-30T04:17:59+00:00",
          "2024-10-30T04:17:59+00:00",
          "2024-10-30T16:17:47+00:00",
          "2024-10-30T16:17:47+00:00",
          "2024-10-30T16:17:47+00:00",
          "2024-10-30T16:17:47+00:00",
          "2024-10-30T16:17:47+00:00",
          "2024-10-30T16:17:59+00:00",
          "2024-10-30T16:17:59+00:00",
          "2024-10-31T04:17:47+00:00",
          "2024-10-31T04:17:47+00:00",
          "2024-10-31T04:17:47+00:00",
          "2024-10-31T04:17:47+00:00",
          "2024-10-31T04:17:47+00:00",
          "2024-10-31T04:17:59+00:00",
          "2024-10-31T16:17:47+00:00",
          "2024-10-31T16:17:47+00:00",
          "2024-10-31T16:17:47+00:00",
          "2024-10-31T16:17:47+00:00",
          "2024-10-31T16:17:47+00:00",
          "2024-10-31T16:17:59+00:00",
          "2024-10-31T16:17:59+00:00",
          "2024-11-01T04:17:47+00:00",
          "2024-11-01T04:17:47+00:00",
          "2024-11-01T04:17:47+00:00",
          "2024-11-01T04:17:47+00:00",
          "2024-11-01T04:17:47+00:00",
          "2024-11-01T04:17:59+00:00",
          "2024-11-01T04:17:59+00:00",
          "2024-11-01T16:17:47+00:00",
          "2024-11-01T16:17:47+00:00",
          "2024-11-01T16:17:47+00:00",
          "2024-11-01T16:17:47+00:00",
          "2024-11-01T16:17:47+00:00",
          "2024-11-01T16:17:59+00:00",
          "2024-11-01T16:17:59+00:00",
          "2024-11-02T16:17:47+00:00",
          "2024-11-02T16:17:47+00:00",
          "2024-11-02T16:17:47+00:00",
          "2024-11-02T16:17:47+00:00",
          "2024-11-02T16:17:47+00:00",
          "2024-11-02T16:17:59+00:00",
          "2024-11-03T04:17:47+00:00",
          "2024-11-03T04:17:47+00:00",
          "2024-11-03T04:17:47+00:00",
          "2024-11-03T04:17:47+00:00",
          "2024-11-03T04:17:47+00:00",
          "2024-11-03T04:17:59+00:00",
          "2024-11-03T16:17:47+00:00",
          "2024-11-03T16:17:47+00:00",
          "2024-11-03T16:17:47+00:00",
          "2024-11-03T16:17:47+00:00",
          "2024-11-03T16:17:47+00:00",
          "2024-11-03T16:17:59+00:00",
          "2024-11-04T04:17:47+00:00",
          "2024-11-04T04:17:47+00:00",
          "2024-11-04T04:17:47+00:00",
          "2024-11-04T04:17:47+00:00",
          "2024-11-04T04:17:47+00:00",
          "2024-11-04T04:17:59+00:00",
          "2024-11-04T16:17:59+00:00",
          "2024-11-04T16:17:59+00:00",
          "2024-11-04T16:17:59+00:00",
          "2024-11-04T16:17:59+00:00",
          "2024-11-04T16:17:59+00:00",
          "2024-11-04T16:18:11+00:00",
          "2024-11-05T04:17:47+00:00",
          "2024-11-05T04:17:47+00:00",
          "2024-11-05T04:17:47+00:00",
          "2024-11-05T04:17:47+00:00",
          "2024-11-05T04:17:47+00:00",
          "2024-11-05T04:17:59+00:00",
          "2024-11-05T16:17:59+00:00",
          "2024-11-05T16:17:59+00:00",
          "2024-11-05T16:17:59+00:00",
          "2024-11-05T16:17:59+00:00",
          "2024-11-05T16:17:59+00:00",
          "2024-11-06T04:17:47+00:00",
          "2024-11-06T04:17:47+00:00",
          "2024-11-06T04:17:47+00:00",
          "2024-11-06T04:17:47+00:00",
          "2024-11-06T04:17:47+00:00",
          "2024-11-06T16:17:47+00:00",
          "2024-11-06T16:17:47+00:00",
          "2024-11-06T16:17:47+00:00",
          "2024-11-06T16:17:47+00:00",
          "2024-11-06T16:17:47+00:00",
          "2024-11-07T04:17:47+00:00",
          "2024-11-07T04:17:47+00:00",
          "2024-11-07T04:17:47+00:00",
          "2024-11-07T04:17:47+00:00",
          "2024-11-07T04:17:47+00:00",
          "2024-11-07T17:02:59+00:00",
          "2024-11-07T17:02:59+00:00",
          "2024-11-07T17:02:59+00:00",
          "2024-11-07T17:02:59+00:00",
          "2024-11-07T17:02:59+00:00",
          "2024-11-08T04:17:47+00:00",
          "2024-11-08T04:17:47+00:00",
          "2024-11-08T04:17:47+00:00",
          "2024-11-08T04:17:47+00:00",
          "2024-11-08T04:17:47+00:00",
          "2024-11-08T16:17:47+00:00",
          "2024-11-08T16:17:47+00:00",
          "2024-11-08T16:17:47+00:00",
          "2024-11-08T16:17:47+00:00",
          "2024-11-08T16:17:47+00:00",
          "2024-11-08T23:02:11+00:00",
          "2024-11-08T23:02:11+00:00",
          "2024-11-08T23:02:11+00:00",
          "2024-11-08T23:02:11+00:00",
          "2024-11-08T23:02:11+00:00",
          "2024-11-08T23:02:23+00:00",
          "2024-11-09T10:17:47+00:00",
          "2024-11-09T10:17:47+00:00",
          "2024-11-09T10:17:47+00:00",
          "2024-11-09T10:17:47+00:00",
          "2024-11-09T10:17:47+00:00",
          "2024-11-09T10:17:59+00:00",
          "2024-11-10T14:21:35+00:00",
          "2024-11-10T14:21:35+00:00",
          "2024-11-10T14:21:35+00:00",
          "2024-11-10T14:21:35+00:00",
          "2024-11-10T14:21:35+00:00",
          "2024-11-10T14:21:47+00:00",
          "2024-11-10T20:24:47+00:00",
          "2024-11-10T22:24:23+00:00",
          "2024-11-10T22:24:23+00:00",
          "2024-11-10T22:24:23+00:00",
          "2024-11-10T22:24:23+00:00",
          "2024-11-10T22:24:23+00:00",
          "2024-11-11T04:24:35+00:00",
          "2024-11-11T04:24:35+00:00",
          "2024-11-11T04:24:35+00:00",
          "2024-11-11T04:24:35+00:00",
          "2024-11-11T04:24:35+00:00",
          "2024-11-11T04:24:47+00:00",
          "2024-11-11T12:24:35+00:00",
          "2024-11-11T12:24:35+00:00",
          "2024-11-11T12:24:35+00:00",
          "2024-11-11T12:24:35+00:00",
          "2024-11-11T12:24:35+00:00",
          "2024-11-11T12:24:47+00:00",
          "2024-11-11T20:24:35+00:00",
          "2024-11-11T20:24:35+00:00",
          "2024-11-11T20:24:35+00:00",
          "2024-11-11T20:24:35+00:00",
          "2024-11-11T20:24:35+00:00",
          "2024-11-11T20:24:47+00:00",
          "2024-11-12T04:24:35+00:00",
          "2024-11-12T04:24:35+00:00",
          "2024-11-12T04:24:35+00:00",
          "2024-11-12T04:24:35+00:00",
          "2024-11-12T04:24:35+00:00",
          "2024-11-12T04:24:47+00:00",
          "2024-11-12T12:24:35+00:00",
          "2024-11-12T12:24:35+00:00",
          "2024-11-12T12:24:35+00:00",
          "2024-11-12T12:24:35+00:00",
          "2024-11-12T12:24:35+00:00",
          "2024-11-12T12:24:47+00:00",
          "2024-11-12T20:24:47+00:00",
          "2024-11-12T20:24:47+00:00",
          "2024-11-12T20:24:47+00:00",
          "2024-11-12T20:24:47+00:00",
          "2024-11-12T20:24:47+00:00",
          "2024-11-12T20:24:59+00:00",
          "2024-11-13T04:24:35+00:00",
          "2024-11-13T04:24:35+00:00",
          "2024-11-13T04:24:35+00:00",
          "2024-11-13T04:24:35+00:00",
          "2024-11-13T04:24:35+00:00",
          "2024-11-13T04:24:47+00:00",
          "2024-11-13T12:24:35+00:00",
          "2024-11-13T12:24:35+00:00",
          "2024-11-13T12:24:35+00:00",
          "2024-11-13T12:24:35+00:00",
          "2024-11-13T12:24:35+00:00",
          "2024-11-13T12:24:47+00:00",
          "2024-11-13T22:32:59+00:00",
          "2024-11-13T22:32:59+00:00",
          "2024-11-13T22:32:59+00:00",
          "2024-11-13T22:32:59+00:00",
          "2024-11-13T22:32:59+00:00",
          "2024-11-13T22:33:11+00:00",
          "2024-11-14T06:24:35+00:00",
          "2024-11-14T06:24:35+00:00",
          "2024-11-14T06:24:35+00:00",
          "2024-11-14T06:24:35+00:00",
          "2024-11-14T06:24:35+00:00",
          "2024-11-14T06:24:47+00:00",
          "2024-11-14T14:24:35+00:00",
          "2024-11-14T14:24:35+00:00",
          "2024-11-14T14:24:35+00:00",
          "2024-11-14T14:24:35+00:00",
          "2024-11-14T14:24:35+00:00",
          "2024-11-14T14:24:47+00:00",
          "2024-11-14T22:24:35+00:00",
          "2024-11-14T22:24:35+00:00",
          "2024-11-14T22:24:35+00:00",
          "2024-11-14T22:24:35+00:00",
          "2024-11-14T22:24:35+00:00",
          "2024-11-15T06:24:35+00:00",
          "2024-11-15T06:24:35+00:00",
          "2024-11-15T06:24:35+00:00",
          "2024-11-15T06:24:35+00:00",
          "2024-11-15T06:24:35+00:00",
          "2024-11-15T14:24:35+00:00",
          "2024-11-15T14:24:35+00:00",
          "2024-11-15T14:24:35+00:00",
          "2024-11-15T14:24:35+00:00",
          "2024-11-15T14:24:35+00:00",
          "2024-11-15T22:24:35+00:00",
          "2024-11-15T22:24:35+00:00",
          "2024-11-15T22:24:35+00:00",
          "2024-11-15T22:24:35+00:00",
          "2024-11-15T22:24:35+00:00",
          "2024-11-16T06:24:35+00:00",
          "2024-11-16T06:24:35+00:00",
          "2024-11-16T06:24:35+00:00",
          "2024-11-16T06:24:35+00:00",
          "2024-11-16T06:24:35+00:00",
          "2024-11-16T23:03:35+00:00",
          "2024-11-16T23:03:35+00:00",
          "2024-11-16T23:03:35+00:00",
          "2024-11-16T23:03:35+00:00",
          "2024-11-16T23:03:35+00:00",
          "2024-11-17T06:24:35+00:00",
          "2024-11-17T06:24:35+00:00",
          "2024-11-17T06:24:35+00:00",
          "2024-11-17T06:24:35+00:00",
          "2024-11-17T06:24:35+00:00",
          "2024-11-17T14:24:35+00:00",
          "2024-11-17T14:24:35+00:00",
          "2024-11-17T14:24:35+00:00",
          "2024-11-17T14:24:35+00:00",
          "2024-11-17T14:24:35+00:00",
          "2024-11-17T14:24:47+00:00",
          "2024-11-17T22:24:35+00:00",
          "2024-11-17T22:24:35+00:00",
          "2024-11-17T22:24:35+00:00",
          "2024-11-17T22:24:35+00:00",
          "2024-11-17T22:24:35+00:00",
          "2024-11-17T22:24:47+00:00",
          "2024-11-18T06:24:35+00:00",
          "2024-11-18T06:24:35+00:00",
          "2024-11-18T06:24:35+00:00",
          "2024-11-18T06:24:35+00:00",
          "2024-11-18T06:24:35+00:00",
          "2024-11-18T06:24:47+00:00",
          "2024-11-18T14:24:47+00:00",
          "2024-11-18T14:24:47+00:00",
          "2024-11-18T14:24:47+00:00",
          "2024-11-18T14:24:47+00:00",
          "2024-11-18T14:24:47+00:00",
          "2024-11-18T14:24:59+00:00",
          "2024-11-18T22:24:35+00:00",
          "2024-11-18T22:24:35+00:00",
          "2024-11-18T22:24:35+00:00",
          "2024-11-18T22:24:35+00:00",
          "2024-11-18T22:24:35+00:00",
          "2024-11-18T22:24:47+00:00",
          "2024-11-19T06:24:35+00:00",
          "2024-11-19T06:24:35+00:00",
          "2024-11-19T06:24:35+00:00",
          "2024-11-19T06:24:35+00:00",
          "2024-11-19T06:24:35+00:00",
          "2024-11-19T06:24:47+00:00",
          "2024-11-19T14:24:59+00:00",
          "2024-11-19T22:24:35+00:00",
          "2024-11-20T03:00:35+00:00",
          "2024-11-20T03:00:35+00:00",
          "2024-11-20T03:00:35+00:00",
          "2024-11-20T03:00:35+00:00",
          "2024-11-20T03:00:35+00:00",
          "2024-11-20T06:24:35+00:00",
          "2024-11-20T06:24:35+00:00",
          "2024-11-20T06:24:35+00:00",
          "2024-11-20T06:24:35+00:00",
          "2024-11-20T06:24:35+00:00",
          "2024-11-20T06:24:47+00:00",
          "2024-11-20T14:24:35+00:00",
          "2024-11-20T14:24:35+00:00",
          "2024-11-20T14:24:35+00:00",
          "2024-11-20T14:24:35+00:00",
          "2024-11-20T14:24:35+00:00",
          "2024-11-20T14:24:47+00:00",
          "2024-11-20T22:24:47+00:00",
          "2024-11-21T00:24:23+00:00",
          "2024-11-21T00:24:23+00:00",
          "2024-11-21T00:24:23+00:00",
          "2024-11-21T00:24:23+00:00",
          "2024-11-21T00:24:23+00:00",
          "2024-11-21T06:24:35+00:00",
          "2024-11-21T06:24:35+00:00",
          "2024-11-21T06:24:35+00:00",
          "2024-11-21T06:24:35+00:00",
          "2024-11-21T06:24:35+00:00",
          "2024-11-21T06:24:47+00:00",
          "2024-11-21T16:24:35+00:00",
          "2024-11-21T16:24:35+00:00",
          "2024-11-21T16:24:35+00:00",
          "2024-11-21T16:24:35+00:00",
          "2024-11-21T16:24:35+00:00",
          "2024-11-21T16:24:47+00:00",
          "2024-11-22T00:24:47+00:00",
          "2024-11-22T14:24:35+00:00",
          "2024-11-22T14:24:35+00:00",
          "2024-11-22T14:24:35+00:00",
          "2024-11-22T14:24:35+00:00",
          "2024-11-22T14:24:35+00:00",
          "2024-11-22T14:24:47+00:00",
          "2024-11-22T22:24:35+00:00",
          "2024-11-22T22:24:35+00:00",
          "2024-11-22T22:24:35+00:00",
          "2024-11-22T22:24:35+00:00",
          "2024-11-22T22:24:35+00:00",
          "2024-11-22T22:24:47+00:00",
          "2024-11-23T06:24:35+00:00",
          "2024-11-23T06:24:35+00:00",
          "2024-11-23T06:24:35+00:00",
          "2024-11-23T06:24:35+00:00",
          "2024-11-23T06:24:35+00:00",
          "2024-11-23T06:24:47+00:00",
          "2024-11-23T14:24:35+00:00",
          "2024-11-23T14:24:35+00:00",
          "2024-11-23T14:24:35+00:00",
          "2024-11-23T14:24:35+00:00",
          "2024-11-23T14:24:35+00:00",
          "2024-11-23T14:24:47+00:00",
          "2024-11-23T22:24:35+00:00",
          "2024-11-23T22:24:35+00:00",
          "2024-11-23T22:24:35+00:00",
          "2024-11-23T22:24:35+00:00",
          "2024-11-23T22:24:35+00:00",
          "2024-11-24T06:24:35+00:00",
          "2024-11-24T06:24:35+00:00",
          "2024-11-24T06:24:35+00:00",
          "2024-11-24T06:24:35+00:00",
          "2024-11-24T06:24:35+00:00",
          "2024-11-24T14:24:35+00:00",
          "2024-11-24T14:24:35+00:00",
          "2024-11-24T14:24:35+00:00",
          "2024-11-24T14:24:35+00:00",
          "2024-11-24T14:24:35+00:00",
          "2024-11-24T14:24:47+00:00",
          "2024-11-24T22:24:47+00:00",
          "2024-11-24T22:24:47+00:00",
          "2024-11-24T22:24:47+00:00",
          "2024-11-24T22:24:47+00:00",
          "2024-11-24T22:24:47+00:00",
          "2024-11-25T06:24:47+00:00",
          "2024-11-25T06:24:47+00:00",
          "2024-11-25T06:24:47+00:00",
          "2024-11-25T06:24:47+00:00",
          "2024-11-25T06:24:47+00:00",
          "2024-11-25T06:24:59+00:00",
          "2024-11-25T14:24:47+00:00",
          "2024-11-25T14:24:47+00:00",
          "2024-11-25T14:24:47+00:00",
          "2024-11-25T14:24:47+00:00",
          "2024-11-25T14:24:47+00:00",
          "2024-11-25T22:24:35+00:00",
          "2024-11-25T22:24:35+00:00",
          "2024-11-25T22:24:35+00:00",
          "2024-11-25T22:24:35+00:00",
          "2024-11-25T22:24:35+00:00",
          "2024-11-25T22:24:47+00:00",
          "2024-11-26T06:24:35+00:00",
          "2024-11-26T06:24:35+00:00",
          "2024-11-26T06:24:35+00:00",
          "2024-11-26T06:24:35+00:00",
          "2024-11-26T06:24:35+00:00",
          "2024-11-26T06:24:47+00:00",
          "2024-11-26T12:24:35+00:00",
          "2024-11-26T12:24:35+00:00",
          "2024-11-26T12:24:35+00:00",
          "2024-11-26T12:24:35+00:00",
          "2024-11-26T12:24:35+00:00",
          "2024-11-26T12:24:47+00:00",
          "2024-11-26T20:24:35+00:00",
          "2024-11-26T20:24:35+00:00",
          "2024-11-26T20:24:35+00:00",
          "2024-11-26T20:24:35+00:00",
          "2024-11-26T20:24:35+00:00",
          "2024-11-26T20:24:47+00:00",
          "2024-11-27T04:24:47+00:00",
          "2024-11-27T04:24:47+00:00",
          "2024-11-27T04:24:47+00:00",
          "2024-11-27T04:24:47+00:00",
          "2024-11-27T04:24:47+00:00",
          "2024-11-27T04:24:59+00:00",
          "2024-11-27T12:24:35+00:00",
          "2024-11-27T12:24:35+00:00",
          "2024-11-27T12:24:35+00:00",
          "2024-11-27T12:24:35+00:00",
          "2024-11-27T12:24:35+00:00",
          "2024-11-27T12:24:47+00:00",
          "2024-11-27T20:24:35+00:00",
          "2024-11-27T20:24:35+00:00",
          "2024-11-27T20:24:35+00:00",
          "2024-11-27T20:24:35+00:00",
          "2024-11-27T20:24:35+00:00",
          "2024-11-27T20:24:47+00:00",
          "2024-11-28T04:24:35+00:00",
          "2024-11-28T04:24:35+00:00",
          "2024-11-28T04:24:35+00:00",
          "2024-11-28T04:24:35+00:00",
          "2024-11-28T04:24:35+00:00",
          "2024-11-28T04:24:47+00:00",
          "2024-11-28T12:24:35+00:00",
          "2024-11-28T12:24:35+00:00",
          "2024-11-28T12:24:35+00:00",
          "2024-11-28T12:24:35+00:00",
          "2024-11-28T12:24:35+00:00",
          "2024-11-28T12:24:47+00:00",
          "2024-11-28T20:24:59+00:00",
          "2024-11-28T20:24:59+00:00",
          "2024-11-28T20:24:59+00:00",
          "2024-11-28T20:24:59+00:00",
          "2024-11-28T20:24:59+00:00",
          "2024-11-28T20:25:11+00:00",
          "2024-11-29T04:24:35+00:00",
          "2024-11-29T04:24:35+00:00",
          "2024-11-29T04:24:35+00:00",
          "2024-11-29T04:24:35+00:00",
          "2024-11-29T04:24:35+00:00",
          "2024-11-29T12:24:35+00:00",
          "2024-11-29T12:24:35+00:00",
          "2024-11-29T12:24:35+00:00",
          "2024-11-29T12:24:35+00:00",
          "2024-11-29T12:24:35+00:00",
          "2024-11-29T20:24:35+00:00",
          "2024-11-29T20:24:35+00:00",
          "2024-11-29T20:24:35+00:00",
          "2024-11-29T20:24:35+00:00",
          "2024-11-29T20:24:35+00:00",
          "2024-11-30T04:24:35+00:00",
          "2024-11-30T04:24:35+00:00",
          "2024-11-30T04:24:35+00:00",
          "2024-11-30T04:24:35+00:00",
          "2024-11-30T04:24:35+00:00",
          "2024-11-30T12:24:47+00:00",
          "2024-11-30T12:24:47+00:00",
          "2024-11-30T12:24:47+00:00",
          "2024-11-30T12:24:47+00:00",
          "2024-11-30T12:24:47+00:00",
          "2024-11-30T20:24:35+00:00",
          "2024-11-30T20:24:35+00:00",
          "2024-11-30T20:24:35+00:00",
          "2024-11-30T20:24:35+00:00",
          "2024-11-30T20:24:35+00:00",
          "2024-12-01T04:24:35+00:00",
          "2024-12-01T04:24:35+00:00",
          "2024-12-01T04:24:35+00:00",
          "2024-12-01T04:24:35+00:00",
          "2024-12-01T04:24:35+00:00",
          "2024-12-01T12:24:35+00:00",
          "2024-12-01T12:24:35+00:00",
          "2024-12-01T12:24:35+00:00",
          "2024-12-01T12:24:35+00:00",
          "2024-12-01T12:24:35+00:00",
          "2024-12-01T20:24:35+00:00",
          "2024-12-01T20:24:35+00:00",
          "2024-12-01T20:24:35+00:00",
          "2024-12-01T20:24:35+00:00",
          "2024-12-01T20:24:35+00:00",
          "2024-12-02T18:24:23+00:00",
          "2024-12-02T18:24:23+00:00",
          "2024-12-02T18:24:23+00:00",
          "2024-12-02T18:24:23+00:00",
          "2024-12-02T22:24:35+00:00",
          "2024-12-02T22:24:35+00:00",
          "2024-12-02T22:24:35+00:00",
          "2024-12-02T22:24:35+00:00",
          "2024-12-02T22:24:35+00:00",
          "2024-12-03T06:24:35+00:00",
          "2024-12-03T06:24:35+00:00",
          "2024-12-03T06:24:35+00:00",
          "2024-12-03T06:24:35+00:00",
          "2024-12-03T06:24:35+00:00",
          "2024-12-03T14:24:35+00:00",
          "2024-12-03T14:24:35+00:00",
          "2024-12-03T14:24:35+00:00",
          "2024-12-03T14:24:35+00:00",
          "2024-12-03T14:24:35+00:00",
          "2024-12-03T22:24:35+00:00",
          "2024-12-03T22:24:35+00:00",
          "2024-12-03T22:24:35+00:00",
          "2024-12-03T22:24:35+00:00",
          "2024-12-03T22:24:35+00:00",
          "2024-12-04T06:24:35+00:00",
          "2024-12-04T06:24:35+00:00",
          "2024-12-04T06:24:35+00:00",
          "2024-12-04T06:24:35+00:00",
          "2024-12-04T06:24:35+00:00",
          "2024-12-04T14:24:35+00:00",
          "2024-12-04T14:24:35+00:00",
          "2024-12-04T14:24:35+00:00",
          "2024-12-04T14:24:35+00:00",
          "2024-12-04T14:24:35+00:00",
          "2024-12-04T22:24:35+00:00",
          "2024-12-04T22:24:35+00:00",
          "2024-12-04T22:24:35+00:00",
          "2024-12-04T22:24:35+00:00",
          "2024-12-04T22:24:35+00:00",
          "2024-12-05T06:24:35+00:00",
          "2024-12-05T06:24:35+00:00",
          "2024-12-05T06:24:35+00:00",
          "2024-12-05T06:24:35+00:00",
          "2024-12-05T06:24:35+00:00",
          "2024-12-05T20:24:23+00:00",
          "2024-12-05T20:24:23+00:00",
          "2024-12-05T20:24:23+00:00",
          "2024-12-05T20:24:23+00:00",
          "2024-12-05T20:24:23+00:00",
          "2024-12-05T20:24:35+00:00",
          "2024-12-06T02:24:59+00:00",
          "2024-12-06T02:24:59+00:00",
          "2024-12-06T02:24:59+00:00",
          "2024-12-06T02:24:59+00:00",
          "2024-12-06T02:24:59+00:00",
          "2024-12-06T02:25:11+00:00",
          "2024-12-06T10:24:35+00:00",
          "2024-12-06T10:24:35+00:00",
          "2024-12-06T10:24:35+00:00",
          "2024-12-06T10:24:35+00:00",
          "2024-12-06T10:24:35+00:00",
          "2024-12-06T10:24:47+00:00",
          "2024-12-06T18:24:35+00:00",
          "2024-12-06T18:24:35+00:00",
          "2024-12-06T18:24:35+00:00",
          "2024-12-06T18:24:35+00:00",
          "2024-12-06T18:24:35+00:00",
          "2024-12-06T18:24:47+00:00",
          "2024-12-07T02:24:35+00:00",
          "2024-12-07T02:24:35+00:00",
          "2024-12-07T02:24:35+00:00",
          "2024-12-07T02:24:35+00:00",
          "2024-12-07T02:24:35+00:00",
          "2024-12-07T02:24:47+00:00",
          "2024-12-07T10:24:35+00:00",
          "2024-12-07T10:24:35+00:00",
          "2024-12-07T10:24:35+00:00",
          "2024-12-07T10:24:35+00:00",
          "2024-12-07T10:24:35+00:00",
          "2024-12-07T10:24:47+00:00",
          "2024-12-07T18:24:47+00:00",
          "2024-12-07T18:24:47+00:00",
          "2024-12-07T18:24:47+00:00",
          "2024-12-07T18:24:47+00:00",
          "2024-12-07T18:24:47+00:00",
          "2024-12-07T18:24:59+00:00",
          "2024-12-08T02:24:35+00:00",
          "2024-12-08T02:24:35+00:00",
          "2024-12-08T02:24:35+00:00",
          "2024-12-08T02:24:35+00:00",
          "2024-12-08T02:24:35+00:00",
          "2024-12-08T02:24:47+00:00",
          "2024-12-08T10:24:47+00:00",
          "2024-12-08T10:24:47+00:00",
          "2024-12-08T10:24:47+00:00",
          "2024-12-08T10:24:47+00:00",
          "2024-12-08T10:24:47+00:00",
          "2024-12-08T10:24:59+00:00",
          "2024-12-08T18:24:47+00:00",
          "2024-12-08T18:24:47+00:00",
          "2024-12-08T18:24:47+00:00",
          "2024-12-08T18:24:47+00:00",
          "2024-12-08T18:24:47+00:00",
          "2024-12-08T18:24:59+00:00",
          "2024-12-09T02:24:35+00:00",
          "2024-12-09T02:24:35+00:00",
          "2024-12-09T02:24:35+00:00",
          "2024-12-09T02:24:35+00:00",
          "2024-12-09T02:24:35+00:00",
          "2024-12-09T02:24:59+00:00",
          "2024-12-09T10:24:47+00:00",
          "2024-12-09T10:24:47+00:00",
          "2024-12-09T10:24:47+00:00",
          "2024-12-09T10:24:47+00:00",
          "2024-12-09T10:24:47+00:00",
          "2024-12-09T10:24:59+00:00",
          "2024-12-09T18:24:35+00:00",
          "2024-12-09T18:24:35+00:00",
          "2024-12-09T18:24:35+00:00",
          "2024-12-09T18:24:35+00:00",
          "2024-12-09T18:24:35+00:00",
          "2024-12-09T18:24:47+00:00",
          "2024-12-10T02:25:35+00:00",
          "2024-12-10T02:25:35+00:00",
          "2024-12-10T02:25:35+00:00",
          "2024-12-10T02:25:35+00:00",
          "2024-12-10T02:25:35+00:00",
          "2024-12-10T10:24:47+00:00",
          "2024-12-10T10:24:47+00:00",
          "2024-12-10T10:24:47+00:00",
          "2024-12-10T10:24:47+00:00",
          "2024-12-10T10:24:47+00:00",
          "2024-12-10T18:24:47+00:00",
          "2024-12-10T20:24:23+00:00",
          "2024-12-10T20:24:23+00:00",
          "2024-12-10T20:24:23+00:00",
          "2024-12-10T20:24:23+00:00",
          "2024-12-10T20:24:23+00:00",
          "2024-12-11T04:07:23+00:00",
          "2024-12-11T04:07:23+00:00",
          "2024-12-11T04:07:23+00:00",
          "2024-12-11T04:07:23+00:00",
          "2024-12-11T04:07:23+00:00",
          "2024-12-11T04:07:35+00:00",
          "2024-12-11T11:07:11+00:00",
          "2024-12-11T11:07:11+00:00",
          "2024-12-11T11:07:11+00:00",
          "2024-12-11T11:07:11+00:00",
          "2024-12-11T11:07:11+00:00",
          "2024-12-11T11:07:23+00:00",
          "2024-12-11T18:07:23+00:00",
          "2024-12-11T18:07:23+00:00",
          "2024-12-11T18:07:23+00:00",
          "2024-12-11T18:07:23+00:00",
          "2024-12-11T18:07:23+00:00",
          "2024-12-11T18:07:35+00:00",
          "2024-12-12T01:07:23+00:00",
          "2024-12-12T01:07:23+00:00",
          "2024-12-12T01:07:23+00:00",
          "2024-12-12T01:07:23+00:00",
          "2024-12-12T01:07:23+00:00",
          "2024-12-12T01:07:35+00:00",
          "2024-12-12T08:07:11+00:00",
          "2024-12-12T08:07:11+00:00",
          "2024-12-12T08:07:11+00:00",
          "2024-12-12T08:07:11+00:00",
          "2024-12-12T08:07:11+00:00",
          "2024-12-12T08:07:23+00:00",
          "2024-12-12T22:07:11+00:00",
          "2024-12-12T22:07:11+00:00",
          "2024-12-12T22:07:11+00:00",
          "2024-12-12T22:07:11+00:00",
          "2024-12-12T22:07:11+00:00",
          "2024-12-12T22:07:23+00:00",
          "2024-12-13T05:07:11+00:00",
          "2024-12-13T05:07:11+00:00",
          "2024-12-13T05:07:11+00:00",
          "2024-12-13T05:07:11+00:00",
          "2024-12-13T05:07:11+00:00",
          "2024-12-13T12:07:23+00:00",
          "2024-12-13T12:07:23+00:00",
          "2024-12-13T12:07:23+00:00",
          "2024-12-13T12:07:23+00:00",
          "2024-12-13T12:07:23+00:00",
          "2024-12-13T12:07:35+00:00",
          "2024-12-13T19:07:11+00:00",
          "2024-12-13T19:07:11+00:00",
          "2024-12-13T19:07:11+00:00",
          "2024-12-13T19:07:11+00:00",
          "2024-12-13T19:07:11+00:00",
          "2024-12-13T19:07:23+00:00",
          "2024-12-14T02:07:23+00:00",
          "2024-12-14T02:07:23+00:00",
          "2024-12-14T02:07:23+00:00",
          "2024-12-14T02:07:23+00:00",
          "2024-12-14T02:07:23+00:00",
          "2024-12-14T02:07:35+00:00",
          "2024-12-14T09:07:11+00:00",
          "2024-12-14T09:07:11+00:00",
          "2024-12-14T09:07:11+00:00",
          "2024-12-14T09:07:11+00:00",
          "2024-12-14T09:07:11+00:00",
          "2024-12-14T09:07:23+00:00",
          "2024-12-14T16:07:11+00:00",
          "2024-12-14T16:07:11+00:00",
          "2024-12-14T16:07:11+00:00",
          "2024-12-14T16:07:11+00:00",
          "2024-12-14T16:07:11+00:00",
          "2024-12-14T16:07:23+00:00",
          "2024-12-14T23:07:11+00:00",
          "2024-12-14T23:07:11+00:00",
          "2024-12-14T23:07:11+00:00",
          "2024-12-14T23:07:11+00:00",
          "2024-12-14T23:07:11+00:00",
          "2024-12-14T23:07:23+00:00",
          "2024-12-15T06:07:11+00:00",
          "2024-12-15T20:07:11+00:00",
          "2024-12-15T20:07:11+00:00",
          "2024-12-15T20:07:11+00:00",
          "2024-12-15T20:07:11+00:00",
          "2024-12-15T20:07:11+00:00",
          "2024-12-15T20:07:23+00:00",
          "2024-12-16T10:07:11+00:00",
          "2024-12-16T10:07:11+00:00",
          "2024-12-16T10:07:11+00:00",
          "2024-12-16T10:07:11+00:00",
          "2024-12-16T10:07:11+00:00",
          "2024-12-16T10:07:35+00:00",
          "2024-12-17T00:07:11+00:00",
          "2024-12-17T00:07:11+00:00",
          "2024-12-17T00:07:11+00:00",
          "2024-12-17T00:07:11+00:00",
          "2024-12-17T00:07:11+00:00",
          "2024-12-17T00:07:23+00:00",
          "2024-12-17T07:07:11+00:00",
          "2024-12-17T07:07:11+00:00",
          "2024-12-17T07:07:11+00:00",
          "2024-12-17T07:07:11+00:00",
          "2024-12-17T07:07:11+00:00",
          "2024-12-17T07:07:23+00:00",
          "2024-12-17T21:07:23+00:00",
          "2024-12-17T21:07:23+00:00",
          "2024-12-17T21:07:23+00:00",
          "2024-12-17T21:07:23+00:00",
          "2024-12-17T21:07:23+00:00",
          "2024-12-17T21:07:35+00:00",
          "2024-12-19T01:07:23+00:00",
          "2024-12-19T01:07:23+00:00",
          "2024-12-19T01:07:23+00:00",
          "2024-12-19T01:07:23+00:00",
          "2024-12-19T01:07:23+00:00",
          "2024-12-19T01:07:35+00:00",
          "2024-12-20T05:07:23+00:00",
          "2024-12-20T05:07:23+00:00",
          "2024-12-20T05:07:23+00:00",
          "2024-12-20T05:07:23+00:00",
          "2024-12-20T05:07:23+00:00",
          "2024-12-20T05:07:35+00:00",
          "2024-12-21T09:07:11+00:00",
          "2024-12-21T09:07:11+00:00",
          "2024-12-21T09:07:11+00:00",
          "2024-12-21T09:07:11+00:00",
          "2024-12-21T09:07:11+00:00",
          "2024-12-21T09:07:23+00:00",
          "2024-12-22T06:07:11+00:00",
          "2024-12-22T06:07:11+00:00",
          "2024-12-22T06:07:11+00:00",
          "2024-12-22T06:07:11+00:00",
          "2024-12-22T06:07:11+00:00",
          "2024-12-23T03:07:35+00:00",
          "2024-12-23T03:07:35+00:00",
          "2024-12-23T03:07:35+00:00",
          "2024-12-23T03:07:35+00:00",
          "2024-12-23T03:07:35+00:00",
          "2024-12-24T07:07:11+00:00",
          "2024-12-24T07:07:11+00:00",
          "2024-12-24T07:07:11+00:00",
          "2024-12-24T07:07:11+00:00",
          "2024-12-24T07:07:11+00:00",
          "2024-12-24T21:07:11+00:00",
          "2024-12-24T21:07:11+00:00",
          "2024-12-24T21:07:11+00:00",
          "2024-12-24T21:07:11+00:00",
          "2024-12-24T21:07:11+00:00",
          "2024-12-25T11:07:11+00:00",
          "2024-12-25T11:07:11+00:00",
          "2024-12-25T11:07:11+00:00",
          "2024-12-25T11:07:11+00:00",
          "2024-12-26T01:07:11+00:00",
          "2024-12-26T01:07:11+00:00",
          "2024-12-26T01:07:11+00:00",
          "2024-12-26T01:07:11+00:00",
          "2024-12-26T01:07:11+00:00",
          "2024-12-26T22:07:11+00:00",
          "2024-12-26T22:07:11+00:00",
          "2024-12-26T22:07:11+00:00",
          "2024-12-26T22:07:11+00:00",
          "2024-12-26T22:07:11+00:00",
          "2024-12-26T22:07:23+00:00",
          "2024-12-27T12:07:23+00:00",
          "2024-12-27T12:07:23+00:00",
          "2024-12-27T12:07:23+00:00",
          "2024-12-27T12:07:23+00:00",
          "2024-12-27T12:07:23+00:00",
          "2024-12-27T12:07:35+00:00",
          "2024-12-28T02:07:23+00:00",
          "2024-12-28T02:07:23+00:00",
          "2024-12-28T02:07:23+00:00",
          "2024-12-28T02:07:23+00:00",
          "2024-12-28T02:07:23+00:00",
          "2024-12-28T02:07:35+00:00",
          "2024-12-28T16:07:11+00:00",
          "2024-12-28T16:07:11+00:00",
          "2024-12-28T16:07:11+00:00",
          "2024-12-28T16:07:11+00:00",
          "2024-12-28T16:07:11+00:00",
          "2024-12-28T16:07:23+00:00",
          "2024-12-29T06:07:11+00:00",
          "2024-12-29T06:07:11+00:00",
          "2024-12-29T06:07:11+00:00",
          "2024-12-29T06:07:11+00:00",
          "2024-12-29T06:07:11+00:00",
          "2024-12-29T06:07:23+00:00",
          "2024-12-29T20:07:11+00:00",
          "2024-12-29T20:07:11+00:00",
          "2024-12-29T20:07:11+00:00",
          "2024-12-29T20:07:11+00:00",
          "2024-12-29T20:07:11+00:00",
          "2024-12-29T20:07:23+00:00",
          "2024-12-30T10:07:11+00:00",
          "2024-12-30T10:07:11+00:00",
          "2024-12-30T10:07:11+00:00",
          "2024-12-30T10:07:11+00:00",
          "2024-12-30T10:07:11+00:00",
          "2024-12-30T10:07:23+00:00",
          "2024-12-31T21:07:23+00:00",
          "2024-12-31T21:07:23+00:00",
          "2024-12-31T21:07:23+00:00",
          "2024-12-31T21:07:23+00:00",
          "2024-12-31T21:07:23+00:00",
          "2024-12-31T21:07:35+00:00",
          "2025-01-02T08:07:11+00:00",
          "2025-01-02T08:07:11+00:00",
          "2025-01-02T08:07:11+00:00",
          "2025-01-02T08:07:11+00:00",
          "2025-01-02T08:07:11+00:00",
          "2025-01-02T08:07:23+00:00",
          "2025-01-03T05:07:11+00:00",
          "2025-01-03T05:07:11+00:00",
          "2025-01-03T05:07:11+00:00",
          "2025-01-03T05:07:11+00:00",
          "2025-01-03T05:07:11+00:00",
          "2025-01-03T05:07:23+00:00",
          "2025-01-04T02:07:11+00:00",
          "2025-01-04T02:07:11+00:00",
          "2025-01-04T02:07:11+00:00",
          "2025-01-04T02:07:11+00:00",
          "2025-01-04T02:07:11+00:00",
          "2025-01-04T23:07:11+00:00",
          "2025-01-04T23:07:11+00:00",
          "2025-01-04T23:07:11+00:00",
          "2025-01-04T23:07:11+00:00",
          "2025-01-04T23:07:11+00:00",
          "2025-01-05T20:07:11+00:00",
          "2025-01-05T20:07:11+00:00",
          "2025-01-05T20:07:11+00:00",
          "2025-01-05T20:07:11+00:00",
          "2025-01-05T20:07:11+00:00",
          "2025-01-07T00:07:11+00:00",
          "2025-01-07T00:07:11+00:00",
          "2025-01-07T00:07:11+00:00",
          "2025-01-07T00:07:11+00:00",
          "2025-01-07T00:07:11+00:00",
          "2025-01-08T04:07:35+00:00",
          "2025-01-08T04:07:35+00:00",
          "2025-01-08T04:07:35+00:00",
          "2025-01-08T04:07:35+00:00",
          "2025-01-08T04:07:35+00:00",
          "2025-01-09T01:07:11+00:00",
          "2025-01-09T01:07:11+00:00",
          "2025-01-09T01:07:11+00:00",
          "2025-01-09T01:07:11+00:00",
          "2025-01-09T01:07:11+00:00",
          "2025-01-09T22:07:11+00:00",
          "2025-01-09T22:07:11+00:00",
          "2025-01-09T22:07:11+00:00",
          "2025-01-09T22:07:11+00:00",
          "2025-01-09T22:07:11+00:00",
          "2025-01-09T22:07:23+00:00",
          "2025-01-10T05:07:59+00:00",
          "2025-01-10T05:07:59+00:00",
          "2025-01-10T05:07:59+00:00",
          "2025-01-10T05:07:59+00:00",
          "2025-01-10T05:07:59+00:00",
          "2025-01-10T05:08:11+00:00",
          "2025-01-10T19:07:11+00:00",
          "2025-01-10T19:07:11+00:00",
          "2025-01-10T19:07:11+00:00",
          "2025-01-10T19:07:11+00:00",
          "2025-01-10T19:07:11+00:00",
          "2025-01-10T19:07:23+00:00",
          "2025-01-11T02:07:11+00:00",
          "2025-01-11T02:07:11+00:00",
          "2025-01-11T02:07:11+00:00",
          "2025-01-11T02:07:11+00:00",
          "2025-01-11T02:07:11+00:00",
          "2025-01-11T02:07:23+00:00",
          "2025-01-11T09:07:11+00:00",
          "2025-01-11T09:07:11+00:00",
          "2025-01-11T09:07:11+00:00",
          "2025-01-11T09:07:11+00:00",
          "2025-01-11T09:07:11+00:00",
          "2025-01-11T09:07:23+00:00",
          "2025-01-11T23:07:11+00:00",
          "2025-01-11T23:07:11+00:00",
          "2025-01-11T23:07:11+00:00",
          "2025-01-11T23:07:11+00:00",
          "2025-01-11T23:07:11+00:00",
          "2025-01-11T23:07:23+00:00",
          "2025-01-12T06:07:35+00:00",
          "2025-01-12T06:07:35+00:00",
          "2025-01-12T06:07:35+00:00",
          "2025-01-12T06:07:35+00:00",
          "2025-01-12T06:07:35+00:00",
          "2025-01-12T06:07:47+00:00",
          "2025-01-12T13:07:11+00:00",
          "2025-01-12T13:07:11+00:00",
          "2025-01-12T13:07:11+00:00",
          "2025-01-12T13:07:11+00:00",
          "2025-01-12T13:07:11+00:00",
          "2025-01-12T13:07:23+00:00",
          "2025-01-12T20:07:11+00:00",
          "2025-01-12T20:07:11+00:00",
          "2025-01-12T20:07:11+00:00",
          "2025-01-12T20:07:11+00:00",
          "2025-01-12T20:07:11+00:00",
          "2025-01-12T20:07:23+00:00",
          "2025-01-13T03:07:11+00:00",
          "2025-01-13T03:07:11+00:00",
          "2025-01-13T03:07:11+00:00",
          "2025-01-13T03:07:11+00:00",
          "2025-01-13T03:07:11+00:00",
          "2025-01-13T03:07:23+00:00",
          "2025-01-14T00:07:11+00:00",
          "2025-01-14T00:07:11+00:00",
          "2025-01-14T00:07:11+00:00",
          "2025-01-14T00:07:11+00:00",
          "2025-01-14T00:07:11+00:00",
          "2025-01-14T00:07:23+00:00",
          "2025-01-14T07:07:11+00:00",
          "2025-01-14T07:07:11+00:00",
          "2025-01-14T07:07:11+00:00",
          "2025-01-14T07:07:11+00:00",
          "2025-01-14T07:07:11+00:00",
          "2025-01-14T07:07:23+00:00",
          "2025-01-14T21:07:11+00:00",
          "2025-01-14T21:07:11+00:00",
          "2025-01-14T21:07:11+00:00",
          "2025-01-14T21:07:11+00:00",
          "2025-01-14T21:07:11+00:00",
          "2025-01-14T21:07:23+00:00",
          "2025-01-15T04:07:11+00:00",
          "2025-01-15T04:07:11+00:00",
          "2025-01-15T04:07:11+00:00",
          "2025-01-15T04:07:11+00:00",
          "2025-01-15T04:07:11+00:00",
          "2025-01-15T04:07:23+00:00",
          "2025-01-15T11:07:35+00:00",
          "2025-01-15T11:07:35+00:00",
          "2025-01-15T11:07:35+00:00",
          "2025-01-15T11:07:35+00:00",
          "2025-01-15T11:07:35+00:00",
          "2025-01-15T11:07:47+00:00",
          "2025-01-16T01:07:11+00:00",
          "2025-01-16T01:07:11+00:00",
          "2025-01-16T01:07:11+00:00",
          "2025-01-16T01:07:11+00:00",
          "2025-01-16T01:07:11+00:00",
          "2025-01-16T01:07:23+00:00",
          "2025-01-16T08:07:23+00:00",
          "2025-01-16T08:07:23+00:00",
          "2025-01-16T08:07:23+00:00",
          "2025-01-16T08:07:23+00:00",
          "2025-01-16T08:07:23+00:00",
          "2025-01-16T08:07:35+00:00",
          "2025-01-16T22:07:23+00:00",
          "2025-01-16T22:07:23+00:00",
          "2025-01-16T22:07:23+00:00",
          "2025-01-16T22:07:23+00:00",
          "2025-01-16T22:07:23+00:00",
          "2025-01-16T22:07:35+00:00",
          "2025-01-17T12:07:11+00:00",
          "2025-01-17T12:07:11+00:00",
          "2025-01-17T12:07:11+00:00",
          "2025-01-17T12:07:11+00:00",
          "2025-01-17T12:07:11+00:00",
          "2025-01-18T02:07:11+00:00",
          "2025-01-18T02:07:11+00:00",
          "2025-01-18T02:07:11+00:00",
          "2025-01-18T02:07:11+00:00",
          "2025-01-18T02:07:11+00:00",
          "2025-01-18T23:07:11+00:00",
          "2025-01-18T23:07:11+00:00",
          "2025-01-18T23:07:11+00:00",
          "2025-01-18T23:07:11+00:00",
          "2025-01-18T23:07:11+00:00",
          "2025-01-21T00:07:11+00:00",
          "2025-01-21T00:07:11+00:00",
          "2025-01-21T00:07:11+00:00",
          "2025-01-21T00:07:11+00:00",
          "2025-01-21T00:07:11+00:00",
          "2025-01-22T04:07:11+00:00",
          "2025-01-22T04:07:11+00:00",
          "2025-01-22T04:07:11+00:00",
          "2025-01-22T04:07:11+00:00",
          "2025-01-22T04:07:11+00:00",
          "2025-01-23T01:07:11+00:00",
          "2025-01-23T01:07:11+00:00",
          "2025-01-23T01:07:11+00:00",
          "2025-01-23T01:07:11+00:00",
          "2025-01-23T01:07:11+00:00",
          "2025-01-24T05:07:11+00:00",
          "2025-01-24T05:07:11+00:00",
          "2025-01-24T05:07:11+00:00",
          "2025-01-24T05:07:11+00:00",
          "2025-01-24T05:07:11+00:00",
          "2025-01-24T05:07:23+00:00",
          "2025-01-25T02:07:11+00:00",
          "2025-01-25T02:07:11+00:00",
          "2025-01-25T02:07:11+00:00",
          "2025-01-25T02:07:11+00:00",
          "2025-01-25T02:07:11+00:00",
          "2025-01-25T02:07:23+00:00",
          "2025-01-25T23:07:11+00:00",
          "2025-01-25T23:07:11+00:00",
          "2025-01-25T23:07:11+00:00",
          "2025-01-25T23:07:11+00:00",
          "2025-01-25T23:07:11+00:00",
          "2025-01-25T23:07:23+00:00",
          "2025-01-26T06:07:11+00:00",
          "2025-01-26T06:07:11+00:00",
          "2025-01-26T06:07:11+00:00",
          "2025-01-26T06:07:11+00:00",
          "2025-01-26T06:07:11+00:00",
          "2025-01-26T06:07:23+00:00",
          "2025-01-26T20:07:11+00:00",
          "2025-01-27T03:07:35+00:00",
          "2025-01-27T03:07:35+00:00",
          "2025-01-27T03:07:35+00:00",
          "2025-01-27T03:07:35+00:00",
          "2025-01-27T03:07:35+00:00",
          "2025-01-27T03:07:47+00:00"
         ],
         "xaxis": "x",
         "y": [
          0.06566090443774109,
          0.1392445219482502,
          0.2623956470324152,
          0.2677428203443209,
          0.5090702400692935,
          0.5295040550372166,
          0.5651395376908747,
          0.5819204185852515,
          0.6386874696245797,
          0.6470057343599461,
          1.0400194770090558,
          1.0403194433840315,
          1.0409405809070522,
          1.0422114947611054,
          1.0454604790560489,
          1.0456521266523287,
          1.055451668305354,
          1.0773078237868128,
          1.1646906069520222,
          1.3045153506730711,
          1.3135716080089321,
          1.7073520247673406,
          1.7134969995140652,
          1.726271425635394,
          1.807551298563725,
          1.896839365894809,
          1.9038916251498705,
          2.3802396427771164,
          2.3825418782821055,
          2.38787250969392,
          2.423035012177477,
          2.4600860555644686,
          2.4633748282276655,
          2.46572573141917,
          2.471097074586499,
          2.507562844059831,
          2.544725738475782,
          2.5482340665983116,
          2.706870793197425,
          2.711548516475269,
          2.722471962979903,
          2.800669790132402,
          2.873091191823843,
          2.88036303668354,
          3.9828687317731353,
          3.9922879638303925,
          4.014185133423056,
          4.186526141983819,
          4.33248575425147,
          4.348882860553025,
          4.358106822816204,
          4.379119740190267,
          4.510566715159693,
          4.623328680710723,
          4.636588396611492,
          5.267531736492421,
          5.278611788984055,
          5.302150557033896,
          5.432107208819537,
          5.547319685880207,
          5.56049294367239,
          6.19320382968958,
          6.1990065998256245,
          6.209372129983901,
          6.25291855221195,
          6.290772016309823,
          6.29526205943602,
          6.510104411736936,
          6.574798467249468,
          6.687192925473527,
          6.8985070547036145,
          7.092651111686606,
          7.118840976023796,
          8.421008388853483,
          8.4475666518431,
          8.494320237332966,
          8.503811326928318,
          8.95175330403157,
          8.979294026253477,
          9.026159648191824,
          9.067176538121295,
          9.092064513912405,
          9.101833784097424,
          9.542477042913337,
          9.570777948208328,
          9.619229826073552,
          9.759911970940117,
          9.836610543194832,
          9.846106306402449,
          10.28124690984502,
          10.340982125416526,
          10.445341229874264,
          10.793887186021538,
          10.967248137235329,
          10.98602114229631,
          11.877007494993343,
          11.906629138075559,
          11.960328698349038,
          12.157637312521162,
          12.253023697767604,
          12.2621514657824,
          12.68670824399763,
          12.731494437847367,
          12.814796543760375,
          13.11932970978818,
          13.261083420869053,
          13.282433607933967,
          13.891320753567353,
          13.905000166461615,
          13.93549352284018,
          13.991596294393918,
          14.19715481261219,
          14.298922719675836,
          14.330797054608452,
          14.339647907828084,
          14.738139535434602,
          14.833218955808523,
          15.000359888727203,
          15.575456492725575,
          15.890716287151852,
          16.006628927563938,
          16.03336198212577,
          17.250623931130566,
          17.27696043226804,
          17.328601741465896,
          17.52096999762992,
          17.627073687383575,
          17.673792477913153,
          17.68316024111789,
          18.10153770309855,
          18.132975964957495,
          18.193422405019763,
          18.387113980718034,
          18.49320492683545,
          18.546866852573736,
          18.556301395148175,
          18.97140179582265,
          19.020438189536392,
          19.115876121467743,
          19.410076972885527,
          19.576290454962482,
          19.662497967034895,
          20.26124157503595,
          20.27481276287718,
          20.274886095937813,
          20.275105452070402,
          20.313292296953655,
          20.381635273342877,
          20.51196653286916,
          20.58963208871443,
          20.64990457265531,
          20.65890074644143,
          21.050127738718874,
          21.14309003503966,
          21.345506618416998,
          22.730410734813802,
          23.09456180068458,
          23.114926120844,
          24.094078749309652,
          24.154891559762802,
          24.29876166894468,
          25.13828666929583,
          25.146337756424458,
          25.16305994516812,
          25.949649557242328,
          25.96577499011867,
          26.00241992908787,
          26.230930497049695,
          26.23496482206788,
          26.425711535572248,
          26.454715575258692,
          26.519578939758688,
          26.968591147942057,
          26.97634010239164,
          27.342423862742166,
          27.392331492022198,
          27.473291633651858,
          28.033240365630316,
          28.25797107739205,
          28.26822907861798,
          28.752445301952132,
          28.80001332622218,
          28.867509872598667,
          28.902369483025346,
          29.187610350098748,
          29.198453071636557,
          29.72446315511635,
          29.7545528421327,
          29.80144534912439,
          30.0253085590929,
          30.03377210777418,
          30.453383754333366,
          30.485973153341902,
          30.53843483655974,
          30.764486006115348,
          30.772969830963746,
          31.18772334975178,
          31.220800484624554,
          31.276056106359043,
          31.50412361780371,
          31.512566888341322,
          31.92689099629262,
          31.96050234047915,
          32.017516966385955,
          32.24222366736717,
          32.25068451622451,
          32.66110876191332,
          32.694135763787344,
          32.74977587767088,
          32.97204925832028,
          32.980659514162085,
          33.39257487181017,
          33.427565575562646,
          33.486737423793336,
          33.71528500241055,
          33.72387563063488,
          34.13570235365255,
          34.13575391331641,
          34.1359356979252,
          34.17108502831496,
          34.23016968873988,
          34.45960545281988,
          34.46799470465675,
          34.87100421568679,
          34.87114695970337,
          34.871636979714886,
          34.9054502817915,
          34.96182106134661,
          35.19308205121757,
          35.201402321540854,
          35.596758595944614,
          35.596862865545575,
          35.5972259193072,
          35.628571714964345,
          35.68293807429635,
          35.9142254648734,
          35.922437103241016,
          36.31804214624095,
          36.34814445650822,
          36.40048209558958,
          36.60535177857397,
          36.84987136310484,
          36.85815431921656,
          37.26344563206966,
          37.2922142633311,
          37.34698404592668,
          37.853236267250736,
          38.09036462663444,
          38.09870128211798,
          38.50516083449356,
          38.53191291549649,
          38.58765858971898,
          39.106686636039946,
          39.25754232434758,
          39.26587070816377,
          39.679084112158996,
          39.70735970613667,
          39.76600115017864,
          40.287054095554744,
          40.295283782190246,
          40.70905946286892,
          40.73685208824948,
          40.79246993028071,
          41.31391565249575,
          41.35608714667528,
          41.364201493832034,
          41.7735481226784,
          41.797700989367534,
          41.849231706046865,
          42.36008238498875,
          42.456863476386395,
          42.46521900834662,
          42.891446336920524,
          43.07721649544849,
          44.9924868137007,
          45.35615835677887,
          45.38887793647599,
          47.07884343128095,
          47.12864702107681,
          47.60824278763149,
          47.69467283761102,
          47.70295869873715,
          48.12710840815495,
          48.2489630227536,
          48.26740673879775,
          48.30570939622226,
          48.59179554826974,
          48.651721051751565,
          48.657720520396,
          48.96432675513433,
          48.97876943076895,
          49.008816449767544,
          49.27824340246921,
          49.3234987675406,
          49.32795782490911,
          49.5638814132288,
          49.59698075178698,
          49.663163555482384,
          50.36806437281377,
          50.472167108300575,
          50.48821740888609,
          50.498999684620166,
          51.05888632100118,
          51.082119627510245,
          51.12990726555355,
          51.676978473302306,
          51.74954062211706,
          51.78436402488,
          51.79190545787171,
          52.187374003809,
          52.214304006013116,
          52.26939308264417,
          52.956494861373365,
          53.04274615229024,
          53.086245228195196,
          53.09563827614,
          53.57047206616411,
          53.59783596817591,
          53.652898690028245,
          53.73931243962317,
          53.78282093638536,
          53.79221028811774,
          54.275254184780614,
          54.3008659468574,
          54.35571685449213,
          54.49812246362946,
          54.58741523535901,
          54.63082914799303,
          54.64050278279573,
          55.136485821785115,
          55.1560493519599,
          55.2135922827371,
          55.89423655029801,
          55.98550324556969,
          56.02830398524854,
          56.037954972953486,
          56.557096281198156,
          56.57662850621493,
          56.63374438950006,
          57.30768714529712,
          57.374353608656776,
          57.417136061142315,
          57.42681502033387,
          57.935099197421906,
          57.96900482487899,
          58.07724039938888,
          59.3907444440869,
          59.476481963148956,
          59.49518471329603,
          60.458974396812685,
          60.47612658202375,
          60.532196804618536,
          61.170926893848716,
          61.21378614348954,
          61.22325138450963,
          61.70643585691735,
          61.722272056437625,
          61.773324383237316,
          62.402065605408886,
          62.44490205365318,
          62.454103329418494,
          62.92450103641982,
          62.94270404983178,
          62.99912287583393,
          63.61664565692493,
          63.65946984784855,
          63.66878529544507,
          64.13896793102336,
          64.1578742793079,
          64.21609339809214,
          64.81505994491349,
          64.85793062234664,
          64.86725940130671,
          65.34325123220295,
          65.36192193867119,
          65.42024413011488,
          66.00866777542868,
          66.05147641612068,
          66.06081103923309,
          66.5379692871861,
          66.55681827046942,
          66.61522820413889,
          67.16166845619689,
          67.1955265250373,
          67.20487423814241,
          67.22536347661678,
          67.28712232672201,
          67.8322568092684,
          67.84157116847085,
          68.81340686081595,
          68.83447649290659,
          68.89767198376663,
          69.4835190777145,
          69.49315508206874,
          69.9707844589663,
          69.99055627534416,
          70.05283601961769,
          70.84789218129389,
          70.85708661467096,
          71.33344261782118,
          71.3537391757759,
          71.41481003239151,
          71.94690958646797,
          71.95614758475953,
          72.43334394381263,
          72.45753325213937,
          72.51546607918327,
          72.71752642954903,
          72.72683464415799,
          73.18634449899648,
          73.21283897480698,
          73.26975980175848,
          73.43667227467364,
          73.4463799600066,
          73.91102495356688,
          73.92888724338768,
          73.96174189469744,
          73.97202692247838,
          74.06546197119023,
          74.07084833242548,
          74.32504985671326,
          74.35554787975126,
          74.41244404831791,
          75.13526293211338,
          75.28668780940947,
          75.29599794638287,
          75.74140492634197,
          75.81861934402366,
          75.96790480359728,
          77.94365295512164,
          78.3050568990568,
          78.32912751464566,
          79.44574221658866,
          79.6674435414266,
          79.68453979244559,
          79.71740162876372,
          80.11804859980485,
          80.19581862493112,
          80.20054113821179,
          80.22236196641086,
          80.26397544425433,
          80.79874157518925,
          80.90208043334584,
          80.90904667452544,
          81.23630272857929,
          81.25816946471886,
          81.29940963996569,
          81.83221889674151,
          81.93684865580903,
          81.94371350146035,
          82.26081023974615,
          82.2826618166197,
          82.32377334086726,
          82.85114112156558,
          82.95075407736394,
          82.95748029549003,
          83.26427353541315,
          83.28611634471214,
          83.3271013189647,
          83.81462338130198,
          83.91359763001839,
          83.9203980306146,
          84.23331738877044,
          84.25517174637633,
          84.2960726919772,
          84.75339017590117,
          84.85368158975773,
          84.8602970038129,
          85.15711876866159,
          85.17890925548959,
          85.21858985103398,
          85.69114886230307,
          85.79191083563784,
          85.79862040006884,
          86.09968484809886,
          86.12043271693989,
          86.1580357893666,
          86.59970211132439,
          86.70183522771904,
          86.70830811586288,
          87.00303612188284,
          87.02369986973486,
          87.06023137624095,
          87.53342673724067,
          87.63792883588292,
          87.64474334211815,
          87.97144926234212,
          87.9975992945735,
          88.04382479413114,
          88.64728664277187,
          88.7792558575053,
          88.78752795550082,
          89.215618649422,
          89.23601769612858,
          89.27249927703575,
          89.73146817955462,
          89.83144229157546,
          89.83801508376278,
          90.16177449906263,
          90.18214968392111,
          90.21903668836464,
          90.679446186186,
          90.77584828555128,
          90.782321383258,
          91.10996407449963,
          91.12795411262714,
          91.16320891959698,
          91.66259711052895,
          91.66950991990292,
          92.00466806880151,
          92.02387179528448,
          92.06221191116592,
          92.59947174365247,
          92.60612669353671,
          92.93843601097605,
          92.95743182398684,
          92.99541960280163,
          93.53599114443514,
          93.54263716177454,
          93.86960354279111,
          93.88245695502461,
          93.91066681130653,
          94.45067907777472,
          94.45706296365655,
          94.77802761626445,
          94.79202740467751,
          94.83164915480943,
          94.8620734207192,
          94.86870878296583,
          95.20144037242098,
          95.22896779022972,
          95.31244396596965,
          95.85273203714935,
          95.86701193322166,
          96.62817410812468,
          96.64197230416083,
          96.68435836022834,
          97.16939303077879,
          97.1763442486977,
          97.54677218537259,
          97.56043901855224,
          97.6035936774169,
          98.04218119340759,
          98.06595101479962,
          98.07290630282964,
          98.45356475591258,
          98.46843536607888,
          98.51370384637646,
          98.96183835734284,
          99.01563250563296,
          99.02235797589242,
          99.37880543346344,
          99.39366894697643,
          99.43979214380094,
          99.8713480359084,
          99.92412737557862,
          99.9306211158285,
          100.30640679236465,
          100.3205724671612,
          100.36712847922415,
          100.7868649368335,
          100.84038787096945,
          100.8473049926472,
          101.26353089220542,
          101.27765178137514,
          101.32455519898703,
          101.70309573881244,
          101.75521974329028,
          101.76216849582075,
          102.16342636503417,
          102.17754692107383,
          102.22428415229797,
          102.5510383702994,
          102.60389585153135,
          102.61066851374078,
          103.03525492482562,
          103.45425600219018,
          103.86926698573714,
          103.89853124296116,
          103.99130022314671,
          104.73507289887564,
          104.84190129808009,
          104.85808257521862,
          104.87306948242835,
          104.9200994269666,
          105.29044158013647,
          105.34322657902828,
          105.35080653440087,
          105.74694664016098,
          105.76190769490859,
          105.80930908580322,
          106.1791163707057,
          106.23141005147465,
          106.23866589694518,
          106.63233589409285,
          107.01571295016163,
          107.03104955002208,
          107.07757908326472,
          107.44759481737022,
          107.5010157236884,
          107.50854066771004,
          107.52381759804115,
          107.57067524330738,
          107.9363326322018,
          107.98917096983901,
          107.99635383166711,
          108.36986397890874,
          108.38925488917249,
          108.44754398876181,
          108.93282291404545,
          109.00190440833872,
          109.01093384356996,
          109.49745912096192,
          109.88516416030448,
          109.92750810125315,
          110.03814312190808,
          111.09811377478795,
          111.29265992091253,
          111.31514756098699,
          112.04205880412366,
          112.05952091043646,
          112.0990665588245,
          112.46789760568988,
          112.53790444618832,
          112.5455380711233,
          112.97217410381758,
          112.98924393338659,
          113.02868986145786,
          113.44656926375175,
          113.51576898530821,
          113.52393903349648,
          113.9774882981286,
          113.9943880992035,
          114.03298234810998,
          114.4097271249274,
          114.47687162357244,
          114.4860417769004,
          114.95926212258743,
          114.9756572442274,
          115.01029009862555,
          115.07838262935583,
          115.08732205215321,
          115.56960524100468,
          115.58599172444052,
          115.62160495487848,
          115.68975691818217,
          115.69877568611287,
          116.18119284568012,
          116.19756738002323,
          116.23155223087711,
          116.25917151204776,
          116.32945842273185,
          116.33864271719925,
          116.81240877665941,
          116.8286546706235,
          116.86316524160854,
          117.2198276594846,
          117.28906450702473,
          117.76632823430829,
          117.78257984384547,
          117.8178810842684,
          118.1730948746049,
          118.2416330368259,
          118.25928467517436,
          118.74708350669367,
          118.78439059699116,
          119.12991271787763,
          119.19589290880026,
          119.205255937731,
          119.69682993543157,
          119.7326336868935,
          119.76995759666359,
          120.1143230492403,
          120.18268882401864,
          120.19155998544443,
          120.66475272019535,
          120.68263918093322,
          120.72054494969193,
          121.07209144273932,
          121.1397880213775,
          121.14832849932064,
          121.62514930876513,
          121.6387302467927,
          121.66704084562153,
          121.93419969004509,
          121.98665081089892,
          121.99285894707957,
          122.33612143639765,
          122.35426203802537,
          122.39106566409416,
          122.77760687076784,
          122.8481735913901,
          122.85710853047988,
          123.31314456692215,
          123.33187486206856,
          123.37374727498273,
          123.75624644354674,
          123.82469123259523,
          123.83366997766606,
          124.28800173636942,
          124.30730136614547,
          124.35204650883347,
          124.78271541616581,
          124.85026306753899,
          124.85862995818393,
          125.29462659981961,
          125.31420464482483,
          125.3594185834848,
          125.82621965276584,
          125.89049738721265,
          125.8988134152125,
          126.34871613464581,
          126.36815027766816,
          126.41215932509778,
          126.87733504535801,
          126.94204071204814,
          126.95009715130266,
          127.38709514592192,
          127.40677185876461,
          127.45063245808446,
          127.90638334071602,
          127.97049788070132,
          127.97836630659273,
          128.40290770513099,
          128.41971226645379,
          128.46458201212803,
          128.91440282421357,
          128.92591468286957,
          128.9337558304552,
          129.36540393727893,
          129.3818651864193,
          129.4272000360501,
          129.86761525972568,
          129.87541380485132,
          130.3181116160661,
          130.3343155186023,
          130.3798959037566,
          130.808845007619,
          130.8166368731593,
          131.26024963460313,
          131.273772306613,
          131.31929236910798,
          131.69948618313674,
          131.70750201251755,
          132.18531327696508,
          132.19747515506444,
          132.24286737402142,
          132.6165123413688,
          132.62442898725553,
          133.08511500925792,
          133.09718947555854,
          133.1433338699956,
          133.52195031537207,
          133.53003849116473,
          134.0527820244798,
          134.06482836528573,
          134.11087787120368,
          134.47402069785662,
          134.48289606540033,
          135.03032560931214,
          135.04244629873938,
          135.0883515248163,
          135.4382831256082,
          135.4490437009811,
          136.0236963446069,
          136.03648084208933,
          136.08440149541548,
          136.42926466344866,
          136.43671595247264,
          137.00799596461593,
          137.02072506647937,
          137.06877926082765,
          137.12619902571393,
          137.13413829289826,
          137.71441313825633,
          137.73473219100381,
          137.81349234071118,
          137.83123230216265,
          139.2043538614632,
          139.22146097272997,
          139.28814728341322,
          139.60857604014794,
          139.61943189397596,
          140.43018785879556,
          140.44407094415388,
          140.50026107158732,
          140.78943781821283,
          140.79827191459208,
          141.50021670659697,
          141.51461684272016,
          141.57143674881365,
          141.8539045418721,
          141.86381177189295,
          142.6656430552833,
          142.68131724005298,
          142.7396802052062,
          143.02551856359946,
          143.03544546565672,
          143.83730090082852,
          143.85190400369484,
          143.90061270000314,
          144.22910913837376,
          144.23975293189878,
          145.12266406281495,
          145.13799099459087,
          145.19234735040106,
          145.53136562161717,
          145.54404782557725,
          146.58881093605095,
          146.60430360055688,
          146.65944056569705,
          146.99346423676883,
          147.0061076245723,
          147.92232064073463,
          147.93703115333946,
          147.9919342892907,
          148.33419924453725,
          148.34416617959076,
          149.18441936261698,
          149.21642138820522,
          149.3032501285543,
          149.87363318620606,
          149.92185650756957,
          149.93734250672753,
          151.2245452897398,
          151.25107184859988,
          151.31017908871374,
          151.68173165452248,
          151.76531890716836,
          151.77551672526184,
          152.6067701958319,
          152.6335270132345,
          152.69355133898878,
          153.06238938852889,
          153.1458837119951,
          153.15565686791126,
          154.00491304992477,
          154.03215515074862,
          154.09244491369606,
          154.50833423368547,
          154.58789477392372,
          154.59862492705437,
          155.5222305914351,
          155.55017168326123,
          155.61265598976036,
          156.0177634786876,
          156.09786196955292,
          156.10850055056378,
          157.04135777001147,
          157.06842901009395,
          157.13135730395607,
          157.52926148226493,
          157.60975229343765,
          157.61964228778012,
          158.4643520177631,
          158.4919177090404,
          158.55658859396124,
          158.9786517026824,
          159.05861732692705,
          159.06843040924002,
          159.91596073382416,
          159.94346425343394,
          160.00738209328222,
          160.42245870180957,
          160.50215903724126,
          160.51160453699512,
          161.32767870830438,
          161.35543896659402,
          161.42039737408436,
          161.83661837011167,
          161.9160117540214,
          161.92549432603448,
          162.76224362948113,
          162.7898055443156,
          162.85684874147105,
          163.27470345363642,
          163.35213206124553,
          163.3613470733152,
          164.2043374749542,
          164.23222718588195,
          164.30192484325198,
          164.7115164550705,
          164.7879649655363,
          164.7972380471293,
          165.5855115901276,
          165.61344795615778,
          165.68127178531998,
          166.0724672051462,
          166.15045559340604,
          166.15917978743732,
          166.95559267788363,
          166.98347944647892,
          167.05068778183278,
          167.21835108740794,
          167.2967850265155,
          167.30564441402763,
          168.11340747671758,
          168.14144872027407,
          168.20634865074757,
          168.28747050290593,
          168.2964942785681,
          169.12038618847635,
          169.14772830984452,
          169.21231653290184,
          169.2926495363146,
          169.30252381896202,
          170.19518104200282,
          170.99654450591865,
          171.02326682208286,
          171.0831996992705,
          171.3411616527935,
          171.4245687826746,
          171.43407342956257,
          171.4657241490355,
          171.5369266373151,
          172.07264160004152,
          172.17323788705298,
          172.1845299489086,
          173.16393065557403,
          173.18669910714783,
          173.23901808265262,
          173.62544228528367,
          173.6972143766988,
          173.70523497220663,
          174.40150310772012,
          174.4231730621797,
          174.4749007520848,
          174.84992685845543,
          174.92093216998492,
          174.92946706355218,
          175.66299995509155,
          175.69032398214534,
          175.74815070795066,
          176.11656923818367,
          176.18663661768412,
          176.19483250254527,
          176.91585228875147,
          176.9506546482928,
          177.02577624871628,
          177.39185216984723,
          177.45982713970716,
          177.4680905998948,
          178.21077873742524,
          178.26588055521626,
          178.40990270089867,
          179.15731225691752,
          179.2134370707173,
          179.23005802090742,
          180.7472849345479,
          180.76900148945887,
          180.84194117475045,
          181.2154289269348,
          181.22384531490744,
          182.02037011599964,
          182.04518020675295,
          182.11430013741966,
          182.5008301197412,
          182.52799642709348,
          182.53671551377755,
          183.31400317883683,
          183.34134861586574,
          183.41666808583008,
          183.7970173304917,
          183.83209807616493,
          183.84036533101508,
          184.58770200230202,
          184.616048726069,
          184.69679778769517,
          185.11100315677075,
          185.14577214834637,
          185.15413950031316,
          185.91666017983454,
          185.9450485791148,
          186.02655157130297,
          186.42743073085634,
          186.46210550302914,
          186.47071146399074,
          187.27938240741963,
          187.30817608367752,
          187.38845101200937,
          187.78518844394227,
          187.82007534652263,
          187.82792600461107,
          188.56494776848484,
          188.59481675127063,
          188.676408069003,
          189.04006316854793,
          189.0750625433905,
          189.08270124242642,
          189.80301696886798,
          190.5399701975089,
          190.6302303503673,
          190.8763627360239,
          191.856174031976,
          191.9597144825912,
          191.98265746052763,
          193.40067679862497,
          193.4611212039253,
          193.62453228594038,
          194.26068145409917,
          194.3281037688743,
          194.3422968247535,
          195.63006420327193,
          195.6769313182234,
          195.80333689467517,
          196.47119416041014,
          196.53763899604488,
          196.5519124067941,
          197.78087955098096,
          197.80933836093158,
          197.88533864420188,
          198.22120949175653,
          198.2539056859403,
          198.26079056200965,
          198.89958904462586,
          198.9571527918453,
          199.10776104304608,
          199.69566794161327,
          199.76238651831213,
          199.77622970338084,
          201.10106955448816,
          201.20904891152716,
          201.48648976092085,
          202.55762546206591,
          202.70047587852758,
          202.72588967754373,
          205.13234066063066,
          205.23303403415187,
          205.48136438071245,
          206.55050344344104,
          206.70120735840695,
          206.71929597510118,
          208.54489870455214,
          208.63263627291911,
          208.8810414968531,
          209.8980721962902,
          209.9065524597411,
          209.92409237582854,
          211.69760488152517,
          211.763796927654,
          211.94783814646155,
          212.70722688612932,
          212.71805245918455,
          213.8173218471705,
          213.885604023552,
          214.0762649625589,
          214.90625419855013,
          214.91764425530656,
          216.10465871888235,
          216.18688896506532,
          216.42585039564332,
          217.55301503500132,
          217.57027571578996,
          219.24450280508432,
          219.29380528156193,
          219.42965948112038,
          219.6966243745431,
          219.70529928886728,
          220.64191078748388,
          220.6925675716906,
          220.8304361002182,
          220.8397776677151,
          221.78377753476664,
          221.83362127689233,
          221.96892427386067,
          222.46660721925812,
          222.47570205746567,
          223.39751307635413,
          223.48293685066255,
          223.68668103977407,
          224.47993211617495,
          224.52140793803218,
          224.53429781459477,
          225.86398626566645,
          225.93298028896206,
          226.07362580627856,
          226.65666400574497,
          226.72320047697752,
          226.73229879214435,
          227.66669039692877,
          227.73475487923557,
          227.8739864301301,
          228.43684494426742,
          228.49866238326916,
          228.5075869214123,
          229.38802498320715,
          229.45480768753663,
          229.59417738833042,
          230.1568830443519,
          230.2188518414263,
          230.22957438419385,
          231.24624080598252,
          231.31272319853608,
          231.45035335031534,
          232.0124187408257,
          232.0745240657346,
          232.08535388098065,
          233.11801661942974,
          233.18667185391487,
          233.33340693029226,
          233.87968959153562,
          233.9430114204287,
          233.95326694314863,
          234.93726657317532,
          235.00514954794286,
          235.15059739439312,
          235.7013191914273,
          235.76418825454044,
          235.7739546028424,
          236.71354497523737,
          236.8733140103029,
          237.2033243591238,
          238.55037004682964,
          238.7133709243576,
          238.73625503309185,
          240.98668141147166,
          241.14865067854169,
          241.48054436493254,
          242.85003273058427,
          243.01134058517243,
          243.03730492549602,
          245.6094088488373,
          245.70045092921637,
          245.90591670505927,
          246.88907700944452,
          246.91402017114353,
          246.93213067130665,
          248.62449852841755,
          248.7127485067395,
          248.92456640455313,
          250.0117281240481,
          250.03065797768815,
          251.81570072372176,
          251.9034047278229,
          252.10248555364996,
          253.26047185279418,
          253.2806073192292,
          255.21214021535795,
          255.29677302268468,
          255.49568169125584,
          256.62790929819124,
          256.6477126597961,
          258.5740588389191,
          258.68479985461255,
          258.95110386916156,
          260.5469829344755,
          260.57168147732904,
          262.9193320303338,
          263.0261759260801,
          263.27234403468833,
          264.9080953889597,
          264.93163996174263,
          267.20935654741,
          267.2855383423712,
          267.45868212915576,
          268.0104111639633,
          268.02742278675504,
          269.7401927173679,
          269.8366330724791,
          270.0122511248294,
          271.13037012533255,
          271.17705977783686,
          271.1937967740074,
          272.84548757293095,
          272.87464739842574,
          272.93395478248283,
          273.5663687474304,
          273.60525302660545,
          273.61090211855446,
          274.1653343931359,
          274.22363132253594,
          274.3444777691966,
          275.6640629866276,
          275.7393261737208,
          275.75058752193246,
          276.8736082901978,
          276.9025937995513,
          276.9627300769892,
          277.64676683537806,
          277.68200223572,
          277.68751736265017,
          278.2417600732138,
          278.2714011935391,
          278.3316849938965,
          279.01425637897137,
          279.04975646249903,
          279.05520537322604,
          279.6046519810121,
          279.6657374139231,
          279.7880946544491,
          281.0754153407563,
          281.1452077361904,
          281.1565647494483,
          282.2797343527448,
          282.3109321369113,
          282.37430256653,
          283.01538478419945,
          283.0505045268444,
          283.0561482105627,
          283.6171676672765,
          283.64700833893994,
          283.70454368985577,
          284.329044271286,
          284.3644000190541,
          284.3700170908759,
          284.9320680960141,
          284.961476217383,
          285.02069568986434,
          285.5487402924437,
          285.5837527355882,
          285.58929546293007,
          286.14560418692855,
          286.17484914092944,
          286.23309010783095,
          286.74094864599755,
          286.776206930135,
          286.78177423004314,
          287.3323620653569,
          287.41630982292355,
          287.58569853427963,
          289.47433589068874,
          289.5843854935682,
          289.602229207784,
          291.34688701062345,
          291.37520195124114,
          291.43295897038763,
          292.0783019223733,
          292.11440455723914,
          292.1202922014064,
          292.6972317482114,
          292.75378969746214,
          292.86747415066463,
          294.2379057158108,
          294.3092391109915,
          294.3212459495066,
          295.51373160893957,
          295.54141370914056,
          295.59639811772405,
          296.27457451956315,
          296.310014172061,
          296.3159521241365,
          296.91719878139435,
          296.9455512586804,
          297.0007014250948,
          297.6622711771251,
          297.6982394568615,
          297.70414312080965,
          298.29755383225233,
          298.3439502680442,
          298.4502415874394,
          299.8224741168818,
          299.8899332299767,
          299.90177192888865,
          301.1350069087386,
          301.15983118707015,
          301.2145690085643,
          301.89253938184646,
          301.9265832515215,
          301.9327622328713,
          302.5580358729589,
          302.6049213009171,
          302.71642478116235,
          303.49619528867316,
          303.5244193987796,
          303.5362408780763,
          304.7655826521276,
          304.8108700135019,
          304.9241506789836,
          305.87535538416205,
          305.8870492731678,
          307.09310651370356,
          307.1388326375858,
          307.2733239812501,
          308.1800253881612,
          308.1917056683812,
          309.44365579933174,
          309.5119119818678,
          309.7070998767066,
          310.93169346822816,
          310.9479611877421,
          312.62866136776296,
          312.7737607335749,
          313.17407632575964,
          315.6406992566463,
          315.6730517036169,
          319.37818271454154,
          319.46005373610336,
          319.6831431497904,
          321.06199487532314,
          321.0811417732239,
          323.18965256188244,
          323.25041150990813,
          323.41829785876155,
          324.46575439726695,
          324.4798192720118,
          326.0162297206596,
          326.09475773046796,
          326.30054930878185,
          326.93193006962065,
          327.08354156558266,
          327.10200395670984,
          329.1102035879935,
          329.17474209888843,
          329.3441850998807,
          329.9308012241851,
          330.14832661797436,
          330.1614937581216,
          331.71189768838065,
          331.78179356762865,
          331.94820526201624,
          332.9590816188982,
          333.1799641949321,
          333.1938423308822,
          334.7883105653734,
          334.8118411504471,
          334.86706942869455,
          335.20203517907447,
          335.2765359871894,
          335.2812212486174,
          335.82148766549176,
          336.90274629334704,
          336.97132674076556,
          337.1300210876236,
          338.09448364714086,
          338.33369432887025,
          338.34667582171704,
          338.8633307081371
         ],
         "yaxis": "y"
        }
       ],
       "layout": {
        "legend": {
         "title": {
          "text": "variable"
         },
         "tracegroupgap": 0
        },
        "margin": {
         "t": 60
        },
        "template": {
         "data": {
          "bar": [
           {
            "error_x": {
             "color": "#2a3f5f"
            },
            "error_y": {
             "color": "#2a3f5f"
            },
            "marker": {
             "line": {
              "color": "#E5ECF6",
              "width": 0.5
             },
             "pattern": {
              "fillmode": "overlay",
              "size": 10,
              "solidity": 0.2
             }
            },
            "type": "bar"
           }
          ],
          "barpolar": [
           {
            "marker": {
             "line": {
              "color": "#E5ECF6",
              "width": 0.5
             },
             "pattern": {
              "fillmode": "overlay",
              "size": 10,
              "solidity": 0.2
             }
            },
            "type": "barpolar"
           }
          ],
          "carpet": [
           {
            "aaxis": {
             "endlinecolor": "#2a3f5f",
             "gridcolor": "white",
             "linecolor": "white",
             "minorgridcolor": "white",
             "startlinecolor": "#2a3f5f"
            },
            "baxis": {
             "endlinecolor": "#2a3f5f",
             "gridcolor": "white",
             "linecolor": "white",
             "minorgridcolor": "white",
             "startlinecolor": "#2a3f5f"
            },
            "type": "carpet"
           }
          ],
          "choropleth": [
           {
            "colorbar": {
             "outlinewidth": 0,
             "ticks": ""
            },
            "type": "choropleth"
           }
          ],
          "contour": [
           {
            "colorbar": {
             "outlinewidth": 0,
             "ticks": ""
            },
            "colorscale": [
             [
              0,
              "#0d0887"
             ],
             [
              0.1111111111111111,
              "#46039f"
             ],
             [
              0.2222222222222222,
              "#7201a8"
             ],
             [
              0.3333333333333333,
              "#9c179e"
             ],
             [
              0.4444444444444444,
              "#bd3786"
             ],
             [
              0.5555555555555556,
              "#d8576b"
             ],
             [
              0.6666666666666666,
              "#ed7953"
             ],
             [
              0.7777777777777778,
              "#fb9f3a"
             ],
             [
              0.8888888888888888,
              "#fdca26"
             ],
             [
              1,
              "#f0f921"
             ]
            ],
            "type": "contour"
           }
          ],
          "contourcarpet": [
           {
            "colorbar": {
             "outlinewidth": 0,
             "ticks": ""
            },
            "type": "contourcarpet"
           }
          ],
          "heatmap": [
           {
            "colorbar": {
             "outlinewidth": 0,
             "ticks": ""
            },
            "colorscale": [
             [
              0,
              "#0d0887"
             ],
             [
              0.1111111111111111,
              "#46039f"
             ],
             [
              0.2222222222222222,
              "#7201a8"
             ],
             [
              0.3333333333333333,
              "#9c179e"
             ],
             [
              0.4444444444444444,
              "#bd3786"
             ],
             [
              0.5555555555555556,
              "#d8576b"
             ],
             [
              0.6666666666666666,
              "#ed7953"
             ],
             [
              0.7777777777777778,
              "#fb9f3a"
             ],
             [
              0.8888888888888888,
              "#fdca26"
             ],
             [
              1,
              "#f0f921"
             ]
            ],
            "type": "heatmap"
           }
          ],
          "heatmapgl": [
           {
            "colorbar": {
             "outlinewidth": 0,
             "ticks": ""
            },
            "colorscale": [
             [
              0,
              "#0d0887"
             ],
             [
              0.1111111111111111,
              "#46039f"
             ],
             [
              0.2222222222222222,
              "#7201a8"
             ],
             [
              0.3333333333333333,
              "#9c179e"
             ],
             [
              0.4444444444444444,
              "#bd3786"
             ],
             [
              0.5555555555555556,
              "#d8576b"
             ],
             [
              0.6666666666666666,
              "#ed7953"
             ],
             [
              0.7777777777777778,
              "#fb9f3a"
             ],
             [
              0.8888888888888888,
              "#fdca26"
             ],
             [
              1,
              "#f0f921"
             ]
            ],
            "type": "heatmapgl"
           }
          ],
          "histogram": [
           {
            "marker": {
             "pattern": {
              "fillmode": "overlay",
              "size": 10,
              "solidity": 0.2
             }
            },
            "type": "histogram"
           }
          ],
          "histogram2d": [
           {
            "colorbar": {
             "outlinewidth": 0,
             "ticks": ""
            },
            "colorscale": [
             [
              0,
              "#0d0887"
             ],
             [
              0.1111111111111111,
              "#46039f"
             ],
             [
              0.2222222222222222,
              "#7201a8"
             ],
             [
              0.3333333333333333,
              "#9c179e"
             ],
             [
              0.4444444444444444,
              "#bd3786"
             ],
             [
              0.5555555555555556,
              "#d8576b"
             ],
             [
              0.6666666666666666,
              "#ed7953"
             ],
             [
              0.7777777777777778,
              "#fb9f3a"
             ],
             [
              0.8888888888888888,
              "#fdca26"
             ],
             [
              1,
              "#f0f921"
             ]
            ],
            "type": "histogram2d"
           }
          ],
          "histogram2dcontour": [
           {
            "colorbar": {
             "outlinewidth": 0,
             "ticks": ""
            },
            "colorscale": [
             [
              0,
              "#0d0887"
             ],
             [
              0.1111111111111111,
              "#46039f"
             ],
             [
              0.2222222222222222,
              "#7201a8"
             ],
             [
              0.3333333333333333,
              "#9c179e"
             ],
             [
              0.4444444444444444,
              "#bd3786"
             ],
             [
              0.5555555555555556,
              "#d8576b"
             ],
             [
              0.6666666666666666,
              "#ed7953"
             ],
             [
              0.7777777777777778,
              "#fb9f3a"
             ],
             [
              0.8888888888888888,
              "#fdca26"
             ],
             [
              1,
              "#f0f921"
             ]
            ],
            "type": "histogram2dcontour"
           }
          ],
          "mesh3d": [
           {
            "colorbar": {
             "outlinewidth": 0,
             "ticks": ""
            },
            "type": "mesh3d"
           }
          ],
          "parcoords": [
           {
            "line": {
             "colorbar": {
              "outlinewidth": 0,
              "ticks": ""
             }
            },
            "type": "parcoords"
           }
          ],
          "pie": [
           {
            "automargin": true,
            "type": "pie"
           }
          ],
          "scatter": [
           {
            "fillpattern": {
             "fillmode": "overlay",
             "size": 10,
             "solidity": 0.2
            },
            "type": "scatter"
           }
          ],
          "scatter3d": [
           {
            "line": {
             "colorbar": {
              "outlinewidth": 0,
              "ticks": ""
             }
            },
            "marker": {
             "colorbar": {
              "outlinewidth": 0,
              "ticks": ""
             }
            },
            "type": "scatter3d"
           }
          ],
          "scattercarpet": [
           {
            "marker": {
             "colorbar": {
              "outlinewidth": 0,
              "ticks": ""
             }
            },
            "type": "scattercarpet"
           }
          ],
          "scattergeo": [
           {
            "marker": {
             "colorbar": {
              "outlinewidth": 0,
              "ticks": ""
             }
            },
            "type": "scattergeo"
           }
          ],
          "scattergl": [
           {
            "marker": {
             "colorbar": {
              "outlinewidth": 0,
              "ticks": ""
             }
            },
            "type": "scattergl"
           }
          ],
          "scattermapbox": [
           {
            "marker": {
             "colorbar": {
              "outlinewidth": 0,
              "ticks": ""
             }
            },
            "type": "scattermapbox"
           }
          ],
          "scatterpolar": [
           {
            "marker": {
             "colorbar": {
              "outlinewidth": 0,
              "ticks": ""
             }
            },
            "type": "scatterpolar"
           }
          ],
          "scatterpolargl": [
           {
            "marker": {
             "colorbar": {
              "outlinewidth": 0,
              "ticks": ""
             }
            },
            "type": "scatterpolargl"
           }
          ],
          "scatterternary": [
           {
            "marker": {
             "colorbar": {
              "outlinewidth": 0,
              "ticks": ""
             }
            },
            "type": "scatterternary"
           }
          ],
          "surface": [
           {
            "colorbar": {
             "outlinewidth": 0,
             "ticks": ""
            },
            "colorscale": [
             [
              0,
              "#0d0887"
             ],
             [
              0.1111111111111111,
              "#46039f"
             ],
             [
              0.2222222222222222,
              "#7201a8"
             ],
             [
              0.3333333333333333,
              "#9c179e"
             ],
             [
              0.4444444444444444,
              "#bd3786"
             ],
             [
              0.5555555555555556,
              "#d8576b"
             ],
             [
              0.6666666666666666,
              "#ed7953"
             ],
             [
              0.7777777777777778,
              "#fb9f3a"
             ],
             [
              0.8888888888888888,
              "#fdca26"
             ],
             [
              1,
              "#f0f921"
             ]
            ],
            "type": "surface"
           }
          ],
          "table": [
           {
            "cells": {
             "fill": {
              "color": "#EBF0F8"
             },
             "line": {
              "color": "white"
             }
            },
            "header": {
             "fill": {
              "color": "#C8D4E3"
             },
             "line": {
              "color": "white"
             }
            },
            "type": "table"
           }
          ]
         },
         "layout": {
          "annotationdefaults": {
           "arrowcolor": "#2a3f5f",
           "arrowhead": 0,
           "arrowwidth": 1
          },
          "autotypenumbers": "strict",
          "coloraxis": {
           "colorbar": {
            "outlinewidth": 0,
            "ticks": ""
           }
          },
          "colorscale": {
           "diverging": [
            [
             0,
             "#8e0152"
            ],
            [
             0.1,
             "#c51b7d"
            ],
            [
             0.2,
             "#de77ae"
            ],
            [
             0.3,
             "#f1b6da"
            ],
            [
             0.4,
             "#fde0ef"
            ],
            [
             0.5,
             "#f7f7f7"
            ],
            [
             0.6,
             "#e6f5d0"
            ],
            [
             0.7,
             "#b8e186"
            ],
            [
             0.8,
             "#7fbc41"
            ],
            [
             0.9,
             "#4d9221"
            ],
            [
             1,
             "#276419"
            ]
           ],
           "sequential": [
            [
             0,
             "#0d0887"
            ],
            [
             0.1111111111111111,
             "#46039f"
            ],
            [
             0.2222222222222222,
             "#7201a8"
            ],
            [
             0.3333333333333333,
             "#9c179e"
            ],
            [
             0.4444444444444444,
             "#bd3786"
            ],
            [
             0.5555555555555556,
             "#d8576b"
            ],
            [
             0.6666666666666666,
             "#ed7953"
            ],
            [
             0.7777777777777778,
             "#fb9f3a"
            ],
            [
             0.8888888888888888,
             "#fdca26"
            ],
            [
             1,
             "#f0f921"
            ]
           ],
           "sequentialminus": [
            [
             0,
             "#0d0887"
            ],
            [
             0.1111111111111111,
             "#46039f"
            ],
            [
             0.2222222222222222,
             "#7201a8"
            ],
            [
             0.3333333333333333,
             "#9c179e"
            ],
            [
             0.4444444444444444,
             "#bd3786"
            ],
            [
             0.5555555555555556,
             "#d8576b"
            ],
            [
             0.6666666666666666,
             "#ed7953"
            ],
            [
             0.7777777777777778,
             "#fb9f3a"
            ],
            [
             0.8888888888888888,
             "#fdca26"
            ],
            [
             1,
             "#f0f921"
            ]
           ]
          },
          "colorway": [
           "#636efa",
           "#EF553B",
           "#00cc96",
           "#ab63fa",
           "#FFA15A",
           "#19d3f3",
           "#FF6692",
           "#B6E880",
           "#FF97FF",
           "#FECB52"
          ],
          "font": {
           "color": "#2a3f5f"
          },
          "geo": {
           "bgcolor": "white",
           "lakecolor": "white",
           "landcolor": "#E5ECF6",
           "showlakes": true,
           "showland": true,
           "subunitcolor": "white"
          },
          "hoverlabel": {
           "align": "left"
          },
          "hovermode": "closest",
          "mapbox": {
           "style": "light"
          },
          "paper_bgcolor": "white",
          "plot_bgcolor": "#E5ECF6",
          "polar": {
           "angularaxis": {
            "gridcolor": "white",
            "linecolor": "white",
            "ticks": ""
           },
           "bgcolor": "#E5ECF6",
           "radialaxis": {
            "gridcolor": "white",
            "linecolor": "white",
            "ticks": ""
           }
          },
          "scene": {
           "xaxis": {
            "backgroundcolor": "#E5ECF6",
            "gridcolor": "white",
            "gridwidth": 2,
            "linecolor": "white",
            "showbackground": true,
            "ticks": "",
            "zerolinecolor": "white"
           },
           "yaxis": {
            "backgroundcolor": "#E5ECF6",
            "gridcolor": "white",
            "gridwidth": 2,
            "linecolor": "white",
            "showbackground": true,
            "ticks": "",
            "zerolinecolor": "white"
           },
           "zaxis": {
            "backgroundcolor": "#E5ECF6",
            "gridcolor": "white",
            "gridwidth": 2,
            "linecolor": "white",
            "showbackground": true,
            "ticks": "",
            "zerolinecolor": "white"
           }
          },
          "shapedefaults": {
           "line": {
            "color": "#2a3f5f"
           }
          },
          "ternary": {
           "aaxis": {
            "gridcolor": "white",
            "linecolor": "white",
            "ticks": ""
           },
           "baxis": {
            "gridcolor": "white",
            "linecolor": "white",
            "ticks": ""
           },
           "bgcolor": "#E5ECF6",
           "caxis": {
            "gridcolor": "white",
            "linecolor": "white",
            "ticks": ""
           }
          },
          "title": {
           "x": 0.05
          },
          "xaxis": {
           "automargin": true,
           "gridcolor": "white",
           "linecolor": "white",
           "ticks": "",
           "title": {
            "standoff": 15
           },
           "zerolinecolor": "white",
           "zerolinewidth": 2
          },
          "yaxis": {
           "automargin": true,
           "gridcolor": "white",
           "linecolor": "white",
           "ticks": "",
           "title": {
            "standoff": 15
           },
           "zerolinecolor": "white",
           "zerolinewidth": 2
          }
         }
        },
        "xaxis": {
         "anchor": "y",
         "domain": [
          0,
          1
         ],
         "title": {
          "text": "timestamp"
         }
        },
        "yaxis": {
         "anchor": "x",
         "domain": [
          0,
          1
         ],
         "title": {
          "text": "value"
         }
        }
       }
      }
     },
     "metadata": {},
     "output_type": "display_data"
    }
   ],
   "source": [
    "px.line(incentive_token_df[[\"expected_eth\", \"normalized_buy_amount\"]].cumsum())"
   ]
  },
  {
   "cell_type": "markdown",
   "metadata": {},
   "source": [
    "on balETH the drop of over performacen vs under perforance happens, right after the donation runs out. So maybe it was under performing hte whole time? \n",
    "\n"
   ]
  },
  {
   "cell_type": "code",
   "execution_count": 71,
   "metadata": {},
   "outputs": [
    {
     "data": {
      "text/plain": [
       "np.float64(-4.5606874998215545)"
      ]
     },
     "execution_count": 71,
     "metadata": {},
     "output_type": "execute_result"
    }
   ],
   "source": [
    "100 * incentive_token_df[\"expected-actual eth earned from incentives\"].sum() / incentive_token_df[\n",
    "    \"normalized_buy_amount\"\n",
    "].sum()\n",
    "\n",
    "# we have been selling reward tokens for about 4.5% less than what the incentive calculators think they are worth at that point.\n",
    "# note that is not when we moved into that location."
   ]
  },
  {
   "cell_type": "code",
   "execution_count": 72,
   "metadata": {},
   "outputs": [
    {
     "ename": "KeyError",
     "evalue": "'weth_received'",
     "output_type": "error",
     "traceback": [
      "\u001b[0;31m---------------------------------------------------------------------------\u001b[0m",
      "\u001b[0;31mKeyError\u001b[0m                                  Traceback (most recent call last)",
      "File \u001b[0;32m~/Documents/Tokemak/v2-rebalance-dashboard/.venv/lib/python3.10/site-packages/pandas/core/indexes/base.py:3805\u001b[0m, in \u001b[0;36mIndex.get_loc\u001b[0;34m(self, key)\u001b[0m\n\u001b[1;32m   3804\u001b[0m \u001b[39mtry\u001b[39;00m:\n\u001b[0;32m-> 3805\u001b[0m     \u001b[39mreturn\u001b[39;00m \u001b[39mself\u001b[39;49m\u001b[39m.\u001b[39;49m_engine\u001b[39m.\u001b[39;49mget_loc(casted_key)\n\u001b[1;32m   3806\u001b[0m \u001b[39mexcept\u001b[39;00m \u001b[39mKeyError\u001b[39;00m \u001b[39mas\u001b[39;00m err:\n",
      "File \u001b[0;32mindex.pyx:167\u001b[0m, in \u001b[0;36mpandas._libs.index.IndexEngine.get_loc\u001b[0;34m()\u001b[0m\n",
      "File \u001b[0;32mindex.pyx:196\u001b[0m, in \u001b[0;36mpandas._libs.index.IndexEngine.get_loc\u001b[0;34m()\u001b[0m\n",
      "File \u001b[0;32mpandas/_libs/hashtable_class_helper.pxi:7081\u001b[0m, in \u001b[0;36mpandas._libs.hashtable.PyObjectHashTable.get_item\u001b[0;34m()\u001b[0m\n",
      "File \u001b[0;32mpandas/_libs/hashtable_class_helper.pxi:7089\u001b[0m, in \u001b[0;36mpandas._libs.hashtable.PyObjectHashTable.get_item\u001b[0;34m()\u001b[0m\n",
      "\u001b[0;31mKeyError\u001b[0m: 'weth_received'",
      "\nThe above exception was the direct cause of the following exception:\n",
      "\u001b[0;31mKeyError\u001b[0m                                  Traceback (most recent call last)",
      "Cell \u001b[0;32mIn[72], line 1\u001b[0m\n\u001b[0;32m----> 1\u001b[0m incentive_token_df[\u001b[39m'\u001b[39m\u001b[39msell_quantity\u001b[39m\u001b[39m'\u001b[39m] \u001b[39m=\u001b[39m incentive_token_df\u001b[39m.\u001b[39;49mapply(\u001b[39mlambda\u001b[39;49;00m x: x[\u001b[39m'\u001b[39;49m\u001b[39mweth_received\u001b[39;49m\u001b[39m'\u001b[39;49m]\u001b[39m/\u001b[39;49m x[\u001b[39m'\u001b[39;49m\u001b[39machieved_price\u001b[39;49m\u001b[39m'\u001b[39;49m], axis\u001b[39m=\u001b[39;49m\u001b[39m1\u001b[39;49m)\n\u001b[1;32m      2\u001b[0m incentive_token_df[\u001b[39m'\u001b[39m\u001b[39mexpected_eth\u001b[39m\u001b[39m'\u001b[39m] \u001b[39m=\u001b[39m incentive_token_df[\u001b[39m'\u001b[39m\u001b[39mincentive_calculator_price\u001b[39m\u001b[39m'\u001b[39m] \u001b[39m*\u001b[39m incentive_token_df[\u001b[39m'\u001b[39m\u001b[39msell_quantity\u001b[39m\u001b[39m'\u001b[39m]\n\u001b[1;32m      3\u001b[0m incentive_token_df[\u001b[39m'\u001b[39m\u001b[39meth_diff\u001b[39m\u001b[39m'\u001b[39m] \u001b[39m=\u001b[39m incentive_token_df[\u001b[39m'\u001b[39m\u001b[39mexpected_eth\u001b[39m\u001b[39m'\u001b[39m] \u001b[39m-\u001b[39m incentive_token_df[\u001b[39m'\u001b[39m\u001b[39mweth_received\u001b[39m\u001b[39m'\u001b[39m]\n",
      "File \u001b[0;32m~/Documents/Tokemak/v2-rebalance-dashboard/.venv/lib/python3.10/site-packages/pandas/core/frame.py:10374\u001b[0m, in \u001b[0;36mDataFrame.apply\u001b[0;34m(self, func, axis, raw, result_type, args, by_row, engine, engine_kwargs, **kwargs)\u001b[0m\n\u001b[1;32m  10360\u001b[0m \u001b[39mfrom\u001b[39;00m\u001b[39m \u001b[39m\u001b[39mpandas\u001b[39;00m\u001b[39m.\u001b[39;00m\u001b[39mcore\u001b[39;00m\u001b[39m.\u001b[39;00m\u001b[39mapply\u001b[39;00m\u001b[39m \u001b[39m\u001b[39mimport\u001b[39;00m frame_apply\n\u001b[1;32m  10362\u001b[0m op \u001b[39m=\u001b[39m frame_apply(\n\u001b[1;32m  10363\u001b[0m     \u001b[39mself\u001b[39m,\n\u001b[1;32m  10364\u001b[0m     func\u001b[39m=\u001b[39mfunc,\n\u001b[0;32m   (...)\u001b[0m\n\u001b[1;32m  10372\u001b[0m     kwargs\u001b[39m=\u001b[39mkwargs,\n\u001b[1;32m  10373\u001b[0m )\n\u001b[0;32m> 10374\u001b[0m \u001b[39mreturn\u001b[39;00m op\u001b[39m.\u001b[39;49mapply()\u001b[39m.\u001b[39m__finalize__(\u001b[39mself\u001b[39m, method\u001b[39m=\u001b[39m\u001b[39m\"\u001b[39m\u001b[39mapply\u001b[39m\u001b[39m\"\u001b[39m)\n",
      "File \u001b[0;32m~/Documents/Tokemak/v2-rebalance-dashboard/.venv/lib/python3.10/site-packages/pandas/core/apply.py:916\u001b[0m, in \u001b[0;36mFrameApply.apply\u001b[0;34m(self)\u001b[0m\n\u001b[1;32m    913\u001b[0m \u001b[39melif\u001b[39;00m \u001b[39mself\u001b[39m\u001b[39m.\u001b[39mraw:\n\u001b[1;32m    914\u001b[0m     \u001b[39mreturn\u001b[39;00m \u001b[39mself\u001b[39m\u001b[39m.\u001b[39mapply_raw(engine\u001b[39m=\u001b[39m\u001b[39mself\u001b[39m\u001b[39m.\u001b[39mengine, engine_kwargs\u001b[39m=\u001b[39m\u001b[39mself\u001b[39m\u001b[39m.\u001b[39mengine_kwargs)\n\u001b[0;32m--> 916\u001b[0m \u001b[39mreturn\u001b[39;00m \u001b[39mself\u001b[39;49m\u001b[39m.\u001b[39;49mapply_standard()\n",
      "File \u001b[0;32m~/Documents/Tokemak/v2-rebalance-dashboard/.venv/lib/python3.10/site-packages/pandas/core/apply.py:1063\u001b[0m, in \u001b[0;36mFrameApply.apply_standard\u001b[0;34m(self)\u001b[0m\n\u001b[1;32m   1061\u001b[0m \u001b[39mdef\u001b[39;00m\u001b[39m \u001b[39m\u001b[39mapply_standard\u001b[39m(\u001b[39mself\u001b[39m):\n\u001b[1;32m   1062\u001b[0m     \u001b[39mif\u001b[39;00m \u001b[39mself\u001b[39m\u001b[39m.\u001b[39mengine \u001b[39m==\u001b[39m \u001b[39m\"\u001b[39m\u001b[39mpython\u001b[39m\u001b[39m\"\u001b[39m:\n\u001b[0;32m-> 1063\u001b[0m         results, res_index \u001b[39m=\u001b[39m \u001b[39mself\u001b[39;49m\u001b[39m.\u001b[39;49mapply_series_generator()\n\u001b[1;32m   1064\u001b[0m     \u001b[39melse\u001b[39;00m:\n\u001b[1;32m   1065\u001b[0m         results, res_index \u001b[39m=\u001b[39m \u001b[39mself\u001b[39m\u001b[39m.\u001b[39mapply_series_numba()\n",
      "File \u001b[0;32m~/Documents/Tokemak/v2-rebalance-dashboard/.venv/lib/python3.10/site-packages/pandas/core/apply.py:1081\u001b[0m, in \u001b[0;36mFrameApply.apply_series_generator\u001b[0;34m(self)\u001b[0m\n\u001b[1;32m   1078\u001b[0m \u001b[39mwith\u001b[39;00m option_context(\u001b[39m\"\u001b[39m\u001b[39mmode.chained_assignment\u001b[39m\u001b[39m\"\u001b[39m, \u001b[39mNone\u001b[39;00m):\n\u001b[1;32m   1079\u001b[0m     \u001b[39mfor\u001b[39;00m i, v \u001b[39min\u001b[39;00m \u001b[39menumerate\u001b[39m(series_gen):\n\u001b[1;32m   1080\u001b[0m         \u001b[39m# ignore SettingWithCopy here in case the user mutates\u001b[39;00m\n\u001b[0;32m-> 1081\u001b[0m         results[i] \u001b[39m=\u001b[39m \u001b[39mself\u001b[39;49m\u001b[39m.\u001b[39;49mfunc(v, \u001b[39m*\u001b[39;49m\u001b[39mself\u001b[39;49m\u001b[39m.\u001b[39;49margs, \u001b[39m*\u001b[39;49m\u001b[39m*\u001b[39;49m\u001b[39mself\u001b[39;49m\u001b[39m.\u001b[39;49mkwargs)\n\u001b[1;32m   1082\u001b[0m         \u001b[39mif\u001b[39;00m \u001b[39misinstance\u001b[39m(results[i], ABCSeries):\n\u001b[1;32m   1083\u001b[0m             \u001b[39m# If we have a view on v, we need to make a copy because\u001b[39;00m\n\u001b[1;32m   1084\u001b[0m             \u001b[39m#  series_generator will swap out the underlying data\u001b[39;00m\n\u001b[1;32m   1085\u001b[0m             results[i] \u001b[39m=\u001b[39m results[i]\u001b[39m.\u001b[39mcopy(deep\u001b[39m=\u001b[39m\u001b[39mFalse\u001b[39;00m)\n",
      "Cell \u001b[0;32mIn[72], line 1\u001b[0m, in \u001b[0;36m<lambda>\u001b[0;34m(x)\u001b[0m\n\u001b[0;32m----> 1\u001b[0m incentive_token_df[\u001b[39m'\u001b[39m\u001b[39msell_quantity\u001b[39m\u001b[39m'\u001b[39m] \u001b[39m=\u001b[39m incentive_token_df\u001b[39m.\u001b[39mapply(\u001b[39mlambda\u001b[39;00m x: x[\u001b[39m'\u001b[39;49m\u001b[39mweth_received\u001b[39;49m\u001b[39m'\u001b[39;49m]\u001b[39m/\u001b[39m x[\u001b[39m'\u001b[39m\u001b[39machieved_price\u001b[39m\u001b[39m'\u001b[39m], axis\u001b[39m=\u001b[39m\u001b[39m1\u001b[39m)\n\u001b[1;32m      2\u001b[0m incentive_token_df[\u001b[39m'\u001b[39m\u001b[39mexpected_eth\u001b[39m\u001b[39m'\u001b[39m] \u001b[39m=\u001b[39m incentive_token_df[\u001b[39m'\u001b[39m\u001b[39mincentive_calculator_price\u001b[39m\u001b[39m'\u001b[39m] \u001b[39m*\u001b[39m incentive_token_df[\u001b[39m'\u001b[39m\u001b[39msell_quantity\u001b[39m\u001b[39m'\u001b[39m]\n\u001b[1;32m      3\u001b[0m incentive_token_df[\u001b[39m'\u001b[39m\u001b[39meth_diff\u001b[39m\u001b[39m'\u001b[39m] \u001b[39m=\u001b[39m incentive_token_df[\u001b[39m'\u001b[39m\u001b[39mexpected_eth\u001b[39m\u001b[39m'\u001b[39m] \u001b[39m-\u001b[39m incentive_token_df[\u001b[39m'\u001b[39m\u001b[39mweth_received\u001b[39m\u001b[39m'\u001b[39m]\n",
      "File \u001b[0;32m~/Documents/Tokemak/v2-rebalance-dashboard/.venv/lib/python3.10/site-packages/pandas/core/series.py:1121\u001b[0m, in \u001b[0;36mSeries.__getitem__\u001b[0;34m(self, key)\u001b[0m\n\u001b[1;32m   1118\u001b[0m     \u001b[39mreturn\u001b[39;00m \u001b[39mself\u001b[39m\u001b[39m.\u001b[39m_values[key]\n\u001b[1;32m   1120\u001b[0m \u001b[39melif\u001b[39;00m key_is_scalar:\n\u001b[0;32m-> 1121\u001b[0m     \u001b[39mreturn\u001b[39;00m \u001b[39mself\u001b[39;49m\u001b[39m.\u001b[39;49m_get_value(key)\n\u001b[1;32m   1123\u001b[0m \u001b[39m# Convert generator to list before going through hashable part\u001b[39;00m\n\u001b[1;32m   1124\u001b[0m \u001b[39m# (We will iterate through the generator there to check for slices)\u001b[39;00m\n\u001b[1;32m   1125\u001b[0m \u001b[39mif\u001b[39;00m is_iterator(key):\n",
      "File \u001b[0;32m~/Documents/Tokemak/v2-rebalance-dashboard/.venv/lib/python3.10/site-packages/pandas/core/series.py:1237\u001b[0m, in \u001b[0;36mSeries._get_value\u001b[0;34m(self, label, takeable)\u001b[0m\n\u001b[1;32m   1234\u001b[0m     \u001b[39mreturn\u001b[39;00m \u001b[39mself\u001b[39m\u001b[39m.\u001b[39m_values[label]\n\u001b[1;32m   1236\u001b[0m \u001b[39m# Similar to Index.get_value, but we do not fall back to positional\u001b[39;00m\n\u001b[0;32m-> 1237\u001b[0m loc \u001b[39m=\u001b[39m \u001b[39mself\u001b[39;49m\u001b[39m.\u001b[39;49mindex\u001b[39m.\u001b[39;49mget_loc(label)\n\u001b[1;32m   1239\u001b[0m \u001b[39mif\u001b[39;00m is_integer(loc):\n\u001b[1;32m   1240\u001b[0m     \u001b[39mreturn\u001b[39;00m \u001b[39mself\u001b[39m\u001b[39m.\u001b[39m_values[loc]\n",
      "File \u001b[0;32m~/Documents/Tokemak/v2-rebalance-dashboard/.venv/lib/python3.10/site-packages/pandas/core/indexes/base.py:3812\u001b[0m, in \u001b[0;36mIndex.get_loc\u001b[0;34m(self, key)\u001b[0m\n\u001b[1;32m   3807\u001b[0m     \u001b[39mif\u001b[39;00m \u001b[39misinstance\u001b[39m(casted_key, \u001b[39mslice\u001b[39m) \u001b[39mor\u001b[39;00m (\n\u001b[1;32m   3808\u001b[0m         \u001b[39misinstance\u001b[39m(casted_key, abc\u001b[39m.\u001b[39mIterable)\n\u001b[1;32m   3809\u001b[0m         \u001b[39mand\u001b[39;00m \u001b[39many\u001b[39m(\u001b[39misinstance\u001b[39m(x, \u001b[39mslice\u001b[39m) \u001b[39mfor\u001b[39;00m x \u001b[39min\u001b[39;00m casted_key)\n\u001b[1;32m   3810\u001b[0m     ):\n\u001b[1;32m   3811\u001b[0m         \u001b[39mraise\u001b[39;00m InvalidIndexError(key)\n\u001b[0;32m-> 3812\u001b[0m     \u001b[39mraise\u001b[39;00m \u001b[39mKeyError\u001b[39;00m(key) \u001b[39mfrom\u001b[39;00m\u001b[39m \u001b[39m\u001b[39merr\u001b[39;00m\n\u001b[1;32m   3813\u001b[0m \u001b[39mexcept\u001b[39;00m \u001b[39mTypeError\u001b[39;00m:\n\u001b[1;32m   3814\u001b[0m     \u001b[39m# If we have a listlike key, _check_indexing_error will raise\u001b[39;00m\n\u001b[1;32m   3815\u001b[0m     \u001b[39m#  InvalidIndexError. Otherwise we fall through and re-raise\u001b[39;00m\n\u001b[1;32m   3816\u001b[0m     \u001b[39m#  the TypeError.\u001b[39;00m\n\u001b[1;32m   3817\u001b[0m     \u001b[39mself\u001b[39m\u001b[39m.\u001b[39m_check_indexing_error(key)\n",
      "\u001b[0;31mKeyError\u001b[0m: 'weth_received'"
     ]
    }
   ],
   "source": [
    "incentive_token_df[\"sell_quantity\"] = incentive_token_df.apply(\n",
    "    lambda x: x[\"weth_received\"] / x[\"achieved_price\"], axis=1\n",
    ")\n",
    "incentive_token_df[\"expected_eth\"] = (\n",
    "    incentive_token_df[\"incentive_calculator_price\"] * incentive_token_df[\"sell_quantity\"]\n",
    ")\n",
    "incentive_token_df[\"eth_diff\"] = incentive_token_df[\"expected_eth\"] - incentive_token_df[\"weth_received\"]\n",
    "px.line(incentive_token_df[\"eth_diff\"])"
   ]
  },
  {
   "cell_type": "code",
   "execution_count": null,
   "metadata": {},
   "outputs": [
    {
     "ename": "KeyError",
     "evalue": "'weth_received'",
     "output_type": "error",
     "traceback": [
      "\u001b[0;31m---------------------------------------------------------------------------\u001b[0m",
      "\u001b[0;31mKeyError\u001b[0m                                  Traceback (most recent call last)",
      "File \u001b[0;32m~/Documents/Tokemak/v2-rebalance-dashboard/.venv/lib/python3.10/site-packages/pandas/core/indexes/base.py:3805\u001b[0m, in \u001b[0;36mIndex.get_loc\u001b[0;34m(self, key)\u001b[0m\n\u001b[1;32m   3804\u001b[0m \u001b[39mtry\u001b[39;00m:\n\u001b[0;32m-> 3805\u001b[0m     \u001b[39mreturn\u001b[39;00m \u001b[39mself\u001b[39;49m\u001b[39m.\u001b[39;49m_engine\u001b[39m.\u001b[39;49mget_loc(casted_key)\n\u001b[1;32m   3806\u001b[0m \u001b[39mexcept\u001b[39;00m \u001b[39mKeyError\u001b[39;00m \u001b[39mas\u001b[39;00m err:\n",
      "File \u001b[0;32mindex.pyx:167\u001b[0m, in \u001b[0;36mpandas._libs.index.IndexEngine.get_loc\u001b[0;34m()\u001b[0m\n",
      "File \u001b[0;32mindex.pyx:196\u001b[0m, in \u001b[0;36mpandas._libs.index.IndexEngine.get_loc\u001b[0;34m()\u001b[0m\n",
      "File \u001b[0;32mpandas/_libs/hashtable_class_helper.pxi:7081\u001b[0m, in \u001b[0;36mpandas._libs.hashtable.PyObjectHashTable.get_item\u001b[0;34m()\u001b[0m\n",
      "File \u001b[0;32mpandas/_libs/hashtable_class_helper.pxi:7089\u001b[0m, in \u001b[0;36mpandas._libs.hashtable.PyObjectHashTable.get_item\u001b[0;34m()\u001b[0m\n",
      "\u001b[0;31mKeyError\u001b[0m: 'weth_received'",
      "\nThe above exception was the direct cause of the following exception:\n",
      "\u001b[0;31mKeyError\u001b[0m                                  Traceback (most recent call last)",
      "Cell \u001b[0;32mIn[45], line 1\u001b[0m\n\u001b[0;32m----> 1\u001b[0m incentive_token_df[\u001b[39m'\u001b[39m\u001b[39mdiff_from_expected_eth\u001b[39m\u001b[39m'\u001b[39m] \u001b[39m=\u001b[39m incentive_token_df[\u001b[39m'\u001b[39m\u001b[39mincentive percent diff to achieved\u001b[39m\u001b[39m'\u001b[39m] \u001b[39m/\u001b[39m \u001b[39m100\u001b[39m \u001b[39m*\u001b[39m incentive_token_df[\u001b[39m'\u001b[39;49m\u001b[39mweth_received\u001b[39;49m\u001b[39m'\u001b[39;49m]\n\u001b[1;32m      3\u001b[0m px\u001b[39m.\u001b[39mbar(incentive_token_df\u001b[39m.\u001b[39mresample(\u001b[39m'\u001b[39m\u001b[39m1D\u001b[39m\u001b[39m'\u001b[39m)[\u001b[39m'\u001b[39m\u001b[39mdiff_from_expected_eth\u001b[39m\u001b[39m'\u001b[39m]\u001b[39m.\u001b[39msum())\n",
      "File \u001b[0;32m~/Documents/Tokemak/v2-rebalance-dashboard/.venv/lib/python3.10/site-packages/pandas/core/frame.py:4102\u001b[0m, in \u001b[0;36mDataFrame.__getitem__\u001b[0;34m(self, key)\u001b[0m\n\u001b[1;32m   4100\u001b[0m \u001b[39mif\u001b[39;00m \u001b[39mself\u001b[39m\u001b[39m.\u001b[39mcolumns\u001b[39m.\u001b[39mnlevels \u001b[39m>\u001b[39m \u001b[39m1\u001b[39m:\n\u001b[1;32m   4101\u001b[0m     \u001b[39mreturn\u001b[39;00m \u001b[39mself\u001b[39m\u001b[39m.\u001b[39m_getitem_multilevel(key)\n\u001b[0;32m-> 4102\u001b[0m indexer \u001b[39m=\u001b[39m \u001b[39mself\u001b[39;49m\u001b[39m.\u001b[39;49mcolumns\u001b[39m.\u001b[39;49mget_loc(key)\n\u001b[1;32m   4103\u001b[0m \u001b[39mif\u001b[39;00m is_integer(indexer):\n\u001b[1;32m   4104\u001b[0m     indexer \u001b[39m=\u001b[39m [indexer]\n",
      "File \u001b[0;32m~/Documents/Tokemak/v2-rebalance-dashboard/.venv/lib/python3.10/site-packages/pandas/core/indexes/base.py:3812\u001b[0m, in \u001b[0;36mIndex.get_loc\u001b[0;34m(self, key)\u001b[0m\n\u001b[1;32m   3807\u001b[0m     \u001b[39mif\u001b[39;00m \u001b[39misinstance\u001b[39m(casted_key, \u001b[39mslice\u001b[39m) \u001b[39mor\u001b[39;00m (\n\u001b[1;32m   3808\u001b[0m         \u001b[39misinstance\u001b[39m(casted_key, abc\u001b[39m.\u001b[39mIterable)\n\u001b[1;32m   3809\u001b[0m         \u001b[39mand\u001b[39;00m \u001b[39many\u001b[39m(\u001b[39misinstance\u001b[39m(x, \u001b[39mslice\u001b[39m) \u001b[39mfor\u001b[39;00m x \u001b[39min\u001b[39;00m casted_key)\n\u001b[1;32m   3810\u001b[0m     ):\n\u001b[1;32m   3811\u001b[0m         \u001b[39mraise\u001b[39;00m InvalidIndexError(key)\n\u001b[0;32m-> 3812\u001b[0m     \u001b[39mraise\u001b[39;00m \u001b[39mKeyError\u001b[39;00m(key) \u001b[39mfrom\u001b[39;00m\u001b[39m \u001b[39m\u001b[39merr\u001b[39;00m\n\u001b[1;32m   3813\u001b[0m \u001b[39mexcept\u001b[39;00m \u001b[39mTypeError\u001b[39;00m:\n\u001b[1;32m   3814\u001b[0m     \u001b[39m# If we have a listlike key, _check_indexing_error will raise\u001b[39;00m\n\u001b[1;32m   3815\u001b[0m     \u001b[39m#  InvalidIndexError. Otherwise we fall through and re-raise\u001b[39;00m\n\u001b[1;32m   3816\u001b[0m     \u001b[39m#  the TypeError.\u001b[39;00m\n\u001b[1;32m   3817\u001b[0m     \u001b[39mself\u001b[39m\u001b[39m.\u001b[39m_check_indexing_error(key)\n",
      "\u001b[0;31mKeyError\u001b[0m: 'weth_received'"
     ]
    }
   ],
   "source": [
    "incentive_token_df[\"diff_from_expected_eth\"] = (\n",
    "    incentive_token_df[\"incentive percent diff to achieved\"] / 100 * incentive_token_df[\"weth_received\"]\n",
    ")\n",
    "\n",
    "px.bar(incentive_token_df.resample(\"1D\")[\"diff_from_expected_eth\"].sum())"
   ]
  },
  {
   "cell_type": "code",
   "execution_count": null,
   "metadata": {},
   "outputs": [],
   "source": [
    "incentive_token_df[\"sellAmount\"]"
   ]
  },
  {
   "cell_type": "code",
   "execution_count": null,
   "metadata": {},
   "outputs": [],
   "source": [
    "px.histogram()"
   ]
  },
  {
   "cell_type": "code",
   "execution_count": null,
   "metadata": {},
   "outputs": [],
   "source": [
    "0.065661 / 0.0001162"
   ]
  },
  {
   "cell_type": "code",
   "execution_count": null,
   "metadata": {},
   "outputs": [],
   "source": []
  },
  {
   "cell_type": "markdown",
   "metadata": {},
   "source": []
  },
  {
   "cell_type": "code",
   "execution_count": null,
   "metadata": {},
   "outputs": [],
   "source": []
  }
 ],
 "metadata": {
  "kernelspec": {
   "display_name": ".venv",
   "language": "python",
   "name": "python3"
  },
  "language_info": {
   "codemirror_mode": {
    "name": "ipython",
    "version": 3
   },
   "file_extension": ".py",
   "mimetype": "text/x-python",
   "name": "python",
   "nbconvert_exporter": "python",
   "pygments_lexer": "ipython3",
   "version": "3.10.6"
  }
 },
 "nbformat": 4,
 "nbformat_minor": 2
}
