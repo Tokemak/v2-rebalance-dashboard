{
 "cells": [
  {
   "cell_type": "code",
   "execution_count": 59,
   "metadata": {},
   "outputs": [
    {
     "name": "stderr",
     "output_type": "stream",
     "text": [
      "2024-11-06 14:54:50.345 Thread 'MainThread': missing ScriptRunContext! This warning can be ignored when running in bare mode.\n",
      "2024-11-06 14:54:50.347 Thread 'MainThread': missing ScriptRunContext! This warning can be ignored when running in bare mode.\n",
      "2024-11-06 14:54:50.349 Thread 'MainThread': missing ScriptRunContext! This warning can be ignored when running in bare mode.\n",
      "2024-11-06 14:54:50.351 Thread 'MainThread': missing ScriptRunContext! This warning can be ignored when running in bare mode.\n",
      "2024-11-06 14:54:50.351 Thread 'MainThread': missing ScriptRunContext! This warning can be ignored when running in bare mode.\n",
      "2024-11-06 14:54:50.352 Thread 'MainThread': missing ScriptRunContext! This warning can be ignored when running in bare mode.\n",
      "2024-11-06 14:54:50.353 Thread 'MainThread': missing ScriptRunContext! This warning can be ignored when running in bare mode.\n",
      "2024-11-06 14:54:50.353 Thread 'MainThread': missing ScriptRunContext! This warning can be ignored when running in bare mode.\n",
      "2024-11-06 14:54:50.356 Thread 'MainThread': missing ScriptRunContext! This warning can be ignored when running in bare mode.\n",
      "2024-11-06 14:54:50.357 Thread 'MainThread': missing ScriptRunContext! This warning can be ignored when running in bare mode.\n"
     ]
    },
    {
     "ename": "KeyError",
     "evalue": "'vaultName'",
     "output_type": "error",
     "traceback": [
      "\u001b[0;31m---------------------------------------------------------------------------\u001b[0m",
      "\u001b[0;31mKeyError\u001b[0m                                  Traceback (most recent call last)",
      "Cell \u001b[0;32mIn[59], line 78\u001b[0m\n\u001b[1;32m     76\u001b[0m     \u001b[38;5;28;01mreturn\u001b[39;00m eth_value_if_no_discount_df\n\u001b[1;32m     77\u001b[0m blocks \u001b[38;5;241m=\u001b[39m build_blocks_to_use()\n\u001b[0;32m---> 78\u001b[0m eth_value_if_no_discount_df \u001b[38;5;241m=\u001b[39m \u001b[43m_fetch_destination_depeg_details\u001b[49m\u001b[43m(\u001b[49m\u001b[43mBAL_ETH\u001b[49m\u001b[43m,\u001b[49m\u001b[43m \u001b[49m\u001b[43mblocks\u001b[49m\u001b[43m)\u001b[49m\n",
      "Cell \u001b[0;32mIn[59], line 66\u001b[0m, in \u001b[0;36m_fetch_destination_depeg_details\u001b[0;34m(autopool, blocks)\u001b[0m\n\u001b[1;32m     61\u001b[0m             \u001b[38;5;28;01mreturn\u001b[39;00m a[\u001b[38;5;124m\"\u001b[39m\u001b[38;5;124mtotalSupply\u001b[39m\u001b[38;5;124m\"\u001b[39m] \u001b[38;5;241m/\u001b[39m \u001b[38;5;241m1e18\u001b[39m\n\u001b[1;32m     63\u001b[0m total_shares \u001b[38;5;241m=\u001b[39m pool_and_destinations_df[\u001b[38;5;124m\"\u001b[39m\u001b[38;5;124mgetPoolsAndDestinations\u001b[39m\u001b[38;5;124m\"\u001b[39m]\u001b[38;5;241m.\u001b[39mapply(_extract_total_shares)\n\u001b[1;32m     65\u001b[0m eth_value_if_no_discount_df \u001b[38;5;241m=\u001b[39m pd\u001b[38;5;241m.\u001b[39mDataFrame\u001b[38;5;241m.\u001b[39mfrom_records(\n\u001b[0;32m---> 66\u001b[0m     \u001b[43mpool_and_destinations_df\u001b[49m\u001b[43m[\u001b[49m\u001b[38;5;124;43m\"\u001b[39;49m\u001b[38;5;124;43mgetPoolsAndDestinations\u001b[39;49m\u001b[38;5;124;43m\"\u001b[39;49m\u001b[43m]\u001b[49m\u001b[38;5;241;43m.\u001b[39;49m\u001b[43mapply\u001b[49m\u001b[43m(\u001b[49m\u001b[43m_extract_totalEthValueHeldIfNoDiscount\u001b[49m\u001b[43m)\u001b[49m,\n\u001b[1;32m     67\u001b[0m     index\u001b[38;5;241m=\u001b[39mpool_and_destinations_df\u001b[38;5;241m.\u001b[39mindex,\n\u001b[1;32m     68\u001b[0m )\n\u001b[1;32m     70\u001b[0m eth_value_if_no_discount_df[\u001b[38;5;124m\"\u001b[39m\u001b[38;5;124mnav_if_all_lp_tokens_return_to_peg\u001b[39m\u001b[38;5;124m\"\u001b[39m] \u001b[38;5;241m=\u001b[39m eth_value_if_no_discount_df\u001b[38;5;241m.\u001b[39msum(axis\u001b[38;5;241m=\u001b[39m\u001b[38;5;241m1\u001b[39m)\n\u001b[1;32m     71\u001b[0m eth_value_if_no_discount_df[\u001b[38;5;124m\"\u001b[39m\u001b[38;5;124mtotal_shares\u001b[39m\u001b[38;5;124m\"\u001b[39m] \u001b[38;5;241m=\u001b[39m total_shares\n",
      "File \u001b[0;32m~/Documents/Tokemak/v2-rebalance-dashboard/.venv/lib/python3.10/site-packages/pandas/core/series.py:4924\u001b[0m, in \u001b[0;36mSeries.apply\u001b[0;34m(self, func, convert_dtype, args, by_row, **kwargs)\u001b[0m\n\u001b[1;32m   4789\u001b[0m \u001b[38;5;28;01mdef\u001b[39;00m \u001b[38;5;21mapply\u001b[39m(\n\u001b[1;32m   4790\u001b[0m     \u001b[38;5;28mself\u001b[39m,\n\u001b[1;32m   4791\u001b[0m     func: AggFuncType,\n\u001b[0;32m   (...)\u001b[0m\n\u001b[1;32m   4796\u001b[0m     \u001b[38;5;241m*\u001b[39m\u001b[38;5;241m*\u001b[39mkwargs,\n\u001b[1;32m   4797\u001b[0m ) \u001b[38;5;241m-\u001b[39m\u001b[38;5;241m>\u001b[39m DataFrame \u001b[38;5;241m|\u001b[39m Series:\n\u001b[1;32m   4798\u001b[0m \u001b[38;5;250m    \u001b[39m\u001b[38;5;124;03m\"\"\"\u001b[39;00m\n\u001b[1;32m   4799\u001b[0m \u001b[38;5;124;03m    Invoke function on values of Series.\u001b[39;00m\n\u001b[1;32m   4800\u001b[0m \n\u001b[0;32m   (...)\u001b[0m\n\u001b[1;32m   4915\u001b[0m \u001b[38;5;124;03m    dtype: float64\u001b[39;00m\n\u001b[1;32m   4916\u001b[0m \u001b[38;5;124;03m    \"\"\"\u001b[39;00m\n\u001b[1;32m   4917\u001b[0m     \u001b[38;5;28;01mreturn\u001b[39;00m \u001b[43mSeriesApply\u001b[49m\u001b[43m(\u001b[49m\n\u001b[1;32m   4918\u001b[0m \u001b[43m        \u001b[49m\u001b[38;5;28;43mself\u001b[39;49m\u001b[43m,\u001b[49m\n\u001b[1;32m   4919\u001b[0m \u001b[43m        \u001b[49m\u001b[43mfunc\u001b[49m\u001b[43m,\u001b[49m\n\u001b[1;32m   4920\u001b[0m \u001b[43m        \u001b[49m\u001b[43mconvert_dtype\u001b[49m\u001b[38;5;241;43m=\u001b[39;49m\u001b[43mconvert_dtype\u001b[49m\u001b[43m,\u001b[49m\n\u001b[1;32m   4921\u001b[0m \u001b[43m        \u001b[49m\u001b[43mby_row\u001b[49m\u001b[38;5;241;43m=\u001b[39;49m\u001b[43mby_row\u001b[49m\u001b[43m,\u001b[49m\n\u001b[1;32m   4922\u001b[0m \u001b[43m        \u001b[49m\u001b[43margs\u001b[49m\u001b[38;5;241;43m=\u001b[39;49m\u001b[43margs\u001b[49m\u001b[43m,\u001b[49m\n\u001b[1;32m   4923\u001b[0m \u001b[43m        \u001b[49m\u001b[43mkwargs\u001b[49m\u001b[38;5;241;43m=\u001b[39;49m\u001b[43mkwargs\u001b[49m\u001b[43m,\u001b[49m\n\u001b[0;32m-> 4924\u001b[0m \u001b[43m    \u001b[49m\u001b[43m)\u001b[49m\u001b[38;5;241;43m.\u001b[39;49m\u001b[43mapply\u001b[49m\u001b[43m(\u001b[49m\u001b[43m)\u001b[49m\n",
      "File \u001b[0;32m~/Documents/Tokemak/v2-rebalance-dashboard/.venv/lib/python3.10/site-packages/pandas/core/apply.py:1427\u001b[0m, in \u001b[0;36mSeriesApply.apply\u001b[0;34m(self)\u001b[0m\n\u001b[1;32m   1424\u001b[0m     \u001b[38;5;28;01mreturn\u001b[39;00m \u001b[38;5;28mself\u001b[39m\u001b[38;5;241m.\u001b[39mapply_compat()\n\u001b[1;32m   1426\u001b[0m \u001b[38;5;66;03m# self.func is Callable\u001b[39;00m\n\u001b[0;32m-> 1427\u001b[0m \u001b[38;5;28;01mreturn\u001b[39;00m \u001b[38;5;28;43mself\u001b[39;49m\u001b[38;5;241;43m.\u001b[39;49m\u001b[43mapply_standard\u001b[49m\u001b[43m(\u001b[49m\u001b[43m)\u001b[49m\n",
      "File \u001b[0;32m~/Documents/Tokemak/v2-rebalance-dashboard/.venv/lib/python3.10/site-packages/pandas/core/apply.py:1507\u001b[0m, in \u001b[0;36mSeriesApply.apply_standard\u001b[0;34m(self)\u001b[0m\n\u001b[1;32m   1501\u001b[0m \u001b[38;5;66;03m# row-wise access\u001b[39;00m\n\u001b[1;32m   1502\u001b[0m \u001b[38;5;66;03m# apply doesn't have a `na_action` keyword and for backward compat reasons\u001b[39;00m\n\u001b[1;32m   1503\u001b[0m \u001b[38;5;66;03m# we need to give `na_action=\"ignore\"` for categorical data.\u001b[39;00m\n\u001b[1;32m   1504\u001b[0m \u001b[38;5;66;03m# TODO: remove the `na_action=\"ignore\"` when that default has been changed in\u001b[39;00m\n\u001b[1;32m   1505\u001b[0m \u001b[38;5;66;03m#  Categorical (GH51645).\u001b[39;00m\n\u001b[1;32m   1506\u001b[0m action \u001b[38;5;241m=\u001b[39m \u001b[38;5;124m\"\u001b[39m\u001b[38;5;124mignore\u001b[39m\u001b[38;5;124m\"\u001b[39m \u001b[38;5;28;01mif\u001b[39;00m \u001b[38;5;28misinstance\u001b[39m(obj\u001b[38;5;241m.\u001b[39mdtype, CategoricalDtype) \u001b[38;5;28;01melse\u001b[39;00m \u001b[38;5;28;01mNone\u001b[39;00m\n\u001b[0;32m-> 1507\u001b[0m mapped \u001b[38;5;241m=\u001b[39m \u001b[43mobj\u001b[49m\u001b[38;5;241;43m.\u001b[39;49m\u001b[43m_map_values\u001b[49m\u001b[43m(\u001b[49m\n\u001b[1;32m   1508\u001b[0m \u001b[43m    \u001b[49m\u001b[43mmapper\u001b[49m\u001b[38;5;241;43m=\u001b[39;49m\u001b[43mcurried\u001b[49m\u001b[43m,\u001b[49m\u001b[43m \u001b[49m\u001b[43mna_action\u001b[49m\u001b[38;5;241;43m=\u001b[39;49m\u001b[43maction\u001b[49m\u001b[43m,\u001b[49m\u001b[43m \u001b[49m\u001b[43mconvert\u001b[49m\u001b[38;5;241;43m=\u001b[39;49m\u001b[38;5;28;43mself\u001b[39;49m\u001b[38;5;241;43m.\u001b[39;49m\u001b[43mconvert_dtype\u001b[49m\n\u001b[1;32m   1509\u001b[0m \u001b[43m\u001b[49m\u001b[43m)\u001b[49m\n\u001b[1;32m   1511\u001b[0m \u001b[38;5;28;01mif\u001b[39;00m \u001b[38;5;28mlen\u001b[39m(mapped) \u001b[38;5;129;01mand\u001b[39;00m \u001b[38;5;28misinstance\u001b[39m(mapped[\u001b[38;5;241m0\u001b[39m], ABCSeries):\n\u001b[1;32m   1512\u001b[0m     \u001b[38;5;66;03m# GH#43986 Need to do list(mapped) in order to get treated as nested\u001b[39;00m\n\u001b[1;32m   1513\u001b[0m     \u001b[38;5;66;03m#  See also GH#25959 regarding EA support\u001b[39;00m\n\u001b[1;32m   1514\u001b[0m     \u001b[38;5;28;01mreturn\u001b[39;00m obj\u001b[38;5;241m.\u001b[39m_constructor_expanddim(\u001b[38;5;28mlist\u001b[39m(mapped), index\u001b[38;5;241m=\u001b[39mobj\u001b[38;5;241m.\u001b[39mindex)\n",
      "File \u001b[0;32m~/Documents/Tokemak/v2-rebalance-dashboard/.venv/lib/python3.10/site-packages/pandas/core/base.py:921\u001b[0m, in \u001b[0;36mIndexOpsMixin._map_values\u001b[0;34m(self, mapper, na_action, convert)\u001b[0m\n\u001b[1;32m    918\u001b[0m \u001b[38;5;28;01mif\u001b[39;00m \u001b[38;5;28misinstance\u001b[39m(arr, ExtensionArray):\n\u001b[1;32m    919\u001b[0m     \u001b[38;5;28;01mreturn\u001b[39;00m arr\u001b[38;5;241m.\u001b[39mmap(mapper, na_action\u001b[38;5;241m=\u001b[39mna_action)\n\u001b[0;32m--> 921\u001b[0m \u001b[38;5;28;01mreturn\u001b[39;00m \u001b[43malgorithms\u001b[49m\u001b[38;5;241;43m.\u001b[39;49m\u001b[43mmap_array\u001b[49m\u001b[43m(\u001b[49m\u001b[43marr\u001b[49m\u001b[43m,\u001b[49m\u001b[43m \u001b[49m\u001b[43mmapper\u001b[49m\u001b[43m,\u001b[49m\u001b[43m \u001b[49m\u001b[43mna_action\u001b[49m\u001b[38;5;241;43m=\u001b[39;49m\u001b[43mna_action\u001b[49m\u001b[43m,\u001b[49m\u001b[43m \u001b[49m\u001b[43mconvert\u001b[49m\u001b[38;5;241;43m=\u001b[39;49m\u001b[43mconvert\u001b[49m\u001b[43m)\u001b[49m\n",
      "File \u001b[0;32m~/Documents/Tokemak/v2-rebalance-dashboard/.venv/lib/python3.10/site-packages/pandas/core/algorithms.py:1743\u001b[0m, in \u001b[0;36mmap_array\u001b[0;34m(arr, mapper, na_action, convert)\u001b[0m\n\u001b[1;32m   1741\u001b[0m values \u001b[38;5;241m=\u001b[39m arr\u001b[38;5;241m.\u001b[39mastype(\u001b[38;5;28mobject\u001b[39m, copy\u001b[38;5;241m=\u001b[39m\u001b[38;5;28;01mFalse\u001b[39;00m)\n\u001b[1;32m   1742\u001b[0m \u001b[38;5;28;01mif\u001b[39;00m na_action \u001b[38;5;129;01mis\u001b[39;00m \u001b[38;5;28;01mNone\u001b[39;00m:\n\u001b[0;32m-> 1743\u001b[0m     \u001b[38;5;28;01mreturn\u001b[39;00m \u001b[43mlib\u001b[49m\u001b[38;5;241;43m.\u001b[39;49m\u001b[43mmap_infer\u001b[49m\u001b[43m(\u001b[49m\u001b[43mvalues\u001b[49m\u001b[43m,\u001b[49m\u001b[43m \u001b[49m\u001b[43mmapper\u001b[49m\u001b[43m,\u001b[49m\u001b[43m \u001b[49m\u001b[43mconvert\u001b[49m\u001b[38;5;241;43m=\u001b[39;49m\u001b[43mconvert\u001b[49m\u001b[43m)\u001b[49m\n\u001b[1;32m   1744\u001b[0m \u001b[38;5;28;01melse\u001b[39;00m:\n\u001b[1;32m   1745\u001b[0m     \u001b[38;5;28;01mreturn\u001b[39;00m lib\u001b[38;5;241m.\u001b[39mmap_infer_mask(\n\u001b[1;32m   1746\u001b[0m         values, mapper, mask\u001b[38;5;241m=\u001b[39misna(values)\u001b[38;5;241m.\u001b[39mview(np\u001b[38;5;241m.\u001b[39muint8), convert\u001b[38;5;241m=\u001b[39mconvert\n\u001b[1;32m   1747\u001b[0m     )\n",
      "File \u001b[0;32mlib.pyx:2972\u001b[0m, in \u001b[0;36mpandas._libs.lib.map_infer\u001b[0;34m()\u001b[0m\n",
      "Cell \u001b[0;32mIn[59], line 35\u001b[0m, in \u001b[0;36m_fetch_destination_depeg_details.<locals>._extract_totalEthValueHeldIfNoDiscount\u001b[0;34m(row)\u001b[0m\n\u001b[1;32m     33\u001b[0m \u001b[38;5;28;01mfor\u001b[39;00m dest \u001b[38;5;129;01min\u001b[39;00m destination_list:\n\u001b[1;32m     34\u001b[0m     \u001b[38;5;28;01mpass\u001b[39;00m\n\u001b[0;32m---> 35\u001b[0m     \u001b[38;5;28;01mif\u001b[39;00m \u001b[43mdest\u001b[49m\u001b[43m[\u001b[49m\u001b[38;5;124;43m'\u001b[39;49m\u001b[38;5;124;43mvaultName\u001b[39;49m\u001b[38;5;124;43m'\u001b[39;49m\u001b[43m]\u001b[49m \u001b[38;5;241m==\u001b[39m \u001b[38;5;124m'\u001b[39m\u001b[38;5;124mECLP-wstETH-wETH (balancer)\u001b[39m\u001b[38;5;124m'\u001b[39m:\n\u001b[1;32m     36\u001b[0m         all_destinations\u001b[38;5;241m.\u001b[39mappend(dest)\n\u001b[1;32m     38\u001b[0m \u001b[38;5;28mprint\u001b[39m(\u001b[38;5;28mlen\u001b[39m(all_destinations))\n",
      "\u001b[0;31mKeyError\u001b[0m: 'vaultName'"
     ]
    }
   ],
   "source": [
    "import streamlit as st\n",
    "import pandas as pd\n",
    "\n",
    "\n",
    "from mainnet_launch.constants import AutopoolConstants, CACHE_TIME, eth_client\n",
    "from mainnet_launch.constants import BAL_ETH, AUTO_ETH, AUTO_LRT\n",
    "from mainnet_launch.lens_contract import get_pools_and_destinations_call\n",
    "from mainnet_launch.data_fetching.get_state_by_block import get_raw_state_by_blocks\n",
    "from mainnet_launch.destinations import DestinationDetails, get_destination_details\n",
    "from mainnet_launch.data_fetching.get_state_by_block import build_blocks_to_use\n",
    "\n",
    "def _fetch_destination_depeg_details(autopool: AutopoolConstants, blocks) -> pd.Series:\n",
    "    \"\"\"\n",
    "    Returns a dataframe with one column `nav_per_share_if_no_discount` for each block in blocks.\n",
    "    \"\"\"\n",
    "    details = [d for d in get_destination_details() if d.autopool == autopool]\n",
    "    # autopoolNav in Idle df\n",
    "    lp_token_addresss_to_name = {d.lpTokenAddress: d.vault_name for d in details if d.lpTokenAddress is not None}\n",
    "\n",
    "    pool_and_destinations_df = get_raw_state_by_blocks([get_pools_and_destinations_call()], blocks)\n",
    "\n",
    "    def _extract_totalEthValueHeldIfNoDiscount(row: dict):\n",
    "\n",
    "        for a, destination_list in zip(row[\"autopools\"], row[\"destinations\"]):\n",
    "            if a[\"poolAddress\"].lower() == autopool.autopool_eth_addr.lower():\n",
    "                # Something is wrong, not sure what yet\n",
    "  \n",
    "\n",
    "                totalEthValueHeldIfNoDiscount = {\n",
    "                    autopool.name: a[\"totalIdle\"] / 1e18\n",
    "                }  # ETH in idle is not at any disocunt\n",
    "                all_destinations = []\n",
    "                for dest in destination_list:\n",
    "                    if dest['lpTokenAddress'].lower() in lp_token_addresss_to_name:\n",
    "                        vault_name = lp_token_addresss_to_name[dest['lpTokenAddress']]\n",
    "                    if vault_name == 'ECLP-wstETH-wETH (balancer)':\n",
    "                        all_destinations.append(dest)\n",
    "                \n",
    "                print(len(all_destinations))\n",
    "                # discounts = [lst_stats[\"discount\"] / 1e18 for lst_stats in dest[\"lstStatsData\"]]\n",
    "                # valueHeldInEth = [t[\"valueHeldInEth\"] / 1e18 for t in dest[\"underlyingTokenValueHeld\"]]\n",
    "                # underlyingTokenSymbols = [t[\"symbol\"] / 1e18 for t in dest[\"underlyingTokenSymbols\"]]\n",
    "                \n",
    "                # return {'underlyingTokenSymbols': underlyingTokenSymbols}, 'valueHeldInEth':, valueHeldInEth, 'discounts':discounts}\n",
    "                #     # a positive discount means we think the destination is trading at below its backing on the consensus layer\n",
    "                #     # a negative disocunt means we think the destination is trading at more than the backing on the consensus layer\n",
    "                #     # valueHeldInEth_removed_lst_discount = float(\n",
    "                #     #     sum([value / (1 - discount) for discount, value, in zip(discounts, valueHeldInEth)])\n",
    "                #     # )\n",
    "                #     destination_name = lp_token_addresss_to_name[eth_client.toChecksumAddress(dest[\"lpTokenAddress\"])]\n",
    "\n",
    "                #     if destination_name not in totalEthValueHeldIfNoDiscount:\n",
    "                #         totalEthValueHeldIfNoDiscount[destination_name] = valueHeldInEth_removed_lst_discount\n",
    "                #     else:\n",
    "                #         totalEthValueHeldIfNoDiscount[destination_name] += valueHeldInEth_removed_lst_discount\n",
    "\n",
    "        return totalEthValueHeldIfNoDiscount\n",
    "\n",
    "    def _extract_total_shares(row: dict):\n",
    "        for a, _ in zip(row[\"autopools\"], row[\"destinations\"]):\n",
    "            if a[\"poolAddress\"].lower() == autopool.autopool_eth_addr.lower():\n",
    "                return a[\"totalSupply\"] / 1e18\n",
    "\n",
    "    total_shares = pool_and_destinations_df[\"getPoolsAndDestinations\"].apply(_extract_total_shares)\n",
    "\n",
    "    eth_value_if_no_discount_df = pd.DataFrame.from_records(\n",
    "        pool_and_destinations_df[\"getPoolsAndDestinations\"].apply(_extract_totalEthValueHeldIfNoDiscount),\n",
    "        index=pool_and_destinations_df.index,\n",
    "    )\n",
    "\n",
    "    eth_value_if_no_discount_df[\"nav_if_all_lp_tokens_return_to_peg\"] = eth_value_if_no_discount_df.sum(axis=1)\n",
    "    eth_value_if_no_discount_df[\"total_shares\"] = total_shares\n",
    "    eth_value_if_no_discount_df[\"nav_per_share_if_no_discount\"] = (\n",
    "        eth_value_if_no_discount_df[\"nav_if_all_lp_tokens_return_to_peg\"] / eth_value_if_no_discount_df[\"total_shares\"]\n",
    "    )\n",
    "\n",
    "    return eth_value_if_no_discount_df\n",
    "blocks = build_blocks_to_use()\n",
    "eth_value_if_no_discount_df = _fetch_destination_depeg_details(BAL_ETH, blocks)"
   ]
  },
  {
   "cell_type": "code",
   "execution_count": null,
   "metadata": {},
   "outputs": [
    {
     "name": "stderr",
     "output_type": "stream",
     "text": [
      "2024-11-06 14:00:48.022 Thread 'MainThread': missing ScriptRunContext! This warning can be ignored when running in bare mode.\n",
      "2024-11-06 14:00:48.023 Thread 'MainThread': missing ScriptRunContext! This warning can be ignored when running in bare mode.\n",
      "2024-11-06 14:00:48.023 Thread 'MainThread': missing ScriptRunContext! This warning can be ignored when running in bare mode.\n",
      "2024-11-06 14:00:48.024 Thread 'MainThread': missing ScriptRunContext! This warning can be ignored when running in bare mode.\n",
      "2024-11-06 14:00:48.024 Thread 'MainThread': missing ScriptRunContext! This warning can be ignored when running in bare mode.\n",
      "2024-11-06 14:00:48.025 Thread 'MainThread': missing ScriptRunContext! This warning can be ignored when running in bare mode.\n",
      "2024-11-06 14:00:48.025 Thread 'MainThread': missing ScriptRunContext! This warning can be ignored when running in bare mode.\n",
      "2024-11-06 14:00:48.026 Thread 'MainThread': missing ScriptRunContext! This warning can be ignored when running in bare mode.\n",
      "2024-11-06 14:00:48.030 Thread 'MainThread': missing ScriptRunContext! This warning can be ignored when running in bare mode.\n",
      "2024-11-06 14:00:48.030 Thread 'MainThread': missing ScriptRunContext! This warning can be ignored when running in bare mode.\n",
      "2024-11-06 14:00:48.031 Thread 'MainThread': missing ScriptRunContext! This warning can be ignored when running in bare mode.\n",
      "2024-11-06 14:00:48.031 Thread 'MainThread': missing ScriptRunContext! This warning can be ignored when running in bare mode.\n",
      "2024-11-06 14:00:48.032 Thread 'MainThread': missing ScriptRunContext! This warning can be ignored when running in bare mode.\n",
      "2024-11-06 14:00:48.037 Thread 'MainThread': missing ScriptRunContext! This warning can be ignored when running in bare mode.\n",
      "2024-11-06 14:00:48.037 Thread 'MainThread': missing ScriptRunContext! This warning can be ignored when running in bare mode.\n",
      "2024-11-06 14:00:48.038 Thread 'MainThread': missing ScriptRunContext! This warning can be ignored when running in bare mode.\n",
      "2024-11-06 14:00:48.038 Thread 'MainThread': missing ScriptRunContext! This warning can be ignored when running in bare mode.\n",
      "2024-11-06 14:00:48.039 Thread 'MainThread': missing ScriptRunContext! This warning can be ignored when running in bare mode.\n",
      "2024-11-06 14:00:48.049 Thread 'MainThread': missing ScriptRunContext! This warning can be ignored when running in bare mode.\n",
      "2024-11-06 14:00:48.050 Thread 'MainThread': missing ScriptRunContext! This warning can be ignored when running in bare mode.\n"
     ]
    },
    {
     "data": {
      "text/html": [
       "<div>\n",
       "<style scoped>\n",
       "    .dataframe tbody tr th:only-of-type {\n",
       "        vertical-align: middle;\n",
       "    }\n",
       "\n",
       "    .dataframe tbody tr th {\n",
       "        vertical-align: top;\n",
       "    }\n",
       "\n",
       "    .dataframe thead th {\n",
       "        text-align: right;\n",
       "    }\n",
       "</style>\n",
       "<table border=\"1\" class=\"dataframe\">\n",
       "  <thead>\n",
       "    <tr style=\"text-align: right;\">\n",
       "      <th></th>\n",
       "      <th>autoETH</th>\n",
       "      <th>balETH</th>\n",
       "      <th>autoLRT</th>\n",
       "    </tr>\n",
       "    <tr>\n",
       "      <th>timestamp</th>\n",
       "      <th></th>\n",
       "      <th></th>\n",
       "      <th></th>\n",
       "    </tr>\n",
       "  </thead>\n",
       "  <tbody>\n",
       "    <tr>\n",
       "      <th>2024-09-15 02:04:47+00:00</th>\n",
       "      <td>1.000000</td>\n",
       "      <td>1.000000</td>\n",
       "      <td>1.000000</td>\n",
       "    </tr>\n",
       "    <tr>\n",
       "      <th>2024-09-15 05:44:35+00:00</th>\n",
       "      <td>1.000000</td>\n",
       "      <td>1.000000</td>\n",
       "      <td>1.000000</td>\n",
       "    </tr>\n",
       "    <tr>\n",
       "      <th>2024-09-15 09:24:47+00:00</th>\n",
       "      <td>1.000000</td>\n",
       "      <td>1.000000</td>\n",
       "      <td>1.000000</td>\n",
       "    </tr>\n",
       "    <tr>\n",
       "      <th>2024-09-15 13:04:11+00:00</th>\n",
       "      <td>1.000000</td>\n",
       "      <td>1.000000</td>\n",
       "      <td>1.000000</td>\n",
       "    </tr>\n",
       "    <tr>\n",
       "      <th>2024-09-15 16:44:23+00:00</th>\n",
       "      <td>1.000000</td>\n",
       "      <td>1.000000</td>\n",
       "      <td>1.000000</td>\n",
       "    </tr>\n",
       "    <tr>\n",
       "      <th>...</th>\n",
       "      <td>...</td>\n",
       "      <td>...</td>\n",
       "      <td>...</td>\n",
       "    </tr>\n",
       "    <tr>\n",
       "      <th>2024-11-06 01:04:59+00:00</th>\n",
       "      <td>1.002795</td>\n",
       "      <td>1.003415</td>\n",
       "      <td>1.002245</td>\n",
       "    </tr>\n",
       "    <tr>\n",
       "      <th>2024-11-06 04:44:23+00:00</th>\n",
       "      <td>1.002816</td>\n",
       "      <td>1.003457</td>\n",
       "      <td>1.002283</td>\n",
       "    </tr>\n",
       "    <tr>\n",
       "      <th>2024-11-06 08:24:23+00:00</th>\n",
       "      <td>1.002829</td>\n",
       "      <td>1.003497</td>\n",
       "      <td>1.002318</td>\n",
       "    </tr>\n",
       "    <tr>\n",
       "      <th>2024-11-06 12:05:23+00:00</th>\n",
       "      <td>1.002837</td>\n",
       "      <td>1.003535</td>\n",
       "      <td>1.002350</td>\n",
       "    </tr>\n",
       "    <tr>\n",
       "      <th>2024-11-06 15:45:47+00:00</th>\n",
       "      <td>1.002845</td>\n",
       "      <td>1.003549</td>\n",
       "      <td>1.002387</td>\n",
       "    </tr>\n",
       "  </tbody>\n",
       "</table>\n",
       "<p>345 rows × 3 columns</p>\n",
       "</div>"
      ],
      "text/plain": [
       "                            autoETH    balETH   autoLRT\n",
       "timestamp                                              \n",
       "2024-09-15 02:04:47+00:00  1.000000  1.000000  1.000000\n",
       "2024-09-15 05:44:35+00:00  1.000000  1.000000  1.000000\n",
       "2024-09-15 09:24:47+00:00  1.000000  1.000000  1.000000\n",
       "2024-09-15 13:04:11+00:00  1.000000  1.000000  1.000000\n",
       "2024-09-15 16:44:23+00:00  1.000000  1.000000  1.000000\n",
       "...                             ...       ...       ...\n",
       "2024-11-06 01:04:59+00:00  1.002795  1.003415  1.002245\n",
       "2024-11-06 04:44:23+00:00  1.002816  1.003457  1.002283\n",
       "2024-11-06 08:24:23+00:00  1.002829  1.003497  1.002318\n",
       "2024-11-06 12:05:23+00:00  1.002837  1.003535  1.002350\n",
       "2024-11-06 15:45:47+00:00  1.002845  1.003549  1.002387\n",
       "\n",
       "[345 rows x 3 columns]"
      ]
     },
     "execution_count": 30,
     "metadata": {},
     "output_type": "execute_result"
    }
   ],
   "source": [
    "\n",
    "\n",
    "from mainnet_launch.constants import BAL_ETH, AUTO_ETH, AUTO_LRT\n",
    "from mainnet_launch.data_fetching.get_state_by_block import build_blocks_to_use\n",
    "from mainnet_launch.autopool_diagnostics.nav_if_no_discount import fetch_destination_totalEthValueHeldIfNoDiscount\n",
    "from mainnet_launch.autopool_diagnostics.fetch_nav_per_share import _fetch_all_all_pool_nav_per_share\n",
    "\n",
    "discount_allocation_df = fetch_destination_totalEthValueHeldIfNoDiscount(BAL_ETH, blocks)\n",
    "nav_per_share_df = _fetch_all_all_pool_nav_per_share(blocks)\n",
    "\n",
    "from mainnet_launch.destination_diagnostics.fetch_destination_summary_stats import fetch_destination_summary_stats\n",
    "\n",
    "uwcr_df, allocation_df, compositeReturn_out_df, total_nav_series, summary_stats_df, priceReturn_df = (\n",
    "    fetch_destination_summary_stats(blocks, BAL_ETH)\n",
    ")\n",
    "nav_per_share_df"
   ]
  },
  {
   "cell_type": "code",
   "execution_count": 31,
   "metadata": {},
   "outputs": [
    {
     "data": {
      "application/vnd.plotly.v1+json": {
       "config": {
        "plotlyServerURL": "https://plot.ly"
       },
       "data": [
        {
         "hovertemplate": "variable=nav_per_share_if_no_discount<br>timestamp=%{x}<br>value=%{y}<extra></extra>",
         "legendgroup": "nav_per_share_if_no_discount",
         "line": {
          "color": "#636efa",
          "dash": "solid"
         },
         "marker": {
          "symbol": "circle"
         },
         "mode": "lines",
         "name": "nav_per_share_if_no_discount",
         "orientation": "v",
         "showlegend": true,
         "type": "scatter",
         "x": [
          "2024-09-15T02:04:47+00:00",
          "2024-09-15T05:44:35+00:00",
          "2024-09-15T09:24:47+00:00",
          "2024-09-15T13:04:11+00:00",
          "2024-09-15T16:44:23+00:00",
          "2024-09-15T20:23:35+00:00",
          "2024-09-16T00:03:11+00:00",
          "2024-09-16T03:43:47+00:00",
          "2024-09-16T07:23:23+00:00",
          "2024-09-16T11:04:47+00:00",
          "2024-09-16T14:46:11+00:00",
          "2024-09-16T18:26:47+00:00",
          "2024-09-16T22:06:23+00:00",
          "2024-09-17T01:46:35+00:00",
          "2024-09-17T05:27:47+00:00",
          "2024-09-17T09:08:35+00:00",
          "2024-09-17T12:48:23+00:00",
          "2024-09-17T16:29:11+00:00",
          "2024-09-17T20:09:47+00:00",
          "2024-09-17T23:50:47+00:00",
          "2024-09-18T03:30:35+00:00",
          "2024-09-18T07:11:35+00:00",
          "2024-09-18T10:51:35+00:00",
          "2024-09-18T14:32:23+00:00",
          "2024-09-18T18:12:23+00:00",
          "2024-09-18T21:52:47+00:00",
          "2024-09-19T01:33:11+00:00",
          "2024-09-19T05:13:23+00:00",
          "2024-09-19T08:53:23+00:00",
          "2024-09-19T12:33:23+00:00",
          "2024-09-19T16:13:23+00:00",
          "2024-09-19T19:53:23+00:00",
          "2024-09-19T23:33:11+00:00",
          "2024-09-20T03:13:35+00:00",
          "2024-09-20T06:54:11+00:00",
          "2024-09-20T10:35:11+00:00",
          "2024-09-20T14:14:59+00:00",
          "2024-09-20T17:54:59+00:00",
          "2024-09-20T21:35:23+00:00",
          "2024-09-21T01:16:23+00:00",
          "2024-09-21T04:56:23+00:00",
          "2024-09-21T08:38:11+00:00",
          "2024-09-21T12:18:11+00:00",
          "2024-09-21T15:58:11+00:00",
          "2024-09-21T19:38:11+00:00",
          "2024-09-21T23:19:11+00:00",
          "2024-09-22T02:58:47+00:00",
          "2024-09-22T06:38:35+00:00",
          "2024-09-22T10:18:23+00:00",
          "2024-09-22T13:58:11+00:00",
          "2024-09-22T17:37:59+00:00",
          "2024-09-22T21:18:11+00:00",
          "2024-09-23T00:57:47+00:00",
          "2024-09-23T04:37:23+00:00",
          "2024-09-23T08:17:35+00:00",
          "2024-09-23T11:58:59+00:00",
          "2024-09-23T15:38:59+00:00",
          "2024-09-23T19:18:59+00:00",
          "2024-09-23T22:58:59+00:00",
          "2024-09-24T02:38:47+00:00",
          "2024-09-24T06:18:23+00:00",
          "2024-09-24T09:57:47+00:00",
          "2024-09-24T13:37:23+00:00",
          "2024-09-24T17:17:47+00:00",
          "2024-09-24T20:57:11+00:00",
          "2024-09-25T00:36:59+00:00",
          "2024-09-25T04:17:23+00:00",
          "2024-09-25T07:57:11+00:00",
          "2024-09-25T11:37:35+00:00",
          "2024-09-25T15:18:35+00:00",
          "2024-09-25T18:59:35+00:00",
          "2024-09-25T22:38:47+00:00",
          "2024-09-26T02:18:35+00:00",
          "2024-09-26T05:58:23+00:00",
          "2024-09-26T09:37:59+00:00",
          "2024-09-26T13:17:35+00:00",
          "2024-09-26T16:56:59+00:00",
          "2024-09-26T20:36:59+00:00",
          "2024-09-27T00:17:47+00:00",
          "2024-09-27T03:57:35+00:00",
          "2024-09-27T07:37:11+00:00",
          "2024-09-27T11:16:59+00:00",
          "2024-09-27T14:56:47+00:00",
          "2024-09-27T18:36:47+00:00",
          "2024-09-27T22:16:11+00:00",
          "2024-09-28T01:55:59+00:00",
          "2024-09-28T05:36:23+00:00",
          "2024-09-28T09:15:59+00:00",
          "2024-09-28T12:55:47+00:00",
          "2024-09-28T16:35:23+00:00",
          "2024-09-28T20:15:47+00:00",
          "2024-09-28T23:56:35+00:00",
          "2024-09-29T03:36:47+00:00",
          "2024-09-29T07:17:11+00:00",
          "2024-09-29T10:56:47+00:00",
          "2024-09-29T14:36:35+00:00",
          "2024-09-29T18:16:11+00:00",
          "2024-09-29T21:56:47+00:00",
          "2024-09-30T01:36:35+00:00",
          "2024-09-30T05:16:35+00:00",
          "2024-09-30T08:55:59+00:00",
          "2024-09-30T12:35:23+00:00",
          "2024-09-30T16:15:11+00:00",
          "2024-09-30T19:54:47+00:00",
          "2024-09-30T23:34:23+00:00",
          "2024-10-01T03:13:59+00:00",
          "2024-10-01T06:53:59+00:00",
          "2024-10-01T10:33:35+00:00",
          "2024-10-01T14:13:47+00:00",
          "2024-10-01T17:54:11+00:00",
          "2024-10-01T21:34:23+00:00",
          "2024-10-02T01:14:11+00:00",
          "2024-10-02T04:54:11+00:00",
          "2024-10-02T08:33:47+00:00",
          "2024-10-02T12:12:59+00:00",
          "2024-10-02T15:53:11+00:00",
          "2024-10-02T19:33:23+00:00",
          "2024-10-02T23:12:47+00:00",
          "2024-10-03T02:52:11+00:00",
          "2024-10-03T06:32:23+00:00",
          "2024-10-03T10:11:59+00:00",
          "2024-10-03T13:51:59+00:00",
          "2024-10-03T17:33:23+00:00",
          "2024-10-03T21:13:47+00:00",
          "2024-10-04T00:53:11+00:00",
          "2024-10-04T04:32:23+00:00",
          "2024-10-04T08:11:59+00:00",
          "2024-10-04T11:51:23+00:00",
          "2024-10-04T15:30:59+00:00",
          "2024-10-04T19:10:35+00:00",
          "2024-10-04T22:50:23+00:00",
          "2024-10-05T02:30:35+00:00",
          "2024-10-05T06:09:59+00:00",
          "2024-10-05T09:49:59+00:00",
          "2024-10-05T13:29:23+00:00",
          "2024-10-05T17:09:23+00:00",
          "2024-10-05T20:48:59+00:00",
          "2024-10-06T00:28:11+00:00",
          "2024-10-06T04:07:47+00:00",
          "2024-10-06T07:47:35+00:00",
          "2024-10-06T11:27:47+00:00",
          "2024-10-06T15:07:47+00:00",
          "2024-10-06T18:47:35+00:00",
          "2024-10-06T22:27:23+00:00",
          "2024-10-07T02:07:35+00:00",
          "2024-10-07T05:47:35+00:00",
          "2024-10-07T09:27:11+00:00",
          "2024-10-07T13:06:35+00:00",
          "2024-10-07T16:46:47+00:00",
          "2024-10-07T20:26:23+00:00",
          "2024-10-08T00:05:59+00:00",
          "2024-10-08T03:45:47+00:00",
          "2024-10-08T07:25:35+00:00",
          "2024-10-08T11:04:59+00:00",
          "2024-10-08T14:44:47+00:00",
          "2024-10-08T18:24:11+00:00",
          "2024-10-08T22:04:47+00:00",
          "2024-10-09T01:44:35+00:00",
          "2024-10-09T05:23:47+00:00",
          "2024-10-09T09:03:35+00:00",
          "2024-10-09T12:43:59+00:00",
          "2024-10-09T16:23:11+00:00",
          "2024-10-09T20:02:59+00:00",
          "2024-10-09T23:42:35+00:00",
          "2024-10-10T03:22:23+00:00",
          "2024-10-10T07:02:23+00:00",
          "2024-10-10T10:42:11+00:00",
          "2024-10-10T14:21:47+00:00",
          "2024-10-10T18:01:11+00:00",
          "2024-10-10T21:40:59+00:00",
          "2024-10-11T01:20:35+00:00",
          "2024-10-11T05:00:35+00:00",
          "2024-10-11T08:40:59+00:00",
          "2024-10-11T12:21:35+00:00",
          "2024-10-11T16:02:35+00:00",
          "2024-10-11T19:42:47+00:00",
          "2024-10-11T23:23:35+00:00",
          "2024-10-12T03:04:23+00:00",
          "2024-10-12T06:44:47+00:00",
          "2024-10-12T10:26:35+00:00",
          "2024-10-12T14:06:59+00:00",
          "2024-10-12T17:46:59+00:00",
          "2024-10-12T21:27:35+00:00",
          "2024-10-13T01:07:59+00:00",
          "2024-10-13T04:50:11+00:00",
          "2024-10-13T08:32:47+00:00",
          "2024-10-13T12:14:23+00:00",
          "2024-10-13T15:54:11+00:00",
          "2024-10-13T19:34:11+00:00",
          "2024-10-13T23:14:47+00:00",
          "2024-10-14T02:54:59+00:00",
          "2024-10-14T06:34:47+00:00",
          "2024-10-14T10:16:11+00:00",
          "2024-10-14T13:57:11+00:00",
          "2024-10-14T17:36:59+00:00",
          "2024-10-14T21:17:23+00:00",
          "2024-10-15T00:57:23+00:00",
          "2024-10-15T04:37:47+00:00",
          "2024-10-15T08:17:23+00:00",
          "2024-10-15T11:57:59+00:00",
          "2024-10-15T15:38:35+00:00",
          "2024-10-15T19:18:59+00:00",
          "2024-10-15T22:59:11+00:00",
          "2024-10-16T02:39:59+00:00",
          "2024-10-16T06:19:59+00:00",
          "2024-10-16T09:59:59+00:00",
          "2024-10-16T13:40:11+00:00",
          "2024-10-16T17:20:11+00:00",
          "2024-10-16T21:00:23+00:00",
          "2024-10-17T00:40:59+00:00",
          "2024-10-17T04:21:11+00:00",
          "2024-10-17T08:01:11+00:00",
          "2024-10-17T11:40:47+00:00",
          "2024-10-17T15:21:11+00:00",
          "2024-10-17T19:01:23+00:00",
          "2024-10-17T22:41:35+00:00",
          "2024-10-18T02:21:35+00:00",
          "2024-10-18T06:01:59+00:00",
          "2024-10-18T09:42:11+00:00",
          "2024-10-18T13:21:47+00:00",
          "2024-10-18T17:02:11+00:00",
          "2024-10-18T20:41:47+00:00",
          "2024-10-19T00:21:47+00:00",
          "2024-10-19T04:01:47+00:00",
          "2024-10-19T07:42:23+00:00",
          "2024-10-19T11:21:59+00:00",
          "2024-10-19T15:01:59+00:00",
          "2024-10-19T18:41:47+00:00",
          "2024-10-19T22:21:23+00:00",
          "2024-10-20T02:00:47+00:00",
          "2024-10-20T05:40:47+00:00",
          "2024-10-20T09:20:35+00:00",
          "2024-10-20T12:59:59+00:00",
          "2024-10-20T16:40:59+00:00",
          "2024-10-20T20:20:47+00:00",
          "2024-10-21T00:00:59+00:00",
          "2024-10-21T03:41:35+00:00",
          "2024-10-21T07:21:35+00:00",
          "2024-10-21T11:00:59+00:00",
          "2024-10-21T14:40:59+00:00",
          "2024-10-21T18:20:23+00:00",
          "2024-10-21T22:00:35+00:00",
          "2024-10-22T01:40:59+00:00",
          "2024-10-22T05:21:11+00:00",
          "2024-10-22T09:01:23+00:00",
          "2024-10-22T12:41:35+00:00",
          "2024-10-22T16:21:35+00:00",
          "2024-10-22T20:01:35+00:00",
          "2024-10-22T23:42:23+00:00",
          "2024-10-23T03:22:35+00:00",
          "2024-10-23T07:01:35+00:00",
          "2024-10-23T10:41:35+00:00",
          "2024-10-23T14:21:11+00:00",
          "2024-10-23T18:00:59+00:00",
          "2024-10-23T21:40:11+00:00",
          "2024-10-24T01:20:47+00:00",
          "2024-10-24T05:00:47+00:00",
          "2024-10-24T08:40:59+00:00",
          "2024-10-24T12:20:35+00:00",
          "2024-10-24T16:00:35+00:00",
          "2024-10-24T19:40:11+00:00",
          "2024-10-24T23:19:59+00:00",
          "2024-10-25T02:59:59+00:00",
          "2024-10-25T06:40:11+00:00",
          "2024-10-25T10:19:35+00:00",
          "2024-10-25T13:59:35+00:00",
          "2024-10-25T17:39:35+00:00",
          "2024-10-25T21:19:11+00:00",
          "2024-10-26T00:58:59+00:00",
          "2024-10-26T04:39:23+00:00",
          "2024-10-26T08:19:11+00:00",
          "2024-10-26T11:59:59+00:00",
          "2024-10-26T15:40:35+00:00",
          "2024-10-26T19:20:11+00:00",
          "2024-10-26T22:59:59+00:00",
          "2024-10-27T02:40:11+00:00",
          "2024-10-27T06:19:47+00:00",
          "2024-10-27T09:59:23+00:00",
          "2024-10-27T13:40:11+00:00",
          "2024-10-27T17:19:47+00:00",
          "2024-10-27T20:59:11+00:00",
          "2024-10-28T00:38:35+00:00",
          "2024-10-28T04:18:47+00:00",
          "2024-10-28T07:59:47+00:00",
          "2024-10-28T11:39:47+00:00",
          "2024-10-28T15:20:11+00:00",
          "2024-10-28T19:00:35+00:00",
          "2024-10-28T22:40:23+00:00",
          "2024-10-29T02:20:47+00:00",
          "2024-10-29T06:00:35+00:00",
          "2024-10-29T09:41:11+00:00",
          "2024-10-29T13:21:35+00:00",
          "2024-10-29T17:01:11+00:00",
          "2024-10-29T20:40:35+00:00",
          "2024-10-30T00:20:23+00:00",
          "2024-10-30T04:00:11+00:00",
          "2024-10-30T07:40:35+00:00",
          "2024-10-30T11:21:47+00:00",
          "2024-10-30T15:03:35+00:00",
          "2024-10-30T18:43:11+00:00",
          "2024-10-30T22:22:47+00:00",
          "2024-10-31T02:02:11+00:00",
          "2024-10-31T05:42:59+00:00",
          "2024-10-31T09:23:35+00:00",
          "2024-10-31T13:02:47+00:00",
          "2024-10-31T16:42:11+00:00",
          "2024-10-31T20:21:35+00:00",
          "2024-11-01T00:01:23+00:00",
          "2024-11-01T03:41:11+00:00",
          "2024-11-01T07:20:59+00:00",
          "2024-11-01T11:00:47+00:00",
          "2024-11-01T14:40:35+00:00",
          "2024-11-01T18:20:23+00:00",
          "2024-11-01T22:00:35+00:00",
          "2024-11-02T01:40:47+00:00",
          "2024-11-02T05:21:11+00:00",
          "2024-11-02T09:00:59+00:00",
          "2024-11-02T12:41:59+00:00",
          "2024-11-02T16:22:35+00:00",
          "2024-11-02T20:02:35+00:00",
          "2024-11-02T23:43:35+00:00",
          "2024-11-03T03:24:23+00:00",
          "2024-11-03T07:04:35+00:00",
          "2024-11-03T10:43:47+00:00",
          "2024-11-03T14:23:47+00:00",
          "2024-11-03T18:04:35+00:00",
          "2024-11-03T21:43:59+00:00",
          "2024-11-04T01:23:47+00:00",
          "2024-11-04T05:03:47+00:00",
          "2024-11-04T08:42:59+00:00",
          "2024-11-04T12:23:35+00:00",
          "2024-11-04T16:02:59+00:00",
          "2024-11-04T19:43:23+00:00",
          "2024-11-04T23:23:23+00:00",
          "2024-11-05T03:03:23+00:00",
          "2024-11-05T06:44:11+00:00",
          "2024-11-05T10:24:11+00:00",
          "2024-11-05T14:04:11+00:00",
          "2024-11-05T17:44:23+00:00",
          "2024-11-05T21:25:11+00:00",
          "2024-11-06T01:04:59+00:00",
          "2024-11-06T04:44:23+00:00",
          "2024-11-06T08:24:23+00:00",
          "2024-11-06T12:05:23+00:00",
          "2024-11-06T15:45:47+00:00"
         ],
         "xaxis": "x",
         "y": [
          1,
          1,
          1,
          1,
          1,
          1,
          1,
          1,
          1,
          1,
          1,
          1,
          1.000025676854559,
          0.9999779409827254,
          0.9999792129829422,
          0.9643233403067295,
          0.9694196721331252,
          0.9795149333311529,
          0.9818930764898411,
          0.9834307589327719,
          0.9836872225758638,
          0.9864372196726859,
          0.9866383490429247,
          0.9921084316478714,
          0.9935291443902489,
          0.9935004649472097,
          0.9935034067129285,
          0.9935609768151803,
          0.9935610125764051,
          0.9935445260900162,
          0.9957521437610702,
          0.9958662374040164,
          0.996011599058252,
          0.9963826953906991,
          0.9964322847993382,
          0.9965502576003299,
          0.997667978669411,
          0.9977839230415274,
          0.9977537095795642,
          0.99765274661403,
          0.9976787076568305,
          0.9976657759715459,
          0.9976859761900119,
          0.9984142958853619,
          0.9984169405461539,
          0.9984393544246856,
          0.9984278150708449,
          0.998454394906399,
          0.9984728170401751,
          0.9988969657537575,
          0.9989215775376293,
          0.9989399817752247,
          0.9989603154475989,
          0.9989839073463822,
          0.9989972465609027,
          0.9989972657319621,
          0.9993536692623541,
          0.9993653854098065,
          0.9993629581827917,
          0.9993612450878769,
          0.9993978338026175,
          0.999450117811972,
          0.9995590839477732,
          0.9996303880592169,
          0.9996457486479561,
          0.9996629299344266,
          0.9996659551764324,
          0.9996959091736727,
          0.9997241906415405,
          0.9997708440062313,
          0.999898009800115,
          0.9998955560256297,
          0.9998889665191556,
          0.9998228338528372,
          0.9998003943521862,
          0.9999443301296091,
          1.0000229147242885,
          1.0000304885104858,
          1.000119242721965,
          1.0002533600928343,
          1.0004787317940023,
          1.0006097239575396,
          1.000783328924148,
          1.0009431586399167,
          1.0011405698052023,
          1.0012623067798256,
          1.001402817566798,
          1.0015645042438128,
          1.0017969756713678,
          1.0019294386748405,
          1.0020077635483593,
          1.002029891880484,
          1.0020346305104562,
          1.0020251577756896,
          1.0020185772205494,
          1.001800895153166,
          1.0018330099148882,
          1.0019236174872657,
          1.001945283928501,
          1.0021590023954763,
          1.002211456436775,
          1.0022420090200108,
          1.0021704852302442,
          1.002183635776459,
          1.0021722084791633,
          1.0021806568401856,
          1.0022240401641656,
          1.0022577129697063,
          1.0021008762149328,
          1.0021396642310143,
          1.0021751629971622,
          1.0022256546350459,
          1.0022655660875863,
          1.0036272712667578,
          1.0036582559231273,
          1.0036591989637627,
          1.0032295222745082,
          1.0032267479254582,
          1.0031015563157137,
          1.0031236686784577,
          1.003148639374516,
          1.00292936816792,
          1.0027156372956734,
          1.0027591118905113,
          1.0027893424153353,
          1.0028365542653854,
          1.0028510175397058,
          1.0028917735319094,
          1.0029278343874573,
          1.002762692166323,
          1.0027764777042054,
          1.0027595218796743,
          1.0027546310656847,
          1.0027289551228582,
          1.0027552237263033,
          1.0026499811518963,
          1.002667788706194,
          1.0026931199779647,
          1.002731734962799,
          1.0027669655226312,
          1.0027736062850447,
          1.0027785881412046,
          1.0033743405434505,
          1.00337374021558,
          1.0033749306502107,
          1.0033706794520891,
          1.0024985787165077,
          1.0024855066942582,
          1.0024929391600985,
          1.0024891982834776,
          1.00249246906627,
          1.0024780176497756,
          1.0026843447474791,
          1.0026844557995906,
          1.0026857765819723,
          1.0026697782754563,
          1.0026472614220514,
          1.0026643066733336,
          1.0026536328187097,
          1.0026571645271314,
          1.0026483065287384,
          1.002652285777248,
          1.0026153929640709,
          1.002569305908912,
          1.0026022072416148,
          1.0025974398604465,
          1.0026288672694401,
          1.0026648428370526,
          1.0025786552524651,
          1.0026613898588974,
          1.002700784906547,
          1.0028008150688164,
          1.0028228431462995,
          1.0028399715095313,
          1.002862951406606,
          1.0027813745083045,
          1.0027845767378998,
          1.0027953122757025,
          1.0027972647102477,
          1.0027942641473875,
          1.0024690522107744,
          1.0025204256547737,
          1.0025713921593493,
          1.0026319242563198,
          1.0026905303702207,
          1.0027491794896521,
          1.0027774450752887,
          1.0027892444610276,
          1.002788303715011,
          1.0027688871032152,
          1.0027994919608303,
          1.0028233081603106,
          1.0028225627247456,
          1.0028576320445066,
          1.0028905607272227,
          1.0029182927442974,
          1.0028832922083377,
          1.0029059416599322,
          1.0029264502986182,
          1.0029709790660255,
          1.003014063020562,
          1.0029581320245418,
          1.0030291068892923,
          1.003064488414184,
          1.003102496170459,
          1.003141603924184,
          1.0031936315611467,
          1.003237087017007,
          1.003262250639463,
          1.003279244361297,
          1.0033356553231412,
          1.0034700371879375,
          1.0034763334930477,
          1.003326620780438,
          1.0033575287390089,
          1.003385900184153,
          1.0034166064539207,
          1.0034839633289592,
          1.0034896373100493,
          1.0034935023259897,
          1.0034368458745755,
          1.0034647250762856,
          1.0034686275384488,
          1.0034931821277777,
          1.0035213679447401,
          1.0035546338753993,
          1.0035878726458174,
          1.0035588245531815,
          1.0035613334909559,
          1.0034711695473921,
          1.0034993348143142,
          1.0035272859548248,
          1.0035463611256494,
          1.003591133968662,
          1.0036069000736465,
          1.0036276323414495,
          1.003606041343919,
          1.0036095789093786,
          1.0036185584648065,
          1.0036246543838512,
          1.0036406050339584,
          1.0036485977391985,
          1.003657162733914,
          1.003654061751179,
          1.0036611804780908,
          1.0037099376772542,
          1.0037700481481118,
          1.0037662903804423,
          1.0037676397532176,
          1.0037398082721107,
          1.0037325080872221,
          1.0037365098419386,
          1.0037547420556854,
          1.0037313010188371,
          1.0037344526031244,
          1.003745176104554,
          1.0037883801013407,
          1.0037875516081138,
          1.0037232142550603,
          1.0037943912470302,
          1.003805918317548,
          1.0038093030623987,
          1.0038105265656192,
          1.003832713625683,
          1.0038455639339592,
          1.0038693037564534,
          1.003860014768305,
          1.0038948486550565,
          1.003893122703427,
          1.00394295681593,
          1.0039767000028237,
          1.0039751685078373,
          1.0039772139574525,
          1.004034426667791,
          1.0040436768671561,
          1.0040469833002388,
          1.0040668816458684,
          1.0040772270126415,
          1.004074043208023,
          1.0039678911595589,
          1.0039827145423246,
          1.0039432999771256,
          1.0039321919961381,
          1.003971072629309,
          1.0039044767005845,
          1.0039203998143427,
          1.0039516343339983,
          1.0039786720799095,
          1.0041018784863678,
          1.0043018343655734,
          1.0043035045366082,
          1.0043050359358998,
          1.0043116326655521,
          1.004365463845415,
          1.0042805669564459,
          1.0042885697172041,
          1.004320790546483,
          1.0043726396125656,
          1.0043827313055746,
          1.0044504373169458,
          1.0044701770882771,
          1.0044850154343183,
          1.004509184712718,
          1.0045174339523233,
          1.004520705515363,
          1.0045233950517585,
          1.0044922258851015,
          1.0044957534334333,
          1.0045004733373533,
          1.0045131539516052,
          1.0045307719611636,
          1.0045495339819925,
          1.0046303247625115,
          1.0046329558434097,
          1.004638077938618,
          1.00467315668129,
          1.004668626410469,
          1.0046680985703365,
          1.0046724552802726,
          1.004495846007578,
          1.0045444439170235,
          1.0045904624013013,
          1.0046832813101865,
          1.0047187316097956,
          1.0047719512268949,
          1.0048264753349532,
          1.0048894968531275,
          1.0049036303329746,
          1.0049232967159516,
          1.0049693933468873,
          1.0049771249130486,
          1.0049813035278319,
          1.0049145709297804,
          1.0049192983251678,
          1.0049453519670195,
          1.00494862188966,
          1.0049769303527019,
          1.0050143155471547,
          1.0050434298709514,
          1.0049129351222155,
          1.0049655034617262,
          1.0050075913761392,
          1.0050795545752855,
          1.0051174435148538,
          1.0052079022714409
         ],
         "yaxis": "y"
        },
        {
         "hovertemplate": "variable=nav_per_share<br>timestamp=%{x}<br>value=%{y}<extra></extra>",
         "legendgroup": "nav_per_share",
         "line": {
          "color": "#EF553B",
          "dash": "solid"
         },
         "marker": {
          "symbol": "circle"
         },
         "mode": "lines",
         "name": "nav_per_share",
         "orientation": "v",
         "showlegend": true,
         "type": "scatter",
         "x": [
          "2024-09-15T02:04:47+00:00",
          "2024-09-15T05:44:35+00:00",
          "2024-09-15T09:24:47+00:00",
          "2024-09-15T13:04:11+00:00",
          "2024-09-15T16:44:23+00:00",
          "2024-09-15T20:23:35+00:00",
          "2024-09-16T00:03:11+00:00",
          "2024-09-16T03:43:47+00:00",
          "2024-09-16T07:23:23+00:00",
          "2024-09-16T11:04:47+00:00",
          "2024-09-16T14:46:11+00:00",
          "2024-09-16T18:26:47+00:00",
          "2024-09-16T22:06:23+00:00",
          "2024-09-17T01:46:35+00:00",
          "2024-09-17T05:27:47+00:00",
          "2024-09-17T09:08:35+00:00",
          "2024-09-17T12:48:23+00:00",
          "2024-09-17T16:29:11+00:00",
          "2024-09-17T20:09:47+00:00",
          "2024-09-17T23:50:47+00:00",
          "2024-09-18T03:30:35+00:00",
          "2024-09-18T07:11:35+00:00",
          "2024-09-18T10:51:35+00:00",
          "2024-09-18T14:32:23+00:00",
          "2024-09-18T18:12:23+00:00",
          "2024-09-18T21:52:47+00:00",
          "2024-09-19T01:33:11+00:00",
          "2024-09-19T05:13:23+00:00",
          "2024-09-19T08:53:23+00:00",
          "2024-09-19T12:33:23+00:00",
          "2024-09-19T16:13:23+00:00",
          "2024-09-19T19:53:23+00:00",
          "2024-09-19T23:33:11+00:00",
          "2024-09-20T03:13:35+00:00",
          "2024-09-20T06:54:11+00:00",
          "2024-09-20T10:35:11+00:00",
          "2024-09-20T14:14:59+00:00",
          "2024-09-20T17:54:59+00:00",
          "2024-09-20T21:35:23+00:00",
          "2024-09-21T01:16:23+00:00",
          "2024-09-21T04:56:23+00:00",
          "2024-09-21T08:38:11+00:00",
          "2024-09-21T12:18:11+00:00",
          "2024-09-21T15:58:11+00:00",
          "2024-09-21T19:38:11+00:00",
          "2024-09-21T23:19:11+00:00",
          "2024-09-22T02:58:47+00:00",
          "2024-09-22T06:38:35+00:00",
          "2024-09-22T10:18:23+00:00",
          "2024-09-22T13:58:11+00:00",
          "2024-09-22T17:37:59+00:00",
          "2024-09-22T21:18:11+00:00",
          "2024-09-23T00:57:47+00:00",
          "2024-09-23T04:37:23+00:00",
          "2024-09-23T08:17:35+00:00",
          "2024-09-23T11:58:59+00:00",
          "2024-09-23T15:38:59+00:00",
          "2024-09-23T19:18:59+00:00",
          "2024-09-23T22:58:59+00:00",
          "2024-09-24T02:38:47+00:00",
          "2024-09-24T06:18:23+00:00",
          "2024-09-24T09:57:47+00:00",
          "2024-09-24T13:37:23+00:00",
          "2024-09-24T17:17:47+00:00",
          "2024-09-24T20:57:11+00:00",
          "2024-09-25T00:36:59+00:00",
          "2024-09-25T04:17:23+00:00",
          "2024-09-25T07:57:11+00:00",
          "2024-09-25T11:37:35+00:00",
          "2024-09-25T15:18:35+00:00",
          "2024-09-25T18:59:35+00:00",
          "2024-09-25T22:38:47+00:00",
          "2024-09-26T02:18:35+00:00",
          "2024-09-26T05:58:23+00:00",
          "2024-09-26T09:37:59+00:00",
          "2024-09-26T13:17:35+00:00",
          "2024-09-26T16:56:59+00:00",
          "2024-09-26T20:36:59+00:00",
          "2024-09-27T00:17:47+00:00",
          "2024-09-27T03:57:35+00:00",
          "2024-09-27T07:37:11+00:00",
          "2024-09-27T11:16:59+00:00",
          "2024-09-27T14:56:47+00:00",
          "2024-09-27T18:36:47+00:00",
          "2024-09-27T22:16:11+00:00",
          "2024-09-28T01:55:59+00:00",
          "2024-09-28T05:36:23+00:00",
          "2024-09-28T09:15:59+00:00",
          "2024-09-28T12:55:47+00:00",
          "2024-09-28T16:35:23+00:00",
          "2024-09-28T20:15:47+00:00",
          "2024-09-28T23:56:35+00:00",
          "2024-09-29T03:36:47+00:00",
          "2024-09-29T07:17:11+00:00",
          "2024-09-29T10:56:47+00:00",
          "2024-09-29T14:36:35+00:00",
          "2024-09-29T18:16:11+00:00",
          "2024-09-29T21:56:47+00:00",
          "2024-09-30T01:36:35+00:00",
          "2024-09-30T05:16:35+00:00",
          "2024-09-30T08:55:59+00:00",
          "2024-09-30T12:35:23+00:00",
          "2024-09-30T16:15:11+00:00",
          "2024-09-30T19:54:47+00:00",
          "2024-09-30T23:34:23+00:00",
          "2024-10-01T03:13:59+00:00",
          "2024-10-01T06:53:59+00:00",
          "2024-10-01T10:33:35+00:00",
          "2024-10-01T14:13:47+00:00",
          "2024-10-01T17:54:11+00:00",
          "2024-10-01T21:34:23+00:00",
          "2024-10-02T01:14:11+00:00",
          "2024-10-02T04:54:11+00:00",
          "2024-10-02T08:33:47+00:00",
          "2024-10-02T12:12:59+00:00",
          "2024-10-02T15:53:11+00:00",
          "2024-10-02T19:33:23+00:00",
          "2024-10-02T23:12:47+00:00",
          "2024-10-03T02:52:11+00:00",
          "2024-10-03T06:32:23+00:00",
          "2024-10-03T10:11:59+00:00",
          "2024-10-03T13:51:59+00:00",
          "2024-10-03T17:33:23+00:00",
          "2024-10-03T21:13:47+00:00",
          "2024-10-04T00:53:11+00:00",
          "2024-10-04T04:32:23+00:00",
          "2024-10-04T08:11:59+00:00",
          "2024-10-04T11:51:23+00:00",
          "2024-10-04T15:30:59+00:00",
          "2024-10-04T19:10:35+00:00",
          "2024-10-04T22:50:23+00:00",
          "2024-10-05T02:30:35+00:00",
          "2024-10-05T06:09:59+00:00",
          "2024-10-05T09:49:59+00:00",
          "2024-10-05T13:29:23+00:00",
          "2024-10-05T17:09:23+00:00",
          "2024-10-05T20:48:59+00:00",
          "2024-10-06T00:28:11+00:00",
          "2024-10-06T04:07:47+00:00",
          "2024-10-06T07:47:35+00:00",
          "2024-10-06T11:27:47+00:00",
          "2024-10-06T15:07:47+00:00",
          "2024-10-06T18:47:35+00:00",
          "2024-10-06T22:27:23+00:00",
          "2024-10-07T02:07:35+00:00",
          "2024-10-07T05:47:35+00:00",
          "2024-10-07T09:27:11+00:00",
          "2024-10-07T13:06:35+00:00",
          "2024-10-07T16:46:47+00:00",
          "2024-10-07T20:26:23+00:00",
          "2024-10-08T00:05:59+00:00",
          "2024-10-08T03:45:47+00:00",
          "2024-10-08T07:25:35+00:00",
          "2024-10-08T11:04:59+00:00",
          "2024-10-08T14:44:47+00:00",
          "2024-10-08T18:24:11+00:00",
          "2024-10-08T22:04:47+00:00",
          "2024-10-09T01:44:35+00:00",
          "2024-10-09T05:23:47+00:00",
          "2024-10-09T09:03:35+00:00",
          "2024-10-09T12:43:59+00:00",
          "2024-10-09T16:23:11+00:00",
          "2024-10-09T20:02:59+00:00",
          "2024-10-09T23:42:35+00:00",
          "2024-10-10T03:22:23+00:00",
          "2024-10-10T07:02:23+00:00",
          "2024-10-10T10:42:11+00:00",
          "2024-10-10T14:21:47+00:00",
          "2024-10-10T18:01:11+00:00",
          "2024-10-10T21:40:59+00:00",
          "2024-10-11T01:20:35+00:00",
          "2024-10-11T05:00:35+00:00",
          "2024-10-11T08:40:59+00:00",
          "2024-10-11T12:21:35+00:00",
          "2024-10-11T16:02:35+00:00",
          "2024-10-11T19:42:47+00:00",
          "2024-10-11T23:23:35+00:00",
          "2024-10-12T03:04:23+00:00",
          "2024-10-12T06:44:47+00:00",
          "2024-10-12T10:26:35+00:00",
          "2024-10-12T14:06:59+00:00",
          "2024-10-12T17:46:59+00:00",
          "2024-10-12T21:27:35+00:00",
          "2024-10-13T01:07:59+00:00",
          "2024-10-13T04:50:11+00:00",
          "2024-10-13T08:32:47+00:00",
          "2024-10-13T12:14:23+00:00",
          "2024-10-13T15:54:11+00:00",
          "2024-10-13T19:34:11+00:00",
          "2024-10-13T23:14:47+00:00",
          "2024-10-14T02:54:59+00:00",
          "2024-10-14T06:34:47+00:00",
          "2024-10-14T10:16:11+00:00",
          "2024-10-14T13:57:11+00:00",
          "2024-10-14T17:36:59+00:00",
          "2024-10-14T21:17:23+00:00",
          "2024-10-15T00:57:23+00:00",
          "2024-10-15T04:37:47+00:00",
          "2024-10-15T08:17:23+00:00",
          "2024-10-15T11:57:59+00:00",
          "2024-10-15T15:38:35+00:00",
          "2024-10-15T19:18:59+00:00",
          "2024-10-15T22:59:11+00:00",
          "2024-10-16T02:39:59+00:00",
          "2024-10-16T06:19:59+00:00",
          "2024-10-16T09:59:59+00:00",
          "2024-10-16T13:40:11+00:00",
          "2024-10-16T17:20:11+00:00",
          "2024-10-16T21:00:23+00:00",
          "2024-10-17T00:40:59+00:00",
          "2024-10-17T04:21:11+00:00",
          "2024-10-17T08:01:11+00:00",
          "2024-10-17T11:40:47+00:00",
          "2024-10-17T15:21:11+00:00",
          "2024-10-17T19:01:23+00:00",
          "2024-10-17T22:41:35+00:00",
          "2024-10-18T02:21:35+00:00",
          "2024-10-18T06:01:59+00:00",
          "2024-10-18T09:42:11+00:00",
          "2024-10-18T13:21:47+00:00",
          "2024-10-18T17:02:11+00:00",
          "2024-10-18T20:41:47+00:00",
          "2024-10-19T00:21:47+00:00",
          "2024-10-19T04:01:47+00:00",
          "2024-10-19T07:42:23+00:00",
          "2024-10-19T11:21:59+00:00",
          "2024-10-19T15:01:59+00:00",
          "2024-10-19T18:41:47+00:00",
          "2024-10-19T22:21:23+00:00",
          "2024-10-20T02:00:47+00:00",
          "2024-10-20T05:40:47+00:00",
          "2024-10-20T09:20:35+00:00",
          "2024-10-20T12:59:59+00:00",
          "2024-10-20T16:40:59+00:00",
          "2024-10-20T20:20:47+00:00",
          "2024-10-21T00:00:59+00:00",
          "2024-10-21T03:41:35+00:00",
          "2024-10-21T07:21:35+00:00",
          "2024-10-21T11:00:59+00:00",
          "2024-10-21T14:40:59+00:00",
          "2024-10-21T18:20:23+00:00",
          "2024-10-21T22:00:35+00:00",
          "2024-10-22T01:40:59+00:00",
          "2024-10-22T05:21:11+00:00",
          "2024-10-22T09:01:23+00:00",
          "2024-10-22T12:41:35+00:00",
          "2024-10-22T16:21:35+00:00",
          "2024-10-22T20:01:35+00:00",
          "2024-10-22T23:42:23+00:00",
          "2024-10-23T03:22:35+00:00",
          "2024-10-23T07:01:35+00:00",
          "2024-10-23T10:41:35+00:00",
          "2024-10-23T14:21:11+00:00",
          "2024-10-23T18:00:59+00:00",
          "2024-10-23T21:40:11+00:00",
          "2024-10-24T01:20:47+00:00",
          "2024-10-24T05:00:47+00:00",
          "2024-10-24T08:40:59+00:00",
          "2024-10-24T12:20:35+00:00",
          "2024-10-24T16:00:35+00:00",
          "2024-10-24T19:40:11+00:00",
          "2024-10-24T23:19:59+00:00",
          "2024-10-25T02:59:59+00:00",
          "2024-10-25T06:40:11+00:00",
          "2024-10-25T10:19:35+00:00",
          "2024-10-25T13:59:35+00:00",
          "2024-10-25T17:39:35+00:00",
          "2024-10-25T21:19:11+00:00",
          "2024-10-26T00:58:59+00:00",
          "2024-10-26T04:39:23+00:00",
          "2024-10-26T08:19:11+00:00",
          "2024-10-26T11:59:59+00:00",
          "2024-10-26T15:40:35+00:00",
          "2024-10-26T19:20:11+00:00",
          "2024-10-26T22:59:59+00:00",
          "2024-10-27T02:40:11+00:00",
          "2024-10-27T06:19:47+00:00",
          "2024-10-27T09:59:23+00:00",
          "2024-10-27T13:40:11+00:00",
          "2024-10-27T17:19:47+00:00",
          "2024-10-27T20:59:11+00:00",
          "2024-10-28T00:38:35+00:00",
          "2024-10-28T04:18:47+00:00",
          "2024-10-28T07:59:47+00:00",
          "2024-10-28T11:39:47+00:00",
          "2024-10-28T15:20:11+00:00",
          "2024-10-28T19:00:35+00:00",
          "2024-10-28T22:40:23+00:00",
          "2024-10-29T02:20:47+00:00",
          "2024-10-29T06:00:35+00:00",
          "2024-10-29T09:41:11+00:00",
          "2024-10-29T13:21:35+00:00",
          "2024-10-29T17:01:11+00:00",
          "2024-10-29T20:40:35+00:00",
          "2024-10-30T00:20:23+00:00",
          "2024-10-30T04:00:11+00:00",
          "2024-10-30T07:40:35+00:00",
          "2024-10-30T11:21:47+00:00",
          "2024-10-30T15:03:35+00:00",
          "2024-10-30T18:43:11+00:00",
          "2024-10-30T22:22:47+00:00",
          "2024-10-31T02:02:11+00:00",
          "2024-10-31T05:42:59+00:00",
          "2024-10-31T09:23:35+00:00",
          "2024-10-31T13:02:47+00:00",
          "2024-10-31T16:42:11+00:00",
          "2024-10-31T20:21:35+00:00",
          "2024-11-01T00:01:23+00:00",
          "2024-11-01T03:41:11+00:00",
          "2024-11-01T07:20:59+00:00",
          "2024-11-01T11:00:47+00:00",
          "2024-11-01T14:40:35+00:00",
          "2024-11-01T18:20:23+00:00",
          "2024-11-01T22:00:35+00:00",
          "2024-11-02T01:40:47+00:00",
          "2024-11-02T05:21:11+00:00",
          "2024-11-02T09:00:59+00:00",
          "2024-11-02T12:41:59+00:00",
          "2024-11-02T16:22:35+00:00",
          "2024-11-02T20:02:35+00:00",
          "2024-11-02T23:43:35+00:00",
          "2024-11-03T03:24:23+00:00",
          "2024-11-03T07:04:35+00:00",
          "2024-11-03T10:43:47+00:00",
          "2024-11-03T14:23:47+00:00",
          "2024-11-03T18:04:35+00:00",
          "2024-11-03T21:43:59+00:00",
          "2024-11-04T01:23:47+00:00",
          "2024-11-04T05:03:47+00:00",
          "2024-11-04T08:42:59+00:00",
          "2024-11-04T12:23:35+00:00",
          "2024-11-04T16:02:59+00:00",
          "2024-11-04T19:43:23+00:00",
          "2024-11-04T23:23:23+00:00",
          "2024-11-05T03:03:23+00:00",
          "2024-11-05T06:44:11+00:00",
          "2024-11-05T10:24:11+00:00",
          "2024-11-05T14:04:11+00:00",
          "2024-11-05T17:44:23+00:00",
          "2024-11-05T21:25:11+00:00",
          "2024-11-06T01:04:59+00:00",
          "2024-11-06T04:44:23+00:00",
          "2024-11-06T08:24:23+00:00",
          "2024-11-06T12:05:23+00:00",
          "2024-11-06T15:45:47+00:00"
         ],
         "xaxis": "x",
         "y": [
          1,
          1,
          1,
          1,
          1,
          1,
          1,
          1,
          1,
          1,
          1,
          1,
          0.9996679524715181,
          0.9996681439742615,
          0.9996681532433912,
          0.9995977991559629,
          0.9995993462120933,
          0.9995994140747689,
          0.9996004960943287,
          0.9994181029198835,
          0.9992957708952727,
          0.9992967261764708,
          0.9992967961304084,
          0.9992974777344883,
          0.9993008877838567,
          0.9992925502273796,
          0.9992925731857061,
          0.9992098111133189,
          0.9992098111133189,
          0.9992098817429462,
          0.9991768142758363,
          0.9991781046231296,
          0.9991663379502573,
          0.9991746443439156,
          0.9991797766958228,
          0.999185867402555,
          0.9991905208268935,
          0.9991681614962851,
          0.999129711258909,
          0.9991314282631526,
          0.9990886000366014,
          0.9990890767028838,
          0.9990902988607987,
          0.9990957856836696,
          0.9990980186319866,
          0.9991004135453426,
          0.9990839014755889,
          0.9990840380884836,
          0.9990844037505714,
          0.9990913629098396,
          0.9991140010016983,
          0.9991364759007794,
          0.9991546916793625,
          0.9991678117527157,
          0.9991809794630738,
          0.999195814584342,
          0.9991920751784535,
          0.9991974774987809,
          0.9992025959465534,
          0.9992048249697083,
          0.9991802436797588,
          0.9991802436797588,
          0.9991840788466664,
          0.9992015918002665,
          0.9992181718526962,
          0.9992347827218588,
          0.9992514486247372,
          0.9992680534233801,
          0.9992847041031665,
          0.9991238498943208,
          0.9991238592823342,
          0.9991238592900816,
          0.999124662741916,
          0.999125723751153,
          0.9991262817197128,
          0.9990868736226386,
          0.9990868736226386,
          0.9990869965805481,
          0.9991524277896862,
          0.9992878632380711,
          0.9994232121227982,
          0.9995584603736616,
          0.9996987118911009,
          0.9998411662979849,
          0.999981441062303,
          1.000121447504183,
          1.0002618754997887,
          1.0004018330011935,
          1.0005417494349271,
          1.000652046471345,
          1.0007621807240987,
          1.0007810160684991,
          1.0007474970319596,
          1.0007488435681406,
          1.000749119265338,
          1.00076719799706,
          1.0008027916652515,
          1.000835460520219,
          1.0008610839604322,
          1.000891355792947,
          1.0009128312767068,
          1.0009321073699062,
          1.0009500465456342,
          1.0009677394623129,
          1.000985396626434,
          1.0010038332872033,
          1.0010220122968072,
          1.0010386779296827,
          1.0010636018987387,
          1.0011092308299692,
          1.001154831879944,
          1.0012003542374026,
          1.0012459221621088,
          1.001291489823426,
          1.0013205228434052,
          1.0013424721802116,
          1.0013628302844555,
          1.001383115777433,
          1.0014009611379815,
          1.0014177561702688,
          1.0014170743883908,
          1.0014277792998758,
          1.0014583788342601,
          1.0014854580025672,
          1.0015124142874496,
          1.0015318963151543,
          1.001545179458853,
          1.001559059281981,
          1.001564460693897,
          1.0015660713635668,
          1.0015676279430983,
          1.0015708278217528,
          1.001575328095767,
          1.0015799224571822,
          1.001586871008463,
          1.0015971726242734,
          1.0016106586368798,
          1.0016272448178734,
          1.001643861816452,
          1.0016574175874915,
          1.0016690620780817,
          1.0016788347750503,
          1.001663881489189,
          1.0016639906074833,
          1.0016641629737328,
          1.0016643351834873,
          1.0016656814329998,
          1.0016716140605784,
          1.001676315869967,
          1.001648043682675,
          1.0016489470111178,
          1.001649921435014,
          1.0016508266158983,
          1.001651730151133,
          1.001652635335286,
          1.0016535388737837,
          1.0016536893094619,
          1.0016536893094619,
          1.001654546735044,
          1.001654546735044,
          1.001654546735044,
          1.001654546735044,
          1.0015548929073674,
          1.0015682281601923,
          1.0015851322955303,
          1.0016096694295082,
          1.0016368338162236,
          1.0016640442446654,
          1.0016934850372723,
          1.0017269634984403,
          1.001763534533217,
          1.0017915466401912,
          1.001811609643674,
          1.0018316839469945,
          1.0016672403000524,
          1.0016701841091666,
          1.0016770551821026,
          1.0016838252508642,
          1.0016877535580004,
          1.001691706849191,
          1.0017012500369205,
          1.0017523234495875,
          1.001803867549367,
          1.0018523003361905,
          1.0018970962176366,
          1.0019413301581312,
          1.0019680738547763,
          1.0019765804035246,
          1.0019765804035246,
          1.0019330407766416,
          1.0019623286442878,
          1.0019915627578555,
          1.0020209969961127,
          1.0020494934213933,
          1.0020778367226377,
          1.0021062590041474,
          1.0021201941757585,
          1.002135524714319,
          1.0021508000731545,
          1.002163669903922,
          1.0021761199831747,
          1.0021882188552456,
          1.0022126773474123,
          1.0022559167304836,
          1.0022976660271883,
          1.002338658403395,
          1.0023796914031553,
          1.002420701040853,
          1.0023739568852374,
          1.0023810958807755,
          1.0023888998670616,
          1.0023934578757945,
          1.0023980076385777,
          1.0024095646391713,
          1.0024403382826388,
          1.002471159190783,
          1.002501953998077,
          1.0025243874985423,
          1.0025301684199437,
          1.0025359336559134,
          1.002519263419397,
          1.0025463802803063,
          1.0025738512050117,
          1.0026034118579596,
          1.002634293281538,
          1.0026650366063095,
          1.002692192701097,
          1.0026946142881095,
          1.002697034278036,
          1.0027088538098368,
          1.0027282829376143,
          1.0027484638164916,
          1.0027686087795942,
          1.0027870411137783,
          1.0028034520279128,
          1.0028180428617721,
          1.0028188218260417,
          1.0028226990417644,
          1.0028265657131212,
          1.0028304540429975,
          1.0028343882018473,
          1.0028383390159918,
          1.0028421584844283,
          1.0028479045483905,
          1.0028549025610383,
          1.0028618991939144,
          1.002863182895554,
          1.0028631832505845,
          1.002862202422917,
          1.002862329122465,
          1.0028676651517288,
          1.0028730256035965,
          1.002878376366337,
          1.0028860686048453,
          1.002894518481988,
          1.0029030618991472,
          1.002903354652252,
          1.0029044752770384,
          1.0029086329932164,
          1.0029171280482616,
          1.002926965510153,
          1.002935919108994,
          1.0029446022968185,
          1.0029560288887738,
          1.0029674310620251,
          1.0029788646774742,
          1.002992956744921,
          1.0030093323661797,
          1.0030257168002092,
          1.0030390044210873,
          1.0030499552541075,
          1.0030609561496857,
          1.003071947321663,
          1.0030801727139542,
          1.0030882508501675,
          1.0030957980344795,
          1.0030738624301558,
          1.0030738624301558,
          1.0030738624301558,
          1.003078208029144,
          1.0030905266437324,
          1.0030037265620741,
          1.0030057985934495,
          1.0030344194026182,
          1.0030627965793162,
          1.0030878953022717,
          1.0031159129171627,
          1.0031439995113793,
          1.0031722794691555,
          1.003131194994814,
          1.003131194994814,
          1.003131194994814,
          1.003131194994814,
          1.0027177397565898,
          1.0025558306700117,
          1.0025558306700117,
          1.0025674077425337,
          1.0025813288834586,
          1.0025936597798992,
          1.002606627220416,
          1.0026199968853613,
          1.0026321436545111,
          1.0026442473137211,
          1.002650662288478,
          1.0026524201687366,
          1.0026524201687366,
          1.0026572561557956,
          1.0026639583133468,
          1.002670660560498,
          1.0026810957041232,
          1.002696639691255,
          1.0027121841603337,
          1.0027276063053085,
          1.0027421938331058,
          1.0027568282122064,
          1.002771435432168,
          1.0027729777192407,
          1.002773424899058,
          1.002773871269898,
          1.002799329528834,
          1.002846077348107,
          1.002892787214465,
          1.0029398776836242,
          1.0029882066984652,
          1.0030367167800218,
          1.003085265220395,
          1.0031037718289828,
          1.0031209972181137,
          1.0031382388733479,
          1.0031481530140096,
          1.0031543890095769,
          1.0031605911600379,
          1.0031729731165246,
          1.0031961080230611,
          1.0032192431133296,
          1.003242966507657,
          1.0032729363947988,
          1.0033029080725753,
          1.0033329087905698,
          1.0033729371104072,
          1.0034148732881991,
          1.0034567366450606,
          1.0034967167246949,
          1.0035347351702792,
          1.0035491739416322
         ],
         "yaxis": "y"
        }
       ],
       "layout": {
        "legend": {
         "title": {
          "text": "variable"
         },
         "tracegroupgap": 0
        },
        "margin": {
         "t": 60
        },
        "template": {
         "data": {
          "bar": [
           {
            "error_x": {
             "color": "#2a3f5f"
            },
            "error_y": {
             "color": "#2a3f5f"
            },
            "marker": {
             "line": {
              "color": "#E5ECF6",
              "width": 0.5
             },
             "pattern": {
              "fillmode": "overlay",
              "size": 10,
              "solidity": 0.2
             }
            },
            "type": "bar"
           }
          ],
          "barpolar": [
           {
            "marker": {
             "line": {
              "color": "#E5ECF6",
              "width": 0.5
             },
             "pattern": {
              "fillmode": "overlay",
              "size": 10,
              "solidity": 0.2
             }
            },
            "type": "barpolar"
           }
          ],
          "carpet": [
           {
            "aaxis": {
             "endlinecolor": "#2a3f5f",
             "gridcolor": "white",
             "linecolor": "white",
             "minorgridcolor": "white",
             "startlinecolor": "#2a3f5f"
            },
            "baxis": {
             "endlinecolor": "#2a3f5f",
             "gridcolor": "white",
             "linecolor": "white",
             "minorgridcolor": "white",
             "startlinecolor": "#2a3f5f"
            },
            "type": "carpet"
           }
          ],
          "choropleth": [
           {
            "colorbar": {
             "outlinewidth": 0,
             "ticks": ""
            },
            "type": "choropleth"
           }
          ],
          "contour": [
           {
            "colorbar": {
             "outlinewidth": 0,
             "ticks": ""
            },
            "colorscale": [
             [
              0,
              "#0d0887"
             ],
             [
              0.1111111111111111,
              "#46039f"
             ],
             [
              0.2222222222222222,
              "#7201a8"
             ],
             [
              0.3333333333333333,
              "#9c179e"
             ],
             [
              0.4444444444444444,
              "#bd3786"
             ],
             [
              0.5555555555555556,
              "#d8576b"
             ],
             [
              0.6666666666666666,
              "#ed7953"
             ],
             [
              0.7777777777777778,
              "#fb9f3a"
             ],
             [
              0.8888888888888888,
              "#fdca26"
             ],
             [
              1,
              "#f0f921"
             ]
            ],
            "type": "contour"
           }
          ],
          "contourcarpet": [
           {
            "colorbar": {
             "outlinewidth": 0,
             "ticks": ""
            },
            "type": "contourcarpet"
           }
          ],
          "heatmap": [
           {
            "colorbar": {
             "outlinewidth": 0,
             "ticks": ""
            },
            "colorscale": [
             [
              0,
              "#0d0887"
             ],
             [
              0.1111111111111111,
              "#46039f"
             ],
             [
              0.2222222222222222,
              "#7201a8"
             ],
             [
              0.3333333333333333,
              "#9c179e"
             ],
             [
              0.4444444444444444,
              "#bd3786"
             ],
             [
              0.5555555555555556,
              "#d8576b"
             ],
             [
              0.6666666666666666,
              "#ed7953"
             ],
             [
              0.7777777777777778,
              "#fb9f3a"
             ],
             [
              0.8888888888888888,
              "#fdca26"
             ],
             [
              1,
              "#f0f921"
             ]
            ],
            "type": "heatmap"
           }
          ],
          "heatmapgl": [
           {
            "colorbar": {
             "outlinewidth": 0,
             "ticks": ""
            },
            "colorscale": [
             [
              0,
              "#0d0887"
             ],
             [
              0.1111111111111111,
              "#46039f"
             ],
             [
              0.2222222222222222,
              "#7201a8"
             ],
             [
              0.3333333333333333,
              "#9c179e"
             ],
             [
              0.4444444444444444,
              "#bd3786"
             ],
             [
              0.5555555555555556,
              "#d8576b"
             ],
             [
              0.6666666666666666,
              "#ed7953"
             ],
             [
              0.7777777777777778,
              "#fb9f3a"
             ],
             [
              0.8888888888888888,
              "#fdca26"
             ],
             [
              1,
              "#f0f921"
             ]
            ],
            "type": "heatmapgl"
           }
          ],
          "histogram": [
           {
            "marker": {
             "pattern": {
              "fillmode": "overlay",
              "size": 10,
              "solidity": 0.2
             }
            },
            "type": "histogram"
           }
          ],
          "histogram2d": [
           {
            "colorbar": {
             "outlinewidth": 0,
             "ticks": ""
            },
            "colorscale": [
             [
              0,
              "#0d0887"
             ],
             [
              0.1111111111111111,
              "#46039f"
             ],
             [
              0.2222222222222222,
              "#7201a8"
             ],
             [
              0.3333333333333333,
              "#9c179e"
             ],
             [
              0.4444444444444444,
              "#bd3786"
             ],
             [
              0.5555555555555556,
              "#d8576b"
             ],
             [
              0.6666666666666666,
              "#ed7953"
             ],
             [
              0.7777777777777778,
              "#fb9f3a"
             ],
             [
              0.8888888888888888,
              "#fdca26"
             ],
             [
              1,
              "#f0f921"
             ]
            ],
            "type": "histogram2d"
           }
          ],
          "histogram2dcontour": [
           {
            "colorbar": {
             "outlinewidth": 0,
             "ticks": ""
            },
            "colorscale": [
             [
              0,
              "#0d0887"
             ],
             [
              0.1111111111111111,
              "#46039f"
             ],
             [
              0.2222222222222222,
              "#7201a8"
             ],
             [
              0.3333333333333333,
              "#9c179e"
             ],
             [
              0.4444444444444444,
              "#bd3786"
             ],
             [
              0.5555555555555556,
              "#d8576b"
             ],
             [
              0.6666666666666666,
              "#ed7953"
             ],
             [
              0.7777777777777778,
              "#fb9f3a"
             ],
             [
              0.8888888888888888,
              "#fdca26"
             ],
             [
              1,
              "#f0f921"
             ]
            ],
            "type": "histogram2dcontour"
           }
          ],
          "mesh3d": [
           {
            "colorbar": {
             "outlinewidth": 0,
             "ticks": ""
            },
            "type": "mesh3d"
           }
          ],
          "parcoords": [
           {
            "line": {
             "colorbar": {
              "outlinewidth": 0,
              "ticks": ""
             }
            },
            "type": "parcoords"
           }
          ],
          "pie": [
           {
            "automargin": true,
            "type": "pie"
           }
          ],
          "scatter": [
           {
            "fillpattern": {
             "fillmode": "overlay",
             "size": 10,
             "solidity": 0.2
            },
            "type": "scatter"
           }
          ],
          "scatter3d": [
           {
            "line": {
             "colorbar": {
              "outlinewidth": 0,
              "ticks": ""
             }
            },
            "marker": {
             "colorbar": {
              "outlinewidth": 0,
              "ticks": ""
             }
            },
            "type": "scatter3d"
           }
          ],
          "scattercarpet": [
           {
            "marker": {
             "colorbar": {
              "outlinewidth": 0,
              "ticks": ""
             }
            },
            "type": "scattercarpet"
           }
          ],
          "scattergeo": [
           {
            "marker": {
             "colorbar": {
              "outlinewidth": 0,
              "ticks": ""
             }
            },
            "type": "scattergeo"
           }
          ],
          "scattergl": [
           {
            "marker": {
             "colorbar": {
              "outlinewidth": 0,
              "ticks": ""
             }
            },
            "type": "scattergl"
           }
          ],
          "scattermapbox": [
           {
            "marker": {
             "colorbar": {
              "outlinewidth": 0,
              "ticks": ""
             }
            },
            "type": "scattermapbox"
           }
          ],
          "scatterpolar": [
           {
            "marker": {
             "colorbar": {
              "outlinewidth": 0,
              "ticks": ""
             }
            },
            "type": "scatterpolar"
           }
          ],
          "scatterpolargl": [
           {
            "marker": {
             "colorbar": {
              "outlinewidth": 0,
              "ticks": ""
             }
            },
            "type": "scatterpolargl"
           }
          ],
          "scatterternary": [
           {
            "marker": {
             "colorbar": {
              "outlinewidth": 0,
              "ticks": ""
             }
            },
            "type": "scatterternary"
           }
          ],
          "surface": [
           {
            "colorbar": {
             "outlinewidth": 0,
             "ticks": ""
            },
            "colorscale": [
             [
              0,
              "#0d0887"
             ],
             [
              0.1111111111111111,
              "#46039f"
             ],
             [
              0.2222222222222222,
              "#7201a8"
             ],
             [
              0.3333333333333333,
              "#9c179e"
             ],
             [
              0.4444444444444444,
              "#bd3786"
             ],
             [
              0.5555555555555556,
              "#d8576b"
             ],
             [
              0.6666666666666666,
              "#ed7953"
             ],
             [
              0.7777777777777778,
              "#fb9f3a"
             ],
             [
              0.8888888888888888,
              "#fdca26"
             ],
             [
              1,
              "#f0f921"
             ]
            ],
            "type": "surface"
           }
          ],
          "table": [
           {
            "cells": {
             "fill": {
              "color": "#EBF0F8"
             },
             "line": {
              "color": "white"
             }
            },
            "header": {
             "fill": {
              "color": "#C8D4E3"
             },
             "line": {
              "color": "white"
             }
            },
            "type": "table"
           }
          ]
         },
         "layout": {
          "annotationdefaults": {
           "arrowcolor": "#2a3f5f",
           "arrowhead": 0,
           "arrowwidth": 1
          },
          "autotypenumbers": "strict",
          "coloraxis": {
           "colorbar": {
            "outlinewidth": 0,
            "ticks": ""
           }
          },
          "colorscale": {
           "diverging": [
            [
             0,
             "#8e0152"
            ],
            [
             0.1,
             "#c51b7d"
            ],
            [
             0.2,
             "#de77ae"
            ],
            [
             0.3,
             "#f1b6da"
            ],
            [
             0.4,
             "#fde0ef"
            ],
            [
             0.5,
             "#f7f7f7"
            ],
            [
             0.6,
             "#e6f5d0"
            ],
            [
             0.7,
             "#b8e186"
            ],
            [
             0.8,
             "#7fbc41"
            ],
            [
             0.9,
             "#4d9221"
            ],
            [
             1,
             "#276419"
            ]
           ],
           "sequential": [
            [
             0,
             "#0d0887"
            ],
            [
             0.1111111111111111,
             "#46039f"
            ],
            [
             0.2222222222222222,
             "#7201a8"
            ],
            [
             0.3333333333333333,
             "#9c179e"
            ],
            [
             0.4444444444444444,
             "#bd3786"
            ],
            [
             0.5555555555555556,
             "#d8576b"
            ],
            [
             0.6666666666666666,
             "#ed7953"
            ],
            [
             0.7777777777777778,
             "#fb9f3a"
            ],
            [
             0.8888888888888888,
             "#fdca26"
            ],
            [
             1,
             "#f0f921"
            ]
           ],
           "sequentialminus": [
            [
             0,
             "#0d0887"
            ],
            [
             0.1111111111111111,
             "#46039f"
            ],
            [
             0.2222222222222222,
             "#7201a8"
            ],
            [
             0.3333333333333333,
             "#9c179e"
            ],
            [
             0.4444444444444444,
             "#bd3786"
            ],
            [
             0.5555555555555556,
             "#d8576b"
            ],
            [
             0.6666666666666666,
             "#ed7953"
            ],
            [
             0.7777777777777778,
             "#fb9f3a"
            ],
            [
             0.8888888888888888,
             "#fdca26"
            ],
            [
             1,
             "#f0f921"
            ]
           ]
          },
          "colorway": [
           "#636efa",
           "#EF553B",
           "#00cc96",
           "#ab63fa",
           "#FFA15A",
           "#19d3f3",
           "#FF6692",
           "#B6E880",
           "#FF97FF",
           "#FECB52"
          ],
          "font": {
           "color": "#2a3f5f"
          },
          "geo": {
           "bgcolor": "white",
           "lakecolor": "white",
           "landcolor": "#E5ECF6",
           "showlakes": true,
           "showland": true,
           "subunitcolor": "white"
          },
          "hoverlabel": {
           "align": "left"
          },
          "hovermode": "closest",
          "mapbox": {
           "style": "light"
          },
          "paper_bgcolor": "white",
          "plot_bgcolor": "#E5ECF6",
          "polar": {
           "angularaxis": {
            "gridcolor": "white",
            "linecolor": "white",
            "ticks": ""
           },
           "bgcolor": "#E5ECF6",
           "radialaxis": {
            "gridcolor": "white",
            "linecolor": "white",
            "ticks": ""
           }
          },
          "scene": {
           "xaxis": {
            "backgroundcolor": "#E5ECF6",
            "gridcolor": "white",
            "gridwidth": 2,
            "linecolor": "white",
            "showbackground": true,
            "ticks": "",
            "zerolinecolor": "white"
           },
           "yaxis": {
            "backgroundcolor": "#E5ECF6",
            "gridcolor": "white",
            "gridwidth": 2,
            "linecolor": "white",
            "showbackground": true,
            "ticks": "",
            "zerolinecolor": "white"
           },
           "zaxis": {
            "backgroundcolor": "#E5ECF6",
            "gridcolor": "white",
            "gridwidth": 2,
            "linecolor": "white",
            "showbackground": true,
            "ticks": "",
            "zerolinecolor": "white"
           }
          },
          "shapedefaults": {
           "line": {
            "color": "#2a3f5f"
           }
          },
          "ternary": {
           "aaxis": {
            "gridcolor": "white",
            "linecolor": "white",
            "ticks": ""
           },
           "baxis": {
            "gridcolor": "white",
            "linecolor": "white",
            "ticks": ""
           },
           "bgcolor": "#E5ECF6",
           "caxis": {
            "gridcolor": "white",
            "linecolor": "white",
            "ticks": ""
           }
          },
          "title": {
           "x": 0.05
          },
          "xaxis": {
           "automargin": true,
           "gridcolor": "white",
           "linecolor": "white",
           "ticks": "",
           "title": {
            "standoff": 15
           },
           "zerolinecolor": "white",
           "zerolinewidth": 2
          },
          "yaxis": {
           "automargin": true,
           "gridcolor": "white",
           "linecolor": "white",
           "ticks": "",
           "title": {
            "standoff": 15
           },
           "zerolinecolor": "white",
           "zerolinewidth": 2
          }
         }
        },
        "xaxis": {
         "anchor": "y",
         "domain": [
          0,
          1
         ],
         "title": {
          "text": "timestamp"
         }
        },
        "yaxis": {
         "anchor": "x",
         "domain": [
          0,
          1
         ],
         "title": {
          "text": "value"
         }
        }
       }
      }
     },
     "metadata": {},
     "output_type": "display_data"
    }
   ],
   "source": [
    "nav_df = discount_allocation_df[['nav_per_share_if_no_discount']].copy()\n",
    "nav_df['nav_per_share'] = nav_per_share_df['balETH']\n",
    "px.line(nav_df)"
   ]
  },
  {
   "cell_type": "markdown",
   "metadata": {},
   "source": [
    "this makes me think it is an error, or we held mostly somethin gtrading at a preimum on the 17th"
   ]
  },
  {
   "cell_type": "code",
   "execution_count": 32,
   "metadata": {},
   "outputs": [
    {
     "data": {
      "application/vnd.plotly.v1+json": {
       "config": {
        "plotlyServerURL": "https://plot.ly"
       },
       "data": [
        {
         "hovertemplate": "variable=less discount<br>timestamp=%{x}<br>value=%{y}<extra></extra>",
         "legendgroup": "less discount",
         "line": {
          "color": "#636efa",
          "dash": "solid"
         },
         "marker": {
          "symbol": "circle"
         },
         "mode": "lines",
         "name": "less discount",
         "orientation": "v",
         "showlegend": true,
         "type": "scatter",
         "x": [
          "2024-09-16T00:03:11+00:00",
          "2024-09-16T03:43:47+00:00",
          "2024-09-16T07:23:23+00:00",
          "2024-09-16T11:04:47+00:00",
          "2024-09-16T14:46:11+00:00",
          "2024-09-16T18:26:47+00:00",
          "2024-09-16T22:06:23+00:00",
          "2024-09-17T01:46:35+00:00",
          "2024-09-17T05:27:47+00:00",
          "2024-09-17T09:08:35+00:00",
          "2024-09-17T12:48:23+00:00",
          "2024-09-17T16:29:11+00:00",
          "2024-09-17T20:09:47+00:00",
          "2024-09-17T23:50:47+00:00",
          "2024-09-18T03:30:35+00:00",
          "2024-09-18T07:11:35+00:00",
          "2024-09-18T10:51:35+00:00",
          "2024-09-18T14:32:23+00:00",
          "2024-09-18T18:12:23+00:00",
          "2024-09-18T21:52:47+00:00",
          "2024-09-19T01:33:11+00:00",
          "2024-09-19T05:13:23+00:00",
          "2024-09-19T08:53:23+00:00",
          "2024-09-19T12:33:23+00:00",
          "2024-09-19T16:13:23+00:00",
          "2024-09-19T19:53:23+00:00",
          "2024-09-19T23:33:11+00:00"
         ],
         "xaxis": "x",
         "y": [
          0,
          0,
          0,
          0,
          0,
          0,
          0,
          0,
          0,
          110.93,
          110.93,
          119.16,
          119.18,
          119.18,
          119.18,
          119.18,
          119.18,
          124.7,
          124.7,
          124.67,
          124.66,
          124.66,
          124.66,
          124.66,
          128.36,
          128.4,
          128.4
         ],
         "yaxis": "y"
        },
        {
         "hovertemplate": "variable=with_discount<br>timestamp=%{x}<br>value=%{y}<extra></extra>",
         "legendgroup": "with_discount",
         "line": {
          "color": "#EF553B",
          "dash": "solid"
         },
         "marker": {
          "symbol": "circle"
         },
         "mode": "lines",
         "name": "with_discount",
         "orientation": "v",
         "showlegend": true,
         "type": "scatter",
         "x": [
          "2024-09-16T00:03:11+00:00",
          "2024-09-16T03:43:47+00:00",
          "2024-09-16T07:23:23+00:00",
          "2024-09-16T11:04:47+00:00",
          "2024-09-16T14:46:11+00:00",
          "2024-09-16T18:26:47+00:00",
          "2024-09-16T22:06:23+00:00",
          "2024-09-17T01:46:35+00:00",
          "2024-09-17T05:27:47+00:00",
          "2024-09-17T09:08:35+00:00",
          "2024-09-17T12:48:23+00:00",
          "2024-09-17T16:29:11+00:00",
          "2024-09-17T20:09:47+00:00",
          "2024-09-17T23:50:47+00:00",
          "2024-09-18T03:30:35+00:00",
          "2024-09-18T07:11:35+00:00",
          "2024-09-18T10:51:35+00:00",
          "2024-09-18T14:32:23+00:00",
          "2024-09-18T18:12:23+00:00",
          "2024-09-18T21:52:47+00:00",
          "2024-09-19T01:33:11+00:00",
          "2024-09-19T05:13:23+00:00",
          "2024-09-19T08:53:23+00:00",
          "2024-09-19T12:33:23+00:00",
          "2024-09-19T16:13:23+00:00",
          "2024-09-19T19:53:23+00:00",
          "2024-09-19T23:33:11+00:00"
         ],
         "xaxis": "x",
         "y": [
          0,
          0,
          0,
          0,
          0,
          0,
          0,
          0,
          0,
          135.82,
          135.83,
          135.83,
          135.79,
          135.79,
          135.79,
          135.79,
          135.79,
          135.8,
          135.8,
          135.85,
          135.85,
          135.85,
          135.85,
          135.85,
          135.85,
          135.81,
          135.81
         ],
         "yaxis": "y"
        }
       ],
       "layout": {
        "legend": {
         "title": {
          "text": "variable"
         },
         "tracegroupgap": 0
        },
        "template": {
         "data": {
          "bar": [
           {
            "error_x": {
             "color": "#2a3f5f"
            },
            "error_y": {
             "color": "#2a3f5f"
            },
            "marker": {
             "line": {
              "color": "#E5ECF6",
              "width": 0.5
             },
             "pattern": {
              "fillmode": "overlay",
              "size": 10,
              "solidity": 0.2
             }
            },
            "type": "bar"
           }
          ],
          "barpolar": [
           {
            "marker": {
             "line": {
              "color": "#E5ECF6",
              "width": 0.5
             },
             "pattern": {
              "fillmode": "overlay",
              "size": 10,
              "solidity": 0.2
             }
            },
            "type": "barpolar"
           }
          ],
          "carpet": [
           {
            "aaxis": {
             "endlinecolor": "#2a3f5f",
             "gridcolor": "white",
             "linecolor": "white",
             "minorgridcolor": "white",
             "startlinecolor": "#2a3f5f"
            },
            "baxis": {
             "endlinecolor": "#2a3f5f",
             "gridcolor": "white",
             "linecolor": "white",
             "minorgridcolor": "white",
             "startlinecolor": "#2a3f5f"
            },
            "type": "carpet"
           }
          ],
          "choropleth": [
           {
            "colorbar": {
             "outlinewidth": 0,
             "ticks": ""
            },
            "type": "choropleth"
           }
          ],
          "contour": [
           {
            "colorbar": {
             "outlinewidth": 0,
             "ticks": ""
            },
            "colorscale": [
             [
              0,
              "#0d0887"
             ],
             [
              0.1111111111111111,
              "#46039f"
             ],
             [
              0.2222222222222222,
              "#7201a8"
             ],
             [
              0.3333333333333333,
              "#9c179e"
             ],
             [
              0.4444444444444444,
              "#bd3786"
             ],
             [
              0.5555555555555556,
              "#d8576b"
             ],
             [
              0.6666666666666666,
              "#ed7953"
             ],
             [
              0.7777777777777778,
              "#fb9f3a"
             ],
             [
              0.8888888888888888,
              "#fdca26"
             ],
             [
              1,
              "#f0f921"
             ]
            ],
            "type": "contour"
           }
          ],
          "contourcarpet": [
           {
            "colorbar": {
             "outlinewidth": 0,
             "ticks": ""
            },
            "type": "contourcarpet"
           }
          ],
          "heatmap": [
           {
            "colorbar": {
             "outlinewidth": 0,
             "ticks": ""
            },
            "colorscale": [
             [
              0,
              "#0d0887"
             ],
             [
              0.1111111111111111,
              "#46039f"
             ],
             [
              0.2222222222222222,
              "#7201a8"
             ],
             [
              0.3333333333333333,
              "#9c179e"
             ],
             [
              0.4444444444444444,
              "#bd3786"
             ],
             [
              0.5555555555555556,
              "#d8576b"
             ],
             [
              0.6666666666666666,
              "#ed7953"
             ],
             [
              0.7777777777777778,
              "#fb9f3a"
             ],
             [
              0.8888888888888888,
              "#fdca26"
             ],
             [
              1,
              "#f0f921"
             ]
            ],
            "type": "heatmap"
           }
          ],
          "heatmapgl": [
           {
            "colorbar": {
             "outlinewidth": 0,
             "ticks": ""
            },
            "colorscale": [
             [
              0,
              "#0d0887"
             ],
             [
              0.1111111111111111,
              "#46039f"
             ],
             [
              0.2222222222222222,
              "#7201a8"
             ],
             [
              0.3333333333333333,
              "#9c179e"
             ],
             [
              0.4444444444444444,
              "#bd3786"
             ],
             [
              0.5555555555555556,
              "#d8576b"
             ],
             [
              0.6666666666666666,
              "#ed7953"
             ],
             [
              0.7777777777777778,
              "#fb9f3a"
             ],
             [
              0.8888888888888888,
              "#fdca26"
             ],
             [
              1,
              "#f0f921"
             ]
            ],
            "type": "heatmapgl"
           }
          ],
          "histogram": [
           {
            "marker": {
             "pattern": {
              "fillmode": "overlay",
              "size": 10,
              "solidity": 0.2
             }
            },
            "type": "histogram"
           }
          ],
          "histogram2d": [
           {
            "colorbar": {
             "outlinewidth": 0,
             "ticks": ""
            },
            "colorscale": [
             [
              0,
              "#0d0887"
             ],
             [
              0.1111111111111111,
              "#46039f"
             ],
             [
              0.2222222222222222,
              "#7201a8"
             ],
             [
              0.3333333333333333,
              "#9c179e"
             ],
             [
              0.4444444444444444,
              "#bd3786"
             ],
             [
              0.5555555555555556,
              "#d8576b"
             ],
             [
              0.6666666666666666,
              "#ed7953"
             ],
             [
              0.7777777777777778,
              "#fb9f3a"
             ],
             [
              0.8888888888888888,
              "#fdca26"
             ],
             [
              1,
              "#f0f921"
             ]
            ],
            "type": "histogram2d"
           }
          ],
          "histogram2dcontour": [
           {
            "colorbar": {
             "outlinewidth": 0,
             "ticks": ""
            },
            "colorscale": [
             [
              0,
              "#0d0887"
             ],
             [
              0.1111111111111111,
              "#46039f"
             ],
             [
              0.2222222222222222,
              "#7201a8"
             ],
             [
              0.3333333333333333,
              "#9c179e"
             ],
             [
              0.4444444444444444,
              "#bd3786"
             ],
             [
              0.5555555555555556,
              "#d8576b"
             ],
             [
              0.6666666666666666,
              "#ed7953"
             ],
             [
              0.7777777777777778,
              "#fb9f3a"
             ],
             [
              0.8888888888888888,
              "#fdca26"
             ],
             [
              1,
              "#f0f921"
             ]
            ],
            "type": "histogram2dcontour"
           }
          ],
          "mesh3d": [
           {
            "colorbar": {
             "outlinewidth": 0,
             "ticks": ""
            },
            "type": "mesh3d"
           }
          ],
          "parcoords": [
           {
            "line": {
             "colorbar": {
              "outlinewidth": 0,
              "ticks": ""
             }
            },
            "type": "parcoords"
           }
          ],
          "pie": [
           {
            "automargin": true,
            "type": "pie"
           }
          ],
          "scatter": [
           {
            "fillpattern": {
             "fillmode": "overlay",
             "size": 10,
             "solidity": 0.2
            },
            "type": "scatter"
           }
          ],
          "scatter3d": [
           {
            "line": {
             "colorbar": {
              "outlinewidth": 0,
              "ticks": ""
             }
            },
            "marker": {
             "colorbar": {
              "outlinewidth": 0,
              "ticks": ""
             }
            },
            "type": "scatter3d"
           }
          ],
          "scattercarpet": [
           {
            "marker": {
             "colorbar": {
              "outlinewidth": 0,
              "ticks": ""
             }
            },
            "type": "scattercarpet"
           }
          ],
          "scattergeo": [
           {
            "marker": {
             "colorbar": {
              "outlinewidth": 0,
              "ticks": ""
             }
            },
            "type": "scattergeo"
           }
          ],
          "scattergl": [
           {
            "marker": {
             "colorbar": {
              "outlinewidth": 0,
              "ticks": ""
             }
            },
            "type": "scattergl"
           }
          ],
          "scattermapbox": [
           {
            "marker": {
             "colorbar": {
              "outlinewidth": 0,
              "ticks": ""
             }
            },
            "type": "scattermapbox"
           }
          ],
          "scatterpolar": [
           {
            "marker": {
             "colorbar": {
              "outlinewidth": 0,
              "ticks": ""
             }
            },
            "type": "scatterpolar"
           }
          ],
          "scatterpolargl": [
           {
            "marker": {
             "colorbar": {
              "outlinewidth": 0,
              "ticks": ""
             }
            },
            "type": "scatterpolargl"
           }
          ],
          "scatterternary": [
           {
            "marker": {
             "colorbar": {
              "outlinewidth": 0,
              "ticks": ""
             }
            },
            "type": "scatterternary"
           }
          ],
          "surface": [
           {
            "colorbar": {
             "outlinewidth": 0,
             "ticks": ""
            },
            "colorscale": [
             [
              0,
              "#0d0887"
             ],
             [
              0.1111111111111111,
              "#46039f"
             ],
             [
              0.2222222222222222,
              "#7201a8"
             ],
             [
              0.3333333333333333,
              "#9c179e"
             ],
             [
              0.4444444444444444,
              "#bd3786"
             ],
             [
              0.5555555555555556,
              "#d8576b"
             ],
             [
              0.6666666666666666,
              "#ed7953"
             ],
             [
              0.7777777777777778,
              "#fb9f3a"
             ],
             [
              0.8888888888888888,
              "#fdca26"
             ],
             [
              1,
              "#f0f921"
             ]
            ],
            "type": "surface"
           }
          ],
          "table": [
           {
            "cells": {
             "fill": {
              "color": "#EBF0F8"
             },
             "line": {
              "color": "white"
             }
            },
            "header": {
             "fill": {
              "color": "#C8D4E3"
             },
             "line": {
              "color": "white"
             }
            },
            "type": "table"
           }
          ]
         },
         "layout": {
          "annotationdefaults": {
           "arrowcolor": "#2a3f5f",
           "arrowhead": 0,
           "arrowwidth": 1
          },
          "autotypenumbers": "strict",
          "coloraxis": {
           "colorbar": {
            "outlinewidth": 0,
            "ticks": ""
           }
          },
          "colorscale": {
           "diverging": [
            [
             0,
             "#8e0152"
            ],
            [
             0.1,
             "#c51b7d"
            ],
            [
             0.2,
             "#de77ae"
            ],
            [
             0.3,
             "#f1b6da"
            ],
            [
             0.4,
             "#fde0ef"
            ],
            [
             0.5,
             "#f7f7f7"
            ],
            [
             0.6,
             "#e6f5d0"
            ],
            [
             0.7,
             "#b8e186"
            ],
            [
             0.8,
             "#7fbc41"
            ],
            [
             0.9,
             "#4d9221"
            ],
            [
             1,
             "#276419"
            ]
           ],
           "sequential": [
            [
             0,
             "#0d0887"
            ],
            [
             0.1111111111111111,
             "#46039f"
            ],
            [
             0.2222222222222222,
             "#7201a8"
            ],
            [
             0.3333333333333333,
             "#9c179e"
            ],
            [
             0.4444444444444444,
             "#bd3786"
            ],
            [
             0.5555555555555556,
             "#d8576b"
            ],
            [
             0.6666666666666666,
             "#ed7953"
            ],
            [
             0.7777777777777778,
             "#fb9f3a"
            ],
            [
             0.8888888888888888,
             "#fdca26"
            ],
            [
             1,
             "#f0f921"
            ]
           ],
           "sequentialminus": [
            [
             0,
             "#0d0887"
            ],
            [
             0.1111111111111111,
             "#46039f"
            ],
            [
             0.2222222222222222,
             "#7201a8"
            ],
            [
             0.3333333333333333,
             "#9c179e"
            ],
            [
             0.4444444444444444,
             "#bd3786"
            ],
            [
             0.5555555555555556,
             "#d8576b"
            ],
            [
             0.6666666666666666,
             "#ed7953"
            ],
            [
             0.7777777777777778,
             "#fb9f3a"
            ],
            [
             0.8888888888888888,
             "#fdca26"
            ],
            [
             1,
             "#f0f921"
            ]
           ]
          },
          "colorway": [
           "#636efa",
           "#EF553B",
           "#00cc96",
           "#ab63fa",
           "#FFA15A",
           "#19d3f3",
           "#FF6692",
           "#B6E880",
           "#FF97FF",
           "#FECB52"
          ],
          "font": {
           "color": "#2a3f5f"
          },
          "geo": {
           "bgcolor": "white",
           "lakecolor": "white",
           "landcolor": "#E5ECF6",
           "showlakes": true,
           "showland": true,
           "subunitcolor": "white"
          },
          "hoverlabel": {
           "align": "left"
          },
          "hovermode": "closest",
          "mapbox": {
           "style": "light"
          },
          "paper_bgcolor": "white",
          "plot_bgcolor": "#E5ECF6",
          "polar": {
           "angularaxis": {
            "gridcolor": "white",
            "linecolor": "white",
            "ticks": ""
           },
           "bgcolor": "#E5ECF6",
           "radialaxis": {
            "gridcolor": "white",
            "linecolor": "white",
            "ticks": ""
           }
          },
          "scene": {
           "xaxis": {
            "backgroundcolor": "#E5ECF6",
            "gridcolor": "white",
            "gridwidth": 2,
            "linecolor": "white",
            "showbackground": true,
            "ticks": "",
            "zerolinecolor": "white"
           },
           "yaxis": {
            "backgroundcolor": "#E5ECF6",
            "gridcolor": "white",
            "gridwidth": 2,
            "linecolor": "white",
            "showbackground": true,
            "ticks": "",
            "zerolinecolor": "white"
           },
           "zaxis": {
            "backgroundcolor": "#E5ECF6",
            "gridcolor": "white",
            "gridwidth": 2,
            "linecolor": "white",
            "showbackground": true,
            "ticks": "",
            "zerolinecolor": "white"
           }
          },
          "shapedefaults": {
           "line": {
            "color": "#2a3f5f"
           }
          },
          "ternary": {
           "aaxis": {
            "gridcolor": "white",
            "linecolor": "white",
            "ticks": ""
           },
           "baxis": {
            "gridcolor": "white",
            "linecolor": "white",
            "ticks": ""
           },
           "bgcolor": "#E5ECF6",
           "caxis": {
            "gridcolor": "white",
            "linecolor": "white",
            "ticks": ""
           }
          },
          "title": {
           "x": 0.05
          },
          "xaxis": {
           "automargin": true,
           "gridcolor": "white",
           "linecolor": "white",
           "ticks": "",
           "title": {
            "standoff": 15
           },
           "zerolinecolor": "white",
           "zerolinewidth": 2
          },
          "yaxis": {
           "automargin": true,
           "gridcolor": "white",
           "linecolor": "white",
           "ticks": "",
           "title": {
            "standoff": 15
           },
           "zerolinecolor": "white",
           "zerolinewidth": 2
          }
         }
        },
        "title": {
         "text": "ECLP-wstETH-wETH (balancer)"
        },
        "xaxis": {
         "anchor": "y",
         "domain": [
          0,
          1
         ],
         "title": {
          "text": "timestamp"
         }
        },
        "yaxis": {
         "anchor": "x",
         "domain": [
          0,
          1
         ],
         "title": {
          "text": "value"
         }
        }
       }
      }
     },
     "metadata": {},
     "output_type": "display_data"
    },
    {
     "data": {
      "application/vnd.plotly.v1+json": {
       "config": {
        "plotlyServerURL": "https://plot.ly"
       },
       "data": [
        {
         "hovertemplate": "variable=less discount<br>timestamp=%{x}<br>value=%{y}<extra></extra>",
         "legendgroup": "less discount",
         "line": {
          "color": "#636efa",
          "dash": "solid"
         },
         "marker": {
          "symbol": "circle"
         },
         "mode": "lines",
         "name": "less discount",
         "orientation": "v",
         "showlegend": true,
         "type": "scatter",
         "x": [
          "2024-09-16T00:03:11+00:00",
          "2024-09-16T03:43:47+00:00",
          "2024-09-16T07:23:23+00:00",
          "2024-09-16T11:04:47+00:00",
          "2024-09-16T14:46:11+00:00",
          "2024-09-16T18:26:47+00:00",
          "2024-09-16T22:06:23+00:00",
          "2024-09-17T01:46:35+00:00",
          "2024-09-17T05:27:47+00:00",
          "2024-09-17T09:08:35+00:00",
          "2024-09-17T12:48:23+00:00",
          "2024-09-17T16:29:11+00:00",
          "2024-09-17T20:09:47+00:00",
          "2024-09-17T23:50:47+00:00",
          "2024-09-18T03:30:35+00:00",
          "2024-09-18T07:11:35+00:00",
          "2024-09-18T10:51:35+00:00",
          "2024-09-18T14:32:23+00:00",
          "2024-09-18T18:12:23+00:00",
          "2024-09-18T21:52:47+00:00",
          "2024-09-19T01:33:11+00:00",
          "2024-09-19T05:13:23+00:00",
          "2024-09-19T08:53:23+00:00",
          "2024-09-19T12:33:23+00:00",
          "2024-09-19T16:13:23+00:00",
          "2024-09-19T19:53:23+00:00",
          "2024-09-19T23:33:11+00:00"
         ],
         "xaxis": "x",
         "y": [
          0,
          0,
          0,
          0,
          0,
          0,
          0,
          0,
          0,
          0,
          0,
          0,
          0,
          0,
          190.64,
          190.64,
          190.64,
          190.64,
          447.9,
          447.91,
          447.91,
          723.39,
          723.39,
          723.39,
          936.44,
          936.45,
          936.42
         ],
         "yaxis": "y"
        },
        {
         "hovertemplate": "variable=with_discount<br>timestamp=%{x}<br>value=%{y}<extra></extra>",
         "legendgroup": "with_discount",
         "line": {
          "color": "#EF553B",
          "dash": "solid"
         },
         "marker": {
          "symbol": "circle"
         },
         "mode": "lines",
         "name": "with_discount",
         "orientation": "v",
         "showlegend": true,
         "type": "scatter",
         "x": [
          "2024-09-16T00:03:11+00:00",
          "2024-09-16T03:43:47+00:00",
          "2024-09-16T07:23:23+00:00",
          "2024-09-16T11:04:47+00:00",
          "2024-09-16T14:46:11+00:00",
          "2024-09-16T18:26:47+00:00",
          "2024-09-16T22:06:23+00:00",
          "2024-09-17T01:46:35+00:00",
          "2024-09-17T05:27:47+00:00",
          "2024-09-17T09:08:35+00:00",
          "2024-09-17T12:48:23+00:00",
          "2024-09-17T16:29:11+00:00",
          "2024-09-17T20:09:47+00:00",
          "2024-09-17T23:50:47+00:00",
          "2024-09-18T03:30:35+00:00",
          "2024-09-18T07:11:35+00:00",
          "2024-09-18T10:51:35+00:00",
          "2024-09-18T14:32:23+00:00",
          "2024-09-18T18:12:23+00:00",
          "2024-09-18T21:52:47+00:00",
          "2024-09-19T01:33:11+00:00",
          "2024-09-19T05:13:23+00:00",
          "2024-09-19T08:53:23+00:00",
          "2024-09-19T12:33:23+00:00",
          "2024-09-19T16:13:23+00:00",
          "2024-09-19T19:53:23+00:00",
          "2024-09-19T23:33:11+00:00"
         ],
         "xaxis": "x",
         "y": [
          0,
          0,
          0,
          0,
          0,
          0,
          0,
          0,
          0,
          0,
          0,
          0,
          0,
          0,
          190.43,
          190.44,
          190.46,
          190.46,
          447.47,
          447.47,
          447.47,
          722.7,
          722.63,
          722.63,
          935.44,
          935.44,
          935.44
         ],
         "yaxis": "y"
        }
       ],
       "layout": {
        "legend": {
         "title": {
          "text": "variable"
         },
         "tracegroupgap": 0
        },
        "template": {
         "data": {
          "bar": [
           {
            "error_x": {
             "color": "#2a3f5f"
            },
            "error_y": {
             "color": "#2a3f5f"
            },
            "marker": {
             "line": {
              "color": "#E5ECF6",
              "width": 0.5
             },
             "pattern": {
              "fillmode": "overlay",
              "size": 10,
              "solidity": 0.2
             }
            },
            "type": "bar"
           }
          ],
          "barpolar": [
           {
            "marker": {
             "line": {
              "color": "#E5ECF6",
              "width": 0.5
             },
             "pattern": {
              "fillmode": "overlay",
              "size": 10,
              "solidity": 0.2
             }
            },
            "type": "barpolar"
           }
          ],
          "carpet": [
           {
            "aaxis": {
             "endlinecolor": "#2a3f5f",
             "gridcolor": "white",
             "linecolor": "white",
             "minorgridcolor": "white",
             "startlinecolor": "#2a3f5f"
            },
            "baxis": {
             "endlinecolor": "#2a3f5f",
             "gridcolor": "white",
             "linecolor": "white",
             "minorgridcolor": "white",
             "startlinecolor": "#2a3f5f"
            },
            "type": "carpet"
           }
          ],
          "choropleth": [
           {
            "colorbar": {
             "outlinewidth": 0,
             "ticks": ""
            },
            "type": "choropleth"
           }
          ],
          "contour": [
           {
            "colorbar": {
             "outlinewidth": 0,
             "ticks": ""
            },
            "colorscale": [
             [
              0,
              "#0d0887"
             ],
             [
              0.1111111111111111,
              "#46039f"
             ],
             [
              0.2222222222222222,
              "#7201a8"
             ],
             [
              0.3333333333333333,
              "#9c179e"
             ],
             [
              0.4444444444444444,
              "#bd3786"
             ],
             [
              0.5555555555555556,
              "#d8576b"
             ],
             [
              0.6666666666666666,
              "#ed7953"
             ],
             [
              0.7777777777777778,
              "#fb9f3a"
             ],
             [
              0.8888888888888888,
              "#fdca26"
             ],
             [
              1,
              "#f0f921"
             ]
            ],
            "type": "contour"
           }
          ],
          "contourcarpet": [
           {
            "colorbar": {
             "outlinewidth": 0,
             "ticks": ""
            },
            "type": "contourcarpet"
           }
          ],
          "heatmap": [
           {
            "colorbar": {
             "outlinewidth": 0,
             "ticks": ""
            },
            "colorscale": [
             [
              0,
              "#0d0887"
             ],
             [
              0.1111111111111111,
              "#46039f"
             ],
             [
              0.2222222222222222,
              "#7201a8"
             ],
             [
              0.3333333333333333,
              "#9c179e"
             ],
             [
              0.4444444444444444,
              "#bd3786"
             ],
             [
              0.5555555555555556,
              "#d8576b"
             ],
             [
              0.6666666666666666,
              "#ed7953"
             ],
             [
              0.7777777777777778,
              "#fb9f3a"
             ],
             [
              0.8888888888888888,
              "#fdca26"
             ],
             [
              1,
              "#f0f921"
             ]
            ],
            "type": "heatmap"
           }
          ],
          "heatmapgl": [
           {
            "colorbar": {
             "outlinewidth": 0,
             "ticks": ""
            },
            "colorscale": [
             [
              0,
              "#0d0887"
             ],
             [
              0.1111111111111111,
              "#46039f"
             ],
             [
              0.2222222222222222,
              "#7201a8"
             ],
             [
              0.3333333333333333,
              "#9c179e"
             ],
             [
              0.4444444444444444,
              "#bd3786"
             ],
             [
              0.5555555555555556,
              "#d8576b"
             ],
             [
              0.6666666666666666,
              "#ed7953"
             ],
             [
              0.7777777777777778,
              "#fb9f3a"
             ],
             [
              0.8888888888888888,
              "#fdca26"
             ],
             [
              1,
              "#f0f921"
             ]
            ],
            "type": "heatmapgl"
           }
          ],
          "histogram": [
           {
            "marker": {
             "pattern": {
              "fillmode": "overlay",
              "size": 10,
              "solidity": 0.2
             }
            },
            "type": "histogram"
           }
          ],
          "histogram2d": [
           {
            "colorbar": {
             "outlinewidth": 0,
             "ticks": ""
            },
            "colorscale": [
             [
              0,
              "#0d0887"
             ],
             [
              0.1111111111111111,
              "#46039f"
             ],
             [
              0.2222222222222222,
              "#7201a8"
             ],
             [
              0.3333333333333333,
              "#9c179e"
             ],
             [
              0.4444444444444444,
              "#bd3786"
             ],
             [
              0.5555555555555556,
              "#d8576b"
             ],
             [
              0.6666666666666666,
              "#ed7953"
             ],
             [
              0.7777777777777778,
              "#fb9f3a"
             ],
             [
              0.8888888888888888,
              "#fdca26"
             ],
             [
              1,
              "#f0f921"
             ]
            ],
            "type": "histogram2d"
           }
          ],
          "histogram2dcontour": [
           {
            "colorbar": {
             "outlinewidth": 0,
             "ticks": ""
            },
            "colorscale": [
             [
              0,
              "#0d0887"
             ],
             [
              0.1111111111111111,
              "#46039f"
             ],
             [
              0.2222222222222222,
              "#7201a8"
             ],
             [
              0.3333333333333333,
              "#9c179e"
             ],
             [
              0.4444444444444444,
              "#bd3786"
             ],
             [
              0.5555555555555556,
              "#d8576b"
             ],
             [
              0.6666666666666666,
              "#ed7953"
             ],
             [
              0.7777777777777778,
              "#fb9f3a"
             ],
             [
              0.8888888888888888,
              "#fdca26"
             ],
             [
              1,
              "#f0f921"
             ]
            ],
            "type": "histogram2dcontour"
           }
          ],
          "mesh3d": [
           {
            "colorbar": {
             "outlinewidth": 0,
             "ticks": ""
            },
            "type": "mesh3d"
           }
          ],
          "parcoords": [
           {
            "line": {
             "colorbar": {
              "outlinewidth": 0,
              "ticks": ""
             }
            },
            "type": "parcoords"
           }
          ],
          "pie": [
           {
            "automargin": true,
            "type": "pie"
           }
          ],
          "scatter": [
           {
            "fillpattern": {
             "fillmode": "overlay",
             "size": 10,
             "solidity": 0.2
            },
            "type": "scatter"
           }
          ],
          "scatter3d": [
           {
            "line": {
             "colorbar": {
              "outlinewidth": 0,
              "ticks": ""
             }
            },
            "marker": {
             "colorbar": {
              "outlinewidth": 0,
              "ticks": ""
             }
            },
            "type": "scatter3d"
           }
          ],
          "scattercarpet": [
           {
            "marker": {
             "colorbar": {
              "outlinewidth": 0,
              "ticks": ""
             }
            },
            "type": "scattercarpet"
           }
          ],
          "scattergeo": [
           {
            "marker": {
             "colorbar": {
              "outlinewidth": 0,
              "ticks": ""
             }
            },
            "type": "scattergeo"
           }
          ],
          "scattergl": [
           {
            "marker": {
             "colorbar": {
              "outlinewidth": 0,
              "ticks": ""
             }
            },
            "type": "scattergl"
           }
          ],
          "scattermapbox": [
           {
            "marker": {
             "colorbar": {
              "outlinewidth": 0,
              "ticks": ""
             }
            },
            "type": "scattermapbox"
           }
          ],
          "scatterpolar": [
           {
            "marker": {
             "colorbar": {
              "outlinewidth": 0,
              "ticks": ""
             }
            },
            "type": "scatterpolar"
           }
          ],
          "scatterpolargl": [
           {
            "marker": {
             "colorbar": {
              "outlinewidth": 0,
              "ticks": ""
             }
            },
            "type": "scatterpolargl"
           }
          ],
          "scatterternary": [
           {
            "marker": {
             "colorbar": {
              "outlinewidth": 0,
              "ticks": ""
             }
            },
            "type": "scatterternary"
           }
          ],
          "surface": [
           {
            "colorbar": {
             "outlinewidth": 0,
             "ticks": ""
            },
            "colorscale": [
             [
              0,
              "#0d0887"
             ],
             [
              0.1111111111111111,
              "#46039f"
             ],
             [
              0.2222222222222222,
              "#7201a8"
             ],
             [
              0.3333333333333333,
              "#9c179e"
             ],
             [
              0.4444444444444444,
              "#bd3786"
             ],
             [
              0.5555555555555556,
              "#d8576b"
             ],
             [
              0.6666666666666666,
              "#ed7953"
             ],
             [
              0.7777777777777778,
              "#fb9f3a"
             ],
             [
              0.8888888888888888,
              "#fdca26"
             ],
             [
              1,
              "#f0f921"
             ]
            ],
            "type": "surface"
           }
          ],
          "table": [
           {
            "cells": {
             "fill": {
              "color": "#EBF0F8"
             },
             "line": {
              "color": "white"
             }
            },
            "header": {
             "fill": {
              "color": "#C8D4E3"
             },
             "line": {
              "color": "white"
             }
            },
            "type": "table"
           }
          ]
         },
         "layout": {
          "annotationdefaults": {
           "arrowcolor": "#2a3f5f",
           "arrowhead": 0,
           "arrowwidth": 1
          },
          "autotypenumbers": "strict",
          "coloraxis": {
           "colorbar": {
            "outlinewidth": 0,
            "ticks": ""
           }
          },
          "colorscale": {
           "diverging": [
            [
             0,
             "#8e0152"
            ],
            [
             0.1,
             "#c51b7d"
            ],
            [
             0.2,
             "#de77ae"
            ],
            [
             0.3,
             "#f1b6da"
            ],
            [
             0.4,
             "#fde0ef"
            ],
            [
             0.5,
             "#f7f7f7"
            ],
            [
             0.6,
             "#e6f5d0"
            ],
            [
             0.7,
             "#b8e186"
            ],
            [
             0.8,
             "#7fbc41"
            ],
            [
             0.9,
             "#4d9221"
            ],
            [
             1,
             "#276419"
            ]
           ],
           "sequential": [
            [
             0,
             "#0d0887"
            ],
            [
             0.1111111111111111,
             "#46039f"
            ],
            [
             0.2222222222222222,
             "#7201a8"
            ],
            [
             0.3333333333333333,
             "#9c179e"
            ],
            [
             0.4444444444444444,
             "#bd3786"
            ],
            [
             0.5555555555555556,
             "#d8576b"
            ],
            [
             0.6666666666666666,
             "#ed7953"
            ],
            [
             0.7777777777777778,
             "#fb9f3a"
            ],
            [
             0.8888888888888888,
             "#fdca26"
            ],
            [
             1,
             "#f0f921"
            ]
           ],
           "sequentialminus": [
            [
             0,
             "#0d0887"
            ],
            [
             0.1111111111111111,
             "#46039f"
            ],
            [
             0.2222222222222222,
             "#7201a8"
            ],
            [
             0.3333333333333333,
             "#9c179e"
            ],
            [
             0.4444444444444444,
             "#bd3786"
            ],
            [
             0.5555555555555556,
             "#d8576b"
            ],
            [
             0.6666666666666666,
             "#ed7953"
            ],
            [
             0.7777777777777778,
             "#fb9f3a"
            ],
            [
             0.8888888888888888,
             "#fdca26"
            ],
            [
             1,
             "#f0f921"
            ]
           ]
          },
          "colorway": [
           "#636efa",
           "#EF553B",
           "#00cc96",
           "#ab63fa",
           "#FFA15A",
           "#19d3f3",
           "#FF6692",
           "#B6E880",
           "#FF97FF",
           "#FECB52"
          ],
          "font": {
           "color": "#2a3f5f"
          },
          "geo": {
           "bgcolor": "white",
           "lakecolor": "white",
           "landcolor": "#E5ECF6",
           "showlakes": true,
           "showland": true,
           "subunitcolor": "white"
          },
          "hoverlabel": {
           "align": "left"
          },
          "hovermode": "closest",
          "mapbox": {
           "style": "light"
          },
          "paper_bgcolor": "white",
          "plot_bgcolor": "#E5ECF6",
          "polar": {
           "angularaxis": {
            "gridcolor": "white",
            "linecolor": "white",
            "ticks": ""
           },
           "bgcolor": "#E5ECF6",
           "radialaxis": {
            "gridcolor": "white",
            "linecolor": "white",
            "ticks": ""
           }
          },
          "scene": {
           "xaxis": {
            "backgroundcolor": "#E5ECF6",
            "gridcolor": "white",
            "gridwidth": 2,
            "linecolor": "white",
            "showbackground": true,
            "ticks": "",
            "zerolinecolor": "white"
           },
           "yaxis": {
            "backgroundcolor": "#E5ECF6",
            "gridcolor": "white",
            "gridwidth": 2,
            "linecolor": "white",
            "showbackground": true,
            "ticks": "",
            "zerolinecolor": "white"
           },
           "zaxis": {
            "backgroundcolor": "#E5ECF6",
            "gridcolor": "white",
            "gridwidth": 2,
            "linecolor": "white",
            "showbackground": true,
            "ticks": "",
            "zerolinecolor": "white"
           }
          },
          "shapedefaults": {
           "line": {
            "color": "#2a3f5f"
           }
          },
          "ternary": {
           "aaxis": {
            "gridcolor": "white",
            "linecolor": "white",
            "ticks": ""
           },
           "baxis": {
            "gridcolor": "white",
            "linecolor": "white",
            "ticks": ""
           },
           "bgcolor": "#E5ECF6",
           "caxis": {
            "gridcolor": "white",
            "linecolor": "white",
            "ticks": ""
           }
          },
          "title": {
           "x": 0.05
          },
          "xaxis": {
           "automargin": true,
           "gridcolor": "white",
           "linecolor": "white",
           "ticks": "",
           "title": {
            "standoff": 15
           },
           "zerolinecolor": "white",
           "zerolinewidth": 2
          },
          "yaxis": {
           "automargin": true,
           "gridcolor": "white",
           "linecolor": "white",
           "ticks": "",
           "title": {
            "standoff": 15
           },
           "zerolinecolor": "white",
           "zerolinewidth": 2
          }
         }
        },
        "title": {
         "text": "rsETH / WETH (balancer)"
        },
        "xaxis": {
         "anchor": "y",
         "domain": [
          0,
          1
         ],
         "title": {
          "text": "timestamp"
         }
        },
        "yaxis": {
         "anchor": "x",
         "domain": [
          0,
          1
         ],
         "title": {
          "text": "value"
         }
        }
       }
      }
     },
     "metadata": {},
     "output_type": "display_data"
    },
    {
     "data": {
      "application/vnd.plotly.v1+json": {
       "config": {
        "plotlyServerURL": "https://plot.ly"
       },
       "data": [
        {
         "hovertemplate": "variable=less discount<br>timestamp=%{x}<br>value=%{y}<extra></extra>",
         "legendgroup": "less discount",
         "line": {
          "color": "#636efa",
          "dash": "solid"
         },
         "marker": {
          "symbol": "circle"
         },
         "mode": "lines",
         "name": "less discount",
         "orientation": "v",
         "showlegend": true,
         "type": "scatter",
         "x": [
          "2024-09-16T00:03:11+00:00",
          "2024-09-16T03:43:47+00:00",
          "2024-09-16T07:23:23+00:00",
          "2024-09-16T11:04:47+00:00",
          "2024-09-16T14:46:11+00:00",
          "2024-09-16T18:26:47+00:00",
          "2024-09-16T22:06:23+00:00",
          "2024-09-17T01:46:35+00:00",
          "2024-09-17T05:27:47+00:00",
          "2024-09-17T09:08:35+00:00",
          "2024-09-17T12:48:23+00:00",
          "2024-09-17T16:29:11+00:00",
          "2024-09-17T20:09:47+00:00",
          "2024-09-17T23:50:47+00:00",
          "2024-09-18T03:30:35+00:00",
          "2024-09-18T07:11:35+00:00",
          "2024-09-18T10:51:35+00:00",
          "2024-09-18T14:32:23+00:00",
          "2024-09-18T18:12:23+00:00",
          "2024-09-18T21:52:47+00:00",
          "2024-09-19T01:33:11+00:00",
          "2024-09-19T05:13:23+00:00",
          "2024-09-19T08:53:23+00:00",
          "2024-09-19T12:33:23+00:00",
          "2024-09-19T16:13:23+00:00",
          "2024-09-19T19:53:23+00:00",
          "2024-09-19T23:33:11+00:00"
         ],
         "xaxis": "x",
         "y": [
          0,
          0,
          0,
          0,
          0,
          0,
          121.75,
          121.75,
          121.75,
          121.75,
          121.75,
          121.75,
          121.75,
          121.76,
          121.76,
          121.76,
          121.76,
          121.76,
          121.77,
          121.77,
          121.78,
          121.78,
          121.78,
          121.78,
          121.78,
          121.78,
          121.79
         ],
         "yaxis": "y"
        },
        {
         "hovertemplate": "variable=with_discount<br>timestamp=%{x}<br>value=%{y}<extra></extra>",
         "legendgroup": "with_discount",
         "line": {
          "color": "#EF553B",
          "dash": "solid"
         },
         "marker": {
          "symbol": "circle"
         },
         "mode": "lines",
         "name": "with_discount",
         "orientation": "v",
         "showlegend": true,
         "type": "scatter",
         "x": [
          "2024-09-16T00:03:11+00:00",
          "2024-09-16T03:43:47+00:00",
          "2024-09-16T07:23:23+00:00",
          "2024-09-16T11:04:47+00:00",
          "2024-09-16T14:46:11+00:00",
          "2024-09-16T18:26:47+00:00",
          "2024-09-16T22:06:23+00:00",
          "2024-09-17T01:46:35+00:00",
          "2024-09-17T05:27:47+00:00",
          "2024-09-17T09:08:35+00:00",
          "2024-09-17T12:48:23+00:00",
          "2024-09-17T16:29:11+00:00",
          "2024-09-17T20:09:47+00:00",
          "2024-09-17T23:50:47+00:00",
          "2024-09-18T03:30:35+00:00",
          "2024-09-18T07:11:35+00:00",
          "2024-09-18T10:51:35+00:00",
          "2024-09-18T14:32:23+00:00",
          "2024-09-18T18:12:23+00:00",
          "2024-09-18T21:52:47+00:00",
          "2024-09-19T01:33:11+00:00",
          "2024-09-19T05:13:23+00:00",
          "2024-09-19T08:53:23+00:00",
          "2024-09-19T12:33:23+00:00",
          "2024-09-19T16:13:23+00:00",
          "2024-09-19T19:53:23+00:00",
          "2024-09-19T23:33:11+00:00"
         ],
         "xaxis": "x",
         "y": [
          0,
          0,
          0,
          0,
          0,
          0,
          121.55,
          121.55,
          121.55,
          121.55,
          121.55,
          121.55,
          121.55,
          121.55,
          121.55,
          121.55,
          121.58,
          121.58,
          121.58,
          121.58,
          121.59,
          121.59,
          121.56,
          121.56,
          121.56,
          121.56,
          121.59
         ],
         "yaxis": "y"
        }
       ],
       "layout": {
        "legend": {
         "title": {
          "text": "variable"
         },
         "tracegroupgap": 0
        },
        "template": {
         "data": {
          "bar": [
           {
            "error_x": {
             "color": "#2a3f5f"
            },
            "error_y": {
             "color": "#2a3f5f"
            },
            "marker": {
             "line": {
              "color": "#E5ECF6",
              "width": 0.5
             },
             "pattern": {
              "fillmode": "overlay",
              "size": 10,
              "solidity": 0.2
             }
            },
            "type": "bar"
           }
          ],
          "barpolar": [
           {
            "marker": {
             "line": {
              "color": "#E5ECF6",
              "width": 0.5
             },
             "pattern": {
              "fillmode": "overlay",
              "size": 10,
              "solidity": 0.2
             }
            },
            "type": "barpolar"
           }
          ],
          "carpet": [
           {
            "aaxis": {
             "endlinecolor": "#2a3f5f",
             "gridcolor": "white",
             "linecolor": "white",
             "minorgridcolor": "white",
             "startlinecolor": "#2a3f5f"
            },
            "baxis": {
             "endlinecolor": "#2a3f5f",
             "gridcolor": "white",
             "linecolor": "white",
             "minorgridcolor": "white",
             "startlinecolor": "#2a3f5f"
            },
            "type": "carpet"
           }
          ],
          "choropleth": [
           {
            "colorbar": {
             "outlinewidth": 0,
             "ticks": ""
            },
            "type": "choropleth"
           }
          ],
          "contour": [
           {
            "colorbar": {
             "outlinewidth": 0,
             "ticks": ""
            },
            "colorscale": [
             [
              0,
              "#0d0887"
             ],
             [
              0.1111111111111111,
              "#46039f"
             ],
             [
              0.2222222222222222,
              "#7201a8"
             ],
             [
              0.3333333333333333,
              "#9c179e"
             ],
             [
              0.4444444444444444,
              "#bd3786"
             ],
             [
              0.5555555555555556,
              "#d8576b"
             ],
             [
              0.6666666666666666,
              "#ed7953"
             ],
             [
              0.7777777777777778,
              "#fb9f3a"
             ],
             [
              0.8888888888888888,
              "#fdca26"
             ],
             [
              1,
              "#f0f921"
             ]
            ],
            "type": "contour"
           }
          ],
          "contourcarpet": [
           {
            "colorbar": {
             "outlinewidth": 0,
             "ticks": ""
            },
            "type": "contourcarpet"
           }
          ],
          "heatmap": [
           {
            "colorbar": {
             "outlinewidth": 0,
             "ticks": ""
            },
            "colorscale": [
             [
              0,
              "#0d0887"
             ],
             [
              0.1111111111111111,
              "#46039f"
             ],
             [
              0.2222222222222222,
              "#7201a8"
             ],
             [
              0.3333333333333333,
              "#9c179e"
             ],
             [
              0.4444444444444444,
              "#bd3786"
             ],
             [
              0.5555555555555556,
              "#d8576b"
             ],
             [
              0.6666666666666666,
              "#ed7953"
             ],
             [
              0.7777777777777778,
              "#fb9f3a"
             ],
             [
              0.8888888888888888,
              "#fdca26"
             ],
             [
              1,
              "#f0f921"
             ]
            ],
            "type": "heatmap"
           }
          ],
          "heatmapgl": [
           {
            "colorbar": {
             "outlinewidth": 0,
             "ticks": ""
            },
            "colorscale": [
             [
              0,
              "#0d0887"
             ],
             [
              0.1111111111111111,
              "#46039f"
             ],
             [
              0.2222222222222222,
              "#7201a8"
             ],
             [
              0.3333333333333333,
              "#9c179e"
             ],
             [
              0.4444444444444444,
              "#bd3786"
             ],
             [
              0.5555555555555556,
              "#d8576b"
             ],
             [
              0.6666666666666666,
              "#ed7953"
             ],
             [
              0.7777777777777778,
              "#fb9f3a"
             ],
             [
              0.8888888888888888,
              "#fdca26"
             ],
             [
              1,
              "#f0f921"
             ]
            ],
            "type": "heatmapgl"
           }
          ],
          "histogram": [
           {
            "marker": {
             "pattern": {
              "fillmode": "overlay",
              "size": 10,
              "solidity": 0.2
             }
            },
            "type": "histogram"
           }
          ],
          "histogram2d": [
           {
            "colorbar": {
             "outlinewidth": 0,
             "ticks": ""
            },
            "colorscale": [
             [
              0,
              "#0d0887"
             ],
             [
              0.1111111111111111,
              "#46039f"
             ],
             [
              0.2222222222222222,
              "#7201a8"
             ],
             [
              0.3333333333333333,
              "#9c179e"
             ],
             [
              0.4444444444444444,
              "#bd3786"
             ],
             [
              0.5555555555555556,
              "#d8576b"
             ],
             [
              0.6666666666666666,
              "#ed7953"
             ],
             [
              0.7777777777777778,
              "#fb9f3a"
             ],
             [
              0.8888888888888888,
              "#fdca26"
             ],
             [
              1,
              "#f0f921"
             ]
            ],
            "type": "histogram2d"
           }
          ],
          "histogram2dcontour": [
           {
            "colorbar": {
             "outlinewidth": 0,
             "ticks": ""
            },
            "colorscale": [
             [
              0,
              "#0d0887"
             ],
             [
              0.1111111111111111,
              "#46039f"
             ],
             [
              0.2222222222222222,
              "#7201a8"
             ],
             [
              0.3333333333333333,
              "#9c179e"
             ],
             [
              0.4444444444444444,
              "#bd3786"
             ],
             [
              0.5555555555555556,
              "#d8576b"
             ],
             [
              0.6666666666666666,
              "#ed7953"
             ],
             [
              0.7777777777777778,
              "#fb9f3a"
             ],
             [
              0.8888888888888888,
              "#fdca26"
             ],
             [
              1,
              "#f0f921"
             ]
            ],
            "type": "histogram2dcontour"
           }
          ],
          "mesh3d": [
           {
            "colorbar": {
             "outlinewidth": 0,
             "ticks": ""
            },
            "type": "mesh3d"
           }
          ],
          "parcoords": [
           {
            "line": {
             "colorbar": {
              "outlinewidth": 0,
              "ticks": ""
             }
            },
            "type": "parcoords"
           }
          ],
          "pie": [
           {
            "automargin": true,
            "type": "pie"
           }
          ],
          "scatter": [
           {
            "fillpattern": {
             "fillmode": "overlay",
             "size": 10,
             "solidity": 0.2
            },
            "type": "scatter"
           }
          ],
          "scatter3d": [
           {
            "line": {
             "colorbar": {
              "outlinewidth": 0,
              "ticks": ""
             }
            },
            "marker": {
             "colorbar": {
              "outlinewidth": 0,
              "ticks": ""
             }
            },
            "type": "scatter3d"
           }
          ],
          "scattercarpet": [
           {
            "marker": {
             "colorbar": {
              "outlinewidth": 0,
              "ticks": ""
             }
            },
            "type": "scattercarpet"
           }
          ],
          "scattergeo": [
           {
            "marker": {
             "colorbar": {
              "outlinewidth": 0,
              "ticks": ""
             }
            },
            "type": "scattergeo"
           }
          ],
          "scattergl": [
           {
            "marker": {
             "colorbar": {
              "outlinewidth": 0,
              "ticks": ""
             }
            },
            "type": "scattergl"
           }
          ],
          "scattermapbox": [
           {
            "marker": {
             "colorbar": {
              "outlinewidth": 0,
              "ticks": ""
             }
            },
            "type": "scattermapbox"
           }
          ],
          "scatterpolar": [
           {
            "marker": {
             "colorbar": {
              "outlinewidth": 0,
              "ticks": ""
             }
            },
            "type": "scatterpolar"
           }
          ],
          "scatterpolargl": [
           {
            "marker": {
             "colorbar": {
              "outlinewidth": 0,
              "ticks": ""
             }
            },
            "type": "scatterpolargl"
           }
          ],
          "scatterternary": [
           {
            "marker": {
             "colorbar": {
              "outlinewidth": 0,
              "ticks": ""
             }
            },
            "type": "scatterternary"
           }
          ],
          "surface": [
           {
            "colorbar": {
             "outlinewidth": 0,
             "ticks": ""
            },
            "colorscale": [
             [
              0,
              "#0d0887"
             ],
             [
              0.1111111111111111,
              "#46039f"
             ],
             [
              0.2222222222222222,
              "#7201a8"
             ],
             [
              0.3333333333333333,
              "#9c179e"
             ],
             [
              0.4444444444444444,
              "#bd3786"
             ],
             [
              0.5555555555555556,
              "#d8576b"
             ],
             [
              0.6666666666666666,
              "#ed7953"
             ],
             [
              0.7777777777777778,
              "#fb9f3a"
             ],
             [
              0.8888888888888888,
              "#fdca26"
             ],
             [
              1,
              "#f0f921"
             ]
            ],
            "type": "surface"
           }
          ],
          "table": [
           {
            "cells": {
             "fill": {
              "color": "#EBF0F8"
             },
             "line": {
              "color": "white"
             }
            },
            "header": {
             "fill": {
              "color": "#C8D4E3"
             },
             "line": {
              "color": "white"
             }
            },
            "type": "table"
           }
          ]
         },
         "layout": {
          "annotationdefaults": {
           "arrowcolor": "#2a3f5f",
           "arrowhead": 0,
           "arrowwidth": 1
          },
          "autotypenumbers": "strict",
          "coloraxis": {
           "colorbar": {
            "outlinewidth": 0,
            "ticks": ""
           }
          },
          "colorscale": {
           "diverging": [
            [
             0,
             "#8e0152"
            ],
            [
             0.1,
             "#c51b7d"
            ],
            [
             0.2,
             "#de77ae"
            ],
            [
             0.3,
             "#f1b6da"
            ],
            [
             0.4,
             "#fde0ef"
            ],
            [
             0.5,
             "#f7f7f7"
            ],
            [
             0.6,
             "#e6f5d0"
            ],
            [
             0.7,
             "#b8e186"
            ],
            [
             0.8,
             "#7fbc41"
            ],
            [
             0.9,
             "#4d9221"
            ],
            [
             1,
             "#276419"
            ]
           ],
           "sequential": [
            [
             0,
             "#0d0887"
            ],
            [
             0.1111111111111111,
             "#46039f"
            ],
            [
             0.2222222222222222,
             "#7201a8"
            ],
            [
             0.3333333333333333,
             "#9c179e"
            ],
            [
             0.4444444444444444,
             "#bd3786"
            ],
            [
             0.5555555555555556,
             "#d8576b"
            ],
            [
             0.6666666666666666,
             "#ed7953"
            ],
            [
             0.7777777777777778,
             "#fb9f3a"
            ],
            [
             0.8888888888888888,
             "#fdca26"
            ],
            [
             1,
             "#f0f921"
            ]
           ],
           "sequentialminus": [
            [
             0,
             "#0d0887"
            ],
            [
             0.1111111111111111,
             "#46039f"
            ],
            [
             0.2222222222222222,
             "#7201a8"
            ],
            [
             0.3333333333333333,
             "#9c179e"
            ],
            [
             0.4444444444444444,
             "#bd3786"
            ],
            [
             0.5555555555555556,
             "#d8576b"
            ],
            [
             0.6666666666666666,
             "#ed7953"
            ],
            [
             0.7777777777777778,
             "#fb9f3a"
            ],
            [
             0.8888888888888888,
             "#fdca26"
            ],
            [
             1,
             "#f0f921"
            ]
           ]
          },
          "colorway": [
           "#636efa",
           "#EF553B",
           "#00cc96",
           "#ab63fa",
           "#FFA15A",
           "#19d3f3",
           "#FF6692",
           "#B6E880",
           "#FF97FF",
           "#FECB52"
          ],
          "font": {
           "color": "#2a3f5f"
          },
          "geo": {
           "bgcolor": "white",
           "lakecolor": "white",
           "landcolor": "#E5ECF6",
           "showlakes": true,
           "showland": true,
           "subunitcolor": "white"
          },
          "hoverlabel": {
           "align": "left"
          },
          "hovermode": "closest",
          "mapbox": {
           "style": "light"
          },
          "paper_bgcolor": "white",
          "plot_bgcolor": "#E5ECF6",
          "polar": {
           "angularaxis": {
            "gridcolor": "white",
            "linecolor": "white",
            "ticks": ""
           },
           "bgcolor": "#E5ECF6",
           "radialaxis": {
            "gridcolor": "white",
            "linecolor": "white",
            "ticks": ""
           }
          },
          "scene": {
           "xaxis": {
            "backgroundcolor": "#E5ECF6",
            "gridcolor": "white",
            "gridwidth": 2,
            "linecolor": "white",
            "showbackground": true,
            "ticks": "",
            "zerolinecolor": "white"
           },
           "yaxis": {
            "backgroundcolor": "#E5ECF6",
            "gridcolor": "white",
            "gridwidth": 2,
            "linecolor": "white",
            "showbackground": true,
            "ticks": "",
            "zerolinecolor": "white"
           },
           "zaxis": {
            "backgroundcolor": "#E5ECF6",
            "gridcolor": "white",
            "gridwidth": 2,
            "linecolor": "white",
            "showbackground": true,
            "ticks": "",
            "zerolinecolor": "white"
           }
          },
          "shapedefaults": {
           "line": {
            "color": "#2a3f5f"
           }
          },
          "ternary": {
           "aaxis": {
            "gridcolor": "white",
            "linecolor": "white",
            "ticks": ""
           },
           "baxis": {
            "gridcolor": "white",
            "linecolor": "white",
            "ticks": ""
           },
           "bgcolor": "#E5ECF6",
           "caxis": {
            "gridcolor": "white",
            "linecolor": "white",
            "ticks": ""
           }
          },
          "title": {
           "x": 0.05
          },
          "xaxis": {
           "automargin": true,
           "gridcolor": "white",
           "linecolor": "white",
           "ticks": "",
           "title": {
            "standoff": 15
           },
           "zerolinecolor": "white",
           "zerolinewidth": 2
          },
          "yaxis": {
           "automargin": true,
           "gridcolor": "white",
           "linecolor": "white",
           "ticks": "",
           "title": {
            "standoff": 15
           },
           "zerolinecolor": "white",
           "zerolinewidth": 2
          }
         }
        },
        "title": {
         "text": "rsETH / ETHx (balancer)"
        },
        "xaxis": {
         "anchor": "y",
         "domain": [
          0,
          1
         ],
         "title": {
          "text": "timestamp"
         }
        },
        "yaxis": {
         "anchor": "x",
         "domain": [
          0,
          1
         ],
         "title": {
          "text": "value"
         }
        }
       }
      }
     },
     "metadata": {},
     "output_type": "display_data"
    },
    {
     "name": "stdout",
     "output_type": "stream",
     "text": [
      "balETH (tokemak)\n"
     ]
    }
   ],
   "source": [
    "early_discount_df = discount_allocation_df[(discount_allocation_df.index > '9-16-2024') & (discount_allocation_df.index < '9-20-2024')].round(2)\n",
    "early_allocation_df = allocation_df[(allocation_df.index > '9-16-2024') & (allocation_df.index < '9-20-2024')].round(2)\n",
    "\n",
    "for col in early_allocation_df.columns:\n",
    "    if col in early_discount_df.columns:\n",
    "        df = pd.concat([early_discount_df[col], early_allocation_df[col]], axis=1)\n",
    "        df.columns = ['less discount', 'with_discount']\n",
    "        \n",
    "        if early_discount_df[col].sum() > 0:\n",
    "            px.line(df, title=col).show()\n",
    "    else:\n",
    "        print(col)"
   ]
  },
  {
   "attachments": {
    "image.png": {
     "image/png": "[encoded data removed]"
    }
   },
   "cell_type": "markdown",
   "metadata": {},
   "source": [
    "![image.png](attachment:image.png)"
   ]
  },
  {
   "cell_type": "markdown",
   "metadata": {},
   "source": [
    "did one of these trade at a premium here?"
   ]
  },
  {
   "cell_type": "code",
   "execution_count": 33,
   "metadata": {},
   "outputs": [
    {
     "name": "stderr",
     "output_type": "stream",
     "text": [
      "2024-11-06 14:00:48.437 Thread 'MainThread': missing ScriptRunContext! This warning can be ignored when running in bare mode.\n",
      "2024-11-06 14:00:48.438 Thread 'MainThread': missing ScriptRunContext! This warning can be ignored when running in bare mode.\n",
      "2024-11-06 14:00:48.439 Thread 'MainThread': missing ScriptRunContext! This warning can be ignored when running in bare mode.\n",
      "2024-11-06 14:00:48.440 Thread 'MainThread': missing ScriptRunContext! This warning can be ignored when running in bare mode.\n",
      "2024-11-06 14:00:48.440 Thread 'MainThread': missing ScriptRunContext! This warning can be ignored when running in bare mode.\n"
     ]
    },
    {
     "data": {
      "text/html": [
       "<div>\n",
       "<style scoped>\n",
       "    .dataframe tbody tr th:only-of-type {\n",
       "        vertical-align: middle;\n",
       "    }\n",
       "\n",
       "    .dataframe tbody tr th {\n",
       "        vertical-align: top;\n",
       "    }\n",
       "\n",
       "    .dataframe thead th {\n",
       "        text-align: right;\n",
       "    }\n",
       "</style>\n",
       "<table border=\"1\" class=\"dataframe\">\n",
       "  <thead>\n",
       "    <tr style=\"text-align: right;\">\n",
       "      <th></th>\n",
       "      <th>getPoolsAndDestinations</th>\n",
       "    </tr>\n",
       "    <tr>\n",
       "      <th>timestamp</th>\n",
       "      <th></th>\n",
       "    </tr>\n",
       "  </thead>\n",
       "  <tbody>\n",
       "    <tr>\n",
       "      <th>2024-09-15 02:04:47+00:00</th>\n",
       "      <td>{'autopools': [{'poolAddress': '0x0a2b94f6871c...</td>\n",
       "    </tr>\n",
       "    <tr>\n",
       "      <th>2024-09-15 05:44:35+00:00</th>\n",
       "      <td>{'autopools': [{'poolAddress': '0x0a2b94f6871c...</td>\n",
       "    </tr>\n",
       "    <tr>\n",
       "      <th>2024-09-15 09:24:47+00:00</th>\n",
       "      <td>{'autopools': [{'poolAddress': '0x0a2b94f6871c...</td>\n",
       "    </tr>\n",
       "    <tr>\n",
       "      <th>2024-09-15 13:04:11+00:00</th>\n",
       "      <td>{'autopools': [{'poolAddress': '0x0a2b94f6871c...</td>\n",
       "    </tr>\n",
       "    <tr>\n",
       "      <th>2024-09-15 16:44:23+00:00</th>\n",
       "      <td>{'autopools': [{'poolAddress': '0x0a2b94f6871c...</td>\n",
       "    </tr>\n",
       "    <tr>\n",
       "      <th>...</th>\n",
       "      <td>...</td>\n",
       "    </tr>\n",
       "    <tr>\n",
       "      <th>2024-11-06 01:04:59+00:00</th>\n",
       "      <td>{'autopools': [{'poolAddress': '0x0a2b94f6871c...</td>\n",
       "    </tr>\n",
       "    <tr>\n",
       "      <th>2024-11-06 04:44:23+00:00</th>\n",
       "      <td>{'autopools': [{'poolAddress': '0x0a2b94f6871c...</td>\n",
       "    </tr>\n",
       "    <tr>\n",
       "      <th>2024-11-06 08:24:23+00:00</th>\n",
       "      <td>{'autopools': [{'poolAddress': '0x0a2b94f6871c...</td>\n",
       "    </tr>\n",
       "    <tr>\n",
       "      <th>2024-11-06 12:05:23+00:00</th>\n",
       "      <td>{'autopools': [{'poolAddress': '0x0a2b94f6871c...</td>\n",
       "    </tr>\n",
       "    <tr>\n",
       "      <th>2024-11-06 15:45:47+00:00</th>\n",
       "      <td>{'autopools': [{'poolAddress': '0x0a2b94f6871c...</td>\n",
       "    </tr>\n",
       "  </tbody>\n",
       "</table>\n",
       "<p>345 rows × 1 columns</p>\n",
       "</div>"
      ],
      "text/plain": [
       "                                                     getPoolsAndDestinations\n",
       "timestamp                                                                   \n",
       "2024-09-15 02:04:47+00:00  {'autopools': [{'poolAddress': '0x0a2b94f6871c...\n",
       "2024-09-15 05:44:35+00:00  {'autopools': [{'poolAddress': '0x0a2b94f6871c...\n",
       "2024-09-15 09:24:47+00:00  {'autopools': [{'poolAddress': '0x0a2b94f6871c...\n",
       "2024-09-15 13:04:11+00:00  {'autopools': [{'poolAddress': '0x0a2b94f6871c...\n",
       "2024-09-15 16:44:23+00:00  {'autopools': [{'poolAddress': '0x0a2b94f6871c...\n",
       "...                                                                      ...\n",
       "2024-11-06 01:04:59+00:00  {'autopools': [{'poolAddress': '0x0a2b94f6871c...\n",
       "2024-11-06 04:44:23+00:00  {'autopools': [{'poolAddress': '0x0a2b94f6871c...\n",
       "2024-11-06 08:24:23+00:00  {'autopools': [{'poolAddress': '0x0a2b94f6871c...\n",
       "2024-11-06 12:05:23+00:00  {'autopools': [{'poolAddress': '0x0a2b94f6871c...\n",
       "2024-11-06 15:45:47+00:00  {'autopools': [{'poolAddress': '0x0a2b94f6871c...\n",
       "\n",
       "[345 rows x 1 columns]"
      ]
     },
     "execution_count": 33,
     "metadata": {},
     "output_type": "execute_result"
    }
   ],
   "source": [
    "from mainnet_launch.constants import AutopoolConstants, CACHE_TIME, eth_client\n",
    "from mainnet_launch.lens_contract import get_pools_and_destinations_call\n",
    "from mainnet_launch.data_fetching.get_state_by_block import get_raw_state_by_blocks\n",
    "from mainnet_launch.destinations import DestinationDetails, get_destination_details\n",
    "\n",
    "details = [d for d in get_destination_details() if d.autopool == BAL_ETH]\n",
    "# autopoolNav in Idle df\n",
    "lp_token_addresss_to_name = {d.lpTokenAddress: d.vault_name for d in details if d.lpTokenAddress is not None}\n",
    "\n",
    "pool_and_destinations_df = get_raw_state_by_blocks([get_pools_and_destinations_call()], blocks)\n",
    "pool_and_destinations_df"
   ]
  },
  {
   "cell_type": "code",
   "execution_count": 35,
   "metadata": {},
   "outputs": [
    {
     "name": "stderr",
     "output_type": "stream",
     "text": [
      "/tmp/ipykernel_113692/3563144403.py:16: FutureWarning:\n",
      "\n",
      "Series.__getitem__ treating keys as positions is deprecated. In a future version, integer keys will always be treated as labels (consistent with DataFrame behavior). To access a value by position, use `ser.iloc[pos]`\n",
      "\n"
     ]
    },
    {
     "data": {
      "application/vnd.plotly.v1+json": {
       "config": {
        "plotlyServerURL": "https://plot.ly"
       },
       "data": [
        {
         "hovertemplate": "variable=rETH<br>timestamp=%{x}<br>value=%{y}<extra></extra>",
         "legendgroup": "rETH",
         "line": {
          "color": "#636efa",
          "dash": "solid"
         },
         "marker": {
          "symbol": "circle"
         },
         "mode": "lines",
         "name": "rETH",
         "showlegend": true,
         "type": "scattergl",
         "x": [
          "2024-09-15T02:04:47+00:00",
          "2024-09-15T05:44:35+00:00",
          "2024-09-15T09:24:47+00:00",
          "2024-09-15T13:04:11+00:00",
          "2024-09-15T16:44:23+00:00",
          "2024-09-15T20:23:35+00:00",
          "2024-09-16T00:03:11+00:00",
          "2024-09-16T03:43:47+00:00",
          "2024-09-16T07:23:23+00:00",
          "2024-09-16T11:04:47+00:00",
          "2024-09-16T14:46:11+00:00",
          "2024-09-16T18:26:47+00:00",
          "2024-09-16T22:06:23+00:00",
          "2024-09-17T01:46:35+00:00",
          "2024-09-17T05:27:47+00:00",
          "2024-09-17T09:08:35+00:00",
          "2024-09-17T12:48:23+00:00",
          "2024-09-17T16:29:11+00:00",
          "2024-09-17T20:09:47+00:00",
          "2024-09-17T23:50:47+00:00",
          "2024-09-18T03:30:35+00:00",
          "2024-09-18T07:11:35+00:00",
          "2024-09-18T10:51:35+00:00",
          "2024-09-18T14:32:23+00:00",
          "2024-09-18T18:12:23+00:00",
          "2024-09-18T21:52:47+00:00",
          "2024-09-19T01:33:11+00:00",
          "2024-09-19T05:13:23+00:00",
          "2024-09-19T08:53:23+00:00",
          "2024-09-19T12:33:23+00:00",
          "2024-09-19T16:13:23+00:00",
          "2024-09-19T19:53:23+00:00",
          "2024-09-19T23:33:11+00:00",
          "2024-09-20T03:13:35+00:00",
          "2024-09-20T06:54:11+00:00",
          "2024-09-20T10:35:11+00:00",
          "2024-09-20T14:14:59+00:00",
          "2024-09-20T17:54:59+00:00",
          "2024-09-20T21:35:23+00:00",
          "2024-09-21T01:16:23+00:00",
          "2024-09-21T04:56:23+00:00",
          "2024-09-21T08:38:11+00:00",
          "2024-09-21T12:18:11+00:00",
          "2024-09-21T15:58:11+00:00",
          "2024-09-21T19:38:11+00:00",
          "2024-09-21T23:19:11+00:00",
          "2024-09-22T02:58:47+00:00",
          "2024-09-22T06:38:35+00:00",
          "2024-09-22T10:18:23+00:00",
          "2024-09-22T13:58:11+00:00",
          "2024-09-22T17:37:59+00:00",
          "2024-09-22T21:18:11+00:00",
          "2024-09-23T00:57:47+00:00",
          "2024-09-23T04:37:23+00:00",
          "2024-09-23T08:17:35+00:00",
          "2024-09-23T11:58:59+00:00",
          "2024-09-23T15:38:59+00:00",
          "2024-09-23T19:18:59+00:00",
          "2024-09-23T22:58:59+00:00",
          "2024-09-24T02:38:47+00:00",
          "2024-09-24T06:18:23+00:00",
          "2024-09-24T09:57:47+00:00",
          "2024-09-24T13:37:23+00:00",
          "2024-09-24T17:17:47+00:00",
          "2024-09-24T20:57:11+00:00",
          "2024-09-25T00:36:59+00:00",
          "2024-09-25T04:17:23+00:00",
          "2024-09-25T07:57:11+00:00",
          "2024-09-25T11:37:35+00:00",
          "2024-09-25T15:18:35+00:00",
          "2024-09-25T18:59:35+00:00",
          "2024-09-25T22:38:47+00:00",
          "2024-09-26T02:18:35+00:00",
          "2024-09-26T05:58:23+00:00",
          "2024-09-26T09:37:59+00:00",
          "2024-09-26T13:17:35+00:00",
          "2024-09-26T16:56:59+00:00",
          "2024-09-26T20:36:59+00:00",
          "2024-09-27T00:17:47+00:00",
          "2024-09-27T03:57:35+00:00",
          "2024-09-27T07:37:11+00:00",
          "2024-09-27T11:16:59+00:00",
          "2024-09-27T14:56:47+00:00",
          "2024-09-27T18:36:47+00:00",
          "2024-09-27T22:16:11+00:00",
          "2024-09-28T01:55:59+00:00",
          "2024-09-28T05:36:23+00:00",
          "2024-09-28T09:15:59+00:00",
          "2024-09-28T12:55:47+00:00",
          "2024-09-28T16:35:23+00:00",
          "2024-09-28T20:15:47+00:00",
          "2024-09-28T23:56:35+00:00",
          "2024-09-29T03:36:47+00:00",
          "2024-09-29T07:17:11+00:00",
          "2024-09-29T10:56:47+00:00",
          "2024-09-29T14:36:35+00:00",
          "2024-09-29T18:16:11+00:00",
          "2024-09-29T21:56:47+00:00",
          "2024-09-30T01:36:35+00:00",
          "2024-09-30T05:16:35+00:00",
          "2024-09-30T08:55:59+00:00",
          "2024-09-30T12:35:23+00:00",
          "2024-09-30T16:15:11+00:00",
          "2024-09-30T19:54:47+00:00",
          "2024-09-30T23:34:23+00:00",
          "2024-10-01T03:13:59+00:00",
          "2024-10-01T06:53:59+00:00",
          "2024-10-01T10:33:35+00:00",
          "2024-10-01T14:13:47+00:00",
          "2024-10-01T17:54:11+00:00",
          "2024-10-01T21:34:23+00:00",
          "2024-10-02T01:14:11+00:00",
          "2024-10-02T04:54:11+00:00",
          "2024-10-02T08:33:47+00:00",
          "2024-10-02T12:12:59+00:00",
          "2024-10-02T15:53:11+00:00",
          "2024-10-02T19:33:23+00:00",
          "2024-10-02T23:12:47+00:00",
          "2024-10-03T02:52:11+00:00",
          "2024-10-03T06:32:23+00:00",
          "2024-10-03T10:11:59+00:00",
          "2024-10-03T13:51:59+00:00",
          "2024-10-03T17:33:23+00:00",
          "2024-10-03T21:13:47+00:00",
          "2024-10-04T00:53:11+00:00",
          "2024-10-04T04:32:23+00:00",
          "2024-10-04T08:11:59+00:00",
          "2024-10-04T11:51:23+00:00",
          "2024-10-04T15:30:59+00:00",
          "2024-10-04T19:10:35+00:00",
          "2024-10-04T22:50:23+00:00",
          "2024-10-05T02:30:35+00:00",
          "2024-10-05T06:09:59+00:00",
          "2024-10-05T09:49:59+00:00",
          "2024-10-05T13:29:23+00:00",
          "2024-10-05T17:09:23+00:00",
          "2024-10-05T20:48:59+00:00",
          "2024-10-06T00:28:11+00:00",
          "2024-10-06T04:07:47+00:00",
          "2024-10-06T07:47:35+00:00",
          "2024-10-06T11:27:47+00:00",
          "2024-10-06T15:07:47+00:00",
          "2024-10-06T18:47:35+00:00",
          "2024-10-06T22:27:23+00:00",
          "2024-10-07T02:07:35+00:00",
          "2024-10-07T05:47:35+00:00",
          "2024-10-07T09:27:11+00:00",
          "2024-10-07T13:06:35+00:00",
          "2024-10-07T16:46:47+00:00",
          "2024-10-07T20:26:23+00:00",
          "2024-10-08T00:05:59+00:00",
          "2024-10-08T03:45:47+00:00",
          "2024-10-08T07:25:35+00:00",
          "2024-10-08T11:04:59+00:00",
          "2024-10-08T14:44:47+00:00",
          "2024-10-08T18:24:11+00:00",
          "2024-10-08T22:04:47+00:00",
          "2024-10-09T01:44:35+00:00",
          "2024-10-09T05:23:47+00:00",
          "2024-10-09T09:03:35+00:00",
          "2024-10-09T12:43:59+00:00",
          "2024-10-09T16:23:11+00:00",
          "2024-10-09T20:02:59+00:00",
          "2024-10-09T23:42:35+00:00",
          "2024-10-10T03:22:23+00:00",
          "2024-10-10T07:02:23+00:00",
          "2024-10-10T10:42:11+00:00",
          "2024-10-10T14:21:47+00:00",
          "2024-10-10T18:01:11+00:00",
          "2024-10-10T21:40:59+00:00",
          "2024-10-11T01:20:35+00:00",
          "2024-10-11T05:00:35+00:00",
          "2024-10-11T08:40:59+00:00",
          "2024-10-11T12:21:35+00:00",
          "2024-10-11T16:02:35+00:00",
          "2024-10-11T19:42:47+00:00",
          "2024-10-11T23:23:35+00:00",
          "2024-10-12T03:04:23+00:00",
          "2024-10-12T06:44:47+00:00",
          "2024-10-12T10:26:35+00:00",
          "2024-10-12T14:06:59+00:00",
          "2024-10-12T17:46:59+00:00",
          "2024-10-12T21:27:35+00:00",
          "2024-10-13T01:07:59+00:00",
          "2024-10-13T04:50:11+00:00",
          "2024-10-13T08:32:47+00:00",
          "2024-10-13T12:14:23+00:00",
          "2024-10-13T15:54:11+00:00",
          "2024-10-13T19:34:11+00:00",
          "2024-10-13T23:14:47+00:00",
          "2024-10-14T02:54:59+00:00",
          "2024-10-14T06:34:47+00:00",
          "2024-10-14T10:16:11+00:00",
          "2024-10-14T13:57:11+00:00",
          "2024-10-14T17:36:59+00:00",
          "2024-10-14T21:17:23+00:00",
          "2024-10-15T00:57:23+00:00",
          "2024-10-15T04:37:47+00:00",
          "2024-10-15T08:17:23+00:00",
          "2024-10-15T11:57:59+00:00",
          "2024-10-15T15:38:35+00:00",
          "2024-10-15T19:18:59+00:00",
          "2024-10-15T22:59:11+00:00",
          "2024-10-16T02:39:59+00:00",
          "2024-10-16T06:19:59+00:00",
          "2024-10-16T09:59:59+00:00",
          "2024-10-16T13:40:11+00:00",
          "2024-10-16T17:20:11+00:00",
          "2024-10-16T21:00:23+00:00",
          "2024-10-17T00:40:59+00:00",
          "2024-10-17T04:21:11+00:00",
          "2024-10-17T08:01:11+00:00",
          "2024-10-17T11:40:47+00:00",
          "2024-10-17T15:21:11+00:00",
          "2024-10-17T19:01:23+00:00",
          "2024-10-17T22:41:35+00:00",
          "2024-10-18T02:21:35+00:00",
          "2024-10-18T06:01:59+00:00",
          "2024-10-18T09:42:11+00:00",
          "2024-10-18T13:21:47+00:00",
          "2024-10-18T17:02:11+00:00",
          "2024-10-18T20:41:47+00:00",
          "2024-10-19T00:21:47+00:00",
          "2024-10-19T04:01:47+00:00",
          "2024-10-19T07:42:23+00:00",
          "2024-10-19T11:21:59+00:00",
          "2024-10-19T15:01:59+00:00",
          "2024-10-19T18:41:47+00:00",
          "2024-10-19T22:21:23+00:00",
          "2024-10-20T02:00:47+00:00",
          "2024-10-20T05:40:47+00:00",
          "2024-10-20T09:20:35+00:00",
          "2024-10-20T12:59:59+00:00",
          "2024-10-20T16:40:59+00:00",
          "2024-10-20T20:20:47+00:00",
          "2024-10-21T00:00:59+00:00",
          "2024-10-21T03:41:35+00:00",
          "2024-10-21T07:21:35+00:00",
          "2024-10-21T11:00:59+00:00",
          "2024-10-21T14:40:59+00:00",
          "2024-10-21T18:20:23+00:00",
          "2024-10-21T22:00:35+00:00",
          "2024-10-22T01:40:59+00:00",
          "2024-10-22T05:21:11+00:00",
          "2024-10-22T09:01:23+00:00",
          "2024-10-22T12:41:35+00:00",
          "2024-10-22T16:21:35+00:00",
          "2024-10-22T20:01:35+00:00",
          "2024-10-22T23:42:23+00:00",
          "2024-10-23T03:22:35+00:00",
          "2024-10-23T07:01:35+00:00",
          "2024-10-23T10:41:35+00:00",
          "2024-10-23T14:21:11+00:00",
          "2024-10-23T18:00:59+00:00",
          "2024-10-23T21:40:11+00:00",
          "2024-10-24T01:20:47+00:00",
          "2024-10-24T05:00:47+00:00",
          "2024-10-24T08:40:59+00:00",
          "2024-10-24T12:20:35+00:00",
          "2024-10-24T16:00:35+00:00",
          "2024-10-24T19:40:11+00:00",
          "2024-10-24T23:19:59+00:00",
          "2024-10-25T02:59:59+00:00",
          "2024-10-25T06:40:11+00:00",
          "2024-10-25T10:19:35+00:00",
          "2024-10-25T13:59:35+00:00",
          "2024-10-25T17:39:35+00:00",
          "2024-10-25T21:19:11+00:00",
          "2024-10-26T00:58:59+00:00",
          "2024-10-26T04:39:23+00:00",
          "2024-10-26T08:19:11+00:00",
          "2024-10-26T11:59:59+00:00",
          "2024-10-26T15:40:35+00:00",
          "2024-10-26T19:20:11+00:00",
          "2024-10-26T22:59:59+00:00",
          "2024-10-27T02:40:11+00:00",
          "2024-10-27T06:19:47+00:00",
          "2024-10-27T09:59:23+00:00",
          "2024-10-27T13:40:11+00:00",
          "2024-10-27T17:19:47+00:00",
          "2024-10-27T20:59:11+00:00",
          "2024-10-28T00:38:35+00:00",
          "2024-10-28T04:18:47+00:00",
          "2024-10-28T07:59:47+00:00",
          "2024-10-28T11:39:47+00:00",
          "2024-10-28T15:20:11+00:00",
          "2024-10-28T19:00:35+00:00",
          "2024-10-28T22:40:23+00:00",
          "2024-10-29T02:20:47+00:00",
          "2024-10-29T06:00:35+00:00",
          "2024-10-29T09:41:11+00:00",
          "2024-10-29T13:21:35+00:00",
          "2024-10-29T17:01:11+00:00",
          "2024-10-29T20:40:35+00:00",
          "2024-10-30T00:20:23+00:00",
          "2024-10-30T04:00:11+00:00",
          "2024-10-30T07:40:35+00:00",
          "2024-10-30T11:21:47+00:00",
          "2024-10-30T15:03:35+00:00",
          "2024-10-30T18:43:11+00:00",
          "2024-10-30T22:22:47+00:00",
          "2024-10-31T02:02:11+00:00",
          "2024-10-31T05:42:59+00:00",
          "2024-10-31T09:23:35+00:00",
          "2024-10-31T13:02:47+00:00",
          "2024-10-31T16:42:11+00:00",
          "2024-10-31T20:21:35+00:00",
          "2024-11-01T00:01:23+00:00",
          "2024-11-01T03:41:11+00:00",
          "2024-11-01T07:20:59+00:00",
          "2024-11-01T11:00:47+00:00",
          "2024-11-01T14:40:35+00:00",
          "2024-11-01T18:20:23+00:00",
          "2024-11-01T22:00:35+00:00",
          "2024-11-02T01:40:47+00:00",
          "2024-11-02T05:21:11+00:00",
          "2024-11-02T09:00:59+00:00",
          "2024-11-02T12:41:59+00:00",
          "2024-11-02T16:22:35+00:00",
          "2024-11-02T20:02:35+00:00",
          "2024-11-02T23:43:35+00:00",
          "2024-11-03T03:24:23+00:00",
          "2024-11-03T07:04:35+00:00",
          "2024-11-03T10:43:47+00:00",
          "2024-11-03T14:23:47+00:00",
          "2024-11-03T18:04:35+00:00",
          "2024-11-03T21:43:59+00:00",
          "2024-11-04T01:23:47+00:00",
          "2024-11-04T05:03:47+00:00",
          "2024-11-04T08:42:59+00:00",
          "2024-11-04T12:23:35+00:00",
          "2024-11-04T16:02:59+00:00",
          "2024-11-04T19:43:23+00:00",
          "2024-11-04T23:23:23+00:00",
          "2024-11-05T03:03:23+00:00",
          "2024-11-05T06:44:11+00:00",
          "2024-11-05T10:24:11+00:00",
          "2024-11-05T14:04:11+00:00",
          "2024-11-05T17:44:23+00:00",
          "2024-11-05T21:25:11+00:00",
          "2024-11-06T01:04:59+00:00",
          "2024-11-06T04:44:23+00:00",
          "2024-11-06T08:24:23+00:00",
          "2024-11-06T12:05:23+00:00",
          "2024-11-06T15:45:47+00:00"
         ],
         "xaxis": "x",
         "y": [
          -0.146,
          -0.146,
          -0.1342,
          -0.1342,
          -0.1342,
          -0.1342,
          -0.1342,
          -0.1342,
          -0.1275,
          -0.0579,
          -0.0579,
          -0.0579,
          -0.0579,
          -0.0579,
          -0.0579,
          -0.0511,
          -0.1112,
          -0.1112,
          -0.1112,
          -0.1112,
          -0.1112,
          -0.1046,
          -0.1196,
          -0.1196,
          -0.1196,
          -0.1196,
          -0.1196,
          -0.1196,
          -0.1129,
          -0.1147,
          -0.1147,
          -0.1147,
          -0.1147,
          -0.1147,
          -0.1077,
          -0.1258,
          -0.1258,
          -0.1258,
          -0.1258,
          -0.1258,
          -0.1258,
          -0.1183,
          -0.1073,
          -0.1073,
          -0.1073,
          -0.1073,
          -0.1073,
          -0.1001,
          -0.1109,
          -0.1109,
          -0.1109,
          -0.1109,
          -0.1109,
          -0.1109,
          -0.1038,
          -0.0388,
          -0.0388,
          -0.0388,
          -0.0388,
          -0.0388,
          -0.0317,
          -0.0978,
          -0.0978,
          -0.0978,
          -0.0978,
          -0.0978,
          -0.0978,
          -0.0907,
          -0.0788,
          -0.0788,
          -0.0788,
          -0.0788,
          -0.0788,
          -0.0788,
          -0.0013,
          -0.0013,
          -0.0013,
          -0.0013,
          -0.0013,
          -0.0013,
          0.006,
          -0.0552,
          -0.0552,
          -0.0552,
          -0.0552,
          -0.0552,
          -0.0552,
          -0.0246,
          -0.0246,
          -0.0246,
          -0.0246,
          -0.0246,
          -0.0246,
          -0.0181,
          -0.05,
          -0.05,
          -0.05,
          -0.05,
          -0.05,
          -0.05,
          -0.0432,
          -0.0172,
          -0.0172,
          -0.0172,
          -0.0172,
          -0.0172,
          -0.0103,
          -0.0729,
          -0.0729,
          -0.0729,
          -0.0729,
          -0.0729,
          -0.0729,
          -0.0654,
          -0.0633,
          -0.0633,
          -0.0633,
          -0.0633,
          -0.0633,
          -0.0562,
          -0.118,
          -0.118,
          -0.118,
          -0.118,
          -0.118,
          -0.118,
          -0.1115,
          -0.1534,
          -0.1534,
          -0.1534,
          -0.1534,
          -0.1534,
          -0.1534,
          -0.0117,
          -0.0117,
          -0.0117,
          -0.0117,
          -0.0117,
          -0.0117,
          -0.0048,
          -0.1029,
          -0.1029,
          -0.1029,
          -0.1029,
          -0.1029,
          -0.1029,
          -0.0455,
          -0.0455,
          -0.0455,
          -0.0455,
          -0.0455,
          -0.0455,
          -0.0381,
          -0.0509,
          -0.0509,
          -0.0509,
          -0.0509,
          -0.0509,
          -0.0509,
          -0.0435,
          -0.0164,
          -0.0164,
          -0.0164,
          -0.0164,
          -0.0164,
          -0.0083,
          -0.0284,
          -0.0284,
          -0.0284,
          -0.0284,
          -0.0284,
          -0.0284,
          -0.0214,
          -0.0556,
          -0.0556,
          -0.0556,
          -0.0556,
          -0.0556,
          -0.0485,
          -0.0533,
          -0.0533,
          -0.0533,
          -0.0533,
          -0.0533,
          -0.0533,
          -0.0465,
          -0.0053,
          -0.0053,
          -0.0053,
          -0.0053,
          -0.0053,
          0.0017,
          -0.052,
          -0.052,
          -0.052,
          -0.052,
          -0.052,
          -0.052,
          -0.0451,
          -0.0031,
          -0.0031,
          -0.0031,
          -0.0031,
          -0.0031,
          0.0041,
          -0.0107,
          -0.0107,
          -0.0107,
          -0.0107,
          -0.0107,
          -0.0107,
          -0.0031,
          0.0133,
          0.0133,
          0.0133,
          0.0133,
          0.0133,
          0.0133,
          0.0219,
          0.0219,
          0.0219,
          0.0219,
          0.0219,
          0.0219,
          0.0286,
          -0.0152,
          -0.0152,
          -0.0152,
          -0.0152,
          -0.0152,
          -0.0152,
          -0.0086,
          -0.0013,
          -0.0013,
          -0.0013,
          -0.0013,
          -0.0013,
          0.005,
          0.012,
          0.012,
          0.012,
          0.012,
          0.012,
          0.012,
          0.0186,
          0.0188,
          0.0188,
          0.0188,
          0.0188,
          0.0188,
          0.0253,
          0.0178,
          0.0178,
          0.0178,
          0.0178,
          0.0178,
          0.0178,
          0.0245,
          -0.0051,
          -0.0051,
          -0.0051,
          -0.0051,
          -0.0051,
          0.0014,
          -0.0035,
          -0.0035,
          -0.0035,
          -0.0035,
          -0.0035,
          -0.0035,
          0.003,
          -0.0162,
          -0.0162,
          -0.0162,
          -0.0162,
          -0.0162,
          -0.0095,
          0.0458,
          0.0458,
          0.0458,
          0.0458,
          0.0458,
          0.0458,
          0.052,
          -0.0477,
          -0.0477,
          -0.0477,
          -0.0477,
          -0.0477,
          -0.0477,
          -0.0316,
          -0.0316,
          -0.0316,
          -0.0316,
          -0.0316,
          -0.0316,
          -0.0243,
          0.0092,
          0.0092,
          0.0092,
          0.0092,
          0.0092,
          0.0092,
          0.0169,
          0,
          0,
          0,
          0,
          0,
          0.0077,
          0.0179,
          0.0179,
          0.0179,
          0.0179,
          0.0179,
          0.0179,
          0.0252,
          0.4646,
          0.4646,
          0.4646,
          0.4646,
          0.4646,
          0.472,
          0.1328,
          0.1328,
          0.1328,
          0.1328,
          0.1328,
          0.1328,
          0.1401,
          0.2056,
          0.2056,
          0.2056,
          0.2056,
          0.2056,
          0.2163,
          0.3436,
          0.3436,
          0.3436,
          0.3436,
          0.3436,
          0.3436,
          0.3514,
          0.2544,
          0.2544
         ],
         "yaxis": "y"
        },
        {
         "hovertemplate": "variable=WETH<br>timestamp=%{x}<br>value=%{y}<extra></extra>",
         "legendgroup": "WETH",
         "line": {
          "color": "#EF553B",
          "dash": "solid"
         },
         "marker": {
          "symbol": "circle"
         },
         "mode": "lines",
         "name": "WETH",
         "showlegend": true,
         "type": "scattergl",
         "x": [
          "2024-09-15T02:04:47+00:00",
          "2024-09-15T05:44:35+00:00",
          "2024-09-15T09:24:47+00:00",
          "2024-09-15T13:04:11+00:00",
          "2024-09-15T16:44:23+00:00",
          "2024-09-15T20:23:35+00:00",
          "2024-09-16T00:03:11+00:00",
          "2024-09-16T03:43:47+00:00",
          "2024-09-16T07:23:23+00:00",
          "2024-09-16T11:04:47+00:00",
          "2024-09-16T14:46:11+00:00",
          "2024-09-16T18:26:47+00:00",
          "2024-09-16T22:06:23+00:00",
          "2024-09-17T01:46:35+00:00",
          "2024-09-17T05:27:47+00:00",
          "2024-09-17T09:08:35+00:00",
          "2024-09-17T12:48:23+00:00",
          "2024-09-17T16:29:11+00:00",
          "2024-09-17T20:09:47+00:00",
          "2024-09-17T23:50:47+00:00",
          "2024-09-18T03:30:35+00:00",
          "2024-09-18T07:11:35+00:00",
          "2024-09-18T10:51:35+00:00",
          "2024-09-18T14:32:23+00:00",
          "2024-09-18T18:12:23+00:00",
          "2024-09-18T21:52:47+00:00",
          "2024-09-19T01:33:11+00:00",
          "2024-09-19T05:13:23+00:00",
          "2024-09-19T08:53:23+00:00",
          "2024-09-19T12:33:23+00:00",
          "2024-09-19T16:13:23+00:00",
          "2024-09-19T19:53:23+00:00",
          "2024-09-19T23:33:11+00:00",
          "2024-09-20T03:13:35+00:00",
          "2024-09-20T06:54:11+00:00",
          "2024-09-20T10:35:11+00:00",
          "2024-09-20T14:14:59+00:00",
          "2024-09-20T17:54:59+00:00",
          "2024-09-20T21:35:23+00:00",
          "2024-09-21T01:16:23+00:00",
          "2024-09-21T04:56:23+00:00",
          "2024-09-21T08:38:11+00:00",
          "2024-09-21T12:18:11+00:00",
          "2024-09-21T15:58:11+00:00",
          "2024-09-21T19:38:11+00:00",
          "2024-09-21T23:19:11+00:00",
          "2024-09-22T02:58:47+00:00",
          "2024-09-22T06:38:35+00:00",
          "2024-09-22T10:18:23+00:00",
          "2024-09-22T13:58:11+00:00",
          "2024-09-22T17:37:59+00:00",
          "2024-09-22T21:18:11+00:00",
          "2024-09-23T00:57:47+00:00",
          "2024-09-23T04:37:23+00:00",
          "2024-09-23T08:17:35+00:00",
          "2024-09-23T11:58:59+00:00",
          "2024-09-23T15:38:59+00:00",
          "2024-09-23T19:18:59+00:00",
          "2024-09-23T22:58:59+00:00",
          "2024-09-24T02:38:47+00:00",
          "2024-09-24T06:18:23+00:00",
          "2024-09-24T09:57:47+00:00",
          "2024-09-24T13:37:23+00:00",
          "2024-09-24T17:17:47+00:00",
          "2024-09-24T20:57:11+00:00",
          "2024-09-25T00:36:59+00:00",
          "2024-09-25T04:17:23+00:00",
          "2024-09-25T07:57:11+00:00",
          "2024-09-25T11:37:35+00:00",
          "2024-09-25T15:18:35+00:00",
          "2024-09-25T18:59:35+00:00",
          "2024-09-25T22:38:47+00:00",
          "2024-09-26T02:18:35+00:00",
          "2024-09-26T05:58:23+00:00",
          "2024-09-26T09:37:59+00:00",
          "2024-09-26T13:17:35+00:00",
          "2024-09-26T16:56:59+00:00",
          "2024-09-26T20:36:59+00:00",
          "2024-09-27T00:17:47+00:00",
          "2024-09-27T03:57:35+00:00",
          "2024-09-27T07:37:11+00:00",
          "2024-09-27T11:16:59+00:00",
          "2024-09-27T14:56:47+00:00",
          "2024-09-27T18:36:47+00:00",
          "2024-09-27T22:16:11+00:00",
          "2024-09-28T01:55:59+00:00",
          "2024-09-28T05:36:23+00:00",
          "2024-09-28T09:15:59+00:00",
          "2024-09-28T12:55:47+00:00",
          "2024-09-28T16:35:23+00:00",
          "2024-09-28T20:15:47+00:00",
          "2024-09-28T23:56:35+00:00",
          "2024-09-29T03:36:47+00:00",
          "2024-09-29T07:17:11+00:00",
          "2024-09-29T10:56:47+00:00",
          "2024-09-29T14:36:35+00:00",
          "2024-09-29T18:16:11+00:00",
          "2024-09-29T21:56:47+00:00",
          "2024-09-30T01:36:35+00:00",
          "2024-09-30T05:16:35+00:00",
          "2024-09-30T08:55:59+00:00",
          "2024-09-30T12:35:23+00:00",
          "2024-09-30T16:15:11+00:00",
          "2024-09-30T19:54:47+00:00",
          "2024-09-30T23:34:23+00:00",
          "2024-10-01T03:13:59+00:00",
          "2024-10-01T06:53:59+00:00",
          "2024-10-01T10:33:35+00:00",
          "2024-10-01T14:13:47+00:00",
          "2024-10-01T17:54:11+00:00",
          "2024-10-01T21:34:23+00:00",
          "2024-10-02T01:14:11+00:00",
          "2024-10-02T04:54:11+00:00",
          "2024-10-02T08:33:47+00:00",
          "2024-10-02T12:12:59+00:00",
          "2024-10-02T15:53:11+00:00",
          "2024-10-02T19:33:23+00:00",
          "2024-10-02T23:12:47+00:00",
          "2024-10-03T02:52:11+00:00",
          "2024-10-03T06:32:23+00:00",
          "2024-10-03T10:11:59+00:00",
          "2024-10-03T13:51:59+00:00",
          "2024-10-03T17:33:23+00:00",
          "2024-10-03T21:13:47+00:00",
          "2024-10-04T00:53:11+00:00",
          "2024-10-04T04:32:23+00:00",
          "2024-10-04T08:11:59+00:00",
          "2024-10-04T11:51:23+00:00",
          "2024-10-04T15:30:59+00:00",
          "2024-10-04T19:10:35+00:00",
          "2024-10-04T22:50:23+00:00",
          "2024-10-05T02:30:35+00:00",
          "2024-10-05T06:09:59+00:00",
          "2024-10-05T09:49:59+00:00",
          "2024-10-05T13:29:23+00:00",
          "2024-10-05T17:09:23+00:00",
          "2024-10-05T20:48:59+00:00",
          "2024-10-06T00:28:11+00:00",
          "2024-10-06T04:07:47+00:00",
          "2024-10-06T07:47:35+00:00",
          "2024-10-06T11:27:47+00:00",
          "2024-10-06T15:07:47+00:00",
          "2024-10-06T18:47:35+00:00",
          "2024-10-06T22:27:23+00:00",
          "2024-10-07T02:07:35+00:00",
          "2024-10-07T05:47:35+00:00",
          "2024-10-07T09:27:11+00:00",
          "2024-10-07T13:06:35+00:00",
          "2024-10-07T16:46:47+00:00",
          "2024-10-07T20:26:23+00:00",
          "2024-10-08T00:05:59+00:00",
          "2024-10-08T03:45:47+00:00",
          "2024-10-08T07:25:35+00:00",
          "2024-10-08T11:04:59+00:00",
          "2024-10-08T14:44:47+00:00",
          "2024-10-08T18:24:11+00:00",
          "2024-10-08T22:04:47+00:00",
          "2024-10-09T01:44:35+00:00",
          "2024-10-09T05:23:47+00:00",
          "2024-10-09T09:03:35+00:00",
          "2024-10-09T12:43:59+00:00",
          "2024-10-09T16:23:11+00:00",
          "2024-10-09T20:02:59+00:00",
          "2024-10-09T23:42:35+00:00",
          "2024-10-10T03:22:23+00:00",
          "2024-10-10T07:02:23+00:00",
          "2024-10-10T10:42:11+00:00",
          "2024-10-10T14:21:47+00:00",
          "2024-10-10T18:01:11+00:00",
          "2024-10-10T21:40:59+00:00",
          "2024-10-11T01:20:35+00:00",
          "2024-10-11T05:00:35+00:00",
          "2024-10-11T08:40:59+00:00",
          "2024-10-11T12:21:35+00:00",
          "2024-10-11T16:02:35+00:00",
          "2024-10-11T19:42:47+00:00",
          "2024-10-11T23:23:35+00:00",
          "2024-10-12T03:04:23+00:00",
          "2024-10-12T06:44:47+00:00",
          "2024-10-12T10:26:35+00:00",
          "2024-10-12T14:06:59+00:00",
          "2024-10-12T17:46:59+00:00",
          "2024-10-12T21:27:35+00:00",
          "2024-10-13T01:07:59+00:00",
          "2024-10-13T04:50:11+00:00",
          "2024-10-13T08:32:47+00:00",
          "2024-10-13T12:14:23+00:00",
          "2024-10-13T15:54:11+00:00",
          "2024-10-13T19:34:11+00:00",
          "2024-10-13T23:14:47+00:00",
          "2024-10-14T02:54:59+00:00",
          "2024-10-14T06:34:47+00:00",
          "2024-10-14T10:16:11+00:00",
          "2024-10-14T13:57:11+00:00",
          "2024-10-14T17:36:59+00:00",
          "2024-10-14T21:17:23+00:00",
          "2024-10-15T00:57:23+00:00",
          "2024-10-15T04:37:47+00:00",
          "2024-10-15T08:17:23+00:00",
          "2024-10-15T11:57:59+00:00",
          "2024-10-15T15:38:35+00:00",
          "2024-10-15T19:18:59+00:00",
          "2024-10-15T22:59:11+00:00",
          "2024-10-16T02:39:59+00:00",
          "2024-10-16T06:19:59+00:00",
          "2024-10-16T09:59:59+00:00",
          "2024-10-16T13:40:11+00:00",
          "2024-10-16T17:20:11+00:00",
          "2024-10-16T21:00:23+00:00",
          "2024-10-17T00:40:59+00:00",
          "2024-10-17T04:21:11+00:00",
          "2024-10-17T08:01:11+00:00",
          "2024-10-17T11:40:47+00:00",
          "2024-10-17T15:21:11+00:00",
          "2024-10-17T19:01:23+00:00",
          "2024-10-17T22:41:35+00:00",
          "2024-10-18T02:21:35+00:00",
          "2024-10-18T06:01:59+00:00",
          "2024-10-18T09:42:11+00:00",
          "2024-10-18T13:21:47+00:00",
          "2024-10-18T17:02:11+00:00",
          "2024-10-18T20:41:47+00:00",
          "2024-10-19T00:21:47+00:00",
          "2024-10-19T04:01:47+00:00",
          "2024-10-19T07:42:23+00:00",
          "2024-10-19T11:21:59+00:00",
          "2024-10-19T15:01:59+00:00",
          "2024-10-19T18:41:47+00:00",
          "2024-10-19T22:21:23+00:00",
          "2024-10-20T02:00:47+00:00",
          "2024-10-20T05:40:47+00:00",
          "2024-10-20T09:20:35+00:00",
          "2024-10-20T12:59:59+00:00",
          "2024-10-20T16:40:59+00:00",
          "2024-10-20T20:20:47+00:00",
          "2024-10-21T00:00:59+00:00",
          "2024-10-21T03:41:35+00:00",
          "2024-10-21T07:21:35+00:00",
          "2024-10-21T11:00:59+00:00",
          "2024-10-21T14:40:59+00:00",
          "2024-10-21T18:20:23+00:00",
          "2024-10-21T22:00:35+00:00",
          "2024-10-22T01:40:59+00:00",
          "2024-10-22T05:21:11+00:00",
          "2024-10-22T09:01:23+00:00",
          "2024-10-22T12:41:35+00:00",
          "2024-10-22T16:21:35+00:00",
          "2024-10-22T20:01:35+00:00",
          "2024-10-22T23:42:23+00:00",
          "2024-10-23T03:22:35+00:00",
          "2024-10-23T07:01:35+00:00",
          "2024-10-23T10:41:35+00:00",
          "2024-10-23T14:21:11+00:00",
          "2024-10-23T18:00:59+00:00",
          "2024-10-23T21:40:11+00:00",
          "2024-10-24T01:20:47+00:00",
          "2024-10-24T05:00:47+00:00",
          "2024-10-24T08:40:59+00:00",
          "2024-10-24T12:20:35+00:00",
          "2024-10-24T16:00:35+00:00",
          "2024-10-24T19:40:11+00:00",
          "2024-10-24T23:19:59+00:00",
          "2024-10-25T02:59:59+00:00",
          "2024-10-25T06:40:11+00:00",
          "2024-10-25T10:19:35+00:00",
          "2024-10-25T13:59:35+00:00",
          "2024-10-25T17:39:35+00:00",
          "2024-10-25T21:19:11+00:00",
          "2024-10-26T00:58:59+00:00",
          "2024-10-26T04:39:23+00:00",
          "2024-10-26T08:19:11+00:00",
          "2024-10-26T11:59:59+00:00",
          "2024-10-26T15:40:35+00:00",
          "2024-10-26T19:20:11+00:00",
          "2024-10-26T22:59:59+00:00",
          "2024-10-27T02:40:11+00:00",
          "2024-10-27T06:19:47+00:00",
          "2024-10-27T09:59:23+00:00",
          "2024-10-27T13:40:11+00:00",
          "2024-10-27T17:19:47+00:00",
          "2024-10-27T20:59:11+00:00",
          "2024-10-28T00:38:35+00:00",
          "2024-10-28T04:18:47+00:00",
          "2024-10-28T07:59:47+00:00",
          "2024-10-28T11:39:47+00:00",
          "2024-10-28T15:20:11+00:00",
          "2024-10-28T19:00:35+00:00",
          "2024-10-28T22:40:23+00:00",
          "2024-10-29T02:20:47+00:00",
          "2024-10-29T06:00:35+00:00",
          "2024-10-29T09:41:11+00:00",
          "2024-10-29T13:21:35+00:00",
          "2024-10-29T17:01:11+00:00",
          "2024-10-29T20:40:35+00:00",
          "2024-10-30T00:20:23+00:00",
          "2024-10-30T04:00:11+00:00",
          "2024-10-30T07:40:35+00:00",
          "2024-10-30T11:21:47+00:00",
          "2024-10-30T15:03:35+00:00",
          "2024-10-30T18:43:11+00:00",
          "2024-10-30T22:22:47+00:00",
          "2024-10-31T02:02:11+00:00",
          "2024-10-31T05:42:59+00:00",
          "2024-10-31T09:23:35+00:00",
          "2024-10-31T13:02:47+00:00",
          "2024-10-31T16:42:11+00:00",
          "2024-10-31T20:21:35+00:00",
          "2024-11-01T00:01:23+00:00",
          "2024-11-01T03:41:11+00:00",
          "2024-11-01T07:20:59+00:00",
          "2024-11-01T11:00:47+00:00",
          "2024-11-01T14:40:35+00:00",
          "2024-11-01T18:20:23+00:00",
          "2024-11-01T22:00:35+00:00",
          "2024-11-02T01:40:47+00:00",
          "2024-11-02T05:21:11+00:00",
          "2024-11-02T09:00:59+00:00",
          "2024-11-02T12:41:59+00:00",
          "2024-11-02T16:22:35+00:00",
          "2024-11-02T20:02:35+00:00",
          "2024-11-02T23:43:35+00:00",
          "2024-11-03T03:24:23+00:00",
          "2024-11-03T07:04:35+00:00",
          "2024-11-03T10:43:47+00:00",
          "2024-11-03T14:23:47+00:00",
          "2024-11-03T18:04:35+00:00",
          "2024-11-03T21:43:59+00:00",
          "2024-11-04T01:23:47+00:00",
          "2024-11-04T05:03:47+00:00",
          "2024-11-04T08:42:59+00:00",
          "2024-11-04T12:23:35+00:00",
          "2024-11-04T16:02:59+00:00",
          "2024-11-04T19:43:23+00:00",
          "2024-11-04T23:23:23+00:00",
          "2024-11-05T03:03:23+00:00",
          "2024-11-05T06:44:11+00:00",
          "2024-11-05T10:24:11+00:00",
          "2024-11-05T14:04:11+00:00",
          "2024-11-05T17:44:23+00:00",
          "2024-11-05T21:25:11+00:00",
          "2024-11-06T01:04:59+00:00",
          "2024-11-06T04:44:23+00:00",
          "2024-11-06T08:24:23+00:00",
          "2024-11-06T12:05:23+00:00",
          "2024-11-06T15:45:47+00:00"
         ],
         "xaxis": "x",
         "y": [
          0,
          0,
          0,
          0,
          0,
          0,
          0,
          0,
          0,
          0,
          0,
          0,
          0,
          0,
          0,
          0,
          0,
          0,
          0,
          0,
          0,
          0,
          0,
          0,
          0,
          0,
          0,
          0,
          0,
          0,
          0,
          0,
          0,
          0,
          0,
          0,
          0,
          0,
          0,
          0,
          0,
          0,
          0,
          0,
          0,
          0,
          0,
          0,
          0,
          0,
          0,
          0,
          0,
          0,
          0,
          0,
          0,
          0,
          0,
          0,
          0,
          0,
          0,
          0,
          0,
          0,
          0,
          0,
          0,
          0,
          0,
          0,
          0,
          0,
          0,
          0,
          0,
          0,
          0,
          0,
          0,
          0,
          0,
          0,
          0,
          0,
          0,
          0,
          0,
          0,
          0,
          0,
          0,
          0,
          0,
          0,
          0,
          0,
          0,
          0,
          0,
          0,
          0,
          0,
          0,
          0,
          0,
          0,
          0,
          0,
          0,
          0,
          0,
          0,
          0,
          0,
          0,
          0,
          0,
          0,
          0,
          0,
          0,
          0,
          0,
          0,
          0,
          0,
          0,
          0,
          0,
          0,
          0,
          0,
          0,
          0,
          0,
          0,
          0,
          0,
          0,
          0,
          0,
          0,
          0,
          0,
          0,
          0,
          0,
          0,
          0,
          0,
          0,
          0,
          0,
          0,
          0,
          0,
          0,
          0,
          0,
          0,
          0,
          0,
          0,
          0,
          0,
          0,
          0,
          0,
          0,
          0,
          0,
          0,
          0,
          0,
          0,
          0,
          0,
          0,
          0,
          0,
          0,
          0,
          0,
          0,
          0,
          0,
          0,
          0,
          0,
          0,
          0,
          0,
          0,
          0,
          0,
          0,
          0,
          0,
          0,
          0,
          0,
          0,
          0,
          0,
          0,
          0,
          0,
          0,
          0,
          0,
          0,
          0,
          0,
          0,
          0,
          0,
          0,
          0,
          0,
          0,
          0,
          0,
          0,
          0,
          0,
          0,
          0,
          0,
          0,
          0,
          0,
          0,
          0,
          0,
          0,
          0,
          0,
          0,
          0,
          0,
          0,
          0,
          0,
          0,
          0,
          0,
          0,
          0,
          0,
          0,
          0,
          0,
          0,
          0,
          0,
          0,
          0,
          0,
          0,
          0,
          0,
          0,
          0,
          0,
          0,
          0,
          0,
          0,
          0,
          0,
          0,
          0,
          0,
          0,
          0,
          0,
          0,
          0,
          0,
          0,
          0,
          0,
          0,
          0,
          0,
          0,
          0,
          0,
          0,
          0,
          0,
          0,
          0,
          0,
          0,
          0,
          0,
          0,
          0,
          0,
          0,
          0,
          0,
          0,
          0,
          0,
          0,
          0,
          0,
          0,
          0,
          0,
          0,
          0,
          0,
          0,
          0,
          0,
          0,
          0,
          0,
          0,
          0,
          0,
          0,
          0,
          0,
          0,
          0,
          0,
          0,
          0,
          0,
          0,
          0,
          0,
          0,
          0,
          0,
          0,
          0,
          0,
          0
         ],
         "yaxis": "y"
        },
        {
         "hovertemplate": "variable=osETH<br>timestamp=%{x}<br>value=%{y}<extra></extra>",
         "legendgroup": "osETH",
         "line": {
          "color": "#00cc96",
          "dash": "solid"
         },
         "marker": {
          "symbol": "circle"
         },
         "mode": "lines",
         "name": "osETH",
         "showlegend": true,
         "type": "scattergl",
         "x": [
          "2024-09-15T02:04:47+00:00",
          "2024-09-15T05:44:35+00:00",
          "2024-09-15T09:24:47+00:00",
          "2024-09-15T13:04:11+00:00",
          "2024-09-15T16:44:23+00:00",
          "2024-09-15T20:23:35+00:00",
          "2024-09-16T00:03:11+00:00",
          "2024-09-16T03:43:47+00:00",
          "2024-09-16T07:23:23+00:00",
          "2024-09-16T11:04:47+00:00",
          "2024-09-16T14:46:11+00:00",
          "2024-09-16T18:26:47+00:00",
          "2024-09-16T22:06:23+00:00",
          "2024-09-17T01:46:35+00:00",
          "2024-09-17T05:27:47+00:00",
          "2024-09-17T09:08:35+00:00",
          "2024-09-17T12:48:23+00:00",
          "2024-09-17T16:29:11+00:00",
          "2024-09-17T20:09:47+00:00",
          "2024-09-17T23:50:47+00:00",
          "2024-09-18T03:30:35+00:00",
          "2024-09-18T07:11:35+00:00",
          "2024-09-18T10:51:35+00:00",
          "2024-09-18T14:32:23+00:00",
          "2024-09-18T18:12:23+00:00",
          "2024-09-18T21:52:47+00:00",
          "2024-09-19T01:33:11+00:00",
          "2024-09-19T05:13:23+00:00",
          "2024-09-19T08:53:23+00:00",
          "2024-09-19T12:33:23+00:00",
          "2024-09-19T16:13:23+00:00",
          "2024-09-19T19:53:23+00:00",
          "2024-09-19T23:33:11+00:00",
          "2024-09-20T03:13:35+00:00",
          "2024-09-20T06:54:11+00:00",
          "2024-09-20T10:35:11+00:00",
          "2024-09-20T14:14:59+00:00",
          "2024-09-20T17:54:59+00:00",
          "2024-09-20T21:35:23+00:00",
          "2024-09-21T01:16:23+00:00",
          "2024-09-21T04:56:23+00:00",
          "2024-09-21T08:38:11+00:00",
          "2024-09-21T12:18:11+00:00",
          "2024-09-21T15:58:11+00:00",
          "2024-09-21T19:38:11+00:00",
          "2024-09-21T23:19:11+00:00",
          "2024-09-22T02:58:47+00:00",
          "2024-09-22T06:38:35+00:00",
          "2024-09-22T10:18:23+00:00",
          "2024-09-22T13:58:11+00:00",
          "2024-09-22T17:37:59+00:00",
          "2024-09-22T21:18:11+00:00",
          "2024-09-23T00:57:47+00:00",
          "2024-09-23T04:37:23+00:00",
          "2024-09-23T08:17:35+00:00",
          "2024-09-23T11:58:59+00:00",
          "2024-09-23T15:38:59+00:00",
          "2024-09-23T19:18:59+00:00",
          "2024-09-23T22:58:59+00:00",
          "2024-09-24T02:38:47+00:00",
          "2024-09-24T06:18:23+00:00",
          "2024-09-24T09:57:47+00:00",
          "2024-09-24T13:37:23+00:00",
          "2024-09-24T17:17:47+00:00",
          "2024-09-24T20:57:11+00:00",
          "2024-09-25T00:36:59+00:00",
          "2024-09-25T04:17:23+00:00",
          "2024-09-25T07:57:11+00:00",
          "2024-09-25T11:37:35+00:00",
          "2024-09-25T15:18:35+00:00",
          "2024-09-25T18:59:35+00:00",
          "2024-09-25T22:38:47+00:00",
          "2024-09-26T02:18:35+00:00",
          "2024-09-26T05:58:23+00:00",
          "2024-09-26T09:37:59+00:00",
          "2024-09-26T13:17:35+00:00",
          "2024-09-26T16:56:59+00:00",
          "2024-09-26T20:36:59+00:00",
          "2024-09-27T00:17:47+00:00",
          "2024-09-27T03:57:35+00:00",
          "2024-09-27T07:37:11+00:00",
          "2024-09-27T11:16:59+00:00",
          "2024-09-27T14:56:47+00:00",
          "2024-09-27T18:36:47+00:00",
          "2024-09-27T22:16:11+00:00",
          "2024-09-28T01:55:59+00:00",
          "2024-09-28T05:36:23+00:00",
          "2024-09-28T09:15:59+00:00",
          "2024-09-28T12:55:47+00:00",
          "2024-09-28T16:35:23+00:00",
          "2024-09-28T20:15:47+00:00",
          "2024-09-28T23:56:35+00:00",
          "2024-09-29T03:36:47+00:00",
          "2024-09-29T07:17:11+00:00",
          "2024-09-29T10:56:47+00:00",
          "2024-09-29T14:36:35+00:00",
          "2024-09-29T18:16:11+00:00",
          "2024-09-29T21:56:47+00:00",
          "2024-09-30T01:36:35+00:00",
          "2024-09-30T05:16:35+00:00",
          "2024-09-30T08:55:59+00:00",
          "2024-09-30T12:35:23+00:00",
          "2024-09-30T16:15:11+00:00",
          "2024-09-30T19:54:47+00:00",
          "2024-09-30T23:34:23+00:00",
          "2024-10-01T03:13:59+00:00",
          "2024-10-01T06:53:59+00:00",
          "2024-10-01T10:33:35+00:00",
          "2024-10-01T14:13:47+00:00",
          "2024-10-01T17:54:11+00:00",
          "2024-10-01T21:34:23+00:00",
          "2024-10-02T01:14:11+00:00",
          "2024-10-02T04:54:11+00:00",
          "2024-10-02T08:33:47+00:00",
          "2024-10-02T12:12:59+00:00",
          "2024-10-02T15:53:11+00:00",
          "2024-10-02T19:33:23+00:00",
          "2024-10-02T23:12:47+00:00",
          "2024-10-03T02:52:11+00:00",
          "2024-10-03T06:32:23+00:00",
          "2024-10-03T10:11:59+00:00",
          "2024-10-03T13:51:59+00:00",
          "2024-10-03T17:33:23+00:00",
          "2024-10-03T21:13:47+00:00",
          "2024-10-04T00:53:11+00:00",
          "2024-10-04T04:32:23+00:00",
          "2024-10-04T08:11:59+00:00",
          "2024-10-04T11:51:23+00:00",
          "2024-10-04T15:30:59+00:00",
          "2024-10-04T19:10:35+00:00",
          "2024-10-04T22:50:23+00:00",
          "2024-10-05T02:30:35+00:00",
          "2024-10-05T06:09:59+00:00",
          "2024-10-05T09:49:59+00:00",
          "2024-10-05T13:29:23+00:00",
          "2024-10-05T17:09:23+00:00",
          "2024-10-05T20:48:59+00:00",
          "2024-10-06T00:28:11+00:00",
          "2024-10-06T04:07:47+00:00",
          "2024-10-06T07:47:35+00:00",
          "2024-10-06T11:27:47+00:00",
          "2024-10-06T15:07:47+00:00",
          "2024-10-06T18:47:35+00:00",
          "2024-10-06T22:27:23+00:00",
          "2024-10-07T02:07:35+00:00",
          "2024-10-07T05:47:35+00:00",
          "2024-10-07T09:27:11+00:00",
          "2024-10-07T13:06:35+00:00",
          "2024-10-07T16:46:47+00:00",
          "2024-10-07T20:26:23+00:00",
          "2024-10-08T00:05:59+00:00",
          "2024-10-08T03:45:47+00:00",
          "2024-10-08T07:25:35+00:00",
          "2024-10-08T11:04:59+00:00",
          "2024-10-08T14:44:47+00:00",
          "2024-10-08T18:24:11+00:00",
          "2024-10-08T22:04:47+00:00",
          "2024-10-09T01:44:35+00:00",
          "2024-10-09T05:23:47+00:00",
          "2024-10-09T09:03:35+00:00",
          "2024-10-09T12:43:59+00:00",
          "2024-10-09T16:23:11+00:00",
          "2024-10-09T20:02:59+00:00",
          "2024-10-09T23:42:35+00:00",
          "2024-10-10T03:22:23+00:00",
          "2024-10-10T07:02:23+00:00",
          "2024-10-10T10:42:11+00:00",
          "2024-10-10T14:21:47+00:00",
          "2024-10-10T18:01:11+00:00",
          "2024-10-10T21:40:59+00:00",
          "2024-10-11T01:20:35+00:00",
          "2024-10-11T05:00:35+00:00",
          "2024-10-11T08:40:59+00:00",
          "2024-10-11T12:21:35+00:00",
          "2024-10-11T16:02:35+00:00",
          "2024-10-11T19:42:47+00:00",
          "2024-10-11T23:23:35+00:00",
          "2024-10-12T03:04:23+00:00",
          "2024-10-12T06:44:47+00:00",
          "2024-10-12T10:26:35+00:00",
          "2024-10-12T14:06:59+00:00",
          "2024-10-12T17:46:59+00:00",
          "2024-10-12T21:27:35+00:00",
          "2024-10-13T01:07:59+00:00",
          "2024-10-13T04:50:11+00:00",
          "2024-10-13T08:32:47+00:00",
          "2024-10-13T12:14:23+00:00",
          "2024-10-13T15:54:11+00:00",
          "2024-10-13T19:34:11+00:00",
          "2024-10-13T23:14:47+00:00",
          "2024-10-14T02:54:59+00:00",
          "2024-10-14T06:34:47+00:00",
          "2024-10-14T10:16:11+00:00",
          "2024-10-14T13:57:11+00:00",
          "2024-10-14T17:36:59+00:00",
          "2024-10-14T21:17:23+00:00",
          "2024-10-15T00:57:23+00:00",
          "2024-10-15T04:37:47+00:00",
          "2024-10-15T08:17:23+00:00",
          "2024-10-15T11:57:59+00:00",
          "2024-10-15T15:38:35+00:00",
          "2024-10-15T19:18:59+00:00",
          "2024-10-15T22:59:11+00:00",
          "2024-10-16T02:39:59+00:00",
          "2024-10-16T06:19:59+00:00",
          "2024-10-16T09:59:59+00:00",
          "2024-10-16T13:40:11+00:00",
          "2024-10-16T17:20:11+00:00",
          "2024-10-16T21:00:23+00:00",
          "2024-10-17T00:40:59+00:00",
          "2024-10-17T04:21:11+00:00",
          "2024-10-17T08:01:11+00:00",
          "2024-10-17T11:40:47+00:00",
          "2024-10-17T15:21:11+00:00",
          "2024-10-17T19:01:23+00:00",
          "2024-10-17T22:41:35+00:00",
          "2024-10-18T02:21:35+00:00",
          "2024-10-18T06:01:59+00:00",
          "2024-10-18T09:42:11+00:00",
          "2024-10-18T13:21:47+00:00",
          "2024-10-18T17:02:11+00:00",
          "2024-10-18T20:41:47+00:00",
          "2024-10-19T00:21:47+00:00",
          "2024-10-19T04:01:47+00:00",
          "2024-10-19T07:42:23+00:00",
          "2024-10-19T11:21:59+00:00",
          "2024-10-19T15:01:59+00:00",
          "2024-10-19T18:41:47+00:00",
          "2024-10-19T22:21:23+00:00",
          "2024-10-20T02:00:47+00:00",
          "2024-10-20T05:40:47+00:00",
          "2024-10-20T09:20:35+00:00",
          "2024-10-20T12:59:59+00:00",
          "2024-10-20T16:40:59+00:00",
          "2024-10-20T20:20:47+00:00",
          "2024-10-21T00:00:59+00:00",
          "2024-10-21T03:41:35+00:00",
          "2024-10-21T07:21:35+00:00",
          "2024-10-21T11:00:59+00:00",
          "2024-10-21T14:40:59+00:00",
          "2024-10-21T18:20:23+00:00",
          "2024-10-21T22:00:35+00:00",
          "2024-10-22T01:40:59+00:00",
          "2024-10-22T05:21:11+00:00",
          "2024-10-22T09:01:23+00:00",
          "2024-10-22T12:41:35+00:00",
          "2024-10-22T16:21:35+00:00",
          "2024-10-22T20:01:35+00:00",
          "2024-10-22T23:42:23+00:00",
          "2024-10-23T03:22:35+00:00",
          "2024-10-23T07:01:35+00:00",
          "2024-10-23T10:41:35+00:00",
          "2024-10-23T14:21:11+00:00",
          "2024-10-23T18:00:59+00:00",
          "2024-10-23T21:40:11+00:00",
          "2024-10-24T01:20:47+00:00",
          "2024-10-24T05:00:47+00:00",
          "2024-10-24T08:40:59+00:00",
          "2024-10-24T12:20:35+00:00",
          "2024-10-24T16:00:35+00:00",
          "2024-10-24T19:40:11+00:00",
          "2024-10-24T23:19:59+00:00",
          "2024-10-25T02:59:59+00:00",
          "2024-10-25T06:40:11+00:00",
          "2024-10-25T10:19:35+00:00",
          "2024-10-25T13:59:35+00:00",
          "2024-10-25T17:39:35+00:00",
          "2024-10-25T21:19:11+00:00",
          "2024-10-26T00:58:59+00:00",
          "2024-10-26T04:39:23+00:00",
          "2024-10-26T08:19:11+00:00",
          "2024-10-26T11:59:59+00:00",
          "2024-10-26T15:40:35+00:00",
          "2024-10-26T19:20:11+00:00",
          "2024-10-26T22:59:59+00:00",
          "2024-10-27T02:40:11+00:00",
          "2024-10-27T06:19:47+00:00",
          "2024-10-27T09:59:23+00:00",
          "2024-10-27T13:40:11+00:00",
          "2024-10-27T17:19:47+00:00",
          "2024-10-27T20:59:11+00:00",
          "2024-10-28T00:38:35+00:00",
          "2024-10-28T04:18:47+00:00",
          "2024-10-28T07:59:47+00:00",
          "2024-10-28T11:39:47+00:00",
          "2024-10-28T15:20:11+00:00",
          "2024-10-28T19:00:35+00:00",
          "2024-10-28T22:40:23+00:00",
          "2024-10-29T02:20:47+00:00",
          "2024-10-29T06:00:35+00:00",
          "2024-10-29T09:41:11+00:00",
          "2024-10-29T13:21:35+00:00",
          "2024-10-29T17:01:11+00:00",
          "2024-10-29T20:40:35+00:00",
          "2024-10-30T00:20:23+00:00",
          "2024-10-30T04:00:11+00:00",
          "2024-10-30T07:40:35+00:00",
          "2024-10-30T11:21:47+00:00",
          "2024-10-30T15:03:35+00:00",
          "2024-10-30T18:43:11+00:00",
          "2024-10-30T22:22:47+00:00",
          "2024-10-31T02:02:11+00:00",
          "2024-10-31T05:42:59+00:00",
          "2024-10-31T09:23:35+00:00",
          "2024-10-31T13:02:47+00:00",
          "2024-10-31T16:42:11+00:00",
          "2024-10-31T20:21:35+00:00",
          "2024-11-01T00:01:23+00:00",
          "2024-11-01T03:41:11+00:00",
          "2024-11-01T07:20:59+00:00",
          "2024-11-01T11:00:47+00:00",
          "2024-11-01T14:40:35+00:00",
          "2024-11-01T18:20:23+00:00",
          "2024-11-01T22:00:35+00:00",
          "2024-11-02T01:40:47+00:00",
          "2024-11-02T05:21:11+00:00",
          "2024-11-02T09:00:59+00:00",
          "2024-11-02T12:41:59+00:00",
          "2024-11-02T16:22:35+00:00",
          "2024-11-02T20:02:35+00:00",
          "2024-11-02T23:43:35+00:00",
          "2024-11-03T03:24:23+00:00",
          "2024-11-03T07:04:35+00:00",
          "2024-11-03T10:43:47+00:00",
          "2024-11-03T14:23:47+00:00",
          "2024-11-03T18:04:35+00:00",
          "2024-11-03T21:43:59+00:00",
          "2024-11-04T01:23:47+00:00",
          "2024-11-04T05:03:47+00:00",
          "2024-11-04T08:42:59+00:00",
          "2024-11-04T12:23:35+00:00",
          "2024-11-04T16:02:59+00:00",
          "2024-11-04T19:43:23+00:00",
          "2024-11-04T23:23:23+00:00",
          "2024-11-05T03:03:23+00:00",
          "2024-11-05T06:44:11+00:00",
          "2024-11-05T10:24:11+00:00",
          "2024-11-05T14:04:11+00:00",
          "2024-11-05T17:44:23+00:00",
          "2024-11-05T21:25:11+00:00",
          "2024-11-06T01:04:59+00:00",
          "2024-11-06T04:44:23+00:00",
          "2024-11-06T08:24:23+00:00",
          "2024-11-06T12:05:23+00:00",
          "2024-11-06T15:45:47+00:00"
         ],
         "xaxis": "x",
         "y": [
          -0.2032,
          -0.202,
          -0.2068,
          -0.2056,
          -0.2044,
          -0.2032,
          -0.2021,
          -0.201,
          -0.1998,
          -0.2064,
          -0.2054,
          -0.2044,
          -0.2032,
          -0.202,
          -0.2008,
          -0.2175,
          -0.2161,
          -0.2147,
          -0.2133,
          -0.2118,
          -0.2103,
          -0.2088,
          -0.2168,
          -0.2152,
          -0.2137,
          -0.2123,
          -0.211,
          -0.2098,
          -0.2209,
          -0.22,
          -0.219,
          -0.218,
          -0.2165,
          -0.2149,
          -0.2134,
          -0.2045,
          -0.2033,
          -0.2022,
          -0.201,
          -0.1997,
          -0.1984,
          -0.2088,
          -0.2076,
          -0.2064,
          -0.2052,
          -0.2039,
          -0.2026,
          -0.2013,
          -0.2096,
          -0.2083,
          -0.207,
          -0.2057,
          -0.2046,
          -0.2034,
          -0.2071,
          -0.2057,
          -0.2043,
          -0.2029,
          -0.2018,
          -0.2008,
          -0.1997,
          -0.2,
          -0.199,
          -0.1979,
          -0.1968,
          -0.1955,
          -0.1942,
          -0.1974,
          -0.1963,
          -0.1952,
          -0.1941,
          -0.193,
          -0.1918,
          -0.1905,
          -0.1975,
          -0.1964,
          -0.1954,
          -0.1942,
          -0.1928,
          -0.1913,
          -0.1899,
          -0.1926,
          -0.1914,
          -0.1902,
          -0.1889,
          -0.1875,
          -0.1861,
          -0.1918,
          -0.1907,
          -0.1897,
          -0.1886,
          -0.1874,
          -0.1862,
          -0.1849,
          -0.1981,
          -0.1969,
          -0.1956,
          -0.1938,
          -0.1909,
          -0.1879,
          -0.1983,
          -0.1972,
          -0.1961,
          -0.195,
          -0.1938,
          -0.1927,
          -0.1916,
          -0.2199,
          -0.2188,
          -0.2177,
          -0.2165,
          -0.2149,
          -0.2133,
          -0.2051,
          -0.2039,
          -0.2028,
          -0.2016,
          -0.2004,
          -0.1992,
          -0.198,
          -0.1912,
          -0.1897,
          -0.1881,
          -0.1866,
          -0.1854,
          -0.1842,
          -0.1697,
          -0.1686,
          -0.1675,
          -0.1664,
          -0.1653,
          -0.1642,
          -0.1631,
          -0.2274,
          -0.2262,
          -0.225,
          -0.2238,
          -0.2227,
          -0.2217,
          -0.2206,
          -0.2594,
          -0.258,
          -0.2567,
          -0.2553,
          -0.2541,
          -0.2528,
          -0.2692,
          -0.2681,
          -0.267,
          -0.2659,
          -0.2648,
          -0.2636,
          -0.2624,
          -0.2734,
          -0.2723,
          -0.2711,
          -0.27,
          -0.2688,
          -0.2677,
          -0.3253,
          -0.324,
          -0.3227,
          -0.3214,
          -0.3201,
          -0.3188,
          -0.3174,
          -0.3513,
          -0.3501,
          -0.3488,
          -0.3476,
          -0.3463,
          -0.345,
          -0.3555,
          -0.3542,
          -0.353,
          -0.3517,
          -0.3504,
          -0.3492,
          -0.3479,
          -0.3491,
          -0.3477,
          -0.3463,
          -0.3449,
          -0.3437,
          -0.3424,
          -0.3483,
          -0.3468,
          -0.3453,
          -0.3438,
          -0.3423,
          -0.341,
          -0.3398,
          -0.3418,
          -0.3405,
          -0.3393,
          -0.3381,
          -0.3368,
          -0.3356,
          -0.3291,
          -0.3279,
          -0.3267,
          -0.3255,
          -0.3243,
          -0.3231,
          -0.3218,
          -0.3298,
          -0.3284,
          -0.3271,
          -0.3257,
          -0.3244,
          -0.3233,
          -0.3221,
          -0.2951,
          -0.2939,
          -0.2926,
          -0.2914,
          -0.2904,
          -0.2894,
          -0.2421,
          -0.2409,
          -0.2182,
          -0.217,
          -0.2156,
          -0.2142,
          -0.2127,
          -0.2113,
          -0.2101,
          -0.2242,
          -0.223,
          -0.2219,
          -0.2207,
          -0.2195,
          -0.2183,
          -0.2181,
          -0.2167,
          -0.2155,
          -0.2144,
          -0.2133,
          -0.2122,
          -0.211,
          -0.2187,
          -0.2175,
          -0.2162,
          -0.215,
          -0.2183,
          -0.2171,
          -0.216,
          -0.2149,
          -0.2137,
          -0.2123,
          -0.2109,
          -0.2123,
          -0.2111,
          -0.2099,
          -0.2087,
          -0.2076,
          -0.2064,
          -0.2075,
          -0.2064,
          -0.2052,
          -0.204,
          -0.2028,
          -0.2016,
          -0.2005,
          -0.1586,
          -0.1574,
          -0.1563,
          -0.1552,
          -0.154,
          -0.1528,
          -0.1676,
          -0.1664,
          -0.1653,
          -0.1641,
          -0.163,
          -0.1618,
          -0.1605,
          -0.165,
          -0.1639,
          -0.1629,
          -0.1619,
          -0.1608,
          -0.1596,
          -0.1683,
          -0.1672,
          -0.1661,
          -0.165,
          -0.164,
          -0.1627,
          -0.1615,
          -0.1607,
          -0.1594,
          -0.1582,
          -0.157,
          -0.1558,
          -0.1547,
          -0.1535,
          -0.1546,
          -0.1532,
          -0.1518,
          -0.1504,
          -0.1492,
          -0.1481,
          -0.1541,
          -0.153,
          -0.1518,
          -0.1507,
          -0.1495,
          -0.1485,
          -0.1475,
          -0.1679,
          -0.1668,
          -0.1656,
          -0.1644,
          -0.1632,
          -0.1619,
          -0.1064,
          -0.1052,
          -0.1041,
          -0.103,
          -0.1019,
          -0.1006,
          -0.0994,
          -0.1465,
          -0.1453,
          -0.1429,
          -0.1417,
          -0.1405,
          -0.1392,
          -0.138,
          -0.1367,
          -0.1355,
          -0.147,
          -0.1458,
          -0.1445,
          -0.1431,
          -0.1246,
          -0.1233,
          -0.1222,
          -0.121,
          -0.1199,
          -0.1188,
          -0.1178,
          -0.1202,
          -0.1158
         ],
         "yaxis": "y"
        },
        {
         "hovertemplate": "variable=wstETH<br>timestamp=%{x}<br>value=%{y}<extra></extra>",
         "legendgroup": "wstETH",
         "line": {
          "color": "#ab63fa",
          "dash": "solid"
         },
         "marker": {
          "symbol": "circle"
         },
         "mode": "lines",
         "name": "wstETH",
         "showlegend": true,
         "type": "scattergl",
         "x": [
          "2024-09-15T02:04:47+00:00",
          "2024-09-15T05:44:35+00:00",
          "2024-09-15T09:24:47+00:00",
          "2024-09-15T13:04:11+00:00",
          "2024-09-15T16:44:23+00:00",
          "2024-09-15T20:23:35+00:00",
          "2024-09-16T00:03:11+00:00",
          "2024-09-16T03:43:47+00:00",
          "2024-09-16T07:23:23+00:00",
          "2024-09-16T11:04:47+00:00",
          "2024-09-16T14:46:11+00:00",
          "2024-09-16T18:26:47+00:00",
          "2024-09-16T22:06:23+00:00",
          "2024-09-17T01:46:35+00:00",
          "2024-09-17T05:27:47+00:00",
          "2024-09-17T09:08:35+00:00",
          "2024-09-17T12:48:23+00:00",
          "2024-09-17T16:29:11+00:00",
          "2024-09-17T20:09:47+00:00",
          "2024-09-17T23:50:47+00:00",
          "2024-09-18T03:30:35+00:00",
          "2024-09-18T07:11:35+00:00",
          "2024-09-18T10:51:35+00:00",
          "2024-09-18T14:32:23+00:00",
          "2024-09-18T18:12:23+00:00",
          "2024-09-18T21:52:47+00:00",
          "2024-09-19T01:33:11+00:00",
          "2024-09-19T05:13:23+00:00",
          "2024-09-19T08:53:23+00:00",
          "2024-09-19T12:33:23+00:00",
          "2024-09-19T16:13:23+00:00",
          "2024-09-19T19:53:23+00:00",
          "2024-09-19T23:33:11+00:00",
          "2024-09-20T03:13:35+00:00",
          "2024-09-20T06:54:11+00:00",
          "2024-09-20T10:35:11+00:00",
          "2024-09-20T14:14:59+00:00",
          "2024-09-20T17:54:59+00:00",
          "2024-09-20T21:35:23+00:00",
          "2024-09-21T01:16:23+00:00",
          "2024-09-21T04:56:23+00:00",
          "2024-09-21T08:38:11+00:00",
          "2024-09-21T12:18:11+00:00",
          "2024-09-21T15:58:11+00:00",
          "2024-09-21T19:38:11+00:00",
          "2024-09-21T23:19:11+00:00",
          "2024-09-22T02:58:47+00:00",
          "2024-09-22T06:38:35+00:00",
          "2024-09-22T10:18:23+00:00",
          "2024-09-22T13:58:11+00:00",
          "2024-09-22T17:37:59+00:00",
          "2024-09-22T21:18:11+00:00",
          "2024-09-23T00:57:47+00:00",
          "2024-09-23T04:37:23+00:00",
          "2024-09-23T08:17:35+00:00",
          "2024-09-23T11:58:59+00:00",
          "2024-09-23T15:38:59+00:00",
          "2024-09-23T19:18:59+00:00",
          "2024-09-23T22:58:59+00:00",
          "2024-09-24T02:38:47+00:00",
          "2024-09-24T06:18:23+00:00",
          "2024-09-24T09:57:47+00:00",
          "2024-09-24T13:37:23+00:00",
          "2024-09-24T17:17:47+00:00",
          "2024-09-24T20:57:11+00:00",
          "2024-09-25T00:36:59+00:00",
          "2024-09-25T04:17:23+00:00",
          "2024-09-25T07:57:11+00:00",
          "2024-09-25T11:37:35+00:00",
          "2024-09-25T15:18:35+00:00",
          "2024-09-25T18:59:35+00:00",
          "2024-09-25T22:38:47+00:00",
          "2024-09-26T02:18:35+00:00",
          "2024-09-26T05:58:23+00:00",
          "2024-09-26T09:37:59+00:00",
          "2024-09-26T13:17:35+00:00",
          "2024-09-26T16:56:59+00:00",
          "2024-09-26T20:36:59+00:00",
          "2024-09-27T00:17:47+00:00",
          "2024-09-27T03:57:35+00:00",
          "2024-09-27T07:37:11+00:00",
          "2024-09-27T11:16:59+00:00",
          "2024-09-27T14:56:47+00:00",
          "2024-09-27T18:36:47+00:00",
          "2024-09-27T22:16:11+00:00",
          "2024-09-28T01:55:59+00:00",
          "2024-09-28T05:36:23+00:00",
          "2024-09-28T09:15:59+00:00",
          "2024-09-28T12:55:47+00:00",
          "2024-09-28T16:35:23+00:00",
          "2024-09-28T20:15:47+00:00",
          "2024-09-28T23:56:35+00:00",
          "2024-09-29T03:36:47+00:00",
          "2024-09-29T07:17:11+00:00",
          "2024-09-29T10:56:47+00:00",
          "2024-09-29T14:36:35+00:00",
          "2024-09-29T18:16:11+00:00",
          "2024-09-29T21:56:47+00:00",
          "2024-09-30T01:36:35+00:00",
          "2024-09-30T05:16:35+00:00",
          "2024-09-30T08:55:59+00:00",
          "2024-09-30T12:35:23+00:00",
          "2024-09-30T16:15:11+00:00",
          "2024-09-30T19:54:47+00:00",
          "2024-09-30T23:34:23+00:00",
          "2024-10-01T03:13:59+00:00",
          "2024-10-01T06:53:59+00:00",
          "2024-10-01T10:33:35+00:00",
          "2024-10-01T14:13:47+00:00",
          "2024-10-01T17:54:11+00:00",
          "2024-10-01T21:34:23+00:00",
          "2024-10-02T01:14:11+00:00",
          "2024-10-02T04:54:11+00:00",
          "2024-10-02T08:33:47+00:00",
          "2024-10-02T12:12:59+00:00",
          "2024-10-02T15:53:11+00:00",
          "2024-10-02T19:33:23+00:00",
          "2024-10-02T23:12:47+00:00",
          "2024-10-03T02:52:11+00:00",
          "2024-10-03T06:32:23+00:00",
          "2024-10-03T10:11:59+00:00",
          "2024-10-03T13:51:59+00:00",
          "2024-10-03T17:33:23+00:00",
          "2024-10-03T21:13:47+00:00",
          "2024-10-04T00:53:11+00:00",
          "2024-10-04T04:32:23+00:00",
          "2024-10-04T08:11:59+00:00",
          "2024-10-04T11:51:23+00:00",
          "2024-10-04T15:30:59+00:00",
          "2024-10-04T19:10:35+00:00",
          "2024-10-04T22:50:23+00:00",
          "2024-10-05T02:30:35+00:00",
          "2024-10-05T06:09:59+00:00",
          "2024-10-05T09:49:59+00:00",
          "2024-10-05T13:29:23+00:00",
          "2024-10-05T17:09:23+00:00",
          "2024-10-05T20:48:59+00:00",
          "2024-10-06T00:28:11+00:00",
          "2024-10-06T04:07:47+00:00",
          "2024-10-06T07:47:35+00:00",
          "2024-10-06T11:27:47+00:00",
          "2024-10-06T15:07:47+00:00",
          "2024-10-06T18:47:35+00:00",
          "2024-10-06T22:27:23+00:00",
          "2024-10-07T02:07:35+00:00",
          "2024-10-07T05:47:35+00:00",
          "2024-10-07T09:27:11+00:00",
          "2024-10-07T13:06:35+00:00",
          "2024-10-07T16:46:47+00:00",
          "2024-10-07T20:26:23+00:00",
          "2024-10-08T00:05:59+00:00",
          "2024-10-08T03:45:47+00:00",
          "2024-10-08T07:25:35+00:00",
          "2024-10-08T11:04:59+00:00",
          "2024-10-08T14:44:47+00:00",
          "2024-10-08T18:24:11+00:00",
          "2024-10-08T22:04:47+00:00",
          "2024-10-09T01:44:35+00:00",
          "2024-10-09T05:23:47+00:00",
          "2024-10-09T09:03:35+00:00",
          "2024-10-09T12:43:59+00:00",
          "2024-10-09T16:23:11+00:00",
          "2024-10-09T20:02:59+00:00",
          "2024-10-09T23:42:35+00:00",
          "2024-10-10T03:22:23+00:00",
          "2024-10-10T07:02:23+00:00",
          "2024-10-10T10:42:11+00:00",
          "2024-10-10T14:21:47+00:00",
          "2024-10-10T18:01:11+00:00",
          "2024-10-10T21:40:59+00:00",
          "2024-10-11T01:20:35+00:00",
          "2024-10-11T05:00:35+00:00",
          "2024-10-11T08:40:59+00:00",
          "2024-10-11T12:21:35+00:00",
          "2024-10-11T16:02:35+00:00",
          "2024-10-11T19:42:47+00:00",
          "2024-10-11T23:23:35+00:00",
          "2024-10-12T03:04:23+00:00",
          "2024-10-12T06:44:47+00:00",
          "2024-10-12T10:26:35+00:00",
          "2024-10-12T14:06:59+00:00",
          "2024-10-12T17:46:59+00:00",
          "2024-10-12T21:27:35+00:00",
          "2024-10-13T01:07:59+00:00",
          "2024-10-13T04:50:11+00:00",
          "2024-10-13T08:32:47+00:00",
          "2024-10-13T12:14:23+00:00",
          "2024-10-13T15:54:11+00:00",
          "2024-10-13T19:34:11+00:00",
          "2024-10-13T23:14:47+00:00",
          "2024-10-14T02:54:59+00:00",
          "2024-10-14T06:34:47+00:00",
          "2024-10-14T10:16:11+00:00",
          "2024-10-14T13:57:11+00:00",
          "2024-10-14T17:36:59+00:00",
          "2024-10-14T21:17:23+00:00",
          "2024-10-15T00:57:23+00:00",
          "2024-10-15T04:37:47+00:00",
          "2024-10-15T08:17:23+00:00",
          "2024-10-15T11:57:59+00:00",
          "2024-10-15T15:38:35+00:00",
          "2024-10-15T19:18:59+00:00",
          "2024-10-15T22:59:11+00:00",
          "2024-10-16T02:39:59+00:00",
          "2024-10-16T06:19:59+00:00",
          "2024-10-16T09:59:59+00:00",
          "2024-10-16T13:40:11+00:00",
          "2024-10-16T17:20:11+00:00",
          "2024-10-16T21:00:23+00:00",
          "2024-10-17T00:40:59+00:00",
          "2024-10-17T04:21:11+00:00",
          "2024-10-17T08:01:11+00:00",
          "2024-10-17T11:40:47+00:00",
          "2024-10-17T15:21:11+00:00",
          "2024-10-17T19:01:23+00:00",
          "2024-10-17T22:41:35+00:00",
          "2024-10-18T02:21:35+00:00",
          "2024-10-18T06:01:59+00:00",
          "2024-10-18T09:42:11+00:00",
          "2024-10-18T13:21:47+00:00",
          "2024-10-18T17:02:11+00:00",
          "2024-10-18T20:41:47+00:00",
          "2024-10-19T00:21:47+00:00",
          "2024-10-19T04:01:47+00:00",
          "2024-10-19T07:42:23+00:00",
          "2024-10-19T11:21:59+00:00",
          "2024-10-19T15:01:59+00:00",
          "2024-10-19T18:41:47+00:00",
          "2024-10-19T22:21:23+00:00",
          "2024-10-20T02:00:47+00:00",
          "2024-10-20T05:40:47+00:00",
          "2024-10-20T09:20:35+00:00",
          "2024-10-20T12:59:59+00:00",
          "2024-10-20T16:40:59+00:00",
          "2024-10-20T20:20:47+00:00",
          "2024-10-21T00:00:59+00:00",
          "2024-10-21T03:41:35+00:00",
          "2024-10-21T07:21:35+00:00",
          "2024-10-21T11:00:59+00:00",
          "2024-10-21T14:40:59+00:00",
          "2024-10-21T18:20:23+00:00",
          "2024-10-21T22:00:35+00:00",
          "2024-10-22T01:40:59+00:00",
          "2024-10-22T05:21:11+00:00",
          "2024-10-22T09:01:23+00:00",
          "2024-10-22T12:41:35+00:00",
          "2024-10-22T16:21:35+00:00",
          "2024-10-22T20:01:35+00:00",
          "2024-10-22T23:42:23+00:00",
          "2024-10-23T03:22:35+00:00",
          "2024-10-23T07:01:35+00:00",
          "2024-10-23T10:41:35+00:00",
          "2024-10-23T14:21:11+00:00",
          "2024-10-23T18:00:59+00:00",
          "2024-10-23T21:40:11+00:00",
          "2024-10-24T01:20:47+00:00",
          "2024-10-24T05:00:47+00:00",
          "2024-10-24T08:40:59+00:00",
          "2024-10-24T12:20:35+00:00",
          "2024-10-24T16:00:35+00:00",
          "2024-10-24T19:40:11+00:00",
          "2024-10-24T23:19:59+00:00",
          "2024-10-25T02:59:59+00:00",
          "2024-10-25T06:40:11+00:00",
          "2024-10-25T10:19:35+00:00",
          "2024-10-25T13:59:35+00:00",
          "2024-10-25T17:39:35+00:00",
          "2024-10-25T21:19:11+00:00",
          "2024-10-26T00:58:59+00:00",
          "2024-10-26T04:39:23+00:00",
          "2024-10-26T08:19:11+00:00",
          "2024-10-26T11:59:59+00:00",
          "2024-10-26T15:40:35+00:00",
          "2024-10-26T19:20:11+00:00",
          "2024-10-26T22:59:59+00:00",
          "2024-10-27T02:40:11+00:00",
          "2024-10-27T06:19:47+00:00",
          "2024-10-27T09:59:23+00:00",
          "2024-10-27T13:40:11+00:00",
          "2024-10-27T17:19:47+00:00",
          "2024-10-27T20:59:11+00:00",
          "2024-10-28T00:38:35+00:00",
          "2024-10-28T04:18:47+00:00",
          "2024-10-28T07:59:47+00:00",
          "2024-10-28T11:39:47+00:00",
          "2024-10-28T15:20:11+00:00",
          "2024-10-28T19:00:35+00:00",
          "2024-10-28T22:40:23+00:00",
          "2024-10-29T02:20:47+00:00",
          "2024-10-29T06:00:35+00:00",
          "2024-10-29T09:41:11+00:00",
          "2024-10-29T13:21:35+00:00",
          "2024-10-29T17:01:11+00:00",
          "2024-10-29T20:40:35+00:00",
          "2024-10-30T00:20:23+00:00",
          "2024-10-30T04:00:11+00:00",
          "2024-10-30T07:40:35+00:00",
          "2024-10-30T11:21:47+00:00",
          "2024-10-30T15:03:35+00:00",
          "2024-10-30T18:43:11+00:00",
          "2024-10-30T22:22:47+00:00",
          "2024-10-31T02:02:11+00:00",
          "2024-10-31T05:42:59+00:00",
          "2024-10-31T09:23:35+00:00",
          "2024-10-31T13:02:47+00:00",
          "2024-10-31T16:42:11+00:00",
          "2024-10-31T20:21:35+00:00",
          "2024-11-01T00:01:23+00:00",
          "2024-11-01T03:41:11+00:00",
          "2024-11-01T07:20:59+00:00",
          "2024-11-01T11:00:47+00:00",
          "2024-11-01T14:40:35+00:00",
          "2024-11-01T18:20:23+00:00",
          "2024-11-01T22:00:35+00:00",
          "2024-11-02T01:40:47+00:00",
          "2024-11-02T05:21:11+00:00",
          "2024-11-02T09:00:59+00:00",
          "2024-11-02T12:41:59+00:00",
          "2024-11-02T16:22:35+00:00",
          "2024-11-02T20:02:35+00:00",
          "2024-11-02T23:43:35+00:00",
          "2024-11-03T03:24:23+00:00",
          "2024-11-03T07:04:35+00:00",
          "2024-11-03T10:43:47+00:00",
          "2024-11-03T14:23:47+00:00",
          "2024-11-03T18:04:35+00:00",
          "2024-11-03T21:43:59+00:00",
          "2024-11-04T01:23:47+00:00",
          "2024-11-04T05:03:47+00:00",
          "2024-11-04T08:42:59+00:00",
          "2024-11-04T12:23:35+00:00",
          "2024-11-04T16:02:59+00:00",
          "2024-11-04T19:43:23+00:00",
          "2024-11-04T23:23:23+00:00",
          "2024-11-05T03:03:23+00:00",
          "2024-11-05T06:44:11+00:00",
          "2024-11-05T10:24:11+00:00",
          "2024-11-05T14:04:11+00:00",
          "2024-11-05T17:44:23+00:00",
          "2024-11-05T21:25:11+00:00",
          "2024-11-06T01:04:59+00:00",
          "2024-11-06T04:44:23+00:00",
          "2024-11-06T08:24:23+00:00",
          "2024-11-06T12:05:23+00:00",
          "2024-11-06T15:45:47+00:00"
         ],
         "xaxis": "x",
         "y": [
          0.0347,
          0.0347,
          0.0347,
          0.0347,
          0.0347,
          0.0316,
          0.0316,
          0.0316,
          0.0316,
          0.0316,
          0.0316,
          0.0316,
          0.0435,
          0.0435,
          0.0435,
          0.0435,
          0.0435,
          0.0435,
          0.07,
          0.07,
          0.07,
          0.07,
          0.07,
          0.07,
          0.07,
          0.0324,
          0.0324,
          0.0324,
          0.0324,
          0.0324,
          0.0324,
          0.0715,
          0.0715,
          0.0715,
          0.0715,
          0.0715,
          0.0715,
          0.0715,
          0.0421,
          0.0421,
          0.0421,
          0.0421,
          0.0421,
          0.0421,
          0.0421,
          0.0687,
          0.0687,
          0.0687,
          0.0687,
          0.0687,
          0.0687,
          0.0475,
          0.0475,
          0.0475,
          0.0475,
          0.0475,
          0.0475,
          0.0475,
          0.0026,
          0.0026,
          0.0026,
          0.0026,
          0.0026,
          0.0026,
          0.0249,
          0.0249,
          0.0249,
          0.0249,
          0.0249,
          0.0249,
          0.0249,
          0.0128,
          0.0128,
          0.0128,
          0.0128,
          0.0128,
          0.0128,
          0.0306,
          0.0306,
          0.0306,
          0.0306,
          0.0306,
          0.0306,
          0.0306,
          0.0286,
          0.0286,
          0.0286,
          0.0286,
          0.0286,
          0.0286,
          0.0458,
          0.0458,
          0.0458,
          0.0458,
          0.0458,
          0.0458,
          0.0458,
          0.0708,
          0.0708,
          0.0708,
          0.0708,
          0.0708,
          0.0708,
          0.0529,
          0.0529,
          0.0529,
          0.0529,
          0.0529,
          0.0529,
          0.0529,
          0.029,
          0.029,
          0.029,
          0.029,
          0.029,
          0.029,
          0.029,
          -0.0835,
          -0.0835,
          -0.0835,
          -0.0835,
          -0.0835,
          -0.0835,
          0.0216,
          0.0216,
          0.0216,
          0.0216,
          0.0216,
          0.0216,
          0.0216,
          0.0239,
          0.0239,
          0.0239,
          0.0239,
          0.0239,
          0.0239,
          0.0242,
          0.0242,
          0.0242,
          0.0242,
          0.0242,
          0.0242,
          0.0242,
          0.0261,
          0.0261,
          0.0261,
          0.0261,
          0.0261,
          0.0261,
          0.0444,
          0.0444,
          0.0444,
          0.0444,
          0.0444,
          0.0444,
          0.0444,
          0.0355,
          0.0355,
          0.0355,
          0.0355,
          0.0355,
          0.0355,
          0.0651,
          0.0651,
          0.0651,
          0.0651,
          0.0651,
          0.0651,
          0.0651,
          0.0471,
          0.0471,
          0.0471,
          0.0471,
          0.0471,
          0.0471,
          0.0471,
          0.0313,
          0.0313,
          0.0313,
          0.0313,
          0.0313,
          0.0313,
          0.0181,
          0.0181,
          0.0181,
          0.0181,
          0.0181,
          0.0181,
          0.0181,
          0.0383,
          0.0383,
          0.0383,
          0.0383,
          0.0383,
          0.0383,
          0.0373,
          0.0373,
          0.0373,
          0.0373,
          0.0373,
          0.0373,
          0.0373,
          0.0163,
          0.0163,
          0.0163,
          0.0163,
          0.0163,
          0.0163,
          0.0351,
          0.0351,
          0.0351,
          0.0351,
          0.0351,
          0.0351,
          0.0351,
          0.0488,
          0.0488,
          0.0488,
          0.0488,
          0.0488,
          0.0488,
          0.0263,
          0.0263,
          0.0263,
          0.0263,
          0.0263,
          0.0263,
          0.0263,
          0.0232,
          0.0232,
          0.0232,
          0.0232,
          0.0232,
          0.0232,
          0.0287,
          0.0287,
          0.0287,
          0.0287,
          0.0287,
          0.0287,
          0.0287,
          0.0265,
          0.0265,
          0.0265,
          0.0265,
          0.0265,
          0.0265,
          0.0281,
          0.0281,
          0.0281,
          0.0281,
          0.0281,
          0.0281,
          0.0281,
          0.0349,
          0.0349,
          0.0349,
          0.0349,
          0.0349,
          0.0349,
          0.0349,
          0.0407,
          0.0407,
          0.0407,
          0.0407,
          0.0407,
          0.0407,
          0.0514,
          0.0514,
          0.0514,
          0.0514,
          0.0514,
          0.0514,
          0.0514,
          0.0191,
          0.0191,
          0.0191,
          0.0191,
          0.0191,
          0.0191,
          0.0392,
          0.0392,
          0.0392,
          0.0392,
          0.0392,
          0.0392,
          0.0392,
          0.0422,
          0.0422,
          0.0422,
          0.0422,
          0.0422,
          0.0422,
          0.0427,
          0.0427,
          0.0427,
          0.0427,
          0.0427,
          0.0427,
          0.0427,
          0.0352,
          0.0352,
          0.0352,
          0.0352,
          0.0352,
          0.0352,
          0.0315,
          0.0315,
          0.0315,
          0.0315,
          0.0315,
          0.0315,
          0.0315,
          0.0724,
          0.0724,
          0.0724,
          0.0724,
          0.0724,
          0.0724,
          0.026,
          0.026,
          0.026,
          0.026,
          0.026,
          0.026,
          0.026,
          0.0419,
          0.0419,
          0.0419,
          0.0419,
          0.0419,
          0.0419,
          0.0419,
          0.0145,
          0.0145,
          0.0145,
          0.0145,
          0.0145,
          0.0145,
          0.0184,
          0.0184,
          0.0184,
          0.0184,
          0.0184,
          0.0184
         ],
         "yaxis": "y"
        },
        {
         "hovertemplate": "variable=cbETH<br>timestamp=%{x}<br>value=%{y}<extra></extra>",
         "legendgroup": "cbETH",
         "line": {
          "color": "#FFA15A",
          "dash": "solid"
         },
         "marker": {
          "symbol": "circle"
         },
         "mode": "lines",
         "name": "cbETH",
         "showlegend": true,
         "type": "scattergl",
         "x": [
          "2024-09-15T02:04:47+00:00",
          "2024-09-15T05:44:35+00:00",
          "2024-09-15T09:24:47+00:00",
          "2024-09-15T13:04:11+00:00",
          "2024-09-15T16:44:23+00:00",
          "2024-09-15T20:23:35+00:00",
          "2024-09-16T00:03:11+00:00",
          "2024-09-16T03:43:47+00:00",
          "2024-09-16T07:23:23+00:00",
          "2024-09-16T11:04:47+00:00",
          "2024-09-16T14:46:11+00:00",
          "2024-09-16T18:26:47+00:00",
          "2024-09-16T22:06:23+00:00",
          "2024-09-17T01:46:35+00:00",
          "2024-09-17T05:27:47+00:00",
          "2024-09-17T09:08:35+00:00",
          "2024-09-17T12:48:23+00:00",
          "2024-09-17T16:29:11+00:00",
          "2024-09-17T20:09:47+00:00",
          "2024-09-17T23:50:47+00:00",
          "2024-09-18T03:30:35+00:00",
          "2024-09-18T07:11:35+00:00",
          "2024-09-18T10:51:35+00:00",
          "2024-09-18T14:32:23+00:00",
          "2024-09-18T18:12:23+00:00",
          "2024-09-18T21:52:47+00:00",
          "2024-09-19T01:33:11+00:00",
          "2024-09-19T05:13:23+00:00",
          "2024-09-19T08:53:23+00:00",
          "2024-09-19T12:33:23+00:00",
          "2024-09-19T16:13:23+00:00",
          "2024-09-19T19:53:23+00:00",
          "2024-09-19T23:33:11+00:00",
          "2024-09-20T03:13:35+00:00",
          "2024-09-20T06:54:11+00:00",
          "2024-09-20T10:35:11+00:00",
          "2024-09-20T14:14:59+00:00",
          "2024-09-20T17:54:59+00:00",
          "2024-09-20T21:35:23+00:00",
          "2024-09-21T01:16:23+00:00",
          "2024-09-21T04:56:23+00:00",
          "2024-09-21T08:38:11+00:00",
          "2024-09-21T12:18:11+00:00",
          "2024-09-21T15:58:11+00:00",
          "2024-09-21T19:38:11+00:00",
          "2024-09-21T23:19:11+00:00",
          "2024-09-22T02:58:47+00:00",
          "2024-09-22T06:38:35+00:00",
          "2024-09-22T10:18:23+00:00",
          "2024-09-22T13:58:11+00:00",
          "2024-09-22T17:37:59+00:00",
          "2024-09-22T21:18:11+00:00",
          "2024-09-23T00:57:47+00:00",
          "2024-09-23T04:37:23+00:00",
          "2024-09-23T08:17:35+00:00",
          "2024-09-23T11:58:59+00:00",
          "2024-09-23T15:38:59+00:00",
          "2024-09-23T19:18:59+00:00",
          "2024-09-23T22:58:59+00:00",
          "2024-09-24T02:38:47+00:00",
          "2024-09-24T06:18:23+00:00",
          "2024-09-24T09:57:47+00:00",
          "2024-09-24T13:37:23+00:00",
          "2024-09-24T17:17:47+00:00",
          "2024-09-24T20:57:11+00:00",
          "2024-09-25T00:36:59+00:00",
          "2024-09-25T04:17:23+00:00",
          "2024-09-25T07:57:11+00:00",
          "2024-09-25T11:37:35+00:00",
          "2024-09-25T15:18:35+00:00",
          "2024-09-25T18:59:35+00:00",
          "2024-09-25T22:38:47+00:00",
          "2024-09-26T02:18:35+00:00",
          "2024-09-26T05:58:23+00:00",
          "2024-09-26T09:37:59+00:00",
          "2024-09-26T13:17:35+00:00",
          "2024-09-26T16:56:59+00:00",
          "2024-09-26T20:36:59+00:00",
          "2024-09-27T00:17:47+00:00",
          "2024-09-27T03:57:35+00:00",
          "2024-09-27T07:37:11+00:00",
          "2024-09-27T11:16:59+00:00",
          "2024-09-27T14:56:47+00:00",
          "2024-09-27T18:36:47+00:00",
          "2024-09-27T22:16:11+00:00",
          "2024-09-28T01:55:59+00:00",
          "2024-09-28T05:36:23+00:00",
          "2024-09-28T09:15:59+00:00",
          "2024-09-28T12:55:47+00:00",
          "2024-09-28T16:35:23+00:00",
          "2024-09-28T20:15:47+00:00",
          "2024-09-28T23:56:35+00:00",
          "2024-09-29T03:36:47+00:00",
          "2024-09-29T07:17:11+00:00",
          "2024-09-29T10:56:47+00:00",
          "2024-09-29T14:36:35+00:00",
          "2024-09-29T18:16:11+00:00",
          "2024-09-29T21:56:47+00:00",
          "2024-09-30T01:36:35+00:00",
          "2024-09-30T05:16:35+00:00",
          "2024-09-30T08:55:59+00:00",
          "2024-09-30T12:35:23+00:00",
          "2024-09-30T16:15:11+00:00",
          "2024-09-30T19:54:47+00:00",
          "2024-09-30T23:34:23+00:00",
          "2024-10-01T03:13:59+00:00",
          "2024-10-01T06:53:59+00:00",
          "2024-10-01T10:33:35+00:00",
          "2024-10-01T14:13:47+00:00",
          "2024-10-01T17:54:11+00:00",
          "2024-10-01T21:34:23+00:00",
          "2024-10-02T01:14:11+00:00",
          "2024-10-02T04:54:11+00:00",
          "2024-10-02T08:33:47+00:00",
          "2024-10-02T12:12:59+00:00",
          "2024-10-02T15:53:11+00:00",
          "2024-10-02T19:33:23+00:00",
          "2024-10-02T23:12:47+00:00",
          "2024-10-03T02:52:11+00:00",
          "2024-10-03T06:32:23+00:00",
          "2024-10-03T10:11:59+00:00",
          "2024-10-03T13:51:59+00:00",
          "2024-10-03T17:33:23+00:00",
          "2024-10-03T21:13:47+00:00",
          "2024-10-04T00:53:11+00:00",
          "2024-10-04T04:32:23+00:00",
          "2024-10-04T08:11:59+00:00",
          "2024-10-04T11:51:23+00:00",
          "2024-10-04T15:30:59+00:00",
          "2024-10-04T19:10:35+00:00",
          "2024-10-04T22:50:23+00:00",
          "2024-10-05T02:30:35+00:00",
          "2024-10-05T06:09:59+00:00",
          "2024-10-05T09:49:59+00:00",
          "2024-10-05T13:29:23+00:00",
          "2024-10-05T17:09:23+00:00",
          "2024-10-05T20:48:59+00:00",
          "2024-10-06T00:28:11+00:00",
          "2024-10-06T04:07:47+00:00",
          "2024-10-06T07:47:35+00:00",
          "2024-10-06T11:27:47+00:00",
          "2024-10-06T15:07:47+00:00",
          "2024-10-06T18:47:35+00:00",
          "2024-10-06T22:27:23+00:00",
          "2024-10-07T02:07:35+00:00",
          "2024-10-07T05:47:35+00:00",
          "2024-10-07T09:27:11+00:00",
          "2024-10-07T13:06:35+00:00",
          "2024-10-07T16:46:47+00:00",
          "2024-10-07T20:26:23+00:00",
          "2024-10-08T00:05:59+00:00",
          "2024-10-08T03:45:47+00:00",
          "2024-10-08T07:25:35+00:00",
          "2024-10-08T11:04:59+00:00",
          "2024-10-08T14:44:47+00:00",
          "2024-10-08T18:24:11+00:00",
          "2024-10-08T22:04:47+00:00",
          "2024-10-09T01:44:35+00:00",
          "2024-10-09T05:23:47+00:00",
          "2024-10-09T09:03:35+00:00",
          "2024-10-09T12:43:59+00:00",
          "2024-10-09T16:23:11+00:00",
          "2024-10-09T20:02:59+00:00",
          "2024-10-09T23:42:35+00:00",
          "2024-10-10T03:22:23+00:00",
          "2024-10-10T07:02:23+00:00",
          "2024-10-10T10:42:11+00:00",
          "2024-10-10T14:21:47+00:00",
          "2024-10-10T18:01:11+00:00",
          "2024-10-10T21:40:59+00:00",
          "2024-10-11T01:20:35+00:00",
          "2024-10-11T05:00:35+00:00",
          "2024-10-11T08:40:59+00:00",
          "2024-10-11T12:21:35+00:00",
          "2024-10-11T16:02:35+00:00",
          "2024-10-11T19:42:47+00:00",
          "2024-10-11T23:23:35+00:00",
          "2024-10-12T03:04:23+00:00",
          "2024-10-12T06:44:47+00:00",
          "2024-10-12T10:26:35+00:00",
          "2024-10-12T14:06:59+00:00",
          "2024-10-12T17:46:59+00:00",
          "2024-10-12T21:27:35+00:00",
          "2024-10-13T01:07:59+00:00",
          "2024-10-13T04:50:11+00:00",
          "2024-10-13T08:32:47+00:00",
          "2024-10-13T12:14:23+00:00",
          "2024-10-13T15:54:11+00:00",
          "2024-10-13T19:34:11+00:00",
          "2024-10-13T23:14:47+00:00",
          "2024-10-14T02:54:59+00:00",
          "2024-10-14T06:34:47+00:00",
          "2024-10-14T10:16:11+00:00",
          "2024-10-14T13:57:11+00:00",
          "2024-10-14T17:36:59+00:00",
          "2024-10-14T21:17:23+00:00",
          "2024-10-15T00:57:23+00:00",
          "2024-10-15T04:37:47+00:00",
          "2024-10-15T08:17:23+00:00",
          "2024-10-15T11:57:59+00:00",
          "2024-10-15T15:38:35+00:00",
          "2024-10-15T19:18:59+00:00",
          "2024-10-15T22:59:11+00:00",
          "2024-10-16T02:39:59+00:00",
          "2024-10-16T06:19:59+00:00",
          "2024-10-16T09:59:59+00:00",
          "2024-10-16T13:40:11+00:00",
          "2024-10-16T17:20:11+00:00",
          "2024-10-16T21:00:23+00:00",
          "2024-10-17T00:40:59+00:00",
          "2024-10-17T04:21:11+00:00",
          "2024-10-17T08:01:11+00:00",
          "2024-10-17T11:40:47+00:00",
          "2024-10-17T15:21:11+00:00",
          "2024-10-17T19:01:23+00:00",
          "2024-10-17T22:41:35+00:00",
          "2024-10-18T02:21:35+00:00",
          "2024-10-18T06:01:59+00:00",
          "2024-10-18T09:42:11+00:00",
          "2024-10-18T13:21:47+00:00",
          "2024-10-18T17:02:11+00:00",
          "2024-10-18T20:41:47+00:00",
          "2024-10-19T00:21:47+00:00",
          "2024-10-19T04:01:47+00:00",
          "2024-10-19T07:42:23+00:00",
          "2024-10-19T11:21:59+00:00",
          "2024-10-19T15:01:59+00:00",
          "2024-10-19T18:41:47+00:00",
          "2024-10-19T22:21:23+00:00",
          "2024-10-20T02:00:47+00:00",
          "2024-10-20T05:40:47+00:00",
          "2024-10-20T09:20:35+00:00",
          "2024-10-20T12:59:59+00:00",
          "2024-10-20T16:40:59+00:00",
          "2024-10-20T20:20:47+00:00",
          "2024-10-21T00:00:59+00:00",
          "2024-10-21T03:41:35+00:00",
          "2024-10-21T07:21:35+00:00",
          "2024-10-21T11:00:59+00:00",
          "2024-10-21T14:40:59+00:00",
          "2024-10-21T18:20:23+00:00",
          "2024-10-21T22:00:35+00:00",
          "2024-10-22T01:40:59+00:00",
          "2024-10-22T05:21:11+00:00",
          "2024-10-22T09:01:23+00:00",
          "2024-10-22T12:41:35+00:00",
          "2024-10-22T16:21:35+00:00",
          "2024-10-22T20:01:35+00:00",
          "2024-10-22T23:42:23+00:00",
          "2024-10-23T03:22:35+00:00",
          "2024-10-23T07:01:35+00:00",
          "2024-10-23T10:41:35+00:00",
          "2024-10-23T14:21:11+00:00",
          "2024-10-23T18:00:59+00:00",
          "2024-10-23T21:40:11+00:00",
          "2024-10-24T01:20:47+00:00",
          "2024-10-24T05:00:47+00:00",
          "2024-10-24T08:40:59+00:00",
          "2024-10-24T12:20:35+00:00",
          "2024-10-24T16:00:35+00:00",
          "2024-10-24T19:40:11+00:00",
          "2024-10-24T23:19:59+00:00",
          "2024-10-25T02:59:59+00:00",
          "2024-10-25T06:40:11+00:00",
          "2024-10-25T10:19:35+00:00",
          "2024-10-25T13:59:35+00:00",
          "2024-10-25T17:39:35+00:00",
          "2024-10-25T21:19:11+00:00",
          "2024-10-26T00:58:59+00:00",
          "2024-10-26T04:39:23+00:00",
          "2024-10-26T08:19:11+00:00",
          "2024-10-26T11:59:59+00:00",
          "2024-10-26T15:40:35+00:00",
          "2024-10-26T19:20:11+00:00",
          "2024-10-26T22:59:59+00:00",
          "2024-10-27T02:40:11+00:00",
          "2024-10-27T06:19:47+00:00",
          "2024-10-27T09:59:23+00:00",
          "2024-10-27T13:40:11+00:00",
          "2024-10-27T17:19:47+00:00",
          "2024-10-27T20:59:11+00:00",
          "2024-10-28T00:38:35+00:00",
          "2024-10-28T04:18:47+00:00",
          "2024-10-28T07:59:47+00:00",
          "2024-10-28T11:39:47+00:00",
          "2024-10-28T15:20:11+00:00",
          "2024-10-28T19:00:35+00:00",
          "2024-10-28T22:40:23+00:00",
          "2024-10-29T02:20:47+00:00",
          "2024-10-29T06:00:35+00:00",
          "2024-10-29T09:41:11+00:00",
          "2024-10-29T13:21:35+00:00",
          "2024-10-29T17:01:11+00:00",
          "2024-10-29T20:40:35+00:00",
          "2024-10-30T00:20:23+00:00",
          "2024-10-30T04:00:11+00:00",
          "2024-10-30T07:40:35+00:00",
          "2024-10-30T11:21:47+00:00",
          "2024-10-30T15:03:35+00:00",
          "2024-10-30T18:43:11+00:00",
          "2024-10-30T22:22:47+00:00",
          "2024-10-31T02:02:11+00:00",
          "2024-10-31T05:42:59+00:00",
          "2024-10-31T09:23:35+00:00",
          "2024-10-31T13:02:47+00:00",
          "2024-10-31T16:42:11+00:00",
          "2024-10-31T20:21:35+00:00",
          "2024-11-01T00:01:23+00:00",
          "2024-11-01T03:41:11+00:00",
          "2024-11-01T07:20:59+00:00",
          "2024-11-01T11:00:47+00:00",
          "2024-11-01T14:40:35+00:00",
          "2024-11-01T18:20:23+00:00",
          "2024-11-01T22:00:35+00:00",
          "2024-11-02T01:40:47+00:00",
          "2024-11-02T05:21:11+00:00",
          "2024-11-02T09:00:59+00:00",
          "2024-11-02T12:41:59+00:00",
          "2024-11-02T16:22:35+00:00",
          "2024-11-02T20:02:35+00:00",
          "2024-11-02T23:43:35+00:00",
          "2024-11-03T03:24:23+00:00",
          "2024-11-03T07:04:35+00:00",
          "2024-11-03T10:43:47+00:00",
          "2024-11-03T14:23:47+00:00",
          "2024-11-03T18:04:35+00:00",
          "2024-11-03T21:43:59+00:00",
          "2024-11-04T01:23:47+00:00",
          "2024-11-04T05:03:47+00:00",
          "2024-11-04T08:42:59+00:00",
          "2024-11-04T12:23:35+00:00",
          "2024-11-04T16:02:59+00:00",
          "2024-11-04T19:43:23+00:00",
          "2024-11-04T23:23:23+00:00",
          "2024-11-05T03:03:23+00:00",
          "2024-11-05T06:44:11+00:00",
          "2024-11-05T10:24:11+00:00",
          "2024-11-05T14:04:11+00:00",
          "2024-11-05T17:44:23+00:00",
          "2024-11-05T21:25:11+00:00",
          "2024-11-06T01:04:59+00:00",
          "2024-11-06T04:44:23+00:00",
          "2024-11-06T08:24:23+00:00",
          "2024-11-06T12:05:23+00:00",
          "2024-11-06T15:45:47+00:00"
         ],
         "xaxis": "x",
         "y": [
          0.1979,
          0.1979,
          0.1979,
          0.1979,
          0.2047,
          0.1903,
          0.1903,
          0.1903,
          0.1903,
          0.1903,
          0.1903,
          0.1979,
          0.2078,
          0.2078,
          0.2078,
          0.2078,
          0.2078,
          0.2153,
          0.2153,
          0.2504,
          0.2504,
          0.2504,
          0.2504,
          0.2504,
          0.2579,
          0.1267,
          0.1267,
          0.1267,
          0.1267,
          0.1267,
          0.1347,
          0.1347,
          0.216,
          0.216,
          0.216,
          0.216,
          0.216,
          0.2245,
          0.2385,
          0.2385,
          0.2385,
          0.2385,
          0.2385,
          0.2385,
          0.2468,
          0.245,
          0.245,
          0.245,
          0.245,
          0.245,
          0.2526,
          0.2183,
          0.2183,
          0.2183,
          0.2183,
          0.2183,
          0.2183,
          0.2261,
          0.3564,
          0.3564,
          0.3564,
          0.3564,
          0.3564,
          0.3641,
          0.2381,
          0.2381,
          0.2381,
          0.2381,
          0.2381,
          0.2381,
          0.2462,
          0.2649,
          0.2649,
          0.2649,
          0.2649,
          0.2649,
          0.2721,
          0.3635,
          0.3635,
          0.3635,
          0.3635,
          0.3635,
          0.3635,
          0.3706,
          0.3595,
          0.3595,
          0.3595,
          0.3595,
          0.3595,
          0.3662,
          0.2537,
          0.2537,
          0.2537,
          0.2537,
          0.2537,
          0.2537,
          0.2603,
          0.2693,
          0.2693,
          0.2693,
          0.2693,
          0.2693,
          0.2761,
          0.2761,
          0.2273,
          0.2273,
          0.2273,
          0.2273,
          0.2273,
          0.2342,
          0.2748,
          0.2748,
          0.2748,
          0.2748,
          0.2748,
          0.2748,
          0.2816,
          0.1885,
          0.1885,
          0.1885,
          0.1885,
          0.1885,
          0.1955,
          0.1981,
          0.1981,
          0.1981,
          0.1981,
          0.1981,
          0.1981,
          0.2051,
          0.3113,
          0.3113,
          0.3113,
          0.3113,
          0.3113,
          0.318,
          0.2534,
          0.2534,
          0.2534,
          0.2534,
          0.2534,
          0.2534,
          0.2603,
          0.2873,
          0.2873,
          0.2873,
          0.2873,
          0.2873,
          0.2945,
          0.1673,
          0.1673,
          0.1673,
          0.1673,
          0.1673,
          0.1673,
          0.1745,
          0.2136,
          0.2136,
          0.2136,
          0.2136,
          0.2136,
          0.2211,
          0.2211,
          0.1475,
          0.1475,
          0.1475,
          0.1475,
          0.1475,
          0.1549,
          0.2866,
          0.2866,
          0.2866,
          0.2866,
          0.2866,
          0.2866,
          0.2937,
          0.2739,
          0.2739,
          0.2739,
          0.2739,
          0.2739,
          0.2875,
          0.273,
          0.273,
          0.273,
          0.273,
          0.273,
          0.273,
          0.2795,
          0.2546,
          0.2546,
          0.2546,
          0.2546,
          0.2546,
          0.2616,
          0.2771,
          0.2771,
          0.2771,
          0.2771,
          0.2771,
          0.2771,
          0.2842,
          0.1991,
          0.1991,
          0.1991,
          0.1991,
          0.1991,
          0.2061,
          0.2804,
          0.2804,
          0.2804,
          0.2804,
          0.2804,
          0.2804,
          0.2873,
          0.3168,
          0.3168,
          0.3168,
          0.3168,
          0.3168,
          0.3236,
          0.1723,
          0.1723,
          0.1723,
          0.1723,
          0.1723,
          0.1723,
          0.1788,
          0.4133,
          0.4133,
          0.4133,
          0.4133,
          0.4133,
          0.4199,
          0.4199,
          0.2753,
          0.2753,
          0.2753,
          0.2753,
          0.2753,
          null,
          null,
          null,
          null,
          null,
          null,
          null,
          null,
          null,
          null,
          null,
          null,
          null,
          null,
          null,
          null,
          null,
          null,
          null,
          null,
          null,
          null,
          null,
          null,
          null,
          null,
          null,
          null,
          null,
          null,
          null,
          null,
          null,
          null,
          null,
          null,
          null,
          null,
          null,
          null,
          null,
          null,
          null,
          null,
          null,
          null,
          null,
          null,
          null,
          null,
          null,
          null,
          null,
          null,
          null,
          null,
          null,
          null,
          null,
          null,
          null,
          null,
          null,
          null,
          null,
          null,
          null,
          null,
          null,
          null,
          null,
          null,
          null,
          null,
          null,
          null,
          null,
          null,
          null,
          null,
          null,
          null,
          null,
          null,
          null,
          null,
          null,
          null,
          null,
          null,
          null,
          null,
          null,
          null,
          null,
          null,
          null,
          null,
          null,
          null,
          null,
          null,
          null,
          null,
          null
         ],
         "yaxis": "y"
        },
        {
         "hovertemplate": "variable=ETHx<br>timestamp=%{x}<br>value=%{y}<extra></extra>",
         "legendgroup": "ETHx",
         "line": {
          "color": "#19d3f3",
          "dash": "solid"
         },
         "marker": {
          "symbol": "circle"
         },
         "mode": "lines",
         "name": "ETHx",
         "showlegend": true,
         "type": "scattergl",
         "x": [
          "2024-09-15T02:04:47+00:00",
          "2024-09-15T05:44:35+00:00",
          "2024-09-15T09:24:47+00:00",
          "2024-09-15T13:04:11+00:00",
          "2024-09-15T16:44:23+00:00",
          "2024-09-15T20:23:35+00:00",
          "2024-09-16T00:03:11+00:00",
          "2024-09-16T03:43:47+00:00",
          "2024-09-16T07:23:23+00:00",
          "2024-09-16T11:04:47+00:00",
          "2024-09-16T14:46:11+00:00",
          "2024-09-16T18:26:47+00:00",
          "2024-09-16T22:06:23+00:00",
          "2024-09-17T01:46:35+00:00",
          "2024-09-17T05:27:47+00:00",
          "2024-09-17T09:08:35+00:00",
          "2024-09-17T12:48:23+00:00",
          "2024-09-17T16:29:11+00:00",
          "2024-09-17T20:09:47+00:00",
          "2024-09-17T23:50:47+00:00",
          "2024-09-18T03:30:35+00:00",
          "2024-09-18T07:11:35+00:00",
          "2024-09-18T10:51:35+00:00",
          "2024-09-18T14:32:23+00:00",
          "2024-09-18T18:12:23+00:00",
          "2024-09-18T21:52:47+00:00",
          "2024-09-19T01:33:11+00:00",
          "2024-09-19T05:13:23+00:00",
          "2024-09-19T08:53:23+00:00",
          "2024-09-19T12:33:23+00:00",
          "2024-09-19T16:13:23+00:00",
          "2024-09-19T19:53:23+00:00",
          "2024-09-19T23:33:11+00:00",
          "2024-09-20T03:13:35+00:00",
          "2024-09-20T06:54:11+00:00",
          "2024-09-20T10:35:11+00:00",
          "2024-09-20T14:14:59+00:00",
          "2024-09-20T17:54:59+00:00",
          "2024-09-20T21:35:23+00:00",
          "2024-09-21T01:16:23+00:00",
          "2024-09-21T04:56:23+00:00",
          "2024-09-21T08:38:11+00:00",
          "2024-09-21T12:18:11+00:00",
          "2024-09-21T15:58:11+00:00",
          "2024-09-21T19:38:11+00:00",
          "2024-09-21T23:19:11+00:00",
          "2024-09-22T02:58:47+00:00",
          "2024-09-22T06:38:35+00:00",
          "2024-09-22T10:18:23+00:00",
          "2024-09-22T13:58:11+00:00",
          "2024-09-22T17:37:59+00:00",
          "2024-09-22T21:18:11+00:00",
          "2024-09-23T00:57:47+00:00",
          "2024-09-23T04:37:23+00:00",
          "2024-09-23T08:17:35+00:00",
          "2024-09-23T11:58:59+00:00",
          "2024-09-23T15:38:59+00:00",
          "2024-09-23T19:18:59+00:00",
          "2024-09-23T22:58:59+00:00",
          "2024-09-24T02:38:47+00:00",
          "2024-09-24T06:18:23+00:00",
          "2024-09-24T09:57:47+00:00",
          "2024-09-24T13:37:23+00:00",
          "2024-09-24T17:17:47+00:00",
          "2024-09-24T20:57:11+00:00",
          "2024-09-25T00:36:59+00:00",
          "2024-09-25T04:17:23+00:00",
          "2024-09-25T07:57:11+00:00",
          "2024-09-25T11:37:35+00:00",
          "2024-09-25T15:18:35+00:00",
          "2024-09-25T18:59:35+00:00",
          "2024-09-25T22:38:47+00:00",
          "2024-09-26T02:18:35+00:00",
          "2024-09-26T05:58:23+00:00",
          "2024-09-26T09:37:59+00:00",
          "2024-09-26T13:17:35+00:00",
          "2024-09-26T16:56:59+00:00",
          "2024-09-26T20:36:59+00:00",
          "2024-09-27T00:17:47+00:00",
          "2024-09-27T03:57:35+00:00",
          "2024-09-27T07:37:11+00:00",
          "2024-09-27T11:16:59+00:00",
          "2024-09-27T14:56:47+00:00",
          "2024-09-27T18:36:47+00:00",
          "2024-09-27T22:16:11+00:00",
          "2024-09-28T01:55:59+00:00",
          "2024-09-28T05:36:23+00:00",
          "2024-09-28T09:15:59+00:00",
          "2024-09-28T12:55:47+00:00",
          "2024-09-28T16:35:23+00:00",
          "2024-09-28T20:15:47+00:00",
          "2024-09-28T23:56:35+00:00",
          "2024-09-29T03:36:47+00:00",
          "2024-09-29T07:17:11+00:00",
          "2024-09-29T10:56:47+00:00",
          "2024-09-29T14:36:35+00:00",
          "2024-09-29T18:16:11+00:00",
          "2024-09-29T21:56:47+00:00",
          "2024-09-30T01:36:35+00:00",
          "2024-09-30T05:16:35+00:00",
          "2024-09-30T08:55:59+00:00",
          "2024-09-30T12:35:23+00:00",
          "2024-09-30T16:15:11+00:00",
          "2024-09-30T19:54:47+00:00",
          "2024-09-30T23:34:23+00:00",
          "2024-10-01T03:13:59+00:00",
          "2024-10-01T06:53:59+00:00",
          "2024-10-01T10:33:35+00:00",
          "2024-10-01T14:13:47+00:00",
          "2024-10-01T17:54:11+00:00",
          "2024-10-01T21:34:23+00:00",
          "2024-10-02T01:14:11+00:00",
          "2024-10-02T04:54:11+00:00",
          "2024-10-02T08:33:47+00:00",
          "2024-10-02T12:12:59+00:00",
          "2024-10-02T15:53:11+00:00",
          "2024-10-02T19:33:23+00:00",
          "2024-10-02T23:12:47+00:00",
          "2024-10-03T02:52:11+00:00",
          "2024-10-03T06:32:23+00:00",
          "2024-10-03T10:11:59+00:00",
          "2024-10-03T13:51:59+00:00",
          "2024-10-03T17:33:23+00:00",
          "2024-10-03T21:13:47+00:00",
          "2024-10-04T00:53:11+00:00",
          "2024-10-04T04:32:23+00:00",
          "2024-10-04T08:11:59+00:00",
          "2024-10-04T11:51:23+00:00",
          "2024-10-04T15:30:59+00:00",
          "2024-10-04T19:10:35+00:00",
          "2024-10-04T22:50:23+00:00",
          "2024-10-05T02:30:35+00:00",
          "2024-10-05T06:09:59+00:00",
          "2024-10-05T09:49:59+00:00",
          "2024-10-05T13:29:23+00:00",
          "2024-10-05T17:09:23+00:00",
          "2024-10-05T20:48:59+00:00",
          "2024-10-06T00:28:11+00:00",
          "2024-10-06T04:07:47+00:00",
          "2024-10-06T07:47:35+00:00",
          "2024-10-06T11:27:47+00:00",
          "2024-10-06T15:07:47+00:00",
          "2024-10-06T18:47:35+00:00",
          "2024-10-06T22:27:23+00:00",
          "2024-10-07T02:07:35+00:00",
          "2024-10-07T05:47:35+00:00",
          "2024-10-07T09:27:11+00:00",
          "2024-10-07T13:06:35+00:00",
          "2024-10-07T16:46:47+00:00",
          "2024-10-07T20:26:23+00:00",
          "2024-10-08T00:05:59+00:00",
          "2024-10-08T03:45:47+00:00",
          "2024-10-08T07:25:35+00:00",
          "2024-10-08T11:04:59+00:00",
          "2024-10-08T14:44:47+00:00",
          "2024-10-08T18:24:11+00:00",
          "2024-10-08T22:04:47+00:00",
          "2024-10-09T01:44:35+00:00",
          "2024-10-09T05:23:47+00:00",
          "2024-10-09T09:03:35+00:00",
          "2024-10-09T12:43:59+00:00",
          "2024-10-09T16:23:11+00:00",
          "2024-10-09T20:02:59+00:00",
          "2024-10-09T23:42:35+00:00",
          "2024-10-10T03:22:23+00:00",
          "2024-10-10T07:02:23+00:00",
          "2024-10-10T10:42:11+00:00",
          "2024-10-10T14:21:47+00:00",
          "2024-10-10T18:01:11+00:00",
          "2024-10-10T21:40:59+00:00",
          "2024-10-11T01:20:35+00:00",
          "2024-10-11T05:00:35+00:00",
          "2024-10-11T08:40:59+00:00",
          "2024-10-11T12:21:35+00:00",
          "2024-10-11T16:02:35+00:00",
          "2024-10-11T19:42:47+00:00",
          "2024-10-11T23:23:35+00:00",
          "2024-10-12T03:04:23+00:00",
          "2024-10-12T06:44:47+00:00",
          "2024-10-12T10:26:35+00:00",
          "2024-10-12T14:06:59+00:00",
          "2024-10-12T17:46:59+00:00",
          "2024-10-12T21:27:35+00:00",
          "2024-10-13T01:07:59+00:00",
          "2024-10-13T04:50:11+00:00",
          "2024-10-13T08:32:47+00:00",
          "2024-10-13T12:14:23+00:00",
          "2024-10-13T15:54:11+00:00",
          "2024-10-13T19:34:11+00:00",
          "2024-10-13T23:14:47+00:00",
          "2024-10-14T02:54:59+00:00",
          "2024-10-14T06:34:47+00:00",
          "2024-10-14T10:16:11+00:00",
          "2024-10-14T13:57:11+00:00",
          "2024-10-14T17:36:59+00:00",
          "2024-10-14T21:17:23+00:00",
          "2024-10-15T00:57:23+00:00",
          "2024-10-15T04:37:47+00:00",
          "2024-10-15T08:17:23+00:00",
          "2024-10-15T11:57:59+00:00",
          "2024-10-15T15:38:35+00:00",
          "2024-10-15T19:18:59+00:00",
          "2024-10-15T22:59:11+00:00",
          "2024-10-16T02:39:59+00:00",
          "2024-10-16T06:19:59+00:00",
          "2024-10-16T09:59:59+00:00",
          "2024-10-16T13:40:11+00:00",
          "2024-10-16T17:20:11+00:00",
          "2024-10-16T21:00:23+00:00",
          "2024-10-17T00:40:59+00:00",
          "2024-10-17T04:21:11+00:00",
          "2024-10-17T08:01:11+00:00",
          "2024-10-17T11:40:47+00:00",
          "2024-10-17T15:21:11+00:00",
          "2024-10-17T19:01:23+00:00",
          "2024-10-17T22:41:35+00:00",
          "2024-10-18T02:21:35+00:00",
          "2024-10-18T06:01:59+00:00",
          "2024-10-18T09:42:11+00:00",
          "2024-10-18T13:21:47+00:00",
          "2024-10-18T17:02:11+00:00",
          "2024-10-18T20:41:47+00:00",
          "2024-10-19T00:21:47+00:00",
          "2024-10-19T04:01:47+00:00",
          "2024-10-19T07:42:23+00:00",
          "2024-10-19T11:21:59+00:00",
          "2024-10-19T15:01:59+00:00",
          "2024-10-19T18:41:47+00:00",
          "2024-10-19T22:21:23+00:00",
          "2024-10-20T02:00:47+00:00",
          "2024-10-20T05:40:47+00:00",
          "2024-10-20T09:20:35+00:00",
          "2024-10-20T12:59:59+00:00",
          "2024-10-20T16:40:59+00:00",
          "2024-10-20T20:20:47+00:00",
          "2024-10-21T00:00:59+00:00",
          "2024-10-21T03:41:35+00:00",
          "2024-10-21T07:21:35+00:00",
          "2024-10-21T11:00:59+00:00",
          "2024-10-21T14:40:59+00:00",
          "2024-10-21T18:20:23+00:00",
          "2024-10-21T22:00:35+00:00",
          "2024-10-22T01:40:59+00:00",
          "2024-10-22T05:21:11+00:00",
          "2024-10-22T09:01:23+00:00",
          "2024-10-22T12:41:35+00:00",
          "2024-10-22T16:21:35+00:00",
          "2024-10-22T20:01:35+00:00",
          "2024-10-22T23:42:23+00:00",
          "2024-10-23T03:22:35+00:00",
          "2024-10-23T07:01:35+00:00",
          "2024-10-23T10:41:35+00:00",
          "2024-10-23T14:21:11+00:00",
          "2024-10-23T18:00:59+00:00",
          "2024-10-23T21:40:11+00:00",
          "2024-10-24T01:20:47+00:00",
          "2024-10-24T05:00:47+00:00",
          "2024-10-24T08:40:59+00:00",
          "2024-10-24T12:20:35+00:00",
          "2024-10-24T16:00:35+00:00",
          "2024-10-24T19:40:11+00:00",
          "2024-10-24T23:19:59+00:00",
          "2024-10-25T02:59:59+00:00",
          "2024-10-25T06:40:11+00:00",
          "2024-10-25T10:19:35+00:00",
          "2024-10-25T13:59:35+00:00",
          "2024-10-25T17:39:35+00:00",
          "2024-10-25T21:19:11+00:00",
          "2024-10-26T00:58:59+00:00",
          "2024-10-26T04:39:23+00:00",
          "2024-10-26T08:19:11+00:00",
          "2024-10-26T11:59:59+00:00",
          "2024-10-26T15:40:35+00:00",
          "2024-10-26T19:20:11+00:00",
          "2024-10-26T22:59:59+00:00",
          "2024-10-27T02:40:11+00:00",
          "2024-10-27T06:19:47+00:00",
          "2024-10-27T09:59:23+00:00",
          "2024-10-27T13:40:11+00:00",
          "2024-10-27T17:19:47+00:00",
          "2024-10-27T20:59:11+00:00",
          "2024-10-28T00:38:35+00:00",
          "2024-10-28T04:18:47+00:00",
          "2024-10-28T07:59:47+00:00",
          "2024-10-28T11:39:47+00:00",
          "2024-10-28T15:20:11+00:00",
          "2024-10-28T19:00:35+00:00",
          "2024-10-28T22:40:23+00:00",
          "2024-10-29T02:20:47+00:00",
          "2024-10-29T06:00:35+00:00",
          "2024-10-29T09:41:11+00:00",
          "2024-10-29T13:21:35+00:00",
          "2024-10-29T17:01:11+00:00",
          "2024-10-29T20:40:35+00:00",
          "2024-10-30T00:20:23+00:00",
          "2024-10-30T04:00:11+00:00",
          "2024-10-30T07:40:35+00:00",
          "2024-10-30T11:21:47+00:00",
          "2024-10-30T15:03:35+00:00",
          "2024-10-30T18:43:11+00:00",
          "2024-10-30T22:22:47+00:00",
          "2024-10-31T02:02:11+00:00",
          "2024-10-31T05:42:59+00:00",
          "2024-10-31T09:23:35+00:00",
          "2024-10-31T13:02:47+00:00",
          "2024-10-31T16:42:11+00:00",
          "2024-10-31T20:21:35+00:00",
          "2024-11-01T00:01:23+00:00",
          "2024-11-01T03:41:11+00:00",
          "2024-11-01T07:20:59+00:00",
          "2024-11-01T11:00:47+00:00",
          "2024-11-01T14:40:35+00:00",
          "2024-11-01T18:20:23+00:00",
          "2024-11-01T22:00:35+00:00",
          "2024-11-02T01:40:47+00:00",
          "2024-11-02T05:21:11+00:00",
          "2024-11-02T09:00:59+00:00",
          "2024-11-02T12:41:59+00:00",
          "2024-11-02T16:22:35+00:00",
          "2024-11-02T20:02:35+00:00",
          "2024-11-02T23:43:35+00:00",
          "2024-11-03T03:24:23+00:00",
          "2024-11-03T07:04:35+00:00",
          "2024-11-03T10:43:47+00:00",
          "2024-11-03T14:23:47+00:00",
          "2024-11-03T18:04:35+00:00",
          "2024-11-03T21:43:59+00:00",
          "2024-11-04T01:23:47+00:00",
          "2024-11-04T05:03:47+00:00",
          "2024-11-04T08:42:59+00:00",
          "2024-11-04T12:23:35+00:00",
          "2024-11-04T16:02:59+00:00",
          "2024-11-04T19:43:23+00:00",
          "2024-11-04T23:23:23+00:00",
          "2024-11-05T03:03:23+00:00",
          "2024-11-05T06:44:11+00:00",
          "2024-11-05T10:24:11+00:00",
          "2024-11-05T14:04:11+00:00",
          "2024-11-05T17:44:23+00:00",
          "2024-11-05T21:25:11+00:00",
          "2024-11-06T01:04:59+00:00",
          "2024-11-06T04:44:23+00:00",
          "2024-11-06T08:24:23+00:00",
          "2024-11-06T12:05:23+00:00",
          "2024-11-06T15:45:47+00:00"
         ],
         "xaxis": "x",
         "y": [
          0.2005,
          0.2005,
          0.1213,
          0.1213,
          0.1213,
          0.1291,
          0.1291,
          0.1291,
          0.1291,
          0.1768,
          0.1768,
          0.1768,
          0.1852,
          0.1852,
          0.1852,
          0.1786,
          0.1786,
          0.1786,
          0.1868,
          0.1868,
          0.1868,
          0.1868,
          0.1642,
          0.1642,
          0.1642,
          0.1722,
          0.1722,
          0.1722,
          0.2035,
          0.2035,
          0.2035,
          0.2035,
          0.2035,
          0.2155,
          0.2155,
          0.1,
          0.1,
          0.1,
          0.1091,
          0.1091,
          0.1091,
          0.0163,
          0.0163,
          0.0163,
          0.0163,
          0.0251,
          0.0251,
          0.0251,
          0.0255,
          0.0255,
          0.0255,
          0.0347,
          0.0347,
          0.0347,
          -0.0018,
          -0.0018,
          -0.0018,
          -0.0018,
          0.0097,
          0.0097,
          0.0097,
          -0.022,
          -0.022,
          -0.022,
          -0.0137,
          -0.0137,
          -0.0137,
          -0.0508,
          -0.0508,
          -0.0508,
          -0.0508,
          -0.0428,
          -0.0428,
          -0.0428,
          0.0455,
          0.0455,
          0.0455,
          0.0552,
          0.0552,
          0.0552,
          0.0552,
          0.0062,
          0.0062,
          0.0062,
          0.0148,
          0.0148,
          0.0148,
          0.0589,
          0.0589,
          0.0589,
          0.0666,
          0.0666,
          0.0666,
          0.0666,
          0.05,
          0.05,
          0.05,
          0.058,
          0.058,
          0.058,
          0.0396,
          0.0396,
          0.0396,
          0.0396,
          0.0474,
          0.0474,
          0.0474,
          0.0124,
          0.0124,
          0.0124,
          0.02,
          0.02,
          0.02,
          0.0054,
          0.0054,
          0.0054,
          0.0054,
          0.0128,
          0.0128,
          0.0128,
          0.0315,
          0.0315,
          0.0315,
          0.0315,
          0.039,
          0.039,
          -0.0018,
          -0.0018,
          -0.0018,
          -0.0018,
          -0.0018,
          0.0062,
          0.0062,
          -0.0013,
          -0.0013,
          -0.0013,
          -0.0013,
          0.0054,
          0.0054,
          0.0054,
          0.0009,
          0.0009,
          0.0009,
          0.0009,
          0.0009,
          0.0091,
          0.0072,
          0.0072,
          0.0072,
          0.0072,
          0.0072,
          0.0072,
          0.0155,
          0.0635,
          0.0635,
          0.0635,
          0.0635,
          0.0714,
          0.0714,
          0.0845,
          0.0845,
          0.0845,
          0.0845,
          0.0845,
          0.0845,
          0.0939,
          0.134,
          0.134,
          0.134,
          0.134,
          0.134,
          0.134,
          0.134,
          0.1426,
          0.1426,
          0.1426,
          0.1426,
          0.1426,
          0.1426,
          0.102,
          0.102,
          0.102,
          0.102,
          0.102,
          0.102,
          0.102,
          0.1031,
          0.1031,
          0.1031,
          0.1031,
          0.1031,
          0.1031,
          0.0956,
          0.0956,
          0.0956,
          0.0956,
          0.0956,
          0.0956,
          0.0956,
          0.1118,
          0.1525,
          0.1525,
          0.1525,
          0.1525,
          0.16,
          0.1348,
          0.1348,
          0.1348,
          0.1348,
          0.1348,
          0.1348,
          0.142,
          0.1053,
          0.1053,
          0.1053,
          0.1053,
          0.1132,
          0.1132,
          0.0976,
          0.0976,
          0.0976,
          0.0976,
          0.0976,
          0.1053,
          0.1053,
          0.0871,
          0.0871,
          0.0871,
          0.0871,
          0.0943,
          0.0943,
          0.0896,
          0.0896,
          0.0899,
          0.0899,
          0.0899,
          0.0982,
          0.0982,
          0.0982,
          0.0982,
          0.0989,
          0.0989,
          0.1067,
          0.1067,
          0.1016,
          0.1016,
          0.1016,
          0.1016,
          0.1016,
          0.1088,
          0.1088,
          0.0963,
          0.0963,
          0.0963,
          0.0963,
          0.0963,
          0.104,
          0.1246,
          0.1246,
          0.1246,
          0.1246,
          0.1246,
          0.1246,
          0.132,
          0.0924,
          0.0924,
          0.0924,
          0.0924,
          0.0924,
          0.0924,
          0.0961,
          0.0961,
          0.0961,
          0.0961,
          0.0961,
          0.1033,
          0.1033,
          0.0715,
          0.0715,
          0.0715,
          0.0715,
          0.0715,
          0.0783,
          0.041,
          0.041,
          0.041,
          0.041,
          0.041,
          0.041,
          0.0492,
          0.1174,
          0.1174,
          0.1174,
          0.1174,
          0.1174,
          0.1248,
          0.1248,
          0.1033,
          0.1033,
          0.1033,
          0.1033,
          0.1033,
          0.1033,
          0.1013,
          0.1013,
          0.1013,
          0.1013,
          0.1013,
          0.1013,
          0.1013,
          0.1296,
          0.1296,
          0.145,
          0.145,
          0.145,
          0.153,
          0.0006,
          0.0006,
          0.0006,
          0.001,
          0.001,
          0.0082,
          0.0082,
          0.0082,
          0.0082,
          0.1083,
          0.1083,
          0.1083,
          0.1155,
          0.1155,
          0.1155,
          0.1155,
          0.0928,
          0.0928,
          0.0999,
          0.0999,
          0.0999,
          0.0999,
          0.0829,
          0.0829,
          0.0903,
          0.0903,
          0.0903,
          0.0903,
          0.0829
         ],
         "yaxis": "y"
        },
        {
         "hovertemplate": "variable=pxETH<br>timestamp=%{x}<br>value=%{y}<extra></extra>",
         "legendgroup": "pxETH",
         "line": {
          "color": "#FF6692",
          "dash": "solid"
         },
         "marker": {
          "symbol": "circle"
         },
         "mode": "lines",
         "name": "pxETH",
         "showlegend": true,
         "type": "scattergl",
         "x": [
          "2024-09-15T02:04:47+00:00",
          "2024-09-15T05:44:35+00:00",
          "2024-09-15T09:24:47+00:00",
          "2024-09-15T13:04:11+00:00",
          "2024-09-15T16:44:23+00:00",
          "2024-09-15T20:23:35+00:00",
          "2024-09-16T00:03:11+00:00",
          "2024-09-16T03:43:47+00:00",
          "2024-09-16T07:23:23+00:00",
          "2024-09-16T11:04:47+00:00",
          "2024-09-16T14:46:11+00:00",
          "2024-09-16T18:26:47+00:00",
          "2024-09-16T22:06:23+00:00",
          "2024-09-17T01:46:35+00:00",
          "2024-09-17T05:27:47+00:00",
          "2024-09-17T09:08:35+00:00",
          "2024-09-17T12:48:23+00:00",
          "2024-09-17T16:29:11+00:00",
          "2024-09-17T20:09:47+00:00",
          "2024-09-17T23:50:47+00:00",
          "2024-09-18T03:30:35+00:00",
          "2024-09-18T07:11:35+00:00",
          "2024-09-18T10:51:35+00:00",
          "2024-09-18T14:32:23+00:00",
          "2024-09-18T18:12:23+00:00",
          "2024-09-18T21:52:47+00:00",
          "2024-09-19T01:33:11+00:00",
          "2024-09-19T05:13:23+00:00",
          "2024-09-19T08:53:23+00:00",
          "2024-09-19T12:33:23+00:00",
          "2024-09-19T16:13:23+00:00",
          "2024-09-19T19:53:23+00:00",
          "2024-09-19T23:33:11+00:00",
          "2024-09-20T03:13:35+00:00",
          "2024-09-20T06:54:11+00:00",
          "2024-09-20T10:35:11+00:00",
          "2024-09-20T14:14:59+00:00",
          "2024-09-20T17:54:59+00:00",
          "2024-09-20T21:35:23+00:00",
          "2024-09-21T01:16:23+00:00",
          "2024-09-21T04:56:23+00:00",
          "2024-09-21T08:38:11+00:00",
          "2024-09-21T12:18:11+00:00",
          "2024-09-21T15:58:11+00:00",
          "2024-09-21T19:38:11+00:00",
          "2024-09-21T23:19:11+00:00",
          "2024-09-22T02:58:47+00:00",
          "2024-09-22T06:38:35+00:00",
          "2024-09-22T10:18:23+00:00",
          "2024-09-22T13:58:11+00:00",
          "2024-09-22T17:37:59+00:00",
          "2024-09-22T21:18:11+00:00",
          "2024-09-23T00:57:47+00:00",
          "2024-09-23T04:37:23+00:00",
          "2024-09-23T08:17:35+00:00",
          "2024-09-23T11:58:59+00:00",
          "2024-09-23T15:38:59+00:00",
          "2024-09-23T19:18:59+00:00",
          "2024-09-23T22:58:59+00:00",
          "2024-09-24T02:38:47+00:00",
          "2024-09-24T06:18:23+00:00",
          "2024-09-24T09:57:47+00:00",
          "2024-09-24T13:37:23+00:00",
          "2024-09-24T17:17:47+00:00",
          "2024-09-24T20:57:11+00:00",
          "2024-09-25T00:36:59+00:00",
          "2024-09-25T04:17:23+00:00",
          "2024-09-25T07:57:11+00:00",
          "2024-09-25T11:37:35+00:00",
          "2024-09-25T15:18:35+00:00",
          "2024-09-25T18:59:35+00:00",
          "2024-09-25T22:38:47+00:00",
          "2024-09-26T02:18:35+00:00",
          "2024-09-26T05:58:23+00:00",
          "2024-09-26T09:37:59+00:00",
          "2024-09-26T13:17:35+00:00",
          "2024-09-26T16:56:59+00:00",
          "2024-09-26T20:36:59+00:00",
          "2024-09-27T00:17:47+00:00",
          "2024-09-27T03:57:35+00:00",
          "2024-09-27T07:37:11+00:00",
          "2024-09-27T11:16:59+00:00",
          "2024-09-27T14:56:47+00:00",
          "2024-09-27T18:36:47+00:00",
          "2024-09-27T22:16:11+00:00",
          "2024-09-28T01:55:59+00:00",
          "2024-09-28T05:36:23+00:00",
          "2024-09-28T09:15:59+00:00",
          "2024-09-28T12:55:47+00:00",
          "2024-09-28T16:35:23+00:00",
          "2024-09-28T20:15:47+00:00",
          "2024-09-28T23:56:35+00:00",
          "2024-09-29T03:36:47+00:00",
          "2024-09-29T07:17:11+00:00",
          "2024-09-29T10:56:47+00:00",
          "2024-09-29T14:36:35+00:00",
          "2024-09-29T18:16:11+00:00",
          "2024-09-29T21:56:47+00:00",
          "2024-09-30T01:36:35+00:00",
          "2024-09-30T05:16:35+00:00",
          "2024-09-30T08:55:59+00:00",
          "2024-09-30T12:35:23+00:00",
          "2024-09-30T16:15:11+00:00",
          "2024-09-30T19:54:47+00:00",
          "2024-09-30T23:34:23+00:00",
          "2024-10-01T03:13:59+00:00",
          "2024-10-01T06:53:59+00:00",
          "2024-10-01T10:33:35+00:00",
          "2024-10-01T14:13:47+00:00",
          "2024-10-01T17:54:11+00:00",
          "2024-10-01T21:34:23+00:00",
          "2024-10-02T01:14:11+00:00",
          "2024-10-02T04:54:11+00:00",
          "2024-10-02T08:33:47+00:00",
          "2024-10-02T12:12:59+00:00",
          "2024-10-02T15:53:11+00:00",
          "2024-10-02T19:33:23+00:00",
          "2024-10-02T23:12:47+00:00",
          "2024-10-03T02:52:11+00:00",
          "2024-10-03T06:32:23+00:00",
          "2024-10-03T10:11:59+00:00",
          "2024-10-03T13:51:59+00:00",
          "2024-10-03T17:33:23+00:00",
          "2024-10-03T21:13:47+00:00",
          "2024-10-04T00:53:11+00:00",
          "2024-10-04T04:32:23+00:00",
          "2024-10-04T08:11:59+00:00",
          "2024-10-04T11:51:23+00:00",
          "2024-10-04T15:30:59+00:00",
          "2024-10-04T19:10:35+00:00",
          "2024-10-04T22:50:23+00:00",
          "2024-10-05T02:30:35+00:00",
          "2024-10-05T06:09:59+00:00",
          "2024-10-05T09:49:59+00:00",
          "2024-10-05T13:29:23+00:00",
          "2024-10-05T17:09:23+00:00",
          "2024-10-05T20:48:59+00:00",
          "2024-10-06T00:28:11+00:00",
          "2024-10-06T04:07:47+00:00",
          "2024-10-06T07:47:35+00:00",
          "2024-10-06T11:27:47+00:00",
          "2024-10-06T15:07:47+00:00",
          "2024-10-06T18:47:35+00:00",
          "2024-10-06T22:27:23+00:00",
          "2024-10-07T02:07:35+00:00",
          "2024-10-07T05:47:35+00:00",
          "2024-10-07T09:27:11+00:00",
          "2024-10-07T13:06:35+00:00",
          "2024-10-07T16:46:47+00:00",
          "2024-10-07T20:26:23+00:00",
          "2024-10-08T00:05:59+00:00",
          "2024-10-08T03:45:47+00:00",
          "2024-10-08T07:25:35+00:00",
          "2024-10-08T11:04:59+00:00",
          "2024-10-08T14:44:47+00:00",
          "2024-10-08T18:24:11+00:00",
          "2024-10-08T22:04:47+00:00",
          "2024-10-09T01:44:35+00:00",
          "2024-10-09T05:23:47+00:00",
          "2024-10-09T09:03:35+00:00",
          "2024-10-09T12:43:59+00:00",
          "2024-10-09T16:23:11+00:00",
          "2024-10-09T20:02:59+00:00",
          "2024-10-09T23:42:35+00:00",
          "2024-10-10T03:22:23+00:00",
          "2024-10-10T07:02:23+00:00",
          "2024-10-10T10:42:11+00:00",
          "2024-10-10T14:21:47+00:00",
          "2024-10-10T18:01:11+00:00",
          "2024-10-10T21:40:59+00:00",
          "2024-10-11T01:20:35+00:00",
          "2024-10-11T05:00:35+00:00",
          "2024-10-11T08:40:59+00:00",
          "2024-10-11T12:21:35+00:00",
          "2024-10-11T16:02:35+00:00",
          "2024-10-11T19:42:47+00:00",
          "2024-10-11T23:23:35+00:00",
          "2024-10-12T03:04:23+00:00",
          "2024-10-12T06:44:47+00:00",
          "2024-10-12T10:26:35+00:00",
          "2024-10-12T14:06:59+00:00",
          "2024-10-12T17:46:59+00:00",
          "2024-10-12T21:27:35+00:00",
          "2024-10-13T01:07:59+00:00",
          "2024-10-13T04:50:11+00:00",
          "2024-10-13T08:32:47+00:00",
          "2024-10-13T12:14:23+00:00",
          "2024-10-13T15:54:11+00:00",
          "2024-10-13T19:34:11+00:00",
          "2024-10-13T23:14:47+00:00",
          "2024-10-14T02:54:59+00:00",
          "2024-10-14T06:34:47+00:00",
          "2024-10-14T10:16:11+00:00",
          "2024-10-14T13:57:11+00:00",
          "2024-10-14T17:36:59+00:00",
          "2024-10-14T21:17:23+00:00",
          "2024-10-15T00:57:23+00:00",
          "2024-10-15T04:37:47+00:00",
          "2024-10-15T08:17:23+00:00",
          "2024-10-15T11:57:59+00:00",
          "2024-10-15T15:38:35+00:00",
          "2024-10-15T19:18:59+00:00",
          "2024-10-15T22:59:11+00:00",
          "2024-10-16T02:39:59+00:00",
          "2024-10-16T06:19:59+00:00",
          "2024-10-16T09:59:59+00:00",
          "2024-10-16T13:40:11+00:00",
          "2024-10-16T17:20:11+00:00",
          "2024-10-16T21:00:23+00:00",
          "2024-10-17T00:40:59+00:00",
          "2024-10-17T04:21:11+00:00",
          "2024-10-17T08:01:11+00:00",
          "2024-10-17T11:40:47+00:00",
          "2024-10-17T15:21:11+00:00",
          "2024-10-17T19:01:23+00:00",
          "2024-10-17T22:41:35+00:00",
          "2024-10-18T02:21:35+00:00",
          "2024-10-18T06:01:59+00:00",
          "2024-10-18T09:42:11+00:00",
          "2024-10-18T13:21:47+00:00",
          "2024-10-18T17:02:11+00:00",
          "2024-10-18T20:41:47+00:00",
          "2024-10-19T00:21:47+00:00",
          "2024-10-19T04:01:47+00:00",
          "2024-10-19T07:42:23+00:00",
          "2024-10-19T11:21:59+00:00",
          "2024-10-19T15:01:59+00:00",
          "2024-10-19T18:41:47+00:00",
          "2024-10-19T22:21:23+00:00",
          "2024-10-20T02:00:47+00:00",
          "2024-10-20T05:40:47+00:00",
          "2024-10-20T09:20:35+00:00",
          "2024-10-20T12:59:59+00:00",
          "2024-10-20T16:40:59+00:00",
          "2024-10-20T20:20:47+00:00",
          "2024-10-21T00:00:59+00:00",
          "2024-10-21T03:41:35+00:00",
          "2024-10-21T07:21:35+00:00",
          "2024-10-21T11:00:59+00:00",
          "2024-10-21T14:40:59+00:00",
          "2024-10-21T18:20:23+00:00",
          "2024-10-21T22:00:35+00:00",
          "2024-10-22T01:40:59+00:00",
          "2024-10-22T05:21:11+00:00",
          "2024-10-22T09:01:23+00:00",
          "2024-10-22T12:41:35+00:00",
          "2024-10-22T16:21:35+00:00",
          "2024-10-22T20:01:35+00:00",
          "2024-10-22T23:42:23+00:00",
          "2024-10-23T03:22:35+00:00",
          "2024-10-23T07:01:35+00:00",
          "2024-10-23T10:41:35+00:00",
          "2024-10-23T14:21:11+00:00",
          "2024-10-23T18:00:59+00:00",
          "2024-10-23T21:40:11+00:00",
          "2024-10-24T01:20:47+00:00",
          "2024-10-24T05:00:47+00:00",
          "2024-10-24T08:40:59+00:00",
          "2024-10-24T12:20:35+00:00",
          "2024-10-24T16:00:35+00:00",
          "2024-10-24T19:40:11+00:00",
          "2024-10-24T23:19:59+00:00",
          "2024-10-25T02:59:59+00:00",
          "2024-10-25T06:40:11+00:00",
          "2024-10-25T10:19:35+00:00",
          "2024-10-25T13:59:35+00:00",
          "2024-10-25T17:39:35+00:00",
          "2024-10-25T21:19:11+00:00",
          "2024-10-26T00:58:59+00:00",
          "2024-10-26T04:39:23+00:00",
          "2024-10-26T08:19:11+00:00",
          "2024-10-26T11:59:59+00:00",
          "2024-10-26T15:40:35+00:00",
          "2024-10-26T19:20:11+00:00",
          "2024-10-26T22:59:59+00:00",
          "2024-10-27T02:40:11+00:00",
          "2024-10-27T06:19:47+00:00",
          "2024-10-27T09:59:23+00:00",
          "2024-10-27T13:40:11+00:00",
          "2024-10-27T17:19:47+00:00",
          "2024-10-27T20:59:11+00:00",
          "2024-10-28T00:38:35+00:00",
          "2024-10-28T04:18:47+00:00",
          "2024-10-28T07:59:47+00:00",
          "2024-10-28T11:39:47+00:00",
          "2024-10-28T15:20:11+00:00",
          "2024-10-28T19:00:35+00:00",
          "2024-10-28T22:40:23+00:00",
          "2024-10-29T02:20:47+00:00",
          "2024-10-29T06:00:35+00:00",
          "2024-10-29T09:41:11+00:00",
          "2024-10-29T13:21:35+00:00",
          "2024-10-29T17:01:11+00:00",
          "2024-10-29T20:40:35+00:00",
          "2024-10-30T00:20:23+00:00",
          "2024-10-30T04:00:11+00:00",
          "2024-10-30T07:40:35+00:00",
          "2024-10-30T11:21:47+00:00",
          "2024-10-30T15:03:35+00:00",
          "2024-10-30T18:43:11+00:00",
          "2024-10-30T22:22:47+00:00",
          "2024-10-31T02:02:11+00:00",
          "2024-10-31T05:42:59+00:00",
          "2024-10-31T09:23:35+00:00",
          "2024-10-31T13:02:47+00:00",
          "2024-10-31T16:42:11+00:00",
          "2024-10-31T20:21:35+00:00",
          "2024-11-01T00:01:23+00:00",
          "2024-11-01T03:41:11+00:00",
          "2024-11-01T07:20:59+00:00",
          "2024-11-01T11:00:47+00:00",
          "2024-11-01T14:40:35+00:00",
          "2024-11-01T18:20:23+00:00",
          "2024-11-01T22:00:35+00:00",
          "2024-11-02T01:40:47+00:00",
          "2024-11-02T05:21:11+00:00",
          "2024-11-02T09:00:59+00:00",
          "2024-11-02T12:41:59+00:00",
          "2024-11-02T16:22:35+00:00",
          "2024-11-02T20:02:35+00:00",
          "2024-11-02T23:43:35+00:00",
          "2024-11-03T03:24:23+00:00",
          "2024-11-03T07:04:35+00:00",
          "2024-11-03T10:43:47+00:00",
          "2024-11-03T14:23:47+00:00",
          "2024-11-03T18:04:35+00:00",
          "2024-11-03T21:43:59+00:00",
          "2024-11-04T01:23:47+00:00",
          "2024-11-04T05:03:47+00:00",
          "2024-11-04T08:42:59+00:00",
          "2024-11-04T12:23:35+00:00",
          "2024-11-04T16:02:59+00:00",
          "2024-11-04T19:43:23+00:00",
          "2024-11-04T23:23:23+00:00",
          "2024-11-05T03:03:23+00:00",
          "2024-11-05T06:44:11+00:00",
          "2024-11-05T10:24:11+00:00",
          "2024-11-05T14:04:11+00:00",
          "2024-11-05T17:44:23+00:00",
          "2024-11-05T21:25:11+00:00",
          "2024-11-06T01:04:59+00:00",
          "2024-11-06T04:44:23+00:00",
          "2024-11-06T08:24:23+00:00",
          "2024-11-06T12:05:23+00:00",
          "2024-11-06T15:45:47+00:00"
         ],
         "xaxis": "x",
         "y": [
          0.1322,
          0.1322,
          0.1322,
          0.1322,
          -0.1893,
          -0.1893,
          0.2402,
          0.4028,
          0.4028,
          0.4028,
          -0.7342,
          0.3076,
          0.3076,
          0.3076,
          0.3076,
          0.3076,
          0.3076,
          -0.7086,
          0.1263,
          0.1297,
          0.133,
          0.1363,
          0.1065,
          0.1098,
          0.1132,
          0.1165,
          0.1199,
          0.1232,
          0.1025,
          0.1058,
          0.1091,
          0.1124,
          0.1157,
          0.119,
          0.1223,
          0.0785,
          0.0815,
          0.0844,
          0.0873,
          0.0902,
          0.0931,
          0.096,
          0.0278,
          0.0307,
          0.0336,
          0.0365,
          0.0394,
          0.0423,
          -0.0031,
          -0.0002,
          0.0026,
          0.0054,
          0.0082,
          0.011,
          0.0138,
          0.0135,
          0.0161,
          0.0171,
          0.0182,
          0.0195,
          0.0209,
          0.0052,
          0.0068,
          0.0085,
          0.0102,
          0.0121,
          0.0139,
          0.0158,
          0.1966,
          0.1984,
          0.2002,
          0.2021,
          0.204,
          0.206,
          0.1843,
          0.1866,
          0.1891,
          0.192,
          0.1951,
          0.1983,
          0.2014,
          0.1533,
          0.1563,
          0.1593,
          0.1624,
          0.1654,
          0.1685,
          0.148,
          0.151,
          0.154,
          0.1571,
          0.1601,
          0.1632,
          0.1662,
          0.1373,
          0.1403,
          0.1434,
          0.1464,
          0.1494,
          0.1524,
          0.1381,
          0.141,
          0.144,
          0.147,
          0.15,
          0.153,
          0.156,
          0.1381,
          0.1411,
          0.1442,
          0.1472,
          0.1502,
          0.1532,
          0.138,
          0.141,
          0.144,
          0.1467,
          0.1474,
          0.1483,
          0.1492,
          0.1068,
          0.108,
          0.1094,
          0.1108,
          0.1122,
          0.1137,
          0.1305,
          0.1319,
          0.1333,
          0.1347,
          0.1361,
          0.1377,
          0.1393,
          0.091,
          0.0928,
          0.0946,
          0.0965,
          0.0987,
          0.1011,
          0.104,
          0.0979,
          0.1008,
          0.1037,
          0.1066,
          0.1095,
          0.1124,
          0.0908,
          0.0937,
          0.0966,
          0.0995,
          0.1025,
          0.1056,
          0.1086,
          0.1097,
          0.1127,
          0.1157,
          0.1188,
          0.1218,
          0.1248,
          0.1071,
          0.1101,
          0.1132,
          0.1162,
          0.1192,
          0.1222,
          0.1252,
          0.1044,
          0.1074,
          0.1104,
          0.1134,
          0.1164,
          0.1194,
          0.1224,
          0.2207,
          0.2237,
          0.2266,
          0.2296,
          0.2325,
          0.2338,
          0.2028,
          0.2036,
          0.2047,
          0.2058,
          0.2069,
          0.2083,
          0.2096,
          0.2036,
          0.2049,
          0.2061,
          0.2074,
          0.2087,
          0.21,
          0.203,
          0.2046,
          0.2062,
          0.2079,
          0.2097,
          0.2115,
          0.2137,
          0.1726,
          0.1753,
          0.1782,
          0.1811,
          0.1841,
          0.187,
          0.204,
          0.2069,
          0.2098,
          0.2127,
          0.2156,
          0.2185,
          0.2214,
          0.1937,
          0.1966,
          0.1925,
          0.1954,
          0.1983,
          0.2012,
          0.204,
          0.2068,
          0.1906,
          0.1934,
          0.1961,
          0.1989,
          0.2017,
          0.2044,
          0.2072,
          0.1771,
          0.1799,
          0.1826,
          0.1854,
          0.1881,
          0.1909,
          0.1583,
          0.1593,
          0.1602,
          0.1612,
          0.1622,
          0.1631,
          0.1641,
          0.1576,
          0.1587,
          0.1599,
          0.1611,
          0.1624,
          0.1638,
          0.1652,
          0.1606,
          0.162,
          0.1634,
          0.1648,
          0.1756,
          0.177,
          0.1785,
          0.1801,
          0.1817,
          0.1834,
          0.1627,
          0.1646,
          0.1666,
          0.169,
          0.1717,
          0.1745,
          0.1774,
          0.1562,
          0.1591,
          0.1621,
          0.165,
          0.168,
          0.171,
          0.1405,
          0.1435,
          0.1465,
          0.1494,
          0.1524,
          0.1553,
          0.1583,
          0.1419,
          0.1449,
          0.1478,
          0.1508,
          0.1537,
          0.1567,
          0.1161,
          0.1191,
          0.1221,
          0.125,
          0.128,
          0.131,
          0.1339,
          0.2323,
          0.2353,
          0.2382,
          0.2412,
          0.2442,
          0.2471,
          0.2501,
          0.2608,
          0.2638,
          0.2667,
          0.2696,
          0.2713,
          0.272,
          0.2517,
          0.2526,
          0.2535,
          0.2546,
          0.2557,
          0.2568,
          0.2579,
          0.2762,
          0.2773,
          0.2784,
          0.2795,
          0.2808,
          0.2821,
          0.2461,
          0.2475,
          0.249,
          0.2506,
          0.2523,
          0.2543,
          0.2567,
          0.2483,
          0.2511,
          0.2539,
          0.2567,
          0.2595,
          0.2623,
          0.2451,
          0.2479,
          0.2507,
          0.2469,
          0.2497,
          0.2525,
          0.2553,
          0.258,
          0.2608,
          0.2402,
          0.243,
          0.2457,
          0.2484,
          0.2512,
          0.2583,
          0.2659
         ],
         "yaxis": "y"
        },
        {
         "hovertemplate": "variable=stETH<br>timestamp=%{x}<br>value=%{y}<extra></extra>",
         "legendgroup": "stETH",
         "line": {
          "color": "#B6E880",
          "dash": "solid"
         },
         "marker": {
          "symbol": "circle"
         },
         "mode": "lines",
         "name": "stETH",
         "showlegend": true,
         "type": "scattergl",
         "x": [
          "2024-09-15T02:04:47+00:00",
          "2024-09-15T05:44:35+00:00",
          "2024-09-15T09:24:47+00:00",
          "2024-09-15T13:04:11+00:00",
          "2024-09-15T16:44:23+00:00",
          "2024-09-15T20:23:35+00:00",
          "2024-09-16T00:03:11+00:00",
          "2024-09-16T03:43:47+00:00",
          "2024-09-16T07:23:23+00:00",
          "2024-09-16T11:04:47+00:00",
          "2024-09-16T14:46:11+00:00",
          "2024-09-16T18:26:47+00:00",
          "2024-09-16T22:06:23+00:00",
          "2024-09-17T01:46:35+00:00",
          "2024-09-17T05:27:47+00:00",
          "2024-09-17T09:08:35+00:00",
          "2024-09-17T12:48:23+00:00",
          "2024-09-17T16:29:11+00:00",
          "2024-09-17T20:09:47+00:00",
          "2024-09-17T23:50:47+00:00",
          "2024-09-18T03:30:35+00:00",
          "2024-09-18T07:11:35+00:00",
          "2024-09-18T10:51:35+00:00",
          "2024-09-18T14:32:23+00:00",
          "2024-09-18T18:12:23+00:00",
          "2024-09-18T21:52:47+00:00",
          "2024-09-19T01:33:11+00:00",
          "2024-09-19T05:13:23+00:00",
          "2024-09-19T08:53:23+00:00",
          "2024-09-19T12:33:23+00:00",
          "2024-09-19T16:13:23+00:00",
          "2024-09-19T19:53:23+00:00",
          "2024-09-19T23:33:11+00:00",
          "2024-09-20T03:13:35+00:00",
          "2024-09-20T06:54:11+00:00",
          "2024-09-20T10:35:11+00:00",
          "2024-09-20T14:14:59+00:00",
          "2024-09-20T17:54:59+00:00",
          "2024-09-20T21:35:23+00:00",
          "2024-09-21T01:16:23+00:00",
          "2024-09-21T04:56:23+00:00",
          "2024-09-21T08:38:11+00:00",
          "2024-09-21T12:18:11+00:00",
          "2024-09-21T15:58:11+00:00",
          "2024-09-21T19:38:11+00:00",
          "2024-09-21T23:19:11+00:00",
          "2024-09-22T02:58:47+00:00",
          "2024-09-22T06:38:35+00:00",
          "2024-09-22T10:18:23+00:00",
          "2024-09-22T13:58:11+00:00",
          "2024-09-22T17:37:59+00:00",
          "2024-09-22T21:18:11+00:00",
          "2024-09-23T00:57:47+00:00",
          "2024-09-23T04:37:23+00:00",
          "2024-09-23T08:17:35+00:00",
          "2024-09-23T11:58:59+00:00",
          "2024-09-23T15:38:59+00:00",
          "2024-09-23T19:18:59+00:00",
          "2024-09-23T22:58:59+00:00",
          "2024-09-24T02:38:47+00:00",
          "2024-09-24T06:18:23+00:00",
          "2024-09-24T09:57:47+00:00",
          "2024-09-24T13:37:23+00:00",
          "2024-09-24T17:17:47+00:00",
          "2024-09-24T20:57:11+00:00",
          "2024-09-25T00:36:59+00:00",
          "2024-09-25T04:17:23+00:00",
          "2024-09-25T07:57:11+00:00",
          "2024-09-25T11:37:35+00:00",
          "2024-09-25T15:18:35+00:00",
          "2024-09-25T18:59:35+00:00",
          "2024-09-25T22:38:47+00:00",
          "2024-09-26T02:18:35+00:00",
          "2024-09-26T05:58:23+00:00",
          "2024-09-26T09:37:59+00:00",
          "2024-09-26T13:17:35+00:00",
          "2024-09-26T16:56:59+00:00",
          "2024-09-26T20:36:59+00:00",
          "2024-09-27T00:17:47+00:00",
          "2024-09-27T03:57:35+00:00",
          "2024-09-27T07:37:11+00:00",
          "2024-09-27T11:16:59+00:00",
          "2024-09-27T14:56:47+00:00",
          "2024-09-27T18:36:47+00:00",
          "2024-09-27T22:16:11+00:00",
          "2024-09-28T01:55:59+00:00",
          "2024-09-28T05:36:23+00:00",
          "2024-09-28T09:15:59+00:00",
          "2024-09-28T12:55:47+00:00",
          "2024-09-28T16:35:23+00:00",
          "2024-09-28T20:15:47+00:00",
          "2024-09-28T23:56:35+00:00",
          "2024-09-29T03:36:47+00:00",
          "2024-09-29T07:17:11+00:00",
          "2024-09-29T10:56:47+00:00",
          "2024-09-29T14:36:35+00:00",
          "2024-09-29T18:16:11+00:00",
          "2024-09-29T21:56:47+00:00",
          "2024-09-30T01:36:35+00:00",
          "2024-09-30T05:16:35+00:00",
          "2024-09-30T08:55:59+00:00",
          "2024-09-30T12:35:23+00:00",
          "2024-09-30T16:15:11+00:00",
          "2024-09-30T19:54:47+00:00",
          "2024-09-30T23:34:23+00:00",
          "2024-10-01T03:13:59+00:00",
          "2024-10-01T06:53:59+00:00",
          "2024-10-01T10:33:35+00:00",
          "2024-10-01T14:13:47+00:00",
          "2024-10-01T17:54:11+00:00",
          "2024-10-01T21:34:23+00:00",
          "2024-10-02T01:14:11+00:00",
          "2024-10-02T04:54:11+00:00",
          "2024-10-02T08:33:47+00:00",
          "2024-10-02T12:12:59+00:00",
          "2024-10-02T15:53:11+00:00",
          "2024-10-02T19:33:23+00:00",
          "2024-10-02T23:12:47+00:00",
          "2024-10-03T02:52:11+00:00",
          "2024-10-03T06:32:23+00:00",
          "2024-10-03T10:11:59+00:00",
          "2024-10-03T13:51:59+00:00",
          "2024-10-03T17:33:23+00:00",
          "2024-10-03T21:13:47+00:00",
          "2024-10-04T00:53:11+00:00",
          "2024-10-04T04:32:23+00:00",
          "2024-10-04T08:11:59+00:00",
          "2024-10-04T11:51:23+00:00",
          "2024-10-04T15:30:59+00:00",
          "2024-10-04T19:10:35+00:00",
          "2024-10-04T22:50:23+00:00",
          "2024-10-05T02:30:35+00:00",
          "2024-10-05T06:09:59+00:00",
          "2024-10-05T09:49:59+00:00",
          "2024-10-05T13:29:23+00:00",
          "2024-10-05T17:09:23+00:00",
          "2024-10-05T20:48:59+00:00",
          "2024-10-06T00:28:11+00:00",
          "2024-10-06T04:07:47+00:00",
          "2024-10-06T07:47:35+00:00",
          "2024-10-06T11:27:47+00:00",
          "2024-10-06T15:07:47+00:00",
          "2024-10-06T18:47:35+00:00",
          "2024-10-06T22:27:23+00:00",
          "2024-10-07T02:07:35+00:00",
          "2024-10-07T05:47:35+00:00",
          "2024-10-07T09:27:11+00:00",
          "2024-10-07T13:06:35+00:00",
          "2024-10-07T16:46:47+00:00",
          "2024-10-07T20:26:23+00:00",
          "2024-10-08T00:05:59+00:00",
          "2024-10-08T03:45:47+00:00",
          "2024-10-08T07:25:35+00:00",
          "2024-10-08T11:04:59+00:00",
          "2024-10-08T14:44:47+00:00",
          "2024-10-08T18:24:11+00:00",
          "2024-10-08T22:04:47+00:00",
          "2024-10-09T01:44:35+00:00",
          "2024-10-09T05:23:47+00:00",
          "2024-10-09T09:03:35+00:00",
          "2024-10-09T12:43:59+00:00",
          "2024-10-09T16:23:11+00:00",
          "2024-10-09T20:02:59+00:00",
          "2024-10-09T23:42:35+00:00",
          "2024-10-10T03:22:23+00:00",
          "2024-10-10T07:02:23+00:00",
          "2024-10-10T10:42:11+00:00",
          "2024-10-10T14:21:47+00:00",
          "2024-10-10T18:01:11+00:00",
          "2024-10-10T21:40:59+00:00",
          "2024-10-11T01:20:35+00:00",
          "2024-10-11T05:00:35+00:00",
          "2024-10-11T08:40:59+00:00",
          "2024-10-11T12:21:35+00:00",
          "2024-10-11T16:02:35+00:00",
          "2024-10-11T19:42:47+00:00",
          "2024-10-11T23:23:35+00:00",
          "2024-10-12T03:04:23+00:00",
          "2024-10-12T06:44:47+00:00",
          "2024-10-12T10:26:35+00:00",
          "2024-10-12T14:06:59+00:00",
          "2024-10-12T17:46:59+00:00",
          "2024-10-12T21:27:35+00:00",
          "2024-10-13T01:07:59+00:00",
          "2024-10-13T04:50:11+00:00",
          "2024-10-13T08:32:47+00:00",
          "2024-10-13T12:14:23+00:00",
          "2024-10-13T15:54:11+00:00",
          "2024-10-13T19:34:11+00:00",
          "2024-10-13T23:14:47+00:00",
          "2024-10-14T02:54:59+00:00",
          "2024-10-14T06:34:47+00:00",
          "2024-10-14T10:16:11+00:00",
          "2024-10-14T13:57:11+00:00",
          "2024-10-14T17:36:59+00:00",
          "2024-10-14T21:17:23+00:00",
          "2024-10-15T00:57:23+00:00",
          "2024-10-15T04:37:47+00:00",
          "2024-10-15T08:17:23+00:00",
          "2024-10-15T11:57:59+00:00",
          "2024-10-15T15:38:35+00:00",
          "2024-10-15T19:18:59+00:00",
          "2024-10-15T22:59:11+00:00",
          "2024-10-16T02:39:59+00:00",
          "2024-10-16T06:19:59+00:00",
          "2024-10-16T09:59:59+00:00",
          "2024-10-16T13:40:11+00:00",
          "2024-10-16T17:20:11+00:00",
          "2024-10-16T21:00:23+00:00",
          "2024-10-17T00:40:59+00:00",
          "2024-10-17T04:21:11+00:00",
          "2024-10-17T08:01:11+00:00",
          "2024-10-17T11:40:47+00:00",
          "2024-10-17T15:21:11+00:00",
          "2024-10-17T19:01:23+00:00",
          "2024-10-17T22:41:35+00:00",
          "2024-10-18T02:21:35+00:00",
          "2024-10-18T06:01:59+00:00",
          "2024-10-18T09:42:11+00:00",
          "2024-10-18T13:21:47+00:00",
          "2024-10-18T17:02:11+00:00",
          "2024-10-18T20:41:47+00:00",
          "2024-10-19T00:21:47+00:00",
          "2024-10-19T04:01:47+00:00",
          "2024-10-19T07:42:23+00:00",
          "2024-10-19T11:21:59+00:00",
          "2024-10-19T15:01:59+00:00",
          "2024-10-19T18:41:47+00:00",
          "2024-10-19T22:21:23+00:00",
          "2024-10-20T02:00:47+00:00",
          "2024-10-20T05:40:47+00:00",
          "2024-10-20T09:20:35+00:00",
          "2024-10-20T12:59:59+00:00",
          "2024-10-20T16:40:59+00:00",
          "2024-10-20T20:20:47+00:00",
          "2024-10-21T00:00:59+00:00",
          "2024-10-21T03:41:35+00:00",
          "2024-10-21T07:21:35+00:00",
          "2024-10-21T11:00:59+00:00",
          "2024-10-21T14:40:59+00:00",
          "2024-10-21T18:20:23+00:00",
          "2024-10-21T22:00:35+00:00",
          "2024-10-22T01:40:59+00:00",
          "2024-10-22T05:21:11+00:00",
          "2024-10-22T09:01:23+00:00",
          "2024-10-22T12:41:35+00:00",
          "2024-10-22T16:21:35+00:00",
          "2024-10-22T20:01:35+00:00",
          "2024-10-22T23:42:23+00:00",
          "2024-10-23T03:22:35+00:00",
          "2024-10-23T07:01:35+00:00",
          "2024-10-23T10:41:35+00:00",
          "2024-10-23T14:21:11+00:00",
          "2024-10-23T18:00:59+00:00",
          "2024-10-23T21:40:11+00:00",
          "2024-10-24T01:20:47+00:00",
          "2024-10-24T05:00:47+00:00",
          "2024-10-24T08:40:59+00:00",
          "2024-10-24T12:20:35+00:00",
          "2024-10-24T16:00:35+00:00",
          "2024-10-24T19:40:11+00:00",
          "2024-10-24T23:19:59+00:00",
          "2024-10-25T02:59:59+00:00",
          "2024-10-25T06:40:11+00:00",
          "2024-10-25T10:19:35+00:00",
          "2024-10-25T13:59:35+00:00",
          "2024-10-25T17:39:35+00:00",
          "2024-10-25T21:19:11+00:00",
          "2024-10-26T00:58:59+00:00",
          "2024-10-26T04:39:23+00:00",
          "2024-10-26T08:19:11+00:00",
          "2024-10-26T11:59:59+00:00",
          "2024-10-26T15:40:35+00:00",
          "2024-10-26T19:20:11+00:00",
          "2024-10-26T22:59:59+00:00",
          "2024-10-27T02:40:11+00:00",
          "2024-10-27T06:19:47+00:00",
          "2024-10-27T09:59:23+00:00",
          "2024-10-27T13:40:11+00:00",
          "2024-10-27T17:19:47+00:00",
          "2024-10-27T20:59:11+00:00",
          "2024-10-28T00:38:35+00:00",
          "2024-10-28T04:18:47+00:00",
          "2024-10-28T07:59:47+00:00",
          "2024-10-28T11:39:47+00:00",
          "2024-10-28T15:20:11+00:00",
          "2024-10-28T19:00:35+00:00",
          "2024-10-28T22:40:23+00:00",
          "2024-10-29T02:20:47+00:00",
          "2024-10-29T06:00:35+00:00",
          "2024-10-29T09:41:11+00:00",
          "2024-10-29T13:21:35+00:00",
          "2024-10-29T17:01:11+00:00",
          "2024-10-29T20:40:35+00:00",
          "2024-10-30T00:20:23+00:00",
          "2024-10-30T04:00:11+00:00",
          "2024-10-30T07:40:35+00:00",
          "2024-10-30T11:21:47+00:00",
          "2024-10-30T15:03:35+00:00",
          "2024-10-30T18:43:11+00:00",
          "2024-10-30T22:22:47+00:00",
          "2024-10-31T02:02:11+00:00",
          "2024-10-31T05:42:59+00:00",
          "2024-10-31T09:23:35+00:00",
          "2024-10-31T13:02:47+00:00",
          "2024-10-31T16:42:11+00:00",
          "2024-10-31T20:21:35+00:00",
          "2024-11-01T00:01:23+00:00",
          "2024-11-01T03:41:11+00:00",
          "2024-11-01T07:20:59+00:00",
          "2024-11-01T11:00:47+00:00",
          "2024-11-01T14:40:35+00:00",
          "2024-11-01T18:20:23+00:00",
          "2024-11-01T22:00:35+00:00",
          "2024-11-02T01:40:47+00:00",
          "2024-11-02T05:21:11+00:00",
          "2024-11-02T09:00:59+00:00",
          "2024-11-02T12:41:59+00:00",
          "2024-11-02T16:22:35+00:00",
          "2024-11-02T20:02:35+00:00",
          "2024-11-02T23:43:35+00:00",
          "2024-11-03T03:24:23+00:00",
          "2024-11-03T07:04:35+00:00",
          "2024-11-03T10:43:47+00:00",
          "2024-11-03T14:23:47+00:00",
          "2024-11-03T18:04:35+00:00",
          "2024-11-03T21:43:59+00:00",
          "2024-11-04T01:23:47+00:00",
          "2024-11-04T05:03:47+00:00",
          "2024-11-04T08:42:59+00:00",
          "2024-11-04T12:23:35+00:00",
          "2024-11-04T16:02:59+00:00",
          "2024-11-04T19:43:23+00:00",
          "2024-11-04T23:23:23+00:00",
          "2024-11-05T03:03:23+00:00",
          "2024-11-05T06:44:11+00:00",
          "2024-11-05T10:24:11+00:00",
          "2024-11-05T14:04:11+00:00",
          "2024-11-05T17:44:23+00:00",
          "2024-11-05T21:25:11+00:00",
          "2024-11-06T01:04:59+00:00",
          "2024-11-06T04:44:23+00:00",
          "2024-11-06T08:24:23+00:00",
          "2024-11-06T12:05:23+00:00",
          "2024-11-06T15:45:47+00:00"
         ],
         "xaxis": "x",
         "y": [
          0.0347,
          0.0347,
          0.0347,
          0.0347,
          0.0347,
          0.0316,
          0.0316,
          0.0316,
          0.0316,
          0.0316,
          0.0316,
          0.0316,
          0.0435,
          0.0435,
          0.0435,
          0.0435,
          0.0435,
          0.0435,
          0.07,
          0.07,
          0.07,
          0.07,
          0.07,
          0.07,
          0.07,
          0.0324,
          0.0324,
          0.0324,
          0.0324,
          0.0324,
          0.0324,
          0.0715,
          0.0715,
          0.0715,
          0.0715,
          0.0715,
          0.0715,
          0.0715,
          0.0421,
          0.0421,
          0.0421,
          0.0421,
          0.0421,
          0.0421,
          0.0421,
          0.0687,
          0.0687,
          0.0687,
          0.0687,
          0.0687,
          0.0687,
          0.0475,
          0.0475,
          0.0475,
          0.0475,
          0.0475,
          0.0475,
          0.0475,
          0.0026,
          0.0026,
          0.0026,
          0.0026,
          0.0026,
          0.0026,
          0.0249,
          0.0249,
          0.0249,
          0.0249,
          0.0249,
          0.0249,
          0.0249,
          0.0128,
          0.0128,
          0.0128,
          0.0128,
          0.0128,
          0.0128,
          0.0306,
          0.0306,
          0.0306,
          0.0306,
          0.0306,
          0.0306,
          0.0306,
          0.0286,
          0.0286,
          0.0286,
          0.0286,
          0.0286,
          0.0286,
          0.0458,
          0.0458,
          0.0458,
          0.0458,
          0.0458,
          0.0458,
          0.0458,
          0.0708,
          0.0708,
          0.0708,
          0.0708,
          0.0708,
          0.0708,
          0.0529,
          0.0529,
          0.0529,
          0.0529,
          0.0529,
          0.0529,
          0.0529,
          0.029,
          0.029,
          0.029,
          0.029,
          0.029,
          0.029,
          0.029,
          -0.0835,
          -0.0835,
          -0.0835,
          -0.0835,
          -0.0835,
          -0.0835,
          0.0216,
          0.0216,
          0.0216,
          0.0216,
          0.0216,
          0.0216,
          0.0216,
          0.0239,
          0.0239,
          0.0239,
          0.0239,
          0.0239,
          0.0239,
          0.0242,
          0.0242,
          0.0242,
          0.0242,
          0.0242,
          0.0242,
          0.0242,
          0.0261,
          0.0261,
          0.0261,
          0.0261,
          0.0261,
          0.0261,
          0.0444,
          0.0444,
          0.0444,
          0.0444,
          0.0444,
          0.0444,
          0.0444,
          0.0355,
          0.0355,
          0.0355,
          0.0355,
          0.0355,
          0.0355,
          0.0651,
          0.0651,
          0.0651,
          0.0651,
          0.0651,
          0.0651,
          0.0651,
          0.0471,
          0.0471,
          0.0471,
          0.0471,
          0.0471,
          0.0471,
          0.0471,
          0.0313,
          0.0313,
          0.0313,
          0.0313,
          0.0313,
          0.0313,
          0.0181,
          0.0181,
          0.0181,
          0.0181,
          0.0181,
          0.0181,
          0.0181,
          0.0383,
          0.0383,
          0.0383,
          0.0383,
          0.0383,
          0.0383,
          0.0373,
          0.0373,
          0.0373,
          0.0373,
          0.0373,
          0.0373,
          0.0373,
          0.0163,
          0.0163,
          0.0163,
          0.0163,
          0.0163,
          0.0163,
          0.0351,
          0.0351,
          0.0351,
          0.0351,
          0.0351,
          0.0351,
          0.0351,
          0.0488,
          0.0488,
          0.0488,
          0.0488,
          0.0488,
          0.0488,
          0.0263,
          0.0263,
          0.0263,
          0.0263,
          0.0263,
          0.0263,
          0.0263,
          0.0232,
          0.0232,
          0.0232,
          0.0232,
          0.0232,
          0.0232,
          0.0287,
          0.0287,
          0.0287,
          0.0287,
          0.0287,
          0.0287,
          0.0287,
          0.0265,
          0.0265,
          0.0265,
          0.0265,
          0.0265,
          0.0265,
          0.0281,
          0.0281,
          0.0281,
          0.0281,
          0.0281,
          0.0281,
          0.0281,
          0.0349,
          0.0349,
          0.0349,
          0.0349,
          0.0349,
          0.0349,
          0.0349,
          0.0407,
          0.0407,
          0.0407,
          0.0407,
          0.0407,
          0.0407,
          0.0514,
          0.0514,
          0.0514,
          0.0514,
          0.0514,
          0.0514,
          0.0514,
          0.0191,
          0.0191,
          0.0191,
          0.0191,
          0.0191,
          0.0191,
          0.0392,
          0.0392,
          0.0392,
          0.0392,
          0.0392,
          0.0392,
          0.0392,
          0.0422,
          0.0422,
          0.0422,
          0.0422,
          0.0422,
          0.0422,
          0.0427,
          0.0427,
          0.0427,
          0.0427,
          0.0427,
          0.0427,
          0.0427,
          0.0352,
          0.0352,
          0.0352,
          0.0352,
          0.0352,
          0.0352,
          0.0315,
          0.0315,
          0.0315,
          0.0315,
          0.0315,
          0.0315,
          0.0315,
          0.0724,
          0.0724,
          0.0724,
          0.0724,
          0.0724,
          0.0724,
          0.026,
          0.026,
          0.026,
          0.026,
          0.026,
          0.026,
          0.026,
          0.0419,
          0.0419,
          0.0419,
          0.0419,
          0.0419,
          0.0419,
          0.0419,
          0.0145,
          0.0145,
          0.0145,
          0.0145,
          0.0145,
          0.0145,
          0.0184,
          0.0184,
          0.0184,
          0.0184,
          0.0184,
          0.0184
         ],
         "yaxis": "y"
        },
        {
         "hovertemplate": "variable=frxETH<br>timestamp=%{x}<br>value=%{y}<extra></extra>",
         "legendgroup": "frxETH",
         "line": {
          "color": "#FF97FF",
          "dash": "solid"
         },
         "marker": {
          "symbol": "circle"
         },
         "mode": "lines",
         "name": "frxETH",
         "showlegend": true,
         "type": "scattergl",
         "x": [
          "2024-09-15T02:04:47+00:00",
          "2024-09-15T05:44:35+00:00",
          "2024-09-15T09:24:47+00:00",
          "2024-09-15T13:04:11+00:00",
          "2024-09-15T16:44:23+00:00",
          "2024-09-15T20:23:35+00:00",
          "2024-09-16T00:03:11+00:00",
          "2024-09-16T03:43:47+00:00",
          "2024-09-16T07:23:23+00:00",
          "2024-09-16T11:04:47+00:00",
          "2024-09-16T14:46:11+00:00",
          "2024-09-16T18:26:47+00:00",
          "2024-09-16T22:06:23+00:00",
          "2024-09-17T01:46:35+00:00",
          "2024-09-17T05:27:47+00:00",
          "2024-09-17T09:08:35+00:00",
          "2024-09-17T12:48:23+00:00",
          "2024-09-17T16:29:11+00:00",
          "2024-09-17T20:09:47+00:00",
          "2024-09-17T23:50:47+00:00",
          "2024-09-18T03:30:35+00:00",
          "2024-09-18T07:11:35+00:00",
          "2024-09-18T10:51:35+00:00",
          "2024-09-18T14:32:23+00:00",
          "2024-09-18T18:12:23+00:00",
          "2024-09-18T21:52:47+00:00",
          "2024-09-19T01:33:11+00:00",
          "2024-09-19T05:13:23+00:00",
          "2024-09-19T08:53:23+00:00",
          "2024-09-19T12:33:23+00:00",
          "2024-09-19T16:13:23+00:00",
          "2024-09-19T19:53:23+00:00",
          "2024-09-19T23:33:11+00:00",
          "2024-09-20T03:13:35+00:00",
          "2024-09-20T06:54:11+00:00",
          "2024-09-20T10:35:11+00:00",
          "2024-09-20T14:14:59+00:00",
          "2024-09-20T17:54:59+00:00",
          "2024-09-20T21:35:23+00:00",
          "2024-09-21T01:16:23+00:00",
          "2024-09-21T04:56:23+00:00",
          "2024-09-21T08:38:11+00:00",
          "2024-09-21T12:18:11+00:00",
          "2024-09-21T15:58:11+00:00",
          "2024-09-21T19:38:11+00:00",
          "2024-09-21T23:19:11+00:00",
          "2024-09-22T02:58:47+00:00",
          "2024-09-22T06:38:35+00:00",
          "2024-09-22T10:18:23+00:00",
          "2024-09-22T13:58:11+00:00",
          "2024-09-22T17:37:59+00:00",
          "2024-09-22T21:18:11+00:00",
          "2024-09-23T00:57:47+00:00",
          "2024-09-23T04:37:23+00:00",
          "2024-09-23T08:17:35+00:00",
          "2024-09-23T11:58:59+00:00",
          "2024-09-23T15:38:59+00:00",
          "2024-09-23T19:18:59+00:00",
          "2024-09-23T22:58:59+00:00",
          "2024-09-24T02:38:47+00:00",
          "2024-09-24T06:18:23+00:00",
          "2024-09-24T09:57:47+00:00",
          "2024-09-24T13:37:23+00:00",
          "2024-09-24T17:17:47+00:00",
          "2024-09-24T20:57:11+00:00",
          "2024-09-25T00:36:59+00:00",
          "2024-09-25T04:17:23+00:00",
          "2024-09-25T07:57:11+00:00",
          "2024-09-25T11:37:35+00:00",
          "2024-09-25T15:18:35+00:00",
          "2024-09-25T18:59:35+00:00",
          "2024-09-25T22:38:47+00:00",
          "2024-09-26T02:18:35+00:00",
          "2024-09-26T05:58:23+00:00",
          "2024-09-26T09:37:59+00:00",
          "2024-09-26T13:17:35+00:00",
          "2024-09-26T16:56:59+00:00",
          "2024-09-26T20:36:59+00:00",
          "2024-09-27T00:17:47+00:00",
          "2024-09-27T03:57:35+00:00",
          "2024-09-27T07:37:11+00:00",
          "2024-09-27T11:16:59+00:00",
          "2024-09-27T14:56:47+00:00",
          "2024-09-27T18:36:47+00:00",
          "2024-09-27T22:16:11+00:00",
          "2024-09-28T01:55:59+00:00",
          "2024-09-28T05:36:23+00:00",
          "2024-09-28T09:15:59+00:00",
          "2024-09-28T12:55:47+00:00",
          "2024-09-28T16:35:23+00:00",
          "2024-09-28T20:15:47+00:00",
          "2024-09-28T23:56:35+00:00",
          "2024-09-29T03:36:47+00:00",
          "2024-09-29T07:17:11+00:00",
          "2024-09-29T10:56:47+00:00",
          "2024-09-29T14:36:35+00:00",
          "2024-09-29T18:16:11+00:00",
          "2024-09-29T21:56:47+00:00",
          "2024-09-30T01:36:35+00:00",
          "2024-09-30T05:16:35+00:00",
          "2024-09-30T08:55:59+00:00",
          "2024-09-30T12:35:23+00:00",
          "2024-09-30T16:15:11+00:00",
          "2024-09-30T19:54:47+00:00",
          "2024-09-30T23:34:23+00:00",
          "2024-10-01T03:13:59+00:00",
          "2024-10-01T06:53:59+00:00",
          "2024-10-01T10:33:35+00:00",
          "2024-10-01T14:13:47+00:00",
          "2024-10-01T17:54:11+00:00",
          "2024-10-01T21:34:23+00:00",
          "2024-10-02T01:14:11+00:00",
          "2024-10-02T04:54:11+00:00",
          "2024-10-02T08:33:47+00:00",
          "2024-10-02T12:12:59+00:00",
          "2024-10-02T15:53:11+00:00",
          "2024-10-02T19:33:23+00:00",
          "2024-10-02T23:12:47+00:00",
          "2024-10-03T02:52:11+00:00",
          "2024-10-03T06:32:23+00:00",
          "2024-10-03T10:11:59+00:00",
          "2024-10-03T13:51:59+00:00",
          "2024-10-03T17:33:23+00:00",
          "2024-10-03T21:13:47+00:00",
          "2024-10-04T00:53:11+00:00",
          "2024-10-04T04:32:23+00:00",
          "2024-10-04T08:11:59+00:00",
          "2024-10-04T11:51:23+00:00",
          "2024-10-04T15:30:59+00:00",
          "2024-10-04T19:10:35+00:00",
          "2024-10-04T22:50:23+00:00",
          "2024-10-05T02:30:35+00:00",
          "2024-10-05T06:09:59+00:00",
          "2024-10-05T09:49:59+00:00",
          "2024-10-05T13:29:23+00:00",
          "2024-10-05T17:09:23+00:00",
          "2024-10-05T20:48:59+00:00",
          "2024-10-06T00:28:11+00:00",
          "2024-10-06T04:07:47+00:00",
          "2024-10-06T07:47:35+00:00",
          "2024-10-06T11:27:47+00:00",
          "2024-10-06T15:07:47+00:00",
          "2024-10-06T18:47:35+00:00",
          "2024-10-06T22:27:23+00:00",
          "2024-10-07T02:07:35+00:00",
          "2024-10-07T05:47:35+00:00",
          "2024-10-07T09:27:11+00:00",
          "2024-10-07T13:06:35+00:00",
          "2024-10-07T16:46:47+00:00",
          "2024-10-07T20:26:23+00:00",
          "2024-10-08T00:05:59+00:00",
          "2024-10-08T03:45:47+00:00",
          "2024-10-08T07:25:35+00:00",
          "2024-10-08T11:04:59+00:00",
          "2024-10-08T14:44:47+00:00",
          "2024-10-08T18:24:11+00:00",
          "2024-10-08T22:04:47+00:00",
          "2024-10-09T01:44:35+00:00",
          "2024-10-09T05:23:47+00:00",
          "2024-10-09T09:03:35+00:00",
          "2024-10-09T12:43:59+00:00",
          "2024-10-09T16:23:11+00:00",
          "2024-10-09T20:02:59+00:00",
          "2024-10-09T23:42:35+00:00",
          "2024-10-10T03:22:23+00:00",
          "2024-10-10T07:02:23+00:00",
          "2024-10-10T10:42:11+00:00",
          "2024-10-10T14:21:47+00:00",
          "2024-10-10T18:01:11+00:00",
          "2024-10-10T21:40:59+00:00",
          "2024-10-11T01:20:35+00:00",
          "2024-10-11T05:00:35+00:00",
          "2024-10-11T08:40:59+00:00",
          "2024-10-11T12:21:35+00:00",
          "2024-10-11T16:02:35+00:00",
          "2024-10-11T19:42:47+00:00",
          "2024-10-11T23:23:35+00:00",
          "2024-10-12T03:04:23+00:00",
          "2024-10-12T06:44:47+00:00",
          "2024-10-12T10:26:35+00:00",
          "2024-10-12T14:06:59+00:00",
          "2024-10-12T17:46:59+00:00",
          "2024-10-12T21:27:35+00:00",
          "2024-10-13T01:07:59+00:00",
          "2024-10-13T04:50:11+00:00",
          "2024-10-13T08:32:47+00:00",
          "2024-10-13T12:14:23+00:00",
          "2024-10-13T15:54:11+00:00",
          "2024-10-13T19:34:11+00:00",
          "2024-10-13T23:14:47+00:00",
          "2024-10-14T02:54:59+00:00",
          "2024-10-14T06:34:47+00:00",
          "2024-10-14T10:16:11+00:00",
          "2024-10-14T13:57:11+00:00",
          "2024-10-14T17:36:59+00:00",
          "2024-10-14T21:17:23+00:00",
          "2024-10-15T00:57:23+00:00",
          "2024-10-15T04:37:47+00:00",
          "2024-10-15T08:17:23+00:00",
          "2024-10-15T11:57:59+00:00",
          "2024-10-15T15:38:35+00:00",
          "2024-10-15T19:18:59+00:00",
          "2024-10-15T22:59:11+00:00",
          "2024-10-16T02:39:59+00:00",
          "2024-10-16T06:19:59+00:00",
          "2024-10-16T09:59:59+00:00",
          "2024-10-16T13:40:11+00:00",
          "2024-10-16T17:20:11+00:00",
          "2024-10-16T21:00:23+00:00",
          "2024-10-17T00:40:59+00:00",
          "2024-10-17T04:21:11+00:00",
          "2024-10-17T08:01:11+00:00",
          "2024-10-17T11:40:47+00:00",
          "2024-10-17T15:21:11+00:00",
          "2024-10-17T19:01:23+00:00",
          "2024-10-17T22:41:35+00:00",
          "2024-10-18T02:21:35+00:00",
          "2024-10-18T06:01:59+00:00",
          "2024-10-18T09:42:11+00:00",
          "2024-10-18T13:21:47+00:00",
          "2024-10-18T17:02:11+00:00",
          "2024-10-18T20:41:47+00:00",
          "2024-10-19T00:21:47+00:00",
          "2024-10-19T04:01:47+00:00",
          "2024-10-19T07:42:23+00:00",
          "2024-10-19T11:21:59+00:00",
          "2024-10-19T15:01:59+00:00",
          "2024-10-19T18:41:47+00:00",
          "2024-10-19T22:21:23+00:00",
          "2024-10-20T02:00:47+00:00",
          "2024-10-20T05:40:47+00:00",
          "2024-10-20T09:20:35+00:00",
          "2024-10-20T12:59:59+00:00",
          "2024-10-20T16:40:59+00:00",
          "2024-10-20T20:20:47+00:00",
          "2024-10-21T00:00:59+00:00",
          "2024-10-21T03:41:35+00:00",
          "2024-10-21T07:21:35+00:00",
          "2024-10-21T11:00:59+00:00",
          "2024-10-21T14:40:59+00:00",
          "2024-10-21T18:20:23+00:00",
          "2024-10-21T22:00:35+00:00",
          "2024-10-22T01:40:59+00:00",
          "2024-10-22T05:21:11+00:00",
          "2024-10-22T09:01:23+00:00",
          "2024-10-22T12:41:35+00:00",
          "2024-10-22T16:21:35+00:00",
          "2024-10-22T20:01:35+00:00",
          "2024-10-22T23:42:23+00:00",
          "2024-10-23T03:22:35+00:00",
          "2024-10-23T07:01:35+00:00",
          "2024-10-23T10:41:35+00:00",
          "2024-10-23T14:21:11+00:00",
          "2024-10-23T18:00:59+00:00",
          "2024-10-23T21:40:11+00:00",
          "2024-10-24T01:20:47+00:00",
          "2024-10-24T05:00:47+00:00",
          "2024-10-24T08:40:59+00:00",
          "2024-10-24T12:20:35+00:00",
          "2024-10-24T16:00:35+00:00",
          "2024-10-24T19:40:11+00:00",
          "2024-10-24T23:19:59+00:00",
          "2024-10-25T02:59:59+00:00",
          "2024-10-25T06:40:11+00:00",
          "2024-10-25T10:19:35+00:00",
          "2024-10-25T13:59:35+00:00",
          "2024-10-25T17:39:35+00:00",
          "2024-10-25T21:19:11+00:00",
          "2024-10-26T00:58:59+00:00",
          "2024-10-26T04:39:23+00:00",
          "2024-10-26T08:19:11+00:00",
          "2024-10-26T11:59:59+00:00",
          "2024-10-26T15:40:35+00:00",
          "2024-10-26T19:20:11+00:00",
          "2024-10-26T22:59:59+00:00",
          "2024-10-27T02:40:11+00:00",
          "2024-10-27T06:19:47+00:00",
          "2024-10-27T09:59:23+00:00",
          "2024-10-27T13:40:11+00:00",
          "2024-10-27T17:19:47+00:00",
          "2024-10-27T20:59:11+00:00",
          "2024-10-28T00:38:35+00:00",
          "2024-10-28T04:18:47+00:00",
          "2024-10-28T07:59:47+00:00",
          "2024-10-28T11:39:47+00:00",
          "2024-10-28T15:20:11+00:00",
          "2024-10-28T19:00:35+00:00",
          "2024-10-28T22:40:23+00:00",
          "2024-10-29T02:20:47+00:00",
          "2024-10-29T06:00:35+00:00",
          "2024-10-29T09:41:11+00:00",
          "2024-10-29T13:21:35+00:00",
          "2024-10-29T17:01:11+00:00",
          "2024-10-29T20:40:35+00:00",
          "2024-10-30T00:20:23+00:00",
          "2024-10-30T04:00:11+00:00",
          "2024-10-30T07:40:35+00:00",
          "2024-10-30T11:21:47+00:00",
          "2024-10-30T15:03:35+00:00",
          "2024-10-30T18:43:11+00:00",
          "2024-10-30T22:22:47+00:00",
          "2024-10-31T02:02:11+00:00",
          "2024-10-31T05:42:59+00:00",
          "2024-10-31T09:23:35+00:00",
          "2024-10-31T13:02:47+00:00",
          "2024-10-31T16:42:11+00:00",
          "2024-10-31T20:21:35+00:00",
          "2024-11-01T00:01:23+00:00",
          "2024-11-01T03:41:11+00:00",
          "2024-11-01T07:20:59+00:00",
          "2024-11-01T11:00:47+00:00",
          "2024-11-01T14:40:35+00:00",
          "2024-11-01T18:20:23+00:00",
          "2024-11-01T22:00:35+00:00",
          "2024-11-02T01:40:47+00:00",
          "2024-11-02T05:21:11+00:00",
          "2024-11-02T09:00:59+00:00",
          "2024-11-02T12:41:59+00:00",
          "2024-11-02T16:22:35+00:00",
          "2024-11-02T20:02:35+00:00",
          "2024-11-02T23:43:35+00:00",
          "2024-11-03T03:24:23+00:00",
          "2024-11-03T07:04:35+00:00",
          "2024-11-03T10:43:47+00:00",
          "2024-11-03T14:23:47+00:00",
          "2024-11-03T18:04:35+00:00",
          "2024-11-03T21:43:59+00:00",
          "2024-11-04T01:23:47+00:00",
          "2024-11-04T05:03:47+00:00",
          "2024-11-04T08:42:59+00:00",
          "2024-11-04T12:23:35+00:00",
          "2024-11-04T16:02:59+00:00",
          "2024-11-04T19:43:23+00:00",
          "2024-11-04T23:23:23+00:00",
          "2024-11-05T03:03:23+00:00",
          "2024-11-05T06:44:11+00:00",
          "2024-11-05T10:24:11+00:00",
          "2024-11-05T14:04:11+00:00",
          "2024-11-05T17:44:23+00:00",
          "2024-11-05T21:25:11+00:00",
          "2024-11-06T01:04:59+00:00",
          "2024-11-06T04:44:23+00:00",
          "2024-11-06T08:24:23+00:00",
          "2024-11-06T12:05:23+00:00",
          "2024-11-06T15:45:47+00:00"
         ],
         "xaxis": "x",
         "y": [
          0.1953,
          0.1953,
          0.1953,
          0.1953,
          0.1953,
          0.1953,
          0.0855,
          0.0855,
          0.0855,
          0.0799,
          0.0799,
          0.1232,
          0.1232,
          0.1232,
          0.1232,
          0.1232,
          0.8822,
          0.5736,
          0.5736,
          0.5736,
          0.4824,
          0.4824,
          -0.2735,
          0.489,
          0.1834,
          0.8154,
          0.0674,
          0.1088,
          0.1262,
          0.2269,
          0.2576,
          0.5138,
          0.5138,
          0.5138,
          0.4805,
          0.4805,
          -0.3496,
          0.4144,
          0.4144,
          0.4144,
          0.4144,
          0.4144,
          0.4144,
          0.2372,
          0.2372,
          0.2372,
          0.8671,
          0.8671,
          0.0937,
          0.0937,
          0.0937,
          0.0937,
          0.8439,
          0.8439,
          0.8439,
          0.8439,
          0.8439,
          0.8439,
          -0.0097,
          -0.0097,
          0.8015,
          0.8015,
          0.8015,
          0.0378,
          0.0378,
          0.0378,
          0.0378,
          0.0378,
          0.0378,
          0.5235,
          0.5235,
          0.5235,
          0.5235,
          0.5235,
          0.5235,
          0.5235,
          0.3413,
          0.3413,
          0.3413,
          0.3413,
          0.3413,
          0.3413,
          0.4129,
          0.4129,
          0.4129,
          0.4129,
          0.4129,
          0.4129,
          0.4129,
          0.3037,
          0.3037,
          0.3037,
          0.3037,
          0.3037,
          0.3037,
          0.3737,
          0.3737,
          0.3737,
          0.3737,
          0.3737,
          0.3737,
          0.3827,
          0.3827,
          0.3827,
          0.3827,
          0.3827,
          0.3827,
          0.2619,
          0.2619,
          1.0937,
          -0.8039,
          -0.7611,
          1.543,
          0.7768,
          0.7619,
          0.7619,
          -1.7325,
          0.0638,
          0.0638,
          0.0638,
          -0.5062,
          0.361,
          0.361,
          0.361,
          0.361,
          0.361,
          0.361,
          0.1838,
          0.1838,
          0.2507,
          0.2507,
          0.2507,
          0.2507,
          0.2507,
          0.2507,
          0.4103,
          0.4103,
          0.4103,
          0.4103,
          0.4103,
          0.4103,
          0.4103,
          0.4053,
          0.4053,
          0.4053,
          0.4053,
          -0.3762,
          0.3774,
          -0.025,
          -0.0424,
          -0.0424,
          -0.0424,
          -0.0424,
          -0.0424,
          -0.0361,
          -0.0361,
          -0.0361,
          0.7269,
          -0.0305,
          -0.0305,
          -0.0305,
          0.7658,
          -0.0371,
          -0.0371,
          -0.0371,
          -0.0371,
          -0.0371,
          -0.0371,
          0.3341,
          0.3341,
          0.3341,
          0.3341,
          0.3341,
          0.3341,
          0.3341,
          0.2606,
          0.2606,
          0.2606,
          0.2606,
          0.2606,
          0.2606,
          0.2393,
          0.2393,
          0.2393,
          0.2393,
          0.2393,
          0.2393,
          -0.0396,
          -0.0396,
          -0.0396,
          -0.0396,
          -0.0274,
          -0.0274,
          0.7451,
          -0.0503,
          -0.0105,
          -0.0105,
          -0.0105,
          -0.0105,
          -0.0105,
          -0.4185,
          -0.1817,
          0.6086,
          0.6086,
          -0.1912,
          -0.1912,
          -0.1733,
          -0.1733,
          -0.1733,
          -0.1733,
          -0.0854,
          -0.0854,
          -0.0854,
          0.69,
          null,
          null,
          null,
          null,
          null,
          null,
          null,
          null,
          null,
          null,
          null,
          null,
          null,
          null,
          null,
          null,
          null,
          null,
          null,
          null,
          null,
          null,
          null,
          null,
          null,
          null,
          null,
          null,
          null,
          null,
          null,
          null,
          null,
          null,
          null,
          null,
          null,
          null,
          null,
          null,
          null,
          null,
          null,
          null,
          null,
          null,
          null,
          null,
          null,
          null,
          null,
          null,
          null,
          null,
          null,
          null,
          null,
          null,
          null,
          null,
          null,
          null,
          null,
          null,
          null,
          null,
          null,
          null,
          null,
          null,
          null,
          null,
          null,
          null,
          null,
          null,
          null,
          null,
          null,
          null,
          null,
          null,
          null,
          null,
          null,
          null,
          null,
          null,
          null,
          null,
          null,
          null,
          null,
          null,
          null,
          null,
          null,
          null,
          null,
          null,
          null,
          null,
          null,
          null,
          null,
          null,
          null,
          null,
          null,
          null,
          null,
          null,
          null,
          null,
          null,
          null,
          null,
          null,
          null,
          null,
          null,
          null,
          null,
          null,
          null,
          null,
          null,
          null,
          null,
          null,
          null
         ],
         "yaxis": "y"
        },
        {
         "hovertemplate": "variable=ezETH<br>timestamp=%{x}<br>value=%{y}<extra></extra>",
         "legendgroup": "ezETH",
         "line": {
          "color": "#FECB52",
          "dash": "solid"
         },
         "marker": {
          "symbol": "circle"
         },
         "mode": "lines",
         "name": "ezETH",
         "showlegend": true,
         "type": "scattergl",
         "x": [
          "2024-09-15T02:04:47+00:00",
          "2024-09-15T05:44:35+00:00",
          "2024-09-15T09:24:47+00:00",
          "2024-09-15T13:04:11+00:00",
          "2024-09-15T16:44:23+00:00",
          "2024-09-15T20:23:35+00:00",
          "2024-09-16T00:03:11+00:00",
          "2024-09-16T03:43:47+00:00",
          "2024-09-16T07:23:23+00:00",
          "2024-09-16T11:04:47+00:00",
          "2024-09-16T14:46:11+00:00",
          "2024-09-16T18:26:47+00:00",
          "2024-09-16T22:06:23+00:00",
          "2024-09-17T01:46:35+00:00",
          "2024-09-17T05:27:47+00:00",
          "2024-09-17T09:08:35+00:00",
          "2024-09-17T12:48:23+00:00",
          "2024-09-17T16:29:11+00:00",
          "2024-09-17T20:09:47+00:00",
          "2024-09-17T23:50:47+00:00",
          "2024-09-18T03:30:35+00:00",
          "2024-09-18T07:11:35+00:00",
          "2024-09-18T10:51:35+00:00",
          "2024-09-18T14:32:23+00:00",
          "2024-09-18T18:12:23+00:00",
          "2024-09-18T21:52:47+00:00",
          "2024-09-19T01:33:11+00:00",
          "2024-09-19T05:13:23+00:00",
          "2024-09-19T08:53:23+00:00",
          "2024-09-19T12:33:23+00:00",
          "2024-09-19T16:13:23+00:00",
          "2024-09-19T19:53:23+00:00",
          "2024-09-19T23:33:11+00:00",
          "2024-09-20T03:13:35+00:00",
          "2024-09-20T06:54:11+00:00",
          "2024-09-20T10:35:11+00:00",
          "2024-09-20T14:14:59+00:00",
          "2024-09-20T17:54:59+00:00",
          "2024-09-20T21:35:23+00:00",
          "2024-09-21T01:16:23+00:00",
          "2024-09-21T04:56:23+00:00",
          "2024-09-21T08:38:11+00:00",
          "2024-09-21T12:18:11+00:00",
          "2024-09-21T15:58:11+00:00",
          "2024-09-21T19:38:11+00:00",
          "2024-09-21T23:19:11+00:00",
          "2024-09-22T02:58:47+00:00",
          "2024-09-22T06:38:35+00:00",
          "2024-09-22T10:18:23+00:00",
          "2024-09-22T13:58:11+00:00",
          "2024-09-22T17:37:59+00:00",
          "2024-09-22T21:18:11+00:00",
          "2024-09-23T00:57:47+00:00",
          "2024-09-23T04:37:23+00:00",
          "2024-09-23T08:17:35+00:00",
          "2024-09-23T11:58:59+00:00",
          "2024-09-23T15:38:59+00:00",
          "2024-09-23T19:18:59+00:00",
          "2024-09-23T22:58:59+00:00",
          "2024-09-24T02:38:47+00:00",
          "2024-09-24T06:18:23+00:00",
          "2024-09-24T09:57:47+00:00",
          "2024-09-24T13:37:23+00:00",
          "2024-09-24T17:17:47+00:00",
          "2024-09-24T20:57:11+00:00",
          "2024-09-25T00:36:59+00:00",
          "2024-09-25T04:17:23+00:00",
          "2024-09-25T07:57:11+00:00",
          "2024-09-25T11:37:35+00:00",
          "2024-09-25T15:18:35+00:00",
          "2024-09-25T18:59:35+00:00",
          "2024-09-25T22:38:47+00:00",
          "2024-09-26T02:18:35+00:00",
          "2024-09-26T05:58:23+00:00",
          "2024-09-26T09:37:59+00:00",
          "2024-09-26T13:17:35+00:00",
          "2024-09-26T16:56:59+00:00",
          "2024-09-26T20:36:59+00:00",
          "2024-09-27T00:17:47+00:00",
          "2024-09-27T03:57:35+00:00",
          "2024-09-27T07:37:11+00:00",
          "2024-09-27T11:16:59+00:00",
          "2024-09-27T14:56:47+00:00",
          "2024-09-27T18:36:47+00:00",
          "2024-09-27T22:16:11+00:00",
          "2024-09-28T01:55:59+00:00",
          "2024-09-28T05:36:23+00:00",
          "2024-09-28T09:15:59+00:00",
          "2024-09-28T12:55:47+00:00",
          "2024-09-28T16:35:23+00:00",
          "2024-09-28T20:15:47+00:00",
          "2024-09-28T23:56:35+00:00",
          "2024-09-29T03:36:47+00:00",
          "2024-09-29T07:17:11+00:00",
          "2024-09-29T10:56:47+00:00",
          "2024-09-29T14:36:35+00:00",
          "2024-09-29T18:16:11+00:00",
          "2024-09-29T21:56:47+00:00",
          "2024-09-30T01:36:35+00:00",
          "2024-09-30T05:16:35+00:00",
          "2024-09-30T08:55:59+00:00",
          "2024-09-30T12:35:23+00:00",
          "2024-09-30T16:15:11+00:00",
          "2024-09-30T19:54:47+00:00",
          "2024-09-30T23:34:23+00:00",
          "2024-10-01T03:13:59+00:00",
          "2024-10-01T06:53:59+00:00",
          "2024-10-01T10:33:35+00:00",
          "2024-10-01T14:13:47+00:00",
          "2024-10-01T17:54:11+00:00",
          "2024-10-01T21:34:23+00:00",
          "2024-10-02T01:14:11+00:00",
          "2024-10-02T04:54:11+00:00",
          "2024-10-02T08:33:47+00:00",
          "2024-10-02T12:12:59+00:00",
          "2024-10-02T15:53:11+00:00",
          "2024-10-02T19:33:23+00:00",
          "2024-10-02T23:12:47+00:00",
          "2024-10-03T02:52:11+00:00",
          "2024-10-03T06:32:23+00:00",
          "2024-10-03T10:11:59+00:00",
          "2024-10-03T13:51:59+00:00",
          "2024-10-03T17:33:23+00:00",
          "2024-10-03T21:13:47+00:00",
          "2024-10-04T00:53:11+00:00",
          "2024-10-04T04:32:23+00:00",
          "2024-10-04T08:11:59+00:00",
          "2024-10-04T11:51:23+00:00",
          "2024-10-04T15:30:59+00:00",
          "2024-10-04T19:10:35+00:00",
          "2024-10-04T22:50:23+00:00",
          "2024-10-05T02:30:35+00:00",
          "2024-10-05T06:09:59+00:00",
          "2024-10-05T09:49:59+00:00",
          "2024-10-05T13:29:23+00:00",
          "2024-10-05T17:09:23+00:00",
          "2024-10-05T20:48:59+00:00",
          "2024-10-06T00:28:11+00:00",
          "2024-10-06T04:07:47+00:00",
          "2024-10-06T07:47:35+00:00",
          "2024-10-06T11:27:47+00:00",
          "2024-10-06T15:07:47+00:00",
          "2024-10-06T18:47:35+00:00",
          "2024-10-06T22:27:23+00:00",
          "2024-10-07T02:07:35+00:00",
          "2024-10-07T05:47:35+00:00",
          "2024-10-07T09:27:11+00:00",
          "2024-10-07T13:06:35+00:00",
          "2024-10-07T16:46:47+00:00",
          "2024-10-07T20:26:23+00:00",
          "2024-10-08T00:05:59+00:00",
          "2024-10-08T03:45:47+00:00",
          "2024-10-08T07:25:35+00:00",
          "2024-10-08T11:04:59+00:00",
          "2024-10-08T14:44:47+00:00",
          "2024-10-08T18:24:11+00:00",
          "2024-10-08T22:04:47+00:00",
          "2024-10-09T01:44:35+00:00",
          "2024-10-09T05:23:47+00:00",
          "2024-10-09T09:03:35+00:00",
          "2024-10-09T12:43:59+00:00",
          "2024-10-09T16:23:11+00:00",
          "2024-10-09T20:02:59+00:00",
          "2024-10-09T23:42:35+00:00",
          "2024-10-10T03:22:23+00:00",
          "2024-10-10T07:02:23+00:00",
          "2024-10-10T10:42:11+00:00",
          "2024-10-10T14:21:47+00:00",
          "2024-10-10T18:01:11+00:00",
          "2024-10-10T21:40:59+00:00",
          "2024-10-11T01:20:35+00:00",
          "2024-10-11T05:00:35+00:00",
          "2024-10-11T08:40:59+00:00",
          "2024-10-11T12:21:35+00:00",
          "2024-10-11T16:02:35+00:00",
          "2024-10-11T19:42:47+00:00",
          "2024-10-11T23:23:35+00:00",
          "2024-10-12T03:04:23+00:00",
          "2024-10-12T06:44:47+00:00",
          "2024-10-12T10:26:35+00:00",
          "2024-10-12T14:06:59+00:00",
          "2024-10-12T17:46:59+00:00",
          "2024-10-12T21:27:35+00:00",
          "2024-10-13T01:07:59+00:00",
          "2024-10-13T04:50:11+00:00",
          "2024-10-13T08:32:47+00:00",
          "2024-10-13T12:14:23+00:00",
          "2024-10-13T15:54:11+00:00",
          "2024-10-13T19:34:11+00:00",
          "2024-10-13T23:14:47+00:00",
          "2024-10-14T02:54:59+00:00",
          "2024-10-14T06:34:47+00:00",
          "2024-10-14T10:16:11+00:00",
          "2024-10-14T13:57:11+00:00",
          "2024-10-14T17:36:59+00:00",
          "2024-10-14T21:17:23+00:00",
          "2024-10-15T00:57:23+00:00",
          "2024-10-15T04:37:47+00:00",
          "2024-10-15T08:17:23+00:00",
          "2024-10-15T11:57:59+00:00",
          "2024-10-15T15:38:35+00:00",
          "2024-10-15T19:18:59+00:00",
          "2024-10-15T22:59:11+00:00",
          "2024-10-16T02:39:59+00:00",
          "2024-10-16T06:19:59+00:00",
          "2024-10-16T09:59:59+00:00",
          "2024-10-16T13:40:11+00:00",
          "2024-10-16T17:20:11+00:00",
          "2024-10-16T21:00:23+00:00",
          "2024-10-17T00:40:59+00:00",
          "2024-10-17T04:21:11+00:00",
          "2024-10-17T08:01:11+00:00",
          "2024-10-17T11:40:47+00:00",
          "2024-10-17T15:21:11+00:00",
          "2024-10-17T19:01:23+00:00",
          "2024-10-17T22:41:35+00:00",
          "2024-10-18T02:21:35+00:00",
          "2024-10-18T06:01:59+00:00",
          "2024-10-18T09:42:11+00:00",
          "2024-10-18T13:21:47+00:00",
          "2024-10-18T17:02:11+00:00",
          "2024-10-18T20:41:47+00:00",
          "2024-10-19T00:21:47+00:00",
          "2024-10-19T04:01:47+00:00",
          "2024-10-19T07:42:23+00:00",
          "2024-10-19T11:21:59+00:00",
          "2024-10-19T15:01:59+00:00",
          "2024-10-19T18:41:47+00:00",
          "2024-10-19T22:21:23+00:00",
          "2024-10-20T02:00:47+00:00",
          "2024-10-20T05:40:47+00:00",
          "2024-10-20T09:20:35+00:00",
          "2024-10-20T12:59:59+00:00",
          "2024-10-20T16:40:59+00:00",
          "2024-10-20T20:20:47+00:00",
          "2024-10-21T00:00:59+00:00",
          "2024-10-21T03:41:35+00:00",
          "2024-10-21T07:21:35+00:00",
          "2024-10-21T11:00:59+00:00",
          "2024-10-21T14:40:59+00:00",
          "2024-10-21T18:20:23+00:00",
          "2024-10-21T22:00:35+00:00",
          "2024-10-22T01:40:59+00:00",
          "2024-10-22T05:21:11+00:00",
          "2024-10-22T09:01:23+00:00",
          "2024-10-22T12:41:35+00:00",
          "2024-10-22T16:21:35+00:00",
          "2024-10-22T20:01:35+00:00",
          "2024-10-22T23:42:23+00:00",
          "2024-10-23T03:22:35+00:00",
          "2024-10-23T07:01:35+00:00",
          "2024-10-23T10:41:35+00:00",
          "2024-10-23T14:21:11+00:00",
          "2024-10-23T18:00:59+00:00",
          "2024-10-23T21:40:11+00:00",
          "2024-10-24T01:20:47+00:00",
          "2024-10-24T05:00:47+00:00",
          "2024-10-24T08:40:59+00:00",
          "2024-10-24T12:20:35+00:00",
          "2024-10-24T16:00:35+00:00",
          "2024-10-24T19:40:11+00:00",
          "2024-10-24T23:19:59+00:00",
          "2024-10-25T02:59:59+00:00",
          "2024-10-25T06:40:11+00:00",
          "2024-10-25T10:19:35+00:00",
          "2024-10-25T13:59:35+00:00",
          "2024-10-25T17:39:35+00:00",
          "2024-10-25T21:19:11+00:00",
          "2024-10-26T00:58:59+00:00",
          "2024-10-26T04:39:23+00:00",
          "2024-10-26T08:19:11+00:00",
          "2024-10-26T11:59:59+00:00",
          "2024-10-26T15:40:35+00:00",
          "2024-10-26T19:20:11+00:00",
          "2024-10-26T22:59:59+00:00",
          "2024-10-27T02:40:11+00:00",
          "2024-10-27T06:19:47+00:00",
          "2024-10-27T09:59:23+00:00",
          "2024-10-27T13:40:11+00:00",
          "2024-10-27T17:19:47+00:00",
          "2024-10-27T20:59:11+00:00",
          "2024-10-28T00:38:35+00:00",
          "2024-10-28T04:18:47+00:00",
          "2024-10-28T07:59:47+00:00",
          "2024-10-28T11:39:47+00:00",
          "2024-10-28T15:20:11+00:00",
          "2024-10-28T19:00:35+00:00",
          "2024-10-28T22:40:23+00:00",
          "2024-10-29T02:20:47+00:00",
          "2024-10-29T06:00:35+00:00",
          "2024-10-29T09:41:11+00:00",
          "2024-10-29T13:21:35+00:00",
          "2024-10-29T17:01:11+00:00",
          "2024-10-29T20:40:35+00:00",
          "2024-10-30T00:20:23+00:00",
          "2024-10-30T04:00:11+00:00",
          "2024-10-30T07:40:35+00:00",
          "2024-10-30T11:21:47+00:00",
          "2024-10-30T15:03:35+00:00",
          "2024-10-30T18:43:11+00:00",
          "2024-10-30T22:22:47+00:00",
          "2024-10-31T02:02:11+00:00",
          "2024-10-31T05:42:59+00:00",
          "2024-10-31T09:23:35+00:00",
          "2024-10-31T13:02:47+00:00",
          "2024-10-31T16:42:11+00:00",
          "2024-10-31T20:21:35+00:00",
          "2024-11-01T00:01:23+00:00",
          "2024-11-01T03:41:11+00:00",
          "2024-11-01T07:20:59+00:00",
          "2024-11-01T11:00:47+00:00",
          "2024-11-01T14:40:35+00:00",
          "2024-11-01T18:20:23+00:00",
          "2024-11-01T22:00:35+00:00",
          "2024-11-02T01:40:47+00:00",
          "2024-11-02T05:21:11+00:00",
          "2024-11-02T09:00:59+00:00",
          "2024-11-02T12:41:59+00:00",
          "2024-11-02T16:22:35+00:00",
          "2024-11-02T20:02:35+00:00",
          "2024-11-02T23:43:35+00:00",
          "2024-11-03T03:24:23+00:00",
          "2024-11-03T07:04:35+00:00",
          "2024-11-03T10:43:47+00:00",
          "2024-11-03T14:23:47+00:00",
          "2024-11-03T18:04:35+00:00",
          "2024-11-03T21:43:59+00:00",
          "2024-11-04T01:23:47+00:00",
          "2024-11-04T05:03:47+00:00",
          "2024-11-04T08:42:59+00:00",
          "2024-11-04T12:23:35+00:00",
          "2024-11-04T16:02:59+00:00",
          "2024-11-04T19:43:23+00:00",
          "2024-11-04T23:23:23+00:00",
          "2024-11-05T03:03:23+00:00",
          "2024-11-05T06:44:11+00:00",
          "2024-11-05T10:24:11+00:00",
          "2024-11-05T14:04:11+00:00",
          "2024-11-05T17:44:23+00:00",
          "2024-11-05T21:25:11+00:00",
          "2024-11-06T01:04:59+00:00",
          "2024-11-06T04:44:23+00:00",
          "2024-11-06T08:24:23+00:00",
          "2024-11-06T12:05:23+00:00",
          "2024-11-06T15:45:47+00:00"
         ],
         "xaxis": "x",
         "y": [
          0.1364,
          0.1365,
          0.1379,
          0.1385,
          0.1385,
          0.1361,
          0.1361,
          0.1363,
          0.1364,
          0.1413,
          0.1419,
          0.1419,
          0.1351,
          0.1818,
          0.1823,
          0.166,
          0.1668,
          0.1669,
          0.1286,
          0.1288,
          0.1289,
          0.1292,
          0.1188,
          0.1195,
          0.1196,
          0.1047,
          0.1048,
          0.1049,
          0.0766,
          0.0773,
          0.0775,
          0.0725,
          0.0727,
          0.073,
          0.0734,
          0.1106,
          0.1113,
          0.1115,
          0.0937,
          0.0942,
          0.0943,
          0.0944,
          0.0945,
          0.0953,
          0.0944,
          0.087,
          0.0875,
          0.0876,
          0.0825,
          0.0831,
          0.0832,
          0.059,
          0.059,
          0.0594,
          0.0959,
          0.0961,
          0.0968,
          0.097,
          0.0894,
          0.0897,
          0.0898,
          0.1012,
          0.1019,
          0.1021,
          0.1012,
          0.1014,
          0.1016,
          0.0303,
          0.0332,
          0.034,
          0.0342,
          0.0274,
          0.0275,
          0.0276,
          0.0888,
          0.0899,
          0.09,
          0.0999,
          0.1001,
          0.1004,
          0.1005,
          0.0973,
          0.098,
          0.0981,
          0.115,
          0.1151,
          0.1152,
          0.1122,
          0.1128,
          0.1128,
          0.1117,
          0.1292,
          0.1293,
          0.1293,
          0.1056,
          0.1063,
          0.1064,
          0.1242,
          0.1244,
          0.1257,
          0.1267,
          0.1275,
          0.1278,
          0.1292,
          0.1194,
          0.1187,
          0.1188,
          0.1318,
          0.1324,
          0.1326,
          0.1761,
          0.1761,
          0.1762,
          0.1532,
          0.1533,
          0.1541,
          0.1542,
          0.1608,
          0.1608,
          0.1608,
          0.1445,
          0.1452,
          0.1454,
          0.1159,
          0.116,
          0.1161,
          0.1179,
          0.1181,
          0.1188,
          0.1189,
          0.2167,
          0.217,
          0.217,
          0.1571,
          0.1577,
          0.1579,
          0.156,
          0.1564,
          0.1566,
          0.1566,
          0.1546,
          0.1553,
          0.1559,
          0.1529,
          0.1531,
          0.1531,
          0.1301,
          0.1307,
          0.131,
          0.1363,
          0.1368,
          0.1369,
          0.1371,
          0.1267,
          0.1276,
          0.1277,
          0.1329,
          0.1331,
          0.1333,
          0.1161,
          0.1172,
          0.1174,
          0.1157,
          0.1047,
          0.1049,
          0.1051,
          0.0408,
          0.0416,
          0.0422,
          0.0492,
          0.0495,
          0.0498,
          0.0398,
          0.04,
          0.0407,
          0.0409,
          0.0631,
          0.0634,
          0.0636,
          0.0526,
          0.0535,
          0.0539,
          0.0661,
          0.0663,
          0.0663,
          0.0664,
          0.0665,
          0.0672,
          0.0664,
          0.0545,
          0.055,
          0.0689,
          0.0815,
          0.0824,
          0.0828,
          0.1193,
          0.1193,
          0.1197,
          0.1175,
          0.1176,
          0.1184,
          0.1195,
          0.1337,
          0.1338,
          0.134,
          0.1177,
          0.1185,
          0.1187,
          0.1079,
          0.3248,
          0.3248,
          0.3249,
          0.1749,
          0.1756,
          0.1757,
          0.1128,
          0.113,
          0.113,
          0.1394,
          0.1408,
          0.1422,
          0.0446,
          0.0448,
          0.0449,
          0.0449,
          0.0289,
          0.0444,
          0.0277,
          0.028,
          0.0282,
          0.0254,
          0.0262,
          0.0327,
          -0.0442,
          -0.0306,
          -0.0303,
          -0.0301,
          -0.0132,
          -0.0014,
          -0.0007,
          -0.0005,
          -0.0154,
          -0.0153,
          -0.0151,
          -0.0015,
          -0.0007,
          0.0004,
          0.0091,
          0.0363,
          0.0447,
          0.0448,
          -0.0129,
          -0.009,
          0.0048,
          -0.0035,
          -0.0034,
          0.0105,
          -0.0122,
          -0.0122,
          -0.0112,
          -0.0108,
          -0.0091,
          -0.009,
          -0.0089,
          0.0076,
          0.0083,
          0.0086,
          -0.0107,
          -0.0106,
          -0.0105,
          -0.0027,
          -0.0026,
          -0.0017,
          -0.0016,
          -0.0183,
          -0.0182,
          -0.018,
          -0.0053,
          -0.0046,
          -0.0045,
          0.0057,
          0.0058,
          0.0058,
          -0.0015,
          -0.0015,
          -0.0005,
          -0.0005,
          0.0125,
          0.0126,
          0.0133,
          0.0127,
          0.0138,
          0.014,
          0.0089,
          0.0277,
          0.0278,
          0.0279,
          0.0391,
          0.0406,
          0.0408,
          0.0757,
          0.0758,
          0.0758,
          0.0434,
          0.0447,
          0.0447,
          0.0541,
          0.0541,
          0.0544,
          0.0544,
          0.0737,
          0.0803,
          0.081,
          0.0928,
          0.1064,
          0.1065,
          0.0617,
          0.0628,
          0.0694,
          0.0766,
          0.0766,
          0.0768,
          0.0769,
          0.0407,
          0.0423,
          0.0429,
          0.0597,
          0.0597,
          0.0597,
          0.0671,
          0.0671,
          0.0688,
          0.07,
          0.0756,
          0.0758,
          0.0695,
          0.0761,
          0.0778,
          0.0839,
          0.1023,
          0.1025,
          0.0774,
          0.0775,
          0.0909,
          0.0936
         ],
         "yaxis": "y"
        },
        {
         "hovertemplate": "variable=weETH<br>timestamp=%{x}<br>value=%{y}<extra></extra>",
         "legendgroup": "weETH",
         "line": {
          "color": "#636efa",
          "dash": "solid"
         },
         "marker": {
          "symbol": "circle"
         },
         "mode": "lines",
         "name": "weETH",
         "showlegend": true,
         "type": "scattergl",
         "x": [
          "2024-09-15T02:04:47+00:00",
          "2024-09-15T05:44:35+00:00",
          "2024-09-15T09:24:47+00:00",
          "2024-09-15T13:04:11+00:00",
          "2024-09-15T16:44:23+00:00",
          "2024-09-15T20:23:35+00:00",
          "2024-09-16T00:03:11+00:00",
          "2024-09-16T03:43:47+00:00",
          "2024-09-16T07:23:23+00:00",
          "2024-09-16T11:04:47+00:00",
          "2024-09-16T14:46:11+00:00",
          "2024-09-16T18:26:47+00:00",
          "2024-09-16T22:06:23+00:00",
          "2024-09-17T01:46:35+00:00",
          "2024-09-17T05:27:47+00:00",
          "2024-09-17T09:08:35+00:00",
          "2024-09-17T12:48:23+00:00",
          "2024-09-17T16:29:11+00:00",
          "2024-09-17T20:09:47+00:00",
          "2024-09-17T23:50:47+00:00",
          "2024-09-18T03:30:35+00:00",
          "2024-09-18T07:11:35+00:00",
          "2024-09-18T10:51:35+00:00",
          "2024-09-18T14:32:23+00:00",
          "2024-09-18T18:12:23+00:00",
          "2024-09-18T21:52:47+00:00",
          "2024-09-19T01:33:11+00:00",
          "2024-09-19T05:13:23+00:00",
          "2024-09-19T08:53:23+00:00",
          "2024-09-19T12:33:23+00:00",
          "2024-09-19T16:13:23+00:00",
          "2024-09-19T19:53:23+00:00",
          "2024-09-19T23:33:11+00:00",
          "2024-09-20T03:13:35+00:00",
          "2024-09-20T06:54:11+00:00",
          "2024-09-20T10:35:11+00:00",
          "2024-09-20T14:14:59+00:00",
          "2024-09-20T17:54:59+00:00",
          "2024-09-20T21:35:23+00:00",
          "2024-09-21T01:16:23+00:00",
          "2024-09-21T04:56:23+00:00",
          "2024-09-21T08:38:11+00:00",
          "2024-09-21T12:18:11+00:00",
          "2024-09-21T15:58:11+00:00",
          "2024-09-21T19:38:11+00:00",
          "2024-09-21T23:19:11+00:00",
          "2024-09-22T02:58:47+00:00",
          "2024-09-22T06:38:35+00:00",
          "2024-09-22T10:18:23+00:00",
          "2024-09-22T13:58:11+00:00",
          "2024-09-22T17:37:59+00:00",
          "2024-09-22T21:18:11+00:00",
          "2024-09-23T00:57:47+00:00",
          "2024-09-23T04:37:23+00:00",
          "2024-09-23T08:17:35+00:00",
          "2024-09-23T11:58:59+00:00",
          "2024-09-23T15:38:59+00:00",
          "2024-09-23T19:18:59+00:00",
          "2024-09-23T22:58:59+00:00",
          "2024-09-24T02:38:47+00:00",
          "2024-09-24T06:18:23+00:00",
          "2024-09-24T09:57:47+00:00",
          "2024-09-24T13:37:23+00:00",
          "2024-09-24T17:17:47+00:00",
          "2024-09-24T20:57:11+00:00",
          "2024-09-25T00:36:59+00:00",
          "2024-09-25T04:17:23+00:00",
          "2024-09-25T07:57:11+00:00",
          "2024-09-25T11:37:35+00:00",
          "2024-09-25T15:18:35+00:00",
          "2024-09-25T18:59:35+00:00",
          "2024-09-25T22:38:47+00:00",
          "2024-09-26T02:18:35+00:00",
          "2024-09-26T05:58:23+00:00",
          "2024-09-26T09:37:59+00:00",
          "2024-09-26T13:17:35+00:00",
          "2024-09-26T16:56:59+00:00",
          "2024-09-26T20:36:59+00:00",
          "2024-09-27T00:17:47+00:00",
          "2024-09-27T03:57:35+00:00",
          "2024-09-27T07:37:11+00:00",
          "2024-09-27T11:16:59+00:00",
          "2024-09-27T14:56:47+00:00",
          "2024-09-27T18:36:47+00:00",
          "2024-09-27T22:16:11+00:00",
          "2024-09-28T01:55:59+00:00",
          "2024-09-28T05:36:23+00:00",
          "2024-09-28T09:15:59+00:00",
          "2024-09-28T12:55:47+00:00",
          "2024-09-28T16:35:23+00:00",
          "2024-09-28T20:15:47+00:00",
          "2024-09-28T23:56:35+00:00",
          "2024-09-29T03:36:47+00:00",
          "2024-09-29T07:17:11+00:00",
          "2024-09-29T10:56:47+00:00",
          "2024-09-29T14:36:35+00:00",
          "2024-09-29T18:16:11+00:00",
          "2024-09-29T21:56:47+00:00",
          "2024-09-30T01:36:35+00:00",
          "2024-09-30T05:16:35+00:00",
          "2024-09-30T08:55:59+00:00",
          "2024-09-30T12:35:23+00:00",
          "2024-09-30T16:15:11+00:00",
          "2024-09-30T19:54:47+00:00",
          "2024-09-30T23:34:23+00:00",
          "2024-10-01T03:13:59+00:00",
          "2024-10-01T06:53:59+00:00",
          "2024-10-01T10:33:35+00:00",
          "2024-10-01T14:13:47+00:00",
          "2024-10-01T17:54:11+00:00",
          "2024-10-01T21:34:23+00:00",
          "2024-10-02T01:14:11+00:00",
          "2024-10-02T04:54:11+00:00",
          "2024-10-02T08:33:47+00:00",
          "2024-10-02T12:12:59+00:00",
          "2024-10-02T15:53:11+00:00",
          "2024-10-02T19:33:23+00:00",
          "2024-10-02T23:12:47+00:00",
          "2024-10-03T02:52:11+00:00",
          "2024-10-03T06:32:23+00:00",
          "2024-10-03T10:11:59+00:00",
          "2024-10-03T13:51:59+00:00",
          "2024-10-03T17:33:23+00:00",
          "2024-10-03T21:13:47+00:00",
          "2024-10-04T00:53:11+00:00",
          "2024-10-04T04:32:23+00:00",
          "2024-10-04T08:11:59+00:00",
          "2024-10-04T11:51:23+00:00",
          "2024-10-04T15:30:59+00:00",
          "2024-10-04T19:10:35+00:00",
          "2024-10-04T22:50:23+00:00",
          "2024-10-05T02:30:35+00:00",
          "2024-10-05T06:09:59+00:00",
          "2024-10-05T09:49:59+00:00",
          "2024-10-05T13:29:23+00:00",
          "2024-10-05T17:09:23+00:00",
          "2024-10-05T20:48:59+00:00",
          "2024-10-06T00:28:11+00:00",
          "2024-10-06T04:07:47+00:00",
          "2024-10-06T07:47:35+00:00",
          "2024-10-06T11:27:47+00:00",
          "2024-10-06T15:07:47+00:00",
          "2024-10-06T18:47:35+00:00",
          "2024-10-06T22:27:23+00:00",
          "2024-10-07T02:07:35+00:00",
          "2024-10-07T05:47:35+00:00",
          "2024-10-07T09:27:11+00:00",
          "2024-10-07T13:06:35+00:00",
          "2024-10-07T16:46:47+00:00",
          "2024-10-07T20:26:23+00:00",
          "2024-10-08T00:05:59+00:00",
          "2024-10-08T03:45:47+00:00",
          "2024-10-08T07:25:35+00:00",
          "2024-10-08T11:04:59+00:00",
          "2024-10-08T14:44:47+00:00",
          "2024-10-08T18:24:11+00:00",
          "2024-10-08T22:04:47+00:00",
          "2024-10-09T01:44:35+00:00",
          "2024-10-09T05:23:47+00:00",
          "2024-10-09T09:03:35+00:00",
          "2024-10-09T12:43:59+00:00",
          "2024-10-09T16:23:11+00:00",
          "2024-10-09T20:02:59+00:00",
          "2024-10-09T23:42:35+00:00",
          "2024-10-10T03:22:23+00:00",
          "2024-10-10T07:02:23+00:00",
          "2024-10-10T10:42:11+00:00",
          "2024-10-10T14:21:47+00:00",
          "2024-10-10T18:01:11+00:00",
          "2024-10-10T21:40:59+00:00",
          "2024-10-11T01:20:35+00:00",
          "2024-10-11T05:00:35+00:00",
          "2024-10-11T08:40:59+00:00",
          "2024-10-11T12:21:35+00:00",
          "2024-10-11T16:02:35+00:00",
          "2024-10-11T19:42:47+00:00",
          "2024-10-11T23:23:35+00:00",
          "2024-10-12T03:04:23+00:00",
          "2024-10-12T06:44:47+00:00",
          "2024-10-12T10:26:35+00:00",
          "2024-10-12T14:06:59+00:00",
          "2024-10-12T17:46:59+00:00",
          "2024-10-12T21:27:35+00:00",
          "2024-10-13T01:07:59+00:00",
          "2024-10-13T04:50:11+00:00",
          "2024-10-13T08:32:47+00:00",
          "2024-10-13T12:14:23+00:00",
          "2024-10-13T15:54:11+00:00",
          "2024-10-13T19:34:11+00:00",
          "2024-10-13T23:14:47+00:00",
          "2024-10-14T02:54:59+00:00",
          "2024-10-14T06:34:47+00:00",
          "2024-10-14T10:16:11+00:00",
          "2024-10-14T13:57:11+00:00",
          "2024-10-14T17:36:59+00:00",
          "2024-10-14T21:17:23+00:00",
          "2024-10-15T00:57:23+00:00",
          "2024-10-15T04:37:47+00:00",
          "2024-10-15T08:17:23+00:00",
          "2024-10-15T11:57:59+00:00",
          "2024-10-15T15:38:35+00:00",
          "2024-10-15T19:18:59+00:00",
          "2024-10-15T22:59:11+00:00",
          "2024-10-16T02:39:59+00:00",
          "2024-10-16T06:19:59+00:00",
          "2024-10-16T09:59:59+00:00",
          "2024-10-16T13:40:11+00:00",
          "2024-10-16T17:20:11+00:00",
          "2024-10-16T21:00:23+00:00",
          "2024-10-17T00:40:59+00:00",
          "2024-10-17T04:21:11+00:00",
          "2024-10-17T08:01:11+00:00",
          "2024-10-17T11:40:47+00:00",
          "2024-10-17T15:21:11+00:00",
          "2024-10-17T19:01:23+00:00",
          "2024-10-17T22:41:35+00:00",
          "2024-10-18T02:21:35+00:00",
          "2024-10-18T06:01:59+00:00",
          "2024-10-18T09:42:11+00:00",
          "2024-10-18T13:21:47+00:00",
          "2024-10-18T17:02:11+00:00",
          "2024-10-18T20:41:47+00:00",
          "2024-10-19T00:21:47+00:00",
          "2024-10-19T04:01:47+00:00",
          "2024-10-19T07:42:23+00:00",
          "2024-10-19T11:21:59+00:00",
          "2024-10-19T15:01:59+00:00",
          "2024-10-19T18:41:47+00:00",
          "2024-10-19T22:21:23+00:00",
          "2024-10-20T02:00:47+00:00",
          "2024-10-20T05:40:47+00:00",
          "2024-10-20T09:20:35+00:00",
          "2024-10-20T12:59:59+00:00",
          "2024-10-20T16:40:59+00:00",
          "2024-10-20T20:20:47+00:00",
          "2024-10-21T00:00:59+00:00",
          "2024-10-21T03:41:35+00:00",
          "2024-10-21T07:21:35+00:00",
          "2024-10-21T11:00:59+00:00",
          "2024-10-21T14:40:59+00:00",
          "2024-10-21T18:20:23+00:00",
          "2024-10-21T22:00:35+00:00",
          "2024-10-22T01:40:59+00:00",
          "2024-10-22T05:21:11+00:00",
          "2024-10-22T09:01:23+00:00",
          "2024-10-22T12:41:35+00:00",
          "2024-10-22T16:21:35+00:00",
          "2024-10-22T20:01:35+00:00",
          "2024-10-22T23:42:23+00:00",
          "2024-10-23T03:22:35+00:00",
          "2024-10-23T07:01:35+00:00",
          "2024-10-23T10:41:35+00:00",
          "2024-10-23T14:21:11+00:00",
          "2024-10-23T18:00:59+00:00",
          "2024-10-23T21:40:11+00:00",
          "2024-10-24T01:20:47+00:00",
          "2024-10-24T05:00:47+00:00",
          "2024-10-24T08:40:59+00:00",
          "2024-10-24T12:20:35+00:00",
          "2024-10-24T16:00:35+00:00",
          "2024-10-24T19:40:11+00:00",
          "2024-10-24T23:19:59+00:00",
          "2024-10-25T02:59:59+00:00",
          "2024-10-25T06:40:11+00:00",
          "2024-10-25T10:19:35+00:00",
          "2024-10-25T13:59:35+00:00",
          "2024-10-25T17:39:35+00:00",
          "2024-10-25T21:19:11+00:00",
          "2024-10-26T00:58:59+00:00",
          "2024-10-26T04:39:23+00:00",
          "2024-10-26T08:19:11+00:00",
          "2024-10-26T11:59:59+00:00",
          "2024-10-26T15:40:35+00:00",
          "2024-10-26T19:20:11+00:00",
          "2024-10-26T22:59:59+00:00",
          "2024-10-27T02:40:11+00:00",
          "2024-10-27T06:19:47+00:00",
          "2024-10-27T09:59:23+00:00",
          "2024-10-27T13:40:11+00:00",
          "2024-10-27T17:19:47+00:00",
          "2024-10-27T20:59:11+00:00",
          "2024-10-28T00:38:35+00:00",
          "2024-10-28T04:18:47+00:00",
          "2024-10-28T07:59:47+00:00",
          "2024-10-28T11:39:47+00:00",
          "2024-10-28T15:20:11+00:00",
          "2024-10-28T19:00:35+00:00",
          "2024-10-28T22:40:23+00:00",
          "2024-10-29T02:20:47+00:00",
          "2024-10-29T06:00:35+00:00",
          "2024-10-29T09:41:11+00:00",
          "2024-10-29T13:21:35+00:00",
          "2024-10-29T17:01:11+00:00",
          "2024-10-29T20:40:35+00:00",
          "2024-10-30T00:20:23+00:00",
          "2024-10-30T04:00:11+00:00",
          "2024-10-30T07:40:35+00:00",
          "2024-10-30T11:21:47+00:00",
          "2024-10-30T15:03:35+00:00",
          "2024-10-30T18:43:11+00:00",
          "2024-10-30T22:22:47+00:00",
          "2024-10-31T02:02:11+00:00",
          "2024-10-31T05:42:59+00:00",
          "2024-10-31T09:23:35+00:00",
          "2024-10-31T13:02:47+00:00",
          "2024-10-31T16:42:11+00:00",
          "2024-10-31T20:21:35+00:00",
          "2024-11-01T00:01:23+00:00",
          "2024-11-01T03:41:11+00:00",
          "2024-11-01T07:20:59+00:00",
          "2024-11-01T11:00:47+00:00",
          "2024-11-01T14:40:35+00:00",
          "2024-11-01T18:20:23+00:00",
          "2024-11-01T22:00:35+00:00",
          "2024-11-02T01:40:47+00:00",
          "2024-11-02T05:21:11+00:00",
          "2024-11-02T09:00:59+00:00",
          "2024-11-02T12:41:59+00:00",
          "2024-11-02T16:22:35+00:00",
          "2024-11-02T20:02:35+00:00",
          "2024-11-02T23:43:35+00:00",
          "2024-11-03T03:24:23+00:00",
          "2024-11-03T07:04:35+00:00",
          "2024-11-03T10:43:47+00:00",
          "2024-11-03T14:23:47+00:00",
          "2024-11-03T18:04:35+00:00",
          "2024-11-03T21:43:59+00:00",
          "2024-11-04T01:23:47+00:00",
          "2024-11-04T05:03:47+00:00",
          "2024-11-04T08:42:59+00:00",
          "2024-11-04T12:23:35+00:00",
          "2024-11-04T16:02:59+00:00",
          "2024-11-04T19:43:23+00:00",
          "2024-11-04T23:23:23+00:00",
          "2024-11-05T03:03:23+00:00",
          "2024-11-05T06:44:11+00:00",
          "2024-11-05T10:24:11+00:00",
          "2024-11-05T14:04:11+00:00",
          "2024-11-05T17:44:23+00:00",
          "2024-11-05T21:25:11+00:00",
          "2024-11-06T01:04:59+00:00",
          "2024-11-06T04:44:23+00:00",
          "2024-11-06T08:24:23+00:00",
          "2024-11-06T12:05:23+00:00",
          "2024-11-06T15:45:47+00:00"
         ],
         "xaxis": "x",
         "y": [
          0.04,
          0.04,
          0.0229,
          0.0255,
          0.0255,
          0.028,
          0.028,
          0.0303,
          0.0303,
          0.1113,
          0.1113,
          0.1113,
          0.1152,
          0.1157,
          0.117,
          0.14,
          0.1404,
          0.1404,
          0.1433,
          0.1446,
          0.1446,
          0.147,
          0.0286,
          0.0286,
          0.0315,
          0.0315,
          0.0338,
          0.0338,
          0.1243,
          0.1243,
          0.1274,
          0.1274,
          0.13,
          0.13,
          0.13,
          0.0999,
          0.0999,
          0.1032,
          0.1032,
          0.1058,
          0.1058,
          0.1058,
          0.1378,
          0.1378,
          0.1408,
          0.1408,
          0.143,
          0.143,
          0.0419,
          0.0419,
          0.0453,
          0.0453,
          0.0453,
          0.0476,
          0.0476,
          0.1361,
          0.1361,
          0.1391,
          0.1404,
          0.1404,
          0.143,
          0.0739,
          0.0763,
          0.0763,
          0.0793,
          0.0793,
          0.0793,
          0.0818,
          0.0349,
          0.037,
          0.037,
          0.0401,
          0.0401,
          0.0423,
          0.0594,
          0.0616,
          0.0616,
          0.0646,
          0.0646,
          0.0646,
          0.0678,
          0.048,
          0.048,
          0.0508,
          0.0508,
          0.0533,
          0.0533,
          0.0644,
          0.0653,
          0.0661,
          0.068,
          0.0688,
          0.0697,
          0.0715,
          0.086,
          0.086,
          0.0889,
          0.0889,
          0.0911,
          0.0911,
          0.0643,
          0.0643,
          0.0643,
          0.0673,
          0.0673,
          0.0696,
          0.0696,
          0.0512,
          0.0512,
          0.0541,
          0.0541,
          0.0564,
          0.0564,
          0.0493,
          0.0501,
          0.051,
          0.0526,
          0.0526,
          0.0549,
          0.0549,
          0.0768,
          0.0776,
          0.0776,
          0.0806,
          0.0819,
          0.0819,
          0.0608,
          0.0634,
          0.0634,
          0.0667,
          0.0675,
          0.0688,
          0.0692,
          0.0394,
          0.0398,
          0.0398,
          0.0428,
          0.0428,
          0.0451,
          0.0451,
          0.1208,
          0.1208,
          0.1208,
          0.124,
          0.124,
          0.1263,
          0.0529,
          0.0552,
          0.0552,
          0.0587,
          0.0587,
          0.0587,
          0.0616,
          0.0523,
          0.0523,
          0.0536,
          0.0536,
          0.0576,
          0.06,
          0.0512,
          0.0512,
          0.0552,
          0.0552,
          0.0578,
          0.0578,
          0.0578,
          0.0645,
          0.0645,
          0.0645,
          0.0645,
          0.0694,
          0.0694,
          0.0603,
          0.0603,
          0.0626,
          0.0626,
          0.0656,
          0.0656,
          0.0677,
          0.0148,
          0.0148,
          0.0148,
          0.0148,
          0.0148,
          0.022,
          0.0201,
          0.0222,
          0.0222,
          0.0222,
          0.0253,
          0.0273,
          0.0282,
          0.0212,
          0.0235,
          0.0235,
          0.0235,
          0.0276,
          0.0285,
          0.0184,
          0.0193,
          0.0193,
          0.0225,
          0.0235,
          0.0247,
          0.0256,
          0.0264,
          0.0281,
          0.0304,
          0.0313,
          0.0317,
          0.0334,
          0.0339,
          0.0332,
          0.0345,
          0.0345,
          0.0378,
          0.0378,
          0.0395,
          0.0635,
          0.0656,
          0.0342,
          0.0373,
          0.0378,
          0.039,
          0.0394,
          0.0394,
          0.0414,
          0.0213,
          0.0243,
          0.0243,
          0.0264,
          0.0276,
          0.0276,
          0.0457,
          0.0497,
          0.0501,
          0.0513,
          0.0513,
          0.0534,
          0.0534,
          0.0103,
          0.0134,
          0.0134,
          0.0154,
          0.0154,
          0.0173,
          0.0173,
          0.0173,
          0.0173,
          0.0193,
          0.0193,
          0.0079,
          0.0087,
          0.0087,
          0.012,
          0.0128,
          0.0143,
          0.0133,
          0.0141,
          0.0149,
          0.0149,
          0.0182,
          0.0182,
          0.0202,
          0.0154,
          0.0173,
          0.0173,
          0.0173,
          0.0207,
          0.0207,
          0.0184,
          0.0184,
          0.0204,
          0.0204,
          0.0235,
          0.0235,
          0.0253,
          0.0024,
          0.0024,
          0.0043,
          0.0043,
          0.0072,
          0.0072,
          0.0058,
          0.0058,
          0.0077,
          0.0077,
          0.0108,
          0.0108,
          0.0128,
          0.0121,
          0.0121,
          0.0121,
          0.0163,
          0.0172,
          0.0179,
          0.0197,
          0.0413,
          0.0417,
          0.0445,
          0.0453,
          0.0462,
          0.0469,
          0.015,
          0.015,
          0.015,
          0.0154,
          0.0154,
          0.0154,
          0.0154,
          0.0161,
          0.0161,
          0.0283,
          0.0288,
          0.0288,
          0.0309,
          0.0311,
          0.0311,
          0.0343,
          0.0343,
          0.0365,
          0.0365,
          0.0365,
          0.0319,
          0.0319,
          0.035,
          0.035,
          0.037,
          0.037,
          0.04,
          0.0409,
          0.044,
          0.041,
          0.0434,
          0.0434,
          0.0434,
          0.0456,
          0.0456,
          0.0685,
          0.0685,
          0.0709,
          0.0709,
          0.0732,
          0.0732,
          0.0371
         ],
         "yaxis": "y"
        },
        {
         "hovertemplate": "variable=rswETH<br>timestamp=%{x}<br>value=%{y}<extra></extra>",
         "legendgroup": "rswETH",
         "line": {
          "color": "#EF553B",
          "dash": "solid"
         },
         "marker": {
          "symbol": "circle"
         },
         "mode": "lines",
         "name": "rswETH",
         "showlegend": true,
         "type": "scattergl",
         "x": [
          "2024-09-15T02:04:47+00:00",
          "2024-09-15T05:44:35+00:00",
          "2024-09-15T09:24:47+00:00",
          "2024-09-15T13:04:11+00:00",
          "2024-09-15T16:44:23+00:00",
          "2024-09-15T20:23:35+00:00",
          "2024-09-16T00:03:11+00:00",
          "2024-09-16T03:43:47+00:00",
          "2024-09-16T07:23:23+00:00",
          "2024-09-16T11:04:47+00:00",
          "2024-09-16T14:46:11+00:00",
          "2024-09-16T18:26:47+00:00",
          "2024-09-16T22:06:23+00:00",
          "2024-09-17T01:46:35+00:00",
          "2024-09-17T05:27:47+00:00",
          "2024-09-17T09:08:35+00:00",
          "2024-09-17T12:48:23+00:00",
          "2024-09-17T16:29:11+00:00",
          "2024-09-17T20:09:47+00:00",
          "2024-09-17T23:50:47+00:00",
          "2024-09-18T03:30:35+00:00",
          "2024-09-18T07:11:35+00:00",
          "2024-09-18T10:51:35+00:00",
          "2024-09-18T14:32:23+00:00",
          "2024-09-18T18:12:23+00:00",
          "2024-09-18T21:52:47+00:00",
          "2024-09-19T01:33:11+00:00",
          "2024-09-19T05:13:23+00:00",
          "2024-09-19T08:53:23+00:00",
          "2024-09-19T12:33:23+00:00",
          "2024-09-19T16:13:23+00:00",
          "2024-09-19T19:53:23+00:00",
          "2024-09-19T23:33:11+00:00",
          "2024-09-20T03:13:35+00:00",
          "2024-09-20T06:54:11+00:00",
          "2024-09-20T10:35:11+00:00",
          "2024-09-20T14:14:59+00:00",
          "2024-09-20T17:54:59+00:00",
          "2024-09-20T21:35:23+00:00",
          "2024-09-21T01:16:23+00:00",
          "2024-09-21T04:56:23+00:00",
          "2024-09-21T08:38:11+00:00",
          "2024-09-21T12:18:11+00:00",
          "2024-09-21T15:58:11+00:00",
          "2024-09-21T19:38:11+00:00",
          "2024-09-21T23:19:11+00:00",
          "2024-09-22T02:58:47+00:00",
          "2024-09-22T06:38:35+00:00",
          "2024-09-22T10:18:23+00:00",
          "2024-09-22T13:58:11+00:00",
          "2024-09-22T17:37:59+00:00",
          "2024-09-22T21:18:11+00:00",
          "2024-09-23T00:57:47+00:00",
          "2024-09-23T04:37:23+00:00",
          "2024-09-23T08:17:35+00:00",
          "2024-09-23T11:58:59+00:00",
          "2024-09-23T15:38:59+00:00",
          "2024-09-23T19:18:59+00:00",
          "2024-09-23T22:58:59+00:00",
          "2024-09-24T02:38:47+00:00",
          "2024-09-24T06:18:23+00:00",
          "2024-09-24T09:57:47+00:00",
          "2024-09-24T13:37:23+00:00",
          "2024-09-24T17:17:47+00:00",
          "2024-09-24T20:57:11+00:00",
          "2024-09-25T00:36:59+00:00",
          "2024-09-25T04:17:23+00:00",
          "2024-09-25T07:57:11+00:00",
          "2024-09-25T11:37:35+00:00",
          "2024-09-25T15:18:35+00:00",
          "2024-09-25T18:59:35+00:00",
          "2024-09-25T22:38:47+00:00",
          "2024-09-26T02:18:35+00:00",
          "2024-09-26T05:58:23+00:00",
          "2024-09-26T09:37:59+00:00",
          "2024-09-26T13:17:35+00:00",
          "2024-09-26T16:56:59+00:00",
          "2024-09-26T20:36:59+00:00",
          "2024-09-27T00:17:47+00:00",
          "2024-09-27T03:57:35+00:00",
          "2024-09-27T07:37:11+00:00",
          "2024-09-27T11:16:59+00:00",
          "2024-09-27T14:56:47+00:00",
          "2024-09-27T18:36:47+00:00",
          "2024-09-27T22:16:11+00:00",
          "2024-09-28T01:55:59+00:00",
          "2024-09-28T05:36:23+00:00",
          "2024-09-28T09:15:59+00:00",
          "2024-09-28T12:55:47+00:00",
          "2024-09-28T16:35:23+00:00",
          "2024-09-28T20:15:47+00:00",
          "2024-09-28T23:56:35+00:00",
          "2024-09-29T03:36:47+00:00",
          "2024-09-29T07:17:11+00:00",
          "2024-09-29T10:56:47+00:00",
          "2024-09-29T14:36:35+00:00",
          "2024-09-29T18:16:11+00:00",
          "2024-09-29T21:56:47+00:00",
          "2024-09-30T01:36:35+00:00",
          "2024-09-30T05:16:35+00:00",
          "2024-09-30T08:55:59+00:00",
          "2024-09-30T12:35:23+00:00",
          "2024-09-30T16:15:11+00:00",
          "2024-09-30T19:54:47+00:00",
          "2024-09-30T23:34:23+00:00",
          "2024-10-01T03:13:59+00:00",
          "2024-10-01T06:53:59+00:00",
          "2024-10-01T10:33:35+00:00",
          "2024-10-01T14:13:47+00:00",
          "2024-10-01T17:54:11+00:00",
          "2024-10-01T21:34:23+00:00",
          "2024-10-02T01:14:11+00:00",
          "2024-10-02T04:54:11+00:00",
          "2024-10-02T08:33:47+00:00",
          "2024-10-02T12:12:59+00:00",
          "2024-10-02T15:53:11+00:00",
          "2024-10-02T19:33:23+00:00",
          "2024-10-02T23:12:47+00:00",
          "2024-10-03T02:52:11+00:00",
          "2024-10-03T06:32:23+00:00",
          "2024-10-03T10:11:59+00:00",
          "2024-10-03T13:51:59+00:00",
          "2024-10-03T17:33:23+00:00",
          "2024-10-03T21:13:47+00:00",
          "2024-10-04T00:53:11+00:00",
          "2024-10-04T04:32:23+00:00",
          "2024-10-04T08:11:59+00:00",
          "2024-10-04T11:51:23+00:00",
          "2024-10-04T15:30:59+00:00",
          "2024-10-04T19:10:35+00:00",
          "2024-10-04T22:50:23+00:00",
          "2024-10-05T02:30:35+00:00",
          "2024-10-05T06:09:59+00:00",
          "2024-10-05T09:49:59+00:00",
          "2024-10-05T13:29:23+00:00",
          "2024-10-05T17:09:23+00:00",
          "2024-10-05T20:48:59+00:00",
          "2024-10-06T00:28:11+00:00",
          "2024-10-06T04:07:47+00:00",
          "2024-10-06T07:47:35+00:00",
          "2024-10-06T11:27:47+00:00",
          "2024-10-06T15:07:47+00:00",
          "2024-10-06T18:47:35+00:00",
          "2024-10-06T22:27:23+00:00",
          "2024-10-07T02:07:35+00:00",
          "2024-10-07T05:47:35+00:00",
          "2024-10-07T09:27:11+00:00",
          "2024-10-07T13:06:35+00:00",
          "2024-10-07T16:46:47+00:00",
          "2024-10-07T20:26:23+00:00",
          "2024-10-08T00:05:59+00:00",
          "2024-10-08T03:45:47+00:00",
          "2024-10-08T07:25:35+00:00",
          "2024-10-08T11:04:59+00:00",
          "2024-10-08T14:44:47+00:00",
          "2024-10-08T18:24:11+00:00",
          "2024-10-08T22:04:47+00:00",
          "2024-10-09T01:44:35+00:00",
          "2024-10-09T05:23:47+00:00",
          "2024-10-09T09:03:35+00:00",
          "2024-10-09T12:43:59+00:00",
          "2024-10-09T16:23:11+00:00",
          "2024-10-09T20:02:59+00:00",
          "2024-10-09T23:42:35+00:00",
          "2024-10-10T03:22:23+00:00",
          "2024-10-10T07:02:23+00:00",
          "2024-10-10T10:42:11+00:00",
          "2024-10-10T14:21:47+00:00",
          "2024-10-10T18:01:11+00:00",
          "2024-10-10T21:40:59+00:00",
          "2024-10-11T01:20:35+00:00",
          "2024-10-11T05:00:35+00:00",
          "2024-10-11T08:40:59+00:00",
          "2024-10-11T12:21:35+00:00",
          "2024-10-11T16:02:35+00:00",
          "2024-10-11T19:42:47+00:00",
          "2024-10-11T23:23:35+00:00",
          "2024-10-12T03:04:23+00:00",
          "2024-10-12T06:44:47+00:00",
          "2024-10-12T10:26:35+00:00",
          "2024-10-12T14:06:59+00:00",
          "2024-10-12T17:46:59+00:00",
          "2024-10-12T21:27:35+00:00",
          "2024-10-13T01:07:59+00:00",
          "2024-10-13T04:50:11+00:00",
          "2024-10-13T08:32:47+00:00",
          "2024-10-13T12:14:23+00:00",
          "2024-10-13T15:54:11+00:00",
          "2024-10-13T19:34:11+00:00",
          "2024-10-13T23:14:47+00:00",
          "2024-10-14T02:54:59+00:00",
          "2024-10-14T06:34:47+00:00",
          "2024-10-14T10:16:11+00:00",
          "2024-10-14T13:57:11+00:00",
          "2024-10-14T17:36:59+00:00",
          "2024-10-14T21:17:23+00:00",
          "2024-10-15T00:57:23+00:00",
          "2024-10-15T04:37:47+00:00",
          "2024-10-15T08:17:23+00:00",
          "2024-10-15T11:57:59+00:00",
          "2024-10-15T15:38:35+00:00",
          "2024-10-15T19:18:59+00:00",
          "2024-10-15T22:59:11+00:00",
          "2024-10-16T02:39:59+00:00",
          "2024-10-16T06:19:59+00:00",
          "2024-10-16T09:59:59+00:00",
          "2024-10-16T13:40:11+00:00",
          "2024-10-16T17:20:11+00:00",
          "2024-10-16T21:00:23+00:00",
          "2024-10-17T00:40:59+00:00",
          "2024-10-17T04:21:11+00:00",
          "2024-10-17T08:01:11+00:00",
          "2024-10-17T11:40:47+00:00",
          "2024-10-17T15:21:11+00:00",
          "2024-10-17T19:01:23+00:00",
          "2024-10-17T22:41:35+00:00",
          "2024-10-18T02:21:35+00:00",
          "2024-10-18T06:01:59+00:00",
          "2024-10-18T09:42:11+00:00",
          "2024-10-18T13:21:47+00:00",
          "2024-10-18T17:02:11+00:00",
          "2024-10-18T20:41:47+00:00",
          "2024-10-19T00:21:47+00:00",
          "2024-10-19T04:01:47+00:00",
          "2024-10-19T07:42:23+00:00",
          "2024-10-19T11:21:59+00:00",
          "2024-10-19T15:01:59+00:00",
          "2024-10-19T18:41:47+00:00",
          "2024-10-19T22:21:23+00:00",
          "2024-10-20T02:00:47+00:00",
          "2024-10-20T05:40:47+00:00",
          "2024-10-20T09:20:35+00:00",
          "2024-10-20T12:59:59+00:00",
          "2024-10-20T16:40:59+00:00",
          "2024-10-20T20:20:47+00:00",
          "2024-10-21T00:00:59+00:00",
          "2024-10-21T03:41:35+00:00",
          "2024-10-21T07:21:35+00:00",
          "2024-10-21T11:00:59+00:00",
          "2024-10-21T14:40:59+00:00",
          "2024-10-21T18:20:23+00:00",
          "2024-10-21T22:00:35+00:00",
          "2024-10-22T01:40:59+00:00",
          "2024-10-22T05:21:11+00:00",
          "2024-10-22T09:01:23+00:00",
          "2024-10-22T12:41:35+00:00",
          "2024-10-22T16:21:35+00:00",
          "2024-10-22T20:01:35+00:00",
          "2024-10-22T23:42:23+00:00",
          "2024-10-23T03:22:35+00:00",
          "2024-10-23T07:01:35+00:00",
          "2024-10-23T10:41:35+00:00",
          "2024-10-23T14:21:11+00:00",
          "2024-10-23T18:00:59+00:00",
          "2024-10-23T21:40:11+00:00",
          "2024-10-24T01:20:47+00:00",
          "2024-10-24T05:00:47+00:00",
          "2024-10-24T08:40:59+00:00",
          "2024-10-24T12:20:35+00:00",
          "2024-10-24T16:00:35+00:00",
          "2024-10-24T19:40:11+00:00",
          "2024-10-24T23:19:59+00:00",
          "2024-10-25T02:59:59+00:00",
          "2024-10-25T06:40:11+00:00",
          "2024-10-25T10:19:35+00:00",
          "2024-10-25T13:59:35+00:00",
          "2024-10-25T17:39:35+00:00",
          "2024-10-25T21:19:11+00:00",
          "2024-10-26T00:58:59+00:00",
          "2024-10-26T04:39:23+00:00",
          "2024-10-26T08:19:11+00:00",
          "2024-10-26T11:59:59+00:00",
          "2024-10-26T15:40:35+00:00",
          "2024-10-26T19:20:11+00:00",
          "2024-10-26T22:59:59+00:00",
          "2024-10-27T02:40:11+00:00",
          "2024-10-27T06:19:47+00:00",
          "2024-10-27T09:59:23+00:00",
          "2024-10-27T13:40:11+00:00",
          "2024-10-27T17:19:47+00:00",
          "2024-10-27T20:59:11+00:00",
          "2024-10-28T00:38:35+00:00",
          "2024-10-28T04:18:47+00:00",
          "2024-10-28T07:59:47+00:00",
          "2024-10-28T11:39:47+00:00",
          "2024-10-28T15:20:11+00:00",
          "2024-10-28T19:00:35+00:00",
          "2024-10-28T22:40:23+00:00",
          "2024-10-29T02:20:47+00:00",
          "2024-10-29T06:00:35+00:00",
          "2024-10-29T09:41:11+00:00",
          "2024-10-29T13:21:35+00:00",
          "2024-10-29T17:01:11+00:00",
          "2024-10-29T20:40:35+00:00",
          "2024-10-30T00:20:23+00:00",
          "2024-10-30T04:00:11+00:00",
          "2024-10-30T07:40:35+00:00",
          "2024-10-30T11:21:47+00:00",
          "2024-10-30T15:03:35+00:00",
          "2024-10-30T18:43:11+00:00",
          "2024-10-30T22:22:47+00:00",
          "2024-10-31T02:02:11+00:00",
          "2024-10-31T05:42:59+00:00",
          "2024-10-31T09:23:35+00:00",
          "2024-10-31T13:02:47+00:00",
          "2024-10-31T16:42:11+00:00",
          "2024-10-31T20:21:35+00:00",
          "2024-11-01T00:01:23+00:00",
          "2024-11-01T03:41:11+00:00",
          "2024-11-01T07:20:59+00:00",
          "2024-11-01T11:00:47+00:00",
          "2024-11-01T14:40:35+00:00",
          "2024-11-01T18:20:23+00:00",
          "2024-11-01T22:00:35+00:00",
          "2024-11-02T01:40:47+00:00",
          "2024-11-02T05:21:11+00:00",
          "2024-11-02T09:00:59+00:00",
          "2024-11-02T12:41:59+00:00",
          "2024-11-02T16:22:35+00:00",
          "2024-11-02T20:02:35+00:00",
          "2024-11-02T23:43:35+00:00",
          "2024-11-03T03:24:23+00:00",
          "2024-11-03T07:04:35+00:00",
          "2024-11-03T10:43:47+00:00",
          "2024-11-03T14:23:47+00:00",
          "2024-11-03T18:04:35+00:00",
          "2024-11-03T21:43:59+00:00",
          "2024-11-04T01:23:47+00:00",
          "2024-11-04T05:03:47+00:00",
          "2024-11-04T08:42:59+00:00",
          "2024-11-04T12:23:35+00:00",
          "2024-11-04T16:02:59+00:00",
          "2024-11-04T19:43:23+00:00",
          "2024-11-04T23:23:23+00:00",
          "2024-11-05T03:03:23+00:00",
          "2024-11-05T06:44:11+00:00",
          "2024-11-05T10:24:11+00:00",
          "2024-11-05T14:04:11+00:00",
          "2024-11-05T17:44:23+00:00",
          "2024-11-05T21:25:11+00:00",
          "2024-11-06T01:04:59+00:00",
          "2024-11-06T04:44:23+00:00",
          "2024-11-06T08:24:23+00:00",
          "2024-11-06T12:05:23+00:00",
          "2024-11-06T15:45:47+00:00"
         ],
         "xaxis": "x",
         "y": [
          0.1289,
          0.1289,
          0.1362,
          0.1362,
          0.1362,
          0.1362,
          0.1362,
          0.1362,
          0.1362,
          0.158,
          0.158,
          0.158,
          0.158,
          0.158,
          0.158,
          0.2336,
          0.2336,
          0.2554,
          0.2554,
          0.2554,
          0.2554,
          0.2554,
          0.2233,
          0.2233,
          0.2233,
          0.2233,
          0.2233,
          0.2233,
          0.2782,
          0.2782,
          0.2782,
          0.2782,
          0.2782,
          0.2782,
          0.2936,
          0.2635,
          0.2635,
          0.2635,
          0.2635,
          0.2635,
          0.2635,
          0.2635,
          0.3148,
          0.3148,
          0.3148,
          0.3148,
          0.3148,
          0.3148,
          0.3135,
          0.3135,
          0.3135,
          0.3135,
          0.3135,
          0.3135,
          0.3135,
          0.371,
          0.371,
          0.371,
          0.371,
          0.3948,
          0.3948,
          0.3614,
          0.3614,
          0.3614,
          0.3614,
          0.3614,
          0.3614,
          0.3614,
          0.2939,
          0.2939,
          0.2939,
          0.2939,
          0.2939,
          0.2939,
          0.6221,
          0.6335,
          0.6335,
          0.6335,
          0.6335,
          0.6335,
          0.6377,
          0.321,
          0.321,
          0.321,
          0.321,
          0.321,
          0.321,
          0.4341,
          0.4341,
          0.4341,
          0.4341,
          0.4341,
          0.4341,
          0.4341,
          0.3764,
          0.3764,
          0.3764,
          0.3764,
          0.3764,
          0.3895,
          0.368,
          0.368,
          0.368,
          0.368,
          0.368,
          0.368,
          0.368,
          0.4633,
          0.4633,
          0.4633,
          0.4633,
          0.4633,
          0.4633,
          0.4764,
          0.4764,
          0.4764,
          0.4764,
          0.4764,
          0.4764,
          0.4764,
          0.2019,
          0.2019,
          0.2019,
          0.2019,
          0.2019,
          0.2019,
          0.1835,
          0.1835,
          0.1835,
          0.1835,
          0.1835,
          0.1835,
          0.1835,
          0.2033,
          0.2033,
          0.2033,
          0.2033,
          0.2033,
          0.2033,
          0.2033,
          0.1564,
          0.1564,
          0.1564,
          0.1564,
          0.1564,
          0.1833,
          0.1856,
          0.1856,
          0.1856,
          0.1856,
          0.1856,
          0.1856,
          0.1856,
          0.1536,
          0.1536,
          0.1536,
          0.1536,
          0.1536,
          0.1536,
          0.1527,
          0.1527,
          0.175,
          0.175,
          0.175,
          0.175,
          0.175,
          0.1619,
          0.1619,
          0.1619,
          0.1619,
          0.1619,
          0.1619,
          0.1619,
          0.2339,
          0.2339,
          0.2339,
          0.2339,
          0.2339,
          0.2339,
          0.2753,
          0.2753,
          0.2753,
          0.2753,
          0.2753,
          0.2753,
          0.2753,
          0.2825,
          0.3137,
          0.3137,
          0.3137,
          0.3137,
          0.3137,
          0.0725,
          0.0725,
          0.0725,
          0.0725,
          0.0725,
          0.0725,
          0.0725,
          0.1546,
          0.1546,
          0.1546,
          0.1546,
          0.1546,
          0.1771,
          0.1805,
          0.1805,
          0.1805,
          0.1805,
          0.1805,
          0.1805,
          0.1805,
          0.1807,
          0.1807,
          0.1807,
          0.1807,
          0.1807,
          0.1807,
          0.1375,
          0.1375,
          0.1375,
          0.1375,
          0.1375,
          0.16,
          0.16,
          0.2116,
          0.2116,
          0.2116,
          0.2116,
          0.2116,
          0.2116,
          0.2673,
          0.2673,
          0.2673,
          0.2673,
          0.2673,
          0.2673,
          0.2673,
          0.2856,
          0.2856,
          null,
          null,
          null,
          null,
          null,
          null,
          null,
          null,
          null,
          null,
          null,
          null,
          null,
          null,
          null,
          null,
          null,
          null,
          null,
          null,
          0.2607,
          0.2607,
          0.2607,
          0.2607,
          0.2531,
          0.2531,
          0.2531,
          0.2531,
          0.2531,
          0.2531,
          0.2676,
          0.2676,
          0.3043,
          0.3043,
          0.3043,
          0.3043,
          0.3043,
          0.2505,
          0.2505,
          0.2505,
          0.2505,
          0.2505,
          0.2505,
          0.1556,
          0.1556,
          0.1556,
          0.1556,
          0.1556,
          0.1556,
          0.1556,
          0.3268,
          0.3268,
          0.3268,
          0.3268,
          0.3268,
          0.3268,
          0.3268,
          0.4331,
          0.4331,
          0.4331,
          0.4331,
          0.4331,
          0.456,
          0.35,
          0.35,
          0.35,
          0.35,
          0.35,
          0.35,
          0.35,
          0.3333,
          0.3333,
          0.3469,
          0.3469,
          0.3469,
          0.3469,
          0.3469,
          0.3755,
          0.3755,
          0.372,
          0.372,
          0.372,
          0.372,
          0.372,
          0.372,
          0.347,
          0.347,
          0.347,
          0.347,
          0.3903,
          0.3918,
          0.4131,
          0.4131,
          0.4131,
          0.4131,
          0.4131,
          0.4441,
          0.4441,
          0.4441,
          0.4441,
          0.4441,
          0.4441,
          0.4441,
          0.414,
          0.4465
         ],
         "yaxis": "y"
        },
        {
         "hovertemplate": "variable=rsETH<br>timestamp=%{x}<br>value=%{y}<extra></extra>",
         "legendgroup": "rsETH",
         "line": {
          "color": "#00cc96",
          "dash": "solid"
         },
         "marker": {
          "symbol": "circle"
         },
         "mode": "lines",
         "name": "rsETH",
         "showlegend": true,
         "type": "scattergl",
         "x": [
          "2024-09-15T02:04:47+00:00",
          "2024-09-15T05:44:35+00:00",
          "2024-09-15T09:24:47+00:00",
          "2024-09-15T13:04:11+00:00",
          "2024-09-15T16:44:23+00:00",
          "2024-09-15T20:23:35+00:00",
          "2024-09-16T00:03:11+00:00",
          "2024-09-16T03:43:47+00:00",
          "2024-09-16T07:23:23+00:00",
          "2024-09-16T11:04:47+00:00",
          "2024-09-16T14:46:11+00:00",
          "2024-09-16T18:26:47+00:00",
          "2024-09-16T22:06:23+00:00",
          "2024-09-17T01:46:35+00:00",
          "2024-09-17T05:27:47+00:00",
          "2024-09-17T09:08:35+00:00",
          "2024-09-17T12:48:23+00:00",
          "2024-09-17T16:29:11+00:00",
          "2024-09-17T20:09:47+00:00",
          "2024-09-17T23:50:47+00:00",
          "2024-09-18T03:30:35+00:00",
          "2024-09-18T07:11:35+00:00",
          "2024-09-18T10:51:35+00:00",
          "2024-09-18T14:32:23+00:00",
          "2024-09-18T18:12:23+00:00",
          "2024-09-18T21:52:47+00:00",
          "2024-09-19T01:33:11+00:00",
          "2024-09-19T05:13:23+00:00",
          "2024-09-19T08:53:23+00:00",
          "2024-09-19T12:33:23+00:00",
          "2024-09-19T16:13:23+00:00",
          "2024-09-19T19:53:23+00:00",
          "2024-09-19T23:33:11+00:00",
          "2024-09-20T03:13:35+00:00",
          "2024-09-20T06:54:11+00:00",
          "2024-09-20T10:35:11+00:00",
          "2024-09-20T14:14:59+00:00",
          "2024-09-20T17:54:59+00:00",
          "2024-09-20T21:35:23+00:00",
          "2024-09-21T01:16:23+00:00",
          "2024-09-21T04:56:23+00:00",
          "2024-09-21T08:38:11+00:00",
          "2024-09-21T12:18:11+00:00",
          "2024-09-21T15:58:11+00:00",
          "2024-09-21T19:38:11+00:00",
          "2024-09-21T23:19:11+00:00",
          "2024-09-22T02:58:47+00:00",
          "2024-09-22T06:38:35+00:00",
          "2024-09-22T10:18:23+00:00",
          "2024-09-22T13:58:11+00:00",
          "2024-09-22T17:37:59+00:00",
          "2024-09-22T21:18:11+00:00",
          "2024-09-23T00:57:47+00:00",
          "2024-09-23T04:37:23+00:00",
          "2024-09-23T08:17:35+00:00",
          "2024-09-23T11:58:59+00:00",
          "2024-09-23T15:38:59+00:00",
          "2024-09-23T19:18:59+00:00",
          "2024-09-23T22:58:59+00:00",
          "2024-09-24T02:38:47+00:00",
          "2024-09-24T06:18:23+00:00",
          "2024-09-24T09:57:47+00:00",
          "2024-09-24T13:37:23+00:00",
          "2024-09-24T17:17:47+00:00",
          "2024-09-24T20:57:11+00:00",
          "2024-09-25T00:36:59+00:00",
          "2024-09-25T04:17:23+00:00",
          "2024-09-25T07:57:11+00:00",
          "2024-09-25T11:37:35+00:00",
          "2024-09-25T15:18:35+00:00",
          "2024-09-25T18:59:35+00:00",
          "2024-09-25T22:38:47+00:00",
          "2024-09-26T02:18:35+00:00",
          "2024-09-26T05:58:23+00:00",
          "2024-09-26T09:37:59+00:00",
          "2024-09-26T13:17:35+00:00",
          "2024-09-26T16:56:59+00:00",
          "2024-09-26T20:36:59+00:00",
          "2024-09-27T00:17:47+00:00",
          "2024-09-27T03:57:35+00:00",
          "2024-09-27T07:37:11+00:00",
          "2024-09-27T11:16:59+00:00",
          "2024-09-27T14:56:47+00:00",
          "2024-09-27T18:36:47+00:00",
          "2024-09-27T22:16:11+00:00",
          "2024-09-28T01:55:59+00:00",
          "2024-09-28T05:36:23+00:00",
          "2024-09-28T09:15:59+00:00",
          "2024-09-28T12:55:47+00:00",
          "2024-09-28T16:35:23+00:00",
          "2024-09-28T20:15:47+00:00",
          "2024-09-28T23:56:35+00:00",
          "2024-09-29T03:36:47+00:00",
          "2024-09-29T07:17:11+00:00",
          "2024-09-29T10:56:47+00:00",
          "2024-09-29T14:36:35+00:00",
          "2024-09-29T18:16:11+00:00",
          "2024-09-29T21:56:47+00:00",
          "2024-09-30T01:36:35+00:00",
          "2024-09-30T05:16:35+00:00",
          "2024-09-30T08:55:59+00:00",
          "2024-09-30T12:35:23+00:00",
          "2024-09-30T16:15:11+00:00",
          "2024-09-30T19:54:47+00:00",
          "2024-09-30T23:34:23+00:00",
          "2024-10-01T03:13:59+00:00",
          "2024-10-01T06:53:59+00:00",
          "2024-10-01T10:33:35+00:00",
          "2024-10-01T14:13:47+00:00",
          "2024-10-01T17:54:11+00:00",
          "2024-10-01T21:34:23+00:00",
          "2024-10-02T01:14:11+00:00",
          "2024-10-02T04:54:11+00:00",
          "2024-10-02T08:33:47+00:00",
          "2024-10-02T12:12:59+00:00",
          "2024-10-02T15:53:11+00:00",
          "2024-10-02T19:33:23+00:00",
          "2024-10-02T23:12:47+00:00",
          "2024-10-03T02:52:11+00:00",
          "2024-10-03T06:32:23+00:00",
          "2024-10-03T10:11:59+00:00",
          "2024-10-03T13:51:59+00:00",
          "2024-10-03T17:33:23+00:00",
          "2024-10-03T21:13:47+00:00",
          "2024-10-04T00:53:11+00:00",
          "2024-10-04T04:32:23+00:00",
          "2024-10-04T08:11:59+00:00",
          "2024-10-04T11:51:23+00:00",
          "2024-10-04T15:30:59+00:00",
          "2024-10-04T19:10:35+00:00",
          "2024-10-04T22:50:23+00:00",
          "2024-10-05T02:30:35+00:00",
          "2024-10-05T06:09:59+00:00",
          "2024-10-05T09:49:59+00:00",
          "2024-10-05T13:29:23+00:00",
          "2024-10-05T17:09:23+00:00",
          "2024-10-05T20:48:59+00:00",
          "2024-10-06T00:28:11+00:00",
          "2024-10-06T04:07:47+00:00",
          "2024-10-06T07:47:35+00:00",
          "2024-10-06T11:27:47+00:00",
          "2024-10-06T15:07:47+00:00",
          "2024-10-06T18:47:35+00:00",
          "2024-10-06T22:27:23+00:00",
          "2024-10-07T02:07:35+00:00",
          "2024-10-07T05:47:35+00:00",
          "2024-10-07T09:27:11+00:00",
          "2024-10-07T13:06:35+00:00",
          "2024-10-07T16:46:47+00:00",
          "2024-10-07T20:26:23+00:00",
          "2024-10-08T00:05:59+00:00",
          "2024-10-08T03:45:47+00:00",
          "2024-10-08T07:25:35+00:00",
          "2024-10-08T11:04:59+00:00",
          "2024-10-08T14:44:47+00:00",
          "2024-10-08T18:24:11+00:00",
          "2024-10-08T22:04:47+00:00",
          "2024-10-09T01:44:35+00:00",
          "2024-10-09T05:23:47+00:00",
          "2024-10-09T09:03:35+00:00",
          "2024-10-09T12:43:59+00:00",
          "2024-10-09T16:23:11+00:00",
          "2024-10-09T20:02:59+00:00",
          "2024-10-09T23:42:35+00:00",
          "2024-10-10T03:22:23+00:00",
          "2024-10-10T07:02:23+00:00",
          "2024-10-10T10:42:11+00:00",
          "2024-10-10T14:21:47+00:00",
          "2024-10-10T18:01:11+00:00",
          "2024-10-10T21:40:59+00:00",
          "2024-10-11T01:20:35+00:00",
          "2024-10-11T05:00:35+00:00",
          "2024-10-11T08:40:59+00:00",
          "2024-10-11T12:21:35+00:00",
          "2024-10-11T16:02:35+00:00",
          "2024-10-11T19:42:47+00:00",
          "2024-10-11T23:23:35+00:00",
          "2024-10-12T03:04:23+00:00",
          "2024-10-12T06:44:47+00:00",
          "2024-10-12T10:26:35+00:00",
          "2024-10-12T14:06:59+00:00",
          "2024-10-12T17:46:59+00:00",
          "2024-10-12T21:27:35+00:00",
          "2024-10-13T01:07:59+00:00",
          "2024-10-13T04:50:11+00:00",
          "2024-10-13T08:32:47+00:00",
          "2024-10-13T12:14:23+00:00",
          "2024-10-13T15:54:11+00:00",
          "2024-10-13T19:34:11+00:00",
          "2024-10-13T23:14:47+00:00",
          "2024-10-14T02:54:59+00:00",
          "2024-10-14T06:34:47+00:00",
          "2024-10-14T10:16:11+00:00",
          "2024-10-14T13:57:11+00:00",
          "2024-10-14T17:36:59+00:00",
          "2024-10-14T21:17:23+00:00",
          "2024-10-15T00:57:23+00:00",
          "2024-10-15T04:37:47+00:00",
          "2024-10-15T08:17:23+00:00",
          "2024-10-15T11:57:59+00:00",
          "2024-10-15T15:38:35+00:00",
          "2024-10-15T19:18:59+00:00",
          "2024-10-15T22:59:11+00:00",
          "2024-10-16T02:39:59+00:00",
          "2024-10-16T06:19:59+00:00",
          "2024-10-16T09:59:59+00:00",
          "2024-10-16T13:40:11+00:00",
          "2024-10-16T17:20:11+00:00",
          "2024-10-16T21:00:23+00:00",
          "2024-10-17T00:40:59+00:00",
          "2024-10-17T04:21:11+00:00",
          "2024-10-17T08:01:11+00:00",
          "2024-10-17T11:40:47+00:00",
          "2024-10-17T15:21:11+00:00",
          "2024-10-17T19:01:23+00:00",
          "2024-10-17T22:41:35+00:00",
          "2024-10-18T02:21:35+00:00",
          "2024-10-18T06:01:59+00:00",
          "2024-10-18T09:42:11+00:00",
          "2024-10-18T13:21:47+00:00",
          "2024-10-18T17:02:11+00:00",
          "2024-10-18T20:41:47+00:00",
          "2024-10-19T00:21:47+00:00",
          "2024-10-19T04:01:47+00:00",
          "2024-10-19T07:42:23+00:00",
          "2024-10-19T11:21:59+00:00",
          "2024-10-19T15:01:59+00:00",
          "2024-10-19T18:41:47+00:00",
          "2024-10-19T22:21:23+00:00",
          "2024-10-20T02:00:47+00:00",
          "2024-10-20T05:40:47+00:00",
          "2024-10-20T09:20:35+00:00",
          "2024-10-20T12:59:59+00:00",
          "2024-10-20T16:40:59+00:00",
          "2024-10-20T20:20:47+00:00",
          "2024-10-21T00:00:59+00:00",
          "2024-10-21T03:41:35+00:00",
          "2024-10-21T07:21:35+00:00",
          "2024-10-21T11:00:59+00:00",
          "2024-10-21T14:40:59+00:00",
          "2024-10-21T18:20:23+00:00",
          "2024-10-21T22:00:35+00:00",
          "2024-10-22T01:40:59+00:00",
          "2024-10-22T05:21:11+00:00",
          "2024-10-22T09:01:23+00:00",
          "2024-10-22T12:41:35+00:00",
          "2024-10-22T16:21:35+00:00",
          "2024-10-22T20:01:35+00:00",
          "2024-10-22T23:42:23+00:00",
          "2024-10-23T03:22:35+00:00",
          "2024-10-23T07:01:35+00:00",
          "2024-10-23T10:41:35+00:00",
          "2024-10-23T14:21:11+00:00",
          "2024-10-23T18:00:59+00:00",
          "2024-10-23T21:40:11+00:00",
          "2024-10-24T01:20:47+00:00",
          "2024-10-24T05:00:47+00:00",
          "2024-10-24T08:40:59+00:00",
          "2024-10-24T12:20:35+00:00",
          "2024-10-24T16:00:35+00:00",
          "2024-10-24T19:40:11+00:00",
          "2024-10-24T23:19:59+00:00",
          "2024-10-25T02:59:59+00:00",
          "2024-10-25T06:40:11+00:00",
          "2024-10-25T10:19:35+00:00",
          "2024-10-25T13:59:35+00:00",
          "2024-10-25T17:39:35+00:00",
          "2024-10-25T21:19:11+00:00",
          "2024-10-26T00:58:59+00:00",
          "2024-10-26T04:39:23+00:00",
          "2024-10-26T08:19:11+00:00",
          "2024-10-26T11:59:59+00:00",
          "2024-10-26T15:40:35+00:00",
          "2024-10-26T19:20:11+00:00",
          "2024-10-26T22:59:59+00:00",
          "2024-10-27T02:40:11+00:00",
          "2024-10-27T06:19:47+00:00",
          "2024-10-27T09:59:23+00:00",
          "2024-10-27T13:40:11+00:00",
          "2024-10-27T17:19:47+00:00",
          "2024-10-27T20:59:11+00:00",
          "2024-10-28T00:38:35+00:00",
          "2024-10-28T04:18:47+00:00",
          "2024-10-28T07:59:47+00:00",
          "2024-10-28T11:39:47+00:00",
          "2024-10-28T15:20:11+00:00",
          "2024-10-28T19:00:35+00:00",
          "2024-10-28T22:40:23+00:00",
          "2024-10-29T02:20:47+00:00",
          "2024-10-29T06:00:35+00:00",
          "2024-10-29T09:41:11+00:00",
          "2024-10-29T13:21:35+00:00",
          "2024-10-29T17:01:11+00:00",
          "2024-10-29T20:40:35+00:00",
          "2024-10-30T00:20:23+00:00",
          "2024-10-30T04:00:11+00:00",
          "2024-10-30T07:40:35+00:00",
          "2024-10-30T11:21:47+00:00",
          "2024-10-30T15:03:35+00:00",
          "2024-10-30T18:43:11+00:00",
          "2024-10-30T22:22:47+00:00",
          "2024-10-31T02:02:11+00:00",
          "2024-10-31T05:42:59+00:00",
          "2024-10-31T09:23:35+00:00",
          "2024-10-31T13:02:47+00:00",
          "2024-10-31T16:42:11+00:00",
          "2024-10-31T20:21:35+00:00",
          "2024-11-01T00:01:23+00:00",
          "2024-11-01T03:41:11+00:00",
          "2024-11-01T07:20:59+00:00",
          "2024-11-01T11:00:47+00:00",
          "2024-11-01T14:40:35+00:00",
          "2024-11-01T18:20:23+00:00",
          "2024-11-01T22:00:35+00:00",
          "2024-11-02T01:40:47+00:00",
          "2024-11-02T05:21:11+00:00",
          "2024-11-02T09:00:59+00:00",
          "2024-11-02T12:41:59+00:00",
          "2024-11-02T16:22:35+00:00",
          "2024-11-02T20:02:35+00:00",
          "2024-11-02T23:43:35+00:00",
          "2024-11-03T03:24:23+00:00",
          "2024-11-03T07:04:35+00:00",
          "2024-11-03T10:43:47+00:00",
          "2024-11-03T14:23:47+00:00",
          "2024-11-03T18:04:35+00:00",
          "2024-11-03T21:43:59+00:00",
          "2024-11-04T01:23:47+00:00",
          "2024-11-04T05:03:47+00:00",
          "2024-11-04T08:42:59+00:00",
          "2024-11-04T12:23:35+00:00",
          "2024-11-04T16:02:59+00:00",
          "2024-11-04T19:43:23+00:00",
          "2024-11-04T23:23:23+00:00",
          "2024-11-05T03:03:23+00:00",
          "2024-11-05T06:44:11+00:00",
          "2024-11-05T10:24:11+00:00",
          "2024-11-05T14:04:11+00:00",
          "2024-11-05T17:44:23+00:00",
          "2024-11-05T21:25:11+00:00",
          "2024-11-06T01:04:59+00:00",
          "2024-11-06T04:44:23+00:00",
          "2024-11-06T08:24:23+00:00",
          "2024-11-06T12:05:23+00:00",
          "2024-11-06T15:45:47+00:00"
         ],
         "xaxis": "x",
         "y": [
          0.1191,
          0.1694,
          0.1062,
          0.1062,
          0.1062,
          0.1062,
          0.1062,
          0.1062,
          0.1062,
          0.1317,
          0.1317,
          0.1317,
          0.1317,
          0.1317,
          0.1372,
          0.1479,
          0.1479,
          0.1479,
          0.1479,
          0.1479,
          0.1479,
          0.1479,
          0.1333,
          0.1333,
          0.1333,
          0.1333,
          0.1333,
          0.1333,
          0.1454,
          0.1454,
          0.1454,
          0.1454,
          0.1454,
          0.1454,
          0.1571,
          0.1596,
          0.1596,
          0.1596,
          0.1596,
          0.1596,
          0.1596,
          0.1596,
          0.1697,
          0.1697,
          0.1697,
          0.1697,
          0.1697,
          0.179,
          0.1828,
          0.1828,
          0.1828,
          0.1828,
          0.1828,
          0.1828,
          0.1828,
          0.194,
          0.194,
          0.194,
          0.194,
          0.194,
          0.194,
          0.2114,
          0.2114,
          0.2114,
          0.2114,
          0.2114,
          0.2114,
          0.2114,
          0.1542,
          0.1542,
          0.1542,
          0.1542,
          0.1542,
          0.1542,
          0.2033,
          0.2291,
          0.2291,
          0.2291,
          0.2291,
          0.2291,
          0.2567,
          0.2614,
          0.2614,
          0.2614,
          0.2614,
          0.2614,
          0.2614,
          0.3034,
          0.3034,
          0.3034,
          0.3034,
          0.3034,
          0.3034,
          0.3143,
          0.2634,
          0.2634,
          0.2634,
          0.2634,
          0.2634,
          0.2634,
          0.2349,
          0.2349,
          0.2349,
          0.2349,
          0.2349,
          0.2349,
          0.2416,
          0.1898,
          0.1898,
          0.1898,
          0.1898,
          0.1898,
          0.1898,
          0.1756,
          0.1756,
          0.1756,
          0.1756,
          0.1756,
          0.1756,
          0.1756,
          0.179,
          0.179,
          0.179,
          0.179,
          0.179,
          0.19,
          0.1902,
          0.1902,
          0.1902,
          0.1902,
          0.1902,
          0.1902,
          0.1902,
          0.1968,
          0.1968,
          0.1968,
          0.1968,
          0.1968,
          0.2047,
          0.2047,
          0.2021,
          0.2021,
          0.2021,
          0.2021,
          0.2021,
          0.2021,
          0.1751,
          0.1751,
          0.1751,
          0.1751,
          0.1751,
          0.1751,
          0.235,
          0.2308,
          0.2308,
          0.2308,
          0.2308,
          0.2308,
          0.2308,
          0.2438,
          0.2438,
          0.2438,
          0.2438,
          0.2438,
          0.2438,
          0.2438,
          0.167,
          0.167,
          0.167,
          0.167,
          0.167,
          0.179,
          0.179,
          0.1573,
          0.1573,
          0.1573,
          0.1573,
          0.1573,
          0.1573,
          0.0637,
          0.0637,
          0.0637,
          0.0637,
          0.0637,
          0.0676,
          0.0676,
          0.0642,
          0.0642,
          0.0642,
          0.0642,
          0.0642,
          0.0642,
          0.056,
          0.056,
          0.056,
          0.056,
          0.056,
          0.0586,
          0.0586,
          0.0621,
          0.0621,
          0.0621,
          0.0621,
          0.0621,
          0.0621,
          0.072,
          0.072,
          0.072,
          0.072,
          0.072,
          0.072,
          0.1289,
          0.0912,
          0.0912,
          0.0912,
          0.0912,
          0.0912,
          0.0939,
          0.0485,
          0.0485,
          0.0429,
          0.0429,
          0.0429,
          0.0429,
          0.0429,
          0.0429,
          0.0429,
          0.0375,
          0.0375,
          0.0375,
          0.0448,
          0.0448,
          0.0448,
          0.068,
          0.068,
          0.068,
          0.068,
          0.068,
          0.068,
          0.068,
          0.07,
          0.07,
          0.07,
          0.077,
          0.077,
          0.077,
          0.077,
          0.0832,
          0.0832,
          0.0832,
          0.0832,
          0.0533,
          0.0533,
          0.0533,
          0.0533,
          0.0533,
          0.0625,
          0.083,
          0.083,
          0.083,
          0.083,
          0.083,
          0.083,
          0.0832,
          0.087,
          0.087,
          0.087,
          0.087,
          0.087,
          0.087,
          0.1523,
          0.1523,
          0.1523,
          0.1523,
          0.1523,
          0.1523,
          0.1635,
          0.1241,
          0.1241,
          0.1241,
          0.1241,
          0.1241,
          0.1289,
          0.1434,
          0.1434,
          0.1434,
          0.1434,
          0.1434,
          0.1434,
          0.1991,
          0.1738,
          0.1738,
          0.1738,
          0.1738,
          0.1738,
          0.1738,
          0.1738,
          0.2009,
          0.2009,
          0.2009,
          0.2009,
          0.2009,
          0.205,
          0.2295,
          0.2295,
          0.2295,
          0.2295,
          0.2295,
          0.2295,
          0.2296,
          0.2326,
          0.2326,
          0.2375,
          0.2375,
          0.2375,
          0.2482,
          0.2482,
          0.2482,
          0.2482,
          0.2279,
          0.2279,
          0.2279,
          0.2304,
          0.2304,
          0.2304,
          0.2563,
          0.2563,
          0.2563,
          0.2563,
          0.2563,
          0.2563,
          0.2563,
          0.2481,
          0.2481,
          0.2481,
          0.2538,
          0.1369,
          0.1369,
          0.1369,
          0.1369,
          0.1369,
          0.1369,
          0.1369,
          0.1349,
          0.1314
         ],
         "yaxis": "y"
        }
       ],
       "layout": {
        "legend": {
         "title": {
          "text": "variable"
         },
         "tracegroupgap": 0
        },
        "margin": {
         "t": 60
        },
        "template": {
         "data": {
          "bar": [
           {
            "error_x": {
             "color": "#2a3f5f"
            },
            "error_y": {
             "color": "#2a3f5f"
            },
            "marker": {
             "line": {
              "color": "#E5ECF6",
              "width": 0.5
             },
             "pattern": {
              "fillmode": "overlay",
              "size": 10,
              "solidity": 0.2
             }
            },
            "type": "bar"
           }
          ],
          "barpolar": [
           {
            "marker": {
             "line": {
              "color": "#E5ECF6",
              "width": 0.5
             },
             "pattern": {
              "fillmode": "overlay",
              "size": 10,
              "solidity": 0.2
             }
            },
            "type": "barpolar"
           }
          ],
          "carpet": [
           {
            "aaxis": {
             "endlinecolor": "#2a3f5f",
             "gridcolor": "white",
             "linecolor": "white",
             "minorgridcolor": "white",
             "startlinecolor": "#2a3f5f"
            },
            "baxis": {
             "endlinecolor": "#2a3f5f",
             "gridcolor": "white",
             "linecolor": "white",
             "minorgridcolor": "white",
             "startlinecolor": "#2a3f5f"
            },
            "type": "carpet"
           }
          ],
          "choropleth": [
           {
            "colorbar": {
             "outlinewidth": 0,
             "ticks": ""
            },
            "type": "choropleth"
           }
          ],
          "contour": [
           {
            "colorbar": {
             "outlinewidth": 0,
             "ticks": ""
            },
            "colorscale": [
             [
              0,
              "#0d0887"
             ],
             [
              0.1111111111111111,
              "#46039f"
             ],
             [
              0.2222222222222222,
              "#7201a8"
             ],
             [
              0.3333333333333333,
              "#9c179e"
             ],
             [
              0.4444444444444444,
              "#bd3786"
             ],
             [
              0.5555555555555556,
              "#d8576b"
             ],
             [
              0.6666666666666666,
              "#ed7953"
             ],
             [
              0.7777777777777778,
              "#fb9f3a"
             ],
             [
              0.8888888888888888,
              "#fdca26"
             ],
             [
              1,
              "#f0f921"
             ]
            ],
            "type": "contour"
           }
          ],
          "contourcarpet": [
           {
            "colorbar": {
             "outlinewidth": 0,
             "ticks": ""
            },
            "type": "contourcarpet"
           }
          ],
          "heatmap": [
           {
            "colorbar": {
             "outlinewidth": 0,
             "ticks": ""
            },
            "colorscale": [
             [
              0,
              "#0d0887"
             ],
             [
              0.1111111111111111,
              "#46039f"
             ],
             [
              0.2222222222222222,
              "#7201a8"
             ],
             [
              0.3333333333333333,
              "#9c179e"
             ],
             [
              0.4444444444444444,
              "#bd3786"
             ],
             [
              0.5555555555555556,
              "#d8576b"
             ],
             [
              0.6666666666666666,
              "#ed7953"
             ],
             [
              0.7777777777777778,
              "#fb9f3a"
             ],
             [
              0.8888888888888888,
              "#fdca26"
             ],
             [
              1,
              "#f0f921"
             ]
            ],
            "type": "heatmap"
           }
          ],
          "heatmapgl": [
           {
            "colorbar": {
             "outlinewidth": 0,
             "ticks": ""
            },
            "colorscale": [
             [
              0,
              "#0d0887"
             ],
             [
              0.1111111111111111,
              "#46039f"
             ],
             [
              0.2222222222222222,
              "#7201a8"
             ],
             [
              0.3333333333333333,
              "#9c179e"
             ],
             [
              0.4444444444444444,
              "#bd3786"
             ],
             [
              0.5555555555555556,
              "#d8576b"
             ],
             [
              0.6666666666666666,
              "#ed7953"
             ],
             [
              0.7777777777777778,
              "#fb9f3a"
             ],
             [
              0.8888888888888888,
              "#fdca26"
             ],
             [
              1,
              "#f0f921"
             ]
            ],
            "type": "heatmapgl"
           }
          ],
          "histogram": [
           {
            "marker": {
             "pattern": {
              "fillmode": "overlay",
              "size": 10,
              "solidity": 0.2
             }
            },
            "type": "histogram"
           }
          ],
          "histogram2d": [
           {
            "colorbar": {
             "outlinewidth": 0,
             "ticks": ""
            },
            "colorscale": [
             [
              0,
              "#0d0887"
             ],
             [
              0.1111111111111111,
              "#46039f"
             ],
             [
              0.2222222222222222,
              "#7201a8"
             ],
             [
              0.3333333333333333,
              "#9c179e"
             ],
             [
              0.4444444444444444,
              "#bd3786"
             ],
             [
              0.5555555555555556,
              "#d8576b"
             ],
             [
              0.6666666666666666,
              "#ed7953"
             ],
             [
              0.7777777777777778,
              "#fb9f3a"
             ],
             [
              0.8888888888888888,
              "#fdca26"
             ],
             [
              1,
              "#f0f921"
             ]
            ],
            "type": "histogram2d"
           }
          ],
          "histogram2dcontour": [
           {
            "colorbar": {
             "outlinewidth": 0,
             "ticks": ""
            },
            "colorscale": [
             [
              0,
              "#0d0887"
             ],
             [
              0.1111111111111111,
              "#46039f"
             ],
             [
              0.2222222222222222,
              "#7201a8"
             ],
             [
              0.3333333333333333,
              "#9c179e"
             ],
             [
              0.4444444444444444,
              "#bd3786"
             ],
             [
              0.5555555555555556,
              "#d8576b"
             ],
             [
              0.6666666666666666,
              "#ed7953"
             ],
             [
              0.7777777777777778,
              "#fb9f3a"
             ],
             [
              0.8888888888888888,
              "#fdca26"
             ],
             [
              1,
              "#f0f921"
             ]
            ],
            "type": "histogram2dcontour"
           }
          ],
          "mesh3d": [
           {
            "colorbar": {
             "outlinewidth": 0,
             "ticks": ""
            },
            "type": "mesh3d"
           }
          ],
          "parcoords": [
           {
            "line": {
             "colorbar": {
              "outlinewidth": 0,
              "ticks": ""
             }
            },
            "type": "parcoords"
           }
          ],
          "pie": [
           {
            "automargin": true,
            "type": "pie"
           }
          ],
          "scatter": [
           {
            "fillpattern": {
             "fillmode": "overlay",
             "size": 10,
             "solidity": 0.2
            },
            "type": "scatter"
           }
          ],
          "scatter3d": [
           {
            "line": {
             "colorbar": {
              "outlinewidth": 0,
              "ticks": ""
             }
            },
            "marker": {
             "colorbar": {
              "outlinewidth": 0,
              "ticks": ""
             }
            },
            "type": "scatter3d"
           }
          ],
          "scattercarpet": [
           {
            "marker": {
             "colorbar": {
              "outlinewidth": 0,
              "ticks": ""
             }
            },
            "type": "scattercarpet"
           }
          ],
          "scattergeo": [
           {
            "marker": {
             "colorbar": {
              "outlinewidth": 0,
              "ticks": ""
             }
            },
            "type": "scattergeo"
           }
          ],
          "scattergl": [
           {
            "marker": {
             "colorbar": {
              "outlinewidth": 0,
              "ticks": ""
             }
            },
            "type": "scattergl"
           }
          ],
          "scattermapbox": [
           {
            "marker": {
             "colorbar": {
              "outlinewidth": 0,
              "ticks": ""
             }
            },
            "type": "scattermapbox"
           }
          ],
          "scatterpolar": [
           {
            "marker": {
             "colorbar": {
              "outlinewidth": 0,
              "ticks": ""
             }
            },
            "type": "scatterpolar"
           }
          ],
          "scatterpolargl": [
           {
            "marker": {
             "colorbar": {
              "outlinewidth": 0,
              "ticks": ""
             }
            },
            "type": "scatterpolargl"
           }
          ],
          "scatterternary": [
           {
            "marker": {
             "colorbar": {
              "outlinewidth": 0,
              "ticks": ""
             }
            },
            "type": "scatterternary"
           }
          ],
          "surface": [
           {
            "colorbar": {
             "outlinewidth": 0,
             "ticks": ""
            },
            "colorscale": [
             [
              0,
              "#0d0887"
             ],
             [
              0.1111111111111111,
              "#46039f"
             ],
             [
              0.2222222222222222,
              "#7201a8"
             ],
             [
              0.3333333333333333,
              "#9c179e"
             ],
             [
              0.4444444444444444,
              "#bd3786"
             ],
             [
              0.5555555555555556,
              "#d8576b"
             ],
             [
              0.6666666666666666,
              "#ed7953"
             ],
             [
              0.7777777777777778,
              "#fb9f3a"
             ],
             [
              0.8888888888888888,
              "#fdca26"
             ],
             [
              1,
              "#f0f921"
             ]
            ],
            "type": "surface"
           }
          ],
          "table": [
           {
            "cells": {
             "fill": {
              "color": "#EBF0F8"
             },
             "line": {
              "color": "white"
             }
            },
            "header": {
             "fill": {
              "color": "#C8D4E3"
             },
             "line": {
              "color": "white"
             }
            },
            "type": "table"
           }
          ]
         },
         "layout": {
          "annotationdefaults": {
           "arrowcolor": "#2a3f5f",
           "arrowhead": 0,
           "arrowwidth": 1
          },
          "autotypenumbers": "strict",
          "coloraxis": {
           "colorbar": {
            "outlinewidth": 0,
            "ticks": ""
           }
          },
          "colorscale": {
           "diverging": [
            [
             0,
             "#8e0152"
            ],
            [
             0.1,
             "#c51b7d"
            ],
            [
             0.2,
             "#de77ae"
            ],
            [
             0.3,
             "#f1b6da"
            ],
            [
             0.4,
             "#fde0ef"
            ],
            [
             0.5,
             "#f7f7f7"
            ],
            [
             0.6,
             "#e6f5d0"
            ],
            [
             0.7,
             "#b8e186"
            ],
            [
             0.8,
             "#7fbc41"
            ],
            [
             0.9,
             "#4d9221"
            ],
            [
             1,
             "#276419"
            ]
           ],
           "sequential": [
            [
             0,
             "#0d0887"
            ],
            [
             0.1111111111111111,
             "#46039f"
            ],
            [
             0.2222222222222222,
             "#7201a8"
            ],
            [
             0.3333333333333333,
             "#9c179e"
            ],
            [
             0.4444444444444444,
             "#bd3786"
            ],
            [
             0.5555555555555556,
             "#d8576b"
            ],
            [
             0.6666666666666666,
             "#ed7953"
            ],
            [
             0.7777777777777778,
             "#fb9f3a"
            ],
            [
             0.8888888888888888,
             "#fdca26"
            ],
            [
             1,
             "#f0f921"
            ]
           ],
           "sequentialminus": [
            [
             0,
             "#0d0887"
            ],
            [
             0.1111111111111111,
             "#46039f"
            ],
            [
             0.2222222222222222,
             "#7201a8"
            ],
            [
             0.3333333333333333,
             "#9c179e"
            ],
            [
             0.4444444444444444,
             "#bd3786"
            ],
            [
             0.5555555555555556,
             "#d8576b"
            ],
            [
             0.6666666666666666,
             "#ed7953"
            ],
            [
             0.7777777777777778,
             "#fb9f3a"
            ],
            [
             0.8888888888888888,
             "#fdca26"
            ],
            [
             1,
             "#f0f921"
            ]
           ]
          },
          "colorway": [
           "#636efa",
           "#EF553B",
           "#00cc96",
           "#ab63fa",
           "#FFA15A",
           "#19d3f3",
           "#FF6692",
           "#B6E880",
           "#FF97FF",
           "#FECB52"
          ],
          "font": {
           "color": "#2a3f5f"
          },
          "geo": {
           "bgcolor": "white",
           "lakecolor": "white",
           "landcolor": "#E5ECF6",
           "showlakes": true,
           "showland": true,
           "subunitcolor": "white"
          },
          "hoverlabel": {
           "align": "left"
          },
          "hovermode": "closest",
          "mapbox": {
           "style": "light"
          },
          "paper_bgcolor": "white",
          "plot_bgcolor": "#E5ECF6",
          "polar": {
           "angularaxis": {
            "gridcolor": "white",
            "linecolor": "white",
            "ticks": ""
           },
           "bgcolor": "#E5ECF6",
           "radialaxis": {
            "gridcolor": "white",
            "linecolor": "white",
            "ticks": ""
           }
          },
          "scene": {
           "xaxis": {
            "backgroundcolor": "#E5ECF6",
            "gridcolor": "white",
            "gridwidth": 2,
            "linecolor": "white",
            "showbackground": true,
            "ticks": "",
            "zerolinecolor": "white"
           },
           "yaxis": {
            "backgroundcolor": "#E5ECF6",
            "gridcolor": "white",
            "gridwidth": 2,
            "linecolor": "white",
            "showbackground": true,
            "ticks": "",
            "zerolinecolor": "white"
           },
           "zaxis": {
            "backgroundcolor": "#E5ECF6",
            "gridcolor": "white",
            "gridwidth": 2,
            "linecolor": "white",
            "showbackground": true,
            "ticks": "",
            "zerolinecolor": "white"
           }
          },
          "shapedefaults": {
           "line": {
            "color": "#2a3f5f"
           }
          },
          "ternary": {
           "aaxis": {
            "gridcolor": "white",
            "linecolor": "white",
            "ticks": ""
           },
           "baxis": {
            "gridcolor": "white",
            "linecolor": "white",
            "ticks": ""
           },
           "bgcolor": "#E5ECF6",
           "caxis": {
            "gridcolor": "white",
            "linecolor": "white",
            "ticks": ""
           }
          },
          "title": {
           "x": 0.05
          },
          "xaxis": {
           "automargin": true,
           "gridcolor": "white",
           "linecolor": "white",
           "ticks": "",
           "title": {
            "standoff": 15
           },
           "zerolinecolor": "white",
           "zerolinewidth": 2
          },
          "yaxis": {
           "automargin": true,
           "gridcolor": "white",
           "linecolor": "white",
           "ticks": "",
           "title": {
            "standoff": 15
           },
           "zerolinecolor": "white",
           "zerolinewidth": 2
          }
         }
        },
        "xaxis": {
         "anchor": "y",
         "domain": [
          0,
          1
         ],
         "title": {
          "text": "timestamp"
         }
        },
        "yaxis": {
         "anchor": "x",
         "domain": [
          0,
          1
         ],
         "title": {
          "text": "value"
         }
        }
       }
      }
     },
     "metadata": {},
     "output_type": "display_data"
    }
   ],
   "source": [
    "def _extract_asset_discounts(row):\n",
    "    symbol_to_discount = {}\n",
    "\n",
    "    for destinations in row['destinations']:\n",
    "        for dest in destinations:\n",
    "            symbols = [d['symbol'] for d in dest['underlyingTokenSymbols']]\n",
    "            discounts = [round(100 * d['discount'] /1e18 , 4)for d in dest['lstStatsData']]\n",
    "            for s, d in zip(symbols, discounts):\n",
    "                if s in symbol_to_discount:\n",
    "                    if symbol_to_discount[s] != d:\n",
    "                        raise ValueError('discount and symbol different')\n",
    "                else:\n",
    "                    symbol_to_discount[s] = d\n",
    "    return symbol_to_discount\n",
    "\n",
    "lst_discounts = pd.DataFrame.from_records(\n",
    "    pool_and_destinations_df[\"getPoolsAndDestinations\"].apply(_extract_asset_discounts),\n",
    "    index=pool_and_destinations_df.index,\n",
    ")\n",
    "px.line(lst_discounts)"
   ]
  },
  {
   "cell_type": "code",
   "execution_count": 46,
   "metadata": {},
   "outputs": [
    {
     "data": {
      "application/vnd.plotly.v1+json": {
       "config": {
        "plotlyServerURL": "https://plot.ly"
       },
       "data": [
        {
         "hovertemplate": "variable=remove_discount<br>timestamp=%{x}<br>value=%{y}<extra></extra>",
         "legendgroup": "remove_discount",
         "line": {
          "color": "#636efa",
          "dash": "solid"
         },
         "marker": {
          "symbol": "circle"
         },
         "mode": "lines",
         "name": "remove_discount",
         "orientation": "v",
         "showlegend": true,
         "type": "scatter",
         "x": [
          "2024-09-16T00:03:11+00:00",
          "2024-09-16T03:43:47+00:00",
          "2024-09-16T07:23:23+00:00",
          "2024-09-16T11:04:47+00:00",
          "2024-09-16T14:46:11+00:00",
          "2024-09-16T18:26:47+00:00",
          "2024-09-16T22:06:23+00:00",
          "2024-09-17T01:46:35+00:00",
          "2024-09-17T05:27:47+00:00",
          "2024-09-17T09:08:35+00:00",
          "2024-09-17T12:48:23+00:00",
          "2024-09-17T16:29:11+00:00",
          "2024-09-17T20:09:47+00:00",
          "2024-09-17T23:50:47+00:00",
          "2024-09-18T03:30:35+00:00",
          "2024-09-18T07:11:35+00:00",
          "2024-09-18T10:51:35+00:00",
          "2024-09-18T14:32:23+00:00",
          "2024-09-18T18:12:23+00:00",
          "2024-09-18T21:52:47+00:00",
          "2024-09-19T01:33:11+00:00",
          "2024-09-19T05:13:23+00:00",
          "2024-09-19T08:53:23+00:00",
          "2024-09-19T12:33:23+00:00",
          "2024-09-19T16:13:23+00:00",
          "2024-09-19T19:53:23+00:00",
          "2024-09-19T23:33:11+00:00"
         ],
         "xaxis": "x",
         "y": [
          0,
          0,
          0,
          0,
          0,
          0,
          0,
          0,
          0,
          110.93,
          110.93,
          119.16,
          119.18,
          119.18,
          119.18,
          119.18,
          119.18,
          124.7,
          124.7,
          124.67,
          124.66,
          124.66,
          124.66,
          124.66,
          128.36,
          128.4,
          128.4
         ],
         "yaxis": "y"
        },
        {
         "hovertemplate": "variable=actual_value<br>timestamp=%{x}<br>value=%{y}<extra></extra>",
         "legendgroup": "actual_value",
         "line": {
          "color": "#EF553B",
          "dash": "solid"
         },
         "marker": {
          "symbol": "circle"
         },
         "mode": "lines",
         "name": "actual_value",
         "orientation": "v",
         "showlegend": true,
         "type": "scatter",
         "x": [
          "2024-09-16T00:03:11+00:00",
          "2024-09-16T03:43:47+00:00",
          "2024-09-16T07:23:23+00:00",
          "2024-09-16T11:04:47+00:00",
          "2024-09-16T14:46:11+00:00",
          "2024-09-16T18:26:47+00:00",
          "2024-09-16T22:06:23+00:00",
          "2024-09-17T01:46:35+00:00",
          "2024-09-17T05:27:47+00:00",
          "2024-09-17T09:08:35+00:00",
          "2024-09-17T12:48:23+00:00",
          "2024-09-17T16:29:11+00:00",
          "2024-09-17T20:09:47+00:00",
          "2024-09-17T23:50:47+00:00",
          "2024-09-18T03:30:35+00:00",
          "2024-09-18T07:11:35+00:00",
          "2024-09-18T10:51:35+00:00",
          "2024-09-18T14:32:23+00:00",
          "2024-09-18T18:12:23+00:00",
          "2024-09-18T21:52:47+00:00",
          "2024-09-19T01:33:11+00:00",
          "2024-09-19T05:13:23+00:00",
          "2024-09-19T08:53:23+00:00",
          "2024-09-19T12:33:23+00:00",
          "2024-09-19T16:13:23+00:00",
          "2024-09-19T19:53:23+00:00",
          "2024-09-19T23:33:11+00:00"
         ],
         "xaxis": "x",
         "y": [
          0,
          0,
          0,
          0,
          0,
          0,
          0,
          0,
          0,
          135.82,
          135.83,
          135.83,
          135.79,
          135.79,
          135.79,
          135.79,
          135.79,
          135.8,
          135.8,
          135.85,
          135.85,
          135.85,
          135.85,
          135.85,
          135.85,
          135.81,
          135.81
         ],
         "yaxis": "y"
        }
       ],
       "layout": {
        "legend": {
         "title": {
          "text": "variable"
         },
         "tracegroupgap": 0
        },
        "margin": {
         "t": 60
        },
        "template": {
         "data": {
          "bar": [
           {
            "error_x": {
             "color": "#2a3f5f"
            },
            "error_y": {
             "color": "#2a3f5f"
            },
            "marker": {
             "line": {
              "color": "#E5ECF6",
              "width": 0.5
             },
             "pattern": {
              "fillmode": "overlay",
              "size": 10,
              "solidity": 0.2
             }
            },
            "type": "bar"
           }
          ],
          "barpolar": [
           {
            "marker": {
             "line": {
              "color": "#E5ECF6",
              "width": 0.5
             },
             "pattern": {
              "fillmode": "overlay",
              "size": 10,
              "solidity": 0.2
             }
            },
            "type": "barpolar"
           }
          ],
          "carpet": [
           {
            "aaxis": {
             "endlinecolor": "#2a3f5f",
             "gridcolor": "white",
             "linecolor": "white",
             "minorgridcolor": "white",
             "startlinecolor": "#2a3f5f"
            },
            "baxis": {
             "endlinecolor": "#2a3f5f",
             "gridcolor": "white",
             "linecolor": "white",
             "minorgridcolor": "white",
             "startlinecolor": "#2a3f5f"
            },
            "type": "carpet"
           }
          ],
          "choropleth": [
           {
            "colorbar": {
             "outlinewidth": 0,
             "ticks": ""
            },
            "type": "choropleth"
           }
          ],
          "contour": [
           {
            "colorbar": {
             "outlinewidth": 0,
             "ticks": ""
            },
            "colorscale": [
             [
              0,
              "#0d0887"
             ],
             [
              0.1111111111111111,
              "#46039f"
             ],
             [
              0.2222222222222222,
              "#7201a8"
             ],
             [
              0.3333333333333333,
              "#9c179e"
             ],
             [
              0.4444444444444444,
              "#bd3786"
             ],
             [
              0.5555555555555556,
              "#d8576b"
             ],
             [
              0.6666666666666666,
              "#ed7953"
             ],
             [
              0.7777777777777778,
              "#fb9f3a"
             ],
             [
              0.8888888888888888,
              "#fdca26"
             ],
             [
              1,
              "#f0f921"
             ]
            ],
            "type": "contour"
           }
          ],
          "contourcarpet": [
           {
            "colorbar": {
             "outlinewidth": 0,
             "ticks": ""
            },
            "type": "contourcarpet"
           }
          ],
          "heatmap": [
           {
            "colorbar": {
             "outlinewidth": 0,
             "ticks": ""
            },
            "colorscale": [
             [
              0,
              "#0d0887"
             ],
             [
              0.1111111111111111,
              "#46039f"
             ],
             [
              0.2222222222222222,
              "#7201a8"
             ],
             [
              0.3333333333333333,
              "#9c179e"
             ],
             [
              0.4444444444444444,
              "#bd3786"
             ],
             [
              0.5555555555555556,
              "#d8576b"
             ],
             [
              0.6666666666666666,
              "#ed7953"
             ],
             [
              0.7777777777777778,
              "#fb9f3a"
             ],
             [
              0.8888888888888888,
              "#fdca26"
             ],
             [
              1,
              "#f0f921"
             ]
            ],
            "type": "heatmap"
           }
          ],
          "heatmapgl": [
           {
            "colorbar": {
             "outlinewidth": 0,
             "ticks": ""
            },
            "colorscale": [
             [
              0,
              "#0d0887"
             ],
             [
              0.1111111111111111,
              "#46039f"
             ],
             [
              0.2222222222222222,
              "#7201a8"
             ],
             [
              0.3333333333333333,
              "#9c179e"
             ],
             [
              0.4444444444444444,
              "#bd3786"
             ],
             [
              0.5555555555555556,
              "#d8576b"
             ],
             [
              0.6666666666666666,
              "#ed7953"
             ],
             [
              0.7777777777777778,
              "#fb9f3a"
             ],
             [
              0.8888888888888888,
              "#fdca26"
             ],
             [
              1,
              "#f0f921"
             ]
            ],
            "type": "heatmapgl"
           }
          ],
          "histogram": [
           {
            "marker": {
             "pattern": {
              "fillmode": "overlay",
              "size": 10,
              "solidity": 0.2
             }
            },
            "type": "histogram"
           }
          ],
          "histogram2d": [
           {
            "colorbar": {
             "outlinewidth": 0,
             "ticks": ""
            },
            "colorscale": [
             [
              0,
              "#0d0887"
             ],
             [
              0.1111111111111111,
              "#46039f"
             ],
             [
              0.2222222222222222,
              "#7201a8"
             ],
             [
              0.3333333333333333,
              "#9c179e"
             ],
             [
              0.4444444444444444,
              "#bd3786"
             ],
             [
              0.5555555555555556,
              "#d8576b"
             ],
             [
              0.6666666666666666,
              "#ed7953"
             ],
             [
              0.7777777777777778,
              "#fb9f3a"
             ],
             [
              0.8888888888888888,
              "#fdca26"
             ],
             [
              1,
              "#f0f921"
             ]
            ],
            "type": "histogram2d"
           }
          ],
          "histogram2dcontour": [
           {
            "colorbar": {
             "outlinewidth": 0,
             "ticks": ""
            },
            "colorscale": [
             [
              0,
              "#0d0887"
             ],
             [
              0.1111111111111111,
              "#46039f"
             ],
             [
              0.2222222222222222,
              "#7201a8"
             ],
             [
              0.3333333333333333,
              "#9c179e"
             ],
             [
              0.4444444444444444,
              "#bd3786"
             ],
             [
              0.5555555555555556,
              "#d8576b"
             ],
             [
              0.6666666666666666,
              "#ed7953"
             ],
             [
              0.7777777777777778,
              "#fb9f3a"
             ],
             [
              0.8888888888888888,
              "#fdca26"
             ],
             [
              1,
              "#f0f921"
             ]
            ],
            "type": "histogram2dcontour"
           }
          ],
          "mesh3d": [
           {
            "colorbar": {
             "outlinewidth": 0,
             "ticks": ""
            },
            "type": "mesh3d"
           }
          ],
          "parcoords": [
           {
            "line": {
             "colorbar": {
              "outlinewidth": 0,
              "ticks": ""
             }
            },
            "type": "parcoords"
           }
          ],
          "pie": [
           {
            "automargin": true,
            "type": "pie"
           }
          ],
          "scatter": [
           {
            "fillpattern": {
             "fillmode": "overlay",
             "size": 10,
             "solidity": 0.2
            },
            "type": "scatter"
           }
          ],
          "scatter3d": [
           {
            "line": {
             "colorbar": {
              "outlinewidth": 0,
              "ticks": ""
             }
            },
            "marker": {
             "colorbar": {
              "outlinewidth": 0,
              "ticks": ""
             }
            },
            "type": "scatter3d"
           }
          ],
          "scattercarpet": [
           {
            "marker": {
             "colorbar": {
              "outlinewidth": 0,
              "ticks": ""
             }
            },
            "type": "scattercarpet"
           }
          ],
          "scattergeo": [
           {
            "marker": {
             "colorbar": {
              "outlinewidth": 0,
              "ticks": ""
             }
            },
            "type": "scattergeo"
           }
          ],
          "scattergl": [
           {
            "marker": {
             "colorbar": {
              "outlinewidth": 0,
              "ticks": ""
             }
            },
            "type": "scattergl"
           }
          ],
          "scattermapbox": [
           {
            "marker": {
             "colorbar": {
              "outlinewidth": 0,
              "ticks": ""
             }
            },
            "type": "scattermapbox"
           }
          ],
          "scatterpolar": [
           {
            "marker": {
             "colorbar": {
              "outlinewidth": 0,
              "ticks": ""
             }
            },
            "type": "scatterpolar"
           }
          ],
          "scatterpolargl": [
           {
            "marker": {
             "colorbar": {
              "outlinewidth": 0,
              "ticks": ""
             }
            },
            "type": "scatterpolargl"
           }
          ],
          "scatterternary": [
           {
            "marker": {
             "colorbar": {
              "outlinewidth": 0,
              "ticks": ""
             }
            },
            "type": "scatterternary"
           }
          ],
          "surface": [
           {
            "colorbar": {
             "outlinewidth": 0,
             "ticks": ""
            },
            "colorscale": [
             [
              0,
              "#0d0887"
             ],
             [
              0.1111111111111111,
              "#46039f"
             ],
             [
              0.2222222222222222,
              "#7201a8"
             ],
             [
              0.3333333333333333,
              "#9c179e"
             ],
             [
              0.4444444444444444,
              "#bd3786"
             ],
             [
              0.5555555555555556,
              "#d8576b"
             ],
             [
              0.6666666666666666,
              "#ed7953"
             ],
             [
              0.7777777777777778,
              "#fb9f3a"
             ],
             [
              0.8888888888888888,
              "#fdca26"
             ],
             [
              1,
              "#f0f921"
             ]
            ],
            "type": "surface"
           }
          ],
          "table": [
           {
            "cells": {
             "fill": {
              "color": "#EBF0F8"
             },
             "line": {
              "color": "white"
             }
            },
            "header": {
             "fill": {
              "color": "#C8D4E3"
             },
             "line": {
              "color": "white"
             }
            },
            "type": "table"
           }
          ]
         },
         "layout": {
          "annotationdefaults": {
           "arrowcolor": "#2a3f5f",
           "arrowhead": 0,
           "arrowwidth": 1
          },
          "autotypenumbers": "strict",
          "coloraxis": {
           "colorbar": {
            "outlinewidth": 0,
            "ticks": ""
           }
          },
          "colorscale": {
           "diverging": [
            [
             0,
             "#8e0152"
            ],
            [
             0.1,
             "#c51b7d"
            ],
            [
             0.2,
             "#de77ae"
            ],
            [
             0.3,
             "#f1b6da"
            ],
            [
             0.4,
             "#fde0ef"
            ],
            [
             0.5,
             "#f7f7f7"
            ],
            [
             0.6,
             "#e6f5d0"
            ],
            [
             0.7,
             "#b8e186"
            ],
            [
             0.8,
             "#7fbc41"
            ],
            [
             0.9,
             "#4d9221"
            ],
            [
             1,
             "#276419"
            ]
           ],
           "sequential": [
            [
             0,
             "#0d0887"
            ],
            [
             0.1111111111111111,
             "#46039f"
            ],
            [
             0.2222222222222222,
             "#7201a8"
            ],
            [
             0.3333333333333333,
             "#9c179e"
            ],
            [
             0.4444444444444444,
             "#bd3786"
            ],
            [
             0.5555555555555556,
             "#d8576b"
            ],
            [
             0.6666666666666666,
             "#ed7953"
            ],
            [
             0.7777777777777778,
             "#fb9f3a"
            ],
            [
             0.8888888888888888,
             "#fdca26"
            ],
            [
             1,
             "#f0f921"
            ]
           ],
           "sequentialminus": [
            [
             0,
             "#0d0887"
            ],
            [
             0.1111111111111111,
             "#46039f"
            ],
            [
             0.2222222222222222,
             "#7201a8"
            ],
            [
             0.3333333333333333,
             "#9c179e"
            ],
            [
             0.4444444444444444,
             "#bd3786"
            ],
            [
             0.5555555555555556,
             "#d8576b"
            ],
            [
             0.6666666666666666,
             "#ed7953"
            ],
            [
             0.7777777777777778,
             "#fb9f3a"
            ],
            [
             0.8888888888888888,
             "#fdca26"
            ],
            [
             1,
             "#f0f921"
            ]
           ]
          },
          "colorway": [
           "#636efa",
           "#EF553B",
           "#00cc96",
           "#ab63fa",
           "#FFA15A",
           "#19d3f3",
           "#FF6692",
           "#B6E880",
           "#FF97FF",
           "#FECB52"
          ],
          "font": {
           "color": "#2a3f5f"
          },
          "geo": {
           "bgcolor": "white",
           "lakecolor": "white",
           "landcolor": "#E5ECF6",
           "showlakes": true,
           "showland": true,
           "subunitcolor": "white"
          },
          "hoverlabel": {
           "align": "left"
          },
          "hovermode": "closest",
          "mapbox": {
           "style": "light"
          },
          "paper_bgcolor": "white",
          "plot_bgcolor": "#E5ECF6",
          "polar": {
           "angularaxis": {
            "gridcolor": "white",
            "linecolor": "white",
            "ticks": ""
           },
           "bgcolor": "#E5ECF6",
           "radialaxis": {
            "gridcolor": "white",
            "linecolor": "white",
            "ticks": ""
           }
          },
          "scene": {
           "xaxis": {
            "backgroundcolor": "#E5ECF6",
            "gridcolor": "white",
            "gridwidth": 2,
            "linecolor": "white",
            "showbackground": true,
            "ticks": "",
            "zerolinecolor": "white"
           },
           "yaxis": {
            "backgroundcolor": "#E5ECF6",
            "gridcolor": "white",
            "gridwidth": 2,
            "linecolor": "white",
            "showbackground": true,
            "ticks": "",
            "zerolinecolor": "white"
           },
           "zaxis": {
            "backgroundcolor": "#E5ECF6",
            "gridcolor": "white",
            "gridwidth": 2,
            "linecolor": "white",
            "showbackground": true,
            "ticks": "",
            "zerolinecolor": "white"
           }
          },
          "shapedefaults": {
           "line": {
            "color": "#2a3f5f"
           }
          },
          "ternary": {
           "aaxis": {
            "gridcolor": "white",
            "linecolor": "white",
            "ticks": ""
           },
           "baxis": {
            "gridcolor": "white",
            "linecolor": "white",
            "ticks": ""
           },
           "bgcolor": "#E5ECF6",
           "caxis": {
            "gridcolor": "white",
            "linecolor": "white",
            "ticks": ""
           }
          },
          "title": {
           "x": 0.05
          },
          "xaxis": {
           "automargin": true,
           "gridcolor": "white",
           "linecolor": "white",
           "ticks": "",
           "title": {
            "standoff": 15
           },
           "zerolinecolor": "white",
           "zerolinewidth": 2
          },
          "yaxis": {
           "automargin": true,
           "gridcolor": "white",
           "linecolor": "white",
           "ticks": "",
           "title": {
            "standoff": 15
           },
           "zerolinecolor": "white",
           "zerolinewidth": 2
          }
         }
        },
        "xaxis": {
         "anchor": "y",
         "domain": [
          0,
          1
         ],
         "title": {
          "text": "timestamp"
         }
        },
        "yaxis": {
         "anchor": "x",
         "domain": [
          0,
          1
         ],
         "title": {
          "text": "value"
         }
        }
       }
      }
     },
     "metadata": {},
     "output_type": "display_data"
    }
   ],
   "source": [
    "early_discount_df = discount_allocation_df[(discount_allocation_df.index > '9-16-2024') & (discount_allocation_df.index < '9-20-2024')].round(2)\n",
    "early_allocation_df = allocation_df[(allocation_df.index > '9-16-2024') & (allocation_df.index < '9-20-2024')].round(2)\n",
    "\n",
    "\n",
    "balancer_our_allocation_with_and_without_lst_discounts = pd.concat([early_discount_df['ECLP-wstETH-wETH (balancer)'], early_allocation_df['ECLP-wstETH-wETH (balancer)']], axis=1)\n",
    "balancer_our_allocation_with_and_without_lst_discounts.columns = ['remove_discount', 'actual_value']\n",
    "\n",
    "px.line(balancer_our_allocation_with_and_without_lst_discounts)"
   ]
  },
  {
   "cell_type": "code",
   "execution_count": null,
   "metadata": {},
   "outputs": [
    {
     "data": {
      "application/vnd.plotly.v1+json": {
       "config": {
        "plotlyServerURL": "https://plot.ly"
       },
       "data": [
        {
         "hovertemplate": "variable=weETH<br>timestamp=%{x}<br>value=%{y}<extra></extra>",
         "legendgroup": "weETH",
         "line": {
          "color": "#636efa",
          "dash": "solid"
         },
         "marker": {
          "symbol": "circle"
         },
         "mode": "lines",
         "name": "weETH",
         "orientation": "v",
         "showlegend": true,
         "type": "scatter",
         "x": [
          "2024-09-16T00:03:11+00:00",
          "2024-09-16T03:43:47+00:00",
          "2024-09-16T07:23:23+00:00",
          "2024-09-16T11:04:47+00:00",
          "2024-09-16T14:46:11+00:00",
          "2024-09-16T18:26:47+00:00",
          "2024-09-16T22:06:23+00:00",
          "2024-09-17T01:46:35+00:00",
          "2024-09-17T05:27:47+00:00",
          "2024-09-17T09:08:35+00:00",
          "2024-09-17T12:48:23+00:00",
          "2024-09-17T16:29:11+00:00",
          "2024-09-17T20:09:47+00:00",
          "2024-09-17T23:50:47+00:00",
          "2024-09-18T03:30:35+00:00",
          "2024-09-18T07:11:35+00:00",
          "2024-09-18T10:51:35+00:00",
          "2024-09-18T14:32:23+00:00",
          "2024-09-18T18:12:23+00:00",
          "2024-09-18T21:52:47+00:00",
          "2024-09-19T01:33:11+00:00",
          "2024-09-19T05:13:23+00:00",
          "2024-09-19T08:53:23+00:00",
          "2024-09-19T12:33:23+00:00",
          "2024-09-19T16:13:23+00:00",
          "2024-09-19T19:53:23+00:00",
          "2024-09-19T23:33:11+00:00"
         ],
         "xaxis": "x",
         "y": [
          0.03,
          0.03,
          0.03,
          0.11,
          0.11,
          0.11,
          0.12,
          0.12,
          0.12,
          0.14,
          0.14,
          0.14,
          0.14,
          0.14,
          0.14,
          0.15,
          0.03,
          0.03,
          0.03,
          0.03,
          0.03,
          0.03,
          0.12,
          0.12,
          0.13,
          0.13,
          0.13
         ],
         "yaxis": "y"
        },
        {
         "hovertemplate": "variable=wstETH<br>timestamp=%{x}<br>value=%{y}<extra></extra>",
         "legendgroup": "wstETH",
         "line": {
          "color": "#EF553B",
          "dash": "solid"
         },
         "marker": {
          "symbol": "circle"
         },
         "mode": "lines",
         "name": "wstETH",
         "orientation": "v",
         "showlegend": true,
         "type": "scatter",
         "x": [
          "2024-09-16T00:03:11+00:00",
          "2024-09-16T03:43:47+00:00",
          "2024-09-16T07:23:23+00:00",
          "2024-09-16T11:04:47+00:00",
          "2024-09-16T14:46:11+00:00",
          "2024-09-16T18:26:47+00:00",
          "2024-09-16T22:06:23+00:00",
          "2024-09-17T01:46:35+00:00",
          "2024-09-17T05:27:47+00:00",
          "2024-09-17T09:08:35+00:00",
          "2024-09-17T12:48:23+00:00",
          "2024-09-17T16:29:11+00:00",
          "2024-09-17T20:09:47+00:00",
          "2024-09-17T23:50:47+00:00",
          "2024-09-18T03:30:35+00:00",
          "2024-09-18T07:11:35+00:00",
          "2024-09-18T10:51:35+00:00",
          "2024-09-18T14:32:23+00:00",
          "2024-09-18T18:12:23+00:00",
          "2024-09-18T21:52:47+00:00",
          "2024-09-19T01:33:11+00:00",
          "2024-09-19T05:13:23+00:00",
          "2024-09-19T08:53:23+00:00",
          "2024-09-19T12:33:23+00:00",
          "2024-09-19T16:13:23+00:00",
          "2024-09-19T19:53:23+00:00",
          "2024-09-19T23:33:11+00:00"
         ],
         "xaxis": "x",
         "y": [
          0.03,
          0.03,
          0.03,
          0.03,
          0.03,
          0.03,
          0.04,
          0.04,
          0.04,
          0.04,
          0.04,
          0.04,
          0.07,
          0.07,
          0.07,
          0.07,
          0.07,
          0.07,
          0.07,
          0.03,
          0.03,
          0.03,
          0.03,
          0.03,
          0.03,
          0.07,
          0.07
         ],
         "yaxis": "y"
        }
       ],
       "layout": {
        "legend": {
         "title": {
          "text": "variable"
         },
         "tracegroupgap": 0
        },
        "margin": {
         "t": 60
        },
        "template": {
         "data": {
          "bar": [
           {
            "error_x": {
             "color": "#2a3f5f"
            },
            "error_y": {
             "color": "#2a3f5f"
            },
            "marker": {
             "line": {
              "color": "#E5ECF6",
              "width": 0.5
             },
             "pattern": {
              "fillmode": "overlay",
              "size": 10,
              "solidity": 0.2
             }
            },
            "type": "bar"
           }
          ],
          "barpolar": [
           {
            "marker": {
             "line": {
              "color": "#E5ECF6",
              "width": 0.5
             },
             "pattern": {
              "fillmode": "overlay",
              "size": 10,
              "solidity": 0.2
             }
            },
            "type": "barpolar"
           }
          ],
          "carpet": [
           {
            "aaxis": {
             "endlinecolor": "#2a3f5f",
             "gridcolor": "white",
             "linecolor": "white",
             "minorgridcolor": "white",
             "startlinecolor": "#2a3f5f"
            },
            "baxis": {
             "endlinecolor": "#2a3f5f",
             "gridcolor": "white",
             "linecolor": "white",
             "minorgridcolor": "white",
             "startlinecolor": "#2a3f5f"
            },
            "type": "carpet"
           }
          ],
          "choropleth": [
           {
            "colorbar": {
             "outlinewidth": 0,
             "ticks": ""
            },
            "type": "choropleth"
           }
          ],
          "contour": [
           {
            "colorbar": {
             "outlinewidth": 0,
             "ticks": ""
            },
            "colorscale": [
             [
              0,
              "#0d0887"
             ],
             [
              0.1111111111111111,
              "#46039f"
             ],
             [
              0.2222222222222222,
              "#7201a8"
             ],
             [
              0.3333333333333333,
              "#9c179e"
             ],
             [
              0.4444444444444444,
              "#bd3786"
             ],
             [
              0.5555555555555556,
              "#d8576b"
             ],
             [
              0.6666666666666666,
              "#ed7953"
             ],
             [
              0.7777777777777778,
              "#fb9f3a"
             ],
             [
              0.8888888888888888,
              "#fdca26"
             ],
             [
              1,
              "#f0f921"
             ]
            ],
            "type": "contour"
           }
          ],
          "contourcarpet": [
           {
            "colorbar": {
             "outlinewidth": 0,
             "ticks": ""
            },
            "type": "contourcarpet"
           }
          ],
          "heatmap": [
           {
            "colorbar": {
             "outlinewidth": 0,
             "ticks": ""
            },
            "colorscale": [
             [
              0,
              "#0d0887"
             ],
             [
              0.1111111111111111,
              "#46039f"
             ],
             [
              0.2222222222222222,
              "#7201a8"
             ],
             [
              0.3333333333333333,
              "#9c179e"
             ],
             [
              0.4444444444444444,
              "#bd3786"
             ],
             [
              0.5555555555555556,
              "#d8576b"
             ],
             [
              0.6666666666666666,
              "#ed7953"
             ],
             [
              0.7777777777777778,
              "#fb9f3a"
             ],
             [
              0.8888888888888888,
              "#fdca26"
             ],
             [
              1,
              "#f0f921"
             ]
            ],
            "type": "heatmap"
           }
          ],
          "heatmapgl": [
           {
            "colorbar": {
             "outlinewidth": 0,
             "ticks": ""
            },
            "colorscale": [
             [
              0,
              "#0d0887"
             ],
             [
              0.1111111111111111,
              "#46039f"
             ],
             [
              0.2222222222222222,
              "#7201a8"
             ],
             [
              0.3333333333333333,
              "#9c179e"
             ],
             [
              0.4444444444444444,
              "#bd3786"
             ],
             [
              0.5555555555555556,
              "#d8576b"
             ],
             [
              0.6666666666666666,
              "#ed7953"
             ],
             [
              0.7777777777777778,
              "#fb9f3a"
             ],
             [
              0.8888888888888888,
              "#fdca26"
             ],
             [
              1,
              "#f0f921"
             ]
            ],
            "type": "heatmapgl"
           }
          ],
          "histogram": [
           {
            "marker": {
             "pattern": {
              "fillmode": "overlay",
              "size": 10,
              "solidity": 0.2
             }
            },
            "type": "histogram"
           }
          ],
          "histogram2d": [
           {
            "colorbar": {
             "outlinewidth": 0,
             "ticks": ""
            },
            "colorscale": [
             [
              0,
              "#0d0887"
             ],
             [
              0.1111111111111111,
              "#46039f"
             ],
             [
              0.2222222222222222,
              "#7201a8"
             ],
             [
              0.3333333333333333,
              "#9c179e"
             ],
             [
              0.4444444444444444,
              "#bd3786"
             ],
             [
              0.5555555555555556,
              "#d8576b"
             ],
             [
              0.6666666666666666,
              "#ed7953"
             ],
             [
              0.7777777777777778,
              "#fb9f3a"
             ],
             [
              0.8888888888888888,
              "#fdca26"
             ],
             [
              1,
              "#f0f921"
             ]
            ],
            "type": "histogram2d"
           }
          ],
          "histogram2dcontour": [
           {
            "colorbar": {
             "outlinewidth": 0,
             "ticks": ""
            },
            "colorscale": [
             [
              0,
              "#0d0887"
             ],
             [
              0.1111111111111111,
              "#46039f"
             ],
             [
              0.2222222222222222,
              "#7201a8"
             ],
             [
              0.3333333333333333,
              "#9c179e"
             ],
             [
              0.4444444444444444,
              "#bd3786"
             ],
             [
              0.5555555555555556,
              "#d8576b"
             ],
             [
              0.6666666666666666,
              "#ed7953"
             ],
             [
              0.7777777777777778,
              "#fb9f3a"
             ],
             [
              0.8888888888888888,
              "#fdca26"
             ],
             [
              1,
              "#f0f921"
             ]
            ],
            "type": "histogram2dcontour"
           }
          ],
          "mesh3d": [
           {
            "colorbar": {
             "outlinewidth": 0,
             "ticks": ""
            },
            "type": "mesh3d"
           }
          ],
          "parcoords": [
           {
            "line": {
             "colorbar": {
              "outlinewidth": 0,
              "ticks": ""
             }
            },
            "type": "parcoords"
           }
          ],
          "pie": [
           {
            "automargin": true,
            "type": "pie"
           }
          ],
          "scatter": [
           {
            "fillpattern": {
             "fillmode": "overlay",
             "size": 10,
             "solidity": 0.2
            },
            "type": "scatter"
           }
          ],
          "scatter3d": [
           {
            "line": {
             "colorbar": {
              "outlinewidth": 0,
              "ticks": ""
             }
            },
            "marker": {
             "colorbar": {
              "outlinewidth": 0,
              "ticks": ""
             }
            },
            "type": "scatter3d"
           }
          ],
          "scattercarpet": [
           {
            "marker": {
             "colorbar": {
              "outlinewidth": 0,
              "ticks": ""
             }
            },
            "type": "scattercarpet"
           }
          ],
          "scattergeo": [
           {
            "marker": {
             "colorbar": {
              "outlinewidth": 0,
              "ticks": ""
             }
            },
            "type": "scattergeo"
           }
          ],
          "scattergl": [
           {
            "marker": {
             "colorbar": {
              "outlinewidth": 0,
              "ticks": ""
             }
            },
            "type": "scattergl"
           }
          ],
          "scattermapbox": [
           {
            "marker": {
             "colorbar": {
              "outlinewidth": 0,
              "ticks": ""
             }
            },
            "type": "scattermapbox"
           }
          ],
          "scatterpolar": [
           {
            "marker": {
             "colorbar": {
              "outlinewidth": 0,
              "ticks": ""
             }
            },
            "type": "scatterpolar"
           }
          ],
          "scatterpolargl": [
           {
            "marker": {
             "colorbar": {
              "outlinewidth": 0,
              "ticks": ""
             }
            },
            "type": "scatterpolargl"
           }
          ],
          "scatterternary": [
           {
            "marker": {
             "colorbar": {
              "outlinewidth": 0,
              "ticks": ""
             }
            },
            "type": "scatterternary"
           }
          ],
          "surface": [
           {
            "colorbar": {
             "outlinewidth": 0,
             "ticks": ""
            },
            "colorscale": [
             [
              0,
              "#0d0887"
             ],
             [
              0.1111111111111111,
              "#46039f"
             ],
             [
              0.2222222222222222,
              "#7201a8"
             ],
             [
              0.3333333333333333,
              "#9c179e"
             ],
             [
              0.4444444444444444,
              "#bd3786"
             ],
             [
              0.5555555555555556,
              "#d8576b"
             ],
             [
              0.6666666666666666,
              "#ed7953"
             ],
             [
              0.7777777777777778,
              "#fb9f3a"
             ],
             [
              0.8888888888888888,
              "#fdca26"
             ],
             [
              1,
              "#f0f921"
             ]
            ],
            "type": "surface"
           }
          ],
          "table": [
           {
            "cells": {
             "fill": {
              "color": "#EBF0F8"
             },
             "line": {
              "color": "white"
             }
            },
            "header": {
             "fill": {
              "color": "#C8D4E3"
             },
             "line": {
              "color": "white"
             }
            },
            "type": "table"
           }
          ]
         },
         "layout": {
          "annotationdefaults": {
           "arrowcolor": "#2a3f5f",
           "arrowhead": 0,
           "arrowwidth": 1
          },
          "autotypenumbers": "strict",
          "coloraxis": {
           "colorbar": {
            "outlinewidth": 0,
            "ticks": ""
           }
          },
          "colorscale": {
           "diverging": [
            [
             0,
             "#8e0152"
            ],
            [
             0.1,
             "#c51b7d"
            ],
            [
             0.2,
             "#de77ae"
            ],
            [
             0.3,
             "#f1b6da"
            ],
            [
             0.4,
             "#fde0ef"
            ],
            [
             0.5,
             "#f7f7f7"
            ],
            [
             0.6,
             "#e6f5d0"
            ],
            [
             0.7,
             "#b8e186"
            ],
            [
             0.8,
             "#7fbc41"
            ],
            [
             0.9,
             "#4d9221"
            ],
            [
             1,
             "#276419"
            ]
           ],
           "sequential": [
            [
             0,
             "#0d0887"
            ],
            [
             0.1111111111111111,
             "#46039f"
            ],
            [
             0.2222222222222222,
             "#7201a8"
            ],
            [
             0.3333333333333333,
             "#9c179e"
            ],
            [
             0.4444444444444444,
             "#bd3786"
            ],
            [
             0.5555555555555556,
             "#d8576b"
            ],
            [
             0.6666666666666666,
             "#ed7953"
            ],
            [
             0.7777777777777778,
             "#fb9f3a"
            ],
            [
             0.8888888888888888,
             "#fdca26"
            ],
            [
             1,
             "#f0f921"
            ]
           ],
           "sequentialminus": [
            [
             0,
             "#0d0887"
            ],
            [
             0.1111111111111111,
             "#46039f"
            ],
            [
             0.2222222222222222,
             "#7201a8"
            ],
            [
             0.3333333333333333,
             "#9c179e"
            ],
            [
             0.4444444444444444,
             "#bd3786"
            ],
            [
             0.5555555555555556,
             "#d8576b"
            ],
            [
             0.6666666666666666,
             "#ed7953"
            ],
            [
             0.7777777777777778,
             "#fb9f3a"
            ],
            [
             0.8888888888888888,
             "#fdca26"
            ],
            [
             1,
             "#f0f921"
            ]
           ]
          },
          "colorway": [
           "#636efa",
           "#EF553B",
           "#00cc96",
           "#ab63fa",
           "#FFA15A",
           "#19d3f3",
           "#FF6692",
           "#B6E880",
           "#FF97FF",
           "#FECB52"
          ],
          "font": {
           "color": "#2a3f5f"
          },
          "geo": {
           "bgcolor": "white",
           "lakecolor": "white",
           "landcolor": "#E5ECF6",
           "showlakes": true,
           "showland": true,
           "subunitcolor": "white"
          },
          "hoverlabel": {
           "align": "left"
          },
          "hovermode": "closest",
          "mapbox": {
           "style": "light"
          },
          "paper_bgcolor": "white",
          "plot_bgcolor": "#E5ECF6",
          "polar": {
           "angularaxis": {
            "gridcolor": "white",
            "linecolor": "white",
            "ticks": ""
           },
           "bgcolor": "#E5ECF6",
           "radialaxis": {
            "gridcolor": "white",
            "linecolor": "white",
            "ticks": ""
           }
          },
          "scene": {
           "xaxis": {
            "backgroundcolor": "#E5ECF6",
            "gridcolor": "white",
            "gridwidth": 2,
            "linecolor": "white",
            "showbackground": true,
            "ticks": "",
            "zerolinecolor": "white"
           },
           "yaxis": {
            "backgroundcolor": "#E5ECF6",
            "gridcolor": "white",
            "gridwidth": 2,
            "linecolor": "white",
            "showbackground": true,
            "ticks": "",
            "zerolinecolor": "white"
           },
           "zaxis": {
            "backgroundcolor": "#E5ECF6",
            "gridcolor": "white",
            "gridwidth": 2,
            "linecolor": "white",
            "showbackground": true,
            "ticks": "",
            "zerolinecolor": "white"
           }
          },
          "shapedefaults": {
           "line": {
            "color": "#2a3f5f"
           }
          },
          "ternary": {
           "aaxis": {
            "gridcolor": "white",
            "linecolor": "white",
            "ticks": ""
           },
           "baxis": {
            "gridcolor": "white",
            "linecolor": "white",
            "ticks": ""
           },
           "bgcolor": "#E5ECF6",
           "caxis": {
            "gridcolor": "white",
            "linecolor": "white",
            "ticks": ""
           }
          },
          "title": {
           "x": 0.05
          },
          "xaxis": {
           "automargin": true,
           "gridcolor": "white",
           "linecolor": "white",
           "ticks": "",
           "title": {
            "standoff": 15
           },
           "zerolinecolor": "white",
           "zerolinewidth": 2
          },
          "yaxis": {
           "automargin": true,
           "gridcolor": "white",
           "linecolor": "white",
           "ticks": "",
           "title": {
            "standoff": 15
           },
           "zerolinecolor": "white",
           "zerolinewidth": 2
          }
         }
        },
        "xaxis": {
         "anchor": "y",
         "domain": [
          0,
          1
         ],
         "title": {
          "text": "timestamp"
         }
        },
        "yaxis": {
         "anchor": "x",
         "domain": [
          0,
          1
         ],
         "title": {
          "text": "value"
         }
        }
       }
      }
     },
     "metadata": {},
     "output_type": "display_data"
    }
   ],
   "source": [
    "recent_weETH_discounts = lst_discounts[(lst_discounts.index > '9-16-2024') & (lst_discounts.index < '9-20-2024')].round(2)\n",
    "# I feel like something is wrong here, why is the actual value less then the value reduced the disoucnt\n",
    "px.line(recent_weETH_discounts[['weETH', 'wstETH']])"
   ]
  },
  {
   "cell_type": "code",
   "execution_count": null,
   "metadata": {},
   "outputs": [
    {
     "name": "stderr",
     "output_type": "stream",
     "text": [
      "2024-11-06 14:13:09.883 Thread 'MainThread': missing ScriptRunContext! This warning can be ignored when running in bare mode.\n",
      "2024-11-06 14:13:09.884 Thread 'MainThread': missing ScriptRunContext! This warning can be ignored when running in bare mode.\n",
      "2024-11-06 14:13:09.884 Thread 'MainThread': missing ScriptRunContext! This warning can be ignored when running in bare mode.\n",
      "2024-11-06 14:13:09.886 Thread 'MainThread': missing ScriptRunContext! This warning can be ignored when running in bare mode.\n",
      "2024-11-06 14:13:09.887 Thread 'MainThread': missing ScriptRunContext! This warning can be ignored when running in bare mode.\n",
      "/tmp/ipykernel_113692/115289135.py:41: FutureWarning:\n",
      "\n",
      "Series.__getitem__ treating keys as positions is deprecated. In a future version, integer keys will always be treated as labels (consistent with DataFrame behavior). To access a value by position, use `ser.iloc[pos]`\n",
      "\n"
     ]
    },
    {
     "data": {
      "text/html": [
       "<div>\n",
       "<style scoped>\n",
       "    .dataframe tbody tr th:only-of-type {\n",
       "        vertical-align: middle;\n",
       "    }\n",
       "\n",
       "    .dataframe tbody tr th {\n",
       "        vertical-align: top;\n",
       "    }\n",
       "\n",
       "    .dataframe thead th {\n",
       "        text-align: right;\n",
       "    }\n",
       "</style>\n",
       "<table border=\"1\" class=\"dataframe\">\n",
       "  <thead>\n",
       "    <tr style=\"text-align: right;\">\n",
       "      <th></th>\n",
       "      <th>WETH</th>\n",
       "      <th>rETH</th>\n",
       "      <th>osETH</th>\n",
       "      <th>wstETH</th>\n",
       "      <th>cbETH</th>\n",
       "      <th>ETHx</th>\n",
       "      <th>ezETH</th>\n",
       "      <th>weETH</th>\n",
       "      <th>rswETH</th>\n",
       "      <th>rsETH</th>\n",
       "      <th>pxETH</th>\n",
       "    </tr>\n",
       "    <tr>\n",
       "      <th>timestamp</th>\n",
       "      <th></th>\n",
       "      <th></th>\n",
       "      <th></th>\n",
       "      <th></th>\n",
       "      <th></th>\n",
       "      <th></th>\n",
       "      <th></th>\n",
       "      <th></th>\n",
       "      <th></th>\n",
       "      <th></th>\n",
       "      <th></th>\n",
       "    </tr>\n",
       "  </thead>\n",
       "  <tbody>\n",
       "    <tr>\n",
       "      <th>2024-09-15 02:04:47+00:00</th>\n",
       "      <td>1.000000e-13</td>\n",
       "      <td>0.0</td>\n",
       "      <td>0.0</td>\n",
       "      <td>0.000000</td>\n",
       "      <td>0.0</td>\n",
       "      <td>0.000000</td>\n",
       "      <td>0.0</td>\n",
       "      <td>0.0</td>\n",
       "      <td>0.0</td>\n",
       "      <td>0.000000</td>\n",
       "      <td>0.000000</td>\n",
       "    </tr>\n",
       "    <tr>\n",
       "      <th>2024-09-15 05:44:35+00:00</th>\n",
       "      <td>1.000000e-13</td>\n",
       "      <td>0.0</td>\n",
       "      <td>0.0</td>\n",
       "      <td>0.000000</td>\n",
       "      <td>0.0</td>\n",
       "      <td>0.000000</td>\n",
       "      <td>0.0</td>\n",
       "      <td>0.0</td>\n",
       "      <td>0.0</td>\n",
       "      <td>0.000000</td>\n",
       "      <td>0.000000</td>\n",
       "    </tr>\n",
       "    <tr>\n",
       "      <th>2024-09-15 09:24:47+00:00</th>\n",
       "      <td>1.000000e-13</td>\n",
       "      <td>0.0</td>\n",
       "      <td>0.0</td>\n",
       "      <td>0.000000</td>\n",
       "      <td>0.0</td>\n",
       "      <td>0.000000</td>\n",
       "      <td>0.0</td>\n",
       "      <td>0.0</td>\n",
       "      <td>0.0</td>\n",
       "      <td>0.000000</td>\n",
       "      <td>0.000000</td>\n",
       "    </tr>\n",
       "    <tr>\n",
       "      <th>2024-09-15 13:04:11+00:00</th>\n",
       "      <td>1.000000e-13</td>\n",
       "      <td>0.0</td>\n",
       "      <td>0.0</td>\n",
       "      <td>0.000000</td>\n",
       "      <td>0.0</td>\n",
       "      <td>0.000000</td>\n",
       "      <td>0.0</td>\n",
       "      <td>0.0</td>\n",
       "      <td>0.0</td>\n",
       "      <td>0.000000</td>\n",
       "      <td>0.000000</td>\n",
       "    </tr>\n",
       "    <tr>\n",
       "      <th>2024-09-15 16:44:23+00:00</th>\n",
       "      <td>1.000000e-13</td>\n",
       "      <td>0.0</td>\n",
       "      <td>0.0</td>\n",
       "      <td>0.000000</td>\n",
       "      <td>0.0</td>\n",
       "      <td>0.000000</td>\n",
       "      <td>0.0</td>\n",
       "      <td>0.0</td>\n",
       "      <td>0.0</td>\n",
       "      <td>0.000000</td>\n",
       "      <td>0.000000</td>\n",
       "    </tr>\n",
       "    <tr>\n",
       "      <th>...</th>\n",
       "      <td>...</td>\n",
       "      <td>...</td>\n",
       "      <td>...</td>\n",
       "      <td>...</td>\n",
       "      <td>...</td>\n",
       "      <td>...</td>\n",
       "      <td>...</td>\n",
       "      <td>...</td>\n",
       "      <td>...</td>\n",
       "      <td>...</td>\n",
       "      <td>...</td>\n",
       "    </tr>\n",
       "    <tr>\n",
       "      <th>2024-11-06 01:04:59+00:00</th>\n",
       "      <td>1.242458e+03</td>\n",
       "      <td>0.0</td>\n",
       "      <td>NaN</td>\n",
       "      <td>79.545359</td>\n",
       "      <td>NaN</td>\n",
       "      <td>155.285810</td>\n",
       "      <td>0.0</td>\n",
       "      <td>0.0</td>\n",
       "      <td>0.0</td>\n",
       "      <td>565.285327</td>\n",
       "      <td>2486.203596</td>\n",
       "    </tr>\n",
       "    <tr>\n",
       "      <th>2024-11-06 04:44:23+00:00</th>\n",
       "      <td>1.242010e+03</td>\n",
       "      <td>0.0</td>\n",
       "      <td>NaN</td>\n",
       "      <td>79.545359</td>\n",
       "      <td>NaN</td>\n",
       "      <td>155.285810</td>\n",
       "      <td>0.0</td>\n",
       "      <td>0.0</td>\n",
       "      <td>0.0</td>\n",
       "      <td>565.733220</td>\n",
       "      <td>2486.135437</td>\n",
       "    </tr>\n",
       "    <tr>\n",
       "      <th>2024-11-06 08:24:23+00:00</th>\n",
       "      <td>1.251673e+03</td>\n",
       "      <td>0.0</td>\n",
       "      <td>NaN</td>\n",
       "      <td>79.545359</td>\n",
       "      <td>NaN</td>\n",
       "      <td>155.285810</td>\n",
       "      <td>0.0</td>\n",
       "      <td>0.0</td>\n",
       "      <td>0.0</td>\n",
       "      <td>556.402921</td>\n",
       "      <td>2486.067073</td>\n",
       "    </tr>\n",
       "    <tr>\n",
       "      <th>2024-11-06 12:05:23+00:00</th>\n",
       "      <td>1.252582e+03</td>\n",
       "      <td>0.0</td>\n",
       "      <td>NaN</td>\n",
       "      <td>79.545359</td>\n",
       "      <td>NaN</td>\n",
       "      <td>155.285810</td>\n",
       "      <td>0.0</td>\n",
       "      <td>0.0</td>\n",
       "      <td>0.0</td>\n",
       "      <td>555.504776</td>\n",
       "      <td>2485.889429</td>\n",
       "    </tr>\n",
       "    <tr>\n",
       "      <th>2024-11-06 15:45:47+00:00</th>\n",
       "      <td>1.209870e+03</td>\n",
       "      <td>0.0</td>\n",
       "      <td>NaN</td>\n",
       "      <td>79.552367</td>\n",
       "      <td>NaN</td>\n",
       "      <td>158.435425</td>\n",
       "      <td>0.0</td>\n",
       "      <td>0.0</td>\n",
       "      <td>0.0</td>\n",
       "      <td>557.067469</td>\n",
       "      <td>2523.730119</td>\n",
       "    </tr>\n",
       "  </tbody>\n",
       "</table>\n",
       "<p>345 rows × 11 columns</p>\n",
       "</div>"
      ],
      "text/plain": [
       "                                   WETH  rETH  osETH     wstETH  cbETH  \\\n",
       "timestamp                                                                \n",
       "2024-09-15 02:04:47+00:00  1.000000e-13   0.0    0.0   0.000000    0.0   \n",
       "2024-09-15 05:44:35+00:00  1.000000e-13   0.0    0.0   0.000000    0.0   \n",
       "2024-09-15 09:24:47+00:00  1.000000e-13   0.0    0.0   0.000000    0.0   \n",
       "2024-09-15 13:04:11+00:00  1.000000e-13   0.0    0.0   0.000000    0.0   \n",
       "2024-09-15 16:44:23+00:00  1.000000e-13   0.0    0.0   0.000000    0.0   \n",
       "...                                 ...   ...    ...        ...    ...   \n",
       "2024-11-06 01:04:59+00:00  1.242458e+03   0.0    NaN  79.545359    NaN   \n",
       "2024-11-06 04:44:23+00:00  1.242010e+03   0.0    NaN  79.545359    NaN   \n",
       "2024-11-06 08:24:23+00:00  1.251673e+03   0.0    NaN  79.545359    NaN   \n",
       "2024-11-06 12:05:23+00:00  1.252582e+03   0.0    NaN  79.545359    NaN   \n",
       "2024-11-06 15:45:47+00:00  1.209870e+03   0.0    NaN  79.552367    NaN   \n",
       "\n",
       "                                 ETHx  ezETH  weETH  rswETH       rsETH  \\\n",
       "timestamp                                                                 \n",
       "2024-09-15 02:04:47+00:00    0.000000    0.0    0.0     0.0    0.000000   \n",
       "2024-09-15 05:44:35+00:00    0.000000    0.0    0.0     0.0    0.000000   \n",
       "2024-09-15 09:24:47+00:00    0.000000    0.0    0.0     0.0    0.000000   \n",
       "2024-09-15 13:04:11+00:00    0.000000    0.0    0.0     0.0    0.000000   \n",
       "2024-09-15 16:44:23+00:00    0.000000    0.0    0.0     0.0    0.000000   \n",
       "...                               ...    ...    ...     ...         ...   \n",
       "2024-11-06 01:04:59+00:00  155.285810    0.0    0.0     0.0  565.285327   \n",
       "2024-11-06 04:44:23+00:00  155.285810    0.0    0.0     0.0  565.733220   \n",
       "2024-11-06 08:24:23+00:00  155.285810    0.0    0.0     0.0  556.402921   \n",
       "2024-11-06 12:05:23+00:00  155.285810    0.0    0.0     0.0  555.504776   \n",
       "2024-11-06 15:45:47+00:00  158.435425    0.0    0.0     0.0  557.067469   \n",
       "\n",
       "                                 pxETH  \n",
       "timestamp                               \n",
       "2024-09-15 02:04:47+00:00     0.000000  \n",
       "2024-09-15 05:44:35+00:00     0.000000  \n",
       "2024-09-15 09:24:47+00:00     0.000000  \n",
       "2024-09-15 13:04:11+00:00     0.000000  \n",
       "2024-09-15 16:44:23+00:00     0.000000  \n",
       "...                                ...  \n",
       "2024-11-06 01:04:59+00:00  2486.203596  \n",
       "2024-11-06 04:44:23+00:00  2486.135437  \n",
       "2024-11-06 08:24:23+00:00  2486.067073  \n",
       "2024-11-06 12:05:23+00:00  2485.889429  \n",
       "2024-11-06 15:45:47+00:00  2523.730119  \n",
       "\n",
       "[345 rows x 11 columns]"
      ]
     },
     "execution_count": 48,
     "metadata": {},
     "output_type": "execute_result"
    }
   ],
   "source": [
    "def fetch_destination_eth_value_held_in_each_token(autopool: AutopoolConstants, blocks) -> pd.Series:\n",
    "    details = [d for d in get_destination_details() if d.autopool == autopool]\n",
    "    # autopoolNav in Idle df\n",
    "    lp_token_addresss_to_name = {d.lpTokenAddress: d.vault_name for d in details if d.lpTokenAddress is not None}\n",
    "\n",
    "    pool_and_destinations_df = get_raw_state_by_blocks([get_pools_and_destinations_call()], blocks)\n",
    "\n",
    "    def _extract_eth_value_of_underlying_assets_held(row: dict):\n",
    "        eth_value_of_assets_held = {}\n",
    "\n",
    "        for a, destination_list in zip(row[\"autopools\"], row[\"destinations\"]):\n",
    "            if a[\"poolAddress\"].lower() == autopool.autopool_eth_addr.lower():\n",
    "                # overestimate because we hold more of the discounted asset than if the price was at peg\n",
    "                # The invarients have the LP always holding more of the less valueable asset\n",
    "                \n",
    "                eth_value_of_assets_held['WETH'] =  a[\"totalIdle\"] / 1e18\n",
    "                \n",
    "                for dest in destination_list:\n",
    "                    symbols = [d['symbol'] for d in dest['underlyingTokenSymbols']]\n",
    "                    valueHeldInEth = [t[\"valueHeldInEth\"] / 1e18 for t in dest[\"underlyingTokenValueHeld\"]]\n",
    "                    \n",
    "                    for s, v in zip(symbols, valueHeldInEth):\n",
    "                        if s in eth_value_of_assets_held:\n",
    "                            eth_value_of_assets_held[s] += v\n",
    " \n",
    "                        else:\n",
    "                            eth_value_of_assets_held[s] = v\n",
    "        return eth_value_of_assets_held\n",
    "\n",
    "    eth_value_per_asset_df = pd.DataFrame.from_records(\n",
    "        pool_and_destinations_df[\"getPoolsAndDestinations\"].apply(_extract_eth_value_of_underlying_assets_held),\n",
    "        index=pool_and_destinations_df.index,\n",
    "    )\n",
    "\n",
    "    return eth_value_per_asset_df\n",
    "\n",
    "eth_value_per_asset_df = fetch_destination_eth_value_held_in_each_token(BAL_ETH, blocks)\n",
    "eth_value_per_asset_df"
   ]
  },
  {
   "cell_type": "code",
   "execution_count": 51,
   "metadata": {},
   "outputs": [
    {
     "data": {
      "application/vnd.plotly.v1+json": {
       "config": {
        "plotlyServerURL": "https://plot.ly"
       },
       "data": [
        {
         "hovertemplate": "variable=weETH<br>timestamp=%{x}<br>value=%{y}<extra></extra>",
         "legendgroup": "weETH",
         "line": {
          "color": "#636efa",
          "dash": "solid"
         },
         "marker": {
          "symbol": "circle"
         },
         "mode": "lines",
         "name": "weETH",
         "orientation": "v",
         "showlegend": true,
         "type": "scatter",
         "x": [
          "2024-09-16T00:03:11+00:00",
          "2024-09-16T03:43:47+00:00",
          "2024-09-16T07:23:23+00:00",
          "2024-09-16T11:04:47+00:00",
          "2024-09-16T14:46:11+00:00",
          "2024-09-16T18:26:47+00:00",
          "2024-09-16T22:06:23+00:00",
          "2024-09-17T01:46:35+00:00",
          "2024-09-17T05:27:47+00:00",
          "2024-09-17T09:08:35+00:00",
          "2024-09-17T12:48:23+00:00",
          "2024-09-17T16:29:11+00:00",
          "2024-09-17T20:09:47+00:00",
          "2024-09-17T23:50:47+00:00",
          "2024-09-18T03:30:35+00:00",
          "2024-09-18T07:11:35+00:00",
          "2024-09-18T10:51:35+00:00",
          "2024-09-18T14:32:23+00:00",
          "2024-09-18T18:12:23+00:00",
          "2024-09-18T21:52:47+00:00",
          "2024-09-19T01:33:11+00:00",
          "2024-09-19T05:13:23+00:00",
          "2024-09-19T08:53:23+00:00",
          "2024-09-19T12:33:23+00:00",
          "2024-09-19T16:13:23+00:00",
          "2024-09-19T19:53:23+00:00",
          "2024-09-19T23:33:11+00:00"
         ],
         "xaxis": "x",
         "y": [
          0,
          0,
          0,
          0,
          0,
          0,
          0,
          0,
          0,
          0,
          0,
          0,
          0,
          0,
          0,
          0,
          0,
          0,
          0,
          0,
          0,
          0,
          0,
          0,
          0,
          0,
          0
         ],
         "yaxis": "y"
        }
       ],
       "layout": {
        "legend": {
         "title": {
          "text": "variable"
         },
         "tracegroupgap": 0
        },
        "margin": {
         "t": 60
        },
        "template": {
         "data": {
          "bar": [
           {
            "error_x": {
             "color": "#2a3f5f"
            },
            "error_y": {
             "color": "#2a3f5f"
            },
            "marker": {
             "line": {
              "color": "#E5ECF6",
              "width": 0.5
             },
             "pattern": {
              "fillmode": "overlay",
              "size": 10,
              "solidity": 0.2
             }
            },
            "type": "bar"
           }
          ],
          "barpolar": [
           {
            "marker": {
             "line": {
              "color": "#E5ECF6",
              "width": 0.5
             },
             "pattern": {
              "fillmode": "overlay",
              "size": 10,
              "solidity": 0.2
             }
            },
            "type": "barpolar"
           }
          ],
          "carpet": [
           {
            "aaxis": {
             "endlinecolor": "#2a3f5f",
             "gridcolor": "white",
             "linecolor": "white",
             "minorgridcolor": "white",
             "startlinecolor": "#2a3f5f"
            },
            "baxis": {
             "endlinecolor": "#2a3f5f",
             "gridcolor": "white",
             "linecolor": "white",
             "minorgridcolor": "white",
             "startlinecolor": "#2a3f5f"
            },
            "type": "carpet"
           }
          ],
          "choropleth": [
           {
            "colorbar": {
             "outlinewidth": 0,
             "ticks": ""
            },
            "type": "choropleth"
           }
          ],
          "contour": [
           {
            "colorbar": {
             "outlinewidth": 0,
             "ticks": ""
            },
            "colorscale": [
             [
              0,
              "#0d0887"
             ],
             [
              0.1111111111111111,
              "#46039f"
             ],
             [
              0.2222222222222222,
              "#7201a8"
             ],
             [
              0.3333333333333333,
              "#9c179e"
             ],
             [
              0.4444444444444444,
              "#bd3786"
             ],
             [
              0.5555555555555556,
              "#d8576b"
             ],
             [
              0.6666666666666666,
              "#ed7953"
             ],
             [
              0.7777777777777778,
              "#fb9f3a"
             ],
             [
              0.8888888888888888,
              "#fdca26"
             ],
             [
              1,
              "#f0f921"
             ]
            ],
            "type": "contour"
           }
          ],
          "contourcarpet": [
           {
            "colorbar": {
             "outlinewidth": 0,
             "ticks": ""
            },
            "type": "contourcarpet"
           }
          ],
          "heatmap": [
           {
            "colorbar": {
             "outlinewidth": 0,
             "ticks": ""
            },
            "colorscale": [
             [
              0,
              "#0d0887"
             ],
             [
              0.1111111111111111,
              "#46039f"
             ],
             [
              0.2222222222222222,
              "#7201a8"
             ],
             [
              0.3333333333333333,
              "#9c179e"
             ],
             [
              0.4444444444444444,
              "#bd3786"
             ],
             [
              0.5555555555555556,
              "#d8576b"
             ],
             [
              0.6666666666666666,
              "#ed7953"
             ],
             [
              0.7777777777777778,
              "#fb9f3a"
             ],
             [
              0.8888888888888888,
              "#fdca26"
             ],
             [
              1,
              "#f0f921"
             ]
            ],
            "type": "heatmap"
           }
          ],
          "heatmapgl": [
           {
            "colorbar": {
             "outlinewidth": 0,
             "ticks": ""
            },
            "colorscale": [
             [
              0,
              "#0d0887"
             ],
             [
              0.1111111111111111,
              "#46039f"
             ],
             [
              0.2222222222222222,
              "#7201a8"
             ],
             [
              0.3333333333333333,
              "#9c179e"
             ],
             [
              0.4444444444444444,
              "#bd3786"
             ],
             [
              0.5555555555555556,
              "#d8576b"
             ],
             [
              0.6666666666666666,
              "#ed7953"
             ],
             [
              0.7777777777777778,
              "#fb9f3a"
             ],
             [
              0.8888888888888888,
              "#fdca26"
             ],
             [
              1,
              "#f0f921"
             ]
            ],
            "type": "heatmapgl"
           }
          ],
          "histogram": [
           {
            "marker": {
             "pattern": {
              "fillmode": "overlay",
              "size": 10,
              "solidity": 0.2
             }
            },
            "type": "histogram"
           }
          ],
          "histogram2d": [
           {
            "colorbar": {
             "outlinewidth": 0,
             "ticks": ""
            },
            "colorscale": [
             [
              0,
              "#0d0887"
             ],
             [
              0.1111111111111111,
              "#46039f"
             ],
             [
              0.2222222222222222,
              "#7201a8"
             ],
             [
              0.3333333333333333,
              "#9c179e"
             ],
             [
              0.4444444444444444,
              "#bd3786"
             ],
             [
              0.5555555555555556,
              "#d8576b"
             ],
             [
              0.6666666666666666,
              "#ed7953"
             ],
             [
              0.7777777777777778,
              "#fb9f3a"
             ],
             [
              0.8888888888888888,
              "#fdca26"
             ],
             [
              1,
              "#f0f921"
             ]
            ],
            "type": "histogram2d"
           }
          ],
          "histogram2dcontour": [
           {
            "colorbar": {
             "outlinewidth": 0,
             "ticks": ""
            },
            "colorscale": [
             [
              0,
              "#0d0887"
             ],
             [
              0.1111111111111111,
              "#46039f"
             ],
             [
              0.2222222222222222,
              "#7201a8"
             ],
             [
              0.3333333333333333,
              "#9c179e"
             ],
             [
              0.4444444444444444,
              "#bd3786"
             ],
             [
              0.5555555555555556,
              "#d8576b"
             ],
             [
              0.6666666666666666,
              "#ed7953"
             ],
             [
              0.7777777777777778,
              "#fb9f3a"
             ],
             [
              0.8888888888888888,
              "#fdca26"
             ],
             [
              1,
              "#f0f921"
             ]
            ],
            "type": "histogram2dcontour"
           }
          ],
          "mesh3d": [
           {
            "colorbar": {
             "outlinewidth": 0,
             "ticks": ""
            },
            "type": "mesh3d"
           }
          ],
          "parcoords": [
           {
            "line": {
             "colorbar": {
              "outlinewidth": 0,
              "ticks": ""
             }
            },
            "type": "parcoords"
           }
          ],
          "pie": [
           {
            "automargin": true,
            "type": "pie"
           }
          ],
          "scatter": [
           {
            "fillpattern": {
             "fillmode": "overlay",
             "size": 10,
             "solidity": 0.2
            },
            "type": "scatter"
           }
          ],
          "scatter3d": [
           {
            "line": {
             "colorbar": {
              "outlinewidth": 0,
              "ticks": ""
             }
            },
            "marker": {
             "colorbar": {
              "outlinewidth": 0,
              "ticks": ""
             }
            },
            "type": "scatter3d"
           }
          ],
          "scattercarpet": [
           {
            "marker": {
             "colorbar": {
              "outlinewidth": 0,
              "ticks": ""
             }
            },
            "type": "scattercarpet"
           }
          ],
          "scattergeo": [
           {
            "marker": {
             "colorbar": {
              "outlinewidth": 0,
              "ticks": ""
             }
            },
            "type": "scattergeo"
           }
          ],
          "scattergl": [
           {
            "marker": {
             "colorbar": {
              "outlinewidth": 0,
              "ticks": ""
             }
            },
            "type": "scattergl"
           }
          ],
          "scattermapbox": [
           {
            "marker": {
             "colorbar": {
              "outlinewidth": 0,
              "ticks": ""
             }
            },
            "type": "scattermapbox"
           }
          ],
          "scatterpolar": [
           {
            "marker": {
             "colorbar": {
              "outlinewidth": 0,
              "ticks": ""
             }
            },
            "type": "scatterpolar"
           }
          ],
          "scatterpolargl": [
           {
            "marker": {
             "colorbar": {
              "outlinewidth": 0,
              "ticks": ""
             }
            },
            "type": "scatterpolargl"
           }
          ],
          "scatterternary": [
           {
            "marker": {
             "colorbar": {
              "outlinewidth": 0,
              "ticks": ""
             }
            },
            "type": "scatterternary"
           }
          ],
          "surface": [
           {
            "colorbar": {
             "outlinewidth": 0,
             "ticks": ""
            },
            "colorscale": [
             [
              0,
              "#0d0887"
             ],
             [
              0.1111111111111111,
              "#46039f"
             ],
             [
              0.2222222222222222,
              "#7201a8"
             ],
             [
              0.3333333333333333,
              "#9c179e"
             ],
             [
              0.4444444444444444,
              "#bd3786"
             ],
             [
              0.5555555555555556,
              "#d8576b"
             ],
             [
              0.6666666666666666,
              "#ed7953"
             ],
             [
              0.7777777777777778,
              "#fb9f3a"
             ],
             [
              0.8888888888888888,
              "#fdca26"
             ],
             [
              1,
              "#f0f921"
             ]
            ],
            "type": "surface"
           }
          ],
          "table": [
           {
            "cells": {
             "fill": {
              "color": "#EBF0F8"
             },
             "line": {
              "color": "white"
             }
            },
            "header": {
             "fill": {
              "color": "#C8D4E3"
             },
             "line": {
              "color": "white"
             }
            },
            "type": "table"
           }
          ]
         },
         "layout": {
          "annotationdefaults": {
           "arrowcolor": "#2a3f5f",
           "arrowhead": 0,
           "arrowwidth": 1
          },
          "autotypenumbers": "strict",
          "coloraxis": {
           "colorbar": {
            "outlinewidth": 0,
            "ticks": ""
           }
          },
          "colorscale": {
           "diverging": [
            [
             0,
             "#8e0152"
            ],
            [
             0.1,
             "#c51b7d"
            ],
            [
             0.2,
             "#de77ae"
            ],
            [
             0.3,
             "#f1b6da"
            ],
            [
             0.4,
             "#fde0ef"
            ],
            [
             0.5,
             "#f7f7f7"
            ],
            [
             0.6,
             "#e6f5d0"
            ],
            [
             0.7,
             "#b8e186"
            ],
            [
             0.8,
             "#7fbc41"
            ],
            [
             0.9,
             "#4d9221"
            ],
            [
             1,
             "#276419"
            ]
           ],
           "sequential": [
            [
             0,
             "#0d0887"
            ],
            [
             0.1111111111111111,
             "#46039f"
            ],
            [
             0.2222222222222222,
             "#7201a8"
            ],
            [
             0.3333333333333333,
             "#9c179e"
            ],
            [
             0.4444444444444444,
             "#bd3786"
            ],
            [
             0.5555555555555556,
             "#d8576b"
            ],
            [
             0.6666666666666666,
             "#ed7953"
            ],
            [
             0.7777777777777778,
             "#fb9f3a"
            ],
            [
             0.8888888888888888,
             "#fdca26"
            ],
            [
             1,
             "#f0f921"
            ]
           ],
           "sequentialminus": [
            [
             0,
             "#0d0887"
            ],
            [
             0.1111111111111111,
             "#46039f"
            ],
            [
             0.2222222222222222,
             "#7201a8"
            ],
            [
             0.3333333333333333,
             "#9c179e"
            ],
            [
             0.4444444444444444,
             "#bd3786"
            ],
            [
             0.5555555555555556,
             "#d8576b"
            ],
            [
             0.6666666666666666,
             "#ed7953"
            ],
            [
             0.7777777777777778,
             "#fb9f3a"
            ],
            [
             0.8888888888888888,
             "#fdca26"
            ],
            [
             1,
             "#f0f921"
            ]
           ]
          },
          "colorway": [
           "#636efa",
           "#EF553B",
           "#00cc96",
           "#ab63fa",
           "#FFA15A",
           "#19d3f3",
           "#FF6692",
           "#B6E880",
           "#FF97FF",
           "#FECB52"
          ],
          "font": {
           "color": "#2a3f5f"
          },
          "geo": {
           "bgcolor": "white",
           "lakecolor": "white",
           "landcolor": "#E5ECF6",
           "showlakes": true,
           "showland": true,
           "subunitcolor": "white"
          },
          "hoverlabel": {
           "align": "left"
          },
          "hovermode": "closest",
          "mapbox": {
           "style": "light"
          },
          "paper_bgcolor": "white",
          "plot_bgcolor": "#E5ECF6",
          "polar": {
           "angularaxis": {
            "gridcolor": "white",
            "linecolor": "white",
            "ticks": ""
           },
           "bgcolor": "#E5ECF6",
           "radialaxis": {
            "gridcolor": "white",
            "linecolor": "white",
            "ticks": ""
           }
          },
          "scene": {
           "xaxis": {
            "backgroundcolor": "#E5ECF6",
            "gridcolor": "white",
            "gridwidth": 2,
            "linecolor": "white",
            "showbackground": true,
            "ticks": "",
            "zerolinecolor": "white"
           },
           "yaxis": {
            "backgroundcolor": "#E5ECF6",
            "gridcolor": "white",
            "gridwidth": 2,
            "linecolor": "white",
            "showbackground": true,
            "ticks": "",
            "zerolinecolor": "white"
           },
           "zaxis": {
            "backgroundcolor": "#E5ECF6",
            "gridcolor": "white",
            "gridwidth": 2,
            "linecolor": "white",
            "showbackground": true,
            "ticks": "",
            "zerolinecolor": "white"
           }
          },
          "shapedefaults": {
           "line": {
            "color": "#2a3f5f"
           }
          },
          "ternary": {
           "aaxis": {
            "gridcolor": "white",
            "linecolor": "white",
            "ticks": ""
           },
           "baxis": {
            "gridcolor": "white",
            "linecolor": "white",
            "ticks": ""
           },
           "bgcolor": "#E5ECF6",
           "caxis": {
            "gridcolor": "white",
            "linecolor": "white",
            "ticks": ""
           }
          },
          "title": {
           "x": 0.05
          },
          "xaxis": {
           "automargin": true,
           "gridcolor": "white",
           "linecolor": "white",
           "ticks": "",
           "title": {
            "standoff": 15
           },
           "zerolinecolor": "white",
           "zerolinewidth": 2
          },
          "yaxis": {
           "automargin": true,
           "gridcolor": "white",
           "linecolor": "white",
           "ticks": "",
           "title": {
            "standoff": 15
           },
           "zerolinecolor": "white",
           "zerolinewidth": 2
          }
         }
        },
        "xaxis": {
         "anchor": "y",
         "domain": [
          0,
          1
         ],
         "title": {
          "text": "timestamp"
         }
        },
        "yaxis": {
         "anchor": "x",
         "domain": [
          0,
          1
         ],
         "title": {
          "text": "value"
         }
        }
       }
      }
     },
     "metadata": {},
     "output_type": "display_data"
    }
   ],
   "source": [
    "early_eth_value_per_asset_df =  eth_value_per_asset_df[(eth_value_per_asset_df.index > '9-16-2024') & (eth_value_per_asset_df.index < '9-20-2024')].round(2)\n",
    "px.line(early_eth_value_per_asset_df[['weETH']])"
   ]
  },
  {
   "cell_type": "code",
   "execution_count": null,
   "metadata": {},
   "outputs": [],
   "source": [
    "# somethign is wrong"
   ]
  }
 ],
 "metadata": {
  "kernelspec": {
   "display_name": ".venv",
   "language": "python",
   "name": "python3"
  },
  "language_info": {
   "codemirror_mode": {
    "name": "ipython",
    "version": 3
   },
   "file_extension": ".py",
   "mimetype": "text/x-python",
   "name": "python",
   "nbconvert_exporter": "python",
   "pygments_lexer": "ipython3",
   "version": "3.10.14"
  }
 },
 "nbformat": 4,
 "nbformat_minor": 2
}
