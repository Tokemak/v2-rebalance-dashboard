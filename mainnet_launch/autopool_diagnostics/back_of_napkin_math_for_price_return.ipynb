{
 "cells": [
  {
   "cell_type": "code",
   "execution_count": 2,
   "metadata": {},
   "outputs": [],
   "source": [
    "# case 1, LST: WETH\n",
    "\n",
    "\n",
    "# LST:LST\n",
    "\n",
    "\n",
    "imbalanced_reserves_in_eth = [99, 1]\n",
    "balanced_reserves_in_eth = [50, 50]\n",
    "\n",
    "\n",
    "# at the limit\n",
    "# price return == 5%, we are 100% in wstETH\n",
    "\n",
    "# lets say holding (100, 0 frxETH) at .95 ETH\n",
    "\n",
    "discounts = [5, 0]\n",
    "\n",
    "# 50% of each token, (or 33% for 3 token pools)\n",
    "\n",
    "# price return shows as\n",
    "\n",
    "\n",
    "def current_price_return_method(reserves_in_eth, asset_discounts):\n",
    "    total_reserves = sum(reserves_in_eth)\n",
    "    portion_reserves = [(reserves_in_eth[0] / total_reserves), (reserves_in_eth[1] / total_reserves)]\n",
    "    price_return = (portion_reserves[0] * asset_discounts[0]) + (portion_reserves[1] * asset_discounts[1])\n",
    "    return price_return\n",
    "\n",
    "\n",
    "def price_return_adjusted_for_reserves(reserves_in_eth, asset_discounts):\n",
    "    # assumption, at peg, the pool has 50:50 ratio of assets\n",
    "    # in practice, the ratio of assets can be off quite a bit without\n",
    "    # # having significant price impact\n",
    "    return (asset_discounts[0] * 0.5) + (asset_discounts[1] * 0.5)"
   ]
  },
  {
   "cell_type": "code",
   "execution_count": 14,
   "metadata": {},
   "outputs": [
    {
     "data": {
      "text/plain": [
       "5.0"
      ]
     },
     "execution_count": 14,
     "metadata": {},
     "output_type": "execute_result"
    }
   ],
   "source": [
    "current_price_return_method([100, 0], [5, 0])\n",
    "# the 100 frxETH 0 ETH scenerio (eg in a gryoscrope pool)\n",
    "# in a stable swap pool it is more"
   ]
  },
  {
   "cell_type": "code",
   "execution_count": 29,
   "metadata": {},
   "outputs": [
    {
     "data": {
      "text/plain": [
       "5.5237112420170736e+19"
      ]
     },
     "execution_count": 29,
     "metadata": {},
     "output_type": "execute_result"
    }
   ],
   "source": [
    "A_PRECISION = 50\n",
    "\n",
    "\n",
    "def get_D(xp, amp=200):\n",
    "    \"\"\"\n",
    "    D invariant calculation in non-overflowing integer operations\n",
    "    iteratively\n",
    "    A * sum(x_i) * n**n + D = A * D * n**n + D**(n+1) / (n**n * prod(x_i))\n",
    "    Converging solution:\n",
    "    D[j+1] = (A * n**n * sum(x_i) - D[j]**(n+1) / (n**n prod(x_i))) / (A * n**n - 1)\n",
    "    \"\"\"\n",
    "    N_COINS = len(xp)\n",
    "\n",
    "    S = sum(xp)\n",
    "    if S == 0:\n",
    "        return 0\n",
    "\n",
    "    D = S\n",
    "    Ann = amp * N_COINS\n",
    "    for i in range(255):\n",
    "        D_P = D\n",
    "        for x in xp:\n",
    "            D_P = D_P * D // (x * N_COINS + 1)  # +1 is to prevent /0\n",
    "        Dprev = D\n",
    "        D = (\n",
    "            (Ann * S // A_PRECISION + D_P * N_COINS)\n",
    "            * D\n",
    "            // ((Ann - A_PRECISION) * D // A_PRECISION + (N_COINS + 1) * D_P)\n",
    "        )\n",
    "        # Equality with the precision of 1\n",
    "        if D > Dprev:\n",
    "            if D - Dprev <= 1:\n",
    "                return D\n",
    "        else:\n",
    "            if Dprev - D <= 1:\n",
    "                return D\n",
    "    # convergence typically occurs in 4 rounds or less, this should be unreachable!\n",
    "    # if it does happen the pool is borked and LPs can withdraw via `remove_liquidity`\n",
    "    raise\n",
    "\n",
    "\n",
    "get_D([100e18, 1e18])"
   ]
  },
  {
   "cell_type": "code",
   "execution_count": 25,
   "metadata": {},
   "outputs": [
    {
     "data": {
      "text/plain": [
       "0.015349999999999975"
      ]
     },
     "execution_count": 25,
     "metadata": {},
     "output_type": "execute_result"
    }
   ],
   "source": [
    "(1015.35 / 1000) - 1"
   ]
  },
  {
   "cell_type": "code",
   "execution_count": null,
   "metadata": {},
   "outputs": [
    {
     "data": {
      "text/plain": [
       "(97.0, 100.0)"
      ]
     },
     "execution_count": 22,
     "metadata": {},
     "output_type": "execute_result"
    }
   ],
   "source": [
    "p0 = [3, 0]\n",
    "reserves_0_quanity = [100, 0]\n",
    "\n",
    "p1 = [0, 0]\n",
    "reserves_1_quanity = [50, 50]\n",
    "\n",
    "start_value = ((100 - p0[0]) / 100 * reserves_0_quanity[0]) + ((100 - p0[1]) / 100 * reserves_0_quanity[1])\n",
    "end_value = ((100 - p1[0]) / 100 * reserves_1_quanity[0]) + ((100 - p1[1]) / 100 * reserves_1_quanity[1])\n",
    "start_value, end_value"
   ]
  },
  {
   "cell_type": "code",
   "execution_count": null,
   "metadata": {},
   "outputs": [],
   "source": [
    "# gyroscope lst:lst pool that is fully in one\n",
    "price_return_adjusted_for_reserves(reserves_0, p0)"
   ]
  },
  {
   "cell_type": "code",
   "execution_count": 5,
   "metadata": {},
   "outputs": [
    {
     "data": {
      "text/plain": [
       "2.5"
      ]
     },
     "execution_count": 5,
     "metadata": {},
     "output_type": "execute_result"
    }
   ],
   "source": [
    "price_return_adjusted_for_reserves([100, 0], [5, 0])  # the 100 frxETH 0ETH scenerio\n",
    "# because we get traded against, at peg it should be 50 frxETH , 50ETH"
   ]
  },
  {
   "cell_type": "code",
   "execution_count": 6,
   "metadata": {},
   "outputs": [],
   "source": [
    "# I'm confident the LST:WETH example makes sense\n",
    "# not confident on the LST:LST example,"
   ]
  },
  {
   "cell_type": "code",
   "execution_count": 7,
   "metadata": {},
   "outputs": [
    {
     "data": {
      "text/plain": [
       "2.6999999999999997"
      ]
     },
     "execution_count": 7,
     "metadata": {},
     "output_type": "execute_result"
    }
   ],
   "source": [
    "current_price_return_method([30, 70], [2, 3])\n",
    "# example: we are in a wstETH,cbETH pool, wstETH is at a 2% depeg and cbETH is at a 3% discount"
   ]
  },
  {
   "cell_type": "code",
   "execution_count": 8,
   "metadata": {},
   "outputs": [
    {
     "data": {
      "text/plain": [
       "2.0999999999999996"
      ]
     },
     "execution_count": 8,
     "metadata": {},
     "output_type": "execute_result"
    }
   ],
   "source": [
    "current_price_return_method([30, 70], [0, 3])  # some of these are not valid,"
   ]
  },
  {
   "cell_type": "code",
   "execution_count": null,
   "metadata": {},
   "outputs": [],
   "source": []
  },
  {
   "cell_type": "code",
   "execution_count": 9,
   "metadata": {},
   "outputs": [
    {
     "data": {
      "text/plain": [
       "1.5"
      ]
     },
     "execution_count": 9,
     "metadata": {},
     "output_type": "execute_result"
    }
   ],
   "source": [
    "price_return_adjusted_for_reserves([30, 70], [0, 3])"
   ]
  },
  {
   "cell_type": "code",
   "execution_count": null,
   "metadata": {},
   "outputs": [],
   "source": []
  },
  {
   "cell_type": "code",
   "execution_count": 10,
   "metadata": {},
   "outputs": [],
   "source": [
    "# however if they both return to peg then we should have 50-50 cbETH and wstETH\n",
    "# so we end up with 50cbETH and 50 wstETH,\n",
    "\n",
    "prior_wstETH_quantity = 30 / 0.98  # X * .98 = 30\n",
    "prior_cbETH_quantity = 70 / 0.97\n",
    "\n",
    "at_peg_wstETH_quanity = 50\n",
    "at_peg_wstETH_quanity = 50\n",
    "# I don't think this is right,\n",
    "\n",
    "# in this case, I expect the pool will have"
   ]
  },
  {
   "cell_type": "code",
   "execution_count": 11,
   "metadata": {},
   "outputs": [
    {
     "ename": "SyntaxError",
     "evalue": "cannot assign to expression here. Maybe you meant '==' instead of '='? (35238862.py, line 1)",
     "output_type": "error",
     "traceback": [
      "\u001b[0;36m  Cell \u001b[0;32mIn[11], line 1\u001b[0;36m\u001b[0m\n\u001b[0;31m    X * .98 = 30\u001b[0m\n\u001b[0m    ^\u001b[0m\n\u001b[0;31mSyntaxError\u001b[0m\u001b[0;31m:\u001b[0m cannot assign to expression here. Maybe you meant '==' instead of '='?\n"
     ]
    }
   ],
   "source": [
    "X * .98 = 30"
   ]
  },
  {
   "cell_type": "code",
   "execution_count": null,
   "metadata": {},
   "outputs": [
    {
     "data": {
      "text/plain": [
       "30.612244897959183"
      ]
     },
     "execution_count": 9,
     "metadata": {},
     "output_type": "execute_result"
    }
   ],
   "source": [
    "30 / 0.98"
   ]
  },
  {
   "cell_type": "code",
   "execution_count": null,
   "metadata": {},
   "outputs": [],
   "source": [
    "3"
   ]
  },
  {
   "cell_type": "code",
   "execution_count": null,
   "metadata": {},
   "outputs": [],
   "source": [
    "# price_return_adjusted_for_reserves([30, 70], [2,3])\n",
    "# example: we are in a wstETH,cbETH pool, wstETH is at a 2% depeg and cbETH is at a 3% discount"
   ]
  },
  {
   "cell_type": "code",
   "execution_count": null,
   "metadata": {},
   "outputs": [],
   "source": []
  },
  {
   "cell_type": "code",
   "execution_count": null,
   "metadata": {},
   "outputs": [],
   "source": []
  },
  {
   "cell_type": "code",
   "execution_count": null,
   "metadata": {},
   "outputs": [],
   "source": []
  }
 ],
 "metadata": {
  "kernelspec": {
   "display_name": ".venv",
   "language": "python",
   "name": "python3"
  },
  "language_info": {
   "codemirror_mode": {
    "name": "ipython",
    "version": 3
   },
   "file_extension": ".py",
   "mimetype": "text/x-python",
   "name": "python",
   "nbconvert_exporter": "python",
   "pygments_lexer": "ipython3",
   "version": "3.10.14"
  }
 },
 "nbformat": 4,
 "nbformat_minor": 2
}
