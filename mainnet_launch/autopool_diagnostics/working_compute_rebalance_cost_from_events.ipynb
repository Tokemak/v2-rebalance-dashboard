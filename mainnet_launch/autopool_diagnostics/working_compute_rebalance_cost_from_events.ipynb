{
 "cells": [
  {
   "cell_type": "code",
   "execution_count": 1,
   "metadata": {},
   "outputs": [
    {
     "name": "stderr",
     "output_type": "stream",
     "text": [
      "2024-11-15 13:43:52.181 WARNING streamlit.runtime.caching.cache_data_api: No runtime found, using MemoryCacheStorageManager\n",
      "2024-11-15 13:43:52.189 WARNING streamlit.runtime.caching.cache_data_api: No runtime found, using MemoryCacheStorageManager\n",
      "2024-11-15 13:43:52.191 WARNING streamlit.runtime.caching.cache_data_api: No runtime found, using MemoryCacheStorageManager\n",
      "2024-11-15 13:43:52.193 WARNING streamlit.runtime.caching.cache_data_api: No runtime found, using MemoryCacheStorageManager\n",
      "2024-11-15 13:43:52.604 WARNING streamlit.runtime.scriptrunner_utils.script_run_context: Thread 'MainThread': missing ScriptRunContext! This warning can be ignored when running in bare mode.\n",
      "2024-11-15 13:43:52.762 \n",
      "  \u001b[33m\u001b[1mWarning:\u001b[0m to view this Streamlit app on a browser, run it with the following\n",
      "  command:\n",
      "\n",
      "    streamlit run /home/parker/Documents/Tokemak/v2-rebalance-dashboard/.venv/lib/python3.10/site-packages/ipykernel_launcher.py [ARGUMENTS]\n",
      "2024-11-15 13:43:52.763 Thread 'MainThread': missing ScriptRunContext! This warning can be ignored when running in bare mode.\n",
      "2024-11-15 13:43:52.763 Thread 'MainThread': missing ScriptRunContext! This warning can be ignored when running in bare mode.\n",
      "2024-11-15 13:43:52.765 No runtime found, using MemoryCacheStorageManager\n",
      "2024-11-15 13:43:52.765 Thread 'MainThread': missing ScriptRunContext! This warning can be ignored when running in bare mode.\n",
      "2024-11-15 13:43:52.766 Thread 'MainThread': missing ScriptRunContext! This warning can be ignored when running in bare mode.\n",
      "2024-11-15 13:43:52.766 Thread 'MainThread': missing ScriptRunContext! This warning can be ignored when running in bare mode.\n",
      "2024-11-15 13:43:52.767 No runtime found, using MemoryCacheStorageManager\n",
      "2024-11-15 13:43:52.767 Thread 'MainThread': missing ScriptRunContext! This warning can be ignored when running in bare mode.\n",
      "2024-11-15 13:43:52.767 Thread 'MainThread': missing ScriptRunContext! This warning can be ignored when running in bare mode.\n",
      "2024-11-15 13:43:52.768 Thread 'MainThread': missing ScriptRunContext! This warning can be ignored when running in bare mode.\n",
      "2024-11-15 13:43:52.769 No runtime found, using MemoryCacheStorageManager\n",
      "2024-11-15 13:43:52.871 Thread 'MainThread': missing ScriptRunContext! This warning can be ignored when running in bare mode.\n",
      "2024-11-15 13:43:52.872 Thread 'MainThread': missing ScriptRunContext! This warning can be ignored when running in bare mode.\n",
      "2024-11-15 13:43:53.265 Thread 'Thread-4': missing ScriptRunContext! This warning can be ignored when running in bare mode.\n",
      "2024-11-15 13:43:53.266 Thread 'Thread-4': missing ScriptRunContext! This warning can be ignored when running in bare mode.\n",
      "2024-11-15 13:43:53.267 Thread 'Thread-5': missing ScriptRunContext! This warning can be ignored when running in bare mode.\n",
      "2024-11-15 13:43:53.271 Thread 'Thread-5': missing ScriptRunContext! This warning can be ignored when running in bare mode.\n",
      "2024-11-15 13:43:59.547 Thread 'MainThread': missing ScriptRunContext! This warning can be ignored when running in bare mode.\n",
      "2024-11-15 13:43:59.548 Thread 'MainThread': missing ScriptRunContext! This warning can be ignored when running in bare mode.\n",
      "2024-11-15 13:44:01.678 Thread 'MainThread': missing ScriptRunContext! This warning can be ignored when running in bare mode.\n",
      "2024-11-15 13:44:01.679 Thread 'MainThread': missing ScriptRunContext! This warning can be ignored when running in bare mode.\n",
      "2024-11-15 13:44:01.998 Thread 'MainThread': missing ScriptRunContext! This warning can be ignored when running in bare mode.\n",
      "2024-11-15 13:44:01.999 Thread 'MainThread': missing ScriptRunContext! This warning can be ignored when running in bare mode.\n",
      "2024-11-15 13:44:01.999 Thread 'MainThread': missing ScriptRunContext! This warning can be ignored when running in bare mode.\n",
      "2024-11-15 13:44:02.000 Thread 'MainThread': missing ScriptRunContext! This warning can be ignored when running in bare mode.\n",
      "2024-11-15 13:44:02.001 Thread 'MainThread': missing ScriptRunContext! This warning can be ignored when running in bare mode.\n"
     ]
    },
    {
     "data": {
      "text/html": [
       "<div>\n",
       "<style scoped>\n",
       "    .dataframe tbody tr th:only-of-type {\n",
       "        vertical-align: middle;\n",
       "    }\n",
       "\n",
       "    .dataframe tbody tr th {\n",
       "        vertical-align: top;\n",
       "    }\n",
       "\n",
       "    .dataframe thead th {\n",
       "        text-align: right;\n",
       "    }\n",
       "</style>\n",
       "<table border=\"1\" class=\"dataframe\">\n",
       "  <thead>\n",
       "    <tr style=\"text-align: right;\">\n",
       "      <th></th>\n",
       "      <th>from</th>\n",
       "      <th>to</th>\n",
       "      <th>value</th>\n",
       "      <th>event</th>\n",
       "      <th>block</th>\n",
       "      <th>transaction_index</th>\n",
       "      <th>log_index</th>\n",
       "      <th>hash</th>\n",
       "    </tr>\n",
       "  </thead>\n",
       "  <tbody>\n",
       "    <tr>\n",
       "      <th>0</th>\n",
       "      <td>0x067cB94576aBBDB3527055f3c8CaAAc9668364AD</td>\n",
       "      <td>0xE800e3760FC20aA98c5df6A9816147f190455AF3</td>\n",
       "      <td>26873810623182559970</td>\n",
       "      <td>Transfer</td>\n",
       "      <td>20901142</td>\n",
       "      <td>32</td>\n",
       "      <td>198</td>\n",
       "      <td>0x0d0016e2531e17af18c2c7f55e99c1c8de6af298a509...</td>\n",
       "    </tr>\n",
       "    <tr>\n",
       "      <th>1</th>\n",
       "      <td>0xC45e939ca8C43822A2A233404Ecf420712084c30</td>\n",
       "      <td>0xE800e3760FC20aA98c5df6A9816147f190455AF3</td>\n",
       "      <td>31205496157588898300</td>\n",
       "      <td>Transfer</td>\n",
       "      <td>20901251</td>\n",
       "      <td>14</td>\n",
       "      <td>121</td>\n",
       "      <td>0x190fdd1442cc5da8287970dfc675202533d975b4efa1...</td>\n",
       "    </tr>\n",
       "    <tr>\n",
       "      <th>2</th>\n",
       "      <td>0x0a103Dcf7f1a7DD4eB16f76391D16aE838868670</td>\n",
       "      <td>0xE800e3760FC20aA98c5df6A9816147f190455AF3</td>\n",
       "      <td>19637789326537956</td>\n",
       "      <td>Transfer</td>\n",
       "      <td>20901523</td>\n",
       "      <td>83</td>\n",
       "      <td>301</td>\n",
       "      <td>0x1f629991597545100f9eb4d9454c19abfc595395fb02...</td>\n",
       "    </tr>\n",
       "    <tr>\n",
       "      <th>3</th>\n",
       "      <td>0xbD2EB718d380b96B9522DC8199a46e79c16441b1</td>\n",
       "      <td>0xE800e3760FC20aA98c5df6A9816147f190455AF3</td>\n",
       "      <td>8872329360572879</td>\n",
       "      <td>Transfer</td>\n",
       "      <td>20901523</td>\n",
       "      <td>83</td>\n",
       "      <td>305</td>\n",
       "      <td>0x1f629991597545100f9eb4d9454c19abfc595395fb02...</td>\n",
       "    </tr>\n",
       "    <tr>\n",
       "      <th>4</th>\n",
       "      <td>0x8887530fF9b88b7fDE9B51f07Cb0b00f46B25e33</td>\n",
       "      <td>0xE800e3760FC20aA98c5df6A9816147f190455AF3</td>\n",
       "      <td>18347206113218383</td>\n",
       "      <td>Transfer</td>\n",
       "      <td>20901523</td>\n",
       "      <td>83</td>\n",
       "      <td>309</td>\n",
       "      <td>0x1f629991597545100f9eb4d9454c19abfc595395fb02...</td>\n",
       "    </tr>\n",
       "    <tr>\n",
       "      <th>...</th>\n",
       "      <td>...</td>\n",
       "      <td>...</td>\n",
       "      <td>...</td>\n",
       "      <td>...</td>\n",
       "      <td>...</td>\n",
       "      <td>...</td>\n",
       "      <td>...</td>\n",
       "      <td>...</td>\n",
       "    </tr>\n",
       "    <tr>\n",
       "      <th>100</th>\n",
       "      <td>0xc8e335482B46444e950629b4b07EF9ba58be723A</td>\n",
       "      <td>0xE800e3760FC20aA98c5df6A9816147f190455AF3</td>\n",
       "      <td>71082592751494204</td>\n",
       "      <td>Transfer</td>\n",
       "      <td>21065199</td>\n",
       "      <td>136</td>\n",
       "      <td>300</td>\n",
       "      <td>0xc0f350a04bf3d96b8cc10b9c0a284cdf10601abba763...</td>\n",
       "    </tr>\n",
       "    <tr>\n",
       "      <th>101</th>\n",
       "      <td>0x050E8a2be92fd5C67e0D69d3C750B27D8f4E771B</td>\n",
       "      <td>0xE800e3760FC20aA98c5df6A9816147f190455AF3</td>\n",
       "      <td>73808444544482878</td>\n",
       "      <td>Transfer</td>\n",
       "      <td>21069105</td>\n",
       "      <td>141</td>\n",
       "      <td>389</td>\n",
       "      <td>0x34d8283a85c61682fd73af90c28a2426214246e8079b...</td>\n",
       "    </tr>\n",
       "    <tr>\n",
       "      <th>102</th>\n",
       "      <td>0x8c25Fff8dc8518972Bd728A4575b2c55732B6298</td>\n",
       "      <td>0xE800e3760FC20aA98c5df6A9816147f190455AF3</td>\n",
       "      <td>9860739129628397</td>\n",
       "      <td>Transfer</td>\n",
       "      <td>21069105</td>\n",
       "      <td>141</td>\n",
       "      <td>393</td>\n",
       "      <td>0x34d8283a85c61682fd73af90c28a2426214246e8079b...</td>\n",
       "    </tr>\n",
       "    <tr>\n",
       "      <th>103</th>\n",
       "      <td>0xc8e335482B46444e950629b4b07EF9ba58be723A</td>\n",
       "      <td>0xE800e3760FC20aA98c5df6A9816147f190455AF3</td>\n",
       "      <td>45506132673603222</td>\n",
       "      <td>Transfer</td>\n",
       "      <td>21069105</td>\n",
       "      <td>141</td>\n",
       "      <td>397</td>\n",
       "      <td>0x34d8283a85c61682fd73af90c28a2426214246e8079b...</td>\n",
       "    </tr>\n",
       "    <tr>\n",
       "      <th>104</th>\n",
       "      <td>0x067cB94576aBBDB3527055f3c8CaAAc9668364AD</td>\n",
       "      <td>0xE800e3760FC20aA98c5df6A9816147f190455AF3</td>\n",
       "      <td>10883523076432098272</td>\n",
       "      <td>Transfer</td>\n",
       "      <td>21073995</td>\n",
       "      <td>24</td>\n",
       "      <td>193</td>\n",
       "      <td>0xf1a0592dfa87be9cf697969346fa348d6545edb117a1...</td>\n",
       "    </tr>\n",
       "  </tbody>\n",
       "</table>\n",
       "<p>105 rows × 8 columns</p>\n",
       "</div>"
      ],
      "text/plain": [
       "                                           from  \\\n",
       "0    0x067cB94576aBBDB3527055f3c8CaAAc9668364AD   \n",
       "1    0xC45e939ca8C43822A2A233404Ecf420712084c30   \n",
       "2    0x0a103Dcf7f1a7DD4eB16f76391D16aE838868670   \n",
       "3    0xbD2EB718d380b96B9522DC8199a46e79c16441b1   \n",
       "4    0x8887530fF9b88b7fDE9B51f07Cb0b00f46B25e33   \n",
       "..                                          ...   \n",
       "100  0xc8e335482B46444e950629b4b07EF9ba58be723A   \n",
       "101  0x050E8a2be92fd5C67e0D69d3C750B27D8f4E771B   \n",
       "102  0x8c25Fff8dc8518972Bd728A4575b2c55732B6298   \n",
       "103  0xc8e335482B46444e950629b4b07EF9ba58be723A   \n",
       "104  0x067cB94576aBBDB3527055f3c8CaAAc9668364AD   \n",
       "\n",
       "                                             to                 value  \\\n",
       "0    0xE800e3760FC20aA98c5df6A9816147f190455AF3  26873810623182559970   \n",
       "1    0xE800e3760FC20aA98c5df6A9816147f190455AF3  31205496157588898300   \n",
       "2    0xE800e3760FC20aA98c5df6A9816147f190455AF3     19637789326537956   \n",
       "3    0xE800e3760FC20aA98c5df6A9816147f190455AF3      8872329360572879   \n",
       "4    0xE800e3760FC20aA98c5df6A9816147f190455AF3     18347206113218383   \n",
       "..                                          ...                   ...   \n",
       "100  0xE800e3760FC20aA98c5df6A9816147f190455AF3     71082592751494204   \n",
       "101  0xE800e3760FC20aA98c5df6A9816147f190455AF3     73808444544482878   \n",
       "102  0xE800e3760FC20aA98c5df6A9816147f190455AF3      9860739129628397   \n",
       "103  0xE800e3760FC20aA98c5df6A9816147f190455AF3     45506132673603222   \n",
       "104  0xE800e3760FC20aA98c5df6A9816147f190455AF3  10883523076432098272   \n",
       "\n",
       "        event     block  transaction_index  log_index  \\\n",
       "0    Transfer  20901142                 32        198   \n",
       "1    Transfer  20901251                 14        121   \n",
       "2    Transfer  20901523                 83        301   \n",
       "3    Transfer  20901523                 83        305   \n",
       "4    Transfer  20901523                 83        309   \n",
       "..        ...       ...                ...        ...   \n",
       "100  Transfer  21065199                136        300   \n",
       "101  Transfer  21069105                141        389   \n",
       "102  Transfer  21069105                141        393   \n",
       "103  Transfer  21069105                141        397   \n",
       "104  Transfer  21073995                 24        193   \n",
       "\n",
       "                                                  hash  \n",
       "0    0x0d0016e2531e17af18c2c7f55e99c1c8de6af298a509...  \n",
       "1    0x190fdd1442cc5da8287970dfc675202533d975b4efa1...  \n",
       "2    0x1f629991597545100f9eb4d9454c19abfc595395fb02...  \n",
       "3    0x1f629991597545100f9eb4d9454c19abfc595395fb02...  \n",
       "4    0x1f629991597545100f9eb4d9454c19abfc595395fb02...  \n",
       "..                                                 ...  \n",
       "100  0xc0f350a04bf3d96b8cc10b9c0a284cdf10601abba763...  \n",
       "101  0x34d8283a85c61682fd73af90c28a2426214246e8079b...  \n",
       "102  0x34d8283a85c61682fd73af90c28a2426214246e8079b...  \n",
       "103  0x34d8283a85c61682fd73af90c28a2426214246e8079b...  \n",
       "104  0xf1a0592dfa87be9cf697969346fa348d6545edb117a1...  \n",
       "\n",
       "[105 rows x 8 columns]"
      ]
     },
     "execution_count": 1,
     "metadata": {},
     "output_type": "execute_result"
    }
   ],
   "source": [
    "from mainnet_launch.autopool_diagnostics.compute_rebalance_cost import (\n",
    "    eth_client,\n",
    "    AutopoolConstants,\n",
    "    fetch_spot_value_of_rebalances_from_dest_to_idle,\n",
    "    AUTO_LRT,\n",
    ")\n",
    "\n",
    "#\n",
    "UnderlyingWithdraw_df, validated_spot_price_df, rebalance_to_idle_df = fetch_spot_value_of_rebalances_from_dest_to_idle(\n",
    "    AUTO_LRT\n",
    ")\n",
    "\n",
    "from mainnet_launch.abis.abis import (\n",
    "    AUTOPOOL_ETH_STRATEGY_ABI,\n",
    "    BALANCER_AURA_DESTINATION_VAULT_ABI,\n",
    "    AUTOPOOL_VAULT_ABI,\n",
    "    ERC_20_ABI,\n",
    ")\n",
    "import pandas as pd\n",
    "from mainnet_launch.data_fetching.get_events import fetch_events\n",
    "\n",
    "\n",
    "def fetch_weth_transfers_to_autopool_vault(\n",
    "    autopool: AutopoolConstants, rebalance_to_idle_df: pd.DataFrame\n",
    ") -> pd.DataFrame:\n",
    "\n",
    "    WETH = \"0xC02aaA39b223FE8D0A0e5C4F27eAD9083C756Cc2\"\n",
    "    weth_contract = eth_client.eth.contract(WETH, abi=ERC_20_ABI)\n",
    "\n",
    "    weth_transfer_df = fetch_events(\n",
    "        weth_contract.events.Transfer,\n",
    "        start_block=rebalance_to_idle_df[\"block\"].min(),\n",
    "        end_block=rebalance_to_idle_df[\"block\"].max(),\n",
    "        argument_filters={\"to\": autopool.autopool_eth_addr},\n",
    "    )\n",
    "    \n",
    "    return weth_transfer_df\n",
    "\n",
    "\n",
    "weth_transfer_df = fetch_weth_transfers_to_autopool_vault(AUTO_LRT, rebalance_to_idle_df)\n",
    "weth_transfer_df"
   ]
  },
  {
   "cell_type": "code",
   "execution_count": 15,
   "metadata": {},
   "outputs": [],
   "source": [
    "weth_transfer_df['WETH_sent_to_autopool'] = weth_transfer_df['value'].apply(lambda x: int(x) /1e18)\n",
    "UnderlyingWithdraw_df['lpTokens_withdrawn'] = UnderlyingWithdraw_df['amount'].apply(lambda x: int(x) /1e18)"
   ]
  },
  {
   "cell_type": "code",
   "execution_count": 16,
   "metadata": {},
   "outputs": [
    {
     "data": {
      "text/html": [
       "<div>\n",
       "<style scoped>\n",
       "    .dataframe tbody tr th:only-of-type {\n",
       "        vertical-align: middle;\n",
       "    }\n",
       "\n",
       "    .dataframe tbody tr th {\n",
       "        vertical-align: top;\n",
       "    }\n",
       "\n",
       "    .dataframe thead th {\n",
       "        text-align: right;\n",
       "    }\n",
       "</style>\n",
       "<table border=\"1\" class=\"dataframe\">\n",
       "  <thead>\n",
       "    <tr style=\"text-align: right;\">\n",
       "      <th></th>\n",
       "      <th>valueStats</th>\n",
       "      <th>outSummary</th>\n",
       "      <th>params</th>\n",
       "      <th>event</th>\n",
       "      <th>block</th>\n",
       "      <th>transaction_index</th>\n",
       "      <th>log_index</th>\n",
       "      <th>hash</th>\n",
       "      <th>WETH_sent_to_autopool</th>\n",
       "      <th>lpTokens_withdrawn</th>\n",
       "    </tr>\n",
       "  </thead>\n",
       "  <tbody>\n",
       "    <tr>\n",
       "      <th>0</th>\n",
       "      <td>(1000000000000000000, 1017356409549105825, 268...</td>\n",
       "      <td>(0x90300b02b162F902B9629963830BcCCdeEd71113, 2...</td>\n",
       "      <td>(0xE800e3760FC20aA98c5df6A9816147f190455AF3, 0...</td>\n",
       "      <td>RebalanceToIdle</td>\n",
       "      <td>20901142</td>\n",
       "      <td>32</td>\n",
       "      <td>204</td>\n",
       "      <td>0x0d0016e2531e17af18c2c7f55e99c1c8de6af298a509...</td>\n",
       "      <td>26.873811</td>\n",
       "      <td>26.412461</td>\n",
       "    </tr>\n",
       "    <tr>\n",
       "      <th>1</th>\n",
       "      <td>(1000000000000000000, 1016503333361544594, 108...</td>\n",
       "      <td>(0xf9779aEF9f77e78C857CB4A068c65CcBee25BAAc, 2...</td>\n",
       "      <td>(0xE800e3760FC20aA98c5df6A9816147f190455AF3, 0...</td>\n",
       "      <td>RebalanceToIdle</td>\n",
       "      <td>21073995</td>\n",
       "      <td>24</td>\n",
       "      <td>198</td>\n",
       "      <td>0xf1a0592dfa87be9cf697969346fa348d6545edb117a1...</td>\n",
       "      <td>10.883523</td>\n",
       "      <td>10.669619</td>\n",
       "    </tr>\n",
       "  </tbody>\n",
       "</table>\n",
       "</div>"
      ],
      "text/plain": [
       "                                          valueStats  \\\n",
       "0  (1000000000000000000, 1017356409549105825, 268...   \n",
       "1  (1000000000000000000, 1016503333361544594, 108...   \n",
       "\n",
       "                                          outSummary  \\\n",
       "0  (0x90300b02b162F902B9629963830BcCCdeEd71113, 2...   \n",
       "1  (0xf9779aEF9f77e78C857CB4A068c65CcBee25BAAc, 2...   \n",
       "\n",
       "                                              params            event  \\\n",
       "0  (0xE800e3760FC20aA98c5df6A9816147f190455AF3, 0...  RebalanceToIdle   \n",
       "1  (0xE800e3760FC20aA98c5df6A9816147f190455AF3, 0...  RebalanceToIdle   \n",
       "\n",
       "      block  transaction_index  log_index  \\\n",
       "0  20901142                 32        204   \n",
       "1  21073995                 24        198   \n",
       "\n",
       "                                                hash  WETH_sent_to_autopool  \\\n",
       "0  0x0d0016e2531e17af18c2c7f55e99c1c8de6af298a509...              26.873811   \n",
       "1  0xf1a0592dfa87be9cf697969346fa348d6545edb117a1...              10.883523   \n",
       "\n",
       "   lpTokens_withdrawn  \n",
       "0           26.412461  \n",
       "1           10.669619  "
      ]
     },
     "execution_count": 16,
     "metadata": {},
     "output_type": "execute_result"
    }
   ],
   "source": [
    "df = pd.merge(rebalance_to_idle_df, weth_transfer_df[['hash', 'WETH_sent_to_autopool']], on='hash', how='left')\n",
    "df = pd.merge(df, UnderlyingWithdraw_df[['hash', 'lpTokens_withdrawn']], on='hash', how='left')\n",
    "df"
   ]
  },
  {
   "cell_type": "code",
   "execution_count": 19,
   "metadata": {},
   "outputs": [
    {
     "data": {
      "text/html": [
       "<div>\n",
       "<style scoped>\n",
       "    .dataframe tbody tr th:only-of-type {\n",
       "        vertical-align: middle;\n",
       "    }\n",
       "\n",
       "    .dataframe tbody tr th {\n",
       "        vertical-align: top;\n",
       "    }\n",
       "\n",
       "    .dataframe thead th {\n",
       "        text-align: right;\n",
       "    }\n",
       "</style>\n",
       "<table border=\"1\" class=\"dataframe\">\n",
       "  <thead>\n",
       "    <tr style=\"text-align: right;\">\n",
       "      <th></th>\n",
       "      <th>valueStats</th>\n",
       "      <th>outSummary</th>\n",
       "      <th>params</th>\n",
       "      <th>event</th>\n",
       "      <th>block</th>\n",
       "      <th>transaction_index</th>\n",
       "      <th>log_index</th>\n",
       "      <th>hash</th>\n",
       "      <th>WETH_sent_to_autopool</th>\n",
       "      <th>lpTokens_withdrawn</th>\n",
       "      <th>outDestinationVault</th>\n",
       "      <th>tokenIn</th>\n",
       "      <th>tokenOut</th>\n",
       "      <th>amountOut</th>\n",
       "    </tr>\n",
       "  </thead>\n",
       "  <tbody>\n",
       "    <tr>\n",
       "      <th>0</th>\n",
       "      <td>(1000000000000000000, 1017356409549105825, 268...</td>\n",
       "      <td>(0x90300b02b162F902B9629963830BcCCdeEd71113, 2...</td>\n",
       "      <td>(0xE800e3760FC20aA98c5df6A9816147f190455AF3, 0...</td>\n",
       "      <td>RebalanceToIdle</td>\n",
       "      <td>20901142</td>\n",
       "      <td>32</td>\n",
       "      <td>204</td>\n",
       "      <td>0x0d0016e2531e17af18c2c7f55e99c1c8de6af298a509...</td>\n",
       "      <td>26.873811</td>\n",
       "      <td>26.412461</td>\n",
       "      <td>0x90300b02b162F902B9629963830BcCCdeEd71113</td>\n",
       "      <td>0xC02aaA39b223FE8D0A0e5C4F27eAD9083C756Cc2</td>\n",
       "      <td>0x848a5564158d84b8A8fb68ab5D004Fae11619A54</td>\n",
       "      <td>26.412461</td>\n",
       "    </tr>\n",
       "    <tr>\n",
       "      <th>1</th>\n",
       "      <td>(1000000000000000000, 1016503333361544594, 108...</td>\n",
       "      <td>(0xf9779aEF9f77e78C857CB4A068c65CcBee25BAAc, 2...</td>\n",
       "      <td>(0xE800e3760FC20aA98c5df6A9816147f190455AF3, 0...</td>\n",
       "      <td>RebalanceToIdle</td>\n",
       "      <td>21073995</td>\n",
       "      <td>24</td>\n",
       "      <td>198</td>\n",
       "      <td>0xf1a0592dfa87be9cf697969346fa348d6545edb117a1...</td>\n",
       "      <td>10.883523</td>\n",
       "      <td>10.669619</td>\n",
       "      <td>0xf9779aEF9f77e78C857CB4A068c65CcBee25BAAc</td>\n",
       "      <td>0xC02aaA39b223FE8D0A0e5C4F27eAD9083C756Cc2</td>\n",
       "      <td>0x58AAdFB1Afac0ad7fca1148f3cdE6aEDF5236B6D</td>\n",
       "      <td>10.669619</td>\n",
       "    </tr>\n",
       "  </tbody>\n",
       "</table>\n",
       "</div>"
      ],
      "text/plain": [
       "                                          valueStats  \\\n",
       "0  (1000000000000000000, 1017356409549105825, 268...   \n",
       "1  (1000000000000000000, 1016503333361544594, 108...   \n",
       "\n",
       "                                          outSummary  \\\n",
       "0  (0x90300b02b162F902B9629963830BcCCdeEd71113, 2...   \n",
       "1  (0xf9779aEF9f77e78C857CB4A068c65CcBee25BAAc, 2...   \n",
       "\n",
       "                                              params            event  \\\n",
       "0  (0xE800e3760FC20aA98c5df6A9816147f190455AF3, 0...  RebalanceToIdle   \n",
       "1  (0xE800e3760FC20aA98c5df6A9816147f190455AF3, 0...  RebalanceToIdle   \n",
       "\n",
       "      block  transaction_index  log_index  \\\n",
       "0  20901142                 32        204   \n",
       "1  21073995                 24        198   \n",
       "\n",
       "                                                hash  WETH_sent_to_autopool  \\\n",
       "0  0x0d0016e2531e17af18c2c7f55e99c1c8de6af298a509...              26.873811   \n",
       "1  0xf1a0592dfa87be9cf697969346fa348d6545edb117a1...              10.883523   \n",
       "\n",
       "   lpTokens_withdrawn                         outDestinationVault  \\\n",
       "0           26.412461  0x90300b02b162F902B9629963830BcCCdeEd71113   \n",
       "1           10.669619  0xf9779aEF9f77e78C857CB4A068c65CcBee25BAAc   \n",
       "\n",
       "                                      tokenIn  \\\n",
       "0  0xC02aaA39b223FE8D0A0e5C4F27eAD9083C756Cc2   \n",
       "1  0xC02aaA39b223FE8D0A0e5C4F27eAD9083C756Cc2   \n",
       "\n",
       "                                     tokenOut  amountOut  \n",
       "0  0x848a5564158d84b8A8fb68ab5D004Fae11619A54  26.412461  \n",
       "1  0x58AAdFB1Afac0ad7fca1148f3cdE6aEDF5236B6D  10.669619  "
      ]
     },
     "execution_count": 19,
     "metadata": {},
     "output_type": "execute_result"
    }
   ],
   "source": [
    "df[\"outDestinationVault\"] = df[\n",
    "    \"outSummary\"\n",
    "].apply(lambda x: eth_client.toChecksumAddress(x[0]))\n",
    "\n",
    "df[\"tokenIn\"] = df[\"params\"].apply(\n",
    "    lambda x: eth_client.toChecksumAddress(x[1])\n",
    ")\n",
    "\n",
    "df[\"tokenOut\"] = df[\"params\"].apply(\n",
    "    lambda x: eth_client.toChecksumAddress(x[4])\n",
    ")\n",
    "\n",
    "df[\"amountOut\"] = df[\"params\"].apply(\n",
    "    lambda x: x[5]\n",
    "    / 1e18  # the amout of lp tokens taken out is always correct, what we don't know is the amount of lp tokens going in\n",
    ")\n",
    "\n",
    "df"
   ]
  },
  {
   "cell_type": "code",
   "execution_count": null,
   "metadata": {},
   "outputs": [],
   "source": []
  },
  {
   "cell_type": "code",
   "execution_count": null,
   "metadata": {},
   "outputs": [],
   "source": []
  },
  {
   "cell_type": "code",
   "execution_count": null,
   "metadata": {},
   "outputs": [],
   "source": [
    "AUTO_LRT"
   ]
  },
  {
   "cell_type": "code",
   "execution_count": null,
   "metadata": {},
   "outputs": [],
   "source": [
    "from mainnet_launch.abis.abis import AUTOPOOL_ETH_STRATEGY_ABI, BALANCER_AURA_DESTINATION_VAULT_ABI, AUTOPOOL_VAULT_ABI\n",
    "\n",
    "vault_contract = eth_client.eth.contract(AUTO_LRT.autopool_eth_addr, abi=AUTOPOOL_VAULT_ABI)"
   ]
  },
  {
   "cell_type": "code",
   "execution_count": null,
   "metadata": {},
   "outputs": [],
   "source": [
    "# from mainnet_launch.autopool_diagnostics.compute_rebalance_cost import (\n",
    "#     eth_client,\n",
    "#     AutopoolConstants,\n",
    "#     fetch_spot_value_swap_cost_df,\n",
    "# )\n",
    "# import pandas as pd\n",
    "# import plotly.express as px\n",
    "\n",
    "# import plotly.io as pio\n",
    "# from mainnet_launch.destinations import get_destination_details, ALL_AUTOPOOLS, f\n",
    "\n",
    "# pio.templates.default = None\n",
    "# autopool = ALL_AUTOPOOLS[2]\n",
    "\n",
    "# amounts_with_spot_values = fetch_spot_value_swap_cost_df(autopool)\n",
    "# amounts_with_spot_values"
   ]
  },
  {
   "cell_type": "code",
   "execution_count": null,
   "metadata": {},
   "outputs": [],
   "source": [
    "px.line(\n",
    "    amounts_with_spot_values[amounts_with_spot_values[\"outDestinationVault\"] == autopool.autopool_eth_addr][\n",
    "        \"spot_value_swap_cost\"\n",
    "    ].cumsum()\n",
    ")"
   ]
  },
  {
   "cell_type": "code",
   "execution_count": null,
   "metadata": {},
   "outputs": [],
   "source": [
    "px.line(\n",
    "    amounts_with_spot_values[amounts_with_spot_values[\"outDestinationVault\"] != autopool.autopool_eth_addr][\n",
    "        \"spot_value_swap_cost\"\n",
    "    ].cumsum()\n",
    ")"
   ]
  },
  {
   "cell_type": "code",
   "execution_count": null,
   "metadata": {},
   "outputs": [],
   "source": [
    "px.line(amounts_with_spot_values[[\"swapCost\", \"spot_value_swap_cost\"]].cumsum())"
   ]
  },
  {
   "cell_type": "code",
   "execution_count": null,
   "metadata": {},
   "outputs": [],
   "source": []
  },
  {
   "cell_type": "code",
   "execution_count": null,
   "metadata": {},
   "outputs": [],
   "source": []
  },
  {
   "cell_type": "code",
   "execution_count": null,
   "metadata": {},
   "outputs": [],
   "source": []
  },
  {
   "cell_type": "code",
   "execution_count": null,
   "metadata": {},
   "outputs": [],
   "source": [
    "break"
   ]
  },
  {
   "cell_type": "code",
   "execution_count": null,
   "metadata": {},
   "outputs": [],
   "source": [
    "amounts_with_spot_values.columns"
   ]
  },
  {
   "cell_type": "code",
   "execution_count": null,
   "metadata": {},
   "outputs": [],
   "source": [
    "rebalances_we_can_compute_swap_costs_for = rebalance_between_destinations_df[\n",
    "    rebalance_between_destinations_df[\"hash\"].isin(valid_underlying_deposited_df[\"hash\"])\n",
    "].copy()\n",
    "\n",
    "rebalances_we_can_compute_swap_costs_for[[\"outDestinationVault\", \"hash\", \"amountOut\"]]"
   ]
  },
  {
   "cell_type": "code",
   "execution_count": null,
   "metadata": {},
   "outputs": [],
   "source": [
    "114 -"
   ]
  },
  {
   "cell_type": "code",
   "execution_count": null,
   "metadata": {},
   "outputs": [],
   "source": [
    "valid_underlying_deposited_df"
   ]
  },
  {
   "cell_type": "code",
   "execution_count": null,
   "metadata": {},
   "outputs": [],
   "source": [
    "valid_underlying_deposited_df[\"amount\"]"
   ]
  },
  {
   "cell_type": "code",
   "execution_count": null,
   "metadata": {},
   "outputs": [],
   "source": [
    "valid_underlying_deposited_df[\"contract_address\"].value_counts()"
   ]
  },
  {
   "cell_type": "code",
   "execution_count": null,
   "metadata": {},
   "outputs": [],
   "source": [
    "hashes_to_exclude = (\n",
    "    UnderlyingDeposited_df[\"hash\"].value_counts()[UnderlyingDeposited_df[\"hash\"].value_counts() > 1].index\n",
    ")\n",
    "# sunseting destiantions throws the math off and has 0 slippage anyway\n",
    "hashes_to_exclude"
   ]
  },
  {
   "cell_type": "code",
   "execution_count": null,
   "metadata": {},
   "outputs": [],
   "source": [
    "# 0x084dfee5800acd5bda5e48485e68e87c015fca770376eeef36405654a184e005    2\n",
    "# 0xbe9e2919f268121cc55f8466e7af702b6c0dd312134ee746e4600878e79efe9b    2\n",
    "# 0xa9b7e57b8202064b6fd48accbcfea54cb08fbb362638aa47681203c5daf7b722    2\n",
    "UnderlyingDeposited_df[\n",
    "    UnderlyingDeposited_df[\"hash\"] == \"0xbe9e2919f268121cc55f8466e7af702b6c0dd312134ee746e4600878e79efe9b\"\n",
    "]"
   ]
  },
  {
   "cell_type": "code",
   "execution_count": null,
   "metadata": {},
   "outputs": [],
   "source": [
    "UnderlyingWithdraw_df[\n",
    "    UnderlyingWithdraw_df[\"hash\"] == \"0xbe9e2919f268121cc55f8466e7af702b6c0dd312134ee746e4600878e79efe9b\"\n",
    "]"
   ]
  },
  {
   "cell_type": "code",
   "execution_count": null,
   "metadata": {},
   "outputs": [],
   "source": [
    "rebalance_between_destinations_df.columns"
   ]
  },
  {
   "cell_type": "code",
   "execution_count": null,
   "metadata": {},
   "outputs": [],
   "source": [
    "cols = [\"hash\", \"amountOut\", \"outDestinationVault\"]\n",
    "# 0xE800e3760FC20aA98c5df6A9816147f190455AF3 == autoLRT vault, all WETH\n",
    "rebalance_between_destinations_df[cols][\"outDestinationVault\"].value_counts()"
   ]
  },
  {
   "cell_type": "code",
   "execution_count": null,
   "metadata": {},
   "outputs": [],
   "source": [
    "UnderlyingDeposited_df[\"hash\"].value_counts()"
   ]
  },
  {
   "cell_type": "code",
   "execution_count": null,
   "metadata": {},
   "outputs": [],
   "source": []
  },
  {
   "cell_type": "code",
   "execution_count": null,
   "metadata": {},
   "outputs": [],
   "source": [
    "# amount"
   ]
  },
  {
   "cell_type": "code",
   "execution_count": null,
   "metadata": {},
   "outputs": [],
   "source": [
    "rebalance_between_destinations_df[\"hash\"].value_counts()"
   ]
  },
  {
   "cell_type": "code",
   "execution_count": null,
   "metadata": {},
   "outputs": [],
   "source": [
    "RebalanceBetweenDestinations, RebalanceToIdle, SuccessfulRebalanceBetweenDestinations = dfs\n",
    "RebalanceBetweenDestinations.shape, RebalanceToIdle.shape, SuccessfulRebalanceBetweenDestinations.shape"
   ]
  },
  {
   "cell_type": "code",
   "execution_count": null,
   "metadata": {},
   "outputs": [],
   "source": [
    "RebalanceToIdle[\"tokenIn\"] = RebalanceToIdle[\"params\"].apply(lambda x: eth_client.toChecksumAddress(x[1]))\n",
    "\n",
    "RebalanceToIdle[\"tokenOut\"] = RebalanceToIdle[\"params\"].apply(lambda x: eth_client.toChecksumAddress(x[4]))\n",
    "\n",
    "RebalanceToIdle[\"amountOut\"] = RebalanceToIdle[\"params\"].apply(\n",
    "    lambda x: x[5]\n",
    "    / 1e18  # the amout of lp tokens taken out is always correct, what we don't know is the amount of lp tokens going in\n",
    ")\n",
    "RebalanceToIdle"
   ]
  },
  {
   "cell_type": "code",
   "execution_count": null,
   "metadata": {},
   "outputs": [],
   "source": [
    "RebalanceToIdle[\"hash\"].values"
   ]
  },
  {
   "cell_type": "code",
   "execution_count": null,
   "metadata": {},
   "outputs": [],
   "source": [
    "RebalanceToIdle[\"hash\"].isin(RebalanceBetweenDestinations[\"hash\"])"
   ]
  },
  {
   "cell_type": "code",
   "execution_count": null,
   "metadata": {},
   "outputs": [],
   "source": [
    "SuccessfulRebalanceBetweenDestinations[\"hash\"].isin(RebalanceBetweenDestinations[\"hash\"])"
   ]
  },
  {
   "cell_type": "code",
   "execution_count": null,
   "metadata": {},
   "outputs": [],
   "source": [
    "0x084dfee5800acd5bda5e48485e68e87c015fca770376eeef36405654a184e005    2\n",
    "0xbe9e2919f268121cc55f8466e7af702b6c0dd312134ee746e4600878e79efe9b    2\n",
    "0xa9b7e57b8202064b6fd48accbcfea54cb08fbb362638aa47681203c5daf7b722    2\n",
    "UnderlyingDeposited_df[UnderlyingDeposited_df['hash'] == '0xbe9e2919f268121cc55f8466e7af702b6c0dd312134ee746e4600878e79efe9b']"
   ]
  },
  {
   "cell_type": "code",
   "execution_count": null,
   "metadata": {},
   "outputs": [],
   "source": []
  },
  {
   "cell_type": "code",
   "execution_count": null,
   "metadata": {},
   "outputs": [],
   "source": [
    "UnderlyingDeposited_df[\n",
    "    UnderlyingDeposited_df[\"hash\"] == \"0xbe9e2919f268121cc55f8466e7af702b6c0dd312134ee746e4600878e79efe9b\"\n",
    "]"
   ]
  },
  {
   "cell_type": "code",
   "execution_count": null,
   "metadata": {},
   "outputs": [],
   "source": [
    "rebalance_between_destinations_df[\n",
    "    rebalance_between_destinations_df[\"hash\"] == \"0xbe9e2919f268121cc55f8466e7af702b6c0dd312134ee746e4600878e79efe9b\"\n",
    "]"
   ]
  },
  {
   "cell_type": "code",
   "execution_count": null,
   "metadata": {},
   "outputs": [],
   "source": [
    "UnderlyingDeposited_df[\"hash\"].value_counts()"
   ]
  },
  {
   "cell_type": "code",
   "execution_count": null,
   "metadata": {},
   "outputs": [],
   "source": [
    "def underlying_deposited_df_to_change(row):\n",
    "    return {\n",
    "        \"Destination\": row[\"contract_address\"],\n",
    "        \"lpTokenQuantity\": row[\"amount\"] / 1e18,\n",
    "        \"hash\": row[\"hash\"],\n",
    "        \"block\": int(row[\"block\"]),\n",
    "    }\n",
    "\n",
    "\n",
    "deposit_df = pd.DataFrame.from_records(UnderlyingDeposited_df.apply(underlying_deposited_df_to_change, axis=1).values)\n",
    "\n",
    "\n",
    "def underlying_withdrawn_df_to_change(row):\n",
    "    return {\n",
    "        \"Destination\": row[\"contract_address\"],\n",
    "        \"lpTokenQuantity\": -row[\"amount\"] / 1e18,\n",
    "        \"hash\": row[\"hash\"],\n",
    "        \"block\": int(row[\"block\"]),\n",
    "    }\n",
    "\n",
    "\n",
    "withdraw_df = pd.DataFrame.from_records(UnderlyingWithdraw_df.apply(underlying_withdrawn_df_to_change, axis=1).values)\n",
    "change_df = pd.concat([deposit_df, withdraw_df]).sort_values(\"block\")\n",
    "change_df"
   ]
  },
  {
   "cell_type": "code",
   "execution_count": null,
   "metadata": {},
   "outputs": [],
   "source": [
    "# AMOUNT_OUT IS THE QUANITY OF LP TOKENS THAT LEFT\n",
    "# WE JUST NEED THE DEPOSTED"
   ]
  },
  {
   "cell_type": "code",
   "execution_count": null,
   "metadata": {},
   "outputs": [],
   "source": [
    "df = pd.merge(change_df, validated_spot_price_df, on=\"block\")\n",
    "\n",
    "\n",
    "def _change_in_spot_value(row):\n",
    "    spot_price = row[row[\"Destination\"]]\n",
    "    change = spot_price * row[\"lpTokenQuantity\"]\n",
    "    return change\n",
    "\n",
    "\n",
    "df[\"spot_value_change\"] = df.apply(_change_in_spot_value, axis=1)\n",
    "\n",
    "a = df.groupby(\"hash\")[\"spot_value_change\"].apply(list)\n",
    "\n",
    "between_destination_hashes = a[a.apply(len) == 2].index\n",
    "from_idle_hashes = a[a.apply(len) == 1].index"
   ]
  },
  {
   "cell_type": "code",
   "execution_count": null,
   "metadata": {},
   "outputs": [],
   "source": [
    "amounts_and_quantities = pd.merge(\n",
    "    withdraw_df[[\"hash\", \"lpTokenQuantity\"]], rebalance_between_destinations_df[[\"amountOut\", \"hash\"]], on=\"hash\"\n",
    ")\n",
    "amounts_and_quantities[amounts_and_quantities[\"hash\"].isin(between_destination_hashes)]"
   ]
  },
  {
   "cell_type": "code",
   "execution_count": null,
   "metadata": {},
   "outputs": [],
   "source": [
    "amounts_and_quantities = pd.merge(\n",
    "    df[[\"hash\", \"lpTokenQuantity\"]], rebalance_between_destinations_df[[\"amountOut\", \"hash\"]], on=\"hash\"\n",
    ")\n",
    "amounts_and_quantities[amounts_and_quantities[\"hash\"].isin(from_idle_hashes)]"
   ]
  },
  {
   "cell_type": "code",
   "execution_count": null,
   "metadata": {},
   "outputs": [],
   "source": [
    "rebalance_between_destinations_df[[\"amountOut\", \"hash\"]]"
   ]
  },
  {
   "cell_type": "code",
   "execution_count": null,
   "metadata": {},
   "outputs": [],
   "source": [
    "rebalance_between_destinations_df[rebalance_between_destinations_df[\"hash\"].isin(between_destination_hashes)][\n",
    "    [\"outDestinationVault\", \"inDestinationVault\"]\n",
    "].value_counts()"
   ]
  },
  {
   "cell_type": "code",
   "execution_count": null,
   "metadata": {},
   "outputs": [],
   "source": [
    "df.groupby(\"hash\")[\"spot_value_change\"].apply(len) == 2"
   ]
  },
  {
   "cell_type": "code",
   "execution_count": null,
   "metadata": {},
   "outputs": [],
   "source": [
    "UnderlyingWithdraw_df"
   ]
  },
  {
   "cell_type": "code",
   "execution_count": null,
   "metadata": {},
   "outputs": [],
   "source": [
    "# UnderlyingDeposited_df[\"amountDeposited\"] = UnderlyingDeposited_df[\"amount\"] / 1e18\n",
    "# UnderlyingWithdraw_df[\"amountWithdraw\"] = UnderlyingWithdraw_df[\"amount\"] / 1e18\n",
    "\n",
    "# df = pd.merge(rebalance_between_destinations_df, UnderlyingDeposited_df[['hash', 'amountDeposited']], how='left', on='hash')\n",
    "# df = pd.merge(df, UnderlyingWithdraw_df[['hash', 'amountWithdraw']], how='left', on='hash')\n",
    "# cols = ['hash', 'amountWithdraw', 'amountDeposited', 'amountOut', 'tokenIn', 'tokenOut']"
   ]
  },
  {
   "cell_type": "code",
   "execution_count": null,
   "metadata": {},
   "outputs": [],
   "source": [
    "# df['hash'].value_counts() # exclude the funny ones, with destinations getting added or withdrawn"
   ]
  },
  {
   "cell_type": "code",
   "execution_count": null,
   "metadata": {},
   "outputs": [],
   "source": [
    "df[df[\"hash\"] == \"0x084dfee5800acd5bda5e48485e68e87c015fca770376eeef36405654a184e005\"][cols]"
   ]
  },
  {
   "cell_type": "code",
   "execution_count": null,
   "metadata": {},
   "outputs": [],
   "source": [
    "UnderlyingDeposited_df[\n",
    "    UnderlyingDeposited_df[\"hash\"] == \"0x084dfee5800acd5bda5e48485e68e87c015fca770376eeef36405654a184e005\"\n",
    "]"
   ]
  },
  {
   "cell_type": "code",
   "execution_count": null,
   "metadata": {},
   "outputs": [],
   "source": [
    "UnderlyingWithdraw_df[\n",
    "    UnderlyingWithdraw_df[\"hash\"] == \"0x084dfee5800acd5bda5e48485e68e87c015fca770376eeef36405654a184e005\"\n",
    "]"
   ]
  },
  {
   "cell_type": "code",
   "execution_count": null,
   "metadata": {},
   "outputs": [],
   "source": []
  },
  {
   "cell_type": "code",
   "execution_count": null,
   "metadata": {},
   "outputs": [],
   "source": [
    "df2 = df.dropna()\n",
    "df2"
   ]
  },
  {
   "cell_type": "code",
   "execution_count": null,
   "metadata": {},
   "outputs": [],
   "source": [
    "WETH = \"0xC02aaA39b223FE8D0A0e5C4F27eAD9083C756Cc2\"\n",
    "#  emit UnderlyingDeposited(amount, msg.sender);"
   ]
  },
  {
   "cell_type": "code",
   "execution_count": null,
   "metadata": {},
   "outputs": [],
   "source": [
    "rebalance_between_destinations_df[[\"tokenIn\", \"tokenOut\", \"amountOut\", \"destinationIn\"]]"
   ]
  },
  {
   "cell_type": "code",
   "execution_count": null,
   "metadata": {},
   "outputs": [],
   "source": [
    "rebalance_between_destinations_df[\"hash\"].values"
   ]
  },
  {
   "cell_type": "code",
   "execution_count": null,
   "metadata": {},
   "outputs": [],
   "source": [
    "first_out = \"0xE800e3760FC20aA98c5df6A9816147f190455AF3\"\n",
    "first_in = \"0x777FAf85c8E5FC6f4332E56B989C5C94201A273C\"\n",
    "balance_of_undelrying_debt_before[[first_in, first_out]]\n",
    "# I can't check the balances before or after"
   ]
  },
  {
   "cell_type": "code",
   "execution_count": null,
   "metadata": {},
   "outputs": [],
   "source": []
  },
  {
   "cell_type": "code",
   "execution_count": null,
   "metadata": {},
   "outputs": [],
   "source": [
    "balance_of_undelrying_debt_before[[first_in, first_out]]"
   ]
  },
  {
   "cell_type": "code",
   "execution_count": null,
   "metadata": {},
   "outputs": [],
   "source": [
    "balance_of_undelrying_debt_after[[first_in, first_out]]"
   ]
  },
  {
   "cell_type": "code",
   "execution_count": null,
   "metadata": {},
   "outputs": [],
   "source": [
    "rebalance_between_destinations_df"
   ]
  },
  {
   "cell_type": "code",
   "execution_count": null,
   "metadata": {},
   "outputs": [],
   "source": [
    "rebalance_between_destinations_df"
   ]
  },
  {
   "cell_type": "code",
   "execution_count": null,
   "metadata": {},
   "outputs": [],
   "source": [
    "validated_spot_price_df"
   ]
  },
  {
   "cell_type": "code",
   "execution_count": null,
   "metadata": {},
   "outputs": [],
   "source": [
    "# from mainnet_launch.autopool_diagnostics.compute_rebalance_cost import (\n",
    "#     compute_daily_rebalance_costs,\n",
    "#     AUTO_LRT, BAL_ETH, AUTO_ETH,\n",
    "#     AutopoolConstants,\n",
    "# )\n",
    "# import pandas as pd\n",
    "# import plotly.express as px\n",
    "\n",
    "\n",
    "# # # return RebalanceValueStats({\n",
    "# # #     inPrice: inPrice,\n",
    "# # #     outPrice: outPrice,\n",
    "# # #     inEthValue: inEthValue,\n",
    "# # #     outEthValue: outEthValue,\n",
    "# # #     swapCost: swapCost,\n",
    "# # #     slippage: slippage\n",
    "# # # });\n",
    "\n",
    "\n",
    "# # /// @param destinationIn The address / lp token of the destination vault that will increase\n",
    "# # /// @param tokenIn The address of the underlyer token that will be provided by the swapper\n",
    "# # /// @param amountIn The amount of the underlying LP tokens that will be received\n",
    "# # /// @param destinationOut The address of the destination vault that will decrease\n",
    "# # /// @param tokenOut The address of the underlyer token that will be received by the swapper\n",
    "# # /// @param amountOut The amount of the tokenOut that will be received by the swapper\n",
    "# # struct RebalanceParams {\n",
    "# #     address destinationIn;\n",
    "# #     address tokenIn;\n",
    "# #     uint256 amountIn;\n",
    "# #     address destinationOut;\n",
    "# #     address tokenOut;\n",
    "# #     uint256 amountOut;\n",
    "# # }\n",
    "# autopool = AUTO_ETH\n",
    "# a, b = compute_daily_rebalance_costs(autopool)"
   ]
  },
  {
   "cell_type": "code",
   "execution_count": null,
   "metadata": {},
   "outputs": [],
   "source": [
    "autopool = AUTO_ETH"
   ]
  },
  {
   "cell_type": "code",
   "execution_count": null,
   "metadata": {},
   "outputs": [],
   "source": [
    "import plotly.io as pio\n",
    "from mainnet_launch.destinations import get_destination_details, ALL_AUTOPOOLS\n",
    "\n",
    "pio.templates.default = None\n",
    "rebalance_from_idle, transfer_events_df, validated_spot_price_df = b\n",
    "rebalance_between_destinations, transfer_events_df, validated_spot_price_df = a"
   ]
  },
  {
   "cell_type": "code",
   "execution_count": null,
   "metadata": {},
   "outputs": [],
   "source": []
  },
  {
   "cell_type": "code",
   "execution_count": null,
   "metadata": {},
   "outputs": [],
   "source": [
    "desination_vault_addresses = [d.vaultAddress for d in get_destination_details() if d.autopool == autopool]\n",
    "desination_vault_addresses"
   ]
  },
  {
   "cell_type": "code",
   "execution_count": null,
   "metadata": {},
   "outputs": [],
   "source": [
    "def _get_limited_transfers(\n",
    "    autopool: AutopoolConstants, transfer_events_df: pd.DataFrame, rebalance_df: pd.DataFrame\n",
    ") -> pd.DataFrame:\n",
    "    desination_vault_addresses = [d.vaultAddress for d in get_destination_details() if d.autopool == autopool]\n",
    "    sender_or_receiver_is_destination_vault = (transfer_events_df[\"to\"].isin(desination_vault_addresses)) | (\n",
    "        transfer_events_df[\"from\"].isin(desination_vault_addresses)\n",
    "    )\n",
    "    destination_lp_token_addresses = [d.vaultAddress for d in get_destination_details() if d.autopool == autopool]\n",
    "    sent_token_is_lp_token_avaiable_to_autopool = transfer_events_df[\"token_address\"].isin(\n",
    "        destination_lp_token_addresses\n",
    "    )\n",
    "\n",
    "    tx_hash_in_rebalance_df_hash = transfer_events_df[\"hash\"].isin(rebalance_df[\"hash\"])\n",
    "\n",
    "    limited_transfers = (\n",
    "        transfer_events_df[\n",
    "            sender_or_receiver_is_destination_vault\n",
    "            & sent_token_is_lp_token_avaiable_to_autopool\n",
    "            & tx_hash_in_rebalance_df_hash\n",
    "        ]\n",
    "        .copy()\n",
    "        .reset_index()\n",
    "    )\n",
    "\n",
    "    return limited_transfers\n",
    "\n",
    "\n",
    "limited_transfers = _get_limited_transfers(autopool, transfer_events_df, rebalance_between_destinations)\n",
    "limited_transfers[\"hash\"].value_counts()"
   ]
  },
  {
   "cell_type": "code",
   "execution_count": null,
   "metadata": {},
   "outputs": [],
   "source": [
    "# def compute_swap_cost_when_rebalance_from_idle(\n",
    "#     rebalance_from_idle_df: pd.DataFrame, autopool: AutopoolConstants, transfer_events_df: pd.DataFrame, validated_spot_price_df:pd.DataFrame\n",
    "# ) -> pd.DataFrame:\n",
    "#     # out means decrease\n",
    "#     # in means increase\n",
    "#     if (rebalance_from_idle_df[\"outDestinationVault\"] != autopool.autopool_eth_addr).any():\n",
    "#         raise ValueError(\n",
    "#             \"trying to compute rebalance cost on rebalance_from_idle_df when the outDestinationVault != autopool \"\n",
    "#         )\n",
    "\n",
    "\n",
    "#     #\n",
    "\n",
    "#     transfers_to_vaults = (\n",
    "#         transfers_to_or_from_autopool_destinations[\n",
    "#             (transfer_events_df[\"hash\"].isin(rebalance_from_idle_df[\"hash\"]))\n",
    "#             & (transfer_events_df[\"to\"].isin(rebalance_from_idle_df[\"inDestinationVault\"]))\n",
    "#         ]\n",
    "\n",
    "#         .drop_duplicates()\n",
    "#         .copy()\n",
    "#     )\n",
    "\n",
    "#     rebalance_from_idle_with_lp_tokens_in = pd.merge(\n",
    "#         rebalance_from_idle_df, transfers_to_vaults[[\"value\", \"hash\"]], on=\"hash\"\n",
    "#     )\n",
    "\n",
    "#     rebalance_from_idle_with_lp_tokens_in[\"lp_tokens_added_to_vault\"] = (\n",
    "#         rebalance_from_idle_with_lp_tokens_in[\"value\"]/ 1e18\n",
    "#     )\n",
    "\n",
    "#     validated_spot_price_df[\"block_with_rebalance\"] = ( validated_spot_price_df[\"block\"] + 1)\n",
    "\n",
    "#     rebalance_from_idle_df = pd.merge(\n",
    "#         validated_spot_price_df,\n",
    "#         rebalance_from_idle_with_lp_tokens_in,\n",
    "#         right_on=\"block\",\n",
    "#         left_on=\"block_with_rebalance\",\n",
    "#     )\n",
    "\n",
    "#     def _compute_spot_value_added_to_vault(row:dict) -> float:\n",
    "#         return row['lp_tokens_added_to_vault'] * row[row['inDestinationVault']] # the pool itsel\n",
    "\n",
    "#     rebalance_from_idle_df['validated_spot_value_of_lp_tokens_added_to_autopool'] = rebalance_from_idle_df.apply(_compute_spot_value_added_to_vault, axis=1)\n",
    "#     # because we are exiting idle, the value out is in WETH so the spot value is always 1\n",
    "#     rebalance_from_idle_df['validated_spot_value_of_lp_tokens_removed_from_autopool'] = rebalance_from_idle_df[\"params_amountOut\"]\n",
    "#     rebalance_from_idle_df['validated_spot_value_of_swap_cost'] = rebalance_from_idle_df['validated_spot_value_of_lp_tokens_removed_from_autopool'] -  rebalance_from_idle_df['validated_spot_value_of_lp_tokens_added_to_autopool']\n",
    "\n",
    "#     rebalance_from_idle_df['validated_spot_value_of_swap_cost'] = rebalance_from_idle_df['validated_spot_value_of_swap_cost'].clip(lower=0)\n",
    "\n",
    "#     rebalance_from_idle_df['swap_cost_from_event'] = rebalance_from_idle_df['valueStats'].apply(lambda x: float(x[4]) /1e18)\n",
    "\n",
    "#     # not sure what do to with the swap cost\n",
    "#     rebalance_from_idle_df.index = validated_spot_price_df.index\n",
    "#     cumulative_daily_validated_swap_cost =  rebalance_from_idle_df[['validated_spot_value_of_swap_cost']].resample(\"1D\").sum().cumsum()\n",
    "#     return cumulative_daily_validated_swap_cost\n",
    "\n",
    "# rebalance_events_df, transfer_events_df, validated_spot_price_df = b\n",
    "# cumulative_daily_validated_swap_cost = compute_swap_cost_when_rebalance_from_idle(\n",
    "#     rebalance_events_df.copy(), AUTO_ETH, transfer_events_df, validated_spot_price_df\n",
    "# )\n",
    "\n",
    "# cumulative_daily_validated_swap_cost"
   ]
  },
  {
   "cell_type": "code",
   "execution_count": null,
   "metadata": {},
   "outputs": [],
   "source": []
  },
  {
   "cell_type": "code",
   "execution_count": null,
   "metadata": {},
   "outputs": [],
   "source": []
  },
  {
   "cell_type": "code",
   "execution_count": null,
   "metadata": {},
   "outputs": [],
   "source": [
    "# rebalance_between_destinations_df, transfer_events_df, validated_spot_price_df = a\n",
    "\n",
    "# def _extract_relevent_transfers(autopool: AutopoolConstants, transfer_events_df: pd.DataFrame, rebalance_between_destinations_df:pd.DataFrame):\n",
    "\n",
    "#     valid_destinations = [d.vaultAddress for d in get_destination_details() if d.autopool == autopool]\n",
    "#     valid_transfer_events = transfer_events_df[(transfer_events_df['to'].str.lower().isin(valid_destinations)) | (transfer_events_df['from'].str.lower().isin(valid_destinations))]\n",
    "\n",
    "#     to_indest = (\n",
    "#         transfer_events_df[\n",
    "#             (transfer_events_df[\"hash\"].isin(rebalance_between_destinations_df[\"hash\"]))\n",
    "#             & (transfer_events_df[\"to\"].isin(valid_destinations))\n",
    "#         ]\n",
    "#         .drop_duplicates()\n",
    "#         .copy()\n",
    "#     )\n",
    "\n",
    "#     to_outdest = (\n",
    "#         transfer_events_df[\n",
    "#             (transfer_events_df[\"hash\"].isin(rebalance_between_destinations_df[\"hash\"]))\n",
    "#             & (transfer_events_df[\"to\"].isin(valid_destinations))\n",
    "#         ]\n",
    "\n",
    "#         .drop_duplicates()\n",
    "#         .copy()\n",
    "#     )\n",
    "\n",
    "\n",
    "#     from_indest = (\n",
    "#         transfer_events_df[\n",
    "#             (transfer_events_df[\"hash\"].isin(rebalance_between_destinations_df[\"hash\"]))\n",
    "#             & (transfer_events_df[\"from\"].isin(valid_destinations))\n",
    "#         ]\n",
    "#         .drop_duplicates()\n",
    "#         .copy()\n",
    "#     )\n",
    "\n",
    "#     from_outdest = (\n",
    "#         transfer_events_df[\n",
    "#             (transfer_events_df[\"hash\"].isin(rebalance_between_destinations_df[\"hash\"]))\n",
    "#             & (transfer_events_df[\"from\"].isin(valid_destinations))\n",
    "#         ]\n",
    "\n",
    "#         .drop_duplicates()\n",
    "#         .copy()\n",
    "#     )\n",
    "\n",
    "\n",
    "#     return to_indest, to_outdest, from_indest, from_outdest\n",
    "\n",
    "# to_indest, to_outdest, from_indest, from_outdest = _extract_relevent_transfers(AUTO_ETH, transfer_events_df, rebalance_between_destinations_df)\n",
    "# to_indest.shape, to_outdest.shape, from_indest.shape, from_indest.shape,"
   ]
  },
  {
   "cell_type": "code",
   "execution_count": null,
   "metadata": {},
   "outputs": [],
   "source": [
    "between_with_from_indest = pd.merge(rebalance_between_destinations_df, from_indest[[\"value\", \"hash\"]], on=\"hash\")\n",
    "\n",
    "between_with_from_indest[\"hash\"].value_counts()"
   ]
  },
  {
   "cell_type": "code",
   "execution_count": null,
   "metadata": {},
   "outputs": [],
   "source": []
  },
  {
   "cell_type": "code",
   "execution_count": null,
   "metadata": {},
   "outputs": [],
   "source": []
  },
  {
   "cell_type": "code",
   "execution_count": null,
   "metadata": {},
   "outputs": [],
   "source": [
    "rebalance_between_destinations_df[\n",
    "    rebalance_between_destinations_df[\"hash\"] == \"0x5a088e71e51c5b8c05db282989f21975d14e44d9c615aa00e451a68dcbebd0dc\"\n",
    "]"
   ]
  },
  {
   "cell_type": "code",
   "execution_count": null,
   "metadata": {},
   "outputs": [],
   "source": [
    "# 0x5a088e71e51c5b8c05db282989f21975d14e44d9c615aa00e451a68dcbebd0dc rebalances more than one block"
   ]
  },
  {
   "cell_type": "code",
   "execution_count": null,
   "metadata": {},
   "outputs": [],
   "source": [
    "transfers_from_vaults[\n",
    "    transfers_from_vaults[\"hash\"] == \"0x5a088e71e51c5b8c05db282989f21975d14e44d9c615aa00e451a68dcbebd0dc\"\n",
    "]"
   ]
  },
  {
   "cell_type": "code",
   "execution_count": null,
   "metadata": {},
   "outputs": [],
   "source": []
  },
  {
   "cell_type": "code",
   "execution_count": null,
   "metadata": {},
   "outputs": [],
   "source": [
    "transfers_from_vaults[\"hash\"].value_counts()"
   ]
  },
  {
   "cell_type": "code",
   "execution_count": null,
   "metadata": {},
   "outputs": [],
   "source": [
    "# # def compute_swap_cost_when_rebalancing_between_destinations(\n",
    "# #     rebalance_not_from_idle_df: pd.DataFrame, autopool: AutopoolConstants, transfer_events_df: pd.DataFrame, validated_spot_price_df:pd.DataFrame\n",
    "# # ) -> pd.DataFrame:\n",
    "# #     # out means decrease\n",
    "# #     # in means increase\n",
    "# #     if (rebalance_not_from_idle_df[\"outDestinationVault\"] == autopool.autopool_eth_addr).any():\n",
    "# #         raise ValueError(\n",
    "# #             \"trying to compute_swap_cost_when_rebalancing_between_destinations when the outDestinationVault == autopool eg, exiting the autopool \"\n",
    "# #         )\n",
    "\n",
    "\n",
    "# #     limited_transfer_df = (\n",
    "# #         transfer_events_df[\n",
    "# #             (transfer_events_df[\"hash\"].isin(rebalance_not_from_idle_df[\"hash\"]))\n",
    "# #         ]\n",
    "\n",
    "# #         .drop_duplicates()\n",
    "# #         .copy()\n",
    "# #     )\n",
    "# #     return limited_transfer_df\n",
    "\n",
    "\n",
    "# #\n",
    "\n",
    "# # limited_transfer_df = compute_swap_cost_when_rebalancing_between_destinations(\n",
    "# #     rebalance_events_df.copy(), AUTO_ETH, transfer_events_df, validated_spot_price_df\n",
    "# # )\n",
    "\n",
    "# # transfers_to_vaults['to_value'] = transfers_to_vaults['value'] /1e18\n",
    "# # transfers_to_vaults['to_token'] = transfers_to_vaults['token_address']\n",
    "\n",
    "# # transfers_from_vaults['from_value'] = transfers_from_vaults['value'] /1e18\n",
    "# # transfers_from_vaults['from_token'] = transfers_from_vaults['token_address']\n",
    "\n",
    "# def build_lp_token_moved_df(row):\n",
    "\n",
    "#     return {\n",
    "#         'DesinationIncreased': row['to_token'],\n",
    "#         'DestinationDecreased': row['from_token'],\n",
    "#         'amountIncreased': row['to_value'],\n",
    "#         'amountDecreased': row['from_value'],\n",
    "#         'hash':row['hash'],\n",
    "#         'block': row['block']\n",
    "#     }\n",
    "\n",
    "# limited_transfer_df['hash'].value_counts()"
   ]
  },
  {
   "cell_type": "code",
   "execution_count": null,
   "metadata": {},
   "outputs": [],
   "source": [
    "rebalance_events_df"
   ]
  },
  {
   "cell_type": "code",
   "execution_count": null,
   "metadata": {},
   "outputs": [],
   "source": [
    "transfers_from_vaults"
   ]
  },
  {
   "cell_type": "code",
   "execution_count": null,
   "metadata": {},
   "outputs": [],
   "source": [
    "rebalance_events_df[\"inDestinationVault\"].value_counts()"
   ]
  },
  {
   "cell_type": "code",
   "execution_count": null,
   "metadata": {},
   "outputs": [],
   "source": [
    "rebalance_events_df[\"outDestinationVault\"].value_counts()"
   ]
  },
  {
   "cell_type": "code",
   "execution_count": null,
   "metadata": {},
   "outputs": [],
   "source": [
    "AUTO_ETH.autopool_eth_addr"
   ]
  },
  {
   "cell_type": "code",
   "execution_count": null,
   "metadata": {},
   "outputs": [],
   "source": [
    "rebalance_from_idle_df.sort_values(\"rebalance_cost\")[[\"hash\", \"rebalance_cost\"]].values[0]"
   ]
  },
  {
   "cell_type": "markdown",
   "metadata": {},
   "source": [
    "0xf06978787ae75d235cedd61c07b1e2a9037df86378f37a90eb683c87db8f98b2\n",
    "\n",
    "This rebalance, my math thinks that"
   ]
  },
  {
   "cell_type": "code",
   "execution_count": null,
   "metadata": {},
   "outputs": [],
   "source": [
    "rebalance_from_idle_df[\"valueStats_swap_cost\"] = rebalance_from_idle_df[\"valueStats\"].apply(lambda x: x[4] / 1e18)\n",
    "px.line(rebalance_from_idle_df[[\"rebalance_cost\", \"valueStats_swap_cost\"]])"
   ]
  },
  {
   "cell_type": "code",
   "execution_count": null,
   "metadata": {},
   "outputs": [],
   "source": []
  },
  {
   "cell_type": "code",
   "execution_count": null,
   "metadata": {},
   "outputs": [],
   "source": [
    "dest_to_dest = lp_token_transfer_df[(lp_token_transfer_df[\"hash\"] == tx_hash)].copy().drop_duplicates()\n",
    "dest_to_dest"
   ]
  },
  {
   "cell_type": "markdown",
   "metadata": {},
   "source": []
  },
  {
   "cell_type": "code",
   "execution_count": null,
   "metadata": {},
   "outputs": [],
   "source": [
    "# 165151197070039380229 expect outDestinationLpToken to be down"
   ]
  },
  {
   "cell_type": "markdown",
   "metadata": {},
   "source": [
    "today I am working more on fixing the overestimate the rebalancing cost on the dashboard. "
   ]
  },
  {
   "cell_type": "code",
   "execution_count": null,
   "metadata": {},
   "outputs": [],
   "source": [
    "# idle -> destination valueStats.amountOut == quantiy of eth that left\n",
    "#"
   ]
  },
  {
   "cell_type": "code",
   "execution_count": null,
   "metadata": {},
   "outputs": [],
   "source": [
    "rebalance_events_df.shape"
   ]
  },
  {
   "cell_type": "code",
   "execution_count": null,
   "metadata": {},
   "outputs": [],
   "source": []
  },
  {
   "cell_type": "code",
   "execution_count": null,
   "metadata": {},
   "outputs": [],
   "source": [
    "160795862717038788608 + 419684887152871954"
   ]
  },
  {
   "cell_type": "code",
   "execution_count": null,
   "metadata": {},
   "outputs": [],
   "source": [
    "dest_to_dest[dest_to_dest[\"token_address\"] == inDestinationVault]"
   ]
  },
  {
   "cell_type": "code",
   "execution_count": null,
   "metadata": {},
   "outputs": [],
   "source": [
    "dest_to_dest[dest_to_dest[\"token_address\"] == outDestinationVault]"
   ]
  },
  {
   "cell_type": "code",
   "execution_count": null,
   "metadata": {},
   "outputs": [],
   "source": [
    "dest_to_dest[dest_to_dest[\"to\"] == outDestinationVault]"
   ]
  },
  {
   "cell_type": "code",
   "execution_count": null,
   "metadata": {},
   "outputs": [],
   "source": [
    "dest_to_dest[dest_to_dest[\"from\"] == outDestinationVault]\n",
    "# destination vault -> flash borrow solver 0x067cB94576aBBDB3527055f3c8CaAAc9668364AD\n",
    "# is the quanikty t"
   ]
  },
  {
   "cell_type": "code",
   "execution_count": null,
   "metadata": {},
   "outputs": [],
   "source": [
    "dest_to_dest[\"to\"].value_counts()"
   ]
  },
  {
   "cell_type": "code",
   "execution_count": null,
   "metadata": {},
   "outputs": [],
   "source": [
    "rebalance_events_df.values[-1]  # 73804358107532979104"
   ]
  },
  {
   "cell_type": "code",
   "execution_count": null,
   "metadata": {},
   "outputs": [],
   "source": [
    "rebalance_events_df"
   ]
  },
  {
   "cell_type": "code",
   "execution_count": null,
   "metadata": {},
   "outputs": [],
   "source": []
  }
 ],
 "metadata": {
  "kernelspec": {
   "display_name": ".venv",
   "language": "python",
   "name": "python3"
  },
  "language_info": {
   "codemirror_mode": {
    "name": "ipython",
    "version": 3
   },
   "file_extension": ".py",
   "mimetype": "text/x-python",
   "name": "python",
   "nbconvert_exporter": "python",
   "pygments_lexer": "ipython3",
   "version": "3.10.14"
  }
 },
 "nbformat": 4,
 "nbformat_minor": 2
}
