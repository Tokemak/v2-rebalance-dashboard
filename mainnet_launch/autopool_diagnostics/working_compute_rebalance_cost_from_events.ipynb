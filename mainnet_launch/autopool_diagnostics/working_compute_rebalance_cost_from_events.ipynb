{
 "cells": [
  {
   "cell_type": "code",
   "execution_count": 1,
   "metadata": {},
   "outputs": [
    {
     "name": "stderr",
     "output_type": "stream",
     "text": [
      "2024-11-14 09:00:00.571 WARNING streamlit.runtime.caching.cache_data_api: No runtime found, using MemoryCacheStorageManager\n",
      "2024-11-14 09:00:00.575 WARNING streamlit.runtime.caching.cache_data_api: No runtime found, using MemoryCacheStorageManager\n",
      "2024-11-14 09:00:00.580 WARNING streamlit.runtime.caching.cache_data_api: No runtime found, using MemoryCacheStorageManager\n",
      "2024-11-14 09:00:00.581 WARNING streamlit.runtime.caching.cache_data_api: No runtime found, using MemoryCacheStorageManager\n",
      "2024-11-14 09:00:00.583 WARNING streamlit.runtime.caching.cache_data_api: No runtime found, using MemoryCacheStorageManager\n",
      "2024-11-14 09:00:00.584 WARNING streamlit.runtime.caching.cache_data_api: No runtime found, using MemoryCacheStorageManager\n",
      "2024-11-14 09:00:00.586 WARNING streamlit.runtime.caching.cache_data_api: No runtime found, using MemoryCacheStorageManager\n",
      "2024-11-14 09:00:00.587 WARNING streamlit.runtime.caching.cache_data_api: No runtime found, using MemoryCacheStorageManager\n",
      "2024-11-14 09:00:01.360 WARNING streamlit.runtime.scriptrunner_utils.script_run_context: Thread 'MainThread': missing ScriptRunContext! This warning can be ignored when running in bare mode.\n",
      "2024-11-14 09:00:01.526 \n",
      "  \u001b[33m\u001b[1mWarning:\u001b[0m to view this Streamlit app on a browser, run it with the following\n",
      "  command:\n",
      "\n",
      "    streamlit run /home/parker/Documents/Tokemak/v2-rebalance-dashboard/.venv/lib/python3.10/site-packages/ipykernel_launcher.py [ARGUMENTS]\n",
      "2024-11-14 09:00:01.527 Thread 'MainThread': missing ScriptRunContext! This warning can be ignored when running in bare mode.\n",
      "2024-11-14 09:00:01.528 Thread 'MainThread': missing ScriptRunContext! This warning can be ignored when running in bare mode.\n",
      "2024-11-14 09:00:01.529 No runtime found, using MemoryCacheStorageManager\n",
      "2024-11-14 09:00:01.529 Thread 'MainThread': missing ScriptRunContext! This warning can be ignored when running in bare mode.\n",
      "2024-11-14 09:00:01.530 Thread 'MainThread': missing ScriptRunContext! This warning can be ignored when running in bare mode.\n",
      "2024-11-14 09:00:01.530 Thread 'MainThread': missing ScriptRunContext! This warning can be ignored when running in bare mode.\n",
      "2024-11-14 09:00:01.531 No runtime found, using MemoryCacheStorageManager\n",
      "2024-11-14 09:00:01.531 Thread 'MainThread': missing ScriptRunContext! This warning can be ignored when running in bare mode.\n",
      "2024-11-14 09:00:01.531 Thread 'MainThread': missing ScriptRunContext! This warning can be ignored when running in bare mode.\n",
      "2024-11-14 09:00:01.532 Thread 'MainThread': missing ScriptRunContext! This warning can be ignored when running in bare mode.\n",
      "2024-11-14 09:00:01.533 No runtime found, using MemoryCacheStorageManager\n",
      "2024-11-14 09:00:01.603 Thread 'MainThread': missing ScriptRunContext! This warning can be ignored when running in bare mode.\n",
      "2024-11-14 09:00:01.603 Thread 'MainThread': missing ScriptRunContext! This warning can be ignored when running in bare mode.\n",
      "2024-11-14 09:00:02.030 Thread 'Thread-4': missing ScriptRunContext! This warning can be ignored when running in bare mode.\n",
      "2024-11-14 09:00:02.032 Thread 'Thread-4': missing ScriptRunContext! This warning can be ignored when running in bare mode.\n",
      "2024-11-14 09:00:02.032 Thread 'Thread-5': missing ScriptRunContext! This warning can be ignored when running in bare mode.\n",
      "2024-11-14 09:00:02.045 Thread 'Thread-5': missing ScriptRunContext! This warning can be ignored when running in bare mode.\n",
      "2024-11-14 09:00:07.784 Thread 'MainThread': missing ScriptRunContext! This warning can be ignored when running in bare mode.\n",
      "2024-11-14 09:00:07.784 Thread 'MainThread': missing ScriptRunContext! This warning can be ignored when running in bare mode.\n",
      "2024-11-14 09:00:09.798 Thread 'MainThread': missing ScriptRunContext! This warning can be ignored when running in bare mode.\n",
      "2024-11-14 09:00:09.798 Thread 'MainThread': missing ScriptRunContext! This warning can be ignored when running in bare mode.\n",
      "2024-11-14 09:00:11.253 Thread 'MainThread': missing ScriptRunContext! This warning can be ignored when running in bare mode.\n",
      "2024-11-14 09:00:11.254 Thread 'MainThread': missing ScriptRunContext! This warning can be ignored when running in bare mode.\n",
      "2024-11-14 09:00:11.254 Thread 'MainThread': missing ScriptRunContext! This warning can be ignored when running in bare mode.\n",
      "2024-11-14 09:00:11.255 Thread 'MainThread': missing ScriptRunContext! This warning can be ignored when running in bare mode.\n",
      "2024-11-14 09:00:11.256 Thread 'MainThread': missing ScriptRunContext! This warning can be ignored when running in bare mode.\n"
     ]
    },
    {
     "data": {
      "text/html": [
       "<div>\n",
       "<style scoped>\n",
       "    .dataframe tbody tr th:only-of-type {\n",
       "        vertical-align: middle;\n",
       "    }\n",
       "\n",
       "    .dataframe tbody tr th {\n",
       "        vertical-align: top;\n",
       "    }\n",
       "\n",
       "    .dataframe thead th {\n",
       "        text-align: right;\n",
       "    }\n",
       "</style>\n",
       "<table border=\"1\" class=\"dataframe\">\n",
       "  <thead>\n",
       "    <tr style=\"text-align: right;\">\n",
       "      <th></th>\n",
       "      <th>spot_value_swap_cost</th>\n",
       "      <th>inDestinationVault</th>\n",
       "      <th>outDestinationVault</th>\n",
       "      <th>block</th>\n",
       "    </tr>\n",
       "    <tr>\n",
       "      <th>timestamp</th>\n",
       "      <th></th>\n",
       "      <th></th>\n",
       "      <th></th>\n",
       "      <th></th>\n",
       "    </tr>\n",
       "  </thead>\n",
       "  <tbody>\n",
       "    <tr>\n",
       "      <th>2024-09-17 02:30:23+00:00</th>\n",
       "      <td>0.045264</td>\n",
       "      <td>0x777FAf85c8E5FC6f4332E56B989C5C94201A273C</td>\n",
       "      <td>0xE800e3760FC20aA98c5df6A9816147f190455AF3</td>\n",
       "      <td>20767364</td>\n",
       "    </tr>\n",
       "    <tr>\n",
       "      <th>2024-09-17 18:34:35+00:00</th>\n",
       "      <td>0.000000</td>\n",
       "      <td>0x4E12227b350E8f8fEEc41A58D36cE2fB2e2d4575</td>\n",
       "      <td>0xE800e3760FC20aA98c5df6A9816147f190455AF3</td>\n",
       "      <td>20772145</td>\n",
       "    </tr>\n",
       "    <tr>\n",
       "      <th>2024-09-18 15:13:59+00:00</th>\n",
       "      <td>0.124057</td>\n",
       "      <td>0x2F7e096a400ded5D02762120b39A3aA4ABA072a4</td>\n",
       "      <td>0xE800e3760FC20aA98c5df6A9816147f190455AF3</td>\n",
       "      <td>20778301</td>\n",
       "    </tr>\n",
       "    <tr>\n",
       "      <th>2024-09-19 01:37:11+00:00</th>\n",
       "      <td>0.000000</td>\n",
       "      <td>0x4E12227b350E8f8fEEc41A58D36cE2fB2e2d4575</td>\n",
       "      <td>0xE800e3760FC20aA98c5df6A9816147f190455AF3</td>\n",
       "      <td>20781400</td>\n",
       "    </tr>\n",
       "    <tr>\n",
       "      <th>2024-09-19 17:16:11+00:00</th>\n",
       "      <td>0.255597</td>\n",
       "      <td>0x2F7e096a400ded5D02762120b39A3aA4ABA072a4</td>\n",
       "      <td>0xE800e3760FC20aA98c5df6A9816147f190455AF3</td>\n",
       "      <td>20786072</td>\n",
       "    </tr>\n",
       "    <tr>\n",
       "      <th>...</th>\n",
       "      <td>...</td>\n",
       "      <td>...</td>\n",
       "      <td>...</td>\n",
       "      <td>...</td>\n",
       "    </tr>\n",
       "    <tr>\n",
       "      <th>2024-11-08 06:43:47+00:00</th>\n",
       "      <td>0.028111</td>\n",
       "      <td>0xf9779aEF9f77e78C857CB4A068c65CcBee25BAAc</td>\n",
       "      <td>0xE800e3760FC20aA98c5df6A9816147f190455AF3</td>\n",
       "      <td>21141208</td>\n",
       "    </tr>\n",
       "    <tr>\n",
       "      <th>2024-11-08 15:58:23+00:00</th>\n",
       "      <td>0.006804</td>\n",
       "      <td>0xf9779aEF9f77e78C857CB4A068c65CcBee25BAAc</td>\n",
       "      <td>0xE800e3760FC20aA98c5df6A9816147f190455AF3</td>\n",
       "      <td>21143968</td>\n",
       "    </tr>\n",
       "    <tr>\n",
       "      <th>2024-11-09 06:31:11+00:00</th>\n",
       "      <td>0.014545</td>\n",
       "      <td>0xf9779aEF9f77e78C857CB4A068c65CcBee25BAAc</td>\n",
       "      <td>0xE800e3760FC20aA98c5df6A9816147f190455AF3</td>\n",
       "      <td>21148318</td>\n",
       "    </tr>\n",
       "    <tr>\n",
       "      <th>2024-11-09 21:31:23+00:00</th>\n",
       "      <td>0.088291</td>\n",
       "      <td>0xf9779aEF9f77e78C857CB4A068c65CcBee25BAAc</td>\n",
       "      <td>0xE800e3760FC20aA98c5df6A9816147f190455AF3</td>\n",
       "      <td>21152799</td>\n",
       "    </tr>\n",
       "    <tr>\n",
       "      <th>2024-11-10 12:31:35+00:00</th>\n",
       "      <td>0.031403</td>\n",
       "      <td>0x40219bBda953ca811d2D0168Dc806a96b84791d9</td>\n",
       "      <td>0xE800e3760FC20aA98c5df6A9816147f190455AF3</td>\n",
       "      <td>21157284</td>\n",
       "    </tr>\n",
       "  </tbody>\n",
       "</table>\n",
       "<p>80 rows × 4 columns</p>\n",
       "</div>"
      ],
      "text/plain": [
       "                           spot_value_swap_cost  \\\n",
       "timestamp                                         \n",
       "2024-09-17 02:30:23+00:00              0.045264   \n",
       "2024-09-17 18:34:35+00:00              0.000000   \n",
       "2024-09-18 15:13:59+00:00              0.124057   \n",
       "2024-09-19 01:37:11+00:00              0.000000   \n",
       "2024-09-19 17:16:11+00:00              0.255597   \n",
       "...                                         ...   \n",
       "2024-11-08 06:43:47+00:00              0.028111   \n",
       "2024-11-08 15:58:23+00:00              0.006804   \n",
       "2024-11-09 06:31:11+00:00              0.014545   \n",
       "2024-11-09 21:31:23+00:00              0.088291   \n",
       "2024-11-10 12:31:35+00:00              0.031403   \n",
       "\n",
       "                                                   inDestinationVault  \\\n",
       "timestamp                                                               \n",
       "2024-09-17 02:30:23+00:00  0x777FAf85c8E5FC6f4332E56B989C5C94201A273C   \n",
       "2024-09-17 18:34:35+00:00  0x4E12227b350E8f8fEEc41A58D36cE2fB2e2d4575   \n",
       "2024-09-18 15:13:59+00:00  0x2F7e096a400ded5D02762120b39A3aA4ABA072a4   \n",
       "2024-09-19 01:37:11+00:00  0x4E12227b350E8f8fEEc41A58D36cE2fB2e2d4575   \n",
       "2024-09-19 17:16:11+00:00  0x2F7e096a400ded5D02762120b39A3aA4ABA072a4   \n",
       "...                                                               ...   \n",
       "2024-11-08 06:43:47+00:00  0xf9779aEF9f77e78C857CB4A068c65CcBee25BAAc   \n",
       "2024-11-08 15:58:23+00:00  0xf9779aEF9f77e78C857CB4A068c65CcBee25BAAc   \n",
       "2024-11-09 06:31:11+00:00  0xf9779aEF9f77e78C857CB4A068c65CcBee25BAAc   \n",
       "2024-11-09 21:31:23+00:00  0xf9779aEF9f77e78C857CB4A068c65CcBee25BAAc   \n",
       "2024-11-10 12:31:35+00:00  0x40219bBda953ca811d2D0168Dc806a96b84791d9   \n",
       "\n",
       "                                                  outDestinationVault  \\\n",
       "timestamp                                                               \n",
       "2024-09-17 02:30:23+00:00  0xE800e3760FC20aA98c5df6A9816147f190455AF3   \n",
       "2024-09-17 18:34:35+00:00  0xE800e3760FC20aA98c5df6A9816147f190455AF3   \n",
       "2024-09-18 15:13:59+00:00  0xE800e3760FC20aA98c5df6A9816147f190455AF3   \n",
       "2024-09-19 01:37:11+00:00  0xE800e3760FC20aA98c5df6A9816147f190455AF3   \n",
       "2024-09-19 17:16:11+00:00  0xE800e3760FC20aA98c5df6A9816147f190455AF3   \n",
       "...                                                               ...   \n",
       "2024-11-08 06:43:47+00:00  0xE800e3760FC20aA98c5df6A9816147f190455AF3   \n",
       "2024-11-08 15:58:23+00:00  0xE800e3760FC20aA98c5df6A9816147f190455AF3   \n",
       "2024-11-09 06:31:11+00:00  0xE800e3760FC20aA98c5df6A9816147f190455AF3   \n",
       "2024-11-09 21:31:23+00:00  0xE800e3760FC20aA98c5df6A9816147f190455AF3   \n",
       "2024-11-10 12:31:35+00:00  0xE800e3760FC20aA98c5df6A9816147f190455AF3   \n",
       "\n",
       "                              block  \n",
       "timestamp                            \n",
       "2024-09-17 02:30:23+00:00  20767364  \n",
       "2024-09-17 18:34:35+00:00  20772145  \n",
       "2024-09-18 15:13:59+00:00  20778301  \n",
       "2024-09-19 01:37:11+00:00  20781400  \n",
       "2024-09-19 17:16:11+00:00  20786072  \n",
       "...                             ...  \n",
       "2024-11-08 06:43:47+00:00  21141208  \n",
       "2024-11-08 15:58:23+00:00  21143968  \n",
       "2024-11-09 06:31:11+00:00  21148318  \n",
       "2024-11-09 21:31:23+00:00  21152799  \n",
       "2024-11-10 12:31:35+00:00  21157284  \n",
       "\n",
       "[80 rows x 4 columns]"
      ]
     },
     "execution_count": 1,
     "metadata": {},
     "output_type": "execute_result"
    }
   ],
   "source": [
    "from mainnet_launch.autopool_diagnostics.compute_rebalance_cost import (\n",
    "    AUTO_LRT,\n",
    "    BAL_ETH,\n",
    "    AUTO_ETH,\n",
    "    eth_client,\n",
    "    AutopoolConstants,\n",
    "    fetch_spot_value_swap_cost_df,\n",
    ")\n",
    "import pandas as pd\n",
    "import plotly.express as px\n",
    "\n",
    "import plotly.io as pio\n",
    "from mainnet_launch.destinations import get_destination_details, ALL_AUTOPOOLS\n",
    "\n",
    "pio.templates.default = None\n",
    "autopool = AUTO_LRT\n",
    "\n",
    "amounts_with_spot_values = fetch_spot_value_swap_cost_df(autopool)\n",
    "amounts_with_spot_values"
   ]
  },
  {
   "cell_type": "code",
   "execution_count": 7,
   "metadata": {},
   "outputs": [
    {
     "data": {
      "application/vnd.plotly.v1+json": {
       "config": {
        "plotlyServerURL": "https://plot.ly"
       },
       "data": [
        {
         "hovertemplate": "variable=spot_value_swap_cost<br>timestamp=%{x}<br>value=%{y}<extra></extra>",
         "legendgroup": "spot_value_swap_cost",
         "line": {
          "color": "#636efa",
          "dash": "solid"
         },
         "marker": {
          "symbol": "circle"
         },
         "mode": "lines",
         "name": "spot_value_swap_cost",
         "orientation": "v",
         "showlegend": true,
         "type": "scatter",
         "x": [
          "2024-09-17T02:30:23+00:00",
          "2024-09-17T18:34:35+00:00",
          "2024-09-18T15:13:59+00:00",
          "2024-09-19T01:37:11+00:00",
          "2024-09-19T17:16:11+00:00",
          "2024-09-20T15:05:47+00:00",
          "2024-09-21T02:58:47+00:00",
          "2024-09-21T21:18:35+00:00",
          "2024-09-22T11:53:47+00:00",
          "2024-09-22T20:30:23+00:00",
          "2024-09-23T06:01:47+00:00",
          "2024-09-24T03:01:47+00:00",
          "2024-09-24T15:59:23+00:00",
          "2024-09-26T15:17:23+00:00",
          "2024-09-27T02:07:35+00:00",
          "2024-09-27T21:08:23+00:00",
          "2024-09-28T13:11:23+00:00",
          "2024-09-29T01:30:59+00:00",
          "2024-09-29T12:34:59+00:00",
          "2024-09-29T21:47:59+00:00",
          "2024-09-30T06:19:11+00:00",
          "2024-09-30T15:31:23+00:00",
          "2024-10-01T03:31:23+00:00",
          "2024-10-01T12:31:47+00:00",
          "2024-10-03T01:20:35+00:00",
          "2024-10-03T09:31:23+00:00",
          "2024-10-03T18:31:35+00:00",
          "2024-10-04T03:31:35+00:00",
          "2024-10-05T09:31:23+00:00",
          "2024-10-05T21:31:23+00:00",
          "2024-10-06T06:31:23+00:00",
          "2024-10-06T15:31:23+00:00",
          "2024-10-10T06:31:11+00:00",
          "2024-10-10T15:31:11+00:00",
          "2024-10-11T12:31:59+00:00",
          "2024-10-12T22:40:35+00:00",
          "2024-10-15T00:31:23+00:00",
          "2024-10-15T09:31:11+00:00",
          "2024-10-19T21:31:35+00:00",
          "2024-10-20T06:31:23+00:00",
          "2024-10-20T15:31:47+00:00",
          "2024-10-22T15:31:23+00:00",
          "2024-10-23T03:30:59+00:00",
          "2024-10-23T12:32:11+00:00",
          "2024-10-23T21:31:11+00:00",
          "2024-10-24T12:31:35+00:00",
          "2024-10-25T00:31:23+00:00",
          "2024-10-25T09:31:11+00:00",
          "2024-10-25T18:31:11+00:00",
          "2024-10-26T03:31:11+00:00",
          "2024-10-26T12:31:11+00:00",
          "2024-10-26T21:31:11+00:00",
          "2024-10-28T09:31:11+00:00",
          "2024-10-28T18:31:11+00:00",
          "2024-10-30T18:31:23+00:00",
          "2024-11-02T18:23:59+00:00",
          "2024-11-03T05:14:23+00:00",
          "2024-11-03T15:39:59+00:00",
          "2024-11-04T00:33:23+00:00",
          "2024-11-05T15:28:35+00:00",
          "2024-11-06T02:31:35+00:00",
          "2024-11-07T18:27:11+00:00",
          "2024-11-08T06:43:47+00:00",
          "2024-11-08T15:58:23+00:00",
          "2024-11-09T06:31:11+00:00",
          "2024-11-09T21:31:23+00:00",
          "2024-11-10T12:31:35+00:00"
         ],
         "xaxis": "x",
         "y": [
          0.0452636871529819,
          0.0452636871529819,
          0.16932102542853045,
          0.16932102542853045,
          0.42491814733318733,
          0.4998388767082531,
          0.5488346254241776,
          0.6743058678872274,
          0.6850153490998139,
          0.696439560844226,
          0.7093842905800471,
          0.7353339607487897,
          0.7451564802125787,
          0.7609482153025979,
          0.7718984543709908,
          0.7718984543709908,
          0.8114563210519137,
          0.8315616631809633,
          0.8674125772466681,
          0.9287183401394401,
          0.9538948481006031,
          0.975425637790039,
          0.9956906215608257,
          1.0133409754688785,
          1.0133409754688785,
          1.0398882214762395,
          1.063036325128202,
          1.1163163440006585,
          1.1235794996743422,
          1.1288295346742316,
          1.1311947978615287,
          1.18665191230534,
          1.2063669179516303,
          1.2295109146518008,
          1.2356188220104265,
          1.2478885112991414,
          1.2478885112991414,
          1.2497907679720885,
          1.25478384229549,
          1.265498839820646,
          1.2709166446185751,
          1.2709166446185751,
          1.2805438417559056,
          1.2856641758939134,
          1.287391156720965,
          1.306248789498444,
          1.357991464491978,
          1.4215223919429616,
          1.5202699574040506,
          1.5325012473304125,
          1.5438010453476143,
          1.611104147568064,
          1.6249596448459909,
          1.653013925141782,
          1.6535494974285323,
          1.7015787134067575,
          1.742126158839657,
          1.75888424825434,
          1.8214504401255953,
          1.8754794731102395,
          1.915145694264112,
          1.9609531241066451,
          1.9890645085980128,
          1.995868967007944,
          2.0104140845532257,
          2.098704806101942,
          2.1301081395393453
         ],
         "yaxis": "y"
        }
       ],
       "layout": {
        "legend": {
         "title": {
          "text": "variable"
         },
         "tracegroupgap": 0
        },
        "margin": {
         "t": 60
        },
        "template": {
         "data": {
          "bar": [
           {
            "error_x": {
             "color": "#2a3f5f"
            },
            "error_y": {
             "color": "#2a3f5f"
            },
            "marker": {
             "line": {
              "color": "#E5ECF6",
              "width": 0.5
             },
             "pattern": {
              "fillmode": "overlay",
              "size": 10,
              "solidity": 0.2
             }
            },
            "type": "bar"
           }
          ],
          "barpolar": [
           {
            "marker": {
             "line": {
              "color": "#E5ECF6",
              "width": 0.5
             },
             "pattern": {
              "fillmode": "overlay",
              "size": 10,
              "solidity": 0.2
             }
            },
            "type": "barpolar"
           }
          ],
          "carpet": [
           {
            "aaxis": {
             "endlinecolor": "#2a3f5f",
             "gridcolor": "white",
             "linecolor": "white",
             "minorgridcolor": "white",
             "startlinecolor": "#2a3f5f"
            },
            "baxis": {
             "endlinecolor": "#2a3f5f",
             "gridcolor": "white",
             "linecolor": "white",
             "minorgridcolor": "white",
             "startlinecolor": "#2a3f5f"
            },
            "type": "carpet"
           }
          ],
          "choropleth": [
           {
            "colorbar": {
             "outlinewidth": 0,
             "ticks": ""
            },
            "type": "choropleth"
           }
          ],
          "contour": [
           {
            "colorbar": {
             "outlinewidth": 0,
             "ticks": ""
            },
            "colorscale": [
             [
              0,
              "#0d0887"
             ],
             [
              0.1111111111111111,
              "#46039f"
             ],
             [
              0.2222222222222222,
              "#7201a8"
             ],
             [
              0.3333333333333333,
              "#9c179e"
             ],
             [
              0.4444444444444444,
              "#bd3786"
             ],
             [
              0.5555555555555556,
              "#d8576b"
             ],
             [
              0.6666666666666666,
              "#ed7953"
             ],
             [
              0.7777777777777778,
              "#fb9f3a"
             ],
             [
              0.8888888888888888,
              "#fdca26"
             ],
             [
              1,
              "#f0f921"
             ]
            ],
            "type": "contour"
           }
          ],
          "contourcarpet": [
           {
            "colorbar": {
             "outlinewidth": 0,
             "ticks": ""
            },
            "type": "contourcarpet"
           }
          ],
          "heatmap": [
           {
            "colorbar": {
             "outlinewidth": 0,
             "ticks": ""
            },
            "colorscale": [
             [
              0,
              "#0d0887"
             ],
             [
              0.1111111111111111,
              "#46039f"
             ],
             [
              0.2222222222222222,
              "#7201a8"
             ],
             [
              0.3333333333333333,
              "#9c179e"
             ],
             [
              0.4444444444444444,
              "#bd3786"
             ],
             [
              0.5555555555555556,
              "#d8576b"
             ],
             [
              0.6666666666666666,
              "#ed7953"
             ],
             [
              0.7777777777777778,
              "#fb9f3a"
             ],
             [
              0.8888888888888888,
              "#fdca26"
             ],
             [
              1,
              "#f0f921"
             ]
            ],
            "type": "heatmap"
           }
          ],
          "heatmapgl": [
           {
            "colorbar": {
             "outlinewidth": 0,
             "ticks": ""
            },
            "colorscale": [
             [
              0,
              "#0d0887"
             ],
             [
              0.1111111111111111,
              "#46039f"
             ],
             [
              0.2222222222222222,
              "#7201a8"
             ],
             [
              0.3333333333333333,
              "#9c179e"
             ],
             [
              0.4444444444444444,
              "#bd3786"
             ],
             [
              0.5555555555555556,
              "#d8576b"
             ],
             [
              0.6666666666666666,
              "#ed7953"
             ],
             [
              0.7777777777777778,
              "#fb9f3a"
             ],
             [
              0.8888888888888888,
              "#fdca26"
             ],
             [
              1,
              "#f0f921"
             ]
            ],
            "type": "heatmapgl"
           }
          ],
          "histogram": [
           {
            "marker": {
             "pattern": {
              "fillmode": "overlay",
              "size": 10,
              "solidity": 0.2
             }
            },
            "type": "histogram"
           }
          ],
          "histogram2d": [
           {
            "colorbar": {
             "outlinewidth": 0,
             "ticks": ""
            },
            "colorscale": [
             [
              0,
              "#0d0887"
             ],
             [
              0.1111111111111111,
              "#46039f"
             ],
             [
              0.2222222222222222,
              "#7201a8"
             ],
             [
              0.3333333333333333,
              "#9c179e"
             ],
             [
              0.4444444444444444,
              "#bd3786"
             ],
             [
              0.5555555555555556,
              "#d8576b"
             ],
             [
              0.6666666666666666,
              "#ed7953"
             ],
             [
              0.7777777777777778,
              "#fb9f3a"
             ],
             [
              0.8888888888888888,
              "#fdca26"
             ],
             [
              1,
              "#f0f921"
             ]
            ],
            "type": "histogram2d"
           }
          ],
          "histogram2dcontour": [
           {
            "colorbar": {
             "outlinewidth": 0,
             "ticks": ""
            },
            "colorscale": [
             [
              0,
              "#0d0887"
             ],
             [
              0.1111111111111111,
              "#46039f"
             ],
             [
              0.2222222222222222,
              "#7201a8"
             ],
             [
              0.3333333333333333,
              "#9c179e"
             ],
             [
              0.4444444444444444,
              "#bd3786"
             ],
             [
              0.5555555555555556,
              "#d8576b"
             ],
             [
              0.6666666666666666,
              "#ed7953"
             ],
             [
              0.7777777777777778,
              "#fb9f3a"
             ],
             [
              0.8888888888888888,
              "#fdca26"
             ],
             [
              1,
              "#f0f921"
             ]
            ],
            "type": "histogram2dcontour"
           }
          ],
          "mesh3d": [
           {
            "colorbar": {
             "outlinewidth": 0,
             "ticks": ""
            },
            "type": "mesh3d"
           }
          ],
          "parcoords": [
           {
            "line": {
             "colorbar": {
              "outlinewidth": 0,
              "ticks": ""
             }
            },
            "type": "parcoords"
           }
          ],
          "pie": [
           {
            "automargin": true,
            "type": "pie"
           }
          ],
          "scatter": [
           {
            "fillpattern": {
             "fillmode": "overlay",
             "size": 10,
             "solidity": 0.2
            },
            "type": "scatter"
           }
          ],
          "scatter3d": [
           {
            "line": {
             "colorbar": {
              "outlinewidth": 0,
              "ticks": ""
             }
            },
            "marker": {
             "colorbar": {
              "outlinewidth": 0,
              "ticks": ""
             }
            },
            "type": "scatter3d"
           }
          ],
          "scattercarpet": [
           {
            "marker": {
             "colorbar": {
              "outlinewidth": 0,
              "ticks": ""
             }
            },
            "type": "scattercarpet"
           }
          ],
          "scattergeo": [
           {
            "marker": {
             "colorbar": {
              "outlinewidth": 0,
              "ticks": ""
             }
            },
            "type": "scattergeo"
           }
          ],
          "scattergl": [
           {
            "marker": {
             "colorbar": {
              "outlinewidth": 0,
              "ticks": ""
             }
            },
            "type": "scattergl"
           }
          ],
          "scattermapbox": [
           {
            "marker": {
             "colorbar": {
              "outlinewidth": 0,
              "ticks": ""
             }
            },
            "type": "scattermapbox"
           }
          ],
          "scatterpolar": [
           {
            "marker": {
             "colorbar": {
              "outlinewidth": 0,
              "ticks": ""
             }
            },
            "type": "scatterpolar"
           }
          ],
          "scatterpolargl": [
           {
            "marker": {
             "colorbar": {
              "outlinewidth": 0,
              "ticks": ""
             }
            },
            "type": "scatterpolargl"
           }
          ],
          "scatterternary": [
           {
            "marker": {
             "colorbar": {
              "outlinewidth": 0,
              "ticks": ""
             }
            },
            "type": "scatterternary"
           }
          ],
          "surface": [
           {
            "colorbar": {
             "outlinewidth": 0,
             "ticks": ""
            },
            "colorscale": [
             [
              0,
              "#0d0887"
             ],
             [
              0.1111111111111111,
              "#46039f"
             ],
             [
              0.2222222222222222,
              "#7201a8"
             ],
             [
              0.3333333333333333,
              "#9c179e"
             ],
             [
              0.4444444444444444,
              "#bd3786"
             ],
             [
              0.5555555555555556,
              "#d8576b"
             ],
             [
              0.6666666666666666,
              "#ed7953"
             ],
             [
              0.7777777777777778,
              "#fb9f3a"
             ],
             [
              0.8888888888888888,
              "#fdca26"
             ],
             [
              1,
              "#f0f921"
             ]
            ],
            "type": "surface"
           }
          ],
          "table": [
           {
            "cells": {
             "fill": {
              "color": "#EBF0F8"
             },
             "line": {
              "color": "white"
             }
            },
            "header": {
             "fill": {
              "color": "#C8D4E3"
             },
             "line": {
              "color": "white"
             }
            },
            "type": "table"
           }
          ]
         },
         "layout": {
          "annotationdefaults": {
           "arrowcolor": "#2a3f5f",
           "arrowhead": 0,
           "arrowwidth": 1
          },
          "autotypenumbers": "strict",
          "coloraxis": {
           "colorbar": {
            "outlinewidth": 0,
            "ticks": ""
           }
          },
          "colorscale": {
           "diverging": [
            [
             0,
             "#8e0152"
            ],
            [
             0.1,
             "#c51b7d"
            ],
            [
             0.2,
             "#de77ae"
            ],
            [
             0.3,
             "#f1b6da"
            ],
            [
             0.4,
             "#fde0ef"
            ],
            [
             0.5,
             "#f7f7f7"
            ],
            [
             0.6,
             "#e6f5d0"
            ],
            [
             0.7,
             "#b8e186"
            ],
            [
             0.8,
             "#7fbc41"
            ],
            [
             0.9,
             "#4d9221"
            ],
            [
             1,
             "#276419"
            ]
           ],
           "sequential": [
            [
             0,
             "#0d0887"
            ],
            [
             0.1111111111111111,
             "#46039f"
            ],
            [
             0.2222222222222222,
             "#7201a8"
            ],
            [
             0.3333333333333333,
             "#9c179e"
            ],
            [
             0.4444444444444444,
             "#bd3786"
            ],
            [
             0.5555555555555556,
             "#d8576b"
            ],
            [
             0.6666666666666666,
             "#ed7953"
            ],
            [
             0.7777777777777778,
             "#fb9f3a"
            ],
            [
             0.8888888888888888,
             "#fdca26"
            ],
            [
             1,
             "#f0f921"
            ]
           ],
           "sequentialminus": [
            [
             0,
             "#0d0887"
            ],
            [
             0.1111111111111111,
             "#46039f"
            ],
            [
             0.2222222222222222,
             "#7201a8"
            ],
            [
             0.3333333333333333,
             "#9c179e"
            ],
            [
             0.4444444444444444,
             "#bd3786"
            ],
            [
             0.5555555555555556,
             "#d8576b"
            ],
            [
             0.6666666666666666,
             "#ed7953"
            ],
            [
             0.7777777777777778,
             "#fb9f3a"
            ],
            [
             0.8888888888888888,
             "#fdca26"
            ],
            [
             1,
             "#f0f921"
            ]
           ]
          },
          "colorway": [
           "#636efa",
           "#EF553B",
           "#00cc96",
           "#ab63fa",
           "#FFA15A",
           "#19d3f3",
           "#FF6692",
           "#B6E880",
           "#FF97FF",
           "#FECB52"
          ],
          "font": {
           "color": "#2a3f5f"
          },
          "geo": {
           "bgcolor": "white",
           "lakecolor": "white",
           "landcolor": "#E5ECF6",
           "showlakes": true,
           "showland": true,
           "subunitcolor": "white"
          },
          "hoverlabel": {
           "align": "left"
          },
          "hovermode": "closest",
          "mapbox": {
           "style": "light"
          },
          "paper_bgcolor": "white",
          "plot_bgcolor": "#E5ECF6",
          "polar": {
           "angularaxis": {
            "gridcolor": "white",
            "linecolor": "white",
            "ticks": ""
           },
           "bgcolor": "#E5ECF6",
           "radialaxis": {
            "gridcolor": "white",
            "linecolor": "white",
            "ticks": ""
           }
          },
          "scene": {
           "xaxis": {
            "backgroundcolor": "#E5ECF6",
            "gridcolor": "white",
            "gridwidth": 2,
            "linecolor": "white",
            "showbackground": true,
            "ticks": "",
            "zerolinecolor": "white"
           },
           "yaxis": {
            "backgroundcolor": "#E5ECF6",
            "gridcolor": "white",
            "gridwidth": 2,
            "linecolor": "white",
            "showbackground": true,
            "ticks": "",
            "zerolinecolor": "white"
           },
           "zaxis": {
            "backgroundcolor": "#E5ECF6",
            "gridcolor": "white",
            "gridwidth": 2,
            "linecolor": "white",
            "showbackground": true,
            "ticks": "",
            "zerolinecolor": "white"
           }
          },
          "shapedefaults": {
           "line": {
            "color": "#2a3f5f"
           }
          },
          "ternary": {
           "aaxis": {
            "gridcolor": "white",
            "linecolor": "white",
            "ticks": ""
           },
           "baxis": {
            "gridcolor": "white",
            "linecolor": "white",
            "ticks": ""
           },
           "bgcolor": "#E5ECF6",
           "caxis": {
            "gridcolor": "white",
            "linecolor": "white",
            "ticks": ""
           }
          },
          "title": {
           "x": 0.05
          },
          "xaxis": {
           "automargin": true,
           "gridcolor": "white",
           "linecolor": "white",
           "ticks": "",
           "title": {
            "standoff": 15
           },
           "zerolinecolor": "white",
           "zerolinewidth": 2
          },
          "yaxis": {
           "automargin": true,
           "gridcolor": "white",
           "linecolor": "white",
           "ticks": "",
           "title": {
            "standoff": 15
           },
           "zerolinecolor": "white",
           "zerolinewidth": 2
          }
         }
        },
        "xaxis": {
         "anchor": "y",
         "domain": [
          0,
          1
         ],
         "title": {
          "text": "timestamp"
         }
        },
        "yaxis": {
         "anchor": "x",
         "domain": [
          0,
          1
         ],
         "title": {
          "text": "value"
         }
        }
       }
      }
     },
     "metadata": {},
     "output_type": "display_data"
    }
   ],
   "source": [
    "px.line(\n",
    "    amounts_with_spot_values[amounts_with_spot_values[\"outDestinationVault\"] == autopool.autopool_eth_addr][\n",
    "        \"spot_value_swap_cost\"\n",
    "    ].cumsum()\n",
    ")"
   ]
  },
  {
   "cell_type": "code",
   "execution_count": 8,
   "metadata": {},
   "outputs": [
    {
     "data": {
      "application/vnd.plotly.v1+json": {
       "config": {
        "plotlyServerURL": "https://plot.ly"
       },
       "data": [
        {
         "hovertemplate": "variable=spot_value_swap_cost<br>timestamp=%{x}<br>value=%{y}<extra></extra>",
         "legendgroup": "spot_value_swap_cost",
         "line": {
          "color": "#636efa",
          "dash": "solid"
         },
         "marker": {
          "symbol": "circle"
         },
         "mode": "lines",
         "name": "spot_value_swap_cost",
         "orientation": "v",
         "showlegend": true,
         "type": "scatter",
         "x": [
          "2024-10-02T12:31:47+00:00",
          "2024-10-04T12:33:23+00:00",
          "2024-10-05T00:32:23+00:00",
          "2024-10-11T02:49:35+00:00",
          "2024-10-15T21:31:35+00:00",
          "2024-10-17T15:31:35+00:00",
          "2024-10-18T00:31:35+00:00",
          "2024-10-18T09:31:35+00:00",
          "2024-10-18T18:31:59+00:00",
          "2024-10-19T03:31:47+00:00",
          "2024-10-19T12:31:59+00:00",
          "2024-10-21T00:31:59+00:00",
          "2024-10-21T09:31:47+00:00"
         ],
         "xaxis": "x",
         "y": [
          0.06302435032603171,
          0.06846112516838332,
          0.08739145601543186,
          0.08739145601543186,
          0.1811058510211936,
          0.27227102432113526,
          0.363177941931049,
          0.44137514164413716,
          0.47749383856760375,
          0.49267881928870594,
          0.5103824133697188,
          0.5103824133697188,
          0.5394138958673906
         ],
         "yaxis": "y"
        }
       ],
       "layout": {
        "legend": {
         "title": {
          "text": "variable"
         },
         "tracegroupgap": 0
        },
        "margin": {
         "t": 60
        },
        "template": {
         "data": {
          "bar": [
           {
            "error_x": {
             "color": "#2a3f5f"
            },
            "error_y": {
             "color": "#2a3f5f"
            },
            "marker": {
             "line": {
              "color": "#E5ECF6",
              "width": 0.5
             },
             "pattern": {
              "fillmode": "overlay",
              "size": 10,
              "solidity": 0.2
             }
            },
            "type": "bar"
           }
          ],
          "barpolar": [
           {
            "marker": {
             "line": {
              "color": "#E5ECF6",
              "width": 0.5
             },
             "pattern": {
              "fillmode": "overlay",
              "size": 10,
              "solidity": 0.2
             }
            },
            "type": "barpolar"
           }
          ],
          "carpet": [
           {
            "aaxis": {
             "endlinecolor": "#2a3f5f",
             "gridcolor": "white",
             "linecolor": "white",
             "minorgridcolor": "white",
             "startlinecolor": "#2a3f5f"
            },
            "baxis": {
             "endlinecolor": "#2a3f5f",
             "gridcolor": "white",
             "linecolor": "white",
             "minorgridcolor": "white",
             "startlinecolor": "#2a3f5f"
            },
            "type": "carpet"
           }
          ],
          "choropleth": [
           {
            "colorbar": {
             "outlinewidth": 0,
             "ticks": ""
            },
            "type": "choropleth"
           }
          ],
          "contour": [
           {
            "colorbar": {
             "outlinewidth": 0,
             "ticks": ""
            },
            "colorscale": [
             [
              0,
              "#0d0887"
             ],
             [
              0.1111111111111111,
              "#46039f"
             ],
             [
              0.2222222222222222,
              "#7201a8"
             ],
             [
              0.3333333333333333,
              "#9c179e"
             ],
             [
              0.4444444444444444,
              "#bd3786"
             ],
             [
              0.5555555555555556,
              "#d8576b"
             ],
             [
              0.6666666666666666,
              "#ed7953"
             ],
             [
              0.7777777777777778,
              "#fb9f3a"
             ],
             [
              0.8888888888888888,
              "#fdca26"
             ],
             [
              1,
              "#f0f921"
             ]
            ],
            "type": "contour"
           }
          ],
          "contourcarpet": [
           {
            "colorbar": {
             "outlinewidth": 0,
             "ticks": ""
            },
            "type": "contourcarpet"
           }
          ],
          "heatmap": [
           {
            "colorbar": {
             "outlinewidth": 0,
             "ticks": ""
            },
            "colorscale": [
             [
              0,
              "#0d0887"
             ],
             [
              0.1111111111111111,
              "#46039f"
             ],
             [
              0.2222222222222222,
              "#7201a8"
             ],
             [
              0.3333333333333333,
              "#9c179e"
             ],
             [
              0.4444444444444444,
              "#bd3786"
             ],
             [
              0.5555555555555556,
              "#d8576b"
             ],
             [
              0.6666666666666666,
              "#ed7953"
             ],
             [
              0.7777777777777778,
              "#fb9f3a"
             ],
             [
              0.8888888888888888,
              "#fdca26"
             ],
             [
              1,
              "#f0f921"
             ]
            ],
            "type": "heatmap"
           }
          ],
          "heatmapgl": [
           {
            "colorbar": {
             "outlinewidth": 0,
             "ticks": ""
            },
            "colorscale": [
             [
              0,
              "#0d0887"
             ],
             [
              0.1111111111111111,
              "#46039f"
             ],
             [
              0.2222222222222222,
              "#7201a8"
             ],
             [
              0.3333333333333333,
              "#9c179e"
             ],
             [
              0.4444444444444444,
              "#bd3786"
             ],
             [
              0.5555555555555556,
              "#d8576b"
             ],
             [
              0.6666666666666666,
              "#ed7953"
             ],
             [
              0.7777777777777778,
              "#fb9f3a"
             ],
             [
              0.8888888888888888,
              "#fdca26"
             ],
             [
              1,
              "#f0f921"
             ]
            ],
            "type": "heatmapgl"
           }
          ],
          "histogram": [
           {
            "marker": {
             "pattern": {
              "fillmode": "overlay",
              "size": 10,
              "solidity": 0.2
             }
            },
            "type": "histogram"
           }
          ],
          "histogram2d": [
           {
            "colorbar": {
             "outlinewidth": 0,
             "ticks": ""
            },
            "colorscale": [
             [
              0,
              "#0d0887"
             ],
             [
              0.1111111111111111,
              "#46039f"
             ],
             [
              0.2222222222222222,
              "#7201a8"
             ],
             [
              0.3333333333333333,
              "#9c179e"
             ],
             [
              0.4444444444444444,
              "#bd3786"
             ],
             [
              0.5555555555555556,
              "#d8576b"
             ],
             [
              0.6666666666666666,
              "#ed7953"
             ],
             [
              0.7777777777777778,
              "#fb9f3a"
             ],
             [
              0.8888888888888888,
              "#fdca26"
             ],
             [
              1,
              "#f0f921"
             ]
            ],
            "type": "histogram2d"
           }
          ],
          "histogram2dcontour": [
           {
            "colorbar": {
             "outlinewidth": 0,
             "ticks": ""
            },
            "colorscale": [
             [
              0,
              "#0d0887"
             ],
             [
              0.1111111111111111,
              "#46039f"
             ],
             [
              0.2222222222222222,
              "#7201a8"
             ],
             [
              0.3333333333333333,
              "#9c179e"
             ],
             [
              0.4444444444444444,
              "#bd3786"
             ],
             [
              0.5555555555555556,
              "#d8576b"
             ],
             [
              0.6666666666666666,
              "#ed7953"
             ],
             [
              0.7777777777777778,
              "#fb9f3a"
             ],
             [
              0.8888888888888888,
              "#fdca26"
             ],
             [
              1,
              "#f0f921"
             ]
            ],
            "type": "histogram2dcontour"
           }
          ],
          "mesh3d": [
           {
            "colorbar": {
             "outlinewidth": 0,
             "ticks": ""
            },
            "type": "mesh3d"
           }
          ],
          "parcoords": [
           {
            "line": {
             "colorbar": {
              "outlinewidth": 0,
              "ticks": ""
             }
            },
            "type": "parcoords"
           }
          ],
          "pie": [
           {
            "automargin": true,
            "type": "pie"
           }
          ],
          "scatter": [
           {
            "fillpattern": {
             "fillmode": "overlay",
             "size": 10,
             "solidity": 0.2
            },
            "type": "scatter"
           }
          ],
          "scatter3d": [
           {
            "line": {
             "colorbar": {
              "outlinewidth": 0,
              "ticks": ""
             }
            },
            "marker": {
             "colorbar": {
              "outlinewidth": 0,
              "ticks": ""
             }
            },
            "type": "scatter3d"
           }
          ],
          "scattercarpet": [
           {
            "marker": {
             "colorbar": {
              "outlinewidth": 0,
              "ticks": ""
             }
            },
            "type": "scattercarpet"
           }
          ],
          "scattergeo": [
           {
            "marker": {
             "colorbar": {
              "outlinewidth": 0,
              "ticks": ""
             }
            },
            "type": "scattergeo"
           }
          ],
          "scattergl": [
           {
            "marker": {
             "colorbar": {
              "outlinewidth": 0,
              "ticks": ""
             }
            },
            "type": "scattergl"
           }
          ],
          "scattermapbox": [
           {
            "marker": {
             "colorbar": {
              "outlinewidth": 0,
              "ticks": ""
             }
            },
            "type": "scattermapbox"
           }
          ],
          "scatterpolar": [
           {
            "marker": {
             "colorbar": {
              "outlinewidth": 0,
              "ticks": ""
             }
            },
            "type": "scatterpolar"
           }
          ],
          "scatterpolargl": [
           {
            "marker": {
             "colorbar": {
              "outlinewidth": 0,
              "ticks": ""
             }
            },
            "type": "scatterpolargl"
           }
          ],
          "scatterternary": [
           {
            "marker": {
             "colorbar": {
              "outlinewidth": 0,
              "ticks": ""
             }
            },
            "type": "scatterternary"
           }
          ],
          "surface": [
           {
            "colorbar": {
             "outlinewidth": 0,
             "ticks": ""
            },
            "colorscale": [
             [
              0,
              "#0d0887"
             ],
             [
              0.1111111111111111,
              "#46039f"
             ],
             [
              0.2222222222222222,
              "#7201a8"
             ],
             [
              0.3333333333333333,
              "#9c179e"
             ],
             [
              0.4444444444444444,
              "#bd3786"
             ],
             [
              0.5555555555555556,
              "#d8576b"
             ],
             [
              0.6666666666666666,
              "#ed7953"
             ],
             [
              0.7777777777777778,
              "#fb9f3a"
             ],
             [
              0.8888888888888888,
              "#fdca26"
             ],
             [
              1,
              "#f0f921"
             ]
            ],
            "type": "surface"
           }
          ],
          "table": [
           {
            "cells": {
             "fill": {
              "color": "#EBF0F8"
             },
             "line": {
              "color": "white"
             }
            },
            "header": {
             "fill": {
              "color": "#C8D4E3"
             },
             "line": {
              "color": "white"
             }
            },
            "type": "table"
           }
          ]
         },
         "layout": {
          "annotationdefaults": {
           "arrowcolor": "#2a3f5f",
           "arrowhead": 0,
           "arrowwidth": 1
          },
          "autotypenumbers": "strict",
          "coloraxis": {
           "colorbar": {
            "outlinewidth": 0,
            "ticks": ""
           }
          },
          "colorscale": {
           "diverging": [
            [
             0,
             "#8e0152"
            ],
            [
             0.1,
             "#c51b7d"
            ],
            [
             0.2,
             "#de77ae"
            ],
            [
             0.3,
             "#f1b6da"
            ],
            [
             0.4,
             "#fde0ef"
            ],
            [
             0.5,
             "#f7f7f7"
            ],
            [
             0.6,
             "#e6f5d0"
            ],
            [
             0.7,
             "#b8e186"
            ],
            [
             0.8,
             "#7fbc41"
            ],
            [
             0.9,
             "#4d9221"
            ],
            [
             1,
             "#276419"
            ]
           ],
           "sequential": [
            [
             0,
             "#0d0887"
            ],
            [
             0.1111111111111111,
             "#46039f"
            ],
            [
             0.2222222222222222,
             "#7201a8"
            ],
            [
             0.3333333333333333,
             "#9c179e"
            ],
            [
             0.4444444444444444,
             "#bd3786"
            ],
            [
             0.5555555555555556,
             "#d8576b"
            ],
            [
             0.6666666666666666,
             "#ed7953"
            ],
            [
             0.7777777777777778,
             "#fb9f3a"
            ],
            [
             0.8888888888888888,
             "#fdca26"
            ],
            [
             1,
             "#f0f921"
            ]
           ],
           "sequentialminus": [
            [
             0,
             "#0d0887"
            ],
            [
             0.1111111111111111,
             "#46039f"
            ],
            [
             0.2222222222222222,
             "#7201a8"
            ],
            [
             0.3333333333333333,
             "#9c179e"
            ],
            [
             0.4444444444444444,
             "#bd3786"
            ],
            [
             0.5555555555555556,
             "#d8576b"
            ],
            [
             0.6666666666666666,
             "#ed7953"
            ],
            [
             0.7777777777777778,
             "#fb9f3a"
            ],
            [
             0.8888888888888888,
             "#fdca26"
            ],
            [
             1,
             "#f0f921"
            ]
           ]
          },
          "colorway": [
           "#636efa",
           "#EF553B",
           "#00cc96",
           "#ab63fa",
           "#FFA15A",
           "#19d3f3",
           "#FF6692",
           "#B6E880",
           "#FF97FF",
           "#FECB52"
          ],
          "font": {
           "color": "#2a3f5f"
          },
          "geo": {
           "bgcolor": "white",
           "lakecolor": "white",
           "landcolor": "#E5ECF6",
           "showlakes": true,
           "showland": true,
           "subunitcolor": "white"
          },
          "hoverlabel": {
           "align": "left"
          },
          "hovermode": "closest",
          "mapbox": {
           "style": "light"
          },
          "paper_bgcolor": "white",
          "plot_bgcolor": "#E5ECF6",
          "polar": {
           "angularaxis": {
            "gridcolor": "white",
            "linecolor": "white",
            "ticks": ""
           },
           "bgcolor": "#E5ECF6",
           "radialaxis": {
            "gridcolor": "white",
            "linecolor": "white",
            "ticks": ""
           }
          },
          "scene": {
           "xaxis": {
            "backgroundcolor": "#E5ECF6",
            "gridcolor": "white",
            "gridwidth": 2,
            "linecolor": "white",
            "showbackground": true,
            "ticks": "",
            "zerolinecolor": "white"
           },
           "yaxis": {
            "backgroundcolor": "#E5ECF6",
            "gridcolor": "white",
            "gridwidth": 2,
            "linecolor": "white",
            "showbackground": true,
            "ticks": "",
            "zerolinecolor": "white"
           },
           "zaxis": {
            "backgroundcolor": "#E5ECF6",
            "gridcolor": "white",
            "gridwidth": 2,
            "linecolor": "white",
            "showbackground": true,
            "ticks": "",
            "zerolinecolor": "white"
           }
          },
          "shapedefaults": {
           "line": {
            "color": "#2a3f5f"
           }
          },
          "ternary": {
           "aaxis": {
            "gridcolor": "white",
            "linecolor": "white",
            "ticks": ""
           },
           "baxis": {
            "gridcolor": "white",
            "linecolor": "white",
            "ticks": ""
           },
           "bgcolor": "#E5ECF6",
           "caxis": {
            "gridcolor": "white",
            "linecolor": "white",
            "ticks": ""
           }
          },
          "title": {
           "x": 0.05
          },
          "xaxis": {
           "automargin": true,
           "gridcolor": "white",
           "linecolor": "white",
           "ticks": "",
           "title": {
            "standoff": 15
           },
           "zerolinecolor": "white",
           "zerolinewidth": 2
          },
          "yaxis": {
           "automargin": true,
           "gridcolor": "white",
           "linecolor": "white",
           "ticks": "",
           "title": {
            "standoff": 15
           },
           "zerolinecolor": "white",
           "zerolinewidth": 2
          }
         }
        },
        "xaxis": {
         "anchor": "y",
         "domain": [
          0,
          1
         ],
         "title": {
          "text": "timestamp"
         }
        },
        "yaxis": {
         "anchor": "x",
         "domain": [
          0,
          1
         ],
         "title": {
          "text": "value"
         }
        }
       }
      }
     },
     "metadata": {},
     "output_type": "display_data"
    }
   ],
   "source": [
    "px.line(\n",
    "    amounts_with_spot_values[amounts_with_spot_values[\"outDestinationVault\"] != autopool.autopool_eth_addr][\n",
    "        \"spot_value_swap_cost\"\n",
    "    ].cumsum()\n",
    ")"
   ]
  },
  {
   "cell_type": "code",
   "execution_count": 4,
   "metadata": {},
   "outputs": [
    {
     "ename": "KeyError",
     "evalue": "\"['swapCost'] not in index\"",
     "output_type": "error",
     "traceback": [
      "\u001b[0;31m---------------------------------------------------------------------------\u001b[0m",
      "\u001b[0;31mKeyError\u001b[0m                                  Traceback (most recent call last)",
      "Cell \u001b[0;32mIn[4], line 1\u001b[0m\n\u001b[0;32m----> 1\u001b[0m px\u001b[38;5;241m.\u001b[39mline(\u001b[43mamounts_with_spot_values\u001b[49m\u001b[43m[\u001b[49m\u001b[43m[\u001b[49m\u001b[38;5;124;43m\"\u001b[39;49m\u001b[38;5;124;43mswapCost\u001b[39;49m\u001b[38;5;124;43m\"\u001b[39;49m\u001b[43m,\u001b[49m\u001b[43m \u001b[49m\u001b[38;5;124;43m\"\u001b[39;49m\u001b[38;5;124;43mspot_value_swap_cost\u001b[39;49m\u001b[38;5;124;43m\"\u001b[39;49m\u001b[43m]\u001b[49m\u001b[43m]\u001b[49m\u001b[38;5;241m.\u001b[39mcumsum())\n",
      "File \u001b[0;32m~/Documents/Tokemak/v2-rebalance-dashboard/.venv/lib/python3.10/site-packages/pandas/core/frame.py:4108\u001b[0m, in \u001b[0;36mDataFrame.__getitem__\u001b[0;34m(self, key)\u001b[0m\n\u001b[1;32m   4106\u001b[0m     \u001b[38;5;28;01mif\u001b[39;00m is_iterator(key):\n\u001b[1;32m   4107\u001b[0m         key \u001b[38;5;241m=\u001b[39m \u001b[38;5;28mlist\u001b[39m(key)\n\u001b[0;32m-> 4108\u001b[0m     indexer \u001b[38;5;241m=\u001b[39m \u001b[38;5;28;43mself\u001b[39;49m\u001b[38;5;241;43m.\u001b[39;49m\u001b[43mcolumns\u001b[49m\u001b[38;5;241;43m.\u001b[39;49m\u001b[43m_get_indexer_strict\u001b[49m\u001b[43m(\u001b[49m\u001b[43mkey\u001b[49m\u001b[43m,\u001b[49m\u001b[43m \u001b[49m\u001b[38;5;124;43m\"\u001b[39;49m\u001b[38;5;124;43mcolumns\u001b[39;49m\u001b[38;5;124;43m\"\u001b[39;49m\u001b[43m)\u001b[49m[\u001b[38;5;241m1\u001b[39m]\n\u001b[1;32m   4110\u001b[0m \u001b[38;5;66;03m# take() does not accept boolean indexers\u001b[39;00m\n\u001b[1;32m   4111\u001b[0m \u001b[38;5;28;01mif\u001b[39;00m \u001b[38;5;28mgetattr\u001b[39m(indexer, \u001b[38;5;124m\"\u001b[39m\u001b[38;5;124mdtype\u001b[39m\u001b[38;5;124m\"\u001b[39m, \u001b[38;5;28;01mNone\u001b[39;00m) \u001b[38;5;241m==\u001b[39m \u001b[38;5;28mbool\u001b[39m:\n",
      "File \u001b[0;32m~/Documents/Tokemak/v2-rebalance-dashboard/.venv/lib/python3.10/site-packages/pandas/core/indexes/base.py:6200\u001b[0m, in \u001b[0;36mIndex._get_indexer_strict\u001b[0;34m(self, key, axis_name)\u001b[0m\n\u001b[1;32m   6197\u001b[0m \u001b[38;5;28;01melse\u001b[39;00m:\n\u001b[1;32m   6198\u001b[0m     keyarr, indexer, new_indexer \u001b[38;5;241m=\u001b[39m \u001b[38;5;28mself\u001b[39m\u001b[38;5;241m.\u001b[39m_reindex_non_unique(keyarr)\n\u001b[0;32m-> 6200\u001b[0m \u001b[38;5;28;43mself\u001b[39;49m\u001b[38;5;241;43m.\u001b[39;49m\u001b[43m_raise_if_missing\u001b[49m\u001b[43m(\u001b[49m\u001b[43mkeyarr\u001b[49m\u001b[43m,\u001b[49m\u001b[43m \u001b[49m\u001b[43mindexer\u001b[49m\u001b[43m,\u001b[49m\u001b[43m \u001b[49m\u001b[43maxis_name\u001b[49m\u001b[43m)\u001b[49m\n\u001b[1;32m   6202\u001b[0m keyarr \u001b[38;5;241m=\u001b[39m \u001b[38;5;28mself\u001b[39m\u001b[38;5;241m.\u001b[39mtake(indexer)\n\u001b[1;32m   6203\u001b[0m \u001b[38;5;28;01mif\u001b[39;00m \u001b[38;5;28misinstance\u001b[39m(key, Index):\n\u001b[1;32m   6204\u001b[0m     \u001b[38;5;66;03m# GH 42790 - Preserve name from an Index\u001b[39;00m\n",
      "File \u001b[0;32m~/Documents/Tokemak/v2-rebalance-dashboard/.venv/lib/python3.10/site-packages/pandas/core/indexes/base.py:6252\u001b[0m, in \u001b[0;36mIndex._raise_if_missing\u001b[0;34m(self, key, indexer, axis_name)\u001b[0m\n\u001b[1;32m   6249\u001b[0m     \u001b[38;5;28;01mraise\u001b[39;00m \u001b[38;5;167;01mKeyError\u001b[39;00m(\u001b[38;5;124mf\u001b[39m\u001b[38;5;124m\"\u001b[39m\u001b[38;5;124mNone of [\u001b[39m\u001b[38;5;132;01m{\u001b[39;00mkey\u001b[38;5;132;01m}\u001b[39;00m\u001b[38;5;124m] are in the [\u001b[39m\u001b[38;5;132;01m{\u001b[39;00maxis_name\u001b[38;5;132;01m}\u001b[39;00m\u001b[38;5;124m]\u001b[39m\u001b[38;5;124m\"\u001b[39m)\n\u001b[1;32m   6251\u001b[0m not_found \u001b[38;5;241m=\u001b[39m \u001b[38;5;28mlist\u001b[39m(ensure_index(key)[missing_mask\u001b[38;5;241m.\u001b[39mnonzero()[\u001b[38;5;241m0\u001b[39m]]\u001b[38;5;241m.\u001b[39munique())\n\u001b[0;32m-> 6252\u001b[0m \u001b[38;5;28;01mraise\u001b[39;00m \u001b[38;5;167;01mKeyError\u001b[39;00m(\u001b[38;5;124mf\u001b[39m\u001b[38;5;124m\"\u001b[39m\u001b[38;5;132;01m{\u001b[39;00mnot_found\u001b[38;5;132;01m}\u001b[39;00m\u001b[38;5;124m not in index\u001b[39m\u001b[38;5;124m\"\u001b[39m)\n",
      "\u001b[0;31mKeyError\u001b[0m: \"['swapCost'] not in index\""
     ]
    }
   ],
   "source": [
    "px.line(amounts_with_spot_values[[\"swapCost\", \"spot_value_swap_cost\"]].cumsum())"
   ]
  },
  {
   "cell_type": "code",
   "execution_count": null,
   "metadata": {},
   "outputs": [],
   "source": []
  },
  {
   "cell_type": "code",
   "execution_count": null,
   "metadata": {},
   "outputs": [],
   "source": []
  },
  {
   "cell_type": "code",
   "execution_count": null,
   "metadata": {},
   "outputs": [],
   "source": []
  },
  {
   "cell_type": "code",
   "execution_count": null,
   "metadata": {},
   "outputs": [],
   "source": [
    "break"
   ]
  },
  {
   "cell_type": "code",
   "execution_count": null,
   "metadata": {},
   "outputs": [],
   "source": [
    "amounts_with_spot_values.columns"
   ]
  },
  {
   "cell_type": "code",
   "execution_count": null,
   "metadata": {},
   "outputs": [],
   "source": [
    "rebalances_we_can_compute_swap_costs_for = rebalance_between_destinations_df[\n",
    "    rebalance_between_destinations_df[\"hash\"].isin(valid_underlying_deposited_df[\"hash\"])\n",
    "].copy()\n",
    "\n",
    "rebalances_we_can_compute_swap_costs_for[[\"outDestinationVault\", \"hash\", \"amountOut\"]]"
   ]
  },
  {
   "cell_type": "code",
   "execution_count": null,
   "metadata": {},
   "outputs": [],
   "source": [
    "114 -"
   ]
  },
  {
   "cell_type": "code",
   "execution_count": null,
   "metadata": {},
   "outputs": [],
   "source": [
    "valid_underlying_deposited_df"
   ]
  },
  {
   "cell_type": "code",
   "execution_count": null,
   "metadata": {},
   "outputs": [],
   "source": [
    "valid_underlying_deposited_df[\"amount\"]"
   ]
  },
  {
   "cell_type": "code",
   "execution_count": null,
   "metadata": {},
   "outputs": [],
   "source": [
    "valid_underlying_deposited_df[\"contract_address\"].value_counts()"
   ]
  },
  {
   "cell_type": "code",
   "execution_count": null,
   "metadata": {},
   "outputs": [],
   "source": [
    "hashes_to_exclude = (\n",
    "    UnderlyingDeposited_df[\"hash\"].value_counts()[UnderlyingDeposited_df[\"hash\"].value_counts() > 1].index\n",
    ")\n",
    "# sunseting destiantions throws the math off and has 0 slippage anyway\n",
    "hashes_to_exclude"
   ]
  },
  {
   "cell_type": "code",
   "execution_count": null,
   "metadata": {},
   "outputs": [],
   "source": [
    "# 0x084dfee5800acd5bda5e48485e68e87c015fca770376eeef36405654a184e005    2\n",
    "# 0xbe9e2919f268121cc55f8466e7af702b6c0dd312134ee746e4600878e79efe9b    2\n",
    "# 0xa9b7e57b8202064b6fd48accbcfea54cb08fbb362638aa47681203c5daf7b722    2\n",
    "UnderlyingDeposited_df[\n",
    "    UnderlyingDeposited_df[\"hash\"] == \"0xbe9e2919f268121cc55f8466e7af702b6c0dd312134ee746e4600878e79efe9b\"\n",
    "]"
   ]
  },
  {
   "cell_type": "code",
   "execution_count": null,
   "metadata": {},
   "outputs": [],
   "source": [
    "UnderlyingWithdraw_df[\n",
    "    UnderlyingWithdraw_df[\"hash\"] == \"0xbe9e2919f268121cc55f8466e7af702b6c0dd312134ee746e4600878e79efe9b\"\n",
    "]"
   ]
  },
  {
   "cell_type": "code",
   "execution_count": null,
   "metadata": {},
   "outputs": [],
   "source": [
    "rebalance_between_destinations_df.columns"
   ]
  },
  {
   "cell_type": "code",
   "execution_count": null,
   "metadata": {},
   "outputs": [],
   "source": [
    "cols = [\"hash\", \"amountOut\", \"outDestinationVault\"]\n",
    "# 0xE800e3760FC20aA98c5df6A9816147f190455AF3 == autoLRT vault, all WETH\n",
    "rebalance_between_destinations_df[cols][\"outDestinationVault\"].value_counts()"
   ]
  },
  {
   "cell_type": "code",
   "execution_count": null,
   "metadata": {},
   "outputs": [],
   "source": [
    "UnderlyingDeposited_df[\"hash\"].value_counts()"
   ]
  },
  {
   "cell_type": "code",
   "execution_count": null,
   "metadata": {},
   "outputs": [],
   "source": []
  },
  {
   "cell_type": "code",
   "execution_count": null,
   "metadata": {},
   "outputs": [],
   "source": [
    "# amount"
   ]
  },
  {
   "cell_type": "code",
   "execution_count": null,
   "metadata": {},
   "outputs": [],
   "source": [
    "rebalance_between_destinations_df[\"hash\"].value_counts()"
   ]
  },
  {
   "cell_type": "code",
   "execution_count": null,
   "metadata": {},
   "outputs": [],
   "source": [
    "RebalanceBetweenDestinations, RebalanceToIdle, SuccessfulRebalanceBetweenDestinations = dfs\n",
    "RebalanceBetweenDestinations.shape, RebalanceToIdle.shape, SuccessfulRebalanceBetweenDestinations.shape"
   ]
  },
  {
   "cell_type": "code",
   "execution_count": null,
   "metadata": {},
   "outputs": [],
   "source": [
    "RebalanceToIdle[\"tokenIn\"] = RebalanceToIdle[\"params\"].apply(lambda x: eth_client.toChecksumAddress(x[1]))\n",
    "\n",
    "RebalanceToIdle[\"tokenOut\"] = RebalanceToIdle[\"params\"].apply(lambda x: eth_client.toChecksumAddress(x[4]))\n",
    "\n",
    "RebalanceToIdle[\"amountOut\"] = RebalanceToIdle[\"params\"].apply(\n",
    "    lambda x: x[5]\n",
    "    / 1e18  # the amout of lp tokens taken out is always correct, what we don't know is the amount of lp tokens going in\n",
    ")\n",
    "RebalanceToIdle"
   ]
  },
  {
   "cell_type": "code",
   "execution_count": null,
   "metadata": {},
   "outputs": [],
   "source": [
    "RebalanceToIdle[\"hash\"].values"
   ]
  },
  {
   "cell_type": "code",
   "execution_count": null,
   "metadata": {},
   "outputs": [],
   "source": [
    "RebalanceToIdle[\"hash\"].isin(RebalanceBetweenDestinations[\"hash\"])"
   ]
  },
  {
   "cell_type": "code",
   "execution_count": null,
   "metadata": {},
   "outputs": [],
   "source": [
    "SuccessfulRebalanceBetweenDestinations[\"hash\"].isin(RebalanceBetweenDestinations[\"hash\"])"
   ]
  },
  {
   "cell_type": "code",
   "execution_count": null,
   "metadata": {},
   "outputs": [],
   "source": [
    "0x084dfee5800acd5bda5e48485e68e87c015fca770376eeef36405654a184e005    2\n",
    "0xbe9e2919f268121cc55f8466e7af702b6c0dd312134ee746e4600878e79efe9b    2\n",
    "0xa9b7e57b8202064b6fd48accbcfea54cb08fbb362638aa47681203c5daf7b722    2\n",
    "UnderlyingDeposited_df[UnderlyingDeposited_df['hash'] == '0xbe9e2919f268121cc55f8466e7af702b6c0dd312134ee746e4600878e79efe9b']"
   ]
  },
  {
   "cell_type": "code",
   "execution_count": null,
   "metadata": {},
   "outputs": [],
   "source": []
  },
  {
   "cell_type": "code",
   "execution_count": null,
   "metadata": {},
   "outputs": [],
   "source": [
    "UnderlyingDeposited_df[\n",
    "    UnderlyingDeposited_df[\"hash\"] == \"0xbe9e2919f268121cc55f8466e7af702b6c0dd312134ee746e4600878e79efe9b\"\n",
    "]"
   ]
  },
  {
   "cell_type": "code",
   "execution_count": null,
   "metadata": {},
   "outputs": [],
   "source": [
    "rebalance_between_destinations_df[\n",
    "    rebalance_between_destinations_df[\"hash\"] == \"0xbe9e2919f268121cc55f8466e7af702b6c0dd312134ee746e4600878e79efe9b\"\n",
    "]"
   ]
  },
  {
   "cell_type": "code",
   "execution_count": null,
   "metadata": {},
   "outputs": [],
   "source": [
    "UnderlyingDeposited_df[\"hash\"].value_counts()"
   ]
  },
  {
   "cell_type": "code",
   "execution_count": null,
   "metadata": {},
   "outputs": [],
   "source": [
    "def underlying_deposited_df_to_change(row):\n",
    "    return {\n",
    "        \"Destination\": row[\"contract_address\"],\n",
    "        \"lpTokenQuantity\": row[\"amount\"] / 1e18,\n",
    "        \"hash\": row[\"hash\"],\n",
    "        \"block\": int(row[\"block\"]),\n",
    "    }\n",
    "\n",
    "\n",
    "deposit_df = pd.DataFrame.from_records(UnderlyingDeposited_df.apply(underlying_deposited_df_to_change, axis=1).values)\n",
    "\n",
    "\n",
    "def underlying_withdrawn_df_to_change(row):\n",
    "    return {\n",
    "        \"Destination\": row[\"contract_address\"],\n",
    "        \"lpTokenQuantity\": -row[\"amount\"] / 1e18,\n",
    "        \"hash\": row[\"hash\"],\n",
    "        \"block\": int(row[\"block\"]),\n",
    "    }\n",
    "\n",
    "\n",
    "withdraw_df = pd.DataFrame.from_records(UnderlyingWithdraw_df.apply(underlying_withdrawn_df_to_change, axis=1).values)\n",
    "change_df = pd.concat([deposit_df, withdraw_df]).sort_values(\"block\")\n",
    "change_df"
   ]
  },
  {
   "cell_type": "code",
   "execution_count": null,
   "metadata": {},
   "outputs": [],
   "source": [
    "# AMOUNT_OUT IS THE QUANITY OF LP TOKENS THAT LEFT\n",
    "# WE JUST NEED THE DEPOSTED"
   ]
  },
  {
   "cell_type": "code",
   "execution_count": null,
   "metadata": {},
   "outputs": [],
   "source": [
    "df = pd.merge(change_df, validated_spot_price_df, on=\"block\")\n",
    "\n",
    "\n",
    "def _change_in_spot_value(row):\n",
    "    spot_price = row[row[\"Destination\"]]\n",
    "    change = spot_price * row[\"lpTokenQuantity\"]\n",
    "    return change\n",
    "\n",
    "\n",
    "df[\"spot_value_change\"] = df.apply(_change_in_spot_value, axis=1)\n",
    "\n",
    "a = df.groupby(\"hash\")[\"spot_value_change\"].apply(list)\n",
    "\n",
    "between_destination_hashes = a[a.apply(len) == 2].index\n",
    "from_idle_hashes = a[a.apply(len) == 1].index"
   ]
  },
  {
   "cell_type": "code",
   "execution_count": null,
   "metadata": {},
   "outputs": [],
   "source": [
    "amounts_and_quantities = pd.merge(\n",
    "    withdraw_df[[\"hash\", \"lpTokenQuantity\"]], rebalance_between_destinations_df[[\"amountOut\", \"hash\"]], on=\"hash\"\n",
    ")\n",
    "amounts_and_quantities[amounts_and_quantities[\"hash\"].isin(between_destination_hashes)]"
   ]
  },
  {
   "cell_type": "code",
   "execution_count": null,
   "metadata": {},
   "outputs": [],
   "source": [
    "amounts_and_quantities = pd.merge(\n",
    "    df[[\"hash\", \"lpTokenQuantity\"]], rebalance_between_destinations_df[[\"amountOut\", \"hash\"]], on=\"hash\"\n",
    ")\n",
    "amounts_and_quantities[amounts_and_quantities[\"hash\"].isin(from_idle_hashes)]"
   ]
  },
  {
   "cell_type": "code",
   "execution_count": null,
   "metadata": {},
   "outputs": [],
   "source": [
    "rebalance_between_destinations_df[[\"amountOut\", \"hash\"]]"
   ]
  },
  {
   "cell_type": "code",
   "execution_count": null,
   "metadata": {},
   "outputs": [],
   "source": [
    "rebalance_between_destinations_df[rebalance_between_destinations_df[\"hash\"].isin(between_destination_hashes)][\n",
    "    [\"outDestinationVault\", \"inDestinationVault\"]\n",
    "].value_counts()"
   ]
  },
  {
   "cell_type": "code",
   "execution_count": null,
   "metadata": {},
   "outputs": [],
   "source": [
    "df.groupby(\"hash\")[\"spot_value_change\"].apply(len) == 2"
   ]
  },
  {
   "cell_type": "code",
   "execution_count": null,
   "metadata": {},
   "outputs": [],
   "source": [
    "UnderlyingWithdraw_df"
   ]
  },
  {
   "cell_type": "code",
   "execution_count": null,
   "metadata": {},
   "outputs": [],
   "source": [
    "# UnderlyingDeposited_df[\"amountDeposited\"] = UnderlyingDeposited_df[\"amount\"] / 1e18\n",
    "# UnderlyingWithdraw_df[\"amountWithdraw\"] = UnderlyingWithdraw_df[\"amount\"] / 1e18\n",
    "\n",
    "# df = pd.merge(rebalance_between_destinations_df, UnderlyingDeposited_df[['hash', 'amountDeposited']], how='left', on='hash')\n",
    "# df = pd.merge(df, UnderlyingWithdraw_df[['hash', 'amountWithdraw']], how='left', on='hash')\n",
    "# cols = ['hash', 'amountWithdraw', 'amountDeposited', 'amountOut', 'tokenIn', 'tokenOut']"
   ]
  },
  {
   "cell_type": "code",
   "execution_count": null,
   "metadata": {},
   "outputs": [],
   "source": [
    "# df['hash'].value_counts() # exclude the funny ones, with destinations getting added or withdrawn"
   ]
  },
  {
   "cell_type": "code",
   "execution_count": null,
   "metadata": {},
   "outputs": [],
   "source": [
    "df[df[\"hash\"] == \"0x084dfee5800acd5bda5e48485e68e87c015fca770376eeef36405654a184e005\"][cols]"
   ]
  },
  {
   "cell_type": "code",
   "execution_count": null,
   "metadata": {},
   "outputs": [],
   "source": [
    "UnderlyingDeposited_df[\n",
    "    UnderlyingDeposited_df[\"hash\"] == \"0x084dfee5800acd5bda5e48485e68e87c015fca770376eeef36405654a184e005\"\n",
    "]"
   ]
  },
  {
   "cell_type": "code",
   "execution_count": null,
   "metadata": {},
   "outputs": [],
   "source": [
    "UnderlyingWithdraw_df[\n",
    "    UnderlyingWithdraw_df[\"hash\"] == \"0x084dfee5800acd5bda5e48485e68e87c015fca770376eeef36405654a184e005\"\n",
    "]"
   ]
  },
  {
   "cell_type": "code",
   "execution_count": null,
   "metadata": {},
   "outputs": [],
   "source": []
  },
  {
   "cell_type": "code",
   "execution_count": null,
   "metadata": {},
   "outputs": [],
   "source": [
    "df2 = df.dropna()\n",
    "df2"
   ]
  },
  {
   "cell_type": "code",
   "execution_count": null,
   "metadata": {},
   "outputs": [],
   "source": [
    "WETH = \"0xC02aaA39b223FE8D0A0e5C4F27eAD9083C756Cc2\"\n",
    "#  emit UnderlyingDeposited(amount, msg.sender);"
   ]
  },
  {
   "cell_type": "code",
   "execution_count": null,
   "metadata": {},
   "outputs": [],
   "source": [
    "rebalance_between_destinations_df[[\"tokenIn\", \"tokenOut\", \"amountOut\", \"destinationIn\"]]"
   ]
  },
  {
   "cell_type": "code",
   "execution_count": null,
   "metadata": {},
   "outputs": [],
   "source": [
    "rebalance_between_destinations_df[\"hash\"].values"
   ]
  },
  {
   "cell_type": "code",
   "execution_count": null,
   "metadata": {},
   "outputs": [],
   "source": [
    "first_out = \"0xE800e3760FC20aA98c5df6A9816147f190455AF3\"\n",
    "first_in = \"0x777FAf85c8E5FC6f4332E56B989C5C94201A273C\"\n",
    "balance_of_undelrying_debt_before[[first_in, first_out]]\n",
    "# I can't check the balances before or after"
   ]
  },
  {
   "cell_type": "code",
   "execution_count": null,
   "metadata": {},
   "outputs": [],
   "source": []
  },
  {
   "cell_type": "code",
   "execution_count": null,
   "metadata": {},
   "outputs": [],
   "source": [
    "balance_of_undelrying_debt_before[[first_in, first_out]]"
   ]
  },
  {
   "cell_type": "code",
   "execution_count": null,
   "metadata": {},
   "outputs": [],
   "source": [
    "balance_of_undelrying_debt_after[[first_in, first_out]]"
   ]
  },
  {
   "cell_type": "code",
   "execution_count": null,
   "metadata": {},
   "outputs": [],
   "source": [
    "rebalance_between_destinations_df"
   ]
  },
  {
   "cell_type": "code",
   "execution_count": null,
   "metadata": {},
   "outputs": [],
   "source": [
    "rebalance_between_destinations_df"
   ]
  },
  {
   "cell_type": "code",
   "execution_count": null,
   "metadata": {},
   "outputs": [],
   "source": [
    "validated_spot_price_df"
   ]
  },
  {
   "cell_type": "code",
   "execution_count": null,
   "metadata": {},
   "outputs": [],
   "source": [
    "# from mainnet_launch.autopool_diagnostics.compute_rebalance_cost import (\n",
    "#     compute_daily_rebalance_costs,\n",
    "#     AUTO_LRT, BAL_ETH, AUTO_ETH,\n",
    "#     AutopoolConstants,\n",
    "# )\n",
    "# import pandas as pd\n",
    "# import plotly.express as px\n",
    "\n",
    "\n",
    "# # # return RebalanceValueStats({\n",
    "# # #     inPrice: inPrice,\n",
    "# # #     outPrice: outPrice,\n",
    "# # #     inEthValue: inEthValue,\n",
    "# # #     outEthValue: outEthValue,\n",
    "# # #     swapCost: swapCost,\n",
    "# # #     slippage: slippage\n",
    "# # # });\n",
    "\n",
    "\n",
    "# # /// @param destinationIn The address / lp token of the destination vault that will increase\n",
    "# # /// @param tokenIn The address of the underlyer token that will be provided by the swapper\n",
    "# # /// @param amountIn The amount of the underlying LP tokens that will be received\n",
    "# # /// @param destinationOut The address of the destination vault that will decrease\n",
    "# # /// @param tokenOut The address of the underlyer token that will be received by the swapper\n",
    "# # /// @param amountOut The amount of the tokenOut that will be received by the swapper\n",
    "# # struct RebalanceParams {\n",
    "# #     address destinationIn;\n",
    "# #     address tokenIn;\n",
    "# #     uint256 amountIn;\n",
    "# #     address destinationOut;\n",
    "# #     address tokenOut;\n",
    "# #     uint256 amountOut;\n",
    "# # }\n",
    "# autopool = AUTO_ETH\n",
    "# a, b = compute_daily_rebalance_costs(autopool)"
   ]
  },
  {
   "cell_type": "code",
   "execution_count": null,
   "metadata": {},
   "outputs": [],
   "source": [
    "autopool = AUTO_ETH"
   ]
  },
  {
   "cell_type": "code",
   "execution_count": null,
   "metadata": {},
   "outputs": [],
   "source": [
    "import plotly.io as pio\n",
    "from mainnet_launch.destinations import get_destination_details, ALL_AUTOPOOLS\n",
    "\n",
    "pio.templates.default = None\n",
    "rebalance_from_idle, transfer_events_df, validated_spot_price_df = b\n",
    "rebalance_between_destinations, transfer_events_df, validated_spot_price_df = a"
   ]
  },
  {
   "cell_type": "code",
   "execution_count": null,
   "metadata": {},
   "outputs": [],
   "source": []
  },
  {
   "cell_type": "code",
   "execution_count": null,
   "metadata": {},
   "outputs": [],
   "source": [
    "desination_vault_addresses = [d.vaultAddress for d in get_destination_details() if d.autopool == autopool]\n",
    "desination_vault_addresses"
   ]
  },
  {
   "cell_type": "code",
   "execution_count": null,
   "metadata": {},
   "outputs": [],
   "source": [
    "def _get_limited_transfers(\n",
    "    autopool: AutopoolConstants, transfer_events_df: pd.DataFrame, rebalance_df: pd.DataFrame\n",
    ") -> pd.DataFrame:\n",
    "    desination_vault_addresses = [d.vaultAddress for d in get_destination_details() if d.autopool == autopool]\n",
    "    sender_or_receiver_is_destination_vault = (transfer_events_df[\"to\"].isin(desination_vault_addresses)) | (\n",
    "        transfer_events_df[\"from\"].isin(desination_vault_addresses)\n",
    "    )\n",
    "    destination_lp_token_addresses = [d.vaultAddress for d in get_destination_details() if d.autopool == autopool]\n",
    "    sent_token_is_lp_token_avaiable_to_autopool = transfer_events_df[\"token_address\"].isin(\n",
    "        destination_lp_token_addresses\n",
    "    )\n",
    "\n",
    "    tx_hash_in_rebalance_df_hash = transfer_events_df[\"hash\"].isin(rebalance_df[\"hash\"])\n",
    "\n",
    "    limited_transfers = (\n",
    "        transfer_events_df[\n",
    "            sender_or_receiver_is_destination_vault\n",
    "            & sent_token_is_lp_token_avaiable_to_autopool\n",
    "            & tx_hash_in_rebalance_df_hash\n",
    "        ]\n",
    "        .copy()\n",
    "        .reset_index()\n",
    "    )\n",
    "\n",
    "    return limited_transfers\n",
    "\n",
    "\n",
    "limited_transfers = _get_limited_transfers(autopool, transfer_events_df, rebalance_between_destinations)\n",
    "limited_transfers[\"hash\"].value_counts()"
   ]
  },
  {
   "cell_type": "code",
   "execution_count": null,
   "metadata": {},
   "outputs": [],
   "source": [
    "# def compute_swap_cost_when_rebalance_from_idle(\n",
    "#     rebalance_from_idle_df: pd.DataFrame, autopool: AutopoolConstants, transfer_events_df: pd.DataFrame, validated_spot_price_df:pd.DataFrame\n",
    "# ) -> pd.DataFrame:\n",
    "#     # out means decrease\n",
    "#     # in means increase\n",
    "#     if (rebalance_from_idle_df[\"outDestinationVault\"] != autopool.autopool_eth_addr).any():\n",
    "#         raise ValueError(\n",
    "#             \"trying to compute rebalance cost on rebalance_from_idle_df when the outDestinationVault != autopool \"\n",
    "#         )\n",
    "\n",
    "\n",
    "#     #\n",
    "\n",
    "#     transfers_to_vaults = (\n",
    "#         transfers_to_or_from_autopool_destinations[\n",
    "#             (transfer_events_df[\"hash\"].isin(rebalance_from_idle_df[\"hash\"]))\n",
    "#             & (transfer_events_df[\"to\"].isin(rebalance_from_idle_df[\"inDestinationVault\"]))\n",
    "#         ]\n",
    "\n",
    "#         .drop_duplicates()\n",
    "#         .copy()\n",
    "#     )\n",
    "\n",
    "#     rebalance_from_idle_with_lp_tokens_in = pd.merge(\n",
    "#         rebalance_from_idle_df, transfers_to_vaults[[\"value\", \"hash\"]], on=\"hash\"\n",
    "#     )\n",
    "\n",
    "#     rebalance_from_idle_with_lp_tokens_in[\"lp_tokens_added_to_vault\"] = (\n",
    "#         rebalance_from_idle_with_lp_tokens_in[\"value\"]/ 1e18\n",
    "#     )\n",
    "\n",
    "#     validated_spot_price_df[\"block_with_rebalance\"] = ( validated_spot_price_df[\"block\"] + 1)\n",
    "\n",
    "#     rebalance_from_idle_df = pd.merge(\n",
    "#         validated_spot_price_df,\n",
    "#         rebalance_from_idle_with_lp_tokens_in,\n",
    "#         right_on=\"block\",\n",
    "#         left_on=\"block_with_rebalance\",\n",
    "#     )\n",
    "\n",
    "#     def _compute_spot_value_added_to_vault(row:dict) -> float:\n",
    "#         return row['lp_tokens_added_to_vault'] * row[row['inDestinationVault']] # the pool itsel\n",
    "\n",
    "#     rebalance_from_idle_df['validated_spot_value_of_lp_tokens_added_to_autopool'] = rebalance_from_idle_df.apply(_compute_spot_value_added_to_vault, axis=1)\n",
    "#     # because we are exiting idle, the value out is in WETH so the spot value is always 1\n",
    "#     rebalance_from_idle_df['validated_spot_value_of_lp_tokens_removed_from_autopool'] = rebalance_from_idle_df[\"params_amountOut\"]\n",
    "#     rebalance_from_idle_df['validated_spot_value_of_swap_cost'] = rebalance_from_idle_df['validated_spot_value_of_lp_tokens_removed_from_autopool'] -  rebalance_from_idle_df['validated_spot_value_of_lp_tokens_added_to_autopool']\n",
    "\n",
    "#     rebalance_from_idle_df['validated_spot_value_of_swap_cost'] = rebalance_from_idle_df['validated_spot_value_of_swap_cost'].clip(lower=0)\n",
    "\n",
    "#     rebalance_from_idle_df['swap_cost_from_event'] = rebalance_from_idle_df['valueStats'].apply(lambda x: float(x[4]) /1e18)\n",
    "\n",
    "#     # not sure what do to with the swap cost\n",
    "#     rebalance_from_idle_df.index = validated_spot_price_df.index\n",
    "#     cumulative_daily_validated_swap_cost =  rebalance_from_idle_df[['validated_spot_value_of_swap_cost']].resample(\"1D\").sum().cumsum()\n",
    "#     return cumulative_daily_validated_swap_cost\n",
    "\n",
    "# rebalance_events_df, transfer_events_df, validated_spot_price_df = b\n",
    "# cumulative_daily_validated_swap_cost = compute_swap_cost_when_rebalance_from_idle(\n",
    "#     rebalance_events_df.copy(), AUTO_ETH, transfer_events_df, validated_spot_price_df\n",
    "# )\n",
    "\n",
    "# cumulative_daily_validated_swap_cost"
   ]
  },
  {
   "cell_type": "code",
   "execution_count": null,
   "metadata": {},
   "outputs": [],
   "source": []
  },
  {
   "cell_type": "code",
   "execution_count": null,
   "metadata": {},
   "outputs": [],
   "source": []
  },
  {
   "cell_type": "code",
   "execution_count": null,
   "metadata": {},
   "outputs": [],
   "source": [
    "# rebalance_between_destinations_df, transfer_events_df, validated_spot_price_df = a\n",
    "\n",
    "# def _extract_relevent_transfers(autopool: AutopoolConstants, transfer_events_df: pd.DataFrame, rebalance_between_destinations_df:pd.DataFrame):\n",
    "\n",
    "#     valid_destinations = [d.vaultAddress for d in get_destination_details() if d.autopool == autopool]\n",
    "#     valid_transfer_events = transfer_events_df[(transfer_events_df['to'].str.lower().isin(valid_destinations)) | (transfer_events_df['from'].str.lower().isin(valid_destinations))]\n",
    "\n",
    "#     to_indest = (\n",
    "#         transfer_events_df[\n",
    "#             (transfer_events_df[\"hash\"].isin(rebalance_between_destinations_df[\"hash\"]))\n",
    "#             & (transfer_events_df[\"to\"].isin(valid_destinations))\n",
    "#         ]\n",
    "#         .drop_duplicates()\n",
    "#         .copy()\n",
    "#     )\n",
    "\n",
    "#     to_outdest = (\n",
    "#         transfer_events_df[\n",
    "#             (transfer_events_df[\"hash\"].isin(rebalance_between_destinations_df[\"hash\"]))\n",
    "#             & (transfer_events_df[\"to\"].isin(valid_destinations))\n",
    "#         ]\n",
    "\n",
    "#         .drop_duplicates()\n",
    "#         .copy()\n",
    "#     )\n",
    "\n",
    "\n",
    "#     from_indest = (\n",
    "#         transfer_events_df[\n",
    "#             (transfer_events_df[\"hash\"].isin(rebalance_between_destinations_df[\"hash\"]))\n",
    "#             & (transfer_events_df[\"from\"].isin(valid_destinations))\n",
    "#         ]\n",
    "#         .drop_duplicates()\n",
    "#         .copy()\n",
    "#     )\n",
    "\n",
    "#     from_outdest = (\n",
    "#         transfer_events_df[\n",
    "#             (transfer_events_df[\"hash\"].isin(rebalance_between_destinations_df[\"hash\"]))\n",
    "#             & (transfer_events_df[\"from\"].isin(valid_destinations))\n",
    "#         ]\n",
    "\n",
    "#         .drop_duplicates()\n",
    "#         .copy()\n",
    "#     )\n",
    "\n",
    "\n",
    "#     return to_indest, to_outdest, from_indest, from_outdest\n",
    "\n",
    "# to_indest, to_outdest, from_indest, from_outdest = _extract_relevent_transfers(AUTO_ETH, transfer_events_df, rebalance_between_destinations_df)\n",
    "# to_indest.shape, to_outdest.shape, from_indest.shape, from_indest.shape,"
   ]
  },
  {
   "cell_type": "code",
   "execution_count": null,
   "metadata": {},
   "outputs": [],
   "source": [
    "between_with_from_indest = pd.merge(rebalance_between_destinations_df, from_indest[[\"value\", \"hash\"]], on=\"hash\")\n",
    "\n",
    "between_with_from_indest[\"hash\"].value_counts()"
   ]
  },
  {
   "cell_type": "code",
   "execution_count": null,
   "metadata": {},
   "outputs": [],
   "source": []
  },
  {
   "cell_type": "code",
   "execution_count": null,
   "metadata": {},
   "outputs": [],
   "source": []
  },
  {
   "cell_type": "code",
   "execution_count": null,
   "metadata": {},
   "outputs": [],
   "source": [
    "rebalance_between_destinations_df[\n",
    "    rebalance_between_destinations_df[\"hash\"] == \"0x5a088e71e51c5b8c05db282989f21975d14e44d9c615aa00e451a68dcbebd0dc\"\n",
    "]"
   ]
  },
  {
   "cell_type": "code",
   "execution_count": null,
   "metadata": {},
   "outputs": [],
   "source": [
    "# 0x5a088e71e51c5b8c05db282989f21975d14e44d9c615aa00e451a68dcbebd0dc rebalances more than one block"
   ]
  },
  {
   "cell_type": "code",
   "execution_count": null,
   "metadata": {},
   "outputs": [],
   "source": [
    "transfers_from_vaults[\n",
    "    transfers_from_vaults[\"hash\"] == \"0x5a088e71e51c5b8c05db282989f21975d14e44d9c615aa00e451a68dcbebd0dc\"\n",
    "]"
   ]
  },
  {
   "cell_type": "code",
   "execution_count": null,
   "metadata": {},
   "outputs": [],
   "source": []
  },
  {
   "cell_type": "code",
   "execution_count": null,
   "metadata": {},
   "outputs": [],
   "source": [
    "transfers_from_vaults[\"hash\"].value_counts()"
   ]
  },
  {
   "cell_type": "code",
   "execution_count": null,
   "metadata": {},
   "outputs": [],
   "source": [
    "# # def compute_swap_cost_when_rebalancing_between_destinations(\n",
    "# #     rebalance_not_from_idle_df: pd.DataFrame, autopool: AutopoolConstants, transfer_events_df: pd.DataFrame, validated_spot_price_df:pd.DataFrame\n",
    "# # ) -> pd.DataFrame:\n",
    "# #     # out means decrease\n",
    "# #     # in means increase\n",
    "# #     if (rebalance_not_from_idle_df[\"outDestinationVault\"] == autopool.autopool_eth_addr).any():\n",
    "# #         raise ValueError(\n",
    "# #             \"trying to compute_swap_cost_when_rebalancing_between_destinations when the outDestinationVault == autopool eg, exiting the autopool \"\n",
    "# #         )\n",
    "\n",
    "\n",
    "# #     limited_transfer_df = (\n",
    "# #         transfer_events_df[\n",
    "# #             (transfer_events_df[\"hash\"].isin(rebalance_not_from_idle_df[\"hash\"]))\n",
    "# #         ]\n",
    "\n",
    "# #         .drop_duplicates()\n",
    "# #         .copy()\n",
    "# #     )\n",
    "# #     return limited_transfer_df\n",
    "\n",
    "\n",
    "# #\n",
    "\n",
    "# # limited_transfer_df = compute_swap_cost_when_rebalancing_between_destinations(\n",
    "# #     rebalance_events_df.copy(), AUTO_ETH, transfer_events_df, validated_spot_price_df\n",
    "# # )\n",
    "\n",
    "# # transfers_to_vaults['to_value'] = transfers_to_vaults['value'] /1e18\n",
    "# # transfers_to_vaults['to_token'] = transfers_to_vaults['token_address']\n",
    "\n",
    "# # transfers_from_vaults['from_value'] = transfers_from_vaults['value'] /1e18\n",
    "# # transfers_from_vaults['from_token'] = transfers_from_vaults['token_address']\n",
    "\n",
    "# def build_lp_token_moved_df(row):\n",
    "\n",
    "#     return {\n",
    "#         'DesinationIncreased': row['to_token'],\n",
    "#         'DestinationDecreased': row['from_token'],\n",
    "#         'amountIncreased': row['to_value'],\n",
    "#         'amountDecreased': row['from_value'],\n",
    "#         'hash':row['hash'],\n",
    "#         'block': row['block']\n",
    "#     }\n",
    "\n",
    "# limited_transfer_df['hash'].value_counts()"
   ]
  },
  {
   "cell_type": "code",
   "execution_count": null,
   "metadata": {},
   "outputs": [],
   "source": [
    "rebalance_events_df"
   ]
  },
  {
   "cell_type": "code",
   "execution_count": null,
   "metadata": {},
   "outputs": [],
   "source": [
    "transfers_from_vaults"
   ]
  },
  {
   "cell_type": "code",
   "execution_count": null,
   "metadata": {},
   "outputs": [],
   "source": [
    "rebalance_events_df[\"inDestinationVault\"].value_counts()"
   ]
  },
  {
   "cell_type": "code",
   "execution_count": null,
   "metadata": {},
   "outputs": [],
   "source": [
    "rebalance_events_df[\"outDestinationVault\"].value_counts()"
   ]
  },
  {
   "cell_type": "code",
   "execution_count": null,
   "metadata": {},
   "outputs": [],
   "source": [
    "AUTO_ETH.autopool_eth_addr"
   ]
  },
  {
   "cell_type": "code",
   "execution_count": null,
   "metadata": {},
   "outputs": [],
   "source": [
    "rebalance_from_idle_df.sort_values(\"rebalance_cost\")[[\"hash\", \"rebalance_cost\"]].values[0]"
   ]
  },
  {
   "cell_type": "markdown",
   "metadata": {},
   "source": [
    "0xf06978787ae75d235cedd61c07b1e2a9037df86378f37a90eb683c87db8f98b2\n",
    "\n",
    "This rebalance, my math thinks that"
   ]
  },
  {
   "cell_type": "code",
   "execution_count": null,
   "metadata": {},
   "outputs": [],
   "source": [
    "rebalance_from_idle_df[\"valueStats_swap_cost\"] = rebalance_from_idle_df[\"valueStats\"].apply(lambda x: x[4] / 1e18)\n",
    "px.line(rebalance_from_idle_df[[\"rebalance_cost\", \"valueStats_swap_cost\"]])"
   ]
  },
  {
   "cell_type": "code",
   "execution_count": null,
   "metadata": {},
   "outputs": [],
   "source": []
  },
  {
   "cell_type": "code",
   "execution_count": null,
   "metadata": {},
   "outputs": [],
   "source": [
    "dest_to_dest = lp_token_transfer_df[(lp_token_transfer_df[\"hash\"] == tx_hash)].copy().drop_duplicates()\n",
    "dest_to_dest"
   ]
  },
  {
   "cell_type": "markdown",
   "metadata": {},
   "source": []
  },
  {
   "cell_type": "code",
   "execution_count": null,
   "metadata": {},
   "outputs": [],
   "source": [
    "# 165151197070039380229 expect outDestinationLpToken to be down"
   ]
  },
  {
   "cell_type": "markdown",
   "metadata": {},
   "source": [
    "today I am working more on fixing the overestimate the rebalancing cost on the dashboard. "
   ]
  },
  {
   "cell_type": "code",
   "execution_count": null,
   "metadata": {},
   "outputs": [],
   "source": [
    "# idle -> destination valueStats.amountOut == quantiy of eth that left\n",
    "#"
   ]
  },
  {
   "cell_type": "code",
   "execution_count": null,
   "metadata": {},
   "outputs": [],
   "source": [
    "rebalance_events_df.shape"
   ]
  },
  {
   "cell_type": "code",
   "execution_count": null,
   "metadata": {},
   "outputs": [],
   "source": []
  },
  {
   "cell_type": "code",
   "execution_count": null,
   "metadata": {},
   "outputs": [],
   "source": [
    "160795862717038788608 + 419684887152871954"
   ]
  },
  {
   "cell_type": "code",
   "execution_count": null,
   "metadata": {},
   "outputs": [],
   "source": [
    "dest_to_dest[dest_to_dest[\"token_address\"] == inDestinationVault]"
   ]
  },
  {
   "cell_type": "code",
   "execution_count": null,
   "metadata": {},
   "outputs": [],
   "source": [
    "dest_to_dest[dest_to_dest[\"token_address\"] == outDestinationVault]"
   ]
  },
  {
   "cell_type": "code",
   "execution_count": null,
   "metadata": {},
   "outputs": [],
   "source": [
    "dest_to_dest[dest_to_dest[\"to\"] == outDestinationVault]"
   ]
  },
  {
   "cell_type": "code",
   "execution_count": null,
   "metadata": {},
   "outputs": [],
   "source": [
    "dest_to_dest[dest_to_dest[\"from\"] == outDestinationVault]\n",
    "# destination vault -> flash borrow solver 0x067cB94576aBBDB3527055f3c8CaAAc9668364AD\n",
    "# is the quanikty t"
   ]
  },
  {
   "cell_type": "code",
   "execution_count": null,
   "metadata": {},
   "outputs": [],
   "source": [
    "dest_to_dest[\"to\"].value_counts()"
   ]
  },
  {
   "cell_type": "code",
   "execution_count": null,
   "metadata": {},
   "outputs": [],
   "source": [
    "rebalance_events_df.values[-1]  # 73804358107532979104"
   ]
  },
  {
   "cell_type": "code",
   "execution_count": null,
   "metadata": {},
   "outputs": [],
   "source": [
    "rebalance_events_df"
   ]
  },
  {
   "cell_type": "code",
   "execution_count": null,
   "metadata": {},
   "outputs": [],
   "source": []
  }
 ],
 "metadata": {
  "kernelspec": {
   "display_name": ".venv",
   "language": "python",
   "name": "python3"
  },
  "language_info": {
   "codemirror_mode": {
    "name": "ipython",
    "version": 3
   },
   "file_extension": ".py",
   "mimetype": "text/x-python",
   "name": "python",
   "nbconvert_exporter": "python",
   "pygments_lexer": "ipython3",
   "version": "3.10.14"
  }
 },
 "nbformat": 4,
 "nbformat_minor": 2
}
