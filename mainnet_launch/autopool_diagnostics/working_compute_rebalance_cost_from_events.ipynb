{
 "cells": [
  {
   "cell_type": "code",
   "execution_count": null,
   "metadata": {},
   "outputs": [
    {
     "name": "stderr",
     "output_type": "stream",
     "text": [
      "2024-11-13 21:17:15.284 WARNING streamlit.runtime.caching.cache_data_api: No runtime found, using MemoryCacheStorageManager\n",
      "2024-11-13 21:17:15.288 WARNING streamlit.runtime.caching.cache_data_api: No runtime found, using MemoryCacheStorageManager\n",
      "2024-11-13 21:17:15.292 WARNING streamlit.runtime.caching.cache_data_api: No runtime found, using MemoryCacheStorageManager\n",
      "2024-11-13 21:17:15.294 WARNING streamlit.runtime.caching.cache_data_api: No runtime found, using MemoryCacheStorageManager\n",
      "2024-11-13 21:17:15.296 WARNING streamlit.runtime.caching.cache_data_api: No runtime found, using MemoryCacheStorageManager\n",
      "2024-11-13 21:17:15.297 WARNING streamlit.runtime.caching.cache_data_api: No runtime found, using MemoryCacheStorageManager\n",
      "2024-11-13 21:17:15.299 WARNING streamlit.runtime.caching.cache_data_api: No runtime found, using MemoryCacheStorageManager\n",
      "2024-11-13 21:17:15.300 WARNING streamlit.runtime.caching.cache_data_api: No runtime found, using MemoryCacheStorageManager\n",
      "2024-11-13 21:17:17.041 WARNING streamlit.runtime.scriptrunner_utils.script_run_context: Thread 'MainThread': missing ScriptRunContext! This warning can be ignored when running in bare mode.\n",
      "2024-11-13 21:17:17.205 \n",
      "  \u001b[33m\u001b[1mWarning:\u001b[0m to view this Streamlit app on a browser, run it with the following\n",
      "  command:\n",
      "\n",
      "    streamlit run /home/parker/Documents/Tokemak/v2-rebalance-dashboard/.venv/lib/python3.10/site-packages/ipykernel_launcher.py [ARGUMENTS]\n",
      "2024-11-13 21:17:17.206 Thread 'MainThread': missing ScriptRunContext! This warning can be ignored when running in bare mode.\n",
      "2024-11-13 21:17:17.206 Thread 'MainThread': missing ScriptRunContext! This warning can be ignored when running in bare mode.\n",
      "2024-11-13 21:17:17.207 No runtime found, using MemoryCacheStorageManager\n",
      "2024-11-13 21:17:17.208 Thread 'MainThread': missing ScriptRunContext! This warning can be ignored when running in bare mode.\n",
      "2024-11-13 21:17:17.208 Thread 'MainThread': missing ScriptRunContext! This warning can be ignored when running in bare mode.\n",
      "2024-11-13 21:17:17.209 Thread 'MainThread': missing ScriptRunContext! This warning can be ignored when running in bare mode.\n",
      "2024-11-13 21:17:17.209 No runtime found, using MemoryCacheStorageManager\n",
      "2024-11-13 21:17:17.210 Thread 'MainThread': missing ScriptRunContext! This warning can be ignored when running in bare mode.\n",
      "2024-11-13 21:17:17.210 Thread 'MainThread': missing ScriptRunContext! This warning can be ignored when running in bare mode.\n",
      "2024-11-13 21:17:17.211 Thread 'MainThread': missing ScriptRunContext! This warning can be ignored when running in bare mode.\n",
      "2024-11-13 21:17:17.211 No runtime found, using MemoryCacheStorageManager\n",
      "2024-11-13 21:17:17.304 Thread 'MainThread': missing ScriptRunContext! This warning can be ignored when running in bare mode.\n",
      "2024-11-13 21:17:17.305 Thread 'MainThread': missing ScriptRunContext! This warning can be ignored when running in bare mode.\n",
      "2024-11-13 21:17:17.707 Thread 'Thread-4': missing ScriptRunContext! This warning can be ignored when running in bare mode.\n",
      "2024-11-13 21:17:17.712 Thread 'Thread-4': missing ScriptRunContext! This warning can be ignored when running in bare mode.\n",
      "2024-11-13 21:17:17.712 Thread 'Thread-5': missing ScriptRunContext! This warning can be ignored when running in bare mode.\n",
      "2024-11-13 21:17:17.724 Thread 'Thread-5': missing ScriptRunContext! This warning can be ignored when running in bare mode.\n",
      "2024-11-13 21:17:23.403 Thread 'MainThread': missing ScriptRunContext! This warning can be ignored when running in bare mode.\n",
      "2024-11-13 21:17:23.404 Thread 'MainThread': missing ScriptRunContext! This warning can be ignored when running in bare mode.\n",
      "2024-11-13 21:17:25.520 Thread 'MainThread': missing ScriptRunContext! This warning can be ignored when running in bare mode.\n",
      "2024-11-13 21:17:25.521 Thread 'MainThread': missing ScriptRunContext! This warning can be ignored when running in bare mode.\n",
      "2024-11-13 21:17:27.103 Thread 'MainThread': missing ScriptRunContext! This warning can be ignored when running in bare mode.\n",
      "2024-11-13 21:17:27.104 Thread 'MainThread': missing ScriptRunContext! This warning can be ignored when running in bare mode.\n",
      "2024-11-13 21:17:27.104 Thread 'MainThread': missing ScriptRunContext! This warning can be ignored when running in bare mode.\n",
      "2024-11-13 21:17:27.105 Thread 'MainThread': missing ScriptRunContext! This warning can be ignored when running in bare mode.\n",
      "2024-11-13 21:17:27.106 Thread 'MainThread': missing ScriptRunContext! This warning can be ignored when running in bare mode.\n",
      "2024-11-13 21:17:33.531 Thread 'MainThread': missing ScriptRunContext! This warning can be ignored when running in bare mode.\n",
      "2024-11-13 21:17:33.531 Thread 'MainThread': missing ScriptRunContext! This warning can be ignored when running in bare mode.\n",
      "2024-11-13 21:17:33.532 Thread 'MainThread': missing ScriptRunContext! This warning can be ignored when running in bare mode.\n",
      "2024-11-13 21:17:33.533 Thread 'MainThread': missing ScriptRunContext! This warning can be ignored when running in bare mode.\n",
      "2024-11-13 21:17:33.534 Thread 'MainThread': missing ScriptRunContext! This warning can be ignored when running in bare mode.\n"
     ]
    }
   ],
   "source": [
    "from mainnet_launch.autopool_diagnostics.compute_rebalance_cost import (\n",
    "    get_data,\n",
    "    AUTO_LRT,\n",
    "    BAL_ETH,\n",
    "    AUTO_ETH,\n",
    "    eth_client,\n",
    "    AutopoolConstants,\n",
    "    _fetch_all_rebalance_events\n",
    ")\n",
    "import pandas as pd\n",
    "import plotly.express as px\n",
    "\n",
    "import plotly.io as pio\n",
    "from mainnet_launch.destinations import get_destination_details, ALL_AUTOPOOLS\n",
    "\n",
    "pio.templates.default = None\n",
    "autopool = AUTO_LRT\n",
    "\n",
    "def make_actual_swap_cost_df(autopool) -> pd.DataFrame\n",
    "    rebalance_between_destinations_df, validated_spot_price_df, UnderlyingDeposited_df = get_data(autopool)\n",
    "\n",
    "    valid_deposit_hashes = UnderlyingDeposited_df['hash'].value_counts()[UnderlyingDeposited_df['hash'].value_counts() == 1].index\n",
    "    valid_underlying_deposited_df=UnderlyingDeposited_df[UnderlyingDeposited_df['hash'].isin(valid_deposit_hashes)].copy()\n",
    "    valid_underlying_deposited_df['amountIn'] = valid_underlying_deposited_df['amount'] / 1e18\n",
    "    df = pd.merge(rebalance_between_destinations_df, valid_underlying_deposited_df, on='hash', how='inner')\n",
    "    df['raw_amount_out'] = df[\"params\"].apply(lambda x: x[5])\n",
    "    df['raw_amount_in'] = df[\"amount\"]\n",
    "    df['event_amount_in'] = df[\"params\"].apply(lambda x: x[2])\n",
    "    df['block'] = df['block_y']\n",
    "\n",
    "    limited_df = df[['contract_address', 'amountIn', 'amountOut', 'inDestinationVault', 'outDestinationVault',\n",
    "                    'hash', 'block', 'raw_amount_in', 'raw_amount_out', 'event_amount_in', 'swapCost']].copy()\n",
    "\n",
    "\n",
    "    amounts_with_spot_values = pd.merge(limited_df, validated_spot_price_df, on='block', how='inner')\n",
    "    def _compute_spot_value_change(row):\n",
    "        in_dest = row['inDestinationVault']\n",
    "        in_dest_spot_price = row[in_dest]\n",
    "        \n",
    "        out_dest = row['outDestinationVault']\n",
    "        out_dest_spot_price = row[out_dest]\n",
    "        \n",
    "        spot_value_out = out_dest_spot_price * row['amountOut']\n",
    "        spot_value_in = in_dest_spot_price * row['amountIn']\n",
    "\n",
    "        swap_cost = spot_value_out - spot_value_in\n",
    "\n",
    "        return {\n",
    "            'spot_value_out':spot_value_out,\n",
    "            'spot_value_in':spot_value_in,\n",
    "            'spot_value_swap_cost': swap_cost\n",
    "        }\n",
    "        \n",
    "    spot_values_df = pd.DataFrame.from_records(amounts_with_spot_values.apply(_compute_spot_value_change, axis=1).values)\n",
    "    amounts_with_spot_values = pd.concat([amounts_with_spot_values, spot_values_df], axis=1)\n",
    "    return amounts_with_spot_values # spot_value_swap_cost and # destination In to split it"
   ]
  },
  {
   "cell_type": "code",
   "execution_count": null,
   "metadata": {},
   "outputs": [],
   "source": [
    "\n",
    "\n",
    "px.line(amounts_with_spot_values[['swapCost', 'spot_value_swap_cost']].cumsum())"
   ]
  },
  {
   "cell_type": "code",
   "execution_count": null,
   "metadata": {},
   "outputs": [
    {
     "data": {
      "text/html": [
       "<div>\n",
       "<style scoped>\n",
       "    .dataframe tbody tr th:only-of-type {\n",
       "        vertical-align: middle;\n",
       "    }\n",
       "\n",
       "    .dataframe tbody tr th {\n",
       "        vertical-align: top;\n",
       "    }\n",
       "\n",
       "    .dataframe thead th {\n",
       "        text-align: right;\n",
       "    }\n",
       "</style>\n",
       "<table border=\"1\" class=\"dataframe\">\n",
       "  <thead>\n",
       "    <tr style=\"text-align: right;\">\n",
       "      <th></th>\n",
       "      <th>contract_address</th>\n",
       "      <th>amountIn</th>\n",
       "      <th>amountOut</th>\n",
       "      <th>inDestinationVault</th>\n",
       "      <th>outDestinationVault</th>\n",
       "      <th>hash</th>\n",
       "      <th>block</th>\n",
       "      <th>raw_amount_in</th>\n",
       "      <th>raw_amount_out</th>\n",
       "      <th>event_amount_in</th>\n",
       "      <th>...</th>\n",
       "      <th>0x90300b02b162F902B9629963830BcCCdeEd71113</th>\n",
       "      <th>0xf9779aEF9f77e78C857CB4A068c65CcBee25BAAc</th>\n",
       "      <th>0x17216C32B9134343258B05807405db02BE030acd</th>\n",
       "      <th>0x689dc7B5CE8e23061a8223E97701E9345764B8B7</th>\n",
       "      <th>0x676B34c2C2294eF070c1e9E0FCD4091Dd06393FE</th>\n",
       "      <th>0x1416BfE53520a71553230c3FdeeEce30d5470bA7</th>\n",
       "      <th>0x2F7e096a400ded5D02762120b39A3aA4ABA072a4</th>\n",
       "      <th>0x40219bBda953ca811d2D0168Dc806a96b84791d9</th>\n",
       "      <th>0x148Ca723BefeA7b021C399413b8b7426A4701500</th>\n",
       "      <th>0xC9b5D82652a1C8214b0971A004983d0EEeDD751C</th>\n",
       "    </tr>\n",
       "  </thead>\n",
       "  <tbody>\n",
       "    <tr>\n",
       "      <th>0</th>\n",
       "      <td>0x777FAf85c8E5FC6f4332E56B989C5C94201A273C</td>\n",
       "      <td>100.512375</td>\n",
       "      <td>103.024424</td>\n",
       "      <td>0x777FAf85c8E5FC6f4332E56B989C5C94201A273C</td>\n",
       "      <td>0xE800e3760FC20aA98c5df6A9816147f190455AF3</td>\n",
       "      <td>0x5a6f3a2239134ef903468d88abce973e6b71e233af04...</td>\n",
       "      <td>20767364</td>\n",
       "      <td>100512374560900536081</td>\n",
       "      <td>103024423626862362624</td>\n",
       "      <td>100512272441216991232</td>\n",
       "      <td>...</td>\n",
       "      <td>1.016436</td>\n",
       "      <td>NaN</td>\n",
       "      <td>1.024542</td>\n",
       "      <td>1.014292</td>\n",
       "      <td>1.013827</td>\n",
       "      <td>1.016436</td>\n",
       "      <td>1.016099</td>\n",
       "      <td>NaN</td>\n",
       "      <td>1.018699</td>\n",
       "      <td>NaN</td>\n",
       "    </tr>\n",
       "    <tr>\n",
       "      <th>1</th>\n",
       "      <td>0x4E12227b350E8f8fEEc41A58D36cE2fB2e2d4575</td>\n",
       "      <td>103.715831</td>\n",
       "      <td>105.124100</td>\n",
       "      <td>0x4E12227b350E8f8fEEc41A58D36cE2fB2e2d4575</td>\n",
       "      <td>0xE800e3760FC20aA98c5df6A9816147f190455AF3</td>\n",
       "      <td>0x46cfba2d4f806b97e71d9465ae05556bc41cb3635c5d...</td>\n",
       "      <td>20772145</td>\n",
       "      <td>103715830557886143959</td>\n",
       "      <td>105124100397257129984</td>\n",
       "      <td>103572485503304712192</td>\n",
       "      <td>...</td>\n",
       "      <td>1.015869</td>\n",
       "      <td>NaN</td>\n",
       "      <td>1.024548</td>\n",
       "      <td>1.014539</td>\n",
       "      <td>1.013652</td>\n",
       "      <td>1.015869</td>\n",
       "      <td>1.016070</td>\n",
       "      <td>NaN</td>\n",
       "      <td>1.019026</td>\n",
       "      <td>NaN</td>\n",
       "    </tr>\n",
       "    <tr>\n",
       "      <th>2</th>\n",
       "      <td>0x2F7e096a400ded5D02762120b39A3aA4ABA072a4</td>\n",
       "      <td>165.884649</td>\n",
       "      <td>168.718684</td>\n",
       "      <td>0x2F7e096a400ded5D02762120b39A3aA4ABA072a4</td>\n",
       "      <td>0xE800e3760FC20aA98c5df6A9816147f190455AF3</td>\n",
       "      <td>0xa0ea869df690411f31e8a430670cfaea2b69a5849715...</td>\n",
       "      <td>20778301</td>\n",
       "      <td>165884648743842835763</td>\n",
       "      <td>168718684271991422976</td>\n",
       "      <td>165744495431202996224</td>\n",
       "      <td>...</td>\n",
       "      <td>1.016686</td>\n",
       "      <td>NaN</td>\n",
       "      <td>1.025236</td>\n",
       "      <td>1.014812</td>\n",
       "      <td>1.013926</td>\n",
       "      <td>1.016686</td>\n",
       "      <td>1.016337</td>\n",
       "      <td>NaN</td>\n",
       "      <td>1.019406</td>\n",
       "      <td>NaN</td>\n",
       "    </tr>\n",
       "    <tr>\n",
       "      <th>3</th>\n",
       "      <td>0x4E12227b350E8f8fEEc41A58D36cE2fB2e2d4575</td>\n",
       "      <td>188.896729</td>\n",
       "      <td>191.505927</td>\n",
       "      <td>0x4E12227b350E8f8fEEc41A58D36cE2fB2e2d4575</td>\n",
       "      <td>0xE800e3760FC20aA98c5df6A9816147f190455AF3</td>\n",
       "      <td>0xca793ddcca9f1a355bf52d55d397068f49b8c43de799...</td>\n",
       "      <td>20781400</td>\n",
       "      <td>188896729234516955929</td>\n",
       "      <td>191505927169537048576</td>\n",
       "      <td>188630309468137127936</td>\n",
       "      <td>...</td>\n",
       "      <td>1.016768</td>\n",
       "      <td>NaN</td>\n",
       "      <td>1.025257</td>\n",
       "      <td>1.014962</td>\n",
       "      <td>1.013939</td>\n",
       "      <td>1.016768</td>\n",
       "      <td>1.016391</td>\n",
       "      <td>NaN</td>\n",
       "      <td>1.019393</td>\n",
       "      <td>NaN</td>\n",
       "    </tr>\n",
       "    <tr>\n",
       "      <th>4</th>\n",
       "      <td>0x2F7e096a400ded5D02762120b39A3aA4ABA072a4</td>\n",
       "      <td>141.824778</td>\n",
       "      <td>144.375381</td>\n",
       "      <td>0x2F7e096a400ded5D02762120b39A3aA4ABA072a4</td>\n",
       "      <td>0xE800e3760FC20aA98c5df6A9816147f190455AF3</td>\n",
       "      <td>0x6ce994c065fa58c7b58d215373dcb7480aba63965013...</td>\n",
       "      <td>20786072</td>\n",
       "      <td>141824778293424392382</td>\n",
       "      <td>144375380803665870848</td>\n",
       "      <td>141824778070793191424</td>\n",
       "      <td>...</td>\n",
       "      <td>1.016107</td>\n",
       "      <td>NaN</td>\n",
       "      <td>1.024948</td>\n",
       "      <td>1.015160</td>\n",
       "      <td>1.013764</td>\n",
       "      <td>1.016107</td>\n",
       "      <td>1.016182</td>\n",
       "      <td>NaN</td>\n",
       "      <td>1.019049</td>\n",
       "      <td>NaN</td>\n",
       "    </tr>\n",
       "    <tr>\n",
       "      <th>...</th>\n",
       "      <td>...</td>\n",
       "      <td>...</td>\n",
       "      <td>...</td>\n",
       "      <td>...</td>\n",
       "      <td>...</td>\n",
       "      <td>...</td>\n",
       "      <td>...</td>\n",
       "      <td>...</td>\n",
       "      <td>...</td>\n",
       "      <td>...</td>\n",
       "      <td>...</td>\n",
       "      <td>...</td>\n",
       "      <td>...</td>\n",
       "      <td>...</td>\n",
       "      <td>...</td>\n",
       "      <td>...</td>\n",
       "      <td>...</td>\n",
       "      <td>...</td>\n",
       "      <td>...</td>\n",
       "      <td>...</td>\n",
       "      <td>...</td>\n",
       "    </tr>\n",
       "    <tr>\n",
       "      <th>75</th>\n",
       "      <td>0xf9779aEF9f77e78C857CB4A068c65CcBee25BAAc</td>\n",
       "      <td>98.265258</td>\n",
       "      <td>100.000000</td>\n",
       "      <td>0xf9779aEF9f77e78C857CB4A068c65CcBee25BAAc</td>\n",
       "      <td>0xE800e3760FC20aA98c5df6A9816147f190455AF3</td>\n",
       "      <td>0x7ea296cc9d700bc8b3a817e36f343928d997bd65d3b7...</td>\n",
       "      <td>21141208</td>\n",
       "      <td>98265257997978557172</td>\n",
       "      <td>100000000000000000000</td>\n",
       "      <td>98102479908599791616</td>\n",
       "      <td>...</td>\n",
       "      <td>1.018914</td>\n",
       "      <td>1.017368</td>\n",
       "      <td>1.030730</td>\n",
       "      <td>1.018058</td>\n",
       "      <td>1.017368</td>\n",
       "      <td>1.018914</td>\n",
       "      <td>1.019286</td>\n",
       "      <td>1.020552</td>\n",
       "      <td>1.020552</td>\n",
       "      <td>1.018914</td>\n",
       "    </tr>\n",
       "    <tr>\n",
       "      <th>76</th>\n",
       "      <td>0xf9779aEF9f77e78C857CB4A068c65CcBee25BAAc</td>\n",
       "      <td>98.280908</td>\n",
       "      <td>100.000000</td>\n",
       "      <td>0xf9779aEF9f77e78C857CB4A068c65CcBee25BAAc</td>\n",
       "      <td>0xE800e3760FC20aA98c5df6A9816147f190455AF3</td>\n",
       "      <td>0x06c28f98ff45d82f34a0034733773a6f10c8e80fdced...</td>\n",
       "      <td>21143968</td>\n",
       "      <td>98280908050360264648</td>\n",
       "      <td>100000000000000000000</td>\n",
       "      <td>98119584275799883776</td>\n",
       "      <td>...</td>\n",
       "      <td>1.018568</td>\n",
       "      <td>1.017422</td>\n",
       "      <td>1.030700</td>\n",
       "      <td>1.018410</td>\n",
       "      <td>1.017422</td>\n",
       "      <td>1.018568</td>\n",
       "      <td>1.019382</td>\n",
       "      <td>1.019294</td>\n",
       "      <td>1.019294</td>\n",
       "      <td>1.018568</td>\n",
       "    </tr>\n",
       "    <tr>\n",
       "      <th>77</th>\n",
       "      <td>0xf9779aEF9f77e78C857CB4A068c65CcBee25BAAc</td>\n",
       "      <td>97.770709</td>\n",
       "      <td>99.483984</td>\n",
       "      <td>0xf9779aEF9f77e78C857CB4A068c65CcBee25BAAc</td>\n",
       "      <td>0xE800e3760FC20aA98c5df6A9816147f190455AF3</td>\n",
       "      <td>0x84da6e052ce802cd1dc77ead5d40eb124a14c4aefc46...</td>\n",
       "      <td>21148318</td>\n",
       "      <td>97770709315536396959</td>\n",
       "      <td>99483984153862750208</td>\n",
       "      <td>97613489560750473216</td>\n",
       "      <td>...</td>\n",
       "      <td>1.017863</td>\n",
       "      <td>1.017375</td>\n",
       "      <td>1.030671</td>\n",
       "      <td>1.017331</td>\n",
       "      <td>1.017375</td>\n",
       "      <td>1.017863</td>\n",
       "      <td>1.019488</td>\n",
       "      <td>1.019870</td>\n",
       "      <td>1.019870</td>\n",
       "      <td>1.017863</td>\n",
       "    </tr>\n",
       "    <tr>\n",
       "      <th>78</th>\n",
       "      <td>0xf9779aEF9f77e78C857CB4A068c65CcBee25BAAc</td>\n",
       "      <td>73.300808</td>\n",
       "      <td>74.665379</td>\n",
       "      <td>0xf9779aEF9f77e78C857CB4A068c65CcBee25BAAc</td>\n",
       "      <td>0xE800e3760FC20aA98c5df6A9816147f190455AF3</td>\n",
       "      <td>0xd899eb779a909d345dac9d56abbf0a842b5fe4c5914f...</td>\n",
       "      <td>21152799</td>\n",
       "      <td>73300808373982903832</td>\n",
       "      <td>74665379379959873536</td>\n",
       "      <td>73265691609130049536</td>\n",
       "      <td>...</td>\n",
       "      <td>1.017749</td>\n",
       "      <td>1.017412</td>\n",
       "      <td>1.030697</td>\n",
       "      <td>1.017328</td>\n",
       "      <td>1.017412</td>\n",
       "      <td>1.017749</td>\n",
       "      <td>1.019411</td>\n",
       "      <td>1.019175</td>\n",
       "      <td>1.019175</td>\n",
       "      <td>1.017749</td>\n",
       "    </tr>\n",
       "    <tr>\n",
       "      <th>79</th>\n",
       "      <td>0x40219bBda953ca811d2D0168Dc806a96b84791d9</td>\n",
       "      <td>54.899375</td>\n",
       "      <td>55.999197</td>\n",
       "      <td>0x40219bBda953ca811d2D0168Dc806a96b84791d9</td>\n",
       "      <td>0xE800e3760FC20aA98c5df6A9816147f190455AF3</td>\n",
       "      <td>0x9aa6839667424f557b48ce54eac0916b8590810d4b91...</td>\n",
       "      <td>21157284</td>\n",
       "      <td>54899374897870416861</td>\n",
       "      <td>55999197248365314048</td>\n",
       "      <td>54877415333123940352</td>\n",
       "      <td>...</td>\n",
       "      <td>1.018072</td>\n",
       "      <td>1.017274</td>\n",
       "      <td>1.030856</td>\n",
       "      <td>1.017419</td>\n",
       "      <td>1.017274</td>\n",
       "      <td>1.018072</td>\n",
       "      <td>1.019548</td>\n",
       "      <td>1.019461</td>\n",
       "      <td>1.019461</td>\n",
       "      <td>1.018072</td>\n",
       "    </tr>\n",
       "  </tbody>\n",
       "</table>\n",
       "<p>80 rows × 30 columns</p>\n",
       "</div>"
      ],
      "text/plain": [
       "                              contract_address    amountIn   amountOut  \\\n",
       "0   0x777FAf85c8E5FC6f4332E56B989C5C94201A273C  100.512375  103.024424   \n",
       "1   0x4E12227b350E8f8fEEc41A58D36cE2fB2e2d4575  103.715831  105.124100   \n",
       "2   0x2F7e096a400ded5D02762120b39A3aA4ABA072a4  165.884649  168.718684   \n",
       "3   0x4E12227b350E8f8fEEc41A58D36cE2fB2e2d4575  188.896729  191.505927   \n",
       "4   0x2F7e096a400ded5D02762120b39A3aA4ABA072a4  141.824778  144.375381   \n",
       "..                                         ...         ...         ...   \n",
       "75  0xf9779aEF9f77e78C857CB4A068c65CcBee25BAAc   98.265258  100.000000   \n",
       "76  0xf9779aEF9f77e78C857CB4A068c65CcBee25BAAc   98.280908  100.000000   \n",
       "77  0xf9779aEF9f77e78C857CB4A068c65CcBee25BAAc   97.770709   99.483984   \n",
       "78  0xf9779aEF9f77e78C857CB4A068c65CcBee25BAAc   73.300808   74.665379   \n",
       "79  0x40219bBda953ca811d2D0168Dc806a96b84791d9   54.899375   55.999197   \n",
       "\n",
       "                            inDestinationVault  \\\n",
       "0   0x777FAf85c8E5FC6f4332E56B989C5C94201A273C   \n",
       "1   0x4E12227b350E8f8fEEc41A58D36cE2fB2e2d4575   \n",
       "2   0x2F7e096a400ded5D02762120b39A3aA4ABA072a4   \n",
       "3   0x4E12227b350E8f8fEEc41A58D36cE2fB2e2d4575   \n",
       "4   0x2F7e096a400ded5D02762120b39A3aA4ABA072a4   \n",
       "..                                         ...   \n",
       "75  0xf9779aEF9f77e78C857CB4A068c65CcBee25BAAc   \n",
       "76  0xf9779aEF9f77e78C857CB4A068c65CcBee25BAAc   \n",
       "77  0xf9779aEF9f77e78C857CB4A068c65CcBee25BAAc   \n",
       "78  0xf9779aEF9f77e78C857CB4A068c65CcBee25BAAc   \n",
       "79  0x40219bBda953ca811d2D0168Dc806a96b84791d9   \n",
       "\n",
       "                           outDestinationVault  \\\n",
       "0   0xE800e3760FC20aA98c5df6A9816147f190455AF3   \n",
       "1   0xE800e3760FC20aA98c5df6A9816147f190455AF3   \n",
       "2   0xE800e3760FC20aA98c5df6A9816147f190455AF3   \n",
       "3   0xE800e3760FC20aA98c5df6A9816147f190455AF3   \n",
       "4   0xE800e3760FC20aA98c5df6A9816147f190455AF3   \n",
       "..                                         ...   \n",
       "75  0xE800e3760FC20aA98c5df6A9816147f190455AF3   \n",
       "76  0xE800e3760FC20aA98c5df6A9816147f190455AF3   \n",
       "77  0xE800e3760FC20aA98c5df6A9816147f190455AF3   \n",
       "78  0xE800e3760FC20aA98c5df6A9816147f190455AF3   \n",
       "79  0xE800e3760FC20aA98c5df6A9816147f190455AF3   \n",
       "\n",
       "                                                 hash     block  \\\n",
       "0   0x5a6f3a2239134ef903468d88abce973e6b71e233af04...  20767364   \n",
       "1   0x46cfba2d4f806b97e71d9465ae05556bc41cb3635c5d...  20772145   \n",
       "2   0xa0ea869df690411f31e8a430670cfaea2b69a5849715...  20778301   \n",
       "3   0xca793ddcca9f1a355bf52d55d397068f49b8c43de799...  20781400   \n",
       "4   0x6ce994c065fa58c7b58d215373dcb7480aba63965013...  20786072   \n",
       "..                                                ...       ...   \n",
       "75  0x7ea296cc9d700bc8b3a817e36f343928d997bd65d3b7...  21141208   \n",
       "76  0x06c28f98ff45d82f34a0034733773a6f10c8e80fdced...  21143968   \n",
       "77  0x84da6e052ce802cd1dc77ead5d40eb124a14c4aefc46...  21148318   \n",
       "78  0xd899eb779a909d345dac9d56abbf0a842b5fe4c5914f...  21152799   \n",
       "79  0x9aa6839667424f557b48ce54eac0916b8590810d4b91...  21157284   \n",
       "\n",
       "            raw_amount_in         raw_amount_out        event_amount_in  ...  \\\n",
       "0   100512374560900536081  103024423626862362624  100512272441216991232  ...   \n",
       "1   103715830557886143959  105124100397257129984  103572485503304712192  ...   \n",
       "2   165884648743842835763  168718684271991422976  165744495431202996224  ...   \n",
       "3   188896729234516955929  191505927169537048576  188630309468137127936  ...   \n",
       "4   141824778293424392382  144375380803665870848  141824778070793191424  ...   \n",
       "..                    ...                    ...                    ...  ...   \n",
       "75   98265257997978557172  100000000000000000000   98102479908599791616  ...   \n",
       "76   98280908050360264648  100000000000000000000   98119584275799883776  ...   \n",
       "77   97770709315536396959   99483984153862750208   97613489560750473216  ...   \n",
       "78   73300808373982903832   74665379379959873536   73265691609130049536  ...   \n",
       "79   54899374897870416861   55999197248365314048   54877415333123940352  ...   \n",
       "\n",
       "    0x90300b02b162F902B9629963830BcCCdeEd71113  \\\n",
       "0                                     1.016436   \n",
       "1                                     1.015869   \n",
       "2                                     1.016686   \n",
       "3                                     1.016768   \n",
       "4                                     1.016107   \n",
       "..                                         ...   \n",
       "75                                    1.018914   \n",
       "76                                    1.018568   \n",
       "77                                    1.017863   \n",
       "78                                    1.017749   \n",
       "79                                    1.018072   \n",
       "\n",
       "    0xf9779aEF9f77e78C857CB4A068c65CcBee25BAAc  \\\n",
       "0                                          NaN   \n",
       "1                                          NaN   \n",
       "2                                          NaN   \n",
       "3                                          NaN   \n",
       "4                                          NaN   \n",
       "..                                         ...   \n",
       "75                                    1.017368   \n",
       "76                                    1.017422   \n",
       "77                                    1.017375   \n",
       "78                                    1.017412   \n",
       "79                                    1.017274   \n",
       "\n",
       "    0x17216C32B9134343258B05807405db02BE030acd  \\\n",
       "0                                     1.024542   \n",
       "1                                     1.024548   \n",
       "2                                     1.025236   \n",
       "3                                     1.025257   \n",
       "4                                     1.024948   \n",
       "..                                         ...   \n",
       "75                                    1.030730   \n",
       "76                                    1.030700   \n",
       "77                                    1.030671   \n",
       "78                                    1.030697   \n",
       "79                                    1.030856   \n",
       "\n",
       "    0x689dc7B5CE8e23061a8223E97701E9345764B8B7  \\\n",
       "0                                     1.014292   \n",
       "1                                     1.014539   \n",
       "2                                     1.014812   \n",
       "3                                     1.014962   \n",
       "4                                     1.015160   \n",
       "..                                         ...   \n",
       "75                                    1.018058   \n",
       "76                                    1.018410   \n",
       "77                                    1.017331   \n",
       "78                                    1.017328   \n",
       "79                                    1.017419   \n",
       "\n",
       "    0x676B34c2C2294eF070c1e9E0FCD4091Dd06393FE  \\\n",
       "0                                     1.013827   \n",
       "1                                     1.013652   \n",
       "2                                     1.013926   \n",
       "3                                     1.013939   \n",
       "4                                     1.013764   \n",
       "..                                         ...   \n",
       "75                                    1.017368   \n",
       "76                                    1.017422   \n",
       "77                                    1.017375   \n",
       "78                                    1.017412   \n",
       "79                                    1.017274   \n",
       "\n",
       "    0x1416BfE53520a71553230c3FdeeEce30d5470bA7  \\\n",
       "0                                     1.016436   \n",
       "1                                     1.015869   \n",
       "2                                     1.016686   \n",
       "3                                     1.016768   \n",
       "4                                     1.016107   \n",
       "..                                         ...   \n",
       "75                                    1.018914   \n",
       "76                                    1.018568   \n",
       "77                                    1.017863   \n",
       "78                                    1.017749   \n",
       "79                                    1.018072   \n",
       "\n",
       "    0x2F7e096a400ded5D02762120b39A3aA4ABA072a4  \\\n",
       "0                                     1.016099   \n",
       "1                                     1.016070   \n",
       "2                                     1.016337   \n",
       "3                                     1.016391   \n",
       "4                                     1.016182   \n",
       "..                                         ...   \n",
       "75                                    1.019286   \n",
       "76                                    1.019382   \n",
       "77                                    1.019488   \n",
       "78                                    1.019411   \n",
       "79                                    1.019548   \n",
       "\n",
       "    0x40219bBda953ca811d2D0168Dc806a96b84791d9  \\\n",
       "0                                          NaN   \n",
       "1                                          NaN   \n",
       "2                                          NaN   \n",
       "3                                          NaN   \n",
       "4                                          NaN   \n",
       "..                                         ...   \n",
       "75                                    1.020552   \n",
       "76                                    1.019294   \n",
       "77                                    1.019870   \n",
       "78                                    1.019175   \n",
       "79                                    1.019461   \n",
       "\n",
       "    0x148Ca723BefeA7b021C399413b8b7426A4701500  \\\n",
       "0                                     1.018699   \n",
       "1                                     1.019026   \n",
       "2                                     1.019406   \n",
       "3                                     1.019393   \n",
       "4                                     1.019049   \n",
       "..                                         ...   \n",
       "75                                    1.020552   \n",
       "76                                    1.019294   \n",
       "77                                    1.019870   \n",
       "78                                    1.019175   \n",
       "79                                    1.019461   \n",
       "\n",
       "    0xC9b5D82652a1C8214b0971A004983d0EEeDD751C  \n",
       "0                                          NaN  \n",
       "1                                          NaN  \n",
       "2                                          NaN  \n",
       "3                                          NaN  \n",
       "4                                          NaN  \n",
       "..                                         ...  \n",
       "75                                    1.018914  \n",
       "76                                    1.018568  \n",
       "77                                    1.017863  \n",
       "78                                    1.017749  \n",
       "79                                    1.018072  \n",
       "\n",
       "[80 rows x 30 columns]"
      ]
     },
     "execution_count": 4,
     "metadata": {},
     "output_type": "execute_result"
    }
   ],
   "source": []
  },
  {
   "cell_type": "code",
   "execution_count": null,
   "metadata": {},
   "outputs": [
    {
     "data": {
      "text/html": [
       "<div>\n",
       "<style scoped>\n",
       "    .dataframe tbody tr th:only-of-type {\n",
       "        vertical-align: middle;\n",
       "    }\n",
       "\n",
       "    .dataframe tbody tr th {\n",
       "        vertical-align: top;\n",
       "    }\n",
       "\n",
       "    .dataframe thead th {\n",
       "        text-align: right;\n",
       "    }\n",
       "</style>\n",
       "<table border=\"1\" class=\"dataframe\">\n",
       "  <thead>\n",
       "    <tr style=\"text-align: right;\">\n",
       "      <th></th>\n",
       "      <th>contract_address</th>\n",
       "      <th>amountIn</th>\n",
       "      <th>amountOut</th>\n",
       "      <th>inDestinationVault</th>\n",
       "      <th>outDestinationVault</th>\n",
       "      <th>hash</th>\n",
       "      <th>block</th>\n",
       "      <th>raw_amount_in</th>\n",
       "      <th>raw_amount_out</th>\n",
       "      <th>event_amount_in</th>\n",
       "      <th>...</th>\n",
       "      <th>0x689dc7B5CE8e23061a8223E97701E9345764B8B7</th>\n",
       "      <th>0x676B34c2C2294eF070c1e9E0FCD4091Dd06393FE</th>\n",
       "      <th>0x1416BfE53520a71553230c3FdeeEce30d5470bA7</th>\n",
       "      <th>0x2F7e096a400ded5D02762120b39A3aA4ABA072a4</th>\n",
       "      <th>0x40219bBda953ca811d2D0168Dc806a96b84791d9</th>\n",
       "      <th>0x148Ca723BefeA7b021C399413b8b7426A4701500</th>\n",
       "      <th>0xC9b5D82652a1C8214b0971A004983d0EEeDD751C</th>\n",
       "      <th>spot_value_out</th>\n",
       "      <th>spot_value_in</th>\n",
       "      <th>spot_value_swap_cost</th>\n",
       "    </tr>\n",
       "  </thead>\n",
       "  <tbody>\n",
       "    <tr>\n",
       "      <th>0</th>\n",
       "      <td>0x777FAf85c8E5FC6f4332E56B989C5C94201A273C</td>\n",
       "      <td>100.512375</td>\n",
       "      <td>103.024424</td>\n",
       "      <td>0x777FAf85c8E5FC6f4332E56B989C5C94201A273C</td>\n",
       "      <td>0xE800e3760FC20aA98c5df6A9816147f190455AF3</td>\n",
       "      <td>0x5a6f3a2239134ef903468d88abce973e6b71e233af04...</td>\n",
       "      <td>20767364</td>\n",
       "      <td>100512374560900536081</td>\n",
       "      <td>103024423626862362624</td>\n",
       "      <td>100512272441216991232</td>\n",
       "      <td>...</td>\n",
       "      <td>1.014292</td>\n",
       "      <td>1.013827</td>\n",
       "      <td>1.016436</td>\n",
       "      <td>1.016099</td>\n",
       "      <td>NaN</td>\n",
       "      <td>1.018699</td>\n",
       "      <td>NaN</td>\n",
       "      <td>103.024424</td>\n",
       "      <td>102.979160</td>\n",
       "      <td>0.045264</td>\n",
       "    </tr>\n",
       "    <tr>\n",
       "      <th>1</th>\n",
       "      <td>0x4E12227b350E8f8fEEc41A58D36cE2fB2e2d4575</td>\n",
       "      <td>103.715831</td>\n",
       "      <td>105.124100</td>\n",
       "      <td>0x4E12227b350E8f8fEEc41A58D36cE2fB2e2d4575</td>\n",
       "      <td>0xE800e3760FC20aA98c5df6A9816147f190455AF3</td>\n",
       "      <td>0x46cfba2d4f806b97e71d9465ae05556bc41cb3635c5d...</td>\n",
       "      <td>20772145</td>\n",
       "      <td>103715830557886143959</td>\n",
       "      <td>105124100397257129984</td>\n",
       "      <td>103572485503304712192</td>\n",
       "      <td>...</td>\n",
       "      <td>1.014539</td>\n",
       "      <td>1.013652</td>\n",
       "      <td>1.015869</td>\n",
       "      <td>1.016070</td>\n",
       "      <td>NaN</td>\n",
       "      <td>1.019026</td>\n",
       "      <td>NaN</td>\n",
       "      <td>105.124100</td>\n",
       "      <td>105.131775</td>\n",
       "      <td>-0.007675</td>\n",
       "    </tr>\n",
       "    <tr>\n",
       "      <th>2</th>\n",
       "      <td>0x2F7e096a400ded5D02762120b39A3aA4ABA072a4</td>\n",
       "      <td>165.884649</td>\n",
       "      <td>168.718684</td>\n",
       "      <td>0x2F7e096a400ded5D02762120b39A3aA4ABA072a4</td>\n",
       "      <td>0xE800e3760FC20aA98c5df6A9816147f190455AF3</td>\n",
       "      <td>0xa0ea869df690411f31e8a430670cfaea2b69a5849715...</td>\n",
       "      <td>20778301</td>\n",
       "      <td>165884648743842835763</td>\n",
       "      <td>168718684271991422976</td>\n",
       "      <td>165744495431202996224</td>\n",
       "      <td>...</td>\n",
       "      <td>1.014812</td>\n",
       "      <td>1.013926</td>\n",
       "      <td>1.016686</td>\n",
       "      <td>1.016337</td>\n",
       "      <td>NaN</td>\n",
       "      <td>1.019406</td>\n",
       "      <td>NaN</td>\n",
       "      <td>168.718684</td>\n",
       "      <td>168.594627</td>\n",
       "      <td>0.124057</td>\n",
       "    </tr>\n",
       "    <tr>\n",
       "      <th>3</th>\n",
       "      <td>0x4E12227b350E8f8fEEc41A58D36cE2fB2e2d4575</td>\n",
       "      <td>188.896729</td>\n",
       "      <td>191.505927</td>\n",
       "      <td>0x4E12227b350E8f8fEEc41A58D36cE2fB2e2d4575</td>\n",
       "      <td>0xE800e3760FC20aA98c5df6A9816147f190455AF3</td>\n",
       "      <td>0xca793ddcca9f1a355bf52d55d397068f49b8c43de799...</td>\n",
       "      <td>20781400</td>\n",
       "      <td>188896729234516955929</td>\n",
       "      <td>191505927169537048576</td>\n",
       "      <td>188630309468137127936</td>\n",
       "      <td>...</td>\n",
       "      <td>1.014962</td>\n",
       "      <td>1.013939</td>\n",
       "      <td>1.016768</td>\n",
       "      <td>1.016391</td>\n",
       "      <td>NaN</td>\n",
       "      <td>1.019393</td>\n",
       "      <td>NaN</td>\n",
       "      <td>191.505927</td>\n",
       "      <td>191.529813</td>\n",
       "      <td>-0.023886</td>\n",
       "    </tr>\n",
       "    <tr>\n",
       "      <th>4</th>\n",
       "      <td>0x2F7e096a400ded5D02762120b39A3aA4ABA072a4</td>\n",
       "      <td>141.824778</td>\n",
       "      <td>144.375381</td>\n",
       "      <td>0x2F7e096a400ded5D02762120b39A3aA4ABA072a4</td>\n",
       "      <td>0xE800e3760FC20aA98c5df6A9816147f190455AF3</td>\n",
       "      <td>0x6ce994c065fa58c7b58d215373dcb7480aba63965013...</td>\n",
       "      <td>20786072</td>\n",
       "      <td>141824778293424392382</td>\n",
       "      <td>144375380803665870848</td>\n",
       "      <td>141824778070793191424</td>\n",
       "      <td>...</td>\n",
       "      <td>1.015160</td>\n",
       "      <td>1.013764</td>\n",
       "      <td>1.016107</td>\n",
       "      <td>1.016182</td>\n",
       "      <td>NaN</td>\n",
       "      <td>1.019049</td>\n",
       "      <td>NaN</td>\n",
       "      <td>144.375381</td>\n",
       "      <td>144.119784</td>\n",
       "      <td>0.255597</td>\n",
       "    </tr>\n",
       "    <tr>\n",
       "      <th>...</th>\n",
       "      <td>...</td>\n",
       "      <td>...</td>\n",
       "      <td>...</td>\n",
       "      <td>...</td>\n",
       "      <td>...</td>\n",
       "      <td>...</td>\n",
       "      <td>...</td>\n",
       "      <td>...</td>\n",
       "      <td>...</td>\n",
       "      <td>...</td>\n",
       "      <td>...</td>\n",
       "      <td>...</td>\n",
       "      <td>...</td>\n",
       "      <td>...</td>\n",
       "      <td>...</td>\n",
       "      <td>...</td>\n",
       "      <td>...</td>\n",
       "      <td>...</td>\n",
       "      <td>...</td>\n",
       "      <td>...</td>\n",
       "      <td>...</td>\n",
       "    </tr>\n",
       "    <tr>\n",
       "      <th>75</th>\n",
       "      <td>0xf9779aEF9f77e78C857CB4A068c65CcBee25BAAc</td>\n",
       "      <td>98.265258</td>\n",
       "      <td>100.000000</td>\n",
       "      <td>0xf9779aEF9f77e78C857CB4A068c65CcBee25BAAc</td>\n",
       "      <td>0xE800e3760FC20aA98c5df6A9816147f190455AF3</td>\n",
       "      <td>0x7ea296cc9d700bc8b3a817e36f343928d997bd65d3b7...</td>\n",
       "      <td>21141208</td>\n",
       "      <td>98265257997978557172</td>\n",
       "      <td>100000000000000000000</td>\n",
       "      <td>98102479908599791616</td>\n",
       "      <td>...</td>\n",
       "      <td>1.018058</td>\n",
       "      <td>1.017368</td>\n",
       "      <td>1.018914</td>\n",
       "      <td>1.019286</td>\n",
       "      <td>1.020552</td>\n",
       "      <td>1.020552</td>\n",
       "      <td>1.018914</td>\n",
       "      <td>100.000000</td>\n",
       "      <td>99.971889</td>\n",
       "      <td>0.028111</td>\n",
       "    </tr>\n",
       "    <tr>\n",
       "      <th>76</th>\n",
       "      <td>0xf9779aEF9f77e78C857CB4A068c65CcBee25BAAc</td>\n",
       "      <td>98.280908</td>\n",
       "      <td>100.000000</td>\n",
       "      <td>0xf9779aEF9f77e78C857CB4A068c65CcBee25BAAc</td>\n",
       "      <td>0xE800e3760FC20aA98c5df6A9816147f190455AF3</td>\n",
       "      <td>0x06c28f98ff45d82f34a0034733773a6f10c8e80fdced...</td>\n",
       "      <td>21143968</td>\n",
       "      <td>98280908050360264648</td>\n",
       "      <td>100000000000000000000</td>\n",
       "      <td>98119584275799883776</td>\n",
       "      <td>...</td>\n",
       "      <td>1.018410</td>\n",
       "      <td>1.017422</td>\n",
       "      <td>1.018568</td>\n",
       "      <td>1.019382</td>\n",
       "      <td>1.019294</td>\n",
       "      <td>1.019294</td>\n",
       "      <td>1.018568</td>\n",
       "      <td>100.000000</td>\n",
       "      <td>99.993196</td>\n",
       "      <td>0.006804</td>\n",
       "    </tr>\n",
       "    <tr>\n",
       "      <th>77</th>\n",
       "      <td>0xf9779aEF9f77e78C857CB4A068c65CcBee25BAAc</td>\n",
       "      <td>97.770709</td>\n",
       "      <td>99.483984</td>\n",
       "      <td>0xf9779aEF9f77e78C857CB4A068c65CcBee25BAAc</td>\n",
       "      <td>0xE800e3760FC20aA98c5df6A9816147f190455AF3</td>\n",
       "      <td>0x84da6e052ce802cd1dc77ead5d40eb124a14c4aefc46...</td>\n",
       "      <td>21148318</td>\n",
       "      <td>97770709315536396959</td>\n",
       "      <td>99483984153862750208</td>\n",
       "      <td>97613489560750473216</td>\n",
       "      <td>...</td>\n",
       "      <td>1.017331</td>\n",
       "      <td>1.017375</td>\n",
       "      <td>1.017863</td>\n",
       "      <td>1.019488</td>\n",
       "      <td>1.019870</td>\n",
       "      <td>1.019870</td>\n",
       "      <td>1.017863</td>\n",
       "      <td>99.483984</td>\n",
       "      <td>99.469439</td>\n",
       "      <td>0.014545</td>\n",
       "    </tr>\n",
       "    <tr>\n",
       "      <th>78</th>\n",
       "      <td>0xf9779aEF9f77e78C857CB4A068c65CcBee25BAAc</td>\n",
       "      <td>73.300808</td>\n",
       "      <td>74.665379</td>\n",
       "      <td>0xf9779aEF9f77e78C857CB4A068c65CcBee25BAAc</td>\n",
       "      <td>0xE800e3760FC20aA98c5df6A9816147f190455AF3</td>\n",
       "      <td>0xd899eb779a909d345dac9d56abbf0a842b5fe4c5914f...</td>\n",
       "      <td>21152799</td>\n",
       "      <td>73300808373982903832</td>\n",
       "      <td>74665379379959873536</td>\n",
       "      <td>73265691609130049536</td>\n",
       "      <td>...</td>\n",
       "      <td>1.017328</td>\n",
       "      <td>1.017412</td>\n",
       "      <td>1.017749</td>\n",
       "      <td>1.019411</td>\n",
       "      <td>1.019175</td>\n",
       "      <td>1.019175</td>\n",
       "      <td>1.017749</td>\n",
       "      <td>74.665379</td>\n",
       "      <td>74.577089</td>\n",
       "      <td>0.088291</td>\n",
       "    </tr>\n",
       "    <tr>\n",
       "      <th>79</th>\n",
       "      <td>0x40219bBda953ca811d2D0168Dc806a96b84791d9</td>\n",
       "      <td>54.899375</td>\n",
       "      <td>55.999197</td>\n",
       "      <td>0x40219bBda953ca811d2D0168Dc806a96b84791d9</td>\n",
       "      <td>0xE800e3760FC20aA98c5df6A9816147f190455AF3</td>\n",
       "      <td>0x9aa6839667424f557b48ce54eac0916b8590810d4b91...</td>\n",
       "      <td>21157284</td>\n",
       "      <td>54899374897870416861</td>\n",
       "      <td>55999197248365314048</td>\n",
       "      <td>54877415333123940352</td>\n",
       "      <td>...</td>\n",
       "      <td>1.017419</td>\n",
       "      <td>1.017274</td>\n",
       "      <td>1.018072</td>\n",
       "      <td>1.019548</td>\n",
       "      <td>1.019461</td>\n",
       "      <td>1.019461</td>\n",
       "      <td>1.018072</td>\n",
       "      <td>55.999197</td>\n",
       "      <td>55.967794</td>\n",
       "      <td>0.031403</td>\n",
       "    </tr>\n",
       "  </tbody>\n",
       "</table>\n",
       "<p>80 rows × 33 columns</p>\n",
       "</div>"
      ],
      "text/plain": [
       "                              contract_address    amountIn   amountOut  \\\n",
       "0   0x777FAf85c8E5FC6f4332E56B989C5C94201A273C  100.512375  103.024424   \n",
       "1   0x4E12227b350E8f8fEEc41A58D36cE2fB2e2d4575  103.715831  105.124100   \n",
       "2   0x2F7e096a400ded5D02762120b39A3aA4ABA072a4  165.884649  168.718684   \n",
       "3   0x4E12227b350E8f8fEEc41A58D36cE2fB2e2d4575  188.896729  191.505927   \n",
       "4   0x2F7e096a400ded5D02762120b39A3aA4ABA072a4  141.824778  144.375381   \n",
       "..                                         ...         ...         ...   \n",
       "75  0xf9779aEF9f77e78C857CB4A068c65CcBee25BAAc   98.265258  100.000000   \n",
       "76  0xf9779aEF9f77e78C857CB4A068c65CcBee25BAAc   98.280908  100.000000   \n",
       "77  0xf9779aEF9f77e78C857CB4A068c65CcBee25BAAc   97.770709   99.483984   \n",
       "78  0xf9779aEF9f77e78C857CB4A068c65CcBee25BAAc   73.300808   74.665379   \n",
       "79  0x40219bBda953ca811d2D0168Dc806a96b84791d9   54.899375   55.999197   \n",
       "\n",
       "                            inDestinationVault  \\\n",
       "0   0x777FAf85c8E5FC6f4332E56B989C5C94201A273C   \n",
       "1   0x4E12227b350E8f8fEEc41A58D36cE2fB2e2d4575   \n",
       "2   0x2F7e096a400ded5D02762120b39A3aA4ABA072a4   \n",
       "3   0x4E12227b350E8f8fEEc41A58D36cE2fB2e2d4575   \n",
       "4   0x2F7e096a400ded5D02762120b39A3aA4ABA072a4   \n",
       "..                                         ...   \n",
       "75  0xf9779aEF9f77e78C857CB4A068c65CcBee25BAAc   \n",
       "76  0xf9779aEF9f77e78C857CB4A068c65CcBee25BAAc   \n",
       "77  0xf9779aEF9f77e78C857CB4A068c65CcBee25BAAc   \n",
       "78  0xf9779aEF9f77e78C857CB4A068c65CcBee25BAAc   \n",
       "79  0x40219bBda953ca811d2D0168Dc806a96b84791d9   \n",
       "\n",
       "                           outDestinationVault  \\\n",
       "0   0xE800e3760FC20aA98c5df6A9816147f190455AF3   \n",
       "1   0xE800e3760FC20aA98c5df6A9816147f190455AF3   \n",
       "2   0xE800e3760FC20aA98c5df6A9816147f190455AF3   \n",
       "3   0xE800e3760FC20aA98c5df6A9816147f190455AF3   \n",
       "4   0xE800e3760FC20aA98c5df6A9816147f190455AF3   \n",
       "..                                         ...   \n",
       "75  0xE800e3760FC20aA98c5df6A9816147f190455AF3   \n",
       "76  0xE800e3760FC20aA98c5df6A9816147f190455AF3   \n",
       "77  0xE800e3760FC20aA98c5df6A9816147f190455AF3   \n",
       "78  0xE800e3760FC20aA98c5df6A9816147f190455AF3   \n",
       "79  0xE800e3760FC20aA98c5df6A9816147f190455AF3   \n",
       "\n",
       "                                                 hash     block  \\\n",
       "0   0x5a6f3a2239134ef903468d88abce973e6b71e233af04...  20767364   \n",
       "1   0x46cfba2d4f806b97e71d9465ae05556bc41cb3635c5d...  20772145   \n",
       "2   0xa0ea869df690411f31e8a430670cfaea2b69a5849715...  20778301   \n",
       "3   0xca793ddcca9f1a355bf52d55d397068f49b8c43de799...  20781400   \n",
       "4   0x6ce994c065fa58c7b58d215373dcb7480aba63965013...  20786072   \n",
       "..                                                ...       ...   \n",
       "75  0x7ea296cc9d700bc8b3a817e36f343928d997bd65d3b7...  21141208   \n",
       "76  0x06c28f98ff45d82f34a0034733773a6f10c8e80fdced...  21143968   \n",
       "77  0x84da6e052ce802cd1dc77ead5d40eb124a14c4aefc46...  21148318   \n",
       "78  0xd899eb779a909d345dac9d56abbf0a842b5fe4c5914f...  21152799   \n",
       "79  0x9aa6839667424f557b48ce54eac0916b8590810d4b91...  21157284   \n",
       "\n",
       "            raw_amount_in         raw_amount_out        event_amount_in  ...  \\\n",
       "0   100512374560900536081  103024423626862362624  100512272441216991232  ...   \n",
       "1   103715830557886143959  105124100397257129984  103572485503304712192  ...   \n",
       "2   165884648743842835763  168718684271991422976  165744495431202996224  ...   \n",
       "3   188896729234516955929  191505927169537048576  188630309468137127936  ...   \n",
       "4   141824778293424392382  144375380803665870848  141824778070793191424  ...   \n",
       "..                    ...                    ...                    ...  ...   \n",
       "75   98265257997978557172  100000000000000000000   98102479908599791616  ...   \n",
       "76   98280908050360264648  100000000000000000000   98119584275799883776  ...   \n",
       "77   97770709315536396959   99483984153862750208   97613489560750473216  ...   \n",
       "78   73300808373982903832   74665379379959873536   73265691609130049536  ...   \n",
       "79   54899374897870416861   55999197248365314048   54877415333123940352  ...   \n",
       "\n",
       "    0x689dc7B5CE8e23061a8223E97701E9345764B8B7  \\\n",
       "0                                     1.014292   \n",
       "1                                     1.014539   \n",
       "2                                     1.014812   \n",
       "3                                     1.014962   \n",
       "4                                     1.015160   \n",
       "..                                         ...   \n",
       "75                                    1.018058   \n",
       "76                                    1.018410   \n",
       "77                                    1.017331   \n",
       "78                                    1.017328   \n",
       "79                                    1.017419   \n",
       "\n",
       "    0x676B34c2C2294eF070c1e9E0FCD4091Dd06393FE  \\\n",
       "0                                     1.013827   \n",
       "1                                     1.013652   \n",
       "2                                     1.013926   \n",
       "3                                     1.013939   \n",
       "4                                     1.013764   \n",
       "..                                         ...   \n",
       "75                                    1.017368   \n",
       "76                                    1.017422   \n",
       "77                                    1.017375   \n",
       "78                                    1.017412   \n",
       "79                                    1.017274   \n",
       "\n",
       "    0x1416BfE53520a71553230c3FdeeEce30d5470bA7  \\\n",
       "0                                     1.016436   \n",
       "1                                     1.015869   \n",
       "2                                     1.016686   \n",
       "3                                     1.016768   \n",
       "4                                     1.016107   \n",
       "..                                         ...   \n",
       "75                                    1.018914   \n",
       "76                                    1.018568   \n",
       "77                                    1.017863   \n",
       "78                                    1.017749   \n",
       "79                                    1.018072   \n",
       "\n",
       "    0x2F7e096a400ded5D02762120b39A3aA4ABA072a4  \\\n",
       "0                                     1.016099   \n",
       "1                                     1.016070   \n",
       "2                                     1.016337   \n",
       "3                                     1.016391   \n",
       "4                                     1.016182   \n",
       "..                                         ...   \n",
       "75                                    1.019286   \n",
       "76                                    1.019382   \n",
       "77                                    1.019488   \n",
       "78                                    1.019411   \n",
       "79                                    1.019548   \n",
       "\n",
       "    0x40219bBda953ca811d2D0168Dc806a96b84791d9  \\\n",
       "0                                          NaN   \n",
       "1                                          NaN   \n",
       "2                                          NaN   \n",
       "3                                          NaN   \n",
       "4                                          NaN   \n",
       "..                                         ...   \n",
       "75                                    1.020552   \n",
       "76                                    1.019294   \n",
       "77                                    1.019870   \n",
       "78                                    1.019175   \n",
       "79                                    1.019461   \n",
       "\n",
       "    0x148Ca723BefeA7b021C399413b8b7426A4701500  \\\n",
       "0                                     1.018699   \n",
       "1                                     1.019026   \n",
       "2                                     1.019406   \n",
       "3                                     1.019393   \n",
       "4                                     1.019049   \n",
       "..                                         ...   \n",
       "75                                    1.020552   \n",
       "76                                    1.019294   \n",
       "77                                    1.019870   \n",
       "78                                    1.019175   \n",
       "79                                    1.019461   \n",
       "\n",
       "    0xC9b5D82652a1C8214b0971A004983d0EEeDD751C  spot_value_out  spot_value_in  \\\n",
       "0                                          NaN      103.024424     102.979160   \n",
       "1                                          NaN      105.124100     105.131775   \n",
       "2                                          NaN      168.718684     168.594627   \n",
       "3                                          NaN      191.505927     191.529813   \n",
       "4                                          NaN      144.375381     144.119784   \n",
       "..                                         ...             ...            ...   \n",
       "75                                    1.018914      100.000000      99.971889   \n",
       "76                                    1.018568      100.000000      99.993196   \n",
       "77                                    1.017863       99.483984      99.469439   \n",
       "78                                    1.017749       74.665379      74.577089   \n",
       "79                                    1.018072       55.999197      55.967794   \n",
       "\n",
       "    spot_value_swap_cost  \n",
       "0               0.045264  \n",
       "1              -0.007675  \n",
       "2               0.124057  \n",
       "3              -0.023886  \n",
       "4               0.255597  \n",
       "..                   ...  \n",
       "75              0.028111  \n",
       "76              0.006804  \n",
       "77              0.014545  \n",
       "78              0.088291  \n",
       "79              0.031403  \n",
       "\n",
       "[80 rows x 33 columns]"
      ]
     },
     "execution_count": 5,
     "metadata": {},
     "output_type": "execute_result"
    }
   ],
   "source": []
  },
  {
   "cell_type": "code",
   "execution_count": null,
   "metadata": {},
   "outputs": [
    {
     "data": {
      "application/vnd.plotly.v1+json": {
       "config": {
        "plotlyServerURL": "https://plot.ly"
       },
       "data": [
        {
         "hovertemplate": "variable=swapCost<br>index=%{x}<br>value=%{y}<extra></extra>",
         "legendgroup": "swapCost",
         "line": {
          "color": "#636efa",
          "dash": "solid"
         },
         "marker": {
          "symbol": "circle"
         },
         "mode": "lines",
         "name": "swapCost",
         "orientation": "v",
         "showlegend": true,
         "type": "scatter",
         "x": [
          0,
          1,
          2,
          3,
          4,
          5,
          6,
          7,
          8,
          9,
          10,
          11,
          12,
          13,
          14,
          15,
          16,
          17,
          18,
          19,
          20,
          21,
          22,
          23,
          24,
          25,
          26,
          27,
          28,
          29,
          30,
          31,
          32,
          33,
          34,
          35,
          36,
          37,
          38,
          39,
          40,
          41,
          42,
          43,
          44,
          45,
          46,
          47,
          48,
          49,
          50,
          51,
          52,
          53,
          54,
          55,
          56,
          57,
          58,
          59,
          60,
          61,
          62,
          63,
          64,
          65,
          66,
          67,
          68,
          69,
          70,
          71,
          72,
          73,
          74,
          75,
          76,
          77,
          78,
          79
         ],
         "xaxis": "x",
         "y": [
          0.04536831306865093,
          0.18299557997029145,
          0.449495848540867,
          0.6957436268023363,
          0.9513409749407977,
          1.063788378038777,
          1.1190160176712691,
          1.3017650948387838,
          1.4454855351810822,
          1.5504355692832683,
          1.625314286243859,
          1.68431540993973,
          1.7006673409286723,
          1.7492089880184354,
          1.7880897164120388,
          1.852497738940911,
          1.9115613765337047,
          1.9411566734395664,
          1.97731537173129,
          2.0489085437977725,
          2.076053187505043,
          2.1293139156332415,
          2.1687651279115614,
          2.225510652387556,
          2.2896499582473817,
          2.4013132408799316,
          2.4471706047146453,
          2.4847973647672914,
          2.5763235346672566,
          2.6748064101690057,
          2.739525462904639,
          2.757538020751908,
          2.7795528651502157,
          2.795725296728186,
          2.8512523815178326,
          2.8714547301937294,
          2.925567737658948,
          2.925567737658948,
          2.9669911151766275,
          3.0094271535068255,
          3.0094271535068255,
          3.0141471318239765,
          3.107861533488533,
          3.7171325087188065,
          4.272907086495648,
          4.690451903097913,
          5.000581971898911,
          5.222729904816552,
          5.401242741282134,
          5.481158123394209,
          5.589873776511413,
          5.72700054221797,
          5.748761617138632,
          5.815346038307683,
          5.817900216558619,
          5.850846429702989,
          5.859962317867432,
          5.8644566140647205,
          5.914654898117865,
          5.966397584642082,
          6.029928850136743,
          6.128676469714631,
          6.184828152506809,
          6.207546930114062,
          6.274850467161583,
          6.299459903695669,
          6.361728994761659,
          6.362721593985986,
          6.410752689295505,
          6.4513041464690515,
          6.468062782943386,
          6.538542546071441,
          6.616543774611215,
          6.6734392308099375,
          6.7192654875410724,
          6.912982024371778,
          7.083920901715433,
          7.258417408827845,
          7.3816019663672146,
          7.435392228553416
         ],
         "yaxis": "y"
        },
        {
         "hovertemplate": "variable=spot_value_swap_cost<br>index=%{x}<br>value=%{y}<extra></extra>",
         "legendgroup": "spot_value_swap_cost",
         "line": {
          "color": "#EF553B",
          "dash": "solid"
         },
         "marker": {
          "symbol": "circle"
         },
         "mode": "lines",
         "name": "spot_value_swap_cost",
         "orientation": "v",
         "showlegend": true,
         "type": "scatter",
         "x": [
          0,
          1,
          2,
          3,
          4,
          5,
          6,
          7,
          8,
          9,
          10,
          11,
          12,
          13,
          14,
          15,
          16,
          17,
          18,
          19,
          20,
          21,
          22,
          23,
          24,
          25,
          26,
          27,
          28,
          29,
          30,
          31,
          32,
          33,
          34,
          35,
          36,
          37,
          38,
          39,
          40,
          41,
          42,
          43,
          44,
          45,
          46,
          47,
          48,
          49,
          50,
          51,
          52,
          53,
          54,
          55,
          56,
          57,
          58,
          59,
          60,
          61,
          62,
          63,
          64,
          65,
          66,
          67,
          68,
          69,
          70,
          71,
          72,
          73,
          74,
          75,
          76,
          77,
          78,
          79
         ],
         "xaxis": "x",
         "y": [
          0.0452636871529819,
          0.037588930567878265,
          0.1616462688434268,
          0.13776058210139297,
          0.39335770400604986,
          0.46827843338111563,
          0.5172741820970401,
          0.6427454245600899,
          0.6534549057726764,
          0.6648791175170885,
          0.6778238472529097,
          0.7037735174216522,
          0.7135960368854413,
          0.7293877719754605,
          0.7403380110438533,
          -2.708488935878357,
          -2.668931069197434,
          -2.6488257270683846,
          -2.6129748130026798,
          -2.5516690501099077,
          -2.5264925421487447,
          -2.504961752459309,
          -2.484696768688522,
          -2.4670464147804694,
          -2.4040220644544377,
          -2.4256448407106745,
          -2.3990975947033135,
          -2.375949491051351,
          -2.3226694721788945,
          -2.317232697336543,
          -2.2983023664894944,
          -2.2910392108158106,
          -2.2857891758159212,
          -2.283423912628624,
          -2.227966798184813,
          -2.2082517925385226,
          -2.185107795838352,
          -2.185107795838352,
          -2.1789998884797264,
          -2.1667301991910115,
          -2.1735011799496373,
          -2.17159892327669,
          -2.0778845282709284,
          -1.9867193549709867,
          -1.895812437361073,
          -1.8176152376479848,
          -1.7814965407245182,
          -1.766311560003416,
          -1.7486079659224032,
          -1.7436148915990017,
          -1.7328998940738458,
          -1.7274820892759166,
          -1.8813206160978346,
          -1.8522891336001628,
          -1.8567446641762435,
          -1.847117467038913,
          -1.8419971329009053,
          -1.8402701520738536,
          -1.8214125192963746,
          -1.7696698443028407,
          -1.706138916851857,
          -1.607391351390768,
          -1.5951600614644061,
          -1.5838602634472043,
          -1.5165571612267545,
          -1.5027016639488278,
          -1.4746473836530367,
          -1.4741118113662863,
          -1.4260825953880611,
          -1.3855351499551616,
          -1.3687770605404785,
          -1.3062108686692233,
          -1.252181835684579,
          -1.2125156145307066,
          -1.1667081846881735,
          -1.1385968001968059,
          -1.1317923417868747,
          -1.1172472242415927,
          -1.0289565026928762,
          -0.9975531692554731
         ],
         "yaxis": "y"
        }
       ],
       "layout": {
        "legend": {
         "title": {
          "text": "variable"
         },
         "tracegroupgap": 0
        },
        "margin": {
         "t": 60
        },
        "template": {
         "data": {
          "bar": [
           {
            "error_x": {
             "color": "#2a3f5f"
            },
            "error_y": {
             "color": "#2a3f5f"
            },
            "marker": {
             "line": {
              "color": "#E5ECF6",
              "width": 0.5
             },
             "pattern": {
              "fillmode": "overlay",
              "size": 10,
              "solidity": 0.2
             }
            },
            "type": "bar"
           }
          ],
          "barpolar": [
           {
            "marker": {
             "line": {
              "color": "#E5ECF6",
              "width": 0.5
             },
             "pattern": {
              "fillmode": "overlay",
              "size": 10,
              "solidity": 0.2
             }
            },
            "type": "barpolar"
           }
          ],
          "carpet": [
           {
            "aaxis": {
             "endlinecolor": "#2a3f5f",
             "gridcolor": "white",
             "linecolor": "white",
             "minorgridcolor": "white",
             "startlinecolor": "#2a3f5f"
            },
            "baxis": {
             "endlinecolor": "#2a3f5f",
             "gridcolor": "white",
             "linecolor": "white",
             "minorgridcolor": "white",
             "startlinecolor": "#2a3f5f"
            },
            "type": "carpet"
           }
          ],
          "choropleth": [
           {
            "colorbar": {
             "outlinewidth": 0,
             "ticks": ""
            },
            "type": "choropleth"
           }
          ],
          "contour": [
           {
            "colorbar": {
             "outlinewidth": 0,
             "ticks": ""
            },
            "colorscale": [
             [
              0,
              "#0d0887"
             ],
             [
              0.1111111111111111,
              "#46039f"
             ],
             [
              0.2222222222222222,
              "#7201a8"
             ],
             [
              0.3333333333333333,
              "#9c179e"
             ],
             [
              0.4444444444444444,
              "#bd3786"
             ],
             [
              0.5555555555555556,
              "#d8576b"
             ],
             [
              0.6666666666666666,
              "#ed7953"
             ],
             [
              0.7777777777777778,
              "#fb9f3a"
             ],
             [
              0.8888888888888888,
              "#fdca26"
             ],
             [
              1,
              "#f0f921"
             ]
            ],
            "type": "contour"
           }
          ],
          "contourcarpet": [
           {
            "colorbar": {
             "outlinewidth": 0,
             "ticks": ""
            },
            "type": "contourcarpet"
           }
          ],
          "heatmap": [
           {
            "colorbar": {
             "outlinewidth": 0,
             "ticks": ""
            },
            "colorscale": [
             [
              0,
              "#0d0887"
             ],
             [
              0.1111111111111111,
              "#46039f"
             ],
             [
              0.2222222222222222,
              "#7201a8"
             ],
             [
              0.3333333333333333,
              "#9c179e"
             ],
             [
              0.4444444444444444,
              "#bd3786"
             ],
             [
              0.5555555555555556,
              "#d8576b"
             ],
             [
              0.6666666666666666,
              "#ed7953"
             ],
             [
              0.7777777777777778,
              "#fb9f3a"
             ],
             [
              0.8888888888888888,
              "#fdca26"
             ],
             [
              1,
              "#f0f921"
             ]
            ],
            "type": "heatmap"
           }
          ],
          "heatmapgl": [
           {
            "colorbar": {
             "outlinewidth": 0,
             "ticks": ""
            },
            "colorscale": [
             [
              0,
              "#0d0887"
             ],
             [
              0.1111111111111111,
              "#46039f"
             ],
             [
              0.2222222222222222,
              "#7201a8"
             ],
             [
              0.3333333333333333,
              "#9c179e"
             ],
             [
              0.4444444444444444,
              "#bd3786"
             ],
             [
              0.5555555555555556,
              "#d8576b"
             ],
             [
              0.6666666666666666,
              "#ed7953"
             ],
             [
              0.7777777777777778,
              "#fb9f3a"
             ],
             [
              0.8888888888888888,
              "#fdca26"
             ],
             [
              1,
              "#f0f921"
             ]
            ],
            "type": "heatmapgl"
           }
          ],
          "histogram": [
           {
            "marker": {
             "pattern": {
              "fillmode": "overlay",
              "size": 10,
              "solidity": 0.2
             }
            },
            "type": "histogram"
           }
          ],
          "histogram2d": [
           {
            "colorbar": {
             "outlinewidth": 0,
             "ticks": ""
            },
            "colorscale": [
             [
              0,
              "#0d0887"
             ],
             [
              0.1111111111111111,
              "#46039f"
             ],
             [
              0.2222222222222222,
              "#7201a8"
             ],
             [
              0.3333333333333333,
              "#9c179e"
             ],
             [
              0.4444444444444444,
              "#bd3786"
             ],
             [
              0.5555555555555556,
              "#d8576b"
             ],
             [
              0.6666666666666666,
              "#ed7953"
             ],
             [
              0.7777777777777778,
              "#fb9f3a"
             ],
             [
              0.8888888888888888,
              "#fdca26"
             ],
             [
              1,
              "#f0f921"
             ]
            ],
            "type": "histogram2d"
           }
          ],
          "histogram2dcontour": [
           {
            "colorbar": {
             "outlinewidth": 0,
             "ticks": ""
            },
            "colorscale": [
             [
              0,
              "#0d0887"
             ],
             [
              0.1111111111111111,
              "#46039f"
             ],
             [
              0.2222222222222222,
              "#7201a8"
             ],
             [
              0.3333333333333333,
              "#9c179e"
             ],
             [
              0.4444444444444444,
              "#bd3786"
             ],
             [
              0.5555555555555556,
              "#d8576b"
             ],
             [
              0.6666666666666666,
              "#ed7953"
             ],
             [
              0.7777777777777778,
              "#fb9f3a"
             ],
             [
              0.8888888888888888,
              "#fdca26"
             ],
             [
              1,
              "#f0f921"
             ]
            ],
            "type": "histogram2dcontour"
           }
          ],
          "mesh3d": [
           {
            "colorbar": {
             "outlinewidth": 0,
             "ticks": ""
            },
            "type": "mesh3d"
           }
          ],
          "parcoords": [
           {
            "line": {
             "colorbar": {
              "outlinewidth": 0,
              "ticks": ""
             }
            },
            "type": "parcoords"
           }
          ],
          "pie": [
           {
            "automargin": true,
            "type": "pie"
           }
          ],
          "scatter": [
           {
            "fillpattern": {
             "fillmode": "overlay",
             "size": 10,
             "solidity": 0.2
            },
            "type": "scatter"
           }
          ],
          "scatter3d": [
           {
            "line": {
             "colorbar": {
              "outlinewidth": 0,
              "ticks": ""
             }
            },
            "marker": {
             "colorbar": {
              "outlinewidth": 0,
              "ticks": ""
             }
            },
            "type": "scatter3d"
           }
          ],
          "scattercarpet": [
           {
            "marker": {
             "colorbar": {
              "outlinewidth": 0,
              "ticks": ""
             }
            },
            "type": "scattercarpet"
           }
          ],
          "scattergeo": [
           {
            "marker": {
             "colorbar": {
              "outlinewidth": 0,
              "ticks": ""
             }
            },
            "type": "scattergeo"
           }
          ],
          "scattergl": [
           {
            "marker": {
             "colorbar": {
              "outlinewidth": 0,
              "ticks": ""
             }
            },
            "type": "scattergl"
           }
          ],
          "scattermapbox": [
           {
            "marker": {
             "colorbar": {
              "outlinewidth": 0,
              "ticks": ""
             }
            },
            "type": "scattermapbox"
           }
          ],
          "scatterpolar": [
           {
            "marker": {
             "colorbar": {
              "outlinewidth": 0,
              "ticks": ""
             }
            },
            "type": "scatterpolar"
           }
          ],
          "scatterpolargl": [
           {
            "marker": {
             "colorbar": {
              "outlinewidth": 0,
              "ticks": ""
             }
            },
            "type": "scatterpolargl"
           }
          ],
          "scatterternary": [
           {
            "marker": {
             "colorbar": {
              "outlinewidth": 0,
              "ticks": ""
             }
            },
            "type": "scatterternary"
           }
          ],
          "surface": [
           {
            "colorbar": {
             "outlinewidth": 0,
             "ticks": ""
            },
            "colorscale": [
             [
              0,
              "#0d0887"
             ],
             [
              0.1111111111111111,
              "#46039f"
             ],
             [
              0.2222222222222222,
              "#7201a8"
             ],
             [
              0.3333333333333333,
              "#9c179e"
             ],
             [
              0.4444444444444444,
              "#bd3786"
             ],
             [
              0.5555555555555556,
              "#d8576b"
             ],
             [
              0.6666666666666666,
              "#ed7953"
             ],
             [
              0.7777777777777778,
              "#fb9f3a"
             ],
             [
              0.8888888888888888,
              "#fdca26"
             ],
             [
              1,
              "#f0f921"
             ]
            ],
            "type": "surface"
           }
          ],
          "table": [
           {
            "cells": {
             "fill": {
              "color": "#EBF0F8"
             },
             "line": {
              "color": "white"
             }
            },
            "header": {
             "fill": {
              "color": "#C8D4E3"
             },
             "line": {
              "color": "white"
             }
            },
            "type": "table"
           }
          ]
         },
         "layout": {
          "annotationdefaults": {
           "arrowcolor": "#2a3f5f",
           "arrowhead": 0,
           "arrowwidth": 1
          },
          "autotypenumbers": "strict",
          "coloraxis": {
           "colorbar": {
            "outlinewidth": 0,
            "ticks": ""
           }
          },
          "colorscale": {
           "diverging": [
            [
             0,
             "#8e0152"
            ],
            [
             0.1,
             "#c51b7d"
            ],
            [
             0.2,
             "#de77ae"
            ],
            [
             0.3,
             "#f1b6da"
            ],
            [
             0.4,
             "#fde0ef"
            ],
            [
             0.5,
             "#f7f7f7"
            ],
            [
             0.6,
             "#e6f5d0"
            ],
            [
             0.7,
             "#b8e186"
            ],
            [
             0.8,
             "#7fbc41"
            ],
            [
             0.9,
             "#4d9221"
            ],
            [
             1,
             "#276419"
            ]
           ],
           "sequential": [
            [
             0,
             "#0d0887"
            ],
            [
             0.1111111111111111,
             "#46039f"
            ],
            [
             0.2222222222222222,
             "#7201a8"
            ],
            [
             0.3333333333333333,
             "#9c179e"
            ],
            [
             0.4444444444444444,
             "#bd3786"
            ],
            [
             0.5555555555555556,
             "#d8576b"
            ],
            [
             0.6666666666666666,
             "#ed7953"
            ],
            [
             0.7777777777777778,
             "#fb9f3a"
            ],
            [
             0.8888888888888888,
             "#fdca26"
            ],
            [
             1,
             "#f0f921"
            ]
           ],
           "sequentialminus": [
            [
             0,
             "#0d0887"
            ],
            [
             0.1111111111111111,
             "#46039f"
            ],
            [
             0.2222222222222222,
             "#7201a8"
            ],
            [
             0.3333333333333333,
             "#9c179e"
            ],
            [
             0.4444444444444444,
             "#bd3786"
            ],
            [
             0.5555555555555556,
             "#d8576b"
            ],
            [
             0.6666666666666666,
             "#ed7953"
            ],
            [
             0.7777777777777778,
             "#fb9f3a"
            ],
            [
             0.8888888888888888,
             "#fdca26"
            ],
            [
             1,
             "#f0f921"
            ]
           ]
          },
          "colorway": [
           "#636efa",
           "#EF553B",
           "#00cc96",
           "#ab63fa",
           "#FFA15A",
           "#19d3f3",
           "#FF6692",
           "#B6E880",
           "#FF97FF",
           "#FECB52"
          ],
          "font": {
           "color": "#2a3f5f"
          },
          "geo": {
           "bgcolor": "white",
           "lakecolor": "white",
           "landcolor": "#E5ECF6",
           "showlakes": true,
           "showland": true,
           "subunitcolor": "white"
          },
          "hoverlabel": {
           "align": "left"
          },
          "hovermode": "closest",
          "mapbox": {
           "style": "light"
          },
          "paper_bgcolor": "white",
          "plot_bgcolor": "#E5ECF6",
          "polar": {
           "angularaxis": {
            "gridcolor": "white",
            "linecolor": "white",
            "ticks": ""
           },
           "bgcolor": "#E5ECF6",
           "radialaxis": {
            "gridcolor": "white",
            "linecolor": "white",
            "ticks": ""
           }
          },
          "scene": {
           "xaxis": {
            "backgroundcolor": "#E5ECF6",
            "gridcolor": "white",
            "gridwidth": 2,
            "linecolor": "white",
            "showbackground": true,
            "ticks": "",
            "zerolinecolor": "white"
           },
           "yaxis": {
            "backgroundcolor": "#E5ECF6",
            "gridcolor": "white",
            "gridwidth": 2,
            "linecolor": "white",
            "showbackground": true,
            "ticks": "",
            "zerolinecolor": "white"
           },
           "zaxis": {
            "backgroundcolor": "#E5ECF6",
            "gridcolor": "white",
            "gridwidth": 2,
            "linecolor": "white",
            "showbackground": true,
            "ticks": "",
            "zerolinecolor": "white"
           }
          },
          "shapedefaults": {
           "line": {
            "color": "#2a3f5f"
           }
          },
          "ternary": {
           "aaxis": {
            "gridcolor": "white",
            "linecolor": "white",
            "ticks": ""
           },
           "baxis": {
            "gridcolor": "white",
            "linecolor": "white",
            "ticks": ""
           },
           "bgcolor": "#E5ECF6",
           "caxis": {
            "gridcolor": "white",
            "linecolor": "white",
            "ticks": ""
           }
          },
          "title": {
           "x": 0.05
          },
          "xaxis": {
           "automargin": true,
           "gridcolor": "white",
           "linecolor": "white",
           "ticks": "",
           "title": {
            "standoff": 15
           },
           "zerolinecolor": "white",
           "zerolinewidth": 2
          },
          "yaxis": {
           "automargin": true,
           "gridcolor": "white",
           "linecolor": "white",
           "ticks": "",
           "title": {
            "standoff": 15
           },
           "zerolinecolor": "white",
           "zerolinewidth": 2
          }
         }
        },
        "xaxis": {
         "anchor": "y",
         "domain": [
          0,
          1
         ],
         "title": {
          "text": "index"
         }
        },
        "yaxis": {
         "anchor": "x",
         "domain": [
          0,
          1
         ],
         "title": {
          "text": "value"
         }
        }
       }
      }
     },
     "metadata": {},
     "output_type": "display_data"
    }
   ],
   "source": []
  },
  {
   "cell_type": "code",
   "execution_count": null,
   "metadata": {},
   "outputs": [],
   "source": [
    "break"
   ]
  },
  {
   "cell_type": "code",
   "execution_count": 7,
   "metadata": {},
   "outputs": [
    {
     "data": {
      "text/plain": [
       "Index(['contract_address', 'amountIn', 'amountOut', 'inDestinationVault',\n",
       "       'outDestinationVault', 'hash', 'block', 'raw_amount_in',\n",
       "       'raw_amount_out', 'event_amount_in', 'swapCost',\n",
       "       '0x5c6aeb9ef0d5BbA4E6691f381003503FD0D45126',\n",
       "       '0x3B2C87Ed95483059b950155a68E906d543193d5C',\n",
       "       '0xE800e3760FC20aA98c5df6A9816147f190455AF3',\n",
       "       '0x777FAf85c8E5FC6f4332E56B989C5C94201A273C',\n",
       "       '0x2f2CC1bf461413014741dD68481dB4a3686DAC3D',\n",
       "       '0xB6d68122428Dc1141467cB96791618615Ab9F746',\n",
       "       '0x60339056EC88996e41757E05a798310E46972cca',\n",
       "       '0xC4c973eDC82CB6b972C555672B4e63713C177995',\n",
       "       '0x4E12227b350E8f8fEEc41A58D36cE2fB2e2d4575',\n",
       "       '0x90300b02b162F902B9629963830BcCCdeEd71113',\n",
       "       '0xf9779aEF9f77e78C857CB4A068c65CcBee25BAAc',\n",
       "       '0x17216C32B9134343258B05807405db02BE030acd',\n",
       "       '0x689dc7B5CE8e23061a8223E97701E9345764B8B7',\n",
       "       '0x676B34c2C2294eF070c1e9E0FCD4091Dd06393FE',\n",
       "       '0x1416BfE53520a71553230c3FdeeEce30d5470bA7',\n",
       "       '0x2F7e096a400ded5D02762120b39A3aA4ABA072a4',\n",
       "       '0x40219bBda953ca811d2D0168Dc806a96b84791d9',\n",
       "       '0x148Ca723BefeA7b021C399413b8b7426A4701500',\n",
       "       '0xC9b5D82652a1C8214b0971A004983d0EEeDD751C', 'spot_value_out',\n",
       "       'spot_value_in', 'spot_value_swap_cost'],\n",
       "      dtype='object')"
      ]
     },
     "execution_count": 7,
     "metadata": {},
     "output_type": "execute_result"
    }
   ],
   "source": [
    "amounts_with_spot_values.columns"
   ]
  },
  {
   "cell_type": "code",
   "execution_count": 8,
   "metadata": {},
   "outputs": [
    {
     "data": {
      "text/html": [
       "<div>\n",
       "<style scoped>\n",
       "    .dataframe tbody tr th:only-of-type {\n",
       "        vertical-align: middle;\n",
       "    }\n",
       "\n",
       "    .dataframe tbody tr th {\n",
       "        vertical-align: top;\n",
       "    }\n",
       "\n",
       "    .dataframe thead th {\n",
       "        text-align: right;\n",
       "    }\n",
       "</style>\n",
       "<table border=\"1\" class=\"dataframe\">\n",
       "  <thead>\n",
       "    <tr style=\"text-align: right;\">\n",
       "      <th></th>\n",
       "      <th>outDestinationVault</th>\n",
       "      <th>hash</th>\n",
       "      <th>amountOut</th>\n",
       "    </tr>\n",
       "  </thead>\n",
       "  <tbody>\n",
       "    <tr>\n",
       "      <th>0</th>\n",
       "      <td>0xE800e3760FC20aA98c5df6A9816147f190455AF3</td>\n",
       "      <td>0x5a6f3a2239134ef903468d88abce973e6b71e233af04...</td>\n",
       "      <td>103.024424</td>\n",
       "    </tr>\n",
       "    <tr>\n",
       "      <th>1</th>\n",
       "      <td>0xE800e3760FC20aA98c5df6A9816147f190455AF3</td>\n",
       "      <td>0x46cfba2d4f806b97e71d9465ae05556bc41cb3635c5d...</td>\n",
       "      <td>105.124100</td>\n",
       "    </tr>\n",
       "    <tr>\n",
       "      <th>2</th>\n",
       "      <td>0xE800e3760FC20aA98c5df6A9816147f190455AF3</td>\n",
       "      <td>0xa0ea869df690411f31e8a430670cfaea2b69a5849715...</td>\n",
       "      <td>168.718684</td>\n",
       "    </tr>\n",
       "    <tr>\n",
       "      <th>3</th>\n",
       "      <td>0xE800e3760FC20aA98c5df6A9816147f190455AF3</td>\n",
       "      <td>0xca793ddcca9f1a355bf52d55d397068f49b8c43de799...</td>\n",
       "      <td>191.505927</td>\n",
       "    </tr>\n",
       "    <tr>\n",
       "      <th>4</th>\n",
       "      <td>0xE800e3760FC20aA98c5df6A9816147f190455AF3</td>\n",
       "      <td>0x6ce994c065fa58c7b58d215373dcb7480aba63965013...</td>\n",
       "      <td>144.375381</td>\n",
       "    </tr>\n",
       "    <tr>\n",
       "      <th>...</th>\n",
       "      <td>...</td>\n",
       "      <td>...</td>\n",
       "      <td>...</td>\n",
       "    </tr>\n",
       "    <tr>\n",
       "      <th>78</th>\n",
       "      <td>0xE800e3760FC20aA98c5df6A9816147f190455AF3</td>\n",
       "      <td>0x7ea296cc9d700bc8b3a817e36f343928d997bd65d3b7...</td>\n",
       "      <td>100.000000</td>\n",
       "    </tr>\n",
       "    <tr>\n",
       "      <th>79</th>\n",
       "      <td>0xE800e3760FC20aA98c5df6A9816147f190455AF3</td>\n",
       "      <td>0x06c28f98ff45d82f34a0034733773a6f10c8e80fdced...</td>\n",
       "      <td>100.000000</td>\n",
       "    </tr>\n",
       "    <tr>\n",
       "      <th>80</th>\n",
       "      <td>0xE800e3760FC20aA98c5df6A9816147f190455AF3</td>\n",
       "      <td>0x84da6e052ce802cd1dc77ead5d40eb124a14c4aefc46...</td>\n",
       "      <td>99.483984</td>\n",
       "    </tr>\n",
       "    <tr>\n",
       "      <th>81</th>\n",
       "      <td>0xE800e3760FC20aA98c5df6A9816147f190455AF3</td>\n",
       "      <td>0xd899eb779a909d345dac9d56abbf0a842b5fe4c5914f...</td>\n",
       "      <td>74.665379</td>\n",
       "    </tr>\n",
       "    <tr>\n",
       "      <th>82</th>\n",
       "      <td>0xE800e3760FC20aA98c5df6A9816147f190455AF3</td>\n",
       "      <td>0x9aa6839667424f557b48ce54eac0916b8590810d4b91...</td>\n",
       "      <td>55.999197</td>\n",
       "    </tr>\n",
       "  </tbody>\n",
       "</table>\n",
       "<p>80 rows × 3 columns</p>\n",
       "</div>"
      ],
      "text/plain": [
       "                           outDestinationVault  \\\n",
       "0   0xE800e3760FC20aA98c5df6A9816147f190455AF3   \n",
       "1   0xE800e3760FC20aA98c5df6A9816147f190455AF3   \n",
       "2   0xE800e3760FC20aA98c5df6A9816147f190455AF3   \n",
       "3   0xE800e3760FC20aA98c5df6A9816147f190455AF3   \n",
       "4   0xE800e3760FC20aA98c5df6A9816147f190455AF3   \n",
       "..                                         ...   \n",
       "78  0xE800e3760FC20aA98c5df6A9816147f190455AF3   \n",
       "79  0xE800e3760FC20aA98c5df6A9816147f190455AF3   \n",
       "80  0xE800e3760FC20aA98c5df6A9816147f190455AF3   \n",
       "81  0xE800e3760FC20aA98c5df6A9816147f190455AF3   \n",
       "82  0xE800e3760FC20aA98c5df6A9816147f190455AF3   \n",
       "\n",
       "                                                 hash   amountOut  \n",
       "0   0x5a6f3a2239134ef903468d88abce973e6b71e233af04...  103.024424  \n",
       "1   0x46cfba2d4f806b97e71d9465ae05556bc41cb3635c5d...  105.124100  \n",
       "2   0xa0ea869df690411f31e8a430670cfaea2b69a5849715...  168.718684  \n",
       "3   0xca793ddcca9f1a355bf52d55d397068f49b8c43de799...  191.505927  \n",
       "4   0x6ce994c065fa58c7b58d215373dcb7480aba63965013...  144.375381  \n",
       "..                                                ...         ...  \n",
       "78  0x7ea296cc9d700bc8b3a817e36f343928d997bd65d3b7...  100.000000  \n",
       "79  0x06c28f98ff45d82f34a0034733773a6f10c8e80fdced...  100.000000  \n",
       "80  0x84da6e052ce802cd1dc77ead5d40eb124a14c4aefc46...   99.483984  \n",
       "81  0xd899eb779a909d345dac9d56abbf0a842b5fe4c5914f...   74.665379  \n",
       "82  0x9aa6839667424f557b48ce54eac0916b8590810d4b91...   55.999197  \n",
       "\n",
       "[80 rows x 3 columns]"
      ]
     },
     "execution_count": 8,
     "metadata": {},
     "output_type": "execute_result"
    }
   ],
   "source": [
    "rebalances_we_can_compute_swap_costs_for = rebalance_between_destinations_df[rebalance_between_destinations_df['hash'].isin(valid_underlying_deposited_df['hash'])].copy()\n",
    "\n",
    "rebalances_we_can_compute_swap_costs_for[['outDestinationVault', 'hash', 'amountOut']]"
   ]
  },
  {
   "cell_type": "code",
   "execution_count": 9,
   "metadata": {},
   "outputs": [
    {
     "ename": "SyntaxError",
     "evalue": "invalid syntax (3529762651.py, line 1)",
     "output_type": "error",
     "traceback": [
      "\u001b[0;36m  Cell \u001b[0;32mIn[9], line 1\u001b[0;36m\u001b[0m\n\u001b[0;31m    114 -\u001b[0m\n\u001b[0m         ^\u001b[0m\n\u001b[0;31mSyntaxError\u001b[0m\u001b[0;31m:\u001b[0m invalid syntax\n"
     ]
    }
   ],
   "source": [
    "114 -"
   ]
  },
  {
   "cell_type": "code",
   "execution_count": null,
   "metadata": {},
   "outputs": [],
   "source": [
    "valid_underlying_deposited_df"
   ]
  },
  {
   "cell_type": "code",
   "execution_count": null,
   "metadata": {},
   "outputs": [],
   "source": [
    "valid_underlying_deposited_df['amount']"
   ]
  },
  {
   "cell_type": "code",
   "execution_count": null,
   "metadata": {},
   "outputs": [],
   "source": [
    "valid_underlying_deposited_df['contract_address'].value_counts()"
   ]
  },
  {
   "cell_type": "code",
   "execution_count": null,
   "metadata": {},
   "outputs": [],
   "source": [
    "hashes_to_exclude = UnderlyingDeposited_df['hash'].value_counts()[UnderlyingDeposited_df['hash'].value_counts() > 1].index\n",
    "# sunseting destiantions throws the math off and has 0 slippage anyway\n",
    "hashes_to_exclude"
   ]
  },
  {
   "cell_type": "code",
   "execution_count": null,
   "metadata": {},
   "outputs": [],
   "source": [
    "# 0x084dfee5800acd5bda5e48485e68e87c015fca770376eeef36405654a184e005    2\n",
    "# 0xbe9e2919f268121cc55f8466e7af702b6c0dd312134ee746e4600878e79efe9b    2\n",
    "# 0xa9b7e57b8202064b6fd48accbcfea54cb08fbb362638aa47681203c5daf7b722    2\n",
    "UnderlyingDeposited_df[UnderlyingDeposited_df['hash'] == '0xbe9e2919f268121cc55f8466e7af702b6c0dd312134ee746e4600878e79efe9b']"
   ]
  },
  {
   "cell_type": "code",
   "execution_count": null,
   "metadata": {},
   "outputs": [],
   "source": [
    "UnderlyingWithdraw_df[UnderlyingWithdraw_df['hash'] == '0xbe9e2919f268121cc55f8466e7af702b6c0dd312134ee746e4600878e79efe9b']"
   ]
  },
  {
   "cell_type": "code",
   "execution_count": null,
   "metadata": {},
   "outputs": [],
   "source": [
    "rebalance_between_destinations_df.columns"
   ]
  },
  {
   "cell_type": "code",
   "execution_count": null,
   "metadata": {},
   "outputs": [],
   "source": [
    "cols = ['hash', 'amountOut', 'outDestinationVault']\n",
    "# 0xE800e3760FC20aA98c5df6A9816147f190455AF3 == autoLRT vault, all WETH\n",
    "rebalance_between_destinations_df[cols]['outDestinationVault'].value_counts()"
   ]
  },
  {
   "cell_type": "code",
   "execution_count": null,
   "metadata": {},
   "outputs": [],
   "source": [
    "UnderlyingDeposited_df['hash'].value_counts()"
   ]
  },
  {
   "cell_type": "code",
   "execution_count": null,
   "metadata": {},
   "outputs": [],
   "source": []
  },
  {
   "cell_type": "code",
   "execution_count": null,
   "metadata": {},
   "outputs": [],
   "source": [
    "# amount "
   ]
  },
  {
   "cell_type": "code",
   "execution_count": null,
   "metadata": {},
   "outputs": [],
   "source": [
    "rebalance_between_destinations_df['hash'].value_counts()"
   ]
  },
  {
   "cell_type": "code",
   "execution_count": null,
   "metadata": {},
   "outputs": [],
   "source": [
    "RebalanceBetweenDestinations, RebalanceToIdle, SuccessfulRebalanceBetweenDestinations = dfs\n",
    "RebalanceBetweenDestinations.shape, RebalanceToIdle.shape, SuccessfulRebalanceBetweenDestinations.shape"
   ]
  },
  {
   "cell_type": "code",
   "execution_count": null,
   "metadata": {},
   "outputs": [],
   "source": [
    "RebalanceToIdle[\"tokenIn\"] = RebalanceToIdle[\"params\"].apply(\n",
    "    lambda x: eth_client.toChecksumAddress(x[1])\n",
    ")\n",
    "\n",
    "RebalanceToIdle[\"tokenOut\"] = RebalanceToIdle[\"params\"].apply(\n",
    "    lambda x: eth_client.toChecksumAddress(x[4])\n",
    ")\n",
    "\n",
    "RebalanceToIdle[\"amountOut\"] = RebalanceToIdle[\"params\"].apply(\n",
    "    lambda x: x[5]\n",
    "    / 1e18  # the amout of lp tokens taken out is always correct, what we don't know is the amount of lp tokens going in\n",
    "    )\n",
    "RebalanceToIdle"
   ]
  },
  {
   "cell_type": "code",
   "execution_count": null,
   "metadata": {},
   "outputs": [],
   "source": [
    "RebalanceToIdle['hash'].values"
   ]
  },
  {
   "cell_type": "code",
   "execution_count": null,
   "metadata": {},
   "outputs": [],
   "source": [
    "RebalanceToIdle['hash'].isin(RebalanceBetweenDestinations['hash'])"
   ]
  },
  {
   "cell_type": "code",
   "execution_count": null,
   "metadata": {},
   "outputs": [],
   "source": [
    "SuccessfulRebalanceBetweenDestinations['hash'].isin(RebalanceBetweenDestinations['hash'])"
   ]
  },
  {
   "cell_type": "code",
   "execution_count": null,
   "metadata": {},
   "outputs": [],
   "source": [
    "0x084dfee5800acd5bda5e48485e68e87c015fca770376eeef36405654a184e005    2\n",
    "0xbe9e2919f268121cc55f8466e7af702b6c0dd312134ee746e4600878e79efe9b    2\n",
    "0xa9b7e57b8202064b6fd48accbcfea54cb08fbb362638aa47681203c5daf7b722    2\n",
    "UnderlyingDeposited_df[UnderlyingDeposited_df['hash'] == '0xbe9e2919f268121cc55f8466e7af702b6c0dd312134ee746e4600878e79efe9b']"
   ]
  },
  {
   "cell_type": "code",
   "execution_count": null,
   "metadata": {},
   "outputs": [],
   "source": []
  },
  {
   "cell_type": "code",
   "execution_count": null,
   "metadata": {},
   "outputs": [],
   "source": [
    "UnderlyingDeposited_df[UnderlyingDeposited_df['hash'] == '0xbe9e2919f268121cc55f8466e7af702b6c0dd312134ee746e4600878e79efe9b']"
   ]
  },
  {
   "cell_type": "code",
   "execution_count": null,
   "metadata": {},
   "outputs": [],
   "source": [
    "rebalance_between_destinations_df[rebalance_between_destinations_df['hash'] == '0xbe9e2919f268121cc55f8466e7af702b6c0dd312134ee746e4600878e79efe9b']"
   ]
  },
  {
   "cell_type": "code",
   "execution_count": null,
   "metadata": {},
   "outputs": [],
   "source": [
    "UnderlyingDeposited_df['hash'].value_counts()"
   ]
  },
  {
   "cell_type": "code",
   "execution_count": null,
   "metadata": {},
   "outputs": [],
   "source": [
    "def underlying_deposited_df_to_change(row):\n",
    "    return {\n",
    "        'Destination': row['contract_address'],\n",
    "        'lpTokenQuantity': row['amount'] /1e18,\n",
    "        'hash':row['hash'],\n",
    "        'block': int(row['block'])\n",
    "    }\n",
    "\n",
    "deposit_df = pd.DataFrame.from_records(UnderlyingDeposited_df.apply(underlying_deposited_df_to_change, axis=1).values)\n",
    "\n",
    "def underlying_withdrawn_df_to_change(row):\n",
    "    return {\n",
    "        'Destination': row['contract_address'],\n",
    "        'lpTokenQuantity':  - row['amount'] /1e18,\n",
    "        'hash':row['hash'],\n",
    "        'block': int(row['block'])\n",
    "    }\n",
    "\n",
    "withdraw_df = pd.DataFrame.from_records(UnderlyingWithdraw_df.apply(underlying_withdrawn_df_to_change, axis=1).values)\n",
    "change_df = pd.concat([deposit_df, withdraw_df]).sort_values('block')\n",
    "change_df"
   ]
  },
  {
   "cell_type": "code",
   "execution_count": null,
   "metadata": {},
   "outputs": [],
   "source": [
    "# AMOUNT_OUT IS THE QUANITY OF LP TOKENS THAT LEFT\n",
    "# WE JUST NEED THE DEPOSTED"
   ]
  },
  {
   "cell_type": "code",
   "execution_count": null,
   "metadata": {},
   "outputs": [],
   "source": [
    "df = pd.merge(change_df, validated_spot_price_df, on='block')\n",
    "\n",
    "def _change_in_spot_value(row):\n",
    "    spot_price =  row[row['Destination']]\n",
    "    change = spot_price * row['lpTokenQuantity']\n",
    "    return change\n",
    "\n",
    "df['spot_value_change'] = df.apply(_change_in_spot_value, axis=1)\n",
    "\n",
    "a = df.groupby('hash')['spot_value_change'].apply(list)\n",
    "\n",
    "between_destination_hashes = a[a.apply(len) == 2].index\n",
    "from_idle_hashes = a[a.apply(len) == 1].index"
   ]
  },
  {
   "cell_type": "code",
   "execution_count": null,
   "metadata": {},
   "outputs": [],
   "source": [
    "amounts_and_quantities = pd.merge(withdraw_df[['hash', 'lpTokenQuantity']], rebalance_between_destinations_df[['amountOut', 'hash']], on='hash')\n",
    "amounts_and_quantities[amounts_and_quantities['hash'].isin(between_destination_hashes)]"
   ]
  },
  {
   "cell_type": "code",
   "execution_count": null,
   "metadata": {},
   "outputs": [],
   "source": [
    "amounts_and_quantities = pd.merge(df[['hash', 'lpTokenQuantity']], rebalance_between_destinations_df[['amountOut', 'hash']], on='hash')\n",
    "amounts_and_quantities[amounts_and_quantities['hash'].isin(from_idle_hashes)]"
   ]
  },
  {
   "cell_type": "code",
   "execution_count": null,
   "metadata": {},
   "outputs": [],
   "source": [
    "rebalance_between_destinations_df[['amountOut', 'hash']]"
   ]
  },
  {
   "cell_type": "code",
   "execution_count": null,
   "metadata": {},
   "outputs": [],
   "source": [
    "rebalance_between_destinations_df[rebalance_between_destinations_df['hash'].isin(between_destination_hashes)][['outDestinationVault', 'inDestinationVault']].value_counts()"
   ]
  },
  {
   "cell_type": "code",
   "execution_count": null,
   "metadata": {},
   "outputs": [],
   "source": [
    "df.groupby('hash')['spot_value_change'].apply(len) == 2"
   ]
  },
  {
   "cell_type": "code",
   "execution_count": null,
   "metadata": {},
   "outputs": [],
   "source": [
    "UnderlyingWithdraw_df"
   ]
  },
  {
   "cell_type": "code",
   "execution_count": null,
   "metadata": {},
   "outputs": [],
   "source": [
    "\n",
    "\n",
    "# UnderlyingDeposited_df[\"amountDeposited\"] = UnderlyingDeposited_df[\"amount\"] / 1e18\n",
    "# UnderlyingWithdraw_df[\"amountWithdraw\"] = UnderlyingWithdraw_df[\"amount\"] / 1e18\n",
    "\n",
    "# df = pd.merge(rebalance_between_destinations_df, UnderlyingDeposited_df[['hash', 'amountDeposited']], how='left', on='hash')\n",
    "# df = pd.merge(df, UnderlyingWithdraw_df[['hash', 'amountWithdraw']], how='left', on='hash')\n",
    "# cols = ['hash', 'amountWithdraw', 'amountDeposited', 'amountOut', 'tokenIn', 'tokenOut']"
   ]
  },
  {
   "cell_type": "code",
   "execution_count": null,
   "metadata": {},
   "outputs": [],
   "source": [
    "# df['hash'].value_counts() # exclude the funny ones, with destinations getting added or withdrawn"
   ]
  },
  {
   "cell_type": "code",
   "execution_count": null,
   "metadata": {},
   "outputs": [],
   "source": [
    "df[df[\"hash\"] == \"0x084dfee5800acd5bda5e48485e68e87c015fca770376eeef36405654a184e005\"][cols]"
   ]
  },
  {
   "cell_type": "code",
   "execution_count": null,
   "metadata": {},
   "outputs": [],
   "source": [
    "UnderlyingDeposited_df[\n",
    "    UnderlyingDeposited_df[\"hash\"] == \"0x084dfee5800acd5bda5e48485e68e87c015fca770376eeef36405654a184e005\"\n",
    "]"
   ]
  },
  {
   "cell_type": "code",
   "execution_count": null,
   "metadata": {},
   "outputs": [],
   "source": [
    "UnderlyingWithdraw_df[\n",
    "    UnderlyingWithdraw_df[\"hash\"] == \"0x084dfee5800acd5bda5e48485e68e87c015fca770376eeef36405654a184e005\"\n",
    "]"
   ]
  },
  {
   "cell_type": "code",
   "execution_count": null,
   "metadata": {},
   "outputs": [],
   "source": []
  },
  {
   "cell_type": "code",
   "execution_count": null,
   "metadata": {},
   "outputs": [],
   "source": [
    "df2 = df.dropna()\n",
    "df2"
   ]
  },
  {
   "cell_type": "code",
   "execution_count": null,
   "metadata": {},
   "outputs": [],
   "source": [
    "WETH = \"0xC02aaA39b223FE8D0A0e5C4F27eAD9083C756Cc2\"\n",
    "#  emit UnderlyingDeposited(amount, msg.sender);"
   ]
  },
  {
   "cell_type": "code",
   "execution_count": null,
   "metadata": {},
   "outputs": [],
   "source": [
    "rebalance_between_destinations_df[[\"tokenIn\", \"tokenOut\", \"amountOut\", \"destinationIn\"]]"
   ]
  },
  {
   "cell_type": "code",
   "execution_count": null,
   "metadata": {},
   "outputs": [],
   "source": [
    "rebalance_between_destinations_df[\"hash\"].values"
   ]
  },
  {
   "cell_type": "code",
   "execution_count": null,
   "metadata": {},
   "outputs": [],
   "source": [
    "first_out = \"0xE800e3760FC20aA98c5df6A9816147f190455AF3\"\n",
    "first_in = \"0x777FAf85c8E5FC6f4332E56B989C5C94201A273C\"\n",
    "balance_of_undelrying_debt_before[[first_in, first_out]]\n",
    "# I can't check the balances before or after"
   ]
  },
  {
   "cell_type": "code",
   "execution_count": null,
   "metadata": {},
   "outputs": [],
   "source": []
  },
  {
   "cell_type": "code",
   "execution_count": null,
   "metadata": {},
   "outputs": [],
   "source": [
    "balance_of_undelrying_debt_before[[first_in, first_out]]"
   ]
  },
  {
   "cell_type": "code",
   "execution_count": null,
   "metadata": {},
   "outputs": [],
   "source": [
    "balance_of_undelrying_debt_after[[first_in, first_out]]"
   ]
  },
  {
   "cell_type": "code",
   "execution_count": null,
   "metadata": {},
   "outputs": [],
   "source": [
    "rebalance_between_destinations_df"
   ]
  },
  {
   "cell_type": "code",
   "execution_count": null,
   "metadata": {},
   "outputs": [],
   "source": [
    "rebalance_between_destinations_df"
   ]
  },
  {
   "cell_type": "code",
   "execution_count": null,
   "metadata": {},
   "outputs": [],
   "source": [
    "validated_spot_price_df"
   ]
  },
  {
   "cell_type": "code",
   "execution_count": null,
   "metadata": {},
   "outputs": [],
   "source": [
    "# from mainnet_launch.autopool_diagnostics.compute_rebalance_cost import (\n",
    "#     compute_daily_rebalance_costs,\n",
    "#     AUTO_LRT, BAL_ETH, AUTO_ETH,\n",
    "#     AutopoolConstants,\n",
    "# )\n",
    "# import pandas as pd\n",
    "# import plotly.express as px\n",
    "\n",
    "\n",
    "# # # return RebalanceValueStats({\n",
    "# # #     inPrice: inPrice,\n",
    "# # #     outPrice: outPrice,\n",
    "# # #     inEthValue: inEthValue,\n",
    "# # #     outEthValue: outEthValue,\n",
    "# # #     swapCost: swapCost,\n",
    "# # #     slippage: slippage\n",
    "# # # });\n",
    "\n",
    "\n",
    "# # /// @param destinationIn The address / lp token of the destination vault that will increase\n",
    "# # /// @param tokenIn The address of the underlyer token that will be provided by the swapper\n",
    "# # /// @param amountIn The amount of the underlying LP tokens that will be received\n",
    "# # /// @param destinationOut The address of the destination vault that will decrease\n",
    "# # /// @param tokenOut The address of the underlyer token that will be received by the swapper\n",
    "# # /// @param amountOut The amount of the tokenOut that will be received by the swapper\n",
    "# # struct RebalanceParams {\n",
    "# #     address destinationIn;\n",
    "# #     address tokenIn;\n",
    "# #     uint256 amountIn;\n",
    "# #     address destinationOut;\n",
    "# #     address tokenOut;\n",
    "# #     uint256 amountOut;\n",
    "# # }\n",
    "# autopool = AUTO_ETH\n",
    "# a, b = compute_daily_rebalance_costs(autopool)"
   ]
  },
  {
   "cell_type": "code",
   "execution_count": null,
   "metadata": {},
   "outputs": [],
   "source": [
    "autopool = AUTO_ETH"
   ]
  },
  {
   "cell_type": "code",
   "execution_count": null,
   "metadata": {},
   "outputs": [],
   "source": [
    "import plotly.io as pio\n",
    "from mainnet_launch.destinations import get_destination_details, ALL_AUTOPOOLS\n",
    "\n",
    "pio.templates.default = None\n",
    "rebalance_from_idle, transfer_events_df, validated_spot_price_df = b\n",
    "rebalance_between_destinations, transfer_events_df, validated_spot_price_df = a"
   ]
  },
  {
   "cell_type": "code",
   "execution_count": null,
   "metadata": {},
   "outputs": [],
   "source": []
  },
  {
   "cell_type": "code",
   "execution_count": null,
   "metadata": {},
   "outputs": [],
   "source": [
    "desination_vault_addresses = [d.vaultAddress for d in get_destination_details() if d.autopool == autopool]\n",
    "desination_vault_addresses"
   ]
  },
  {
   "cell_type": "code",
   "execution_count": null,
   "metadata": {},
   "outputs": [],
   "source": [
    "def _get_limited_transfers(\n",
    "    autopool: AutopoolConstants, transfer_events_df: pd.DataFrame, rebalance_df: pd.DataFrame\n",
    ") -> pd.DataFrame:\n",
    "    desination_vault_addresses = [d.vaultAddress for d in get_destination_details() if d.autopool == autopool]\n",
    "    sender_or_receiver_is_destination_vault = (transfer_events_df[\"to\"].isin(desination_vault_addresses)) | (\n",
    "        transfer_events_df[\"from\"].isin(desination_vault_addresses)\n",
    "    )\n",
    "    destination_lp_token_addresses = [d.vaultAddress for d in get_destination_details() if d.autopool == autopool]\n",
    "    sent_token_is_lp_token_avaiable_to_autopool = transfer_events_df[\"token_address\"].isin(\n",
    "        destination_lp_token_addresses\n",
    "    )\n",
    "\n",
    "    tx_hash_in_rebalance_df_hash = transfer_events_df[\"hash\"].isin(rebalance_df[\"hash\"])\n",
    "\n",
    "    limited_transfers = (\n",
    "        transfer_events_df[\n",
    "            sender_or_receiver_is_destination_vault\n",
    "            & sent_token_is_lp_token_avaiable_to_autopool\n",
    "            & tx_hash_in_rebalance_df_hash\n",
    "        ]\n",
    "        .copy()\n",
    "        .reset_index()\n",
    "    )\n",
    "\n",
    "    return limited_transfers\n",
    "\n",
    "\n",
    "limited_transfers = _get_limited_transfers(autopool, transfer_events_df, rebalance_between_destinations)\n",
    "limited_transfers[\"hash\"].value_counts()"
   ]
  },
  {
   "cell_type": "code",
   "execution_count": null,
   "metadata": {},
   "outputs": [],
   "source": [
    "# def compute_swap_cost_when_rebalance_from_idle(\n",
    "#     rebalance_from_idle_df: pd.DataFrame, autopool: AutopoolConstants, transfer_events_df: pd.DataFrame, validated_spot_price_df:pd.DataFrame\n",
    "# ) -> pd.DataFrame:\n",
    "#     # out means decrease\n",
    "#     # in means increase\n",
    "#     if (rebalance_from_idle_df[\"outDestinationVault\"] != autopool.autopool_eth_addr).any():\n",
    "#         raise ValueError(\n",
    "#             \"trying to compute rebalance cost on rebalance_from_idle_df when the outDestinationVault != autopool \"\n",
    "#         )\n",
    "\n",
    "\n",
    "#     #\n",
    "\n",
    "#     transfers_to_vaults = (\n",
    "#         transfers_to_or_from_autopool_destinations[\n",
    "#             (transfer_events_df[\"hash\"].isin(rebalance_from_idle_df[\"hash\"]))\n",
    "#             & (transfer_events_df[\"to\"].isin(rebalance_from_idle_df[\"inDestinationVault\"]))\n",
    "#         ]\n",
    "\n",
    "#         .drop_duplicates()\n",
    "#         .copy()\n",
    "#     )\n",
    "\n",
    "#     rebalance_from_idle_with_lp_tokens_in = pd.merge(\n",
    "#         rebalance_from_idle_df, transfers_to_vaults[[\"value\", \"hash\"]], on=\"hash\"\n",
    "#     )\n",
    "\n",
    "#     rebalance_from_idle_with_lp_tokens_in[\"lp_tokens_added_to_vault\"] = (\n",
    "#         rebalance_from_idle_with_lp_tokens_in[\"value\"]/ 1e18\n",
    "#     )\n",
    "\n",
    "#     validated_spot_price_df[\"block_with_rebalance\"] = ( validated_spot_price_df[\"block\"] + 1)\n",
    "\n",
    "#     rebalance_from_idle_df = pd.merge(\n",
    "#         validated_spot_price_df,\n",
    "#         rebalance_from_idle_with_lp_tokens_in,\n",
    "#         right_on=\"block\",\n",
    "#         left_on=\"block_with_rebalance\",\n",
    "#     )\n",
    "\n",
    "#     def _compute_spot_value_added_to_vault(row:dict) -> float:\n",
    "#         return row['lp_tokens_added_to_vault'] * row[row['inDestinationVault']] # the pool itsel\n",
    "\n",
    "#     rebalance_from_idle_df['validated_spot_value_of_lp_tokens_added_to_autopool'] = rebalance_from_idle_df.apply(_compute_spot_value_added_to_vault, axis=1)\n",
    "#     # because we are exiting idle, the value out is in WETH so the spot value is always 1\n",
    "#     rebalance_from_idle_df['validated_spot_value_of_lp_tokens_removed_from_autopool'] = rebalance_from_idle_df[\"params_amountOut\"]\n",
    "#     rebalance_from_idle_df['validated_spot_value_of_swap_cost'] = rebalance_from_idle_df['validated_spot_value_of_lp_tokens_removed_from_autopool'] -  rebalance_from_idle_df['validated_spot_value_of_lp_tokens_added_to_autopool']\n",
    "\n",
    "#     rebalance_from_idle_df['validated_spot_value_of_swap_cost'] = rebalance_from_idle_df['validated_spot_value_of_swap_cost'].clip(lower=0)\n",
    "\n",
    "#     rebalance_from_idle_df['swap_cost_from_event'] = rebalance_from_idle_df['valueStats'].apply(lambda x: float(x[4]) /1e18)\n",
    "\n",
    "#     # not sure what do to with the swap cost\n",
    "#     rebalance_from_idle_df.index = validated_spot_price_df.index\n",
    "#     cumulative_daily_validated_swap_cost =  rebalance_from_idle_df[['validated_spot_value_of_swap_cost']].resample(\"1D\").sum().cumsum()\n",
    "#     return cumulative_daily_validated_swap_cost\n",
    "\n",
    "# rebalance_events_df, transfer_events_df, validated_spot_price_df = b\n",
    "# cumulative_daily_validated_swap_cost = compute_swap_cost_when_rebalance_from_idle(\n",
    "#     rebalance_events_df.copy(), AUTO_ETH, transfer_events_df, validated_spot_price_df\n",
    "# )\n",
    "\n",
    "# cumulative_daily_validated_swap_cost"
   ]
  },
  {
   "cell_type": "code",
   "execution_count": null,
   "metadata": {},
   "outputs": [],
   "source": []
  },
  {
   "cell_type": "code",
   "execution_count": null,
   "metadata": {},
   "outputs": [],
   "source": []
  },
  {
   "cell_type": "code",
   "execution_count": null,
   "metadata": {},
   "outputs": [],
   "source": [
    "# rebalance_between_destinations_df, transfer_events_df, validated_spot_price_df = a\n",
    "\n",
    "# def _extract_relevent_transfers(autopool: AutopoolConstants, transfer_events_df: pd.DataFrame, rebalance_between_destinations_df:pd.DataFrame):\n",
    "\n",
    "#     valid_destinations = [d.vaultAddress for d in get_destination_details() if d.autopool == autopool]\n",
    "#     valid_transfer_events = transfer_events_df[(transfer_events_df['to'].str.lower().isin(valid_destinations)) | (transfer_events_df['from'].str.lower().isin(valid_destinations))]\n",
    "\n",
    "#     to_indest = (\n",
    "#         transfer_events_df[\n",
    "#             (transfer_events_df[\"hash\"].isin(rebalance_between_destinations_df[\"hash\"]))\n",
    "#             & (transfer_events_df[\"to\"].isin(valid_destinations))\n",
    "#         ]\n",
    "#         .drop_duplicates()\n",
    "#         .copy()\n",
    "#     )\n",
    "\n",
    "#     to_outdest = (\n",
    "#         transfer_events_df[\n",
    "#             (transfer_events_df[\"hash\"].isin(rebalance_between_destinations_df[\"hash\"]))\n",
    "#             & (transfer_events_df[\"to\"].isin(valid_destinations))\n",
    "#         ]\n",
    "\n",
    "#         .drop_duplicates()\n",
    "#         .copy()\n",
    "#     )\n",
    "\n",
    "\n",
    "#     from_indest = (\n",
    "#         transfer_events_df[\n",
    "#             (transfer_events_df[\"hash\"].isin(rebalance_between_destinations_df[\"hash\"]))\n",
    "#             & (transfer_events_df[\"from\"].isin(valid_destinations))\n",
    "#         ]\n",
    "#         .drop_duplicates()\n",
    "#         .copy()\n",
    "#     )\n",
    "\n",
    "#     from_outdest = (\n",
    "#         transfer_events_df[\n",
    "#             (transfer_events_df[\"hash\"].isin(rebalance_between_destinations_df[\"hash\"]))\n",
    "#             & (transfer_events_df[\"from\"].isin(valid_destinations))\n",
    "#         ]\n",
    "\n",
    "#         .drop_duplicates()\n",
    "#         .copy()\n",
    "#     )\n",
    "\n",
    "\n",
    "#     return to_indest, to_outdest, from_indest, from_outdest\n",
    "\n",
    "# to_indest, to_outdest, from_indest, from_outdest = _extract_relevent_transfers(AUTO_ETH, transfer_events_df, rebalance_between_destinations_df)\n",
    "# to_indest.shape, to_outdest.shape, from_indest.shape, from_indest.shape,"
   ]
  },
  {
   "cell_type": "code",
   "execution_count": null,
   "metadata": {},
   "outputs": [],
   "source": [
    "between_with_from_indest = pd.merge(rebalance_between_destinations_df, from_indest[[\"value\", \"hash\"]], on=\"hash\")\n",
    "\n",
    "between_with_from_indest[\"hash\"].value_counts()"
   ]
  },
  {
   "cell_type": "code",
   "execution_count": null,
   "metadata": {},
   "outputs": [],
   "source": []
  },
  {
   "cell_type": "code",
   "execution_count": null,
   "metadata": {},
   "outputs": [],
   "source": []
  },
  {
   "cell_type": "code",
   "execution_count": null,
   "metadata": {},
   "outputs": [],
   "source": [
    "rebalance_between_destinations_df[\n",
    "    rebalance_between_destinations_df[\"hash\"] == \"0x5a088e71e51c5b8c05db282989f21975d14e44d9c615aa00e451a68dcbebd0dc\"\n",
    "]"
   ]
  },
  {
   "cell_type": "code",
   "execution_count": null,
   "metadata": {},
   "outputs": [],
   "source": [
    "# 0x5a088e71e51c5b8c05db282989f21975d14e44d9c615aa00e451a68dcbebd0dc rebalances more than one block"
   ]
  },
  {
   "cell_type": "code",
   "execution_count": null,
   "metadata": {},
   "outputs": [],
   "source": [
    "transfers_from_vaults[\n",
    "    transfers_from_vaults[\"hash\"] == \"0x5a088e71e51c5b8c05db282989f21975d14e44d9c615aa00e451a68dcbebd0dc\"\n",
    "]"
   ]
  },
  {
   "cell_type": "code",
   "execution_count": null,
   "metadata": {},
   "outputs": [],
   "source": []
  },
  {
   "cell_type": "code",
   "execution_count": null,
   "metadata": {},
   "outputs": [],
   "source": [
    "transfers_from_vaults[\"hash\"].value_counts()"
   ]
  },
  {
   "cell_type": "code",
   "execution_count": null,
   "metadata": {},
   "outputs": [],
   "source": [
    "# # def compute_swap_cost_when_rebalancing_between_destinations(\n",
    "# #     rebalance_not_from_idle_df: pd.DataFrame, autopool: AutopoolConstants, transfer_events_df: pd.DataFrame, validated_spot_price_df:pd.DataFrame\n",
    "# # ) -> pd.DataFrame:\n",
    "# #     # out means decrease\n",
    "# #     # in means increase\n",
    "# #     if (rebalance_not_from_idle_df[\"outDestinationVault\"] == autopool.autopool_eth_addr).any():\n",
    "# #         raise ValueError(\n",
    "# #             \"trying to compute_swap_cost_when_rebalancing_between_destinations when the outDestinationVault == autopool eg, exiting the autopool \"\n",
    "# #         )\n",
    "\n",
    "\n",
    "# #     limited_transfer_df = (\n",
    "# #         transfer_events_df[\n",
    "# #             (transfer_events_df[\"hash\"].isin(rebalance_not_from_idle_df[\"hash\"]))\n",
    "# #         ]\n",
    "\n",
    "# #         .drop_duplicates()\n",
    "# #         .copy()\n",
    "# #     )\n",
    "# #     return limited_transfer_df\n",
    "\n",
    "\n",
    "# #\n",
    "\n",
    "# # limited_transfer_df = compute_swap_cost_when_rebalancing_between_destinations(\n",
    "# #     rebalance_events_df.copy(), AUTO_ETH, transfer_events_df, validated_spot_price_df\n",
    "# # )\n",
    "\n",
    "# # transfers_to_vaults['to_value'] = transfers_to_vaults['value'] /1e18\n",
    "# # transfers_to_vaults['to_token'] = transfers_to_vaults['token_address']\n",
    "\n",
    "# # transfers_from_vaults['from_value'] = transfers_from_vaults['value'] /1e18\n",
    "# # transfers_from_vaults['from_token'] = transfers_from_vaults['token_address']\n",
    "\n",
    "# def build_lp_token_moved_df(row):\n",
    "\n",
    "#     return {\n",
    "#         'DesinationIncreased': row['to_token'],\n",
    "#         'DestinationDecreased': row['from_token'],\n",
    "#         'amountIncreased': row['to_value'],\n",
    "#         'amountDecreased': row['from_value'],\n",
    "#         'hash':row['hash'],\n",
    "#         'block': row['block']\n",
    "#     }\n",
    "\n",
    "# limited_transfer_df['hash'].value_counts()"
   ]
  },
  {
   "cell_type": "code",
   "execution_count": null,
   "metadata": {},
   "outputs": [],
   "source": [
    "rebalance_events_df"
   ]
  },
  {
   "cell_type": "code",
   "execution_count": null,
   "metadata": {},
   "outputs": [],
   "source": [
    "transfers_from_vaults"
   ]
  },
  {
   "cell_type": "code",
   "execution_count": null,
   "metadata": {},
   "outputs": [],
   "source": [
    "rebalance_events_df[\"inDestinationVault\"].value_counts()"
   ]
  },
  {
   "cell_type": "code",
   "execution_count": null,
   "metadata": {},
   "outputs": [],
   "source": [
    "rebalance_events_df[\"outDestinationVault\"].value_counts()"
   ]
  },
  {
   "cell_type": "code",
   "execution_count": null,
   "metadata": {},
   "outputs": [],
   "source": [
    "AUTO_ETH.autopool_eth_addr"
   ]
  },
  {
   "cell_type": "code",
   "execution_count": null,
   "metadata": {},
   "outputs": [],
   "source": [
    "rebalance_from_idle_df.sort_values(\"rebalance_cost\")[[\"hash\", \"rebalance_cost\"]].values[0]"
   ]
  },
  {
   "cell_type": "markdown",
   "metadata": {},
   "source": [
    "0xf06978787ae75d235cedd61c07b1e2a9037df86378f37a90eb683c87db8f98b2\n",
    "\n",
    "This rebalance, my math thinks that"
   ]
  },
  {
   "cell_type": "code",
   "execution_count": null,
   "metadata": {},
   "outputs": [],
   "source": [
    "rebalance_from_idle_df[\"valueStats_swap_cost\"] = rebalance_from_idle_df[\"valueStats\"].apply(lambda x: x[4] / 1e18)\n",
    "px.line(rebalance_from_idle_df[[\"rebalance_cost\", \"valueStats_swap_cost\"]])"
   ]
  },
  {
   "cell_type": "code",
   "execution_count": null,
   "metadata": {},
   "outputs": [],
   "source": []
  },
  {
   "cell_type": "code",
   "execution_count": null,
   "metadata": {},
   "outputs": [],
   "source": [
    "dest_to_dest = lp_token_transfer_df[(lp_token_transfer_df[\"hash\"] == tx_hash)].copy().drop_duplicates()\n",
    "dest_to_dest"
   ]
  },
  {
   "cell_type": "markdown",
   "metadata": {},
   "source": []
  },
  {
   "cell_type": "code",
   "execution_count": null,
   "metadata": {},
   "outputs": [],
   "source": [
    "# 165151197070039380229 expect outDestinationLpToken to be down"
   ]
  },
  {
   "cell_type": "markdown",
   "metadata": {},
   "source": [
    "today I am working more on fixing the overestimate the rebalancing cost on the dashboard. "
   ]
  },
  {
   "cell_type": "code",
   "execution_count": null,
   "metadata": {},
   "outputs": [],
   "source": [
    "# idle -> destination valueStats.amountOut == quantiy of eth that left\n",
    "#"
   ]
  },
  {
   "cell_type": "code",
   "execution_count": null,
   "metadata": {},
   "outputs": [],
   "source": [
    "rebalance_events_df.shape"
   ]
  },
  {
   "cell_type": "code",
   "execution_count": null,
   "metadata": {},
   "outputs": [],
   "source": []
  },
  {
   "cell_type": "code",
   "execution_count": null,
   "metadata": {},
   "outputs": [],
   "source": [
    "160795862717038788608 + 419684887152871954"
   ]
  },
  {
   "cell_type": "code",
   "execution_count": null,
   "metadata": {},
   "outputs": [],
   "source": [
    "dest_to_dest[dest_to_dest[\"token_address\"] == inDestinationVault]"
   ]
  },
  {
   "cell_type": "code",
   "execution_count": null,
   "metadata": {},
   "outputs": [],
   "source": [
    "dest_to_dest[dest_to_dest[\"token_address\"] == outDestinationVault]"
   ]
  },
  {
   "cell_type": "code",
   "execution_count": null,
   "metadata": {},
   "outputs": [],
   "source": [
    "dest_to_dest[dest_to_dest[\"to\"] == outDestinationVault]"
   ]
  },
  {
   "cell_type": "code",
   "execution_count": null,
   "metadata": {},
   "outputs": [],
   "source": [
    "dest_to_dest[dest_to_dest[\"from\"] == outDestinationVault]\n",
    "# destination vault -> flash borrow solver 0x067cB94576aBBDB3527055f3c8CaAAc9668364AD\n",
    "# is the quanikty t"
   ]
  },
  {
   "cell_type": "code",
   "execution_count": null,
   "metadata": {},
   "outputs": [],
   "source": [
    "dest_to_dest[\"to\"].value_counts()"
   ]
  },
  {
   "cell_type": "code",
   "execution_count": null,
   "metadata": {},
   "outputs": [],
   "source": [
    "rebalance_events_df.values[-1]  # 73804358107532979104"
   ]
  },
  {
   "cell_type": "code",
   "execution_count": null,
   "metadata": {},
   "outputs": [],
   "source": [
    "rebalance_events_df"
   ]
  },
  {
   "cell_type": "code",
   "execution_count": null,
   "metadata": {},
   "outputs": [],
   "source": []
  }
 ],
 "metadata": {
  "kernelspec": {
   "display_name": ".venv",
   "language": "python",
   "name": "python3"
  },
  "language_info": {
   "codemirror_mode": {
    "name": "ipython",
    "version": 3
   },
   "file_extension": ".py",
   "mimetype": "text/x-python",
   "name": "python",
   "nbconvert_exporter": "python",
   "pygments_lexer": "ipython3",
   "version": "3.10.14"
  }
 },
 "nbformat": 4,
 "nbformat_minor": 2
}
