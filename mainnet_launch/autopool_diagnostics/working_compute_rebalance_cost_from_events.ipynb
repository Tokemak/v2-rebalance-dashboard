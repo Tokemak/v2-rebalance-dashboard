{
 "cells": [
  {
   "cell_type": "code",
   "execution_count": 1,
   "metadata": {},
   "outputs": [
    {
     "name": "stderr",
     "output_type": "stream",
     "text": [
      "2024-11-12 17:45:59.905 WARNING streamlit.runtime.caching.cache_data_api: No runtime found, using MemoryCacheStorageManager\n",
      "2024-11-12 17:45:59.909 WARNING streamlit.runtime.caching.cache_data_api: No runtime found, using MemoryCacheStorageManager\n",
      "2024-11-12 17:45:59.913 WARNING streamlit.runtime.caching.cache_data_api: No runtime found, using MemoryCacheStorageManager\n",
      "2024-11-12 17:45:59.915 WARNING streamlit.runtime.caching.cache_data_api: No runtime found, using MemoryCacheStorageManager\n",
      "2024-11-12 17:45:59.916 WARNING streamlit.runtime.caching.cache_data_api: No runtime found, using MemoryCacheStorageManager\n",
      "2024-11-12 17:45:59.918 WARNING streamlit.runtime.caching.cache_data_api: No runtime found, using MemoryCacheStorageManager\n",
      "2024-11-12 17:45:59.919 WARNING streamlit.runtime.caching.cache_data_api: No runtime found, using MemoryCacheStorageManager\n",
      "2024-11-12 17:45:59.920 WARNING streamlit.runtime.caching.cache_data_api: No runtime found, using MemoryCacheStorageManager\n",
      "2024-11-12 17:46:00.723 WARNING streamlit.runtime.scriptrunner_utils.script_run_context: Thread 'MainThread': missing ScriptRunContext! This warning can be ignored when running in bare mode.\n",
      "2024-11-12 17:46:00.938 \n",
      "  \u001b[33m\u001b[1mWarning:\u001b[0m to view this Streamlit app on a browser, run it with the following\n",
      "  command:\n",
      "\n",
      "    streamlit run /home/parker/Documents/Tokemak/v2-rebalance-dashboard/.venv/lib/python3.10/site-packages/ipykernel_launcher.py [ARGUMENTS]\n",
      "2024-11-12 17:46:00.939 Thread 'MainThread': missing ScriptRunContext! This warning can be ignored when running in bare mode.\n",
      "2024-11-12 17:46:00.939 Thread 'MainThread': missing ScriptRunContext! This warning can be ignored when running in bare mode.\n",
      "2024-11-12 17:46:00.940 No runtime found, using MemoryCacheStorageManager\n",
      "2024-11-12 17:46:00.941 Thread 'MainThread': missing ScriptRunContext! This warning can be ignored when running in bare mode.\n",
      "2024-11-12 17:46:00.941 Thread 'MainThread': missing ScriptRunContext! This warning can be ignored when running in bare mode.\n",
      "2024-11-12 17:46:00.942 Thread 'MainThread': missing ScriptRunContext! This warning can be ignored when running in bare mode.\n",
      "2024-11-12 17:46:00.943 No runtime found, using MemoryCacheStorageManager\n",
      "2024-11-12 17:46:00.943 Thread 'MainThread': missing ScriptRunContext! This warning can be ignored when running in bare mode.\n",
      "2024-11-12 17:46:00.943 Thread 'MainThread': missing ScriptRunContext! This warning can be ignored when running in bare mode.\n",
      "2024-11-12 17:46:00.944 Thread 'MainThread': missing ScriptRunContext! This warning can be ignored when running in bare mode.\n",
      "2024-11-12 17:46:00.945 No runtime found, using MemoryCacheStorageManager\n",
      "2024-11-12 17:46:01.046 Thread 'MainThread': missing ScriptRunContext! This warning can be ignored when running in bare mode.\n",
      "2024-11-12 17:46:01.047 Thread 'MainThread': missing ScriptRunContext! This warning can be ignored when running in bare mode.\n",
      "2024-11-12 17:46:01.441 Thread 'Thread-4': missing ScriptRunContext! This warning can be ignored when running in bare mode.\n",
      "2024-11-12 17:46:01.443 Thread 'Thread-5': missing ScriptRunContext! This warning can be ignored when running in bare mode.\n",
      "2024-11-12 17:46:01.443 Thread 'Thread-4': missing ScriptRunContext! This warning can be ignored when running in bare mode.\n",
      "2024-11-12 17:46:01.447 Thread 'Thread-5': missing ScriptRunContext! This warning can be ignored when running in bare mode.\n",
      "2024-11-12 17:46:07.057 Thread 'MainThread': missing ScriptRunContext! This warning can be ignored when running in bare mode.\n",
      "2024-11-12 17:46:07.057 Thread 'MainThread': missing ScriptRunContext! This warning can be ignored when running in bare mode.\n",
      "2024-11-12 17:46:09.062 Thread 'MainThread': missing ScriptRunContext! This warning can be ignored when running in bare mode.\n",
      "2024-11-12 17:46:09.063 Thread 'MainThread': missing ScriptRunContext! This warning can be ignored when running in bare mode.\n",
      "2024-11-12 17:46:09.084 Thread 'MainThread': missing ScriptRunContext! This warning can be ignored when running in bare mode.\n",
      "2024-11-12 17:46:09.084 Thread 'MainThread': missing ScriptRunContext! This warning can be ignored when running in bare mode.\n",
      "2024-11-12 17:46:09.085 Thread 'MainThread': missing ScriptRunContext! This warning can be ignored when running in bare mode.\n",
      "2024-11-12 17:46:09.086 Thread 'MainThread': missing ScriptRunContext! This warning can be ignored when running in bare mode.\n",
      "2024-11-12 17:46:09.086 Thread 'MainThread': missing ScriptRunContext! This warning can be ignored when running in bare mode.\n",
      "2024-11-12 17:46:30.620 Thread 'MainThread': missing ScriptRunContext! This warning can be ignored when running in bare mode.\n",
      "2024-11-12 17:46:30.620 Thread 'MainThread': missing ScriptRunContext! This warning can be ignored when running in bare mode.\n",
      "2024-11-12 17:46:30.621 Thread 'MainThread': missing ScriptRunContext! This warning can be ignored when running in bare mode.\n",
      "2024-11-12 17:46:30.622 Thread 'MainThread': missing ScriptRunContext! This warning can be ignored when running in bare mode.\n",
      "2024-11-12 17:46:30.622 Thread 'MainThread': missing ScriptRunContext! This warning can be ignored when running in bare mode.\n",
      "2024-11-12 17:46:31.242 Thread 'MainThread': missing ScriptRunContext! This warning can be ignored when running in bare mode.\n",
      "2024-11-12 17:46:31.243 Thread 'MainThread': missing ScriptRunContext! This warning can be ignored when running in bare mode.\n",
      "2024-11-12 17:46:31.244 Thread 'MainThread': missing ScriptRunContext! This warning can be ignored when running in bare mode.\n",
      "2024-11-12 17:46:31.245 Thread 'MainThread': missing ScriptRunContext! This warning can be ignored when running in bare mode.\n",
      "2024-11-12 17:46:31.245 Thread 'MainThread': missing ScriptRunContext! This warning can be ignored when running in bare mode.\n",
      "2024-11-12 17:46:53.049 Thread 'MainThread': missing ScriptRunContext! This warning can be ignored when running in bare mode.\n",
      "2024-11-12 17:46:53.049 Thread 'MainThread': missing ScriptRunContext! This warning can be ignored when running in bare mode.\n",
      "2024-11-12 17:46:53.050 Thread 'MainThread': missing ScriptRunContext! This warning can be ignored when running in bare mode.\n",
      "2024-11-12 17:46:53.051 Thread 'MainThread': missing ScriptRunContext! This warning can be ignored when running in bare mode.\n",
      "2024-11-12 17:46:53.051 Thread 'MainThread': missing ScriptRunContext! This warning can be ignored when running in bare mode.\n"
     ]
    }
   ],
   "source": [
    "from mainnet_launch.autopool_diagnostics.compute_rebalance_cost import (\n",
    "    compute_daily_rebalance_costs,\n",
    "    AUTO_LRT, BAL_ETH, AUTO_ETH,\n",
    "    AutopoolConstants,\n",
    ")\n",
    "import pandas as pd\n",
    "import plotly.express as px\n",
    "\n",
    "a, b = compute_daily_rebalance_costs(AUTO_ETH)\n",
    "rebalance_events_df, transfer_events_df, safe_lp_token_value_at_block_before_rebalance = b"
   ]
  },
  {
   "cell_type": "code",
   "execution_count": 2,
   "metadata": {},
   "outputs": [],
   "source": [
    "import plotly.io as pio\n",
    "pio.templates.default = None"
   ]
  },
  {
   "cell_type": "code",
   "execution_count": 5,
   "metadata": {},
   "outputs": [
    {
     "data": {
      "application/vnd.plotly.v1+json": {
       "config": {
        "plotlyServerURL": "https://plot.ly"
       },
       "data": [
        {
         "hovertemplate": "variable=validated_spot_slippage<br>index=%{x}<br>value=%{y}<extra></extra>",
         "legendgroup": "validated_spot_slippage",
         "line": {
          "color": "#636efa",
          "dash": "solid"
         },
         "marker": {
          "symbol": "circle"
         },
         "mode": "lines",
         "name": "validated_spot_slippage",
         "orientation": "v",
         "showlegend": true,
         "type": "scatter",
         "x": [
          0,
          1,
          2,
          3,
          4,
          5,
          6,
          7,
          8,
          9,
          10,
          11,
          12,
          13,
          14,
          15,
          16,
          17,
          18,
          19,
          20,
          21,
          22,
          23,
          24,
          25,
          26,
          27,
          28,
          29,
          30,
          31,
          32,
          33,
          34,
          35,
          36,
          37,
          38,
          39,
          40,
          41,
          42,
          43,
          44,
          45,
          46,
          47,
          48,
          49,
          50,
          51,
          52,
          53,
          54,
          55,
          56,
          57,
          58,
          59,
          60,
          61,
          62,
          63,
          64,
          65,
          66,
          67,
          68,
          69,
          70,
          71,
          72,
          73,
          74,
          75,
          76,
          77,
          78,
          79,
          80,
          81,
          82,
          83,
          84
         ],
         "xaxis": "x",
         "y": [
          0.00005152678789071045,
          0.0003586911349881758,
          0.00025960256501789076,
          0.00022716868079828372,
          0.0004994302765195378,
          0.0018862153937620274,
          0.0010720442327761984,
          0.0005120169582340214,
          0.0007969535420887428,
          0.0008325029383389278,
          0.001224031136748635,
          0.00036828823073885395,
          0.0005464166547765965,
          -0.00006210517202423104,
          0.00042695259526735036,
          0.0005037301885437025,
          0.0006163525460337514,
          0.0005048541734684515,
          0.0004458285155322191,
          0.0003745238092567061,
          -0.036386039212626155,
          -0.00022020196722280288,
          -0.02101193070276482,
          -0.00013633310147577525,
          0.00016381118482503397,
          0.00011624907476119716,
          0.0006948456415017101,
          -0.00010078206790286688,
          0.0013117583025674096,
          0.0015402747132101614,
          0.0008529344061100294,
          0.000972948538276246,
          0.0006584329645334146,
          0.0006789843436201702,
          0.0017222394659061836,
          0.0016844403219359286,
          0.001562494290105449,
          0.0015919653421848296,
          0.0017100104875109195,
          0.0018794972924535305,
          0.0012430591071086012,
          0.0012959919163140856,
          0.00019519586318899636,
          0.0007261987548658842,
          -0.010454721462258494,
          0.0016743675224660083,
          0.0006656712209433409,
          -0.015002036087670234,
          0.000497772215982488,
          -0.00002849611754675151,
          0.0002549570155260618,
          0.00016065680229436155,
          0.0007005416181951786,
          0.00023750493905290153,
          0.000228069145678745,
          -0.004404194603695837,
          -0.00783333272585719,
          0.00030033370353836457,
          0.00037253993346020764,
          0.0003152008050974855,
          -0.0027813070550321293,
          0.00009259730594290498,
          0.00008775417707681096,
          0.00009573158657908726,
          0.00012376846402411396,
          0.0005441140547619207,
          0.00018066474216946532,
          0.00033559927100939945,
          0.0004991134015283789,
          0.0004105085849092355,
          0.0005100401874877871,
          0.0004666023785136467,
          0.0010315919158689806,
          0.0005734182275969536,
          0.00036974514675449754,
          0.000539490265480861,
          0.0005004316033917929,
          0.00034757130526279895,
          -0.00015918436490454632,
          0.0002763760261309206,
          0.00021865272400240857,
          0.00023550554536292453,
          -0.001036098347068338,
          0.00012400999131969973,
          0.00007606450442441616
         ],
         "yaxis": "y"
        },
        {
         "hovertemplate": "variable=slippage_from_event<br>index=%{x}<br>value=%{y}<extra></extra>",
         "legendgroup": "slippage_from_event",
         "line": {
          "color": "#EF553B",
          "dash": "solid"
         },
         "marker": {
          "symbol": "circle"
         },
         "mode": "lines",
         "name": "slippage_from_event",
         "orientation": "v",
         "showlegend": true,
         "type": "scatter",
         "x": [
          0,
          1,
          2,
          3,
          4,
          5,
          6,
          7,
          8,
          9,
          10,
          11,
          12,
          13,
          14,
          15,
          16,
          17,
          18,
          19,
          20,
          21,
          22,
          23,
          24,
          25,
          26,
          27,
          28,
          29,
          30,
          31,
          32,
          33,
          34,
          35,
          36,
          37,
          38,
          39,
          40,
          41,
          42,
          43,
          44,
          45,
          46,
          47,
          48,
          49,
          50,
          51,
          52,
          53,
          54,
          55,
          56,
          57,
          58,
          59,
          60,
          61,
          62,
          63,
          64,
          65,
          66,
          67,
          68,
          69,
          70,
          71,
          72,
          73,
          74,
          75,
          76,
          77,
          78,
          79,
          80,
          81,
          82,
          83,
          84
         ],
         "xaxis": "x",
         "y": [
          0.000337392629284003,
          0.000358514779513436,
          0.000457204672746057,
          0.000425121621960179,
          0.000499030798666847,
          0.001835716964859598,
          0.001065819612790457,
          0.000511585667387291,
          0.001396845697896365,
          0.000823911554281562,
          0.001411099720314905,
          0.000368002966959314,
          0.001340937811308294,
          0.000404216706775078,
          0.000426497173924194,
          0.001225673426481531,
          0.00060991863248418,
          0.000517062631622538,
          0.000445766189989485,
          0.001241146801603211,
          0.001511167756413047,
          0.00054882663723818,
          0.001239213949040915,
          0.000348143015518093,
          0.000423775084770547,
          0.00045287696258255,
          0.001016719575481593,
          0.00043374248863672,
          0.001279372228587301,
          0.001496941146623241,
          0.000830734714013879,
          0.000945747740319887,
          0.000659634584445778,
          0.001650975269727065,
          0.001674026857309747,
          0.0016358975040681,
          0.001517192480760047,
          0.001549334812640303,
          0.001674470553198755,
          0.001824987813701676,
          0.001206999550152662,
          0.001258331409467127,
          0.001395451096331921,
          0.000718644122477786,
          0.001450159548394322,
          0.001624942081261559,
          0.000707997639413324,
          0.002370488436300864,
          0.001929250334276142,
          0.000881475647481155,
          0.000743721751901815,
          0.000710620482525347,
          0.000763349088441958,
          0.00043203286512222,
          0.000443690307351011,
          0.000628478128334852,
          0.000416799321052211,
          0.000709490466943969,
          0.000674824289001392,
          0.000862018096979908,
          0.000549621057722565,
          0.000493110725536612,
          0.000647409407055965,
          0.000534293584296616,
          0.000589668844773159,
          0.001798690663205407,
          0.000676147165239985,
          0.000732005301692896,
          0.000893727164649963,
          0.000806076493056395,
          0.000904530146040177,
          0.000575033043338872,
          0.001023283329501529,
          0.001856321000019857,
          0.001703263344462793,
          0.00175521287333397,
          0.0016873954430764,
          0.001771408340400539,
          0.000242633470348368,
          0.00067326347231873,
          0.001623404154184906,
          0.000632832083264705,
          0.000688364085205798,
          0.00067529563234806,
          0.000532199088038248
         ],
         "yaxis": "y"
        }
       ],
       "layout": {
        "legend": {
         "title": {
          "text": "variable"
         },
         "tracegroupgap": 0
        },
        "template": {
         "data": {
          "bar": [
           {
            "error_x": {
             "color": "#2a3f5f"
            },
            "error_y": {
             "color": "#2a3f5f"
            },
            "marker": {
             "line": {
              "color": "#E5ECF6",
              "width": 0.5
             },
             "pattern": {
              "fillmode": "overlay",
              "size": 10,
              "solidity": 0.2
             }
            },
            "type": "bar"
           }
          ],
          "barpolar": [
           {
            "marker": {
             "line": {
              "color": "#E5ECF6",
              "width": 0.5
             },
             "pattern": {
              "fillmode": "overlay",
              "size": 10,
              "solidity": 0.2
             }
            },
            "type": "barpolar"
           }
          ],
          "carpet": [
           {
            "aaxis": {
             "endlinecolor": "#2a3f5f",
             "gridcolor": "white",
             "linecolor": "white",
             "minorgridcolor": "white",
             "startlinecolor": "#2a3f5f"
            },
            "baxis": {
             "endlinecolor": "#2a3f5f",
             "gridcolor": "white",
             "linecolor": "white",
             "minorgridcolor": "white",
             "startlinecolor": "#2a3f5f"
            },
            "type": "carpet"
           }
          ],
          "choropleth": [
           {
            "colorbar": {
             "outlinewidth": 0,
             "ticks": ""
            },
            "type": "choropleth"
           }
          ],
          "contour": [
           {
            "colorbar": {
             "outlinewidth": 0,
             "ticks": ""
            },
            "colorscale": [
             [
              0,
              "#0d0887"
             ],
             [
              0.1111111111111111,
              "#46039f"
             ],
             [
              0.2222222222222222,
              "#7201a8"
             ],
             [
              0.3333333333333333,
              "#9c179e"
             ],
             [
              0.4444444444444444,
              "#bd3786"
             ],
             [
              0.5555555555555556,
              "#d8576b"
             ],
             [
              0.6666666666666666,
              "#ed7953"
             ],
             [
              0.7777777777777778,
              "#fb9f3a"
             ],
             [
              0.8888888888888888,
              "#fdca26"
             ],
             [
              1,
              "#f0f921"
             ]
            ],
            "type": "contour"
           }
          ],
          "contourcarpet": [
           {
            "colorbar": {
             "outlinewidth": 0,
             "ticks": ""
            },
            "type": "contourcarpet"
           }
          ],
          "heatmap": [
           {
            "colorbar": {
             "outlinewidth": 0,
             "ticks": ""
            },
            "colorscale": [
             [
              0,
              "#0d0887"
             ],
             [
              0.1111111111111111,
              "#46039f"
             ],
             [
              0.2222222222222222,
              "#7201a8"
             ],
             [
              0.3333333333333333,
              "#9c179e"
             ],
             [
              0.4444444444444444,
              "#bd3786"
             ],
             [
              0.5555555555555556,
              "#d8576b"
             ],
             [
              0.6666666666666666,
              "#ed7953"
             ],
             [
              0.7777777777777778,
              "#fb9f3a"
             ],
             [
              0.8888888888888888,
              "#fdca26"
             ],
             [
              1,
              "#f0f921"
             ]
            ],
            "type": "heatmap"
           }
          ],
          "heatmapgl": [
           {
            "colorbar": {
             "outlinewidth": 0,
             "ticks": ""
            },
            "colorscale": [
             [
              0,
              "#0d0887"
             ],
             [
              0.1111111111111111,
              "#46039f"
             ],
             [
              0.2222222222222222,
              "#7201a8"
             ],
             [
              0.3333333333333333,
              "#9c179e"
             ],
             [
              0.4444444444444444,
              "#bd3786"
             ],
             [
              0.5555555555555556,
              "#d8576b"
             ],
             [
              0.6666666666666666,
              "#ed7953"
             ],
             [
              0.7777777777777778,
              "#fb9f3a"
             ],
             [
              0.8888888888888888,
              "#fdca26"
             ],
             [
              1,
              "#f0f921"
             ]
            ],
            "type": "heatmapgl"
           }
          ],
          "histogram": [
           {
            "marker": {
             "pattern": {
              "fillmode": "overlay",
              "size": 10,
              "solidity": 0.2
             }
            },
            "type": "histogram"
           }
          ],
          "histogram2d": [
           {
            "colorbar": {
             "outlinewidth": 0,
             "ticks": ""
            },
            "colorscale": [
             [
              0,
              "#0d0887"
             ],
             [
              0.1111111111111111,
              "#46039f"
             ],
             [
              0.2222222222222222,
              "#7201a8"
             ],
             [
              0.3333333333333333,
              "#9c179e"
             ],
             [
              0.4444444444444444,
              "#bd3786"
             ],
             [
              0.5555555555555556,
              "#d8576b"
             ],
             [
              0.6666666666666666,
              "#ed7953"
             ],
             [
              0.7777777777777778,
              "#fb9f3a"
             ],
             [
              0.8888888888888888,
              "#fdca26"
             ],
             [
              1,
              "#f0f921"
             ]
            ],
            "type": "histogram2d"
           }
          ],
          "histogram2dcontour": [
           {
            "colorbar": {
             "outlinewidth": 0,
             "ticks": ""
            },
            "colorscale": [
             [
              0,
              "#0d0887"
             ],
             [
              0.1111111111111111,
              "#46039f"
             ],
             [
              0.2222222222222222,
              "#7201a8"
             ],
             [
              0.3333333333333333,
              "#9c179e"
             ],
             [
              0.4444444444444444,
              "#bd3786"
             ],
             [
              0.5555555555555556,
              "#d8576b"
             ],
             [
              0.6666666666666666,
              "#ed7953"
             ],
             [
              0.7777777777777778,
              "#fb9f3a"
             ],
             [
              0.8888888888888888,
              "#fdca26"
             ],
             [
              1,
              "#f0f921"
             ]
            ],
            "type": "histogram2dcontour"
           }
          ],
          "mesh3d": [
           {
            "colorbar": {
             "outlinewidth": 0,
             "ticks": ""
            },
            "type": "mesh3d"
           }
          ],
          "parcoords": [
           {
            "line": {
             "colorbar": {
              "outlinewidth": 0,
              "ticks": ""
             }
            },
            "type": "parcoords"
           }
          ],
          "pie": [
           {
            "automargin": true,
            "type": "pie"
           }
          ],
          "scatter": [
           {
            "fillpattern": {
             "fillmode": "overlay",
             "size": 10,
             "solidity": 0.2
            },
            "type": "scatter"
           }
          ],
          "scatter3d": [
           {
            "line": {
             "colorbar": {
              "outlinewidth": 0,
              "ticks": ""
             }
            },
            "marker": {
             "colorbar": {
              "outlinewidth": 0,
              "ticks": ""
             }
            },
            "type": "scatter3d"
           }
          ],
          "scattercarpet": [
           {
            "marker": {
             "colorbar": {
              "outlinewidth": 0,
              "ticks": ""
             }
            },
            "type": "scattercarpet"
           }
          ],
          "scattergeo": [
           {
            "marker": {
             "colorbar": {
              "outlinewidth": 0,
              "ticks": ""
             }
            },
            "type": "scattergeo"
           }
          ],
          "scattergl": [
           {
            "marker": {
             "colorbar": {
              "outlinewidth": 0,
              "ticks": ""
             }
            },
            "type": "scattergl"
           }
          ],
          "scattermapbox": [
           {
            "marker": {
             "colorbar": {
              "outlinewidth": 0,
              "ticks": ""
             }
            },
            "type": "scattermapbox"
           }
          ],
          "scatterpolar": [
           {
            "marker": {
             "colorbar": {
              "outlinewidth": 0,
              "ticks": ""
             }
            },
            "type": "scatterpolar"
           }
          ],
          "scatterpolargl": [
           {
            "marker": {
             "colorbar": {
              "outlinewidth": 0,
              "ticks": ""
             }
            },
            "type": "scatterpolargl"
           }
          ],
          "scatterternary": [
           {
            "marker": {
             "colorbar": {
              "outlinewidth": 0,
              "ticks": ""
             }
            },
            "type": "scatterternary"
           }
          ],
          "surface": [
           {
            "colorbar": {
             "outlinewidth": 0,
             "ticks": ""
            },
            "colorscale": [
             [
              0,
              "#0d0887"
             ],
             [
              0.1111111111111111,
              "#46039f"
             ],
             [
              0.2222222222222222,
              "#7201a8"
             ],
             [
              0.3333333333333333,
              "#9c179e"
             ],
             [
              0.4444444444444444,
              "#bd3786"
             ],
             [
              0.5555555555555556,
              "#d8576b"
             ],
             [
              0.6666666666666666,
              "#ed7953"
             ],
             [
              0.7777777777777778,
              "#fb9f3a"
             ],
             [
              0.8888888888888888,
              "#fdca26"
             ],
             [
              1,
              "#f0f921"
             ]
            ],
            "type": "surface"
           }
          ],
          "table": [
           {
            "cells": {
             "fill": {
              "color": "#EBF0F8"
             },
             "line": {
              "color": "white"
             }
            },
            "header": {
             "fill": {
              "color": "#C8D4E3"
             },
             "line": {
              "color": "white"
             }
            },
            "type": "table"
           }
          ]
         },
         "layout": {
          "annotationdefaults": {
           "arrowcolor": "#2a3f5f",
           "arrowhead": 0,
           "arrowwidth": 1
          },
          "autotypenumbers": "strict",
          "coloraxis": {
           "colorbar": {
            "outlinewidth": 0,
            "ticks": ""
           }
          },
          "colorscale": {
           "diverging": [
            [
             0,
             "#8e0152"
            ],
            [
             0.1,
             "#c51b7d"
            ],
            [
             0.2,
             "#de77ae"
            ],
            [
             0.3,
             "#f1b6da"
            ],
            [
             0.4,
             "#fde0ef"
            ],
            [
             0.5,
             "#f7f7f7"
            ],
            [
             0.6,
             "#e6f5d0"
            ],
            [
             0.7,
             "#b8e186"
            ],
            [
             0.8,
             "#7fbc41"
            ],
            [
             0.9,
             "#4d9221"
            ],
            [
             1,
             "#276419"
            ]
           ],
           "sequential": [
            [
             0,
             "#0d0887"
            ],
            [
             0.1111111111111111,
             "#46039f"
            ],
            [
             0.2222222222222222,
             "#7201a8"
            ],
            [
             0.3333333333333333,
             "#9c179e"
            ],
            [
             0.4444444444444444,
             "#bd3786"
            ],
            [
             0.5555555555555556,
             "#d8576b"
            ],
            [
             0.6666666666666666,
             "#ed7953"
            ],
            [
             0.7777777777777778,
             "#fb9f3a"
            ],
            [
             0.8888888888888888,
             "#fdca26"
            ],
            [
             1,
             "#f0f921"
            ]
           ],
           "sequentialminus": [
            [
             0,
             "#0d0887"
            ],
            [
             0.1111111111111111,
             "#46039f"
            ],
            [
             0.2222222222222222,
             "#7201a8"
            ],
            [
             0.3333333333333333,
             "#9c179e"
            ],
            [
             0.4444444444444444,
             "#bd3786"
            ],
            [
             0.5555555555555556,
             "#d8576b"
            ],
            [
             0.6666666666666666,
             "#ed7953"
            ],
            [
             0.7777777777777778,
             "#fb9f3a"
            ],
            [
             0.8888888888888888,
             "#fdca26"
            ],
            [
             1,
             "#f0f921"
            ]
           ]
          },
          "colorway": [
           "#636efa",
           "#EF553B",
           "#00cc96",
           "#ab63fa",
           "#FFA15A",
           "#19d3f3",
           "#FF6692",
           "#B6E880",
           "#FF97FF",
           "#FECB52"
          ],
          "font": {
           "color": "#2a3f5f"
          },
          "geo": {
           "bgcolor": "white",
           "lakecolor": "white",
           "landcolor": "#E5ECF6",
           "showlakes": true,
           "showland": true,
           "subunitcolor": "white"
          },
          "hoverlabel": {
           "align": "left"
          },
          "hovermode": "closest",
          "mapbox": {
           "style": "light"
          },
          "paper_bgcolor": "white",
          "plot_bgcolor": "#E5ECF6",
          "polar": {
           "angularaxis": {
            "gridcolor": "white",
            "linecolor": "white",
            "ticks": ""
           },
           "bgcolor": "#E5ECF6",
           "radialaxis": {
            "gridcolor": "white",
            "linecolor": "white",
            "ticks": ""
           }
          },
          "scene": {
           "xaxis": {
            "backgroundcolor": "#E5ECF6",
            "gridcolor": "white",
            "gridwidth": 2,
            "linecolor": "white",
            "showbackground": true,
            "ticks": "",
            "zerolinecolor": "white"
           },
           "yaxis": {
            "backgroundcolor": "#E5ECF6",
            "gridcolor": "white",
            "gridwidth": 2,
            "linecolor": "white",
            "showbackground": true,
            "ticks": "",
            "zerolinecolor": "white"
           },
           "zaxis": {
            "backgroundcolor": "#E5ECF6",
            "gridcolor": "white",
            "gridwidth": 2,
            "linecolor": "white",
            "showbackground": true,
            "ticks": "",
            "zerolinecolor": "white"
           }
          },
          "shapedefaults": {
           "line": {
            "color": "#2a3f5f"
           }
          },
          "ternary": {
           "aaxis": {
            "gridcolor": "white",
            "linecolor": "white",
            "ticks": ""
           },
           "baxis": {
            "gridcolor": "white",
            "linecolor": "white",
            "ticks": ""
           },
           "bgcolor": "#E5ECF6",
           "caxis": {
            "gridcolor": "white",
            "linecolor": "white",
            "ticks": ""
           }
          },
          "title": {
           "x": 0.05
          },
          "xaxis": {
           "automargin": true,
           "gridcolor": "white",
           "linecolor": "white",
           "ticks": "",
           "title": {
            "standoff": 15
           },
           "zerolinecolor": "white",
           "zerolinewidth": 2
          },
          "yaxis": {
           "automargin": true,
           "gridcolor": "white",
           "linecolor": "white",
           "ticks": "",
           "title": {
            "standoff": 15
           },
           "zerolinecolor": "white",
           "zerolinewidth": 2
          }
         }
        },
        "title": {
         "text": "event vs validated spot slippage"
        },
        "xaxis": {
         "anchor": "y",
         "domain": [
          0,
          1
         ],
         "title": {
          "text": "index"
         }
        },
        "yaxis": {
         "anchor": "x",
         "domain": [
          0,
          1
         ],
         "title": {
          "text": "value"
         }
        }
       }
      }
     },
     "metadata": {},
     "output_type": "display_data"
    }
   ],
   "source": [
    "def compute_swap_in_rebalances_from_idle(\n",
    "    rebalance_from_idle_df: pd.DataFrame, autopool: AutopoolConstants, transfer_events_df: pd.DataFrame\n",
    "):\n",
    "    # out means decrease\n",
    "    # in means increase\n",
    "    if (rebalance_from_idle_df[\"outDestinationVault\"] != autopool.autopool_eth_addr).any():\n",
    "        raise ValueError(\n",
    "            \"trying to compute rebalance cost on rebalance_from_idle_df when the outDestinationVault != autopool \"\n",
    "        )\n",
    "    \n",
    "    # get all the transfers to the inDestinationsVaults, the indestination Vaut\n",
    "    transfers_to_vaults = (\n",
    "        transfer_events_df[\n",
    "            (transfer_events_df[\"hash\"].isin(rebalance_from_idle_df[\"hash\"]))\n",
    "            & (transfer_events_df[\"to\"].isin(rebalance_from_idle_df[\"inDestinationVault\"]))\n",
    "        ]\n",
    "        \n",
    "        .drop_duplicates()\n",
    "        .copy()\n",
    "    )\n",
    "\n",
    "    rebalance_from_idle_with_lp_tokens_in = pd.merge(\n",
    "        rebalance_from_idle_df, transfers_to_vaults[[\"value\", \"hash\"]], on=\"hash\"\n",
    "    )\n",
    "    rebalance_from_idle_with_lp_tokens_in[\"lp_tokens_added_to_vault\"] = (\n",
    "        rebalance_from_idle_with_lp_tokens_in[[\"value\"]] / 1e18\n",
    "    )\n",
    "    rebalance_from_idle_with_lp_tokens_in[\"weth_removed_from_idle\"] = rebalance_from_idle_with_lp_tokens_in[\n",
    "        \"params_amountOut\"\n",
    "    ]\n",
    "    return rebalance_from_idle_with_lp_tokens_in\n",
    "\n",
    "\n",
    "\n",
    "rebalance_from_idle_df = rebalance_events_df.copy()\n",
    "rebalance_from_idle_with_lp_tokens_in = compute_swap_in_rebalances_from_idle(\n",
    "    rebalance_from_idle_df, AUTO_ETH, transfer_events_df\n",
    ")\n",
    "safe_lp_token_value_at_block_before_rebalance[\"block_with_rebalance\"] = (\n",
    "    safe_lp_token_value_at_block_before_rebalance[\"block\"] + 1\n",
    ")\n",
    "\n",
    "rebalance_from_idle_df = pd.merge(\n",
    "    rebalance_from_idle_with_lp_tokens_in,\n",
    "    safe_lp_token_value_at_block_before_rebalance,\n",
    "    left_on=\"block\",\n",
    "    right_on=\"block_with_rebalance\",\n",
    ")\n",
    "\n",
    "# row = rebalance_from_idle_df.to_dict(orient='records')[0]\n",
    "\n",
    "\n",
    "def _compute_spot_value_added_to_vault(row:dict) -> float:\n",
    "    return row['lp_tokens_added_to_vault'] * row[row['inDestinationVault']] # the pool itself\n",
    "\n",
    "def _compute_min_lp_tokens_needed(row:dict) -> float:\n",
    "    # the min amount of lp tokens needed to be sent to the vault or the transaction will revert\n",
    "    return float(row['params'][2] /1e18)\n",
    "\n",
    "rebalance_from_idle_df['min_lp_tokens'] = rebalance_from_idle_df.apply(_compute_min_lp_tokens_needed, axis=1)\n",
    "rebalance_from_idle_df['percent_excess_lp_tokens'] = 100 *(rebalance_from_idle_df['lp_tokens_added_to_vault'] - rebalance_from_idle_df['min_lp_tokens'])/ rebalance_from_idle_df['min_lp_tokens']\n",
    "rebalance_from_idle_df['validated_spot_value_of_lp_tokens_added_to_autopool'] = rebalance_from_idle_df.apply(_compute_spot_value_added_to_vault, axis=1)\n",
    "rebalance_from_idle_df['validated_spot_value_of_idle_eth_removed_from_autopool'] = rebalance_from_idle_df['weth_removed_from_idle'] # spot value of weth is always 1\n",
    "\n",
    "rebalance_from_idle_df['validated_spot_value_of_swap_cost'] = rebalance_from_idle_df['validated_spot_value_of_idle_eth_removed_from_autopool'] -  rebalance_from_idle_df['validated_spot_value_of_lp_tokens_added_to_autopool']\n",
    "\n",
    "rebalance_from_idle_df['swap_cost_from_event'] = rebalance_from_idle_df['valueStats'].apply(lambda x: float(x[4]) /1e18)\n",
    "rebalance_from_idle_df['slippage_from_event'] = rebalance_from_idle_df['valueStats'].apply(lambda x: float(x[5]) /1e18)\n",
    "rebalance_from_idle_df['validated_spot_slippage'] = (rebalance_from_idle_df['validated_spot_value_of_swap_cost'] / rebalance_from_idle_df['lp_tokens_added_to_vault'].astype(float)\n",
    ")\n",
    "px.line(rebalance_from_idle_df[['validated_spot_slippage', 'slippage_from_event']], title='event vs validated spot slippage')"
   ]
  },
  {
   "cell_type": "code",
   "execution_count": 16,
   "metadata": {},
   "outputs": [
    {
     "data": {
      "text/plain": [
       "validated_spot_slippage    0.000375\n",
       "slippage_from_event        0.000763\n",
       "dtype: float64"
      ]
     },
     "execution_count": 16,
     "metadata": {},
     "output_type": "execute_result"
    }
   ],
   "source": [
    "rebalance_from_idle_df[['validated_spot_slippage', 'slippage_from_event']].median()"
   ]
  },
  {
   "cell_type": "code",
   "execution_count": 17,
   "metadata": {},
   "outputs": [
    {
     "data": {
      "text/plain": [
       "swap_cost_from_event                 13.549673\n",
       "validated_spot_value_of_swap_cost     9.164009\n",
       "dtype: float64"
      ]
     },
     "execution_count": 17,
     "metadata": {},
     "output_type": "execute_result"
    }
   ],
   "source": [
    "rebalance_from_idle_df[['swap_cost_from_event', 'validated_spot_value_of_swap_cost']].clip(lower=0).sum()"
   ]
  },
  {
   "cell_type": "code",
   "execution_count": 26,
   "metadata": {},
   "outputs": [
    {
     "data": {
      "text/plain": [
       "swap_cost_from_event                 13.549673\n",
       "validated_spot_value_of_swap_cost    -4.702996\n",
       "dtype: float64"
      ]
     },
     "execution_count": 26,
     "metadata": {},
     "output_type": "execute_result"
    }
   ],
   "source": [
    "rebalance_from_idle_df[['swap_cost_from_event', 'validated_spot_value_of_swap_cost']].sum()"
   ]
  },
  {
   "cell_type": "code",
   "execution_count": 28,
   "metadata": {},
   "outputs": [
    {
     "data": {
      "application/vnd.plotly.v1+json": {
       "config": {
        "plotlyServerURL": "https://plot.ly"
       },
       "data": [
        {
         "hovertemplate": "variable=swap_cost_from_event<br>index=%{x}<br>value=%{y}<extra></extra>",
         "legendgroup": "swap_cost_from_event",
         "line": {
          "color": "#636efa",
          "dash": "solid"
         },
         "marker": {
          "symbol": "circle"
         },
         "mode": "lines",
         "name": "swap_cost_from_event",
         "orientation": "v",
         "showlegend": true,
         "type": "scatter",
         "x": [
          0,
          1,
          2,
          3,
          4,
          5,
          6,
          7,
          8,
          9,
          10,
          11,
          12,
          13,
          14,
          15,
          16,
          17,
          18,
          19,
          20,
          21,
          22,
          23,
          24,
          25,
          26,
          27,
          28,
          29,
          30,
          31,
          32,
          33,
          34,
          35,
          36,
          37,
          38,
          39,
          40,
          41,
          42,
          43,
          44,
          45,
          46,
          47,
          48,
          49,
          50,
          51,
          52,
          53,
          54,
          55,
          56,
          57,
          58,
          59,
          60,
          61,
          62,
          63,
          64,
          65,
          66,
          67,
          68,
          69,
          70,
          71,
          72,
          73,
          74,
          75,
          76,
          77,
          78,
          79,
          80,
          81,
          82,
          83,
          84
         ],
         "xaxis": "x",
         "y": [
          0.033739262928400356,
          0.11275303118555476,
          0.06676748889564244,
          0.057266192139269874,
          0.16759016338892094,
          0.7342867859438394,
          0.31774515905730366,
          0.1325690596477929,
          0.23418220842650592,
          0.17451011299272298,
          0.564439888125962,
          0.1384074223090354,
          0.39589263526250235,
          0.09518403961736761,
          0.1311584998989427,
          0.3041522686078608,
          0.19589376745950557,
          0.13412805371384529,
          0.08272633237916499,
          0.2823129353645674,
          0.26159835829549394,
          0.09529875189381759,
          0.2368878221103638,
          0.05110807066985053,
          0.04901899488487748,
          0.06538137599201181,
          0.11081889255291612,
          0.03545912099241052,
          0.2304751199533159,
          0.274883445858698,
          0.13972418296064212,
          0.12053924164326661,
          0.08706355983500241,
          0.5975523176714236,
          0.46162070844513536,
          0.3407717304159482,
          0.2743823027078477,
          0.2101469535307474,
          0.33037055360939666,
          0.6675762875154462,
          0.4097436685537321,
          0.32464527570099666,
          0.3712164800740008,
          0.16088005834711025,
          0.29154539960290693,
          0.39842495945959505,
          0.13019896847675036,
          0.18597759439189485,
          0.14197196395920011,
          0.06565337741827264,
          0.03945693062241776,
          0.03528164905067957,
          0.08832012020411287,
          0.02112477598988085,
          0.016432517898161567,
          0.004844850611607696,
          0.003657258941453412,
          0.0285602662036433,
          0.02134323673667791,
          0.07410155015016144,
          0.000807728710276489,
          0.001469952424456903,
          0.05116879897632327,
          0.001295537534150765,
          0.014803500899666724,
          0.13083004618013436,
          0.010720229086550232,
          0.018456455985150697,
          0.0318189898183711,
          0.029923145802510633,
          0.02565911474767577,
          0.12101712111141089,
          0.16169652571921303,
          0.23638479531002574,
          0.16267063902174989,
          0.13853025219334678,
          0.10101928767618314,
          0.08151602944992747,
          0.004675471113401795,
          0.06732634723187307,
          0.16234041541849065,
          0.0632832083264706,
          0.06212025223229654,
          0.033764781617403046,
          0.02660995440191241
         ],
         "yaxis": "y"
        },
        {
         "hovertemplate": "variable=validated_spot_value_of_swap_cost<br>index=%{x}<br>value=%{y}<extra></extra>",
         "legendgroup": "validated_spot_value_of_swap_cost",
         "line": {
          "color": "#EF553B",
          "dash": "solid"
         },
         "marker": {
          "symbol": "circle"
         },
         "mode": "lines",
         "name": "validated_spot_value_of_swap_cost",
         "orientation": "v",
         "showlegend": true,
         "type": "scatter",
         "x": [
          0,
          1,
          2,
          3,
          4,
          5,
          6,
          7,
          8,
          9,
          10,
          11,
          12,
          13,
          14,
          15,
          16,
          17,
          18,
          19,
          20,
          21,
          22,
          23,
          24,
          25,
          26,
          27,
          28,
          29,
          30,
          31,
          32,
          33,
          34,
          35,
          36,
          37,
          38,
          39,
          40,
          41,
          42,
          43,
          44,
          45,
          46,
          47,
          48,
          49,
          50,
          51,
          52,
          53,
          54,
          55,
          56,
          57,
          58,
          59,
          60,
          61,
          62,
          63,
          64,
          65,
          66,
          67,
          68,
          69,
          70,
          71,
          72,
          73,
          74,
          75,
          76,
          77,
          78,
          79,
          80,
          81,
          82,
          83,
          84
         ],
         "xaxis": "x",
         "y": [
          0.005152142889954803,
          0.1127655431638459,
          0.03756577883078194,
          0.03031880338897963,
          0.16761639094772818,
          0.7345492307764516,
          0.3164437462951355,
          0.13257203488421965,
          0.130129755840386,
          0.1745059551396082,
          0.4844384619875086,
          0.1383921433924229,
          0.15708986529512003,
          -0.014615218076642122,
          0.1311551530081374,
          0.1217009118542478,
          0.1958891214780465,
          0.13095062304961402,
          0.0827325992480894,
          0.08411550635548792,
          -6.360620983267978,
          -0.03781797436673173,
          -3.9930642545417356,
          -0.01998384263913522,
          0.018914752859672035,
          0.016752467944883165,
          0.07371214911269419,
          -0.008226021119156712,
          0.22971004644256254,
          0.2748802379564097,
          0.1394671208358318,
          0.12054273232452317,
          0.08670114334691448,
          0.23886073163777155,
          0.4611329260603725,
          0.34071495493193993,
          0.27438570241332627,
          0.20966556802267178,
          0.3276622685517907,
          0.667607015969736,
          0.4097569461536068,
          0.3246569468474263,
          0.05053470355164791,
          0.16087904421141275,
          -2.0645396148348993,
          0.39844407280253336,
          0.12231513585226139,
          -1.1633210411310557,
          0.03566437353119056,
          -0.0021202254020238342,
          0.01350748828666326,
          0.007965050253204708,
          0.08089605106674469,
          0.011476753322781974,
          0.00834764894279516,
          -0.03370354047959356,
          -0.06847169560929167,
          0.011946899693093371,
          0.01164259122706568,
          0.02705253121506246,
          -0.004050726397555993,
          0.00027278400413299764,
          0.00693590784595699,
          0.00022939520105325073,
          0.0030705301968758647,
          0.03848467277859413,
          0.00285964809334871,
          0.008374378316538866,
          0.017584694265920575,
          0.015080077067558761,
          0.014317634094258125,
          0.09816188052153052,
          0.16121004878652911,
          0.07099327409436285,
          0.03433273048590024,
          0.04139009122700088,
          0.029122368099841367,
          0.01554826163734191,
          -0.0030369662606020142,
          0.02733648494721308,
          0.021546778119727605,
          0.02329230517993608,
          -0.09343276481095586,
          0.006188863999724958,
          0.0037959985226194704
         ],
         "yaxis": "y"
        }
       ],
       "layout": {
        "legend": {
         "title": {
          "text": "variable"
         },
         "tracegroupgap": 0
        },
        "template": {
         "data": {
          "bar": [
           {
            "error_x": {
             "color": "#2a3f5f"
            },
            "error_y": {
             "color": "#2a3f5f"
            },
            "marker": {
             "line": {
              "color": "#E5ECF6",
              "width": 0.5
             },
             "pattern": {
              "fillmode": "overlay",
              "size": 10,
              "solidity": 0.2
             }
            },
            "type": "bar"
           }
          ],
          "barpolar": [
           {
            "marker": {
             "line": {
              "color": "#E5ECF6",
              "width": 0.5
             },
             "pattern": {
              "fillmode": "overlay",
              "size": 10,
              "solidity": 0.2
             }
            },
            "type": "barpolar"
           }
          ],
          "carpet": [
           {
            "aaxis": {
             "endlinecolor": "#2a3f5f",
             "gridcolor": "white",
             "linecolor": "white",
             "minorgridcolor": "white",
             "startlinecolor": "#2a3f5f"
            },
            "baxis": {
             "endlinecolor": "#2a3f5f",
             "gridcolor": "white",
             "linecolor": "white",
             "minorgridcolor": "white",
             "startlinecolor": "#2a3f5f"
            },
            "type": "carpet"
           }
          ],
          "choropleth": [
           {
            "colorbar": {
             "outlinewidth": 0,
             "ticks": ""
            },
            "type": "choropleth"
           }
          ],
          "contour": [
           {
            "colorbar": {
             "outlinewidth": 0,
             "ticks": ""
            },
            "colorscale": [
             [
              0,
              "#0d0887"
             ],
             [
              0.1111111111111111,
              "#46039f"
             ],
             [
              0.2222222222222222,
              "#7201a8"
             ],
             [
              0.3333333333333333,
              "#9c179e"
             ],
             [
              0.4444444444444444,
              "#bd3786"
             ],
             [
              0.5555555555555556,
              "#d8576b"
             ],
             [
              0.6666666666666666,
              "#ed7953"
             ],
             [
              0.7777777777777778,
              "#fb9f3a"
             ],
             [
              0.8888888888888888,
              "#fdca26"
             ],
             [
              1,
              "#f0f921"
             ]
            ],
            "type": "contour"
           }
          ],
          "contourcarpet": [
           {
            "colorbar": {
             "outlinewidth": 0,
             "ticks": ""
            },
            "type": "contourcarpet"
           }
          ],
          "heatmap": [
           {
            "colorbar": {
             "outlinewidth": 0,
             "ticks": ""
            },
            "colorscale": [
             [
              0,
              "#0d0887"
             ],
             [
              0.1111111111111111,
              "#46039f"
             ],
             [
              0.2222222222222222,
              "#7201a8"
             ],
             [
              0.3333333333333333,
              "#9c179e"
             ],
             [
              0.4444444444444444,
              "#bd3786"
             ],
             [
              0.5555555555555556,
              "#d8576b"
             ],
             [
              0.6666666666666666,
              "#ed7953"
             ],
             [
              0.7777777777777778,
              "#fb9f3a"
             ],
             [
              0.8888888888888888,
              "#fdca26"
             ],
             [
              1,
              "#f0f921"
             ]
            ],
            "type": "heatmap"
           }
          ],
          "heatmapgl": [
           {
            "colorbar": {
             "outlinewidth": 0,
             "ticks": ""
            },
            "colorscale": [
             [
              0,
              "#0d0887"
             ],
             [
              0.1111111111111111,
              "#46039f"
             ],
             [
              0.2222222222222222,
              "#7201a8"
             ],
             [
              0.3333333333333333,
              "#9c179e"
             ],
             [
              0.4444444444444444,
              "#bd3786"
             ],
             [
              0.5555555555555556,
              "#d8576b"
             ],
             [
              0.6666666666666666,
              "#ed7953"
             ],
             [
              0.7777777777777778,
              "#fb9f3a"
             ],
             [
              0.8888888888888888,
              "#fdca26"
             ],
             [
              1,
              "#f0f921"
             ]
            ],
            "type": "heatmapgl"
           }
          ],
          "histogram": [
           {
            "marker": {
             "pattern": {
              "fillmode": "overlay",
              "size": 10,
              "solidity": 0.2
             }
            },
            "type": "histogram"
           }
          ],
          "histogram2d": [
           {
            "colorbar": {
             "outlinewidth": 0,
             "ticks": ""
            },
            "colorscale": [
             [
              0,
              "#0d0887"
             ],
             [
              0.1111111111111111,
              "#46039f"
             ],
             [
              0.2222222222222222,
              "#7201a8"
             ],
             [
              0.3333333333333333,
              "#9c179e"
             ],
             [
              0.4444444444444444,
              "#bd3786"
             ],
             [
              0.5555555555555556,
              "#d8576b"
             ],
             [
              0.6666666666666666,
              "#ed7953"
             ],
             [
              0.7777777777777778,
              "#fb9f3a"
             ],
             [
              0.8888888888888888,
              "#fdca26"
             ],
             [
              1,
              "#f0f921"
             ]
            ],
            "type": "histogram2d"
           }
          ],
          "histogram2dcontour": [
           {
            "colorbar": {
             "outlinewidth": 0,
             "ticks": ""
            },
            "colorscale": [
             [
              0,
              "#0d0887"
             ],
             [
              0.1111111111111111,
              "#46039f"
             ],
             [
              0.2222222222222222,
              "#7201a8"
             ],
             [
              0.3333333333333333,
              "#9c179e"
             ],
             [
              0.4444444444444444,
              "#bd3786"
             ],
             [
              0.5555555555555556,
              "#d8576b"
             ],
             [
              0.6666666666666666,
              "#ed7953"
             ],
             [
              0.7777777777777778,
              "#fb9f3a"
             ],
             [
              0.8888888888888888,
              "#fdca26"
             ],
             [
              1,
              "#f0f921"
             ]
            ],
            "type": "histogram2dcontour"
           }
          ],
          "mesh3d": [
           {
            "colorbar": {
             "outlinewidth": 0,
             "ticks": ""
            },
            "type": "mesh3d"
           }
          ],
          "parcoords": [
           {
            "line": {
             "colorbar": {
              "outlinewidth": 0,
              "ticks": ""
             }
            },
            "type": "parcoords"
           }
          ],
          "pie": [
           {
            "automargin": true,
            "type": "pie"
           }
          ],
          "scatter": [
           {
            "fillpattern": {
             "fillmode": "overlay",
             "size": 10,
             "solidity": 0.2
            },
            "type": "scatter"
           }
          ],
          "scatter3d": [
           {
            "line": {
             "colorbar": {
              "outlinewidth": 0,
              "ticks": ""
             }
            },
            "marker": {
             "colorbar": {
              "outlinewidth": 0,
              "ticks": ""
             }
            },
            "type": "scatter3d"
           }
          ],
          "scattercarpet": [
           {
            "marker": {
             "colorbar": {
              "outlinewidth": 0,
              "ticks": ""
             }
            },
            "type": "scattercarpet"
           }
          ],
          "scattergeo": [
           {
            "marker": {
             "colorbar": {
              "outlinewidth": 0,
              "ticks": ""
             }
            },
            "type": "scattergeo"
           }
          ],
          "scattergl": [
           {
            "marker": {
             "colorbar": {
              "outlinewidth": 0,
              "ticks": ""
             }
            },
            "type": "scattergl"
           }
          ],
          "scattermapbox": [
           {
            "marker": {
             "colorbar": {
              "outlinewidth": 0,
              "ticks": ""
             }
            },
            "type": "scattermapbox"
           }
          ],
          "scatterpolar": [
           {
            "marker": {
             "colorbar": {
              "outlinewidth": 0,
              "ticks": ""
             }
            },
            "type": "scatterpolar"
           }
          ],
          "scatterpolargl": [
           {
            "marker": {
             "colorbar": {
              "outlinewidth": 0,
              "ticks": ""
             }
            },
            "type": "scatterpolargl"
           }
          ],
          "scatterternary": [
           {
            "marker": {
             "colorbar": {
              "outlinewidth": 0,
              "ticks": ""
             }
            },
            "type": "scatterternary"
           }
          ],
          "surface": [
           {
            "colorbar": {
             "outlinewidth": 0,
             "ticks": ""
            },
            "colorscale": [
             [
              0,
              "#0d0887"
             ],
             [
              0.1111111111111111,
              "#46039f"
             ],
             [
              0.2222222222222222,
              "#7201a8"
             ],
             [
              0.3333333333333333,
              "#9c179e"
             ],
             [
              0.4444444444444444,
              "#bd3786"
             ],
             [
              0.5555555555555556,
              "#d8576b"
             ],
             [
              0.6666666666666666,
              "#ed7953"
             ],
             [
              0.7777777777777778,
              "#fb9f3a"
             ],
             [
              0.8888888888888888,
              "#fdca26"
             ],
             [
              1,
              "#f0f921"
             ]
            ],
            "type": "surface"
           }
          ],
          "table": [
           {
            "cells": {
             "fill": {
              "color": "#EBF0F8"
             },
             "line": {
              "color": "white"
             }
            },
            "header": {
             "fill": {
              "color": "#C8D4E3"
             },
             "line": {
              "color": "white"
             }
            },
            "type": "table"
           }
          ]
         },
         "layout": {
          "annotationdefaults": {
           "arrowcolor": "#2a3f5f",
           "arrowhead": 0,
           "arrowwidth": 1
          },
          "autotypenumbers": "strict",
          "coloraxis": {
           "colorbar": {
            "outlinewidth": 0,
            "ticks": ""
           }
          },
          "colorscale": {
           "diverging": [
            [
             0,
             "#8e0152"
            ],
            [
             0.1,
             "#c51b7d"
            ],
            [
             0.2,
             "#de77ae"
            ],
            [
             0.3,
             "#f1b6da"
            ],
            [
             0.4,
             "#fde0ef"
            ],
            [
             0.5,
             "#f7f7f7"
            ],
            [
             0.6,
             "#e6f5d0"
            ],
            [
             0.7,
             "#b8e186"
            ],
            [
             0.8,
             "#7fbc41"
            ],
            [
             0.9,
             "#4d9221"
            ],
            [
             1,
             "#276419"
            ]
           ],
           "sequential": [
            [
             0,
             "#0d0887"
            ],
            [
             0.1111111111111111,
             "#46039f"
            ],
            [
             0.2222222222222222,
             "#7201a8"
            ],
            [
             0.3333333333333333,
             "#9c179e"
            ],
            [
             0.4444444444444444,
             "#bd3786"
            ],
            [
             0.5555555555555556,
             "#d8576b"
            ],
            [
             0.6666666666666666,
             "#ed7953"
            ],
            [
             0.7777777777777778,
             "#fb9f3a"
            ],
            [
             0.8888888888888888,
             "#fdca26"
            ],
            [
             1,
             "#f0f921"
            ]
           ],
           "sequentialminus": [
            [
             0,
             "#0d0887"
            ],
            [
             0.1111111111111111,
             "#46039f"
            ],
            [
             0.2222222222222222,
             "#7201a8"
            ],
            [
             0.3333333333333333,
             "#9c179e"
            ],
            [
             0.4444444444444444,
             "#bd3786"
            ],
            [
             0.5555555555555556,
             "#d8576b"
            ],
            [
             0.6666666666666666,
             "#ed7953"
            ],
            [
             0.7777777777777778,
             "#fb9f3a"
            ],
            [
             0.8888888888888888,
             "#fdca26"
            ],
            [
             1,
             "#f0f921"
            ]
           ]
          },
          "colorway": [
           "#636efa",
           "#EF553B",
           "#00cc96",
           "#ab63fa",
           "#FFA15A",
           "#19d3f3",
           "#FF6692",
           "#B6E880",
           "#FF97FF",
           "#FECB52"
          ],
          "font": {
           "color": "#2a3f5f"
          },
          "geo": {
           "bgcolor": "white",
           "lakecolor": "white",
           "landcolor": "#E5ECF6",
           "showlakes": true,
           "showland": true,
           "subunitcolor": "white"
          },
          "hoverlabel": {
           "align": "left"
          },
          "hovermode": "closest",
          "mapbox": {
           "style": "light"
          },
          "paper_bgcolor": "white",
          "plot_bgcolor": "#E5ECF6",
          "polar": {
           "angularaxis": {
            "gridcolor": "white",
            "linecolor": "white",
            "ticks": ""
           },
           "bgcolor": "#E5ECF6",
           "radialaxis": {
            "gridcolor": "white",
            "linecolor": "white",
            "ticks": ""
           }
          },
          "scene": {
           "xaxis": {
            "backgroundcolor": "#E5ECF6",
            "gridcolor": "white",
            "gridwidth": 2,
            "linecolor": "white",
            "showbackground": true,
            "ticks": "",
            "zerolinecolor": "white"
           },
           "yaxis": {
            "backgroundcolor": "#E5ECF6",
            "gridcolor": "white",
            "gridwidth": 2,
            "linecolor": "white",
            "showbackground": true,
            "ticks": "",
            "zerolinecolor": "white"
           },
           "zaxis": {
            "backgroundcolor": "#E5ECF6",
            "gridcolor": "white",
            "gridwidth": 2,
            "linecolor": "white",
            "showbackground": true,
            "ticks": "",
            "zerolinecolor": "white"
           }
          },
          "shapedefaults": {
           "line": {
            "color": "#2a3f5f"
           }
          },
          "ternary": {
           "aaxis": {
            "gridcolor": "white",
            "linecolor": "white",
            "ticks": ""
           },
           "baxis": {
            "gridcolor": "white",
            "linecolor": "white",
            "ticks": ""
           },
           "bgcolor": "#E5ECF6",
           "caxis": {
            "gridcolor": "white",
            "linecolor": "white",
            "ticks": ""
           }
          },
          "title": {
           "x": 0.05
          },
          "xaxis": {
           "automargin": true,
           "gridcolor": "white",
           "linecolor": "white",
           "ticks": "",
           "title": {
            "standoff": 15
           },
           "zerolinecolor": "white",
           "zerolinewidth": 2
          },
          "yaxis": {
           "automargin": true,
           "gridcolor": "white",
           "linecolor": "white",
           "ticks": "",
           "title": {
            "standoff": 15
           },
           "zerolinecolor": "white",
           "zerolinewidth": 2
          }
         }
        },
        "title": {
         "text": "clipped event vs validated spot porice swap cost"
        },
        "xaxis": {
         "anchor": "y",
         "domain": [
          0,
          1
         ],
         "title": {
          "text": "index"
         }
        },
        "yaxis": {
         "anchor": "x",
         "domain": [
          0,
          1
         ],
         "title": {
          "text": "value"
         }
        }
       }
      }
     },
     "metadata": {},
     "output_type": "display_data"
    }
   ],
   "source": [
    "px.line(rebalance_from_idle_df[['swap_cost_from_event', 'validated_spot_value_of_swap_cost']], title='clipped event vs validated spot porice swap cost')"
   ]
  },
  {
   "cell_type": "code",
   "execution_count": 27,
   "metadata": {},
   "outputs": [
    {
     "data": {
      "application/vnd.plotly.v1+json": {
       "config": {
        "plotlyServerURL": "https://plot.ly"
       },
       "data": [
        {
         "hovertemplate": "variable=swap_cost_from_event<br>index=%{x}<br>value=%{y}<extra></extra>",
         "legendgroup": "swap_cost_from_event",
         "line": {
          "color": "#636efa",
          "dash": "solid"
         },
         "marker": {
          "symbol": "circle"
         },
         "mode": "lines",
         "name": "swap_cost_from_event",
         "orientation": "v",
         "showlegend": true,
         "type": "scatter",
         "x": [
          0,
          1,
          2,
          3,
          4,
          5,
          6,
          7,
          8,
          9,
          10,
          11,
          12,
          13,
          14,
          15,
          16,
          17,
          18,
          19,
          20,
          21,
          22,
          23,
          24,
          25,
          26,
          27,
          28,
          29,
          30,
          31,
          32,
          33,
          34,
          35,
          36,
          37,
          38,
          39,
          40,
          41,
          42,
          43,
          44,
          45,
          46,
          47,
          48,
          49,
          50,
          51,
          52,
          53,
          54,
          55,
          56,
          57,
          58,
          59,
          60,
          61,
          62,
          63,
          64,
          65,
          66,
          67,
          68,
          69,
          70,
          71,
          72,
          73,
          74,
          75,
          76,
          77,
          78,
          79,
          80,
          81,
          82,
          83,
          84
         ],
         "xaxis": "x",
         "y": [
          0.033739262928400356,
          0.11275303118555476,
          0.06676748889564244,
          0.057266192139269874,
          0.16759016338892094,
          0.7342867859438394,
          0.31774515905730366,
          0.1325690596477929,
          0.23418220842650592,
          0.17451011299272298,
          0.564439888125962,
          0.1384074223090354,
          0.39589263526250235,
          0.09518403961736761,
          0.1311584998989427,
          0.3041522686078608,
          0.19589376745950557,
          0.13412805371384529,
          0.08272633237916499,
          0.2823129353645674,
          0.26159835829549394,
          0.09529875189381759,
          0.2368878221103638,
          0.05110807066985053,
          0.04901899488487748,
          0.06538137599201181,
          0.11081889255291612,
          0.03545912099241052,
          0.2304751199533159,
          0.274883445858698,
          0.13972418296064212,
          0.12053924164326661,
          0.08706355983500241,
          0.5975523176714236,
          0.46162070844513536,
          0.3407717304159482,
          0.2743823027078477,
          0.2101469535307474,
          0.33037055360939666,
          0.6675762875154462,
          0.4097436685537321,
          0.32464527570099666,
          0.3712164800740008,
          0.16088005834711025,
          0.29154539960290693,
          0.39842495945959505,
          0.13019896847675036,
          0.18597759439189485,
          0.14197196395920011,
          0.06565337741827264,
          0.03945693062241776,
          0.03528164905067957,
          0.08832012020411287,
          0.02112477598988085,
          0.016432517898161567,
          0.004844850611607696,
          0.003657258941453412,
          0.0285602662036433,
          0.02134323673667791,
          0.07410155015016144,
          0.000807728710276489,
          0.001469952424456903,
          0.05116879897632327,
          0.001295537534150765,
          0.014803500899666724,
          0.13083004618013436,
          0.010720229086550232,
          0.018456455985150697,
          0.0318189898183711,
          0.029923145802510633,
          0.02565911474767577,
          0.12101712111141089,
          0.16169652571921303,
          0.23638479531002574,
          0.16267063902174989,
          0.13853025219334678,
          0.10101928767618314,
          0.08151602944992747,
          0.004675471113401795,
          0.06732634723187307,
          0.16234041541849065,
          0.0632832083264706,
          0.06212025223229654,
          0.033764781617403046,
          0.02660995440191241
         ],
         "yaxis": "y"
        },
        {
         "hovertemplate": "variable=validated_spot_value_of_swap_cost<br>index=%{x}<br>value=%{y}<extra></extra>",
         "legendgroup": "validated_spot_value_of_swap_cost",
         "line": {
          "color": "#EF553B",
          "dash": "solid"
         },
         "marker": {
          "symbol": "circle"
         },
         "mode": "lines",
         "name": "validated_spot_value_of_swap_cost",
         "orientation": "v",
         "showlegend": true,
         "type": "scatter",
         "x": [
          0,
          1,
          2,
          3,
          4,
          5,
          6,
          7,
          8,
          9,
          10,
          11,
          12,
          13,
          14,
          15,
          16,
          17,
          18,
          19,
          20,
          21,
          22,
          23,
          24,
          25,
          26,
          27,
          28,
          29,
          30,
          31,
          32,
          33,
          34,
          35,
          36,
          37,
          38,
          39,
          40,
          41,
          42,
          43,
          44,
          45,
          46,
          47,
          48,
          49,
          50,
          51,
          52,
          53,
          54,
          55,
          56,
          57,
          58,
          59,
          60,
          61,
          62,
          63,
          64,
          65,
          66,
          67,
          68,
          69,
          70,
          71,
          72,
          73,
          74,
          75,
          76,
          77,
          78,
          79,
          80,
          81,
          82,
          83,
          84
         ],
         "xaxis": "x",
         "y": [
          0.005152142889954803,
          0.1127655431638459,
          0.03756577883078194,
          0.03031880338897963,
          0.16761639094772818,
          0.7345492307764516,
          0.3164437462951355,
          0.13257203488421965,
          0.130129755840386,
          0.1745059551396082,
          0.4844384619875086,
          0.1383921433924229,
          0.15708986529512003,
          0,
          0.1311551530081374,
          0.1217009118542478,
          0.1958891214780465,
          0.13095062304961402,
          0.0827325992480894,
          0.08411550635548792,
          0,
          0,
          0,
          0,
          0.018914752859672035,
          0.016752467944883165,
          0.07371214911269419,
          0,
          0.22971004644256254,
          0.2748802379564097,
          0.1394671208358318,
          0.12054273232452317,
          0.08670114334691448,
          0.23886073163777155,
          0.4611329260603725,
          0.34071495493193993,
          0.27438570241332627,
          0.20966556802267178,
          0.3276622685517907,
          0.667607015969736,
          0.4097569461536068,
          0.3246569468474263,
          0.05053470355164791,
          0.16087904421141275,
          0,
          0.39844407280253336,
          0.12231513585226139,
          0,
          0.03566437353119056,
          0,
          0.01350748828666326,
          0.007965050253204708,
          0.08089605106674469,
          0.011476753322781974,
          0.00834764894279516,
          0,
          0,
          0.011946899693093371,
          0.01164259122706568,
          0.02705253121506246,
          0,
          0.00027278400413299764,
          0.00693590784595699,
          0.00022939520105325073,
          0.0030705301968758647,
          0.03848467277859413,
          0.00285964809334871,
          0.008374378316538866,
          0.017584694265920575,
          0.015080077067558761,
          0.014317634094258125,
          0.09816188052153052,
          0.16121004878652911,
          0.07099327409436285,
          0.03433273048590024,
          0.04139009122700088,
          0.029122368099841367,
          0.01554826163734191,
          0,
          0.02733648494721308,
          0.021546778119727605,
          0.02329230517993608,
          0,
          0.006188863999724958,
          0.0037959985226194704
         ],
         "yaxis": "y"
        }
       ],
       "layout": {
        "legend": {
         "title": {
          "text": "variable"
         },
         "tracegroupgap": 0
        },
        "template": {
         "data": {
          "bar": [
           {
            "error_x": {
             "color": "#2a3f5f"
            },
            "error_y": {
             "color": "#2a3f5f"
            },
            "marker": {
             "line": {
              "color": "#E5ECF6",
              "width": 0.5
             },
             "pattern": {
              "fillmode": "overlay",
              "size": 10,
              "solidity": 0.2
             }
            },
            "type": "bar"
           }
          ],
          "barpolar": [
           {
            "marker": {
             "line": {
              "color": "#E5ECF6",
              "width": 0.5
             },
             "pattern": {
              "fillmode": "overlay",
              "size": 10,
              "solidity": 0.2
             }
            },
            "type": "barpolar"
           }
          ],
          "carpet": [
           {
            "aaxis": {
             "endlinecolor": "#2a3f5f",
             "gridcolor": "white",
             "linecolor": "white",
             "minorgridcolor": "white",
             "startlinecolor": "#2a3f5f"
            },
            "baxis": {
             "endlinecolor": "#2a3f5f",
             "gridcolor": "white",
             "linecolor": "white",
             "minorgridcolor": "white",
             "startlinecolor": "#2a3f5f"
            },
            "type": "carpet"
           }
          ],
          "choropleth": [
           {
            "colorbar": {
             "outlinewidth": 0,
             "ticks": ""
            },
            "type": "choropleth"
           }
          ],
          "contour": [
           {
            "colorbar": {
             "outlinewidth": 0,
             "ticks": ""
            },
            "colorscale": [
             [
              0,
              "#0d0887"
             ],
             [
              0.1111111111111111,
              "#46039f"
             ],
             [
              0.2222222222222222,
              "#7201a8"
             ],
             [
              0.3333333333333333,
              "#9c179e"
             ],
             [
              0.4444444444444444,
              "#bd3786"
             ],
             [
              0.5555555555555556,
              "#d8576b"
             ],
             [
              0.6666666666666666,
              "#ed7953"
             ],
             [
              0.7777777777777778,
              "#fb9f3a"
             ],
             [
              0.8888888888888888,
              "#fdca26"
             ],
             [
              1,
              "#f0f921"
             ]
            ],
            "type": "contour"
           }
          ],
          "contourcarpet": [
           {
            "colorbar": {
             "outlinewidth": 0,
             "ticks": ""
            },
            "type": "contourcarpet"
           }
          ],
          "heatmap": [
           {
            "colorbar": {
             "outlinewidth": 0,
             "ticks": ""
            },
            "colorscale": [
             [
              0,
              "#0d0887"
             ],
             [
              0.1111111111111111,
              "#46039f"
             ],
             [
              0.2222222222222222,
              "#7201a8"
             ],
             [
              0.3333333333333333,
              "#9c179e"
             ],
             [
              0.4444444444444444,
              "#bd3786"
             ],
             [
              0.5555555555555556,
              "#d8576b"
             ],
             [
              0.6666666666666666,
              "#ed7953"
             ],
             [
              0.7777777777777778,
              "#fb9f3a"
             ],
             [
              0.8888888888888888,
              "#fdca26"
             ],
             [
              1,
              "#f0f921"
             ]
            ],
            "type": "heatmap"
           }
          ],
          "heatmapgl": [
           {
            "colorbar": {
             "outlinewidth": 0,
             "ticks": ""
            },
            "colorscale": [
             [
              0,
              "#0d0887"
             ],
             [
              0.1111111111111111,
              "#46039f"
             ],
             [
              0.2222222222222222,
              "#7201a8"
             ],
             [
              0.3333333333333333,
              "#9c179e"
             ],
             [
              0.4444444444444444,
              "#bd3786"
             ],
             [
              0.5555555555555556,
              "#d8576b"
             ],
             [
              0.6666666666666666,
              "#ed7953"
             ],
             [
              0.7777777777777778,
              "#fb9f3a"
             ],
             [
              0.8888888888888888,
              "#fdca26"
             ],
             [
              1,
              "#f0f921"
             ]
            ],
            "type": "heatmapgl"
           }
          ],
          "histogram": [
           {
            "marker": {
             "pattern": {
              "fillmode": "overlay",
              "size": 10,
              "solidity": 0.2
             }
            },
            "type": "histogram"
           }
          ],
          "histogram2d": [
           {
            "colorbar": {
             "outlinewidth": 0,
             "ticks": ""
            },
            "colorscale": [
             [
              0,
              "#0d0887"
             ],
             [
              0.1111111111111111,
              "#46039f"
             ],
             [
              0.2222222222222222,
              "#7201a8"
             ],
             [
              0.3333333333333333,
              "#9c179e"
             ],
             [
              0.4444444444444444,
              "#bd3786"
             ],
             [
              0.5555555555555556,
              "#d8576b"
             ],
             [
              0.6666666666666666,
              "#ed7953"
             ],
             [
              0.7777777777777778,
              "#fb9f3a"
             ],
             [
              0.8888888888888888,
              "#fdca26"
             ],
             [
              1,
              "#f0f921"
             ]
            ],
            "type": "histogram2d"
           }
          ],
          "histogram2dcontour": [
           {
            "colorbar": {
             "outlinewidth": 0,
             "ticks": ""
            },
            "colorscale": [
             [
              0,
              "#0d0887"
             ],
             [
              0.1111111111111111,
              "#46039f"
             ],
             [
              0.2222222222222222,
              "#7201a8"
             ],
             [
              0.3333333333333333,
              "#9c179e"
             ],
             [
              0.4444444444444444,
              "#bd3786"
             ],
             [
              0.5555555555555556,
              "#d8576b"
             ],
             [
              0.6666666666666666,
              "#ed7953"
             ],
             [
              0.7777777777777778,
              "#fb9f3a"
             ],
             [
              0.8888888888888888,
              "#fdca26"
             ],
             [
              1,
              "#f0f921"
             ]
            ],
            "type": "histogram2dcontour"
           }
          ],
          "mesh3d": [
           {
            "colorbar": {
             "outlinewidth": 0,
             "ticks": ""
            },
            "type": "mesh3d"
           }
          ],
          "parcoords": [
           {
            "line": {
             "colorbar": {
              "outlinewidth": 0,
              "ticks": ""
             }
            },
            "type": "parcoords"
           }
          ],
          "pie": [
           {
            "automargin": true,
            "type": "pie"
           }
          ],
          "scatter": [
           {
            "fillpattern": {
             "fillmode": "overlay",
             "size": 10,
             "solidity": 0.2
            },
            "type": "scatter"
           }
          ],
          "scatter3d": [
           {
            "line": {
             "colorbar": {
              "outlinewidth": 0,
              "ticks": ""
             }
            },
            "marker": {
             "colorbar": {
              "outlinewidth": 0,
              "ticks": ""
             }
            },
            "type": "scatter3d"
           }
          ],
          "scattercarpet": [
           {
            "marker": {
             "colorbar": {
              "outlinewidth": 0,
              "ticks": ""
             }
            },
            "type": "scattercarpet"
           }
          ],
          "scattergeo": [
           {
            "marker": {
             "colorbar": {
              "outlinewidth": 0,
              "ticks": ""
             }
            },
            "type": "scattergeo"
           }
          ],
          "scattergl": [
           {
            "marker": {
             "colorbar": {
              "outlinewidth": 0,
              "ticks": ""
             }
            },
            "type": "scattergl"
           }
          ],
          "scattermapbox": [
           {
            "marker": {
             "colorbar": {
              "outlinewidth": 0,
              "ticks": ""
             }
            },
            "type": "scattermapbox"
           }
          ],
          "scatterpolar": [
           {
            "marker": {
             "colorbar": {
              "outlinewidth": 0,
              "ticks": ""
             }
            },
            "type": "scatterpolar"
           }
          ],
          "scatterpolargl": [
           {
            "marker": {
             "colorbar": {
              "outlinewidth": 0,
              "ticks": ""
             }
            },
            "type": "scatterpolargl"
           }
          ],
          "scatterternary": [
           {
            "marker": {
             "colorbar": {
              "outlinewidth": 0,
              "ticks": ""
             }
            },
            "type": "scatterternary"
           }
          ],
          "surface": [
           {
            "colorbar": {
             "outlinewidth": 0,
             "ticks": ""
            },
            "colorscale": [
             [
              0,
              "#0d0887"
             ],
             [
              0.1111111111111111,
              "#46039f"
             ],
             [
              0.2222222222222222,
              "#7201a8"
             ],
             [
              0.3333333333333333,
              "#9c179e"
             ],
             [
              0.4444444444444444,
              "#bd3786"
             ],
             [
              0.5555555555555556,
              "#d8576b"
             ],
             [
              0.6666666666666666,
              "#ed7953"
             ],
             [
              0.7777777777777778,
              "#fb9f3a"
             ],
             [
              0.8888888888888888,
              "#fdca26"
             ],
             [
              1,
              "#f0f921"
             ]
            ],
            "type": "surface"
           }
          ],
          "table": [
           {
            "cells": {
             "fill": {
              "color": "#EBF0F8"
             },
             "line": {
              "color": "white"
             }
            },
            "header": {
             "fill": {
              "color": "#C8D4E3"
             },
             "line": {
              "color": "white"
             }
            },
            "type": "table"
           }
          ]
         },
         "layout": {
          "annotationdefaults": {
           "arrowcolor": "#2a3f5f",
           "arrowhead": 0,
           "arrowwidth": 1
          },
          "autotypenumbers": "strict",
          "coloraxis": {
           "colorbar": {
            "outlinewidth": 0,
            "ticks": ""
           }
          },
          "colorscale": {
           "diverging": [
            [
             0,
             "#8e0152"
            ],
            [
             0.1,
             "#c51b7d"
            ],
            [
             0.2,
             "#de77ae"
            ],
            [
             0.3,
             "#f1b6da"
            ],
            [
             0.4,
             "#fde0ef"
            ],
            [
             0.5,
             "#f7f7f7"
            ],
            [
             0.6,
             "#e6f5d0"
            ],
            [
             0.7,
             "#b8e186"
            ],
            [
             0.8,
             "#7fbc41"
            ],
            [
             0.9,
             "#4d9221"
            ],
            [
             1,
             "#276419"
            ]
           ],
           "sequential": [
            [
             0,
             "#0d0887"
            ],
            [
             0.1111111111111111,
             "#46039f"
            ],
            [
             0.2222222222222222,
             "#7201a8"
            ],
            [
             0.3333333333333333,
             "#9c179e"
            ],
            [
             0.4444444444444444,
             "#bd3786"
            ],
            [
             0.5555555555555556,
             "#d8576b"
            ],
            [
             0.6666666666666666,
             "#ed7953"
            ],
            [
             0.7777777777777778,
             "#fb9f3a"
            ],
            [
             0.8888888888888888,
             "#fdca26"
            ],
            [
             1,
             "#f0f921"
            ]
           ],
           "sequentialminus": [
            [
             0,
             "#0d0887"
            ],
            [
             0.1111111111111111,
             "#46039f"
            ],
            [
             0.2222222222222222,
             "#7201a8"
            ],
            [
             0.3333333333333333,
             "#9c179e"
            ],
            [
             0.4444444444444444,
             "#bd3786"
            ],
            [
             0.5555555555555556,
             "#d8576b"
            ],
            [
             0.6666666666666666,
             "#ed7953"
            ],
            [
             0.7777777777777778,
             "#fb9f3a"
            ],
            [
             0.8888888888888888,
             "#fdca26"
            ],
            [
             1,
             "#f0f921"
            ]
           ]
          },
          "colorway": [
           "#636efa",
           "#EF553B",
           "#00cc96",
           "#ab63fa",
           "#FFA15A",
           "#19d3f3",
           "#FF6692",
           "#B6E880",
           "#FF97FF",
           "#FECB52"
          ],
          "font": {
           "color": "#2a3f5f"
          },
          "geo": {
           "bgcolor": "white",
           "lakecolor": "white",
           "landcolor": "#E5ECF6",
           "showlakes": true,
           "showland": true,
           "subunitcolor": "white"
          },
          "hoverlabel": {
           "align": "left"
          },
          "hovermode": "closest",
          "mapbox": {
           "style": "light"
          },
          "paper_bgcolor": "white",
          "plot_bgcolor": "#E5ECF6",
          "polar": {
           "angularaxis": {
            "gridcolor": "white",
            "linecolor": "white",
            "ticks": ""
           },
           "bgcolor": "#E5ECF6",
           "radialaxis": {
            "gridcolor": "white",
            "linecolor": "white",
            "ticks": ""
           }
          },
          "scene": {
           "xaxis": {
            "backgroundcolor": "#E5ECF6",
            "gridcolor": "white",
            "gridwidth": 2,
            "linecolor": "white",
            "showbackground": true,
            "ticks": "",
            "zerolinecolor": "white"
           },
           "yaxis": {
            "backgroundcolor": "#E5ECF6",
            "gridcolor": "white",
            "gridwidth": 2,
            "linecolor": "white",
            "showbackground": true,
            "ticks": "",
            "zerolinecolor": "white"
           },
           "zaxis": {
            "backgroundcolor": "#E5ECF6",
            "gridcolor": "white",
            "gridwidth": 2,
            "linecolor": "white",
            "showbackground": true,
            "ticks": "",
            "zerolinecolor": "white"
           }
          },
          "shapedefaults": {
           "line": {
            "color": "#2a3f5f"
           }
          },
          "ternary": {
           "aaxis": {
            "gridcolor": "white",
            "linecolor": "white",
            "ticks": ""
           },
           "baxis": {
            "gridcolor": "white",
            "linecolor": "white",
            "ticks": ""
           },
           "bgcolor": "#E5ECF6",
           "caxis": {
            "gridcolor": "white",
            "linecolor": "white",
            "ticks": ""
           }
          },
          "title": {
           "x": 0.05
          },
          "xaxis": {
           "automargin": true,
           "gridcolor": "white",
           "linecolor": "white",
           "ticks": "",
           "title": {
            "standoff": 15
           },
           "zerolinecolor": "white",
           "zerolinewidth": 2
          },
          "yaxis": {
           "automargin": true,
           "gridcolor": "white",
           "linecolor": "white",
           "ticks": "",
           "title": {
            "standoff": 15
           },
           "zerolinecolor": "white",
           "zerolinewidth": 2
          }
         }
        },
        "title": {
         "text": "clipped event vs validated spot porice swap cost"
        },
        "xaxis": {
         "anchor": "y",
         "domain": [
          0,
          1
         ],
         "title": {
          "text": "index"
         }
        },
        "yaxis": {
         "anchor": "x",
         "domain": [
          0,
          1
         ],
         "title": {
          "text": "value"
         }
        }
       }
      }
     },
     "metadata": {},
     "output_type": "display_data"
    }
   ],
   "source": [
    "px.line(rebalance_from_idle_df[['swap_cost_from_event', 'validated_spot_value_of_swap_cost']].clip(lower=0), title='clipped event vs validated spot porice swap cost')"
   ]
  },
  {
   "cell_type": "code",
   "execution_count": 19,
   "metadata": {},
   "outputs": [
    {
     "data": {
      "text/plain": [
       "validated_spot_value_of_swap_cost\n",
       "False    71\n",
       "True     14\n",
       "Name: count, dtype: int64"
      ]
     },
     "execution_count": 19,
     "metadata": {},
     "output_type": "execute_result"
    }
   ],
   "source": [
    "(rebalance_from_idle_df['validated_spot_value_of_swap_cost'] < 0).value_counts()"
   ]
  },
  {
   "cell_type": "code",
   "execution_count": null,
   "metadata": {},
   "outputs": [],
   "source": []
  },
  {
   "cell_type": "code",
   "execution_count": 20,
   "metadata": {},
   "outputs": [],
   "source": [
    "# sometimes the swap cost can be negative, "
   ]
  },
  {
   "cell_type": "code",
   "execution_count": 21,
   "metadata": {},
   "outputs": [
    {
     "data": {
      "application/vnd.plotly.v1+json": {
       "config": {
        "plotlyServerURL": "https://plot.ly"
       },
       "data": [
        {
         "alignmentgroup": "True",
         "bingroup": "x",
         "hovertemplate": "variable=validated_spot_value_of_swap_cost<br>value=%{x}<br>count=%{y}<extra></extra>",
         "legendgroup": "validated_spot_value_of_swap_cost",
         "marker": {
          "color": "#636efa",
          "pattern": {
           "shape": ""
          }
         },
         "name": "validated_spot_value_of_swap_cost",
         "offsetgroup": "validated_spot_value_of_swap_cost",
         "orientation": "v",
         "showlegend": true,
         "type": "histogram",
         "x": [
          0.005152142889954803,
          0.1127655431638459,
          0.03756577883078194,
          0.03031880338897963,
          0.16761639094772818,
          0.7345492307764516,
          0.3164437462951355,
          0.13257203488421965,
          0.130129755840386,
          0.1745059551396082,
          0.4844384619875086,
          0.1383921433924229,
          0.15708986529512003,
          -0.014615218076642122,
          0.1311551530081374,
          0.1217009118542478,
          0.1958891214780465,
          0.13095062304961402,
          0.0827325992480894,
          0.08411550635548792,
          -6.360620983267978,
          -0.03781797436673173,
          -3.9930642545417356,
          -0.01998384263913522,
          0.018914752859672035,
          0.016752467944883165,
          0.07371214911269419,
          -0.008226021119156712,
          0.22971004644256254,
          0.2748802379564097,
          0.1394671208358318,
          0.12054273232452317,
          0.08670114334691448,
          0.23886073163777155,
          0.4611329260603725,
          0.34071495493193993,
          0.27438570241332627,
          0.20966556802267178,
          0.3276622685517907,
          0.667607015969736,
          0.4097569461536068,
          0.3246569468474263,
          0.05053470355164791,
          0.16087904421141275,
          -2.0645396148348993,
          0.39844407280253336,
          0.12231513585226139,
          -1.1633210411310557,
          0.03566437353119056,
          -0.0021202254020238342,
          0.01350748828666326,
          0.007965050253204708,
          0.08089605106674469,
          0.011476753322781974,
          0.00834764894279516,
          -0.03370354047959356,
          -0.06847169560929167,
          0.011946899693093371,
          0.01164259122706568,
          0.02705253121506246,
          -0.004050726397555993,
          0.00027278400413299764,
          0.00693590784595699,
          0.00022939520105325073,
          0.0030705301968758647,
          0.03848467277859413,
          0.00285964809334871,
          0.008374378316538866,
          0.017584694265920575,
          0.015080077067558761,
          0.014317634094258125,
          0.09816188052153052,
          0.16121004878652911,
          0.07099327409436285,
          0.03433273048590024,
          0.04139009122700088,
          0.029122368099841367,
          0.01554826163734191,
          -0.0030369662606020142,
          0.02733648494721308,
          0.021546778119727605,
          0.02329230517993608,
          -0.09343276481095586,
          0.006188863999724958,
          0.0037959985226194704
         ],
         "xaxis": "x",
         "yaxis": "y"
        }
       ],
       "layout": {
        "barmode": "relative",
        "legend": {
         "title": {
          "text": "variable"
         },
         "tracegroupgap": 0
        },
        "margin": {
         "t": 60
        },
        "template": {
         "data": {
          "bar": [
           {
            "error_x": {
             "color": "#2a3f5f"
            },
            "error_y": {
             "color": "#2a3f5f"
            },
            "marker": {
             "line": {
              "color": "#E5ECF6",
              "width": 0.5
             },
             "pattern": {
              "fillmode": "overlay",
              "size": 10,
              "solidity": 0.2
             }
            },
            "type": "bar"
           }
          ],
          "barpolar": [
           {
            "marker": {
             "line": {
              "color": "#E5ECF6",
              "width": 0.5
             },
             "pattern": {
              "fillmode": "overlay",
              "size": 10,
              "solidity": 0.2
             }
            },
            "type": "barpolar"
           }
          ],
          "carpet": [
           {
            "aaxis": {
             "endlinecolor": "#2a3f5f",
             "gridcolor": "white",
             "linecolor": "white",
             "minorgridcolor": "white",
             "startlinecolor": "#2a3f5f"
            },
            "baxis": {
             "endlinecolor": "#2a3f5f",
             "gridcolor": "white",
             "linecolor": "white",
             "minorgridcolor": "white",
             "startlinecolor": "#2a3f5f"
            },
            "type": "carpet"
           }
          ],
          "choropleth": [
           {
            "colorbar": {
             "outlinewidth": 0,
             "ticks": ""
            },
            "type": "choropleth"
           }
          ],
          "contour": [
           {
            "colorbar": {
             "outlinewidth": 0,
             "ticks": ""
            },
            "colorscale": [
             [
              0,
              "#0d0887"
             ],
             [
              0.1111111111111111,
              "#46039f"
             ],
             [
              0.2222222222222222,
              "#7201a8"
             ],
             [
              0.3333333333333333,
              "#9c179e"
             ],
             [
              0.4444444444444444,
              "#bd3786"
             ],
             [
              0.5555555555555556,
              "#d8576b"
             ],
             [
              0.6666666666666666,
              "#ed7953"
             ],
             [
              0.7777777777777778,
              "#fb9f3a"
             ],
             [
              0.8888888888888888,
              "#fdca26"
             ],
             [
              1,
              "#f0f921"
             ]
            ],
            "type": "contour"
           }
          ],
          "contourcarpet": [
           {
            "colorbar": {
             "outlinewidth": 0,
             "ticks": ""
            },
            "type": "contourcarpet"
           }
          ],
          "heatmap": [
           {
            "colorbar": {
             "outlinewidth": 0,
             "ticks": ""
            },
            "colorscale": [
             [
              0,
              "#0d0887"
             ],
             [
              0.1111111111111111,
              "#46039f"
             ],
             [
              0.2222222222222222,
              "#7201a8"
             ],
             [
              0.3333333333333333,
              "#9c179e"
             ],
             [
              0.4444444444444444,
              "#bd3786"
             ],
             [
              0.5555555555555556,
              "#d8576b"
             ],
             [
              0.6666666666666666,
              "#ed7953"
             ],
             [
              0.7777777777777778,
              "#fb9f3a"
             ],
             [
              0.8888888888888888,
              "#fdca26"
             ],
             [
              1,
              "#f0f921"
             ]
            ],
            "type": "heatmap"
           }
          ],
          "heatmapgl": [
           {
            "colorbar": {
             "outlinewidth": 0,
             "ticks": ""
            },
            "colorscale": [
             [
              0,
              "#0d0887"
             ],
             [
              0.1111111111111111,
              "#46039f"
             ],
             [
              0.2222222222222222,
              "#7201a8"
             ],
             [
              0.3333333333333333,
              "#9c179e"
             ],
             [
              0.4444444444444444,
              "#bd3786"
             ],
             [
              0.5555555555555556,
              "#d8576b"
             ],
             [
              0.6666666666666666,
              "#ed7953"
             ],
             [
              0.7777777777777778,
              "#fb9f3a"
             ],
             [
              0.8888888888888888,
              "#fdca26"
             ],
             [
              1,
              "#f0f921"
             ]
            ],
            "type": "heatmapgl"
           }
          ],
          "histogram": [
           {
            "marker": {
             "pattern": {
              "fillmode": "overlay",
              "size": 10,
              "solidity": 0.2
             }
            },
            "type": "histogram"
           }
          ],
          "histogram2d": [
           {
            "colorbar": {
             "outlinewidth": 0,
             "ticks": ""
            },
            "colorscale": [
             [
              0,
              "#0d0887"
             ],
             [
              0.1111111111111111,
              "#46039f"
             ],
             [
              0.2222222222222222,
              "#7201a8"
             ],
             [
              0.3333333333333333,
              "#9c179e"
             ],
             [
              0.4444444444444444,
              "#bd3786"
             ],
             [
              0.5555555555555556,
              "#d8576b"
             ],
             [
              0.6666666666666666,
              "#ed7953"
             ],
             [
              0.7777777777777778,
              "#fb9f3a"
             ],
             [
              0.8888888888888888,
              "#fdca26"
             ],
             [
              1,
              "#f0f921"
             ]
            ],
            "type": "histogram2d"
           }
          ],
          "histogram2dcontour": [
           {
            "colorbar": {
             "outlinewidth": 0,
             "ticks": ""
            },
            "colorscale": [
             [
              0,
              "#0d0887"
             ],
             [
              0.1111111111111111,
              "#46039f"
             ],
             [
              0.2222222222222222,
              "#7201a8"
             ],
             [
              0.3333333333333333,
              "#9c179e"
             ],
             [
              0.4444444444444444,
              "#bd3786"
             ],
             [
              0.5555555555555556,
              "#d8576b"
             ],
             [
              0.6666666666666666,
              "#ed7953"
             ],
             [
              0.7777777777777778,
              "#fb9f3a"
             ],
             [
              0.8888888888888888,
              "#fdca26"
             ],
             [
              1,
              "#f0f921"
             ]
            ],
            "type": "histogram2dcontour"
           }
          ],
          "mesh3d": [
           {
            "colorbar": {
             "outlinewidth": 0,
             "ticks": ""
            },
            "type": "mesh3d"
           }
          ],
          "parcoords": [
           {
            "line": {
             "colorbar": {
              "outlinewidth": 0,
              "ticks": ""
             }
            },
            "type": "parcoords"
           }
          ],
          "pie": [
           {
            "automargin": true,
            "type": "pie"
           }
          ],
          "scatter": [
           {
            "fillpattern": {
             "fillmode": "overlay",
             "size": 10,
             "solidity": 0.2
            },
            "type": "scatter"
           }
          ],
          "scatter3d": [
           {
            "line": {
             "colorbar": {
              "outlinewidth": 0,
              "ticks": ""
             }
            },
            "marker": {
             "colorbar": {
              "outlinewidth": 0,
              "ticks": ""
             }
            },
            "type": "scatter3d"
           }
          ],
          "scattercarpet": [
           {
            "marker": {
             "colorbar": {
              "outlinewidth": 0,
              "ticks": ""
             }
            },
            "type": "scattercarpet"
           }
          ],
          "scattergeo": [
           {
            "marker": {
             "colorbar": {
              "outlinewidth": 0,
              "ticks": ""
             }
            },
            "type": "scattergeo"
           }
          ],
          "scattergl": [
           {
            "marker": {
             "colorbar": {
              "outlinewidth": 0,
              "ticks": ""
             }
            },
            "type": "scattergl"
           }
          ],
          "scattermapbox": [
           {
            "marker": {
             "colorbar": {
              "outlinewidth": 0,
              "ticks": ""
             }
            },
            "type": "scattermapbox"
           }
          ],
          "scatterpolar": [
           {
            "marker": {
             "colorbar": {
              "outlinewidth": 0,
              "ticks": ""
             }
            },
            "type": "scatterpolar"
           }
          ],
          "scatterpolargl": [
           {
            "marker": {
             "colorbar": {
              "outlinewidth": 0,
              "ticks": ""
             }
            },
            "type": "scatterpolargl"
           }
          ],
          "scatterternary": [
           {
            "marker": {
             "colorbar": {
              "outlinewidth": 0,
              "ticks": ""
             }
            },
            "type": "scatterternary"
           }
          ],
          "surface": [
           {
            "colorbar": {
             "outlinewidth": 0,
             "ticks": ""
            },
            "colorscale": [
             [
              0,
              "#0d0887"
             ],
             [
              0.1111111111111111,
              "#46039f"
             ],
             [
              0.2222222222222222,
              "#7201a8"
             ],
             [
              0.3333333333333333,
              "#9c179e"
             ],
             [
              0.4444444444444444,
              "#bd3786"
             ],
             [
              0.5555555555555556,
              "#d8576b"
             ],
             [
              0.6666666666666666,
              "#ed7953"
             ],
             [
              0.7777777777777778,
              "#fb9f3a"
             ],
             [
              0.8888888888888888,
              "#fdca26"
             ],
             [
              1,
              "#f0f921"
             ]
            ],
            "type": "surface"
           }
          ],
          "table": [
           {
            "cells": {
             "fill": {
              "color": "#EBF0F8"
             },
             "line": {
              "color": "white"
             }
            },
            "header": {
             "fill": {
              "color": "#C8D4E3"
             },
             "line": {
              "color": "white"
             }
            },
            "type": "table"
           }
          ]
         },
         "layout": {
          "annotationdefaults": {
           "arrowcolor": "#2a3f5f",
           "arrowhead": 0,
           "arrowwidth": 1
          },
          "autotypenumbers": "strict",
          "coloraxis": {
           "colorbar": {
            "outlinewidth": 0,
            "ticks": ""
           }
          },
          "colorscale": {
           "diverging": [
            [
             0,
             "#8e0152"
            ],
            [
             0.1,
             "#c51b7d"
            ],
            [
             0.2,
             "#de77ae"
            ],
            [
             0.3,
             "#f1b6da"
            ],
            [
             0.4,
             "#fde0ef"
            ],
            [
             0.5,
             "#f7f7f7"
            ],
            [
             0.6,
             "#e6f5d0"
            ],
            [
             0.7,
             "#b8e186"
            ],
            [
             0.8,
             "#7fbc41"
            ],
            [
             0.9,
             "#4d9221"
            ],
            [
             1,
             "#276419"
            ]
           ],
           "sequential": [
            [
             0,
             "#0d0887"
            ],
            [
             0.1111111111111111,
             "#46039f"
            ],
            [
             0.2222222222222222,
             "#7201a8"
            ],
            [
             0.3333333333333333,
             "#9c179e"
            ],
            [
             0.4444444444444444,
             "#bd3786"
            ],
            [
             0.5555555555555556,
             "#d8576b"
            ],
            [
             0.6666666666666666,
             "#ed7953"
            ],
            [
             0.7777777777777778,
             "#fb9f3a"
            ],
            [
             0.8888888888888888,
             "#fdca26"
            ],
            [
             1,
             "#f0f921"
            ]
           ],
           "sequentialminus": [
            [
             0,
             "#0d0887"
            ],
            [
             0.1111111111111111,
             "#46039f"
            ],
            [
             0.2222222222222222,
             "#7201a8"
            ],
            [
             0.3333333333333333,
             "#9c179e"
            ],
            [
             0.4444444444444444,
             "#bd3786"
            ],
            [
             0.5555555555555556,
             "#d8576b"
            ],
            [
             0.6666666666666666,
             "#ed7953"
            ],
            [
             0.7777777777777778,
             "#fb9f3a"
            ],
            [
             0.8888888888888888,
             "#fdca26"
            ],
            [
             1,
             "#f0f921"
            ]
           ]
          },
          "colorway": [
           "#636efa",
           "#EF553B",
           "#00cc96",
           "#ab63fa",
           "#FFA15A",
           "#19d3f3",
           "#FF6692",
           "#B6E880",
           "#FF97FF",
           "#FECB52"
          ],
          "font": {
           "color": "#2a3f5f"
          },
          "geo": {
           "bgcolor": "white",
           "lakecolor": "white",
           "landcolor": "#E5ECF6",
           "showlakes": true,
           "showland": true,
           "subunitcolor": "white"
          },
          "hoverlabel": {
           "align": "left"
          },
          "hovermode": "closest",
          "mapbox": {
           "style": "light"
          },
          "paper_bgcolor": "white",
          "plot_bgcolor": "#E5ECF6",
          "polar": {
           "angularaxis": {
            "gridcolor": "white",
            "linecolor": "white",
            "ticks": ""
           },
           "bgcolor": "#E5ECF6",
           "radialaxis": {
            "gridcolor": "white",
            "linecolor": "white",
            "ticks": ""
           }
          },
          "scene": {
           "xaxis": {
            "backgroundcolor": "#E5ECF6",
            "gridcolor": "white",
            "gridwidth": 2,
            "linecolor": "white",
            "showbackground": true,
            "ticks": "",
            "zerolinecolor": "white"
           },
           "yaxis": {
            "backgroundcolor": "#E5ECF6",
            "gridcolor": "white",
            "gridwidth": 2,
            "linecolor": "white",
            "showbackground": true,
            "ticks": "",
            "zerolinecolor": "white"
           },
           "zaxis": {
            "backgroundcolor": "#E5ECF6",
            "gridcolor": "white",
            "gridwidth": 2,
            "linecolor": "white",
            "showbackground": true,
            "ticks": "",
            "zerolinecolor": "white"
           }
          },
          "shapedefaults": {
           "line": {
            "color": "#2a3f5f"
           }
          },
          "ternary": {
           "aaxis": {
            "gridcolor": "white",
            "linecolor": "white",
            "ticks": ""
           },
           "baxis": {
            "gridcolor": "white",
            "linecolor": "white",
            "ticks": ""
           },
           "bgcolor": "#E5ECF6",
           "caxis": {
            "gridcolor": "white",
            "linecolor": "white",
            "ticks": ""
           }
          },
          "title": {
           "x": 0.05
          },
          "xaxis": {
           "automargin": true,
           "gridcolor": "white",
           "linecolor": "white",
           "ticks": "",
           "title": {
            "standoff": 15
           },
           "zerolinecolor": "white",
           "zerolinewidth": 2
          },
          "yaxis": {
           "automargin": true,
           "gridcolor": "white",
           "linecolor": "white",
           "ticks": "",
           "title": {
            "standoff": 15
           },
           "zerolinecolor": "white",
           "zerolinewidth": 2
          }
         }
        },
        "xaxis": {
         "anchor": "y",
         "domain": [
          0,
          1
         ],
         "title": {
          "text": "value"
         }
        },
        "yaxis": {
         "anchor": "x",
         "domain": [
          0,
          1
         ],
         "title": {
          "text": "count"
         }
        }
       }
      }
     },
     "metadata": {},
     "output_type": "display_data"
    }
   ],
   "source": [
    "px.histogram(rebalance_from_idle_df[['validated_spot_value_of_swap_cost']])"
   ]
  },
  {
   "cell_type": "code",
   "execution_count": 22,
   "metadata": {},
   "outputs": [
    {
     "data": {
      "application/vnd.plotly.v1+json": {
       "config": {
        "plotlyServerURL": "https://plot.ly"
       },
       "data": [
        {
         "alignmentgroup": "True",
         "bingroup": "x",
         "hovertemplate": "variable=swap_cost_from_event<br>value=%{x}<br>count=%{y}<extra></extra>",
         "legendgroup": "swap_cost_from_event",
         "marker": {
          "color": "#636efa",
          "pattern": {
           "shape": ""
          }
         },
         "name": "swap_cost_from_event",
         "offsetgroup": "swap_cost_from_event",
         "orientation": "v",
         "showlegend": true,
         "type": "histogram",
         "x": [
          0.033739262928400356,
          0.11275303118555476,
          0.06676748889564244,
          0.057266192139269874,
          0.16759016338892094,
          0.7342867859438394,
          0.31774515905730366,
          0.1325690596477929,
          0.23418220842650592,
          0.17451011299272298,
          0.564439888125962,
          0.1384074223090354,
          0.39589263526250235,
          0.09518403961736761,
          0.1311584998989427,
          0.3041522686078608,
          0.19589376745950557,
          0.13412805371384529,
          0.08272633237916499,
          0.2823129353645674,
          0.26159835829549394,
          0.09529875189381759,
          0.2368878221103638,
          0.05110807066985053,
          0.04901899488487748,
          0.06538137599201181,
          0.11081889255291612,
          0.03545912099241052,
          0.2304751199533159,
          0.274883445858698,
          0.13972418296064212,
          0.12053924164326661,
          0.08706355983500241,
          0.5975523176714236,
          0.46162070844513536,
          0.3407717304159482,
          0.2743823027078477,
          0.2101469535307474,
          0.33037055360939666,
          0.6675762875154462,
          0.4097436685537321,
          0.32464527570099666,
          0.3712164800740008,
          0.16088005834711025,
          0.29154539960290693,
          0.39842495945959505,
          0.13019896847675036,
          0.18597759439189485,
          0.14197196395920011,
          0.06565337741827264,
          0.03945693062241776,
          0.03528164905067957,
          0.08832012020411287,
          0.02112477598988085,
          0.016432517898161567,
          0.004844850611607696,
          0.003657258941453412,
          0.0285602662036433,
          0.02134323673667791,
          0.07410155015016144,
          0.000807728710276489,
          0.001469952424456903,
          0.05116879897632327,
          0.001295537534150765,
          0.014803500899666724,
          0.13083004618013436,
          0.010720229086550232,
          0.018456455985150697,
          0.0318189898183711,
          0.029923145802510633,
          0.02565911474767577,
          0.12101712111141089,
          0.16169652571921303,
          0.23638479531002574,
          0.16267063902174989,
          0.13853025219334678,
          0.10101928767618314,
          0.08151602944992747,
          0.004675471113401795,
          0.06732634723187307,
          0.16234041541849065,
          0.0632832083264706,
          0.06212025223229654,
          0.033764781617403046,
          0.02660995440191241
         ],
         "xaxis": "x",
         "yaxis": "y"
        }
       ],
       "layout": {
        "barmode": "relative",
        "legend": {
         "title": {
          "text": "variable"
         },
         "tracegroupgap": 0
        },
        "margin": {
         "t": 60
        },
        "template": {
         "data": {
          "bar": [
           {
            "error_x": {
             "color": "#2a3f5f"
            },
            "error_y": {
             "color": "#2a3f5f"
            },
            "marker": {
             "line": {
              "color": "#E5ECF6",
              "width": 0.5
             },
             "pattern": {
              "fillmode": "overlay",
              "size": 10,
              "solidity": 0.2
             }
            },
            "type": "bar"
           }
          ],
          "barpolar": [
           {
            "marker": {
             "line": {
              "color": "#E5ECF6",
              "width": 0.5
             },
             "pattern": {
              "fillmode": "overlay",
              "size": 10,
              "solidity": 0.2
             }
            },
            "type": "barpolar"
           }
          ],
          "carpet": [
           {
            "aaxis": {
             "endlinecolor": "#2a3f5f",
             "gridcolor": "white",
             "linecolor": "white",
             "minorgridcolor": "white",
             "startlinecolor": "#2a3f5f"
            },
            "baxis": {
             "endlinecolor": "#2a3f5f",
             "gridcolor": "white",
             "linecolor": "white",
             "minorgridcolor": "white",
             "startlinecolor": "#2a3f5f"
            },
            "type": "carpet"
           }
          ],
          "choropleth": [
           {
            "colorbar": {
             "outlinewidth": 0,
             "ticks": ""
            },
            "type": "choropleth"
           }
          ],
          "contour": [
           {
            "colorbar": {
             "outlinewidth": 0,
             "ticks": ""
            },
            "colorscale": [
             [
              0,
              "#0d0887"
             ],
             [
              0.1111111111111111,
              "#46039f"
             ],
             [
              0.2222222222222222,
              "#7201a8"
             ],
             [
              0.3333333333333333,
              "#9c179e"
             ],
             [
              0.4444444444444444,
              "#bd3786"
             ],
             [
              0.5555555555555556,
              "#d8576b"
             ],
             [
              0.6666666666666666,
              "#ed7953"
             ],
             [
              0.7777777777777778,
              "#fb9f3a"
             ],
             [
              0.8888888888888888,
              "#fdca26"
             ],
             [
              1,
              "#f0f921"
             ]
            ],
            "type": "contour"
           }
          ],
          "contourcarpet": [
           {
            "colorbar": {
             "outlinewidth": 0,
             "ticks": ""
            },
            "type": "contourcarpet"
           }
          ],
          "heatmap": [
           {
            "colorbar": {
             "outlinewidth": 0,
             "ticks": ""
            },
            "colorscale": [
             [
              0,
              "#0d0887"
             ],
             [
              0.1111111111111111,
              "#46039f"
             ],
             [
              0.2222222222222222,
              "#7201a8"
             ],
             [
              0.3333333333333333,
              "#9c179e"
             ],
             [
              0.4444444444444444,
              "#bd3786"
             ],
             [
              0.5555555555555556,
              "#d8576b"
             ],
             [
              0.6666666666666666,
              "#ed7953"
             ],
             [
              0.7777777777777778,
              "#fb9f3a"
             ],
             [
              0.8888888888888888,
              "#fdca26"
             ],
             [
              1,
              "#f0f921"
             ]
            ],
            "type": "heatmap"
           }
          ],
          "heatmapgl": [
           {
            "colorbar": {
             "outlinewidth": 0,
             "ticks": ""
            },
            "colorscale": [
             [
              0,
              "#0d0887"
             ],
             [
              0.1111111111111111,
              "#46039f"
             ],
             [
              0.2222222222222222,
              "#7201a8"
             ],
             [
              0.3333333333333333,
              "#9c179e"
             ],
             [
              0.4444444444444444,
              "#bd3786"
             ],
             [
              0.5555555555555556,
              "#d8576b"
             ],
             [
              0.6666666666666666,
              "#ed7953"
             ],
             [
              0.7777777777777778,
              "#fb9f3a"
             ],
             [
              0.8888888888888888,
              "#fdca26"
             ],
             [
              1,
              "#f0f921"
             ]
            ],
            "type": "heatmapgl"
           }
          ],
          "histogram": [
           {
            "marker": {
             "pattern": {
              "fillmode": "overlay",
              "size": 10,
              "solidity": 0.2
             }
            },
            "type": "histogram"
           }
          ],
          "histogram2d": [
           {
            "colorbar": {
             "outlinewidth": 0,
             "ticks": ""
            },
            "colorscale": [
             [
              0,
              "#0d0887"
             ],
             [
              0.1111111111111111,
              "#46039f"
             ],
             [
              0.2222222222222222,
              "#7201a8"
             ],
             [
              0.3333333333333333,
              "#9c179e"
             ],
             [
              0.4444444444444444,
              "#bd3786"
             ],
             [
              0.5555555555555556,
              "#d8576b"
             ],
             [
              0.6666666666666666,
              "#ed7953"
             ],
             [
              0.7777777777777778,
              "#fb9f3a"
             ],
             [
              0.8888888888888888,
              "#fdca26"
             ],
             [
              1,
              "#f0f921"
             ]
            ],
            "type": "histogram2d"
           }
          ],
          "histogram2dcontour": [
           {
            "colorbar": {
             "outlinewidth": 0,
             "ticks": ""
            },
            "colorscale": [
             [
              0,
              "#0d0887"
             ],
             [
              0.1111111111111111,
              "#46039f"
             ],
             [
              0.2222222222222222,
              "#7201a8"
             ],
             [
              0.3333333333333333,
              "#9c179e"
             ],
             [
              0.4444444444444444,
              "#bd3786"
             ],
             [
              0.5555555555555556,
              "#d8576b"
             ],
             [
              0.6666666666666666,
              "#ed7953"
             ],
             [
              0.7777777777777778,
              "#fb9f3a"
             ],
             [
              0.8888888888888888,
              "#fdca26"
             ],
             [
              1,
              "#f0f921"
             ]
            ],
            "type": "histogram2dcontour"
           }
          ],
          "mesh3d": [
           {
            "colorbar": {
             "outlinewidth": 0,
             "ticks": ""
            },
            "type": "mesh3d"
           }
          ],
          "parcoords": [
           {
            "line": {
             "colorbar": {
              "outlinewidth": 0,
              "ticks": ""
             }
            },
            "type": "parcoords"
           }
          ],
          "pie": [
           {
            "automargin": true,
            "type": "pie"
           }
          ],
          "scatter": [
           {
            "fillpattern": {
             "fillmode": "overlay",
             "size": 10,
             "solidity": 0.2
            },
            "type": "scatter"
           }
          ],
          "scatter3d": [
           {
            "line": {
             "colorbar": {
              "outlinewidth": 0,
              "ticks": ""
             }
            },
            "marker": {
             "colorbar": {
              "outlinewidth": 0,
              "ticks": ""
             }
            },
            "type": "scatter3d"
           }
          ],
          "scattercarpet": [
           {
            "marker": {
             "colorbar": {
              "outlinewidth": 0,
              "ticks": ""
             }
            },
            "type": "scattercarpet"
           }
          ],
          "scattergeo": [
           {
            "marker": {
             "colorbar": {
              "outlinewidth": 0,
              "ticks": ""
             }
            },
            "type": "scattergeo"
           }
          ],
          "scattergl": [
           {
            "marker": {
             "colorbar": {
              "outlinewidth": 0,
              "ticks": ""
             }
            },
            "type": "scattergl"
           }
          ],
          "scattermapbox": [
           {
            "marker": {
             "colorbar": {
              "outlinewidth": 0,
              "ticks": ""
             }
            },
            "type": "scattermapbox"
           }
          ],
          "scatterpolar": [
           {
            "marker": {
             "colorbar": {
              "outlinewidth": 0,
              "ticks": ""
             }
            },
            "type": "scatterpolar"
           }
          ],
          "scatterpolargl": [
           {
            "marker": {
             "colorbar": {
              "outlinewidth": 0,
              "ticks": ""
             }
            },
            "type": "scatterpolargl"
           }
          ],
          "scatterternary": [
           {
            "marker": {
             "colorbar": {
              "outlinewidth": 0,
              "ticks": ""
             }
            },
            "type": "scatterternary"
           }
          ],
          "surface": [
           {
            "colorbar": {
             "outlinewidth": 0,
             "ticks": ""
            },
            "colorscale": [
             [
              0,
              "#0d0887"
             ],
             [
              0.1111111111111111,
              "#46039f"
             ],
             [
              0.2222222222222222,
              "#7201a8"
             ],
             [
              0.3333333333333333,
              "#9c179e"
             ],
             [
              0.4444444444444444,
              "#bd3786"
             ],
             [
              0.5555555555555556,
              "#d8576b"
             ],
             [
              0.6666666666666666,
              "#ed7953"
             ],
             [
              0.7777777777777778,
              "#fb9f3a"
             ],
             [
              0.8888888888888888,
              "#fdca26"
             ],
             [
              1,
              "#f0f921"
             ]
            ],
            "type": "surface"
           }
          ],
          "table": [
           {
            "cells": {
             "fill": {
              "color": "#EBF0F8"
             },
             "line": {
              "color": "white"
             }
            },
            "header": {
             "fill": {
              "color": "#C8D4E3"
             },
             "line": {
              "color": "white"
             }
            },
            "type": "table"
           }
          ]
         },
         "layout": {
          "annotationdefaults": {
           "arrowcolor": "#2a3f5f",
           "arrowhead": 0,
           "arrowwidth": 1
          },
          "autotypenumbers": "strict",
          "coloraxis": {
           "colorbar": {
            "outlinewidth": 0,
            "ticks": ""
           }
          },
          "colorscale": {
           "diverging": [
            [
             0,
             "#8e0152"
            ],
            [
             0.1,
             "#c51b7d"
            ],
            [
             0.2,
             "#de77ae"
            ],
            [
             0.3,
             "#f1b6da"
            ],
            [
             0.4,
             "#fde0ef"
            ],
            [
             0.5,
             "#f7f7f7"
            ],
            [
             0.6,
             "#e6f5d0"
            ],
            [
             0.7,
             "#b8e186"
            ],
            [
             0.8,
             "#7fbc41"
            ],
            [
             0.9,
             "#4d9221"
            ],
            [
             1,
             "#276419"
            ]
           ],
           "sequential": [
            [
             0,
             "#0d0887"
            ],
            [
             0.1111111111111111,
             "#46039f"
            ],
            [
             0.2222222222222222,
             "#7201a8"
            ],
            [
             0.3333333333333333,
             "#9c179e"
            ],
            [
             0.4444444444444444,
             "#bd3786"
            ],
            [
             0.5555555555555556,
             "#d8576b"
            ],
            [
             0.6666666666666666,
             "#ed7953"
            ],
            [
             0.7777777777777778,
             "#fb9f3a"
            ],
            [
             0.8888888888888888,
             "#fdca26"
            ],
            [
             1,
             "#f0f921"
            ]
           ],
           "sequentialminus": [
            [
             0,
             "#0d0887"
            ],
            [
             0.1111111111111111,
             "#46039f"
            ],
            [
             0.2222222222222222,
             "#7201a8"
            ],
            [
             0.3333333333333333,
             "#9c179e"
            ],
            [
             0.4444444444444444,
             "#bd3786"
            ],
            [
             0.5555555555555556,
             "#d8576b"
            ],
            [
             0.6666666666666666,
             "#ed7953"
            ],
            [
             0.7777777777777778,
             "#fb9f3a"
            ],
            [
             0.8888888888888888,
             "#fdca26"
            ],
            [
             1,
             "#f0f921"
            ]
           ]
          },
          "colorway": [
           "#636efa",
           "#EF553B",
           "#00cc96",
           "#ab63fa",
           "#FFA15A",
           "#19d3f3",
           "#FF6692",
           "#B6E880",
           "#FF97FF",
           "#FECB52"
          ],
          "font": {
           "color": "#2a3f5f"
          },
          "geo": {
           "bgcolor": "white",
           "lakecolor": "white",
           "landcolor": "#E5ECF6",
           "showlakes": true,
           "showland": true,
           "subunitcolor": "white"
          },
          "hoverlabel": {
           "align": "left"
          },
          "hovermode": "closest",
          "mapbox": {
           "style": "light"
          },
          "paper_bgcolor": "white",
          "plot_bgcolor": "#E5ECF6",
          "polar": {
           "angularaxis": {
            "gridcolor": "white",
            "linecolor": "white",
            "ticks": ""
           },
           "bgcolor": "#E5ECF6",
           "radialaxis": {
            "gridcolor": "white",
            "linecolor": "white",
            "ticks": ""
           }
          },
          "scene": {
           "xaxis": {
            "backgroundcolor": "#E5ECF6",
            "gridcolor": "white",
            "gridwidth": 2,
            "linecolor": "white",
            "showbackground": true,
            "ticks": "",
            "zerolinecolor": "white"
           },
           "yaxis": {
            "backgroundcolor": "#E5ECF6",
            "gridcolor": "white",
            "gridwidth": 2,
            "linecolor": "white",
            "showbackground": true,
            "ticks": "",
            "zerolinecolor": "white"
           },
           "zaxis": {
            "backgroundcolor": "#E5ECF6",
            "gridcolor": "white",
            "gridwidth": 2,
            "linecolor": "white",
            "showbackground": true,
            "ticks": "",
            "zerolinecolor": "white"
           }
          },
          "shapedefaults": {
           "line": {
            "color": "#2a3f5f"
           }
          },
          "ternary": {
           "aaxis": {
            "gridcolor": "white",
            "linecolor": "white",
            "ticks": ""
           },
           "baxis": {
            "gridcolor": "white",
            "linecolor": "white",
            "ticks": ""
           },
           "bgcolor": "#E5ECF6",
           "caxis": {
            "gridcolor": "white",
            "linecolor": "white",
            "ticks": ""
           }
          },
          "title": {
           "x": 0.05
          },
          "xaxis": {
           "automargin": true,
           "gridcolor": "white",
           "linecolor": "white",
           "ticks": "",
           "title": {
            "standoff": 15
           },
           "zerolinecolor": "white",
           "zerolinewidth": 2
          },
          "yaxis": {
           "automargin": true,
           "gridcolor": "white",
           "linecolor": "white",
           "ticks": "",
           "title": {
            "standoff": 15
           },
           "zerolinecolor": "white",
           "zerolinewidth": 2
          }
         }
        },
        "xaxis": {
         "anchor": "y",
         "domain": [
          0,
          1
         ],
         "title": {
          "text": "value"
         }
        },
        "yaxis": {
         "anchor": "x",
         "domain": [
          0,
          1
         ],
         "title": {
          "text": "count"
         }
        }
       }
      }
     },
     "metadata": {},
     "output_type": "display_data"
    }
   ],
   "source": [
    "px.histogram(rebalance_from_idle_df[['swap_cost_from_event']])"
   ]
  },
  {
   "cell_type": "code",
   "execution_count": null,
   "metadata": {},
   "outputs": [],
   "source": []
  },
  {
   "cell_type": "code",
   "execution_count": null,
   "metadata": {},
   "outputs": [],
   "source": []
  },
  {
   "cell_type": "code",
   "execution_count": null,
   "metadata": {},
   "outputs": [],
   "source": []
  },
  {
   "cell_type": "code",
   "execution_count": 23,
   "metadata": {},
   "outputs": [
    {
     "data": {
      "text/html": [
       "<div>\n",
       "<style scoped>\n",
       "    .dataframe tbody tr th:only-of-type {\n",
       "        vertical-align: middle;\n",
       "    }\n",
       "\n",
       "    .dataframe tbody tr th {\n",
       "        vertical-align: top;\n",
       "    }\n",
       "\n",
       "    .dataframe thead th {\n",
       "        text-align: right;\n",
       "    }\n",
       "</style>\n",
       "<table border=\"1\" class=\"dataframe\">\n",
       "  <thead>\n",
       "    <tr style=\"text-align: right;\">\n",
       "      <th></th>\n",
       "      <th>valueStats</th>\n",
       "      <th>params</th>\n",
       "      <th>outSummaryStats</th>\n",
       "      <th>inSummaryStats</th>\n",
       "      <th>swapOffsetPeriod</th>\n",
       "      <th>predictedAnnualizedGain</th>\n",
       "      <th>event</th>\n",
       "      <th>block</th>\n",
       "      <th>transaction_index</th>\n",
       "      <th>log_index</th>\n",
       "      <th>hash</th>\n",
       "      <th>outDestinationLpToken</th>\n",
       "      <th>outDestinationVault</th>\n",
       "      <th>inDestinationLpToken</th>\n",
       "      <th>inDestinationVault</th>\n",
       "      <th>params_amountIn</th>\n",
       "      <th>params_amountOut</th>\n",
       "    </tr>\n",
       "  </thead>\n",
       "  <tbody>\n",
       "    <tr>\n",
       "      <th>0</th>\n",
       "      <td>(1000052485843985083, 1000000000000000000, 999...</td>\n",
       "      <td>(0xE382BBd32C4E202185762eA433278f4ED9E6151E, 0...</td>\n",
       "      <td>(0x0A2b94F6871c1D7A32Fe58E1ab5e6deA2f114E56, 0...</td>\n",
       "      <td>(0xE382BBd32C4E202185762eA433278f4ED9E6151E, 0...</td>\n",
       "      <td>50</td>\n",
       "      <td>10041640546119019522</td>\n",
       "      <td>RebalanceBetweenDestinations</td>\n",
       "      <td>20772483</td>\n",
       "      <td>3</td>\n",
       "      <td>32</td>\n",
       "      <td>0xf4b0efb2e5d69ef7b7d000b4860a9d86b76013d9a042...</td>\n",
       "      <td>0x0A2b94F6871c1D7A32Fe58E1ab5e6deA2f114E56</td>\n",
       "      <td>0x0A2b94F6871c1D7A32Fe58E1ab5e6deA2f114E56</td>\n",
       "      <td>0xC8Eb2Cf2f792F77AF0Cd9e203305a585E588179D</td>\n",
       "      <td>0xE382BBd32C4E202185762eA433278f4ED9E6151E</td>\n",
       "      <td>99.961014</td>\n",
       "      <td>100.000000</td>\n",
       "    </tr>\n",
       "    <tr>\n",
       "      <th>1</th>\n",
       "      <td>(1000022248487157020, 1000000000000000000, 314...</td>\n",
       "      <td>(0xE382BBd32C4E202185762eA433278f4ED9E6151E, 0...</td>\n",
       "      <td>(0x0A2b94F6871c1D7A32Fe58E1ab5e6deA2f114E56, 0...</td>\n",
       "      <td>(0xE382BBd32C4E202185762eA433278f4ED9E6151E, 0...</td>\n",
       "      <td>50</td>\n",
       "      <td>27968246236303374082</td>\n",
       "      <td>RebalanceBetweenDestinations</td>\n",
       "      <td>20774967</td>\n",
       "      <td>1</td>\n",
       "      <td>29</td>\n",
       "      <td>0xfdb95550d0720ff1f6ca2ff7331d1eb3194fe85ee8ab...</td>\n",
       "      <td>0x0A2b94F6871c1D7A32Fe58E1ab5e6deA2f114E56</td>\n",
       "      <td>0x0A2b94F6871c1D7A32Fe58E1ab5e6deA2f114E56</td>\n",
       "      <td>0xC8Eb2Cf2f792F77AF0Cd9e203305a585E588179D</td>\n",
       "      <td>0xE382BBd32C4E202185762eA433278f4ED9E6151E</td>\n",
       "      <td>314.380624</td>\n",
       "      <td>314.500371</td>\n",
       "    </tr>\n",
       "    <tr>\n",
       "      <th>2</th>\n",
       "      <td>(1008925796222361711, 1000000000000000000, 145...</td>\n",
       "      <td>(0xd96E943098B2AE81155e98D7DC8BeaB34C539f01, 0...</td>\n",
       "      <td>(0x0A2b94F6871c1D7A32Fe58E1ab5e6deA2f114E56, 0...</td>\n",
       "      <td>(0xd96E943098B2AE81155e98D7DC8BeaB34C539f01, 1...</td>\n",
       "      <td>50</td>\n",
       "      <td>12637803214942412382</td>\n",
       "      <td>RebalanceBetweenDestinations</td>\n",
       "      <td>20778643</td>\n",
       "      <td>1</td>\n",
       "      <td>35</td>\n",
       "      <td>0xaa013ce865573532459a55487fb809c3e93edeed05af...</td>\n",
       "      <td>0x0A2b94F6871c1D7A32Fe58E1ab5e6deA2f114E56</td>\n",
       "      <td>0x0A2b94F6871c1D7A32Fe58E1ab5e6deA2f114E56</td>\n",
       "      <td>0x6951bDC4734b9f7F3E1B74afeBC670c736A0EDB6</td>\n",
       "      <td>0xd96E943098B2AE81155e98D7DC8BeaB34C539f01</td>\n",
       "      <td>144.676019</td>\n",
       "      <td>146.034135</td>\n",
       "    </tr>\n",
       "    <tr>\n",
       "      <th>3</th>\n",
       "      <td>(1009075692904456357, 1000000000000000000, 134...</td>\n",
       "      <td>(0xd96E943098B2AE81155e98D7DC8BeaB34C539f01, 0...</td>\n",
       "      <td>(0x0A2b94F6871c1D7A32Fe58E1ab5e6deA2f114E56, 0...</td>\n",
       "      <td>(0xd96E943098B2AE81155e98D7DC8BeaB34C539f01, 1...</td>\n",
       "      <td>50</td>\n",
       "      <td>11777498352828309122</td>\n",
       "      <td>RebalanceBetweenDestinations</td>\n",
       "      <td>20781802</td>\n",
       "      <td>0</td>\n",
       "      <td>33</td>\n",
       "      <td>0x1e5ddbb3a2e56692c1c261b05b482298c1cd6bd6bcf3...</td>\n",
       "      <td>0x0A2b94F6871c1D7A32Fe58E1ab5e6deA2f114E56</td>\n",
       "      <td>0x0A2b94F6871c1D7A32Fe58E1ab5e6deA2f114E56</td>\n",
       "      <td>0x6951bDC4734b9f7F3E1B74afeBC670c736A0EDB6</td>\n",
       "      <td>0xd96E943098B2AE81155e98D7DC8BeaB34C539f01</td>\n",
       "      <td>133.437132</td>\n",
       "      <td>134.705433</td>\n",
       "    </tr>\n",
       "    <tr>\n",
       "      <th>4</th>\n",
       "      <td>(1000144557246550759, 1000000000000000000, 335...</td>\n",
       "      <td>(0xE382BBd32C4E202185762eA433278f4ED9E6151E, 0...</td>\n",
       "      <td>(0x0A2b94F6871c1D7A32Fe58E1ab5e6deA2f114E56, 0...</td>\n",
       "      <td>(0xE382BBd32C4E202185762eA433278f4ED9E6151E, 0...</td>\n",
       "      <td>50</td>\n",
       "      <td>27351106284624006252</td>\n",
       "      <td>RebalanceBetweenDestinations</td>\n",
       "      <td>20784928</td>\n",
       "      <td>5</td>\n",
       "      <td>42</td>\n",
       "      <td>0xfb4645f276bf56d5ff8fef87301516ccb8ed0841a5db...</td>\n",
       "      <td>0x0A2b94F6871c1D7A32Fe58E1ab5e6deA2f114E56</td>\n",
       "      <td>0x0A2b94F6871c1D7A32Fe58E1ab5e6deA2f114E56</td>\n",
       "      <td>0xC8Eb2Cf2f792F77AF0Cd9e203305a585E588179D</td>\n",
       "      <td>0xE382BBd32C4E202185762eA433278f4ED9E6151E</td>\n",
       "      <td>335.615197</td>\n",
       "      <td>335.831303</td>\n",
       "    </tr>\n",
       "    <tr>\n",
       "      <th>...</th>\n",
       "      <td>...</td>\n",
       "      <td>...</td>\n",
       "      <td>...</td>\n",
       "      <td>...</td>\n",
       "      <td>...</td>\n",
       "      <td>...</td>\n",
       "      <td>...</td>\n",
       "      <td>...</td>\n",
       "      <td>...</td>\n",
       "      <td>...</td>\n",
       "      <td>...</td>\n",
       "      <td>...</td>\n",
       "      <td>...</td>\n",
       "      <td>...</td>\n",
       "      <td>...</td>\n",
       "      <td>...</td>\n",
       "      <td>...</td>\n",
       "    </tr>\n",
       "    <tr>\n",
       "      <th>94</th>\n",
       "      <td>(1014562853847345824, 1000000000000000000, 998...</td>\n",
       "      <td>(0xdfE3fA7027E84f59b266459C567278C79fe86f0C, 0...</td>\n",
       "      <td>(0x0A2b94F6871c1D7A32Fe58E1ab5e6deA2f114E56, 0...</td>\n",
       "      <td>(0xdfE3fA7027E84f59b266459C567278C79fe86f0C, 1...</td>\n",
       "      <td>48</td>\n",
       "      <td>8874192721267204642</td>\n",
       "      <td>RebalanceBetweenDestinations</td>\n",
       "      <td>21147722</td>\n",
       "      <td>1</td>\n",
       "      <td>48</td>\n",
       "      <td>0x7a63573ce03acfad5b3fe5c3beb465588686189af38e...</td>\n",
       "      <td>0x0A2b94F6871c1D7A32Fe58E1ab5e6deA2f114E56</td>\n",
       "      <td>0x0A2b94F6871c1D7A32Fe58E1ab5e6deA2f114E56</td>\n",
       "      <td>0xB91159aa527D4769CB9FAf3e4ADB760c7E8C8Ea7</td>\n",
       "      <td>0xdfE3fA7027E84f59b266459C567278C79fe86f0C</td>\n",
       "      <td>98.404608</td>\n",
       "      <td>100.000000</td>\n",
       "    </tr>\n",
       "    <tr>\n",
       "      <th>95</th>\n",
       "      <td>(1010851817059025162, 1000000000000000000, 999...</td>\n",
       "      <td>(0xe4433D00Cf48BFE0C672d9949F2cd2c008bffC04, 0...</td>\n",
       "      <td>(0x0A2b94F6871c1D7A32Fe58E1ab5e6deA2f114E56, 0...</td>\n",
       "      <td>(0xe4433D00Cf48BFE0C672d9949F2cd2c008bffC04, 1...</td>\n",
       "      <td>48</td>\n",
       "      <td>6843760913900842704</td>\n",
       "      <td>RebalanceBetweenDestinations</td>\n",
       "      <td>21152202</td>\n",
       "      <td>0</td>\n",
       "      <td>30</td>\n",
       "      <td>0x5115e7697f0c5b1e5cd4891f3c19548332e376636f69...</td>\n",
       "      <td>0x0A2b94F6871c1D7A32Fe58E1ab5e6deA2f114E56</td>\n",
       "      <td>0x0A2b94F6871c1D7A32Fe58E1ab5e6deA2f114E56</td>\n",
       "      <td>0x6951bDC4734b9f7F3E1B74afeBC670c736A0EDB6</td>\n",
       "      <td>0xe4433D00Cf48BFE0C672d9949F2cd2c008bffC04</td>\n",
       "      <td>98.863864</td>\n",
       "      <td>100.000000</td>\n",
       "    </tr>\n",
       "    <tr>\n",
       "      <th>96</th>\n",
       "      <td>(1001765855338677058, 1000000000000000000, 901...</td>\n",
       "      <td>(0xc4Eb861e7b66f593482a3D7E8adc314f6eEDA30B, 0...</td>\n",
       "      <td>(0x0A2b94F6871c1D7A32Fe58E1ab5e6deA2f114E56, 0...</td>\n",
       "      <td>(0xc4Eb861e7b66f593482a3D7E8adc314f6eEDA30B, 0...</td>\n",
       "      <td>48</td>\n",
       "      <td>6153506746059603861</td>\n",
       "      <td>RebalanceBetweenDestinations</td>\n",
       "      <td>21156687</td>\n",
       "      <td>1</td>\n",
       "      <td>29</td>\n",
       "      <td>0x0d78a519460206417cec788318fe50931744b15854da...</td>\n",
       "      <td>0x0A2b94F6871c1D7A32Fe58E1ab5e6deA2f114E56</td>\n",
       "      <td>0x0A2b94F6871c1D7A32Fe58E1ab5e6deA2f114E56</td>\n",
       "      <td>0x88794C65550DeB6b4087B7552eCf295113794410</td>\n",
       "      <td>0xc4Eb861e7b66f593482a3D7E8adc314f6eEDA30B</td>\n",
       "      <td>90.022222</td>\n",
       "      <td>90.243308</td>\n",
       "    </tr>\n",
       "    <tr>\n",
       "      <th>97</th>\n",
       "      <td>(1001756070467758699, 1000000000000000000, 499...</td>\n",
       "      <td>(0xc4Eb861e7b66f593482a3D7E8adc314f6eEDA30B, 0...</td>\n",
       "      <td>(0x0A2b94F6871c1D7A32Fe58E1ab5e6deA2f114E56, 0...</td>\n",
       "      <td>(0xc4Eb861e7b66f593482a3D7E8adc314f6eEDA30B, 0...</td>\n",
       "      <td>48</td>\n",
       "      <td>3554113570420396719</td>\n",
       "      <td>RebalanceBetweenDestinations</td>\n",
       "      <td>21168341</td>\n",
       "      <td>0</td>\n",
       "      <td>21</td>\n",
       "      <td>0x143e5872b4be8d42e0ede83bf4e0e4d8f4b2c73ed957...</td>\n",
       "      <td>0x0A2b94F6871c1D7A32Fe58E1ab5e6deA2f114E56</td>\n",
       "      <td>0x0A2b94F6871c1D7A32Fe58E1ab5e6deA2f114E56</td>\n",
       "      <td>0x88794C65550DeB6b4087B7552eCf295113794410</td>\n",
       "      <td>0xc4Eb861e7b66f593482a3D7E8adc314f6eEDA30B</td>\n",
       "      <td>49.878645</td>\n",
       "      <td>50.000000</td>\n",
       "    </tr>\n",
       "    <tr>\n",
       "      <th>98</th>\n",
       "      <td>(1001827697708385994, 1000000000000000000, 499...</td>\n",
       "      <td>(0xc4Eb861e7b66f593482a3D7E8adc314f6eEDA30B, 0...</td>\n",
       "      <td>(0x0A2b94F6871c1D7A32Fe58E1ab5e6deA2f114E56, 0...</td>\n",
       "      <td>(0xc4Eb861e7b66f593482a3D7E8adc314f6eEDA30B, 0...</td>\n",
       "      <td>48</td>\n",
       "      <td>3530784743927783809</td>\n",
       "      <td>RebalanceBetweenDestinations</td>\n",
       "      <td>21172813</td>\n",
       "      <td>53</td>\n",
       "      <td>176</td>\n",
       "      <td>0x509aabfed0e53efbef388464fb850fbb8010af4f6bf1...</td>\n",
       "      <td>0x0A2b94F6871c1D7A32Fe58E1ab5e6deA2f114E56</td>\n",
       "      <td>0x0A2b94F6871c1D7A32Fe58E1ab5e6deA2f114E56</td>\n",
       "      <td>0x88794C65550DeB6b4087B7552eCf295113794410</td>\n",
       "      <td>0xc4Eb861e7b66f593482a3D7E8adc314f6eEDA30B</td>\n",
       "      <td>49.882220</td>\n",
       "      <td>50.000000</td>\n",
       "    </tr>\n",
       "  </tbody>\n",
       "</table>\n",
       "<p>85 rows × 17 columns</p>\n",
       "</div>"
      ],
      "text/plain": [
       "                                           valueStats  \\\n",
       "0   (1000052485843985083, 1000000000000000000, 999...   \n",
       "1   (1000022248487157020, 1000000000000000000, 314...   \n",
       "2   (1008925796222361711, 1000000000000000000, 145...   \n",
       "3   (1009075692904456357, 1000000000000000000, 134...   \n",
       "4   (1000144557246550759, 1000000000000000000, 335...   \n",
       "..                                                ...   \n",
       "94  (1014562853847345824, 1000000000000000000, 998...   \n",
       "95  (1010851817059025162, 1000000000000000000, 999...   \n",
       "96  (1001765855338677058, 1000000000000000000, 901...   \n",
       "97  (1001756070467758699, 1000000000000000000, 499...   \n",
       "98  (1001827697708385994, 1000000000000000000, 499...   \n",
       "\n",
       "                                               params  \\\n",
       "0   (0xE382BBd32C4E202185762eA433278f4ED9E6151E, 0...   \n",
       "1   (0xE382BBd32C4E202185762eA433278f4ED9E6151E, 0...   \n",
       "2   (0xd96E943098B2AE81155e98D7DC8BeaB34C539f01, 0...   \n",
       "3   (0xd96E943098B2AE81155e98D7DC8BeaB34C539f01, 0...   \n",
       "4   (0xE382BBd32C4E202185762eA433278f4ED9E6151E, 0...   \n",
       "..                                                ...   \n",
       "94  (0xdfE3fA7027E84f59b266459C567278C79fe86f0C, 0...   \n",
       "95  (0xe4433D00Cf48BFE0C672d9949F2cd2c008bffC04, 0...   \n",
       "96  (0xc4Eb861e7b66f593482a3D7E8adc314f6eEDA30B, 0...   \n",
       "97  (0xc4Eb861e7b66f593482a3D7E8adc314f6eEDA30B, 0...   \n",
       "98  (0xc4Eb861e7b66f593482a3D7E8adc314f6eEDA30B, 0...   \n",
       "\n",
       "                                      outSummaryStats  \\\n",
       "0   (0x0A2b94F6871c1D7A32Fe58E1ab5e6deA2f114E56, 0...   \n",
       "1   (0x0A2b94F6871c1D7A32Fe58E1ab5e6deA2f114E56, 0...   \n",
       "2   (0x0A2b94F6871c1D7A32Fe58E1ab5e6deA2f114E56, 0...   \n",
       "3   (0x0A2b94F6871c1D7A32Fe58E1ab5e6deA2f114E56, 0...   \n",
       "4   (0x0A2b94F6871c1D7A32Fe58E1ab5e6deA2f114E56, 0...   \n",
       "..                                                ...   \n",
       "94  (0x0A2b94F6871c1D7A32Fe58E1ab5e6deA2f114E56, 0...   \n",
       "95  (0x0A2b94F6871c1D7A32Fe58E1ab5e6deA2f114E56, 0...   \n",
       "96  (0x0A2b94F6871c1D7A32Fe58E1ab5e6deA2f114E56, 0...   \n",
       "97  (0x0A2b94F6871c1D7A32Fe58E1ab5e6deA2f114E56, 0...   \n",
       "98  (0x0A2b94F6871c1D7A32Fe58E1ab5e6deA2f114E56, 0...   \n",
       "\n",
       "                                       inSummaryStats  swapOffsetPeriod  \\\n",
       "0   (0xE382BBd32C4E202185762eA433278f4ED9E6151E, 0...                50   \n",
       "1   (0xE382BBd32C4E202185762eA433278f4ED9E6151E, 0...                50   \n",
       "2   (0xd96E943098B2AE81155e98D7DC8BeaB34C539f01, 1...                50   \n",
       "3   (0xd96E943098B2AE81155e98D7DC8BeaB34C539f01, 1...                50   \n",
       "4   (0xE382BBd32C4E202185762eA433278f4ED9E6151E, 0...                50   \n",
       "..                                                ...               ...   \n",
       "94  (0xdfE3fA7027E84f59b266459C567278C79fe86f0C, 1...                48   \n",
       "95  (0xe4433D00Cf48BFE0C672d9949F2cd2c008bffC04, 1...                48   \n",
       "96  (0xc4Eb861e7b66f593482a3D7E8adc314f6eEDA30B, 0...                48   \n",
       "97  (0xc4Eb861e7b66f593482a3D7E8adc314f6eEDA30B, 0...                48   \n",
       "98  (0xc4Eb861e7b66f593482a3D7E8adc314f6eEDA30B, 0...                48   \n",
       "\n",
       "   predictedAnnualizedGain                         event     block  \\\n",
       "0     10041640546119019522  RebalanceBetweenDestinations  20772483   \n",
       "1     27968246236303374082  RebalanceBetweenDestinations  20774967   \n",
       "2     12637803214942412382  RebalanceBetweenDestinations  20778643   \n",
       "3     11777498352828309122  RebalanceBetweenDestinations  20781802   \n",
       "4     27351106284624006252  RebalanceBetweenDestinations  20784928   \n",
       "..                     ...                           ...       ...   \n",
       "94     8874192721267204642  RebalanceBetweenDestinations  21147722   \n",
       "95     6843760913900842704  RebalanceBetweenDestinations  21152202   \n",
       "96     6153506746059603861  RebalanceBetweenDestinations  21156687   \n",
       "97     3554113570420396719  RebalanceBetweenDestinations  21168341   \n",
       "98     3530784743927783809  RebalanceBetweenDestinations  21172813   \n",
       "\n",
       "    transaction_index  log_index  \\\n",
       "0                   3         32   \n",
       "1                   1         29   \n",
       "2                   1         35   \n",
       "3                   0         33   \n",
       "4                   5         42   \n",
       "..                ...        ...   \n",
       "94                  1         48   \n",
       "95                  0         30   \n",
       "96                  1         29   \n",
       "97                  0         21   \n",
       "98                 53        176   \n",
       "\n",
       "                                                 hash  \\\n",
       "0   0xf4b0efb2e5d69ef7b7d000b4860a9d86b76013d9a042...   \n",
       "1   0xfdb95550d0720ff1f6ca2ff7331d1eb3194fe85ee8ab...   \n",
       "2   0xaa013ce865573532459a55487fb809c3e93edeed05af...   \n",
       "3   0x1e5ddbb3a2e56692c1c261b05b482298c1cd6bd6bcf3...   \n",
       "4   0xfb4645f276bf56d5ff8fef87301516ccb8ed0841a5db...   \n",
       "..                                                ...   \n",
       "94  0x7a63573ce03acfad5b3fe5c3beb465588686189af38e...   \n",
       "95  0x5115e7697f0c5b1e5cd4891f3c19548332e376636f69...   \n",
       "96  0x0d78a519460206417cec788318fe50931744b15854da...   \n",
       "97  0x143e5872b4be8d42e0ede83bf4e0e4d8f4b2c73ed957...   \n",
       "98  0x509aabfed0e53efbef388464fb850fbb8010af4f6bf1...   \n",
       "\n",
       "                         outDestinationLpToken  \\\n",
       "0   0x0A2b94F6871c1D7A32Fe58E1ab5e6deA2f114E56   \n",
       "1   0x0A2b94F6871c1D7A32Fe58E1ab5e6deA2f114E56   \n",
       "2   0x0A2b94F6871c1D7A32Fe58E1ab5e6deA2f114E56   \n",
       "3   0x0A2b94F6871c1D7A32Fe58E1ab5e6deA2f114E56   \n",
       "4   0x0A2b94F6871c1D7A32Fe58E1ab5e6deA2f114E56   \n",
       "..                                         ...   \n",
       "94  0x0A2b94F6871c1D7A32Fe58E1ab5e6deA2f114E56   \n",
       "95  0x0A2b94F6871c1D7A32Fe58E1ab5e6deA2f114E56   \n",
       "96  0x0A2b94F6871c1D7A32Fe58E1ab5e6deA2f114E56   \n",
       "97  0x0A2b94F6871c1D7A32Fe58E1ab5e6deA2f114E56   \n",
       "98  0x0A2b94F6871c1D7A32Fe58E1ab5e6deA2f114E56   \n",
       "\n",
       "                           outDestinationVault  \\\n",
       "0   0x0A2b94F6871c1D7A32Fe58E1ab5e6deA2f114E56   \n",
       "1   0x0A2b94F6871c1D7A32Fe58E1ab5e6deA2f114E56   \n",
       "2   0x0A2b94F6871c1D7A32Fe58E1ab5e6deA2f114E56   \n",
       "3   0x0A2b94F6871c1D7A32Fe58E1ab5e6deA2f114E56   \n",
       "4   0x0A2b94F6871c1D7A32Fe58E1ab5e6deA2f114E56   \n",
       "..                                         ...   \n",
       "94  0x0A2b94F6871c1D7A32Fe58E1ab5e6deA2f114E56   \n",
       "95  0x0A2b94F6871c1D7A32Fe58E1ab5e6deA2f114E56   \n",
       "96  0x0A2b94F6871c1D7A32Fe58E1ab5e6deA2f114E56   \n",
       "97  0x0A2b94F6871c1D7A32Fe58E1ab5e6deA2f114E56   \n",
       "98  0x0A2b94F6871c1D7A32Fe58E1ab5e6deA2f114E56   \n",
       "\n",
       "                          inDestinationLpToken  \\\n",
       "0   0xC8Eb2Cf2f792F77AF0Cd9e203305a585E588179D   \n",
       "1   0xC8Eb2Cf2f792F77AF0Cd9e203305a585E588179D   \n",
       "2   0x6951bDC4734b9f7F3E1B74afeBC670c736A0EDB6   \n",
       "3   0x6951bDC4734b9f7F3E1B74afeBC670c736A0EDB6   \n",
       "4   0xC8Eb2Cf2f792F77AF0Cd9e203305a585E588179D   \n",
       "..                                         ...   \n",
       "94  0xB91159aa527D4769CB9FAf3e4ADB760c7E8C8Ea7   \n",
       "95  0x6951bDC4734b9f7F3E1B74afeBC670c736A0EDB6   \n",
       "96  0x88794C65550DeB6b4087B7552eCf295113794410   \n",
       "97  0x88794C65550DeB6b4087B7552eCf295113794410   \n",
       "98  0x88794C65550DeB6b4087B7552eCf295113794410   \n",
       "\n",
       "                            inDestinationVault  params_amountIn  \\\n",
       "0   0xE382BBd32C4E202185762eA433278f4ED9E6151E        99.961014   \n",
       "1   0xE382BBd32C4E202185762eA433278f4ED9E6151E       314.380624   \n",
       "2   0xd96E943098B2AE81155e98D7DC8BeaB34C539f01       144.676019   \n",
       "3   0xd96E943098B2AE81155e98D7DC8BeaB34C539f01       133.437132   \n",
       "4   0xE382BBd32C4E202185762eA433278f4ED9E6151E       335.615197   \n",
       "..                                         ...              ...   \n",
       "94  0xdfE3fA7027E84f59b266459C567278C79fe86f0C        98.404608   \n",
       "95  0xe4433D00Cf48BFE0C672d9949F2cd2c008bffC04        98.863864   \n",
       "96  0xc4Eb861e7b66f593482a3D7E8adc314f6eEDA30B        90.022222   \n",
       "97  0xc4Eb861e7b66f593482a3D7E8adc314f6eEDA30B        49.878645   \n",
       "98  0xc4Eb861e7b66f593482a3D7E8adc314f6eEDA30B        49.882220   \n",
       "\n",
       "    params_amountOut  \n",
       "0         100.000000  \n",
       "1         314.500371  \n",
       "2         146.034135  \n",
       "3         134.705433  \n",
       "4         335.831303  \n",
       "..               ...  \n",
       "94        100.000000  \n",
       "95        100.000000  \n",
       "96         90.243308  \n",
       "97         50.000000  \n",
       "98         50.000000  \n",
       "\n",
       "[85 rows x 17 columns]"
      ]
     },
     "execution_count": 23,
     "metadata": {},
     "output_type": "execute_result"
    }
   ],
   "source": [
    "rebalance_events_df"
   ]
  },
  {
   "cell_type": "code",
   "execution_count": 24,
   "metadata": {},
   "outputs": [],
   "source": [
    "# # return RebalanceValueStats({\n",
    "# #     inPrice: inPrice,\n",
    "# #     outPrice: outPrice,\n",
    "# #     inEthValue: inEthValue,\n",
    "# #     outEthValue: outEthValue,\n",
    "# #     swapCost: swapCost,\n",
    "# #     slippage: slippage\n",
    "# # });\n",
    "\n",
    "\n",
    "# /// @param destinationIn The address / lp token of the destination vault that will increase\n",
    "# /// @param tokenIn The address of the underlyer token that will be provided by the swapper\n",
    "# /// @param amountIn The amount of the underlying LP tokens that will be received\n",
    "# /// @param destinationOut The address of the destination vault that will decrease\n",
    "# /// @param tokenOut The address of the underlyer token that will be received by the swapper\n",
    "# /// @param amountOut The amount of the tokenOut that will be received by the swapper\n",
    "# struct RebalanceParams {\n",
    "#     address destinationIn;\n",
    "#     address tokenIn;\n",
    "#     uint256 amountIn;\n",
    "#     address destinationOut;\n",
    "#     address tokenOut;\n",
    "#     uint256 amountOut;\n",
    "# }"
   ]
  },
  {
   "cell_type": "code",
   "execution_count": 25,
   "metadata": {},
   "outputs": [
    {
     "ename": "KeyError",
     "evalue": "'rebalance_cost'",
     "output_type": "error",
     "traceback": [
      "\u001b[0;31m---------------------------------------------------------------------------\u001b[0m",
      "\u001b[0;31mKeyError\u001b[0m                                  Traceback (most recent call last)",
      "\u001b[0;32m/tmp/ipykernel_48926/578825772.py\u001b[0m in \u001b[0;36m?\u001b[0;34m()\u001b[0m\n\u001b[0;32m----> 1\u001b[0;31m \u001b[0mrebalance_from_idle_df\u001b[0m\u001b[0;34m.\u001b[0m\u001b[0msort_values\u001b[0m\u001b[0;34m(\u001b[0m\u001b[0;34m'rebalance_cost'\u001b[0m\u001b[0;34m)\u001b[0m\u001b[0;34m[\u001b[0m\u001b[0;34m[\u001b[0m\u001b[0;34m'hash'\u001b[0m\u001b[0;34m,\u001b[0m \u001b[0;34m'rebalance_cost'\u001b[0m\u001b[0;34m]\u001b[0m\u001b[0;34m]\u001b[0m\u001b[0;34m.\u001b[0m\u001b[0mvalues\u001b[0m\u001b[0;34m[\u001b[0m\u001b[0;36m0\u001b[0m\u001b[0;34m]\u001b[0m\u001b[0;34m\u001b[0m\u001b[0;34m\u001b[0m\u001b[0m\n\u001b[0m",
      "\u001b[0;32m~/Documents/Tokemak/v2-rebalance-dashboard/.venv/lib/python3.10/site-packages/pandas/core/frame.py\u001b[0m in \u001b[0;36m?\u001b[0;34m(self, by, axis, ascending, inplace, kind, na_position, ignore_index, key)\u001b[0m\n\u001b[1;32m   7185\u001b[0m             )\n\u001b[1;32m   7186\u001b[0m         \u001b[0;32melif\u001b[0m \u001b[0mlen\u001b[0m\u001b[0;34m(\u001b[0m\u001b[0mby\u001b[0m\u001b[0;34m)\u001b[0m\u001b[0;34m:\u001b[0m\u001b[0;34m\u001b[0m\u001b[0;34m\u001b[0m\u001b[0m\n\u001b[1;32m   7187\u001b[0m             \u001b[0;31m# len(by) == 1\u001b[0m\u001b[0;34m\u001b[0m\u001b[0;34m\u001b[0m\u001b[0m\n\u001b[1;32m   7188\u001b[0m \u001b[0;34m\u001b[0m\u001b[0m\n\u001b[0;32m-> 7189\u001b[0;31m             \u001b[0mk\u001b[0m \u001b[0;34m=\u001b[0m \u001b[0mself\u001b[0m\u001b[0;34m.\u001b[0m\u001b[0m_get_label_or_level_values\u001b[0m\u001b[0;34m(\u001b[0m\u001b[0mby\u001b[0m\u001b[0;34m[\u001b[0m\u001b[0;36m0\u001b[0m\u001b[0;34m]\u001b[0m\u001b[0;34m,\u001b[0m \u001b[0maxis\u001b[0m\u001b[0;34m=\u001b[0m\u001b[0maxis\u001b[0m\u001b[0;34m)\u001b[0m\u001b[0;34m\u001b[0m\u001b[0;34m\u001b[0m\u001b[0m\n\u001b[0m\u001b[1;32m   7190\u001b[0m \u001b[0;34m\u001b[0m\u001b[0m\n\u001b[1;32m   7191\u001b[0m             \u001b[0;31m# need to rewrap column in Series to apply key function\u001b[0m\u001b[0;34m\u001b[0m\u001b[0;34m\u001b[0m\u001b[0m\n\u001b[1;32m   7192\u001b[0m             \u001b[0;32mif\u001b[0m \u001b[0mkey\u001b[0m \u001b[0;32mis\u001b[0m \u001b[0;32mnot\u001b[0m \u001b[0;32mNone\u001b[0m\u001b[0;34m:\u001b[0m\u001b[0;34m\u001b[0m\u001b[0;34m\u001b[0m\u001b[0m\n",
      "\u001b[0;32m~/Documents/Tokemak/v2-rebalance-dashboard/.venv/lib/python3.10/site-packages/pandas/core/generic.py\u001b[0m in \u001b[0;36m?\u001b[0;34m(self, key, axis)\u001b[0m\n\u001b[1;32m   1907\u001b[0m             \u001b[0mvalues\u001b[0m \u001b[0;34m=\u001b[0m \u001b[0mself\u001b[0m\u001b[0;34m.\u001b[0m\u001b[0mxs\u001b[0m\u001b[0;34m(\u001b[0m\u001b[0mkey\u001b[0m\u001b[0;34m,\u001b[0m \u001b[0maxis\u001b[0m\u001b[0;34m=\u001b[0m\u001b[0mother_axes\u001b[0m\u001b[0;34m[\u001b[0m\u001b[0;36m0\u001b[0m\u001b[0;34m]\u001b[0m\u001b[0;34m)\u001b[0m\u001b[0;34m.\u001b[0m\u001b[0m_values\u001b[0m\u001b[0;34m\u001b[0m\u001b[0;34m\u001b[0m\u001b[0m\n\u001b[1;32m   1908\u001b[0m         \u001b[0;32melif\u001b[0m \u001b[0mself\u001b[0m\u001b[0;34m.\u001b[0m\u001b[0m_is_level_reference\u001b[0m\u001b[0;34m(\u001b[0m\u001b[0mkey\u001b[0m\u001b[0;34m,\u001b[0m \u001b[0maxis\u001b[0m\u001b[0;34m=\u001b[0m\u001b[0maxis\u001b[0m\u001b[0;34m)\u001b[0m\u001b[0;34m:\u001b[0m\u001b[0;34m\u001b[0m\u001b[0;34m\u001b[0m\u001b[0m\n\u001b[1;32m   1909\u001b[0m             \u001b[0mvalues\u001b[0m \u001b[0;34m=\u001b[0m \u001b[0mself\u001b[0m\u001b[0;34m.\u001b[0m\u001b[0maxes\u001b[0m\u001b[0;34m[\u001b[0m\u001b[0maxis\u001b[0m\u001b[0;34m]\u001b[0m\u001b[0;34m.\u001b[0m\u001b[0mget_level_values\u001b[0m\u001b[0;34m(\u001b[0m\u001b[0mkey\u001b[0m\u001b[0;34m)\u001b[0m\u001b[0;34m.\u001b[0m\u001b[0m_values\u001b[0m\u001b[0;34m\u001b[0m\u001b[0;34m\u001b[0m\u001b[0m\n\u001b[1;32m   1910\u001b[0m         \u001b[0;32melse\u001b[0m\u001b[0;34m:\u001b[0m\u001b[0;34m\u001b[0m\u001b[0;34m\u001b[0m\u001b[0m\n\u001b[0;32m-> 1911\u001b[0;31m             \u001b[0;32mraise\u001b[0m \u001b[0mKeyError\u001b[0m\u001b[0;34m(\u001b[0m\u001b[0mkey\u001b[0m\u001b[0;34m)\u001b[0m\u001b[0;34m\u001b[0m\u001b[0;34m\u001b[0m\u001b[0m\n\u001b[0m\u001b[1;32m   1912\u001b[0m \u001b[0;34m\u001b[0m\u001b[0m\n\u001b[1;32m   1913\u001b[0m         \u001b[0;31m# Check for duplicates\u001b[0m\u001b[0;34m\u001b[0m\u001b[0;34m\u001b[0m\u001b[0m\n\u001b[1;32m   1914\u001b[0m         \u001b[0;32mif\u001b[0m \u001b[0mvalues\u001b[0m\u001b[0;34m.\u001b[0m\u001b[0mndim\u001b[0m \u001b[0;34m>\u001b[0m \u001b[0;36m1\u001b[0m\u001b[0;34m:\u001b[0m\u001b[0;34m\u001b[0m\u001b[0;34m\u001b[0m\u001b[0m\n",
      "\u001b[0;31mKeyError\u001b[0m: 'rebalance_cost'"
     ]
    }
   ],
   "source": [
    "rebalance_from_idle_df.sort_values('rebalance_cost')[['hash', 'rebalance_cost']].values[0]"
   ]
  },
  {
   "cell_type": "markdown",
   "metadata": {},
   "source": [
    "0xf06978787ae75d235cedd61c07b1e2a9037df86378f37a90eb683c87db8f98b2\n",
    "\n",
    "This rebalance, my math thinks that"
   ]
  },
  {
   "cell_type": "code",
   "execution_count": null,
   "metadata": {},
   "outputs": [
    {
     "data": {
      "application/vnd.plotly.v1+json": {
       "config": {
        "plotlyServerURL": "https://plot.ly"
       },
       "data": [
        {
         "hovertemplate": "variable=rebalance_cost<br>index=%{x}<br>value=%{y}<extra></extra>",
         "legendgroup": "rebalance_cost",
         "line": {
          "color": "#000001",
          "dash": "solid"
         },
         "marker": {
          "symbol": "circle"
         },
         "mode": "lines",
         "name": "rebalance_cost",
         "orientation": "v",
         "showlegend": true,
         "type": "scatter",
         "x": [
          0,
          1,
          2,
          3,
          4,
          5,
          6,
          7,
          8,
          9,
          10,
          11,
          12,
          13,
          14,
          15,
          16,
          17,
          18,
          19,
          20,
          21,
          22,
          23,
          24,
          25,
          26,
          27,
          28,
          29,
          30,
          31,
          32,
          33,
          34,
          35,
          36,
          37,
          38,
          39,
          40,
          41,
          42,
          43,
          44,
          45,
          46,
          47,
          48,
          49,
          50,
          51,
          52,
          53,
          54,
          55,
          56,
          57,
          58,
          59,
          60,
          61,
          62,
          63,
          64,
          65,
          66
         ],
         "xaxis": "x",
         "y": [
          0.0627764602699159,
          -0.02302608364857406,
          0.13039745873720676,
          -0.019359524215730062,
          0.2614164753660475,
          0.104694769379023,
          0.07070521783035133,
          0.15724115674905192,
          0.014348202075225913,
          0.014994087891551544,
          0.01573663904515854,
          0.037495758127150225,
          0.013532526152062019,
          0.017693446807896862,
          0.011519770481527303,
          -3.4436911495404985,
          0.04686778235812028,
          0.024185123608013726,
          0.04062918525778514,
          0.07551288864684125,
          0.031422258662189506,
          0.027029941098703603,
          0.0237808844432692,
          0.021712241994563897,
          -0.00934739637250459,
          0.03171153038606889,
          0.02468561302763561,
          0.06671587778990329,
          0.010025282210449404,
          0.0063275113705998365,
          0.002524214133497793,
          0.07172838385238833,
          0.021412251473709176,
          0.028092359071806072,
          0.011505050418655571,
          0.01288504681321001,
          -0.006785379335329189,
          0.001044762531059007,
          0.005701974027410017,
          0.012619549948809095,
          0.005878254011477679,
          -0.004492770731149731,
          0.008848257088089895,
          0.0052657440440846415,
          0.0017461244542134047,
          0.0184926767029836,
          0.051885350315004075,
          0.06604412438430529,
          0.09779055089906308,
          0.012223812854813332,
          0.011047839553480543,
          0.06713678012924618,
          0.011103478282915802,
          0.026718267363918358,
          0.0005396599120286449,
          0.040716238624739276,
          0.03932456190911893,
          0.01376283401790701,
          0.053965707418413444,
          0.05417666019238254,
          0.04101371790200403,
          0.04529589518486432,
          0.038965065071081995,
          0.01725820296390168,
          0.02006883077490329,
          0.09671074279920333,
          0.02074138451570917
         ],
         "yaxis": "y"
        },
        {
         "hovertemplate": "variable=valueStats_swap_cost<br>index=%{x}<br>value=%{y}<extra></extra>",
         "legendgroup": "valueStats_swap_cost",
         "line": {
          "color": "#000002",
          "dash": "solid"
         },
         "marker": {
          "symbol": "circle"
         },
         "mode": "lines",
         "name": "valueStats_swap_cost",
         "orientation": "v",
         "showlegend": true,
         "type": "scatter",
         "x": [
          0,
          1,
          2,
          3,
          4,
          5,
          6,
          7,
          8,
          9,
          10,
          11,
          12,
          13,
          14,
          15,
          16,
          17,
          18,
          19,
          20,
          21,
          22,
          23,
          24,
          25,
          26,
          27,
          28,
          29,
          30,
          31,
          32,
          33,
          34,
          35,
          36,
          37,
          38,
          39,
          40,
          41,
          42,
          43,
          44,
          45,
          46,
          47,
          48,
          49,
          50,
          51,
          52,
          53,
          54,
          55,
          56,
          57,
          58,
          59,
          60,
          61,
          62,
          63,
          64,
          65,
          66
         ],
         "xaxis": "x",
         "y": [
          0.04536831306865093,
          0.1376272669016405,
          0.26650026857057557,
          0.24624777826146924,
          0.25559734813846147,
          0.11244740309797929,
          0.05522763963249216,
          0.18274907716751465,
          0.14372044034229856,
          0.10495003410218595,
          0.07487871696059072,
          0.05900112369587086,
          0.016351930988942415,
          0.04854164708976311,
          0.03888072839360341,
          0.06440802252887204,
          0.05906363759279369,
          0.0295952969058617,
          0.036158698291723426,
          0.07159317206648243,
          0.027144643707270263,
          0.053260728128198466,
          0.039451212278319846,
          0.05674552447599428,
          0.11166328263254992,
          0.04585736383471366,
          0.037626760052646174,
          0.09152616989996543,
          0.018012557847269052,
          0.022014844398307597,
          0.016172431577970523,
          0.05552708478964646,
          0.020202348675896903,
          0.05411300746521883,
          0.0414233775176792,
          0.04243603833019818,
          0,
          0.004719978317150788,
          0.07991538211207491,
          0.10871565311720387,
          0.13712676570655755,
          0.002554178250935406,
          0.03294621314437047,
          0.009115888164443283,
          0.004494296197287971,
          0.050198284053144325,
          0.05174268652421664,
          0.06353126549466077,
          0.09874761957788808,
          0.056151682792177984,
          0.022718777607252987,
          0.06730353704752061,
          0.024609436534085663,
          0.06226909106599001,
          0.000992599224326999,
          0.04803109530951884,
          0.04055145717354701,
          0.016758636474334933,
          0.07047976312805475,
          0.07800122853977422,
          0.05689545619872231,
          0.04582625673113535,
          0.19371653683070572,
          0.1709388773436551,
          0.17449650711241219,
          0.12318455753936922,
          0.05379026218620176
         ],
         "yaxis": "y"
        }
       ],
       "layout": {
        "legend": {
         "title": {
          "text": "variable"
         },
         "tracegroupgap": 0
        },
        "margin": {
         "t": 60
        },
        "template": {
         "data": {
          "candlestick": [
           {
            "decreasing": {
             "line": {
              "color": "#000033"
             }
            },
            "increasing": {
             "line": {
              "color": "#000032"
             }
            },
            "type": "candlestick"
           }
          ],
          "contour": [
           {
            "colorscale": [
             [
              0,
              "#000011"
             ],
             [
              0.1111111111111111,
              "#000012"
             ],
             [
              0.2222222222222222,
              "#000013"
             ],
             [
              0.3333333333333333,
              "#000014"
             ],
             [
              0.4444444444444444,
              "#000015"
             ],
             [
              0.5555555555555556,
              "#000016"
             ],
             [
              0.6666666666666666,
              "#000017"
             ],
             [
              0.7777777777777778,
              "#000018"
             ],
             [
              0.8888888888888888,
              "#000019"
             ],
             [
              1,
              "#000020"
             ]
            ],
            "type": "contour"
           }
          ],
          "contourcarpet": [
           {
            "colorscale": [
             [
              0,
              "#000011"
             ],
             [
              0.1111111111111111,
              "#000012"
             ],
             [
              0.2222222222222222,
              "#000013"
             ],
             [
              0.3333333333333333,
              "#000014"
             ],
             [
              0.4444444444444444,
              "#000015"
             ],
             [
              0.5555555555555556,
              "#000016"
             ],
             [
              0.6666666666666666,
              "#000017"
             ],
             [
              0.7777777777777778,
              "#000018"
             ],
             [
              0.8888888888888888,
              "#000019"
             ],
             [
              1,
              "#000020"
             ]
            ],
            "type": "contourcarpet"
           }
          ],
          "heatmap": [
           {
            "colorscale": [
             [
              0,
              "#000011"
             ],
             [
              0.1111111111111111,
              "#000012"
             ],
             [
              0.2222222222222222,
              "#000013"
             ],
             [
              0.3333333333333333,
              "#000014"
             ],
             [
              0.4444444444444444,
              "#000015"
             ],
             [
              0.5555555555555556,
              "#000016"
             ],
             [
              0.6666666666666666,
              "#000017"
             ],
             [
              0.7777777777777778,
              "#000018"
             ],
             [
              0.8888888888888888,
              "#000019"
             ],
             [
              1,
              "#000020"
             ]
            ],
            "type": "heatmap"
           }
          ],
          "histogram2d": [
           {
            "colorscale": [
             [
              0,
              "#000011"
             ],
             [
              0.1111111111111111,
              "#000012"
             ],
             [
              0.2222222222222222,
              "#000013"
             ],
             [
              0.3333333333333333,
              "#000014"
             ],
             [
              0.4444444444444444,
              "#000015"
             ],
             [
              0.5555555555555556,
              "#000016"
             ],
             [
              0.6666666666666666,
              "#000017"
             ],
             [
              0.7777777777777778,
              "#000018"
             ],
             [
              0.8888888888888888,
              "#000019"
             ],
             [
              1,
              "#000020"
             ]
            ],
            "type": "histogram2d"
           }
          ],
          "icicle": [
           {
            "textfont": {
             "color": "white"
            },
            "type": "icicle"
           }
          ],
          "sankey": [
           {
            "textfont": {
             "color": "#000036"
            },
            "type": "sankey"
           }
          ],
          "scatter": [
           {
            "marker": {
             "line": {
              "width": 0
             }
            },
            "type": "scatter"
           }
          ],
          "table": [
           {
            "cells": {
             "fill": {
              "color": "#000038"
             },
             "font": {
              "color": "#000037"
             },
             "line": {
              "color": "#000039"
             }
            },
            "header": {
             "fill": {
              "color": "#000040"
             },
             "font": {
              "color": "#000036"
             },
             "line": {
              "color": "#000039"
             }
            },
            "type": "table"
           }
          ],
          "waterfall": [
           {
            "connector": {
             "line": {
              "color": "#000036",
              "width": 2
             }
            },
            "decreasing": {
             "marker": {
              "color": "#000033"
             }
            },
            "increasing": {
             "marker": {
              "color": "#000032"
             }
            },
            "totals": {
             "marker": {
              "color": "#000034"
             }
            },
            "type": "waterfall"
           }
          ]
         },
         "layout": {
          "coloraxis": {
           "colorscale": [
            [
             0,
             "#000011"
            ],
            [
             0.1111111111111111,
             "#000012"
            ],
            [
             0.2222222222222222,
             "#000013"
            ],
            [
             0.3333333333333333,
             "#000014"
            ],
            [
             0.4444444444444444,
             "#000015"
            ],
            [
             0.5555555555555556,
             "#000016"
            ],
            [
             0.6666666666666666,
             "#000017"
            ],
            [
             0.7777777777777778,
             "#000018"
            ],
            [
             0.8888888888888888,
             "#000019"
            ],
            [
             1,
             "#000020"
            ]
           ]
          },
          "colorscale": {
           "diverging": [
            [
             0,
             "#000021"
            ],
            [
             0.1,
             "#000022"
            ],
            [
             0.2,
             "#000023"
            ],
            [
             0.3,
             "#000024"
            ],
            [
             0.4,
             "#000025"
            ],
            [
             0.5,
             "#000026"
            ],
            [
             0.6,
             "#000027"
            ],
            [
             0.7,
             "#000028"
            ],
            [
             0.8,
             "#000029"
            ],
            [
             0.9,
             "#000030"
            ],
            [
             1,
             "#000031"
            ]
           ],
           "sequential": [
            [
             0,
             "#000011"
            ],
            [
             0.1111111111111111,
             "#000012"
            ],
            [
             0.2222222222222222,
             "#000013"
            ],
            [
             0.3333333333333333,
             "#000014"
            ],
            [
             0.4444444444444444,
             "#000015"
            ],
            [
             0.5555555555555556,
             "#000016"
            ],
            [
             0.6666666666666666,
             "#000017"
            ],
            [
             0.7777777777777778,
             "#000018"
            ],
            [
             0.8888888888888888,
             "#000019"
            ],
            [
             1,
             "#000020"
            ]
           ],
           "sequentialminus": [
            [
             0,
             "#000011"
            ],
            [
             0.1111111111111111,
             "#000012"
            ],
            [
             0.2222222222222222,
             "#000013"
            ],
            [
             0.3333333333333333,
             "#000014"
            ],
            [
             0.4444444444444444,
             "#000015"
            ],
            [
             0.5555555555555556,
             "#000016"
            ],
            [
             0.6666666666666666,
             "#000017"
            ],
            [
             0.7777777777777778,
             "#000018"
            ],
            [
             0.8888888888888888,
             "#000019"
            ],
            [
             1,
             "#000020"
            ]
           ]
          },
          "colorway": [
           "#000001",
           "#000002",
           "#000003",
           "#000004",
           "#000005",
           "#000006",
           "#000007",
           "#000008",
           "#000009",
           "#000010"
          ]
         }
        },
        "xaxis": {
         "anchor": "y",
         "domain": [
          0,
          1
         ],
         "title": {
          "text": "index"
         }
        },
        "yaxis": {
         "anchor": "x",
         "domain": [
          0,
          1
         ],
         "title": {
          "text": "value"
         }
        }
       }
      }
     },
     "metadata": {},
     "output_type": "display_data"
    }
   ],
   "source": [
    "rebalance_from_idle_df['valueStats_swap_cost'] =rebalance_from_idle_df['valueStats'].apply(lambda x: x[4]/1e18)\n",
    "px.line(rebalance_from_idle_df[['rebalance_cost', 'valueStats_swap_cost']])"
   ]
  },
  {
   "cell_type": "code",
   "execution_count": null,
   "metadata": {},
   "outputs": [
    {
     "data": {
      "application/vnd.plotly.v1+json": {
       "config": {
        "plotlyServerURL": "https://plot.ly"
       },
       "data": [
        {
         "hovertemplate": "variable=rebalance_cost<br>index=%{x}<br>value=%{y}<extra></extra>",
         "legendgroup": "rebalance_cost",
         "line": {
          "color": "#000001",
          "dash": "solid"
         },
         "marker": {
          "symbol": "circle"
         },
         "mode": "lines",
         "name": "rebalance_cost",
         "orientation": "v",
         "showlegend": true,
         "type": "scatter",
         "x": [
          0,
          1,
          2,
          3,
          4,
          5,
          6,
          7,
          8,
          9,
          10,
          11,
          12,
          13,
          14,
          15,
          16,
          17,
          18,
          19,
          20,
          21,
          22,
          23,
          24,
          25,
          26,
          27,
          28,
          29,
          30,
          31,
          32,
          33,
          34,
          35,
          36,
          37,
          38,
          39,
          40,
          41,
          42,
          43,
          44,
          45,
          46,
          47,
          48,
          49,
          50,
          51,
          52,
          53,
          54,
          55,
          56,
          57,
          58,
          59,
          60,
          61,
          62,
          63,
          64,
          65,
          66
         ],
         "xaxis": "x",
         "y": [
          0.0627764602699159,
          -0.02302608364857406,
          0.13039745873720676,
          -0.019359524215730062,
          0.2614164753660475,
          0.104694769379023,
          0.07070521783035133,
          0.15724115674905192,
          0.014348202075225913,
          0.014994087891551544,
          0.01573663904515854,
          0.037495758127150225,
          0.013532526152062019,
          0.017693446807896862,
          0.011519770481527303,
          -3.4436911495404985,
          0.04686778235812028,
          0.024185123608013726,
          0.04062918525778514,
          0.07551288864684125,
          0.031422258662189506,
          0.027029941098703603,
          0.0237808844432692,
          0.021712241994563897,
          -0.00934739637250459,
          0.03171153038606889,
          0.02468561302763561,
          0.06671587778990329,
          0.010025282210449404,
          0.0063275113705998365,
          0.002524214133497793,
          0.07172838385238833,
          0.021412251473709176,
          0.028092359071806072,
          0.011505050418655571,
          0.01288504681321001,
          -0.006785379335329189,
          0.001044762531059007,
          0.005701974027410017,
          0.012619549948809095,
          0.005878254011477679,
          -0.004492770731149731,
          0.008848257088089895,
          0.0052657440440846415,
          0.0017461244542134047,
          0.0184926767029836,
          0.051885350315004075,
          0.06604412438430529,
          0.09779055089906308,
          0.012223812854813332,
          0.011047839553480543,
          0.06713678012924618,
          0.011103478282915802,
          0.026718267363918358,
          0.0005396599120286449,
          0.040716238624739276,
          0.03932456190911893,
          0.01376283401790701,
          0.053965707418413444,
          0.05417666019238254,
          0.04101371790200403,
          0.04529589518486432,
          0.038965065071081995,
          0.01725820296390168,
          0.02006883077490329,
          0.09671074279920333,
          0.02074138451570917
         ],
         "yaxis": "y"
        }
       ],
       "layout": {
        "legend": {
         "title": {
          "text": "variable"
         },
         "tracegroupgap": 0
        },
        "margin": {
         "t": 60
        },
        "template": {
         "data": {
          "candlestick": [
           {
            "decreasing": {
             "line": {
              "color": "#000033"
             }
            },
            "increasing": {
             "line": {
              "color": "#000032"
             }
            },
            "type": "candlestick"
           }
          ],
          "contour": [
           {
            "colorscale": [
             [
              0,
              "#000011"
             ],
             [
              0.1111111111111111,
              "#000012"
             ],
             [
              0.2222222222222222,
              "#000013"
             ],
             [
              0.3333333333333333,
              "#000014"
             ],
             [
              0.4444444444444444,
              "#000015"
             ],
             [
              0.5555555555555556,
              "#000016"
             ],
             [
              0.6666666666666666,
              "#000017"
             ],
             [
              0.7777777777777778,
              "#000018"
             ],
             [
              0.8888888888888888,
              "#000019"
             ],
             [
              1,
              "#000020"
             ]
            ],
            "type": "contour"
           }
          ],
          "contourcarpet": [
           {
            "colorscale": [
             [
              0,
              "#000011"
             ],
             [
              0.1111111111111111,
              "#000012"
             ],
             [
              0.2222222222222222,
              "#000013"
             ],
             [
              0.3333333333333333,
              "#000014"
             ],
             [
              0.4444444444444444,
              "#000015"
             ],
             [
              0.5555555555555556,
              "#000016"
             ],
             [
              0.6666666666666666,
              "#000017"
             ],
             [
              0.7777777777777778,
              "#000018"
             ],
             [
              0.8888888888888888,
              "#000019"
             ],
             [
              1,
              "#000020"
             ]
            ],
            "type": "contourcarpet"
           }
          ],
          "heatmap": [
           {
            "colorscale": [
             [
              0,
              "#000011"
             ],
             [
              0.1111111111111111,
              "#000012"
             ],
             [
              0.2222222222222222,
              "#000013"
             ],
             [
              0.3333333333333333,
              "#000014"
             ],
             [
              0.4444444444444444,
              "#000015"
             ],
             [
              0.5555555555555556,
              "#000016"
             ],
             [
              0.6666666666666666,
              "#000017"
             ],
             [
              0.7777777777777778,
              "#000018"
             ],
             [
              0.8888888888888888,
              "#000019"
             ],
             [
              1,
              "#000020"
             ]
            ],
            "type": "heatmap"
           }
          ],
          "histogram2d": [
           {
            "colorscale": [
             [
              0,
              "#000011"
             ],
             [
              0.1111111111111111,
              "#000012"
             ],
             [
              0.2222222222222222,
              "#000013"
             ],
             [
              0.3333333333333333,
              "#000014"
             ],
             [
              0.4444444444444444,
              "#000015"
             ],
             [
              0.5555555555555556,
              "#000016"
             ],
             [
              0.6666666666666666,
              "#000017"
             ],
             [
              0.7777777777777778,
              "#000018"
             ],
             [
              0.8888888888888888,
              "#000019"
             ],
             [
              1,
              "#000020"
             ]
            ],
            "type": "histogram2d"
           }
          ],
          "icicle": [
           {
            "textfont": {
             "color": "white"
            },
            "type": "icicle"
           }
          ],
          "sankey": [
           {
            "textfont": {
             "color": "#000036"
            },
            "type": "sankey"
           }
          ],
          "scatter": [
           {
            "marker": {
             "line": {
              "width": 0
             }
            },
            "type": "scatter"
           }
          ],
          "table": [
           {
            "cells": {
             "fill": {
              "color": "#000038"
             },
             "font": {
              "color": "#000037"
             },
             "line": {
              "color": "#000039"
             }
            },
            "header": {
             "fill": {
              "color": "#000040"
             },
             "font": {
              "color": "#000036"
             },
             "line": {
              "color": "#000039"
             }
            },
            "type": "table"
           }
          ],
          "waterfall": [
           {
            "connector": {
             "line": {
              "color": "#000036",
              "width": 2
             }
            },
            "decreasing": {
             "marker": {
              "color": "#000033"
             }
            },
            "increasing": {
             "marker": {
              "color": "#000032"
             }
            },
            "totals": {
             "marker": {
              "color": "#000034"
             }
            },
            "type": "waterfall"
           }
          ]
         },
         "layout": {
          "coloraxis": {
           "colorscale": [
            [
             0,
             "#000011"
            ],
            [
             0.1111111111111111,
             "#000012"
            ],
            [
             0.2222222222222222,
             "#000013"
            ],
            [
             0.3333333333333333,
             "#000014"
            ],
            [
             0.4444444444444444,
             "#000015"
            ],
            [
             0.5555555555555556,
             "#000016"
            ],
            [
             0.6666666666666666,
             "#000017"
            ],
            [
             0.7777777777777778,
             "#000018"
            ],
            [
             0.8888888888888888,
             "#000019"
            ],
            [
             1,
             "#000020"
            ]
           ]
          },
          "colorscale": {
           "diverging": [
            [
             0,
             "#000021"
            ],
            [
             0.1,
             "#000022"
            ],
            [
             0.2,
             "#000023"
            ],
            [
             0.3,
             "#000024"
            ],
            [
             0.4,
             "#000025"
            ],
            [
             0.5,
             "#000026"
            ],
            [
             0.6,
             "#000027"
            ],
            [
             0.7,
             "#000028"
            ],
            [
             0.8,
             "#000029"
            ],
            [
             0.9,
             "#000030"
            ],
            [
             1,
             "#000031"
            ]
           ],
           "sequential": [
            [
             0,
             "#000011"
            ],
            [
             0.1111111111111111,
             "#000012"
            ],
            [
             0.2222222222222222,
             "#000013"
            ],
            [
             0.3333333333333333,
             "#000014"
            ],
            [
             0.4444444444444444,
             "#000015"
            ],
            [
             0.5555555555555556,
             "#000016"
            ],
            [
             0.6666666666666666,
             "#000017"
            ],
            [
             0.7777777777777778,
             "#000018"
            ],
            [
             0.8888888888888888,
             "#000019"
            ],
            [
             1,
             "#000020"
            ]
           ],
           "sequentialminus": [
            [
             0,
             "#000011"
            ],
            [
             0.1111111111111111,
             "#000012"
            ],
            [
             0.2222222222222222,
             "#000013"
            ],
            [
             0.3333333333333333,
             "#000014"
            ],
            [
             0.4444444444444444,
             "#000015"
            ],
            [
             0.5555555555555556,
             "#000016"
            ],
            [
             0.6666666666666666,
             "#000017"
            ],
            [
             0.7777777777777778,
             "#000018"
            ],
            [
             0.8888888888888888,
             "#000019"
            ],
            [
             1,
             "#000020"
            ]
           ]
          },
          "colorway": [
           "#000001",
           "#000002",
           "#000003",
           "#000004",
           "#000005",
           "#000006",
           "#000007",
           "#000008",
           "#000009",
           "#000010"
          ]
         }
        },
        "xaxis": {
         "anchor": "y",
         "domain": [
          0,
          1
         ],
         "title": {
          "text": "index"
         }
        },
        "yaxis": {
         "anchor": "x",
         "domain": [
          0,
          1
         ],
         "title": {
          "text": "value"
         }
        }
       }
      }
     },
     "metadata": {},
     "output_type": "display_data"
    }
   ],
   "source": []
  },
  {
   "cell_type": "code",
   "execution_count": null,
   "metadata": {},
   "outputs": [
    {
     "ename": "NameError",
     "evalue": "name 'lp_token_transfer_df' is not defined",
     "output_type": "error",
     "traceback": [
      "\u001b[0;31m---------------------------------------------------------------------------\u001b[0m",
      "\u001b[0;31mNameError\u001b[0m                                 Traceback (most recent call last)",
      "Cell \u001b[0;32mIn[4], line 1\u001b[0m\n\u001b[0;32m----> 1\u001b[0m dest_to_dest \u001b[38;5;241m=\u001b[39m \u001b[43mlp_token_transfer_df\u001b[49m[(lp_token_transfer_df[\u001b[38;5;124m\"\u001b[39m\u001b[38;5;124mhash\u001b[39m\u001b[38;5;124m\"\u001b[39m] \u001b[38;5;241m==\u001b[39m tx_hash)]\u001b[38;5;241m.\u001b[39mcopy()\u001b[38;5;241m.\u001b[39mdrop_duplicates()\n\u001b[1;32m      2\u001b[0m dest_to_dest\n",
      "\u001b[0;31mNameError\u001b[0m: name 'lp_token_transfer_df' is not defined"
     ]
    }
   ],
   "source": [
    "dest_to_dest = lp_token_transfer_df[(lp_token_transfer_df[\"hash\"] == tx_hash)].copy().drop_duplicates()\n",
    "dest_to_dest"
   ]
  },
  {
   "cell_type": "markdown",
   "metadata": {},
   "source": []
  },
  {
   "cell_type": "code",
   "execution_count": null,
   "metadata": {},
   "outputs": [],
   "source": [
    "# 165151197070039380229 expect outDestinationLpToken to be down"
   ]
  },
  {
   "cell_type": "markdown",
   "metadata": {},
   "source": [
    "today I am working more on fixing the overestimate the rebalancing cost on the dashboard. "
   ]
  },
  {
   "cell_type": "code",
   "execution_count": null,
   "metadata": {},
   "outputs": [],
   "source": [
    "# idle -> destination valueStats.amountOut == quantiy of eth that left\n",
    "#"
   ]
  },
  {
   "cell_type": "code",
   "execution_count": null,
   "metadata": {},
   "outputs": [],
   "source": [
    "rebalance_events_df.shape"
   ]
  },
  {
   "cell_type": "code",
   "execution_count": null,
   "metadata": {},
   "outputs": [],
   "source": []
  },
  {
   "cell_type": "code",
   "execution_count": null,
   "metadata": {},
   "outputs": [],
   "source": [
    "160795862717038788608 + 419684887152871954"
   ]
  },
  {
   "cell_type": "code",
   "execution_count": null,
   "metadata": {},
   "outputs": [],
   "source": [
    "dest_to_dest[dest_to_dest[\"token_address\"] == inDestinationVault]"
   ]
  },
  {
   "cell_type": "code",
   "execution_count": null,
   "metadata": {},
   "outputs": [],
   "source": [
    "dest_to_dest[dest_to_dest[\"token_address\"] == outDestinationVault]"
   ]
  },
  {
   "cell_type": "code",
   "execution_count": null,
   "metadata": {},
   "outputs": [],
   "source": [
    "dest_to_dest[dest_to_dest[\"to\"] == outDestinationVault]"
   ]
  },
  {
   "cell_type": "code",
   "execution_count": null,
   "metadata": {},
   "outputs": [],
   "source": [
    "dest_to_dest[dest_to_dest[\"from\"] == outDestinationVault]\n",
    "# destination vault -> flash borrow solver 0x067cB94576aBBDB3527055f3c8CaAAc9668364AD\n",
    "# is the quanikty t"
   ]
  },
  {
   "cell_type": "code",
   "execution_count": null,
   "metadata": {},
   "outputs": [],
   "source": [
    "dest_to_dest[\"to\"].value_counts()"
   ]
  },
  {
   "cell_type": "code",
   "execution_count": null,
   "metadata": {},
   "outputs": [],
   "source": [
    "rebalance_events_df.values[-1]  # 73804358107532979104"
   ]
  },
  {
   "cell_type": "code",
   "execution_count": null,
   "metadata": {},
   "outputs": [],
   "source": [
    "rebalance_events_df"
   ]
  },
  {
   "cell_type": "code",
   "execution_count": null,
   "metadata": {},
   "outputs": [],
   "source": []
  }
 ],
 "metadata": {
  "kernelspec": {
   "display_name": ".venv",
   "language": "python",
   "name": "python3"
  },
  "language_info": {
   "codemirror_mode": {
    "name": "ipython",
    "version": 3
   },
   "file_extension": ".py",
   "mimetype": "text/x-python",
   "name": "python",
   "nbconvert_exporter": "python",
   "pygments_lexer": "ipython3",
   "version": "3.10.14"
  }
 },
 "nbformat": 4,
 "nbformat_minor": 2
}
