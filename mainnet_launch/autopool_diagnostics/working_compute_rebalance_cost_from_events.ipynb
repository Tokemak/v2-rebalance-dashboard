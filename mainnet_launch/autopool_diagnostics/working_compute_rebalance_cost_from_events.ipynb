{
 "cells": [
  {
   "cell_type": "code",
   "execution_count": null,
   "metadata": {},
   "outputs": [
    {
     "name": "stderr",
     "output_type": "stream",
     "text": [
      "2024-11-18 15:53:16.063 Thread 'MainThread': missing ScriptRunContext! This warning can be ignored when running in bare mode.\n",
      "2024-11-18 15:53:16.064 Thread 'MainThread': missing ScriptRunContext! This warning can be ignored when running in bare mode.\n",
      "2024-11-18 15:53:16.065 Thread 'MainThread': missing ScriptRunContext! This warning can be ignored when running in bare mode.\n",
      "2024-11-18 15:53:16.066 Thread 'MainThread': missing ScriptRunContext! This warning can be ignored when running in bare mode.\n",
      "2024-11-18 15:53:16.067 Thread 'MainThread': missing ScriptRunContext! This warning can be ignored when running in bare mode.\n",
      "2024-11-18 15:53:16.067 Thread 'MainThread': missing ScriptRunContext! This warning can be ignored when running in bare mode.\n",
      "2024-11-18 15:53:16.068 Thread 'MainThread': missing ScriptRunContext! This warning can be ignored when running in bare mode.\n",
      "2024-11-18 15:53:16.069 Thread 'MainThread': missing ScriptRunContext! This warning can be ignored when running in bare mode.\n",
      "2024-11-18 15:53:16.573 Thread 'Thread-12': missing ScriptRunContext! This warning can be ignored when running in bare mode.\n",
      "2024-11-18 15:53:16.573 Thread 'Thread-12': missing ScriptRunContext! This warning can be ignored when running in bare mode.\n",
      "2024-11-18 15:53:26.157 Thread 'MainThread': missing ScriptRunContext! This warning can be ignored when running in bare mode.\n",
      "2024-11-18 15:53:26.158 Thread 'MainThread': missing ScriptRunContext! This warning can be ignored when running in bare mode.\n",
      "2024-11-18 15:53:26.158 Thread 'MainThread': missing ScriptRunContext! This warning can be ignored when running in bare mode.\n",
      "2024-11-18 15:53:26.159 Thread 'MainThread': missing ScriptRunContext! This warning can be ignored when running in bare mode.\n",
      "2024-11-18 15:53:26.160 Thread 'MainThread': missing ScriptRunContext! This warning can be ignored when running in bare mode.\n"
     ]
    }
   ],
   "source": [
    "from mainnet_launch.autopool_diagnostics.compute_rebalance_cost import (\n",
    "    eth_client,\n",
    "    AutopoolConstants,\n",
    "    _fetch_rebalance_df_with_actual_amounts,\n",
    ")\n",
    "from mainnet_launch.constants import AUTO_ETH, AUTO_LRT, BAL_ETH, ALL_AUTOPOOLS\n",
    "import pandas as pd\n",
    "import plotly.express as px\n",
    "\n",
    "\n",
    "cols = [\n",
    "    \"block\",\n",
    "    \"event\",\n",
    "    \"outDestinationVault\",\n",
    "    \"inDestinationVault\",\n",
    "    \"out_price\",\n",
    "    \"out_amount\",\n",
    "    \"in_price\",\n",
    "    \"in_amount\",\n",
    "    \"spot_value_out\",\n",
    "    \"spot_value_in\",\n",
    "    \"swap_cost\",\n",
    "]\n",
    "d = {}\n",
    "for a in ALL_AUTOPOOLS:\n",
    "    d[a.name] = _fetch_rebalance_df_with_actual_amounts(a)"
   ]
  },
  {
   "cell_type": "code",
   "execution_count": null,
   "metadata": {},
   "outputs": [
    {
     "ename": "NameError",
     "evalue": "name 'd' is not defined",
     "output_type": "error",
     "traceback": [
      "\u001b[0;31m---------------------------------------------------------------------------\u001b[0m",
      "\u001b[0;31mNameError\u001b[0m                                 Traceback (most recent call last)",
      "Cell \u001b[0;32mIn[30], line 1\u001b[0m\n\u001b[0;32m----> 1\u001b[0m df, prices_after_rebalance \u001b[38;5;241m=\u001b[39m \u001b[43md\u001b[49m[\u001b[38;5;124m\"\u001b[39m\u001b[38;5;124mautoLRT\u001b[39m\u001b[38;5;124m\"\u001b[39m]\n\u001b[1;32m      2\u001b[0m cols \u001b[38;5;241m=\u001b[39m [\n\u001b[1;32m      3\u001b[0m     \u001b[38;5;124m\"\u001b[39m\u001b[38;5;124mblock\u001b[39m\u001b[38;5;124m\"\u001b[39m,\n\u001b[1;32m      4\u001b[0m     \u001b[38;5;124m\"\u001b[39m\u001b[38;5;124mevent\u001b[39m\u001b[38;5;124m\"\u001b[39m,\n\u001b[0;32m   (...)\u001b[0m\n\u001b[1;32m     13\u001b[0m     \u001b[38;5;124m\"\u001b[39m\u001b[38;5;124mswap_cost\u001b[39m\u001b[38;5;124m\"\u001b[39m,\n\u001b[1;32m     14\u001b[0m ]\n\u001b[1;32m     15\u001b[0m df[df[\u001b[38;5;124m\"\u001b[39m\u001b[38;5;124mswap_cost\u001b[39m\u001b[38;5;124m\"\u001b[39m]\u001b[38;5;241m.\u001b[39misna()][cols]\n",
      "\u001b[0;31mNameError\u001b[0m: name 'd' is not defined"
     ]
    }
   ],
   "source": [
    "df = d[\"autoLRT\"]\n",
    "cols = [\n",
    "    \"block\",\n",
    "    \"event\",\n",
    "    \"outDestinationVault\",\n",
    "    \"inDestinationVault\",\n",
    "    \"out_price\",\n",
    "    \"out_amount\",\n",
    "    \"in_price\",\n",
    "    \"in_amount\",\n",
    "    \"spot_value_out\",\n",
    "    \"spot_value_in\",\n",
    "    \"swap_cost\",\n",
    "]\n",
    "df[df[\"swap_cost\"].isna()][cols]"
   ]
  },
  {
   "cell_type": "code",
   "execution_count": null,
   "metadata": {},
   "outputs": [],
   "source": [
    "df = d[\"autoETH\"]\n",
    "cols = [\n",
    "    \"block\",\n",
    "    \"event\",\n",
    "    \"outDestinationVault\",\n",
    "    \"inDestinationVault\",\n",
    "    \"out_price\",\n",
    "    \"out_amount\",\n",
    "    \"in_price\",\n",
    "    \"in_amount\",\n",
    "    \"spot_value_out\",\n",
    "    \"spot_value_in\",\n",
    "    \"swap_cost\",\n",
    "]\n",
    "df[df[\"swap_cost\"].isna()][cols]"
   ]
  },
  {
   "cell_type": "code",
   "execution_count": null,
   "metadata": {},
   "outputs": [],
   "source": [
    "df = d[\"balETH\"]\n",
    "cols = [\n",
    "    \"block\",\n",
    "    \"event\",\n",
    "    \"outDestinationVault\",\n",
    "    \"inDestinationVault\",\n",
    "    \"out_price\",\n",
    "    \"out_amount\",\n",
    "    \"in_price\",\n",
    "    \"in_amount\",\n",
    "    \"spot_value_out\",\n",
    "    \"spot_value_in\",\n",
    "    \"swap_cost\",\n",
    "]\n",
    "df[df[\"swap_cost\"].isna()][cols]"
   ]
  },
  {
   "cell_type": "code",
   "execution_count": null,
   "metadata": {},
   "outputs": [
    {
     "data": {
      "text/html": [
       "<div>\n",
       "<style scoped>\n",
       "    .dataframe tbody tr th:only-of-type {\n",
       "        vertical-align: middle;\n",
       "    }\n",
       "\n",
       "    .dataframe tbody tr th {\n",
       "        vertical-align: top;\n",
       "    }\n",
       "\n",
       "    .dataframe thead th {\n",
       "        text-align: right;\n",
       "    }\n",
       "</style>\n",
       "<table border=\"1\" class=\"dataframe\">\n",
       "  <thead>\n",
       "    <tr style=\"text-align: right;\">\n",
       "      <th></th>\n",
       "      <th>block</th>\n",
       "      <th>event</th>\n",
       "      <th>outDestinationVault</th>\n",
       "      <th>inDestinationVault</th>\n",
       "      <th>out_price</th>\n",
       "      <th>out_amount</th>\n",
       "      <th>in_price</th>\n",
       "      <th>in_amount</th>\n",
       "      <th>spot_value_out</th>\n",
       "      <th>spot_value_in</th>\n",
       "      <th>swap_cost</th>\n",
       "    </tr>\n",
       "  </thead>\n",
       "  <tbody>\n",
       "    <tr>\n",
       "      <th>0</th>\n",
       "      <td>21068324</td>\n",
       "      <td>RebalanceToIdle</td>\n",
       "      <td>0xf9779aEF9f77e78C857CB4A068c65CcBee25BAAc</td>\n",
       "      <td>0x6dC3ce9C57b20131347FDc9089D740DAf6eB34c5</td>\n",
       "      <td>NaN</td>\n",
       "      <td>19.342810</td>\n",
       "      <td>1.000000</td>\n",
       "      <td>19.643421</td>\n",
       "      <td>NaN</td>\n",
       "      <td>19.643421</td>\n",
       "      <td>NaN</td>\n",
       "    </tr>\n",
       "    <tr>\n",
       "      <th>1</th>\n",
       "      <td>21208933</td>\n",
       "      <td>RebalanceToIdle</td>\n",
       "      <td>0xf9779aEF9f77e78C857CB4A068c65CcBee25BAAc</td>\n",
       "      <td>0x6dC3ce9C57b20131347FDc9089D740DAf6eB34c5</td>\n",
       "      <td>NaN</td>\n",
       "      <td>16.842117</td>\n",
       "      <td>1.000000</td>\n",
       "      <td>17.133886</td>\n",
       "      <td>NaN</td>\n",
       "      <td>17.133886</td>\n",
       "      <td>NaN</td>\n",
       "    </tr>\n",
       "    <tr>\n",
       "      <th>44</th>\n",
       "      <td>20930151</td>\n",
       "      <td>RebalanceBetweenDestinations</td>\n",
       "      <td>0x148Ca723BefeA7b021C399413b8b7426A4701500</td>\n",
       "      <td>0x40219bBda953ca811d2D0168Dc806a96b84791d9</td>\n",
       "      <td>1.020220</td>\n",
       "      <td>NaN</td>\n",
       "      <td>1.020220</td>\n",
       "      <td>NaN</td>\n",
       "      <td>NaN</td>\n",
       "      <td>NaN</td>\n",
       "      <td>NaN</td>\n",
       "    </tr>\n",
       "    <tr>\n",
       "      <th>48</th>\n",
       "      <td>20946688</td>\n",
       "      <td>RebalanceBetweenDestinations</td>\n",
       "      <td>0x2F7e096a400ded5D02762120b39A3aA4ABA072a4</td>\n",
       "      <td>0x60339056EC88996e41757E05a798310E46972cca</td>\n",
       "      <td>1.018425</td>\n",
       "      <td>NaN</td>\n",
       "      <td>1.018425</td>\n",
       "      <td>NaN</td>\n",
       "      <td>NaN</td>\n",
       "      <td>NaN</td>\n",
       "      <td>NaN</td>\n",
       "    </tr>\n",
       "    <tr>\n",
       "      <th>49</th>\n",
       "      <td>20949834</td>\n",
       "      <td>RebalanceBetweenDestinations</td>\n",
       "      <td>0x4E12227b350E8f8fEEc41A58D36cE2fB2e2d4575</td>\n",
       "      <td>0xf9779aEF9f77e78C857CB4A068c65CcBee25BAAc</td>\n",
       "      <td>1.016105</td>\n",
       "      <td>NaN</td>\n",
       "      <td>1.016105</td>\n",
       "      <td>NaN</td>\n",
       "      <td>NaN</td>\n",
       "      <td>NaN</td>\n",
       "      <td>NaN</td>\n",
       "    </tr>\n",
       "    <tr>\n",
       "      <th>52</th>\n",
       "      <td>20959478</td>\n",
       "      <td>RebalanceBetweenDestinations</td>\n",
       "      <td>0xfB6f99FdF12E37Bfe3c4Cf81067faB10c465fb24</td>\n",
       "      <td>0xdfE3fA7027E84f59b266459C567278C79fe86f0C</td>\n",
       "      <td>1.012890</td>\n",
       "      <td>NaN</td>\n",
       "      <td>1.012890</td>\n",
       "      <td>NaN</td>\n",
       "      <td>NaN</td>\n",
       "      <td>NaN</td>\n",
       "      <td>NaN</td>\n",
       "    </tr>\n",
       "    <tr>\n",
       "      <th>53</th>\n",
       "      <td>20966549</td>\n",
       "      <td>RebalanceBetweenDestinations</td>\n",
       "      <td>0x8cA2201BC34780f14Bca452913ecAc8e9928d4cA</td>\n",
       "      <td>0xc4Eb861e7b66f593482a3D7E8adc314f6eEDA30B</td>\n",
       "      <td>1.001357</td>\n",
       "      <td>NaN</td>\n",
       "      <td>1.001357</td>\n",
       "      <td>NaN</td>\n",
       "      <td>NaN</td>\n",
       "      <td>NaN</td>\n",
       "      <td>NaN</td>\n",
       "    </tr>\n",
       "  </tbody>\n",
       "</table>\n",
       "</div>"
      ],
      "text/plain": [
       "       block                         event  \\\n",
       "0   21068324               RebalanceToIdle   \n",
       "1   21208933               RebalanceToIdle   \n",
       "44  20930151  RebalanceBetweenDestinations   \n",
       "48  20946688  RebalanceBetweenDestinations   \n",
       "49  20949834  RebalanceBetweenDestinations   \n",
       "52  20959478  RebalanceBetweenDestinations   \n",
       "53  20966549  RebalanceBetweenDestinations   \n",
       "\n",
       "                           outDestinationVault  \\\n",
       "0   0xf9779aEF9f77e78C857CB4A068c65CcBee25BAAc   \n",
       "1   0xf9779aEF9f77e78C857CB4A068c65CcBee25BAAc   \n",
       "44  0x148Ca723BefeA7b021C399413b8b7426A4701500   \n",
       "48  0x2F7e096a400ded5D02762120b39A3aA4ABA072a4   \n",
       "49  0x4E12227b350E8f8fEEc41A58D36cE2fB2e2d4575   \n",
       "52  0xfB6f99FdF12E37Bfe3c4Cf81067faB10c465fb24   \n",
       "53  0x8cA2201BC34780f14Bca452913ecAc8e9928d4cA   \n",
       "\n",
       "                            inDestinationVault  out_price  out_amount  \\\n",
       "0   0x6dC3ce9C57b20131347FDc9089D740DAf6eB34c5        NaN   19.342810   \n",
       "1   0x6dC3ce9C57b20131347FDc9089D740DAf6eB34c5        NaN   16.842117   \n",
       "44  0x40219bBda953ca811d2D0168Dc806a96b84791d9   1.020220         NaN   \n",
       "48  0x60339056EC88996e41757E05a798310E46972cca   1.018425         NaN   \n",
       "49  0xf9779aEF9f77e78C857CB4A068c65CcBee25BAAc   1.016105         NaN   \n",
       "52  0xdfE3fA7027E84f59b266459C567278C79fe86f0C   1.012890         NaN   \n",
       "53  0xc4Eb861e7b66f593482a3D7E8adc314f6eEDA30B   1.001357         NaN   \n",
       "\n",
       "    in_price  in_amount  spot_value_out  spot_value_in  swap_cost  \n",
       "0   1.000000  19.643421             NaN      19.643421        NaN  \n",
       "1   1.000000  17.133886             NaN      17.133886        NaN  \n",
       "44  1.020220        NaN             NaN            NaN        NaN  \n",
       "48  1.018425        NaN             NaN            NaN        NaN  \n",
       "49  1.016105        NaN             NaN            NaN        NaN  \n",
       "52  1.012890        NaN             NaN            NaN        NaN  \n",
       "53  1.001357        NaN             NaN            NaN        NaN  "
      ]
     },
     "execution_count": 27,
     "metadata": {},
     "output_type": "execute_result"
    }
   ],
   "source": [
    "df, prices_after_rebalance = d[\"balETH\"]\n",
    "cols = [\n",
    "    \"block\",\n",
    "    \"event\",\n",
    "    \"outDestinationVault\",\n",
    "    \"inDestinationVault\",\n",
    "    \"out_price\",\n",
    "    \"out_amount\",\n",
    "    \"in_price\",\n",
    "    \"in_amount\",\n",
    "    \"spot_value_out\",\n",
    "    \"spot_value_in\",\n",
    "    \"swap_cost\",\n",
    "]\n",
    "df[df[\"swap_cost\"].isna()][cols]"
   ]
  },
  {
   "cell_type": "code",
   "execution_count": null,
   "metadata": {},
   "outputs": [],
   "source": [
    "rebalance_df"
   ]
  },
  {
   "cell_type": "code",
   "execution_count": null,
   "metadata": {},
   "outputs": [
    {
     "data": {
      "text/plain": [
       "event\n",
       "RebalanceBetweenDestinations    93\n",
       "RebalanceToIdle                  2\n",
       "Name: count, dtype: int64"
      ]
     },
     "execution_count": 28,
     "metadata": {},
     "output_type": "execute_result"
    }
   ],
   "source": [
    "df[\"event\"].value_counts()"
   ]
  },
  {
   "cell_type": "code",
   "execution_count": null,
   "metadata": {},
   "outputs": [],
   "source": []
  },
  {
   "cell_type": "code",
   "execution_count": null,
   "metadata": {},
   "outputs": [
    {
     "data": {
      "text/html": [
       "<div>\n",
       "<style scoped>\n",
       "    .dataframe tbody tr th:only-of-type {\n",
       "        vertical-align: middle;\n",
       "    }\n",
       "\n",
       "    .dataframe tbody tr th {\n",
       "        vertical-align: top;\n",
       "    }\n",
       "\n",
       "    .dataframe thead th {\n",
       "        text-align: right;\n",
       "    }\n",
       "</style>\n",
       "<table border=\"1\" class=\"dataframe\">\n",
       "  <thead>\n",
       "    <tr style=\"text-align: right;\">\n",
       "      <th></th>\n",
       "      <th>event</th>\n",
       "      <th>block</th>\n",
       "      <th>hash</th>\n",
       "      <th>outDestinationVault</th>\n",
       "      <th>inDestinationVault</th>\n",
       "      <th>amount_withdrawn</th>\n",
       "      <th>amount_deposited</th>\n",
       "      <th>weth_to_autopool</th>\n",
       "      <th>weth_from_autopool</th>\n",
       "      <th>0xfB6f99FdF12E37Bfe3c4Cf81067faB10c465fb24</th>\n",
       "      <th>...</th>\n",
       "      <th>0x25cb41919d6B88e0D48108A4F5fe8FBb3744aFE1</th>\n",
       "      <th>0x3B2C87Ed95483059b950155a68E906d543193d5C</th>\n",
       "      <th>0xA1b9297525388BA3985413D982863f31e2A29d05</th>\n",
       "      <th>out_price</th>\n",
       "      <th>out_amount</th>\n",
       "      <th>in_price</th>\n",
       "      <th>in_amount</th>\n",
       "      <th>spot_value_out</th>\n",
       "      <th>spot_value_in</th>\n",
       "      <th>swap_cost</th>\n",
       "    </tr>\n",
       "  </thead>\n",
       "  <tbody>\n",
       "    <tr>\n",
       "      <th>0</th>\n",
       "      <td>RebalanceToIdle</td>\n",
       "      <td>21068324</td>\n",
       "      <td>0x4a5f88a53858cd1ec76e977e33a495f9b7eebeb80e48...</td>\n",
       "      <td>0xf9779aEF9f77e78C857CB4A068c65CcBee25BAAc</td>\n",
       "      <td>0x6dC3ce9C57b20131347FDc9089D740DAf6eB34c5</td>\n",
       "      <td>19.34281</td>\n",
       "      <td>19.643421</td>\n",
       "      <td>19.643421</td>\n",
       "      <td>NaN</td>\n",
       "      <td>1.010152</td>\n",
       "      <td>...</td>\n",
       "      <td>1.030536</td>\n",
       "      <td>1.018619</td>\n",
       "      <td>NaN</td>\n",
       "      <td>NaN</td>\n",
       "      <td>19.342810</td>\n",
       "      <td>1.000000</td>\n",
       "      <td>19.643421</td>\n",
       "      <td>NaN</td>\n",
       "      <td>19.643421</td>\n",
       "      <td>NaN</td>\n",
       "    </tr>\n",
       "    <tr>\n",
       "      <th>1</th>\n",
       "      <td>RebalanceToIdle</td>\n",
       "      <td>21208933</td>\n",
       "      <td>0x71e59088e85e99e7e4f87a0b20199dbacf20880a93f4...</td>\n",
       "      <td>0xf9779aEF9f77e78C857CB4A068c65CcBee25BAAc</td>\n",
       "      <td>0x6dC3ce9C57b20131347FDc9089D740DAf6eB34c5</td>\n",
       "      <td>16.842117</td>\n",
       "      <td>17.133886</td>\n",
       "      <td>17.133886</td>\n",
       "      <td>NaN</td>\n",
       "      <td>1.010204</td>\n",
       "      <td>...</td>\n",
       "      <td>1.030628</td>\n",
       "      <td>1.018610</td>\n",
       "      <td>NaN</td>\n",
       "      <td>NaN</td>\n",
       "      <td>16.842117</td>\n",
       "      <td>1.000000</td>\n",
       "      <td>17.133886</td>\n",
       "      <td>NaN</td>\n",
       "      <td>17.133886</td>\n",
       "      <td>NaN</td>\n",
       "    </tr>\n",
       "    <tr>\n",
       "      <th>2</th>\n",
       "      <td>RebalanceBetweenDestinations</td>\n",
       "      <td>20765628</td>\n",
       "      <td>0xedaf8a039095acfb8b6f7e449b44f417d3a110766d1e...</td>\n",
       "      <td>0x6dC3ce9C57b20131347FDc9089D740DAf6eB34c5</td>\n",
       "      <td>0x2F7e096a400ded5D02762120b39A3aA4ABA072a4</td>\n",
       "      <td>121.714203</td>\n",
       "      <td>119.628263</td>\n",
       "      <td>NaN</td>\n",
       "      <td>121.714203</td>\n",
       "      <td>1.010166</td>\n",
       "      <td>...</td>\n",
       "      <td>1.030192</td>\n",
       "      <td>1.019030</td>\n",
       "      <td>NaN</td>\n",
       "      <td>1.000000</td>\n",
       "      <td>121.714203</td>\n",
       "      <td>1.016085</td>\n",
       "      <td>119.628263</td>\n",
       "      <td>121.714203</td>\n",
       "      <td>121.552442</td>\n",
       "      <td>0.161760</td>\n",
       "    </tr>\n",
       "    <tr>\n",
       "      <th>3</th>\n",
       "      <td>RebalanceBetweenDestinations</td>\n",
       "      <td>20769006</td>\n",
       "      <td>0x0f300d5fb1bfc46d634a9b64f773dbfd73ab9babafc1...</td>\n",
       "      <td>0x6dC3ce9C57b20131347FDc9089D740DAf6eB34c5</td>\n",
       "      <td>0x6DcB6797b1C0442587c2ad79745ef7BB487Fc2E2</td>\n",
       "      <td>135.862072</td>\n",
       "      <td>132.817114</td>\n",
       "      <td>NaN</td>\n",
       "      <td>135.862072</td>\n",
       "      <td>1.010308</td>\n",
       "      <td>...</td>\n",
       "      <td>1.030585</td>\n",
       "      <td>1.019406</td>\n",
       "      <td>NaN</td>\n",
       "      <td>1.000000</td>\n",
       "      <td>135.862072</td>\n",
       "      <td>1.022412</td>\n",
       "      <td>132.817114</td>\n",
       "      <td>135.862072</td>\n",
       "      <td>135.793814</td>\n",
       "      <td>0.068258</td>\n",
       "    </tr>\n",
       "    <tr>\n",
       "      <th>4</th>\n",
       "      <td>RebalanceBetweenDestinations</td>\n",
       "      <td>20774007</td>\n",
       "      <td>0xf9406f0b450a55bf31940280bbc878f1e3a9d29056d3...</td>\n",
       "      <td>0x6dC3ce9C57b20131347FDc9089D740DAf6eB34c5</td>\n",
       "      <td>0x4E12227b350E8f8fEEc41A58D36cE2fB2e2d4575</td>\n",
       "      <td>190.555717</td>\n",
       "      <td>187.842854</td>\n",
       "      <td>NaN</td>\n",
       "      <td>190.555717</td>\n",
       "      <td>1.010475</td>\n",
       "      <td>...</td>\n",
       "      <td>1.030743</td>\n",
       "      <td>1.019393</td>\n",
       "      <td>NaN</td>\n",
       "      <td>1.000000</td>\n",
       "      <td>190.555717</td>\n",
       "      <td>1.013876</td>\n",
       "      <td>187.842854</td>\n",
       "      <td>190.555717</td>\n",
       "      <td>190.449422</td>\n",
       "      <td>0.106295</td>\n",
       "    </tr>\n",
       "    <tr>\n",
       "      <th>...</th>\n",
       "      <td>...</td>\n",
       "      <td>...</td>\n",
       "      <td>...</td>\n",
       "      <td>...</td>\n",
       "      <td>...</td>\n",
       "      <td>...</td>\n",
       "      <td>...</td>\n",
       "      <td>...</td>\n",
       "      <td>...</td>\n",
       "      <td>...</td>\n",
       "      <td>...</td>\n",
       "      <td>...</td>\n",
       "      <td>...</td>\n",
       "      <td>...</td>\n",
       "      <td>...</td>\n",
       "      <td>...</td>\n",
       "      <td>...</td>\n",
       "      <td>...</td>\n",
       "      <td>...</td>\n",
       "      <td>...</td>\n",
       "      <td>...</td>\n",
       "    </tr>\n",
       "    <tr>\n",
       "      <th>90</th>\n",
       "      <td>RebalanceBetweenDestinations</td>\n",
       "      <td>21195493</td>\n",
       "      <td>0xfb0915e480fb5ee384d759f64d950fda6cfc19ec9c8d...</td>\n",
       "      <td>0x6dC3ce9C57b20131347FDc9089D740DAf6eB34c5</td>\n",
       "      <td>0x60339056EC88996e41757E05a798310E46972cca</td>\n",
       "      <td>11.626505</td>\n",
       "      <td>11.496709</td>\n",
       "      <td>NaN</td>\n",
       "      <td>11.626505</td>\n",
       "      <td>1.014914</td>\n",
       "      <td>...</td>\n",
       "      <td>1.034837</td>\n",
       "      <td>1.022256</td>\n",
       "      <td>1.025588</td>\n",
       "      <td>1.000000</td>\n",
       "      <td>11.626505</td>\n",
       "      <td>1.020342</td>\n",
       "      <td>11.496709</td>\n",
       "      <td>11.626505</td>\n",
       "      <td>11.730577</td>\n",
       "      <td>-0.104071</td>\n",
       "    </tr>\n",
       "    <tr>\n",
       "      <th>91</th>\n",
       "      <td>RebalanceBetweenDestinations</td>\n",
       "      <td>21199975</td>\n",
       "      <td>0x0afcb519e9ec543262ec84567499c5bb2ee14ebabf91...</td>\n",
       "      <td>0x6dC3ce9C57b20131347FDc9089D740DAf6eB34c5</td>\n",
       "      <td>0x60339056EC88996e41757E05a798310E46972cca</td>\n",
       "      <td>6.688835</td>\n",
       "      <td>6.550867</td>\n",
       "      <td>NaN</td>\n",
       "      <td>6.688835</td>\n",
       "      <td>1.015169</td>\n",
       "      <td>...</td>\n",
       "      <td>1.035196</td>\n",
       "      <td>1.022182</td>\n",
       "      <td>1.026131</td>\n",
       "      <td>1.000000</td>\n",
       "      <td>6.688835</td>\n",
       "      <td>1.020164</td>\n",
       "      <td>6.550867</td>\n",
       "      <td>6.688835</td>\n",
       "      <td>6.682956</td>\n",
       "      <td>0.005879</td>\n",
       "    </tr>\n",
       "    <tr>\n",
       "      <th>92</th>\n",
       "      <td>RebalanceBetweenDestinations</td>\n",
       "      <td>21204459</td>\n",
       "      <td>0xd59075cc8db5e82f29a33ee68a1491f9ec13bda85aab...</td>\n",
       "      <td>0x6dC3ce9C57b20131347FDc9089D740DAf6eB34c5</td>\n",
       "      <td>0xc4Eb861e7b66f593482a3D7E8adc314f6eEDA30B</td>\n",
       "      <td>20.563947</td>\n",
       "      <td>20.532321</td>\n",
       "      <td>NaN</td>\n",
       "      <td>20.563947</td>\n",
       "      <td>1.015192</td>\n",
       "      <td>...</td>\n",
       "      <td>1.035224</td>\n",
       "      <td>1.022509</td>\n",
       "      <td>1.026093</td>\n",
       "      <td>1.000000</td>\n",
       "      <td>20.563947</td>\n",
       "      <td>1.001654</td>\n",
       "      <td>20.532321</td>\n",
       "      <td>20.563947</td>\n",
       "      <td>20.566277</td>\n",
       "      <td>-0.002330</td>\n",
       "    </tr>\n",
       "    <tr>\n",
       "      <th>93</th>\n",
       "      <td>RebalanceBetweenDestinations</td>\n",
       "      <td>21209839</td>\n",
       "      <td>0x3d1863bc872736e7cf23f419fb2bc55e0d33f89cebf4...</td>\n",
       "      <td>0xf9779aEF9f77e78C857CB4A068c65CcBee25BAAc</td>\n",
       "      <td>0xc4Eb861e7b66f593482a3D7E8adc314f6eEDA30B</td>\n",
       "      <td>49.114753</td>\n",
       "      <td>49.872073</td>\n",
       "      <td>NaN</td>\n",
       "      <td>NaN</td>\n",
       "      <td>1.015192</td>\n",
       "      <td>...</td>\n",
       "      <td>1.035252</td>\n",
       "      <td>1.022509</td>\n",
       "      <td>1.026093</td>\n",
       "      <td>1.018024</td>\n",
       "      <td>49.114753</td>\n",
       "      <td>1.001646</td>\n",
       "      <td>49.872073</td>\n",
       "      <td>50.000000</td>\n",
       "      <td>49.954157</td>\n",
       "      <td>0.045843</td>\n",
       "    </tr>\n",
       "    <tr>\n",
       "      <th>94</th>\n",
       "      <td>RebalanceBetweenDestinations</td>\n",
       "      <td>21214320</td>\n",
       "      <td>0x5dee47b527daa4d77d9f24a5d1cd3c18e4bbeff3ce8c...</td>\n",
       "      <td>0x6dC3ce9C57b20131347FDc9089D740DAf6eB34c5</td>\n",
       "      <td>0xc4Eb861e7b66f593482a3D7E8adc314f6eEDA30B</td>\n",
       "      <td>2.034014</td>\n",
       "      <td>2.030614</td>\n",
       "      <td>NaN</td>\n",
       "      <td>2.034014</td>\n",
       "      <td>1.015028</td>\n",
       "      <td>...</td>\n",
       "      <td>1.035275</td>\n",
       "      <td>1.022307</td>\n",
       "      <td>1.026186</td>\n",
       "      <td>1.000000</td>\n",
       "      <td>2.034014</td>\n",
       "      <td>1.001666</td>\n",
       "      <td>2.030614</td>\n",
       "      <td>2.034014</td>\n",
       "      <td>2.033997</td>\n",
       "      <td>0.000018</td>\n",
       "    </tr>\n",
       "  </tbody>\n",
       "</table>\n",
       "<p>95 rows × 53 columns</p>\n",
       "</div>"
      ],
      "text/plain": [
       "                           event     block  \\\n",
       "0                RebalanceToIdle  21068324   \n",
       "1                RebalanceToIdle  21208933   \n",
       "2   RebalanceBetweenDestinations  20765628   \n",
       "3   RebalanceBetweenDestinations  20769006   \n",
       "4   RebalanceBetweenDestinations  20774007   \n",
       "..                           ...       ...   \n",
       "90  RebalanceBetweenDestinations  21195493   \n",
       "91  RebalanceBetweenDestinations  21199975   \n",
       "92  RebalanceBetweenDestinations  21204459   \n",
       "93  RebalanceBetweenDestinations  21209839   \n",
       "94  RebalanceBetweenDestinations  21214320   \n",
       "\n",
       "                                                 hash  \\\n",
       "0   0x4a5f88a53858cd1ec76e977e33a495f9b7eebeb80e48...   \n",
       "1   0x71e59088e85e99e7e4f87a0b20199dbacf20880a93f4...   \n",
       "2   0xedaf8a039095acfb8b6f7e449b44f417d3a110766d1e...   \n",
       "3   0x0f300d5fb1bfc46d634a9b64f773dbfd73ab9babafc1...   \n",
       "4   0xf9406f0b450a55bf31940280bbc878f1e3a9d29056d3...   \n",
       "..                                                ...   \n",
       "90  0xfb0915e480fb5ee384d759f64d950fda6cfc19ec9c8d...   \n",
       "91  0x0afcb519e9ec543262ec84567499c5bb2ee14ebabf91...   \n",
       "92  0xd59075cc8db5e82f29a33ee68a1491f9ec13bda85aab...   \n",
       "93  0x3d1863bc872736e7cf23f419fb2bc55e0d33f89cebf4...   \n",
       "94  0x5dee47b527daa4d77d9f24a5d1cd3c18e4bbeff3ce8c...   \n",
       "\n",
       "                           outDestinationVault  \\\n",
       "0   0xf9779aEF9f77e78C857CB4A068c65CcBee25BAAc   \n",
       "1   0xf9779aEF9f77e78C857CB4A068c65CcBee25BAAc   \n",
       "2   0x6dC3ce9C57b20131347FDc9089D740DAf6eB34c5   \n",
       "3   0x6dC3ce9C57b20131347FDc9089D740DAf6eB34c5   \n",
       "4   0x6dC3ce9C57b20131347FDc9089D740DAf6eB34c5   \n",
       "..                                         ...   \n",
       "90  0x6dC3ce9C57b20131347FDc9089D740DAf6eB34c5   \n",
       "91  0x6dC3ce9C57b20131347FDc9089D740DAf6eB34c5   \n",
       "92  0x6dC3ce9C57b20131347FDc9089D740DAf6eB34c5   \n",
       "93  0xf9779aEF9f77e78C857CB4A068c65CcBee25BAAc   \n",
       "94  0x6dC3ce9C57b20131347FDc9089D740DAf6eB34c5   \n",
       "\n",
       "                            inDestinationVault amount_withdrawn  \\\n",
       "0   0x6dC3ce9C57b20131347FDc9089D740DAf6eB34c5         19.34281   \n",
       "1   0x6dC3ce9C57b20131347FDc9089D740DAf6eB34c5        16.842117   \n",
       "2   0x2F7e096a400ded5D02762120b39A3aA4ABA072a4       121.714203   \n",
       "3   0x6DcB6797b1C0442587c2ad79745ef7BB487Fc2E2       135.862072   \n",
       "4   0x4E12227b350E8f8fEEc41A58D36cE2fB2e2d4575       190.555717   \n",
       "..                                         ...              ...   \n",
       "90  0x60339056EC88996e41757E05a798310E46972cca        11.626505   \n",
       "91  0x60339056EC88996e41757E05a798310E46972cca         6.688835   \n",
       "92  0xc4Eb861e7b66f593482a3D7E8adc314f6eEDA30B        20.563947   \n",
       "93  0xc4Eb861e7b66f593482a3D7E8adc314f6eEDA30B        49.114753   \n",
       "94  0xc4Eb861e7b66f593482a3D7E8adc314f6eEDA30B         2.034014   \n",
       "\n",
       "   amount_deposited weth_to_autopool weth_from_autopool  \\\n",
       "0         19.643421        19.643421                NaN   \n",
       "1         17.133886        17.133886                NaN   \n",
       "2        119.628263              NaN         121.714203   \n",
       "3        132.817114              NaN         135.862072   \n",
       "4        187.842854              NaN         190.555717   \n",
       "..              ...              ...                ...   \n",
       "90        11.496709              NaN          11.626505   \n",
       "91         6.550867              NaN           6.688835   \n",
       "92        20.532321              NaN          20.563947   \n",
       "93        49.872073              NaN                NaN   \n",
       "94         2.030614              NaN           2.034014   \n",
       "\n",
       "    0xfB6f99FdF12E37Bfe3c4Cf81067faB10c465fb24  ...  \\\n",
       "0                                     1.010152  ...   \n",
       "1                                     1.010204  ...   \n",
       "2                                     1.010166  ...   \n",
       "3                                     1.010308  ...   \n",
       "4                                     1.010475  ...   \n",
       "..                                         ...  ...   \n",
       "90                                    1.014914  ...   \n",
       "91                                    1.015169  ...   \n",
       "92                                    1.015192  ...   \n",
       "93                                    1.015192  ...   \n",
       "94                                    1.015028  ...   \n",
       "\n",
       "    0x25cb41919d6B88e0D48108A4F5fe8FBb3744aFE1  \\\n",
       "0                                     1.030536   \n",
       "1                                     1.030628   \n",
       "2                                     1.030192   \n",
       "3                                     1.030585   \n",
       "4                                     1.030743   \n",
       "..                                         ...   \n",
       "90                                    1.034837   \n",
       "91                                    1.035196   \n",
       "92                                    1.035224   \n",
       "93                                    1.035252   \n",
       "94                                    1.035275   \n",
       "\n",
       "    0x3B2C87Ed95483059b950155a68E906d543193d5C  \\\n",
       "0                                     1.018619   \n",
       "1                                     1.018610   \n",
       "2                                     1.019030   \n",
       "3                                     1.019406   \n",
       "4                                     1.019393   \n",
       "..                                         ...   \n",
       "90                                    1.022256   \n",
       "91                                    1.022182   \n",
       "92                                    1.022509   \n",
       "93                                    1.022509   \n",
       "94                                    1.022307   \n",
       "\n",
       "    0xA1b9297525388BA3985413D982863f31e2A29d05  out_price  out_amount  \\\n",
       "0                                          NaN        NaN   19.342810   \n",
       "1                                          NaN        NaN   16.842117   \n",
       "2                                          NaN   1.000000  121.714203   \n",
       "3                                          NaN   1.000000  135.862072   \n",
       "4                                          NaN   1.000000  190.555717   \n",
       "..                                         ...        ...         ...   \n",
       "90                                    1.025588   1.000000   11.626505   \n",
       "91                                    1.026131   1.000000    6.688835   \n",
       "92                                    1.026093   1.000000   20.563947   \n",
       "93                                    1.026093   1.018024   49.114753   \n",
       "94                                    1.026186   1.000000    2.034014   \n",
       "\n",
       "    in_price   in_amount  spot_value_out  spot_value_in  swap_cost  \n",
       "0   1.000000   19.643421             NaN      19.643421        NaN  \n",
       "1   1.000000   17.133886             NaN      17.133886        NaN  \n",
       "2   1.016085  119.628263      121.714203     121.552442   0.161760  \n",
       "3   1.022412  132.817114      135.862072     135.793814   0.068258  \n",
       "4   1.013876  187.842854      190.555717     190.449422   0.106295  \n",
       "..       ...         ...             ...            ...        ...  \n",
       "90  1.020342   11.496709       11.626505      11.730577  -0.104071  \n",
       "91  1.020164    6.550867        6.688835       6.682956   0.005879  \n",
       "92  1.001654   20.532321       20.563947      20.566277  -0.002330  \n",
       "93  1.001646   49.872073       50.000000      49.954157   0.045843  \n",
       "94  1.001666    2.030614        2.034014       2.033997   0.000018  \n",
       "\n",
       "[95 rows x 53 columns]"
      ]
     },
     "execution_count": 26,
     "metadata": {},
     "output_type": "execute_result"
    }
   ],
   "source": [
    "df"
   ]
  },
  {
   "cell_type": "code",
   "execution_count": null,
   "metadata": {},
   "outputs": [
    {
     "data": {
      "text/html": [
       "<div>\n",
       "<style scoped>\n",
       "    .dataframe tbody tr th:only-of-type {\n",
       "        vertical-align: middle;\n",
       "    }\n",
       "\n",
       "    .dataframe tbody tr th {\n",
       "        vertical-align: top;\n",
       "    }\n",
       "\n",
       "    .dataframe thead th {\n",
       "        text-align: right;\n",
       "    }\n",
       "</style>\n",
       "<table border=\"1\" class=\"dataframe\">\n",
       "  <thead>\n",
       "    <tr style=\"text-align: right;\">\n",
       "      <th></th>\n",
       "      <th>0xf9779aEF9f77e78C857CB4A068c65CcBee25BAAc</th>\n",
       "      <th>0x6dC3ce9C57b20131347FDc9089D740DAf6eB34c5</th>\n",
       "    </tr>\n",
       "    <tr>\n",
       "      <th>timestamp</th>\n",
       "      <th></th>\n",
       "      <th></th>\n",
       "    </tr>\n",
       "  </thead>\n",
       "  <tbody>\n",
       "    <tr>\n",
       "      <th>2024-10-29 02:31:11+00:00</th>\n",
       "      <td>1.016268</td>\n",
       "      <td>1.0</td>\n",
       "    </tr>\n",
       "  </tbody>\n",
       "</table>\n",
       "</div>"
      ],
      "text/plain": [
       "                           0xf9779aEF9f77e78C857CB4A068c65CcBee25BAAc  \\\n",
       "timestamp                                                               \n",
       "2024-10-29 02:31:11+00:00                                    1.016268   \n",
       "\n",
       "                           0x6dC3ce9C57b20131347FDc9089D740DAf6eB34c5  \n",
       "timestamp                                                              \n",
       "2024-10-29 02:31:11+00:00                                         1.0  "
      ]
     },
     "execution_count": 25,
     "metadata": {},
     "output_type": "execute_result"
    }
   ],
   "source": [
    "prices_after_rebalance[prices_after_rebalance[\"block\"] == 21068324 - 2][\n",
    "    [\"0xf9779aEF9f77e78C857CB4A068c65CcBee25BAAc\", \"0x6dC3ce9C57b20131347FDc9089D740DAf6eB34c5\"]\n",
    "]"
   ]
  },
  {
   "cell_type": "code",
   "execution_count": null,
   "metadata": {},
   "outputs": [
    {
     "ename": "NameError",
     "evalue": "name 'AUTO_LRT_rebalance_df' is not defined",
     "output_type": "error",
     "traceback": [
      "\u001b[0;31m---------------------------------------------------------------------------\u001b[0m",
      "\u001b[0;31mNameError\u001b[0m                                 Traceback (most recent call last)",
      "Cell \u001b[0;32mIn[6], line 1\u001b[0m\n\u001b[0;32m----> 1\u001b[0m \u001b[43mAUTO_LRT_rebalance_df\u001b[49m[\u001b[38;5;124m\"\u001b[39m\u001b[38;5;124mswap_cost\u001b[39m\u001b[38;5;124m\"\u001b[39m]\u001b[38;5;241m.\u001b[39misna()\u001b[38;5;241m.\u001b[39mvalue_counts()\n",
      "\u001b[0;31mNameError\u001b[0m: name 'AUTO_LRT_rebalance_df' is not defined"
     ]
    }
   ],
   "source": [
    "AUTO_LRT_rebalance_df[\"swap_cost\"].isna().value_counts()"
   ]
  },
  {
   "cell_type": "code",
   "execution_count": null,
   "metadata": {},
   "outputs": [
    {
     "data": {
      "text/plain": [
       "swap_cost\n",
       "False    107\n",
       "True       2\n",
       "Name: count, dtype: int64"
      ]
     },
     "execution_count": 22,
     "metadata": {},
     "output_type": "execute_result"
    }
   ],
   "source": [
    "AUTO_ETH_rebalance_df[\"swap_cost\"].isna().value_counts()"
   ]
  },
  {
   "cell_type": "code",
   "execution_count": null,
   "metadata": {},
   "outputs": [],
   "source": [
    "# def _compute_value_out_of_autopool(row:dict):\n",
    "#     out_price =  row[row['outDestinationVault']]\n",
    "#     out_amount = row['amount_deposited']\n",
    "#     in_price =  row[row['inDestinationVault']]\n",
    "#     in_amount = row['amount_withdrawn']\n",
    "\n",
    "#     return {\n",
    "#         'out_price':out_price,\n",
    "#         'out_amount':out_amount,\n",
    "#         'in_price':in_price,\n",
    "#         'in_amount':in_amount,\n",
    "#     }\n",
    "\n",
    "\n",
    "# rebalance_df['spot_value_out'] = rebalance_df.apply(_compute_value_out_of_autopool,axis=1)\n",
    "# rebalance_df['spot_value_in'] = rebalance_df.apply(_compute_value_into_autopool,axis=1)\n",
    "\n",
    "# rebalance_df['swap_cost'] = rebalance_df['spot_value_out'] - rebalance_df['spot_value_in']\n",
    "# rebalance_df[['event', 'block', 'hash', 'outDestinationVault', 'inDestinationVault',\n",
    "#        'amount_withdrawn', 'amount_deposited', 'weth_to_autopool',\n",
    "#        'weth_from_autopool','spot_value_out',\n",
    "#        'spot_value_in', 'swap_cost']].to_csv('a.csv')"
   ]
  },
  {
   "cell_type": "code",
   "execution_count": null,
   "metadata": {},
   "outputs": [
    {
     "name": "stderr",
     "output_type": "stream",
     "text": [
      "/tmp/ipykernel_21867/2339333071.py:1: FutureWarning:\n",
      "\n",
      "Downcasting object dtype arrays on .fillna, .ffill, .bfill is deprecated and will change in a future version. Call result.infer_objects(copy=False) instead. To opt-in to the future behavior, set `pd.set_option('future.no_silent_downcasting', True)`\n",
      "\n"
     ]
    }
   ],
   "source": [
    "rebalance_df[\"amount_deposited\"] = rebalance_df[\"amount_deposited\"].fillna(rebalance_df[\"weth_to_autopool\"])"
   ]
  },
  {
   "cell_type": "code",
   "execution_count": null,
   "metadata": {},
   "outputs": [
    {
     "data": {
      "text/plain": [
       "Index(['event', 'block', 'hash', 'outDestinationVault', 'inDestinationVault',\n",
       "       'amount_withdrawn', 'amount_deposited', 'weth_to_autopool',\n",
       "       'weth_from_autopool', '0xE800e3760FC20aA98c5df6A9816147f190455AF3',\n",
       "       '0x5c6aeb9ef0d5BbA4E6691f381003503FD0D45126',\n",
       "       '0x2F7e096a400ded5D02762120b39A3aA4ABA072a4',\n",
       "       '0x60339056EC88996e41757E05a798310E46972cca',\n",
       "       '0xC4c973eDC82CB6b972C555672B4e63713C177995',\n",
       "       '0x676B34c2C2294eF070c1e9E0FCD4091Dd06393FE',\n",
       "       '0x777FAf85c8E5FC6f4332E56B989C5C94201A273C',\n",
       "       '0xC9b5D82652a1C8214b0971A004983d0EEeDD751C',\n",
       "       '0x40219bBda953ca811d2D0168Dc806a96b84791d9',\n",
       "       '0x4E12227b350E8f8fEEc41A58D36cE2fB2e2d4575',\n",
       "       '0x90300b02b162F902B9629963830BcCCdeEd71113',\n",
       "       '0x2f2CC1bf461413014741dD68481dB4a3686DAC3D',\n",
       "       '0x3B2C87Ed95483059b950155a68E906d543193d5C',\n",
       "       '0x148Ca723BefeA7b021C399413b8b7426A4701500',\n",
       "       '0x17216C32B9134343258B05807405db02BE030acd',\n",
       "       '0xB6d68122428Dc1141467cB96791618615Ab9F746',\n",
       "       '0xf9779aEF9f77e78C857CB4A068c65CcBee25BAAc',\n",
       "       '0x1416BfE53520a71553230c3FdeeEce30d5470bA7',\n",
       "       '0x689dc7B5CE8e23061a8223E97701E9345764B8B7', 'out_price', 'out_amount',\n",
       "       'in_price', 'in_amount', 'spot_value_out', 'spot_value_in',\n",
       "       'swap_cost'],\n",
       "      dtype='object')"
      ]
     },
     "execution_count": 14,
     "metadata": {},
     "output_type": "execute_result"
    }
   ],
   "source": [
    "rebalance_df.columns"
   ]
  },
  {
   "cell_type": "code",
   "execution_count": null,
   "metadata": {},
   "outputs": [
    {
     "ename": "NameError",
     "evalue": "name 'deposit_hash_to_amount' is not defined",
     "output_type": "error",
     "traceback": [
      "\u001b[0;31m---------------------------------------------------------------------------\u001b[0m",
      "\u001b[0;31mNameError\u001b[0m                                 Traceback (most recent call last)",
      "Cell \u001b[0;32mIn[15], line 1\u001b[0m\n\u001b[0;32m----> 1\u001b[0m rebalance_df[\u001b[38;5;124m\"\u001b[39m\u001b[38;5;124mhash\u001b[39m\u001b[38;5;124m\"\u001b[39m]\u001b[38;5;241m.\u001b[39misin(\u001b[43mdeposit_hash_to_amount\u001b[49m)\u001b[38;5;241m.\u001b[39mvalue_counts()\n",
      "\u001b[0;31mNameError\u001b[0m: name 'deposit_hash_to_amount' is not defined"
     ]
    }
   ],
   "source": [
    "rebalance_df[\"hash\"].isin(deposit_hash_to_amount).value_counts()"
   ]
  },
  {
   "cell_type": "code",
   "execution_count": null,
   "metadata": {},
   "outputs": [],
   "source": []
  },
  {
   "cell_type": "code",
   "execution_count": null,
   "metadata": {},
   "outputs": [],
   "source": []
  },
  {
   "cell_type": "code",
   "execution_count": null,
   "metadata": {},
   "outputs": [],
   "source": [
    "rebalance_df[\"InAmount\"]"
   ]
  },
  {
   "cell_type": "code",
   "execution_count": null,
   "metadata": {},
   "outputs": [],
   "source": []
  },
  {
   "cell_type": "code",
   "execution_count": null,
   "metadata": {},
   "outputs": [],
   "source": [
    "break"
   ]
  },
  {
   "cell_type": "code",
   "execution_count": null,
   "metadata": {},
   "outputs": [],
   "source": [
    "# from mainnet_launch.autopool_diagnostics.compute_rebalance_cost import (\n",
    "#     eth_client,\n",
    "#     AutopoolConstants,\n",
    "#     fetch_spot_value_of_rebalances_from_dest_to_idle,\n",
    "#     AUTO_LRT,\n",
    "\n",
    "# )\n",
    "\n",
    "# # #\n",
    "# # UnderlyingWithdraw_df, validated_spot_price_df, rebalance_to_idle_df = fetch_spot_value_of_rebalances_from_dest_to_idle(\n",
    "# #     AUTO_LRT\n",
    "# # )\n",
    "\n",
    "# from mainnet_launch.abis.abis import (\n",
    "#     AUTOPOOL_ETH_STRATEGY_ABI,\n",
    "#     BALANCER_AURA_DESTINATION_VAULT_ABI,\n",
    "#     AUTOPOOL_VAULT_ABI,\n",
    "#     ERC_20_ABI,\n",
    "# )\n",
    "# import pandas as pd\n",
    "# from mainnet_launch.data_fetching.get_events import fetch_events\n",
    "\n",
    "\n",
    "# def fetch_weth_transfers_to_or_from_autopool_vault(\n",
    "#     autopool: AutopoolConstants\n",
    "# ) -> pd.DataFrame:\n",
    "#     start_block = 20722908\n",
    "\n",
    "#     WETH = \"0xC02aaA39b223FE8D0A0e5C4F27eAD9083C756Cc2\"\n",
    "#     weth_contract = eth_client.eth.contract(WETH, abi=ERC_20_ABI)\n",
    "\n",
    "#     weth_to_autopool = fetch_events(\n",
    "#         weth_contract.events.Transfer,\n",
    "#         start_block=start_block,\n",
    "#         argument_filters={\"to\": autopool.autopool_eth_addr},\n",
    "#     )\n",
    "\n",
    "#     weth_from_autopool = fetch_events(\n",
    "#         weth_contract.events.Transfer,\n",
    "#         start_block=start_block,\n",
    "#         argument_filters={\"from\": autopool.autopool_eth_addr},\n",
    "#     )\n",
    "\n",
    "#     return weth_to_autopool, weth_from_autopool\n",
    "\n",
    "\n",
    "# weth_to_autopool, weth_from_autopool = fetch_weth_transfers_to_or_from_autopool_vault(AUTO_LRT)"
   ]
  },
  {
   "cell_type": "code",
   "execution_count": null,
   "metadata": {},
   "outputs": [],
   "source": [
    "weth_transfer_df[\"WETH_sent_to_autopool\"] = weth_transfer_df[\"value\"].apply(lambda x: int(x) / 1e18)\n",
    "UnderlyingWithdraw_df[\"lpTokens_withdrawn\"] = UnderlyingWithdraw_df[\"amount\"].apply(lambda x: int(x) / 1e18)"
   ]
  },
  {
   "cell_type": "code",
   "execution_count": null,
   "metadata": {},
   "outputs": [],
   "source": [
    "df = pd.merge(rebalance_to_idle_df, weth_transfer_df[[\"hash\", \"WETH_sent_to_autopool\"]], on=\"hash\", how=\"left\")\n",
    "df = pd.merge(df, UnderlyingWithdraw_df[[\"hash\", \"lpTokens_withdrawn\"]], on=\"hash\", how=\"left\")\n",
    "df"
   ]
  },
  {
   "cell_type": "code",
   "execution_count": null,
   "metadata": {},
   "outputs": [],
   "source": [
    "df[\"outDestinationVault\"] = df[\"outSummary\"].apply(lambda x: eth_client.toChecksumAddress(x[0]))\n",
    "\n",
    "df[\"tokenIn\"] = df[\"params\"].apply(lambda x: eth_client.toChecksumAddress(x[1]))\n",
    "\n",
    "df[\"tokenOut\"] = df[\"params\"].apply(lambda x: eth_client.toChecksumAddress(x[4]))\n",
    "\n",
    "df[\"amountOut\"] = df[\"params\"].apply(\n",
    "    lambda x: x[5]\n",
    "    / 1e18  # the amout of lp tokens taken out is always correct, what we don't know is the amount of lp tokens going in\n",
    ")\n",
    "\n",
    "df"
   ]
  },
  {
   "cell_type": "code",
   "execution_count": null,
   "metadata": {},
   "outputs": [],
   "source": []
  },
  {
   "cell_type": "code",
   "execution_count": null,
   "metadata": {},
   "outputs": [],
   "source": []
  },
  {
   "cell_type": "code",
   "execution_count": null,
   "metadata": {},
   "outputs": [],
   "source": [
    "AUTO_LRT"
   ]
  },
  {
   "cell_type": "code",
   "execution_count": null,
   "metadata": {},
   "outputs": [],
   "source": [
    "from mainnet_launch.abis.abis import AUTOPOOL_ETH_STRATEGY_ABI, BALANCER_AURA_DESTINATION_VAULT_ABI, AUTOPOOL_VAULT_ABI\n",
    "\n",
    "vault_contract = eth_client.eth.contract(AUTO_LRT.autopool_eth_addr, abi=AUTOPOOL_VAULT_ABI)"
   ]
  },
  {
   "cell_type": "code",
   "execution_count": null,
   "metadata": {},
   "outputs": [],
   "source": [
    "# from mainnet_launch.autopool_diagnostics.compute_rebalance_cost import (\n",
    "#     eth_client,\n",
    "#     AutopoolConstants,\n",
    "#     fetch_spot_value_swap_cost_df,\n",
    "# )\n",
    "# import pandas as pd\n",
    "# import plotly.express as px\n",
    "\n",
    "# import plotly.io as pio\n",
    "# from mainnet_launch.destinations import get_destination_details, ALL_AUTOPOOLS, f\n",
    "\n",
    "# pio.templates.default = None\n",
    "# autopool = ALL_AUTOPOOLS[2]\n",
    "\n",
    "# amounts_with_spot_values = fetch_spot_value_swap_cost_df(autopool)\n",
    "# amounts_with_spot_values"
   ]
  },
  {
   "cell_type": "code",
   "execution_count": null,
   "metadata": {},
   "outputs": [],
   "source": [
    "px.line(\n",
    "    amounts_with_spot_values[amounts_with_spot_values[\"outDestinationVault\"] == autopool.autopool_eth_addr][\n",
    "        \"spot_value_swap_cost\"\n",
    "    ].cumsum()\n",
    ")"
   ]
  },
  {
   "cell_type": "code",
   "execution_count": null,
   "metadata": {},
   "outputs": [],
   "source": [
    "px.line(\n",
    "    amounts_with_spot_values[amounts_with_spot_values[\"outDestinationVault\"] != autopool.autopool_eth_addr][\n",
    "        \"spot_value_swap_cost\"\n",
    "    ].cumsum()\n",
    ")"
   ]
  },
  {
   "cell_type": "code",
   "execution_count": null,
   "metadata": {},
   "outputs": [],
   "source": [
    "px.line(amounts_with_spot_values[[\"swapCost\", \"spot_value_swap_cost\"]].cumsum())"
   ]
  },
  {
   "cell_type": "code",
   "execution_count": null,
   "metadata": {},
   "outputs": [],
   "source": []
  },
  {
   "cell_type": "code",
   "execution_count": null,
   "metadata": {},
   "outputs": [],
   "source": []
  },
  {
   "cell_type": "code",
   "execution_count": null,
   "metadata": {},
   "outputs": [],
   "source": []
  },
  {
   "cell_type": "code",
   "execution_count": null,
   "metadata": {},
   "outputs": [],
   "source": [
    "break"
   ]
  },
  {
   "cell_type": "code",
   "execution_count": null,
   "metadata": {},
   "outputs": [],
   "source": [
    "amounts_with_spot_values.columns"
   ]
  },
  {
   "cell_type": "code",
   "execution_count": null,
   "metadata": {},
   "outputs": [],
   "source": [
    "rebalances_we_can_compute_swap_costs_for = rebalance_between_destinations_df[\n",
    "    rebalance_between_destinations_df[\"hash\"].isin(valid_underlying_deposited_df[\"hash\"])\n",
    "].copy()\n",
    "\n",
    "rebalances_we_can_compute_swap_costs_for[[\"outDestinationVault\", \"hash\", \"amountOut\"]]"
   ]
  },
  {
   "cell_type": "code",
   "execution_count": null,
   "metadata": {},
   "outputs": [],
   "source": [
    "114 -"
   ]
  },
  {
   "cell_type": "code",
   "execution_count": null,
   "metadata": {},
   "outputs": [],
   "source": [
    "valid_underlying_deposited_df"
   ]
  },
  {
   "cell_type": "code",
   "execution_count": null,
   "metadata": {},
   "outputs": [],
   "source": [
    "valid_underlying_deposited_df[\"amount\"]"
   ]
  },
  {
   "cell_type": "code",
   "execution_count": null,
   "metadata": {},
   "outputs": [],
   "source": [
    "valid_underlying_deposited_df[\"contract_address\"].value_counts()"
   ]
  },
  {
   "cell_type": "code",
   "execution_count": null,
   "metadata": {},
   "outputs": [],
   "source": [
    "hashes_to_exclude = (\n",
    "    UnderlyingDeposited_df[\"hash\"].value_counts()[UnderlyingDeposited_df[\"hash\"].value_counts() > 1].index\n",
    ")\n",
    "# sunseting destiantions throws the math off and has 0 slippage anyway\n",
    "hashes_to_exclude"
   ]
  },
  {
   "cell_type": "code",
   "execution_count": null,
   "metadata": {},
   "outputs": [],
   "source": [
    "# 0x084dfee5800acd5bda5e48485e68e87c015fca770376eeef36405654a184e005    2\n",
    "# 0xbe9e2919f268121cc55f8466e7af702b6c0dd312134ee746e4600878e79efe9b    2\n",
    "# 0xa9b7e57b8202064b6fd48accbcfea54cb08fbb362638aa47681203c5daf7b722    2\n",
    "UnderlyingDeposited_df[\n",
    "    UnderlyingDeposited_df[\"hash\"] == \"0xbe9e2919f268121cc55f8466e7af702b6c0dd312134ee746e4600878e79efe9b\"\n",
    "]"
   ]
  },
  {
   "cell_type": "code",
   "execution_count": null,
   "metadata": {},
   "outputs": [],
   "source": [
    "UnderlyingWithdraw_df[\n",
    "    UnderlyingWithdraw_df[\"hash\"] == \"0xbe9e2919f268121cc55f8466e7af702b6c0dd312134ee746e4600878e79efe9b\"\n",
    "]"
   ]
  },
  {
   "cell_type": "code",
   "execution_count": null,
   "metadata": {},
   "outputs": [],
   "source": [
    "rebalance_between_destinations_df.columns"
   ]
  },
  {
   "cell_type": "code",
   "execution_count": null,
   "metadata": {},
   "outputs": [],
   "source": [
    "cols = [\"hash\", \"amountOut\", \"outDestinationVault\"]\n",
    "# 0xE800e3760FC20aA98c5df6A9816147f190455AF3 == autoLRT vault, all WETH\n",
    "rebalance_between_destinations_df[cols][\"outDestinationVault\"].value_counts()"
   ]
  },
  {
   "cell_type": "code",
   "execution_count": null,
   "metadata": {},
   "outputs": [],
   "source": [
    "UnderlyingDeposited_df[\"hash\"].value_counts()"
   ]
  },
  {
   "cell_type": "code",
   "execution_count": null,
   "metadata": {},
   "outputs": [],
   "source": []
  },
  {
   "cell_type": "code",
   "execution_count": null,
   "metadata": {},
   "outputs": [],
   "source": [
    "# amount"
   ]
  },
  {
   "cell_type": "code",
   "execution_count": null,
   "metadata": {},
   "outputs": [],
   "source": [
    "rebalance_between_destinations_df[\"hash\"].value_counts()"
   ]
  },
  {
   "cell_type": "code",
   "execution_count": null,
   "metadata": {},
   "outputs": [],
   "source": [
    "RebalanceBetweenDestinations, RebalanceToIdle, SuccessfulRebalanceBetweenDestinations = dfs\n",
    "RebalanceBetweenDestinations.shape, RebalanceToIdle.shape, SuccessfulRebalanceBetweenDestinations.shape"
   ]
  },
  {
   "cell_type": "code",
   "execution_count": null,
   "metadata": {},
   "outputs": [],
   "source": [
    "RebalanceToIdle[\"tokenIn\"] = RebalanceToIdle[\"params\"].apply(lambda x: eth_client.toChecksumAddress(x[1]))\n",
    "\n",
    "RebalanceToIdle[\"tokenOut\"] = RebalanceToIdle[\"params\"].apply(lambda x: eth_client.toChecksumAddress(x[4]))\n",
    "\n",
    "RebalanceToIdle[\"amountOut\"] = RebalanceToIdle[\"params\"].apply(\n",
    "    lambda x: x[5]\n",
    "    / 1e18  # the amout of lp tokens taken out is always correct, what we don't know is the amount of lp tokens going in\n",
    ")\n",
    "RebalanceToIdle"
   ]
  },
  {
   "cell_type": "code",
   "execution_count": null,
   "metadata": {},
   "outputs": [],
   "source": [
    "RebalanceToIdle[\"hash\"].values"
   ]
  },
  {
   "cell_type": "code",
   "execution_count": null,
   "metadata": {},
   "outputs": [],
   "source": [
    "RebalanceToIdle[\"hash\"].isin(RebalanceBetweenDestinations[\"hash\"])"
   ]
  },
  {
   "cell_type": "code",
   "execution_count": null,
   "metadata": {},
   "outputs": [],
   "source": [
    "SuccessfulRebalanceBetweenDestinations[\"hash\"].isin(RebalanceBetweenDestinations[\"hash\"])"
   ]
  },
  {
   "cell_type": "code",
   "execution_count": null,
   "metadata": {},
   "outputs": [],
   "source": [
    "0x084dfee5800acd5bda5e48485e68e87c015fca770376eeef36405654a184e005    2\n",
    "0xbe9e2919f268121cc55f8466e7af702b6c0dd312134ee746e4600878e79efe9b    2\n",
    "0xa9b7e57b8202064b6fd48accbcfea54cb08fbb362638aa47681203c5daf7b722    2\n",
    "UnderlyingDeposited_df[UnderlyingDeposited_df['hash'] == '0xbe9e2919f268121cc55f8466e7af702b6c0dd312134ee746e4600878e79efe9b']"
   ]
  },
  {
   "cell_type": "code",
   "execution_count": null,
   "metadata": {},
   "outputs": [],
   "source": []
  },
  {
   "cell_type": "code",
   "execution_count": null,
   "metadata": {},
   "outputs": [],
   "source": [
    "UnderlyingDeposited_df[\n",
    "    UnderlyingDeposited_df[\"hash\"] == \"0xbe9e2919f268121cc55f8466e7af702b6c0dd312134ee746e4600878e79efe9b\"\n",
    "]"
   ]
  },
  {
   "cell_type": "code",
   "execution_count": null,
   "metadata": {},
   "outputs": [],
   "source": [
    "rebalance_between_destinations_df[\n",
    "    rebalance_between_destinations_df[\"hash\"] == \"0xbe9e2919f268121cc55f8466e7af702b6c0dd312134ee746e4600878e79efe9b\"\n",
    "]"
   ]
  },
  {
   "cell_type": "code",
   "execution_count": null,
   "metadata": {},
   "outputs": [],
   "source": [
    "UnderlyingDeposited_df[\"hash\"].value_counts()"
   ]
  },
  {
   "cell_type": "code",
   "execution_count": null,
   "metadata": {},
   "outputs": [],
   "source": [
    "def underlying_deposited_df_to_change(row):\n",
    "    return {\n",
    "        \"Destination\": row[\"contract_address\"],\n",
    "        \"lpTokenQuantity\": row[\"amount\"] / 1e18,\n",
    "        \"hash\": row[\"hash\"],\n",
    "        \"block\": int(row[\"block\"]),\n",
    "    }\n",
    "\n",
    "\n",
    "deposit_df = pd.DataFrame.from_records(UnderlyingDeposited_df.apply(underlying_deposited_df_to_change, axis=1).values)\n",
    "\n",
    "\n",
    "def underlying_withdrawn_df_to_change(row):\n",
    "    return {\n",
    "        \"Destination\": row[\"contract_address\"],\n",
    "        \"lpTokenQuantity\": -row[\"amount\"] / 1e18,\n",
    "        \"hash\": row[\"hash\"],\n",
    "        \"block\": int(row[\"block\"]),\n",
    "    }\n",
    "\n",
    "\n",
    "withdraw_df = pd.DataFrame.from_records(UnderlyingWithdraw_df.apply(underlying_withdrawn_df_to_change, axis=1).values)\n",
    "change_df = pd.concat([deposit_df, withdraw_df]).sort_values(\"block\")\n",
    "change_df"
   ]
  },
  {
   "cell_type": "code",
   "execution_count": null,
   "metadata": {},
   "outputs": [],
   "source": [
    "# AMOUNT_OUT IS THE QUANITY OF LP TOKENS THAT LEFT\n",
    "# WE JUST NEED THE DEPOSTED"
   ]
  },
  {
   "cell_type": "code",
   "execution_count": null,
   "metadata": {},
   "outputs": [],
   "source": [
    "df = pd.merge(change_df, validated_spot_price_df, on=\"block\")\n",
    "\n",
    "\n",
    "def _change_in_spot_value(row):\n",
    "    spot_price = row[row[\"Destination\"]]\n",
    "    change = spot_price * row[\"lpTokenQuantity\"]\n",
    "    return change\n",
    "\n",
    "\n",
    "df[\"spot_value_change\"] = df.apply(_change_in_spot_value, axis=1)\n",
    "\n",
    "a = df.groupby(\"hash\")[\"spot_value_change\"].apply(list)\n",
    "\n",
    "between_destination_hashes = a[a.apply(len) == 2].index\n",
    "from_idle_hashes = a[a.apply(len) == 1].index"
   ]
  },
  {
   "cell_type": "code",
   "execution_count": null,
   "metadata": {},
   "outputs": [],
   "source": [
    "amounts_and_quantities = pd.merge(\n",
    "    withdraw_df[[\"hash\", \"lpTokenQuantity\"]], rebalance_between_destinations_df[[\"amountOut\", \"hash\"]], on=\"hash\"\n",
    ")\n",
    "amounts_and_quantities[amounts_and_quantities[\"hash\"].isin(between_destination_hashes)]"
   ]
  },
  {
   "cell_type": "code",
   "execution_count": null,
   "metadata": {},
   "outputs": [],
   "source": [
    "amounts_and_quantities = pd.merge(\n",
    "    df[[\"hash\", \"lpTokenQuantity\"]], rebalance_between_destinations_df[[\"amountOut\", \"hash\"]], on=\"hash\"\n",
    ")\n",
    "amounts_and_quantities[amounts_and_quantities[\"hash\"].isin(from_idle_hashes)]"
   ]
  },
  {
   "cell_type": "code",
   "execution_count": null,
   "metadata": {},
   "outputs": [],
   "source": [
    "rebalance_between_destinations_df[[\"amountOut\", \"hash\"]]"
   ]
  },
  {
   "cell_type": "code",
   "execution_count": null,
   "metadata": {},
   "outputs": [],
   "source": [
    "rebalance_between_destinations_df[rebalance_between_destinations_df[\"hash\"].isin(between_destination_hashes)][\n",
    "    [\"outDestinationVault\", \"inDestinationVault\"]\n",
    "].value_counts()"
   ]
  },
  {
   "cell_type": "code",
   "execution_count": null,
   "metadata": {},
   "outputs": [],
   "source": [
    "df.groupby(\"hash\")[\"spot_value_change\"].apply(len) == 2"
   ]
  },
  {
   "cell_type": "code",
   "execution_count": null,
   "metadata": {},
   "outputs": [],
   "source": [
    "UnderlyingWithdraw_df"
   ]
  },
  {
   "cell_type": "code",
   "execution_count": null,
   "metadata": {},
   "outputs": [],
   "source": [
    "# UnderlyingDeposited_df[\"amountDeposited\"] = UnderlyingDeposited_df[\"amount\"] / 1e18\n",
    "# UnderlyingWithdraw_df[\"amountWithdraw\"] = UnderlyingWithdraw_df[\"amount\"] / 1e18\n",
    "\n",
    "# df = pd.merge(rebalance_between_destinations_df, UnderlyingDeposited_df[['hash', 'amountDeposited']], how='left', on='hash')\n",
    "# df = pd.merge(df, UnderlyingWithdraw_df[['hash', 'amountWithdraw']], how='left', on='hash')\n",
    "# cols = ['hash', 'amountWithdraw', 'amountDeposited', 'amountOut', 'tokenIn', 'tokenOut']"
   ]
  },
  {
   "cell_type": "code",
   "execution_count": null,
   "metadata": {},
   "outputs": [],
   "source": [
    "# df['hash'].value_counts() # exclude the funny ones, with destinations getting added or withdrawn"
   ]
  },
  {
   "cell_type": "code",
   "execution_count": null,
   "metadata": {},
   "outputs": [],
   "source": [
    "df[df[\"hash\"] == \"0x084dfee5800acd5bda5e48485e68e87c015fca770376eeef36405654a184e005\"][cols]"
   ]
  },
  {
   "cell_type": "code",
   "execution_count": null,
   "metadata": {},
   "outputs": [],
   "source": [
    "UnderlyingDeposited_df[\n",
    "    UnderlyingDeposited_df[\"hash\"] == \"0x084dfee5800acd5bda5e48485e68e87c015fca770376eeef36405654a184e005\"\n",
    "]"
   ]
  },
  {
   "cell_type": "code",
   "execution_count": null,
   "metadata": {},
   "outputs": [],
   "source": [
    "UnderlyingWithdraw_df[\n",
    "    UnderlyingWithdraw_df[\"hash\"] == \"0x084dfee5800acd5bda5e48485e68e87c015fca770376eeef36405654a184e005\"\n",
    "]"
   ]
  },
  {
   "cell_type": "code",
   "execution_count": null,
   "metadata": {},
   "outputs": [],
   "source": []
  },
  {
   "cell_type": "code",
   "execution_count": null,
   "metadata": {},
   "outputs": [],
   "source": [
    "df2 = df.dropna()\n",
    "df2"
   ]
  },
  {
   "cell_type": "code",
   "execution_count": null,
   "metadata": {},
   "outputs": [],
   "source": [
    "WETH = \"0xC02aaA39b223FE8D0A0e5C4F27eAD9083C756Cc2\"\n",
    "#  emit UnderlyingDeposited(amount, msg.sender);"
   ]
  },
  {
   "cell_type": "code",
   "execution_count": null,
   "metadata": {},
   "outputs": [],
   "source": [
    "rebalance_between_destinations_df[[\"tokenIn\", \"tokenOut\", \"amountOut\", \"destinationIn\"]]"
   ]
  },
  {
   "cell_type": "code",
   "execution_count": null,
   "metadata": {},
   "outputs": [],
   "source": [
    "rebalance_between_destinations_df[\"hash\"].values"
   ]
  },
  {
   "cell_type": "code",
   "execution_count": null,
   "metadata": {},
   "outputs": [],
   "source": [
    "first_out = \"0xE800e3760FC20aA98c5df6A9816147f190455AF3\"\n",
    "first_in = \"0x777FAf85c8E5FC6f4332E56B989C5C94201A273C\"\n",
    "balance_of_undelrying_debt_before[[first_in, first_out]]\n",
    "# I can't check the balances before or after"
   ]
  },
  {
   "cell_type": "code",
   "execution_count": null,
   "metadata": {},
   "outputs": [],
   "source": []
  },
  {
   "cell_type": "code",
   "execution_count": null,
   "metadata": {},
   "outputs": [],
   "source": [
    "balance_of_undelrying_debt_before[[first_in, first_out]]"
   ]
  },
  {
   "cell_type": "code",
   "execution_count": null,
   "metadata": {},
   "outputs": [],
   "source": [
    "balance_of_undelrying_debt_after[[first_in, first_out]]"
   ]
  },
  {
   "cell_type": "code",
   "execution_count": null,
   "metadata": {},
   "outputs": [],
   "source": [
    "rebalance_between_destinations_df"
   ]
  },
  {
   "cell_type": "code",
   "execution_count": null,
   "metadata": {},
   "outputs": [],
   "source": [
    "rebalance_between_destinations_df"
   ]
  },
  {
   "cell_type": "code",
   "execution_count": null,
   "metadata": {},
   "outputs": [],
   "source": [
    "validated_spot_price_df"
   ]
  },
  {
   "cell_type": "code",
   "execution_count": null,
   "metadata": {},
   "outputs": [],
   "source": [
    "# from mainnet_launch.autopool_diagnostics.compute_rebalance_cost import (\n",
    "#     compute_daily_rebalance_costs,\n",
    "#     AUTO_LRT, BAL_ETH, AUTO_ETH,\n",
    "#     AutopoolConstants,\n",
    "# )\n",
    "# import pandas as pd\n",
    "# import plotly.express as px\n",
    "\n",
    "\n",
    "# # # return RebalanceValueStats({\n",
    "# # #     inPrice: inPrice,\n",
    "# # #     outPrice: outPrice,\n",
    "# # #     inEthValue: inEthValue,\n",
    "# # #     outEthValue: outEthValue,\n",
    "# # #     swapCost: swapCost,\n",
    "# # #     slippage: slippage\n",
    "# # # });\n",
    "\n",
    "\n",
    "# # /// @param destinationIn The address / lp token of the destination vault that will increase\n",
    "# # /// @param tokenIn The address of the underlyer token that will be provided by the swapper\n",
    "# # /// @param amountIn The amount of the underlying LP tokens that will be received\n",
    "# # /// @param destinationOut The address of the destination vault that will decrease\n",
    "# # /// @param tokenOut The address of the underlyer token that will be received by the swapper\n",
    "# # /// @param amountOut The amount of the tokenOut that will be received by the swapper\n",
    "# # struct RebalanceParams {\n",
    "# #     address destinationIn;\n",
    "# #     address tokenIn;\n",
    "# #     uint256 amountIn;\n",
    "# #     address destinationOut;\n",
    "# #     address tokenOut;\n",
    "# #     uint256 amountOut;\n",
    "# # }\n",
    "# autopool = AUTO_ETH\n",
    "# a, b = compute_daily_rebalance_costs(autopool)"
   ]
  },
  {
   "cell_type": "code",
   "execution_count": null,
   "metadata": {},
   "outputs": [],
   "source": [
    "autopool = AUTO_ETH"
   ]
  },
  {
   "cell_type": "code",
   "execution_count": null,
   "metadata": {},
   "outputs": [],
   "source": [
    "import plotly.io as pio\n",
    "from mainnet_launch.destinations import get_destination_details, ALL_AUTOPOOLS\n",
    "\n",
    "pio.templates.default = None\n",
    "rebalance_from_idle, transfer_events_df, validated_spot_price_df = b\n",
    "rebalance_between_destinations, transfer_events_df, validated_spot_price_df = a"
   ]
  },
  {
   "cell_type": "code",
   "execution_count": null,
   "metadata": {},
   "outputs": [],
   "source": []
  },
  {
   "cell_type": "code",
   "execution_count": null,
   "metadata": {},
   "outputs": [],
   "source": [
    "desination_vault_addresses = [d.vaultAddress for d in get_destination_details() if d.autopool == autopool]\n",
    "desination_vault_addresses"
   ]
  },
  {
   "cell_type": "code",
   "execution_count": null,
   "metadata": {},
   "outputs": [],
   "source": [
    "def _get_limited_transfers(\n",
    "    autopool: AutopoolConstants, transfer_events_df: pd.DataFrame, rebalance_df: pd.DataFrame\n",
    ") -> pd.DataFrame:\n",
    "    desination_vault_addresses = [d.vaultAddress for d in get_destination_details() if d.autopool == autopool]\n",
    "    sender_or_receiver_is_destination_vault = (transfer_events_df[\"to\"].isin(desination_vault_addresses)) | (\n",
    "        transfer_events_df[\"from\"].isin(desination_vault_addresses)\n",
    "    )\n",
    "    destination_lp_token_addresses = [d.vaultAddress for d in get_destination_details() if d.autopool == autopool]\n",
    "    sent_token_is_lp_token_avaiable_to_autopool = transfer_events_df[\"token_address\"].isin(\n",
    "        destination_lp_token_addresses\n",
    "    )\n",
    "\n",
    "    tx_hash_in_rebalance_df_hash = transfer_events_df[\"hash\"].isin(rebalance_df[\"hash\"])\n",
    "\n",
    "    limited_transfers = (\n",
    "        transfer_events_df[\n",
    "            sender_or_receiver_is_destination_vault\n",
    "            & sent_token_is_lp_token_avaiable_to_autopool\n",
    "            & tx_hash_in_rebalance_df_hash\n",
    "        ]\n",
    "        .copy()\n",
    "        .reset_index()\n",
    "    )\n",
    "\n",
    "    return limited_transfers\n",
    "\n",
    "\n",
    "limited_transfers = _get_limited_transfers(autopool, transfer_events_df, rebalance_between_destinations)\n",
    "limited_transfers[\"hash\"].value_counts()"
   ]
  },
  {
   "cell_type": "code",
   "execution_count": null,
   "metadata": {},
   "outputs": [],
   "source": [
    "# def compute_swap_cost_when_rebalance_from_idle(\n",
    "#     rebalance_from_idle_df: pd.DataFrame, autopool: AutopoolConstants, transfer_events_df: pd.DataFrame, validated_spot_price_df:pd.DataFrame\n",
    "# ) -> pd.DataFrame:\n",
    "#     # out means decrease\n",
    "#     # in means increase\n",
    "#     if (rebalance_from_idle_df[\"outDestinationVault\"] != autopool.autopool_eth_addr).any():\n",
    "#         raise ValueError(\n",
    "#             \"trying to compute rebalance cost on rebalance_from_idle_df when the outDestinationVault != autopool \"\n",
    "#         )\n",
    "\n",
    "\n",
    "#     #\n",
    "\n",
    "#     transfers_to_vaults = (\n",
    "#         transfers_to_or_from_autopool_destinations[\n",
    "#             (transfer_events_df[\"hash\"].isin(rebalance_from_idle_df[\"hash\"]))\n",
    "#             & (transfer_events_df[\"to\"].isin(rebalance_from_idle_df[\"inDestinationVault\"]))\n",
    "#         ]\n",
    "\n",
    "#         .drop_duplicates()\n",
    "#         .copy()\n",
    "#     )\n",
    "\n",
    "#     rebalance_from_idle_with_lp_tokens_in = pd.merge(\n",
    "#         rebalance_from_idle_df, transfers_to_vaults[[\"value\", \"hash\"]], on=\"hash\"\n",
    "#     )\n",
    "\n",
    "#     rebalance_from_idle_with_lp_tokens_in[\"lp_tokens_added_to_vault\"] = (\n",
    "#         rebalance_from_idle_with_lp_tokens_in[\"value\"]/ 1e18\n",
    "#     )\n",
    "\n",
    "#     validated_spot_price_df[\"block_with_rebalance\"] = ( validated_spot_price_df[\"block\"] + 1)\n",
    "\n",
    "#     rebalance_from_idle_df = pd.merge(\n",
    "#         validated_spot_price_df,\n",
    "#         rebalance_from_idle_with_lp_tokens_in,\n",
    "#         right_on=\"block\",\n",
    "#         left_on=\"block_with_rebalance\",\n",
    "#     )\n",
    "\n",
    "#     def _compute_spot_value_added_to_vault(row:dict) -> float:\n",
    "#         return row['lp_tokens_added_to_vault'] * row[row['inDestinationVault']] # the pool itsel\n",
    "\n",
    "#     rebalance_from_idle_df['validated_spot_value_of_lp_tokens_added_to_autopool'] = rebalance_from_idle_df.apply(_compute_spot_value_added_to_vault, axis=1)\n",
    "#     # because we are exiting idle, the value out is in WETH so the spot value is always 1\n",
    "#     rebalance_from_idle_df['validated_spot_value_of_lp_tokens_removed_from_autopool'] = rebalance_from_idle_df[\"params_amountOut\"]\n",
    "#     rebalance_from_idle_df['validated_spot_value_of_swap_cost'] = rebalance_from_idle_df['validated_spot_value_of_lp_tokens_removed_from_autopool'] -  rebalance_from_idle_df['validated_spot_value_of_lp_tokens_added_to_autopool']\n",
    "\n",
    "#     rebalance_from_idle_df['validated_spot_value_of_swap_cost'] = rebalance_from_idle_df['validated_spot_value_of_swap_cost'].clip(lower=0)\n",
    "\n",
    "#     rebalance_from_idle_df['swap_cost_from_event'] = rebalance_from_idle_df['valueStats'].apply(lambda x: float(x[4]) /1e18)\n",
    "\n",
    "#     # not sure what do to with the swap cost\n",
    "#     rebalance_from_idle_df.index = validated_spot_price_df.index\n",
    "#     cumulative_daily_validated_swap_cost =  rebalance_from_idle_df[['validated_spot_value_of_swap_cost']].resample(\"1D\").sum().cumsum()\n",
    "#     return cumulative_daily_validated_swap_cost\n",
    "\n",
    "# rebalance_events_df, transfer_events_df, validated_spot_price_df = b\n",
    "# cumulative_daily_validated_swap_cost = compute_swap_cost_when_rebalance_from_idle(\n",
    "#     rebalance_events_df.copy(), AUTO_ETH, transfer_events_df, validated_spot_price_df\n",
    "# )\n",
    "\n",
    "# cumulative_daily_validated_swap_cost"
   ]
  },
  {
   "cell_type": "code",
   "execution_count": null,
   "metadata": {},
   "outputs": [],
   "source": []
  },
  {
   "cell_type": "code",
   "execution_count": null,
   "metadata": {},
   "outputs": [],
   "source": []
  },
  {
   "cell_type": "code",
   "execution_count": null,
   "metadata": {},
   "outputs": [],
   "source": [
    "# rebalance_between_destinations_df, transfer_events_df, validated_spot_price_df = a\n",
    "\n",
    "# def _extract_relevent_transfers(autopool: AutopoolConstants, transfer_events_df: pd.DataFrame, rebalance_between_destinations_df:pd.DataFrame):\n",
    "\n",
    "#     valid_destinations = [d.vaultAddress for d in get_destination_details() if d.autopool == autopool]\n",
    "#     valid_transfer_events = transfer_events_df[(transfer_events_df['to'].str.lower().isin(valid_destinations)) | (transfer_events_df['from'].str.lower().isin(valid_destinations))]\n",
    "\n",
    "#     to_indest = (\n",
    "#         transfer_events_df[\n",
    "#             (transfer_events_df[\"hash\"].isin(rebalance_between_destinations_df[\"hash\"]))\n",
    "#             & (transfer_events_df[\"to\"].isin(valid_destinations))\n",
    "#         ]\n",
    "#         .drop_duplicates()\n",
    "#         .copy()\n",
    "#     )\n",
    "\n",
    "#     to_outdest = (\n",
    "#         transfer_events_df[\n",
    "#             (transfer_events_df[\"hash\"].isin(rebalance_between_destinations_df[\"hash\"]))\n",
    "#             & (transfer_events_df[\"to\"].isin(valid_destinations))\n",
    "#         ]\n",
    "\n",
    "#         .drop_duplicates()\n",
    "#         .copy()\n",
    "#     )\n",
    "\n",
    "\n",
    "#     from_indest = (\n",
    "#         transfer_events_df[\n",
    "#             (transfer_events_df[\"hash\"].isin(rebalance_between_destinations_df[\"hash\"]))\n",
    "#             & (transfer_events_df[\"from\"].isin(valid_destinations))\n",
    "#         ]\n",
    "#         .drop_duplicates()\n",
    "#         .copy()\n",
    "#     )\n",
    "\n",
    "#     from_outdest = (\n",
    "#         transfer_events_df[\n",
    "#             (transfer_events_df[\"hash\"].isin(rebalance_between_destinations_df[\"hash\"]))\n",
    "#             & (transfer_events_df[\"from\"].isin(valid_destinations))\n",
    "#         ]\n",
    "\n",
    "#         .drop_duplicates()\n",
    "#         .copy()\n",
    "#     )\n",
    "\n",
    "\n",
    "#     return to_indest, to_outdest, from_indest, from_outdest\n",
    "\n",
    "# to_indest, to_outdest, from_indest, from_outdest = _extract_relevent_transfers(AUTO_ETH, transfer_events_df, rebalance_between_destinations_df)\n",
    "# to_indest.shape, to_outdest.shape, from_indest.shape, from_indest.shape,"
   ]
  },
  {
   "cell_type": "code",
   "execution_count": null,
   "metadata": {},
   "outputs": [],
   "source": [
    "between_with_from_indest = pd.merge(rebalance_between_destinations_df, from_indest[[\"value\", \"hash\"]], on=\"hash\")\n",
    "\n",
    "between_with_from_indest[\"hash\"].value_counts()"
   ]
  },
  {
   "cell_type": "code",
   "execution_count": null,
   "metadata": {},
   "outputs": [],
   "source": []
  },
  {
   "cell_type": "code",
   "execution_count": null,
   "metadata": {},
   "outputs": [],
   "source": []
  },
  {
   "cell_type": "code",
   "execution_count": null,
   "metadata": {},
   "outputs": [],
   "source": [
    "rebalance_between_destinations_df[\n",
    "    rebalance_between_destinations_df[\"hash\"] == \"0x5a088e71e51c5b8c05db282989f21975d14e44d9c615aa00e451a68dcbebd0dc\"\n",
    "]"
   ]
  },
  {
   "cell_type": "code",
   "execution_count": null,
   "metadata": {},
   "outputs": [],
   "source": [
    "# 0x5a088e71e51c5b8c05db282989f21975d14e44d9c615aa00e451a68dcbebd0dc rebalances more than one block"
   ]
  },
  {
   "cell_type": "code",
   "execution_count": null,
   "metadata": {},
   "outputs": [],
   "source": [
    "transfers_from_vaults[\n",
    "    transfers_from_vaults[\"hash\"] == \"0x5a088e71e51c5b8c05db282989f21975d14e44d9c615aa00e451a68dcbebd0dc\"\n",
    "]"
   ]
  },
  {
   "cell_type": "code",
   "execution_count": null,
   "metadata": {},
   "outputs": [],
   "source": []
  },
  {
   "cell_type": "code",
   "execution_count": null,
   "metadata": {},
   "outputs": [],
   "source": [
    "transfers_from_vaults[\"hash\"].value_counts()"
   ]
  },
  {
   "cell_type": "code",
   "execution_count": null,
   "metadata": {},
   "outputs": [],
   "source": [
    "# # def compute_swap_cost_when_rebalancing_between_destinations(\n",
    "# #     rebalance_not_from_idle_df: pd.DataFrame, autopool: AutopoolConstants, transfer_events_df: pd.DataFrame, validated_spot_price_df:pd.DataFrame\n",
    "# # ) -> pd.DataFrame:\n",
    "# #     # out means decrease\n",
    "# #     # in means increase\n",
    "# #     if (rebalance_not_from_idle_df[\"outDestinationVault\"] == autopool.autopool_eth_addr).any():\n",
    "# #         raise ValueError(\n",
    "# #             \"trying to compute_swap_cost_when_rebalancing_between_destinations when the outDestinationVault == autopool eg, exiting the autopool \"\n",
    "# #         )\n",
    "\n",
    "\n",
    "# #     limited_transfer_df = (\n",
    "# #         transfer_events_df[\n",
    "# #             (transfer_events_df[\"hash\"].isin(rebalance_not_from_idle_df[\"hash\"]))\n",
    "# #         ]\n",
    "\n",
    "# #         .drop_duplicates()\n",
    "# #         .copy()\n",
    "# #     )\n",
    "# #     return limited_transfer_df\n",
    "\n",
    "\n",
    "# #\n",
    "\n",
    "# # limited_transfer_df = compute_swap_cost_when_rebalancing_between_destinations(\n",
    "# #     rebalance_events_df.copy(), AUTO_ETH, transfer_events_df, validated_spot_price_df\n",
    "# # )\n",
    "\n",
    "# # transfers_to_vaults['to_value'] = transfers_to_vaults['value'] /1e18\n",
    "# # transfers_to_vaults['to_token'] = transfers_to_vaults['token_address']\n",
    "\n",
    "# # transfers_from_vaults['from_value'] = transfers_from_vaults['value'] /1e18\n",
    "# # transfers_from_vaults['from_token'] = transfers_from_vaults['token_address']\n",
    "\n",
    "# def build_lp_token_moved_df(row):\n",
    "\n",
    "#     return {\n",
    "#         'DesinationIncreased': row['to_token'],\n",
    "#         'DestinationDecreased': row['from_token'],\n",
    "#         'amountIncreased': row['to_value'],\n",
    "#         'amountDecreased': row['from_value'],\n",
    "#         'hash':row['hash'],\n",
    "#         'block': row['block']\n",
    "#     }\n",
    "\n",
    "# limited_transfer_df['hash'].value_counts()"
   ]
  },
  {
   "cell_type": "code",
   "execution_count": null,
   "metadata": {},
   "outputs": [],
   "source": [
    "rebalance_events_df"
   ]
  },
  {
   "cell_type": "code",
   "execution_count": null,
   "metadata": {},
   "outputs": [],
   "source": [
    "transfers_from_vaults"
   ]
  },
  {
   "cell_type": "code",
   "execution_count": null,
   "metadata": {},
   "outputs": [],
   "source": [
    "rebalance_events_df[\"inDestinationVault\"].value_counts()"
   ]
  },
  {
   "cell_type": "code",
   "execution_count": null,
   "metadata": {},
   "outputs": [],
   "source": [
    "rebalance_events_df[\"outDestinationVault\"].value_counts()"
   ]
  },
  {
   "cell_type": "code",
   "execution_count": null,
   "metadata": {},
   "outputs": [],
   "source": [
    "AUTO_ETH.autopool_eth_addr"
   ]
  },
  {
   "cell_type": "code",
   "execution_count": null,
   "metadata": {},
   "outputs": [],
   "source": [
    "rebalance_from_idle_df.sort_values(\"rebalance_cost\")[[\"hash\", \"rebalance_cost\"]].values[0]"
   ]
  },
  {
   "cell_type": "markdown",
   "metadata": {},
   "source": [
    "0xf06978787ae75d235cedd61c07b1e2a9037df86378f37a90eb683c87db8f98b2\n",
    "\n",
    "This rebalance, my math thinks that"
   ]
  },
  {
   "cell_type": "code",
   "execution_count": null,
   "metadata": {},
   "outputs": [],
   "source": [
    "rebalance_from_idle_df[\"valueStats_swap_cost\"] = rebalance_from_idle_df[\"valueStats\"].apply(lambda x: x[4] / 1e18)\n",
    "px.line(rebalance_from_idle_df[[\"rebalance_cost\", \"valueStats_swap_cost\"]])"
   ]
  },
  {
   "cell_type": "code",
   "execution_count": null,
   "metadata": {},
   "outputs": [],
   "source": []
  },
  {
   "cell_type": "code",
   "execution_count": null,
   "metadata": {},
   "outputs": [],
   "source": [
    "dest_to_dest = lp_token_transfer_df[(lp_token_transfer_df[\"hash\"] == tx_hash)].copy().drop_duplicates()\n",
    "dest_to_dest"
   ]
  },
  {
   "cell_type": "markdown",
   "metadata": {},
   "source": []
  },
  {
   "cell_type": "code",
   "execution_count": null,
   "metadata": {},
   "outputs": [],
   "source": [
    "# 165151197070039380229 expect outDestinationLpToken to be down"
   ]
  },
  {
   "cell_type": "markdown",
   "metadata": {},
   "source": [
    "today I am working more on fixing the overestimate the rebalancing cost on the dashboard. "
   ]
  },
  {
   "cell_type": "code",
   "execution_count": null,
   "metadata": {},
   "outputs": [],
   "source": [
    "# idle -> destination valueStats.amountOut == quantiy of eth that left\n",
    "#"
   ]
  },
  {
   "cell_type": "code",
   "execution_count": null,
   "metadata": {},
   "outputs": [],
   "source": [
    "rebalance_events_df.shape"
   ]
  },
  {
   "cell_type": "code",
   "execution_count": null,
   "metadata": {},
   "outputs": [],
   "source": []
  },
  {
   "cell_type": "code",
   "execution_count": null,
   "metadata": {},
   "outputs": [],
   "source": [
    "160795862717038788608 + 419684887152871954"
   ]
  },
  {
   "cell_type": "code",
   "execution_count": null,
   "metadata": {},
   "outputs": [],
   "source": [
    "dest_to_dest[dest_to_dest[\"token_address\"] == inDestinationVault]"
   ]
  },
  {
   "cell_type": "code",
   "execution_count": null,
   "metadata": {},
   "outputs": [],
   "source": [
    "dest_to_dest[dest_to_dest[\"token_address\"] == outDestinationVault]"
   ]
  },
  {
   "cell_type": "code",
   "execution_count": null,
   "metadata": {},
   "outputs": [],
   "source": [
    "dest_to_dest[dest_to_dest[\"to\"] == outDestinationVault]"
   ]
  },
  {
   "cell_type": "code",
   "execution_count": null,
   "metadata": {},
   "outputs": [],
   "source": [
    "dest_to_dest[dest_to_dest[\"from\"] == outDestinationVault]\n",
    "# destination vault -> flash borrow solver 0x067cB94576aBBDB3527055f3c8CaAAc9668364AD\n",
    "# is the quanikty t"
   ]
  },
  {
   "cell_type": "code",
   "execution_count": null,
   "metadata": {},
   "outputs": [],
   "source": [
    "dest_to_dest[\"to\"].value_counts()"
   ]
  },
  {
   "cell_type": "code",
   "execution_count": null,
   "metadata": {},
   "outputs": [],
   "source": [
    "rebalance_events_df.values[-1]  # 73804358107532979104"
   ]
  },
  {
   "cell_type": "code",
   "execution_count": null,
   "metadata": {},
   "outputs": [],
   "source": [
    "rebalance_events_df"
   ]
  },
  {
   "cell_type": "code",
   "execution_count": null,
   "metadata": {},
   "outputs": [],
   "source": []
  }
 ],
 "metadata": {
  "kernelspec": {
   "display_name": ".venv",
   "language": "python",
   "name": "python3"
  },
  "language_info": {
   "codemirror_mode": {
    "name": "ipython",
    "version": 3
   },
   "file_extension": ".py",
   "mimetype": "text/x-python",
   "name": "python",
   "nbconvert_exporter": "python",
   "pygments_lexer": "ipython3",
   "version": "3.10.14"
  }
 },
 "nbformat": 4,
 "nbformat_minor": 2
}
