{
 "cells": [
  {
   "cell_type": "code",
   "execution_count": 1,
   "metadata": {},
   "outputs": [
    {
     "name": "stderr",
     "output_type": "stream",
     "text": [
      "2024-11-13 20:41:01.512 WARNING streamlit.runtime.caching.cache_data_api: No runtime found, using MemoryCacheStorageManager\n",
      "2024-11-13 20:41:01.516 WARNING streamlit.runtime.caching.cache_data_api: No runtime found, using MemoryCacheStorageManager\n",
      "2024-11-13 20:41:01.521 WARNING streamlit.runtime.caching.cache_data_api: No runtime found, using MemoryCacheStorageManager\n",
      "2024-11-13 20:41:01.522 WARNING streamlit.runtime.caching.cache_data_api: No runtime found, using MemoryCacheStorageManager\n",
      "2024-11-13 20:41:01.524 WARNING streamlit.runtime.caching.cache_data_api: No runtime found, using MemoryCacheStorageManager\n",
      "2024-11-13 20:41:01.525 WARNING streamlit.runtime.caching.cache_data_api: No runtime found, using MemoryCacheStorageManager\n",
      "2024-11-13 20:41:01.527 WARNING streamlit.runtime.caching.cache_data_api: No runtime found, using MemoryCacheStorageManager\n",
      "2024-11-13 20:41:01.528 WARNING streamlit.runtime.caching.cache_data_api: No runtime found, using MemoryCacheStorageManager\n",
      "2024-11-13 20:41:03.583 WARNING streamlit.runtime.scriptrunner_utils.script_run_context: Thread 'MainThread': missing ScriptRunContext! This warning can be ignored when running in bare mode.\n",
      "2024-11-13 20:41:03.749 \n",
      "  \u001b[33m\u001b[1mWarning:\u001b[0m to view this Streamlit app on a browser, run it with the following\n",
      "  command:\n",
      "\n",
      "    streamlit run /home/parker/Documents/Tokemak/v2-rebalance-dashboard/.venv/lib/python3.10/site-packages/ipykernel_launcher.py [ARGUMENTS]\n",
      "2024-11-13 20:41:03.749 Thread 'MainThread': missing ScriptRunContext! This warning can be ignored when running in bare mode.\n",
      "2024-11-13 20:41:03.750 Thread 'MainThread': missing ScriptRunContext! This warning can be ignored when running in bare mode.\n",
      "2024-11-13 20:41:03.751 No runtime found, using MemoryCacheStorageManager\n",
      "2024-11-13 20:41:03.751 Thread 'MainThread': missing ScriptRunContext! This warning can be ignored when running in bare mode.\n",
      "2024-11-13 20:41:03.752 Thread 'MainThread': missing ScriptRunContext! This warning can be ignored when running in bare mode.\n",
      "2024-11-13 20:41:03.752 Thread 'MainThread': missing ScriptRunContext! This warning can be ignored when running in bare mode.\n",
      "2024-11-13 20:41:03.753 No runtime found, using MemoryCacheStorageManager\n",
      "2024-11-13 20:41:03.754 Thread 'MainThread': missing ScriptRunContext! This warning can be ignored when running in bare mode.\n",
      "2024-11-13 20:41:03.754 Thread 'MainThread': missing ScriptRunContext! This warning can be ignored when running in bare mode.\n",
      "2024-11-13 20:41:03.755 Thread 'MainThread': missing ScriptRunContext! This warning can be ignored when running in bare mode.\n",
      "2024-11-13 20:41:03.756 No runtime found, using MemoryCacheStorageManager\n",
      "2024-11-13 20:41:03.852 Thread 'MainThread': missing ScriptRunContext! This warning can be ignored when running in bare mode.\n",
      "2024-11-13 20:41:03.853 Thread 'MainThread': missing ScriptRunContext! This warning can be ignored when running in bare mode.\n",
      "2024-11-13 20:41:04.251 Thread 'Thread-4': missing ScriptRunContext! This warning can be ignored when running in bare mode.\n",
      "2024-11-13 20:41:04.253 Thread 'Thread-5': missing ScriptRunContext! This warning can be ignored when running in bare mode.\n",
      "2024-11-13 20:41:04.253 Thread 'Thread-4': missing ScriptRunContext! This warning can be ignored when running in bare mode.\n",
      "2024-11-13 20:41:04.261 Thread 'Thread-5': missing ScriptRunContext! This warning can be ignored when running in bare mode.\n",
      "503, message='Service Unavailable', url='https://eth-mainnet.g.alchemy.com/v2/M9VWxJElEag_cu-pCMocGJ9jX7l9sWj_' [0]\n",
      "2024-11-13 20:41:19.058 Thread 'MainThread': missing ScriptRunContext! This warning can be ignored when running in bare mode.\n",
      "2024-11-13 20:41:19.059 Thread 'MainThread': missing ScriptRunContext! This warning can be ignored when running in bare mode.\n",
      "2024-11-13 20:41:21.040 Thread 'MainThread': missing ScriptRunContext! This warning can be ignored when running in bare mode.\n",
      "2024-11-13 20:41:21.041 Thread 'MainThread': missing ScriptRunContext! This warning can be ignored when running in bare mode.\n",
      "2024-11-13 20:41:22.348 Thread 'MainThread': missing ScriptRunContext! This warning can be ignored when running in bare mode.\n",
      "2024-11-13 20:41:22.348 Thread 'MainThread': missing ScriptRunContext! This warning can be ignored when running in bare mode.\n",
      "2024-11-13 20:41:22.349 Thread 'MainThread': missing ScriptRunContext! This warning can be ignored when running in bare mode.\n",
      "2024-11-13 20:41:22.350 Thread 'MainThread': missing ScriptRunContext! This warning can be ignored when running in bare mode.\n",
      "2024-11-13 20:41:22.350 Thread 'MainThread': missing ScriptRunContext! This warning can be ignored when running in bare mode.\n",
      "2024-11-13 20:41:27.486 Thread 'MainThread': missing ScriptRunContext! This warning can be ignored when running in bare mode.\n",
      "2024-11-13 20:41:27.487 Thread 'MainThread': missing ScriptRunContext! This warning can be ignored when running in bare mode.\n",
      "2024-11-13 20:41:27.487 Thread 'MainThread': missing ScriptRunContext! This warning can be ignored when running in bare mode.\n",
      "2024-11-13 20:41:27.489 Thread 'MainThread': missing ScriptRunContext! This warning can be ignored when running in bare mode.\n",
      "2024-11-13 20:41:27.489 Thread 'MainThread': missing ScriptRunContext! This warning can be ignored when running in bare mode.\n"
     ]
    }
   ],
   "source": [
    "from mainnet_launch.autopool_diagnostics.compute_rebalance_cost import (\n",
    "    get_data,\n",
    "    AUTO_LRT,\n",
    "    BAL_ETH,\n",
    "    AUTO_ETH,\n",
    "    eth_client,\n",
    "    AutopoolConstants,\n",
    "    _fetch_all_rebalance_events\n",
    ")\n",
    "import pandas as pd\n",
    "import plotly.express as px\n",
    "\n",
    "RebalanceBetweenDestinations, RebalanceToIdle, SuccessfulRebalanceBetweenDestinations = _fetch_all_rebalance_events(AUTO_LRT)\n",
    "rebalance_between_destinations_df, validated_spot_price_df, UnderlyingDeposited_df, UnderlyingWithdraw_df = get_data(AUTO_LRT)\n",
    "# UnderlyingDeposited_df"
   ]
  },
  {
   "cell_type": "code",
   "execution_count": 64,
   "metadata": {},
   "outputs": [
    {
     "data": {
      "text/plain": [
       "Index(['valueStats', 'params', 'outSummaryStats', 'inSummaryStats',\n",
       "       'swapOffsetPeriod', 'predictedAnnualizedGain', 'event_x', 'block_x',\n",
       "       'transaction_index_x', 'log_index_x', 'hash', 'outDestinationVault',\n",
       "       'inDestinationVault', 'tokenIn', 'tokenOut', 'amountOut', 'swapCost',\n",
       "       'amount', 'sender', 'event_y', 'block_y', 'transaction_index_y',\n",
       "       'log_index_y', 'contract_address', 'amountIn'],\n",
       "      dtype='object')"
      ]
     },
     "execution_count": 64,
     "metadata": {},
     "output_type": "execute_result"
    }
   ],
   "source": [
    "valid_deposit_hashes = UnderlyingDeposited_df['hash'].value_counts()[UnderlyingDeposited_df['hash'].value_counts() == 1].index\n",
    "valid_underlying_deposited_df=UnderlyingDeposited_df[UnderlyingDeposited_df['hash'].isin(valid_deposit_hashes)].copy()\n",
    "valid_underlying_deposited_df['amountIn'] = valid_underlying_deposited_df['amount'] / 1e18\n",
    "df = pd.merge(rebalance_between_destinations_df, valid_underlying_deposited_df, on='hash', how='left')\n",
    "df.columns"
   ]
  },
  {
   "cell_type": "code",
   "execution_count": null,
   "metadata": {},
   "outputs": [],
   "source": []
  },
  {
   "cell_type": "code",
   "execution_count": 66,
   "metadata": {},
   "outputs": [
    {
     "data": {
      "text/html": [
       "<div>\n",
       "<style scoped>\n",
       "    .dataframe tbody tr th:only-of-type {\n",
       "        vertical-align: middle;\n",
       "    }\n",
       "\n",
       "    .dataframe tbody tr th {\n",
       "        vertical-align: top;\n",
       "    }\n",
       "\n",
       "    .dataframe thead th {\n",
       "        text-align: right;\n",
       "    }\n",
       "</style>\n",
       "<table border=\"1\" class=\"dataframe\">\n",
       "  <thead>\n",
       "    <tr style=\"text-align: right;\">\n",
       "      <th></th>\n",
       "      <th>contract_address</th>\n",
       "      <th>amountIn</th>\n",
       "      <th>amountOut</th>\n",
       "      <th>inDestinationVault</th>\n",
       "      <th>outDestinationVault</th>\n",
       "    </tr>\n",
       "  </thead>\n",
       "  <tbody>\n",
       "    <tr>\n",
       "      <th>0</th>\n",
       "      <td>0x777FAf85c8E5FC6f4332E56B989C5C94201A273C</td>\n",
       "      <td>100.512375</td>\n",
       "      <td>103.024424</td>\n",
       "      <td>0x777FAf85c8E5FC6f4332E56B989C5C94201A273C</td>\n",
       "      <td>0xE800e3760FC20aA98c5df6A9816147f190455AF3</td>\n",
       "    </tr>\n",
       "    <tr>\n",
       "      <th>1</th>\n",
       "      <td>0x4E12227b350E8f8fEEc41A58D36cE2fB2e2d4575</td>\n",
       "      <td>103.715831</td>\n",
       "      <td>105.124100</td>\n",
       "      <td>0x4E12227b350E8f8fEEc41A58D36cE2fB2e2d4575</td>\n",
       "      <td>0xE800e3760FC20aA98c5df6A9816147f190455AF3</td>\n",
       "    </tr>\n",
       "    <tr>\n",
       "      <th>2</th>\n",
       "      <td>0x2F7e096a400ded5D02762120b39A3aA4ABA072a4</td>\n",
       "      <td>165.884649</td>\n",
       "      <td>168.718684</td>\n",
       "      <td>0x2F7e096a400ded5D02762120b39A3aA4ABA072a4</td>\n",
       "      <td>0xE800e3760FC20aA98c5df6A9816147f190455AF3</td>\n",
       "    </tr>\n",
       "    <tr>\n",
       "      <th>3</th>\n",
       "      <td>0x4E12227b350E8f8fEEc41A58D36cE2fB2e2d4575</td>\n",
       "      <td>188.896729</td>\n",
       "      <td>191.505927</td>\n",
       "      <td>0x4E12227b350E8f8fEEc41A58D36cE2fB2e2d4575</td>\n",
       "      <td>0xE800e3760FC20aA98c5df6A9816147f190455AF3</td>\n",
       "    </tr>\n",
       "    <tr>\n",
       "      <th>4</th>\n",
       "      <td>0x2F7e096a400ded5D02762120b39A3aA4ABA072a4</td>\n",
       "      <td>141.824778</td>\n",
       "      <td>144.375381</td>\n",
       "      <td>0x2F7e096a400ded5D02762120b39A3aA4ABA072a4</td>\n",
       "      <td>0xE800e3760FC20aA98c5df6A9816147f190455AF3</td>\n",
       "    </tr>\n",
       "    <tr>\n",
       "      <th>...</th>\n",
       "      <td>...</td>\n",
       "      <td>...</td>\n",
       "      <td>...</td>\n",
       "      <td>...</td>\n",
       "      <td>...</td>\n",
       "    </tr>\n",
       "    <tr>\n",
       "      <th>78</th>\n",
       "      <td>0xf9779aEF9f77e78C857CB4A068c65CcBee25BAAc</td>\n",
       "      <td>98.265258</td>\n",
       "      <td>100.000000</td>\n",
       "      <td>0xf9779aEF9f77e78C857CB4A068c65CcBee25BAAc</td>\n",
       "      <td>0xE800e3760FC20aA98c5df6A9816147f190455AF3</td>\n",
       "    </tr>\n",
       "    <tr>\n",
       "      <th>79</th>\n",
       "      <td>0xf9779aEF9f77e78C857CB4A068c65CcBee25BAAc</td>\n",
       "      <td>98.280908</td>\n",
       "      <td>100.000000</td>\n",
       "      <td>0xf9779aEF9f77e78C857CB4A068c65CcBee25BAAc</td>\n",
       "      <td>0xE800e3760FC20aA98c5df6A9816147f190455AF3</td>\n",
       "    </tr>\n",
       "    <tr>\n",
       "      <th>80</th>\n",
       "      <td>0xf9779aEF9f77e78C857CB4A068c65CcBee25BAAc</td>\n",
       "      <td>97.770709</td>\n",
       "      <td>99.483984</td>\n",
       "      <td>0xf9779aEF9f77e78C857CB4A068c65CcBee25BAAc</td>\n",
       "      <td>0xE800e3760FC20aA98c5df6A9816147f190455AF3</td>\n",
       "    </tr>\n",
       "    <tr>\n",
       "      <th>81</th>\n",
       "      <td>0xf9779aEF9f77e78C857CB4A068c65CcBee25BAAc</td>\n",
       "      <td>73.300808</td>\n",
       "      <td>74.665379</td>\n",
       "      <td>0xf9779aEF9f77e78C857CB4A068c65CcBee25BAAc</td>\n",
       "      <td>0xE800e3760FC20aA98c5df6A9816147f190455AF3</td>\n",
       "    </tr>\n",
       "    <tr>\n",
       "      <th>82</th>\n",
       "      <td>0x40219bBda953ca811d2D0168Dc806a96b84791d9</td>\n",
       "      <td>54.899375</td>\n",
       "      <td>55.999197</td>\n",
       "      <td>0x40219bBda953ca811d2D0168Dc806a96b84791d9</td>\n",
       "      <td>0xE800e3760FC20aA98c5df6A9816147f190455AF3</td>\n",
       "    </tr>\n",
       "  </tbody>\n",
       "</table>\n",
       "<p>83 rows × 5 columns</p>\n",
       "</div>"
      ],
      "text/plain": [
       "                              contract_address    amountIn   amountOut  \\\n",
       "0   0x777FAf85c8E5FC6f4332E56B989C5C94201A273C  100.512375  103.024424   \n",
       "1   0x4E12227b350E8f8fEEc41A58D36cE2fB2e2d4575  103.715831  105.124100   \n",
       "2   0x2F7e096a400ded5D02762120b39A3aA4ABA072a4  165.884649  168.718684   \n",
       "3   0x4E12227b350E8f8fEEc41A58D36cE2fB2e2d4575  188.896729  191.505927   \n",
       "4   0x2F7e096a400ded5D02762120b39A3aA4ABA072a4  141.824778  144.375381   \n",
       "..                                         ...         ...         ...   \n",
       "78  0xf9779aEF9f77e78C857CB4A068c65CcBee25BAAc   98.265258  100.000000   \n",
       "79  0xf9779aEF9f77e78C857CB4A068c65CcBee25BAAc   98.280908  100.000000   \n",
       "80  0xf9779aEF9f77e78C857CB4A068c65CcBee25BAAc   97.770709   99.483984   \n",
       "81  0xf9779aEF9f77e78C857CB4A068c65CcBee25BAAc   73.300808   74.665379   \n",
       "82  0x40219bBda953ca811d2D0168Dc806a96b84791d9   54.899375   55.999197   \n",
       "\n",
       "                            inDestinationVault  \\\n",
       "0   0x777FAf85c8E5FC6f4332E56B989C5C94201A273C   \n",
       "1   0x4E12227b350E8f8fEEc41A58D36cE2fB2e2d4575   \n",
       "2   0x2F7e096a400ded5D02762120b39A3aA4ABA072a4   \n",
       "3   0x4E12227b350E8f8fEEc41A58D36cE2fB2e2d4575   \n",
       "4   0x2F7e096a400ded5D02762120b39A3aA4ABA072a4   \n",
       "..                                         ...   \n",
       "78  0xf9779aEF9f77e78C857CB4A068c65CcBee25BAAc   \n",
       "79  0xf9779aEF9f77e78C857CB4A068c65CcBee25BAAc   \n",
       "80  0xf9779aEF9f77e78C857CB4A068c65CcBee25BAAc   \n",
       "81  0xf9779aEF9f77e78C857CB4A068c65CcBee25BAAc   \n",
       "82  0x40219bBda953ca811d2D0168Dc806a96b84791d9   \n",
       "\n",
       "                           outDestinationVault  \n",
       "0   0xE800e3760FC20aA98c5df6A9816147f190455AF3  \n",
       "1   0xE800e3760FC20aA98c5df6A9816147f190455AF3  \n",
       "2   0xE800e3760FC20aA98c5df6A9816147f190455AF3  \n",
       "3   0xE800e3760FC20aA98c5df6A9816147f190455AF3  \n",
       "4   0xE800e3760FC20aA98c5df6A9816147f190455AF3  \n",
       "..                                         ...  \n",
       "78  0xE800e3760FC20aA98c5df6A9816147f190455AF3  \n",
       "79  0xE800e3760FC20aA98c5df6A9816147f190455AF3  \n",
       "80  0xE800e3760FC20aA98c5df6A9816147f190455AF3  \n",
       "81  0xE800e3760FC20aA98c5df6A9816147f190455AF3  \n",
       "82  0xE800e3760FC20aA98c5df6A9816147f190455AF3  \n",
       "\n",
       "[83 rows x 5 columns]"
      ]
     },
     "execution_count": 66,
     "metadata": {},
     "output_type": "execute_result"
    }
   ],
   "source": [
    "\n",
    "df[['contract_address', 'amountIn', 'amountOut', 'inDestinationVault', 'outDestinationVault']]"
   ]
  },
  {
   "cell_type": "code",
   "execution_count": 55,
   "metadata": {},
   "outputs": [
    {
     "data": {
      "text/plain": [
       "0    False\n",
       "0     True\n",
       "1     True\n",
       "0     True\n",
       "1     True\n",
       "0     True\n",
       "1     True\n",
       "2     True\n",
       "3     True\n",
       "0    False\n",
       "0    False\n",
       "0     True\n",
       "1     True\n",
       "2     True\n",
       "3     True\n",
       "4     True\n",
       "5     True\n",
       "6     True\n",
       "7     True\n",
       "8     True\n",
       "0    False\n",
       "1    False\n",
       "2    False\n",
       "3    False\n",
       "4    False\n",
       "0    False\n",
       "1    False\n",
       "2    False\n",
       "0     True\n",
       "1     True\n",
       "Name: hash, dtype: bool"
      ]
     },
     "execution_count": 55,
     "metadata": {},
     "output_type": "execute_result"
    }
   ],
   "source": [
    "hash_to_in_destination_vault = {h:d for h, d in zip(rebalance_between_destinations_df['hash'], rebalance_between_destinations_df['inDestinationVault'])}\n",
    "UnderlyingWithdraw_df['hash'].apply(lambda x :x in hash_to_in_destination_vault)"
   ]
  },
  {
   "cell_type": "code",
   "execution_count": 51,
   "metadata": {},
   "outputs": [
    {
     "data": {
      "text/plain": [
       "[{'hash': '0x5a6f3a2239134ef903468d88abce973e6b71e233af04ac0ee42651291e045294',\n",
       "  'inDestinationVault': '0x777FAf85c8E5FC6f4332E56B989C5C94201A273C'},\n",
       " {'hash': '0x46cfba2d4f806b97e71d9465ae05556bc41cb3635c5d133c421271a09b91de16',\n",
       "  'inDestinationVault': '0x4E12227b350E8f8fEEc41A58D36cE2fB2e2d4575'},\n",
       " {'hash': '0xa0ea869df690411f31e8a430670cfaea2b69a584971567945e5d38b32d89f062',\n",
       "  'inDestinationVault': '0x2F7e096a400ded5D02762120b39A3aA4ABA072a4'},\n",
       " {'hash': '0xca793ddcca9f1a355bf52d55d397068f49b8c43de7998f804831daa3e9d48574',\n",
       "  'inDestinationVault': '0x4E12227b350E8f8fEEc41A58D36cE2fB2e2d4575'},\n",
       " {'hash': '0x6ce994c065fa58c7b58d215373dcb7480aba639650136214a4a17ee64a3e595a',\n",
       "  'inDestinationVault': '0x2F7e096a400ded5D02762120b39A3aA4ABA072a4'},\n",
       " {'hash': '0xe858c758de4f7238f6a40a7c7c6e807b876fe55a4a0ed26056bd0cfadae11f87',\n",
       "  'inDestinationVault': '0x777FAf85c8E5FC6f4332E56B989C5C94201A273C'},\n",
       " {'hash': '0x63360390c04f91d79a132ccb6f9e7f82783b67d4cfd508f0fc4820b27b31bc3e',\n",
       "  'inDestinationVault': '0x777FAf85c8E5FC6f4332E56B989C5C94201A273C'},\n",
       " {'hash': '0x5f23c97fa8a565d915cb9fa96e185d71e7f7e3d3818ad6b40cf0e95d023a554a',\n",
       "  'inDestinationVault': '0x777FAf85c8E5FC6f4332E56B989C5C94201A273C'},\n",
       " {'hash': '0x591f225edb603205f0b088ca410bb1fd4d65b53fcf0373fbc125706516e01bcc',\n",
       "  'inDestinationVault': '0x777FAf85c8E5FC6f4332E56B989C5C94201A273C'},\n",
       " {'hash': '0x3c301e95e2eab3ed7ca34266c1bf86ea922ce87a19ac516a511775d11aadc9ac',\n",
       "  'inDestinationVault': '0x777FAf85c8E5FC6f4332E56B989C5C94201A273C'},\n",
       " {'hash': '0xbbe797e0dab11e45c5b12f71c84a53b9f808178a6e1b8f01fcf9beb9b3fe8969',\n",
       "  'inDestinationVault': '0x777FAf85c8E5FC6f4332E56B989C5C94201A273C'},\n",
       " {'hash': '0xd14eae5988b7318a5764a892c1de2fc0694cc7cdaa1a1b7380ed97913a6fcd6d',\n",
       "  'inDestinationVault': '0x777FAf85c8E5FC6f4332E56B989C5C94201A273C'},\n",
       " {'hash': '0xeb3128039cb8b56de3fafc600d6d05f7537e7de1f846b5cc16eb3f30e472c68e',\n",
       "  'inDestinationVault': '0x777FAf85c8E5FC6f4332E56B989C5C94201A273C'},\n",
       " {'hash': '0x133301bd7dda8cfd0c50af162cb2ebe3073c19511f7b79a8b3c62652224790c6',\n",
       "  'inDestinationVault': '0x777FAf85c8E5FC6f4332E56B989C5C94201A273C'},\n",
       " {'hash': '0x1d762932abbd3e79225daf02dde9f61e079a902d73335583ceddf8b511823bb4',\n",
       "  'inDestinationVault': '0x777FAf85c8E5FC6f4332E56B989C5C94201A273C'},\n",
       " {'hash': '0xf06978787ae75d235cedd61c07b1e2a9037df86378f37a90eb683c87db8f98b2',\n",
       "  'inDestinationVault': '0x777FAf85c8E5FC6f4332E56B989C5C94201A273C'},\n",
       " {'hash': '0xd2ff575edf0bcf9757f4643b6b372d810e10232ba6bb068cd40568f633bff310',\n",
       "  'inDestinationVault': '0x777FAf85c8E5FC6f4332E56B989C5C94201A273C'},\n",
       " {'hash': '0xe598efd8b2f6bc089204fad982eeeceb1b42013d7570759e9af0906502cbf097',\n",
       "  'inDestinationVault': '0x777FAf85c8E5FC6f4332E56B989C5C94201A273C'},\n",
       " {'hash': '0xacd5da998909d37a10619dbc3471b8e5e6609a9b3d9412b74b6ddfcbff488edf',\n",
       "  'inDestinationVault': '0x777FAf85c8E5FC6f4332E56B989C5C94201A273C'},\n",
       " {'hash': '0xd2e7af85e2d17cfced218a256c1f72796df726cb26226711d4daa36b0c535d3b',\n",
       "  'inDestinationVault': '0x777FAf85c8E5FC6f4332E56B989C5C94201A273C'},\n",
       " {'hash': '0xc81b8a32da2a74e80a16635220d71ae28da71948de51d62d2f6ef605399db11f',\n",
       "  'inDestinationVault': '0x777FAf85c8E5FC6f4332E56B989C5C94201A273C'},\n",
       " {'hash': '0x57a0c55d8f46788c77b675010e612055fb266c3c72aa879a60802676d050a839',\n",
       "  'inDestinationVault': '0x777FAf85c8E5FC6f4332E56B989C5C94201A273C'},\n",
       " {'hash': '0x00cdf0986c7c20722553459db4efb8fdb2eed8e941603203bf8ef5212cc320d0',\n",
       "  'inDestinationVault': '0x777FAf85c8E5FC6f4332E56B989C5C94201A273C'},\n",
       " {'hash': '0x01614d1e3f7841bb6452cb911443987e29abca961d6cc1706e0a8bb331682de3',\n",
       "  'inDestinationVault': '0x777FAf85c8E5FC6f4332E56B989C5C94201A273C'},\n",
       " {'hash': '0x06c4340516aa6dd415463aff3de7ddfcd3a57bf47534a3daf19238cbfd0aca47',\n",
       "  'inDestinationVault': '0x148Ca723BefeA7b021C399413b8b7426A4701500'},\n",
       " {'hash': '0x772557f397666fe0e4bfff3484c8778b478014cdd81cbe151fe6cebaee26e6dc',\n",
       "  'inDestinationVault': '0x4E12227b350E8f8fEEc41A58D36cE2fB2e2d4575'},\n",
       " {'hash': '0x9e0a216ebefe7aec050ebeaa4ed368e073be228ffc03a98bebb241409f6cee50',\n",
       "  'inDestinationVault': '0x148Ca723BefeA7b021C399413b8b7426A4701500'},\n",
       " {'hash': '0x60f9cbbb1ba0cba234720447c2a7240d1a0e027197b2538ad908b6e0f3a9e746',\n",
       "  'inDestinationVault': '0x148Ca723BefeA7b021C399413b8b7426A4701500'},\n",
       " {'hash': '0xbafdc2344e3cfca7345d0f99a2340119d9a562c06e63645fa4e5c63c27e4eff5',\n",
       "  'inDestinationVault': '0x148Ca723BefeA7b021C399413b8b7426A4701500'},\n",
       " {'hash': '0x786fd48cba89585f971c6e7b38a9acfed66b8226b3661d2da67d968b419c3e82',\n",
       "  'inDestinationVault': '0x4E12227b350E8f8fEEc41A58D36cE2fB2e2d4575'},\n",
       " {'hash': '0xd2e9299ee0bcfe3ca8b69d3190e7927e549a524cbea6489720261f7b7d3d584b',\n",
       "  'inDestinationVault': '0x4E12227b350E8f8fEEc41A58D36cE2fB2e2d4575'},\n",
       " {'hash': '0xb9ffffb7aa2f8aaa490f1ab6fb371166f11c6345c4dcd84746ebcce97c63fa81',\n",
       "  'inDestinationVault': '0x90300b02b162F902B9629963830BcCCdeEd71113'},\n",
       " {'hash': '0x0537fc276932e5bcbb8ee28c301603da7e64f56d4257943c716fcb3f364d3009',\n",
       "  'inDestinationVault': '0x777FAf85c8E5FC6f4332E56B989C5C94201A273C'},\n",
       " {'hash': '0x64ea4ba4693bd33994f34b6a9e52cbb6afedc79d14573e857ef31a631e32bc04',\n",
       "  'inDestinationVault': '0x777FAf85c8E5FC6f4332E56B989C5C94201A273C'},\n",
       " {'hash': '0xb1c0d8d90732f982192392f1b9e0178b04275a86e5d4899ff803af5f36bfb06a',\n",
       "  'inDestinationVault': '0x777FAf85c8E5FC6f4332E56B989C5C94201A273C'},\n",
       " {'hash': '0x084dfee5800acd5bda5e48485e68e87c015fca770376eeef36405654a184e005',\n",
       "  'inDestinationVault': '0x40219bBda953ca811d2D0168Dc806a96b84791d9'},\n",
       " {'hash': '0xeb6833f66f82c2047b3d3726ca07de2c3dcd3aab1991db1e6bef32aae439b70c',\n",
       "  'inDestinationVault': '0x777FAf85c8E5FC6f4332E56B989C5C94201A273C'},\n",
       " {'hash': '0x897d8453a4d47c763e7872dcac4e9a5857145ccee9dc578c28bf383b91c3add9',\n",
       "  'inDestinationVault': '0x777FAf85c8E5FC6f4332E56B989C5C94201A273C'},\n",
       " {'hash': '0x0928a563d0ab58ac4a98bf23d71c49b025a88ba173d0d550eed9360b1291ac3b',\n",
       "  'inDestinationVault': '0x5c6aeb9ef0d5BbA4E6691f381003503FD0D45126'},\n",
       " {'hash': '0xc44423bf1e184f77796b21a4f223e63126d9a64f8bfd5be0e49f1b0f151a195f',\n",
       "  'inDestinationVault': '0x4E12227b350E8f8fEEc41A58D36cE2fB2e2d4575'},\n",
       " {'hash': '0xbe9e2919f268121cc55f8466e7af702b6c0dd312134ee746e4600878e79efe9b',\n",
       "  'inDestinationVault': '0x60339056EC88996e41757E05a798310E46972cca'},\n",
       " {'hash': '0xa9b7e57b8202064b6fd48accbcfea54cb08fbb362638aa47681203c5daf7b722',\n",
       "  'inDestinationVault': '0xf9779aEF9f77e78C857CB4A068c65CcBee25BAAc'},\n",
       " {'hash': '0xd7f7dcca68ce5d59f047c1cf599639eb7f870230fa5f6d2a4270bb2757a4d9a1',\n",
       "  'inDestinationVault': '0x40219bBda953ca811d2D0168Dc806a96b84791d9'},\n",
       " {'hash': '0xd9792630c1a9b4bb034b4dfc56ccfad07b8ee68b778d3b8a6e0691bb841e9cb9',\n",
       "  'inDestinationVault': '0xf9779aEF9f77e78C857CB4A068c65CcBee25BAAc'},\n",
       " {'hash': '0x8100f238d930bcb0ab5e30cebf3c8d88cb3a21182eeb5769d82c287332ce15e8',\n",
       "  'inDestinationVault': '0x40219bBda953ca811d2D0168Dc806a96b84791d9'},\n",
       " {'hash': '0x44d352511569a90d5afa007897aa64defdc53ff3f792baf652c9b6bea180cf16',\n",
       "  'inDestinationVault': '0x40219bBda953ca811d2D0168Dc806a96b84791d9'},\n",
       " {'hash': '0x0146005b9255612d4e769a90cedf8f6deb448cfea969e74b31fb783d6e383c0d',\n",
       "  'inDestinationVault': '0xf9779aEF9f77e78C857CB4A068c65CcBee25BAAc'},\n",
       " {'hash': '0x88777fbc89b0309258567901c543be255fd2613f34c099f675d4a3b67caf05dc',\n",
       "  'inDestinationVault': '0xf9779aEF9f77e78C857CB4A068c65CcBee25BAAc'},\n",
       " {'hash': '0x0ed30e11e75b20e81c10b56b797df57c421d106b9caa1f1f2c0a905a4bbca29d',\n",
       "  'inDestinationVault': '0xf9779aEF9f77e78C857CB4A068c65CcBee25BAAc'},\n",
       " {'hash': '0xde6066a47542fb9746158b82cad0c571911e8fab15b1d7f4f3e4a891c5d1d7e9',\n",
       "  'inDestinationVault': '0xf9779aEF9f77e78C857CB4A068c65CcBee25BAAc'},\n",
       " {'hash': '0xb3dc3dd12216483863d0c9cb618567d7d0dbd11ea5b8fdeebcd571a9a7b6bdf2',\n",
       "  'inDestinationVault': '0xf9779aEF9f77e78C857CB4A068c65CcBee25BAAc'},\n",
       " {'hash': '0x3f73061888310a6eefefbf775bf874254713372fb6a6c2e4f88f709b58a5554f',\n",
       "  'inDestinationVault': '0xf9779aEF9f77e78C857CB4A068c65CcBee25BAAc'},\n",
       " {'hash': '0xec39ee7612e1f4b1c9ed9062f58e13b8d5c4e802bf214a3f78120b69ceea433b',\n",
       "  'inDestinationVault': '0xf9779aEF9f77e78C857CB4A068c65CcBee25BAAc'},\n",
       " {'hash': '0xa1974ab682c5b8fe1728285df0cd9c1e80a4254bf6cc9eca7811e7cb5f219b32',\n",
       "  'inDestinationVault': '0xf9779aEF9f77e78C857CB4A068c65CcBee25BAAc'},\n",
       " {'hash': '0xd5d330e4237cdfe1addb42a79ef4a7958026706640ab308ce1945fd7e0811980',\n",
       "  'inDestinationVault': '0xf9779aEF9f77e78C857CB4A068c65CcBee25BAAc'},\n",
       " {'hash': '0x0acfa0f6252e21e4045406576ba10fbd8be92c2f06db4366b7b3f9b297e60493',\n",
       "  'inDestinationVault': '0x40219bBda953ca811d2D0168Dc806a96b84791d9'},\n",
       " {'hash': '0x910cbce6070528e7a23acaa0d85a0c82fd20c6f140a7195b8fc6e82898fa246f',\n",
       "  'inDestinationVault': '0x40219bBda953ca811d2D0168Dc806a96b84791d9'},\n",
       " {'hash': '0xf34795112cc7a81f4b211120b58d7e740780b3571ff7957e72fd875e34814767',\n",
       "  'inDestinationVault': '0x60339056EC88996e41757E05a798310E46972cca'},\n",
       " {'hash': '0x3b36c23051bb76b836e667fa644d5337f8b5dbb78a1516d21fb77472a1811580',\n",
       "  'inDestinationVault': '0x60339056EC88996e41757E05a798310E46972cca'},\n",
       " {'hash': '0xca33fed62e06687e5b1006b4b464816210d51451802f17cfcee8f7a0538a552b',\n",
       "  'inDestinationVault': '0xf9779aEF9f77e78C857CB4A068c65CcBee25BAAc'},\n",
       " {'hash': '0x5ef9566170b1b50b304f6af3292be57d4d4c789b1714a422dcbe5c6655cef51b',\n",
       "  'inDestinationVault': '0x60339056EC88996e41757E05a798310E46972cca'},\n",
       " {'hash': '0x5e77c570d9c6560eb1137edde8ed2c6c7bac2683fd674693e043bf6b907c1870',\n",
       "  'inDestinationVault': '0x60339056EC88996e41757E05a798310E46972cca'},\n",
       " {'hash': '0xc352477a2ad0803c7c66517d790702589caba25909f9fd7dfe0f5e4fdf404daf',\n",
       "  'inDestinationVault': '0x40219bBda953ca811d2D0168Dc806a96b84791d9'},\n",
       " {'hash': '0x14448a6caa0f58ccc75e949b8a0e032b1c9fcbbe624ffac2ef7f33dafc27d0a0',\n",
       "  'inDestinationVault': '0xf9779aEF9f77e78C857CB4A068c65CcBee25BAAc'},\n",
       " {'hash': '0xb9f75013ae95976ecb78b92f8e8cd3986944d5e7806e2559b73c2f20276db514',\n",
       "  'inDestinationVault': '0x60339056EC88996e41757E05a798310E46972cca'},\n",
       " {'hash': '0xd90aba2d0b4151436387147f13e8d7ef96bb6bf62f5ecdf2645f25caab10a0c2',\n",
       "  'inDestinationVault': '0x60339056EC88996e41757E05a798310E46972cca'},\n",
       " {'hash': '0xe559f91b14125085d7c5f6956dd7d05d1d6fb6532f897d6988bd82a00d925b50',\n",
       "  'inDestinationVault': '0x40219bBda953ca811d2D0168Dc806a96b84791d9'},\n",
       " {'hash': '0x9c00a8cc48fdcc47d8f1b1bf4086d4e769c249f33be2ac96b9a4617dde0c9d4e',\n",
       "  'inDestinationVault': '0x40219bBda953ca811d2D0168Dc806a96b84791d9'},\n",
       " {'hash': '0xa5e351d939585219f1681bae1a3cab7cc3d883683a4f8b5234e7f66e8e332622',\n",
       "  'inDestinationVault': '0x40219bBda953ca811d2D0168Dc806a96b84791d9'},\n",
       " {'hash': '0x121b2750210a16472d1dbe5c20c006a48c32e7474594de76d8f16f5d5d1a0c0b',\n",
       "  'inDestinationVault': '0x40219bBda953ca811d2D0168Dc806a96b84791d9'},\n",
       " {'hash': '0xf20872bde7372d3106cde489b5c44c8d2af1ef0003bb233239f83c840b1708bf',\n",
       "  'inDestinationVault': '0x40219bBda953ca811d2D0168Dc806a96b84791d9'},\n",
       " {'hash': '0x80d0938d7a921128c6c03a5e445601f1521cd63c49e97d1c47a6fc89c9388c43',\n",
       "  'inDestinationVault': '0xC9b5D82652a1C8214b0971A004983d0EEeDD751C'},\n",
       " {'hash': '0xede5866db4be0f6de1e525a9b1b0235cff05ba297f4b99f5a62f5395a85e8ac6',\n",
       "  'inDestinationVault': '0xC9b5D82652a1C8214b0971A004983d0EEeDD751C'},\n",
       " {'hash': '0xdacddd6ad041529eb01703f2df2daf1b6c61fa0ade5dfb49720d3cf3fc7acbef',\n",
       "  'inDestinationVault': '0x40219bBda953ca811d2D0168Dc806a96b84791d9'},\n",
       " {'hash': '0xe57c877eadb11667cd753e412786306f7f3d78b8bf1b552c26ca3d3acb2ba534',\n",
       "  'inDestinationVault': '0x40219bBda953ca811d2D0168Dc806a96b84791d9'},\n",
       " {'hash': '0x7ce685385887645bb3976ff021864dc504dd36428646f1432752c5215e08a012',\n",
       "  'inDestinationVault': '0xC9b5D82652a1C8214b0971A004983d0EEeDD751C'},\n",
       " {'hash': '0x350476010ae54e6882868908e282c799aa1f0d6c4c547e0689ecb559c72121f9',\n",
       "  'inDestinationVault': '0xC9b5D82652a1C8214b0971A004983d0EEeDD751C'},\n",
       " {'hash': '0xd63d76e5ec0d3269a1dcf3909333f799969c5dbec02051e250c69f66df702c93',\n",
       "  'inDestinationVault': '0xf9779aEF9f77e78C857CB4A068c65CcBee25BAAc'},\n",
       " {'hash': '0x7ea296cc9d700bc8b3a817e36f343928d997bd65d3b77427bfd4ce725e82d35a',\n",
       "  'inDestinationVault': '0xf9779aEF9f77e78C857CB4A068c65CcBee25BAAc'},\n",
       " {'hash': '0x06c28f98ff45d82f34a0034733773a6f10c8e80fdcedaf91ef0f08dfd8ee35ee',\n",
       "  'inDestinationVault': '0xf9779aEF9f77e78C857CB4A068c65CcBee25BAAc'},\n",
       " {'hash': '0x84da6e052ce802cd1dc77ead5d40eb124a14c4aefc467f44df1d707cef83b900',\n",
       "  'inDestinationVault': '0xf9779aEF9f77e78C857CB4A068c65CcBee25BAAc'},\n",
       " {'hash': '0xd899eb779a909d345dac9d56abbf0a842b5fe4c5914f7058f8cb92f9c7f842d8',\n",
       "  'inDestinationVault': '0xf9779aEF9f77e78C857CB4A068c65CcBee25BAAc'},\n",
       " {'hash': '0x9aa6839667424f557b48ce54eac0916b8590810d4b9136624700dd2e57e12e57',\n",
       "  'inDestinationVault': '0x40219bBda953ca811d2D0168Dc806a96b84791d9'}]"
      ]
     },
     "execution_count": 51,
     "metadata": {},
     "output_type": "execute_result"
    }
   ],
   "source": [
    "rebalance_between_destinations_df[['hash', 'inDestinationVault']].to_dict(orient='records')"
   ]
  },
  {
   "cell_type": "code",
   "execution_count": 50,
   "metadata": {},
   "outputs": [
    {
     "ename": "TypeError",
     "evalue": "unhashable type: 'list'",
     "output_type": "error",
     "traceback": [
      "\u001b[0;31m---------------------------------------------------------------------------\u001b[0m",
      "\u001b[0;31mTypeError\u001b[0m                                 Traceback (most recent call last)",
      "Cell \u001b[0;32mIn[50], line 1\u001b[0m\n\u001b[0;32m----> 1\u001b[0m {rebalance_between_destinations_df[[\u001b[38;5;124m'\u001b[39m\u001b[38;5;124mhash\u001b[39m\u001b[38;5;124m'\u001b[39m, \u001b[38;5;124m'\u001b[39m\u001b[38;5;124minDestinationVault\u001b[39m\u001b[38;5;124m'\u001b[39m]]\u001b[38;5;241m.\u001b[39mto_dict(orient\u001b[38;5;241m=\u001b[39m\u001b[38;5;124m'\u001b[39m\u001b[38;5;124mrecords\u001b[39m\u001b[38;5;124m'\u001b[39m)}\n",
      "\u001b[0;31mTypeError\u001b[0m: unhashable type: 'list'"
     ]
    }
   ],
   "source": [
    "{rebalance_between_destinations_df[['hash', 'inDestinationVault']].to_dict(orient='records')}"
   ]
  },
  {
   "cell_type": "code",
   "execution_count": 42,
   "metadata": {},
   "outputs": [
    {
     "data": {
      "text/plain": [
       "0     0x777FAf85c8E5FC6f4332E56B989C5C94201A273C\n",
       "1     0x4E12227b350E8f8fEEc41A58D36cE2fB2e2d4575\n",
       "2     0x2F7e096a400ded5D02762120b39A3aA4ABA072a4\n",
       "3     0x4E12227b350E8f8fEEc41A58D36cE2fB2e2d4575\n",
       "4     0x2F7e096a400ded5D02762120b39A3aA4ABA072a4\n",
       "                         ...                    \n",
       "78    0xf9779aEF9f77e78C857CB4A068c65CcBee25BAAc\n",
       "79    0xf9779aEF9f77e78C857CB4A068c65CcBee25BAAc\n",
       "80    0xf9779aEF9f77e78C857CB4A068c65CcBee25BAAc\n",
       "81    0xf9779aEF9f77e78C857CB4A068c65CcBee25BAAc\n",
       "82    0x40219bBda953ca811d2D0168Dc806a96b84791d9\n",
       "Name: inDestinationVault, Length: 83, dtype: object"
      ]
     },
     "execution_count": 42,
     "metadata": {},
     "output_type": "execute_result"
    }
   ],
   "source": [
    "rebalance_between_destinations_df['inDestinationVault']"
   ]
  },
  {
   "cell_type": "code",
   "execution_count": 37,
   "metadata": {},
   "outputs": [
    {
     "data": {
      "text/html": [
       "<div>\n",
       "<style scoped>\n",
       "    .dataframe tbody tr th:only-of-type {\n",
       "        vertical-align: middle;\n",
       "    }\n",
       "\n",
       "    .dataframe tbody tr th {\n",
       "        vertical-align: top;\n",
       "    }\n",
       "\n",
       "    .dataframe thead th {\n",
       "        text-align: right;\n",
       "    }\n",
       "</style>\n",
       "<table border=\"1\" class=\"dataframe\">\n",
       "  <thead>\n",
       "    <tr style=\"text-align: right;\">\n",
       "      <th></th>\n",
       "      <th>destinationOut</th>\n",
       "      <th>lastRebalanceTimestamp</th>\n",
       "      <th>lastTimestampAddedToDestination</th>\n",
       "      <th>swapCostOffsetPeriod</th>\n",
       "      <th>event</th>\n",
       "      <th>block</th>\n",
       "      <th>transaction_index</th>\n",
       "      <th>log_index</th>\n",
       "      <th>hash</th>\n",
       "    </tr>\n",
       "  </thead>\n",
       "  <tbody>\n",
       "    <tr>\n",
       "      <th>0</th>\n",
       "      <td>0x777FAf85c8E5FC6f4332E56B989C5C94201A273C</td>\n",
       "      <td>1727872307</td>\n",
       "      <td>1727785907</td>\n",
       "      <td>50</td>\n",
       "      <td>SuccessfulRebalanceBetweenDestinations</td>\n",
       "      <td>20877834</td>\n",
       "      <td>5</td>\n",
       "      <td>120</td>\n",
       "      <td>0x06c4340516aa6dd415463aff3de7ddfcd3a57bf47534...</td>\n",
       "    </tr>\n",
       "    <tr>\n",
       "      <th>1</th>\n",
       "      <td>0x2F7e096a400ded5D02762120b39A3aA4ABA072a4</td>\n",
       "      <td>1728045203</td>\n",
       "      <td>1726766171</td>\n",
       "      <td>50</td>\n",
       "      <td>SuccessfulRebalanceBetweenDestinations</td>\n",
       "      <td>20892184</td>\n",
       "      <td>18</td>\n",
       "      <td>120</td>\n",
       "      <td>0x786fd48cba89585f971c6e7b38a9acfed66b8226b366...</td>\n",
       "    </tr>\n",
       "    <tr>\n",
       "      <th>2</th>\n",
       "      <td>0x2F7e096a400ded5D02762120b39A3aA4ABA072a4</td>\n",
       "      <td>1728088343</td>\n",
       "      <td>1726766171</td>\n",
       "      <td>50</td>\n",
       "      <td>SuccessfulRebalanceBetweenDestinations</td>\n",
       "      <td>20895765</td>\n",
       "      <td>19</td>\n",
       "      <td>176</td>\n",
       "      <td>0xd2e9299ee0bcfe3ca8b69d3190e7927e549a524cbea6...</td>\n",
       "    </tr>\n",
       "    <tr>\n",
       "      <th>3</th>\n",
       "      <td>0x148Ca723BefeA7b021C399413b8b7426A4701500</td>\n",
       "      <td>1728502367</td>\n",
       "      <td>1728012695</td>\n",
       "      <td>50</td>\n",
       "      <td>SuccessfulRebalanceBetweenDestinations</td>\n",
       "      <td>20930151</td>\n",
       "      <td>1</td>\n",
       "      <td>75</td>\n",
       "      <td>0x084dfee5800acd5bda5e48485e68e87c015fca770376...</td>\n",
       "    </tr>\n",
       "    <tr>\n",
       "      <th>4</th>\n",
       "      <td>0x777FAf85c8E5FC6f4332E56B989C5C94201A273C</td>\n",
       "      <td>1728614975</td>\n",
       "      <td>1728574271</td>\n",
       "      <td>50</td>\n",
       "      <td>SuccessfulRebalanceBetweenDestinations</td>\n",
       "      <td>20939503</td>\n",
       "      <td>106</td>\n",
       "      <td>368</td>\n",
       "      <td>0x0928a563d0ab58ac4a98bf23d71c49b025a88ba173d0...</td>\n",
       "    </tr>\n",
       "    <tr>\n",
       "      <th>5</th>\n",
       "      <td>0x2F7e096a400ded5D02762120b39A3aA4ABA072a4</td>\n",
       "      <td>1728701807</td>\n",
       "      <td>1726766171</td>\n",
       "      <td>50</td>\n",
       "      <td>SuccessfulRebalanceBetweenDestinations</td>\n",
       "      <td>20946688</td>\n",
       "      <td>9</td>\n",
       "      <td>161</td>\n",
       "      <td>0xbe9e2919f268121cc55f8466e7af702b6c0dd312134e...</td>\n",
       "    </tr>\n",
       "    <tr>\n",
       "      <th>6</th>\n",
       "      <td>0x4E12227b350E8f8fEEc41A58D36cE2fB2e2d4575</td>\n",
       "      <td>1728739883</td>\n",
       "      <td>1728649919</td>\n",
       "      <td>50</td>\n",
       "      <td>SuccessfulRebalanceBetweenDestinations</td>\n",
       "      <td>20949834</td>\n",
       "      <td>22</td>\n",
       "      <td>222</td>\n",
       "      <td>0xa9b7e57b8202064b6fd48accbcfea54cb08fbb362638...</td>\n",
       "    </tr>\n",
       "    <tr>\n",
       "      <th>7</th>\n",
       "      <td>0x5c6aeb9ef0d5BbA4E6691f381003503FD0D45126</td>\n",
       "      <td>1729027895</td>\n",
       "      <td>1728614975</td>\n",
       "      <td>50</td>\n",
       "      <td>SuccessfulRebalanceBetweenDestinations</td>\n",
       "      <td>20973663</td>\n",
       "      <td>1</td>\n",
       "      <td>99</td>\n",
       "      <td>0x44d352511569a90d5afa007897aa64defdc53ff3f792...</td>\n",
       "    </tr>\n",
       "    <tr>\n",
       "      <th>8</th>\n",
       "      <td>0x5c6aeb9ef0d5BbA4E6691f381003503FD0D45126</td>\n",
       "      <td>1729179095</td>\n",
       "      <td>1728614975</td>\n",
       "      <td>50</td>\n",
       "      <td>SuccessfulRebalanceBetweenDestinations</td>\n",
       "      <td>20986197</td>\n",
       "      <td>55</td>\n",
       "      <td>375</td>\n",
       "      <td>0x0146005b9255612d4e769a90cedf8f6deb448cfea969...</td>\n",
       "    </tr>\n",
       "    <tr>\n",
       "      <th>9</th>\n",
       "      <td>0x5c6aeb9ef0d5BbA4E6691f381003503FD0D45126</td>\n",
       "      <td>1729211495</td>\n",
       "      <td>1728614975</td>\n",
       "      <td>50</td>\n",
       "      <td>SuccessfulRebalanceBetweenDestinations</td>\n",
       "      <td>20988882</td>\n",
       "      <td>52</td>\n",
       "      <td>231</td>\n",
       "      <td>0x88777fbc89b0309258567901c543be255fd2613f34c0...</td>\n",
       "    </tr>\n",
       "    <tr>\n",
       "      <th>10</th>\n",
       "      <td>0x5c6aeb9ef0d5BbA4E6691f381003503FD0D45126</td>\n",
       "      <td>1729243895</td>\n",
       "      <td>1728614975</td>\n",
       "      <td>48</td>\n",
       "      <td>SuccessfulRebalanceBetweenDestinations</td>\n",
       "      <td>20991568</td>\n",
       "      <td>0</td>\n",
       "      <td>106</td>\n",
       "      <td>0x0ed30e11e75b20e81c10b56b797df57c421d106b9caa...</td>\n",
       "    </tr>\n",
       "    <tr>\n",
       "      <th>11</th>\n",
       "      <td>0x5c6aeb9ef0d5BbA4E6691f381003503FD0D45126</td>\n",
       "      <td>1729276319</td>\n",
       "      <td>1728614975</td>\n",
       "      <td>48</td>\n",
       "      <td>SuccessfulRebalanceBetweenDestinations</td>\n",
       "      <td>20994258</td>\n",
       "      <td>70</td>\n",
       "      <td>310</td>\n",
       "      <td>0xde6066a47542fb9746158b82cad0c571911e8fab15b1...</td>\n",
       "    </tr>\n",
       "    <tr>\n",
       "      <th>12</th>\n",
       "      <td>0x5c6aeb9ef0d5BbA4E6691f381003503FD0D45126</td>\n",
       "      <td>1729308707</td>\n",
       "      <td>1728614975</td>\n",
       "      <td>48</td>\n",
       "      <td>SuccessfulRebalanceBetweenDestinations</td>\n",
       "      <td>20996946</td>\n",
       "      <td>0</td>\n",
       "      <td>91</td>\n",
       "      <td>0xb3dc3dd12216483863d0c9cb618567d7d0dbd11ea5b8...</td>\n",
       "    </tr>\n",
       "    <tr>\n",
       "      <th>13</th>\n",
       "      <td>0x5c6aeb9ef0d5BbA4E6691f381003503FD0D45126</td>\n",
       "      <td>1729341119</td>\n",
       "      <td>1728614975</td>\n",
       "      <td>48</td>\n",
       "      <td>SuccessfulRebalanceBetweenDestinations</td>\n",
       "      <td>20999633</td>\n",
       "      <td>23</td>\n",
       "      <td>232</td>\n",
       "      <td>0x3f73061888310a6eefefbf775bf874254713372fb6a6...</td>\n",
       "    </tr>\n",
       "    <tr>\n",
       "      <th>14</th>\n",
       "      <td>0x5c6aeb9ef0d5BbA4E6691f381003503FD0D45126</td>\n",
       "      <td>1729470719</td>\n",
       "      <td>1728614975</td>\n",
       "      <td>48</td>\n",
       "      <td>SuccessfulRebalanceBetweenDestinations</td>\n",
       "      <td>21010389</td>\n",
       "      <td>108</td>\n",
       "      <td>490</td>\n",
       "      <td>0x0acfa0f6252e21e4045406576ba10fbd8be92c2f06db...</td>\n",
       "    </tr>\n",
       "    <tr>\n",
       "      <th>15</th>\n",
       "      <td>0x5c6aeb9ef0d5BbA4E6691f381003503FD0D45126</td>\n",
       "      <td>1729503107</td>\n",
       "      <td>1728614975</td>\n",
       "      <td>48</td>\n",
       "      <td>SuccessfulRebalanceBetweenDestinations</td>\n",
       "      <td>21013074</td>\n",
       "      <td>1</td>\n",
       "      <td>95</td>\n",
       "      <td>0x910cbce6070528e7a23acaa0d85a0c82fd20c6f140a7...</td>\n",
       "    </tr>\n",
       "  </tbody>\n",
       "</table>\n",
       "</div>"
      ],
      "text/plain": [
       "                                destinationOut  lastRebalanceTimestamp  \\\n",
       "0   0x777FAf85c8E5FC6f4332E56B989C5C94201A273C              1727872307   \n",
       "1   0x2F7e096a400ded5D02762120b39A3aA4ABA072a4              1728045203   \n",
       "2   0x2F7e096a400ded5D02762120b39A3aA4ABA072a4              1728088343   \n",
       "3   0x148Ca723BefeA7b021C399413b8b7426A4701500              1728502367   \n",
       "4   0x777FAf85c8E5FC6f4332E56B989C5C94201A273C              1728614975   \n",
       "5   0x2F7e096a400ded5D02762120b39A3aA4ABA072a4              1728701807   \n",
       "6   0x4E12227b350E8f8fEEc41A58D36cE2fB2e2d4575              1728739883   \n",
       "7   0x5c6aeb9ef0d5BbA4E6691f381003503FD0D45126              1729027895   \n",
       "8   0x5c6aeb9ef0d5BbA4E6691f381003503FD0D45126              1729179095   \n",
       "9   0x5c6aeb9ef0d5BbA4E6691f381003503FD0D45126              1729211495   \n",
       "10  0x5c6aeb9ef0d5BbA4E6691f381003503FD0D45126              1729243895   \n",
       "11  0x5c6aeb9ef0d5BbA4E6691f381003503FD0D45126              1729276319   \n",
       "12  0x5c6aeb9ef0d5BbA4E6691f381003503FD0D45126              1729308707   \n",
       "13  0x5c6aeb9ef0d5BbA4E6691f381003503FD0D45126              1729341119   \n",
       "14  0x5c6aeb9ef0d5BbA4E6691f381003503FD0D45126              1729470719   \n",
       "15  0x5c6aeb9ef0d5BbA4E6691f381003503FD0D45126              1729503107   \n",
       "\n",
       "    lastTimestampAddedToDestination  swapCostOffsetPeriod  \\\n",
       "0                        1727785907                    50   \n",
       "1                        1726766171                    50   \n",
       "2                        1726766171                    50   \n",
       "3                        1728012695                    50   \n",
       "4                        1728574271                    50   \n",
       "5                        1726766171                    50   \n",
       "6                        1728649919                    50   \n",
       "7                        1728614975                    50   \n",
       "8                        1728614975                    50   \n",
       "9                        1728614975                    50   \n",
       "10                       1728614975                    48   \n",
       "11                       1728614975                    48   \n",
       "12                       1728614975                    48   \n",
       "13                       1728614975                    48   \n",
       "14                       1728614975                    48   \n",
       "15                       1728614975                    48   \n",
       "\n",
       "                                     event     block  transaction_index  \\\n",
       "0   SuccessfulRebalanceBetweenDestinations  20877834                  5   \n",
       "1   SuccessfulRebalanceBetweenDestinations  20892184                 18   \n",
       "2   SuccessfulRebalanceBetweenDestinations  20895765                 19   \n",
       "3   SuccessfulRebalanceBetweenDestinations  20930151                  1   \n",
       "4   SuccessfulRebalanceBetweenDestinations  20939503                106   \n",
       "5   SuccessfulRebalanceBetweenDestinations  20946688                  9   \n",
       "6   SuccessfulRebalanceBetweenDestinations  20949834                 22   \n",
       "7   SuccessfulRebalanceBetweenDestinations  20973663                  1   \n",
       "8   SuccessfulRebalanceBetweenDestinations  20986197                 55   \n",
       "9   SuccessfulRebalanceBetweenDestinations  20988882                 52   \n",
       "10  SuccessfulRebalanceBetweenDestinations  20991568                  0   \n",
       "11  SuccessfulRebalanceBetweenDestinations  20994258                 70   \n",
       "12  SuccessfulRebalanceBetweenDestinations  20996946                  0   \n",
       "13  SuccessfulRebalanceBetweenDestinations  20999633                 23   \n",
       "14  SuccessfulRebalanceBetweenDestinations  21010389                108   \n",
       "15  SuccessfulRebalanceBetweenDestinations  21013074                  1   \n",
       "\n",
       "    log_index                                               hash  \n",
       "0         120  0x06c4340516aa6dd415463aff3de7ddfcd3a57bf47534...  \n",
       "1         120  0x786fd48cba89585f971c6e7b38a9acfed66b8226b366...  \n",
       "2         176  0xd2e9299ee0bcfe3ca8b69d3190e7927e549a524cbea6...  \n",
       "3          75  0x084dfee5800acd5bda5e48485e68e87c015fca770376...  \n",
       "4         368  0x0928a563d0ab58ac4a98bf23d71c49b025a88ba173d0...  \n",
       "5         161  0xbe9e2919f268121cc55f8466e7af702b6c0dd312134e...  \n",
       "6         222  0xa9b7e57b8202064b6fd48accbcfea54cb08fbb362638...  \n",
       "7          99  0x44d352511569a90d5afa007897aa64defdc53ff3f792...  \n",
       "8         375  0x0146005b9255612d4e769a90cedf8f6deb448cfea969...  \n",
       "9         231  0x88777fbc89b0309258567901c543be255fd2613f34c0...  \n",
       "10        106  0x0ed30e11e75b20e81c10b56b797df57c421d106b9caa...  \n",
       "11        310  0xde6066a47542fb9746158b82cad0c571911e8fab15b1...  \n",
       "12         91  0xb3dc3dd12216483863d0c9cb618567d7d0dbd11ea5b8...  \n",
       "13        232  0x3f73061888310a6eefefbf775bf874254713372fb6a6...  \n",
       "14        490  0x0acfa0f6252e21e4045406576ba10fbd8be92c2f06db...  \n",
       "15         95  0x910cbce6070528e7a23acaa0d85a0c82fd20c6f140a7...  "
      ]
     },
     "execution_count": 37,
     "metadata": {},
     "output_type": "execute_result"
    }
   ],
   "source": [
    "SuccessfulRebalanceBetweenDestinations"
   ]
  },
  {
   "cell_type": "code",
   "execution_count": 40,
   "metadata": {},
   "outputs": [
    {
     "data": {
      "text/plain": [
       "(16, 17)"
      ]
     },
     "execution_count": 40,
     "metadata": {},
     "output_type": "execute_result"
    }
   ],
   "source": [
    "rebalance_between_destinations_df[rebalance_between_destinations_df['hash'].isin(SuccessfulRebalanceBetweenDestinations['hash'])].shape"
   ]
  },
  {
   "cell_type": "code",
   "execution_count": 35,
   "metadata": {},
   "outputs": [
    {
     "data": {
      "text/html": [
       "<div>\n",
       "<style scoped>\n",
       "    .dataframe tbody tr th:only-of-type {\n",
       "        vertical-align: middle;\n",
       "    }\n",
       "\n",
       "    .dataframe tbody tr th {\n",
       "        vertical-align: top;\n",
       "    }\n",
       "\n",
       "    .dataframe thead th {\n",
       "        text-align: right;\n",
       "    }\n",
       "</style>\n",
       "<table border=\"1\" class=\"dataframe\">\n",
       "  <thead>\n",
       "    <tr style=\"text-align: right;\">\n",
       "      <th></th>\n",
       "      <th>amount</th>\n",
       "      <th>sender</th>\n",
       "      <th>event</th>\n",
       "      <th>block</th>\n",
       "      <th>transaction_index</th>\n",
       "      <th>log_index</th>\n",
       "      <th>hash</th>\n",
       "      <th>contract_address</th>\n",
       "    </tr>\n",
       "  </thead>\n",
       "  <tbody>\n",
       "    <tr>\n",
       "      <th>0</th>\n",
       "      <td>45275633771585782477</td>\n",
       "      <td>0xE800e3760FC20aA98c5df6A9816147f190455AF3</td>\n",
       "      <td>UnderlyingDeposited</td>\n",
       "      <td>21101723</td>\n",
       "      <td>5</td>\n",
       "      <td>75</td>\n",
       "      <td>0x80d0938d7a921128c6c03a5e445601f1521cd63c49e9...</td>\n",
       "      <td>0xC9b5D82652a1C8214b0971A004983d0EEeDD751C</td>\n",
       "    </tr>\n",
       "    <tr>\n",
       "      <th>1</th>\n",
       "      <td>33950989078690998560</td>\n",
       "      <td>0xE800e3760FC20aA98c5df6A9816147f190455AF3</td>\n",
       "      <td>UnderlyingDeposited</td>\n",
       "      <td>21104953</td>\n",
       "      <td>1</td>\n",
       "      <td>56</td>\n",
       "      <td>0xede5866db4be0f6de1e525a9b1b0235cff05ba297f4b...</td>\n",
       "      <td>0xC9b5D82652a1C8214b0971A004983d0EEeDD751C</td>\n",
       "    </tr>\n",
       "    <tr>\n",
       "      <th>2</th>\n",
       "      <td>56367497684686915345</td>\n",
       "      <td>0xE800e3760FC20aA98c5df6A9816147f190455AF3</td>\n",
       "      <td>UnderlyingDeposited</td>\n",
       "      <td>21122345</td>\n",
       "      <td>5</td>\n",
       "      <td>58</td>\n",
       "      <td>0x7ce685385887645bb3976ff021864dc504dd36428646...</td>\n",
       "      <td>0xC9b5D82652a1C8214b0971A004983d0EEeDD751C</td>\n",
       "    </tr>\n",
       "    <tr>\n",
       "      <th>3</th>\n",
       "      <td>42291495751400472670</td>\n",
       "      <td>0xE800e3760FC20aA98c5df6A9816147f190455AF3</td>\n",
       "      <td>UnderlyingDeposited</td>\n",
       "      <td>21125641</td>\n",
       "      <td>6</td>\n",
       "      <td>66</td>\n",
       "      <td>0x350476010ae54e6882868908e282c799aa1f0d6c4c54...</td>\n",
       "      <td>0xC9b5D82652a1C8214b0971A004983d0EEeDD751C</td>\n",
       "    </tr>\n",
       "    <tr>\n",
       "      <th>0</th>\n",
       "      <td>26412460747973757896</td>\n",
       "      <td>0xE800e3760FC20aA98c5df6A9816147f190455AF3</td>\n",
       "      <td>UnderlyingDeposited</td>\n",
       "      <td>20898452</td>\n",
       "      <td>0</td>\n",
       "      <td>45</td>\n",
       "      <td>0xb9ffffb7aa2f8aaa490f1ab6fb371166f11c6345c4dc...</td>\n",
       "      <td>0x90300b02b162F902B9629963830BcCCdeEd71113</td>\n",
       "    </tr>\n",
       "    <tr>\n",
       "      <th>...</th>\n",
       "      <td>...</td>\n",
       "      <td>...</td>\n",
       "      <td>...</td>\n",
       "      <td>...</td>\n",
       "      <td>...</td>\n",
       "      <td>...</td>\n",
       "      <td>...</td>\n",
       "      <td>...</td>\n",
       "    </tr>\n",
       "    <tr>\n",
       "      <th>10</th>\n",
       "      <td>93721328205063299580</td>\n",
       "      <td>0xE800e3760FC20aA98c5df6A9816147f190455AF3</td>\n",
       "      <td>UnderlyingDeposited</td>\n",
       "      <td>20889481</td>\n",
       "      <td>143</td>\n",
       "      <td>309</td>\n",
       "      <td>0xbafdc2344e3cfca7345d0f99a2340119d9a562c06e63...</td>\n",
       "      <td>0x148Ca723BefeA7b021C399413b8b7426A4701500</td>\n",
       "    </tr>\n",
       "    <tr>\n",
       "      <th>11</th>\n",
       "      <td>57795772975127563663</td>\n",
       "      <td>0x6dC3ce9C57b20131347FDc9089D740DAf6eB34c5</td>\n",
       "      <td>UnderlyingDeposited</td>\n",
       "      <td>20892779</td>\n",
       "      <td>38</td>\n",
       "      <td>233</td>\n",
       "      <td>0xf1a9200b85619fd39e358bf3fd8b993099e4a585735a...</td>\n",
       "      <td>0x148Ca723BefeA7b021C399413b8b7426A4701500</td>\n",
       "    </tr>\n",
       "    <tr>\n",
       "      <th>12</th>\n",
       "      <td>39697263089877165819</td>\n",
       "      <td>0x6dC3ce9C57b20131347FDc9089D740DAf6eB34c5</td>\n",
       "      <td>UnderlyingDeposited</td>\n",
       "      <td>20898160</td>\n",
       "      <td>2</td>\n",
       "      <td>51</td>\n",
       "      <td>0x3f09f5bc24ed2681ca8fe47f3e5f1510cbe6b4d808b7...</td>\n",
       "      <td>0x148Ca723BefeA7b021C399413b8b7426A4701500</td>\n",
       "    </tr>\n",
       "    <tr>\n",
       "      <th>13</th>\n",
       "      <td>74954049209195993609</td>\n",
       "      <td>0x6dC3ce9C57b20131347FDc9089D740DAf6eB34c5</td>\n",
       "      <td>UnderlyingDeposited</td>\n",
       "      <td>20912516</td>\n",
       "      <td>32</td>\n",
       "      <td>161</td>\n",
       "      <td>0x7845ffdf88a504a998b1caecf1261a2d4b038c15d870...</td>\n",
       "      <td>0x148Ca723BefeA7b021C399413b8b7426A4701500</td>\n",
       "    </tr>\n",
       "    <tr>\n",
       "      <th>14</th>\n",
       "      <td>68242424770291141414</td>\n",
       "      <td>0x6dC3ce9C57b20131347FDc9089D740DAf6eB34c5</td>\n",
       "      <td>UnderlyingDeposited</td>\n",
       "      <td>20915975</td>\n",
       "      <td>3</td>\n",
       "      <td>51</td>\n",
       "      <td>0x4266f976892b91900ef86ff2576a235215cfa1a9abdb...</td>\n",
       "      <td>0x148Ca723BefeA7b021C399413b8b7426A4701500</td>\n",
       "    </tr>\n",
       "  </tbody>\n",
       "</table>\n",
       "<p>114 rows × 8 columns</p>\n",
       "</div>"
      ],
      "text/plain": [
       "                  amount                                      sender  \\\n",
       "0   45275633771585782477  0xE800e3760FC20aA98c5df6A9816147f190455AF3   \n",
       "1   33950989078690998560  0xE800e3760FC20aA98c5df6A9816147f190455AF3   \n",
       "2   56367497684686915345  0xE800e3760FC20aA98c5df6A9816147f190455AF3   \n",
       "3   42291495751400472670  0xE800e3760FC20aA98c5df6A9816147f190455AF3   \n",
       "0   26412460747973757896  0xE800e3760FC20aA98c5df6A9816147f190455AF3   \n",
       "..                   ...                                         ...   \n",
       "10  93721328205063299580  0xE800e3760FC20aA98c5df6A9816147f190455AF3   \n",
       "11  57795772975127563663  0x6dC3ce9C57b20131347FDc9089D740DAf6eB34c5   \n",
       "12  39697263089877165819  0x6dC3ce9C57b20131347FDc9089D740DAf6eB34c5   \n",
       "13  74954049209195993609  0x6dC3ce9C57b20131347FDc9089D740DAf6eB34c5   \n",
       "14  68242424770291141414  0x6dC3ce9C57b20131347FDc9089D740DAf6eB34c5   \n",
       "\n",
       "                  event     block transaction_index log_index  \\\n",
       "0   UnderlyingDeposited  21101723                 5        75   \n",
       "1   UnderlyingDeposited  21104953                 1        56   \n",
       "2   UnderlyingDeposited  21122345                 5        58   \n",
       "3   UnderlyingDeposited  21125641                 6        66   \n",
       "0   UnderlyingDeposited  20898452                 0        45   \n",
       "..                  ...       ...               ...       ...   \n",
       "10  UnderlyingDeposited  20889481               143       309   \n",
       "11  UnderlyingDeposited  20892779                38       233   \n",
       "12  UnderlyingDeposited  20898160                 2        51   \n",
       "13  UnderlyingDeposited  20912516                32       161   \n",
       "14  UnderlyingDeposited  20915975                 3        51   \n",
       "\n",
       "                                                 hash  \\\n",
       "0   0x80d0938d7a921128c6c03a5e445601f1521cd63c49e9...   \n",
       "1   0xede5866db4be0f6de1e525a9b1b0235cff05ba297f4b...   \n",
       "2   0x7ce685385887645bb3976ff021864dc504dd36428646...   \n",
       "3   0x350476010ae54e6882868908e282c799aa1f0d6c4c54...   \n",
       "0   0xb9ffffb7aa2f8aaa490f1ab6fb371166f11c6345c4dc...   \n",
       "..                                                ...   \n",
       "10  0xbafdc2344e3cfca7345d0f99a2340119d9a562c06e63...   \n",
       "11  0xf1a9200b85619fd39e358bf3fd8b993099e4a585735a...   \n",
       "12  0x3f09f5bc24ed2681ca8fe47f3e5f1510cbe6b4d808b7...   \n",
       "13  0x7845ffdf88a504a998b1caecf1261a2d4b038c15d870...   \n",
       "14  0x4266f976892b91900ef86ff2576a235215cfa1a9abdb...   \n",
       "\n",
       "                              contract_address  \n",
       "0   0xC9b5D82652a1C8214b0971A004983d0EEeDD751C  \n",
       "1   0xC9b5D82652a1C8214b0971A004983d0EEeDD751C  \n",
       "2   0xC9b5D82652a1C8214b0971A004983d0EEeDD751C  \n",
       "3   0xC9b5D82652a1C8214b0971A004983d0EEeDD751C  \n",
       "0   0x90300b02b162F902B9629963830BcCCdeEd71113  \n",
       "..                                         ...  \n",
       "10  0x148Ca723BefeA7b021C399413b8b7426A4701500  \n",
       "11  0x148Ca723BefeA7b021C399413b8b7426A4701500  \n",
       "12  0x148Ca723BefeA7b021C399413b8b7426A4701500  \n",
       "13  0x148Ca723BefeA7b021C399413b8b7426A4701500  \n",
       "14  0x148Ca723BefeA7b021C399413b8b7426A4701500  \n",
       "\n",
       "[114 rows x 8 columns]"
      ]
     },
     "execution_count": 35,
     "metadata": {},
     "output_type": "execute_result"
    }
   ],
   "source": [
    "\n",
    "\n",
    "valid_underlying_deposited_df[valid_underlying_deposited_df['block'] > 20722910]\n"
   ]
  },
  {
   "cell_type": "code",
   "execution_count": 34,
   "metadata": {},
   "outputs": [
    {
     "data": {
      "text/plain": [
       "AutopoolConstants(name='autoLRT', autopool_eth_addr='0xE800e3760FC20aA98c5df6A9816147f190455AF3', autopool_eth_strategy_addr='0x72a726c10220280049687E58B7b05fb03d579109', solver_rebalance_plans_bucket='v2-gen3-eth-mainnet-solve-v2gen3ethmainnetsolverau-cb9s4hq4f8sv')"
      ]
     },
     "execution_count": 34,
     "metadata": {},
     "output_type": "execute_result"
    }
   ],
   "source": [
    "AUTO_LRT"
   ]
  },
  {
   "cell_type": "code",
   "execution_count": 33,
   "metadata": {},
   "outputs": [
    {
     "data": {
      "text/plain": [
       "hash\n",
       "0x00c17014c292aea3ebf6c85ff9bc694fd240ee7e77858bb2cdc18a5844197c02    [0x2f2CC1bf461413014741dD68481dB4a3686DAC3D]\n",
       "0x00cdf0986c7c20722553459db4efb8fdb2eed8e941603203bf8ef5212cc320d0    [0x777FAf85c8E5FC6f4332E56B989C5C94201A273C]\n",
       "0x0146005b9255612d4e769a90cedf8f6deb448cfea969e74b31fb783d6e383c0d    [0xf9779aEF9f77e78C857CB4A068c65CcBee25BAAc]\n",
       "0x01614d1e3f7841bb6452cb911443987e29abca961d6cc1706e0a8bb331682de3    [0x777FAf85c8E5FC6f4332E56B989C5C94201A273C]\n",
       "0x0537fc276932e5bcbb8ee28c301603da7e64f56d4257943c716fcb3f364d3009    [0x777FAf85c8E5FC6f4332E56B989C5C94201A273C]\n",
       "                                                                                          ...                     \n",
       "0xf06978787ae75d235cedd61c07b1e2a9037df86378f37a90eb683c87db8f98b2    [0x777FAf85c8E5FC6f4332E56B989C5C94201A273C]\n",
       "0xf1a9200b85619fd39e358bf3fd8b993099e4a585735a12bfe9d4c51de8855412    [0x148Ca723BefeA7b021C399413b8b7426A4701500]\n",
       "0xf20872bde7372d3106cde489b5c44c8d2af1ef0003bb233239f83c840b1708bf    [0x40219bBda953ca811d2D0168Dc806a96b84791d9]\n",
       "0xf34795112cc7a81f4b211120b58d7e740780b3571ff7957e72fd875e34814767    [0x60339056EC88996e41757E05a798310E46972cca]\n",
       "0xf9406f0b450a55bf31940280bbc878f1e3a9d29056d3bc134997cdd261a4a925    [0x4E12227b350E8f8fEEc41A58D36cE2fB2e2d4575]\n",
       "Name: contract_address, Length: 114, dtype: object"
      ]
     },
     "execution_count": 33,
     "metadata": {},
     "output_type": "execute_result"
    }
   ],
   "source": [
    "valid_underlying_deposited_df.groupby('hash')['contract_address'].apply(list)"
   ]
  },
  {
   "cell_type": "code",
   "execution_count": 21,
   "metadata": {},
   "outputs": [
    {
     "data": {
      "text/plain": [
       "hash\n",
       "0x80d0938d7a921128c6c03a5e445601f1521cd63c49e97d1c47a6fc89c9388c43    1\n",
       "0xede5866db4be0f6de1e525a9b1b0235cff05ba297f4b99f5a62f5395a85e8ac6    1\n",
       "0x7ce685385887645bb3976ff021864dc504dd36428646f1432752c5215e08a012    1\n",
       "0x350476010ae54e6882868908e282c799aa1f0d6c4c547e0689ecb559c72121f9    1\n",
       "0xb9ffffb7aa2f8aaa490f1ab6fb371166f11c6345c4dcd84746ebcce97c63fa81    1\n",
       "                                                                     ..\n",
       "0xbafdc2344e3cfca7345d0f99a2340119d9a562c06e63645fa4e5c63c27e4eff5    1\n",
       "0xf1a9200b85619fd39e358bf3fd8b993099e4a585735a12bfe9d4c51de8855412    1\n",
       "0x3f09f5bc24ed2681ca8fe47f3e5f1510cbe6b4d808b7e8a64e201ae988f58f04    1\n",
       "0x7845ffdf88a504a998b1caecf1261a2d4b038c15d870061fa9bfbd6b669cc060    1\n",
       "0x4266f976892b91900ef86ff2576a235215cfa1a9abdb2f8c0288779507ddee5f    1\n",
       "Name: count, Length: 114, dtype: int64"
      ]
     },
     "execution_count": 21,
     "metadata": {},
     "output_type": "execute_result"
    }
   ],
   "source": [
    "valid_underlying_deposited_df['hash'].value_counts()"
   ]
  },
  {
   "cell_type": "code",
   "execution_count": 24,
   "metadata": {},
   "outputs": [
    {
     "data": {
      "text/html": [
       "<div>\n",
       "<style scoped>\n",
       "    .dataframe tbody tr th:only-of-type {\n",
       "        vertical-align: middle;\n",
       "    }\n",
       "\n",
       "    .dataframe tbody tr th {\n",
       "        vertical-align: top;\n",
       "    }\n",
       "\n",
       "    .dataframe thead th {\n",
       "        text-align: right;\n",
       "    }\n",
       "</style>\n",
       "<table border=\"1\" class=\"dataframe\">\n",
       "  <thead>\n",
       "    <tr style=\"text-align: right;\">\n",
       "      <th></th>\n",
       "      <th>outDestinationVault</th>\n",
       "      <th>hash</th>\n",
       "      <th>amountOut</th>\n",
       "    </tr>\n",
       "  </thead>\n",
       "  <tbody>\n",
       "    <tr>\n",
       "      <th>0</th>\n",
       "      <td>0xE800e3760FC20aA98c5df6A9816147f190455AF3</td>\n",
       "      <td>0x5a6f3a2239134ef903468d88abce973e6b71e233af04...</td>\n",
       "      <td>103.024424</td>\n",
       "    </tr>\n",
       "    <tr>\n",
       "      <th>1</th>\n",
       "      <td>0xE800e3760FC20aA98c5df6A9816147f190455AF3</td>\n",
       "      <td>0x46cfba2d4f806b97e71d9465ae05556bc41cb3635c5d...</td>\n",
       "      <td>105.124100</td>\n",
       "    </tr>\n",
       "    <tr>\n",
       "      <th>2</th>\n",
       "      <td>0xE800e3760FC20aA98c5df6A9816147f190455AF3</td>\n",
       "      <td>0xa0ea869df690411f31e8a430670cfaea2b69a5849715...</td>\n",
       "      <td>168.718684</td>\n",
       "    </tr>\n",
       "    <tr>\n",
       "      <th>3</th>\n",
       "      <td>0xE800e3760FC20aA98c5df6A9816147f190455AF3</td>\n",
       "      <td>0xca793ddcca9f1a355bf52d55d397068f49b8c43de799...</td>\n",
       "      <td>191.505927</td>\n",
       "    </tr>\n",
       "    <tr>\n",
       "      <th>4</th>\n",
       "      <td>0xE800e3760FC20aA98c5df6A9816147f190455AF3</td>\n",
       "      <td>0x6ce994c065fa58c7b58d215373dcb7480aba63965013...</td>\n",
       "      <td>144.375381</td>\n",
       "    </tr>\n",
       "    <tr>\n",
       "      <th>...</th>\n",
       "      <td>...</td>\n",
       "      <td>...</td>\n",
       "      <td>...</td>\n",
       "    </tr>\n",
       "    <tr>\n",
       "      <th>78</th>\n",
       "      <td>0xE800e3760FC20aA98c5df6A9816147f190455AF3</td>\n",
       "      <td>0x7ea296cc9d700bc8b3a817e36f343928d997bd65d3b7...</td>\n",
       "      <td>100.000000</td>\n",
       "    </tr>\n",
       "    <tr>\n",
       "      <th>79</th>\n",
       "      <td>0xE800e3760FC20aA98c5df6A9816147f190455AF3</td>\n",
       "      <td>0x06c28f98ff45d82f34a0034733773a6f10c8e80fdced...</td>\n",
       "      <td>100.000000</td>\n",
       "    </tr>\n",
       "    <tr>\n",
       "      <th>80</th>\n",
       "      <td>0xE800e3760FC20aA98c5df6A9816147f190455AF3</td>\n",
       "      <td>0x84da6e052ce802cd1dc77ead5d40eb124a14c4aefc46...</td>\n",
       "      <td>99.483984</td>\n",
       "    </tr>\n",
       "    <tr>\n",
       "      <th>81</th>\n",
       "      <td>0xE800e3760FC20aA98c5df6A9816147f190455AF3</td>\n",
       "      <td>0xd899eb779a909d345dac9d56abbf0a842b5fe4c5914f...</td>\n",
       "      <td>74.665379</td>\n",
       "    </tr>\n",
       "    <tr>\n",
       "      <th>82</th>\n",
       "      <td>0xE800e3760FC20aA98c5df6A9816147f190455AF3</td>\n",
       "      <td>0x9aa6839667424f557b48ce54eac0916b8590810d4b91...</td>\n",
       "      <td>55.999197</td>\n",
       "    </tr>\n",
       "  </tbody>\n",
       "</table>\n",
       "<p>80 rows × 3 columns</p>\n",
       "</div>"
      ],
      "text/plain": [
       "                           outDestinationVault  \\\n",
       "0   0xE800e3760FC20aA98c5df6A9816147f190455AF3   \n",
       "1   0xE800e3760FC20aA98c5df6A9816147f190455AF3   \n",
       "2   0xE800e3760FC20aA98c5df6A9816147f190455AF3   \n",
       "3   0xE800e3760FC20aA98c5df6A9816147f190455AF3   \n",
       "4   0xE800e3760FC20aA98c5df6A9816147f190455AF3   \n",
       "..                                         ...   \n",
       "78  0xE800e3760FC20aA98c5df6A9816147f190455AF3   \n",
       "79  0xE800e3760FC20aA98c5df6A9816147f190455AF3   \n",
       "80  0xE800e3760FC20aA98c5df6A9816147f190455AF3   \n",
       "81  0xE800e3760FC20aA98c5df6A9816147f190455AF3   \n",
       "82  0xE800e3760FC20aA98c5df6A9816147f190455AF3   \n",
       "\n",
       "                                                 hash   amountOut  \n",
       "0   0x5a6f3a2239134ef903468d88abce973e6b71e233af04...  103.024424  \n",
       "1   0x46cfba2d4f806b97e71d9465ae05556bc41cb3635c5d...  105.124100  \n",
       "2   0xa0ea869df690411f31e8a430670cfaea2b69a5849715...  168.718684  \n",
       "3   0xca793ddcca9f1a355bf52d55d397068f49b8c43de799...  191.505927  \n",
       "4   0x6ce994c065fa58c7b58d215373dcb7480aba63965013...  144.375381  \n",
       "..                                                ...         ...  \n",
       "78  0x7ea296cc9d700bc8b3a817e36f343928d997bd65d3b7...  100.000000  \n",
       "79  0x06c28f98ff45d82f34a0034733773a6f10c8e80fdced...  100.000000  \n",
       "80  0x84da6e052ce802cd1dc77ead5d40eb124a14c4aefc46...   99.483984  \n",
       "81  0xd899eb779a909d345dac9d56abbf0a842b5fe4c5914f...   74.665379  \n",
       "82  0x9aa6839667424f557b48ce54eac0916b8590810d4b91...   55.999197  \n",
       "\n",
       "[80 rows x 3 columns]"
      ]
     },
     "execution_count": 24,
     "metadata": {},
     "output_type": "execute_result"
    }
   ],
   "source": [
    "rebalances_we_can_compute_swap_costs_for = rebalance_between_destinations_df[rebalance_between_destinations_df['hash'].isin(valid_underlying_deposited_df['hash'])].copy()\n",
    "\n",
    "rebalances_we_can_compute_swap_costs_for[['outDestinationVault', 'hash', 'amountOut']]"
   ]
  },
  {
   "cell_type": "code",
   "execution_count": null,
   "metadata": {},
   "outputs": [],
   "source": [
    "114 -"
   ]
  },
  {
   "cell_type": "code",
   "execution_count": 28,
   "metadata": {},
   "outputs": [
    {
     "data": {
      "text/html": [
       "<div>\n",
       "<style scoped>\n",
       "    .dataframe tbody tr th:only-of-type {\n",
       "        vertical-align: middle;\n",
       "    }\n",
       "\n",
       "    .dataframe tbody tr th {\n",
       "        vertical-align: top;\n",
       "    }\n",
       "\n",
       "    .dataframe thead th {\n",
       "        text-align: right;\n",
       "    }\n",
       "</style>\n",
       "<table border=\"1\" class=\"dataframe\">\n",
       "  <thead>\n",
       "    <tr style=\"text-align: right;\">\n",
       "      <th></th>\n",
       "      <th>amount</th>\n",
       "      <th>sender</th>\n",
       "      <th>event</th>\n",
       "      <th>block</th>\n",
       "      <th>transaction_index</th>\n",
       "      <th>log_index</th>\n",
       "      <th>hash</th>\n",
       "      <th>contract_address</th>\n",
       "    </tr>\n",
       "  </thead>\n",
       "  <tbody>\n",
       "    <tr>\n",
       "      <th>0</th>\n",
       "      <td>45275633771585782477</td>\n",
       "      <td>0xE800e3760FC20aA98c5df6A9816147f190455AF3</td>\n",
       "      <td>UnderlyingDeposited</td>\n",
       "      <td>21101723</td>\n",
       "      <td>5</td>\n",
       "      <td>75</td>\n",
       "      <td>0x80d0938d7a921128c6c03a5e445601f1521cd63c49e9...</td>\n",
       "      <td>0xC9b5D82652a1C8214b0971A004983d0EEeDD751C</td>\n",
       "    </tr>\n",
       "    <tr>\n",
       "      <th>1</th>\n",
       "      <td>33950989078690998560</td>\n",
       "      <td>0xE800e3760FC20aA98c5df6A9816147f190455AF3</td>\n",
       "      <td>UnderlyingDeposited</td>\n",
       "      <td>21104953</td>\n",
       "      <td>1</td>\n",
       "      <td>56</td>\n",
       "      <td>0xede5866db4be0f6de1e525a9b1b0235cff05ba297f4b...</td>\n",
       "      <td>0xC9b5D82652a1C8214b0971A004983d0EEeDD751C</td>\n",
       "    </tr>\n",
       "    <tr>\n",
       "      <th>2</th>\n",
       "      <td>56367497684686915345</td>\n",
       "      <td>0xE800e3760FC20aA98c5df6A9816147f190455AF3</td>\n",
       "      <td>UnderlyingDeposited</td>\n",
       "      <td>21122345</td>\n",
       "      <td>5</td>\n",
       "      <td>58</td>\n",
       "      <td>0x7ce685385887645bb3976ff021864dc504dd36428646...</td>\n",
       "      <td>0xC9b5D82652a1C8214b0971A004983d0EEeDD751C</td>\n",
       "    </tr>\n",
       "    <tr>\n",
       "      <th>3</th>\n",
       "      <td>42291495751400472670</td>\n",
       "      <td>0xE800e3760FC20aA98c5df6A9816147f190455AF3</td>\n",
       "      <td>UnderlyingDeposited</td>\n",
       "      <td>21125641</td>\n",
       "      <td>6</td>\n",
       "      <td>66</td>\n",
       "      <td>0x350476010ae54e6882868908e282c799aa1f0d6c4c54...</td>\n",
       "      <td>0xC9b5D82652a1C8214b0971A004983d0EEeDD751C</td>\n",
       "    </tr>\n",
       "    <tr>\n",
       "      <th>0</th>\n",
       "      <td>26412460747973757896</td>\n",
       "      <td>0xE800e3760FC20aA98c5df6A9816147f190455AF3</td>\n",
       "      <td>UnderlyingDeposited</td>\n",
       "      <td>20898452</td>\n",
       "      <td>0</td>\n",
       "      <td>45</td>\n",
       "      <td>0xb9ffffb7aa2f8aaa490f1ab6fb371166f11c6345c4dc...</td>\n",
       "      <td>0x90300b02b162F902B9629963830BcCCdeEd71113</td>\n",
       "    </tr>\n",
       "    <tr>\n",
       "      <th>...</th>\n",
       "      <td>...</td>\n",
       "      <td>...</td>\n",
       "      <td>...</td>\n",
       "      <td>...</td>\n",
       "      <td>...</td>\n",
       "      <td>...</td>\n",
       "      <td>...</td>\n",
       "      <td>...</td>\n",
       "    </tr>\n",
       "    <tr>\n",
       "      <th>10</th>\n",
       "      <td>93721328205063299580</td>\n",
       "      <td>0xE800e3760FC20aA98c5df6A9816147f190455AF3</td>\n",
       "      <td>UnderlyingDeposited</td>\n",
       "      <td>20889481</td>\n",
       "      <td>143</td>\n",
       "      <td>309</td>\n",
       "      <td>0xbafdc2344e3cfca7345d0f99a2340119d9a562c06e63...</td>\n",
       "      <td>0x148Ca723BefeA7b021C399413b8b7426A4701500</td>\n",
       "    </tr>\n",
       "    <tr>\n",
       "      <th>11</th>\n",
       "      <td>57795772975127563663</td>\n",
       "      <td>0x6dC3ce9C57b20131347FDc9089D740DAf6eB34c5</td>\n",
       "      <td>UnderlyingDeposited</td>\n",
       "      <td>20892779</td>\n",
       "      <td>38</td>\n",
       "      <td>233</td>\n",
       "      <td>0xf1a9200b85619fd39e358bf3fd8b993099e4a585735a...</td>\n",
       "      <td>0x148Ca723BefeA7b021C399413b8b7426A4701500</td>\n",
       "    </tr>\n",
       "    <tr>\n",
       "      <th>12</th>\n",
       "      <td>39697263089877165819</td>\n",
       "      <td>0x6dC3ce9C57b20131347FDc9089D740DAf6eB34c5</td>\n",
       "      <td>UnderlyingDeposited</td>\n",
       "      <td>20898160</td>\n",
       "      <td>2</td>\n",
       "      <td>51</td>\n",
       "      <td>0x3f09f5bc24ed2681ca8fe47f3e5f1510cbe6b4d808b7...</td>\n",
       "      <td>0x148Ca723BefeA7b021C399413b8b7426A4701500</td>\n",
       "    </tr>\n",
       "    <tr>\n",
       "      <th>13</th>\n",
       "      <td>74954049209195993609</td>\n",
       "      <td>0x6dC3ce9C57b20131347FDc9089D740DAf6eB34c5</td>\n",
       "      <td>UnderlyingDeposited</td>\n",
       "      <td>20912516</td>\n",
       "      <td>32</td>\n",
       "      <td>161</td>\n",
       "      <td>0x7845ffdf88a504a998b1caecf1261a2d4b038c15d870...</td>\n",
       "      <td>0x148Ca723BefeA7b021C399413b8b7426A4701500</td>\n",
       "    </tr>\n",
       "    <tr>\n",
       "      <th>14</th>\n",
       "      <td>68242424770291141414</td>\n",
       "      <td>0x6dC3ce9C57b20131347FDc9089D740DAf6eB34c5</td>\n",
       "      <td>UnderlyingDeposited</td>\n",
       "      <td>20915975</td>\n",
       "      <td>3</td>\n",
       "      <td>51</td>\n",
       "      <td>0x4266f976892b91900ef86ff2576a235215cfa1a9abdb...</td>\n",
       "      <td>0x148Ca723BefeA7b021C399413b8b7426A4701500</td>\n",
       "    </tr>\n",
       "  </tbody>\n",
       "</table>\n",
       "<p>114 rows × 8 columns</p>\n",
       "</div>"
      ],
      "text/plain": [
       "                  amount                                      sender  \\\n",
       "0   45275633771585782477  0xE800e3760FC20aA98c5df6A9816147f190455AF3   \n",
       "1   33950989078690998560  0xE800e3760FC20aA98c5df6A9816147f190455AF3   \n",
       "2   56367497684686915345  0xE800e3760FC20aA98c5df6A9816147f190455AF3   \n",
       "3   42291495751400472670  0xE800e3760FC20aA98c5df6A9816147f190455AF3   \n",
       "0   26412460747973757896  0xE800e3760FC20aA98c5df6A9816147f190455AF3   \n",
       "..                   ...                                         ...   \n",
       "10  93721328205063299580  0xE800e3760FC20aA98c5df6A9816147f190455AF3   \n",
       "11  57795772975127563663  0x6dC3ce9C57b20131347FDc9089D740DAf6eB34c5   \n",
       "12  39697263089877165819  0x6dC3ce9C57b20131347FDc9089D740DAf6eB34c5   \n",
       "13  74954049209195993609  0x6dC3ce9C57b20131347FDc9089D740DAf6eB34c5   \n",
       "14  68242424770291141414  0x6dC3ce9C57b20131347FDc9089D740DAf6eB34c5   \n",
       "\n",
       "                  event     block transaction_index log_index  \\\n",
       "0   UnderlyingDeposited  21101723                 5        75   \n",
       "1   UnderlyingDeposited  21104953                 1        56   \n",
       "2   UnderlyingDeposited  21122345                 5        58   \n",
       "3   UnderlyingDeposited  21125641                 6        66   \n",
       "0   UnderlyingDeposited  20898452                 0        45   \n",
       "..                  ...       ...               ...       ...   \n",
       "10  UnderlyingDeposited  20889481               143       309   \n",
       "11  UnderlyingDeposited  20892779                38       233   \n",
       "12  UnderlyingDeposited  20898160                 2        51   \n",
       "13  UnderlyingDeposited  20912516                32       161   \n",
       "14  UnderlyingDeposited  20915975                 3        51   \n",
       "\n",
       "                                                 hash  \\\n",
       "0   0x80d0938d7a921128c6c03a5e445601f1521cd63c49e9...   \n",
       "1   0xede5866db4be0f6de1e525a9b1b0235cff05ba297f4b...   \n",
       "2   0x7ce685385887645bb3976ff021864dc504dd36428646...   \n",
       "3   0x350476010ae54e6882868908e282c799aa1f0d6c4c54...   \n",
       "0   0xb9ffffb7aa2f8aaa490f1ab6fb371166f11c6345c4dc...   \n",
       "..                                                ...   \n",
       "10  0xbafdc2344e3cfca7345d0f99a2340119d9a562c06e63...   \n",
       "11  0xf1a9200b85619fd39e358bf3fd8b993099e4a585735a...   \n",
       "12  0x3f09f5bc24ed2681ca8fe47f3e5f1510cbe6b4d808b7...   \n",
       "13  0x7845ffdf88a504a998b1caecf1261a2d4b038c15d870...   \n",
       "14  0x4266f976892b91900ef86ff2576a235215cfa1a9abdb...   \n",
       "\n",
       "                              contract_address  \n",
       "0   0xC9b5D82652a1C8214b0971A004983d0EEeDD751C  \n",
       "1   0xC9b5D82652a1C8214b0971A004983d0EEeDD751C  \n",
       "2   0xC9b5D82652a1C8214b0971A004983d0EEeDD751C  \n",
       "3   0xC9b5D82652a1C8214b0971A004983d0EEeDD751C  \n",
       "0   0x90300b02b162F902B9629963830BcCCdeEd71113  \n",
       "..                                         ...  \n",
       "10  0x148Ca723BefeA7b021C399413b8b7426A4701500  \n",
       "11  0x148Ca723BefeA7b021C399413b8b7426A4701500  \n",
       "12  0x148Ca723BefeA7b021C399413b8b7426A4701500  \n",
       "13  0x148Ca723BefeA7b021C399413b8b7426A4701500  \n",
       "14  0x148Ca723BefeA7b021C399413b8b7426A4701500  \n",
       "\n",
       "[114 rows x 8 columns]"
      ]
     },
     "execution_count": 28,
     "metadata": {},
     "output_type": "execute_result"
    }
   ],
   "source": [
    "valid_underlying_deposited_df"
   ]
  },
  {
   "cell_type": "code",
   "execution_count": null,
   "metadata": {},
   "outputs": [
    {
     "data": {
      "text/plain": [
       "amount\n",
       "45275633771585782477    1\n",
       "33950989078690998560    1\n",
       "56367497684686915345    1\n",
       "42291495751400472670    1\n",
       "26412460747973757896    1\n",
       "                       ..\n",
       "93721328205063299580    1\n",
       "57795772975127563663    1\n",
       "39697263089877165819    1\n",
       "74954049209195993609    1\n",
       "68242424770291141414    1\n",
       "Name: count, Length: 114, dtype: int64"
      ]
     },
     "execution_count": 30,
     "metadata": {},
     "output_type": "execute_result"
    }
   ],
   "source": [
    "valid_underlying_deposited_df['amount']"
   ]
  },
  {
   "cell_type": "code",
   "execution_count": 27,
   "metadata": {},
   "outputs": [
    {
     "data": {
      "text/plain": [
       "contract_address\n",
       "0x777FAf85c8E5FC6f4332E56B989C5C94201A273C    25\n",
       "0x4E12227b350E8f8fEEc41A58D36cE2fB2e2d4575    20\n",
       "0xf9779aEF9f77e78C857CB4A068c65CcBee25BAAc    19\n",
       "0x148Ca723BefeA7b021C399413b8b7426A4701500    15\n",
       "0x40219bBda953ca811d2D0168Dc806a96b84791d9    14\n",
       "0x60339056EC88996e41757E05a798310E46972cca    10\n",
       "0xC9b5D82652a1C8214b0971A004983d0EEeDD751C     4\n",
       "0x2F7e096a400ded5D02762120b39A3aA4ABA072a4     4\n",
       "0x90300b02b162F902B9629963830BcCCdeEd71113     1\n",
       "0x2f2CC1bf461413014741dD68481dB4a3686DAC3D     1\n",
       "0x5c6aeb9ef0d5BbA4E6691f381003503FD0D45126     1\n",
       "Name: count, dtype: int64"
      ]
     },
     "execution_count": 27,
     "metadata": {},
     "output_type": "execute_result"
    }
   ],
   "source": [
    "valid_underlying_deposited_df['contract_address'].value_counts()"
   ]
  },
  {
   "cell_type": "code",
   "execution_count": 5,
   "metadata": {},
   "outputs": [
    {
     "data": {
      "text/plain": [
       "Index(['0xbe9e2919f268121cc55f8466e7af702b6c0dd312134ee746e4600878e79efe9b',\n",
       "       '0xa9b7e57b8202064b6fd48accbcfea54cb08fbb362638aa47681203c5daf7b722',\n",
       "       '0x084dfee5800acd5bda5e48485e68e87c015fca770376eeef36405654a184e005'],\n",
       "      dtype='object', name='hash')"
      ]
     },
     "execution_count": 5,
     "metadata": {},
     "output_type": "execute_result"
    }
   ],
   "source": [
    "hashes_to_exclude = UnderlyingDeposited_df['hash'].value_counts()[UnderlyingDeposited_df['hash'].value_counts() > 1].index\n",
    "# sunseting destiantions throws the math off and has 0 slippage anyway\n",
    "hashes_to_exclude"
   ]
  },
  {
   "cell_type": "code",
   "execution_count": 6,
   "metadata": {},
   "outputs": [
    {
     "data": {
      "text/html": [
       "<div>\n",
       "<style scoped>\n",
       "    .dataframe tbody tr th:only-of-type {\n",
       "        vertical-align: middle;\n",
       "    }\n",
       "\n",
       "    .dataframe tbody tr th {\n",
       "        vertical-align: top;\n",
       "    }\n",
       "\n",
       "    .dataframe thead th {\n",
       "        text-align: right;\n",
       "    }\n",
       "</style>\n",
       "<table border=\"1\" class=\"dataframe\">\n",
       "  <thead>\n",
       "    <tr style=\"text-align: right;\">\n",
       "      <th></th>\n",
       "      <th>amount</th>\n",
       "      <th>sender</th>\n",
       "      <th>event</th>\n",
       "      <th>block</th>\n",
       "      <th>transaction_index</th>\n",
       "      <th>log_index</th>\n",
       "      <th>hash</th>\n",
       "      <th>contract_address</th>\n",
       "    </tr>\n",
       "  </thead>\n",
       "  <tbody>\n",
       "    <tr>\n",
       "      <th>0</th>\n",
       "      <td>60996771897209039619</td>\n",
       "      <td>0xE800e3760FC20aA98c5df6A9816147f190455AF3</td>\n",
       "      <td>UnderlyingDeposited</td>\n",
       "      <td>20946688</td>\n",
       "      <td>9</td>\n",
       "      <td>133</td>\n",
       "      <td>0xbe9e2919f268121cc55f8466e7af702b6c0dd312134e...</td>\n",
       "      <td>0x60339056EC88996e41757E05a798310E46972cca</td>\n",
       "    </tr>\n",
       "    <tr>\n",
       "      <th>1</th>\n",
       "      <td>282901426865420561721</td>\n",
       "      <td>0x6dC3ce9C57b20131347FDc9089D740DAf6eB34c5</td>\n",
       "      <td>UnderlyingDeposited</td>\n",
       "      <td>20946688</td>\n",
       "      <td>9</td>\n",
       "      <td>227</td>\n",
       "      <td>0xbe9e2919f268121cc55f8466e7af702b6c0dd312134e...</td>\n",
       "      <td>0x60339056EC88996e41757E05a798310E46972cca</td>\n",
       "    </tr>\n",
       "  </tbody>\n",
       "</table>\n",
       "</div>"
      ],
      "text/plain": [
       "                  amount                                      sender  \\\n",
       "0   60996771897209039619  0xE800e3760FC20aA98c5df6A9816147f190455AF3   \n",
       "1  282901426865420561721  0x6dC3ce9C57b20131347FDc9089D740DAf6eB34c5   \n",
       "\n",
       "                 event     block transaction_index log_index  \\\n",
       "0  UnderlyingDeposited  20946688                 9       133   \n",
       "1  UnderlyingDeposited  20946688                 9       227   \n",
       "\n",
       "                                                hash  \\\n",
       "0  0xbe9e2919f268121cc55f8466e7af702b6c0dd312134e...   \n",
       "1  0xbe9e2919f268121cc55f8466e7af702b6c0dd312134e...   \n",
       "\n",
       "                             contract_address  \n",
       "0  0x60339056EC88996e41757E05a798310E46972cca  \n",
       "1  0x60339056EC88996e41757E05a798310E46972cca  "
      ]
     },
     "execution_count": 6,
     "metadata": {},
     "output_type": "execute_result"
    }
   ],
   "source": [
    "# 0x084dfee5800acd5bda5e48485e68e87c015fca770376eeef36405654a184e005    2\n",
    "# 0xbe9e2919f268121cc55f8466e7af702b6c0dd312134ee746e4600878e79efe9b    2\n",
    "# 0xa9b7e57b8202064b6fd48accbcfea54cb08fbb362638aa47681203c5daf7b722    2\n",
    "UnderlyingDeposited_df[UnderlyingDeposited_df['hash'] == '0xbe9e2919f268121cc55f8466e7af702b6c0dd312134ee746e4600878e79efe9b']"
   ]
  },
  {
   "cell_type": "code",
   "execution_count": 7,
   "metadata": {},
   "outputs": [
    {
     "data": {
      "text/html": [
       "<div>\n",
       "<style scoped>\n",
       "    .dataframe tbody tr th:only-of-type {\n",
       "        vertical-align: middle;\n",
       "    }\n",
       "\n",
       "    .dataframe tbody tr th {\n",
       "        vertical-align: top;\n",
       "    }\n",
       "\n",
       "    .dataframe thead th {\n",
       "        text-align: right;\n",
       "    }\n",
       "</style>\n",
       "<table border=\"1\" class=\"dataframe\">\n",
       "  <thead>\n",
       "    <tr style=\"text-align: right;\">\n",
       "      <th></th>\n",
       "      <th>block</th>\n",
       "      <th>transaction_index</th>\n",
       "      <th>log_index</th>\n",
       "      <th>hash</th>\n",
       "      <th>contract_address</th>\n",
       "      <th>amount</th>\n",
       "      <th>owner</th>\n",
       "      <th>to</th>\n",
       "      <th>event</th>\n",
       "    </tr>\n",
       "  </thead>\n",
       "  <tbody>\n",
       "    <tr>\n",
       "      <th>2</th>\n",
       "      <td>20946688</td>\n",
       "      <td>9</td>\n",
       "      <td>113</td>\n",
       "      <td>0xbe9e2919f268121cc55f8466e7af702b6c0dd312134e...</td>\n",
       "      <td>0x2F7e096a400ded5D02762120b39A3aA4ABA072a4</td>\n",
       "      <td>60996771897209039619</td>\n",
       "      <td>0xE800e3760FC20aA98c5df6A9816147f190455AF3</td>\n",
       "      <td>0x067cB94576aBBDB3527055f3c8CaAAc9668364AD</td>\n",
       "      <td>UnderlyingWithdraw</td>\n",
       "    </tr>\n",
       "    <tr>\n",
       "      <th>3</th>\n",
       "      <td>20946688</td>\n",
       "      <td>9</td>\n",
       "      <td>207</td>\n",
       "      <td>0xbe9e2919f268121cc55f8466e7af702b6c0dd312134e...</td>\n",
       "      <td>0x2F7e096a400ded5D02762120b39A3aA4ABA072a4</td>\n",
       "      <td>282901426865420561721</td>\n",
       "      <td>0x6dC3ce9C57b20131347FDc9089D740DAf6eB34c5</td>\n",
       "      <td>0x9cf7E7d9F02CaEdcE2286199C0c20dd92580433d</td>\n",
       "      <td>UnderlyingWithdraw</td>\n",
       "    </tr>\n",
       "  </tbody>\n",
       "</table>\n",
       "</div>"
      ],
      "text/plain": [
       "      block transaction_index log_index  \\\n",
       "2  20946688                 9       113   \n",
       "3  20946688                 9       207   \n",
       "\n",
       "                                                hash  \\\n",
       "2  0xbe9e2919f268121cc55f8466e7af702b6c0dd312134e...   \n",
       "3  0xbe9e2919f268121cc55f8466e7af702b6c0dd312134e...   \n",
       "\n",
       "                             contract_address                 amount  \\\n",
       "2  0x2F7e096a400ded5D02762120b39A3aA4ABA072a4   60996771897209039619   \n",
       "3  0x2F7e096a400ded5D02762120b39A3aA4ABA072a4  282901426865420561721   \n",
       "\n",
       "                                        owner  \\\n",
       "2  0xE800e3760FC20aA98c5df6A9816147f190455AF3   \n",
       "3  0x6dC3ce9C57b20131347FDc9089D740DAf6eB34c5   \n",
       "\n",
       "                                           to               event  \n",
       "2  0x067cB94576aBBDB3527055f3c8CaAAc9668364AD  UnderlyingWithdraw  \n",
       "3  0x9cf7E7d9F02CaEdcE2286199C0c20dd92580433d  UnderlyingWithdraw  "
      ]
     },
     "execution_count": 7,
     "metadata": {},
     "output_type": "execute_result"
    }
   ],
   "source": [
    "UnderlyingWithdraw_df[UnderlyingWithdraw_df['hash'] == '0xbe9e2919f268121cc55f8466e7af702b6c0dd312134ee746e4600878e79efe9b']"
   ]
  },
  {
   "cell_type": "code",
   "execution_count": 8,
   "metadata": {},
   "outputs": [
    {
     "data": {
      "text/plain": [
       "Index(['valueStats', 'params', 'outSummaryStats', 'inSummaryStats',\n",
       "       'swapOffsetPeriod', 'predictedAnnualizedGain', 'event', 'block',\n",
       "       'transaction_index', 'log_index', 'hash', 'outDestinationVault',\n",
       "       'inDestinationVault', 'tokenIn', 'tokenOut', 'amountOut', 'swapCost'],\n",
       "      dtype='object')"
      ]
     },
     "execution_count": 8,
     "metadata": {},
     "output_type": "execute_result"
    }
   ],
   "source": [
    "rebalance_between_destinations_df.columns"
   ]
  },
  {
   "cell_type": "code",
   "execution_count": 9,
   "metadata": {},
   "outputs": [
    {
     "data": {
      "text/plain": [
       "outDestinationVault\n",
       "0xE800e3760FC20aA98c5df6A9816147f190455AF3    67\n",
       "0x5c6aeb9ef0d5BbA4E6691f381003503FD0D45126     9\n",
       "0x2F7e096a400ded5D02762120b39A3aA4ABA072a4     3\n",
       "0x777FAf85c8E5FC6f4332E56B989C5C94201A273C     2\n",
       "0x148Ca723BefeA7b021C399413b8b7426A4701500     1\n",
       "0x4E12227b350E8f8fEEc41A58D36cE2fB2e2d4575     1\n",
       "Name: count, dtype: int64"
      ]
     },
     "execution_count": 9,
     "metadata": {},
     "output_type": "execute_result"
    }
   ],
   "source": [
    "cols = ['hash', 'amountOut', 'outDestinationVault']\n",
    "# 0xE800e3760FC20aA98c5df6A9816147f190455AF3 == autoLRT vault, all WETH\n",
    "rebalance_between_destinations_df[cols]['outDestinationVault'].value_counts()"
   ]
  },
  {
   "cell_type": "code",
   "execution_count": 10,
   "metadata": {},
   "outputs": [
    {
     "data": {
      "text/plain": [
       "hash\n",
       "0xbe9e2919f268121cc55f8466e7af702b6c0dd312134ee746e4600878e79efe9b    2\n",
       "0xa9b7e57b8202064b6fd48accbcfea54cb08fbb362638aa47681203c5daf7b722    2\n",
       "0x084dfee5800acd5bda5e48485e68e87c015fca770376eeef36405654a184e005    2\n",
       "0xede5866db4be0f6de1e525a9b1b0235cff05ba297f4b99f5a62f5395a85e8ac6    1\n",
       "0x80d0938d7a921128c6c03a5e445601f1521cd63c49e97d1c47a6fc89c9388c43    1\n",
       "                                                                     ..\n",
       "0xbafdc2344e3cfca7345d0f99a2340119d9a562c06e63645fa4e5c63c27e4eff5    1\n",
       "0xf1a9200b85619fd39e358bf3fd8b993099e4a585735a12bfe9d4c51de8855412    1\n",
       "0x3f09f5bc24ed2681ca8fe47f3e5f1510cbe6b4d808b7e8a64e201ae988f58f04    1\n",
       "0x7845ffdf88a504a998b1caecf1261a2d4b038c15d870061fa9bfbd6b669cc060    1\n",
       "0x4266f976892b91900ef86ff2576a235215cfa1a9abdb2f8c0288779507ddee5f    1\n",
       "Name: count, Length: 117, dtype: int64"
      ]
     },
     "execution_count": 10,
     "metadata": {},
     "output_type": "execute_result"
    }
   ],
   "source": [
    "UnderlyingDeposited_df['hash'].value_counts()"
   ]
  },
  {
   "cell_type": "code",
   "execution_count": null,
   "metadata": {},
   "outputs": [],
   "source": []
  },
  {
   "cell_type": "code",
   "execution_count": 11,
   "metadata": {},
   "outputs": [],
   "source": [
    "# amount "
   ]
  },
  {
   "cell_type": "code",
   "execution_count": 12,
   "metadata": {},
   "outputs": [
    {
     "data": {
      "text/plain": [
       "hash\n",
       "0x5a6f3a2239134ef903468d88abce973e6b71e233af04ac0ee42651291e045294    1\n",
       "0x46cfba2d4f806b97e71d9465ae05556bc41cb3635c5d133c421271a09b91de16    1\n",
       "0xa0ea869df690411f31e8a430670cfaea2b69a584971567945e5d38b32d89f062    1\n",
       "0xca793ddcca9f1a355bf52d55d397068f49b8c43de7998f804831daa3e9d48574    1\n",
       "0x6ce994c065fa58c7b58d215373dcb7480aba639650136214a4a17ee64a3e595a    1\n",
       "                                                                     ..\n",
       "0x7ea296cc9d700bc8b3a817e36f343928d997bd65d3b77427bfd4ce725e82d35a    1\n",
       "0x06c28f98ff45d82f34a0034733773a6f10c8e80fdcedaf91ef0f08dfd8ee35ee    1\n",
       "0x84da6e052ce802cd1dc77ead5d40eb124a14c4aefc467f44df1d707cef83b900    1\n",
       "0xd899eb779a909d345dac9d56abbf0a842b5fe4c5914f7058f8cb92f9c7f842d8    1\n",
       "0x9aa6839667424f557b48ce54eac0916b8590810d4b9136624700dd2e57e12e57    1\n",
       "Name: count, Length: 83, dtype: int64"
      ]
     },
     "execution_count": 12,
     "metadata": {},
     "output_type": "execute_result"
    }
   ],
   "source": [
    "rebalance_between_destinations_df['hash'].value_counts()"
   ]
  },
  {
   "cell_type": "code",
   "execution_count": 13,
   "metadata": {},
   "outputs": [
    {
     "ename": "NameError",
     "evalue": "name 'dfs' is not defined",
     "output_type": "error",
     "traceback": [
      "\u001b[0;31m---------------------------------------------------------------------------\u001b[0m",
      "\u001b[0;31mNameError\u001b[0m                                 Traceback (most recent call last)",
      "Cell \u001b[0;32mIn[13], line 1\u001b[0m\n\u001b[0;32m----> 1\u001b[0m RebalanceBetweenDestinations, RebalanceToIdle, SuccessfulRebalanceBetweenDestinations \u001b[38;5;241m=\u001b[39m \u001b[43mdfs\u001b[49m\n\u001b[1;32m      2\u001b[0m RebalanceBetweenDestinations\u001b[38;5;241m.\u001b[39mshape, RebalanceToIdle\u001b[38;5;241m.\u001b[39mshape, SuccessfulRebalanceBetweenDestinations\u001b[38;5;241m.\u001b[39mshape\n",
      "\u001b[0;31mNameError\u001b[0m: name 'dfs' is not defined"
     ]
    }
   ],
   "source": [
    "RebalanceBetweenDestinations, RebalanceToIdle, SuccessfulRebalanceBetweenDestinations = dfs\n",
    "RebalanceBetweenDestinations.shape, RebalanceToIdle.shape, SuccessfulRebalanceBetweenDestinations.shape"
   ]
  },
  {
   "cell_type": "code",
   "execution_count": null,
   "metadata": {},
   "outputs": [],
   "source": [
    "RebalanceToIdle[\"tokenIn\"] = RebalanceToIdle[\"params\"].apply(\n",
    "    lambda x: eth_client.toChecksumAddress(x[1])\n",
    ")\n",
    "\n",
    "RebalanceToIdle[\"tokenOut\"] = RebalanceToIdle[\"params\"].apply(\n",
    "    lambda x: eth_client.toChecksumAddress(x[4])\n",
    ")\n",
    "\n",
    "RebalanceToIdle[\"amountOut\"] = RebalanceToIdle[\"params\"].apply(\n",
    "    lambda x: x[5]\n",
    "    / 1e18  # the amout of lp tokens taken out is always correct, what we don't know is the amount of lp tokens going in\n",
    "    )\n",
    "RebalanceToIdle"
   ]
  },
  {
   "cell_type": "code",
   "execution_count": null,
   "metadata": {},
   "outputs": [],
   "source": [
    "RebalanceToIdle['hash'].values"
   ]
  },
  {
   "cell_type": "code",
   "execution_count": null,
   "metadata": {},
   "outputs": [],
   "source": [
    "RebalanceToIdle['hash'].isin(RebalanceBetweenDestinations['hash'])"
   ]
  },
  {
   "cell_type": "code",
   "execution_count": null,
   "metadata": {},
   "outputs": [],
   "source": [
    "SuccessfulRebalanceBetweenDestinations['hash'].isin(RebalanceBetweenDestinations['hash'])"
   ]
  },
  {
   "cell_type": "code",
   "execution_count": null,
   "metadata": {},
   "outputs": [],
   "source": [
    "0x084dfee5800acd5bda5e48485e68e87c015fca770376eeef36405654a184e005    2\n",
    "0xbe9e2919f268121cc55f8466e7af702b6c0dd312134ee746e4600878e79efe9b    2\n",
    "0xa9b7e57b8202064b6fd48accbcfea54cb08fbb362638aa47681203c5daf7b722    2\n",
    "UnderlyingDeposited_df[UnderlyingDeposited_df['hash'] == '0xbe9e2919f268121cc55f8466e7af702b6c0dd312134ee746e4600878e79efe9b']"
   ]
  },
  {
   "cell_type": "code",
   "execution_count": null,
   "metadata": {},
   "outputs": [],
   "source": []
  },
  {
   "cell_type": "code",
   "execution_count": null,
   "metadata": {},
   "outputs": [],
   "source": [
    "UnderlyingDeposited_df[UnderlyingDeposited_df['hash'] == '0xbe9e2919f268121cc55f8466e7af702b6c0dd312134ee746e4600878e79efe9b']"
   ]
  },
  {
   "cell_type": "code",
   "execution_count": null,
   "metadata": {},
   "outputs": [],
   "source": [
    "rebalance_between_destinations_df[rebalance_between_destinations_df['hash'] == '0xbe9e2919f268121cc55f8466e7af702b6c0dd312134ee746e4600878e79efe9b']"
   ]
  },
  {
   "cell_type": "code",
   "execution_count": null,
   "metadata": {},
   "outputs": [],
   "source": [
    "UnderlyingDeposited_df['hash'].value_counts()"
   ]
  },
  {
   "cell_type": "code",
   "execution_count": null,
   "metadata": {},
   "outputs": [],
   "source": [
    "def underlying_deposited_df_to_change(row):\n",
    "    return {\n",
    "        'Destination': row['contract_address'],\n",
    "        'lpTokenQuantity': row['amount'] /1e18,\n",
    "        'hash':row['hash'],\n",
    "        'block': int(row['block'])\n",
    "    }\n",
    "\n",
    "deposit_df = pd.DataFrame.from_records(UnderlyingDeposited_df.apply(underlying_deposited_df_to_change, axis=1).values)\n",
    "\n",
    "def underlying_withdrawn_df_to_change(row):\n",
    "    return {\n",
    "        'Destination': row['contract_address'],\n",
    "        'lpTokenQuantity':  - row['amount'] /1e18,\n",
    "        'hash':row['hash'],\n",
    "        'block': int(row['block'])\n",
    "    }\n",
    "\n",
    "withdraw_df = pd.DataFrame.from_records(UnderlyingWithdraw_df.apply(underlying_withdrawn_df_to_change, axis=1).values)\n",
    "change_df = pd.concat([deposit_df, withdraw_df]).sort_values('block')\n",
    "change_df"
   ]
  },
  {
   "cell_type": "code",
   "execution_count": null,
   "metadata": {},
   "outputs": [],
   "source": [
    "# AMOUNT_OUT IS THE QUANITY OF LP TOKENS THAT LEFT\n",
    "# WE JUST NEED THE DEPOSTED"
   ]
  },
  {
   "cell_type": "code",
   "execution_count": null,
   "metadata": {},
   "outputs": [],
   "source": [
    "df = pd.merge(change_df, validated_spot_price_df, on='block')\n",
    "\n",
    "def _change_in_spot_value(row):\n",
    "    spot_price =  row[row['Destination']]\n",
    "    change = spot_price * row['lpTokenQuantity']\n",
    "    return change\n",
    "\n",
    "df['spot_value_change'] = df.apply(_change_in_spot_value, axis=1)\n",
    "\n",
    "a = df.groupby('hash')['spot_value_change'].apply(list)\n",
    "\n",
    "between_destination_hashes = a[a.apply(len) == 2].index\n",
    "from_idle_hashes = a[a.apply(len) == 1].index"
   ]
  },
  {
   "cell_type": "code",
   "execution_count": null,
   "metadata": {},
   "outputs": [],
   "source": [
    "amounts_and_quantities = pd.merge(withdraw_df[['hash', 'lpTokenQuantity']], rebalance_between_destinations_df[['amountOut', 'hash']], on='hash')\n",
    "amounts_and_quantities[amounts_and_quantities['hash'].isin(between_destination_hashes)]"
   ]
  },
  {
   "cell_type": "code",
   "execution_count": null,
   "metadata": {},
   "outputs": [],
   "source": [
    "amounts_and_quantities = pd.merge(df[['hash', 'lpTokenQuantity']], rebalance_between_destinations_df[['amountOut', 'hash']], on='hash')\n",
    "amounts_and_quantities[amounts_and_quantities['hash'].isin(from_idle_hashes)]"
   ]
  },
  {
   "cell_type": "code",
   "execution_count": null,
   "metadata": {},
   "outputs": [],
   "source": [
    "rebalance_between_destinations_df[['amountOut', 'hash']]"
   ]
  },
  {
   "cell_type": "code",
   "execution_count": null,
   "metadata": {},
   "outputs": [],
   "source": [
    "rebalance_between_destinations_df[rebalance_between_destinations_df['hash'].isin(between_destination_hashes)][['outDestinationVault', 'inDestinationVault']].value_counts()"
   ]
  },
  {
   "cell_type": "code",
   "execution_count": null,
   "metadata": {},
   "outputs": [],
   "source": [
    "df.groupby('hash')['spot_value_change'].apply(len) == 2"
   ]
  },
  {
   "cell_type": "code",
   "execution_count": null,
   "metadata": {},
   "outputs": [],
   "source": [
    "UnderlyingWithdraw_df"
   ]
  },
  {
   "cell_type": "code",
   "execution_count": null,
   "metadata": {},
   "outputs": [],
   "source": [
    "\n",
    "\n",
    "# UnderlyingDeposited_df[\"amountDeposited\"] = UnderlyingDeposited_df[\"amount\"] / 1e18\n",
    "# UnderlyingWithdraw_df[\"amountWithdraw\"] = UnderlyingWithdraw_df[\"amount\"] / 1e18\n",
    "\n",
    "# df = pd.merge(rebalance_between_destinations_df, UnderlyingDeposited_df[['hash', 'amountDeposited']], how='left', on='hash')\n",
    "# df = pd.merge(df, UnderlyingWithdraw_df[['hash', 'amountWithdraw']], how='left', on='hash')\n",
    "# cols = ['hash', 'amountWithdraw', 'amountDeposited', 'amountOut', 'tokenIn', 'tokenOut']"
   ]
  },
  {
   "cell_type": "code",
   "execution_count": null,
   "metadata": {},
   "outputs": [],
   "source": [
    "# df['hash'].value_counts() # exclude the funny ones, with destinations getting added or withdrawn"
   ]
  },
  {
   "cell_type": "code",
   "execution_count": null,
   "metadata": {},
   "outputs": [],
   "source": [
    "df[df[\"hash\"] == \"0x084dfee5800acd5bda5e48485e68e87c015fca770376eeef36405654a184e005\"][cols]"
   ]
  },
  {
   "cell_type": "code",
   "execution_count": null,
   "metadata": {},
   "outputs": [],
   "source": [
    "UnderlyingDeposited_df[\n",
    "    UnderlyingDeposited_df[\"hash\"] == \"0x084dfee5800acd5bda5e48485e68e87c015fca770376eeef36405654a184e005\"\n",
    "]"
   ]
  },
  {
   "cell_type": "code",
   "execution_count": null,
   "metadata": {},
   "outputs": [],
   "source": [
    "UnderlyingWithdraw_df[\n",
    "    UnderlyingWithdraw_df[\"hash\"] == \"0x084dfee5800acd5bda5e48485e68e87c015fca770376eeef36405654a184e005\"\n",
    "]"
   ]
  },
  {
   "cell_type": "code",
   "execution_count": null,
   "metadata": {},
   "outputs": [],
   "source": []
  },
  {
   "cell_type": "code",
   "execution_count": null,
   "metadata": {},
   "outputs": [],
   "source": [
    "df2 = df.dropna()\n",
    "df2"
   ]
  },
  {
   "cell_type": "code",
   "execution_count": null,
   "metadata": {},
   "outputs": [],
   "source": [
    "WETH = \"0xC02aaA39b223FE8D0A0e5C4F27eAD9083C756Cc2\"\n",
    "#  emit UnderlyingDeposited(amount, msg.sender);"
   ]
  },
  {
   "cell_type": "code",
   "execution_count": null,
   "metadata": {},
   "outputs": [],
   "source": [
    "rebalance_between_destinations_df[[\"tokenIn\", \"tokenOut\", \"amountOut\", \"destinationIn\"]]"
   ]
  },
  {
   "cell_type": "code",
   "execution_count": null,
   "metadata": {},
   "outputs": [],
   "source": [
    "rebalance_between_destinations_df[\"hash\"].values"
   ]
  },
  {
   "cell_type": "code",
   "execution_count": null,
   "metadata": {},
   "outputs": [],
   "source": [
    "first_out = \"0xE800e3760FC20aA98c5df6A9816147f190455AF3\"\n",
    "first_in = \"0x777FAf85c8E5FC6f4332E56B989C5C94201A273C\"\n",
    "balance_of_undelrying_debt_before[[first_in, first_out]]\n",
    "# I can't check the balances before or after"
   ]
  },
  {
   "cell_type": "code",
   "execution_count": null,
   "metadata": {},
   "outputs": [],
   "source": []
  },
  {
   "cell_type": "code",
   "execution_count": null,
   "metadata": {},
   "outputs": [],
   "source": [
    "balance_of_undelrying_debt_before[[first_in, first_out]]"
   ]
  },
  {
   "cell_type": "code",
   "execution_count": null,
   "metadata": {},
   "outputs": [],
   "source": [
    "balance_of_undelrying_debt_after[[first_in, first_out]]"
   ]
  },
  {
   "cell_type": "code",
   "execution_count": null,
   "metadata": {},
   "outputs": [],
   "source": [
    "rebalance_between_destinations_df"
   ]
  },
  {
   "cell_type": "code",
   "execution_count": null,
   "metadata": {},
   "outputs": [],
   "source": [
    "rebalance_between_destinations_df"
   ]
  },
  {
   "cell_type": "code",
   "execution_count": null,
   "metadata": {},
   "outputs": [],
   "source": [
    "validated_spot_price_df"
   ]
  },
  {
   "cell_type": "code",
   "execution_count": null,
   "metadata": {},
   "outputs": [],
   "source": [
    "# from mainnet_launch.autopool_diagnostics.compute_rebalance_cost import (\n",
    "#     compute_daily_rebalance_costs,\n",
    "#     AUTO_LRT, BAL_ETH, AUTO_ETH,\n",
    "#     AutopoolConstants,\n",
    "# )\n",
    "# import pandas as pd\n",
    "# import plotly.express as px\n",
    "\n",
    "\n",
    "# # # return RebalanceValueStats({\n",
    "# # #     inPrice: inPrice,\n",
    "# # #     outPrice: outPrice,\n",
    "# # #     inEthValue: inEthValue,\n",
    "# # #     outEthValue: outEthValue,\n",
    "# # #     swapCost: swapCost,\n",
    "# # #     slippage: slippage\n",
    "# # # });\n",
    "\n",
    "\n",
    "# # /// @param destinationIn The address / lp token of the destination vault that will increase\n",
    "# # /// @param tokenIn The address of the underlyer token that will be provided by the swapper\n",
    "# # /// @param amountIn The amount of the underlying LP tokens that will be received\n",
    "# # /// @param destinationOut The address of the destination vault that will decrease\n",
    "# # /// @param tokenOut The address of the underlyer token that will be received by the swapper\n",
    "# # /// @param amountOut The amount of the tokenOut that will be received by the swapper\n",
    "# # struct RebalanceParams {\n",
    "# #     address destinationIn;\n",
    "# #     address tokenIn;\n",
    "# #     uint256 amountIn;\n",
    "# #     address destinationOut;\n",
    "# #     address tokenOut;\n",
    "# #     uint256 amountOut;\n",
    "# # }\n",
    "# autopool = AUTO_ETH\n",
    "# a, b = compute_daily_rebalance_costs(autopool)"
   ]
  },
  {
   "cell_type": "code",
   "execution_count": null,
   "metadata": {},
   "outputs": [],
   "source": [
    "autopool = AUTO_ETH"
   ]
  },
  {
   "cell_type": "code",
   "execution_count": null,
   "metadata": {},
   "outputs": [],
   "source": [
    "import plotly.io as pio\n",
    "from mainnet_launch.destinations import get_destination_details, ALL_AUTOPOOLS\n",
    "\n",
    "pio.templates.default = None\n",
    "rebalance_from_idle, transfer_events_df, validated_spot_price_df = b\n",
    "rebalance_between_destinations, transfer_events_df, validated_spot_price_df = a"
   ]
  },
  {
   "cell_type": "code",
   "execution_count": null,
   "metadata": {},
   "outputs": [],
   "source": []
  },
  {
   "cell_type": "code",
   "execution_count": null,
   "metadata": {},
   "outputs": [],
   "source": [
    "desination_vault_addresses = [d.vaultAddress for d in get_destination_details() if d.autopool == autopool]\n",
    "desination_vault_addresses"
   ]
  },
  {
   "cell_type": "code",
   "execution_count": null,
   "metadata": {},
   "outputs": [],
   "source": [
    "def _get_limited_transfers(\n",
    "    autopool: AutopoolConstants, transfer_events_df: pd.DataFrame, rebalance_df: pd.DataFrame\n",
    ") -> pd.DataFrame:\n",
    "    desination_vault_addresses = [d.vaultAddress for d in get_destination_details() if d.autopool == autopool]\n",
    "    sender_or_receiver_is_destination_vault = (transfer_events_df[\"to\"].isin(desination_vault_addresses)) | (\n",
    "        transfer_events_df[\"from\"].isin(desination_vault_addresses)\n",
    "    )\n",
    "    destination_lp_token_addresses = [d.vaultAddress for d in get_destination_details() if d.autopool == autopool]\n",
    "    sent_token_is_lp_token_avaiable_to_autopool = transfer_events_df[\"token_address\"].isin(\n",
    "        destination_lp_token_addresses\n",
    "    )\n",
    "\n",
    "    tx_hash_in_rebalance_df_hash = transfer_events_df[\"hash\"].isin(rebalance_df[\"hash\"])\n",
    "\n",
    "    limited_transfers = (\n",
    "        transfer_events_df[\n",
    "            sender_or_receiver_is_destination_vault\n",
    "            & sent_token_is_lp_token_avaiable_to_autopool\n",
    "            & tx_hash_in_rebalance_df_hash\n",
    "        ]\n",
    "        .copy()\n",
    "        .reset_index()\n",
    "    )\n",
    "\n",
    "    return limited_transfers\n",
    "\n",
    "\n",
    "limited_transfers = _get_limited_transfers(autopool, transfer_events_df, rebalance_between_destinations)\n",
    "limited_transfers[\"hash\"].value_counts()"
   ]
  },
  {
   "cell_type": "code",
   "execution_count": null,
   "metadata": {},
   "outputs": [],
   "source": [
    "# def compute_swap_cost_when_rebalance_from_idle(\n",
    "#     rebalance_from_idle_df: pd.DataFrame, autopool: AutopoolConstants, transfer_events_df: pd.DataFrame, validated_spot_price_df:pd.DataFrame\n",
    "# ) -> pd.DataFrame:\n",
    "#     # out means decrease\n",
    "#     # in means increase\n",
    "#     if (rebalance_from_idle_df[\"outDestinationVault\"] != autopool.autopool_eth_addr).any():\n",
    "#         raise ValueError(\n",
    "#             \"trying to compute rebalance cost on rebalance_from_idle_df when the outDestinationVault != autopool \"\n",
    "#         )\n",
    "\n",
    "\n",
    "#     #\n",
    "\n",
    "#     transfers_to_vaults = (\n",
    "#         transfers_to_or_from_autopool_destinations[\n",
    "#             (transfer_events_df[\"hash\"].isin(rebalance_from_idle_df[\"hash\"]))\n",
    "#             & (transfer_events_df[\"to\"].isin(rebalance_from_idle_df[\"inDestinationVault\"]))\n",
    "#         ]\n",
    "\n",
    "#         .drop_duplicates()\n",
    "#         .copy()\n",
    "#     )\n",
    "\n",
    "#     rebalance_from_idle_with_lp_tokens_in = pd.merge(\n",
    "#         rebalance_from_idle_df, transfers_to_vaults[[\"value\", \"hash\"]], on=\"hash\"\n",
    "#     )\n",
    "\n",
    "#     rebalance_from_idle_with_lp_tokens_in[\"lp_tokens_added_to_vault\"] = (\n",
    "#         rebalance_from_idle_with_lp_tokens_in[\"value\"]/ 1e18\n",
    "#     )\n",
    "\n",
    "#     validated_spot_price_df[\"block_with_rebalance\"] = ( validated_spot_price_df[\"block\"] + 1)\n",
    "\n",
    "#     rebalance_from_idle_df = pd.merge(\n",
    "#         validated_spot_price_df,\n",
    "#         rebalance_from_idle_with_lp_tokens_in,\n",
    "#         right_on=\"block\",\n",
    "#         left_on=\"block_with_rebalance\",\n",
    "#     )\n",
    "\n",
    "#     def _compute_spot_value_added_to_vault(row:dict) -> float:\n",
    "#         return row['lp_tokens_added_to_vault'] * row[row['inDestinationVault']] # the pool itsel\n",
    "\n",
    "#     rebalance_from_idle_df['validated_spot_value_of_lp_tokens_added_to_autopool'] = rebalance_from_idle_df.apply(_compute_spot_value_added_to_vault, axis=1)\n",
    "#     # because we are exiting idle, the value out is in WETH so the spot value is always 1\n",
    "#     rebalance_from_idle_df['validated_spot_value_of_lp_tokens_removed_from_autopool'] = rebalance_from_idle_df[\"params_amountOut\"]\n",
    "#     rebalance_from_idle_df['validated_spot_value_of_swap_cost'] = rebalance_from_idle_df['validated_spot_value_of_lp_tokens_removed_from_autopool'] -  rebalance_from_idle_df['validated_spot_value_of_lp_tokens_added_to_autopool']\n",
    "\n",
    "#     rebalance_from_idle_df['validated_spot_value_of_swap_cost'] = rebalance_from_idle_df['validated_spot_value_of_swap_cost'].clip(lower=0)\n",
    "\n",
    "#     rebalance_from_idle_df['swap_cost_from_event'] = rebalance_from_idle_df['valueStats'].apply(lambda x: float(x[4]) /1e18)\n",
    "\n",
    "#     # not sure what do to with the swap cost\n",
    "#     rebalance_from_idle_df.index = validated_spot_price_df.index\n",
    "#     cumulative_daily_validated_swap_cost =  rebalance_from_idle_df[['validated_spot_value_of_swap_cost']].resample(\"1D\").sum().cumsum()\n",
    "#     return cumulative_daily_validated_swap_cost\n",
    "\n",
    "# rebalance_events_df, transfer_events_df, validated_spot_price_df = b\n",
    "# cumulative_daily_validated_swap_cost = compute_swap_cost_when_rebalance_from_idle(\n",
    "#     rebalance_events_df.copy(), AUTO_ETH, transfer_events_df, validated_spot_price_df\n",
    "# )\n",
    "\n",
    "# cumulative_daily_validated_swap_cost"
   ]
  },
  {
   "cell_type": "code",
   "execution_count": null,
   "metadata": {},
   "outputs": [],
   "source": []
  },
  {
   "cell_type": "code",
   "execution_count": null,
   "metadata": {},
   "outputs": [],
   "source": []
  },
  {
   "cell_type": "code",
   "execution_count": null,
   "metadata": {},
   "outputs": [],
   "source": [
    "# rebalance_between_destinations_df, transfer_events_df, validated_spot_price_df = a\n",
    "\n",
    "# def _extract_relevent_transfers(autopool: AutopoolConstants, transfer_events_df: pd.DataFrame, rebalance_between_destinations_df:pd.DataFrame):\n",
    "\n",
    "#     valid_destinations = [d.vaultAddress for d in get_destination_details() if d.autopool == autopool]\n",
    "#     valid_transfer_events = transfer_events_df[(transfer_events_df['to'].str.lower().isin(valid_destinations)) | (transfer_events_df['from'].str.lower().isin(valid_destinations))]\n",
    "\n",
    "#     to_indest = (\n",
    "#         transfer_events_df[\n",
    "#             (transfer_events_df[\"hash\"].isin(rebalance_between_destinations_df[\"hash\"]))\n",
    "#             & (transfer_events_df[\"to\"].isin(valid_destinations))\n",
    "#         ]\n",
    "#         .drop_duplicates()\n",
    "#         .copy()\n",
    "#     )\n",
    "\n",
    "#     to_outdest = (\n",
    "#         transfer_events_df[\n",
    "#             (transfer_events_df[\"hash\"].isin(rebalance_between_destinations_df[\"hash\"]))\n",
    "#             & (transfer_events_df[\"to\"].isin(valid_destinations))\n",
    "#         ]\n",
    "\n",
    "#         .drop_duplicates()\n",
    "#         .copy()\n",
    "#     )\n",
    "\n",
    "\n",
    "#     from_indest = (\n",
    "#         transfer_events_df[\n",
    "#             (transfer_events_df[\"hash\"].isin(rebalance_between_destinations_df[\"hash\"]))\n",
    "#             & (transfer_events_df[\"from\"].isin(valid_destinations))\n",
    "#         ]\n",
    "#         .drop_duplicates()\n",
    "#         .copy()\n",
    "#     )\n",
    "\n",
    "#     from_outdest = (\n",
    "#         transfer_events_df[\n",
    "#             (transfer_events_df[\"hash\"].isin(rebalance_between_destinations_df[\"hash\"]))\n",
    "#             & (transfer_events_df[\"from\"].isin(valid_destinations))\n",
    "#         ]\n",
    "\n",
    "#         .drop_duplicates()\n",
    "#         .copy()\n",
    "#     )\n",
    "\n",
    "\n",
    "#     return to_indest, to_outdest, from_indest, from_outdest\n",
    "\n",
    "# to_indest, to_outdest, from_indest, from_outdest = _extract_relevent_transfers(AUTO_ETH, transfer_events_df, rebalance_between_destinations_df)\n",
    "# to_indest.shape, to_outdest.shape, from_indest.shape, from_indest.shape,"
   ]
  },
  {
   "cell_type": "code",
   "execution_count": null,
   "metadata": {},
   "outputs": [],
   "source": [
    "between_with_from_indest = pd.merge(rebalance_between_destinations_df, from_indest[[\"value\", \"hash\"]], on=\"hash\")\n",
    "\n",
    "between_with_from_indest[\"hash\"].value_counts()"
   ]
  },
  {
   "cell_type": "code",
   "execution_count": null,
   "metadata": {},
   "outputs": [],
   "source": []
  },
  {
   "cell_type": "code",
   "execution_count": null,
   "metadata": {},
   "outputs": [],
   "source": []
  },
  {
   "cell_type": "code",
   "execution_count": null,
   "metadata": {},
   "outputs": [],
   "source": [
    "rebalance_between_destinations_df[\n",
    "    rebalance_between_destinations_df[\"hash\"] == \"0x5a088e71e51c5b8c05db282989f21975d14e44d9c615aa00e451a68dcbebd0dc\"\n",
    "]"
   ]
  },
  {
   "cell_type": "code",
   "execution_count": null,
   "metadata": {},
   "outputs": [],
   "source": [
    "# 0x5a088e71e51c5b8c05db282989f21975d14e44d9c615aa00e451a68dcbebd0dc rebalances more than one block"
   ]
  },
  {
   "cell_type": "code",
   "execution_count": null,
   "metadata": {},
   "outputs": [],
   "source": [
    "transfers_from_vaults[\n",
    "    transfers_from_vaults[\"hash\"] == \"0x5a088e71e51c5b8c05db282989f21975d14e44d9c615aa00e451a68dcbebd0dc\"\n",
    "]"
   ]
  },
  {
   "cell_type": "code",
   "execution_count": null,
   "metadata": {},
   "outputs": [],
   "source": []
  },
  {
   "cell_type": "code",
   "execution_count": null,
   "metadata": {},
   "outputs": [],
   "source": [
    "transfers_from_vaults[\"hash\"].value_counts()"
   ]
  },
  {
   "cell_type": "code",
   "execution_count": null,
   "metadata": {},
   "outputs": [],
   "source": [
    "# # def compute_swap_cost_when_rebalancing_between_destinations(\n",
    "# #     rebalance_not_from_idle_df: pd.DataFrame, autopool: AutopoolConstants, transfer_events_df: pd.DataFrame, validated_spot_price_df:pd.DataFrame\n",
    "# # ) -> pd.DataFrame:\n",
    "# #     # out means decrease\n",
    "# #     # in means increase\n",
    "# #     if (rebalance_not_from_idle_df[\"outDestinationVault\"] == autopool.autopool_eth_addr).any():\n",
    "# #         raise ValueError(\n",
    "# #             \"trying to compute_swap_cost_when_rebalancing_between_destinations when the outDestinationVault == autopool eg, exiting the autopool \"\n",
    "# #         )\n",
    "\n",
    "\n",
    "# #     limited_transfer_df = (\n",
    "# #         transfer_events_df[\n",
    "# #             (transfer_events_df[\"hash\"].isin(rebalance_not_from_idle_df[\"hash\"]))\n",
    "# #         ]\n",
    "\n",
    "# #         .drop_duplicates()\n",
    "# #         .copy()\n",
    "# #     )\n",
    "# #     return limited_transfer_df\n",
    "\n",
    "\n",
    "# #\n",
    "\n",
    "# # limited_transfer_df = compute_swap_cost_when_rebalancing_between_destinations(\n",
    "# #     rebalance_events_df.copy(), AUTO_ETH, transfer_events_df, validated_spot_price_df\n",
    "# # )\n",
    "\n",
    "# # transfers_to_vaults['to_value'] = transfers_to_vaults['value'] /1e18\n",
    "# # transfers_to_vaults['to_token'] = transfers_to_vaults['token_address']\n",
    "\n",
    "# # transfers_from_vaults['from_value'] = transfers_from_vaults['value'] /1e18\n",
    "# # transfers_from_vaults['from_token'] = transfers_from_vaults['token_address']\n",
    "\n",
    "# def build_lp_token_moved_df(row):\n",
    "\n",
    "#     return {\n",
    "#         'DesinationIncreased': row['to_token'],\n",
    "#         'DestinationDecreased': row['from_token'],\n",
    "#         'amountIncreased': row['to_value'],\n",
    "#         'amountDecreased': row['from_value'],\n",
    "#         'hash':row['hash'],\n",
    "#         'block': row['block']\n",
    "#     }\n",
    "\n",
    "# limited_transfer_df['hash'].value_counts()"
   ]
  },
  {
   "cell_type": "code",
   "execution_count": null,
   "metadata": {},
   "outputs": [],
   "source": [
    "rebalance_events_df"
   ]
  },
  {
   "cell_type": "code",
   "execution_count": null,
   "metadata": {},
   "outputs": [],
   "source": [
    "transfers_from_vaults"
   ]
  },
  {
   "cell_type": "code",
   "execution_count": null,
   "metadata": {},
   "outputs": [],
   "source": [
    "rebalance_events_df[\"inDestinationVault\"].value_counts()"
   ]
  },
  {
   "cell_type": "code",
   "execution_count": null,
   "metadata": {},
   "outputs": [],
   "source": [
    "rebalance_events_df[\"outDestinationVault\"].value_counts()"
   ]
  },
  {
   "cell_type": "code",
   "execution_count": null,
   "metadata": {},
   "outputs": [],
   "source": [
    "AUTO_ETH.autopool_eth_addr"
   ]
  },
  {
   "cell_type": "code",
   "execution_count": null,
   "metadata": {},
   "outputs": [],
   "source": [
    "rebalance_from_idle_df.sort_values(\"rebalance_cost\")[[\"hash\", \"rebalance_cost\"]].values[0]"
   ]
  },
  {
   "cell_type": "markdown",
   "metadata": {},
   "source": [
    "0xf06978787ae75d235cedd61c07b1e2a9037df86378f37a90eb683c87db8f98b2\n",
    "\n",
    "This rebalance, my math thinks that"
   ]
  },
  {
   "cell_type": "code",
   "execution_count": null,
   "metadata": {},
   "outputs": [],
   "source": [
    "rebalance_from_idle_df[\"valueStats_swap_cost\"] = rebalance_from_idle_df[\"valueStats\"].apply(lambda x: x[4] / 1e18)\n",
    "px.line(rebalance_from_idle_df[[\"rebalance_cost\", \"valueStats_swap_cost\"]])"
   ]
  },
  {
   "cell_type": "code",
   "execution_count": null,
   "metadata": {},
   "outputs": [],
   "source": []
  },
  {
   "cell_type": "code",
   "execution_count": null,
   "metadata": {},
   "outputs": [],
   "source": [
    "dest_to_dest = lp_token_transfer_df[(lp_token_transfer_df[\"hash\"] == tx_hash)].copy().drop_duplicates()\n",
    "dest_to_dest"
   ]
  },
  {
   "cell_type": "markdown",
   "metadata": {},
   "source": []
  },
  {
   "cell_type": "code",
   "execution_count": null,
   "metadata": {},
   "outputs": [],
   "source": [
    "# 165151197070039380229 expect outDestinationLpToken to be down"
   ]
  },
  {
   "cell_type": "markdown",
   "metadata": {},
   "source": [
    "today I am working more on fixing the overestimate the rebalancing cost on the dashboard. "
   ]
  },
  {
   "cell_type": "code",
   "execution_count": null,
   "metadata": {},
   "outputs": [],
   "source": [
    "# idle -> destination valueStats.amountOut == quantiy of eth that left\n",
    "#"
   ]
  },
  {
   "cell_type": "code",
   "execution_count": null,
   "metadata": {},
   "outputs": [],
   "source": [
    "rebalance_events_df.shape"
   ]
  },
  {
   "cell_type": "code",
   "execution_count": null,
   "metadata": {},
   "outputs": [],
   "source": []
  },
  {
   "cell_type": "code",
   "execution_count": null,
   "metadata": {},
   "outputs": [],
   "source": [
    "160795862717038788608 + 419684887152871954"
   ]
  },
  {
   "cell_type": "code",
   "execution_count": null,
   "metadata": {},
   "outputs": [],
   "source": [
    "dest_to_dest[dest_to_dest[\"token_address\"] == inDestinationVault]"
   ]
  },
  {
   "cell_type": "code",
   "execution_count": null,
   "metadata": {},
   "outputs": [],
   "source": [
    "dest_to_dest[dest_to_dest[\"token_address\"] == outDestinationVault]"
   ]
  },
  {
   "cell_type": "code",
   "execution_count": null,
   "metadata": {},
   "outputs": [],
   "source": [
    "dest_to_dest[dest_to_dest[\"to\"] == outDestinationVault]"
   ]
  },
  {
   "cell_type": "code",
   "execution_count": null,
   "metadata": {},
   "outputs": [],
   "source": [
    "dest_to_dest[dest_to_dest[\"from\"] == outDestinationVault]\n",
    "# destination vault -> flash borrow solver 0x067cB94576aBBDB3527055f3c8CaAAc9668364AD\n",
    "# is the quanikty t"
   ]
  },
  {
   "cell_type": "code",
   "execution_count": null,
   "metadata": {},
   "outputs": [],
   "source": [
    "dest_to_dest[\"to\"].value_counts()"
   ]
  },
  {
   "cell_type": "code",
   "execution_count": null,
   "metadata": {},
   "outputs": [],
   "source": [
    "rebalance_events_df.values[-1]  # 73804358107532979104"
   ]
  },
  {
   "cell_type": "code",
   "execution_count": null,
   "metadata": {},
   "outputs": [],
   "source": [
    "rebalance_events_df"
   ]
  },
  {
   "cell_type": "code",
   "execution_count": null,
   "metadata": {},
   "outputs": [],
   "source": []
  }
 ],
 "metadata": {
  "kernelspec": {
   "display_name": ".venv",
   "language": "python",
   "name": "python3"
  },
  "language_info": {
   "codemirror_mode": {
    "name": "ipython",
    "version": 3
   },
   "file_extension": ".py",
   "mimetype": "text/x-python",
   "name": "python",
   "nbconvert_exporter": "python",
   "pygments_lexer": "ipython3",
   "version": "3.10.14"
  }
 },
 "nbformat": 4,
 "nbformat_minor": 2
}
