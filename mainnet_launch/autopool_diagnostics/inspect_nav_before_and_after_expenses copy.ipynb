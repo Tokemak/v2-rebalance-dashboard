{
 "cells": [
  {
   "cell_type": "code",
   "execution_count": 77,
   "metadata": {},
   "outputs": [
    {
     "name": "stderr",
     "output_type": "stream",
     "text": [
      "2024-11-08 09:36:54.687 Thread 'MainThread': missing ScriptRunContext! This warning can be ignored when running in bare mode.\n",
      "2024-11-08 09:36:54.689 Thread 'MainThread': missing ScriptRunContext! This warning can be ignored when running in bare mode.\n",
      "2024-11-08 09:36:54.689 Thread 'MainThread': missing ScriptRunContext! This warning can be ignored when running in bare mode.\n",
      "2024-11-08 09:36:54.690 Thread 'MainThread': missing ScriptRunContext! This warning can be ignored when running in bare mode.\n",
      "2024-11-08 09:36:54.690 Thread 'MainThread': missing ScriptRunContext! This warning can be ignored when running in bare mode.\n"
     ]
    }
   ],
   "source": [
    "import streamlit as st\n",
    "import pandas as pd\n",
    "import plotly.express as px\n",
    "import plotly.io as pio\n",
    "\n",
    "pio.templates.default = None\n",
    "\n",
    "from mainnet_launch.constants import AutopoolConstants, CACHE_TIME, eth_client\n",
    "from mainnet_launch.constants import BAL_ETH, AUTO_ETH, AUTO_LRT\n",
    "from mainnet_launch.lens_contract import get_pools_and_destinations_call, build_proxyGetDestinationSummaryStats_call\n",
    "from mainnet_launch.data_fetching.get_state_by_block import get_raw_state_by_blocks, get_state_by_one_block\n",
    "from mainnet_launch.destinations import DestinationDetails, get_destination_details\n",
    "from mainnet_launch.data_fetching.get_state_by_block import build_blocks_to_use\n",
    "from mainnet_launch.destinations import DestinationDetails, get_destination_details\n",
    "\n",
    "destinations = [d for d in get_destination_details() if d.autopool.name == \"balETH\"]"
   ]
  },
  {
   "cell_type": "code",
   "execution_count": 79,
   "metadata": {},
   "outputs": [
    {
     "name": "stderr",
     "output_type": "stream",
     "text": [
      "2024-11-08 09:37:04.900 Thread 'MainThread': missing ScriptRunContext! This warning can be ignored when running in bare mode.\n",
      "2024-11-08 09:37:04.901 Thread 'MainThread': missing ScriptRunContext! This warning can be ignored when running in bare mode.\n",
      "2024-11-08 09:37:04.901 Thread 'MainThread': missing ScriptRunContext! This warning can be ignored when running in bare mode.\n",
      "2024-11-08 09:37:04.902 Thread 'MainThread': missing ScriptRunContext! This warning can be ignored when running in bare mode.\n",
      "2024-11-08 09:37:04.903 Thread 'MainThread': missing ScriptRunContext! This warning can be ignored when running in bare mode.\n"
     ]
    }
   ],
   "source": [
    "calls = []\n",
    "for i, d in enumerate(destinations):\n",
    "    name = d.vault_name + \" \" + str(i)\n",
    "    call = build_proxyGetDestinationSummaryStats_call(\n",
    "        name, BAL_ETH.autopool_eth_strategy_addr, d.vaultAddress, \"out\", 0\n",
    "    )\n",
    "    calls.append(call)\n",
    "\n",
    "\n",
    "# first_few_blocks_with_rebalances = [20765628, 20769006, 20774007]\n",
    "blocks = build_blocks_to_use()[::4]\n",
    "df = get_raw_state_by_blocks(calls, blocks)\n",
    "\n",
    "pool_and_destination_df = get_raw_state_by_blocks([get_pools_and_destinations_call()], blocks)"
   ]
  },
  {
   "cell_type": "code",
   "execution_count": 86,
   "metadata": {},
   "outputs": [
    {
     "data": {
      "text/plain": [
       "{'destination': '0xc4eb861e7b66f593482a3d7e8adc314f6eeda30b',\n",
       " 'baseApr': 0.0,\n",
       " 'feeApr': 0.001207138085204381,\n",
       " 'incentiveApr': 0.0749428060091571,\n",
       " 'safeTotalSupply': 7941.103574991685,\n",
       " 'priceReturn': 0.000655848505393187,\n",
       " 'maxDiscount': 0.001344844913896252,\n",
       " 'maxPremium': 0.0,\n",
       " 'ownedShares': 3490.2746063160325,\n",
       " 'compositeReturn': 0.06931151199883896,\n",
       " 'pricePerShare': 1.0017989086070422}"
      ]
     },
     "execution_count": 86,
     "metadata": {},
     "output_type": "execute_result"
    }
   ],
   "source": [
    "df_cell = df['pxETH/wETH (balancer) 24'].values[-1]\n",
    "df_cell"
   ]
  },
  {
   "cell_type": "code",
   "execution_count": null,
   "metadata": {},
   "outputs": [],
   "source": [
    "# /// @inheritdoc IAutopoolStrategy\n",
    "# function getDestinationSummaryStats(\n",
    "#     address destAddress,\n",
    "#     IAutopoolStrategy.RebalanceDirection direction,\n",
    "#     uint256 amount\n",
    "# ) external returns (IStrategy.SummaryStats memory) {\n",
    "#     address token =\n",
    "#         destAddress == address(autoPool) ? autoPool.asset() : IDestinationVault(destAddress).underlying();\n",
    "#     uint256 outPrice = _getInOutTokenPriceInEth(token, destAddress);\n",
    "#     return SummaryStats.getDestinationSummaryStats(\n",
    "#         autoPool, systemRegistry.incentivePricing(), destAddress, outPrice, direction, amount\n",
    "#     );\n",
    "# }\n",
    "\n",
    "\n",
    "# need the same pricing method used in the \n",
    "\n",
    "# /// @notice Gets the safe price of the underlying LP token\n",
    "# /// @dev Price validated to be inside our tolerance against spot price. Will revert if outside.\n",
    "# /// @return price Value of 1 unit of the underlying LP token in terms of the base asset\n",
    "# function getValidatedSafePrice() external returns (uint256 price);\n",
    "\n",
    "\n",
    "# function calculatePriceReturns(\n",
    "#     IDexLSTStats.DexLSTStatsData memory stats\n",
    "# ) external view returns (int256[] memory) {\n",
    "#     IAutopoolStrategy strategy = IAutopoolStrategy(address(this));\n",
    "\n",
    "#     ILSTStats.LSTStatsData[] memory lstStatsData = stats.lstStatsData;\n",
    "\n",
    "#     uint256 numLsts = lstStatsData.length;\n",
    "#     int256[] memory priceReturns = new int256[](numLsts);\n",
    "#     int256 maxDiscount = strategy.maxAllowedDiscount();\n",
    "\n",
    "#     for (uint256 i = 0; i < numLsts; ++i) {\n",
    "#         ILSTStats.LSTStatsData memory data = lstStatsData[i];\n",
    "\n",
    "#         uint256 scalingFactor = 1e18; // default scalingFactor is 1\n",
    "\n",
    "#         int256 discount = data.discount;\n",
    "#         if (discount > maxDiscount) {\n",
    "#             discount = maxDiscount;\n",
    "#         }\n",
    "\n",
    "#         // discount value that is negative indicates LST price premium\n",
    "#         // scalingFactor = 1e18 for premiums and discounts that are small\n",
    "#         // discountTimestampByPercent holds the timestamp for 1% discount\n",
    "#         uint40 discountTimestampByPercent = data.discountTimestampByPercent;\n",
    "\n",
    "#         // 1e16 means a 1% LST discount where full scale is 1e18.\n",
    "#         if ((discount > 1e16) && (discountTimestampByPercent > 0)) {\n",
    "#             // linear approximation for exponential function with approx. half life of 30 days\n",
    "#             uint256 halfLifeSec = 30 * 24 * 60 * 60;\n",
    "#             // current timestamp should be strictly >= timestamp in discountTimestampByPercent\n",
    "#             uint256 timeSinceDiscountSec = uint256(uint40(block.timestamp) - discountTimestampByPercent);\n",
    "#             scalingFactor >>= (timeSinceDiscountSec / halfLifeSec);\n",
    "#             // slither-disable-next-line weak-prng\n",
    "#             timeSinceDiscountSec %= halfLifeSec;\n",
    "#             scalingFactor -= scalingFactor * timeSinceDiscountSec / halfLifeSec / 2;\n",
    "#         }\n",
    "#         priceReturns[i] = discount * StrategyUtils.convertUintToInt(scalingFactor) / 1e18;\n",
    "#     }\n",
    "\n",
    "#     return priceReturns;\n",
    "# }\n",
    "\n",
    "# price return != undelrygin value - safe value\n",
    "\n",
    "\n"
   ]
  },
  {
   "cell_type": "code",
   "execution_count": 107,
   "metadata": {},
   "outputs": [
    {
     "data": {
      "text/plain": [
       "Index(['ezETH-WETH-BPT (balancer) 0', 'rsETH / ETHx (balancer) 1',\n",
       "       'rsETH / WETH (balancer) 2', 'ECLP-wstETH-wETH (balancer) 3',\n",
       "       'ezETH-WETH-BPT (balancer) 4', 'ETHx/wstETH (balancer) 5',\n",
       "       'ECLP-wstETH-cbETH (balancer) 6', 'ezETH-WETH-BPT (balancer) 7',\n",
       "       'weETH/ezETH/rswETH (balancer) 8', 'weETH/ezETH/rswETH (balancer) 9',\n",
       "       'rsETH / WETH (balancer) 10', 'osETH/wETH-BPT (balancer) 11',\n",
       "       'ECLP-wstETH-wETH (balancer) 12', 'weETH/ezETH/rswETH (balancer) 13',\n",
       "       'balETH (tokemak) 14', 'wstETH-WETH-BPT (balancer) 15',\n",
       "       'pxETH/wETH (balancer) 16', 'rsETH / WETH (balancer) 17',\n",
       "       'B-rETH-STABLE (balancer) 18', 'ECLP-wstETH-cbETH (balancer) 19',\n",
       "       'osETH/wETH-BPT (balancer) 20', 'ETHx/wstETH (balancer) 21',\n",
       "       'osETH/wETH-BPT (balancer) 22', 'B-rETH-STABLE (balancer) 23',\n",
       "       'pxETH/wETH (balancer) 24', 'wstETH-WETH-BPT (balancer) 25',\n",
       "       'ECLP-wstETH-wETH (balancer) 26', 'wstETH-WETH-BPT (balancer) 27',\n",
       "       'ECLP-wstETH-cbETH (balancer) 28', 'B-rETH-STABLE (balancer) 29',\n",
       "       'pxETH/wETH (balancer) 30', 'weETH/rETH (balancer) 31',\n",
       "       'rsETH / ETHx (balancer) 32', 'weETH/rETH (balancer) 33',\n",
       "       'weETH/rETH (balancer) 34', 'ETHx/wstETH (balancer) 35',\n",
       "       'rsETH / ETHx (balancer) 36'],\n",
       "      dtype='object')"
      ]
     },
     "execution_count": 107,
     "metadata": {},
     "output_type": "execute_result"
    }
   ],
   "source": [
    "df.columns"
   ]
  },
  {
   "cell_type": "code",
   "execution_count": null,
   "metadata": {},
   "outputs": [
    {
     "data": {
      "application/vnd.plotly.v1+json": {
       "config": {
        "plotlyServerURL": "https://plot.ly"
       },
       "data": [
        {
         "hovertemplate": "price_return=%{x}<br>price_per_share=%{y}<extra></extra>",
         "legendgroup": "",
         "marker": {
          "color": "#636efa",
          "symbol": "circle"
         },
         "mode": "markers",
         "name": "",
         "orientation": "v",
         "showlegend": false,
         "type": "scatter",
         "x": [
          null,
          -0.000301822579536444,
          -0.000235292298957482,
          0.000384368754390388,
          0.000322105814829388,
          0.000338139049227671,
          -0.00021950744489261,
          0.000281787385695389,
          0.000307804665462588,
          0.000108805367038275,
          0.000138530922819661,
          0.000312437546603359,
          -0.000170476378626696,
          -0.000154574331071676,
          0.000526660825260301,
          0.000549766326900468,
          -0.000045395072177995,
          -0.000118737391280013,
          -0.00011561183343177,
          0.000279339854105463,
          0.000328460314135634,
          0.000028751324260817,
          0.000211173003366038,
          0.000237103506136799,
          0.000214357734716069,
          0.000120397759918764,
          0.000237092040159681,
          -0.000216881850723791,
          -0.00010629005296823,
          0.000124107926450374,
          0.000022686844117384,
          0.000071337446940975,
          -0.000163881793869843,
          -0.000133466099930157,
          0.000164232808440101,
          0.000130865365661786,
          0.000178555689886227,
          0.000064024675413954,
          0.00012285764267569,
          0.000031663391224469,
          0.000158962605982022
         ],
         "xaxis": "x",
         "y": [
          null,
          1.0194067613452207,
          1.0194006022145294,
          1.0185948893612902,
          1.0186315483988875,
          1.018620200371582,
          1.019454143289366,
          1.0188218732001086,
          1.0187986372128603,
          1.0190789999197294,
          1.019038984377367,
          1.0189800562977924,
          1.0196928072785412,
          1.0196542478002018,
          1.018855705366913,
          1.0188403511063515,
          1.019535648204876,
          1.0197311315087996,
          1.0197338239524438,
          1.0193312112247686,
          1.0192934125585478,
          1.0196483915061476,
          1.0194950908416824,
          1.0194623392646731,
          1.0194787627020447,
          1.0196481502320212,
          1.0195432907454387,
          1.0200534921136042,
          1.0200412891387234,
          1.0200981607661344,
          1.020081834239829,
          1.0200767141467604,
          1.0203322418655518,
          1.0203176165497163,
          1.0200468839663177,
          1.0199620999422252,
          1.0199283059904183,
          1.0201799559778868,
          1.0201620401317966,
          1.020249289439265,
          1.0201532435124065
         ],
         "yaxis": "y"
        },
        {
         "hovertemplate": "<b>OLS trendline</b><br>price_per_share = -1.41985 * price_return + 1.0197<br>R<sup>2</sup>=0.338854<br><br>price_return=%{x}<br>price_per_share=%{y} <b>(trend)</b><extra></extra>",
         "legendgroup": "",
         "marker": {
          "color": "#636efa",
          "symbol": "circle"
         },
         "mode": "lines",
         "name": "",
         "showlegend": false,
         "type": "scatter",
         "x": [
          -0.000301822579536444,
          -0.000235292298957482,
          -0.00021950744489261,
          -0.000216881850723791,
          -0.000170476378626696,
          -0.000163881793869843,
          -0.000154574331071676,
          -0.000133466099930157,
          -0.000118737391280013,
          -0.00011561183343177,
          -0.00010629005296823,
          -0.000045395072177995,
          0.000022686844117384,
          0.000028751324260817,
          0.000031663391224469,
          0.000064024675413954,
          0.000071337446940975,
          0.000108805367038275,
          0.000120397759918764,
          0.00012285764267569,
          0.000124107926450374,
          0.000130865365661786,
          0.000138530922819661,
          0.000158962605982022,
          0.000164232808440101,
          0.000178555689886227,
          0.000211173003366038,
          0.000214357734716069,
          0.000237092040159681,
          0.000237103506136799,
          0.000279339854105463,
          0.000281787385695389,
          0.000307804665462588,
          0.000312437546603359,
          0.000322105814829388,
          0.000328460314135634,
          0.000338139049227671,
          0.000384368754390388,
          0.000526660825260301,
          0.000549766326900468
         ],
         "xaxis": "x",
         "y": [
          1.020132397718577,
          1.0200379344216852,
          1.0200155222306806,
          1.0200117942698284,
          1.0199459052663555,
          1.0199365419176314,
          1.0199233266776841,
          1.0198933560674923,
          1.0198724434489683,
          1.0198680056125966,
          1.0198547700436522,
          1.0197683080507138,
          1.0196716416573661,
          1.0196630309798926,
          1.0196588962694455,
          1.0196129479648601,
          1.0196025648956495,
          1.019549365912731,
          1.0195329064052583,
          1.0195294137304467,
          1.0195276385098047,
          1.0195180439315028,
          1.01950715995814,
          1.0194781499474235,
          1.0194706670284406,
          1.019450330625368,
          1.0194040187965248,
          1.0193994969424094,
          1.0193672175438249,
          1.0193672012638093,
          1.0193072318086518,
          1.0193037566706964,
          1.0192668159272997,
          1.0192602379116524,
          1.0192465103806108,
          1.019237487918217,
          1.0192237455257518,
          1.0191581060856953,
          1.018956072094271,
          1.0189232656512157
         ],
         "yaxis": "y"
        }
       ],
       "layout": {
        "legend": {
         "tracegroupgap": 0
        },
        "margin": {
         "t": 60
        },
        "template": {
         "data": {
          "bar": [
           {
            "error_x": {
             "color": "#2a3f5f"
            },
            "error_y": {
             "color": "#2a3f5f"
            },
            "marker": {
             "line": {
              "color": "#E5ECF6",
              "width": 0.5
             },
             "pattern": {
              "fillmode": "overlay",
              "size": 10,
              "solidity": 0.2
             }
            },
            "type": "bar"
           }
          ],
          "barpolar": [
           {
            "marker": {
             "line": {
              "color": "#E5ECF6",
              "width": 0.5
             },
             "pattern": {
              "fillmode": "overlay",
              "size": 10,
              "solidity": 0.2
             }
            },
            "type": "barpolar"
           }
          ],
          "carpet": [
           {
            "aaxis": {
             "endlinecolor": "#2a3f5f",
             "gridcolor": "white",
             "linecolor": "white",
             "minorgridcolor": "white",
             "startlinecolor": "#2a3f5f"
            },
            "baxis": {
             "endlinecolor": "#2a3f5f",
             "gridcolor": "white",
             "linecolor": "white",
             "minorgridcolor": "white",
             "startlinecolor": "#2a3f5f"
            },
            "type": "carpet"
           }
          ],
          "choropleth": [
           {
            "colorbar": {
             "outlinewidth": 0,
             "ticks": ""
            },
            "type": "choropleth"
           }
          ],
          "contour": [
           {
            "colorbar": {
             "outlinewidth": 0,
             "ticks": ""
            },
            "colorscale": [
             [
              0,
              "#0d0887"
             ],
             [
              0.1111111111111111,
              "#46039f"
             ],
             [
              0.2222222222222222,
              "#7201a8"
             ],
             [
              0.3333333333333333,
              "#9c179e"
             ],
             [
              0.4444444444444444,
              "#bd3786"
             ],
             [
              0.5555555555555556,
              "#d8576b"
             ],
             [
              0.6666666666666666,
              "#ed7953"
             ],
             [
              0.7777777777777778,
              "#fb9f3a"
             ],
             [
              0.8888888888888888,
              "#fdca26"
             ],
             [
              1,
              "#f0f921"
             ]
            ],
            "type": "contour"
           }
          ],
          "contourcarpet": [
           {
            "colorbar": {
             "outlinewidth": 0,
             "ticks": ""
            },
            "type": "contourcarpet"
           }
          ],
          "heatmap": [
           {
            "colorbar": {
             "outlinewidth": 0,
             "ticks": ""
            },
            "colorscale": [
             [
              0,
              "#0d0887"
             ],
             [
              0.1111111111111111,
              "#46039f"
             ],
             [
              0.2222222222222222,
              "#7201a8"
             ],
             [
              0.3333333333333333,
              "#9c179e"
             ],
             [
              0.4444444444444444,
              "#bd3786"
             ],
             [
              0.5555555555555556,
              "#d8576b"
             ],
             [
              0.6666666666666666,
              "#ed7953"
             ],
             [
              0.7777777777777778,
              "#fb9f3a"
             ],
             [
              0.8888888888888888,
              "#fdca26"
             ],
             [
              1,
              "#f0f921"
             ]
            ],
            "type": "heatmap"
           }
          ],
          "heatmapgl": [
           {
            "colorbar": {
             "outlinewidth": 0,
             "ticks": ""
            },
            "colorscale": [
             [
              0,
              "#0d0887"
             ],
             [
              0.1111111111111111,
              "#46039f"
             ],
             [
              0.2222222222222222,
              "#7201a8"
             ],
             [
              0.3333333333333333,
              "#9c179e"
             ],
             [
              0.4444444444444444,
              "#bd3786"
             ],
             [
              0.5555555555555556,
              "#d8576b"
             ],
             [
              0.6666666666666666,
              "#ed7953"
             ],
             [
              0.7777777777777778,
              "#fb9f3a"
             ],
             [
              0.8888888888888888,
              "#fdca26"
             ],
             [
              1,
              "#f0f921"
             ]
            ],
            "type": "heatmapgl"
           }
          ],
          "histogram": [
           {
            "marker": {
             "pattern": {
              "fillmode": "overlay",
              "size": 10,
              "solidity": 0.2
             }
            },
            "type": "histogram"
           }
          ],
          "histogram2d": [
           {
            "colorbar": {
             "outlinewidth": 0,
             "ticks": ""
            },
            "colorscale": [
             [
              0,
              "#0d0887"
             ],
             [
              0.1111111111111111,
              "#46039f"
             ],
             [
              0.2222222222222222,
              "#7201a8"
             ],
             [
              0.3333333333333333,
              "#9c179e"
             ],
             [
              0.4444444444444444,
              "#bd3786"
             ],
             [
              0.5555555555555556,
              "#d8576b"
             ],
             [
              0.6666666666666666,
              "#ed7953"
             ],
             [
              0.7777777777777778,
              "#fb9f3a"
             ],
             [
              0.8888888888888888,
              "#fdca26"
             ],
             [
              1,
              "#f0f921"
             ]
            ],
            "type": "histogram2d"
           }
          ],
          "histogram2dcontour": [
           {
            "colorbar": {
             "outlinewidth": 0,
             "ticks": ""
            },
            "colorscale": [
             [
              0,
              "#0d0887"
             ],
             [
              0.1111111111111111,
              "#46039f"
             ],
             [
              0.2222222222222222,
              "#7201a8"
             ],
             [
              0.3333333333333333,
              "#9c179e"
             ],
             [
              0.4444444444444444,
              "#bd3786"
             ],
             [
              0.5555555555555556,
              "#d8576b"
             ],
             [
              0.6666666666666666,
              "#ed7953"
             ],
             [
              0.7777777777777778,
              "#fb9f3a"
             ],
             [
              0.8888888888888888,
              "#fdca26"
             ],
             [
              1,
              "#f0f921"
             ]
            ],
            "type": "histogram2dcontour"
           }
          ],
          "mesh3d": [
           {
            "colorbar": {
             "outlinewidth": 0,
             "ticks": ""
            },
            "type": "mesh3d"
           }
          ],
          "parcoords": [
           {
            "line": {
             "colorbar": {
              "outlinewidth": 0,
              "ticks": ""
             }
            },
            "type": "parcoords"
           }
          ],
          "pie": [
           {
            "automargin": true,
            "type": "pie"
           }
          ],
          "scatter": [
           {
            "fillpattern": {
             "fillmode": "overlay",
             "size": 10,
             "solidity": 0.2
            },
            "type": "scatter"
           }
          ],
          "scatter3d": [
           {
            "line": {
             "colorbar": {
              "outlinewidth": 0,
              "ticks": ""
             }
            },
            "marker": {
             "colorbar": {
              "outlinewidth": 0,
              "ticks": ""
             }
            },
            "type": "scatter3d"
           }
          ],
          "scattercarpet": [
           {
            "marker": {
             "colorbar": {
              "outlinewidth": 0,
              "ticks": ""
             }
            },
            "type": "scattercarpet"
           }
          ],
          "scattergeo": [
           {
            "marker": {
             "colorbar": {
              "outlinewidth": 0,
              "ticks": ""
             }
            },
            "type": "scattergeo"
           }
          ],
          "scattergl": [
           {
            "marker": {
             "colorbar": {
              "outlinewidth": 0,
              "ticks": ""
             }
            },
            "type": "scattergl"
           }
          ],
          "scattermapbox": [
           {
            "marker": {
             "colorbar": {
              "outlinewidth": 0,
              "ticks": ""
             }
            },
            "type": "scattermapbox"
           }
          ],
          "scatterpolar": [
           {
            "marker": {
             "colorbar": {
              "outlinewidth": 0,
              "ticks": ""
             }
            },
            "type": "scatterpolar"
           }
          ],
          "scatterpolargl": [
           {
            "marker": {
             "colorbar": {
              "outlinewidth": 0,
              "ticks": ""
             }
            },
            "type": "scatterpolargl"
           }
          ],
          "scatterternary": [
           {
            "marker": {
             "colorbar": {
              "outlinewidth": 0,
              "ticks": ""
             }
            },
            "type": "scatterternary"
           }
          ],
          "surface": [
           {
            "colorbar": {
             "outlinewidth": 0,
             "ticks": ""
            },
            "colorscale": [
             [
              0,
              "#0d0887"
             ],
             [
              0.1111111111111111,
              "#46039f"
             ],
             [
              0.2222222222222222,
              "#7201a8"
             ],
             [
              0.3333333333333333,
              "#9c179e"
             ],
             [
              0.4444444444444444,
              "#bd3786"
             ],
             [
              0.5555555555555556,
              "#d8576b"
             ],
             [
              0.6666666666666666,
              "#ed7953"
             ],
             [
              0.7777777777777778,
              "#fb9f3a"
             ],
             [
              0.8888888888888888,
              "#fdca26"
             ],
             [
              1,
              "#f0f921"
             ]
            ],
            "type": "surface"
           }
          ],
          "table": [
           {
            "cells": {
             "fill": {
              "color": "#EBF0F8"
             },
             "line": {
              "color": "white"
             }
            },
            "header": {
             "fill": {
              "color": "#C8D4E3"
             },
             "line": {
              "color": "white"
             }
            },
            "type": "table"
           }
          ]
         },
         "layout": {
          "annotationdefaults": {
           "arrowcolor": "#2a3f5f",
           "arrowhead": 0,
           "arrowwidth": 1
          },
          "autotypenumbers": "strict",
          "coloraxis": {
           "colorbar": {
            "outlinewidth": 0,
            "ticks": ""
           }
          },
          "colorscale": {
           "diverging": [
            [
             0,
             "#8e0152"
            ],
            [
             0.1,
             "#c51b7d"
            ],
            [
             0.2,
             "#de77ae"
            ],
            [
             0.3,
             "#f1b6da"
            ],
            [
             0.4,
             "#fde0ef"
            ],
            [
             0.5,
             "#f7f7f7"
            ],
            [
             0.6,
             "#e6f5d0"
            ],
            [
             0.7,
             "#b8e186"
            ],
            [
             0.8,
             "#7fbc41"
            ],
            [
             0.9,
             "#4d9221"
            ],
            [
             1,
             "#276419"
            ]
           ],
           "sequential": [
            [
             0,
             "#0d0887"
            ],
            [
             0.1111111111111111,
             "#46039f"
            ],
            [
             0.2222222222222222,
             "#7201a8"
            ],
            [
             0.3333333333333333,
             "#9c179e"
            ],
            [
             0.4444444444444444,
             "#bd3786"
            ],
            [
             0.5555555555555556,
             "#d8576b"
            ],
            [
             0.6666666666666666,
             "#ed7953"
            ],
            [
             0.7777777777777778,
             "#fb9f3a"
            ],
            [
             0.8888888888888888,
             "#fdca26"
            ],
            [
             1,
             "#f0f921"
            ]
           ],
           "sequentialminus": [
            [
             0,
             "#0d0887"
            ],
            [
             0.1111111111111111,
             "#46039f"
            ],
            [
             0.2222222222222222,
             "#7201a8"
            ],
            [
             0.3333333333333333,
             "#9c179e"
            ],
            [
             0.4444444444444444,
             "#bd3786"
            ],
            [
             0.5555555555555556,
             "#d8576b"
            ],
            [
             0.6666666666666666,
             "#ed7953"
            ],
            [
             0.7777777777777778,
             "#fb9f3a"
            ],
            [
             0.8888888888888888,
             "#fdca26"
            ],
            [
             1,
             "#f0f921"
            ]
           ]
          },
          "colorway": [
           "#636efa",
           "#EF553B",
           "#00cc96",
           "#ab63fa",
           "#FFA15A",
           "#19d3f3",
           "#FF6692",
           "#B6E880",
           "#FF97FF",
           "#FECB52"
          ],
          "font": {
           "color": "#2a3f5f"
          },
          "geo": {
           "bgcolor": "white",
           "lakecolor": "white",
           "landcolor": "#E5ECF6",
           "showlakes": true,
           "showland": true,
           "subunitcolor": "white"
          },
          "hoverlabel": {
           "align": "left"
          },
          "hovermode": "closest",
          "mapbox": {
           "style": "light"
          },
          "paper_bgcolor": "white",
          "plot_bgcolor": "#E5ECF6",
          "polar": {
           "angularaxis": {
            "gridcolor": "white",
            "linecolor": "white",
            "ticks": ""
           },
           "bgcolor": "#E5ECF6",
           "radialaxis": {
            "gridcolor": "white",
            "linecolor": "white",
            "ticks": ""
           }
          },
          "scene": {
           "xaxis": {
            "backgroundcolor": "#E5ECF6",
            "gridcolor": "white",
            "gridwidth": 2,
            "linecolor": "white",
            "showbackground": true,
            "ticks": "",
            "zerolinecolor": "white"
           },
           "yaxis": {
            "backgroundcolor": "#E5ECF6",
            "gridcolor": "white",
            "gridwidth": 2,
            "linecolor": "white",
            "showbackground": true,
            "ticks": "",
            "zerolinecolor": "white"
           },
           "zaxis": {
            "backgroundcolor": "#E5ECF6",
            "gridcolor": "white",
            "gridwidth": 2,
            "linecolor": "white",
            "showbackground": true,
            "ticks": "",
            "zerolinecolor": "white"
           }
          },
          "shapedefaults": {
           "line": {
            "color": "#2a3f5f"
           }
          },
          "ternary": {
           "aaxis": {
            "gridcolor": "white",
            "linecolor": "white",
            "ticks": ""
           },
           "baxis": {
            "gridcolor": "white",
            "linecolor": "white",
            "ticks": ""
           },
           "bgcolor": "#E5ECF6",
           "caxis": {
            "gridcolor": "white",
            "linecolor": "white",
            "ticks": ""
           }
          },
          "title": {
           "x": 0.05
          },
          "xaxis": {
           "automargin": true,
           "gridcolor": "white",
           "linecolor": "white",
           "ticks": "",
           "title": {
            "standoff": 15
           },
           "zerolinecolor": "white",
           "zerolinewidth": 2
          },
          "yaxis": {
           "automargin": true,
           "gridcolor": "white",
           "linecolor": "white",
           "ticks": "",
           "title": {
            "standoff": 15
           },
           "zerolinecolor": "white",
           "zerolinewidth": 2
          }
         }
        },
        "xaxis": {
         "anchor": "y",
         "domain": [
          0,
          1
         ],
         "title": {
          "text": "price_return"
         }
        },
        "yaxis": {
         "anchor": "x",
         "domain": [
          0,
          1
         ],
         "title": {
          "text": "price_per_share"
         }
        }
       }
      }
     },
     "metadata": {},
     "output_type": "display_data"
    }
   ],
   "source": [
    "\n",
    "pricePerShare = df.map(lambda cell: cell[\"pricePerShare\"] if isinstance(cell, dict) else None).astype(float)\n",
    "priceReturn = df.map(lambda cell: cell[\"priceReturn\"] if isinstance(cell, dict) else None).astype(float)\n",
    "\n",
    "col = 'weETH/rETH (balancer) 34'\n",
    "price_return = priceReturn[col]\n",
    "price_per_share = pricePerShare[col]\n",
    "\n",
    "pr_df = pd.DataFrame()\n",
    "pr_df['price_return'] = price_return\n",
    "pr_df['price_per_share'] = price_per_share\n",
    "pr_df['prior_price_per_share'] = pr_df['price_per_share'].shift(1)\n",
    "# pr_df=pr_df[(pr_df.index > '10-1-2024') & (pr_df.index < '10-13-2024')].copy()\n",
    "pr_df=pr_df[pr_df['price_return']!= 0].copy()\n",
    "# different princin gmethids?\n",
    "# what does price reutn use? safe price? \n",
    "px.scatter(pr_df,  'price_return', 'price_per_share', trendline='ols')"
   ]
  },
  {
   "cell_type": "code",
   "execution_count": 109,
   "metadata": {},
   "outputs": [
    {
     "data": {
      "application/vnd.plotly.v1+json": {
       "config": {
        "plotlyServerURL": "https://plot.ly"
       },
       "data": [
        {
         "hovertemplate": "price_return=%{x}<br>price_per_share=%{y}<extra></extra>",
         "legendgroup": "",
         "marker": {
          "color": "#636efa",
          "symbol": "circle"
         },
         "mode": "markers",
         "name": "",
         "orientation": "v",
         "showlegend": false,
         "type": "scatter",
         "x": [
          null,
          -0.001236648411700317,
          0.001948123969776483,
          0.001465432885777412,
          0.001444957977056839,
          0.000625182413593869,
          0.000532122719704145,
          0.000487842255045325,
          0.000534806804925382,
          0.000324277207291843,
          0.000370523887101485,
          0.00013370482298782,
          -0.00001612027756847,
          0.000031612275305664,
          0.00006190889234119,
          0.000079200586326618,
          0.00005284460581771,
          0.001013338234133448,
          0.001036336743924626,
          0.000946485112521937,
          0.001003445566040236,
          0.000784613593789524,
          0.000729704583312318,
          0.000788304743948521,
          0.00069273367529626,
          0.000667072205032648,
          0.00072468646134825,
          0.00068202023817644,
          0.000741366082124117,
          0.00070719786992555,
          0.000514372715517083,
          0.00054045399373145,
          0.000643119537858678,
          0.000671333755310346,
          0.000451970743087256,
          0.000458410809608579,
          0.000495429727694996,
          0.000437230866444008,
          0.000491410654354446,
          0.000541955736435592,
          0.000502655575691264,
          0.000557666708667483,
          0.000504058813239233,
          0.000649082546362617,
          0.001202216689857342,
          0.001059358394150415,
          0.001083300611242624,
          0.001063574895837416,
          0.001047503841994334
         ],
         "xaxis": "x",
         "y": [
          null,
          1.0038160466810675,
          0.9999598950673594,
          1.0005956224905375,
          1.0006125692205894,
          1.0017101936430297,
          1.001834703607846,
          1.0019048484942186,
          1.001821711747372,
          1.0020568987105918,
          1.001995030832775,
          1.0023117632552916,
          1.002507021425614,
          1.0024486052310126,
          1.0024081044188238,
          1.0023846805725534,
          1.0025912205351157,
          1.0013063224655065,
          1.0012567037019808,
          1.00136105071836,
          1.0012797521892034,
          1.0015429456066944,
          1.0016164293762415,
          1.0015379693434823,
          1.0016658555349063,
          1.0017001835467867,
          1.0016230807605706,
          1.0016801748235673,
          1.001602450808368,
          1.0016450630314382,
          1.0019021575459939,
          1.0018672650757345,
          1.001732198828435,
          1.0016934154145563,
          1.0019678207332452,
          1.0019592056019426,
          1.0018889970480693,
          1.0019668571918812,
          1.001894424827315,
          1.0018317599253268,
          1.0018843412405731,
          1.0018107385690433,
          1.0018824638520523,
          1.001851689671176,
          1.0010916891989752,
          1.0012735281490088,
          1.00124147754906,
          1.0012563688699618,
          1.0012778818333146
         ],
         "yaxis": "y"
        },
        {
         "hovertemplate": "<b>OLS trendline</b><br>price_per_share = -1.21033 * price_return + 1.00249<br>R<sup>2</sup>=0.989329<br><br>price_return=%{x}<br>price_per_share=%{y} <b>(trend)</b><extra></extra>",
         "legendgroup": "",
         "marker": {
          "color": "#636efa",
          "symbol": "circle"
         },
         "mode": "lines",
         "name": "",
         "showlegend": false,
         "type": "scatter",
         "x": [
          -0.001236648411700317,
          -0.00001612027756847,
          0.000031612275305664,
          0.00005284460581771,
          0.00006190889234119,
          0.000079200586326618,
          0.00013370482298782,
          0.000324277207291843,
          0.000370523887101485,
          0.000437230866444008,
          0.000451970743087256,
          0.000458410809608579,
          0.000487842255045325,
          0.000491410654354446,
          0.000495429727694996,
          0.000502655575691264,
          0.000504058813239233,
          0.000514372715517083,
          0.000532122719704145,
          0.000534806804925382,
          0.00054045399373145,
          0.000541955736435592,
          0.000557666708667483,
          0.000625182413593869,
          0.000643119537858678,
          0.000649082546362617,
          0.000667072205032648,
          0.000671333755310346,
          0.00068202023817644,
          0.00069273367529626,
          0.00070719786992555,
          0.00072468646134825,
          0.000729704583312318,
          0.000741366082124117,
          0.000784613593789524,
          0.000788304743948521,
          0.000946485112521937,
          0.001003445566040236,
          0.001013338234133448,
          0.001036336743924626,
          0.001047503841994334,
          0.001059358394150415,
          0.001063574895837416,
          0.001083300611242624,
          0.001202216689857342,
          0.001444957977056839,
          0.001465432885777412,
          0.001948123969776483
         ],
         "xaxis": "x",
         "y": [
          1.0039903091298086,
          1.0025130646152605,
          1.002455292369028,
          1.0024295941955055,
          1.0024186233975612,
          1.0023976947033566,
          1.0023317264701175,
          1.0021010705749644,
          1.0020450967287626,
          1.001964359123,
          1.0019465189755201,
          1.0019387243555715,
          1.0019031025291583,
          1.0018987835805346,
          1.001893919166614,
          1.0018851734900363,
          1.001883475106433,
          1.0018709918582902,
          1.0018495084564862,
          1.0018462598216873,
          1.0018394248471765,
          1.0018376072396098,
          1.0018185917438596,
          1.0017368753114733,
          1.001715165432212,
          1.0017079482109483,
          1.0016861747476042,
          1.0016810168560364,
          1.001668082661607,
          1.0016551158435756,
          1.0016376093629171,
          1.001616442357402,
          1.0016103687627527,
          1.0015962544751182,
          1.001543910618726,
          1.001539443100795,
          1.0013479923056434,
          1.0012790512340262,
          1.0012670778191852,
          1.0012392419819918,
          1.0012257260835002,
          1.001211378137185,
          1.0012062747693775,
          1.0011824001006477,
          1.0010384721403551,
          1.000744674541642,
          1.0007198931001107,
          1.0001356765334306
         ],
         "yaxis": "y"
        }
       ],
       "layout": {
        "legend": {
         "tracegroupgap": 0
        },
        "margin": {
         "t": 60
        },
        "template": {
         "data": {
          "bar": [
           {
            "error_x": {
             "color": "#2a3f5f"
            },
            "error_y": {
             "color": "#2a3f5f"
            },
            "marker": {
             "line": {
              "color": "#E5ECF6",
              "width": 0.5
             },
             "pattern": {
              "fillmode": "overlay",
              "size": 10,
              "solidity": 0.2
             }
            },
            "type": "bar"
           }
          ],
          "barpolar": [
           {
            "marker": {
             "line": {
              "color": "#E5ECF6",
              "width": 0.5
             },
             "pattern": {
              "fillmode": "overlay",
              "size": 10,
              "solidity": 0.2
             }
            },
            "type": "barpolar"
           }
          ],
          "carpet": [
           {
            "aaxis": {
             "endlinecolor": "#2a3f5f",
             "gridcolor": "white",
             "linecolor": "white",
             "minorgridcolor": "white",
             "startlinecolor": "#2a3f5f"
            },
            "baxis": {
             "endlinecolor": "#2a3f5f",
             "gridcolor": "white",
             "linecolor": "white",
             "minorgridcolor": "white",
             "startlinecolor": "#2a3f5f"
            },
            "type": "carpet"
           }
          ],
          "choropleth": [
           {
            "colorbar": {
             "outlinewidth": 0,
             "ticks": ""
            },
            "type": "choropleth"
           }
          ],
          "contour": [
           {
            "colorbar": {
             "outlinewidth": 0,
             "ticks": ""
            },
            "colorscale": [
             [
              0,
              "#0d0887"
             ],
             [
              0.1111111111111111,
              "#46039f"
             ],
             [
              0.2222222222222222,
              "#7201a8"
             ],
             [
              0.3333333333333333,
              "#9c179e"
             ],
             [
              0.4444444444444444,
              "#bd3786"
             ],
             [
              0.5555555555555556,
              "#d8576b"
             ],
             [
              0.6666666666666666,
              "#ed7953"
             ],
             [
              0.7777777777777778,
              "#fb9f3a"
             ],
             [
              0.8888888888888888,
              "#fdca26"
             ],
             [
              1,
              "#f0f921"
             ]
            ],
            "type": "contour"
           }
          ],
          "contourcarpet": [
           {
            "colorbar": {
             "outlinewidth": 0,
             "ticks": ""
            },
            "type": "contourcarpet"
           }
          ],
          "heatmap": [
           {
            "colorbar": {
             "outlinewidth": 0,
             "ticks": ""
            },
            "colorscale": [
             [
              0,
              "#0d0887"
             ],
             [
              0.1111111111111111,
              "#46039f"
             ],
             [
              0.2222222222222222,
              "#7201a8"
             ],
             [
              0.3333333333333333,
              "#9c179e"
             ],
             [
              0.4444444444444444,
              "#bd3786"
             ],
             [
              0.5555555555555556,
              "#d8576b"
             ],
             [
              0.6666666666666666,
              "#ed7953"
             ],
             [
              0.7777777777777778,
              "#fb9f3a"
             ],
             [
              0.8888888888888888,
              "#fdca26"
             ],
             [
              1,
              "#f0f921"
             ]
            ],
            "type": "heatmap"
           }
          ],
          "heatmapgl": [
           {
            "colorbar": {
             "outlinewidth": 0,
             "ticks": ""
            },
            "colorscale": [
             [
              0,
              "#0d0887"
             ],
             [
              0.1111111111111111,
              "#46039f"
             ],
             [
              0.2222222222222222,
              "#7201a8"
             ],
             [
              0.3333333333333333,
              "#9c179e"
             ],
             [
              0.4444444444444444,
              "#bd3786"
             ],
             [
              0.5555555555555556,
              "#d8576b"
             ],
             [
              0.6666666666666666,
              "#ed7953"
             ],
             [
              0.7777777777777778,
              "#fb9f3a"
             ],
             [
              0.8888888888888888,
              "#fdca26"
             ],
             [
              1,
              "#f0f921"
             ]
            ],
            "type": "heatmapgl"
           }
          ],
          "histogram": [
           {
            "marker": {
             "pattern": {
              "fillmode": "overlay",
              "size": 10,
              "solidity": 0.2
             }
            },
            "type": "histogram"
           }
          ],
          "histogram2d": [
           {
            "colorbar": {
             "outlinewidth": 0,
             "ticks": ""
            },
            "colorscale": [
             [
              0,
              "#0d0887"
             ],
             [
              0.1111111111111111,
              "#46039f"
             ],
             [
              0.2222222222222222,
              "#7201a8"
             ],
             [
              0.3333333333333333,
              "#9c179e"
             ],
             [
              0.4444444444444444,
              "#bd3786"
             ],
             [
              0.5555555555555556,
              "#d8576b"
             ],
             [
              0.6666666666666666,
              "#ed7953"
             ],
             [
              0.7777777777777778,
              "#fb9f3a"
             ],
             [
              0.8888888888888888,
              "#fdca26"
             ],
             [
              1,
              "#f0f921"
             ]
            ],
            "type": "histogram2d"
           }
          ],
          "histogram2dcontour": [
           {
            "colorbar": {
             "outlinewidth": 0,
             "ticks": ""
            },
            "colorscale": [
             [
              0,
              "#0d0887"
             ],
             [
              0.1111111111111111,
              "#46039f"
             ],
             [
              0.2222222222222222,
              "#7201a8"
             ],
             [
              0.3333333333333333,
              "#9c179e"
             ],
             [
              0.4444444444444444,
              "#bd3786"
             ],
             [
              0.5555555555555556,
              "#d8576b"
             ],
             [
              0.6666666666666666,
              "#ed7953"
             ],
             [
              0.7777777777777778,
              "#fb9f3a"
             ],
             [
              0.8888888888888888,
              "#fdca26"
             ],
             [
              1,
              "#f0f921"
             ]
            ],
            "type": "histogram2dcontour"
           }
          ],
          "mesh3d": [
           {
            "colorbar": {
             "outlinewidth": 0,
             "ticks": ""
            },
            "type": "mesh3d"
           }
          ],
          "parcoords": [
           {
            "line": {
             "colorbar": {
              "outlinewidth": 0,
              "ticks": ""
             }
            },
            "type": "parcoords"
           }
          ],
          "pie": [
           {
            "automargin": true,
            "type": "pie"
           }
          ],
          "scatter": [
           {
            "fillpattern": {
             "fillmode": "overlay",
             "size": 10,
             "solidity": 0.2
            },
            "type": "scatter"
           }
          ],
          "scatter3d": [
           {
            "line": {
             "colorbar": {
              "outlinewidth": 0,
              "ticks": ""
             }
            },
            "marker": {
             "colorbar": {
              "outlinewidth": 0,
              "ticks": ""
             }
            },
            "type": "scatter3d"
           }
          ],
          "scattercarpet": [
           {
            "marker": {
             "colorbar": {
              "outlinewidth": 0,
              "ticks": ""
             }
            },
            "type": "scattercarpet"
           }
          ],
          "scattergeo": [
           {
            "marker": {
             "colorbar": {
              "outlinewidth": 0,
              "ticks": ""
             }
            },
            "type": "scattergeo"
           }
          ],
          "scattergl": [
           {
            "marker": {
             "colorbar": {
              "outlinewidth": 0,
              "ticks": ""
             }
            },
            "type": "scattergl"
           }
          ],
          "scattermapbox": [
           {
            "marker": {
             "colorbar": {
              "outlinewidth": 0,
              "ticks": ""
             }
            },
            "type": "scattermapbox"
           }
          ],
          "scatterpolar": [
           {
            "marker": {
             "colorbar": {
              "outlinewidth": 0,
              "ticks": ""
             }
            },
            "type": "scatterpolar"
           }
          ],
          "scatterpolargl": [
           {
            "marker": {
             "colorbar": {
              "outlinewidth": 0,
              "ticks": ""
             }
            },
            "type": "scatterpolargl"
           }
          ],
          "scatterternary": [
           {
            "marker": {
             "colorbar": {
              "outlinewidth": 0,
              "ticks": ""
             }
            },
            "type": "scatterternary"
           }
          ],
          "surface": [
           {
            "colorbar": {
             "outlinewidth": 0,
             "ticks": ""
            },
            "colorscale": [
             [
              0,
              "#0d0887"
             ],
             [
              0.1111111111111111,
              "#46039f"
             ],
             [
              0.2222222222222222,
              "#7201a8"
             ],
             [
              0.3333333333333333,
              "#9c179e"
             ],
             [
              0.4444444444444444,
              "#bd3786"
             ],
             [
              0.5555555555555556,
              "#d8576b"
             ],
             [
              0.6666666666666666,
              "#ed7953"
             ],
             [
              0.7777777777777778,
              "#fb9f3a"
             ],
             [
              0.8888888888888888,
              "#fdca26"
             ],
             [
              1,
              "#f0f921"
             ]
            ],
            "type": "surface"
           }
          ],
          "table": [
           {
            "cells": {
             "fill": {
              "color": "#EBF0F8"
             },
             "line": {
              "color": "white"
             }
            },
            "header": {
             "fill": {
              "color": "#C8D4E3"
             },
             "line": {
              "color": "white"
             }
            },
            "type": "table"
           }
          ]
         },
         "layout": {
          "annotationdefaults": {
           "arrowcolor": "#2a3f5f",
           "arrowhead": 0,
           "arrowwidth": 1
          },
          "autotypenumbers": "strict",
          "coloraxis": {
           "colorbar": {
            "outlinewidth": 0,
            "ticks": ""
           }
          },
          "colorscale": {
           "diverging": [
            [
             0,
             "#8e0152"
            ],
            [
             0.1,
             "#c51b7d"
            ],
            [
             0.2,
             "#de77ae"
            ],
            [
             0.3,
             "#f1b6da"
            ],
            [
             0.4,
             "#fde0ef"
            ],
            [
             0.5,
             "#f7f7f7"
            ],
            [
             0.6,
             "#e6f5d0"
            ],
            [
             0.7,
             "#b8e186"
            ],
            [
             0.8,
             "#7fbc41"
            ],
            [
             0.9,
             "#4d9221"
            ],
            [
             1,
             "#276419"
            ]
           ],
           "sequential": [
            [
             0,
             "#0d0887"
            ],
            [
             0.1111111111111111,
             "#46039f"
            ],
            [
             0.2222222222222222,
             "#7201a8"
            ],
            [
             0.3333333333333333,
             "#9c179e"
            ],
            [
             0.4444444444444444,
             "#bd3786"
            ],
            [
             0.5555555555555556,
             "#d8576b"
            ],
            [
             0.6666666666666666,
             "#ed7953"
            ],
            [
             0.7777777777777778,
             "#fb9f3a"
            ],
            [
             0.8888888888888888,
             "#fdca26"
            ],
            [
             1,
             "#f0f921"
            ]
           ],
           "sequentialminus": [
            [
             0,
             "#0d0887"
            ],
            [
             0.1111111111111111,
             "#46039f"
            ],
            [
             0.2222222222222222,
             "#7201a8"
            ],
            [
             0.3333333333333333,
             "#9c179e"
            ],
            [
             0.4444444444444444,
             "#bd3786"
            ],
            [
             0.5555555555555556,
             "#d8576b"
            ],
            [
             0.6666666666666666,
             "#ed7953"
            ],
            [
             0.7777777777777778,
             "#fb9f3a"
            ],
            [
             0.8888888888888888,
             "#fdca26"
            ],
            [
             1,
             "#f0f921"
            ]
           ]
          },
          "colorway": [
           "#636efa",
           "#EF553B",
           "#00cc96",
           "#ab63fa",
           "#FFA15A",
           "#19d3f3",
           "#FF6692",
           "#B6E880",
           "#FF97FF",
           "#FECB52"
          ],
          "font": {
           "color": "#2a3f5f"
          },
          "geo": {
           "bgcolor": "white",
           "lakecolor": "white",
           "landcolor": "#E5ECF6",
           "showlakes": true,
           "showland": true,
           "subunitcolor": "white"
          },
          "hoverlabel": {
           "align": "left"
          },
          "hovermode": "closest",
          "mapbox": {
           "style": "light"
          },
          "paper_bgcolor": "white",
          "plot_bgcolor": "#E5ECF6",
          "polar": {
           "angularaxis": {
            "gridcolor": "white",
            "linecolor": "white",
            "ticks": ""
           },
           "bgcolor": "#E5ECF6",
           "radialaxis": {
            "gridcolor": "white",
            "linecolor": "white",
            "ticks": ""
           }
          },
          "scene": {
           "xaxis": {
            "backgroundcolor": "#E5ECF6",
            "gridcolor": "white",
            "gridwidth": 2,
            "linecolor": "white",
            "showbackground": true,
            "ticks": "",
            "zerolinecolor": "white"
           },
           "yaxis": {
            "backgroundcolor": "#E5ECF6",
            "gridcolor": "white",
            "gridwidth": 2,
            "linecolor": "white",
            "showbackground": true,
            "ticks": "",
            "zerolinecolor": "white"
           },
           "zaxis": {
            "backgroundcolor": "#E5ECF6",
            "gridcolor": "white",
            "gridwidth": 2,
            "linecolor": "white",
            "showbackground": true,
            "ticks": "",
            "zerolinecolor": "white"
           }
          },
          "shapedefaults": {
           "line": {
            "color": "#2a3f5f"
           }
          },
          "ternary": {
           "aaxis": {
            "gridcolor": "white",
            "linecolor": "white",
            "ticks": ""
           },
           "baxis": {
            "gridcolor": "white",
            "linecolor": "white",
            "ticks": ""
           },
           "bgcolor": "#E5ECF6",
           "caxis": {
            "gridcolor": "white",
            "linecolor": "white",
            "ticks": ""
           }
          },
          "title": {
           "x": 0.05
          },
          "xaxis": {
           "automargin": true,
           "gridcolor": "white",
           "linecolor": "white",
           "ticks": "",
           "title": {
            "standoff": 15
           },
           "zerolinecolor": "white",
           "zerolinewidth": 2
          },
          "yaxis": {
           "automargin": true,
           "gridcolor": "white",
           "linecolor": "white",
           "ticks": "",
           "title": {
            "standoff": 15
           },
           "zerolinecolor": "white",
           "zerolinewidth": 2
          }
         }
        },
        "xaxis": {
         "anchor": "y",
         "domain": [
          0,
          1
         ],
         "title": {
          "text": "price_return"
         }
        },
        "yaxis": {
         "anchor": "x",
         "domain": [
          0,
          1
         ],
         "title": {
          "text": "price_per_share"
         }
        }
       }
      }
     },
     "metadata": {},
     "output_type": "display_data"
    }
   ],
   "source": [
    "col = 'pxETH/wETH (balancer) 30'\n",
    "price_return = priceReturn[col]\n",
    "price_per_share = pricePerShare[col]\n",
    "\n",
    "pr_df = pd.DataFrame()\n",
    "pr_df['price_return'] = price_return\n",
    "pr_df['price_per_share'] = price_per_share\n",
    "pr_df['prior_price_per_share'] = pr_df['price_per_share'].shift(1)\n",
    "# pr_df=pr_df[(pr_df.index > '10-1-2024') & (pr_df.index < '10-13-2024')].copy()\n",
    "pr_df=pr_df[pr_df['price_return']!= 0].copy()\n",
    "# different princin gmethids?\n",
    "# what does price reutn use? safe price? \n",
    "px.scatter(pr_df,  'price_return', 'price_per_share', trendline='ols')"
   ]
  },
  {
   "attachments": {
    "image.png": {
     "image/png": "[encoded data removed]"
    }
   },
   "cell_type": "markdown",
   "metadata": {},
   "source": [
    "![image.png](attachment:image.png)"
   ]
  },
  {
   "cell_type": "code",
   "execution_count": null,
   "metadata": {},
   "outputs": [],
   "source": [
    "# function getRangePricesLP(\n",
    "#     address lpToken,\n",
    "#     address pool,\n",
    "#     address quoteToken\n",
    "# ) external returns (uint256 spotPriceInQuote, uint256 safePriceInQuote, bool isSpotSafe) \n",
    "\n",
    "# use the safePrice in quote\n",
    "\n",
    "# can we add an underlyign value function\n",
    "\n",
    "# get undelrying value of a LST? eg the consensus layer value?\n",
    "\n",
    "# we can't use the \n",
    "\n",
    "\n",
    "\n",
    "# why is this hard?\n",
    "\n",
    "# price return != expected apriaction of the LP tokens\n",
    "\n",
    "# 1.  price return is path dependent, if a token is at at small discount for a while then the price reutn decreases\n",
    "# 2. price return cannot look at just the reserves becasue the % of tokens we have will change over time\n",
    "\n",
    "\n",
    "\n",
    "\n",
    "\n"
   ]
  },
  {
   "cell_type": "markdown",
   "metadata": {},
   "source": [
    "Why is there not a linear relationshipe here?"
   ]
  },
  {
   "cell_type": "code",
   "execution_count": null,
   "metadata": {},
   "outputs": [
    {
     "data": {
      "text/plain": [
       "1.00249"
      ]
     },
     "execution_count": 106,
     "metadata": {},
     "output_type": "execute_result"
    }
   ],
   "source": [
    "def compute_price_per_share_from_price_return(pr:float) -> float:\n",
    "    return (-1.21033 * pr) + 1.00249\n",
    "\n",
    "compute_price_per_share_from_price_return(0)\n",
    "# it is not neccessilary seeded at 1\n"
   ]
  },
  {
   "cell_type": "code",
   "execution_count": null,
   "metadata": {},
   "outputs": [],
   "source": []
  },
  {
   "cell_type": "markdown",
   "metadata": {},
   "source": [
    "the slope of that line is the relationship between price return and"
   ]
  },
  {
   "cell_type": "code",
   "execution_count": null,
   "metadata": {},
   "outputs": [],
   "source": []
  },
  {
   "cell_type": "code",
   "execution_count": null,
   "metadata": {},
   "outputs": [
    {
     "data": {
      "text/html": [
       "<div>\n",
       "<style scoped>\n",
       "    .dataframe tbody tr th:only-of-type {\n",
       "        vertical-align: middle;\n",
       "    }\n",
       "\n",
       "    .dataframe tbody tr th {\n",
       "        vertical-align: top;\n",
       "    }\n",
       "\n",
       "    .dataframe thead th {\n",
       "        text-align: right;\n",
       "    }\n",
       "</style>\n",
       "<table border=\"1\" class=\"dataframe\">\n",
       "  <thead>\n",
       "    <tr style=\"text-align: right;\">\n",
       "      <th></th>\n",
       "      <th>price_return</th>\n",
       "      <th>price_per_share</th>\n",
       "      <th>prior_price_per_share</th>\n",
       "    </tr>\n",
       "    <tr>\n",
       "      <th>timestamp</th>\n",
       "      <th></th>\n",
       "      <th></th>\n",
       "      <th></th>\n",
       "    </tr>\n",
       "  </thead>\n",
       "  <tbody>\n",
       "    <tr>\n",
       "      <th>2024-10-06 11:27:47+00:00</th>\n",
       "      <td>0.000458</td>\n",
       "      <td>1.001959</td>\n",
       "      <td>1.001968</td>\n",
       "    </tr>\n",
       "    <tr>\n",
       "      <th>2024-10-07 02:07:35+00:00</th>\n",
       "      <td>0.000495</td>\n",
       "      <td>1.001889</td>\n",
       "      <td>1.001959</td>\n",
       "    </tr>\n",
       "    <tr>\n",
       "      <th>2024-10-07 16:46:47+00:00</th>\n",
       "      <td>0.000437</td>\n",
       "      <td>1.001967</td>\n",
       "      <td>1.001889</td>\n",
       "    </tr>\n",
       "    <tr>\n",
       "      <th>2024-10-08 07:25:35+00:00</th>\n",
       "      <td>0.000491</td>\n",
       "      <td>1.001894</td>\n",
       "      <td>1.001967</td>\n",
       "    </tr>\n",
       "    <tr>\n",
       "      <th>2024-10-08 22:04:47+00:00</th>\n",
       "      <td>0.000542</td>\n",
       "      <td>1.001832</td>\n",
       "      <td>1.001894</td>\n",
       "    </tr>\n",
       "    <tr>\n",
       "      <th>2024-10-09 12:43:59+00:00</th>\n",
       "      <td>0.000503</td>\n",
       "      <td>1.001884</td>\n",
       "      <td>1.001832</td>\n",
       "    </tr>\n",
       "    <tr>\n",
       "      <th>2024-10-10 03:22:23+00:00</th>\n",
       "      <td>0.000558</td>\n",
       "      <td>1.001811</td>\n",
       "      <td>1.001884</td>\n",
       "    </tr>\n",
       "    <tr>\n",
       "      <th>2024-10-10 18:01:11+00:00</th>\n",
       "      <td>0.000504</td>\n",
       "      <td>1.001882</td>\n",
       "      <td>1.001811</td>\n",
       "    </tr>\n",
       "    <tr>\n",
       "      <th>2024-10-11 08:40:59+00:00</th>\n",
       "      <td>0.000649</td>\n",
       "      <td>1.001852</td>\n",
       "      <td>1.001882</td>\n",
       "    </tr>\n",
       "    <tr>\n",
       "      <th>2024-10-11 23:23:35+00:00</th>\n",
       "      <td>0.001202</td>\n",
       "      <td>1.001092</td>\n",
       "      <td>1.001852</td>\n",
       "    </tr>\n",
       "    <tr>\n",
       "      <th>2024-10-12 14:06:59+00:00</th>\n",
       "      <td>0.001059</td>\n",
       "      <td>1.001274</td>\n",
       "      <td>1.001092</td>\n",
       "    </tr>\n",
       "  </tbody>\n",
       "</table>\n",
       "</div>"
      ],
      "text/plain": [
       "                           price_return  price_per_share  \\\n",
       "timestamp                                                  \n",
       "2024-10-06 11:27:47+00:00      0.000458         1.001959   \n",
       "2024-10-07 02:07:35+00:00      0.000495         1.001889   \n",
       "2024-10-07 16:46:47+00:00      0.000437         1.001967   \n",
       "2024-10-08 07:25:35+00:00      0.000491         1.001894   \n",
       "2024-10-08 22:04:47+00:00      0.000542         1.001832   \n",
       "2024-10-09 12:43:59+00:00      0.000503         1.001884   \n",
       "2024-10-10 03:22:23+00:00      0.000558         1.001811   \n",
       "2024-10-10 18:01:11+00:00      0.000504         1.001882   \n",
       "2024-10-11 08:40:59+00:00      0.000649         1.001852   \n",
       "2024-10-11 23:23:35+00:00      0.001202         1.001092   \n",
       "2024-10-12 14:06:59+00:00      0.001059         1.001274   \n",
       "\n",
       "                           prior_price_per_share  \n",
       "timestamp                                         \n",
       "2024-10-06 11:27:47+00:00               1.001968  \n",
       "2024-10-07 02:07:35+00:00               1.001959  \n",
       "2024-10-07 16:46:47+00:00               1.001889  \n",
       "2024-10-08 07:25:35+00:00               1.001967  \n",
       "2024-10-08 22:04:47+00:00               1.001894  \n",
       "2024-10-09 12:43:59+00:00               1.001832  \n",
       "2024-10-10 03:22:23+00:00               1.001884  \n",
       "2024-10-10 18:01:11+00:00               1.001811  \n",
       "2024-10-11 08:40:59+00:00               1.001882  \n",
       "2024-10-11 23:23:35+00:00               1.001852  \n",
       "2024-10-12 14:06:59+00:00               1.001092  "
      ]
     },
     "execution_count": 94,
     "metadata": {},
     "output_type": "execute_result"
    }
   ],
   "source": []
  },
  {
   "cell_type": "code",
   "execution_count": null,
   "metadata": {},
   "outputs": [
    {
     "data": {
      "text/plain": [
       "timestamp\n",
       "2024-09-15 02:04:47+00:00    1.000000\n",
       "2024-09-15 05:44:35+00:00    1.000000\n",
       "2024-09-15 09:24:47+00:00    1.000000\n",
       "2024-09-15 13:04:11+00:00    1.000000\n",
       "2024-09-15 16:44:23+00:00    1.000000\n",
       "                               ...   \n",
       "2024-11-07 21:06:59+00:00    1.004861\n",
       "2024-11-08 00:47:47+00:00    1.004821\n",
       "2024-11-08 04:29:35+00:00    1.004736\n",
       "2024-11-08 08:09:59+00:00    1.004717\n",
       "2024-11-08 11:49:35+00:00    1.004940\n",
       "Length: 357, dtype: float64"
      ]
     },
     "execution_count": 67,
     "metadata": {},
     "output_type": "execute_result"
    }
   ],
   "source": [
    "balETH_nav_per_share = pool_and_destination_df.map(lambda cell: cell[\"autopools\"][1][\"navPerShare\"] / 1e18)\n",
    "balETH_tvl_totalAssets = pool_and_destination_df.map(lambda cell: cell[\"autopools\"][1][\"totalAssets\"] / 1e18)\n",
    "balETH_tvl_totalSupply = pool_and_destination_df.map(lambda cell: cell[\"autopools\"][1][\"totalSupply\"] / 1e18)\n",
    "\n",
    "pricePerShare = df.map(lambda cell: cell[\"pricePerShare\"] if isinstance(cell, dict) else None).astype(float)\n",
    "ownedShares = df.map(lambda cell: cell[\"ownedShares\"] if isinstance(cell, dict) else None).astype(float)\n",
    "priceReturn = df.map(lambda cell: cell[\"priceReturn\"] if isinstance(cell, dict) else None).astype(float)\n",
    "destination = df.map(lambda cell: cell[\"destination\"] if isinstance(cell, dict) else None)\n",
    "tvl = (pricePerShare * ownedShares).sum(axis=1)\n",
    "scaled_tvl = ((pricePerShare / (1 - priceReturn)) * ownedShares).sum(axis=1)\n",
    "scaled_nav_per_share = scaled_tvl / balETH_tvl_totalSupply[\"getPoolsAndDestinations\"]\n",
    "scaled_nav_per_share"
   ]
  },
  {
   "cell_type": "code",
   "execution_count": null,
   "metadata": {},
   "outputs": [
    {
     "data": {
      "text/plain": [
       "Index(['ezETH-WETH-BPT (balancer) 0', 'rsETH / ETHx (balancer) 1',\n",
       "       'rsETH / WETH (balancer) 2', 'ECLP-wstETH-wETH (balancer) 3',\n",
       "       'ezETH-WETH-BPT (balancer) 4', 'ETHx/wstETH (balancer) 5',\n",
       "       'ECLP-wstETH-cbETH (balancer) 6', 'ezETH-WETH-BPT (balancer) 7',\n",
       "       'weETH/ezETH/rswETH (balancer) 8', 'weETH/ezETH/rswETH (balancer) 9',\n",
       "       'rsETH / WETH (balancer) 10', 'osETH/wETH-BPT (balancer) 11',\n",
       "       'ECLP-wstETH-wETH (balancer) 12', 'weETH/ezETH/rswETH (balancer) 13',\n",
       "       'balETH (tokemak) 14', 'wstETH-WETH-BPT (balancer) 15',\n",
       "       'pxETH/wETH (balancer) 16', 'rsETH / WETH (balancer) 17',\n",
       "       'B-rETH-STABLE (balancer) 18', 'ECLP-wstETH-cbETH (balancer) 19',\n",
       "       'osETH/wETH-BPT (balancer) 20', 'ETHx/wstETH (balancer) 21',\n",
       "       'osETH/wETH-BPT (balancer) 22', 'B-rETH-STABLE (balancer) 23',\n",
       "       'pxETH/wETH (balancer) 24', 'wstETH-WETH-BPT (balancer) 25',\n",
       "       'ECLP-wstETH-wETH (balancer) 26', 'wstETH-WETH-BPT (balancer) 27',\n",
       "       'ECLP-wstETH-cbETH (balancer) 28', 'B-rETH-STABLE (balancer) 29',\n",
       "       'pxETH/wETH (balancer) 30', 'weETH/rETH (balancer) 31',\n",
       "       'rsETH / ETHx (balancer) 32', 'weETH/rETH (balancer) 33',\n",
       "       'weETH/rETH (balancer) 34', 'ETHx/wstETH (balancer) 35',\n",
       "       'rsETH / ETHx (balancer) 36'],\n",
       "      dtype='object')"
      ]
     },
     "execution_count": 68,
     "metadata": {},
     "output_type": "execute_result"
    }
   ],
   "source": [
    "pricePerShare.columns"
   ]
  },
  {
   "cell_type": "code",
   "execution_count": null,
   "metadata": {},
   "outputs": [
    {
     "data": {
      "text/plain": [
       "timestamp\n",
       "2024-09-15 02:04:47+00:00    1.000000e-13\n",
       "2024-09-15 05:44:35+00:00    1.000000e-13\n",
       "2024-09-15 09:24:47+00:00    1.000000e-13\n",
       "2024-09-15 13:04:11+00:00    1.000000e-13\n",
       "2024-09-15 16:44:23+00:00    1.000000e-13\n",
       "                                 ...     \n",
       "2024-11-07 21:06:59+00:00    4.491797e+03\n",
       "2024-11-08 00:47:47+00:00    4.491961e+03\n",
       "2024-11-08 04:29:35+00:00    4.492213e+03\n",
       "2024-11-08 08:09:59+00:00    4.913157e+03\n",
       "2024-11-08 11:49:35+00:00    4.916870e+03\n",
       "Length: 357, dtype: float64"
      ]
     },
     "execution_count": 69,
     "metadata": {},
     "output_type": "execute_result"
    }
   ],
   "source": [
    "tvl"
   ]
  },
  {
   "cell_type": "code",
   "execution_count": null,
   "metadata": {},
   "outputs": [
    {
     "data": {
      "text/plain": [
       "(np.float64(0.000555726137776154), np.float64(1.001813335092978))"
      ]
     },
     "execution_count": 70,
     "metadata": {},
     "output_type": "execute_result"
    }
   ],
   "source": [
    "# price_return = priceReturn['pxETH/wETH (balancer) 30']\n",
    "# price_per_share = pricePerShare['pxETH/wETH (balancer) 30']\n",
    "\n",
    "# df = pd.DataFrame()\n",
    "# df['price_return'] = price_return\n",
    "# df['price_per_share'] = price_per_share\n",
    "# df['prior_price_per_share'] = df['price_per_share'].shift(1)\n",
    "# price_return, current_price_per_share, _ = df.values[-200]\n",
    "\n",
    "\n",
    "# price_return, current_price_per_share"
   ]
  },
  {
   "cell_type": "code",
   "execution_count": null,
   "metadata": {},
   "outputs": [
    {
     "ename": "NameError",
     "evalue": "name 'current_price' is not defined",
     "output_type": "error",
     "traceback": [
      "\u001b[0;31m---------------------------------------------------------------------------\u001b[0m",
      "\u001b[0;31mNameError\u001b[0m                                 Traceback (most recent call last)",
      "Cell \u001b[0;32mIn[71], line 2\u001b[0m\n\u001b[1;32m      1\u001b[0m price_return_0 \u001b[38;5;241m=\u001b[39m \u001b[38;5;28mfloat\u001b[39m(price_return)\n\u001b[0;32m----> 2\u001b[0m \u001b[43mcurrent_price\u001b[49m\n",
      "\u001b[0;31mNameError\u001b[0m: name 'current_price' is not defined"
     ]
    }
   ],
   "source": [
    "price_return_0 = float(price_return)\n",
    "current_price"
   ]
  },
  {
   "cell_type": "code",
   "execution_count": null,
   "metadata": {},
   "outputs": [
    {
     "data": {
      "text/plain": [
       "(np.float64(0.0), np.float64(1.0017989086070422))"
      ]
     },
     "execution_count": 61,
     "metadata": {},
     "output_type": "execute_result"
    }
   ],
   "source": [
    "new_price_return, new_price_per_share, _ = df.values[-1]\n",
    "\n",
    "new_price_return, new_price_per_share"
   ]
  },
  {
   "cell_type": "code",
   "execution_count": null,
   "metadata": {},
   "outputs": [
    {
     "data": {
      "application/vnd.plotly.v1+json": {
       "config": {
        "plotlyServerURL": "https://plot.ly"
       },
       "data": [
        {
         "hovertemplate": "variable=price_return<br>timestamp=%{x}<br>value=%{y}<extra></extra>",
         "legendgroup": "price_return",
         "line": {
          "color": "#636efa",
          "dash": "solid"
         },
         "marker": {
          "symbol": "circle"
         },
         "mode": "lines",
         "name": "price_return",
         "orientation": "v",
         "showlegend": true,
         "type": "scatter",
         "x": [
          "2024-09-15T02:04:47+00:00",
          "2024-09-15T05:44:35+00:00",
          "2024-09-15T09:24:47+00:00",
          "2024-09-15T13:04:11+00:00",
          "2024-09-15T16:44:23+00:00",
          "2024-09-15T20:23:35+00:00",
          "2024-09-16T00:03:11+00:00",
          "2024-09-16T03:43:47+00:00",
          "2024-09-16T07:23:23+00:00",
          "2024-09-16T11:04:47+00:00",
          "2024-09-16T14:46:11+00:00",
          "2024-09-16T18:26:47+00:00",
          "2024-09-16T22:06:23+00:00",
          "2024-09-17T01:46:35+00:00",
          "2024-09-17T05:27:47+00:00",
          "2024-09-17T09:08:35+00:00",
          "2024-09-17T12:48:23+00:00",
          "2024-09-17T16:29:11+00:00",
          "2024-09-17T20:09:47+00:00",
          "2024-09-17T23:50:47+00:00",
          "2024-09-18T03:30:35+00:00",
          "2024-09-18T07:11:35+00:00",
          "2024-09-18T10:51:35+00:00",
          "2024-09-18T14:32:23+00:00",
          "2024-09-18T18:12:23+00:00",
          "2024-09-18T21:52:47+00:00",
          "2024-09-19T01:33:11+00:00",
          "2024-09-19T05:13:23+00:00",
          "2024-09-19T08:53:23+00:00",
          "2024-09-19T12:33:23+00:00",
          "2024-09-19T16:13:23+00:00",
          "2024-09-19T19:53:23+00:00",
          "2024-09-19T23:33:11+00:00",
          "2024-09-20T03:13:35+00:00",
          "2024-09-20T06:54:11+00:00",
          "2024-09-20T10:35:11+00:00",
          "2024-09-20T14:14:59+00:00",
          "2024-09-20T17:54:59+00:00",
          "2024-09-20T21:35:23+00:00",
          "2024-09-21T01:16:23+00:00",
          "2024-09-21T04:56:23+00:00",
          "2024-09-21T08:38:11+00:00",
          "2024-09-21T12:18:11+00:00",
          "2024-09-21T15:58:11+00:00",
          "2024-09-21T19:38:11+00:00",
          "2024-09-21T23:19:11+00:00",
          "2024-09-22T02:58:47+00:00",
          "2024-09-22T06:38:35+00:00",
          "2024-09-22T10:18:23+00:00",
          "2024-09-22T13:58:11+00:00",
          "2024-09-22T17:37:59+00:00",
          "2024-09-22T21:18:11+00:00",
          "2024-09-23T00:57:47+00:00",
          "2024-09-23T04:37:23+00:00",
          "2024-09-23T08:17:35+00:00",
          "2024-09-23T11:58:59+00:00",
          "2024-09-23T15:38:59+00:00",
          "2024-09-23T19:18:59+00:00",
          "2024-09-23T22:58:59+00:00",
          "2024-09-24T02:38:47+00:00",
          "2024-09-24T06:18:23+00:00",
          "2024-09-24T09:57:47+00:00",
          "2024-09-24T13:37:23+00:00",
          "2024-09-24T17:17:47+00:00",
          "2024-09-24T20:57:11+00:00",
          "2024-09-25T00:36:59+00:00",
          "2024-09-25T04:17:23+00:00",
          "2024-09-25T07:57:11+00:00",
          "2024-09-25T11:37:35+00:00",
          "2024-09-25T15:18:35+00:00",
          "2024-09-25T18:59:35+00:00",
          "2024-09-25T22:38:47+00:00",
          "2024-09-26T02:18:35+00:00",
          "2024-09-26T05:58:23+00:00",
          "2024-09-26T09:37:59+00:00",
          "2024-09-26T13:17:35+00:00",
          "2024-09-26T16:56:59+00:00",
          "2024-09-26T20:36:59+00:00",
          "2024-09-27T00:17:47+00:00",
          "2024-09-27T03:57:35+00:00",
          "2024-09-27T07:37:11+00:00",
          "2024-09-27T11:16:59+00:00",
          "2024-09-27T14:56:47+00:00",
          "2024-09-27T18:36:47+00:00",
          "2024-09-27T22:16:11+00:00",
          "2024-09-28T01:55:59+00:00",
          "2024-09-28T05:36:23+00:00",
          "2024-09-28T09:15:59+00:00",
          "2024-09-28T12:55:47+00:00",
          "2024-09-28T16:35:23+00:00",
          "2024-09-28T20:15:47+00:00",
          "2024-09-28T23:56:35+00:00",
          "2024-09-29T03:36:47+00:00",
          "2024-09-29T07:17:11+00:00",
          "2024-09-29T10:56:47+00:00",
          "2024-09-29T14:36:35+00:00",
          "2024-09-29T18:16:11+00:00",
          "2024-09-29T21:56:47+00:00",
          "2024-09-30T01:36:35+00:00",
          "2024-09-30T05:16:35+00:00",
          "2024-09-30T08:55:59+00:00",
          "2024-09-30T12:35:23+00:00",
          "2024-09-30T16:15:11+00:00",
          "2024-09-30T19:54:47+00:00",
          "2024-09-30T23:34:23+00:00",
          "2024-10-01T03:13:59+00:00",
          "2024-10-01T06:53:59+00:00",
          "2024-10-01T10:33:35+00:00",
          "2024-10-01T14:13:47+00:00",
          "2024-10-01T17:54:11+00:00",
          "2024-10-01T21:34:23+00:00",
          "2024-10-02T01:14:11+00:00",
          "2024-10-02T04:54:11+00:00",
          "2024-10-02T08:33:47+00:00",
          "2024-10-02T12:12:59+00:00",
          "2024-10-02T15:53:11+00:00",
          "2024-10-02T19:33:23+00:00",
          "2024-10-02T23:12:47+00:00",
          "2024-10-03T02:52:11+00:00",
          "2024-10-03T06:32:23+00:00",
          "2024-10-03T10:11:59+00:00",
          "2024-10-03T13:51:59+00:00",
          "2024-10-03T17:33:23+00:00",
          "2024-10-03T21:13:47+00:00",
          "2024-10-04T00:53:11+00:00",
          "2024-10-04T04:32:23+00:00",
          "2024-10-04T08:11:59+00:00",
          "2024-10-04T11:51:23+00:00",
          "2024-10-04T15:30:59+00:00",
          "2024-10-04T19:10:35+00:00",
          "2024-10-04T22:50:23+00:00",
          "2024-10-05T02:30:35+00:00",
          "2024-10-05T06:09:59+00:00",
          "2024-10-05T09:49:59+00:00",
          "2024-10-05T13:29:23+00:00",
          "2024-10-05T17:09:23+00:00",
          "2024-10-05T20:48:59+00:00",
          "2024-10-06T00:28:11+00:00",
          "2024-10-06T04:07:47+00:00",
          "2024-10-06T07:47:35+00:00",
          "2024-10-06T11:27:47+00:00",
          "2024-10-06T15:07:47+00:00",
          "2024-10-06T18:47:35+00:00",
          "2024-10-06T22:27:23+00:00",
          "2024-10-07T02:07:35+00:00",
          "2024-10-07T05:47:35+00:00",
          "2024-10-07T09:27:11+00:00",
          "2024-10-07T13:06:35+00:00",
          "2024-10-07T16:46:47+00:00",
          "2024-10-07T20:26:23+00:00",
          "2024-10-08T00:05:59+00:00",
          "2024-10-08T03:45:47+00:00",
          "2024-10-08T07:25:35+00:00",
          "2024-10-08T11:04:59+00:00",
          "2024-10-08T14:44:47+00:00",
          "2024-10-08T18:24:11+00:00",
          "2024-10-08T22:04:47+00:00",
          "2024-10-09T01:44:35+00:00",
          "2024-10-09T05:23:47+00:00",
          "2024-10-09T09:03:35+00:00",
          "2024-10-09T12:43:59+00:00",
          "2024-10-09T16:23:11+00:00",
          "2024-10-09T20:02:59+00:00",
          "2024-10-09T23:42:35+00:00",
          "2024-10-10T03:22:23+00:00",
          "2024-10-10T07:02:23+00:00",
          "2024-10-10T10:42:11+00:00",
          "2024-10-10T14:21:47+00:00",
          "2024-10-10T18:01:11+00:00",
          "2024-10-10T21:40:59+00:00",
          "2024-10-11T01:20:35+00:00",
          "2024-10-11T05:00:35+00:00",
          "2024-10-11T08:40:59+00:00",
          "2024-10-11T12:21:35+00:00",
          "2024-10-11T16:02:35+00:00",
          "2024-10-11T19:42:47+00:00",
          "2024-10-11T23:23:35+00:00",
          "2024-10-12T03:04:23+00:00",
          "2024-10-12T06:44:47+00:00",
          "2024-10-12T10:26:35+00:00",
          "2024-10-12T14:06:59+00:00",
          "2024-10-12T17:46:59+00:00",
          "2024-10-12T21:27:35+00:00",
          "2024-10-13T01:07:59+00:00",
          "2024-10-13T04:50:11+00:00",
          "2024-10-13T08:32:47+00:00",
          "2024-10-13T12:14:23+00:00",
          "2024-10-13T15:54:11+00:00",
          "2024-10-13T19:34:11+00:00",
          "2024-10-13T23:14:47+00:00",
          "2024-10-14T02:54:59+00:00",
          "2024-10-14T06:34:47+00:00",
          "2024-10-14T10:16:11+00:00",
          "2024-10-14T13:57:11+00:00",
          "2024-10-14T17:36:59+00:00",
          "2024-10-14T21:17:23+00:00",
          "2024-10-15T00:57:23+00:00",
          "2024-10-15T04:37:47+00:00",
          "2024-10-15T08:17:23+00:00",
          "2024-10-15T11:57:59+00:00",
          "2024-10-15T15:38:35+00:00",
          "2024-10-15T19:18:59+00:00",
          "2024-10-15T22:59:11+00:00",
          "2024-10-16T02:39:59+00:00",
          "2024-10-16T06:19:59+00:00",
          "2024-10-16T09:59:59+00:00",
          "2024-10-16T13:40:11+00:00",
          "2024-10-16T17:20:11+00:00",
          "2024-10-16T21:00:23+00:00",
          "2024-10-17T00:40:59+00:00",
          "2024-10-17T04:21:11+00:00",
          "2024-10-17T08:01:11+00:00",
          "2024-10-17T11:40:47+00:00",
          "2024-10-17T15:21:11+00:00",
          "2024-10-17T19:01:23+00:00",
          "2024-10-17T22:41:35+00:00",
          "2024-10-18T02:21:35+00:00",
          "2024-10-18T06:01:59+00:00",
          "2024-10-18T09:42:11+00:00",
          "2024-10-18T13:21:47+00:00",
          "2024-10-18T17:02:11+00:00",
          "2024-10-18T20:41:47+00:00",
          "2024-10-19T00:21:47+00:00",
          "2024-10-19T04:01:47+00:00",
          "2024-10-19T07:42:23+00:00",
          "2024-10-19T11:21:59+00:00",
          "2024-10-19T15:01:59+00:00",
          "2024-10-19T18:41:47+00:00",
          "2024-10-19T22:21:23+00:00",
          "2024-10-20T02:00:47+00:00",
          "2024-10-20T05:40:47+00:00",
          "2024-10-20T09:20:35+00:00",
          "2024-10-20T12:59:59+00:00",
          "2024-10-20T16:40:59+00:00",
          "2024-10-20T20:20:47+00:00",
          "2024-10-21T00:00:59+00:00",
          "2024-10-21T03:41:35+00:00",
          "2024-10-21T07:21:35+00:00",
          "2024-10-21T11:00:59+00:00",
          "2024-10-21T14:40:59+00:00",
          "2024-10-21T18:20:23+00:00",
          "2024-10-21T22:00:35+00:00",
          "2024-10-22T01:40:59+00:00",
          "2024-10-22T05:21:11+00:00",
          "2024-10-22T09:01:23+00:00",
          "2024-10-22T12:41:35+00:00",
          "2024-10-22T16:21:35+00:00",
          "2024-10-22T20:01:35+00:00",
          "2024-10-22T23:42:23+00:00",
          "2024-10-23T03:22:35+00:00",
          "2024-10-23T07:01:35+00:00",
          "2024-10-23T10:41:35+00:00",
          "2024-10-23T14:21:11+00:00",
          "2024-10-23T18:00:59+00:00",
          "2024-10-23T21:40:11+00:00",
          "2024-10-24T01:20:47+00:00",
          "2024-10-24T05:00:47+00:00",
          "2024-10-24T08:40:59+00:00",
          "2024-10-24T12:20:35+00:00",
          "2024-10-24T16:00:35+00:00",
          "2024-10-24T19:40:11+00:00",
          "2024-10-24T23:19:59+00:00",
          "2024-10-25T02:59:59+00:00",
          "2024-10-25T06:40:11+00:00",
          "2024-10-25T10:19:35+00:00",
          "2024-10-25T13:59:35+00:00",
          "2024-10-25T17:39:35+00:00",
          "2024-10-25T21:19:11+00:00",
          "2024-10-26T00:58:59+00:00",
          "2024-10-26T04:39:23+00:00",
          "2024-10-26T08:19:11+00:00",
          "2024-10-26T11:59:59+00:00",
          "2024-10-26T15:40:35+00:00",
          "2024-10-26T19:20:11+00:00",
          "2024-10-26T22:59:59+00:00",
          "2024-10-27T02:40:11+00:00",
          "2024-10-27T06:19:47+00:00",
          "2024-10-27T09:59:23+00:00",
          "2024-10-27T13:40:11+00:00",
          "2024-10-27T17:19:47+00:00",
          "2024-10-27T20:59:11+00:00",
          "2024-10-28T00:38:35+00:00",
          "2024-10-28T04:18:47+00:00",
          "2024-10-28T07:59:47+00:00",
          "2024-10-28T11:39:47+00:00",
          "2024-10-28T15:20:11+00:00",
          "2024-10-28T19:00:35+00:00",
          "2024-10-28T22:40:23+00:00",
          "2024-10-29T02:20:47+00:00",
          "2024-10-29T06:00:35+00:00",
          "2024-10-29T09:41:11+00:00",
          "2024-10-29T13:21:35+00:00",
          "2024-10-29T17:01:11+00:00",
          "2024-10-29T20:40:35+00:00",
          "2024-10-30T00:20:23+00:00",
          "2024-10-30T04:00:11+00:00",
          "2024-10-30T07:40:35+00:00",
          "2024-10-30T11:21:47+00:00",
          "2024-10-30T15:03:35+00:00",
          "2024-10-30T18:43:11+00:00",
          "2024-10-30T22:22:47+00:00",
          "2024-10-31T02:02:11+00:00",
          "2024-10-31T05:42:59+00:00",
          "2024-10-31T09:23:35+00:00",
          "2024-10-31T13:02:47+00:00",
          "2024-10-31T16:42:11+00:00",
          "2024-10-31T20:21:35+00:00",
          "2024-11-01T00:01:23+00:00",
          "2024-11-01T03:41:11+00:00",
          "2024-11-01T07:20:59+00:00",
          "2024-11-01T11:00:47+00:00",
          "2024-11-01T14:40:35+00:00",
          "2024-11-01T18:20:23+00:00",
          "2024-11-01T22:00:35+00:00",
          "2024-11-02T01:40:47+00:00",
          "2024-11-02T05:21:11+00:00",
          "2024-11-02T09:00:59+00:00",
          "2024-11-02T12:41:59+00:00",
          "2024-11-02T16:22:35+00:00",
          "2024-11-02T20:02:35+00:00",
          "2024-11-02T23:43:35+00:00",
          "2024-11-03T03:24:23+00:00",
          "2024-11-03T07:04:35+00:00",
          "2024-11-03T10:43:47+00:00",
          "2024-11-03T14:23:47+00:00",
          "2024-11-03T18:04:35+00:00",
          "2024-11-03T21:43:59+00:00",
          "2024-11-04T01:23:47+00:00",
          "2024-11-04T05:03:47+00:00",
          "2024-11-04T08:42:59+00:00",
          "2024-11-04T12:23:35+00:00",
          "2024-11-04T16:02:59+00:00",
          "2024-11-04T19:43:23+00:00",
          "2024-11-04T23:23:23+00:00",
          "2024-11-05T03:03:23+00:00",
          "2024-11-05T06:44:11+00:00",
          "2024-11-05T10:24:11+00:00",
          "2024-11-05T14:04:11+00:00",
          "2024-11-05T17:44:23+00:00",
          "2024-11-05T21:25:11+00:00",
          "2024-11-06T01:04:59+00:00",
          "2024-11-06T04:44:23+00:00",
          "2024-11-06T08:24:23+00:00",
          "2024-11-06T12:05:23+00:00",
          "2024-11-06T15:45:47+00:00",
          "2024-11-06T19:25:23+00:00",
          "2024-11-06T23:05:35+00:00",
          "2024-11-07T02:45:35+00:00",
          "2024-11-07T06:25:23+00:00",
          "2024-11-07T10:05:23+00:00",
          "2024-11-07T13:45:47+00:00",
          "2024-11-07T17:27:11+00:00",
          "2024-11-07T21:06:59+00:00",
          "2024-11-08T00:47:47+00:00",
          "2024-11-08T04:29:35+00:00",
          "2024-11-08T08:09:59+00:00",
          "2024-11-08T11:49:35+00:00"
         ],
         "xaxis": "x",
         "y": [
          null,
          null,
          null,
          null,
          -0.001236648411700317,
          -0.001244439309779704,
          0.001182686461749497,
          0.001954504960329254,
          0.001948123969776483,
          0.001948123969776483,
          -0.004753551484492089,
          0.001465432885777412,
          0.001465432885777412,
          0.001460395829381419,
          0.001444957977056839,
          0.001444957977056839,
          0.001444957977056839,
          -0.004455390632722542,
          0.000593754236629239,
          0.000609538285511769,
          0.000625182413593869,
          0.000640860444767825,
          0.000500684585587288,
          0.000516410504817559,
          0.000532122719704145,
          0.000547854488910815,
          0.000570538248399987,
          0.000586419176499911,
          0.000487842255045325,
          0.000503684571907746,
          0.000509496970807179,
          0.000519725958036586,
          0.000534806804925382,
          0.000550051781623849,
          0.000552277222078463,
          0.000354484625312312,
          0.000324277207291843,
          0.00033582635795979,
          0.000347397554321143,
          0.000358996928592993,
          0.000370523887101485,
          0.000382150574108559,
          0.000110630363213902,
          0.000122159727414534,
          0.00013370482298782,
          0.000145308561476488,
          0.000151763068225048,
          0.000162921344484045,
          -0.00001612027756847,
          -0.00000122358564638,
          0.000009970790416146,
          0.000020812864727669,
          0.000031612275305664,
          0.000042408566030169,
          0.000053229833987917,
          0.000052171432790397,
          0.00006190889234119,
          0.000066014813023831,
          0.000070122754921273,
          0.000074780795498526,
          0.000079200586326618,
          0.000019680212395758,
          0.000025945770520274,
          0.00004383035089456,
          0.00005284460581771,
          0.000062352482850904,
          0.000071878440931267,
          0.000081378006328414,
          0.001013338234133448,
          0.001022724235814739,
          0.001032167957177099,
          0.001041586648048689,
          0.001036336743924626,
          0.001046846175773441,
          0.000936435202716199,
          0.000947911777361345,
          0.000946485112521937,
          0.000961067423928955,
          0.000976817716907744,
          0.00099246821928682,
          0.001003445566040236,
          0.000763749657508673,
          0.000755320542341457,
          0.00076997927721415,
          0.000784613593789524,
          0.000799272396406818,
          0.000813970000048788,
          0.000715043907365969,
          0.000729704583312318,
          0.00074433024280313,
          0.000758990107273064,
          0.000773680401402235,
          0.000788304743948521,
          0.000802965543898809,
          0.000663556362898485,
          0.000678156920842343,
          0.00069273367529626,
          0.000707326901770861,
          0.000721832014851082,
          0.000736264141190096,
          0.000667072205032648,
          0.00068146747882088,
          0.000695883509373362,
          0.000710286402370205,
          0.00072468646134825,
          0.000739085376666061,
          0.000753509502216733,
          0.000667501454740219,
          0.00068202023817644,
          0.000696545558344936,
          0.000711044156728833,
          0.000726849087675989,
          0.000741366082124117,
          0.000668130850684292,
          0.000682563320368693,
          0.00069425124234934,
          0.00070719786992555,
          0.000710483219272524,
          0.000713984843993366,
          0.000718590277837167,
          0.000514372715517083,
          0.000520279676532304,
          0.000526630507397699,
          0.000533562808867762,
          0.00054045399373145,
          0.000547338628820621,
          0.00062818622138296,
          0.000636370977260983,
          0.000643119537858678,
          0.000649933088535207,
          0.000656876194964617,
          0.000664350196901092,
          0.000671333755310346,
          0.000426258408613517,
          0.000434528718053648,
          0.000442890506412039,
          0.000451970743087256,
          0.000462174383604922,
          0.000473772801180679,
          0.000487016923197992,
          0.000458410809608579,
          0.000456031147163286,
          0.000469157481727215,
          0.000482282750987751,
          0.000495429727694996,
          0.000508570516618925,
          0.000410996707353965,
          0.000424090618133027,
          0.000437230866444008,
          0.00045037579575422,
          0.000464034410481821,
          0.000477740695889425,
          0.000491410654354446,
          0.000496396231663211,
          0.000510064351491896,
          0.000523706445568589,
          0.000541955736435592,
          0.000555726137776154,
          0.000569454566445506,
          0.000488848906011578,
          0.000502655575691264,
          0.00051638591795612,
          0.00053015268682565,
          0.000543905662691003,
          0.000557666708667483,
          0.000571423083325325,
          0.000476585959579216,
          0.000490329041682793,
          0.000504058813239233,
          0.000601606385787601,
          0.000617419635571791,
          0.000633244984501281,
          0.000649082546362617,
          0.001169974178650389,
          0.001171338836052648,
          0.001186825954682315,
          0.001202216689857342,
          0.001217588821416863,
          0.001215934799883438,
          0.001054801051826619,
          0.001059358394150415,
          0.001064850799657501,
          0.001070645066169457,
          0.001076434001545565,
          0.001083300611242624,
          0.001081302378490173,
          0.001050450038162743,
          0.00105700485320157,
          0.001063574895837416,
          0.001070156514153247,
          0.001076859746846524,
          0.001083585237347108,
          0.001047503841994334,
          0.001055788831778246,
          0.001064032122625596,
          0.001072768696476794,
          0,
          0,
          0,
          0,
          0,
          0,
          0,
          0,
          0,
          0,
          0,
          0,
          0,
          0,
          0,
          0,
          0,
          0,
          0,
          0,
          0,
          0,
          0,
          0,
          0,
          0,
          0,
          0,
          0,
          0,
          0,
          0,
          0,
          0,
          0,
          0,
          0,
          0,
          0,
          0,
          0,
          0,
          0,
          0,
          0,
          0,
          0,
          0,
          0,
          0,
          0,
          0,
          0,
          0,
          0,
          0,
          0,
          0,
          0,
          0,
          0,
          0,
          0,
          0,
          0,
          0,
          0,
          0,
          0,
          0,
          0,
          0,
          0,
          0,
          0,
          0,
          0,
          0,
          0,
          0,
          0,
          0,
          0,
          0,
          0,
          0,
          0,
          0,
          0,
          0,
          0,
          0,
          0,
          0,
          0,
          0,
          0,
          0,
          0,
          0,
          0,
          0,
          0,
          0,
          0,
          0,
          0,
          0,
          0,
          0,
          0,
          0,
          0,
          0,
          0,
          0,
          0,
          0,
          0,
          0,
          0,
          0,
          0,
          0,
          0,
          0,
          0,
          0,
          0,
          0,
          0,
          0,
          0,
          0,
          0,
          0,
          0,
          0,
          0,
          0,
          0,
          0,
          0,
          0,
          0,
          0,
          0,
          0,
          0,
          0,
          0,
          0,
          0,
          0,
          0,
          0,
          0,
          0,
          0,
          0,
          0
         ],
         "yaxis": "y"
        }
       ],
       "layout": {
        "legend": {
         "title": {
          "text": "variable"
         },
         "tracegroupgap": 0
        },
        "margin": {
         "t": 60
        },
        "template": {
         "data": {
          "bar": [
           {
            "error_x": {
             "color": "#2a3f5f"
            },
            "error_y": {
             "color": "#2a3f5f"
            },
            "marker": {
             "line": {
              "color": "#E5ECF6",
              "width": 0.5
             },
             "pattern": {
              "fillmode": "overlay",
              "size": 10,
              "solidity": 0.2
             }
            },
            "type": "bar"
           }
          ],
          "barpolar": [
           {
            "marker": {
             "line": {
              "color": "#E5ECF6",
              "width": 0.5
             },
             "pattern": {
              "fillmode": "overlay",
              "size": 10,
              "solidity": 0.2
             }
            },
            "type": "barpolar"
           }
          ],
          "carpet": [
           {
            "aaxis": {
             "endlinecolor": "#2a3f5f",
             "gridcolor": "white",
             "linecolor": "white",
             "minorgridcolor": "white",
             "startlinecolor": "#2a3f5f"
            },
            "baxis": {
             "endlinecolor": "#2a3f5f",
             "gridcolor": "white",
             "linecolor": "white",
             "minorgridcolor": "white",
             "startlinecolor": "#2a3f5f"
            },
            "type": "carpet"
           }
          ],
          "choropleth": [
           {
            "colorbar": {
             "outlinewidth": 0,
             "ticks": ""
            },
            "type": "choropleth"
           }
          ],
          "contour": [
           {
            "colorbar": {
             "outlinewidth": 0,
             "ticks": ""
            },
            "colorscale": [
             [
              0,
              "#0d0887"
             ],
             [
              0.1111111111111111,
              "#46039f"
             ],
             [
              0.2222222222222222,
              "#7201a8"
             ],
             [
              0.3333333333333333,
              "#9c179e"
             ],
             [
              0.4444444444444444,
              "#bd3786"
             ],
             [
              0.5555555555555556,
              "#d8576b"
             ],
             [
              0.6666666666666666,
              "#ed7953"
             ],
             [
              0.7777777777777778,
              "#fb9f3a"
             ],
             [
              0.8888888888888888,
              "#fdca26"
             ],
             [
              1,
              "#f0f921"
             ]
            ],
            "type": "contour"
           }
          ],
          "contourcarpet": [
           {
            "colorbar": {
             "outlinewidth": 0,
             "ticks": ""
            },
            "type": "contourcarpet"
           }
          ],
          "heatmap": [
           {
            "colorbar": {
             "outlinewidth": 0,
             "ticks": ""
            },
            "colorscale": [
             [
              0,
              "#0d0887"
             ],
             [
              0.1111111111111111,
              "#46039f"
             ],
             [
              0.2222222222222222,
              "#7201a8"
             ],
             [
              0.3333333333333333,
              "#9c179e"
             ],
             [
              0.4444444444444444,
              "#bd3786"
             ],
             [
              0.5555555555555556,
              "#d8576b"
             ],
             [
              0.6666666666666666,
              "#ed7953"
             ],
             [
              0.7777777777777778,
              "#fb9f3a"
             ],
             [
              0.8888888888888888,
              "#fdca26"
             ],
             [
              1,
              "#f0f921"
             ]
            ],
            "type": "heatmap"
           }
          ],
          "heatmapgl": [
           {
            "colorbar": {
             "outlinewidth": 0,
             "ticks": ""
            },
            "colorscale": [
             [
              0,
              "#0d0887"
             ],
             [
              0.1111111111111111,
              "#46039f"
             ],
             [
              0.2222222222222222,
              "#7201a8"
             ],
             [
              0.3333333333333333,
              "#9c179e"
             ],
             [
              0.4444444444444444,
              "#bd3786"
             ],
             [
              0.5555555555555556,
              "#d8576b"
             ],
             [
              0.6666666666666666,
              "#ed7953"
             ],
             [
              0.7777777777777778,
              "#fb9f3a"
             ],
             [
              0.8888888888888888,
              "#fdca26"
             ],
             [
              1,
              "#f0f921"
             ]
            ],
            "type": "heatmapgl"
           }
          ],
          "histogram": [
           {
            "marker": {
             "pattern": {
              "fillmode": "overlay",
              "size": 10,
              "solidity": 0.2
             }
            },
            "type": "histogram"
           }
          ],
          "histogram2d": [
           {
            "colorbar": {
             "outlinewidth": 0,
             "ticks": ""
            },
            "colorscale": [
             [
              0,
              "#0d0887"
             ],
             [
              0.1111111111111111,
              "#46039f"
             ],
             [
              0.2222222222222222,
              "#7201a8"
             ],
             [
              0.3333333333333333,
              "#9c179e"
             ],
             [
              0.4444444444444444,
              "#bd3786"
             ],
             [
              0.5555555555555556,
              "#d8576b"
             ],
             [
              0.6666666666666666,
              "#ed7953"
             ],
             [
              0.7777777777777778,
              "#fb9f3a"
             ],
             [
              0.8888888888888888,
              "#fdca26"
             ],
             [
              1,
              "#f0f921"
             ]
            ],
            "type": "histogram2d"
           }
          ],
          "histogram2dcontour": [
           {
            "colorbar": {
             "outlinewidth": 0,
             "ticks": ""
            },
            "colorscale": [
             [
              0,
              "#0d0887"
             ],
             [
              0.1111111111111111,
              "#46039f"
             ],
             [
              0.2222222222222222,
              "#7201a8"
             ],
             [
              0.3333333333333333,
              "#9c179e"
             ],
             [
              0.4444444444444444,
              "#bd3786"
             ],
             [
              0.5555555555555556,
              "#d8576b"
             ],
             [
              0.6666666666666666,
              "#ed7953"
             ],
             [
              0.7777777777777778,
              "#fb9f3a"
             ],
             [
              0.8888888888888888,
              "#fdca26"
             ],
             [
              1,
              "#f0f921"
             ]
            ],
            "type": "histogram2dcontour"
           }
          ],
          "mesh3d": [
           {
            "colorbar": {
             "outlinewidth": 0,
             "ticks": ""
            },
            "type": "mesh3d"
           }
          ],
          "parcoords": [
           {
            "line": {
             "colorbar": {
              "outlinewidth": 0,
              "ticks": ""
             }
            },
            "type": "parcoords"
           }
          ],
          "pie": [
           {
            "automargin": true,
            "type": "pie"
           }
          ],
          "scatter": [
           {
            "fillpattern": {
             "fillmode": "overlay",
             "size": 10,
             "solidity": 0.2
            },
            "type": "scatter"
           }
          ],
          "scatter3d": [
           {
            "line": {
             "colorbar": {
              "outlinewidth": 0,
              "ticks": ""
             }
            },
            "marker": {
             "colorbar": {
              "outlinewidth": 0,
              "ticks": ""
             }
            },
            "type": "scatter3d"
           }
          ],
          "scattercarpet": [
           {
            "marker": {
             "colorbar": {
              "outlinewidth": 0,
              "ticks": ""
             }
            },
            "type": "scattercarpet"
           }
          ],
          "scattergeo": [
           {
            "marker": {
             "colorbar": {
              "outlinewidth": 0,
              "ticks": ""
             }
            },
            "type": "scattergeo"
           }
          ],
          "scattergl": [
           {
            "marker": {
             "colorbar": {
              "outlinewidth": 0,
              "ticks": ""
             }
            },
            "type": "scattergl"
           }
          ],
          "scattermapbox": [
           {
            "marker": {
             "colorbar": {
              "outlinewidth": 0,
              "ticks": ""
             }
            },
            "type": "scattermapbox"
           }
          ],
          "scatterpolar": [
           {
            "marker": {
             "colorbar": {
              "outlinewidth": 0,
              "ticks": ""
             }
            },
            "type": "scatterpolar"
           }
          ],
          "scatterpolargl": [
           {
            "marker": {
             "colorbar": {
              "outlinewidth": 0,
              "ticks": ""
             }
            },
            "type": "scatterpolargl"
           }
          ],
          "scatterternary": [
           {
            "marker": {
             "colorbar": {
              "outlinewidth": 0,
              "ticks": ""
             }
            },
            "type": "scatterternary"
           }
          ],
          "surface": [
           {
            "colorbar": {
             "outlinewidth": 0,
             "ticks": ""
            },
            "colorscale": [
             [
              0,
              "#0d0887"
             ],
             [
              0.1111111111111111,
              "#46039f"
             ],
             [
              0.2222222222222222,
              "#7201a8"
             ],
             [
              0.3333333333333333,
              "#9c179e"
             ],
             [
              0.4444444444444444,
              "#bd3786"
             ],
             [
              0.5555555555555556,
              "#d8576b"
             ],
             [
              0.6666666666666666,
              "#ed7953"
             ],
             [
              0.7777777777777778,
              "#fb9f3a"
             ],
             [
              0.8888888888888888,
              "#fdca26"
             ],
             [
              1,
              "#f0f921"
             ]
            ],
            "type": "surface"
           }
          ],
          "table": [
           {
            "cells": {
             "fill": {
              "color": "#EBF0F8"
             },
             "line": {
              "color": "white"
             }
            },
            "header": {
             "fill": {
              "color": "#C8D4E3"
             },
             "line": {
              "color": "white"
             }
            },
            "type": "table"
           }
          ]
         },
         "layout": {
          "annotationdefaults": {
           "arrowcolor": "#2a3f5f",
           "arrowhead": 0,
           "arrowwidth": 1
          },
          "autotypenumbers": "strict",
          "coloraxis": {
           "colorbar": {
            "outlinewidth": 0,
            "ticks": ""
           }
          },
          "colorscale": {
           "diverging": [
            [
             0,
             "#8e0152"
            ],
            [
             0.1,
             "#c51b7d"
            ],
            [
             0.2,
             "#de77ae"
            ],
            [
             0.3,
             "#f1b6da"
            ],
            [
             0.4,
             "#fde0ef"
            ],
            [
             0.5,
             "#f7f7f7"
            ],
            [
             0.6,
             "#e6f5d0"
            ],
            [
             0.7,
             "#b8e186"
            ],
            [
             0.8,
             "#7fbc41"
            ],
            [
             0.9,
             "#4d9221"
            ],
            [
             1,
             "#276419"
            ]
           ],
           "sequential": [
            [
             0,
             "#0d0887"
            ],
            [
             0.1111111111111111,
             "#46039f"
            ],
            [
             0.2222222222222222,
             "#7201a8"
            ],
            [
             0.3333333333333333,
             "#9c179e"
            ],
            [
             0.4444444444444444,
             "#bd3786"
            ],
            [
             0.5555555555555556,
             "#d8576b"
            ],
            [
             0.6666666666666666,
             "#ed7953"
            ],
            [
             0.7777777777777778,
             "#fb9f3a"
            ],
            [
             0.8888888888888888,
             "#fdca26"
            ],
            [
             1,
             "#f0f921"
            ]
           ],
           "sequentialminus": [
            [
             0,
             "#0d0887"
            ],
            [
             0.1111111111111111,
             "#46039f"
            ],
            [
             0.2222222222222222,
             "#7201a8"
            ],
            [
             0.3333333333333333,
             "#9c179e"
            ],
            [
             0.4444444444444444,
             "#bd3786"
            ],
            [
             0.5555555555555556,
             "#d8576b"
            ],
            [
             0.6666666666666666,
             "#ed7953"
            ],
            [
             0.7777777777777778,
             "#fb9f3a"
            ],
            [
             0.8888888888888888,
             "#fdca26"
            ],
            [
             1,
             "#f0f921"
            ]
           ]
          },
          "colorway": [
           "#636efa",
           "#EF553B",
           "#00cc96",
           "#ab63fa",
           "#FFA15A",
           "#19d3f3",
           "#FF6692",
           "#B6E880",
           "#FF97FF",
           "#FECB52"
          ],
          "font": {
           "color": "#2a3f5f"
          },
          "geo": {
           "bgcolor": "white",
           "lakecolor": "white",
           "landcolor": "#E5ECF6",
           "showlakes": true,
           "showland": true,
           "subunitcolor": "white"
          },
          "hoverlabel": {
           "align": "left"
          },
          "hovermode": "closest",
          "mapbox": {
           "style": "light"
          },
          "paper_bgcolor": "white",
          "plot_bgcolor": "#E5ECF6",
          "polar": {
           "angularaxis": {
            "gridcolor": "white",
            "linecolor": "white",
            "ticks": ""
           },
           "bgcolor": "#E5ECF6",
           "radialaxis": {
            "gridcolor": "white",
            "linecolor": "white",
            "ticks": ""
           }
          },
          "scene": {
           "xaxis": {
            "backgroundcolor": "#E5ECF6",
            "gridcolor": "white",
            "gridwidth": 2,
            "linecolor": "white",
            "showbackground": true,
            "ticks": "",
            "zerolinecolor": "white"
           },
           "yaxis": {
            "backgroundcolor": "#E5ECF6",
            "gridcolor": "white",
            "gridwidth": 2,
            "linecolor": "white",
            "showbackground": true,
            "ticks": "",
            "zerolinecolor": "white"
           },
           "zaxis": {
            "backgroundcolor": "#E5ECF6",
            "gridcolor": "white",
            "gridwidth": 2,
            "linecolor": "white",
            "showbackground": true,
            "ticks": "",
            "zerolinecolor": "white"
           }
          },
          "shapedefaults": {
           "line": {
            "color": "#2a3f5f"
           }
          },
          "ternary": {
           "aaxis": {
            "gridcolor": "white",
            "linecolor": "white",
            "ticks": ""
           },
           "baxis": {
            "gridcolor": "white",
            "linecolor": "white",
            "ticks": ""
           },
           "bgcolor": "#E5ECF6",
           "caxis": {
            "gridcolor": "white",
            "linecolor": "white",
            "ticks": ""
           }
          },
          "title": {
           "x": 0.05
          },
          "xaxis": {
           "automargin": true,
           "gridcolor": "white",
           "linecolor": "white",
           "ticks": "",
           "title": {
            "standoff": 15
           },
           "zerolinecolor": "white",
           "zerolinewidth": 2
          },
          "yaxis": {
           "automargin": true,
           "gridcolor": "white",
           "linecolor": "white",
           "ticks": "",
           "title": {
            "standoff": 15
           },
           "zerolinecolor": "white",
           "zerolinewidth": 2
          }
         }
        },
        "xaxis": {
         "anchor": "y",
         "domain": [
          0,
          1
         ],
         "title": {
          "text": "timestamp"
         }
        },
        "yaxis": {
         "anchor": "x",
         "domain": [
          0,
          1
         ],
         "title": {
          "text": "value"
         }
        }
       }
      }
     },
     "metadata": {},
     "output_type": "display_data"
    }
   ],
   "source": [
    "px.line(df['price_return'])"
   ]
  },
  {
   "cell_type": "code",
   "execution_count": null,
   "metadata": {},
   "outputs": [
    {
     "data": {
      "application/vnd.plotly.v1+json": {
       "config": {
        "plotlyServerURL": "https://plot.ly"
       },
       "data": [
        {
         "hovertemplate": "variable=price_per_share<br>timestamp=%{x}<br>value=%{y}<extra></extra>",
         "legendgroup": "price_per_share",
         "line": {
          "color": "#636efa",
          "dash": "solid"
         },
         "marker": {
          "symbol": "circle"
         },
         "mode": "lines",
         "name": "price_per_share",
         "orientation": "v",
         "showlegend": true,
         "type": "scatter",
         "x": [
          "2024-09-15T02:04:47+00:00",
          "2024-09-15T05:44:35+00:00",
          "2024-09-15T09:24:47+00:00",
          "2024-09-15T13:04:11+00:00",
          "2024-09-15T16:44:23+00:00",
          "2024-09-15T20:23:35+00:00",
          "2024-09-16T00:03:11+00:00",
          "2024-09-16T03:43:47+00:00",
          "2024-09-16T07:23:23+00:00",
          "2024-09-16T11:04:47+00:00",
          "2024-09-16T14:46:11+00:00",
          "2024-09-16T18:26:47+00:00",
          "2024-09-16T22:06:23+00:00",
          "2024-09-17T01:46:35+00:00",
          "2024-09-17T05:27:47+00:00",
          "2024-09-17T09:08:35+00:00",
          "2024-09-17T12:48:23+00:00",
          "2024-09-17T16:29:11+00:00",
          "2024-09-17T20:09:47+00:00",
          "2024-09-17T23:50:47+00:00",
          "2024-09-18T03:30:35+00:00",
          "2024-09-18T07:11:35+00:00",
          "2024-09-18T10:51:35+00:00",
          "2024-09-18T14:32:23+00:00",
          "2024-09-18T18:12:23+00:00",
          "2024-09-18T21:52:47+00:00",
          "2024-09-19T01:33:11+00:00",
          "2024-09-19T05:13:23+00:00",
          "2024-09-19T08:53:23+00:00",
          "2024-09-19T12:33:23+00:00",
          "2024-09-19T16:13:23+00:00",
          "2024-09-19T19:53:23+00:00",
          "2024-09-19T23:33:11+00:00",
          "2024-09-20T03:13:35+00:00",
          "2024-09-20T06:54:11+00:00",
          "2024-09-20T10:35:11+00:00",
          "2024-09-20T14:14:59+00:00",
          "2024-09-20T17:54:59+00:00",
          "2024-09-20T21:35:23+00:00",
          "2024-09-21T01:16:23+00:00",
          "2024-09-21T04:56:23+00:00",
          "2024-09-21T08:38:11+00:00",
          "2024-09-21T12:18:11+00:00",
          "2024-09-21T15:58:11+00:00",
          "2024-09-21T19:38:11+00:00",
          "2024-09-21T23:19:11+00:00",
          "2024-09-22T02:58:47+00:00",
          "2024-09-22T06:38:35+00:00",
          "2024-09-22T10:18:23+00:00",
          "2024-09-22T13:58:11+00:00",
          "2024-09-22T17:37:59+00:00",
          "2024-09-22T21:18:11+00:00",
          "2024-09-23T00:57:47+00:00",
          "2024-09-23T04:37:23+00:00",
          "2024-09-23T08:17:35+00:00",
          "2024-09-23T11:58:59+00:00",
          "2024-09-23T15:38:59+00:00",
          "2024-09-23T19:18:59+00:00",
          "2024-09-23T22:58:59+00:00",
          "2024-09-24T02:38:47+00:00",
          "2024-09-24T06:18:23+00:00",
          "2024-09-24T09:57:47+00:00",
          "2024-09-24T13:37:23+00:00",
          "2024-09-24T17:17:47+00:00",
          "2024-09-24T20:57:11+00:00",
          "2024-09-25T00:36:59+00:00",
          "2024-09-25T04:17:23+00:00",
          "2024-09-25T07:57:11+00:00",
          "2024-09-25T11:37:35+00:00",
          "2024-09-25T15:18:35+00:00",
          "2024-09-25T18:59:35+00:00",
          "2024-09-25T22:38:47+00:00",
          "2024-09-26T02:18:35+00:00",
          "2024-09-26T05:58:23+00:00",
          "2024-09-26T09:37:59+00:00",
          "2024-09-26T13:17:35+00:00",
          "2024-09-26T16:56:59+00:00",
          "2024-09-26T20:36:59+00:00",
          "2024-09-27T00:17:47+00:00",
          "2024-09-27T03:57:35+00:00",
          "2024-09-27T07:37:11+00:00",
          "2024-09-27T11:16:59+00:00",
          "2024-09-27T14:56:47+00:00",
          "2024-09-27T18:36:47+00:00",
          "2024-09-27T22:16:11+00:00",
          "2024-09-28T01:55:59+00:00",
          "2024-09-28T05:36:23+00:00",
          "2024-09-28T09:15:59+00:00",
          "2024-09-28T12:55:47+00:00",
          "2024-09-28T16:35:23+00:00",
          "2024-09-28T20:15:47+00:00",
          "2024-09-28T23:56:35+00:00",
          "2024-09-29T03:36:47+00:00",
          "2024-09-29T07:17:11+00:00",
          "2024-09-29T10:56:47+00:00",
          "2024-09-29T14:36:35+00:00",
          "2024-09-29T18:16:11+00:00",
          "2024-09-29T21:56:47+00:00",
          "2024-09-30T01:36:35+00:00",
          "2024-09-30T05:16:35+00:00",
          "2024-09-30T08:55:59+00:00",
          "2024-09-30T12:35:23+00:00",
          "2024-09-30T16:15:11+00:00",
          "2024-09-30T19:54:47+00:00",
          "2024-09-30T23:34:23+00:00",
          "2024-10-01T03:13:59+00:00",
          "2024-10-01T06:53:59+00:00",
          "2024-10-01T10:33:35+00:00",
          "2024-10-01T14:13:47+00:00",
          "2024-10-01T17:54:11+00:00",
          "2024-10-01T21:34:23+00:00",
          "2024-10-02T01:14:11+00:00",
          "2024-10-02T04:54:11+00:00",
          "2024-10-02T08:33:47+00:00",
          "2024-10-02T12:12:59+00:00",
          "2024-10-02T15:53:11+00:00",
          "2024-10-02T19:33:23+00:00",
          "2024-10-02T23:12:47+00:00",
          "2024-10-03T02:52:11+00:00",
          "2024-10-03T06:32:23+00:00",
          "2024-10-03T10:11:59+00:00",
          "2024-10-03T13:51:59+00:00",
          "2024-10-03T17:33:23+00:00",
          "2024-10-03T21:13:47+00:00",
          "2024-10-04T00:53:11+00:00",
          "2024-10-04T04:32:23+00:00",
          "2024-10-04T08:11:59+00:00",
          "2024-10-04T11:51:23+00:00",
          "2024-10-04T15:30:59+00:00",
          "2024-10-04T19:10:35+00:00",
          "2024-10-04T22:50:23+00:00",
          "2024-10-05T02:30:35+00:00",
          "2024-10-05T06:09:59+00:00",
          "2024-10-05T09:49:59+00:00",
          "2024-10-05T13:29:23+00:00",
          "2024-10-05T17:09:23+00:00",
          "2024-10-05T20:48:59+00:00",
          "2024-10-06T00:28:11+00:00",
          "2024-10-06T04:07:47+00:00",
          "2024-10-06T07:47:35+00:00",
          "2024-10-06T11:27:47+00:00",
          "2024-10-06T15:07:47+00:00",
          "2024-10-06T18:47:35+00:00",
          "2024-10-06T22:27:23+00:00",
          "2024-10-07T02:07:35+00:00",
          "2024-10-07T05:47:35+00:00",
          "2024-10-07T09:27:11+00:00",
          "2024-10-07T13:06:35+00:00",
          "2024-10-07T16:46:47+00:00",
          "2024-10-07T20:26:23+00:00",
          "2024-10-08T00:05:59+00:00",
          "2024-10-08T03:45:47+00:00",
          "2024-10-08T07:25:35+00:00",
          "2024-10-08T11:04:59+00:00",
          "2024-10-08T14:44:47+00:00",
          "2024-10-08T18:24:11+00:00",
          "2024-10-08T22:04:47+00:00",
          "2024-10-09T01:44:35+00:00",
          "2024-10-09T05:23:47+00:00",
          "2024-10-09T09:03:35+00:00",
          "2024-10-09T12:43:59+00:00",
          "2024-10-09T16:23:11+00:00",
          "2024-10-09T20:02:59+00:00",
          "2024-10-09T23:42:35+00:00",
          "2024-10-10T03:22:23+00:00",
          "2024-10-10T07:02:23+00:00",
          "2024-10-10T10:42:11+00:00",
          "2024-10-10T14:21:47+00:00",
          "2024-10-10T18:01:11+00:00",
          "2024-10-10T21:40:59+00:00",
          "2024-10-11T01:20:35+00:00",
          "2024-10-11T05:00:35+00:00",
          "2024-10-11T08:40:59+00:00",
          "2024-10-11T12:21:35+00:00",
          "2024-10-11T16:02:35+00:00",
          "2024-10-11T19:42:47+00:00",
          "2024-10-11T23:23:35+00:00",
          "2024-10-12T03:04:23+00:00",
          "2024-10-12T06:44:47+00:00",
          "2024-10-12T10:26:35+00:00",
          "2024-10-12T14:06:59+00:00",
          "2024-10-12T17:46:59+00:00",
          "2024-10-12T21:27:35+00:00",
          "2024-10-13T01:07:59+00:00",
          "2024-10-13T04:50:11+00:00",
          "2024-10-13T08:32:47+00:00",
          "2024-10-13T12:14:23+00:00",
          "2024-10-13T15:54:11+00:00",
          "2024-10-13T19:34:11+00:00",
          "2024-10-13T23:14:47+00:00",
          "2024-10-14T02:54:59+00:00",
          "2024-10-14T06:34:47+00:00",
          "2024-10-14T10:16:11+00:00",
          "2024-10-14T13:57:11+00:00",
          "2024-10-14T17:36:59+00:00",
          "2024-10-14T21:17:23+00:00",
          "2024-10-15T00:57:23+00:00",
          "2024-10-15T04:37:47+00:00",
          "2024-10-15T08:17:23+00:00",
          "2024-10-15T11:57:59+00:00",
          "2024-10-15T15:38:35+00:00",
          "2024-10-15T19:18:59+00:00",
          "2024-10-15T22:59:11+00:00",
          "2024-10-16T02:39:59+00:00",
          "2024-10-16T06:19:59+00:00",
          "2024-10-16T09:59:59+00:00",
          "2024-10-16T13:40:11+00:00",
          "2024-10-16T17:20:11+00:00",
          "2024-10-16T21:00:23+00:00",
          "2024-10-17T00:40:59+00:00",
          "2024-10-17T04:21:11+00:00",
          "2024-10-17T08:01:11+00:00",
          "2024-10-17T11:40:47+00:00",
          "2024-10-17T15:21:11+00:00",
          "2024-10-17T19:01:23+00:00",
          "2024-10-17T22:41:35+00:00",
          "2024-10-18T02:21:35+00:00",
          "2024-10-18T06:01:59+00:00",
          "2024-10-18T09:42:11+00:00",
          "2024-10-18T13:21:47+00:00",
          "2024-10-18T17:02:11+00:00",
          "2024-10-18T20:41:47+00:00",
          "2024-10-19T00:21:47+00:00",
          "2024-10-19T04:01:47+00:00",
          "2024-10-19T07:42:23+00:00",
          "2024-10-19T11:21:59+00:00",
          "2024-10-19T15:01:59+00:00",
          "2024-10-19T18:41:47+00:00",
          "2024-10-19T22:21:23+00:00",
          "2024-10-20T02:00:47+00:00",
          "2024-10-20T05:40:47+00:00",
          "2024-10-20T09:20:35+00:00",
          "2024-10-20T12:59:59+00:00",
          "2024-10-20T16:40:59+00:00",
          "2024-10-20T20:20:47+00:00",
          "2024-10-21T00:00:59+00:00",
          "2024-10-21T03:41:35+00:00",
          "2024-10-21T07:21:35+00:00",
          "2024-10-21T11:00:59+00:00",
          "2024-10-21T14:40:59+00:00",
          "2024-10-21T18:20:23+00:00",
          "2024-10-21T22:00:35+00:00",
          "2024-10-22T01:40:59+00:00",
          "2024-10-22T05:21:11+00:00",
          "2024-10-22T09:01:23+00:00",
          "2024-10-22T12:41:35+00:00",
          "2024-10-22T16:21:35+00:00",
          "2024-10-22T20:01:35+00:00",
          "2024-10-22T23:42:23+00:00",
          "2024-10-23T03:22:35+00:00",
          "2024-10-23T07:01:35+00:00",
          "2024-10-23T10:41:35+00:00",
          "2024-10-23T14:21:11+00:00",
          "2024-10-23T18:00:59+00:00",
          "2024-10-23T21:40:11+00:00",
          "2024-10-24T01:20:47+00:00",
          "2024-10-24T05:00:47+00:00",
          "2024-10-24T08:40:59+00:00",
          "2024-10-24T12:20:35+00:00",
          "2024-10-24T16:00:35+00:00",
          "2024-10-24T19:40:11+00:00",
          "2024-10-24T23:19:59+00:00",
          "2024-10-25T02:59:59+00:00",
          "2024-10-25T06:40:11+00:00",
          "2024-10-25T10:19:35+00:00",
          "2024-10-25T13:59:35+00:00",
          "2024-10-25T17:39:35+00:00",
          "2024-10-25T21:19:11+00:00",
          "2024-10-26T00:58:59+00:00",
          "2024-10-26T04:39:23+00:00",
          "2024-10-26T08:19:11+00:00",
          "2024-10-26T11:59:59+00:00",
          "2024-10-26T15:40:35+00:00",
          "2024-10-26T19:20:11+00:00",
          "2024-10-26T22:59:59+00:00",
          "2024-10-27T02:40:11+00:00",
          "2024-10-27T06:19:47+00:00",
          "2024-10-27T09:59:23+00:00",
          "2024-10-27T13:40:11+00:00",
          "2024-10-27T17:19:47+00:00",
          "2024-10-27T20:59:11+00:00",
          "2024-10-28T00:38:35+00:00",
          "2024-10-28T04:18:47+00:00",
          "2024-10-28T07:59:47+00:00",
          "2024-10-28T11:39:47+00:00",
          "2024-10-28T15:20:11+00:00",
          "2024-10-28T19:00:35+00:00",
          "2024-10-28T22:40:23+00:00",
          "2024-10-29T02:20:47+00:00",
          "2024-10-29T06:00:35+00:00",
          "2024-10-29T09:41:11+00:00",
          "2024-10-29T13:21:35+00:00",
          "2024-10-29T17:01:11+00:00",
          "2024-10-29T20:40:35+00:00",
          "2024-10-30T00:20:23+00:00",
          "2024-10-30T04:00:11+00:00",
          "2024-10-30T07:40:35+00:00",
          "2024-10-30T11:21:47+00:00",
          "2024-10-30T15:03:35+00:00",
          "2024-10-30T18:43:11+00:00",
          "2024-10-30T22:22:47+00:00",
          "2024-10-31T02:02:11+00:00",
          "2024-10-31T05:42:59+00:00",
          "2024-10-31T09:23:35+00:00",
          "2024-10-31T13:02:47+00:00",
          "2024-10-31T16:42:11+00:00",
          "2024-10-31T20:21:35+00:00",
          "2024-11-01T00:01:23+00:00",
          "2024-11-01T03:41:11+00:00",
          "2024-11-01T07:20:59+00:00",
          "2024-11-01T11:00:47+00:00",
          "2024-11-01T14:40:35+00:00",
          "2024-11-01T18:20:23+00:00",
          "2024-11-01T22:00:35+00:00",
          "2024-11-02T01:40:47+00:00",
          "2024-11-02T05:21:11+00:00",
          "2024-11-02T09:00:59+00:00",
          "2024-11-02T12:41:59+00:00",
          "2024-11-02T16:22:35+00:00",
          "2024-11-02T20:02:35+00:00",
          "2024-11-02T23:43:35+00:00",
          "2024-11-03T03:24:23+00:00",
          "2024-11-03T07:04:35+00:00",
          "2024-11-03T10:43:47+00:00",
          "2024-11-03T14:23:47+00:00",
          "2024-11-03T18:04:35+00:00",
          "2024-11-03T21:43:59+00:00",
          "2024-11-04T01:23:47+00:00",
          "2024-11-04T05:03:47+00:00",
          "2024-11-04T08:42:59+00:00",
          "2024-11-04T12:23:35+00:00",
          "2024-11-04T16:02:59+00:00",
          "2024-11-04T19:43:23+00:00",
          "2024-11-04T23:23:23+00:00",
          "2024-11-05T03:03:23+00:00",
          "2024-11-05T06:44:11+00:00",
          "2024-11-05T10:24:11+00:00",
          "2024-11-05T14:04:11+00:00",
          "2024-11-05T17:44:23+00:00",
          "2024-11-05T21:25:11+00:00",
          "2024-11-06T01:04:59+00:00",
          "2024-11-06T04:44:23+00:00",
          "2024-11-06T08:24:23+00:00",
          "2024-11-06T12:05:23+00:00",
          "2024-11-06T15:45:47+00:00",
          "2024-11-06T19:25:23+00:00",
          "2024-11-06T23:05:35+00:00",
          "2024-11-07T02:45:35+00:00",
          "2024-11-07T06:25:23+00:00",
          "2024-11-07T10:05:23+00:00",
          "2024-11-07T13:45:47+00:00",
          "2024-11-07T17:27:11+00:00",
          "2024-11-07T21:06:59+00:00",
          "2024-11-08T00:47:47+00:00",
          "2024-11-08T04:29:35+00:00",
          "2024-11-08T08:09:59+00:00",
          "2024-11-08T11:49:35+00:00"
         ],
         "xaxis": "x",
         "y": [
          null,
          null,
          null,
          null,
          1.0038160466810675,
          1.0038302804699806,
          1.0010011397606238,
          0.9999539135152544,
          0.9999598950673594,
          0.9999598950673594,
          1.007321247852862,
          1.0005956224905375,
          1.0005956224905375,
          1.0005997039415946,
          1.0006125692205894,
          1.0006125692205894,
          1.0006125692205894,
          1.007001323737271,
          1.0017522452881131,
          1.0017311261199928,
          1.0017101936430297,
          1.001689215279065,
          1.0018767623437304,
          1.0018557240718289,
          1.001834703607846,
          1.0018136564565718,
          1.001794218891989,
          1.0017729676766296,
          1.0019048484942186,
          1.0018836552512869,
          1.0018620085461896,
          1.001842010235388,
          1.001821711747372,
          1.001801315164477,
          1.0017874970220353,
          1.0020520981273908,
          1.0020568987105918,
          1.0020414487236258,
          1.0020259695697085,
          1.0020104522966229,
          1.001995030832775,
          1.0019794761704626,
          1.0023426156902837,
          1.002327200269422,
          1.0023117632552916,
          1.0022962479708228,
          1.0022879671765748,
          1.0022730469029035,
          1.002507021425614,
          1.0024920880697483,
          1.0024775337683696,
          1.0024630410982134,
          1.0024486052310126,
          1.002434172972561,
          1.0024197069303424,
          1.002421121835246,
          1.0024081044188238,
          1.0024026153353796,
          1.002397123782773,
          1.0023906981377606,
          1.0023846805725534,
          1.0024642489753361,
          1.0024558735936464,
          1.0026032722401343,
          1.0025912205351157,
          1.0025785087341248,
          1.0025657726123984,
          1.0025530716311022,
          1.0013063224655065,
          1.0012937589571462,
          1.001281118043823,
          1.0012685104901917,
          1.0012567037019808,
          1.001242635470912,
          1.001390425393464,
          1.0013750644648143,
          1.00136105071836,
          1.0013415318017802,
          1.0013204490755823,
          1.0012994994860773,
          1.0012797521892034,
          1.001600566865792,
          1.0015821487277319,
          1.001562531039762,
          1.0015429456066944,
          1.001523326978703,
          1.001503655994505,
          1.0016360484943294,
          1.0016164293762415,
          1.0015968566942044,
          1.0015772254692026,
          1.0015575654378386,
          1.0015379693434823,
          1.001518347932889,
          1.0017049102383249,
          1.0016853655986404,
          1.0016658555349063,
          1.0016463185888909,
          1.0016269078674962,
          1.0016075944039262,
          1.0017001835467867,
          1.0016809209593027,
          1.0016616245855778,
          1.0016423509819008,
          1.0016230807605706,
          1.0016038116596622,
          1.001584508410452,
          1.0016996026960718,
          1.0016801748235673,
          1.0016607377871307,
          1.0016413360924163,
          1.0016218779144643,
          1.001602450808368,
          1.001700452306895,
          1.0016811121093236,
          1.0016623879253679,
          1.0016450630314382,
          1.001640666595721,
          1.001635074725717,
          1.0016289116753339,
          1.0019021575459939,
          1.0018942551202952,
          1.0018857588009036,
          1.0018764844820571,
          1.0018672650757345,
          1.0018580543375042,
          1.0017498837953438,
          1.0017412287728473,
          1.001732198828435,
          1.0017230818321132,
          1.0017137913866385,
          1.001703790452616,
          1.0016934154145563,
          1.0020022162499547,
          1.001991153171224,
          1.0019799675729557,
          1.0019678207332452,
          1.0019541708791089,
          1.001938654899174,
          1.0019209369965012,
          1.0019592056019426,
          1.001941706495481,
          1.001924145815373,
          1.0019065861554228,
          1.0018889970480693,
          1.0018714158130784,
          1.00200195141624,
          1.0019844354997836,
          1.0019668571918812,
          1.0019492722159609,
          1.0019309996135513,
          1.0019127134830572,
          1.001894424827315,
          1.0018877546533096,
          1.0018694678579663,
          1.0018512154448576,
          1.0018317599253268,
          1.001813335092978,
          1.0017949659855414,
          1.001902812912831,
          1.0018843412405731,
          1.001865971250183,
          1.0018475520885401,
          1.0018291509455248,
          1.0018107385690433,
          1.001792332007003,
          1.0019192189002364,
          1.0019008326893735,
          1.0018824638520523,
          1.0019152072807205,
          1.001894051353181,
          1.00187287886771,
          1.001851689671176,
          1.0011545772855013,
          1.0011330274163275,
          1.0011122939750459,
          1.0010916891989752,
          1.001071110154192,
          1.0010639201613054,
          1.0012796285578058,
          1.0012735281490088,
          1.001266176031091,
          1.0012584197911045,
          1.001250669365975,
          1.00124147754906,
          1.001232638097839,
          1.0012739380406166,
          1.001265163682282,
          1.0012563688699618,
          1.0012475584917635,
          1.001238585243989,
          1.0012295821274513,
          1.0012778818333146,
          1.0012667892376534,
          1.00125575458128,
          1.0012440594844152,
          1.0012320102536318,
          1.001218961799678,
          1.0012041939731653,
          1.0014881129904332,
          1.0014692970131645,
          1.0014491014104587,
          1.00142892383491,
          1.0014086924881036,
          1.0013885356106689,
          1.0012712630535698,
          1.0012511646539988,
          1.0012311570322754,
          1.0012111366116925,
          1.001191080522533,
          1.0011710205101962,
          1.0011509615307768,
          1.0013421813405092,
          1.0013221170129591,
          1.001350151816411,
          1.0013302082229139,
          1.0013103255826035,
          1.0012903644520224,
          1.0012707925453963,
          1.0012517875638334,
          1.0013634114876182,
          1.0013443707669956,
          1.0013253518085004,
          1.0013063409131875,
          1.0012872684096883,
          1.0012682746807822,
          1.0012492475307686,
          1.001459335955664,
          1.0014413226432464,
          1.001423327282114,
          1.001405283177731,
          1.001387256473121,
          1.0013692635669518,
          1.0015824040040056,
          1.0015760819180652,
          1.0015696671989769,
          1.0015633138208981,
          1.001556880996139,
          1.001550553500061,
          1.0015442152084504,
          1.0015865739454228,
          1.0015795473698748,
          1.0015717017143353,
          1.0015635397424365,
          1.0015553758904332,
          1.0015556115802238,
          1.0015460322167684,
          1.0015774574824041,
          1.001567853533376,
          1.001556497586995,
          1.0015471322863838,
          1.0014742235496084,
          1.0014647560948906,
          1.0014546676940523,
          1.0014448968616982,
          1.001434307372784,
          1.0014230852848767,
          1.0015610305413114,
          1.0015485749028474,
          1.0015346815090633,
          1.0015191514519233,
          1.0015045436336154,
          1.0014859385504506,
          1.0014667137853053,
          1.0016065866129273,
          1.0015871070901023,
          1.0015676092938701,
          1.0015481559632124,
          1.0015320948757176,
          1.0015128358296645,
          1.0017106160092313,
          1.0016913332245159,
          1.0016720693083456,
          1.0016528938525184,
          1.0016336988875534,
          1.0016144530254403,
          1.0015952601079208,
          1.001702065488526,
          1.001682867584478,
          1.0016637751487318,
          1.001644701228501,
          1.0016257648488762,
          1.0016066417916603,
          1.001868462775021,
          1.0018494494409356,
          1.001830402215155,
          1.0018120007932263,
          1.0017928943695438,
          1.0018116933009948,
          1.001790666298242,
          1.0010915611751778,
          1.001070454831044,
          1.0010494275925212,
          1.0010611287920077,
          1.0010386381840082,
          1.0010171245812665,
          1.0009956088358594,
          1.0009174784980033,
          1.0008958834329227,
          1.000874870526084,
          1.0008540039715683,
          1.0008415700308817,
          1.000836498066773,
          1.0009838137778757,
          1.0009771345547422,
          1.0009704529400405,
          1.0009626174548454,
          1.000954643258736,
          1.0009466740236403,
          1.0009387059673196,
          1.000806014197859,
          1.000798045744962,
          1.000793552555131,
          1.0007854651942367,
          1.000776825122181,
          1.0007668854761147,
          1.0010227345925788,
          1.001012661545943,
          1.0010023111069002,
          1.0009912050963445,
          1.0009787465800857,
          1.0009644187493667,
          1.0009477470682866,
          1.0010072001485906,
          1.0009877488899517,
          1.0009676715859888,
          1.0009477621531229,
          1.000927838950782,
          1.0009079611806904,
          1.0010298529527888,
          1.0010099388288753,
          1.000990089541444,
          1.0010173949616687,
          1.000997520449844,
          1.0009776854372727,
          1.0009578833696091,
          1.0009382902139379,
          1.0009188471155548,
          1.0010650340185214,
          1.0010453878981984,
          1.0010264388700234,
          1.0010069107234398,
          1.000987323659448,
          1.000936426982087,
          1.000882486383212,
          1.0008626626837025,
          1.0008428011118853,
          1.0008230145460562,
          1.0008032557247266,
          1.0009021041408634,
          1.0008826556878452,
          1.0008628310410181,
          1.0008431738003154,
          1.0008898113822537,
          1.0008746662195322,
          1.0008596262478642,
          1.0017989086070422
         ],
         "yaxis": "y"
        }
       ],
       "layout": {
        "legend": {
         "title": {
          "text": "variable"
         },
         "tracegroupgap": 0
        },
        "margin": {
         "t": 60
        },
        "template": {
         "data": {
          "bar": [
           {
            "error_x": {
             "color": "#2a3f5f"
            },
            "error_y": {
             "color": "#2a3f5f"
            },
            "marker": {
             "line": {
              "color": "#E5ECF6",
              "width": 0.5
             },
             "pattern": {
              "fillmode": "overlay",
              "size": 10,
              "solidity": 0.2
             }
            },
            "type": "bar"
           }
          ],
          "barpolar": [
           {
            "marker": {
             "line": {
              "color": "#E5ECF6",
              "width": 0.5
             },
             "pattern": {
              "fillmode": "overlay",
              "size": 10,
              "solidity": 0.2
             }
            },
            "type": "barpolar"
           }
          ],
          "carpet": [
           {
            "aaxis": {
             "endlinecolor": "#2a3f5f",
             "gridcolor": "white",
             "linecolor": "white",
             "minorgridcolor": "white",
             "startlinecolor": "#2a3f5f"
            },
            "baxis": {
             "endlinecolor": "#2a3f5f",
             "gridcolor": "white",
             "linecolor": "white",
             "minorgridcolor": "white",
             "startlinecolor": "#2a3f5f"
            },
            "type": "carpet"
           }
          ],
          "choropleth": [
           {
            "colorbar": {
             "outlinewidth": 0,
             "ticks": ""
            },
            "type": "choropleth"
           }
          ],
          "contour": [
           {
            "colorbar": {
             "outlinewidth": 0,
             "ticks": ""
            },
            "colorscale": [
             [
              0,
              "#0d0887"
             ],
             [
              0.1111111111111111,
              "#46039f"
             ],
             [
              0.2222222222222222,
              "#7201a8"
             ],
             [
              0.3333333333333333,
              "#9c179e"
             ],
             [
              0.4444444444444444,
              "#bd3786"
             ],
             [
              0.5555555555555556,
              "#d8576b"
             ],
             [
              0.6666666666666666,
              "#ed7953"
             ],
             [
              0.7777777777777778,
              "#fb9f3a"
             ],
             [
              0.8888888888888888,
              "#fdca26"
             ],
             [
              1,
              "#f0f921"
             ]
            ],
            "type": "contour"
           }
          ],
          "contourcarpet": [
           {
            "colorbar": {
             "outlinewidth": 0,
             "ticks": ""
            },
            "type": "contourcarpet"
           }
          ],
          "heatmap": [
           {
            "colorbar": {
             "outlinewidth": 0,
             "ticks": ""
            },
            "colorscale": [
             [
              0,
              "#0d0887"
             ],
             [
              0.1111111111111111,
              "#46039f"
             ],
             [
              0.2222222222222222,
              "#7201a8"
             ],
             [
              0.3333333333333333,
              "#9c179e"
             ],
             [
              0.4444444444444444,
              "#bd3786"
             ],
             [
              0.5555555555555556,
              "#d8576b"
             ],
             [
              0.6666666666666666,
              "#ed7953"
             ],
             [
              0.7777777777777778,
              "#fb9f3a"
             ],
             [
              0.8888888888888888,
              "#fdca26"
             ],
             [
              1,
              "#f0f921"
             ]
            ],
            "type": "heatmap"
           }
          ],
          "heatmapgl": [
           {
            "colorbar": {
             "outlinewidth": 0,
             "ticks": ""
            },
            "colorscale": [
             [
              0,
              "#0d0887"
             ],
             [
              0.1111111111111111,
              "#46039f"
             ],
             [
              0.2222222222222222,
              "#7201a8"
             ],
             [
              0.3333333333333333,
              "#9c179e"
             ],
             [
              0.4444444444444444,
              "#bd3786"
             ],
             [
              0.5555555555555556,
              "#d8576b"
             ],
             [
              0.6666666666666666,
              "#ed7953"
             ],
             [
              0.7777777777777778,
              "#fb9f3a"
             ],
             [
              0.8888888888888888,
              "#fdca26"
             ],
             [
              1,
              "#f0f921"
             ]
            ],
            "type": "heatmapgl"
           }
          ],
          "histogram": [
           {
            "marker": {
             "pattern": {
              "fillmode": "overlay",
              "size": 10,
              "solidity": 0.2
             }
            },
            "type": "histogram"
           }
          ],
          "histogram2d": [
           {
            "colorbar": {
             "outlinewidth": 0,
             "ticks": ""
            },
            "colorscale": [
             [
              0,
              "#0d0887"
             ],
             [
              0.1111111111111111,
              "#46039f"
             ],
             [
              0.2222222222222222,
              "#7201a8"
             ],
             [
              0.3333333333333333,
              "#9c179e"
             ],
             [
              0.4444444444444444,
              "#bd3786"
             ],
             [
              0.5555555555555556,
              "#d8576b"
             ],
             [
              0.6666666666666666,
              "#ed7953"
             ],
             [
              0.7777777777777778,
              "#fb9f3a"
             ],
             [
              0.8888888888888888,
              "#fdca26"
             ],
             [
              1,
              "#f0f921"
             ]
            ],
            "type": "histogram2d"
           }
          ],
          "histogram2dcontour": [
           {
            "colorbar": {
             "outlinewidth": 0,
             "ticks": ""
            },
            "colorscale": [
             [
              0,
              "#0d0887"
             ],
             [
              0.1111111111111111,
              "#46039f"
             ],
             [
              0.2222222222222222,
              "#7201a8"
             ],
             [
              0.3333333333333333,
              "#9c179e"
             ],
             [
              0.4444444444444444,
              "#bd3786"
             ],
             [
              0.5555555555555556,
              "#d8576b"
             ],
             [
              0.6666666666666666,
              "#ed7953"
             ],
             [
              0.7777777777777778,
              "#fb9f3a"
             ],
             [
              0.8888888888888888,
              "#fdca26"
             ],
             [
              1,
              "#f0f921"
             ]
            ],
            "type": "histogram2dcontour"
           }
          ],
          "mesh3d": [
           {
            "colorbar": {
             "outlinewidth": 0,
             "ticks": ""
            },
            "type": "mesh3d"
           }
          ],
          "parcoords": [
           {
            "line": {
             "colorbar": {
              "outlinewidth": 0,
              "ticks": ""
             }
            },
            "type": "parcoords"
           }
          ],
          "pie": [
           {
            "automargin": true,
            "type": "pie"
           }
          ],
          "scatter": [
           {
            "fillpattern": {
             "fillmode": "overlay",
             "size": 10,
             "solidity": 0.2
            },
            "type": "scatter"
           }
          ],
          "scatter3d": [
           {
            "line": {
             "colorbar": {
              "outlinewidth": 0,
              "ticks": ""
             }
            },
            "marker": {
             "colorbar": {
              "outlinewidth": 0,
              "ticks": ""
             }
            },
            "type": "scatter3d"
           }
          ],
          "scattercarpet": [
           {
            "marker": {
             "colorbar": {
              "outlinewidth": 0,
              "ticks": ""
             }
            },
            "type": "scattercarpet"
           }
          ],
          "scattergeo": [
           {
            "marker": {
             "colorbar": {
              "outlinewidth": 0,
              "ticks": ""
             }
            },
            "type": "scattergeo"
           }
          ],
          "scattergl": [
           {
            "marker": {
             "colorbar": {
              "outlinewidth": 0,
              "ticks": ""
             }
            },
            "type": "scattergl"
           }
          ],
          "scattermapbox": [
           {
            "marker": {
             "colorbar": {
              "outlinewidth": 0,
              "ticks": ""
             }
            },
            "type": "scattermapbox"
           }
          ],
          "scatterpolar": [
           {
            "marker": {
             "colorbar": {
              "outlinewidth": 0,
              "ticks": ""
             }
            },
            "type": "scatterpolar"
           }
          ],
          "scatterpolargl": [
           {
            "marker": {
             "colorbar": {
              "outlinewidth": 0,
              "ticks": ""
             }
            },
            "type": "scatterpolargl"
           }
          ],
          "scatterternary": [
           {
            "marker": {
             "colorbar": {
              "outlinewidth": 0,
              "ticks": ""
             }
            },
            "type": "scatterternary"
           }
          ],
          "surface": [
           {
            "colorbar": {
             "outlinewidth": 0,
             "ticks": ""
            },
            "colorscale": [
             [
              0,
              "#0d0887"
             ],
             [
              0.1111111111111111,
              "#46039f"
             ],
             [
              0.2222222222222222,
              "#7201a8"
             ],
             [
              0.3333333333333333,
              "#9c179e"
             ],
             [
              0.4444444444444444,
              "#bd3786"
             ],
             [
              0.5555555555555556,
              "#d8576b"
             ],
             [
              0.6666666666666666,
              "#ed7953"
             ],
             [
              0.7777777777777778,
              "#fb9f3a"
             ],
             [
              0.8888888888888888,
              "#fdca26"
             ],
             [
              1,
              "#f0f921"
             ]
            ],
            "type": "surface"
           }
          ],
          "table": [
           {
            "cells": {
             "fill": {
              "color": "#EBF0F8"
             },
             "line": {
              "color": "white"
             }
            },
            "header": {
             "fill": {
              "color": "#C8D4E3"
             },
             "line": {
              "color": "white"
             }
            },
            "type": "table"
           }
          ]
         },
         "layout": {
          "annotationdefaults": {
           "arrowcolor": "#2a3f5f",
           "arrowhead": 0,
           "arrowwidth": 1
          },
          "autotypenumbers": "strict",
          "coloraxis": {
           "colorbar": {
            "outlinewidth": 0,
            "ticks": ""
           }
          },
          "colorscale": {
           "diverging": [
            [
             0,
             "#8e0152"
            ],
            [
             0.1,
             "#c51b7d"
            ],
            [
             0.2,
             "#de77ae"
            ],
            [
             0.3,
             "#f1b6da"
            ],
            [
             0.4,
             "#fde0ef"
            ],
            [
             0.5,
             "#f7f7f7"
            ],
            [
             0.6,
             "#e6f5d0"
            ],
            [
             0.7,
             "#b8e186"
            ],
            [
             0.8,
             "#7fbc41"
            ],
            [
             0.9,
             "#4d9221"
            ],
            [
             1,
             "#276419"
            ]
           ],
           "sequential": [
            [
             0,
             "#0d0887"
            ],
            [
             0.1111111111111111,
             "#46039f"
            ],
            [
             0.2222222222222222,
             "#7201a8"
            ],
            [
             0.3333333333333333,
             "#9c179e"
            ],
            [
             0.4444444444444444,
             "#bd3786"
            ],
            [
             0.5555555555555556,
             "#d8576b"
            ],
            [
             0.6666666666666666,
             "#ed7953"
            ],
            [
             0.7777777777777778,
             "#fb9f3a"
            ],
            [
             0.8888888888888888,
             "#fdca26"
            ],
            [
             1,
             "#f0f921"
            ]
           ],
           "sequentialminus": [
            [
             0,
             "#0d0887"
            ],
            [
             0.1111111111111111,
             "#46039f"
            ],
            [
             0.2222222222222222,
             "#7201a8"
            ],
            [
             0.3333333333333333,
             "#9c179e"
            ],
            [
             0.4444444444444444,
             "#bd3786"
            ],
            [
             0.5555555555555556,
             "#d8576b"
            ],
            [
             0.6666666666666666,
             "#ed7953"
            ],
            [
             0.7777777777777778,
             "#fb9f3a"
            ],
            [
             0.8888888888888888,
             "#fdca26"
            ],
            [
             1,
             "#f0f921"
            ]
           ]
          },
          "colorway": [
           "#636efa",
           "#EF553B",
           "#00cc96",
           "#ab63fa",
           "#FFA15A",
           "#19d3f3",
           "#FF6692",
           "#B6E880",
           "#FF97FF",
           "#FECB52"
          ],
          "font": {
           "color": "#2a3f5f"
          },
          "geo": {
           "bgcolor": "white",
           "lakecolor": "white",
           "landcolor": "#E5ECF6",
           "showlakes": true,
           "showland": true,
           "subunitcolor": "white"
          },
          "hoverlabel": {
           "align": "left"
          },
          "hovermode": "closest",
          "mapbox": {
           "style": "light"
          },
          "paper_bgcolor": "white",
          "plot_bgcolor": "#E5ECF6",
          "polar": {
           "angularaxis": {
            "gridcolor": "white",
            "linecolor": "white",
            "ticks": ""
           },
           "bgcolor": "#E5ECF6",
           "radialaxis": {
            "gridcolor": "white",
            "linecolor": "white",
            "ticks": ""
           }
          },
          "scene": {
           "xaxis": {
            "backgroundcolor": "#E5ECF6",
            "gridcolor": "white",
            "gridwidth": 2,
            "linecolor": "white",
            "showbackground": true,
            "ticks": "",
            "zerolinecolor": "white"
           },
           "yaxis": {
            "backgroundcolor": "#E5ECF6",
            "gridcolor": "white",
            "gridwidth": 2,
            "linecolor": "white",
            "showbackground": true,
            "ticks": "",
            "zerolinecolor": "white"
           },
           "zaxis": {
            "backgroundcolor": "#E5ECF6",
            "gridcolor": "white",
            "gridwidth": 2,
            "linecolor": "white",
            "showbackground": true,
            "ticks": "",
            "zerolinecolor": "white"
           }
          },
          "shapedefaults": {
           "line": {
            "color": "#2a3f5f"
           }
          },
          "ternary": {
           "aaxis": {
            "gridcolor": "white",
            "linecolor": "white",
            "ticks": ""
           },
           "baxis": {
            "gridcolor": "white",
            "linecolor": "white",
            "ticks": ""
           },
           "bgcolor": "#E5ECF6",
           "caxis": {
            "gridcolor": "white",
            "linecolor": "white",
            "ticks": ""
           }
          },
          "title": {
           "x": 0.05
          },
          "xaxis": {
           "automargin": true,
           "gridcolor": "white",
           "linecolor": "white",
           "ticks": "",
           "title": {
            "standoff": 15
           },
           "zerolinecolor": "white",
           "zerolinewidth": 2
          },
          "yaxis": {
           "automargin": true,
           "gridcolor": "white",
           "linecolor": "white",
           "ticks": "",
           "title": {
            "standoff": 15
           },
           "zerolinecolor": "white",
           "zerolinewidth": 2
          }
         }
        },
        "xaxis": {
         "anchor": "y",
         "domain": [
          0,
          1
         ],
         "title": {
          "text": "timestamp"
         }
        },
        "yaxis": {
         "anchor": "x",
         "domain": [
          0,
          1
         ],
         "title": {
          "text": "value"
         }
        }
       }
      }
     },
     "metadata": {},
     "output_type": "display_data"
    }
   ],
   "source": [
    "px.line(df['price_per_share'])"
   ]
  },
  {
   "cell_type": "code",
   "execution_count": null,
   "metadata": {},
   "outputs": [
    {
     "data": {
      "text/html": [
       "<div>\n",
       "<style scoped>\n",
       "    .dataframe tbody tr th:only-of-type {\n",
       "        vertical-align: middle;\n",
       "    }\n",
       "\n",
       "    .dataframe tbody tr th {\n",
       "        vertical-align: top;\n",
       "    }\n",
       "\n",
       "    .dataframe thead th {\n",
       "        text-align: right;\n",
       "    }\n",
       "</style>\n",
       "<table border=\"1\" class=\"dataframe\">\n",
       "  <thead>\n",
       "    <tr style=\"text-align: right;\">\n",
       "      <th></th>\n",
       "      <th>price_return</th>\n",
       "      <th>price_per_share</th>\n",
       "      <th>prior_price_per_share</th>\n",
       "    </tr>\n",
       "    <tr>\n",
       "      <th>timestamp</th>\n",
       "      <th></th>\n",
       "      <th></th>\n",
       "      <th></th>\n",
       "    </tr>\n",
       "  </thead>\n",
       "  <tbody>\n",
       "    <tr>\n",
       "      <th>2024-09-15 02:04:47+00:00</th>\n",
       "      <td>NaN</td>\n",
       "      <td>NaN</td>\n",
       "      <td>NaN</td>\n",
       "    </tr>\n",
       "    <tr>\n",
       "      <th>2024-09-15 05:44:35+00:00</th>\n",
       "      <td>NaN</td>\n",
       "      <td>NaN</td>\n",
       "      <td>NaN</td>\n",
       "    </tr>\n",
       "    <tr>\n",
       "      <th>2024-09-15 09:24:47+00:00</th>\n",
       "      <td>NaN</td>\n",
       "      <td>NaN</td>\n",
       "      <td>NaN</td>\n",
       "    </tr>\n",
       "    <tr>\n",
       "      <th>2024-09-15 13:04:11+00:00</th>\n",
       "      <td>NaN</td>\n",
       "      <td>NaN</td>\n",
       "      <td>NaN</td>\n",
       "    </tr>\n",
       "    <tr>\n",
       "      <th>2024-09-15 16:44:23+00:00</th>\n",
       "      <td>-0.001237</td>\n",
       "      <td>1.003816</td>\n",
       "      <td>NaN</td>\n",
       "    </tr>\n",
       "    <tr>\n",
       "      <th>...</th>\n",
       "      <td>...</td>\n",
       "      <td>...</td>\n",
       "      <td>...</td>\n",
       "    </tr>\n",
       "    <tr>\n",
       "      <th>2024-11-07 21:06:59+00:00</th>\n",
       "      <td>0.000000</td>\n",
       "      <td>1.000843</td>\n",
       "      <td>1.000863</td>\n",
       "    </tr>\n",
       "    <tr>\n",
       "      <th>2024-11-08 00:47:47+00:00</th>\n",
       "      <td>0.000000</td>\n",
       "      <td>1.000890</td>\n",
       "      <td>1.000843</td>\n",
       "    </tr>\n",
       "    <tr>\n",
       "      <th>2024-11-08 04:29:35+00:00</th>\n",
       "      <td>0.000000</td>\n",
       "      <td>1.000875</td>\n",
       "      <td>1.000890</td>\n",
       "    </tr>\n",
       "    <tr>\n",
       "      <th>2024-11-08 08:09:59+00:00</th>\n",
       "      <td>0.000000</td>\n",
       "      <td>1.000860</td>\n",
       "      <td>1.000875</td>\n",
       "    </tr>\n",
       "    <tr>\n",
       "      <th>2024-11-08 11:49:35+00:00</th>\n",
       "      <td>0.000000</td>\n",
       "      <td>1.001799</td>\n",
       "      <td>1.000860</td>\n",
       "    </tr>\n",
       "  </tbody>\n",
       "</table>\n",
       "<p>357 rows × 3 columns</p>\n",
       "</div>"
      ],
      "text/plain": [
       "                           price_return  price_per_share  \\\n",
       "timestamp                                                  \n",
       "2024-09-15 02:04:47+00:00           NaN              NaN   \n",
       "2024-09-15 05:44:35+00:00           NaN              NaN   \n",
       "2024-09-15 09:24:47+00:00           NaN              NaN   \n",
       "2024-09-15 13:04:11+00:00           NaN              NaN   \n",
       "2024-09-15 16:44:23+00:00     -0.001237         1.003816   \n",
       "...                                 ...              ...   \n",
       "2024-11-07 21:06:59+00:00      0.000000         1.000843   \n",
       "2024-11-08 00:47:47+00:00      0.000000         1.000890   \n",
       "2024-11-08 04:29:35+00:00      0.000000         1.000875   \n",
       "2024-11-08 08:09:59+00:00      0.000000         1.000860   \n",
       "2024-11-08 11:49:35+00:00      0.000000         1.001799   \n",
       "\n",
       "                           prior_price_per_share  \n",
       "timestamp                                         \n",
       "2024-09-15 02:04:47+00:00                    NaN  \n",
       "2024-09-15 05:44:35+00:00                    NaN  \n",
       "2024-09-15 09:24:47+00:00                    NaN  \n",
       "2024-09-15 13:04:11+00:00                    NaN  \n",
       "2024-09-15 16:44:23+00:00                    NaN  \n",
       "...                                          ...  \n",
       "2024-11-07 21:06:59+00:00               1.000863  \n",
       "2024-11-08 00:47:47+00:00               1.000843  \n",
       "2024-11-08 04:29:35+00:00               1.000890  \n",
       "2024-11-08 08:09:59+00:00               1.000875  \n",
       "2024-11-08 11:49:35+00:00               1.000860  \n",
       "\n",
       "[357 rows x 3 columns]"
      ]
     },
     "execution_count": 49,
     "metadata": {},
     "output_type": "execute_result"
    }
   ],
   "source": [
    "df"
   ]
  },
  {
   "cell_type": "code",
   "execution_count": null,
   "metadata": {},
   "outputs": [
    {
     "data": {
      "application/vnd.plotly.v1+json": {
       "config": {
        "plotlyServerURL": "https://plot.ly"
       },
       "data": [
        {
         "hovertemplate": "variable=pxETH/wETH (balancer) 30<br>timestamp=%{x}<br>value=%{y}<extra></extra>",
         "legendgroup": "pxETH/wETH (balancer) 30",
         "line": {
          "color": "#636efa",
          "dash": "solid"
         },
         "marker": {
          "symbol": "circle"
         },
         "mode": "lines",
         "name": "pxETH/wETH (balancer) 30",
         "orientation": "v",
         "showlegend": true,
         "type": "scatter",
         "x": [
          "2024-09-15T02:04:47+00:00",
          "2024-09-15T05:44:35+00:00",
          "2024-09-15T09:24:47+00:00",
          "2024-09-15T13:04:11+00:00",
          "2024-09-15T16:44:23+00:00",
          "2024-09-15T20:23:35+00:00",
          "2024-09-16T00:03:11+00:00",
          "2024-09-16T03:43:47+00:00",
          "2024-09-16T07:23:23+00:00",
          "2024-09-16T11:04:47+00:00",
          "2024-09-16T14:46:11+00:00",
          "2024-09-16T18:26:47+00:00",
          "2024-09-16T22:06:23+00:00",
          "2024-09-17T01:46:35+00:00",
          "2024-09-17T05:27:47+00:00",
          "2024-09-17T09:08:35+00:00",
          "2024-09-17T12:48:23+00:00",
          "2024-09-17T16:29:11+00:00",
          "2024-09-17T20:09:47+00:00",
          "2024-09-17T23:50:47+00:00",
          "2024-09-18T03:30:35+00:00",
          "2024-09-18T07:11:35+00:00",
          "2024-09-18T10:51:35+00:00",
          "2024-09-18T14:32:23+00:00",
          "2024-09-18T18:12:23+00:00",
          "2024-09-18T21:52:47+00:00",
          "2024-09-19T01:33:11+00:00",
          "2024-09-19T05:13:23+00:00",
          "2024-09-19T08:53:23+00:00",
          "2024-09-19T12:33:23+00:00",
          "2024-09-19T16:13:23+00:00",
          "2024-09-19T19:53:23+00:00",
          "2024-09-19T23:33:11+00:00",
          "2024-09-20T03:13:35+00:00",
          "2024-09-20T06:54:11+00:00",
          "2024-09-20T10:35:11+00:00",
          "2024-09-20T14:14:59+00:00",
          "2024-09-20T17:54:59+00:00",
          "2024-09-20T21:35:23+00:00",
          "2024-09-21T01:16:23+00:00",
          "2024-09-21T04:56:23+00:00",
          "2024-09-21T08:38:11+00:00",
          "2024-09-21T12:18:11+00:00",
          "2024-09-21T15:58:11+00:00",
          "2024-09-21T19:38:11+00:00",
          "2024-09-21T23:19:11+00:00",
          "2024-09-22T02:58:47+00:00",
          "2024-09-22T06:38:35+00:00",
          "2024-09-22T10:18:23+00:00",
          "2024-09-22T13:58:11+00:00",
          "2024-09-22T17:37:59+00:00",
          "2024-09-22T21:18:11+00:00",
          "2024-09-23T00:57:47+00:00",
          "2024-09-23T04:37:23+00:00",
          "2024-09-23T08:17:35+00:00",
          "2024-09-23T11:58:59+00:00",
          "2024-09-23T15:38:59+00:00",
          "2024-09-23T19:18:59+00:00",
          "2024-09-23T22:58:59+00:00",
          "2024-09-24T02:38:47+00:00",
          "2024-09-24T06:18:23+00:00",
          "2024-09-24T09:57:47+00:00",
          "2024-09-24T13:37:23+00:00",
          "2024-09-24T17:17:47+00:00",
          "2024-09-24T20:57:11+00:00",
          "2024-09-25T00:36:59+00:00",
          "2024-09-25T04:17:23+00:00",
          "2024-09-25T07:57:11+00:00",
          "2024-09-25T11:37:35+00:00",
          "2024-09-25T15:18:35+00:00",
          "2024-09-25T18:59:35+00:00",
          "2024-09-25T22:38:47+00:00",
          "2024-09-26T02:18:35+00:00",
          "2024-09-26T05:58:23+00:00",
          "2024-09-26T09:37:59+00:00",
          "2024-09-26T13:17:35+00:00",
          "2024-09-26T16:56:59+00:00",
          "2024-09-26T20:36:59+00:00",
          "2024-09-27T00:17:47+00:00",
          "2024-09-27T03:57:35+00:00",
          "2024-09-27T07:37:11+00:00",
          "2024-09-27T11:16:59+00:00",
          "2024-09-27T14:56:47+00:00",
          "2024-09-27T18:36:47+00:00",
          "2024-09-27T22:16:11+00:00",
          "2024-09-28T01:55:59+00:00",
          "2024-09-28T05:36:23+00:00",
          "2024-09-28T09:15:59+00:00",
          "2024-09-28T12:55:47+00:00",
          "2024-09-28T16:35:23+00:00",
          "2024-09-28T20:15:47+00:00",
          "2024-09-28T23:56:35+00:00",
          "2024-09-29T03:36:47+00:00",
          "2024-09-29T07:17:11+00:00",
          "2024-09-29T10:56:47+00:00",
          "2024-09-29T14:36:35+00:00",
          "2024-09-29T18:16:11+00:00",
          "2024-09-29T21:56:47+00:00",
          "2024-09-30T01:36:35+00:00",
          "2024-09-30T05:16:35+00:00",
          "2024-09-30T08:55:59+00:00",
          "2024-09-30T12:35:23+00:00",
          "2024-09-30T16:15:11+00:00",
          "2024-09-30T19:54:47+00:00",
          "2024-09-30T23:34:23+00:00",
          "2024-10-01T03:13:59+00:00",
          "2024-10-01T06:53:59+00:00",
          "2024-10-01T10:33:35+00:00",
          "2024-10-01T14:13:47+00:00",
          "2024-10-01T17:54:11+00:00",
          "2024-10-01T21:34:23+00:00",
          "2024-10-02T01:14:11+00:00",
          "2024-10-02T04:54:11+00:00",
          "2024-10-02T08:33:47+00:00",
          "2024-10-02T12:12:59+00:00",
          "2024-10-02T15:53:11+00:00",
          "2024-10-02T19:33:23+00:00",
          "2024-10-02T23:12:47+00:00",
          "2024-10-03T02:52:11+00:00",
          "2024-10-03T06:32:23+00:00",
          "2024-10-03T10:11:59+00:00",
          "2024-10-03T13:51:59+00:00",
          "2024-10-03T17:33:23+00:00",
          "2024-10-03T21:13:47+00:00",
          "2024-10-04T00:53:11+00:00",
          "2024-10-04T04:32:23+00:00",
          "2024-10-04T08:11:59+00:00",
          "2024-10-04T11:51:23+00:00",
          "2024-10-04T15:30:59+00:00",
          "2024-10-04T19:10:35+00:00",
          "2024-10-04T22:50:23+00:00",
          "2024-10-05T02:30:35+00:00",
          "2024-10-05T06:09:59+00:00",
          "2024-10-05T09:49:59+00:00",
          "2024-10-05T13:29:23+00:00",
          "2024-10-05T17:09:23+00:00",
          "2024-10-05T20:48:59+00:00",
          "2024-10-06T00:28:11+00:00",
          "2024-10-06T04:07:47+00:00",
          "2024-10-06T07:47:35+00:00",
          "2024-10-06T11:27:47+00:00",
          "2024-10-06T15:07:47+00:00",
          "2024-10-06T18:47:35+00:00",
          "2024-10-06T22:27:23+00:00",
          "2024-10-07T02:07:35+00:00",
          "2024-10-07T05:47:35+00:00",
          "2024-10-07T09:27:11+00:00",
          "2024-10-07T13:06:35+00:00",
          "2024-10-07T16:46:47+00:00",
          "2024-10-07T20:26:23+00:00",
          "2024-10-08T00:05:59+00:00",
          "2024-10-08T03:45:47+00:00",
          "2024-10-08T07:25:35+00:00",
          "2024-10-08T11:04:59+00:00",
          "2024-10-08T14:44:47+00:00",
          "2024-10-08T18:24:11+00:00",
          "2024-10-08T22:04:47+00:00",
          "2024-10-09T01:44:35+00:00",
          "2024-10-09T05:23:47+00:00",
          "2024-10-09T09:03:35+00:00",
          "2024-10-09T12:43:59+00:00",
          "2024-10-09T16:23:11+00:00",
          "2024-10-09T20:02:59+00:00",
          "2024-10-09T23:42:35+00:00",
          "2024-10-10T03:22:23+00:00",
          "2024-10-10T07:02:23+00:00",
          "2024-10-10T10:42:11+00:00",
          "2024-10-10T14:21:47+00:00",
          "2024-10-10T18:01:11+00:00",
          "2024-10-10T21:40:59+00:00",
          "2024-10-11T01:20:35+00:00",
          "2024-10-11T05:00:35+00:00",
          "2024-10-11T08:40:59+00:00",
          "2024-10-11T12:21:35+00:00",
          "2024-10-11T16:02:35+00:00",
          "2024-10-11T19:42:47+00:00",
          "2024-10-11T23:23:35+00:00",
          "2024-10-12T03:04:23+00:00",
          "2024-10-12T06:44:47+00:00",
          "2024-10-12T10:26:35+00:00",
          "2024-10-12T14:06:59+00:00",
          "2024-10-12T17:46:59+00:00",
          "2024-10-12T21:27:35+00:00",
          "2024-10-13T01:07:59+00:00",
          "2024-10-13T04:50:11+00:00",
          "2024-10-13T08:32:47+00:00",
          "2024-10-13T12:14:23+00:00",
          "2024-10-13T15:54:11+00:00",
          "2024-10-13T19:34:11+00:00",
          "2024-10-13T23:14:47+00:00",
          "2024-10-14T02:54:59+00:00",
          "2024-10-14T06:34:47+00:00",
          "2024-10-14T10:16:11+00:00",
          "2024-10-14T13:57:11+00:00",
          "2024-10-14T17:36:59+00:00",
          "2024-10-14T21:17:23+00:00",
          "2024-10-15T00:57:23+00:00",
          "2024-10-15T04:37:47+00:00",
          "2024-10-15T08:17:23+00:00",
          "2024-10-15T11:57:59+00:00",
          "2024-10-15T15:38:35+00:00",
          "2024-10-15T19:18:59+00:00",
          "2024-10-15T22:59:11+00:00",
          "2024-10-16T02:39:59+00:00",
          "2024-10-16T06:19:59+00:00",
          "2024-10-16T09:59:59+00:00",
          "2024-10-16T13:40:11+00:00",
          "2024-10-16T17:20:11+00:00",
          "2024-10-16T21:00:23+00:00",
          "2024-10-17T00:40:59+00:00",
          "2024-10-17T04:21:11+00:00",
          "2024-10-17T08:01:11+00:00",
          "2024-10-17T11:40:47+00:00",
          "2024-10-17T15:21:11+00:00",
          "2024-10-17T19:01:23+00:00",
          "2024-10-17T22:41:35+00:00",
          "2024-10-18T02:21:35+00:00",
          "2024-10-18T06:01:59+00:00",
          "2024-10-18T09:42:11+00:00",
          "2024-10-18T13:21:47+00:00",
          "2024-10-18T17:02:11+00:00",
          "2024-10-18T20:41:47+00:00",
          "2024-10-19T00:21:47+00:00",
          "2024-10-19T04:01:47+00:00",
          "2024-10-19T07:42:23+00:00",
          "2024-10-19T11:21:59+00:00",
          "2024-10-19T15:01:59+00:00",
          "2024-10-19T18:41:47+00:00",
          "2024-10-19T22:21:23+00:00",
          "2024-10-20T02:00:47+00:00",
          "2024-10-20T05:40:47+00:00",
          "2024-10-20T09:20:35+00:00",
          "2024-10-20T12:59:59+00:00",
          "2024-10-20T16:40:59+00:00",
          "2024-10-20T20:20:47+00:00",
          "2024-10-21T00:00:59+00:00",
          "2024-10-21T03:41:35+00:00",
          "2024-10-21T07:21:35+00:00",
          "2024-10-21T11:00:59+00:00",
          "2024-10-21T14:40:59+00:00",
          "2024-10-21T18:20:23+00:00",
          "2024-10-21T22:00:35+00:00",
          "2024-10-22T01:40:59+00:00",
          "2024-10-22T05:21:11+00:00",
          "2024-10-22T09:01:23+00:00",
          "2024-10-22T12:41:35+00:00",
          "2024-10-22T16:21:35+00:00",
          "2024-10-22T20:01:35+00:00",
          "2024-10-22T23:42:23+00:00",
          "2024-10-23T03:22:35+00:00",
          "2024-10-23T07:01:35+00:00",
          "2024-10-23T10:41:35+00:00",
          "2024-10-23T14:21:11+00:00",
          "2024-10-23T18:00:59+00:00",
          "2024-10-23T21:40:11+00:00",
          "2024-10-24T01:20:47+00:00",
          "2024-10-24T05:00:47+00:00",
          "2024-10-24T08:40:59+00:00",
          "2024-10-24T12:20:35+00:00",
          "2024-10-24T16:00:35+00:00",
          "2024-10-24T19:40:11+00:00",
          "2024-10-24T23:19:59+00:00",
          "2024-10-25T02:59:59+00:00",
          "2024-10-25T06:40:11+00:00",
          "2024-10-25T10:19:35+00:00",
          "2024-10-25T13:59:35+00:00",
          "2024-10-25T17:39:35+00:00",
          "2024-10-25T21:19:11+00:00",
          "2024-10-26T00:58:59+00:00",
          "2024-10-26T04:39:23+00:00",
          "2024-10-26T08:19:11+00:00",
          "2024-10-26T11:59:59+00:00",
          "2024-10-26T15:40:35+00:00",
          "2024-10-26T19:20:11+00:00",
          "2024-10-26T22:59:59+00:00",
          "2024-10-27T02:40:11+00:00",
          "2024-10-27T06:19:47+00:00",
          "2024-10-27T09:59:23+00:00",
          "2024-10-27T13:40:11+00:00",
          "2024-10-27T17:19:47+00:00",
          "2024-10-27T20:59:11+00:00",
          "2024-10-28T00:38:35+00:00",
          "2024-10-28T04:18:47+00:00",
          "2024-10-28T07:59:47+00:00",
          "2024-10-28T11:39:47+00:00",
          "2024-10-28T15:20:11+00:00",
          "2024-10-28T19:00:35+00:00",
          "2024-10-28T22:40:23+00:00",
          "2024-10-29T02:20:47+00:00",
          "2024-10-29T06:00:35+00:00",
          "2024-10-29T09:41:11+00:00",
          "2024-10-29T13:21:35+00:00",
          "2024-10-29T17:01:11+00:00",
          "2024-10-29T20:40:35+00:00",
          "2024-10-30T00:20:23+00:00",
          "2024-10-30T04:00:11+00:00",
          "2024-10-30T07:40:35+00:00",
          "2024-10-30T11:21:47+00:00",
          "2024-10-30T15:03:35+00:00",
          "2024-10-30T18:43:11+00:00",
          "2024-10-30T22:22:47+00:00",
          "2024-10-31T02:02:11+00:00",
          "2024-10-31T05:42:59+00:00",
          "2024-10-31T09:23:35+00:00",
          "2024-10-31T13:02:47+00:00",
          "2024-10-31T16:42:11+00:00",
          "2024-10-31T20:21:35+00:00",
          "2024-11-01T00:01:23+00:00",
          "2024-11-01T03:41:11+00:00",
          "2024-11-01T07:20:59+00:00",
          "2024-11-01T11:00:47+00:00",
          "2024-11-01T14:40:35+00:00",
          "2024-11-01T18:20:23+00:00",
          "2024-11-01T22:00:35+00:00",
          "2024-11-02T01:40:47+00:00",
          "2024-11-02T05:21:11+00:00",
          "2024-11-02T09:00:59+00:00",
          "2024-11-02T12:41:59+00:00",
          "2024-11-02T16:22:35+00:00",
          "2024-11-02T20:02:35+00:00",
          "2024-11-02T23:43:35+00:00",
          "2024-11-03T03:24:23+00:00",
          "2024-11-03T07:04:35+00:00",
          "2024-11-03T10:43:47+00:00",
          "2024-11-03T14:23:47+00:00",
          "2024-11-03T18:04:35+00:00",
          "2024-11-03T21:43:59+00:00",
          "2024-11-04T01:23:47+00:00",
          "2024-11-04T05:03:47+00:00",
          "2024-11-04T08:42:59+00:00",
          "2024-11-04T12:23:35+00:00",
          "2024-11-04T16:02:59+00:00",
          "2024-11-04T19:43:23+00:00",
          "2024-11-04T23:23:23+00:00",
          "2024-11-05T03:03:23+00:00",
          "2024-11-05T06:44:11+00:00",
          "2024-11-05T10:24:11+00:00",
          "2024-11-05T14:04:11+00:00",
          "2024-11-05T17:44:23+00:00",
          "2024-11-05T21:25:11+00:00",
          "2024-11-06T01:04:59+00:00",
          "2024-11-06T04:44:23+00:00",
          "2024-11-06T08:24:23+00:00",
          "2024-11-06T12:05:23+00:00",
          "2024-11-06T15:45:47+00:00",
          "2024-11-06T19:25:23+00:00",
          "2024-11-06T23:05:35+00:00",
          "2024-11-07T02:45:35+00:00",
          "2024-11-07T06:25:23+00:00",
          "2024-11-07T10:05:23+00:00",
          "2024-11-07T13:45:47+00:00",
          "2024-11-07T17:27:11+00:00",
          "2024-11-07T21:06:59+00:00",
          "2024-11-08T00:47:47+00:00",
          "2024-11-08T04:29:35+00:00",
          "2024-11-08T08:09:59+00:00",
          "2024-11-08T11:49:35+00:00"
         ],
         "xaxis": "x",
         "y": [
          null,
          null,
          null,
          null,
          -0.001236648411700317,
          -0.001244439309779704,
          0.001182686461749497,
          0.001954504960329254,
          0.001948123969776483,
          0.001948123969776483,
          -0.004753551484492089,
          0.001465432885777412,
          0.001465432885777412,
          0.001460395829381419,
          0.001444957977056839,
          0.001444957977056839,
          0.001444957977056839,
          -0.004455390632722542,
          0.000593754236629239,
          0.000609538285511769,
          0.000625182413593869,
          0.000640860444767825,
          0.000500684585587288,
          0.000516410504817559,
          0.000532122719704145,
          0.000547854488910815,
          0.000570538248399987,
          0.000586419176499911,
          0.000487842255045325,
          0.000503684571907746,
          0.000509496970807179,
          0.000519725958036586,
          0.000534806804925382,
          0.000550051781623849,
          0.000552277222078463,
          0.000354484625312312,
          0.000324277207291843,
          0.00033582635795979,
          0.000347397554321143,
          0.000358996928592993,
          0.000370523887101485,
          0.000382150574108559,
          0.000110630363213902,
          0.000122159727414534,
          0.00013370482298782,
          0.000145308561476488,
          0.000151763068225048,
          0.000162921344484045,
          -0.00001612027756847,
          -0.00000122358564638,
          0.000009970790416146,
          0.000020812864727669,
          0.000031612275305664,
          0.000042408566030169,
          0.000053229833987917,
          0.000052171432790397,
          0.00006190889234119,
          0.000066014813023831,
          0.000070122754921273,
          0.000074780795498526,
          0.000079200586326618,
          0.000019680212395758,
          0.000025945770520274,
          0.00004383035089456,
          0.00005284460581771,
          0.000062352482850904,
          0.000071878440931267,
          0.000081378006328414,
          0.001013338234133448,
          0.001022724235814739,
          0.001032167957177099,
          0.001041586648048689,
          0.001036336743924626,
          0.001046846175773441,
          0.000936435202716199,
          0.000947911777361345,
          0.000946485112521937,
          0.000961067423928955,
          0.000976817716907744,
          0.00099246821928682,
          0.001003445566040236,
          0.000763749657508673,
          0.000755320542341457,
          0.00076997927721415,
          0.000784613593789524,
          0.000799272396406818,
          0.000813970000048788,
          0.000715043907365969,
          0.000729704583312318,
          0.00074433024280313,
          0.000758990107273064,
          0.000773680401402235,
          0.000788304743948521,
          0.000802965543898809,
          0.000663556362898485,
          0.000678156920842343,
          0.00069273367529626,
          0.000707326901770861,
          0.000721832014851082,
          0.000736264141190096,
          0.000667072205032648,
          0.00068146747882088,
          0.000695883509373362,
          0.000710286402370205,
          0.00072468646134825,
          0.000739085376666061,
          0.000753509502216733,
          0.000667501454740219,
          0.00068202023817644,
          0.000696545558344936,
          0.000711044156728833,
          0.000726849087675989,
          0.000741366082124117,
          0.000668130850684292,
          0.000682563320368693,
          0.00069425124234934,
          0.00070719786992555,
          0.000710483219272524,
          0.000713984843993366,
          0.000718590277837167,
          0.000514372715517083,
          0.000520279676532304,
          0.000526630507397699,
          0.000533562808867762,
          0.00054045399373145,
          0.000547338628820621,
          0.00062818622138296,
          0.000636370977260983,
          0.000643119537858678,
          0.000649933088535207,
          0.000656876194964617,
          0.000664350196901092,
          0.000671333755310346,
          0.000426258408613517,
          0.000434528718053648,
          0.000442890506412039,
          0.000451970743087256,
          0.000462174383604922,
          0.000473772801180679,
          0.000487016923197992,
          0.000458410809608579,
          0.000456031147163286,
          0.000469157481727215,
          0.000482282750987751,
          0.000495429727694996,
          0.000508570516618925,
          0.000410996707353965,
          0.000424090618133027,
          0.000437230866444008,
          0.00045037579575422,
          0.000464034410481821,
          0.000477740695889425,
          0.000491410654354446,
          0.000496396231663211,
          0.000510064351491896,
          0.000523706445568589,
          0.000541955736435592,
          0.000555726137776154,
          0.000569454566445506,
          0.000488848906011578,
          0.000502655575691264,
          0.00051638591795612,
          0.00053015268682565,
          0.000543905662691003,
          0.000557666708667483,
          0.000571423083325325,
          0.000476585959579216,
          0.000490329041682793,
          0.000504058813239233,
          0.000601606385787601,
          0.000617419635571791,
          0.000633244984501281,
          0.000649082546362617,
          0.001169974178650389,
          0.001171338836052648,
          0.001186825954682315,
          0.001202216689857342,
          0.001217588821416863,
          0.001215934799883438,
          0.001054801051826619,
          0.001059358394150415,
          0.001064850799657501,
          0.001070645066169457,
          0.001076434001545565,
          0.001083300611242624,
          0.001081302378490173,
          0.001050450038162743,
          0.00105700485320157,
          0.001063574895837416,
          0.001070156514153247,
          0.001076859746846524,
          0.001083585237347108,
          0.001047503841994334,
          0.001055788831778246,
          0.001064032122625596,
          0.001072768696476794,
          0,
          0,
          0,
          0,
          0,
          0,
          0,
          0,
          0,
          0,
          0,
          0,
          0,
          0,
          0,
          0,
          0,
          0,
          0,
          0,
          0,
          0,
          0,
          0,
          0,
          0,
          0,
          0,
          0,
          0,
          0,
          0,
          0,
          0,
          0,
          0,
          0,
          0,
          0,
          0,
          0,
          0,
          0,
          0,
          0,
          0,
          0,
          0,
          0,
          0,
          0,
          0,
          0,
          0,
          0,
          0,
          0,
          0,
          0,
          0,
          0,
          0,
          0,
          0,
          0,
          0,
          0,
          0,
          0,
          0,
          0,
          0,
          0,
          0,
          0,
          0,
          0,
          0,
          0,
          0,
          0,
          0,
          0,
          0,
          0,
          0,
          0,
          0,
          0,
          0,
          0,
          0,
          0,
          0,
          0,
          0,
          0,
          0,
          0,
          0,
          0,
          0,
          0,
          0,
          0,
          0,
          0,
          0,
          0,
          0,
          0,
          0,
          0,
          0,
          0,
          0,
          0,
          0,
          0,
          0,
          0,
          0,
          0,
          0,
          0,
          0,
          0,
          0,
          0,
          0,
          0,
          0,
          0,
          0,
          0,
          0,
          0,
          0,
          0,
          0,
          0,
          0,
          0,
          0,
          0,
          0,
          0,
          0,
          0,
          0,
          0,
          0,
          0,
          0,
          0,
          0,
          0,
          0,
          0,
          0,
          0
         ],
         "yaxis": "y"
        }
       ],
       "layout": {
        "legend": {
         "title": {
          "text": "variable"
         },
         "tracegroupgap": 0
        },
        "margin": {
         "t": 60
        },
        "template": {
         "data": {
          "bar": [
           {
            "error_x": {
             "color": "#2a3f5f"
            },
            "error_y": {
             "color": "#2a3f5f"
            },
            "marker": {
             "line": {
              "color": "#E5ECF6",
              "width": 0.5
             },
             "pattern": {
              "fillmode": "overlay",
              "size": 10,
              "solidity": 0.2
             }
            },
            "type": "bar"
           }
          ],
          "barpolar": [
           {
            "marker": {
             "line": {
              "color": "#E5ECF6",
              "width": 0.5
             },
             "pattern": {
              "fillmode": "overlay",
              "size": 10,
              "solidity": 0.2
             }
            },
            "type": "barpolar"
           }
          ],
          "carpet": [
           {
            "aaxis": {
             "endlinecolor": "#2a3f5f",
             "gridcolor": "white",
             "linecolor": "white",
             "minorgridcolor": "white",
             "startlinecolor": "#2a3f5f"
            },
            "baxis": {
             "endlinecolor": "#2a3f5f",
             "gridcolor": "white",
             "linecolor": "white",
             "minorgridcolor": "white",
             "startlinecolor": "#2a3f5f"
            },
            "type": "carpet"
           }
          ],
          "choropleth": [
           {
            "colorbar": {
             "outlinewidth": 0,
             "ticks": ""
            },
            "type": "choropleth"
           }
          ],
          "contour": [
           {
            "colorbar": {
             "outlinewidth": 0,
             "ticks": ""
            },
            "colorscale": [
             [
              0,
              "#0d0887"
             ],
             [
              0.1111111111111111,
              "#46039f"
             ],
             [
              0.2222222222222222,
              "#7201a8"
             ],
             [
              0.3333333333333333,
              "#9c179e"
             ],
             [
              0.4444444444444444,
              "#bd3786"
             ],
             [
              0.5555555555555556,
              "#d8576b"
             ],
             [
              0.6666666666666666,
              "#ed7953"
             ],
             [
              0.7777777777777778,
              "#fb9f3a"
             ],
             [
              0.8888888888888888,
              "#fdca26"
             ],
             [
              1,
              "#f0f921"
             ]
            ],
            "type": "contour"
           }
          ],
          "contourcarpet": [
           {
            "colorbar": {
             "outlinewidth": 0,
             "ticks": ""
            },
            "type": "contourcarpet"
           }
          ],
          "heatmap": [
           {
            "colorbar": {
             "outlinewidth": 0,
             "ticks": ""
            },
            "colorscale": [
             [
              0,
              "#0d0887"
             ],
             [
              0.1111111111111111,
              "#46039f"
             ],
             [
              0.2222222222222222,
              "#7201a8"
             ],
             [
              0.3333333333333333,
              "#9c179e"
             ],
             [
              0.4444444444444444,
              "#bd3786"
             ],
             [
              0.5555555555555556,
              "#d8576b"
             ],
             [
              0.6666666666666666,
              "#ed7953"
             ],
             [
              0.7777777777777778,
              "#fb9f3a"
             ],
             [
              0.8888888888888888,
              "#fdca26"
             ],
             [
              1,
              "#f0f921"
             ]
            ],
            "type": "heatmap"
           }
          ],
          "heatmapgl": [
           {
            "colorbar": {
             "outlinewidth": 0,
             "ticks": ""
            },
            "colorscale": [
             [
              0,
              "#0d0887"
             ],
             [
              0.1111111111111111,
              "#46039f"
             ],
             [
              0.2222222222222222,
              "#7201a8"
             ],
             [
              0.3333333333333333,
              "#9c179e"
             ],
             [
              0.4444444444444444,
              "#bd3786"
             ],
             [
              0.5555555555555556,
              "#d8576b"
             ],
             [
              0.6666666666666666,
              "#ed7953"
             ],
             [
              0.7777777777777778,
              "#fb9f3a"
             ],
             [
              0.8888888888888888,
              "#fdca26"
             ],
             [
              1,
              "#f0f921"
             ]
            ],
            "type": "heatmapgl"
           }
          ],
          "histogram": [
           {
            "marker": {
             "pattern": {
              "fillmode": "overlay",
              "size": 10,
              "solidity": 0.2
             }
            },
            "type": "histogram"
           }
          ],
          "histogram2d": [
           {
            "colorbar": {
             "outlinewidth": 0,
             "ticks": ""
            },
            "colorscale": [
             [
              0,
              "#0d0887"
             ],
             [
              0.1111111111111111,
              "#46039f"
             ],
             [
              0.2222222222222222,
              "#7201a8"
             ],
             [
              0.3333333333333333,
              "#9c179e"
             ],
             [
              0.4444444444444444,
              "#bd3786"
             ],
             [
              0.5555555555555556,
              "#d8576b"
             ],
             [
              0.6666666666666666,
              "#ed7953"
             ],
             [
              0.7777777777777778,
              "#fb9f3a"
             ],
             [
              0.8888888888888888,
              "#fdca26"
             ],
             [
              1,
              "#f0f921"
             ]
            ],
            "type": "histogram2d"
           }
          ],
          "histogram2dcontour": [
           {
            "colorbar": {
             "outlinewidth": 0,
             "ticks": ""
            },
            "colorscale": [
             [
              0,
              "#0d0887"
             ],
             [
              0.1111111111111111,
              "#46039f"
             ],
             [
              0.2222222222222222,
              "#7201a8"
             ],
             [
              0.3333333333333333,
              "#9c179e"
             ],
             [
              0.4444444444444444,
              "#bd3786"
             ],
             [
              0.5555555555555556,
              "#d8576b"
             ],
             [
              0.6666666666666666,
              "#ed7953"
             ],
             [
              0.7777777777777778,
              "#fb9f3a"
             ],
             [
              0.8888888888888888,
              "#fdca26"
             ],
             [
              1,
              "#f0f921"
             ]
            ],
            "type": "histogram2dcontour"
           }
          ],
          "mesh3d": [
           {
            "colorbar": {
             "outlinewidth": 0,
             "ticks": ""
            },
            "type": "mesh3d"
           }
          ],
          "parcoords": [
           {
            "line": {
             "colorbar": {
              "outlinewidth": 0,
              "ticks": ""
             }
            },
            "type": "parcoords"
           }
          ],
          "pie": [
           {
            "automargin": true,
            "type": "pie"
           }
          ],
          "scatter": [
           {
            "fillpattern": {
             "fillmode": "overlay",
             "size": 10,
             "solidity": 0.2
            },
            "type": "scatter"
           }
          ],
          "scatter3d": [
           {
            "line": {
             "colorbar": {
              "outlinewidth": 0,
              "ticks": ""
             }
            },
            "marker": {
             "colorbar": {
              "outlinewidth": 0,
              "ticks": ""
             }
            },
            "type": "scatter3d"
           }
          ],
          "scattercarpet": [
           {
            "marker": {
             "colorbar": {
              "outlinewidth": 0,
              "ticks": ""
             }
            },
            "type": "scattercarpet"
           }
          ],
          "scattergeo": [
           {
            "marker": {
             "colorbar": {
              "outlinewidth": 0,
              "ticks": ""
             }
            },
            "type": "scattergeo"
           }
          ],
          "scattergl": [
           {
            "marker": {
             "colorbar": {
              "outlinewidth": 0,
              "ticks": ""
             }
            },
            "type": "scattergl"
           }
          ],
          "scattermapbox": [
           {
            "marker": {
             "colorbar": {
              "outlinewidth": 0,
              "ticks": ""
             }
            },
            "type": "scattermapbox"
           }
          ],
          "scatterpolar": [
           {
            "marker": {
             "colorbar": {
              "outlinewidth": 0,
              "ticks": ""
             }
            },
            "type": "scatterpolar"
           }
          ],
          "scatterpolargl": [
           {
            "marker": {
             "colorbar": {
              "outlinewidth": 0,
              "ticks": ""
             }
            },
            "type": "scatterpolargl"
           }
          ],
          "scatterternary": [
           {
            "marker": {
             "colorbar": {
              "outlinewidth": 0,
              "ticks": ""
             }
            },
            "type": "scatterternary"
           }
          ],
          "surface": [
           {
            "colorbar": {
             "outlinewidth": 0,
             "ticks": ""
            },
            "colorscale": [
             [
              0,
              "#0d0887"
             ],
             [
              0.1111111111111111,
              "#46039f"
             ],
             [
              0.2222222222222222,
              "#7201a8"
             ],
             [
              0.3333333333333333,
              "#9c179e"
             ],
             [
              0.4444444444444444,
              "#bd3786"
             ],
             [
              0.5555555555555556,
              "#d8576b"
             ],
             [
              0.6666666666666666,
              "#ed7953"
             ],
             [
              0.7777777777777778,
              "#fb9f3a"
             ],
             [
              0.8888888888888888,
              "#fdca26"
             ],
             [
              1,
              "#f0f921"
             ]
            ],
            "type": "surface"
           }
          ],
          "table": [
           {
            "cells": {
             "fill": {
              "color": "#EBF0F8"
             },
             "line": {
              "color": "white"
             }
            },
            "header": {
             "fill": {
              "color": "#C8D4E3"
             },
             "line": {
              "color": "white"
             }
            },
            "type": "table"
           }
          ]
         },
         "layout": {
          "annotationdefaults": {
           "arrowcolor": "#2a3f5f",
           "arrowhead": 0,
           "arrowwidth": 1
          },
          "autotypenumbers": "strict",
          "coloraxis": {
           "colorbar": {
            "outlinewidth": 0,
            "ticks": ""
           }
          },
          "colorscale": {
           "diverging": [
            [
             0,
             "#8e0152"
            ],
            [
             0.1,
             "#c51b7d"
            ],
            [
             0.2,
             "#de77ae"
            ],
            [
             0.3,
             "#f1b6da"
            ],
            [
             0.4,
             "#fde0ef"
            ],
            [
             0.5,
             "#f7f7f7"
            ],
            [
             0.6,
             "#e6f5d0"
            ],
            [
             0.7,
             "#b8e186"
            ],
            [
             0.8,
             "#7fbc41"
            ],
            [
             0.9,
             "#4d9221"
            ],
            [
             1,
             "#276419"
            ]
           ],
           "sequential": [
            [
             0,
             "#0d0887"
            ],
            [
             0.1111111111111111,
             "#46039f"
            ],
            [
             0.2222222222222222,
             "#7201a8"
            ],
            [
             0.3333333333333333,
             "#9c179e"
            ],
            [
             0.4444444444444444,
             "#bd3786"
            ],
            [
             0.5555555555555556,
             "#d8576b"
            ],
            [
             0.6666666666666666,
             "#ed7953"
            ],
            [
             0.7777777777777778,
             "#fb9f3a"
            ],
            [
             0.8888888888888888,
             "#fdca26"
            ],
            [
             1,
             "#f0f921"
            ]
           ],
           "sequentialminus": [
            [
             0,
             "#0d0887"
            ],
            [
             0.1111111111111111,
             "#46039f"
            ],
            [
             0.2222222222222222,
             "#7201a8"
            ],
            [
             0.3333333333333333,
             "#9c179e"
            ],
            [
             0.4444444444444444,
             "#bd3786"
            ],
            [
             0.5555555555555556,
             "#d8576b"
            ],
            [
             0.6666666666666666,
             "#ed7953"
            ],
            [
             0.7777777777777778,
             "#fb9f3a"
            ],
            [
             0.8888888888888888,
             "#fdca26"
            ],
            [
             1,
             "#f0f921"
            ]
           ]
          },
          "colorway": [
           "#636efa",
           "#EF553B",
           "#00cc96",
           "#ab63fa",
           "#FFA15A",
           "#19d3f3",
           "#FF6692",
           "#B6E880",
           "#FF97FF",
           "#FECB52"
          ],
          "font": {
           "color": "#2a3f5f"
          },
          "geo": {
           "bgcolor": "white",
           "lakecolor": "white",
           "landcolor": "#E5ECF6",
           "showlakes": true,
           "showland": true,
           "subunitcolor": "white"
          },
          "hoverlabel": {
           "align": "left"
          },
          "hovermode": "closest",
          "mapbox": {
           "style": "light"
          },
          "paper_bgcolor": "white",
          "plot_bgcolor": "#E5ECF6",
          "polar": {
           "angularaxis": {
            "gridcolor": "white",
            "linecolor": "white",
            "ticks": ""
           },
           "bgcolor": "#E5ECF6",
           "radialaxis": {
            "gridcolor": "white",
            "linecolor": "white",
            "ticks": ""
           }
          },
          "scene": {
           "xaxis": {
            "backgroundcolor": "#E5ECF6",
            "gridcolor": "white",
            "gridwidth": 2,
            "linecolor": "white",
            "showbackground": true,
            "ticks": "",
            "zerolinecolor": "white"
           },
           "yaxis": {
            "backgroundcolor": "#E5ECF6",
            "gridcolor": "white",
            "gridwidth": 2,
            "linecolor": "white",
            "showbackground": true,
            "ticks": "",
            "zerolinecolor": "white"
           },
           "zaxis": {
            "backgroundcolor": "#E5ECF6",
            "gridcolor": "white",
            "gridwidth": 2,
            "linecolor": "white",
            "showbackground": true,
            "ticks": "",
            "zerolinecolor": "white"
           }
          },
          "shapedefaults": {
           "line": {
            "color": "#2a3f5f"
           }
          },
          "ternary": {
           "aaxis": {
            "gridcolor": "white",
            "linecolor": "white",
            "ticks": ""
           },
           "baxis": {
            "gridcolor": "white",
            "linecolor": "white",
            "ticks": ""
           },
           "bgcolor": "#E5ECF6",
           "caxis": {
            "gridcolor": "white",
            "linecolor": "white",
            "ticks": ""
           }
          },
          "title": {
           "x": 0.05
          },
          "xaxis": {
           "automargin": true,
           "gridcolor": "white",
           "linecolor": "white",
           "ticks": "",
           "title": {
            "standoff": 15
           },
           "zerolinecolor": "white",
           "zerolinewidth": 2
          },
          "yaxis": {
           "automargin": true,
           "gridcolor": "white",
           "linecolor": "white",
           "ticks": "",
           "title": {
            "standoff": 15
           },
           "zerolinecolor": "white",
           "zerolinewidth": 2
          }
         }
        },
        "xaxis": {
         "anchor": "y",
         "domain": [
          0,
          1
         ],
         "title": {
          "text": "timestamp"
         }
        },
        "yaxis": {
         "anchor": "x",
         "domain": [
          0,
          1
         ],
         "title": {
          "text": "value"
         }
        }
       }
      }
     },
     "metadata": {},
     "output_type": "display_data"
    }
   ],
   "source": [
    "px.line(priceReturn['pxETH/wETH (balancer) 30'])"
   ]
  },
  {
   "cell_type": "code",
   "execution_count": null,
   "metadata": {},
   "outputs": [
    {
     "data": {
      "application/vnd.plotly.v1+json": {
       "config": {
        "plotlyServerURL": "https://plot.ly"
       },
       "data": [
        {
         "hovertemplate": "variable=pxETH/wETH (balancer) 30<br>timestamp=%{x}<br>value=%{y}<extra></extra>",
         "legendgroup": "pxETH/wETH (balancer) 30",
         "line": {
          "color": "#636efa",
          "dash": "solid"
         },
         "marker": {
          "symbol": "circle"
         },
         "mode": "lines",
         "name": "pxETH/wETH (balancer) 30",
         "orientation": "v",
         "showlegend": true,
         "type": "scatter",
         "x": [
          "2024-09-15T02:04:47+00:00",
          "2024-09-15T05:44:35+00:00",
          "2024-09-15T09:24:47+00:00",
          "2024-09-15T13:04:11+00:00",
          "2024-09-15T16:44:23+00:00",
          "2024-09-15T20:23:35+00:00",
          "2024-09-16T00:03:11+00:00",
          "2024-09-16T03:43:47+00:00",
          "2024-09-16T07:23:23+00:00",
          "2024-09-16T11:04:47+00:00",
          "2024-09-16T14:46:11+00:00",
          "2024-09-16T18:26:47+00:00",
          "2024-09-16T22:06:23+00:00",
          "2024-09-17T01:46:35+00:00",
          "2024-09-17T05:27:47+00:00",
          "2024-09-17T09:08:35+00:00",
          "2024-09-17T12:48:23+00:00",
          "2024-09-17T16:29:11+00:00",
          "2024-09-17T20:09:47+00:00",
          "2024-09-17T23:50:47+00:00",
          "2024-09-18T03:30:35+00:00",
          "2024-09-18T07:11:35+00:00",
          "2024-09-18T10:51:35+00:00",
          "2024-09-18T14:32:23+00:00",
          "2024-09-18T18:12:23+00:00",
          "2024-09-18T21:52:47+00:00",
          "2024-09-19T01:33:11+00:00",
          "2024-09-19T05:13:23+00:00",
          "2024-09-19T08:53:23+00:00",
          "2024-09-19T12:33:23+00:00",
          "2024-09-19T16:13:23+00:00",
          "2024-09-19T19:53:23+00:00",
          "2024-09-19T23:33:11+00:00",
          "2024-09-20T03:13:35+00:00",
          "2024-09-20T06:54:11+00:00",
          "2024-09-20T10:35:11+00:00",
          "2024-09-20T14:14:59+00:00",
          "2024-09-20T17:54:59+00:00",
          "2024-09-20T21:35:23+00:00",
          "2024-09-21T01:16:23+00:00",
          "2024-09-21T04:56:23+00:00",
          "2024-09-21T08:38:11+00:00",
          "2024-09-21T12:18:11+00:00",
          "2024-09-21T15:58:11+00:00",
          "2024-09-21T19:38:11+00:00",
          "2024-09-21T23:19:11+00:00",
          "2024-09-22T02:58:47+00:00",
          "2024-09-22T06:38:35+00:00",
          "2024-09-22T10:18:23+00:00",
          "2024-09-22T13:58:11+00:00",
          "2024-09-22T17:37:59+00:00",
          "2024-09-22T21:18:11+00:00",
          "2024-09-23T00:57:47+00:00",
          "2024-09-23T04:37:23+00:00",
          "2024-09-23T08:17:35+00:00",
          "2024-09-23T11:58:59+00:00",
          "2024-09-23T15:38:59+00:00",
          "2024-09-23T19:18:59+00:00",
          "2024-09-23T22:58:59+00:00",
          "2024-09-24T02:38:47+00:00",
          "2024-09-24T06:18:23+00:00",
          "2024-09-24T09:57:47+00:00",
          "2024-09-24T13:37:23+00:00",
          "2024-09-24T17:17:47+00:00",
          "2024-09-24T20:57:11+00:00",
          "2024-09-25T00:36:59+00:00",
          "2024-09-25T04:17:23+00:00",
          "2024-09-25T07:57:11+00:00",
          "2024-09-25T11:37:35+00:00",
          "2024-09-25T15:18:35+00:00",
          "2024-09-25T18:59:35+00:00",
          "2024-09-25T22:38:47+00:00",
          "2024-09-26T02:18:35+00:00",
          "2024-09-26T05:58:23+00:00",
          "2024-09-26T09:37:59+00:00",
          "2024-09-26T13:17:35+00:00",
          "2024-09-26T16:56:59+00:00",
          "2024-09-26T20:36:59+00:00",
          "2024-09-27T00:17:47+00:00",
          "2024-09-27T03:57:35+00:00",
          "2024-09-27T07:37:11+00:00",
          "2024-09-27T11:16:59+00:00",
          "2024-09-27T14:56:47+00:00",
          "2024-09-27T18:36:47+00:00",
          "2024-09-27T22:16:11+00:00",
          "2024-09-28T01:55:59+00:00",
          "2024-09-28T05:36:23+00:00",
          "2024-09-28T09:15:59+00:00",
          "2024-09-28T12:55:47+00:00",
          "2024-09-28T16:35:23+00:00",
          "2024-09-28T20:15:47+00:00",
          "2024-09-28T23:56:35+00:00",
          "2024-09-29T03:36:47+00:00",
          "2024-09-29T07:17:11+00:00",
          "2024-09-29T10:56:47+00:00",
          "2024-09-29T14:36:35+00:00",
          "2024-09-29T18:16:11+00:00",
          "2024-09-29T21:56:47+00:00",
          "2024-09-30T01:36:35+00:00",
          "2024-09-30T05:16:35+00:00",
          "2024-09-30T08:55:59+00:00",
          "2024-09-30T12:35:23+00:00",
          "2024-09-30T16:15:11+00:00",
          "2024-09-30T19:54:47+00:00",
          "2024-09-30T23:34:23+00:00",
          "2024-10-01T03:13:59+00:00",
          "2024-10-01T06:53:59+00:00",
          "2024-10-01T10:33:35+00:00",
          "2024-10-01T14:13:47+00:00",
          "2024-10-01T17:54:11+00:00",
          "2024-10-01T21:34:23+00:00",
          "2024-10-02T01:14:11+00:00",
          "2024-10-02T04:54:11+00:00",
          "2024-10-02T08:33:47+00:00",
          "2024-10-02T12:12:59+00:00",
          "2024-10-02T15:53:11+00:00",
          "2024-10-02T19:33:23+00:00",
          "2024-10-02T23:12:47+00:00",
          "2024-10-03T02:52:11+00:00",
          "2024-10-03T06:32:23+00:00",
          "2024-10-03T10:11:59+00:00",
          "2024-10-03T13:51:59+00:00",
          "2024-10-03T17:33:23+00:00",
          "2024-10-03T21:13:47+00:00",
          "2024-10-04T00:53:11+00:00",
          "2024-10-04T04:32:23+00:00",
          "2024-10-04T08:11:59+00:00",
          "2024-10-04T11:51:23+00:00",
          "2024-10-04T15:30:59+00:00",
          "2024-10-04T19:10:35+00:00",
          "2024-10-04T22:50:23+00:00",
          "2024-10-05T02:30:35+00:00",
          "2024-10-05T06:09:59+00:00",
          "2024-10-05T09:49:59+00:00",
          "2024-10-05T13:29:23+00:00",
          "2024-10-05T17:09:23+00:00",
          "2024-10-05T20:48:59+00:00",
          "2024-10-06T00:28:11+00:00",
          "2024-10-06T04:07:47+00:00",
          "2024-10-06T07:47:35+00:00",
          "2024-10-06T11:27:47+00:00",
          "2024-10-06T15:07:47+00:00",
          "2024-10-06T18:47:35+00:00",
          "2024-10-06T22:27:23+00:00",
          "2024-10-07T02:07:35+00:00",
          "2024-10-07T05:47:35+00:00",
          "2024-10-07T09:27:11+00:00",
          "2024-10-07T13:06:35+00:00",
          "2024-10-07T16:46:47+00:00",
          "2024-10-07T20:26:23+00:00",
          "2024-10-08T00:05:59+00:00",
          "2024-10-08T03:45:47+00:00",
          "2024-10-08T07:25:35+00:00",
          "2024-10-08T11:04:59+00:00",
          "2024-10-08T14:44:47+00:00",
          "2024-10-08T18:24:11+00:00",
          "2024-10-08T22:04:47+00:00",
          "2024-10-09T01:44:35+00:00",
          "2024-10-09T05:23:47+00:00",
          "2024-10-09T09:03:35+00:00",
          "2024-10-09T12:43:59+00:00",
          "2024-10-09T16:23:11+00:00",
          "2024-10-09T20:02:59+00:00",
          "2024-10-09T23:42:35+00:00",
          "2024-10-10T03:22:23+00:00",
          "2024-10-10T07:02:23+00:00",
          "2024-10-10T10:42:11+00:00",
          "2024-10-10T14:21:47+00:00",
          "2024-10-10T18:01:11+00:00",
          "2024-10-10T21:40:59+00:00",
          "2024-10-11T01:20:35+00:00",
          "2024-10-11T05:00:35+00:00",
          "2024-10-11T08:40:59+00:00",
          "2024-10-11T12:21:35+00:00",
          "2024-10-11T16:02:35+00:00",
          "2024-10-11T19:42:47+00:00",
          "2024-10-11T23:23:35+00:00",
          "2024-10-12T03:04:23+00:00",
          "2024-10-12T06:44:47+00:00",
          "2024-10-12T10:26:35+00:00",
          "2024-10-12T14:06:59+00:00",
          "2024-10-12T17:46:59+00:00",
          "2024-10-12T21:27:35+00:00",
          "2024-10-13T01:07:59+00:00",
          "2024-10-13T04:50:11+00:00",
          "2024-10-13T08:32:47+00:00",
          "2024-10-13T12:14:23+00:00",
          "2024-10-13T15:54:11+00:00",
          "2024-10-13T19:34:11+00:00",
          "2024-10-13T23:14:47+00:00",
          "2024-10-14T02:54:59+00:00",
          "2024-10-14T06:34:47+00:00",
          "2024-10-14T10:16:11+00:00",
          "2024-10-14T13:57:11+00:00",
          "2024-10-14T17:36:59+00:00",
          "2024-10-14T21:17:23+00:00",
          "2024-10-15T00:57:23+00:00",
          "2024-10-15T04:37:47+00:00",
          "2024-10-15T08:17:23+00:00",
          "2024-10-15T11:57:59+00:00",
          "2024-10-15T15:38:35+00:00",
          "2024-10-15T19:18:59+00:00",
          "2024-10-15T22:59:11+00:00",
          "2024-10-16T02:39:59+00:00",
          "2024-10-16T06:19:59+00:00",
          "2024-10-16T09:59:59+00:00",
          "2024-10-16T13:40:11+00:00",
          "2024-10-16T17:20:11+00:00",
          "2024-10-16T21:00:23+00:00",
          "2024-10-17T00:40:59+00:00",
          "2024-10-17T04:21:11+00:00",
          "2024-10-17T08:01:11+00:00",
          "2024-10-17T11:40:47+00:00",
          "2024-10-17T15:21:11+00:00",
          "2024-10-17T19:01:23+00:00",
          "2024-10-17T22:41:35+00:00",
          "2024-10-18T02:21:35+00:00",
          "2024-10-18T06:01:59+00:00",
          "2024-10-18T09:42:11+00:00",
          "2024-10-18T13:21:47+00:00",
          "2024-10-18T17:02:11+00:00",
          "2024-10-18T20:41:47+00:00",
          "2024-10-19T00:21:47+00:00",
          "2024-10-19T04:01:47+00:00",
          "2024-10-19T07:42:23+00:00",
          "2024-10-19T11:21:59+00:00",
          "2024-10-19T15:01:59+00:00",
          "2024-10-19T18:41:47+00:00",
          "2024-10-19T22:21:23+00:00",
          "2024-10-20T02:00:47+00:00",
          "2024-10-20T05:40:47+00:00",
          "2024-10-20T09:20:35+00:00",
          "2024-10-20T12:59:59+00:00",
          "2024-10-20T16:40:59+00:00",
          "2024-10-20T20:20:47+00:00",
          "2024-10-21T00:00:59+00:00",
          "2024-10-21T03:41:35+00:00",
          "2024-10-21T07:21:35+00:00",
          "2024-10-21T11:00:59+00:00",
          "2024-10-21T14:40:59+00:00",
          "2024-10-21T18:20:23+00:00",
          "2024-10-21T22:00:35+00:00",
          "2024-10-22T01:40:59+00:00",
          "2024-10-22T05:21:11+00:00",
          "2024-10-22T09:01:23+00:00",
          "2024-10-22T12:41:35+00:00",
          "2024-10-22T16:21:35+00:00",
          "2024-10-22T20:01:35+00:00",
          "2024-10-22T23:42:23+00:00",
          "2024-10-23T03:22:35+00:00",
          "2024-10-23T07:01:35+00:00",
          "2024-10-23T10:41:35+00:00",
          "2024-10-23T14:21:11+00:00",
          "2024-10-23T18:00:59+00:00",
          "2024-10-23T21:40:11+00:00",
          "2024-10-24T01:20:47+00:00",
          "2024-10-24T05:00:47+00:00",
          "2024-10-24T08:40:59+00:00",
          "2024-10-24T12:20:35+00:00",
          "2024-10-24T16:00:35+00:00",
          "2024-10-24T19:40:11+00:00",
          "2024-10-24T23:19:59+00:00",
          "2024-10-25T02:59:59+00:00",
          "2024-10-25T06:40:11+00:00",
          "2024-10-25T10:19:35+00:00",
          "2024-10-25T13:59:35+00:00",
          "2024-10-25T17:39:35+00:00",
          "2024-10-25T21:19:11+00:00",
          "2024-10-26T00:58:59+00:00",
          "2024-10-26T04:39:23+00:00",
          "2024-10-26T08:19:11+00:00",
          "2024-10-26T11:59:59+00:00",
          "2024-10-26T15:40:35+00:00",
          "2024-10-26T19:20:11+00:00",
          "2024-10-26T22:59:59+00:00",
          "2024-10-27T02:40:11+00:00",
          "2024-10-27T06:19:47+00:00",
          "2024-10-27T09:59:23+00:00",
          "2024-10-27T13:40:11+00:00",
          "2024-10-27T17:19:47+00:00",
          "2024-10-27T20:59:11+00:00",
          "2024-10-28T00:38:35+00:00",
          "2024-10-28T04:18:47+00:00",
          "2024-10-28T07:59:47+00:00",
          "2024-10-28T11:39:47+00:00",
          "2024-10-28T15:20:11+00:00",
          "2024-10-28T19:00:35+00:00",
          "2024-10-28T22:40:23+00:00",
          "2024-10-29T02:20:47+00:00",
          "2024-10-29T06:00:35+00:00",
          "2024-10-29T09:41:11+00:00",
          "2024-10-29T13:21:35+00:00",
          "2024-10-29T17:01:11+00:00",
          "2024-10-29T20:40:35+00:00",
          "2024-10-30T00:20:23+00:00",
          "2024-10-30T04:00:11+00:00",
          "2024-10-30T07:40:35+00:00",
          "2024-10-30T11:21:47+00:00",
          "2024-10-30T15:03:35+00:00",
          "2024-10-30T18:43:11+00:00",
          "2024-10-30T22:22:47+00:00",
          "2024-10-31T02:02:11+00:00",
          "2024-10-31T05:42:59+00:00",
          "2024-10-31T09:23:35+00:00",
          "2024-10-31T13:02:47+00:00",
          "2024-10-31T16:42:11+00:00",
          "2024-10-31T20:21:35+00:00",
          "2024-11-01T00:01:23+00:00",
          "2024-11-01T03:41:11+00:00",
          "2024-11-01T07:20:59+00:00",
          "2024-11-01T11:00:47+00:00",
          "2024-11-01T14:40:35+00:00",
          "2024-11-01T18:20:23+00:00",
          "2024-11-01T22:00:35+00:00",
          "2024-11-02T01:40:47+00:00",
          "2024-11-02T05:21:11+00:00",
          "2024-11-02T09:00:59+00:00",
          "2024-11-02T12:41:59+00:00",
          "2024-11-02T16:22:35+00:00",
          "2024-11-02T20:02:35+00:00",
          "2024-11-02T23:43:35+00:00",
          "2024-11-03T03:24:23+00:00",
          "2024-11-03T07:04:35+00:00",
          "2024-11-03T10:43:47+00:00",
          "2024-11-03T14:23:47+00:00",
          "2024-11-03T18:04:35+00:00",
          "2024-11-03T21:43:59+00:00",
          "2024-11-04T01:23:47+00:00",
          "2024-11-04T05:03:47+00:00",
          "2024-11-04T08:42:59+00:00",
          "2024-11-04T12:23:35+00:00",
          "2024-11-04T16:02:59+00:00",
          "2024-11-04T19:43:23+00:00",
          "2024-11-04T23:23:23+00:00",
          "2024-11-05T03:03:23+00:00",
          "2024-11-05T06:44:11+00:00",
          "2024-11-05T10:24:11+00:00",
          "2024-11-05T14:04:11+00:00",
          "2024-11-05T17:44:23+00:00",
          "2024-11-05T21:25:11+00:00",
          "2024-11-06T01:04:59+00:00",
          "2024-11-06T04:44:23+00:00",
          "2024-11-06T08:24:23+00:00",
          "2024-11-06T12:05:23+00:00",
          "2024-11-06T15:45:47+00:00",
          "2024-11-06T19:25:23+00:00",
          "2024-11-06T23:05:35+00:00",
          "2024-11-07T02:45:35+00:00",
          "2024-11-07T06:25:23+00:00",
          "2024-11-07T10:05:23+00:00",
          "2024-11-07T13:45:47+00:00",
          "2024-11-07T17:27:11+00:00",
          "2024-11-07T21:06:59+00:00",
          "2024-11-08T00:47:47+00:00",
          "2024-11-08T04:29:35+00:00",
          "2024-11-08T08:09:59+00:00",
          "2024-11-08T11:49:35+00:00"
         ],
         "xaxis": "x",
         "y": [
          null,
          null,
          null,
          null,
          1.0038160466810675,
          1.0038302804699806,
          1.0010011397606238,
          0.9999539135152544,
          0.9999598950673594,
          0.9999598950673594,
          1.007321247852862,
          1.0005956224905375,
          1.0005956224905375,
          1.0005997039415946,
          1.0006125692205894,
          1.0006125692205894,
          1.0006125692205894,
          1.007001323737271,
          1.0017522452881131,
          1.0017311261199928,
          1.0017101936430297,
          1.001689215279065,
          1.0018767623437304,
          1.0018557240718289,
          1.001834703607846,
          1.0018136564565718,
          1.001794218891989,
          1.0017729676766296,
          1.0019048484942186,
          1.0018836552512869,
          1.0018620085461896,
          1.001842010235388,
          1.001821711747372,
          1.001801315164477,
          1.0017874970220353,
          1.0020520981273908,
          1.0020568987105918,
          1.0020414487236258,
          1.0020259695697085,
          1.0020104522966229,
          1.001995030832775,
          1.0019794761704626,
          1.0023426156902837,
          1.002327200269422,
          1.0023117632552916,
          1.0022962479708228,
          1.0022879671765748,
          1.0022730469029035,
          1.002507021425614,
          1.0024920880697483,
          1.0024775337683696,
          1.0024630410982134,
          1.0024486052310126,
          1.002434172972561,
          1.0024197069303424,
          1.002421121835246,
          1.0024081044188238,
          1.0024026153353796,
          1.002397123782773,
          1.0023906981377606,
          1.0023846805725534,
          1.0024642489753361,
          1.0024558735936464,
          1.0026032722401343,
          1.0025912205351157,
          1.0025785087341248,
          1.0025657726123984,
          1.0025530716311022,
          1.0013063224655065,
          1.0012937589571462,
          1.001281118043823,
          1.0012685104901917,
          1.0012567037019808,
          1.001242635470912,
          1.001390425393464,
          1.0013750644648143,
          1.00136105071836,
          1.0013415318017802,
          1.0013204490755823,
          1.0012994994860773,
          1.0012797521892034,
          1.001600566865792,
          1.0015821487277319,
          1.001562531039762,
          1.0015429456066944,
          1.001523326978703,
          1.001503655994505,
          1.0016360484943294,
          1.0016164293762415,
          1.0015968566942044,
          1.0015772254692026,
          1.0015575654378386,
          1.0015379693434823,
          1.001518347932889,
          1.0017049102383249,
          1.0016853655986404,
          1.0016658555349063,
          1.0016463185888909,
          1.0016269078674962,
          1.0016075944039262,
          1.0017001835467867,
          1.0016809209593027,
          1.0016616245855778,
          1.0016423509819008,
          1.0016230807605706,
          1.0016038116596622,
          1.001584508410452,
          1.0016996026960718,
          1.0016801748235673,
          1.0016607377871307,
          1.0016413360924163,
          1.0016218779144643,
          1.001602450808368,
          1.001700452306895,
          1.0016811121093236,
          1.0016623879253679,
          1.0016450630314382,
          1.001640666595721,
          1.001635074725717,
          1.0016289116753339,
          1.0019021575459939,
          1.0018942551202952,
          1.0018857588009036,
          1.0018764844820571,
          1.0018672650757345,
          1.0018580543375042,
          1.0017498837953438,
          1.0017412287728473,
          1.001732198828435,
          1.0017230818321132,
          1.0017137913866385,
          1.001703790452616,
          1.0016934154145563,
          1.0020022162499547,
          1.001991153171224,
          1.0019799675729557,
          1.0019678207332452,
          1.0019541708791089,
          1.001938654899174,
          1.0019209369965012,
          1.0019592056019426,
          1.001941706495481,
          1.001924145815373,
          1.0019065861554228,
          1.0018889970480693,
          1.0018714158130784,
          1.00200195141624,
          1.0019844354997836,
          1.0019668571918812,
          1.0019492722159609,
          1.0019309996135513,
          1.0019127134830572,
          1.001894424827315,
          1.0018877546533096,
          1.0018694678579663,
          1.0018512154448576,
          1.0018317599253268,
          1.001813335092978,
          1.0017949659855414,
          1.001902812912831,
          1.0018843412405731,
          1.001865971250183,
          1.0018475520885401,
          1.0018291509455248,
          1.0018107385690433,
          1.001792332007003,
          1.0019192189002364,
          1.0019008326893735,
          1.0018824638520523,
          1.0019152072807205,
          1.001894051353181,
          1.00187287886771,
          1.001851689671176,
          1.0011545772855013,
          1.0011330274163275,
          1.0011122939750459,
          1.0010916891989752,
          1.001071110154192,
          1.0010639201613054,
          1.0012796285578058,
          1.0012735281490088,
          1.001266176031091,
          1.0012584197911045,
          1.001250669365975,
          1.00124147754906,
          1.001232638097839,
          1.0012739380406166,
          1.001265163682282,
          1.0012563688699618,
          1.0012475584917635,
          1.001238585243989,
          1.0012295821274513,
          1.0012778818333146,
          1.0012667892376534,
          1.00125575458128,
          1.0012440594844152,
          1.0012320102536318,
          1.001218961799678,
          1.0012041939731653,
          1.0014881129904332,
          1.0014692970131645,
          1.0014491014104587,
          1.00142892383491,
          1.0014086924881036,
          1.0013885356106689,
          1.0012712630535698,
          1.0012511646539988,
          1.0012311570322754,
          1.0012111366116925,
          1.001191080522533,
          1.0011710205101962,
          1.0011509615307768,
          1.0013421813405092,
          1.0013221170129591,
          1.001350151816411,
          1.0013302082229139,
          1.0013103255826035,
          1.0012903644520224,
          1.0012707925453963,
          1.0012517875638334,
          1.0013634114876182,
          1.0013443707669956,
          1.0013253518085004,
          1.0013063409131875,
          1.0012872684096883,
          1.0012682746807822,
          1.0012492475307686,
          1.001459335955664,
          1.0014413226432464,
          1.001423327282114,
          1.001405283177731,
          1.001387256473121,
          1.0013692635669518,
          1.0015824040040056,
          1.0015760819180652,
          1.0015696671989769,
          1.0015633138208981,
          1.001556880996139,
          1.001550553500061,
          1.0015442152084504,
          1.0015865739454228,
          1.0015795473698748,
          1.0015717017143353,
          1.0015635397424365,
          1.0015553758904332,
          1.0015556115802238,
          1.0015460322167684,
          1.0015774574824041,
          1.001567853533376,
          1.001556497586995,
          1.0015471322863838,
          1.0014742235496084,
          1.0014647560948906,
          1.0014546676940523,
          1.0014448968616982,
          1.001434307372784,
          1.0014230852848767,
          1.0015610305413114,
          1.0015485749028474,
          1.0015346815090633,
          1.0015191514519233,
          1.0015045436336154,
          1.0014859385504506,
          1.0014667137853053,
          1.0016065866129273,
          1.0015871070901023,
          1.0015676092938701,
          1.0015481559632124,
          1.0015320948757176,
          1.0015128358296645,
          1.0017106160092313,
          1.0016913332245159,
          1.0016720693083456,
          1.0016528938525184,
          1.0016336988875534,
          1.0016144530254403,
          1.0015952601079208,
          1.001702065488526,
          1.001682867584478,
          1.0016637751487318,
          1.001644701228501,
          1.0016257648488762,
          1.0016066417916603,
          1.001868462775021,
          1.0018494494409356,
          1.001830402215155,
          1.0018120007932263,
          1.0017928943695438,
          1.0018116933009948,
          1.001790666298242,
          1.0010915611751778,
          1.001070454831044,
          1.0010494275925212,
          1.0010611287920077,
          1.0010386381840082,
          1.0010171245812665,
          1.0009956088358594,
          1.0009174784980033,
          1.0008958834329227,
          1.000874870526084,
          1.0008540039715683,
          1.0008415700308817,
          1.000836498066773,
          1.0009838137778757,
          1.0009771345547422,
          1.0009704529400405,
          1.0009626174548454,
          1.000954643258736,
          1.0009466740236403,
          1.0009387059673196,
          1.000806014197859,
          1.000798045744962,
          1.000793552555131,
          1.0007854651942367,
          1.000776825122181,
          1.0007668854761147,
          1.0010227345925788,
          1.001012661545943,
          1.0010023111069002,
          1.0009912050963445,
          1.0009787465800857,
          1.0009644187493667,
          1.0009477470682866,
          1.0010072001485906,
          1.0009877488899517,
          1.0009676715859888,
          1.0009477621531229,
          1.000927838950782,
          1.0009079611806904,
          1.0010298529527888,
          1.0010099388288753,
          1.000990089541444,
          1.0010173949616687,
          1.000997520449844,
          1.0009776854372727,
          1.0009578833696091,
          1.0009382902139379,
          1.0009188471155548,
          1.0010650340185214,
          1.0010453878981984,
          1.0010264388700234,
          1.0010069107234398,
          1.000987323659448,
          1.000936426982087,
          1.000882486383212,
          1.0008626626837025,
          1.0008428011118853,
          1.0008230145460562,
          1.0008032557247266,
          1.0009021041408634,
          1.0008826556878452,
          1.0008628310410181,
          1.0008431738003154,
          1.0008898113822537,
          1.0008746662195322,
          1.0008596262478642,
          1.0017989086070422
         ],
         "yaxis": "y"
        }
       ],
       "layout": {
        "legend": {
         "title": {
          "text": "variable"
         },
         "tracegroupgap": 0
        },
        "margin": {
         "t": 60
        },
        "template": {
         "data": {
          "bar": [
           {
            "error_x": {
             "color": "#2a3f5f"
            },
            "error_y": {
             "color": "#2a3f5f"
            },
            "marker": {
             "line": {
              "color": "#E5ECF6",
              "width": 0.5
             },
             "pattern": {
              "fillmode": "overlay",
              "size": 10,
              "solidity": 0.2
             }
            },
            "type": "bar"
           }
          ],
          "barpolar": [
           {
            "marker": {
             "line": {
              "color": "#E5ECF6",
              "width": 0.5
             },
             "pattern": {
              "fillmode": "overlay",
              "size": 10,
              "solidity": 0.2
             }
            },
            "type": "barpolar"
           }
          ],
          "carpet": [
           {
            "aaxis": {
             "endlinecolor": "#2a3f5f",
             "gridcolor": "white",
             "linecolor": "white",
             "minorgridcolor": "white",
             "startlinecolor": "#2a3f5f"
            },
            "baxis": {
             "endlinecolor": "#2a3f5f",
             "gridcolor": "white",
             "linecolor": "white",
             "minorgridcolor": "white",
             "startlinecolor": "#2a3f5f"
            },
            "type": "carpet"
           }
          ],
          "choropleth": [
           {
            "colorbar": {
             "outlinewidth": 0,
             "ticks": ""
            },
            "type": "choropleth"
           }
          ],
          "contour": [
           {
            "colorbar": {
             "outlinewidth": 0,
             "ticks": ""
            },
            "colorscale": [
             [
              0,
              "#0d0887"
             ],
             [
              0.1111111111111111,
              "#46039f"
             ],
             [
              0.2222222222222222,
              "#7201a8"
             ],
             [
              0.3333333333333333,
              "#9c179e"
             ],
             [
              0.4444444444444444,
              "#bd3786"
             ],
             [
              0.5555555555555556,
              "#d8576b"
             ],
             [
              0.6666666666666666,
              "#ed7953"
             ],
             [
              0.7777777777777778,
              "#fb9f3a"
             ],
             [
              0.8888888888888888,
              "#fdca26"
             ],
             [
              1,
              "#f0f921"
             ]
            ],
            "type": "contour"
           }
          ],
          "contourcarpet": [
           {
            "colorbar": {
             "outlinewidth": 0,
             "ticks": ""
            },
            "type": "contourcarpet"
           }
          ],
          "heatmap": [
           {
            "colorbar": {
             "outlinewidth": 0,
             "ticks": ""
            },
            "colorscale": [
             [
              0,
              "#0d0887"
             ],
             [
              0.1111111111111111,
              "#46039f"
             ],
             [
              0.2222222222222222,
              "#7201a8"
             ],
             [
              0.3333333333333333,
              "#9c179e"
             ],
             [
              0.4444444444444444,
              "#bd3786"
             ],
             [
              0.5555555555555556,
              "#d8576b"
             ],
             [
              0.6666666666666666,
              "#ed7953"
             ],
             [
              0.7777777777777778,
              "#fb9f3a"
             ],
             [
              0.8888888888888888,
              "#fdca26"
             ],
             [
              1,
              "#f0f921"
             ]
            ],
            "type": "heatmap"
           }
          ],
          "heatmapgl": [
           {
            "colorbar": {
             "outlinewidth": 0,
             "ticks": ""
            },
            "colorscale": [
             [
              0,
              "#0d0887"
             ],
             [
              0.1111111111111111,
              "#46039f"
             ],
             [
              0.2222222222222222,
              "#7201a8"
             ],
             [
              0.3333333333333333,
              "#9c179e"
             ],
             [
              0.4444444444444444,
              "#bd3786"
             ],
             [
              0.5555555555555556,
              "#d8576b"
             ],
             [
              0.6666666666666666,
              "#ed7953"
             ],
             [
              0.7777777777777778,
              "#fb9f3a"
             ],
             [
              0.8888888888888888,
              "#fdca26"
             ],
             [
              1,
              "#f0f921"
             ]
            ],
            "type": "heatmapgl"
           }
          ],
          "histogram": [
           {
            "marker": {
             "pattern": {
              "fillmode": "overlay",
              "size": 10,
              "solidity": 0.2
             }
            },
            "type": "histogram"
           }
          ],
          "histogram2d": [
           {
            "colorbar": {
             "outlinewidth": 0,
             "ticks": ""
            },
            "colorscale": [
             [
              0,
              "#0d0887"
             ],
             [
              0.1111111111111111,
              "#46039f"
             ],
             [
              0.2222222222222222,
              "#7201a8"
             ],
             [
              0.3333333333333333,
              "#9c179e"
             ],
             [
              0.4444444444444444,
              "#bd3786"
             ],
             [
              0.5555555555555556,
              "#d8576b"
             ],
             [
              0.6666666666666666,
              "#ed7953"
             ],
             [
              0.7777777777777778,
              "#fb9f3a"
             ],
             [
              0.8888888888888888,
              "#fdca26"
             ],
             [
              1,
              "#f0f921"
             ]
            ],
            "type": "histogram2d"
           }
          ],
          "histogram2dcontour": [
           {
            "colorbar": {
             "outlinewidth": 0,
             "ticks": ""
            },
            "colorscale": [
             [
              0,
              "#0d0887"
             ],
             [
              0.1111111111111111,
              "#46039f"
             ],
             [
              0.2222222222222222,
              "#7201a8"
             ],
             [
              0.3333333333333333,
              "#9c179e"
             ],
             [
              0.4444444444444444,
              "#bd3786"
             ],
             [
              0.5555555555555556,
              "#d8576b"
             ],
             [
              0.6666666666666666,
              "#ed7953"
             ],
             [
              0.7777777777777778,
              "#fb9f3a"
             ],
             [
              0.8888888888888888,
              "#fdca26"
             ],
             [
              1,
              "#f0f921"
             ]
            ],
            "type": "histogram2dcontour"
           }
          ],
          "mesh3d": [
           {
            "colorbar": {
             "outlinewidth": 0,
             "ticks": ""
            },
            "type": "mesh3d"
           }
          ],
          "parcoords": [
           {
            "line": {
             "colorbar": {
              "outlinewidth": 0,
              "ticks": ""
             }
            },
            "type": "parcoords"
           }
          ],
          "pie": [
           {
            "automargin": true,
            "type": "pie"
           }
          ],
          "scatter": [
           {
            "fillpattern": {
             "fillmode": "overlay",
             "size": 10,
             "solidity": 0.2
            },
            "type": "scatter"
           }
          ],
          "scatter3d": [
           {
            "line": {
             "colorbar": {
              "outlinewidth": 0,
              "ticks": ""
             }
            },
            "marker": {
             "colorbar": {
              "outlinewidth": 0,
              "ticks": ""
             }
            },
            "type": "scatter3d"
           }
          ],
          "scattercarpet": [
           {
            "marker": {
             "colorbar": {
              "outlinewidth": 0,
              "ticks": ""
             }
            },
            "type": "scattercarpet"
           }
          ],
          "scattergeo": [
           {
            "marker": {
             "colorbar": {
              "outlinewidth": 0,
              "ticks": ""
             }
            },
            "type": "scattergeo"
           }
          ],
          "scattergl": [
           {
            "marker": {
             "colorbar": {
              "outlinewidth": 0,
              "ticks": ""
             }
            },
            "type": "scattergl"
           }
          ],
          "scattermapbox": [
           {
            "marker": {
             "colorbar": {
              "outlinewidth": 0,
              "ticks": ""
             }
            },
            "type": "scattermapbox"
           }
          ],
          "scatterpolar": [
           {
            "marker": {
             "colorbar": {
              "outlinewidth": 0,
              "ticks": ""
             }
            },
            "type": "scatterpolar"
           }
          ],
          "scatterpolargl": [
           {
            "marker": {
             "colorbar": {
              "outlinewidth": 0,
              "ticks": ""
             }
            },
            "type": "scatterpolargl"
           }
          ],
          "scatterternary": [
           {
            "marker": {
             "colorbar": {
              "outlinewidth": 0,
              "ticks": ""
             }
            },
            "type": "scatterternary"
           }
          ],
          "surface": [
           {
            "colorbar": {
             "outlinewidth": 0,
             "ticks": ""
            },
            "colorscale": [
             [
              0,
              "#0d0887"
             ],
             [
              0.1111111111111111,
              "#46039f"
             ],
             [
              0.2222222222222222,
              "#7201a8"
             ],
             [
              0.3333333333333333,
              "#9c179e"
             ],
             [
              0.4444444444444444,
              "#bd3786"
             ],
             [
              0.5555555555555556,
              "#d8576b"
             ],
             [
              0.6666666666666666,
              "#ed7953"
             ],
             [
              0.7777777777777778,
              "#fb9f3a"
             ],
             [
              0.8888888888888888,
              "#fdca26"
             ],
             [
              1,
              "#f0f921"
             ]
            ],
            "type": "surface"
           }
          ],
          "table": [
           {
            "cells": {
             "fill": {
              "color": "#EBF0F8"
             },
             "line": {
              "color": "white"
             }
            },
            "header": {
             "fill": {
              "color": "#C8D4E3"
             },
             "line": {
              "color": "white"
             }
            },
            "type": "table"
           }
          ]
         },
         "layout": {
          "annotationdefaults": {
           "arrowcolor": "#2a3f5f",
           "arrowhead": 0,
           "arrowwidth": 1
          },
          "autotypenumbers": "strict",
          "coloraxis": {
           "colorbar": {
            "outlinewidth": 0,
            "ticks": ""
           }
          },
          "colorscale": {
           "diverging": [
            [
             0,
             "#8e0152"
            ],
            [
             0.1,
             "#c51b7d"
            ],
            [
             0.2,
             "#de77ae"
            ],
            [
             0.3,
             "#f1b6da"
            ],
            [
             0.4,
             "#fde0ef"
            ],
            [
             0.5,
             "#f7f7f7"
            ],
            [
             0.6,
             "#e6f5d0"
            ],
            [
             0.7,
             "#b8e186"
            ],
            [
             0.8,
             "#7fbc41"
            ],
            [
             0.9,
             "#4d9221"
            ],
            [
             1,
             "#276419"
            ]
           ],
           "sequential": [
            [
             0,
             "#0d0887"
            ],
            [
             0.1111111111111111,
             "#46039f"
            ],
            [
             0.2222222222222222,
             "#7201a8"
            ],
            [
             0.3333333333333333,
             "#9c179e"
            ],
            [
             0.4444444444444444,
             "#bd3786"
            ],
            [
             0.5555555555555556,
             "#d8576b"
            ],
            [
             0.6666666666666666,
             "#ed7953"
            ],
            [
             0.7777777777777778,
             "#fb9f3a"
            ],
            [
             0.8888888888888888,
             "#fdca26"
            ],
            [
             1,
             "#f0f921"
            ]
           ],
           "sequentialminus": [
            [
             0,
             "#0d0887"
            ],
            [
             0.1111111111111111,
             "#46039f"
            ],
            [
             0.2222222222222222,
             "#7201a8"
            ],
            [
             0.3333333333333333,
             "#9c179e"
            ],
            [
             0.4444444444444444,
             "#bd3786"
            ],
            [
             0.5555555555555556,
             "#d8576b"
            ],
            [
             0.6666666666666666,
             "#ed7953"
            ],
            [
             0.7777777777777778,
             "#fb9f3a"
            ],
            [
             0.8888888888888888,
             "#fdca26"
            ],
            [
             1,
             "#f0f921"
            ]
           ]
          },
          "colorway": [
           "#636efa",
           "#EF553B",
           "#00cc96",
           "#ab63fa",
           "#FFA15A",
           "#19d3f3",
           "#FF6692",
           "#B6E880",
           "#FF97FF",
           "#FECB52"
          ],
          "font": {
           "color": "#2a3f5f"
          },
          "geo": {
           "bgcolor": "white",
           "lakecolor": "white",
           "landcolor": "#E5ECF6",
           "showlakes": true,
           "showland": true,
           "subunitcolor": "white"
          },
          "hoverlabel": {
           "align": "left"
          },
          "hovermode": "closest",
          "mapbox": {
           "style": "light"
          },
          "paper_bgcolor": "white",
          "plot_bgcolor": "#E5ECF6",
          "polar": {
           "angularaxis": {
            "gridcolor": "white",
            "linecolor": "white",
            "ticks": ""
           },
           "bgcolor": "#E5ECF6",
           "radialaxis": {
            "gridcolor": "white",
            "linecolor": "white",
            "ticks": ""
           }
          },
          "scene": {
           "xaxis": {
            "backgroundcolor": "#E5ECF6",
            "gridcolor": "white",
            "gridwidth": 2,
            "linecolor": "white",
            "showbackground": true,
            "ticks": "",
            "zerolinecolor": "white"
           },
           "yaxis": {
            "backgroundcolor": "#E5ECF6",
            "gridcolor": "white",
            "gridwidth": 2,
            "linecolor": "white",
            "showbackground": true,
            "ticks": "",
            "zerolinecolor": "white"
           },
           "zaxis": {
            "backgroundcolor": "#E5ECF6",
            "gridcolor": "white",
            "gridwidth": 2,
            "linecolor": "white",
            "showbackground": true,
            "ticks": "",
            "zerolinecolor": "white"
           }
          },
          "shapedefaults": {
           "line": {
            "color": "#2a3f5f"
           }
          },
          "ternary": {
           "aaxis": {
            "gridcolor": "white",
            "linecolor": "white",
            "ticks": ""
           },
           "baxis": {
            "gridcolor": "white",
            "linecolor": "white",
            "ticks": ""
           },
           "bgcolor": "#E5ECF6",
           "caxis": {
            "gridcolor": "white",
            "linecolor": "white",
            "ticks": ""
           }
          },
          "title": {
           "x": 0.05
          },
          "xaxis": {
           "automargin": true,
           "gridcolor": "white",
           "linecolor": "white",
           "ticks": "",
           "title": {
            "standoff": 15
           },
           "zerolinecolor": "white",
           "zerolinewidth": 2
          },
          "yaxis": {
           "automargin": true,
           "gridcolor": "white",
           "linecolor": "white",
           "ticks": "",
           "title": {
            "standoff": 15
           },
           "zerolinecolor": "white",
           "zerolinewidth": 2
          }
         }
        },
        "xaxis": {
         "anchor": "y",
         "domain": [
          0,
          1
         ],
         "title": {
          "text": "timestamp"
         }
        },
        "yaxis": {
         "anchor": "x",
         "domain": [
          0,
          1
         ],
         "title": {
          "text": "value"
         }
        }
       }
      }
     },
     "metadata": {},
     "output_type": "display_data"
    }
   ],
   "source": [
    "px.line(pricePerShare['pxETH/wETH (balancer) 30'])"
   ]
  },
  {
   "cell_type": "code",
   "execution_count": null,
   "metadata": {},
   "outputs": [
    {
     "data": {
      "application/vnd.plotly.v1+json": {
       "config": {
        "plotlyServerURL": "https://plot.ly"
       },
       "data": [
        {
         "hovertemplate": "variable=totalAssets<br>timestamp=%{x}<br>value=%{y}<extra></extra>",
         "legendgroup": "totalAssets",
         "line": {
          "color": "#636efa",
          "dash": "solid"
         },
         "marker": {
          "symbol": "circle"
         },
         "mode": "lines",
         "name": "totalAssets",
         "showlegend": true,
         "type": "scattergl",
         "x": [
          "2024-09-15T02:04:47+00:00",
          "2024-09-15T05:44:35+00:00",
          "2024-09-15T09:24:47+00:00",
          "2024-09-15T13:04:11+00:00",
          "2024-09-15T16:44:23+00:00",
          "2024-09-15T20:23:35+00:00",
          "2024-09-16T00:03:11+00:00",
          "2024-09-16T03:43:47+00:00",
          "2024-09-16T07:23:23+00:00",
          "2024-09-16T11:04:47+00:00",
          "2024-09-16T14:46:11+00:00",
          "2024-09-16T18:26:47+00:00",
          "2024-09-16T22:06:23+00:00",
          "2024-09-17T01:46:35+00:00",
          "2024-09-17T05:27:47+00:00",
          "2024-09-17T09:08:35+00:00",
          "2024-09-17T12:48:23+00:00",
          "2024-09-17T16:29:11+00:00",
          "2024-09-17T20:09:47+00:00",
          "2024-09-17T23:50:47+00:00",
          "2024-09-18T03:30:35+00:00",
          "2024-09-18T07:11:35+00:00",
          "2024-09-18T10:51:35+00:00",
          "2024-09-18T14:32:23+00:00",
          "2024-09-18T18:12:23+00:00",
          "2024-09-18T21:52:47+00:00",
          "2024-09-19T01:33:11+00:00",
          "2024-09-19T05:13:23+00:00",
          "2024-09-19T08:53:23+00:00",
          "2024-09-19T12:33:23+00:00",
          "2024-09-19T16:13:23+00:00",
          "2024-09-19T19:53:23+00:00",
          "2024-09-19T23:33:11+00:00",
          "2024-09-20T03:13:35+00:00",
          "2024-09-20T06:54:11+00:00",
          "2024-09-20T10:35:11+00:00",
          "2024-09-20T14:14:59+00:00",
          "2024-09-20T17:54:59+00:00",
          "2024-09-20T21:35:23+00:00",
          "2024-09-21T01:16:23+00:00",
          "2024-09-21T04:56:23+00:00",
          "2024-09-21T08:38:11+00:00",
          "2024-09-21T12:18:11+00:00",
          "2024-09-21T15:58:11+00:00",
          "2024-09-21T19:38:11+00:00",
          "2024-09-21T23:19:11+00:00",
          "2024-09-22T02:58:47+00:00",
          "2024-09-22T06:38:35+00:00",
          "2024-09-22T10:18:23+00:00",
          "2024-09-22T13:58:11+00:00",
          "2024-09-22T17:37:59+00:00",
          "2024-09-22T21:18:11+00:00",
          "2024-09-23T00:57:47+00:00",
          "2024-09-23T04:37:23+00:00",
          "2024-09-23T08:17:35+00:00",
          "2024-09-23T11:58:59+00:00",
          "2024-09-23T15:38:59+00:00",
          "2024-09-23T19:18:59+00:00",
          "2024-09-23T22:58:59+00:00",
          "2024-09-24T02:38:47+00:00",
          "2024-09-24T06:18:23+00:00",
          "2024-09-24T09:57:47+00:00",
          "2024-09-24T13:37:23+00:00",
          "2024-09-24T17:17:47+00:00",
          "2024-09-24T20:57:11+00:00",
          "2024-09-25T00:36:59+00:00",
          "2024-09-25T04:17:23+00:00",
          "2024-09-25T07:57:11+00:00",
          "2024-09-25T11:37:35+00:00",
          "2024-09-25T15:18:35+00:00",
          "2024-09-25T18:59:35+00:00",
          "2024-09-25T22:38:47+00:00",
          "2024-09-26T02:18:35+00:00",
          "2024-09-26T05:58:23+00:00",
          "2024-09-26T09:37:59+00:00",
          "2024-09-26T13:17:35+00:00",
          "2024-09-26T16:56:59+00:00",
          "2024-09-26T20:36:59+00:00",
          "2024-09-27T00:17:47+00:00",
          "2024-09-27T03:57:35+00:00",
          "2024-09-27T07:37:11+00:00",
          "2024-09-27T11:16:59+00:00",
          "2024-09-27T14:56:47+00:00",
          "2024-09-27T18:36:47+00:00",
          "2024-09-27T22:16:11+00:00",
          "2024-09-28T01:55:59+00:00",
          "2024-09-28T05:36:23+00:00",
          "2024-09-28T09:15:59+00:00",
          "2024-09-28T12:55:47+00:00",
          "2024-09-28T16:35:23+00:00",
          "2024-09-28T20:15:47+00:00",
          "2024-09-28T23:56:35+00:00",
          "2024-09-29T03:36:47+00:00",
          "2024-09-29T07:17:11+00:00",
          "2024-09-29T10:56:47+00:00",
          "2024-09-29T14:36:35+00:00",
          "2024-09-29T18:16:11+00:00",
          "2024-09-29T21:56:47+00:00",
          "2024-09-30T01:36:35+00:00",
          "2024-09-30T05:16:35+00:00",
          "2024-09-30T08:55:59+00:00",
          "2024-09-30T12:35:23+00:00",
          "2024-09-30T16:15:11+00:00",
          "2024-09-30T19:54:47+00:00",
          "2024-09-30T23:34:23+00:00",
          "2024-10-01T03:13:59+00:00",
          "2024-10-01T06:53:59+00:00",
          "2024-10-01T10:33:35+00:00",
          "2024-10-01T14:13:47+00:00",
          "2024-10-01T17:54:11+00:00",
          "2024-10-01T21:34:23+00:00",
          "2024-10-02T01:14:11+00:00",
          "2024-10-02T04:54:11+00:00",
          "2024-10-02T08:33:47+00:00",
          "2024-10-02T12:12:59+00:00",
          "2024-10-02T15:53:11+00:00",
          "2024-10-02T19:33:23+00:00",
          "2024-10-02T23:12:47+00:00",
          "2024-10-03T02:52:11+00:00",
          "2024-10-03T06:32:23+00:00",
          "2024-10-03T10:11:59+00:00",
          "2024-10-03T13:51:59+00:00",
          "2024-10-03T17:33:23+00:00",
          "2024-10-03T21:13:47+00:00",
          "2024-10-04T00:53:11+00:00",
          "2024-10-04T04:32:23+00:00",
          "2024-10-04T08:11:59+00:00",
          "2024-10-04T11:51:23+00:00",
          "2024-10-04T15:30:59+00:00",
          "2024-10-04T19:10:35+00:00",
          "2024-10-04T22:50:23+00:00",
          "2024-10-05T02:30:35+00:00",
          "2024-10-05T06:09:59+00:00",
          "2024-10-05T09:49:59+00:00",
          "2024-10-05T13:29:23+00:00",
          "2024-10-05T17:09:23+00:00",
          "2024-10-05T20:48:59+00:00",
          "2024-10-06T00:28:11+00:00",
          "2024-10-06T04:07:47+00:00",
          "2024-10-06T07:47:35+00:00",
          "2024-10-06T11:27:47+00:00",
          "2024-10-06T15:07:47+00:00",
          "2024-10-06T18:47:35+00:00",
          "2024-10-06T22:27:23+00:00",
          "2024-10-07T02:07:35+00:00",
          "2024-10-07T05:47:35+00:00",
          "2024-10-07T09:27:11+00:00",
          "2024-10-07T13:06:35+00:00",
          "2024-10-07T16:46:47+00:00",
          "2024-10-07T20:26:23+00:00",
          "2024-10-08T00:05:59+00:00",
          "2024-10-08T03:45:47+00:00",
          "2024-10-08T07:25:35+00:00",
          "2024-10-08T11:04:59+00:00",
          "2024-10-08T14:44:47+00:00",
          "2024-10-08T18:24:11+00:00",
          "2024-10-08T22:04:47+00:00",
          "2024-10-09T01:44:35+00:00",
          "2024-10-09T05:23:47+00:00",
          "2024-10-09T09:03:35+00:00",
          "2024-10-09T12:43:59+00:00",
          "2024-10-09T16:23:11+00:00",
          "2024-10-09T20:02:59+00:00",
          "2024-10-09T23:42:35+00:00",
          "2024-10-10T03:22:23+00:00",
          "2024-10-10T07:02:23+00:00",
          "2024-10-10T10:42:11+00:00",
          "2024-10-10T14:21:47+00:00",
          "2024-10-10T18:01:11+00:00",
          "2024-10-10T21:40:59+00:00",
          "2024-10-11T01:20:35+00:00",
          "2024-10-11T05:00:35+00:00",
          "2024-10-11T08:40:59+00:00",
          "2024-10-11T12:21:35+00:00",
          "2024-10-11T16:02:35+00:00",
          "2024-10-11T19:42:47+00:00",
          "2024-10-11T23:23:35+00:00",
          "2024-10-12T03:04:23+00:00",
          "2024-10-12T06:44:47+00:00",
          "2024-10-12T10:26:35+00:00",
          "2024-10-12T14:06:59+00:00",
          "2024-10-12T17:46:59+00:00",
          "2024-10-12T21:27:35+00:00",
          "2024-10-13T01:07:59+00:00",
          "2024-10-13T04:50:11+00:00",
          "2024-10-13T08:32:47+00:00",
          "2024-10-13T12:14:23+00:00",
          "2024-10-13T15:54:11+00:00",
          "2024-10-13T19:34:11+00:00",
          "2024-10-13T23:14:47+00:00",
          "2024-10-14T02:54:59+00:00",
          "2024-10-14T06:34:47+00:00",
          "2024-10-14T10:16:11+00:00",
          "2024-10-14T13:57:11+00:00",
          "2024-10-14T17:36:59+00:00",
          "2024-10-14T21:17:23+00:00",
          "2024-10-15T00:57:23+00:00",
          "2024-10-15T04:37:47+00:00",
          "2024-10-15T08:17:23+00:00",
          "2024-10-15T11:57:59+00:00",
          "2024-10-15T15:38:35+00:00",
          "2024-10-15T19:18:59+00:00",
          "2024-10-15T22:59:11+00:00",
          "2024-10-16T02:39:59+00:00",
          "2024-10-16T06:19:59+00:00",
          "2024-10-16T09:59:59+00:00",
          "2024-10-16T13:40:11+00:00",
          "2024-10-16T17:20:11+00:00",
          "2024-10-16T21:00:23+00:00",
          "2024-10-17T00:40:59+00:00",
          "2024-10-17T04:21:11+00:00",
          "2024-10-17T08:01:11+00:00",
          "2024-10-17T11:40:47+00:00",
          "2024-10-17T15:21:11+00:00",
          "2024-10-17T19:01:23+00:00",
          "2024-10-17T22:41:35+00:00",
          "2024-10-18T02:21:35+00:00",
          "2024-10-18T06:01:59+00:00",
          "2024-10-18T09:42:11+00:00",
          "2024-10-18T13:21:47+00:00",
          "2024-10-18T17:02:11+00:00",
          "2024-10-18T20:41:47+00:00",
          "2024-10-19T00:21:47+00:00",
          "2024-10-19T04:01:47+00:00",
          "2024-10-19T07:42:23+00:00",
          "2024-10-19T11:21:59+00:00",
          "2024-10-19T15:01:59+00:00",
          "2024-10-19T18:41:47+00:00",
          "2024-10-19T22:21:23+00:00",
          "2024-10-20T02:00:47+00:00",
          "2024-10-20T05:40:47+00:00",
          "2024-10-20T09:20:35+00:00",
          "2024-10-20T12:59:59+00:00",
          "2024-10-20T16:40:59+00:00",
          "2024-10-20T20:20:47+00:00",
          "2024-10-21T00:00:59+00:00",
          "2024-10-21T03:41:35+00:00",
          "2024-10-21T07:21:35+00:00",
          "2024-10-21T11:00:59+00:00",
          "2024-10-21T14:40:59+00:00",
          "2024-10-21T18:20:23+00:00",
          "2024-10-21T22:00:35+00:00",
          "2024-10-22T01:40:59+00:00",
          "2024-10-22T05:21:11+00:00",
          "2024-10-22T09:01:23+00:00",
          "2024-10-22T12:41:35+00:00",
          "2024-10-22T16:21:35+00:00",
          "2024-10-22T20:01:35+00:00",
          "2024-10-22T23:42:23+00:00",
          "2024-10-23T03:22:35+00:00",
          "2024-10-23T07:01:35+00:00",
          "2024-10-23T10:41:35+00:00",
          "2024-10-23T14:21:11+00:00",
          "2024-10-23T18:00:59+00:00",
          "2024-10-23T21:40:11+00:00",
          "2024-10-24T01:20:47+00:00",
          "2024-10-24T05:00:47+00:00",
          "2024-10-24T08:40:59+00:00",
          "2024-10-24T12:20:35+00:00",
          "2024-10-24T16:00:35+00:00",
          "2024-10-24T19:40:11+00:00",
          "2024-10-24T23:19:59+00:00",
          "2024-10-25T02:59:59+00:00",
          "2024-10-25T06:40:11+00:00",
          "2024-10-25T10:19:35+00:00",
          "2024-10-25T13:59:35+00:00",
          "2024-10-25T17:39:35+00:00",
          "2024-10-25T21:19:11+00:00",
          "2024-10-26T00:58:59+00:00",
          "2024-10-26T04:39:23+00:00",
          "2024-10-26T08:19:11+00:00",
          "2024-10-26T11:59:59+00:00",
          "2024-10-26T15:40:35+00:00",
          "2024-10-26T19:20:11+00:00",
          "2024-10-26T22:59:59+00:00",
          "2024-10-27T02:40:11+00:00",
          "2024-10-27T06:19:47+00:00",
          "2024-10-27T09:59:23+00:00",
          "2024-10-27T13:40:11+00:00",
          "2024-10-27T17:19:47+00:00",
          "2024-10-27T20:59:11+00:00",
          "2024-10-28T00:38:35+00:00",
          "2024-10-28T04:18:47+00:00",
          "2024-10-28T07:59:47+00:00",
          "2024-10-28T11:39:47+00:00",
          "2024-10-28T15:20:11+00:00",
          "2024-10-28T19:00:35+00:00",
          "2024-10-28T22:40:23+00:00",
          "2024-10-29T02:20:47+00:00",
          "2024-10-29T06:00:35+00:00",
          "2024-10-29T09:41:11+00:00",
          "2024-10-29T13:21:35+00:00",
          "2024-10-29T17:01:11+00:00",
          "2024-10-29T20:40:35+00:00",
          "2024-10-30T00:20:23+00:00",
          "2024-10-30T04:00:11+00:00",
          "2024-10-30T07:40:35+00:00",
          "2024-10-30T11:21:47+00:00",
          "2024-10-30T15:03:35+00:00",
          "2024-10-30T18:43:11+00:00",
          "2024-10-30T22:22:47+00:00",
          "2024-10-31T02:02:11+00:00",
          "2024-10-31T05:42:59+00:00",
          "2024-10-31T09:23:35+00:00",
          "2024-10-31T13:02:47+00:00",
          "2024-10-31T16:42:11+00:00",
          "2024-10-31T20:21:35+00:00",
          "2024-11-01T00:01:23+00:00",
          "2024-11-01T03:41:11+00:00",
          "2024-11-01T07:20:59+00:00",
          "2024-11-01T11:00:47+00:00",
          "2024-11-01T14:40:35+00:00",
          "2024-11-01T18:20:23+00:00",
          "2024-11-01T22:00:35+00:00",
          "2024-11-02T01:40:47+00:00",
          "2024-11-02T05:21:11+00:00",
          "2024-11-02T09:00:59+00:00",
          "2024-11-02T12:41:59+00:00",
          "2024-11-02T16:22:35+00:00",
          "2024-11-02T20:02:35+00:00",
          "2024-11-02T23:43:35+00:00",
          "2024-11-03T03:24:23+00:00",
          "2024-11-03T07:04:35+00:00",
          "2024-11-03T10:43:47+00:00",
          "2024-11-03T14:23:47+00:00",
          "2024-11-03T18:04:35+00:00",
          "2024-11-03T21:43:59+00:00",
          "2024-11-04T01:23:47+00:00",
          "2024-11-04T05:03:47+00:00",
          "2024-11-04T08:42:59+00:00",
          "2024-11-04T12:23:35+00:00",
          "2024-11-04T16:02:59+00:00",
          "2024-11-04T19:43:23+00:00",
          "2024-11-04T23:23:23+00:00",
          "2024-11-05T03:03:23+00:00",
          "2024-11-05T06:44:11+00:00",
          "2024-11-05T10:24:11+00:00",
          "2024-11-05T14:04:11+00:00",
          "2024-11-05T17:44:23+00:00",
          "2024-11-05T21:25:11+00:00",
          "2024-11-06T01:04:59+00:00",
          "2024-11-06T04:44:23+00:00",
          "2024-11-06T08:24:23+00:00",
          "2024-11-06T12:05:23+00:00",
          "2024-11-06T15:45:47+00:00",
          "2024-11-06T19:25:23+00:00",
          "2024-11-06T23:05:35+00:00",
          "2024-11-07T02:45:35+00:00",
          "2024-11-07T06:25:23+00:00",
          "2024-11-07T10:05:23+00:00",
          "2024-11-07T13:45:47+00:00",
          "2024-11-07T17:27:11+00:00",
          "2024-11-07T21:06:59+00:00",
          "2024-11-08T00:47:47+00:00",
          "2024-11-08T04:29:35+00:00",
          "2024-11-08T08:09:59+00:00",
          "2024-11-08T11:49:35+00:00"
         ],
         "xaxis": "x",
         "y": [
          1,
          1,
          1,
          1,
          1,
          1,
          1,
          1,
          1,
          1,
          1,
          1,
          0.9996679524715181,
          0.9996681439742614,
          0.9996681532433912,
          0.9995977991559627,
          0.9995993462120933,
          0.999599414074769,
          0.9996004960943288,
          0.9994181029198835,
          0.9992957708952728,
          0.9992967261764709,
          0.9992967961304084,
          0.9992974777344882,
          0.9993008877838568,
          0.9992925502273796,
          0.9992925731857062,
          0.9992098111133187,
          0.9992098111133187,
          0.9992098817429461,
          0.9991768142758364,
          0.9991781046231296,
          0.9991663379502573,
          0.9991746443439153,
          0.9991797766958229,
          0.9991858674025551,
          0.9991905208268936,
          0.9991681614962851,
          0.9991297112589091,
          0.9991314282631527,
          0.9990886000366014,
          0.9990890767028837,
          0.9990902988607988,
          0.9990957856836694,
          0.9990980186319864,
          0.9991004135453426,
          0.9990839014755889,
          0.9990840380884837,
          0.9990844037505713,
          0.9990913629098397,
          0.9991140010016982,
          0.9991364759007795,
          0.9991546916793627,
          0.9991678117527157,
          0.9991809794630738,
          0.999195814584342,
          0.9991920751784535,
          0.9991974774987807,
          0.9992025959465533,
          0.9992048249697085,
          0.9991802436797588,
          0.9991802436797588,
          0.9991840788466664,
          0.9992015918002664,
          0.9992181718526962,
          0.9992347827218588,
          0.9992514486247371,
          0.9992680534233799,
          0.9992847041031663,
          0.9991238498943207,
          0.9991238592823343,
          0.9991238592900817,
          0.999124662741916,
          0.9991257237511532,
          0.9991262817197128,
          0.9990868736226386,
          0.9990868736226386,
          0.9990869965805481,
          0.9991524277896862,
          0.999287863238071,
          0.9994232121227984,
          0.9995584603736617,
          0.9996987118911009,
          0.9998411662979848,
          0.9999814410623029,
          1.0001214475041829,
          1.0002618754997887,
          1.0004018330011935,
          1.0005417494349271,
          1.000652046471345,
          1.0007621807240987,
          1.0007810160684991,
          1.0007474970319596,
          1.0007488435681404,
          1.0007491192653377,
          1.0007671979970603,
          1.0008027916652515,
          1.000835460520219,
          1.0008610839604324,
          1.000891355792947,
          1.0009128312767068,
          1.0009321073699065,
          1.000950046545634,
          1.0009677394623129,
          1.000985396626434,
          1.0010038332872033,
          1.0010220122968074,
          1.0010386779296827,
          1.0010636018987384,
          1.0011092308299692,
          1.0011548318799437,
          1.0012003542374026,
          1.0012459221621088,
          1.001291489823426,
          1.0013205228434052,
          1.0013424721802116,
          1.0013628302844553,
          1.001383115777433,
          1.0014009611379815,
          1.0014177561702688,
          1.0014170743883908,
          1.0014277792998758,
          1.0014583788342601,
          1.0014854580025672,
          1.0015124142874499,
          1.0015318963151543,
          1.001545179458853,
          1.0015590592819812,
          1.001564460693897,
          1.0015660713635668,
          1.0015676279430983,
          1.0015708278217526,
          1.0015753280957673,
          1.0015799224571824,
          1.001586871008463,
          1.0015971726242734,
          1.00161065863688,
          1.0016272448178734,
          1.001643861816452,
          1.0016574175874913,
          1.0016690620780815,
          1.0016788347750503,
          1.001663881489189,
          1.0016639906074833,
          1.0016641629737328,
          1.0016643351834875,
          1.0016656814329998,
          1.0016716140605784,
          1.0016763158699669,
          1.0016480436826747,
          1.0016489470111176,
          1.001649921435014,
          1.001650826615898,
          1.0016517301511327,
          1.001652635335286,
          1.0016535388737837,
          1.0016536893094616,
          1.0016536893094616,
          1.001654546735044,
          1.001654546735044,
          1.001654546735044,
          1.001654546735044,
          1.0015548929073674,
          1.001568228160192,
          1.0015851322955303,
          1.0016096694295082,
          1.0016368338162234,
          1.0016640442446652,
          1.0016934850372723,
          1.0017269634984403,
          1.001763534533217,
          1.001791546640191,
          1.001811609643674,
          1.0018316839469945,
          1.0016672403000524,
          1.0016701841091666,
          1.0016770551821024,
          1.0016838252508644,
          1.0016877535580004,
          1.0016917068491913,
          1.0017012500369205,
          1.0017523234495875,
          1.001803867549367,
          1.0018523003361903,
          1.0018970962176366,
          1.001941330158131,
          1.001968073854776,
          1.0019765804035246,
          1.0019765804035246,
          1.0019330407766416,
          1.0019623286442876,
          1.0019915627578555,
          1.0020209969961131,
          1.0020494934213933,
          1.0020778367226377,
          1.0021062590041476,
          1.0021201941757583,
          1.0021355247143189,
          1.0021508000731545,
          1.002163669903922,
          1.0021761199831747,
          1.0021882188552456,
          1.002212677347412,
          1.0022559167304836,
          1.0022976660271883,
          1.002338658403395,
          1.0023796914031553,
          1.002420701040853,
          1.0023739568852374,
          1.0023810958807755,
          1.0023888998670614,
          1.0023934578757943,
          1.002398007638578,
          1.0024095646391715,
          1.0024403382826388,
          1.002471159190783,
          1.0025019539980768,
          1.0025243874985423,
          1.002530168419944,
          1.0025359336559136,
          1.002519263419397,
          1.0025463802803063,
          1.0025738512050117,
          1.0026034118579599,
          1.002634293281538,
          1.0026650366063092,
          1.0026921927010968,
          1.0026946142881095,
          1.0026970342780361,
          1.0027088538098365,
          1.002728282937614,
          1.0027484638164914,
          1.0027686087795942,
          1.0027870411137785,
          1.0028034520279128,
          1.0028180428617721,
          1.0028188218260414,
          1.0028226990417641,
          1.0028265657131212,
          1.0028304540429973,
          1.0028343882018473,
          1.0028383390159918,
          1.0028421584844285,
          1.0028479045483905,
          1.0028549025610383,
          1.0028618991939142,
          1.002863182895554,
          1.0028631832505848,
          1.002862202422917,
          1.0028623291224652,
          1.0028676651517288,
          1.0028730256035965,
          1.002878376366337,
          1.0028860686048453,
          1.002894518481988,
          1.002903061899147,
          1.0029033546522519,
          1.0029044752770382,
          1.0029086329932164,
          1.0029171280482616,
          1.0029269655101531,
          1.002935919108994,
          1.0029446022968185,
          1.002956028888774,
          1.0029674310620251,
          1.0029788646774742,
          1.002992956744921,
          1.0030093323661797,
          1.0030257168002092,
          1.0030390044210875,
          1.0030499552541075,
          1.003060956149686,
          1.003071947321663,
          1.0030801727139542,
          1.0030882508501673,
          1.0030957980344792,
          1.0030738624301558,
          1.0030738624301558,
          1.0030738624301558,
          1.003078208029144,
          1.0030905266437324,
          1.003003726562074,
          1.0030057985934495,
          1.0030344194026182,
          1.0030627965793162,
          1.0030878953022717,
          1.0031159129171627,
          1.0031439995113793,
          1.0031722794691555,
          1.003131194994814,
          1.003131194994814,
          1.003131194994814,
          1.003131194994814,
          1.00271773975659,
          1.0025558306700115,
          1.0025558306700115,
          1.0025674077425337,
          1.0025813288834584,
          1.0025936597798992,
          1.002606627220416,
          1.0026199968853613,
          1.0026321436545114,
          1.0026442473137211,
          1.0026506622884783,
          1.0026524201687368,
          1.0026524201687368,
          1.0026572561557956,
          1.0026639583133468,
          1.002670660560498,
          1.002681095704123,
          1.002696639691255,
          1.0027121841603337,
          1.0027276063053085,
          1.0027421938331058,
          1.0027568282122066,
          1.0027714354321682,
          1.002772977719241,
          1.002773424899058,
          1.002773871269898,
          1.002799329528834,
          1.002846077348107,
          1.002892787214465,
          1.0029398776836242,
          1.002988206698465,
          1.0030367167800218,
          1.003085265220395,
          1.0031037718289828,
          1.0031209972181137,
          1.003138238873348,
          1.0031481530140096,
          1.0031543890095769,
          1.0031605911600379,
          1.0031729731165246,
          1.0031961080230614,
          1.0032192431133296,
          1.0032429665076572,
          1.0032729363947985,
          1.0033029080725755,
          1.0033329087905698,
          1.0033729371104072,
          1.0034148732881991,
          1.0034567366450609,
          1.0034967167246949,
          1.003534735170279,
          1.0035491739416325,
          1.0035491739416325,
          1.0035492277220295,
          1.0035499240122119,
          1.003551739397916,
          1.0035535564420495,
          1.0035557178823418,
          1.0035815316508052,
          1.0036071711237582,
          1.0036329193205809,
          1.0036813924984898,
          1.0037484950018019,
          1.0038000215806733
         ],
         "yaxis": "y"
        },
        {
         "hovertemplate": "variable=tvl<br>timestamp=%{x}<br>value=%{y}<extra></extra>",
         "legendgroup": "tvl",
         "line": {
          "color": "#EF553B",
          "dash": "solid"
         },
         "marker": {
          "symbol": "circle"
         },
         "mode": "lines",
         "name": "tvl",
         "showlegend": true,
         "type": "scattergl",
         "x": [
          "2024-09-15T02:04:47+00:00",
          "2024-09-15T05:44:35+00:00",
          "2024-09-15T09:24:47+00:00",
          "2024-09-15T13:04:11+00:00",
          "2024-09-15T16:44:23+00:00",
          "2024-09-15T20:23:35+00:00",
          "2024-09-16T00:03:11+00:00",
          "2024-09-16T03:43:47+00:00",
          "2024-09-16T07:23:23+00:00",
          "2024-09-16T11:04:47+00:00",
          "2024-09-16T14:46:11+00:00",
          "2024-09-16T18:26:47+00:00",
          "2024-09-16T22:06:23+00:00",
          "2024-09-17T01:46:35+00:00",
          "2024-09-17T05:27:47+00:00",
          "2024-09-17T09:08:35+00:00",
          "2024-09-17T12:48:23+00:00",
          "2024-09-17T16:29:11+00:00",
          "2024-09-17T20:09:47+00:00",
          "2024-09-17T23:50:47+00:00",
          "2024-09-18T03:30:35+00:00",
          "2024-09-18T07:11:35+00:00",
          "2024-09-18T10:51:35+00:00",
          "2024-09-18T14:32:23+00:00",
          "2024-09-18T18:12:23+00:00",
          "2024-09-18T21:52:47+00:00",
          "2024-09-19T01:33:11+00:00",
          "2024-09-19T05:13:23+00:00",
          "2024-09-19T08:53:23+00:00",
          "2024-09-19T12:33:23+00:00",
          "2024-09-19T16:13:23+00:00",
          "2024-09-19T19:53:23+00:00",
          "2024-09-19T23:33:11+00:00",
          "2024-09-20T03:13:35+00:00",
          "2024-09-20T06:54:11+00:00",
          "2024-09-20T10:35:11+00:00",
          "2024-09-20T14:14:59+00:00",
          "2024-09-20T17:54:59+00:00",
          "2024-09-20T21:35:23+00:00",
          "2024-09-21T01:16:23+00:00",
          "2024-09-21T04:56:23+00:00",
          "2024-09-21T08:38:11+00:00",
          "2024-09-21T12:18:11+00:00",
          "2024-09-21T15:58:11+00:00",
          "2024-09-21T19:38:11+00:00",
          "2024-09-21T23:19:11+00:00",
          "2024-09-22T02:58:47+00:00",
          "2024-09-22T06:38:35+00:00",
          "2024-09-22T10:18:23+00:00",
          "2024-09-22T13:58:11+00:00",
          "2024-09-22T17:37:59+00:00",
          "2024-09-22T21:18:11+00:00",
          "2024-09-23T00:57:47+00:00",
          "2024-09-23T04:37:23+00:00",
          "2024-09-23T08:17:35+00:00",
          "2024-09-23T11:58:59+00:00",
          "2024-09-23T15:38:59+00:00",
          "2024-09-23T19:18:59+00:00",
          "2024-09-23T22:58:59+00:00",
          "2024-09-24T02:38:47+00:00",
          "2024-09-24T06:18:23+00:00",
          "2024-09-24T09:57:47+00:00",
          "2024-09-24T13:37:23+00:00",
          "2024-09-24T17:17:47+00:00",
          "2024-09-24T20:57:11+00:00",
          "2024-09-25T00:36:59+00:00",
          "2024-09-25T04:17:23+00:00",
          "2024-09-25T07:57:11+00:00",
          "2024-09-25T11:37:35+00:00",
          "2024-09-25T15:18:35+00:00",
          "2024-09-25T18:59:35+00:00",
          "2024-09-25T22:38:47+00:00",
          "2024-09-26T02:18:35+00:00",
          "2024-09-26T05:58:23+00:00",
          "2024-09-26T09:37:59+00:00",
          "2024-09-26T13:17:35+00:00",
          "2024-09-26T16:56:59+00:00",
          "2024-09-26T20:36:59+00:00",
          "2024-09-27T00:17:47+00:00",
          "2024-09-27T03:57:35+00:00",
          "2024-09-27T07:37:11+00:00",
          "2024-09-27T11:16:59+00:00",
          "2024-09-27T14:56:47+00:00",
          "2024-09-27T18:36:47+00:00",
          "2024-09-27T22:16:11+00:00",
          "2024-09-28T01:55:59+00:00",
          "2024-09-28T05:36:23+00:00",
          "2024-09-28T09:15:59+00:00",
          "2024-09-28T12:55:47+00:00",
          "2024-09-28T16:35:23+00:00",
          "2024-09-28T20:15:47+00:00",
          "2024-09-28T23:56:35+00:00",
          "2024-09-29T03:36:47+00:00",
          "2024-09-29T07:17:11+00:00",
          "2024-09-29T10:56:47+00:00",
          "2024-09-29T14:36:35+00:00",
          "2024-09-29T18:16:11+00:00",
          "2024-09-29T21:56:47+00:00",
          "2024-09-30T01:36:35+00:00",
          "2024-09-30T05:16:35+00:00",
          "2024-09-30T08:55:59+00:00",
          "2024-09-30T12:35:23+00:00",
          "2024-09-30T16:15:11+00:00",
          "2024-09-30T19:54:47+00:00",
          "2024-09-30T23:34:23+00:00",
          "2024-10-01T03:13:59+00:00",
          "2024-10-01T06:53:59+00:00",
          "2024-10-01T10:33:35+00:00",
          "2024-10-01T14:13:47+00:00",
          "2024-10-01T17:54:11+00:00",
          "2024-10-01T21:34:23+00:00",
          "2024-10-02T01:14:11+00:00",
          "2024-10-02T04:54:11+00:00",
          "2024-10-02T08:33:47+00:00",
          "2024-10-02T12:12:59+00:00",
          "2024-10-02T15:53:11+00:00",
          "2024-10-02T19:33:23+00:00",
          "2024-10-02T23:12:47+00:00",
          "2024-10-03T02:52:11+00:00",
          "2024-10-03T06:32:23+00:00",
          "2024-10-03T10:11:59+00:00",
          "2024-10-03T13:51:59+00:00",
          "2024-10-03T17:33:23+00:00",
          "2024-10-03T21:13:47+00:00",
          "2024-10-04T00:53:11+00:00",
          "2024-10-04T04:32:23+00:00",
          "2024-10-04T08:11:59+00:00",
          "2024-10-04T11:51:23+00:00",
          "2024-10-04T15:30:59+00:00",
          "2024-10-04T19:10:35+00:00",
          "2024-10-04T22:50:23+00:00",
          "2024-10-05T02:30:35+00:00",
          "2024-10-05T06:09:59+00:00",
          "2024-10-05T09:49:59+00:00",
          "2024-10-05T13:29:23+00:00",
          "2024-10-05T17:09:23+00:00",
          "2024-10-05T20:48:59+00:00",
          "2024-10-06T00:28:11+00:00",
          "2024-10-06T04:07:47+00:00",
          "2024-10-06T07:47:35+00:00",
          "2024-10-06T11:27:47+00:00",
          "2024-10-06T15:07:47+00:00",
          "2024-10-06T18:47:35+00:00",
          "2024-10-06T22:27:23+00:00",
          "2024-10-07T02:07:35+00:00",
          "2024-10-07T05:47:35+00:00",
          "2024-10-07T09:27:11+00:00",
          "2024-10-07T13:06:35+00:00",
          "2024-10-07T16:46:47+00:00",
          "2024-10-07T20:26:23+00:00",
          "2024-10-08T00:05:59+00:00",
          "2024-10-08T03:45:47+00:00",
          "2024-10-08T07:25:35+00:00",
          "2024-10-08T11:04:59+00:00",
          "2024-10-08T14:44:47+00:00",
          "2024-10-08T18:24:11+00:00",
          "2024-10-08T22:04:47+00:00",
          "2024-10-09T01:44:35+00:00",
          "2024-10-09T05:23:47+00:00",
          "2024-10-09T09:03:35+00:00",
          "2024-10-09T12:43:59+00:00",
          "2024-10-09T16:23:11+00:00",
          "2024-10-09T20:02:59+00:00",
          "2024-10-09T23:42:35+00:00",
          "2024-10-10T03:22:23+00:00",
          "2024-10-10T07:02:23+00:00",
          "2024-10-10T10:42:11+00:00",
          "2024-10-10T14:21:47+00:00",
          "2024-10-10T18:01:11+00:00",
          "2024-10-10T21:40:59+00:00",
          "2024-10-11T01:20:35+00:00",
          "2024-10-11T05:00:35+00:00",
          "2024-10-11T08:40:59+00:00",
          "2024-10-11T12:21:35+00:00",
          "2024-10-11T16:02:35+00:00",
          "2024-10-11T19:42:47+00:00",
          "2024-10-11T23:23:35+00:00",
          "2024-10-12T03:04:23+00:00",
          "2024-10-12T06:44:47+00:00",
          "2024-10-12T10:26:35+00:00",
          "2024-10-12T14:06:59+00:00",
          "2024-10-12T17:46:59+00:00",
          "2024-10-12T21:27:35+00:00",
          "2024-10-13T01:07:59+00:00",
          "2024-10-13T04:50:11+00:00",
          "2024-10-13T08:32:47+00:00",
          "2024-10-13T12:14:23+00:00",
          "2024-10-13T15:54:11+00:00",
          "2024-10-13T19:34:11+00:00",
          "2024-10-13T23:14:47+00:00",
          "2024-10-14T02:54:59+00:00",
          "2024-10-14T06:34:47+00:00",
          "2024-10-14T10:16:11+00:00",
          "2024-10-14T13:57:11+00:00",
          "2024-10-14T17:36:59+00:00",
          "2024-10-14T21:17:23+00:00",
          "2024-10-15T00:57:23+00:00",
          "2024-10-15T04:37:47+00:00",
          "2024-10-15T08:17:23+00:00",
          "2024-10-15T11:57:59+00:00",
          "2024-10-15T15:38:35+00:00",
          "2024-10-15T19:18:59+00:00",
          "2024-10-15T22:59:11+00:00",
          "2024-10-16T02:39:59+00:00",
          "2024-10-16T06:19:59+00:00",
          "2024-10-16T09:59:59+00:00",
          "2024-10-16T13:40:11+00:00",
          "2024-10-16T17:20:11+00:00",
          "2024-10-16T21:00:23+00:00",
          "2024-10-17T00:40:59+00:00",
          "2024-10-17T04:21:11+00:00",
          "2024-10-17T08:01:11+00:00",
          "2024-10-17T11:40:47+00:00",
          "2024-10-17T15:21:11+00:00",
          "2024-10-17T19:01:23+00:00",
          "2024-10-17T22:41:35+00:00",
          "2024-10-18T02:21:35+00:00",
          "2024-10-18T06:01:59+00:00",
          "2024-10-18T09:42:11+00:00",
          "2024-10-18T13:21:47+00:00",
          "2024-10-18T17:02:11+00:00",
          "2024-10-18T20:41:47+00:00",
          "2024-10-19T00:21:47+00:00",
          "2024-10-19T04:01:47+00:00",
          "2024-10-19T07:42:23+00:00",
          "2024-10-19T11:21:59+00:00",
          "2024-10-19T15:01:59+00:00",
          "2024-10-19T18:41:47+00:00",
          "2024-10-19T22:21:23+00:00",
          "2024-10-20T02:00:47+00:00",
          "2024-10-20T05:40:47+00:00",
          "2024-10-20T09:20:35+00:00",
          "2024-10-20T12:59:59+00:00",
          "2024-10-20T16:40:59+00:00",
          "2024-10-20T20:20:47+00:00",
          "2024-10-21T00:00:59+00:00",
          "2024-10-21T03:41:35+00:00",
          "2024-10-21T07:21:35+00:00",
          "2024-10-21T11:00:59+00:00",
          "2024-10-21T14:40:59+00:00",
          "2024-10-21T18:20:23+00:00",
          "2024-10-21T22:00:35+00:00",
          "2024-10-22T01:40:59+00:00",
          "2024-10-22T05:21:11+00:00",
          "2024-10-22T09:01:23+00:00",
          "2024-10-22T12:41:35+00:00",
          "2024-10-22T16:21:35+00:00",
          "2024-10-22T20:01:35+00:00",
          "2024-10-22T23:42:23+00:00",
          "2024-10-23T03:22:35+00:00",
          "2024-10-23T07:01:35+00:00",
          "2024-10-23T10:41:35+00:00",
          "2024-10-23T14:21:11+00:00",
          "2024-10-23T18:00:59+00:00",
          "2024-10-23T21:40:11+00:00",
          "2024-10-24T01:20:47+00:00",
          "2024-10-24T05:00:47+00:00",
          "2024-10-24T08:40:59+00:00",
          "2024-10-24T12:20:35+00:00",
          "2024-10-24T16:00:35+00:00",
          "2024-10-24T19:40:11+00:00",
          "2024-10-24T23:19:59+00:00",
          "2024-10-25T02:59:59+00:00",
          "2024-10-25T06:40:11+00:00",
          "2024-10-25T10:19:35+00:00",
          "2024-10-25T13:59:35+00:00",
          "2024-10-25T17:39:35+00:00",
          "2024-10-25T21:19:11+00:00",
          "2024-10-26T00:58:59+00:00",
          "2024-10-26T04:39:23+00:00",
          "2024-10-26T08:19:11+00:00",
          "2024-10-26T11:59:59+00:00",
          "2024-10-26T15:40:35+00:00",
          "2024-10-26T19:20:11+00:00",
          "2024-10-26T22:59:59+00:00",
          "2024-10-27T02:40:11+00:00",
          "2024-10-27T06:19:47+00:00",
          "2024-10-27T09:59:23+00:00",
          "2024-10-27T13:40:11+00:00",
          "2024-10-27T17:19:47+00:00",
          "2024-10-27T20:59:11+00:00",
          "2024-10-28T00:38:35+00:00",
          "2024-10-28T04:18:47+00:00",
          "2024-10-28T07:59:47+00:00",
          "2024-10-28T11:39:47+00:00",
          "2024-10-28T15:20:11+00:00",
          "2024-10-28T19:00:35+00:00",
          "2024-10-28T22:40:23+00:00",
          "2024-10-29T02:20:47+00:00",
          "2024-10-29T06:00:35+00:00",
          "2024-10-29T09:41:11+00:00",
          "2024-10-29T13:21:35+00:00",
          "2024-10-29T17:01:11+00:00",
          "2024-10-29T20:40:35+00:00",
          "2024-10-30T00:20:23+00:00",
          "2024-10-30T04:00:11+00:00",
          "2024-10-30T07:40:35+00:00",
          "2024-10-30T11:21:47+00:00",
          "2024-10-30T15:03:35+00:00",
          "2024-10-30T18:43:11+00:00",
          "2024-10-30T22:22:47+00:00",
          "2024-10-31T02:02:11+00:00",
          "2024-10-31T05:42:59+00:00",
          "2024-10-31T09:23:35+00:00",
          "2024-10-31T13:02:47+00:00",
          "2024-10-31T16:42:11+00:00",
          "2024-10-31T20:21:35+00:00",
          "2024-11-01T00:01:23+00:00",
          "2024-11-01T03:41:11+00:00",
          "2024-11-01T07:20:59+00:00",
          "2024-11-01T11:00:47+00:00",
          "2024-11-01T14:40:35+00:00",
          "2024-11-01T18:20:23+00:00",
          "2024-11-01T22:00:35+00:00",
          "2024-11-02T01:40:47+00:00",
          "2024-11-02T05:21:11+00:00",
          "2024-11-02T09:00:59+00:00",
          "2024-11-02T12:41:59+00:00",
          "2024-11-02T16:22:35+00:00",
          "2024-11-02T20:02:35+00:00",
          "2024-11-02T23:43:35+00:00",
          "2024-11-03T03:24:23+00:00",
          "2024-11-03T07:04:35+00:00",
          "2024-11-03T10:43:47+00:00",
          "2024-11-03T14:23:47+00:00",
          "2024-11-03T18:04:35+00:00",
          "2024-11-03T21:43:59+00:00",
          "2024-11-04T01:23:47+00:00",
          "2024-11-04T05:03:47+00:00",
          "2024-11-04T08:42:59+00:00",
          "2024-11-04T12:23:35+00:00",
          "2024-11-04T16:02:59+00:00",
          "2024-11-04T19:43:23+00:00",
          "2024-11-04T23:23:23+00:00",
          "2024-11-05T03:03:23+00:00",
          "2024-11-05T06:44:11+00:00",
          "2024-11-05T10:24:11+00:00",
          "2024-11-05T14:04:11+00:00",
          "2024-11-05T17:44:23+00:00",
          "2024-11-05T21:25:11+00:00",
          "2024-11-06T01:04:59+00:00",
          "2024-11-06T04:44:23+00:00",
          "2024-11-06T08:24:23+00:00",
          "2024-11-06T12:05:23+00:00",
          "2024-11-06T15:45:47+00:00",
          "2024-11-06T19:25:23+00:00",
          "2024-11-06T23:05:35+00:00",
          "2024-11-07T02:45:35+00:00",
          "2024-11-07T06:25:23+00:00",
          "2024-11-07T10:05:23+00:00",
          "2024-11-07T13:45:47+00:00",
          "2024-11-07T17:27:11+00:00",
          "2024-11-07T21:06:59+00:00",
          "2024-11-08T00:47:47+00:00",
          "2024-11-08T04:29:35+00:00",
          "2024-11-08T08:09:59+00:00",
          "2024-11-08T11:49:35+00:00"
         ],
         "xaxis": "x",
         "y": [
          1,
          1,
          1,
          1,
          1,
          1,
          1,
          1,
          1,
          1,
          1,
          1,
          0.9996798257098479,
          0.9996790408387669,
          0.9996755754957077,
          0.9996117200672915,
          0.9996176152641394,
          0.9996176692011672,
          0.9995793646874371,
          0.9994228087422284,
          0.9993050127919729,
          0.9993047056857384,
          0.9993386308590222,
          0.9993372293478133,
          0.9993083752125452,
          0.9993143819748419,
          0.999315770912441,
          0.999220655266974,
          0.9991707640573632,
          0.9991737685245009,
          0.9991528264886671,
          0.9991311560238255,
          0.9992095948971158,
          0.9991492584370077,
          0.9991531480212389,
          0.999170905731833,
          0.999180460269818,
          0.9991544594468721,
          0.9991438859289204,
          0.999144872433856,
          0.9991011717362744,
          0.9991134793676104,
          0.9991032390728739,
          0.9991122080096878,
          0.9991108727817287,
          0.9990964954986281,
          0.9990853591243067,
          0.9990820345283511,
          0.9991310006673028,
          0.9990763233608997,
          0.9990935589220954,
          0.9991228380577505,
          0.999144852147659,
          0.9991550666007036,
          0.9991685288896996,
          0.9991354077786229,
          0.999183007340115,
          0.9991920898566359,
          0.9992179278624598,
          0.9992175300341745,
          0.9992046903538653,
          0.9992250401132037,
          0.9991554599153144,
          0.9992227854667894,
          0.9992297021523375,
          0.9992410385946925,
          0.9992588746920655,
          0.9992732371780371,
          0.9990655523442808,
          0.9991262097588534,
          0.9991232703794217,
          0.9991234178557562,
          0.9991184284386834,
          0.99911715933631,
          0.9989785006954902,
          0.9990552728612683,
          0.9990501362890282,
          0.9990397205686665,
          0.9991014755330864,
          0.9992302910842096,
          0.9993564699662131,
          0.9996079120195229,
          0.9997190032616868,
          0.9998542095548191,
          1.0000089617920542,
          1.0001433253689203,
          1.000278713788856,
          1.0002886383319152,
          1.0005222948047077,
          1.0006280278417439,
          1.0007220174597067,
          1.0007327411986988,
          1.00071036816025,
          1.0007070234203528,
          1.0009270184536565,
          1.0007058934796205,
          1.00073795885673,
          1.0007571794442496,
          1.0007728618550058,
          1.000792119663627,
          1.0009671506799849,
          1.0009799978740184,
          1.0009261327254193,
          1.0009480008066234,
          1.0009262781790917,
          1.0009394460842487,
          1.0009438979897443,
          1.0011958357354254,
          1.0010416990952007,
          1.0010842614002062,
          1.001135977790244,
          1.0011732857714906,
          1.0012070318955069,
          1.001331009240172,
          1.0013508279387757,
          1.0013353208718978,
          1.0013485654074614,
          1.0014405940660103,
          1.0014240035909125,
          1.0014346316809348,
          1.001539186025526,
          1.0014450960159142,
          1.001470414797076,
          1.00143916384676,
          1.0014633759787486,
          1.0014739636061873,
          1.001487035480856,
          1.001509751970208,
          1.0015608183154145,
          1.0015589053669707,
          1.0015561242346578,
          1.0015285293855878,
          1.0015297358285928,
          1.0015681898467854,
          1.0015945900408505,
          1.0016008991654368,
          1.0016037896283463,
          1.0016152825644336,
          1.0016255655219264,
          1.0016212506434514,
          1.0016453614113283,
          1.0016529873640656,
          1.0016416826366024,
          1.0016087497677169,
          1.0016046391686226,
          1.0016007397151185,
          1.001712665983213,
          1.0017137049030043,
          1.0017129406447158,
          1.0016831139418525,
          1.0016782150906733,
          1.0016676448236084,
          1.001661376813062,
          1.0016643292828813,
          1.0016591279090452,
          1.0016386420869958,
          1.0016120801255022,
          1.00160611322334,
          1.0015994161232529,
          1.0015960472192076,
          1.0015706751934614,
          1.0015643853796645,
          1.0015334117878887,
          1.0015239467900874,
          1.0015316081469117,
          1.0014942288678375,
          1.0017755255603684,
          1.001797193348739,
          1.0016988160675393,
          1.001754530441871,
          1.0017812369416195,
          1.0018442533324066,
          1.0018642435811143,
          1.0017270917349814,
          1.0016950446302446,
          1.0016153517572526,
          1.0016242684531327,
          1.001624832410641,
          1.0016274682792292,
          1.0020297562646854,
          1.0017028241376211,
          1.00175139991618,
          1.0018022654623444,
          1.0018533445780182,
          1.0018916498042019,
          1.0019322681952745,
          1.0019624659685926,
          1.0019696733062016,
          1.0019651099226905,
          1.0019350027527014,
          1.00196071777787,
          1.0019895270649535,
          1.0020852557348174,
          1.0021113419068624,
          1.00213514518629,
          1.0021585797508314,
          1.0021171090616714,
          1.0021262367162826,
          1.0021437392644708,
          1.0022400706819747,
          1.0022460863691245,
          1.0021755435100475,
          1.0022406370873245,
          1.0022734079100426,
          1.0023073168266223,
          1.0022961071080414,
          1.00232600231813,
          1.002357614787007,
          1.0023523002197805,
          1.002368607748599,
          1.0023753567209268,
          1.0023665847046834,
          1.0025602389639936,
          1.0024005250760448,
          1.0024441343111303,
          1.002457513327777,
          1.0024864756623062,
          1.0025102156788608,
          1.0026074756712833,
          1.0026117613488843,
          1.0025874815677274,
          1.0026082508629737,
          1.0025952104734355,
          1.0026024036955368,
          1.0026210146028842,
          1.0026520142119326,
          1.0026863212521073,
          1.002810497929505,
          1.0028044848082651,
          1.0026869625995631,
          1.0026894997626252,
          1.002702303738357,
          1.0027124154397515,
          1.0028180479539237,
          1.0028286292574486,
          1.0028395022888932,
          1.0028082345858267,
          1.0028090923972854,
          1.002809020285084,
          1.0028116462930114,
          1.0028469870561023,
          1.002856010554655,
          1.0028556511840465,
          1.0028332899879917,
          1.0028387688330818,
          1.002851864644802,
          1.0029020692853983,
          1.002903612789265,
          1.0028974485870548,
          1.002872290505542,
          1.0028800049981332,
          1.0029158291818532,
          1.0029192009649344,
          1.0028892078947138,
          1.0028908784704846,
          1.002895508001644,
          1.0029028519665841,
          1.002917280321593,
          1.0028664229143,
          1.002928283301076,
          1.0029295837969379,
          1.0029284745302092,
          1.0029286174541021,
          1.0029276937394458,
          1.0030219152408726,
          1.0030238740148054,
          1.0029876244078764,
          1.0029962374075945,
          1.0029999825663218,
          1.0030344823016535,
          1.002983081926262,
          1.0029846113739782,
          1.0029883530852342,
          1.0030339451632766,
          1.0030366188085114,
          1.0030378507672941,
          1.0030137048407797,
          1.0031884467380998,
          1.0031811363879326,
          1.0030619939376366,
          1.0030599897961507,
          1.0029875097260672,
          1.0029728702363647,
          1.0031515857195832,
          1.003086504891993,
          1.0030996208870004,
          1.0031108416841288,
          1.0031235851478264,
          1.0031655473465324,
          1.0032681608346963,
          1.0027684317960082,
          1.0027544095160965,
          1.0027396505205233,
          1.0027396768150232,
          1.002629198450677,
          1.002612656629636,
          1.0026282724058289,
          1.0025939553530312,
          1.0025909868605913,
          1.0026306238494185,
          1.0026380998711892,
          1.0026408430156424,
          1.002658803682054,
          1.0027465355040213,
          1.0027444363681437,
          1.0027399857396206,
          1.0027010551838365,
          1.0027012691922157,
          1.0027018964941714,
          1.002708420714405,
          1.0026074512543832,
          1.0026182774725447,
          1.0027085466800922,
          1.0027015319129748,
          1.0027100064822316,
          1.002716896656643,
          1.0029489143934422,
          1.0029436193913732,
          1.0029356558308036,
          1.0027909092278906,
          1.0028280092720732,
          1.0028637234136597,
          1.0029338004584627,
          1.003027386289721,
          1.0030600402991905,
          1.0030295537235072,
          1.0030618338036164,
          1.003063459710777,
          1.0030651220019633,
          1.003207752997256,
          1.0031975074577522,
          1.0031897573195092,
          1.0031614854440158,
          1.0031831631999781,
          1.0031965023995533,
          1.0031792740125045,
          1.003337212073797,
          1.0033529706919095,
          1.0035005484642157,
          1.003375390762545,
          1.0034027628233821,
          1.0034295475538286,
          1.0034891951702984,
          1.0034904212386186,
          1.003522193794503,
          1.003505388717646,
          1.0034916054365348,
          1.0035440022101254,
          1.0035314245804645,
          1.0036317266465749,
          1.0035708438726032,
          1.0035790736851316,
          1.0035855525775135,
          1.0036479574166346,
          1.0035119385835443,
          1.0035821205894628,
          1.0043144271607574
         ],
         "yaxis": "y"
        },
        {
         "hovertemplate": "variable=scaled_tvl<br>timestamp=%{x}<br>value=%{y}<extra></extra>",
         "legendgroup": "scaled_tvl",
         "line": {
          "color": "#00cc96",
          "dash": "solid"
         },
         "marker": {
          "symbol": "circle"
         },
         "mode": "lines",
         "name": "scaled_tvl",
         "showlegend": true,
         "type": "scattergl",
         "x": [
          "2024-09-15T02:04:47+00:00",
          "2024-09-15T05:44:35+00:00",
          "2024-09-15T09:24:47+00:00",
          "2024-09-15T13:04:11+00:00",
          "2024-09-15T16:44:23+00:00",
          "2024-09-15T20:23:35+00:00",
          "2024-09-16T00:03:11+00:00",
          "2024-09-16T03:43:47+00:00",
          "2024-09-16T07:23:23+00:00",
          "2024-09-16T11:04:47+00:00",
          "2024-09-16T14:46:11+00:00",
          "2024-09-16T18:26:47+00:00",
          "2024-09-16T22:06:23+00:00",
          "2024-09-17T01:46:35+00:00",
          "2024-09-17T05:27:47+00:00",
          "2024-09-17T09:08:35+00:00",
          "2024-09-17T12:48:23+00:00",
          "2024-09-17T16:29:11+00:00",
          "2024-09-17T20:09:47+00:00",
          "2024-09-17T23:50:47+00:00",
          "2024-09-18T03:30:35+00:00",
          "2024-09-18T07:11:35+00:00",
          "2024-09-18T10:51:35+00:00",
          "2024-09-18T14:32:23+00:00",
          "2024-09-18T18:12:23+00:00",
          "2024-09-18T21:52:47+00:00",
          "2024-09-19T01:33:11+00:00",
          "2024-09-19T05:13:23+00:00",
          "2024-09-19T08:53:23+00:00",
          "2024-09-19T12:33:23+00:00",
          "2024-09-19T16:13:23+00:00",
          "2024-09-19T19:53:23+00:00",
          "2024-09-19T23:33:11+00:00",
          "2024-09-20T03:13:35+00:00",
          "2024-09-20T06:54:11+00:00",
          "2024-09-20T10:35:11+00:00",
          "2024-09-20T14:14:59+00:00",
          "2024-09-20T17:54:59+00:00",
          "2024-09-20T21:35:23+00:00",
          "2024-09-21T01:16:23+00:00",
          "2024-09-21T04:56:23+00:00",
          "2024-09-21T08:38:11+00:00",
          "2024-09-21T12:18:11+00:00",
          "2024-09-21T15:58:11+00:00",
          "2024-09-21T19:38:11+00:00",
          "2024-09-21T23:19:11+00:00",
          "2024-09-22T02:58:47+00:00",
          "2024-09-22T06:38:35+00:00",
          "2024-09-22T10:18:23+00:00",
          "2024-09-22T13:58:11+00:00",
          "2024-09-22T17:37:59+00:00",
          "2024-09-22T21:18:11+00:00",
          "2024-09-23T00:57:47+00:00",
          "2024-09-23T04:37:23+00:00",
          "2024-09-23T08:17:35+00:00",
          "2024-09-23T11:58:59+00:00",
          "2024-09-23T15:38:59+00:00",
          "2024-09-23T19:18:59+00:00",
          "2024-09-23T22:58:59+00:00",
          "2024-09-24T02:38:47+00:00",
          "2024-09-24T06:18:23+00:00",
          "2024-09-24T09:57:47+00:00",
          "2024-09-24T13:37:23+00:00",
          "2024-09-24T17:17:47+00:00",
          "2024-09-24T20:57:11+00:00",
          "2024-09-25T00:36:59+00:00",
          "2024-09-25T04:17:23+00:00",
          "2024-09-25T07:57:11+00:00",
          "2024-09-25T11:37:35+00:00",
          "2024-09-25T15:18:35+00:00",
          "2024-09-25T18:59:35+00:00",
          "2024-09-25T22:38:47+00:00",
          "2024-09-26T02:18:35+00:00",
          "2024-09-26T05:58:23+00:00",
          "2024-09-26T09:37:59+00:00",
          "2024-09-26T13:17:35+00:00",
          "2024-09-26T16:56:59+00:00",
          "2024-09-26T20:36:59+00:00",
          "2024-09-27T00:17:47+00:00",
          "2024-09-27T03:57:35+00:00",
          "2024-09-27T07:37:11+00:00",
          "2024-09-27T11:16:59+00:00",
          "2024-09-27T14:56:47+00:00",
          "2024-09-27T18:36:47+00:00",
          "2024-09-27T22:16:11+00:00",
          "2024-09-28T01:55:59+00:00",
          "2024-09-28T05:36:23+00:00",
          "2024-09-28T09:15:59+00:00",
          "2024-09-28T12:55:47+00:00",
          "2024-09-28T16:35:23+00:00",
          "2024-09-28T20:15:47+00:00",
          "2024-09-28T23:56:35+00:00",
          "2024-09-29T03:36:47+00:00",
          "2024-09-29T07:17:11+00:00",
          "2024-09-29T10:56:47+00:00",
          "2024-09-29T14:36:35+00:00",
          "2024-09-29T18:16:11+00:00",
          "2024-09-29T21:56:47+00:00",
          "2024-09-30T01:36:35+00:00",
          "2024-09-30T05:16:35+00:00",
          "2024-09-30T08:55:59+00:00",
          "2024-09-30T12:35:23+00:00",
          "2024-09-30T16:15:11+00:00",
          "2024-09-30T19:54:47+00:00",
          "2024-09-30T23:34:23+00:00",
          "2024-10-01T03:13:59+00:00",
          "2024-10-01T06:53:59+00:00",
          "2024-10-01T10:33:35+00:00",
          "2024-10-01T14:13:47+00:00",
          "2024-10-01T17:54:11+00:00",
          "2024-10-01T21:34:23+00:00",
          "2024-10-02T01:14:11+00:00",
          "2024-10-02T04:54:11+00:00",
          "2024-10-02T08:33:47+00:00",
          "2024-10-02T12:12:59+00:00",
          "2024-10-02T15:53:11+00:00",
          "2024-10-02T19:33:23+00:00",
          "2024-10-02T23:12:47+00:00",
          "2024-10-03T02:52:11+00:00",
          "2024-10-03T06:32:23+00:00",
          "2024-10-03T10:11:59+00:00",
          "2024-10-03T13:51:59+00:00",
          "2024-10-03T17:33:23+00:00",
          "2024-10-03T21:13:47+00:00",
          "2024-10-04T00:53:11+00:00",
          "2024-10-04T04:32:23+00:00",
          "2024-10-04T08:11:59+00:00",
          "2024-10-04T11:51:23+00:00",
          "2024-10-04T15:30:59+00:00",
          "2024-10-04T19:10:35+00:00",
          "2024-10-04T22:50:23+00:00",
          "2024-10-05T02:30:35+00:00",
          "2024-10-05T06:09:59+00:00",
          "2024-10-05T09:49:59+00:00",
          "2024-10-05T13:29:23+00:00",
          "2024-10-05T17:09:23+00:00",
          "2024-10-05T20:48:59+00:00",
          "2024-10-06T00:28:11+00:00",
          "2024-10-06T04:07:47+00:00",
          "2024-10-06T07:47:35+00:00",
          "2024-10-06T11:27:47+00:00",
          "2024-10-06T15:07:47+00:00",
          "2024-10-06T18:47:35+00:00",
          "2024-10-06T22:27:23+00:00",
          "2024-10-07T02:07:35+00:00",
          "2024-10-07T05:47:35+00:00",
          "2024-10-07T09:27:11+00:00",
          "2024-10-07T13:06:35+00:00",
          "2024-10-07T16:46:47+00:00",
          "2024-10-07T20:26:23+00:00",
          "2024-10-08T00:05:59+00:00",
          "2024-10-08T03:45:47+00:00",
          "2024-10-08T07:25:35+00:00",
          "2024-10-08T11:04:59+00:00",
          "2024-10-08T14:44:47+00:00",
          "2024-10-08T18:24:11+00:00",
          "2024-10-08T22:04:47+00:00",
          "2024-10-09T01:44:35+00:00",
          "2024-10-09T05:23:47+00:00",
          "2024-10-09T09:03:35+00:00",
          "2024-10-09T12:43:59+00:00",
          "2024-10-09T16:23:11+00:00",
          "2024-10-09T20:02:59+00:00",
          "2024-10-09T23:42:35+00:00",
          "2024-10-10T03:22:23+00:00",
          "2024-10-10T07:02:23+00:00",
          "2024-10-10T10:42:11+00:00",
          "2024-10-10T14:21:47+00:00",
          "2024-10-10T18:01:11+00:00",
          "2024-10-10T21:40:59+00:00",
          "2024-10-11T01:20:35+00:00",
          "2024-10-11T05:00:35+00:00",
          "2024-10-11T08:40:59+00:00",
          "2024-10-11T12:21:35+00:00",
          "2024-10-11T16:02:35+00:00",
          "2024-10-11T19:42:47+00:00",
          "2024-10-11T23:23:35+00:00",
          "2024-10-12T03:04:23+00:00",
          "2024-10-12T06:44:47+00:00",
          "2024-10-12T10:26:35+00:00",
          "2024-10-12T14:06:59+00:00",
          "2024-10-12T17:46:59+00:00",
          "2024-10-12T21:27:35+00:00",
          "2024-10-13T01:07:59+00:00",
          "2024-10-13T04:50:11+00:00",
          "2024-10-13T08:32:47+00:00",
          "2024-10-13T12:14:23+00:00",
          "2024-10-13T15:54:11+00:00",
          "2024-10-13T19:34:11+00:00",
          "2024-10-13T23:14:47+00:00",
          "2024-10-14T02:54:59+00:00",
          "2024-10-14T06:34:47+00:00",
          "2024-10-14T10:16:11+00:00",
          "2024-10-14T13:57:11+00:00",
          "2024-10-14T17:36:59+00:00",
          "2024-10-14T21:17:23+00:00",
          "2024-10-15T00:57:23+00:00",
          "2024-10-15T04:37:47+00:00",
          "2024-10-15T08:17:23+00:00",
          "2024-10-15T11:57:59+00:00",
          "2024-10-15T15:38:35+00:00",
          "2024-10-15T19:18:59+00:00",
          "2024-10-15T22:59:11+00:00",
          "2024-10-16T02:39:59+00:00",
          "2024-10-16T06:19:59+00:00",
          "2024-10-16T09:59:59+00:00",
          "2024-10-16T13:40:11+00:00",
          "2024-10-16T17:20:11+00:00",
          "2024-10-16T21:00:23+00:00",
          "2024-10-17T00:40:59+00:00",
          "2024-10-17T04:21:11+00:00",
          "2024-10-17T08:01:11+00:00",
          "2024-10-17T11:40:47+00:00",
          "2024-10-17T15:21:11+00:00",
          "2024-10-17T19:01:23+00:00",
          "2024-10-17T22:41:35+00:00",
          "2024-10-18T02:21:35+00:00",
          "2024-10-18T06:01:59+00:00",
          "2024-10-18T09:42:11+00:00",
          "2024-10-18T13:21:47+00:00",
          "2024-10-18T17:02:11+00:00",
          "2024-10-18T20:41:47+00:00",
          "2024-10-19T00:21:47+00:00",
          "2024-10-19T04:01:47+00:00",
          "2024-10-19T07:42:23+00:00",
          "2024-10-19T11:21:59+00:00",
          "2024-10-19T15:01:59+00:00",
          "2024-10-19T18:41:47+00:00",
          "2024-10-19T22:21:23+00:00",
          "2024-10-20T02:00:47+00:00",
          "2024-10-20T05:40:47+00:00",
          "2024-10-20T09:20:35+00:00",
          "2024-10-20T12:59:59+00:00",
          "2024-10-20T16:40:59+00:00",
          "2024-10-20T20:20:47+00:00",
          "2024-10-21T00:00:59+00:00",
          "2024-10-21T03:41:35+00:00",
          "2024-10-21T07:21:35+00:00",
          "2024-10-21T11:00:59+00:00",
          "2024-10-21T14:40:59+00:00",
          "2024-10-21T18:20:23+00:00",
          "2024-10-21T22:00:35+00:00",
          "2024-10-22T01:40:59+00:00",
          "2024-10-22T05:21:11+00:00",
          "2024-10-22T09:01:23+00:00",
          "2024-10-22T12:41:35+00:00",
          "2024-10-22T16:21:35+00:00",
          "2024-10-22T20:01:35+00:00",
          "2024-10-22T23:42:23+00:00",
          "2024-10-23T03:22:35+00:00",
          "2024-10-23T07:01:35+00:00",
          "2024-10-23T10:41:35+00:00",
          "2024-10-23T14:21:11+00:00",
          "2024-10-23T18:00:59+00:00",
          "2024-10-23T21:40:11+00:00",
          "2024-10-24T01:20:47+00:00",
          "2024-10-24T05:00:47+00:00",
          "2024-10-24T08:40:59+00:00",
          "2024-10-24T12:20:35+00:00",
          "2024-10-24T16:00:35+00:00",
          "2024-10-24T19:40:11+00:00",
          "2024-10-24T23:19:59+00:00",
          "2024-10-25T02:59:59+00:00",
          "2024-10-25T06:40:11+00:00",
          "2024-10-25T10:19:35+00:00",
          "2024-10-25T13:59:35+00:00",
          "2024-10-25T17:39:35+00:00",
          "2024-10-25T21:19:11+00:00",
          "2024-10-26T00:58:59+00:00",
          "2024-10-26T04:39:23+00:00",
          "2024-10-26T08:19:11+00:00",
          "2024-10-26T11:59:59+00:00",
          "2024-10-26T15:40:35+00:00",
          "2024-10-26T19:20:11+00:00",
          "2024-10-26T22:59:59+00:00",
          "2024-10-27T02:40:11+00:00",
          "2024-10-27T06:19:47+00:00",
          "2024-10-27T09:59:23+00:00",
          "2024-10-27T13:40:11+00:00",
          "2024-10-27T17:19:47+00:00",
          "2024-10-27T20:59:11+00:00",
          "2024-10-28T00:38:35+00:00",
          "2024-10-28T04:18:47+00:00",
          "2024-10-28T07:59:47+00:00",
          "2024-10-28T11:39:47+00:00",
          "2024-10-28T15:20:11+00:00",
          "2024-10-28T19:00:35+00:00",
          "2024-10-28T22:40:23+00:00",
          "2024-10-29T02:20:47+00:00",
          "2024-10-29T06:00:35+00:00",
          "2024-10-29T09:41:11+00:00",
          "2024-10-29T13:21:35+00:00",
          "2024-10-29T17:01:11+00:00",
          "2024-10-29T20:40:35+00:00",
          "2024-10-30T00:20:23+00:00",
          "2024-10-30T04:00:11+00:00",
          "2024-10-30T07:40:35+00:00",
          "2024-10-30T11:21:47+00:00",
          "2024-10-30T15:03:35+00:00",
          "2024-10-30T18:43:11+00:00",
          "2024-10-30T22:22:47+00:00",
          "2024-10-31T02:02:11+00:00",
          "2024-10-31T05:42:59+00:00",
          "2024-10-31T09:23:35+00:00",
          "2024-10-31T13:02:47+00:00",
          "2024-10-31T16:42:11+00:00",
          "2024-10-31T20:21:35+00:00",
          "2024-11-01T00:01:23+00:00",
          "2024-11-01T03:41:11+00:00",
          "2024-11-01T07:20:59+00:00",
          "2024-11-01T11:00:47+00:00",
          "2024-11-01T14:40:35+00:00",
          "2024-11-01T18:20:23+00:00",
          "2024-11-01T22:00:35+00:00",
          "2024-11-02T01:40:47+00:00",
          "2024-11-02T05:21:11+00:00",
          "2024-11-02T09:00:59+00:00",
          "2024-11-02T12:41:59+00:00",
          "2024-11-02T16:22:35+00:00",
          "2024-11-02T20:02:35+00:00",
          "2024-11-02T23:43:35+00:00",
          "2024-11-03T03:24:23+00:00",
          "2024-11-03T07:04:35+00:00",
          "2024-11-03T10:43:47+00:00",
          "2024-11-03T14:23:47+00:00",
          "2024-11-03T18:04:35+00:00",
          "2024-11-03T21:43:59+00:00",
          "2024-11-04T01:23:47+00:00",
          "2024-11-04T05:03:47+00:00",
          "2024-11-04T08:42:59+00:00",
          "2024-11-04T12:23:35+00:00",
          "2024-11-04T16:02:59+00:00",
          "2024-11-04T19:43:23+00:00",
          "2024-11-04T23:23:23+00:00",
          "2024-11-05T03:03:23+00:00",
          "2024-11-05T06:44:11+00:00",
          "2024-11-05T10:24:11+00:00",
          "2024-11-05T14:04:11+00:00",
          "2024-11-05T17:44:23+00:00",
          "2024-11-05T21:25:11+00:00",
          "2024-11-06T01:04:59+00:00",
          "2024-11-06T04:44:23+00:00",
          "2024-11-06T08:24:23+00:00",
          "2024-11-06T12:05:23+00:00",
          "2024-11-06T15:45:47+00:00",
          "2024-11-06T19:25:23+00:00",
          "2024-11-06T23:05:35+00:00",
          "2024-11-07T02:45:35+00:00",
          "2024-11-07T06:25:23+00:00",
          "2024-11-07T10:05:23+00:00",
          "2024-11-07T13:45:47+00:00",
          "2024-11-07T17:27:11+00:00",
          "2024-11-07T21:06:59+00:00",
          "2024-11-08T00:47:47+00:00",
          "2024-11-08T04:29:35+00:00",
          "2024-11-08T08:09:59+00:00",
          "2024-11-08T11:49:35+00:00"
         ],
         "xaxis": "x",
         "y": [
          1,
          1,
          1,
          1,
          1,
          1,
          1,
          1,
          1,
          1,
          1,
          1,
          0.9999390991425418,
          0.9999031167446754,
          0.9999032029127605,
          0.9998852093633794,
          0.9998518183245382,
          0.9998516310107212,
          0.9998187508437127,
          0.9996422842305174,
          0.9996695392567261,
          0.9996052483280401,
          0.9996087245010237,
          0.9995697124762318,
          0.999599333337124,
          0.999591116918585,
          0.9995919247455948,
          0.9996035091685519,
          0.9995910179973025,
          0.9995951122348414,
          0.9996670853797676,
          0.9996526301640161,
          0.9997010649641572,
          0.9996572727320044,
          0.9997007516748342,
          0.9997001117054392,
          0.9997180188920927,
          0.999683398515549,
          0.9996633293283113,
          0.9997031590661238,
          0.9996779465028437,
          0.9996867398192693,
          0.9996434279153904,
          0.9996639807874712,
          0.9996656331487995,
          0.9996656761478713,
          0.999655526265664,
          0.999668933466051,
          0.9996827187720163,
          0.9996403366866002,
          0.9996566403094799,
          0.9996831676848732,
          0.9997039950808947,
          0.9997244932683447,
          0.9997370876823105,
          0.9997853985522274,
          0.999773077750756,
          0.9997846657993504,
          0.9997609782356984,
          0.9997491063766708,
          0.9997724467604304,
          0.9998161335768179,
          0.9997399398479557,
          0.9998078102020473,
          0.9998170152857025,
          0.9998328978258928,
          0.9998394188164845,
          0.9998650392025888,
          0.9998347247800017,
          0.9998852072670773,
          0.9998862541208768,
          0.9998872399030644,
          0.9998775193234686,
          0.9998101947834246,
          0.999761094010332,
          0.9998842479381352,
          0.9998880965337055,
          0.9998886495217658,
          0.9999708627869703,
          1.0001035774926055,
          1.0003041435098752,
          1.000460933397651,
          1.0006262420749983,
          1.0007403919621303,
          1.0009231380778334,
          1.0010481857293874,
          1.001187948644874,
          1.0013132124351078,
          1.001547769597444,
          1.0016493211091262,
          1.0017275301356547,
          1.001746843015494,
          1.0017447795814924,
          1.0017356123209433,
          1.0017840335942731,
          1.0015658380040424,
          1.0015844388818653,
          1.0016531312018002,
          1.001673282422206,
          1.0017390574208178,
          1.001822749934767,
          1.0018520008818577,
          1.0018089358437727,
          1.0018271061930697,
          1.0018130619576022,
          1.0018227138099793,
          1.0018566841528511,
          1.0019423774852094,
          1.001785616352755,
          1.0018408949465645,
          1.001884783285894,
          1.0019320795568056,
          1.0019706028013224,
          1.002027800414569,
          1.0020559568225664,
          1.0020555600559042,
          1.0020730329280871,
          1.002094825968394,
          1.0020466695660748,
          1.0020656651684603,
          1.0021057112357976,
          1.0019715091390433,
          1.0020023023063755,
          1.0020274883565365,
          1.002056353638718,
          1.0020922135524306,
          1.0021066294139975,
          1.0021337857773402,
          1.0021734905289903,
          1.0021794864171203,
          1.0021889461126947,
          1.0021699380484261,
          1.002168737886913,
          1.0021736273955966,
          1.0022005411634953,
          1.0022098803971342,
          1.0022235663405927,
          1.002245747707366,
          1.0022772405464906,
          1.002303426121854,
          1.002300531685179,
          1.0023074197424058,
          1.002315232670085,
          1.002289550078186,
          1.0022890860872453,
          1.0022849126807247,
          1.0022944786081383,
          1.0022851381396238,
          1.0022905170776142,
          1.0022794377435225,
          1.002280661189559,
          1.0022671629208801,
          1.002421370718426,
          1.0024200076411884,
          1.0024196143591506,
          1.0024024871162702,
          1.0023789544540265,
          1.002390239786365,
          1.0023807565930671,
          1.002383786839859,
          1.002375391231701,
          1.0023767953095934,
          1.0023413787380864,
          1.0023044365144251,
          1.0023310244049717,
          1.0023194547882126,
          1.002410248300814,
          1.0024426470795647,
          1.0023534071706506,
          1.0024293911554754,
          1.0024656051427654,
          1.002556591457592,
          1.0025792537372609,
          1.0025520414379925,
          1.002563479042124,
          1.002482360820213,
          1.002486878008733,
          1.0024950577834237,
          1.0024977783836486,
          1.0025958531249644,
          1.002270211057572,
          1.0023208814866509,
          1.0023718165013171,
          1.002429650991516,
          1.0024834676808454,
          1.0025385949886916,
          1.0025725632856681,
          1.0025832094166716,
          1.0025813577496272,
          1.0025592650176984,
          1.0025886418566838,
          1.0026143608769753,
          1.0026314588031051,
          1.0026642748415098,
          1.0026949154254596,
          1.0027215412829549,
          1.0026851920363937,
          1.0027044502651825,
          1.0027250068151063,
          1.002787509331582,
          1.002821290671361,
          1.00276168898181,
          1.0028311503460665,
          1.0028658631652516,
          1.002903249312346,
          1.0029283167985863,
          1.002974796255426,
          1.0030152782932436,
          1.0030327988395749,
          1.0030496062731773,
          1.0030938718965368,
          1.003193099921731,
          1.0032467851618136,
          1.0030945590626603,
          1.0031286604651268,
          1.003153271497857,
          1.0031835266338271,
          1.003239938971938,
          1.0032685541531916,
          1.00327251103404,
          1.0032239980943392,
          1.003250085256051,
          1.003249729482753,
          1.0032699259423394,
          1.0032957033518533,
          1.0033283948941314,
          1.0033618914055857,
          1.0033713047793515,
          1.0033716699967472,
          1.003274641267555,
          1.00329638012798,
          1.0033205320605338,
          1.0033373523499494,
          1.00339746944307,
          1.0034119356694142,
          1.0034301987234588,
          1.0034061813733361,
          1.0034090448206134,
          1.003415757265821,
          1.0034209817583315,
          1.0034418050725102,
          1.0034499994655763,
          1.0034563263792413,
          1.0034483963928416,
          1.0034551475175664,
          1.0034949851584107,
          1.0035526055801187,
          1.0035501848351849,
          1.0035496490857618,
          1.0035224775142944,
          1.0035189254089283,
          1.0035308732454513,
          1.0035453832156245,
          1.0035202971491863,
          1.0035230710504643,
          1.0035322650174845,
          1.0035664831617797,
          1.0035695335747572,
          1.0035085704801452,
          1.0035774092026246,
          1.0035863690911695,
          1.003588616673307,
          1.0035895572404316,
          1.003605944970875,
          1.0036392403855126,
          1.0036575222685842,
          1.0036414677993974,
          1.0036697337970106,
          1.003669361583846,
          1.0037153446651481,
          1.0037277903673039,
          1.0037270107813399,
          1.0037294682157134,
          1.003783763406193,
          1.0037913553726905,
          1.0037941285234755,
          1.003802969061448,
          1.0038545966687697,
          1.0038503683210294,
          1.003740956535778,
          1.003751561195061,
          1.0037038502399442,
          1.003691833579198,
          1.0037658279396098,
          1.003699610514963,
          1.003714817893545,
          1.0037410367933182,
          1.0037644873207052,
          1.0038673683505912,
          1.004042869476994,
          1.0039185829955772,
          1.0039162007969833,
          1.0039174340908217,
          1.0039577941806126,
          1.0038664369733266,
          1.0038682747462657,
          1.0038963164601655,
          1.003926478162813,
          1.003933274012083,
          1.0039939346398723,
          1.004010575815888,
          1.004022372991321,
          1.004044974459555,
          1.0040732553568779,
          1.0040751754230477,
          1.0040760723700977,
          1.0040429528680912,
          1.0040456386230454,
          1.0040493238727817,
          1.0040604544147569,
          1.0040482263032586,
          1.004064993088474,
          1.0041481298170944,
          1.0041483349239793,
          1.0041542789680051,
          1.0041822728296095,
          1.0042372461547677,
          1.004235512095498,
          1.00423677595426,
          1.0040681644145057,
          1.004113871182873,
          1.004157294095119,
          1.0042444009959404,
          1.0042944642084894,
          1.0043425170695783,
          1.0043757086496088,
          1.00443101190761,
          1.0044419891052254,
          1.004457124985939,
          1.0045275263603946,
          1.0045307373542982,
          1.0045319052173545,
          1.0044748455299402,
          1.0044837775233901,
          1.004506623652049,
          1.0045047289963565,
          1.0045656093232063,
          1.0045975600888208,
          1.004656495679786,
          1.0045273250959674,
          1.004573568145924,
          1.00461180406617,
          1.0046806615753932,
          1.0047093166515573,
          1.0047850352688201,
          1.00477669671162,
          1.0047708744065347,
          1.0048435563005882,
          1.0048421390927673,
          1.0048703477593668,
          1.0048240904699492,
          1.0048406695241405,
          1.0048606715131652,
          1.0048213743392174,
          1.0047356847991322,
          1.0047171108572972,
          1.0049395951655733
         ],
         "yaxis": "y"
        }
       ],
       "layout": {
        "legend": {
         "title": {
          "text": "variable"
         },
         "tracegroupgap": 0
        },
        "margin": {
         "t": 60
        },
        "template": {
         "data": {
          "bar": [
           {
            "error_x": {
             "color": "#2a3f5f"
            },
            "error_y": {
             "color": "#2a3f5f"
            },
            "marker": {
             "line": {
              "color": "#E5ECF6",
              "width": 0.5
             },
             "pattern": {
              "fillmode": "overlay",
              "size": 10,
              "solidity": 0.2
             }
            },
            "type": "bar"
           }
          ],
          "barpolar": [
           {
            "marker": {
             "line": {
              "color": "#E5ECF6",
              "width": 0.5
             },
             "pattern": {
              "fillmode": "overlay",
              "size": 10,
              "solidity": 0.2
             }
            },
            "type": "barpolar"
           }
          ],
          "carpet": [
           {
            "aaxis": {
             "endlinecolor": "#2a3f5f",
             "gridcolor": "white",
             "linecolor": "white",
             "minorgridcolor": "white",
             "startlinecolor": "#2a3f5f"
            },
            "baxis": {
             "endlinecolor": "#2a3f5f",
             "gridcolor": "white",
             "linecolor": "white",
             "minorgridcolor": "white",
             "startlinecolor": "#2a3f5f"
            },
            "type": "carpet"
           }
          ],
          "choropleth": [
           {
            "colorbar": {
             "outlinewidth": 0,
             "ticks": ""
            },
            "type": "choropleth"
           }
          ],
          "contour": [
           {
            "colorbar": {
             "outlinewidth": 0,
             "ticks": ""
            },
            "colorscale": [
             [
              0,
              "#0d0887"
             ],
             [
              0.1111111111111111,
              "#46039f"
             ],
             [
              0.2222222222222222,
              "#7201a8"
             ],
             [
              0.3333333333333333,
              "#9c179e"
             ],
             [
              0.4444444444444444,
              "#bd3786"
             ],
             [
              0.5555555555555556,
              "#d8576b"
             ],
             [
              0.6666666666666666,
              "#ed7953"
             ],
             [
              0.7777777777777778,
              "#fb9f3a"
             ],
             [
              0.8888888888888888,
              "#fdca26"
             ],
             [
              1,
              "#f0f921"
             ]
            ],
            "type": "contour"
           }
          ],
          "contourcarpet": [
           {
            "colorbar": {
             "outlinewidth": 0,
             "ticks": ""
            },
            "type": "contourcarpet"
           }
          ],
          "heatmap": [
           {
            "colorbar": {
             "outlinewidth": 0,
             "ticks": ""
            },
            "colorscale": [
             [
              0,
              "#0d0887"
             ],
             [
              0.1111111111111111,
              "#46039f"
             ],
             [
              0.2222222222222222,
              "#7201a8"
             ],
             [
              0.3333333333333333,
              "#9c179e"
             ],
             [
              0.4444444444444444,
              "#bd3786"
             ],
             [
              0.5555555555555556,
              "#d8576b"
             ],
             [
              0.6666666666666666,
              "#ed7953"
             ],
             [
              0.7777777777777778,
              "#fb9f3a"
             ],
             [
              0.8888888888888888,
              "#fdca26"
             ],
             [
              1,
              "#f0f921"
             ]
            ],
            "type": "heatmap"
           }
          ],
          "heatmapgl": [
           {
            "colorbar": {
             "outlinewidth": 0,
             "ticks": ""
            },
            "colorscale": [
             [
              0,
              "#0d0887"
             ],
             [
              0.1111111111111111,
              "#46039f"
             ],
             [
              0.2222222222222222,
              "#7201a8"
             ],
             [
              0.3333333333333333,
              "#9c179e"
             ],
             [
              0.4444444444444444,
              "#bd3786"
             ],
             [
              0.5555555555555556,
              "#d8576b"
             ],
             [
              0.6666666666666666,
              "#ed7953"
             ],
             [
              0.7777777777777778,
              "#fb9f3a"
             ],
             [
              0.8888888888888888,
              "#fdca26"
             ],
             [
              1,
              "#f0f921"
             ]
            ],
            "type": "heatmapgl"
           }
          ],
          "histogram": [
           {
            "marker": {
             "pattern": {
              "fillmode": "overlay",
              "size": 10,
              "solidity": 0.2
             }
            },
            "type": "histogram"
           }
          ],
          "histogram2d": [
           {
            "colorbar": {
             "outlinewidth": 0,
             "ticks": ""
            },
            "colorscale": [
             [
              0,
              "#0d0887"
             ],
             [
              0.1111111111111111,
              "#46039f"
             ],
             [
              0.2222222222222222,
              "#7201a8"
             ],
             [
              0.3333333333333333,
              "#9c179e"
             ],
             [
              0.4444444444444444,
              "#bd3786"
             ],
             [
              0.5555555555555556,
              "#d8576b"
             ],
             [
              0.6666666666666666,
              "#ed7953"
             ],
             [
              0.7777777777777778,
              "#fb9f3a"
             ],
             [
              0.8888888888888888,
              "#fdca26"
             ],
             [
              1,
              "#f0f921"
             ]
            ],
            "type": "histogram2d"
           }
          ],
          "histogram2dcontour": [
           {
            "colorbar": {
             "outlinewidth": 0,
             "ticks": ""
            },
            "colorscale": [
             [
              0,
              "#0d0887"
             ],
             [
              0.1111111111111111,
              "#46039f"
             ],
             [
              0.2222222222222222,
              "#7201a8"
             ],
             [
              0.3333333333333333,
              "#9c179e"
             ],
             [
              0.4444444444444444,
              "#bd3786"
             ],
             [
              0.5555555555555556,
              "#d8576b"
             ],
             [
              0.6666666666666666,
              "#ed7953"
             ],
             [
              0.7777777777777778,
              "#fb9f3a"
             ],
             [
              0.8888888888888888,
              "#fdca26"
             ],
             [
              1,
              "#f0f921"
             ]
            ],
            "type": "histogram2dcontour"
           }
          ],
          "mesh3d": [
           {
            "colorbar": {
             "outlinewidth": 0,
             "ticks": ""
            },
            "type": "mesh3d"
           }
          ],
          "parcoords": [
           {
            "line": {
             "colorbar": {
              "outlinewidth": 0,
              "ticks": ""
             }
            },
            "type": "parcoords"
           }
          ],
          "pie": [
           {
            "automargin": true,
            "type": "pie"
           }
          ],
          "scatter": [
           {
            "fillpattern": {
             "fillmode": "overlay",
             "size": 10,
             "solidity": 0.2
            },
            "type": "scatter"
           }
          ],
          "scatter3d": [
           {
            "line": {
             "colorbar": {
              "outlinewidth": 0,
              "ticks": ""
             }
            },
            "marker": {
             "colorbar": {
              "outlinewidth": 0,
              "ticks": ""
             }
            },
            "type": "scatter3d"
           }
          ],
          "scattercarpet": [
           {
            "marker": {
             "colorbar": {
              "outlinewidth": 0,
              "ticks": ""
             }
            },
            "type": "scattercarpet"
           }
          ],
          "scattergeo": [
           {
            "marker": {
             "colorbar": {
              "outlinewidth": 0,
              "ticks": ""
             }
            },
            "type": "scattergeo"
           }
          ],
          "scattergl": [
           {
            "marker": {
             "colorbar": {
              "outlinewidth": 0,
              "ticks": ""
             }
            },
            "type": "scattergl"
           }
          ],
          "scattermapbox": [
           {
            "marker": {
             "colorbar": {
              "outlinewidth": 0,
              "ticks": ""
             }
            },
            "type": "scattermapbox"
           }
          ],
          "scatterpolar": [
           {
            "marker": {
             "colorbar": {
              "outlinewidth": 0,
              "ticks": ""
             }
            },
            "type": "scatterpolar"
           }
          ],
          "scatterpolargl": [
           {
            "marker": {
             "colorbar": {
              "outlinewidth": 0,
              "ticks": ""
             }
            },
            "type": "scatterpolargl"
           }
          ],
          "scatterternary": [
           {
            "marker": {
             "colorbar": {
              "outlinewidth": 0,
              "ticks": ""
             }
            },
            "type": "scatterternary"
           }
          ],
          "surface": [
           {
            "colorbar": {
             "outlinewidth": 0,
             "ticks": ""
            },
            "colorscale": [
             [
              0,
              "#0d0887"
             ],
             [
              0.1111111111111111,
              "#46039f"
             ],
             [
              0.2222222222222222,
              "#7201a8"
             ],
             [
              0.3333333333333333,
              "#9c179e"
             ],
             [
              0.4444444444444444,
              "#bd3786"
             ],
             [
              0.5555555555555556,
              "#d8576b"
             ],
             [
              0.6666666666666666,
              "#ed7953"
             ],
             [
              0.7777777777777778,
              "#fb9f3a"
             ],
             [
              0.8888888888888888,
              "#fdca26"
             ],
             [
              1,
              "#f0f921"
             ]
            ],
            "type": "surface"
           }
          ],
          "table": [
           {
            "cells": {
             "fill": {
              "color": "#EBF0F8"
             },
             "line": {
              "color": "white"
             }
            },
            "header": {
             "fill": {
              "color": "#C8D4E3"
             },
             "line": {
              "color": "white"
             }
            },
            "type": "table"
           }
          ]
         },
         "layout": {
          "annotationdefaults": {
           "arrowcolor": "#2a3f5f",
           "arrowhead": 0,
           "arrowwidth": 1
          },
          "autotypenumbers": "strict",
          "coloraxis": {
           "colorbar": {
            "outlinewidth": 0,
            "ticks": ""
           }
          },
          "colorscale": {
           "diverging": [
            [
             0,
             "#8e0152"
            ],
            [
             0.1,
             "#c51b7d"
            ],
            [
             0.2,
             "#de77ae"
            ],
            [
             0.3,
             "#f1b6da"
            ],
            [
             0.4,
             "#fde0ef"
            ],
            [
             0.5,
             "#f7f7f7"
            ],
            [
             0.6,
             "#e6f5d0"
            ],
            [
             0.7,
             "#b8e186"
            ],
            [
             0.8,
             "#7fbc41"
            ],
            [
             0.9,
             "#4d9221"
            ],
            [
             1,
             "#276419"
            ]
           ],
           "sequential": [
            [
             0,
             "#0d0887"
            ],
            [
             0.1111111111111111,
             "#46039f"
            ],
            [
             0.2222222222222222,
             "#7201a8"
            ],
            [
             0.3333333333333333,
             "#9c179e"
            ],
            [
             0.4444444444444444,
             "#bd3786"
            ],
            [
             0.5555555555555556,
             "#d8576b"
            ],
            [
             0.6666666666666666,
             "#ed7953"
            ],
            [
             0.7777777777777778,
             "#fb9f3a"
            ],
            [
             0.8888888888888888,
             "#fdca26"
            ],
            [
             1,
             "#f0f921"
            ]
           ],
           "sequentialminus": [
            [
             0,
             "#0d0887"
            ],
            [
             0.1111111111111111,
             "#46039f"
            ],
            [
             0.2222222222222222,
             "#7201a8"
            ],
            [
             0.3333333333333333,
             "#9c179e"
            ],
            [
             0.4444444444444444,
             "#bd3786"
            ],
            [
             0.5555555555555556,
             "#d8576b"
            ],
            [
             0.6666666666666666,
             "#ed7953"
            ],
            [
             0.7777777777777778,
             "#fb9f3a"
            ],
            [
             0.8888888888888888,
             "#fdca26"
            ],
            [
             1,
             "#f0f921"
            ]
           ]
          },
          "colorway": [
           "#636efa",
           "#EF553B",
           "#00cc96",
           "#ab63fa",
           "#FFA15A",
           "#19d3f3",
           "#FF6692",
           "#B6E880",
           "#FF97FF",
           "#FECB52"
          ],
          "font": {
           "color": "#2a3f5f"
          },
          "geo": {
           "bgcolor": "white",
           "lakecolor": "white",
           "landcolor": "#E5ECF6",
           "showlakes": true,
           "showland": true,
           "subunitcolor": "white"
          },
          "hoverlabel": {
           "align": "left"
          },
          "hovermode": "closest",
          "mapbox": {
           "style": "light"
          },
          "paper_bgcolor": "white",
          "plot_bgcolor": "#E5ECF6",
          "polar": {
           "angularaxis": {
            "gridcolor": "white",
            "linecolor": "white",
            "ticks": ""
           },
           "bgcolor": "#E5ECF6",
           "radialaxis": {
            "gridcolor": "white",
            "linecolor": "white",
            "ticks": ""
           }
          },
          "scene": {
           "xaxis": {
            "backgroundcolor": "#E5ECF6",
            "gridcolor": "white",
            "gridwidth": 2,
            "linecolor": "white",
            "showbackground": true,
            "ticks": "",
            "zerolinecolor": "white"
           },
           "yaxis": {
            "backgroundcolor": "#E5ECF6",
            "gridcolor": "white",
            "gridwidth": 2,
            "linecolor": "white",
            "showbackground": true,
            "ticks": "",
            "zerolinecolor": "white"
           },
           "zaxis": {
            "backgroundcolor": "#E5ECF6",
            "gridcolor": "white",
            "gridwidth": 2,
            "linecolor": "white",
            "showbackground": true,
            "ticks": "",
            "zerolinecolor": "white"
           }
          },
          "shapedefaults": {
           "line": {
            "color": "#2a3f5f"
           }
          },
          "ternary": {
           "aaxis": {
            "gridcolor": "white",
            "linecolor": "white",
            "ticks": ""
           },
           "baxis": {
            "gridcolor": "white",
            "linecolor": "white",
            "ticks": ""
           },
           "bgcolor": "#E5ECF6",
           "caxis": {
            "gridcolor": "white",
            "linecolor": "white",
            "ticks": ""
           }
          },
          "title": {
           "x": 0.05
          },
          "xaxis": {
           "automargin": true,
           "gridcolor": "white",
           "linecolor": "white",
           "ticks": "",
           "title": {
            "standoff": 15
           },
           "zerolinecolor": "white",
           "zerolinewidth": 2
          },
          "yaxis": {
           "automargin": true,
           "gridcolor": "white",
           "linecolor": "white",
           "ticks": "",
           "title": {
            "standoff": 15
           },
           "zerolinecolor": "white",
           "zerolinewidth": 2
          }
         }
        },
        "xaxis": {
         "anchor": "y",
         "domain": [
          0,
          1
         ],
         "title": {
          "text": "timestamp"
         }
        },
        "yaxis": {
         "anchor": "x",
         "domain": [
          0,
          1
         ],
         "title": {
          "text": "value"
         }
        }
       }
      }
     },
     "metadata": {},
     "output_type": "display_data"
    }
   ],
   "source": [
    "tvl_df = pd.DataFrame()\n",
    "tvl_df[\"totalAssets\"] = balETH_tvl_totalAssets\n",
    "tvl_df[\"tvl\"] = tvl\n",
    "tvl_df[\"scaled_tvl\"] = scaled_tvl # this is scaled wrong\n",
    "px.line(tvl_df / balETH_tvl_totalSupply.values)"
   ]
  },
  {
   "cell_type": "code",
   "execution_count": null,
   "metadata": {},
   "outputs": [
    {
     "data": {
      "text/html": [
       "<div>\n",
       "<style scoped>\n",
       "    .dataframe tbody tr th:only-of-type {\n",
       "        vertical-align: middle;\n",
       "    }\n",
       "\n",
       "    .dataframe tbody tr th {\n",
       "        vertical-align: top;\n",
       "    }\n",
       "\n",
       "    .dataframe thead th {\n",
       "        text-align: right;\n",
       "    }\n",
       "</style>\n",
       "<table border=\"1\" class=\"dataframe\">\n",
       "  <thead>\n",
       "    <tr style=\"text-align: right;\">\n",
       "      <th></th>\n",
       "      <th>ezETH-WETH-BPT (balancer) 0</th>\n",
       "      <th>rsETH / ETHx (balancer) 1</th>\n",
       "      <th>rsETH / WETH (balancer) 2</th>\n",
       "      <th>ECLP-wstETH-wETH (balancer) 3</th>\n",
       "      <th>ezETH-WETH-BPT (balancer) 4</th>\n",
       "      <th>ETHx/wstETH (balancer) 5</th>\n",
       "      <th>ECLP-wstETH-cbETH (balancer) 6</th>\n",
       "      <th>ezETH-WETH-BPT (balancer) 7</th>\n",
       "      <th>weETH/ezETH/rswETH (balancer) 8</th>\n",
       "      <th>weETH/ezETH/rswETH (balancer) 9</th>\n",
       "      <th>...</th>\n",
       "      <th>wstETH-WETH-BPT (balancer) 27</th>\n",
       "      <th>ECLP-wstETH-cbETH (balancer) 28</th>\n",
       "      <th>B-rETH-STABLE (balancer) 29</th>\n",
       "      <th>pxETH/wETH (balancer) 30</th>\n",
       "      <th>weETH/rETH (balancer) 31</th>\n",
       "      <th>rsETH / ETHx (balancer) 32</th>\n",
       "      <th>weETH/rETH (balancer) 33</th>\n",
       "      <th>weETH/rETH (balancer) 34</th>\n",
       "      <th>ETHx/wstETH (balancer) 35</th>\n",
       "      <th>rsETH / ETHx (balancer) 36</th>\n",
       "    </tr>\n",
       "    <tr>\n",
       "      <th>timestamp</th>\n",
       "      <th></th>\n",
       "      <th></th>\n",
       "      <th></th>\n",
       "      <th></th>\n",
       "      <th></th>\n",
       "      <th></th>\n",
       "      <th></th>\n",
       "      <th></th>\n",
       "      <th></th>\n",
       "      <th></th>\n",
       "      <th></th>\n",
       "      <th></th>\n",
       "      <th></th>\n",
       "      <th></th>\n",
       "      <th></th>\n",
       "      <th></th>\n",
       "      <th></th>\n",
       "      <th></th>\n",
       "      <th></th>\n",
       "      <th></th>\n",
       "      <th></th>\n",
       "    </tr>\n",
       "  </thead>\n",
       "  <tbody>\n",
       "    <tr>\n",
       "      <th>2024-09-15 02:04:47+00:00</th>\n",
       "      <td>0.000738</td>\n",
       "      <td>NaN</td>\n",
       "      <td>NaN</td>\n",
       "      <td>NaN</td>\n",
       "      <td>NaN</td>\n",
       "      <td>NaN</td>\n",
       "      <td>NaN</td>\n",
       "      <td>NaN</td>\n",
       "      <td>0.000797</td>\n",
       "      <td>NaN</td>\n",
       "      <td>...</td>\n",
       "      <td>0.000196</td>\n",
       "      <td>NaN</td>\n",
       "      <td>NaN</td>\n",
       "      <td>NaN</td>\n",
       "      <td>NaN</td>\n",
       "      <td>0.001220</td>\n",
       "      <td>-0.000265</td>\n",
       "      <td>NaN</td>\n",
       "      <td>0.000961</td>\n",
       "      <td>NaN</td>\n",
       "    </tr>\n",
       "    <tr>\n",
       "      <th>2024-09-15 05:44:35+00:00</th>\n",
       "      <td>0.000738</td>\n",
       "      <td>NaN</td>\n",
       "      <td>NaN</td>\n",
       "      <td>NaN</td>\n",
       "      <td>NaN</td>\n",
       "      <td>NaN</td>\n",
       "      <td>NaN</td>\n",
       "      <td>NaN</td>\n",
       "      <td>0.000797</td>\n",
       "      <td>NaN</td>\n",
       "      <td>...</td>\n",
       "      <td>0.000195</td>\n",
       "      <td>NaN</td>\n",
       "      <td>NaN</td>\n",
       "      <td>NaN</td>\n",
       "      <td>NaN</td>\n",
       "      <td>0.001395</td>\n",
       "      <td>-0.000275</td>\n",
       "      <td>NaN</td>\n",
       "      <td>0.000961</td>\n",
       "      <td>NaN</td>\n",
       "    </tr>\n",
       "    <tr>\n",
       "      <th>2024-09-15 09:24:47+00:00</th>\n",
       "      <td>0.000738</td>\n",
       "      <td>NaN</td>\n",
       "      <td>NaN</td>\n",
       "      <td>NaN</td>\n",
       "      <td>NaN</td>\n",
       "      <td>NaN</td>\n",
       "      <td>NaN</td>\n",
       "      <td>NaN</td>\n",
       "      <td>0.000780</td>\n",
       "      <td>NaN</td>\n",
       "      <td>...</td>\n",
       "      <td>0.000192</td>\n",
       "      <td>NaN</td>\n",
       "      <td>NaN</td>\n",
       "      <td>NaN</td>\n",
       "      <td>NaN</td>\n",
       "      <td>0.000857</td>\n",
       "      <td>-0.000322</td>\n",
       "      <td>NaN</td>\n",
       "      <td>0.000626</td>\n",
       "      <td>NaN</td>\n",
       "    </tr>\n",
       "    <tr>\n",
       "      <th>2024-09-15 13:04:11+00:00</th>\n",
       "      <td>0.000734</td>\n",
       "      <td>NaN</td>\n",
       "      <td>NaN</td>\n",
       "      <td>NaN</td>\n",
       "      <td>NaN</td>\n",
       "      <td>NaN</td>\n",
       "      <td>NaN</td>\n",
       "      <td>NaN</td>\n",
       "      <td>0.000782</td>\n",
       "      <td>NaN</td>\n",
       "      <td>...</td>\n",
       "      <td>0.000195</td>\n",
       "      <td>NaN</td>\n",
       "      <td>NaN</td>\n",
       "      <td>NaN</td>\n",
       "      <td>NaN</td>\n",
       "      <td>0.000855</td>\n",
       "      <td>-0.000296</td>\n",
       "      <td>NaN</td>\n",
       "      <td>0.000634</td>\n",
       "      <td>NaN</td>\n",
       "    </tr>\n",
       "    <tr>\n",
       "      <th>2024-09-15 16:44:23+00:00</th>\n",
       "      <td>0.000740</td>\n",
       "      <td>NaN</td>\n",
       "      <td>NaN</td>\n",
       "      <td>NaN</td>\n",
       "      <td>NaN</td>\n",
       "      <td>0.000634</td>\n",
       "      <td>NaN</td>\n",
       "      <td>0.000740</td>\n",
       "      <td>0.000782</td>\n",
       "      <td>NaN</td>\n",
       "      <td>...</td>\n",
       "      <td>0.000195</td>\n",
       "      <td>0.001504</td>\n",
       "      <td>-0.000645</td>\n",
       "      <td>-0.001237</td>\n",
       "      <td>NaN</td>\n",
       "      <td>0.000855</td>\n",
       "      <td>-0.000302</td>\n",
       "      <td>-0.000302</td>\n",
       "      <td>0.000634</td>\n",
       "      <td>0.000855</td>\n",
       "    </tr>\n",
       "    <tr>\n",
       "      <th>...</th>\n",
       "      <td>...</td>\n",
       "      <td>...</td>\n",
       "      <td>...</td>\n",
       "      <td>...</td>\n",
       "      <td>...</td>\n",
       "      <td>...</td>\n",
       "      <td>...</td>\n",
       "      <td>...</td>\n",
       "      <td>...</td>\n",
       "      <td>...</td>\n",
       "      <td>...</td>\n",
       "      <td>...</td>\n",
       "      <td>...</td>\n",
       "      <td>...</td>\n",
       "      <td>...</td>\n",
       "      <td>...</td>\n",
       "      <td>...</td>\n",
       "      <td>...</td>\n",
       "      <td>...</td>\n",
       "      <td>...</td>\n",
       "      <td>...</td>\n",
       "    </tr>\n",
       "    <tr>\n",
       "      <th>2024-11-07 21:06:59+00:00</th>\n",
       "      <td>0.000384</td>\n",
       "      <td>0.000771</td>\n",
       "      <td>0.000604</td>\n",
       "      <td>NaN</td>\n",
       "      <td>0.000384</td>\n",
       "      <td>0.000000</td>\n",
       "      <td>NaN</td>\n",
       "      <td>0.000384</td>\n",
       "      <td>0.002064</td>\n",
       "      <td>0.002064</td>\n",
       "      <td>...</td>\n",
       "      <td>0.000153</td>\n",
       "      <td>NaN</td>\n",
       "      <td>NaN</td>\n",
       "      <td>0.000000</td>\n",
       "      <td>0.001181</td>\n",
       "      <td>0.000771</td>\n",
       "      <td>0.001181</td>\n",
       "      <td>0.000000</td>\n",
       "      <td>0.000454</td>\n",
       "      <td>0.000000</td>\n",
       "    </tr>\n",
       "    <tr>\n",
       "      <th>2024-11-08 00:47:47+00:00</th>\n",
       "      <td>0.000547</td>\n",
       "      <td>0.000766</td>\n",
       "      <td>0.000604</td>\n",
       "      <td>NaN</td>\n",
       "      <td>0.000547</td>\n",
       "      <td>0.000000</td>\n",
       "      <td>NaN</td>\n",
       "      <td>0.000547</td>\n",
       "      <td>0.002128</td>\n",
       "      <td>0.002128</td>\n",
       "      <td>...</td>\n",
       "      <td>0.000168</td>\n",
       "      <td>NaN</td>\n",
       "      <td>NaN</td>\n",
       "      <td>0.000000</td>\n",
       "      <td>0.001193</td>\n",
       "      <td>0.000766</td>\n",
       "      <td>0.001193</td>\n",
       "      <td>0.000000</td>\n",
       "      <td>0.000450</td>\n",
       "      <td>0.000000</td>\n",
       "    </tr>\n",
       "    <tr>\n",
       "      <th>2024-11-08 04:29:35+00:00</th>\n",
       "      <td>0.000394</td>\n",
       "      <td>0.000973</td>\n",
       "      <td>0.000848</td>\n",
       "      <td>NaN</td>\n",
       "      <td>0.000394</td>\n",
       "      <td>0.000000</td>\n",
       "      <td>NaN</td>\n",
       "      <td>0.000394</td>\n",
       "      <td>0.002135</td>\n",
       "      <td>0.002135</td>\n",
       "      <td>...</td>\n",
       "      <td>0.000196</td>\n",
       "      <td>NaN</td>\n",
       "      <td>NaN</td>\n",
       "      <td>0.000000</td>\n",
       "      <td>0.001216</td>\n",
       "      <td>0.000973</td>\n",
       "      <td>0.001216</td>\n",
       "      <td>0.000000</td>\n",
       "      <td>0.000450</td>\n",
       "      <td>0.000000</td>\n",
       "    </tr>\n",
       "    <tr>\n",
       "      <th>2024-11-08 08:09:59+00:00</th>\n",
       "      <td>0.000458</td>\n",
       "      <td>0.001032</td>\n",
       "      <td>0.000885</td>\n",
       "      <td>NaN</td>\n",
       "      <td>0.000458</td>\n",
       "      <td>0.000000</td>\n",
       "      <td>NaN</td>\n",
       "      <td>0.000458</td>\n",
       "      <td>0.002247</td>\n",
       "      <td>0.002247</td>\n",
       "      <td>...</td>\n",
       "      <td>0.000193</td>\n",
       "      <td>NaN</td>\n",
       "      <td>NaN</td>\n",
       "      <td>0.000000</td>\n",
       "      <td>0.001260</td>\n",
       "      <td>0.001032</td>\n",
       "      <td>0.001260</td>\n",
       "      <td>0.000000</td>\n",
       "      <td>0.000489</td>\n",
       "      <td>0.000000</td>\n",
       "    </tr>\n",
       "    <tr>\n",
       "      <th>2024-11-08 11:49:35+00:00</th>\n",
       "      <td>0.000128</td>\n",
       "      <td>0.000963</td>\n",
       "      <td>0.000849</td>\n",
       "      <td>NaN</td>\n",
       "      <td>0.000128</td>\n",
       "      <td>0.000000</td>\n",
       "      <td>NaN</td>\n",
       "      <td>0.000128</td>\n",
       "      <td>0.002365</td>\n",
       "      <td>0.002365</td>\n",
       "      <td>...</td>\n",
       "      <td>0.000188</td>\n",
       "      <td>NaN</td>\n",
       "      <td>NaN</td>\n",
       "      <td>0.000000</td>\n",
       "      <td>0.001354</td>\n",
       "      <td>0.000963</td>\n",
       "      <td>0.001354</td>\n",
       "      <td>0.000000</td>\n",
       "      <td>0.000436</td>\n",
       "      <td>0.000000</td>\n",
       "    </tr>\n",
       "  </tbody>\n",
       "</table>\n",
       "<p>357 rows × 37 columns</p>\n",
       "</div>"
      ],
      "text/plain": [
       "                           ezETH-WETH-BPT (balancer) 0  \\\n",
       "timestamp                                                \n",
       "2024-09-15 02:04:47+00:00                     0.000738   \n",
       "2024-09-15 05:44:35+00:00                     0.000738   \n",
       "2024-09-15 09:24:47+00:00                     0.000738   \n",
       "2024-09-15 13:04:11+00:00                     0.000734   \n",
       "2024-09-15 16:44:23+00:00                     0.000740   \n",
       "...                                                ...   \n",
       "2024-11-07 21:06:59+00:00                     0.000384   \n",
       "2024-11-08 00:47:47+00:00                     0.000547   \n",
       "2024-11-08 04:29:35+00:00                     0.000394   \n",
       "2024-11-08 08:09:59+00:00                     0.000458   \n",
       "2024-11-08 11:49:35+00:00                     0.000128   \n",
       "\n",
       "                           rsETH / ETHx (balancer) 1  \\\n",
       "timestamp                                              \n",
       "2024-09-15 02:04:47+00:00                        NaN   \n",
       "2024-09-15 05:44:35+00:00                        NaN   \n",
       "2024-09-15 09:24:47+00:00                        NaN   \n",
       "2024-09-15 13:04:11+00:00                        NaN   \n",
       "2024-09-15 16:44:23+00:00                        NaN   \n",
       "...                                              ...   \n",
       "2024-11-07 21:06:59+00:00                   0.000771   \n",
       "2024-11-08 00:47:47+00:00                   0.000766   \n",
       "2024-11-08 04:29:35+00:00                   0.000973   \n",
       "2024-11-08 08:09:59+00:00                   0.001032   \n",
       "2024-11-08 11:49:35+00:00                   0.000963   \n",
       "\n",
       "                           rsETH / WETH (balancer) 2  \\\n",
       "timestamp                                              \n",
       "2024-09-15 02:04:47+00:00                        NaN   \n",
       "2024-09-15 05:44:35+00:00                        NaN   \n",
       "2024-09-15 09:24:47+00:00                        NaN   \n",
       "2024-09-15 13:04:11+00:00                        NaN   \n",
       "2024-09-15 16:44:23+00:00                        NaN   \n",
       "...                                              ...   \n",
       "2024-11-07 21:06:59+00:00                   0.000604   \n",
       "2024-11-08 00:47:47+00:00                   0.000604   \n",
       "2024-11-08 04:29:35+00:00                   0.000848   \n",
       "2024-11-08 08:09:59+00:00                   0.000885   \n",
       "2024-11-08 11:49:35+00:00                   0.000849   \n",
       "\n",
       "                           ECLP-wstETH-wETH (balancer) 3  \\\n",
       "timestamp                                                  \n",
       "2024-09-15 02:04:47+00:00                            NaN   \n",
       "2024-09-15 05:44:35+00:00                            NaN   \n",
       "2024-09-15 09:24:47+00:00                            NaN   \n",
       "2024-09-15 13:04:11+00:00                            NaN   \n",
       "2024-09-15 16:44:23+00:00                            NaN   \n",
       "...                                                  ...   \n",
       "2024-11-07 21:06:59+00:00                            NaN   \n",
       "2024-11-08 00:47:47+00:00                            NaN   \n",
       "2024-11-08 04:29:35+00:00                            NaN   \n",
       "2024-11-08 08:09:59+00:00                            NaN   \n",
       "2024-11-08 11:49:35+00:00                            NaN   \n",
       "\n",
       "                           ezETH-WETH-BPT (balancer) 4  \\\n",
       "timestamp                                                \n",
       "2024-09-15 02:04:47+00:00                          NaN   \n",
       "2024-09-15 05:44:35+00:00                          NaN   \n",
       "2024-09-15 09:24:47+00:00                          NaN   \n",
       "2024-09-15 13:04:11+00:00                          NaN   \n",
       "2024-09-15 16:44:23+00:00                          NaN   \n",
       "...                                                ...   \n",
       "2024-11-07 21:06:59+00:00                     0.000384   \n",
       "2024-11-08 00:47:47+00:00                     0.000547   \n",
       "2024-11-08 04:29:35+00:00                     0.000394   \n",
       "2024-11-08 08:09:59+00:00                     0.000458   \n",
       "2024-11-08 11:49:35+00:00                     0.000128   \n",
       "\n",
       "                           ETHx/wstETH (balancer) 5  \\\n",
       "timestamp                                             \n",
       "2024-09-15 02:04:47+00:00                       NaN   \n",
       "2024-09-15 05:44:35+00:00                       NaN   \n",
       "2024-09-15 09:24:47+00:00                       NaN   \n",
       "2024-09-15 13:04:11+00:00                       NaN   \n",
       "2024-09-15 16:44:23+00:00                  0.000634   \n",
       "...                                             ...   \n",
       "2024-11-07 21:06:59+00:00                  0.000000   \n",
       "2024-11-08 00:47:47+00:00                  0.000000   \n",
       "2024-11-08 04:29:35+00:00                  0.000000   \n",
       "2024-11-08 08:09:59+00:00                  0.000000   \n",
       "2024-11-08 11:49:35+00:00                  0.000000   \n",
       "\n",
       "                           ECLP-wstETH-cbETH (balancer) 6  \\\n",
       "timestamp                                                   \n",
       "2024-09-15 02:04:47+00:00                             NaN   \n",
       "2024-09-15 05:44:35+00:00                             NaN   \n",
       "2024-09-15 09:24:47+00:00                             NaN   \n",
       "2024-09-15 13:04:11+00:00                             NaN   \n",
       "2024-09-15 16:44:23+00:00                             NaN   \n",
       "...                                                   ...   \n",
       "2024-11-07 21:06:59+00:00                             NaN   \n",
       "2024-11-08 00:47:47+00:00                             NaN   \n",
       "2024-11-08 04:29:35+00:00                             NaN   \n",
       "2024-11-08 08:09:59+00:00                             NaN   \n",
       "2024-11-08 11:49:35+00:00                             NaN   \n",
       "\n",
       "                           ezETH-WETH-BPT (balancer) 7  \\\n",
       "timestamp                                                \n",
       "2024-09-15 02:04:47+00:00                          NaN   \n",
       "2024-09-15 05:44:35+00:00                          NaN   \n",
       "2024-09-15 09:24:47+00:00                          NaN   \n",
       "2024-09-15 13:04:11+00:00                          NaN   \n",
       "2024-09-15 16:44:23+00:00                     0.000740   \n",
       "...                                                ...   \n",
       "2024-11-07 21:06:59+00:00                     0.000384   \n",
       "2024-11-08 00:47:47+00:00                     0.000547   \n",
       "2024-11-08 04:29:35+00:00                     0.000394   \n",
       "2024-11-08 08:09:59+00:00                     0.000458   \n",
       "2024-11-08 11:49:35+00:00                     0.000128   \n",
       "\n",
       "                           weETH/ezETH/rswETH (balancer) 8  \\\n",
       "timestamp                                                    \n",
       "2024-09-15 02:04:47+00:00                         0.000797   \n",
       "2024-09-15 05:44:35+00:00                         0.000797   \n",
       "2024-09-15 09:24:47+00:00                         0.000780   \n",
       "2024-09-15 13:04:11+00:00                         0.000782   \n",
       "2024-09-15 16:44:23+00:00                         0.000782   \n",
       "...                                                    ...   \n",
       "2024-11-07 21:06:59+00:00                         0.002064   \n",
       "2024-11-08 00:47:47+00:00                         0.002128   \n",
       "2024-11-08 04:29:35+00:00                         0.002135   \n",
       "2024-11-08 08:09:59+00:00                         0.002247   \n",
       "2024-11-08 11:49:35+00:00                         0.002365   \n",
       "\n",
       "                           weETH/ezETH/rswETH (balancer) 9  ...  \\\n",
       "timestamp                                                   ...   \n",
       "2024-09-15 02:04:47+00:00                              NaN  ...   \n",
       "2024-09-15 05:44:35+00:00                              NaN  ...   \n",
       "2024-09-15 09:24:47+00:00                              NaN  ...   \n",
       "2024-09-15 13:04:11+00:00                              NaN  ...   \n",
       "2024-09-15 16:44:23+00:00                              NaN  ...   \n",
       "...                                                    ...  ...   \n",
       "2024-11-07 21:06:59+00:00                         0.002064  ...   \n",
       "2024-11-08 00:47:47+00:00                         0.002128  ...   \n",
       "2024-11-08 04:29:35+00:00                         0.002135  ...   \n",
       "2024-11-08 08:09:59+00:00                         0.002247  ...   \n",
       "2024-11-08 11:49:35+00:00                         0.002365  ...   \n",
       "\n",
       "                           wstETH-WETH-BPT (balancer) 27  \\\n",
       "timestamp                                                  \n",
       "2024-09-15 02:04:47+00:00                       0.000196   \n",
       "2024-09-15 05:44:35+00:00                       0.000195   \n",
       "2024-09-15 09:24:47+00:00                       0.000192   \n",
       "2024-09-15 13:04:11+00:00                       0.000195   \n",
       "2024-09-15 16:44:23+00:00                       0.000195   \n",
       "...                                                  ...   \n",
       "2024-11-07 21:06:59+00:00                       0.000153   \n",
       "2024-11-08 00:47:47+00:00                       0.000168   \n",
       "2024-11-08 04:29:35+00:00                       0.000196   \n",
       "2024-11-08 08:09:59+00:00                       0.000193   \n",
       "2024-11-08 11:49:35+00:00                       0.000188   \n",
       "\n",
       "                           ECLP-wstETH-cbETH (balancer) 28  \\\n",
       "timestamp                                                    \n",
       "2024-09-15 02:04:47+00:00                              NaN   \n",
       "2024-09-15 05:44:35+00:00                              NaN   \n",
       "2024-09-15 09:24:47+00:00                              NaN   \n",
       "2024-09-15 13:04:11+00:00                              NaN   \n",
       "2024-09-15 16:44:23+00:00                         0.001504   \n",
       "...                                                    ...   \n",
       "2024-11-07 21:06:59+00:00                              NaN   \n",
       "2024-11-08 00:47:47+00:00                              NaN   \n",
       "2024-11-08 04:29:35+00:00                              NaN   \n",
       "2024-11-08 08:09:59+00:00                              NaN   \n",
       "2024-11-08 11:49:35+00:00                              NaN   \n",
       "\n",
       "                           B-rETH-STABLE (balancer) 29  \\\n",
       "timestamp                                                \n",
       "2024-09-15 02:04:47+00:00                          NaN   \n",
       "2024-09-15 05:44:35+00:00                          NaN   \n",
       "2024-09-15 09:24:47+00:00                          NaN   \n",
       "2024-09-15 13:04:11+00:00                          NaN   \n",
       "2024-09-15 16:44:23+00:00                    -0.000645   \n",
       "...                                                ...   \n",
       "2024-11-07 21:06:59+00:00                          NaN   \n",
       "2024-11-08 00:47:47+00:00                          NaN   \n",
       "2024-11-08 04:29:35+00:00                          NaN   \n",
       "2024-11-08 08:09:59+00:00                          NaN   \n",
       "2024-11-08 11:49:35+00:00                          NaN   \n",
       "\n",
       "                           pxETH/wETH (balancer) 30  weETH/rETH (balancer) 31  \\\n",
       "timestamp                                                                       \n",
       "2024-09-15 02:04:47+00:00                       NaN                       NaN   \n",
       "2024-09-15 05:44:35+00:00                       NaN                       NaN   \n",
       "2024-09-15 09:24:47+00:00                       NaN                       NaN   \n",
       "2024-09-15 13:04:11+00:00                       NaN                       NaN   \n",
       "2024-09-15 16:44:23+00:00                 -0.001237                       NaN   \n",
       "...                                             ...                       ...   \n",
       "2024-11-07 21:06:59+00:00                  0.000000                  0.001181   \n",
       "2024-11-08 00:47:47+00:00                  0.000000                  0.001193   \n",
       "2024-11-08 04:29:35+00:00                  0.000000                  0.001216   \n",
       "2024-11-08 08:09:59+00:00                  0.000000                  0.001260   \n",
       "2024-11-08 11:49:35+00:00                  0.000000                  0.001354   \n",
       "\n",
       "                           rsETH / ETHx (balancer) 32  \\\n",
       "timestamp                                               \n",
       "2024-09-15 02:04:47+00:00                    0.001220   \n",
       "2024-09-15 05:44:35+00:00                    0.001395   \n",
       "2024-09-15 09:24:47+00:00                    0.000857   \n",
       "2024-09-15 13:04:11+00:00                    0.000855   \n",
       "2024-09-15 16:44:23+00:00                    0.000855   \n",
       "...                                               ...   \n",
       "2024-11-07 21:06:59+00:00                    0.000771   \n",
       "2024-11-08 00:47:47+00:00                    0.000766   \n",
       "2024-11-08 04:29:35+00:00                    0.000973   \n",
       "2024-11-08 08:09:59+00:00                    0.001032   \n",
       "2024-11-08 11:49:35+00:00                    0.000963   \n",
       "\n",
       "                           weETH/rETH (balancer) 33  weETH/rETH (balancer) 34  \\\n",
       "timestamp                                                                       \n",
       "2024-09-15 02:04:47+00:00                 -0.000265                       NaN   \n",
       "2024-09-15 05:44:35+00:00                 -0.000275                       NaN   \n",
       "2024-09-15 09:24:47+00:00                 -0.000322                       NaN   \n",
       "2024-09-15 13:04:11+00:00                 -0.000296                       NaN   \n",
       "2024-09-15 16:44:23+00:00                 -0.000302                 -0.000302   \n",
       "...                                             ...                       ...   \n",
       "2024-11-07 21:06:59+00:00                  0.001181                  0.000000   \n",
       "2024-11-08 00:47:47+00:00                  0.001193                  0.000000   \n",
       "2024-11-08 04:29:35+00:00                  0.001216                  0.000000   \n",
       "2024-11-08 08:09:59+00:00                  0.001260                  0.000000   \n",
       "2024-11-08 11:49:35+00:00                  0.001354                  0.000000   \n",
       "\n",
       "                           ETHx/wstETH (balancer) 35  \\\n",
       "timestamp                                              \n",
       "2024-09-15 02:04:47+00:00                   0.000961   \n",
       "2024-09-15 05:44:35+00:00                   0.000961   \n",
       "2024-09-15 09:24:47+00:00                   0.000626   \n",
       "2024-09-15 13:04:11+00:00                   0.000634   \n",
       "2024-09-15 16:44:23+00:00                   0.000634   \n",
       "...                                              ...   \n",
       "2024-11-07 21:06:59+00:00                   0.000454   \n",
       "2024-11-08 00:47:47+00:00                   0.000450   \n",
       "2024-11-08 04:29:35+00:00                   0.000450   \n",
       "2024-11-08 08:09:59+00:00                   0.000489   \n",
       "2024-11-08 11:49:35+00:00                   0.000436   \n",
       "\n",
       "                           rsETH / ETHx (balancer) 36  \n",
       "timestamp                                              \n",
       "2024-09-15 02:04:47+00:00                         NaN  \n",
       "2024-09-15 05:44:35+00:00                         NaN  \n",
       "2024-09-15 09:24:47+00:00                         NaN  \n",
       "2024-09-15 13:04:11+00:00                         NaN  \n",
       "2024-09-15 16:44:23+00:00                    0.000855  \n",
       "...                                               ...  \n",
       "2024-11-07 21:06:59+00:00                    0.000000  \n",
       "2024-11-08 00:47:47+00:00                    0.000000  \n",
       "2024-11-08 04:29:35+00:00                    0.000000  \n",
       "2024-11-08 08:09:59+00:00                    0.000000  \n",
       "2024-11-08 11:49:35+00:00                    0.000000  \n",
       "\n",
       "[357 rows x 37 columns]"
      ]
     },
     "execution_count": 22,
     "metadata": {},
     "output_type": "execute_result"
    }
   ],
   "source": [
    "priceReturn"
   ]
  },
  {
   "cell_type": "code",
   "execution_count": null,
   "metadata": {},
   "outputs": [
    {
     "data": {
      "text/plain": [
       "timestamp\n",
       "2024-09-15 02:04:47+00:00    1.000000e-13\n",
       "2024-09-15 05:44:35+00:00    1.000000e-13\n",
       "2024-09-15 09:24:47+00:00    1.000000e-13\n",
       "2024-09-15 13:04:11+00:00    1.000000e-13\n",
       "2024-09-15 16:44:23+00:00    1.000000e-13\n",
       "                                 ...     \n",
       "2024-11-07 21:06:59+00:00    4.497504e+03\n",
       "2024-11-08 00:47:47+00:00    4.497213e+03\n",
       "2024-11-08 04:29:35+00:00    4.497691e+03\n",
       "2024-11-08 08:09:59+00:00    4.918714e+03\n",
       "2024-11-08 11:49:35+00:00    4.919931e+03\n",
       "Length: 357, dtype: float64"
      ]
     },
     "execution_count": 23,
     "metadata": {},
     "output_type": "execute_result"
    }
   ],
   "source": [
    "scaled_tvl"
   ]
  },
  {
   "cell_type": "code",
   "execution_count": null,
   "metadata": {},
   "outputs": [
    {
     "data": {
      "text/plain": [
       "timestamp\n",
       "2024-09-15 02:04:47+00:00    1.000000\n",
       "2024-09-15 05:44:35+00:00    1.000000\n",
       "2024-09-15 09:24:47+00:00    1.000000\n",
       "2024-09-15 13:04:11+00:00    1.000000\n",
       "2024-09-15 16:44:23+00:00    1.000000\n",
       "                               ...   \n",
       "2024-11-07 21:06:59+00:00    1.004861\n",
       "2024-11-08 00:47:47+00:00    1.004821\n",
       "2024-11-08 04:29:35+00:00    1.004736\n",
       "2024-11-08 08:09:59+00:00    1.004717\n",
       "2024-11-08 11:49:35+00:00    1.004940\n",
       "Length: 357, dtype: float64"
      ]
     },
     "execution_count": 24,
     "metadata": {},
     "output_type": "execute_result"
    }
   ],
   "source": [
    "scaled_nav_per_share"
   ]
  },
  {
   "cell_type": "code",
   "execution_count": null,
   "metadata": {},
   "outputs": [
    {
     "data": {
      "text/html": [
       "<div>\n",
       "<style scoped>\n",
       "    .dataframe tbody tr th:only-of-type {\n",
       "        vertical-align: middle;\n",
       "    }\n",
       "\n",
       "    .dataframe tbody tr th {\n",
       "        vertical-align: top;\n",
       "    }\n",
       "\n",
       "    .dataframe thead th {\n",
       "        text-align: right;\n",
       "    }\n",
       "</style>\n",
       "<table border=\"1\" class=\"dataframe\">\n",
       "  <thead>\n",
       "    <tr style=\"text-align: right;\">\n",
       "      <th></th>\n",
       "      <th>getPoolsAndDestinations</th>\n",
       "    </tr>\n",
       "    <tr>\n",
       "      <th>timestamp</th>\n",
       "      <th></th>\n",
       "    </tr>\n",
       "  </thead>\n",
       "  <tbody>\n",
       "    <tr>\n",
       "      <th>2024-09-15 02:04:47+00:00</th>\n",
       "      <td>1.000000e-13</td>\n",
       "    </tr>\n",
       "    <tr>\n",
       "      <th>2024-09-15 05:44:35+00:00</th>\n",
       "      <td>1.000000e-13</td>\n",
       "    </tr>\n",
       "    <tr>\n",
       "      <th>2024-09-15 09:24:47+00:00</th>\n",
       "      <td>1.000000e-13</td>\n",
       "    </tr>\n",
       "    <tr>\n",
       "      <th>2024-09-15 13:04:11+00:00</th>\n",
       "      <td>1.000000e-13</td>\n",
       "    </tr>\n",
       "    <tr>\n",
       "      <th>2024-09-15 16:44:23+00:00</th>\n",
       "      <td>1.000000e-13</td>\n",
       "    </tr>\n",
       "    <tr>\n",
       "      <th>...</th>\n",
       "      <td>...</td>\n",
       "    </tr>\n",
       "    <tr>\n",
       "      <th>2024-11-07 21:06:59+00:00</th>\n",
       "      <td>4.475749e+03</td>\n",
       "    </tr>\n",
       "    <tr>\n",
       "      <th>2024-11-08 00:47:47+00:00</th>\n",
       "      <td>4.475634e+03</td>\n",
       "    </tr>\n",
       "    <tr>\n",
       "      <th>2024-11-08 04:29:35+00:00</th>\n",
       "      <td>4.476492e+03</td>\n",
       "    </tr>\n",
       "    <tr>\n",
       "      <th>2024-11-08 08:09:59+00:00</th>\n",
       "      <td>4.895620e+03</td>\n",
       "    </tr>\n",
       "    <tr>\n",
       "      <th>2024-11-08 11:49:35+00:00</th>\n",
       "      <td>4.895748e+03</td>\n",
       "    </tr>\n",
       "  </tbody>\n",
       "</table>\n",
       "<p>357 rows × 1 columns</p>\n",
       "</div>"
      ],
      "text/plain": [
       "                           getPoolsAndDestinations\n",
       "timestamp                                         \n",
       "2024-09-15 02:04:47+00:00             1.000000e-13\n",
       "2024-09-15 05:44:35+00:00             1.000000e-13\n",
       "2024-09-15 09:24:47+00:00             1.000000e-13\n",
       "2024-09-15 13:04:11+00:00             1.000000e-13\n",
       "2024-09-15 16:44:23+00:00             1.000000e-13\n",
       "...                                            ...\n",
       "2024-11-07 21:06:59+00:00             4.475749e+03\n",
       "2024-11-08 00:47:47+00:00             4.475634e+03\n",
       "2024-11-08 04:29:35+00:00             4.476492e+03\n",
       "2024-11-08 08:09:59+00:00             4.895620e+03\n",
       "2024-11-08 11:49:35+00:00             4.895748e+03\n",
       "\n",
       "[357 rows x 1 columns]"
      ]
     },
     "execution_count": 25,
     "metadata": {},
     "output_type": "execute_result"
    }
   ],
   "source": [
    "balETH_tvl_totalSupply"
   ]
  },
  {
   "cell_type": "code",
   "execution_count": null,
   "metadata": {},
   "outputs": [
    {
     "data": {
      "text/plain": [
       "timestamp\n",
       "2024-09-15 02:04:47+00:00    1.000000e-13\n",
       "2024-09-15 05:44:35+00:00    1.000000e-13\n",
       "2024-09-15 09:24:47+00:00    1.000000e-13\n",
       "2024-09-15 13:04:11+00:00    1.000000e-13\n",
       "2024-09-15 16:44:23+00:00    1.000000e-13\n",
       "                                 ...     \n",
       "2024-11-07 21:06:59+00:00    4.497504e+03\n",
       "2024-11-08 00:47:47+00:00    4.497213e+03\n",
       "2024-11-08 04:29:35+00:00    4.497691e+03\n",
       "2024-11-08 08:09:59+00:00    4.918714e+03\n",
       "2024-11-08 11:49:35+00:00    4.919931e+03\n",
       "Length: 357, dtype: float64"
      ]
     },
     "execution_count": 26,
     "metadata": {},
     "output_type": "execute_result"
    }
   ],
   "source": [
    "scaled_tvl"
   ]
  },
  {
   "cell_type": "code",
   "execution_count": null,
   "metadata": {},
   "outputs": [
    {
     "data": {
      "text/plain": [
       "timestamp\n",
       "2024-09-15 02:04:47+00:00    1.000000\n",
       "2024-09-15 05:44:35+00:00    1.000000\n",
       "2024-09-15 09:24:47+00:00    1.000000\n",
       "2024-09-15 13:04:11+00:00    1.000000\n",
       "2024-09-15 16:44:23+00:00    1.000000\n",
       "                               ...   \n",
       "2024-11-07 21:06:59+00:00    1.004861\n",
       "2024-11-08 00:47:47+00:00    1.004821\n",
       "2024-11-08 04:29:35+00:00    1.004736\n",
       "2024-11-08 08:09:59+00:00    1.004717\n",
       "2024-11-08 11:49:35+00:00    1.004940\n",
       "Length: 357, dtype: float64"
      ]
     },
     "execution_count": 27,
     "metadata": {},
     "output_type": "execute_result"
    }
   ],
   "source": [
    "scaled_nav_per_share"
   ]
  },
  {
   "cell_type": "code",
   "execution_count": null,
   "metadata": {},
   "outputs": [
    {
     "data": {
      "application/vnd.plotly.v1+json": {
       "config": {
        "plotlyServerURL": "https://plot.ly"
       },
       "data": [
        {
         "hovertemplate": "timestamp=2024-09-15 02:04:47+00:00<br>index=%{x}<br>value=%{y}<extra></extra>",
         "legendgroup": "2024-09-15 02:04:47+00:00",
         "line": {
          "color": "#636efa",
          "dash": "solid"
         },
         "marker": {
          "symbol": "circle"
         },
         "mode": "lines",
         "name": "2024-09-15 02:04:47+00:00",
         "orientation": "v",
         "showlegend": true,
         "type": "scatter",
         "x": [
          0,
          1
         ],
         "xaxis": "x",
         "y": [
          1e-13,
          1e-13
         ],
         "yaxis": "y"
        },
        {
         "hovertemplate": "timestamp=2024-09-15 05:44:35+00:00<br>index=%{x}<br>value=%{y}<extra></extra>",
         "legendgroup": "2024-09-15 05:44:35+00:00",
         "line": {
          "color": "#EF553B",
          "dash": "solid"
         },
         "marker": {
          "symbol": "circle"
         },
         "mode": "lines",
         "name": "2024-09-15 05:44:35+00:00",
         "orientation": "v",
         "showlegend": true,
         "type": "scatter",
         "x": [
          0,
          1
         ],
         "xaxis": "x",
         "y": [
          1e-13,
          1e-13
         ],
         "yaxis": "y"
        },
        {
         "hovertemplate": "timestamp=2024-09-15 09:24:47+00:00<br>index=%{x}<br>value=%{y}<extra></extra>",
         "legendgroup": "2024-09-15 09:24:47+00:00",
         "line": {
          "color": "#00cc96",
          "dash": "solid"
         },
         "marker": {
          "symbol": "circle"
         },
         "mode": "lines",
         "name": "2024-09-15 09:24:47+00:00",
         "orientation": "v",
         "showlegend": true,
         "type": "scatter",
         "x": [
          0,
          1
         ],
         "xaxis": "x",
         "y": [
          1e-13,
          1e-13
         ],
         "yaxis": "y"
        },
        {
         "hovertemplate": "timestamp=2024-09-15 13:04:11+00:00<br>index=%{x}<br>value=%{y}<extra></extra>",
         "legendgroup": "2024-09-15 13:04:11+00:00",
         "line": {
          "color": "#ab63fa",
          "dash": "solid"
         },
         "marker": {
          "symbol": "circle"
         },
         "mode": "lines",
         "name": "2024-09-15 13:04:11+00:00",
         "orientation": "v",
         "showlegend": true,
         "type": "scatter",
         "x": [
          0,
          1
         ],
         "xaxis": "x",
         "y": [
          1e-13,
          1e-13
         ],
         "yaxis": "y"
        },
        {
         "hovertemplate": "timestamp=2024-09-15 16:44:23+00:00<br>index=%{x}<br>value=%{y}<extra></extra>",
         "legendgroup": "2024-09-15 16:44:23+00:00",
         "line": {
          "color": "#FFA15A",
          "dash": "solid"
         },
         "marker": {
          "symbol": "circle"
         },
         "mode": "lines",
         "name": "2024-09-15 16:44:23+00:00",
         "orientation": "v",
         "showlegend": true,
         "type": "scatter",
         "x": [
          0,
          1
         ],
         "xaxis": "x",
         "y": [
          1e-13,
          1e-13
         ],
         "yaxis": "y"
        },
        {
         "hovertemplate": "timestamp=2024-09-15 20:23:35+00:00<br>index=%{x}<br>value=%{y}<extra></extra>",
         "legendgroup": "2024-09-15 20:23:35+00:00",
         "line": {
          "color": "#19d3f3",
          "dash": "solid"
         },
         "marker": {
          "symbol": "circle"
         },
         "mode": "lines",
         "name": "2024-09-15 20:23:35+00:00",
         "orientation": "v",
         "showlegend": true,
         "type": "scatter",
         "x": [
          0,
          1
         ],
         "xaxis": "x",
         "y": [
          1e-13,
          1e-13
         ],
         "yaxis": "y"
        },
        {
         "hovertemplate": "timestamp=2024-09-16 00:03:11+00:00<br>index=%{x}<br>value=%{y}<extra></extra>",
         "legendgroup": "2024-09-16 00:03:11+00:00",
         "line": {
          "color": "#FF6692",
          "dash": "solid"
         },
         "marker": {
          "symbol": "circle"
         },
         "mode": "lines",
         "name": "2024-09-16 00:03:11+00:00",
         "orientation": "v",
         "showlegend": true,
         "type": "scatter",
         "x": [
          0,
          1
         ],
         "xaxis": "x",
         "y": [
          1e-13,
          1e-13
         ],
         "yaxis": "y"
        },
        {
         "hovertemplate": "timestamp=2024-09-16 03:43:47+00:00<br>index=%{x}<br>value=%{y}<extra></extra>",
         "legendgroup": "2024-09-16 03:43:47+00:00",
         "line": {
          "color": "#B6E880",
          "dash": "solid"
         },
         "marker": {
          "symbol": "circle"
         },
         "mode": "lines",
         "name": "2024-09-16 03:43:47+00:00",
         "orientation": "v",
         "showlegend": true,
         "type": "scatter",
         "x": [
          0,
          1
         ],
         "xaxis": "x",
         "y": [
          1e-13,
          1e-13
         ],
         "yaxis": "y"
        },
        {
         "hovertemplate": "timestamp=2024-09-16 07:23:23+00:00<br>index=%{x}<br>value=%{y}<extra></extra>",
         "legendgroup": "2024-09-16 07:23:23+00:00",
         "line": {
          "color": "#FF97FF",
          "dash": "solid"
         },
         "marker": {
          "symbol": "circle"
         },
         "mode": "lines",
         "name": "2024-09-16 07:23:23+00:00",
         "orientation": "v",
         "showlegend": true,
         "type": "scatter",
         "x": [
          0,
          1
         ],
         "xaxis": "x",
         "y": [
          1e-13,
          1e-13
         ],
         "yaxis": "y"
        },
        {
         "hovertemplate": "timestamp=2024-09-16 11:04:47+00:00<br>index=%{x}<br>value=%{y}<extra></extra>",
         "legendgroup": "2024-09-16 11:04:47+00:00",
         "line": {
          "color": "#FECB52",
          "dash": "solid"
         },
         "marker": {
          "symbol": "circle"
         },
         "mode": "lines",
         "name": "2024-09-16 11:04:47+00:00",
         "orientation": "v",
         "showlegend": true,
         "type": "scatter",
         "x": [
          0,
          1
         ],
         "xaxis": "x",
         "y": [
          1e-13,
          1e-13
         ],
         "yaxis": "y"
        },
        {
         "hovertemplate": "timestamp=2024-09-16 14:46:11+00:00<br>index=%{x}<br>value=%{y}<extra></extra>",
         "legendgroup": "2024-09-16 14:46:11+00:00",
         "line": {
          "color": "#636efa",
          "dash": "solid"
         },
         "marker": {
          "symbol": "circle"
         },
         "mode": "lines",
         "name": "2024-09-16 14:46:11+00:00",
         "orientation": "v",
         "showlegend": true,
         "type": "scatter",
         "x": [
          0,
          1
         ],
         "xaxis": "x",
         "y": [
          1e-13,
          1e-13
         ],
         "yaxis": "y"
        },
        {
         "hovertemplate": "timestamp=2024-09-16 18:26:47+00:00<br>index=%{x}<br>value=%{y}<extra></extra>",
         "legendgroup": "2024-09-16 18:26:47+00:00",
         "line": {
          "color": "#EF553B",
          "dash": "solid"
         },
         "marker": {
          "symbol": "circle"
         },
         "mode": "lines",
         "name": "2024-09-16 18:26:47+00:00",
         "orientation": "v",
         "showlegend": true,
         "type": "scatter",
         "x": [
          0,
          1
         ],
         "xaxis": "x",
         "y": [
          19.5000000000001,
          19.5000000000001
         ],
         "yaxis": "y"
        },
        {
         "hovertemplate": "timestamp=2024-09-16 22:06:23+00:00<br>index=%{x}<br>value=%{y}<extra></extra>",
         "legendgroup": "2024-09-16 22:06:23+00:00",
         "line": {
          "color": "#00cc96",
          "dash": "solid"
         },
         "marker": {
          "symbol": "circle"
         },
         "mode": "lines",
         "name": "2024-09-16 22:06:23+00:00",
         "orientation": "v",
         "showlegend": true,
         "type": "scatter",
         "x": [
          0,
          1
         ],
         "xaxis": "x",
         "y": [
          559.7158305384212,
          559.8609964615343
         ],
         "yaxis": "y"
        },
        {
         "hovertemplate": "timestamp=2024-09-17 01:46:35+00:00<br>index=%{x}<br>value=%{y}<extra></extra>",
         "legendgroup": "2024-09-17 01:46:35+00:00",
         "line": {
          "color": "#ab63fa",
          "dash": "solid"
         },
         "marker": {
          "symbol": "circle"
         },
         "mode": "lines",
         "name": "2024-09-17 01:46:35+00:00",
         "orientation": "v",
         "showlegend": true,
         "type": "scatter",
         "x": [
          0,
          1
         ],
         "xaxis": "x",
         "y": [
          646.6112986135994,
          646.7562351448144
         ],
         "yaxis": "y"
        },
        {
         "hovertemplate": "timestamp=2024-09-17 05:27:47+00:00<br>index=%{x}<br>value=%{y}<extra></extra>",
         "legendgroup": "2024-09-17 05:27:47+00:00",
         "line": {
          "color": "#FFA15A",
          "dash": "solid"
         },
         "marker": {
          "symbol": "circle"
         },
         "mode": "lines",
         "name": "2024-09-17 05:27:47+00:00",
         "orientation": "v",
         "showlegend": true,
         "type": "scatter",
         "x": [
          0,
          1
         ],
         "xaxis": "x",
         "y": [
          651.5990915726322,
          651.7474615256493
         ],
         "yaxis": "y"
        },
        {
         "hovertemplate": "timestamp=2024-09-17 09:08:35+00:00<br>index=%{x}<br>value=%{y}<extra></extra>",
         "legendgroup": "2024-09-17 09:08:35+00:00",
         "line": {
          "color": "#19d3f3",
          "dash": "solid"
         },
         "marker": {
          "symbol": "circle"
         },
         "mode": "lines",
         "name": "2024-09-17 09:08:35+00:00",
         "orientation": "v",
         "showlegend": true,
         "type": "scatter",
         "x": [
          0,
          1
         ],
         "xaxis": "x",
         "y": [
          699.4665947611153,
          699.6579656932462
         ],
         "yaxis": "y"
        },
        {
         "hovertemplate": "timestamp=2024-09-17 12:48:23+00:00<br>index=%{x}<br>value=%{y}<extra></extra>",
         "legendgroup": "2024-09-17 12:48:23+00:00",
         "line": {
          "color": "#FF6692",
          "dash": "solid"
         },
         "marker": {
          "symbol": "circle"
         },
         "mode": "lines",
         "name": "2024-09-17 12:48:23+00:00",
         "orientation": "v",
         "showlegend": true,
         "type": "scatter",
         "x": [
          0,
          1
         ],
         "xaxis": "x",
         "y": [
          817.5717957417105,
          817.7633468045715
         ],
         "yaxis": "y"
        },
        {
         "hovertemplate": "timestamp=2024-09-17 16:29:11+00:00<br>index=%{x}<br>value=%{y}<extra></extra>",
         "legendgroup": "2024-09-17 16:29:11+00:00",
         "line": {
          "color": "#B6E880",
          "dash": "solid"
         },
         "marker": {
          "symbol": "circle"
         },
         "mode": "lines",
         "name": "2024-09-17 16:29:11+00:00",
         "orientation": "v",
         "showlegend": true,
         "type": "scatter",
         "x": [
          0,
          1
         ],
         "xaxis": "x",
         "y": [
          818.6589231379693,
          818.8505313187429
         ],
         "yaxis": "y"
        },
        {
         "hovertemplate": "timestamp=2024-09-17 20:09:47+00:00<br>index=%{x}<br>value=%{y}<extra></extra>",
         "legendgroup": "2024-09-17 20:09:47+00:00",
         "line": {
          "color": "#FF97FF",
          "dash": "solid"
         },
         "marker": {
          "symbol": "circle"
         },
         "mode": "lines",
         "name": "2024-09-17 20:09:47+00:00",
         "orientation": "v",
         "showlegend": true,
         "type": "scatter",
         "x": [
          0,
          1
         ],
         "xaxis": "x",
         "y": [
          927.124577877032,
          927.3466120615373
         ],
         "yaxis": "y"
        },
        {
         "hovertemplate": "timestamp=2024-09-17 23:50:47+00:00<br>index=%{x}<br>value=%{y}<extra></extra>",
         "legendgroup": "2024-09-17 23:50:47+00:00",
         "line": {
          "color": "#FECB52",
          "dash": "solid"
         },
         "marker": {
          "symbol": "circle"
         },
         "mode": "lines",
         "name": "2024-09-17 23:50:47+00:00",
         "orientation": "v",
         "showlegend": true,
         "type": "scatter",
         "x": [
          0,
          1
         ],
         "xaxis": "x",
         "y": [
          1024.9496804737755,
          1025.1747617202968
         ],
         "yaxis": "y"
        },
        {
         "hovertemplate": "timestamp=2024-09-18 03:30:35+00:00<br>index=%{x}<br>value=%{y}<extra></extra>",
         "legendgroup": "2024-09-18 03:30:35+00:00",
         "line": {
          "color": "#636efa",
          "dash": "solid"
         },
         "marker": {
          "symbol": "circle"
         },
         "mode": "lines",
         "name": "2024-09-18 03:30:35+00:00",
         "orientation": "v",
         "showlegend": true,
         "type": "scatter",
         "x": [
          0,
          1
         ],
         "xaxis": "x",
         "y": [
          1036.3299196384557,
          1036.7079520480684
         ],
         "yaxis": "y"
        },
        {
         "hovertemplate": "timestamp=2024-09-18 07:11:35+00:00<br>index=%{x}<br>value=%{y}<extra></extra>",
         "legendgroup": "2024-09-18 07:11:35+00:00",
         "line": {
          "color": "#EF553B",
          "dash": "solid"
         },
         "marker": {
          "symbol": "circle"
         },
         "mode": "lines",
         "name": "2024-09-18 07:11:35+00:00",
         "orientation": "v",
         "showlegend": true,
         "type": "scatter",
         "x": [
          0,
          1
         ],
         "xaxis": "x",
         "y": [
          1257.830379176016,
          1258.2086738678893
         ],
         "yaxis": "y"
        },
        {
         "hovertemplate": "timestamp=2024-09-18 10:51:35+00:00<br>index=%{x}<br>value=%{y}<extra></extra>",
         "legendgroup": "2024-09-18 10:51:35+00:00",
         "line": {
          "color": "#00cc96",
          "dash": "solid"
         },
         "marker": {
          "symbol": "circle"
         },
         "mode": "lines",
         "name": "2024-09-18 10:51:35+00:00",
         "orientation": "v",
         "showlegend": true,
         "type": "scatter",
         "x": [
          0,
          1
         ],
         "xaxis": "x",
         "y": [
          1277.8738302081701,
          1278.2192042247061
         ],
         "yaxis": "y"
        },
        {
         "hovertemplate": "timestamp=2024-09-18 14:32:23+00:00<br>index=%{x}<br>value=%{y}<extra></extra>",
         "legendgroup": "2024-09-18 14:32:23+00:00",
         "line": {
          "color": "#ab63fa",
          "dash": "solid"
         },
         "marker": {
          "symbol": "circle"
         },
         "mode": "lines",
         "name": "2024-09-18 14:32:23+00:00",
         "orientation": "v",
         "showlegend": true,
         "type": "scatter",
         "x": [
          0,
          1
         ],
         "xaxis": "x",
         "y": [
          1483.8811224817928,
          1484.2263285998324
         ],
         "yaxis": "y"
        },
        {
         "hovertemplate": "timestamp=2024-09-18 18:12:23+00:00<br>index=%{x}<br>value=%{y}<extra></extra>",
         "legendgroup": "2024-09-18 18:12:23+00:00",
         "line": {
          "color": "#FFA15A",
          "dash": "solid"
         },
         "marker": {
          "symbol": "circle"
         },
         "mode": "lines",
         "name": "2024-09-18 18:12:23+00:00",
         "orientation": "v",
         "showlegend": true,
         "type": "scatter",
         "x": [
          0,
          1
         ],
         "xaxis": "x",
         "y": [
          1813.8378351783197,
          1814.3659512913277
         ],
         "yaxis": "y"
        },
        {
         "hovertemplate": "timestamp=2024-09-18 21:52:47+00:00<br>index=%{x}<br>value=%{y}<extra></extra>",
         "legendgroup": "2024-09-18 21:52:47+00:00",
         "line": {
          "color": "#19d3f3",
          "dash": "solid"
         },
         "marker": {
          "symbol": "circle"
         },
         "mode": "lines",
         "name": "2024-09-18 21:52:47+00:00",
         "orientation": "v",
         "showlegend": true,
         "type": "scatter",
         "x": [
          0,
          1
         ],
         "xaxis": "x",
         "y": [
          1814.0299396576268,
          1814.532289551068
         ],
         "yaxis": "y"
        },
        {
         "hovertemplate": "timestamp=2024-09-19 01:33:11+00:00<br>index=%{x}<br>value=%{y}<extra></extra>",
         "legendgroup": "2024-09-19 01:33:11+00:00",
         "line": {
          "color": "#FF6692",
          "dash": "solid"
         },
         "marker": {
          "symbol": "circle"
         },
         "mode": "lines",
         "name": "2024-09-19 01:33:11+00:00",
         "orientation": "v",
         "showlegend": true,
         "type": "scatter",
         "x": [
          0,
          1
         ],
         "xaxis": "x",
         "y": [
          1816.0324657123317,
          1816.5343134176676
         ],
         "yaxis": "y"
        },
        {
         "hovertemplate": "timestamp=2024-09-19 05:13:23+00:00<br>index=%{x}<br>value=%{y}<extra></extra>",
         "legendgroup": "2024-09-19 05:13:23+00:00",
         "line": {
          "color": "#B6E880",
          "dash": "solid"
         },
         "marker": {
          "symbol": "circle"
         },
         "mode": "lines",
         "name": "2024-09-19 05:13:23+00:00",
         "orientation": "v",
         "showlegend": true,
         "type": "scatter",
         "x": [
          0,
          1
         ],
         "xaxis": "x",
         "y": [
          1818.859569913271,
          1819.5564705218533
         ],
         "yaxis": "y"
        },
        {
         "hovertemplate": "timestamp=2024-09-19 08:53:23+00:00<br>index=%{x}<br>value=%{y}<extra></extra>",
         "legendgroup": "2024-09-19 08:53:23+00:00",
         "line": {
          "color": "#FF97FF",
          "dash": "solid"
         },
         "marker": {
          "symbol": "circle"
         },
         "mode": "lines",
         "name": "2024-09-19 08:53:23+00:00",
         "orientation": "v",
         "showlegend": true,
         "type": "scatter",
         "x": [
          0,
          1
         ],
         "xaxis": "x",
         "y": [
          1818.7687540323373,
          1819.5337331152089
         ],
         "yaxis": "y"
        },
        {
         "hovertemplate": "timestamp=2024-09-19 12:33:23+00:00<br>index=%{x}<br>value=%{y}<extra></extra>",
         "legendgroup": "2024-09-19 12:33:23+00:00",
         "line": {
          "color": "#FECB52",
          "dash": "solid"
         },
         "marker": {
          "symbol": "circle"
         },
         "mode": "lines",
         "name": "2024-09-19 12:33:23+00:00",
         "orientation": "v",
         "showlegend": true,
         "type": "scatter",
         "x": [
          0,
          1
         ],
         "xaxis": "x",
         "y": [
          1813.7783541557305,
          1814.5432102053483
         ],
         "yaxis": "y"
        },
        {
         "hovertemplate": "timestamp=2024-09-19 16:13:23+00:00<br>index=%{x}<br>value=%{y}<extra></extra>",
         "legendgroup": "2024-09-19 16:13:23+00:00",
         "line": {
          "color": "#636efa",
          "dash": "solid"
         },
         "marker": {
          "symbol": "circle"
         },
         "mode": "lines",
         "name": "2024-09-19 16:13:23+00:00",
         "orientation": "v",
         "showlegend": true,
         "type": "scatter",
         "x": [
          0,
          1
         ],
         "xaxis": "x",
         "y": [
          1841.0380772297312,
          1841.9856501885117
         ],
         "yaxis": "y"
        },
        {
         "hovertemplate": "timestamp=2024-09-19 19:53:23+00:00<br>index=%{x}<br>value=%{y}<extra></extra>",
         "legendgroup": "2024-09-19 19:53:23+00:00",
         "line": {
          "color": "#EF553B",
          "dash": "solid"
         },
         "marker": {
          "symbol": "circle"
         },
         "mode": "lines",
         "name": "2024-09-19 19:53:23+00:00",
         "orientation": "v",
         "showlegend": true,
         "type": "scatter",
         "x": [
          0,
          1
         ],
         "xaxis": "x",
         "y": [
          1892.993315386862,
          1893.981320871003
         ],
         "yaxis": "y"
        },
        {
         "hovertemplate": "timestamp=2024-09-19 23:33:11+00:00<br>index=%{x}<br>value=%{y}<extra></extra>",
         "legendgroup": "2024-09-19 23:33:11+00:00",
         "line": {
          "color": "#00cc96",
          "dash": "solid"
         },
         "marker": {
          "symbol": "circle"
         },
         "mode": "lines",
         "name": "2024-09-19 23:33:11+00:00",
         "orientation": "v",
         "showlegend": true,
         "type": "scatter",
         "x": [
          0,
          1
         ],
         "xaxis": "x",
         "y": [
          1945.6274341709855,
          1946.5844082136618
         ],
         "yaxis": "y"
        },
        {
         "hovertemplate": "timestamp=2024-09-20 03:13:35+00:00<br>index=%{x}<br>value=%{y}<extra></extra>",
         "legendgroup": "2024-09-20 03:13:35+00:00",
         "line": {
          "color": "#ab63fa",
          "dash": "solid"
         },
         "marker": {
          "symbol": "circle"
         },
         "mode": "lines",
         "name": "2024-09-20 03:13:35+00:00",
         "orientation": "v",
         "showlegend": true,
         "type": "scatter",
         "x": [
          0,
          1
         ],
         "xaxis": "x",
         "y": [
          2177.138165577144,
          2178.245124623509
         ],
         "yaxis": "y"
        },
        {
         "hovertemplate": "timestamp=2024-09-20 06:54:11+00:00<br>index=%{x}<br>value=%{y}<extra></extra>",
         "legendgroup": "2024-09-20 06:54:11+00:00",
         "line": {
          "color": "#FFA15A",
          "dash": "solid"
         },
         "marker": {
          "symbol": "circle"
         },
         "mode": "lines",
         "name": "2024-09-20 06:54:11+00:00",
         "orientation": "v",
         "showlegend": true,
         "type": "scatter",
         "x": [
          0,
          1
         ],
         "xaxis": "x",
         "y": [
          2172.6374284753742,
          2173.828181060328
         ],
         "yaxis": "y"
        },
        {
         "hovertemplate": "timestamp=2024-09-20 10:35:11+00:00<br>index=%{x}<br>value=%{y}<extra></extra>",
         "legendgroup": "2024-09-20 10:35:11+00:00",
         "line": {
          "color": "#19d3f3",
          "dash": "solid"
         },
         "marker": {
          "symbol": "circle"
         },
         "mode": "lines",
         "name": "2024-09-20 10:35:11+00:00",
         "orientation": "v",
         "showlegend": true,
         "type": "scatter",
         "x": [
          0,
          1
         ],
         "xaxis": "x",
         "y": [
          2254.161577957593,
          2255.355483590439
         ],
         "yaxis": "y"
        },
        {
         "hovertemplate": "timestamp=2024-09-20 14:14:59+00:00<br>index=%{x}<br>value=%{y}<extra></extra>",
         "legendgroup": "2024-09-20 14:14:59+00:00",
         "line": {
          "color": "#FF6692",
          "dash": "solid"
         },
         "marker": {
          "symbol": "circle"
         },
         "mode": "lines",
         "name": "2024-09-20 14:14:59+00:00",
         "orientation": "v",
         "showlegend": true,
         "type": "scatter",
         "x": [
          0,
          1
         ],
         "xaxis": "x",
         "y": [
          2255.412622647524,
          2256.62603358809
         ],
         "yaxis": "y"
        },
        {
         "hovertemplate": "timestamp=2024-09-20 17:54:59+00:00<br>index=%{x}<br>value=%{y}<extra></extra>",
         "legendgroup": "2024-09-20 17:54:59+00:00",
         "line": {
          "color": "#B6E880",
          "dash": "solid"
         },
         "marker": {
          "symbol": "circle"
         },
         "mode": "lines",
         "name": "2024-09-20 17:54:59+00:00",
         "orientation": "v",
         "showlegend": true,
         "type": "scatter",
         "x": [
          0,
          1
         ],
         "xaxis": "x",
         "y": [
          2421.9751501876267,
          2423.2573115873847
         ],
         "yaxis": "y"
        },
        {
         "hovertemplate": "timestamp=2024-09-20 21:35:23+00:00<br>index=%{x}<br>value=%{y}<extra></extra>",
         "legendgroup": "2024-09-20 21:35:23+00:00",
         "line": {
          "color": "#FF97FF",
          "dash": "solid"
         },
         "marker": {
          "symbol": "circle"
         },
         "mode": "lines",
         "name": "2024-09-20 21:35:23+00:00",
         "orientation": "v",
         "showlegend": true,
         "type": "scatter",
         "x": [
          0,
          1
         ],
         "xaxis": "x",
         "y": [
          2424.405147757552,
          2425.665568072571
         ],
         "yaxis": "y"
        },
        {
         "hovertemplate": "timestamp=2024-09-21 01:16:23+00:00<br>index=%{x}<br>value=%{y}<extra></extra>",
         "legendgroup": "2024-09-21 01:16:23+00:00",
         "line": {
          "color": "#FECB52",
          "dash": "solid"
         },
         "marker": {
          "symbol": "circle"
         },
         "mode": "lines",
         "name": "2024-09-21 01:16:23+00:00",
         "orientation": "v",
         "showlegend": true,
         "type": "scatter",
         "x": [
          0,
          1
         ],
         "xaxis": "x",
         "y": [
          2257.7485301599772,
          2259.010079769235
         ],
         "yaxis": "y"
        },
        {
         "hovertemplate": "timestamp=2024-09-21 04:56:23+00:00<br>index=%{x}<br>value=%{y}<extra></extra>",
         "legendgroup": "2024-09-21 04:56:23+00:00",
         "line": {
          "color": "#636efa",
          "dash": "solid"
         },
         "marker": {
          "symbol": "circle"
         },
         "mode": "lines",
         "name": "2024-09-21 04:56:23+00:00",
         "orientation": "v",
         "showlegend": true,
         "type": "scatter",
         "x": [
          0,
          1
         ],
         "xaxis": "x",
         "y": [
          2303.9976336605955,
          2305.3277168743116
         ],
         "yaxis": "y"
        },
        {
         "hovertemplate": "timestamp=2024-09-21 08:38:11+00:00<br>index=%{x}<br>value=%{y}<extra></extra>",
         "legendgroup": "2024-09-21 08:38:11+00:00",
         "line": {
          "color": "#EF553B",
          "dash": "solid"
         },
         "marker": {
          "symbol": "circle"
         },
         "mode": "lines",
         "name": "2024-09-21 08:38:11+00:00",
         "orientation": "v",
         "showlegend": true,
         "type": "scatter",
         "x": [
          0,
          1
         ],
         "xaxis": "x",
         "y": [
          2282.603877629924,
          2283.9135652248474
         ],
         "yaxis": "y"
        },
        {
         "hovertemplate": "timestamp=2024-09-21 12:18:11+00:00<br>index=%{x}<br>value=%{y}<extra></extra>",
         "legendgroup": "2024-09-21 12:18:11+00:00",
         "line": {
          "color": "#00cc96",
          "dash": "solid"
         },
         "marker": {
          "symbol": "circle"
         },
         "mode": "lines",
         "name": "2024-09-21 12:18:11+00:00",
         "orientation": "v",
         "showlegend": true,
         "type": "scatter",
         "x": [
          0,
          1
         ],
         "xaxis": "x",
         "y": [
          2362.776320548181,
          2364.0538115579257
         ],
         "yaxis": "y"
        },
        {
         "hovertemplate": "timestamp=2024-09-21 15:58:11+00:00<br>index=%{x}<br>value=%{y}<extra></extra>",
         "legendgroup": "2024-09-21 15:58:11+00:00",
         "line": {
          "color": "#ab63fa",
          "dash": "solid"
         },
         "marker": {
          "symbol": "circle"
         },
         "mode": "lines",
         "name": "2024-09-21 15:58:11+00:00",
         "orientation": "v",
         "showlegend": true,
         "type": "scatter",
         "x": [
          0,
          1
         ],
         "xaxis": "x",
         "y": [
          2363.714485642136,
          2365.0198778665267
         ],
         "yaxis": "y"
        },
        {
         "hovertemplate": "timestamp=2024-09-21 19:38:11+00:00<br>index=%{x}<br>value=%{y}<extra></extra>",
         "legendgroup": "2024-09-21 19:38:11+00:00",
         "line": {
          "color": "#FFA15A",
          "dash": "solid"
         },
         "marker": {
          "symbol": "circle"
         },
         "mode": "lines",
         "name": "2024-09-21 19:38:11+00:00",
         "orientation": "v",
         "showlegend": true,
         "type": "scatter",
         "x": [
          0,
          1
         ],
         "xaxis": "x",
         "y": [
          2363.7060439297943,
          2365.0185013039463
         ],
         "yaxis": "y"
        },
        {
         "hovertemplate": "timestamp=2024-09-21 23:19:11+00:00<br>index=%{x}<br>value=%{y}<extra></extra>",
         "legendgroup": "2024-09-21 23:19:11+00:00",
         "line": {
          "color": "#19d3f3",
          "dash": "solid"
         },
         "marker": {
          "symbol": "circle"
         },
         "mode": "lines",
         "name": "2024-09-21 23:19:11+00:00",
         "orientation": "v",
         "showlegend": true,
         "type": "scatter",
         "x": [
          0,
          1
         ],
         "xaxis": "x",
         "y": [
          2378.6643035333127,
          2380.019417577568
         ],
         "yaxis": "y"
        },
        {
         "hovertemplate": "timestamp=2024-09-22 02:58:47+00:00<br>index=%{x}<br>value=%{y}<extra></extra>",
         "legendgroup": "2024-09-22 02:58:47+00:00",
         "line": {
          "color": "#FF6692",
          "dash": "solid"
         },
         "marker": {
          "symbol": "circle"
         },
         "mode": "lines",
         "name": "2024-09-22 02:58:47+00:00",
         "orientation": "v",
         "showlegend": true,
         "type": "scatter",
         "x": [
          0,
          1
         ],
         "xaxis": "x",
         "y": [
          2378.619319728143,
          2379.9767718872813
         ],
         "yaxis": "y"
        },
        {
         "hovertemplate": "timestamp=2024-09-22 06:38:35+00:00<br>index=%{x}<br>value=%{y}<extra></extra>",
         "legendgroup": "2024-09-22 06:38:35+00:00",
         "line": {
          "color": "#B6E880",
          "dash": "solid"
         },
         "marker": {
          "symbol": "circle"
         },
         "mode": "lines",
         "name": "2024-09-22 06:38:35+00:00",
         "orientation": "v",
         "showlegend": true,
         "type": "scatter",
         "x": [
          0,
          1
         ],
         "xaxis": "x",
         "y": [
          2391.2889098819173,
          2392.693644300554
         ],
         "yaxis": "y"
        },
        {
         "hovertemplate": "timestamp=2024-09-22 10:18:23+00:00<br>index=%{x}<br>value=%{y}<extra></extra>",
         "legendgroup": "2024-09-22 10:18:23+00:00",
         "line": {
          "color": "#FF97FF",
          "dash": "solid"
         },
         "marker": {
          "symbol": "circle"
         },
         "mode": "lines",
         "name": "2024-09-22 10:18:23+00:00",
         "orientation": "v",
         "showlegend": true,
         "type": "scatter",
         "x": [
          0,
          1
         ],
         "xaxis": "x",
         "y": [
          2415.7501185522,
          2417.084090850106
         ],
         "yaxis": "y"
        },
        {
         "hovertemplate": "timestamp=2024-09-22 13:58:11+00:00<br>index=%{x}<br>value=%{y}<extra></extra>",
         "legendgroup": "2024-09-22 13:58:11+00:00",
         "line": {
          "color": "#FECB52",
          "dash": "solid"
         },
         "marker": {
          "symbol": "circle"
         },
         "mode": "lines",
         "name": "2024-09-22 13:58:11+00:00",
         "orientation": "v",
         "showlegend": true,
         "type": "scatter",
         "x": [
          0,
          1
         ],
         "xaxis": "x",
         "y": [
          2428.614907877051,
          2429.98594544346
         ],
         "yaxis": "y"
        },
        {
         "hovertemplate": "timestamp=2024-09-22 17:37:59+00:00<br>index=%{x}<br>value=%{y}<extra></extra>",
         "legendgroup": "2024-09-22 17:37:59+00:00",
         "line": {
          "color": "#636efa",
          "dash": "solid"
         },
         "marker": {
          "symbol": "circle"
         },
         "mode": "lines",
         "name": "2024-09-22 17:37:59+00:00",
         "orientation": "v",
         "showlegend": true,
         "type": "scatter",
         "x": [
          0,
          1
         ],
         "xaxis": "x",
         "y": [
          2450.121335902349,
          2451.502205300175
         ],
         "yaxis": "y"
        },
        {
         "hovertemplate": "timestamp=2024-09-22 21:18:11+00:00<br>index=%{x}<br>value=%{y}<extra></extra>",
         "legendgroup": "2024-09-22 21:18:11+00:00",
         "line": {
          "color": "#EF553B",
          "dash": "solid"
         },
         "marker": {
          "symbol": "circle"
         },
         "mode": "lines",
         "name": "2024-09-22 21:18:11+00:00",
         "orientation": "v",
         "showlegend": true,
         "type": "scatter",
         "x": [
          0,
          1
         ],
         "xaxis": "x",
         "y": [
          2450.1380229850442,
          2451.512113209513
         ],
         "yaxis": "y"
        },
        {
         "hovertemplate": "timestamp=2024-09-23 00:57:47+00:00<br>index=%{x}<br>value=%{y}<extra></extra>",
         "legendgroup": "2024-09-23 00:57:47+00:00",
         "line": {
          "color": "#00cc96",
          "dash": "solid"
         },
         "marker": {
          "symbol": "circle"
         },
         "mode": "lines",
         "name": "2024-09-23 00:57:47+00:00",
         "orientation": "v",
         "showlegend": true,
         "type": "scatter",
         "x": [
          0,
          1
         ],
         "xaxis": "x",
         "y": [
          2450.111872509413,
          2451.4830077719384
         ],
         "yaxis": "y"
        },
        {
         "hovertemplate": "timestamp=2024-09-23 04:37:23+00:00<br>index=%{x}<br>value=%{y}<extra></extra>",
         "legendgroup": "2024-09-23 04:37:23+00:00",
         "line": {
          "color": "#ab63fa",
          "dash": "solid"
         },
         "marker": {
          "symbol": "circle"
         },
         "mode": "lines",
         "name": "2024-09-23 04:37:23+00:00",
         "orientation": "v",
         "showlegend": true,
         "type": "scatter",
         "x": [
          0,
          1
         ],
         "xaxis": "x",
         "y": [
          2450.1047477319025,
          2451.5010825236773
         ],
         "yaxis": "y"
        },
        {
         "hovertemplate": "timestamp=2024-09-23 08:17:35+00:00<br>index=%{x}<br>value=%{y}<extra></extra>",
         "legendgroup": "2024-09-23 08:17:35+00:00",
         "line": {
          "color": "#FFA15A",
          "dash": "solid"
         },
         "marker": {
          "symbol": "circle"
         },
         "mode": "lines",
         "name": "2024-09-23 08:17:35+00:00",
         "orientation": "v",
         "showlegend": true,
         "type": "scatter",
         "x": [
          0,
          1
         ],
         "xaxis": "x",
         "y": [
          2452.7054380950945,
          2454.10110579498
         ],
         "yaxis": "y"
        },
        {
         "hovertemplate": "timestamp=2024-09-23 11:58:59+00:00<br>index=%{x}<br>value=%{y}<extra></extra>",
         "legendgroup": "2024-09-23 11:58:59+00:00",
         "line": {
          "color": "#19d3f3",
          "dash": "solid"
         },
         "marker": {
          "symbol": "circle"
         },
         "mode": "lines",
         "name": "2024-09-23 11:58:59+00:00",
         "orientation": "v",
         "showlegend": true,
         "type": "scatter",
         "x": [
          0,
          1
         ],
         "xaxis": "x",
         "y": [
          2268.203937850822,
          2269.6795252644783
         ],
         "yaxis": "y"
        },
        {
         "hovertemplate": "timestamp=2024-09-23 15:38:59+00:00<br>index=%{x}<br>value=%{y}<extra></extra>",
         "legendgroup": "2024-09-23 15:38:59+00:00",
         "line": {
          "color": "#FF6692",
          "dash": "solid"
         },
         "marker": {
          "symbol": "circle"
         },
         "mode": "lines",
         "name": "2024-09-23 15:38:59+00:00",
         "orientation": "v",
         "showlegend": true,
         "type": "scatter",
         "x": [
          0,
          1
         ],
         "xaxis": "x",
         "y": [
          2485.4145532145358,
          2486.882321956853
         ],
         "yaxis": "y"
        },
        {
         "hovertemplate": "timestamp=2024-09-23 19:18:59+00:00<br>index=%{x}<br>value=%{y}<extra></extra>",
         "legendgroup": "2024-09-23 19:18:59+00:00",
         "line": {
          "color": "#B6E880",
          "dash": "solid"
         },
         "marker": {
          "symbol": "circle"
         },
         "mode": "lines",
         "name": "2024-09-23 19:18:59+00:00",
         "orientation": "v",
         "showlegend": true,
         "type": "scatter",
         "x": [
          0,
          1
         ],
         "xaxis": "x",
         "y": [
          2497.686619215645,
          2499.1678849482423
         ],
         "yaxis": "y"
        },
        {
         "hovertemplate": "timestamp=2024-09-23 22:58:59+00:00<br>index=%{x}<br>value=%{y}<extra></extra>",
         "legendgroup": "2024-09-23 22:58:59+00:00",
         "line": {
          "color": "#FF97FF",
          "dash": "solid"
         },
         "marker": {
          "symbol": "circle"
         },
         "mode": "lines",
         "name": "2024-09-23 22:58:59+00:00",
         "orientation": "v",
         "showlegend": true,
         "type": "scatter",
         "x": [
          0,
          1
         ],
         "xaxis": "x",
         "y": [
          2707.2874980651827,
          2708.758842248762
         ],
         "yaxis": "y"
        },
        {
         "hovertemplate": "timestamp=2024-09-24 02:38:47+00:00<br>index=%{x}<br>value=%{y}<extra></extra>",
         "legendgroup": "2024-09-24 02:38:47+00:00",
         "line": {
          "color": "#FECB52",
          "dash": "solid"
         },
         "marker": {
          "symbol": "circle"
         },
         "mode": "lines",
         "name": "2024-09-24 02:38:47+00:00",
         "orientation": "v",
         "showlegend": true,
         "type": "scatter",
         "x": [
          0,
          1
         ],
         "xaxis": "x",
         "y": [
          2774.2812326968997,
          2775.7571298127987
         ],
         "yaxis": "y"
        },
        {
         "hovertemplate": "timestamp=2024-09-24 06:18:23+00:00<br>index=%{x}<br>value=%{y}<extra></extra>",
         "legendgroup": "2024-09-24 06:18:23+00:00",
         "line": {
          "color": "#636efa",
          "dash": "solid"
         },
         "marker": {
          "symbol": "circle"
         },
         "mode": "lines",
         "name": "2024-09-24 06:18:23+00:00",
         "orientation": "v",
         "showlegend": true,
         "type": "scatter",
         "x": [
          0,
          1
         ],
         "xaxis": "x",
         "y": [
          2781.530948051479,
          2783.111437045437
         ],
         "yaxis": "y"
        },
        {
         "hovertemplate": "timestamp=2024-09-24 09:57:47+00:00<br>index=%{x}<br>value=%{y}<extra></extra>",
         "legendgroup": "2024-09-24 09:57:47+00:00",
         "line": {
          "color": "#EF553B",
          "dash": "solid"
         },
         "marker": {
          "symbol": "circle"
         },
         "mode": "lines",
         "name": "2024-09-24 09:57:47+00:00",
         "orientation": "v",
         "showlegend": true,
         "type": "scatter",
         "x": [
          0,
          1
         ],
         "xaxis": "x",
         "y": [
          2781.587596589993,
          2783.233049997194
         ],
         "yaxis": "y"
        },
        {
         "hovertemplate": "timestamp=2024-09-24 13:37:23+00:00<br>index=%{x}<br>value=%{y}<extra></extra>",
         "legendgroup": "2024-09-24 13:37:23+00:00",
         "line": {
          "color": "#00cc96",
          "dash": "solid"
         },
         "marker": {
          "symbol": "circle"
         },
         "mode": "lines",
         "name": "2024-09-24 13:37:23+00:00",
         "orientation": "v",
         "showlegend": true,
         "type": "scatter",
         "x": [
          0,
          1
         ],
         "xaxis": "x",
         "y": [
          2799.388715864837,
          2801.026285386025
         ],
         "yaxis": "y"
        },
        {
         "hovertemplate": "timestamp=2024-09-24 17:17:47+00:00<br>index=%{x}<br>value=%{y}<extra></extra>",
         "legendgroup": "2024-09-24 17:17:47+00:00",
         "line": {
          "color": "#ab63fa",
          "dash": "solid"
         },
         "marker": {
          "symbol": "circle"
         },
         "mode": "lines",
         "name": "2024-09-24 17:17:47+00:00",
         "orientation": "v",
         "showlegend": true,
         "type": "scatter",
         "x": [
          0,
          1
         ],
         "xaxis": "x",
         "y": [
          2799.507519073039,
          2801.146574115637
         ],
         "yaxis": "y"
        },
        {
         "hovertemplate": "timestamp=2024-09-24 20:57:11+00:00<br>index=%{x}<br>value=%{y}<extra></extra>",
         "legendgroup": "2024-09-24 20:57:11+00:00",
         "line": {
          "color": "#FFA15A",
          "dash": "solid"
         },
         "marker": {
          "symbol": "circle"
         },
         "mode": "lines",
         "name": "2024-09-24 20:57:11+00:00",
         "orientation": "v",
         "showlegend": true,
         "type": "scatter",
         "x": [
          0,
          1
         ],
         "xaxis": "x",
         "y": [
          2799.4804448266873,
          2801.1258839367374
         ],
         "yaxis": "y"
        },
        {
         "hovertemplate": "timestamp=2024-09-25 00:36:59+00:00<br>index=%{x}<br>value=%{y}<extra></extra>",
         "legendgroup": "2024-09-25 00:36:59+00:00",
         "line": {
          "color": "#19d3f3",
          "dash": "solid"
         },
         "marker": {
          "symbol": "circle"
         },
         "mode": "lines",
         "name": "2024-09-25 00:36:59+00:00",
         "orientation": "v",
         "showlegend": true,
         "type": "scatter",
         "x": [
          0,
          1
         ],
         "xaxis": "x",
         "y": [
          2799.469387640014,
          2801.1275379116114
         ],
         "yaxis": "y"
        },
        {
         "hovertemplate": "timestamp=2024-09-25 04:17:23+00:00<br>index=%{x}<br>value=%{y}<extra></extra>",
         "legendgroup": "2024-09-25 04:17:23+00:00",
         "line": {
          "color": "#FF6692",
          "dash": "solid"
         },
         "marker": {
          "symbol": "circle"
         },
         "mode": "lines",
         "name": "2024-09-25 04:17:23+00:00",
         "orientation": "v",
         "showlegend": true,
         "type": "scatter",
         "x": [
          0,
          1
         ],
         "xaxis": "x",
         "y": [
          2800.6726746228323,
          2802.2997945882908
         ],
         "yaxis": "y"
        },
        {
         "hovertemplate": "timestamp=2024-09-25 07:57:11+00:00<br>index=%{x}<br>value=%{y}<extra></extra>",
         "legendgroup": "2024-09-25 07:57:11+00:00",
         "line": {
          "color": "#B6E880",
          "dash": "solid"
         },
         "marker": {
          "symbol": "circle"
         },
         "mode": "lines",
         "name": "2024-09-25 07:57:11+00:00",
         "orientation": "v",
         "showlegend": true,
         "type": "scatter",
         "x": [
          0,
          1
         ],
         "xaxis": "x",
         "y": [
          2800.6663897398753,
          2802.325035221288
         ],
         "yaxis": "y"
        },
        {
         "hovertemplate": "timestamp=2024-09-25 11:37:35+00:00<br>index=%{x}<br>value=%{y}<extra></extra>",
         "legendgroup": "2024-09-25 11:37:35+00:00",
         "line": {
          "color": "#FF97FF",
          "dash": "solid"
         },
         "marker": {
          "symbol": "circle"
         },
         "mode": "lines",
         "name": "2024-09-25 11:37:35+00:00",
         "orientation": "v",
         "showlegend": true,
         "type": "scatter",
         "x": [
          0,
          1
         ],
         "xaxis": "x",
         "y": [
          2800.037654092397,
          2802.1933802881954
         ],
         "yaxis": "y"
        },
        {
         "hovertemplate": "timestamp=2024-09-25 15:18:35+00:00<br>index=%{x}<br>value=%{y}<extra></extra>",
         "legendgroup": "2024-09-25 15:18:35+00:00",
         "line": {
          "color": "#FECB52",
          "dash": "solid"
         },
         "marker": {
          "symbol": "circle"
         },
         "mode": "lines",
         "name": "2024-09-25 15:18:35+00:00",
         "orientation": "v",
         "showlegend": true,
         "type": "scatter",
         "x": [
          0,
          1
         ],
         "xaxis": "x",
         "y": [
          2800.257080206631,
          2802.3843271204883
         ],
         "yaxis": "y"
        },
        {
         "hovertemplate": "timestamp=2024-09-25 18:59:35+00:00<br>index=%{x}<br>value=%{y}<extra></extra>",
         "legendgroup": "2024-09-25 18:59:35+00:00",
         "line": {
          "color": "#636efa",
          "dash": "solid"
         },
         "marker": {
          "symbol": "circle"
         },
         "mode": "lines",
         "name": "2024-09-25 18:59:35+00:00",
         "orientation": "v",
         "showlegend": true,
         "type": "scatter",
         "x": [
          0,
          1
         ],
         "xaxis": "x",
         "y": [
          2804.748813025879,
          2806.8906685973056
         ],
         "yaxis": "y"
        },
        {
         "hovertemplate": "timestamp=2024-09-25 22:38:47+00:00<br>index=%{x}<br>value=%{y}<extra></extra>",
         "legendgroup": "2024-09-25 22:38:47+00:00",
         "line": {
          "color": "#EF553B",
          "dash": "solid"
         },
         "marker": {
          "symbol": "circle"
         },
         "mode": "lines",
         "name": "2024-09-25 22:38:47+00:00",
         "orientation": "v",
         "showlegend": true,
         "type": "scatter",
         "x": [
          0,
          1
         ],
         "xaxis": "x",
         "y": [
          2804.7455074223326,
          2806.8897134507083
         ],
         "yaxis": "y"
        },
        {
         "hovertemplate": "timestamp=2024-09-26 02:18:35+00:00<br>index=%{x}<br>value=%{y}<extra></extra>",
         "legendgroup": "2024-09-26 02:18:35+00:00",
         "line": {
          "color": "#00cc96",
          "dash": "solid"
         },
         "marker": {
          "symbol": "circle"
         },
         "mode": "lines",
         "name": "2024-09-26 02:18:35+00:00",
         "orientation": "v",
         "showlegend": true,
         "type": "scatter",
         "x": [
          0,
          1
         ],
         "xaxis": "x",
         "y": [
          2841.250199299068,
          2843.408869448964
         ],
         "yaxis": "y"
        },
        {
         "hovertemplate": "timestamp=2024-09-26 05:58:23+00:00<br>index=%{x}<br>value=%{y}<extra></extra>",
         "legendgroup": "2024-09-26 05:58:23+00:00",
         "line": {
          "color": "#ab63fa",
          "dash": "solid"
         },
         "marker": {
          "symbol": "circle"
         },
         "mode": "lines",
         "name": "2024-09-26 05:58:23+00:00",
         "orientation": "v",
         "showlegend": true,
         "type": "scatter",
         "x": [
          0,
          1
         ],
         "xaxis": "x",
         "y": [
          3143.140985193976,
          3145.321218110269
         ],
         "yaxis": "y"
        },
        {
         "hovertemplate": "timestamp=2024-09-26 09:37:59+00:00<br>index=%{x}<br>value=%{y}<extra></extra>",
         "legendgroup": "2024-09-26 09:37:59+00:00",
         "line": {
          "color": "#FFA15A",
          "dash": "solid"
         },
         "marker": {
          "symbol": "circle"
         },
         "mode": "lines",
         "name": "2024-09-26 09:37:59+00:00",
         "orientation": "v",
         "showlegend": true,
         "type": "scatter",
         "x": [
          0,
          1
         ],
         "xaxis": "x",
         "y": [
          3208.694863979828,
          3211.208534842784
         ],
         "yaxis": "y"
        },
        {
         "hovertemplate": "timestamp=2024-09-26 13:17:35+00:00<br>index=%{x}<br>value=%{y}<extra></extra>",
         "legendgroup": "2024-09-26 13:17:35+00:00",
         "line": {
          "color": "#19d3f3",
          "dash": "solid"
         },
         "marker": {
          "symbol": "circle"
         },
         "mode": "lines",
         "name": "2024-09-26 13:17:35+00:00",
         "orientation": "v",
         "showlegend": true,
         "type": "scatter",
         "x": [
          0,
          1
         ],
         "xaxis": "x",
         "y": [
          3325.0055583891894,
          3327.764511585497
         ],
         "yaxis": "y"
        },
        {
         "hovertemplate": "timestamp=2024-09-26 16:56:59+00:00<br>index=%{x}<br>value=%{y}<extra></extra>",
         "legendgroup": "2024-09-26 16:56:59+00:00",
         "line": {
          "color": "#FF6692",
          "dash": "solid"
         },
         "marker": {
          "symbol": "circle"
         },
         "mode": "lines",
         "name": "2024-09-26 16:56:59+00:00",
         "orientation": "v",
         "showlegend": true,
         "type": "scatter",
         "x": [
          0,
          1
         ],
         "xaxis": "x",
         "y": [
          3324.9884631075633,
          3327.777320287889
         ],
         "yaxis": "y"
        },
        {
         "hovertemplate": "timestamp=2024-09-26 20:36:59+00:00<br>index=%{x}<br>value=%{y}<extra></extra>",
         "legendgroup": "2024-09-26 20:36:59+00:00",
         "line": {
          "color": "#B6E880",
          "dash": "solid"
         },
         "marker": {
          "symbol": "circle"
         },
         "mode": "lines",
         "name": "2024-09-26 20:36:59+00:00",
         "orientation": "v",
         "showlegend": true,
         "type": "scatter",
         "x": [
          0,
          1
         ],
         "xaxis": "x",
         "y": [
          3334.9529156353105,
          3337.786775019494
         ],
         "yaxis": "y"
        },
        {
         "hovertemplate": "timestamp=2024-09-27 00:17:47+00:00<br>index=%{x}<br>value=%{y}<extra></extra>",
         "legendgroup": "2024-09-27 00:17:47+00:00",
         "line": {
          "color": "#FF97FF",
          "dash": "solid"
         },
         "marker": {
          "symbol": "circle"
         },
         "mode": "lines",
         "name": "2024-09-27 00:17:47+00:00",
         "orientation": "v",
         "showlegend": true,
         "type": "scatter",
         "x": [
          0,
          1
         ],
         "xaxis": "x",
         "y": [
          3338.0325880054324,
          3340.9372408921804
         ],
         "yaxis": "y"
        },
        {
         "hovertemplate": "timestamp=2024-09-27 03:57:35+00:00<br>index=%{x}<br>value=%{y}<extra></extra>",
         "legendgroup": "2024-09-27 03:57:35+00:00",
         "line": {
          "color": "#FECB52",
          "dash": "solid"
         },
         "marker": {
          "symbol": "circle"
         },
         "mode": "lines",
         "name": "2024-09-27 03:57:35+00:00",
         "orientation": "v",
         "showlegend": true,
         "type": "scatter",
         "x": [
          0,
          1
         ],
         "xaxis": "x",
         "y": [
          3338.010496769353,
          3340.927781427275
         ],
         "yaxis": "y"
        },
        {
         "hovertemplate": "timestamp=2024-09-27 07:37:11+00:00<br>index=%{x}<br>value=%{y}<extra></extra>",
         "legendgroup": "2024-09-27 07:37:11+00:00",
         "line": {
          "color": "#636efa",
          "dash": "solid"
         },
         "marker": {
          "symbol": "circle"
         },
         "mode": "lines",
         "name": "2024-09-27 07:37:11+00:00",
         "orientation": "v",
         "showlegend": true,
         "type": "scatter",
         "x": [
          0,
          1
         ],
         "xaxis": "x",
         "y": [
          3337.9798938198837,
          3341.145246053763
         ],
         "yaxis": "y"
        },
        {
         "hovertemplate": "timestamp=2024-09-27 11:16:59+00:00<br>index=%{x}<br>value=%{y}<extra></extra>",
         "legendgroup": "2024-09-27 11:16:59+00:00",
         "line": {
          "color": "#EF553B",
          "dash": "solid"
         },
         "marker": {
          "symbol": "circle"
         },
         "mode": "lines",
         "name": "2024-09-27 11:16:59+00:00",
         "orientation": "v",
         "showlegend": true,
         "type": "scatter",
         "x": [
          0,
          1
         ],
         "xaxis": "x",
         "y": [
          3378.3699527418744,
          3381.252904905681
         ],
         "yaxis": "y"
        },
        {
         "hovertemplate": "timestamp=2024-09-27 14:56:47+00:00<br>index=%{x}<br>value=%{y}<extra></extra>",
         "legendgroup": "2024-09-27 14:56:47+00:00",
         "line": {
          "color": "#00cc96",
          "dash": "solid"
         },
         "marker": {
          "symbol": "circle"
         },
         "mode": "lines",
         "name": "2024-09-27 14:56:47+00:00",
         "orientation": "v",
         "showlegend": true,
         "type": "scatter",
         "x": [
          0,
          1
         ],
         "xaxis": "x",
         "y": [
          3192.5162299973326,
          3195.413418733898
         ],
         "yaxis": "y"
        },
        {
         "hovertemplate": "timestamp=2024-09-27 18:36:47+00:00<br>index=%{x}<br>value=%{y}<extra></extra>",
         "legendgroup": "2024-09-27 18:36:47+00:00",
         "line": {
          "color": "#ab63fa",
          "dash": "solid"
         },
         "marker": {
          "symbol": "circle"
         },
         "mode": "lines",
         "name": "2024-09-27 18:36:47+00:00",
         "orientation": "v",
         "showlegend": true,
         "type": "scatter",
         "x": [
          0,
          1
         ],
         "xaxis": "x",
         "y": [
          3293.4359068203285,
          3296.354917344403
         ],
         "yaxis": "y"
        },
        {
         "hovertemplate": "timestamp=2024-09-27 22:16:11+00:00<br>index=%{x}<br>value=%{y}<extra></extra>",
         "legendgroup": "2024-09-27 22:16:11+00:00",
         "line": {
          "color": "#FFA15A",
          "dash": "solid"
         },
         "marker": {
          "symbol": "circle"
         },
         "mode": "lines",
         "name": "2024-09-27 22:16:11+00:00",
         "orientation": "v",
         "showlegend": true,
         "type": "scatter",
         "x": [
          0,
          1
         ],
         "xaxis": "x",
         "y": [
          3511.9261414336434,
          3515.136632257799
         ],
         "yaxis": "y"
        },
        {
         "hovertemplate": "timestamp=2024-09-28 01:55:59+00:00<br>index=%{x}<br>value=%{y}<extra></extra>",
         "legendgroup": "2024-09-28 01:55:59+00:00",
         "line": {
          "color": "#19d3f3",
          "dash": "solid"
         },
         "marker": {
          "symbol": "circle"
         },
         "mode": "lines",
         "name": "2024-09-28 01:55:59+00:00",
         "orientation": "v",
         "showlegend": true,
         "type": "scatter",
         "x": [
          0,
          1
         ],
         "xaxis": "x",
         "y": [
          3511.906313530311,
          3515.0836429511874
         ],
         "yaxis": "y"
        },
        {
         "hovertemplate": "timestamp=2024-09-28 05:36:23+00:00<br>index=%{x}<br>value=%{y}<extra></extra>",
         "legendgroup": "2024-09-28 05:36:23+00:00",
         "line": {
          "color": "#FF6692",
          "dash": "solid"
         },
         "marker": {
          "symbol": "circle"
         },
         "mode": "lines",
         "name": "2024-09-28 05:36:23+00:00",
         "orientation": "v",
         "showlegend": true,
         "type": "scatter",
         "x": [
          0,
          1
         ],
         "xaxis": "x",
         "y": [
          3511.888609248206,
          3515.0808510603765
         ],
         "yaxis": "y"
        },
        {
         "hovertemplate": "timestamp=2024-09-28 09:15:59+00:00<br>index=%{x}<br>value=%{y}<extra></extra>",
         "legendgroup": "2024-09-28 09:15:59+00:00",
         "line": {
          "color": "#B6E880",
          "dash": "solid"
         },
         "marker": {
          "symbol": "circle"
         },
         "mode": "lines",
         "name": "2024-09-28 09:15:59+00:00",
         "orientation": "v",
         "showlegend": true,
         "type": "scatter",
         "x": [
          0,
          1
         ],
         "xaxis": "x",
         "y": [
          3511.432130824344,
          3515.028815109753
         ],
         "yaxis": "y"
        },
        {
         "hovertemplate": "timestamp=2024-09-28 12:55:47+00:00<br>index=%{x}<br>value=%{y}<extra></extra>",
         "legendgroup": "2024-09-28 12:55:47+00:00",
         "line": {
          "color": "#FF97FF",
          "dash": "solid"
         },
         "marker": {
          "symbol": "circle"
         },
         "mode": "lines",
         "name": "2024-09-28 12:55:47+00:00",
         "orientation": "v",
         "showlegend": true,
         "type": "scatter",
         "x": [
          0,
          1
         ],
         "xaxis": "x",
         "y": [
          3511.93673877429,
          3515.5362613616408
         ],
         "yaxis": "y"
        },
        {
         "hovertemplate": "timestamp=2024-09-28 16:35:23+00:00<br>index=%{x}<br>value=%{y}<extra></extra>",
         "legendgroup": "2024-09-28 16:35:23+00:00",
         "line": {
          "color": "#FECB52",
          "dash": "solid"
         },
         "marker": {
          "symbol": "circle"
         },
         "mode": "lines",
         "name": "2024-09-28 16:35:23+00:00",
         "orientation": "v",
         "showlegend": true,
         "type": "scatter",
         "x": [
          0,
          1
         ],
         "xaxis": "x",
         "y": [
          3551.8155210159475,
          3555.440689587751
         ],
         "yaxis": "y"
        },
        {
         "hovertemplate": "timestamp=2024-09-28 20:15:47+00:00<br>index=%{x}<br>value=%{y}<extra></extra>",
         "legendgroup": "2024-09-28 20:15:47+00:00",
         "line": {
          "color": "#636efa",
          "dash": "solid"
         },
         "marker": {
          "symbol": "circle"
         },
         "mode": "lines",
         "name": "2024-09-28 20:15:47+00:00",
         "orientation": "v",
         "showlegend": true,
         "type": "scatter",
         "x": [
          0,
          1
         ],
         "xaxis": "x",
         "y": [
          3647.9100945845234,
          3651.5754679617726
         ],
         "yaxis": "y"
        },
        {
         "hovertemplate": "timestamp=2024-09-28 23:56:35+00:00<br>index=%{x}<br>value=%{y}<extra></extra>",
         "legendgroup": "2024-09-28 23:56:35+00:00",
         "line": {
          "color": "#EF553B",
          "dash": "solid"
         },
         "marker": {
          "symbol": "circle"
         },
         "mode": "lines",
         "name": "2024-09-28 23:56:35+00:00",
         "orientation": "v",
         "showlegend": true,
         "type": "scatter",
         "x": [
          0,
          1
         ],
         "xaxis": "x",
         "y": [
          3648.082469786499,
          3651.779288035893
         ],
         "yaxis": "y"
        },
        {
         "hovertemplate": "timestamp=2024-09-29 03:36:47+00:00<br>index=%{x}<br>value=%{y}<extra></extra>",
         "legendgroup": "2024-09-29 03:36:47+00:00",
         "line": {
          "color": "#00cc96",
          "dash": "solid"
         },
         "marker": {
          "symbol": "circle"
         },
         "mode": "lines",
         "name": "2024-09-29 03:36:47+00:00",
         "orientation": "v",
         "showlegend": true,
         "type": "scatter",
         "x": [
          0,
          1
         ],
         "xaxis": "x",
         "y": [
          3648.1467219018377,
          3651.917727734865
         ],
         "yaxis": "y"
        },
        {
         "hovertemplate": "timestamp=2024-09-29 07:17:11+00:00<br>index=%{x}<br>value=%{y}<extra></extra>",
         "legendgroup": "2024-09-29 07:17:11+00:00",
         "line": {
          "color": "#ab63fa",
          "dash": "solid"
         },
         "marker": {
          "symbol": "circle"
         },
         "mode": "lines",
         "name": "2024-09-29 07:17:11+00:00",
         "orientation": "v",
         "showlegend": true,
         "type": "scatter",
         "x": [
          0,
          1
         ],
         "xaxis": "x",
         "y": [
          3788.123769352841,
          3792.017438500782
         ],
         "yaxis": "y"
        },
        {
         "hovertemplate": "timestamp=2024-09-29 10:56:47+00:00<br>index=%{x}<br>value=%{y}<extra></extra>",
         "legendgroup": "2024-09-29 10:56:47+00:00",
         "line": {
          "color": "#FFA15A",
          "dash": "solid"
         },
         "marker": {
          "symbol": "circle"
         },
         "mode": "lines",
         "name": "2024-09-29 10:56:47+00:00",
         "orientation": "v",
         "showlegend": true,
         "type": "scatter",
         "x": [
          0,
          1
         ],
         "xaxis": "x",
         "y": [
          3818.960838130801,
          3822.230714155085
         ],
         "yaxis": "y"
        },
        {
         "hovertemplate": "timestamp=2024-09-29 14:36:35+00:00<br>index=%{x}<br>value=%{y}<extra></extra>",
         "legendgroup": "2024-09-29 14:36:35+00:00",
         "line": {
          "color": "#19d3f3",
          "dash": "solid"
         },
         "marker": {
          "symbol": "circle"
         },
         "mode": "lines",
         "name": "2024-09-29 14:36:35+00:00",
         "orientation": "v",
         "showlegend": true,
         "type": "scatter",
         "x": [
          0,
          1
         ],
         "xaxis": "x",
         "y": [
          3919.2285361790723,
          3922.596477890624
         ],
         "yaxis": "y"
        },
        {
         "hovertemplate": "timestamp=2024-09-29 18:16:11+00:00<br>index=%{x}<br>value=%{y}<extra></extra>",
         "legendgroup": "2024-09-29 18:16:11+00:00",
         "line": {
          "color": "#FF6692",
          "dash": "solid"
         },
         "marker": {
          "symbol": "circle"
         },
         "mode": "lines",
         "name": "2024-09-29 18:16:11+00:00",
         "orientation": "v",
         "showlegend": true,
         "type": "scatter",
         "x": [
          0,
          1
         ],
         "xaxis": "x",
         "y": [
          4041.6471949271163,
          4045.0658457226336
         ],
         "yaxis": "y"
        },
        {
         "hovertemplate": "timestamp=2024-09-29 21:56:47+00:00<br>index=%{x}<br>value=%{y}<extra></extra>",
         "legendgroup": "2024-09-29 21:56:47+00:00",
         "line": {
          "color": "#B6E880",
          "dash": "solid"
         },
         "marker": {
          "symbol": "circle"
         },
         "mode": "lines",
         "name": "2024-09-29 21:56:47+00:00",
         "orientation": "v",
         "showlegend": true,
         "type": "scatter",
         "x": [
          0,
          1
         ],
         "xaxis": "x",
         "y": [
          4039.0698664766046,
          4042.685940205648
         ],
         "yaxis": "y"
        },
        {
         "hovertemplate": "timestamp=2024-09-30 01:36:35+00:00<br>index=%{x}<br>value=%{y}<extra></extra>",
         "legendgroup": "2024-09-30 01:36:35+00:00",
         "line": {
          "color": "#FF97FF",
          "dash": "solid"
         },
         "marker": {
          "symbol": "circle"
         },
         "mode": "lines",
         "name": "2024-09-30 01:36:35+00:00",
         "orientation": "v",
         "showlegend": true,
         "type": "scatter",
         "x": [
          0,
          1
         ],
         "xaxis": "x",
         "y": [
          4039.0297534595147,
          4042.6637703280453
         ],
         "yaxis": "y"
        },
        {
         "hovertemplate": "timestamp=2024-09-30 05:16:35+00:00<br>index=%{x}<br>value=%{y}<extra></extra>",
         "legendgroup": "2024-09-30 05:16:35+00:00",
         "line": {
          "color": "#FECB52",
          "dash": "solid"
         },
         "marker": {
          "symbol": "circle"
         },
         "mode": "lines",
         "name": "2024-09-30 05:16:35+00:00",
         "orientation": "v",
         "showlegend": true,
         "type": "scatter",
         "x": [
          0,
          1
         ],
         "xaxis": "x",
         "y": [
          3807.1567202186834,
          3810.7590072222315
         ],
         "yaxis": "y"
        },
        {
         "hovertemplate": "timestamp=2024-09-30 08:55:59+00:00<br>index=%{x}<br>value=%{y}<extra></extra>",
         "legendgroup": "2024-09-30 08:55:59+00:00",
         "line": {
          "color": "#636efa",
          "dash": "solid"
         },
         "marker": {
          "symbol": "circle"
         },
         "mode": "lines",
         "name": "2024-09-30 08:55:59+00:00",
         "orientation": "v",
         "showlegend": true,
         "type": "scatter",
         "x": [
          0,
          1
         ],
         "xaxis": "x",
         "y": [
          3807.687268797617,
          3810.9419753955444
         ],
         "yaxis": "y"
        },
        {
         "hovertemplate": "timestamp=2024-09-30 12:35:23+00:00<br>index=%{x}<br>value=%{y}<extra></extra>",
         "legendgroup": "2024-09-30 12:35:23+00:00",
         "line": {
          "color": "#EF553B",
          "dash": "solid"
         },
         "marker": {
          "symbol": "circle"
         },
         "mode": "lines",
         "name": "2024-09-30 12:35:23+00:00",
         "orientation": "v",
         "showlegend": true,
         "type": "scatter",
         "x": [
          0,
          1
         ],
         "xaxis": "x",
         "y": [
          3807.6628097039775,
          3810.979852432056
         ],
         "yaxis": "y"
        },
        {
         "hovertemplate": "timestamp=2024-09-30 16:15:11+00:00<br>index=%{x}<br>value=%{y}<extra></extra>",
         "legendgroup": "2024-09-30 16:15:11+00:00",
         "line": {
          "color": "#00cc96",
          "dash": "solid"
         },
         "marker": {
          "symbol": "circle"
         },
         "mode": "lines",
         "name": "2024-09-30 16:15:11+00:00",
         "orientation": "v",
         "showlegend": true,
         "type": "scatter",
         "x": [
          0,
          1
         ],
         "xaxis": "x",
         "y": [
          3808.1479275422125,
          3811.50666177411
         ],
         "yaxis": "y"
        },
        {
         "hovertemplate": "timestamp=2024-09-30 19:54:47+00:00<br>index=%{x}<br>value=%{y}<extra></extra>",
         "legendgroup": "2024-09-30 19:54:47+00:00",
         "line": {
          "color": "#ab63fa",
          "dash": "solid"
         },
         "marker": {
          "symbol": "circle"
         },
         "mode": "lines",
         "name": "2024-09-30 19:54:47+00:00",
         "orientation": "v",
         "showlegend": true,
         "type": "scatter",
         "x": [
          0,
          1
         ],
         "xaxis": "x",
         "y": [
          3806.834104427003,
          3810.1775432108475
         ],
         "yaxis": "y"
        },
        {
         "hovertemplate": "timestamp=2024-09-30 23:34:23+00:00<br>index=%{x}<br>value=%{y}<extra></extra>",
         "legendgroup": "2024-09-30 23:34:23+00:00",
         "line": {
          "color": "#FFA15A",
          "dash": "solid"
         },
         "marker": {
          "symbol": "circle"
         },
         "mode": "lines",
         "name": "2024-09-30 23:34:23+00:00",
         "orientation": "v",
         "showlegend": true,
         "type": "scatter",
         "x": [
          0,
          1
         ],
         "xaxis": "x",
         "y": [
          3806.7879694764115,
          3810.160643261839
         ],
         "yaxis": "y"
        },
        {
         "hovertemplate": "timestamp=2024-10-01 03:13:59+00:00<br>index=%{x}<br>value=%{y}<extra></extra>",
         "legendgroup": "2024-10-01 03:13:59+00:00",
         "line": {
          "color": "#19d3f3",
          "dash": "solid"
         },
         "marker": {
          "symbol": "circle"
         },
         "mode": "lines",
         "name": "2024-10-01 03:13:59+00:00",
         "orientation": "v",
         "showlegend": true,
         "type": "scatter",
         "x": [
          0,
          1
         ],
         "xaxis": "x",
         "y": [
          3812.227789726281,
          3815.59184714551
         ],
         "yaxis": "y"
        },
        {
         "hovertemplate": "timestamp=2024-10-01 06:53:59+00:00<br>index=%{x}<br>value=%{y}<extra></extra>",
         "legendgroup": "2024-10-01 06:53:59+00:00",
         "line": {
          "color": "#FF6692",
          "dash": "solid"
         },
         "marker": {
          "symbol": "circle"
         },
         "mode": "lines",
         "name": "2024-10-01 06:53:59+00:00",
         "orientation": "v",
         "showlegend": true,
         "type": "scatter",
         "x": [
          0,
          1
         ],
         "xaxis": "x",
         "y": [
          3812.1755133973106,
          3815.6519330717324
         ],
         "yaxis": "y"
        },
        {
         "hovertemplate": "timestamp=2024-10-01 10:33:35+00:00<br>index=%{x}<br>value=%{y}<extra></extra>",
         "legendgroup": "2024-10-01 10:33:35+00:00",
         "line": {
          "color": "#B6E880",
          "dash": "solid"
         },
         "marker": {
          "symbol": "circle"
         },
         "mode": "lines",
         "name": "2024-10-01 10:33:35+00:00",
         "orientation": "v",
         "showlegend": true,
         "type": "scatter",
         "x": [
          0,
          1
         ],
         "xaxis": "x",
         "y": [
          3739.4029697599094,
          3742.191255863938
         ],
         "yaxis": "y"
        },
        {
         "hovertemplate": "timestamp=2024-10-01 14:13:47+00:00<br>index=%{x}<br>value=%{y}<extra></extra>",
         "legendgroup": "2024-10-01 14:13:47+00:00",
         "line": {
          "color": "#FF97FF",
          "dash": "solid"
         },
         "marker": {
          "symbol": "circle"
         },
         "mode": "lines",
         "name": "2024-10-01 14:13:47+00:00",
         "orientation": "v",
         "showlegend": true,
         "type": "scatter",
         "x": [
          0,
          1
         ],
         "xaxis": "x",
         "y": [
          3740.130792350662,
          3742.910244839459
         ],
         "yaxis": "y"
        },
        {
         "hovertemplate": "timestamp=2024-10-01 17:54:11+00:00<br>index=%{x}<br>value=%{y}<extra></extra>",
         "legendgroup": "2024-10-01 17:54:11+00:00",
         "line": {
          "color": "#FECB52",
          "dash": "solid"
         },
         "marker": {
          "symbol": "circle"
         },
         "mode": "lines",
         "name": "2024-10-01 17:54:11+00:00",
         "orientation": "v",
         "showlegend": true,
         "type": "scatter",
         "x": [
          0,
          1
         ],
         "xaxis": "x",
         "y": [
          3738.117226672678,
          3740.9425481795456
         ],
         "yaxis": "y"
        },
        {
         "hovertemplate": "timestamp=2024-10-01 21:34:23+00:00<br>index=%{x}<br>value=%{y}<extra></extra>",
         "legendgroup": "2024-10-01 21:34:23+00:00",
         "line": {
          "color": "#636efa",
          "dash": "solid"
         },
         "marker": {
          "symbol": "circle"
         },
         "mode": "lines",
         "name": "2024-10-01 21:34:23+00:00",
         "orientation": "v",
         "showlegend": true,
         "type": "scatter",
         "x": [
          0,
          1
         ],
         "xaxis": "x",
         "y": [
          3738.140064978222,
          3740.936028649754
         ],
         "yaxis": "y"
        },
        {
         "hovertemplate": "timestamp=2024-10-02 01:14:11+00:00<br>index=%{x}<br>value=%{y}<extra></extra>",
         "legendgroup": "2024-10-02 01:14:11+00:00",
         "line": {
          "color": "#EF553B",
          "dash": "solid"
         },
         "marker": {
          "symbol": "circle"
         },
         "mode": "lines",
         "name": "2024-10-02 01:14:11+00:00",
         "orientation": "v",
         "showlegend": true,
         "type": "scatter",
         "x": [
          0,
          1
         ],
         "xaxis": "x",
         "y": [
          3738.1093979271727,
          3740.9425280359023
         ],
         "yaxis": "y"
        },
        {
         "hovertemplate": "timestamp=2024-10-02 04:54:11+00:00<br>index=%{x}<br>value=%{y}<extra></extra>",
         "legendgroup": "2024-10-02 04:54:11+00:00",
         "line": {
          "color": "#00cc96",
          "dash": "solid"
         },
         "marker": {
          "symbol": "circle"
         },
         "mode": "lines",
         "name": "2024-10-02 04:54:11+00:00",
         "orientation": "v",
         "showlegend": true,
         "type": "scatter",
         "x": [
          0,
          1
         ],
         "xaxis": "x",
         "y": [
          3738.065265139527,
          3740.916101969046
         ],
         "yaxis": "y"
        },
        {
         "hovertemplate": "timestamp=2024-10-02 08:33:47+00:00<br>index=%{x}<br>value=%{y}<extra></extra>",
         "legendgroup": "2024-10-02 08:33:47+00:00",
         "line": {
          "color": "#ab63fa",
          "dash": "solid"
         },
         "marker": {
          "symbol": "circle"
         },
         "mode": "lines",
         "name": "2024-10-02 08:33:47+00:00",
         "orientation": "v",
         "showlegend": true,
         "type": "scatter",
         "x": [
          0,
          1
         ],
         "xaxis": "x",
         "y": [
          3731.3866647737223,
          3733.983206049569
         ],
         "yaxis": "y"
        },
        {
         "hovertemplate": "timestamp=2024-10-02 12:12:59+00:00<br>index=%{x}<br>value=%{y}<extra></extra>",
         "legendgroup": "2024-10-02 12:12:59+00:00",
         "line": {
          "color": "#FFA15A",
          "dash": "solid"
         },
         "marker": {
          "symbol": "circle"
         },
         "mode": "lines",
         "name": "2024-10-02 12:12:59+00:00",
         "orientation": "v",
         "showlegend": true,
         "type": "scatter",
         "x": [
          0,
          1
         ],
         "xaxis": "x",
         "y": [
          3731.152065090205,
          3733.7794590239832
         ],
         "yaxis": "y"
        },
        {
         "hovertemplate": "timestamp=2024-10-02 15:53:11+00:00<br>index=%{x}<br>value=%{y}<extra></extra>",
         "legendgroup": "2024-10-02 15:53:11+00:00",
         "line": {
          "color": "#19d3f3",
          "dash": "solid"
         },
         "marker": {
          "symbol": "circle"
         },
         "mode": "lines",
         "name": "2024-10-02 15:53:11+00:00",
         "orientation": "v",
         "showlegend": true,
         "type": "scatter",
         "x": [
          0,
          1
         ],
         "xaxis": "x",
         "y": [
          3731.455269077818,
          3734.1392254330344
         ],
         "yaxis": "y"
        },
        {
         "hovertemplate": "timestamp=2024-10-02 19:33:23+00:00<br>index=%{x}<br>value=%{y}<extra></extra>",
         "legendgroup": "2024-10-02 19:33:23+00:00",
         "line": {
          "color": "#FF6692",
          "dash": "solid"
         },
         "marker": {
          "symbol": "circle"
         },
         "mode": "lines",
         "name": "2024-10-02 19:33:23+00:00",
         "orientation": "v",
         "showlegend": true,
         "type": "scatter",
         "x": [
          0,
          1
         ],
         "xaxis": "x",
         "y": [
          3731.4287615926437,
          3734.1284198701815
         ],
         "yaxis": "y"
        },
        {
         "hovertemplate": "timestamp=2024-10-02 23:12:47+00:00<br>index=%{x}<br>value=%{y}<extra></extra>",
         "legendgroup": "2024-10-02 23:12:47+00:00",
         "line": {
          "color": "#B6E880",
          "dash": "solid"
         },
         "marker": {
          "symbol": "circle"
         },
         "mode": "lines",
         "name": "2024-10-02 23:12:47+00:00",
         "orientation": "v",
         "showlegend": true,
         "type": "scatter",
         "x": [
          0,
          1
         ],
         "xaxis": "x",
         "y": [
          3731.9461155840895,
          3734.3841615563215
         ],
         "yaxis": "y"
        },
        {
         "hovertemplate": "timestamp=2024-10-03 02:52:11+00:00<br>index=%{x}<br>value=%{y}<extra></extra>",
         "legendgroup": "2024-10-03 02:52:11+00:00",
         "line": {
          "color": "#FF97FF",
          "dash": "solid"
         },
         "marker": {
          "symbol": "circle"
         },
         "mode": "lines",
         "name": "2024-10-03 02:52:11+00:00",
         "orientation": "v",
         "showlegend": true,
         "type": "scatter",
         "x": [
          0,
          1
         ],
         "xaxis": "x",
         "y": [
          4028.7947957548868,
          4031.299822028705
         ],
         "yaxis": "y"
        },
        {
         "hovertemplate": "timestamp=2024-10-03 06:32:23+00:00<br>index=%{x}<br>value=%{y}<extra></extra>",
         "legendgroup": "2024-10-03 06:32:23+00:00",
         "line": {
          "color": "#FECB52",
          "dash": "solid"
         },
         "marker": {
          "symbol": "circle"
         },
         "mode": "lines",
         "name": "2024-10-03 06:32:23+00:00",
         "orientation": "v",
         "showlegend": true,
         "type": "scatter",
         "x": [
          0,
          1
         ],
         "xaxis": "x",
         "y": [
          4026.765605721399,
          4029.3029894539354
         ],
         "yaxis": "y"
        },
        {
         "hovertemplate": "timestamp=2024-10-03 10:11:59+00:00<br>index=%{x}<br>value=%{y}<extra></extra>",
         "legendgroup": "2024-10-03 10:11:59+00:00",
         "line": {
          "color": "#636efa",
          "dash": "solid"
         },
         "marker": {
          "symbol": "circle"
         },
         "mode": "lines",
         "name": "2024-10-03 10:11:59+00:00",
         "orientation": "v",
         "showlegend": true,
         "type": "scatter",
         "x": [
          0,
          1
         ],
         "xaxis": "x",
         "y": [
          4022.515124371828,
          4024.790478405351
         ],
         "yaxis": "y"
        },
        {
         "hovertemplate": "timestamp=2024-10-03 13:51:59+00:00<br>index=%{x}<br>value=%{y}<extra></extra>",
         "legendgroup": "2024-10-03 13:51:59+00:00",
         "line": {
          "color": "#EF553B",
          "dash": "solid"
         },
         "marker": {
          "symbol": "circle"
         },
         "mode": "lines",
         "name": "2024-10-03 13:51:59+00:00",
         "orientation": "v",
         "showlegend": true,
         "type": "scatter",
         "x": [
          0,
          1
         ],
         "xaxis": "x",
         "y": [
          4371.881109609565,
          4374.179204231042
         ],
         "yaxis": "y"
        },
        {
         "hovertemplate": "timestamp=2024-10-03 17:33:23+00:00<br>index=%{x}<br>value=%{y}<extra></extra>",
         "legendgroup": "2024-10-03 17:33:23+00:00",
         "line": {
          "color": "#00cc96",
          "dash": "solid"
         },
         "marker": {
          "symbol": "circle"
         },
         "mode": "lines",
         "name": "2024-10-03 17:33:23+00:00",
         "orientation": "v",
         "showlegend": true,
         "type": "scatter",
         "x": [
          0,
          1
         ],
         "xaxis": "x",
         "y": [
          4371.780061992299,
          4374.10194307238
         ],
         "yaxis": "y"
        },
        {
         "hovertemplate": "timestamp=2024-10-03 21:13:47+00:00<br>index=%{x}<br>value=%{y}<extra></extra>",
         "legendgroup": "2024-10-03 21:13:47+00:00",
         "line": {
          "color": "#ab63fa",
          "dash": "solid"
         },
         "marker": {
          "symbol": "circle"
         },
         "mode": "lines",
         "name": "2024-10-03 21:13:47+00:00",
         "orientation": "v",
         "showlegend": true,
         "type": "scatter",
         "x": [
          0,
          1
         ],
         "xaxis": "x",
         "y": [
          4371.702605753746,
          4374.270889365243
         ],
         "yaxis": "y"
        },
        {
         "hovertemplate": "timestamp=2024-10-04 00:53:11+00:00<br>index=%{x}<br>value=%{y}<extra></extra>",
         "legendgroup": "2024-10-04 00:53:11+00:00",
         "line": {
          "color": "#FFA15A",
          "dash": "solid"
         },
         "marker": {
          "symbol": "circle"
         },
         "mode": "lines",
         "name": "2024-10-04 00:53:11+00:00",
         "orientation": "v",
         "showlegend": true,
         "type": "scatter",
         "x": [
          0,
          1
         ],
         "xaxis": "x",
         "y": [
          4371.701631596967,
          4374.290165002948
         ],
         "yaxis": "y"
        },
        {
         "hovertemplate": "timestamp=2024-10-04 04:32:23+00:00<br>index=%{x}<br>value=%{y}<extra></extra>",
         "legendgroup": "2024-10-04 04:32:23+00:00",
         "line": {
          "color": "#19d3f3",
          "dash": "solid"
         },
         "marker": {
          "symbol": "circle"
         },
         "mode": "lines",
         "name": "2024-10-04 04:32:23+00:00",
         "orientation": "v",
         "showlegend": true,
         "type": "scatter",
         "x": [
          0,
          1
         ],
         "xaxis": "x",
         "y": [
          4371.6462197936,
          4374.345011912618
         ],
         "yaxis": "y"
        },
        {
         "hovertemplate": "timestamp=2024-10-04 08:11:59+00:00<br>index=%{x}<br>value=%{y}<extra></extra>",
         "legendgroup": "2024-10-04 08:11:59+00:00",
         "line": {
          "color": "#FF6692",
          "dash": "solid"
         },
         "marker": {
          "symbol": "circle"
         },
         "mode": "lines",
         "name": "2024-10-04 08:11:59+00:00",
         "orientation": "v",
         "showlegend": true,
         "type": "scatter",
         "x": [
          0,
          1
         ],
         "xaxis": "x",
         "y": [
          4371.144907756593,
          4373.849221212262
         ],
         "yaxis": "y"
        },
        {
         "hovertemplate": "timestamp=2024-10-04 11:51:23+00:00<br>index=%{x}<br>value=%{y}<extra></extra>",
         "legendgroup": "2024-10-04 11:51:23+00:00",
         "line": {
          "color": "#B6E880",
          "dash": "solid"
         },
         "marker": {
          "symbol": "circle"
         },
         "mode": "lines",
         "name": "2024-10-04 11:51:23+00:00",
         "orientation": "v",
         "showlegend": true,
         "type": "scatter",
         "x": [
          0,
          1
         ],
         "xaxis": "x",
         "y": [
          4316.0848943142355,
          4318.774216992528
         ],
         "yaxis": "y"
        },
        {
         "hovertemplate": "timestamp=2024-10-04 15:30:59+00:00<br>index=%{x}<br>value=%{y}<extra></extra>",
         "legendgroup": "2024-10-04 15:30:59+00:00",
         "line": {
          "color": "#FF97FF",
          "dash": "solid"
         },
         "marker": {
          "symbol": "circle"
         },
         "mode": "lines",
         "name": "2024-10-04 15:30:59+00:00",
         "orientation": "v",
         "showlegend": true,
         "type": "scatter",
         "x": [
          0,
          1
         ],
         "xaxis": "x",
         "y": [
          4324.486381748165,
          4327.131745460116
         ],
         "yaxis": "y"
        },
        {
         "hovertemplate": "timestamp=2024-10-04 19:10:35+00:00<br>index=%{x}<br>value=%{y}<extra></extra>",
         "legendgroup": "2024-10-04 19:10:35+00:00",
         "line": {
          "color": "#FECB52",
          "dash": "solid"
         },
         "marker": {
          "symbol": "circle"
         },
         "mode": "lines",
         "name": "2024-10-04 19:10:35+00:00",
         "orientation": "v",
         "showlegend": true,
         "type": "scatter",
         "x": [
          0,
          1
         ],
         "xaxis": "x",
         "y": [
          4318.622557018294,
          4321.298440890199
         ],
         "yaxis": "y"
        },
        {
         "hovertemplate": "timestamp=2024-10-04 22:50:23+00:00<br>index=%{x}<br>value=%{y}<extra></extra>",
         "legendgroup": "2024-10-04 22:50:23+00:00",
         "line": {
          "color": "#636efa",
          "dash": "solid"
         },
         "marker": {
          "symbol": "circle"
         },
         "mode": "lines",
         "name": "2024-10-04 22:50:23+00:00",
         "orientation": "v",
         "showlegend": true,
         "type": "scatter",
         "x": [
          0,
          1
         ],
         "xaxis": "x",
         "y": [
          4318.603853312594,
          4321.332514178243
         ],
         "yaxis": "y"
        },
        {
         "hovertemplate": "timestamp=2024-10-05 02:30:35+00:00<br>index=%{x}<br>value=%{y}<extra></extra>",
         "legendgroup": "2024-10-05 02:30:35+00:00",
         "line": {
          "color": "#EF553B",
          "dash": "solid"
         },
         "marker": {
          "symbol": "circle"
         },
         "mode": "lines",
         "name": "2024-10-05 02:30:35+00:00",
         "orientation": "v",
         "showlegend": true,
         "type": "scatter",
         "x": [
          0,
          1
         ],
         "xaxis": "x",
         "y": [
          4319.625328381497,
          4322.391744938336
         ],
         "yaxis": "y"
        },
        {
         "hovertemplate": "timestamp=2024-10-05 06:09:59+00:00<br>index=%{x}<br>value=%{y}<extra></extra>",
         "legendgroup": "2024-10-05 06:09:59+00:00",
         "line": {
          "color": "#00cc96",
          "dash": "solid"
         },
         "marker": {
          "symbol": "circle"
         },
         "mode": "lines",
         "name": "2024-10-05 06:09:59+00:00",
         "orientation": "v",
         "showlegend": true,
         "type": "scatter",
         "x": [
          0,
          1
         ],
         "xaxis": "x",
         "y": [
          4352.552691957683,
          4355.329733946164
         ],
         "yaxis": "y"
        },
        {
         "hovertemplate": "timestamp=2024-10-05 09:49:59+00:00<br>index=%{x}<br>value=%{y}<extra></extra>",
         "legendgroup": "2024-10-05 09:49:59+00:00",
         "line": {
          "color": "#ab63fa",
          "dash": "solid"
         },
         "marker": {
          "symbol": "circle"
         },
         "mode": "lines",
         "name": "2024-10-05 09:49:59+00:00",
         "orientation": "v",
         "showlegend": true,
         "type": "scatter",
         "x": [
          0,
          1
         ],
         "xaxis": "x",
         "y": [
          4352.793629540498,
          4355.4248479959815
         ],
         "yaxis": "y"
        },
        {
         "hovertemplate": "timestamp=2024-10-05 13:29:23+00:00<br>index=%{x}<br>value=%{y}<extra></extra>",
         "legendgroup": "2024-10-05 13:29:23+00:00",
         "line": {
          "color": "#FFA15A",
          "dash": "solid"
         },
         "marker": {
          "symbol": "circle"
         },
         "mode": "lines",
         "name": "2024-10-05 13:29:23+00:00",
         "orientation": "v",
         "showlegend": true,
         "type": "scatter",
         "x": [
          0,
          1
         ],
         "xaxis": "x",
         "y": [
          4353.194374407282,
          4355.827997875791
         ],
         "yaxis": "y"
        },
        {
         "hovertemplate": "timestamp=2024-10-05 17:09:23+00:00<br>index=%{x}<br>value=%{y}<extra></extra>",
         "legendgroup": "2024-10-05 17:09:23+00:00",
         "line": {
          "color": "#19d3f3",
          "dash": "solid"
         },
         "marker": {
          "symbol": "circle"
         },
         "mode": "lines",
         "name": "2024-10-05 17:09:23+00:00",
         "orientation": "v",
         "showlegend": true,
         "type": "scatter",
         "x": [
          0,
          1
         ],
         "xaxis": "x",
         "y": [
          4355.679000469328,
          4358.327287591268
         ],
         "yaxis": "y"
        },
        {
         "hovertemplate": "timestamp=2024-10-05 20:48:59+00:00<br>index=%{x}<br>value=%{y}<extra></extra>",
         "legendgroup": "2024-10-05 20:48:59+00:00",
         "line": {
          "color": "#FF6692",
          "dash": "solid"
         },
         "marker": {
          "symbol": "circle"
         },
         "mode": "lines",
         "name": "2024-10-05 20:48:59+00:00",
         "orientation": "v",
         "showlegend": true,
         "type": "scatter",
         "x": [
          0,
          1
         ],
         "xaxis": "x",
         "y": [
          4346.557060001013,
          4349.246641322625
         ],
         "yaxis": "y"
        },
        {
         "hovertemplate": "timestamp=2024-10-06 00:28:11+00:00<br>index=%{x}<br>value=%{y}<extra></extra>",
         "legendgroup": "2024-10-06 00:28:11+00:00",
         "line": {
          "color": "#B6E880",
          "dash": "solid"
         },
         "marker": {
          "symbol": "circle"
         },
         "mode": "lines",
         "name": "2024-10-06 00:28:11+00:00",
         "orientation": "v",
         "showlegend": true,
         "type": "scatter",
         "x": [
          0,
          1
         ],
         "xaxis": "x",
         "y": [
          4346.534958228992,
          4349.270877729627
         ],
         "yaxis": "y"
        },
        {
         "hovertemplate": "timestamp=2024-10-06 04:07:47+00:00<br>index=%{x}<br>value=%{y}<extra></extra>",
         "legendgroup": "2024-10-06 04:07:47+00:00",
         "line": {
          "color": "#FF97FF",
          "dash": "solid"
         },
         "marker": {
          "symbol": "circle"
         },
         "mode": "lines",
         "name": "2024-10-06 04:07:47+00:00",
         "orientation": "v",
         "showlegend": true,
         "type": "scatter",
         "x": [
          0,
          1
         ],
         "xaxis": "x",
         "y": [
          4346.507472814003,
          4349.335386219587
         ],
         "yaxis": "y"
        },
        {
         "hovertemplate": "timestamp=2024-10-06 07:47:35+00:00<br>index=%{x}<br>value=%{y}<extra></extra>",
         "legendgroup": "2024-10-06 07:47:35+00:00",
         "line": {
          "color": "#FECB52",
          "dash": "solid"
         },
         "marker": {
          "symbol": "circle"
         },
         "mode": "lines",
         "name": "2024-10-06 07:47:35+00:00",
         "orientation": "v",
         "showlegend": true,
         "type": "scatter",
         "x": [
          0,
          1
         ],
         "xaxis": "x",
         "y": [
          4346.376519268765,
          4349.336711536496
         ],
         "yaxis": "y"
        },
        {
         "hovertemplate": "timestamp=2024-10-06 11:27:47+00:00<br>index=%{x}<br>value=%{y}<extra></extra>",
         "legendgroup": "2024-10-06 11:27:47+00:00",
         "line": {
          "color": "#636efa",
          "dash": "solid"
         },
         "marker": {
          "symbol": "circle"
         },
         "mode": "lines",
         "name": "2024-10-06 11:27:47+00:00",
         "orientation": "v",
         "showlegend": true,
         "type": "scatter",
         "x": [
          0,
          1
         ],
         "xaxis": "x",
         "y": [
          4346.4306158969775,
          4349.27359031347
         ],
         "yaxis": "y"
        },
        {
         "hovertemplate": "timestamp=2024-10-06 15:07:47+00:00<br>index=%{x}<br>value=%{y}<extra></extra>",
         "legendgroup": "2024-10-06 15:07:47+00:00",
         "line": {
          "color": "#EF553B",
          "dash": "solid"
         },
         "marker": {
          "symbol": "circle"
         },
         "mode": "lines",
         "name": "2024-10-06 15:07:47+00:00",
         "orientation": "v",
         "showlegend": true,
         "type": "scatter",
         "x": [
          0,
          1
         ],
         "xaxis": "x",
         "y": [
          4346.421301643502,
          4349.261046410988
         ],
         "yaxis": "y"
        },
        {
         "hovertemplate": "timestamp=2024-10-06 18:47:35+00:00<br>index=%{x}<br>value=%{y}<extra></extra>",
         "legendgroup": "2024-10-06 18:47:35+00:00",
         "line": {
          "color": "#00cc96",
          "dash": "solid"
         },
         "marker": {
          "symbol": "circle"
         },
         "mode": "lines",
         "name": "2024-10-06 18:47:35+00:00",
         "orientation": "v",
         "showlegend": true,
         "type": "scatter",
         "x": [
          0,
          1
         ],
         "xaxis": "x",
         "y": [
          4346.372247620927,
          4349.294948646314
         ],
         "yaxis": "y"
        },
        {
         "hovertemplate": "timestamp=2024-10-06 22:27:23+00:00<br>index=%{x}<br>value=%{y}<extra></extra>",
         "legendgroup": "2024-10-06 22:27:23+00:00",
         "line": {
          "color": "#ab63fa",
          "dash": "solid"
         },
         "marker": {
          "symbol": "circle"
         },
         "mode": "lines",
         "name": "2024-10-06 22:27:23+00:00",
         "orientation": "v",
         "showlegend": true,
         "type": "scatter",
         "x": [
          0,
          1
         ],
         "xaxis": "x",
         "y": [
          4346.336465076443,
          4349.29069966706
         ],
         "yaxis": "y"
        },
        {
         "hovertemplate": "timestamp=2024-10-07 02:07:35+00:00<br>index=%{x}<br>value=%{y}<extra></extra>",
         "legendgroup": "2024-10-07 02:07:35+00:00",
         "line": {
          "color": "#FFA15A",
          "dash": "solid"
         },
         "marker": {
          "symbol": "circle"
         },
         "mode": "lines",
         "name": "2024-10-07 02:07:35+00:00",
         "orientation": "v",
         "showlegend": true,
         "type": "scatter",
         "x": [
          0,
          1
         ],
         "xaxis": "x",
         "y": [
          4346.3178798115505,
          4349.287937820328
         ],
         "yaxis": "y"
        },
        {
         "hovertemplate": "timestamp=2024-10-07 05:47:35+00:00<br>index=%{x}<br>value=%{y}<extra></extra>",
         "legendgroup": "2024-10-07 05:47:35+00:00",
         "line": {
          "color": "#19d3f3",
          "dash": "solid"
         },
         "marker": {
          "symbol": "circle"
         },
         "mode": "lines",
         "name": "2024-10-07 05:47:35+00:00",
         "orientation": "v",
         "showlegend": true,
         "type": "scatter",
         "x": [
          0,
          1
         ],
         "xaxis": "x",
         "y": [
          4346.3002114675655,
          4349.269080186593
         ],
         "yaxis": "y"
        },
        {
         "hovertemplate": "timestamp=2024-10-07 09:27:11+00:00<br>index=%{x}<br>value=%{y}<extra></extra>",
         "legendgroup": "2024-10-07 09:27:11+00:00",
         "line": {
          "color": "#FF6692",
          "dash": "solid"
         },
         "marker": {
          "symbol": "circle"
         },
         "mode": "lines",
         "name": "2024-10-07 09:27:11+00:00",
         "orientation": "v",
         "showlegend": true,
         "type": "scatter",
         "x": [
          0,
          1
         ],
         "xaxis": "x",
         "y": [
          4342.465839654906,
          4344.988021448762
         ],
         "yaxis": "y"
        },
        {
         "hovertemplate": "timestamp=2024-10-07 13:06:35+00:00<br>index=%{x}<br>value=%{y}<extra></extra>",
         "legendgroup": "2024-10-07 13:06:35+00:00",
         "line": {
          "color": "#B6E880",
          "dash": "solid"
         },
         "marker": {
          "symbol": "circle"
         },
         "mode": "lines",
         "name": "2024-10-07 13:06:35+00:00",
         "orientation": "v",
         "showlegend": true,
         "type": "scatter",
         "x": [
          0,
          1
         ],
         "xaxis": "x",
         "y": [
          4465.5497968844265,
          4468.097194969558
         ],
         "yaxis": "y"
        },
        {
         "hovertemplate": "timestamp=2024-10-07 16:46:47+00:00<br>index=%{x}<br>value=%{y}<extra></extra>",
         "legendgroup": "2024-10-07 16:46:47+00:00",
         "line": {
          "color": "#FF97FF",
          "dash": "solid"
         },
         "marker": {
          "symbol": "circle"
         },
         "mode": "lines",
         "name": "2024-10-07 16:46:47+00:00",
         "orientation": "v",
         "showlegend": true,
         "type": "scatter",
         "x": [
          0,
          1
         ],
         "xaxis": "x",
         "y": [
          4465.5254288789,
          4468.100200695832
         ],
         "yaxis": "y"
        },
        {
         "hovertemplate": "timestamp=2024-10-07 20:26:23+00:00<br>index=%{x}<br>value=%{y}<extra></extra>",
         "legendgroup": "2024-10-07 20:26:23+00:00",
         "line": {
          "color": "#FECB52",
          "dash": "solid"
         },
         "marker": {
          "symbol": "circle"
         },
         "mode": "lines",
         "name": "2024-10-07 20:26:23+00:00",
         "orientation": "v",
         "showlegend": true,
         "type": "scatter",
         "x": [
          0,
          1
         ],
         "xaxis": "x",
         "y": [
          4416.883027901832,
          4419.512494688354
         ],
         "yaxis": "y"
        },
        {
         "hovertemplate": "timestamp=2024-10-08 00:05:59+00:00<br>index=%{x}<br>value=%{y}<extra></extra>",
         "legendgroup": "2024-10-08 00:05:59+00:00",
         "line": {
          "color": "#636efa",
          "dash": "solid"
         },
         "marker": {
          "symbol": "circle"
         },
         "mode": "lines",
         "name": "2024-10-08 00:05:59+00:00",
         "orientation": "v",
         "showlegend": true,
         "type": "scatter",
         "x": [
          0,
          1
         ],
         "xaxis": "x",
         "y": [
          4416.857443298353,
          4419.51390372243
         ],
         "yaxis": "y"
        },
        {
         "hovertemplate": "timestamp=2024-10-08 03:45:47+00:00<br>index=%{x}<br>value=%{y}<extra></extra>",
         "legendgroup": "2024-10-08 03:45:47+00:00",
         "line": {
          "color": "#EF553B",
          "dash": "solid"
         },
         "marker": {
          "symbol": "circle"
         },
         "mode": "lines",
         "name": "2024-10-08 03:45:47+00:00",
         "orientation": "v",
         "showlegend": true,
         "type": "scatter",
         "x": [
          0,
          1
         ],
         "xaxis": "x",
         "y": [
          4411.798509037633,
          4414.439058586531
         ],
         "yaxis": "y"
        },
        {
         "hovertemplate": "timestamp=2024-10-08 07:25:35+00:00<br>index=%{x}<br>value=%{y}<extra></extra>",
         "legendgroup": "2024-10-08 07:25:35+00:00",
         "line": {
          "color": "#00cc96",
          "dash": "solid"
         },
         "marker": {
          "symbol": "circle"
         },
         "mode": "lines",
         "name": "2024-10-08 07:25:35+00:00",
         "orientation": "v",
         "showlegend": true,
         "type": "scatter",
         "x": [
          0,
          1
         ],
         "xaxis": "x",
         "y": [
          4411.766915007934,
          4415.11426975766
         ],
         "yaxis": "y"
        },
        {
         "hovertemplate": "timestamp=2024-10-08 11:04:59+00:00<br>index=%{x}<br>value=%{y}<extra></extra>",
         "legendgroup": "2024-10-08 11:04:59+00:00",
         "line": {
          "color": "#ab63fa",
          "dash": "solid"
         },
         "marker": {
          "symbol": "circle"
         },
         "mode": "lines",
         "name": "2024-10-08 11:04:59+00:00",
         "orientation": "v",
         "showlegend": true,
         "type": "scatter",
         "x": [
          0,
          1
         ],
         "xaxis": "x",
         "y": [
          4411.775939386711,
          4415.104283525193
         ],
         "yaxis": "y"
        },
        {
         "hovertemplate": "timestamp=2024-10-08 14:44:47+00:00<br>index=%{x}<br>value=%{y}<extra></extra>",
         "legendgroup": "2024-10-08 14:44:47+00:00",
         "line": {
          "color": "#FFA15A",
          "dash": "solid"
         },
         "marker": {
          "symbol": "circle"
         },
         "mode": "lines",
         "name": "2024-10-08 14:44:47+00:00",
         "orientation": "v",
         "showlegend": true,
         "type": "scatter",
         "x": [
          0,
          1
         ],
         "xaxis": "x",
         "y": [
          4411.749043359063,
          4415.098561448858
         ],
         "yaxis": "y"
        },
        {
         "hovertemplate": "timestamp=2024-10-08 18:24:11+00:00<br>index=%{x}<br>value=%{y}<extra></extra>",
         "legendgroup": "2024-10-08 18:24:11+00:00",
         "line": {
          "color": "#19d3f3",
          "dash": "solid"
         },
         "marker": {
          "symbol": "circle"
         },
         "mode": "lines",
         "name": "2024-10-08 18:24:11+00:00",
         "orientation": "v",
         "showlegend": true,
         "type": "scatter",
         "x": [
          0,
          1
         ],
         "xaxis": "x",
         "y": [
          4411.654835230749,
          4415.01914295129
         ],
         "yaxis": "y"
        },
        {
         "hovertemplate": "timestamp=2024-10-08 22:04:47+00:00<br>index=%{x}<br>value=%{y}<extra></extra>",
         "legendgroup": "2024-10-08 22:04:47+00:00",
         "line": {
          "color": "#FF6692",
          "dash": "solid"
         },
         "marker": {
          "symbol": "circle"
         },
         "mode": "lines",
         "name": "2024-10-08 22:04:47+00:00",
         "orientation": "v",
         "showlegend": true,
         "type": "scatter",
         "x": [
          0,
          1
         ],
         "xaxis": "x",
         "y": [
          4411.638313216732,
          4415.016040219301
         ],
         "yaxis": "y"
        },
        {
         "hovertemplate": "timestamp=2024-10-09 01:44:35+00:00<br>index=%{x}<br>value=%{y}<extra></extra>",
         "legendgroup": "2024-10-09 01:44:35+00:00",
         "line": {
          "color": "#B6E880",
          "dash": "solid"
         },
         "marker": {
          "symbol": "circle"
         },
         "mode": "lines",
         "name": "2024-10-09 01:44:35+00:00",
         "orientation": "v",
         "showlegend": true,
         "type": "scatter",
         "x": [
          0,
          1
         ],
         "xaxis": "x",
         "y": [
          4411.612031770339,
          4415.065746892684
         ],
         "yaxis": "y"
        },
        {
         "hovertemplate": "timestamp=2024-10-09 05:23:47+00:00<br>index=%{x}<br>value=%{y}<extra></extra>",
         "legendgroup": "2024-10-09 05:23:47+00:00",
         "line": {
          "color": "#FF97FF",
          "dash": "solid"
         },
         "marker": {
          "symbol": "circle"
         },
         "mode": "lines",
         "name": "2024-10-09 05:23:47+00:00",
         "orientation": "v",
         "showlegend": true,
         "type": "scatter",
         "x": [
          0,
          1
         ],
         "xaxis": "x",
         "y": [
          4507.573473987542,
          4511.089799495717
         ],
         "yaxis": "y"
        },
        {
         "hovertemplate": "timestamp=2024-10-09 09:03:35+00:00<br>index=%{x}<br>value=%{y}<extra></extra>",
         "legendgroup": "2024-10-09 09:03:35+00:00",
         "line": {
          "color": "#FECB52",
          "dash": "solid"
         },
         "marker": {
          "symbol": "circle"
         },
         "mode": "lines",
         "name": "2024-10-09 09:03:35+00:00",
         "orientation": "v",
         "showlegend": true,
         "type": "scatter",
         "x": [
          0,
          1
         ],
         "xaxis": "x",
         "y": [
          4507.5583126543115,
          4511.103436744141
         ],
         "yaxis": "y"
        },
        {
         "hovertemplate": "timestamp=2024-10-09 12:43:59+00:00<br>index=%{x}<br>value=%{y}<extra></extra>",
         "legendgroup": "2024-10-09 12:43:59+00:00",
         "line": {
          "color": "#636efa",
          "dash": "solid"
         },
         "marker": {
          "symbol": "circle"
         },
         "mode": "lines",
         "name": "2024-10-09 12:43:59+00:00",
         "orientation": "v",
         "showlegend": true,
         "type": "scatter",
         "x": [
          0,
          1
         ],
         "xaxis": "x",
         "y": [
          4507.444129011236,
          4511.065653354872
         ],
         "yaxis": "y"
        },
        {
         "hovertemplate": "timestamp=2024-10-09 16:23:11+00:00<br>index=%{x}<br>value=%{y}<extra></extra>",
         "legendgroup": "2024-10-09 16:23:11+00:00",
         "line": {
          "color": "#EF553B",
          "dash": "solid"
         },
         "marker": {
          "symbol": "circle"
         },
         "mode": "lines",
         "name": "2024-10-09 16:23:11+00:00",
         "orientation": "v",
         "showlegend": true,
         "type": "scatter",
         "x": [
          0,
          1
         ],
         "xaxis": "x",
         "y": [
          4507.41582248732,
          4511.07197223262
         ],
         "yaxis": "y"
        },
        {
         "hovertemplate": "timestamp=2024-10-09 20:02:59+00:00<br>index=%{x}<br>value=%{y}<extra></extra>",
         "legendgroup": "2024-10-09 20:02:59+00:00",
         "line": {
          "color": "#00cc96",
          "dash": "solid"
         },
         "marker": {
          "symbol": "circle"
         },
         "mode": "lines",
         "name": "2024-10-09 20:02:59+00:00",
         "orientation": "v",
         "showlegend": true,
         "type": "scatter",
         "x": [
          0,
          1
         ],
         "xaxis": "x",
         "y": [
          4515.860096770063,
          4519.503176139121
         ],
         "yaxis": "y"
        },
        {
         "hovertemplate": "timestamp=2024-10-09 23:42:35+00:00<br>index=%{x}<br>value=%{y}<extra></extra>",
         "legendgroup": "2024-10-09 23:42:35+00:00",
         "line": {
          "color": "#ab63fa",
          "dash": "solid"
         },
         "marker": {
          "symbol": "circle"
         },
         "mode": "lines",
         "name": "2024-10-09 23:42:35+00:00",
         "orientation": "v",
         "showlegend": true,
         "type": "scatter",
         "x": [
          0,
          1
         ],
         "xaxis": "x",
         "y": [
          4516.35242836279,
          4519.87203133696
         ],
         "yaxis": "y"
        },
        {
         "hovertemplate": "timestamp=2024-10-10 03:22:23+00:00<br>index=%{x}<br>value=%{y}<extra></extra>",
         "legendgroup": "2024-10-10 03:22:23+00:00",
         "line": {
          "color": "#FFA15A",
          "dash": "solid"
         },
         "marker": {
          "symbol": "circle"
         },
         "mode": "lines",
         "name": "2024-10-10 03:22:23+00:00",
         "orientation": "v",
         "showlegend": true,
         "type": "scatter",
         "x": [
          0,
          1
         ],
         "xaxis": "x",
         "y": [
          4516.310752309528,
          4519.91564327101
         ],
         "yaxis": "y"
        },
        {
         "hovertemplate": "timestamp=2024-10-10 07:02:23+00:00<br>index=%{x}<br>value=%{y}<extra></extra>",
         "legendgroup": "2024-10-10 07:02:23+00:00",
         "line": {
          "color": "#19d3f3",
          "dash": "solid"
         },
         "marker": {
          "symbol": "circle"
         },
         "mode": "lines",
         "name": "2024-10-10 07:02:23+00:00",
         "orientation": "v",
         "showlegend": true,
         "type": "scatter",
         "x": [
          0,
          1
         ],
         "xaxis": "x",
         "y": [
          4516.395923662884,
          4520.11740989361
         ],
         "yaxis": "y"
        },
        {
         "hovertemplate": "timestamp=2024-10-10 10:42:11+00:00<br>index=%{x}<br>value=%{y}<extra></extra>",
         "legendgroup": "2024-10-10 10:42:11+00:00",
         "line": {
          "color": "#FF6692",
          "dash": "solid"
         },
         "marker": {
          "symbol": "circle"
         },
         "mode": "lines",
         "name": "2024-10-10 10:42:11+00:00",
         "orientation": "v",
         "showlegend": true,
         "type": "scatter",
         "x": [
          0,
          1
         ],
         "xaxis": "x",
         "y": [
          4517.092413524526,
          4519.954433210976
         ],
         "yaxis": "y"
        },
        {
         "hovertemplate": "timestamp=2024-10-10 14:21:47+00:00<br>index=%{x}<br>value=%{y}<extra></extra>",
         "legendgroup": "2024-10-10 14:21:47+00:00",
         "line": {
          "color": "#B6E880",
          "dash": "solid"
         },
         "marker": {
          "symbol": "circle"
         },
         "mode": "lines",
         "name": "2024-10-10 14:21:47+00:00",
         "orientation": "v",
         "showlegend": true,
         "type": "scatter",
         "x": [
          0,
          1
         ],
         "xaxis": "x",
         "y": [
          4521.2679632692025,
          4524.180997258846
         ],
         "yaxis": "y"
        },
        {
         "hovertemplate": "timestamp=2024-10-10 18:01:11+00:00<br>index=%{x}<br>value=%{y}<extra></extra>",
         "legendgroup": "2024-10-10 18:01:11+00:00",
         "line": {
          "color": "#FF97FF",
          "dash": "solid"
         },
         "marker": {
          "symbol": "circle"
         },
         "mode": "lines",
         "name": "2024-10-10 18:01:11+00:00",
         "orientation": "v",
         "showlegend": true,
         "type": "scatter",
         "x": [
          0,
          1
         ],
         "xaxis": "x",
         "y": [
          4521.220949677443,
          4524.175481480203
         ],
         "yaxis": "y"
        },
        {
         "hovertemplate": "timestamp=2024-10-10 21:40:59+00:00<br>index=%{x}<br>value=%{y}<extra></extra>",
         "legendgroup": "2024-10-10 21:40:59+00:00",
         "line": {
          "color": "#FECB52",
          "dash": "solid"
         },
         "marker": {
          "symbol": "circle"
         },
         "mode": "lines",
         "name": "2024-10-10 21:40:59+00:00",
         "orientation": "v",
         "showlegend": true,
         "type": "scatter",
         "x": [
          0,
          1
         ],
         "xaxis": "x",
         "y": [
          4521.591496445933,
          4524.6375964346935
         ],
         "yaxis": "y"
        },
        {
         "hovertemplate": "timestamp=2024-10-11 01:20:35+00:00<br>index=%{x}<br>value=%{y}<extra></extra>",
         "legendgroup": "2024-10-11 01:20:35+00:00",
         "line": {
          "color": "#636efa",
          "dash": "solid"
         },
         "marker": {
          "symbol": "circle"
         },
         "mode": "lines",
         "name": "2024-10-11 01:20:35+00:00",
         "orientation": "v",
         "showlegend": true,
         "type": "scatter",
         "x": [
          0,
          1
         ],
         "xaxis": "x",
         "y": [
          4521.546968252202,
          4524.635869152868
         ],
         "yaxis": "y"
        },
        {
         "hovertemplate": "timestamp=2024-10-11 05:00:35+00:00<br>index=%{x}<br>value=%{y}<extra></extra>",
         "legendgroup": "2024-10-11 05:00:35+00:00",
         "line": {
          "color": "#EF553B",
          "dash": "solid"
         },
         "marker": {
          "symbol": "circle"
         },
         "mode": "lines",
         "name": "2024-10-11 05:00:35+00:00",
         "orientation": "v",
         "showlegend": true,
         "type": "scatter",
         "x": [
          0,
          1
         ],
         "xaxis": "x",
         "y": [
          4521.529704659401,
          4524.744633508944
         ],
         "yaxis": "y"
        },
        {
         "hovertemplate": "timestamp=2024-10-11 08:40:59+00:00<br>index=%{x}<br>value=%{y}<extra></extra>",
         "legendgroup": "2024-10-11 08:40:59+00:00",
         "line": {
          "color": "#00cc96",
          "dash": "solid"
         },
         "marker": {
          "symbol": "circle"
         },
         "mode": "lines",
         "name": "2024-10-11 08:40:59+00:00",
         "orientation": "v",
         "showlegend": true,
         "type": "scatter",
         "x": [
          0,
          1
         ],
         "xaxis": "x",
         "y": [
          4521.809378371168,
          4525.036501856619
         ],
         "yaxis": "y"
        },
        {
         "hovertemplate": "timestamp=2024-10-11 12:21:35+00:00<br>index=%{x}<br>value=%{y}<extra></extra>",
         "legendgroup": "2024-10-11 12:21:35+00:00",
         "line": {
          "color": "#ab63fa",
          "dash": "solid"
         },
         "marker": {
          "symbol": "circle"
         },
         "mode": "lines",
         "name": "2024-10-11 12:21:35+00:00",
         "orientation": "v",
         "showlegend": true,
         "type": "scatter",
         "x": [
          0,
          1
         ],
         "xaxis": "x",
         "y": [
          4521.112167234627,
          4524.835426963162
         ],
         "yaxis": "y"
        },
        {
         "hovertemplate": "timestamp=2024-10-11 16:02:35+00:00<br>index=%{x}<br>value=%{y}<extra></extra>",
         "legendgroup": "2024-10-11 16:02:35+00:00",
         "line": {
          "color": "#FFA15A",
          "dash": "solid"
         },
         "marker": {
          "symbol": "circle"
         },
         "mode": "lines",
         "name": "2024-10-11 16:02:35+00:00",
         "orientation": "v",
         "showlegend": true,
         "type": "scatter",
         "x": [
          0,
          1
         ],
         "xaxis": "x",
         "y": [
          4535.950147980839,
          4539.882657400939
         ],
         "yaxis": "y"
        },
        {
         "hovertemplate": "timestamp=2024-10-11 19:42:47+00:00<br>index=%{x}<br>value=%{y}<extra></extra>",
         "legendgroup": "2024-10-11 19:42:47+00:00",
         "line": {
          "color": "#19d3f3",
          "dash": "solid"
         },
         "marker": {
          "symbol": "circle"
         },
         "mode": "lines",
         "name": "2024-10-11 19:42:47+00:00",
         "orientation": "v",
         "showlegend": true,
         "type": "scatter",
         "x": [
          0,
          1
         ],
         "xaxis": "x",
         "y": [
          4535.935599146501,
          4539.861953975793
         ],
         "yaxis": "y"
        },
        {
         "hovertemplate": "timestamp=2024-10-11 23:23:35+00:00<br>index=%{x}<br>value=%{y}<extra></extra>",
         "legendgroup": "2024-10-11 23:23:35+00:00",
         "line": {
          "color": "#FF6692",
          "dash": "solid"
         },
         "marker": {
          "symbol": "circle"
         },
         "mode": "lines",
         "name": "2024-10-11 23:23:35+00:00",
         "orientation": "v",
         "showlegend": true,
         "type": "scatter",
         "x": [
          0,
          1
         ],
         "xaxis": "x",
         "y": [
          4535.948964419786,
          4539.855372285148
         ],
         "yaxis": "y"
        },
        {
         "hovertemplate": "timestamp=2024-10-12 03:04:23+00:00<br>index=%{x}<br>value=%{y}<extra></extra>",
         "legendgroup": "2024-10-12 03:04:23+00:00",
         "line": {
          "color": "#B6E880",
          "dash": "solid"
         },
         "marker": {
          "symbol": "circle"
         },
         "mode": "lines",
         "name": "2024-10-12 03:04:23+00:00",
         "orientation": "v",
         "showlegend": true,
         "type": "scatter",
         "x": [
          0,
          1
         ],
         "xaxis": "x",
         "y": [
          4535.904769964961,
          4539.84562615345
         ],
         "yaxis": "y"
        },
        {
         "hovertemplate": "timestamp=2024-10-12 06:44:47+00:00<br>index=%{x}<br>value=%{y}<extra></extra>",
         "legendgroup": "2024-10-12 06:44:47+00:00",
         "line": {
          "color": "#FF97FF",
          "dash": "solid"
         },
         "marker": {
          "symbol": "circle"
         },
         "mode": "lines",
         "name": "2024-10-12 06:44:47+00:00",
         "orientation": "v",
         "showlegend": true,
         "type": "scatter",
         "x": [
          0,
          1
         ],
         "xaxis": "x",
         "y": [
          4535.898918167357,
          4539.840142610699
         ],
         "yaxis": "y"
        },
        {
         "hovertemplate": "timestamp=2024-10-12 10:26:35+00:00<br>index=%{x}<br>value=%{y}<extra></extra>",
         "legendgroup": "2024-10-12 10:26:35+00:00",
         "line": {
          "color": "#FECB52",
          "dash": "solid"
         },
         "marker": {
          "symbol": "circle"
         },
         "mode": "lines",
         "name": "2024-10-12 10:26:35+00:00",
         "orientation": "v",
         "showlegend": true,
         "type": "scatter",
         "x": [
          0,
          1
         ],
         "xaxis": "x",
         "y": [
          4537.702782292926,
          4540.266358156691
         ],
         "yaxis": "y"
        },
        {
         "hovertemplate": "timestamp=2024-10-12 14:06:59+00:00<br>index=%{x}<br>value=%{y}<extra></extra>",
         "legendgroup": "2024-10-12 14:06:59+00:00",
         "line": {
          "color": "#636efa",
          "dash": "solid"
         },
         "marker": {
          "symbol": "circle"
         },
         "mode": "lines",
         "name": "2024-10-12 14:06:59+00:00",
         "orientation": "v",
         "showlegend": true,
         "type": "scatter",
         "x": [
          0,
          1
         ],
         "xaxis": "x",
         "y": [
          4537.692249776806,
          4540.262500321425
         ],
         "yaxis": "y"
        },
        {
         "hovertemplate": "timestamp=2024-10-12 17:46:59+00:00<br>index=%{x}<br>value=%{y}<extra></extra>",
         "legendgroup": "2024-10-12 17:46:59+00:00",
         "line": {
          "color": "#EF553B",
          "dash": "solid"
         },
         "marker": {
          "symbol": "circle"
         },
         "mode": "lines",
         "name": "2024-10-12 17:46:59+00:00",
         "orientation": "v",
         "showlegend": true,
         "type": "scatter",
         "x": [
          0,
          1
         ],
         "xaxis": "x",
         "y": [
          4538.244775148845,
          4540.824703424412
         ],
         "yaxis": "y"
        },
        {
         "hovertemplate": "timestamp=2024-10-12 21:27:35+00:00<br>index=%{x}<br>value=%{y}<extra></extra>",
         "legendgroup": "2024-10-12 21:27:35+00:00",
         "line": {
          "color": "#00cc96",
          "dash": "solid"
         },
         "marker": {
          "symbol": "circle"
         },
         "mode": "lines",
         "name": "2024-10-12 21:27:35+00:00",
         "orientation": "v",
         "showlegend": true,
         "type": "scatter",
         "x": [
          0,
          1
         ],
         "xaxis": "x",
         "y": [
          4538.241701463783,
          4540.8218116964
         ],
         "yaxis": "y"
        },
        {
         "hovertemplate": "timestamp=2024-10-13 01:07:59+00:00<br>index=%{x}<br>value=%{y}<extra></extra>",
         "legendgroup": "2024-10-13 01:07:59+00:00",
         "line": {
          "color": "#ab63fa",
          "dash": "solid"
         },
         "marker": {
          "symbol": "circle"
         },
         "mode": "lines",
         "name": "2024-10-13 01:07:59+00:00",
         "orientation": "v",
         "showlegend": true,
         "type": "scatter",
         "x": [
          0,
          1
         ],
         "xaxis": "x",
         "y": [
          4548.775212801071,
          4551.391851596443
         ],
         "yaxis": "y"
        },
        {
         "hovertemplate": "timestamp=2024-10-13 04:50:11+00:00<br>index=%{x}<br>value=%{y}<extra></extra>",
         "legendgroup": "2024-10-13 04:50:11+00:00",
         "line": {
          "color": "#FFA15A",
          "dash": "solid"
         },
         "marker": {
          "symbol": "circle"
         },
         "mode": "lines",
         "name": "2024-10-13 04:50:11+00:00",
         "orientation": "v",
         "showlegend": true,
         "type": "scatter",
         "x": [
          0,
          1
         ],
         "xaxis": "x",
         "y": [
          4548.745743992848,
          4551.432690279033
         ],
         "yaxis": "y"
        },
        {
         "hovertemplate": "timestamp=2024-10-13 08:32:47+00:00<br>index=%{x}<br>value=%{y}<extra></extra>",
         "legendgroup": "2024-10-13 08:32:47+00:00",
         "line": {
          "color": "#19d3f3",
          "dash": "solid"
         },
         "marker": {
          "symbol": "circle"
         },
         "mode": "lines",
         "name": "2024-10-13 08:32:47+00:00",
         "orientation": "v",
         "showlegend": true,
         "type": "scatter",
         "x": [
          0,
          1
         ],
         "xaxis": "x",
         "y": [
          4648.717188489507,
          4651.530394407584
         ],
         "yaxis": "y"
        },
        {
         "hovertemplate": "timestamp=2024-10-13 12:14:23+00:00<br>index=%{x}<br>value=%{y}<extra></extra>",
         "legendgroup": "2024-10-13 12:14:23+00:00",
         "line": {
          "color": "#FF6692",
          "dash": "solid"
         },
         "marker": {
          "symbol": "circle"
         },
         "mode": "lines",
         "name": "2024-10-13 12:14:23+00:00",
         "orientation": "v",
         "showlegend": true,
         "type": "scatter",
         "x": [
          0,
          1
         ],
         "xaxis": "x",
         "y": [
          4648.733215242946,
          4651.563839900805
         ],
         "yaxis": "y"
        },
        {
         "hovertemplate": "timestamp=2024-10-13 15:54:11+00:00<br>index=%{x}<br>value=%{y}<extra></extra>",
         "legendgroup": "2024-10-13 15:54:11+00:00",
         "line": {
          "color": "#B6E880",
          "dash": "solid"
         },
         "marker": {
          "symbol": "circle"
         },
         "mode": "lines",
         "name": "2024-10-13 15:54:11+00:00",
         "orientation": "v",
         "showlegend": true,
         "type": "scatter",
         "x": [
          0,
          1
         ],
         "xaxis": "x",
         "y": [
          4648.727187658498,
          4651.573742872031
         ],
         "yaxis": "y"
        },
        {
         "hovertemplate": "timestamp=2024-10-13 19:34:11+00:00<br>index=%{x}<br>value=%{y}<extra></extra>",
         "legendgroup": "2024-10-13 19:34:11+00:00",
         "line": {
          "color": "#FF97FF",
          "dash": "solid"
         },
         "marker": {
          "symbol": "circle"
         },
         "mode": "lines",
         "name": "2024-10-13 19:34:11+00:00",
         "orientation": "v",
         "showlegend": true,
         "type": "scatter",
         "x": [
          0,
          1
         ],
         "xaxis": "x",
         "y": [
          4648.706015435864,
          4651.565151898511
         ],
         "yaxis": "y"
        },
        {
         "hovertemplate": "timestamp=2024-10-13 23:14:47+00:00<br>index=%{x}<br>value=%{y}<extra></extra>",
         "legendgroup": "2024-10-13 23:14:47+00:00",
         "line": {
          "color": "#FECB52",
          "dash": "solid"
         },
         "marker": {
          "symbol": "circle"
         },
         "mode": "lines",
         "name": "2024-10-13 23:14:47+00:00",
         "orientation": "v",
         "showlegend": true,
         "type": "scatter",
         "x": [
          0,
          1
         ],
         "xaxis": "x",
         "y": [
          4649.7418576611335,
          4652.638910240134
         ],
         "yaxis": "y"
        },
        {
         "hovertemplate": "timestamp=2024-10-14 02:54:59+00:00<br>index=%{x}<br>value=%{y}<extra></extra>",
         "legendgroup": "2024-10-14 02:54:59+00:00",
         "line": {
          "color": "#636efa",
          "dash": "solid"
         },
         "marker": {
          "symbol": "circle"
         },
         "mode": "lines",
         "name": "2024-10-14 02:54:59+00:00",
         "orientation": "v",
         "showlegend": true,
         "type": "scatter",
         "x": [
          0,
          1
         ],
         "xaxis": "x",
         "y": [
          4650.725275560443,
          4653.639863260996
         ],
         "yaxis": "y"
        },
        {
         "hovertemplate": "timestamp=2024-10-14 06:34:47+00:00<br>index=%{x}<br>value=%{y}<extra></extra>",
         "legendgroup": "2024-10-14 06:34:47+00:00",
         "line": {
          "color": "#EF553B",
          "dash": "solid"
         },
         "marker": {
          "symbol": "circle"
         },
         "mode": "lines",
         "name": "2024-10-14 06:34:47+00:00",
         "orientation": "v",
         "showlegend": true,
         "type": "scatter",
         "x": [
          0,
          1
         ],
         "xaxis": "x",
         "y": [
          4650.723303951166,
          4653.62346317656
         ],
         "yaxis": "y"
        },
        {
         "hovertemplate": "timestamp=2024-10-14 10:16:11+00:00<br>index=%{x}<br>value=%{y}<extra></extra>",
         "legendgroup": "2024-10-14 10:16:11+00:00",
         "line": {
          "color": "#00cc96",
          "dash": "solid"
         },
         "marker": {
          "symbol": "circle"
         },
         "mode": "lines",
         "name": "2024-10-14 10:16:11+00:00",
         "orientation": "v",
         "showlegend": true,
         "type": "scatter",
         "x": [
          0,
          1
         ],
         "xaxis": "x",
         "y": [
          4798.04042704344,
          4800.655677979446
         ],
         "yaxis": "y"
        },
        {
         "hovertemplate": "timestamp=2024-10-14 13:57:11+00:00<br>index=%{x}<br>value=%{y}<extra></extra>",
         "legendgroup": "2024-10-14 13:57:11+00:00",
         "line": {
          "color": "#ab63fa",
          "dash": "solid"
         },
         "marker": {
          "symbol": "circle"
         },
         "mode": "lines",
         "name": "2024-10-14 13:57:11+00:00",
         "orientation": "v",
         "showlegend": true,
         "type": "scatter",
         "x": [
          0,
          1
         ],
         "xaxis": "x",
         "y": [
          4798.02887819422,
          4800.676276818703
         ],
         "yaxis": "y"
        },
        {
         "hovertemplate": "timestamp=2024-10-14 17:36:59+00:00<br>index=%{x}<br>value=%{y}<extra></extra>",
         "legendgroup": "2024-10-14 17:36:59+00:00",
         "line": {
          "color": "#FFA15A",
          "dash": "solid"
         },
         "marker": {
          "symbol": "circle"
         },
         "mode": "lines",
         "name": "2024-10-14 17:36:59+00:00",
         "orientation": "v",
         "showlegend": true,
         "type": "scatter",
         "x": [
          0,
          1
         ],
         "xaxis": "x",
         "y": [
          4798.007133172279,
          4800.687192457071
         ],
         "yaxis": "y"
        },
        {
         "hovertemplate": "timestamp=2024-10-14 21:17:23+00:00<br>index=%{x}<br>value=%{y}<extra></extra>",
         "legendgroup": "2024-10-14 21:17:23+00:00",
         "line": {
          "color": "#19d3f3",
          "dash": "solid"
         },
         "marker": {
          "symbol": "circle"
         },
         "mode": "lines",
         "name": "2024-10-14 21:17:23+00:00",
         "orientation": "v",
         "showlegend": true,
         "type": "scatter",
         "x": [
          0,
          1
         ],
         "xaxis": "x",
         "y": [
          4797.983245953367,
          4800.678508014504
         ],
         "yaxis": "y"
        },
        {
         "hovertemplate": "timestamp=2024-10-15 00:57:23+00:00<br>index=%{x}<br>value=%{y}<extra></extra>",
         "legendgroup": "2024-10-15 00:57:23+00:00",
         "line": {
          "color": "#FF6692",
          "dash": "solid"
         },
         "marker": {
          "symbol": "circle"
         },
         "mode": "lines",
         "name": "2024-10-15 00:57:23+00:00",
         "orientation": "v",
         "showlegend": true,
         "type": "scatter",
         "x": [
          0,
          1
         ],
         "xaxis": "x",
         "y": [
          4808.629890822283,
          4811.355820504568
         ],
         "yaxis": "y"
        },
        {
         "hovertemplate": "timestamp=2024-10-15 04:37:47+00:00<br>index=%{x}<br>value=%{y}<extra></extra>",
         "legendgroup": "2024-10-15 04:37:47+00:00",
         "line": {
          "color": "#B6E880",
          "dash": "solid"
         },
         "marker": {
          "symbol": "circle"
         },
         "mode": "lines",
         "name": "2024-10-15 04:37:47+00:00",
         "orientation": "v",
         "showlegend": true,
         "type": "scatter",
         "x": [
          0,
          1
         ],
         "xaxis": "x",
         "y": [
          4808.600127145308,
          4811.374625649476
         ],
         "yaxis": "y"
        },
        {
         "hovertemplate": "timestamp=2024-10-15 08:17:23+00:00<br>index=%{x}<br>value=%{y}<extra></extra>",
         "legendgroup": "2024-10-15 08:17:23+00:00",
         "line": {
          "color": "#FF97FF",
          "dash": "solid"
         },
         "marker": {
          "symbol": "circle"
         },
         "mode": "lines",
         "name": "2024-10-15 08:17:23+00:00",
         "orientation": "v",
         "showlegend": true,
         "type": "scatter",
         "x": [
          0,
          1
         ],
         "xaxis": "x",
         "y": [
          4808.610814601774,
          4811.399924906665
         ],
         "yaxis": "y"
        },
        {
         "hovertemplate": "timestamp=2024-10-15 11:57:59+00:00<br>index=%{x}<br>value=%{y}<extra></extra>",
         "legendgroup": "2024-10-15 11:57:59+00:00",
         "line": {
          "color": "#FECB52",
          "dash": "solid"
         },
         "marker": {
          "symbol": "circle"
         },
         "mode": "lines",
         "name": "2024-10-15 11:57:59+00:00",
         "orientation": "v",
         "showlegend": true,
         "type": "scatter",
         "x": [
          0,
          1
         ],
         "xaxis": "x",
         "y": [
          4668.754677090775,
          4671.304821343174
         ],
         "yaxis": "y"
        },
        {
         "hovertemplate": "timestamp=2024-10-15 15:38:35+00:00<br>index=%{x}<br>value=%{y}<extra></extra>",
         "legendgroup": "2024-10-15 15:38:35+00:00",
         "line": {
          "color": "#636efa",
          "dash": "solid"
         },
         "marker": {
          "symbol": "circle"
         },
         "mode": "lines",
         "name": "2024-10-15 15:38:35+00:00",
         "orientation": "v",
         "showlegend": true,
         "type": "scatter",
         "x": [
          0,
          1
         ],
         "xaxis": "x",
         "y": [
          4668.724699586218,
          4671.404151838198
         ],
         "yaxis": "y"
        },
        {
         "hovertemplate": "timestamp=2024-10-15 19:18:59+00:00<br>index=%{x}<br>value=%{y}<extra></extra>",
         "legendgroup": "2024-10-15 19:18:59+00:00",
         "line": {
          "color": "#EF553B",
          "dash": "solid"
         },
         "marker": {
          "symbol": "circle"
         },
         "mode": "lines",
         "name": "2024-10-15 19:18:59+00:00",
         "orientation": "v",
         "showlegend": true,
         "type": "scatter",
         "x": [
          0,
          1
         ],
         "xaxis": "x",
         "y": [
          4668.660672180905,
          4671.391246010926
         ],
         "yaxis": "y"
        },
        {
         "hovertemplate": "timestamp=2024-10-15 22:59:11+00:00<br>index=%{x}<br>value=%{y}<extra></extra>",
         "legendgroup": "2024-10-15 22:59:11+00:00",
         "line": {
          "color": "#00cc96",
          "dash": "solid"
         },
         "marker": {
          "symbol": "circle"
         },
         "mode": "lines",
         "name": "2024-10-15 22:59:11+00:00",
         "orientation": "v",
         "showlegend": true,
         "type": "scatter",
         "x": [
          0,
          1
         ],
         "xaxis": "x",
         "y": [
          4675.832695594768,
          4678.587663912988
         ],
         "yaxis": "y"
        },
        {
         "hovertemplate": "timestamp=2024-10-16 02:39:59+00:00<br>index=%{x}<br>value=%{y}<extra></extra>",
         "legendgroup": "2024-10-16 02:39:59+00:00",
         "line": {
          "color": "#ab63fa",
          "dash": "solid"
         },
         "marker": {
          "symbol": "circle"
         },
         "mode": "lines",
         "name": "2024-10-16 02:39:59+00:00",
         "orientation": "v",
         "showlegend": true,
         "type": "scatter",
         "x": [
          0,
          1
         ],
         "xaxis": "x",
         "y": [
          4643.668223007872,
          4646.413148315134
         ],
         "yaxis": "y"
        },
        {
         "hovertemplate": "timestamp=2024-10-16 06:19:59+00:00<br>index=%{x}<br>value=%{y}<extra></extra>",
         "legendgroup": "2024-10-16 06:19:59+00:00",
         "line": {
          "color": "#FFA15A",
          "dash": "solid"
         },
         "marker": {
          "symbol": "circle"
         },
         "mode": "lines",
         "name": "2024-10-16 06:19:59+00:00",
         "orientation": "v",
         "showlegend": true,
         "type": "scatter",
         "x": [
          0,
          1
         ],
         "xaxis": "x",
         "y": [
          4697.632415552628,
          4700.425442916012
         ],
         "yaxis": "y"
        },
        {
         "hovertemplate": "timestamp=2024-10-16 09:59:59+00:00<br>index=%{x}<br>value=%{y}<extra></extra>",
         "legendgroup": "2024-10-16 09:59:59+00:00",
         "line": {
          "color": "#19d3f3",
          "dash": "solid"
         },
         "marker": {
          "symbol": "circle"
         },
         "mode": "lines",
         "name": "2024-10-16 09:59:59+00:00",
         "orientation": "v",
         "showlegend": true,
         "type": "scatter",
         "x": [
          0,
          1
         ],
         "xaxis": "x",
         "y": [
          4697.387761968188,
          4700.35069282495
         ],
         "yaxis": "y"
        },
        {
         "hovertemplate": "timestamp=2024-10-16 13:40:11+00:00<br>index=%{x}<br>value=%{y}<extra></extra>",
         "legendgroup": "2024-10-16 13:40:11+00:00",
         "line": {
          "color": "#FF6692",
          "dash": "solid"
         },
         "marker": {
          "symbol": "circle"
         },
         "mode": "lines",
         "name": "2024-10-16 13:40:11+00:00",
         "orientation": "v",
         "showlegend": true,
         "type": "scatter",
         "x": [
          0,
          1
         ],
         "xaxis": "x",
         "y": [
          4697.335573605251,
          4700.37610416572
         ],
         "yaxis": "y"
        },
        {
         "hovertemplate": "timestamp=2024-10-16 17:20:11+00:00<br>index=%{x}<br>value=%{y}<extra></extra>",
         "legendgroup": "2024-10-16 17:20:11+00:00",
         "line": {
          "color": "#B6E880",
          "dash": "solid"
         },
         "marker": {
          "symbol": "circle"
         },
         "mode": "lines",
         "name": "2024-10-16 17:20:11+00:00",
         "orientation": "v",
         "showlegend": true,
         "type": "scatter",
         "x": [
          0,
          1
         ],
         "xaxis": "x",
         "y": [
          4698.805765936673,
          4701.8887305688195
         ],
         "yaxis": "y"
        },
        {
         "hovertemplate": "timestamp=2024-10-16 21:00:23+00:00<br>index=%{x}<br>value=%{y}<extra></extra>",
         "legendgroup": "2024-10-16 21:00:23+00:00",
         "line": {
          "color": "#FF97FF",
          "dash": "solid"
         },
         "marker": {
          "symbol": "circle"
         },
         "mode": "lines",
         "name": "2024-10-16 21:00:23+00:00",
         "orientation": "v",
         "showlegend": true,
         "type": "scatter",
         "x": [
          0,
          1
         ],
         "xaxis": "x",
         "y": [
          4698.739580830152,
          4701.929562834311
         ],
         "yaxis": "y"
        },
        {
         "hovertemplate": "timestamp=2024-10-17 00:40:59+00:00<br>index=%{x}<br>value=%{y}<extra></extra>",
         "legendgroup": "2024-10-17 00:40:59+00:00",
         "line": {
          "color": "#FECB52",
          "dash": "solid"
         },
         "marker": {
          "symbol": "circle"
         },
         "mode": "lines",
         "name": "2024-10-17 00:40:59+00:00",
         "orientation": "v",
         "showlegend": true,
         "type": "scatter",
         "x": [
          0,
          1
         ],
         "xaxis": "x",
         "y": [
          4699.321084195391,
          4702.513752740792
         ],
         "yaxis": "y"
        },
        {
         "hovertemplate": "timestamp=2024-10-17 04:21:11+00:00<br>index=%{x}<br>value=%{y}<extra></extra>",
         "legendgroup": "2024-10-17 04:21:11+00:00",
         "line": {
          "color": "#636efa",
          "dash": "solid"
         },
         "marker": {
          "symbol": "circle"
         },
         "mode": "lines",
         "name": "2024-10-17 04:21:11+00:00",
         "orientation": "v",
         "showlegend": true,
         "type": "scatter",
         "x": [
          0,
          1
         ],
         "xaxis": "x",
         "y": [
          4699.155096362151,
          4702.523509428816
         ],
         "yaxis": "y"
        },
        {
         "hovertemplate": "timestamp=2024-10-17 08:01:11+00:00<br>index=%{x}<br>value=%{y}<extra></extra>",
         "legendgroup": "2024-10-17 08:01:11+00:00",
         "line": {
          "color": "#EF553B",
          "dash": "solid"
         },
         "marker": {
          "symbol": "circle"
         },
         "mode": "lines",
         "name": "2024-10-17 08:01:11+00:00",
         "orientation": "v",
         "showlegend": true,
         "type": "scatter",
         "x": [
          0,
          1
         ],
         "xaxis": "x",
         "y": [
          4699.092605519609,
          4702.967307254525
         ],
         "yaxis": "y"
        },
        {
         "hovertemplate": "timestamp=2024-10-17 11:40:47+00:00<br>index=%{x}<br>value=%{y}<extra></extra>",
         "legendgroup": "2024-10-17 11:40:47+00:00",
         "line": {
          "color": "#00cc96",
          "dash": "solid"
         },
         "marker": {
          "symbol": "circle"
         },
         "mode": "lines",
         "name": "2024-10-17 11:40:47+00:00",
         "orientation": "v",
         "showlegend": true,
         "type": "scatter",
         "x": [
          0,
          1
         ],
         "xaxis": "x",
         "y": [
          4699.979123580656,
          4703.197636216328
         ],
         "yaxis": "y"
        },
        {
         "hovertemplate": "timestamp=2024-10-17 15:21:11+00:00<br>index=%{x}<br>value=%{y}<extra></extra>",
         "legendgroup": "2024-10-17 15:21:11+00:00",
         "line": {
          "color": "#ab63fa",
          "dash": "solid"
         },
         "marker": {
          "symbol": "circle"
         },
         "mode": "lines",
         "name": "2024-10-17 15:21:11+00:00",
         "orientation": "v",
         "showlegend": true,
         "type": "scatter",
         "x": [
          0,
          1
         ],
         "xaxis": "x",
         "y": [
          4700.395313129006,
          4703.649734905763
         ],
         "yaxis": "y"
        },
        {
         "hovertemplate": "timestamp=2024-10-17 19:01:23+00:00<br>index=%{x}<br>value=%{y}<extra></extra>",
         "legendgroup": "2024-10-17 19:01:23+00:00",
         "line": {
          "color": "#FFA15A",
          "dash": "solid"
         },
         "marker": {
          "symbol": "circle"
         },
         "mode": "lines",
         "name": "2024-10-17 19:01:23+00:00",
         "orientation": "v",
         "showlegend": true,
         "type": "scatter",
         "x": [
          0,
          1
         ],
         "xaxis": "x",
         "y": [
          4700.534064498519,
          4703.7438578373885
         ],
         "yaxis": "y"
        },
        {
         "hovertemplate": "timestamp=2024-10-17 22:41:35+00:00<br>index=%{x}<br>value=%{y}<extra></extra>",
         "legendgroup": "2024-10-17 22:41:35+00:00",
         "line": {
          "color": "#19d3f3",
          "dash": "solid"
         },
         "marker": {
          "symbol": "circle"
         },
         "mode": "lines",
         "name": "2024-10-17 22:41:35+00:00",
         "orientation": "v",
         "showlegend": true,
         "type": "scatter",
         "x": [
          0,
          1
         ],
         "xaxis": "x",
         "y": [
          4700.452280157368,
          4703.714640939257
         ],
         "yaxis": "y"
        },
        {
         "hovertemplate": "timestamp=2024-10-18 02:21:35+00:00<br>index=%{x}<br>value=%{y}<extra></extra>",
         "legendgroup": "2024-10-18 02:21:35+00:00",
         "line": {
          "color": "#FF6692",
          "dash": "solid"
         },
         "marker": {
          "symbol": "circle"
         },
         "mode": "lines",
         "name": "2024-10-18 02:21:35+00:00",
         "orientation": "v",
         "showlegend": true,
         "type": "scatter",
         "x": [
          0,
          1
         ],
         "xaxis": "x",
         "y": [
          4700.443690051771,
          4703.712012288802
         ],
         "yaxis": "y"
        },
        {
         "hovertemplate": "timestamp=2024-10-18 06:01:59+00:00<br>index=%{x}<br>value=%{y}<extra></extra>",
         "legendgroup": "2024-10-18 06:01:59+00:00",
         "line": {
          "color": "#B6E880",
          "dash": "solid"
         },
         "marker": {
          "symbol": "circle"
         },
         "mode": "lines",
         "name": "2024-10-18 06:01:59+00:00",
         "orientation": "v",
         "showlegend": true,
         "type": "scatter",
         "x": [
          0,
          1
         ],
         "xaxis": "x",
         "y": [
          4700.318099993904,
          4703.739443286766
         ],
         "yaxis": "y"
        },
        {
         "hovertemplate": "timestamp=2024-10-18 09:42:11+00:00<br>index=%{x}<br>value=%{y}<extra></extra>",
         "legendgroup": "2024-10-18 09:42:11+00:00",
         "line": {
          "color": "#FF97FF",
          "dash": "solid"
         },
         "marker": {
          "symbol": "circle"
         },
         "mode": "lines",
         "name": "2024-10-18 09:42:11+00:00",
         "orientation": "v",
         "showlegend": true,
         "type": "scatter",
         "x": [
          0,
          1
         ],
         "xaxis": "x",
         "y": [
          4700.747001995362,
          4703.846482866312
         ],
         "yaxis": "y"
        },
        {
         "hovertemplate": "timestamp=2024-10-18 13:21:47+00:00<br>index=%{x}<br>value=%{y}<extra></extra>",
         "legendgroup": "2024-10-18 13:21:47+00:00",
         "line": {
          "color": "#FECB52",
          "dash": "solid"
         },
         "marker": {
          "symbol": "circle"
         },
         "mode": "lines",
         "name": "2024-10-18 13:21:47+00:00",
         "orientation": "v",
         "showlegend": true,
         "type": "scatter",
         "x": [
          0,
          1
         ],
         "xaxis": "x",
         "y": [
          4700.740063009231,
          4703.8379844942665
         ],
         "yaxis": "y"
        },
        {
         "hovertemplate": "timestamp=2024-10-18 17:02:11+00:00<br>index=%{x}<br>value=%{y}<extra></extra>",
         "legendgroup": "2024-10-18 17:02:11+00:00",
         "line": {
          "color": "#636efa",
          "dash": "solid"
         },
         "marker": {
          "symbol": "circle"
         },
         "mode": "lines",
         "name": "2024-10-18 17:02:11+00:00",
         "orientation": "v",
         "showlegend": true,
         "type": "scatter",
         "x": [
          0,
          1
         ],
         "xaxis": "x",
         "y": [
          4351.14408783473,
          4353.906515226348
         ],
         "yaxis": "y"
        },
        {
         "hovertemplate": "timestamp=2024-10-18 20:41:47+00:00<br>index=%{x}<br>value=%{y}<extra></extra>",
         "legendgroup": "2024-10-18 20:41:47+00:00",
         "line": {
          "color": "#EF553B",
          "dash": "solid"
         },
         "marker": {
          "symbol": "circle"
         },
         "mode": "lines",
         "name": "2024-10-18 20:41:47+00:00",
         "orientation": "v",
         "showlegend": true,
         "type": "scatter",
         "x": [
          0,
          1
         ],
         "xaxis": "x",
         "y": [
          4361.198826437252,
          4363.990711901437
         ],
         "yaxis": "y"
        },
        {
         "hovertemplate": "timestamp=2024-10-19 00:21:47+00:00<br>index=%{x}<br>value=%{y}<extra></extra>",
         "legendgroup": "2024-10-19 00:21:47+00:00",
         "line": {
          "color": "#00cc96",
          "dash": "solid"
         },
         "marker": {
          "symbol": "circle"
         },
         "mode": "lines",
         "name": "2024-10-19 00:21:47+00:00",
         "orientation": "v",
         "showlegend": true,
         "type": "scatter",
         "x": [
          0,
          1
         ],
         "xaxis": "x",
         "y": [
          4428.060649790987,
          4430.951397561794
         ],
         "yaxis": "y"
        },
        {
         "hovertemplate": "timestamp=2024-10-19 04:01:47+00:00<br>index=%{x}<br>value=%{y}<extra></extra>",
         "legendgroup": "2024-10-19 04:01:47+00:00",
         "line": {
          "color": "#ab63fa",
          "dash": "solid"
         },
         "marker": {
          "symbol": "circle"
         },
         "mode": "lines",
         "name": "2024-10-19 04:01:47+00:00",
         "orientation": "v",
         "showlegend": true,
         "type": "scatter",
         "x": [
          0,
          1
         ],
         "xaxis": "x",
         "y": [
          4428.409762605532,
          4431.358151741247
         ],
         "yaxis": "y"
        },
        {
         "hovertemplate": "timestamp=2024-10-19 07:42:23+00:00<br>index=%{x}<br>value=%{y}<extra></extra>",
         "legendgroup": "2024-10-19 07:42:23+00:00",
         "line": {
          "color": "#FFA15A",
          "dash": "solid"
         },
         "marker": {
          "symbol": "circle"
         },
         "mode": "lines",
         "name": "2024-10-19 07:42:23+00:00",
         "orientation": "v",
         "showlegend": true,
         "type": "scatter",
         "x": [
          0,
          1
         ],
         "xaxis": "x",
         "y": [
          4428.355566582755,
          4431.335517764401
         ],
         "yaxis": "y"
        },
        {
         "hovertemplate": "timestamp=2024-10-19 11:21:59+00:00<br>index=%{x}<br>value=%{y}<extra></extra>",
         "legendgroup": "2024-10-19 11:21:59+00:00",
         "line": {
          "color": "#19d3f3",
          "dash": "solid"
         },
         "marker": {
          "symbol": "circle"
         },
         "mode": "lines",
         "name": "2024-10-19 11:21:59+00:00",
         "orientation": "v",
         "showlegend": true,
         "type": "scatter",
         "x": [
          0,
          1
         ],
         "xaxis": "x",
         "y": [
          4428.356700297365,
          4431.344032775145
         ],
         "yaxis": "y"
        },
        {
         "hovertemplate": "timestamp=2024-10-19 15:01:59+00:00<br>index=%{x}<br>value=%{y}<extra></extra>",
         "legendgroup": "2024-10-19 15:01:59+00:00",
         "line": {
          "color": "#FF6692",
          "dash": "solid"
         },
         "marker": {
          "symbol": "circle"
         },
         "mode": "lines",
         "name": "2024-10-19 15:01:59+00:00",
         "orientation": "v",
         "showlegend": true,
         "type": "scatter",
         "x": [
          0,
          1
         ],
         "xaxis": "x",
         "y": [
          4489.456433210866,
          4492.481250351915
         ],
         "yaxis": "y"
        },
        {
         "hovertemplate": "timestamp=2024-10-19 18:41:47+00:00<br>index=%{x}<br>value=%{y}<extra></extra>",
         "legendgroup": "2024-10-19 18:41:47+00:00",
         "line": {
          "color": "#B6E880",
          "dash": "solid"
         },
         "marker": {
          "symbol": "circle"
         },
         "mode": "lines",
         "name": "2024-10-19 18:41:47+00:00",
         "orientation": "v",
         "showlegend": true,
         "type": "scatter",
         "x": [
          0,
          1
         ],
         "xaxis": "x",
         "y": [
          4490.001581684285,
          4492.512548260752
         ],
         "yaxis": "y"
        },
        {
         "hovertemplate": "timestamp=2024-10-19 22:21:23+00:00<br>index=%{x}<br>value=%{y}<extra></extra>",
         "legendgroup": "2024-10-19 22:21:23+00:00",
         "line": {
          "color": "#FF97FF",
          "dash": "solid"
         },
         "marker": {
          "symbol": "circle"
         },
         "mode": "lines",
         "name": "2024-10-19 22:21:23+00:00",
         "orientation": "v",
         "showlegend": true,
         "type": "scatter",
         "x": [
          0,
          1
         ],
         "xaxis": "x",
         "y": [
          4489.799100997572,
          4492.338526765929
         ],
         "yaxis": "y"
        },
        {
         "hovertemplate": "timestamp=2024-10-20 02:00:47+00:00<br>index=%{x}<br>value=%{y}<extra></extra>",
         "legendgroup": "2024-10-20 02:00:47+00:00",
         "line": {
          "color": "#FECB52",
          "dash": "solid"
         },
         "marker": {
          "symbol": "circle"
         },
         "mode": "lines",
         "name": "2024-10-20 02:00:47+00:00",
         "orientation": "v",
         "showlegend": true,
         "type": "scatter",
         "x": [
          0,
          1
         ],
         "xaxis": "x",
         "y": [
          4489.745617186086,
          4492.377074283214
         ],
         "yaxis": "y"
        },
        {
         "hovertemplate": "timestamp=2024-10-20 05:40:47+00:00<br>index=%{x}<br>value=%{y}<extra></extra>",
         "legendgroup": "2024-10-20 05:40:47+00:00",
         "line": {
          "color": "#636efa",
          "dash": "solid"
         },
         "marker": {
          "symbol": "circle"
         },
         "mode": "lines",
         "name": "2024-10-20 05:40:47+00:00",
         "orientation": "v",
         "showlegend": true,
         "type": "scatter",
         "x": [
          0,
          1
         ],
         "xaxis": "x",
         "y": [
          4483.314868414506,
          4486.028406120833
         ],
         "yaxis": "y"
        },
        {
         "hovertemplate": "timestamp=2024-10-20 09:20:35+00:00<br>index=%{x}<br>value=%{y}<extra></extra>",
         "legendgroup": "2024-10-20 09:20:35+00:00",
         "line": {
          "color": "#EF553B",
          "dash": "solid"
         },
         "marker": {
          "symbol": "circle"
         },
         "mode": "lines",
         "name": "2024-10-20 09:20:35+00:00",
         "orientation": "v",
         "showlegend": true,
         "type": "scatter",
         "x": [
          0,
          1
         ],
         "xaxis": "x",
         "y": [
          4483.28188829995,
          4486.046110371961
         ],
         "yaxis": "y"
        },
        {
         "hovertemplate": "timestamp=2024-10-20 12:59:59+00:00<br>index=%{x}<br>value=%{y}<extra></extra>",
         "legendgroup": "2024-10-20 12:59:59+00:00",
         "line": {
          "color": "#00cc96",
          "dash": "solid"
         },
         "marker": {
          "symbol": "circle"
         },
         "mode": "lines",
         "name": "2024-10-20 12:59:59+00:00",
         "orientation": "v",
         "showlegend": true,
         "type": "scatter",
         "x": [
          0,
          1
         ],
         "xaxis": "x",
         "y": [
          4483.237032634206,
          4486.031194006618
         ],
         "yaxis": "y"
        },
        {
         "hovertemplate": "timestamp=2024-10-20 16:40:59+00:00<br>index=%{x}<br>value=%{y}<extra></extra>",
         "legendgroup": "2024-10-20 16:40:59+00:00",
         "line": {
          "color": "#ab63fa",
          "dash": "solid"
         },
         "marker": {
          "symbol": "circle"
         },
         "mode": "lines",
         "name": "2024-10-20 16:40:59+00:00",
         "orientation": "v",
         "showlegend": true,
         "type": "scatter",
         "x": [
          0,
          1
         ],
         "xaxis": "x",
         "y": [
          4483.639326896504,
          4486.229943390578
         ],
         "yaxis": "y"
        },
        {
         "hovertemplate": "timestamp=2024-10-20 20:20:47+00:00<br>index=%{x}<br>value=%{y}<extra></extra>",
         "legendgroup": "2024-10-20 20:20:47+00:00",
         "line": {
          "color": "#FFA15A",
          "dash": "solid"
         },
         "marker": {
          "symbol": "circle"
         },
         "mode": "lines",
         "name": "2024-10-20 20:20:47+00:00",
         "orientation": "v",
         "showlegend": true,
         "type": "scatter",
         "x": [
          0,
          1
         ],
         "xaxis": "x",
         "y": [
          4483.613260633716,
          4486.2212040922495
         ],
         "yaxis": "y"
        },
        {
         "hovertemplate": "timestamp=2024-10-21 00:00:59+00:00<br>index=%{x}<br>value=%{y}<extra></extra>",
         "legendgroup": "2024-10-21 00:00:59+00:00",
         "line": {
          "color": "#19d3f3",
          "dash": "solid"
         },
         "marker": {
          "symbol": "circle"
         },
         "mode": "lines",
         "name": "2024-10-21 00:00:59+00:00",
         "orientation": "v",
         "showlegend": true,
         "type": "scatter",
         "x": [
          0,
          1
         ],
         "xaxis": "x",
         "y": [
          4483.5966370674905,
          4486.237582644028
         ],
         "yaxis": "y"
        },
        {
         "hovertemplate": "timestamp=2024-10-21 03:41:35+00:00<br>index=%{x}<br>value=%{y}<extra></extra>",
         "legendgroup": "2024-10-21 03:41:35+00:00",
         "line": {
          "color": "#FF6692",
          "dash": "solid"
         },
         "marker": {
          "symbol": "circle"
         },
         "mode": "lines",
         "name": "2024-10-21 03:41:35+00:00",
         "orientation": "v",
         "showlegend": true,
         "type": "scatter",
         "x": [
          0,
          1
         ],
         "xaxis": "x",
         "y": [
          4483.708834821359,
          4486.382346267958
         ],
         "yaxis": "y"
        },
        {
         "hovertemplate": "timestamp=2024-10-21 07:21:35+00:00<br>index=%{x}<br>value=%{y}<extra></extra>",
         "legendgroup": "2024-10-21 07:21:35+00:00",
         "line": {
          "color": "#B6E880",
          "dash": "solid"
         },
         "marker": {
          "symbol": "circle"
         },
         "mode": "lines",
         "name": "2024-10-21 07:21:35+00:00",
         "orientation": "v",
         "showlegend": true,
         "type": "scatter",
         "x": [
          0,
          1
         ],
         "xaxis": "x",
         "y": [
          4483.695334838779,
          4486.377803418287
         ],
         "yaxis": "y"
        },
        {
         "hovertemplate": "timestamp=2024-10-21 11:00:59+00:00<br>index=%{x}<br>value=%{y}<extra></extra>",
         "legendgroup": "2024-10-21 11:00:59+00:00",
         "line": {
          "color": "#FF97FF",
          "dash": "solid"
         },
         "marker": {
          "symbol": "circle"
         },
         "mode": "lines",
         "name": "2024-10-21 11:00:59+00:00",
         "orientation": "v",
         "showlegend": true,
         "type": "scatter",
         "x": [
          0,
          1
         ],
         "xaxis": "x",
         "y": [
          4483.677724306253,
          4486.390517101307
         ],
         "yaxis": "y"
        },
        {
         "hovertemplate": "timestamp=2024-10-21 14:40:59+00:00<br>index=%{x}<br>value=%{y}<extra></extra>",
         "legendgroup": "2024-10-21 14:40:59+00:00",
         "line": {
          "color": "#FECB52",
          "dash": "solid"
         },
         "marker": {
          "symbol": "circle"
         },
         "mode": "lines",
         "name": "2024-10-21 14:40:59+00:00",
         "orientation": "v",
         "showlegend": true,
         "type": "scatter",
         "x": [
          0,
          1
         ],
         "xaxis": "x",
         "y": [
          4486.972018751192,
          4489.698424246212
         ],
         "yaxis": "y"
        },
        {
         "hovertemplate": "timestamp=2024-10-21 18:20:23+00:00<br>index=%{x}<br>value=%{y}<extra></extra>",
         "legendgroup": "2024-10-21 18:20:23+00:00",
         "line": {
          "color": "#636efa",
          "dash": "solid"
         },
         "marker": {
          "symbol": "circle"
         },
         "mode": "lines",
         "name": "2024-10-21 18:20:23+00:00",
         "orientation": "v",
         "showlegend": true,
         "type": "scatter",
         "x": [
          0,
          1
         ],
         "xaxis": "x",
         "y": [
          4487.174862675573,
          4489.836337941035
         ],
         "yaxis": "y"
        },
        {
         "hovertemplate": "timestamp=2024-10-21 22:00:35+00:00<br>index=%{x}<br>value=%{y}<extra></extra>",
         "legendgroup": "2024-10-21 22:00:35+00:00",
         "line": {
          "color": "#EF553B",
          "dash": "solid"
         },
         "marker": {
          "symbol": "circle"
         },
         "mode": "lines",
         "name": "2024-10-21 22:00:35+00:00",
         "orientation": "v",
         "showlegend": true,
         "type": "scatter",
         "x": [
          0,
          1
         ],
         "xaxis": "x",
         "y": [
          4501.042409708078,
          4503.708364990606
         ],
         "yaxis": "y"
        },
        {
         "hovertemplate": "timestamp=2024-10-22 01:40:59+00:00<br>index=%{x}<br>value=%{y}<extra></extra>",
         "legendgroup": "2024-10-22 01:40:59+00:00",
         "line": {
          "color": "#00cc96",
          "dash": "solid"
         },
         "marker": {
          "symbol": "circle"
         },
         "mode": "lines",
         "name": "2024-10-22 01:40:59+00:00",
         "orientation": "v",
         "showlegend": true,
         "type": "scatter",
         "x": [
          0,
          1
         ],
         "xaxis": "x",
         "y": [
          4501.023653911762,
          4503.719608467832
         ],
         "yaxis": "y"
        },
        {
         "hovertemplate": "timestamp=2024-10-22 05:21:11+00:00<br>index=%{x}<br>value=%{y}<extra></extra>",
         "legendgroup": "2024-10-22 05:21:11+00:00",
         "line": {
          "color": "#ab63fa",
          "dash": "solid"
         },
         "marker": {
          "symbol": "circle"
         },
         "mode": "lines",
         "name": "2024-10-22 05:21:11+00:00",
         "orientation": "v",
         "showlegend": true,
         "type": "scatter",
         "x": [
          0,
          1
         ],
         "xaxis": "x",
         "y": [
          4501.135399696909,
          4503.896254607782
         ],
         "yaxis": "y"
        },
        {
         "hovertemplate": "timestamp=2024-10-22 09:01:23+00:00<br>index=%{x}<br>value=%{y}<extra></extra>",
         "legendgroup": "2024-10-22 09:01:23+00:00",
         "line": {
          "color": "#FFA15A",
          "dash": "solid"
         },
         "marker": {
          "symbol": "circle"
         },
         "mode": "lines",
         "name": "2024-10-22 09:01:23+00:00",
         "orientation": "v",
         "showlegend": true,
         "type": "scatter",
         "x": [
          0,
          1
         ],
         "xaxis": "x",
         "y": [
          4501.557574640929,
          4504.324384443483
         ],
         "yaxis": "y"
        },
        {
         "hovertemplate": "timestamp=2024-10-22 12:41:35+00:00<br>index=%{x}<br>value=%{y}<extra></extra>",
         "legendgroup": "2024-10-22 12:41:35+00:00",
         "line": {
          "color": "#19d3f3",
          "dash": "solid"
         },
         "marker": {
          "symbol": "circle"
         },
         "mode": "lines",
         "name": "2024-10-22 12:41:35+00:00",
         "orientation": "v",
         "showlegend": true,
         "type": "scatter",
         "x": [
          0,
          1
         ],
         "xaxis": "x",
         "y": [
          4501.584953039852,
          4504.471781821966
         ],
         "yaxis": "y"
        },
        {
         "hovertemplate": "timestamp=2024-10-22 16:21:35+00:00<br>index=%{x}<br>value=%{y}<extra></extra>",
         "legendgroup": "2024-10-22 16:21:35+00:00",
         "line": {
          "color": "#FF6692",
          "dash": "solid"
         },
         "marker": {
          "symbol": "circle"
         },
         "mode": "lines",
         "name": "2024-10-22 16:21:35+00:00",
         "orientation": "v",
         "showlegend": true,
         "type": "scatter",
         "x": [
          0,
          1
         ],
         "xaxis": "x",
         "y": [
          4339.811842532238,
          4342.6268782194575
         ],
         "yaxis": "y"
        },
        {
         "hovertemplate": "timestamp=2024-10-22 20:01:35+00:00<br>index=%{x}<br>value=%{y}<extra></extra>",
         "legendgroup": "2024-10-22 20:01:35+00:00",
         "line": {
          "color": "#B6E880",
          "dash": "solid"
         },
         "marker": {
          "symbol": "circle"
         },
         "mode": "lines",
         "name": "2024-10-22 20:01:35+00:00",
         "orientation": "v",
         "showlegend": true,
         "type": "scatter",
         "x": [
          0,
          1
         ],
         "xaxis": "x",
         "y": [
          4339.856519982164,
          4342.654425856009
         ],
         "yaxis": "y"
        },
        {
         "hovertemplate": "timestamp=2024-10-22 23:42:23+00:00<br>index=%{x}<br>value=%{y}<extra></extra>",
         "legendgroup": "2024-10-22 23:42:23+00:00",
         "line": {
          "color": "#FF97FF",
          "dash": "solid"
         },
         "marker": {
          "symbol": "circle"
         },
         "mode": "lines",
         "name": "2024-10-22 23:42:23+00:00",
         "orientation": "v",
         "showlegend": true,
         "type": "scatter",
         "x": [
          0,
          1
         ],
         "xaxis": "x",
         "y": [
          4339.829845680853,
          4342.652107511956
         ],
         "yaxis": "y"
        },
        {
         "hovertemplate": "timestamp=2024-10-23 03:22:35+00:00<br>index=%{x}<br>value=%{y}<extra></extra>",
         "legendgroup": "2024-10-23 03:22:35+00:00",
         "line": {
          "color": "#FECB52",
          "dash": "solid"
         },
         "marker": {
          "symbol": "circle"
         },
         "mode": "lines",
         "name": "2024-10-23 03:22:35+00:00",
         "orientation": "v",
         "showlegend": true,
         "type": "scatter",
         "x": [
          0,
          1
         ],
         "xaxis": "x",
         "y": [
          4339.923172633137,
          4342.736852592732
         ],
         "yaxis": "y"
        },
        {
         "hovertemplate": "timestamp=2024-10-23 07:01:35+00:00<br>index=%{x}<br>value=%{y}<extra></extra>",
         "legendgroup": "2024-10-23 07:01:35+00:00",
         "line": {
          "color": "#636efa",
          "dash": "solid"
         },
         "marker": {
          "symbol": "circle"
         },
         "mode": "lines",
         "name": "2024-10-23 07:01:35+00:00",
         "orientation": "v",
         "showlegend": true,
         "type": "scatter",
         "x": [
          0,
          1
         ],
         "xaxis": "x",
         "y": [
          4339.933465133248,
          4342.698374253529
         ],
         "yaxis": "y"
        },
        {
         "hovertemplate": "timestamp=2024-10-23 10:41:35+00:00<br>index=%{x}<br>value=%{y}<extra></extra>",
         "legendgroup": "2024-10-23 10:41:35+00:00",
         "line": {
          "color": "#EF553B",
          "dash": "solid"
         },
         "marker": {
          "symbol": "circle"
         },
         "mode": "lines",
         "name": "2024-10-23 10:41:35+00:00",
         "orientation": "v",
         "showlegend": true,
         "type": "scatter",
         "x": [
          0,
          1
         ],
         "xaxis": "x",
         "y": [
          4340.065295038869,
          4342.726865748667
         ],
         "yaxis": "y"
        },
        {
         "hovertemplate": "timestamp=2024-10-23 14:21:11+00:00<br>index=%{x}<br>value=%{y}<extra></extra>",
         "legendgroup": "2024-10-23 14:21:11+00:00",
         "line": {
          "color": "#00cc96",
          "dash": "solid"
         },
         "marker": {
          "symbol": "circle"
         },
         "mode": "lines",
         "name": "2024-10-23 14:21:11+00:00",
         "orientation": "v",
         "showlegend": true,
         "type": "scatter",
         "x": [
          0,
          1
         ],
         "xaxis": "x",
         "y": [
          4340.056730166301,
          4342.766486334898
         ],
         "yaxis": "y"
        },
        {
         "hovertemplate": "timestamp=2024-10-23 18:00:59+00:00<br>index=%{x}<br>value=%{y}<extra></extra>",
         "legendgroup": "2024-10-23 18:00:59+00:00",
         "line": {
          "color": "#ab63fa",
          "dash": "solid"
         },
         "marker": {
          "symbol": "circle"
         },
         "mode": "lines",
         "name": "2024-10-23 18:00:59+00:00",
         "orientation": "v",
         "showlegend": true,
         "type": "scatter",
         "x": [
          0,
          1
         ],
         "xaxis": "x",
         "y": [
          4340.150197878799,
          4342.88132922523
         ],
         "yaxis": "y"
        },
        {
         "hovertemplate": "timestamp=2024-10-23 21:40:11+00:00<br>index=%{x}<br>value=%{y}<extra></extra>",
         "legendgroup": "2024-10-23 21:40:11+00:00",
         "line": {
          "color": "#FFA15A",
          "dash": "solid"
         },
         "marker": {
          "symbol": "circle"
         },
         "mode": "lines",
         "name": "2024-10-23 21:40:11+00:00",
         "orientation": "v",
         "showlegend": true,
         "type": "scatter",
         "x": [
          0,
          1
         ],
         "xaxis": "x",
         "y": [
          4340.120859590132,
          4342.856742688234
         ],
         "yaxis": "y"
        },
        {
         "hovertemplate": "timestamp=2024-10-24 01:20:47+00:00<br>index=%{x}<br>value=%{y}<extra></extra>",
         "legendgroup": "2024-10-24 01:20:47+00:00",
         "line": {
          "color": "#19d3f3",
          "dash": "solid"
         },
         "marker": {
          "symbol": "circle"
         },
         "mode": "lines",
         "name": "2024-10-24 01:20:47+00:00",
         "orientation": "v",
         "showlegend": true,
         "type": "scatter",
         "x": [
          0,
          1
         ],
         "xaxis": "x",
         "y": [
          4357.432803644702,
          4360.199418797165
         ],
         "yaxis": "y"
        },
        {
         "hovertemplate": "timestamp=2024-10-24 05:00:47+00:00<br>index=%{x}<br>value=%{y}<extra></extra>",
         "legendgroup": "2024-10-24 05:00:47+00:00",
         "line": {
          "color": "#FF6692",
          "dash": "solid"
         },
         "marker": {
          "symbol": "circle"
         },
         "mode": "lines",
         "name": "2024-10-24 05:00:47+00:00",
         "orientation": "v",
         "showlegend": true,
         "type": "scatter",
         "x": [
          0,
          1
         ],
         "xaxis": "x",
         "y": [
          4360.6752599031615,
          4363.560763846953
         ],
         "yaxis": "y"
        },
        {
         "hovertemplate": "timestamp=2024-10-24 08:40:59+00:00<br>index=%{x}<br>value=%{y}<extra></extra>",
         "legendgroup": "2024-10-24 08:40:59+00:00",
         "line": {
          "color": "#B6E880",
          "dash": "solid"
         },
         "marker": {
          "symbol": "circle"
         },
         "mode": "lines",
         "name": "2024-10-24 08:40:59+00:00",
         "orientation": "v",
         "showlegend": true,
         "type": "scatter",
         "x": [
          0,
          1
         ],
         "xaxis": "x",
         "y": [
          4360.733122563977,
          4363.569151438124
         ],
         "yaxis": "y"
        },
        {
         "hovertemplate": "timestamp=2024-10-24 12:20:35+00:00<br>index=%{x}<br>value=%{y}<extra></extra>",
         "legendgroup": "2024-10-24 12:20:35+00:00",
         "line": {
          "color": "#FF97FF",
          "dash": "solid"
         },
         "marker": {
          "symbol": "circle"
         },
         "mode": "lines",
         "name": "2024-10-24 12:20:35+00:00",
         "orientation": "v",
         "showlegend": true,
         "type": "scatter",
         "x": [
          0,
          1
         ],
         "xaxis": "x",
         "y": [
          4560.70391701014,
          4563.624191188168
         ],
         "yaxis": "y"
        },
        {
         "hovertemplate": "timestamp=2024-10-24 16:00:35+00:00<br>index=%{x}<br>value=%{y}<extra></extra>",
         "legendgroup": "2024-10-24 16:00:35+00:00",
         "line": {
          "color": "#FECB52",
          "dash": "solid"
         },
         "marker": {
          "symbol": "circle"
         },
         "mode": "lines",
         "name": "2024-10-24 16:00:35+00:00",
         "orientation": "v",
         "showlegend": true,
         "type": "scatter",
         "x": [
          0,
          1
         ],
         "xaxis": "x",
         "y": [
          4561.048741262857,
          4564.000791699041
         ],
         "yaxis": "y"
        },
        {
         "hovertemplate": "timestamp=2024-10-24 19:40:11+00:00<br>index=%{x}<br>value=%{y}<extra></extra>",
         "legendgroup": "2024-10-24 19:40:11+00:00",
         "line": {
          "color": "#636efa",
          "dash": "solid"
         },
         "marker": {
          "symbol": "circle"
         },
         "mode": "lines",
         "name": "2024-10-24 19:40:11+00:00",
         "orientation": "v",
         "showlegend": true,
         "type": "scatter",
         "x": [
          0,
          1
         ],
         "xaxis": "x",
         "y": [
          4561.009917315075,
          4563.996771316525
         ],
         "yaxis": "y"
        },
        {
         "hovertemplate": "timestamp=2024-10-24 23:19:59+00:00<br>index=%{x}<br>value=%{y}<extra></extra>",
         "legendgroup": "2024-10-24 23:19:59+00:00",
         "line": {
          "color": "#EF553B",
          "dash": "solid"
         },
         "marker": {
          "symbol": "circle"
         },
         "mode": "lines",
         "name": "2024-10-24 23:19:59+00:00",
         "orientation": "v",
         "showlegend": true,
         "type": "scatter",
         "x": [
          0,
          1
         ],
         "xaxis": "x",
         "y": [
          4562.08668544339,
          4565.08951740799
         ],
         "yaxis": "y"
        },
        {
         "hovertemplate": "timestamp=2024-10-25 02:59:59+00:00<br>index=%{x}<br>value=%{y}<extra></extra>",
         "legendgroup": "2024-10-25 02:59:59+00:00",
         "line": {
          "color": "#00cc96",
          "dash": "solid"
         },
         "marker": {
          "symbol": "circle"
         },
         "mode": "lines",
         "name": "2024-10-25 02:59:59+00:00",
         "orientation": "v",
         "showlegend": true,
         "type": "scatter",
         "x": [
          0,
          1
         ],
         "xaxis": "x",
         "y": [
          4562.047838412912,
          4565.054272640703
         ],
         "yaxis": "y"
        },
        {
         "hovertemplate": "timestamp=2024-10-25 06:40:11+00:00<br>index=%{x}<br>value=%{y}<extra></extra>",
         "legendgroup": "2024-10-25 06:40:11+00:00",
         "line": {
          "color": "#ab63fa",
          "dash": "solid"
         },
         "marker": {
          "symbol": "circle"
         },
         "mode": "lines",
         "name": "2024-10-25 06:40:11+00:00",
         "orientation": "v",
         "showlegend": true,
         "type": "scatter",
         "x": [
          0,
          1
         ],
         "xaxis": "x",
         "y": [
          4562.3240860788865,
          4565.409454993194
         ],
         "yaxis": "y"
        },
        {
         "hovertemplate": "timestamp=2024-10-25 10:19:35+00:00<br>index=%{x}<br>value=%{y}<extra></extra>",
         "legendgroup": "2024-10-25 10:19:35+00:00",
         "line": {
          "color": "#FFA15A",
          "dash": "solid"
         },
         "marker": {
          "symbol": "circle"
         },
         "mode": "lines",
         "name": "2024-10-25 10:19:35+00:00",
         "orientation": "v",
         "showlegend": true,
         "type": "scatter",
         "x": [
          0,
          1
         ],
         "xaxis": "x",
         "y": [
          4562.700828881167,
          4565.509012736713
         ],
         "yaxis": "y"
        },
        {
         "hovertemplate": "timestamp=2024-10-25 13:59:35+00:00<br>index=%{x}<br>value=%{y}<extra></extra>",
         "legendgroup": "2024-10-25 13:59:35+00:00",
         "line": {
          "color": "#19d3f3",
          "dash": "solid"
         },
         "marker": {
          "symbol": "circle"
         },
         "mode": "lines",
         "name": "2024-10-25 13:59:35+00:00",
         "orientation": "v",
         "showlegend": true,
         "type": "scatter",
         "x": [
          0,
          1
         ],
         "xaxis": "x",
         "y": [
          4562.657725926323,
          4565.540130000167
         ],
         "yaxis": "y"
        },
        {
         "hovertemplate": "timestamp=2024-10-25 17:39:35+00:00<br>index=%{x}<br>value=%{y}<extra></extra>",
         "legendgroup": "2024-10-25 17:39:35+00:00",
         "line": {
          "color": "#FF6692",
          "dash": "solid"
         },
         "marker": {
          "symbol": "circle"
         },
         "mode": "lines",
         "name": "2024-10-25 17:39:35+00:00",
         "orientation": "v",
         "showlegend": true,
         "type": "scatter",
         "x": [
          0,
          1
         ],
         "xaxis": "x",
         "y": [
          4562.86643937789,
          4565.840952717016
         ],
         "yaxis": "y"
        },
        {
         "hovertemplate": "timestamp=2024-10-25 21:19:11+00:00<br>index=%{x}<br>value=%{y}<extra></extra>",
         "legendgroup": "2024-10-25 21:19:11+00:00",
         "line": {
          "color": "#B6E880",
          "dash": "solid"
         },
         "marker": {
          "symbol": "circle"
         },
         "mode": "lines",
         "name": "2024-10-25 21:19:11+00:00",
         "orientation": "v",
         "showlegend": true,
         "type": "scatter",
         "x": [
          0,
          1
         ],
         "xaxis": "x",
         "y": [
          4565.100625862521,
          4568.166020002769
         ],
         "yaxis": "y"
        },
        {
         "hovertemplate": "timestamp=2024-10-26 00:58:59+00:00<br>index=%{x}<br>value=%{y}<extra></extra>",
         "legendgroup": "2024-10-26 00:58:59+00:00",
         "line": {
          "color": "#FF97FF",
          "dash": "solid"
         },
         "marker": {
          "symbol": "circle"
         },
         "mode": "lines",
         "name": "2024-10-26 00:58:59+00:00",
         "orientation": "v",
         "showlegend": true,
         "type": "scatter",
         "x": [
          0,
          1
         ],
         "xaxis": "x",
         "y": [
          4565.043100577367,
          4568.089704883182
         ],
         "yaxis": "y"
        },
        {
         "hovertemplate": "timestamp=2024-10-26 04:39:23+00:00<br>index=%{x}<br>value=%{y}<extra></extra>",
         "legendgroup": "2024-10-26 04:39:23+00:00",
         "line": {
          "color": "#FECB52",
          "dash": "solid"
         },
         "marker": {
          "symbol": "circle"
         },
         "mode": "lines",
         "name": "2024-10-26 04:39:23+00:00",
         "orientation": "v",
         "showlegend": true,
         "type": "scatter",
         "x": [
          0,
          1
         ],
         "xaxis": "x",
         "y": [
          4531.629215470331,
          4534.705296933698
         ],
         "yaxis": "y"
        },
        {
         "hovertemplate": "timestamp=2024-10-26 08:19:11+00:00<br>index=%{x}<br>value=%{y}<extra></extra>",
         "legendgroup": "2024-10-26 08:19:11+00:00",
         "line": {
          "color": "#636efa",
          "dash": "solid"
         },
         "marker": {
          "symbol": "circle"
         },
         "mode": "lines",
         "name": "2024-10-26 08:19:11+00:00",
         "orientation": "v",
         "showlegend": true,
         "type": "scatter",
         "x": [
          0,
          1
         ],
         "xaxis": "x",
         "y": [
          4531.347521018009,
          4534.712017198458
         ],
         "yaxis": "y"
        },
        {
         "hovertemplate": "timestamp=2024-10-26 11:59:59+00:00<br>index=%{x}<br>value=%{y}<extra></extra>",
         "legendgroup": "2024-10-26 11:59:59+00:00",
         "line": {
          "color": "#EF553B",
          "dash": "solid"
         },
         "marker": {
          "symbol": "circle"
         },
         "mode": "lines",
         "name": "2024-10-26 11:59:59+00:00",
         "orientation": "v",
         "showlegend": true,
         "type": "scatter",
         "x": [
          0,
          1
         ],
         "xaxis": "x",
         "y": [
          4531.304734027404,
          4534.658761507954
         ],
         "yaxis": "y"
        },
        {
         "hovertemplate": "timestamp=2024-10-26 15:40:35+00:00<br>index=%{x}<br>value=%{y}<extra></extra>",
         "legendgroup": "2024-10-26 15:40:35+00:00",
         "line": {
          "color": "#00cc96",
          "dash": "solid"
         },
         "marker": {
          "symbol": "circle"
         },
         "mode": "lines",
         "name": "2024-10-26 15:40:35+00:00",
         "orientation": "v",
         "showlegend": true,
         "type": "scatter",
         "x": [
          0,
          1
         ],
         "xaxis": "x",
         "y": [
          4531.271986401263,
          4534.620175060791
         ],
         "yaxis": "y"
        },
        {
         "hovertemplate": "timestamp=2024-10-26 19:20:11+00:00<br>index=%{x}<br>value=%{y}<extra></extra>",
         "legendgroup": "2024-10-26 19:20:11+00:00",
         "line": {
          "color": "#ab63fa",
          "dash": "solid"
         },
         "marker": {
          "symbol": "circle"
         },
         "mode": "lines",
         "name": "2024-10-26 19:20:11+00:00",
         "orientation": "v",
         "showlegend": true,
         "type": "scatter",
         "x": [
          0,
          1
         ],
         "xaxis": "x",
         "y": [
          4531.571581943074,
          4534.95915926048
         ],
         "yaxis": "y"
        },
        {
         "hovertemplate": "timestamp=2024-10-26 22:59:59+00:00<br>index=%{x}<br>value=%{y}<extra></extra>",
         "legendgroup": "2024-10-26 22:59:59+00:00",
         "line": {
          "color": "#FFA15A",
          "dash": "solid"
         },
         "marker": {
          "symbol": "circle"
         },
         "mode": "lines",
         "name": "2024-10-26 22:59:59+00:00",
         "orientation": "v",
         "showlegend": true,
         "type": "scatter",
         "x": [
          0,
          1
         ],
         "xaxis": "x",
         "y": [
          4531.547167063007,
          4534.956937230069
         ],
         "yaxis": "y"
        },
        {
         "hovertemplate": "timestamp=2024-10-27 02:40:11+00:00<br>index=%{x}<br>value=%{y}<extra></extra>",
         "legendgroup": "2024-10-27 02:40:11+00:00",
         "line": {
          "color": "#19d3f3",
          "dash": "solid"
         },
         "marker": {
          "symbol": "circle"
         },
         "mode": "lines",
         "name": "2024-10-27 02:40:11+00:00",
         "orientation": "v",
         "showlegend": true,
         "type": "scatter",
         "x": [
          0,
          1
         ],
         "xaxis": "x",
         "y": [
          4531.518637928461,
          4534.935345229153
         ],
         "yaxis": "y"
        },
        {
         "hovertemplate": "timestamp=2024-10-27 06:19:47+00:00<br>index=%{x}<br>value=%{y}<extra></extra>",
         "legendgroup": "2024-10-27 06:19:47+00:00",
         "line": {
          "color": "#FF6692",
          "dash": "solid"
         },
         "marker": {
          "symbol": "circle"
         },
         "mode": "lines",
         "name": "2024-10-27 06:19:47+00:00",
         "orientation": "v",
         "showlegend": true,
         "type": "scatter",
         "x": [
          0,
          1
         ],
         "xaxis": "x",
         "y": [
          4531.26262402337,
          4534.828241767508
         ],
         "yaxis": "y"
        },
        {
         "hovertemplate": "timestamp=2024-10-27 09:59:23+00:00<br>index=%{x}<br>value=%{y}<extra></extra>",
         "legendgroup": "2024-10-27 09:59:23+00:00",
         "line": {
          "color": "#B6E880",
          "dash": "solid"
         },
         "marker": {
          "symbol": "circle"
         },
         "mode": "lines",
         "name": "2024-10-27 09:59:23+00:00",
         "orientation": "v",
         "showlegend": true,
         "type": "scatter",
         "x": [
          0,
          1
         ],
         "xaxis": "x",
         "y": [
          4532.052046365613,
          4535.061477112444
         ],
         "yaxis": "y"
        },
        {
         "hovertemplate": "timestamp=2024-10-27 13:40:11+00:00<br>index=%{x}<br>value=%{y}<extra></extra>",
         "legendgroup": "2024-10-27 13:40:11+00:00",
         "line": {
          "color": "#FF97FF",
          "dash": "solid"
         },
         "marker": {
          "symbol": "circle"
         },
         "mode": "lines",
         "name": "2024-10-27 13:40:11+00:00",
         "orientation": "v",
         "showlegend": true,
         "type": "scatter",
         "x": [
          0,
          1
         ],
         "xaxis": "x",
         "y": [
          4532.0190207785045,
          4535.042374926717
         ],
         "yaxis": "y"
        },
        {
         "hovertemplate": "timestamp=2024-10-27 17:19:47+00:00<br>index=%{x}<br>value=%{y}<extra></extra>",
         "legendgroup": "2024-10-27 17:19:47+00:00",
         "line": {
          "color": "#FECB52",
          "dash": "solid"
         },
         "marker": {
          "symbol": "circle"
         },
         "mode": "lines",
         "name": "2024-10-27 17:19:47+00:00",
         "orientation": "v",
         "showlegend": true,
         "type": "scatter",
         "x": [
          0,
          1
         ],
         "xaxis": "x",
         "y": [
          4531.969923424719,
          4535.037568388345
         ],
         "yaxis": "y"
        },
        {
         "hovertemplate": "timestamp=2024-10-27 20:59:11+00:00<br>index=%{x}<br>value=%{y}<extra></extra>",
         "legendgroup": "2024-10-27 20:59:11+00:00",
         "line": {
          "color": "#636efa",
          "dash": "solid"
         },
         "marker": {
          "symbol": "circle"
         },
         "mode": "lines",
         "name": "2024-10-27 20:59:11+00:00",
         "orientation": "v",
         "showlegend": true,
         "type": "scatter",
         "x": [
          0,
          1
         ],
         "xaxis": "x",
         "y": [
          4531.9455956043785,
          4535.070198307328
         ],
         "yaxis": "y"
        },
        {
         "hovertemplate": "timestamp=2024-10-28 00:38:35+00:00<br>index=%{x}<br>value=%{y}<extra></extra>",
         "legendgroup": "2024-10-28 00:38:35+00:00",
         "line": {
          "color": "#EF553B",
          "dash": "solid"
         },
         "marker": {
          "symbol": "circle"
         },
         "mode": "lines",
         "name": "2024-10-28 00:38:35+00:00",
         "orientation": "v",
         "showlegend": true,
         "type": "scatter",
         "x": [
          0,
          1
         ],
         "xaxis": "x",
         "y": [
          4531.328152144253,
          4534.564457587318
         ],
         "yaxis": "y"
        },
        {
         "hovertemplate": "timestamp=2024-10-28 04:18:47+00:00<br>index=%{x}<br>value=%{y}<extra></extra>",
         "legendgroup": "2024-10-28 04:18:47+00:00",
         "line": {
          "color": "#00cc96",
          "dash": "solid"
         },
         "marker": {
          "symbol": "circle"
         },
         "mode": "lines",
         "name": "2024-10-28 04:18:47+00:00",
         "orientation": "v",
         "showlegend": true,
         "type": "scatter",
         "x": [
          0,
          1
         ],
         "xaxis": "x",
         "y": [
          4532.419186759498,
          4535.668171199991
         ],
         "yaxis": "y"
        },
        {
         "hovertemplate": "timestamp=2024-10-28 07:59:47+00:00<br>index=%{x}<br>value=%{y}<extra></extra>",
         "legendgroup": "2024-10-28 07:59:47+00:00",
         "line": {
          "color": "#ab63fa",
          "dash": "solid"
         },
         "marker": {
          "symbol": "circle"
         },
         "mode": "lines",
         "name": "2024-10-28 07:59:47+00:00",
         "orientation": "v",
         "showlegend": true,
         "type": "scatter",
         "x": [
          0,
          1
         ],
         "xaxis": "x",
         "y": [
          4533.097447206686,
          4535.873119277794
         ],
         "yaxis": "y"
        },
        {
         "hovertemplate": "timestamp=2024-10-28 11:39:47+00:00<br>index=%{x}<br>value=%{y}<extra></extra>",
         "legendgroup": "2024-10-28 11:39:47+00:00",
         "line": {
          "color": "#FFA15A",
          "dash": "solid"
         },
         "marker": {
          "symbol": "circle"
         },
         "mode": "lines",
         "name": "2024-10-28 11:39:47+00:00",
         "orientation": "v",
         "showlegend": true,
         "type": "scatter",
         "x": [
          0,
          1
         ],
         "xaxis": "x",
         "y": [
          4532.6051092060725,
          4535.375523986457
         ],
         "yaxis": "y"
        },
        {
         "hovertemplate": "timestamp=2024-10-28 15:20:11+00:00<br>index=%{x}<br>value=%{y}<extra></extra>",
         "legendgroup": "2024-10-28 15:20:11+00:00",
         "line": {
          "color": "#19d3f3",
          "dash": "solid"
         },
         "marker": {
          "symbol": "circle"
         },
         "mode": "lines",
         "name": "2024-10-28 15:20:11+00:00",
         "orientation": "v",
         "showlegend": true,
         "type": "scatter",
         "x": [
          0,
          1
         ],
         "xaxis": "x",
         "y": [
          4532.550962027857,
          4535.3307574996015
         ],
         "yaxis": "y"
        },
        {
         "hovertemplate": "timestamp=2024-10-28 19:00:35+00:00<br>index=%{x}<br>value=%{y}<extra></extra>",
         "legendgroup": "2024-10-28 19:00:35+00:00",
         "line": {
          "color": "#FF6692",
          "dash": "solid"
         },
         "marker": {
          "symbol": "circle"
         },
         "mode": "lines",
         "name": "2024-10-28 19:00:35+00:00",
         "orientation": "v",
         "showlegend": true,
         "type": "scatter",
         "x": [
          0,
          1
         ],
         "xaxis": "x",
         "y": [
          4532.835046438298,
          4535.682758135075
         ],
         "yaxis": "y"
        },
        {
         "hovertemplate": "timestamp=2024-10-28 22:40:23+00:00<br>index=%{x}<br>value=%{y}<extra></extra>",
         "legendgroup": "2024-10-28 22:40:23+00:00",
         "line": {
          "color": "#B6E880",
          "dash": "solid"
         },
         "marker": {
          "symbol": "circle"
         },
         "mode": "lines",
         "name": "2024-10-28 22:40:23+00:00",
         "orientation": "v",
         "showlegend": true,
         "type": "scatter",
         "x": [
          0,
          1
         ],
         "xaxis": "x",
         "y": [
          4532.765716822863,
          4535.6617302753175
         ],
         "yaxis": "y"
        },
        {
         "hovertemplate": "timestamp=2024-10-29 02:20:47+00:00<br>index=%{x}<br>value=%{y}<extra></extra>",
         "legendgroup": "2024-10-29 02:20:47+00:00",
         "line": {
          "color": "#FF97FF",
          "dash": "solid"
         },
         "marker": {
          "symbol": "circle"
         },
         "mode": "lines",
         "name": "2024-10-29 02:20:47+00:00",
         "orientation": "v",
         "showlegend": true,
         "type": "scatter",
         "x": [
          0,
          1
         ],
         "xaxis": "x",
         "y": [
          4517.529788504832,
          4520.690281107893
         ],
         "yaxis": "y"
        },
        {
         "hovertemplate": "timestamp=2024-10-29 06:00:35+00:00<br>index=%{x}<br>value=%{y}<extra></extra>",
         "legendgroup": "2024-10-29 06:00:35+00:00",
         "line": {
          "color": "#FECB52",
          "dash": "solid"
         },
         "marker": {
          "symbol": "circle"
         },
         "mode": "lines",
         "name": "2024-10-29 06:00:35+00:00",
         "orientation": "v",
         "showlegend": true,
         "type": "scatter",
         "x": [
          0,
          1
         ],
         "xaxis": "x",
         "y": [
          4517.799004066116,
          4521.287580768981
         ],
         "yaxis": "y"
        },
        {
         "hovertemplate": "timestamp=2024-10-29 09:41:11+00:00<br>index=%{x}<br>value=%{y}<extra></extra>",
         "legendgroup": "2024-10-29 09:41:11+00:00",
         "line": {
          "color": "#636efa",
          "dash": "solid"
         },
         "marker": {
          "symbol": "circle"
         },
         "mode": "lines",
         "name": "2024-10-29 09:41:11+00:00",
         "orientation": "v",
         "showlegend": true,
         "type": "scatter",
         "x": [
          0,
          1
         ],
         "xaxis": "x",
         "y": [
          4515.548683123598,
          4520.727908525922
         ],
         "yaxis": "y"
        },
        {
         "hovertemplate": "timestamp=2024-10-29 13:21:35+00:00<br>index=%{x}<br>value=%{y}<extra></extra>",
         "legendgroup": "2024-10-29 13:21:35+00:00",
         "line": {
          "color": "#EF553B",
          "dash": "solid"
         },
         "marker": {
          "symbol": "circle"
         },
         "mode": "lines",
         "name": "2024-10-29 13:21:35+00:00",
         "orientation": "v",
         "showlegend": true,
         "type": "scatter",
         "x": [
          0,
          1
         ],
         "xaxis": "x",
         "y": [
          4515.485539644424,
          4520.7171812898205
         ],
         "yaxis": "y"
        },
        {
         "hovertemplate": "timestamp=2024-10-29 17:01:11+00:00<br>index=%{x}<br>value=%{y}<extra></extra>",
         "legendgroup": "2024-10-29 17:01:11+00:00",
         "line": {
          "color": "#00cc96",
          "dash": "solid"
         },
         "marker": {
          "symbol": "circle"
         },
         "mode": "lines",
         "name": "2024-10-29 17:01:11+00:00",
         "orientation": "v",
         "showlegend": true,
         "type": "scatter",
         "x": [
          0,
          1
         ],
         "xaxis": "x",
         "y": [
          4515.419078674062,
          4520.72273491336
         ],
         "yaxis": "y"
        },
        {
         "hovertemplate": "timestamp=2024-10-29 20:40:35+00:00<br>index=%{x}<br>value=%{y}<extra></extra>",
         "legendgroup": "2024-10-29 20:40:35+00:00",
         "line": {
          "color": "#ab63fa",
          "dash": "solid"
         },
         "marker": {
          "symbol": "circle"
         },
         "mode": "lines",
         "name": "2024-10-29 20:40:35+00:00",
         "orientation": "v",
         "showlegend": true,
         "type": "scatter",
         "x": [
          0,
          1
         ],
         "xaxis": "x",
         "y": [
          4515.45094070047,
          4520.936261897497
         ],
         "yaxis": "y"
        },
        {
         "hovertemplate": "timestamp=2024-10-30 00:20:23+00:00<br>index=%{x}<br>value=%{y}<extra></extra>",
         "legendgroup": "2024-10-30 00:20:23+00:00",
         "line": {
          "color": "#FFA15A",
          "dash": "solid"
         },
         "marker": {
          "symbol": "circle"
         },
         "mode": "lines",
         "name": "2024-10-30 00:20:23+00:00",
         "orientation": "v",
         "showlegend": true,
         "type": "scatter",
         "x": [
          0,
          1
         ],
         "xaxis": "x",
         "y": [
          4515.352603117976,
          4520.924521622401
         ],
         "yaxis": "y"
        },
        {
         "hovertemplate": "timestamp=2024-10-30 04:00:11+00:00<br>index=%{x}<br>value=%{y}<extra></extra>",
         "legendgroup": "2024-10-30 04:00:11+00:00",
         "line": {
          "color": "#19d3f3",
          "dash": "solid"
         },
         "marker": {
          "symbol": "circle"
         },
         "mode": "lines",
         "name": "2024-10-30 04:00:11+00:00",
         "orientation": "v",
         "showlegend": true,
         "type": "scatter",
         "x": [
          0,
          1
         ],
         "xaxis": "x",
         "y": [
          4515.278106828807,
          4520.932798054841
         ],
         "yaxis": "y"
        },
        {
         "hovertemplate": "timestamp=2024-10-30 07:40:35+00:00<br>index=%{x}<br>value=%{y}<extra></extra>",
         "legendgroup": "2024-10-30 07:40:35+00:00",
         "line": {
          "color": "#FF6692",
          "dash": "solid"
         },
         "marker": {
          "symbol": "circle"
         },
         "mode": "lines",
         "name": "2024-10-30 07:40:35+00:00",
         "orientation": "v",
         "showlegend": true,
         "type": "scatter",
         "x": [
          0,
          1
         ],
         "xaxis": "x",
         "y": [
          4515.961171226899,
          4521.672597754947
         ],
         "yaxis": "y"
        },
        {
         "hovertemplate": "timestamp=2024-10-30 11:21:47+00:00<br>index=%{x}<br>value=%{y}<extra></extra>",
         "legendgroup": "2024-10-30 11:21:47+00:00",
         "line": {
          "color": "#B6E880",
          "dash": "solid"
         },
         "marker": {
          "symbol": "circle"
         },
         "mode": "lines",
         "name": "2024-10-30 11:21:47+00:00",
         "orientation": "v",
         "showlegend": true,
         "type": "scatter",
         "x": [
          0,
          1
         ],
         "xaxis": "x",
         "y": [
          4515.564427874803,
          4521.565952786315
         ],
         "yaxis": "y"
        },
        {
         "hovertemplate": "timestamp=2024-10-30 15:03:35+00:00<br>index=%{x}<br>value=%{y}<extra></extra>",
         "legendgroup": "2024-10-30 15:03:35+00:00",
         "line": {
          "color": "#FF97FF",
          "dash": "solid"
         },
         "marker": {
          "symbol": "circle"
         },
         "mode": "lines",
         "name": "2024-10-30 15:03:35+00:00",
         "orientation": "v",
         "showlegend": true,
         "type": "scatter",
         "x": [
          0,
          1
         ],
         "xaxis": "x",
         "y": [
          4515.495521387404,
          4521.540949383874
         ],
         "yaxis": "y"
        },
        {
         "hovertemplate": "timestamp=2024-10-30 18:43:11+00:00<br>index=%{x}<br>value=%{y}<extra></extra>",
         "legendgroup": "2024-10-30 18:43:11+00:00",
         "line": {
          "color": "#FECB52",
          "dash": "solid"
         },
         "marker": {
          "symbol": "circle"
         },
         "mode": "lines",
         "name": "2024-10-30 18:43:11+00:00",
         "orientation": "v",
         "showlegend": true,
         "type": "scatter",
         "x": [
          0,
          1
         ],
         "xaxis": "x",
         "y": [
          4515.837831296999,
          4521.978168822008
         ],
         "yaxis": "y"
        },
        {
         "hovertemplate": "timestamp=2024-10-30 22:22:47+00:00<br>index=%{x}<br>value=%{y}<extra></extra>",
         "legendgroup": "2024-10-30 22:22:47+00:00",
         "line": {
          "color": "#636efa",
          "dash": "solid"
         },
         "marker": {
          "symbol": "circle"
         },
         "mode": "lines",
         "name": "2024-10-30 22:22:47+00:00",
         "orientation": "v",
         "showlegend": true,
         "type": "scatter",
         "x": [
          0,
          1
         ],
         "xaxis": "x",
         "y": [
          4516.701651652815,
          4522.8844052974955
         ],
         "yaxis": "y"
        },
        {
         "hovertemplate": "timestamp=2024-10-31 02:02:11+00:00<br>index=%{x}<br>value=%{y}<extra></extra>",
         "legendgroup": "2024-10-31 02:02:11+00:00",
         "line": {
          "color": "#EF553B",
          "dash": "solid"
         },
         "marker": {
          "symbol": "circle"
         },
         "mode": "lines",
         "name": "2024-10-31 02:02:11+00:00",
         "orientation": "v",
         "showlegend": true,
         "type": "scatter",
         "x": [
          0,
          1
         ],
         "xaxis": "x",
         "y": [
          4516.65928956501,
          4522.882754569381
         ],
         "yaxis": "y"
        },
        {
         "hovertemplate": "timestamp=2024-10-31 05:42:59+00:00<br>index=%{x}<br>value=%{y}<extra></extra>",
         "legendgroup": "2024-10-31 05:42:59+00:00",
         "line": {
          "color": "#00cc96",
          "dash": "solid"
         },
         "marker": {
          "symbol": "circle"
         },
         "mode": "lines",
         "name": "2024-10-31 05:42:59+00:00",
         "orientation": "v",
         "showlegend": true,
         "type": "scatter",
         "x": [
          0,
          1
         ],
         "xaxis": "x",
         "y": [
          4516.68301386984,
          4522.927305529245
         ],
         "yaxis": "y"
        },
        {
         "hovertemplate": "timestamp=2024-10-31 09:23:35+00:00<br>index=%{x}<br>value=%{y}<extra></extra>",
         "legendgroup": "2024-10-31 09:23:35+00:00",
         "line": {
          "color": "#ab63fa",
          "dash": "solid"
         },
         "marker": {
          "symbol": "circle"
         },
         "mode": "lines",
         "name": "2024-10-31 09:23:35+00:00",
         "orientation": "v",
         "showlegend": true,
         "type": "scatter",
         "x": [
          0,
          1
         ],
         "xaxis": "x",
         "y": [
          4517.04931958686,
          4523.025764078504
         ],
         "yaxis": "y"
        },
        {
         "hovertemplate": "timestamp=2024-10-31 13:02:47+00:00<br>index=%{x}<br>value=%{y}<extra></extra>",
         "legendgroup": "2024-10-31 13:02:47+00:00",
         "line": {
          "color": "#FFA15A",
          "dash": "solid"
         },
         "marker": {
          "symbol": "circle"
         },
         "mode": "lines",
         "name": "2024-10-31 13:02:47+00:00",
         "orientation": "v",
         "showlegend": true,
         "type": "scatter",
         "x": [
          0,
          1
         ],
         "xaxis": "x",
         "y": [
          4517.031944248017,
          4523.026483437116
         ],
         "yaxis": "y"
        },
        {
         "hovertemplate": "timestamp=2024-10-31 16:42:11+00:00<br>index=%{x}<br>value=%{y}<extra></extra>",
         "legendgroup": "2024-10-31 16:42:11+00:00",
         "line": {
          "color": "#19d3f3",
          "dash": "solid"
         },
         "marker": {
          "symbol": "circle"
         },
         "mode": "lines",
         "name": "2024-10-31 16:42:11+00:00",
         "orientation": "v",
         "showlegend": true,
         "type": "scatter",
         "x": [
          0,
          1
         ],
         "xaxis": "x",
         "y": [
          4517.011895638938,
          4523.030523886836
         ],
         "yaxis": "y"
        },
        {
         "hovertemplate": "timestamp=2024-10-31 20:21:35+00:00<br>index=%{x}<br>value=%{y}<extra></extra>",
         "legendgroup": "2024-10-31 20:21:35+00:00",
         "line": {
          "color": "#FF6692",
          "dash": "solid"
         },
         "marker": {
          "symbol": "circle"
         },
         "mode": "lines",
         "name": "2024-10-31 20:21:35+00:00",
         "orientation": "v",
         "showlegend": true,
         "type": "scatter",
         "x": [
          0,
          1
         ],
         "xaxis": "x",
         "y": [
          4517.111289667378,
          4523.156462501083
         ],
         "yaxis": "y"
        },
        {
         "hovertemplate": "timestamp=2024-11-01 00:01:23+00:00<br>index=%{x}<br>value=%{y}<extra></extra>",
         "legendgroup": "2024-11-01 00:01:23+00:00",
         "line": {
          "color": "#B6E880",
          "dash": "solid"
         },
         "marker": {
          "symbol": "circle"
         },
         "mode": "lines",
         "name": "2024-11-01 00:01:23+00:00",
         "orientation": "v",
         "showlegend": true,
         "type": "scatter",
         "x": [
          0,
          1
         ],
         "xaxis": "x",
         "y": [
          4517.082059800425,
          4523.138327229543
         ],
         "yaxis": "y"
        },
        {
         "hovertemplate": "timestamp=2024-11-01 03:41:11+00:00<br>index=%{x}<br>value=%{y}<extra></extra>",
         "legendgroup": "2024-11-01 03:41:11+00:00",
         "line": {
          "color": "#FF97FF",
          "dash": "solid"
         },
         "marker": {
          "symbol": "circle"
         },
         "mode": "lines",
         "name": "2024-11-01 03:41:11+00:00",
         "orientation": "v",
         "showlegend": true,
         "type": "scatter",
         "x": [
          0,
          1
         ],
         "xaxis": "x",
         "y": [
          4517.054691759776,
          4523.12469440327
         ],
         "yaxis": "y"
        },
        {
         "hovertemplate": "timestamp=2024-11-01 07:20:59+00:00<br>index=%{x}<br>value=%{y}<extra></extra>",
         "legendgroup": "2024-11-01 07:20:59+00:00",
         "line": {
          "color": "#FECB52",
          "dash": "solid"
         },
         "marker": {
          "symbol": "circle"
         },
         "mode": "lines",
         "name": "2024-11-01 07:20:59+00:00",
         "orientation": "v",
         "showlegend": true,
         "type": "scatter",
         "x": [
          0,
          1
         ],
         "xaxis": "x",
         "y": [
          4517.440029209716,
          4523.531262745442
         ],
         "yaxis": "y"
        },
        {
         "hovertemplate": "timestamp=2024-11-01 11:00:47+00:00<br>index=%{x}<br>value=%{y}<extra></extra>",
         "legendgroup": "2024-11-01 11:00:47+00:00",
         "line": {
          "color": "#636efa",
          "dash": "solid"
         },
         "marker": {
          "symbol": "circle"
         },
         "mode": "lines",
         "name": "2024-11-01 11:00:47+00:00",
         "orientation": "v",
         "showlegend": true,
         "type": "scatter",
         "x": [
          0,
          1
         ],
         "xaxis": "x",
         "y": [
          4516.915114634993,
          4523.406048436564
         ],
         "yaxis": "y"
        },
        {
         "hovertemplate": "timestamp=2024-11-01 14:40:35+00:00<br>index=%{x}<br>value=%{y}<extra></extra>",
         "legendgroup": "2024-11-01 14:40:35+00:00",
         "line": {
          "color": "#EF553B",
          "dash": "solid"
         },
         "marker": {
          "symbol": "circle"
         },
         "mode": "lines",
         "name": "2024-11-01 14:40:35+00:00",
         "orientation": "v",
         "showlegend": true,
         "type": "scatter",
         "x": [
          0,
          1
         ],
         "xaxis": "x",
         "y": [
          4516.8938646799725,
          4523.41146069468
         ],
         "yaxis": "y"
        },
        {
         "hovertemplate": "timestamp=2024-11-01 18:20:23+00:00<br>index=%{x}<br>value=%{y}<extra></extra>",
         "legendgroup": "2024-11-01 18:20:23+00:00",
         "line": {
          "color": "#00cc96",
          "dash": "solid"
         },
         "marker": {
          "symbol": "circle"
         },
         "mode": "lines",
         "name": "2024-11-01 18:20:23+00:00",
         "orientation": "v",
         "showlegend": true,
         "type": "scatter",
         "x": [
          0,
          1
         ],
         "xaxis": "x",
         "y": [
          4517.301393925066,
          4523.78685865256
         ],
         "yaxis": "y"
        },
        {
         "hovertemplate": "timestamp=2024-11-01 22:00:35+00:00<br>index=%{x}<br>value=%{y}<extra></extra>",
         "legendgroup": "2024-11-01 22:00:35+00:00",
         "line": {
          "color": "#ab63fa",
          "dash": "solid"
         },
         "marker": {
          "symbol": "circle"
         },
         "mode": "lines",
         "name": "2024-11-01 22:00:35+00:00",
         "orientation": "v",
         "showlegend": true,
         "type": "scatter",
         "x": [
          0,
          1
         ],
         "xaxis": "x",
         "y": [
          4517.243713533632,
          4523.761666880839
         ],
         "yaxis": "y"
        },
        {
         "hovertemplate": "timestamp=2024-11-02 01:40:47+00:00<br>index=%{x}<br>value=%{y}<extra></extra>",
         "legendgroup": "2024-11-02 01:40:47+00:00",
         "line": {
          "color": "#FFA15A",
          "dash": "solid"
         },
         "marker": {
          "symbol": "circle"
         },
         "mode": "lines",
         "name": "2024-11-02 01:40:47+00:00",
         "orientation": "v",
         "showlegend": true,
         "type": "scatter",
         "x": [
          0,
          1
         ],
         "xaxis": "x",
         "y": [
          4515.209432737642,
          4521.713000777304
         ],
         "yaxis": "y"
        },
        {
         "hovertemplate": "timestamp=2024-11-02 05:21:11+00:00<br>index=%{x}<br>value=%{y}<extra></extra>",
         "legendgroup": "2024-11-02 05:21:11+00:00",
         "line": {
          "color": "#19d3f3",
          "dash": "solid"
         },
         "marker": {
          "symbol": "circle"
         },
         "mode": "lines",
         "name": "2024-11-02 05:21:11+00:00",
         "orientation": "v",
         "showlegend": true,
         "type": "scatter",
         "x": [
          0,
          1
         ],
         "xaxis": "x",
         "y": [
          4515.174686410696,
          4521.773188365045
         ],
         "yaxis": "y"
        },
        {
         "hovertemplate": "timestamp=2024-11-02 09:00:59+00:00<br>index=%{x}<br>value=%{y}<extra></extra>",
         "legendgroup": "2024-11-02 09:00:59+00:00",
         "line": {
          "color": "#FF6692",
          "dash": "solid"
         },
         "marker": {
          "symbol": "circle"
         },
         "mode": "lines",
         "name": "2024-11-02 09:00:59+00:00",
         "orientation": "v",
         "showlegend": true,
         "type": "scatter",
         "x": [
          0,
          1
         ],
         "xaxis": "x",
         "y": [
          4516.256787394617,
          4522.05811683224
         ],
         "yaxis": "y"
        },
        {
         "hovertemplate": "timestamp=2024-11-02 12:41:59+00:00<br>index=%{x}<br>value=%{y}<extra></extra>",
         "legendgroup": "2024-11-02 12:41:59+00:00",
         "line": {
          "color": "#B6E880",
          "dash": "solid"
         },
         "marker": {
          "symbol": "circle"
         },
         "mode": "lines",
         "name": "2024-11-02 12:41:59+00:00",
         "orientation": "v",
         "showlegend": true,
         "type": "scatter",
         "x": [
          0,
          1
         ],
         "xaxis": "x",
         "y": [
          4516.230930134774,
          4522.04829182488
         ],
         "yaxis": "y"
        },
        {
         "hovertemplate": "timestamp=2024-11-02 16:22:35+00:00<br>index=%{x}<br>value=%{y}<extra></extra>",
         "legendgroup": "2024-11-02 16:22:35+00:00",
         "line": {
          "color": "#FF97FF",
          "dash": "solid"
         },
         "marker": {
          "symbol": "circle"
         },
         "mode": "lines",
         "name": "2024-11-02 16:22:35+00:00",
         "orientation": "v",
         "showlegend": true,
         "type": "scatter",
         "x": [
          0,
          1
         ],
         "xaxis": "x",
         "y": [
          4516.193060092172,
          4522.051970020979
         ],
         "yaxis": "y"
        },
        {
         "hovertemplate": "timestamp=2024-11-02 20:02:35+00:00<br>index=%{x}<br>value=%{y}<extra></extra>",
         "legendgroup": "2024-11-02 20:02:35+00:00",
         "line": {
          "color": "#FECB52",
          "dash": "solid"
         },
         "marker": {
          "symbol": "circle"
         },
         "mode": "lines",
         "name": "2024-11-02 20:02:35+00:00",
         "orientation": "v",
         "showlegend": true,
         "type": "scatter",
         "x": [
          0,
          1
         ],
         "xaxis": "x",
         "y": [
          4517.09004197182,
          4522.843461385004
         ],
         "yaxis": "y"
        },
        {
         "hovertemplate": "timestamp=2024-11-02 23:43:35+00:00<br>index=%{x}<br>value=%{y}<extra></extra>",
         "legendgroup": "2024-11-02 23:43:35+00:00",
         "line": {
          "color": "#636efa",
          "dash": "solid"
         },
         "marker": {
          "symbol": "circle"
         },
         "mode": "lines",
         "name": "2024-11-02 23:43:35+00:00",
         "orientation": "v",
         "showlegend": true,
         "type": "scatter",
         "x": [
          0,
          1
         ],
         "xaxis": "x",
         "y": [
          4517.046587185897,
          4522.838505742287
         ],
         "yaxis": "y"
        },
        {
         "hovertemplate": "timestamp=2024-11-03 03:24:23+00:00<br>index=%{x}<br>value=%{y}<extra></extra>",
         "legendgroup": "2024-11-03 03:24:23+00:00",
         "line": {
          "color": "#EF553B",
          "dash": "solid"
         },
         "marker": {
          "symbol": "circle"
         },
         "mode": "lines",
         "name": "2024-11-03 03:24:23+00:00",
         "orientation": "v",
         "showlegend": true,
         "type": "scatter",
         "x": [
          0,
          1
         ],
         "xaxis": "x",
         "y": [
          4516.997065148128,
          4522.823435008057
         ],
         "yaxis": "y"
        },
        {
         "hovertemplate": "timestamp=2024-11-03 07:04:35+00:00<br>index=%{x}<br>value=%{y}<extra></extra>",
         "legendgroup": "2024-11-03 07:04:35+00:00",
         "line": {
          "color": "#00cc96",
          "dash": "solid"
         },
         "marker": {
          "symbol": "circle"
         },
         "mode": "lines",
         "name": "2024-11-03 07:04:35+00:00",
         "orientation": "v",
         "showlegend": true,
         "type": "scatter",
         "x": [
          0,
          1
         ],
         "xaxis": "x",
         "y": [
          4517.312360274578,
          4523.21543384197
         ],
         "yaxis": "y"
        },
        {
         "hovertemplate": "timestamp=2024-11-03 10:43:47+00:00<br>index=%{x}<br>value=%{y}<extra></extra>",
         "legendgroup": "2024-11-03 10:43:47+00:00",
         "line": {
          "color": "#ab63fa",
          "dash": "solid"
         },
         "marker": {
          "symbol": "circle"
         },
         "mode": "lines",
         "name": "2024-11-03 10:43:47+00:00",
         "orientation": "v",
         "showlegend": true,
         "type": "scatter",
         "x": [
          0,
          1
         ],
         "xaxis": "x",
         "y": [
          4517.516192918366,
          4523.222961341608
         ],
         "yaxis": "y"
        },
        {
         "hovertemplate": "timestamp=2024-11-03 14:23:47+00:00<br>index=%{x}<br>value=%{y}<extra></extra>",
         "legendgroup": "2024-11-03 14:23:47+00:00",
         "line": {
          "color": "#FFA15A",
          "dash": "solid"
         },
         "marker": {
          "symbol": "circle"
         },
         "mode": "lines",
         "name": "2024-11-03 14:23:47+00:00",
         "orientation": "v",
         "showlegend": true,
         "type": "scatter",
         "x": [
          0,
          1
         ],
         "xaxis": "x",
         "y": [
          4517.444773972931,
          4523.220617642671
         ],
         "yaxis": "y"
        },
        {
         "hovertemplate": "timestamp=2024-11-03 18:04:35+00:00<br>index=%{x}<br>value=%{y}<extra></extra>",
         "legendgroup": "2024-11-03 18:04:35+00:00",
         "line": {
          "color": "#19d3f3",
          "dash": "solid"
         },
         "marker": {
          "symbol": "circle"
         },
         "mode": "lines",
         "name": "2024-11-03 18:04:35+00:00",
         "orientation": "v",
         "showlegend": true,
         "type": "scatter",
         "x": [
          0,
          1
         ],
         "xaxis": "x",
         "y": [
          4489.050314669403,
          4495.0750196964655
         ],
         "yaxis": "y"
        },
        {
         "hovertemplate": "timestamp=2024-11-03 21:43:59+00:00<br>index=%{x}<br>value=%{y}<extra></extra>",
         "legendgroup": "2024-11-03 21:43:59+00:00",
         "line": {
          "color": "#FF6692",
          "dash": "solid"
         },
         "marker": {
          "symbol": "circle"
         },
         "mode": "lines",
         "name": "2024-11-03 21:43:59+00:00",
         "orientation": "v",
         "showlegend": true,
         "type": "scatter",
         "x": [
          0,
          1
         ],
         "xaxis": "x",
         "y": [
          4468.302950913035,
          4474.402178653762
         ],
         "yaxis": "y"
        },
        {
         "hovertemplate": "timestamp=2024-11-04 01:23:47+00:00<br>index=%{x}<br>value=%{y}<extra></extra>",
         "legendgroup": "2024-11-04 01:23:47+00:00",
         "line": {
          "color": "#B6E880",
          "dash": "solid"
         },
         "marker": {
          "symbol": "circle"
         },
         "mode": "lines",
         "name": "2024-11-04 01:23:47+00:00",
         "orientation": "v",
         "showlegend": true,
         "type": "scatter",
         "x": [
          0,
          1
         ],
         "xaxis": "x",
         "y": [
          4468.2334648712085,
          4474.374244014293
         ],
         "yaxis": "y"
        },
        {
         "hovertemplate": "timestamp=2024-11-04 05:03:47+00:00<br>index=%{x}<br>value=%{y}<extra></extra>",
         "legendgroup": "2024-11-04 05:03:47+00:00",
         "line": {
          "color": "#FF97FF",
          "dash": "solid"
         },
         "marker": {
          "symbol": "circle"
         },
         "mode": "lines",
         "name": "2024-11-04 05:03:47+00:00",
         "orientation": "v",
         "showlegend": true,
         "type": "scatter",
         "x": [
          0,
          1
         ],
         "xaxis": "x",
         "y": [
          4468.16407083652,
          4474.364762679024
         ],
         "yaxis": "y"
        },
        {
         "hovertemplate": "timestamp=2024-11-04 08:42:59+00:00<br>index=%{x}<br>value=%{y}<extra></extra>",
         "legendgroup": "2024-11-04 08:42:59+00:00",
         "line": {
          "color": "#FECB52",
          "dash": "solid"
         },
         "marker": {
          "symbol": "circle"
         },
         "mode": "lines",
         "name": "2024-11-04 08:42:59+00:00",
         "orientation": "v",
         "showlegend": true,
         "type": "scatter",
         "x": [
          0,
          1
         ],
         "xaxis": "x",
         "y": [
          4468.947925382616,
          4474.827064988098
         ],
         "yaxis": "y"
        },
        {
         "hovertemplate": "timestamp=2024-11-04 12:23:35+00:00<br>index=%{x}<br>value=%{y}<extra></extra>",
         "legendgroup": "2024-11-04 12:23:35+00:00",
         "line": {
          "color": "#636efa",
          "dash": "solid"
         },
         "marker": {
          "symbol": "circle"
         },
         "mode": "lines",
         "name": "2024-11-04 12:23:35+00:00",
         "orientation": "v",
         "showlegend": true,
         "type": "scatter",
         "x": [
          0,
          1
         ],
         "xaxis": "x",
         "y": [
          4468.874504578595,
          4474.813551525109
         ],
         "yaxis": "y"
        },
        {
         "hovertemplate": "timestamp=2024-11-04 16:02:59+00:00<br>index=%{x}<br>value=%{y}<extra></extra>",
         "legendgroup": "2024-11-04 16:02:59+00:00",
         "line": {
          "color": "#EF553B",
          "dash": "solid"
         },
         "marker": {
          "symbol": "circle"
         },
         "mode": "lines",
         "name": "2024-11-04 16:02:59+00:00",
         "orientation": "v",
         "showlegend": true,
         "type": "scatter",
         "x": [
          0,
          1
         ],
         "xaxis": "x",
         "y": [
          4468.81235148048,
          4474.791087865738
         ],
         "yaxis": "y"
        },
        {
         "hovertemplate": "timestamp=2024-11-04 19:43:23+00:00<br>index=%{x}<br>value=%{y}<extra></extra>",
         "legendgroup": "2024-11-04 19:43:23+00:00",
         "line": {
          "color": "#00cc96",
          "dash": "solid"
         },
         "marker": {
          "symbol": "circle"
         },
         "mode": "lines",
         "name": "2024-11-04 19:43:23+00:00",
         "orientation": "v",
         "showlegend": true,
         "type": "scatter",
         "x": [
          0,
          1
         ],
         "xaxis": "x",
         "y": [
          4469.342224358425,
          4475.19358106717
         ],
         "yaxis": "y"
        },
        {
         "hovertemplate": "timestamp=2024-11-04 23:23:23+00:00<br>index=%{x}<br>value=%{y}<extra></extra>",
         "legendgroup": "2024-11-04 23:23:23+00:00",
         "line": {
          "color": "#ab63fa",
          "dash": "solid"
         },
         "marker": {
          "symbol": "circle"
         },
         "mode": "lines",
         "name": "2024-11-04 23:23:23+00:00",
         "orientation": "v",
         "showlegend": true,
         "type": "scatter",
         "x": [
          0,
          1
         ],
         "xaxis": "x",
         "y": [
          4469.805777469912,
          4475.600824307125
         ],
         "yaxis": "y"
        },
        {
         "hovertemplate": "timestamp=2024-11-05 03:03:23+00:00<br>index=%{x}<br>value=%{y}<extra></extra>",
         "legendgroup": "2024-11-05 03:03:23+00:00",
         "line": {
          "color": "#FFA15A",
          "dash": "solid"
         },
         "marker": {
          "symbol": "circle"
         },
         "mode": "lines",
         "name": "2024-11-05 03:03:23+00:00",
         "orientation": "v",
         "showlegend": true,
         "type": "scatter",
         "x": [
          0,
          1
         ],
         "xaxis": "x",
         "y": [
          4469.762133012583,
          4475.59940452425
         ],
         "yaxis": "y"
        },
        {
         "hovertemplate": "timestamp=2024-11-05 06:44:11+00:00<br>index=%{x}<br>value=%{y}<extra></extra>",
         "legendgroup": "2024-11-05 06:44:11+00:00",
         "line": {
          "color": "#19d3f3",
          "dash": "solid"
         },
         "marker": {
          "symbol": "circle"
         },
         "mode": "lines",
         "name": "2024-11-05 06:44:11+00:00",
         "orientation": "v",
         "showlegend": true,
         "type": "scatter",
         "x": [
          0,
          1
         ],
         "xaxis": "x",
         "y": [
          4470.043706478096,
          4475.9497711888325
         ],
         "yaxis": "y"
        },
        {
         "hovertemplate": "timestamp=2024-11-05 10:24:11+00:00<br>index=%{x}<br>value=%{y}<extra></extra>",
         "legendgroup": "2024-11-05 10:24:11+00:00",
         "line": {
          "color": "#FF6692",
          "dash": "solid"
         },
         "marker": {
          "symbol": "circle"
         },
         "mode": "lines",
         "name": "2024-11-05 10:24:11+00:00",
         "orientation": "v",
         "showlegend": true,
         "type": "scatter",
         "x": [
          0,
          1
         ],
         "xaxis": "x",
         "y": [
          4470.613908398731,
          4476.087332250815
         ],
         "yaxis": "y"
        },
        {
         "hovertemplate": "timestamp=2024-11-05 14:04:11+00:00<br>index=%{x}<br>value=%{y}<extra></extra>",
         "legendgroup": "2024-11-05 14:04:11+00:00",
         "line": {
          "color": "#B6E880",
          "dash": "solid"
         },
         "marker": {
          "symbol": "circle"
         },
         "mode": "lines",
         "name": "2024-11-05 14:04:11+00:00",
         "orientation": "v",
         "showlegend": true,
         "type": "scatter",
         "x": [
          0,
          1
         ],
         "xaxis": "x",
         "y": [
          4470.550571977687,
          4476.095978233276
         ],
         "yaxis": "y"
        },
        {
         "hovertemplate": "timestamp=2024-11-05 17:44:23+00:00<br>index=%{x}<br>value=%{y}<extra></extra>",
         "legendgroup": "2024-11-05 17:44:23+00:00",
         "line": {
          "color": "#FF97FF",
          "dash": "solid"
         },
         "marker": {
          "symbol": "circle"
         },
         "mode": "lines",
         "name": "2024-11-05 17:44:23+00:00",
         "orientation": "v",
         "showlegend": true,
         "type": "scatter",
         "x": [
          0,
          1
         ],
         "xaxis": "x",
         "y": [
          4471.074427264568,
          4476.2247244345235
         ],
         "yaxis": "y"
        },
        {
         "hovertemplate": "timestamp=2024-11-05 21:25:11+00:00<br>index=%{x}<br>value=%{y}<extra></extra>",
         "legendgroup": "2024-11-05 21:25:11+00:00",
         "line": {
          "color": "#FECB52",
          "dash": "solid"
         },
         "marker": {
          "symbol": "circle"
         },
         "mode": "lines",
         "name": "2024-11-05 21:25:11+00:00",
         "orientation": "v",
         "showlegend": true,
         "type": "scatter",
         "x": [
          0,
          1
         ],
         "xaxis": "x",
         "y": [
          4528.843699622907,
          4534.043080229934
         ],
         "yaxis": "y"
        },
        {
         "hovertemplate": "timestamp=2024-11-06 01:04:59+00:00<br>index=%{x}<br>value=%{y}<extra></extra>",
         "legendgroup": "2024-11-06 01:04:59+00:00",
         "line": {
          "color": "#636efa",
          "dash": "solid"
         },
         "marker": {
          "symbol": "circle"
         },
         "mode": "lines",
         "name": "2024-11-06 01:04:59+00:00",
         "orientation": "v",
         "showlegend": true,
         "type": "scatter",
         "x": [
          0,
          1
         ],
         "xaxis": "x",
         "y": [
          4528.777965185231,
          4534.062301189379
         ],
         "yaxis": "y"
        },
        {
         "hovertemplate": "timestamp=2024-11-06 04:44:23+00:00<br>index=%{x}<br>value=%{y}<extra></extra>",
         "legendgroup": "2024-11-06 04:44:23+00:00",
         "line": {
          "color": "#EF553B",
          "dash": "solid"
         },
         "marker": {
          "symbol": "circle"
         },
         "mode": "lines",
         "name": "2024-11-06 04:44:23+00:00",
         "orientation": "v",
         "showlegend": true,
         "type": "scatter",
         "x": [
          0,
          1
         ],
         "xaxis": "x",
         "y": [
          4528.709914132785,
          4534.045711550293
         ],
         "yaxis": "y"
        },
        {
         "hovertemplate": "timestamp=2024-11-06 08:24:23+00:00<br>index=%{x}<br>value=%{y}<extra></extra>",
         "legendgroup": "2024-11-06 08:24:23+00:00",
         "line": {
          "color": "#00cc96",
          "dash": "solid"
         },
         "marker": {
          "symbol": "circle"
         },
         "mode": "lines",
         "name": "2024-11-06 08:24:23+00:00",
         "orientation": "v",
         "showlegend": true,
         "type": "scatter",
         "x": [
          0,
          1
         ],
         "xaxis": "x",
         "y": [
          4528.973693594222,
          4534.351050950381
         ],
         "yaxis": "y"
        },
        {
         "hovertemplate": "timestamp=2024-11-06 12:05:23+00:00<br>index=%{x}<br>value=%{y}<extra></extra>",
         "legendgroup": "2024-11-06 12:05:23+00:00",
         "line": {
          "color": "#ab63fa",
          "dash": "solid"
         },
         "marker": {
          "symbol": "circle"
         },
         "mode": "lines",
         "name": "2024-11-06 12:05:23+00:00",
         "orientation": "v",
         "showlegend": true,
         "type": "scatter",
         "x": [
          0,
          1
         ],
         "xaxis": "x",
         "y": [
          4528.807648851282,
          4534.308591114838
         ],
         "yaxis": "y"
        },
        {
         "hovertemplate": "timestamp=2024-11-06 15:45:47+00:00<br>index=%{x}<br>value=%{y}<extra></extra>",
         "legendgroup": "2024-11-06 15:45:47+00:00",
         "line": {
          "color": "#FFA15A",
          "dash": "solid"
         },
         "marker": {
          "symbol": "circle"
         },
         "mode": "lines",
         "name": "2024-11-06 15:45:47+00:00",
         "orientation": "v",
         "showlegend": true,
         "type": "scatter",
         "x": [
          0,
          1
         ],
         "xaxis": "x",
         "y": [
          4528.655775972964,
          4534.354677673564
         ],
         "yaxis": "y"
        },
        {
         "hovertemplate": "timestamp=2024-11-06 19:25:23+00:00<br>index=%{x}<br>value=%{y}<extra></extra>",
         "legendgroup": "2024-11-06 19:25:23+00:00",
         "line": {
          "color": "#19d3f3",
          "dash": "solid"
         },
         "marker": {
          "symbol": "circle"
         },
         "mode": "lines",
         "name": "2024-11-06 19:25:23+00:00",
         "orientation": "v",
         "showlegend": true,
         "type": "scatter",
         "x": [
          0,
          1
         ],
         "xaxis": "x",
         "y": [
          4528.579938678239,
          4534.317047758191
         ],
         "yaxis": "y"
        },
        {
         "hovertemplate": "timestamp=2024-11-06 23:05:35+00:00<br>index=%{x}<br>value=%{y}<extra></extra>",
         "legendgroup": "2024-11-06 23:05:35+00:00",
         "line": {
          "color": "#FF6692",
          "dash": "solid"
         },
         "marker": {
          "symbol": "circle"
         },
         "mode": "lines",
         "name": "2024-11-06 23:05:35+00:00",
         "orientation": "v",
         "showlegend": true,
         "type": "scatter",
         "x": [
          0,
          1
         ],
         "xaxis": "x",
         "y": [
          4538.554317131356,
          4544.340147002887
         ],
         "yaxis": "y"
        },
        {
         "hovertemplate": "timestamp=2024-11-07 02:45:35+00:00<br>index=%{x}<br>value=%{y}<extra></extra>",
         "legendgroup": "2024-11-07 02:45:35+00:00",
         "line": {
          "color": "#B6E880",
          "dash": "solid"
         },
         "marker": {
          "symbol": "circle"
         },
         "mode": "lines",
         "name": "2024-11-07 02:45:35+00:00",
         "orientation": "v",
         "showlegend": true,
         "type": "scatter",
         "x": [
          0,
          1
         ],
         "xaxis": "x",
         "y": [
          4509.214661170533,
          4515.05393512842
         ],
         "yaxis": "y"
        },
        {
         "hovertemplate": "timestamp=2024-11-07 06:25:23+00:00<br>index=%{x}<br>value=%{y}<extra></extra>",
         "legendgroup": "2024-11-07 06:25:23+00:00",
         "line": {
          "color": "#FF97FF",
          "dash": "solid"
         },
         "marker": {
          "symbol": "circle"
         },
         "mode": "lines",
         "name": "2024-11-07 06:25:23+00:00",
         "orientation": "v",
         "showlegend": true,
         "type": "scatter",
         "x": [
          0,
          1
         ],
         "xaxis": "x",
         "y": [
          4509.149989337457,
          4515.039399658261
         ],
         "yaxis": "y"
        },
        {
         "hovertemplate": "timestamp=2024-11-07 10:05:23+00:00<br>index=%{x}<br>value=%{y}<extra></extra>",
         "legendgroup": "2024-11-07 10:05:23+00:00",
         "line": {
          "color": "#FECB52",
          "dash": "solid"
         },
         "marker": {
          "symbol": "circle"
         },
         "mode": "lines",
         "name": "2024-11-07 10:05:23+00:00",
         "orientation": "v",
         "showlegend": true,
         "type": "scatter",
         "x": [
          0,
          1
         ],
         "xaxis": "x",
         "y": [
          4509.592509707735,
          4515.157973955538
         ],
         "yaxis": "y"
        },
        {
         "hovertemplate": "timestamp=2024-11-07 13:45:47+00:00<br>index=%{x}<br>value=%{y}<extra></extra>",
         "legendgroup": "2024-11-07 13:45:47+00:00",
         "line": {
          "color": "#636efa",
          "dash": "solid"
         },
         "marker": {
          "symbol": "circle"
         },
         "mode": "lines",
         "name": "2024-11-07 13:45:47+00:00",
         "orientation": "v",
         "showlegend": true,
         "type": "scatter",
         "x": [
          0,
          1
         ],
         "xaxis": "x",
         "y": [
          4492.2657980563445,
          4497.875682859358
         ],
         "yaxis": "y"
        },
        {
         "hovertemplate": "timestamp=2024-11-07 17:27:11+00:00<br>index=%{x}<br>value=%{y}<extra></extra>",
         "legendgroup": "2024-11-07 17:27:11+00:00",
         "line": {
          "color": "#EF553B",
          "dash": "solid"
         },
         "marker": {
          "symbol": "circle"
         },
         "mode": "lines",
         "name": "2024-11-07 17:27:11+00:00",
         "orientation": "v",
         "showlegend": true,
         "type": "scatter",
         "x": [
          0,
          1
         ],
         "xaxis": "x",
         "y": [
          4492.18708759927,
          4497.834200703129
         ],
         "yaxis": "y"
        },
        {
         "hovertemplate": "timestamp=2024-11-07 21:06:59+00:00<br>index=%{x}<br>value=%{y}<extra></extra>",
         "legendgroup": "2024-11-07 21:06:59+00:00",
         "line": {
          "color": "#00cc96",
          "dash": "solid"
         },
         "marker": {
          "symbol": "circle"
         },
         "mode": "lines",
         "name": "2024-11-07 21:06:59+00:00",
         "orientation": "v",
         "showlegend": true,
         "type": "scatter",
         "x": [
          0,
          1
         ],
         "xaxis": "x",
         "y": [
          4491.79667711263,
          4497.503788961116
         ],
         "yaxis": "y"
        },
        {
         "hovertemplate": "timestamp=2024-11-08 00:47:47+00:00<br>index=%{x}<br>value=%{y}<extra></extra>",
         "legendgroup": "2024-11-08 00:47:47+00:00",
         "line": {
          "color": "#ab63fa",
          "dash": "solid"
         },
         "marker": {
          "symbol": "circle"
         },
         "mode": "lines",
         "name": "2024-11-08 00:47:47+00:00",
         "orientation": "v",
         "showlegend": true,
         "type": "scatter",
         "x": [
          0,
          1
         ],
         "xaxis": "x",
         "y": [
          4491.960741302974,
          4497.212525766314
         ],
         "yaxis": "y"
        },
        {
         "hovertemplate": "timestamp=2024-11-08 04:29:35+00:00<br>index=%{x}<br>value=%{y}<extra></extra>",
         "legendgroup": "2024-11-08 04:29:35+00:00",
         "line": {
          "color": "#FFA15A",
          "dash": "solid"
         },
         "marker": {
          "symbol": "circle"
         },
         "mode": "lines",
         "name": "2024-11-08 04:29:35+00:00",
         "orientation": "v",
         "showlegend": true,
         "type": "scatter",
         "x": [
          0,
          1
         ],
         "xaxis": "x",
         "y": [
          4492.213050490119,
          4497.69114049462
         ],
         "yaxis": "y"
        },
        {
         "hovertemplate": "timestamp=2024-11-08 08:09:59+00:00<br>index=%{x}<br>value=%{y}<extra></extra>",
         "legendgroup": "2024-11-08 08:09:59+00:00",
         "line": {
          "color": "#19d3f3",
          "dash": "solid"
         },
         "marker": {
          "symbol": "circle"
         },
         "mode": "lines",
         "name": "2024-11-08 08:09:59+00:00",
         "orientation": "v",
         "showlegend": true,
         "type": "scatter",
         "x": [
          0,
          1
         ],
         "xaxis": "x",
         "y": [
          4913.157103598165,
          4918.713585108268
         ],
         "yaxis": "y"
        },
        {
         "hovertemplate": "timestamp=2024-11-08 11:49:35+00:00<br>index=%{x}<br>value=%{y}<extra></extra>",
         "legendgroup": "2024-11-08 11:49:35+00:00",
         "line": {
          "color": "#FF6692",
          "dash": "solid"
         },
         "marker": {
          "symbol": "circle"
         },
         "mode": "lines",
         "name": "2024-11-08 11:49:35+00:00",
         "orientation": "v",
         "showlegend": true,
         "type": "scatter",
         "x": [
          0,
          1
         ],
         "xaxis": "x",
         "y": [
          4916.869936807298,
          4919.930601560489
         ],
         "yaxis": "y"
        }
       ],
       "layout": {
        "legend": {
         "title": {
          "text": "timestamp"
         },
         "tracegroupgap": 0
        },
        "margin": {
         "t": 60
        },
        "template": {
         "data": {
          "bar": [
           {
            "error_x": {
             "color": "#2a3f5f"
            },
            "error_y": {
             "color": "#2a3f5f"
            },
            "marker": {
             "line": {
              "color": "#E5ECF6",
              "width": 0.5
             },
             "pattern": {
              "fillmode": "overlay",
              "size": 10,
              "solidity": 0.2
             }
            },
            "type": "bar"
           }
          ],
          "barpolar": [
           {
            "marker": {
             "line": {
              "color": "#E5ECF6",
              "width": 0.5
             },
             "pattern": {
              "fillmode": "overlay",
              "size": 10,
              "solidity": 0.2
             }
            },
            "type": "barpolar"
           }
          ],
          "carpet": [
           {
            "aaxis": {
             "endlinecolor": "#2a3f5f",
             "gridcolor": "white",
             "linecolor": "white",
             "minorgridcolor": "white",
             "startlinecolor": "#2a3f5f"
            },
            "baxis": {
             "endlinecolor": "#2a3f5f",
             "gridcolor": "white",
             "linecolor": "white",
             "minorgridcolor": "white",
             "startlinecolor": "#2a3f5f"
            },
            "type": "carpet"
           }
          ],
          "choropleth": [
           {
            "colorbar": {
             "outlinewidth": 0,
             "ticks": ""
            },
            "type": "choropleth"
           }
          ],
          "contour": [
           {
            "colorbar": {
             "outlinewidth": 0,
             "ticks": ""
            },
            "colorscale": [
             [
              0,
              "#0d0887"
             ],
             [
              0.1111111111111111,
              "#46039f"
             ],
             [
              0.2222222222222222,
              "#7201a8"
             ],
             [
              0.3333333333333333,
              "#9c179e"
             ],
             [
              0.4444444444444444,
              "#bd3786"
             ],
             [
              0.5555555555555556,
              "#d8576b"
             ],
             [
              0.6666666666666666,
              "#ed7953"
             ],
             [
              0.7777777777777778,
              "#fb9f3a"
             ],
             [
              0.8888888888888888,
              "#fdca26"
             ],
             [
              1,
              "#f0f921"
             ]
            ],
            "type": "contour"
           }
          ],
          "contourcarpet": [
           {
            "colorbar": {
             "outlinewidth": 0,
             "ticks": ""
            },
            "type": "contourcarpet"
           }
          ],
          "heatmap": [
           {
            "colorbar": {
             "outlinewidth": 0,
             "ticks": ""
            },
            "colorscale": [
             [
              0,
              "#0d0887"
             ],
             [
              0.1111111111111111,
              "#46039f"
             ],
             [
              0.2222222222222222,
              "#7201a8"
             ],
             [
              0.3333333333333333,
              "#9c179e"
             ],
             [
              0.4444444444444444,
              "#bd3786"
             ],
             [
              0.5555555555555556,
              "#d8576b"
             ],
             [
              0.6666666666666666,
              "#ed7953"
             ],
             [
              0.7777777777777778,
              "#fb9f3a"
             ],
             [
              0.8888888888888888,
              "#fdca26"
             ],
             [
              1,
              "#f0f921"
             ]
            ],
            "type": "heatmap"
           }
          ],
          "heatmapgl": [
           {
            "colorbar": {
             "outlinewidth": 0,
             "ticks": ""
            },
            "colorscale": [
             [
              0,
              "#0d0887"
             ],
             [
              0.1111111111111111,
              "#46039f"
             ],
             [
              0.2222222222222222,
              "#7201a8"
             ],
             [
              0.3333333333333333,
              "#9c179e"
             ],
             [
              0.4444444444444444,
              "#bd3786"
             ],
             [
              0.5555555555555556,
              "#d8576b"
             ],
             [
              0.6666666666666666,
              "#ed7953"
             ],
             [
              0.7777777777777778,
              "#fb9f3a"
             ],
             [
              0.8888888888888888,
              "#fdca26"
             ],
             [
              1,
              "#f0f921"
             ]
            ],
            "type": "heatmapgl"
           }
          ],
          "histogram": [
           {
            "marker": {
             "pattern": {
              "fillmode": "overlay",
              "size": 10,
              "solidity": 0.2
             }
            },
            "type": "histogram"
           }
          ],
          "histogram2d": [
           {
            "colorbar": {
             "outlinewidth": 0,
             "ticks": ""
            },
            "colorscale": [
             [
              0,
              "#0d0887"
             ],
             [
              0.1111111111111111,
              "#46039f"
             ],
             [
              0.2222222222222222,
              "#7201a8"
             ],
             [
              0.3333333333333333,
              "#9c179e"
             ],
             [
              0.4444444444444444,
              "#bd3786"
             ],
             [
              0.5555555555555556,
              "#d8576b"
             ],
             [
              0.6666666666666666,
              "#ed7953"
             ],
             [
              0.7777777777777778,
              "#fb9f3a"
             ],
             [
              0.8888888888888888,
              "#fdca26"
             ],
             [
              1,
              "#f0f921"
             ]
            ],
            "type": "histogram2d"
           }
          ],
          "histogram2dcontour": [
           {
            "colorbar": {
             "outlinewidth": 0,
             "ticks": ""
            },
            "colorscale": [
             [
              0,
              "#0d0887"
             ],
             [
              0.1111111111111111,
              "#46039f"
             ],
             [
              0.2222222222222222,
              "#7201a8"
             ],
             [
              0.3333333333333333,
              "#9c179e"
             ],
             [
              0.4444444444444444,
              "#bd3786"
             ],
             [
              0.5555555555555556,
              "#d8576b"
             ],
             [
              0.6666666666666666,
              "#ed7953"
             ],
             [
              0.7777777777777778,
              "#fb9f3a"
             ],
             [
              0.8888888888888888,
              "#fdca26"
             ],
             [
              1,
              "#f0f921"
             ]
            ],
            "type": "histogram2dcontour"
           }
          ],
          "mesh3d": [
           {
            "colorbar": {
             "outlinewidth": 0,
             "ticks": ""
            },
            "type": "mesh3d"
           }
          ],
          "parcoords": [
           {
            "line": {
             "colorbar": {
              "outlinewidth": 0,
              "ticks": ""
             }
            },
            "type": "parcoords"
           }
          ],
          "pie": [
           {
            "automargin": true,
            "type": "pie"
           }
          ],
          "scatter": [
           {
            "fillpattern": {
             "fillmode": "overlay",
             "size": 10,
             "solidity": 0.2
            },
            "type": "scatter"
           }
          ],
          "scatter3d": [
           {
            "line": {
             "colorbar": {
              "outlinewidth": 0,
              "ticks": ""
             }
            },
            "marker": {
             "colorbar": {
              "outlinewidth": 0,
              "ticks": ""
             }
            },
            "type": "scatter3d"
           }
          ],
          "scattercarpet": [
           {
            "marker": {
             "colorbar": {
              "outlinewidth": 0,
              "ticks": ""
             }
            },
            "type": "scattercarpet"
           }
          ],
          "scattergeo": [
           {
            "marker": {
             "colorbar": {
              "outlinewidth": 0,
              "ticks": ""
             }
            },
            "type": "scattergeo"
           }
          ],
          "scattergl": [
           {
            "marker": {
             "colorbar": {
              "outlinewidth": 0,
              "ticks": ""
             }
            },
            "type": "scattergl"
           }
          ],
          "scattermapbox": [
           {
            "marker": {
             "colorbar": {
              "outlinewidth": 0,
              "ticks": ""
             }
            },
            "type": "scattermapbox"
           }
          ],
          "scatterpolar": [
           {
            "marker": {
             "colorbar": {
              "outlinewidth": 0,
              "ticks": ""
             }
            },
            "type": "scatterpolar"
           }
          ],
          "scatterpolargl": [
           {
            "marker": {
             "colorbar": {
              "outlinewidth": 0,
              "ticks": ""
             }
            },
            "type": "scatterpolargl"
           }
          ],
          "scatterternary": [
           {
            "marker": {
             "colorbar": {
              "outlinewidth": 0,
              "ticks": ""
             }
            },
            "type": "scatterternary"
           }
          ],
          "surface": [
           {
            "colorbar": {
             "outlinewidth": 0,
             "ticks": ""
            },
            "colorscale": [
             [
              0,
              "#0d0887"
             ],
             [
              0.1111111111111111,
              "#46039f"
             ],
             [
              0.2222222222222222,
              "#7201a8"
             ],
             [
              0.3333333333333333,
              "#9c179e"
             ],
             [
              0.4444444444444444,
              "#bd3786"
             ],
             [
              0.5555555555555556,
              "#d8576b"
             ],
             [
              0.6666666666666666,
              "#ed7953"
             ],
             [
              0.7777777777777778,
              "#fb9f3a"
             ],
             [
              0.8888888888888888,
              "#fdca26"
             ],
             [
              1,
              "#f0f921"
             ]
            ],
            "type": "surface"
           }
          ],
          "table": [
           {
            "cells": {
             "fill": {
              "color": "#EBF0F8"
             },
             "line": {
              "color": "white"
             }
            },
            "header": {
             "fill": {
              "color": "#C8D4E3"
             },
             "line": {
              "color": "white"
             }
            },
            "type": "table"
           }
          ]
         },
         "layout": {
          "annotationdefaults": {
           "arrowcolor": "#2a3f5f",
           "arrowhead": 0,
           "arrowwidth": 1
          },
          "autotypenumbers": "strict",
          "coloraxis": {
           "colorbar": {
            "outlinewidth": 0,
            "ticks": ""
           }
          },
          "colorscale": {
           "diverging": [
            [
             0,
             "#8e0152"
            ],
            [
             0.1,
             "#c51b7d"
            ],
            [
             0.2,
             "#de77ae"
            ],
            [
             0.3,
             "#f1b6da"
            ],
            [
             0.4,
             "#fde0ef"
            ],
            [
             0.5,
             "#f7f7f7"
            ],
            [
             0.6,
             "#e6f5d0"
            ],
            [
             0.7,
             "#b8e186"
            ],
            [
             0.8,
             "#7fbc41"
            ],
            [
             0.9,
             "#4d9221"
            ],
            [
             1,
             "#276419"
            ]
           ],
           "sequential": [
            [
             0,
             "#0d0887"
            ],
            [
             0.1111111111111111,
             "#46039f"
            ],
            [
             0.2222222222222222,
             "#7201a8"
            ],
            [
             0.3333333333333333,
             "#9c179e"
            ],
            [
             0.4444444444444444,
             "#bd3786"
            ],
            [
             0.5555555555555556,
             "#d8576b"
            ],
            [
             0.6666666666666666,
             "#ed7953"
            ],
            [
             0.7777777777777778,
             "#fb9f3a"
            ],
            [
             0.8888888888888888,
             "#fdca26"
            ],
            [
             1,
             "#f0f921"
            ]
           ],
           "sequentialminus": [
            [
             0,
             "#0d0887"
            ],
            [
             0.1111111111111111,
             "#46039f"
            ],
            [
             0.2222222222222222,
             "#7201a8"
            ],
            [
             0.3333333333333333,
             "#9c179e"
            ],
            [
             0.4444444444444444,
             "#bd3786"
            ],
            [
             0.5555555555555556,
             "#d8576b"
            ],
            [
             0.6666666666666666,
             "#ed7953"
            ],
            [
             0.7777777777777778,
             "#fb9f3a"
            ],
            [
             0.8888888888888888,
             "#fdca26"
            ],
            [
             1,
             "#f0f921"
            ]
           ]
          },
          "colorway": [
           "#636efa",
           "#EF553B",
           "#00cc96",
           "#ab63fa",
           "#FFA15A",
           "#19d3f3",
           "#FF6692",
           "#B6E880",
           "#FF97FF",
           "#FECB52"
          ],
          "font": {
           "color": "#2a3f5f"
          },
          "geo": {
           "bgcolor": "white",
           "lakecolor": "white",
           "landcolor": "#E5ECF6",
           "showlakes": true,
           "showland": true,
           "subunitcolor": "white"
          },
          "hoverlabel": {
           "align": "left"
          },
          "hovermode": "closest",
          "mapbox": {
           "style": "light"
          },
          "paper_bgcolor": "white",
          "plot_bgcolor": "#E5ECF6",
          "polar": {
           "angularaxis": {
            "gridcolor": "white",
            "linecolor": "white",
            "ticks": ""
           },
           "bgcolor": "#E5ECF6",
           "radialaxis": {
            "gridcolor": "white",
            "linecolor": "white",
            "ticks": ""
           }
          },
          "scene": {
           "xaxis": {
            "backgroundcolor": "#E5ECF6",
            "gridcolor": "white",
            "gridwidth": 2,
            "linecolor": "white",
            "showbackground": true,
            "ticks": "",
            "zerolinecolor": "white"
           },
           "yaxis": {
            "backgroundcolor": "#E5ECF6",
            "gridcolor": "white",
            "gridwidth": 2,
            "linecolor": "white",
            "showbackground": true,
            "ticks": "",
            "zerolinecolor": "white"
           },
           "zaxis": {
            "backgroundcolor": "#E5ECF6",
            "gridcolor": "white",
            "gridwidth": 2,
            "linecolor": "white",
            "showbackground": true,
            "ticks": "",
            "zerolinecolor": "white"
           }
          },
          "shapedefaults": {
           "line": {
            "color": "#2a3f5f"
           }
          },
          "ternary": {
           "aaxis": {
            "gridcolor": "white",
            "linecolor": "white",
            "ticks": ""
           },
           "baxis": {
            "gridcolor": "white",
            "linecolor": "white",
            "ticks": ""
           },
           "bgcolor": "#E5ECF6",
           "caxis": {
            "gridcolor": "white",
            "linecolor": "white",
            "ticks": ""
           }
          },
          "title": {
           "x": 0.05
          },
          "xaxis": {
           "automargin": true,
           "gridcolor": "white",
           "linecolor": "white",
           "ticks": "",
           "title": {
            "standoff": 15
           },
           "zerolinecolor": "white",
           "zerolinewidth": 2
          },
          "yaxis": {
           "automargin": true,
           "gridcolor": "white",
           "linecolor": "white",
           "ticks": "",
           "title": {
            "standoff": 15
           },
           "zerolinecolor": "white",
           "zerolinewidth": 2
          }
         }
        },
        "xaxis": {
         "anchor": "y",
         "domain": [
          0,
          1
         ],
         "title": {
          "text": "index"
         }
        },
        "yaxis": {
         "anchor": "x",
         "domain": [
          0,
          1
         ],
         "title": {
          "text": "value"
         }
        }
       }
      }
     },
     "metadata": {},
     "output_type": "display_data"
    }
   ],
   "source": [
    "\n",
    "px.line([tvl, scaled_tvl])"
   ]
  },
  {
   "cell_type": "code",
   "execution_count": null,
   "metadata": {},
   "outputs": [
    {
     "data": {
      "text/plain": [
       "timestamp\n",
       "2024-09-15 02:04:47+00:00    1.000000\n",
       "2024-09-15 05:44:35+00:00    1.000000\n",
       "2024-09-15 09:24:47+00:00    1.000000\n",
       "2024-09-15 13:04:11+00:00    1.000000\n",
       "2024-09-15 16:44:23+00:00    1.000000\n",
       "                               ...   \n",
       "2024-11-07 21:06:59+00:00    1.004861\n",
       "2024-11-08 00:47:47+00:00    1.004821\n",
       "2024-11-08 04:29:35+00:00    1.004736\n",
       "2024-11-08 08:09:59+00:00    1.004717\n",
       "2024-11-08 11:49:35+00:00    1.004940\n",
       "Length: 357, dtype: float64"
      ]
     },
     "execution_count": 29,
     "metadata": {},
     "output_type": "execute_result"
    }
   ],
   "source": [
    "scaled_nav_per_share"
   ]
  },
  {
   "cell_type": "code",
   "execution_count": null,
   "metadata": {},
   "outputs": [
    {
     "data": {
      "application/vnd.plotly.v1+json": {
       "config": {
        "plotlyServerURL": "https://plot.ly"
       },
       "data": [
        {
         "hovertemplate": "variable=balETH_actual_nav_per_share<br>timestamp=%{x}<br>value=%{y}<extra></extra>",
         "legendgroup": "balETH_actual_nav_per_share",
         "line": {
          "color": "#636efa",
          "dash": "solid"
         },
         "marker": {
          "symbol": "circle"
         },
         "mode": "lines",
         "name": "balETH_actual_nav_per_share",
         "orientation": "v",
         "showlegend": true,
         "type": "scatter",
         "x": [
          "2024-09-15T02:04:47+00:00",
          "2024-09-15T05:44:35+00:00",
          "2024-09-15T09:24:47+00:00",
          "2024-09-15T13:04:11+00:00",
          "2024-09-15T16:44:23+00:00",
          "2024-09-15T20:23:35+00:00",
          "2024-09-16T00:03:11+00:00",
          "2024-09-16T03:43:47+00:00",
          "2024-09-16T07:23:23+00:00",
          "2024-09-16T11:04:47+00:00",
          "2024-09-16T14:46:11+00:00",
          "2024-09-16T18:26:47+00:00",
          "2024-09-16T22:06:23+00:00",
          "2024-09-17T01:46:35+00:00",
          "2024-09-17T05:27:47+00:00",
          "2024-09-17T09:08:35+00:00",
          "2024-09-17T12:48:23+00:00",
          "2024-09-17T16:29:11+00:00",
          "2024-09-17T20:09:47+00:00",
          "2024-09-17T23:50:47+00:00",
          "2024-09-18T03:30:35+00:00",
          "2024-09-18T07:11:35+00:00",
          "2024-09-18T10:51:35+00:00",
          "2024-09-18T14:32:23+00:00",
          "2024-09-18T18:12:23+00:00",
          "2024-09-18T21:52:47+00:00",
          "2024-09-19T01:33:11+00:00",
          "2024-09-19T05:13:23+00:00",
          "2024-09-19T08:53:23+00:00",
          "2024-09-19T12:33:23+00:00",
          "2024-09-19T16:13:23+00:00",
          "2024-09-19T19:53:23+00:00",
          "2024-09-19T23:33:11+00:00",
          "2024-09-20T03:13:35+00:00",
          "2024-09-20T06:54:11+00:00",
          "2024-09-20T10:35:11+00:00",
          "2024-09-20T14:14:59+00:00",
          "2024-09-20T17:54:59+00:00",
          "2024-09-20T21:35:23+00:00",
          "2024-09-21T01:16:23+00:00",
          "2024-09-21T04:56:23+00:00",
          "2024-09-21T08:38:11+00:00",
          "2024-09-21T12:18:11+00:00",
          "2024-09-21T15:58:11+00:00",
          "2024-09-21T19:38:11+00:00",
          "2024-09-21T23:19:11+00:00",
          "2024-09-22T02:58:47+00:00",
          "2024-09-22T06:38:35+00:00",
          "2024-09-22T10:18:23+00:00",
          "2024-09-22T13:58:11+00:00",
          "2024-09-22T17:37:59+00:00",
          "2024-09-22T21:18:11+00:00",
          "2024-09-23T00:57:47+00:00",
          "2024-09-23T04:37:23+00:00",
          "2024-09-23T08:17:35+00:00",
          "2024-09-23T11:58:59+00:00",
          "2024-09-23T15:38:59+00:00",
          "2024-09-23T19:18:59+00:00",
          "2024-09-23T22:58:59+00:00",
          "2024-09-24T02:38:47+00:00",
          "2024-09-24T06:18:23+00:00",
          "2024-09-24T09:57:47+00:00",
          "2024-09-24T13:37:23+00:00",
          "2024-09-24T17:17:47+00:00",
          "2024-09-24T20:57:11+00:00",
          "2024-09-25T00:36:59+00:00",
          "2024-09-25T04:17:23+00:00",
          "2024-09-25T07:57:11+00:00",
          "2024-09-25T11:37:35+00:00",
          "2024-09-25T15:18:35+00:00",
          "2024-09-25T18:59:35+00:00",
          "2024-09-25T22:38:47+00:00",
          "2024-09-26T02:18:35+00:00",
          "2024-09-26T05:58:23+00:00",
          "2024-09-26T09:37:59+00:00",
          "2024-09-26T13:17:35+00:00",
          "2024-09-26T16:56:59+00:00",
          "2024-09-26T20:36:59+00:00",
          "2024-09-27T00:17:47+00:00",
          "2024-09-27T03:57:35+00:00",
          "2024-09-27T07:37:11+00:00",
          "2024-09-27T11:16:59+00:00",
          "2024-09-27T14:56:47+00:00",
          "2024-09-27T18:36:47+00:00",
          "2024-09-27T22:16:11+00:00",
          "2024-09-28T01:55:59+00:00",
          "2024-09-28T05:36:23+00:00",
          "2024-09-28T09:15:59+00:00",
          "2024-09-28T12:55:47+00:00",
          "2024-09-28T16:35:23+00:00",
          "2024-09-28T20:15:47+00:00",
          "2024-09-28T23:56:35+00:00",
          "2024-09-29T03:36:47+00:00",
          "2024-09-29T07:17:11+00:00",
          "2024-09-29T10:56:47+00:00",
          "2024-09-29T14:36:35+00:00",
          "2024-09-29T18:16:11+00:00",
          "2024-09-29T21:56:47+00:00",
          "2024-09-30T01:36:35+00:00",
          "2024-09-30T05:16:35+00:00",
          "2024-09-30T08:55:59+00:00",
          "2024-09-30T12:35:23+00:00",
          "2024-09-30T16:15:11+00:00",
          "2024-09-30T19:54:47+00:00",
          "2024-09-30T23:34:23+00:00",
          "2024-10-01T03:13:59+00:00",
          "2024-10-01T06:53:59+00:00",
          "2024-10-01T10:33:35+00:00",
          "2024-10-01T14:13:47+00:00",
          "2024-10-01T17:54:11+00:00",
          "2024-10-01T21:34:23+00:00",
          "2024-10-02T01:14:11+00:00",
          "2024-10-02T04:54:11+00:00",
          "2024-10-02T08:33:47+00:00",
          "2024-10-02T12:12:59+00:00",
          "2024-10-02T15:53:11+00:00",
          "2024-10-02T19:33:23+00:00",
          "2024-10-02T23:12:47+00:00",
          "2024-10-03T02:52:11+00:00",
          "2024-10-03T06:32:23+00:00",
          "2024-10-03T10:11:59+00:00",
          "2024-10-03T13:51:59+00:00",
          "2024-10-03T17:33:23+00:00",
          "2024-10-03T21:13:47+00:00",
          "2024-10-04T00:53:11+00:00",
          "2024-10-04T04:32:23+00:00",
          "2024-10-04T08:11:59+00:00",
          "2024-10-04T11:51:23+00:00",
          "2024-10-04T15:30:59+00:00",
          "2024-10-04T19:10:35+00:00",
          "2024-10-04T22:50:23+00:00",
          "2024-10-05T02:30:35+00:00",
          "2024-10-05T06:09:59+00:00",
          "2024-10-05T09:49:59+00:00",
          "2024-10-05T13:29:23+00:00",
          "2024-10-05T17:09:23+00:00",
          "2024-10-05T20:48:59+00:00",
          "2024-10-06T00:28:11+00:00",
          "2024-10-06T04:07:47+00:00",
          "2024-10-06T07:47:35+00:00",
          "2024-10-06T11:27:47+00:00",
          "2024-10-06T15:07:47+00:00",
          "2024-10-06T18:47:35+00:00",
          "2024-10-06T22:27:23+00:00",
          "2024-10-07T02:07:35+00:00",
          "2024-10-07T05:47:35+00:00",
          "2024-10-07T09:27:11+00:00",
          "2024-10-07T13:06:35+00:00",
          "2024-10-07T16:46:47+00:00",
          "2024-10-07T20:26:23+00:00",
          "2024-10-08T00:05:59+00:00",
          "2024-10-08T03:45:47+00:00",
          "2024-10-08T07:25:35+00:00",
          "2024-10-08T11:04:59+00:00",
          "2024-10-08T14:44:47+00:00",
          "2024-10-08T18:24:11+00:00",
          "2024-10-08T22:04:47+00:00",
          "2024-10-09T01:44:35+00:00",
          "2024-10-09T05:23:47+00:00",
          "2024-10-09T09:03:35+00:00",
          "2024-10-09T12:43:59+00:00",
          "2024-10-09T16:23:11+00:00",
          "2024-10-09T20:02:59+00:00",
          "2024-10-09T23:42:35+00:00",
          "2024-10-10T03:22:23+00:00",
          "2024-10-10T07:02:23+00:00",
          "2024-10-10T10:42:11+00:00",
          "2024-10-10T14:21:47+00:00",
          "2024-10-10T18:01:11+00:00",
          "2024-10-10T21:40:59+00:00",
          "2024-10-11T01:20:35+00:00",
          "2024-10-11T05:00:35+00:00",
          "2024-10-11T08:40:59+00:00",
          "2024-10-11T12:21:35+00:00",
          "2024-10-11T16:02:35+00:00",
          "2024-10-11T19:42:47+00:00",
          "2024-10-11T23:23:35+00:00",
          "2024-10-12T03:04:23+00:00",
          "2024-10-12T06:44:47+00:00",
          "2024-10-12T10:26:35+00:00",
          "2024-10-12T14:06:59+00:00",
          "2024-10-12T17:46:59+00:00",
          "2024-10-12T21:27:35+00:00",
          "2024-10-13T01:07:59+00:00",
          "2024-10-13T04:50:11+00:00",
          "2024-10-13T08:32:47+00:00",
          "2024-10-13T12:14:23+00:00",
          "2024-10-13T15:54:11+00:00",
          "2024-10-13T19:34:11+00:00",
          "2024-10-13T23:14:47+00:00",
          "2024-10-14T02:54:59+00:00",
          "2024-10-14T06:34:47+00:00",
          "2024-10-14T10:16:11+00:00",
          "2024-10-14T13:57:11+00:00",
          "2024-10-14T17:36:59+00:00",
          "2024-10-14T21:17:23+00:00",
          "2024-10-15T00:57:23+00:00",
          "2024-10-15T04:37:47+00:00",
          "2024-10-15T08:17:23+00:00",
          "2024-10-15T11:57:59+00:00",
          "2024-10-15T15:38:35+00:00",
          "2024-10-15T19:18:59+00:00",
          "2024-10-15T22:59:11+00:00",
          "2024-10-16T02:39:59+00:00",
          "2024-10-16T06:19:59+00:00",
          "2024-10-16T09:59:59+00:00",
          "2024-10-16T13:40:11+00:00",
          "2024-10-16T17:20:11+00:00",
          "2024-10-16T21:00:23+00:00",
          "2024-10-17T00:40:59+00:00",
          "2024-10-17T04:21:11+00:00",
          "2024-10-17T08:01:11+00:00",
          "2024-10-17T11:40:47+00:00",
          "2024-10-17T15:21:11+00:00",
          "2024-10-17T19:01:23+00:00",
          "2024-10-17T22:41:35+00:00",
          "2024-10-18T02:21:35+00:00",
          "2024-10-18T06:01:59+00:00",
          "2024-10-18T09:42:11+00:00",
          "2024-10-18T13:21:47+00:00",
          "2024-10-18T17:02:11+00:00",
          "2024-10-18T20:41:47+00:00",
          "2024-10-19T00:21:47+00:00",
          "2024-10-19T04:01:47+00:00",
          "2024-10-19T07:42:23+00:00",
          "2024-10-19T11:21:59+00:00",
          "2024-10-19T15:01:59+00:00",
          "2024-10-19T18:41:47+00:00",
          "2024-10-19T22:21:23+00:00",
          "2024-10-20T02:00:47+00:00",
          "2024-10-20T05:40:47+00:00",
          "2024-10-20T09:20:35+00:00",
          "2024-10-20T12:59:59+00:00",
          "2024-10-20T16:40:59+00:00",
          "2024-10-20T20:20:47+00:00",
          "2024-10-21T00:00:59+00:00",
          "2024-10-21T03:41:35+00:00",
          "2024-10-21T07:21:35+00:00",
          "2024-10-21T11:00:59+00:00",
          "2024-10-21T14:40:59+00:00",
          "2024-10-21T18:20:23+00:00",
          "2024-10-21T22:00:35+00:00",
          "2024-10-22T01:40:59+00:00",
          "2024-10-22T05:21:11+00:00",
          "2024-10-22T09:01:23+00:00",
          "2024-10-22T12:41:35+00:00",
          "2024-10-22T16:21:35+00:00",
          "2024-10-22T20:01:35+00:00",
          "2024-10-22T23:42:23+00:00",
          "2024-10-23T03:22:35+00:00",
          "2024-10-23T07:01:35+00:00",
          "2024-10-23T10:41:35+00:00",
          "2024-10-23T14:21:11+00:00",
          "2024-10-23T18:00:59+00:00",
          "2024-10-23T21:40:11+00:00",
          "2024-10-24T01:20:47+00:00",
          "2024-10-24T05:00:47+00:00",
          "2024-10-24T08:40:59+00:00",
          "2024-10-24T12:20:35+00:00",
          "2024-10-24T16:00:35+00:00",
          "2024-10-24T19:40:11+00:00",
          "2024-10-24T23:19:59+00:00",
          "2024-10-25T02:59:59+00:00",
          "2024-10-25T06:40:11+00:00",
          "2024-10-25T10:19:35+00:00",
          "2024-10-25T13:59:35+00:00",
          "2024-10-25T17:39:35+00:00",
          "2024-10-25T21:19:11+00:00",
          "2024-10-26T00:58:59+00:00",
          "2024-10-26T04:39:23+00:00",
          "2024-10-26T08:19:11+00:00",
          "2024-10-26T11:59:59+00:00",
          "2024-10-26T15:40:35+00:00",
          "2024-10-26T19:20:11+00:00",
          "2024-10-26T22:59:59+00:00",
          "2024-10-27T02:40:11+00:00",
          "2024-10-27T06:19:47+00:00",
          "2024-10-27T09:59:23+00:00",
          "2024-10-27T13:40:11+00:00",
          "2024-10-27T17:19:47+00:00",
          "2024-10-27T20:59:11+00:00",
          "2024-10-28T00:38:35+00:00",
          "2024-10-28T04:18:47+00:00",
          "2024-10-28T07:59:47+00:00",
          "2024-10-28T11:39:47+00:00",
          "2024-10-28T15:20:11+00:00",
          "2024-10-28T19:00:35+00:00",
          "2024-10-28T22:40:23+00:00",
          "2024-10-29T02:20:47+00:00",
          "2024-10-29T06:00:35+00:00",
          "2024-10-29T09:41:11+00:00",
          "2024-10-29T13:21:35+00:00",
          "2024-10-29T17:01:11+00:00",
          "2024-10-29T20:40:35+00:00",
          "2024-10-30T00:20:23+00:00",
          "2024-10-30T04:00:11+00:00",
          "2024-10-30T07:40:35+00:00",
          "2024-10-30T11:21:47+00:00",
          "2024-10-30T15:03:35+00:00",
          "2024-10-30T18:43:11+00:00",
          "2024-10-30T22:22:47+00:00",
          "2024-10-31T02:02:11+00:00",
          "2024-10-31T05:42:59+00:00",
          "2024-10-31T09:23:35+00:00",
          "2024-10-31T13:02:47+00:00",
          "2024-10-31T16:42:11+00:00",
          "2024-10-31T20:21:35+00:00",
          "2024-11-01T00:01:23+00:00",
          "2024-11-01T03:41:11+00:00",
          "2024-11-01T07:20:59+00:00",
          "2024-11-01T11:00:47+00:00",
          "2024-11-01T14:40:35+00:00",
          "2024-11-01T18:20:23+00:00",
          "2024-11-01T22:00:35+00:00",
          "2024-11-02T01:40:47+00:00",
          "2024-11-02T05:21:11+00:00",
          "2024-11-02T09:00:59+00:00",
          "2024-11-02T12:41:59+00:00",
          "2024-11-02T16:22:35+00:00",
          "2024-11-02T20:02:35+00:00",
          "2024-11-02T23:43:35+00:00",
          "2024-11-03T03:24:23+00:00",
          "2024-11-03T07:04:35+00:00",
          "2024-11-03T10:43:47+00:00",
          "2024-11-03T14:23:47+00:00",
          "2024-11-03T18:04:35+00:00",
          "2024-11-03T21:43:59+00:00",
          "2024-11-04T01:23:47+00:00",
          "2024-11-04T05:03:47+00:00",
          "2024-11-04T08:42:59+00:00",
          "2024-11-04T12:23:35+00:00",
          "2024-11-04T16:02:59+00:00",
          "2024-11-04T19:43:23+00:00",
          "2024-11-04T23:23:23+00:00",
          "2024-11-05T03:03:23+00:00",
          "2024-11-05T06:44:11+00:00",
          "2024-11-05T10:24:11+00:00",
          "2024-11-05T14:04:11+00:00",
          "2024-11-05T17:44:23+00:00",
          "2024-11-05T21:25:11+00:00",
          "2024-11-06T01:04:59+00:00",
          "2024-11-06T04:44:23+00:00",
          "2024-11-06T08:24:23+00:00",
          "2024-11-06T12:05:23+00:00",
          "2024-11-06T15:45:47+00:00",
          "2024-11-06T19:25:23+00:00",
          "2024-11-06T23:05:35+00:00",
          "2024-11-07T02:45:35+00:00",
          "2024-11-07T06:25:23+00:00",
          "2024-11-07T10:05:23+00:00",
          "2024-11-07T13:45:47+00:00",
          "2024-11-07T17:27:11+00:00",
          "2024-11-07T21:06:59+00:00",
          "2024-11-08T00:47:47+00:00",
          "2024-11-08T04:29:35+00:00",
          "2024-11-08T08:09:59+00:00",
          "2024-11-08T11:49:35+00:00"
         ],
         "xaxis": "x",
         "y": [
          1,
          1,
          1,
          1,
          1,
          1,
          1,
          1,
          1,
          1,
          1,
          1,
          0.9996679524715181,
          0.9996681439742615,
          0.9996681532433912,
          0.9995977991559629,
          0.9995993462120933,
          0.9995994140747689,
          0.9996004960943287,
          0.9994181029198835,
          0.9992957708952727,
          0.9992967261764708,
          0.9992967961304084,
          0.9992974777344883,
          0.9993008877838567,
          0.9992925502273796,
          0.9992925731857061,
          0.9992098111133189,
          0.9992098111133189,
          0.9992098817429462,
          0.9991768142758363,
          0.9991781046231296,
          0.9991663379502573,
          0.9991746443439156,
          0.9991797766958228,
          0.999185867402555,
          0.9991905208268935,
          0.9991681614962851,
          0.999129711258909,
          0.9991314282631526,
          0.9990886000366014,
          0.9990890767028838,
          0.9990902988607987,
          0.9990957856836696,
          0.9990980186319866,
          0.9991004135453426,
          0.9990839014755889,
          0.9990840380884836,
          0.9990844037505714,
          0.9990913629098396,
          0.9991140010016983,
          0.9991364759007794,
          0.9991546916793625,
          0.9991678117527157,
          0.9991809794630738,
          0.999195814584342,
          0.9991920751784535,
          0.9991974774987809,
          0.9992025959465534,
          0.9992048249697083,
          0.9991802436797588,
          0.9991802436797588,
          0.9991840788466664,
          0.9992015918002665,
          0.9992181718526962,
          0.9992347827218588,
          0.9992514486247372,
          0.9992680534233801,
          0.9992847041031665,
          0.9991238498943208,
          0.9991238592823342,
          0.9991238592900816,
          0.999124662741916,
          0.999125723751153,
          0.9991262817197128,
          0.9990868736226386,
          0.9990868736226386,
          0.9990869965805481,
          0.9991524277896862,
          0.9992878632380711,
          0.9994232121227982,
          0.9995584603736616,
          0.9996987118911009,
          0.9998411662979849,
          0.999981441062303,
          1.000121447504183,
          1.0002618754997887,
          1.0004018330011935,
          1.0005417494349271,
          1.000652046471345,
          1.0007621807240987,
          1.0007810160684991,
          1.0007474970319596,
          1.0007488435681406,
          1.000749119265338,
          1.00076719799706,
          1.0008027916652515,
          1.000835460520219,
          1.0008610839604322,
          1.000891355792947,
          1.0009128312767068,
          1.0009321073699062,
          1.0009500465456342,
          1.0009677394623129,
          1.000985396626434,
          1.0010038332872033,
          1.0010220122968072,
          1.0010386779296827,
          1.0010636018987387,
          1.0011092308299692,
          1.001154831879944,
          1.0012003542374026,
          1.0012459221621088,
          1.001291489823426,
          1.0013205228434052,
          1.0013424721802116,
          1.0013628302844555,
          1.001383115777433,
          1.0014009611379815,
          1.0014177561702688,
          1.0014170743883908,
          1.0014277792998758,
          1.0014583788342601,
          1.0014854580025672,
          1.0015124142874496,
          1.0015318963151543,
          1.001545179458853,
          1.001559059281981,
          1.001564460693897,
          1.0015660713635668,
          1.0015676279430983,
          1.0015708278217528,
          1.001575328095767,
          1.0015799224571822,
          1.001586871008463,
          1.0015971726242734,
          1.0016106586368798,
          1.0016272448178734,
          1.001643861816452,
          1.0016574175874915,
          1.0016690620780817,
          1.0016788347750503,
          1.001663881489189,
          1.0016639906074833,
          1.0016641629737328,
          1.0016643351834873,
          1.0016656814329998,
          1.0016716140605784,
          1.001676315869967,
          1.001648043682675,
          1.0016489470111178,
          1.001649921435014,
          1.0016508266158983,
          1.001651730151133,
          1.001652635335286,
          1.0016535388737837,
          1.0016536893094619,
          1.0016536893094619,
          1.001654546735044,
          1.001654546735044,
          1.001654546735044,
          1.001654546735044,
          1.0015548929073674,
          1.0015682281601923,
          1.0015851322955303,
          1.0016096694295082,
          1.0016368338162236,
          1.0016640442446654,
          1.0016934850372723,
          1.0017269634984403,
          1.001763534533217,
          1.0017915466401912,
          1.001811609643674,
          1.0018316839469945,
          1.0016672403000524,
          1.0016701841091666,
          1.0016770551821026,
          1.0016838252508642,
          1.0016877535580004,
          1.001691706849191,
          1.0017012500369205,
          1.0017523234495875,
          1.001803867549367,
          1.0018523003361905,
          1.0018970962176366,
          1.0019413301581312,
          1.0019680738547763,
          1.0019765804035246,
          1.0019765804035246,
          1.0019330407766416,
          1.0019623286442878,
          1.0019915627578555,
          1.0020209969961127,
          1.0020494934213933,
          1.0020778367226377,
          1.0021062590041474,
          1.0021201941757585,
          1.002135524714319,
          1.0021508000731545,
          1.002163669903922,
          1.0021761199831747,
          1.0021882188552456,
          1.0022126773474123,
          1.0022559167304836,
          1.0022976660271883,
          1.002338658403395,
          1.0023796914031553,
          1.002420701040853,
          1.0023739568852374,
          1.0023810958807755,
          1.0023888998670616,
          1.0023934578757945,
          1.0023980076385777,
          1.0024095646391713,
          1.0024403382826388,
          1.002471159190783,
          1.002501953998077,
          1.0025243874985423,
          1.0025301684199437,
          1.0025359336559134,
          1.002519263419397,
          1.0025463802803063,
          1.0025738512050117,
          1.0026034118579596,
          1.002634293281538,
          1.0026650366063095,
          1.002692192701097,
          1.0026946142881095,
          1.002697034278036,
          1.0027088538098368,
          1.0027282829376143,
          1.0027484638164916,
          1.0027686087795942,
          1.0027870411137783,
          1.0028034520279128,
          1.0028180428617721,
          1.0028188218260417,
          1.0028226990417644,
          1.0028265657131212,
          1.0028304540429975,
          1.0028343882018473,
          1.0028383390159918,
          1.0028421584844283,
          1.0028479045483905,
          1.0028549025610383,
          1.0028618991939144,
          1.002863182895554,
          1.0028631832505845,
          1.002862202422917,
          1.002862329122465,
          1.0028676651517288,
          1.0028730256035965,
          1.002878376366337,
          1.0028860686048453,
          1.002894518481988,
          1.0029030618991472,
          1.002903354652252,
          1.0029044752770384,
          1.0029086329932164,
          1.0029171280482616,
          1.002926965510153,
          1.002935919108994,
          1.0029446022968185,
          1.0029560288887738,
          1.0029674310620251,
          1.0029788646774742,
          1.002992956744921,
          1.0030093323661797,
          1.0030257168002092,
          1.0030390044210873,
          1.0030499552541075,
          1.0030609561496857,
          1.003071947321663,
          1.0030801727139542,
          1.0030882508501675,
          1.0030957980344795,
          1.0030738624301558,
          1.0030738624301558,
          1.0030738624301558,
          1.003078208029144,
          1.0030905266437324,
          1.0030037265620741,
          1.0030057985934495,
          1.0030344194026182,
          1.0030627965793162,
          1.0030878953022717,
          1.0031159129171627,
          1.0031439995113793,
          1.0031722794691555,
          1.003131194994814,
          1.003131194994814,
          1.003131194994814,
          1.003131194994814,
          1.0027177397565898,
          1.0025558306700117,
          1.0025558306700117,
          1.0025674077425337,
          1.0025813288834586,
          1.0025936597798992,
          1.002606627220416,
          1.0026199968853613,
          1.0026321436545111,
          1.0026442473137211,
          1.002650662288478,
          1.0026524201687366,
          1.0026524201687366,
          1.0026572561557956,
          1.0026639583133468,
          1.002670660560498,
          1.0026810957041232,
          1.002696639691255,
          1.0027121841603337,
          1.0027276063053085,
          1.0027421938331058,
          1.0027568282122064,
          1.002771435432168,
          1.0027729777192407,
          1.002773424899058,
          1.002773871269898,
          1.002799329528834,
          1.002846077348107,
          1.002892787214465,
          1.0029398776836242,
          1.0029882066984652,
          1.0030367167800218,
          1.003085265220395,
          1.0031037718289828,
          1.0031209972181137,
          1.0031382388733479,
          1.0031481530140096,
          1.0031543890095769,
          1.0031605911600379,
          1.0031729731165246,
          1.0031961080230611,
          1.0032192431133296,
          1.003242966507657,
          1.0032729363947988,
          1.0033029080725753,
          1.0033329087905698,
          1.0033729371104072,
          1.0034148732881991,
          1.0034567366450606,
          1.0034967167246949,
          1.0035347351702792,
          1.0035491739416322,
          1.0035491739416322,
          1.0035492277220295,
          1.0035499240122119,
          1.003551739397916,
          1.0035535564420495,
          1.003555717882342,
          1.0035815316508054,
          1.0036071711237584,
          1.003632919320581,
          1.0036813924984898,
          1.0037484950018016,
          1.0038000215806735
         ],
         "yaxis": "y"
        },
        {
         "hovertemplate": "variable=balETH_scaled_nav_per_share<br>timestamp=%{x}<br>value=%{y}<extra></extra>",
         "legendgroup": "balETH_scaled_nav_per_share",
         "line": {
          "color": "#EF553B",
          "dash": "solid"
         },
         "marker": {
          "symbol": "circle"
         },
         "mode": "lines",
         "name": "balETH_scaled_nav_per_share",
         "orientation": "v",
         "showlegend": true,
         "type": "scatter",
         "x": [
          "2024-09-15T02:04:47+00:00",
          "2024-09-15T05:44:35+00:00",
          "2024-09-15T09:24:47+00:00",
          "2024-09-15T13:04:11+00:00",
          "2024-09-15T16:44:23+00:00",
          "2024-09-15T20:23:35+00:00",
          "2024-09-16T00:03:11+00:00",
          "2024-09-16T03:43:47+00:00",
          "2024-09-16T07:23:23+00:00",
          "2024-09-16T11:04:47+00:00",
          "2024-09-16T14:46:11+00:00",
          "2024-09-16T18:26:47+00:00",
          "2024-09-16T22:06:23+00:00",
          "2024-09-17T01:46:35+00:00",
          "2024-09-17T05:27:47+00:00",
          "2024-09-17T09:08:35+00:00",
          "2024-09-17T12:48:23+00:00",
          "2024-09-17T16:29:11+00:00",
          "2024-09-17T20:09:47+00:00",
          "2024-09-17T23:50:47+00:00",
          "2024-09-18T03:30:35+00:00",
          "2024-09-18T07:11:35+00:00",
          "2024-09-18T10:51:35+00:00",
          "2024-09-18T14:32:23+00:00",
          "2024-09-18T18:12:23+00:00",
          "2024-09-18T21:52:47+00:00",
          "2024-09-19T01:33:11+00:00",
          "2024-09-19T05:13:23+00:00",
          "2024-09-19T08:53:23+00:00",
          "2024-09-19T12:33:23+00:00",
          "2024-09-19T16:13:23+00:00",
          "2024-09-19T19:53:23+00:00",
          "2024-09-19T23:33:11+00:00",
          "2024-09-20T03:13:35+00:00",
          "2024-09-20T06:54:11+00:00",
          "2024-09-20T10:35:11+00:00",
          "2024-09-20T14:14:59+00:00",
          "2024-09-20T17:54:59+00:00",
          "2024-09-20T21:35:23+00:00",
          "2024-09-21T01:16:23+00:00",
          "2024-09-21T04:56:23+00:00",
          "2024-09-21T08:38:11+00:00",
          "2024-09-21T12:18:11+00:00",
          "2024-09-21T15:58:11+00:00",
          "2024-09-21T19:38:11+00:00",
          "2024-09-21T23:19:11+00:00",
          "2024-09-22T02:58:47+00:00",
          "2024-09-22T06:38:35+00:00",
          "2024-09-22T10:18:23+00:00",
          "2024-09-22T13:58:11+00:00",
          "2024-09-22T17:37:59+00:00",
          "2024-09-22T21:18:11+00:00",
          "2024-09-23T00:57:47+00:00",
          "2024-09-23T04:37:23+00:00",
          "2024-09-23T08:17:35+00:00",
          "2024-09-23T11:58:59+00:00",
          "2024-09-23T15:38:59+00:00",
          "2024-09-23T19:18:59+00:00",
          "2024-09-23T22:58:59+00:00",
          "2024-09-24T02:38:47+00:00",
          "2024-09-24T06:18:23+00:00",
          "2024-09-24T09:57:47+00:00",
          "2024-09-24T13:37:23+00:00",
          "2024-09-24T17:17:47+00:00",
          "2024-09-24T20:57:11+00:00",
          "2024-09-25T00:36:59+00:00",
          "2024-09-25T04:17:23+00:00",
          "2024-09-25T07:57:11+00:00",
          "2024-09-25T11:37:35+00:00",
          "2024-09-25T15:18:35+00:00",
          "2024-09-25T18:59:35+00:00",
          "2024-09-25T22:38:47+00:00",
          "2024-09-26T02:18:35+00:00",
          "2024-09-26T05:58:23+00:00",
          "2024-09-26T09:37:59+00:00",
          "2024-09-26T13:17:35+00:00",
          "2024-09-26T16:56:59+00:00",
          "2024-09-26T20:36:59+00:00",
          "2024-09-27T00:17:47+00:00",
          "2024-09-27T03:57:35+00:00",
          "2024-09-27T07:37:11+00:00",
          "2024-09-27T11:16:59+00:00",
          "2024-09-27T14:56:47+00:00",
          "2024-09-27T18:36:47+00:00",
          "2024-09-27T22:16:11+00:00",
          "2024-09-28T01:55:59+00:00",
          "2024-09-28T05:36:23+00:00",
          "2024-09-28T09:15:59+00:00",
          "2024-09-28T12:55:47+00:00",
          "2024-09-28T16:35:23+00:00",
          "2024-09-28T20:15:47+00:00",
          "2024-09-28T23:56:35+00:00",
          "2024-09-29T03:36:47+00:00",
          "2024-09-29T07:17:11+00:00",
          "2024-09-29T10:56:47+00:00",
          "2024-09-29T14:36:35+00:00",
          "2024-09-29T18:16:11+00:00",
          "2024-09-29T21:56:47+00:00",
          "2024-09-30T01:36:35+00:00",
          "2024-09-30T05:16:35+00:00",
          "2024-09-30T08:55:59+00:00",
          "2024-09-30T12:35:23+00:00",
          "2024-09-30T16:15:11+00:00",
          "2024-09-30T19:54:47+00:00",
          "2024-09-30T23:34:23+00:00",
          "2024-10-01T03:13:59+00:00",
          "2024-10-01T06:53:59+00:00",
          "2024-10-01T10:33:35+00:00",
          "2024-10-01T14:13:47+00:00",
          "2024-10-01T17:54:11+00:00",
          "2024-10-01T21:34:23+00:00",
          "2024-10-02T01:14:11+00:00",
          "2024-10-02T04:54:11+00:00",
          "2024-10-02T08:33:47+00:00",
          "2024-10-02T12:12:59+00:00",
          "2024-10-02T15:53:11+00:00",
          "2024-10-02T19:33:23+00:00",
          "2024-10-02T23:12:47+00:00",
          "2024-10-03T02:52:11+00:00",
          "2024-10-03T06:32:23+00:00",
          "2024-10-03T10:11:59+00:00",
          "2024-10-03T13:51:59+00:00",
          "2024-10-03T17:33:23+00:00",
          "2024-10-03T21:13:47+00:00",
          "2024-10-04T00:53:11+00:00",
          "2024-10-04T04:32:23+00:00",
          "2024-10-04T08:11:59+00:00",
          "2024-10-04T11:51:23+00:00",
          "2024-10-04T15:30:59+00:00",
          "2024-10-04T19:10:35+00:00",
          "2024-10-04T22:50:23+00:00",
          "2024-10-05T02:30:35+00:00",
          "2024-10-05T06:09:59+00:00",
          "2024-10-05T09:49:59+00:00",
          "2024-10-05T13:29:23+00:00",
          "2024-10-05T17:09:23+00:00",
          "2024-10-05T20:48:59+00:00",
          "2024-10-06T00:28:11+00:00",
          "2024-10-06T04:07:47+00:00",
          "2024-10-06T07:47:35+00:00",
          "2024-10-06T11:27:47+00:00",
          "2024-10-06T15:07:47+00:00",
          "2024-10-06T18:47:35+00:00",
          "2024-10-06T22:27:23+00:00",
          "2024-10-07T02:07:35+00:00",
          "2024-10-07T05:47:35+00:00",
          "2024-10-07T09:27:11+00:00",
          "2024-10-07T13:06:35+00:00",
          "2024-10-07T16:46:47+00:00",
          "2024-10-07T20:26:23+00:00",
          "2024-10-08T00:05:59+00:00",
          "2024-10-08T03:45:47+00:00",
          "2024-10-08T07:25:35+00:00",
          "2024-10-08T11:04:59+00:00",
          "2024-10-08T14:44:47+00:00",
          "2024-10-08T18:24:11+00:00",
          "2024-10-08T22:04:47+00:00",
          "2024-10-09T01:44:35+00:00",
          "2024-10-09T05:23:47+00:00",
          "2024-10-09T09:03:35+00:00",
          "2024-10-09T12:43:59+00:00",
          "2024-10-09T16:23:11+00:00",
          "2024-10-09T20:02:59+00:00",
          "2024-10-09T23:42:35+00:00",
          "2024-10-10T03:22:23+00:00",
          "2024-10-10T07:02:23+00:00",
          "2024-10-10T10:42:11+00:00",
          "2024-10-10T14:21:47+00:00",
          "2024-10-10T18:01:11+00:00",
          "2024-10-10T21:40:59+00:00",
          "2024-10-11T01:20:35+00:00",
          "2024-10-11T05:00:35+00:00",
          "2024-10-11T08:40:59+00:00",
          "2024-10-11T12:21:35+00:00",
          "2024-10-11T16:02:35+00:00",
          "2024-10-11T19:42:47+00:00",
          "2024-10-11T23:23:35+00:00",
          "2024-10-12T03:04:23+00:00",
          "2024-10-12T06:44:47+00:00",
          "2024-10-12T10:26:35+00:00",
          "2024-10-12T14:06:59+00:00",
          "2024-10-12T17:46:59+00:00",
          "2024-10-12T21:27:35+00:00",
          "2024-10-13T01:07:59+00:00",
          "2024-10-13T04:50:11+00:00",
          "2024-10-13T08:32:47+00:00",
          "2024-10-13T12:14:23+00:00",
          "2024-10-13T15:54:11+00:00",
          "2024-10-13T19:34:11+00:00",
          "2024-10-13T23:14:47+00:00",
          "2024-10-14T02:54:59+00:00",
          "2024-10-14T06:34:47+00:00",
          "2024-10-14T10:16:11+00:00",
          "2024-10-14T13:57:11+00:00",
          "2024-10-14T17:36:59+00:00",
          "2024-10-14T21:17:23+00:00",
          "2024-10-15T00:57:23+00:00",
          "2024-10-15T04:37:47+00:00",
          "2024-10-15T08:17:23+00:00",
          "2024-10-15T11:57:59+00:00",
          "2024-10-15T15:38:35+00:00",
          "2024-10-15T19:18:59+00:00",
          "2024-10-15T22:59:11+00:00",
          "2024-10-16T02:39:59+00:00",
          "2024-10-16T06:19:59+00:00",
          "2024-10-16T09:59:59+00:00",
          "2024-10-16T13:40:11+00:00",
          "2024-10-16T17:20:11+00:00",
          "2024-10-16T21:00:23+00:00",
          "2024-10-17T00:40:59+00:00",
          "2024-10-17T04:21:11+00:00",
          "2024-10-17T08:01:11+00:00",
          "2024-10-17T11:40:47+00:00",
          "2024-10-17T15:21:11+00:00",
          "2024-10-17T19:01:23+00:00",
          "2024-10-17T22:41:35+00:00",
          "2024-10-18T02:21:35+00:00",
          "2024-10-18T06:01:59+00:00",
          "2024-10-18T09:42:11+00:00",
          "2024-10-18T13:21:47+00:00",
          "2024-10-18T17:02:11+00:00",
          "2024-10-18T20:41:47+00:00",
          "2024-10-19T00:21:47+00:00",
          "2024-10-19T04:01:47+00:00",
          "2024-10-19T07:42:23+00:00",
          "2024-10-19T11:21:59+00:00",
          "2024-10-19T15:01:59+00:00",
          "2024-10-19T18:41:47+00:00",
          "2024-10-19T22:21:23+00:00",
          "2024-10-20T02:00:47+00:00",
          "2024-10-20T05:40:47+00:00",
          "2024-10-20T09:20:35+00:00",
          "2024-10-20T12:59:59+00:00",
          "2024-10-20T16:40:59+00:00",
          "2024-10-20T20:20:47+00:00",
          "2024-10-21T00:00:59+00:00",
          "2024-10-21T03:41:35+00:00",
          "2024-10-21T07:21:35+00:00",
          "2024-10-21T11:00:59+00:00",
          "2024-10-21T14:40:59+00:00",
          "2024-10-21T18:20:23+00:00",
          "2024-10-21T22:00:35+00:00",
          "2024-10-22T01:40:59+00:00",
          "2024-10-22T05:21:11+00:00",
          "2024-10-22T09:01:23+00:00",
          "2024-10-22T12:41:35+00:00",
          "2024-10-22T16:21:35+00:00",
          "2024-10-22T20:01:35+00:00",
          "2024-10-22T23:42:23+00:00",
          "2024-10-23T03:22:35+00:00",
          "2024-10-23T07:01:35+00:00",
          "2024-10-23T10:41:35+00:00",
          "2024-10-23T14:21:11+00:00",
          "2024-10-23T18:00:59+00:00",
          "2024-10-23T21:40:11+00:00",
          "2024-10-24T01:20:47+00:00",
          "2024-10-24T05:00:47+00:00",
          "2024-10-24T08:40:59+00:00",
          "2024-10-24T12:20:35+00:00",
          "2024-10-24T16:00:35+00:00",
          "2024-10-24T19:40:11+00:00",
          "2024-10-24T23:19:59+00:00",
          "2024-10-25T02:59:59+00:00",
          "2024-10-25T06:40:11+00:00",
          "2024-10-25T10:19:35+00:00",
          "2024-10-25T13:59:35+00:00",
          "2024-10-25T17:39:35+00:00",
          "2024-10-25T21:19:11+00:00",
          "2024-10-26T00:58:59+00:00",
          "2024-10-26T04:39:23+00:00",
          "2024-10-26T08:19:11+00:00",
          "2024-10-26T11:59:59+00:00",
          "2024-10-26T15:40:35+00:00",
          "2024-10-26T19:20:11+00:00",
          "2024-10-26T22:59:59+00:00",
          "2024-10-27T02:40:11+00:00",
          "2024-10-27T06:19:47+00:00",
          "2024-10-27T09:59:23+00:00",
          "2024-10-27T13:40:11+00:00",
          "2024-10-27T17:19:47+00:00",
          "2024-10-27T20:59:11+00:00",
          "2024-10-28T00:38:35+00:00",
          "2024-10-28T04:18:47+00:00",
          "2024-10-28T07:59:47+00:00",
          "2024-10-28T11:39:47+00:00",
          "2024-10-28T15:20:11+00:00",
          "2024-10-28T19:00:35+00:00",
          "2024-10-28T22:40:23+00:00",
          "2024-10-29T02:20:47+00:00",
          "2024-10-29T06:00:35+00:00",
          "2024-10-29T09:41:11+00:00",
          "2024-10-29T13:21:35+00:00",
          "2024-10-29T17:01:11+00:00",
          "2024-10-29T20:40:35+00:00",
          "2024-10-30T00:20:23+00:00",
          "2024-10-30T04:00:11+00:00",
          "2024-10-30T07:40:35+00:00",
          "2024-10-30T11:21:47+00:00",
          "2024-10-30T15:03:35+00:00",
          "2024-10-30T18:43:11+00:00",
          "2024-10-30T22:22:47+00:00",
          "2024-10-31T02:02:11+00:00",
          "2024-10-31T05:42:59+00:00",
          "2024-10-31T09:23:35+00:00",
          "2024-10-31T13:02:47+00:00",
          "2024-10-31T16:42:11+00:00",
          "2024-10-31T20:21:35+00:00",
          "2024-11-01T00:01:23+00:00",
          "2024-11-01T03:41:11+00:00",
          "2024-11-01T07:20:59+00:00",
          "2024-11-01T11:00:47+00:00",
          "2024-11-01T14:40:35+00:00",
          "2024-11-01T18:20:23+00:00",
          "2024-11-01T22:00:35+00:00",
          "2024-11-02T01:40:47+00:00",
          "2024-11-02T05:21:11+00:00",
          "2024-11-02T09:00:59+00:00",
          "2024-11-02T12:41:59+00:00",
          "2024-11-02T16:22:35+00:00",
          "2024-11-02T20:02:35+00:00",
          "2024-11-02T23:43:35+00:00",
          "2024-11-03T03:24:23+00:00",
          "2024-11-03T07:04:35+00:00",
          "2024-11-03T10:43:47+00:00",
          "2024-11-03T14:23:47+00:00",
          "2024-11-03T18:04:35+00:00",
          "2024-11-03T21:43:59+00:00",
          "2024-11-04T01:23:47+00:00",
          "2024-11-04T05:03:47+00:00",
          "2024-11-04T08:42:59+00:00",
          "2024-11-04T12:23:35+00:00",
          "2024-11-04T16:02:59+00:00",
          "2024-11-04T19:43:23+00:00",
          "2024-11-04T23:23:23+00:00",
          "2024-11-05T03:03:23+00:00",
          "2024-11-05T06:44:11+00:00",
          "2024-11-05T10:24:11+00:00",
          "2024-11-05T14:04:11+00:00",
          "2024-11-05T17:44:23+00:00",
          "2024-11-05T21:25:11+00:00",
          "2024-11-06T01:04:59+00:00",
          "2024-11-06T04:44:23+00:00",
          "2024-11-06T08:24:23+00:00",
          "2024-11-06T12:05:23+00:00",
          "2024-11-06T15:45:47+00:00",
          "2024-11-06T19:25:23+00:00",
          "2024-11-06T23:05:35+00:00",
          "2024-11-07T02:45:35+00:00",
          "2024-11-07T06:25:23+00:00",
          "2024-11-07T10:05:23+00:00",
          "2024-11-07T13:45:47+00:00",
          "2024-11-07T17:27:11+00:00",
          "2024-11-07T21:06:59+00:00",
          "2024-11-08T00:47:47+00:00",
          "2024-11-08T04:29:35+00:00",
          "2024-11-08T08:09:59+00:00",
          "2024-11-08T11:49:35+00:00"
         ],
         "xaxis": "x",
         "y": [
          1,
          1,
          1,
          1,
          1,
          1,
          1,
          1,
          1,
          1,
          1,
          1,
          0.9999390991425418,
          0.9999031167446754,
          0.9999032029127605,
          0.9998852093633794,
          0.9998518183245382,
          0.9998516310107212,
          0.9998187508437127,
          0.9996422842305174,
          0.9996695392567261,
          0.9996052483280401,
          0.9996087245010237,
          0.9995697124762318,
          0.999599333337124,
          0.999591116918585,
          0.9995919247455948,
          0.9996035091685519,
          0.9995910179973025,
          0.9995951122348414,
          0.9996670853797676,
          0.9996526301640161,
          0.9997010649641572,
          0.9996572727320044,
          0.9997007516748342,
          0.9997001117054392,
          0.9997180188920927,
          0.999683398515549,
          0.9996633293283113,
          0.9997031590661238,
          0.9996779465028437,
          0.9996867398192693,
          0.9996434279153904,
          0.9996639807874712,
          0.9996656331487995,
          0.9996656761478713,
          0.999655526265664,
          0.999668933466051,
          0.9996827187720163,
          0.9996403366866002,
          0.9996566403094799,
          0.9996831676848732,
          0.9997039950808947,
          0.9997244932683447,
          0.9997370876823105,
          0.9997853985522274,
          0.999773077750756,
          0.9997846657993504,
          0.9997609782356984,
          0.9997491063766708,
          0.9997724467604304,
          0.9998161335768179,
          0.9997399398479557,
          0.9998078102020473,
          0.9998170152857025,
          0.9998328978258928,
          0.9998394188164845,
          0.9998650392025888,
          0.9998347247800017,
          0.9998852072670773,
          0.9998862541208768,
          0.9998872399030644,
          0.9998775193234686,
          0.9998101947834246,
          0.999761094010332,
          0.9998842479381352,
          0.9998880965337055,
          0.9998886495217658,
          0.9999708627869703,
          1.0001035774926055,
          1.0003041435098752,
          1.000460933397651,
          1.0006262420749983,
          1.0007403919621303,
          1.0009231380778334,
          1.0010481857293874,
          1.001187948644874,
          1.0013132124351078,
          1.001547769597444,
          1.0016493211091262,
          1.0017275301356547,
          1.001746843015494,
          1.0017447795814924,
          1.0017356123209433,
          1.0017840335942731,
          1.0015658380040424,
          1.0015844388818653,
          1.0016531312018002,
          1.001673282422206,
          1.0017390574208178,
          1.001822749934767,
          1.0018520008818577,
          1.0018089358437727,
          1.0018271061930697,
          1.0018130619576022,
          1.0018227138099793,
          1.0018566841528511,
          1.0019423774852094,
          1.001785616352755,
          1.0018408949465645,
          1.001884783285894,
          1.0019320795568056,
          1.0019706028013224,
          1.002027800414569,
          1.0020559568225664,
          1.0020555600559042,
          1.0020730329280871,
          1.002094825968394,
          1.0020466695660748,
          1.0020656651684603,
          1.0021057112357976,
          1.0019715091390433,
          1.0020023023063755,
          1.0020274883565365,
          1.002056353638718,
          1.0020922135524306,
          1.0021066294139975,
          1.0021337857773402,
          1.0021734905289903,
          1.0021794864171203,
          1.0021889461126947,
          1.0021699380484261,
          1.002168737886913,
          1.0021736273955966,
          1.0022005411634953,
          1.0022098803971342,
          1.0022235663405927,
          1.002245747707366,
          1.0022772405464906,
          1.002303426121854,
          1.002300531685179,
          1.0023074197424058,
          1.002315232670085,
          1.002289550078186,
          1.0022890860872453,
          1.0022849126807247,
          1.0022944786081383,
          1.0022851381396238,
          1.0022905170776142,
          1.0022794377435225,
          1.002280661189559,
          1.0022671629208801,
          1.002421370718426,
          1.0024200076411884,
          1.0024196143591506,
          1.0024024871162702,
          1.0023789544540265,
          1.002390239786365,
          1.0023807565930671,
          1.002383786839859,
          1.002375391231701,
          1.0023767953095934,
          1.0023413787380864,
          1.0023044365144251,
          1.0023310244049717,
          1.0023194547882126,
          1.002410248300814,
          1.0024426470795647,
          1.0023534071706506,
          1.0024293911554754,
          1.0024656051427654,
          1.002556591457592,
          1.0025792537372609,
          1.0025520414379925,
          1.002563479042124,
          1.002482360820213,
          1.002486878008733,
          1.0024950577834237,
          1.0024977783836486,
          1.0025958531249644,
          1.002270211057572,
          1.0023208814866509,
          1.0023718165013171,
          1.002429650991516,
          1.0024834676808454,
          1.0025385949886916,
          1.0025725632856681,
          1.0025832094166716,
          1.0025813577496272,
          1.0025592650176984,
          1.0025886418566838,
          1.0026143608769753,
          1.0026314588031051,
          1.0026642748415098,
          1.0026949154254596,
          1.0027215412829549,
          1.0026851920363937,
          1.0027044502651825,
          1.0027250068151063,
          1.002787509331582,
          1.002821290671361,
          1.00276168898181,
          1.0028311503460665,
          1.0028658631652516,
          1.002903249312346,
          1.0029283167985863,
          1.002974796255426,
          1.0030152782932436,
          1.0030327988395749,
          1.0030496062731773,
          1.0030938718965368,
          1.003193099921731,
          1.0032467851618136,
          1.0030945590626603,
          1.0031286604651268,
          1.003153271497857,
          1.0031835266338271,
          1.003239938971938,
          1.0032685541531916,
          1.00327251103404,
          1.0032239980943392,
          1.003250085256051,
          1.003249729482753,
          1.0032699259423394,
          1.0032957033518533,
          1.0033283948941314,
          1.0033618914055857,
          1.0033713047793515,
          1.0033716699967472,
          1.003274641267555,
          1.00329638012798,
          1.0033205320605338,
          1.0033373523499494,
          1.00339746944307,
          1.0034119356694142,
          1.0034301987234588,
          1.0034061813733361,
          1.0034090448206134,
          1.003415757265821,
          1.0034209817583315,
          1.0034418050725102,
          1.0034499994655763,
          1.0034563263792413,
          1.0034483963928416,
          1.0034551475175664,
          1.0034949851584107,
          1.0035526055801187,
          1.0035501848351849,
          1.0035496490857618,
          1.0035224775142944,
          1.0035189254089283,
          1.0035308732454513,
          1.0035453832156245,
          1.0035202971491863,
          1.0035230710504643,
          1.0035322650174845,
          1.0035664831617797,
          1.0035695335747572,
          1.0035085704801452,
          1.0035774092026246,
          1.0035863690911695,
          1.003588616673307,
          1.0035895572404316,
          1.003605944970875,
          1.0036392403855126,
          1.0036575222685842,
          1.0036414677993974,
          1.0036697337970106,
          1.003669361583846,
          1.0037153446651481,
          1.0037277903673039,
          1.0037270107813399,
          1.0037294682157134,
          1.003783763406193,
          1.0037913553726905,
          1.0037941285234755,
          1.003802969061448,
          1.0038545966687697,
          1.0038503683210294,
          1.003740956535778,
          1.003751561195061,
          1.0037038502399442,
          1.003691833579198,
          1.0037658279396098,
          1.003699610514963,
          1.003714817893545,
          1.0037410367933182,
          1.0037644873207052,
          1.0038673683505912,
          1.004042869476994,
          1.0039185829955772,
          1.0039162007969833,
          1.0039174340908217,
          1.0039577941806126,
          1.0038664369733266,
          1.0038682747462657,
          1.0038963164601655,
          1.003926478162813,
          1.003933274012083,
          1.0039939346398723,
          1.004010575815888,
          1.004022372991321,
          1.004044974459555,
          1.0040732553568779,
          1.0040751754230477,
          1.0040760723700977,
          1.0040429528680912,
          1.0040456386230454,
          1.0040493238727817,
          1.0040604544147569,
          1.0040482263032586,
          1.004064993088474,
          1.0041481298170944,
          1.0041483349239793,
          1.0041542789680051,
          1.0041822728296095,
          1.0042372461547677,
          1.004235512095498,
          1.00423677595426,
          1.0040681644145057,
          1.004113871182873,
          1.004157294095119,
          1.0042444009959404,
          1.0042944642084894,
          1.0043425170695783,
          1.0043757086496088,
          1.00443101190761,
          1.0044419891052254,
          1.004457124985939,
          1.0045275263603946,
          1.0045307373542982,
          1.0045319052173545,
          1.0044748455299402,
          1.0044837775233901,
          1.004506623652049,
          1.0045047289963565,
          1.0045656093232063,
          1.0045975600888208,
          1.004656495679786,
          1.0045273250959674,
          1.004573568145924,
          1.00461180406617,
          1.0046806615753932,
          1.0047093166515573,
          1.0047850352688201,
          1.00477669671162,
          1.0047708744065347,
          1.0048435563005882,
          1.0048421390927673,
          1.0048703477593668,
          1.0048240904699492,
          1.0048406695241405,
          1.0048606715131652,
          1.0048213743392174,
          1.0047356847991322,
          1.0047171108572972,
          1.0049395951655733
         ],
         "yaxis": "y"
        }
       ],
       "layout": {
        "legend": {
         "title": {
          "text": "variable"
         },
         "tracegroupgap": 0
        },
        "margin": {
         "t": 60
        },
        "template": {
         "data": {
          "bar": [
           {
            "error_x": {
             "color": "#2a3f5f"
            },
            "error_y": {
             "color": "#2a3f5f"
            },
            "marker": {
             "line": {
              "color": "#E5ECF6",
              "width": 0.5
             },
             "pattern": {
              "fillmode": "overlay",
              "size": 10,
              "solidity": 0.2
             }
            },
            "type": "bar"
           }
          ],
          "barpolar": [
           {
            "marker": {
             "line": {
              "color": "#E5ECF6",
              "width": 0.5
             },
             "pattern": {
              "fillmode": "overlay",
              "size": 10,
              "solidity": 0.2
             }
            },
            "type": "barpolar"
           }
          ],
          "carpet": [
           {
            "aaxis": {
             "endlinecolor": "#2a3f5f",
             "gridcolor": "white",
             "linecolor": "white",
             "minorgridcolor": "white",
             "startlinecolor": "#2a3f5f"
            },
            "baxis": {
             "endlinecolor": "#2a3f5f",
             "gridcolor": "white",
             "linecolor": "white",
             "minorgridcolor": "white",
             "startlinecolor": "#2a3f5f"
            },
            "type": "carpet"
           }
          ],
          "choropleth": [
           {
            "colorbar": {
             "outlinewidth": 0,
             "ticks": ""
            },
            "type": "choropleth"
           }
          ],
          "contour": [
           {
            "colorbar": {
             "outlinewidth": 0,
             "ticks": ""
            },
            "colorscale": [
             [
              0,
              "#0d0887"
             ],
             [
              0.1111111111111111,
              "#46039f"
             ],
             [
              0.2222222222222222,
              "#7201a8"
             ],
             [
              0.3333333333333333,
              "#9c179e"
             ],
             [
              0.4444444444444444,
              "#bd3786"
             ],
             [
              0.5555555555555556,
              "#d8576b"
             ],
             [
              0.6666666666666666,
              "#ed7953"
             ],
             [
              0.7777777777777778,
              "#fb9f3a"
             ],
             [
              0.8888888888888888,
              "#fdca26"
             ],
             [
              1,
              "#f0f921"
             ]
            ],
            "type": "contour"
           }
          ],
          "contourcarpet": [
           {
            "colorbar": {
             "outlinewidth": 0,
             "ticks": ""
            },
            "type": "contourcarpet"
           }
          ],
          "heatmap": [
           {
            "colorbar": {
             "outlinewidth": 0,
             "ticks": ""
            },
            "colorscale": [
             [
              0,
              "#0d0887"
             ],
             [
              0.1111111111111111,
              "#46039f"
             ],
             [
              0.2222222222222222,
              "#7201a8"
             ],
             [
              0.3333333333333333,
              "#9c179e"
             ],
             [
              0.4444444444444444,
              "#bd3786"
             ],
             [
              0.5555555555555556,
              "#d8576b"
             ],
             [
              0.6666666666666666,
              "#ed7953"
             ],
             [
              0.7777777777777778,
              "#fb9f3a"
             ],
             [
              0.8888888888888888,
              "#fdca26"
             ],
             [
              1,
              "#f0f921"
             ]
            ],
            "type": "heatmap"
           }
          ],
          "heatmapgl": [
           {
            "colorbar": {
             "outlinewidth": 0,
             "ticks": ""
            },
            "colorscale": [
             [
              0,
              "#0d0887"
             ],
             [
              0.1111111111111111,
              "#46039f"
             ],
             [
              0.2222222222222222,
              "#7201a8"
             ],
             [
              0.3333333333333333,
              "#9c179e"
             ],
             [
              0.4444444444444444,
              "#bd3786"
             ],
             [
              0.5555555555555556,
              "#d8576b"
             ],
             [
              0.6666666666666666,
              "#ed7953"
             ],
             [
              0.7777777777777778,
              "#fb9f3a"
             ],
             [
              0.8888888888888888,
              "#fdca26"
             ],
             [
              1,
              "#f0f921"
             ]
            ],
            "type": "heatmapgl"
           }
          ],
          "histogram": [
           {
            "marker": {
             "pattern": {
              "fillmode": "overlay",
              "size": 10,
              "solidity": 0.2
             }
            },
            "type": "histogram"
           }
          ],
          "histogram2d": [
           {
            "colorbar": {
             "outlinewidth": 0,
             "ticks": ""
            },
            "colorscale": [
             [
              0,
              "#0d0887"
             ],
             [
              0.1111111111111111,
              "#46039f"
             ],
             [
              0.2222222222222222,
              "#7201a8"
             ],
             [
              0.3333333333333333,
              "#9c179e"
             ],
             [
              0.4444444444444444,
              "#bd3786"
             ],
             [
              0.5555555555555556,
              "#d8576b"
             ],
             [
              0.6666666666666666,
              "#ed7953"
             ],
             [
              0.7777777777777778,
              "#fb9f3a"
             ],
             [
              0.8888888888888888,
              "#fdca26"
             ],
             [
              1,
              "#f0f921"
             ]
            ],
            "type": "histogram2d"
           }
          ],
          "histogram2dcontour": [
           {
            "colorbar": {
             "outlinewidth": 0,
             "ticks": ""
            },
            "colorscale": [
             [
              0,
              "#0d0887"
             ],
             [
              0.1111111111111111,
              "#46039f"
             ],
             [
              0.2222222222222222,
              "#7201a8"
             ],
             [
              0.3333333333333333,
              "#9c179e"
             ],
             [
              0.4444444444444444,
              "#bd3786"
             ],
             [
              0.5555555555555556,
              "#d8576b"
             ],
             [
              0.6666666666666666,
              "#ed7953"
             ],
             [
              0.7777777777777778,
              "#fb9f3a"
             ],
             [
              0.8888888888888888,
              "#fdca26"
             ],
             [
              1,
              "#f0f921"
             ]
            ],
            "type": "histogram2dcontour"
           }
          ],
          "mesh3d": [
           {
            "colorbar": {
             "outlinewidth": 0,
             "ticks": ""
            },
            "type": "mesh3d"
           }
          ],
          "parcoords": [
           {
            "line": {
             "colorbar": {
              "outlinewidth": 0,
              "ticks": ""
             }
            },
            "type": "parcoords"
           }
          ],
          "pie": [
           {
            "automargin": true,
            "type": "pie"
           }
          ],
          "scatter": [
           {
            "fillpattern": {
             "fillmode": "overlay",
             "size": 10,
             "solidity": 0.2
            },
            "type": "scatter"
           }
          ],
          "scatter3d": [
           {
            "line": {
             "colorbar": {
              "outlinewidth": 0,
              "ticks": ""
             }
            },
            "marker": {
             "colorbar": {
              "outlinewidth": 0,
              "ticks": ""
             }
            },
            "type": "scatter3d"
           }
          ],
          "scattercarpet": [
           {
            "marker": {
             "colorbar": {
              "outlinewidth": 0,
              "ticks": ""
             }
            },
            "type": "scattercarpet"
           }
          ],
          "scattergeo": [
           {
            "marker": {
             "colorbar": {
              "outlinewidth": 0,
              "ticks": ""
             }
            },
            "type": "scattergeo"
           }
          ],
          "scattergl": [
           {
            "marker": {
             "colorbar": {
              "outlinewidth": 0,
              "ticks": ""
             }
            },
            "type": "scattergl"
           }
          ],
          "scattermapbox": [
           {
            "marker": {
             "colorbar": {
              "outlinewidth": 0,
              "ticks": ""
             }
            },
            "type": "scattermapbox"
           }
          ],
          "scatterpolar": [
           {
            "marker": {
             "colorbar": {
              "outlinewidth": 0,
              "ticks": ""
             }
            },
            "type": "scatterpolar"
           }
          ],
          "scatterpolargl": [
           {
            "marker": {
             "colorbar": {
              "outlinewidth": 0,
              "ticks": ""
             }
            },
            "type": "scatterpolargl"
           }
          ],
          "scatterternary": [
           {
            "marker": {
             "colorbar": {
              "outlinewidth": 0,
              "ticks": ""
             }
            },
            "type": "scatterternary"
           }
          ],
          "surface": [
           {
            "colorbar": {
             "outlinewidth": 0,
             "ticks": ""
            },
            "colorscale": [
             [
              0,
              "#0d0887"
             ],
             [
              0.1111111111111111,
              "#46039f"
             ],
             [
              0.2222222222222222,
              "#7201a8"
             ],
             [
              0.3333333333333333,
              "#9c179e"
             ],
             [
              0.4444444444444444,
              "#bd3786"
             ],
             [
              0.5555555555555556,
              "#d8576b"
             ],
             [
              0.6666666666666666,
              "#ed7953"
             ],
             [
              0.7777777777777778,
              "#fb9f3a"
             ],
             [
              0.8888888888888888,
              "#fdca26"
             ],
             [
              1,
              "#f0f921"
             ]
            ],
            "type": "surface"
           }
          ],
          "table": [
           {
            "cells": {
             "fill": {
              "color": "#EBF0F8"
             },
             "line": {
              "color": "white"
             }
            },
            "header": {
             "fill": {
              "color": "#C8D4E3"
             },
             "line": {
              "color": "white"
             }
            },
            "type": "table"
           }
          ]
         },
         "layout": {
          "annotationdefaults": {
           "arrowcolor": "#2a3f5f",
           "arrowhead": 0,
           "arrowwidth": 1
          },
          "autotypenumbers": "strict",
          "coloraxis": {
           "colorbar": {
            "outlinewidth": 0,
            "ticks": ""
           }
          },
          "colorscale": {
           "diverging": [
            [
             0,
             "#8e0152"
            ],
            [
             0.1,
             "#c51b7d"
            ],
            [
             0.2,
             "#de77ae"
            ],
            [
             0.3,
             "#f1b6da"
            ],
            [
             0.4,
             "#fde0ef"
            ],
            [
             0.5,
             "#f7f7f7"
            ],
            [
             0.6,
             "#e6f5d0"
            ],
            [
             0.7,
             "#b8e186"
            ],
            [
             0.8,
             "#7fbc41"
            ],
            [
             0.9,
             "#4d9221"
            ],
            [
             1,
             "#276419"
            ]
           ],
           "sequential": [
            [
             0,
             "#0d0887"
            ],
            [
             0.1111111111111111,
             "#46039f"
            ],
            [
             0.2222222222222222,
             "#7201a8"
            ],
            [
             0.3333333333333333,
             "#9c179e"
            ],
            [
             0.4444444444444444,
             "#bd3786"
            ],
            [
             0.5555555555555556,
             "#d8576b"
            ],
            [
             0.6666666666666666,
             "#ed7953"
            ],
            [
             0.7777777777777778,
             "#fb9f3a"
            ],
            [
             0.8888888888888888,
             "#fdca26"
            ],
            [
             1,
             "#f0f921"
            ]
           ],
           "sequentialminus": [
            [
             0,
             "#0d0887"
            ],
            [
             0.1111111111111111,
             "#46039f"
            ],
            [
             0.2222222222222222,
             "#7201a8"
            ],
            [
             0.3333333333333333,
             "#9c179e"
            ],
            [
             0.4444444444444444,
             "#bd3786"
            ],
            [
             0.5555555555555556,
             "#d8576b"
            ],
            [
             0.6666666666666666,
             "#ed7953"
            ],
            [
             0.7777777777777778,
             "#fb9f3a"
            ],
            [
             0.8888888888888888,
             "#fdca26"
            ],
            [
             1,
             "#f0f921"
            ]
           ]
          },
          "colorway": [
           "#636efa",
           "#EF553B",
           "#00cc96",
           "#ab63fa",
           "#FFA15A",
           "#19d3f3",
           "#FF6692",
           "#B6E880",
           "#FF97FF",
           "#FECB52"
          ],
          "font": {
           "color": "#2a3f5f"
          },
          "geo": {
           "bgcolor": "white",
           "lakecolor": "white",
           "landcolor": "#E5ECF6",
           "showlakes": true,
           "showland": true,
           "subunitcolor": "white"
          },
          "hoverlabel": {
           "align": "left"
          },
          "hovermode": "closest",
          "mapbox": {
           "style": "light"
          },
          "paper_bgcolor": "white",
          "plot_bgcolor": "#E5ECF6",
          "polar": {
           "angularaxis": {
            "gridcolor": "white",
            "linecolor": "white",
            "ticks": ""
           },
           "bgcolor": "#E5ECF6",
           "radialaxis": {
            "gridcolor": "white",
            "linecolor": "white",
            "ticks": ""
           }
          },
          "scene": {
           "xaxis": {
            "backgroundcolor": "#E5ECF6",
            "gridcolor": "white",
            "gridwidth": 2,
            "linecolor": "white",
            "showbackground": true,
            "ticks": "",
            "zerolinecolor": "white"
           },
           "yaxis": {
            "backgroundcolor": "#E5ECF6",
            "gridcolor": "white",
            "gridwidth": 2,
            "linecolor": "white",
            "showbackground": true,
            "ticks": "",
            "zerolinecolor": "white"
           },
           "zaxis": {
            "backgroundcolor": "#E5ECF6",
            "gridcolor": "white",
            "gridwidth": 2,
            "linecolor": "white",
            "showbackground": true,
            "ticks": "",
            "zerolinecolor": "white"
           }
          },
          "shapedefaults": {
           "line": {
            "color": "#2a3f5f"
           }
          },
          "ternary": {
           "aaxis": {
            "gridcolor": "white",
            "linecolor": "white",
            "ticks": ""
           },
           "baxis": {
            "gridcolor": "white",
            "linecolor": "white",
            "ticks": ""
           },
           "bgcolor": "#E5ECF6",
           "caxis": {
            "gridcolor": "white",
            "linecolor": "white",
            "ticks": ""
           }
          },
          "title": {
           "x": 0.05
          },
          "xaxis": {
           "automargin": true,
           "gridcolor": "white",
           "linecolor": "white",
           "ticks": "",
           "title": {
            "standoff": 15
           },
           "zerolinecolor": "white",
           "zerolinewidth": 2
          },
          "yaxis": {
           "automargin": true,
           "gridcolor": "white",
           "linecolor": "white",
           "ticks": "",
           "title": {
            "standoff": 15
           },
           "zerolinecolor": "white",
           "zerolinewidth": 2
          }
         }
        },
        "xaxis": {
         "anchor": "y",
         "domain": [
          0,
          1
         ],
         "title": {
          "text": "timestamp"
         }
        },
        "yaxis": {
         "anchor": "x",
         "domain": [
          0,
          1
         ],
         "title": {
          "text": "value"
         }
        }
       }
      }
     },
     "metadata": {},
     "output_type": "display_data"
    }
   ],
   "source": [
    "nav_per_share_df = pd.DataFrame()\n",
    "nav_per_share_df[\"balETH_actual_nav_per_share\"] = balETH_nav_per_share\n",
    "nav_per_share_df[\"balETH_scaled_nav_per_share\"] = scaled_nav_per_share\n",
    "px.line(nav_per_share_df)"
   ]
  },
  {
   "cell_type": "code",
   "execution_count": null,
   "metadata": {},
   "outputs": [
    {
     "data": {
      "text/plain": [
       "timestamp\n",
       "2024-09-15 02:04:47+00:00    1.000000e-13\n",
       "2024-09-15 05:44:35+00:00    1.000000e-13\n",
       "2024-09-15 09:24:47+00:00    1.000000e-13\n",
       "2024-09-15 13:04:11+00:00    1.000000e-13\n",
       "2024-09-15 16:44:23+00:00    1.000000e-13\n",
       "                                 ...     \n",
       "2024-11-07 21:06:59+00:00    4.491797e+03\n",
       "2024-11-08 00:47:47+00:00    4.491961e+03\n",
       "2024-11-08 04:29:35+00:00    4.492213e+03\n",
       "2024-11-08 08:09:59+00:00    4.913157e+03\n",
       "2024-11-08 11:49:35+00:00    4.916870e+03\n",
       "Length: 357, dtype: float64"
      ]
     },
     "execution_count": 31,
     "metadata": {},
     "output_type": "execute_result"
    }
   ],
   "source": [
    "tvl  # all these values are slightly off"
   ]
  },
  {
   "cell_type": "code",
   "execution_count": null,
   "metadata": {},
   "outputs": [
    {
     "data": {
      "text/html": [
       "<div>\n",
       "<style scoped>\n",
       "    .dataframe tbody tr th:only-of-type {\n",
       "        vertical-align: middle;\n",
       "    }\n",
       "\n",
       "    .dataframe tbody tr th {\n",
       "        vertical-align: top;\n",
       "    }\n",
       "\n",
       "    .dataframe thead th {\n",
       "        text-align: right;\n",
       "    }\n",
       "</style>\n",
       "<table border=\"1\" class=\"dataframe\">\n",
       "  <thead>\n",
       "    <tr style=\"text-align: right;\">\n",
       "      <th></th>\n",
       "      <th>getPoolsAndDestinations</th>\n",
       "    </tr>\n",
       "    <tr>\n",
       "      <th>timestamp</th>\n",
       "      <th></th>\n",
       "    </tr>\n",
       "  </thead>\n",
       "  <tbody>\n",
       "    <tr>\n",
       "      <th>2024-09-15 02:04:47+00:00</th>\n",
       "      <td>1.000000e-13</td>\n",
       "    </tr>\n",
       "    <tr>\n",
       "      <th>2024-09-15 05:44:35+00:00</th>\n",
       "      <td>1.000000e-13</td>\n",
       "    </tr>\n",
       "    <tr>\n",
       "      <th>2024-09-15 09:24:47+00:00</th>\n",
       "      <td>1.000000e-13</td>\n",
       "    </tr>\n",
       "    <tr>\n",
       "      <th>2024-09-15 13:04:11+00:00</th>\n",
       "      <td>1.000000e-13</td>\n",
       "    </tr>\n",
       "    <tr>\n",
       "      <th>2024-09-15 16:44:23+00:00</th>\n",
       "      <td>1.000000e-13</td>\n",
       "    </tr>\n",
       "    <tr>\n",
       "      <th>...</th>\n",
       "      <td>...</td>\n",
       "    </tr>\n",
       "    <tr>\n",
       "      <th>2024-11-07 21:06:59+00:00</th>\n",
       "      <td>4.491893e+03</td>\n",
       "    </tr>\n",
       "    <tr>\n",
       "      <th>2024-11-08 00:47:47+00:00</th>\n",
       "      <td>4.491893e+03</td>\n",
       "    </tr>\n",
       "    <tr>\n",
       "      <th>2024-11-08 04:29:35+00:00</th>\n",
       "      <td>4.492972e+03</td>\n",
       "    </tr>\n",
       "    <tr>\n",
       "      <th>2024-11-08 08:09:59+00:00</th>\n",
       "      <td>4.913972e+03</td>\n",
       "    </tr>\n",
       "    <tr>\n",
       "      <th>2024-11-08 11:49:35+00:00</th>\n",
       "      <td>4.914352e+03</td>\n",
       "    </tr>\n",
       "  </tbody>\n",
       "</table>\n",
       "<p>357 rows × 1 columns</p>\n",
       "</div>"
      ],
      "text/plain": [
       "                           getPoolsAndDestinations\n",
       "timestamp                                         \n",
       "2024-09-15 02:04:47+00:00             1.000000e-13\n",
       "2024-09-15 05:44:35+00:00             1.000000e-13\n",
       "2024-09-15 09:24:47+00:00             1.000000e-13\n",
       "2024-09-15 13:04:11+00:00             1.000000e-13\n",
       "2024-09-15 16:44:23+00:00             1.000000e-13\n",
       "...                                            ...\n",
       "2024-11-07 21:06:59+00:00             4.491893e+03\n",
       "2024-11-08 00:47:47+00:00             4.491893e+03\n",
       "2024-11-08 04:29:35+00:00             4.492972e+03\n",
       "2024-11-08 08:09:59+00:00             4.913972e+03\n",
       "2024-11-08 11:49:35+00:00             4.914352e+03\n",
       "\n",
       "[357 rows x 1 columns]"
      ]
     },
     "execution_count": 32,
     "metadata": {},
     "output_type": "execute_result"
    }
   ],
   "source": [
    "balETH_tvl_totalAssets"
   ]
  },
  {
   "cell_type": "code",
   "execution_count": null,
   "metadata": {},
   "outputs": [],
   "source": [
    "# vaultAddress\t: 0x003aD6a060a1082B7A6F85d24dDF9E9E196B8426\n",
    "# exchangeName\t: balancer\n",
    "# dexPool\t: 0xf01b0684C98CD7aDA480BFDF6e43876422fa1Fc1\n",
    "# lpTokenAddress\t: 0xf01b0684C98CD7aDA480BFDF6e43876422fa1Fc1\n",
    "# lpTokenSymbol\t: ECLP-wstETH-wETH\n",
    "# lpTokenName\t: Gyroscope ECLP wstETH/wETH\n",
    "# autopool\t: {'name': 'balETH', 'autopool_eth_addr': '0x6dC3ce9C57b20131347FDc9089D740DAf6eB34c5', 'autopool_eth_strategy_addr': '0xabe104560D0B390309bcF20b73Dca335457AA32e', 'solver_rebalance_plans_bucket': 'v2-gen3-eth-mainnet-solve-v2gen3ethmainnetsolverba-wx1snhldrupb'}\n",
    "# vault_name\t: ECLP-wstETH-wETH (balancer),th_addr': '0x0A2b94F6871c1D7A32Fe58E1ab5e6deA2f114E56', 'autopool_eth_strategy_addr': '0xf5f6addB08c5e6091e5FdEc7326B21bEEd942235', 'solver_rebalance_plans_bucket': 'v2-gen3-eth-mainnet-solve-v2gen3ethmainnetsolverau-7ju0ra8aoznh'}"
   ]
  },
  {
   "cell_type": "code",
   "execution_count": null,
   "metadata": {},
   "outputs": [],
   "source": []
  },
  {
   "cell_type": "code",
   "execution_count": null,
   "metadata": {},
   "outputs": [],
   "source": [
    "call = build_proxyGetDestinationSummaryStats_call(\n",
    "    \"Gyroscope ECLP wstETH/wETH\",\n",
    "    BAL_ETH.autopool_eth_strategy_addr,\n",
    "    \"0x003aD6a060a1082B7A6F85d24dDF9E9E196B8426\",\n",
    "    \"out\",\n",
    "    0,\n",
    ")"
   ]
  },
  {
   "cell_type": "code",
   "execution_count": null,
   "metadata": {},
   "outputs": [],
   "source": []
  }
 ],
 "metadata": {
  "kernelspec": {
   "display_name": ".venv",
   "language": "python",
   "name": "python3"
  },
  "language_info": {
   "codemirror_mode": {
    "name": "ipython",
    "version": 3
   },
   "file_extension": ".py",
   "mimetype": "text/x-python",
   "name": "python",
   "nbconvert_exporter": "python",
   "pygments_lexer": "ipython3",
   "version": "3.10.14"
  }
 },
 "nbformat": 4,
 "nbformat_minor": 2
}
