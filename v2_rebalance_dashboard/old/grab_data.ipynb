{
 "cells": [
  {
   "cell_type": "code",
   "execution_count": 1,
   "metadata": {},
   "outputs": [],
   "source": [
    "import json\n",
    "import pandas as pd\n",
    "from v2_rebalance_dashboard.constants import (\n",
    "    ROOT_DIR,\n",
    "    eth_client,\n",
    "    AUTOPOOL_ETH_STRATEGY_ABI,\n",
    "    AUTOPOOL_VAULT_ABI,\n",
    "    balETH_AUTOPOOL_ETH_ADDRESS,\n",
    "    balETH_AUTOPOOL_ETH_STRATEGY_ADDRESS,\n",
    ")\n",
    "import plotly.express as px\n",
    "from v2_rebalance_dashboard.get_rebalance_events_summary import fetch_clean_rebalance_events\n",
    "from v2_rebalance_dashboard.solver_rebalance_plans_plots import load_balETH_solver_df, autoETH, balETH\n",
    "import plotly.graph_objects as go\n",
    "\n",
    "autoETH = \"0x49C4719EaCc746b87703F964F09C22751F397BA0\"\n",
    "balETH = \"0x72cf6d7C85FfD73F18a83989E7BA8C1c30211b73\"\n",
    "\n",
    "balETH_solver_df, balETH_proposed_rebalances_df, destination_df, rebalance_event_df = load_balETH_solver_df()"
   ]
  },
  {
   "cell_type": "code",
   "execution_count": 6,
   "metadata": {},
   "outputs": [],
   "source": [
    "from v2_rebalance_dashboard.get_events import get_each_event_in_contract\n",
    "\n",
    "vault_events  = get_each_event_in_contract(eth_client.eth.contract(balETH_AUTOPOOL_ETH_ADDRESS, abi=AUTOPOOL_VAULT_ABI), )\n",
    "strategy_events = get_each_event_in_contract(eth_client.eth.contract(balETH_AUTOPOOL_ETH_STRATEGY_ADDRESS, abi=AUTOPOOL_ETH_STRATEGY_ABI), )"
   ]
  },
  {
   "cell_type": "code",
   "execution_count": 7,
   "metadata": {},
   "outputs": [
    {
     "name": "stdout",
     "output_type": "stream",
     "text": [
      "DestTrimRebalanceDetails (0, 4)\n",
      "DestViolationMaxTrimAmount (0, 4)\n",
      "DustPositionPortionSet (0, 4)\n",
      "IdleThresholdsSet (0, 4)\n",
      "Initialized (1, 6)\n",
      "LstPriceGapSet (0, 4)\n",
      "PauseStart (0, 4)\n",
      "PauseStop (0, 4)\n",
      "RebalanceBetweenDestinations (5, 11)\n",
      "RebalanceToIdle (0, 4)\n",
      "RebalanceToIdleReason (0, 4)\n",
      "SuccessfulRebalanceBetweenDestinations (3, 9)\n"
     ]
    }
   ],
   "source": [
    "for k, df in strategy_events.items():\n",
    "    print(k, df.shape)"
   ]
  },
  {
   "cell_type": "code",
   "execution_count": 8,
   "metadata": {},
   "outputs": [
    {
     "name": "stdout",
     "output_type": "stream",
     "text": [
      "AddedToRemovalQueue (0, 4)\n",
      "Approval (0, 4)\n",
      "Deposit (5, 9)\n",
      "DestinationDebtReporting (0, 4)\n",
      "DestinationVaultAdded (15, 6)\n",
      "DestinationVaultRemoved (1, 6)\n",
      "FeeCollected (0, 4)\n",
      "Initialized (1, 6)\n",
      "Nav (52, 8)\n",
      "Paused (0, 4)\n",
      "PeriodicFeeCollected (0, 4)\n",
      "RemovedFromRemovalQueue (0, 4)\n",
      "RewarderSet (1, 7)\n",
      "Shutdown (0, 4)\n",
      "SymbolAndDescSet (0, 4)\n",
      "TokensPulled (0, 4)\n",
      "TokensRecovered (0, 4)\n",
      "Transfer (84, 8)\n",
      "Unpaused (0, 4)\n",
      "Withdraw (0, 4)\n",
      "WithdrawalQueueSet (0, 4)\n"
     ]
    }
   ],
   "source": [
    "for k, df in vault_events.items():\n",
    "    print(k, df.shape)"
   ]
  },
  {
   "cell_type": "code",
   "execution_count": 12,
   "metadata": {},
   "outputs": [],
   "source": []
  },
  {
   "cell_type": "code",
   "execution_count": null,
   "metadata": {},
   "outputs": [],
   "source": [
    "def block_to_date(block:int):\n",
    "    return pd.to_datetime(eth_client.eth.getBlock(block).timestamp, unit='s')\n",
    "\n",
    "def make_time_since_last_nav_event(nav_df:pd.DataFrame):\n",
    "    time_diff_hours = nav_df['date'].diff().dt.total_seconds()[2:] / 3600\n",
    "    nav_df['date'] = nav_df['block'].apply(block_to_date)\n",
    "    time_diff_hours.index = nav_df['date'][2:]\n",
    "    fig = px.line(time_diff_hours, labels={'value': 'Hours since last Nav Event', 'index': 'Date'})\n",
    "    fig.add_hline(y=24, line_dash=\"dash\", line_color=\"red\", annotation_text=\"24-hour threshold\", annotation_position=\"top right\")\n",
    "    fig.update_yaxes(range=[20, 25])\n",
    "    return fig"
   ]
  }
 ],
 "metadata": {
  "kernelspec": {
   "display_name": "v2-rebalance-dashboard-Tgz_6KTZ-py3.12",
   "language": "python",
   "name": "python3"
  },
  "language_info": {
   "codemirror_mode": {
    "name": "ipython",
    "version": 3
   },
   "file_extension": ".py",
   "mimetype": "text/x-python",
   "name": "python",
   "nbconvert_exporter": "python",
   "pygments_lexer": "ipython3",
   "version": "3.10.14"
  }
 },
 "nbformat": 4,
 "nbformat_minor": 2
}
