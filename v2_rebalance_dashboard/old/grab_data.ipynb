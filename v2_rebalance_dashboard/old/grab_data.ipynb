{
 "cells": [
  {
   "cell_type": "code",
   "execution_count": 1,
   "metadata": {},
   "outputs": [],
   "source": [
    "import json\n",
    "import pandas as pd\n",
    "from v2_rebalance_dashboard.constants import ROOT_DIR, eth_client\n",
    "import plotly.express as px\n",
    "from v2_rebalance_dashboard.get_rebalance_events_summary import fetch_clean_rebalance_events\n",
    "import plotly.graph_objects as go\n",
    "\n",
    "autoETH = \"0x49C4719EaCc746b87703F964F09C22751F397BA0\"\n",
    "balETH = \"0x72cf6d7C85FfD73F18a83989E7BA8C1c30211b73\"\n",
    "\n",
    "\n",
    "def load_solver_df() -> pd.DataFrame:\n",
    "    fetched_data_path = ROOT_DIR.parent / \"fetched_data\"\n",
    "    existing_jsons = [str(path) for path in fetched_data_path.glob(\"*.json\")]\n",
    "\n",
    "    all_data = []\n",
    "    for p in existing_jsons:\n",
    "        try:\n",
    "            with open(p, \"r\") as fin:\n",
    "                json_file_file_name = p.split(\"/\")[-1]\n",
    "                solver_data = json.load(fin)\n",
    "                solver_data[\"json_file_file_name\"] = json_file_file_name\n",
    "                solver_data[\"date\"] = pd.to_datetime(solver_data[\"timestamp\"], unit=\"s\")\n",
    "\n",
    "                if autoETH.lower() in json_file_file_name.lower():\n",
    "                    solver_data[\"poolAddress\"] = autoETH\n",
    "\n",
    "                if balETH.lower() in json_file_file_name.lower():\n",
    "                    solver_data[\"poolAddress\"] = balETH\n",
    "\n",
    "                all_data.append(solver_data)\n",
    "        except Exception as e:\n",
    "            pass\n",
    "            # print(p, e)\n",
    "    solver_df = pd.DataFrame.from_records(all_data)\n",
    "    return solver_df\n",
    "\n",
    "\n",
    "def load_balETH_solver_df():\n",
    "    destination_df = pd.read_parquet(ROOT_DIR / \"vaults.parquet\")\n",
    "    rebalance_event_df = fetch_clean_rebalance_events()\n",
    "\n",
    "    destination_vault_to_name = {\n",
    "        str(vault_address).lower(): name[22:]\n",
    "        for vault_address, name in zip(destination_df[\"vaultAddress\"], destination_df[\"name\"])\n",
    "    }\n",
    "    destination_vault_to_name[\"0x72cf6d7c85ffd73f18a83989e7ba8c1c30211b73\"] = \"balETH idle\"\n",
    "    solver_df = load_solver_df()\n",
    "    balETH_solver_df = solver_df[solver_df[\"poolAddress\"] == balETH].copy()\n",
    "    balETH_solver_df.set_index(\"date\", inplace=True)\n",
    "\n",
    "    balETH_solver_df[\"destinationInName\"] = balETH_solver_df.apply(\n",
    "        lambda row: (\n",
    "            destination_vault_to_name[row[\"destinationIn\"].lower()]\n",
    "            if row[\"destinationIn\"].lower() in destination_vault_to_name\n",
    "            else None\n",
    "        ),\n",
    "        axis=1,\n",
    "    )\n",
    "    balETH_solver_df[\"destinationOutName\"] = balETH_solver_df.apply(\n",
    "        lambda row: (\n",
    "            destination_vault_to_name[row[\"destinationOut\"].lower()]\n",
    "            if row[\"destinationOut\"].lower() in destination_vault_to_name\n",
    "            else None\n",
    "        ),\n",
    "        axis=1,\n",
    "    )\n",
    "\n",
    "    balETH_solver_df[\"moveName\"] = balETH_solver_df.apply(\n",
    "        lambda row: f\"Exit {row['destinationOutName']} enter {row['destinationInName']}\", axis=1\n",
    "    )\n",
    "    rebalance_event_df[\"moveName\"] = rebalance_event_df.apply(\n",
    "        lambda row: f\"Exit {row['out_destination']} enter {row['in_destination']}\", axis=1\n",
    "    )\n",
    "    return balETH_solver_df, destination_df, rebalance_event_df\n",
    "\n",
    "\n",
    "balETH_solver_df, destination_df, rebalance_event_df = load_balETH_solver_df()"
   ]
  },
  {
   "cell_type": "code",
   "execution_count": 14,
   "metadata": {},
   "outputs": [
    {
     "data": {
      "application/vnd.plotly.v1+json": {
       "config": {
        "plotlyServerURL": "https://plot.ly"
       },
       "data": [
        {
         "marker": {
          "color": "blue",
          "size": 10
         },
         "mode": "markers",
         "name": "Proposed Rebalances",
         "type": "scatter",
         "x": [
          "2024-07-17T16:22:11",
          "2024-08-07T07:32:38",
          "2024-08-07T13:32:39",
          "2024-08-07T15:19:18",
          "2024-08-07T16:37:59",
          "2024-08-07T16:52:08",
          "2024-08-07T18:10:49",
          "2024-08-07T18:16:35",
          "2024-08-08T07:32:38",
          "2024-08-08T13:32:39",
          "2024-08-08T13:38:59",
          "2024-08-09T01:32:38",
          "2024-08-09T07:32:39",
          "2024-08-09T13:32:39",
          "2024-08-09T19:43:33",
          "2024-08-10T01:32:39",
          "2024-08-10T07:32:39",
          "2024-08-10T13:32:39",
          "2024-08-10T19:32:39",
          "2024-08-11T01:32:38",
          "2024-08-11T07:32:38",
          "2024-08-11T13:32:38",
          "2024-08-11T19:32:38",
          "2024-08-12T01:32:38",
          "2024-08-12T07:32:38",
          "2024-08-12T13:32:39",
          "2024-08-13T07:43:34",
          "2024-08-13T16:09:21",
          "2024-08-13T19:32:38",
          "2024-08-14T01:32:38",
          "2024-08-14T07:32:38",
          "2024-08-14T13:32:39",
          "2024-08-14T19:32:39",
          "2024-08-15T01:32:38",
          "2024-08-15T07:32:39",
          "2024-08-15T13:32:39",
          "2024-08-15T19:32:38",
          "2024-08-16T01:32:39",
          "2024-08-16T13:32:39",
          "2024-08-16T15:55:17",
          "2024-08-16T19:32:38",
          "2024-08-17T01:32:38",
          "2024-08-17T01:39:59",
          "2024-08-17T13:32:38",
          "2024-08-17T19:32:38",
          "2024-08-18T01:32:39",
          "2024-08-18T07:32:38",
          "2024-08-18T13:32:39",
          "2024-08-18T19:32:38",
          "2024-08-19T01:32:39",
          "2024-08-19T07:32:38",
          "2024-08-19T13:32:38",
          "2024-08-19T19:32:39",
          "2024-08-20T01:32:38",
          "2024-08-20T19:32:39",
          "2024-08-21T01:32:38",
          "2024-08-21T07:32:39",
          "2024-08-21T13:32:39",
          "2024-08-21T19:32:39",
          "2024-08-22T01:32:38",
          "2024-08-22T13:32:38",
          "2024-08-22T17:03:27",
          "2024-08-22T19:32:39",
          "2024-08-23T01:32:38",
          "2024-08-23T13:32:38",
          "2024-08-23T16:38:20",
          "2024-08-23T16:39:47",
          "2024-08-24T01:32:39",
          "2024-08-24T13:32:39",
          "2024-08-24T19:32:39",
          "2024-08-25T01:32:39",
          "2024-08-25T13:32:38",
          "2024-08-25T19:32:39",
          "2024-08-26T01:32:38",
          "2024-08-26T13:32:39",
          "2024-08-26T19:32:39",
          "2024-08-27T01:32:39",
          "2024-08-27T13:32:39",
          "2024-08-27T19:32:38",
          "2024-08-28T01:32:39",
          "2024-08-28T13:32:39",
          "2024-08-28T19:32:39",
          "2024-08-29T01:32:38",
          "2024-08-29T13:32:39"
         ],
         "y": [
          null,
          "Exit Balancer rsETH / ETHx enter Balancer rsETH-WETH Stable Pool",
          "Exit Balancer rsETH / ETHx enter Balancer rsETH-WETH Stable Pool",
          "Exit None enter None",
          "Exit None enter None",
          "Exit None enter None",
          "Exit balETH idle enter Balancer rsETH-WETH Stable Pool",
          null,
          "Exit None enter None",
          "Exit Balancer rsETH / ETHx enter Balancer rsETH-WETH Stable Pool",
          null,
          "Exit None enter None",
          "Exit None enter None",
          "Exit None enter None",
          "Exit None enter None",
          "Exit None enter None",
          "Exit None enter None",
          "Exit None enter None",
          "Exit None enter None",
          "Exit None enter None",
          "Exit None enter None",
          "Exit None enter None",
          "Exit None enter None",
          "Exit None enter None",
          "Exit None enter None",
          "Exit None enter None",
          "Exit None enter None",
          "Exit None enter None",
          "Exit None enter None",
          "Exit None enter None",
          "Exit None enter None",
          "Exit None enter None",
          "Exit None enter None",
          "Exit None enter None",
          "Exit None enter None",
          "Exit None enter None",
          "Exit None enter None",
          "Exit None enter None",
          "Exit Balancer rsETH-WETH Stable Pool enter Balancer ETHx/wstETH",
          "Exit Balancer rsETH-WETH Stable Pool enter Balancer ETHx/wstETH",
          "Exit Balancer rsETH-WETH Stable Pool enter Balancer ETHx/wstETH",
          "Exit Balancer rsETH-WETH Stable Pool enter Balancer rsETH / ETHx",
          null,
          "Exit None enter None",
          "Exit None enter None",
          "Exit None enter None",
          "Exit None enter None",
          "Exit None enter None",
          "Exit None enter None",
          "Exit None enter None",
          "Exit None enter None",
          "Exit None enter None",
          "Exit None enter None",
          "Exit None enter None",
          "Exit None enter None",
          "Exit None enter None",
          "Exit None enter None",
          "Exit None enter None",
          "Exit None enter None",
          "Exit None enter None",
          "Exit Balancer rsETH / ETHx enter Balancer ETHx/wstETH",
          "Exit Balancer rsETH / ETHx enter Balancer ETHx/wstETH",
          "Exit None enter None",
          "Exit Balancer rsETH / ETHx enter Balancer ETHx/wstETH",
          "Exit Balancer rsETH / ETHx enter Balancer ETHx/wstETH",
          "Exit Balancer rsETH / ETHx enter Balancer ETHx/wstETH",
          null,
          "Exit None enter None",
          "Exit None enter None",
          "Exit None enter None",
          "Exit None enter None",
          "Exit None enter None",
          "Exit None enter None",
          "Exit None enter None",
          "Exit None enter None",
          "Exit None enter None",
          "Exit None enter None",
          "Exit None enter None",
          "Exit None enter None",
          "Exit None enter None",
          "Exit None enter None",
          "Exit None enter None",
          "Exit None enter None",
          "Exit None enter None"
         ]
        },
        {
         "marker": {
          "color": "red",
          "size": 12,
          "symbol": "x"
         },
         "mode": "markers",
         "name": "Actual Rebalances",
         "type": "scatter",
         "x": [
          "2024-07-17T16:22:11",
          "2024-08-07T07:32:38",
          "2024-08-07T13:32:39",
          "2024-08-07T15:19:18",
          "2024-08-07T16:37:59",
          "2024-08-07T16:52:08",
          "2024-08-07T18:10:49",
          "2024-08-07T18:16:35",
          "2024-08-08T07:32:38",
          "2024-08-08T13:32:39",
          "2024-08-08T13:38:59",
          "2024-08-09T01:32:38",
          "2024-08-09T07:32:39",
          "2024-08-09T13:32:39",
          "2024-08-09T19:43:33",
          "2024-08-10T01:32:39",
          "2024-08-10T07:32:39",
          "2024-08-10T13:32:39",
          "2024-08-10T19:32:39",
          "2024-08-11T01:32:38",
          "2024-08-11T07:32:38",
          "2024-08-11T13:32:38",
          "2024-08-11T19:32:38",
          "2024-08-12T01:32:38",
          "2024-08-12T07:32:38",
          "2024-08-12T13:32:39",
          "2024-08-13T07:43:34",
          "2024-08-13T16:09:21",
          "2024-08-13T19:32:38",
          "2024-08-14T01:32:38",
          "2024-08-14T07:32:38",
          "2024-08-14T13:32:39",
          "2024-08-14T19:32:39",
          "2024-08-15T01:32:38",
          "2024-08-15T07:32:39",
          "2024-08-15T13:32:39",
          "2024-08-15T19:32:38",
          "2024-08-16T01:32:39",
          "2024-08-16T13:32:39",
          "2024-08-16T15:55:17",
          "2024-08-16T19:32:38",
          "2024-08-17T01:32:38",
          "2024-08-17T01:39:59",
          "2024-08-17T13:32:38",
          "2024-08-17T19:32:38",
          "2024-08-18T01:32:39",
          "2024-08-18T07:32:38",
          "2024-08-18T13:32:39",
          "2024-08-18T19:32:38",
          "2024-08-19T01:32:39",
          "2024-08-19T07:32:38",
          "2024-08-19T13:32:38",
          "2024-08-19T19:32:39",
          "2024-08-20T01:32:38",
          "2024-08-20T19:32:39",
          "2024-08-21T01:32:38",
          "2024-08-21T07:32:39",
          "2024-08-21T13:32:39",
          "2024-08-21T19:32:39",
          "2024-08-22T01:32:38",
          "2024-08-22T13:32:38",
          "2024-08-22T17:03:27",
          "2024-08-22T19:32:39",
          "2024-08-23T01:32:38",
          "2024-08-23T13:32:38",
          "2024-08-23T16:38:20",
          "2024-08-23T16:39:47",
          "2024-08-24T01:32:39",
          "2024-08-24T13:32:39",
          "2024-08-24T19:32:39",
          "2024-08-25T01:32:39",
          "2024-08-25T13:32:38",
          "2024-08-25T19:32:39",
          "2024-08-26T01:32:38",
          "2024-08-26T13:32:39",
          "2024-08-26T19:32:39",
          "2024-08-27T01:32:39",
          "2024-08-27T13:32:39",
          "2024-08-27T19:32:38",
          "2024-08-28T01:32:39",
          "2024-08-28T13:32:39",
          "2024-08-28T19:32:39",
          "2024-08-29T01:32:38",
          "2024-08-29T13:32:39"
         ],
         "y": [
          "Exit balETH idle enter Balancer rsETH / ETHx",
          null,
          null,
          null,
          null,
          null,
          null,
          "Exit balETH idle enter Balancer rsETH-WETH Stable Pool",
          null,
          null,
          "Exit Balancer rsETH / ETHx enter Balancer rsETH-WETH Stable Pool",
          null,
          null,
          null,
          null,
          null,
          null,
          null,
          null,
          null,
          null,
          null,
          null,
          null,
          null,
          null,
          null,
          null,
          null,
          null,
          null,
          null,
          null,
          null,
          null,
          null,
          null,
          null,
          null,
          null,
          null,
          null,
          "Exit Balancer rsETH-WETH Stable Pool enter Balancer rsETH / ETHx",
          null,
          null,
          null,
          null,
          null,
          null,
          null,
          null,
          null,
          null,
          null,
          null,
          null,
          null,
          null,
          null,
          null,
          null,
          null,
          null,
          null,
          null,
          null,
          "Exit Balancer rsETH / ETHx enter Balancer ETHx/wstETH",
          null,
          null,
          null,
          null,
          null,
          null,
          null,
          null,
          null,
          null,
          null,
          null,
          null,
          null,
          null,
          null,
          null
         ]
        }
       ],
       "layout": {
        "height": 600,
        "template": {
         "data": {
          "bar": [
           {
            "error_x": {
             "color": "#2a3f5f"
            },
            "error_y": {
             "color": "#2a3f5f"
            },
            "marker": {
             "line": {
              "color": "#E5ECF6",
              "width": 0.5
             },
             "pattern": {
              "fillmode": "overlay",
              "size": 10,
              "solidity": 0.2
             }
            },
            "type": "bar"
           }
          ],
          "barpolar": [
           {
            "marker": {
             "line": {
              "color": "#E5ECF6",
              "width": 0.5
             },
             "pattern": {
              "fillmode": "overlay",
              "size": 10,
              "solidity": 0.2
             }
            },
            "type": "barpolar"
           }
          ],
          "carpet": [
           {
            "aaxis": {
             "endlinecolor": "#2a3f5f",
             "gridcolor": "white",
             "linecolor": "white",
             "minorgridcolor": "white",
             "startlinecolor": "#2a3f5f"
            },
            "baxis": {
             "endlinecolor": "#2a3f5f",
             "gridcolor": "white",
             "linecolor": "white",
             "minorgridcolor": "white",
             "startlinecolor": "#2a3f5f"
            },
            "type": "carpet"
           }
          ],
          "choropleth": [
           {
            "colorbar": {
             "outlinewidth": 0,
             "ticks": ""
            },
            "type": "choropleth"
           }
          ],
          "contour": [
           {
            "colorbar": {
             "outlinewidth": 0,
             "ticks": ""
            },
            "colorscale": [
             [
              0,
              "#0d0887"
             ],
             [
              0.1111111111111111,
              "#46039f"
             ],
             [
              0.2222222222222222,
              "#7201a8"
             ],
             [
              0.3333333333333333,
              "#9c179e"
             ],
             [
              0.4444444444444444,
              "#bd3786"
             ],
             [
              0.5555555555555556,
              "#d8576b"
             ],
             [
              0.6666666666666666,
              "#ed7953"
             ],
             [
              0.7777777777777778,
              "#fb9f3a"
             ],
             [
              0.8888888888888888,
              "#fdca26"
             ],
             [
              1,
              "#f0f921"
             ]
            ],
            "type": "contour"
           }
          ],
          "contourcarpet": [
           {
            "colorbar": {
             "outlinewidth": 0,
             "ticks": ""
            },
            "type": "contourcarpet"
           }
          ],
          "heatmap": [
           {
            "colorbar": {
             "outlinewidth": 0,
             "ticks": ""
            },
            "colorscale": [
             [
              0,
              "#0d0887"
             ],
             [
              0.1111111111111111,
              "#46039f"
             ],
             [
              0.2222222222222222,
              "#7201a8"
             ],
             [
              0.3333333333333333,
              "#9c179e"
             ],
             [
              0.4444444444444444,
              "#bd3786"
             ],
             [
              0.5555555555555556,
              "#d8576b"
             ],
             [
              0.6666666666666666,
              "#ed7953"
             ],
             [
              0.7777777777777778,
              "#fb9f3a"
             ],
             [
              0.8888888888888888,
              "#fdca26"
             ],
             [
              1,
              "#f0f921"
             ]
            ],
            "type": "heatmap"
           }
          ],
          "heatmapgl": [
           {
            "colorbar": {
             "outlinewidth": 0,
             "ticks": ""
            },
            "colorscale": [
             [
              0,
              "#0d0887"
             ],
             [
              0.1111111111111111,
              "#46039f"
             ],
             [
              0.2222222222222222,
              "#7201a8"
             ],
             [
              0.3333333333333333,
              "#9c179e"
             ],
             [
              0.4444444444444444,
              "#bd3786"
             ],
             [
              0.5555555555555556,
              "#d8576b"
             ],
             [
              0.6666666666666666,
              "#ed7953"
             ],
             [
              0.7777777777777778,
              "#fb9f3a"
             ],
             [
              0.8888888888888888,
              "#fdca26"
             ],
             [
              1,
              "#f0f921"
             ]
            ],
            "type": "heatmapgl"
           }
          ],
          "histogram": [
           {
            "marker": {
             "pattern": {
              "fillmode": "overlay",
              "size": 10,
              "solidity": 0.2
             }
            },
            "type": "histogram"
           }
          ],
          "histogram2d": [
           {
            "colorbar": {
             "outlinewidth": 0,
             "ticks": ""
            },
            "colorscale": [
             [
              0,
              "#0d0887"
             ],
             [
              0.1111111111111111,
              "#46039f"
             ],
             [
              0.2222222222222222,
              "#7201a8"
             ],
             [
              0.3333333333333333,
              "#9c179e"
             ],
             [
              0.4444444444444444,
              "#bd3786"
             ],
             [
              0.5555555555555556,
              "#d8576b"
             ],
             [
              0.6666666666666666,
              "#ed7953"
             ],
             [
              0.7777777777777778,
              "#fb9f3a"
             ],
             [
              0.8888888888888888,
              "#fdca26"
             ],
             [
              1,
              "#f0f921"
             ]
            ],
            "type": "histogram2d"
           }
          ],
          "histogram2dcontour": [
           {
            "colorbar": {
             "outlinewidth": 0,
             "ticks": ""
            },
            "colorscale": [
             [
              0,
              "#0d0887"
             ],
             [
              0.1111111111111111,
              "#46039f"
             ],
             [
              0.2222222222222222,
              "#7201a8"
             ],
             [
              0.3333333333333333,
              "#9c179e"
             ],
             [
              0.4444444444444444,
              "#bd3786"
             ],
             [
              0.5555555555555556,
              "#d8576b"
             ],
             [
              0.6666666666666666,
              "#ed7953"
             ],
             [
              0.7777777777777778,
              "#fb9f3a"
             ],
             [
              0.8888888888888888,
              "#fdca26"
             ],
             [
              1,
              "#f0f921"
             ]
            ],
            "type": "histogram2dcontour"
           }
          ],
          "mesh3d": [
           {
            "colorbar": {
             "outlinewidth": 0,
             "ticks": ""
            },
            "type": "mesh3d"
           }
          ],
          "parcoords": [
           {
            "line": {
             "colorbar": {
              "outlinewidth": 0,
              "ticks": ""
             }
            },
            "type": "parcoords"
           }
          ],
          "pie": [
           {
            "automargin": true,
            "type": "pie"
           }
          ],
          "scatter": [
           {
            "fillpattern": {
             "fillmode": "overlay",
             "size": 10,
             "solidity": 0.2
            },
            "type": "scatter"
           }
          ],
          "scatter3d": [
           {
            "line": {
             "colorbar": {
              "outlinewidth": 0,
              "ticks": ""
             }
            },
            "marker": {
             "colorbar": {
              "outlinewidth": 0,
              "ticks": ""
             }
            },
            "type": "scatter3d"
           }
          ],
          "scattercarpet": [
           {
            "marker": {
             "colorbar": {
              "outlinewidth": 0,
              "ticks": ""
             }
            },
            "type": "scattercarpet"
           }
          ],
          "scattergeo": [
           {
            "marker": {
             "colorbar": {
              "outlinewidth": 0,
              "ticks": ""
             }
            },
            "type": "scattergeo"
           }
          ],
          "scattergl": [
           {
            "marker": {
             "colorbar": {
              "outlinewidth": 0,
              "ticks": ""
             }
            },
            "type": "scattergl"
           }
          ],
          "scattermapbox": [
           {
            "marker": {
             "colorbar": {
              "outlinewidth": 0,
              "ticks": ""
             }
            },
            "type": "scattermapbox"
           }
          ],
          "scatterpolar": [
           {
            "marker": {
             "colorbar": {
              "outlinewidth": 0,
              "ticks": ""
             }
            },
            "type": "scatterpolar"
           }
          ],
          "scatterpolargl": [
           {
            "marker": {
             "colorbar": {
              "outlinewidth": 0,
              "ticks": ""
             }
            },
            "type": "scatterpolargl"
           }
          ],
          "scatterternary": [
           {
            "marker": {
             "colorbar": {
              "outlinewidth": 0,
              "ticks": ""
             }
            },
            "type": "scatterternary"
           }
          ],
          "surface": [
           {
            "colorbar": {
             "outlinewidth": 0,
             "ticks": ""
            },
            "colorscale": [
             [
              0,
              "#0d0887"
             ],
             [
              0.1111111111111111,
              "#46039f"
             ],
             [
              0.2222222222222222,
              "#7201a8"
             ],
             [
              0.3333333333333333,
              "#9c179e"
             ],
             [
              0.4444444444444444,
              "#bd3786"
             ],
             [
              0.5555555555555556,
              "#d8576b"
             ],
             [
              0.6666666666666666,
              "#ed7953"
             ],
             [
              0.7777777777777778,
              "#fb9f3a"
             ],
             [
              0.8888888888888888,
              "#fdca26"
             ],
             [
              1,
              "#f0f921"
             ]
            ],
            "type": "surface"
           }
          ],
          "table": [
           {
            "cells": {
             "fill": {
              "color": "#EBF0F8"
             },
             "line": {
              "color": "white"
             }
            },
            "header": {
             "fill": {
              "color": "#C8D4E3"
             },
             "line": {
              "color": "white"
             }
            },
            "type": "table"
           }
          ]
         },
         "layout": {
          "annotationdefaults": {
           "arrowcolor": "#2a3f5f",
           "arrowhead": 0,
           "arrowwidth": 1
          },
          "autotypenumbers": "strict",
          "coloraxis": {
           "colorbar": {
            "outlinewidth": 0,
            "ticks": ""
           }
          },
          "colorscale": {
           "diverging": [
            [
             0,
             "#8e0152"
            ],
            [
             0.1,
             "#c51b7d"
            ],
            [
             0.2,
             "#de77ae"
            ],
            [
             0.3,
             "#f1b6da"
            ],
            [
             0.4,
             "#fde0ef"
            ],
            [
             0.5,
             "#f7f7f7"
            ],
            [
             0.6,
             "#e6f5d0"
            ],
            [
             0.7,
             "#b8e186"
            ],
            [
             0.8,
             "#7fbc41"
            ],
            [
             0.9,
             "#4d9221"
            ],
            [
             1,
             "#276419"
            ]
           ],
           "sequential": [
            [
             0,
             "#0d0887"
            ],
            [
             0.1111111111111111,
             "#46039f"
            ],
            [
             0.2222222222222222,
             "#7201a8"
            ],
            [
             0.3333333333333333,
             "#9c179e"
            ],
            [
             0.4444444444444444,
             "#bd3786"
            ],
            [
             0.5555555555555556,
             "#d8576b"
            ],
            [
             0.6666666666666666,
             "#ed7953"
            ],
            [
             0.7777777777777778,
             "#fb9f3a"
            ],
            [
             0.8888888888888888,
             "#fdca26"
            ],
            [
             1,
             "#f0f921"
            ]
           ],
           "sequentialminus": [
            [
             0,
             "#0d0887"
            ],
            [
             0.1111111111111111,
             "#46039f"
            ],
            [
             0.2222222222222222,
             "#7201a8"
            ],
            [
             0.3333333333333333,
             "#9c179e"
            ],
            [
             0.4444444444444444,
             "#bd3786"
            ],
            [
             0.5555555555555556,
             "#d8576b"
            ],
            [
             0.6666666666666666,
             "#ed7953"
            ],
            [
             0.7777777777777778,
             "#fb9f3a"
            ],
            [
             0.8888888888888888,
             "#fdca26"
            ],
            [
             1,
             "#f0f921"
            ]
           ]
          },
          "colorway": [
           "#636efa",
           "#EF553B",
           "#00cc96",
           "#ab63fa",
           "#FFA15A",
           "#19d3f3",
           "#FF6692",
           "#B6E880",
           "#FF97FF",
           "#FECB52"
          ],
          "font": {
           "color": "#2a3f5f"
          },
          "geo": {
           "bgcolor": "white",
           "lakecolor": "white",
           "landcolor": "#E5ECF6",
           "showlakes": true,
           "showland": true,
           "subunitcolor": "white"
          },
          "hoverlabel": {
           "align": "left"
          },
          "hovermode": "closest",
          "mapbox": {
           "style": "light"
          },
          "paper_bgcolor": "white",
          "plot_bgcolor": "#E5ECF6",
          "polar": {
           "angularaxis": {
            "gridcolor": "white",
            "linecolor": "white",
            "ticks": ""
           },
           "bgcolor": "#E5ECF6",
           "radialaxis": {
            "gridcolor": "white",
            "linecolor": "white",
            "ticks": ""
           }
          },
          "scene": {
           "xaxis": {
            "backgroundcolor": "#E5ECF6",
            "gridcolor": "white",
            "gridwidth": 2,
            "linecolor": "white",
            "showbackground": true,
            "ticks": "",
            "zerolinecolor": "white"
           },
           "yaxis": {
            "backgroundcolor": "#E5ECF6",
            "gridcolor": "white",
            "gridwidth": 2,
            "linecolor": "white",
            "showbackground": true,
            "ticks": "",
            "zerolinecolor": "white"
           },
           "zaxis": {
            "backgroundcolor": "#E5ECF6",
            "gridcolor": "white",
            "gridwidth": 2,
            "linecolor": "white",
            "showbackground": true,
            "ticks": "",
            "zerolinecolor": "white"
           }
          },
          "shapedefaults": {
           "line": {
            "color": "#2a3f5f"
           }
          },
          "ternary": {
           "aaxis": {
            "gridcolor": "white",
            "linecolor": "white",
            "ticks": ""
           },
           "baxis": {
            "gridcolor": "white",
            "linecolor": "white",
            "ticks": ""
           },
           "bgcolor": "#E5ECF6",
           "caxis": {
            "gridcolor": "white",
            "linecolor": "white",
            "ticks": ""
           }
          },
          "title": {
           "x": 0.05
          },
          "xaxis": {
           "automargin": true,
           "gridcolor": "white",
           "linecolor": "white",
           "ticks": "",
           "title": {
            "standoff": 15
           },
           "zerolinecolor": "white",
           "zerolinewidth": 2
          },
          "yaxis": {
           "automargin": true,
           "gridcolor": "white",
           "linecolor": "white",
           "ticks": "",
           "title": {
            "standoff": 15
           },
           "zerolinecolor": "white",
           "zerolinewidth": 2
          }
         }
        },
        "title": {
         "text": "balETH Proposed vs Actual Rebalances"
        },
        "width": 1800,
        "xaxis": {
         "title": {
          "text": "Date"
         }
        },
        "yaxis": {
         "title": {
          "text": "Rebalances"
         }
        }
       }
      }
     },
     "metadata": {},
     "output_type": "display_data"
    }
   ],
   "source": [
    "def make_proposed_vs_actual_rebalance_scatter_plot(\n",
    "    balETH_solver_df: pd.DataFrame, rebalance_event_df: pd.DataFrame\n",
    ") -> go.Figure:\n",
    "    moves_df = pd.concat([balETH_solver_df[\"moveName\"], rebalance_event_df[\"moveName\"]], axis=1)\n",
    "    moves_df.columns = [\"proposed_rebalances\", \"actual_rebalances\"]\n",
    "    proposed_rebalances_fig = go.Scatter(\n",
    "        x=moves_df.index,\n",
    "        y=moves_df[\"proposed_rebalances\"],\n",
    "        mode=\"markers\",\n",
    "        name=\"Proposed Rebalances\",\n",
    "        marker=dict(color=\"blue\", size=10),\n",
    "    )\n",
    "\n",
    "    # Create the plot with actual rebalances with red 'x' markers\n",
    "    actual_rebalances_fig = go.Scatter(\n",
    "        x=moves_df.index,\n",
    "        y=moves_df[\"actual_rebalances\"],\n",
    "        mode=\"markers\",\n",
    "        name=\"Actual Rebalances\",\n",
    "        marker=dict(symbol=\"x\", color=\"red\", size=12),\n",
    "    )\n",
    "\n",
    "    # Combine both plots into one figure\n",
    "    proposed_vs_actual_rebalance_scatter_plot_fig = go.Figure(data=[proposed_rebalances_fig, actual_rebalances_fig])\n",
    "\n",
    "    # Update layout\n",
    "    proposed_vs_actual_rebalance_scatter_plot_fig.update_layout(\n",
    "        yaxis_title=\"Rebalances\",\n",
    "        xaxis_title=\"Date\",\n",
    "        title=\"balETH Proposed vs Actual Rebalances\",\n",
    "        height=600,\n",
    "        width=600 * 3,\n",
    "    )\n",
    "    return proposed_vs_actual_rebalance_scatter_plot_fig\n",
    "\n",
    "\n",
    "proposed_vs_actual_rebalance_scatter_plot_fig = make_proposed_vs_actual_rebalance_scatter_plot(\n",
    "    balETH_solver_df, rebalance_event_df\n",
    ")\n",
    "proposed_vs_actual_rebalance_scatter_plot_fig"
   ]
  }
 ],
 "metadata": {
  "kernelspec": {
   "display_name": "v2-rebalance-dashboard-Tgz_6KTZ-py3.12",
   "language": "python",
   "name": "python3"
  },
  "language_info": {
   "codemirror_mode": {
    "name": "ipython",
    "version": 3
   },
   "file_extension": ".py",
   "mimetype": "text/x-python",
   "name": "python",
   "nbconvert_exporter": "python",
   "pygments_lexer": "ipython3",
   "version": "3.10.14"
  }
 },
 "nbformat": 4,
 "nbformat_minor": 2
}
