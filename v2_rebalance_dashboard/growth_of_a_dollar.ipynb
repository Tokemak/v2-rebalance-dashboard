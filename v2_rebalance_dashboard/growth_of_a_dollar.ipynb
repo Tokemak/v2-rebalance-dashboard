{
 "cells": [
  {
   "cell_type": "code",
   "execution_count": 1,
   "metadata": {},
   "outputs": [],
   "source": [
    "from multicall import Call\n",
    "import plotly.express as px\n",
    "import pandas as pd\n",
    "from v2_rebalance_dashboard.constants import (\n",
    "    ROOT_DIR,\n",
    "    eth_client,\n",
    "    BALANCER_AURA_DESTINATION_VAULT_ABI,\n",
    "    balETH_AUTOPOOL_ETH_ADDRESS,\n",
    "    ROOT_PRICE_ORACLE,\n",
    "    EXTRA_REWARD_POOL_ABI,\n",
    "    ERC_20_ABI,\n",
    "    BASE_REWARD_POOL_ABI,\n",
    "    AURA_STASH_TOKEN_ABI,\n",
    ")\n",
    "\n",
    "from v2_rebalance_dashboard.get_state_by_block import (\n",
    "    safe_normalize_with_bool_success,\n",
    "    sync_get_raw_state_by_block_one_block,\n",
    "    sync_safe_get_raw_state_by_block,\n",
    "    build_blocks_to_use,\n",
    "    safe_normalize_6_with_bool_success,\n",
    ")\n",
    "\n",
    "# BalancerAuraDestinationVault = \"0xa3956D49106288E5c04E6FBbBad5b68593f0bE3b\"\n",
    "# BaseRewardPool4626 = \"0x571a20C14a7c3Ac6d30Ee7D1925940bb0C027696\"  # this is the aura place?\n",
    "# extra_rewards = \"0xe5aABCd2D935C3F06a69b981069A92B252E81a99\"  # aura\n",
    "# stats = \"0xE6850bc48feF4F8e4433d95072177aa95cD2fd9F\"\n",
    "\n",
    "vault_df = pd.read_csv(\"vaults.csv\")\n",
    "\n",
    "AURA = \"0xC0c293ce456fF0ED870ADd98a0828Dd4d2903DBF\"\n",
    "BAL = \"0xba100000625a3754423978a60c9317c58a424e3D\"\n",
    "\n",
    "\n",
    "blocks = build_blocks_to_use()\n",
    "\n",
    "\n",
    "def get_required_addresses_for_balancer_growth_of_a_dollar(row: dict):\n",
    "    destination_vault_address = row[\"vaultAddress\"]\n",
    "\n",
    "    try:\n",
    "        BalancerAuraDestinationVault = eth_client.eth.contract(\n",
    "            eth_client.toChecksumAddress(destination_vault_address), abi=BALANCER_AURA_DESTINATION_VAULT_ABI\n",
    "        )\n",
    "        aura_incentive_stats_address = BalancerAuraDestinationVault.functions.getStats().call()\n",
    "        auraStaking_address = BalancerAuraDestinationVault.functions.auraStaking().call()\n",
    "\n",
    "        auraStaking_contract = eth_client.eth.contract(auraStaking_address, abi=BASE_REWARD_POOL_ABI)\n",
    "        num_extra_rewards = (\n",
    "            auraStaking_contract.functions.extraRewardsLength().call()\n",
    "        )  # migh miss things if rewards dip in and out (have not verified)\n",
    "\n",
    "        extra_rewarder_details = []\n",
    "\n",
    "        for i in range(num_extra_rewards):\n",
    "            extra_rewarder_address = auraStaking_contract.functions.extraRewards(i).call()\n",
    "\n",
    "            extra_reward_token_address = (\n",
    "                eth_client.eth.contract(extra_rewarder_address, abi=EXTRA_REWARD_POOL_ABI)\n",
    "                .functions.rewardToken()\n",
    "                .call()\n",
    "            )\n",
    "            extra_reward_token_symbol = (\n",
    "                eth_client.eth.contract(extra_reward_token_address, abi=ERC_20_ABI).functions.symbol().call()\n",
    "            )\n",
    "            extra_reward_token_decimals = (\n",
    "                eth_client.eth.contract(extra_reward_token_address, abi=ERC_20_ABI).functions.symbol().call()\n",
    "            )\n",
    "            if \"STASH-\" == extra_reward_token_symbol[:6]:\n",
    "                base_token_address = (\n",
    "                    eth_client.eth.contract(extra_reward_token_address, abi=AURA_STASH_TOKEN_ABI)\n",
    "                    .functions.baseToken()\n",
    "                    .call()\n",
    "                )\n",
    "                base_token_symbol = (\n",
    "                    eth_client.eth.contract(base_token_address, abi=ERC_20_ABI).functions.symbol().call()\n",
    "                )\n",
    "            else:\n",
    "                base_token_address = extra_reward_token_address\n",
    "                base_token_symbol = extra_reward_token_symbol\n",
    "\n",
    "            extra_reward_token_decimals = (\n",
    "                eth_client.eth.contract(base_token_address, abi=ERC_20_ABI).functions.decimals().call()\n",
    "            )\n",
    "\n",
    "            extra_rewarder_details.append(\n",
    "                {\n",
    "                    \"extra_reward_token_address\": extra_reward_token_address,\n",
    "                    \"extra_reward_token_symbol\": extra_reward_token_symbol,\n",
    "                    \"base_token_address\": base_token_address,\n",
    "                    \"base_token_symbol\": base_token_symbol,\n",
    "                    \"extra_rewarder_address\": extra_rewarder_address,\n",
    "                    \"extra_reward_token_decimals\": extra_reward_token_decimals,\n",
    "                    \"auraStaking_address\": auraStaking_address,\n",
    "                }\n",
    "            )\n",
    "\n",
    "        return {\n",
    "            \"destination_vault_address\": destination_vault_address,\n",
    "            \"aura_incentive_stats_address\": aura_incentive_stats_address,\n",
    "            \"auraStaking_address\": auraStaking_address,\n",
    "            \"destinationName\": row[\"name\"][22:],\n",
    "            \"extra_rewarder_details\": extra_rewarder_details,\n",
    "        }\n",
    "    except Exception as e:\n",
    "        return {\"destination_vault_address\": destination_vault_address, \"error\": str(e) + str(type(e))}\n",
    "\n",
    "\n",
    "df = pd.DataFrame.from_records(\n",
    "    vault_df.apply(get_required_addresses_for_balancer_growth_of_a_dollar, axis=1)\n",
    ")  # 30 seconds\n",
    "df"
   ]
  },
  {
   "cell_type": "code",
   "execution_count": null,
   "metadata": {},
   "outputs": [
    {
     "data": {
      "text/html": [
       "<div>\n",
       "<style scoped>\n",
       "    .dataframe tbody tr th:only-of-type {\n",
       "        vertical-align: middle;\n",
       "    }\n",
       "\n",
       "    .dataframe tbody tr th {\n",
       "        vertical-align: top;\n",
       "    }\n",
       "\n",
       "    .dataframe thead th {\n",
       "        text-align: right;\n",
       "    }\n",
       "</style>\n",
       "<table border=\"1\" class=\"dataframe\">\n",
       "  <thead>\n",
       "    <tr style=\"text-align: right;\">\n",
       "      <th></th>\n",
       "      <th>extra_reward_token_address</th>\n",
       "      <th>extra_reward_token_symbol</th>\n",
       "      <th>base_token_address</th>\n",
       "      <th>base_token_symbol</th>\n",
       "      <th>extra_rewarder_address</th>\n",
       "      <th>extra_reward_token_decimals</th>\n",
       "      <th>auraStaking_address</th>\n",
       "    </tr>\n",
       "  </thead>\n",
       "  <tbody>\n",
       "    <tr>\n",
       "      <th>0</th>\n",
       "      <td>0x00dfc9ceEFAf596A0Da2e6A1251215a28147EB5b</td>\n",
       "      <td>STASH-LDO</td>\n",
       "      <td>0x5A98FcBEA516Cf06857215779Fd812CA3beF1B32</td>\n",
       "      <td>LDO</td>\n",
       "      <td>0x562B255bE51D0B8e8CA3F16421B2aE7A430Ca358</td>\n",
       "      <td>18</td>\n",
       "      <td>0x59D66C58E83A26d6a0E35114323f65c3945c89c1</td>\n",
       "    </tr>\n",
       "    <tr>\n",
       "      <th>1</th>\n",
       "      <td>0x826749CccA0fA780caFB9a1780767e4Cdd712593</td>\n",
       "      <td>STASH-AURA</td>\n",
       "      <td>0xC0c293ce456fF0ED870ADd98a0828Dd4d2903DBF</td>\n",
       "      <td>AURA</td>\n",
       "      <td>0xc7C1Ad3765a4850C9fcF29b09b30358BF4Ecb315</td>\n",
       "      <td>18</td>\n",
       "      <td>0x59D66C58E83A26d6a0E35114323f65c3945c89c1</td>\n",
       "    </tr>\n",
       "    <tr>\n",
       "      <th>2</th>\n",
       "      <td>0xc6065734B898eEdCf450b28Ec2fC5a45a7DCdb2b</td>\n",
       "      <td>STASH-AURA</td>\n",
       "      <td>0xC0c293ce456fF0ED870ADd98a0828Dd4d2903DBF</td>\n",
       "      <td>AURA</td>\n",
       "      <td>0xf66a72886749c96b18526E8E124cC2e18b7c72D2</td>\n",
       "      <td>18</td>\n",
       "      <td>0xDd1fE5AD401D4777cE89959b7fa587e569Bf125D</td>\n",
       "    </tr>\n",
       "    <tr>\n",
       "      <th>3</th>\n",
       "      <td>0xcaB7Ee4EFae2D27add6f5EBB64cdef9d74Beba21</td>\n",
       "      <td>STASH-RPL</td>\n",
       "      <td>0xD33526068D116cE69F19A9ee46F0bd304F21A51f</td>\n",
       "      <td>RPL</td>\n",
       "      <td>0xA4Ebc2d9Cbb8C02eeF5da1dbF2a54B7Ee7576F51</td>\n",
       "      <td>18</td>\n",
       "      <td>0xDd1fE5AD401D4777cE89959b7fa587e569Bf125D</td>\n",
       "    </tr>\n",
       "    <tr>\n",
       "      <th>4</th>\n",
       "      <td>0x04e8941897b07B216b3Cc047Df5bEc1EFf48e64C</td>\n",
       "      <td>STASH-AURA</td>\n",
       "      <td>0xC0c293ce456fF0ED870ADd98a0828Dd4d2903DBF</td>\n",
       "      <td>AURA</td>\n",
       "      <td>0x48CE0d8ce2Af97f9521471caE4eb63141D710B96</td>\n",
       "      <td>18</td>\n",
       "      <td>0xf618102462Ff3cf7edbA4c067316F1C3AbdbA193</td>\n",
       "    </tr>\n",
       "    <tr>\n",
       "      <th>5</th>\n",
       "      <td>0x53ecAB28a67A6Cc28A82cE209e1CF4b5d9fd64da</td>\n",
       "      <td>STASH-AURA</td>\n",
       "      <td>0xC0c293ce456fF0ED870ADd98a0828Dd4d2903DBF</td>\n",
       "      <td>AURA</td>\n",
       "      <td>0x62e6D8dAe7089C8F2f2a5C328c710aa1788742fb</td>\n",
       "      <td>18</td>\n",
       "      <td>0x5F032f15B4e910252EDaDdB899f7201E89C8cD6b</td>\n",
       "    </tr>\n",
       "    <tr>\n",
       "      <th>6</th>\n",
       "      <td>0xD3FDfF157A9f2f9E802137f918b2E627f5EA6502</td>\n",
       "      <td>STASH-SWISE</td>\n",
       "      <td>0x48C3399719B582dD63eB5AADf12A40B4C3f52FA2</td>\n",
       "      <td>SWISE</td>\n",
       "      <td>0xC5E75ccd4d40e2Fb280f008f8AFB5EF3415EFA72</td>\n",
       "      <td>18</td>\n",
       "      <td>0x5F032f15B4e910252EDaDdB899f7201E89C8cD6b</td>\n",
       "    </tr>\n",
       "    <tr>\n",
       "      <th>7</th>\n",
       "      <td>0xBA45e6500c49570C3C3e3a83C000e47ae1D4C095</td>\n",
       "      <td>STASH-AURA</td>\n",
       "      <td>0xC0c293ce456fF0ED870ADd98a0828Dd4d2903DBF</td>\n",
       "      <td>AURA</td>\n",
       "      <td>0x8aB6f2574569Bac61B213e7996a88590a1BeAc56</td>\n",
       "      <td>18</td>\n",
       "      <td>0x2a14dB8D09dB0542f6A371c0cB308A768227D67D</td>\n",
       "    </tr>\n",
       "    <tr>\n",
       "      <th>8</th>\n",
       "      <td>0x6A881df81d2214D4c62225cd1aA2d86E89B6313f</td>\n",
       "      <td>STASH-AURA</td>\n",
       "      <td>0xC0c293ce456fF0ED870ADd98a0828Dd4d2903DBF</td>\n",
       "      <td>AURA</td>\n",
       "      <td>0xe5aABCd2D935C3F06a69b981069A92B252E81a99</td>\n",
       "      <td>18</td>\n",
       "      <td>0x571a20C14a7c3Ac6d30Ee7D1925940bb0C027696</td>\n",
       "    </tr>\n",
       "    <tr>\n",
       "      <th>9</th>\n",
       "      <td>0x87B3E6390C326f3249cd3F5474F2ABBACa5f8691</td>\n",
       "      <td>STASH-AURA</td>\n",
       "      <td>0xC0c293ce456fF0ED870ADd98a0828Dd4d2903DBF</td>\n",
       "      <td>AURA</td>\n",
       "      <td>0x656C4A7C3C0F06e3F2aA72fF0e81550713D25EE0</td>\n",
       "      <td>18</td>\n",
       "      <td>0xf8f18dc9E192A9Bf9347DA0E2107d05D5B67F38e</td>\n",
       "    </tr>\n",
       "    <tr>\n",
       "      <th>10</th>\n",
       "      <td>0xDD1D8693e82208441B7d8E196A941274b6472F4a</td>\n",
       "      <td>STASH-AURA</td>\n",
       "      <td>0xC0c293ce456fF0ED870ADd98a0828Dd4d2903DBF</td>\n",
       "      <td>AURA</td>\n",
       "      <td>0x25d22C5191C67D63AAB70a37FAe06e1c1E1a830F</td>\n",
       "      <td>18</td>\n",
       "      <td>0x07A319A023859BbD49CC9C38ee891c3EA9283Cc5</td>\n",
       "    </tr>\n",
       "    <tr>\n",
       "      <th>11</th>\n",
       "      <td>0x72ECf9C97593900FA53bd28b149875090df94C0B</td>\n",
       "      <td>STASH-AURA</td>\n",
       "      <td>0xC0c293ce456fF0ED870ADd98a0828Dd4d2903DBF</td>\n",
       "      <td>AURA</td>\n",
       "      <td>0x9674Ecb2BfdB600e264C5010B52974083d35139E</td>\n",
       "      <td>18</td>\n",
       "      <td>0x95eC73Baa0eCF8159b4EE897D973E41f51978E50</td>\n",
       "    </tr>\n",
       "    <tr>\n",
       "      <th>12</th>\n",
       "      <td>0x53dCbeE5Fe32CDBCf4cf34E9a2fF2abbDB6A8156</td>\n",
       "      <td>STASH-AURA</td>\n",
       "      <td>0xC0c293ce456fF0ED870ADd98a0828Dd4d2903DBF</td>\n",
       "      <td>AURA</td>\n",
       "      <td>0x607858e1c3C4a9E462556A7CC752bB2192A42391</td>\n",
       "      <td>18</td>\n",
       "      <td>0xce98eb8b2Fb98049b3F2dB0A212Ba7ca3Efd63b0</td>\n",
       "    </tr>\n",
       "    <tr>\n",
       "      <th>13</th>\n",
       "      <td>0x1262f66fA31c941b1541247f80A4a768759b77Cf</td>\n",
       "      <td>STASH-AURA</td>\n",
       "      <td>0xC0c293ce456fF0ED870ADd98a0828Dd4d2903DBF</td>\n",
       "      <td>AURA</td>\n",
       "      <td>0x323c41cAa96eD4e8eF8c93F39D74B41a60D49Fa0</td>\n",
       "      <td>18</td>\n",
       "      <td>0x35113146E7f2dF77Fb40606774e0a3F402035Ffb</td>\n",
       "    </tr>\n",
       "    <tr>\n",
       "      <th>14</th>\n",
       "      <td>0x820b212aeDAFF0A954cad089E27F95691FEa9c89</td>\n",
       "      <td>STASH-AURA</td>\n",
       "      <td>0xC0c293ce456fF0ED870ADd98a0828Dd4d2903DBF</td>\n",
       "      <td>AURA</td>\n",
       "      <td>0x223d4949D078d522ccA2CeA5F224548DDD65086E</td>\n",
       "      <td>18</td>\n",
       "      <td>0xC2E2D76a5e02eA65Ecd3be6c9cd3Fa29022f4548</td>\n",
       "    </tr>\n",
       "    <tr>\n",
       "      <th>15</th>\n",
       "      <td>0xfDa5FD65B54B2925b122C1A30Bf44c676cA8cF65</td>\n",
       "      <td>STASH-AURA</td>\n",
       "      <td>0xC0c293ce456fF0ED870ADd98a0828Dd4d2903DBF</td>\n",
       "      <td>AURA</td>\n",
       "      <td>0x37602cA3a3d86054F1Eb94483b25c23B6deEa88c</td>\n",
       "      <td>18</td>\n",
       "      <td>0xB5FdB4f75C26798A62302ee4959E4281667557E0</td>\n",
       "    </tr>\n",
       "    <tr>\n",
       "      <th>16</th>\n",
       "      <td>0xE522EA19096Ca707F83f659AAeae97b3Fd367cC9</td>\n",
       "      <td>STASH-USDC</td>\n",
       "      <td>0xA0b86991c6218b36c1d19D4a2e9Eb0cE3606eB48</td>\n",
       "      <td>USDC</td>\n",
       "      <td>0x7Adb7DF8f5169245aDF0fF9e499DdFB8e2814d64</td>\n",
       "      <td>6</td>\n",
       "      <td>0xB5FdB4f75C26798A62302ee4959E4281667557E0</td>\n",
       "    </tr>\n",
       "    <tr>\n",
       "      <th>17</th>\n",
       "      <td>0x98fE3DCdEC9Ac144cB1a2530baD942E8336c5eE3</td>\n",
       "      <td>STASH-USDT</td>\n",
       "      <td>0xdAC17F958D2ee523a2206206994597C13D831ec7</td>\n",
       "      <td>USDT</td>\n",
       "      <td>0xd1735eDaCBcb16E44a1c9e0Bb8e134f2Fd7e9e27</td>\n",
       "      <td>6</td>\n",
       "      <td>0xB5FdB4f75C26798A62302ee4959E4281667557E0</td>\n",
       "    </tr>\n",
       "  </tbody>\n",
       "</table>\n",
       "</div>"
      ],
      "text/plain": [
       "                    extra_reward_token_address extra_reward_token_symbol  \\\n",
       "0   0x00dfc9ceEFAf596A0Da2e6A1251215a28147EB5b                 STASH-LDO   \n",
       "1   0x826749CccA0fA780caFB9a1780767e4Cdd712593                STASH-AURA   \n",
       "2   0xc6065734B898eEdCf450b28Ec2fC5a45a7DCdb2b                STASH-AURA   \n",
       "3   0xcaB7Ee4EFae2D27add6f5EBB64cdef9d74Beba21                 STASH-RPL   \n",
       "4   0x04e8941897b07B216b3Cc047Df5bEc1EFf48e64C                STASH-AURA   \n",
       "5   0x53ecAB28a67A6Cc28A82cE209e1CF4b5d9fd64da                STASH-AURA   \n",
       "6   0xD3FDfF157A9f2f9E802137f918b2E627f5EA6502               STASH-SWISE   \n",
       "7   0xBA45e6500c49570C3C3e3a83C000e47ae1D4C095                STASH-AURA   \n",
       "8   0x6A881df81d2214D4c62225cd1aA2d86E89B6313f                STASH-AURA   \n",
       "9   0x87B3E6390C326f3249cd3F5474F2ABBACa5f8691                STASH-AURA   \n",
       "10  0xDD1D8693e82208441B7d8E196A941274b6472F4a                STASH-AURA   \n",
       "11  0x72ECf9C97593900FA53bd28b149875090df94C0B                STASH-AURA   \n",
       "12  0x53dCbeE5Fe32CDBCf4cf34E9a2fF2abbDB6A8156                STASH-AURA   \n",
       "13  0x1262f66fA31c941b1541247f80A4a768759b77Cf                STASH-AURA   \n",
       "14  0x820b212aeDAFF0A954cad089E27F95691FEa9c89                STASH-AURA   \n",
       "15  0xfDa5FD65B54B2925b122C1A30Bf44c676cA8cF65                STASH-AURA   \n",
       "16  0xE522EA19096Ca707F83f659AAeae97b3Fd367cC9                STASH-USDC   \n",
       "17  0x98fE3DCdEC9Ac144cB1a2530baD942E8336c5eE3                STASH-USDT   \n",
       "\n",
       "                            base_token_address base_token_symbol  \\\n",
       "0   0x5A98FcBEA516Cf06857215779Fd812CA3beF1B32               LDO   \n",
       "1   0xC0c293ce456fF0ED870ADd98a0828Dd4d2903DBF              AURA   \n",
       "2   0xC0c293ce456fF0ED870ADd98a0828Dd4d2903DBF              AURA   \n",
       "3   0xD33526068D116cE69F19A9ee46F0bd304F21A51f               RPL   \n",
       "4   0xC0c293ce456fF0ED870ADd98a0828Dd4d2903DBF              AURA   \n",
       "5   0xC0c293ce456fF0ED870ADd98a0828Dd4d2903DBF              AURA   \n",
       "6   0x48C3399719B582dD63eB5AADf12A40B4C3f52FA2             SWISE   \n",
       "7   0xC0c293ce456fF0ED870ADd98a0828Dd4d2903DBF              AURA   \n",
       "8   0xC0c293ce456fF0ED870ADd98a0828Dd4d2903DBF              AURA   \n",
       "9   0xC0c293ce456fF0ED870ADd98a0828Dd4d2903DBF              AURA   \n",
       "10  0xC0c293ce456fF0ED870ADd98a0828Dd4d2903DBF              AURA   \n",
       "11  0xC0c293ce456fF0ED870ADd98a0828Dd4d2903DBF              AURA   \n",
       "12  0xC0c293ce456fF0ED870ADd98a0828Dd4d2903DBF              AURA   \n",
       "13  0xC0c293ce456fF0ED870ADd98a0828Dd4d2903DBF              AURA   \n",
       "14  0xC0c293ce456fF0ED870ADd98a0828Dd4d2903DBF              AURA   \n",
       "15  0xC0c293ce456fF0ED870ADd98a0828Dd4d2903DBF              AURA   \n",
       "16  0xA0b86991c6218b36c1d19D4a2e9Eb0cE3606eB48              USDC   \n",
       "17  0xdAC17F958D2ee523a2206206994597C13D831ec7              USDT   \n",
       "\n",
       "                        extra_rewarder_address  extra_reward_token_decimals  \\\n",
       "0   0x562B255bE51D0B8e8CA3F16421B2aE7A430Ca358                           18   \n",
       "1   0xc7C1Ad3765a4850C9fcF29b09b30358BF4Ecb315                           18   \n",
       "2   0xf66a72886749c96b18526E8E124cC2e18b7c72D2                           18   \n",
       "3   0xA4Ebc2d9Cbb8C02eeF5da1dbF2a54B7Ee7576F51                           18   \n",
       "4   0x48CE0d8ce2Af97f9521471caE4eb63141D710B96                           18   \n",
       "5   0x62e6D8dAe7089C8F2f2a5C328c710aa1788742fb                           18   \n",
       "6   0xC5E75ccd4d40e2Fb280f008f8AFB5EF3415EFA72                           18   \n",
       "7   0x8aB6f2574569Bac61B213e7996a88590a1BeAc56                           18   \n",
       "8   0xe5aABCd2D935C3F06a69b981069A92B252E81a99                           18   \n",
       "9   0x656C4A7C3C0F06e3F2aA72fF0e81550713D25EE0                           18   \n",
       "10  0x25d22C5191C67D63AAB70a37FAe06e1c1E1a830F                           18   \n",
       "11  0x9674Ecb2BfdB600e264C5010B52974083d35139E                           18   \n",
       "12  0x607858e1c3C4a9E462556A7CC752bB2192A42391                           18   \n",
       "13  0x323c41cAa96eD4e8eF8c93F39D74B41a60D49Fa0                           18   \n",
       "14  0x223d4949D078d522ccA2CeA5F224548DDD65086E                           18   \n",
       "15  0x37602cA3a3d86054F1Eb94483b25c23B6deEa88c                           18   \n",
       "16  0x7Adb7DF8f5169245aDF0fF9e499DdFB8e2814d64                            6   \n",
       "17  0xd1735eDaCBcb16E44a1c9e0Bb8e134f2Fd7e9e27                            6   \n",
       "\n",
       "                           auraStaking_address  \n",
       "0   0x59D66C58E83A26d6a0E35114323f65c3945c89c1  \n",
       "1   0x59D66C58E83A26d6a0E35114323f65c3945c89c1  \n",
       "2   0xDd1fE5AD401D4777cE89959b7fa587e569Bf125D  \n",
       "3   0xDd1fE5AD401D4777cE89959b7fa587e569Bf125D  \n",
       "4   0xf618102462Ff3cf7edbA4c067316F1C3AbdbA193  \n",
       "5   0x5F032f15B4e910252EDaDdB899f7201E89C8cD6b  \n",
       "6   0x5F032f15B4e910252EDaDdB899f7201E89C8cD6b  \n",
       "7   0x2a14dB8D09dB0542f6A371c0cB308A768227D67D  \n",
       "8   0x571a20C14a7c3Ac6d30Ee7D1925940bb0C027696  \n",
       "9   0xf8f18dc9E192A9Bf9347DA0E2107d05D5B67F38e  \n",
       "10  0x07A319A023859BbD49CC9C38ee891c3EA9283Cc5  \n",
       "11  0x95eC73Baa0eCF8159b4EE897D973E41f51978E50  \n",
       "12  0xce98eb8b2Fb98049b3F2dB0A212Ba7ca3Efd63b0  \n",
       "13  0x35113146E7f2dF77Fb40606774e0a3F402035Ffb  \n",
       "14  0xC2E2D76a5e02eA65Ecd3be6c9cd3Fa29022f4548  \n",
       "15  0xB5FdB4f75C26798A62302ee4959E4281667557E0  \n",
       "16  0xB5FdB4f75C26798A62302ee4959E4281667557E0  \n",
       "17  0xB5FdB4f75C26798A62302ee4959E4281667557E0  "
      ]
     },
     "execution_count": 2,
     "metadata": {},
     "output_type": "execute_result"
    }
   ],
   "source": [
    "bal_rewarders_df = df[df[\"error\"].isna()].copy()\n",
    "extra_rewarder_details = []\n",
    "\n",
    "for detail_list in bal_rewarders_df[\"extra_rewarder_details\"].values:\n",
    "    for d in detail_list:\n",
    "        extra_rewarder_details.append(d)\n",
    "extra_rewader_df = pd.DataFrame.from_records(extra_rewarder_details)\n",
    "extra_rewader_df"
   ]
  },
  {
   "cell_type": "code",
   "execution_count": null,
   "metadata": {},
   "outputs": [
    {
     "data": {
      "text/html": [
       "<div>\n",
       "<style scoped>\n",
       "    .dataframe tbody tr th:only-of-type {\n",
       "        vertical-align: middle;\n",
       "    }\n",
       "\n",
       "    .dataframe tbody tr th {\n",
       "        vertical-align: top;\n",
       "    }\n",
       "\n",
       "    .dataframe thead th {\n",
       "        text-align: right;\n",
       "    }\n",
       "</style>\n",
       "<table border=\"1\" class=\"dataframe\">\n",
       "  <thead>\n",
       "    <tr style=\"text-align: right;\">\n",
       "      <th></th>\n",
       "      <th>destination_vault_address</th>\n",
       "      <th>error</th>\n",
       "      <th>aura_incentive_stats_address</th>\n",
       "      <th>auraStaking_address</th>\n",
       "      <th>destinationName</th>\n",
       "      <th>extra_rewarder_details</th>\n",
       "      <th>extraRewardTokens</th>\n",
       "      <th>extraRewardersRewardTokenSymbol</th>\n",
       "      <th>extraRewardersRewardTokenDecimals</th>\n",
       "      <th>extraRewarders</th>\n",
       "    </tr>\n",
       "  </thead>\n",
       "  <tbody>\n",
       "    <tr>\n",
       "      <th>5</th>\n",
       "      <td>0x38e73E98d2038FafdC847F13dd9100732383B6F2</td>\n",
       "      <td>NaN</td>\n",
       "      <td>0x93DeeF8ef1922ff3C30abf6EbA85Dc62ADC378db</td>\n",
       "      <td>0x59D66C58E83A26d6a0E35114323f65c3945c89c1</td>\n",
       "      <td>Balancer stETH Stable Pool</td>\n",
       "      <td>[{'extra_reward_token_address': '0x00dfc9ceEFA...</td>\n",
       "      <td>[0x5A98FcBEA516Cf06857215779Fd812CA3beF1B32, 0...</td>\n",
       "      <td>[LDO, AURA]</td>\n",
       "      <td>[18, 18]</td>\n",
       "      <td>[0x562B255bE51D0B8e8CA3F16421B2aE7A430Ca358, 0...</td>\n",
       "    </tr>\n",
       "    <tr>\n",
       "      <th>6</th>\n",
       "      <td>0xfb1f48a461cCC70081226d8353e45CfBd410dD8F</td>\n",
       "      <td>NaN</td>\n",
       "      <td>0x551050d2dB5043b70598B148e83c9ca16fa21B10</td>\n",
       "      <td>0xDd1fE5AD401D4777cE89959b7fa587e569Bf125D</td>\n",
       "      <td>Balancer rETH Stable Pool</td>\n",
       "      <td>[{'extra_reward_token_address': '0xc6065734B89...</td>\n",
       "      <td>[0xC0c293ce456fF0ED870ADd98a0828Dd4d2903DBF, 0...</td>\n",
       "      <td>[AURA, RPL]</td>\n",
       "      <td>[18, 18]</td>\n",
       "      <td>[0xf66a72886749c96b18526E8E124cC2e18b7c72D2, 0...</td>\n",
       "    </tr>\n",
       "    <tr>\n",
       "      <th>11</th>\n",
       "      <td>0x37e565f997c2b16d2542E906672E9c6281e77954</td>\n",
       "      <td>NaN</td>\n",
       "      <td>0x085a6456861b7E8B767f6262f0195515e671194F</td>\n",
       "      <td>0xf618102462Ff3cf7edbA4c067316F1C3AbdbA193</td>\n",
       "      <td>Balancer rsETH / ETHx</td>\n",
       "      <td>[{'extra_reward_token_address': '0x04e8941897b...</td>\n",
       "      <td>[0xC0c293ce456fF0ED870ADd98a0828Dd4d2903DBF]</td>\n",
       "      <td>[AURA]</td>\n",
       "      <td>[18]</td>\n",
       "      <td>[0x48CE0d8ce2Af97f9521471caE4eb63141D710B96]</td>\n",
       "    </tr>\n",
       "    <tr>\n",
       "      <th>13</th>\n",
       "      <td>0xA6B62bFdc664Af24DDdfF335A167b867f1d590aF</td>\n",
       "      <td>NaN</td>\n",
       "      <td>0x6733d6Ca76e5238025b743D4922986B90DFb35CA</td>\n",
       "      <td>0x5F032f15B4e910252EDaDdB899f7201E89C8cD6b</td>\n",
       "      <td>Balancer osETH/wETH StablePool</td>\n",
       "      <td>[{'extra_reward_token_address': '0x53ecAB28a67...</td>\n",
       "      <td>[0xC0c293ce456fF0ED870ADd98a0828Dd4d2903DBF, 0...</td>\n",
       "      <td>[AURA, SWISE]</td>\n",
       "      <td>[18, 18]</td>\n",
       "      <td>[0x62e6D8dAe7089C8F2f2a5C328c710aa1788742fb, 0...</td>\n",
       "    </tr>\n",
       "    <tr>\n",
       "      <th>14</th>\n",
       "      <td>0xF35fbb601e7de870029691f1872D67A8fC866B15</td>\n",
       "      <td>NaN</td>\n",
       "      <td>0x449569489BB8e793EC6838Af97F3ca5C9eC6Bd62</td>\n",
       "      <td>0x2a14dB8D09dB0542f6A371c0cB308A768227D67D</td>\n",
       "      <td>Balancer wstETH-WETH Stable Pool</td>\n",
       "      <td>[{'extra_reward_token_address': '0xBA45e6500c4...</td>\n",
       "      <td>[0xC0c293ce456fF0ED870ADd98a0828Dd4d2903DBF]</td>\n",
       "      <td>[AURA]</td>\n",
       "      <td>[18]</td>\n",
       "      <td>[0x8aB6f2574569Bac61B213e7996a88590a1BeAc56]</td>\n",
       "    </tr>\n",
       "    <tr>\n",
       "      <th>15</th>\n",
       "      <td>0xa3956D49106288E5c04E6FBbBad5b68593f0bE3b</td>\n",
       "      <td>NaN</td>\n",
       "      <td>0xE6850bc48feF4F8e4433d95072177aa95cD2fd9F</td>\n",
       "      <td>0x571a20C14a7c3Ac6d30Ee7D1925940bb0C027696</td>\n",
       "      <td>Balancer ETHx/wstETH</td>\n",
       "      <td>[{'extra_reward_token_address': '0x6A881df81d2...</td>\n",
       "      <td>[0xC0c293ce456fF0ED870ADd98a0828Dd4d2903DBF]</td>\n",
       "      <td>[AURA]</td>\n",
       "      <td>[18]</td>\n",
       "      <td>[0xe5aABCd2D935C3F06a69b981069A92B252E81a99]</td>\n",
       "    </tr>\n",
       "    <tr>\n",
       "      <th>16</th>\n",
       "      <td>0xE9D758002676EecCfAc6106c1E31fE04e419c01D</td>\n",
       "      <td>NaN</td>\n",
       "      <td>0xb8A67FB40AA77466f619fD4b6cf56234Ade4A64b</td>\n",
       "      <td>0xf8f18dc9E192A9Bf9347DA0E2107d05D5B67F38e</td>\n",
       "      <td>Balancer swETH-WETH Stable Pool</td>\n",
       "      <td>[{'extra_reward_token_address': '0x87B3E6390C3...</td>\n",
       "      <td>[0xC0c293ce456fF0ED870ADd98a0828Dd4d2903DBF]</td>\n",
       "      <td>[AURA]</td>\n",
       "      <td>[18]</td>\n",
       "      <td>[0x656C4A7C3C0F06e3F2aA72fF0e81550713D25EE0]</td>\n",
       "    </tr>\n",
       "    <tr>\n",
       "      <th>20</th>\n",
       "      <td>0x0D883F9600857a28CfBccb16b10095EAcF8055af</td>\n",
       "      <td>NaN</td>\n",
       "      <td>0x863254050d3b960C6307dcF7eafdAB2e5e3592C1</td>\n",
       "      <td>0x07A319A023859BbD49CC9C38ee891c3EA9283Cc5</td>\n",
       "      <td>Balancer weETH/rETH StablePool</td>\n",
       "      <td>[{'extra_reward_token_address': '0xDD1D8693e82...</td>\n",
       "      <td>[0xC0c293ce456fF0ED870ADd98a0828Dd4d2903DBF]</td>\n",
       "      <td>[AURA]</td>\n",
       "      <td>[18]</td>\n",
       "      <td>[0x25d22C5191C67D63AAB70a37FAe06e1c1E1a830F]</td>\n",
       "    </tr>\n",
       "    <tr>\n",
       "      <th>22</th>\n",
       "      <td>0x1E02da6E4DFc4875E372104E5e79d54632F52cB3</td>\n",
       "      <td>NaN</td>\n",
       "      <td>0xa975e71B22110cC0FB22554b7cD78bffF4AE16E5</td>\n",
       "      <td>0x95eC73Baa0eCF8159b4EE897D973E41f51978E50</td>\n",
       "      <td>Balancer ezETH-WETH Stable Pool</td>\n",
       "      <td>[{'extra_reward_token_address': '0x72ECf9C9759...</td>\n",
       "      <td>[0xC0c293ce456fF0ED870ADd98a0828Dd4d2903DBF]</td>\n",
       "      <td>[AURA]</td>\n",
       "      <td>[18]</td>\n",
       "      <td>[0x9674Ecb2BfdB600e264C5010B52974083d35139E]</td>\n",
       "    </tr>\n",
       "    <tr>\n",
       "      <th>23</th>\n",
       "      <td>0x8A580F95bF9478C9EC9166E70F5bf2d489C15d8f</td>\n",
       "      <td>NaN</td>\n",
       "      <td>0x27d14558546ffc727320971ccaA48e47c6794d24</td>\n",
       "      <td>0xce98eb8b2Fb98049b3F2dB0A212Ba7ca3Efd63b0</td>\n",
       "      <td>Balancer weETH/ezETH/rswETH</td>\n",
       "      <td>[{'extra_reward_token_address': '0x53dCbeE5Fe3...</td>\n",
       "      <td>[0xC0c293ce456fF0ED870ADd98a0828Dd4d2903DBF]</td>\n",
       "      <td>[AURA]</td>\n",
       "      <td>[18]</td>\n",
       "      <td>[0x607858e1c3C4a9E462556A7CC752bB2192A42391]</td>\n",
       "    </tr>\n",
       "    <tr>\n",
       "      <th>24</th>\n",
       "      <td>0x9CA9B5dB35e5a48f2B147DaBB8e9848475094669</td>\n",
       "      <td>NaN</td>\n",
       "      <td>0xe9f93DdF3590E8e8cc1170442064800977deCe81</td>\n",
       "      <td>0x35113146E7f2dF77Fb40606774e0a3F402035Ffb</td>\n",
       "      <td>Gyroscope ECLP wstETH/wETH</td>\n",
       "      <td>[{'extra_reward_token_address': '0x1262f66fA31...</td>\n",
       "      <td>[0xC0c293ce456fF0ED870ADd98a0828Dd4d2903DBF]</td>\n",
       "      <td>[AURA]</td>\n",
       "      <td>[18]</td>\n",
       "      <td>[0x323c41cAa96eD4e8eF8c93F39D74B41a60D49Fa0]</td>\n",
       "    </tr>\n",
       "    <tr>\n",
       "      <th>25</th>\n",
       "      <td>0x8C598Be7D29ca09d847275356E1184F166B96931</td>\n",
       "      <td>NaN</td>\n",
       "      <td>0xC464583337F0Ce508018bD791a308d768dB344F2</td>\n",
       "      <td>0xC2E2D76a5e02eA65Ecd3be6c9cd3Fa29022f4548</td>\n",
       "      <td>Gyroscope ECLP wstETH/cbETH</td>\n",
       "      <td>[{'extra_reward_token_address': '0x820b212aeDA...</td>\n",
       "      <td>[0xC0c293ce456fF0ED870ADd98a0828Dd4d2903DBF]</td>\n",
       "      <td>[AURA]</td>\n",
       "      <td>[18]</td>\n",
       "      <td>[0x223d4949D078d522ccA2CeA5F224548DDD65086E]</td>\n",
       "    </tr>\n",
       "    <tr>\n",
       "      <th>26</th>\n",
       "      <td>0x2B7612998d9c979b125d3A4F4Bb2aF88a80f0C0f</td>\n",
       "      <td>NaN</td>\n",
       "      <td>0x153E095561AE66210Dfb2c63B5E11ad940e39f1C</td>\n",
       "      <td>0xB5FdB4f75C26798A62302ee4959E4281667557E0</td>\n",
       "      <td>Balancer rsETH-WETH Stable Pool</td>\n",
       "      <td>[{'extra_reward_token_address': '0xfDa5FD65B54...</td>\n",
       "      <td>[0xC0c293ce456fF0ED870ADd98a0828Dd4d2903DBF, 0...</td>\n",
       "      <td>[AURA, USDC, USDT]</td>\n",
       "      <td>[18, 6, 6]</td>\n",
       "      <td>[0x37602cA3a3d86054F1Eb94483b25c23B6deEa88c, 0...</td>\n",
       "    </tr>\n",
       "  </tbody>\n",
       "</table>\n",
       "</div>"
      ],
      "text/plain": [
       "                     destination_vault_address error  \\\n",
       "5   0x38e73E98d2038FafdC847F13dd9100732383B6F2   NaN   \n",
       "6   0xfb1f48a461cCC70081226d8353e45CfBd410dD8F   NaN   \n",
       "11  0x37e565f997c2b16d2542E906672E9c6281e77954   NaN   \n",
       "13  0xA6B62bFdc664Af24DDdfF335A167b867f1d590aF   NaN   \n",
       "14  0xF35fbb601e7de870029691f1872D67A8fC866B15   NaN   \n",
       "15  0xa3956D49106288E5c04E6FBbBad5b68593f0bE3b   NaN   \n",
       "16  0xE9D758002676EecCfAc6106c1E31fE04e419c01D   NaN   \n",
       "20  0x0D883F9600857a28CfBccb16b10095EAcF8055af   NaN   \n",
       "22  0x1E02da6E4DFc4875E372104E5e79d54632F52cB3   NaN   \n",
       "23  0x8A580F95bF9478C9EC9166E70F5bf2d489C15d8f   NaN   \n",
       "24  0x9CA9B5dB35e5a48f2B147DaBB8e9848475094669   NaN   \n",
       "25  0x8C598Be7D29ca09d847275356E1184F166B96931   NaN   \n",
       "26  0x2B7612998d9c979b125d3A4F4Bb2aF88a80f0C0f   NaN   \n",
       "\n",
       "                  aura_incentive_stats_address  \\\n",
       "5   0x93DeeF8ef1922ff3C30abf6EbA85Dc62ADC378db   \n",
       "6   0x551050d2dB5043b70598B148e83c9ca16fa21B10   \n",
       "11  0x085a6456861b7E8B767f6262f0195515e671194F   \n",
       "13  0x6733d6Ca76e5238025b743D4922986B90DFb35CA   \n",
       "14  0x449569489BB8e793EC6838Af97F3ca5C9eC6Bd62   \n",
       "15  0xE6850bc48feF4F8e4433d95072177aa95cD2fd9F   \n",
       "16  0xb8A67FB40AA77466f619fD4b6cf56234Ade4A64b   \n",
       "20  0x863254050d3b960C6307dcF7eafdAB2e5e3592C1   \n",
       "22  0xa975e71B22110cC0FB22554b7cD78bffF4AE16E5   \n",
       "23  0x27d14558546ffc727320971ccaA48e47c6794d24   \n",
       "24  0xe9f93DdF3590E8e8cc1170442064800977deCe81   \n",
       "25  0xC464583337F0Ce508018bD791a308d768dB344F2   \n",
       "26  0x153E095561AE66210Dfb2c63B5E11ad940e39f1C   \n",
       "\n",
       "                           auraStaking_address  \\\n",
       "5   0x59D66C58E83A26d6a0E35114323f65c3945c89c1   \n",
       "6   0xDd1fE5AD401D4777cE89959b7fa587e569Bf125D   \n",
       "11  0xf618102462Ff3cf7edbA4c067316F1C3AbdbA193   \n",
       "13  0x5F032f15B4e910252EDaDdB899f7201E89C8cD6b   \n",
       "14  0x2a14dB8D09dB0542f6A371c0cB308A768227D67D   \n",
       "15  0x571a20C14a7c3Ac6d30Ee7D1925940bb0C027696   \n",
       "16  0xf8f18dc9E192A9Bf9347DA0E2107d05D5B67F38e   \n",
       "20  0x07A319A023859BbD49CC9C38ee891c3EA9283Cc5   \n",
       "22  0x95eC73Baa0eCF8159b4EE897D973E41f51978E50   \n",
       "23  0xce98eb8b2Fb98049b3F2dB0A212Ba7ca3Efd63b0   \n",
       "24  0x35113146E7f2dF77Fb40606774e0a3F402035Ffb   \n",
       "25  0xC2E2D76a5e02eA65Ecd3be6c9cd3Fa29022f4548   \n",
       "26  0xB5FdB4f75C26798A62302ee4959E4281667557E0   \n",
       "\n",
       "                     destinationName  \\\n",
       "5         Balancer stETH Stable Pool   \n",
       "6          Balancer rETH Stable Pool   \n",
       "11             Balancer rsETH / ETHx   \n",
       "13    Balancer osETH/wETH StablePool   \n",
       "14  Balancer wstETH-WETH Stable Pool   \n",
       "15              Balancer ETHx/wstETH   \n",
       "16   Balancer swETH-WETH Stable Pool   \n",
       "20    Balancer weETH/rETH StablePool   \n",
       "22   Balancer ezETH-WETH Stable Pool   \n",
       "23       Balancer weETH/ezETH/rswETH   \n",
       "24        Gyroscope ECLP wstETH/wETH   \n",
       "25       Gyroscope ECLP wstETH/cbETH   \n",
       "26   Balancer rsETH-WETH Stable Pool   \n",
       "\n",
       "                               extra_rewarder_details  \\\n",
       "5   [{'extra_reward_token_address': '0x00dfc9ceEFA...   \n",
       "6   [{'extra_reward_token_address': '0xc6065734B89...   \n",
       "11  [{'extra_reward_token_address': '0x04e8941897b...   \n",
       "13  [{'extra_reward_token_address': '0x53ecAB28a67...   \n",
       "14  [{'extra_reward_token_address': '0xBA45e6500c4...   \n",
       "15  [{'extra_reward_token_address': '0x6A881df81d2...   \n",
       "16  [{'extra_reward_token_address': '0x87B3E6390C3...   \n",
       "20  [{'extra_reward_token_address': '0xDD1D8693e82...   \n",
       "22  [{'extra_reward_token_address': '0x72ECf9C9759...   \n",
       "23  [{'extra_reward_token_address': '0x53dCbeE5Fe3...   \n",
       "24  [{'extra_reward_token_address': '0x1262f66fA31...   \n",
       "25  [{'extra_reward_token_address': '0x820b212aeDA...   \n",
       "26  [{'extra_reward_token_address': '0xfDa5FD65B54...   \n",
       "\n",
       "                                    extraRewardTokens  \\\n",
       "5   [0x5A98FcBEA516Cf06857215779Fd812CA3beF1B32, 0...   \n",
       "6   [0xC0c293ce456fF0ED870ADd98a0828Dd4d2903DBF, 0...   \n",
       "11       [0xC0c293ce456fF0ED870ADd98a0828Dd4d2903DBF]   \n",
       "13  [0xC0c293ce456fF0ED870ADd98a0828Dd4d2903DBF, 0...   \n",
       "14       [0xC0c293ce456fF0ED870ADd98a0828Dd4d2903DBF]   \n",
       "15       [0xC0c293ce456fF0ED870ADd98a0828Dd4d2903DBF]   \n",
       "16       [0xC0c293ce456fF0ED870ADd98a0828Dd4d2903DBF]   \n",
       "20       [0xC0c293ce456fF0ED870ADd98a0828Dd4d2903DBF]   \n",
       "22       [0xC0c293ce456fF0ED870ADd98a0828Dd4d2903DBF]   \n",
       "23       [0xC0c293ce456fF0ED870ADd98a0828Dd4d2903DBF]   \n",
       "24       [0xC0c293ce456fF0ED870ADd98a0828Dd4d2903DBF]   \n",
       "25       [0xC0c293ce456fF0ED870ADd98a0828Dd4d2903DBF]   \n",
       "26  [0xC0c293ce456fF0ED870ADd98a0828Dd4d2903DBF, 0...   \n",
       "\n",
       "   extraRewardersRewardTokenSymbol extraRewardersRewardTokenDecimals  \\\n",
       "5                      [LDO, AURA]                          [18, 18]   \n",
       "6                      [AURA, RPL]                          [18, 18]   \n",
       "11                          [AURA]                              [18]   \n",
       "13                   [AURA, SWISE]                          [18, 18]   \n",
       "14                          [AURA]                              [18]   \n",
       "15                          [AURA]                              [18]   \n",
       "16                          [AURA]                              [18]   \n",
       "20                          [AURA]                              [18]   \n",
       "22                          [AURA]                              [18]   \n",
       "23                          [AURA]                              [18]   \n",
       "24                          [AURA]                              [18]   \n",
       "25                          [AURA]                              [18]   \n",
       "26              [AURA, USDC, USDT]                        [18, 6, 6]   \n",
       "\n",
       "                                       extraRewarders  \n",
       "5   [0x562B255bE51D0B8e8CA3F16421B2aE7A430Ca358, 0...  \n",
       "6   [0xf66a72886749c96b18526E8E124cC2e18b7c72D2, 0...  \n",
       "11       [0x48CE0d8ce2Af97f9521471caE4eb63141D710B96]  \n",
       "13  [0x62e6D8dAe7089C8F2f2a5C328c710aa1788742fb, 0...  \n",
       "14       [0x8aB6f2574569Bac61B213e7996a88590a1BeAc56]  \n",
       "15       [0xe5aABCd2D935C3F06a69b981069A92B252E81a99]  \n",
       "16       [0x656C4A7C3C0F06e3F2aA72fF0e81550713D25EE0]  \n",
       "20       [0x25d22C5191C67D63AAB70a37FAe06e1c1E1a830F]  \n",
       "22       [0x9674Ecb2BfdB600e264C5010B52974083d35139E]  \n",
       "23       [0x607858e1c3C4a9E462556A7CC752bB2192A42391]  \n",
       "24       [0x323c41cAa96eD4e8eF8c93F39D74B41a60D49Fa0]  \n",
       "25       [0x223d4949D078d522ccA2CeA5F224548DDD65086E]  \n",
       "26  [0x37602cA3a3d86054F1Eb94483b25c23B6deEa88c, 0...  "
      ]
     },
     "execution_count": 5,
     "metadata": {},
     "output_type": "execute_result"
    }
   ],
   "source": [
    "bal_rewarders_df[\"extraRewardTokens\"] = bal_rewarders_df[\"extra_rewarder_details\"].apply(\n",
    "    lambda details: [d[\"base_token_address\"] for d in details]\n",
    ")\n",
    "bal_rewarders_df[\"extraRewardersRewardTokenSymbol\"] = bal_rewarders_df[\"extra_rewarder_details\"].apply(\n",
    "    lambda details: [d[\"base_token_symbol\"] for d in details]\n",
    ")\n",
    "bal_rewarders_df[\"extraRewardersRewardTokenDecimals\"] = bal_rewarders_df[\"extra_rewarder_details\"].apply(\n",
    "    lambda details: [d[\"extra_reward_token_decimals\"] for d in details]\n",
    ")\n",
    "\n",
    "bal_rewarders_df[\"extraRewarders\"] = bal_rewarders_df[\"extra_rewarder_details\"].apply(\n",
    "    lambda details: [d[\"extra_rewarder_address\"] for d in details]\n",
    ")\n",
    "\n",
    "bal_rewarders_df"
   ]
  },
  {
   "cell_type": "code",
   "execution_count": null,
   "metadata": {},
   "outputs": [
    {
     "name": "stdout",
     "output_type": "stream",
     "text": [
      "extra_reward_per_token_cols=['LDO|| 0 extraRewardPerToken', 'AURA|| 1 extraRewardPerToken'] extra_reward_to_eth_cols=['LDO_to_ETH', 'AURA_to_ETH']\n"
     ]
    },
    {
     "data": {
      "application/vnd.plotly.v1+json": {
       "config": {
        "plotlyServerURL": "https://plot.ly"
       },
       "data": [
        {
         "hovertemplate": "variable=Balancer stETH Stable Pool Growth of a ETH<br>timestamp=%{x}<br>value=%{y}<extra></extra>",
         "legendgroup": "Balancer stETH Stable Pool Growth of a ETH",
         "line": {
          "color": "#636efa",
          "dash": "solid"
         },
         "marker": {
          "symbol": "circle"
         },
         "mode": "lines",
         "name": "Balancer stETH Stable Pool Growth of a ETH",
         "orientation": "v",
         "showlegend": true,
         "type": "scatter",
         "x": [
          "2024-07-17T00:53:47",
          "2024-07-17T06:50:11",
          "2024-07-17T12:46:35",
          "2024-07-17T18:43:35",
          "2024-07-18T00:40:11",
          "2024-07-18T06:37:35",
          "2024-07-18T12:34:59",
          "2024-07-18T18:31:35",
          "2024-07-19T00:27:59",
          "2024-07-19T06:24:23",
          "2024-07-19T12:20:35",
          "2024-07-19T18:17:11",
          "2024-07-20T00:13:23",
          "2024-07-20T06:10:35",
          "2024-07-20T12:07:35",
          "2024-07-20T18:04:23",
          "2024-07-21T00:00:47",
          "2024-07-21T05:57:23",
          "2024-07-21T11:53:23",
          "2024-07-21T17:50:35",
          "2024-07-21T23:47:35",
          "2024-07-22T05:44:23",
          "2024-07-22T11:41:35",
          "2024-07-22T17:38:59",
          "2024-07-22T23:35:47",
          "2024-07-23T05:32:47",
          "2024-07-23T11:29:35",
          "2024-07-23T17:25:47",
          "2024-07-23T23:22:35",
          "2024-07-24T05:18:47",
          "2024-07-24T11:15:11",
          "2024-07-24T17:12:23",
          "2024-07-24T23:09:59",
          "2024-07-25T05:06:35",
          "2024-07-25T11:02:47",
          "2024-07-25T16:59:47",
          "2024-07-25T22:57:23",
          "2024-07-26T04:54:47",
          "2024-07-26T10:50:47",
          "2024-07-26T16:47:47",
          "2024-07-26T22:44:47",
          "2024-07-27T04:42:11",
          "2024-07-27T10:39:11",
          "2024-07-27T16:35:11",
          "2024-07-27T22:32:35",
          "2024-07-28T04:29:59",
          "2024-07-28T10:26:35",
          "2024-07-28T16:22:35",
          "2024-07-28T22:18:11",
          "2024-07-29T04:15:11",
          "2024-07-29T10:11:59",
          "2024-07-29T16:07:47",
          "2024-07-29T22:03:47",
          "2024-07-30T04:01:23",
          "2024-07-30T10:01:11",
          "2024-07-30T15:58:35",
          "2024-07-30T21:55:35",
          "2024-07-31T03:52:11",
          "2024-07-31T09:48:35",
          "2024-07-31T15:45:11",
          "2024-07-31T21:42:47",
          "2024-08-01T03:39:11",
          "2024-08-01T09:35:35",
          "2024-08-01T15:32:35",
          "2024-08-01T21:29:23",
          "2024-08-02T03:26:11",
          "2024-08-02T09:22:59",
          "2024-08-02T15:19:59",
          "2024-08-02T21:18:11",
          "2024-08-03T03:15:11",
          "2024-08-03T09:12:35",
          "2024-08-03T15:08:47",
          "2024-08-03T21:05:11",
          "2024-08-04T03:01:47",
          "2024-08-04T08:57:23",
          "2024-08-04T14:53:23",
          "2024-08-04T20:49:59",
          "2024-08-05T02:45:47",
          "2024-08-05T08:41:47",
          "2024-08-05T14:38:47",
          "2024-08-05T20:36:11",
          "2024-08-06T02:32:23",
          "2024-08-06T08:28:47",
          "2024-08-06T14:25:47",
          "2024-08-06T20:22:47",
          "2024-08-07T02:19:23",
          "2024-08-07T08:15:59",
          "2024-08-07T14:12:35",
          "2024-08-07T20:08:35",
          "2024-08-08T02:05:23",
          "2024-08-08T08:01:47",
          "2024-08-08T13:58:23",
          "2024-08-08T19:54:11",
          "2024-08-09T01:50:11",
          "2024-08-09T07:46:35",
          "2024-08-09T13:42:35",
          "2024-08-09T19:39:35",
          "2024-08-10T01:36:23",
          "2024-08-10T07:32:35",
          "2024-08-10T13:29:59",
          "2024-08-10T19:25:11",
          "2024-08-11T01:22:23",
          "2024-08-11T07:19:47",
          "2024-08-11T13:17:35",
          "2024-08-11T19:14:23",
          "2024-08-12T01:10:23",
          "2024-08-12T07:07:35",
          "2024-08-12T13:04:59",
          "2024-08-12T19:01:47",
          "2024-08-13T00:56:47",
          "2024-08-13T06:53:35",
          "2024-08-13T12:50:47",
          "2024-08-13T18:47:11",
          "2024-08-14T00:43:35",
          "2024-08-14T06:40:47",
          "2024-08-14T12:37:11",
          "2024-08-14T18:34:11",
          "2024-08-15T00:31:11",
          "2024-08-15T06:27:59",
          "2024-08-15T12:25:23",
          "2024-08-15T18:22:47",
          "2024-08-16T00:20:35",
          "2024-08-16T06:16:35",
          "2024-08-16T12:12:47",
          "2024-08-16T18:09:23",
          "2024-08-17T00:07:23",
          "2024-08-17T06:04:59",
          "2024-08-17T12:01:59",
          "2024-08-17T17:59:59",
          "2024-08-17T23:56:11",
          "2024-08-18T05:51:59",
          "2024-08-18T11:48:47",
          "2024-08-18T17:45:11",
          "2024-08-18T23:41:23",
          "2024-08-19T05:39:23",
          "2024-08-19T11:35:47",
          "2024-08-19T17:33:47",
          "2024-08-19T23:29:47",
          "2024-08-20T05:26:11",
          "2024-08-20T11:24:23",
          "2024-08-20T17:20:59",
          "2024-08-20T23:18:35",
          "2024-08-21T05:15:11",
          "2024-08-21T11:11:11",
          "2024-08-21T17:08:35",
          "2024-08-21T23:06:35",
          "2024-08-22T05:04:23",
          "2024-08-22T11:01:59",
          "2024-08-22T16:58:23",
          "2024-08-22T22:54:35",
          "2024-08-23T04:51:59",
          "2024-08-23T10:50:35",
          "2024-08-23T16:47:23",
          "2024-08-23T22:44:11",
          "2024-08-24T04:40:59",
          "2024-08-24T10:38:47",
          "2024-08-24T16:36:11",
          "2024-08-24T22:33:35",
          "2024-08-25T04:31:35",
          "2024-08-25T10:29:35",
          "2024-08-25T16:26:35",
          "2024-08-25T22:23:11",
          "2024-08-26T04:20:11",
          "2024-08-26T10:17:35",
          "2024-08-26T16:13:59",
          "2024-08-26T22:10:59",
          "2024-08-27T04:08:59",
          "2024-08-27T10:06:23",
          "2024-08-27T16:02:35",
          "2024-08-27T21:59:11",
          "2024-08-28T03:55:35",
          "2024-08-28T09:53:23",
          "2024-08-28T15:49:47",
          "2024-08-28T21:46:35",
          "2024-08-29T03:43:59",
          "2024-08-29T09:41:47",
          "2024-08-29T15:39:23",
          "2024-08-29T21:36:35",
          "2024-08-30T03:34:35",
          "2024-08-30T09:31:47",
          "2024-08-30T15:28:35",
          "2024-08-30T21:24:59",
          "2024-08-31T03:22:59",
          "2024-08-31T09:19:47",
          "2024-08-31T15:16:59",
          "2024-08-31T21:13:47",
          "2024-09-01T03:09:59",
          "2024-09-01T09:05:47",
          "2024-09-01T15:02:59",
          "2024-09-01T21:00:35",
          "2024-09-02T02:56:47",
          "2024-09-02T08:52:47",
          "2024-09-02T14:50:11",
          "2024-09-02T20:46:23",
          "2024-09-03T02:42:59",
          "2024-09-03T08:40:23",
          "2024-09-03T14:36:47",
          "2024-09-03T20:32:35"
         ],
         "xaxis": "x",
         "y": [
          1,
          0.9999879297222406,
          1.0000313162636638,
          1.0000313162636638,
          1.0000313162636638,
          0.9999943649366313,
          1.0000404495550193,
          1.0000404495550193,
          1.0000404495550193,
          1.0003173420796367,
          1.000316665896767,
          1.0003601790468726,
          1.0003601790468726,
          1.0000887263047422,
          0.9999379190090331,
          0.9999778498714362,
          0.9999778498714362,
          0.9998403923486312,
          0.9998403923486312,
          0.9998794919809927,
          0.9998794919809927,
          1.000047700122812,
          1.0000477104467365,
          1.0000908098592067,
          1.0000908098592067,
          1.0001059157839252,
          1.0001059157839252,
          1.0001472953425037,
          1.0001472953425037,
          1.0000272957718732,
          1.0000274446865305,
          1.000068321551586,
          1.000068321551586,
          0.999951796011068,
          0.9999518128537266,
          0.9999935528817665,
          0.999949312785931,
          0.999778199892239,
          0.9997784111277308,
          0.9998192576524815,
          0.999820533898979,
          1.0000811917688877,
          1.0000815984502383,
          1.0001204396743275,
          1.0001204396743275,
          1.0000871252087808,
          1.0000871252087808,
          1.0001288821244465,
          1.0001288821244465,
          1.000231364646019,
          1.000231364646019,
          1.0002702129898826,
          1.0002702129898826,
          1.0002655829981344,
          1.0002655829981344,
          1.0003058112827607,
          1.0003064727757653,
          1.0002974814340106,
          1.000197242766812,
          1.000238599062276,
          1.000238599062276,
          1.0002595609395606,
          1.0002595609395606,
          1.0002587250258281,
          1.000397121743136,
          1.000396229542832,
          1.0001911545756565,
          1.0002327707764178,
          1.0001991852819294,
          1.0001990697439989,
          1.0001056464882687,
          1.0001492509012921,
          1.0001492509012921,
          1.0001493897430793,
          1.0001433489657225,
          1.0001848787723446,
          0.999960393895539,
          1.0005135170362611,
          0.9999275714961893,
          1.0029581806779495,
          1.0029796932145059,
          1.002986106625862,
          1.002986106625862,
          1.001750839499347,
          1.0017508402672217,
          1.0017834923676219,
          1.0017835835009794,
          1.0017363988728312,
          1.0017364091142051,
          1.0019664957946424,
          1.0019281901106156,
          1.001971816465195,
          1.0019727754773105,
          1.001467135813256,
          1.0014674186663013,
          1.0015123527063003,
          1.0015169312527532,
          1.0023307595050042,
          1.002331060880178,
          1.0023258808370181,
          1.0023258808370181,
          1.0023516055549833,
          1.0023516055549833,
          1.0023897668878523,
          1.0023897668878523,
          1.0024199404548901,
          1.0024199404548901,
          1.002461383386452,
          1.0024619067190996,
          1.0024619067190996,
          1.0024390384814905,
          1.002419057579895,
          1.0023983857524568,
          1.0023985145317684,
          1.0024543243534927,
          1.0024948650685763,
          1.0024948650685763,
          1.0024948650685763,
          1.0026724386855779,
          1.0027169787805355,
          1.0027169787805355,
          1.0027169787805355,
          1.0025762589180127,
          1.0025762589180127,
          1.0026167008861264,
          1.0026167008861264,
          1.0024370726098855,
          1.0024370726098855,
          1.0024750073658437,
          1.0024596908010783,
          1.0024739944249168,
          1.002473995074189,
          1.002511797653898,
          1.002511797653898,
          1.002752519986929,
          1.002752519986929,
          1.0027906026584716,
          1.0027906026584716,
          1.0026329452741092,
          1.0026329452741092,
          1.0026722292901846,
          1.0026734293817292,
          1.0024438521901942,
          1.0024438521901942,
          1.0024821951673268,
          1.0024821951673268,
          1.0026360309819606,
          1.0026360309819606,
          1.0026767103397372,
          1.0026767103397372,
          1.0026897371737271,
          1.0026897371737271,
          1.0027275951574215,
          1.0027275951574215,
          1.0027427362312478,
          1.0026256850221944,
          1.0026646582513048,
          1.0026646582513048,
          1.0026402733906519,
          1.002620742657124,
          1.0026581812312376,
          1.0026581812312376,
          1.0027163786879982,
          1.0027163786879982,
          1.0027353183156358,
          1.0027353183156358,
          1.0026920614239891,
          1.0026920614239891,
          1.0027304637201802,
          1.0027304637201802,
          1.0027553058397822,
          1.0027554455602177,
          1.0028121285638854,
          1.0028121285638854,
          1.0027358365169379,
          1.0027358365169379,
          1.0027740143299044,
          1.0027740143299044,
          1.0027509366189369,
          1.0027509366189369,
          1.0027905973799238,
          1.0027905973799238,
          1.0028009806514369,
          1.0028009806514369,
          1.002837908431474,
          1.002837908431474,
          1.0029741442885718,
          1.0029741442885718,
          1.0030109642949698,
          1.0030109642949698,
          1.0030250032298778,
          1.0030250032298778,
          1.0030628769233876,
          1.0030628769233876,
          1.0029893405152008,
          1.0029895154068558,
          1.0030304077190542,
          1.0030304077190542
         ],
         "yaxis": "y"
        }
       ],
       "layout": {
        "legend": {
         "title": {
          "text": "variable"
         },
         "tracegroupgap": 0
        },
        "margin": {
         "t": 60
        },
        "template": {
         "data": {
          "bar": [
           {
            "error_x": {
             "color": "#2a3f5f"
            },
            "error_y": {
             "color": "#2a3f5f"
            },
            "marker": {
             "line": {
              "color": "#E5ECF6",
              "width": 0.5
             },
             "pattern": {
              "fillmode": "overlay",
              "size": 10,
              "solidity": 0.2
             }
            },
            "type": "bar"
           }
          ],
          "barpolar": [
           {
            "marker": {
             "line": {
              "color": "#E5ECF6",
              "width": 0.5
             },
             "pattern": {
              "fillmode": "overlay",
              "size": 10,
              "solidity": 0.2
             }
            },
            "type": "barpolar"
           }
          ],
          "carpet": [
           {
            "aaxis": {
             "endlinecolor": "#2a3f5f",
             "gridcolor": "white",
             "linecolor": "white",
             "minorgridcolor": "white",
             "startlinecolor": "#2a3f5f"
            },
            "baxis": {
             "endlinecolor": "#2a3f5f",
             "gridcolor": "white",
             "linecolor": "white",
             "minorgridcolor": "white",
             "startlinecolor": "#2a3f5f"
            },
            "type": "carpet"
           }
          ],
          "choropleth": [
           {
            "colorbar": {
             "outlinewidth": 0,
             "ticks": ""
            },
            "type": "choropleth"
           }
          ],
          "contour": [
           {
            "colorbar": {
             "outlinewidth": 0,
             "ticks": ""
            },
            "colorscale": [
             [
              0,
              "#0d0887"
             ],
             [
              0.1111111111111111,
              "#46039f"
             ],
             [
              0.2222222222222222,
              "#7201a8"
             ],
             [
              0.3333333333333333,
              "#9c179e"
             ],
             [
              0.4444444444444444,
              "#bd3786"
             ],
             [
              0.5555555555555556,
              "#d8576b"
             ],
             [
              0.6666666666666666,
              "#ed7953"
             ],
             [
              0.7777777777777778,
              "#fb9f3a"
             ],
             [
              0.8888888888888888,
              "#fdca26"
             ],
             [
              1,
              "#f0f921"
             ]
            ],
            "type": "contour"
           }
          ],
          "contourcarpet": [
           {
            "colorbar": {
             "outlinewidth": 0,
             "ticks": ""
            },
            "type": "contourcarpet"
           }
          ],
          "heatmap": [
           {
            "colorbar": {
             "outlinewidth": 0,
             "ticks": ""
            },
            "colorscale": [
             [
              0,
              "#0d0887"
             ],
             [
              0.1111111111111111,
              "#46039f"
             ],
             [
              0.2222222222222222,
              "#7201a8"
             ],
             [
              0.3333333333333333,
              "#9c179e"
             ],
             [
              0.4444444444444444,
              "#bd3786"
             ],
             [
              0.5555555555555556,
              "#d8576b"
             ],
             [
              0.6666666666666666,
              "#ed7953"
             ],
             [
              0.7777777777777778,
              "#fb9f3a"
             ],
             [
              0.8888888888888888,
              "#fdca26"
             ],
             [
              1,
              "#f0f921"
             ]
            ],
            "type": "heatmap"
           }
          ],
          "heatmapgl": [
           {
            "colorbar": {
             "outlinewidth": 0,
             "ticks": ""
            },
            "colorscale": [
             [
              0,
              "#0d0887"
             ],
             [
              0.1111111111111111,
              "#46039f"
             ],
             [
              0.2222222222222222,
              "#7201a8"
             ],
             [
              0.3333333333333333,
              "#9c179e"
             ],
             [
              0.4444444444444444,
              "#bd3786"
             ],
             [
              0.5555555555555556,
              "#d8576b"
             ],
             [
              0.6666666666666666,
              "#ed7953"
             ],
             [
              0.7777777777777778,
              "#fb9f3a"
             ],
             [
              0.8888888888888888,
              "#fdca26"
             ],
             [
              1,
              "#f0f921"
             ]
            ],
            "type": "heatmapgl"
           }
          ],
          "histogram": [
           {
            "marker": {
             "pattern": {
              "fillmode": "overlay",
              "size": 10,
              "solidity": 0.2
             }
            },
            "type": "histogram"
           }
          ],
          "histogram2d": [
           {
            "colorbar": {
             "outlinewidth": 0,
             "ticks": ""
            },
            "colorscale": [
             [
              0,
              "#0d0887"
             ],
             [
              0.1111111111111111,
              "#46039f"
             ],
             [
              0.2222222222222222,
              "#7201a8"
             ],
             [
              0.3333333333333333,
              "#9c179e"
             ],
             [
              0.4444444444444444,
              "#bd3786"
             ],
             [
              0.5555555555555556,
              "#d8576b"
             ],
             [
              0.6666666666666666,
              "#ed7953"
             ],
             [
              0.7777777777777778,
              "#fb9f3a"
             ],
             [
              0.8888888888888888,
              "#fdca26"
             ],
             [
              1,
              "#f0f921"
             ]
            ],
            "type": "histogram2d"
           }
          ],
          "histogram2dcontour": [
           {
            "colorbar": {
             "outlinewidth": 0,
             "ticks": ""
            },
            "colorscale": [
             [
              0,
              "#0d0887"
             ],
             [
              0.1111111111111111,
              "#46039f"
             ],
             [
              0.2222222222222222,
              "#7201a8"
             ],
             [
              0.3333333333333333,
              "#9c179e"
             ],
             [
              0.4444444444444444,
              "#bd3786"
             ],
             [
              0.5555555555555556,
              "#d8576b"
             ],
             [
              0.6666666666666666,
              "#ed7953"
             ],
             [
              0.7777777777777778,
              "#fb9f3a"
             ],
             [
              0.8888888888888888,
              "#fdca26"
             ],
             [
              1,
              "#f0f921"
             ]
            ],
            "type": "histogram2dcontour"
           }
          ],
          "mesh3d": [
           {
            "colorbar": {
             "outlinewidth": 0,
             "ticks": ""
            },
            "type": "mesh3d"
           }
          ],
          "parcoords": [
           {
            "line": {
             "colorbar": {
              "outlinewidth": 0,
              "ticks": ""
             }
            },
            "type": "parcoords"
           }
          ],
          "pie": [
           {
            "automargin": true,
            "type": "pie"
           }
          ],
          "scatter": [
           {
            "fillpattern": {
             "fillmode": "overlay",
             "size": 10,
             "solidity": 0.2
            },
            "type": "scatter"
           }
          ],
          "scatter3d": [
           {
            "line": {
             "colorbar": {
              "outlinewidth": 0,
              "ticks": ""
             }
            },
            "marker": {
             "colorbar": {
              "outlinewidth": 0,
              "ticks": ""
             }
            },
            "type": "scatter3d"
           }
          ],
          "scattercarpet": [
           {
            "marker": {
             "colorbar": {
              "outlinewidth": 0,
              "ticks": ""
             }
            },
            "type": "scattercarpet"
           }
          ],
          "scattergeo": [
           {
            "marker": {
             "colorbar": {
              "outlinewidth": 0,
              "ticks": ""
             }
            },
            "type": "scattergeo"
           }
          ],
          "scattergl": [
           {
            "marker": {
             "colorbar": {
              "outlinewidth": 0,
              "ticks": ""
             }
            },
            "type": "scattergl"
           }
          ],
          "scattermapbox": [
           {
            "marker": {
             "colorbar": {
              "outlinewidth": 0,
              "ticks": ""
             }
            },
            "type": "scattermapbox"
           }
          ],
          "scatterpolar": [
           {
            "marker": {
             "colorbar": {
              "outlinewidth": 0,
              "ticks": ""
             }
            },
            "type": "scatterpolar"
           }
          ],
          "scatterpolargl": [
           {
            "marker": {
             "colorbar": {
              "outlinewidth": 0,
              "ticks": ""
             }
            },
            "type": "scatterpolargl"
           }
          ],
          "scatterternary": [
           {
            "marker": {
             "colorbar": {
              "outlinewidth": 0,
              "ticks": ""
             }
            },
            "type": "scatterternary"
           }
          ],
          "surface": [
           {
            "colorbar": {
             "outlinewidth": 0,
             "ticks": ""
            },
            "colorscale": [
             [
              0,
              "#0d0887"
             ],
             [
              0.1111111111111111,
              "#46039f"
             ],
             [
              0.2222222222222222,
              "#7201a8"
             ],
             [
              0.3333333333333333,
              "#9c179e"
             ],
             [
              0.4444444444444444,
              "#bd3786"
             ],
             [
              0.5555555555555556,
              "#d8576b"
             ],
             [
              0.6666666666666666,
              "#ed7953"
             ],
             [
              0.7777777777777778,
              "#fb9f3a"
             ],
             [
              0.8888888888888888,
              "#fdca26"
             ],
             [
              1,
              "#f0f921"
             ]
            ],
            "type": "surface"
           }
          ],
          "table": [
           {
            "cells": {
             "fill": {
              "color": "#EBF0F8"
             },
             "line": {
              "color": "white"
             }
            },
            "header": {
             "fill": {
              "color": "#C8D4E3"
             },
             "line": {
              "color": "white"
             }
            },
            "type": "table"
           }
          ]
         },
         "layout": {
          "annotationdefaults": {
           "arrowcolor": "#2a3f5f",
           "arrowhead": 0,
           "arrowwidth": 1
          },
          "autotypenumbers": "strict",
          "coloraxis": {
           "colorbar": {
            "outlinewidth": 0,
            "ticks": ""
           }
          },
          "colorscale": {
           "diverging": [
            [
             0,
             "#8e0152"
            ],
            [
             0.1,
             "#c51b7d"
            ],
            [
             0.2,
             "#de77ae"
            ],
            [
             0.3,
             "#f1b6da"
            ],
            [
             0.4,
             "#fde0ef"
            ],
            [
             0.5,
             "#f7f7f7"
            ],
            [
             0.6,
             "#e6f5d0"
            ],
            [
             0.7,
             "#b8e186"
            ],
            [
             0.8,
             "#7fbc41"
            ],
            [
             0.9,
             "#4d9221"
            ],
            [
             1,
             "#276419"
            ]
           ],
           "sequential": [
            [
             0,
             "#0d0887"
            ],
            [
             0.1111111111111111,
             "#46039f"
            ],
            [
             0.2222222222222222,
             "#7201a8"
            ],
            [
             0.3333333333333333,
             "#9c179e"
            ],
            [
             0.4444444444444444,
             "#bd3786"
            ],
            [
             0.5555555555555556,
             "#d8576b"
            ],
            [
             0.6666666666666666,
             "#ed7953"
            ],
            [
             0.7777777777777778,
             "#fb9f3a"
            ],
            [
             0.8888888888888888,
             "#fdca26"
            ],
            [
             1,
             "#f0f921"
            ]
           ],
           "sequentialminus": [
            [
             0,
             "#0d0887"
            ],
            [
             0.1111111111111111,
             "#46039f"
            ],
            [
             0.2222222222222222,
             "#7201a8"
            ],
            [
             0.3333333333333333,
             "#9c179e"
            ],
            [
             0.4444444444444444,
             "#bd3786"
            ],
            [
             0.5555555555555556,
             "#d8576b"
            ],
            [
             0.6666666666666666,
             "#ed7953"
            ],
            [
             0.7777777777777778,
             "#fb9f3a"
            ],
            [
             0.8888888888888888,
             "#fdca26"
            ],
            [
             1,
             "#f0f921"
            ]
           ]
          },
          "colorway": [
           "#636efa",
           "#EF553B",
           "#00cc96",
           "#ab63fa",
           "#FFA15A",
           "#19d3f3",
           "#FF6692",
           "#B6E880",
           "#FF97FF",
           "#FECB52"
          ],
          "font": {
           "color": "#2a3f5f"
          },
          "geo": {
           "bgcolor": "white",
           "lakecolor": "white",
           "landcolor": "#E5ECF6",
           "showlakes": true,
           "showland": true,
           "subunitcolor": "white"
          },
          "hoverlabel": {
           "align": "left"
          },
          "hovermode": "closest",
          "mapbox": {
           "style": "light"
          },
          "paper_bgcolor": "white",
          "plot_bgcolor": "#E5ECF6",
          "polar": {
           "angularaxis": {
            "gridcolor": "white",
            "linecolor": "white",
            "ticks": ""
           },
           "bgcolor": "#E5ECF6",
           "radialaxis": {
            "gridcolor": "white",
            "linecolor": "white",
            "ticks": ""
           }
          },
          "scene": {
           "xaxis": {
            "backgroundcolor": "#E5ECF6",
            "gridcolor": "white",
            "gridwidth": 2,
            "linecolor": "white",
            "showbackground": true,
            "ticks": "",
            "zerolinecolor": "white"
           },
           "yaxis": {
            "backgroundcolor": "#E5ECF6",
            "gridcolor": "white",
            "gridwidth": 2,
            "linecolor": "white",
            "showbackground": true,
            "ticks": "",
            "zerolinecolor": "white"
           },
           "zaxis": {
            "backgroundcolor": "#E5ECF6",
            "gridcolor": "white",
            "gridwidth": 2,
            "linecolor": "white",
            "showbackground": true,
            "ticks": "",
            "zerolinecolor": "white"
           }
          },
          "shapedefaults": {
           "line": {
            "color": "#2a3f5f"
           }
          },
          "ternary": {
           "aaxis": {
            "gridcolor": "white",
            "linecolor": "white",
            "ticks": ""
           },
           "baxis": {
            "gridcolor": "white",
            "linecolor": "white",
            "ticks": ""
           },
           "bgcolor": "#E5ECF6",
           "caxis": {
            "gridcolor": "white",
            "linecolor": "white",
            "ticks": ""
           }
          },
          "title": {
           "x": 0.05
          },
          "xaxis": {
           "automargin": true,
           "gridcolor": "white",
           "linecolor": "white",
           "ticks": "",
           "title": {
            "standoff": 15
           },
           "zerolinecolor": "white",
           "zerolinewidth": 2
          },
          "yaxis": {
           "automargin": true,
           "gridcolor": "white",
           "linecolor": "white",
           "ticks": "",
           "title": {
            "standoff": 15
           },
           "zerolinecolor": "white",
           "zerolinewidth": 2
          }
         }
        },
        "xaxis": {
         "anchor": "y",
         "domain": [
          0,
          1
         ],
         "title": {
          "text": "timestamp"
         }
        },
        "yaxis": {
         "anchor": "x",
         "domain": [
          0,
          1
         ],
         "title": {
          "text": "value"
         }
        }
       }
      }
     },
     "metadata": {},
     "output_type": "display_data"
    },
    {
     "name": "stdout",
     "output_type": "stream",
     "text": [
      "extra_reward_per_token_cols=['AURA|| 0 extraRewardPerToken', 'RPL|| 1 extraRewardPerToken'] extra_reward_to_eth_cols=['AURA_to_ETH', 'RPL_to_ETH']\n"
     ]
    },
    {
     "data": {
      "application/vnd.plotly.v1+json": {
       "config": {
        "plotlyServerURL": "https://plot.ly"
       },
       "data": [
        {
         "hovertemplate": "variable=Balancer rETH Stable Pool Growth of a ETH<br>timestamp=%{x}<br>value=%{y}<extra></extra>",
         "legendgroup": "Balancer rETH Stable Pool Growth of a ETH",
         "line": {
          "color": "#636efa",
          "dash": "solid"
         },
         "marker": {
          "symbol": "circle"
         },
         "mode": "lines",
         "name": "Balancer rETH Stable Pool Growth of a ETH",
         "orientation": "v",
         "showlegend": true,
         "type": "scatter",
         "x": [
          "2024-07-17T00:53:47",
          "2024-07-17T06:50:11",
          "2024-07-17T12:46:35",
          "2024-07-17T18:43:35",
          "2024-07-18T00:40:11",
          "2024-07-18T06:37:35",
          "2024-07-18T12:34:59",
          "2024-07-18T18:31:35",
          "2024-07-19T00:27:59",
          "2024-07-19T06:24:23",
          "2024-07-19T12:20:35",
          "2024-07-19T18:17:11",
          "2024-07-20T00:13:23",
          "2024-07-20T06:10:35",
          "2024-07-20T12:07:35",
          "2024-07-20T18:04:23",
          "2024-07-21T00:00:47",
          "2024-07-21T05:57:23",
          "2024-07-21T11:53:23",
          "2024-07-21T17:50:35",
          "2024-07-21T23:47:35",
          "2024-07-22T05:44:23",
          "2024-07-22T11:41:35",
          "2024-07-22T17:38:59",
          "2024-07-22T23:35:47",
          "2024-07-23T05:32:47",
          "2024-07-23T11:29:35",
          "2024-07-23T17:25:47",
          "2024-07-23T23:22:35",
          "2024-07-24T05:18:47",
          "2024-07-24T11:15:11",
          "2024-07-24T17:12:23",
          "2024-07-24T23:09:59",
          "2024-07-25T05:06:35",
          "2024-07-25T11:02:47",
          "2024-07-25T16:59:47",
          "2024-07-25T22:57:23",
          "2024-07-26T04:54:47",
          "2024-07-26T10:50:47",
          "2024-07-26T16:47:47",
          "2024-07-26T22:44:47",
          "2024-07-27T04:42:11",
          "2024-07-27T10:39:11",
          "2024-07-27T16:35:11",
          "2024-07-27T22:32:35",
          "2024-07-28T04:29:59",
          "2024-07-28T10:26:35",
          "2024-07-28T16:22:35",
          "2024-07-28T22:18:11",
          "2024-07-29T04:15:11",
          "2024-07-29T10:11:59",
          "2024-07-29T16:07:47",
          "2024-07-29T22:03:47",
          "2024-07-30T04:01:23",
          "2024-07-30T10:01:11",
          "2024-07-30T15:58:35",
          "2024-07-30T21:55:35",
          "2024-07-31T03:52:11",
          "2024-07-31T09:48:35",
          "2024-07-31T15:45:11",
          "2024-07-31T21:42:47",
          "2024-08-01T03:39:11",
          "2024-08-01T09:35:35",
          "2024-08-01T15:32:35",
          "2024-08-01T21:29:23",
          "2024-08-02T03:26:11",
          "2024-08-02T09:22:59",
          "2024-08-02T15:19:59",
          "2024-08-02T21:18:11",
          "2024-08-03T03:15:11",
          "2024-08-03T09:12:35",
          "2024-08-03T15:08:47",
          "2024-08-03T21:05:11",
          "2024-08-04T03:01:47",
          "2024-08-04T08:57:23",
          "2024-08-04T14:53:23",
          "2024-08-04T20:49:59",
          "2024-08-05T02:45:47",
          "2024-08-05T08:41:47",
          "2024-08-05T14:38:47",
          "2024-08-05T20:36:11",
          "2024-08-06T02:32:23",
          "2024-08-06T08:28:47",
          "2024-08-06T14:25:47",
          "2024-08-06T20:22:47",
          "2024-08-07T02:19:23",
          "2024-08-07T08:15:59",
          "2024-08-07T14:12:35",
          "2024-08-07T20:08:35",
          "2024-08-08T02:05:23",
          "2024-08-08T08:01:47",
          "2024-08-08T13:58:23",
          "2024-08-08T19:54:11",
          "2024-08-09T01:50:11",
          "2024-08-09T07:46:35",
          "2024-08-09T13:42:35",
          "2024-08-09T19:39:35",
          "2024-08-10T01:36:23",
          "2024-08-10T07:32:35",
          "2024-08-10T13:29:59",
          "2024-08-10T19:25:11",
          "2024-08-11T01:22:23",
          "2024-08-11T07:19:47",
          "2024-08-11T13:17:35",
          "2024-08-11T19:14:23",
          "2024-08-12T01:10:23",
          "2024-08-12T07:07:35",
          "2024-08-12T13:04:59",
          "2024-08-12T19:01:47",
          "2024-08-13T00:56:47",
          "2024-08-13T06:53:35",
          "2024-08-13T12:50:47",
          "2024-08-13T18:47:11",
          "2024-08-14T00:43:35",
          "2024-08-14T06:40:47",
          "2024-08-14T12:37:11",
          "2024-08-14T18:34:11",
          "2024-08-15T00:31:11",
          "2024-08-15T06:27:59",
          "2024-08-15T12:25:23",
          "2024-08-15T18:22:47",
          "2024-08-16T00:20:35",
          "2024-08-16T06:16:35",
          "2024-08-16T12:12:47",
          "2024-08-16T18:09:23",
          "2024-08-17T00:07:23",
          "2024-08-17T06:04:59",
          "2024-08-17T12:01:59",
          "2024-08-17T17:59:59",
          "2024-08-17T23:56:11",
          "2024-08-18T05:51:59",
          "2024-08-18T11:48:47",
          "2024-08-18T17:45:11",
          "2024-08-18T23:41:23",
          "2024-08-19T05:39:23",
          "2024-08-19T11:35:47",
          "2024-08-19T17:33:47",
          "2024-08-19T23:29:47",
          "2024-08-20T05:26:11",
          "2024-08-20T11:24:23",
          "2024-08-20T17:20:59",
          "2024-08-20T23:18:35",
          "2024-08-21T05:15:11",
          "2024-08-21T11:11:11",
          "2024-08-21T17:08:35",
          "2024-08-21T23:06:35",
          "2024-08-22T05:04:23",
          "2024-08-22T11:01:59",
          "2024-08-22T16:58:23",
          "2024-08-22T22:54:35",
          "2024-08-23T04:51:59",
          "2024-08-23T10:50:35",
          "2024-08-23T16:47:23",
          "2024-08-23T22:44:11",
          "2024-08-24T04:40:59",
          "2024-08-24T10:38:47",
          "2024-08-24T16:36:11",
          "2024-08-24T22:33:35",
          "2024-08-25T04:31:35",
          "2024-08-25T10:29:35",
          "2024-08-25T16:26:35",
          "2024-08-25T22:23:11",
          "2024-08-26T04:20:11",
          "2024-08-26T10:17:35",
          "2024-08-26T16:13:59",
          "2024-08-26T22:10:59",
          "2024-08-27T04:08:59",
          "2024-08-27T10:06:23",
          "2024-08-27T16:02:35",
          "2024-08-27T21:59:11",
          "2024-08-28T03:55:35",
          "2024-08-28T09:53:23",
          "2024-08-28T15:49:47",
          "2024-08-28T21:46:35",
          "2024-08-29T03:43:59",
          "2024-08-29T09:41:47",
          "2024-08-29T15:39:23",
          "2024-08-29T21:36:35",
          "2024-08-30T03:34:35",
          "2024-08-30T09:31:47",
          "2024-08-30T15:28:35",
          "2024-08-30T21:24:59",
          "2024-08-31T03:22:59",
          "2024-08-31T09:19:47",
          "2024-08-31T15:16:59",
          "2024-08-31T21:13:47",
          "2024-09-01T03:09:59",
          "2024-09-01T09:05:47",
          "2024-09-01T15:02:59",
          "2024-09-01T21:00:35",
          "2024-09-02T02:56:47",
          "2024-09-02T08:52:47",
          "2024-09-02T14:50:11",
          "2024-09-02T20:46:23",
          "2024-09-03T02:42:59",
          "2024-09-03T08:40:23",
          "2024-09-03T14:36:47",
          "2024-09-03T20:32:35"
         ],
         "xaxis": "x",
         "y": [
          1,
          1.0000346761654517,
          1.0000727096524245,
          1.0001094217246291,
          0.999969200517862,
          0.9999774486607589,
          1.000002346016296,
          1.0000235439643366,
          1.0003487286188442,
          1.0003718288283014,
          1.0003954172163265,
          1.0004152031743905,
          1.0007545490594096,
          1.0007781154955053,
          1.000801698635361,
          1.0008287127742481,
          1.0004897329788442,
          1.0004778198585622,
          1.0004981600773315,
          1.000524889566465,
          1.0006302923246042,
          1.0006331808677358,
          1.000653907080544,
          1.0006741747371122,
          1.0007724085852119,
          1.0007929948505248,
          1.0008158364193525,
          1.0008383209028082,
          1.00035278398986,
          1.0003721104873624,
          1.0004138292538716,
          1.0004349801139956,
          1.0010789545477536,
          1.0011082887107738,
          1.0011710913056915,
          1.0011923504998201,
          1.0007546799969662,
          1.0007872026443054,
          1.0008200540310728,
          1.000854591391913,
          1.0010046300028732,
          1.0010377580114798,
          1.0010703772979437,
          1.0011036245169,
          1.0012404086848832,
          1.0012744597993988,
          1.0013087321090712,
          1.0013531704288583,
          1.0013729686434119,
          1.0014110996069938,
          1.001416694065696,
          1.0014492266696011,
          1.0012211397707593,
          1.0012397859008337,
          1.0012740643522633,
          1.001310501373716,
          1.0012297502288563,
          1.0012493521681505,
          1.0012824594133207,
          1.001315153015492,
          1.0013281537935255,
          1.0013632635147747,
          1.001387220135219,
          1.0014341884307973,
          1.0014390168809855,
          1.001450525873828,
          1.0014810535069276,
          1.0015073509958072,
          1.0015413938754099,
          1.0015851578702644,
          1.0016140652823642,
          1.0016104388671763,
          1.0010542560838038,
          1.0010856171651148,
          1.0011113991609606,
          1.001147131603115,
          1.0017012439559394,
          1.0018873473688952,
          1.0018758602659985,
          1.0019805156466146,
          1.0010672638507312,
          1.0010093440347614,
          1.0010435589790172,
          1.000837711300187,
          1.000931663069872,
          1.0009504661857669,
          1.0009693640264734,
          1.0010904431551835,
          1.0011822796226548,
          1.0012112322052054,
          1.0012619796735474,
          1.0007677540689437,
          1.000744252350616,
          1.0007480976068752,
          1.000776030337031,
          1.0008389189665083,
          1.0008636440683691,
          1.0008483700123985,
          1.000842418913995,
          1.0008861058774,
          1.0009122660866292,
          1.0009328654012544,
          1.0009551969553374,
          1.0010575352354603,
          1.0011533885932542,
          1.0011994968824178,
          1.0011459556917575,
          1.0016078295596234,
          1.0016361790600554,
          1.0016137915731935,
          1.0016632649109205,
          1.0011715229515616,
          1.0011972752833571,
          1.0012204554552553,
          1.0012078415591876,
          1.0010234172638504,
          1.0010427904241448,
          1.0010673409441495,
          1.0010699423163814,
          1.0013599554603652,
          1.0014201324127567,
          1.0014525752507235,
          1.0014867672307335,
          1.0015342878054359,
          1.0015414363274993,
          1.001576919193765,
          1.0016418028667593,
          1.0017329455163937,
          1.0017422735948744,
          1.001803782426751,
          1.0018359479807757,
          1.001904724195727,
          1.0019852170427044,
          1.002018966497842,
          1.0020518225634767,
          1.0021810731964034,
          1.002216803230342,
          1.002250853970334,
          1.0022650581374621,
          1.0024185043406673,
          1.0024770224580015,
          1.0025126560275635,
          1.0025263625070218,
          1.0023774550580424,
          1.0023735304815515,
          1.002486263771988,
          1.0025210899743195,
          1.0026428381175532,
          1.0026307800968826,
          1.0025892126007916,
          1.0026103646259028,
          1.0027270122355791,
          1.0027432240044958,
          1.002721817962965,
          1.0027494505544274,
          1.0027871293393553,
          1.0028593376458759,
          1.0028651916200872,
          1.002820344803327,
          1.0028828081386918,
          1.0028495653085852,
          1.0029460160779928,
          1.0029918198085561,
          1.003007748794227,
          1.0030049833981398,
          1.003015346230517,
          1.003041404003117,
          1.0032050214748096,
          1.0032365677081065,
          1.0033310244780287,
          1.0032849022076615,
          1.0033990694433974,
          1.0034623200776998,
          1.0034107303212374,
          1.0034360124612407,
          1.0034115060873767,
          1.0034457000321668,
          1.0034500863731037,
          1.003488725037013,
          1.0044287102367893,
          1.0043911437401023,
          1.0043940242470961,
          1.0044215420518663,
          1.004126239002152,
          1.0040809158310326,
          1.0040944866970356,
          1.004185425134028,
          1.0048992304831819,
          1.0049277109415529,
          1.0051613606559877,
          1.005174929305991,
          1.005176656899299,
          1.006462920188481,
          1.0064987987995617,
          1.0064585284827796,
          1.0064842942692953,
          1.006177306968718,
          1.0061549031262977
         ],
         "yaxis": "y"
        }
       ],
       "layout": {
        "legend": {
         "title": {
          "text": "variable"
         },
         "tracegroupgap": 0
        },
        "margin": {
         "t": 60
        },
        "template": {
         "data": {
          "bar": [
           {
            "error_x": {
             "color": "#2a3f5f"
            },
            "error_y": {
             "color": "#2a3f5f"
            },
            "marker": {
             "line": {
              "color": "#E5ECF6",
              "width": 0.5
             },
             "pattern": {
              "fillmode": "overlay",
              "size": 10,
              "solidity": 0.2
             }
            },
            "type": "bar"
           }
          ],
          "barpolar": [
           {
            "marker": {
             "line": {
              "color": "#E5ECF6",
              "width": 0.5
             },
             "pattern": {
              "fillmode": "overlay",
              "size": 10,
              "solidity": 0.2
             }
            },
            "type": "barpolar"
           }
          ],
          "carpet": [
           {
            "aaxis": {
             "endlinecolor": "#2a3f5f",
             "gridcolor": "white",
             "linecolor": "white",
             "minorgridcolor": "white",
             "startlinecolor": "#2a3f5f"
            },
            "baxis": {
             "endlinecolor": "#2a3f5f",
             "gridcolor": "white",
             "linecolor": "white",
             "minorgridcolor": "white",
             "startlinecolor": "#2a3f5f"
            },
            "type": "carpet"
           }
          ],
          "choropleth": [
           {
            "colorbar": {
             "outlinewidth": 0,
             "ticks": ""
            },
            "type": "choropleth"
           }
          ],
          "contour": [
           {
            "colorbar": {
             "outlinewidth": 0,
             "ticks": ""
            },
            "colorscale": [
             [
              0,
              "#0d0887"
             ],
             [
              0.1111111111111111,
              "#46039f"
             ],
             [
              0.2222222222222222,
              "#7201a8"
             ],
             [
              0.3333333333333333,
              "#9c179e"
             ],
             [
              0.4444444444444444,
              "#bd3786"
             ],
             [
              0.5555555555555556,
              "#d8576b"
             ],
             [
              0.6666666666666666,
              "#ed7953"
             ],
             [
              0.7777777777777778,
              "#fb9f3a"
             ],
             [
              0.8888888888888888,
              "#fdca26"
             ],
             [
              1,
              "#f0f921"
             ]
            ],
            "type": "contour"
           }
          ],
          "contourcarpet": [
           {
            "colorbar": {
             "outlinewidth": 0,
             "ticks": ""
            },
            "type": "contourcarpet"
           }
          ],
          "heatmap": [
           {
            "colorbar": {
             "outlinewidth": 0,
             "ticks": ""
            },
            "colorscale": [
             [
              0,
              "#0d0887"
             ],
             [
              0.1111111111111111,
              "#46039f"
             ],
             [
              0.2222222222222222,
              "#7201a8"
             ],
             [
              0.3333333333333333,
              "#9c179e"
             ],
             [
              0.4444444444444444,
              "#bd3786"
             ],
             [
              0.5555555555555556,
              "#d8576b"
             ],
             [
              0.6666666666666666,
              "#ed7953"
             ],
             [
              0.7777777777777778,
              "#fb9f3a"
             ],
             [
              0.8888888888888888,
              "#fdca26"
             ],
             [
              1,
              "#f0f921"
             ]
            ],
            "type": "heatmap"
           }
          ],
          "heatmapgl": [
           {
            "colorbar": {
             "outlinewidth": 0,
             "ticks": ""
            },
            "colorscale": [
             [
              0,
              "#0d0887"
             ],
             [
              0.1111111111111111,
              "#46039f"
             ],
             [
              0.2222222222222222,
              "#7201a8"
             ],
             [
              0.3333333333333333,
              "#9c179e"
             ],
             [
              0.4444444444444444,
              "#bd3786"
             ],
             [
              0.5555555555555556,
              "#d8576b"
             ],
             [
              0.6666666666666666,
              "#ed7953"
             ],
             [
              0.7777777777777778,
              "#fb9f3a"
             ],
             [
              0.8888888888888888,
              "#fdca26"
             ],
             [
              1,
              "#f0f921"
             ]
            ],
            "type": "heatmapgl"
           }
          ],
          "histogram": [
           {
            "marker": {
             "pattern": {
              "fillmode": "overlay",
              "size": 10,
              "solidity": 0.2
             }
            },
            "type": "histogram"
           }
          ],
          "histogram2d": [
           {
            "colorbar": {
             "outlinewidth": 0,
             "ticks": ""
            },
            "colorscale": [
             [
              0,
              "#0d0887"
             ],
             [
              0.1111111111111111,
              "#46039f"
             ],
             [
              0.2222222222222222,
              "#7201a8"
             ],
             [
              0.3333333333333333,
              "#9c179e"
             ],
             [
              0.4444444444444444,
              "#bd3786"
             ],
             [
              0.5555555555555556,
              "#d8576b"
             ],
             [
              0.6666666666666666,
              "#ed7953"
             ],
             [
              0.7777777777777778,
              "#fb9f3a"
             ],
             [
              0.8888888888888888,
              "#fdca26"
             ],
             [
              1,
              "#f0f921"
             ]
            ],
            "type": "histogram2d"
           }
          ],
          "histogram2dcontour": [
           {
            "colorbar": {
             "outlinewidth": 0,
             "ticks": ""
            },
            "colorscale": [
             [
              0,
              "#0d0887"
             ],
             [
              0.1111111111111111,
              "#46039f"
             ],
             [
              0.2222222222222222,
              "#7201a8"
             ],
             [
              0.3333333333333333,
              "#9c179e"
             ],
             [
              0.4444444444444444,
              "#bd3786"
             ],
             [
              0.5555555555555556,
              "#d8576b"
             ],
             [
              0.6666666666666666,
              "#ed7953"
             ],
             [
              0.7777777777777778,
              "#fb9f3a"
             ],
             [
              0.8888888888888888,
              "#fdca26"
             ],
             [
              1,
              "#f0f921"
             ]
            ],
            "type": "histogram2dcontour"
           }
          ],
          "mesh3d": [
           {
            "colorbar": {
             "outlinewidth": 0,
             "ticks": ""
            },
            "type": "mesh3d"
           }
          ],
          "parcoords": [
           {
            "line": {
             "colorbar": {
              "outlinewidth": 0,
              "ticks": ""
             }
            },
            "type": "parcoords"
           }
          ],
          "pie": [
           {
            "automargin": true,
            "type": "pie"
           }
          ],
          "scatter": [
           {
            "fillpattern": {
             "fillmode": "overlay",
             "size": 10,
             "solidity": 0.2
            },
            "type": "scatter"
           }
          ],
          "scatter3d": [
           {
            "line": {
             "colorbar": {
              "outlinewidth": 0,
              "ticks": ""
             }
            },
            "marker": {
             "colorbar": {
              "outlinewidth": 0,
              "ticks": ""
             }
            },
            "type": "scatter3d"
           }
          ],
          "scattercarpet": [
           {
            "marker": {
             "colorbar": {
              "outlinewidth": 0,
              "ticks": ""
             }
            },
            "type": "scattercarpet"
           }
          ],
          "scattergeo": [
           {
            "marker": {
             "colorbar": {
              "outlinewidth": 0,
              "ticks": ""
             }
            },
            "type": "scattergeo"
           }
          ],
          "scattergl": [
           {
            "marker": {
             "colorbar": {
              "outlinewidth": 0,
              "ticks": ""
             }
            },
            "type": "scattergl"
           }
          ],
          "scattermapbox": [
           {
            "marker": {
             "colorbar": {
              "outlinewidth": 0,
              "ticks": ""
             }
            },
            "type": "scattermapbox"
           }
          ],
          "scatterpolar": [
           {
            "marker": {
             "colorbar": {
              "outlinewidth": 0,
              "ticks": ""
             }
            },
            "type": "scatterpolar"
           }
          ],
          "scatterpolargl": [
           {
            "marker": {
             "colorbar": {
              "outlinewidth": 0,
              "ticks": ""
             }
            },
            "type": "scatterpolargl"
           }
          ],
          "scatterternary": [
           {
            "marker": {
             "colorbar": {
              "outlinewidth": 0,
              "ticks": ""
             }
            },
            "type": "scatterternary"
           }
          ],
          "surface": [
           {
            "colorbar": {
             "outlinewidth": 0,
             "ticks": ""
            },
            "colorscale": [
             [
              0,
              "#0d0887"
             ],
             [
              0.1111111111111111,
              "#46039f"
             ],
             [
              0.2222222222222222,
              "#7201a8"
             ],
             [
              0.3333333333333333,
              "#9c179e"
             ],
             [
              0.4444444444444444,
              "#bd3786"
             ],
             [
              0.5555555555555556,
              "#d8576b"
             ],
             [
              0.6666666666666666,
              "#ed7953"
             ],
             [
              0.7777777777777778,
              "#fb9f3a"
             ],
             [
              0.8888888888888888,
              "#fdca26"
             ],
             [
              1,
              "#f0f921"
             ]
            ],
            "type": "surface"
           }
          ],
          "table": [
           {
            "cells": {
             "fill": {
              "color": "#EBF0F8"
             },
             "line": {
              "color": "white"
             }
            },
            "header": {
             "fill": {
              "color": "#C8D4E3"
             },
             "line": {
              "color": "white"
             }
            },
            "type": "table"
           }
          ]
         },
         "layout": {
          "annotationdefaults": {
           "arrowcolor": "#2a3f5f",
           "arrowhead": 0,
           "arrowwidth": 1
          },
          "autotypenumbers": "strict",
          "coloraxis": {
           "colorbar": {
            "outlinewidth": 0,
            "ticks": ""
           }
          },
          "colorscale": {
           "diverging": [
            [
             0,
             "#8e0152"
            ],
            [
             0.1,
             "#c51b7d"
            ],
            [
             0.2,
             "#de77ae"
            ],
            [
             0.3,
             "#f1b6da"
            ],
            [
             0.4,
             "#fde0ef"
            ],
            [
             0.5,
             "#f7f7f7"
            ],
            [
             0.6,
             "#e6f5d0"
            ],
            [
             0.7,
             "#b8e186"
            ],
            [
             0.8,
             "#7fbc41"
            ],
            [
             0.9,
             "#4d9221"
            ],
            [
             1,
             "#276419"
            ]
           ],
           "sequential": [
            [
             0,
             "#0d0887"
            ],
            [
             0.1111111111111111,
             "#46039f"
            ],
            [
             0.2222222222222222,
             "#7201a8"
            ],
            [
             0.3333333333333333,
             "#9c179e"
            ],
            [
             0.4444444444444444,
             "#bd3786"
            ],
            [
             0.5555555555555556,
             "#d8576b"
            ],
            [
             0.6666666666666666,
             "#ed7953"
            ],
            [
             0.7777777777777778,
             "#fb9f3a"
            ],
            [
             0.8888888888888888,
             "#fdca26"
            ],
            [
             1,
             "#f0f921"
            ]
           ],
           "sequentialminus": [
            [
             0,
             "#0d0887"
            ],
            [
             0.1111111111111111,
             "#46039f"
            ],
            [
             0.2222222222222222,
             "#7201a8"
            ],
            [
             0.3333333333333333,
             "#9c179e"
            ],
            [
             0.4444444444444444,
             "#bd3786"
            ],
            [
             0.5555555555555556,
             "#d8576b"
            ],
            [
             0.6666666666666666,
             "#ed7953"
            ],
            [
             0.7777777777777778,
             "#fb9f3a"
            ],
            [
             0.8888888888888888,
             "#fdca26"
            ],
            [
             1,
             "#f0f921"
            ]
           ]
          },
          "colorway": [
           "#636efa",
           "#EF553B",
           "#00cc96",
           "#ab63fa",
           "#FFA15A",
           "#19d3f3",
           "#FF6692",
           "#B6E880",
           "#FF97FF",
           "#FECB52"
          ],
          "font": {
           "color": "#2a3f5f"
          },
          "geo": {
           "bgcolor": "white",
           "lakecolor": "white",
           "landcolor": "#E5ECF6",
           "showlakes": true,
           "showland": true,
           "subunitcolor": "white"
          },
          "hoverlabel": {
           "align": "left"
          },
          "hovermode": "closest",
          "mapbox": {
           "style": "light"
          },
          "paper_bgcolor": "white",
          "plot_bgcolor": "#E5ECF6",
          "polar": {
           "angularaxis": {
            "gridcolor": "white",
            "linecolor": "white",
            "ticks": ""
           },
           "bgcolor": "#E5ECF6",
           "radialaxis": {
            "gridcolor": "white",
            "linecolor": "white",
            "ticks": ""
           }
          },
          "scene": {
           "xaxis": {
            "backgroundcolor": "#E5ECF6",
            "gridcolor": "white",
            "gridwidth": 2,
            "linecolor": "white",
            "showbackground": true,
            "ticks": "",
            "zerolinecolor": "white"
           },
           "yaxis": {
            "backgroundcolor": "#E5ECF6",
            "gridcolor": "white",
            "gridwidth": 2,
            "linecolor": "white",
            "showbackground": true,
            "ticks": "",
            "zerolinecolor": "white"
           },
           "zaxis": {
            "backgroundcolor": "#E5ECF6",
            "gridcolor": "white",
            "gridwidth": 2,
            "linecolor": "white",
            "showbackground": true,
            "ticks": "",
            "zerolinecolor": "white"
           }
          },
          "shapedefaults": {
           "line": {
            "color": "#2a3f5f"
           }
          },
          "ternary": {
           "aaxis": {
            "gridcolor": "white",
            "linecolor": "white",
            "ticks": ""
           },
           "baxis": {
            "gridcolor": "white",
            "linecolor": "white",
            "ticks": ""
           },
           "bgcolor": "#E5ECF6",
           "caxis": {
            "gridcolor": "white",
            "linecolor": "white",
            "ticks": ""
           }
          },
          "title": {
           "x": 0.05
          },
          "xaxis": {
           "automargin": true,
           "gridcolor": "white",
           "linecolor": "white",
           "ticks": "",
           "title": {
            "standoff": 15
           },
           "zerolinecolor": "white",
           "zerolinewidth": 2
          },
          "yaxis": {
           "automargin": true,
           "gridcolor": "white",
           "linecolor": "white",
           "ticks": "",
           "title": {
            "standoff": 15
           },
           "zerolinecolor": "white",
           "zerolinewidth": 2
          }
         }
        },
        "xaxis": {
         "anchor": "y",
         "domain": [
          0,
          1
         ],
         "title": {
          "text": "timestamp"
         }
        },
        "yaxis": {
         "anchor": "x",
         "domain": [
          0,
          1
         ],
         "title": {
          "text": "value"
         }
        }
       }
      }
     },
     "metadata": {},
     "output_type": "display_data"
    },
    {
     "name": "stdout",
     "output_type": "stream",
     "text": [
      "extra_reward_per_token_cols=['AURA|| 0 extraRewardPerToken'] extra_reward_to_eth_cols=['AURA_to_ETH']\n"
     ]
    },
    {
     "data": {
      "application/vnd.plotly.v1+json": {
       "config": {
        "plotlyServerURL": "https://plot.ly"
       },
       "data": [
        {
         "hovertemplate": "variable=Balancer rsETH / ETHx Growth of a ETH<br>timestamp=%{x}<br>value=%{y}<extra></extra>",
         "legendgroup": "Balancer rsETH / ETHx Growth of a ETH",
         "line": {
          "color": "#636efa",
          "dash": "solid"
         },
         "marker": {
          "symbol": "circle"
         },
         "mode": "lines",
         "name": "Balancer rsETH / ETHx Growth of a ETH",
         "orientation": "v",
         "showlegend": true,
         "type": "scatter",
         "x": [
          "2024-07-17T00:53:47",
          "2024-07-17T06:50:11",
          "2024-07-17T12:46:35",
          "2024-07-17T18:43:35",
          "2024-07-18T00:40:11",
          "2024-07-18T06:37:35",
          "2024-07-18T12:34:59",
          "2024-07-18T18:31:35",
          "2024-07-19T00:27:59",
          "2024-07-19T06:24:23",
          "2024-07-19T12:20:35",
          "2024-07-19T18:17:11",
          "2024-07-20T00:13:23",
          "2024-07-20T06:10:35",
          "2024-07-20T12:07:35",
          "2024-07-20T18:04:23",
          "2024-07-21T00:00:47",
          "2024-07-21T05:57:23",
          "2024-07-21T11:53:23",
          "2024-07-21T17:50:35",
          "2024-07-21T23:47:35",
          "2024-07-22T05:44:23",
          "2024-07-22T11:41:35",
          "2024-07-22T17:38:59",
          "2024-07-22T23:35:47",
          "2024-07-23T05:32:47",
          "2024-07-23T11:29:35",
          "2024-07-23T17:25:47",
          "2024-07-23T23:22:35",
          "2024-07-24T05:18:47",
          "2024-07-24T11:15:11",
          "2024-07-24T17:12:23",
          "2024-07-24T23:09:59",
          "2024-07-25T05:06:35",
          "2024-07-25T11:02:47",
          "2024-07-25T16:59:47",
          "2024-07-25T22:57:23",
          "2024-07-26T04:54:47",
          "2024-07-26T10:50:47",
          "2024-07-26T16:47:47",
          "2024-07-26T22:44:47",
          "2024-07-27T04:42:11",
          "2024-07-27T10:39:11",
          "2024-07-27T16:35:11",
          "2024-07-27T22:32:35",
          "2024-07-28T04:29:59",
          "2024-07-28T10:26:35",
          "2024-07-28T16:22:35",
          "2024-07-28T22:18:11",
          "2024-07-29T04:15:11",
          "2024-07-29T10:11:59",
          "2024-07-29T16:07:47",
          "2024-07-29T22:03:47",
          "2024-07-30T04:01:23",
          "2024-07-30T10:01:11",
          "2024-07-30T15:58:35",
          "2024-07-30T21:55:35",
          "2024-07-31T03:52:11",
          "2024-07-31T09:48:35",
          "2024-07-31T15:45:11",
          "2024-07-31T21:42:47",
          "2024-08-01T03:39:11",
          "2024-08-01T09:35:35",
          "2024-08-01T15:32:35",
          "2024-08-01T21:29:23",
          "2024-08-02T03:26:11",
          "2024-08-02T09:22:59",
          "2024-08-02T15:19:59",
          "2024-08-02T21:18:11",
          "2024-08-03T03:15:11",
          "2024-08-03T09:12:35",
          "2024-08-03T15:08:47",
          "2024-08-03T21:05:11",
          "2024-08-04T03:01:47",
          "2024-08-04T08:57:23",
          "2024-08-04T14:53:23",
          "2024-08-04T20:49:59",
          "2024-08-05T02:45:47",
          "2024-08-05T08:41:47",
          "2024-08-05T14:38:47",
          "2024-08-05T20:36:11",
          "2024-08-06T02:32:23",
          "2024-08-06T08:28:47",
          "2024-08-06T14:25:47",
          "2024-08-06T20:22:47",
          "2024-08-07T02:19:23",
          "2024-08-07T08:15:59",
          "2024-08-07T14:12:35",
          "2024-08-07T20:08:35",
          "2024-08-08T02:05:23",
          "2024-08-08T08:01:47",
          "2024-08-08T13:58:23",
          "2024-08-08T19:54:11",
          "2024-08-09T01:50:11",
          "2024-08-09T07:46:35",
          "2024-08-09T13:42:35",
          "2024-08-09T19:39:35",
          "2024-08-10T01:36:23",
          "2024-08-10T07:32:35",
          "2024-08-10T13:29:59",
          "2024-08-10T19:25:11",
          "2024-08-11T01:22:23",
          "2024-08-11T07:19:47",
          "2024-08-11T13:17:35",
          "2024-08-11T19:14:23",
          "2024-08-12T01:10:23",
          "2024-08-12T07:07:35",
          "2024-08-12T13:04:59",
          "2024-08-12T19:01:47",
          "2024-08-13T00:56:47",
          "2024-08-13T06:53:35",
          "2024-08-13T12:50:47",
          "2024-08-13T18:47:11",
          "2024-08-14T00:43:35",
          "2024-08-14T06:40:47",
          "2024-08-14T12:37:11",
          "2024-08-14T18:34:11",
          "2024-08-15T00:31:11",
          "2024-08-15T06:27:59",
          "2024-08-15T12:25:23",
          "2024-08-15T18:22:47",
          "2024-08-16T00:20:35",
          "2024-08-16T06:16:35",
          "2024-08-16T12:12:47",
          "2024-08-16T18:09:23",
          "2024-08-17T00:07:23",
          "2024-08-17T06:04:59",
          "2024-08-17T12:01:59",
          "2024-08-17T17:59:59",
          "2024-08-17T23:56:11",
          "2024-08-18T05:51:59",
          "2024-08-18T11:48:47",
          "2024-08-18T17:45:11",
          "2024-08-18T23:41:23",
          "2024-08-19T05:39:23",
          "2024-08-19T11:35:47",
          "2024-08-19T17:33:47",
          "2024-08-19T23:29:47",
          "2024-08-20T05:26:11",
          "2024-08-20T11:24:23",
          "2024-08-20T17:20:59",
          "2024-08-20T23:18:35",
          "2024-08-21T05:15:11",
          "2024-08-21T11:11:11",
          "2024-08-21T17:08:35",
          "2024-08-21T23:06:35",
          "2024-08-22T05:04:23",
          "2024-08-22T11:01:59",
          "2024-08-22T16:58:23",
          "2024-08-22T22:54:35",
          "2024-08-23T04:51:59",
          "2024-08-23T10:50:35",
          "2024-08-23T16:47:23",
          "2024-08-23T22:44:11",
          "2024-08-24T04:40:59",
          "2024-08-24T10:38:47",
          "2024-08-24T16:36:11",
          "2024-08-24T22:33:35",
          "2024-08-25T04:31:35",
          "2024-08-25T10:29:35",
          "2024-08-25T16:26:35",
          "2024-08-25T22:23:11",
          "2024-08-26T04:20:11",
          "2024-08-26T10:17:35",
          "2024-08-26T16:13:59",
          "2024-08-26T22:10:59",
          "2024-08-27T04:08:59",
          "2024-08-27T10:06:23",
          "2024-08-27T16:02:35",
          "2024-08-27T21:59:11",
          "2024-08-28T03:55:35",
          "2024-08-28T09:53:23",
          "2024-08-28T15:49:47",
          "2024-08-28T21:46:35",
          "2024-08-29T03:43:59",
          "2024-08-29T09:41:47",
          "2024-08-29T15:39:23",
          "2024-08-29T21:36:35",
          "2024-08-30T03:34:35",
          "2024-08-30T09:31:47",
          "2024-08-30T15:28:35",
          "2024-08-30T21:24:59",
          "2024-08-31T03:22:59",
          "2024-08-31T09:19:47",
          "2024-08-31T15:16:59",
          "2024-08-31T21:13:47",
          "2024-09-01T03:09:59",
          "2024-09-01T09:05:47",
          "2024-09-01T15:02:59",
          "2024-09-01T21:00:35",
          "2024-09-02T02:56:47",
          "2024-09-02T08:52:47",
          "2024-09-02T14:50:11",
          "2024-09-02T20:46:23",
          "2024-09-03T02:42:59",
          "2024-09-03T08:40:23",
          "2024-09-03T14:36:47",
          "2024-09-03T20:32:35"
         ],
         "xaxis": "x",
         "y": [
          1,
          1.0000784969490482,
          1.0003724223305153,
          1.000433291597756,
          1.0005009023785183,
          1.0005660927517264,
          1.0009518202911276,
          1.001014145046953,
          1.0010564878565957,
          1.0011032999679603,
          1.001729379826299,
          1.0017684676106764,
          1.0018330243031575,
          1.0018526017651812,
          1.0015393087662787,
          1.001635078695647,
          1.001695382118715,
          1.0017746898681947,
          1.0017560675232087,
          1.0017703598557128,
          1.0018495716746039,
          1.0019305533595988,
          1.002011625831236,
          1.0019373330067416,
          1.0020183543132832,
          1.0021059244706692,
          1.0021917013374972,
          1.0022138264375842,
          1.0022659129476623,
          1.002353259177969,
          1.0024972805411851,
          1.0026415696823507,
          1.0026990589329041,
          1.002806937244026,
          1.002898006035645,
          1.0030344141515901,
          1.003095316117272,
          1.0031846872097474,
          1.0032707705225075,
          1.0035666191549908,
          1.0036925122369091,
          1.0037638980723886,
          1.0038206022219607,
          1.0041319283715118,
          1.004131082386499,
          1.0042002421615162,
          1.0042692471300978,
          1.004275799133684,
          1.0042391873690684,
          1.0043079259391314,
          1.0043753213538864,
          1.004474842189412,
          1.0044950406085804,
          1.004482465499471,
          1.004527688342404,
          1.004787287197401,
          1.0048366105072055,
          1.0048823200012948,
          1.0049280038591004,
          1.0050607843272843,
          1.005040009849398,
          1.0050395253257058,
          1.00508289908544,
          1.0051715427769863,
          1.0052775247000505,
          1.005306078555522,
          1.0053680884508271,
          1.0054300588259655,
          1.005523316694085,
          1.0056472688282263,
          1.005294411435487,
          1.005357164213427,
          1.0054929321643193,
          1.0055560630871563,
          1.005619016974315,
          1.0058653891170652,
          1.0057512386178533,
          0.9871230339330739,
          0.9965495288795256,
          0.9967953160436179,
          0.9984127075119867,
          0.998146993297385,
          1.0045318019613236,
          1.0045940392845238,
          1.004799991320498,
          1.0048869208493865,
          1.0048181258873583,
          1.0048587770784128,
          1.0051183395715697,
          1.00515998190412,
          1.005572170252951,
          1.0055671982267393,
          1.005490358276492,
          1.0054679121923207,
          1.0056842103483365,
          1.0057955152147209,
          1.005834504421982,
          1.0058243326565481,
          1.0057793080370265,
          1.0058950124528796,
          1.0059325117973554,
          1.00597119147736,
          1.0062351320090912,
          1.006195033578967,
          1.0061968119799325,
          1.0061783300124223,
          1.006175856412696,
          1.0060140364080776,
          1.0060517398099895,
          1.0060420264067236,
          1.0061288151331311,
          1.005914942521569,
          1.0059526224614401,
          1.005974886560867,
          1.005963805234633,
          1.0062270818505505,
          1.0062599802416663,
          1.0062936420789153,
          1.0063041289013908,
          1.006594746483366,
          1.0066746770288444,
          1.006716367287094,
          1.0067466806928111,
          1.0068127201394903,
          1.0067869675271695,
          1.0068177592949525,
          1.0069019305888127,
          1.0073895466096185,
          1.0073724075203316,
          1.0074877226152674,
          1.0074370893952207,
          1.0078891873751996,
          1.007996854497321,
          1.0080262104512978,
          1.0080557147509153,
          1.0083432559792693,
          1.0083840978458505,
          1.0084036508249232,
          1.0084338731254938,
          1.008655555489477,
          1.0087289738580631,
          1.008749870090847,
          1.0087691177877365,
          1.0090692178063108,
          1.0090615936026075,
          1.0092786666317533,
          1.0092949250490437,
          1.010080635414996,
          1.0101065078309237,
          1.0099605986718942,
          1.0099965035954892,
          1.0106069579117767,
          1.0106518223893841,
          1.0106555264958954,
          1.0107014905916476,
          1.0107955870166434,
          1.010946294502798,
          1.010924506771734,
          1.0108635171399682,
          1.0111370483227646,
          1.0110557961547906,
          1.0112411579820035,
          1.011302584434616,
          1.0115626824291768,
          1.0116122580236901,
          1.011634163802131,
          1.0116855340161268,
          1.0117433044529813,
          1.0117944334142108,
          1.0119658362409671,
          1.0119077752501806,
          1.0119917197053314,
          1.0121129147894246,
          1.0120539122846375,
          1.0121124762095028,
          1.0122180535465855,
          1.0122765261356208,
          1.012265543117314,
          1.0123135112909227,
          1.0125239666073766,
          1.0124531361855398,
          1.0124555898779288,
          1.012505569697871,
          1.0125118178175723,
          1.0125146105149954,
          1.0124435162732839,
          1.0124764085910967,
          1.0125888109474501,
          1.0126037850965905,
          1.0126623508383639,
          1.0127068817882396,
          1.0127650369151668,
          1.0128724095070756,
          1.0129171702455728,
          1.0130086138096008,
          1.0132463610090872,
          1.013581755903137,
          1.013477666747998
         ],
         "yaxis": "y"
        }
       ],
       "layout": {
        "legend": {
         "title": {
          "text": "variable"
         },
         "tracegroupgap": 0
        },
        "margin": {
         "t": 60
        },
        "template": {
         "data": {
          "bar": [
           {
            "error_x": {
             "color": "#2a3f5f"
            },
            "error_y": {
             "color": "#2a3f5f"
            },
            "marker": {
             "line": {
              "color": "#E5ECF6",
              "width": 0.5
             },
             "pattern": {
              "fillmode": "overlay",
              "size": 10,
              "solidity": 0.2
             }
            },
            "type": "bar"
           }
          ],
          "barpolar": [
           {
            "marker": {
             "line": {
              "color": "#E5ECF6",
              "width": 0.5
             },
             "pattern": {
              "fillmode": "overlay",
              "size": 10,
              "solidity": 0.2
             }
            },
            "type": "barpolar"
           }
          ],
          "carpet": [
           {
            "aaxis": {
             "endlinecolor": "#2a3f5f",
             "gridcolor": "white",
             "linecolor": "white",
             "minorgridcolor": "white",
             "startlinecolor": "#2a3f5f"
            },
            "baxis": {
             "endlinecolor": "#2a3f5f",
             "gridcolor": "white",
             "linecolor": "white",
             "minorgridcolor": "white",
             "startlinecolor": "#2a3f5f"
            },
            "type": "carpet"
           }
          ],
          "choropleth": [
           {
            "colorbar": {
             "outlinewidth": 0,
             "ticks": ""
            },
            "type": "choropleth"
           }
          ],
          "contour": [
           {
            "colorbar": {
             "outlinewidth": 0,
             "ticks": ""
            },
            "colorscale": [
             [
              0,
              "#0d0887"
             ],
             [
              0.1111111111111111,
              "#46039f"
             ],
             [
              0.2222222222222222,
              "#7201a8"
             ],
             [
              0.3333333333333333,
              "#9c179e"
             ],
             [
              0.4444444444444444,
              "#bd3786"
             ],
             [
              0.5555555555555556,
              "#d8576b"
             ],
             [
              0.6666666666666666,
              "#ed7953"
             ],
             [
              0.7777777777777778,
              "#fb9f3a"
             ],
             [
              0.8888888888888888,
              "#fdca26"
             ],
             [
              1,
              "#f0f921"
             ]
            ],
            "type": "contour"
           }
          ],
          "contourcarpet": [
           {
            "colorbar": {
             "outlinewidth": 0,
             "ticks": ""
            },
            "type": "contourcarpet"
           }
          ],
          "heatmap": [
           {
            "colorbar": {
             "outlinewidth": 0,
             "ticks": ""
            },
            "colorscale": [
             [
              0,
              "#0d0887"
             ],
             [
              0.1111111111111111,
              "#46039f"
             ],
             [
              0.2222222222222222,
              "#7201a8"
             ],
             [
              0.3333333333333333,
              "#9c179e"
             ],
             [
              0.4444444444444444,
              "#bd3786"
             ],
             [
              0.5555555555555556,
              "#d8576b"
             ],
             [
              0.6666666666666666,
              "#ed7953"
             ],
             [
              0.7777777777777778,
              "#fb9f3a"
             ],
             [
              0.8888888888888888,
              "#fdca26"
             ],
             [
              1,
              "#f0f921"
             ]
            ],
            "type": "heatmap"
           }
          ],
          "heatmapgl": [
           {
            "colorbar": {
             "outlinewidth": 0,
             "ticks": ""
            },
            "colorscale": [
             [
              0,
              "#0d0887"
             ],
             [
              0.1111111111111111,
              "#46039f"
             ],
             [
              0.2222222222222222,
              "#7201a8"
             ],
             [
              0.3333333333333333,
              "#9c179e"
             ],
             [
              0.4444444444444444,
              "#bd3786"
             ],
             [
              0.5555555555555556,
              "#d8576b"
             ],
             [
              0.6666666666666666,
              "#ed7953"
             ],
             [
              0.7777777777777778,
              "#fb9f3a"
             ],
             [
              0.8888888888888888,
              "#fdca26"
             ],
             [
              1,
              "#f0f921"
             ]
            ],
            "type": "heatmapgl"
           }
          ],
          "histogram": [
           {
            "marker": {
             "pattern": {
              "fillmode": "overlay",
              "size": 10,
              "solidity": 0.2
             }
            },
            "type": "histogram"
           }
          ],
          "histogram2d": [
           {
            "colorbar": {
             "outlinewidth": 0,
             "ticks": ""
            },
            "colorscale": [
             [
              0,
              "#0d0887"
             ],
             [
              0.1111111111111111,
              "#46039f"
             ],
             [
              0.2222222222222222,
              "#7201a8"
             ],
             [
              0.3333333333333333,
              "#9c179e"
             ],
             [
              0.4444444444444444,
              "#bd3786"
             ],
             [
              0.5555555555555556,
              "#d8576b"
             ],
             [
              0.6666666666666666,
              "#ed7953"
             ],
             [
              0.7777777777777778,
              "#fb9f3a"
             ],
             [
              0.8888888888888888,
              "#fdca26"
             ],
             [
              1,
              "#f0f921"
             ]
            ],
            "type": "histogram2d"
           }
          ],
          "histogram2dcontour": [
           {
            "colorbar": {
             "outlinewidth": 0,
             "ticks": ""
            },
            "colorscale": [
             [
              0,
              "#0d0887"
             ],
             [
              0.1111111111111111,
              "#46039f"
             ],
             [
              0.2222222222222222,
              "#7201a8"
             ],
             [
              0.3333333333333333,
              "#9c179e"
             ],
             [
              0.4444444444444444,
              "#bd3786"
             ],
             [
              0.5555555555555556,
              "#d8576b"
             ],
             [
              0.6666666666666666,
              "#ed7953"
             ],
             [
              0.7777777777777778,
              "#fb9f3a"
             ],
             [
              0.8888888888888888,
              "#fdca26"
             ],
             [
              1,
              "#f0f921"
             ]
            ],
            "type": "histogram2dcontour"
           }
          ],
          "mesh3d": [
           {
            "colorbar": {
             "outlinewidth": 0,
             "ticks": ""
            },
            "type": "mesh3d"
           }
          ],
          "parcoords": [
           {
            "line": {
             "colorbar": {
              "outlinewidth": 0,
              "ticks": ""
             }
            },
            "type": "parcoords"
           }
          ],
          "pie": [
           {
            "automargin": true,
            "type": "pie"
           }
          ],
          "scatter": [
           {
            "fillpattern": {
             "fillmode": "overlay",
             "size": 10,
             "solidity": 0.2
            },
            "type": "scatter"
           }
          ],
          "scatter3d": [
           {
            "line": {
             "colorbar": {
              "outlinewidth": 0,
              "ticks": ""
             }
            },
            "marker": {
             "colorbar": {
              "outlinewidth": 0,
              "ticks": ""
             }
            },
            "type": "scatter3d"
           }
          ],
          "scattercarpet": [
           {
            "marker": {
             "colorbar": {
              "outlinewidth": 0,
              "ticks": ""
             }
            },
            "type": "scattercarpet"
           }
          ],
          "scattergeo": [
           {
            "marker": {
             "colorbar": {
              "outlinewidth": 0,
              "ticks": ""
             }
            },
            "type": "scattergeo"
           }
          ],
          "scattergl": [
           {
            "marker": {
             "colorbar": {
              "outlinewidth": 0,
              "ticks": ""
             }
            },
            "type": "scattergl"
           }
          ],
          "scattermapbox": [
           {
            "marker": {
             "colorbar": {
              "outlinewidth": 0,
              "ticks": ""
             }
            },
            "type": "scattermapbox"
           }
          ],
          "scatterpolar": [
           {
            "marker": {
             "colorbar": {
              "outlinewidth": 0,
              "ticks": ""
             }
            },
            "type": "scatterpolar"
           }
          ],
          "scatterpolargl": [
           {
            "marker": {
             "colorbar": {
              "outlinewidth": 0,
              "ticks": ""
             }
            },
            "type": "scatterpolargl"
           }
          ],
          "scatterternary": [
           {
            "marker": {
             "colorbar": {
              "outlinewidth": 0,
              "ticks": ""
             }
            },
            "type": "scatterternary"
           }
          ],
          "surface": [
           {
            "colorbar": {
             "outlinewidth": 0,
             "ticks": ""
            },
            "colorscale": [
             [
              0,
              "#0d0887"
             ],
             [
              0.1111111111111111,
              "#46039f"
             ],
             [
              0.2222222222222222,
              "#7201a8"
             ],
             [
              0.3333333333333333,
              "#9c179e"
             ],
             [
              0.4444444444444444,
              "#bd3786"
             ],
             [
              0.5555555555555556,
              "#d8576b"
             ],
             [
              0.6666666666666666,
              "#ed7953"
             ],
             [
              0.7777777777777778,
              "#fb9f3a"
             ],
             [
              0.8888888888888888,
              "#fdca26"
             ],
             [
              1,
              "#f0f921"
             ]
            ],
            "type": "surface"
           }
          ],
          "table": [
           {
            "cells": {
             "fill": {
              "color": "#EBF0F8"
             },
             "line": {
              "color": "white"
             }
            },
            "header": {
             "fill": {
              "color": "#C8D4E3"
             },
             "line": {
              "color": "white"
             }
            },
            "type": "table"
           }
          ]
         },
         "layout": {
          "annotationdefaults": {
           "arrowcolor": "#2a3f5f",
           "arrowhead": 0,
           "arrowwidth": 1
          },
          "autotypenumbers": "strict",
          "coloraxis": {
           "colorbar": {
            "outlinewidth": 0,
            "ticks": ""
           }
          },
          "colorscale": {
           "diverging": [
            [
             0,
             "#8e0152"
            ],
            [
             0.1,
             "#c51b7d"
            ],
            [
             0.2,
             "#de77ae"
            ],
            [
             0.3,
             "#f1b6da"
            ],
            [
             0.4,
             "#fde0ef"
            ],
            [
             0.5,
             "#f7f7f7"
            ],
            [
             0.6,
             "#e6f5d0"
            ],
            [
             0.7,
             "#b8e186"
            ],
            [
             0.8,
             "#7fbc41"
            ],
            [
             0.9,
             "#4d9221"
            ],
            [
             1,
             "#276419"
            ]
           ],
           "sequential": [
            [
             0,
             "#0d0887"
            ],
            [
             0.1111111111111111,
             "#46039f"
            ],
            [
             0.2222222222222222,
             "#7201a8"
            ],
            [
             0.3333333333333333,
             "#9c179e"
            ],
            [
             0.4444444444444444,
             "#bd3786"
            ],
            [
             0.5555555555555556,
             "#d8576b"
            ],
            [
             0.6666666666666666,
             "#ed7953"
            ],
            [
             0.7777777777777778,
             "#fb9f3a"
            ],
            [
             0.8888888888888888,
             "#fdca26"
            ],
            [
             1,
             "#f0f921"
            ]
           ],
           "sequentialminus": [
            [
             0,
             "#0d0887"
            ],
            [
             0.1111111111111111,
             "#46039f"
            ],
            [
             0.2222222222222222,
             "#7201a8"
            ],
            [
             0.3333333333333333,
             "#9c179e"
            ],
            [
             0.4444444444444444,
             "#bd3786"
            ],
            [
             0.5555555555555556,
             "#d8576b"
            ],
            [
             0.6666666666666666,
             "#ed7953"
            ],
            [
             0.7777777777777778,
             "#fb9f3a"
            ],
            [
             0.8888888888888888,
             "#fdca26"
            ],
            [
             1,
             "#f0f921"
            ]
           ]
          },
          "colorway": [
           "#636efa",
           "#EF553B",
           "#00cc96",
           "#ab63fa",
           "#FFA15A",
           "#19d3f3",
           "#FF6692",
           "#B6E880",
           "#FF97FF",
           "#FECB52"
          ],
          "font": {
           "color": "#2a3f5f"
          },
          "geo": {
           "bgcolor": "white",
           "lakecolor": "white",
           "landcolor": "#E5ECF6",
           "showlakes": true,
           "showland": true,
           "subunitcolor": "white"
          },
          "hoverlabel": {
           "align": "left"
          },
          "hovermode": "closest",
          "mapbox": {
           "style": "light"
          },
          "paper_bgcolor": "white",
          "plot_bgcolor": "#E5ECF6",
          "polar": {
           "angularaxis": {
            "gridcolor": "white",
            "linecolor": "white",
            "ticks": ""
           },
           "bgcolor": "#E5ECF6",
           "radialaxis": {
            "gridcolor": "white",
            "linecolor": "white",
            "ticks": ""
           }
          },
          "scene": {
           "xaxis": {
            "backgroundcolor": "#E5ECF6",
            "gridcolor": "white",
            "gridwidth": 2,
            "linecolor": "white",
            "showbackground": true,
            "ticks": "",
            "zerolinecolor": "white"
           },
           "yaxis": {
            "backgroundcolor": "#E5ECF6",
            "gridcolor": "white",
            "gridwidth": 2,
            "linecolor": "white",
            "showbackground": true,
            "ticks": "",
            "zerolinecolor": "white"
           },
           "zaxis": {
            "backgroundcolor": "#E5ECF6",
            "gridcolor": "white",
            "gridwidth": 2,
            "linecolor": "white",
            "showbackground": true,
            "ticks": "",
            "zerolinecolor": "white"
           }
          },
          "shapedefaults": {
           "line": {
            "color": "#2a3f5f"
           }
          },
          "ternary": {
           "aaxis": {
            "gridcolor": "white",
            "linecolor": "white",
            "ticks": ""
           },
           "baxis": {
            "gridcolor": "white",
            "linecolor": "white",
            "ticks": ""
           },
           "bgcolor": "#E5ECF6",
           "caxis": {
            "gridcolor": "white",
            "linecolor": "white",
            "ticks": ""
           }
          },
          "title": {
           "x": 0.05
          },
          "xaxis": {
           "automargin": true,
           "gridcolor": "white",
           "linecolor": "white",
           "ticks": "",
           "title": {
            "standoff": 15
           },
           "zerolinecolor": "white",
           "zerolinewidth": 2
          },
          "yaxis": {
           "automargin": true,
           "gridcolor": "white",
           "linecolor": "white",
           "ticks": "",
           "title": {
            "standoff": 15
           },
           "zerolinecolor": "white",
           "zerolinewidth": 2
          }
         }
        },
        "xaxis": {
         "anchor": "y",
         "domain": [
          0,
          1
         ],
         "title": {
          "text": "timestamp"
         }
        },
        "yaxis": {
         "anchor": "x",
         "domain": [
          0,
          1
         ],
         "title": {
          "text": "value"
         }
        }
       }
      }
     },
     "metadata": {},
     "output_type": "display_data"
    },
    {
     "name": "stdout",
     "output_type": "stream",
     "text": [
      "extra_reward_per_token_cols=['AURA|| 0 extraRewardPerToken', 'SWISE|| 1 extraRewardPerToken'] extra_reward_to_eth_cols=['AURA_to_ETH', 'SWISE_to_ETH']\n"
     ]
    },
    {
     "data": {
      "application/vnd.plotly.v1+json": {
       "config": {
        "plotlyServerURL": "https://plot.ly"
       },
       "data": [
        {
         "hovertemplate": "variable=Balancer osETH/wETH StablePool Growth of a ETH<br>timestamp=%{x}<br>value=%{y}<extra></extra>",
         "legendgroup": "Balancer osETH/wETH StablePool Growth of a ETH",
         "line": {
          "color": "#636efa",
          "dash": "solid"
         },
         "marker": {
          "symbol": "circle"
         },
         "mode": "lines",
         "name": "Balancer osETH/wETH StablePool Growth of a ETH",
         "orientation": "v",
         "showlegend": true,
         "type": "scatter",
         "x": [
          "2024-07-17T00:53:47",
          "2024-07-17T06:50:11",
          "2024-07-17T12:46:35",
          "2024-07-17T18:43:35",
          "2024-07-18T00:40:11",
          "2024-07-18T06:37:35",
          "2024-07-18T12:34:59",
          "2024-07-18T18:31:35",
          "2024-07-19T00:27:59",
          "2024-07-19T06:24:23",
          "2024-07-19T12:20:35",
          "2024-07-19T18:17:11",
          "2024-07-20T00:13:23",
          "2024-07-20T06:10:35",
          "2024-07-20T12:07:35",
          "2024-07-20T18:04:23",
          "2024-07-21T00:00:47",
          "2024-07-21T05:57:23",
          "2024-07-21T11:53:23",
          "2024-07-21T17:50:35",
          "2024-07-21T23:47:35",
          "2024-07-22T05:44:23",
          "2024-07-22T11:41:35",
          "2024-07-22T17:38:59",
          "2024-07-22T23:35:47",
          "2024-07-23T05:32:47",
          "2024-07-23T11:29:35",
          "2024-07-23T17:25:47",
          "2024-07-23T23:22:35",
          "2024-07-24T05:18:47",
          "2024-07-24T11:15:11",
          "2024-07-24T17:12:23",
          "2024-07-24T23:09:59",
          "2024-07-25T05:06:35",
          "2024-07-25T11:02:47",
          "2024-07-25T16:59:47",
          "2024-07-25T22:57:23",
          "2024-07-26T04:54:47",
          "2024-07-26T10:50:47",
          "2024-07-26T16:47:47",
          "2024-07-26T22:44:47",
          "2024-07-27T04:42:11",
          "2024-07-27T10:39:11",
          "2024-07-27T16:35:11",
          "2024-07-27T22:32:35",
          "2024-07-28T04:29:59",
          "2024-07-28T10:26:35",
          "2024-07-28T16:22:35",
          "2024-07-28T22:18:11",
          "2024-07-29T04:15:11",
          "2024-07-29T10:11:59",
          "2024-07-29T16:07:47",
          "2024-07-29T22:03:47",
          "2024-07-30T04:01:23",
          "2024-07-30T10:01:11",
          "2024-07-30T15:58:35",
          "2024-07-30T21:55:35",
          "2024-07-31T03:52:11",
          "2024-07-31T09:48:35",
          "2024-07-31T15:45:11",
          "2024-07-31T21:42:47",
          "2024-08-01T03:39:11",
          "2024-08-01T09:35:35",
          "2024-08-01T15:32:35",
          "2024-08-01T21:29:23",
          "2024-08-02T03:26:11",
          "2024-08-02T09:22:59",
          "2024-08-02T15:19:59",
          "2024-08-02T21:18:11",
          "2024-08-03T03:15:11",
          "2024-08-03T09:12:35",
          "2024-08-03T15:08:47",
          "2024-08-03T21:05:11",
          "2024-08-04T03:01:47",
          "2024-08-04T08:57:23",
          "2024-08-04T14:53:23",
          "2024-08-04T20:49:59",
          "2024-08-05T02:45:47",
          "2024-08-05T08:41:47",
          "2024-08-05T14:38:47",
          "2024-08-05T20:36:11",
          "2024-08-06T02:32:23",
          "2024-08-06T08:28:47",
          "2024-08-06T14:25:47",
          "2024-08-06T20:22:47",
          "2024-08-07T02:19:23",
          "2024-08-07T08:15:59",
          "2024-08-07T14:12:35",
          "2024-08-07T20:08:35",
          "2024-08-08T02:05:23",
          "2024-08-08T08:01:47",
          "2024-08-08T13:58:23",
          "2024-08-08T19:54:11",
          "2024-08-09T01:50:11",
          "2024-08-09T07:46:35",
          "2024-08-09T13:42:35",
          "2024-08-09T19:39:35",
          "2024-08-10T01:36:23",
          "2024-08-10T07:32:35",
          "2024-08-10T13:29:59",
          "2024-08-10T19:25:11",
          "2024-08-11T01:22:23",
          "2024-08-11T07:19:47",
          "2024-08-11T13:17:35",
          "2024-08-11T19:14:23",
          "2024-08-12T01:10:23",
          "2024-08-12T07:07:35",
          "2024-08-12T13:04:59",
          "2024-08-12T19:01:47",
          "2024-08-13T00:56:47",
          "2024-08-13T06:53:35",
          "2024-08-13T12:50:47",
          "2024-08-13T18:47:11",
          "2024-08-14T00:43:35",
          "2024-08-14T06:40:47",
          "2024-08-14T12:37:11",
          "2024-08-14T18:34:11",
          "2024-08-15T00:31:11",
          "2024-08-15T06:27:59",
          "2024-08-15T12:25:23",
          "2024-08-15T18:22:47",
          "2024-08-16T00:20:35",
          "2024-08-16T06:16:35",
          "2024-08-16T12:12:47",
          "2024-08-16T18:09:23",
          "2024-08-17T00:07:23",
          "2024-08-17T06:04:59",
          "2024-08-17T12:01:59",
          "2024-08-17T17:59:59",
          "2024-08-17T23:56:11",
          "2024-08-18T05:51:59",
          "2024-08-18T11:48:47",
          "2024-08-18T17:45:11",
          "2024-08-18T23:41:23",
          "2024-08-19T05:39:23",
          "2024-08-19T11:35:47",
          "2024-08-19T17:33:47",
          "2024-08-19T23:29:47",
          "2024-08-20T05:26:11",
          "2024-08-20T11:24:23",
          "2024-08-20T17:20:59",
          "2024-08-20T23:18:35",
          "2024-08-21T05:15:11",
          "2024-08-21T11:11:11",
          "2024-08-21T17:08:35",
          "2024-08-21T23:06:35",
          "2024-08-22T05:04:23",
          "2024-08-22T11:01:59",
          "2024-08-22T16:58:23",
          "2024-08-22T22:54:35",
          "2024-08-23T04:51:59",
          "2024-08-23T10:50:35",
          "2024-08-23T16:47:23",
          "2024-08-23T22:44:11",
          "2024-08-24T04:40:59",
          "2024-08-24T10:38:47",
          "2024-08-24T16:36:11",
          "2024-08-24T22:33:35",
          "2024-08-25T04:31:35",
          "2024-08-25T10:29:35",
          "2024-08-25T16:26:35",
          "2024-08-25T22:23:11",
          "2024-08-26T04:20:11",
          "2024-08-26T10:17:35",
          "2024-08-26T16:13:59",
          "2024-08-26T22:10:59",
          "2024-08-27T04:08:59",
          "2024-08-27T10:06:23",
          "2024-08-27T16:02:35",
          "2024-08-27T21:59:11",
          "2024-08-28T03:55:35",
          "2024-08-28T09:53:23",
          "2024-08-28T15:49:47",
          "2024-08-28T21:46:35",
          "2024-08-29T03:43:59",
          "2024-08-29T09:41:47",
          "2024-08-29T15:39:23",
          "2024-08-29T21:36:35",
          "2024-08-30T03:34:35",
          "2024-08-30T09:31:47",
          "2024-08-30T15:28:35",
          "2024-08-30T21:24:59",
          "2024-08-31T03:22:59",
          "2024-08-31T09:19:47",
          "2024-08-31T15:16:59",
          "2024-08-31T21:13:47",
          "2024-09-01T03:09:59",
          "2024-09-01T09:05:47",
          "2024-09-01T15:02:59",
          "2024-09-01T21:00:35",
          "2024-09-02T02:56:47",
          "2024-09-02T08:52:47",
          "2024-09-02T14:50:11",
          "2024-09-02T20:46:23",
          "2024-09-03T02:42:59",
          "2024-09-03T08:40:23",
          "2024-09-03T14:36:47",
          "2024-09-03T20:32:35"
         ],
         "xaxis": "x",
         "y": [
          1,
          1.000009628337934,
          1.0000009884250964,
          1.0000009994827967,
          1.0000159603692045,
          1.0000359314460592,
          1.0001008728942609,
          1.0001206229236101,
          1.0001403279407204,
          1.0001600842582639,
          1.0002366271638614,
          1.0002561916804706,
          1.0002760394030812,
          1.0002958275181564,
          1.0003671575178243,
          1.0003775915172237,
          1.0003973105963313,
          1.0004170388640445,
          1.0004363544560946,
          1.0004939755028013,
          1.0005137746125887,
          1.0005336101604358,
          1.0005557292010987,
          1.0006087068190728,
          1.000628565006718,
          1.000648575267895,
          1.0006673253874176,
          1.0006874418018377,
          1.0007072884930837,
          1.0007270531958887,
          1.000740191880314,
          1.0007650637219117,
          1.0007749106315764,
          1.0007749465273363,
          1.0007736129450537,
          1.0007747986180797,
          1.0007967141706948,
          1.0008186047962588,
          1.000841157378354,
          1.0008824220793633,
          1.0009043166920042,
          1.0009261762387418,
          1.0009775953240405,
          1.0009992591169918,
          1.0010055097704293,
          1.0010268104623907,
          1.0010821686692948,
          1.0011034960470095,
          1.0011246826301068,
          1.0011468728913422,
          1.0011518807291058,
          1.0011731217040643,
          1.0011860761409836,
          1.0012072201104356,
          1.001248021480499,
          1.0012691230420667,
          1.0012907947472272,
          1.0013123393737005,
          1.0013550211202067,
          1.0013765744882508,
          1.0014038224939048,
          1.0014254760695072,
          1.001447133629017,
          1.0014932105584484,
          1.0014995600904881,
          1.0015174170167536,
          1.001535262922989,
          1.0015787472358875,
          1.001609377350139,
          1.0016274653891544,
          1.0016455757622933,
          1.0017086131535577,
          1.0017299647825195,
          1.0017479993706442,
          1.0017659838568478,
          1.0018131994154176,
          1.0018274186420313,
          1.0018305540688772,
          1.0018460359383226,
          1.001638615242942,
          1.0016609045783498,
          1.0016828091165275,
          1.0017004628759427,
          1.001907635203468,
          1.0019253901668814,
          1.0019470117118603,
          1.002009061060922,
          1.0020267709045603,
          1.00204446004763,
          1.0020559975154533,
          1.002049636818268,
          1.0020673414392138,
          1.0020746331558614,
          1.0020905511955793,
          1.002149278769364,
          1.0021657505311468,
          1.0021822685619235,
          1.0021988640600683,
          1.0022767058013256,
          1.0022932412784629,
          1.002309674852577,
          1.0023331625216325,
          1.0023785702845218,
          1.0023951893133891,
          1.0024127211467473,
          1.0024268494116038,
          1.0024434187841584,
          1.0025593249337723,
          1.0025758757465766,
          1.0025946122952005,
          1.002611383912616,
          1.0026111711926273,
          1.0026277249456195,
          1.002644278786283,
          1.0026608712304172,
          1.0026866804324324,
          1.002703392902596,
          1.0027173083815997,
          1.0027339670183375,
          1.0028050924345273,
          1.0028217714636656,
          1.0028351193927445,
          1.0028421610730283,
          1.002855705015893,
          1.0028749160049841,
          1.0028858999929824,
          1.0029051466145695,
          1.0029473788257568,
          1.0029668365192983,
          1.002994714804684,
          1.0030139446354784,
          1.0030969488788035,
          1.0031161476052617,
          1.0031202290187013,
          1.0031393940474422,
          1.0031857249975786,
          1.0032048857922489,
          1.0032177136387206,
          1.0032367376043396,
          1.0032920372958867,
          1.0033115726129733,
          1.0033435413653886,
          1.0033626765988155,
          1.0033807814191555,
          1.003399970598333,
          1.003395930727974,
          1.0034149542312627,
          1.0034759911962348,
          1.0034947208036522,
          1.0035102341228537,
          1.0035269947678538,
          1.0033416723010626,
          1.0033565373244762,
          1.0033960119431629,
          1.0034147099361488,
          1.0035098288982216,
          1.003528558363514,
          1.0035329774290795,
          1.0035518249217645,
          1.0035842509888564,
          1.0036028874410945,
          1.0036178211265394,
          1.0036364347976099,
          1.0036894237034228,
          1.0037079904943758,
          1.0037191078184946,
          1.0037377245948331,
          1.0037895137247244,
          1.0038080416007489,
          1.0038062999433308,
          1.0038240988393723,
          1.004139715690752,
          1.0041528438298684,
          1.0041751797533724,
          1.0041936024309588,
          1.0046022096877734,
          1.0046214758354735,
          1.0046317279236208,
          1.0046513986864214,
          1.004802499303072,
          1.004810515989858,
          1.0048105500431739,
          1.0048294208084425,
          1.0048970541012139,
          1.0049158827375384,
          1.00493469027166,
          1.0049539953814561,
          1.0050708876323105,
          1.0050897164137005,
          1.0051163834479764,
          1.0051342391844327,
          1.0052579644515518,
          1.005277619717955,
          1.0053005049740793,
          1.0053189915941185,
          1.0053915552158454,
          1.0054106246790264,
          1.0054287016145964
         ],
         "yaxis": "y"
        }
       ],
       "layout": {
        "legend": {
         "title": {
          "text": "variable"
         },
         "tracegroupgap": 0
        },
        "margin": {
         "t": 60
        },
        "template": {
         "data": {
          "bar": [
           {
            "error_x": {
             "color": "#2a3f5f"
            },
            "error_y": {
             "color": "#2a3f5f"
            },
            "marker": {
             "line": {
              "color": "#E5ECF6",
              "width": 0.5
             },
             "pattern": {
              "fillmode": "overlay",
              "size": 10,
              "solidity": 0.2
             }
            },
            "type": "bar"
           }
          ],
          "barpolar": [
           {
            "marker": {
             "line": {
              "color": "#E5ECF6",
              "width": 0.5
             },
             "pattern": {
              "fillmode": "overlay",
              "size": 10,
              "solidity": 0.2
             }
            },
            "type": "barpolar"
           }
          ],
          "carpet": [
           {
            "aaxis": {
             "endlinecolor": "#2a3f5f",
             "gridcolor": "white",
             "linecolor": "white",
             "minorgridcolor": "white",
             "startlinecolor": "#2a3f5f"
            },
            "baxis": {
             "endlinecolor": "#2a3f5f",
             "gridcolor": "white",
             "linecolor": "white",
             "minorgridcolor": "white",
             "startlinecolor": "#2a3f5f"
            },
            "type": "carpet"
           }
          ],
          "choropleth": [
           {
            "colorbar": {
             "outlinewidth": 0,
             "ticks": ""
            },
            "type": "choropleth"
           }
          ],
          "contour": [
           {
            "colorbar": {
             "outlinewidth": 0,
             "ticks": ""
            },
            "colorscale": [
             [
              0,
              "#0d0887"
             ],
             [
              0.1111111111111111,
              "#46039f"
             ],
             [
              0.2222222222222222,
              "#7201a8"
             ],
             [
              0.3333333333333333,
              "#9c179e"
             ],
             [
              0.4444444444444444,
              "#bd3786"
             ],
             [
              0.5555555555555556,
              "#d8576b"
             ],
             [
              0.6666666666666666,
              "#ed7953"
             ],
             [
              0.7777777777777778,
              "#fb9f3a"
             ],
             [
              0.8888888888888888,
              "#fdca26"
             ],
             [
              1,
              "#f0f921"
             ]
            ],
            "type": "contour"
           }
          ],
          "contourcarpet": [
           {
            "colorbar": {
             "outlinewidth": 0,
             "ticks": ""
            },
            "type": "contourcarpet"
           }
          ],
          "heatmap": [
           {
            "colorbar": {
             "outlinewidth": 0,
             "ticks": ""
            },
            "colorscale": [
             [
              0,
              "#0d0887"
             ],
             [
              0.1111111111111111,
              "#46039f"
             ],
             [
              0.2222222222222222,
              "#7201a8"
             ],
             [
              0.3333333333333333,
              "#9c179e"
             ],
             [
              0.4444444444444444,
              "#bd3786"
             ],
             [
              0.5555555555555556,
              "#d8576b"
             ],
             [
              0.6666666666666666,
              "#ed7953"
             ],
             [
              0.7777777777777778,
              "#fb9f3a"
             ],
             [
              0.8888888888888888,
              "#fdca26"
             ],
             [
              1,
              "#f0f921"
             ]
            ],
            "type": "heatmap"
           }
          ],
          "heatmapgl": [
           {
            "colorbar": {
             "outlinewidth": 0,
             "ticks": ""
            },
            "colorscale": [
             [
              0,
              "#0d0887"
             ],
             [
              0.1111111111111111,
              "#46039f"
             ],
             [
              0.2222222222222222,
              "#7201a8"
             ],
             [
              0.3333333333333333,
              "#9c179e"
             ],
             [
              0.4444444444444444,
              "#bd3786"
             ],
             [
              0.5555555555555556,
              "#d8576b"
             ],
             [
              0.6666666666666666,
              "#ed7953"
             ],
             [
              0.7777777777777778,
              "#fb9f3a"
             ],
             [
              0.8888888888888888,
              "#fdca26"
             ],
             [
              1,
              "#f0f921"
             ]
            ],
            "type": "heatmapgl"
           }
          ],
          "histogram": [
           {
            "marker": {
             "pattern": {
              "fillmode": "overlay",
              "size": 10,
              "solidity": 0.2
             }
            },
            "type": "histogram"
           }
          ],
          "histogram2d": [
           {
            "colorbar": {
             "outlinewidth": 0,
             "ticks": ""
            },
            "colorscale": [
             [
              0,
              "#0d0887"
             ],
             [
              0.1111111111111111,
              "#46039f"
             ],
             [
              0.2222222222222222,
              "#7201a8"
             ],
             [
              0.3333333333333333,
              "#9c179e"
             ],
             [
              0.4444444444444444,
              "#bd3786"
             ],
             [
              0.5555555555555556,
              "#d8576b"
             ],
             [
              0.6666666666666666,
              "#ed7953"
             ],
             [
              0.7777777777777778,
              "#fb9f3a"
             ],
             [
              0.8888888888888888,
              "#fdca26"
             ],
             [
              1,
              "#f0f921"
             ]
            ],
            "type": "histogram2d"
           }
          ],
          "histogram2dcontour": [
           {
            "colorbar": {
             "outlinewidth": 0,
             "ticks": ""
            },
            "colorscale": [
             [
              0,
              "#0d0887"
             ],
             [
              0.1111111111111111,
              "#46039f"
             ],
             [
              0.2222222222222222,
              "#7201a8"
             ],
             [
              0.3333333333333333,
              "#9c179e"
             ],
             [
              0.4444444444444444,
              "#bd3786"
             ],
             [
              0.5555555555555556,
              "#d8576b"
             ],
             [
              0.6666666666666666,
              "#ed7953"
             ],
             [
              0.7777777777777778,
              "#fb9f3a"
             ],
             [
              0.8888888888888888,
              "#fdca26"
             ],
             [
              1,
              "#f0f921"
             ]
            ],
            "type": "histogram2dcontour"
           }
          ],
          "mesh3d": [
           {
            "colorbar": {
             "outlinewidth": 0,
             "ticks": ""
            },
            "type": "mesh3d"
           }
          ],
          "parcoords": [
           {
            "line": {
             "colorbar": {
              "outlinewidth": 0,
              "ticks": ""
             }
            },
            "type": "parcoords"
           }
          ],
          "pie": [
           {
            "automargin": true,
            "type": "pie"
           }
          ],
          "scatter": [
           {
            "fillpattern": {
             "fillmode": "overlay",
             "size": 10,
             "solidity": 0.2
            },
            "type": "scatter"
           }
          ],
          "scatter3d": [
           {
            "line": {
             "colorbar": {
              "outlinewidth": 0,
              "ticks": ""
             }
            },
            "marker": {
             "colorbar": {
              "outlinewidth": 0,
              "ticks": ""
             }
            },
            "type": "scatter3d"
           }
          ],
          "scattercarpet": [
           {
            "marker": {
             "colorbar": {
              "outlinewidth": 0,
              "ticks": ""
             }
            },
            "type": "scattercarpet"
           }
          ],
          "scattergeo": [
           {
            "marker": {
             "colorbar": {
              "outlinewidth": 0,
              "ticks": ""
             }
            },
            "type": "scattergeo"
           }
          ],
          "scattergl": [
           {
            "marker": {
             "colorbar": {
              "outlinewidth": 0,
              "ticks": ""
             }
            },
            "type": "scattergl"
           }
          ],
          "scattermapbox": [
           {
            "marker": {
             "colorbar": {
              "outlinewidth": 0,
              "ticks": ""
             }
            },
            "type": "scattermapbox"
           }
          ],
          "scatterpolar": [
           {
            "marker": {
             "colorbar": {
              "outlinewidth": 0,
              "ticks": ""
             }
            },
            "type": "scatterpolar"
           }
          ],
          "scatterpolargl": [
           {
            "marker": {
             "colorbar": {
              "outlinewidth": 0,
              "ticks": ""
             }
            },
            "type": "scatterpolargl"
           }
          ],
          "scatterternary": [
           {
            "marker": {
             "colorbar": {
              "outlinewidth": 0,
              "ticks": ""
             }
            },
            "type": "scatterternary"
           }
          ],
          "surface": [
           {
            "colorbar": {
             "outlinewidth": 0,
             "ticks": ""
            },
            "colorscale": [
             [
              0,
              "#0d0887"
             ],
             [
              0.1111111111111111,
              "#46039f"
             ],
             [
              0.2222222222222222,
              "#7201a8"
             ],
             [
              0.3333333333333333,
              "#9c179e"
             ],
             [
              0.4444444444444444,
              "#bd3786"
             ],
             [
              0.5555555555555556,
              "#d8576b"
             ],
             [
              0.6666666666666666,
              "#ed7953"
             ],
             [
              0.7777777777777778,
              "#fb9f3a"
             ],
             [
              0.8888888888888888,
              "#fdca26"
             ],
             [
              1,
              "#f0f921"
             ]
            ],
            "type": "surface"
           }
          ],
          "table": [
           {
            "cells": {
             "fill": {
              "color": "#EBF0F8"
             },
             "line": {
              "color": "white"
             }
            },
            "header": {
             "fill": {
              "color": "#C8D4E3"
             },
             "line": {
              "color": "white"
             }
            },
            "type": "table"
           }
          ]
         },
         "layout": {
          "annotationdefaults": {
           "arrowcolor": "#2a3f5f",
           "arrowhead": 0,
           "arrowwidth": 1
          },
          "autotypenumbers": "strict",
          "coloraxis": {
           "colorbar": {
            "outlinewidth": 0,
            "ticks": ""
           }
          },
          "colorscale": {
           "diverging": [
            [
             0,
             "#8e0152"
            ],
            [
             0.1,
             "#c51b7d"
            ],
            [
             0.2,
             "#de77ae"
            ],
            [
             0.3,
             "#f1b6da"
            ],
            [
             0.4,
             "#fde0ef"
            ],
            [
             0.5,
             "#f7f7f7"
            ],
            [
             0.6,
             "#e6f5d0"
            ],
            [
             0.7,
             "#b8e186"
            ],
            [
             0.8,
             "#7fbc41"
            ],
            [
             0.9,
             "#4d9221"
            ],
            [
             1,
             "#276419"
            ]
           ],
           "sequential": [
            [
             0,
             "#0d0887"
            ],
            [
             0.1111111111111111,
             "#46039f"
            ],
            [
             0.2222222222222222,
             "#7201a8"
            ],
            [
             0.3333333333333333,
             "#9c179e"
            ],
            [
             0.4444444444444444,
             "#bd3786"
            ],
            [
             0.5555555555555556,
             "#d8576b"
            ],
            [
             0.6666666666666666,
             "#ed7953"
            ],
            [
             0.7777777777777778,
             "#fb9f3a"
            ],
            [
             0.8888888888888888,
             "#fdca26"
            ],
            [
             1,
             "#f0f921"
            ]
           ],
           "sequentialminus": [
            [
             0,
             "#0d0887"
            ],
            [
             0.1111111111111111,
             "#46039f"
            ],
            [
             0.2222222222222222,
             "#7201a8"
            ],
            [
             0.3333333333333333,
             "#9c179e"
            ],
            [
             0.4444444444444444,
             "#bd3786"
            ],
            [
             0.5555555555555556,
             "#d8576b"
            ],
            [
             0.6666666666666666,
             "#ed7953"
            ],
            [
             0.7777777777777778,
             "#fb9f3a"
            ],
            [
             0.8888888888888888,
             "#fdca26"
            ],
            [
             1,
             "#f0f921"
            ]
           ]
          },
          "colorway": [
           "#636efa",
           "#EF553B",
           "#00cc96",
           "#ab63fa",
           "#FFA15A",
           "#19d3f3",
           "#FF6692",
           "#B6E880",
           "#FF97FF",
           "#FECB52"
          ],
          "font": {
           "color": "#2a3f5f"
          },
          "geo": {
           "bgcolor": "white",
           "lakecolor": "white",
           "landcolor": "#E5ECF6",
           "showlakes": true,
           "showland": true,
           "subunitcolor": "white"
          },
          "hoverlabel": {
           "align": "left"
          },
          "hovermode": "closest",
          "mapbox": {
           "style": "light"
          },
          "paper_bgcolor": "white",
          "plot_bgcolor": "#E5ECF6",
          "polar": {
           "angularaxis": {
            "gridcolor": "white",
            "linecolor": "white",
            "ticks": ""
           },
           "bgcolor": "#E5ECF6",
           "radialaxis": {
            "gridcolor": "white",
            "linecolor": "white",
            "ticks": ""
           }
          },
          "scene": {
           "xaxis": {
            "backgroundcolor": "#E5ECF6",
            "gridcolor": "white",
            "gridwidth": 2,
            "linecolor": "white",
            "showbackground": true,
            "ticks": "",
            "zerolinecolor": "white"
           },
           "yaxis": {
            "backgroundcolor": "#E5ECF6",
            "gridcolor": "white",
            "gridwidth": 2,
            "linecolor": "white",
            "showbackground": true,
            "ticks": "",
            "zerolinecolor": "white"
           },
           "zaxis": {
            "backgroundcolor": "#E5ECF6",
            "gridcolor": "white",
            "gridwidth": 2,
            "linecolor": "white",
            "showbackground": true,
            "ticks": "",
            "zerolinecolor": "white"
           }
          },
          "shapedefaults": {
           "line": {
            "color": "#2a3f5f"
           }
          },
          "ternary": {
           "aaxis": {
            "gridcolor": "white",
            "linecolor": "white",
            "ticks": ""
           },
           "baxis": {
            "gridcolor": "white",
            "linecolor": "white",
            "ticks": ""
           },
           "bgcolor": "#E5ECF6",
           "caxis": {
            "gridcolor": "white",
            "linecolor": "white",
            "ticks": ""
           }
          },
          "title": {
           "x": 0.05
          },
          "xaxis": {
           "automargin": true,
           "gridcolor": "white",
           "linecolor": "white",
           "ticks": "",
           "title": {
            "standoff": 15
           },
           "zerolinecolor": "white",
           "zerolinewidth": 2
          },
          "yaxis": {
           "automargin": true,
           "gridcolor": "white",
           "linecolor": "white",
           "ticks": "",
           "title": {
            "standoff": 15
           },
           "zerolinecolor": "white",
           "zerolinewidth": 2
          }
         }
        },
        "xaxis": {
         "anchor": "y",
         "domain": [
          0,
          1
         ],
         "title": {
          "text": "timestamp"
         }
        },
        "yaxis": {
         "anchor": "x",
         "domain": [
          0,
          1
         ],
         "title": {
          "text": "value"
         }
        }
       }
      }
     },
     "metadata": {},
     "output_type": "display_data"
    },
    {
     "name": "stdout",
     "output_type": "stream",
     "text": [
      "extra_reward_per_token_cols=['AURA|| 0 extraRewardPerToken'] extra_reward_to_eth_cols=['AURA_to_ETH']\n"
     ]
    },
    {
     "data": {
      "application/vnd.plotly.v1+json": {
       "config": {
        "plotlyServerURL": "https://plot.ly"
       },
       "data": [
        {
         "hovertemplate": "variable=Balancer wstETH-WETH Stable Pool Growth of a ETH<br>timestamp=%{x}<br>value=%{y}<extra></extra>",
         "legendgroup": "Balancer wstETH-WETH Stable Pool Growth of a ETH",
         "line": {
          "color": "#636efa",
          "dash": "solid"
         },
         "marker": {
          "symbol": "circle"
         },
         "mode": "lines",
         "name": "Balancer wstETH-WETH Stable Pool Growth of a ETH",
         "orientation": "v",
         "showlegend": true,
         "type": "scatter",
         "x": [
          "2024-07-17T00:53:47",
          "2024-07-17T06:50:11",
          "2024-07-17T12:46:35",
          "2024-07-17T18:43:35",
          "2024-07-18T00:40:11",
          "2024-07-18T06:37:35",
          "2024-07-18T12:34:59",
          "2024-07-18T18:31:35",
          "2024-07-19T00:27:59",
          "2024-07-19T06:24:23",
          "2024-07-19T12:20:35",
          "2024-07-19T18:17:11",
          "2024-07-20T00:13:23",
          "2024-07-20T06:10:35",
          "2024-07-20T12:07:35",
          "2024-07-20T18:04:23",
          "2024-07-21T00:00:47",
          "2024-07-21T05:57:23",
          "2024-07-21T11:53:23",
          "2024-07-21T17:50:35",
          "2024-07-21T23:47:35",
          "2024-07-22T05:44:23",
          "2024-07-22T11:41:35",
          "2024-07-22T17:38:59",
          "2024-07-22T23:35:47",
          "2024-07-23T05:32:47",
          "2024-07-23T11:29:35",
          "2024-07-23T17:25:47",
          "2024-07-23T23:22:35",
          "2024-07-24T05:18:47",
          "2024-07-24T11:15:11",
          "2024-07-24T17:12:23",
          "2024-07-24T23:09:59",
          "2024-07-25T05:06:35",
          "2024-07-25T11:02:47",
          "2024-07-25T16:59:47",
          "2024-07-25T22:57:23",
          "2024-07-26T04:54:47",
          "2024-07-26T10:50:47",
          "2024-07-26T16:47:47",
          "2024-07-26T22:44:47",
          "2024-07-27T04:42:11",
          "2024-07-27T10:39:11",
          "2024-07-27T16:35:11",
          "2024-07-27T22:32:35",
          "2024-07-28T04:29:59",
          "2024-07-28T10:26:35",
          "2024-07-28T16:22:35",
          "2024-07-28T22:18:11",
          "2024-07-29T04:15:11",
          "2024-07-29T10:11:59",
          "2024-07-29T16:07:47",
          "2024-07-29T22:03:47",
          "2024-07-30T04:01:23",
          "2024-07-30T10:01:11",
          "2024-07-30T15:58:35",
          "2024-07-30T21:55:35",
          "2024-07-31T03:52:11",
          "2024-07-31T09:48:35",
          "2024-07-31T15:45:11",
          "2024-07-31T21:42:47",
          "2024-08-01T03:39:11",
          "2024-08-01T09:35:35",
          "2024-08-01T15:32:35",
          "2024-08-01T21:29:23",
          "2024-08-02T03:26:11",
          "2024-08-02T09:22:59",
          "2024-08-02T15:19:59",
          "2024-08-02T21:18:11",
          "2024-08-03T03:15:11",
          "2024-08-03T09:12:35",
          "2024-08-03T15:08:47",
          "2024-08-03T21:05:11",
          "2024-08-04T03:01:47",
          "2024-08-04T08:57:23",
          "2024-08-04T14:53:23",
          "2024-08-04T20:49:59",
          "2024-08-05T02:45:47",
          "2024-08-05T08:41:47",
          "2024-08-05T14:38:47",
          "2024-08-05T20:36:11",
          "2024-08-06T02:32:23",
          "2024-08-06T08:28:47",
          "2024-08-06T14:25:47",
          "2024-08-06T20:22:47",
          "2024-08-07T02:19:23",
          "2024-08-07T08:15:59",
          "2024-08-07T14:12:35",
          "2024-08-07T20:08:35",
          "2024-08-08T02:05:23",
          "2024-08-08T08:01:47",
          "2024-08-08T13:58:23",
          "2024-08-08T19:54:11",
          "2024-08-09T01:50:11",
          "2024-08-09T07:46:35",
          "2024-08-09T13:42:35",
          "2024-08-09T19:39:35",
          "2024-08-10T01:36:23",
          "2024-08-10T07:32:35",
          "2024-08-10T13:29:59",
          "2024-08-10T19:25:11",
          "2024-08-11T01:22:23",
          "2024-08-11T07:19:47",
          "2024-08-11T13:17:35",
          "2024-08-11T19:14:23",
          "2024-08-12T01:10:23",
          "2024-08-12T07:07:35",
          "2024-08-12T13:04:59",
          "2024-08-12T19:01:47",
          "2024-08-13T00:56:47",
          "2024-08-13T06:53:35",
          "2024-08-13T12:50:47",
          "2024-08-13T18:47:11",
          "2024-08-14T00:43:35",
          "2024-08-14T06:40:47",
          "2024-08-14T12:37:11",
          "2024-08-14T18:34:11",
          "2024-08-15T00:31:11",
          "2024-08-15T06:27:59",
          "2024-08-15T12:25:23",
          "2024-08-15T18:22:47",
          "2024-08-16T00:20:35",
          "2024-08-16T06:16:35",
          "2024-08-16T12:12:47",
          "2024-08-16T18:09:23",
          "2024-08-17T00:07:23",
          "2024-08-17T06:04:59",
          "2024-08-17T12:01:59",
          "2024-08-17T17:59:59",
          "2024-08-17T23:56:11",
          "2024-08-18T05:51:59",
          "2024-08-18T11:48:47",
          "2024-08-18T17:45:11",
          "2024-08-18T23:41:23",
          "2024-08-19T05:39:23",
          "2024-08-19T11:35:47",
          "2024-08-19T17:33:47",
          "2024-08-19T23:29:47",
          "2024-08-20T05:26:11",
          "2024-08-20T11:24:23",
          "2024-08-20T17:20:59",
          "2024-08-20T23:18:35",
          "2024-08-21T05:15:11",
          "2024-08-21T11:11:11",
          "2024-08-21T17:08:35",
          "2024-08-21T23:06:35",
          "2024-08-22T05:04:23",
          "2024-08-22T11:01:59",
          "2024-08-22T16:58:23",
          "2024-08-22T22:54:35",
          "2024-08-23T04:51:59",
          "2024-08-23T10:50:35",
          "2024-08-23T16:47:23",
          "2024-08-23T22:44:11",
          "2024-08-24T04:40:59",
          "2024-08-24T10:38:47",
          "2024-08-24T16:36:11",
          "2024-08-24T22:33:35",
          "2024-08-25T04:31:35",
          "2024-08-25T10:29:35",
          "2024-08-25T16:26:35",
          "2024-08-25T22:23:11",
          "2024-08-26T04:20:11",
          "2024-08-26T10:17:35",
          "2024-08-26T16:13:59",
          "2024-08-26T22:10:59",
          "2024-08-27T04:08:59",
          "2024-08-27T10:06:23",
          "2024-08-27T16:02:35",
          "2024-08-27T21:59:11",
          "2024-08-28T03:55:35",
          "2024-08-28T09:53:23",
          "2024-08-28T15:49:47",
          "2024-08-28T21:46:35",
          "2024-08-29T03:43:59",
          "2024-08-29T09:41:47",
          "2024-08-29T15:39:23",
          "2024-08-29T21:36:35",
          "2024-08-30T03:34:35",
          "2024-08-30T09:31:47",
          "2024-08-30T15:28:35",
          "2024-08-30T21:24:59",
          "2024-08-31T03:22:59",
          "2024-08-31T09:19:47",
          "2024-08-31T15:16:59",
          "2024-08-31T21:13:47",
          "2024-09-01T03:09:59",
          "2024-09-01T09:05:47",
          "2024-09-01T15:02:59",
          "2024-09-01T21:00:35",
          "2024-09-02T02:56:47",
          "2024-09-02T08:52:47",
          "2024-09-02T14:50:11",
          "2024-09-02T20:46:23",
          "2024-09-03T02:42:59",
          "2024-09-03T08:40:23",
          "2024-09-03T14:36:47",
          "2024-09-03T20:32:35"
         ],
         "xaxis": "x",
         "y": [
          1,
          1.0000032788758648,
          1.0000816808364739,
          1.000078835386046,
          1.0000996039435115,
          1.0000714444581547,
          1.000148423944887,
          1.0001375977781322,
          1.0001504535667007,
          1.000541879966003,
          1.0005450230508648,
          1.0006101933178493,
          1.0006054418850265,
          1.0002487875327504,
          1.0002978865592698,
          1.000340448388755,
          1.000354402032065,
          1.0001963419820559,
          1.0002116541069765,
          1.0002488012231472,
          1.0002719267566038,
          1.000503004550417,
          1.0005188890021801,
          1.0005611318741467,
          1.0005837393792965,
          1.0006154467669799,
          1.0007146946610808,
          1.000782392103966,
          1.0008162303112118,
          1.0007788879548964,
          1.0008085979767294,
          1.0008564741916117,
          1.000872718163265,
          1.0007207653808725,
          1.0007766106941545,
          1.000845090955074,
          1.0008617918086975,
          1.0006168372812123,
          1.0006382100786801,
          1.0007384065781852,
          1.0007660894467065,
          1.0011314345647815,
          1.0011544125961296,
          1.001189528094809,
          1.0011943017265832,
          1.0011790724591472,
          1.0011863927269669,
          1.0012322688485191,
          1.001255160372931,
          1.00143066826559,
          1.0014463949498449,
          1.0015278398527652,
          1.0015552580840197,
          1.0015625827050205,
          1.0015778346505986,
          1.0016379175939012,
          1.0016558404953595,
          1.0016652018080952,
          1.001684963192083,
          1.0017577618007174,
          1.0017358605925213,
          1.001777707500207,
          1.0017933505075702,
          1.0018724194145026,
          1.0020292423646298,
          1.0020457228028177,
          1.0017569126878298,
          1.0018576994764563,
          1.0018942407578644,
          1.0019188275506494,
          1.001802822296583,
          1.0019490510815618,
          1.001910998562277,
          1.0019316941833427,
          1.0019444086863696,
          1.0020152643908218,
          1.001654384614162,
          0.9977001756178161,
          0.9958862525792991,
          1.0008588975704973,
          1.0008580026143674,
          1.000868914946868,
          1.0009183564353425,
          1.0022053274204012,
          1.0021941241904653,
          1.0022306344299792,
          1.0022422381418938,
          1.0021668246476252,
          1.0022095457259521,
          1.0026255444754268,
          1.0026414462380515,
          1.0026817351494308,
          1.002675278341527,
          1.0018600858307447,
          1.0018935603070065,
          1.0020107787593966,
          1.002153877378935,
          1.003298023050522,
          1.0033048685126449,
          1.0033918475934247,
          1.0033799957615699,
          1.0034314621443563,
          1.0034505062932195,
          1.0035255643073624,
          1.0035022083750904,
          1.0035997819013982,
          1.0036065583626617,
          1.0036704159253715,
          1.0036691774531443,
          1.003674548735693,
          1.0036742389222504,
          1.0037441319325415,
          1.0037312279653536,
          1.0037415714626894,
          1.0038217505986244,
          1.0038890164560834,
          1.0038957716617791,
          1.003907287259144,
          1.0041190007265306,
          1.0042992974178102,
          1.0042622332265336,
          1.0042695396584227,
          1.004124846950867,
          1.0041713229226512,
          1.0042080980877401,
          1.004232856444163,
          1.0041192898023823,
          1.0041343361433765,
          1.0041722288220083,
          1.004215339261903,
          1.0042581908273946,
          1.004279543288229,
          1.0043542481690186,
          1.0043824498379064,
          1.0047333213011889,
          1.0047736835507528,
          1.0048298517092136,
          1.0048361451884475,
          1.0046641825189087,
          1.0046879393850847,
          1.004793807622855,
          1.0048532567945336,
          1.004525476824186,
          1.0046272390327151,
          1.0047043467570662,
          1.004770954382959,
          1.0050027515246587,
          1.005055329293049,
          1.005113003343215,
          1.0051160812575237,
          1.0051881873879764,
          1.0052040159805689,
          1.0052837341276077,
          1.0052574869191313,
          1.0053559682791036,
          1.0053762752213529,
          1.0054760818059616,
          1.0054774535722524,
          1.005434420866012,
          1.0054491597439543,
          1.0054897085264969,
          1.0055243489186936,
          1.005641843945808,
          1.0056800817655231,
          1.005741745011579,
          1.005764817914,
          1.0057891078621144,
          1.005813807307739,
          1.0058754663703289,
          1.0059412152645577,
          1.0060094983345425,
          1.0060377713650575,
          1.0061558492253273,
          1.0061453783076695,
          1.00606212756754,
          1.0060937229258857,
          1.0061591827286929,
          1.0061893267688573,
          1.0061907956472067,
          1.006254250133008,
          1.006294155447292,
          1.0063088550406294,
          1.0063566975887621,
          1.0063904029175128,
          1.0064420107951493,
          1.0064340055063714,
          1.006695039199125,
          1.0067236744533388,
          1.0067965224696798,
          1.006804824874727,
          1.0068500265743021,
          1.0068856958766896,
          1.0069730476693508,
          1.0069762873451673,
          1.0069222929234758,
          1.0069529165651792,
          1.0071974018024703,
          1.0072200048792714
         ],
         "yaxis": "y"
        }
       ],
       "layout": {
        "legend": {
         "title": {
          "text": "variable"
         },
         "tracegroupgap": 0
        },
        "margin": {
         "t": 60
        },
        "template": {
         "data": {
          "bar": [
           {
            "error_x": {
             "color": "#2a3f5f"
            },
            "error_y": {
             "color": "#2a3f5f"
            },
            "marker": {
             "line": {
              "color": "#E5ECF6",
              "width": 0.5
             },
             "pattern": {
              "fillmode": "overlay",
              "size": 10,
              "solidity": 0.2
             }
            },
            "type": "bar"
           }
          ],
          "barpolar": [
           {
            "marker": {
             "line": {
              "color": "#E5ECF6",
              "width": 0.5
             },
             "pattern": {
              "fillmode": "overlay",
              "size": 10,
              "solidity": 0.2
             }
            },
            "type": "barpolar"
           }
          ],
          "carpet": [
           {
            "aaxis": {
             "endlinecolor": "#2a3f5f",
             "gridcolor": "white",
             "linecolor": "white",
             "minorgridcolor": "white",
             "startlinecolor": "#2a3f5f"
            },
            "baxis": {
             "endlinecolor": "#2a3f5f",
             "gridcolor": "white",
             "linecolor": "white",
             "minorgridcolor": "white",
             "startlinecolor": "#2a3f5f"
            },
            "type": "carpet"
           }
          ],
          "choropleth": [
           {
            "colorbar": {
             "outlinewidth": 0,
             "ticks": ""
            },
            "type": "choropleth"
           }
          ],
          "contour": [
           {
            "colorbar": {
             "outlinewidth": 0,
             "ticks": ""
            },
            "colorscale": [
             [
              0,
              "#0d0887"
             ],
             [
              0.1111111111111111,
              "#46039f"
             ],
             [
              0.2222222222222222,
              "#7201a8"
             ],
             [
              0.3333333333333333,
              "#9c179e"
             ],
             [
              0.4444444444444444,
              "#bd3786"
             ],
             [
              0.5555555555555556,
              "#d8576b"
             ],
             [
              0.6666666666666666,
              "#ed7953"
             ],
             [
              0.7777777777777778,
              "#fb9f3a"
             ],
             [
              0.8888888888888888,
              "#fdca26"
             ],
             [
              1,
              "#f0f921"
             ]
            ],
            "type": "contour"
           }
          ],
          "contourcarpet": [
           {
            "colorbar": {
             "outlinewidth": 0,
             "ticks": ""
            },
            "type": "contourcarpet"
           }
          ],
          "heatmap": [
           {
            "colorbar": {
             "outlinewidth": 0,
             "ticks": ""
            },
            "colorscale": [
             [
              0,
              "#0d0887"
             ],
             [
              0.1111111111111111,
              "#46039f"
             ],
             [
              0.2222222222222222,
              "#7201a8"
             ],
             [
              0.3333333333333333,
              "#9c179e"
             ],
             [
              0.4444444444444444,
              "#bd3786"
             ],
             [
              0.5555555555555556,
              "#d8576b"
             ],
             [
              0.6666666666666666,
              "#ed7953"
             ],
             [
              0.7777777777777778,
              "#fb9f3a"
             ],
             [
              0.8888888888888888,
              "#fdca26"
             ],
             [
              1,
              "#f0f921"
             ]
            ],
            "type": "heatmap"
           }
          ],
          "heatmapgl": [
           {
            "colorbar": {
             "outlinewidth": 0,
             "ticks": ""
            },
            "colorscale": [
             [
              0,
              "#0d0887"
             ],
             [
              0.1111111111111111,
              "#46039f"
             ],
             [
              0.2222222222222222,
              "#7201a8"
             ],
             [
              0.3333333333333333,
              "#9c179e"
             ],
             [
              0.4444444444444444,
              "#bd3786"
             ],
             [
              0.5555555555555556,
              "#d8576b"
             ],
             [
              0.6666666666666666,
              "#ed7953"
             ],
             [
              0.7777777777777778,
              "#fb9f3a"
             ],
             [
              0.8888888888888888,
              "#fdca26"
             ],
             [
              1,
              "#f0f921"
             ]
            ],
            "type": "heatmapgl"
           }
          ],
          "histogram": [
           {
            "marker": {
             "pattern": {
              "fillmode": "overlay",
              "size": 10,
              "solidity": 0.2
             }
            },
            "type": "histogram"
           }
          ],
          "histogram2d": [
           {
            "colorbar": {
             "outlinewidth": 0,
             "ticks": ""
            },
            "colorscale": [
             [
              0,
              "#0d0887"
             ],
             [
              0.1111111111111111,
              "#46039f"
             ],
             [
              0.2222222222222222,
              "#7201a8"
             ],
             [
              0.3333333333333333,
              "#9c179e"
             ],
             [
              0.4444444444444444,
              "#bd3786"
             ],
             [
              0.5555555555555556,
              "#d8576b"
             ],
             [
              0.6666666666666666,
              "#ed7953"
             ],
             [
              0.7777777777777778,
              "#fb9f3a"
             ],
             [
              0.8888888888888888,
              "#fdca26"
             ],
             [
              1,
              "#f0f921"
             ]
            ],
            "type": "histogram2d"
           }
          ],
          "histogram2dcontour": [
           {
            "colorbar": {
             "outlinewidth": 0,
             "ticks": ""
            },
            "colorscale": [
             [
              0,
              "#0d0887"
             ],
             [
              0.1111111111111111,
              "#46039f"
             ],
             [
              0.2222222222222222,
              "#7201a8"
             ],
             [
              0.3333333333333333,
              "#9c179e"
             ],
             [
              0.4444444444444444,
              "#bd3786"
             ],
             [
              0.5555555555555556,
              "#d8576b"
             ],
             [
              0.6666666666666666,
              "#ed7953"
             ],
             [
              0.7777777777777778,
              "#fb9f3a"
             ],
             [
              0.8888888888888888,
              "#fdca26"
             ],
             [
              1,
              "#f0f921"
             ]
            ],
            "type": "histogram2dcontour"
           }
          ],
          "mesh3d": [
           {
            "colorbar": {
             "outlinewidth": 0,
             "ticks": ""
            },
            "type": "mesh3d"
           }
          ],
          "parcoords": [
           {
            "line": {
             "colorbar": {
              "outlinewidth": 0,
              "ticks": ""
             }
            },
            "type": "parcoords"
           }
          ],
          "pie": [
           {
            "automargin": true,
            "type": "pie"
           }
          ],
          "scatter": [
           {
            "fillpattern": {
             "fillmode": "overlay",
             "size": 10,
             "solidity": 0.2
            },
            "type": "scatter"
           }
          ],
          "scatter3d": [
           {
            "line": {
             "colorbar": {
              "outlinewidth": 0,
              "ticks": ""
             }
            },
            "marker": {
             "colorbar": {
              "outlinewidth": 0,
              "ticks": ""
             }
            },
            "type": "scatter3d"
           }
          ],
          "scattercarpet": [
           {
            "marker": {
             "colorbar": {
              "outlinewidth": 0,
              "ticks": ""
             }
            },
            "type": "scattercarpet"
           }
          ],
          "scattergeo": [
           {
            "marker": {
             "colorbar": {
              "outlinewidth": 0,
              "ticks": ""
             }
            },
            "type": "scattergeo"
           }
          ],
          "scattergl": [
           {
            "marker": {
             "colorbar": {
              "outlinewidth": 0,
              "ticks": ""
             }
            },
            "type": "scattergl"
           }
          ],
          "scattermapbox": [
           {
            "marker": {
             "colorbar": {
              "outlinewidth": 0,
              "ticks": ""
             }
            },
            "type": "scattermapbox"
           }
          ],
          "scatterpolar": [
           {
            "marker": {
             "colorbar": {
              "outlinewidth": 0,
              "ticks": ""
             }
            },
            "type": "scatterpolar"
           }
          ],
          "scatterpolargl": [
           {
            "marker": {
             "colorbar": {
              "outlinewidth": 0,
              "ticks": ""
             }
            },
            "type": "scatterpolargl"
           }
          ],
          "scatterternary": [
           {
            "marker": {
             "colorbar": {
              "outlinewidth": 0,
              "ticks": ""
             }
            },
            "type": "scatterternary"
           }
          ],
          "surface": [
           {
            "colorbar": {
             "outlinewidth": 0,
             "ticks": ""
            },
            "colorscale": [
             [
              0,
              "#0d0887"
             ],
             [
              0.1111111111111111,
              "#46039f"
             ],
             [
              0.2222222222222222,
              "#7201a8"
             ],
             [
              0.3333333333333333,
              "#9c179e"
             ],
             [
              0.4444444444444444,
              "#bd3786"
             ],
             [
              0.5555555555555556,
              "#d8576b"
             ],
             [
              0.6666666666666666,
              "#ed7953"
             ],
             [
              0.7777777777777778,
              "#fb9f3a"
             ],
             [
              0.8888888888888888,
              "#fdca26"
             ],
             [
              1,
              "#f0f921"
             ]
            ],
            "type": "surface"
           }
          ],
          "table": [
           {
            "cells": {
             "fill": {
              "color": "#EBF0F8"
             },
             "line": {
              "color": "white"
             }
            },
            "header": {
             "fill": {
              "color": "#C8D4E3"
             },
             "line": {
              "color": "white"
             }
            },
            "type": "table"
           }
          ]
         },
         "layout": {
          "annotationdefaults": {
           "arrowcolor": "#2a3f5f",
           "arrowhead": 0,
           "arrowwidth": 1
          },
          "autotypenumbers": "strict",
          "coloraxis": {
           "colorbar": {
            "outlinewidth": 0,
            "ticks": ""
           }
          },
          "colorscale": {
           "diverging": [
            [
             0,
             "#8e0152"
            ],
            [
             0.1,
             "#c51b7d"
            ],
            [
             0.2,
             "#de77ae"
            ],
            [
             0.3,
             "#f1b6da"
            ],
            [
             0.4,
             "#fde0ef"
            ],
            [
             0.5,
             "#f7f7f7"
            ],
            [
             0.6,
             "#e6f5d0"
            ],
            [
             0.7,
             "#b8e186"
            ],
            [
             0.8,
             "#7fbc41"
            ],
            [
             0.9,
             "#4d9221"
            ],
            [
             1,
             "#276419"
            ]
           ],
           "sequential": [
            [
             0,
             "#0d0887"
            ],
            [
             0.1111111111111111,
             "#46039f"
            ],
            [
             0.2222222222222222,
             "#7201a8"
            ],
            [
             0.3333333333333333,
             "#9c179e"
            ],
            [
             0.4444444444444444,
             "#bd3786"
            ],
            [
             0.5555555555555556,
             "#d8576b"
            ],
            [
             0.6666666666666666,
             "#ed7953"
            ],
            [
             0.7777777777777778,
             "#fb9f3a"
            ],
            [
             0.8888888888888888,
             "#fdca26"
            ],
            [
             1,
             "#f0f921"
            ]
           ],
           "sequentialminus": [
            [
             0,
             "#0d0887"
            ],
            [
             0.1111111111111111,
             "#46039f"
            ],
            [
             0.2222222222222222,
             "#7201a8"
            ],
            [
             0.3333333333333333,
             "#9c179e"
            ],
            [
             0.4444444444444444,
             "#bd3786"
            ],
            [
             0.5555555555555556,
             "#d8576b"
            ],
            [
             0.6666666666666666,
             "#ed7953"
            ],
            [
             0.7777777777777778,
             "#fb9f3a"
            ],
            [
             0.8888888888888888,
             "#fdca26"
            ],
            [
             1,
             "#f0f921"
            ]
           ]
          },
          "colorway": [
           "#636efa",
           "#EF553B",
           "#00cc96",
           "#ab63fa",
           "#FFA15A",
           "#19d3f3",
           "#FF6692",
           "#B6E880",
           "#FF97FF",
           "#FECB52"
          ],
          "font": {
           "color": "#2a3f5f"
          },
          "geo": {
           "bgcolor": "white",
           "lakecolor": "white",
           "landcolor": "#E5ECF6",
           "showlakes": true,
           "showland": true,
           "subunitcolor": "white"
          },
          "hoverlabel": {
           "align": "left"
          },
          "hovermode": "closest",
          "mapbox": {
           "style": "light"
          },
          "paper_bgcolor": "white",
          "plot_bgcolor": "#E5ECF6",
          "polar": {
           "angularaxis": {
            "gridcolor": "white",
            "linecolor": "white",
            "ticks": ""
           },
           "bgcolor": "#E5ECF6",
           "radialaxis": {
            "gridcolor": "white",
            "linecolor": "white",
            "ticks": ""
           }
          },
          "scene": {
           "xaxis": {
            "backgroundcolor": "#E5ECF6",
            "gridcolor": "white",
            "gridwidth": 2,
            "linecolor": "white",
            "showbackground": true,
            "ticks": "",
            "zerolinecolor": "white"
           },
           "yaxis": {
            "backgroundcolor": "#E5ECF6",
            "gridcolor": "white",
            "gridwidth": 2,
            "linecolor": "white",
            "showbackground": true,
            "ticks": "",
            "zerolinecolor": "white"
           },
           "zaxis": {
            "backgroundcolor": "#E5ECF6",
            "gridcolor": "white",
            "gridwidth": 2,
            "linecolor": "white",
            "showbackground": true,
            "ticks": "",
            "zerolinecolor": "white"
           }
          },
          "shapedefaults": {
           "line": {
            "color": "#2a3f5f"
           }
          },
          "ternary": {
           "aaxis": {
            "gridcolor": "white",
            "linecolor": "white",
            "ticks": ""
           },
           "baxis": {
            "gridcolor": "white",
            "linecolor": "white",
            "ticks": ""
           },
           "bgcolor": "#E5ECF6",
           "caxis": {
            "gridcolor": "white",
            "linecolor": "white",
            "ticks": ""
           }
          },
          "title": {
           "x": 0.05
          },
          "xaxis": {
           "automargin": true,
           "gridcolor": "white",
           "linecolor": "white",
           "ticks": "",
           "title": {
            "standoff": 15
           },
           "zerolinecolor": "white",
           "zerolinewidth": 2
          },
          "yaxis": {
           "automargin": true,
           "gridcolor": "white",
           "linecolor": "white",
           "ticks": "",
           "title": {
            "standoff": 15
           },
           "zerolinecolor": "white",
           "zerolinewidth": 2
          }
         }
        },
        "xaxis": {
         "anchor": "y",
         "domain": [
          0,
          1
         ],
         "title": {
          "text": "timestamp"
         }
        },
        "yaxis": {
         "anchor": "x",
         "domain": [
          0,
          1
         ],
         "title": {
          "text": "value"
         }
        }
       }
      }
     },
     "metadata": {},
     "output_type": "display_data"
    },
    {
     "name": "stdout",
     "output_type": "stream",
     "text": [
      "extra_reward_per_token_cols=['AURA|| 0 extraRewardPerToken'] extra_reward_to_eth_cols=['AURA_to_ETH']\n"
     ]
    },
    {
     "data": {
      "application/vnd.plotly.v1+json": {
       "config": {
        "plotlyServerURL": "https://plot.ly"
       },
       "data": [
        {
         "hovertemplate": "variable=Balancer ETHx/wstETH Growth of a ETH<br>timestamp=%{x}<br>value=%{y}<extra></extra>",
         "legendgroup": "Balancer ETHx/wstETH Growth of a ETH",
         "line": {
          "color": "#636efa",
          "dash": "solid"
         },
         "marker": {
          "symbol": "circle"
         },
         "mode": "lines",
         "name": "Balancer ETHx/wstETH Growth of a ETH",
         "orientation": "v",
         "showlegend": true,
         "type": "scatter",
         "x": [
          "2024-07-17T00:53:47",
          "2024-07-17T06:50:11",
          "2024-07-17T12:46:35",
          "2024-07-17T18:43:35",
          "2024-07-18T00:40:11",
          "2024-07-18T06:37:35",
          "2024-07-18T12:34:59",
          "2024-07-18T18:31:35",
          "2024-07-19T00:27:59",
          "2024-07-19T06:24:23",
          "2024-07-19T12:20:35",
          "2024-07-19T18:17:11",
          "2024-07-20T00:13:23",
          "2024-07-20T06:10:35",
          "2024-07-20T12:07:35",
          "2024-07-20T18:04:23",
          "2024-07-21T00:00:47",
          "2024-07-21T05:57:23",
          "2024-07-21T11:53:23",
          "2024-07-21T17:50:35",
          "2024-07-21T23:47:35",
          "2024-07-22T05:44:23",
          "2024-07-22T11:41:35",
          "2024-07-22T17:38:59",
          "2024-07-22T23:35:47",
          "2024-07-23T05:32:47",
          "2024-07-23T11:29:35",
          "2024-07-23T17:25:47",
          "2024-07-23T23:22:35",
          "2024-07-24T05:18:47",
          "2024-07-24T11:15:11",
          "2024-07-24T17:12:23",
          "2024-07-24T23:09:59",
          "2024-07-25T05:06:35",
          "2024-07-25T11:02:47",
          "2024-07-25T16:59:47",
          "2024-07-25T22:57:23",
          "2024-07-26T04:54:47",
          "2024-07-26T10:50:47",
          "2024-07-26T16:47:47",
          "2024-07-26T22:44:47",
          "2024-07-27T04:42:11",
          "2024-07-27T10:39:11",
          "2024-07-27T16:35:11",
          "2024-07-27T22:32:35",
          "2024-07-28T04:29:59",
          "2024-07-28T10:26:35",
          "2024-07-28T16:22:35",
          "2024-07-28T22:18:11",
          "2024-07-29T04:15:11",
          "2024-07-29T10:11:59",
          "2024-07-29T16:07:47",
          "2024-07-29T22:03:47",
          "2024-07-30T04:01:23",
          "2024-07-30T10:01:11",
          "2024-07-30T15:58:35",
          "2024-07-30T21:55:35",
          "2024-07-31T03:52:11",
          "2024-07-31T09:48:35",
          "2024-07-31T15:45:11",
          "2024-07-31T21:42:47",
          "2024-08-01T03:39:11",
          "2024-08-01T09:35:35",
          "2024-08-01T15:32:35",
          "2024-08-01T21:29:23",
          "2024-08-02T03:26:11",
          "2024-08-02T09:22:59",
          "2024-08-02T15:19:59",
          "2024-08-02T21:18:11",
          "2024-08-03T03:15:11",
          "2024-08-03T09:12:35",
          "2024-08-03T15:08:47",
          "2024-08-03T21:05:11",
          "2024-08-04T03:01:47",
          "2024-08-04T08:57:23",
          "2024-08-04T14:53:23",
          "2024-08-04T20:49:59",
          "2024-08-05T02:45:47",
          "2024-08-05T08:41:47",
          "2024-08-05T14:38:47",
          "2024-08-05T20:36:11",
          "2024-08-06T02:32:23",
          "2024-08-06T08:28:47",
          "2024-08-06T14:25:47",
          "2024-08-06T20:22:47",
          "2024-08-07T02:19:23",
          "2024-08-07T08:15:59",
          "2024-08-07T14:12:35",
          "2024-08-07T20:08:35",
          "2024-08-08T02:05:23",
          "2024-08-08T08:01:47",
          "2024-08-08T13:58:23",
          "2024-08-08T19:54:11",
          "2024-08-09T01:50:11",
          "2024-08-09T07:46:35",
          "2024-08-09T13:42:35",
          "2024-08-09T19:39:35",
          "2024-08-10T01:36:23",
          "2024-08-10T07:32:35",
          "2024-08-10T13:29:59",
          "2024-08-10T19:25:11",
          "2024-08-11T01:22:23",
          "2024-08-11T07:19:47",
          "2024-08-11T13:17:35",
          "2024-08-11T19:14:23",
          "2024-08-12T01:10:23",
          "2024-08-12T07:07:35",
          "2024-08-12T13:04:59",
          "2024-08-12T19:01:47",
          "2024-08-13T00:56:47",
          "2024-08-13T06:53:35",
          "2024-08-13T12:50:47",
          "2024-08-13T18:47:11",
          "2024-08-14T00:43:35",
          "2024-08-14T06:40:47",
          "2024-08-14T12:37:11",
          "2024-08-14T18:34:11",
          "2024-08-15T00:31:11",
          "2024-08-15T06:27:59",
          "2024-08-15T12:25:23",
          "2024-08-15T18:22:47",
          "2024-08-16T00:20:35",
          "2024-08-16T06:16:35",
          "2024-08-16T12:12:47",
          "2024-08-16T18:09:23",
          "2024-08-17T00:07:23",
          "2024-08-17T06:04:59",
          "2024-08-17T12:01:59",
          "2024-08-17T17:59:59",
          "2024-08-17T23:56:11",
          "2024-08-18T05:51:59",
          "2024-08-18T11:48:47",
          "2024-08-18T17:45:11",
          "2024-08-18T23:41:23",
          "2024-08-19T05:39:23",
          "2024-08-19T11:35:47",
          "2024-08-19T17:33:47",
          "2024-08-19T23:29:47",
          "2024-08-20T05:26:11",
          "2024-08-20T11:24:23",
          "2024-08-20T17:20:59",
          "2024-08-20T23:18:35",
          "2024-08-21T05:15:11",
          "2024-08-21T11:11:11",
          "2024-08-21T17:08:35",
          "2024-08-21T23:06:35",
          "2024-08-22T05:04:23",
          "2024-08-22T11:01:59",
          "2024-08-22T16:58:23",
          "2024-08-22T22:54:35",
          "2024-08-23T04:51:59",
          "2024-08-23T10:50:35",
          "2024-08-23T16:47:23",
          "2024-08-23T22:44:11",
          "2024-08-24T04:40:59",
          "2024-08-24T10:38:47",
          "2024-08-24T16:36:11",
          "2024-08-24T22:33:35",
          "2024-08-25T04:31:35",
          "2024-08-25T10:29:35",
          "2024-08-25T16:26:35",
          "2024-08-25T22:23:11",
          "2024-08-26T04:20:11",
          "2024-08-26T10:17:35",
          "2024-08-26T16:13:59",
          "2024-08-26T22:10:59",
          "2024-08-27T04:08:59",
          "2024-08-27T10:06:23",
          "2024-08-27T16:02:35",
          "2024-08-27T21:59:11",
          "2024-08-28T03:55:35",
          "2024-08-28T09:53:23",
          "2024-08-28T15:49:47",
          "2024-08-28T21:46:35",
          "2024-08-29T03:43:59",
          "2024-08-29T09:41:47",
          "2024-08-29T15:39:23",
          "2024-08-29T21:36:35",
          "2024-08-30T03:34:35",
          "2024-08-30T09:31:47",
          "2024-08-30T15:28:35",
          "2024-08-30T21:24:59",
          "2024-08-31T03:22:59",
          "2024-08-31T09:19:47",
          "2024-08-31T15:16:59",
          "2024-08-31T21:13:47",
          "2024-09-01T03:09:59",
          "2024-09-01T09:05:47",
          "2024-09-01T15:02:59",
          "2024-09-01T21:00:35",
          "2024-09-02T02:56:47",
          "2024-09-02T08:52:47",
          "2024-09-02T14:50:11",
          "2024-09-02T20:46:23",
          "2024-09-03T02:42:59",
          "2024-09-03T08:40:23",
          "2024-09-03T14:36:47",
          "2024-09-03T20:32:35"
         ],
         "xaxis": "x",
         "y": [
          1,
          1.000058074405066,
          1.0002748334761042,
          1.000323301596772,
          1.0003959050881264,
          1.000460788335879,
          1.0007842310038981,
          1.000847158701873,
          1.000943446378102,
          1.0012803426440102,
          1.0016226142138784,
          1.0016636115586846,
          1.0017134745960141,
          1.0014968352688578,
          1.001351972902561,
          1.0014395498764983,
          1.0014292588114884,
          1.001345455456805,
          1.001430371664363,
          1.001541609029407,
          1.001634518745181,
          1.001893441786119,
          1.0020003794187096,
          1.0021325349188268,
          1.002238631821336,
          1.0023589612049653,
          1.002466614882864,
          1.0026144655624487,
          1.0027478903074636,
          1.002820478395464,
          1.0029147576133133,
          1.0031099923974536,
          1.0031655285862946,
          1.0032012772332533,
          1.0032854723485949,
          1.0032849579019236,
          1.0033748538102447,
          1.0033204385546663,
          1.0034286823600234,
          1.0037527372618633,
          1.0038802028529925,
          1.004209071489226,
          1.0043134936024074,
          1.0046589382465256,
          1.0046676597501507,
          1.004743010423915,
          1.0047882681993947,
          1.0047847927638869,
          1.0048068150715201,
          1.0049128095403996,
          1.0049719060569298,
          1.005073461588581,
          1.0050844771954544,
          1.00506827860415,
          1.0051346990235668,
          1.0052969988612788,
          1.005366538225961,
          1.0053967618658761,
          1.0054600808173368,
          1.0056168433111883,
          1.0055985854056817,
          1.0056610979582712,
          1.0057179099641929,
          1.0058616034733268,
          1.0059598030142802,
          1.005987210737658,
          1.005877877417578,
          1.0059885197475968,
          1.0062863522003893,
          1.0064009230329503,
          1.0063801505212278,
          1.0064980706335434,
          1.0066897010022073,
          1.0067239658374911,
          1.0067926578183537,
          1.006837182938265,
          1.0066024963777762,
          0.9974740192057197,
          1.000461454608875,
          1.003076304623392,
          1.005958218840759,
          1.0059282810604633,
          1.0060123338292855,
          1.0067004205660208,
          1.0071635643880195,
          1.007250362894509,
          1.007277365063539,
          1.007342074456898,
          1.0077990008751103,
          1.0081345704157911,
          1.0082658882087565,
          1.0083097126107279,
          1.0082193756027398,
          1.0076886055765841,
          1.0078760350958829,
          1.0080946388680925,
          1.0081664988782997,
          1.008840838989686,
          1.0090319672600991,
          1.0092223597412262,
          1.0092917548242453,
          1.0093844018917617,
          1.0095659626817057,
          1.0095803028042776,
          1.0095963842193196,
          1.0097664399108706,
          1.0096509555603443,
          1.00938053675735,
          1.0094500091647811,
          1.0094106811298564,
          1.0095231568487681,
          1.0095673431691163,
          1.0096234002888163,
          1.0096841773926544,
          1.009704994633717,
          1.0100985570190837,
          1.0101655848379862,
          1.0101937110967618,
          1.010354510231348,
          1.0105774989566727,
          1.0106788447819763,
          1.0107436775262149,
          1.0107170793723097,
          1.0107364752293062,
          1.0107340231768835,
          1.010742062345487,
          1.0107964999209924,
          1.010997075968966,
          1.010992427314636,
          1.011118271263836,
          1.0111805323681795,
          1.011271447097552,
          1.0114447318562576,
          1.0114737914676828,
          1.0117278942504089,
          1.0119441589494587,
          1.0120305534825658,
          1.0120815040347635,
          1.0119755865214064,
          1.0120615082246416,
          1.0122175923008878,
          1.0122433796636816,
          1.0120685813644825,
          1.012247639600609,
          1.012315978609483,
          1.0126151798358365,
          1.012839726790872,
          1.0131371977112835,
          1.0132344244032443,
          1.0131459622121703,
          1.0132444699573842,
          1.0134018955957425,
          1.0135174309705166,
          1.0135333237163657,
          1.0136066281552878,
          1.01373514158777,
          1.0139711216638518,
          1.0139852607699824,
          1.01381249531293,
          1.0139659746674206,
          1.0138703007367023,
          1.0141130662602718,
          1.0142513440415755,
          1.0143804204491802,
          1.0144425020313024,
          1.0144830214580747,
          1.0144905706762508,
          1.0146131512505967,
          1.0147156491771554,
          1.014932302919766,
          1.0148463117929958,
          1.014920820092571,
          1.0151377989810044,
          1.0150350308917289,
          1.0150108238312692,
          1.0150851203174718,
          1.0151708036200184,
          1.015142164955979,
          1.0151588994392928,
          1.0152448700700527,
          1.0151571941346509,
          1.0151297610523309,
          1.01516702095846,
          1.0152219370700142,
          1.0152387899171693,
          1.0152654930581602,
          1.0154562685181023,
          1.0155745242362075,
          1.0156739478754573,
          1.0157563323710819,
          1.015978530265105,
          1.0159887827807776,
          1.0161525171360284,
          1.016212139671522,
          1.016238474931691,
          1.0162912742865673,
          1.0167913481790307,
          1.0166978459980798
         ],
         "yaxis": "y"
        }
       ],
       "layout": {
        "legend": {
         "title": {
          "text": "variable"
         },
         "tracegroupgap": 0
        },
        "margin": {
         "t": 60
        },
        "template": {
         "data": {
          "bar": [
           {
            "error_x": {
             "color": "#2a3f5f"
            },
            "error_y": {
             "color": "#2a3f5f"
            },
            "marker": {
             "line": {
              "color": "#E5ECF6",
              "width": 0.5
             },
             "pattern": {
              "fillmode": "overlay",
              "size": 10,
              "solidity": 0.2
             }
            },
            "type": "bar"
           }
          ],
          "barpolar": [
           {
            "marker": {
             "line": {
              "color": "#E5ECF6",
              "width": 0.5
             },
             "pattern": {
              "fillmode": "overlay",
              "size": 10,
              "solidity": 0.2
             }
            },
            "type": "barpolar"
           }
          ],
          "carpet": [
           {
            "aaxis": {
             "endlinecolor": "#2a3f5f",
             "gridcolor": "white",
             "linecolor": "white",
             "minorgridcolor": "white",
             "startlinecolor": "#2a3f5f"
            },
            "baxis": {
             "endlinecolor": "#2a3f5f",
             "gridcolor": "white",
             "linecolor": "white",
             "minorgridcolor": "white",
             "startlinecolor": "#2a3f5f"
            },
            "type": "carpet"
           }
          ],
          "choropleth": [
           {
            "colorbar": {
             "outlinewidth": 0,
             "ticks": ""
            },
            "type": "choropleth"
           }
          ],
          "contour": [
           {
            "colorbar": {
             "outlinewidth": 0,
             "ticks": ""
            },
            "colorscale": [
             [
              0,
              "#0d0887"
             ],
             [
              0.1111111111111111,
              "#46039f"
             ],
             [
              0.2222222222222222,
              "#7201a8"
             ],
             [
              0.3333333333333333,
              "#9c179e"
             ],
             [
              0.4444444444444444,
              "#bd3786"
             ],
             [
              0.5555555555555556,
              "#d8576b"
             ],
             [
              0.6666666666666666,
              "#ed7953"
             ],
             [
              0.7777777777777778,
              "#fb9f3a"
             ],
             [
              0.8888888888888888,
              "#fdca26"
             ],
             [
              1,
              "#f0f921"
             ]
            ],
            "type": "contour"
           }
          ],
          "contourcarpet": [
           {
            "colorbar": {
             "outlinewidth": 0,
             "ticks": ""
            },
            "type": "contourcarpet"
           }
          ],
          "heatmap": [
           {
            "colorbar": {
             "outlinewidth": 0,
             "ticks": ""
            },
            "colorscale": [
             [
              0,
              "#0d0887"
             ],
             [
              0.1111111111111111,
              "#46039f"
             ],
             [
              0.2222222222222222,
              "#7201a8"
             ],
             [
              0.3333333333333333,
              "#9c179e"
             ],
             [
              0.4444444444444444,
              "#bd3786"
             ],
             [
              0.5555555555555556,
              "#d8576b"
             ],
             [
              0.6666666666666666,
              "#ed7953"
             ],
             [
              0.7777777777777778,
              "#fb9f3a"
             ],
             [
              0.8888888888888888,
              "#fdca26"
             ],
             [
              1,
              "#f0f921"
             ]
            ],
            "type": "heatmap"
           }
          ],
          "heatmapgl": [
           {
            "colorbar": {
             "outlinewidth": 0,
             "ticks": ""
            },
            "colorscale": [
             [
              0,
              "#0d0887"
             ],
             [
              0.1111111111111111,
              "#46039f"
             ],
             [
              0.2222222222222222,
              "#7201a8"
             ],
             [
              0.3333333333333333,
              "#9c179e"
             ],
             [
              0.4444444444444444,
              "#bd3786"
             ],
             [
              0.5555555555555556,
              "#d8576b"
             ],
             [
              0.6666666666666666,
              "#ed7953"
             ],
             [
              0.7777777777777778,
              "#fb9f3a"
             ],
             [
              0.8888888888888888,
              "#fdca26"
             ],
             [
              1,
              "#f0f921"
             ]
            ],
            "type": "heatmapgl"
           }
          ],
          "histogram": [
           {
            "marker": {
             "pattern": {
              "fillmode": "overlay",
              "size": 10,
              "solidity": 0.2
             }
            },
            "type": "histogram"
           }
          ],
          "histogram2d": [
           {
            "colorbar": {
             "outlinewidth": 0,
             "ticks": ""
            },
            "colorscale": [
             [
              0,
              "#0d0887"
             ],
             [
              0.1111111111111111,
              "#46039f"
             ],
             [
              0.2222222222222222,
              "#7201a8"
             ],
             [
              0.3333333333333333,
              "#9c179e"
             ],
             [
              0.4444444444444444,
              "#bd3786"
             ],
             [
              0.5555555555555556,
              "#d8576b"
             ],
             [
              0.6666666666666666,
              "#ed7953"
             ],
             [
              0.7777777777777778,
              "#fb9f3a"
             ],
             [
              0.8888888888888888,
              "#fdca26"
             ],
             [
              1,
              "#f0f921"
             ]
            ],
            "type": "histogram2d"
           }
          ],
          "histogram2dcontour": [
           {
            "colorbar": {
             "outlinewidth": 0,
             "ticks": ""
            },
            "colorscale": [
             [
              0,
              "#0d0887"
             ],
             [
              0.1111111111111111,
              "#46039f"
             ],
             [
              0.2222222222222222,
              "#7201a8"
             ],
             [
              0.3333333333333333,
              "#9c179e"
             ],
             [
              0.4444444444444444,
              "#bd3786"
             ],
             [
              0.5555555555555556,
              "#d8576b"
             ],
             [
              0.6666666666666666,
              "#ed7953"
             ],
             [
              0.7777777777777778,
              "#fb9f3a"
             ],
             [
              0.8888888888888888,
              "#fdca26"
             ],
             [
              1,
              "#f0f921"
             ]
            ],
            "type": "histogram2dcontour"
           }
          ],
          "mesh3d": [
           {
            "colorbar": {
             "outlinewidth": 0,
             "ticks": ""
            },
            "type": "mesh3d"
           }
          ],
          "parcoords": [
           {
            "line": {
             "colorbar": {
              "outlinewidth": 0,
              "ticks": ""
             }
            },
            "type": "parcoords"
           }
          ],
          "pie": [
           {
            "automargin": true,
            "type": "pie"
           }
          ],
          "scatter": [
           {
            "fillpattern": {
             "fillmode": "overlay",
             "size": 10,
             "solidity": 0.2
            },
            "type": "scatter"
           }
          ],
          "scatter3d": [
           {
            "line": {
             "colorbar": {
              "outlinewidth": 0,
              "ticks": ""
             }
            },
            "marker": {
             "colorbar": {
              "outlinewidth": 0,
              "ticks": ""
             }
            },
            "type": "scatter3d"
           }
          ],
          "scattercarpet": [
           {
            "marker": {
             "colorbar": {
              "outlinewidth": 0,
              "ticks": ""
             }
            },
            "type": "scattercarpet"
           }
          ],
          "scattergeo": [
           {
            "marker": {
             "colorbar": {
              "outlinewidth": 0,
              "ticks": ""
             }
            },
            "type": "scattergeo"
           }
          ],
          "scattergl": [
           {
            "marker": {
             "colorbar": {
              "outlinewidth": 0,
              "ticks": ""
             }
            },
            "type": "scattergl"
           }
          ],
          "scattermapbox": [
           {
            "marker": {
             "colorbar": {
              "outlinewidth": 0,
              "ticks": ""
             }
            },
            "type": "scattermapbox"
           }
          ],
          "scatterpolar": [
           {
            "marker": {
             "colorbar": {
              "outlinewidth": 0,
              "ticks": ""
             }
            },
            "type": "scatterpolar"
           }
          ],
          "scatterpolargl": [
           {
            "marker": {
             "colorbar": {
              "outlinewidth": 0,
              "ticks": ""
             }
            },
            "type": "scatterpolargl"
           }
          ],
          "scatterternary": [
           {
            "marker": {
             "colorbar": {
              "outlinewidth": 0,
              "ticks": ""
             }
            },
            "type": "scatterternary"
           }
          ],
          "surface": [
           {
            "colorbar": {
             "outlinewidth": 0,
             "ticks": ""
            },
            "colorscale": [
             [
              0,
              "#0d0887"
             ],
             [
              0.1111111111111111,
              "#46039f"
             ],
             [
              0.2222222222222222,
              "#7201a8"
             ],
             [
              0.3333333333333333,
              "#9c179e"
             ],
             [
              0.4444444444444444,
              "#bd3786"
             ],
             [
              0.5555555555555556,
              "#d8576b"
             ],
             [
              0.6666666666666666,
              "#ed7953"
             ],
             [
              0.7777777777777778,
              "#fb9f3a"
             ],
             [
              0.8888888888888888,
              "#fdca26"
             ],
             [
              1,
              "#f0f921"
             ]
            ],
            "type": "surface"
           }
          ],
          "table": [
           {
            "cells": {
             "fill": {
              "color": "#EBF0F8"
             },
             "line": {
              "color": "white"
             }
            },
            "header": {
             "fill": {
              "color": "#C8D4E3"
             },
             "line": {
              "color": "white"
             }
            },
            "type": "table"
           }
          ]
         },
         "layout": {
          "annotationdefaults": {
           "arrowcolor": "#2a3f5f",
           "arrowhead": 0,
           "arrowwidth": 1
          },
          "autotypenumbers": "strict",
          "coloraxis": {
           "colorbar": {
            "outlinewidth": 0,
            "ticks": ""
           }
          },
          "colorscale": {
           "diverging": [
            [
             0,
             "#8e0152"
            ],
            [
             0.1,
             "#c51b7d"
            ],
            [
             0.2,
             "#de77ae"
            ],
            [
             0.3,
             "#f1b6da"
            ],
            [
             0.4,
             "#fde0ef"
            ],
            [
             0.5,
             "#f7f7f7"
            ],
            [
             0.6,
             "#e6f5d0"
            ],
            [
             0.7,
             "#b8e186"
            ],
            [
             0.8,
             "#7fbc41"
            ],
            [
             0.9,
             "#4d9221"
            ],
            [
             1,
             "#276419"
            ]
           ],
           "sequential": [
            [
             0,
             "#0d0887"
            ],
            [
             0.1111111111111111,
             "#46039f"
            ],
            [
             0.2222222222222222,
             "#7201a8"
            ],
            [
             0.3333333333333333,
             "#9c179e"
            ],
            [
             0.4444444444444444,
             "#bd3786"
            ],
            [
             0.5555555555555556,
             "#d8576b"
            ],
            [
             0.6666666666666666,
             "#ed7953"
            ],
            [
             0.7777777777777778,
             "#fb9f3a"
            ],
            [
             0.8888888888888888,
             "#fdca26"
            ],
            [
             1,
             "#f0f921"
            ]
           ],
           "sequentialminus": [
            [
             0,
             "#0d0887"
            ],
            [
             0.1111111111111111,
             "#46039f"
            ],
            [
             0.2222222222222222,
             "#7201a8"
            ],
            [
             0.3333333333333333,
             "#9c179e"
            ],
            [
             0.4444444444444444,
             "#bd3786"
            ],
            [
             0.5555555555555556,
             "#d8576b"
            ],
            [
             0.6666666666666666,
             "#ed7953"
            ],
            [
             0.7777777777777778,
             "#fb9f3a"
            ],
            [
             0.8888888888888888,
             "#fdca26"
            ],
            [
             1,
             "#f0f921"
            ]
           ]
          },
          "colorway": [
           "#636efa",
           "#EF553B",
           "#00cc96",
           "#ab63fa",
           "#FFA15A",
           "#19d3f3",
           "#FF6692",
           "#B6E880",
           "#FF97FF",
           "#FECB52"
          ],
          "font": {
           "color": "#2a3f5f"
          },
          "geo": {
           "bgcolor": "white",
           "lakecolor": "white",
           "landcolor": "#E5ECF6",
           "showlakes": true,
           "showland": true,
           "subunitcolor": "white"
          },
          "hoverlabel": {
           "align": "left"
          },
          "hovermode": "closest",
          "mapbox": {
           "style": "light"
          },
          "paper_bgcolor": "white",
          "plot_bgcolor": "#E5ECF6",
          "polar": {
           "angularaxis": {
            "gridcolor": "white",
            "linecolor": "white",
            "ticks": ""
           },
           "bgcolor": "#E5ECF6",
           "radialaxis": {
            "gridcolor": "white",
            "linecolor": "white",
            "ticks": ""
           }
          },
          "scene": {
           "xaxis": {
            "backgroundcolor": "#E5ECF6",
            "gridcolor": "white",
            "gridwidth": 2,
            "linecolor": "white",
            "showbackground": true,
            "ticks": "",
            "zerolinecolor": "white"
           },
           "yaxis": {
            "backgroundcolor": "#E5ECF6",
            "gridcolor": "white",
            "gridwidth": 2,
            "linecolor": "white",
            "showbackground": true,
            "ticks": "",
            "zerolinecolor": "white"
           },
           "zaxis": {
            "backgroundcolor": "#E5ECF6",
            "gridcolor": "white",
            "gridwidth": 2,
            "linecolor": "white",
            "showbackground": true,
            "ticks": "",
            "zerolinecolor": "white"
           }
          },
          "shapedefaults": {
           "line": {
            "color": "#2a3f5f"
           }
          },
          "ternary": {
           "aaxis": {
            "gridcolor": "white",
            "linecolor": "white",
            "ticks": ""
           },
           "baxis": {
            "gridcolor": "white",
            "linecolor": "white",
            "ticks": ""
           },
           "bgcolor": "#E5ECF6",
           "caxis": {
            "gridcolor": "white",
            "linecolor": "white",
            "ticks": ""
           }
          },
          "title": {
           "x": 0.05
          },
          "xaxis": {
           "automargin": true,
           "gridcolor": "white",
           "linecolor": "white",
           "ticks": "",
           "title": {
            "standoff": 15
           },
           "zerolinecolor": "white",
           "zerolinewidth": 2
          },
          "yaxis": {
           "automargin": true,
           "gridcolor": "white",
           "linecolor": "white",
           "ticks": "",
           "title": {
            "standoff": 15
           },
           "zerolinecolor": "white",
           "zerolinewidth": 2
          }
         }
        },
        "xaxis": {
         "anchor": "y",
         "domain": [
          0,
          1
         ],
         "title": {
          "text": "timestamp"
         }
        },
        "yaxis": {
         "anchor": "x",
         "domain": [
          0,
          1
         ],
         "title": {
          "text": "value"
         }
        }
       }
      }
     },
     "metadata": {},
     "output_type": "display_data"
    },
    {
     "name": "stdout",
     "output_type": "stream",
     "text": [
      "extra_reward_per_token_cols=['AURA|| 0 extraRewardPerToken'] extra_reward_to_eth_cols=['AURA_to_ETH']\n"
     ]
    },
    {
     "data": {
      "application/vnd.plotly.v1+json": {
       "config": {
        "plotlyServerURL": "https://plot.ly"
       },
       "data": [
        {
         "hovertemplate": "variable=Balancer swETH-WETH Stable Pool Growth of a ETH<br>timestamp=%{x}<br>value=%{y}<extra></extra>",
         "legendgroup": "Balancer swETH-WETH Stable Pool Growth of a ETH",
         "line": {
          "color": "#636efa",
          "dash": "solid"
         },
         "marker": {
          "symbol": "circle"
         },
         "mode": "lines",
         "name": "Balancer swETH-WETH Stable Pool Growth of a ETH",
         "orientation": "v",
         "showlegend": true,
         "type": "scatter",
         "x": [
          "2024-07-17T00:53:47",
          "2024-07-17T06:50:11",
          "2024-07-17T12:46:35",
          "2024-07-17T18:43:35",
          "2024-07-18T00:40:11",
          "2024-07-18T06:37:35",
          "2024-07-18T12:34:59",
          "2024-07-18T18:31:35",
          "2024-07-19T00:27:59",
          "2024-07-19T06:24:23",
          "2024-07-19T12:20:35",
          "2024-07-19T18:17:11",
          "2024-07-20T00:13:23",
          "2024-07-20T06:10:35",
          "2024-07-20T12:07:35",
          "2024-07-20T18:04:23",
          "2024-07-21T00:00:47",
          "2024-07-21T05:57:23",
          "2024-07-21T11:53:23",
          "2024-07-21T17:50:35",
          "2024-07-21T23:47:35",
          "2024-07-22T05:44:23",
          "2024-07-22T11:41:35",
          "2024-07-22T17:38:59",
          "2024-07-22T23:35:47",
          "2024-07-23T05:32:47",
          "2024-07-23T11:29:35",
          "2024-07-23T17:25:47",
          "2024-07-23T23:22:35",
          "2024-07-24T05:18:47",
          "2024-07-24T11:15:11",
          "2024-07-24T17:12:23",
          "2024-07-24T23:09:59",
          "2024-07-25T05:06:35",
          "2024-07-25T11:02:47",
          "2024-07-25T16:59:47",
          "2024-07-25T22:57:23",
          "2024-07-26T04:54:47",
          "2024-07-26T10:50:47",
          "2024-07-26T16:47:47",
          "2024-07-26T22:44:47",
          "2024-07-27T04:42:11",
          "2024-07-27T10:39:11",
          "2024-07-27T16:35:11",
          "2024-07-27T22:32:35",
          "2024-07-28T04:29:59",
          "2024-07-28T10:26:35",
          "2024-07-28T16:22:35",
          "2024-07-28T22:18:11",
          "2024-07-29T04:15:11",
          "2024-07-29T10:11:59",
          "2024-07-29T16:07:47",
          "2024-07-29T22:03:47",
          "2024-07-30T04:01:23",
          "2024-07-30T10:01:11",
          "2024-07-30T15:58:35",
          "2024-07-30T21:55:35",
          "2024-07-31T03:52:11",
          "2024-07-31T09:48:35",
          "2024-07-31T15:45:11",
          "2024-07-31T21:42:47",
          "2024-08-01T03:39:11",
          "2024-08-01T09:35:35",
          "2024-08-01T15:32:35",
          "2024-08-01T21:29:23",
          "2024-08-02T03:26:11",
          "2024-08-02T09:22:59",
          "2024-08-02T15:19:59",
          "2024-08-02T21:18:11",
          "2024-08-03T03:15:11",
          "2024-08-03T09:12:35",
          "2024-08-03T15:08:47",
          "2024-08-03T21:05:11",
          "2024-08-04T03:01:47",
          "2024-08-04T08:57:23",
          "2024-08-04T14:53:23",
          "2024-08-04T20:49:59",
          "2024-08-05T02:45:47",
          "2024-08-05T08:41:47",
          "2024-08-05T14:38:47",
          "2024-08-05T20:36:11",
          "2024-08-06T02:32:23",
          "2024-08-06T08:28:47",
          "2024-08-06T14:25:47",
          "2024-08-06T20:22:47",
          "2024-08-07T02:19:23",
          "2024-08-07T08:15:59",
          "2024-08-07T14:12:35",
          "2024-08-07T20:08:35",
          "2024-08-08T02:05:23",
          "2024-08-08T08:01:47",
          "2024-08-08T13:58:23",
          "2024-08-08T19:54:11",
          "2024-08-09T01:50:11",
          "2024-08-09T07:46:35",
          "2024-08-09T13:42:35",
          "2024-08-09T19:39:35",
          "2024-08-10T01:36:23",
          "2024-08-10T07:32:35",
          "2024-08-10T13:29:59",
          "2024-08-10T19:25:11",
          "2024-08-11T01:22:23",
          "2024-08-11T07:19:47",
          "2024-08-11T13:17:35",
          "2024-08-11T19:14:23",
          "2024-08-12T01:10:23",
          "2024-08-12T07:07:35",
          "2024-08-12T13:04:59",
          "2024-08-12T19:01:47",
          "2024-08-13T00:56:47",
          "2024-08-13T06:53:35",
          "2024-08-13T12:50:47",
          "2024-08-13T18:47:11",
          "2024-08-14T00:43:35",
          "2024-08-14T06:40:47",
          "2024-08-14T12:37:11",
          "2024-08-14T18:34:11",
          "2024-08-15T00:31:11",
          "2024-08-15T06:27:59",
          "2024-08-15T12:25:23",
          "2024-08-15T18:22:47",
          "2024-08-16T00:20:35",
          "2024-08-16T06:16:35",
          "2024-08-16T12:12:47",
          "2024-08-16T18:09:23",
          "2024-08-17T00:07:23",
          "2024-08-17T06:04:59",
          "2024-08-17T12:01:59",
          "2024-08-17T17:59:59",
          "2024-08-17T23:56:11",
          "2024-08-18T05:51:59",
          "2024-08-18T11:48:47",
          "2024-08-18T17:45:11",
          "2024-08-18T23:41:23",
          "2024-08-19T05:39:23",
          "2024-08-19T11:35:47",
          "2024-08-19T17:33:47",
          "2024-08-19T23:29:47",
          "2024-08-20T05:26:11",
          "2024-08-20T11:24:23",
          "2024-08-20T17:20:59",
          "2024-08-20T23:18:35",
          "2024-08-21T05:15:11",
          "2024-08-21T11:11:11",
          "2024-08-21T17:08:35",
          "2024-08-21T23:06:35",
          "2024-08-22T05:04:23",
          "2024-08-22T11:01:59",
          "2024-08-22T16:58:23",
          "2024-08-22T22:54:35",
          "2024-08-23T04:51:59",
          "2024-08-23T10:50:35",
          "2024-08-23T16:47:23",
          "2024-08-23T22:44:11",
          "2024-08-24T04:40:59",
          "2024-08-24T10:38:47",
          "2024-08-24T16:36:11",
          "2024-08-24T22:33:35",
          "2024-08-25T04:31:35",
          "2024-08-25T10:29:35",
          "2024-08-25T16:26:35",
          "2024-08-25T22:23:11",
          "2024-08-26T04:20:11",
          "2024-08-26T10:17:35",
          "2024-08-26T16:13:59",
          "2024-08-26T22:10:59",
          "2024-08-27T04:08:59",
          "2024-08-27T10:06:23",
          "2024-08-27T16:02:35",
          "2024-08-27T21:59:11",
          "2024-08-28T03:55:35",
          "2024-08-28T09:53:23",
          "2024-08-28T15:49:47",
          "2024-08-28T21:46:35",
          "2024-08-29T03:43:59",
          "2024-08-29T09:41:47",
          "2024-08-29T15:39:23",
          "2024-08-29T21:36:35",
          "2024-08-30T03:34:35",
          "2024-08-30T09:31:47",
          "2024-08-30T15:28:35",
          "2024-08-30T21:24:59",
          "2024-08-31T03:22:59",
          "2024-08-31T09:19:47",
          "2024-08-31T15:16:59",
          "2024-08-31T21:13:47",
          "2024-09-01T03:09:59",
          "2024-09-01T09:05:47",
          "2024-09-01T15:02:59",
          "2024-09-01T21:00:35",
          "2024-09-02T02:56:47",
          "2024-09-02T08:52:47",
          "2024-09-02T14:50:11",
          "2024-09-02T20:46:23",
          "2024-09-03T02:42:59",
          "2024-09-03T08:40:23",
          "2024-09-03T14:36:47",
          "2024-09-03T20:32:35"
         ],
         "xaxis": "x",
         "y": [
          1,
          0.99969567439839,
          0.9995742392320496,
          0.9995769701891366,
          0.999635692552555,
          0.9993453065112263,
          0.9993453865314239,
          0.9993272244747062,
          0.9996699934631204,
          0.9997746817191518,
          0.9993159465851147,
          0.9994068695375765,
          0.9991409151273322,
          0.9994227763975477,
          1.0015113335117385,
          1.0009161564766011,
          1.0008407195980764,
          1.0007950947281392,
          1.0009866990926743,
          1.0010053159430403,
          1.0007807478197763,
          1.0006898164237108,
          1.000704249400803,
          1.0007039045557864,
          1.0005957351069668,
          1.0008141587259145,
          1.0009414185087593,
          1.0009414113867994,
          1.0008417536001033,
          1.0016374675815092,
          1.001501089620339,
          1.0009120117097692,
          1.0008084040082335,
          1.0006840896099047,
          1.0005966760060154,
          1.0004584133028427,
          1.0004189972633084,
          1.0003878142196254,
          1.000105594786129,
          1.0004384119971343,
          0.9994693470616718,
          1.000938211121193,
          1.0010323235804472,
          1.0000905726249691,
          1.0003176844416675,
          1.000217518603967,
          0.9997136563623671,
          0.99992094271238,
          0.9999290928093649,
          1.000941798557423,
          1.0010244270155249,
          1.0005312914804594,
          1.0004545117725079,
          1.0011217610021137,
          1.0007484215030182,
          1.0005701376754044,
          1.0003548413056778,
          1.0007091622187094,
          1.0005741270145054,
          1.0002294857190528,
          0.9999529075910706,
          0.999618603372975,
          1.0004528434364475,
          1.0002178807949924,
          1.0020972745494534,
          1.0018835292954367,
          1.001917716033498,
          1.0016204381898983,
          1.0016332051806593,
          1.001181412994277,
          1.0009496977861594,
          1.0008028803949065,
          1.0007950751756527,
          1.0007959220901528,
          1.0005653525500535,
          1.0004123126133786,
          0.9992770900185499,
          0.9991958054806894,
          0.9966067235929371,
          0.9937647990574962,
          0.9990862028631274,
          1.0004160213532782,
          0.9992894810602886,
          0.999557602196894,
          0.9997442320450384,
          0.9995438414482152,
          0.9995075210796562,
          1.0004507526740065,
          0.9986601494686659,
          0.9990647217063532,
          0.9985839896776062,
          0.999951931068827,
          0.9964153982209337,
          0.9962307203554811,
          1.0005969514606219,
          1.0006568738337995,
          0.9996022034258576,
          1.001536446604077,
          1.001382895674645,
          1.0008836273503416,
          1.0012813483117924,
          1.001107477074242,
          1.002394215123824,
          1.0016180457800643,
          1.0013853354843216,
          1.001138183521275,
          1.0009309932061154,
          1.0015204435357872,
          1.0012159155090774,
          1.0010818267712494,
          1.0007547483947326,
          1.000216182239525,
          1.000056403611994,
          1.0000602412072046,
          1.000699536246271,
          1.0011790508956426,
          1.0019014750193524,
          1.0013652913973718,
          1.0013162853908575,
          1.0011171342816017,
          1.0033061652574582,
          1.0030469732898326,
          1.0024997074274147,
          1.0027914815762193,
          1.0037339727734418,
          1.0025049733948896,
          1.0023483315085635,
          1.0024871965880822,
          1.0040607438895137,
          1.0041232729807887,
          1.0040196180164478,
          1.0038605992607834,
          1.004040768204755,
          1.0040192375862738,
          1.0039075793355703,
          1.0038268535624182,
          1.0033689396020813,
          1.0040486987222523,
          1.0035368845025419,
          1.0034040230635461,
          1.0028132461719022,
          1.0028642548187803,
          1.002848973459504,
          1.0027163532015753,
          1.0027511952089478,
          1.002798522030919,
          1.003554930345377,
          1.0027518828557573,
          1.0031528808219068,
          1.0032631031771093,
          1.0024214499772448,
          1.0019501766670131,
          1.0023729993528843,
          1.0026900825284413,
          1.003031710699378,
          1.0037141017580062,
          1.0036623306009131,
          1.0037903410633897,
          1.004167228634629,
          1.0035064540506622,
          1.0032812864075105,
          1.003284986172555,
          1.0034761754882962,
          1.0034286665405179,
          1.0032242354859275,
          1.003313875365339,
          1.0032717198980656,
          1.0038484047290699,
          1.0036837673374637,
          1.003468374253865,
          1.002828005878491,
          1.0037126733955701,
          1.0036312055080183,
          1.0034859653008783,
          1.0027477318106852,
          1.0038060440461172,
          1.0034993241450463,
          1.0033575841666686,
          1.0034257590753357,
          1.0027415694436388,
          1.0037033024334363,
          1.0022510445264685,
          1.0023015323285798,
          1.0022116475269593,
          1.0035005382840716,
          1.0036674322152863,
          1.0035901586033467,
          1.0032415185586934,
          1.0037513784595395,
          1.004585212533978,
          1.003914756048337,
          1.00369930272254,
          1.0038724778002521,
          1.0039837851361402,
          1.0036924080997076,
          1.0030076351391544,
          1.004057478219135,
          1.0032534608265191
         ],
         "yaxis": "y"
        }
       ],
       "layout": {
        "legend": {
         "title": {
          "text": "variable"
         },
         "tracegroupgap": 0
        },
        "margin": {
         "t": 60
        },
        "template": {
         "data": {
          "bar": [
           {
            "error_x": {
             "color": "#2a3f5f"
            },
            "error_y": {
             "color": "#2a3f5f"
            },
            "marker": {
             "line": {
              "color": "#E5ECF6",
              "width": 0.5
             },
             "pattern": {
              "fillmode": "overlay",
              "size": 10,
              "solidity": 0.2
             }
            },
            "type": "bar"
           }
          ],
          "barpolar": [
           {
            "marker": {
             "line": {
              "color": "#E5ECF6",
              "width": 0.5
             },
             "pattern": {
              "fillmode": "overlay",
              "size": 10,
              "solidity": 0.2
             }
            },
            "type": "barpolar"
           }
          ],
          "carpet": [
           {
            "aaxis": {
             "endlinecolor": "#2a3f5f",
             "gridcolor": "white",
             "linecolor": "white",
             "minorgridcolor": "white",
             "startlinecolor": "#2a3f5f"
            },
            "baxis": {
             "endlinecolor": "#2a3f5f",
             "gridcolor": "white",
             "linecolor": "white",
             "minorgridcolor": "white",
             "startlinecolor": "#2a3f5f"
            },
            "type": "carpet"
           }
          ],
          "choropleth": [
           {
            "colorbar": {
             "outlinewidth": 0,
             "ticks": ""
            },
            "type": "choropleth"
           }
          ],
          "contour": [
           {
            "colorbar": {
             "outlinewidth": 0,
             "ticks": ""
            },
            "colorscale": [
             [
              0,
              "#0d0887"
             ],
             [
              0.1111111111111111,
              "#46039f"
             ],
             [
              0.2222222222222222,
              "#7201a8"
             ],
             [
              0.3333333333333333,
              "#9c179e"
             ],
             [
              0.4444444444444444,
              "#bd3786"
             ],
             [
              0.5555555555555556,
              "#d8576b"
             ],
             [
              0.6666666666666666,
              "#ed7953"
             ],
             [
              0.7777777777777778,
              "#fb9f3a"
             ],
             [
              0.8888888888888888,
              "#fdca26"
             ],
             [
              1,
              "#f0f921"
             ]
            ],
            "type": "contour"
           }
          ],
          "contourcarpet": [
           {
            "colorbar": {
             "outlinewidth": 0,
             "ticks": ""
            },
            "type": "contourcarpet"
           }
          ],
          "heatmap": [
           {
            "colorbar": {
             "outlinewidth": 0,
             "ticks": ""
            },
            "colorscale": [
             [
              0,
              "#0d0887"
             ],
             [
              0.1111111111111111,
              "#46039f"
             ],
             [
              0.2222222222222222,
              "#7201a8"
             ],
             [
              0.3333333333333333,
              "#9c179e"
             ],
             [
              0.4444444444444444,
              "#bd3786"
             ],
             [
              0.5555555555555556,
              "#d8576b"
             ],
             [
              0.6666666666666666,
              "#ed7953"
             ],
             [
              0.7777777777777778,
              "#fb9f3a"
             ],
             [
              0.8888888888888888,
              "#fdca26"
             ],
             [
              1,
              "#f0f921"
             ]
            ],
            "type": "heatmap"
           }
          ],
          "heatmapgl": [
           {
            "colorbar": {
             "outlinewidth": 0,
             "ticks": ""
            },
            "colorscale": [
             [
              0,
              "#0d0887"
             ],
             [
              0.1111111111111111,
              "#46039f"
             ],
             [
              0.2222222222222222,
              "#7201a8"
             ],
             [
              0.3333333333333333,
              "#9c179e"
             ],
             [
              0.4444444444444444,
              "#bd3786"
             ],
             [
              0.5555555555555556,
              "#d8576b"
             ],
             [
              0.6666666666666666,
              "#ed7953"
             ],
             [
              0.7777777777777778,
              "#fb9f3a"
             ],
             [
              0.8888888888888888,
              "#fdca26"
             ],
             [
              1,
              "#f0f921"
             ]
            ],
            "type": "heatmapgl"
           }
          ],
          "histogram": [
           {
            "marker": {
             "pattern": {
              "fillmode": "overlay",
              "size": 10,
              "solidity": 0.2
             }
            },
            "type": "histogram"
           }
          ],
          "histogram2d": [
           {
            "colorbar": {
             "outlinewidth": 0,
             "ticks": ""
            },
            "colorscale": [
             [
              0,
              "#0d0887"
             ],
             [
              0.1111111111111111,
              "#46039f"
             ],
             [
              0.2222222222222222,
              "#7201a8"
             ],
             [
              0.3333333333333333,
              "#9c179e"
             ],
             [
              0.4444444444444444,
              "#bd3786"
             ],
             [
              0.5555555555555556,
              "#d8576b"
             ],
             [
              0.6666666666666666,
              "#ed7953"
             ],
             [
              0.7777777777777778,
              "#fb9f3a"
             ],
             [
              0.8888888888888888,
              "#fdca26"
             ],
             [
              1,
              "#f0f921"
             ]
            ],
            "type": "histogram2d"
           }
          ],
          "histogram2dcontour": [
           {
            "colorbar": {
             "outlinewidth": 0,
             "ticks": ""
            },
            "colorscale": [
             [
              0,
              "#0d0887"
             ],
             [
              0.1111111111111111,
              "#46039f"
             ],
             [
              0.2222222222222222,
              "#7201a8"
             ],
             [
              0.3333333333333333,
              "#9c179e"
             ],
             [
              0.4444444444444444,
              "#bd3786"
             ],
             [
              0.5555555555555556,
              "#d8576b"
             ],
             [
              0.6666666666666666,
              "#ed7953"
             ],
             [
              0.7777777777777778,
              "#fb9f3a"
             ],
             [
              0.8888888888888888,
              "#fdca26"
             ],
             [
              1,
              "#f0f921"
             ]
            ],
            "type": "histogram2dcontour"
           }
          ],
          "mesh3d": [
           {
            "colorbar": {
             "outlinewidth": 0,
             "ticks": ""
            },
            "type": "mesh3d"
           }
          ],
          "parcoords": [
           {
            "line": {
             "colorbar": {
              "outlinewidth": 0,
              "ticks": ""
             }
            },
            "type": "parcoords"
           }
          ],
          "pie": [
           {
            "automargin": true,
            "type": "pie"
           }
          ],
          "scatter": [
           {
            "fillpattern": {
             "fillmode": "overlay",
             "size": 10,
             "solidity": 0.2
            },
            "type": "scatter"
           }
          ],
          "scatter3d": [
           {
            "line": {
             "colorbar": {
              "outlinewidth": 0,
              "ticks": ""
             }
            },
            "marker": {
             "colorbar": {
              "outlinewidth": 0,
              "ticks": ""
             }
            },
            "type": "scatter3d"
           }
          ],
          "scattercarpet": [
           {
            "marker": {
             "colorbar": {
              "outlinewidth": 0,
              "ticks": ""
             }
            },
            "type": "scattercarpet"
           }
          ],
          "scattergeo": [
           {
            "marker": {
             "colorbar": {
              "outlinewidth": 0,
              "ticks": ""
             }
            },
            "type": "scattergeo"
           }
          ],
          "scattergl": [
           {
            "marker": {
             "colorbar": {
              "outlinewidth": 0,
              "ticks": ""
             }
            },
            "type": "scattergl"
           }
          ],
          "scattermapbox": [
           {
            "marker": {
             "colorbar": {
              "outlinewidth": 0,
              "ticks": ""
             }
            },
            "type": "scattermapbox"
           }
          ],
          "scatterpolar": [
           {
            "marker": {
             "colorbar": {
              "outlinewidth": 0,
              "ticks": ""
             }
            },
            "type": "scatterpolar"
           }
          ],
          "scatterpolargl": [
           {
            "marker": {
             "colorbar": {
              "outlinewidth": 0,
              "ticks": ""
             }
            },
            "type": "scatterpolargl"
           }
          ],
          "scatterternary": [
           {
            "marker": {
             "colorbar": {
              "outlinewidth": 0,
              "ticks": ""
             }
            },
            "type": "scatterternary"
           }
          ],
          "surface": [
           {
            "colorbar": {
             "outlinewidth": 0,
             "ticks": ""
            },
            "colorscale": [
             [
              0,
              "#0d0887"
             ],
             [
              0.1111111111111111,
              "#46039f"
             ],
             [
              0.2222222222222222,
              "#7201a8"
             ],
             [
              0.3333333333333333,
              "#9c179e"
             ],
             [
              0.4444444444444444,
              "#bd3786"
             ],
             [
              0.5555555555555556,
              "#d8576b"
             ],
             [
              0.6666666666666666,
              "#ed7953"
             ],
             [
              0.7777777777777778,
              "#fb9f3a"
             ],
             [
              0.8888888888888888,
              "#fdca26"
             ],
             [
              1,
              "#f0f921"
             ]
            ],
            "type": "surface"
           }
          ],
          "table": [
           {
            "cells": {
             "fill": {
              "color": "#EBF0F8"
             },
             "line": {
              "color": "white"
             }
            },
            "header": {
             "fill": {
              "color": "#C8D4E3"
             },
             "line": {
              "color": "white"
             }
            },
            "type": "table"
           }
          ]
         },
         "layout": {
          "annotationdefaults": {
           "arrowcolor": "#2a3f5f",
           "arrowhead": 0,
           "arrowwidth": 1
          },
          "autotypenumbers": "strict",
          "coloraxis": {
           "colorbar": {
            "outlinewidth": 0,
            "ticks": ""
           }
          },
          "colorscale": {
           "diverging": [
            [
             0,
             "#8e0152"
            ],
            [
             0.1,
             "#c51b7d"
            ],
            [
             0.2,
             "#de77ae"
            ],
            [
             0.3,
             "#f1b6da"
            ],
            [
             0.4,
             "#fde0ef"
            ],
            [
             0.5,
             "#f7f7f7"
            ],
            [
             0.6,
             "#e6f5d0"
            ],
            [
             0.7,
             "#b8e186"
            ],
            [
             0.8,
             "#7fbc41"
            ],
            [
             0.9,
             "#4d9221"
            ],
            [
             1,
             "#276419"
            ]
           ],
           "sequential": [
            [
             0,
             "#0d0887"
            ],
            [
             0.1111111111111111,
             "#46039f"
            ],
            [
             0.2222222222222222,
             "#7201a8"
            ],
            [
             0.3333333333333333,
             "#9c179e"
            ],
            [
             0.4444444444444444,
             "#bd3786"
            ],
            [
             0.5555555555555556,
             "#d8576b"
            ],
            [
             0.6666666666666666,
             "#ed7953"
            ],
            [
             0.7777777777777778,
             "#fb9f3a"
            ],
            [
             0.8888888888888888,
             "#fdca26"
            ],
            [
             1,
             "#f0f921"
            ]
           ],
           "sequentialminus": [
            [
             0,
             "#0d0887"
            ],
            [
             0.1111111111111111,
             "#46039f"
            ],
            [
             0.2222222222222222,
             "#7201a8"
            ],
            [
             0.3333333333333333,
             "#9c179e"
            ],
            [
             0.4444444444444444,
             "#bd3786"
            ],
            [
             0.5555555555555556,
             "#d8576b"
            ],
            [
             0.6666666666666666,
             "#ed7953"
            ],
            [
             0.7777777777777778,
             "#fb9f3a"
            ],
            [
             0.8888888888888888,
             "#fdca26"
            ],
            [
             1,
             "#f0f921"
            ]
           ]
          },
          "colorway": [
           "#636efa",
           "#EF553B",
           "#00cc96",
           "#ab63fa",
           "#FFA15A",
           "#19d3f3",
           "#FF6692",
           "#B6E880",
           "#FF97FF",
           "#FECB52"
          ],
          "font": {
           "color": "#2a3f5f"
          },
          "geo": {
           "bgcolor": "white",
           "lakecolor": "white",
           "landcolor": "#E5ECF6",
           "showlakes": true,
           "showland": true,
           "subunitcolor": "white"
          },
          "hoverlabel": {
           "align": "left"
          },
          "hovermode": "closest",
          "mapbox": {
           "style": "light"
          },
          "paper_bgcolor": "white",
          "plot_bgcolor": "#E5ECF6",
          "polar": {
           "angularaxis": {
            "gridcolor": "white",
            "linecolor": "white",
            "ticks": ""
           },
           "bgcolor": "#E5ECF6",
           "radialaxis": {
            "gridcolor": "white",
            "linecolor": "white",
            "ticks": ""
           }
          },
          "scene": {
           "xaxis": {
            "backgroundcolor": "#E5ECF6",
            "gridcolor": "white",
            "gridwidth": 2,
            "linecolor": "white",
            "showbackground": true,
            "ticks": "",
            "zerolinecolor": "white"
           },
           "yaxis": {
            "backgroundcolor": "#E5ECF6",
            "gridcolor": "white",
            "gridwidth": 2,
            "linecolor": "white",
            "showbackground": true,
            "ticks": "",
            "zerolinecolor": "white"
           },
           "zaxis": {
            "backgroundcolor": "#E5ECF6",
            "gridcolor": "white",
            "gridwidth": 2,
            "linecolor": "white",
            "showbackground": true,
            "ticks": "",
            "zerolinecolor": "white"
           }
          },
          "shapedefaults": {
           "line": {
            "color": "#2a3f5f"
           }
          },
          "ternary": {
           "aaxis": {
            "gridcolor": "white",
            "linecolor": "white",
            "ticks": ""
           },
           "baxis": {
            "gridcolor": "white",
            "linecolor": "white",
            "ticks": ""
           },
           "bgcolor": "#E5ECF6",
           "caxis": {
            "gridcolor": "white",
            "linecolor": "white",
            "ticks": ""
           }
          },
          "title": {
           "x": 0.05
          },
          "xaxis": {
           "automargin": true,
           "gridcolor": "white",
           "linecolor": "white",
           "ticks": "",
           "title": {
            "standoff": 15
           },
           "zerolinecolor": "white",
           "zerolinewidth": 2
          },
          "yaxis": {
           "automargin": true,
           "gridcolor": "white",
           "linecolor": "white",
           "ticks": "",
           "title": {
            "standoff": 15
           },
           "zerolinecolor": "white",
           "zerolinewidth": 2
          }
         }
        },
        "xaxis": {
         "anchor": "y",
         "domain": [
          0,
          1
         ],
         "title": {
          "text": "timestamp"
         }
        },
        "yaxis": {
         "anchor": "x",
         "domain": [
          0,
          1
         ],
         "title": {
          "text": "value"
         }
        }
       }
      }
     },
     "metadata": {},
     "output_type": "display_data"
    },
    {
     "name": "stdout",
     "output_type": "stream",
     "text": [
      "extra_reward_per_token_cols=['AURA|| 0 extraRewardPerToken'] extra_reward_to_eth_cols=['AURA_to_ETH']\n"
     ]
    },
    {
     "data": {
      "application/vnd.plotly.v1+json": {
       "config": {
        "plotlyServerURL": "https://plot.ly"
       },
       "data": [
        {
         "hovertemplate": "variable=Balancer weETH/rETH StablePool Growth of a ETH<br>timestamp=%{x}<br>value=%{y}<extra></extra>",
         "legendgroup": "Balancer weETH/rETH StablePool Growth of a ETH",
         "line": {
          "color": "#636efa",
          "dash": "solid"
         },
         "marker": {
          "symbol": "circle"
         },
         "mode": "lines",
         "name": "Balancer weETH/rETH StablePool Growth of a ETH",
         "orientation": "v",
         "showlegend": true,
         "type": "scatter",
         "x": [
          "2024-07-17T00:53:47",
          "2024-07-17T06:50:11",
          "2024-07-17T12:46:35",
          "2024-07-17T18:43:35",
          "2024-07-18T00:40:11",
          "2024-07-18T06:37:35",
          "2024-07-18T12:34:59",
          "2024-07-18T18:31:35",
          "2024-07-19T00:27:59",
          "2024-07-19T06:24:23",
          "2024-07-19T12:20:35",
          "2024-07-19T18:17:11",
          "2024-07-20T00:13:23",
          "2024-07-20T06:10:35",
          "2024-07-20T12:07:35",
          "2024-07-20T18:04:23",
          "2024-07-21T00:00:47",
          "2024-07-21T05:57:23",
          "2024-07-21T11:53:23",
          "2024-07-21T17:50:35",
          "2024-07-21T23:47:35",
          "2024-07-22T05:44:23",
          "2024-07-22T11:41:35",
          "2024-07-22T17:38:59",
          "2024-07-22T23:35:47",
          "2024-07-23T05:32:47",
          "2024-07-23T11:29:35",
          "2024-07-23T17:25:47",
          "2024-07-23T23:22:35",
          "2024-07-24T05:18:47",
          "2024-07-24T11:15:11",
          "2024-07-24T17:12:23",
          "2024-07-24T23:09:59",
          "2024-07-25T05:06:35",
          "2024-07-25T11:02:47",
          "2024-07-25T16:59:47",
          "2024-07-25T22:57:23",
          "2024-07-26T04:54:47",
          "2024-07-26T10:50:47",
          "2024-07-26T16:47:47",
          "2024-07-26T22:44:47",
          "2024-07-27T04:42:11",
          "2024-07-27T10:39:11",
          "2024-07-27T16:35:11",
          "2024-07-27T22:32:35",
          "2024-07-28T04:29:59",
          "2024-07-28T10:26:35",
          "2024-07-28T16:22:35",
          "2024-07-28T22:18:11",
          "2024-07-29T04:15:11",
          "2024-07-29T10:11:59",
          "2024-07-29T16:07:47",
          "2024-07-29T22:03:47",
          "2024-07-30T04:01:23",
          "2024-07-30T10:01:11",
          "2024-07-30T15:58:35",
          "2024-07-30T21:55:35",
          "2024-07-31T03:52:11",
          "2024-07-31T09:48:35",
          "2024-07-31T15:45:11",
          "2024-07-31T21:42:47",
          "2024-08-01T03:39:11",
          "2024-08-01T09:35:35",
          "2024-08-01T15:32:35",
          "2024-08-01T21:29:23",
          "2024-08-02T03:26:11",
          "2024-08-02T09:22:59",
          "2024-08-02T15:19:59",
          "2024-08-02T21:18:11",
          "2024-08-03T03:15:11",
          "2024-08-03T09:12:35",
          "2024-08-03T15:08:47",
          "2024-08-03T21:05:11",
          "2024-08-04T03:01:47",
          "2024-08-04T08:57:23",
          "2024-08-04T14:53:23",
          "2024-08-04T20:49:59",
          "2024-08-05T02:45:47",
          "2024-08-05T08:41:47",
          "2024-08-05T14:38:47",
          "2024-08-05T20:36:11",
          "2024-08-06T02:32:23",
          "2024-08-06T08:28:47",
          "2024-08-06T14:25:47",
          "2024-08-06T20:22:47",
          "2024-08-07T02:19:23",
          "2024-08-07T08:15:59",
          "2024-08-07T14:12:35",
          "2024-08-07T20:08:35",
          "2024-08-08T02:05:23",
          "2024-08-08T08:01:47",
          "2024-08-08T13:58:23",
          "2024-08-08T19:54:11",
          "2024-08-09T01:50:11",
          "2024-08-09T07:46:35",
          "2024-08-09T13:42:35",
          "2024-08-09T19:39:35",
          "2024-08-10T01:36:23",
          "2024-08-10T07:32:35",
          "2024-08-10T13:29:59",
          "2024-08-10T19:25:11",
          "2024-08-11T01:22:23",
          "2024-08-11T07:19:47",
          "2024-08-11T13:17:35",
          "2024-08-11T19:14:23",
          "2024-08-12T01:10:23",
          "2024-08-12T07:07:35",
          "2024-08-12T13:04:59",
          "2024-08-12T19:01:47",
          "2024-08-13T00:56:47",
          "2024-08-13T06:53:35",
          "2024-08-13T12:50:47",
          "2024-08-13T18:47:11",
          "2024-08-14T00:43:35",
          "2024-08-14T06:40:47",
          "2024-08-14T12:37:11",
          "2024-08-14T18:34:11",
          "2024-08-15T00:31:11",
          "2024-08-15T06:27:59",
          "2024-08-15T12:25:23",
          "2024-08-15T18:22:47",
          "2024-08-16T00:20:35",
          "2024-08-16T06:16:35",
          "2024-08-16T12:12:47",
          "2024-08-16T18:09:23",
          "2024-08-17T00:07:23",
          "2024-08-17T06:04:59",
          "2024-08-17T12:01:59",
          "2024-08-17T17:59:59",
          "2024-08-17T23:56:11",
          "2024-08-18T05:51:59",
          "2024-08-18T11:48:47",
          "2024-08-18T17:45:11",
          "2024-08-18T23:41:23",
          "2024-08-19T05:39:23",
          "2024-08-19T11:35:47",
          "2024-08-19T17:33:47",
          "2024-08-19T23:29:47",
          "2024-08-20T05:26:11",
          "2024-08-20T11:24:23",
          "2024-08-20T17:20:59",
          "2024-08-20T23:18:35",
          "2024-08-21T05:15:11",
          "2024-08-21T11:11:11",
          "2024-08-21T17:08:35",
          "2024-08-21T23:06:35",
          "2024-08-22T05:04:23",
          "2024-08-22T11:01:59",
          "2024-08-22T16:58:23",
          "2024-08-22T22:54:35",
          "2024-08-23T04:51:59",
          "2024-08-23T10:50:35",
          "2024-08-23T16:47:23",
          "2024-08-23T22:44:11",
          "2024-08-24T04:40:59",
          "2024-08-24T10:38:47",
          "2024-08-24T16:36:11",
          "2024-08-24T22:33:35",
          "2024-08-25T04:31:35",
          "2024-08-25T10:29:35",
          "2024-08-25T16:26:35",
          "2024-08-25T22:23:11",
          "2024-08-26T04:20:11",
          "2024-08-26T10:17:35",
          "2024-08-26T16:13:59",
          "2024-08-26T22:10:59",
          "2024-08-27T04:08:59",
          "2024-08-27T10:06:23",
          "2024-08-27T16:02:35",
          "2024-08-27T21:59:11",
          "2024-08-28T03:55:35",
          "2024-08-28T09:53:23",
          "2024-08-28T15:49:47",
          "2024-08-28T21:46:35",
          "2024-08-29T03:43:59",
          "2024-08-29T09:41:47",
          "2024-08-29T15:39:23",
          "2024-08-29T21:36:35",
          "2024-08-30T03:34:35",
          "2024-08-30T09:31:47",
          "2024-08-30T15:28:35",
          "2024-08-30T21:24:59",
          "2024-08-31T03:22:59",
          "2024-08-31T09:19:47",
          "2024-08-31T15:16:59",
          "2024-08-31T21:13:47",
          "2024-09-01T03:09:59",
          "2024-09-01T09:05:47",
          "2024-09-01T15:02:59",
          "2024-09-01T21:00:35",
          "2024-09-02T02:56:47",
          "2024-09-02T08:52:47",
          "2024-09-02T14:50:11",
          "2024-09-02T20:46:23",
          "2024-09-03T02:42:59",
          "2024-09-03T08:40:23",
          "2024-09-03T14:36:47",
          "2024-09-03T20:32:35"
         ],
         "xaxis": "x",
         "y": [
          1,
          1.0000216198381728,
          1.0002582415926131,
          1.0002971595345251,
          1.0002489484667465,
          1.0002660410493134,
          1.0003392193932708,
          1.00037605220126,
          1.0005200220259034,
          1.0005372394527718,
          1.0006092860181157,
          1.0006223597311792,
          1.0007872303246792,
          1.0008055878844753,
          1.0009015392408553,
          1.0009612728700905,
          1.000843597159124,
          1.0008612830945949,
          1.0008877672985221,
          1.0009705594170977,
          1.0010371676786123,
          1.0010545595355025,
          1.0010872540207192,
          1.0011209569161823,
          1.0011596042712059,
          1.001187757745581,
          1.0012237451023709,
          1.0014963447701415,
          1.001338922681774,
          1.0014021296242779,
          1.0014676302685106,
          1.0013395486929912,
          1.0016249386853306,
          1.0016403960141418,
          1.0016742068684026,
          1.0014194954858642,
          1.0012794604047666,
          1.001320112920696,
          1.0013374827175268,
          1.0016221871651942,
          1.0017185690746366,
          1.0017384769012152,
          1.0017695713371735,
          1.0020052622623714,
          1.0020779495512735,
          1.0021179000336864,
          1.0021577610914048,
          1.0021364838019153,
          1.0021542006637019,
          1.0021776549097818,
          1.002207064369061,
          1.0024979046883564,
          1.002407579550508,
          1.0024197536001507,
          1.0024133275560045,
          1.002433295981557,
          1.0023925620041663,
          1.0024013551444442,
          1.0024243306398684,
          1.00251410516454,
          1.0025017085240595,
          1.0025241551477775,
          1.0025487296645748,
          1.0025740469565239,
          1.0026054462890182,
          1.0026148021019563,
          1.0026009751022682,
          1.0026280453260914,
          1.0028485085572796,
          1.0029128634686928,
          1.0029389024416613,
          1.002964853986629,
          1.0022376580306225,
          1.0022492786601664,
          1.0022951450822073,
          1.0022949019702654,
          1.002498899196584,
          0.9913784519365962,
          0.9957909140479372,
          0.9994169618696016,
          0.9992844988882433,
          0.9993560503472563,
          0.9994363607475993,
          1.0028078633203226,
          1.0030775522051805,
          1.0031144442004205,
          1.003118185971531,
          1.0033845818836933,
          1.0034687160386528,
          1.0034924550888604,
          1.003658720724982,
          1.003295507438742,
          1.003235483308773,
          1.0032094328111412,
          1.0033069134469432,
          1.003355397342536,
          1.0033747562243307,
          1.003372659646144,
          1.003309291498983,
          1.003361840736422,
          1.003380551905684,
          1.0033925375641568,
          1.0035728405187412,
          1.0035808299624016,
          1.0036060076009032,
          1.0036648112147843,
          1.0036621346312407,
          1.0037036104122614,
          1.0037303961246455,
          1.003715663494502,
          1.0037884110506334,
          1.003489779830844,
          1.003508499744338,
          1.0035237787704248,
          1.0035135376103201,
          1.0035764996012122,
          1.0035943129406515,
          1.0036035066009072,
          1.0036153225745927,
          1.0038602816050595,
          1.0039271674607035,
          1.0039322728735076,
          1.0039500312248586,
          1.0040069122465316,
          1.0039933166371795,
          1.0040104810764146,
          1.0040544321657359,
          1.0041125279752834,
          1.0041062802421448,
          1.0041713375001187,
          1.0041886303875833,
          1.004360009785054,
          1.0044268546259016,
          1.0044444359512694,
          1.004445935080949,
          1.004666706672657,
          1.0046943082783868,
          1.0046961333564912,
          1.0047061081321402,
          1.00480513832085,
          1.0048454084810967,
          1.0048599338433115,
          1.0048777159531637,
          1.0047802602672324,
          1.0047363418258495,
          1.0048324090694025,
          1.0048408185476563,
          1.0051084762472988,
          1.005124169126705,
          1.0050836341027671,
          1.0051066026482942,
          1.0051797919657173,
          1.0051948971013993,
          1.0051837009647884,
          1.0052063798469828,
          1.0052661551388216,
          1.0053159541200147,
          1.005326268295527,
          1.0052719765039912,
          1.0054077382154996,
          1.0053647609043932,
          1.005445887640718,
          1.005480295022907,
          1.0055806702351977,
          1.0055871712021651,
          1.0055746149082574,
          1.0055889611018587,
          1.0056698659244478,
          1.0056919401488884,
          1.0057659965353754,
          1.005744864126431,
          1.0054078940881908,
          1.0054373788109532,
          1.0053882688991445,
          1.0054142332722587,
          1.005559763855611,
          1.005573879290583,
          1.0055741498605433,
          1.0056083513326188,
          1.0060501671873254,
          1.0059884801029866,
          1.005991698135642,
          1.0059936806999725,
          1.0059242933602857,
          1.0059215438757467,
          1.005927937677199,
          1.0059569251663945,
          1.0065281143566662,
          1.0065439391719806,
          1.0066289414822305,
          1.0066536668630945,
          1.0067178785407795,
          1.0072715250641153,
          1.0073065769808351,
          1.0073492200505236,
          1.0076866254077215,
          1.0076270528816422,
          1.0076077587971093
         ],
         "yaxis": "y"
        }
       ],
       "layout": {
        "legend": {
         "title": {
          "text": "variable"
         },
         "tracegroupgap": 0
        },
        "margin": {
         "t": 60
        },
        "template": {
         "data": {
          "bar": [
           {
            "error_x": {
             "color": "#2a3f5f"
            },
            "error_y": {
             "color": "#2a3f5f"
            },
            "marker": {
             "line": {
              "color": "#E5ECF6",
              "width": 0.5
             },
             "pattern": {
              "fillmode": "overlay",
              "size": 10,
              "solidity": 0.2
             }
            },
            "type": "bar"
           }
          ],
          "barpolar": [
           {
            "marker": {
             "line": {
              "color": "#E5ECF6",
              "width": 0.5
             },
             "pattern": {
              "fillmode": "overlay",
              "size": 10,
              "solidity": 0.2
             }
            },
            "type": "barpolar"
           }
          ],
          "carpet": [
           {
            "aaxis": {
             "endlinecolor": "#2a3f5f",
             "gridcolor": "white",
             "linecolor": "white",
             "minorgridcolor": "white",
             "startlinecolor": "#2a3f5f"
            },
            "baxis": {
             "endlinecolor": "#2a3f5f",
             "gridcolor": "white",
             "linecolor": "white",
             "minorgridcolor": "white",
             "startlinecolor": "#2a3f5f"
            },
            "type": "carpet"
           }
          ],
          "choropleth": [
           {
            "colorbar": {
             "outlinewidth": 0,
             "ticks": ""
            },
            "type": "choropleth"
           }
          ],
          "contour": [
           {
            "colorbar": {
             "outlinewidth": 0,
             "ticks": ""
            },
            "colorscale": [
             [
              0,
              "#0d0887"
             ],
             [
              0.1111111111111111,
              "#46039f"
             ],
             [
              0.2222222222222222,
              "#7201a8"
             ],
             [
              0.3333333333333333,
              "#9c179e"
             ],
             [
              0.4444444444444444,
              "#bd3786"
             ],
             [
              0.5555555555555556,
              "#d8576b"
             ],
             [
              0.6666666666666666,
              "#ed7953"
             ],
             [
              0.7777777777777778,
              "#fb9f3a"
             ],
             [
              0.8888888888888888,
              "#fdca26"
             ],
             [
              1,
              "#f0f921"
             ]
            ],
            "type": "contour"
           }
          ],
          "contourcarpet": [
           {
            "colorbar": {
             "outlinewidth": 0,
             "ticks": ""
            },
            "type": "contourcarpet"
           }
          ],
          "heatmap": [
           {
            "colorbar": {
             "outlinewidth": 0,
             "ticks": ""
            },
            "colorscale": [
             [
              0,
              "#0d0887"
             ],
             [
              0.1111111111111111,
              "#46039f"
             ],
             [
              0.2222222222222222,
              "#7201a8"
             ],
             [
              0.3333333333333333,
              "#9c179e"
             ],
             [
              0.4444444444444444,
              "#bd3786"
             ],
             [
              0.5555555555555556,
              "#d8576b"
             ],
             [
              0.6666666666666666,
              "#ed7953"
             ],
             [
              0.7777777777777778,
              "#fb9f3a"
             ],
             [
              0.8888888888888888,
              "#fdca26"
             ],
             [
              1,
              "#f0f921"
             ]
            ],
            "type": "heatmap"
           }
          ],
          "heatmapgl": [
           {
            "colorbar": {
             "outlinewidth": 0,
             "ticks": ""
            },
            "colorscale": [
             [
              0,
              "#0d0887"
             ],
             [
              0.1111111111111111,
              "#46039f"
             ],
             [
              0.2222222222222222,
              "#7201a8"
             ],
             [
              0.3333333333333333,
              "#9c179e"
             ],
             [
              0.4444444444444444,
              "#bd3786"
             ],
             [
              0.5555555555555556,
              "#d8576b"
             ],
             [
              0.6666666666666666,
              "#ed7953"
             ],
             [
              0.7777777777777778,
              "#fb9f3a"
             ],
             [
              0.8888888888888888,
              "#fdca26"
             ],
             [
              1,
              "#f0f921"
             ]
            ],
            "type": "heatmapgl"
           }
          ],
          "histogram": [
           {
            "marker": {
             "pattern": {
              "fillmode": "overlay",
              "size": 10,
              "solidity": 0.2
             }
            },
            "type": "histogram"
           }
          ],
          "histogram2d": [
           {
            "colorbar": {
             "outlinewidth": 0,
             "ticks": ""
            },
            "colorscale": [
             [
              0,
              "#0d0887"
             ],
             [
              0.1111111111111111,
              "#46039f"
             ],
             [
              0.2222222222222222,
              "#7201a8"
             ],
             [
              0.3333333333333333,
              "#9c179e"
             ],
             [
              0.4444444444444444,
              "#bd3786"
             ],
             [
              0.5555555555555556,
              "#d8576b"
             ],
             [
              0.6666666666666666,
              "#ed7953"
             ],
             [
              0.7777777777777778,
              "#fb9f3a"
             ],
             [
              0.8888888888888888,
              "#fdca26"
             ],
             [
              1,
              "#f0f921"
             ]
            ],
            "type": "histogram2d"
           }
          ],
          "histogram2dcontour": [
           {
            "colorbar": {
             "outlinewidth": 0,
             "ticks": ""
            },
            "colorscale": [
             [
              0,
              "#0d0887"
             ],
             [
              0.1111111111111111,
              "#46039f"
             ],
             [
              0.2222222222222222,
              "#7201a8"
             ],
             [
              0.3333333333333333,
              "#9c179e"
             ],
             [
              0.4444444444444444,
              "#bd3786"
             ],
             [
              0.5555555555555556,
              "#d8576b"
             ],
             [
              0.6666666666666666,
              "#ed7953"
             ],
             [
              0.7777777777777778,
              "#fb9f3a"
             ],
             [
              0.8888888888888888,
              "#fdca26"
             ],
             [
              1,
              "#f0f921"
             ]
            ],
            "type": "histogram2dcontour"
           }
          ],
          "mesh3d": [
           {
            "colorbar": {
             "outlinewidth": 0,
             "ticks": ""
            },
            "type": "mesh3d"
           }
          ],
          "parcoords": [
           {
            "line": {
             "colorbar": {
              "outlinewidth": 0,
              "ticks": ""
             }
            },
            "type": "parcoords"
           }
          ],
          "pie": [
           {
            "automargin": true,
            "type": "pie"
           }
          ],
          "scatter": [
           {
            "fillpattern": {
             "fillmode": "overlay",
             "size": 10,
             "solidity": 0.2
            },
            "type": "scatter"
           }
          ],
          "scatter3d": [
           {
            "line": {
             "colorbar": {
              "outlinewidth": 0,
              "ticks": ""
             }
            },
            "marker": {
             "colorbar": {
              "outlinewidth": 0,
              "ticks": ""
             }
            },
            "type": "scatter3d"
           }
          ],
          "scattercarpet": [
           {
            "marker": {
             "colorbar": {
              "outlinewidth": 0,
              "ticks": ""
             }
            },
            "type": "scattercarpet"
           }
          ],
          "scattergeo": [
           {
            "marker": {
             "colorbar": {
              "outlinewidth": 0,
              "ticks": ""
             }
            },
            "type": "scattergeo"
           }
          ],
          "scattergl": [
           {
            "marker": {
             "colorbar": {
              "outlinewidth": 0,
              "ticks": ""
             }
            },
            "type": "scattergl"
           }
          ],
          "scattermapbox": [
           {
            "marker": {
             "colorbar": {
              "outlinewidth": 0,
              "ticks": ""
             }
            },
            "type": "scattermapbox"
           }
          ],
          "scatterpolar": [
           {
            "marker": {
             "colorbar": {
              "outlinewidth": 0,
              "ticks": ""
             }
            },
            "type": "scatterpolar"
           }
          ],
          "scatterpolargl": [
           {
            "marker": {
             "colorbar": {
              "outlinewidth": 0,
              "ticks": ""
             }
            },
            "type": "scatterpolargl"
           }
          ],
          "scatterternary": [
           {
            "marker": {
             "colorbar": {
              "outlinewidth": 0,
              "ticks": ""
             }
            },
            "type": "scatterternary"
           }
          ],
          "surface": [
           {
            "colorbar": {
             "outlinewidth": 0,
             "ticks": ""
            },
            "colorscale": [
             [
              0,
              "#0d0887"
             ],
             [
              0.1111111111111111,
              "#46039f"
             ],
             [
              0.2222222222222222,
              "#7201a8"
             ],
             [
              0.3333333333333333,
              "#9c179e"
             ],
             [
              0.4444444444444444,
              "#bd3786"
             ],
             [
              0.5555555555555556,
              "#d8576b"
             ],
             [
              0.6666666666666666,
              "#ed7953"
             ],
             [
              0.7777777777777778,
              "#fb9f3a"
             ],
             [
              0.8888888888888888,
              "#fdca26"
             ],
             [
              1,
              "#f0f921"
             ]
            ],
            "type": "surface"
           }
          ],
          "table": [
           {
            "cells": {
             "fill": {
              "color": "#EBF0F8"
             },
             "line": {
              "color": "white"
             }
            },
            "header": {
             "fill": {
              "color": "#C8D4E3"
             },
             "line": {
              "color": "white"
             }
            },
            "type": "table"
           }
          ]
         },
         "layout": {
          "annotationdefaults": {
           "arrowcolor": "#2a3f5f",
           "arrowhead": 0,
           "arrowwidth": 1
          },
          "autotypenumbers": "strict",
          "coloraxis": {
           "colorbar": {
            "outlinewidth": 0,
            "ticks": ""
           }
          },
          "colorscale": {
           "diverging": [
            [
             0,
             "#8e0152"
            ],
            [
             0.1,
             "#c51b7d"
            ],
            [
             0.2,
             "#de77ae"
            ],
            [
             0.3,
             "#f1b6da"
            ],
            [
             0.4,
             "#fde0ef"
            ],
            [
             0.5,
             "#f7f7f7"
            ],
            [
             0.6,
             "#e6f5d0"
            ],
            [
             0.7,
             "#b8e186"
            ],
            [
             0.8,
             "#7fbc41"
            ],
            [
             0.9,
             "#4d9221"
            ],
            [
             1,
             "#276419"
            ]
           ],
           "sequential": [
            [
             0,
             "#0d0887"
            ],
            [
             0.1111111111111111,
             "#46039f"
            ],
            [
             0.2222222222222222,
             "#7201a8"
            ],
            [
             0.3333333333333333,
             "#9c179e"
            ],
            [
             0.4444444444444444,
             "#bd3786"
            ],
            [
             0.5555555555555556,
             "#d8576b"
            ],
            [
             0.6666666666666666,
             "#ed7953"
            ],
            [
             0.7777777777777778,
             "#fb9f3a"
            ],
            [
             0.8888888888888888,
             "#fdca26"
            ],
            [
             1,
             "#f0f921"
            ]
           ],
           "sequentialminus": [
            [
             0,
             "#0d0887"
            ],
            [
             0.1111111111111111,
             "#46039f"
            ],
            [
             0.2222222222222222,
             "#7201a8"
            ],
            [
             0.3333333333333333,
             "#9c179e"
            ],
            [
             0.4444444444444444,
             "#bd3786"
            ],
            [
             0.5555555555555556,
             "#d8576b"
            ],
            [
             0.6666666666666666,
             "#ed7953"
            ],
            [
             0.7777777777777778,
             "#fb9f3a"
            ],
            [
             0.8888888888888888,
             "#fdca26"
            ],
            [
             1,
             "#f0f921"
            ]
           ]
          },
          "colorway": [
           "#636efa",
           "#EF553B",
           "#00cc96",
           "#ab63fa",
           "#FFA15A",
           "#19d3f3",
           "#FF6692",
           "#B6E880",
           "#FF97FF",
           "#FECB52"
          ],
          "font": {
           "color": "#2a3f5f"
          },
          "geo": {
           "bgcolor": "white",
           "lakecolor": "white",
           "landcolor": "#E5ECF6",
           "showlakes": true,
           "showland": true,
           "subunitcolor": "white"
          },
          "hoverlabel": {
           "align": "left"
          },
          "hovermode": "closest",
          "mapbox": {
           "style": "light"
          },
          "paper_bgcolor": "white",
          "plot_bgcolor": "#E5ECF6",
          "polar": {
           "angularaxis": {
            "gridcolor": "white",
            "linecolor": "white",
            "ticks": ""
           },
           "bgcolor": "#E5ECF6",
           "radialaxis": {
            "gridcolor": "white",
            "linecolor": "white",
            "ticks": ""
           }
          },
          "scene": {
           "xaxis": {
            "backgroundcolor": "#E5ECF6",
            "gridcolor": "white",
            "gridwidth": 2,
            "linecolor": "white",
            "showbackground": true,
            "ticks": "",
            "zerolinecolor": "white"
           },
           "yaxis": {
            "backgroundcolor": "#E5ECF6",
            "gridcolor": "white",
            "gridwidth": 2,
            "linecolor": "white",
            "showbackground": true,
            "ticks": "",
            "zerolinecolor": "white"
           },
           "zaxis": {
            "backgroundcolor": "#E5ECF6",
            "gridcolor": "white",
            "gridwidth": 2,
            "linecolor": "white",
            "showbackground": true,
            "ticks": "",
            "zerolinecolor": "white"
           }
          },
          "shapedefaults": {
           "line": {
            "color": "#2a3f5f"
           }
          },
          "ternary": {
           "aaxis": {
            "gridcolor": "white",
            "linecolor": "white",
            "ticks": ""
           },
           "baxis": {
            "gridcolor": "white",
            "linecolor": "white",
            "ticks": ""
           },
           "bgcolor": "#E5ECF6",
           "caxis": {
            "gridcolor": "white",
            "linecolor": "white",
            "ticks": ""
           }
          },
          "title": {
           "x": 0.05
          },
          "xaxis": {
           "automargin": true,
           "gridcolor": "white",
           "linecolor": "white",
           "ticks": "",
           "title": {
            "standoff": 15
           },
           "zerolinecolor": "white",
           "zerolinewidth": 2
          },
          "yaxis": {
           "automargin": true,
           "gridcolor": "white",
           "linecolor": "white",
           "ticks": "",
           "title": {
            "standoff": 15
           },
           "zerolinecolor": "white",
           "zerolinewidth": 2
          }
         }
        },
        "xaxis": {
         "anchor": "y",
         "domain": [
          0,
          1
         ],
         "title": {
          "text": "timestamp"
         }
        },
        "yaxis": {
         "anchor": "x",
         "domain": [
          0,
          1
         ],
         "title": {
          "text": "value"
         }
        }
       }
      }
     },
     "metadata": {},
     "output_type": "display_data"
    },
    {
     "name": "stdout",
     "output_type": "stream",
     "text": [
      "extra_reward_per_token_cols=['AURA|| 0 extraRewardPerToken'] extra_reward_to_eth_cols=['AURA_to_ETH']\n"
     ]
    },
    {
     "data": {
      "application/vnd.plotly.v1+json": {
       "config": {
        "plotlyServerURL": "https://plot.ly"
       },
       "data": [
        {
         "hovertemplate": "variable=Balancer ezETH-WETH Stable Pool Growth of a ETH<br>timestamp=%{x}<br>value=%{y}<extra></extra>",
         "legendgroup": "Balancer ezETH-WETH Stable Pool Growth of a ETH",
         "line": {
          "color": "#636efa",
          "dash": "solid"
         },
         "marker": {
          "symbol": "circle"
         },
         "mode": "lines",
         "name": "Balancer ezETH-WETH Stable Pool Growth of a ETH",
         "orientation": "v",
         "showlegend": true,
         "type": "scatter",
         "x": [
          "2024-07-17T00:53:47",
          "2024-07-17T06:50:11",
          "2024-07-17T12:46:35",
          "2024-07-17T18:43:35",
          "2024-07-18T00:40:11",
          "2024-07-18T06:37:35",
          "2024-07-18T12:34:59",
          "2024-07-18T18:31:35",
          "2024-07-19T00:27:59",
          "2024-07-19T06:24:23",
          "2024-07-19T12:20:35",
          "2024-07-19T18:17:11",
          "2024-07-20T00:13:23",
          "2024-07-20T06:10:35",
          "2024-07-20T12:07:35",
          "2024-07-20T18:04:23",
          "2024-07-21T00:00:47",
          "2024-07-21T05:57:23",
          "2024-07-21T11:53:23",
          "2024-07-21T17:50:35",
          "2024-07-21T23:47:35",
          "2024-07-22T05:44:23",
          "2024-07-22T11:41:35",
          "2024-07-22T17:38:59",
          "2024-07-22T23:35:47",
          "2024-07-23T05:32:47",
          "2024-07-23T11:29:35",
          "2024-07-23T17:25:47",
          "2024-07-23T23:22:35",
          "2024-07-24T05:18:47",
          "2024-07-24T11:15:11",
          "2024-07-24T17:12:23",
          "2024-07-24T23:09:59",
          "2024-07-25T05:06:35",
          "2024-07-25T11:02:47",
          "2024-07-25T16:59:47",
          "2024-07-25T22:57:23",
          "2024-07-26T04:54:47",
          "2024-07-26T10:50:47",
          "2024-07-26T16:47:47",
          "2024-07-26T22:44:47",
          "2024-07-27T04:42:11",
          "2024-07-27T10:39:11",
          "2024-07-27T16:35:11",
          "2024-07-27T22:32:35",
          "2024-07-28T04:29:59",
          "2024-07-28T10:26:35",
          "2024-07-28T16:22:35",
          "2024-07-28T22:18:11",
          "2024-07-29T04:15:11",
          "2024-07-29T10:11:59",
          "2024-07-29T16:07:47",
          "2024-07-29T22:03:47",
          "2024-07-30T04:01:23",
          "2024-07-30T10:01:11",
          "2024-07-30T15:58:35",
          "2024-07-30T21:55:35",
          "2024-07-31T03:52:11",
          "2024-07-31T09:48:35",
          "2024-07-31T15:45:11",
          "2024-07-31T21:42:47",
          "2024-08-01T03:39:11",
          "2024-08-01T09:35:35",
          "2024-08-01T15:32:35",
          "2024-08-01T21:29:23",
          "2024-08-02T03:26:11",
          "2024-08-02T09:22:59",
          "2024-08-02T15:19:59",
          "2024-08-02T21:18:11",
          "2024-08-03T03:15:11",
          "2024-08-03T09:12:35",
          "2024-08-03T15:08:47",
          "2024-08-03T21:05:11",
          "2024-08-04T03:01:47",
          "2024-08-04T08:57:23",
          "2024-08-04T14:53:23",
          "2024-08-04T20:49:59",
          "2024-08-05T02:45:47",
          "2024-08-05T08:41:47",
          "2024-08-05T14:38:47",
          "2024-08-05T20:36:11",
          "2024-08-06T02:32:23",
          "2024-08-06T08:28:47",
          "2024-08-06T14:25:47",
          "2024-08-06T20:22:47",
          "2024-08-07T02:19:23",
          "2024-08-07T08:15:59",
          "2024-08-07T14:12:35",
          "2024-08-07T20:08:35",
          "2024-08-08T02:05:23",
          "2024-08-08T08:01:47",
          "2024-08-08T13:58:23",
          "2024-08-08T19:54:11",
          "2024-08-09T01:50:11",
          "2024-08-09T07:46:35",
          "2024-08-09T13:42:35",
          "2024-08-09T19:39:35",
          "2024-08-10T01:36:23",
          "2024-08-10T07:32:35",
          "2024-08-10T13:29:59",
          "2024-08-10T19:25:11",
          "2024-08-11T01:22:23",
          "2024-08-11T07:19:47",
          "2024-08-11T13:17:35",
          "2024-08-11T19:14:23",
          "2024-08-12T01:10:23",
          "2024-08-12T07:07:35",
          "2024-08-12T13:04:59",
          "2024-08-12T19:01:47",
          "2024-08-13T00:56:47",
          "2024-08-13T06:53:35",
          "2024-08-13T12:50:47",
          "2024-08-13T18:47:11",
          "2024-08-14T00:43:35",
          "2024-08-14T06:40:47",
          "2024-08-14T12:37:11",
          "2024-08-14T18:34:11",
          "2024-08-15T00:31:11",
          "2024-08-15T06:27:59",
          "2024-08-15T12:25:23",
          "2024-08-15T18:22:47",
          "2024-08-16T00:20:35",
          "2024-08-16T06:16:35",
          "2024-08-16T12:12:47",
          "2024-08-16T18:09:23",
          "2024-08-17T00:07:23",
          "2024-08-17T06:04:59",
          "2024-08-17T12:01:59",
          "2024-08-17T17:59:59",
          "2024-08-17T23:56:11",
          "2024-08-18T05:51:59",
          "2024-08-18T11:48:47",
          "2024-08-18T17:45:11",
          "2024-08-18T23:41:23",
          "2024-08-19T05:39:23",
          "2024-08-19T11:35:47",
          "2024-08-19T17:33:47",
          "2024-08-19T23:29:47",
          "2024-08-20T05:26:11",
          "2024-08-20T11:24:23",
          "2024-08-20T17:20:59",
          "2024-08-20T23:18:35",
          "2024-08-21T05:15:11",
          "2024-08-21T11:11:11",
          "2024-08-21T17:08:35",
          "2024-08-21T23:06:35",
          "2024-08-22T05:04:23",
          "2024-08-22T11:01:59",
          "2024-08-22T16:58:23",
          "2024-08-22T22:54:35",
          "2024-08-23T04:51:59",
          "2024-08-23T10:50:35",
          "2024-08-23T16:47:23",
          "2024-08-23T22:44:11",
          "2024-08-24T04:40:59",
          "2024-08-24T10:38:47",
          "2024-08-24T16:36:11",
          "2024-08-24T22:33:35",
          "2024-08-25T04:31:35",
          "2024-08-25T10:29:35",
          "2024-08-25T16:26:35",
          "2024-08-25T22:23:11",
          "2024-08-26T04:20:11",
          "2024-08-26T10:17:35",
          "2024-08-26T16:13:59",
          "2024-08-26T22:10:59",
          "2024-08-27T04:08:59",
          "2024-08-27T10:06:23",
          "2024-08-27T16:02:35",
          "2024-08-27T21:59:11",
          "2024-08-28T03:55:35",
          "2024-08-28T09:53:23",
          "2024-08-28T15:49:47",
          "2024-08-28T21:46:35",
          "2024-08-29T03:43:59",
          "2024-08-29T09:41:47",
          "2024-08-29T15:39:23",
          "2024-08-29T21:36:35",
          "2024-08-30T03:34:35",
          "2024-08-30T09:31:47",
          "2024-08-30T15:28:35",
          "2024-08-30T21:24:59",
          "2024-08-31T03:22:59",
          "2024-08-31T09:19:47",
          "2024-08-31T15:16:59",
          "2024-08-31T21:13:47",
          "2024-09-01T03:09:59",
          "2024-09-01T09:05:47",
          "2024-09-01T15:02:59",
          "2024-09-01T21:00:35",
          "2024-09-02T02:56:47",
          "2024-09-02T08:52:47",
          "2024-09-02T14:50:11",
          "2024-09-02T20:46:23",
          "2024-09-03T02:42:59",
          "2024-09-03T08:40:23",
          "2024-09-03T14:36:47",
          "2024-09-03T20:32:35"
         ],
         "xaxis": "x",
         "y": [
          1,
          1.0000333561256818,
          1.0002160915627063,
          1.0002525360392198,
          1.0002074346989627,
          1.000238319940192,
          1.0002421491358369,
          1.0002749422038628,
          1.0001433543499407,
          1.000171120892245,
          1.0003521262388964,
          1.0003780347059867,
          1.0004652385530826,
          1.0004936061972347,
          1.0004989375971869,
          1.0005347067132302,
          1.0004811829334865,
          1.000508383466775,
          1.0004858847089435,
          1.0005159114087236,
          1.000526392315449,
          1.0005672955810747,
          1.0005154807604575,
          1.0004945246888959,
          1.0005536730415299,
          1.0007157885868758,
          1.0007126270173297,
          1.0007198238651562,
          1.0007583271244642,
          1.0007466376023868,
          1.000798026846009,
          1.0007947995719135,
          1.0008115569878593,
          1.0008828943784824,
          1.000909810655583,
          1.0008257968540792,
          1.0008663006906058,
          1.0010547755250012,
          1.0010995823369528,
          1.00119377335741,
          1.0012518756202393,
          1.0012372208733873,
          1.0012842858610895,
          1.0013715380524346,
          1.0013933348944586,
          1.001463332249037,
          1.0015013901626535,
          1.001628101382335,
          1.0016491924527908,
          1.0017496728566933,
          1.0018006382708737,
          1.002056011581144,
          1.0020801647469426,
          1.0020522761265025,
          1.0020941374526613,
          1.002079617791875,
          1.002124147994318,
          1.0019511135969406,
          1.001997285759251,
          1.0022831249597004,
          1.0023072438938763,
          1.002275474481447,
          1.0023139842300608,
          1.0023756980587755,
          1.002516195782663,
          1.0025244891930434,
          1.0027160566915763,
          1.00275831260486,
          1.0028309517375735,
          1.002897949376384,
          1.0021323647761264,
          1.002153659341741,
          1.002389771612489,
          1.0024163381201645,
          1.002258126638272,
          1.0022726602919405,
          1.0017994893570692,
          0.9926379380868255,
          1.0018887483158159,
          0.9989891323968547,
          0.9990903299615634,
          1.0019509516692278,
          1.0026963085716998,
          1.0027488177435797,
          1.0013607778235039,
          1.0013986607758332,
          1.0022347679821058,
          1.0022950640985768,
          1.001967368771295,
          1.0019805741482968,
          1.0012256173131526,
          1.0012250531933864,
          1.0030896142275978,
          1.0031029485926346,
          1.001429292421907,
          1.0014800756899433,
          1.00213001173763,
          1.002134480339803,
          1.002944561530428,
          1.0030320541929028,
          1.0027378882225142,
          1.002648315930883,
          1.003361654871703,
          1.0033409752895264,
          1.0033502509228984,
          1.0028045495137108,
          1.0027953809608328,
          1.002961422138931,
          1.0029723343656192,
          1.002873951735031,
          1.0029051546854792,
          1.0032438758938635,
          1.0032643998624915,
          1.003780714678978,
          1.0037785032017466,
          1.0039673667606321,
          1.0039790337198577,
          1.004065547725215,
          1.0040638239032909,
          1.003881532277869,
          1.0039261684354879,
          1.0043710959578043,
          1.0043917031321652,
          1.0040093819914264,
          1.0040057897578984,
          1.0040430360276473,
          1.0040692428123716,
          1.003964770011002,
          1.0039582751437548,
          1.0040470944263433,
          1.004117557291834,
          1.0045504037564803,
          1.0046108559102398,
          1.0042868425052822,
          1.0043019950644203,
          1.004796022050911,
          1.0048150576099566,
          1.0045108677393346,
          1.0045308188669333,
          1.0046023175433048,
          1.0046613106696267,
          1.0051346418323572,
          1.0051676740298576,
          1.005149768195563,
          1.0051480100270136,
          1.0051628198244946,
          1.005211958897245,
          1.0062043141765022,
          1.006244819405733,
          1.0059265249691076,
          1.0059557278622455,
          1.006102992958946,
          1.006125216389076,
          1.0061101163543884,
          1.0061307506835666,
          1.006234573972808,
          1.0063091243735316,
          1.006222947081987,
          1.0061979232048253,
          1.006398712909931,
          1.0063725255324303,
          1.0064069379328024,
          1.0064375415007984,
          1.0065218668053562,
          1.0065439612004698,
          1.0065375939811696,
          1.0065717798669875,
          1.006692299888098,
          1.006723826353311,
          1.0067723193875682,
          1.006791727609276,
          1.0061885409693536,
          1.0061639547402546,
          1.0061338851180968,
          1.006171456279471,
          1.0065031980091033,
          1.0065265646491486,
          1.0068518884594369,
          1.0068878508363288,
          1.0070380502309388,
          1.007009092878861,
          1.0068637100650157,
          1.0069067058784789,
          1.0071215775247506,
          1.007130271976538,
          1.0071989660772716,
          1.0072315708989805,
          1.0073266784168304,
          1.0073651651009836,
          1.0074113581947,
          1.007454699793161,
          1.0074820985100077,
          1.0075567184755476,
          1.0076729386324643,
          1.0077362285284772,
          1.0079048634473249,
          1.0080914790849418,
          1.008034502199246
         ],
         "yaxis": "y"
        }
       ],
       "layout": {
        "legend": {
         "title": {
          "text": "variable"
         },
         "tracegroupgap": 0
        },
        "margin": {
         "t": 60
        },
        "template": {
         "data": {
          "bar": [
           {
            "error_x": {
             "color": "#2a3f5f"
            },
            "error_y": {
             "color": "#2a3f5f"
            },
            "marker": {
             "line": {
              "color": "#E5ECF6",
              "width": 0.5
             },
             "pattern": {
              "fillmode": "overlay",
              "size": 10,
              "solidity": 0.2
             }
            },
            "type": "bar"
           }
          ],
          "barpolar": [
           {
            "marker": {
             "line": {
              "color": "#E5ECF6",
              "width": 0.5
             },
             "pattern": {
              "fillmode": "overlay",
              "size": 10,
              "solidity": 0.2
             }
            },
            "type": "barpolar"
           }
          ],
          "carpet": [
           {
            "aaxis": {
             "endlinecolor": "#2a3f5f",
             "gridcolor": "white",
             "linecolor": "white",
             "minorgridcolor": "white",
             "startlinecolor": "#2a3f5f"
            },
            "baxis": {
             "endlinecolor": "#2a3f5f",
             "gridcolor": "white",
             "linecolor": "white",
             "minorgridcolor": "white",
             "startlinecolor": "#2a3f5f"
            },
            "type": "carpet"
           }
          ],
          "choropleth": [
           {
            "colorbar": {
             "outlinewidth": 0,
             "ticks": ""
            },
            "type": "choropleth"
           }
          ],
          "contour": [
           {
            "colorbar": {
             "outlinewidth": 0,
             "ticks": ""
            },
            "colorscale": [
             [
              0,
              "#0d0887"
             ],
             [
              0.1111111111111111,
              "#46039f"
             ],
             [
              0.2222222222222222,
              "#7201a8"
             ],
             [
              0.3333333333333333,
              "#9c179e"
             ],
             [
              0.4444444444444444,
              "#bd3786"
             ],
             [
              0.5555555555555556,
              "#d8576b"
             ],
             [
              0.6666666666666666,
              "#ed7953"
             ],
             [
              0.7777777777777778,
              "#fb9f3a"
             ],
             [
              0.8888888888888888,
              "#fdca26"
             ],
             [
              1,
              "#f0f921"
             ]
            ],
            "type": "contour"
           }
          ],
          "contourcarpet": [
           {
            "colorbar": {
             "outlinewidth": 0,
             "ticks": ""
            },
            "type": "contourcarpet"
           }
          ],
          "heatmap": [
           {
            "colorbar": {
             "outlinewidth": 0,
             "ticks": ""
            },
            "colorscale": [
             [
              0,
              "#0d0887"
             ],
             [
              0.1111111111111111,
              "#46039f"
             ],
             [
              0.2222222222222222,
              "#7201a8"
             ],
             [
              0.3333333333333333,
              "#9c179e"
             ],
             [
              0.4444444444444444,
              "#bd3786"
             ],
             [
              0.5555555555555556,
              "#d8576b"
             ],
             [
              0.6666666666666666,
              "#ed7953"
             ],
             [
              0.7777777777777778,
              "#fb9f3a"
             ],
             [
              0.8888888888888888,
              "#fdca26"
             ],
             [
              1,
              "#f0f921"
             ]
            ],
            "type": "heatmap"
           }
          ],
          "heatmapgl": [
           {
            "colorbar": {
             "outlinewidth": 0,
             "ticks": ""
            },
            "colorscale": [
             [
              0,
              "#0d0887"
             ],
             [
              0.1111111111111111,
              "#46039f"
             ],
             [
              0.2222222222222222,
              "#7201a8"
             ],
             [
              0.3333333333333333,
              "#9c179e"
             ],
             [
              0.4444444444444444,
              "#bd3786"
             ],
             [
              0.5555555555555556,
              "#d8576b"
             ],
             [
              0.6666666666666666,
              "#ed7953"
             ],
             [
              0.7777777777777778,
              "#fb9f3a"
             ],
             [
              0.8888888888888888,
              "#fdca26"
             ],
             [
              1,
              "#f0f921"
             ]
            ],
            "type": "heatmapgl"
           }
          ],
          "histogram": [
           {
            "marker": {
             "pattern": {
              "fillmode": "overlay",
              "size": 10,
              "solidity": 0.2
             }
            },
            "type": "histogram"
           }
          ],
          "histogram2d": [
           {
            "colorbar": {
             "outlinewidth": 0,
             "ticks": ""
            },
            "colorscale": [
             [
              0,
              "#0d0887"
             ],
             [
              0.1111111111111111,
              "#46039f"
             ],
             [
              0.2222222222222222,
              "#7201a8"
             ],
             [
              0.3333333333333333,
              "#9c179e"
             ],
             [
              0.4444444444444444,
              "#bd3786"
             ],
             [
              0.5555555555555556,
              "#d8576b"
             ],
             [
              0.6666666666666666,
              "#ed7953"
             ],
             [
              0.7777777777777778,
              "#fb9f3a"
             ],
             [
              0.8888888888888888,
              "#fdca26"
             ],
             [
              1,
              "#f0f921"
             ]
            ],
            "type": "histogram2d"
           }
          ],
          "histogram2dcontour": [
           {
            "colorbar": {
             "outlinewidth": 0,
             "ticks": ""
            },
            "colorscale": [
             [
              0,
              "#0d0887"
             ],
             [
              0.1111111111111111,
              "#46039f"
             ],
             [
              0.2222222222222222,
              "#7201a8"
             ],
             [
              0.3333333333333333,
              "#9c179e"
             ],
             [
              0.4444444444444444,
              "#bd3786"
             ],
             [
              0.5555555555555556,
              "#d8576b"
             ],
             [
              0.6666666666666666,
              "#ed7953"
             ],
             [
              0.7777777777777778,
              "#fb9f3a"
             ],
             [
              0.8888888888888888,
              "#fdca26"
             ],
             [
              1,
              "#f0f921"
             ]
            ],
            "type": "histogram2dcontour"
           }
          ],
          "mesh3d": [
           {
            "colorbar": {
             "outlinewidth": 0,
             "ticks": ""
            },
            "type": "mesh3d"
           }
          ],
          "parcoords": [
           {
            "line": {
             "colorbar": {
              "outlinewidth": 0,
              "ticks": ""
             }
            },
            "type": "parcoords"
           }
          ],
          "pie": [
           {
            "automargin": true,
            "type": "pie"
           }
          ],
          "scatter": [
           {
            "fillpattern": {
             "fillmode": "overlay",
             "size": 10,
             "solidity": 0.2
            },
            "type": "scatter"
           }
          ],
          "scatter3d": [
           {
            "line": {
             "colorbar": {
              "outlinewidth": 0,
              "ticks": ""
             }
            },
            "marker": {
             "colorbar": {
              "outlinewidth": 0,
              "ticks": ""
             }
            },
            "type": "scatter3d"
           }
          ],
          "scattercarpet": [
           {
            "marker": {
             "colorbar": {
              "outlinewidth": 0,
              "ticks": ""
             }
            },
            "type": "scattercarpet"
           }
          ],
          "scattergeo": [
           {
            "marker": {
             "colorbar": {
              "outlinewidth": 0,
              "ticks": ""
             }
            },
            "type": "scattergeo"
           }
          ],
          "scattergl": [
           {
            "marker": {
             "colorbar": {
              "outlinewidth": 0,
              "ticks": ""
             }
            },
            "type": "scattergl"
           }
          ],
          "scattermapbox": [
           {
            "marker": {
             "colorbar": {
              "outlinewidth": 0,
              "ticks": ""
             }
            },
            "type": "scattermapbox"
           }
          ],
          "scatterpolar": [
           {
            "marker": {
             "colorbar": {
              "outlinewidth": 0,
              "ticks": ""
             }
            },
            "type": "scatterpolar"
           }
          ],
          "scatterpolargl": [
           {
            "marker": {
             "colorbar": {
              "outlinewidth": 0,
              "ticks": ""
             }
            },
            "type": "scatterpolargl"
           }
          ],
          "scatterternary": [
           {
            "marker": {
             "colorbar": {
              "outlinewidth": 0,
              "ticks": ""
             }
            },
            "type": "scatterternary"
           }
          ],
          "surface": [
           {
            "colorbar": {
             "outlinewidth": 0,
             "ticks": ""
            },
            "colorscale": [
             [
              0,
              "#0d0887"
             ],
             [
              0.1111111111111111,
              "#46039f"
             ],
             [
              0.2222222222222222,
              "#7201a8"
             ],
             [
              0.3333333333333333,
              "#9c179e"
             ],
             [
              0.4444444444444444,
              "#bd3786"
             ],
             [
              0.5555555555555556,
              "#d8576b"
             ],
             [
              0.6666666666666666,
              "#ed7953"
             ],
             [
              0.7777777777777778,
              "#fb9f3a"
             ],
             [
              0.8888888888888888,
              "#fdca26"
             ],
             [
              1,
              "#f0f921"
             ]
            ],
            "type": "surface"
           }
          ],
          "table": [
           {
            "cells": {
             "fill": {
              "color": "#EBF0F8"
             },
             "line": {
              "color": "white"
             }
            },
            "header": {
             "fill": {
              "color": "#C8D4E3"
             },
             "line": {
              "color": "white"
             }
            },
            "type": "table"
           }
          ]
         },
         "layout": {
          "annotationdefaults": {
           "arrowcolor": "#2a3f5f",
           "arrowhead": 0,
           "arrowwidth": 1
          },
          "autotypenumbers": "strict",
          "coloraxis": {
           "colorbar": {
            "outlinewidth": 0,
            "ticks": ""
           }
          },
          "colorscale": {
           "diverging": [
            [
             0,
             "#8e0152"
            ],
            [
             0.1,
             "#c51b7d"
            ],
            [
             0.2,
             "#de77ae"
            ],
            [
             0.3,
             "#f1b6da"
            ],
            [
             0.4,
             "#fde0ef"
            ],
            [
             0.5,
             "#f7f7f7"
            ],
            [
             0.6,
             "#e6f5d0"
            ],
            [
             0.7,
             "#b8e186"
            ],
            [
             0.8,
             "#7fbc41"
            ],
            [
             0.9,
             "#4d9221"
            ],
            [
             1,
             "#276419"
            ]
           ],
           "sequential": [
            [
             0,
             "#0d0887"
            ],
            [
             0.1111111111111111,
             "#46039f"
            ],
            [
             0.2222222222222222,
             "#7201a8"
            ],
            [
             0.3333333333333333,
             "#9c179e"
            ],
            [
             0.4444444444444444,
             "#bd3786"
            ],
            [
             0.5555555555555556,
             "#d8576b"
            ],
            [
             0.6666666666666666,
             "#ed7953"
            ],
            [
             0.7777777777777778,
             "#fb9f3a"
            ],
            [
             0.8888888888888888,
             "#fdca26"
            ],
            [
             1,
             "#f0f921"
            ]
           ],
           "sequentialminus": [
            [
             0,
             "#0d0887"
            ],
            [
             0.1111111111111111,
             "#46039f"
            ],
            [
             0.2222222222222222,
             "#7201a8"
            ],
            [
             0.3333333333333333,
             "#9c179e"
            ],
            [
             0.4444444444444444,
             "#bd3786"
            ],
            [
             0.5555555555555556,
             "#d8576b"
            ],
            [
             0.6666666666666666,
             "#ed7953"
            ],
            [
             0.7777777777777778,
             "#fb9f3a"
            ],
            [
             0.8888888888888888,
             "#fdca26"
            ],
            [
             1,
             "#f0f921"
            ]
           ]
          },
          "colorway": [
           "#636efa",
           "#EF553B",
           "#00cc96",
           "#ab63fa",
           "#FFA15A",
           "#19d3f3",
           "#FF6692",
           "#B6E880",
           "#FF97FF",
           "#FECB52"
          ],
          "font": {
           "color": "#2a3f5f"
          },
          "geo": {
           "bgcolor": "white",
           "lakecolor": "white",
           "landcolor": "#E5ECF6",
           "showlakes": true,
           "showland": true,
           "subunitcolor": "white"
          },
          "hoverlabel": {
           "align": "left"
          },
          "hovermode": "closest",
          "mapbox": {
           "style": "light"
          },
          "paper_bgcolor": "white",
          "plot_bgcolor": "#E5ECF6",
          "polar": {
           "angularaxis": {
            "gridcolor": "white",
            "linecolor": "white",
            "ticks": ""
           },
           "bgcolor": "#E5ECF6",
           "radialaxis": {
            "gridcolor": "white",
            "linecolor": "white",
            "ticks": ""
           }
          },
          "scene": {
           "xaxis": {
            "backgroundcolor": "#E5ECF6",
            "gridcolor": "white",
            "gridwidth": 2,
            "linecolor": "white",
            "showbackground": true,
            "ticks": "",
            "zerolinecolor": "white"
           },
           "yaxis": {
            "backgroundcolor": "#E5ECF6",
            "gridcolor": "white",
            "gridwidth": 2,
            "linecolor": "white",
            "showbackground": true,
            "ticks": "",
            "zerolinecolor": "white"
           },
           "zaxis": {
            "backgroundcolor": "#E5ECF6",
            "gridcolor": "white",
            "gridwidth": 2,
            "linecolor": "white",
            "showbackground": true,
            "ticks": "",
            "zerolinecolor": "white"
           }
          },
          "shapedefaults": {
           "line": {
            "color": "#2a3f5f"
           }
          },
          "ternary": {
           "aaxis": {
            "gridcolor": "white",
            "linecolor": "white",
            "ticks": ""
           },
           "baxis": {
            "gridcolor": "white",
            "linecolor": "white",
            "ticks": ""
           },
           "bgcolor": "#E5ECF6",
           "caxis": {
            "gridcolor": "white",
            "linecolor": "white",
            "ticks": ""
           }
          },
          "title": {
           "x": 0.05
          },
          "xaxis": {
           "automargin": true,
           "gridcolor": "white",
           "linecolor": "white",
           "ticks": "",
           "title": {
            "standoff": 15
           },
           "zerolinecolor": "white",
           "zerolinewidth": 2
          },
          "yaxis": {
           "automargin": true,
           "gridcolor": "white",
           "linecolor": "white",
           "ticks": "",
           "title": {
            "standoff": 15
           },
           "zerolinecolor": "white",
           "zerolinewidth": 2
          }
         }
        },
        "xaxis": {
         "anchor": "y",
         "domain": [
          0,
          1
         ],
         "title": {
          "text": "timestamp"
         }
        },
        "yaxis": {
         "anchor": "x",
         "domain": [
          0,
          1
         ],
         "title": {
          "text": "value"
         }
        }
       }
      }
     },
     "metadata": {},
     "output_type": "display_data"
    },
    {
     "name": "stdout",
     "output_type": "stream",
     "text": [
      "extra_reward_per_token_cols=['AURA|| 0 extraRewardPerToken'] extra_reward_to_eth_cols=['AURA_to_ETH']\n"
     ]
    },
    {
     "data": {
      "application/vnd.plotly.v1+json": {
       "config": {
        "plotlyServerURL": "https://plot.ly"
       },
       "data": [
        {
         "hovertemplate": "variable=Balancer weETH/ezETH/rswETH Growth of a ETH<br>timestamp=%{x}<br>value=%{y}<extra></extra>",
         "legendgroup": "Balancer weETH/ezETH/rswETH Growth of a ETH",
         "line": {
          "color": "#636efa",
          "dash": "solid"
         },
         "marker": {
          "symbol": "circle"
         },
         "mode": "lines",
         "name": "Balancer weETH/ezETH/rswETH Growth of a ETH",
         "orientation": "v",
         "showlegend": true,
         "type": "scatter",
         "x": [
          "2024-07-17T00:53:47",
          "2024-07-17T06:50:11",
          "2024-07-17T12:46:35",
          "2024-07-17T18:43:35",
          "2024-07-18T00:40:11",
          "2024-07-18T06:37:35",
          "2024-07-18T12:34:59",
          "2024-07-18T18:31:35",
          "2024-07-19T00:27:59",
          "2024-07-19T06:24:23",
          "2024-07-19T12:20:35",
          "2024-07-19T18:17:11",
          "2024-07-20T00:13:23",
          "2024-07-20T06:10:35",
          "2024-07-20T12:07:35",
          "2024-07-20T18:04:23",
          "2024-07-21T00:00:47",
          "2024-07-21T05:57:23",
          "2024-07-21T11:53:23",
          "2024-07-21T17:50:35",
          "2024-07-21T23:47:35",
          "2024-07-22T05:44:23",
          "2024-07-22T11:41:35",
          "2024-07-22T17:38:59",
          "2024-07-22T23:35:47",
          "2024-07-23T05:32:47",
          "2024-07-23T11:29:35",
          "2024-07-23T17:25:47",
          "2024-07-23T23:22:35",
          "2024-07-24T05:18:47",
          "2024-07-24T11:15:11",
          "2024-07-24T17:12:23",
          "2024-07-24T23:09:59",
          "2024-07-25T05:06:35",
          "2024-07-25T11:02:47",
          "2024-07-25T16:59:47",
          "2024-07-25T22:57:23",
          "2024-07-26T04:54:47",
          "2024-07-26T10:50:47",
          "2024-07-26T16:47:47",
          "2024-07-26T22:44:47",
          "2024-07-27T04:42:11",
          "2024-07-27T10:39:11",
          "2024-07-27T16:35:11",
          "2024-07-27T22:32:35",
          "2024-07-28T04:29:59",
          "2024-07-28T10:26:35",
          "2024-07-28T16:22:35",
          "2024-07-28T22:18:11",
          "2024-07-29T04:15:11",
          "2024-07-29T10:11:59",
          "2024-07-29T16:07:47",
          "2024-07-29T22:03:47",
          "2024-07-30T04:01:23",
          "2024-07-30T10:01:11",
          "2024-07-30T15:58:35",
          "2024-07-30T21:55:35",
          "2024-07-31T03:52:11",
          "2024-07-31T09:48:35",
          "2024-07-31T15:45:11",
          "2024-07-31T21:42:47",
          "2024-08-01T03:39:11",
          "2024-08-01T09:35:35",
          "2024-08-01T15:32:35",
          "2024-08-01T21:29:23",
          "2024-08-02T03:26:11",
          "2024-08-02T09:22:59",
          "2024-08-02T15:19:59",
          "2024-08-02T21:18:11",
          "2024-08-03T03:15:11",
          "2024-08-03T09:12:35",
          "2024-08-03T15:08:47",
          "2024-08-03T21:05:11",
          "2024-08-04T03:01:47",
          "2024-08-04T08:57:23",
          "2024-08-04T14:53:23",
          "2024-08-04T20:49:59",
          "2024-08-05T02:45:47",
          "2024-08-05T08:41:47",
          "2024-08-05T14:38:47",
          "2024-08-05T20:36:11",
          "2024-08-06T02:32:23",
          "2024-08-06T08:28:47",
          "2024-08-06T14:25:47",
          "2024-08-06T20:22:47",
          "2024-08-07T02:19:23",
          "2024-08-07T08:15:59",
          "2024-08-07T14:12:35",
          "2024-08-07T20:08:35",
          "2024-08-08T02:05:23",
          "2024-08-08T08:01:47",
          "2024-08-08T13:58:23",
          "2024-08-08T19:54:11",
          "2024-08-09T01:50:11",
          "2024-08-09T07:46:35",
          "2024-08-09T13:42:35",
          "2024-08-09T19:39:35",
          "2024-08-10T01:36:23",
          "2024-08-10T07:32:35",
          "2024-08-10T13:29:59",
          "2024-08-10T19:25:11",
          "2024-08-11T01:22:23",
          "2024-08-11T07:19:47",
          "2024-08-11T13:17:35",
          "2024-08-11T19:14:23",
          "2024-08-12T01:10:23",
          "2024-08-12T07:07:35",
          "2024-08-12T13:04:59",
          "2024-08-12T19:01:47",
          "2024-08-13T00:56:47",
          "2024-08-13T06:53:35",
          "2024-08-13T12:50:47",
          "2024-08-13T18:47:11",
          "2024-08-14T00:43:35",
          "2024-08-14T06:40:47",
          "2024-08-14T12:37:11",
          "2024-08-14T18:34:11",
          "2024-08-15T00:31:11",
          "2024-08-15T06:27:59",
          "2024-08-15T12:25:23",
          "2024-08-15T18:22:47",
          "2024-08-16T00:20:35",
          "2024-08-16T06:16:35",
          "2024-08-16T12:12:47",
          "2024-08-16T18:09:23",
          "2024-08-17T00:07:23",
          "2024-08-17T06:04:59",
          "2024-08-17T12:01:59",
          "2024-08-17T17:59:59",
          "2024-08-17T23:56:11",
          "2024-08-18T05:51:59",
          "2024-08-18T11:48:47",
          "2024-08-18T17:45:11",
          "2024-08-18T23:41:23",
          "2024-08-19T05:39:23",
          "2024-08-19T11:35:47",
          "2024-08-19T17:33:47",
          "2024-08-19T23:29:47",
          "2024-08-20T05:26:11",
          "2024-08-20T11:24:23",
          "2024-08-20T17:20:59",
          "2024-08-20T23:18:35",
          "2024-08-21T05:15:11",
          "2024-08-21T11:11:11",
          "2024-08-21T17:08:35",
          "2024-08-21T23:06:35",
          "2024-08-22T05:04:23",
          "2024-08-22T11:01:59",
          "2024-08-22T16:58:23",
          "2024-08-22T22:54:35",
          "2024-08-23T04:51:59",
          "2024-08-23T10:50:35",
          "2024-08-23T16:47:23",
          "2024-08-23T22:44:11",
          "2024-08-24T04:40:59",
          "2024-08-24T10:38:47",
          "2024-08-24T16:36:11",
          "2024-08-24T22:33:35",
          "2024-08-25T04:31:35",
          "2024-08-25T10:29:35",
          "2024-08-25T16:26:35",
          "2024-08-25T22:23:11",
          "2024-08-26T04:20:11",
          "2024-08-26T10:17:35",
          "2024-08-26T16:13:59",
          "2024-08-26T22:10:59",
          "2024-08-27T04:08:59",
          "2024-08-27T10:06:23",
          "2024-08-27T16:02:35",
          "2024-08-27T21:59:11",
          "2024-08-28T03:55:35",
          "2024-08-28T09:53:23",
          "2024-08-28T15:49:47",
          "2024-08-28T21:46:35",
          "2024-08-29T03:43:59",
          "2024-08-29T09:41:47",
          "2024-08-29T15:39:23",
          "2024-08-29T21:36:35",
          "2024-08-30T03:34:35",
          "2024-08-30T09:31:47",
          "2024-08-30T15:28:35",
          "2024-08-30T21:24:59",
          "2024-08-31T03:22:59",
          "2024-08-31T09:19:47",
          "2024-08-31T15:16:59",
          "2024-08-31T21:13:47",
          "2024-09-01T03:09:59",
          "2024-09-01T09:05:47",
          "2024-09-01T15:02:59",
          "2024-09-01T21:00:35",
          "2024-09-02T02:56:47",
          "2024-09-02T08:52:47",
          "2024-09-02T14:50:11",
          "2024-09-02T20:46:23",
          "2024-09-03T02:42:59",
          "2024-09-03T08:40:23",
          "2024-09-03T14:36:47",
          "2024-09-03T20:32:35"
         ],
         "xaxis": "x",
         "y": [
          1,
          1.000029322959841,
          0.9997228922496987,
          0.999749969756248,
          0.999753965266983,
          0.9997805834005474,
          0.9995744031681423,
          0.9996021915742987,
          0.9995848372974596,
          0.9996077937172749,
          0.9992793774933724,
          0.9993043556648341,
          0.9993582059220105,
          0.9993851260214696,
          0.9998806860314893,
          0.9999178722340278,
          0.999919144653616,
          0.9999483898780154,
          1.0001784486875356,
          1.0001773507137783,
          1.0001995665282868,
          1.000230885910452,
          1.000300606780579,
          1.0003350938473197,
          1.000342746395217,
          1.000418710356379,
          1.000199736012782,
          1.000283263398069,
          1.000322664596076,
          1.0004276863547097,
          0.9983215556780982,
          0.9983137398459417,
          0.998335667764615,
          0.9984111814191592,
          0.9978770490289077,
          0.9978355833574722,
          0.9978855491774579,
          0.997891507660883,
          0.9967205720996317,
          0.9968159453632567,
          0.9968595052896218,
          0.9968733701290001,
          0.9978766231809623,
          0.9979613294593446,
          0.9979714864022403,
          0.9980046103427344,
          0.9972534910202028,
          0.9973041783653348,
          0.9973131316413865,
          0.9973278807479024,
          1.000109247252395,
          1.0002532839447078,
          1.0002508933853849,
          1.000250228260059,
          1.0008863444815428,
          1.0009294766732157,
          1.0011064722171172,
          1.000987858550607,
          1.00359130415422,
          1.0037482766737593,
          1.0037686701371138,
          1.0037725419444348,
          1.0026756550993117,
          1.0027344933800906,
          1.0027958547610378,
          1.0027815843353414,
          1.0037585490759366,
          1.003796111715055,
          1.0038757627965402,
          1.0039294045214433,
          1.0035875318033793,
          1.003606926902009,
          1.0035594925166273,
          1.0035793545553866,
          1.0035531279781575,
          1.002852443683781,
          1.0026879073408521,
          0.9921813091954185,
          0.9971212238821726,
          0.9970987409759631,
          0.9971516781344054,
          0.9979063280761282,
          1.0019231130540682,
          1.002906956211936,
          1.0025663714419286,
          1.0026072917669315,
          1.0043158787882303,
          1.0044023491776046,
          1.0043008260495627,
          1.0042987734796787,
          1.0031440429712906,
          1.0031514203361538,
          1.003710266653346,
          1.0038163444735428,
          1.0039177924679126,
          1.0039319430724305,
          1.0042335470132857,
          1.0045674042318873,
          1.006996523810093,
          1.00707708345432,
          1.006930594675933,
          1.006886751908663,
          1.0072529690776921,
          1.0072292771046465,
          1.007237873322675,
          1.0069826253887153,
          1.0069511731599652,
          1.0068867264032335,
          1.006894326998577,
          1.0068454637464652,
          1.0068692031660944,
          1.0072055382076022,
          1.007244164519523,
          1.0074915513216858,
          1.007463623588936,
          1.007307952688338,
          1.0073200371042939,
          1.0073648735190794,
          1.0073639881256158,
          1.0071427077641582,
          1.0071833916131898,
          1.0073756191863268,
          1.0073952710533234,
          1.006809677817953,
          1.0067718745348955,
          1.0067954499071647,
          1.0068399515332283,
          1.006908752023286,
          1.0069093297588863,
          1.0069745639599321,
          1.0069959290248005,
          1.0072544629807085,
          1.007310364591554,
          1.0072006980124328,
          1.00725892944541,
          1.0086678724277467,
          1.0086934961577751,
          1.008556034708035,
          1.0085779045549235,
          1.0086051668983722,
          1.0086464818198986,
          1.0088845023689403,
          1.0089120089277523,
          1.0089649049113292,
          1.0089620881064503,
          1.0089560268613853,
          1.008956113399626,
          1.010048753330083,
          1.0100760716338801,
          1.0098978605510762,
          1.0099129670892784,
          1.00997327610725,
          1.0099885814599383,
          1.009966076890583,
          1.0099871623534866,
          1.0099660644069544,
          1.0100279919942934,
          1.0099799153156375,
          1.0099511339491025,
          1.0101773923611315,
          1.010151738328844,
          1.0101797511174444,
          1.0102159065472143,
          1.0097738281044106,
          1.0097956089635953,
          1.0098071170287697,
          1.009836632091281,
          1.0103525990638909,
          1.0103860451627826,
          1.0104493315284953,
          1.0105085506332319,
          1.009938086538201,
          1.010025317451793,
          1.0099458225197808,
          1.0099715162049183,
          1.0103517363214478,
          1.0103837957393407,
          1.0105503092529162,
          1.010582971387642,
          1.0106764815580855,
          1.0106672425530343,
          1.0106160207322563,
          1.0106413366712768,
          1.010728494720611,
          1.0107423602887695,
          1.010791866503797,
          1.0108299630038433,
          1.011064089317802,
          1.0111021169557326,
          1.0111421678824521,
          1.0111809590103953,
          1.011277153594859,
          1.0113410854052443,
          1.0114190190644878,
          1.0114722745421096,
          1.011767102965986,
          1.0119459009583378,
          1.0084197908861063
         ],
         "yaxis": "y"
        }
       ],
       "layout": {
        "legend": {
         "title": {
          "text": "variable"
         },
         "tracegroupgap": 0
        },
        "margin": {
         "t": 60
        },
        "template": {
         "data": {
          "bar": [
           {
            "error_x": {
             "color": "#2a3f5f"
            },
            "error_y": {
             "color": "#2a3f5f"
            },
            "marker": {
             "line": {
              "color": "#E5ECF6",
              "width": 0.5
             },
             "pattern": {
              "fillmode": "overlay",
              "size": 10,
              "solidity": 0.2
             }
            },
            "type": "bar"
           }
          ],
          "barpolar": [
           {
            "marker": {
             "line": {
              "color": "#E5ECF6",
              "width": 0.5
             },
             "pattern": {
              "fillmode": "overlay",
              "size": 10,
              "solidity": 0.2
             }
            },
            "type": "barpolar"
           }
          ],
          "carpet": [
           {
            "aaxis": {
             "endlinecolor": "#2a3f5f",
             "gridcolor": "white",
             "linecolor": "white",
             "minorgridcolor": "white",
             "startlinecolor": "#2a3f5f"
            },
            "baxis": {
             "endlinecolor": "#2a3f5f",
             "gridcolor": "white",
             "linecolor": "white",
             "minorgridcolor": "white",
             "startlinecolor": "#2a3f5f"
            },
            "type": "carpet"
           }
          ],
          "choropleth": [
           {
            "colorbar": {
             "outlinewidth": 0,
             "ticks": ""
            },
            "type": "choropleth"
           }
          ],
          "contour": [
           {
            "colorbar": {
             "outlinewidth": 0,
             "ticks": ""
            },
            "colorscale": [
             [
              0,
              "#0d0887"
             ],
             [
              0.1111111111111111,
              "#46039f"
             ],
             [
              0.2222222222222222,
              "#7201a8"
             ],
             [
              0.3333333333333333,
              "#9c179e"
             ],
             [
              0.4444444444444444,
              "#bd3786"
             ],
             [
              0.5555555555555556,
              "#d8576b"
             ],
             [
              0.6666666666666666,
              "#ed7953"
             ],
             [
              0.7777777777777778,
              "#fb9f3a"
             ],
             [
              0.8888888888888888,
              "#fdca26"
             ],
             [
              1,
              "#f0f921"
             ]
            ],
            "type": "contour"
           }
          ],
          "contourcarpet": [
           {
            "colorbar": {
             "outlinewidth": 0,
             "ticks": ""
            },
            "type": "contourcarpet"
           }
          ],
          "heatmap": [
           {
            "colorbar": {
             "outlinewidth": 0,
             "ticks": ""
            },
            "colorscale": [
             [
              0,
              "#0d0887"
             ],
             [
              0.1111111111111111,
              "#46039f"
             ],
             [
              0.2222222222222222,
              "#7201a8"
             ],
             [
              0.3333333333333333,
              "#9c179e"
             ],
             [
              0.4444444444444444,
              "#bd3786"
             ],
             [
              0.5555555555555556,
              "#d8576b"
             ],
             [
              0.6666666666666666,
              "#ed7953"
             ],
             [
              0.7777777777777778,
              "#fb9f3a"
             ],
             [
              0.8888888888888888,
              "#fdca26"
             ],
             [
              1,
              "#f0f921"
             ]
            ],
            "type": "heatmap"
           }
          ],
          "heatmapgl": [
           {
            "colorbar": {
             "outlinewidth": 0,
             "ticks": ""
            },
            "colorscale": [
             [
              0,
              "#0d0887"
             ],
             [
              0.1111111111111111,
              "#46039f"
             ],
             [
              0.2222222222222222,
              "#7201a8"
             ],
             [
              0.3333333333333333,
              "#9c179e"
             ],
             [
              0.4444444444444444,
              "#bd3786"
             ],
             [
              0.5555555555555556,
              "#d8576b"
             ],
             [
              0.6666666666666666,
              "#ed7953"
             ],
             [
              0.7777777777777778,
              "#fb9f3a"
             ],
             [
              0.8888888888888888,
              "#fdca26"
             ],
             [
              1,
              "#f0f921"
             ]
            ],
            "type": "heatmapgl"
           }
          ],
          "histogram": [
           {
            "marker": {
             "pattern": {
              "fillmode": "overlay",
              "size": 10,
              "solidity": 0.2
             }
            },
            "type": "histogram"
           }
          ],
          "histogram2d": [
           {
            "colorbar": {
             "outlinewidth": 0,
             "ticks": ""
            },
            "colorscale": [
             [
              0,
              "#0d0887"
             ],
             [
              0.1111111111111111,
              "#46039f"
             ],
             [
              0.2222222222222222,
              "#7201a8"
             ],
             [
              0.3333333333333333,
              "#9c179e"
             ],
             [
              0.4444444444444444,
              "#bd3786"
             ],
             [
              0.5555555555555556,
              "#d8576b"
             ],
             [
              0.6666666666666666,
              "#ed7953"
             ],
             [
              0.7777777777777778,
              "#fb9f3a"
             ],
             [
              0.8888888888888888,
              "#fdca26"
             ],
             [
              1,
              "#f0f921"
             ]
            ],
            "type": "histogram2d"
           }
          ],
          "histogram2dcontour": [
           {
            "colorbar": {
             "outlinewidth": 0,
             "ticks": ""
            },
            "colorscale": [
             [
              0,
              "#0d0887"
             ],
             [
              0.1111111111111111,
              "#46039f"
             ],
             [
              0.2222222222222222,
              "#7201a8"
             ],
             [
              0.3333333333333333,
              "#9c179e"
             ],
             [
              0.4444444444444444,
              "#bd3786"
             ],
             [
              0.5555555555555556,
              "#d8576b"
             ],
             [
              0.6666666666666666,
              "#ed7953"
             ],
             [
              0.7777777777777778,
              "#fb9f3a"
             ],
             [
              0.8888888888888888,
              "#fdca26"
             ],
             [
              1,
              "#f0f921"
             ]
            ],
            "type": "histogram2dcontour"
           }
          ],
          "mesh3d": [
           {
            "colorbar": {
             "outlinewidth": 0,
             "ticks": ""
            },
            "type": "mesh3d"
           }
          ],
          "parcoords": [
           {
            "line": {
             "colorbar": {
              "outlinewidth": 0,
              "ticks": ""
             }
            },
            "type": "parcoords"
           }
          ],
          "pie": [
           {
            "automargin": true,
            "type": "pie"
           }
          ],
          "scatter": [
           {
            "fillpattern": {
             "fillmode": "overlay",
             "size": 10,
             "solidity": 0.2
            },
            "type": "scatter"
           }
          ],
          "scatter3d": [
           {
            "line": {
             "colorbar": {
              "outlinewidth": 0,
              "ticks": ""
             }
            },
            "marker": {
             "colorbar": {
              "outlinewidth": 0,
              "ticks": ""
             }
            },
            "type": "scatter3d"
           }
          ],
          "scattercarpet": [
           {
            "marker": {
             "colorbar": {
              "outlinewidth": 0,
              "ticks": ""
             }
            },
            "type": "scattercarpet"
           }
          ],
          "scattergeo": [
           {
            "marker": {
             "colorbar": {
              "outlinewidth": 0,
              "ticks": ""
             }
            },
            "type": "scattergeo"
           }
          ],
          "scattergl": [
           {
            "marker": {
             "colorbar": {
              "outlinewidth": 0,
              "ticks": ""
             }
            },
            "type": "scattergl"
           }
          ],
          "scattermapbox": [
           {
            "marker": {
             "colorbar": {
              "outlinewidth": 0,
              "ticks": ""
             }
            },
            "type": "scattermapbox"
           }
          ],
          "scatterpolar": [
           {
            "marker": {
             "colorbar": {
              "outlinewidth": 0,
              "ticks": ""
             }
            },
            "type": "scatterpolar"
           }
          ],
          "scatterpolargl": [
           {
            "marker": {
             "colorbar": {
              "outlinewidth": 0,
              "ticks": ""
             }
            },
            "type": "scatterpolargl"
           }
          ],
          "scatterternary": [
           {
            "marker": {
             "colorbar": {
              "outlinewidth": 0,
              "ticks": ""
             }
            },
            "type": "scatterternary"
           }
          ],
          "surface": [
           {
            "colorbar": {
             "outlinewidth": 0,
             "ticks": ""
            },
            "colorscale": [
             [
              0,
              "#0d0887"
             ],
             [
              0.1111111111111111,
              "#46039f"
             ],
             [
              0.2222222222222222,
              "#7201a8"
             ],
             [
              0.3333333333333333,
              "#9c179e"
             ],
             [
              0.4444444444444444,
              "#bd3786"
             ],
             [
              0.5555555555555556,
              "#d8576b"
             ],
             [
              0.6666666666666666,
              "#ed7953"
             ],
             [
              0.7777777777777778,
              "#fb9f3a"
             ],
             [
              0.8888888888888888,
              "#fdca26"
             ],
             [
              1,
              "#f0f921"
             ]
            ],
            "type": "surface"
           }
          ],
          "table": [
           {
            "cells": {
             "fill": {
              "color": "#EBF0F8"
             },
             "line": {
              "color": "white"
             }
            },
            "header": {
             "fill": {
              "color": "#C8D4E3"
             },
             "line": {
              "color": "white"
             }
            },
            "type": "table"
           }
          ]
         },
         "layout": {
          "annotationdefaults": {
           "arrowcolor": "#2a3f5f",
           "arrowhead": 0,
           "arrowwidth": 1
          },
          "autotypenumbers": "strict",
          "coloraxis": {
           "colorbar": {
            "outlinewidth": 0,
            "ticks": ""
           }
          },
          "colorscale": {
           "diverging": [
            [
             0,
             "#8e0152"
            ],
            [
             0.1,
             "#c51b7d"
            ],
            [
             0.2,
             "#de77ae"
            ],
            [
             0.3,
             "#f1b6da"
            ],
            [
             0.4,
             "#fde0ef"
            ],
            [
             0.5,
             "#f7f7f7"
            ],
            [
             0.6,
             "#e6f5d0"
            ],
            [
             0.7,
             "#b8e186"
            ],
            [
             0.8,
             "#7fbc41"
            ],
            [
             0.9,
             "#4d9221"
            ],
            [
             1,
             "#276419"
            ]
           ],
           "sequential": [
            [
             0,
             "#0d0887"
            ],
            [
             0.1111111111111111,
             "#46039f"
            ],
            [
             0.2222222222222222,
             "#7201a8"
            ],
            [
             0.3333333333333333,
             "#9c179e"
            ],
            [
             0.4444444444444444,
             "#bd3786"
            ],
            [
             0.5555555555555556,
             "#d8576b"
            ],
            [
             0.6666666666666666,
             "#ed7953"
            ],
            [
             0.7777777777777778,
             "#fb9f3a"
            ],
            [
             0.8888888888888888,
             "#fdca26"
            ],
            [
             1,
             "#f0f921"
            ]
           ],
           "sequentialminus": [
            [
             0,
             "#0d0887"
            ],
            [
             0.1111111111111111,
             "#46039f"
            ],
            [
             0.2222222222222222,
             "#7201a8"
            ],
            [
             0.3333333333333333,
             "#9c179e"
            ],
            [
             0.4444444444444444,
             "#bd3786"
            ],
            [
             0.5555555555555556,
             "#d8576b"
            ],
            [
             0.6666666666666666,
             "#ed7953"
            ],
            [
             0.7777777777777778,
             "#fb9f3a"
            ],
            [
             0.8888888888888888,
             "#fdca26"
            ],
            [
             1,
             "#f0f921"
            ]
           ]
          },
          "colorway": [
           "#636efa",
           "#EF553B",
           "#00cc96",
           "#ab63fa",
           "#FFA15A",
           "#19d3f3",
           "#FF6692",
           "#B6E880",
           "#FF97FF",
           "#FECB52"
          ],
          "font": {
           "color": "#2a3f5f"
          },
          "geo": {
           "bgcolor": "white",
           "lakecolor": "white",
           "landcolor": "#E5ECF6",
           "showlakes": true,
           "showland": true,
           "subunitcolor": "white"
          },
          "hoverlabel": {
           "align": "left"
          },
          "hovermode": "closest",
          "mapbox": {
           "style": "light"
          },
          "paper_bgcolor": "white",
          "plot_bgcolor": "#E5ECF6",
          "polar": {
           "angularaxis": {
            "gridcolor": "white",
            "linecolor": "white",
            "ticks": ""
           },
           "bgcolor": "#E5ECF6",
           "radialaxis": {
            "gridcolor": "white",
            "linecolor": "white",
            "ticks": ""
           }
          },
          "scene": {
           "xaxis": {
            "backgroundcolor": "#E5ECF6",
            "gridcolor": "white",
            "gridwidth": 2,
            "linecolor": "white",
            "showbackground": true,
            "ticks": "",
            "zerolinecolor": "white"
           },
           "yaxis": {
            "backgroundcolor": "#E5ECF6",
            "gridcolor": "white",
            "gridwidth": 2,
            "linecolor": "white",
            "showbackground": true,
            "ticks": "",
            "zerolinecolor": "white"
           },
           "zaxis": {
            "backgroundcolor": "#E5ECF6",
            "gridcolor": "white",
            "gridwidth": 2,
            "linecolor": "white",
            "showbackground": true,
            "ticks": "",
            "zerolinecolor": "white"
           }
          },
          "shapedefaults": {
           "line": {
            "color": "#2a3f5f"
           }
          },
          "ternary": {
           "aaxis": {
            "gridcolor": "white",
            "linecolor": "white",
            "ticks": ""
           },
           "baxis": {
            "gridcolor": "white",
            "linecolor": "white",
            "ticks": ""
           },
           "bgcolor": "#E5ECF6",
           "caxis": {
            "gridcolor": "white",
            "linecolor": "white",
            "ticks": ""
           }
          },
          "title": {
           "x": 0.05
          },
          "xaxis": {
           "automargin": true,
           "gridcolor": "white",
           "linecolor": "white",
           "ticks": "",
           "title": {
            "standoff": 15
           },
           "zerolinecolor": "white",
           "zerolinewidth": 2
          },
          "yaxis": {
           "automargin": true,
           "gridcolor": "white",
           "linecolor": "white",
           "ticks": "",
           "title": {
            "standoff": 15
           },
           "zerolinecolor": "white",
           "zerolinewidth": 2
          }
         }
        },
        "xaxis": {
         "anchor": "y",
         "domain": [
          0,
          1
         ],
         "title": {
          "text": "timestamp"
         }
        },
        "yaxis": {
         "anchor": "x",
         "domain": [
          0,
          1
         ],
         "title": {
          "text": "value"
         }
        }
       }
      }
     },
     "metadata": {},
     "output_type": "display_data"
    },
    {
     "name": "stdout",
     "output_type": "stream",
     "text": [
      "extra_reward_per_token_cols=['AURA|| 0 extraRewardPerToken'] extra_reward_to_eth_cols=['AURA_to_ETH']\n"
     ]
    },
    {
     "data": {
      "application/vnd.plotly.v1+json": {
       "config": {
        "plotlyServerURL": "https://plot.ly"
       },
       "data": [
        {
         "hovertemplate": "variable=Gyroscope ECLP wstETH/wETH Growth of a ETH<br>timestamp=%{x}<br>value=%{y}<extra></extra>",
         "legendgroup": "Gyroscope ECLP wstETH/wETH Growth of a ETH",
         "line": {
          "color": "#636efa",
          "dash": "solid"
         },
         "marker": {
          "symbol": "circle"
         },
         "mode": "lines",
         "name": "Gyroscope ECLP wstETH/wETH Growth of a ETH",
         "orientation": "v",
         "showlegend": true,
         "type": "scatter",
         "x": [
          "2024-07-17T00:53:47",
          "2024-07-17T06:50:11",
          "2024-07-17T12:46:35",
          "2024-07-17T18:43:35",
          "2024-07-18T00:40:11",
          "2024-07-18T06:37:35",
          "2024-07-18T12:34:59",
          "2024-07-18T18:31:35",
          "2024-07-19T00:27:59",
          "2024-07-19T06:24:23",
          "2024-07-19T12:20:35",
          "2024-07-19T18:17:11",
          "2024-07-20T00:13:23",
          "2024-07-20T06:10:35",
          "2024-07-20T12:07:35",
          "2024-07-20T18:04:23",
          "2024-07-21T00:00:47",
          "2024-07-21T05:57:23",
          "2024-07-21T11:53:23",
          "2024-07-21T17:50:35",
          "2024-07-21T23:47:35",
          "2024-07-22T05:44:23",
          "2024-07-22T11:41:35",
          "2024-07-22T17:38:59",
          "2024-07-22T23:35:47",
          "2024-07-23T05:32:47",
          "2024-07-23T11:29:35",
          "2024-07-23T17:25:47",
          "2024-07-23T23:22:35",
          "2024-07-24T05:18:47",
          "2024-07-24T11:15:11",
          "2024-07-24T17:12:23",
          "2024-07-24T23:09:59",
          "2024-07-25T05:06:35",
          "2024-07-25T11:02:47",
          "2024-07-25T16:59:47",
          "2024-07-25T22:57:23",
          "2024-07-26T04:54:47",
          "2024-07-26T10:50:47",
          "2024-07-26T16:47:47",
          "2024-07-26T22:44:47",
          "2024-07-27T04:42:11",
          "2024-07-27T10:39:11",
          "2024-07-27T16:35:11",
          "2024-07-27T22:32:35",
          "2024-07-28T04:29:59",
          "2024-07-28T10:26:35",
          "2024-07-28T16:22:35",
          "2024-07-28T22:18:11",
          "2024-07-29T04:15:11",
          "2024-07-29T10:11:59",
          "2024-07-29T16:07:47",
          "2024-07-29T22:03:47",
          "2024-07-30T04:01:23",
          "2024-07-30T10:01:11",
          "2024-07-30T15:58:35",
          "2024-07-30T21:55:35",
          "2024-07-31T03:52:11",
          "2024-07-31T09:48:35",
          "2024-07-31T15:45:11",
          "2024-07-31T21:42:47",
          "2024-08-01T03:39:11",
          "2024-08-01T09:35:35",
          "2024-08-01T15:32:35",
          "2024-08-01T21:29:23",
          "2024-08-02T03:26:11",
          "2024-08-02T09:22:59",
          "2024-08-02T15:19:59",
          "2024-08-02T21:18:11",
          "2024-08-03T03:15:11",
          "2024-08-03T09:12:35",
          "2024-08-03T15:08:47",
          "2024-08-03T21:05:11",
          "2024-08-04T03:01:47",
          "2024-08-04T08:57:23",
          "2024-08-04T14:53:23",
          "2024-08-04T20:49:59",
          "2024-08-05T02:45:47",
          "2024-08-05T08:41:47",
          "2024-08-05T14:38:47",
          "2024-08-05T20:36:11",
          "2024-08-06T02:32:23",
          "2024-08-06T08:28:47",
          "2024-08-06T14:25:47",
          "2024-08-06T20:22:47",
          "2024-08-07T02:19:23",
          "2024-08-07T08:15:59",
          "2024-08-07T14:12:35",
          "2024-08-07T20:08:35",
          "2024-08-08T02:05:23",
          "2024-08-08T08:01:47",
          "2024-08-08T13:58:23",
          "2024-08-08T19:54:11",
          "2024-08-09T01:50:11",
          "2024-08-09T07:46:35",
          "2024-08-09T13:42:35",
          "2024-08-09T19:39:35",
          "2024-08-10T01:36:23",
          "2024-08-10T07:32:35",
          "2024-08-10T13:29:59",
          "2024-08-10T19:25:11",
          "2024-08-11T01:22:23",
          "2024-08-11T07:19:47",
          "2024-08-11T13:17:35",
          "2024-08-11T19:14:23",
          "2024-08-12T01:10:23",
          "2024-08-12T07:07:35",
          "2024-08-12T13:04:59",
          "2024-08-12T19:01:47",
          "2024-08-13T00:56:47",
          "2024-08-13T06:53:35",
          "2024-08-13T12:50:47",
          "2024-08-13T18:47:11",
          "2024-08-14T00:43:35",
          "2024-08-14T06:40:47",
          "2024-08-14T12:37:11",
          "2024-08-14T18:34:11",
          "2024-08-15T00:31:11",
          "2024-08-15T06:27:59",
          "2024-08-15T12:25:23",
          "2024-08-15T18:22:47",
          "2024-08-16T00:20:35",
          "2024-08-16T06:16:35",
          "2024-08-16T12:12:47",
          "2024-08-16T18:09:23",
          "2024-08-17T00:07:23",
          "2024-08-17T06:04:59",
          "2024-08-17T12:01:59",
          "2024-08-17T17:59:59",
          "2024-08-17T23:56:11",
          "2024-08-18T05:51:59",
          "2024-08-18T11:48:47",
          "2024-08-18T17:45:11",
          "2024-08-18T23:41:23",
          "2024-08-19T05:39:23",
          "2024-08-19T11:35:47",
          "2024-08-19T17:33:47",
          "2024-08-19T23:29:47",
          "2024-08-20T05:26:11",
          "2024-08-20T11:24:23",
          "2024-08-20T17:20:59",
          "2024-08-20T23:18:35",
          "2024-08-21T05:15:11",
          "2024-08-21T11:11:11",
          "2024-08-21T17:08:35",
          "2024-08-21T23:06:35",
          "2024-08-22T05:04:23",
          "2024-08-22T11:01:59",
          "2024-08-22T16:58:23",
          "2024-08-22T22:54:35",
          "2024-08-23T04:51:59",
          "2024-08-23T10:50:35",
          "2024-08-23T16:47:23",
          "2024-08-23T22:44:11",
          "2024-08-24T04:40:59",
          "2024-08-24T10:38:47",
          "2024-08-24T16:36:11",
          "2024-08-24T22:33:35",
          "2024-08-25T04:31:35",
          "2024-08-25T10:29:35",
          "2024-08-25T16:26:35",
          "2024-08-25T22:23:11",
          "2024-08-26T04:20:11",
          "2024-08-26T10:17:35",
          "2024-08-26T16:13:59",
          "2024-08-26T22:10:59",
          "2024-08-27T04:08:59",
          "2024-08-27T10:06:23",
          "2024-08-27T16:02:35",
          "2024-08-27T21:59:11",
          "2024-08-28T03:55:35",
          "2024-08-28T09:53:23",
          "2024-08-28T15:49:47",
          "2024-08-28T21:46:35",
          "2024-08-29T03:43:59",
          "2024-08-29T09:41:47",
          "2024-08-29T15:39:23",
          "2024-08-29T21:36:35",
          "2024-08-30T03:34:35",
          "2024-08-30T09:31:47",
          "2024-08-30T15:28:35",
          "2024-08-30T21:24:59",
          "2024-08-31T03:22:59",
          "2024-08-31T09:19:47",
          "2024-08-31T15:16:59",
          "2024-08-31T21:13:47",
          "2024-09-01T03:09:59",
          "2024-09-01T09:05:47",
          "2024-09-01T15:02:59",
          "2024-09-01T21:00:35",
          "2024-09-02T02:56:47",
          "2024-09-02T08:52:47",
          "2024-09-02T14:50:11",
          "2024-09-02T20:46:23",
          "2024-09-03T02:42:59",
          "2024-09-03T08:40:23",
          "2024-09-03T14:36:47",
          "2024-09-03T20:32:35"
         ],
         "xaxis": "x",
         "y": [
          1,
          1.0000493950652694,
          1.0001782917884623,
          1.0002427083918548,
          1.0003128449878675,
          1.0003298050158613,
          1.0004316834386413,
          1.0004955451908477,
          1.0005591547310597,
          1.0010598358425793,
          1.001057431023417,
          1.0012408795487764,
          1.0012992281462993,
          1.000919629379628,
          1.0009946443730424,
          1.0010989862090336,
          1.001150601108253,
          1.001023989743426,
          1.0010995082220964,
          1.0011666259971694,
          1.0012189206093018,
          1.0015442136004593,
          1.0016072663958537,
          1.0017008004369319,
          1.0017624384693855,
          1.0018547668171576,
          1.00192572699331,
          1.0020497383745697,
          1.0021439150256797,
          1.002145579465936,
          1.0022722026416013,
          1.00237517588985,
          1.0024222467044352,
          1.0023094217041693,
          1.0023700880989754,
          1.0024565413113007,
          1.0025302964648481,
          1.002276202599457,
          1.00236241061034,
          1.0025411644895503,
          1.0026476405884084,
          1.0031299271955287,
          1.003211766606307,
          1.0032932480624666,
          1.003314220338672,
          1.0033374137299265,
          1.003388259523185,
          1.0034814045677987,
          1.0035145186980998,
          1.0037012960825322,
          1.0037437728353398,
          1.0038285530784667,
          1.0038295584373371,
          1.0038283870518443,
          1.0038626013990706,
          1.0039648165722257,
          1.0039977932281388,
          1.0040270236307234,
          1.0040619176389018,
          1.0041538069059353,
          1.0041392792010182,
          1.0042046349444052,
          1.0042406780328177,
          1.0043413608446314,
          1.0045009855250766,
          1.0045225046902306,
          1.004205640617193,
          1.0042861274718378,
          1.0043532977508784,
          1.004418536545497,
          1.0042957340103922,
          1.0044222381958987,
          1.0044476644279097,
          1.004535819259743,
          1.004580895197295,
          1.0046546656750857,
          1.0041958668323203,
          0.9998040417524819,
          0.9977201581385167,
          1.0029978272888103,
          1.003107244635172,
          1.0030906005053113,
          1.003121074484128,
          1.0046366110708975,
          1.0047121800346097,
          1.0047917445384587,
          1.0048008345112895,
          1.0047211309654986,
          1.0048688607675724,
          1.0053552588309458,
          1.0053969487481333,
          1.005445898430017,
          1.0053895726714006,
          1.0044108057654502,
          1.0044528819587413,
          1.0046355727474954,
          1.0048041952314044,
          1.0061988643832,
          1.0061722488184774,
          1.0063115817215758,
          1.0063501008510047,
          1.006427769250507,
          1.0064637499200109,
          1.0064680178073804,
          1.0065011617477182,
          1.0066319689088306,
          1.006635877393653,
          1.006665620669267,
          1.0067098890147963,
          1.0067070809202572,
          1.0067489788825315,
          1.006853814136808,
          1.0068821678623412,
          1.0069124288707476,
          1.006985012490301,
          1.0070089507661237,
          1.007031629143683,
          1.0070483403473838,
          1.0072896786278722,
          1.007507039716708,
          1.0075571033224007,
          1.0075313107717727,
          1.0073535530822344,
          1.0073374368147177,
          1.007355192187021,
          1.0073691350024492,
          1.0072575206372507,
          1.0072484716412018,
          1.0072543599701316,
          1.0073440517906938,
          1.0073849773999421,
          1.007399557183476,
          1.0075293110467876,
          1.0075439773025896,
          1.0079387353628244,
          1.008002560607702,
          1.0080800075568601,
          1.0080693129348537,
          1.007839971436001,
          1.0078546441523673,
          1.0079368916753073,
          1.0079849626629183,
          1.007575358342425,
          1.0076143449771398,
          1.007631945347948,
          1.007758911976457,
          1.0080372329938043,
          1.0081370159632956,
          1.0081858209357584,
          1.0081386483299337,
          1.00816413505099,
          1.0081780181902238,
          1.0082340525397904,
          1.0082038539559997,
          1.0082428632732037,
          1.0082679746542949,
          1.0084056604662197,
          1.008412035333664,
          1.0082915700657704,
          1.0083035936396028,
          1.0082696529476176,
          1.008367403935822,
          1.008510025544153,
          1.0085372713491114,
          1.0085753115858425,
          1.008556957100213,
          1.00850203870998,
          1.0085148591955369,
          1.008572902425617,
          1.0086774233498914,
          1.00866374550353,
          1.0086925978050791,
          1.0087921739349164,
          1.008720389916367,
          1.0085978590308824,
          1.0086084308847378,
          1.0087562976610682,
          1.0087326467827855,
          1.0087304018180474,
          1.0087387693694034,
          1.008677690617564,
          1.0086598188966587,
          1.0087104976022279,
          1.008732083626468,
          1.0087224897995957,
          1.008738841347542,
          1.0089629196735383,
          1.0089856811444093,
          1.0090248965738957,
          1.009044970629983,
          1.0090904996846386,
          1.009109043191778,
          1.0092733642383487,
          1.009287195546977,
          1.0092407437459394,
          1.0092639870851823,
          1.0094905289572509,
          1.009468159142815
         ],
         "yaxis": "y"
        }
       ],
       "layout": {
        "legend": {
         "title": {
          "text": "variable"
         },
         "tracegroupgap": 0
        },
        "margin": {
         "t": 60
        },
        "template": {
         "data": {
          "bar": [
           {
            "error_x": {
             "color": "#2a3f5f"
            },
            "error_y": {
             "color": "#2a3f5f"
            },
            "marker": {
             "line": {
              "color": "#E5ECF6",
              "width": 0.5
             },
             "pattern": {
              "fillmode": "overlay",
              "size": 10,
              "solidity": 0.2
             }
            },
            "type": "bar"
           }
          ],
          "barpolar": [
           {
            "marker": {
             "line": {
              "color": "#E5ECF6",
              "width": 0.5
             },
             "pattern": {
              "fillmode": "overlay",
              "size": 10,
              "solidity": 0.2
             }
            },
            "type": "barpolar"
           }
          ],
          "carpet": [
           {
            "aaxis": {
             "endlinecolor": "#2a3f5f",
             "gridcolor": "white",
             "linecolor": "white",
             "minorgridcolor": "white",
             "startlinecolor": "#2a3f5f"
            },
            "baxis": {
             "endlinecolor": "#2a3f5f",
             "gridcolor": "white",
             "linecolor": "white",
             "minorgridcolor": "white",
             "startlinecolor": "#2a3f5f"
            },
            "type": "carpet"
           }
          ],
          "choropleth": [
           {
            "colorbar": {
             "outlinewidth": 0,
             "ticks": ""
            },
            "type": "choropleth"
           }
          ],
          "contour": [
           {
            "colorbar": {
             "outlinewidth": 0,
             "ticks": ""
            },
            "colorscale": [
             [
              0,
              "#0d0887"
             ],
             [
              0.1111111111111111,
              "#46039f"
             ],
             [
              0.2222222222222222,
              "#7201a8"
             ],
             [
              0.3333333333333333,
              "#9c179e"
             ],
             [
              0.4444444444444444,
              "#bd3786"
             ],
             [
              0.5555555555555556,
              "#d8576b"
             ],
             [
              0.6666666666666666,
              "#ed7953"
             ],
             [
              0.7777777777777778,
              "#fb9f3a"
             ],
             [
              0.8888888888888888,
              "#fdca26"
             ],
             [
              1,
              "#f0f921"
             ]
            ],
            "type": "contour"
           }
          ],
          "contourcarpet": [
           {
            "colorbar": {
             "outlinewidth": 0,
             "ticks": ""
            },
            "type": "contourcarpet"
           }
          ],
          "heatmap": [
           {
            "colorbar": {
             "outlinewidth": 0,
             "ticks": ""
            },
            "colorscale": [
             [
              0,
              "#0d0887"
             ],
             [
              0.1111111111111111,
              "#46039f"
             ],
             [
              0.2222222222222222,
              "#7201a8"
             ],
             [
              0.3333333333333333,
              "#9c179e"
             ],
             [
              0.4444444444444444,
              "#bd3786"
             ],
             [
              0.5555555555555556,
              "#d8576b"
             ],
             [
              0.6666666666666666,
              "#ed7953"
             ],
             [
              0.7777777777777778,
              "#fb9f3a"
             ],
             [
              0.8888888888888888,
              "#fdca26"
             ],
             [
              1,
              "#f0f921"
             ]
            ],
            "type": "heatmap"
           }
          ],
          "heatmapgl": [
           {
            "colorbar": {
             "outlinewidth": 0,
             "ticks": ""
            },
            "colorscale": [
             [
              0,
              "#0d0887"
             ],
             [
              0.1111111111111111,
              "#46039f"
             ],
             [
              0.2222222222222222,
              "#7201a8"
             ],
             [
              0.3333333333333333,
              "#9c179e"
             ],
             [
              0.4444444444444444,
              "#bd3786"
             ],
             [
              0.5555555555555556,
              "#d8576b"
             ],
             [
              0.6666666666666666,
              "#ed7953"
             ],
             [
              0.7777777777777778,
              "#fb9f3a"
             ],
             [
              0.8888888888888888,
              "#fdca26"
             ],
             [
              1,
              "#f0f921"
             ]
            ],
            "type": "heatmapgl"
           }
          ],
          "histogram": [
           {
            "marker": {
             "pattern": {
              "fillmode": "overlay",
              "size": 10,
              "solidity": 0.2
             }
            },
            "type": "histogram"
           }
          ],
          "histogram2d": [
           {
            "colorbar": {
             "outlinewidth": 0,
             "ticks": ""
            },
            "colorscale": [
             [
              0,
              "#0d0887"
             ],
             [
              0.1111111111111111,
              "#46039f"
             ],
             [
              0.2222222222222222,
              "#7201a8"
             ],
             [
              0.3333333333333333,
              "#9c179e"
             ],
             [
              0.4444444444444444,
              "#bd3786"
             ],
             [
              0.5555555555555556,
              "#d8576b"
             ],
             [
              0.6666666666666666,
              "#ed7953"
             ],
             [
              0.7777777777777778,
              "#fb9f3a"
             ],
             [
              0.8888888888888888,
              "#fdca26"
             ],
             [
              1,
              "#f0f921"
             ]
            ],
            "type": "histogram2d"
           }
          ],
          "histogram2dcontour": [
           {
            "colorbar": {
             "outlinewidth": 0,
             "ticks": ""
            },
            "colorscale": [
             [
              0,
              "#0d0887"
             ],
             [
              0.1111111111111111,
              "#46039f"
             ],
             [
              0.2222222222222222,
              "#7201a8"
             ],
             [
              0.3333333333333333,
              "#9c179e"
             ],
             [
              0.4444444444444444,
              "#bd3786"
             ],
             [
              0.5555555555555556,
              "#d8576b"
             ],
             [
              0.6666666666666666,
              "#ed7953"
             ],
             [
              0.7777777777777778,
              "#fb9f3a"
             ],
             [
              0.8888888888888888,
              "#fdca26"
             ],
             [
              1,
              "#f0f921"
             ]
            ],
            "type": "histogram2dcontour"
           }
          ],
          "mesh3d": [
           {
            "colorbar": {
             "outlinewidth": 0,
             "ticks": ""
            },
            "type": "mesh3d"
           }
          ],
          "parcoords": [
           {
            "line": {
             "colorbar": {
              "outlinewidth": 0,
              "ticks": ""
             }
            },
            "type": "parcoords"
           }
          ],
          "pie": [
           {
            "automargin": true,
            "type": "pie"
           }
          ],
          "scatter": [
           {
            "fillpattern": {
             "fillmode": "overlay",
             "size": 10,
             "solidity": 0.2
            },
            "type": "scatter"
           }
          ],
          "scatter3d": [
           {
            "line": {
             "colorbar": {
              "outlinewidth": 0,
              "ticks": ""
             }
            },
            "marker": {
             "colorbar": {
              "outlinewidth": 0,
              "ticks": ""
             }
            },
            "type": "scatter3d"
           }
          ],
          "scattercarpet": [
           {
            "marker": {
             "colorbar": {
              "outlinewidth": 0,
              "ticks": ""
             }
            },
            "type": "scattercarpet"
           }
          ],
          "scattergeo": [
           {
            "marker": {
             "colorbar": {
              "outlinewidth": 0,
              "ticks": ""
             }
            },
            "type": "scattergeo"
           }
          ],
          "scattergl": [
           {
            "marker": {
             "colorbar": {
              "outlinewidth": 0,
              "ticks": ""
             }
            },
            "type": "scattergl"
           }
          ],
          "scattermapbox": [
           {
            "marker": {
             "colorbar": {
              "outlinewidth": 0,
              "ticks": ""
             }
            },
            "type": "scattermapbox"
           }
          ],
          "scatterpolar": [
           {
            "marker": {
             "colorbar": {
              "outlinewidth": 0,
              "ticks": ""
             }
            },
            "type": "scatterpolar"
           }
          ],
          "scatterpolargl": [
           {
            "marker": {
             "colorbar": {
              "outlinewidth": 0,
              "ticks": ""
             }
            },
            "type": "scatterpolargl"
           }
          ],
          "scatterternary": [
           {
            "marker": {
             "colorbar": {
              "outlinewidth": 0,
              "ticks": ""
             }
            },
            "type": "scatterternary"
           }
          ],
          "surface": [
           {
            "colorbar": {
             "outlinewidth": 0,
             "ticks": ""
            },
            "colorscale": [
             [
              0,
              "#0d0887"
             ],
             [
              0.1111111111111111,
              "#46039f"
             ],
             [
              0.2222222222222222,
              "#7201a8"
             ],
             [
              0.3333333333333333,
              "#9c179e"
             ],
             [
              0.4444444444444444,
              "#bd3786"
             ],
             [
              0.5555555555555556,
              "#d8576b"
             ],
             [
              0.6666666666666666,
              "#ed7953"
             ],
             [
              0.7777777777777778,
              "#fb9f3a"
             ],
             [
              0.8888888888888888,
              "#fdca26"
             ],
             [
              1,
              "#f0f921"
             ]
            ],
            "type": "surface"
           }
          ],
          "table": [
           {
            "cells": {
             "fill": {
              "color": "#EBF0F8"
             },
             "line": {
              "color": "white"
             }
            },
            "header": {
             "fill": {
              "color": "#C8D4E3"
             },
             "line": {
              "color": "white"
             }
            },
            "type": "table"
           }
          ]
         },
         "layout": {
          "annotationdefaults": {
           "arrowcolor": "#2a3f5f",
           "arrowhead": 0,
           "arrowwidth": 1
          },
          "autotypenumbers": "strict",
          "coloraxis": {
           "colorbar": {
            "outlinewidth": 0,
            "ticks": ""
           }
          },
          "colorscale": {
           "diverging": [
            [
             0,
             "#8e0152"
            ],
            [
             0.1,
             "#c51b7d"
            ],
            [
             0.2,
             "#de77ae"
            ],
            [
             0.3,
             "#f1b6da"
            ],
            [
             0.4,
             "#fde0ef"
            ],
            [
             0.5,
             "#f7f7f7"
            ],
            [
             0.6,
             "#e6f5d0"
            ],
            [
             0.7,
             "#b8e186"
            ],
            [
             0.8,
             "#7fbc41"
            ],
            [
             0.9,
             "#4d9221"
            ],
            [
             1,
             "#276419"
            ]
           ],
           "sequential": [
            [
             0,
             "#0d0887"
            ],
            [
             0.1111111111111111,
             "#46039f"
            ],
            [
             0.2222222222222222,
             "#7201a8"
            ],
            [
             0.3333333333333333,
             "#9c179e"
            ],
            [
             0.4444444444444444,
             "#bd3786"
            ],
            [
             0.5555555555555556,
             "#d8576b"
            ],
            [
             0.6666666666666666,
             "#ed7953"
            ],
            [
             0.7777777777777778,
             "#fb9f3a"
            ],
            [
             0.8888888888888888,
             "#fdca26"
            ],
            [
             1,
             "#f0f921"
            ]
           ],
           "sequentialminus": [
            [
             0,
             "#0d0887"
            ],
            [
             0.1111111111111111,
             "#46039f"
            ],
            [
             0.2222222222222222,
             "#7201a8"
            ],
            [
             0.3333333333333333,
             "#9c179e"
            ],
            [
             0.4444444444444444,
             "#bd3786"
            ],
            [
             0.5555555555555556,
             "#d8576b"
            ],
            [
             0.6666666666666666,
             "#ed7953"
            ],
            [
             0.7777777777777778,
             "#fb9f3a"
            ],
            [
             0.8888888888888888,
             "#fdca26"
            ],
            [
             1,
             "#f0f921"
            ]
           ]
          },
          "colorway": [
           "#636efa",
           "#EF553B",
           "#00cc96",
           "#ab63fa",
           "#FFA15A",
           "#19d3f3",
           "#FF6692",
           "#B6E880",
           "#FF97FF",
           "#FECB52"
          ],
          "font": {
           "color": "#2a3f5f"
          },
          "geo": {
           "bgcolor": "white",
           "lakecolor": "white",
           "landcolor": "#E5ECF6",
           "showlakes": true,
           "showland": true,
           "subunitcolor": "white"
          },
          "hoverlabel": {
           "align": "left"
          },
          "hovermode": "closest",
          "mapbox": {
           "style": "light"
          },
          "paper_bgcolor": "white",
          "plot_bgcolor": "#E5ECF6",
          "polar": {
           "angularaxis": {
            "gridcolor": "white",
            "linecolor": "white",
            "ticks": ""
           },
           "bgcolor": "#E5ECF6",
           "radialaxis": {
            "gridcolor": "white",
            "linecolor": "white",
            "ticks": ""
           }
          },
          "scene": {
           "xaxis": {
            "backgroundcolor": "#E5ECF6",
            "gridcolor": "white",
            "gridwidth": 2,
            "linecolor": "white",
            "showbackground": true,
            "ticks": "",
            "zerolinecolor": "white"
           },
           "yaxis": {
            "backgroundcolor": "#E5ECF6",
            "gridcolor": "white",
            "gridwidth": 2,
            "linecolor": "white",
            "showbackground": true,
            "ticks": "",
            "zerolinecolor": "white"
           },
           "zaxis": {
            "backgroundcolor": "#E5ECF6",
            "gridcolor": "white",
            "gridwidth": 2,
            "linecolor": "white",
            "showbackground": true,
            "ticks": "",
            "zerolinecolor": "white"
           }
          },
          "shapedefaults": {
           "line": {
            "color": "#2a3f5f"
           }
          },
          "ternary": {
           "aaxis": {
            "gridcolor": "white",
            "linecolor": "white",
            "ticks": ""
           },
           "baxis": {
            "gridcolor": "white",
            "linecolor": "white",
            "ticks": ""
           },
           "bgcolor": "#E5ECF6",
           "caxis": {
            "gridcolor": "white",
            "linecolor": "white",
            "ticks": ""
           }
          },
          "title": {
           "x": 0.05
          },
          "xaxis": {
           "automargin": true,
           "gridcolor": "white",
           "linecolor": "white",
           "ticks": "",
           "title": {
            "standoff": 15
           },
           "zerolinecolor": "white",
           "zerolinewidth": 2
          },
          "yaxis": {
           "automargin": true,
           "gridcolor": "white",
           "linecolor": "white",
           "ticks": "",
           "title": {
            "standoff": 15
           },
           "zerolinecolor": "white",
           "zerolinewidth": 2
          }
         }
        },
        "xaxis": {
         "anchor": "y",
         "domain": [
          0,
          1
         ],
         "title": {
          "text": "timestamp"
         }
        },
        "yaxis": {
         "anchor": "x",
         "domain": [
          0,
          1
         ],
         "title": {
          "text": "value"
         }
        }
       }
      }
     },
     "metadata": {},
     "output_type": "display_data"
    },
    {
     "name": "stdout",
     "output_type": "stream",
     "text": [
      "extra_reward_per_token_cols=['AURA|| 0 extraRewardPerToken'] extra_reward_to_eth_cols=['AURA_to_ETH']\n"
     ]
    },
    {
     "data": {
      "application/vnd.plotly.v1+json": {
       "config": {
        "plotlyServerURL": "https://plot.ly"
       },
       "data": [
        {
         "hovertemplate": "variable=Gyroscope ECLP wstETH/cbETH Growth of a ETH<br>timestamp=%{x}<br>value=%{y}<extra></extra>",
         "legendgroup": "Gyroscope ECLP wstETH/cbETH Growth of a ETH",
         "line": {
          "color": "#636efa",
          "dash": "solid"
         },
         "marker": {
          "symbol": "circle"
         },
         "mode": "lines",
         "name": "Gyroscope ECLP wstETH/cbETH Growth of a ETH",
         "orientation": "v",
         "showlegend": true,
         "type": "scatter",
         "x": [
          "2024-07-17T00:53:47",
          "2024-07-17T06:50:11",
          "2024-07-17T12:46:35",
          "2024-07-17T18:43:35",
          "2024-07-18T00:40:11",
          "2024-07-18T06:37:35",
          "2024-07-18T12:34:59",
          "2024-07-18T18:31:35",
          "2024-07-19T00:27:59",
          "2024-07-19T06:24:23",
          "2024-07-19T12:20:35",
          "2024-07-19T18:17:11",
          "2024-07-20T00:13:23",
          "2024-07-20T06:10:35",
          "2024-07-20T12:07:35",
          "2024-07-20T18:04:23",
          "2024-07-21T00:00:47",
          "2024-07-21T05:57:23",
          "2024-07-21T11:53:23",
          "2024-07-21T17:50:35",
          "2024-07-21T23:47:35",
          "2024-07-22T05:44:23",
          "2024-07-22T11:41:35",
          "2024-07-22T17:38:59",
          "2024-07-22T23:35:47",
          "2024-07-23T05:32:47",
          "2024-07-23T11:29:35",
          "2024-07-23T17:25:47",
          "2024-07-23T23:22:35",
          "2024-07-24T05:18:47",
          "2024-07-24T11:15:11",
          "2024-07-24T17:12:23",
          "2024-07-24T23:09:59",
          "2024-07-25T05:06:35",
          "2024-07-25T11:02:47",
          "2024-07-25T16:59:47",
          "2024-07-25T22:57:23",
          "2024-07-26T04:54:47",
          "2024-07-26T10:50:47",
          "2024-07-26T16:47:47",
          "2024-07-26T22:44:47",
          "2024-07-27T04:42:11",
          "2024-07-27T10:39:11",
          "2024-07-27T16:35:11",
          "2024-07-27T22:32:35",
          "2024-07-28T04:29:59",
          "2024-07-28T10:26:35",
          "2024-07-28T16:22:35",
          "2024-07-28T22:18:11",
          "2024-07-29T04:15:11",
          "2024-07-29T10:11:59",
          "2024-07-29T16:07:47",
          "2024-07-29T22:03:47",
          "2024-07-30T04:01:23",
          "2024-07-30T10:01:11",
          "2024-07-30T15:58:35",
          "2024-07-30T21:55:35",
          "2024-07-31T03:52:11",
          "2024-07-31T09:48:35",
          "2024-07-31T15:45:11",
          "2024-07-31T21:42:47",
          "2024-08-01T03:39:11",
          "2024-08-01T09:35:35",
          "2024-08-01T15:32:35",
          "2024-08-01T21:29:23",
          "2024-08-02T03:26:11",
          "2024-08-02T09:22:59",
          "2024-08-02T15:19:59",
          "2024-08-02T21:18:11",
          "2024-08-03T03:15:11",
          "2024-08-03T09:12:35",
          "2024-08-03T15:08:47",
          "2024-08-03T21:05:11",
          "2024-08-04T03:01:47",
          "2024-08-04T08:57:23",
          "2024-08-04T14:53:23",
          "2024-08-04T20:49:59",
          "2024-08-05T02:45:47",
          "2024-08-05T08:41:47",
          "2024-08-05T14:38:47",
          "2024-08-05T20:36:11",
          "2024-08-06T02:32:23",
          "2024-08-06T08:28:47",
          "2024-08-06T14:25:47",
          "2024-08-06T20:22:47",
          "2024-08-07T02:19:23",
          "2024-08-07T08:15:59",
          "2024-08-07T14:12:35",
          "2024-08-07T20:08:35",
          "2024-08-08T02:05:23",
          "2024-08-08T08:01:47",
          "2024-08-08T13:58:23",
          "2024-08-08T19:54:11",
          "2024-08-09T01:50:11",
          "2024-08-09T07:46:35",
          "2024-08-09T13:42:35",
          "2024-08-09T19:39:35",
          "2024-08-10T01:36:23",
          "2024-08-10T07:32:35",
          "2024-08-10T13:29:59",
          "2024-08-10T19:25:11",
          "2024-08-11T01:22:23",
          "2024-08-11T07:19:47",
          "2024-08-11T13:17:35",
          "2024-08-11T19:14:23",
          "2024-08-12T01:10:23",
          "2024-08-12T07:07:35",
          "2024-08-12T13:04:59",
          "2024-08-12T19:01:47",
          "2024-08-13T00:56:47",
          "2024-08-13T06:53:35",
          "2024-08-13T12:50:47",
          "2024-08-13T18:47:11",
          "2024-08-14T00:43:35",
          "2024-08-14T06:40:47",
          "2024-08-14T12:37:11",
          "2024-08-14T18:34:11",
          "2024-08-15T00:31:11",
          "2024-08-15T06:27:59",
          "2024-08-15T12:25:23",
          "2024-08-15T18:22:47",
          "2024-08-16T00:20:35",
          "2024-08-16T06:16:35",
          "2024-08-16T12:12:47",
          "2024-08-16T18:09:23",
          "2024-08-17T00:07:23",
          "2024-08-17T06:04:59",
          "2024-08-17T12:01:59",
          "2024-08-17T17:59:59",
          "2024-08-17T23:56:11",
          "2024-08-18T05:51:59",
          "2024-08-18T11:48:47",
          "2024-08-18T17:45:11",
          "2024-08-18T23:41:23",
          "2024-08-19T05:39:23",
          "2024-08-19T11:35:47",
          "2024-08-19T17:33:47",
          "2024-08-19T23:29:47",
          "2024-08-20T05:26:11",
          "2024-08-20T11:24:23",
          "2024-08-20T17:20:59",
          "2024-08-20T23:18:35",
          "2024-08-21T05:15:11",
          "2024-08-21T11:11:11",
          "2024-08-21T17:08:35",
          "2024-08-21T23:06:35",
          "2024-08-22T05:04:23",
          "2024-08-22T11:01:59",
          "2024-08-22T16:58:23",
          "2024-08-22T22:54:35",
          "2024-08-23T04:51:59",
          "2024-08-23T10:50:35",
          "2024-08-23T16:47:23",
          "2024-08-23T22:44:11",
          "2024-08-24T04:40:59",
          "2024-08-24T10:38:47",
          "2024-08-24T16:36:11",
          "2024-08-24T22:33:35",
          "2024-08-25T04:31:35",
          "2024-08-25T10:29:35",
          "2024-08-25T16:26:35",
          "2024-08-25T22:23:11",
          "2024-08-26T04:20:11",
          "2024-08-26T10:17:35",
          "2024-08-26T16:13:59",
          "2024-08-26T22:10:59",
          "2024-08-27T04:08:59",
          "2024-08-27T10:06:23",
          "2024-08-27T16:02:35",
          "2024-08-27T21:59:11",
          "2024-08-28T03:55:35",
          "2024-08-28T09:53:23",
          "2024-08-28T15:49:47",
          "2024-08-28T21:46:35",
          "2024-08-29T03:43:59",
          "2024-08-29T09:41:47",
          "2024-08-29T15:39:23",
          "2024-08-29T21:36:35",
          "2024-08-30T03:34:35",
          "2024-08-30T09:31:47",
          "2024-08-30T15:28:35",
          "2024-08-30T21:24:59",
          "2024-08-31T03:22:59",
          "2024-08-31T09:19:47",
          "2024-08-31T15:16:59",
          "2024-08-31T21:13:47",
          "2024-09-01T03:09:59",
          "2024-09-01T09:05:47",
          "2024-09-01T15:02:59",
          "2024-09-01T21:00:35",
          "2024-09-02T02:56:47",
          "2024-09-02T08:52:47",
          "2024-09-02T14:50:11",
          "2024-09-02T20:46:23",
          "2024-09-03T02:42:59",
          "2024-09-03T08:40:23",
          "2024-09-03T14:36:47",
          "2024-09-03T20:32:35"
         ],
         "xaxis": "x",
         "y": [
          1,
          1.0000055927457558,
          1.0000803919390442,
          1.000112956339697,
          1.000180922528881,
          1.0001557028665797,
          1.0002279115269455,
          1.0002491767704709,
          1.0003377627647032,
          1.0007920776242862,
          1.0008260119181738,
          1.0010354600776097,
          1.001087729004097,
          1.000743776559111,
          1.0008395599975233,
          1.000833315385242,
          1.0009534128487612,
          1.000577894406787,
          1.0006197117959876,
          1.000679920396695,
          1.000715742576761,
          1.0009958980152864,
          1.0010062687485572,
          1.0010592642463911,
          1.0011605713578227,
          1.0011923497325088,
          1.0012390438756862,
          1.0013030324817465,
          1.0013966810164106,
          1.0013113837815744,
          1.0013454918940161,
          1.001404094302602,
          1.0014252428054706,
          1.0012271084513624,
          1.0013622427433198,
          1.0014433916953902,
          1.0015432643049,
          1.0013051047231605,
          1.0013576911980733,
          1.0014445124477924,
          1.0014988027349983,
          1.002013805337702,
          1.0020538255525748,
          1.002187460849842,
          1.0021946686159948,
          1.0019876262716287,
          1.0020244775306582,
          1.0020717725438082,
          1.0021835683961589,
          1.0024605279565024,
          1.0024615334793758,
          1.0026928103861912,
          1.0028062982880217,
          1.0027455019573508,
          1.0027816874030244,
          1.0028894710061638,
          1.003030041208558,
          1.002896674570727,
          1.0029672159638767,
          1.0031007469638362,
          1.0032321183095427,
          1.003259761219844,
          1.0032943581569291,
          1.0033750363534464,
          1.0035067687967312,
          1.0033811981556808,
          1.003099499900162,
          1.0031488259483086,
          1.0032677806741768,
          1.003253020902853,
          1.0031888604047676,
          1.0032410665673044,
          1.0032606511472795,
          1.0033376705855868,
          1.0033490865262564,
          1.003396825325099,
          1.0031516294282303,
          0.9988361377296835,
          null,
          null,
          1.0022891296485343,
          1.0026889320432157,
          1.0028896888221706,
          1.0033020950780376,
          1.0033580050933413,
          1.0033923152919293,
          1.0034519690114858,
          1.0034390567019116,
          1.003491828459561,
          1.0038694414034173,
          1.0039109202608703,
          1.0039725269660973,
          1.0039278284784754,
          1.0033558560960953,
          1.0033939689243103,
          1.003620394861758,
          1.0036444902347839,
          1.0040075435500246,
          1.003987140706619,
          1.0040424921744528,
          1.003786633881824,
          1.0037721179951378,
          1.003844689175897,
          1.0038733406114577,
          1.0037392953812379,
          1.00372141619842,
          1.0036744821734722,
          1.0036808359977063,
          1.0042049678331688,
          1.0042079267906807,
          1.0042595195986979,
          1.0042946329813085,
          1.0037107297703143,
          1.0037398968368112,
          1.0037508214515805,
          1.0037646031607577,
          1.004315334546498,
          1.0043449825534725,
          1.0045247375474315,
          1.0047043259290387,
          1.0048004482896151,
          1.0048297774188488,
          1.0048311210991652,
          1.00482266294905,
          1.0041834389461735,
          1.0042123260238216,
          1.0042653090403209,
          1.0042825747025976,
          1.0047713161289626,
          1.0048557375332465,
          1.0048827095448924,
          1.0049092822233228,
          1.0046534942272882,
          1.004682723662398,
          1.0048491303591836,
          1.00497527759498,
          1.0057426733784356,
          1.005903660618224,
          1.0057525612691807,
          1.0057755870880376,
          1.0056052854609339,
          1.005743053537274,
          1.005721063139849,
          1.0057428311218441,
          1.0057263085801131,
          1.0061132777345878,
          1.006148976613697,
          1.0062459890695457,
          1.0062756689267165,
          1.0059081323522736,
          1.0059334383398846,
          1.005954412925909,
          1.005957622676466,
          1.0060832808859688,
          1.0061155460126867,
          1.0061450625193424,
          1.0062181644700188,
          1.0066074567771315,
          1.0065379423098713,
          1.0065675749332932,
          1.0065003921701317,
          1.0062204717128482,
          1.006285651733481,
          1.0063092627928296,
          1.0062948594240413,
          1.0068235174387359,
          1.0068491214349484,
          1.0068785624877281,
          1.0068743216862455,
          1.007094103941137,
          1.0070564097812973,
          1.007087568424355,
          1.0071507844772165,
          1.0067972864673234,
          1.006821152920233,
          1.006850563327267,
          1.0068803399176134,
          1.0069132503968736,
          1.0069412525710584,
          1.0069687287914864,
          1.0069092207486585,
          1.006710712882583,
          1.0067339129152995,
          1.0067570893481304,
          1.0067526480180382,
          1.0070841050484591,
          1.0071176462772893,
          1.0071443778498534,
          1.0071714196504133,
          1.0064924622379845,
          1.0067410165925215,
          1.006618074773721,
          1.0067047987697786,
          1.0073959729586859,
          1.0074422581407068,
          1.0074670713361842,
          1.0076604661491309,
          1.007268741569036
         ],
         "yaxis": "y"
        }
       ],
       "layout": {
        "legend": {
         "title": {
          "text": "variable"
         },
         "tracegroupgap": 0
        },
        "margin": {
         "t": 60
        },
        "template": {
         "data": {
          "bar": [
           {
            "error_x": {
             "color": "#2a3f5f"
            },
            "error_y": {
             "color": "#2a3f5f"
            },
            "marker": {
             "line": {
              "color": "#E5ECF6",
              "width": 0.5
             },
             "pattern": {
              "fillmode": "overlay",
              "size": 10,
              "solidity": 0.2
             }
            },
            "type": "bar"
           }
          ],
          "barpolar": [
           {
            "marker": {
             "line": {
              "color": "#E5ECF6",
              "width": 0.5
             },
             "pattern": {
              "fillmode": "overlay",
              "size": 10,
              "solidity": 0.2
             }
            },
            "type": "barpolar"
           }
          ],
          "carpet": [
           {
            "aaxis": {
             "endlinecolor": "#2a3f5f",
             "gridcolor": "white",
             "linecolor": "white",
             "minorgridcolor": "white",
             "startlinecolor": "#2a3f5f"
            },
            "baxis": {
             "endlinecolor": "#2a3f5f",
             "gridcolor": "white",
             "linecolor": "white",
             "minorgridcolor": "white",
             "startlinecolor": "#2a3f5f"
            },
            "type": "carpet"
           }
          ],
          "choropleth": [
           {
            "colorbar": {
             "outlinewidth": 0,
             "ticks": ""
            },
            "type": "choropleth"
           }
          ],
          "contour": [
           {
            "colorbar": {
             "outlinewidth": 0,
             "ticks": ""
            },
            "colorscale": [
             [
              0,
              "#0d0887"
             ],
             [
              0.1111111111111111,
              "#46039f"
             ],
             [
              0.2222222222222222,
              "#7201a8"
             ],
             [
              0.3333333333333333,
              "#9c179e"
             ],
             [
              0.4444444444444444,
              "#bd3786"
             ],
             [
              0.5555555555555556,
              "#d8576b"
             ],
             [
              0.6666666666666666,
              "#ed7953"
             ],
             [
              0.7777777777777778,
              "#fb9f3a"
             ],
             [
              0.8888888888888888,
              "#fdca26"
             ],
             [
              1,
              "#f0f921"
             ]
            ],
            "type": "contour"
           }
          ],
          "contourcarpet": [
           {
            "colorbar": {
             "outlinewidth": 0,
             "ticks": ""
            },
            "type": "contourcarpet"
           }
          ],
          "heatmap": [
           {
            "colorbar": {
             "outlinewidth": 0,
             "ticks": ""
            },
            "colorscale": [
             [
              0,
              "#0d0887"
             ],
             [
              0.1111111111111111,
              "#46039f"
             ],
             [
              0.2222222222222222,
              "#7201a8"
             ],
             [
              0.3333333333333333,
              "#9c179e"
             ],
             [
              0.4444444444444444,
              "#bd3786"
             ],
             [
              0.5555555555555556,
              "#d8576b"
             ],
             [
              0.6666666666666666,
              "#ed7953"
             ],
             [
              0.7777777777777778,
              "#fb9f3a"
             ],
             [
              0.8888888888888888,
              "#fdca26"
             ],
             [
              1,
              "#f0f921"
             ]
            ],
            "type": "heatmap"
           }
          ],
          "heatmapgl": [
           {
            "colorbar": {
             "outlinewidth": 0,
             "ticks": ""
            },
            "colorscale": [
             [
              0,
              "#0d0887"
             ],
             [
              0.1111111111111111,
              "#46039f"
             ],
             [
              0.2222222222222222,
              "#7201a8"
             ],
             [
              0.3333333333333333,
              "#9c179e"
             ],
             [
              0.4444444444444444,
              "#bd3786"
             ],
             [
              0.5555555555555556,
              "#d8576b"
             ],
             [
              0.6666666666666666,
              "#ed7953"
             ],
             [
              0.7777777777777778,
              "#fb9f3a"
             ],
             [
              0.8888888888888888,
              "#fdca26"
             ],
             [
              1,
              "#f0f921"
             ]
            ],
            "type": "heatmapgl"
           }
          ],
          "histogram": [
           {
            "marker": {
             "pattern": {
              "fillmode": "overlay",
              "size": 10,
              "solidity": 0.2
             }
            },
            "type": "histogram"
           }
          ],
          "histogram2d": [
           {
            "colorbar": {
             "outlinewidth": 0,
             "ticks": ""
            },
            "colorscale": [
             [
              0,
              "#0d0887"
             ],
             [
              0.1111111111111111,
              "#46039f"
             ],
             [
              0.2222222222222222,
              "#7201a8"
             ],
             [
              0.3333333333333333,
              "#9c179e"
             ],
             [
              0.4444444444444444,
              "#bd3786"
             ],
             [
              0.5555555555555556,
              "#d8576b"
             ],
             [
              0.6666666666666666,
              "#ed7953"
             ],
             [
              0.7777777777777778,
              "#fb9f3a"
             ],
             [
              0.8888888888888888,
              "#fdca26"
             ],
             [
              1,
              "#f0f921"
             ]
            ],
            "type": "histogram2d"
           }
          ],
          "histogram2dcontour": [
           {
            "colorbar": {
             "outlinewidth": 0,
             "ticks": ""
            },
            "colorscale": [
             [
              0,
              "#0d0887"
             ],
             [
              0.1111111111111111,
              "#46039f"
             ],
             [
              0.2222222222222222,
              "#7201a8"
             ],
             [
              0.3333333333333333,
              "#9c179e"
             ],
             [
              0.4444444444444444,
              "#bd3786"
             ],
             [
              0.5555555555555556,
              "#d8576b"
             ],
             [
              0.6666666666666666,
              "#ed7953"
             ],
             [
              0.7777777777777778,
              "#fb9f3a"
             ],
             [
              0.8888888888888888,
              "#fdca26"
             ],
             [
              1,
              "#f0f921"
             ]
            ],
            "type": "histogram2dcontour"
           }
          ],
          "mesh3d": [
           {
            "colorbar": {
             "outlinewidth": 0,
             "ticks": ""
            },
            "type": "mesh3d"
           }
          ],
          "parcoords": [
           {
            "line": {
             "colorbar": {
              "outlinewidth": 0,
              "ticks": ""
             }
            },
            "type": "parcoords"
           }
          ],
          "pie": [
           {
            "automargin": true,
            "type": "pie"
           }
          ],
          "scatter": [
           {
            "fillpattern": {
             "fillmode": "overlay",
             "size": 10,
             "solidity": 0.2
            },
            "type": "scatter"
           }
          ],
          "scatter3d": [
           {
            "line": {
             "colorbar": {
              "outlinewidth": 0,
              "ticks": ""
             }
            },
            "marker": {
             "colorbar": {
              "outlinewidth": 0,
              "ticks": ""
             }
            },
            "type": "scatter3d"
           }
          ],
          "scattercarpet": [
           {
            "marker": {
             "colorbar": {
              "outlinewidth": 0,
              "ticks": ""
             }
            },
            "type": "scattercarpet"
           }
          ],
          "scattergeo": [
           {
            "marker": {
             "colorbar": {
              "outlinewidth": 0,
              "ticks": ""
             }
            },
            "type": "scattergeo"
           }
          ],
          "scattergl": [
           {
            "marker": {
             "colorbar": {
              "outlinewidth": 0,
              "ticks": ""
             }
            },
            "type": "scattergl"
           }
          ],
          "scattermapbox": [
           {
            "marker": {
             "colorbar": {
              "outlinewidth": 0,
              "ticks": ""
             }
            },
            "type": "scattermapbox"
           }
          ],
          "scatterpolar": [
           {
            "marker": {
             "colorbar": {
              "outlinewidth": 0,
              "ticks": ""
             }
            },
            "type": "scatterpolar"
           }
          ],
          "scatterpolargl": [
           {
            "marker": {
             "colorbar": {
              "outlinewidth": 0,
              "ticks": ""
             }
            },
            "type": "scatterpolargl"
           }
          ],
          "scatterternary": [
           {
            "marker": {
             "colorbar": {
              "outlinewidth": 0,
              "ticks": ""
             }
            },
            "type": "scatterternary"
           }
          ],
          "surface": [
           {
            "colorbar": {
             "outlinewidth": 0,
             "ticks": ""
            },
            "colorscale": [
             [
              0,
              "#0d0887"
             ],
             [
              0.1111111111111111,
              "#46039f"
             ],
             [
              0.2222222222222222,
              "#7201a8"
             ],
             [
              0.3333333333333333,
              "#9c179e"
             ],
             [
              0.4444444444444444,
              "#bd3786"
             ],
             [
              0.5555555555555556,
              "#d8576b"
             ],
             [
              0.6666666666666666,
              "#ed7953"
             ],
             [
              0.7777777777777778,
              "#fb9f3a"
             ],
             [
              0.8888888888888888,
              "#fdca26"
             ],
             [
              1,
              "#f0f921"
             ]
            ],
            "type": "surface"
           }
          ],
          "table": [
           {
            "cells": {
             "fill": {
              "color": "#EBF0F8"
             },
             "line": {
              "color": "white"
             }
            },
            "header": {
             "fill": {
              "color": "#C8D4E3"
             },
             "line": {
              "color": "white"
             }
            },
            "type": "table"
           }
          ]
         },
         "layout": {
          "annotationdefaults": {
           "arrowcolor": "#2a3f5f",
           "arrowhead": 0,
           "arrowwidth": 1
          },
          "autotypenumbers": "strict",
          "coloraxis": {
           "colorbar": {
            "outlinewidth": 0,
            "ticks": ""
           }
          },
          "colorscale": {
           "diverging": [
            [
             0,
             "#8e0152"
            ],
            [
             0.1,
             "#c51b7d"
            ],
            [
             0.2,
             "#de77ae"
            ],
            [
             0.3,
             "#f1b6da"
            ],
            [
             0.4,
             "#fde0ef"
            ],
            [
             0.5,
             "#f7f7f7"
            ],
            [
             0.6,
             "#e6f5d0"
            ],
            [
             0.7,
             "#b8e186"
            ],
            [
             0.8,
             "#7fbc41"
            ],
            [
             0.9,
             "#4d9221"
            ],
            [
             1,
             "#276419"
            ]
           ],
           "sequential": [
            [
             0,
             "#0d0887"
            ],
            [
             0.1111111111111111,
             "#46039f"
            ],
            [
             0.2222222222222222,
             "#7201a8"
            ],
            [
             0.3333333333333333,
             "#9c179e"
            ],
            [
             0.4444444444444444,
             "#bd3786"
            ],
            [
             0.5555555555555556,
             "#d8576b"
            ],
            [
             0.6666666666666666,
             "#ed7953"
            ],
            [
             0.7777777777777778,
             "#fb9f3a"
            ],
            [
             0.8888888888888888,
             "#fdca26"
            ],
            [
             1,
             "#f0f921"
            ]
           ],
           "sequentialminus": [
            [
             0,
             "#0d0887"
            ],
            [
             0.1111111111111111,
             "#46039f"
            ],
            [
             0.2222222222222222,
             "#7201a8"
            ],
            [
             0.3333333333333333,
             "#9c179e"
            ],
            [
             0.4444444444444444,
             "#bd3786"
            ],
            [
             0.5555555555555556,
             "#d8576b"
            ],
            [
             0.6666666666666666,
             "#ed7953"
            ],
            [
             0.7777777777777778,
             "#fb9f3a"
            ],
            [
             0.8888888888888888,
             "#fdca26"
            ],
            [
             1,
             "#f0f921"
            ]
           ]
          },
          "colorway": [
           "#636efa",
           "#EF553B",
           "#00cc96",
           "#ab63fa",
           "#FFA15A",
           "#19d3f3",
           "#FF6692",
           "#B6E880",
           "#FF97FF",
           "#FECB52"
          ],
          "font": {
           "color": "#2a3f5f"
          },
          "geo": {
           "bgcolor": "white",
           "lakecolor": "white",
           "landcolor": "#E5ECF6",
           "showlakes": true,
           "showland": true,
           "subunitcolor": "white"
          },
          "hoverlabel": {
           "align": "left"
          },
          "hovermode": "closest",
          "mapbox": {
           "style": "light"
          },
          "paper_bgcolor": "white",
          "plot_bgcolor": "#E5ECF6",
          "polar": {
           "angularaxis": {
            "gridcolor": "white",
            "linecolor": "white",
            "ticks": ""
           },
           "bgcolor": "#E5ECF6",
           "radialaxis": {
            "gridcolor": "white",
            "linecolor": "white",
            "ticks": ""
           }
          },
          "scene": {
           "xaxis": {
            "backgroundcolor": "#E5ECF6",
            "gridcolor": "white",
            "gridwidth": 2,
            "linecolor": "white",
            "showbackground": true,
            "ticks": "",
            "zerolinecolor": "white"
           },
           "yaxis": {
            "backgroundcolor": "#E5ECF6",
            "gridcolor": "white",
            "gridwidth": 2,
            "linecolor": "white",
            "showbackground": true,
            "ticks": "",
            "zerolinecolor": "white"
           },
           "zaxis": {
            "backgroundcolor": "#E5ECF6",
            "gridcolor": "white",
            "gridwidth": 2,
            "linecolor": "white",
            "showbackground": true,
            "ticks": "",
            "zerolinecolor": "white"
           }
          },
          "shapedefaults": {
           "line": {
            "color": "#2a3f5f"
           }
          },
          "ternary": {
           "aaxis": {
            "gridcolor": "white",
            "linecolor": "white",
            "ticks": ""
           },
           "baxis": {
            "gridcolor": "white",
            "linecolor": "white",
            "ticks": ""
           },
           "bgcolor": "#E5ECF6",
           "caxis": {
            "gridcolor": "white",
            "linecolor": "white",
            "ticks": ""
           }
          },
          "title": {
           "x": 0.05
          },
          "xaxis": {
           "automargin": true,
           "gridcolor": "white",
           "linecolor": "white",
           "ticks": "",
           "title": {
            "standoff": 15
           },
           "zerolinecolor": "white",
           "zerolinewidth": 2
          },
          "yaxis": {
           "automargin": true,
           "gridcolor": "white",
           "linecolor": "white",
           "ticks": "",
           "title": {
            "standoff": 15
           },
           "zerolinecolor": "white",
           "zerolinewidth": 2
          }
         }
        },
        "xaxis": {
         "anchor": "y",
         "domain": [
          0,
          1
         ],
         "title": {
          "text": "timestamp"
         }
        },
        "yaxis": {
         "anchor": "x",
         "domain": [
          0,
          1
         ],
         "title": {
          "text": "value"
         }
        }
       }
      }
     },
     "metadata": {},
     "output_type": "display_data"
    },
    {
     "name": "stdout",
     "output_type": "stream",
     "text": [
      "extra_reward_per_token_cols=['AURA|| 0 extraRewardPerToken', 'USDC|| 1 extraRewardPerToken', 'USDT|| 2 extraRewardPerToken'] extra_reward_to_eth_cols=['AURA_to_ETH', 'USDC_to_ETH', 'USDT_to_ETH']\n"
     ]
    },
    {
     "data": {
      "application/vnd.plotly.v1+json": {
       "config": {
        "plotlyServerURL": "https://plot.ly"
       },
       "data": [
        {
         "hovertemplate": "variable=Balancer rsETH-WETH Stable Pool Growth of a ETH<br>timestamp=%{x}<br>value=%{y}<extra></extra>",
         "legendgroup": "Balancer rsETH-WETH Stable Pool Growth of a ETH",
         "line": {
          "color": "#636efa",
          "dash": "solid"
         },
         "marker": {
          "symbol": "circle"
         },
         "mode": "lines",
         "name": "Balancer rsETH-WETH Stable Pool Growth of a ETH",
         "orientation": "v",
         "showlegend": true,
         "type": "scatter",
         "x": [
          "2024-07-17T00:53:47",
          "2024-07-17T06:50:11",
          "2024-07-17T12:46:35",
          "2024-07-17T18:43:35",
          "2024-07-18T00:40:11",
          "2024-07-18T06:37:35",
          "2024-07-18T12:34:59",
          "2024-07-18T18:31:35",
          "2024-07-19T00:27:59",
          "2024-07-19T06:24:23",
          "2024-07-19T12:20:35",
          "2024-07-19T18:17:11",
          "2024-07-20T00:13:23",
          "2024-07-20T06:10:35",
          "2024-07-20T12:07:35",
          "2024-07-20T18:04:23",
          "2024-07-21T00:00:47",
          "2024-07-21T05:57:23",
          "2024-07-21T11:53:23",
          "2024-07-21T17:50:35",
          "2024-07-21T23:47:35",
          "2024-07-22T05:44:23",
          "2024-07-22T11:41:35",
          "2024-07-22T17:38:59",
          "2024-07-22T23:35:47",
          "2024-07-23T05:32:47",
          "2024-07-23T11:29:35",
          "2024-07-23T17:25:47",
          "2024-07-23T23:22:35",
          "2024-07-24T05:18:47",
          "2024-07-24T11:15:11",
          "2024-07-24T17:12:23",
          "2024-07-24T23:09:59",
          "2024-07-25T05:06:35",
          "2024-07-25T11:02:47",
          "2024-07-25T16:59:47",
          "2024-07-25T22:57:23",
          "2024-07-26T04:54:47",
          "2024-07-26T10:50:47",
          "2024-07-26T16:47:47",
          "2024-07-26T22:44:47",
          "2024-07-27T04:42:11",
          "2024-07-27T10:39:11",
          "2024-07-27T16:35:11",
          "2024-07-27T22:32:35",
          "2024-07-28T04:29:59",
          "2024-07-28T10:26:35",
          "2024-07-28T16:22:35",
          "2024-07-28T22:18:11",
          "2024-07-29T04:15:11",
          "2024-07-29T10:11:59",
          "2024-07-29T16:07:47",
          "2024-07-29T22:03:47",
          "2024-07-30T04:01:23",
          "2024-07-30T10:01:11",
          "2024-07-30T15:58:35",
          "2024-07-30T21:55:35",
          "2024-07-31T03:52:11",
          "2024-07-31T09:48:35",
          "2024-07-31T15:45:11",
          "2024-07-31T21:42:47",
          "2024-08-01T03:39:11",
          "2024-08-01T09:35:35",
          "2024-08-01T15:32:35",
          "2024-08-01T21:29:23",
          "2024-08-02T03:26:11",
          "2024-08-02T09:22:59",
          "2024-08-02T15:19:59",
          "2024-08-02T21:18:11",
          "2024-08-03T03:15:11",
          "2024-08-03T09:12:35",
          "2024-08-03T15:08:47",
          "2024-08-03T21:05:11",
          "2024-08-04T03:01:47",
          "2024-08-04T08:57:23",
          "2024-08-04T14:53:23",
          "2024-08-04T20:49:59",
          "2024-08-05T02:45:47",
          "2024-08-05T08:41:47",
          "2024-08-05T14:38:47",
          "2024-08-05T20:36:11",
          "2024-08-06T02:32:23",
          "2024-08-06T08:28:47",
          "2024-08-06T14:25:47",
          "2024-08-06T20:22:47",
          "2024-08-07T02:19:23",
          "2024-08-07T08:15:59",
          "2024-08-07T14:12:35",
          "2024-08-07T20:08:35",
          "2024-08-08T02:05:23",
          "2024-08-08T08:01:47",
          "2024-08-08T13:58:23",
          "2024-08-08T19:54:11",
          "2024-08-09T01:50:11",
          "2024-08-09T07:46:35",
          "2024-08-09T13:42:35",
          "2024-08-09T19:39:35",
          "2024-08-10T01:36:23",
          "2024-08-10T07:32:35",
          "2024-08-10T13:29:59",
          "2024-08-10T19:25:11",
          "2024-08-11T01:22:23",
          "2024-08-11T07:19:47",
          "2024-08-11T13:17:35",
          "2024-08-11T19:14:23",
          "2024-08-12T01:10:23",
          "2024-08-12T07:07:35",
          "2024-08-12T13:04:59",
          "2024-08-12T19:01:47",
          "2024-08-13T00:56:47",
          "2024-08-13T06:53:35",
          "2024-08-13T12:50:47",
          "2024-08-13T18:47:11",
          "2024-08-14T00:43:35",
          "2024-08-14T06:40:47",
          "2024-08-14T12:37:11",
          "2024-08-14T18:34:11",
          "2024-08-15T00:31:11",
          "2024-08-15T06:27:59",
          "2024-08-15T12:25:23",
          "2024-08-15T18:22:47",
          "2024-08-16T00:20:35",
          "2024-08-16T06:16:35",
          "2024-08-16T12:12:47",
          "2024-08-16T18:09:23",
          "2024-08-17T00:07:23",
          "2024-08-17T06:04:59",
          "2024-08-17T12:01:59",
          "2024-08-17T17:59:59",
          "2024-08-17T23:56:11",
          "2024-08-18T05:51:59",
          "2024-08-18T11:48:47",
          "2024-08-18T17:45:11",
          "2024-08-18T23:41:23",
          "2024-08-19T05:39:23",
          "2024-08-19T11:35:47",
          "2024-08-19T17:33:47",
          "2024-08-19T23:29:47",
          "2024-08-20T05:26:11",
          "2024-08-20T11:24:23",
          "2024-08-20T17:20:59",
          "2024-08-20T23:18:35",
          "2024-08-21T05:15:11",
          "2024-08-21T11:11:11",
          "2024-08-21T17:08:35",
          "2024-08-21T23:06:35",
          "2024-08-22T05:04:23",
          "2024-08-22T11:01:59",
          "2024-08-22T16:58:23",
          "2024-08-22T22:54:35",
          "2024-08-23T04:51:59",
          "2024-08-23T10:50:35",
          "2024-08-23T16:47:23",
          "2024-08-23T22:44:11",
          "2024-08-24T04:40:59",
          "2024-08-24T10:38:47",
          "2024-08-24T16:36:11",
          "2024-08-24T22:33:35",
          "2024-08-25T04:31:35",
          "2024-08-25T10:29:35",
          "2024-08-25T16:26:35",
          "2024-08-25T22:23:11",
          "2024-08-26T04:20:11",
          "2024-08-26T10:17:35",
          "2024-08-26T16:13:59",
          "2024-08-26T22:10:59",
          "2024-08-27T04:08:59",
          "2024-08-27T10:06:23",
          "2024-08-27T16:02:35",
          "2024-08-27T21:59:11",
          "2024-08-28T03:55:35",
          "2024-08-28T09:53:23",
          "2024-08-28T15:49:47",
          "2024-08-28T21:46:35",
          "2024-08-29T03:43:59",
          "2024-08-29T09:41:47",
          "2024-08-29T15:39:23",
          "2024-08-29T21:36:35",
          "2024-08-30T03:34:35",
          "2024-08-30T09:31:47",
          "2024-08-30T15:28:35",
          "2024-08-30T21:24:59",
          "2024-08-31T03:22:59",
          "2024-08-31T09:19:47",
          "2024-08-31T15:16:59",
          "2024-08-31T21:13:47",
          "2024-09-01T03:09:59",
          "2024-09-01T09:05:47",
          "2024-09-01T15:02:59",
          "2024-09-01T21:00:35",
          "2024-09-02T02:56:47",
          "2024-09-02T08:52:47",
          "2024-09-02T14:50:11",
          "2024-09-02T20:46:23",
          "2024-09-03T02:42:59",
          "2024-09-03T08:40:23",
          "2024-09-03T14:36:47",
          "2024-09-03T20:32:35"
         ],
         "xaxis": "x",
         "y": [
          null,
          null,
          null,
          null,
          null,
          null,
          null,
          null,
          null,
          null,
          null,
          null,
          null,
          null,
          null,
          null,
          null,
          null,
          null,
          null,
          null,
          null,
          null,
          null,
          null,
          null,
          null,
          null,
          null,
          null,
          null,
          null,
          null,
          null,
          null,
          null,
          null,
          null,
          null,
          null,
          null,
          null,
          null,
          null,
          null,
          null,
          null,
          null,
          null,
          null,
          null,
          null,
          null,
          null,
          null,
          null,
          null,
          null,
          null,
          null,
          null,
          null,
          null,
          null,
          null,
          null,
          null,
          null,
          null,
          null,
          null,
          null,
          null,
          null,
          null,
          null,
          null,
          null,
          null,
          null,
          null,
          null,
          null,
          null,
          null,
          null,
          null,
          null,
          null,
          null,
          null,
          null,
          null,
          null,
          null,
          null,
          null,
          null,
          null,
          null,
          null,
          null,
          null,
          null,
          null,
          null,
          null,
          null,
          null,
          null,
          null,
          null,
          null,
          null,
          null,
          null,
          null,
          null,
          null,
          null,
          null,
          null,
          null,
          null,
          null,
          null,
          null,
          null,
          null,
          null,
          null,
          null,
          null,
          null,
          null,
          null,
          null,
          null,
          null,
          null,
          null,
          null,
          null,
          null,
          null,
          null,
          null,
          null,
          null,
          null,
          null,
          null,
          null,
          null,
          null,
          null,
          null,
          null,
          null,
          null,
          null,
          null,
          null,
          null,
          null,
          null,
          null,
          null,
          null,
          null,
          null,
          null,
          null,
          null,
          null,
          null,
          null,
          null,
          null,
          null,
          null,
          null,
          null,
          null,
          null,
          null,
          null,
          null,
          null,
          null,
          null,
          null,
          null,
          null,
          null,
          null,
          null,
          null
         ],
         "yaxis": "y"
        }
       ],
       "layout": {
        "legend": {
         "title": {
          "text": "variable"
         },
         "tracegroupgap": 0
        },
        "margin": {
         "t": 60
        },
        "template": {
         "data": {
          "bar": [
           {
            "error_x": {
             "color": "#2a3f5f"
            },
            "error_y": {
             "color": "#2a3f5f"
            },
            "marker": {
             "line": {
              "color": "#E5ECF6",
              "width": 0.5
             },
             "pattern": {
              "fillmode": "overlay",
              "size": 10,
              "solidity": 0.2
             }
            },
            "type": "bar"
           }
          ],
          "barpolar": [
           {
            "marker": {
             "line": {
              "color": "#E5ECF6",
              "width": 0.5
             },
             "pattern": {
              "fillmode": "overlay",
              "size": 10,
              "solidity": 0.2
             }
            },
            "type": "barpolar"
           }
          ],
          "carpet": [
           {
            "aaxis": {
             "endlinecolor": "#2a3f5f",
             "gridcolor": "white",
             "linecolor": "white",
             "minorgridcolor": "white",
             "startlinecolor": "#2a3f5f"
            },
            "baxis": {
             "endlinecolor": "#2a3f5f",
             "gridcolor": "white",
             "linecolor": "white",
             "minorgridcolor": "white",
             "startlinecolor": "#2a3f5f"
            },
            "type": "carpet"
           }
          ],
          "choropleth": [
           {
            "colorbar": {
             "outlinewidth": 0,
             "ticks": ""
            },
            "type": "choropleth"
           }
          ],
          "contour": [
           {
            "colorbar": {
             "outlinewidth": 0,
             "ticks": ""
            },
            "colorscale": [
             [
              0,
              "#0d0887"
             ],
             [
              0.1111111111111111,
              "#46039f"
             ],
             [
              0.2222222222222222,
              "#7201a8"
             ],
             [
              0.3333333333333333,
              "#9c179e"
             ],
             [
              0.4444444444444444,
              "#bd3786"
             ],
             [
              0.5555555555555556,
              "#d8576b"
             ],
             [
              0.6666666666666666,
              "#ed7953"
             ],
             [
              0.7777777777777778,
              "#fb9f3a"
             ],
             [
              0.8888888888888888,
              "#fdca26"
             ],
             [
              1,
              "#f0f921"
             ]
            ],
            "type": "contour"
           }
          ],
          "contourcarpet": [
           {
            "colorbar": {
             "outlinewidth": 0,
             "ticks": ""
            },
            "type": "contourcarpet"
           }
          ],
          "heatmap": [
           {
            "colorbar": {
             "outlinewidth": 0,
             "ticks": ""
            },
            "colorscale": [
             [
              0,
              "#0d0887"
             ],
             [
              0.1111111111111111,
              "#46039f"
             ],
             [
              0.2222222222222222,
              "#7201a8"
             ],
             [
              0.3333333333333333,
              "#9c179e"
             ],
             [
              0.4444444444444444,
              "#bd3786"
             ],
             [
              0.5555555555555556,
              "#d8576b"
             ],
             [
              0.6666666666666666,
              "#ed7953"
             ],
             [
              0.7777777777777778,
              "#fb9f3a"
             ],
             [
              0.8888888888888888,
              "#fdca26"
             ],
             [
              1,
              "#f0f921"
             ]
            ],
            "type": "heatmap"
           }
          ],
          "heatmapgl": [
           {
            "colorbar": {
             "outlinewidth": 0,
             "ticks": ""
            },
            "colorscale": [
             [
              0,
              "#0d0887"
             ],
             [
              0.1111111111111111,
              "#46039f"
             ],
             [
              0.2222222222222222,
              "#7201a8"
             ],
             [
              0.3333333333333333,
              "#9c179e"
             ],
             [
              0.4444444444444444,
              "#bd3786"
             ],
             [
              0.5555555555555556,
              "#d8576b"
             ],
             [
              0.6666666666666666,
              "#ed7953"
             ],
             [
              0.7777777777777778,
              "#fb9f3a"
             ],
             [
              0.8888888888888888,
              "#fdca26"
             ],
             [
              1,
              "#f0f921"
             ]
            ],
            "type": "heatmapgl"
           }
          ],
          "histogram": [
           {
            "marker": {
             "pattern": {
              "fillmode": "overlay",
              "size": 10,
              "solidity": 0.2
             }
            },
            "type": "histogram"
           }
          ],
          "histogram2d": [
           {
            "colorbar": {
             "outlinewidth": 0,
             "ticks": ""
            },
            "colorscale": [
             [
              0,
              "#0d0887"
             ],
             [
              0.1111111111111111,
              "#46039f"
             ],
             [
              0.2222222222222222,
              "#7201a8"
             ],
             [
              0.3333333333333333,
              "#9c179e"
             ],
             [
              0.4444444444444444,
              "#bd3786"
             ],
             [
              0.5555555555555556,
              "#d8576b"
             ],
             [
              0.6666666666666666,
              "#ed7953"
             ],
             [
              0.7777777777777778,
              "#fb9f3a"
             ],
             [
              0.8888888888888888,
              "#fdca26"
             ],
             [
              1,
              "#f0f921"
             ]
            ],
            "type": "histogram2d"
           }
          ],
          "histogram2dcontour": [
           {
            "colorbar": {
             "outlinewidth": 0,
             "ticks": ""
            },
            "colorscale": [
             [
              0,
              "#0d0887"
             ],
             [
              0.1111111111111111,
              "#46039f"
             ],
             [
              0.2222222222222222,
              "#7201a8"
             ],
             [
              0.3333333333333333,
              "#9c179e"
             ],
             [
              0.4444444444444444,
              "#bd3786"
             ],
             [
              0.5555555555555556,
              "#d8576b"
             ],
             [
              0.6666666666666666,
              "#ed7953"
             ],
             [
              0.7777777777777778,
              "#fb9f3a"
             ],
             [
              0.8888888888888888,
              "#fdca26"
             ],
             [
              1,
              "#f0f921"
             ]
            ],
            "type": "histogram2dcontour"
           }
          ],
          "mesh3d": [
           {
            "colorbar": {
             "outlinewidth": 0,
             "ticks": ""
            },
            "type": "mesh3d"
           }
          ],
          "parcoords": [
           {
            "line": {
             "colorbar": {
              "outlinewidth": 0,
              "ticks": ""
             }
            },
            "type": "parcoords"
           }
          ],
          "pie": [
           {
            "automargin": true,
            "type": "pie"
           }
          ],
          "scatter": [
           {
            "fillpattern": {
             "fillmode": "overlay",
             "size": 10,
             "solidity": 0.2
            },
            "type": "scatter"
           }
          ],
          "scatter3d": [
           {
            "line": {
             "colorbar": {
              "outlinewidth": 0,
              "ticks": ""
             }
            },
            "marker": {
             "colorbar": {
              "outlinewidth": 0,
              "ticks": ""
             }
            },
            "type": "scatter3d"
           }
          ],
          "scattercarpet": [
           {
            "marker": {
             "colorbar": {
              "outlinewidth": 0,
              "ticks": ""
             }
            },
            "type": "scattercarpet"
           }
          ],
          "scattergeo": [
           {
            "marker": {
             "colorbar": {
              "outlinewidth": 0,
              "ticks": ""
             }
            },
            "type": "scattergeo"
           }
          ],
          "scattergl": [
           {
            "marker": {
             "colorbar": {
              "outlinewidth": 0,
              "ticks": ""
             }
            },
            "type": "scattergl"
           }
          ],
          "scattermapbox": [
           {
            "marker": {
             "colorbar": {
              "outlinewidth": 0,
              "ticks": ""
             }
            },
            "type": "scattermapbox"
           }
          ],
          "scatterpolar": [
           {
            "marker": {
             "colorbar": {
              "outlinewidth": 0,
              "ticks": ""
             }
            },
            "type": "scatterpolar"
           }
          ],
          "scatterpolargl": [
           {
            "marker": {
             "colorbar": {
              "outlinewidth": 0,
              "ticks": ""
             }
            },
            "type": "scatterpolargl"
           }
          ],
          "scatterternary": [
           {
            "marker": {
             "colorbar": {
              "outlinewidth": 0,
              "ticks": ""
             }
            },
            "type": "scatterternary"
           }
          ],
          "surface": [
           {
            "colorbar": {
             "outlinewidth": 0,
             "ticks": ""
            },
            "colorscale": [
             [
              0,
              "#0d0887"
             ],
             [
              0.1111111111111111,
              "#46039f"
             ],
             [
              0.2222222222222222,
              "#7201a8"
             ],
             [
              0.3333333333333333,
              "#9c179e"
             ],
             [
              0.4444444444444444,
              "#bd3786"
             ],
             [
              0.5555555555555556,
              "#d8576b"
             ],
             [
              0.6666666666666666,
              "#ed7953"
             ],
             [
              0.7777777777777778,
              "#fb9f3a"
             ],
             [
              0.8888888888888888,
              "#fdca26"
             ],
             [
              1,
              "#f0f921"
             ]
            ],
            "type": "surface"
           }
          ],
          "table": [
           {
            "cells": {
             "fill": {
              "color": "#EBF0F8"
             },
             "line": {
              "color": "white"
             }
            },
            "header": {
             "fill": {
              "color": "#C8D4E3"
             },
             "line": {
              "color": "white"
             }
            },
            "type": "table"
           }
          ]
         },
         "layout": {
          "annotationdefaults": {
           "arrowcolor": "#2a3f5f",
           "arrowhead": 0,
           "arrowwidth": 1
          },
          "autotypenumbers": "strict",
          "coloraxis": {
           "colorbar": {
            "outlinewidth": 0,
            "ticks": ""
           }
          },
          "colorscale": {
           "diverging": [
            [
             0,
             "#8e0152"
            ],
            [
             0.1,
             "#c51b7d"
            ],
            [
             0.2,
             "#de77ae"
            ],
            [
             0.3,
             "#f1b6da"
            ],
            [
             0.4,
             "#fde0ef"
            ],
            [
             0.5,
             "#f7f7f7"
            ],
            [
             0.6,
             "#e6f5d0"
            ],
            [
             0.7,
             "#b8e186"
            ],
            [
             0.8,
             "#7fbc41"
            ],
            [
             0.9,
             "#4d9221"
            ],
            [
             1,
             "#276419"
            ]
           ],
           "sequential": [
            [
             0,
             "#0d0887"
            ],
            [
             0.1111111111111111,
             "#46039f"
            ],
            [
             0.2222222222222222,
             "#7201a8"
            ],
            [
             0.3333333333333333,
             "#9c179e"
            ],
            [
             0.4444444444444444,
             "#bd3786"
            ],
            [
             0.5555555555555556,
             "#d8576b"
            ],
            [
             0.6666666666666666,
             "#ed7953"
            ],
            [
             0.7777777777777778,
             "#fb9f3a"
            ],
            [
             0.8888888888888888,
             "#fdca26"
            ],
            [
             1,
             "#f0f921"
            ]
           ],
           "sequentialminus": [
            [
             0,
             "#0d0887"
            ],
            [
             0.1111111111111111,
             "#46039f"
            ],
            [
             0.2222222222222222,
             "#7201a8"
            ],
            [
             0.3333333333333333,
             "#9c179e"
            ],
            [
             0.4444444444444444,
             "#bd3786"
            ],
            [
             0.5555555555555556,
             "#d8576b"
            ],
            [
             0.6666666666666666,
             "#ed7953"
            ],
            [
             0.7777777777777778,
             "#fb9f3a"
            ],
            [
             0.8888888888888888,
             "#fdca26"
            ],
            [
             1,
             "#f0f921"
            ]
           ]
          },
          "colorway": [
           "#636efa",
           "#EF553B",
           "#00cc96",
           "#ab63fa",
           "#FFA15A",
           "#19d3f3",
           "#FF6692",
           "#B6E880",
           "#FF97FF",
           "#FECB52"
          ],
          "font": {
           "color": "#2a3f5f"
          },
          "geo": {
           "bgcolor": "white",
           "lakecolor": "white",
           "landcolor": "#E5ECF6",
           "showlakes": true,
           "showland": true,
           "subunitcolor": "white"
          },
          "hoverlabel": {
           "align": "left"
          },
          "hovermode": "closest",
          "mapbox": {
           "style": "light"
          },
          "paper_bgcolor": "white",
          "plot_bgcolor": "#E5ECF6",
          "polar": {
           "angularaxis": {
            "gridcolor": "white",
            "linecolor": "white",
            "ticks": ""
           },
           "bgcolor": "#E5ECF6",
           "radialaxis": {
            "gridcolor": "white",
            "linecolor": "white",
            "ticks": ""
           }
          },
          "scene": {
           "xaxis": {
            "backgroundcolor": "#E5ECF6",
            "gridcolor": "white",
            "gridwidth": 2,
            "linecolor": "white",
            "showbackground": true,
            "ticks": "",
            "zerolinecolor": "white"
           },
           "yaxis": {
            "backgroundcolor": "#E5ECF6",
            "gridcolor": "white",
            "gridwidth": 2,
            "linecolor": "white",
            "showbackground": true,
            "ticks": "",
            "zerolinecolor": "white"
           },
           "zaxis": {
            "backgroundcolor": "#E5ECF6",
            "gridcolor": "white",
            "gridwidth": 2,
            "linecolor": "white",
            "showbackground": true,
            "ticks": "",
            "zerolinecolor": "white"
           }
          },
          "shapedefaults": {
           "line": {
            "color": "#2a3f5f"
           }
          },
          "ternary": {
           "aaxis": {
            "gridcolor": "white",
            "linecolor": "white",
            "ticks": ""
           },
           "baxis": {
            "gridcolor": "white",
            "linecolor": "white",
            "ticks": ""
           },
           "bgcolor": "#E5ECF6",
           "caxis": {
            "gridcolor": "white",
            "linecolor": "white",
            "ticks": ""
           }
          },
          "title": {
           "x": 0.05
          },
          "xaxis": {
           "automargin": true,
           "gridcolor": "white",
           "linecolor": "white",
           "ticks": "",
           "title": {
            "standoff": 15
           },
           "zerolinecolor": "white",
           "zerolinewidth": 2
          },
          "yaxis": {
           "automargin": true,
           "gridcolor": "white",
           "linecolor": "white",
           "ticks": "",
           "title": {
            "standoff": 15
           },
           "zerolinecolor": "white",
           "zerolinewidth": 2
          }
         }
        },
        "xaxis": {
         "anchor": "y",
         "domain": [
          0,
          1
         ],
         "title": {
          "text": "timestamp"
         }
        },
        "yaxis": {
         "anchor": "x",
         "domain": [
          0,
          1
         ],
         "title": {
          "text": "value"
         }
        }
       }
      }
     },
     "metadata": {},
     "output_type": "display_data"
    }
   ],
   "source": [
    "def _get_safe_price_from_getRangePricesLP(success, value):\n",
    "    if success:\n",
    "        spotPriceInQuote, safePriceInQuote, isSpotSafe = value\n",
    "        return int(safePriceInQuote) / 1e18\n",
    "\n",
    "\n",
    "def _build_price_calls(rewardTokens: list[str], rewardTokenSymbols: list[str]) -> list[Call]:\n",
    "    \"\"\"Returns a list of calls that get the safe ETH value in ETH for each reward token\"\"\"\n",
    "    price_calls = []\n",
    "\n",
    "    for rewardToken, symbol in zip(rewardTokens, rewardTokenSymbols):\n",
    "        price_calls.append(\n",
    "            Call(\n",
    "                ROOT_PRICE_ORACLE,\n",
    "                [\"getPriceInEth(address)(uint256)\", rewardToken],\n",
    "                [(f\"{symbol}_to_ETH\", safe_normalize_with_bool_success)],\n",
    "            )\n",
    "        )\n",
    "    return price_calls\n",
    "\n",
    "\n",
    "def _build_rewardPerToken_calls(\n",
    "    mainRewarder: str,\n",
    "    extraRewarders: list[str],\n",
    "    extraRewardersRewardTokenSymbol: list[str],\n",
    "    extraRewardersRewardTokenDecimals: list[int],\n",
    ") -> list[Call]:\n",
    "    \"\"\"Get the rewardPerToken for each of the rewarder\"\"\"\n",
    "    bal_rewards_call = Call(\n",
    "        mainRewarder,\n",
    "        [\"rewardPerToken()(uint256)\"],\n",
    "        [(\"mintedBAL_rewardPerToken\", safe_normalize_with_bool_success)],\n",
    "    )\n",
    "\n",
    "    aura_minted_from_one_BAL_call = Call(\n",
    "        \"0x551050d2dB5043b70598B148e83c9ca16fa21B10\",  # just has to be an incentive stats contract for AURA-BAL this is an old one\n",
    "        [\n",
    "            \"getPlatformTokenMintAmount(address,uint256)(uint256)\",\n",
    "            AURA,\n",
    "            int(1e18),\n",
    "        ],  # imo rounding error, 1.0936 to 1.0696 in a 50 days 1:1 would be 95% as close\n",
    "        [(\"AURA_minted_for_one_BAL\", safe_normalize_with_bool_success)],\n",
    "    )\n",
    "\n",
    "    rewardPerTokenCalls = []\n",
    "    for i, (extraRewarder, extraRewardTokenSymbol, decimals) in enumerate(\n",
    "        zip(extraRewarders, extraRewardersRewardTokenSymbol, extraRewardersRewardTokenDecimals)\n",
    "    ):\n",
    "        if decimals == 18:\n",
    "            func = safe_normalize_with_bool_success\n",
    "        elif decimals == 6:\n",
    "            func = safe_normalize_with_bool_success\n",
    "        rewardPerTokenCall = Call(\n",
    "            extraRewarder,\n",
    "            [\"rewardPerToken()(uint256)\"],\n",
    "            [\n",
    "                (f\"{extraRewardTokenSymbol}|| {i} extraRewardPerToken\", safe_normalize_with_bool_success)\n",
    "            ],  # using `i` here to avoid duplicates\n",
    "        )\n",
    "        rewardPerTokenCalls.append(rewardPerTokenCall)\n",
    "\n",
    "    return [bal_rewards_call, aura_minted_from_one_BAL_call, *rewardPerTokenCalls]\n",
    "\n",
    "\n",
    "def build_growth_of_a_dollar_calls(\n",
    "    rewardTokens: list[str],\n",
    "    rewardTokenSymbols: list[str],\n",
    "    mainRewarder: str,\n",
    "    extraRewarders: list[str],\n",
    "    extraRewardersRewardTokenSymbols: list[str],\n",
    "    extraRewardersRewardTokenDecimals: list[int],\n",
    "    balancerAuraDestinationVault_address: str,\n",
    ") -> list[Call]:\n",
    "    price_calls = _build_price_calls(rewardTokens, rewardTokenSymbols)\n",
    "    reward_per_token_calls = _build_rewardPerToken_calls(\n",
    "        mainRewarder,\n",
    "        extraRewarders,\n",
    "        extraRewardersRewardTokenSymbols,\n",
    "        extraRewardersRewardTokenDecimals,\n",
    "    )\n",
    "\n",
    "    get_safe_lp_token_value_call = Call(\n",
    "        balancerAuraDestinationVault_address,\n",
    "        [\"getRangePricesLP()((uint256,uint256,bool))\"],\n",
    "        [(\"safeLPTokenPriceInETH\", _get_safe_price_from_getRangePricesLP)],\n",
    "    )\n",
    "\n",
    "    return [*price_calls, *reward_per_token_calls, get_safe_lp_token_value_call]\n",
    "\n",
    "\n",
    "def transform_growth_of_a_dollar_df_to_growth_of_1_ETH_with_no_entrance_costs(\n",
    "    raw_growth_of_a_dollar_df: pd.DataFrame, mock_date_deployed: str = \"2024, 7, 17\"\n",
    "):\n",
    "    growth_of_a_dollar_df = raw_growth_of_a_dollar_df[raw_growth_of_a_dollar_df.index > mock_date_deployed].copy()\n",
    "    growth_of_a_dollar_df[\"starting_quantity_of_lp_tokens\"] = (\n",
    "        1 / growth_of_a_dollar_df[\"safeLPTokenPriceInETH\"].values[0]\n",
    "    )  # constant\n",
    "    growth_of_a_dollar_df[\"safe_value_of_lp_tokens\"] = (\n",
    "        growth_of_a_dollar_df[\"starting_quantity_of_lp_tokens\"] * growth_of_a_dollar_df[\"safeLPTokenPriceInETH\"]\n",
    "    )\n",
    "\n",
    "    _add_BAL_and_AURA_minted_eth_value(growth_of_a_dollar_df)\n",
    "    _add_extra_rewarders_incentive_eth_value(growth_of_a_dollar_df)\n",
    "    growth_of_a_dollar_df[\"total_cumulative_incentive_tokens_current_eth_value\"] = (\n",
    "        growth_of_a_dollar_df[\"extra_rewarder_cumulative_incentive_eth_value\"]\n",
    "        + growth_of_a_dollar_df[\"main_rewarder_cumulative_incentive_eth_value\"]\n",
    "    )\n",
    "    growth_of_a_dollar_df[\"growth_of_1_ETH\"] = (\n",
    "        growth_of_a_dollar_df[\"safe_value_of_lp_tokens\"]\n",
    "        + growth_of_a_dollar_df[\"total_cumulative_incentive_tokens_current_eth_value\"]\n",
    "    )\n",
    "    return growth_of_a_dollar_df\n",
    "\n",
    "\n",
    "def _add_BAL_and_AURA_minted_eth_value(growth_of_a_dollar_df: pd.DataFrame):\n",
    "    starting_mintedBAL_rewardPerToken = growth_of_a_dollar_df[\"mintedBAL_rewardPerToken\"].values[0]\n",
    "    growth_of_a_dollar_df[\"BAL_minted_since_start_date\"] = growth_of_a_dollar_df[\"starting_quantity_of_lp_tokens\"] * (\n",
    "        growth_of_a_dollar_df[\"mintedBAL_rewardPerToken\"] - starting_mintedBAL_rewardPerToken\n",
    "    )\n",
    "    growth_of_a_dollar_df[\"AURA_minted_since_start_date\"] = (\n",
    "        growth_of_a_dollar_df[\"BAL_minted_since_start_date\"] * growth_of_a_dollar_df[\"AURA_minted_for_one_BAL\"]\n",
    "    )\n",
    "    growth_of_a_dollar_df[\"main_rewarder_cumulative_incentive_eth_value\"] = (\n",
    "        growth_of_a_dollar_df[\"BAL_minted_since_start_date\"] * growth_of_a_dollar_df[\"BAL_to_ETH\"]\n",
    "    ) + (growth_of_a_dollar_df[\"AURA_minted_since_start_date\"] * growth_of_a_dollar_df[\"AURA_to_ETH\"])\n",
    "\n",
    "\n",
    "def _add_extra_rewarders_incentive_eth_value(growth_of_a_dollar_df: pd.DataFrame):\n",
    "    extra_reward_per_token_cols = [\n",
    "        c for c in growth_of_a_dollar_df.columns if \"extraRewardPerToken\" in c\n",
    "    ]  # format like AURA|| 0 extraRewardPerToken\n",
    "    extra_reward_to_eth_cols = [f\"{c.split('||')[0]}_to_ETH\" for c in extra_reward_per_token_cols]\n",
    "    print(f\"{extra_reward_per_token_cols=} {extra_reward_to_eth_cols=}\")\n",
    "    growth_of_a_dollar_df[\"extra_rewarder_cumulative_incentive_eth_value\"] = 0.0\n",
    "    for extra_rewardPerToken_col, ETH_price_col in zip(extra_reward_per_token_cols, extra_reward_to_eth_cols):\n",
    "        starting_rewardPerToken = growth_of_a_dollar_df[extra_rewardPerToken_col].values[0]\n",
    "        extra_rewards_minted_since_start = growth_of_a_dollar_df[\"starting_quantity_of_lp_tokens\"] * (\n",
    "            growth_of_a_dollar_df[extra_rewardPerToken_col] - starting_rewardPerToken\n",
    "        )\n",
    "        growth_of_a_dollar_df[\"extra_rewarder_cumulative_incentive_eth_value\"] += (\n",
    "            extra_rewards_minted_since_start * growth_of_a_dollar_df[ETH_price_col]\n",
    "        )\n",
    "\n",
    "\n",
    "dfs = []\n",
    "for (\n",
    "    destinationName,\n",
    "    destination_vault_address,\n",
    "    auraStaking_address,\n",
    "    extraRewarders,\n",
    "    extraRewardTokens,\n",
    "    extraRewardersRewardTokenSymbol,\n",
    "    extraRewardersRewardTokenDecimals,\n",
    ") in zip(\n",
    "    bal_rewarders_df[\"destinationName\"],\n",
    "    bal_rewarders_df[\"destination_vault_address\"],\n",
    "    bal_rewarders_df[\"auraStaking_address\"],\n",
    "    bal_rewarders_df[\"extraRewarders\"],\n",
    "    bal_rewarders_df[\"extraRewardTokens\"],\n",
    "    bal_rewarders_df[\"extraRewardersRewardTokenSymbol\"],\n",
    "    bal_rewarders_df[\"extraRewardersRewardTokenDecimals\"],\n",
    "):\n",
    "    mainRewarder = auraStaking_address\n",
    "    rewardTokens = [BAL, AURA, *extraRewardTokens]\n",
    "    rewardTokenSymbols = [\"BAL\", \"AURA\", *extraRewardersRewardTokenSymbol]\n",
    "\n",
    "    growth_of_a_dollar_calls = build_growth_of_a_dollar_calls(\n",
    "        rewardTokens=rewardTokens,\n",
    "        rewardTokenSymbols=rewardTokenSymbols,\n",
    "        mainRewarder=mainRewarder,\n",
    "        extraRewarders=extraRewarders,\n",
    "        extraRewardersRewardTokenSymbols=extraRewardersRewardTokenSymbol,\n",
    "        extraRewardersRewardTokenDecimals=extraRewardersRewardTokenDecimals,\n",
    "        balancerAuraDestinationVault_address=destination_vault_address,\n",
    "    )\n",
    "    raw_growth_of_a_dollar_df = sync_safe_get_raw_state_by_block(growth_of_a_dollar_calls, blocks)\n",
    "    raw_growth_of_a_dollar_df = raw_growth_of_a_dollar_df[raw_growth_of_a_dollar_df.index > \"2024, 7, 17\"].copy()\n",
    "    growth_of_a_dollar_df = transform_growth_of_a_dollar_df_to_growth_of_1_ETH_with_no_entrance_costs(\n",
    "        raw_growth_of_a_dollar_df\n",
    "    )\n",
    "    growth_of_a_dollar_df[f\"{destinationName} Growth of a ETH\"] = growth_of_a_dollar_df['growth_of_1_ETH']\n",
    "    fig = px.line(growth_of_a_dollar_df[f\"{destinationName} Growth of a ETH\"])\n",
    "    fig.show()\n",
    "    dfs.append(growth_of_a_dollar_df)"
   ]
  },
  {
   "cell_type": "markdown",
   "metadata": {},
   "source": [
    "# can we price both usd and usdt with the root price oracle\n",
    "\n",
    "0xdAC17F958D2ee523a2206206994597C13D831ec7, the root price oracle can't price usdt as of Sep 3, 2024"
   ]
  },
  {
   "cell_type": "code",
   "execution_count": null,
   "metadata": {},
   "outputs": [],
   "source": [
    "nav_per_share_call = Call(\n",
    "    balETH_AUTOPOOL_ETH_ADDRESS,\n",
    "    [\"convertToAssets(uint256)(uint256)\", int(1e18)],\n",
    "    [('balETH', safe_normalize_with_bool_success)],\n",
    ")\n",
    "nav_per_share_df = sync_safe_get_raw_state_by_block([nav_per_share_call], blocks) \n",
    "nav_per_share_df"
   ]
  },
  {
   "cell_type": "code",
   "execution_count": null,
   "metadata": {},
   "outputs": [
    {
     "ename": "NameError",
     "evalue": "name 'balETH' is not defined",
     "output_type": "error",
     "traceback": [
      "\u001b[0;31m---------------------------------------------------------------------------\u001b[0m",
      "\u001b[0;31mNameError\u001b[0m                                 Traceback (most recent call last)",
      "Cell \u001b[0;32mIn[19], line 2\u001b[0m\n\u001b[1;32m      1\u001b[0m growth_df \u001b[38;5;241m=\u001b[39m pd\u001b[38;5;241m.\u001b[39mconcat([d[d\u001b[38;5;241m.\u001b[39mcolumns[\u001b[38;5;241m-\u001b[39m\u001b[38;5;241m1\u001b[39m]]\u001b[38;5;241m.\u001b[39mastype(\u001b[38;5;28mfloat\u001b[39m) \u001b[38;5;28;01mfor\u001b[39;00m d \u001b[38;5;129;01min\u001b[39;00m dfs], axis\u001b[38;5;241m=\u001b[39m\u001b[38;5;241m1\u001b[39m)\n\u001b[0;32m----> 2\u001b[0m growth_df[\u001b[38;5;124m'\u001b[39m\u001b[38;5;124mbalETH\u001b[39m\u001b[38;5;124m'\u001b[39m] \u001b[38;5;241m=\u001b[39m nav_per_share_df[\u001b[43mbalETH\u001b[49m]\n\u001b[1;32m      3\u001b[0m px\u001b[38;5;241m.\u001b[39mline(growth_df)\n",
      "\u001b[0;31mNameError\u001b[0m: name 'balETH' is not defined"
     ]
    }
   ],
   "source": [
    "growth_df = pd.concat([d[d.columns[-1]].astype(float) for d in dfs], axis=1)\n",
    "growth_df['balETH'] = nav_per_share_df['balETH']\n",
    "px.line(growth_df)"
   ]
  },
  {
   "cell_type": "code",
   "execution_count": null,
   "metadata": {},
   "outputs": [],
   "source": [
    "#\n",
    "\n",
    "\n",
    "raw_growth_of_a_dollar_df\n",
    "# growth_of_a_dollar_df= growth_of_a_dollar_df[growth_of_a_dollar_df.index > '2024, 7, 17'].copy()"
   ]
  },
  {
   "cell_type": "code",
   "execution_count": null,
   "metadata": {},
   "outputs": [],
   "source": [
    "growth_of_a_dollar_df = transform_groth_of_a_dollar_df_to_growth_of_1_ETH_with_no_entrance_costs(\n",
    "    raw_growth_of_a_dollar_df\n",
    ")\n",
    "px.line(growth_of_a_dollar_df[\"growth_of_1_ETH\"])"
   ]
  },
  {
   "cell_type": "code",
   "execution_count": null,
   "metadata": {},
   "outputs": [],
   "source": [
    "growth_of_a_dollar_df"
   ]
  },
  {
   "cell_type": "code",
   "execution_count": null,
   "metadata": {},
   "outputs": [],
   "source": [
    "break"
   ]
  },
  {
   "cell_type": "code",
   "execution_count": null,
   "metadata": {},
   "outputs": [],
   "source": []
  },
  {
   "cell_type": "code",
   "execution_count": null,
   "metadata": {},
   "outputs": [],
   "source": [
    "growth_of_a_dollar_df[\"starting_quantity_of_lp_tokens\"] = 1 / growth_of_a_dollar_df[\"safeLPTokenPriceInETH\"].values[0]\n",
    "growth_of_a_dollar_df[\"safe_value_of_lp_tokens\"] = (\n",
    "    growth_of_a_dollar_df[\"starting_quantity_of_lp_tokens\"] * growth_of_a_dollar_df[\"safeLPTokenPriceInETH\"]\n",
    ")\n",
    "\n",
    "# need to add some assumptions in here about the gas costs of entering, (that we paid) ie 200 usd\n",
    "# and the slippage cost to enter? using our values lets say\n",
    "starting_bal_reward_per_token = growth_of_a_dollar_df[\"BAL_reward_per_token\"].values[0]\n",
    "starting_stash_aura_reward_per_token = growth_of_a_dollar_df[\"stash_aura_reward_per_token\"].values[0]\n",
    "\n",
    "growth_of_a_dollar_df[\"bal_earned_since_deposit\"] = growth_of_a_dollar_df[\"starting_quantity_of_lp_tokens\"] * (\n",
    "    growth_of_a_dollar_df[\"BAL_reward_per_token\"] - starting_bal_reward_per_token\n",
    ")\n",
    "growth_of_a_dollar_df[\"aura_minted_since_deposit\"] = (\n",
    "    growth_of_a_dollar_df[\"bal_earned_since_deposit\"] * growth_of_a_dollar_df[\"AURA_minted_for_one_BAL\"]\n",
    ")\n",
    "\n",
    "growth_of_a_dollar_df[\"stash_aura_earned_since_deposit\"] = growth_of_a_dollar_df[\"starting_quantity_of_lp_tokens\"] * (\n",
    "    growth_of_a_dollar_df[\"stash_aura_reward_per_token\"] - starting_stash_aura_reward_per_token\n",
    ")\n",
    "\n",
    "growth_of_a_dollar_df[\"current_eth_value_of_incentive_tokens_earned\"] = (\n",
    "    (growth_of_a_dollar_df[\"bal_earned_since_deposit\"] * growth_of_a_dollar_df[\"BAL_to_ETH\"])\n",
    "    + (growth_of_a_dollar_df[\"aura_minted_since_deposit\"] * growth_of_a_dollar_df[\"AURA_to_ETH\"])\n",
    "    + (growth_of_a_dollar_df[\"stash_aura_earned_since_deposit\"] * growth_of_a_dollar_df[\"AURA_to_ETH\"])\n",
    ")\n",
    "growth_of_a_dollar_df[\"wstETH_ETHx_balancer_value_of_one_eth\"] = (\n",
    "    growth_of_a_dollar_df[\"safe_value_of_lp_tokens\"]\n",
    "    + growth_of_a_dollar_df[\"current_eth_value_of_incentive_tokens_earned\"]\n",
    ")\n",
    "px.line(\n",
    "    growth_of_a_dollar_df[[\"wstETH_ETHx_balancer_value_of_one_eth\", \"our_nav_per_share\"]],\n",
    "    title=\"Nav Per Share vs Balancer wstETH/ETHx\",\n",
    ")"
   ]
  },
  {
   "cell_type": "code",
   "execution_count": null,
   "metadata": {},
   "outputs": [],
   "source": [
    "# account for costs\n",
    "\n",
    "growth_of_a_dollar_df[\"starting_quantity_of_lp_tokens\"] = (\n",
    "    1 / growth_of_a_dollar_df[\"safeLPTokenPriceInETH\"].values[0]\n",
    ") * (\n",
    "    1 - 0.0035\n",
    ")  # assume 35 bips to enter and 10bips of gas cost\n",
    "growth_of_a_dollar_df[\"safe_value_of_lp_tokens\"] = (\n",
    "    growth_of_a_dollar_df[\"starting_quantity_of_lp_tokens\"] * growth_of_a_dollar_df[\"safeLPTokenPriceInETH\"]\n",
    ")\n",
    "\n",
    "# need to add some assumptions in here about the gas costs of entering, (that we paid) ie 200 usd\n",
    "# and the slippage cost to enter? using our values lets say\n",
    "starting_bal_reward_per_token = growth_of_a_dollar_df[\"BAL_reward_per_token\"].values[0]\n",
    "starting_stash_aura_reward_per_token = growth_of_a_dollar_df[\"stash_aura_reward_per_token\"].values[0]\n",
    "\n",
    "growth_of_a_dollar_df[\"bal_earned_since_deposit\"] = growth_of_a_dollar_df[\"starting_quantity_of_lp_tokens\"] * (\n",
    "    growth_of_a_dollar_df[\"BAL_reward_per_token\"] - starting_bal_reward_per_token\n",
    ")\n",
    "growth_of_a_dollar_df[\"aura_minted_since_deposit\"] = (\n",
    "    growth_of_a_dollar_df[\"bal_earned_since_deposit\"] * growth_of_a_dollar_df[\"AURA_minted_for_one_BAL\"]\n",
    ")\n",
    "\n",
    "growth_of_a_dollar_df[\"stash_aura_earned_since_deposit\"] = growth_of_a_dollar_df[\"starting_quantity_of_lp_tokens\"] * (\n",
    "    growth_of_a_dollar_df[\"stash_aura_reward_per_token\"] - starting_stash_aura_reward_per_token\n",
    ")\n",
    "\n",
    "growth_of_a_dollar_df[\"current_eth_value_of_incentive_tokens_earned\"] = (\n",
    "    (growth_of_a_dollar_df[\"bal_earned_since_deposit\"] * growth_of_a_dollar_df[\"BAL_to_ETH\"])\n",
    "    + (growth_of_a_dollar_df[\"aura_minted_since_deposit\"] * growth_of_a_dollar_df[\"AURA_to_ETH\"])\n",
    "    + (growth_of_a_dollar_df[\"stash_aura_earned_since_deposit\"] * growth_of_a_dollar_df[\"AURA_to_ETH\"])\n",
    ")\n",
    "\n",
    "growth_of_a_dollar_df[\"current_eth_value_of_incentive_tokens_earned\"] = growth_of_a_dollar_df[\n",
    "    \"current_eth_value_of_incentive_tokens_earned\"\n",
    "]  # assume 35 ps of cost to sell reward tokens?\n",
    "growth_of_a_dollar_df[\"wstETH_ETHx_balancer_value_of_one_eth\"] = (\n",
    "    growth_of_a_dollar_df[\"safe_value_of_lp_tokens\"]\n",
    "    + growth_of_a_dollar_df[\"current_eth_value_of_incentive_tokens_earned\"]\n",
    ")\n",
    "px.line(\n",
    "    growth_of_a_dollar_df[[\"wstETH_ETHx_balancer_value_of_one_eth\", \"our_nav_per_share\"]],\n",
    "    title=\"Nav Per Share vs Balancer wstETH/ETHx if it cost 35bps to enter\",\n",
    ")"
   ]
  },
  {
   "cell_type": "code",
   "execution_count": null,
   "metadata": {},
   "outputs": [],
   "source": [
    "(20.40 / 20.42) - 1  # 10 bips\n",
    "(59.79 / 60) - 1  # 35 bips +\n",
    "((35 * 60) + (10 * 20)) / 80\n",
    "# avg of 29 bips of slippage give them"
   ]
  },
  {
   "cell_type": "code",
   "execution_count": null,
   "metadata": {},
   "outputs": [],
   "source": [
    "# # BaseRewardPool4626 = '0x571a20C14a7c3Ac6d30Ee7D1925940bb0C027696' # this is the aura place?\n",
    "# # extra_rewards = '0xe5aABCd2D935C3F06a69b981069A92B252E81a99' # aura\n",
    "# # assumes no dilution, at 1 ETH level.\n",
    "# # Our records are real so we dilute the returns, this is hypothetical so without adding a bunch of complexity\n",
    "\n",
    "\n",
    "# def _get_safe_price_from_getRangePricesLP(success, value):\n",
    "#     if success:\n",
    "#         spotPriceInQuote, safePriceInQuote, isSpotSafe = value\n",
    "#         return int(safePriceInQuote) / 1e18\n",
    "\n",
    "\n",
    "# def build_reward_per_token_stored_calls():\n",
    "#     AURA = \"0xC0c293ce456fF0ED870ADd98a0828Dd4d2903DBF\"\n",
    "#     BAL = \"0xba100000625a3754423978a60c9317c58a424e3D\"\n",
    "#     bal_rewards_call = Call(\n",
    "#         BaseRewardPool4626,\n",
    "#         [\"rewardPerToken()(uint256)\"],\n",
    "#         [(\"BAL_reward_per_token\", safe_normalize_with_bool_success)],\n",
    "#     )\n",
    "\n",
    "#     aura_stash_rewards_call = Call(\n",
    "#         extra_rewards,\n",
    "#         [\"rewardPerToken()(uint256)\"],\n",
    "#         [(\"stash_aura_reward_per_token\", safe_normalize_with_bool_success)],\n",
    "#     )\n",
    "\n",
    "#     aura_minted_from_one_BAL_call = Call(\n",
    "#         stats,\n",
    "#         [\n",
    "#             \"getPlatformTokenMintAmount(address,uint256)(uint256)\",\n",
    "#             AURA,\n",
    "#             int(1e18),\n",
    "#         ],  # imo rounding error, 1.0936 to 1.0696 in a 50 days 1:1 would be 95% as close\n",
    "#         [(\"AURA_minted_for_one_BAL\", safe_normalize_with_bool_success)],\n",
    "#     )\n",
    "\n",
    "#     get_safe_lp_token_value_call = Call(\n",
    "#         BalancerAuraDestinationVault,\n",
    "#         [\"getRangePricesLP()((uint256,uint256,bool))\"],\n",
    "#         [(\"safeLPTokenPriceInETH\", _get_safe_price_from_getRangePricesLP)],\n",
    "#     )\n",
    "#     price_calls = []\n",
    "#     for rewardToken, name in zip([AURA, BAL], [\"AURA_to_ETH\", \"BAL_to_ETH\"]):\n",
    "#         price_calls.append(\n",
    "#             Call(\n",
    "#                 ROOT_PRICE_ORACLE,\n",
    "#                 [\"getPriceInEth(address)(uint256)\", rewardToken],\n",
    "#                 [(name, safe_normalize_with_bool_success)],\n",
    "#             )\n",
    "#         )\n",
    "\n",
    "#     our_nav_per_share = Call(\n",
    "#         balETH_AUTOPOOL_ETH_ADDRESS,\n",
    "#         [\"convertToAssets(uint256)(uint256)\", int(1e18)],\n",
    "#         [('our_nav_per_share', safe_normalize_with_bool_success)],\n",
    "#     )\n",
    "\n",
    "#     return [bal_rewards_call, aura_minted_from_one_BAL_call, aura_stash_rewards_call, get_safe_lp_token_value_call, *price_calls, our_nav_per_share]\n",
    "\n",
    "\n",
    "# calls = build_reward_per_token_stored_calls()\n",
    "# blocks = build_blocks_to_use()\n",
    "# response = sync_get_raw_state_by_block_one_block(calls, 20642289)\n",
    "# growth_of_a_dollar_df = sync_safe_get_raw_state_by_block(calls, blocks)\n",
    "# growth_of_a_dollar_df= growth_of_a_dollar_df[growth_of_a_dollar_df.index > '2024, 7, 17'].copy()"
   ]
  }
 ],
 "metadata": {
  "kernelspec": {
   "display_name": ".venv",
   "language": "python",
   "name": "python3"
  },
  "language_info": {
   "codemirror_mode": {
    "name": "ipython",
    "version": 3
   },
   "file_extension": ".py",
   "mimetype": "text/x-python",
   "name": "python",
   "nbconvert_exporter": "python",
   "pygments_lexer": "ipython3",
   "version": "3.10.14"
  }
 },
 "nbformat": 4,
 "nbformat_minor": 2
}
