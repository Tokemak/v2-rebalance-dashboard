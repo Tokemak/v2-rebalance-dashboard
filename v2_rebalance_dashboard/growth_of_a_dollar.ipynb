{
 "cells": [
  {
   "cell_type": "code",
   "execution_count": 4,
   "metadata": {},
   "outputs": [],
   "source": [
    "from multicall import Call\n",
    "import plotly.express as px\n",
    "import pandas as pd\n",
    "from v2_rebalance_dashboard.constants import (\n",
    "    ROOT_DIR,\n",
    "    eth_client,\n",
    "    BALANCER_AURA_DESTINATION_VAULT_ABI, balETH_AUTOPOOL_ETH_ADDRESS, \n",
    "    ROOT_PRICE_ORACLE,\n",
    ")\n",
    "\n",
    "from v2_rebalance_dashboard.get_state_by_block import (\n",
    "    safe_normalize_with_bool_success,\n",
    "    sync_get_raw_state_by_block_one_block,\n",
    "    sync_safe_get_raw_state_by_block,\n",
    "    build_blocks_to_use,\n",
    ")\n",
    "\n",
    "BalancerAuraDestinationVault = \"0xa3956D49106288E5c04E6FBbBad5b68593f0bE3b\"\n",
    "BaseRewardPool4626 = \"0x571a20C14a7c3Ac6d30Ee7D1925940bb0C027696\"  # this is the aura place?\n",
    "extra_rewards = \"0xe5aABCd2D935C3F06a69b981069A92B252E81a99\"  # aura\n",
    "stats = \"0xE6850bc48feF4F8e4433d95072177aa95cD2fd9F\"\n",
    "\n",
    "vault_df = pd.read_csv(\"vaults.csv\")\n",
    "def get_required_addresses_for_balancer_growth_of_a_dollar(destination_vault_address:str):\n",
    "    BalancerAuraDestinationVault = eth_client.eth.contract(eth_client.toChecksumAddress(destination_vault_address), abi=BALANCER_AURA_DESTINATION_VAULT_ABI)\n",
    "    auraStaking_adddress = BalancerAuraDestinationVault.functions.auraStaking().call()\n",
    "    "
   ]
  },
  {
   "cell_type": "code",
   "execution_count": 1,
   "metadata": {},
   "outputs": [
    {
     "name": "stdout",
     "output_type": "stream",
     "text": [
      "<Function ONE()>\n",
      "<Function accessController()>\n",
      "<Function allowance(address,address)>\n",
      "<Function approve(address,uint256)>\n",
      "<Function auraBooster()>\n",
      "<Function auraPoolId()>\n",
      "<Function auraStaking()>\n",
      "<Function balanceOf(address)>\n",
      "<Function balanceOfUnderlyingDebt()>\n",
      "<Function balancerPool()>\n",
      "<Function balancerVault()>\n",
      "<Function baseAsset()>\n",
      "<Function collectRewards()>\n",
      "<Function debtValue(uint256)>\n",
      "<Function decimals()>\n",
      "<Function decreaseAllowance(address,uint256)>\n",
      "<Function defaultRewardToken()>\n",
      "<Function depositUnderlying(uint256)>\n",
      "<Function exchangeName()>\n",
      "<Function externalDebtBalance()>\n",
      "<Function externalQueriedBalance()>\n",
      "<Function getMarketplaceRewards()>\n",
      "<Function getPool()>\n",
      "<Function getRangePricesLP()>\n",
      "<Function getStats()>\n",
      "<Function getSystemRegistry()>\n",
      "<Function getUnderlyerCeilingPrice()>\n",
      "<Function getUnderlyerFloorPrice()>\n",
      "<Function getValidatedSafePrice()>\n",
      "<Function getValidatedSpotPrice()>\n",
      "<Function increaseAllowance(address,uint256)>\n",
      "<Function initialize(address,address,address,address,address[],bytes)>\n",
      "<Function internalDebtBalance()>\n",
      "<Function internalQueriedBalance()>\n",
      "<Function isComposable()>\n",
      "<Function isShutdown()>\n",
      "<Function isTrackedToken(address)>\n",
      "<Function isValidSignature(bytes32,bytes)>\n",
      "<Function name()>\n",
      "<Function poolDealInEth()>\n",
      "<Function poolType()>\n",
      "<Function recover(address[],uint256[],address[])>\n",
      "<Function recoverUnderlying(address)>\n",
      "<Function rewarder()>\n",
      "<Function setMessage(bytes32,bool)>\n",
      "<Function shutdown(uint8)>\n",
      "<Function shutdownStatus()>\n",
      "<Function signedMessages(bytes32)>\n",
      "<Function symbol()>\n",
      "<Function totalSupply()>\n",
      "<Function trackedTokens()>\n",
      "<Function transfer(address,uint256)>\n",
      "<Function transferFrom(address,address,uint256)>\n",
      "<Function underlying()>\n",
      "<Function underlyingTokens()>\n",
      "<Function withdrawBaseAsset(uint256,address)>\n",
      "<Function withdrawUnderlying(uint256,address)>\n"
     ]
    }
   ],
   "source": [
    "from multicall import Call\n",
    "import plotly.express as px\n",
    "\n",
    "from v2_rebalance_dashboard.constants import (\n",
    "    ROOT_DIR,\n",
    "    eth_client,\n",
    "    BALANCER_AURA_DESTINATION_VAULT_ABI, balETH_AUTOPOOL_ETH_ADDRESS, \n",
    "    ROOT_PRICE_ORACLE,\n",
    ")\n",
    "\n",
    "from v2_rebalance_dashboard.get_state_by_block import (\n",
    "    safe_normalize_with_bool_success,\n",
    "    sync_get_raw_state_by_block_one_block,\n",
    "    sync_safe_get_raw_state_by_block,\n",
    "    build_blocks_to_use,\n",
    ")\n",
    "\n",
    "#TODO write script to make this for the calls\n",
    "\n",
    "\n",
    "BalancerAuraDestinationVault = \"0xa3956D49106288E5c04E6FBbBad5b68593f0bE3b\"\n",
    "BaseRewardPool4626 = \"0x571a20C14a7c3Ac6d30Ee7D1925940bb0C027696\"  # this is the aura place?\n",
    "extra_rewards = \"0xe5aABCd2D935C3F06a69b981069A92B252E81a99\"  # aura\n",
    "stats = \"0xE6850bc48feF4F8e4433d95072177aa95cD2fd9F\"\n",
    "# https://app.aura.finance/#/1/pool/207\n",
    "# wstETH:ETHx only AURA and BAL ETH tokens, yes solo\n",
    "destination_vault_contract = eth_client.eth.contract(\n",
    "    BalancerAuraDestinationVault, abi=BALANCER_AURA_DESTINATION_VAULT_ABI\n",
    ")\n",
    "for f in destination_vault_contract.all_functions():\n",
    "    print(f)"
   ]
  },
  {
   "cell_type": "code",
   "execution_count": 39,
   "metadata": {},
   "outputs": [
    {
     "data": {
      "text/html": [
       "<div>\n",
       "<style scoped>\n",
       "    .dataframe tbody tr th:only-of-type {\n",
       "        vertical-align: middle;\n",
       "    }\n",
       "\n",
       "    .dataframe tbody tr th {\n",
       "        vertical-align: top;\n",
       "    }\n",
       "\n",
       "    .dataframe thead th {\n",
       "        text-align: right;\n",
       "    }\n",
       "</style>\n",
       "<table border=\"1\" class=\"dataframe\">\n",
       "  <thead>\n",
       "    <tr style=\"text-align: right;\">\n",
       "      <th></th>\n",
       "      <th>AURA_to_ETH</th>\n",
       "      <th>BAL_to_ETH</th>\n",
       "      <th>mintedBAL_rewardPerToken</th>\n",
       "      <th>AURA_minted_for_one_BAL</th>\n",
       "      <th>AURA|| 0 extraRewardPerToken</th>\n",
       "      <th>safeLPTokenPriceInETH</th>\n",
       "    </tr>\n",
       "    <tr>\n",
       "      <th>timestamp</th>\n",
       "      <th></th>\n",
       "      <th></th>\n",
       "      <th></th>\n",
       "      <th></th>\n",
       "      <th></th>\n",
       "      <th></th>\n",
       "    </tr>\n",
       "  </thead>\n",
       "  <tbody>\n",
       "    <tr>\n",
       "      <th>2024-07-08 14:38:47</th>\n",
       "      <td>0.000203</td>\n",
       "      <td>0.000822</td>\n",
       "      <td>15.010115</td>\n",
       "      <td>1.0936</td>\n",
       "      <td>160.278954</td>\n",
       "      <td>1.005999</td>\n",
       "    </tr>\n",
       "    <tr>\n",
       "      <th>2024-07-08 20:37:59</th>\n",
       "      <td>0.000199</td>\n",
       "      <td>0.000822</td>\n",
       "      <td>15.057227</td>\n",
       "      <td>1.0936</td>\n",
       "      <td>160.427157</td>\n",
       "      <td>1.005982</td>\n",
       "    </tr>\n",
       "    <tr>\n",
       "      <th>2024-07-09 02:34:59</th>\n",
       "      <td>0.000194</td>\n",
       "      <td>0.000822</td>\n",
       "      <td>15.104050</td>\n",
       "      <td>1.0936</td>\n",
       "      <td>160.574453</td>\n",
       "      <td>1.006051</td>\n",
       "    </tr>\n",
       "    <tr>\n",
       "      <th>2024-07-09 08:31:59</th>\n",
       "      <td>0.000194</td>\n",
       "      <td>0.000822</td>\n",
       "      <td>15.150873</td>\n",
       "      <td>1.0936</td>\n",
       "      <td>160.721749</td>\n",
       "      <td>1.006949</td>\n",
       "    </tr>\n",
       "    <tr>\n",
       "      <th>2024-07-09 14:30:11</th>\n",
       "      <td>0.000201</td>\n",
       "      <td>0.000815</td>\n",
       "      <td>15.197854</td>\n",
       "      <td>1.0936</td>\n",
       "      <td>160.869540</td>\n",
       "      <td>1.006990</td>\n",
       "    </tr>\n",
       "    <tr>\n",
       "      <th>...</th>\n",
       "      <td>...</td>\n",
       "      <td>...</td>\n",
       "      <td>...</td>\n",
       "      <td>...</td>\n",
       "      <td>...</td>\n",
       "      <td>...</td>\n",
       "    </tr>\n",
       "    <tr>\n",
       "      <th>2024-09-02 14:50:11</th>\n",
       "      <td>0.000199</td>\n",
       "      <td>0.000748</td>\n",
       "      <td>26.747052</td>\n",
       "      <td>1.0680</td>\n",
       "      <td>178.353673</td>\n",
       "      <td>1.010502</td>\n",
       "    </tr>\n",
       "    <tr>\n",
       "      <th>2024-09-02 20:46:23</th>\n",
       "      <td>0.000199</td>\n",
       "      <td>0.000748</td>\n",
       "      <td>26.797274</td>\n",
       "      <td>1.0680</td>\n",
       "      <td>178.412906</td>\n",
       "      <td>1.010502</td>\n",
       "    </tr>\n",
       "    <tr>\n",
       "      <th>2024-09-03 02:42:59</th>\n",
       "      <td>0.000195</td>\n",
       "      <td>0.000763</td>\n",
       "      <td>26.847552</td>\n",
       "      <td>1.0680</td>\n",
       "      <td>178.472205</td>\n",
       "      <td>1.010423</td>\n",
       "    </tr>\n",
       "    <tr>\n",
       "      <th>2024-09-03 08:40:23</th>\n",
       "      <td>0.000195</td>\n",
       "      <td>0.000763</td>\n",
       "      <td>26.897943</td>\n",
       "      <td>1.0680</td>\n",
       "      <td>178.531637</td>\n",
       "      <td>1.010416</td>\n",
       "    </tr>\n",
       "    <tr>\n",
       "      <th>2024-09-03 14:36:47</th>\n",
       "      <td>0.000204</td>\n",
       "      <td>0.000778</td>\n",
       "      <td>26.948193</td>\n",
       "      <td>1.0680</td>\n",
       "      <td>178.590903</td>\n",
       "      <td>1.010459</td>\n",
       "    </tr>\n",
       "  </tbody>\n",
       "</table>\n",
       "<p>231 rows × 6 columns</p>\n",
       "</div>"
      ],
      "text/plain": [
       "                     AURA_to_ETH  BAL_to_ETH  mintedBAL_rewardPerToken  \\\n",
       "timestamp                                                                \n",
       "2024-07-08 14:38:47     0.000203    0.000822                 15.010115   \n",
       "2024-07-08 20:37:59     0.000199    0.000822                 15.057227   \n",
       "2024-07-09 02:34:59     0.000194    0.000822                 15.104050   \n",
       "2024-07-09 08:31:59     0.000194    0.000822                 15.150873   \n",
       "2024-07-09 14:30:11     0.000201    0.000815                 15.197854   \n",
       "...                          ...         ...                       ...   \n",
       "2024-09-02 14:50:11     0.000199    0.000748                 26.747052   \n",
       "2024-09-02 20:46:23     0.000199    0.000748                 26.797274   \n",
       "2024-09-03 02:42:59     0.000195    0.000763                 26.847552   \n",
       "2024-09-03 08:40:23     0.000195    0.000763                 26.897943   \n",
       "2024-09-03 14:36:47     0.000204    0.000778                 26.948193   \n",
       "\n",
       "                     AURA_minted_for_one_BAL  AURA|| 0 extraRewardPerToken  \\\n",
       "timestamp                                                                    \n",
       "2024-07-08 14:38:47                   1.0936                    160.278954   \n",
       "2024-07-08 20:37:59                   1.0936                    160.427157   \n",
       "2024-07-09 02:34:59                   1.0936                    160.574453   \n",
       "2024-07-09 08:31:59                   1.0936                    160.721749   \n",
       "2024-07-09 14:30:11                   1.0936                    160.869540   \n",
       "...                                      ...                           ...   \n",
       "2024-09-02 14:50:11                   1.0680                    178.353673   \n",
       "2024-09-02 20:46:23                   1.0680                    178.412906   \n",
       "2024-09-03 02:42:59                   1.0680                    178.472205   \n",
       "2024-09-03 08:40:23                   1.0680                    178.531637   \n",
       "2024-09-03 14:36:47                   1.0680                    178.590903   \n",
       "\n",
       "                     safeLPTokenPriceInETH  \n",
       "timestamp                                   \n",
       "2024-07-08 14:38:47               1.005999  \n",
       "2024-07-08 20:37:59               1.005982  \n",
       "2024-07-09 02:34:59               1.006051  \n",
       "2024-07-09 08:31:59               1.006949  \n",
       "2024-07-09 14:30:11               1.006990  \n",
       "...                                    ...  \n",
       "2024-09-02 14:50:11               1.010502  \n",
       "2024-09-02 20:46:23               1.010502  \n",
       "2024-09-03 02:42:59               1.010423  \n",
       "2024-09-03 08:40:23               1.010416  \n",
       "2024-09-03 14:36:47               1.010459  \n",
       "\n",
       "[231 rows x 6 columns]"
      ]
     },
     "execution_count": 39,
     "metadata": {},
     "output_type": "execute_result"
    }
   ],
   "source": [
    "# BaseRewardPool4626 = '0x571a20C14a7c3Ac6d30Ee7D1925940bb0C027696' # this is the aura place?\n",
    "# extra_rewards = '0xe5aABCd2D935C3F06a69b981069A92B252E81a99' # aura\n",
    "# assumes no dilution, at 1 ETH level.\n",
    "# Our records are real so we dilute the returns, this is hypothetical so without adding a bunch of complexity\n",
    "\n",
    "\n",
    "def _get_safe_price_from_getRangePricesLP(success, value):\n",
    "    if success:\n",
    "        spotPriceInQuote, safePriceInQuote, isSpotSafe = value\n",
    "        return int(safePriceInQuote) / 1e18\n",
    "\n",
    "\n",
    "def _build_price_calls(rewardTokens:list[str], rewardTokenSymbols:list[str]) -> list[Call]:\n",
    "    \"\"\"Returns a list of calls that get the safe ETH value in ETH for each reward token\"\"\"\n",
    "    price_calls = []\n",
    "    \n",
    "    for rewardToken, symbol in zip(rewardTokens, rewardTokenSymbols):\n",
    "        price_calls.append(\n",
    "            Call(\n",
    "                ROOT_PRICE_ORACLE,\n",
    "                [\"getPriceInEth(address)(uint256)\", rewardToken],\n",
    "                [(f'{symbol}_to_ETH', safe_normalize_with_bool_success)],\n",
    "            )\n",
    "        )\n",
    "    return price_calls\n",
    "\n",
    "\n",
    "\n",
    "def _build_rewardPerToken_calls(mainRewarder:str, extraRewarders:list[str], extraRewardersRewardTokenSymbol:list[str], incentiveStats:str) -> list[Call]:\n",
    "    \"\"\"Get the rewardPerToken for each of the rewarder\"\"\"\n",
    "    bal_rewards_call = Call(\n",
    "        mainRewarder,\n",
    "        [\"rewardPerToken()(uint256)\"],\n",
    "        [(\"mintedBAL_rewardPerToken\", safe_normalize_with_bool_success)],\n",
    "    )\n",
    "\n",
    "    aura_minted_from_one_BAL_call =  Call(\n",
    "        incentiveStats,\n",
    "        [\n",
    "            \"getPlatformTokenMintAmount(address,uint256)(uint256)\",\n",
    "            AURA,\n",
    "            int(1e18),\n",
    "        ],  # imo rounding error, 1.0936 to 1.0696 in a 50 days 1:1 would be 95% as close\n",
    "        [(\"AURA_minted_for_one_BAL\", safe_normalize_with_bool_success)],\n",
    "    )\n",
    "    \n",
    "    \n",
    "    rewardPerTokenCalls = []\n",
    "    for i, (extraRewarder, extraRewardTokenSymbol) in enumerate(zip(extraRewarders, extraRewardersRewardTokenSymbol)):\n",
    "        rewardPerTokenCall = Call(\n",
    "        extraRewarder,\n",
    "        [\"rewardPerToken()(uint256)\"],\n",
    "        [(f\"{extraRewardTokenSymbol}|| {i} extraRewardPerToken\", safe_normalize_with_bool_success)], # using `i` here to avoid duplicates \n",
    "    )\n",
    "        rewardPerTokenCalls.append(rewardPerTokenCall)\n",
    "\n",
    "    return [bal_rewards_call, aura_minted_from_one_BAL_call, *rewardPerTokenCalls]\n",
    "\n",
    "\n",
    "def build_growth_of_a_dollar_calls(\n",
    "    rewardTokens:list[str], rewardTokenSymbols:list[str], mainRewarder:str, extraRewarders:list[str], extraRewardersRewardTokenSymbols: list[str], balancerAuraDestinationVault_address:str, aura_incentive_stats:str\n",
    ") -> list[Call]:\n",
    "    price_calls =  _build_price_calls(rewardTokens, rewardTokenSymbols)\n",
    "    reward_per_token_calls = _build_rewardPerToken_calls(mainRewarder, extraRewarders, extraRewardersRewardTokenSymbols, aura_incentive_stats)\n",
    "    \n",
    "    get_safe_lp_token_value_call = Call(\n",
    "        balancerAuraDestinationVault_address,\n",
    "        [\"getRangePricesLP()((uint256,uint256,bool))\"],\n",
    "        [(\"safeLPTokenPriceInETH\", _get_safe_price_from_getRangePricesLP)],\n",
    "    )\n",
    "    \n",
    "    return [*price_calls, *reward_per_token_calls, get_safe_lp_token_value_call]\n",
    "\n",
    "\n",
    "\n",
    "BalancerAuraDestinationVault = \"0xa3956D49106288E5c04E6FBbBad5b68593f0bE3b\"\n",
    "BaseRewardPool4626_main_rewarder = \"0x571a20C14a7c3Ac6d30Ee7D1925940bb0C027696\"  # this is the aura place?\n",
    "extra_rewards = \"0xe5aABCd2D935C3F06a69b981069A92B252E81a99\"  # aura\n",
    "aura_incentive_stats = \"0xE6850bc48feF4F8e4433d95072177aa95cD2fd9F\"\n",
    "\n",
    "\n",
    "AURA = \"0xC0c293ce456fF0ED870ADd98a0828Dd4d2903DBF\"\n",
    "BAL = \"0xba100000625a3754423978a60c9317c58a424e3D\"\n",
    "\n",
    "rewardTokens = [AURA, BAL]\n",
    "rewardTokenSymbols = ['AURA', 'BAL']\n",
    "\n",
    "growth_of_a_dollar_calls = build_growth_of_a_dollar_calls(\n",
    "    rewardTokens=rewardTokens, rewardTokenSymbols=rewardTokenSymbols, mainRewarder=BaseRewardPool4626_main_rewarder , extraRewarders=[extra_rewards], extraRewardersRewardTokenSymbols=['AURA'],\n",
    "    balancerAuraDestinationVault_address=BalancerAuraDestinationVault, aura_incentive_stats = aura_incentive_stats\n",
    ")\n",
    "\n",
    "blocks = build_blocks_to_use()\n",
    "response = sync_get_raw_state_by_block_one_block(growth_of_a_dollar_calls, 20642289)\n",
    "\n",
    "raw_growth_of_a_dollar_df = sync_safe_get_raw_state_by_block(growth_of_a_dollar_calls, blocks)\n",
    "growth_of_a_dollar_df = raw_growth_of_a_dollar_df\n",
    "growth_of_a_dollar_df\n",
    "# growth_of_a_dollar_df= growth_of_a_dollar_df[growth_of_a_dollar_df.index > '2024, 7, 17'].copy()"
   ]
  },
  {
   "cell_type": "code",
   "execution_count": 50,
   "metadata": {},
   "outputs": [
    {
     "name": "stdout",
     "output_type": "stream",
     "text": [
      "extra_reward_per_token_cols=['AURA|| 0 extraRewardPerToken'] extra_reward_to_eth_cols=['AURA_to_ETH']\n"
     ]
    },
    {
     "data": {
      "application/vnd.plotly.v1+json": {
       "config": {
        "plotlyServerURL": "https://plot.ly"
       },
       "data": [
        {
         "hovertemplate": "variable=growth_of_1_ETH<br>timestamp=%{x}<br>value=%{y}<extra></extra>",
         "legendgroup": "growth_of_1_ETH",
         "line": {
          "color": "#636efa",
          "dash": "solid"
         },
         "marker": {
          "symbol": "circle"
         },
         "mode": "lines",
         "name": "growth_of_1_ETH",
         "orientation": "v",
         "showlegend": true,
         "type": "scatter",
         "x": [
          "2024-07-17T00:53:47",
          "2024-07-17T06:50:11",
          "2024-07-17T12:46:35",
          "2024-07-17T18:43:35",
          "2024-07-18T00:40:11",
          "2024-07-18T06:37:35",
          "2024-07-18T12:34:59",
          "2024-07-18T18:31:35",
          "2024-07-19T00:27:59",
          "2024-07-19T06:24:23",
          "2024-07-19T12:20:35",
          "2024-07-19T18:17:11",
          "2024-07-20T00:13:23",
          "2024-07-20T06:10:35",
          "2024-07-20T12:07:35",
          "2024-07-20T18:04:23",
          "2024-07-21T00:00:47",
          "2024-07-21T05:57:23",
          "2024-07-21T11:53:23",
          "2024-07-21T17:50:35",
          "2024-07-21T23:47:35",
          "2024-07-22T05:44:23",
          "2024-07-22T11:41:35",
          "2024-07-22T17:38:59",
          "2024-07-22T23:35:47",
          "2024-07-23T05:32:47",
          "2024-07-23T11:29:35",
          "2024-07-23T17:25:47",
          "2024-07-23T23:22:35",
          "2024-07-24T05:18:47",
          "2024-07-24T11:15:11",
          "2024-07-24T17:12:23",
          "2024-07-24T23:09:59",
          "2024-07-25T05:06:35",
          "2024-07-25T11:02:47",
          "2024-07-25T16:59:47",
          "2024-07-25T22:57:23",
          "2024-07-26T04:54:47",
          "2024-07-26T10:50:47",
          "2024-07-26T16:47:47",
          "2024-07-26T22:44:47",
          "2024-07-27T04:42:11",
          "2024-07-27T10:39:11",
          "2024-07-27T16:35:11",
          "2024-07-27T22:32:35",
          "2024-07-28T04:29:59",
          "2024-07-28T10:26:35",
          "2024-07-28T16:22:35",
          "2024-07-28T22:18:11",
          "2024-07-29T04:15:11",
          "2024-07-29T10:11:59",
          "2024-07-29T16:07:47",
          "2024-07-29T22:03:47",
          "2024-07-30T04:01:23",
          "2024-07-30T10:01:11",
          "2024-07-30T15:58:35",
          "2024-07-30T21:55:35",
          "2024-07-31T03:52:11",
          "2024-07-31T09:48:35",
          "2024-07-31T15:45:11",
          "2024-07-31T21:42:47",
          "2024-08-01T03:39:11",
          "2024-08-01T09:35:35",
          "2024-08-01T15:32:35",
          "2024-08-01T21:29:23",
          "2024-08-02T03:26:11",
          "2024-08-02T09:22:59",
          "2024-08-02T15:19:59",
          "2024-08-02T21:18:11",
          "2024-08-03T03:15:11",
          "2024-08-03T09:12:35",
          "2024-08-03T15:08:47",
          "2024-08-03T21:05:11",
          "2024-08-04T03:01:47",
          "2024-08-04T08:57:23",
          "2024-08-04T14:53:23",
          "2024-08-04T20:49:59",
          "2024-08-05T02:45:47",
          "2024-08-05T08:41:47",
          "2024-08-05T14:38:47",
          "2024-08-05T20:36:11",
          "2024-08-06T02:32:23",
          "2024-08-06T08:28:47",
          "2024-08-06T14:25:47",
          "2024-08-06T20:22:47",
          "2024-08-07T02:19:23",
          "2024-08-07T08:15:59",
          "2024-08-07T14:12:35",
          "2024-08-07T20:08:35",
          "2024-08-08T02:05:23",
          "2024-08-08T08:01:47",
          "2024-08-08T13:58:23",
          "2024-08-08T19:54:11",
          "2024-08-09T01:50:11",
          "2024-08-09T07:46:35",
          "2024-08-09T13:42:35",
          "2024-08-09T19:39:35",
          "2024-08-10T01:36:23",
          "2024-08-10T07:32:35",
          "2024-08-10T13:29:59",
          "2024-08-10T19:25:11",
          "2024-08-11T01:22:23",
          "2024-08-11T07:19:47",
          "2024-08-11T13:17:35",
          "2024-08-11T19:14:23",
          "2024-08-12T01:10:23",
          "2024-08-12T07:07:35",
          "2024-08-12T13:04:59",
          "2024-08-12T19:01:47",
          "2024-08-13T00:56:47",
          "2024-08-13T06:53:35",
          "2024-08-13T12:50:47",
          "2024-08-13T18:47:11",
          "2024-08-14T00:43:35",
          "2024-08-14T06:40:47",
          "2024-08-14T12:37:11",
          "2024-08-14T18:34:11",
          "2024-08-15T00:31:11",
          "2024-08-15T06:27:59",
          "2024-08-15T12:25:23",
          "2024-08-15T18:22:47",
          "2024-08-16T00:20:35",
          "2024-08-16T06:16:35",
          "2024-08-16T12:12:47",
          "2024-08-16T18:09:23",
          "2024-08-17T00:07:23",
          "2024-08-17T06:04:59",
          "2024-08-17T12:01:59",
          "2024-08-17T17:59:59",
          "2024-08-17T23:56:11",
          "2024-08-18T05:51:59",
          "2024-08-18T11:48:47",
          "2024-08-18T17:45:11",
          "2024-08-18T23:41:23",
          "2024-08-19T05:39:23",
          "2024-08-19T11:35:47",
          "2024-08-19T17:33:47",
          "2024-08-19T23:29:47",
          "2024-08-20T05:26:11",
          "2024-08-20T11:24:23",
          "2024-08-20T17:20:59",
          "2024-08-20T23:18:35",
          "2024-08-21T05:15:11",
          "2024-08-21T11:11:11",
          "2024-08-21T17:08:35",
          "2024-08-21T23:06:35",
          "2024-08-22T05:04:23",
          "2024-08-22T11:01:59",
          "2024-08-22T16:58:23",
          "2024-08-22T22:54:35",
          "2024-08-23T04:51:59",
          "2024-08-23T10:50:35",
          "2024-08-23T16:47:23",
          "2024-08-23T22:44:11",
          "2024-08-24T04:40:59",
          "2024-08-24T10:38:47",
          "2024-08-24T16:36:11",
          "2024-08-24T22:33:35",
          "2024-08-25T04:31:35",
          "2024-08-25T10:29:35",
          "2024-08-25T16:26:35",
          "2024-08-25T22:23:11",
          "2024-08-26T04:20:11",
          "2024-08-26T10:17:35",
          "2024-08-26T16:13:59",
          "2024-08-26T22:10:59",
          "2024-08-27T04:08:59",
          "2024-08-27T10:06:23",
          "2024-08-27T16:02:35",
          "2024-08-27T21:59:11",
          "2024-08-28T03:55:35",
          "2024-08-28T09:53:23",
          "2024-08-28T15:49:47",
          "2024-08-28T21:46:35",
          "2024-08-29T03:43:59",
          "2024-08-29T09:41:47",
          "2024-08-29T15:39:23",
          "2024-08-29T21:36:35",
          "2024-08-30T03:34:35",
          "2024-08-30T09:31:47",
          "2024-08-30T15:28:35",
          "2024-08-30T21:24:59",
          "2024-08-31T03:22:59",
          "2024-08-31T09:19:47",
          "2024-08-31T15:16:59",
          "2024-08-31T21:13:47",
          "2024-09-01T03:09:59",
          "2024-09-01T09:05:47",
          "2024-09-01T15:02:59",
          "2024-09-01T21:00:35",
          "2024-09-02T02:56:47",
          "2024-09-02T08:52:47",
          "2024-09-02T14:50:11",
          "2024-09-02T20:46:23",
          "2024-09-03T02:42:59",
          "2024-09-03T08:40:23",
          "2024-09-03T14:36:47"
         ],
         "xaxis": "x",
         "y": [
          1,
          1.000058074405066,
          1.0002748334761042,
          1.000323301596772,
          1.0003959050881264,
          1.000460788335879,
          1.0007842310038981,
          1.000847158701873,
          1.000943446378102,
          1.0012803426440102,
          1.0016226142138784,
          1.0016636115586846,
          1.0017134745960141,
          1.0014968352688578,
          1.001351972902561,
          1.0014395498764983,
          1.0014292588114884,
          1.001345455456805,
          1.001430371664363,
          1.001541609029407,
          1.001634518745181,
          1.001893441786119,
          1.0020003794187096,
          1.0021325349188268,
          1.002238631821336,
          1.0023589612049653,
          1.002466614882864,
          1.0026144655624487,
          1.0027478903074636,
          1.002820478395464,
          1.0029147576133133,
          1.0031099923974536,
          1.0031655285862946,
          1.0032012772332533,
          1.0032854723485949,
          1.0032849579019236,
          1.0033748538102447,
          1.0033204385546663,
          1.0034286823600234,
          1.0037527372618633,
          1.0038802028529925,
          1.004209071489226,
          1.0043134936024074,
          1.0046589382465256,
          1.0046676597501507,
          1.004743010423915,
          1.0047882681993947,
          1.0047847927638869,
          1.0048068150715201,
          1.0049128095403996,
          1.0049719060569298,
          1.005073461588581,
          1.0050844771954544,
          1.00506827860415,
          1.0051346990235668,
          1.0052969988612788,
          1.005366538225961,
          1.0053967618658761,
          1.0054600808173368,
          1.0056168433111883,
          1.0055985854056817,
          1.0056610979582712,
          1.0057179099641929,
          1.0058616034733268,
          1.0059598030142802,
          1.005987210737658,
          1.005877877417578,
          1.0059885197475968,
          1.0062863522003893,
          1.0064009230329503,
          1.0063801505212278,
          1.0064980706335434,
          1.0066897010022073,
          1.0067239658374911,
          1.0067926578183537,
          1.006837182938265,
          1.0066024963777762,
          0.9974740192057197,
          1.000461454608875,
          1.003076304623392,
          1.005958218840759,
          1.0059282810604633,
          1.0060123338292855,
          1.0067004205660208,
          1.0071635643880195,
          1.007250362894509,
          1.007277365063539,
          1.007342074456898,
          1.0077990008751103,
          1.0081345704157911,
          1.0082658882087565,
          1.0083097126107279,
          1.0082193756027398,
          1.0076886055765841,
          1.0078760350958829,
          1.0080946388680925,
          1.0081664988782997,
          1.008840838989686,
          1.0090319672600991,
          1.0092223597412262,
          1.0092917548242453,
          1.0093844018917617,
          1.0095659626817057,
          1.0095803028042776,
          1.0095963842193196,
          1.0097664399108706,
          1.0096509555603443,
          1.00938053675735,
          1.0094500091647811,
          1.0094106811298564,
          1.0095231568487681,
          1.0095673431691163,
          1.0096234002888163,
          1.0096841773926544,
          1.009704994633717,
          1.0100985570190837,
          1.0101655848379862,
          1.0101937110967618,
          1.010354510231348,
          1.0105774989566727,
          1.0106788447819763,
          1.0107436775262149,
          1.0107170793723097,
          1.0107364752293062,
          1.0107340231768835,
          1.010742062345487,
          1.0107964999209924,
          1.010997075968966,
          1.010992427314636,
          1.011118271263836,
          1.0111805323681795,
          1.011271447097552,
          1.0114447318562576,
          1.0114737914676828,
          1.0117278942504089,
          1.0119441589494587,
          1.0120305534825658,
          1.0120815040347635,
          1.0119755865214064,
          1.0120615082246416,
          1.0122175923008878,
          1.0122433796636816,
          1.0120685813644825,
          1.012247639600609,
          1.012315978609483,
          1.0126151798358365,
          1.012839726790872,
          1.0131371977112835,
          1.0132344244032443,
          1.0131459622121703,
          1.0132444699573842,
          1.0134018955957425,
          1.0135174309705166,
          1.0135333237163657,
          1.0136066281552878,
          1.01373514158777,
          1.0139711216638518,
          1.0139852607699824,
          1.01381249531293,
          1.0139659746674206,
          1.0138703007367023,
          1.0141130662602718,
          1.0142513440415755,
          1.0143804204491802,
          1.0144425020313024,
          1.0144830214580747,
          1.0144905706762508,
          1.0146131512505967,
          1.0147156491771554,
          1.014932302919766,
          1.0148463117929958,
          1.014920820092571,
          1.0151377989810044,
          1.0150350308917289,
          1.0150108238312692,
          1.0150851203174718,
          1.0151708036200184,
          1.015142164955979,
          1.0151588994392928,
          1.0152448700700527,
          1.0151571941346509,
          1.0151297610523309,
          1.01516702095846,
          1.0152219370700142,
          1.0152387899171693,
          1.0152654930581602,
          1.0154562685181023,
          1.0155745242362075,
          1.0156739478754573,
          1.0157563323710819,
          1.015978530265105,
          1.0159887827807776,
          1.0161525171360284,
          1.016212139671522,
          1.016238474931691,
          1.0162912742865673,
          1.0167913481790307
         ],
         "yaxis": "y"
        }
       ],
       "layout": {
        "legend": {
         "title": {
          "text": "variable"
         },
         "tracegroupgap": 0
        },
        "margin": {
         "t": 60
        },
        "template": {
         "data": {
          "bar": [
           {
            "error_x": {
             "color": "#2a3f5f"
            },
            "error_y": {
             "color": "#2a3f5f"
            },
            "marker": {
             "line": {
              "color": "#E5ECF6",
              "width": 0.5
             },
             "pattern": {
              "fillmode": "overlay",
              "size": 10,
              "solidity": 0.2
             }
            },
            "type": "bar"
           }
          ],
          "barpolar": [
           {
            "marker": {
             "line": {
              "color": "#E5ECF6",
              "width": 0.5
             },
             "pattern": {
              "fillmode": "overlay",
              "size": 10,
              "solidity": 0.2
             }
            },
            "type": "barpolar"
           }
          ],
          "carpet": [
           {
            "aaxis": {
             "endlinecolor": "#2a3f5f",
             "gridcolor": "white",
             "linecolor": "white",
             "minorgridcolor": "white",
             "startlinecolor": "#2a3f5f"
            },
            "baxis": {
             "endlinecolor": "#2a3f5f",
             "gridcolor": "white",
             "linecolor": "white",
             "minorgridcolor": "white",
             "startlinecolor": "#2a3f5f"
            },
            "type": "carpet"
           }
          ],
          "choropleth": [
           {
            "colorbar": {
             "outlinewidth": 0,
             "ticks": ""
            },
            "type": "choropleth"
           }
          ],
          "contour": [
           {
            "colorbar": {
             "outlinewidth": 0,
             "ticks": ""
            },
            "colorscale": [
             [
              0,
              "#0d0887"
             ],
             [
              0.1111111111111111,
              "#46039f"
             ],
             [
              0.2222222222222222,
              "#7201a8"
             ],
             [
              0.3333333333333333,
              "#9c179e"
             ],
             [
              0.4444444444444444,
              "#bd3786"
             ],
             [
              0.5555555555555556,
              "#d8576b"
             ],
             [
              0.6666666666666666,
              "#ed7953"
             ],
             [
              0.7777777777777778,
              "#fb9f3a"
             ],
             [
              0.8888888888888888,
              "#fdca26"
             ],
             [
              1,
              "#f0f921"
             ]
            ],
            "type": "contour"
           }
          ],
          "contourcarpet": [
           {
            "colorbar": {
             "outlinewidth": 0,
             "ticks": ""
            },
            "type": "contourcarpet"
           }
          ],
          "heatmap": [
           {
            "colorbar": {
             "outlinewidth": 0,
             "ticks": ""
            },
            "colorscale": [
             [
              0,
              "#0d0887"
             ],
             [
              0.1111111111111111,
              "#46039f"
             ],
             [
              0.2222222222222222,
              "#7201a8"
             ],
             [
              0.3333333333333333,
              "#9c179e"
             ],
             [
              0.4444444444444444,
              "#bd3786"
             ],
             [
              0.5555555555555556,
              "#d8576b"
             ],
             [
              0.6666666666666666,
              "#ed7953"
             ],
             [
              0.7777777777777778,
              "#fb9f3a"
             ],
             [
              0.8888888888888888,
              "#fdca26"
             ],
             [
              1,
              "#f0f921"
             ]
            ],
            "type": "heatmap"
           }
          ],
          "heatmapgl": [
           {
            "colorbar": {
             "outlinewidth": 0,
             "ticks": ""
            },
            "colorscale": [
             [
              0,
              "#0d0887"
             ],
             [
              0.1111111111111111,
              "#46039f"
             ],
             [
              0.2222222222222222,
              "#7201a8"
             ],
             [
              0.3333333333333333,
              "#9c179e"
             ],
             [
              0.4444444444444444,
              "#bd3786"
             ],
             [
              0.5555555555555556,
              "#d8576b"
             ],
             [
              0.6666666666666666,
              "#ed7953"
             ],
             [
              0.7777777777777778,
              "#fb9f3a"
             ],
             [
              0.8888888888888888,
              "#fdca26"
             ],
             [
              1,
              "#f0f921"
             ]
            ],
            "type": "heatmapgl"
           }
          ],
          "histogram": [
           {
            "marker": {
             "pattern": {
              "fillmode": "overlay",
              "size": 10,
              "solidity": 0.2
             }
            },
            "type": "histogram"
           }
          ],
          "histogram2d": [
           {
            "colorbar": {
             "outlinewidth": 0,
             "ticks": ""
            },
            "colorscale": [
             [
              0,
              "#0d0887"
             ],
             [
              0.1111111111111111,
              "#46039f"
             ],
             [
              0.2222222222222222,
              "#7201a8"
             ],
             [
              0.3333333333333333,
              "#9c179e"
             ],
             [
              0.4444444444444444,
              "#bd3786"
             ],
             [
              0.5555555555555556,
              "#d8576b"
             ],
             [
              0.6666666666666666,
              "#ed7953"
             ],
             [
              0.7777777777777778,
              "#fb9f3a"
             ],
             [
              0.8888888888888888,
              "#fdca26"
             ],
             [
              1,
              "#f0f921"
             ]
            ],
            "type": "histogram2d"
           }
          ],
          "histogram2dcontour": [
           {
            "colorbar": {
             "outlinewidth": 0,
             "ticks": ""
            },
            "colorscale": [
             [
              0,
              "#0d0887"
             ],
             [
              0.1111111111111111,
              "#46039f"
             ],
             [
              0.2222222222222222,
              "#7201a8"
             ],
             [
              0.3333333333333333,
              "#9c179e"
             ],
             [
              0.4444444444444444,
              "#bd3786"
             ],
             [
              0.5555555555555556,
              "#d8576b"
             ],
             [
              0.6666666666666666,
              "#ed7953"
             ],
             [
              0.7777777777777778,
              "#fb9f3a"
             ],
             [
              0.8888888888888888,
              "#fdca26"
             ],
             [
              1,
              "#f0f921"
             ]
            ],
            "type": "histogram2dcontour"
           }
          ],
          "mesh3d": [
           {
            "colorbar": {
             "outlinewidth": 0,
             "ticks": ""
            },
            "type": "mesh3d"
           }
          ],
          "parcoords": [
           {
            "line": {
             "colorbar": {
              "outlinewidth": 0,
              "ticks": ""
             }
            },
            "type": "parcoords"
           }
          ],
          "pie": [
           {
            "automargin": true,
            "type": "pie"
           }
          ],
          "scatter": [
           {
            "fillpattern": {
             "fillmode": "overlay",
             "size": 10,
             "solidity": 0.2
            },
            "type": "scatter"
           }
          ],
          "scatter3d": [
           {
            "line": {
             "colorbar": {
              "outlinewidth": 0,
              "ticks": ""
             }
            },
            "marker": {
             "colorbar": {
              "outlinewidth": 0,
              "ticks": ""
             }
            },
            "type": "scatter3d"
           }
          ],
          "scattercarpet": [
           {
            "marker": {
             "colorbar": {
              "outlinewidth": 0,
              "ticks": ""
             }
            },
            "type": "scattercarpet"
           }
          ],
          "scattergeo": [
           {
            "marker": {
             "colorbar": {
              "outlinewidth": 0,
              "ticks": ""
             }
            },
            "type": "scattergeo"
           }
          ],
          "scattergl": [
           {
            "marker": {
             "colorbar": {
              "outlinewidth": 0,
              "ticks": ""
             }
            },
            "type": "scattergl"
           }
          ],
          "scattermapbox": [
           {
            "marker": {
             "colorbar": {
              "outlinewidth": 0,
              "ticks": ""
             }
            },
            "type": "scattermapbox"
           }
          ],
          "scatterpolar": [
           {
            "marker": {
             "colorbar": {
              "outlinewidth": 0,
              "ticks": ""
             }
            },
            "type": "scatterpolar"
           }
          ],
          "scatterpolargl": [
           {
            "marker": {
             "colorbar": {
              "outlinewidth": 0,
              "ticks": ""
             }
            },
            "type": "scatterpolargl"
           }
          ],
          "scatterternary": [
           {
            "marker": {
             "colorbar": {
              "outlinewidth": 0,
              "ticks": ""
             }
            },
            "type": "scatterternary"
           }
          ],
          "surface": [
           {
            "colorbar": {
             "outlinewidth": 0,
             "ticks": ""
            },
            "colorscale": [
             [
              0,
              "#0d0887"
             ],
             [
              0.1111111111111111,
              "#46039f"
             ],
             [
              0.2222222222222222,
              "#7201a8"
             ],
             [
              0.3333333333333333,
              "#9c179e"
             ],
             [
              0.4444444444444444,
              "#bd3786"
             ],
             [
              0.5555555555555556,
              "#d8576b"
             ],
             [
              0.6666666666666666,
              "#ed7953"
             ],
             [
              0.7777777777777778,
              "#fb9f3a"
             ],
             [
              0.8888888888888888,
              "#fdca26"
             ],
             [
              1,
              "#f0f921"
             ]
            ],
            "type": "surface"
           }
          ],
          "table": [
           {
            "cells": {
             "fill": {
              "color": "#EBF0F8"
             },
             "line": {
              "color": "white"
             }
            },
            "header": {
             "fill": {
              "color": "#C8D4E3"
             },
             "line": {
              "color": "white"
             }
            },
            "type": "table"
           }
          ]
         },
         "layout": {
          "annotationdefaults": {
           "arrowcolor": "#2a3f5f",
           "arrowhead": 0,
           "arrowwidth": 1
          },
          "autotypenumbers": "strict",
          "coloraxis": {
           "colorbar": {
            "outlinewidth": 0,
            "ticks": ""
           }
          },
          "colorscale": {
           "diverging": [
            [
             0,
             "#8e0152"
            ],
            [
             0.1,
             "#c51b7d"
            ],
            [
             0.2,
             "#de77ae"
            ],
            [
             0.3,
             "#f1b6da"
            ],
            [
             0.4,
             "#fde0ef"
            ],
            [
             0.5,
             "#f7f7f7"
            ],
            [
             0.6,
             "#e6f5d0"
            ],
            [
             0.7,
             "#b8e186"
            ],
            [
             0.8,
             "#7fbc41"
            ],
            [
             0.9,
             "#4d9221"
            ],
            [
             1,
             "#276419"
            ]
           ],
           "sequential": [
            [
             0,
             "#0d0887"
            ],
            [
             0.1111111111111111,
             "#46039f"
            ],
            [
             0.2222222222222222,
             "#7201a8"
            ],
            [
             0.3333333333333333,
             "#9c179e"
            ],
            [
             0.4444444444444444,
             "#bd3786"
            ],
            [
             0.5555555555555556,
             "#d8576b"
            ],
            [
             0.6666666666666666,
             "#ed7953"
            ],
            [
             0.7777777777777778,
             "#fb9f3a"
            ],
            [
             0.8888888888888888,
             "#fdca26"
            ],
            [
             1,
             "#f0f921"
            ]
           ],
           "sequentialminus": [
            [
             0,
             "#0d0887"
            ],
            [
             0.1111111111111111,
             "#46039f"
            ],
            [
             0.2222222222222222,
             "#7201a8"
            ],
            [
             0.3333333333333333,
             "#9c179e"
            ],
            [
             0.4444444444444444,
             "#bd3786"
            ],
            [
             0.5555555555555556,
             "#d8576b"
            ],
            [
             0.6666666666666666,
             "#ed7953"
            ],
            [
             0.7777777777777778,
             "#fb9f3a"
            ],
            [
             0.8888888888888888,
             "#fdca26"
            ],
            [
             1,
             "#f0f921"
            ]
           ]
          },
          "colorway": [
           "#636efa",
           "#EF553B",
           "#00cc96",
           "#ab63fa",
           "#FFA15A",
           "#19d3f3",
           "#FF6692",
           "#B6E880",
           "#FF97FF",
           "#FECB52"
          ],
          "font": {
           "color": "#2a3f5f"
          },
          "geo": {
           "bgcolor": "white",
           "lakecolor": "white",
           "landcolor": "#E5ECF6",
           "showlakes": true,
           "showland": true,
           "subunitcolor": "white"
          },
          "hoverlabel": {
           "align": "left"
          },
          "hovermode": "closest",
          "mapbox": {
           "style": "light"
          },
          "paper_bgcolor": "white",
          "plot_bgcolor": "#E5ECF6",
          "polar": {
           "angularaxis": {
            "gridcolor": "white",
            "linecolor": "white",
            "ticks": ""
           },
           "bgcolor": "#E5ECF6",
           "radialaxis": {
            "gridcolor": "white",
            "linecolor": "white",
            "ticks": ""
           }
          },
          "scene": {
           "xaxis": {
            "backgroundcolor": "#E5ECF6",
            "gridcolor": "white",
            "gridwidth": 2,
            "linecolor": "white",
            "showbackground": true,
            "ticks": "",
            "zerolinecolor": "white"
           },
           "yaxis": {
            "backgroundcolor": "#E5ECF6",
            "gridcolor": "white",
            "gridwidth": 2,
            "linecolor": "white",
            "showbackground": true,
            "ticks": "",
            "zerolinecolor": "white"
           },
           "zaxis": {
            "backgroundcolor": "#E5ECF6",
            "gridcolor": "white",
            "gridwidth": 2,
            "linecolor": "white",
            "showbackground": true,
            "ticks": "",
            "zerolinecolor": "white"
           }
          },
          "shapedefaults": {
           "line": {
            "color": "#2a3f5f"
           }
          },
          "ternary": {
           "aaxis": {
            "gridcolor": "white",
            "linecolor": "white",
            "ticks": ""
           },
           "baxis": {
            "gridcolor": "white",
            "linecolor": "white",
            "ticks": ""
           },
           "bgcolor": "#E5ECF6",
           "caxis": {
            "gridcolor": "white",
            "linecolor": "white",
            "ticks": ""
           }
          },
          "title": {
           "x": 0.05
          },
          "xaxis": {
           "automargin": true,
           "gridcolor": "white",
           "linecolor": "white",
           "ticks": "",
           "title": {
            "standoff": 15
           },
           "zerolinecolor": "white",
           "zerolinewidth": 2
          },
          "yaxis": {
           "automargin": true,
           "gridcolor": "white",
           "linecolor": "white",
           "ticks": "",
           "title": {
            "standoff": 15
           },
           "zerolinecolor": "white",
           "zerolinewidth": 2
          }
         }
        },
        "xaxis": {
         "anchor": "y",
         "domain": [
          0,
          1
         ],
         "title": {
          "text": "timestamp"
         }
        },
        "yaxis": {
         "anchor": "x",
         "domain": [
          0,
          1
         ],
         "title": {
          "text": "value"
         }
        }
       }
      }
     },
     "metadata": {},
     "output_type": "display_data"
    }
   ],
   "source": [
    "def transform_groth_of_a_dollar_df_to_growth_of_1_ETH_with_no_entrance_costs(raw_growth_of_a_dollar_df:pd.DataFrame, mock_date_deployed:str = '2024, 7, 17'):\n",
    "    growth_of_a_dollar_df =  raw_growth_of_a_dollar_df[raw_growth_of_a_dollar_df.index > mock_date_deployed].copy()\n",
    "    growth_of_a_dollar_df['starting_quantity_of_lp_tokens'] = 1 / growth_of_a_dollar_df['safeLPTokenPriceInETH'].values[0] # constant\n",
    "    growth_of_a_dollar_df['safe_value_of_lp_tokens'] = growth_of_a_dollar_df['starting_quantity_of_lp_tokens'] * growth_of_a_dollar_df['safeLPTokenPriceInETH']\n",
    "\n",
    "    _add_BAL_and_AURA_minted_eth_value(growth_of_a_dollar_df)\n",
    "    _add_extra_rewarders_incentive_eth_value(growth_of_a_dollar_df)\n",
    "    growth_of_a_dollar_df['total_cumulative_incentive_tokens_current_eth_value'] = growth_of_a_dollar_df['extra_rewarder_cumulative_incentive_eth_value'] + growth_of_a_dollar_df['main_rewarder_cumulative_incentive_eth_value']\n",
    "    growth_of_a_dollar_df['growth_of_1_ETH'] = growth_of_a_dollar_df['safe_value_of_lp_tokens'] + growth_of_a_dollar_df['total_cumulative_incentive_tokens_current_eth_value']\n",
    "    return growth_of_a_dollar_df\n",
    "\n",
    "\n",
    "\n",
    "def _add_BAL_and_AURA_minted_eth_value(growth_of_a_dollar_df:pd.DataFrame):\n",
    "    starting_mintedBAL_rewardPerToken  = growth_of_a_dollar_df['mintedBAL_rewardPerToken'].values[0]\n",
    "    growth_of_a_dollar_df['BAL_minted_since_start_date'] = growth_of_a_dollar_df['starting_quantity_of_lp_tokens'] * (growth_of_a_dollar_df['mintedBAL_rewardPerToken'] - starting_mintedBAL_rewardPerToken)\n",
    "    growth_of_a_dollar_df['AURA_minted_since_start_date'] = growth_of_a_dollar_df['BAL_minted_since_start_date'] * growth_of_a_dollar_df['AURA_minted_for_one_BAL']\n",
    "    growth_of_a_dollar_df['main_rewarder_cumulative_incentive_eth_value'] = (growth_of_a_dollar_df['BAL_minted_since_start_date'] * growth_of_a_dollar_df['BAL_to_ETH']) + (growth_of_a_dollar_df['AURA_minted_since_start_date'] * growth_of_a_dollar_df['AURA_to_ETH'])\n",
    "    \n",
    "\n",
    "def _add_extra_rewarders_incentive_eth_value(growth_of_a_dollar_df:pd.DataFrame):\n",
    "    \n",
    "    extra_reward_per_token_cols = [c for c in growth_of_a_dollar_df.columns if 'extraRewardPerToken' in c] # format like AURA|| 0 extraRewardPerToken\n",
    "    extra_reward_to_eth_cols = [f\"{c.split('||')[0]}_to_ETH\" for c in extra_reward_per_token_cols]\n",
    "    print(f'{extra_reward_per_token_cols=} {extra_reward_to_eth_cols=}')\n",
    "    growth_of_a_dollar_df['extra_rewarder_cumulative_incentive_eth_value'] = 0.0\n",
    "    for extra_rewardPerToken_col, ETH_price_col in zip(extra_reward_per_token_cols, extra_reward_to_eth_cols):\n",
    "        starting_rewardPerToken = growth_of_a_dollar_df[extra_rewardPerToken_col].values[0]\n",
    "        extra_rewards_minted_since_start = growth_of_a_dollar_df['starting_quantity_of_lp_tokens'] * (growth_of_a_dollar_df[extra_rewardPerToken_col] - starting_rewardPerToken)\n",
    "        growth_of_a_dollar_df['extra_rewarder_cumulative_incentive_eth_value'] += extra_rewards_minted_since_start * growth_of_a_dollar_df[ETH_price_col]\n",
    "        \n",
    "growth_of_a_dollar_df = transform_groth_of_a_dollar_df_to_growth_of_1_ETH_with_no_entrance_costs(raw_growth_of_a_dollar_df)\n",
    "px.line(growth_of_a_dollar_df['growth_of_1_ETH'])"
   ]
  },
  {
   "cell_type": "code",
   "execution_count": 49,
   "metadata": {},
   "outputs": [
    {
     "data": {
      "text/plain": [
       "timestamp\n",
       "2024-07-17 00:53:47    1.000000\n",
       "2024-07-17 06:50:11    0.999990\n",
       "2024-07-17 12:46:35    1.000138\n",
       "2024-07-17 18:43:35    1.000117\n",
       "2024-07-18 00:40:11    1.000117\n",
       "                         ...   \n",
       "2024-09-02 14:50:11    1.003516\n",
       "2024-09-02 20:46:23    1.003516\n",
       "2024-09-03 02:42:59    1.003438\n",
       "2024-09-03 08:40:23    1.003431\n",
       "2024-09-03 14:36:47    1.003474\n",
       "Name: safe_value_of_lp_tokens, Length: 197, dtype: float64"
      ]
     },
     "execution_count": 49,
     "metadata": {},
     "output_type": "execute_result"
    }
   ],
   "source": [
    "growth_of_a_dollar_df['safe_value_of_lp_tokens']"
   ]
  },
  {
   "cell_type": "code",
   "execution_count": 34,
   "metadata": {},
   "outputs": [
    {
     "data": {
      "text/plain": [
       "Index(['AURA', 'BAL', 'mintedBAL_rewardPerToken', 'AURA_minted_for_one_BAL',\n",
       "       'AURA 0 rewardPerToken', 'safeLPTokenPriceInETH'],\n",
       "      dtype='object')"
      ]
     },
     "execution_count": 34,
     "metadata": {},
     "output_type": "execute_result"
    }
   ],
   "source": [
    "raw_growth_of_a_dollar_df.columns"
   ]
  },
  {
   "cell_type": "code",
   "execution_count": 3,
   "metadata": {},
   "outputs": [],
   "source": []
  },
  {
   "cell_type": "code",
   "execution_count": 4,
   "metadata": {},
   "outputs": [
    {
     "data": {
      "application/vnd.plotly.v1+json": {
       "config": {
        "plotlyServerURL": "https://plot.ly"
       },
       "data": [
        {
         "hovertemplate": "variable=wstETH_ETHx_balancer_value_of_one_eth<br>timestamp=%{x}<br>value=%{y}<extra></extra>",
         "legendgroup": "wstETH_ETHx_balancer_value_of_one_eth",
         "line": {
          "color": "#636efa",
          "dash": "solid"
         },
         "marker": {
          "symbol": "circle"
         },
         "mode": "lines",
         "name": "wstETH_ETHx_balancer_value_of_one_eth",
         "orientation": "v",
         "showlegend": true,
         "type": "scatter",
         "x": [
          "2024-07-17T00:53:47",
          "2024-07-17T06:50:11",
          "2024-07-17T12:46:35",
          "2024-07-17T18:43:35",
          "2024-07-18T00:40:11",
          "2024-07-18T06:37:35",
          "2024-07-18T12:34:59",
          "2024-07-18T18:31:35",
          "2024-07-19T00:27:59",
          "2024-07-19T06:24:23",
          "2024-07-19T12:20:35",
          "2024-07-19T18:17:11",
          "2024-07-20T00:13:23",
          "2024-07-20T06:10:35",
          "2024-07-20T12:07:35",
          "2024-07-20T18:04:23",
          "2024-07-21T00:00:47",
          "2024-07-21T05:57:23",
          "2024-07-21T11:53:23",
          "2024-07-21T17:50:35",
          "2024-07-21T23:47:35",
          "2024-07-22T05:44:23",
          "2024-07-22T11:41:35",
          "2024-07-22T17:38:59",
          "2024-07-22T23:35:47",
          "2024-07-23T05:32:47",
          "2024-07-23T11:29:35",
          "2024-07-23T17:25:47",
          "2024-07-23T23:22:35",
          "2024-07-24T05:18:47",
          "2024-07-24T11:15:11",
          "2024-07-24T17:12:23",
          "2024-07-24T23:09:59",
          "2024-07-25T05:06:35",
          "2024-07-25T11:02:47",
          "2024-07-25T16:59:47",
          "2024-07-25T22:57:23",
          "2024-07-26T04:54:47",
          "2024-07-26T10:50:47",
          "2024-07-26T16:47:47",
          "2024-07-26T22:44:47",
          "2024-07-27T04:42:11",
          "2024-07-27T10:39:11",
          "2024-07-27T16:35:11",
          "2024-07-27T22:32:35",
          "2024-07-28T04:29:59",
          "2024-07-28T10:26:35",
          "2024-07-28T16:22:35",
          "2024-07-28T22:18:11",
          "2024-07-29T04:15:11",
          "2024-07-29T10:11:59",
          "2024-07-29T16:07:47",
          "2024-07-29T22:03:47",
          "2024-07-30T04:01:23",
          "2024-07-30T10:01:11",
          "2024-07-30T15:58:35",
          "2024-07-30T21:55:35",
          "2024-07-31T03:52:11",
          "2024-07-31T09:48:35",
          "2024-07-31T15:45:11",
          "2024-07-31T21:42:47",
          "2024-08-01T03:39:11",
          "2024-08-01T09:35:35",
          "2024-08-01T15:32:35",
          "2024-08-01T21:29:23",
          "2024-08-02T03:26:11",
          "2024-08-02T09:22:59",
          "2024-08-02T15:19:59",
          "2024-08-02T21:18:11",
          "2024-08-03T03:15:11",
          "2024-08-03T09:12:35",
          "2024-08-03T15:08:47",
          "2024-08-03T21:05:11",
          "2024-08-04T03:01:47",
          "2024-08-04T08:57:23",
          "2024-08-04T14:53:23",
          "2024-08-04T20:49:59",
          "2024-08-05T02:45:47",
          "2024-08-05T08:41:47",
          "2024-08-05T14:38:47",
          "2024-08-05T20:36:11",
          "2024-08-06T02:32:23",
          "2024-08-06T08:28:47",
          "2024-08-06T14:25:47",
          "2024-08-06T20:22:47",
          "2024-08-07T02:19:23",
          "2024-08-07T08:15:59",
          "2024-08-07T14:12:35",
          "2024-08-07T20:08:35",
          "2024-08-08T02:05:23",
          "2024-08-08T08:01:47",
          "2024-08-08T13:58:23",
          "2024-08-08T19:54:11",
          "2024-08-09T01:50:11",
          "2024-08-09T07:46:35",
          "2024-08-09T13:42:35",
          "2024-08-09T19:39:35",
          "2024-08-10T01:36:23",
          "2024-08-10T07:32:35",
          "2024-08-10T13:29:59",
          "2024-08-10T19:25:11",
          "2024-08-11T01:22:23",
          "2024-08-11T07:19:47",
          "2024-08-11T13:17:35",
          "2024-08-11T19:14:23",
          "2024-08-12T01:10:23",
          "2024-08-12T07:07:35",
          "2024-08-12T13:04:59",
          "2024-08-12T19:01:47",
          "2024-08-13T00:56:47",
          "2024-08-13T06:53:35",
          "2024-08-13T12:50:47",
          "2024-08-13T18:47:11",
          "2024-08-14T00:43:35",
          "2024-08-14T06:40:47",
          "2024-08-14T12:37:11",
          "2024-08-14T18:34:11",
          "2024-08-15T00:31:11",
          "2024-08-15T06:27:59",
          "2024-08-15T12:25:23",
          "2024-08-15T18:22:47",
          "2024-08-16T00:20:35",
          "2024-08-16T06:16:35",
          "2024-08-16T12:12:47",
          "2024-08-16T18:09:23",
          "2024-08-17T00:07:23",
          "2024-08-17T06:04:59",
          "2024-08-17T12:01:59",
          "2024-08-17T17:59:59",
          "2024-08-17T23:56:11",
          "2024-08-18T05:51:59",
          "2024-08-18T11:48:47",
          "2024-08-18T17:45:11",
          "2024-08-18T23:41:23",
          "2024-08-19T05:39:23",
          "2024-08-19T11:35:47",
          "2024-08-19T17:33:47",
          "2024-08-19T23:29:47",
          "2024-08-20T05:26:11",
          "2024-08-20T11:24:23",
          "2024-08-20T17:20:59",
          "2024-08-20T23:18:35",
          "2024-08-21T05:15:11",
          "2024-08-21T11:11:11",
          "2024-08-21T17:08:35",
          "2024-08-21T23:06:35",
          "2024-08-22T05:04:23",
          "2024-08-22T11:01:59",
          "2024-08-22T16:58:23",
          "2024-08-22T22:54:35",
          "2024-08-23T04:51:59",
          "2024-08-23T10:50:35",
          "2024-08-23T16:47:23",
          "2024-08-23T22:44:11",
          "2024-08-24T04:40:59",
          "2024-08-24T10:38:47",
          "2024-08-24T16:36:11",
          "2024-08-24T22:33:35",
          "2024-08-25T04:31:35",
          "2024-08-25T10:29:35",
          "2024-08-25T16:26:35",
          "2024-08-25T22:23:11",
          "2024-08-26T04:20:11",
          "2024-08-26T10:17:35",
          "2024-08-26T16:13:59",
          "2024-08-26T22:10:59",
          "2024-08-27T04:08:59",
          "2024-08-27T10:06:23",
          "2024-08-27T16:02:35",
          "2024-08-27T21:59:11",
          "2024-08-28T03:55:35",
          "2024-08-28T09:53:23",
          "2024-08-28T15:49:47",
          "2024-08-28T21:46:35",
          "2024-08-29T03:43:59",
          "2024-08-29T09:41:47",
          "2024-08-29T15:39:23",
          "2024-08-29T21:36:35",
          "2024-08-30T03:34:35",
          "2024-08-30T09:31:47",
          "2024-08-30T15:28:35"
         ],
         "xaxis": "x",
         "y": [
          1,
          1.000058074405066,
          1.0002748334761042,
          1.000323301596772,
          1.0003959050881264,
          1.000460788335879,
          1.0007842310038981,
          1.000847158701873,
          1.000943446378102,
          1.0012803426440102,
          1.0016226142138784,
          1.0016636115586846,
          1.0017134745960141,
          1.0014968352688578,
          1.001351972902561,
          1.0014395498764983,
          1.0014292588114884,
          1.001345455456805,
          1.001430371664363,
          1.001541609029407,
          1.001634518745181,
          1.001893441786119,
          1.0020003794187096,
          1.0021325349188268,
          1.002238631821336,
          1.0023589612049653,
          1.002466614882864,
          1.0026144655624487,
          1.0027478903074636,
          1.002820478395464,
          1.0029147576133133,
          1.0031099923974536,
          1.0031655285862946,
          1.0032012772332533,
          1.0032854723485949,
          1.0032849579019236,
          1.0033748538102447,
          1.0033204385546663,
          1.0034286823600234,
          1.0037527372618633,
          1.0038802028529925,
          1.004209071489226,
          1.0043134936024074,
          1.0046589382465256,
          1.0046676597501507,
          1.004743010423915,
          1.0047882681993947,
          1.0047847927638869,
          1.0048068150715201,
          1.0049128095403996,
          1.0049719060569298,
          1.005073461588581,
          1.0050844771954544,
          1.00506827860415,
          1.0051346990235668,
          1.0052969988612788,
          1.005366538225961,
          1.0053967618658761,
          1.0054600808173368,
          1.0056168433111883,
          1.0055985854056817,
          1.0056610979582712,
          1.0057179099641929,
          1.0058616034733268,
          1.0059598030142802,
          1.005987210737658,
          1.005877877417578,
          1.0059885197475968,
          1.0062863522003893,
          1.0064009230329503,
          1.0063801505212278,
          1.0064980706335434,
          1.0066897010022073,
          1.0067239658374911,
          1.0067926578183537,
          1.006837182938265,
          1.0066024963777762,
          0.9974740192057197,
          1.000461454608875,
          1.003076304623392,
          1.005958218840759,
          1.0059282810604633,
          1.0060123338292855,
          1.0067004205660208,
          1.0071635643880195,
          1.007250362894509,
          1.007277365063539,
          1.007342074456898,
          1.0077990008751103,
          1.0081345704157911,
          1.0082658882087565,
          1.0083097126107279,
          1.0082193756027398,
          1.0076886055765841,
          1.0078760350958829,
          1.0080946388680925,
          1.0081664988782997,
          1.008840838989686,
          1.0090319672600991,
          1.0092223597412262,
          1.0092917548242453,
          1.0093844018917617,
          1.0095659626817057,
          1.0095803028042776,
          1.0095963842193196,
          1.0097664399108706,
          1.0096509555603443,
          1.00938053675735,
          1.0094500091647811,
          1.0094106811298564,
          1.0095231568487681,
          1.0095673431691163,
          1.0096234002888163,
          1.0096841773926544,
          1.009704994633717,
          1.0100985570190837,
          1.0101655848379862,
          1.0101937110967618,
          1.010354510231348,
          1.0105774989566727,
          1.0106788447819763,
          1.0107436775262149,
          1.0107170793723097,
          1.0107364752293062,
          1.0107340231768835,
          1.010742062345487,
          1.0107964999209924,
          1.010997075968966,
          1.010992427314636,
          1.011118271263836,
          1.0111805323681795,
          1.011271447097552,
          1.0114447318562576,
          1.0114737914676828,
          1.0117278942504089,
          1.0119441589494587,
          1.0120305534825658,
          1.0120815040347635,
          1.0119755865214064,
          1.0120615082246416,
          1.0122175923008878,
          1.0122433796636816,
          1.0120685813644825,
          1.012247639600609,
          1.012315978609483,
          1.0126151798358365,
          1.012839726790872,
          1.0131371977112835,
          1.0132344244032443,
          1.0131459622121703,
          1.0132444699573842,
          1.0134018955957425,
          1.0135174309705166,
          1.0135333237163657,
          1.0136066281552878,
          1.01373514158777,
          1.0139711216638518,
          1.0139852607699824,
          1.01381249531293,
          1.0139659746674206,
          1.0138703007367023,
          1.0141130662602718,
          1.0142513440415755,
          1.0143804204491802,
          1.0144425020313024,
          1.0144830214580747,
          1.0144905706762508,
          1.0146131512505967,
          1.0147156491771554,
          1.014932302919766,
          1.0148463117929958,
          1.014920820092571,
          1.0151377989810044,
          1.0150350308917289,
          1.0150108238312692,
          1.0150851203174718,
          1.0151708036200184,
          1.015142164955979,
          1.0151588994392928,
          1.0152448700700527,
          1.0151571941346509
         ],
         "yaxis": "y"
        },
        {
         "hovertemplate": "variable=our_nav_per_share<br>timestamp=%{x}<br>value=%{y}<extra></extra>",
         "legendgroup": "our_nav_per_share",
         "line": {
          "color": "#EF553B",
          "dash": "solid"
         },
         "marker": {
          "symbol": "circle"
         },
         "mode": "lines",
         "name": "our_nav_per_share",
         "orientation": "v",
         "showlegend": true,
         "type": "scatter",
         "x": [
          "2024-07-17T00:53:47",
          "2024-07-17T06:50:11",
          "2024-07-17T12:46:35",
          "2024-07-17T18:43:35",
          "2024-07-18T00:40:11",
          "2024-07-18T06:37:35",
          "2024-07-18T12:34:59",
          "2024-07-18T18:31:35",
          "2024-07-19T00:27:59",
          "2024-07-19T06:24:23",
          "2024-07-19T12:20:35",
          "2024-07-19T18:17:11",
          "2024-07-20T00:13:23",
          "2024-07-20T06:10:35",
          "2024-07-20T12:07:35",
          "2024-07-20T18:04:23",
          "2024-07-21T00:00:47",
          "2024-07-21T05:57:23",
          "2024-07-21T11:53:23",
          "2024-07-21T17:50:35",
          "2024-07-21T23:47:35",
          "2024-07-22T05:44:23",
          "2024-07-22T11:41:35",
          "2024-07-22T17:38:59",
          "2024-07-22T23:35:47",
          "2024-07-23T05:32:47",
          "2024-07-23T11:29:35",
          "2024-07-23T17:25:47",
          "2024-07-23T23:22:35",
          "2024-07-24T05:18:47",
          "2024-07-24T11:15:11",
          "2024-07-24T17:12:23",
          "2024-07-24T23:09:59",
          "2024-07-25T05:06:35",
          "2024-07-25T11:02:47",
          "2024-07-25T16:59:47",
          "2024-07-25T22:57:23",
          "2024-07-26T04:54:47",
          "2024-07-26T10:50:47",
          "2024-07-26T16:47:47",
          "2024-07-26T22:44:47",
          "2024-07-27T04:42:11",
          "2024-07-27T10:39:11",
          "2024-07-27T16:35:11",
          "2024-07-27T22:32:35",
          "2024-07-28T04:29:59",
          "2024-07-28T10:26:35",
          "2024-07-28T16:22:35",
          "2024-07-28T22:18:11",
          "2024-07-29T04:15:11",
          "2024-07-29T10:11:59",
          "2024-07-29T16:07:47",
          "2024-07-29T22:03:47",
          "2024-07-30T04:01:23",
          "2024-07-30T10:01:11",
          "2024-07-30T15:58:35",
          "2024-07-30T21:55:35",
          "2024-07-31T03:52:11",
          "2024-07-31T09:48:35",
          "2024-07-31T15:45:11",
          "2024-07-31T21:42:47",
          "2024-08-01T03:39:11",
          "2024-08-01T09:35:35",
          "2024-08-01T15:32:35",
          "2024-08-01T21:29:23",
          "2024-08-02T03:26:11",
          "2024-08-02T09:22:59",
          "2024-08-02T15:19:59",
          "2024-08-02T21:18:11",
          "2024-08-03T03:15:11",
          "2024-08-03T09:12:35",
          "2024-08-03T15:08:47",
          "2024-08-03T21:05:11",
          "2024-08-04T03:01:47",
          "2024-08-04T08:57:23",
          "2024-08-04T14:53:23",
          "2024-08-04T20:49:59",
          "2024-08-05T02:45:47",
          "2024-08-05T08:41:47",
          "2024-08-05T14:38:47",
          "2024-08-05T20:36:11",
          "2024-08-06T02:32:23",
          "2024-08-06T08:28:47",
          "2024-08-06T14:25:47",
          "2024-08-06T20:22:47",
          "2024-08-07T02:19:23",
          "2024-08-07T08:15:59",
          "2024-08-07T14:12:35",
          "2024-08-07T20:08:35",
          "2024-08-08T02:05:23",
          "2024-08-08T08:01:47",
          "2024-08-08T13:58:23",
          "2024-08-08T19:54:11",
          "2024-08-09T01:50:11",
          "2024-08-09T07:46:35",
          "2024-08-09T13:42:35",
          "2024-08-09T19:39:35",
          "2024-08-10T01:36:23",
          "2024-08-10T07:32:35",
          "2024-08-10T13:29:59",
          "2024-08-10T19:25:11",
          "2024-08-11T01:22:23",
          "2024-08-11T07:19:47",
          "2024-08-11T13:17:35",
          "2024-08-11T19:14:23",
          "2024-08-12T01:10:23",
          "2024-08-12T07:07:35",
          "2024-08-12T13:04:59",
          "2024-08-12T19:01:47",
          "2024-08-13T00:56:47",
          "2024-08-13T06:53:35",
          "2024-08-13T12:50:47",
          "2024-08-13T18:47:11",
          "2024-08-14T00:43:35",
          "2024-08-14T06:40:47",
          "2024-08-14T12:37:11",
          "2024-08-14T18:34:11",
          "2024-08-15T00:31:11",
          "2024-08-15T06:27:59",
          "2024-08-15T12:25:23",
          "2024-08-15T18:22:47",
          "2024-08-16T00:20:35",
          "2024-08-16T06:16:35",
          "2024-08-16T12:12:47",
          "2024-08-16T18:09:23",
          "2024-08-17T00:07:23",
          "2024-08-17T06:04:59",
          "2024-08-17T12:01:59",
          "2024-08-17T17:59:59",
          "2024-08-17T23:56:11",
          "2024-08-18T05:51:59",
          "2024-08-18T11:48:47",
          "2024-08-18T17:45:11",
          "2024-08-18T23:41:23",
          "2024-08-19T05:39:23",
          "2024-08-19T11:35:47",
          "2024-08-19T17:33:47",
          "2024-08-19T23:29:47",
          "2024-08-20T05:26:11",
          "2024-08-20T11:24:23",
          "2024-08-20T17:20:59",
          "2024-08-20T23:18:35",
          "2024-08-21T05:15:11",
          "2024-08-21T11:11:11",
          "2024-08-21T17:08:35",
          "2024-08-21T23:06:35",
          "2024-08-22T05:04:23",
          "2024-08-22T11:01:59",
          "2024-08-22T16:58:23",
          "2024-08-22T22:54:35",
          "2024-08-23T04:51:59",
          "2024-08-23T10:50:35",
          "2024-08-23T16:47:23",
          "2024-08-23T22:44:11",
          "2024-08-24T04:40:59",
          "2024-08-24T10:38:47",
          "2024-08-24T16:36:11",
          "2024-08-24T22:33:35",
          "2024-08-25T04:31:35",
          "2024-08-25T10:29:35",
          "2024-08-25T16:26:35",
          "2024-08-25T22:23:11",
          "2024-08-26T04:20:11",
          "2024-08-26T10:17:35",
          "2024-08-26T16:13:59",
          "2024-08-26T22:10:59",
          "2024-08-27T04:08:59",
          "2024-08-27T10:06:23",
          "2024-08-27T16:02:35",
          "2024-08-27T21:59:11",
          "2024-08-28T03:55:35",
          "2024-08-28T09:53:23",
          "2024-08-28T15:49:47",
          "2024-08-28T21:46:35",
          "2024-08-29T03:43:59",
          "2024-08-29T09:41:47",
          "2024-08-29T15:39:23",
          "2024-08-29T21:36:35",
          "2024-08-30T03:34:35",
          "2024-08-30T09:31:47",
          "2024-08-30T15:28:35"
         ],
         "xaxis": "x",
         "y": [
          1,
          1,
          1,
          0.999585498722691,
          0.999585498722691,
          0.999585498722691,
          0.999585498722691,
          0.9996175106451749,
          0.9996957706437537,
          0.9997740428972337,
          0.9998522834743535,
          0.9999568266951843,
          1.0001496307666868,
          1.0003735254564217,
          1.0005973949660925,
          1.000813541841201,
          1.0003635674784512,
          1.0003635674784512,
          1.0003635674784512,
          1.0003635674784512,
          1.0002117561125534,
          1.0002117561125534,
          1.0002117561125534,
          1.0002117561125534,
          1.0003618341411933,
          1.0006639879219463,
          1.0009661548583573,
          1.0012679957498922,
          1.0012904112617997,
          1.0012904112617997,
          1.0012904112617997,
          1.0012904112617997,
          1.0012969911368126,
          1.0013126132104264,
          1.0013282182473358,
          1.0013438588200976,
          1.0013592409854248,
          1.001374166759415,
          1.0013890345088154,
          1.0014039444649188,
          1.001583281589709,
          1.002063617405976,
          1.0025438757960232,
          1.0030232475575083,
          1.0033680577578001,
          1.0034220372728686,
          1.0034759017496575,
          1.003529681365064,
          1.0034011201498336,
          1.0034011201498336,
          1.0034011201498336,
          1.0034011201498336,
          1.0034706948273227,
          1.0037621334245197,
          1.0040555358891934,
          1.0043471511118047,
          1.0045856395484274,
          1.004632898964432,
          1.0046801363178586,
          1.004727404625444,
          1.0047690817313923,
          1.0047845304321827,
          1.0047999796080394,
          1.0048154552688984,
          1.0048579503249113,
          1.0050634225581578,
          1.0052689788380562,
          1.0054747345090487,
          1.0056591267360915,
          1.0056666800989056,
          1.0056742420385274,
          1.0056817787014631,
          1.0053998941053282,
          1.0053998941053282,
          1.0053998941053282,
          1.0053998941053282,
          1.0052081202254741,
          1.0052081202254741,
          1.0052081202254741,
          1.0052081202254741,
          1.0052081202254741,
          1.0008006134430174,
          1.0008006134430174,
          1.0008006134430174,
          1.0008006134430174,
          1.0017983213221042,
          1.0028438021995996,
          1.0038914674931088,
          1.004702997806083,
          1.0049891423195747,
          1.0051566434659942,
          1.0051603574165877,
          1.0052284769040445,
          1.005296643923685,
          1.0053648967968458,
          1.0054334743974558,
          1.005554159470746,
          1.0056748058848355,
          1.0057952782989787,
          1.0059161855848193,
          1.005908428739,
          1.005908428739,
          1.005908428739,
          1.005908428739,
          1.005981084234808,
          1.0060580759147186,
          1.0061353389626597,
          1.0062126571491319,
          1.0062280539009552,
          1.0062383324216355,
          1.0062486632703487,
          1.0062590059132195,
          1.006386213400702,
          1.0065516769043557,
          1.0067175664199965,
          1.0068831389083854,
          1.0069403941938493,
          1.0069545977019216,
          1.006968793653214,
          1.0069830138779037,
          1.0070045608447147,
          1.0070296769856695,
          1.0070546680172208,
          1.0070796743301373,
          1.0071470709867472,
          1.007238097210957,
          1.007205056070343,
          1.007205056070343,
          1.007205056070343,
          1.007205056070343,
          1.007332443373526,
          1.0075117242437268,
          1.0076908678457985,
          1.0078699745823665,
          1.0079629473004381,
          1.0080134215421226,
          1.008064127469122,
          1.0081145551816737,
          1.0081743840082351,
          1.0082401684278202,
          1.0083056675311062,
          1.0083713588575973,
          1.0084184795775333,
          1.0084536826178183,
          1.0084890265694468,
          1.0085244323399685,
          1.0086996412543496,
          1.0089782325580547,
          1.0092560421474994,
          1.0095338487354528,
          1.0097127566672026,
          1.009808122492851,
          1.0099042557470832,
          1.010056855612794,
          1.010209501602161,
          1.0103626217497699,
          1.0104079718528933,
          1.0104555867228335,
          1.0105035814762797,
          1.010551580789265,
          1.010599450567056,
          1.0106142073359625,
          1.0106279118830863,
          1.010641632157759,
          1.0106553144142782,
          1.010809125014451,
          1.0109737252429236,
          1.0111381030861204,
          1.0113019822104155,
          1.011392722733393,
          1.0114753206765879,
          1.011558256650444,
          1.0116408816344473,
          1.0116652936428154,
          1.0116806257870128,
          1.0116959755563726,
          1.0117113172110552,
          1.011656633380892,
          1.011656633380892,
          1.011656633380892,
          1.011656633380892
         ],
         "yaxis": "y"
        }
       ],
       "layout": {
        "legend": {
         "title": {
          "text": "variable"
         },
         "tracegroupgap": 0
        },
        "template": {
         "data": {
          "bar": [
           {
            "error_x": {
             "color": "#2a3f5f"
            },
            "error_y": {
             "color": "#2a3f5f"
            },
            "marker": {
             "line": {
              "color": "#E5ECF6",
              "width": 0.5
             },
             "pattern": {
              "fillmode": "overlay",
              "size": 10,
              "solidity": 0.2
             }
            },
            "type": "bar"
           }
          ],
          "barpolar": [
           {
            "marker": {
             "line": {
              "color": "#E5ECF6",
              "width": 0.5
             },
             "pattern": {
              "fillmode": "overlay",
              "size": 10,
              "solidity": 0.2
             }
            },
            "type": "barpolar"
           }
          ],
          "carpet": [
           {
            "aaxis": {
             "endlinecolor": "#2a3f5f",
             "gridcolor": "white",
             "linecolor": "white",
             "minorgridcolor": "white",
             "startlinecolor": "#2a3f5f"
            },
            "baxis": {
             "endlinecolor": "#2a3f5f",
             "gridcolor": "white",
             "linecolor": "white",
             "minorgridcolor": "white",
             "startlinecolor": "#2a3f5f"
            },
            "type": "carpet"
           }
          ],
          "choropleth": [
           {
            "colorbar": {
             "outlinewidth": 0,
             "ticks": ""
            },
            "type": "choropleth"
           }
          ],
          "contour": [
           {
            "colorbar": {
             "outlinewidth": 0,
             "ticks": ""
            },
            "colorscale": [
             [
              0,
              "#0d0887"
             ],
             [
              0.1111111111111111,
              "#46039f"
             ],
             [
              0.2222222222222222,
              "#7201a8"
             ],
             [
              0.3333333333333333,
              "#9c179e"
             ],
             [
              0.4444444444444444,
              "#bd3786"
             ],
             [
              0.5555555555555556,
              "#d8576b"
             ],
             [
              0.6666666666666666,
              "#ed7953"
             ],
             [
              0.7777777777777778,
              "#fb9f3a"
             ],
             [
              0.8888888888888888,
              "#fdca26"
             ],
             [
              1,
              "#f0f921"
             ]
            ],
            "type": "contour"
           }
          ],
          "contourcarpet": [
           {
            "colorbar": {
             "outlinewidth": 0,
             "ticks": ""
            },
            "type": "contourcarpet"
           }
          ],
          "heatmap": [
           {
            "colorbar": {
             "outlinewidth": 0,
             "ticks": ""
            },
            "colorscale": [
             [
              0,
              "#0d0887"
             ],
             [
              0.1111111111111111,
              "#46039f"
             ],
             [
              0.2222222222222222,
              "#7201a8"
             ],
             [
              0.3333333333333333,
              "#9c179e"
             ],
             [
              0.4444444444444444,
              "#bd3786"
             ],
             [
              0.5555555555555556,
              "#d8576b"
             ],
             [
              0.6666666666666666,
              "#ed7953"
             ],
             [
              0.7777777777777778,
              "#fb9f3a"
             ],
             [
              0.8888888888888888,
              "#fdca26"
             ],
             [
              1,
              "#f0f921"
             ]
            ],
            "type": "heatmap"
           }
          ],
          "heatmapgl": [
           {
            "colorbar": {
             "outlinewidth": 0,
             "ticks": ""
            },
            "colorscale": [
             [
              0,
              "#0d0887"
             ],
             [
              0.1111111111111111,
              "#46039f"
             ],
             [
              0.2222222222222222,
              "#7201a8"
             ],
             [
              0.3333333333333333,
              "#9c179e"
             ],
             [
              0.4444444444444444,
              "#bd3786"
             ],
             [
              0.5555555555555556,
              "#d8576b"
             ],
             [
              0.6666666666666666,
              "#ed7953"
             ],
             [
              0.7777777777777778,
              "#fb9f3a"
             ],
             [
              0.8888888888888888,
              "#fdca26"
             ],
             [
              1,
              "#f0f921"
             ]
            ],
            "type": "heatmapgl"
           }
          ],
          "histogram": [
           {
            "marker": {
             "pattern": {
              "fillmode": "overlay",
              "size": 10,
              "solidity": 0.2
             }
            },
            "type": "histogram"
           }
          ],
          "histogram2d": [
           {
            "colorbar": {
             "outlinewidth": 0,
             "ticks": ""
            },
            "colorscale": [
             [
              0,
              "#0d0887"
             ],
             [
              0.1111111111111111,
              "#46039f"
             ],
             [
              0.2222222222222222,
              "#7201a8"
             ],
             [
              0.3333333333333333,
              "#9c179e"
             ],
             [
              0.4444444444444444,
              "#bd3786"
             ],
             [
              0.5555555555555556,
              "#d8576b"
             ],
             [
              0.6666666666666666,
              "#ed7953"
             ],
             [
              0.7777777777777778,
              "#fb9f3a"
             ],
             [
              0.8888888888888888,
              "#fdca26"
             ],
             [
              1,
              "#f0f921"
             ]
            ],
            "type": "histogram2d"
           }
          ],
          "histogram2dcontour": [
           {
            "colorbar": {
             "outlinewidth": 0,
             "ticks": ""
            },
            "colorscale": [
             [
              0,
              "#0d0887"
             ],
             [
              0.1111111111111111,
              "#46039f"
             ],
             [
              0.2222222222222222,
              "#7201a8"
             ],
             [
              0.3333333333333333,
              "#9c179e"
             ],
             [
              0.4444444444444444,
              "#bd3786"
             ],
             [
              0.5555555555555556,
              "#d8576b"
             ],
             [
              0.6666666666666666,
              "#ed7953"
             ],
             [
              0.7777777777777778,
              "#fb9f3a"
             ],
             [
              0.8888888888888888,
              "#fdca26"
             ],
             [
              1,
              "#f0f921"
             ]
            ],
            "type": "histogram2dcontour"
           }
          ],
          "mesh3d": [
           {
            "colorbar": {
             "outlinewidth": 0,
             "ticks": ""
            },
            "type": "mesh3d"
           }
          ],
          "parcoords": [
           {
            "line": {
             "colorbar": {
              "outlinewidth": 0,
              "ticks": ""
             }
            },
            "type": "parcoords"
           }
          ],
          "pie": [
           {
            "automargin": true,
            "type": "pie"
           }
          ],
          "scatter": [
           {
            "fillpattern": {
             "fillmode": "overlay",
             "size": 10,
             "solidity": 0.2
            },
            "type": "scatter"
           }
          ],
          "scatter3d": [
           {
            "line": {
             "colorbar": {
              "outlinewidth": 0,
              "ticks": ""
             }
            },
            "marker": {
             "colorbar": {
              "outlinewidth": 0,
              "ticks": ""
             }
            },
            "type": "scatter3d"
           }
          ],
          "scattercarpet": [
           {
            "marker": {
             "colorbar": {
              "outlinewidth": 0,
              "ticks": ""
             }
            },
            "type": "scattercarpet"
           }
          ],
          "scattergeo": [
           {
            "marker": {
             "colorbar": {
              "outlinewidth": 0,
              "ticks": ""
             }
            },
            "type": "scattergeo"
           }
          ],
          "scattergl": [
           {
            "marker": {
             "colorbar": {
              "outlinewidth": 0,
              "ticks": ""
             }
            },
            "type": "scattergl"
           }
          ],
          "scattermapbox": [
           {
            "marker": {
             "colorbar": {
              "outlinewidth": 0,
              "ticks": ""
             }
            },
            "type": "scattermapbox"
           }
          ],
          "scatterpolar": [
           {
            "marker": {
             "colorbar": {
              "outlinewidth": 0,
              "ticks": ""
             }
            },
            "type": "scatterpolar"
           }
          ],
          "scatterpolargl": [
           {
            "marker": {
             "colorbar": {
              "outlinewidth": 0,
              "ticks": ""
             }
            },
            "type": "scatterpolargl"
           }
          ],
          "scatterternary": [
           {
            "marker": {
             "colorbar": {
              "outlinewidth": 0,
              "ticks": ""
             }
            },
            "type": "scatterternary"
           }
          ],
          "surface": [
           {
            "colorbar": {
             "outlinewidth": 0,
             "ticks": ""
            },
            "colorscale": [
             [
              0,
              "#0d0887"
             ],
             [
              0.1111111111111111,
              "#46039f"
             ],
             [
              0.2222222222222222,
              "#7201a8"
             ],
             [
              0.3333333333333333,
              "#9c179e"
             ],
             [
              0.4444444444444444,
              "#bd3786"
             ],
             [
              0.5555555555555556,
              "#d8576b"
             ],
             [
              0.6666666666666666,
              "#ed7953"
             ],
             [
              0.7777777777777778,
              "#fb9f3a"
             ],
             [
              0.8888888888888888,
              "#fdca26"
             ],
             [
              1,
              "#f0f921"
             ]
            ],
            "type": "surface"
           }
          ],
          "table": [
           {
            "cells": {
             "fill": {
              "color": "#EBF0F8"
             },
             "line": {
              "color": "white"
             }
            },
            "header": {
             "fill": {
              "color": "#C8D4E3"
             },
             "line": {
              "color": "white"
             }
            },
            "type": "table"
           }
          ]
         },
         "layout": {
          "annotationdefaults": {
           "arrowcolor": "#2a3f5f",
           "arrowhead": 0,
           "arrowwidth": 1
          },
          "autotypenumbers": "strict",
          "coloraxis": {
           "colorbar": {
            "outlinewidth": 0,
            "ticks": ""
           }
          },
          "colorscale": {
           "diverging": [
            [
             0,
             "#8e0152"
            ],
            [
             0.1,
             "#c51b7d"
            ],
            [
             0.2,
             "#de77ae"
            ],
            [
             0.3,
             "#f1b6da"
            ],
            [
             0.4,
             "#fde0ef"
            ],
            [
             0.5,
             "#f7f7f7"
            ],
            [
             0.6,
             "#e6f5d0"
            ],
            [
             0.7,
             "#b8e186"
            ],
            [
             0.8,
             "#7fbc41"
            ],
            [
             0.9,
             "#4d9221"
            ],
            [
             1,
             "#276419"
            ]
           ],
           "sequential": [
            [
             0,
             "#0d0887"
            ],
            [
             0.1111111111111111,
             "#46039f"
            ],
            [
             0.2222222222222222,
             "#7201a8"
            ],
            [
             0.3333333333333333,
             "#9c179e"
            ],
            [
             0.4444444444444444,
             "#bd3786"
            ],
            [
             0.5555555555555556,
             "#d8576b"
            ],
            [
             0.6666666666666666,
             "#ed7953"
            ],
            [
             0.7777777777777778,
             "#fb9f3a"
            ],
            [
             0.8888888888888888,
             "#fdca26"
            ],
            [
             1,
             "#f0f921"
            ]
           ],
           "sequentialminus": [
            [
             0,
             "#0d0887"
            ],
            [
             0.1111111111111111,
             "#46039f"
            ],
            [
             0.2222222222222222,
             "#7201a8"
            ],
            [
             0.3333333333333333,
             "#9c179e"
            ],
            [
             0.4444444444444444,
             "#bd3786"
            ],
            [
             0.5555555555555556,
             "#d8576b"
            ],
            [
             0.6666666666666666,
             "#ed7953"
            ],
            [
             0.7777777777777778,
             "#fb9f3a"
            ],
            [
             0.8888888888888888,
             "#fdca26"
            ],
            [
             1,
             "#f0f921"
            ]
           ]
          },
          "colorway": [
           "#636efa",
           "#EF553B",
           "#00cc96",
           "#ab63fa",
           "#FFA15A",
           "#19d3f3",
           "#FF6692",
           "#B6E880",
           "#FF97FF",
           "#FECB52"
          ],
          "font": {
           "color": "#2a3f5f"
          },
          "geo": {
           "bgcolor": "white",
           "lakecolor": "white",
           "landcolor": "#E5ECF6",
           "showlakes": true,
           "showland": true,
           "subunitcolor": "white"
          },
          "hoverlabel": {
           "align": "left"
          },
          "hovermode": "closest",
          "mapbox": {
           "style": "light"
          },
          "paper_bgcolor": "white",
          "plot_bgcolor": "#E5ECF6",
          "polar": {
           "angularaxis": {
            "gridcolor": "white",
            "linecolor": "white",
            "ticks": ""
           },
           "bgcolor": "#E5ECF6",
           "radialaxis": {
            "gridcolor": "white",
            "linecolor": "white",
            "ticks": ""
           }
          },
          "scene": {
           "xaxis": {
            "backgroundcolor": "#E5ECF6",
            "gridcolor": "white",
            "gridwidth": 2,
            "linecolor": "white",
            "showbackground": true,
            "ticks": "",
            "zerolinecolor": "white"
           },
           "yaxis": {
            "backgroundcolor": "#E5ECF6",
            "gridcolor": "white",
            "gridwidth": 2,
            "linecolor": "white",
            "showbackground": true,
            "ticks": "",
            "zerolinecolor": "white"
           },
           "zaxis": {
            "backgroundcolor": "#E5ECF6",
            "gridcolor": "white",
            "gridwidth": 2,
            "linecolor": "white",
            "showbackground": true,
            "ticks": "",
            "zerolinecolor": "white"
           }
          },
          "shapedefaults": {
           "line": {
            "color": "#2a3f5f"
           }
          },
          "ternary": {
           "aaxis": {
            "gridcolor": "white",
            "linecolor": "white",
            "ticks": ""
           },
           "baxis": {
            "gridcolor": "white",
            "linecolor": "white",
            "ticks": ""
           },
           "bgcolor": "#E5ECF6",
           "caxis": {
            "gridcolor": "white",
            "linecolor": "white",
            "ticks": ""
           }
          },
          "title": {
           "x": 0.05
          },
          "xaxis": {
           "automargin": true,
           "gridcolor": "white",
           "linecolor": "white",
           "ticks": "",
           "title": {
            "standoff": 15
           },
           "zerolinecolor": "white",
           "zerolinewidth": 2
          },
          "yaxis": {
           "automargin": true,
           "gridcolor": "white",
           "linecolor": "white",
           "ticks": "",
           "title": {
            "standoff": 15
           },
           "zerolinecolor": "white",
           "zerolinewidth": 2
          }
         }
        },
        "title": {
         "text": "Nav Per Share vs Balancer wstETH/ETHx"
        },
        "xaxis": {
         "anchor": "y",
         "domain": [
          0,
          1
         ],
         "title": {
          "text": "timestamp"
         }
        },
        "yaxis": {
         "anchor": "x",
         "domain": [
          0,
          1
         ],
         "title": {
          "text": "value"
         }
        }
       }
      }
     },
     "metadata": {},
     "output_type": "display_data"
    }
   ],
   "source": [
    "growth_of_a_dollar_df['starting_quantity_of_lp_tokens'] = 1 / growth_of_a_dollar_df['safeLPTokenPriceInETH'].values[0]\n",
    "growth_of_a_dollar_df['safe_value_of_lp_tokens'] = growth_of_a_dollar_df['starting_quantity_of_lp_tokens'] * growth_of_a_dollar_df['safeLPTokenPriceInETH']\n",
    "\n",
    "# need to add some assumptions in here about the gas costs of entering, (that we paid) ie 200 usd\n",
    "# and the slippage cost to enter? using our values lets say \n",
    "starting_bal_reward_per_token  = growth_of_a_dollar_df['BAL_reward_per_token'].values[0]\n",
    "starting_stash_aura_reward_per_token = growth_of_a_dollar_df['stash_aura_reward_per_token'].values[0]\n",
    "\n",
    "growth_of_a_dollar_df['bal_earned_since_deposit'] = growth_of_a_dollar_df['starting_quantity_of_lp_tokens'] * (growth_of_a_dollar_df['BAL_reward_per_token'] - starting_bal_reward_per_token)\n",
    "growth_of_a_dollar_df['aura_minted_since_deposit'] = growth_of_a_dollar_df['bal_earned_since_deposit'] * growth_of_a_dollar_df['AURA_minted_for_one_BAL'] \n",
    "\n",
    "growth_of_a_dollar_df['stash_aura_earned_since_deposit'] = growth_of_a_dollar_df['starting_quantity_of_lp_tokens'] * (growth_of_a_dollar_df['stash_aura_reward_per_token'] - starting_stash_aura_reward_per_token)\n",
    "\n",
    "growth_of_a_dollar_df['current_eth_value_of_incentive_tokens_earned'] = (growth_of_a_dollar_df['bal_earned_since_deposit'] * growth_of_a_dollar_df['BAL_to_ETH']) + (growth_of_a_dollar_df['aura_minted_since_deposit'] * growth_of_a_dollar_df['AURA_to_ETH']) + (growth_of_a_dollar_df['stash_aura_earned_since_deposit'] * growth_of_a_dollar_df['AURA_to_ETH']) \n",
    "growth_of_a_dollar_df['wstETH_ETHx_balancer_value_of_one_eth'] =growth_of_a_dollar_df['safe_value_of_lp_tokens'] + growth_of_a_dollar_df['current_eth_value_of_incentive_tokens_earned']\n",
    "px.line(growth_of_a_dollar_df[['wstETH_ETHx_balancer_value_of_one_eth', 'our_nav_per_share']], title='Nav Per Share vs Balancer wstETH/ETHx')"
   ]
  },
  {
   "cell_type": "code",
   "execution_count": 10,
   "metadata": {},
   "outputs": [
    {
     "data": {
      "application/vnd.plotly.v1+json": {
       "config": {
        "plotlyServerURL": "https://plot.ly"
       },
       "data": [
        {
         "hovertemplate": "variable=wstETH_ETHx_balancer_value_of_one_eth<br>timestamp=%{x}<br>value=%{y}<extra></extra>",
         "legendgroup": "wstETH_ETHx_balancer_value_of_one_eth",
         "line": {
          "color": "#636efa",
          "dash": "solid"
         },
         "marker": {
          "symbol": "circle"
         },
         "mode": "lines",
         "name": "wstETH_ETHx_balancer_value_of_one_eth",
         "orientation": "v",
         "showlegend": true,
         "type": "scatter",
         "x": [
          "2024-07-17T00:53:47",
          "2024-07-17T06:50:11",
          "2024-07-17T12:46:35",
          "2024-07-17T18:43:35",
          "2024-07-18T00:40:11",
          "2024-07-18T06:37:35",
          "2024-07-18T12:34:59",
          "2024-07-18T18:31:35",
          "2024-07-19T00:27:59",
          "2024-07-19T06:24:23",
          "2024-07-19T12:20:35",
          "2024-07-19T18:17:11",
          "2024-07-20T00:13:23",
          "2024-07-20T06:10:35",
          "2024-07-20T12:07:35",
          "2024-07-20T18:04:23",
          "2024-07-21T00:00:47",
          "2024-07-21T05:57:23",
          "2024-07-21T11:53:23",
          "2024-07-21T17:50:35",
          "2024-07-21T23:47:35",
          "2024-07-22T05:44:23",
          "2024-07-22T11:41:35",
          "2024-07-22T17:38:59",
          "2024-07-22T23:35:47",
          "2024-07-23T05:32:47",
          "2024-07-23T11:29:35",
          "2024-07-23T17:25:47",
          "2024-07-23T23:22:35",
          "2024-07-24T05:18:47",
          "2024-07-24T11:15:11",
          "2024-07-24T17:12:23",
          "2024-07-24T23:09:59",
          "2024-07-25T05:06:35",
          "2024-07-25T11:02:47",
          "2024-07-25T16:59:47",
          "2024-07-25T22:57:23",
          "2024-07-26T04:54:47",
          "2024-07-26T10:50:47",
          "2024-07-26T16:47:47",
          "2024-07-26T22:44:47",
          "2024-07-27T04:42:11",
          "2024-07-27T10:39:11",
          "2024-07-27T16:35:11",
          "2024-07-27T22:32:35",
          "2024-07-28T04:29:59",
          "2024-07-28T10:26:35",
          "2024-07-28T16:22:35",
          "2024-07-28T22:18:11",
          "2024-07-29T04:15:11",
          "2024-07-29T10:11:59",
          "2024-07-29T16:07:47",
          "2024-07-29T22:03:47",
          "2024-07-30T04:01:23",
          "2024-07-30T10:01:11",
          "2024-07-30T15:58:35",
          "2024-07-30T21:55:35",
          "2024-07-31T03:52:11",
          "2024-07-31T09:48:35",
          "2024-07-31T15:45:11",
          "2024-07-31T21:42:47",
          "2024-08-01T03:39:11",
          "2024-08-01T09:35:35",
          "2024-08-01T15:32:35",
          "2024-08-01T21:29:23",
          "2024-08-02T03:26:11",
          "2024-08-02T09:22:59",
          "2024-08-02T15:19:59",
          "2024-08-02T21:18:11",
          "2024-08-03T03:15:11",
          "2024-08-03T09:12:35",
          "2024-08-03T15:08:47",
          "2024-08-03T21:05:11",
          "2024-08-04T03:01:47",
          "2024-08-04T08:57:23",
          "2024-08-04T14:53:23",
          "2024-08-04T20:49:59",
          "2024-08-05T02:45:47",
          "2024-08-05T08:41:47",
          "2024-08-05T14:38:47",
          "2024-08-05T20:36:11",
          "2024-08-06T02:32:23",
          "2024-08-06T08:28:47",
          "2024-08-06T14:25:47",
          "2024-08-06T20:22:47",
          "2024-08-07T02:19:23",
          "2024-08-07T08:15:59",
          "2024-08-07T14:12:35",
          "2024-08-07T20:08:35",
          "2024-08-08T02:05:23",
          "2024-08-08T08:01:47",
          "2024-08-08T13:58:23",
          "2024-08-08T19:54:11",
          "2024-08-09T01:50:11",
          "2024-08-09T07:46:35",
          "2024-08-09T13:42:35",
          "2024-08-09T19:39:35",
          "2024-08-10T01:36:23",
          "2024-08-10T07:32:35",
          "2024-08-10T13:29:59",
          "2024-08-10T19:25:11",
          "2024-08-11T01:22:23",
          "2024-08-11T07:19:47",
          "2024-08-11T13:17:35",
          "2024-08-11T19:14:23",
          "2024-08-12T01:10:23",
          "2024-08-12T07:07:35",
          "2024-08-12T13:04:59",
          "2024-08-12T19:01:47",
          "2024-08-13T00:56:47",
          "2024-08-13T06:53:35",
          "2024-08-13T12:50:47",
          "2024-08-13T18:47:11",
          "2024-08-14T00:43:35",
          "2024-08-14T06:40:47",
          "2024-08-14T12:37:11",
          "2024-08-14T18:34:11",
          "2024-08-15T00:31:11",
          "2024-08-15T06:27:59",
          "2024-08-15T12:25:23",
          "2024-08-15T18:22:47",
          "2024-08-16T00:20:35",
          "2024-08-16T06:16:35",
          "2024-08-16T12:12:47",
          "2024-08-16T18:09:23",
          "2024-08-17T00:07:23",
          "2024-08-17T06:04:59",
          "2024-08-17T12:01:59",
          "2024-08-17T17:59:59",
          "2024-08-17T23:56:11",
          "2024-08-18T05:51:59",
          "2024-08-18T11:48:47",
          "2024-08-18T17:45:11",
          "2024-08-18T23:41:23",
          "2024-08-19T05:39:23",
          "2024-08-19T11:35:47",
          "2024-08-19T17:33:47",
          "2024-08-19T23:29:47",
          "2024-08-20T05:26:11",
          "2024-08-20T11:24:23",
          "2024-08-20T17:20:59",
          "2024-08-20T23:18:35",
          "2024-08-21T05:15:11",
          "2024-08-21T11:11:11",
          "2024-08-21T17:08:35",
          "2024-08-21T23:06:35",
          "2024-08-22T05:04:23",
          "2024-08-22T11:01:59",
          "2024-08-22T16:58:23",
          "2024-08-22T22:54:35",
          "2024-08-23T04:51:59",
          "2024-08-23T10:50:35",
          "2024-08-23T16:47:23",
          "2024-08-23T22:44:11",
          "2024-08-24T04:40:59",
          "2024-08-24T10:38:47",
          "2024-08-24T16:36:11",
          "2024-08-24T22:33:35",
          "2024-08-25T04:31:35",
          "2024-08-25T10:29:35",
          "2024-08-25T16:26:35",
          "2024-08-25T22:23:11",
          "2024-08-26T04:20:11",
          "2024-08-26T10:17:35",
          "2024-08-26T16:13:59",
          "2024-08-26T22:10:59",
          "2024-08-27T04:08:59",
          "2024-08-27T10:06:23",
          "2024-08-27T16:02:35",
          "2024-08-27T21:59:11",
          "2024-08-28T03:55:35",
          "2024-08-28T09:53:23",
          "2024-08-28T15:49:47",
          "2024-08-28T21:46:35",
          "2024-08-29T03:43:59",
          "2024-08-29T09:41:47",
          "2024-08-29T15:39:23",
          "2024-08-29T21:36:35",
          "2024-08-30T03:34:35",
          "2024-08-30T09:31:47",
          "2024-08-30T15:28:35"
         ],
         "xaxis": "x",
         "y": [
          0.9965,
          0.9965578711446483,
          0.9967738715589378,
          0.9968221700411836,
          0.9968945194203179,
          0.9969591755767034,
          0.9972814861953846,
          0.9973441936464167,
          0.9974401443157784,
          0.9977758614447563,
          0.9981169350641299,
          0.9981577889182291,
          0.998207477434928,
          0.9979915963454169,
          0.9978472409974022,
          0.9979345114519308,
          0.9979242564056481,
          0.9978407463627061,
          0.9979253653635377,
          0.9980362133978039,
          0.9981287979295727,
          0.9983868147398676,
          0.998493378090744,
          0.998625071046611,
          0.9987307966099616,
          0.9988507048407478,
          0.9989579817307739,
          0.9991053149329804,
          0.9992382726913877,
          0.99931060672108,
          0.9994045559616669,
          0.9995991074240625,
          0.9996544492362425,
          0.9996900727629369,
          0.9997739731953749,
          0.9997734605492667,
          0.9998630418219089,
          0.9998088170197251,
          0.9999166819717633,
          1.0002396026814468,
          1.0003666221430072,
          1.0006943397390138,
          1.000798396374799,
          1.0011426319626628,
          1.0011513229410252,
          1.0012264098874315,
          1.001271509260697,
          1.0012680459892132,
          1.0012899912187698,
          1.0013956147070082,
          1.0014545043857306,
          1.0015557044730208,
          1.0015666815252702,
          1.0015505396290356,
          1.0016167275769845,
          1.0017784593652646,
          1.0018477553421703,
          1.0018778731993456,
          1.0019409705344762,
          1.0020971843595992,
          1.0020789903567617,
          1.0021412841154174,
          1.0021978972793182,
          1.00234108786117,
          1.0024389437037304,
          1.002466255500076,
          1.0023573048466166,
          1.0024675599284802,
          1.002764349967688,
          1.0028785198023351,
          1.0028578199944036,
          1.002975327386326,
          1.0031662870486995,
          1.0032004319570598,
          1.0032688835159895,
          1.003313252797981,
          1.003079387640454,
          0.9939828601384997,
          0.9969598395177439,
          0.9995655375572101,
          1.0024373650748166,
          1.0024075320767516,
          1.002491290660883,
          1.0031769690940397,
          1.0036384919126613,
          1.0037249866243783,
          1.0037518942858166,
          1.003816377196299,
          1.0042717043720475,
          1.0046060994193358,
          1.0047369576000258,
          1.0047806286165903,
          1.0046906077881301,
          1.004161695457066,
          1.0043484689730473,
          1.0045663076320541,
          1.0046379161322256,
          1.005309896053222,
          1.0055003553746888,
          1.005690081482132,
          1.0057592336823604,
          1.0058515564851407,
          1.0060324818123196,
          1.0060467717444626,
          1.0060627968745521,
          1.0062322573711824,
          1.0061171772158832,
          1.0058477048786996,
          1.0059169341327046,
          1.0058777437459019,
          1.0059898257997975,
          1.0060338574680243,
          1.0060897183878053,
          1.00615028277178,
          1.006171027152499,
          1.006563212069517,
          1.0066300052910533,
          1.0066580331079231,
          1.0068182694455383,
          1.0070404777103243,
          1.0071414688252394,
          1.007206074654873,
          1.0071795695945067,
          1.0071988975660038,
          1.0071964540957643,
          1.007204465127278,
          1.0072587121712688,
          1.0074585862030745,
          1.0074539538190346,
          1.0075793573144125,
          1.007641400504891,
          1.0077319970327105,
          1.0079046752947607,
          1.007933633197546,
          1.0081868466205324,
          1.0084023543931353,
          1.0084884465453767,
          1.008539218770642,
          1.0084336719685814,
          1.0085192929458555,
          1.0086748307278348,
          1.0087005278348586,
          1.008526341329707,
          1.0087047728620069,
          1.0087728726843497,
          1.0090710267064111,
          1.009294787747104,
          1.009591217519294,
          1.009688103917833,
          1.0095999513444276,
          1.0096981143125334,
          1.0098549889611574,
          1.0099701199621198,
          1.0099859570833585,
          1.0100590049567444,
          1.010187068592213,
          1.0104222227380284,
          1.0104363123572875,
          1.0102641515793347,
          1.0104170937560846,
          1.0103217546841237,
          1.010563670528361,
          1.01070146433743,
          1.0108300889776078,
          1.0108919532741927,
          1.0109323308829714,
          1.0109398536788838,
          1.0110620052212196,
          1.0111641444050354,
          1.0113800398595467,
          1.0112943497017204,
          1.0113685972222468,
          1.011584816684571,
          1.0114824082836078,
          1.0114582859478596,
          1.0115323223963606,
          1.0116177058073486,
          1.0115891673786332,
          1.0116058432912554,
          1.0116915130248076,
          1.0116041439551795
         ],
         "yaxis": "y"
        },
        {
         "hovertemplate": "variable=our_nav_per_share<br>timestamp=%{x}<br>value=%{y}<extra></extra>",
         "legendgroup": "our_nav_per_share",
         "line": {
          "color": "#EF553B",
          "dash": "solid"
         },
         "marker": {
          "symbol": "circle"
         },
         "mode": "lines",
         "name": "our_nav_per_share",
         "orientation": "v",
         "showlegend": true,
         "type": "scatter",
         "x": [
          "2024-07-17T00:53:47",
          "2024-07-17T06:50:11",
          "2024-07-17T12:46:35",
          "2024-07-17T18:43:35",
          "2024-07-18T00:40:11",
          "2024-07-18T06:37:35",
          "2024-07-18T12:34:59",
          "2024-07-18T18:31:35",
          "2024-07-19T00:27:59",
          "2024-07-19T06:24:23",
          "2024-07-19T12:20:35",
          "2024-07-19T18:17:11",
          "2024-07-20T00:13:23",
          "2024-07-20T06:10:35",
          "2024-07-20T12:07:35",
          "2024-07-20T18:04:23",
          "2024-07-21T00:00:47",
          "2024-07-21T05:57:23",
          "2024-07-21T11:53:23",
          "2024-07-21T17:50:35",
          "2024-07-21T23:47:35",
          "2024-07-22T05:44:23",
          "2024-07-22T11:41:35",
          "2024-07-22T17:38:59",
          "2024-07-22T23:35:47",
          "2024-07-23T05:32:47",
          "2024-07-23T11:29:35",
          "2024-07-23T17:25:47",
          "2024-07-23T23:22:35",
          "2024-07-24T05:18:47",
          "2024-07-24T11:15:11",
          "2024-07-24T17:12:23",
          "2024-07-24T23:09:59",
          "2024-07-25T05:06:35",
          "2024-07-25T11:02:47",
          "2024-07-25T16:59:47",
          "2024-07-25T22:57:23",
          "2024-07-26T04:54:47",
          "2024-07-26T10:50:47",
          "2024-07-26T16:47:47",
          "2024-07-26T22:44:47",
          "2024-07-27T04:42:11",
          "2024-07-27T10:39:11",
          "2024-07-27T16:35:11",
          "2024-07-27T22:32:35",
          "2024-07-28T04:29:59",
          "2024-07-28T10:26:35",
          "2024-07-28T16:22:35",
          "2024-07-28T22:18:11",
          "2024-07-29T04:15:11",
          "2024-07-29T10:11:59",
          "2024-07-29T16:07:47",
          "2024-07-29T22:03:47",
          "2024-07-30T04:01:23",
          "2024-07-30T10:01:11",
          "2024-07-30T15:58:35",
          "2024-07-30T21:55:35",
          "2024-07-31T03:52:11",
          "2024-07-31T09:48:35",
          "2024-07-31T15:45:11",
          "2024-07-31T21:42:47",
          "2024-08-01T03:39:11",
          "2024-08-01T09:35:35",
          "2024-08-01T15:32:35",
          "2024-08-01T21:29:23",
          "2024-08-02T03:26:11",
          "2024-08-02T09:22:59",
          "2024-08-02T15:19:59",
          "2024-08-02T21:18:11",
          "2024-08-03T03:15:11",
          "2024-08-03T09:12:35",
          "2024-08-03T15:08:47",
          "2024-08-03T21:05:11",
          "2024-08-04T03:01:47",
          "2024-08-04T08:57:23",
          "2024-08-04T14:53:23",
          "2024-08-04T20:49:59",
          "2024-08-05T02:45:47",
          "2024-08-05T08:41:47",
          "2024-08-05T14:38:47",
          "2024-08-05T20:36:11",
          "2024-08-06T02:32:23",
          "2024-08-06T08:28:47",
          "2024-08-06T14:25:47",
          "2024-08-06T20:22:47",
          "2024-08-07T02:19:23",
          "2024-08-07T08:15:59",
          "2024-08-07T14:12:35",
          "2024-08-07T20:08:35",
          "2024-08-08T02:05:23",
          "2024-08-08T08:01:47",
          "2024-08-08T13:58:23",
          "2024-08-08T19:54:11",
          "2024-08-09T01:50:11",
          "2024-08-09T07:46:35",
          "2024-08-09T13:42:35",
          "2024-08-09T19:39:35",
          "2024-08-10T01:36:23",
          "2024-08-10T07:32:35",
          "2024-08-10T13:29:59",
          "2024-08-10T19:25:11",
          "2024-08-11T01:22:23",
          "2024-08-11T07:19:47",
          "2024-08-11T13:17:35",
          "2024-08-11T19:14:23",
          "2024-08-12T01:10:23",
          "2024-08-12T07:07:35",
          "2024-08-12T13:04:59",
          "2024-08-12T19:01:47",
          "2024-08-13T00:56:47",
          "2024-08-13T06:53:35",
          "2024-08-13T12:50:47",
          "2024-08-13T18:47:11",
          "2024-08-14T00:43:35",
          "2024-08-14T06:40:47",
          "2024-08-14T12:37:11",
          "2024-08-14T18:34:11",
          "2024-08-15T00:31:11",
          "2024-08-15T06:27:59",
          "2024-08-15T12:25:23",
          "2024-08-15T18:22:47",
          "2024-08-16T00:20:35",
          "2024-08-16T06:16:35",
          "2024-08-16T12:12:47",
          "2024-08-16T18:09:23",
          "2024-08-17T00:07:23",
          "2024-08-17T06:04:59",
          "2024-08-17T12:01:59",
          "2024-08-17T17:59:59",
          "2024-08-17T23:56:11",
          "2024-08-18T05:51:59",
          "2024-08-18T11:48:47",
          "2024-08-18T17:45:11",
          "2024-08-18T23:41:23",
          "2024-08-19T05:39:23",
          "2024-08-19T11:35:47",
          "2024-08-19T17:33:47",
          "2024-08-19T23:29:47",
          "2024-08-20T05:26:11",
          "2024-08-20T11:24:23",
          "2024-08-20T17:20:59",
          "2024-08-20T23:18:35",
          "2024-08-21T05:15:11",
          "2024-08-21T11:11:11",
          "2024-08-21T17:08:35",
          "2024-08-21T23:06:35",
          "2024-08-22T05:04:23",
          "2024-08-22T11:01:59",
          "2024-08-22T16:58:23",
          "2024-08-22T22:54:35",
          "2024-08-23T04:51:59",
          "2024-08-23T10:50:35",
          "2024-08-23T16:47:23",
          "2024-08-23T22:44:11",
          "2024-08-24T04:40:59",
          "2024-08-24T10:38:47",
          "2024-08-24T16:36:11",
          "2024-08-24T22:33:35",
          "2024-08-25T04:31:35",
          "2024-08-25T10:29:35",
          "2024-08-25T16:26:35",
          "2024-08-25T22:23:11",
          "2024-08-26T04:20:11",
          "2024-08-26T10:17:35",
          "2024-08-26T16:13:59",
          "2024-08-26T22:10:59",
          "2024-08-27T04:08:59",
          "2024-08-27T10:06:23",
          "2024-08-27T16:02:35",
          "2024-08-27T21:59:11",
          "2024-08-28T03:55:35",
          "2024-08-28T09:53:23",
          "2024-08-28T15:49:47",
          "2024-08-28T21:46:35",
          "2024-08-29T03:43:59",
          "2024-08-29T09:41:47",
          "2024-08-29T15:39:23",
          "2024-08-29T21:36:35",
          "2024-08-30T03:34:35",
          "2024-08-30T09:31:47",
          "2024-08-30T15:28:35"
         ],
         "xaxis": "x",
         "y": [
          1,
          1,
          1,
          0.999585498722691,
          0.999585498722691,
          0.999585498722691,
          0.999585498722691,
          0.9996175106451749,
          0.9996957706437537,
          0.9997740428972337,
          0.9998522834743535,
          0.9999568266951843,
          1.0001496307666868,
          1.0003735254564217,
          1.0005973949660925,
          1.000813541841201,
          1.0003635674784512,
          1.0003635674784512,
          1.0003635674784512,
          1.0003635674784512,
          1.0002117561125534,
          1.0002117561125534,
          1.0002117561125534,
          1.0002117561125534,
          1.0003618341411933,
          1.0006639879219463,
          1.0009661548583573,
          1.0012679957498922,
          1.0012904112617997,
          1.0012904112617997,
          1.0012904112617997,
          1.0012904112617997,
          1.0012969911368126,
          1.0013126132104264,
          1.0013282182473358,
          1.0013438588200976,
          1.0013592409854248,
          1.001374166759415,
          1.0013890345088154,
          1.0014039444649188,
          1.001583281589709,
          1.002063617405976,
          1.0025438757960232,
          1.0030232475575083,
          1.0033680577578001,
          1.0034220372728686,
          1.0034759017496575,
          1.003529681365064,
          1.0034011201498336,
          1.0034011201498336,
          1.0034011201498336,
          1.0034011201498336,
          1.0034706948273227,
          1.0037621334245197,
          1.0040555358891934,
          1.0043471511118047,
          1.0045856395484274,
          1.004632898964432,
          1.0046801363178586,
          1.004727404625444,
          1.0047690817313923,
          1.0047845304321827,
          1.0047999796080394,
          1.0048154552688984,
          1.0048579503249113,
          1.0050634225581578,
          1.0052689788380562,
          1.0054747345090487,
          1.0056591267360915,
          1.0056666800989056,
          1.0056742420385274,
          1.0056817787014631,
          1.0053998941053282,
          1.0053998941053282,
          1.0053998941053282,
          1.0053998941053282,
          1.0052081202254741,
          1.0052081202254741,
          1.0052081202254741,
          1.0052081202254741,
          1.0052081202254741,
          1.0008006134430174,
          1.0008006134430174,
          1.0008006134430174,
          1.0008006134430174,
          1.0017983213221042,
          1.0028438021995996,
          1.0038914674931088,
          1.004702997806083,
          1.0049891423195747,
          1.0051566434659942,
          1.0051603574165877,
          1.0052284769040445,
          1.005296643923685,
          1.0053648967968458,
          1.0054334743974558,
          1.005554159470746,
          1.0056748058848355,
          1.0057952782989787,
          1.0059161855848193,
          1.005908428739,
          1.005908428739,
          1.005908428739,
          1.005908428739,
          1.005981084234808,
          1.0060580759147186,
          1.0061353389626597,
          1.0062126571491319,
          1.0062280539009552,
          1.0062383324216355,
          1.0062486632703487,
          1.0062590059132195,
          1.006386213400702,
          1.0065516769043557,
          1.0067175664199965,
          1.0068831389083854,
          1.0069403941938493,
          1.0069545977019216,
          1.006968793653214,
          1.0069830138779037,
          1.0070045608447147,
          1.0070296769856695,
          1.0070546680172208,
          1.0070796743301373,
          1.0071470709867472,
          1.007238097210957,
          1.007205056070343,
          1.007205056070343,
          1.007205056070343,
          1.007205056070343,
          1.007332443373526,
          1.0075117242437268,
          1.0076908678457985,
          1.0078699745823665,
          1.0079629473004381,
          1.0080134215421226,
          1.008064127469122,
          1.0081145551816737,
          1.0081743840082351,
          1.0082401684278202,
          1.0083056675311062,
          1.0083713588575973,
          1.0084184795775333,
          1.0084536826178183,
          1.0084890265694468,
          1.0085244323399685,
          1.0086996412543496,
          1.0089782325580547,
          1.0092560421474994,
          1.0095338487354528,
          1.0097127566672026,
          1.009808122492851,
          1.0099042557470832,
          1.010056855612794,
          1.010209501602161,
          1.0103626217497699,
          1.0104079718528933,
          1.0104555867228335,
          1.0105035814762797,
          1.010551580789265,
          1.010599450567056,
          1.0106142073359625,
          1.0106279118830863,
          1.010641632157759,
          1.0106553144142782,
          1.010809125014451,
          1.0109737252429236,
          1.0111381030861204,
          1.0113019822104155,
          1.011392722733393,
          1.0114753206765879,
          1.011558256650444,
          1.0116408816344473,
          1.0116652936428154,
          1.0116806257870128,
          1.0116959755563726,
          1.0117113172110552,
          1.011656633380892,
          1.011656633380892,
          1.011656633380892,
          1.011656633380892
         ],
         "yaxis": "y"
        }
       ],
       "layout": {
        "legend": {
         "title": {
          "text": "variable"
         },
         "tracegroupgap": 0
        },
        "template": {
         "data": {
          "bar": [
           {
            "error_x": {
             "color": "#2a3f5f"
            },
            "error_y": {
             "color": "#2a3f5f"
            },
            "marker": {
             "line": {
              "color": "#E5ECF6",
              "width": 0.5
             },
             "pattern": {
              "fillmode": "overlay",
              "size": 10,
              "solidity": 0.2
             }
            },
            "type": "bar"
           }
          ],
          "barpolar": [
           {
            "marker": {
             "line": {
              "color": "#E5ECF6",
              "width": 0.5
             },
             "pattern": {
              "fillmode": "overlay",
              "size": 10,
              "solidity": 0.2
             }
            },
            "type": "barpolar"
           }
          ],
          "carpet": [
           {
            "aaxis": {
             "endlinecolor": "#2a3f5f",
             "gridcolor": "white",
             "linecolor": "white",
             "minorgridcolor": "white",
             "startlinecolor": "#2a3f5f"
            },
            "baxis": {
             "endlinecolor": "#2a3f5f",
             "gridcolor": "white",
             "linecolor": "white",
             "minorgridcolor": "white",
             "startlinecolor": "#2a3f5f"
            },
            "type": "carpet"
           }
          ],
          "choropleth": [
           {
            "colorbar": {
             "outlinewidth": 0,
             "ticks": ""
            },
            "type": "choropleth"
           }
          ],
          "contour": [
           {
            "colorbar": {
             "outlinewidth": 0,
             "ticks": ""
            },
            "colorscale": [
             [
              0,
              "#0d0887"
             ],
             [
              0.1111111111111111,
              "#46039f"
             ],
             [
              0.2222222222222222,
              "#7201a8"
             ],
             [
              0.3333333333333333,
              "#9c179e"
             ],
             [
              0.4444444444444444,
              "#bd3786"
             ],
             [
              0.5555555555555556,
              "#d8576b"
             ],
             [
              0.6666666666666666,
              "#ed7953"
             ],
             [
              0.7777777777777778,
              "#fb9f3a"
             ],
             [
              0.8888888888888888,
              "#fdca26"
             ],
             [
              1,
              "#f0f921"
             ]
            ],
            "type": "contour"
           }
          ],
          "contourcarpet": [
           {
            "colorbar": {
             "outlinewidth": 0,
             "ticks": ""
            },
            "type": "contourcarpet"
           }
          ],
          "heatmap": [
           {
            "colorbar": {
             "outlinewidth": 0,
             "ticks": ""
            },
            "colorscale": [
             [
              0,
              "#0d0887"
             ],
             [
              0.1111111111111111,
              "#46039f"
             ],
             [
              0.2222222222222222,
              "#7201a8"
             ],
             [
              0.3333333333333333,
              "#9c179e"
             ],
             [
              0.4444444444444444,
              "#bd3786"
             ],
             [
              0.5555555555555556,
              "#d8576b"
             ],
             [
              0.6666666666666666,
              "#ed7953"
             ],
             [
              0.7777777777777778,
              "#fb9f3a"
             ],
             [
              0.8888888888888888,
              "#fdca26"
             ],
             [
              1,
              "#f0f921"
             ]
            ],
            "type": "heatmap"
           }
          ],
          "heatmapgl": [
           {
            "colorbar": {
             "outlinewidth": 0,
             "ticks": ""
            },
            "colorscale": [
             [
              0,
              "#0d0887"
             ],
             [
              0.1111111111111111,
              "#46039f"
             ],
             [
              0.2222222222222222,
              "#7201a8"
             ],
             [
              0.3333333333333333,
              "#9c179e"
             ],
             [
              0.4444444444444444,
              "#bd3786"
             ],
             [
              0.5555555555555556,
              "#d8576b"
             ],
             [
              0.6666666666666666,
              "#ed7953"
             ],
             [
              0.7777777777777778,
              "#fb9f3a"
             ],
             [
              0.8888888888888888,
              "#fdca26"
             ],
             [
              1,
              "#f0f921"
             ]
            ],
            "type": "heatmapgl"
           }
          ],
          "histogram": [
           {
            "marker": {
             "pattern": {
              "fillmode": "overlay",
              "size": 10,
              "solidity": 0.2
             }
            },
            "type": "histogram"
           }
          ],
          "histogram2d": [
           {
            "colorbar": {
             "outlinewidth": 0,
             "ticks": ""
            },
            "colorscale": [
             [
              0,
              "#0d0887"
             ],
             [
              0.1111111111111111,
              "#46039f"
             ],
             [
              0.2222222222222222,
              "#7201a8"
             ],
             [
              0.3333333333333333,
              "#9c179e"
             ],
             [
              0.4444444444444444,
              "#bd3786"
             ],
             [
              0.5555555555555556,
              "#d8576b"
             ],
             [
              0.6666666666666666,
              "#ed7953"
             ],
             [
              0.7777777777777778,
              "#fb9f3a"
             ],
             [
              0.8888888888888888,
              "#fdca26"
             ],
             [
              1,
              "#f0f921"
             ]
            ],
            "type": "histogram2d"
           }
          ],
          "histogram2dcontour": [
           {
            "colorbar": {
             "outlinewidth": 0,
             "ticks": ""
            },
            "colorscale": [
             [
              0,
              "#0d0887"
             ],
             [
              0.1111111111111111,
              "#46039f"
             ],
             [
              0.2222222222222222,
              "#7201a8"
             ],
             [
              0.3333333333333333,
              "#9c179e"
             ],
             [
              0.4444444444444444,
              "#bd3786"
             ],
             [
              0.5555555555555556,
              "#d8576b"
             ],
             [
              0.6666666666666666,
              "#ed7953"
             ],
             [
              0.7777777777777778,
              "#fb9f3a"
             ],
             [
              0.8888888888888888,
              "#fdca26"
             ],
             [
              1,
              "#f0f921"
             ]
            ],
            "type": "histogram2dcontour"
           }
          ],
          "mesh3d": [
           {
            "colorbar": {
             "outlinewidth": 0,
             "ticks": ""
            },
            "type": "mesh3d"
           }
          ],
          "parcoords": [
           {
            "line": {
             "colorbar": {
              "outlinewidth": 0,
              "ticks": ""
             }
            },
            "type": "parcoords"
           }
          ],
          "pie": [
           {
            "automargin": true,
            "type": "pie"
           }
          ],
          "scatter": [
           {
            "fillpattern": {
             "fillmode": "overlay",
             "size": 10,
             "solidity": 0.2
            },
            "type": "scatter"
           }
          ],
          "scatter3d": [
           {
            "line": {
             "colorbar": {
              "outlinewidth": 0,
              "ticks": ""
             }
            },
            "marker": {
             "colorbar": {
              "outlinewidth": 0,
              "ticks": ""
             }
            },
            "type": "scatter3d"
           }
          ],
          "scattercarpet": [
           {
            "marker": {
             "colorbar": {
              "outlinewidth": 0,
              "ticks": ""
             }
            },
            "type": "scattercarpet"
           }
          ],
          "scattergeo": [
           {
            "marker": {
             "colorbar": {
              "outlinewidth": 0,
              "ticks": ""
             }
            },
            "type": "scattergeo"
           }
          ],
          "scattergl": [
           {
            "marker": {
             "colorbar": {
              "outlinewidth": 0,
              "ticks": ""
             }
            },
            "type": "scattergl"
           }
          ],
          "scattermapbox": [
           {
            "marker": {
             "colorbar": {
              "outlinewidth": 0,
              "ticks": ""
             }
            },
            "type": "scattermapbox"
           }
          ],
          "scatterpolar": [
           {
            "marker": {
             "colorbar": {
              "outlinewidth": 0,
              "ticks": ""
             }
            },
            "type": "scatterpolar"
           }
          ],
          "scatterpolargl": [
           {
            "marker": {
             "colorbar": {
              "outlinewidth": 0,
              "ticks": ""
             }
            },
            "type": "scatterpolargl"
           }
          ],
          "scatterternary": [
           {
            "marker": {
             "colorbar": {
              "outlinewidth": 0,
              "ticks": ""
             }
            },
            "type": "scatterternary"
           }
          ],
          "surface": [
           {
            "colorbar": {
             "outlinewidth": 0,
             "ticks": ""
            },
            "colorscale": [
             [
              0,
              "#0d0887"
             ],
             [
              0.1111111111111111,
              "#46039f"
             ],
             [
              0.2222222222222222,
              "#7201a8"
             ],
             [
              0.3333333333333333,
              "#9c179e"
             ],
             [
              0.4444444444444444,
              "#bd3786"
             ],
             [
              0.5555555555555556,
              "#d8576b"
             ],
             [
              0.6666666666666666,
              "#ed7953"
             ],
             [
              0.7777777777777778,
              "#fb9f3a"
             ],
             [
              0.8888888888888888,
              "#fdca26"
             ],
             [
              1,
              "#f0f921"
             ]
            ],
            "type": "surface"
           }
          ],
          "table": [
           {
            "cells": {
             "fill": {
              "color": "#EBF0F8"
             },
             "line": {
              "color": "white"
             }
            },
            "header": {
             "fill": {
              "color": "#C8D4E3"
             },
             "line": {
              "color": "white"
             }
            },
            "type": "table"
           }
          ]
         },
         "layout": {
          "annotationdefaults": {
           "arrowcolor": "#2a3f5f",
           "arrowhead": 0,
           "arrowwidth": 1
          },
          "autotypenumbers": "strict",
          "coloraxis": {
           "colorbar": {
            "outlinewidth": 0,
            "ticks": ""
           }
          },
          "colorscale": {
           "diverging": [
            [
             0,
             "#8e0152"
            ],
            [
             0.1,
             "#c51b7d"
            ],
            [
             0.2,
             "#de77ae"
            ],
            [
             0.3,
             "#f1b6da"
            ],
            [
             0.4,
             "#fde0ef"
            ],
            [
             0.5,
             "#f7f7f7"
            ],
            [
             0.6,
             "#e6f5d0"
            ],
            [
             0.7,
             "#b8e186"
            ],
            [
             0.8,
             "#7fbc41"
            ],
            [
             0.9,
             "#4d9221"
            ],
            [
             1,
             "#276419"
            ]
           ],
           "sequential": [
            [
             0,
             "#0d0887"
            ],
            [
             0.1111111111111111,
             "#46039f"
            ],
            [
             0.2222222222222222,
             "#7201a8"
            ],
            [
             0.3333333333333333,
             "#9c179e"
            ],
            [
             0.4444444444444444,
             "#bd3786"
            ],
            [
             0.5555555555555556,
             "#d8576b"
            ],
            [
             0.6666666666666666,
             "#ed7953"
            ],
            [
             0.7777777777777778,
             "#fb9f3a"
            ],
            [
             0.8888888888888888,
             "#fdca26"
            ],
            [
             1,
             "#f0f921"
            ]
           ],
           "sequentialminus": [
            [
             0,
             "#0d0887"
            ],
            [
             0.1111111111111111,
             "#46039f"
            ],
            [
             0.2222222222222222,
             "#7201a8"
            ],
            [
             0.3333333333333333,
             "#9c179e"
            ],
            [
             0.4444444444444444,
             "#bd3786"
            ],
            [
             0.5555555555555556,
             "#d8576b"
            ],
            [
             0.6666666666666666,
             "#ed7953"
            ],
            [
             0.7777777777777778,
             "#fb9f3a"
            ],
            [
             0.8888888888888888,
             "#fdca26"
            ],
            [
             1,
             "#f0f921"
            ]
           ]
          },
          "colorway": [
           "#636efa",
           "#EF553B",
           "#00cc96",
           "#ab63fa",
           "#FFA15A",
           "#19d3f3",
           "#FF6692",
           "#B6E880",
           "#FF97FF",
           "#FECB52"
          ],
          "font": {
           "color": "#2a3f5f"
          },
          "geo": {
           "bgcolor": "white",
           "lakecolor": "white",
           "landcolor": "#E5ECF6",
           "showlakes": true,
           "showland": true,
           "subunitcolor": "white"
          },
          "hoverlabel": {
           "align": "left"
          },
          "hovermode": "closest",
          "mapbox": {
           "style": "light"
          },
          "paper_bgcolor": "white",
          "plot_bgcolor": "#E5ECF6",
          "polar": {
           "angularaxis": {
            "gridcolor": "white",
            "linecolor": "white",
            "ticks": ""
           },
           "bgcolor": "#E5ECF6",
           "radialaxis": {
            "gridcolor": "white",
            "linecolor": "white",
            "ticks": ""
           }
          },
          "scene": {
           "xaxis": {
            "backgroundcolor": "#E5ECF6",
            "gridcolor": "white",
            "gridwidth": 2,
            "linecolor": "white",
            "showbackground": true,
            "ticks": "",
            "zerolinecolor": "white"
           },
           "yaxis": {
            "backgroundcolor": "#E5ECF6",
            "gridcolor": "white",
            "gridwidth": 2,
            "linecolor": "white",
            "showbackground": true,
            "ticks": "",
            "zerolinecolor": "white"
           },
           "zaxis": {
            "backgroundcolor": "#E5ECF6",
            "gridcolor": "white",
            "gridwidth": 2,
            "linecolor": "white",
            "showbackground": true,
            "ticks": "",
            "zerolinecolor": "white"
           }
          },
          "shapedefaults": {
           "line": {
            "color": "#2a3f5f"
           }
          },
          "ternary": {
           "aaxis": {
            "gridcolor": "white",
            "linecolor": "white",
            "ticks": ""
           },
           "baxis": {
            "gridcolor": "white",
            "linecolor": "white",
            "ticks": ""
           },
           "bgcolor": "#E5ECF6",
           "caxis": {
            "gridcolor": "white",
            "linecolor": "white",
            "ticks": ""
           }
          },
          "title": {
           "x": 0.05
          },
          "xaxis": {
           "automargin": true,
           "gridcolor": "white",
           "linecolor": "white",
           "ticks": "",
           "title": {
            "standoff": 15
           },
           "zerolinecolor": "white",
           "zerolinewidth": 2
          },
          "yaxis": {
           "automargin": true,
           "gridcolor": "white",
           "linecolor": "white",
           "ticks": "",
           "title": {
            "standoff": 15
           },
           "zerolinecolor": "white",
           "zerolinewidth": 2
          }
         }
        },
        "title": {
         "text": "Nav Per Share vs Balancer wstETH/ETHx if it cost 35bps to enter"
        },
        "xaxis": {
         "anchor": "y",
         "domain": [
          0,
          1
         ],
         "title": {
          "text": "timestamp"
         }
        },
        "yaxis": {
         "anchor": "x",
         "domain": [
          0,
          1
         ],
         "title": {
          "text": "value"
         }
        }
       }
      }
     },
     "metadata": {},
     "output_type": "display_data"
    }
   ],
   "source": [
    "# account for costs\n",
    "\n",
    "growth_of_a_dollar_df['starting_quantity_of_lp_tokens'] = (1 / growth_of_a_dollar_df['safeLPTokenPriceInETH'].values[0]) * (1 - .0035) # assume 35 bips to enter and 10bips of gas cost\n",
    "growth_of_a_dollar_df['safe_value_of_lp_tokens'] = growth_of_a_dollar_df['starting_quantity_of_lp_tokens'] * growth_of_a_dollar_df['safeLPTokenPriceInETH']\n",
    "\n",
    "# need to add some assumptions in here about the gas costs of entering, (that we paid) ie 200 usd\n",
    "# and the slippage cost to enter? using our values lets say \n",
    "starting_bal_reward_per_token  = growth_of_a_dollar_df['BAL_reward_per_token'].values[0]\n",
    "starting_stash_aura_reward_per_token = growth_of_a_dollar_df['stash_aura_reward_per_token'].values[0]\n",
    "\n",
    "growth_of_a_dollar_df['bal_earned_since_deposit'] = growth_of_a_dollar_df['starting_quantity_of_lp_tokens'] * (growth_of_a_dollar_df['BAL_reward_per_token'] - starting_bal_reward_per_token)\n",
    "growth_of_a_dollar_df['aura_minted_since_deposit'] = growth_of_a_dollar_df['bal_earned_since_deposit'] * growth_of_a_dollar_df['AURA_minted_for_one_BAL'] \n",
    "\n",
    "growth_of_a_dollar_df['stash_aura_earned_since_deposit'] = growth_of_a_dollar_df['starting_quantity_of_lp_tokens'] * (growth_of_a_dollar_df['stash_aura_reward_per_token'] - starting_stash_aura_reward_per_token)\n",
    "\n",
    "growth_of_a_dollar_df['current_eth_value_of_incentive_tokens_earned'] =  (growth_of_a_dollar_df['bal_earned_since_deposit'] * growth_of_a_dollar_df['BAL_to_ETH']) + (growth_of_a_dollar_df['aura_minted_since_deposit'] * growth_of_a_dollar_df['AURA_to_ETH']) + (growth_of_a_dollar_df['stash_aura_earned_since_deposit'] * growth_of_a_dollar_df['AURA_to_ETH']) \n",
    "\n",
    "growth_of_a_dollar_df['current_eth_value_of_incentive_tokens_earned'] =  growth_of_a_dollar_df['current_eth_value_of_incentive_tokens_earned'] # assume 35 ps of cost to sell reward tokens?\n",
    "growth_of_a_dollar_df['wstETH_ETHx_balancer_value_of_one_eth'] =growth_of_a_dollar_df['safe_value_of_lp_tokens'] + growth_of_a_dollar_df['current_eth_value_of_incentive_tokens_earned']\n",
    "px.line(growth_of_a_dollar_df[['wstETH_ETHx_balancer_value_of_one_eth', 'our_nav_per_share']], title='Nav Per Share vs Balancer wstETH/ETHx if it cost 35bps to enter')"
   ]
  },
  {
   "cell_type": "code",
   "execution_count": 6,
   "metadata": {},
   "outputs": [
    {
     "data": {
      "text/plain": [
       "28.75"
      ]
     },
     "execution_count": 6,
     "metadata": {},
     "output_type": "execute_result"
    }
   ],
   "source": [
    "(20.40 / 20.42 ) - 1 # 10 bips\n",
    "(59.79  / 60) - 1 # 35 bips +\n",
    "((35 * 60 ) + (10 * 20)) / 80\n",
    "# avg of 29 bips of slippage give them "
   ]
  },
  {
   "cell_type": "code",
   "execution_count": null,
   "metadata": {},
   "outputs": [],
   "source": [
    "# # BaseRewardPool4626 = '0x571a20C14a7c3Ac6d30Ee7D1925940bb0C027696' # this is the aura place?\n",
    "# # extra_rewards = '0xe5aABCd2D935C3F06a69b981069A92B252E81a99' # aura\n",
    "# # assumes no dilution, at 1 ETH level.\n",
    "# # Our records are real so we dilute the returns, this is hypothetical so without adding a bunch of complexity\n",
    "\n",
    "\n",
    "# def _get_safe_price_from_getRangePricesLP(success, value):\n",
    "#     if success:\n",
    "#         spotPriceInQuote, safePriceInQuote, isSpotSafe = value\n",
    "#         return int(safePriceInQuote) / 1e18\n",
    "\n",
    "\n",
    "# def build_reward_per_token_stored_calls():\n",
    "#     AURA = \"0xC0c293ce456fF0ED870ADd98a0828Dd4d2903DBF\"\n",
    "#     BAL = \"0xba100000625a3754423978a60c9317c58a424e3D\"\n",
    "#     bal_rewards_call = Call(\n",
    "#         BaseRewardPool4626,\n",
    "#         [\"rewardPerToken()(uint256)\"],\n",
    "#         [(\"BAL_reward_per_token\", safe_normalize_with_bool_success)],\n",
    "#     )\n",
    "\n",
    "#     aura_stash_rewards_call = Call(\n",
    "#         extra_rewards,\n",
    "#         [\"rewardPerToken()(uint256)\"],\n",
    "#         [(\"stash_aura_reward_per_token\", safe_normalize_with_bool_success)],\n",
    "#     )\n",
    "\n",
    "#     aura_minted_from_one_BAL_call = Call(\n",
    "#         stats,\n",
    "#         [\n",
    "#             \"getPlatformTokenMintAmount(address,uint256)(uint256)\",\n",
    "#             AURA,\n",
    "#             int(1e18),\n",
    "#         ],  # imo rounding error, 1.0936 to 1.0696 in a 50 days 1:1 would be 95% as close\n",
    "#         [(\"AURA_minted_for_one_BAL\", safe_normalize_with_bool_success)],\n",
    "#     )\n",
    "\n",
    "#     get_safe_lp_token_value_call = Call(\n",
    "#         BalancerAuraDestinationVault,\n",
    "#         [\"getRangePricesLP()((uint256,uint256,bool))\"],\n",
    "#         [(\"safeLPTokenPriceInETH\", _get_safe_price_from_getRangePricesLP)],\n",
    "#     )\n",
    "#     price_calls = []\n",
    "#     for rewardToken, name in zip([AURA, BAL], [\"AURA_to_ETH\", \"BAL_to_ETH\"]):\n",
    "#         price_calls.append(\n",
    "#             Call(\n",
    "#                 ROOT_PRICE_ORACLE,\n",
    "#                 [\"getPriceInEth(address)(uint256)\", rewardToken],\n",
    "#                 [(name, safe_normalize_with_bool_success)],\n",
    "#             )\n",
    "#         )\n",
    "        \n",
    "#     our_nav_per_share = Call(\n",
    "#         balETH_AUTOPOOL_ETH_ADDRESS,\n",
    "#         [\"convertToAssets(uint256)(uint256)\", int(1e18)],\n",
    "#         [('our_nav_per_share', safe_normalize_with_bool_success)],\n",
    "#     )\n",
    "\n",
    "#     return [bal_rewards_call, aura_minted_from_one_BAL_call, aura_stash_rewards_call, get_safe_lp_token_value_call, *price_calls, our_nav_per_share]\n",
    "\n",
    "\n",
    "# calls = build_reward_per_token_stored_calls()\n",
    "# blocks = build_blocks_to_use()\n",
    "# response = sync_get_raw_state_by_block_one_block(calls, 20642289)\n",
    "# growth_of_a_dollar_df = sync_safe_get_raw_state_by_block(calls, blocks)\n",
    "# growth_of_a_dollar_df= growth_of_a_dollar_df[growth_of_a_dollar_df.index > '2024, 7, 17'].copy()"
   ]
  }
 ],
 "metadata": {
  "kernelspec": {
   "display_name": ".venv",
   "language": "python",
   "name": "python3"
  },
  "language_info": {
   "codemirror_mode": {
    "name": "ipython",
    "version": 3
   },
   "file_extension": ".py",
   "mimetype": "text/x-python",
   "name": "python",
   "nbconvert_exporter": "python",
   "pygments_lexer": "ipython3",
   "version": "3.10.14"
  }
 },
 "nbformat": 4,
 "nbformat_minor": 2
}
