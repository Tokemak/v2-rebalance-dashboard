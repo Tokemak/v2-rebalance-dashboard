{
 "cells": [
  {
   "cell_type": "code",
   "execution_count": null,
   "metadata": {},
   "outputs": [],
   "source": [
    "import plotly.io as pio\n",
    "\n",
    "pio.renderers.default = \"svg\"  # lets this be rendered by github"
   ]
  },
  {
   "cell_type": "code",
   "execution_count": null,
   "metadata": {},
   "outputs": [],
   "source": [
    "from v2_rebalance_dashboard.fetch_lp_composition_over_time import fetch_lp_tokens_and_eth_value_per_destination\n",
    "import plotly.express as px\n",
    "\n",
    "fig = fetch_lp_tokens_and_eth_value_per_destination()\n",
    "fig.show()"
   ]
  },
  {
   "cell_type": "code",
   "execution_count": null,
   "metadata": {},
   "outputs": [],
   "source": [
    "from v2_rebalance_dashboard.fetch_nav_per_share import fetch_daily_nav_per_share_to_plot\n",
    "\n",
    "fig = fetch_daily_nav_per_share_to_plot()\n",
    "fig.show()"
   ]
  },
  {
   "cell_type": "code",
   "execution_count": null,
   "metadata": {},
   "outputs": [],
   "source": [
    "from v2_rebalance_dashboard.fetch_nav import fetch_daily_nav_to_plot\n",
    "\n",
    "fig = fetch_daily_nav_to_plot()\n",
    "fig.show()"
   ]
  }
 ],
 "metadata": {
  "kernelspec": {
   "display_name": ".venv",
   "language": "python",
   "name": "python3"
  },
  "language_info": {
   "codemirror_mode": {
    "name": "ipython",
    "version": 3
   },
   "file_extension": ".py",
   "mimetype": "text/x-python",
   "name": "python",
   "nbconvert_exporter": "python",
   "pygments_lexer": "ipython3",
   "version": "3.12.3"
  }
 },
 "nbformat": 4,
 "nbformat_minor": 2
}
