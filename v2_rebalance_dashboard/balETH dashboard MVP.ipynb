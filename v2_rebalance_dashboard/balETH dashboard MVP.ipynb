{
 "cells": [
  {
   "cell_type": "code",
   "execution_count": 1,
   "metadata": {},
   "outputs": [],
   "source": [
    "# import plotly.io as pio\n",
    "\n",
    "# pio.renderers.default = \"svg\"  # lets this be rendered by github"
   ]
  },
  {
   "cell_type": "code",
   "execution_count": 2,
   "metadata": {},
   "outputs": [
    {
     "data": {
      "application/vnd.plotly.v1+json": {
       "config": {
        "plotlyServerURL": "https://plot.ly"
       },
       "data": [
        {
         "alignmentgroup": "True",
         "hovertemplate": "variable=Tokemak-Wrapped Ether-Balancer rsETH / ETHx<br>timestamp=%{x}<br>value=%{y}<extra></extra>",
         "legendgroup": "Tokemak-Wrapped Ether-Balancer rsETH / ETHx",
         "marker": {
          "color": "#636efa",
          "pattern": {
           "shape": ""
          }
         },
         "name": "Tokemak-Wrapped Ether-Balancer rsETH / ETHx",
         "offsetgroup": "Tokemak-Wrapped Ether-Balancer rsETH / ETHx",
         "orientation": "v",
         "showlegend": true,
         "textposition": "auto",
         "type": "bar",
         "x": [
          "2024-07-08T14:38:47",
          "2024-07-09T14:30:11",
          "2024-07-10T14:16:23",
          "2024-07-11T14:03:23",
          "2024-07-12T13:52:23",
          "2024-07-13T13:39:47",
          "2024-07-14T13:27:47",
          "2024-07-15T13:14:11",
          "2024-07-16T13:01:59",
          "2024-07-17T12:46:35",
          "2024-07-18T12:34:59",
          "2024-07-19T12:20:35",
          "2024-07-20T12:07:35",
          "2024-07-21T11:53:23",
          "2024-07-22T11:41:35",
          "2024-07-23T11:29:35",
          "2024-07-24T11:15:11",
          "2024-07-25T11:02:47",
          "2024-07-26T10:50:47",
          "2024-07-27T10:39:11",
          "2024-07-28T10:26:35",
          "2024-07-29T10:11:59",
          "2024-07-30T10:01:11",
          "2024-07-31T09:48:35",
          "2024-08-01T09:35:35",
          "2024-08-02T09:22:59",
          "2024-08-03T09:12:35",
          "2024-08-04T08:57:23",
          "2024-08-05T08:41:47",
          "2024-08-06T08:28:47",
          "2024-08-07T08:15:59",
          "2024-08-08T08:01:47",
          "2024-08-09T07:46:35",
          "2024-08-10T07:32:35",
          "2024-08-11T07:19:47",
          "2024-08-12T07:07:35",
          "2024-08-13T06:53:35",
          "2024-08-14T06:40:47",
          "2024-08-15T06:27:59",
          "2024-08-16T06:16:35",
          "2024-08-17T06:04:59",
          "2024-08-18T05:51:59",
          "2024-08-19T05:39:23",
          "2024-08-20T05:26:11",
          "2024-08-21T05:15:11",
          "2024-08-22T05:04:23",
          "2024-08-23T04:51:59"
         ],
         "xaxis": "x",
         "y": [
          0,
          0,
          0,
          0,
          0,
          0,
          0,
          0,
          0,
          0,
          59.97512992336156,
          59.99410534570134,
          60.029963149946234,
          60.00296468818126,
          59.9938560062274,
          59.98545372361873,
          59.97700164657217,
          59.98078682156184,
          59.98438779051566,
          59.996319447289665,
          60.00937045891777,
          59.99932712813585,
          60.002050209234035,
          60.01350201890397,
          60.01723138208759,
          60.020046113281126,
          60.02187419272855,
          60.004540902783106,
          59.993034469991855,
          59.65601845039034,
          59.90962494009104,
          59.90256856233421,
          0,
          0,
          0,
          0,
          0,
          0,
          0,
          0,
          80.39096246442018,
          80.44153897922604,
          80.45783627044185,
          80.47897085949188,
          80.49031460224768,
          80.52810232990093,
          80.55870848914796
         ],
         "yaxis": "y"
        },
        {
         "alignmentgroup": "True",
         "hovertemplate": "variable=Tokemak-Wrapped Ether-Balancer rsETH-WETH Stable Pool<br>timestamp=%{x}<br>value=%{y}<extra></extra>",
         "legendgroup": "Tokemak-Wrapped Ether-Balancer rsETH-WETH Stable Pool",
         "marker": {
          "color": "#EF553B",
          "pattern": {
           "shape": ""
          }
         },
         "name": "Tokemak-Wrapped Ether-Balancer rsETH-WETH Stable Pool",
         "offsetgroup": "Tokemak-Wrapped Ether-Balancer rsETH-WETH Stable Pool",
         "orientation": "v",
         "showlegend": true,
         "textposition": "auto",
         "type": "bar",
         "x": [
          "2024-07-08T14:38:47",
          "2024-07-09T14:30:11",
          "2024-07-10T14:16:23",
          "2024-07-11T14:03:23",
          "2024-07-12T13:52:23",
          "2024-07-13T13:39:47",
          "2024-07-14T13:27:47",
          "2024-07-15T13:14:11",
          "2024-07-16T13:01:59",
          "2024-07-17T12:46:35",
          "2024-07-18T12:34:59",
          "2024-07-19T12:20:35",
          "2024-07-20T12:07:35",
          "2024-07-21T11:53:23",
          "2024-07-22T11:41:35",
          "2024-07-23T11:29:35",
          "2024-07-24T11:15:11",
          "2024-07-25T11:02:47",
          "2024-07-26T10:50:47",
          "2024-07-27T10:39:11",
          "2024-07-28T10:26:35",
          "2024-07-29T10:11:59",
          "2024-07-30T10:01:11",
          "2024-07-31T09:48:35",
          "2024-08-01T09:35:35",
          "2024-08-02T09:22:59",
          "2024-08-03T09:12:35",
          "2024-08-04T08:57:23",
          "2024-08-05T08:41:47",
          "2024-08-06T08:28:47",
          "2024-08-07T08:15:59",
          "2024-08-08T08:01:47",
          "2024-08-09T07:46:35",
          "2024-08-10T07:32:35",
          "2024-08-11T07:19:47",
          "2024-08-12T07:07:35",
          "2024-08-13T06:53:35",
          "2024-08-14T06:40:47",
          "2024-08-15T06:27:59",
          "2024-08-16T06:16:35",
          "2024-08-17T06:04:59",
          "2024-08-18T05:51:59",
          "2024-08-19T05:39:23",
          "2024-08-20T05:26:11",
          "2024-08-21T05:15:11",
          "2024-08-22T05:04:23",
          "2024-08-23T04:51:59"
         ],
         "xaxis": "x",
         "y": [
          0,
          0,
          0,
          0,
          0,
          0,
          0,
          0,
          0,
          0,
          0,
          0,
          0,
          0,
          0,
          0,
          0,
          0,
          0,
          0,
          0,
          0,
          0,
          0,
          0,
          0,
          0,
          0,
          0,
          0,
          0,
          20.41635144147446,
          80.3409542662577,
          80.3639846134399,
          80.36311065377234,
          80.38799801655449,
          80.37337508008383,
          80.3690015905798,
          80.37357967527956,
          80.38165718041104,
          0,
          0,
          0,
          0,
          0,
          0,
          0
         ],
         "yaxis": "y"
        }
       ],
       "layout": {
        "barmode": "relative",
        "height": 500,
        "legend": {
         "title": {
          "text": "variable"
         },
         "tracegroupgap": 0
        },
        "margin": {
         "b": 40,
         "l": 40,
         "r": 40,
         "t": 40
        },
        "template": {
         "data": {
          "bar": [
           {
            "error_x": {
             "color": "#2a3f5f"
            },
            "error_y": {
             "color": "#2a3f5f"
            },
            "marker": {
             "line": {
              "color": "#E5ECF6",
              "width": 0.5
             },
             "pattern": {
              "fillmode": "overlay",
              "size": 10,
              "solidity": 0.2
             }
            },
            "type": "bar"
           }
          ],
          "barpolar": [
           {
            "marker": {
             "line": {
              "color": "#E5ECF6",
              "width": 0.5
             },
             "pattern": {
              "fillmode": "overlay",
              "size": 10,
              "solidity": 0.2
             }
            },
            "type": "barpolar"
           }
          ],
          "carpet": [
           {
            "aaxis": {
             "endlinecolor": "#2a3f5f",
             "gridcolor": "white",
             "linecolor": "white",
             "minorgridcolor": "white",
             "startlinecolor": "#2a3f5f"
            },
            "baxis": {
             "endlinecolor": "#2a3f5f",
             "gridcolor": "white",
             "linecolor": "white",
             "minorgridcolor": "white",
             "startlinecolor": "#2a3f5f"
            },
            "type": "carpet"
           }
          ],
          "choropleth": [
           {
            "colorbar": {
             "outlinewidth": 0,
             "ticks": ""
            },
            "type": "choropleth"
           }
          ],
          "contour": [
           {
            "colorbar": {
             "outlinewidth": 0,
             "ticks": ""
            },
            "colorscale": [
             [
              0,
              "#0d0887"
             ],
             [
              0.1111111111111111,
              "#46039f"
             ],
             [
              0.2222222222222222,
              "#7201a8"
             ],
             [
              0.3333333333333333,
              "#9c179e"
             ],
             [
              0.4444444444444444,
              "#bd3786"
             ],
             [
              0.5555555555555556,
              "#d8576b"
             ],
             [
              0.6666666666666666,
              "#ed7953"
             ],
             [
              0.7777777777777778,
              "#fb9f3a"
             ],
             [
              0.8888888888888888,
              "#fdca26"
             ],
             [
              1,
              "#f0f921"
             ]
            ],
            "type": "contour"
           }
          ],
          "contourcarpet": [
           {
            "colorbar": {
             "outlinewidth": 0,
             "ticks": ""
            },
            "type": "contourcarpet"
           }
          ],
          "heatmap": [
           {
            "colorbar": {
             "outlinewidth": 0,
             "ticks": ""
            },
            "colorscale": [
             [
              0,
              "#0d0887"
             ],
             [
              0.1111111111111111,
              "#46039f"
             ],
             [
              0.2222222222222222,
              "#7201a8"
             ],
             [
              0.3333333333333333,
              "#9c179e"
             ],
             [
              0.4444444444444444,
              "#bd3786"
             ],
             [
              0.5555555555555556,
              "#d8576b"
             ],
             [
              0.6666666666666666,
              "#ed7953"
             ],
             [
              0.7777777777777778,
              "#fb9f3a"
             ],
             [
              0.8888888888888888,
              "#fdca26"
             ],
             [
              1,
              "#f0f921"
             ]
            ],
            "type": "heatmap"
           }
          ],
          "heatmapgl": [
           {
            "colorbar": {
             "outlinewidth": 0,
             "ticks": ""
            },
            "colorscale": [
             [
              0,
              "#0d0887"
             ],
             [
              0.1111111111111111,
              "#46039f"
             ],
             [
              0.2222222222222222,
              "#7201a8"
             ],
             [
              0.3333333333333333,
              "#9c179e"
             ],
             [
              0.4444444444444444,
              "#bd3786"
             ],
             [
              0.5555555555555556,
              "#d8576b"
             ],
             [
              0.6666666666666666,
              "#ed7953"
             ],
             [
              0.7777777777777778,
              "#fb9f3a"
             ],
             [
              0.8888888888888888,
              "#fdca26"
             ],
             [
              1,
              "#f0f921"
             ]
            ],
            "type": "heatmapgl"
           }
          ],
          "histogram": [
           {
            "marker": {
             "pattern": {
              "fillmode": "overlay",
              "size": 10,
              "solidity": 0.2
             }
            },
            "type": "histogram"
           }
          ],
          "histogram2d": [
           {
            "colorbar": {
             "outlinewidth": 0,
             "ticks": ""
            },
            "colorscale": [
             [
              0,
              "#0d0887"
             ],
             [
              0.1111111111111111,
              "#46039f"
             ],
             [
              0.2222222222222222,
              "#7201a8"
             ],
             [
              0.3333333333333333,
              "#9c179e"
             ],
             [
              0.4444444444444444,
              "#bd3786"
             ],
             [
              0.5555555555555556,
              "#d8576b"
             ],
             [
              0.6666666666666666,
              "#ed7953"
             ],
             [
              0.7777777777777778,
              "#fb9f3a"
             ],
             [
              0.8888888888888888,
              "#fdca26"
             ],
             [
              1,
              "#f0f921"
             ]
            ],
            "type": "histogram2d"
           }
          ],
          "histogram2dcontour": [
           {
            "colorbar": {
             "outlinewidth": 0,
             "ticks": ""
            },
            "colorscale": [
             [
              0,
              "#0d0887"
             ],
             [
              0.1111111111111111,
              "#46039f"
             ],
             [
              0.2222222222222222,
              "#7201a8"
             ],
             [
              0.3333333333333333,
              "#9c179e"
             ],
             [
              0.4444444444444444,
              "#bd3786"
             ],
             [
              0.5555555555555556,
              "#d8576b"
             ],
             [
              0.6666666666666666,
              "#ed7953"
             ],
             [
              0.7777777777777778,
              "#fb9f3a"
             ],
             [
              0.8888888888888888,
              "#fdca26"
             ],
             [
              1,
              "#f0f921"
             ]
            ],
            "type": "histogram2dcontour"
           }
          ],
          "mesh3d": [
           {
            "colorbar": {
             "outlinewidth": 0,
             "ticks": ""
            },
            "type": "mesh3d"
           }
          ],
          "parcoords": [
           {
            "line": {
             "colorbar": {
              "outlinewidth": 0,
              "ticks": ""
             }
            },
            "type": "parcoords"
           }
          ],
          "pie": [
           {
            "automargin": true,
            "type": "pie"
           }
          ],
          "scatter": [
           {
            "fillpattern": {
             "fillmode": "overlay",
             "size": 10,
             "solidity": 0.2
            },
            "type": "scatter"
           }
          ],
          "scatter3d": [
           {
            "line": {
             "colorbar": {
              "outlinewidth": 0,
              "ticks": ""
             }
            },
            "marker": {
             "colorbar": {
              "outlinewidth": 0,
              "ticks": ""
             }
            },
            "type": "scatter3d"
           }
          ],
          "scattercarpet": [
           {
            "marker": {
             "colorbar": {
              "outlinewidth": 0,
              "ticks": ""
             }
            },
            "type": "scattercarpet"
           }
          ],
          "scattergeo": [
           {
            "marker": {
             "colorbar": {
              "outlinewidth": 0,
              "ticks": ""
             }
            },
            "type": "scattergeo"
           }
          ],
          "scattergl": [
           {
            "marker": {
             "colorbar": {
              "outlinewidth": 0,
              "ticks": ""
             }
            },
            "type": "scattergl"
           }
          ],
          "scattermapbox": [
           {
            "marker": {
             "colorbar": {
              "outlinewidth": 0,
              "ticks": ""
             }
            },
            "type": "scattermapbox"
           }
          ],
          "scatterpolar": [
           {
            "marker": {
             "colorbar": {
              "outlinewidth": 0,
              "ticks": ""
             }
            },
            "type": "scatterpolar"
           }
          ],
          "scatterpolargl": [
           {
            "marker": {
             "colorbar": {
              "outlinewidth": 0,
              "ticks": ""
             }
            },
            "type": "scatterpolargl"
           }
          ],
          "scatterternary": [
           {
            "marker": {
             "colorbar": {
              "outlinewidth": 0,
              "ticks": ""
             }
            },
            "type": "scatterternary"
           }
          ],
          "surface": [
           {
            "colorbar": {
             "outlinewidth": 0,
             "ticks": ""
            },
            "colorscale": [
             [
              0,
              "#0d0887"
             ],
             [
              0.1111111111111111,
              "#46039f"
             ],
             [
              0.2222222222222222,
              "#7201a8"
             ],
             [
              0.3333333333333333,
              "#9c179e"
             ],
             [
              0.4444444444444444,
              "#bd3786"
             ],
             [
              0.5555555555555556,
              "#d8576b"
             ],
             [
              0.6666666666666666,
              "#ed7953"
             ],
             [
              0.7777777777777778,
              "#fb9f3a"
             ],
             [
              0.8888888888888888,
              "#fdca26"
             ],
             [
              1,
              "#f0f921"
             ]
            ],
            "type": "surface"
           }
          ],
          "table": [
           {
            "cells": {
             "fill": {
              "color": "#EBF0F8"
             },
             "line": {
              "color": "white"
             }
            },
            "header": {
             "fill": {
              "color": "#C8D4E3"
             },
             "line": {
              "color": "white"
             }
            },
            "type": "table"
           }
          ]
         },
         "layout": {
          "annotationdefaults": {
           "arrowcolor": "#2a3f5f",
           "arrowhead": 0,
           "arrowwidth": 1
          },
          "autotypenumbers": "strict",
          "coloraxis": {
           "colorbar": {
            "outlinewidth": 0,
            "ticks": ""
           }
          },
          "colorscale": {
           "diverging": [
            [
             0,
             "#8e0152"
            ],
            [
             0.1,
             "#c51b7d"
            ],
            [
             0.2,
             "#de77ae"
            ],
            [
             0.3,
             "#f1b6da"
            ],
            [
             0.4,
             "#fde0ef"
            ],
            [
             0.5,
             "#f7f7f7"
            ],
            [
             0.6,
             "#e6f5d0"
            ],
            [
             0.7,
             "#b8e186"
            ],
            [
             0.8,
             "#7fbc41"
            ],
            [
             0.9,
             "#4d9221"
            ],
            [
             1,
             "#276419"
            ]
           ],
           "sequential": [
            [
             0,
             "#0d0887"
            ],
            [
             0.1111111111111111,
             "#46039f"
            ],
            [
             0.2222222222222222,
             "#7201a8"
            ],
            [
             0.3333333333333333,
             "#9c179e"
            ],
            [
             0.4444444444444444,
             "#bd3786"
            ],
            [
             0.5555555555555556,
             "#d8576b"
            ],
            [
             0.6666666666666666,
             "#ed7953"
            ],
            [
             0.7777777777777778,
             "#fb9f3a"
            ],
            [
             0.8888888888888888,
             "#fdca26"
            ],
            [
             1,
             "#f0f921"
            ]
           ],
           "sequentialminus": [
            [
             0,
             "#0d0887"
            ],
            [
             0.1111111111111111,
             "#46039f"
            ],
            [
             0.2222222222222222,
             "#7201a8"
            ],
            [
             0.3333333333333333,
             "#9c179e"
            ],
            [
             0.4444444444444444,
             "#bd3786"
            ],
            [
             0.5555555555555556,
             "#d8576b"
            ],
            [
             0.6666666666666666,
             "#ed7953"
            ],
            [
             0.7777777777777778,
             "#fb9f3a"
            ],
            [
             0.8888888888888888,
             "#fdca26"
            ],
            [
             1,
             "#f0f921"
            ]
           ]
          },
          "colorway": [
           "#636efa",
           "#EF553B",
           "#00cc96",
           "#ab63fa",
           "#FFA15A",
           "#19d3f3",
           "#FF6692",
           "#B6E880",
           "#FF97FF",
           "#FECB52"
          ],
          "font": {
           "color": "#2a3f5f"
          },
          "geo": {
           "bgcolor": "white",
           "lakecolor": "white",
           "landcolor": "#E5ECF6",
           "showlakes": true,
           "showland": true,
           "subunitcolor": "white"
          },
          "hoverlabel": {
           "align": "left"
          },
          "hovermode": "closest",
          "mapbox": {
           "style": "light"
          },
          "paper_bgcolor": "white",
          "plot_bgcolor": "#E5ECF6",
          "polar": {
           "angularaxis": {
            "gridcolor": "white",
            "linecolor": "white",
            "ticks": ""
           },
           "bgcolor": "#E5ECF6",
           "radialaxis": {
            "gridcolor": "white",
            "linecolor": "white",
            "ticks": ""
           }
          },
          "scene": {
           "xaxis": {
            "backgroundcolor": "#E5ECF6",
            "gridcolor": "white",
            "gridwidth": 2,
            "linecolor": "white",
            "showbackground": true,
            "ticks": "",
            "zerolinecolor": "white"
           },
           "yaxis": {
            "backgroundcolor": "#E5ECF6",
            "gridcolor": "white",
            "gridwidth": 2,
            "linecolor": "white",
            "showbackground": true,
            "ticks": "",
            "zerolinecolor": "white"
           },
           "zaxis": {
            "backgroundcolor": "#E5ECF6",
            "gridcolor": "white",
            "gridwidth": 2,
            "linecolor": "white",
            "showbackground": true,
            "ticks": "",
            "zerolinecolor": "white"
           }
          },
          "shapedefaults": {
           "line": {
            "color": "#2a3f5f"
           }
          },
          "ternary": {
           "aaxis": {
            "gridcolor": "white",
            "linecolor": "white",
            "ticks": ""
           },
           "baxis": {
            "gridcolor": "white",
            "linecolor": "white",
            "ticks": ""
           },
           "bgcolor": "#E5ECF6",
           "caxis": {
            "gridcolor": "white",
            "linecolor": "white",
            "ticks": ""
           }
          },
          "title": {
           "x": 0.05
          },
          "xaxis": {
           "automargin": true,
           "gridcolor": "white",
           "linecolor": "white",
           "ticks": "",
           "title": {
            "standoff": 15
           },
           "zerolinecolor": "white",
           "zerolinewidth": 2
          },
          "yaxis": {
           "automargin": true,
           "gridcolor": "white",
           "linecolor": "white",
           "ticks": "",
           "title": {
            "standoff": 15
           },
           "zerolinecolor": "white",
           "zerolinewidth": 2
          }
         }
        },
        "title": {
         "text": "ETH Value By Destination",
         "x": 0.5
        },
        "width": 800,
        "xaxis": {
         "anchor": "y",
         "domain": [
          0,
          1
         ],
         "title": {
          "text": "Date"
         }
        },
        "yaxis": {
         "anchor": "x",
         "domain": [
          0,
          1
         ],
         "title": {
          "text": "ETH value"
         }
        }
       }
      }
     },
     "metadata": {},
     "output_type": "display_data"
    }
   ],
   "source": [
    "from v2_rebalance_dashboard.fetch_lp_composition_over_time import fetch_lp_tokens_and_eth_value_per_destination\n",
    "\n",
    "fig = fetch_lp_tokens_and_eth_value_per_destination()\n",
    "fig.show()"
   ]
  },
  {
   "cell_type": "code",
   "execution_count": 3,
   "metadata": {},
   "outputs": [
    {
     "data": {
      "text/html": [
       "<div>\n",
       "<style scoped>\n",
       "    .dataframe tbody tr th:only-of-type {\n",
       "        vertical-align: middle;\n",
       "    }\n",
       "\n",
       "    .dataframe tbody tr th {\n",
       "        vertical-align: top;\n",
       "    }\n",
       "\n",
       "    .dataframe thead th {\n",
       "        text-align: right;\n",
       "    }\n",
       "</style>\n",
       "<table border=\"1\" class=\"dataframe\">\n",
       "  <thead>\n",
       "    <tr style=\"text-align: right;\">\n",
       "      <th></th>\n",
       "      <th>name</th>\n",
       "      <th>our_approx_eth_value_in_Tokemak-Wrapped Ether-Balancer rsETH / ETHx</th>\n",
       "      <th>rsETH_value_in_Tokemak-Wrapped Ether-Balancer rsETH / ETHx</th>\n",
       "      <th>ETHx_value_in_Tokemak-Wrapped Ether-Balancer rsETH / ETHx</th>\n",
       "      <th>total_value_in_Tokemak-Wrapped Ether-Balancer rsETH / ETHx</th>\n",
       "      <th>our_approx_portion_of_Tokemak-Wrapped Ether-Balancer rsETH / ETHx</th>\n",
       "      <th>our_rsETH</th>\n",
       "      <th>our_ETHx</th>\n",
       "      <th>our_approx_eth_value_in_Tokemak-Wrapped Ether-Balancer rsETH-WETH Stable Pool</th>\n",
       "      <th>rsETH_value_in_Tokemak-Wrapped Ether-Balancer rsETH-WETH Stable Pool</th>\n",
       "      <th>Wrapped Ether_value_in_Tokemak-Wrapped Ether-Balancer rsETH-WETH Stable Pool</th>\n",
       "      <th>total_value_in_Tokemak-Wrapped Ether-Balancer rsETH-WETH Stable Pool</th>\n",
       "      <th>our_approx_portion_of_Tokemak-Wrapped Ether-Balancer rsETH-WETH Stable Pool</th>\n",
       "      <th>our_Wrapped Ether</th>\n",
       "    </tr>\n",
       "    <tr>\n",
       "      <th>timestamp</th>\n",
       "      <th></th>\n",
       "      <th></th>\n",
       "      <th></th>\n",
       "      <th></th>\n",
       "      <th></th>\n",
       "      <th></th>\n",
       "      <th></th>\n",
       "      <th></th>\n",
       "      <th></th>\n",
       "      <th></th>\n",
       "      <th></th>\n",
       "      <th></th>\n",
       "      <th></th>\n",
       "      <th></th>\n",
       "    </tr>\n",
       "  </thead>\n",
       "  <tbody>\n",
       "    <tr>\n",
       "      <th>2024-07-08 14:38:47</th>\n",
       "      <td>Tokemak-Wrapped Ether-Balancer rsETH / ETHx</td>\n",
       "      <td>0.000000</td>\n",
       "      <td>1308.593641</td>\n",
       "      <td>343.523433</td>\n",
       "      <td>1652.117074</td>\n",
       "      <td>0.000000</td>\n",
       "      <td>0.000000</td>\n",
       "      <td>0.000000</td>\n",
       "      <td>NaN</td>\n",
       "      <td>NaN</td>\n",
       "      <td>NaN</td>\n",
       "      <td>NaN</td>\n",
       "      <td>NaN</td>\n",
       "      <td>NaN</td>\n",
       "    </tr>\n",
       "    <tr>\n",
       "      <th>2024-07-08 14:38:47</th>\n",
       "      <td>Tokemak-Wrapped Ether-Balancer rsETH-WETH Stab...</td>\n",
       "      <td>NaN</td>\n",
       "      <td>NaN</td>\n",
       "      <td>NaN</td>\n",
       "      <td>NaN</td>\n",
       "      <td>NaN</td>\n",
       "      <td>0.000000</td>\n",
       "      <td>NaN</td>\n",
       "      <td>0.0</td>\n",
       "      <td>6163.117891</td>\n",
       "      <td>1312.335593</td>\n",
       "      <td>7475.453484</td>\n",
       "      <td>0.0</td>\n",
       "      <td>0.0</td>\n",
       "    </tr>\n",
       "    <tr>\n",
       "      <th>2024-07-09 14:30:11</th>\n",
       "      <td>Tokemak-Wrapped Ether-Balancer rsETH / ETHx</td>\n",
       "      <td>0.000000</td>\n",
       "      <td>1341.727598</td>\n",
       "      <td>312.278289</td>\n",
       "      <td>1654.005887</td>\n",
       "      <td>0.000000</td>\n",
       "      <td>0.000000</td>\n",
       "      <td>0.000000</td>\n",
       "      <td>NaN</td>\n",
       "      <td>NaN</td>\n",
       "      <td>NaN</td>\n",
       "      <td>NaN</td>\n",
       "      <td>NaN</td>\n",
       "      <td>NaN</td>\n",
       "    </tr>\n",
       "    <tr>\n",
       "      <th>2024-07-09 14:30:11</th>\n",
       "      <td>Tokemak-Wrapped Ether-Balancer rsETH-WETH Stab...</td>\n",
       "      <td>NaN</td>\n",
       "      <td>NaN</td>\n",
       "      <td>NaN</td>\n",
       "      <td>NaN</td>\n",
       "      <td>NaN</td>\n",
       "      <td>0.000000</td>\n",
       "      <td>NaN</td>\n",
       "      <td>0.0</td>\n",
       "      <td>6124.269474</td>\n",
       "      <td>1358.378363</td>\n",
       "      <td>7482.647837</td>\n",
       "      <td>0.0</td>\n",
       "      <td>0.0</td>\n",
       "    </tr>\n",
       "    <tr>\n",
       "      <th>2024-07-10 14:16:23</th>\n",
       "      <td>Tokemak-Wrapped Ether-Balancer rsETH / ETHx</td>\n",
       "      <td>0.000000</td>\n",
       "      <td>1346.003944</td>\n",
       "      <td>307.587347</td>\n",
       "      <td>1653.591290</td>\n",
       "      <td>0.000000</td>\n",
       "      <td>0.000000</td>\n",
       "      <td>0.000000</td>\n",
       "      <td>NaN</td>\n",
       "      <td>NaN</td>\n",
       "      <td>NaN</td>\n",
       "      <td>NaN</td>\n",
       "      <td>NaN</td>\n",
       "      <td>NaN</td>\n",
       "    </tr>\n",
       "    <tr>\n",
       "      <th>...</th>\n",
       "      <td>...</td>\n",
       "      <td>...</td>\n",
       "      <td>...</td>\n",
       "      <td>...</td>\n",
       "      <td>...</td>\n",
       "      <td>...</td>\n",
       "      <td>...</td>\n",
       "      <td>...</td>\n",
       "      <td>...</td>\n",
       "      <td>...</td>\n",
       "      <td>...</td>\n",
       "      <td>...</td>\n",
       "      <td>...</td>\n",
       "      <td>...</td>\n",
       "    </tr>\n",
       "    <tr>\n",
       "      <th>2024-08-21 05:15:11</th>\n",
       "      <td>Tokemak-Wrapped Ether-Balancer rsETH-WETH Stab...</td>\n",
       "      <td>NaN</td>\n",
       "      <td>NaN</td>\n",
       "      <td>NaN</td>\n",
       "      <td>NaN</td>\n",
       "      <td>NaN</td>\n",
       "      <td>0.000000</td>\n",
       "      <td>NaN</td>\n",
       "      <td>0.0</td>\n",
       "      <td>4808.188437</td>\n",
       "      <td>1664.770274</td>\n",
       "      <td>6472.958711</td>\n",
       "      <td>0.0</td>\n",
       "      <td>0.0</td>\n",
       "    </tr>\n",
       "    <tr>\n",
       "      <th>2024-08-22 05:04:23</th>\n",
       "      <td>Tokemak-Wrapped Ether-Balancer rsETH / ETHx</td>\n",
       "      <td>80.528102</td>\n",
       "      <td>1071.787647</td>\n",
       "      <td>422.522327</td>\n",
       "      <td>1494.309974</td>\n",
       "      <td>0.053890</td>\n",
       "      <td>57.758448</td>\n",
       "      <td>22.769654</td>\n",
       "      <td>NaN</td>\n",
       "      <td>NaN</td>\n",
       "      <td>NaN</td>\n",
       "      <td>NaN</td>\n",
       "      <td>NaN</td>\n",
       "      <td>NaN</td>\n",
       "    </tr>\n",
       "    <tr>\n",
       "      <th>2024-08-22 05:04:23</th>\n",
       "      <td>Tokemak-Wrapped Ether-Balancer rsETH-WETH Stab...</td>\n",
       "      <td>NaN</td>\n",
       "      <td>NaN</td>\n",
       "      <td>NaN</td>\n",
       "      <td>NaN</td>\n",
       "      <td>NaN</td>\n",
       "      <td>0.000000</td>\n",
       "      <td>NaN</td>\n",
       "      <td>0.0</td>\n",
       "      <td>4761.229289</td>\n",
       "      <td>1879.931136</td>\n",
       "      <td>6641.160425</td>\n",
       "      <td>0.0</td>\n",
       "      <td>0.0</td>\n",
       "    </tr>\n",
       "    <tr>\n",
       "      <th>2024-08-23 04:51:59</th>\n",
       "      <td>Tokemak-Wrapped Ether-Balancer rsETH / ETHx</td>\n",
       "      <td>80.558708</td>\n",
       "      <td>1062.878360</td>\n",
       "      <td>432.407030</td>\n",
       "      <td>1495.285390</td>\n",
       "      <td>0.053875</td>\n",
       "      <td>57.262720</td>\n",
       "      <td>23.295989</td>\n",
       "      <td>NaN</td>\n",
       "      <td>NaN</td>\n",
       "      <td>NaN</td>\n",
       "      <td>NaN</td>\n",
       "      <td>NaN</td>\n",
       "      <td>NaN</td>\n",
       "    </tr>\n",
       "    <tr>\n",
       "      <th>2024-08-23 04:51:59</th>\n",
       "      <td>Tokemak-Wrapped Ether-Balancer rsETH-WETH Stab...</td>\n",
       "      <td>NaN</td>\n",
       "      <td>NaN</td>\n",
       "      <td>NaN</td>\n",
       "      <td>NaN</td>\n",
       "      <td>NaN</td>\n",
       "      <td>0.000000</td>\n",
       "      <td>NaN</td>\n",
       "      <td>0.0</td>\n",
       "      <td>4765.645640</td>\n",
       "      <td>1879.599469</td>\n",
       "      <td>6645.245109</td>\n",
       "      <td>0.0</td>\n",
       "      <td>0.0</td>\n",
       "    </tr>\n",
       "  </tbody>\n",
       "</table>\n",
       "<p>94 rows × 14 columns</p>\n",
       "</div>"
      ],
      "text/plain": [
       "                                                                  name  \\\n",
       "timestamp                                                                \n",
       "2024-07-08 14:38:47        Tokemak-Wrapped Ether-Balancer rsETH / ETHx   \n",
       "2024-07-08 14:38:47  Tokemak-Wrapped Ether-Balancer rsETH-WETH Stab...   \n",
       "2024-07-09 14:30:11        Tokemak-Wrapped Ether-Balancer rsETH / ETHx   \n",
       "2024-07-09 14:30:11  Tokemak-Wrapped Ether-Balancer rsETH-WETH Stab...   \n",
       "2024-07-10 14:16:23        Tokemak-Wrapped Ether-Balancer rsETH / ETHx   \n",
       "...                                                                ...   \n",
       "2024-08-21 05:15:11  Tokemak-Wrapped Ether-Balancer rsETH-WETH Stab...   \n",
       "2024-08-22 05:04:23        Tokemak-Wrapped Ether-Balancer rsETH / ETHx   \n",
       "2024-08-22 05:04:23  Tokemak-Wrapped Ether-Balancer rsETH-WETH Stab...   \n",
       "2024-08-23 04:51:59        Tokemak-Wrapped Ether-Balancer rsETH / ETHx   \n",
       "2024-08-23 04:51:59  Tokemak-Wrapped Ether-Balancer rsETH-WETH Stab...   \n",
       "\n",
       "                     our_approx_eth_value_in_Tokemak-Wrapped Ether-Balancer rsETH / ETHx  \\\n",
       "timestamp                                                                                  \n",
       "2024-07-08 14:38:47                                           0.000000                     \n",
       "2024-07-08 14:38:47                                                NaN                     \n",
       "2024-07-09 14:30:11                                           0.000000                     \n",
       "2024-07-09 14:30:11                                                NaN                     \n",
       "2024-07-10 14:16:23                                           0.000000                     \n",
       "...                                                                ...                     \n",
       "2024-08-21 05:15:11                                                NaN                     \n",
       "2024-08-22 05:04:23                                          80.528102                     \n",
       "2024-08-22 05:04:23                                                NaN                     \n",
       "2024-08-23 04:51:59                                          80.558708                     \n",
       "2024-08-23 04:51:59                                                NaN                     \n",
       "\n",
       "                     rsETH_value_in_Tokemak-Wrapped Ether-Balancer rsETH / ETHx  \\\n",
       "timestamp                                                                         \n",
       "2024-07-08 14:38:47                                        1308.593641            \n",
       "2024-07-08 14:38:47                                                NaN            \n",
       "2024-07-09 14:30:11                                        1341.727598            \n",
       "2024-07-09 14:30:11                                                NaN            \n",
       "2024-07-10 14:16:23                                        1346.003944            \n",
       "...                                                                ...            \n",
       "2024-08-21 05:15:11                                                NaN            \n",
       "2024-08-22 05:04:23                                        1071.787647            \n",
       "2024-08-22 05:04:23                                                NaN            \n",
       "2024-08-23 04:51:59                                        1062.878360            \n",
       "2024-08-23 04:51:59                                                NaN            \n",
       "\n",
       "                     ETHx_value_in_Tokemak-Wrapped Ether-Balancer rsETH / ETHx  \\\n",
       "timestamp                                                                        \n",
       "2024-07-08 14:38:47                                         343.523433           \n",
       "2024-07-08 14:38:47                                                NaN           \n",
       "2024-07-09 14:30:11                                         312.278289           \n",
       "2024-07-09 14:30:11                                                NaN           \n",
       "2024-07-10 14:16:23                                         307.587347           \n",
       "...                                                                ...           \n",
       "2024-08-21 05:15:11                                                NaN           \n",
       "2024-08-22 05:04:23                                         422.522327           \n",
       "2024-08-22 05:04:23                                                NaN           \n",
       "2024-08-23 04:51:59                                         432.407030           \n",
       "2024-08-23 04:51:59                                                NaN           \n",
       "\n",
       "                     total_value_in_Tokemak-Wrapped Ether-Balancer rsETH / ETHx  \\\n",
       "timestamp                                                                         \n",
       "2024-07-08 14:38:47                                        1652.117074            \n",
       "2024-07-08 14:38:47                                                NaN            \n",
       "2024-07-09 14:30:11                                        1654.005887            \n",
       "2024-07-09 14:30:11                                                NaN            \n",
       "2024-07-10 14:16:23                                        1653.591290            \n",
       "...                                                                ...            \n",
       "2024-08-21 05:15:11                                                NaN            \n",
       "2024-08-22 05:04:23                                        1494.309974            \n",
       "2024-08-22 05:04:23                                                NaN            \n",
       "2024-08-23 04:51:59                                        1495.285390            \n",
       "2024-08-23 04:51:59                                                NaN            \n",
       "\n",
       "                     our_approx_portion_of_Tokemak-Wrapped Ether-Balancer rsETH / ETHx  \\\n",
       "timestamp                                                                                \n",
       "2024-07-08 14:38:47                                           0.000000                   \n",
       "2024-07-08 14:38:47                                                NaN                   \n",
       "2024-07-09 14:30:11                                           0.000000                   \n",
       "2024-07-09 14:30:11                                                NaN                   \n",
       "2024-07-10 14:16:23                                           0.000000                   \n",
       "...                                                                ...                   \n",
       "2024-08-21 05:15:11                                                NaN                   \n",
       "2024-08-22 05:04:23                                           0.053890                   \n",
       "2024-08-22 05:04:23                                                NaN                   \n",
       "2024-08-23 04:51:59                                           0.053875                   \n",
       "2024-08-23 04:51:59                                                NaN                   \n",
       "\n",
       "                     our_rsETH   our_ETHx  \\\n",
       "timestamp                                   \n",
       "2024-07-08 14:38:47   0.000000   0.000000   \n",
       "2024-07-08 14:38:47   0.000000        NaN   \n",
       "2024-07-09 14:30:11   0.000000   0.000000   \n",
       "2024-07-09 14:30:11   0.000000        NaN   \n",
       "2024-07-10 14:16:23   0.000000   0.000000   \n",
       "...                        ...        ...   \n",
       "2024-08-21 05:15:11   0.000000        NaN   \n",
       "2024-08-22 05:04:23  57.758448  22.769654   \n",
       "2024-08-22 05:04:23   0.000000        NaN   \n",
       "2024-08-23 04:51:59  57.262720  23.295989   \n",
       "2024-08-23 04:51:59   0.000000        NaN   \n",
       "\n",
       "                     our_approx_eth_value_in_Tokemak-Wrapped Ether-Balancer rsETH-WETH Stable Pool  \\\n",
       "timestamp                                                                                            \n",
       "2024-07-08 14:38:47                                                NaN                               \n",
       "2024-07-08 14:38:47                                                0.0                               \n",
       "2024-07-09 14:30:11                                                NaN                               \n",
       "2024-07-09 14:30:11                                                0.0                               \n",
       "2024-07-10 14:16:23                                                NaN                               \n",
       "...                                                                ...                               \n",
       "2024-08-21 05:15:11                                                0.0                               \n",
       "2024-08-22 05:04:23                                                NaN                               \n",
       "2024-08-22 05:04:23                                                0.0                               \n",
       "2024-08-23 04:51:59                                                NaN                               \n",
       "2024-08-23 04:51:59                                                0.0                               \n",
       "\n",
       "                     rsETH_value_in_Tokemak-Wrapped Ether-Balancer rsETH-WETH Stable Pool  \\\n",
       "timestamp                                                                                   \n",
       "2024-07-08 14:38:47                                                NaN                      \n",
       "2024-07-08 14:38:47                                        6163.117891                      \n",
       "2024-07-09 14:30:11                                                NaN                      \n",
       "2024-07-09 14:30:11                                        6124.269474                      \n",
       "2024-07-10 14:16:23                                                NaN                      \n",
       "...                                                                ...                      \n",
       "2024-08-21 05:15:11                                        4808.188437                      \n",
       "2024-08-22 05:04:23                                                NaN                      \n",
       "2024-08-22 05:04:23                                        4761.229289                      \n",
       "2024-08-23 04:51:59                                                NaN                      \n",
       "2024-08-23 04:51:59                                        4765.645640                      \n",
       "\n",
       "                     Wrapped Ether_value_in_Tokemak-Wrapped Ether-Balancer rsETH-WETH Stable Pool  \\\n",
       "timestamp                                                                                           \n",
       "2024-07-08 14:38:47                                                NaN                              \n",
       "2024-07-08 14:38:47                                        1312.335593                              \n",
       "2024-07-09 14:30:11                                                NaN                              \n",
       "2024-07-09 14:30:11                                        1358.378363                              \n",
       "2024-07-10 14:16:23                                                NaN                              \n",
       "...                                                                ...                              \n",
       "2024-08-21 05:15:11                                        1664.770274                              \n",
       "2024-08-22 05:04:23                                                NaN                              \n",
       "2024-08-22 05:04:23                                        1879.931136                              \n",
       "2024-08-23 04:51:59                                                NaN                              \n",
       "2024-08-23 04:51:59                                        1879.599469                              \n",
       "\n",
       "                     total_value_in_Tokemak-Wrapped Ether-Balancer rsETH-WETH Stable Pool  \\\n",
       "timestamp                                                                                   \n",
       "2024-07-08 14:38:47                                                NaN                      \n",
       "2024-07-08 14:38:47                                        7475.453484                      \n",
       "2024-07-09 14:30:11                                                NaN                      \n",
       "2024-07-09 14:30:11                                        7482.647837                      \n",
       "2024-07-10 14:16:23                                                NaN                      \n",
       "...                                                                ...                      \n",
       "2024-08-21 05:15:11                                        6472.958711                      \n",
       "2024-08-22 05:04:23                                                NaN                      \n",
       "2024-08-22 05:04:23                                        6641.160425                      \n",
       "2024-08-23 04:51:59                                                NaN                      \n",
       "2024-08-23 04:51:59                                        6645.245109                      \n",
       "\n",
       "                     our_approx_portion_of_Tokemak-Wrapped Ether-Balancer rsETH-WETH Stable Pool  \\\n",
       "timestamp                                                                                          \n",
       "2024-07-08 14:38:47                                                NaN                             \n",
       "2024-07-08 14:38:47                                                0.0                             \n",
       "2024-07-09 14:30:11                                                NaN                             \n",
       "2024-07-09 14:30:11                                                0.0                             \n",
       "2024-07-10 14:16:23                                                NaN                             \n",
       "...                                                                ...                             \n",
       "2024-08-21 05:15:11                                                0.0                             \n",
       "2024-08-22 05:04:23                                                NaN                             \n",
       "2024-08-22 05:04:23                                                0.0                             \n",
       "2024-08-23 04:51:59                                                NaN                             \n",
       "2024-08-23 04:51:59                                                0.0                             \n",
       "\n",
       "                     our_Wrapped Ether  \n",
       "timestamp                               \n",
       "2024-07-08 14:38:47                NaN  \n",
       "2024-07-08 14:38:47                0.0  \n",
       "2024-07-09 14:30:11                NaN  \n",
       "2024-07-09 14:30:11                0.0  \n",
       "2024-07-10 14:16:23                NaN  \n",
       "...                                ...  \n",
       "2024-08-21 05:15:11                0.0  \n",
       "2024-08-22 05:04:23                NaN  \n",
       "2024-08-22 05:04:23                0.0  \n",
       "2024-08-23 04:51:59                NaN  \n",
       "2024-08-23 04:51:59                0.0  \n",
       "\n",
       "[94 rows x 14 columns]"
      ]
     },
     "execution_count": 3,
     "metadata": {},
     "output_type": "execute_result"
    }
   ],
   "source": [
    "from v2_rebalance_dashboard.fetch_asset_combination_over_time import fetch_asset_composition_over_time_to_plot\n",
    "import plotly.express as px\n",
    "df = fetch_asset_composition_over_time_to_plot()\n",
    "df"
   ]
  },
  {
   "cell_type": "code",
   "execution_count": 12,
   "metadata": {},
   "outputs": [
    {
     "data": {
      "application/vnd.plotly.v1+json": {
       "config": {
        "plotlyServerURL": "https://plot.ly"
       },
       "data": [
        {
         "alignmentgroup": "True",
         "hovertemplate": "variable=our_approx_eth_value_in_Tokemak-Wrapped Ether-Balancer rsETH / ETHx<br>timestamp=%{x}<br>value=%{y}<extra></extra>",
         "legendgroup": "our_approx_eth_value_in_Tokemak-Wrapped Ether-Balancer rsETH / ETHx",
         "marker": {
          "color": "#636efa",
          "pattern": {
           "shape": ""
          }
         },
         "name": "our_approx_eth_value_in_Tokemak-Wrapped Ether-Balancer rsETH / ETHx",
         "offsetgroup": "our_approx_eth_value_in_Tokemak-Wrapped Ether-Balancer rsETH / ETHx",
         "orientation": "v",
         "showlegend": true,
         "textposition": "auto",
         "type": "bar",
         "x": [
          "2024-07-08T14:38:47",
          "2024-07-08T14:38:47",
          "2024-07-09T14:30:11",
          "2024-07-09T14:30:11",
          "2024-07-10T14:16:23",
          "2024-07-10T14:16:23",
          "2024-07-11T14:03:23",
          "2024-07-11T14:03:23",
          "2024-07-12T13:52:23",
          "2024-07-12T13:52:23",
          "2024-07-13T13:39:47",
          "2024-07-13T13:39:47",
          "2024-07-14T13:27:47",
          "2024-07-14T13:27:47",
          "2024-07-15T13:14:11",
          "2024-07-15T13:14:11",
          "2024-07-16T13:01:59",
          "2024-07-16T13:01:59",
          "2024-07-17T12:46:35",
          "2024-07-17T12:46:35",
          "2024-07-18T12:34:59",
          "2024-07-18T12:34:59",
          "2024-07-19T12:20:35",
          "2024-07-19T12:20:35",
          "2024-07-20T12:07:35",
          "2024-07-20T12:07:35",
          "2024-07-21T11:53:23",
          "2024-07-21T11:53:23",
          "2024-07-22T11:41:35",
          "2024-07-22T11:41:35",
          "2024-07-23T11:29:35",
          "2024-07-23T11:29:35",
          "2024-07-24T11:15:11",
          "2024-07-24T11:15:11",
          "2024-07-25T11:02:47",
          "2024-07-25T11:02:47",
          "2024-07-26T10:50:47",
          "2024-07-26T10:50:47",
          "2024-07-27T10:39:11",
          "2024-07-27T10:39:11",
          "2024-07-28T10:26:35",
          "2024-07-28T10:26:35",
          "2024-07-29T10:11:59",
          "2024-07-29T10:11:59",
          "2024-07-30T10:01:11",
          "2024-07-30T10:01:11",
          "2024-07-31T09:48:35",
          "2024-07-31T09:48:35",
          "2024-08-01T09:35:35",
          "2024-08-01T09:35:35",
          "2024-08-02T09:22:59",
          "2024-08-02T09:22:59",
          "2024-08-03T09:12:35",
          "2024-08-03T09:12:35",
          "2024-08-04T08:57:23",
          "2024-08-04T08:57:23",
          "2024-08-05T08:41:47",
          "2024-08-05T08:41:47",
          "2024-08-06T08:28:47",
          "2024-08-06T08:28:47",
          "2024-08-07T08:15:59",
          "2024-08-07T08:15:59",
          "2024-08-08T08:01:47",
          "2024-08-08T08:01:47",
          "2024-08-09T07:46:35",
          "2024-08-09T07:46:35",
          "2024-08-10T07:32:35",
          "2024-08-10T07:32:35",
          "2024-08-11T07:19:47",
          "2024-08-11T07:19:47",
          "2024-08-12T07:07:35",
          "2024-08-12T07:07:35",
          "2024-08-13T06:53:35",
          "2024-08-13T06:53:35",
          "2024-08-14T06:40:47",
          "2024-08-14T06:40:47",
          "2024-08-15T06:27:59",
          "2024-08-15T06:27:59",
          "2024-08-16T06:16:35",
          "2024-08-16T06:16:35",
          "2024-08-17T06:04:59",
          "2024-08-17T06:04:59",
          "2024-08-18T05:51:59",
          "2024-08-18T05:51:59",
          "2024-08-19T05:39:23",
          "2024-08-19T05:39:23",
          "2024-08-20T05:26:11",
          "2024-08-20T05:26:11",
          "2024-08-21T05:15:11",
          "2024-08-21T05:15:11",
          "2024-08-22T05:04:23",
          "2024-08-22T05:04:23",
          "2024-08-23T04:51:59",
          "2024-08-23T04:51:59"
         ],
         "xaxis": "x",
         "y": [
          0,
          null,
          0,
          null,
          0,
          null,
          0,
          null,
          0,
          null,
          0,
          null,
          0,
          null,
          0,
          null,
          0,
          null,
          0,
          null,
          59.97512992336156,
          null,
          59.99410534570134,
          null,
          60.029963149946234,
          null,
          60.00296468818126,
          null,
          59.9938560062274,
          null,
          59.98545372361873,
          null,
          59.97700164657217,
          null,
          59.98078682156184,
          null,
          59.98438779051566,
          null,
          59.996319447289665,
          null,
          60.00937045891777,
          null,
          59.99932712813585,
          null,
          60.002050209234035,
          null,
          60.01350201890397,
          null,
          60.01723138208759,
          null,
          60.020046113281126,
          null,
          60.02187419272855,
          null,
          60.004540902783106,
          null,
          59.993034469991855,
          null,
          59.65601845039034,
          null,
          59.90962494009104,
          null,
          59.90256856233421,
          null,
          0,
          null,
          0,
          null,
          0,
          null,
          0,
          null,
          0,
          null,
          0,
          null,
          0,
          null,
          0,
          null,
          80.39096246442018,
          null,
          80.44153897922604,
          null,
          80.45783627044185,
          null,
          80.47897085949188,
          null,
          80.49031460224768,
          null,
          80.52810232990093,
          null,
          80.55870848914796,
          null
         ],
         "yaxis": "y"
        },
        {
         "alignmentgroup": "True",
         "hovertemplate": "variable=rsETH_value_in_Tokemak-Wrapped Ether-Balancer rsETH / ETHx<br>timestamp=%{x}<br>value=%{y}<extra></extra>",
         "legendgroup": "rsETH_value_in_Tokemak-Wrapped Ether-Balancer rsETH / ETHx",
         "marker": {
          "color": "#EF553B",
          "pattern": {
           "shape": ""
          }
         },
         "name": "rsETH_value_in_Tokemak-Wrapped Ether-Balancer rsETH / ETHx",
         "offsetgroup": "rsETH_value_in_Tokemak-Wrapped Ether-Balancer rsETH / ETHx",
         "orientation": "v",
         "showlegend": true,
         "textposition": "auto",
         "type": "bar",
         "x": [
          "2024-07-08T14:38:47",
          "2024-07-08T14:38:47",
          "2024-07-09T14:30:11",
          "2024-07-09T14:30:11",
          "2024-07-10T14:16:23",
          "2024-07-10T14:16:23",
          "2024-07-11T14:03:23",
          "2024-07-11T14:03:23",
          "2024-07-12T13:52:23",
          "2024-07-12T13:52:23",
          "2024-07-13T13:39:47",
          "2024-07-13T13:39:47",
          "2024-07-14T13:27:47",
          "2024-07-14T13:27:47",
          "2024-07-15T13:14:11",
          "2024-07-15T13:14:11",
          "2024-07-16T13:01:59",
          "2024-07-16T13:01:59",
          "2024-07-17T12:46:35",
          "2024-07-17T12:46:35",
          "2024-07-18T12:34:59",
          "2024-07-18T12:34:59",
          "2024-07-19T12:20:35",
          "2024-07-19T12:20:35",
          "2024-07-20T12:07:35",
          "2024-07-20T12:07:35",
          "2024-07-21T11:53:23",
          "2024-07-21T11:53:23",
          "2024-07-22T11:41:35",
          "2024-07-22T11:41:35",
          "2024-07-23T11:29:35",
          "2024-07-23T11:29:35",
          "2024-07-24T11:15:11",
          "2024-07-24T11:15:11",
          "2024-07-25T11:02:47",
          "2024-07-25T11:02:47",
          "2024-07-26T10:50:47",
          "2024-07-26T10:50:47",
          "2024-07-27T10:39:11",
          "2024-07-27T10:39:11",
          "2024-07-28T10:26:35",
          "2024-07-28T10:26:35",
          "2024-07-29T10:11:59",
          "2024-07-29T10:11:59",
          "2024-07-30T10:01:11",
          "2024-07-30T10:01:11",
          "2024-07-31T09:48:35",
          "2024-07-31T09:48:35",
          "2024-08-01T09:35:35",
          "2024-08-01T09:35:35",
          "2024-08-02T09:22:59",
          "2024-08-02T09:22:59",
          "2024-08-03T09:12:35",
          "2024-08-03T09:12:35",
          "2024-08-04T08:57:23",
          "2024-08-04T08:57:23",
          "2024-08-05T08:41:47",
          "2024-08-05T08:41:47",
          "2024-08-06T08:28:47",
          "2024-08-06T08:28:47",
          "2024-08-07T08:15:59",
          "2024-08-07T08:15:59",
          "2024-08-08T08:01:47",
          "2024-08-08T08:01:47",
          "2024-08-09T07:46:35",
          "2024-08-09T07:46:35",
          "2024-08-10T07:32:35",
          "2024-08-10T07:32:35",
          "2024-08-11T07:19:47",
          "2024-08-11T07:19:47",
          "2024-08-12T07:07:35",
          "2024-08-12T07:07:35",
          "2024-08-13T06:53:35",
          "2024-08-13T06:53:35",
          "2024-08-14T06:40:47",
          "2024-08-14T06:40:47",
          "2024-08-15T06:27:59",
          "2024-08-15T06:27:59",
          "2024-08-16T06:16:35",
          "2024-08-16T06:16:35",
          "2024-08-17T06:04:59",
          "2024-08-17T06:04:59",
          "2024-08-18T05:51:59",
          "2024-08-18T05:51:59",
          "2024-08-19T05:39:23",
          "2024-08-19T05:39:23",
          "2024-08-20T05:26:11",
          "2024-08-20T05:26:11",
          "2024-08-21T05:15:11",
          "2024-08-21T05:15:11",
          "2024-08-22T05:04:23",
          "2024-08-22T05:04:23",
          "2024-08-23T04:51:59",
          "2024-08-23T04:51:59"
         ],
         "xaxis": "x",
         "y": [
          1308.5936411579883,
          null,
          1341.7275982889942,
          null,
          1346.0039436256975,
          null,
          1345.5267441058318,
          null,
          1306.1117360658193,
          null,
          1124.756424656185,
          null,
          1033.118086776376,
          null,
          871.5184016700812,
          null,
          841.2492170455196,
          null,
          771.2217460551155,
          null,
          804.181086692288,
          null,
          938.384916719526,
          null,
          936.6543357408519,
          null,
          987.9233070386715,
          null,
          1002.9210978452772,
          null,
          1124.7721043113468,
          null,
          1070.6775223407258,
          null,
          960.2133512033942,
          null,
          964.8410791826781,
          null,
          898.8794993150192,
          null,
          1076.1033139767148,
          null,
          1066.086978481322,
          null,
          1021.1248600363808,
          null,
          1021.3992637050229,
          null,
          1021.35316499165,
          null,
          1021.4987690586115,
          null,
          1225.8095153648396,
          null,
          1225.8095153648396,
          null,
          1434.7179165439554,
          null,
          1141.3532383933389,
          null,
          1148.05934713331,
          null,
          1148.964716752382,
          null,
          1117.7346230467485,
          null,
          1117.2169354189584,
          null,
          1117.479299283377,
          null,
          1082.8385691466856,
          null,
          1132.8625094638496,
          null,
          1121.9447347518555,
          null,
          1119.6863494144814,
          null,
          1108.665878224478,
          null,
          1165.0026974778916,
          null,
          1108.9819261161738,
          null,
          1109.6206689560522,
          null,
          1098.7373182382023,
          null,
          1070.490165925821,
          null,
          1071.787647235696,
          null,
          1062.8783599446806,
          null
         ],
         "yaxis": "y"
        },
        {
         "alignmentgroup": "True",
         "hovertemplate": "variable=ETHx_value_in_Tokemak-Wrapped Ether-Balancer rsETH / ETHx<br>timestamp=%{x}<br>value=%{y}<extra></extra>",
         "legendgroup": "ETHx_value_in_Tokemak-Wrapped Ether-Balancer rsETH / ETHx",
         "marker": {
          "color": "#00cc96",
          "pattern": {
           "shape": ""
          }
         },
         "name": "ETHx_value_in_Tokemak-Wrapped Ether-Balancer rsETH / ETHx",
         "offsetgroup": "ETHx_value_in_Tokemak-Wrapped Ether-Balancer rsETH / ETHx",
         "orientation": "v",
         "showlegend": true,
         "textposition": "auto",
         "type": "bar",
         "x": [
          "2024-07-08T14:38:47",
          "2024-07-08T14:38:47",
          "2024-07-09T14:30:11",
          "2024-07-09T14:30:11",
          "2024-07-10T14:16:23",
          "2024-07-10T14:16:23",
          "2024-07-11T14:03:23",
          "2024-07-11T14:03:23",
          "2024-07-12T13:52:23",
          "2024-07-12T13:52:23",
          "2024-07-13T13:39:47",
          "2024-07-13T13:39:47",
          "2024-07-14T13:27:47",
          "2024-07-14T13:27:47",
          "2024-07-15T13:14:11",
          "2024-07-15T13:14:11",
          "2024-07-16T13:01:59",
          "2024-07-16T13:01:59",
          "2024-07-17T12:46:35",
          "2024-07-17T12:46:35",
          "2024-07-18T12:34:59",
          "2024-07-18T12:34:59",
          "2024-07-19T12:20:35",
          "2024-07-19T12:20:35",
          "2024-07-20T12:07:35",
          "2024-07-20T12:07:35",
          "2024-07-21T11:53:23",
          "2024-07-21T11:53:23",
          "2024-07-22T11:41:35",
          "2024-07-22T11:41:35",
          "2024-07-23T11:29:35",
          "2024-07-23T11:29:35",
          "2024-07-24T11:15:11",
          "2024-07-24T11:15:11",
          "2024-07-25T11:02:47",
          "2024-07-25T11:02:47",
          "2024-07-26T10:50:47",
          "2024-07-26T10:50:47",
          "2024-07-27T10:39:11",
          "2024-07-27T10:39:11",
          "2024-07-28T10:26:35",
          "2024-07-28T10:26:35",
          "2024-07-29T10:11:59",
          "2024-07-29T10:11:59",
          "2024-07-30T10:01:11",
          "2024-07-30T10:01:11",
          "2024-07-31T09:48:35",
          "2024-07-31T09:48:35",
          "2024-08-01T09:35:35",
          "2024-08-01T09:35:35",
          "2024-08-02T09:22:59",
          "2024-08-02T09:22:59",
          "2024-08-03T09:12:35",
          "2024-08-03T09:12:35",
          "2024-08-04T08:57:23",
          "2024-08-04T08:57:23",
          "2024-08-05T08:41:47",
          "2024-08-05T08:41:47",
          "2024-08-06T08:28:47",
          "2024-08-06T08:28:47",
          "2024-08-07T08:15:59",
          "2024-08-07T08:15:59",
          "2024-08-08T08:01:47",
          "2024-08-08T08:01:47",
          "2024-08-09T07:46:35",
          "2024-08-09T07:46:35",
          "2024-08-10T07:32:35",
          "2024-08-10T07:32:35",
          "2024-08-11T07:19:47",
          "2024-08-11T07:19:47",
          "2024-08-12T07:07:35",
          "2024-08-12T07:07:35",
          "2024-08-13T06:53:35",
          "2024-08-13T06:53:35",
          "2024-08-14T06:40:47",
          "2024-08-14T06:40:47",
          "2024-08-15T06:27:59",
          "2024-08-15T06:27:59",
          "2024-08-16T06:16:35",
          "2024-08-16T06:16:35",
          "2024-08-17T06:04:59",
          "2024-08-17T06:04:59",
          "2024-08-18T05:51:59",
          "2024-08-18T05:51:59",
          "2024-08-19T05:39:23",
          "2024-08-19T05:39:23",
          "2024-08-20T05:26:11",
          "2024-08-20T05:26:11",
          "2024-08-21T05:15:11",
          "2024-08-21T05:15:11",
          "2024-08-22T05:04:23",
          "2024-08-22T05:04:23",
          "2024-08-23T04:51:59",
          "2024-08-23T04:51:59"
         ],
         "xaxis": "x",
         "y": [
          343.52343299360354,
          null,
          312.2782886884612,
          null,
          307.58734650884924,
          null,
          307.5548258682423,
          null,
          348.81991878981455,
          null,
          530.755460811462,
          null,
          669.8176066796173,
          null,
          830.9025541133864,
          null,
          811.5098622611853,
          null,
          881.908803332358,
          null,
          909.4909068153228,
          null,
          776.3381540052345,
          null,
          777.2958301857806,
          null,
          725.8948578206773,
          null,
          731.5761971398615,
          null,
          609.537812518315,
          null,
          663.5229148288367,
          null,
          774.1723952568412,
          null,
          769.7033842951124,
          null,
          836.2011644221975,
          null,
          659.4180448545756,
          null,
          667.9269725364757,
          null,
          712.9643778262916,
          null,
          713.055698644602,
          null,
          713.1982959108462,
          null,
          713.2500845505091,
          null,
          508.54373978723225,
          null,
          508.64064283803333,
          null,
          284.14941359960625,
          null,
          340.2201796750967,
          null,
          333.6141052513953,
          null,
          333.41779795882934,
          null,
          305.15561017800786,
          null,
          305.26359881158453,
          null,
          305.3217195664324,
          null,
          338.6214111164719,
          null,
          288.3990905516509,
          null,
          298.99915715641686,
          null,
          301.2591413375073,
          null,
          312.60903410693504,
          null,
          336.8785913978845,
          null,
          393.63960321761084,
          null,
          393.6362905484873,
          null,
          394.8064177239061,
          null,
          423.3860389843465,
          null,
          422.52232719466883,
          null,
          432.40703013814004,
          null
         ],
         "yaxis": "y"
        },
        {
         "alignmentgroup": "True",
         "hovertemplate": "variable=total_value_in_Tokemak-Wrapped Ether-Balancer rsETH / ETHx<br>timestamp=%{x}<br>value=%{y}<extra></extra>",
         "legendgroup": "total_value_in_Tokemak-Wrapped Ether-Balancer rsETH / ETHx",
         "marker": {
          "color": "#ab63fa",
          "pattern": {
           "shape": ""
          }
         },
         "name": "total_value_in_Tokemak-Wrapped Ether-Balancer rsETH / ETHx",
         "offsetgroup": "total_value_in_Tokemak-Wrapped Ether-Balancer rsETH / ETHx",
         "orientation": "v",
         "showlegend": true,
         "textposition": "auto",
         "type": "bar",
         "x": [
          "2024-07-08T14:38:47",
          "2024-07-08T14:38:47",
          "2024-07-09T14:30:11",
          "2024-07-09T14:30:11",
          "2024-07-10T14:16:23",
          "2024-07-10T14:16:23",
          "2024-07-11T14:03:23",
          "2024-07-11T14:03:23",
          "2024-07-12T13:52:23",
          "2024-07-12T13:52:23",
          "2024-07-13T13:39:47",
          "2024-07-13T13:39:47",
          "2024-07-14T13:27:47",
          "2024-07-14T13:27:47",
          "2024-07-15T13:14:11",
          "2024-07-15T13:14:11",
          "2024-07-16T13:01:59",
          "2024-07-16T13:01:59",
          "2024-07-17T12:46:35",
          "2024-07-17T12:46:35",
          "2024-07-18T12:34:59",
          "2024-07-18T12:34:59",
          "2024-07-19T12:20:35",
          "2024-07-19T12:20:35",
          "2024-07-20T12:07:35",
          "2024-07-20T12:07:35",
          "2024-07-21T11:53:23",
          "2024-07-21T11:53:23",
          "2024-07-22T11:41:35",
          "2024-07-22T11:41:35",
          "2024-07-23T11:29:35",
          "2024-07-23T11:29:35",
          "2024-07-24T11:15:11",
          "2024-07-24T11:15:11",
          "2024-07-25T11:02:47",
          "2024-07-25T11:02:47",
          "2024-07-26T10:50:47",
          "2024-07-26T10:50:47",
          "2024-07-27T10:39:11",
          "2024-07-27T10:39:11",
          "2024-07-28T10:26:35",
          "2024-07-28T10:26:35",
          "2024-07-29T10:11:59",
          "2024-07-29T10:11:59",
          "2024-07-30T10:01:11",
          "2024-07-30T10:01:11",
          "2024-07-31T09:48:35",
          "2024-07-31T09:48:35",
          "2024-08-01T09:35:35",
          "2024-08-01T09:35:35",
          "2024-08-02T09:22:59",
          "2024-08-02T09:22:59",
          "2024-08-03T09:12:35",
          "2024-08-03T09:12:35",
          "2024-08-04T08:57:23",
          "2024-08-04T08:57:23",
          "2024-08-05T08:41:47",
          "2024-08-05T08:41:47",
          "2024-08-06T08:28:47",
          "2024-08-06T08:28:47",
          "2024-08-07T08:15:59",
          "2024-08-07T08:15:59",
          "2024-08-08T08:01:47",
          "2024-08-08T08:01:47",
          "2024-08-09T07:46:35",
          "2024-08-09T07:46:35",
          "2024-08-10T07:32:35",
          "2024-08-10T07:32:35",
          "2024-08-11T07:19:47",
          "2024-08-11T07:19:47",
          "2024-08-12T07:07:35",
          "2024-08-12T07:07:35",
          "2024-08-13T06:53:35",
          "2024-08-13T06:53:35",
          "2024-08-14T06:40:47",
          "2024-08-14T06:40:47",
          "2024-08-15T06:27:59",
          "2024-08-15T06:27:59",
          "2024-08-16T06:16:35",
          "2024-08-16T06:16:35",
          "2024-08-17T06:04:59",
          "2024-08-17T06:04:59",
          "2024-08-18T05:51:59",
          "2024-08-18T05:51:59",
          "2024-08-19T05:39:23",
          "2024-08-19T05:39:23",
          "2024-08-20T05:26:11",
          "2024-08-20T05:26:11",
          "2024-08-21T05:15:11",
          "2024-08-21T05:15:11",
          "2024-08-22T05:04:23",
          "2024-08-22T05:04:23",
          "2024-08-23T04:51:59",
          "2024-08-23T04:51:59"
         ],
         "xaxis": "x",
         "y": [
          1652.1170741515919,
          null,
          1654.0058869774552,
          null,
          1653.5912901345469,
          null,
          1653.081569974074,
          null,
          1654.931654855634,
          null,
          1655.5118854676468,
          null,
          1702.9356934559933,
          null,
          1702.4209557834674,
          null,
          1652.7590793067047,
          null,
          1653.1305493874736,
          null,
          1713.6719935076108,
          null,
          1714.7230707247604,
          null,
          1713.9501659266325,
          null,
          1713.8181648593488,
          null,
          1734.4972949851388,
          null,
          1734.3099168296617,
          null,
          1734.2004371695625,
          null,
          1734.3857464602354,
          null,
          1734.5444634777905,
          null,
          1735.0806637372166,
          null,
          1735.5213588312904,
          null,
          1734.0139510177976,
          null,
          1734.0892378626725,
          null,
          1734.454962349625,
          null,
          1734.5514609024963,
          null,
          1734.7488536091205,
          null,
          1734.3532551520718,
          null,
          1734.450158202873,
          null,
          1718.8673301435617,
          null,
          1481.5734180684356,
          null,
          1481.6734523847053,
          null,
          1482.3825147112113,
          null,
          1422.8902332247565,
          null,
          1422.480534230543,
          null,
          1422.8010188498095,
          null,
          1421.4599802631574,
          null,
          1421.2616000155006,
          null,
          1420.9438919082725,
          null,
          1420.9454907519887,
          null,
          1421.2749123314131,
          null,
          1501.8812888757761,
          null,
          1502.6215293337846,
          null,
          1503.2569595045395,
          null,
          1493.5437359621085,
          null,
          1493.8762049101674,
          null,
          1494.309974430365,
          null,
          1495.2853900828206,
          null
         ],
         "yaxis": "y"
        },
        {
         "alignmentgroup": "True",
         "hovertemplate": "variable=our_approx_portion_of_Tokemak-Wrapped Ether-Balancer rsETH / ETHx<br>timestamp=%{x}<br>value=%{y}<extra></extra>",
         "legendgroup": "our_approx_portion_of_Tokemak-Wrapped Ether-Balancer rsETH / ETHx",
         "marker": {
          "color": "#FFA15A",
          "pattern": {
           "shape": ""
          }
         },
         "name": "our_approx_portion_of_Tokemak-Wrapped Ether-Balancer rsETH / ETHx",
         "offsetgroup": "our_approx_portion_of_Tokemak-Wrapped Ether-Balancer rsETH / ETHx",
         "orientation": "v",
         "showlegend": true,
         "textposition": "auto",
         "type": "bar",
         "x": [
          "2024-07-08T14:38:47",
          "2024-07-08T14:38:47",
          "2024-07-09T14:30:11",
          "2024-07-09T14:30:11",
          "2024-07-10T14:16:23",
          "2024-07-10T14:16:23",
          "2024-07-11T14:03:23",
          "2024-07-11T14:03:23",
          "2024-07-12T13:52:23",
          "2024-07-12T13:52:23",
          "2024-07-13T13:39:47",
          "2024-07-13T13:39:47",
          "2024-07-14T13:27:47",
          "2024-07-14T13:27:47",
          "2024-07-15T13:14:11",
          "2024-07-15T13:14:11",
          "2024-07-16T13:01:59",
          "2024-07-16T13:01:59",
          "2024-07-17T12:46:35",
          "2024-07-17T12:46:35",
          "2024-07-18T12:34:59",
          "2024-07-18T12:34:59",
          "2024-07-19T12:20:35",
          "2024-07-19T12:20:35",
          "2024-07-20T12:07:35",
          "2024-07-20T12:07:35",
          "2024-07-21T11:53:23",
          "2024-07-21T11:53:23",
          "2024-07-22T11:41:35",
          "2024-07-22T11:41:35",
          "2024-07-23T11:29:35",
          "2024-07-23T11:29:35",
          "2024-07-24T11:15:11",
          "2024-07-24T11:15:11",
          "2024-07-25T11:02:47",
          "2024-07-25T11:02:47",
          "2024-07-26T10:50:47",
          "2024-07-26T10:50:47",
          "2024-07-27T10:39:11",
          "2024-07-27T10:39:11",
          "2024-07-28T10:26:35",
          "2024-07-28T10:26:35",
          "2024-07-29T10:11:59",
          "2024-07-29T10:11:59",
          "2024-07-30T10:01:11",
          "2024-07-30T10:01:11",
          "2024-07-31T09:48:35",
          "2024-07-31T09:48:35",
          "2024-08-01T09:35:35",
          "2024-08-01T09:35:35",
          "2024-08-02T09:22:59",
          "2024-08-02T09:22:59",
          "2024-08-03T09:12:35",
          "2024-08-03T09:12:35",
          "2024-08-04T08:57:23",
          "2024-08-04T08:57:23",
          "2024-08-05T08:41:47",
          "2024-08-05T08:41:47",
          "2024-08-06T08:28:47",
          "2024-08-06T08:28:47",
          "2024-08-07T08:15:59",
          "2024-08-07T08:15:59",
          "2024-08-08T08:01:47",
          "2024-08-08T08:01:47",
          "2024-08-09T07:46:35",
          "2024-08-09T07:46:35",
          "2024-08-10T07:32:35",
          "2024-08-10T07:32:35",
          "2024-08-11T07:19:47",
          "2024-08-11T07:19:47",
          "2024-08-12T07:07:35",
          "2024-08-12T07:07:35",
          "2024-08-13T06:53:35",
          "2024-08-13T06:53:35",
          "2024-08-14T06:40:47",
          "2024-08-14T06:40:47",
          "2024-08-15T06:27:59",
          "2024-08-15T06:27:59",
          "2024-08-16T06:16:35",
          "2024-08-16T06:16:35",
          "2024-08-17T06:04:59",
          "2024-08-17T06:04:59",
          "2024-08-18T05:51:59",
          "2024-08-18T05:51:59",
          "2024-08-19T05:39:23",
          "2024-08-19T05:39:23",
          "2024-08-20T05:26:11",
          "2024-08-20T05:26:11",
          "2024-08-21T05:15:11",
          "2024-08-21T05:15:11",
          "2024-08-22T05:04:23",
          "2024-08-22T05:04:23",
          "2024-08-23T04:51:59",
          "2024-08-23T04:51:59"
         ],
         "xaxis": "x",
         "y": [
          0,
          null,
          0,
          null,
          0,
          null,
          0,
          null,
          0,
          null,
          0,
          null,
          0,
          null,
          0,
          null,
          0,
          null,
          0,
          null,
          0.03499802187967262,
          null,
          0.03498763524558149,
          null,
          0.035024334046195295,
          null,
          0.035011278278233,
          null,
          0.03458861318474494,
          null,
          0.03458750546342538,
          null,
          0.03458481520421153,
          null,
          0.034583302442365314,
          null,
          0.03458221397809887,
          null,
          0.03457840358733679,
          null,
          0.03457714314696099,
          null,
          0.03460140969045758,
          null,
          0.0346014777666164,
          null,
          0.03460078429341579,
          null,
          0.03460100938767208,
          null,
          0.03459869478421056,
          null,
          0.03460764063746962,
          null,
          0.034595713586233,
          null,
          0.034902655613904286,
          null,
          0.040265313701541294,
          null,
          0.04043375741373272,
          null,
          0.040409656730202366,
          null,
          0,
          null,
          0,
          null,
          0,
          null,
          0,
          null,
          0,
          null,
          0,
          null,
          0,
          null,
          0,
          null,
          0.05352684200799674,
          null,
          0.05353413178825629,
          null,
          0.05352234410872779,
          null,
          0.05388457593955163,
          null,
          0.053880177177792234,
          null,
          0.05388982453964979,
          null,
          0.05387513916971127,
          null
         ],
         "yaxis": "y"
        },
        {
         "alignmentgroup": "True",
         "hovertemplate": "variable=our_rsETH<br>timestamp=%{x}<br>value=%{y}<extra></extra>",
         "legendgroup": "our_rsETH",
         "marker": {
          "color": "#19d3f3",
          "pattern": {
           "shape": ""
          }
         },
         "name": "our_rsETH",
         "offsetgroup": "our_rsETH",
         "orientation": "v",
         "showlegend": true,
         "textposition": "auto",
         "type": "bar",
         "x": [
          "2024-07-08T14:38:47",
          "2024-07-08T14:38:47",
          "2024-07-09T14:30:11",
          "2024-07-09T14:30:11",
          "2024-07-10T14:16:23",
          "2024-07-10T14:16:23",
          "2024-07-11T14:03:23",
          "2024-07-11T14:03:23",
          "2024-07-12T13:52:23",
          "2024-07-12T13:52:23",
          "2024-07-13T13:39:47",
          "2024-07-13T13:39:47",
          "2024-07-14T13:27:47",
          "2024-07-14T13:27:47",
          "2024-07-15T13:14:11",
          "2024-07-15T13:14:11",
          "2024-07-16T13:01:59",
          "2024-07-16T13:01:59",
          "2024-07-17T12:46:35",
          "2024-07-17T12:46:35",
          "2024-07-18T12:34:59",
          "2024-07-18T12:34:59",
          "2024-07-19T12:20:35",
          "2024-07-19T12:20:35",
          "2024-07-20T12:07:35",
          "2024-07-20T12:07:35",
          "2024-07-21T11:53:23",
          "2024-07-21T11:53:23",
          "2024-07-22T11:41:35",
          "2024-07-22T11:41:35",
          "2024-07-23T11:29:35",
          "2024-07-23T11:29:35",
          "2024-07-24T11:15:11",
          "2024-07-24T11:15:11",
          "2024-07-25T11:02:47",
          "2024-07-25T11:02:47",
          "2024-07-26T10:50:47",
          "2024-07-26T10:50:47",
          "2024-07-27T10:39:11",
          "2024-07-27T10:39:11",
          "2024-07-28T10:26:35",
          "2024-07-28T10:26:35",
          "2024-07-29T10:11:59",
          "2024-07-29T10:11:59",
          "2024-07-30T10:01:11",
          "2024-07-30T10:01:11",
          "2024-07-31T09:48:35",
          "2024-07-31T09:48:35",
          "2024-08-01T09:35:35",
          "2024-08-01T09:35:35",
          "2024-08-02T09:22:59",
          "2024-08-02T09:22:59",
          "2024-08-03T09:12:35",
          "2024-08-03T09:12:35",
          "2024-08-04T08:57:23",
          "2024-08-04T08:57:23",
          "2024-08-05T08:41:47",
          "2024-08-05T08:41:47",
          "2024-08-06T08:28:47",
          "2024-08-06T08:28:47",
          "2024-08-07T08:15:59",
          "2024-08-07T08:15:59",
          "2024-08-08T08:01:47",
          "2024-08-08T08:01:47",
          "2024-08-09T07:46:35",
          "2024-08-09T07:46:35",
          "2024-08-10T07:32:35",
          "2024-08-10T07:32:35",
          "2024-08-11T07:19:47",
          "2024-08-11T07:19:47",
          "2024-08-12T07:07:35",
          "2024-08-12T07:07:35",
          "2024-08-13T06:53:35",
          "2024-08-13T06:53:35",
          "2024-08-14T06:40:47",
          "2024-08-14T06:40:47",
          "2024-08-15T06:27:59",
          "2024-08-15T06:27:59",
          "2024-08-16T06:16:35",
          "2024-08-16T06:16:35",
          "2024-08-17T06:04:59",
          "2024-08-17T06:04:59",
          "2024-08-18T05:51:59",
          "2024-08-18T05:51:59",
          "2024-08-19T05:39:23",
          "2024-08-19T05:39:23",
          "2024-08-20T05:26:11",
          "2024-08-20T05:26:11",
          "2024-08-21T05:15:11",
          "2024-08-21T05:15:11",
          "2024-08-22T05:04:23",
          "2024-08-22T05:04:23",
          "2024-08-23T04:51:59",
          "2024-08-23T04:51:59"
         ],
         "xaxis": "x",
         "y": [
          0,
          0,
          0,
          0,
          0,
          0,
          0,
          0,
          0,
          0,
          0,
          0,
          0,
          0,
          0,
          0,
          0,
          0,
          0,
          0,
          28.144747267275594,
          0,
          32.831869186138135,
          0,
          32.805694340804756,
          0,
          34.588457820283146,
          0,
          34.68964990819003,
          0,
          38.903061302977164,
          0,
          37.02918425345706,
          0,
          33.20734873386412,
          0,
          33.36634065515521,
          0,
          31.08181810369796,
          0,
          37.20857832829198,
          0,
          36.88811230809425,
          0,
          35.33242914148811,
          0,
          35.341215600911205,
          0,
          35.33985045000467,
          0,
          35.342524133105684,
          0,
          42.42237519773717,
          0,
          42.40775490484107,
          0,
          50.075465344231944,
          0,
          45.95694618817784,
          0,
          46.42035313855662,
          0,
          46.42926979907794,
          16.818639525475046,
          0,
          65.89702565940647,
          0,
          65.61694115567767,
          0,
          64.95065912884694,
          0,
          65.25793218443165,
          0,
          65.97700296300626,
          0,
          66.199866135565,
          0,
          65.86980550197912,
          0,
          65.21813682385293,
          62.35891532678912,
          0,
          59.36838458349755,
          0,
          59.38949927402255,
          0,
          59.20499446222571,
          0,
          57.67819980716744,
          0,
          57.75844825329573,
          0,
          57.262719562494134,
          0
         ],
         "yaxis": "y"
        },
        {
         "alignmentgroup": "True",
         "hovertemplate": "variable=our_ETHx<br>timestamp=%{x}<br>value=%{y}<extra></extra>",
         "legendgroup": "our_ETHx",
         "marker": {
          "color": "#FF6692",
          "pattern": {
           "shape": ""
          }
         },
         "name": "our_ETHx",
         "offsetgroup": "our_ETHx",
         "orientation": "v",
         "showlegend": true,
         "textposition": "auto",
         "type": "bar",
         "x": [
          "2024-07-08T14:38:47",
          "2024-07-08T14:38:47",
          "2024-07-09T14:30:11",
          "2024-07-09T14:30:11",
          "2024-07-10T14:16:23",
          "2024-07-10T14:16:23",
          "2024-07-11T14:03:23",
          "2024-07-11T14:03:23",
          "2024-07-12T13:52:23",
          "2024-07-12T13:52:23",
          "2024-07-13T13:39:47",
          "2024-07-13T13:39:47",
          "2024-07-14T13:27:47",
          "2024-07-14T13:27:47",
          "2024-07-15T13:14:11",
          "2024-07-15T13:14:11",
          "2024-07-16T13:01:59",
          "2024-07-16T13:01:59",
          "2024-07-17T12:46:35",
          "2024-07-17T12:46:35",
          "2024-07-18T12:34:59",
          "2024-07-18T12:34:59",
          "2024-07-19T12:20:35",
          "2024-07-19T12:20:35",
          "2024-07-20T12:07:35",
          "2024-07-20T12:07:35",
          "2024-07-21T11:53:23",
          "2024-07-21T11:53:23",
          "2024-07-22T11:41:35",
          "2024-07-22T11:41:35",
          "2024-07-23T11:29:35",
          "2024-07-23T11:29:35",
          "2024-07-24T11:15:11",
          "2024-07-24T11:15:11",
          "2024-07-25T11:02:47",
          "2024-07-25T11:02:47",
          "2024-07-26T10:50:47",
          "2024-07-26T10:50:47",
          "2024-07-27T10:39:11",
          "2024-07-27T10:39:11",
          "2024-07-28T10:26:35",
          "2024-07-28T10:26:35",
          "2024-07-29T10:11:59",
          "2024-07-29T10:11:59",
          "2024-07-30T10:01:11",
          "2024-07-30T10:01:11",
          "2024-07-31T09:48:35",
          "2024-07-31T09:48:35",
          "2024-08-01T09:35:35",
          "2024-08-01T09:35:35",
          "2024-08-02T09:22:59",
          "2024-08-02T09:22:59",
          "2024-08-03T09:12:35",
          "2024-08-03T09:12:35",
          "2024-08-04T08:57:23",
          "2024-08-04T08:57:23",
          "2024-08-05T08:41:47",
          "2024-08-05T08:41:47",
          "2024-08-06T08:28:47",
          "2024-08-06T08:28:47",
          "2024-08-07T08:15:59",
          "2024-08-07T08:15:59",
          "2024-08-08T08:01:47",
          "2024-08-08T08:01:47",
          "2024-08-09T07:46:35",
          "2024-08-09T07:46:35",
          "2024-08-10T07:32:35",
          "2024-08-10T07:32:35",
          "2024-08-11T07:19:47",
          "2024-08-11T07:19:47",
          "2024-08-12T07:07:35",
          "2024-08-12T07:07:35",
          "2024-08-13T06:53:35",
          "2024-08-13T06:53:35",
          "2024-08-14T06:40:47",
          "2024-08-14T06:40:47",
          "2024-08-15T06:27:59",
          "2024-08-15T06:27:59",
          "2024-08-16T06:16:35",
          "2024-08-16T06:16:35",
          "2024-08-17T06:04:59",
          "2024-08-17T06:04:59",
          "2024-08-18T05:51:59",
          "2024-08-18T05:51:59",
          "2024-08-19T05:39:23",
          "2024-08-19T05:39:23",
          "2024-08-20T05:26:11",
          "2024-08-20T05:26:11",
          "2024-08-21T05:15:11",
          "2024-08-21T05:15:11",
          "2024-08-22T05:04:23",
          "2024-08-22T05:04:23",
          "2024-08-23T04:51:59",
          "2024-08-23T04:51:59"
         ],
         "xaxis": "x",
         "y": [
          0,
          null,
          0,
          null,
          0,
          null,
          0,
          null,
          0,
          null,
          0,
          null,
          0,
          null,
          0,
          null,
          0,
          null,
          0,
          null,
          31.830382656085956,
          null,
          27.162236159563214,
          null,
          27.22426880914147,
          null,
          25.414506867898112,
          null,
          25.304206098037376,
          null,
          21.082392420641575,
          null,
          22.947817393115102,
          null,
          26.773438087697723,
          null,
          26.618047135360445,
          null,
          28.914501343591716,
          null,
          22.8007921306258,
          null,
          23.111214820041603,
          null,
          24.669621067745926,
          null,
          24.672286417992765,
          null,
          24.67738093208292,
          null,
          24.677521980175438,
          null,
          17.599498994991396,
          null,
          17.596785997942035,
          null,
          9.917569125759908,
          null,
          13.699072262212512,
          null,
          13.489271801534414,
          null,
          13.473298763256262,
          null,
          0,
          null,
          0,
          null,
          0,
          null,
          0,
          null,
          0,
          null,
          0,
          null,
          0,
          null,
          0,
          null,
          18.032047137631054,
          null,
          21.073154395728494,
          null,
          21.06833699641929,
          null,
          21.27397639726616,
          null,
          22.812114795080237,
          null,
          22.769654076605203,
          null,
          23.29598892665383,
          null
         ],
         "yaxis": "y"
        },
        {
         "alignmentgroup": "True",
         "hovertemplate": "variable=our_approx_eth_value_in_Tokemak-Wrapped Ether-Balancer rsETH-WETH Stable Pool<br>timestamp=%{x}<br>value=%{y}<extra></extra>",
         "legendgroup": "our_approx_eth_value_in_Tokemak-Wrapped Ether-Balancer rsETH-WETH Stable Pool",
         "marker": {
          "color": "#B6E880",
          "pattern": {
           "shape": ""
          }
         },
         "name": "our_approx_eth_value_in_Tokemak-Wrapped Ether-Balancer rsETH-WETH Stable Pool",
         "offsetgroup": "our_approx_eth_value_in_Tokemak-Wrapped Ether-Balancer rsETH-WETH Stable Pool",
         "orientation": "v",
         "showlegend": true,
         "textposition": "auto",
         "type": "bar",
         "x": [
          "2024-07-08T14:38:47",
          "2024-07-08T14:38:47",
          "2024-07-09T14:30:11",
          "2024-07-09T14:30:11",
          "2024-07-10T14:16:23",
          "2024-07-10T14:16:23",
          "2024-07-11T14:03:23",
          "2024-07-11T14:03:23",
          "2024-07-12T13:52:23",
          "2024-07-12T13:52:23",
          "2024-07-13T13:39:47",
          "2024-07-13T13:39:47",
          "2024-07-14T13:27:47",
          "2024-07-14T13:27:47",
          "2024-07-15T13:14:11",
          "2024-07-15T13:14:11",
          "2024-07-16T13:01:59",
          "2024-07-16T13:01:59",
          "2024-07-17T12:46:35",
          "2024-07-17T12:46:35",
          "2024-07-18T12:34:59",
          "2024-07-18T12:34:59",
          "2024-07-19T12:20:35",
          "2024-07-19T12:20:35",
          "2024-07-20T12:07:35",
          "2024-07-20T12:07:35",
          "2024-07-21T11:53:23",
          "2024-07-21T11:53:23",
          "2024-07-22T11:41:35",
          "2024-07-22T11:41:35",
          "2024-07-23T11:29:35",
          "2024-07-23T11:29:35",
          "2024-07-24T11:15:11",
          "2024-07-24T11:15:11",
          "2024-07-25T11:02:47",
          "2024-07-25T11:02:47",
          "2024-07-26T10:50:47",
          "2024-07-26T10:50:47",
          "2024-07-27T10:39:11",
          "2024-07-27T10:39:11",
          "2024-07-28T10:26:35",
          "2024-07-28T10:26:35",
          "2024-07-29T10:11:59",
          "2024-07-29T10:11:59",
          "2024-07-30T10:01:11",
          "2024-07-30T10:01:11",
          "2024-07-31T09:48:35",
          "2024-07-31T09:48:35",
          "2024-08-01T09:35:35",
          "2024-08-01T09:35:35",
          "2024-08-02T09:22:59",
          "2024-08-02T09:22:59",
          "2024-08-03T09:12:35",
          "2024-08-03T09:12:35",
          "2024-08-04T08:57:23",
          "2024-08-04T08:57:23",
          "2024-08-05T08:41:47",
          "2024-08-05T08:41:47",
          "2024-08-06T08:28:47",
          "2024-08-06T08:28:47",
          "2024-08-07T08:15:59",
          "2024-08-07T08:15:59",
          "2024-08-08T08:01:47",
          "2024-08-08T08:01:47",
          "2024-08-09T07:46:35",
          "2024-08-09T07:46:35",
          "2024-08-10T07:32:35",
          "2024-08-10T07:32:35",
          "2024-08-11T07:19:47",
          "2024-08-11T07:19:47",
          "2024-08-12T07:07:35",
          "2024-08-12T07:07:35",
          "2024-08-13T06:53:35",
          "2024-08-13T06:53:35",
          "2024-08-14T06:40:47",
          "2024-08-14T06:40:47",
          "2024-08-15T06:27:59",
          "2024-08-15T06:27:59",
          "2024-08-16T06:16:35",
          "2024-08-16T06:16:35",
          "2024-08-17T06:04:59",
          "2024-08-17T06:04:59",
          "2024-08-18T05:51:59",
          "2024-08-18T05:51:59",
          "2024-08-19T05:39:23",
          "2024-08-19T05:39:23",
          "2024-08-20T05:26:11",
          "2024-08-20T05:26:11",
          "2024-08-21T05:15:11",
          "2024-08-21T05:15:11",
          "2024-08-22T05:04:23",
          "2024-08-22T05:04:23",
          "2024-08-23T04:51:59",
          "2024-08-23T04:51:59"
         ],
         "xaxis": "x",
         "y": [
          null,
          0,
          null,
          0,
          null,
          0,
          null,
          0,
          null,
          0,
          null,
          0,
          null,
          0,
          null,
          0,
          null,
          0,
          null,
          0,
          null,
          0,
          null,
          0,
          null,
          0,
          null,
          0,
          null,
          0,
          null,
          0,
          null,
          0,
          null,
          0,
          null,
          0,
          null,
          0,
          null,
          0,
          null,
          0,
          null,
          0,
          null,
          0,
          null,
          0,
          null,
          0,
          null,
          0,
          null,
          0,
          null,
          0,
          null,
          0,
          null,
          0,
          null,
          20.41635144147446,
          null,
          80.3409542662577,
          null,
          80.3639846134399,
          null,
          80.36311065377234,
          null,
          80.38799801655449,
          null,
          80.37337508008383,
          null,
          80.3690015905798,
          null,
          80.37357967527956,
          null,
          80.38165718041104,
          null,
          0,
          null,
          0,
          null,
          0,
          null,
          0,
          null,
          0,
          null,
          0,
          null,
          0
         ],
         "yaxis": "y"
        },
        {
         "alignmentgroup": "True",
         "hovertemplate": "variable=rsETH_value_in_Tokemak-Wrapped Ether-Balancer rsETH-WETH Stable Pool<br>timestamp=%{x}<br>value=%{y}<extra></extra>",
         "legendgroup": "rsETH_value_in_Tokemak-Wrapped Ether-Balancer rsETH-WETH Stable Pool",
         "marker": {
          "color": "#FF97FF",
          "pattern": {
           "shape": ""
          }
         },
         "name": "rsETH_value_in_Tokemak-Wrapped Ether-Balancer rsETH-WETH Stable Pool",
         "offsetgroup": "rsETH_value_in_Tokemak-Wrapped Ether-Balancer rsETH-WETH Stable Pool",
         "orientation": "v",
         "showlegend": true,
         "textposition": "auto",
         "type": "bar",
         "x": [
          "2024-07-08T14:38:47",
          "2024-07-08T14:38:47",
          "2024-07-09T14:30:11",
          "2024-07-09T14:30:11",
          "2024-07-10T14:16:23",
          "2024-07-10T14:16:23",
          "2024-07-11T14:03:23",
          "2024-07-11T14:03:23",
          "2024-07-12T13:52:23",
          "2024-07-12T13:52:23",
          "2024-07-13T13:39:47",
          "2024-07-13T13:39:47",
          "2024-07-14T13:27:47",
          "2024-07-14T13:27:47",
          "2024-07-15T13:14:11",
          "2024-07-15T13:14:11",
          "2024-07-16T13:01:59",
          "2024-07-16T13:01:59",
          "2024-07-17T12:46:35",
          "2024-07-17T12:46:35",
          "2024-07-18T12:34:59",
          "2024-07-18T12:34:59",
          "2024-07-19T12:20:35",
          "2024-07-19T12:20:35",
          "2024-07-20T12:07:35",
          "2024-07-20T12:07:35",
          "2024-07-21T11:53:23",
          "2024-07-21T11:53:23",
          "2024-07-22T11:41:35",
          "2024-07-22T11:41:35",
          "2024-07-23T11:29:35",
          "2024-07-23T11:29:35",
          "2024-07-24T11:15:11",
          "2024-07-24T11:15:11",
          "2024-07-25T11:02:47",
          "2024-07-25T11:02:47",
          "2024-07-26T10:50:47",
          "2024-07-26T10:50:47",
          "2024-07-27T10:39:11",
          "2024-07-27T10:39:11",
          "2024-07-28T10:26:35",
          "2024-07-28T10:26:35",
          "2024-07-29T10:11:59",
          "2024-07-29T10:11:59",
          "2024-07-30T10:01:11",
          "2024-07-30T10:01:11",
          "2024-07-31T09:48:35",
          "2024-07-31T09:48:35",
          "2024-08-01T09:35:35",
          "2024-08-01T09:35:35",
          "2024-08-02T09:22:59",
          "2024-08-02T09:22:59",
          "2024-08-03T09:12:35",
          "2024-08-03T09:12:35",
          "2024-08-04T08:57:23",
          "2024-08-04T08:57:23",
          "2024-08-05T08:41:47",
          "2024-08-05T08:41:47",
          "2024-08-06T08:28:47",
          "2024-08-06T08:28:47",
          "2024-08-07T08:15:59",
          "2024-08-07T08:15:59",
          "2024-08-08T08:01:47",
          "2024-08-08T08:01:47",
          "2024-08-09T07:46:35",
          "2024-08-09T07:46:35",
          "2024-08-10T07:32:35",
          "2024-08-10T07:32:35",
          "2024-08-11T07:19:47",
          "2024-08-11T07:19:47",
          "2024-08-12T07:07:35",
          "2024-08-12T07:07:35",
          "2024-08-13T06:53:35",
          "2024-08-13T06:53:35",
          "2024-08-14T06:40:47",
          "2024-08-14T06:40:47",
          "2024-08-15T06:27:59",
          "2024-08-15T06:27:59",
          "2024-08-16T06:16:35",
          "2024-08-16T06:16:35",
          "2024-08-17T06:04:59",
          "2024-08-17T06:04:59",
          "2024-08-18T05:51:59",
          "2024-08-18T05:51:59",
          "2024-08-19T05:39:23",
          "2024-08-19T05:39:23",
          "2024-08-20T05:26:11",
          "2024-08-20T05:26:11",
          "2024-08-21T05:15:11",
          "2024-08-21T05:15:11",
          "2024-08-22T05:04:23",
          "2024-08-22T05:04:23",
          "2024-08-23T04:51:59",
          "2024-08-23T04:51:59"
         ],
         "xaxis": "x",
         "y": [
          null,
          6163.117891066447,
          null,
          6124.269474451297,
          null,
          6224.530850640279,
          null,
          6119.857467603643,
          null,
          6142.559479634565,
          null,
          5383.189248768447,
          null,
          5535.615643048574,
          null,
          5277.46279869203,
          null,
          5230.51084955274,
          null,
          4776.271702577873,
          null,
          4480.2225167571105,
          null,
          4809.110096264618,
          null,
          4946.5934083619,
          null,
          5183.07204039466,
          null,
          5298.339549396358,
          null,
          5394.762670158218,
          null,
          5594.2924904986085,
          null,
          5339.738802713897,
          null,
          5431.459958866147,
          null,
          4354.426556589251,
          null,
          4562.178234058423,
          null,
          4162.5329827872,
          null,
          4113.300998962258,
          null,
          4268.612080468332,
          null,
          4148.146802026577,
          null,
          4209.942500999209,
          null,
          4707.970034568319,
          null,
          4712.016780182134,
          null,
          5540.633974468294,
          null,
          5104.251362804295,
          null,
          5166.51992155118,
          null,
          5143.969016272841,
          null,
          5162.942779964298,
          null,
          5116.10240983987,
          null,
          5057.459640935436,
          null,
          5056.590277494348,
          null,
          5113.079221693765,
          null,
          5129.9380899967455,
          null,
          5084.113651838361,
          null,
          5034.4709938545375,
          null,
          4939.81800988746,
          null,
          4819.766106772633,
          null,
          4820.8523552287315,
          null,
          4713.946741557837,
          null,
          4808.188437204654,
          null,
          4761.2292891538345,
          null,
          4765.64563993774
         ],
         "yaxis": "y"
        },
        {
         "alignmentgroup": "True",
         "hovertemplate": "variable=Wrapped Ether_value_in_Tokemak-Wrapped Ether-Balancer rsETH-WETH Stable Pool<br>timestamp=%{x}<br>value=%{y}<extra></extra>",
         "legendgroup": "Wrapped Ether_value_in_Tokemak-Wrapped Ether-Balancer rsETH-WETH Stable Pool",
         "marker": {
          "color": "#FECB52",
          "pattern": {
           "shape": ""
          }
         },
         "name": "Wrapped Ether_value_in_Tokemak-Wrapped Ether-Balancer rsETH-WETH Stable Pool",
         "offsetgroup": "Wrapped Ether_value_in_Tokemak-Wrapped Ether-Balancer rsETH-WETH Stable Pool",
         "orientation": "v",
         "showlegend": true,
         "textposition": "auto",
         "type": "bar",
         "x": [
          "2024-07-08T14:38:47",
          "2024-07-08T14:38:47",
          "2024-07-09T14:30:11",
          "2024-07-09T14:30:11",
          "2024-07-10T14:16:23",
          "2024-07-10T14:16:23",
          "2024-07-11T14:03:23",
          "2024-07-11T14:03:23",
          "2024-07-12T13:52:23",
          "2024-07-12T13:52:23",
          "2024-07-13T13:39:47",
          "2024-07-13T13:39:47",
          "2024-07-14T13:27:47",
          "2024-07-14T13:27:47",
          "2024-07-15T13:14:11",
          "2024-07-15T13:14:11",
          "2024-07-16T13:01:59",
          "2024-07-16T13:01:59",
          "2024-07-17T12:46:35",
          "2024-07-17T12:46:35",
          "2024-07-18T12:34:59",
          "2024-07-18T12:34:59",
          "2024-07-19T12:20:35",
          "2024-07-19T12:20:35",
          "2024-07-20T12:07:35",
          "2024-07-20T12:07:35",
          "2024-07-21T11:53:23",
          "2024-07-21T11:53:23",
          "2024-07-22T11:41:35",
          "2024-07-22T11:41:35",
          "2024-07-23T11:29:35",
          "2024-07-23T11:29:35",
          "2024-07-24T11:15:11",
          "2024-07-24T11:15:11",
          "2024-07-25T11:02:47",
          "2024-07-25T11:02:47",
          "2024-07-26T10:50:47",
          "2024-07-26T10:50:47",
          "2024-07-27T10:39:11",
          "2024-07-27T10:39:11",
          "2024-07-28T10:26:35",
          "2024-07-28T10:26:35",
          "2024-07-29T10:11:59",
          "2024-07-29T10:11:59",
          "2024-07-30T10:01:11",
          "2024-07-30T10:01:11",
          "2024-07-31T09:48:35",
          "2024-07-31T09:48:35",
          "2024-08-01T09:35:35",
          "2024-08-01T09:35:35",
          "2024-08-02T09:22:59",
          "2024-08-02T09:22:59",
          "2024-08-03T09:12:35",
          "2024-08-03T09:12:35",
          "2024-08-04T08:57:23",
          "2024-08-04T08:57:23",
          "2024-08-05T08:41:47",
          "2024-08-05T08:41:47",
          "2024-08-06T08:28:47",
          "2024-08-06T08:28:47",
          "2024-08-07T08:15:59",
          "2024-08-07T08:15:59",
          "2024-08-08T08:01:47",
          "2024-08-08T08:01:47",
          "2024-08-09T07:46:35",
          "2024-08-09T07:46:35",
          "2024-08-10T07:32:35",
          "2024-08-10T07:32:35",
          "2024-08-11T07:19:47",
          "2024-08-11T07:19:47",
          "2024-08-12T07:07:35",
          "2024-08-12T07:07:35",
          "2024-08-13T06:53:35",
          "2024-08-13T06:53:35",
          "2024-08-14T06:40:47",
          "2024-08-14T06:40:47",
          "2024-08-15T06:27:59",
          "2024-08-15T06:27:59",
          "2024-08-16T06:16:35",
          "2024-08-16T06:16:35",
          "2024-08-17T06:04:59",
          "2024-08-17T06:04:59",
          "2024-08-18T05:51:59",
          "2024-08-18T05:51:59",
          "2024-08-19T05:39:23",
          "2024-08-19T05:39:23",
          "2024-08-20T05:26:11",
          "2024-08-20T05:26:11",
          "2024-08-21T05:15:11",
          "2024-08-21T05:15:11",
          "2024-08-22T05:04:23",
          "2024-08-22T05:04:23",
          "2024-08-23T04:51:59",
          "2024-08-23T04:51:59"
         ],
         "xaxis": "x",
         "y": [
          null,
          1312.3355932676138,
          null,
          1358.378363018717,
          null,
          1256.2711474096739,
          null,
          1333.1100985855878,
          null,
          1348.397509242841,
          null,
          2131.1075009145916,
          null,
          1987.0645118282837,
          null,
          2242.898637124584,
          null,
          2293.0825845890095,
          null,
          2748.5145574865833,
          null,
          3045.8707234950925,
          null,
          2719.0147607688505,
          null,
          2579.6273884319726,
          null,
          2313.5289896519657,
          null,
          2198.3139872956363,
          null,
          2101.014883661995,
          null,
          1896.7293541793806,
          null,
          2171.7323933804346,
          null,
          2149.4139367489265,
          null,
          1964.2076846137759,
          null,
          1765.02447315731,
          null,
          2164.985230267113,
          null,
          2173.5087145435195,
          null,
          2019.3233368856386,
          null,
          2128.042603674578,
          null,
          2054.4064159631193,
          null,
          1553.3334717385717,
          null,
          1540.1789811730519,
          null,
          658.2376049480816,
          null,
          1136.3610430020756,
          null,
          1095.2973424553159,
          null,
          1100.3576476768499,
          null,
          1131.6622589386534,
          null,
          1149.8156305895159,
          null,
          1200.1087071426591,
          null,
          1172.371560415665,
          null,
          1115.6886162421524,
          null,
          1097.9899494683975,
          null,
          1119.4633977694361,
          null,
          1170.537938027906,
          null,
          1184.6272986818553,
          null,
          1306.3830023473001,
          null,
          1307.9034738525932,
          null,
          1416.068332878078,
          null,
          1664.7702739354193,
          null,
          1879.9311356053329,
          null,
          1879.5994694240433
         ],
         "yaxis": "y"
        },
        {
         "alignmentgroup": "True",
         "hovertemplate": "variable=total_value_in_Tokemak-Wrapped Ether-Balancer rsETH-WETH Stable Pool<br>timestamp=%{x}<br>value=%{y}<extra></extra>",
         "legendgroup": "total_value_in_Tokemak-Wrapped Ether-Balancer rsETH-WETH Stable Pool",
         "marker": {
          "color": "#636efa",
          "pattern": {
           "shape": ""
          }
         },
         "name": "total_value_in_Tokemak-Wrapped Ether-Balancer rsETH-WETH Stable Pool",
         "offsetgroup": "total_value_in_Tokemak-Wrapped Ether-Balancer rsETH-WETH Stable Pool",
         "orientation": "v",
         "showlegend": true,
         "textposition": "auto",
         "type": "bar",
         "x": [
          "2024-07-08T14:38:47",
          "2024-07-08T14:38:47",
          "2024-07-09T14:30:11",
          "2024-07-09T14:30:11",
          "2024-07-10T14:16:23",
          "2024-07-10T14:16:23",
          "2024-07-11T14:03:23",
          "2024-07-11T14:03:23",
          "2024-07-12T13:52:23",
          "2024-07-12T13:52:23",
          "2024-07-13T13:39:47",
          "2024-07-13T13:39:47",
          "2024-07-14T13:27:47",
          "2024-07-14T13:27:47",
          "2024-07-15T13:14:11",
          "2024-07-15T13:14:11",
          "2024-07-16T13:01:59",
          "2024-07-16T13:01:59",
          "2024-07-17T12:46:35",
          "2024-07-17T12:46:35",
          "2024-07-18T12:34:59",
          "2024-07-18T12:34:59",
          "2024-07-19T12:20:35",
          "2024-07-19T12:20:35",
          "2024-07-20T12:07:35",
          "2024-07-20T12:07:35",
          "2024-07-21T11:53:23",
          "2024-07-21T11:53:23",
          "2024-07-22T11:41:35",
          "2024-07-22T11:41:35",
          "2024-07-23T11:29:35",
          "2024-07-23T11:29:35",
          "2024-07-24T11:15:11",
          "2024-07-24T11:15:11",
          "2024-07-25T11:02:47",
          "2024-07-25T11:02:47",
          "2024-07-26T10:50:47",
          "2024-07-26T10:50:47",
          "2024-07-27T10:39:11",
          "2024-07-27T10:39:11",
          "2024-07-28T10:26:35",
          "2024-07-28T10:26:35",
          "2024-07-29T10:11:59",
          "2024-07-29T10:11:59",
          "2024-07-30T10:01:11",
          "2024-07-30T10:01:11",
          "2024-07-31T09:48:35",
          "2024-07-31T09:48:35",
          "2024-08-01T09:35:35",
          "2024-08-01T09:35:35",
          "2024-08-02T09:22:59",
          "2024-08-02T09:22:59",
          "2024-08-03T09:12:35",
          "2024-08-03T09:12:35",
          "2024-08-04T08:57:23",
          "2024-08-04T08:57:23",
          "2024-08-05T08:41:47",
          "2024-08-05T08:41:47",
          "2024-08-06T08:28:47",
          "2024-08-06T08:28:47",
          "2024-08-07T08:15:59",
          "2024-08-07T08:15:59",
          "2024-08-08T08:01:47",
          "2024-08-08T08:01:47",
          "2024-08-09T07:46:35",
          "2024-08-09T07:46:35",
          "2024-08-10T07:32:35",
          "2024-08-10T07:32:35",
          "2024-08-11T07:19:47",
          "2024-08-11T07:19:47",
          "2024-08-12T07:07:35",
          "2024-08-12T07:07:35",
          "2024-08-13T06:53:35",
          "2024-08-13T06:53:35",
          "2024-08-14T06:40:47",
          "2024-08-14T06:40:47",
          "2024-08-15T06:27:59",
          "2024-08-15T06:27:59",
          "2024-08-16T06:16:35",
          "2024-08-16T06:16:35",
          "2024-08-17T06:04:59",
          "2024-08-17T06:04:59",
          "2024-08-18T05:51:59",
          "2024-08-18T05:51:59",
          "2024-08-19T05:39:23",
          "2024-08-19T05:39:23",
          "2024-08-20T05:26:11",
          "2024-08-20T05:26:11",
          "2024-08-21T05:15:11",
          "2024-08-21T05:15:11",
          "2024-08-22T05:04:23",
          "2024-08-22T05:04:23",
          "2024-08-23T04:51:59",
          "2024-08-23T04:51:59"
         ],
         "xaxis": "x",
         "y": [
          null,
          7475.453484334061,
          null,
          7482.647837470015,
          null,
          7480.801998049953,
          null,
          7452.967566189231,
          null,
          7490.956988877406,
          null,
          7514.296749683039,
          null,
          7522.680154876858,
          null,
          7520.361435816614,
          null,
          7523.59343414175,
          null,
          7524.786260064457,
          null,
          7526.093240252203,
          null,
          7528.124857033468,
          null,
          7526.220796793873,
          null,
          7496.601030046626,
          null,
          7496.653536691994,
          null,
          7495.777553820213,
          null,
          7491.021844677989,
          null,
          7511.471196094331,
          null,
          7580.873895615074,
          null,
          6318.634241203027,
          null,
          6327.202707215733,
          null,
          6327.518213054313,
          null,
          6286.809713505778,
          null,
          6287.9354173539705,
          null,
          6276.189405701154,
          null,
          6264.348916962328,
          null,
          6261.30350630689,
          null,
          6252.195761355186,
          null,
          6198.871579416375,
          null,
          6240.612405806371,
          null,
          6261.817264006496,
          null,
          6244.326663949691,
          null,
          6294.6050389029515,
          null,
          6265.918040429386,
          null,
          6257.568348078095,
          null,
          6228.961837910013,
          null,
          6228.767837935918,
          null,
          6227.928039465143,
          null,
          6203.577049607797,
          null,
          6205.008931882443,
          null,
          6124.445308569315,
          null,
          6126.149109119933,
          null,
          6128.755829081325,
          null,
          6130.015074435915,
          null,
          6472.958711140073,
          null,
          6641.160424759168,
          null,
          6645.245109361784
         ],
         "yaxis": "y"
        },
        {
         "alignmentgroup": "True",
         "hovertemplate": "variable=our_approx_portion_of_Tokemak-Wrapped Ether-Balancer rsETH-WETH Stable Pool<br>timestamp=%{x}<br>value=%{y}<extra></extra>",
         "legendgroup": "our_approx_portion_of_Tokemak-Wrapped Ether-Balancer rsETH-WETH Stable Pool",
         "marker": {
          "color": "#EF553B",
          "pattern": {
           "shape": ""
          }
         },
         "name": "our_approx_portion_of_Tokemak-Wrapped Ether-Balancer rsETH-WETH Stable Pool",
         "offsetgroup": "our_approx_portion_of_Tokemak-Wrapped Ether-Balancer rsETH-WETH Stable Pool",
         "orientation": "v",
         "showlegend": true,
         "textposition": "auto",
         "type": "bar",
         "x": [
          "2024-07-08T14:38:47",
          "2024-07-08T14:38:47",
          "2024-07-09T14:30:11",
          "2024-07-09T14:30:11",
          "2024-07-10T14:16:23",
          "2024-07-10T14:16:23",
          "2024-07-11T14:03:23",
          "2024-07-11T14:03:23",
          "2024-07-12T13:52:23",
          "2024-07-12T13:52:23",
          "2024-07-13T13:39:47",
          "2024-07-13T13:39:47",
          "2024-07-14T13:27:47",
          "2024-07-14T13:27:47",
          "2024-07-15T13:14:11",
          "2024-07-15T13:14:11",
          "2024-07-16T13:01:59",
          "2024-07-16T13:01:59",
          "2024-07-17T12:46:35",
          "2024-07-17T12:46:35",
          "2024-07-18T12:34:59",
          "2024-07-18T12:34:59",
          "2024-07-19T12:20:35",
          "2024-07-19T12:20:35",
          "2024-07-20T12:07:35",
          "2024-07-20T12:07:35",
          "2024-07-21T11:53:23",
          "2024-07-21T11:53:23",
          "2024-07-22T11:41:35",
          "2024-07-22T11:41:35",
          "2024-07-23T11:29:35",
          "2024-07-23T11:29:35",
          "2024-07-24T11:15:11",
          "2024-07-24T11:15:11",
          "2024-07-25T11:02:47",
          "2024-07-25T11:02:47",
          "2024-07-26T10:50:47",
          "2024-07-26T10:50:47",
          "2024-07-27T10:39:11",
          "2024-07-27T10:39:11",
          "2024-07-28T10:26:35",
          "2024-07-28T10:26:35",
          "2024-07-29T10:11:59",
          "2024-07-29T10:11:59",
          "2024-07-30T10:01:11",
          "2024-07-30T10:01:11",
          "2024-07-31T09:48:35",
          "2024-07-31T09:48:35",
          "2024-08-01T09:35:35",
          "2024-08-01T09:35:35",
          "2024-08-02T09:22:59",
          "2024-08-02T09:22:59",
          "2024-08-03T09:12:35",
          "2024-08-03T09:12:35",
          "2024-08-04T08:57:23",
          "2024-08-04T08:57:23",
          "2024-08-05T08:41:47",
          "2024-08-05T08:41:47",
          "2024-08-06T08:28:47",
          "2024-08-06T08:28:47",
          "2024-08-07T08:15:59",
          "2024-08-07T08:15:59",
          "2024-08-08T08:01:47",
          "2024-08-08T08:01:47",
          "2024-08-09T07:46:35",
          "2024-08-09T07:46:35",
          "2024-08-10T07:32:35",
          "2024-08-10T07:32:35",
          "2024-08-11T07:19:47",
          "2024-08-11T07:19:47",
          "2024-08-12T07:07:35",
          "2024-08-12T07:07:35",
          "2024-08-13T06:53:35",
          "2024-08-13T06:53:35",
          "2024-08-14T06:40:47",
          "2024-08-14T06:40:47",
          "2024-08-15T06:27:59",
          "2024-08-15T06:27:59",
          "2024-08-16T06:16:35",
          "2024-08-16T06:16:35",
          "2024-08-17T06:04:59",
          "2024-08-17T06:04:59",
          "2024-08-18T05:51:59",
          "2024-08-18T05:51:59",
          "2024-08-19T05:39:23",
          "2024-08-19T05:39:23",
          "2024-08-20T05:26:11",
          "2024-08-20T05:26:11",
          "2024-08-21T05:15:11",
          "2024-08-21T05:15:11",
          "2024-08-22T05:04:23",
          "2024-08-22T05:04:23",
          "2024-08-23T04:51:59",
          "2024-08-23T04:51:59"
         ],
         "xaxis": "x",
         "y": [
          null,
          0,
          null,
          0,
          null,
          0,
          null,
          0,
          null,
          0,
          null,
          0,
          null,
          0,
          null,
          0,
          null,
          0,
          null,
          0,
          null,
          0,
          null,
          0,
          null,
          0,
          null,
          0,
          null,
          0,
          null,
          0,
          null,
          0,
          null,
          0,
          null,
          0,
          null,
          0,
          null,
          0,
          null,
          0,
          null,
          0,
          null,
          0,
          null,
          0,
          null,
          0,
          null,
          0,
          null,
          0,
          null,
          0,
          null,
          0,
          null,
          0,
          null,
          0.0032695841425696036,
          null,
          0.012763462325232695,
          null,
          0.012825572261703694,
          null,
          0.012842546207018975,
          null,
          0.012905521033586371,
          null,
          0.012903575341269723,
          null,
          0.012904613072164192,
          null,
          0.012956005709699526,
          null,
          0.012954317723443675,
          null,
          0,
          null,
          0,
          null,
          0,
          null,
          0,
          null,
          0,
          null,
          0,
          null,
          0
         ],
         "yaxis": "y"
        },
        {
         "alignmentgroup": "True",
         "hovertemplate": "variable=our_Wrapped Ether<br>timestamp=%{x}<br>value=%{y}<extra></extra>",
         "legendgroup": "our_Wrapped Ether",
         "marker": {
          "color": "#00cc96",
          "pattern": {
           "shape": ""
          }
         },
         "name": "our_Wrapped Ether",
         "offsetgroup": "our_Wrapped Ether",
         "orientation": "v",
         "showlegend": true,
         "textposition": "auto",
         "type": "bar",
         "x": [
          "2024-07-08T14:38:47",
          "2024-07-08T14:38:47",
          "2024-07-09T14:30:11",
          "2024-07-09T14:30:11",
          "2024-07-10T14:16:23",
          "2024-07-10T14:16:23",
          "2024-07-11T14:03:23",
          "2024-07-11T14:03:23",
          "2024-07-12T13:52:23",
          "2024-07-12T13:52:23",
          "2024-07-13T13:39:47",
          "2024-07-13T13:39:47",
          "2024-07-14T13:27:47",
          "2024-07-14T13:27:47",
          "2024-07-15T13:14:11",
          "2024-07-15T13:14:11",
          "2024-07-16T13:01:59",
          "2024-07-16T13:01:59",
          "2024-07-17T12:46:35",
          "2024-07-17T12:46:35",
          "2024-07-18T12:34:59",
          "2024-07-18T12:34:59",
          "2024-07-19T12:20:35",
          "2024-07-19T12:20:35",
          "2024-07-20T12:07:35",
          "2024-07-20T12:07:35",
          "2024-07-21T11:53:23",
          "2024-07-21T11:53:23",
          "2024-07-22T11:41:35",
          "2024-07-22T11:41:35",
          "2024-07-23T11:29:35",
          "2024-07-23T11:29:35",
          "2024-07-24T11:15:11",
          "2024-07-24T11:15:11",
          "2024-07-25T11:02:47",
          "2024-07-25T11:02:47",
          "2024-07-26T10:50:47",
          "2024-07-26T10:50:47",
          "2024-07-27T10:39:11",
          "2024-07-27T10:39:11",
          "2024-07-28T10:26:35",
          "2024-07-28T10:26:35",
          "2024-07-29T10:11:59",
          "2024-07-29T10:11:59",
          "2024-07-30T10:01:11",
          "2024-07-30T10:01:11",
          "2024-07-31T09:48:35",
          "2024-07-31T09:48:35",
          "2024-08-01T09:35:35",
          "2024-08-01T09:35:35",
          "2024-08-02T09:22:59",
          "2024-08-02T09:22:59",
          "2024-08-03T09:12:35",
          "2024-08-03T09:12:35",
          "2024-08-04T08:57:23",
          "2024-08-04T08:57:23",
          "2024-08-05T08:41:47",
          "2024-08-05T08:41:47",
          "2024-08-06T08:28:47",
          "2024-08-06T08:28:47",
          "2024-08-07T08:15:59",
          "2024-08-07T08:15:59",
          "2024-08-08T08:01:47",
          "2024-08-08T08:01:47",
          "2024-08-09T07:46:35",
          "2024-08-09T07:46:35",
          "2024-08-10T07:32:35",
          "2024-08-10T07:32:35",
          "2024-08-11T07:19:47",
          "2024-08-11T07:19:47",
          "2024-08-12T07:07:35",
          "2024-08-12T07:07:35",
          "2024-08-13T06:53:35",
          "2024-08-13T06:53:35",
          "2024-08-14T06:40:47",
          "2024-08-14T06:40:47",
          "2024-08-15T06:27:59",
          "2024-08-15T06:27:59",
          "2024-08-16T06:16:35",
          "2024-08-16T06:16:35",
          "2024-08-17T06:04:59",
          "2024-08-17T06:04:59",
          "2024-08-18T05:51:59",
          "2024-08-18T05:51:59",
          "2024-08-19T05:39:23",
          "2024-08-19T05:39:23",
          "2024-08-20T05:26:11",
          "2024-08-20T05:26:11",
          "2024-08-21T05:15:11",
          "2024-08-21T05:15:11",
          "2024-08-22T05:04:23",
          "2024-08-22T05:04:23",
          "2024-08-23T04:51:59",
          "2024-08-23T04:51:59"
         ],
         "xaxis": "x",
         "y": [
          null,
          0,
          null,
          0,
          null,
          0,
          null,
          0,
          null,
          0,
          null,
          0,
          null,
          0,
          null,
          0,
          null,
          0,
          null,
          0,
          null,
          0,
          null,
          0,
          null,
          0,
          null,
          0,
          null,
          0,
          null,
          0,
          null,
          0,
          null,
          0,
          null,
          0,
          null,
          0,
          null,
          0,
          null,
          0,
          null,
          0,
          null,
          0,
          null,
          0,
          null,
          0,
          null,
          0,
          null,
          0,
          null,
          0,
          null,
          0,
          null,
          0,
          null,
          3.597711915999419,
          null,
          14.443928606851228,
          null,
          14.747043457762237,
          null,
          15.412451524925402,
          null,
          15.13006583212284,
          null,
          14.396372117077577,
          null,
          14.169135455014784,
          null,
          14.503774173300446,
          null,
          15.163520356558116,
          null,
          0,
          null,
          0,
          null,
          0,
          null,
          0,
          null,
          0,
          null,
          0,
          null,
          0
         ],
         "yaxis": "y"
        }
       ],
       "layout": {
        "barmode": "relative",
        "legend": {
         "title": {
          "text": "variable"
         },
         "tracegroupgap": 0
        },
        "margin": {
         "t": 60
        },
        "template": {
         "data": {
          "bar": [
           {
            "error_x": {
             "color": "#2a3f5f"
            },
            "error_y": {
             "color": "#2a3f5f"
            },
            "marker": {
             "line": {
              "color": "#E5ECF6",
              "width": 0.5
             },
             "pattern": {
              "fillmode": "overlay",
              "size": 10,
              "solidity": 0.2
             }
            },
            "type": "bar"
           }
          ],
          "barpolar": [
           {
            "marker": {
             "line": {
              "color": "#E5ECF6",
              "width": 0.5
             },
             "pattern": {
              "fillmode": "overlay",
              "size": 10,
              "solidity": 0.2
             }
            },
            "type": "barpolar"
           }
          ],
          "carpet": [
           {
            "aaxis": {
             "endlinecolor": "#2a3f5f",
             "gridcolor": "white",
             "linecolor": "white",
             "minorgridcolor": "white",
             "startlinecolor": "#2a3f5f"
            },
            "baxis": {
             "endlinecolor": "#2a3f5f",
             "gridcolor": "white",
             "linecolor": "white",
             "minorgridcolor": "white",
             "startlinecolor": "#2a3f5f"
            },
            "type": "carpet"
           }
          ],
          "choropleth": [
           {
            "colorbar": {
             "outlinewidth": 0,
             "ticks": ""
            },
            "type": "choropleth"
           }
          ],
          "contour": [
           {
            "colorbar": {
             "outlinewidth": 0,
             "ticks": ""
            },
            "colorscale": [
             [
              0,
              "#0d0887"
             ],
             [
              0.1111111111111111,
              "#46039f"
             ],
             [
              0.2222222222222222,
              "#7201a8"
             ],
             [
              0.3333333333333333,
              "#9c179e"
             ],
             [
              0.4444444444444444,
              "#bd3786"
             ],
             [
              0.5555555555555556,
              "#d8576b"
             ],
             [
              0.6666666666666666,
              "#ed7953"
             ],
             [
              0.7777777777777778,
              "#fb9f3a"
             ],
             [
              0.8888888888888888,
              "#fdca26"
             ],
             [
              1,
              "#f0f921"
             ]
            ],
            "type": "contour"
           }
          ],
          "contourcarpet": [
           {
            "colorbar": {
             "outlinewidth": 0,
             "ticks": ""
            },
            "type": "contourcarpet"
           }
          ],
          "heatmap": [
           {
            "colorbar": {
             "outlinewidth": 0,
             "ticks": ""
            },
            "colorscale": [
             [
              0,
              "#0d0887"
             ],
             [
              0.1111111111111111,
              "#46039f"
             ],
             [
              0.2222222222222222,
              "#7201a8"
             ],
             [
              0.3333333333333333,
              "#9c179e"
             ],
             [
              0.4444444444444444,
              "#bd3786"
             ],
             [
              0.5555555555555556,
              "#d8576b"
             ],
             [
              0.6666666666666666,
              "#ed7953"
             ],
             [
              0.7777777777777778,
              "#fb9f3a"
             ],
             [
              0.8888888888888888,
              "#fdca26"
             ],
             [
              1,
              "#f0f921"
             ]
            ],
            "type": "heatmap"
           }
          ],
          "heatmapgl": [
           {
            "colorbar": {
             "outlinewidth": 0,
             "ticks": ""
            },
            "colorscale": [
             [
              0,
              "#0d0887"
             ],
             [
              0.1111111111111111,
              "#46039f"
             ],
             [
              0.2222222222222222,
              "#7201a8"
             ],
             [
              0.3333333333333333,
              "#9c179e"
             ],
             [
              0.4444444444444444,
              "#bd3786"
             ],
             [
              0.5555555555555556,
              "#d8576b"
             ],
             [
              0.6666666666666666,
              "#ed7953"
             ],
             [
              0.7777777777777778,
              "#fb9f3a"
             ],
             [
              0.8888888888888888,
              "#fdca26"
             ],
             [
              1,
              "#f0f921"
             ]
            ],
            "type": "heatmapgl"
           }
          ],
          "histogram": [
           {
            "marker": {
             "pattern": {
              "fillmode": "overlay",
              "size": 10,
              "solidity": 0.2
             }
            },
            "type": "histogram"
           }
          ],
          "histogram2d": [
           {
            "colorbar": {
             "outlinewidth": 0,
             "ticks": ""
            },
            "colorscale": [
             [
              0,
              "#0d0887"
             ],
             [
              0.1111111111111111,
              "#46039f"
             ],
             [
              0.2222222222222222,
              "#7201a8"
             ],
             [
              0.3333333333333333,
              "#9c179e"
             ],
             [
              0.4444444444444444,
              "#bd3786"
             ],
             [
              0.5555555555555556,
              "#d8576b"
             ],
             [
              0.6666666666666666,
              "#ed7953"
             ],
             [
              0.7777777777777778,
              "#fb9f3a"
             ],
             [
              0.8888888888888888,
              "#fdca26"
             ],
             [
              1,
              "#f0f921"
             ]
            ],
            "type": "histogram2d"
           }
          ],
          "histogram2dcontour": [
           {
            "colorbar": {
             "outlinewidth": 0,
             "ticks": ""
            },
            "colorscale": [
             [
              0,
              "#0d0887"
             ],
             [
              0.1111111111111111,
              "#46039f"
             ],
             [
              0.2222222222222222,
              "#7201a8"
             ],
             [
              0.3333333333333333,
              "#9c179e"
             ],
             [
              0.4444444444444444,
              "#bd3786"
             ],
             [
              0.5555555555555556,
              "#d8576b"
             ],
             [
              0.6666666666666666,
              "#ed7953"
             ],
             [
              0.7777777777777778,
              "#fb9f3a"
             ],
             [
              0.8888888888888888,
              "#fdca26"
             ],
             [
              1,
              "#f0f921"
             ]
            ],
            "type": "histogram2dcontour"
           }
          ],
          "mesh3d": [
           {
            "colorbar": {
             "outlinewidth": 0,
             "ticks": ""
            },
            "type": "mesh3d"
           }
          ],
          "parcoords": [
           {
            "line": {
             "colorbar": {
              "outlinewidth": 0,
              "ticks": ""
             }
            },
            "type": "parcoords"
           }
          ],
          "pie": [
           {
            "automargin": true,
            "type": "pie"
           }
          ],
          "scatter": [
           {
            "fillpattern": {
             "fillmode": "overlay",
             "size": 10,
             "solidity": 0.2
            },
            "type": "scatter"
           }
          ],
          "scatter3d": [
           {
            "line": {
             "colorbar": {
              "outlinewidth": 0,
              "ticks": ""
             }
            },
            "marker": {
             "colorbar": {
              "outlinewidth": 0,
              "ticks": ""
             }
            },
            "type": "scatter3d"
           }
          ],
          "scattercarpet": [
           {
            "marker": {
             "colorbar": {
              "outlinewidth": 0,
              "ticks": ""
             }
            },
            "type": "scattercarpet"
           }
          ],
          "scattergeo": [
           {
            "marker": {
             "colorbar": {
              "outlinewidth": 0,
              "ticks": ""
             }
            },
            "type": "scattergeo"
           }
          ],
          "scattergl": [
           {
            "marker": {
             "colorbar": {
              "outlinewidth": 0,
              "ticks": ""
             }
            },
            "type": "scattergl"
           }
          ],
          "scattermapbox": [
           {
            "marker": {
             "colorbar": {
              "outlinewidth": 0,
              "ticks": ""
             }
            },
            "type": "scattermapbox"
           }
          ],
          "scatterpolar": [
           {
            "marker": {
             "colorbar": {
              "outlinewidth": 0,
              "ticks": ""
             }
            },
            "type": "scatterpolar"
           }
          ],
          "scatterpolargl": [
           {
            "marker": {
             "colorbar": {
              "outlinewidth": 0,
              "ticks": ""
             }
            },
            "type": "scatterpolargl"
           }
          ],
          "scatterternary": [
           {
            "marker": {
             "colorbar": {
              "outlinewidth": 0,
              "ticks": ""
             }
            },
            "type": "scatterternary"
           }
          ],
          "surface": [
           {
            "colorbar": {
             "outlinewidth": 0,
             "ticks": ""
            },
            "colorscale": [
             [
              0,
              "#0d0887"
             ],
             [
              0.1111111111111111,
              "#46039f"
             ],
             [
              0.2222222222222222,
              "#7201a8"
             ],
             [
              0.3333333333333333,
              "#9c179e"
             ],
             [
              0.4444444444444444,
              "#bd3786"
             ],
             [
              0.5555555555555556,
              "#d8576b"
             ],
             [
              0.6666666666666666,
              "#ed7953"
             ],
             [
              0.7777777777777778,
              "#fb9f3a"
             ],
             [
              0.8888888888888888,
              "#fdca26"
             ],
             [
              1,
              "#f0f921"
             ]
            ],
            "type": "surface"
           }
          ],
          "table": [
           {
            "cells": {
             "fill": {
              "color": "#EBF0F8"
             },
             "line": {
              "color": "white"
             }
            },
            "header": {
             "fill": {
              "color": "#C8D4E3"
             },
             "line": {
              "color": "white"
             }
            },
            "type": "table"
           }
          ]
         },
         "layout": {
          "annotationdefaults": {
           "arrowcolor": "#2a3f5f",
           "arrowhead": 0,
           "arrowwidth": 1
          },
          "autotypenumbers": "strict",
          "coloraxis": {
           "colorbar": {
            "outlinewidth": 0,
            "ticks": ""
           }
          },
          "colorscale": {
           "diverging": [
            [
             0,
             "#8e0152"
            ],
            [
             0.1,
             "#c51b7d"
            ],
            [
             0.2,
             "#de77ae"
            ],
            [
             0.3,
             "#f1b6da"
            ],
            [
             0.4,
             "#fde0ef"
            ],
            [
             0.5,
             "#f7f7f7"
            ],
            [
             0.6,
             "#e6f5d0"
            ],
            [
             0.7,
             "#b8e186"
            ],
            [
             0.8,
             "#7fbc41"
            ],
            [
             0.9,
             "#4d9221"
            ],
            [
             1,
             "#276419"
            ]
           ],
           "sequential": [
            [
             0,
             "#0d0887"
            ],
            [
             0.1111111111111111,
             "#46039f"
            ],
            [
             0.2222222222222222,
             "#7201a8"
            ],
            [
             0.3333333333333333,
             "#9c179e"
            ],
            [
             0.4444444444444444,
             "#bd3786"
            ],
            [
             0.5555555555555556,
             "#d8576b"
            ],
            [
             0.6666666666666666,
             "#ed7953"
            ],
            [
             0.7777777777777778,
             "#fb9f3a"
            ],
            [
             0.8888888888888888,
             "#fdca26"
            ],
            [
             1,
             "#f0f921"
            ]
           ],
           "sequentialminus": [
            [
             0,
             "#0d0887"
            ],
            [
             0.1111111111111111,
             "#46039f"
            ],
            [
             0.2222222222222222,
             "#7201a8"
            ],
            [
             0.3333333333333333,
             "#9c179e"
            ],
            [
             0.4444444444444444,
             "#bd3786"
            ],
            [
             0.5555555555555556,
             "#d8576b"
            ],
            [
             0.6666666666666666,
             "#ed7953"
            ],
            [
             0.7777777777777778,
             "#fb9f3a"
            ],
            [
             0.8888888888888888,
             "#fdca26"
            ],
            [
             1,
             "#f0f921"
            ]
           ]
          },
          "colorway": [
           "#636efa",
           "#EF553B",
           "#00cc96",
           "#ab63fa",
           "#FFA15A",
           "#19d3f3",
           "#FF6692",
           "#B6E880",
           "#FF97FF",
           "#FECB52"
          ],
          "font": {
           "color": "#2a3f5f"
          },
          "geo": {
           "bgcolor": "white",
           "lakecolor": "white",
           "landcolor": "#E5ECF6",
           "showlakes": true,
           "showland": true,
           "subunitcolor": "white"
          },
          "hoverlabel": {
           "align": "left"
          },
          "hovermode": "closest",
          "mapbox": {
           "style": "light"
          },
          "paper_bgcolor": "white",
          "plot_bgcolor": "#E5ECF6",
          "polar": {
           "angularaxis": {
            "gridcolor": "white",
            "linecolor": "white",
            "ticks": ""
           },
           "bgcolor": "#E5ECF6",
           "radialaxis": {
            "gridcolor": "white",
            "linecolor": "white",
            "ticks": ""
           }
          },
          "scene": {
           "xaxis": {
            "backgroundcolor": "#E5ECF6",
            "gridcolor": "white",
            "gridwidth": 2,
            "linecolor": "white",
            "showbackground": true,
            "ticks": "",
            "zerolinecolor": "white"
           },
           "yaxis": {
            "backgroundcolor": "#E5ECF6",
            "gridcolor": "white",
            "gridwidth": 2,
            "linecolor": "white",
            "showbackground": true,
            "ticks": "",
            "zerolinecolor": "white"
           },
           "zaxis": {
            "backgroundcolor": "#E5ECF6",
            "gridcolor": "white",
            "gridwidth": 2,
            "linecolor": "white",
            "showbackground": true,
            "ticks": "",
            "zerolinecolor": "white"
           }
          },
          "shapedefaults": {
           "line": {
            "color": "#2a3f5f"
           }
          },
          "ternary": {
           "aaxis": {
            "gridcolor": "white",
            "linecolor": "white",
            "ticks": ""
           },
           "baxis": {
            "gridcolor": "white",
            "linecolor": "white",
            "ticks": ""
           },
           "bgcolor": "#E5ECF6",
           "caxis": {
            "gridcolor": "white",
            "linecolor": "white",
            "ticks": ""
           }
          },
          "title": {
           "x": 0.05
          },
          "xaxis": {
           "automargin": true,
           "gridcolor": "white",
           "linecolor": "white",
           "ticks": "",
           "title": {
            "standoff": 15
           },
           "zerolinecolor": "white",
           "zerolinewidth": 2
          },
          "yaxis": {
           "automargin": true,
           "gridcolor": "white",
           "linecolor": "white",
           "ticks": "",
           "title": {
            "standoff": 15
           },
           "zerolinecolor": "white",
           "zerolinewidth": 2
          }
         }
        },
        "xaxis": {
         "anchor": "y",
         "domain": [
          0,
          1
         ],
         "title": {
          "text": "timestamp"
         }
        },
        "yaxis": {
         "anchor": "x",
         "domain": [
          0,
          1
         ],
         "title": {
          "text": "value"
         }
        }
       }
      }
     },
     "metadata": {},
     "output_type": "display_data"
    }
   ],
   "source": [
    "px.bar(df[df.columns[1:]]) # add percent ownership"
   ]
  },
  {
   "cell_type": "code",
   "execution_count": 11,
   "metadata": {},
   "outputs": [
    {
     "data": {
      "application/vnd.plotly.v1+json": {
       "config": {
        "plotlyServerURL": "https://plot.ly"
       },
       "data": [
        {
         "alignmentgroup": "True",
         "hovertemplate": "variable=our_approx_eth_value_in_Tokemak-Wrapped Ether-Balancer rsETH / ETHx<br>timestamp=%{x}<br>value=%{y}<extra></extra>",
         "legendgroup": "our_approx_eth_value_in_Tokemak-Wrapped Ether-Balancer rsETH / ETHx",
         "marker": {
          "color": "#636efa",
          "pattern": {
           "shape": ""
          }
         },
         "name": "our_approx_eth_value_in_Tokemak-Wrapped Ether-Balancer rsETH / ETHx",
         "offsetgroup": "our_approx_eth_value_in_Tokemak-Wrapped Ether-Balancer rsETH / ETHx",
         "orientation": "v",
         "showlegend": true,
         "textposition": "auto",
         "type": "bar",
         "x": [
          "2024-07-08T14:38:47",
          "2024-07-08T14:38:47",
          "2024-07-09T14:30:11",
          "2024-07-09T14:30:11",
          "2024-07-10T14:16:23",
          "2024-07-10T14:16:23",
          "2024-07-11T14:03:23",
          "2024-07-11T14:03:23",
          "2024-07-12T13:52:23",
          "2024-07-12T13:52:23",
          "2024-07-13T13:39:47",
          "2024-07-13T13:39:47",
          "2024-07-14T13:27:47",
          "2024-07-14T13:27:47",
          "2024-07-15T13:14:11",
          "2024-07-15T13:14:11",
          "2024-07-16T13:01:59",
          "2024-07-16T13:01:59",
          "2024-07-17T12:46:35",
          "2024-07-17T12:46:35",
          "2024-07-18T12:34:59",
          "2024-07-18T12:34:59",
          "2024-07-19T12:20:35",
          "2024-07-19T12:20:35",
          "2024-07-20T12:07:35",
          "2024-07-20T12:07:35",
          "2024-07-21T11:53:23",
          "2024-07-21T11:53:23",
          "2024-07-22T11:41:35",
          "2024-07-22T11:41:35",
          "2024-07-23T11:29:35",
          "2024-07-23T11:29:35",
          "2024-07-24T11:15:11",
          "2024-07-24T11:15:11",
          "2024-07-25T11:02:47",
          "2024-07-25T11:02:47",
          "2024-07-26T10:50:47",
          "2024-07-26T10:50:47",
          "2024-07-27T10:39:11",
          "2024-07-27T10:39:11",
          "2024-07-28T10:26:35",
          "2024-07-28T10:26:35",
          "2024-07-29T10:11:59",
          "2024-07-29T10:11:59",
          "2024-07-30T10:01:11",
          "2024-07-30T10:01:11",
          "2024-07-31T09:48:35",
          "2024-07-31T09:48:35",
          "2024-08-01T09:35:35",
          "2024-08-01T09:35:35",
          "2024-08-02T09:22:59",
          "2024-08-02T09:22:59",
          "2024-08-03T09:12:35",
          "2024-08-03T09:12:35",
          "2024-08-04T08:57:23",
          "2024-08-04T08:57:23",
          "2024-08-05T08:41:47",
          "2024-08-05T08:41:47",
          "2024-08-06T08:28:47",
          "2024-08-06T08:28:47",
          "2024-08-07T08:15:59",
          "2024-08-07T08:15:59",
          "2024-08-08T08:01:47",
          "2024-08-08T08:01:47",
          "2024-08-09T07:46:35",
          "2024-08-09T07:46:35",
          "2024-08-10T07:32:35",
          "2024-08-10T07:32:35",
          "2024-08-11T07:19:47",
          "2024-08-11T07:19:47",
          "2024-08-12T07:07:35",
          "2024-08-12T07:07:35",
          "2024-08-13T06:53:35",
          "2024-08-13T06:53:35",
          "2024-08-14T06:40:47",
          "2024-08-14T06:40:47",
          "2024-08-15T06:27:59",
          "2024-08-15T06:27:59",
          "2024-08-16T06:16:35",
          "2024-08-16T06:16:35",
          "2024-08-17T06:04:59",
          "2024-08-17T06:04:59",
          "2024-08-18T05:51:59",
          "2024-08-18T05:51:59",
          "2024-08-19T05:39:23",
          "2024-08-19T05:39:23",
          "2024-08-20T05:26:11",
          "2024-08-20T05:26:11",
          "2024-08-21T05:15:11",
          "2024-08-21T05:15:11",
          "2024-08-22T05:04:23",
          "2024-08-22T05:04:23",
          "2024-08-23T04:51:59",
          "2024-08-23T04:51:59"
         ],
         "xaxis": "x",
         "y": [
          0,
          null,
          0,
          null,
          0,
          null,
          0,
          null,
          0,
          null,
          0,
          null,
          0,
          null,
          0,
          null,
          0,
          null,
          0,
          null,
          59.97512992336156,
          null,
          59.99410534570134,
          null,
          60.029963149946234,
          null,
          60.00296468818126,
          null,
          59.9938560062274,
          null,
          59.98545372361873,
          null,
          59.97700164657217,
          null,
          59.98078682156184,
          null,
          59.98438779051566,
          null,
          59.996319447289665,
          null,
          60.00937045891777,
          null,
          59.99932712813585,
          null,
          60.002050209234035,
          null,
          60.01350201890397,
          null,
          60.01723138208759,
          null,
          60.020046113281126,
          null,
          60.02187419272855,
          null,
          60.004540902783106,
          null,
          59.993034469991855,
          null,
          59.65601845039034,
          null,
          59.90962494009104,
          null,
          59.90256856233421,
          null,
          0,
          null,
          0,
          null,
          0,
          null,
          0,
          null,
          0,
          null,
          0,
          null,
          0,
          null,
          0,
          null,
          80.39096246442018,
          null,
          80.44153897922604,
          null,
          80.45783627044185,
          null,
          80.47897085949188,
          null,
          80.49031460224768,
          null,
          80.52810232990093,
          null,
          80.55870848914796,
          null
         ],
         "yaxis": "y"
        },
        {
         "alignmentgroup": "True",
         "hovertemplate": "variable=rsETH_value_in_Tokemak-Wrapped Ether-Balancer rsETH / ETHx<br>timestamp=%{x}<br>value=%{y}<extra></extra>",
         "legendgroup": "rsETH_value_in_Tokemak-Wrapped Ether-Balancer rsETH / ETHx",
         "marker": {
          "color": "#EF553B",
          "pattern": {
           "shape": ""
          }
         },
         "name": "rsETH_value_in_Tokemak-Wrapped Ether-Balancer rsETH / ETHx",
         "offsetgroup": "rsETH_value_in_Tokemak-Wrapped Ether-Balancer rsETH / ETHx",
         "orientation": "v",
         "showlegend": true,
         "textposition": "auto",
         "type": "bar",
         "x": [
          "2024-07-08T14:38:47",
          "2024-07-08T14:38:47",
          "2024-07-09T14:30:11",
          "2024-07-09T14:30:11",
          "2024-07-10T14:16:23",
          "2024-07-10T14:16:23",
          "2024-07-11T14:03:23",
          "2024-07-11T14:03:23",
          "2024-07-12T13:52:23",
          "2024-07-12T13:52:23",
          "2024-07-13T13:39:47",
          "2024-07-13T13:39:47",
          "2024-07-14T13:27:47",
          "2024-07-14T13:27:47",
          "2024-07-15T13:14:11",
          "2024-07-15T13:14:11",
          "2024-07-16T13:01:59",
          "2024-07-16T13:01:59",
          "2024-07-17T12:46:35",
          "2024-07-17T12:46:35",
          "2024-07-18T12:34:59",
          "2024-07-18T12:34:59",
          "2024-07-19T12:20:35",
          "2024-07-19T12:20:35",
          "2024-07-20T12:07:35",
          "2024-07-20T12:07:35",
          "2024-07-21T11:53:23",
          "2024-07-21T11:53:23",
          "2024-07-22T11:41:35",
          "2024-07-22T11:41:35",
          "2024-07-23T11:29:35",
          "2024-07-23T11:29:35",
          "2024-07-24T11:15:11",
          "2024-07-24T11:15:11",
          "2024-07-25T11:02:47",
          "2024-07-25T11:02:47",
          "2024-07-26T10:50:47",
          "2024-07-26T10:50:47",
          "2024-07-27T10:39:11",
          "2024-07-27T10:39:11",
          "2024-07-28T10:26:35",
          "2024-07-28T10:26:35",
          "2024-07-29T10:11:59",
          "2024-07-29T10:11:59",
          "2024-07-30T10:01:11",
          "2024-07-30T10:01:11",
          "2024-07-31T09:48:35",
          "2024-07-31T09:48:35",
          "2024-08-01T09:35:35",
          "2024-08-01T09:35:35",
          "2024-08-02T09:22:59",
          "2024-08-02T09:22:59",
          "2024-08-03T09:12:35",
          "2024-08-03T09:12:35",
          "2024-08-04T08:57:23",
          "2024-08-04T08:57:23",
          "2024-08-05T08:41:47",
          "2024-08-05T08:41:47",
          "2024-08-06T08:28:47",
          "2024-08-06T08:28:47",
          "2024-08-07T08:15:59",
          "2024-08-07T08:15:59",
          "2024-08-08T08:01:47",
          "2024-08-08T08:01:47",
          "2024-08-09T07:46:35",
          "2024-08-09T07:46:35",
          "2024-08-10T07:32:35",
          "2024-08-10T07:32:35",
          "2024-08-11T07:19:47",
          "2024-08-11T07:19:47",
          "2024-08-12T07:07:35",
          "2024-08-12T07:07:35",
          "2024-08-13T06:53:35",
          "2024-08-13T06:53:35",
          "2024-08-14T06:40:47",
          "2024-08-14T06:40:47",
          "2024-08-15T06:27:59",
          "2024-08-15T06:27:59",
          "2024-08-16T06:16:35",
          "2024-08-16T06:16:35",
          "2024-08-17T06:04:59",
          "2024-08-17T06:04:59",
          "2024-08-18T05:51:59",
          "2024-08-18T05:51:59",
          "2024-08-19T05:39:23",
          "2024-08-19T05:39:23",
          "2024-08-20T05:26:11",
          "2024-08-20T05:26:11",
          "2024-08-21T05:15:11",
          "2024-08-21T05:15:11",
          "2024-08-22T05:04:23",
          "2024-08-22T05:04:23",
          "2024-08-23T04:51:59",
          "2024-08-23T04:51:59"
         ],
         "xaxis": "x",
         "y": [
          1308.5936411579883,
          null,
          1341.7275982889942,
          null,
          1346.0039436256975,
          null,
          1345.5267441058318,
          null,
          1306.1117360658193,
          null,
          1124.756424656185,
          null,
          1033.118086776376,
          null,
          871.5184016700812,
          null,
          841.2492170455196,
          null,
          771.2217460551155,
          null,
          804.181086692288,
          null,
          938.384916719526,
          null,
          936.6543357408519,
          null,
          987.9233070386715,
          null,
          1002.9210978452772,
          null,
          1124.7721043113468,
          null,
          1070.6775223407258,
          null,
          960.2133512033942,
          null,
          964.8410791826781,
          null,
          898.8794993150192,
          null,
          1076.1033139767148,
          null,
          1066.086978481322,
          null,
          1021.1248600363808,
          null,
          1021.3992637050229,
          null,
          1021.35316499165,
          null,
          1021.4987690586115,
          null,
          1225.8095153648396,
          null,
          1225.8095153648396,
          null,
          1434.7179165439554,
          null,
          1141.3532383933389,
          null,
          1148.05934713331,
          null,
          1148.964716752382,
          null,
          1117.7346230467485,
          null,
          1117.2169354189584,
          null,
          1117.479299283377,
          null,
          1082.8385691466856,
          null,
          1132.8625094638496,
          null,
          1121.9447347518555,
          null,
          1119.6863494144814,
          null,
          1108.665878224478,
          null,
          1165.0026974778916,
          null,
          1108.9819261161738,
          null,
          1109.6206689560522,
          null,
          1098.7373182382023,
          null,
          1070.490165925821,
          null,
          1071.787647235696,
          null,
          1062.8783599446806,
          null
         ],
         "yaxis": "y"
        },
        {
         "alignmentgroup": "True",
         "hovertemplate": "variable=ETHx_value_in_Tokemak-Wrapped Ether-Balancer rsETH / ETHx<br>timestamp=%{x}<br>value=%{y}<extra></extra>",
         "legendgroup": "ETHx_value_in_Tokemak-Wrapped Ether-Balancer rsETH / ETHx",
         "marker": {
          "color": "#00cc96",
          "pattern": {
           "shape": ""
          }
         },
         "name": "ETHx_value_in_Tokemak-Wrapped Ether-Balancer rsETH / ETHx",
         "offsetgroup": "ETHx_value_in_Tokemak-Wrapped Ether-Balancer rsETH / ETHx",
         "orientation": "v",
         "showlegend": true,
         "textposition": "auto",
         "type": "bar",
         "x": [
          "2024-07-08T14:38:47",
          "2024-07-08T14:38:47",
          "2024-07-09T14:30:11",
          "2024-07-09T14:30:11",
          "2024-07-10T14:16:23",
          "2024-07-10T14:16:23",
          "2024-07-11T14:03:23",
          "2024-07-11T14:03:23",
          "2024-07-12T13:52:23",
          "2024-07-12T13:52:23",
          "2024-07-13T13:39:47",
          "2024-07-13T13:39:47",
          "2024-07-14T13:27:47",
          "2024-07-14T13:27:47",
          "2024-07-15T13:14:11",
          "2024-07-15T13:14:11",
          "2024-07-16T13:01:59",
          "2024-07-16T13:01:59",
          "2024-07-17T12:46:35",
          "2024-07-17T12:46:35",
          "2024-07-18T12:34:59",
          "2024-07-18T12:34:59",
          "2024-07-19T12:20:35",
          "2024-07-19T12:20:35",
          "2024-07-20T12:07:35",
          "2024-07-20T12:07:35",
          "2024-07-21T11:53:23",
          "2024-07-21T11:53:23",
          "2024-07-22T11:41:35",
          "2024-07-22T11:41:35",
          "2024-07-23T11:29:35",
          "2024-07-23T11:29:35",
          "2024-07-24T11:15:11",
          "2024-07-24T11:15:11",
          "2024-07-25T11:02:47",
          "2024-07-25T11:02:47",
          "2024-07-26T10:50:47",
          "2024-07-26T10:50:47",
          "2024-07-27T10:39:11",
          "2024-07-27T10:39:11",
          "2024-07-28T10:26:35",
          "2024-07-28T10:26:35",
          "2024-07-29T10:11:59",
          "2024-07-29T10:11:59",
          "2024-07-30T10:01:11",
          "2024-07-30T10:01:11",
          "2024-07-31T09:48:35",
          "2024-07-31T09:48:35",
          "2024-08-01T09:35:35",
          "2024-08-01T09:35:35",
          "2024-08-02T09:22:59",
          "2024-08-02T09:22:59",
          "2024-08-03T09:12:35",
          "2024-08-03T09:12:35",
          "2024-08-04T08:57:23",
          "2024-08-04T08:57:23",
          "2024-08-05T08:41:47",
          "2024-08-05T08:41:47",
          "2024-08-06T08:28:47",
          "2024-08-06T08:28:47",
          "2024-08-07T08:15:59",
          "2024-08-07T08:15:59",
          "2024-08-08T08:01:47",
          "2024-08-08T08:01:47",
          "2024-08-09T07:46:35",
          "2024-08-09T07:46:35",
          "2024-08-10T07:32:35",
          "2024-08-10T07:32:35",
          "2024-08-11T07:19:47",
          "2024-08-11T07:19:47",
          "2024-08-12T07:07:35",
          "2024-08-12T07:07:35",
          "2024-08-13T06:53:35",
          "2024-08-13T06:53:35",
          "2024-08-14T06:40:47",
          "2024-08-14T06:40:47",
          "2024-08-15T06:27:59",
          "2024-08-15T06:27:59",
          "2024-08-16T06:16:35",
          "2024-08-16T06:16:35",
          "2024-08-17T06:04:59",
          "2024-08-17T06:04:59",
          "2024-08-18T05:51:59",
          "2024-08-18T05:51:59",
          "2024-08-19T05:39:23",
          "2024-08-19T05:39:23",
          "2024-08-20T05:26:11",
          "2024-08-20T05:26:11",
          "2024-08-21T05:15:11",
          "2024-08-21T05:15:11",
          "2024-08-22T05:04:23",
          "2024-08-22T05:04:23",
          "2024-08-23T04:51:59",
          "2024-08-23T04:51:59"
         ],
         "xaxis": "x",
         "y": [
          343.52343299360354,
          null,
          312.2782886884612,
          null,
          307.58734650884924,
          null,
          307.5548258682423,
          null,
          348.81991878981455,
          null,
          530.755460811462,
          null,
          669.8176066796173,
          null,
          830.9025541133864,
          null,
          811.5098622611853,
          null,
          881.908803332358,
          null,
          909.4909068153228,
          null,
          776.3381540052345,
          null,
          777.2958301857806,
          null,
          725.8948578206773,
          null,
          731.5761971398615,
          null,
          609.537812518315,
          null,
          663.5229148288367,
          null,
          774.1723952568412,
          null,
          769.7033842951124,
          null,
          836.2011644221975,
          null,
          659.4180448545756,
          null,
          667.9269725364757,
          null,
          712.9643778262916,
          null,
          713.055698644602,
          null,
          713.1982959108462,
          null,
          713.2500845505091,
          null,
          508.54373978723225,
          null,
          508.64064283803333,
          null,
          284.14941359960625,
          null,
          340.2201796750967,
          null,
          333.6141052513953,
          null,
          333.41779795882934,
          null,
          305.15561017800786,
          null,
          305.26359881158453,
          null,
          305.3217195664324,
          null,
          338.6214111164719,
          null,
          288.3990905516509,
          null,
          298.99915715641686,
          null,
          301.2591413375073,
          null,
          312.60903410693504,
          null,
          336.8785913978845,
          null,
          393.63960321761084,
          null,
          393.6362905484873,
          null,
          394.8064177239061,
          null,
          423.3860389843465,
          null,
          422.52232719466883,
          null,
          432.40703013814004,
          null
         ],
         "yaxis": "y"
        },
        {
         "alignmentgroup": "True",
         "hovertemplate": "variable=total_value_in_Tokemak-Wrapped Ether-Balancer rsETH / ETHx<br>timestamp=%{x}<br>value=%{y}<extra></extra>",
         "legendgroup": "total_value_in_Tokemak-Wrapped Ether-Balancer rsETH / ETHx",
         "marker": {
          "color": "#ab63fa",
          "pattern": {
           "shape": ""
          }
         },
         "name": "total_value_in_Tokemak-Wrapped Ether-Balancer rsETH / ETHx",
         "offsetgroup": "total_value_in_Tokemak-Wrapped Ether-Balancer rsETH / ETHx",
         "orientation": "v",
         "showlegend": true,
         "textposition": "auto",
         "type": "bar",
         "x": [
          "2024-07-08T14:38:47",
          "2024-07-08T14:38:47",
          "2024-07-09T14:30:11",
          "2024-07-09T14:30:11",
          "2024-07-10T14:16:23",
          "2024-07-10T14:16:23",
          "2024-07-11T14:03:23",
          "2024-07-11T14:03:23",
          "2024-07-12T13:52:23",
          "2024-07-12T13:52:23",
          "2024-07-13T13:39:47",
          "2024-07-13T13:39:47",
          "2024-07-14T13:27:47",
          "2024-07-14T13:27:47",
          "2024-07-15T13:14:11",
          "2024-07-15T13:14:11",
          "2024-07-16T13:01:59",
          "2024-07-16T13:01:59",
          "2024-07-17T12:46:35",
          "2024-07-17T12:46:35",
          "2024-07-18T12:34:59",
          "2024-07-18T12:34:59",
          "2024-07-19T12:20:35",
          "2024-07-19T12:20:35",
          "2024-07-20T12:07:35",
          "2024-07-20T12:07:35",
          "2024-07-21T11:53:23",
          "2024-07-21T11:53:23",
          "2024-07-22T11:41:35",
          "2024-07-22T11:41:35",
          "2024-07-23T11:29:35",
          "2024-07-23T11:29:35",
          "2024-07-24T11:15:11",
          "2024-07-24T11:15:11",
          "2024-07-25T11:02:47",
          "2024-07-25T11:02:47",
          "2024-07-26T10:50:47",
          "2024-07-26T10:50:47",
          "2024-07-27T10:39:11",
          "2024-07-27T10:39:11",
          "2024-07-28T10:26:35",
          "2024-07-28T10:26:35",
          "2024-07-29T10:11:59",
          "2024-07-29T10:11:59",
          "2024-07-30T10:01:11",
          "2024-07-30T10:01:11",
          "2024-07-31T09:48:35",
          "2024-07-31T09:48:35",
          "2024-08-01T09:35:35",
          "2024-08-01T09:35:35",
          "2024-08-02T09:22:59",
          "2024-08-02T09:22:59",
          "2024-08-03T09:12:35",
          "2024-08-03T09:12:35",
          "2024-08-04T08:57:23",
          "2024-08-04T08:57:23",
          "2024-08-05T08:41:47",
          "2024-08-05T08:41:47",
          "2024-08-06T08:28:47",
          "2024-08-06T08:28:47",
          "2024-08-07T08:15:59",
          "2024-08-07T08:15:59",
          "2024-08-08T08:01:47",
          "2024-08-08T08:01:47",
          "2024-08-09T07:46:35",
          "2024-08-09T07:46:35",
          "2024-08-10T07:32:35",
          "2024-08-10T07:32:35",
          "2024-08-11T07:19:47",
          "2024-08-11T07:19:47",
          "2024-08-12T07:07:35",
          "2024-08-12T07:07:35",
          "2024-08-13T06:53:35",
          "2024-08-13T06:53:35",
          "2024-08-14T06:40:47",
          "2024-08-14T06:40:47",
          "2024-08-15T06:27:59",
          "2024-08-15T06:27:59",
          "2024-08-16T06:16:35",
          "2024-08-16T06:16:35",
          "2024-08-17T06:04:59",
          "2024-08-17T06:04:59",
          "2024-08-18T05:51:59",
          "2024-08-18T05:51:59",
          "2024-08-19T05:39:23",
          "2024-08-19T05:39:23",
          "2024-08-20T05:26:11",
          "2024-08-20T05:26:11",
          "2024-08-21T05:15:11",
          "2024-08-21T05:15:11",
          "2024-08-22T05:04:23",
          "2024-08-22T05:04:23",
          "2024-08-23T04:51:59",
          "2024-08-23T04:51:59"
         ],
         "xaxis": "x",
         "y": [
          1652.1170741515919,
          null,
          1654.0058869774552,
          null,
          1653.5912901345469,
          null,
          1653.081569974074,
          null,
          1654.931654855634,
          null,
          1655.5118854676468,
          null,
          1702.9356934559933,
          null,
          1702.4209557834674,
          null,
          1652.7590793067047,
          null,
          1653.1305493874736,
          null,
          1713.6719935076108,
          null,
          1714.7230707247604,
          null,
          1713.9501659266325,
          null,
          1713.8181648593488,
          null,
          1734.4972949851388,
          null,
          1734.3099168296617,
          null,
          1734.2004371695625,
          null,
          1734.3857464602354,
          null,
          1734.5444634777905,
          null,
          1735.0806637372166,
          null,
          1735.5213588312904,
          null,
          1734.0139510177976,
          null,
          1734.0892378626725,
          null,
          1734.454962349625,
          null,
          1734.5514609024963,
          null,
          1734.7488536091205,
          null,
          1734.3532551520718,
          null,
          1734.450158202873,
          null,
          1718.8673301435617,
          null,
          1481.5734180684356,
          null,
          1481.6734523847053,
          null,
          1482.3825147112113,
          null,
          1422.8902332247565,
          null,
          1422.480534230543,
          null,
          1422.8010188498095,
          null,
          1421.4599802631574,
          null,
          1421.2616000155006,
          null,
          1420.9438919082725,
          null,
          1420.9454907519887,
          null,
          1421.2749123314131,
          null,
          1501.8812888757761,
          null,
          1502.6215293337846,
          null,
          1503.2569595045395,
          null,
          1493.5437359621085,
          null,
          1493.8762049101674,
          null,
          1494.309974430365,
          null,
          1495.2853900828206,
          null
         ],
         "yaxis": "y"
        },
        {
         "alignmentgroup": "True",
         "hovertemplate": "variable=our_approx_portion_of_Tokemak-Wrapped Ether-Balancer rsETH / ETHx<br>timestamp=%{x}<br>value=%{y}<extra></extra>",
         "legendgroup": "our_approx_portion_of_Tokemak-Wrapped Ether-Balancer rsETH / ETHx",
         "marker": {
          "color": "#FFA15A",
          "pattern": {
           "shape": ""
          }
         },
         "name": "our_approx_portion_of_Tokemak-Wrapped Ether-Balancer rsETH / ETHx",
         "offsetgroup": "our_approx_portion_of_Tokemak-Wrapped Ether-Balancer rsETH / ETHx",
         "orientation": "v",
         "showlegend": true,
         "textposition": "auto",
         "type": "bar",
         "x": [
          "2024-07-08T14:38:47",
          "2024-07-08T14:38:47",
          "2024-07-09T14:30:11",
          "2024-07-09T14:30:11",
          "2024-07-10T14:16:23",
          "2024-07-10T14:16:23",
          "2024-07-11T14:03:23",
          "2024-07-11T14:03:23",
          "2024-07-12T13:52:23",
          "2024-07-12T13:52:23",
          "2024-07-13T13:39:47",
          "2024-07-13T13:39:47",
          "2024-07-14T13:27:47",
          "2024-07-14T13:27:47",
          "2024-07-15T13:14:11",
          "2024-07-15T13:14:11",
          "2024-07-16T13:01:59",
          "2024-07-16T13:01:59",
          "2024-07-17T12:46:35",
          "2024-07-17T12:46:35",
          "2024-07-18T12:34:59",
          "2024-07-18T12:34:59",
          "2024-07-19T12:20:35",
          "2024-07-19T12:20:35",
          "2024-07-20T12:07:35",
          "2024-07-20T12:07:35",
          "2024-07-21T11:53:23",
          "2024-07-21T11:53:23",
          "2024-07-22T11:41:35",
          "2024-07-22T11:41:35",
          "2024-07-23T11:29:35",
          "2024-07-23T11:29:35",
          "2024-07-24T11:15:11",
          "2024-07-24T11:15:11",
          "2024-07-25T11:02:47",
          "2024-07-25T11:02:47",
          "2024-07-26T10:50:47",
          "2024-07-26T10:50:47",
          "2024-07-27T10:39:11",
          "2024-07-27T10:39:11",
          "2024-07-28T10:26:35",
          "2024-07-28T10:26:35",
          "2024-07-29T10:11:59",
          "2024-07-29T10:11:59",
          "2024-07-30T10:01:11",
          "2024-07-30T10:01:11",
          "2024-07-31T09:48:35",
          "2024-07-31T09:48:35",
          "2024-08-01T09:35:35",
          "2024-08-01T09:35:35",
          "2024-08-02T09:22:59",
          "2024-08-02T09:22:59",
          "2024-08-03T09:12:35",
          "2024-08-03T09:12:35",
          "2024-08-04T08:57:23",
          "2024-08-04T08:57:23",
          "2024-08-05T08:41:47",
          "2024-08-05T08:41:47",
          "2024-08-06T08:28:47",
          "2024-08-06T08:28:47",
          "2024-08-07T08:15:59",
          "2024-08-07T08:15:59",
          "2024-08-08T08:01:47",
          "2024-08-08T08:01:47",
          "2024-08-09T07:46:35",
          "2024-08-09T07:46:35",
          "2024-08-10T07:32:35",
          "2024-08-10T07:32:35",
          "2024-08-11T07:19:47",
          "2024-08-11T07:19:47",
          "2024-08-12T07:07:35",
          "2024-08-12T07:07:35",
          "2024-08-13T06:53:35",
          "2024-08-13T06:53:35",
          "2024-08-14T06:40:47",
          "2024-08-14T06:40:47",
          "2024-08-15T06:27:59",
          "2024-08-15T06:27:59",
          "2024-08-16T06:16:35",
          "2024-08-16T06:16:35",
          "2024-08-17T06:04:59",
          "2024-08-17T06:04:59",
          "2024-08-18T05:51:59",
          "2024-08-18T05:51:59",
          "2024-08-19T05:39:23",
          "2024-08-19T05:39:23",
          "2024-08-20T05:26:11",
          "2024-08-20T05:26:11",
          "2024-08-21T05:15:11",
          "2024-08-21T05:15:11",
          "2024-08-22T05:04:23",
          "2024-08-22T05:04:23",
          "2024-08-23T04:51:59",
          "2024-08-23T04:51:59"
         ],
         "xaxis": "x",
         "y": [
          0,
          null,
          0,
          null,
          0,
          null,
          0,
          null,
          0,
          null,
          0,
          null,
          0,
          null,
          0,
          null,
          0,
          null,
          0,
          null,
          0.03499802187967262,
          null,
          0.03498763524558149,
          null,
          0.035024334046195295,
          null,
          0.035011278278233,
          null,
          0.03458861318474494,
          null,
          0.03458750546342538,
          null,
          0.03458481520421153,
          null,
          0.034583302442365314,
          null,
          0.03458221397809887,
          null,
          0.03457840358733679,
          null,
          0.03457714314696099,
          null,
          0.03460140969045758,
          null,
          0.0346014777666164,
          null,
          0.03460078429341579,
          null,
          0.03460100938767208,
          null,
          0.03459869478421056,
          null,
          0.03460764063746962,
          null,
          0.034595713586233,
          null,
          0.034902655613904286,
          null,
          0.040265313701541294,
          null,
          0.04043375741373272,
          null,
          0.040409656730202366,
          null,
          0,
          null,
          0,
          null,
          0,
          null,
          0,
          null,
          0,
          null,
          0,
          null,
          0,
          null,
          0,
          null,
          0.05352684200799674,
          null,
          0.05353413178825629,
          null,
          0.05352234410872779,
          null,
          0.05388457593955163,
          null,
          0.053880177177792234,
          null,
          0.05388982453964979,
          null,
          0.05387513916971127,
          null
         ],
         "yaxis": "y"
        },
        {
         "alignmentgroup": "True",
         "hovertemplate": "variable=our_rsETH<br>timestamp=%{x}<br>value=%{y}<extra></extra>",
         "legendgroup": "our_rsETH",
         "marker": {
          "color": "#19d3f3",
          "pattern": {
           "shape": ""
          }
         },
         "name": "our_rsETH",
         "offsetgroup": "our_rsETH",
         "orientation": "v",
         "showlegend": true,
         "textposition": "auto",
         "type": "bar",
         "x": [
          "2024-07-08T14:38:47",
          "2024-07-08T14:38:47",
          "2024-07-09T14:30:11",
          "2024-07-09T14:30:11",
          "2024-07-10T14:16:23",
          "2024-07-10T14:16:23",
          "2024-07-11T14:03:23",
          "2024-07-11T14:03:23",
          "2024-07-12T13:52:23",
          "2024-07-12T13:52:23",
          "2024-07-13T13:39:47",
          "2024-07-13T13:39:47",
          "2024-07-14T13:27:47",
          "2024-07-14T13:27:47",
          "2024-07-15T13:14:11",
          "2024-07-15T13:14:11",
          "2024-07-16T13:01:59",
          "2024-07-16T13:01:59",
          "2024-07-17T12:46:35",
          "2024-07-17T12:46:35",
          "2024-07-18T12:34:59",
          "2024-07-18T12:34:59",
          "2024-07-19T12:20:35",
          "2024-07-19T12:20:35",
          "2024-07-20T12:07:35",
          "2024-07-20T12:07:35",
          "2024-07-21T11:53:23",
          "2024-07-21T11:53:23",
          "2024-07-22T11:41:35",
          "2024-07-22T11:41:35",
          "2024-07-23T11:29:35",
          "2024-07-23T11:29:35",
          "2024-07-24T11:15:11",
          "2024-07-24T11:15:11",
          "2024-07-25T11:02:47",
          "2024-07-25T11:02:47",
          "2024-07-26T10:50:47",
          "2024-07-26T10:50:47",
          "2024-07-27T10:39:11",
          "2024-07-27T10:39:11",
          "2024-07-28T10:26:35",
          "2024-07-28T10:26:35",
          "2024-07-29T10:11:59",
          "2024-07-29T10:11:59",
          "2024-07-30T10:01:11",
          "2024-07-30T10:01:11",
          "2024-07-31T09:48:35",
          "2024-07-31T09:48:35",
          "2024-08-01T09:35:35",
          "2024-08-01T09:35:35",
          "2024-08-02T09:22:59",
          "2024-08-02T09:22:59",
          "2024-08-03T09:12:35",
          "2024-08-03T09:12:35",
          "2024-08-04T08:57:23",
          "2024-08-04T08:57:23",
          "2024-08-05T08:41:47",
          "2024-08-05T08:41:47",
          "2024-08-06T08:28:47",
          "2024-08-06T08:28:47",
          "2024-08-07T08:15:59",
          "2024-08-07T08:15:59",
          "2024-08-08T08:01:47",
          "2024-08-08T08:01:47",
          "2024-08-09T07:46:35",
          "2024-08-09T07:46:35",
          "2024-08-10T07:32:35",
          "2024-08-10T07:32:35",
          "2024-08-11T07:19:47",
          "2024-08-11T07:19:47",
          "2024-08-12T07:07:35",
          "2024-08-12T07:07:35",
          "2024-08-13T06:53:35",
          "2024-08-13T06:53:35",
          "2024-08-14T06:40:47",
          "2024-08-14T06:40:47",
          "2024-08-15T06:27:59",
          "2024-08-15T06:27:59",
          "2024-08-16T06:16:35",
          "2024-08-16T06:16:35",
          "2024-08-17T06:04:59",
          "2024-08-17T06:04:59",
          "2024-08-18T05:51:59",
          "2024-08-18T05:51:59",
          "2024-08-19T05:39:23",
          "2024-08-19T05:39:23",
          "2024-08-20T05:26:11",
          "2024-08-20T05:26:11",
          "2024-08-21T05:15:11",
          "2024-08-21T05:15:11",
          "2024-08-22T05:04:23",
          "2024-08-22T05:04:23",
          "2024-08-23T04:51:59",
          "2024-08-23T04:51:59"
         ],
         "xaxis": "x",
         "y": [
          0,
          0,
          0,
          0,
          0,
          0,
          0,
          0,
          0,
          0,
          0,
          0,
          0,
          0,
          0,
          0,
          0,
          0,
          0,
          0,
          28.144747267275594,
          0,
          32.831869186138135,
          0,
          32.805694340804756,
          0,
          34.588457820283146,
          0,
          34.68964990819003,
          0,
          38.903061302977164,
          0,
          37.02918425345706,
          0,
          33.20734873386412,
          0,
          33.36634065515521,
          0,
          31.08181810369796,
          0,
          37.20857832829198,
          0,
          36.88811230809425,
          0,
          35.33242914148811,
          0,
          35.341215600911205,
          0,
          35.33985045000467,
          0,
          35.342524133105684,
          0,
          42.42237519773717,
          0,
          42.40775490484107,
          0,
          50.075465344231944,
          0,
          45.95694618817784,
          0,
          46.42035313855662,
          0,
          46.42926979907794,
          16.818639525475046,
          0,
          65.89702565940647,
          0,
          65.61694115567767,
          0,
          64.95065912884694,
          0,
          65.25793218443165,
          0,
          65.97700296300626,
          0,
          66.199866135565,
          0,
          65.86980550197912,
          0,
          65.21813682385293,
          62.35891532678912,
          0,
          59.36838458349755,
          0,
          59.38949927402255,
          0,
          59.20499446222571,
          0,
          57.67819980716744,
          0,
          57.75844825329573,
          0,
          57.262719562494134,
          0
         ],
         "yaxis": "y"
        },
        {
         "alignmentgroup": "True",
         "hovertemplate": "variable=our_ETHx<br>timestamp=%{x}<br>value=%{y}<extra></extra>",
         "legendgroup": "our_ETHx",
         "marker": {
          "color": "#FF6692",
          "pattern": {
           "shape": ""
          }
         },
         "name": "our_ETHx",
         "offsetgroup": "our_ETHx",
         "orientation": "v",
         "showlegend": true,
         "textposition": "auto",
         "type": "bar",
         "x": [
          "2024-07-08T14:38:47",
          "2024-07-08T14:38:47",
          "2024-07-09T14:30:11",
          "2024-07-09T14:30:11",
          "2024-07-10T14:16:23",
          "2024-07-10T14:16:23",
          "2024-07-11T14:03:23",
          "2024-07-11T14:03:23",
          "2024-07-12T13:52:23",
          "2024-07-12T13:52:23",
          "2024-07-13T13:39:47",
          "2024-07-13T13:39:47",
          "2024-07-14T13:27:47",
          "2024-07-14T13:27:47",
          "2024-07-15T13:14:11",
          "2024-07-15T13:14:11",
          "2024-07-16T13:01:59",
          "2024-07-16T13:01:59",
          "2024-07-17T12:46:35",
          "2024-07-17T12:46:35",
          "2024-07-18T12:34:59",
          "2024-07-18T12:34:59",
          "2024-07-19T12:20:35",
          "2024-07-19T12:20:35",
          "2024-07-20T12:07:35",
          "2024-07-20T12:07:35",
          "2024-07-21T11:53:23",
          "2024-07-21T11:53:23",
          "2024-07-22T11:41:35",
          "2024-07-22T11:41:35",
          "2024-07-23T11:29:35",
          "2024-07-23T11:29:35",
          "2024-07-24T11:15:11",
          "2024-07-24T11:15:11",
          "2024-07-25T11:02:47",
          "2024-07-25T11:02:47",
          "2024-07-26T10:50:47",
          "2024-07-26T10:50:47",
          "2024-07-27T10:39:11",
          "2024-07-27T10:39:11",
          "2024-07-28T10:26:35",
          "2024-07-28T10:26:35",
          "2024-07-29T10:11:59",
          "2024-07-29T10:11:59",
          "2024-07-30T10:01:11",
          "2024-07-30T10:01:11",
          "2024-07-31T09:48:35",
          "2024-07-31T09:48:35",
          "2024-08-01T09:35:35",
          "2024-08-01T09:35:35",
          "2024-08-02T09:22:59",
          "2024-08-02T09:22:59",
          "2024-08-03T09:12:35",
          "2024-08-03T09:12:35",
          "2024-08-04T08:57:23",
          "2024-08-04T08:57:23",
          "2024-08-05T08:41:47",
          "2024-08-05T08:41:47",
          "2024-08-06T08:28:47",
          "2024-08-06T08:28:47",
          "2024-08-07T08:15:59",
          "2024-08-07T08:15:59",
          "2024-08-08T08:01:47",
          "2024-08-08T08:01:47",
          "2024-08-09T07:46:35",
          "2024-08-09T07:46:35",
          "2024-08-10T07:32:35",
          "2024-08-10T07:32:35",
          "2024-08-11T07:19:47",
          "2024-08-11T07:19:47",
          "2024-08-12T07:07:35",
          "2024-08-12T07:07:35",
          "2024-08-13T06:53:35",
          "2024-08-13T06:53:35",
          "2024-08-14T06:40:47",
          "2024-08-14T06:40:47",
          "2024-08-15T06:27:59",
          "2024-08-15T06:27:59",
          "2024-08-16T06:16:35",
          "2024-08-16T06:16:35",
          "2024-08-17T06:04:59",
          "2024-08-17T06:04:59",
          "2024-08-18T05:51:59",
          "2024-08-18T05:51:59",
          "2024-08-19T05:39:23",
          "2024-08-19T05:39:23",
          "2024-08-20T05:26:11",
          "2024-08-20T05:26:11",
          "2024-08-21T05:15:11",
          "2024-08-21T05:15:11",
          "2024-08-22T05:04:23",
          "2024-08-22T05:04:23",
          "2024-08-23T04:51:59",
          "2024-08-23T04:51:59"
         ],
         "xaxis": "x",
         "y": [
          0,
          null,
          0,
          null,
          0,
          null,
          0,
          null,
          0,
          null,
          0,
          null,
          0,
          null,
          0,
          null,
          0,
          null,
          0,
          null,
          31.830382656085956,
          null,
          27.162236159563214,
          null,
          27.22426880914147,
          null,
          25.414506867898112,
          null,
          25.304206098037376,
          null,
          21.082392420641575,
          null,
          22.947817393115102,
          null,
          26.773438087697723,
          null,
          26.618047135360445,
          null,
          28.914501343591716,
          null,
          22.8007921306258,
          null,
          23.111214820041603,
          null,
          24.669621067745926,
          null,
          24.672286417992765,
          null,
          24.67738093208292,
          null,
          24.677521980175438,
          null,
          17.599498994991396,
          null,
          17.596785997942035,
          null,
          9.917569125759908,
          null,
          13.699072262212512,
          null,
          13.489271801534414,
          null,
          13.473298763256262,
          null,
          0,
          null,
          0,
          null,
          0,
          null,
          0,
          null,
          0,
          null,
          0,
          null,
          0,
          null,
          0,
          null,
          18.032047137631054,
          null,
          21.073154395728494,
          null,
          21.06833699641929,
          null,
          21.27397639726616,
          null,
          22.812114795080237,
          null,
          22.769654076605203,
          null,
          23.29598892665383,
          null
         ],
         "yaxis": "y"
        },
        {
         "alignmentgroup": "True",
         "hovertemplate": "variable=our_approx_eth_value_in_Tokemak-Wrapped Ether-Balancer rsETH-WETH Stable Pool<br>timestamp=%{x}<br>value=%{y}<extra></extra>",
         "legendgroup": "our_approx_eth_value_in_Tokemak-Wrapped Ether-Balancer rsETH-WETH Stable Pool",
         "marker": {
          "color": "#B6E880",
          "pattern": {
           "shape": ""
          }
         },
         "name": "our_approx_eth_value_in_Tokemak-Wrapped Ether-Balancer rsETH-WETH Stable Pool",
         "offsetgroup": "our_approx_eth_value_in_Tokemak-Wrapped Ether-Balancer rsETH-WETH Stable Pool",
         "orientation": "v",
         "showlegend": true,
         "textposition": "auto",
         "type": "bar",
         "x": [
          "2024-07-08T14:38:47",
          "2024-07-08T14:38:47",
          "2024-07-09T14:30:11",
          "2024-07-09T14:30:11",
          "2024-07-10T14:16:23",
          "2024-07-10T14:16:23",
          "2024-07-11T14:03:23",
          "2024-07-11T14:03:23",
          "2024-07-12T13:52:23",
          "2024-07-12T13:52:23",
          "2024-07-13T13:39:47",
          "2024-07-13T13:39:47",
          "2024-07-14T13:27:47",
          "2024-07-14T13:27:47",
          "2024-07-15T13:14:11",
          "2024-07-15T13:14:11",
          "2024-07-16T13:01:59",
          "2024-07-16T13:01:59",
          "2024-07-17T12:46:35",
          "2024-07-17T12:46:35",
          "2024-07-18T12:34:59",
          "2024-07-18T12:34:59",
          "2024-07-19T12:20:35",
          "2024-07-19T12:20:35",
          "2024-07-20T12:07:35",
          "2024-07-20T12:07:35",
          "2024-07-21T11:53:23",
          "2024-07-21T11:53:23",
          "2024-07-22T11:41:35",
          "2024-07-22T11:41:35",
          "2024-07-23T11:29:35",
          "2024-07-23T11:29:35",
          "2024-07-24T11:15:11",
          "2024-07-24T11:15:11",
          "2024-07-25T11:02:47",
          "2024-07-25T11:02:47",
          "2024-07-26T10:50:47",
          "2024-07-26T10:50:47",
          "2024-07-27T10:39:11",
          "2024-07-27T10:39:11",
          "2024-07-28T10:26:35",
          "2024-07-28T10:26:35",
          "2024-07-29T10:11:59",
          "2024-07-29T10:11:59",
          "2024-07-30T10:01:11",
          "2024-07-30T10:01:11",
          "2024-07-31T09:48:35",
          "2024-07-31T09:48:35",
          "2024-08-01T09:35:35",
          "2024-08-01T09:35:35",
          "2024-08-02T09:22:59",
          "2024-08-02T09:22:59",
          "2024-08-03T09:12:35",
          "2024-08-03T09:12:35",
          "2024-08-04T08:57:23",
          "2024-08-04T08:57:23",
          "2024-08-05T08:41:47",
          "2024-08-05T08:41:47",
          "2024-08-06T08:28:47",
          "2024-08-06T08:28:47",
          "2024-08-07T08:15:59",
          "2024-08-07T08:15:59",
          "2024-08-08T08:01:47",
          "2024-08-08T08:01:47",
          "2024-08-09T07:46:35",
          "2024-08-09T07:46:35",
          "2024-08-10T07:32:35",
          "2024-08-10T07:32:35",
          "2024-08-11T07:19:47",
          "2024-08-11T07:19:47",
          "2024-08-12T07:07:35",
          "2024-08-12T07:07:35",
          "2024-08-13T06:53:35",
          "2024-08-13T06:53:35",
          "2024-08-14T06:40:47",
          "2024-08-14T06:40:47",
          "2024-08-15T06:27:59",
          "2024-08-15T06:27:59",
          "2024-08-16T06:16:35",
          "2024-08-16T06:16:35",
          "2024-08-17T06:04:59",
          "2024-08-17T06:04:59",
          "2024-08-18T05:51:59",
          "2024-08-18T05:51:59",
          "2024-08-19T05:39:23",
          "2024-08-19T05:39:23",
          "2024-08-20T05:26:11",
          "2024-08-20T05:26:11",
          "2024-08-21T05:15:11",
          "2024-08-21T05:15:11",
          "2024-08-22T05:04:23",
          "2024-08-22T05:04:23",
          "2024-08-23T04:51:59",
          "2024-08-23T04:51:59"
         ],
         "xaxis": "x",
         "y": [
          null,
          0,
          null,
          0,
          null,
          0,
          null,
          0,
          null,
          0,
          null,
          0,
          null,
          0,
          null,
          0,
          null,
          0,
          null,
          0,
          null,
          0,
          null,
          0,
          null,
          0,
          null,
          0,
          null,
          0,
          null,
          0,
          null,
          0,
          null,
          0,
          null,
          0,
          null,
          0,
          null,
          0,
          null,
          0,
          null,
          0,
          null,
          0,
          null,
          0,
          null,
          0,
          null,
          0,
          null,
          0,
          null,
          0,
          null,
          0,
          null,
          0,
          null,
          20.41635144147446,
          null,
          80.3409542662577,
          null,
          80.3639846134399,
          null,
          80.36311065377234,
          null,
          80.38799801655449,
          null,
          80.37337508008383,
          null,
          80.3690015905798,
          null,
          80.37357967527956,
          null,
          80.38165718041104,
          null,
          0,
          null,
          0,
          null,
          0,
          null,
          0,
          null,
          0,
          null,
          0,
          null,
          0
         ],
         "yaxis": "y"
        },
        {
         "alignmentgroup": "True",
         "hovertemplate": "variable=rsETH_value_in_Tokemak-Wrapped Ether-Balancer rsETH-WETH Stable Pool<br>timestamp=%{x}<br>value=%{y}<extra></extra>",
         "legendgroup": "rsETH_value_in_Tokemak-Wrapped Ether-Balancer rsETH-WETH Stable Pool",
         "marker": {
          "color": "#FF97FF",
          "pattern": {
           "shape": ""
          }
         },
         "name": "rsETH_value_in_Tokemak-Wrapped Ether-Balancer rsETH-WETH Stable Pool",
         "offsetgroup": "rsETH_value_in_Tokemak-Wrapped Ether-Balancer rsETH-WETH Stable Pool",
         "orientation": "v",
         "showlegend": true,
         "textposition": "auto",
         "type": "bar",
         "x": [
          "2024-07-08T14:38:47",
          "2024-07-08T14:38:47",
          "2024-07-09T14:30:11",
          "2024-07-09T14:30:11",
          "2024-07-10T14:16:23",
          "2024-07-10T14:16:23",
          "2024-07-11T14:03:23",
          "2024-07-11T14:03:23",
          "2024-07-12T13:52:23",
          "2024-07-12T13:52:23",
          "2024-07-13T13:39:47",
          "2024-07-13T13:39:47",
          "2024-07-14T13:27:47",
          "2024-07-14T13:27:47",
          "2024-07-15T13:14:11",
          "2024-07-15T13:14:11",
          "2024-07-16T13:01:59",
          "2024-07-16T13:01:59",
          "2024-07-17T12:46:35",
          "2024-07-17T12:46:35",
          "2024-07-18T12:34:59",
          "2024-07-18T12:34:59",
          "2024-07-19T12:20:35",
          "2024-07-19T12:20:35",
          "2024-07-20T12:07:35",
          "2024-07-20T12:07:35",
          "2024-07-21T11:53:23",
          "2024-07-21T11:53:23",
          "2024-07-22T11:41:35",
          "2024-07-22T11:41:35",
          "2024-07-23T11:29:35",
          "2024-07-23T11:29:35",
          "2024-07-24T11:15:11",
          "2024-07-24T11:15:11",
          "2024-07-25T11:02:47",
          "2024-07-25T11:02:47",
          "2024-07-26T10:50:47",
          "2024-07-26T10:50:47",
          "2024-07-27T10:39:11",
          "2024-07-27T10:39:11",
          "2024-07-28T10:26:35",
          "2024-07-28T10:26:35",
          "2024-07-29T10:11:59",
          "2024-07-29T10:11:59",
          "2024-07-30T10:01:11",
          "2024-07-30T10:01:11",
          "2024-07-31T09:48:35",
          "2024-07-31T09:48:35",
          "2024-08-01T09:35:35",
          "2024-08-01T09:35:35",
          "2024-08-02T09:22:59",
          "2024-08-02T09:22:59",
          "2024-08-03T09:12:35",
          "2024-08-03T09:12:35",
          "2024-08-04T08:57:23",
          "2024-08-04T08:57:23",
          "2024-08-05T08:41:47",
          "2024-08-05T08:41:47",
          "2024-08-06T08:28:47",
          "2024-08-06T08:28:47",
          "2024-08-07T08:15:59",
          "2024-08-07T08:15:59",
          "2024-08-08T08:01:47",
          "2024-08-08T08:01:47",
          "2024-08-09T07:46:35",
          "2024-08-09T07:46:35",
          "2024-08-10T07:32:35",
          "2024-08-10T07:32:35",
          "2024-08-11T07:19:47",
          "2024-08-11T07:19:47",
          "2024-08-12T07:07:35",
          "2024-08-12T07:07:35",
          "2024-08-13T06:53:35",
          "2024-08-13T06:53:35",
          "2024-08-14T06:40:47",
          "2024-08-14T06:40:47",
          "2024-08-15T06:27:59",
          "2024-08-15T06:27:59",
          "2024-08-16T06:16:35",
          "2024-08-16T06:16:35",
          "2024-08-17T06:04:59",
          "2024-08-17T06:04:59",
          "2024-08-18T05:51:59",
          "2024-08-18T05:51:59",
          "2024-08-19T05:39:23",
          "2024-08-19T05:39:23",
          "2024-08-20T05:26:11",
          "2024-08-20T05:26:11",
          "2024-08-21T05:15:11",
          "2024-08-21T05:15:11",
          "2024-08-22T05:04:23",
          "2024-08-22T05:04:23",
          "2024-08-23T04:51:59",
          "2024-08-23T04:51:59"
         ],
         "xaxis": "x",
         "y": [
          null,
          6163.117891066447,
          null,
          6124.269474451297,
          null,
          6224.530850640279,
          null,
          6119.857467603643,
          null,
          6142.559479634565,
          null,
          5383.189248768447,
          null,
          5535.615643048574,
          null,
          5277.46279869203,
          null,
          5230.51084955274,
          null,
          4776.271702577873,
          null,
          4480.2225167571105,
          null,
          4809.110096264618,
          null,
          4946.5934083619,
          null,
          5183.07204039466,
          null,
          5298.339549396358,
          null,
          5394.762670158218,
          null,
          5594.2924904986085,
          null,
          5339.738802713897,
          null,
          5431.459958866147,
          null,
          4354.426556589251,
          null,
          4562.178234058423,
          null,
          4162.5329827872,
          null,
          4113.300998962258,
          null,
          4268.612080468332,
          null,
          4148.146802026577,
          null,
          4209.942500999209,
          null,
          4707.970034568319,
          null,
          4712.016780182134,
          null,
          5540.633974468294,
          null,
          5104.251362804295,
          null,
          5166.51992155118,
          null,
          5143.969016272841,
          null,
          5162.942779964298,
          null,
          5116.10240983987,
          null,
          5057.459640935436,
          null,
          5056.590277494348,
          null,
          5113.079221693765,
          null,
          5129.9380899967455,
          null,
          5084.113651838361,
          null,
          5034.4709938545375,
          null,
          4939.81800988746,
          null,
          4819.766106772633,
          null,
          4820.8523552287315,
          null,
          4713.946741557837,
          null,
          4808.188437204654,
          null,
          4761.2292891538345,
          null,
          4765.64563993774
         ],
         "yaxis": "y"
        },
        {
         "alignmentgroup": "True",
         "hovertemplate": "variable=Wrapped Ether_value_in_Tokemak-Wrapped Ether-Balancer rsETH-WETH Stable Pool<br>timestamp=%{x}<br>value=%{y}<extra></extra>",
         "legendgroup": "Wrapped Ether_value_in_Tokemak-Wrapped Ether-Balancer rsETH-WETH Stable Pool",
         "marker": {
          "color": "#FECB52",
          "pattern": {
           "shape": ""
          }
         },
         "name": "Wrapped Ether_value_in_Tokemak-Wrapped Ether-Balancer rsETH-WETH Stable Pool",
         "offsetgroup": "Wrapped Ether_value_in_Tokemak-Wrapped Ether-Balancer rsETH-WETH Stable Pool",
         "orientation": "v",
         "showlegend": true,
         "textposition": "auto",
         "type": "bar",
         "x": [
          "2024-07-08T14:38:47",
          "2024-07-08T14:38:47",
          "2024-07-09T14:30:11",
          "2024-07-09T14:30:11",
          "2024-07-10T14:16:23",
          "2024-07-10T14:16:23",
          "2024-07-11T14:03:23",
          "2024-07-11T14:03:23",
          "2024-07-12T13:52:23",
          "2024-07-12T13:52:23",
          "2024-07-13T13:39:47",
          "2024-07-13T13:39:47",
          "2024-07-14T13:27:47",
          "2024-07-14T13:27:47",
          "2024-07-15T13:14:11",
          "2024-07-15T13:14:11",
          "2024-07-16T13:01:59",
          "2024-07-16T13:01:59",
          "2024-07-17T12:46:35",
          "2024-07-17T12:46:35",
          "2024-07-18T12:34:59",
          "2024-07-18T12:34:59",
          "2024-07-19T12:20:35",
          "2024-07-19T12:20:35",
          "2024-07-20T12:07:35",
          "2024-07-20T12:07:35",
          "2024-07-21T11:53:23",
          "2024-07-21T11:53:23",
          "2024-07-22T11:41:35",
          "2024-07-22T11:41:35",
          "2024-07-23T11:29:35",
          "2024-07-23T11:29:35",
          "2024-07-24T11:15:11",
          "2024-07-24T11:15:11",
          "2024-07-25T11:02:47",
          "2024-07-25T11:02:47",
          "2024-07-26T10:50:47",
          "2024-07-26T10:50:47",
          "2024-07-27T10:39:11",
          "2024-07-27T10:39:11",
          "2024-07-28T10:26:35",
          "2024-07-28T10:26:35",
          "2024-07-29T10:11:59",
          "2024-07-29T10:11:59",
          "2024-07-30T10:01:11",
          "2024-07-30T10:01:11",
          "2024-07-31T09:48:35",
          "2024-07-31T09:48:35",
          "2024-08-01T09:35:35",
          "2024-08-01T09:35:35",
          "2024-08-02T09:22:59",
          "2024-08-02T09:22:59",
          "2024-08-03T09:12:35",
          "2024-08-03T09:12:35",
          "2024-08-04T08:57:23",
          "2024-08-04T08:57:23",
          "2024-08-05T08:41:47",
          "2024-08-05T08:41:47",
          "2024-08-06T08:28:47",
          "2024-08-06T08:28:47",
          "2024-08-07T08:15:59",
          "2024-08-07T08:15:59",
          "2024-08-08T08:01:47",
          "2024-08-08T08:01:47",
          "2024-08-09T07:46:35",
          "2024-08-09T07:46:35",
          "2024-08-10T07:32:35",
          "2024-08-10T07:32:35",
          "2024-08-11T07:19:47",
          "2024-08-11T07:19:47",
          "2024-08-12T07:07:35",
          "2024-08-12T07:07:35",
          "2024-08-13T06:53:35",
          "2024-08-13T06:53:35",
          "2024-08-14T06:40:47",
          "2024-08-14T06:40:47",
          "2024-08-15T06:27:59",
          "2024-08-15T06:27:59",
          "2024-08-16T06:16:35",
          "2024-08-16T06:16:35",
          "2024-08-17T06:04:59",
          "2024-08-17T06:04:59",
          "2024-08-18T05:51:59",
          "2024-08-18T05:51:59",
          "2024-08-19T05:39:23",
          "2024-08-19T05:39:23",
          "2024-08-20T05:26:11",
          "2024-08-20T05:26:11",
          "2024-08-21T05:15:11",
          "2024-08-21T05:15:11",
          "2024-08-22T05:04:23",
          "2024-08-22T05:04:23",
          "2024-08-23T04:51:59",
          "2024-08-23T04:51:59"
         ],
         "xaxis": "x",
         "y": [
          null,
          1312.3355932676138,
          null,
          1358.378363018717,
          null,
          1256.2711474096739,
          null,
          1333.1100985855878,
          null,
          1348.397509242841,
          null,
          2131.1075009145916,
          null,
          1987.0645118282837,
          null,
          2242.898637124584,
          null,
          2293.0825845890095,
          null,
          2748.5145574865833,
          null,
          3045.8707234950925,
          null,
          2719.0147607688505,
          null,
          2579.6273884319726,
          null,
          2313.5289896519657,
          null,
          2198.3139872956363,
          null,
          2101.014883661995,
          null,
          1896.7293541793806,
          null,
          2171.7323933804346,
          null,
          2149.4139367489265,
          null,
          1964.2076846137759,
          null,
          1765.02447315731,
          null,
          2164.985230267113,
          null,
          2173.5087145435195,
          null,
          2019.3233368856386,
          null,
          2128.042603674578,
          null,
          2054.4064159631193,
          null,
          1553.3334717385717,
          null,
          1540.1789811730519,
          null,
          658.2376049480816,
          null,
          1136.3610430020756,
          null,
          1095.2973424553159,
          null,
          1100.3576476768499,
          null,
          1131.6622589386534,
          null,
          1149.8156305895159,
          null,
          1200.1087071426591,
          null,
          1172.371560415665,
          null,
          1115.6886162421524,
          null,
          1097.9899494683975,
          null,
          1119.4633977694361,
          null,
          1170.537938027906,
          null,
          1184.6272986818553,
          null,
          1306.3830023473001,
          null,
          1307.9034738525932,
          null,
          1416.068332878078,
          null,
          1664.7702739354193,
          null,
          1879.9311356053329,
          null,
          1879.5994694240433
         ],
         "yaxis": "y"
        },
        {
         "alignmentgroup": "True",
         "hovertemplate": "variable=total_value_in_Tokemak-Wrapped Ether-Balancer rsETH-WETH Stable Pool<br>timestamp=%{x}<br>value=%{y}<extra></extra>",
         "legendgroup": "total_value_in_Tokemak-Wrapped Ether-Balancer rsETH-WETH Stable Pool",
         "marker": {
          "color": "#636efa",
          "pattern": {
           "shape": ""
          }
         },
         "name": "total_value_in_Tokemak-Wrapped Ether-Balancer rsETH-WETH Stable Pool",
         "offsetgroup": "total_value_in_Tokemak-Wrapped Ether-Balancer rsETH-WETH Stable Pool",
         "orientation": "v",
         "showlegend": true,
         "textposition": "auto",
         "type": "bar",
         "x": [
          "2024-07-08T14:38:47",
          "2024-07-08T14:38:47",
          "2024-07-09T14:30:11",
          "2024-07-09T14:30:11",
          "2024-07-10T14:16:23",
          "2024-07-10T14:16:23",
          "2024-07-11T14:03:23",
          "2024-07-11T14:03:23",
          "2024-07-12T13:52:23",
          "2024-07-12T13:52:23",
          "2024-07-13T13:39:47",
          "2024-07-13T13:39:47",
          "2024-07-14T13:27:47",
          "2024-07-14T13:27:47",
          "2024-07-15T13:14:11",
          "2024-07-15T13:14:11",
          "2024-07-16T13:01:59",
          "2024-07-16T13:01:59",
          "2024-07-17T12:46:35",
          "2024-07-17T12:46:35",
          "2024-07-18T12:34:59",
          "2024-07-18T12:34:59",
          "2024-07-19T12:20:35",
          "2024-07-19T12:20:35",
          "2024-07-20T12:07:35",
          "2024-07-20T12:07:35",
          "2024-07-21T11:53:23",
          "2024-07-21T11:53:23",
          "2024-07-22T11:41:35",
          "2024-07-22T11:41:35",
          "2024-07-23T11:29:35",
          "2024-07-23T11:29:35",
          "2024-07-24T11:15:11",
          "2024-07-24T11:15:11",
          "2024-07-25T11:02:47",
          "2024-07-25T11:02:47",
          "2024-07-26T10:50:47",
          "2024-07-26T10:50:47",
          "2024-07-27T10:39:11",
          "2024-07-27T10:39:11",
          "2024-07-28T10:26:35",
          "2024-07-28T10:26:35",
          "2024-07-29T10:11:59",
          "2024-07-29T10:11:59",
          "2024-07-30T10:01:11",
          "2024-07-30T10:01:11",
          "2024-07-31T09:48:35",
          "2024-07-31T09:48:35",
          "2024-08-01T09:35:35",
          "2024-08-01T09:35:35",
          "2024-08-02T09:22:59",
          "2024-08-02T09:22:59",
          "2024-08-03T09:12:35",
          "2024-08-03T09:12:35",
          "2024-08-04T08:57:23",
          "2024-08-04T08:57:23",
          "2024-08-05T08:41:47",
          "2024-08-05T08:41:47",
          "2024-08-06T08:28:47",
          "2024-08-06T08:28:47",
          "2024-08-07T08:15:59",
          "2024-08-07T08:15:59",
          "2024-08-08T08:01:47",
          "2024-08-08T08:01:47",
          "2024-08-09T07:46:35",
          "2024-08-09T07:46:35",
          "2024-08-10T07:32:35",
          "2024-08-10T07:32:35",
          "2024-08-11T07:19:47",
          "2024-08-11T07:19:47",
          "2024-08-12T07:07:35",
          "2024-08-12T07:07:35",
          "2024-08-13T06:53:35",
          "2024-08-13T06:53:35",
          "2024-08-14T06:40:47",
          "2024-08-14T06:40:47",
          "2024-08-15T06:27:59",
          "2024-08-15T06:27:59",
          "2024-08-16T06:16:35",
          "2024-08-16T06:16:35",
          "2024-08-17T06:04:59",
          "2024-08-17T06:04:59",
          "2024-08-18T05:51:59",
          "2024-08-18T05:51:59",
          "2024-08-19T05:39:23",
          "2024-08-19T05:39:23",
          "2024-08-20T05:26:11",
          "2024-08-20T05:26:11",
          "2024-08-21T05:15:11",
          "2024-08-21T05:15:11",
          "2024-08-22T05:04:23",
          "2024-08-22T05:04:23",
          "2024-08-23T04:51:59",
          "2024-08-23T04:51:59"
         ],
         "xaxis": "x",
         "y": [
          null,
          7475.453484334061,
          null,
          7482.647837470015,
          null,
          7480.801998049953,
          null,
          7452.967566189231,
          null,
          7490.956988877406,
          null,
          7514.296749683039,
          null,
          7522.680154876858,
          null,
          7520.361435816614,
          null,
          7523.59343414175,
          null,
          7524.786260064457,
          null,
          7526.093240252203,
          null,
          7528.124857033468,
          null,
          7526.220796793873,
          null,
          7496.601030046626,
          null,
          7496.653536691994,
          null,
          7495.777553820213,
          null,
          7491.021844677989,
          null,
          7511.471196094331,
          null,
          7580.873895615074,
          null,
          6318.634241203027,
          null,
          6327.202707215733,
          null,
          6327.518213054313,
          null,
          6286.809713505778,
          null,
          6287.9354173539705,
          null,
          6276.189405701154,
          null,
          6264.348916962328,
          null,
          6261.30350630689,
          null,
          6252.195761355186,
          null,
          6198.871579416375,
          null,
          6240.612405806371,
          null,
          6261.817264006496,
          null,
          6244.326663949691,
          null,
          6294.6050389029515,
          null,
          6265.918040429386,
          null,
          6257.568348078095,
          null,
          6228.961837910013,
          null,
          6228.767837935918,
          null,
          6227.928039465143,
          null,
          6203.577049607797,
          null,
          6205.008931882443,
          null,
          6124.445308569315,
          null,
          6126.149109119933,
          null,
          6128.755829081325,
          null,
          6130.015074435915,
          null,
          6472.958711140073,
          null,
          6641.160424759168,
          null,
          6645.245109361784
         ],
         "yaxis": "y"
        },
        {
         "alignmentgroup": "True",
         "hovertemplate": "variable=our_approx_portion_of_Tokemak-Wrapped Ether-Balancer rsETH-WETH Stable Pool<br>timestamp=%{x}<br>value=%{y}<extra></extra>",
         "legendgroup": "our_approx_portion_of_Tokemak-Wrapped Ether-Balancer rsETH-WETH Stable Pool",
         "marker": {
          "color": "#EF553B",
          "pattern": {
           "shape": ""
          }
         },
         "name": "our_approx_portion_of_Tokemak-Wrapped Ether-Balancer rsETH-WETH Stable Pool",
         "offsetgroup": "our_approx_portion_of_Tokemak-Wrapped Ether-Balancer rsETH-WETH Stable Pool",
         "orientation": "v",
         "showlegend": true,
         "textposition": "auto",
         "type": "bar",
         "x": [
          "2024-07-08T14:38:47",
          "2024-07-08T14:38:47",
          "2024-07-09T14:30:11",
          "2024-07-09T14:30:11",
          "2024-07-10T14:16:23",
          "2024-07-10T14:16:23",
          "2024-07-11T14:03:23",
          "2024-07-11T14:03:23",
          "2024-07-12T13:52:23",
          "2024-07-12T13:52:23",
          "2024-07-13T13:39:47",
          "2024-07-13T13:39:47",
          "2024-07-14T13:27:47",
          "2024-07-14T13:27:47",
          "2024-07-15T13:14:11",
          "2024-07-15T13:14:11",
          "2024-07-16T13:01:59",
          "2024-07-16T13:01:59",
          "2024-07-17T12:46:35",
          "2024-07-17T12:46:35",
          "2024-07-18T12:34:59",
          "2024-07-18T12:34:59",
          "2024-07-19T12:20:35",
          "2024-07-19T12:20:35",
          "2024-07-20T12:07:35",
          "2024-07-20T12:07:35",
          "2024-07-21T11:53:23",
          "2024-07-21T11:53:23",
          "2024-07-22T11:41:35",
          "2024-07-22T11:41:35",
          "2024-07-23T11:29:35",
          "2024-07-23T11:29:35",
          "2024-07-24T11:15:11",
          "2024-07-24T11:15:11",
          "2024-07-25T11:02:47",
          "2024-07-25T11:02:47",
          "2024-07-26T10:50:47",
          "2024-07-26T10:50:47",
          "2024-07-27T10:39:11",
          "2024-07-27T10:39:11",
          "2024-07-28T10:26:35",
          "2024-07-28T10:26:35",
          "2024-07-29T10:11:59",
          "2024-07-29T10:11:59",
          "2024-07-30T10:01:11",
          "2024-07-30T10:01:11",
          "2024-07-31T09:48:35",
          "2024-07-31T09:48:35",
          "2024-08-01T09:35:35",
          "2024-08-01T09:35:35",
          "2024-08-02T09:22:59",
          "2024-08-02T09:22:59",
          "2024-08-03T09:12:35",
          "2024-08-03T09:12:35",
          "2024-08-04T08:57:23",
          "2024-08-04T08:57:23",
          "2024-08-05T08:41:47",
          "2024-08-05T08:41:47",
          "2024-08-06T08:28:47",
          "2024-08-06T08:28:47",
          "2024-08-07T08:15:59",
          "2024-08-07T08:15:59",
          "2024-08-08T08:01:47",
          "2024-08-08T08:01:47",
          "2024-08-09T07:46:35",
          "2024-08-09T07:46:35",
          "2024-08-10T07:32:35",
          "2024-08-10T07:32:35",
          "2024-08-11T07:19:47",
          "2024-08-11T07:19:47",
          "2024-08-12T07:07:35",
          "2024-08-12T07:07:35",
          "2024-08-13T06:53:35",
          "2024-08-13T06:53:35",
          "2024-08-14T06:40:47",
          "2024-08-14T06:40:47",
          "2024-08-15T06:27:59",
          "2024-08-15T06:27:59",
          "2024-08-16T06:16:35",
          "2024-08-16T06:16:35",
          "2024-08-17T06:04:59",
          "2024-08-17T06:04:59",
          "2024-08-18T05:51:59",
          "2024-08-18T05:51:59",
          "2024-08-19T05:39:23",
          "2024-08-19T05:39:23",
          "2024-08-20T05:26:11",
          "2024-08-20T05:26:11",
          "2024-08-21T05:15:11",
          "2024-08-21T05:15:11",
          "2024-08-22T05:04:23",
          "2024-08-22T05:04:23",
          "2024-08-23T04:51:59",
          "2024-08-23T04:51:59"
         ],
         "xaxis": "x",
         "y": [
          null,
          0,
          null,
          0,
          null,
          0,
          null,
          0,
          null,
          0,
          null,
          0,
          null,
          0,
          null,
          0,
          null,
          0,
          null,
          0,
          null,
          0,
          null,
          0,
          null,
          0,
          null,
          0,
          null,
          0,
          null,
          0,
          null,
          0,
          null,
          0,
          null,
          0,
          null,
          0,
          null,
          0,
          null,
          0,
          null,
          0,
          null,
          0,
          null,
          0,
          null,
          0,
          null,
          0,
          null,
          0,
          null,
          0,
          null,
          0,
          null,
          0,
          null,
          0.0032695841425696036,
          null,
          0.012763462325232695,
          null,
          0.012825572261703694,
          null,
          0.012842546207018975,
          null,
          0.012905521033586371,
          null,
          0.012903575341269723,
          null,
          0.012904613072164192,
          null,
          0.012956005709699526,
          null,
          0.012954317723443675,
          null,
          0,
          null,
          0,
          null,
          0,
          null,
          0,
          null,
          0,
          null,
          0,
          null,
          0
         ],
         "yaxis": "y"
        },
        {
         "alignmentgroup": "True",
         "hovertemplate": "variable=our_Wrapped Ether<br>timestamp=%{x}<br>value=%{y}<extra></extra>",
         "legendgroup": "our_Wrapped Ether",
         "marker": {
          "color": "#00cc96",
          "pattern": {
           "shape": ""
          }
         },
         "name": "our_Wrapped Ether",
         "offsetgroup": "our_Wrapped Ether",
         "orientation": "v",
         "showlegend": true,
         "textposition": "auto",
         "type": "bar",
         "x": [
          "2024-07-08T14:38:47",
          "2024-07-08T14:38:47",
          "2024-07-09T14:30:11",
          "2024-07-09T14:30:11",
          "2024-07-10T14:16:23",
          "2024-07-10T14:16:23",
          "2024-07-11T14:03:23",
          "2024-07-11T14:03:23",
          "2024-07-12T13:52:23",
          "2024-07-12T13:52:23",
          "2024-07-13T13:39:47",
          "2024-07-13T13:39:47",
          "2024-07-14T13:27:47",
          "2024-07-14T13:27:47",
          "2024-07-15T13:14:11",
          "2024-07-15T13:14:11",
          "2024-07-16T13:01:59",
          "2024-07-16T13:01:59",
          "2024-07-17T12:46:35",
          "2024-07-17T12:46:35",
          "2024-07-18T12:34:59",
          "2024-07-18T12:34:59",
          "2024-07-19T12:20:35",
          "2024-07-19T12:20:35",
          "2024-07-20T12:07:35",
          "2024-07-20T12:07:35",
          "2024-07-21T11:53:23",
          "2024-07-21T11:53:23",
          "2024-07-22T11:41:35",
          "2024-07-22T11:41:35",
          "2024-07-23T11:29:35",
          "2024-07-23T11:29:35",
          "2024-07-24T11:15:11",
          "2024-07-24T11:15:11",
          "2024-07-25T11:02:47",
          "2024-07-25T11:02:47",
          "2024-07-26T10:50:47",
          "2024-07-26T10:50:47",
          "2024-07-27T10:39:11",
          "2024-07-27T10:39:11",
          "2024-07-28T10:26:35",
          "2024-07-28T10:26:35",
          "2024-07-29T10:11:59",
          "2024-07-29T10:11:59",
          "2024-07-30T10:01:11",
          "2024-07-30T10:01:11",
          "2024-07-31T09:48:35",
          "2024-07-31T09:48:35",
          "2024-08-01T09:35:35",
          "2024-08-01T09:35:35",
          "2024-08-02T09:22:59",
          "2024-08-02T09:22:59",
          "2024-08-03T09:12:35",
          "2024-08-03T09:12:35",
          "2024-08-04T08:57:23",
          "2024-08-04T08:57:23",
          "2024-08-05T08:41:47",
          "2024-08-05T08:41:47",
          "2024-08-06T08:28:47",
          "2024-08-06T08:28:47",
          "2024-08-07T08:15:59",
          "2024-08-07T08:15:59",
          "2024-08-08T08:01:47",
          "2024-08-08T08:01:47",
          "2024-08-09T07:46:35",
          "2024-08-09T07:46:35",
          "2024-08-10T07:32:35",
          "2024-08-10T07:32:35",
          "2024-08-11T07:19:47",
          "2024-08-11T07:19:47",
          "2024-08-12T07:07:35",
          "2024-08-12T07:07:35",
          "2024-08-13T06:53:35",
          "2024-08-13T06:53:35",
          "2024-08-14T06:40:47",
          "2024-08-14T06:40:47",
          "2024-08-15T06:27:59",
          "2024-08-15T06:27:59",
          "2024-08-16T06:16:35",
          "2024-08-16T06:16:35",
          "2024-08-17T06:04:59",
          "2024-08-17T06:04:59",
          "2024-08-18T05:51:59",
          "2024-08-18T05:51:59",
          "2024-08-19T05:39:23",
          "2024-08-19T05:39:23",
          "2024-08-20T05:26:11",
          "2024-08-20T05:26:11",
          "2024-08-21T05:15:11",
          "2024-08-21T05:15:11",
          "2024-08-22T05:04:23",
          "2024-08-22T05:04:23",
          "2024-08-23T04:51:59",
          "2024-08-23T04:51:59"
         ],
         "xaxis": "x",
         "y": [
          null,
          0,
          null,
          0,
          null,
          0,
          null,
          0,
          null,
          0,
          null,
          0,
          null,
          0,
          null,
          0,
          null,
          0,
          null,
          0,
          null,
          0,
          null,
          0,
          null,
          0,
          null,
          0,
          null,
          0,
          null,
          0,
          null,
          0,
          null,
          0,
          null,
          0,
          null,
          0,
          null,
          0,
          null,
          0,
          null,
          0,
          null,
          0,
          null,
          0,
          null,
          0,
          null,
          0,
          null,
          0,
          null,
          0,
          null,
          0,
          null,
          0,
          null,
          3.597711915999419,
          null,
          14.443928606851228,
          null,
          14.747043457762237,
          null,
          15.412451524925402,
          null,
          15.13006583212284,
          null,
          14.396372117077577,
          null,
          14.169135455014784,
          null,
          14.503774173300446,
          null,
          15.163520356558116,
          null,
          0,
          null,
          0,
          null,
          0,
          null,
          0,
          null,
          0,
          null,
          0,
          null,
          0
         ],
         "yaxis": "y"
        }
       ],
       "layout": {
        "barmode": "relative",
        "legend": {
         "title": {
          "text": "variable"
         },
         "tracegroupgap": 0
        },
        "margin": {
         "t": 60
        },
        "template": {
         "data": {
          "bar": [
           {
            "error_x": {
             "color": "#2a3f5f"
            },
            "error_y": {
             "color": "#2a3f5f"
            },
            "marker": {
             "line": {
              "color": "#E5ECF6",
              "width": 0.5
             },
             "pattern": {
              "fillmode": "overlay",
              "size": 10,
              "solidity": 0.2
             }
            },
            "type": "bar"
           }
          ],
          "barpolar": [
           {
            "marker": {
             "line": {
              "color": "#E5ECF6",
              "width": 0.5
             },
             "pattern": {
              "fillmode": "overlay",
              "size": 10,
              "solidity": 0.2
             }
            },
            "type": "barpolar"
           }
          ],
          "carpet": [
           {
            "aaxis": {
             "endlinecolor": "#2a3f5f",
             "gridcolor": "white",
             "linecolor": "white",
             "minorgridcolor": "white",
             "startlinecolor": "#2a3f5f"
            },
            "baxis": {
             "endlinecolor": "#2a3f5f",
             "gridcolor": "white",
             "linecolor": "white",
             "minorgridcolor": "white",
             "startlinecolor": "#2a3f5f"
            },
            "type": "carpet"
           }
          ],
          "choropleth": [
           {
            "colorbar": {
             "outlinewidth": 0,
             "ticks": ""
            },
            "type": "choropleth"
           }
          ],
          "contour": [
           {
            "colorbar": {
             "outlinewidth": 0,
             "ticks": ""
            },
            "colorscale": [
             [
              0,
              "#0d0887"
             ],
             [
              0.1111111111111111,
              "#46039f"
             ],
             [
              0.2222222222222222,
              "#7201a8"
             ],
             [
              0.3333333333333333,
              "#9c179e"
             ],
             [
              0.4444444444444444,
              "#bd3786"
             ],
             [
              0.5555555555555556,
              "#d8576b"
             ],
             [
              0.6666666666666666,
              "#ed7953"
             ],
             [
              0.7777777777777778,
              "#fb9f3a"
             ],
             [
              0.8888888888888888,
              "#fdca26"
             ],
             [
              1,
              "#f0f921"
             ]
            ],
            "type": "contour"
           }
          ],
          "contourcarpet": [
           {
            "colorbar": {
             "outlinewidth": 0,
             "ticks": ""
            },
            "type": "contourcarpet"
           }
          ],
          "heatmap": [
           {
            "colorbar": {
             "outlinewidth": 0,
             "ticks": ""
            },
            "colorscale": [
             [
              0,
              "#0d0887"
             ],
             [
              0.1111111111111111,
              "#46039f"
             ],
             [
              0.2222222222222222,
              "#7201a8"
             ],
             [
              0.3333333333333333,
              "#9c179e"
             ],
             [
              0.4444444444444444,
              "#bd3786"
             ],
             [
              0.5555555555555556,
              "#d8576b"
             ],
             [
              0.6666666666666666,
              "#ed7953"
             ],
             [
              0.7777777777777778,
              "#fb9f3a"
             ],
             [
              0.8888888888888888,
              "#fdca26"
             ],
             [
              1,
              "#f0f921"
             ]
            ],
            "type": "heatmap"
           }
          ],
          "heatmapgl": [
           {
            "colorbar": {
             "outlinewidth": 0,
             "ticks": ""
            },
            "colorscale": [
             [
              0,
              "#0d0887"
             ],
             [
              0.1111111111111111,
              "#46039f"
             ],
             [
              0.2222222222222222,
              "#7201a8"
             ],
             [
              0.3333333333333333,
              "#9c179e"
             ],
             [
              0.4444444444444444,
              "#bd3786"
             ],
             [
              0.5555555555555556,
              "#d8576b"
             ],
             [
              0.6666666666666666,
              "#ed7953"
             ],
             [
              0.7777777777777778,
              "#fb9f3a"
             ],
             [
              0.8888888888888888,
              "#fdca26"
             ],
             [
              1,
              "#f0f921"
             ]
            ],
            "type": "heatmapgl"
           }
          ],
          "histogram": [
           {
            "marker": {
             "pattern": {
              "fillmode": "overlay",
              "size": 10,
              "solidity": 0.2
             }
            },
            "type": "histogram"
           }
          ],
          "histogram2d": [
           {
            "colorbar": {
             "outlinewidth": 0,
             "ticks": ""
            },
            "colorscale": [
             [
              0,
              "#0d0887"
             ],
             [
              0.1111111111111111,
              "#46039f"
             ],
             [
              0.2222222222222222,
              "#7201a8"
             ],
             [
              0.3333333333333333,
              "#9c179e"
             ],
             [
              0.4444444444444444,
              "#bd3786"
             ],
             [
              0.5555555555555556,
              "#d8576b"
             ],
             [
              0.6666666666666666,
              "#ed7953"
             ],
             [
              0.7777777777777778,
              "#fb9f3a"
             ],
             [
              0.8888888888888888,
              "#fdca26"
             ],
             [
              1,
              "#f0f921"
             ]
            ],
            "type": "histogram2d"
           }
          ],
          "histogram2dcontour": [
           {
            "colorbar": {
             "outlinewidth": 0,
             "ticks": ""
            },
            "colorscale": [
             [
              0,
              "#0d0887"
             ],
             [
              0.1111111111111111,
              "#46039f"
             ],
             [
              0.2222222222222222,
              "#7201a8"
             ],
             [
              0.3333333333333333,
              "#9c179e"
             ],
             [
              0.4444444444444444,
              "#bd3786"
             ],
             [
              0.5555555555555556,
              "#d8576b"
             ],
             [
              0.6666666666666666,
              "#ed7953"
             ],
             [
              0.7777777777777778,
              "#fb9f3a"
             ],
             [
              0.8888888888888888,
              "#fdca26"
             ],
             [
              1,
              "#f0f921"
             ]
            ],
            "type": "histogram2dcontour"
           }
          ],
          "mesh3d": [
           {
            "colorbar": {
             "outlinewidth": 0,
             "ticks": ""
            },
            "type": "mesh3d"
           }
          ],
          "parcoords": [
           {
            "line": {
             "colorbar": {
              "outlinewidth": 0,
              "ticks": ""
             }
            },
            "type": "parcoords"
           }
          ],
          "pie": [
           {
            "automargin": true,
            "type": "pie"
           }
          ],
          "scatter": [
           {
            "fillpattern": {
             "fillmode": "overlay",
             "size": 10,
             "solidity": 0.2
            },
            "type": "scatter"
           }
          ],
          "scatter3d": [
           {
            "line": {
             "colorbar": {
              "outlinewidth": 0,
              "ticks": ""
             }
            },
            "marker": {
             "colorbar": {
              "outlinewidth": 0,
              "ticks": ""
             }
            },
            "type": "scatter3d"
           }
          ],
          "scattercarpet": [
           {
            "marker": {
             "colorbar": {
              "outlinewidth": 0,
              "ticks": ""
             }
            },
            "type": "scattercarpet"
           }
          ],
          "scattergeo": [
           {
            "marker": {
             "colorbar": {
              "outlinewidth": 0,
              "ticks": ""
             }
            },
            "type": "scattergeo"
           }
          ],
          "scattergl": [
           {
            "marker": {
             "colorbar": {
              "outlinewidth": 0,
              "ticks": ""
             }
            },
            "type": "scattergl"
           }
          ],
          "scattermapbox": [
           {
            "marker": {
             "colorbar": {
              "outlinewidth": 0,
              "ticks": ""
             }
            },
            "type": "scattermapbox"
           }
          ],
          "scatterpolar": [
           {
            "marker": {
             "colorbar": {
              "outlinewidth": 0,
              "ticks": ""
             }
            },
            "type": "scatterpolar"
           }
          ],
          "scatterpolargl": [
           {
            "marker": {
             "colorbar": {
              "outlinewidth": 0,
              "ticks": ""
             }
            },
            "type": "scatterpolargl"
           }
          ],
          "scatterternary": [
           {
            "marker": {
             "colorbar": {
              "outlinewidth": 0,
              "ticks": ""
             }
            },
            "type": "scatterternary"
           }
          ],
          "surface": [
           {
            "colorbar": {
             "outlinewidth": 0,
             "ticks": ""
            },
            "colorscale": [
             [
              0,
              "#0d0887"
             ],
             [
              0.1111111111111111,
              "#46039f"
             ],
             [
              0.2222222222222222,
              "#7201a8"
             ],
             [
              0.3333333333333333,
              "#9c179e"
             ],
             [
              0.4444444444444444,
              "#bd3786"
             ],
             [
              0.5555555555555556,
              "#d8576b"
             ],
             [
              0.6666666666666666,
              "#ed7953"
             ],
             [
              0.7777777777777778,
              "#fb9f3a"
             ],
             [
              0.8888888888888888,
              "#fdca26"
             ],
             [
              1,
              "#f0f921"
             ]
            ],
            "type": "surface"
           }
          ],
          "table": [
           {
            "cells": {
             "fill": {
              "color": "#EBF0F8"
             },
             "line": {
              "color": "white"
             }
            },
            "header": {
             "fill": {
              "color": "#C8D4E3"
             },
             "line": {
              "color": "white"
             }
            },
            "type": "table"
           }
          ]
         },
         "layout": {
          "annotationdefaults": {
           "arrowcolor": "#2a3f5f",
           "arrowhead": 0,
           "arrowwidth": 1
          },
          "autotypenumbers": "strict",
          "coloraxis": {
           "colorbar": {
            "outlinewidth": 0,
            "ticks": ""
           }
          },
          "colorscale": {
           "diverging": [
            [
             0,
             "#8e0152"
            ],
            [
             0.1,
             "#c51b7d"
            ],
            [
             0.2,
             "#de77ae"
            ],
            [
             0.3,
             "#f1b6da"
            ],
            [
             0.4,
             "#fde0ef"
            ],
            [
             0.5,
             "#f7f7f7"
            ],
            [
             0.6,
             "#e6f5d0"
            ],
            [
             0.7,
             "#b8e186"
            ],
            [
             0.8,
             "#7fbc41"
            ],
            [
             0.9,
             "#4d9221"
            ],
            [
             1,
             "#276419"
            ]
           ],
           "sequential": [
            [
             0,
             "#0d0887"
            ],
            [
             0.1111111111111111,
             "#46039f"
            ],
            [
             0.2222222222222222,
             "#7201a8"
            ],
            [
             0.3333333333333333,
             "#9c179e"
            ],
            [
             0.4444444444444444,
             "#bd3786"
            ],
            [
             0.5555555555555556,
             "#d8576b"
            ],
            [
             0.6666666666666666,
             "#ed7953"
            ],
            [
             0.7777777777777778,
             "#fb9f3a"
            ],
            [
             0.8888888888888888,
             "#fdca26"
            ],
            [
             1,
             "#f0f921"
            ]
           ],
           "sequentialminus": [
            [
             0,
             "#0d0887"
            ],
            [
             0.1111111111111111,
             "#46039f"
            ],
            [
             0.2222222222222222,
             "#7201a8"
            ],
            [
             0.3333333333333333,
             "#9c179e"
            ],
            [
             0.4444444444444444,
             "#bd3786"
            ],
            [
             0.5555555555555556,
             "#d8576b"
            ],
            [
             0.6666666666666666,
             "#ed7953"
            ],
            [
             0.7777777777777778,
             "#fb9f3a"
            ],
            [
             0.8888888888888888,
             "#fdca26"
            ],
            [
             1,
             "#f0f921"
            ]
           ]
          },
          "colorway": [
           "#636efa",
           "#EF553B",
           "#00cc96",
           "#ab63fa",
           "#FFA15A",
           "#19d3f3",
           "#FF6692",
           "#B6E880",
           "#FF97FF",
           "#FECB52"
          ],
          "font": {
           "color": "#2a3f5f"
          },
          "geo": {
           "bgcolor": "white",
           "lakecolor": "white",
           "landcolor": "#E5ECF6",
           "showlakes": true,
           "showland": true,
           "subunitcolor": "white"
          },
          "hoverlabel": {
           "align": "left"
          },
          "hovermode": "closest",
          "mapbox": {
           "style": "light"
          },
          "paper_bgcolor": "white",
          "plot_bgcolor": "#E5ECF6",
          "polar": {
           "angularaxis": {
            "gridcolor": "white",
            "linecolor": "white",
            "ticks": ""
           },
           "bgcolor": "#E5ECF6",
           "radialaxis": {
            "gridcolor": "white",
            "linecolor": "white",
            "ticks": ""
           }
          },
          "scene": {
           "xaxis": {
            "backgroundcolor": "#E5ECF6",
            "gridcolor": "white",
            "gridwidth": 2,
            "linecolor": "white",
            "showbackground": true,
            "ticks": "",
            "zerolinecolor": "white"
           },
           "yaxis": {
            "backgroundcolor": "#E5ECF6",
            "gridcolor": "white",
            "gridwidth": 2,
            "linecolor": "white",
            "showbackground": true,
            "ticks": "",
            "zerolinecolor": "white"
           },
           "zaxis": {
            "backgroundcolor": "#E5ECF6",
            "gridcolor": "white",
            "gridwidth": 2,
            "linecolor": "white",
            "showbackground": true,
            "ticks": "",
            "zerolinecolor": "white"
           }
          },
          "shapedefaults": {
           "line": {
            "color": "#2a3f5f"
           }
          },
          "ternary": {
           "aaxis": {
            "gridcolor": "white",
            "linecolor": "white",
            "ticks": ""
           },
           "baxis": {
            "gridcolor": "white",
            "linecolor": "white",
            "ticks": ""
           },
           "bgcolor": "#E5ECF6",
           "caxis": {
            "gridcolor": "white",
            "linecolor": "white",
            "ticks": ""
           }
          },
          "title": {
           "x": 0.05
          },
          "xaxis": {
           "automargin": true,
           "gridcolor": "white",
           "linecolor": "white",
           "ticks": "",
           "title": {
            "standoff": 15
           },
           "zerolinecolor": "white",
           "zerolinewidth": 2
          },
          "yaxis": {
           "automargin": true,
           "gridcolor": "white",
           "linecolor": "white",
           "ticks": "",
           "title": {
            "standoff": 15
           },
           "zerolinecolor": "white",
           "zerolinewidth": 2
          }
         }
        },
        "xaxis": {
         "anchor": "y",
         "domain": [
          0,
          1
         ],
         "title": {
          "text": "timestamp"
         }
        },
        "yaxis": {
         "anchor": "x",
         "domain": [
          0,
          1
         ],
         "title": {
          "text": "value"
         }
        }
       }
      }
     },
     "metadata": {},
     "output_type": "display_data"
    }
   ],
   "source": [
    "px.bar(df[df.columns[1:]])"
   ]
  },
  {
   "cell_type": "code",
   "execution_count": null,
   "metadata": {},
   "outputs": [],
   "source": []
  },
  {
   "cell_type": "code",
   "execution_count": 5,
   "metadata": {},
   "outputs": [
    {
     "data": {
      "application/vnd.plotly.v1+json": {
       "config": {
        "plotlyServerURL": "https://plot.ly"
       },
       "data": [
        {
         "hovertemplate": "variable=balETH<br>timestamp=%{x}<br>value=%{y}<extra></extra>",
         "legendgroup": "balETH",
         "marker": {
          "color": "#636efa",
          "symbol": "circle"
         },
         "mode": "markers",
         "name": "balETH",
         "orientation": "v",
         "showlegend": true,
         "type": "scatter",
         "x": [
          "2024-07-08T14:38:47",
          "2024-07-09T14:30:11",
          "2024-07-10T14:16:23",
          "2024-07-11T14:03:23",
          "2024-07-12T13:52:23",
          "2024-07-13T13:39:47",
          "2024-07-14T13:27:47",
          "2024-07-15T13:14:11",
          "2024-07-16T13:01:59",
          "2024-07-17T12:46:35",
          "2024-07-18T12:34:59",
          "2024-07-19T12:20:35",
          "2024-07-20T12:07:35",
          "2024-07-21T11:53:23",
          "2024-07-22T11:41:35",
          "2024-07-23T11:29:35",
          "2024-07-24T11:15:11",
          "2024-07-25T11:02:47",
          "2024-07-26T10:50:47",
          "2024-07-27T10:39:11",
          "2024-07-28T10:26:35",
          "2024-07-29T10:11:59",
          "2024-07-30T10:01:11",
          "2024-07-31T09:48:35",
          "2024-08-01T09:35:35",
          "2024-08-02T09:22:59",
          "2024-08-03T09:12:35",
          "2024-08-04T08:57:23",
          "2024-08-05T08:41:47",
          "2024-08-06T08:28:47",
          "2024-08-07T08:15:59",
          "2024-08-08T08:01:47",
          "2024-08-09T07:46:35",
          "2024-08-10T07:32:35",
          "2024-08-11T07:19:47",
          "2024-08-12T07:07:35",
          "2024-08-13T06:53:35",
          "2024-08-14T06:40:47",
          "2024-08-15T06:27:59",
          "2024-08-16T06:16:35",
          "2024-08-17T06:04:59",
          "2024-08-18T05:51:59",
          "2024-08-19T05:39:23",
          "2024-08-20T05:26:11",
          "2024-08-21T05:15:11",
          "2024-08-22T05:04:23",
          "2024-08-23T04:51:59"
         ],
         "xaxis": "x",
         "y": [
          1,
          1,
          1,
          1,
          1,
          1,
          1,
          1,
          1,
          1,
          0.999585498722691,
          0.9998522834743535,
          1.0005973949660925,
          1.0003635674784512,
          1.0002117561125534,
          1.0009661548583573,
          1.0012904112617997,
          1.0013282182473358,
          1.0013890345088154,
          1.0025438757960232,
          1.0034759017496575,
          1.0034011201498336,
          1.0040555358891934,
          1.0046801363178586,
          1.0047999796080394,
          1.0052689788380562,
          1.0056742420385274,
          1.0053998941053282,
          1.0052081202254741,
          1.0008006134430174,
          1.0028438021995996,
          1.0051566434659942,
          1.0053648967968458,
          1.0057952782989787,
          1.005908428739,
          1.0061353389626597,
          1.0062486632703487,
          1.0067175664199965,
          1.006968793653214,
          1.0070546680172208,
          1.007205056070343,
          1.007332443373526,
          1.0079629473004381,
          1.0081743840082351,
          1.0084184795775333,
          1.0086996412543496,
          1.0097127566672026
         ],
         "yaxis": "y"
        }
       ],
       "layout": {
        "height": 500,
        "legend": {
         "title": {
          "text": "variable"
         },
         "tracegroupgap": 0
        },
        "margin": {
         "b": 40,
         "l": 40,
         "r": 40,
         "t": 40
        },
        "template": {
         "data": {
          "bar": [
           {
            "error_x": {
             "color": "#2a3f5f"
            },
            "error_y": {
             "color": "#2a3f5f"
            },
            "marker": {
             "line": {
              "color": "#E5ECF6",
              "width": 0.5
             },
             "pattern": {
              "fillmode": "overlay",
              "size": 10,
              "solidity": 0.2
             }
            },
            "type": "bar"
           }
          ],
          "barpolar": [
           {
            "marker": {
             "line": {
              "color": "#E5ECF6",
              "width": 0.5
             },
             "pattern": {
              "fillmode": "overlay",
              "size": 10,
              "solidity": 0.2
             }
            },
            "type": "barpolar"
           }
          ],
          "carpet": [
           {
            "aaxis": {
             "endlinecolor": "#2a3f5f",
             "gridcolor": "white",
             "linecolor": "white",
             "minorgridcolor": "white",
             "startlinecolor": "#2a3f5f"
            },
            "baxis": {
             "endlinecolor": "#2a3f5f",
             "gridcolor": "white",
             "linecolor": "white",
             "minorgridcolor": "white",
             "startlinecolor": "#2a3f5f"
            },
            "type": "carpet"
           }
          ],
          "choropleth": [
           {
            "colorbar": {
             "outlinewidth": 0,
             "ticks": ""
            },
            "type": "choropleth"
           }
          ],
          "contour": [
           {
            "colorbar": {
             "outlinewidth": 0,
             "ticks": ""
            },
            "colorscale": [
             [
              0,
              "#0d0887"
             ],
             [
              0.1111111111111111,
              "#46039f"
             ],
             [
              0.2222222222222222,
              "#7201a8"
             ],
             [
              0.3333333333333333,
              "#9c179e"
             ],
             [
              0.4444444444444444,
              "#bd3786"
             ],
             [
              0.5555555555555556,
              "#d8576b"
             ],
             [
              0.6666666666666666,
              "#ed7953"
             ],
             [
              0.7777777777777778,
              "#fb9f3a"
             ],
             [
              0.8888888888888888,
              "#fdca26"
             ],
             [
              1,
              "#f0f921"
             ]
            ],
            "type": "contour"
           }
          ],
          "contourcarpet": [
           {
            "colorbar": {
             "outlinewidth": 0,
             "ticks": ""
            },
            "type": "contourcarpet"
           }
          ],
          "heatmap": [
           {
            "colorbar": {
             "outlinewidth": 0,
             "ticks": ""
            },
            "colorscale": [
             [
              0,
              "#0d0887"
             ],
             [
              0.1111111111111111,
              "#46039f"
             ],
             [
              0.2222222222222222,
              "#7201a8"
             ],
             [
              0.3333333333333333,
              "#9c179e"
             ],
             [
              0.4444444444444444,
              "#bd3786"
             ],
             [
              0.5555555555555556,
              "#d8576b"
             ],
             [
              0.6666666666666666,
              "#ed7953"
             ],
             [
              0.7777777777777778,
              "#fb9f3a"
             ],
             [
              0.8888888888888888,
              "#fdca26"
             ],
             [
              1,
              "#f0f921"
             ]
            ],
            "type": "heatmap"
           }
          ],
          "heatmapgl": [
           {
            "colorbar": {
             "outlinewidth": 0,
             "ticks": ""
            },
            "colorscale": [
             [
              0,
              "#0d0887"
             ],
             [
              0.1111111111111111,
              "#46039f"
             ],
             [
              0.2222222222222222,
              "#7201a8"
             ],
             [
              0.3333333333333333,
              "#9c179e"
             ],
             [
              0.4444444444444444,
              "#bd3786"
             ],
             [
              0.5555555555555556,
              "#d8576b"
             ],
             [
              0.6666666666666666,
              "#ed7953"
             ],
             [
              0.7777777777777778,
              "#fb9f3a"
             ],
             [
              0.8888888888888888,
              "#fdca26"
             ],
             [
              1,
              "#f0f921"
             ]
            ],
            "type": "heatmapgl"
           }
          ],
          "histogram": [
           {
            "marker": {
             "pattern": {
              "fillmode": "overlay",
              "size": 10,
              "solidity": 0.2
             }
            },
            "type": "histogram"
           }
          ],
          "histogram2d": [
           {
            "colorbar": {
             "outlinewidth": 0,
             "ticks": ""
            },
            "colorscale": [
             [
              0,
              "#0d0887"
             ],
             [
              0.1111111111111111,
              "#46039f"
             ],
             [
              0.2222222222222222,
              "#7201a8"
             ],
             [
              0.3333333333333333,
              "#9c179e"
             ],
             [
              0.4444444444444444,
              "#bd3786"
             ],
             [
              0.5555555555555556,
              "#d8576b"
             ],
             [
              0.6666666666666666,
              "#ed7953"
             ],
             [
              0.7777777777777778,
              "#fb9f3a"
             ],
             [
              0.8888888888888888,
              "#fdca26"
             ],
             [
              1,
              "#f0f921"
             ]
            ],
            "type": "histogram2d"
           }
          ],
          "histogram2dcontour": [
           {
            "colorbar": {
             "outlinewidth": 0,
             "ticks": ""
            },
            "colorscale": [
             [
              0,
              "#0d0887"
             ],
             [
              0.1111111111111111,
              "#46039f"
             ],
             [
              0.2222222222222222,
              "#7201a8"
             ],
             [
              0.3333333333333333,
              "#9c179e"
             ],
             [
              0.4444444444444444,
              "#bd3786"
             ],
             [
              0.5555555555555556,
              "#d8576b"
             ],
             [
              0.6666666666666666,
              "#ed7953"
             ],
             [
              0.7777777777777778,
              "#fb9f3a"
             ],
             [
              0.8888888888888888,
              "#fdca26"
             ],
             [
              1,
              "#f0f921"
             ]
            ],
            "type": "histogram2dcontour"
           }
          ],
          "mesh3d": [
           {
            "colorbar": {
             "outlinewidth": 0,
             "ticks": ""
            },
            "type": "mesh3d"
           }
          ],
          "parcoords": [
           {
            "line": {
             "colorbar": {
              "outlinewidth": 0,
              "ticks": ""
             }
            },
            "type": "parcoords"
           }
          ],
          "pie": [
           {
            "automargin": true,
            "type": "pie"
           }
          ],
          "scatter": [
           {
            "fillpattern": {
             "fillmode": "overlay",
             "size": 10,
             "solidity": 0.2
            },
            "type": "scatter"
           }
          ],
          "scatter3d": [
           {
            "line": {
             "colorbar": {
              "outlinewidth": 0,
              "ticks": ""
             }
            },
            "marker": {
             "colorbar": {
              "outlinewidth": 0,
              "ticks": ""
             }
            },
            "type": "scatter3d"
           }
          ],
          "scattercarpet": [
           {
            "marker": {
             "colorbar": {
              "outlinewidth": 0,
              "ticks": ""
             }
            },
            "type": "scattercarpet"
           }
          ],
          "scattergeo": [
           {
            "marker": {
             "colorbar": {
              "outlinewidth": 0,
              "ticks": ""
             }
            },
            "type": "scattergeo"
           }
          ],
          "scattergl": [
           {
            "marker": {
             "colorbar": {
              "outlinewidth": 0,
              "ticks": ""
             }
            },
            "type": "scattergl"
           }
          ],
          "scattermapbox": [
           {
            "marker": {
             "colorbar": {
              "outlinewidth": 0,
              "ticks": ""
             }
            },
            "type": "scattermapbox"
           }
          ],
          "scatterpolar": [
           {
            "marker": {
             "colorbar": {
              "outlinewidth": 0,
              "ticks": ""
             }
            },
            "type": "scatterpolar"
           }
          ],
          "scatterpolargl": [
           {
            "marker": {
             "colorbar": {
              "outlinewidth": 0,
              "ticks": ""
             }
            },
            "type": "scatterpolargl"
           }
          ],
          "scatterternary": [
           {
            "marker": {
             "colorbar": {
              "outlinewidth": 0,
              "ticks": ""
             }
            },
            "type": "scatterternary"
           }
          ],
          "surface": [
           {
            "colorbar": {
             "outlinewidth": 0,
             "ticks": ""
            },
            "colorscale": [
             [
              0,
              "#0d0887"
             ],
             [
              0.1111111111111111,
              "#46039f"
             ],
             [
              0.2222222222222222,
              "#7201a8"
             ],
             [
              0.3333333333333333,
              "#9c179e"
             ],
             [
              0.4444444444444444,
              "#bd3786"
             ],
             [
              0.5555555555555556,
              "#d8576b"
             ],
             [
              0.6666666666666666,
              "#ed7953"
             ],
             [
              0.7777777777777778,
              "#fb9f3a"
             ],
             [
              0.8888888888888888,
              "#fdca26"
             ],
             [
              1,
              "#f0f921"
             ]
            ],
            "type": "surface"
           }
          ],
          "table": [
           {
            "cells": {
             "fill": {
              "color": "#EBF0F8"
             },
             "line": {
              "color": "white"
             }
            },
            "header": {
             "fill": {
              "color": "#C8D4E3"
             },
             "line": {
              "color": "white"
             }
            },
            "type": "table"
           }
          ]
         },
         "layout": {
          "annotationdefaults": {
           "arrowcolor": "#2a3f5f",
           "arrowhead": 0,
           "arrowwidth": 1
          },
          "autotypenumbers": "strict",
          "coloraxis": {
           "colorbar": {
            "outlinewidth": 0,
            "ticks": ""
           }
          },
          "colorscale": {
           "diverging": [
            [
             0,
             "#8e0152"
            ],
            [
             0.1,
             "#c51b7d"
            ],
            [
             0.2,
             "#de77ae"
            ],
            [
             0.3,
             "#f1b6da"
            ],
            [
             0.4,
             "#fde0ef"
            ],
            [
             0.5,
             "#f7f7f7"
            ],
            [
             0.6,
             "#e6f5d0"
            ],
            [
             0.7,
             "#b8e186"
            ],
            [
             0.8,
             "#7fbc41"
            ],
            [
             0.9,
             "#4d9221"
            ],
            [
             1,
             "#276419"
            ]
           ],
           "sequential": [
            [
             0,
             "#0d0887"
            ],
            [
             0.1111111111111111,
             "#46039f"
            ],
            [
             0.2222222222222222,
             "#7201a8"
            ],
            [
             0.3333333333333333,
             "#9c179e"
            ],
            [
             0.4444444444444444,
             "#bd3786"
            ],
            [
             0.5555555555555556,
             "#d8576b"
            ],
            [
             0.6666666666666666,
             "#ed7953"
            ],
            [
             0.7777777777777778,
             "#fb9f3a"
            ],
            [
             0.8888888888888888,
             "#fdca26"
            ],
            [
             1,
             "#f0f921"
            ]
           ],
           "sequentialminus": [
            [
             0,
             "#0d0887"
            ],
            [
             0.1111111111111111,
             "#46039f"
            ],
            [
             0.2222222222222222,
             "#7201a8"
            ],
            [
             0.3333333333333333,
             "#9c179e"
            ],
            [
             0.4444444444444444,
             "#bd3786"
            ],
            [
             0.5555555555555556,
             "#d8576b"
            ],
            [
             0.6666666666666666,
             "#ed7953"
            ],
            [
             0.7777777777777778,
             "#fb9f3a"
            ],
            [
             0.8888888888888888,
             "#fdca26"
            ],
            [
             1,
             "#f0f921"
            ]
           ]
          },
          "colorway": [
           "#636efa",
           "#EF553B",
           "#00cc96",
           "#ab63fa",
           "#FFA15A",
           "#19d3f3",
           "#FF6692",
           "#B6E880",
           "#FF97FF",
           "#FECB52"
          ],
          "font": {
           "color": "#2a3f5f"
          },
          "geo": {
           "bgcolor": "white",
           "lakecolor": "white",
           "landcolor": "#E5ECF6",
           "showlakes": true,
           "showland": true,
           "subunitcolor": "white"
          },
          "hoverlabel": {
           "align": "left"
          },
          "hovermode": "closest",
          "mapbox": {
           "style": "light"
          },
          "paper_bgcolor": "white",
          "plot_bgcolor": "#E5ECF6",
          "polar": {
           "angularaxis": {
            "gridcolor": "white",
            "linecolor": "white",
            "ticks": ""
           },
           "bgcolor": "#E5ECF6",
           "radialaxis": {
            "gridcolor": "white",
            "linecolor": "white",
            "ticks": ""
           }
          },
          "scene": {
           "xaxis": {
            "backgroundcolor": "#E5ECF6",
            "gridcolor": "white",
            "gridwidth": 2,
            "linecolor": "white",
            "showbackground": true,
            "ticks": "",
            "zerolinecolor": "white"
           },
           "yaxis": {
            "backgroundcolor": "#E5ECF6",
            "gridcolor": "white",
            "gridwidth": 2,
            "linecolor": "white",
            "showbackground": true,
            "ticks": "",
            "zerolinecolor": "white"
           },
           "zaxis": {
            "backgroundcolor": "#E5ECF6",
            "gridcolor": "white",
            "gridwidth": 2,
            "linecolor": "white",
            "showbackground": true,
            "ticks": "",
            "zerolinecolor": "white"
           }
          },
          "shapedefaults": {
           "line": {
            "color": "#2a3f5f"
           }
          },
          "ternary": {
           "aaxis": {
            "gridcolor": "white",
            "linecolor": "white",
            "ticks": ""
           },
           "baxis": {
            "gridcolor": "white",
            "linecolor": "white",
            "ticks": ""
           },
           "bgcolor": "#E5ECF6",
           "caxis": {
            "gridcolor": "white",
            "linecolor": "white",
            "ticks": ""
           }
          },
          "title": {
           "x": 0.05
          },
          "xaxis": {
           "automargin": true,
           "gridcolor": "white",
           "linecolor": "white",
           "ticks": "",
           "title": {
            "standoff": 15
           },
           "zerolinecolor": "white",
           "zerolinewidth": 2
          },
          "yaxis": {
           "automargin": true,
           "gridcolor": "white",
           "linecolor": "white",
           "ticks": "",
           "title": {
            "standoff": 15
           },
           "zerolinecolor": "white",
           "zerolinewidth": 2
          }
         }
        },
        "title": {
         "text": "navPerShare",
         "x": 0.5
        },
        "width": 800,
        "xaxis": {
         "anchor": "y",
         "domain": [
          0,
          1
         ],
         "title": {
          "text": "Date"
         }
        },
        "yaxis": {
         "anchor": "x",
         "domain": [
          0,
          1
         ],
         "title": {
          "text": "NavPerShare"
         }
        }
       }
      }
     },
     "metadata": {},
     "output_type": "display_data"
    }
   ],
   "source": [
    "from v2_rebalance_dashboard.fetch_nav_per_share import fetch_daily_nav_per_share_to_plot\n",
    "\n",
    "fig = fetch_daily_nav_per_share_to_plot()\n",
    "fig.show()"
   ]
  },
  {
   "cell_type": "code",
   "execution_count": 6,
   "metadata": {},
   "outputs": [
    {
     "data": {
      "application/vnd.plotly.v1+json": {
       "config": {
        "plotlyServerURL": "https://plot.ly"
       },
       "data": [
        {
         "hovertemplate": "variable=balETH<br>timestamp=%{x}<br>value=%{y}<extra></extra>",
         "legendgroup": "balETH",
         "marker": {
          "color": "#636efa",
          "symbol": "circle"
         },
         "mode": "markers",
         "name": "balETH",
         "orientation": "v",
         "showlegend": true,
         "type": "scatter",
         "x": [
          "2024-07-08T14:38:47",
          "2024-07-09T14:30:11",
          "2024-07-10T14:16:23",
          "2024-07-11T14:03:23",
          "2024-07-12T13:52:23",
          "2024-07-13T13:39:47",
          "2024-07-14T13:27:47",
          "2024-07-15T13:14:11",
          "2024-07-16T13:01:59",
          "2024-07-17T12:46:35",
          "2024-07-18T12:34:59",
          "2024-07-19T12:20:35",
          "2024-07-20T12:07:35",
          "2024-07-21T11:53:23",
          "2024-07-22T11:41:35",
          "2024-07-23T11:29:35",
          "2024-07-24T11:15:11",
          "2024-07-25T11:02:47",
          "2024-07-26T10:50:47",
          "2024-07-27T10:39:11",
          "2024-07-28T10:26:35",
          "2024-07-29T10:11:59",
          "2024-07-30T10:01:11",
          "2024-07-31T09:48:35",
          "2024-08-01T09:35:35",
          "2024-08-02T09:22:59",
          "2024-08-03T09:12:35",
          "2024-08-04T08:57:23",
          "2024-08-05T08:41:47",
          "2024-08-06T08:28:47",
          "2024-08-07T08:15:59",
          "2024-08-08T08:01:47",
          "2024-08-09T07:46:35",
          "2024-08-10T07:32:35",
          "2024-08-11T07:19:47",
          "2024-08-12T07:07:35",
          "2024-08-13T06:53:35",
          "2024-08-14T06:40:47",
          "2024-08-15T06:27:59",
          "2024-08-16T06:16:35",
          "2024-08-17T06:04:59",
          "2024-08-18T05:51:59",
          "2024-08-19T05:39:23",
          "2024-08-20T05:26:11",
          "2024-08-21T05:15:11",
          "2024-08-22T05:04:23",
          "2024-08-23T04:51:59"
         ],
         "xaxis": "x",
         "y": [
          1e-13,
          1e-13,
          1e-13,
          1e-13,
          1e-13,
          1e-13,
          1e-13,
          1e-13,
          1e-13,
          60.0000000000001,
          59.97512992336156,
          59.99410534570134,
          60.04881251047215,
          60.02181404870718,
          60.012705366753316,
          60.08587675275465,
          60.07742467570809,
          60.08120985069776,
          60.08481081965157,
          60.20105952814394,
          60.21411053977205,
          60.204067208990125,
          60.274534080592325,
          60.28598589026226,
          60.28971525344588,
          60.33949885681782,
          60.34132693626525,
          60.3239936463198,
          60.31248721352855,
          60.048036806581145,
          60.30164329628184,
          80.31892000380867,
          80.3409542662577,
          80.37986677063036,
          80.3789928109628,
          80.40388017374495,
          80.40721179306328,
          80.46064136713302,
          80.46521945183278,
          80.47329695696426,
          80.4826022409734,
          80.54043588274104,
          80.55673317395686,
          80.57786776300689,
          80.58921150576268,
          80.67890101381515,
          80.70950717306218
         ],
         "yaxis": "y"
        }
       ],
       "layout": {
        "height": 500,
        "legend": {
         "title": {
          "text": "variable"
         },
         "tracegroupgap": 0
        },
        "margin": {
         "b": 40,
         "l": 40,
         "r": 40,
         "t": 40
        },
        "template": {
         "data": {
          "bar": [
           {
            "error_x": {
             "color": "#2a3f5f"
            },
            "error_y": {
             "color": "#2a3f5f"
            },
            "marker": {
             "line": {
              "color": "#E5ECF6",
              "width": 0.5
             },
             "pattern": {
              "fillmode": "overlay",
              "size": 10,
              "solidity": 0.2
             }
            },
            "type": "bar"
           }
          ],
          "barpolar": [
           {
            "marker": {
             "line": {
              "color": "#E5ECF6",
              "width": 0.5
             },
             "pattern": {
              "fillmode": "overlay",
              "size": 10,
              "solidity": 0.2
             }
            },
            "type": "barpolar"
           }
          ],
          "carpet": [
           {
            "aaxis": {
             "endlinecolor": "#2a3f5f",
             "gridcolor": "white",
             "linecolor": "white",
             "minorgridcolor": "white",
             "startlinecolor": "#2a3f5f"
            },
            "baxis": {
             "endlinecolor": "#2a3f5f",
             "gridcolor": "white",
             "linecolor": "white",
             "minorgridcolor": "white",
             "startlinecolor": "#2a3f5f"
            },
            "type": "carpet"
           }
          ],
          "choropleth": [
           {
            "colorbar": {
             "outlinewidth": 0,
             "ticks": ""
            },
            "type": "choropleth"
           }
          ],
          "contour": [
           {
            "colorbar": {
             "outlinewidth": 0,
             "ticks": ""
            },
            "colorscale": [
             [
              0,
              "#0d0887"
             ],
             [
              0.1111111111111111,
              "#46039f"
             ],
             [
              0.2222222222222222,
              "#7201a8"
             ],
             [
              0.3333333333333333,
              "#9c179e"
             ],
             [
              0.4444444444444444,
              "#bd3786"
             ],
             [
              0.5555555555555556,
              "#d8576b"
             ],
             [
              0.6666666666666666,
              "#ed7953"
             ],
             [
              0.7777777777777778,
              "#fb9f3a"
             ],
             [
              0.8888888888888888,
              "#fdca26"
             ],
             [
              1,
              "#f0f921"
             ]
            ],
            "type": "contour"
           }
          ],
          "contourcarpet": [
           {
            "colorbar": {
             "outlinewidth": 0,
             "ticks": ""
            },
            "type": "contourcarpet"
           }
          ],
          "heatmap": [
           {
            "colorbar": {
             "outlinewidth": 0,
             "ticks": ""
            },
            "colorscale": [
             [
              0,
              "#0d0887"
             ],
             [
              0.1111111111111111,
              "#46039f"
             ],
             [
              0.2222222222222222,
              "#7201a8"
             ],
             [
              0.3333333333333333,
              "#9c179e"
             ],
             [
              0.4444444444444444,
              "#bd3786"
             ],
             [
              0.5555555555555556,
              "#d8576b"
             ],
             [
              0.6666666666666666,
              "#ed7953"
             ],
             [
              0.7777777777777778,
              "#fb9f3a"
             ],
             [
              0.8888888888888888,
              "#fdca26"
             ],
             [
              1,
              "#f0f921"
             ]
            ],
            "type": "heatmap"
           }
          ],
          "heatmapgl": [
           {
            "colorbar": {
             "outlinewidth": 0,
             "ticks": ""
            },
            "colorscale": [
             [
              0,
              "#0d0887"
             ],
             [
              0.1111111111111111,
              "#46039f"
             ],
             [
              0.2222222222222222,
              "#7201a8"
             ],
             [
              0.3333333333333333,
              "#9c179e"
             ],
             [
              0.4444444444444444,
              "#bd3786"
             ],
             [
              0.5555555555555556,
              "#d8576b"
             ],
             [
              0.6666666666666666,
              "#ed7953"
             ],
             [
              0.7777777777777778,
              "#fb9f3a"
             ],
             [
              0.8888888888888888,
              "#fdca26"
             ],
             [
              1,
              "#f0f921"
             ]
            ],
            "type": "heatmapgl"
           }
          ],
          "histogram": [
           {
            "marker": {
             "pattern": {
              "fillmode": "overlay",
              "size": 10,
              "solidity": 0.2
             }
            },
            "type": "histogram"
           }
          ],
          "histogram2d": [
           {
            "colorbar": {
             "outlinewidth": 0,
             "ticks": ""
            },
            "colorscale": [
             [
              0,
              "#0d0887"
             ],
             [
              0.1111111111111111,
              "#46039f"
             ],
             [
              0.2222222222222222,
              "#7201a8"
             ],
             [
              0.3333333333333333,
              "#9c179e"
             ],
             [
              0.4444444444444444,
              "#bd3786"
             ],
             [
              0.5555555555555556,
              "#d8576b"
             ],
             [
              0.6666666666666666,
              "#ed7953"
             ],
             [
              0.7777777777777778,
              "#fb9f3a"
             ],
             [
              0.8888888888888888,
              "#fdca26"
             ],
             [
              1,
              "#f0f921"
             ]
            ],
            "type": "histogram2d"
           }
          ],
          "histogram2dcontour": [
           {
            "colorbar": {
             "outlinewidth": 0,
             "ticks": ""
            },
            "colorscale": [
             [
              0,
              "#0d0887"
             ],
             [
              0.1111111111111111,
              "#46039f"
             ],
             [
              0.2222222222222222,
              "#7201a8"
             ],
             [
              0.3333333333333333,
              "#9c179e"
             ],
             [
              0.4444444444444444,
              "#bd3786"
             ],
             [
              0.5555555555555556,
              "#d8576b"
             ],
             [
              0.6666666666666666,
              "#ed7953"
             ],
             [
              0.7777777777777778,
              "#fb9f3a"
             ],
             [
              0.8888888888888888,
              "#fdca26"
             ],
             [
              1,
              "#f0f921"
             ]
            ],
            "type": "histogram2dcontour"
           }
          ],
          "mesh3d": [
           {
            "colorbar": {
             "outlinewidth": 0,
             "ticks": ""
            },
            "type": "mesh3d"
           }
          ],
          "parcoords": [
           {
            "line": {
             "colorbar": {
              "outlinewidth": 0,
              "ticks": ""
             }
            },
            "type": "parcoords"
           }
          ],
          "pie": [
           {
            "automargin": true,
            "type": "pie"
           }
          ],
          "scatter": [
           {
            "fillpattern": {
             "fillmode": "overlay",
             "size": 10,
             "solidity": 0.2
            },
            "type": "scatter"
           }
          ],
          "scatter3d": [
           {
            "line": {
             "colorbar": {
              "outlinewidth": 0,
              "ticks": ""
             }
            },
            "marker": {
             "colorbar": {
              "outlinewidth": 0,
              "ticks": ""
             }
            },
            "type": "scatter3d"
           }
          ],
          "scattercarpet": [
           {
            "marker": {
             "colorbar": {
              "outlinewidth": 0,
              "ticks": ""
             }
            },
            "type": "scattercarpet"
           }
          ],
          "scattergeo": [
           {
            "marker": {
             "colorbar": {
              "outlinewidth": 0,
              "ticks": ""
             }
            },
            "type": "scattergeo"
           }
          ],
          "scattergl": [
           {
            "marker": {
             "colorbar": {
              "outlinewidth": 0,
              "ticks": ""
             }
            },
            "type": "scattergl"
           }
          ],
          "scattermapbox": [
           {
            "marker": {
             "colorbar": {
              "outlinewidth": 0,
              "ticks": ""
             }
            },
            "type": "scattermapbox"
           }
          ],
          "scatterpolar": [
           {
            "marker": {
             "colorbar": {
              "outlinewidth": 0,
              "ticks": ""
             }
            },
            "type": "scatterpolar"
           }
          ],
          "scatterpolargl": [
           {
            "marker": {
             "colorbar": {
              "outlinewidth": 0,
              "ticks": ""
             }
            },
            "type": "scatterpolargl"
           }
          ],
          "scatterternary": [
           {
            "marker": {
             "colorbar": {
              "outlinewidth": 0,
              "ticks": ""
             }
            },
            "type": "scatterternary"
           }
          ],
          "surface": [
           {
            "colorbar": {
             "outlinewidth": 0,
             "ticks": ""
            },
            "colorscale": [
             [
              0,
              "#0d0887"
             ],
             [
              0.1111111111111111,
              "#46039f"
             ],
             [
              0.2222222222222222,
              "#7201a8"
             ],
             [
              0.3333333333333333,
              "#9c179e"
             ],
             [
              0.4444444444444444,
              "#bd3786"
             ],
             [
              0.5555555555555556,
              "#d8576b"
             ],
             [
              0.6666666666666666,
              "#ed7953"
             ],
             [
              0.7777777777777778,
              "#fb9f3a"
             ],
             [
              0.8888888888888888,
              "#fdca26"
             ],
             [
              1,
              "#f0f921"
             ]
            ],
            "type": "surface"
           }
          ],
          "table": [
           {
            "cells": {
             "fill": {
              "color": "#EBF0F8"
             },
             "line": {
              "color": "white"
             }
            },
            "header": {
             "fill": {
              "color": "#C8D4E3"
             },
             "line": {
              "color": "white"
             }
            },
            "type": "table"
           }
          ]
         },
         "layout": {
          "annotationdefaults": {
           "arrowcolor": "#2a3f5f",
           "arrowhead": 0,
           "arrowwidth": 1
          },
          "autotypenumbers": "strict",
          "coloraxis": {
           "colorbar": {
            "outlinewidth": 0,
            "ticks": ""
           }
          },
          "colorscale": {
           "diverging": [
            [
             0,
             "#8e0152"
            ],
            [
             0.1,
             "#c51b7d"
            ],
            [
             0.2,
             "#de77ae"
            ],
            [
             0.3,
             "#f1b6da"
            ],
            [
             0.4,
             "#fde0ef"
            ],
            [
             0.5,
             "#f7f7f7"
            ],
            [
             0.6,
             "#e6f5d0"
            ],
            [
             0.7,
             "#b8e186"
            ],
            [
             0.8,
             "#7fbc41"
            ],
            [
             0.9,
             "#4d9221"
            ],
            [
             1,
             "#276419"
            ]
           ],
           "sequential": [
            [
             0,
             "#0d0887"
            ],
            [
             0.1111111111111111,
             "#46039f"
            ],
            [
             0.2222222222222222,
             "#7201a8"
            ],
            [
             0.3333333333333333,
             "#9c179e"
            ],
            [
             0.4444444444444444,
             "#bd3786"
            ],
            [
             0.5555555555555556,
             "#d8576b"
            ],
            [
             0.6666666666666666,
             "#ed7953"
            ],
            [
             0.7777777777777778,
             "#fb9f3a"
            ],
            [
             0.8888888888888888,
             "#fdca26"
            ],
            [
             1,
             "#f0f921"
            ]
           ],
           "sequentialminus": [
            [
             0,
             "#0d0887"
            ],
            [
             0.1111111111111111,
             "#46039f"
            ],
            [
             0.2222222222222222,
             "#7201a8"
            ],
            [
             0.3333333333333333,
             "#9c179e"
            ],
            [
             0.4444444444444444,
             "#bd3786"
            ],
            [
             0.5555555555555556,
             "#d8576b"
            ],
            [
             0.6666666666666666,
             "#ed7953"
            ],
            [
             0.7777777777777778,
             "#fb9f3a"
            ],
            [
             0.8888888888888888,
             "#fdca26"
            ],
            [
             1,
             "#f0f921"
            ]
           ]
          },
          "colorway": [
           "#636efa",
           "#EF553B",
           "#00cc96",
           "#ab63fa",
           "#FFA15A",
           "#19d3f3",
           "#FF6692",
           "#B6E880",
           "#FF97FF",
           "#FECB52"
          ],
          "font": {
           "color": "#2a3f5f"
          },
          "geo": {
           "bgcolor": "white",
           "lakecolor": "white",
           "landcolor": "#E5ECF6",
           "showlakes": true,
           "showland": true,
           "subunitcolor": "white"
          },
          "hoverlabel": {
           "align": "left"
          },
          "hovermode": "closest",
          "mapbox": {
           "style": "light"
          },
          "paper_bgcolor": "white",
          "plot_bgcolor": "#E5ECF6",
          "polar": {
           "angularaxis": {
            "gridcolor": "white",
            "linecolor": "white",
            "ticks": ""
           },
           "bgcolor": "#E5ECF6",
           "radialaxis": {
            "gridcolor": "white",
            "linecolor": "white",
            "ticks": ""
           }
          },
          "scene": {
           "xaxis": {
            "backgroundcolor": "#E5ECF6",
            "gridcolor": "white",
            "gridwidth": 2,
            "linecolor": "white",
            "showbackground": true,
            "ticks": "",
            "zerolinecolor": "white"
           },
           "yaxis": {
            "backgroundcolor": "#E5ECF6",
            "gridcolor": "white",
            "gridwidth": 2,
            "linecolor": "white",
            "showbackground": true,
            "ticks": "",
            "zerolinecolor": "white"
           },
           "zaxis": {
            "backgroundcolor": "#E5ECF6",
            "gridcolor": "white",
            "gridwidth": 2,
            "linecolor": "white",
            "showbackground": true,
            "ticks": "",
            "zerolinecolor": "white"
           }
          },
          "shapedefaults": {
           "line": {
            "color": "#2a3f5f"
           }
          },
          "ternary": {
           "aaxis": {
            "gridcolor": "white",
            "linecolor": "white",
            "ticks": ""
           },
           "baxis": {
            "gridcolor": "white",
            "linecolor": "white",
            "ticks": ""
           },
           "bgcolor": "#E5ECF6",
           "caxis": {
            "gridcolor": "white",
            "linecolor": "white",
            "ticks": ""
           }
          },
          "title": {
           "x": 0.05
          },
          "xaxis": {
           "automargin": true,
           "gridcolor": "white",
           "linecolor": "white",
           "ticks": "",
           "title": {
            "standoff": 15
           },
           "zerolinecolor": "white",
           "zerolinewidth": 2
          },
          "yaxis": {
           "automargin": true,
           "gridcolor": "white",
           "linecolor": "white",
           "ticks": "",
           "title": {
            "standoff": 15
           },
           "zerolinecolor": "white",
           "zerolinewidth": 2
          }
         }
        },
        "title": {
         "text": "NAV",
         "x": 0.5
        },
        "width": 800,
        "xaxis": {
         "anchor": "y",
         "domain": [
          0,
          1
         ],
         "title": {
          "text": "Date"
         }
        },
        "yaxis": {
         "anchor": "x",
         "domain": [
          0,
          1
         ],
         "title": {
          "text": "Idle + Debt (ETH)"
         }
        }
       }
      }
     },
     "metadata": {},
     "output_type": "display_data"
    }
   ],
   "source": [
    "from v2_rebalance_dashboard.fetch_nav import fetch_daily_nav_to_plot\n",
    "\n",
    "fig = fetch_daily_nav_to_plot()\n",
    "fig.show()"
   ]
  },
  {
   "cell_type": "code",
   "execution_count": 7,
   "metadata": {},
   "outputs": [],
   "source": [
    "# Pool composite APR over time by self, (maybe other autopools)\n",
    "# apr out over time"
   ]
  }
 ],
 "metadata": {
  "kernelspec": {
   "display_name": ".venv",
   "language": "python",
   "name": "python3"
  },
  "language_info": {
   "codemirror_mode": {
    "name": "ipython",
    "version": 3
   },
   "file_extension": ".py",
   "mimetype": "text/x-python",
   "name": "python",
   "nbconvert_exporter": "python",
   "pygments_lexer": "ipython3",
   "version": "3.12.3"
  }
 },
 "nbformat": 4,
 "nbformat_minor": 2
}
