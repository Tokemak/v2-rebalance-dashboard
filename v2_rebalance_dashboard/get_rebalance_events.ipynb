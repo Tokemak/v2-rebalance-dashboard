{
 "cells": [
  {
   "cell_type": "code",
   "execution_count": 1,
   "metadata": {},
   "outputs": [
    {
     "name": "stderr",
     "output_type": "stream",
     "text": [
      "2024-09-12 12:21:01.615 WARNING streamlit.runtime.caching.cache_data_api: No runtime found, using MemoryCacheStorageManager\n"
     ]
    },
    {
     "data": {
      "text/plain": [
       "hash                                                                gasCostInETH        \n",
       "0x0d97b1369f57fe23854c23a2f08e1527dd49091bf0c46546ded3d4cc17c650b2  0.017798404538810774    1\n",
       "0x14eb873237f31dd8541faf72ca6ede85b7ffc93c4df3e4b38f5b55a0c2104a66  0.072464535737705545    1\n",
       "0x16c7cbfc0edad7da948b08f2ee4a0c13bc76b5f7aca3f10a56e89fab0b3981df  0.111999517140177888    1\n",
       "0x8db4893d9242ce6603ca86266f3de2f7333bb807c68ca72d82334042a50284f3  0.0258890225734398      1\n",
       "0xeea76a67b239aba51056e37adecc62158169d484f643f8f12c1ee997ca4379dc  0.025683613073514642    1\n",
       "Name: count, dtype: int64"
      ]
     },
     "execution_count": 1,
     "metadata": {},
     "output_type": "execute_result"
    }
   ],
   "source": [
    "from v2_rebalance_dashboard.get_rebalance_events_summary import _fetch_rebalance_events_df\n",
    "\n",
    "\n",
    "clean_rebalance_df = _fetch_rebalance_events_df()\n",
    "clean_rebalance_df[[\"hash\", \"gasCostInETH\"]].value_counts()"
   ]
  },
  {
   "cell_type": "code",
   "execution_count": 4,
   "metadata": {},
   "outputs": [
    {
     "data": {
      "text/plain": [
       "hash                                                                gasCostInETH        \n",
       "0x0d97b1369f57fe23854c23a2f08e1527dd49091bf0c46546ded3d4cc17c650b2  0.017798404538810774    1\n",
       "0x14eb873237f31dd8541faf72ca6ede85b7ffc93c4df3e4b38f5b55a0c2104a66  0.072464535737705545    1\n",
       "0x16c7cbfc0edad7da948b08f2ee4a0c13bc76b5f7aca3f10a56e89fab0b3981df  0.111999517140177888    1\n",
       "0x8db4893d9242ce6603ca86266f3de2f7333bb807c68ca72d82334042a50284f3  0.0258890225734398      1\n",
       "0xeea76a67b239aba51056e37adecc62158169d484f643f8f12c1ee997ca4379dc  0.025683613073514642    1\n",
       "Name: count, dtype: int64"
      ]
     },
     "execution_count": 4,
     "metadata": {},
     "output_type": "execute_result"
    }
   ],
   "source": [
    "clean_rebalance_df[[\"hash\", \"gasCostInETH\"]].value_counts()"
   ]
  },
  {
   "cell_type": "code",
   "execution_count": 3,
   "metadata": {},
   "outputs": [
    {
     "name": "stderr",
     "output_type": "stream",
     "text": [
      "2024-09-12 12:20:39.521 WARNING streamlit.runtime.scriptrunner_utils.script_run_context: Thread 'MainThread': missing ScriptRunContext! This warning can be ignored when running in bare mode.\n",
      "2024-09-12 12:20:39.690 \n",
      "  \u001b[33m\u001b[1mWarning:\u001b[0m to view this Streamlit app on a browser, run it with the following\n",
      "  command:\n",
      "\n",
      "    streamlit run /home/parker/Documents/Tokemak/v2-rebalance-dashboard/.venv/lib/python3.10/site-packages/ipykernel_launcher.py [ARGUMENTS]\n",
      "2024-09-12 12:20:39.690 Thread 'MainThread': missing ScriptRunContext! This warning can be ignored when running in bare mode.\n",
      "2024-09-12 12:20:39.691 Thread 'MainThread': missing ScriptRunContext! This warning can be ignored when running in bare mode.\n",
      "2024-09-12 12:20:39.691 No runtime found, using MemoryCacheStorageManager\n",
      "2024-09-12 12:20:40.192 Thread 'Thread-4': missing ScriptRunContext! This warning can be ignored when running in bare mode.\n",
      "2024-09-12 12:20:40.192 Thread 'Thread-4': missing ScriptRunContext! This warning can be ignored when running in bare mode.\n",
      "2024-09-12 12:20:42.319 Thread 'MainThread': missing ScriptRunContext! This warning can be ignored when running in bare mode.\n",
      "2024-09-12 12:20:42.320 Thread 'MainThread': missing ScriptRunContext! This warning can be ignored when running in bare mode.\n"
     ]
    },
    {
     "data": {
      "application/vnd.plotly.v1+json": {
       "config": {
        "plotlyServerURL": "https://plot.ly"
       },
       "data": [
        {
         "name": "Out Composite Return",
         "type": "bar",
         "x": [
          "2024-07-17T16:22:11",
          "2024-08-07T18:16:35",
          "2024-08-08T13:38:59",
          "2024-08-17T01:39:59",
          "2024-08-23T16:39:47"
         ],
         "xaxis": "x",
         "y": [
          0,
          0,
          9.6889802874503,
          6.314949253640553,
          8.214074079517284
         ],
         "yaxis": "y"
        },
        {
         "name": "In Composite Return",
         "type": "bar",
         "x": [
          "2024-07-17T16:22:11",
          "2024-08-07T18:16:35",
          "2024-08-08T13:38:59",
          "2024-08-17T01:39:59",
          "2024-08-23T16:39:47"
         ],
         "xaxis": "x",
         "y": [
          10.819212110527916,
          11.33233078075143,
          10.356985844295162,
          7.489084561020561,
          9.818866150090912
         ],
         "yaxis": "y"
        },
        {
         "name": "Out ETH Value",
         "type": "bar",
         "x": [
          "2024-07-17T16:22:11",
          "2024-08-07T18:16:35",
          "2024-08-08T13:38:59",
          "2024-08-17T01:39:59",
          "2024-08-23T16:39:47"
         ],
         "xaxis": "x2",
         "y": [
          60.0000000000001,
          20.418152734840394,
          59.9267336138592,
          80.42174223799144,
          80.59907586255362
         ],
         "yaxis": "y2"
        },
        {
         "name": "In ETH Value",
         "type": "bar",
         "x": [
          "2024-07-17T16:22:11",
          "2024-08-07T18:16:35",
          "2024-08-08T13:38:59",
          "2024-08-17T01:39:59",
          "2024-08-23T16:39:47"
         ],
         "xaxis": "x2",
         "y": [
          59.78600594950242,
          20.401194654884442,
          59.871057953988725,
          80.30964870001023,
          80.52471328167303
         ],
         "yaxis": "y2"
        },
        {
         "name": "Predicted Gain",
         "type": "bar",
         "x": [
          "2024-07-17T16:22:11",
          "2024-08-07T18:16:35",
          "2024-08-08T13:38:59",
          "2024-08-17T01:39:59",
          "2024-08-23T16:39:47"
         ],
         "xaxis": "x3",
         "y": [
          1.063294487028412,
          0.3800434292903811,
          0.06485713814214124,
          0.15384086968430882,
          0.21142126292309035
         ],
         "yaxis": "y3"
        },
        {
         "name": "Swap Cost",
         "type": "bar",
         "x": [
          "2024-07-17T16:22:11",
          "2024-08-07T18:16:35",
          "2024-08-08T13:38:59",
          "2024-08-17T01:39:59",
          "2024-08-23T16:39:47"
         ],
         "xaxis": "x3",
         "y": [
          0.2139940504976818,
          0.016958079955951878,
          0.055675659870478705,
          0.11209353798120351,
          0.07436258088058145
         ],
         "yaxis": "y3"
        },
        {
         "name": "Swap Cost Percentage",
         "type": "bar",
         "x": [
          "2024-07-17T16:22:11",
          "2024-08-07T18:16:35",
          "2024-08-08T13:38:59",
          "2024-08-17T01:39:59",
          "2024-08-23T16:39:47"
         ],
         "xaxis": "x4",
         "y": [
          0.35665675082946896,
          0.0830539382096773,
          0.0929062148276385,
          0.1393821308291058,
          0.0922623244556707
         ],
         "yaxis": "y4"
        },
        {
         "name": "Break Even Days",
         "type": "bar",
         "x": [
          "2024-07-17T16:22:11",
          "2024-08-07T18:16:35",
          "2024-08-08T13:38:59",
          "2024-08-17T01:39:59",
          "2024-08-23T16:39:47"
         ],
         "xaxis": "x5",
         "y": [
          12.075340544409146,
          2.6772855914308664,
          51.50612080520078,
          43.7179813964494,
          21.10362406858746
         ],
         "yaxis": "y5"
        },
        {
         "name": "Offset Period",
         "type": "bar",
         "x": [
          "2024-07-17T16:22:11",
          "2024-08-07T18:16:35",
          "2024-08-08T13:38:59",
          "2024-08-17T01:39:59",
          "2024-08-23T16:39:47"
         ],
         "xaxis": "x5",
         "y": [
          60,
          60,
          60,
          60,
          60
         ],
         "yaxis": "y5"
        },
        {
         "name": "Solver Profit",
         "type": "bar",
         "x": [
          "2024-07-17T16:22:11",
          "2024-08-07T18:16:35",
          "2024-08-08T13:38:59",
          "2024-08-17T01:39:59",
          "2024-08-23T16:39:47"
         ],
         "xaxis": "x6",
         "y": [
          0.002999999999995904,
          -0.003598865215897992,
          0.009928317370975756,
          0.0007254380740843065,
          0.008858451724379372
         ],
         "yaxis": "y6"
        },
        {
         "name": "Solver Profit",
         "type": "bar",
         "x": [
          "2024-07-17T16:22:11",
          "2024-08-07T18:16:35",
          "2024-08-08T13:38:59",
          "2024-08-17T01:39:59",
          "2024-08-23T16:39:47"
         ],
         "xaxis": "x6",
         "y": [
          0.002999999999995904,
          -0.003598865215897992,
          0.009928317370975756,
          0.0007254380740843065,
          0.008858451724379372
         ],
         "yaxis": "y6"
        }
       ],
       "layout": {
        "annotations": [
         {
          "font": {
           "size": 16
          },
          "showarrow": false,
          "text": "Composite Returns",
          "x": 0.5,
          "xanchor": "center",
          "xref": "paper",
          "y": 1,
          "yanchor": "bottom",
          "yref": "paper"
         },
         {
          "font": {
           "size": 16
          },
          "showarrow": false,
          "text": "in/out ETH Values",
          "x": 0.5,
          "xanchor": "center",
          "xref": "paper",
          "y": 0.8457142857142858,
          "yanchor": "bottom",
          "yref": "paper"
         },
         {
          "font": {
           "size": 16
          },
          "showarrow": false,
          "text": "Swap Cost and Predicted Gain",
          "x": 0.5,
          "xanchor": "center",
          "xref": "paper",
          "y": 0.6914285714285715,
          "yanchor": "bottom",
          "yref": "paper"
         },
         {
          "font": {
           "size": 16
          },
          "showarrow": false,
          "text": "Swap Cost as Percentage of Out ETH Value",
          "x": 0.5,
          "xanchor": "center",
          "xref": "paper",
          "y": 0.5371428571428571,
          "yanchor": "bottom",
          "yref": "paper"
         },
         {
          "font": {
           "size": 16
          },
          "showarrow": false,
          "text": "Break Even Days and Offset Period",
          "x": 0.5,
          "xanchor": "center",
          "xref": "paper",
          "y": 0.3828571428571429,
          "yanchor": "bottom",
          "yref": "paper"
         },
         {
          "font": {
           "size": 16
          },
          "showarrow": false,
          "text": "Solver ETH Profit",
          "x": 0.5,
          "xanchor": "center",
          "xref": "paper",
          "y": 0.2285714285714286,
          "yanchor": "bottom",
          "yref": "paper"
         },
         {
          "font": {
           "size": 16
          },
          "showarrow": false,
          "text": "Solver gas Costs",
          "x": 0.5,
          "xanchor": "center",
          "xref": "paper",
          "y": 0.07428571428571429,
          "yanchor": "bottom",
          "yref": "paper"
         }
        ],
        "font": {
         "color": "black"
        },
        "height": 1600,
        "paper_bgcolor": "white",
        "plot_bgcolor": "white",
        "template": {
         "data": {
          "candlestick": [
           {
            "decreasing": {
             "line": {
              "color": "#000033"
             }
            },
            "increasing": {
             "line": {
              "color": "#000032"
             }
            },
            "type": "candlestick"
           }
          ],
          "contour": [
           {
            "colorscale": [
             [
              0,
              "#000011"
             ],
             [
              0.1111111111111111,
              "#000012"
             ],
             [
              0.2222222222222222,
              "#000013"
             ],
             [
              0.3333333333333333,
              "#000014"
             ],
             [
              0.4444444444444444,
              "#000015"
             ],
             [
              0.5555555555555556,
              "#000016"
             ],
             [
              0.6666666666666666,
              "#000017"
             ],
             [
              0.7777777777777778,
              "#000018"
             ],
             [
              0.8888888888888888,
              "#000019"
             ],
             [
              1,
              "#000020"
             ]
            ],
            "type": "contour"
           }
          ],
          "contourcarpet": [
           {
            "colorscale": [
             [
              0,
              "#000011"
             ],
             [
              0.1111111111111111,
              "#000012"
             ],
             [
              0.2222222222222222,
              "#000013"
             ],
             [
              0.3333333333333333,
              "#000014"
             ],
             [
              0.4444444444444444,
              "#000015"
             ],
             [
              0.5555555555555556,
              "#000016"
             ],
             [
              0.6666666666666666,
              "#000017"
             ],
             [
              0.7777777777777778,
              "#000018"
             ],
             [
              0.8888888888888888,
              "#000019"
             ],
             [
              1,
              "#000020"
             ]
            ],
            "type": "contourcarpet"
           }
          ],
          "heatmap": [
           {
            "colorscale": [
             [
              0,
              "#000011"
             ],
             [
              0.1111111111111111,
              "#000012"
             ],
             [
              0.2222222222222222,
              "#000013"
             ],
             [
              0.3333333333333333,
              "#000014"
             ],
             [
              0.4444444444444444,
              "#000015"
             ],
             [
              0.5555555555555556,
              "#000016"
             ],
             [
              0.6666666666666666,
              "#000017"
             ],
             [
              0.7777777777777778,
              "#000018"
             ],
             [
              0.8888888888888888,
              "#000019"
             ],
             [
              1,
              "#000020"
             ]
            ],
            "type": "heatmap"
           }
          ],
          "histogram2d": [
           {
            "colorscale": [
             [
              0,
              "#000011"
             ],
             [
              0.1111111111111111,
              "#000012"
             ],
             [
              0.2222222222222222,
              "#000013"
             ],
             [
              0.3333333333333333,
              "#000014"
             ],
             [
              0.4444444444444444,
              "#000015"
             ],
             [
              0.5555555555555556,
              "#000016"
             ],
             [
              0.6666666666666666,
              "#000017"
             ],
             [
              0.7777777777777778,
              "#000018"
             ],
             [
              0.8888888888888888,
              "#000019"
             ],
             [
              1,
              "#000020"
             ]
            ],
            "type": "histogram2d"
           }
          ],
          "icicle": [
           {
            "textfont": {
             "color": "white"
            },
            "type": "icicle"
           }
          ],
          "sankey": [
           {
            "textfont": {
             "color": "#000036"
            },
            "type": "sankey"
           }
          ],
          "scatter": [
           {
            "marker": {
             "line": {
              "width": 0
             }
            },
            "type": "scatter"
           }
          ],
          "table": [
           {
            "cells": {
             "fill": {
              "color": "#000038"
             },
             "font": {
              "color": "#000037"
             },
             "line": {
              "color": "#000039"
             }
            },
            "header": {
             "fill": {
              "color": "#000040"
             },
             "font": {
              "color": "#000036"
             },
             "line": {
              "color": "#000039"
             }
            },
            "type": "table"
           }
          ],
          "waterfall": [
           {
            "connector": {
             "line": {
              "color": "#000036",
              "width": 2
             }
            },
            "decreasing": {
             "marker": {
              "color": "#000033"
             }
            },
            "increasing": {
             "marker": {
              "color": "#000032"
             }
            },
            "totals": {
             "marker": {
              "color": "#000034"
             }
            },
            "type": "waterfall"
           }
          ]
         },
         "layout": {
          "coloraxis": {
           "colorscale": [
            [
             0,
             "#000011"
            ],
            [
             0.1111111111111111,
             "#000012"
            ],
            [
             0.2222222222222222,
             "#000013"
            ],
            [
             0.3333333333333333,
             "#000014"
            ],
            [
             0.4444444444444444,
             "#000015"
            ],
            [
             0.5555555555555556,
             "#000016"
            ],
            [
             0.6666666666666666,
             "#000017"
            ],
            [
             0.7777777777777778,
             "#000018"
            ],
            [
             0.8888888888888888,
             "#000019"
            ],
            [
             1,
             "#000020"
            ]
           ]
          },
          "colorscale": {
           "diverging": [
            [
             0,
             "#000021"
            ],
            [
             0.1,
             "#000022"
            ],
            [
             0.2,
             "#000023"
            ],
            [
             0.3,
             "#000024"
            ],
            [
             0.4,
             "#000025"
            ],
            [
             0.5,
             "#000026"
            ],
            [
             0.6,
             "#000027"
            ],
            [
             0.7,
             "#000028"
            ],
            [
             0.8,
             "#000029"
            ],
            [
             0.9,
             "#000030"
            ],
            [
             1,
             "#000031"
            ]
           ],
           "sequential": [
            [
             0,
             "#000011"
            ],
            [
             0.1111111111111111,
             "#000012"
            ],
            [
             0.2222222222222222,
             "#000013"
            ],
            [
             0.3333333333333333,
             "#000014"
            ],
            [
             0.4444444444444444,
             "#000015"
            ],
            [
             0.5555555555555556,
             "#000016"
            ],
            [
             0.6666666666666666,
             "#000017"
            ],
            [
             0.7777777777777778,
             "#000018"
            ],
            [
             0.8888888888888888,
             "#000019"
            ],
            [
             1,
             "#000020"
            ]
           ],
           "sequentialminus": [
            [
             0,
             "#000011"
            ],
            [
             0.1111111111111111,
             "#000012"
            ],
            [
             0.2222222222222222,
             "#000013"
            ],
            [
             0.3333333333333333,
             "#000014"
            ],
            [
             0.4444444444444444,
             "#000015"
            ],
            [
             0.5555555555555556,
             "#000016"
            ],
            [
             0.6666666666666666,
             "#000017"
            ],
            [
             0.7777777777777778,
             "#000018"
            ],
            [
             0.8888888888888888,
             "#000019"
            ],
            [
             1,
             "#000020"
            ]
           ]
          },
          "colorway": [
           "#000001",
           "#000002",
           "#000003",
           "#000004",
           "#000005",
           "#000006",
           "#000007",
           "#000008",
           "#000009",
           "#000010"
          ]
         }
        },
        "title": {
         "text": ""
        },
        "width": 1000,
        "xaxis": {
         "anchor": "y",
         "domain": [
          0,
          1
         ],
         "matches": "x7",
         "showticklabels": false
        },
        "xaxis2": {
         "anchor": "y2",
         "domain": [
          0,
          1
         ],
         "matches": "x7",
         "showticklabels": false
        },
        "xaxis3": {
         "anchor": "y3",
         "domain": [
          0,
          1
         ],
         "matches": "x7",
         "showticklabels": false
        },
        "xaxis4": {
         "anchor": "y4",
         "domain": [
          0,
          1
         ],
         "matches": "x7",
         "showticklabels": false
        },
        "xaxis5": {
         "anchor": "y5",
         "domain": [
          0,
          1
         ],
         "gridcolor": "lightgray",
         "gridwidth": 1,
         "matches": "x7",
         "showgrid": true,
         "showticklabels": false,
         "title": {
          "text": "Date"
         },
         "zeroline": true,
         "zerolinecolor": "black",
         "zerolinewidth": 1
        },
        "xaxis6": {
         "anchor": "y6",
         "domain": [
          0,
          1
         ],
         "matches": "x7",
         "showticklabels": false
        },
        "xaxis7": {
         "anchor": "y7",
         "domain": [
          0,
          1
         ]
        },
        "yaxis": {
         "anchor": "x",
         "domain": [
          0.9257142857142857,
          1
         ],
         "gridcolor": "lightgray",
         "gridwidth": 1,
         "showgrid": true,
         "title": {
          "text": "Return (%)"
         },
         "zeroline": true,
         "zerolinecolor": "black",
         "zerolinewidth": 1
        },
        "yaxis2": {
         "anchor": "x2",
         "domain": [
          0.7714285714285715,
          0.8457142857142858
         ],
         "gridcolor": "lightgray",
         "gridwidth": 1,
         "showgrid": true,
         "title": {
          "text": "ETH"
         },
         "zeroline": true,
         "zerolinecolor": "black",
         "zerolinewidth": 1
        },
        "yaxis3": {
         "anchor": "x3",
         "domain": [
          0.6171428571428572,
          0.6914285714285715
         ],
         "gridcolor": "lightgray",
         "gridwidth": 1,
         "showgrid": true,
         "title": {
          "text": "ETH"
         },
         "zeroline": true,
         "zerolinecolor": "black",
         "zerolinewidth": 1
        },
        "yaxis4": {
         "anchor": "x4",
         "domain": [
          0.46285714285714286,
          0.5371428571428571
         ],
         "gridcolor": "lightgray",
         "gridwidth": 1,
         "showgrid": true,
         "title": {
          "text": "Swap Cost (%)"
         },
         "zeroline": true,
         "zerolinecolor": "black",
         "zerolinewidth": 1
        },
        "yaxis5": {
         "anchor": "x5",
         "domain": [
          0.3085714285714286,
          0.3828571428571429
         ],
         "gridcolor": "lightgray",
         "gridwidth": 1,
         "showgrid": true,
         "title": {
          "text": "Days"
         },
         "zeroline": true,
         "zerolinecolor": "black",
         "zerolinewidth": 1
        },
        "yaxis6": {
         "anchor": "x6",
         "domain": [
          0.1542857142857143,
          0.2285714285714286
         ],
         "gridcolor": "lightgray",
         "gridwidth": 1,
         "showgrid": true,
         "title": {
          "text": "ETH"
         },
         "zeroline": true,
         "zerolinecolor": "black",
         "zerolinewidth": 1
        },
        "yaxis7": {
         "anchor": "x7",
         "domain": [
          0,
          0.07428571428571429
         ],
         "gridcolor": "lightgray",
         "gridwidth": 1,
         "showgrid": true,
         "zeroline": true,
         "zerolinecolor": "black",
         "zerolinewidth": 1
        }
       }
      }
     },
     "metadata": {},
     "output_type": "display_data"
    }
   ],
   "source": [
    "from v2_rebalance_dashboard.get_rebalance_events_summary import fetch_clean_rebalance_events\n",
    "\n",
    "fig = fetch_clean_rebalance_events()\n",
    "\n",
    "fig.show()"
   ]
  },
  {
   "cell_type": "code",
   "execution_count": null,
   "metadata": {},
   "outputs": [],
   "source": []
  }
 ],
 "metadata": {
  "kernelspec": {
   "display_name": ".venv",
   "language": "python",
   "name": "python3"
  },
  "language_info": {
   "codemirror_mode": {
    "name": "ipython",
    "version": 3
   },
   "file_extension": ".py",
   "mimetype": "text/x-python",
   "name": "python",
   "nbconvert_exporter": "python",
   "pygments_lexer": "ipython3",
   "version": "3.10.14"
  }
 },
 "nbformat": 4,
 "nbformat_minor": 2
}
