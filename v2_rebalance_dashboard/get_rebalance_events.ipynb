{
 "cells": [
  {
   "cell_type": "code",
   "execution_count": 1,
   "metadata": {},
   "outputs": [
    {
     "name": "stderr",
     "output_type": "stream",
     "text": [
      "2024-09-12 12:40:26.575 WARNING streamlit.runtime.caching.cache_data_api: No runtime found, using MemoryCacheStorageManager\n"
     ]
    },
    {
     "data": {
      "text/plain": [
       "hash                                                                gasCostInETH        \n",
       "0x0d97b1369f57fe23854c23a2f08e1527dd49091bf0c46546ded3d4cc17c650b2  0.01526315324297283     1\n",
       "0x14eb873237f31dd8541faf72ca6ede85b7ffc93c4df3e4b38f5b55a0c2104a66  0.062384408955027523    1\n",
       "0x16c7cbfc0edad7da948b08f2ee4a0c13bc76b5f7aca3f10a56e89fab0b3981df  0.09470288538807416     1\n",
       "0x8db4893d9242ce6603ca86266f3de2f7333bb807c68ca72d82334042a50284f3  0.02236818463342308     1\n",
       "0xeea76a67b239aba51056e37adecc62158169d484f643f8f12c1ee997ca4379dc  0.022434169096312662    1\n",
       "Name: count, dtype: int64"
      ]
     },
     "execution_count": 1,
     "metadata": {},
     "output_type": "execute_result"
    }
   ],
   "source": [
    "from v2_rebalance_dashboard.get_rebalance_events_summary import _fetch_rebalance_events_df, eth_client\n",
    "\n",
    "\n",
    "clean_rebalance_df = _fetch_rebalance_events_df()\n",
    "clean_rebalance_df[[\"hash\", \"gasCostInETH\"]].value_counts()"
   ]
  },
  {
   "cell_type": "code",
   "execution_count": 13,
   "metadata": {},
   "outputs": [
    {
     "data": {
      "text/html": [
       "<div>\n",
       "<style scoped>\n",
       "    .dataframe tbody tr th:only-of-type {\n",
       "        vertical-align: middle;\n",
       "    }\n",
       "\n",
       "    .dataframe tbody tr th {\n",
       "        vertical-align: top;\n",
       "    }\n",
       "\n",
       "    .dataframe thead th {\n",
       "        text-align: right;\n",
       "    }\n",
       "</style>\n",
       "<table border=\"1\" class=\"dataframe\">\n",
       "  <thead>\n",
       "    <tr style=\"text-align: right;\">\n",
       "      <th></th>\n",
       "      <th>solver_profit</th>\n",
       "      <th>outEthValue</th>\n",
       "      <th>hash</th>\n",
       "      <th>gasCostInETH</th>\n",
       "      <th>profit_after_gas_cost</th>\n",
       "    </tr>\n",
       "  </thead>\n",
       "  <tbody>\n",
       "    <tr>\n",
       "      <th>0</th>\n",
       "      <td>0.003000</td>\n",
       "      <td>60.000000</td>\n",
       "      <td>0x16c7cbfc0edad7da948b08f2ee4a0c13bc76b5f7aca3...</td>\n",
       "      <td>0.09470288538807416</td>\n",
       "      <td>-0.091703</td>\n",
       "    </tr>\n",
       "    <tr>\n",
       "      <th>1</th>\n",
       "      <td>-0.003599</td>\n",
       "      <td>20.418153</td>\n",
       "      <td>0x8db4893d9242ce6603ca86266f3de2f7333bb807c68c...</td>\n",
       "      <td>0.02236818463342308</td>\n",
       "      <td>-0.025967</td>\n",
       "    </tr>\n",
       "    <tr>\n",
       "      <th>2</th>\n",
       "      <td>0.009928</td>\n",
       "      <td>59.926734</td>\n",
       "      <td>0x14eb873237f31dd8541faf72ca6ede85b7ffc93c4df3...</td>\n",
       "      <td>0.062384408955027523</td>\n",
       "      <td>-0.052456</td>\n",
       "    </tr>\n",
       "    <tr>\n",
       "      <th>3</th>\n",
       "      <td>0.000725</td>\n",
       "      <td>80.421742</td>\n",
       "      <td>0x0d97b1369f57fe23854c23a2f08e1527dd49091bf0c4...</td>\n",
       "      <td>0.01526315324297283</td>\n",
       "      <td>-0.014538</td>\n",
       "    </tr>\n",
       "    <tr>\n",
       "      <th>4</th>\n",
       "      <td>0.008858</td>\n",
       "      <td>80.599076</td>\n",
       "      <td>0xeea76a67b239aba51056e37adecc62158169d484f643...</td>\n",
       "      <td>0.022434169096312662</td>\n",
       "      <td>-0.013576</td>\n",
       "    </tr>\n",
       "  </tbody>\n",
       "</table>\n",
       "</div>"
      ],
      "text/plain": [
       "   solver_profit  outEthValue  \\\n",
       "0       0.003000    60.000000   \n",
       "1      -0.003599    20.418153   \n",
       "2       0.009928    59.926734   \n",
       "3       0.000725    80.421742   \n",
       "4       0.008858    80.599076   \n",
       "\n",
       "                                                hash          gasCostInETH  \\\n",
       "0  0x16c7cbfc0edad7da948b08f2ee4a0c13bc76b5f7aca3...   0.09470288538807416   \n",
       "1  0x8db4893d9242ce6603ca86266f3de2f7333bb807c68c...   0.02236818463342308   \n",
       "2  0x14eb873237f31dd8541faf72ca6ede85b7ffc93c4df3...  0.062384408955027523   \n",
       "3  0x0d97b1369f57fe23854c23a2f08e1527dd49091bf0c4...   0.01526315324297283   \n",
       "4  0xeea76a67b239aba51056e37adecc62158169d484f643...  0.022434169096312662   \n",
       "\n",
       "   profit_after_gas_cost  \n",
       "0              -0.091703  \n",
       "1              -0.025967  \n",
       "2              -0.052456  \n",
       "3              -0.014538  \n",
       "4              -0.013576  "
      ]
     },
     "execution_count": 13,
     "metadata": {},
     "output_type": "execute_result"
    }
   ],
   "source": [
    "clean_rebalance_df[\"profit_after_gas_cost\"] = clean_rebalance_df[\"solver_profit\"] - clean_rebalance_df[\n",
    "    \"gasCostInETH\"\n",
    "].astype(float)\n",
    "clean_rebalance_df[[\"solver_profit\", \"outEthValue\", \"hash\", \"gasCostInETH\", \"profit_after_gas_cost\"]]"
   ]
  },
  {
   "cell_type": "code",
   "execution_count": 14,
   "metadata": {},
   "outputs": [
    {
     "data": {
      "text/plain": [
       "solver_profit                                                     0.018913\n",
       "outEthValue                                                     301.365704\n",
       "hash                     0x16c7cbfc0edad7da948b08f2ee4a0c13bc76b5f7aca3...\n",
       "gasCostInETH                                          0.217152801315810255\n",
       "profit_after_gas_cost                                            -0.198239\n",
       "dtype: object"
      ]
     },
     "execution_count": 14,
     "metadata": {},
     "output_type": "execute_result"
    }
   ],
   "source": [
    "clean_rebalance_df[[\"solver_profit\", \"outEthValue\", \"hash\", \"gasCostInETH\", \"profit_after_gas_cost\"]].sum()"
   ]
  },
  {
   "cell_type": "code",
   "execution_count": 5,
   "metadata": {},
   "outputs": [
    {
     "data": {
      "text/plain": [
       "0    0.000050\n",
       "1   -0.000176\n",
       "2    0.000166\n",
       "3    0.000009\n",
       "4    0.000110\n",
       "dtype: float64"
      ]
     },
     "execution_count": 5,
     "metadata": {},
     "output_type": "execute_result"
    }
   ],
   "source": [
    "clean_rebalance_df[\"solver_profit\"] / clean_rebalance_df[\"outEthValue\"]"
   ]
  },
  {
   "cell_type": "code",
   "execution_count": 6,
   "metadata": {},
   "outputs": [
    {
     "data": {
      "text/plain": [
       "np.float64(0.018913341953537346)"
      ]
     },
     "execution_count": 6,
     "metadata": {},
     "output_type": "execute_result"
    }
   ],
   "source": [
    "clean_rebalance_df[\"solver_profit\"].sum()"
   ]
  },
  {
   "cell_type": "code",
   "execution_count": 7,
   "metadata": {},
   "outputs": [
    {
     "data": {
      "text/plain": [
       "np.float64(301.36570444924473)"
      ]
     },
     "execution_count": 7,
     "metadata": {},
     "output_type": "execute_result"
    }
   ],
   "source": [
    "clean_rebalance_df[\"outEthValue\"].sum()"
   ]
  },
  {
   "cell_type": "code",
   "execution_count": 8,
   "metadata": {},
   "outputs": [
    {
     "data": {
      "text/plain": [
       "np.float64(0.018913341953537346)"
      ]
     },
     "execution_count": 8,
     "metadata": {},
     "output_type": "execute_result"
    }
   ],
   "source": [
    "clean_rebalance_df[\"solver_profit\"].sum()"
   ]
  },
  {
   "cell_type": "code",
   "execution_count": 9,
   "metadata": {},
   "outputs": [
    {
     "data": {
      "text/plain": [
       "hash                                                                gasCostInETH        \n",
       "0x0d97b1369f57fe23854c23a2f08e1527dd49091bf0c46546ded3d4cc17c650b2  0.01526315324297283     1\n",
       "0x14eb873237f31dd8541faf72ca6ede85b7ffc93c4df3e4b38f5b55a0c2104a66  0.062384408955027523    1\n",
       "0x16c7cbfc0edad7da948b08f2ee4a0c13bc76b5f7aca3f10a56e89fab0b3981df  0.09470288538807416     1\n",
       "0x8db4893d9242ce6603ca86266f3de2f7333bb807c68ca72d82334042a50284f3  0.02236818463342308     1\n",
       "0xeea76a67b239aba51056e37adecc62158169d484f643f8f12c1ee997ca4379dc  0.022434169096312662    1\n",
       "Name: count, dtype: int64"
      ]
     },
     "execution_count": 9,
     "metadata": {},
     "output_type": "execute_result"
    }
   ],
   "source": [
    "clean_rebalance_df[[\"hash\", \"gasCostInETH\"]].value_counts()"
   ]
  },
  {
   "cell_type": "code",
   "execution_count": 10,
   "metadata": {},
   "outputs": [
    {
     "name": "stderr",
     "output_type": "stream",
     "text": [
      "2024-09-12 12:40:30.353 WARNING streamlit.runtime.scriptrunner_utils.script_run_context: Thread 'MainThread': missing ScriptRunContext! This warning can be ignored when running in bare mode.\n",
      "2024-09-12 12:40:30.517 \n",
      "  \u001b[33m\u001b[1mWarning:\u001b[0m to view this Streamlit app on a browser, run it with the following\n",
      "  command:\n",
      "\n",
      "    streamlit run /home/parker/Documents/Tokemak/v2-rebalance-dashboard/.venv/lib/python3.10/site-packages/ipykernel_launcher.py [ARGUMENTS]\n",
      "2024-09-12 12:40:30.517 Thread 'MainThread': missing ScriptRunContext! This warning can be ignored when running in bare mode.\n",
      "2024-09-12 12:40:30.518 Thread 'MainThread': missing ScriptRunContext! This warning can be ignored when running in bare mode.\n",
      "2024-09-12 12:40:30.519 No runtime found, using MemoryCacheStorageManager\n",
      "2024-09-12 12:40:31.019 Thread 'Thread-5': missing ScriptRunContext! This warning can be ignored when running in bare mode.\n",
      "2024-09-12 12:40:31.020 Thread 'Thread-5': missing ScriptRunContext! This warning can be ignored when running in bare mode.\n",
      "2024-09-12 12:40:33.585 Thread 'MainThread': missing ScriptRunContext! This warning can be ignored when running in bare mode.\n",
      "2024-09-12 12:40:33.585 Thread 'MainThread': missing ScriptRunContext! This warning can be ignored when running in bare mode.\n"
     ]
    },
    {
     "data": {
      "application/vnd.plotly.v1+json": {
       "config": {
        "plotlyServerURL": "https://plot.ly"
       },
       "data": [
        {
         "name": "Out Composite Return",
         "type": "bar",
         "x": [
          "2024-07-17T16:22:11",
          "2024-08-07T18:16:35",
          "2024-08-08T13:38:59",
          "2024-08-17T01:39:59",
          "2024-08-23T16:39:47"
         ],
         "xaxis": "x",
         "y": [
          0,
          0,
          9.6889802874503,
          6.314949253640553,
          8.214074079517284
         ],
         "yaxis": "y"
        },
        {
         "name": "In Composite Return",
         "type": "bar",
         "x": [
          "2024-07-17T16:22:11",
          "2024-08-07T18:16:35",
          "2024-08-08T13:38:59",
          "2024-08-17T01:39:59",
          "2024-08-23T16:39:47"
         ],
         "xaxis": "x",
         "y": [
          10.819212110527916,
          11.33233078075143,
          10.356985844295162,
          7.489084561020561,
          9.818866150090912
         ],
         "yaxis": "y"
        },
        {
         "name": "Out ETH Value",
         "type": "bar",
         "x": [
          "2024-07-17T16:22:11",
          "2024-08-07T18:16:35",
          "2024-08-08T13:38:59",
          "2024-08-17T01:39:59",
          "2024-08-23T16:39:47"
         ],
         "xaxis": "x2",
         "y": [
          60.0000000000001,
          20.418152734840394,
          59.9267336138592,
          80.42174223799144,
          80.59907586255362
         ],
         "yaxis": "y2"
        },
        {
         "name": "In ETH Value",
         "type": "bar",
         "x": [
          "2024-07-17T16:22:11",
          "2024-08-07T18:16:35",
          "2024-08-08T13:38:59",
          "2024-08-17T01:39:59",
          "2024-08-23T16:39:47"
         ],
         "xaxis": "x2",
         "y": [
          59.78600594950242,
          20.401194654884442,
          59.871057953988725,
          80.30964870001023,
          80.52471328167303
         ],
         "yaxis": "y2"
        },
        {
         "name": "Predicted Gain",
         "type": "bar",
         "x": [
          "2024-07-17T16:22:11",
          "2024-08-07T18:16:35",
          "2024-08-08T13:38:59",
          "2024-08-17T01:39:59",
          "2024-08-23T16:39:47"
         ],
         "xaxis": "x3",
         "y": [
          1.063294487028412,
          0.3800434292903811,
          0.06485713814214124,
          0.15384086968430882,
          0.21142126292309035
         ],
         "yaxis": "y3"
        },
        {
         "name": "Swap Cost",
         "type": "bar",
         "x": [
          "2024-07-17T16:22:11",
          "2024-08-07T18:16:35",
          "2024-08-08T13:38:59",
          "2024-08-17T01:39:59",
          "2024-08-23T16:39:47"
         ],
         "xaxis": "x3",
         "y": [
          0.2139940504976818,
          0.016958079955951878,
          0.055675659870478705,
          0.11209353798120351,
          0.07436258088058145
         ],
         "yaxis": "y3"
        },
        {
         "name": "Swap Cost Percentage",
         "type": "bar",
         "x": [
          "2024-07-17T16:22:11",
          "2024-08-07T18:16:35",
          "2024-08-08T13:38:59",
          "2024-08-17T01:39:59",
          "2024-08-23T16:39:47"
         ],
         "xaxis": "x4",
         "y": [
          0.35665675082946896,
          0.0830539382096773,
          0.0929062148276385,
          0.1393821308291058,
          0.0922623244556707
         ],
         "yaxis": "y4"
        },
        {
         "name": "Break Even Days",
         "type": "bar",
         "x": [
          "2024-07-17T16:22:11",
          "2024-08-07T18:16:35",
          "2024-08-08T13:38:59",
          "2024-08-17T01:39:59",
          "2024-08-23T16:39:47"
         ],
         "xaxis": "x5",
         "y": [
          12.075340544409146,
          2.6772855914308664,
          51.50612080520078,
          43.7179813964494,
          21.10362406858746
         ],
         "yaxis": "y5"
        },
        {
         "name": "Offset Period",
         "type": "bar",
         "x": [
          "2024-07-17T16:22:11",
          "2024-08-07T18:16:35",
          "2024-08-08T13:38:59",
          "2024-08-17T01:39:59",
          "2024-08-23T16:39:47"
         ],
         "xaxis": "x5",
         "y": [
          60,
          60,
          60,
          60,
          60
         ],
         "yaxis": "y5"
        },
        {
         "name": "Solver Profit",
         "type": "bar",
         "x": [
          "2024-07-17T16:22:11",
          "2024-08-07T18:16:35",
          "2024-08-08T13:38:59",
          "2024-08-17T01:39:59",
          "2024-08-23T16:39:47"
         ],
         "xaxis": "x6",
         "y": [
          0.002999999999995904,
          -0.003598865215897992,
          0.009928317370975756,
          0.0007254380740843065,
          0.008858451724379372
         ],
         "yaxis": "y6"
        },
        {
         "name": "Solver Profit",
         "type": "bar",
         "x": [
          "2024-07-17T16:22:11",
          "2024-08-07T18:16:35",
          "2024-08-08T13:38:59",
          "2024-08-17T01:39:59",
          "2024-08-23T16:39:47"
         ],
         "xaxis": "x6",
         "y": [
          0.002999999999995904,
          -0.003598865215897992,
          0.009928317370975756,
          0.0007254380740843065,
          0.008858451724379372
         ],
         "yaxis": "y6"
        }
       ],
       "layout": {
        "annotations": [
         {
          "font": {
           "size": 16
          },
          "showarrow": false,
          "text": "Composite Returns",
          "x": 0.5,
          "xanchor": "center",
          "xref": "paper",
          "y": 1,
          "yanchor": "bottom",
          "yref": "paper"
         },
         {
          "font": {
           "size": 16
          },
          "showarrow": false,
          "text": "in/out ETH Values",
          "x": 0.5,
          "xanchor": "center",
          "xref": "paper",
          "y": 0.8457142857142858,
          "yanchor": "bottom",
          "yref": "paper"
         },
         {
          "font": {
           "size": 16
          },
          "showarrow": false,
          "text": "Swap Cost and Predicted Gain",
          "x": 0.5,
          "xanchor": "center",
          "xref": "paper",
          "y": 0.6914285714285715,
          "yanchor": "bottom",
          "yref": "paper"
         },
         {
          "font": {
           "size": 16
          },
          "showarrow": false,
          "text": "Swap Cost as Percentage of Out ETH Value",
          "x": 0.5,
          "xanchor": "center",
          "xref": "paper",
          "y": 0.5371428571428571,
          "yanchor": "bottom",
          "yref": "paper"
         },
         {
          "font": {
           "size": 16
          },
          "showarrow": false,
          "text": "Break Even Days and Offset Period",
          "x": 0.5,
          "xanchor": "center",
          "xref": "paper",
          "y": 0.3828571428571429,
          "yanchor": "bottom",
          "yref": "paper"
         },
         {
          "font": {
           "size": 16
          },
          "showarrow": false,
          "text": "Solver ETH Profit",
          "x": 0.5,
          "xanchor": "center",
          "xref": "paper",
          "y": 0.2285714285714286,
          "yanchor": "bottom",
          "yref": "paper"
         },
         {
          "font": {
           "size": 16
          },
          "showarrow": false,
          "text": "Solver gas Costs",
          "x": 0.5,
          "xanchor": "center",
          "xref": "paper",
          "y": 0.07428571428571429,
          "yanchor": "bottom",
          "yref": "paper"
         }
        ],
        "font": {
         "color": "black"
        },
        "height": 1600,
        "paper_bgcolor": "white",
        "plot_bgcolor": "white",
        "template": {
         "data": {
          "candlestick": [
           {
            "decreasing": {
             "line": {
              "color": "#000033"
             }
            },
            "increasing": {
             "line": {
              "color": "#000032"
             }
            },
            "type": "candlestick"
           }
          ],
          "contour": [
           {
            "colorscale": [
             [
              0,
              "#000011"
             ],
             [
              0.1111111111111111,
              "#000012"
             ],
             [
              0.2222222222222222,
              "#000013"
             ],
             [
              0.3333333333333333,
              "#000014"
             ],
             [
              0.4444444444444444,
              "#000015"
             ],
             [
              0.5555555555555556,
              "#000016"
             ],
             [
              0.6666666666666666,
              "#000017"
             ],
             [
              0.7777777777777778,
              "#000018"
             ],
             [
              0.8888888888888888,
              "#000019"
             ],
             [
              1,
              "#000020"
             ]
            ],
            "type": "contour"
           }
          ],
          "contourcarpet": [
           {
            "colorscale": [
             [
              0,
              "#000011"
             ],
             [
              0.1111111111111111,
              "#000012"
             ],
             [
              0.2222222222222222,
              "#000013"
             ],
             [
              0.3333333333333333,
              "#000014"
             ],
             [
              0.4444444444444444,
              "#000015"
             ],
             [
              0.5555555555555556,
              "#000016"
             ],
             [
              0.6666666666666666,
              "#000017"
             ],
             [
              0.7777777777777778,
              "#000018"
             ],
             [
              0.8888888888888888,
              "#000019"
             ],
             [
              1,
              "#000020"
             ]
            ],
            "type": "contourcarpet"
           }
          ],
          "heatmap": [
           {
            "colorscale": [
             [
              0,
              "#000011"
             ],
             [
              0.1111111111111111,
              "#000012"
             ],
             [
              0.2222222222222222,
              "#000013"
             ],
             [
              0.3333333333333333,
              "#000014"
             ],
             [
              0.4444444444444444,
              "#000015"
             ],
             [
              0.5555555555555556,
              "#000016"
             ],
             [
              0.6666666666666666,
              "#000017"
             ],
             [
              0.7777777777777778,
              "#000018"
             ],
             [
              0.8888888888888888,
              "#000019"
             ],
             [
              1,
              "#000020"
             ]
            ],
            "type": "heatmap"
           }
          ],
          "histogram2d": [
           {
            "colorscale": [
             [
              0,
              "#000011"
             ],
             [
              0.1111111111111111,
              "#000012"
             ],
             [
              0.2222222222222222,
              "#000013"
             ],
             [
              0.3333333333333333,
              "#000014"
             ],
             [
              0.4444444444444444,
              "#000015"
             ],
             [
              0.5555555555555556,
              "#000016"
             ],
             [
              0.6666666666666666,
              "#000017"
             ],
             [
              0.7777777777777778,
              "#000018"
             ],
             [
              0.8888888888888888,
              "#000019"
             ],
             [
              1,
              "#000020"
             ]
            ],
            "type": "histogram2d"
           }
          ],
          "icicle": [
           {
            "textfont": {
             "color": "white"
            },
            "type": "icicle"
           }
          ],
          "sankey": [
           {
            "textfont": {
             "color": "#000036"
            },
            "type": "sankey"
           }
          ],
          "scatter": [
           {
            "marker": {
             "line": {
              "width": 0
             }
            },
            "type": "scatter"
           }
          ],
          "table": [
           {
            "cells": {
             "fill": {
              "color": "#000038"
             },
             "font": {
              "color": "#000037"
             },
             "line": {
              "color": "#000039"
             }
            },
            "header": {
             "fill": {
              "color": "#000040"
             },
             "font": {
              "color": "#000036"
             },
             "line": {
              "color": "#000039"
             }
            },
            "type": "table"
           }
          ],
          "waterfall": [
           {
            "connector": {
             "line": {
              "color": "#000036",
              "width": 2
             }
            },
            "decreasing": {
             "marker": {
              "color": "#000033"
             }
            },
            "increasing": {
             "marker": {
              "color": "#000032"
             }
            },
            "totals": {
             "marker": {
              "color": "#000034"
             }
            },
            "type": "waterfall"
           }
          ]
         },
         "layout": {
          "coloraxis": {
           "colorscale": [
            [
             0,
             "#000011"
            ],
            [
             0.1111111111111111,
             "#000012"
            ],
            [
             0.2222222222222222,
             "#000013"
            ],
            [
             0.3333333333333333,
             "#000014"
            ],
            [
             0.4444444444444444,
             "#000015"
            ],
            [
             0.5555555555555556,
             "#000016"
            ],
            [
             0.6666666666666666,
             "#000017"
            ],
            [
             0.7777777777777778,
             "#000018"
            ],
            [
             0.8888888888888888,
             "#000019"
            ],
            [
             1,
             "#000020"
            ]
           ]
          },
          "colorscale": {
           "diverging": [
            [
             0,
             "#000021"
            ],
            [
             0.1,
             "#000022"
            ],
            [
             0.2,
             "#000023"
            ],
            [
             0.3,
             "#000024"
            ],
            [
             0.4,
             "#000025"
            ],
            [
             0.5,
             "#000026"
            ],
            [
             0.6,
             "#000027"
            ],
            [
             0.7,
             "#000028"
            ],
            [
             0.8,
             "#000029"
            ],
            [
             0.9,
             "#000030"
            ],
            [
             1,
             "#000031"
            ]
           ],
           "sequential": [
            [
             0,
             "#000011"
            ],
            [
             0.1111111111111111,
             "#000012"
            ],
            [
             0.2222222222222222,
             "#000013"
            ],
            [
             0.3333333333333333,
             "#000014"
            ],
            [
             0.4444444444444444,
             "#000015"
            ],
            [
             0.5555555555555556,
             "#000016"
            ],
            [
             0.6666666666666666,
             "#000017"
            ],
            [
             0.7777777777777778,
             "#000018"
            ],
            [
             0.8888888888888888,
             "#000019"
            ],
            [
             1,
             "#000020"
            ]
           ],
           "sequentialminus": [
            [
             0,
             "#000011"
            ],
            [
             0.1111111111111111,
             "#000012"
            ],
            [
             0.2222222222222222,
             "#000013"
            ],
            [
             0.3333333333333333,
             "#000014"
            ],
            [
             0.4444444444444444,
             "#000015"
            ],
            [
             0.5555555555555556,
             "#000016"
            ],
            [
             0.6666666666666666,
             "#000017"
            ],
            [
             0.7777777777777778,
             "#000018"
            ],
            [
             0.8888888888888888,
             "#000019"
            ],
            [
             1,
             "#000020"
            ]
           ]
          },
          "colorway": [
           "#000001",
           "#000002",
           "#000003",
           "#000004",
           "#000005",
           "#000006",
           "#000007",
           "#000008",
           "#000009",
           "#000010"
          ]
         }
        },
        "title": {
         "text": ""
        },
        "width": 1000,
        "xaxis": {
         "anchor": "y",
         "domain": [
          0,
          1
         ],
         "matches": "x7",
         "showticklabels": false
        },
        "xaxis2": {
         "anchor": "y2",
         "domain": [
          0,
          1
         ],
         "matches": "x7",
         "showticklabels": false
        },
        "xaxis3": {
         "anchor": "y3",
         "domain": [
          0,
          1
         ],
         "matches": "x7",
         "showticklabels": false
        },
        "xaxis4": {
         "anchor": "y4",
         "domain": [
          0,
          1
         ],
         "matches": "x7",
         "showticklabels": false
        },
        "xaxis5": {
         "anchor": "y5",
         "domain": [
          0,
          1
         ],
         "gridcolor": "lightgray",
         "gridwidth": 1,
         "matches": "x7",
         "showgrid": true,
         "showticklabels": false,
         "title": {
          "text": "Date"
         },
         "zeroline": true,
         "zerolinecolor": "black",
         "zerolinewidth": 1
        },
        "xaxis6": {
         "anchor": "y6",
         "domain": [
          0,
          1
         ],
         "matches": "x7",
         "showticklabels": false
        },
        "xaxis7": {
         "anchor": "y7",
         "domain": [
          0,
          1
         ]
        },
        "yaxis": {
         "anchor": "x",
         "domain": [
          0.9257142857142857,
          1
         ],
         "gridcolor": "lightgray",
         "gridwidth": 1,
         "showgrid": true,
         "title": {
          "text": "Return (%)"
         },
         "zeroline": true,
         "zerolinecolor": "black",
         "zerolinewidth": 1
        },
        "yaxis2": {
         "anchor": "x2",
         "domain": [
          0.7714285714285715,
          0.8457142857142858
         ],
         "gridcolor": "lightgray",
         "gridwidth": 1,
         "showgrid": true,
         "title": {
          "text": "ETH"
         },
         "zeroline": true,
         "zerolinecolor": "black",
         "zerolinewidth": 1
        },
        "yaxis3": {
         "anchor": "x3",
         "domain": [
          0.6171428571428572,
          0.6914285714285715
         ],
         "gridcolor": "lightgray",
         "gridwidth": 1,
         "showgrid": true,
         "title": {
          "text": "ETH"
         },
         "zeroline": true,
         "zerolinecolor": "black",
         "zerolinewidth": 1
        },
        "yaxis4": {
         "anchor": "x4",
         "domain": [
          0.46285714285714286,
          0.5371428571428571
         ],
         "gridcolor": "lightgray",
         "gridwidth": 1,
         "showgrid": true,
         "title": {
          "text": "Swap Cost (%)"
         },
         "zeroline": true,
         "zerolinecolor": "black",
         "zerolinewidth": 1
        },
        "yaxis5": {
         "anchor": "x5",
         "domain": [
          0.3085714285714286,
          0.3828571428571429
         ],
         "gridcolor": "lightgray",
         "gridwidth": 1,
         "showgrid": true,
         "title": {
          "text": "Days"
         },
         "zeroline": true,
         "zerolinecolor": "black",
         "zerolinewidth": 1
        },
        "yaxis6": {
         "anchor": "x6",
         "domain": [
          0.1542857142857143,
          0.2285714285714286
         ],
         "gridcolor": "lightgray",
         "gridwidth": 1,
         "showgrid": true,
         "title": {
          "text": "ETH"
         },
         "zeroline": true,
         "zerolinecolor": "black",
         "zerolinewidth": 1
        },
        "yaxis7": {
         "anchor": "x7",
         "domain": [
          0,
          0.07428571428571429
         ],
         "gridcolor": "lightgray",
         "gridwidth": 1,
         "showgrid": true,
         "zeroline": true,
         "zerolinecolor": "black",
         "zerolinewidth": 1
        }
       }
      }
     },
     "metadata": {},
     "output_type": "display_data"
    }
   ],
   "source": [
    "from v2_rebalance_dashboard.get_rebalance_events_summary import fetch_clean_rebalance_events\n",
    "\n",
    "fig = fetch_clean_rebalance_events()\n",
    "\n",
    "fig.show()"
   ]
  },
  {
   "cell_type": "code",
   "execution_count": null,
   "metadata": {},
   "outputs": [],
   "source": []
  }
 ],
 "metadata": {
  "kernelspec": {
   "display_name": ".venv",
   "language": "python",
   "name": "python3"
  },
  "language_info": {
   "codemirror_mode": {
    "name": "ipython",
    "version": 3
   },
   "file_extension": ".py",
   "mimetype": "text/x-python",
   "name": "python",
   "nbconvert_exporter": "python",
   "pygments_lexer": "ipython3",
   "version": "3.10.14"
  }
 },
 "nbformat": 4,
 "nbformat_minor": 2
}
